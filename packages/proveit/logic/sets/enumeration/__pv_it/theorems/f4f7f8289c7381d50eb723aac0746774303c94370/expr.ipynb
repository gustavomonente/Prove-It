{
 "cells": [
  {
   "cell_type": "markdown",
   "metadata": {},
   "source": [
    "Expression of type <a class=\"ProveItLink\" href=\"../../../../../../../../doc/html/api/proveit.Lambda.html\">Lambda</a>\n",
    "=======================\n",
    "# from the theory of <a class=\"ProveItLink\" href=\"../../../_theory_nbs_/theory.ipynb\">proveit.logic.sets.enumeration</a>"
   ]
  },
  {
   "cell_type": "code",
   "execution_count": 1,
   "metadata": {},
   "outputs": [],
   "source": [
    "import proveit\n",
    "# Automation is not needed when building an expression:\n",
    "proveit.defaults.automation = False # This will speed things up.\n",
    "proveit.defaults.inline_pngs = False # Makes files smaller.\n",
    "%load_expr # Load the stored expression as 'stored_expr'\n",
    "# import Expression classes needed to build the expression\n",
    "from proveit import Conditional, ExprRange, Function, IndexedVar, Lambda, P, Px, a, k, n, x\n",
    "from proveit.core_expr_types import a_1_to_n\n",
    "from proveit.logic import Equals, FALSE, Forall, InSet, Or, Set\n",
    "from proveit.numbers import Natural, one"
   ]
  },
  {
   "cell_type": "code",
   "execution_count": 2,
   "metadata": {},
   "outputs": [
    {
     "data": {
      "text/html": [
       "<strong id=\"expr\">expr:</strong> <a class=\"ProveItLink\" href=\"expr.ipynb\"><img src=\"expr.png\" style=\"display:inline;vertical-align:middle;\" /></a><br>"
      ],
      "text/plain": [
       "expr: n -> {forall_{a_{1}, ..a_{_a}.., a_{n}} [forall_{P} (((P(a_{1}) = FALSE) or ..(P(a_{k}) = FALSE).. or (P(a_{n}) = FALSE)) = ([forall_{x in {a_{1}, ..a_{_a}.., a_{n}}} P(x)] = FALSE))] if n in Natural."
      ]
     },
     "execution_count": 2,
     "metadata": {},
     "output_type": "execute_result"
    }
   ],
   "source": [
    "# build up the expression from sub-expressions\n",
    "expr = Lambda(n, Conditional(Forall([a_1_to_n], Forall([P], Equals(Or(ExprRange(k, Equals(Function(P, [IndexedVar(a, k)]), FALSE), one, n)), Equals(Forall([x], Px, domains = [Set(a_1_to_n)]), FALSE)))), InSet(n, Natural)))"
   ]
  },
  {
   "cell_type": "code",
   "execution_count": 3,
   "metadata": {},
   "outputs": [
    {
     "name": "stdout",
     "output_type": "stream",
     "text": [
      "Passed sanity check: expr matches stored_expr\n"
     ]
    }
   ],
   "source": [
    "# check that the built expression is the same as the stored expression\n",
    "assert expr == stored_expr\n",
    "assert expr._style_id == stored_expr._style_id\n",
    "print(\"Passed sanity check: expr matches stored_expr\")"
   ]
  },
  {
   "cell_type": "code",
   "execution_count": 4,
   "metadata": {},
   "outputs": [
    {
     "name": "stdout",
     "output_type": "stream",
     "text": [
      "n \\mapsto \\left\\{\\forall_{a_{1}, \\ldots, a_{n}}~\\left[\\forall_{P}~\\left(\\left(\\left(P(a_{1}) = \\bot\\right) \\lor \\ldots \\lor \\left(P(a_{n}) = \\bot\\right)\\right) = \\left(\\left[\\forall_{x \\in \\left\\{a_{1}, \\ldots, a_{n}\\right\\}}~P(x)\\right] = \\bot\\right)\\right)\\right] \\textrm{ if } n \\in \\mathbb{N}\\right..\n"
     ]
    }
   ],
   "source": [
    "# Show the LaTeX representation of the expression for convenience if you need it.\n",
    "print(expr.latex())"
   ]
  },
  {
   "cell_type": "code",
   "execution_count": 5,
   "metadata": {},
   "outputs": [
    {
     "data": {
      "text/html": [
       "no style options"
      ],
      "text/plain": [
       "no style options"
      ]
     },
     "execution_count": 5,
     "metadata": {},
     "output_type": "execute_result"
    }
   ],
   "source": [
    "expr.style_options()"
   ]
  },
  {
   "cell_type": "code",
   "execution_count": 6,
   "metadata": {},
   "outputs": [
    {
     "data": {
      "text/html": [
       "<table><tr><th>&nbsp;</th><th>core type</th><th>sub-expressions</th><th>expression</th></tr>\n",
       "<tr><td>0</td><td>Lambda</td><td>parameter:&nbsp;47<br>body:&nbsp;1<br></td><td><a class=\"ProveItLink\" href=\"expr.ipynb\"><img src=\"expr.png\" style=\"display:inline;vertical-align:middle;\" /></a></td></tr>\n",
       "<tr><td>1</td><td>Conditional</td><td>value:&nbsp;2<br>condition:&nbsp;3<br></td><td><a class=\"ProveItLink\" href=\"../444b107a7b74f97639daae86aab3182c413586eb0/expr.ipynb\"><img src=\"../444b107a7b74f97639daae86aab3182c413586eb0/expr.png\" style=\"display:inline;vertical-align:middle;\" /></a></td></tr>\n",
       "<tr><td>2</td><td>Operation</td><td>operator:&nbsp;21<br>operand:&nbsp;6<br></td><td><a class=\"ProveItLink\" href=\"../a2c7a27dd1557bad63188dfee4e443430fef833a0/expr.ipynb\"><img src=\"../a2c7a27dd1557bad63188dfee4e443430fef833a0/expr.png\" style=\"display:inline;vertical-align:middle;\" /></a></td></tr>\n",
       "<tr><td>3</td><td>Operation</td><td>operator:&nbsp;35<br>operands:&nbsp;5<br></td><td><a class=\"ProveItLink\" href=\"../e3c5b209faa86f1e812d35da64c9d9b711de675d0/expr.ipynb\"><img src=\"../e3c5b209faa86f1e812d35da64c9d9b711de675d0/expr.png\" style=\"display:inline;vertical-align:middle;\" /></a></td></tr>\n",
       "<tr><td>4</td><td>ExprTuple</td><td>6</td><td><a class=\"ProveItLink\" href=\"../274d53df591d67d257f2aabd3860ed50f700ec200/expr.ipynb\"><img src=\"../274d53df591d67d257f2aabd3860ed50f700ec200/expr.png\" style=\"display:inline;vertical-align:middle;\" /></a></td></tr>\n",
       "<tr><td>5</td><td>ExprTuple</td><td>47, 7</td><td><a class=\"ProveItLink\" href=\"../248776733c2a8aa9cdfdf4f76f63a3d26b6d139d0/expr.ipynb\"><img src=\"../248776733c2a8aa9cdfdf4f76f63a3d26b6d139d0/expr.png\" style=\"display:inline;vertical-align:middle;\" /></a></td></tr>\n",
       "<tr><td>6</td><td>Lambda</td><td>parameters:&nbsp;42<br>body:&nbsp;8<br></td><td><a class=\"ProveItLink\" href=\"../0d48060dd39c26982050e4b2f00231715a6792f00/expr.ipynb\"><img src=\"../0d48060dd39c26982050e4b2f00231715a6792f00/expr.png\" style=\"display:inline;vertical-align:middle;\" /></a></td></tr>\n",
       "<tr><td>7</td><td>Literal</td><td></td><td><a class=\"ProveItLink\" href=\"../../../../../../numbers/number_sets/natural_numbers/__pv_it/common/85c8b43c90a7392ebb5459360d343dfa7c7408b50/expr.ipynb\"><img src=\"../../../../../../numbers/number_sets/natural_numbers/__pv_it/common/85c8b43c90a7392ebb5459360d343dfa7c7408b50/expr.png\" style=\"display:inline;vertical-align:middle;\" /></a></td></tr>\n",
       "<tr><td>8</td><td>Operation</td><td>operator:&nbsp;21<br>operand:&nbsp;10<br></td><td><a class=\"ProveItLink\" href=\"../5e6b7ee7c14fe03bb46d05574d79e16a97c8bbb40/expr.ipynb\"><img src=\"../5e6b7ee7c14fe03bb46d05574d79e16a97c8bbb40/expr.png\" style=\"display:inline;vertical-align:middle;\" /></a></td></tr>\n",
       "<tr><td>9</td><td>ExprTuple</td><td>10</td><td><a class=\"ProveItLink\" href=\"../aade6f7a762c7e39904f276941b6ca3918599a3e0/expr.ipynb\"><img src=\"../aade6f7a762c7e39904f276941b6ca3918599a3e0/expr.png\" style=\"display:inline;vertical-align:middle;\" /></a></td></tr>\n",
       "<tr><td>10</td><td>Lambda</td><td>parameter:&nbsp;33<br>body:&nbsp;11<br></td><td><a class=\"ProveItLink\" href=\"../f7f688e2555f3fa1425c9d68a4cda269d2145a360/expr.ipynb\"><img src=\"../f7f688e2555f3fa1425c9d68a4cda269d2145a360/expr.png\" style=\"display:inline;vertical-align:middle;\" /></a></td></tr>\n",
       "<tr><td>11</td><td>Operation</td><td>operator:&nbsp;25<br>operands:&nbsp;12<br></td><td><a class=\"ProveItLink\" href=\"../bd3ba137ce1b5661cfe4d8cba4841eb4ff8f95390/expr.ipynb\"><img src=\"../bd3ba137ce1b5661cfe4d8cba4841eb4ff8f95390/expr.png\" style=\"display:inline;vertical-align:middle;\" /></a></td></tr>\n",
       "<tr><td>12</td><td>ExprTuple</td><td>13, 14</td><td><a class=\"ProveItLink\" href=\"../9616ea60c8bb5129cbd9c7d586ca58585b4762830/expr.ipynb\"><img src=\"../9616ea60c8bb5129cbd9c7d586ca58585b4762830/expr.png\" style=\"display:inline;vertical-align:middle;\" /></a></td></tr>\n",
       "<tr><td>13</td><td>Operation</td><td>operator:&nbsp;15<br>operands:&nbsp;16<br></td><td><a class=\"ProveItLink\" href=\"../42c8cc97c584373483de5577e678fe0227f182440/expr.ipynb\"><img src=\"../42c8cc97c584373483de5577e678fe0227f182440/expr.png\" style=\"display:inline;vertical-align:middle;\" /></a></td></tr>\n",
       "<tr><td>14</td><td>Operation</td><td>operator:&nbsp;25<br>operands:&nbsp;17<br></td><td><a class=\"ProveItLink\" href=\"../166ff6fed178ea28de73d690366f736bea5dc2e60/expr.ipynb\"><img src=\"../166ff6fed178ea28de73d690366f736bea5dc2e60/expr.png\" style=\"display:inline;vertical-align:middle;\" /></a></td></tr>\n",
       "<tr><td>15</td><td>Literal</td><td></td><td><a class=\"ProveItLink\" href=\"../../../../../booleans/disjunction/__pv_it/common/0e5dcae3232d8ebdc0777b8ce92ce453a450f6c30/expr.ipynb\"><img src=\"../../../../../booleans/disjunction/__pv_it/common/0e5dcae3232d8ebdc0777b8ce92ce453a450f6c30/expr.png\" style=\"display:inline;vertical-align:middle;\" /></a></td></tr>\n",
       "<tr><td>16</td><td>ExprTuple</td><td>18</td><td><a class=\"ProveItLink\" href=\"../fd39c62bb0abad882d6d0a8b354942dd7cfd3d5f0/expr.ipynb\"><img src=\"../fd39c62bb0abad882d6d0a8b354942dd7cfd3d5f0/expr.png\" style=\"display:inline;vertical-align:middle;\" /></a></td></tr>\n",
       "<tr><td>17</td><td>ExprTuple</td><td>19, 29</td><td><a class=\"ProveItLink\" href=\"../aca8f8c234dc650b2823626b617ab2afa2fc0d490/expr.ipynb\"><img src=\"../aca8f8c234dc650b2823626b617ab2afa2fc0d490/expr.png\" style=\"display:inline;vertical-align:middle;\" /></a></td></tr>\n",
       "<tr><td>18</td><td>ExprRange</td><td>lambda_map:&nbsp;20<br>start_index:&nbsp;46<br>end_index:&nbsp;47<br></td><td><a class=\"ProveItLink\" href=\"../2584378a08e46ebb2bd4283873c2c057dfab93520/expr.ipynb\"><img src=\"../2584378a08e46ebb2bd4283873c2c057dfab93520/expr.png\" style=\"display:inline;vertical-align:middle;\" /></a></td></tr>\n",
       "<tr><td>19</td><td>Operation</td><td>operator:&nbsp;21<br>operand:&nbsp;24<br></td><td><a class=\"ProveItLink\" href=\"../d896578465edc2d1c052e0ac3207b1bcc882e74e0/expr.ipynb\"><img src=\"../d896578465edc2d1c052e0ac3207b1bcc882e74e0/expr.png\" style=\"display:inline;vertical-align:middle;\" /></a></td></tr>\n",
       "<tr><td>20</td><td>Lambda</td><td>parameter:&nbsp;43<br>body:&nbsp;23<br></td><td><a class=\"ProveItLink\" href=\"../e9c7c170b98fb890a82d3a132030dbc2995a62910/expr.ipynb\"><img src=\"../e9c7c170b98fb890a82d3a132030dbc2995a62910/expr.png\" style=\"display:inline;vertical-align:middle;\" /></a></td></tr>\n",
       "<tr><td>21</td><td>Literal</td><td></td><td><a class=\"ProveItLink\" href=\"../../../../../booleans/quantification/universality/__pv_it/common/684d35ba98fcbf8ca5011f865e530a51e77730630/expr.ipynb\"><img src=\"../../../../../booleans/quantification/universality/__pv_it/common/684d35ba98fcbf8ca5011f865e530a51e77730630/expr.png\" style=\"display:inline;vertical-align:middle;\" /></a></td></tr>\n",
       "<tr><td>22</td><td>ExprTuple</td><td>24</td><td><a class=\"ProveItLink\" href=\"../734c92e10fc2cb9ec26df873737bf4a22fbb37dd0/expr.ipynb\"><img src=\"../734c92e10fc2cb9ec26df873737bf4a22fbb37dd0/expr.png\" style=\"display:inline;vertical-align:middle;\" /></a></td></tr>\n",
       "<tr><td>23</td><td>Operation</td><td>operator:&nbsp;25<br>operands:&nbsp;26<br></td><td><a class=\"ProveItLink\" href=\"../b0b156dc77cf4b4748f02b7c10bcfb4a14a180a60/expr.ipynb\"><img src=\"../b0b156dc77cf4b4748f02b7c10bcfb4a14a180a60/expr.png\" style=\"display:inline;vertical-align:middle;\" /></a></td></tr>\n",
       "<tr><td>24</td><td>Lambda</td><td>parameter:&nbsp;38<br>body:&nbsp;27<br></td><td><a class=\"ProveItLink\" href=\"../b6d4b05249711aef76df643f1f0da43c807cbb8e0/expr.ipynb\"><img src=\"../b6d4b05249711aef76df643f1f0da43c807cbb8e0/expr.png\" style=\"display:inline;vertical-align:middle;\" /></a></td></tr>\n",
       "<tr><td>25</td><td>Literal</td><td></td><td><a class=\"ProveItLink\" href=\"../../../../../equality/__pv_it/common/731dd3955b346c1320ed5c0ba7a618bcda61457d0/expr.ipynb\"><img src=\"../../../../../equality/__pv_it/common/731dd3955b346c1320ed5c0ba7a618bcda61457d0/expr.png\" style=\"display:inline;vertical-align:middle;\" /></a></td></tr>\n",
       "<tr><td>26</td><td>ExprTuple</td><td>28, 29</td><td><a class=\"ProveItLink\" href=\"../90486777d84ae2c0ed6d9cdc849dae3666d2279b0/expr.ipynb\"><img src=\"../90486777d84ae2c0ed6d9cdc849dae3666d2279b0/expr.png\" style=\"display:inline;vertical-align:middle;\" /></a></td></tr>\n",
       "<tr><td>27</td><td>Conditional</td><td>value:&nbsp;30<br>condition:&nbsp;31<br></td><td><a class=\"ProveItLink\" href=\"../93fc82a0824ab12568d015cc02150cf658ed74df0/expr.ipynb\"><img src=\"../93fc82a0824ab12568d015cc02150cf658ed74df0/expr.png\" style=\"display:inline;vertical-align:middle;\" /></a></td></tr>\n",
       "<tr><td>28</td><td>Operation</td><td>operator:&nbsp;33<br>operand:&nbsp;37<br></td><td><a class=\"ProveItLink\" href=\"../../../../../../core_expr_types/__pv_it/common/fa1bc44decfa60ecf8b7c0df2733735c808053fe0/expr.ipynb\"><img src=\"../../../../../../core_expr_types/__pv_it/common/fa1bc44decfa60ecf8b7c0df2733735c808053fe0/expr.png\" style=\"display:inline;vertical-align:middle;\" /></a></td></tr>\n",
       "<tr><td>29</td><td>Literal</td><td></td><td><a class=\"ProveItLink\" href=\"../../../../../booleans/__pv_it/common/bc5c31e39ae582b67c89fb24025b57f5b995e8890/expr.ipynb\"><img src=\"../../../../../booleans/__pv_it/common/bc5c31e39ae582b67c89fb24025b57f5b995e8890/expr.png\" style=\"display:inline;vertical-align:middle;\" /></a></td></tr>\n",
       "<tr><td>30</td><td>Operation</td><td>operator:&nbsp;33<br>operand:&nbsp;38<br></td><td><a class=\"ProveItLink\" href=\"../../../../../../__pv_it/common/ed3ed03681b166b9fbefedb104a4f950026141260/expr.ipynb\"><img src=\"../../../../../../__pv_it/common/ed3ed03681b166b9fbefedb104a4f950026141260/expr.png\" style=\"display:inline;vertical-align:middle;\" /></a></td></tr>\n",
       "<tr><td>31</td><td>Operation</td><td>operator:&nbsp;35<br>operands:&nbsp;36<br></td><td><a class=\"ProveItLink\" href=\"../52b18e5766139585cbd434b541acfa10eecc07bc0/expr.ipynb\"><img src=\"../52b18e5766139585cbd434b541acfa10eecc07bc0/expr.png\" style=\"display:inline;vertical-align:middle;\" /></a></td></tr>\n",
       "<tr><td>32</td><td>ExprTuple</td><td>37</td><td><a class=\"ProveItLink\" href=\"../../../../../../core_expr_types/__pv_it/common/c4b8345e89bf92e3c38f3b438531cf77267c32e60/expr.ipynb\"><img src=\"../../../../../../core_expr_types/__pv_it/common/c4b8345e89bf92e3c38f3b438531cf77267c32e60/expr.png\" style=\"display:inline;vertical-align:middle;\" /></a></td></tr>\n",
       "<tr><td>33</td><td>Variable</td><td></td><td><a class=\"ProveItLink\" href=\"../../../../../../__pv_it/common/d5fc3066299847984076662ce51556220bdb6cfb0/expr.ipynb\"><img src=\"../../../../../../__pv_it/common/d5fc3066299847984076662ce51556220bdb6cfb0/expr.png\" style=\"display:inline;vertical-align:middle;\" /></a></td></tr>\n",
       "<tr><td>34</td><td>ExprTuple</td><td>38</td><td><a class=\"ProveItLink\" href=\"../../../../../../__pv_it/common/a49c8f25f899a16b1dbcf2257505d5464a9a7bb50/expr.ipynb\"><img src=\"../../../../../../__pv_it/common/a49c8f25f899a16b1dbcf2257505d5464a9a7bb50/expr.png\" style=\"display:inline;vertical-align:middle;\" /></a></td></tr>\n",
       "<tr><td>35</td><td>Literal</td><td></td><td><a class=\"ProveItLink\" href=\"../../../../membership/__pv_it/common/7171deca84f71f47a6ec7696972d1632274a12880/expr.ipynb\"><img src=\"../../../../membership/__pv_it/common/7171deca84f71f47a6ec7696972d1632274a12880/expr.png\" style=\"display:inline;vertical-align:middle;\" /></a></td></tr>\n",
       "<tr><td>36</td><td>ExprTuple</td><td>38, 39</td><td><a class=\"ProveItLink\" href=\"../968a3d7a80ba3871f2d347d8511130a7b102148a0/expr.ipynb\"><img src=\"../968a3d7a80ba3871f2d347d8511130a7b102148a0/expr.png\" style=\"display:inline;vertical-align:middle;\" /></a></td></tr>\n",
       "<tr><td>37</td><td>IndexedVar</td><td>variable:&nbsp;49<br>index:&nbsp;43<br></td><td><a class=\"ProveItLink\" href=\"../../../../../../core_expr_types/__pv_it/common/910ff783c5bd10af92c87a24c4fec49ec6529c750/expr.ipynb\"><img src=\"../../../../../../core_expr_types/__pv_it/common/910ff783c5bd10af92c87a24c4fec49ec6529c750/expr.png\" style=\"display:inline;vertical-align:middle;\" /></a></td></tr>\n",
       "<tr><td>38</td><td>Variable</td><td></td><td><a class=\"ProveItLink\" href=\"../../../../../../__pv_it/common/a2581dc5df71d9a30bad37de14965fa5fec97a240/expr.ipynb\"><img src=\"../../../../../../__pv_it/common/a2581dc5df71d9a30bad37de14965fa5fec97a240/expr.png\" style=\"display:inline;vertical-align:middle;\" /></a></td></tr>\n",
       "<tr><td>39</td><td>Operation</td><td>operator:&nbsp;41<br>operands:&nbsp;42<br></td><td><a class=\"ProveItLink\" href=\"../87c50483abef44405eac4a700805a1d531107a9b0/expr.ipynb\"><img src=\"../87c50483abef44405eac4a700805a1d531107a9b0/expr.png\" style=\"display:inline;vertical-align:middle;\" /></a></td></tr>\n",
       "<tr><td>40</td><td>ExprTuple</td><td>43</td><td><a class=\"ProveItLink\" href=\"../../../../../../__pv_it/common/797070a9ef2f9957a44157444d93fbe100e2d7430/expr.ipynb\"><img src=\"../../../../../../__pv_it/common/797070a9ef2f9957a44157444d93fbe100e2d7430/expr.png\" style=\"display:inline;vertical-align:middle;\" /></a></td></tr>\n",
       "<tr><td>41</td><td>Literal</td><td></td><td><a class=\"ProveItLink\" href=\"../../common/f7caf702081f903a6ea3d95d680568dd78698f5a0/expr.ipynb\"><img src=\"../../common/f7caf702081f903a6ea3d95d680568dd78698f5a0/expr.png\" style=\"display:inline;vertical-align:middle;\" /></a></td></tr>\n",
       "<tr><td>42</td><td>ExprTuple</td><td>44</td><td><a class=\"ProveItLink\" href=\"../3c2073fded113a048bf7371c726cf466ae4d92300/expr.ipynb\"><img src=\"../3c2073fded113a048bf7371c726cf466ae4d92300/expr.png\" style=\"display:inline;vertical-align:middle;\" /></a></td></tr>\n",
       "<tr><td>43</td><td>Variable</td><td></td><td><a class=\"ProveItLink\" href=\"../../../../../../__pv_it/common/b9fd37fc619babc74a6203459f110251586df6970/expr.ipynb\"><img src=\"../../../../../../__pv_it/common/b9fd37fc619babc74a6203459f110251586df6970/expr.png\" style=\"display:inline;vertical-align:middle;\" /></a></td></tr>\n",
       "<tr><td>44</td><td>ExprRange</td><td>lambda_map:&nbsp;45<br>start_index:&nbsp;46<br>end_index:&nbsp;47<br></td><td><a class=\"ProveItLink\" href=\"../../../../../../core_expr_types/__pv_it/common/95cc4bc4f612e88f5f51ce4796fd60b1d217c7850/expr.ipynb\"><img src=\"../../../../../../core_expr_types/__pv_it/common/95cc4bc4f612e88f5f51ce4796fd60b1d217c7850/expr.png\" style=\"display:inline;vertical-align:middle;\" /></a></td></tr>\n",
       "<tr><td>45</td><td>Lambda</td><td>parameter:&nbsp;51<br>body:&nbsp;48<br></td><td><a class=\"ProveItLink\" href=\"../../../../../../core_expr_types/__pv_it/common/99ea59f1b92e70eddeee736182b1abeb9f49c91b0/expr.ipynb\"><img src=\"../../../../../../core_expr_types/__pv_it/common/99ea59f1b92e70eddeee736182b1abeb9f49c91b0/expr.png\" style=\"display:inline;vertical-align:middle;\" /></a></td></tr>\n",
       "<tr><td>46</td><td>Literal</td><td></td><td><a class=\"ProveItLink\" href=\"../../../../../../numbers/numerals/__pv_it/common/d278e359da0695d9652dd541d45264f93703e2e40/expr.ipynb\"><img src=\"../../../../../../numbers/numerals/__pv_it/common/d278e359da0695d9652dd541d45264f93703e2e40/expr.png\" style=\"display:inline;vertical-align:middle;\" /></a></td></tr>\n",
       "<tr><td>47</td><td>Variable</td><td></td><td><a class=\"ProveItLink\" href=\"../../../../../../__pv_it/common/6165c9bb82ce3c7097cdba4440a1aeeb6eaca8a40/expr.ipynb\"><img src=\"../../../../../../__pv_it/common/6165c9bb82ce3c7097cdba4440a1aeeb6eaca8a40/expr.png\" style=\"display:inline;vertical-align:middle;\" /></a></td></tr>\n",
       "<tr><td>48</td><td>IndexedVar</td><td>variable:&nbsp;49<br>index:&nbsp;51<br></td><td><a class=\"ProveItLink\" href=\"../../../../../../core_expr_types/__pv_it/common/d8d3053e77ba1db68c0cd106952422881db586670/expr.ipynb\"><img src=\"../../../../../../core_expr_types/__pv_it/common/d8d3053e77ba1db68c0cd106952422881db586670/expr.png\" style=\"display:inline;vertical-align:middle;\" /></a></td></tr>\n",
       "<tr><td>49</td><td>Variable</td><td></td><td><a class=\"ProveItLink\" href=\"../../../../../../__pv_it/common/66c90e66682f107a881f2d666959f64e2e72ad750/expr.ipynb\"><img src=\"../../../../../../__pv_it/common/66c90e66682f107a881f2d666959f64e2e72ad750/expr.png\" style=\"display:inline;vertical-align:middle;\" /></a></td></tr>\n",
       "<tr><td>50</td><td>ExprTuple</td><td>51</td><td><a class=\"ProveItLink\" href=\"../../../../../../core_expr_types/__pv_it/common/ecf50ade416ab41c42c9f4e777b4c862cd9469670/expr.ipynb\"><img src=\"../../../../../../core_expr_types/__pv_it/common/ecf50ade416ab41c42c9f4e777b4c862cd9469670/expr.png\" style=\"display:inline;vertical-align:middle;\" /></a></td></tr>\n",
       "<tr><td>51</td><td>Variable</td><td></td><td><a class=\"ProveItLink\" href=\"../../../../../../core_expr_types/__pv_it/common/9e6d9d5d7eeb0342cf5bca68def0eb165a1a9bb10/expr.ipynb\"><img src=\"../../../../../../core_expr_types/__pv_it/common/9e6d9d5d7eeb0342cf5bca68def0eb165a1a9bb10/expr.png\" style=\"display:inline;vertical-align:middle;\" /></a></td></tr>\n",
       "</table>\n"
      ],
      "text/plain": [
       "0. n -> {forall_{a_{1}, ..a_{_a}.., a_{n}} [forall_{P} (((P(a_{1}) = FALSE) or ..(P(a_{k}) = FALSE).. or (P(a_{n}) = FALSE)) = ([forall_{x in {a_{1}, ..a_{_a}.., a_{n}}} P(x)] = FALSE))] if n in Natural.\n",
       "   core type: Lambda\n",
       "   parameter: 47\n",
       "   body: 1\n",
       "1. {forall_{a_{1}, ..a_{_a}.., a_{n}} [forall_{P} (((P(a_{1}) = FALSE) or ..(P(a_{k}) = FALSE).. or (P(a_{n}) = FALSE)) = ([forall_{x in {a_{1}, ..a_{_a}.., a_{n}}} P(x)] = FALSE))] if n in Natural.\n",
       "   core type: Conditional\n",
       "   value: 2\n",
       "   condition: 3\n",
       "2. forall_{a_{1}, ..a_{_a}.., a_{n}} [forall_{P} (((P(a_{1}) = FALSE) or ..(P(a_{k}) = FALSE).. or (P(a_{n}) = FALSE)) = ([forall_{x in {a_{1}, ..a_{_a}.., a_{n}}} P(x)] = FALSE))]\n",
       "   core type: Operation\n",
       "   operator: 21\n",
       "   operand: 6\n",
       "3. n in Natural\n",
       "   core type: Operation\n",
       "   operator: 35\n",
       "   operands: 5\n",
       "4. ((a_{1}, ..a_{_a}.., a_{n}) -> [forall_{P} (((P(a_{1}) = FALSE) or ..(P(a_{k}) = FALSE).. or (P(a_{n}) = FALSE)) = ([forall_{x in {a_{1}, ..a_{_a}.., a_{n}}} P(x)] = FALSE))])\n",
       "   core type: ExprTuple\n",
       "   sub-expressions: 6\n",
       "5. (n, Natural)\n",
       "   core type: ExprTuple\n",
       "   sub-expressions: 47, 7\n",
       "6. (a_{1}, ..a_{_a}.., a_{n}) -> [forall_{P} (((P(a_{1}) = FALSE) or ..(P(a_{k}) = FALSE).. or (P(a_{n}) = FALSE)) = ([forall_{x in {a_{1}, ..a_{_a}.., a_{n}}} P(x)] = FALSE))]\n",
       "   core type: Lambda\n",
       "   parameters: 42\\n   body: 8\n",
       "7. Natural\n",
       "   core type: Literal\n",
       "   sub-expressions: \n",
       "8. forall_{P} (((P(a_{1}) = FALSE) or ..(P(a_{k}) = FALSE).. or (P(a_{n}) = FALSE)) = ([forall_{x in {a_{1}, ..a_{_a}.., a_{n}}} P(x)] = FALSE))\n",
       "   core type: Operation\n",
       "   operator: 21\n",
       "   operand: 10\n",
       "9. (P -> (((P(a_{1}) = FALSE) or ..(P(a_{k}) = FALSE).. or (P(a_{n}) = FALSE)) = ([forall_{x in {a_{1}, ..a_{_a}.., a_{n}}} P(x)] = FALSE)))\n",
       "   core type: ExprTuple\n",
       "   sub-expressions: 10\n",
       "10. P -> (((P(a_{1}) = FALSE) or ..(P(a_{k}) = FALSE).. or (P(a_{n}) = FALSE)) = ([forall_{x in {a_{1}, ..a_{_a}.., a_{n}}} P(x)] = FALSE))\n",
       "    core type: Lambda\n",
       "    parameter: 33\n",
       "    body: 11\n",
       "11. ((P(a_{1}) = FALSE) or ..(P(a_{k}) = FALSE).. or (P(a_{n}) = FALSE)) = ([forall_{x in {a_{1}, ..a_{_a}.., a_{n}}} P(x)] = FALSE)\n",
       "    core type: Operation\n",
       "    operator: 25\n",
       "    operands: 12\n",
       "12. ((P(a_{1}) = FALSE) or ..(P(a_{k}) = FALSE).. or (P(a_{n}) = FALSE), [forall_{x in {a_{1}, ..a_{_a}.., a_{n}}} P(x)] = FALSE)\n",
       "    core type: ExprTuple\n",
       "    sub-expressions: 13, 14\n",
       "13. (P(a_{1}) = FALSE) or ..(P(a_{k}) = FALSE).. or (P(a_{n}) = FALSE)\n",
       "    core type: Operation\n",
       "    operator: 15\n",
       "    operands: 16\n",
       "14. [forall_{x in {a_{1}, ..a_{_a}.., a_{n}}} P(x)] = FALSE\n",
       "    core type: Operation\n",
       "    operator: 25\n",
       "    operands: 17\n",
       "15. or\n",
       "    core type: Literal\n",
       "    sub-expressions: \n",
       "16. (P(a_{1}) = FALSE, ..P(a_{k}) = FALSE.., P(a_{n}) = FALSE)\n",
       "    core type: ExprTuple\n",
       "    sub-expressions: 18\n",
       "17. (forall_{x in {a_{1}, ..a_{_a}.., a_{n}}} P(x), FALSE)\n",
       "    core type: ExprTuple\n",
       "    sub-expressions: 19, 29\n",
       "18. (P(a_{1}) = FALSE), ..(P(a_{k}) = FALSE).., (P(a_{n}) = FALSE)\n",
       "    core type: ExprRange\n",
       "    lambda_map: 20\n",
       "    start_index: 46\n",
       "    end_index: 47\n",
       "19. forall_{x in {a_{1}, ..a_{_a}.., a_{n}}} P(x)\n",
       "    core type: Operation\n",
       "    operator: 21\n",
       "    operand: 24\n",
       "20. k -> (P(a_{k}) = FALSE)\n",
       "    core type: Lambda\n",
       "    parameter: 43\n",
       "    body: 23\n",
       "21. forall\n",
       "    core type: Literal\n",
       "    sub-expressions: \n",
       "22. (x -> {P(x) if x in {a_{1}, ..a_{_a}.., a_{n}}.)\n",
       "    core type: ExprTuple\n",
       "    sub-expressions: 24\n",
       "23. P(a_{k}) = FALSE\n",
       "    core type: Operation\n",
       "    operator: 25\n",
       "    operands: 26\n",
       "24. x -> {P(x) if x in {a_{1}, ..a_{_a}.., a_{n}}.\n",
       "    core type: Lambda\n",
       "    parameter: 38\n",
       "    body: 27\n",
       "25. =\n",
       "    core type: Literal\n",
       "    sub-expressions: \n",
       "26. (P(a_{k}), FALSE)\n",
       "    core type: ExprTuple\n",
       "    sub-expressions: 28, 29\n",
       "27. {P(x) if x in {a_{1}, ..a_{_a}.., a_{n}}.\n",
       "    core type: Conditional\n",
       "    value: 30\n",
       "    condition: 31\n",
       "28. P(a_{k})\n",
       "    core type: Operation\n",
       "    operator: 33\n",
       "    operand: 37\n",
       "29. FALSE\n",
       "    core type: Literal\n",
       "    sub-expressions: \n",
       "30. P(x)\n",
       "    core type: Operation\n",
       "    operator: 33\n",
       "    operand: 38\n",
       "31. x in {a_{1}, ..a_{_a}.., a_{n}}\n",
       "    core type: Operation\n",
       "    operator: 35\n",
       "    operands: 36\n",
       "32. (a_{k})\n",
       "    core type: ExprTuple\n",
       "    sub-expressions: 37\n",
       "33. P\n",
       "    core type: Variable\n",
       "    sub-expressions: \n",
       "34. (x)\n",
       "    core type: ExprTuple\n",
       "    sub-expressions: 38\n",
       "35. in\n",
       "    core type: Literal\n",
       "    sub-expressions: \n",
       "36. (x, {a_{1}, ..a_{_a}.., a_{n}})\n",
       "    core type: ExprTuple\n",
       "    sub-expressions: 38, 39\n",
       "37. a_{k}\n",
       "    core type: IndexedVar\n",
       "variable: 49\n",
       "index: 43\n",
       "38. x\n",
       "    core type: Variable\n",
       "    sub-expressions: \n",
       "39. {a_{1}, ..a_{_a}.., a_{n}}\n",
       "    core type: Operation\n",
       "    operator: 41\n",
       "    operands: 42\n",
       "40. (k)\n",
       "    core type: ExprTuple\n",
       "    sub-expressions: 43\n",
       "41. Set\n",
       "    core type: Literal\n",
       "    sub-expressions: \n",
       "42. (a_{1}, ..a_{_a}.., a_{n})\n",
       "    core type: ExprTuple\n",
       "    sub-expressions: 44\n",
       "43. k\n",
       "    core type: Variable\n",
       "    sub-expressions: \n",
       "44. a_{1}, ..a_{_a}.., a_{n}\n",
       "    core type: ExprRange\n",
       "    lambda_map: 45\n",
       "    start_index: 46\n",
       "    end_index: 47\n",
       "45. _a -> a_{_a}\n",
       "    core type: Lambda\n",
       "    parameter: 51\n",
       "    body: 48\n",
       "46. 1\n",
       "    core type: Literal\n",
       "    sub-expressions: \n",
       "47. n\n",
       "    core type: Variable\n",
       "    sub-expressions: \n",
       "48. a_{_a}\n",
       "    core type: IndexedVar\n",
       "variable: 49\n",
       "index: 51\n",
       "49. a\n",
       "    core type: Variable\n",
       "    sub-expressions: \n",
       "50. (_a)\n",
       "    core type: ExprTuple\n",
       "    sub-expressions: 51\n",
       "51. _a\n",
       "    core type: Variable\n",
       "    sub-expressions: "
      ]
     },
     "execution_count": 6,
     "metadata": {},
     "output_type": "execute_result"
    }
   ],
   "source": [
    "# display the expression information\n",
    "expr.expr_info()"
   ]
  },
  {
   "cell_type": "code",
   "execution_count": null,
   "metadata": {},
   "outputs": [],
   "source": []
  }
 ],
 "metadata": {
  "kernelspec": {
   "display_name": "Python 3",
   "language": "python",
   "name": "python3"
  }
 },
 "nbformat": 4,
 "nbformat_minor": 0
}