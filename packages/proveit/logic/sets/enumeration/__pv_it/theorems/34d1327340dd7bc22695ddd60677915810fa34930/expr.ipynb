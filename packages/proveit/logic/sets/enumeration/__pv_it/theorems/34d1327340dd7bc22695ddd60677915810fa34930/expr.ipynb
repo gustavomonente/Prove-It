{
 "cells": [
  {
   "cell_type": "markdown",
   "metadata": {},
   "source": [
    "Expression of type <a class=\"ProveItLink\" href=\"../../../../../../../../doc/html/api/proveit.ExprTuple.html\">ExprTuple</a>\n",
    "=======================\n",
    "# from the theory of <a class=\"ProveItLink\" href=\"../../../_theory_nbs_/theory.ipynb\">proveit.logic.sets.enumeration</a>"
   ]
  },
  {
   "cell_type": "code",
   "execution_count": 1,
   "metadata": {},
   "outputs": [],
   "source": [
    "import proveit\n",
    "# Automation is not needed when building an expression:\n",
    "proveit.defaults.automation = False # This will speed things up.\n",
    "proveit.defaults.inline_pngs = False # Makes files smaller.\n",
    "%load_expr # Load the stored expression as 'stored_expr'\n",
    "# import Expression classes needed to build the expression\n",
    "from proveit import Conditional, ExprTuple, Lambda, n, x\n",
    "from proveit.core_expr_types import y_1_to_n\n",
    "from proveit.logic import Boolean, Forall, InSet, NotInSet, Set\n",
    "from proveit.numbers import Natural"
   ]
  },
  {
   "cell_type": "code",
   "execution_count": 2,
   "metadata": {},
   "outputs": [
    {
     "data": {
      "text/html": [
       "<strong id=\"expr\">expr:</strong> <a class=\"ProveItLink\" href=\"expr.ipynb\"><img src=\"expr.png\" style=\"display:inline;vertical-align:middle;\" /></a><br>"
      ],
      "text/plain": [
       "expr: (n -> {forall_{x, y_{1}, ..y_{_a}.., y_{n}} ((x not-in {y_{1}, ..y_{_a}.., y_{n}}) in BOOLEAN) if n in Natural.)"
      ]
     },
     "execution_count": 2,
     "metadata": {},
     "output_type": "execute_result"
    }
   ],
   "source": [
    "# build up the expression from sub-expressions\n",
    "expr = ExprTuple(Lambda(n, Conditional(Forall([x, y_1_to_n], InSet(NotInSet(x, Set(y_1_to_n)), Boolean)), InSet(n, Natural))))"
   ]
  },
  {
   "cell_type": "code",
   "execution_count": 3,
   "metadata": {},
   "outputs": [
    {
     "name": "stdout",
     "output_type": "stream",
     "text": [
      "Passed sanity check: expr matches stored_expr\n"
     ]
    }
   ],
   "source": [
    "# check that the built expression is the same as the stored expression\n",
    "assert expr == stored_expr\n",
    "assert expr._style_id == stored_expr._style_id\n",
    "print(\"Passed sanity check: expr matches stored_expr\")"
   ]
  },
  {
   "cell_type": "code",
   "execution_count": 4,
   "metadata": {},
   "outputs": [
    {
     "name": "stdout",
     "output_type": "stream",
     "text": [
      "\\left(n \\mapsto \\left\\{\\forall_{x, y_{1}, \\ldots, y_{n}}~\\left(\\left(x \\notin \\left\\{y_{1}, \\ldots, y_{n}\\right\\}\\right) \\in \\mathbb{B}\\right) \\textrm{ if } n \\in \\mathbb{N}\\right..\\right)\n"
     ]
    }
   ],
   "source": [
    "# Show the LaTeX representation of the expression for convenience if you need it.\n",
    "print(expr.latex())"
   ]
  },
  {
   "cell_type": "code",
   "execution_count": 5,
   "metadata": {},
   "outputs": [
    {
     "data": {
      "text/html": [
       "no style options"
      ],
      "text/plain": [
       "no style options"
      ]
     },
     "execution_count": 5,
     "metadata": {},
     "output_type": "execute_result"
    }
   ],
   "source": [
    "expr.style_options()"
   ]
  },
  {
   "cell_type": "code",
   "execution_count": 6,
   "metadata": {},
   "outputs": [
    {
     "data": {
      "text/html": [
       "<table><tr><th>&nbsp;</th><th>core type</th><th>sub-expressions</th><th>expression</th></tr>\n",
       "<tr><td>0</td><td>ExprTuple</td><td>1</td><td><a class=\"ProveItLink\" href=\"expr.ipynb\"><img src=\"expr.png\" style=\"display:inline;vertical-align:middle;\" /></a></td></tr>\n",
       "<tr><td>1</td><td>Lambda</td><td>parameter:&nbsp;25<br>body:&nbsp;2<br></td><td><a class=\"ProveItLink\" href=\"../b6cd01fd5166032acc7f182804572fa0c5a14c020/expr.ipynb\"><img src=\"../b6cd01fd5166032acc7f182804572fa0c5a14c020/expr.png\" style=\"display:inline;vertical-align:middle;\" /></a></td></tr>\n",
       "<tr><td>2</td><td>Conditional</td><td>value:&nbsp;3<br>condition:&nbsp;4<br></td><td><a class=\"ProveItLink\" href=\"../fed6b19c50eb049d3a91eeabc37f4cc0c59556420/expr.ipynb\"><img src=\"../fed6b19c50eb049d3a91eeabc37f4cc0c59556420/expr.png\" style=\"display:inline;vertical-align:middle;\" /></a></td></tr>\n",
       "<tr><td>3</td><td>Operation</td><td>operator:&nbsp;5<br>operand:&nbsp;8<br></td><td><a class=\"ProveItLink\" href=\"../c0024b041102a4ef69ce40f06e0d61e9e8cf05b80/expr.ipynb\"><img src=\"../c0024b041102a4ef69ce40f06e0d61e9e8cf05b80/expr.png\" style=\"display:inline;vertical-align:middle;\" /></a></td></tr>\n",
       "<tr><td>4</td><td>Operation</td><td>operator:&nbsp;12<br>operands:&nbsp;7<br></td><td><a class=\"ProveItLink\" href=\"../e3c5b209faa86f1e812d35da64c9d9b711de675d0/expr.ipynb\"><img src=\"../e3c5b209faa86f1e812d35da64c9d9b711de675d0/expr.png\" style=\"display:inline;vertical-align:middle;\" /></a></td></tr>\n",
       "<tr><td>5</td><td>Literal</td><td></td><td><a class=\"ProveItLink\" href=\"../../../../../booleans/quantification/universality/__pv_it/common/684d35ba98fcbf8ca5011f865e530a51e77730630/expr.ipynb\"><img src=\"../../../../../booleans/quantification/universality/__pv_it/common/684d35ba98fcbf8ca5011f865e530a51e77730630/expr.png\" style=\"display:inline;vertical-align:middle;\" /></a></td></tr>\n",
       "<tr><td>6</td><td>ExprTuple</td><td>8</td><td><a class=\"ProveItLink\" href=\"../ca93cbaabb2c4b9bb2d6d708742a5f4d6477f7d40/expr.ipynb\"><img src=\"../ca93cbaabb2c4b9bb2d6d708742a5f4d6477f7d40/expr.png\" style=\"display:inline;vertical-align:middle;\" /></a></td></tr>\n",
       "<tr><td>7</td><td>ExprTuple</td><td>25, 9</td><td><a class=\"ProveItLink\" href=\"../248776733c2a8aa9cdfdf4f76f63a3d26b6d139d0/expr.ipynb\"><img src=\"../248776733c2a8aa9cdfdf4f76f63a3d26b6d139d0/expr.png\" style=\"display:inline;vertical-align:middle;\" /></a></td></tr>\n",
       "<tr><td>8</td><td>Lambda</td><td>parameters:&nbsp;10<br>body:&nbsp;11<br></td><td><a class=\"ProveItLink\" href=\"../c1a7f9bd587b6e46d781f526c0e4d898364a213f0/expr.ipynb\"><img src=\"../c1a7f9bd587b6e46d781f526c0e4d898364a213f0/expr.png\" style=\"display:inline;vertical-align:middle;\" /></a></td></tr>\n",
       "<tr><td>9</td><td>Literal</td><td></td><td><a class=\"ProveItLink\" href=\"../../../../../../numbers/number_sets/natural_numbers/__pv_it/common/85c8b43c90a7392ebb5459360d343dfa7c7408b50/expr.ipynb\"><img src=\"../../../../../../numbers/number_sets/natural_numbers/__pv_it/common/85c8b43c90a7392ebb5459360d343dfa7c7408b50/expr.png\" style=\"display:inline;vertical-align:middle;\" /></a></td></tr>\n",
       "<tr><td>10</td><td>ExprTuple</td><td>18, 22</td><td><a class=\"ProveItLink\" href=\"../587d07614303a96379c1d911060739d441abb7810/expr.ipynb\"><img src=\"../587d07614303a96379c1d911060739d441abb7810/expr.png\" style=\"display:inline;vertical-align:middle;\" /></a></td></tr>\n",
       "<tr><td>11</td><td>Operation</td><td>operator:&nbsp;12<br>operands:&nbsp;13<br></td><td><a class=\"ProveItLink\" href=\"../516319b749f3cfeb9613d850e42685188043cd020/expr.ipynb\"><img src=\"../516319b749f3cfeb9613d850e42685188043cd020/expr.png\" style=\"display:inline;vertical-align:middle;\" /></a></td></tr>\n",
       "<tr><td>12</td><td>Literal</td><td></td><td><a class=\"ProveItLink\" href=\"../../../../membership/__pv_it/common/7171deca84f71f47a6ec7696972d1632274a12880/expr.ipynb\"><img src=\"../../../../membership/__pv_it/common/7171deca84f71f47a6ec7696972d1632274a12880/expr.png\" style=\"display:inline;vertical-align:middle;\" /></a></td></tr>\n",
       "<tr><td>13</td><td>ExprTuple</td><td>14, 15</td><td><a class=\"ProveItLink\" href=\"../d8ed2b187ae670ae5e70a0f6633f2bbe9271a6180/expr.ipynb\"><img src=\"../d8ed2b187ae670ae5e70a0f6633f2bbe9271a6180/expr.png\" style=\"display:inline;vertical-align:middle;\" /></a></td></tr>\n",
       "<tr><td>14</td><td>Operation</td><td>operator:&nbsp;16<br>operands:&nbsp;17<br></td><td><a class=\"ProveItLink\" href=\"../ea05fdf5ffedc7a05267a2950f8e96987d7b44430/expr.ipynb\"><img src=\"../ea05fdf5ffedc7a05267a2950f8e96987d7b44430/expr.png\" style=\"display:inline;vertical-align:middle;\" /></a></td></tr>\n",
       "<tr><td>15</td><td>Literal</td><td></td><td><a class=\"ProveItLink\" href=\"../../../../../booleans/__pv_it/common/8fc291135425020cce4ba1ad615843f54f1fc6600/expr.ipynb\"><img src=\"../../../../../booleans/__pv_it/common/8fc291135425020cce4ba1ad615843f54f1fc6600/expr.png\" style=\"display:inline;vertical-align:middle;\" /></a></td></tr>\n",
       "<tr><td>16</td><td>Literal</td><td></td><td><a class=\"ProveItLink\" href=\"../../../../membership/__pv_it/common/964bda7e6e4c28273edd6b3f4b5665863f3e6fc50/expr.ipynb\"><img src=\"../../../../membership/__pv_it/common/964bda7e6e4c28273edd6b3f4b5665863f3e6fc50/expr.png\" style=\"display:inline;vertical-align:middle;\" /></a></td></tr>\n",
       "<tr><td>17</td><td>ExprTuple</td><td>18, 19</td><td><a class=\"ProveItLink\" href=\"../475f5568330baa67d41d8b2060ed2e18bda089380/expr.ipynb\"><img src=\"../475f5568330baa67d41d8b2060ed2e18bda089380/expr.png\" style=\"display:inline;vertical-align:middle;\" /></a></td></tr>\n",
       "<tr><td>18</td><td>Variable</td><td></td><td><a class=\"ProveItLink\" href=\"../../../../../../__pv_it/common/a2581dc5df71d9a30bad37de14965fa5fec97a240/expr.ipynb\"><img src=\"../../../../../../__pv_it/common/a2581dc5df71d9a30bad37de14965fa5fec97a240/expr.png\" style=\"display:inline;vertical-align:middle;\" /></a></td></tr>\n",
       "<tr><td>19</td><td>Operation</td><td>operator:&nbsp;20<br>operands:&nbsp;21<br></td><td><a class=\"ProveItLink\" href=\"../56a3deaa6f9b1cd56dc18cea75c0d6ce4f6df7050/expr.ipynb\"><img src=\"../56a3deaa6f9b1cd56dc18cea75c0d6ce4f6df7050/expr.png\" style=\"display:inline;vertical-align:middle;\" /></a></td></tr>\n",
       "<tr><td>20</td><td>Literal</td><td></td><td><a class=\"ProveItLink\" href=\"../../common/f7caf702081f903a6ea3d95d680568dd78698f5a0/expr.ipynb\"><img src=\"../../common/f7caf702081f903a6ea3d95d680568dd78698f5a0/expr.png\" style=\"display:inline;vertical-align:middle;\" /></a></td></tr>\n",
       "<tr><td>21</td><td>ExprTuple</td><td>22</td><td><a class=\"ProveItLink\" href=\"../d93cfc76b9fc7373af65a6bb173007c9e40441830/expr.ipynb\"><img src=\"../d93cfc76b9fc7373af65a6bb173007c9e40441830/expr.png\" style=\"display:inline;vertical-align:middle;\" /></a></td></tr>\n",
       "<tr><td>22</td><td>ExprRange</td><td>lambda_map:&nbsp;23<br>start_index:&nbsp;24<br>end_index:&nbsp;25<br></td><td><a class=\"ProveItLink\" href=\"../../../../../../core_expr_types/__pv_it/common/d4ccfa4c92b5be548893c8e9f8a96b24fc2db46d0/expr.ipynb\"><img src=\"../../../../../../core_expr_types/__pv_it/common/d4ccfa4c92b5be548893c8e9f8a96b24fc2db46d0/expr.png\" style=\"display:inline;vertical-align:middle;\" /></a></td></tr>\n",
       "<tr><td>23</td><td>Lambda</td><td>parameter:&nbsp;29<br>body:&nbsp;26<br></td><td><a class=\"ProveItLink\" href=\"../../../../../../core_expr_types/__pv_it/common/e85c6dca3c2891a25500913ce6fa75404b16995d0/expr.ipynb\"><img src=\"../../../../../../core_expr_types/__pv_it/common/e85c6dca3c2891a25500913ce6fa75404b16995d0/expr.png\" style=\"display:inline;vertical-align:middle;\" /></a></td></tr>\n",
       "<tr><td>24</td><td>Literal</td><td></td><td><a class=\"ProveItLink\" href=\"../../../../../../numbers/numerals/__pv_it/common/d278e359da0695d9652dd541d45264f93703e2e40/expr.ipynb\"><img src=\"../../../../../../numbers/numerals/__pv_it/common/d278e359da0695d9652dd541d45264f93703e2e40/expr.png\" style=\"display:inline;vertical-align:middle;\" /></a></td></tr>\n",
       "<tr><td>25</td><td>Variable</td><td></td><td><a class=\"ProveItLink\" href=\"../../../../../../__pv_it/common/6165c9bb82ce3c7097cdba4440a1aeeb6eaca8a40/expr.ipynb\"><img src=\"../../../../../../__pv_it/common/6165c9bb82ce3c7097cdba4440a1aeeb6eaca8a40/expr.png\" style=\"display:inline;vertical-align:middle;\" /></a></td></tr>\n",
       "<tr><td>26</td><td>IndexedVar</td><td>variable:&nbsp;27<br>index:&nbsp;29<br></td><td><a class=\"ProveItLink\" href=\"../../../../../../core_expr_types/__pv_it/common/cfe245429f738680263dd9e15adfb363654edf9a0/expr.ipynb\"><img src=\"../../../../../../core_expr_types/__pv_it/common/cfe245429f738680263dd9e15adfb363654edf9a0/expr.png\" style=\"display:inline;vertical-align:middle;\" /></a></td></tr>\n",
       "<tr><td>27</td><td>Variable</td><td></td><td><a class=\"ProveItLink\" href=\"../../../../../../__pv_it/common/0f21cbfd5644a1cae6781c1d58354abc2ffbc9000/expr.ipynb\"><img src=\"../../../../../../__pv_it/common/0f21cbfd5644a1cae6781c1d58354abc2ffbc9000/expr.png\" style=\"display:inline;vertical-align:middle;\" /></a></td></tr>\n",
       "<tr><td>28</td><td>ExprTuple</td><td>29</td><td><a class=\"ProveItLink\" href=\"../../../../../../core_expr_types/__pv_it/common/ecf50ade416ab41c42c9f4e777b4c862cd9469670/expr.ipynb\"><img src=\"../../../../../../core_expr_types/__pv_it/common/ecf50ade416ab41c42c9f4e777b4c862cd9469670/expr.png\" style=\"display:inline;vertical-align:middle;\" /></a></td></tr>\n",
       "<tr><td>29</td><td>Variable</td><td></td><td><a class=\"ProveItLink\" href=\"../../../../../../core_expr_types/__pv_it/common/9e6d9d5d7eeb0342cf5bca68def0eb165a1a9bb10/expr.ipynb\"><img src=\"../../../../../../core_expr_types/__pv_it/common/9e6d9d5d7eeb0342cf5bca68def0eb165a1a9bb10/expr.png\" style=\"display:inline;vertical-align:middle;\" /></a></td></tr>\n",
       "</table>\n"
      ],
      "text/plain": [
       "0. (n -> {forall_{x, y_{1}, ..y_{_a}.., y_{n}} ((x not-in {y_{1}, ..y_{_a}.., y_{n}}) in BOOLEAN) if n in Natural.)\n",
       "   core type: ExprTuple\n",
       "   sub-expressions: 1\n",
       "1. n -> {forall_{x, y_{1}, ..y_{_a}.., y_{n}} ((x not-in {y_{1}, ..y_{_a}.., y_{n}}) in BOOLEAN) if n in Natural.\n",
       "   core type: Lambda\n",
       "   parameter: 25\n",
       "   body: 2\n",
       "2. {forall_{x, y_{1}, ..y_{_a}.., y_{n}} ((x not-in {y_{1}, ..y_{_a}.., y_{n}}) in BOOLEAN) if n in Natural.\n",
       "   core type: Conditional\n",
       "   value: 3\n",
       "   condition: 4\n",
       "3. forall_{x, y_{1}, ..y_{_a}.., y_{n}} ((x not-in {y_{1}, ..y_{_a}.., y_{n}}) in BOOLEAN)\n",
       "   core type: Operation\n",
       "   operator: 5\n",
       "   operand: 8\n",
       "4. n in Natural\n",
       "   core type: Operation\n",
       "   operator: 12\n",
       "   operands: 7\n",
       "5. forall\n",
       "   core type: Literal\n",
       "   sub-expressions: \n",
       "6. ((x, y_{1}, ..y_{_a}.., y_{n}) -> ((x not-in {y_{1}, ..y_{_a}.., y_{n}}) in BOOLEAN))\n",
       "   core type: ExprTuple\n",
       "   sub-expressions: 8\n",
       "7. (n, Natural)\n",
       "   core type: ExprTuple\n",
       "   sub-expressions: 25, 9\n",
       "8. (x, y_{1}, ..y_{_a}.., y_{n}) -> ((x not-in {y_{1}, ..y_{_a}.., y_{n}}) in BOOLEAN)\n",
       "   core type: Lambda\n",
       "   parameters: 10\\n   body: 11\n",
       "9. Natural\n",
       "   core type: Literal\n",
       "   sub-expressions: \n",
       "10. (x, y_{1}, ..y_{_a}.., y_{n})\n",
       "    core type: ExprTuple\n",
       "    sub-expressions: 18, 22\n",
       "11. (x not-in {y_{1}, ..y_{_a}.., y_{n}}) in BOOLEAN\n",
       "    core type: Operation\n",
       "    operator: 12\n",
       "    operands: 13\n",
       "12. in\n",
       "    core type: Literal\n",
       "    sub-expressions: \n",
       "13. (x not-in {y_{1}, ..y_{_a}.., y_{n}}, BOOLEAN)\n",
       "    core type: ExprTuple\n",
       "    sub-expressions: 14, 15\n",
       "14. x not-in {y_{1}, ..y_{_a}.., y_{n}}\n",
       "    core type: Operation\n",
       "    operator: 16\n",
       "    operands: 17\n",
       "15. BOOLEAN\n",
       "    core type: Literal\n",
       "    sub-expressions: \n",
       "16. not-in\n",
       "    core type: Literal\n",
       "    sub-expressions: \n",
       "17. (x, {y_{1}, ..y_{_a}.., y_{n}})\n",
       "    core type: ExprTuple\n",
       "    sub-expressions: 18, 19\n",
       "18. x\n",
       "    core type: Variable\n",
       "    sub-expressions: \n",
       "19. {y_{1}, ..y_{_a}.., y_{n}}\n",
       "    core type: Operation\n",
       "    operator: 20\n",
       "    operands: 21\n",
       "20. Set\n",
       "    core type: Literal\n",
       "    sub-expressions: \n",
       "21. (y_{1}, ..y_{_a}.., y_{n})\n",
       "    core type: ExprTuple\n",
       "    sub-expressions: 22\n",
       "22. y_{1}, ..y_{_a}.., y_{n}\n",
       "    core type: ExprRange\n",
       "    lambda_map: 23\n",
       "    start_index: 24\n",
       "    end_index: 25\n",
       "23. _a -> y_{_a}\n",
       "    core type: Lambda\n",
       "    parameter: 29\n",
       "    body: 26\n",
       "24. 1\n",
       "    core type: Literal\n",
       "    sub-expressions: \n",
       "25. n\n",
       "    core type: Variable\n",
       "    sub-expressions: \n",
       "26. y_{_a}\n",
       "    core type: IndexedVar\n",
       "variable: 27\n",
       "index: 29\n",
       "27. y\n",
       "    core type: Variable\n",
       "    sub-expressions: \n",
       "28. (_a)\n",
       "    core type: ExprTuple\n",
       "    sub-expressions: 29\n",
       "29. _a\n",
       "    core type: Variable\n",
       "    sub-expressions: "
      ]
     },
     "execution_count": 6,
     "metadata": {},
     "output_type": "execute_result"
    }
   ],
   "source": [
    "# display the expression information\n",
    "expr.expr_info()"
   ]
  },
  {
   "cell_type": "code",
   "execution_count": null,
   "metadata": {},
   "outputs": [],
   "source": []
  }
 ],
 "metadata": {
  "kernelspec": {
   "display_name": "Python 3",
   "language": "python",
   "name": "python3"
  }
 },
 "nbformat": 4,
 "nbformat_minor": 0
}