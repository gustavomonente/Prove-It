{
 "cells": [
  {
   "cell_type": "markdown",
   "metadata": {},
   "source": [
    "Expression of type <a class=\"ProveItLink\" href=\"../../../../../../../../doc/html/api/proveit.Lambda.html\">Lambda</a>\n",
    "=======================\n",
    "# from the theory of <a class=\"ProveItLink\" href=\"../../../_theory_nbs_/theory.ipynb\">proveit.logic.sets.enumeration</a>"
   ]
  },
  {
   "cell_type": "code",
   "execution_count": 1,
   "metadata": {},
   "outputs": [],
   "source": [
    "import proveit\n",
    "# Automation is not needed when building an expression:\n",
    "proveit.defaults.automation = False # This will speed things up.\n",
    "proveit.defaults.inline_pngs = False # Makes files smaller.\n",
    "%load_expr # Load the stored expression as 'stored_expr'\n",
    "# import Expression classes needed to build the expression\n",
    "from proveit import Lambda, P, Px, Q, Qx, x\n",
    "from proveit.core_expr_types import Qk_implies_Pk_a1_to_an, a_1_to_n\n",
    "from proveit.logic import Forall, Set"
   ]
  },
  {
   "cell_type": "code",
   "execution_count": 2,
   "metadata": {},
   "outputs": [
    {
     "data": {
      "text/html": [
       "<strong id=\"expr\">expr:</strong> <a class=\"ProveItLink\" href=\"expr.ipynb\"><img src=\"expr.png\" style=\"display:inline;vertical-align:middle;\" /></a><br>"
      ],
      "text/plain": [
       "expr: (a_{1}, ..a_{_a}.., a_{n}) -> [forall_{P, Q | Q(a_{1}) => P(a_{1}), ..Q(a_{k}) => P(a_{k}).., Q(a_{n}) => P(a_{n})} [forall_{x in {a_{1}, ..a_{_a}.., a_{n}} | Q(x)} P(x)]]"
      ]
     },
     "execution_count": 2,
     "metadata": {},
     "output_type": "execute_result"
    }
   ],
   "source": [
    "# build up the expression from sub-expressions\n",
    "expr = Lambda([a_1_to_n], Forall([P, Q], Forall([x], Px, domains = [Set(a_1_to_n)], condition = Qx), condition = Qk_implies_Pk_a1_to_an))"
   ]
  },
  {
   "cell_type": "code",
   "execution_count": 3,
   "metadata": {},
   "outputs": [
    {
     "name": "stdout",
     "output_type": "stream",
     "text": [
      "Passed sanity check: expr matches stored_expr\n"
     ]
    }
   ],
   "source": [
    "# check that the built expression is the same as the stored expression\n",
    "assert expr == stored_expr\n",
    "assert expr._style_id == stored_expr._style_id\n",
    "print(\"Passed sanity check: expr matches stored_expr\")"
   ]
  },
  {
   "cell_type": "code",
   "execution_count": 4,
   "metadata": {},
   "outputs": [
    {
     "name": "stdout",
     "output_type": "stream",
     "text": [
      "\\left(a_{1}, \\ldots, a_{n}\\right) \\mapsto \\left[\\forall_{P, Q~|~Q(a_{1}) \\Rightarrow P(a_{1}), \\ldots, Q(a_{n}) \\Rightarrow P(a_{n})}~\\left[\\forall_{x \\in \\left\\{a_{1}, \\ldots, a_{n}\\right\\}~|~Q(x)}~P(x)\\right]\\right]\n"
     ]
    }
   ],
   "source": [
    "# Show the LaTeX representation of the expression for convenience if you need it.\n",
    "print(expr.latex())"
   ]
  },
  {
   "cell_type": "code",
   "execution_count": 5,
   "metadata": {},
   "outputs": [
    {
     "data": {
      "text/html": [
       "<table><tr><th>&nbsp;</th><th>core type</th><th>sub-expressions</th><th>expression</th></tr>\n",
       "<tr><td>0</td><td>Lambda</td><td>parameters:&nbsp;32<br>body:&nbsp;1<br></td><td><a class=\"ProveItLink\" href=\"expr.ipynb\"><img src=\"expr.png\" style=\"display:inline;vertical-align:middle;\" /></a></td></tr>\n",
       "<tr><td>1</td><td>Operation</td><td>operator:&nbsp;7<br>operand:&nbsp;2<br></td><td><a class=\"ProveItLink\" href=\"../9484b265ea0366385d037b1ee921dd681b8769080/expr.ipynb\"><img src=\"../9484b265ea0366385d037b1ee921dd681b8769080/expr.png\" style=\"display:inline;vertical-align:middle;\" /></a></td></tr>\n",
       "<tr><td>2</td><td>Lambda</td><td>parameters:&nbsp;3<br>body:&nbsp;4<br></td><td><a class=\"ProveItLink\" href=\"../ace55849b3fbd4d763f65f95f986ba6f4e61308a0/expr.ipynb\"><img src=\"../ace55849b3fbd4d763f65f95f986ba6f4e61308a0/expr.png\" style=\"display:inline;vertical-align:middle;\" /></a></td></tr>\n",
       "<tr><td>3</td><td>ExprTuple</td><td>29, 28</td><td><a class=\"ProveItLink\" href=\"../00f77196d611264a98752a66a912b8c36b7e38b70/expr.ipynb\"><img src=\"../00f77196d611264a98752a66a912b8c36b7e38b70/expr.png\" style=\"display:inline;vertical-align:middle;\" /></a></td></tr>\n",
       "<tr><td>4</td><td>Conditional</td><td>value:&nbsp;5<br>condition:&nbsp;6<br></td><td><a class=\"ProveItLink\" href=\"../bbd65c3cf003145336a087b4603ab29f5c02027f0/expr.ipynb\"><img src=\"../bbd65c3cf003145336a087b4603ab29f5c02027f0/expr.png\" style=\"display:inline;vertical-align:middle;\" /></a></td></tr>\n",
       "<tr><td>5</td><td>Operation</td><td>operator:&nbsp;7<br>operand:&nbsp;8<br></td><td><a class=\"ProveItLink\" href=\"../0e55e2ca90446b37f127aaf76d84e1a98c81d2eb0/expr.ipynb\"><img src=\"../0e55e2ca90446b37f127aaf76d84e1a98c81d2eb0/expr.png\" style=\"display:inline;vertical-align:middle;\" /></a></td></tr>\n",
       "<tr><td>6</td><td>Operation</td><td>operator:&nbsp;15<br>operands:&nbsp;9<br></td><td><a class=\"ProveItLink\" href=\"../08ecf2854a239f1d1463f0208306a5fe703e166c0/expr.ipynb\"><img src=\"../08ecf2854a239f1d1463f0208306a5fe703e166c0/expr.png\" style=\"display:inline;vertical-align:middle;\" /></a></td></tr>\n",
       "<tr><td>7</td><td>Literal</td><td></td><td><a class=\"ProveItLink\" href=\"../../../../../booleans/quantification/universality/__pv_it/common/083d2baa0b8ecab1d230f9ec29a15aa1355809fb0/expr.ipynb\"><img src=\"../../../../../booleans/quantification/universality/__pv_it/common/083d2baa0b8ecab1d230f9ec29a15aa1355809fb0/expr.png\" style=\"display:inline;vertical-align:middle;\" /></a></td></tr>\n",
       "<tr><td>8</td><td>Lambda</td><td>parameter:&nbsp;26<br>body:&nbsp;10<br></td><td><a class=\"ProveItLink\" href=\"../304e626e4b9fe3e1a6933c113d5769445eb86a340/expr.ipynb\"><img src=\"../304e626e4b9fe3e1a6933c113d5769445eb86a340/expr.png\" style=\"display:inline;vertical-align:middle;\" /></a></td></tr>\n",
       "<tr><td>9</td><td>ExprTuple</td><td>11</td><td><a class=\"ProveItLink\" href=\"../fa88b2efa5f4ef7234eecee157cee681734b537a0/expr.ipynb\"><img src=\"../fa88b2efa5f4ef7234eecee157cee681734b537a0/expr.png\" style=\"display:inline;vertical-align:middle;\" /></a></td></tr>\n",
       "<tr><td>10</td><td>Conditional</td><td>value:&nbsp;12<br>condition:&nbsp;13<br></td><td><a class=\"ProveItLink\" href=\"../13526c0ccef69caaca4ca4187c39bc0a8fb65f2d0/expr.ipynb\"><img src=\"../13526c0ccef69caaca4ca4187c39bc0a8fb65f2d0/expr.png\" style=\"display:inline;vertical-align:middle;\" /></a></td></tr>\n",
       "<tr><td>11</td><td>ExprRange</td><td>lambda_map:&nbsp;14<br>start_index:&nbsp;36<br>end_index:&nbsp;37<br></td><td><a class=\"ProveItLink\" href=\"../../../../../../core_expr_types/__pv_it/common/09d1eedaee50f52e4f081f7b38a10c5e4d783f170/expr.ipynb\"><img src=\"../../../../../../core_expr_types/__pv_it/common/09d1eedaee50f52e4f081f7b38a10c5e4d783f170/expr.png\" style=\"display:inline;vertical-align:middle;\" /></a></td></tr>\n",
       "<tr><td>12</td><td>Operation</td><td>operator:&nbsp;29<br>operand:&nbsp;26<br></td><td><a class=\"ProveItLink\" href=\"../../../../../../__pv_it/common/092306009c5b4f395713919312834ddc22e2c3df0/expr.ipynb\"><img src=\"../../../../../../__pv_it/common/092306009c5b4f395713919312834ddc22e2c3df0/expr.png\" style=\"display:inline;vertical-align:middle;\" /></a></td></tr>\n",
       "<tr><td>13</td><td>Operation</td><td>operator:&nbsp;15<br>operands:&nbsp;16<br></td><td><a class=\"ProveItLink\" href=\"../41a14352559c84a79fb420cfe8027fcdbc336f750/expr.ipynb\"><img src=\"../41a14352559c84a79fb420cfe8027fcdbc336f750/expr.png\" style=\"display:inline;vertical-align:middle;\" /></a></td></tr>\n",
       "<tr><td>14</td><td>Lambda</td><td>parameter:&nbsp;33<br>body:&nbsp;17<br></td><td><a class=\"ProveItLink\" href=\"../../../../../../core_expr_types/__pv_it/common/a166b1571754acc2c3a79bf24fe4d5a0ea4150740/expr.ipynb\"><img src=\"../../../../../../core_expr_types/__pv_it/common/a166b1571754acc2c3a79bf24fe4d5a0ea4150740/expr.png\" style=\"display:inline;vertical-align:middle;\" /></a></td></tr>\n",
       "<tr><td>15</td><td>Literal</td><td></td><td><a class=\"ProveItLink\" href=\"../../../../../booleans/conjunction/__pv_it/common/42118ff318bd65d98b1393f64ce7c2269feef76e0/expr.ipynb\"><img src=\"../../../../../booleans/conjunction/__pv_it/common/42118ff318bd65d98b1393f64ce7c2269feef76e0/expr.png\" style=\"display:inline;vertical-align:middle;\" /></a></td></tr>\n",
       "<tr><td>16</td><td>ExprTuple</td><td>18, 19</td><td><a class=\"ProveItLink\" href=\"../bb14317ae742932ad57992034e1ba0c2abe5b0620/expr.ipynb\"><img src=\"../bb14317ae742932ad57992034e1ba0c2abe5b0620/expr.png\" style=\"display:inline;vertical-align:middle;\" /></a></td></tr>\n",
       "<tr><td>17</td><td>Operation</td><td>operator:&nbsp;20<br>operands:&nbsp;21<br></td><td><a class=\"ProveItLink\" href=\"../../../../../../core_expr_types/__pv_it/common/094bf3c17305f0a6d59a7fdb0da83fdab202ba1b0/expr.ipynb\"><img src=\"../../../../../../core_expr_types/__pv_it/common/094bf3c17305f0a6d59a7fdb0da83fdab202ba1b0/expr.png\" style=\"display:inline;vertical-align:middle;\" /></a></td></tr>\n",
       "<tr><td>18</td><td>Operation</td><td>operator:&nbsp;22<br>operands:&nbsp;23<br></td><td><a class=\"ProveItLink\" href=\"../ba770faa5451d8f48e90452004450b02500461d40/expr.ipynb\"><img src=\"../ba770faa5451d8f48e90452004450b02500461d40/expr.png\" style=\"display:inline;vertical-align:middle;\" /></a></td></tr>\n",
       "<tr><td>19</td><td>Operation</td><td>operator:&nbsp;28<br>operand:&nbsp;26<br></td><td><a class=\"ProveItLink\" href=\"../../../../../../__pv_it/common/70cd6c2faa5520c5fafefd8a54242dc4b4ff4af70/expr.ipynb\"><img src=\"../../../../../../__pv_it/common/70cd6c2faa5520c5fafefd8a54242dc4b4ff4af70/expr.png\" style=\"display:inline;vertical-align:middle;\" /></a></td></tr>\n",
       "<tr><td>20</td><td>Literal</td><td></td><td><a class=\"ProveItLink\" href=\"../../../../../booleans/implication/__pv_it/common/02bdb382575728da8cdbaed545b9096ea7a1bd5b0/expr.ipynb\"><img src=\"../../../../../booleans/implication/__pv_it/common/02bdb382575728da8cdbaed545b9096ea7a1bd5b0/expr.png\" style=\"display:inline;vertical-align:middle;\" /></a></td></tr>\n",
       "<tr><td>21</td><td>ExprTuple</td><td>24, 25</td><td><a class=\"ProveItLink\" href=\"../../../../../../core_expr_types/__pv_it/common/1ae11e9f46fbe74af7aad87a6064d4bb44b8970c0/expr.ipynb\"><img src=\"../../../../../../core_expr_types/__pv_it/common/1ae11e9f46fbe74af7aad87a6064d4bb44b8970c0/expr.png\" style=\"display:inline;vertical-align:middle;\" /></a></td></tr>\n",
       "<tr><td>22</td><td>Literal</td><td></td><td><a class=\"ProveItLink\" href=\"../../../../membership/__pv_it/common/477487d8796864d23d5810f83761435f25167f690/expr.ipynb\"><img src=\"../../../../membership/__pv_it/common/477487d8796864d23d5810f83761435f25167f690/expr.png\" style=\"display:inline;vertical-align:middle;\" /></a></td></tr>\n",
       "<tr><td>23</td><td>ExprTuple</td><td>26, 27</td><td><a class=\"ProveItLink\" href=\"../d2713193b56f10d776912e387f52dbf4215a3e5c0/expr.ipynb\"><img src=\"../d2713193b56f10d776912e387f52dbf4215a3e5c0/expr.png\" style=\"display:inline;vertical-align:middle;\" /></a></td></tr>\n",
       "<tr><td>24</td><td>Operation</td><td>operator:&nbsp;28<br>operand:&nbsp;30<br></td><td><a class=\"ProveItLink\" href=\"../../../../../../core_expr_types/__pv_it/common/62f9af1611c587b7b1808a03fe725afd621bb9bd0/expr.ipynb\"><img src=\"../../../../../../core_expr_types/__pv_it/common/62f9af1611c587b7b1808a03fe725afd621bb9bd0/expr.png\" style=\"display:inline;vertical-align:middle;\" /></a></td></tr>\n",
       "<tr><td>25</td><td>Operation</td><td>operator:&nbsp;29<br>operand:&nbsp;30<br></td><td><a class=\"ProveItLink\" href=\"../../../../../../core_expr_types/__pv_it/common/321b7d01f5a4de5e48da6b543a3e677b3f571f690/expr.ipynb\"><img src=\"../../../../../../core_expr_types/__pv_it/common/321b7d01f5a4de5e48da6b543a3e677b3f571f690/expr.png\" style=\"display:inline;vertical-align:middle;\" /></a></td></tr>\n",
       "<tr><td>26</td><td>Variable</td><td></td><td><a class=\"ProveItLink\" href=\"../../../../../../__pv_it/common/a0d9d672aa5e272d907247690c152cc2c6daafb70/expr.ipynb\"><img src=\"../../../../../../__pv_it/common/a0d9d672aa5e272d907247690c152cc2c6daafb70/expr.png\" style=\"display:inline;vertical-align:middle;\" /></a></td></tr>\n",
       "<tr><td>27</td><td>Operation</td><td>operator:&nbsp;31<br>operands:&nbsp;32<br></td><td><a class=\"ProveItLink\" href=\"../59715e8baf34ad47a9feb59a9747c18aa998a7bc0/expr.ipynb\"><img src=\"../59715e8baf34ad47a9feb59a9747c18aa998a7bc0/expr.png\" style=\"display:inline;vertical-align:middle;\" /></a></td></tr>\n",
       "<tr><td>28</td><td>Variable</td><td></td><td><a class=\"ProveItLink\" href=\"../../../../../../__pv_it/common/d72bb8b07403efe79afab564c36a28e21330e5f90/expr.ipynb\"><img src=\"../../../../../../__pv_it/common/d72bb8b07403efe79afab564c36a28e21330e5f90/expr.png\" style=\"display:inline;vertical-align:middle;\" /></a></td></tr>\n",
       "<tr><td>29</td><td>Variable</td><td></td><td><a class=\"ProveItLink\" href=\"../../../../../../__pv_it/common/de55da274ba0f49c86925fbf3828021c04d27faf0/expr.ipynb\"><img src=\"../../../../../../__pv_it/common/de55da274ba0f49c86925fbf3828021c04d27faf0/expr.png\" style=\"display:inline;vertical-align:middle;\" /></a></td></tr>\n",
       "<tr><td>30</td><td>IndexedVar</td><td>variable:&nbsp;39<br>index:&nbsp;33<br></td><td><a class=\"ProveItLink\" href=\"../../../../../../core_expr_types/__pv_it/common/3d7141ed2fe50363421809925c1e7fc69188ccea0/expr.ipynb\"><img src=\"../../../../../../core_expr_types/__pv_it/common/3d7141ed2fe50363421809925c1e7fc69188ccea0/expr.png\" style=\"display:inline;vertical-align:middle;\" /></a></td></tr>\n",
       "<tr><td>31</td><td>Literal</td><td></td><td><a class=\"ProveItLink\" href=\"../../common/0ead90ccbf4f17bc585a51f8aa904bb77916ae6e0/expr.ipynb\"><img src=\"../../common/0ead90ccbf4f17bc585a51f8aa904bb77916ae6e0/expr.png\" style=\"display:inline;vertical-align:middle;\" /></a></td></tr>\n",
       "<tr><td>32</td><td>ExprTuple</td><td>34</td><td><a class=\"ProveItLink\" href=\"../78cdb68388c3521673bbf14256414916885443400/expr.ipynb\"><img src=\"../78cdb68388c3521673bbf14256414916885443400/expr.png\" style=\"display:inline;vertical-align:middle;\" /></a></td></tr>\n",
       "<tr><td>33</td><td>Variable</td><td></td><td><a class=\"ProveItLink\" href=\"../../../../../../__pv_it/common/63b7c64bf9ec7a04ecc396c7a1670f3f12fb59490/expr.ipynb\"><img src=\"../../../../../../__pv_it/common/63b7c64bf9ec7a04ecc396c7a1670f3f12fb59490/expr.png\" style=\"display:inline;vertical-align:middle;\" /></a></td></tr>\n",
       "<tr><td>34</td><td>ExprRange</td><td>lambda_map:&nbsp;35<br>start_index:&nbsp;36<br>end_index:&nbsp;37<br></td><td><a class=\"ProveItLink\" href=\"../../../../../../core_expr_types/__pv_it/common/a5f13b212a38aa0f8472b7953ca9227038e6b4f50/expr.ipynb\"><img src=\"../../../../../../core_expr_types/__pv_it/common/a5f13b212a38aa0f8472b7953ca9227038e6b4f50/expr.png\" style=\"display:inline;vertical-align:middle;\" /></a></td></tr>\n",
       "<tr><td>35</td><td>Lambda</td><td>parameter:&nbsp;40<br>body:&nbsp;38<br></td><td><a class=\"ProveItLink\" href=\"../../../../../../core_expr_types/__pv_it/common/9f0c64ef8ae0c02b5dcba32e0fb15bd29f85872a0/expr.ipynb\"><img src=\"../../../../../../core_expr_types/__pv_it/common/9f0c64ef8ae0c02b5dcba32e0fb15bd29f85872a0/expr.png\" style=\"display:inline;vertical-align:middle;\" /></a></td></tr>\n",
       "<tr><td>36</td><td>Literal</td><td></td><td><a class=\"ProveItLink\" href=\"../../../../../../numbers/numerals/__pv_it/common/2778428c7f555b2bdc06aa0530bc142c6e6335100/expr.ipynb\"><img src=\"../../../../../../numbers/numerals/__pv_it/common/2778428c7f555b2bdc06aa0530bc142c6e6335100/expr.png\" style=\"display:inline;vertical-align:middle;\" /></a></td></tr>\n",
       "<tr><td>37</td><td>Variable</td><td></td><td><a class=\"ProveItLink\" href=\"../../../../../../__pv_it/common/8968bb04eb3f7dfa02353397ce929b025bbd79c20/expr.ipynb\"><img src=\"../../../../../../__pv_it/common/8968bb04eb3f7dfa02353397ce929b025bbd79c20/expr.png\" style=\"display:inline;vertical-align:middle;\" /></a></td></tr>\n",
       "<tr><td>38</td><td>IndexedVar</td><td>variable:&nbsp;39<br>index:&nbsp;40<br></td><td><a class=\"ProveItLink\" href=\"../../../../../../core_expr_types/__pv_it/common/ea36c59b79decceeaf696ef762cc9648f9ddbf5c0/expr.ipynb\"><img src=\"../../../../../../core_expr_types/__pv_it/common/ea36c59b79decceeaf696ef762cc9648f9ddbf5c0/expr.png\" style=\"display:inline;vertical-align:middle;\" /></a></td></tr>\n",
       "<tr><td>39</td><td>Variable</td><td></td><td><a class=\"ProveItLink\" href=\"../../../../../../__pv_it/common/c06c606ec12678c58933ac85412ecadc2ae28be60/expr.ipynb\"><img src=\"../../../../../../__pv_it/common/c06c606ec12678c58933ac85412ecadc2ae28be60/expr.png\" style=\"display:inline;vertical-align:middle;\" /></a></td></tr>\n",
       "<tr><td>40</td><td>Variable</td><td></td><td><a class=\"ProveItLink\" href=\"../../../../../../core_expr_types/__pv_it/common/006c465e50948aa2b52285e2de47974f741255cc0/expr.ipynb\"><img src=\"../../../../../../core_expr_types/__pv_it/common/006c465e50948aa2b52285e2de47974f741255cc0/expr.png\" style=\"display:inline;vertical-align:middle;\" /></a></td></tr>\n",
       "</table>\n"
      ],
      "text/plain": [
       "0. (a_{1}, ..a_{_a}.., a_{n}) -> [forall_{P, Q | Q(a_{1}) => P(a_{1}), ..Q(a_{k}) => P(a_{k}).., Q(a_{n}) => P(a_{n})} [forall_{x in {a_{1}, ..a_{_a}.., a_{n}} | Q(x)} P(x)]]\n",
       "   core type: Lambda\n",
       "   parameters: 32\\n   body: 1\n",
       "1. forall_{P, Q | Q(a_{1}) => P(a_{1}), ..Q(a_{k}) => P(a_{k}).., Q(a_{n}) => P(a_{n})} [forall_{x in {a_{1}, ..a_{_a}.., a_{n}} | Q(x)} P(x)]\n",
       "   core type: Operation\n",
       "   operator: 7\n",
       "   operand: 2\n",
       "2. (P, Q) -> {forall_{x in {a_{1}, ..a_{_a}.., a_{n}} | Q(x)} P(x) if (Q(a_{1}) => P(a_{1})) and ..(Q(a_{k}) => P(a_{k})).. and (Q(a_{n}) => P(a_{n})).\n",
       "   core type: Lambda\n",
       "   parameters: 3\\n   body: 4\n",
       "3. (P, Q)\n",
       "   core type: ExprTuple\n",
       "   sub-expressions: 29, 28\n",
       "4. {forall_{x in {a_{1}, ..a_{_a}.., a_{n}} | Q(x)} P(x) if (Q(a_{1}) => P(a_{1})) and ..(Q(a_{k}) => P(a_{k})).. and (Q(a_{n}) => P(a_{n})).\n",
       "   core type: Conditional\n",
       "   value: 5\n",
       "   condition: 6\n",
       "5. forall_{x in {a_{1}, ..a_{_a}.., a_{n}} | Q(x)} P(x)\n",
       "   core type: Operation\n",
       "   operator: 7\n",
       "   operand: 8\n",
       "6. (Q(a_{1}) => P(a_{1})) and ..(Q(a_{k}) => P(a_{k})).. and (Q(a_{n}) => P(a_{n}))\n",
       "   core type: Operation\n",
       "   operator: 15\n",
       "   operands: 9\n",
       "7. forall\n",
       "   core type: Literal\n",
       "   sub-expressions: \n",
       "8. x -> {P(x) if x in {a_{1}, ..a_{_a}.., a_{n}} ,  Q(x).\n",
       "   core type: Lambda\n",
       "   parameter: 26\n",
       "   body: 10\n",
       "9. (Q(a_{1}) => P(a_{1}), ..Q(a_{k}) => P(a_{k}).., Q(a_{n}) => P(a_{n}))\n",
       "   core type: ExprTuple\n",
       "   sub-expressions: 11\n",
       "10. {P(x) if x in {a_{1}, ..a_{_a}.., a_{n}} ,  Q(x).\n",
       "    core type: Conditional\n",
       "    value: 12\n",
       "    condition: 13\n",
       "11. (Q(a_{1}) => P(a_{1})), ..(Q(a_{k}) => P(a_{k})).., (Q(a_{n}) => P(a_{n}))\n",
       "    core type: ExprRange\n",
       "    lambda_map: 14\n",
       "    start_index: 36\n",
       "    end_index: 37\n",
       "12. P(x)\n",
       "    core type: Operation\n",
       "    operator: 29\n",
       "    operand: 26\n",
       "13. (x in {a_{1}, ..a_{_a}.., a_{n}}) and Q(x)\n",
       "    core type: Operation\n",
       "    operator: 15\n",
       "    operands: 16\n",
       "14. k -> (Q(a_{k}) => P(a_{k}))\n",
       "    core type: Lambda\n",
       "    parameter: 33\n",
       "    body: 17\n",
       "15. and\n",
       "    core type: Literal\n",
       "    sub-expressions: \n",
       "16. (x in {a_{1}, ..a_{_a}.., a_{n}}, Q(x))\n",
       "    core type: ExprTuple\n",
       "    sub-expressions: 18, 19\n",
       "17. Q(a_{k}) => P(a_{k})\n",
       "    core type: Operation\n",
       "    operator: 20\n",
       "    operands: 21\n",
       "18. x in {a_{1}, ..a_{_a}.., a_{n}}\n",
       "    core type: Operation\n",
       "    operator: 22\n",
       "    operands: 23\n",
       "19. Q(x)\n",
       "    core type: Operation\n",
       "    operator: 28\n",
       "    operand: 26\n",
       "20. =>\n",
       "    core type: Literal\n",
       "    sub-expressions: \n",
       "21. (Q(a_{k}), P(a_{k}))\n",
       "    core type: ExprTuple\n",
       "    sub-expressions: 24, 25\n",
       "22. in\n",
       "    core type: Literal\n",
       "    sub-expressions: \n",
       "23. (x, {a_{1}, ..a_{_a}.., a_{n}})\n",
       "    core type: ExprTuple\n",
       "    sub-expressions: 26, 27\n",
       "24. Q(a_{k})\n",
       "    core type: Operation\n",
       "    operator: 28\n",
       "    operand: 30\n",
       "25. P(a_{k})\n",
       "    core type: Operation\n",
       "    operator: 29\n",
       "    operand: 30\n",
       "26. x\n",
       "    core type: Variable\n",
       "    sub-expressions: \n",
       "27. {a_{1}, ..a_{_a}.., a_{n}}\n",
       "    core type: Operation\n",
       "    operator: 31\n",
       "    operands: 32\n",
       "28. Q\n",
       "    core type: Variable\n",
       "    sub-expressions: \n",
       "29. P\n",
       "    core type: Variable\n",
       "    sub-expressions: \n",
       "30. a_{k}\n",
       "    core type: IndexedVar\n",
       "variable: 39\n",
       "index: 33\n",
       "31. Set\n",
       "    core type: Literal\n",
       "    sub-expressions: \n",
       "32. (a_{1}, ..a_{_a}.., a_{n})\n",
       "    core type: ExprTuple\n",
       "    sub-expressions: 34\n",
       "33. k\n",
       "    core type: Variable\n",
       "    sub-expressions: \n",
       "34. a_{1}, ..a_{_a}.., a_{n}\n",
       "    core type: ExprRange\n",
       "    lambda_map: 35\n",
       "    start_index: 36\n",
       "    end_index: 37\n",
       "35. _a -> a_{_a}\n",
       "    core type: Lambda\n",
       "    parameter: 40\n",
       "    body: 38\n",
       "36. 1\n",
       "    core type: Literal\n",
       "    sub-expressions: \n",
       "37. n\n",
       "    core type: Variable\n",
       "    sub-expressions: \n",
       "38. a_{_a}\n",
       "    core type: IndexedVar\n",
       "variable: 39\n",
       "index: 40\n",
       "39. a\n",
       "    core type: Variable\n",
       "    sub-expressions: \n",
       "40. _a\n",
       "    core type: Variable\n",
       "    sub-expressions: "
      ]
     },
     "execution_count": 5,
     "metadata": {},
     "output_type": "execute_result"
    }
   ],
   "source": [
    "# display the expression information\n",
    "expr.expr_info()"
   ]
  },
  {
   "cell_type": "code",
   "execution_count": null,
   "metadata": {},
   "outputs": [],
   "source": []
  }
 ],
 "metadata": {
  "kernelspec": {
   "display_name": "Python 3",
   "language": "python",
   "name": "python3"
  }
 },
 "nbformat": 4,
 "nbformat_minor": 0
}