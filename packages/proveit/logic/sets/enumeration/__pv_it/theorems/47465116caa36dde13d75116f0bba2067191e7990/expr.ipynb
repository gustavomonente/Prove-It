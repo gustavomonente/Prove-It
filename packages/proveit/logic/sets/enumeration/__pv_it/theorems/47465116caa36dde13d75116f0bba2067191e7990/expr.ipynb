{
 "cells": [
  {
   "cell_type": "markdown",
   "metadata": {},
   "source": [
    "Expression of type <a class=\"ProveItLink\" href=\"../../../../../../../../doc/html/api/proveit.Conditional.html\">Conditional</a>\n",
    "=======================\n",
    "# from the theory of <a class=\"ProveItLink\" href=\"../../../_theory_nbs_/theory.ipynb\">proveit.logic.sets.enumeration</a>"
   ]
  },
  {
   "cell_type": "code",
   "execution_count": 1,
   "metadata": {},
   "outputs": [],
   "source": [
    "import proveit\n",
    "# Automation is not needed when building an expression:\n",
    "proveit.defaults.automation = False # This will speed things up.\n",
    "proveit.defaults.inline_pngs = False # Makes files smaller.\n",
    "%load_expr # Load the stored expression as 'stored_expr'\n",
    "# import Expression classes needed to build the expression\n",
    "from proveit import Conditional, n, x\n",
    "from proveit.core_expr_types import y_1_to_n\n",
    "from proveit.logic import Forall, InSet, Set\n",
    "from proveit.logic.sets import x_equals_any_y\n",
    "from proveit.numbers import Natural"
   ]
  },
  {
   "cell_type": "code",
   "execution_count": 2,
   "metadata": {},
   "outputs": [
    {
     "data": {
      "text/html": [
       "<strong id=\"expr\">expr:</strong> <a class=\"ProveItLink\" href=\"expr.ipynb\"><img src=\"expr.png\" style=\"display:inline;vertical-align:middle;\" /></a><br>"
      ],
      "text/plain": [
       "expr: {forall_{x, y_{1}, ..y_{_a}.., y_{n} | (x = y_{1}) or ..(x = y_{i}).. or (x = y_{n})} (x in {y_{1}, ..y_{_a}.., y_{n}}) if n in Natural."
      ]
     },
     "execution_count": 2,
     "metadata": {},
     "output_type": "execute_result"
    }
   ],
   "source": [
    "# build up the expression from sub-expressions\n",
    "expr = Conditional(Forall([x, y_1_to_n], InSet(x, Set(y_1_to_n)), condition = x_equals_any_y), InSet(n, Natural))"
   ]
  },
  {
   "cell_type": "code",
   "execution_count": 3,
   "metadata": {},
   "outputs": [
    {
     "name": "stdout",
     "output_type": "stream",
     "text": [
      "Passed sanity check: expr matches stored_expr\n"
     ]
    }
   ],
   "source": [
    "# check that the built expression is the same as the stored expression\n",
    "assert expr == stored_expr\n",
    "assert expr._style_id == stored_expr._style_id\n",
    "print(\"Passed sanity check: expr matches stored_expr\")"
   ]
  },
  {
   "cell_type": "code",
   "execution_count": 4,
   "metadata": {},
   "outputs": [
    {
     "name": "stdout",
     "output_type": "stream",
     "text": [
      "\\left\\{\\forall_{x, y_{1}, \\ldots, y_{n}~|~\\left(x = y_{1}\\right) \\lor \\ldots \\lor \\left(x = y_{n}\\right)}~\\left(x \\in \\left\\{y_{1}, \\ldots, y_{n}\\right\\}\\right) \\textrm{ if } n \\in \\mathbb{N}\\right..\n"
     ]
    }
   ],
   "source": [
    "# Show the LaTeX representation of the expression for convenience if you need it.\n",
    "print(expr.latex())"
   ]
  },
  {
   "cell_type": "code",
   "execution_count": 5,
   "metadata": {},
   "outputs": [
    {
     "data": {
      "text/html": [
       "<table><tr><th>&nbsp;</th><th>core type</th><th>sub-expressions</th><th>expression</th></tr>\n",
       "<tr><td>0</td><td>Conditional</td><td>value:&nbsp;1<br>condition:&nbsp;2<br></td><td><a class=\"ProveItLink\" href=\"expr.ipynb\"><img src=\"expr.png\" style=\"display:inline;vertical-align:middle;\" /></a></td></tr>\n",
       "<tr><td>1</td><td>Operation</td><td>operator:&nbsp;3<br>operand:&nbsp;4<br></td><td><a class=\"ProveItLink\" href=\"../25f271dadf433d0a6530d14c17c98a79bd88e2020/expr.ipynb\"><img src=\"../25f271dadf433d0a6530d14c17c98a79bd88e2020/expr.png\" style=\"display:inline;vertical-align:middle;\" /></a></td></tr>\n",
       "<tr><td>2</td><td>Operation</td><td>operator:&nbsp;11<br>operands:&nbsp;5<br></td><td><a class=\"ProveItLink\" href=\"../7351e7b0b5ab4699fe31eac3b02ba02b17a05bf60/expr.ipynb\"><img src=\"../7351e7b0b5ab4699fe31eac3b02ba02b17a05bf60/expr.png\" style=\"display:inline;vertical-align:middle;\" /></a></td></tr>\n",
       "<tr><td>3</td><td>Literal</td><td></td><td><a class=\"ProveItLink\" href=\"../../../../../booleans/quantification/universality/__pv_it/common/083d2baa0b8ecab1d230f9ec29a15aa1355809fb0/expr.ipynb\"><img src=\"../../../../../booleans/quantification/universality/__pv_it/common/083d2baa0b8ecab1d230f9ec29a15aa1355809fb0/expr.png\" style=\"display:inline;vertical-align:middle;\" /></a></td></tr>\n",
       "<tr><td>4</td><td>Lambda</td><td>parameters:&nbsp;6<br>body:&nbsp;7<br></td><td><a class=\"ProveItLink\" href=\"../24ba8e0753d99511b672b7717664daca160ff10a0/expr.ipynb\"><img src=\"../24ba8e0753d99511b672b7717664daca160ff10a0/expr.png\" style=\"display:inline;vertical-align:middle;\" /></a></td></tr>\n",
       "<tr><td>5</td><td>ExprTuple</td><td>24, 8</td><td><a class=\"ProveItLink\" href=\"../361f8713efdd17d455c1f3e958d6205fdaeaf3c70/expr.ipynb\"><img src=\"../361f8713efdd17d455c1f3e958d6205fdaeaf3c70/expr.png\" style=\"display:inline;vertical-align:middle;\" /></a></td></tr>\n",
       "<tr><td>6</td><td>ExprTuple</td><td>28, 20</td><td><a class=\"ProveItLink\" href=\"../73cdac76007148ccf9423c09f9688fe405de31230/expr.ipynb\"><img src=\"../73cdac76007148ccf9423c09f9688fe405de31230/expr.png\" style=\"display:inline;vertical-align:middle;\" /></a></td></tr>\n",
       "<tr><td>7</td><td>Conditional</td><td>value:&nbsp;9<br>condition:&nbsp;10<br></td><td><a class=\"ProveItLink\" href=\"../e0b4b26ef1d315e8a8a6913949619ca61ce466a00/expr.ipynb\"><img src=\"../e0b4b26ef1d315e8a8a6913949619ca61ce466a00/expr.png\" style=\"display:inline;vertical-align:middle;\" /></a></td></tr>\n",
       "<tr><td>8</td><td>Literal</td><td></td><td><a class=\"ProveItLink\" href=\"../../../../../../numbers/number_sets/natural_numbers/__pv_it/common/8b7c321957f52ed3b05b36af612eeae4fa4783bc0/expr.ipynb\"><img src=\"../../../../../../numbers/number_sets/natural_numbers/__pv_it/common/8b7c321957f52ed3b05b36af612eeae4fa4783bc0/expr.png\" style=\"display:inline;vertical-align:middle;\" /></a></td></tr>\n",
       "<tr><td>9</td><td>Operation</td><td>operator:&nbsp;11<br>operands:&nbsp;12<br></td><td><a class=\"ProveItLink\" href=\"../783c665ba5dcd8ee2a7ab7dbe36f48a1d897112c0/expr.ipynb\"><img src=\"../783c665ba5dcd8ee2a7ab7dbe36f48a1d897112c0/expr.png\" style=\"display:inline;vertical-align:middle;\" /></a></td></tr>\n",
       "<tr><td>10</td><td>Operation</td><td>operator:&nbsp;13<br>operands:&nbsp;14<br></td><td><a class=\"ProveItLink\" href=\"../../../../__pv_it/common/e455b67fb2d9660b454e4129a1acc27aa8eb82e90/expr.ipynb\"><img src=\"../../../../__pv_it/common/e455b67fb2d9660b454e4129a1acc27aa8eb82e90/expr.png\" style=\"display:inline;vertical-align:middle;\" /></a></td></tr>\n",
       "<tr><td>11</td><td>Literal</td><td></td><td><a class=\"ProveItLink\" href=\"../../../../membership/__pv_it/common/477487d8796864d23d5810f83761435f25167f690/expr.ipynb\"><img src=\"../../../../membership/__pv_it/common/477487d8796864d23d5810f83761435f25167f690/expr.png\" style=\"display:inline;vertical-align:middle;\" /></a></td></tr>\n",
       "<tr><td>12</td><td>ExprTuple</td><td>28, 15</td><td><a class=\"ProveItLink\" href=\"../ccdab4bb7965d1fbcc309a208e6336bae57c6b3c0/expr.ipynb\"><img src=\"../ccdab4bb7965d1fbcc309a208e6336bae57c6b3c0/expr.png\" style=\"display:inline;vertical-align:middle;\" /></a></td></tr>\n",
       "<tr><td>13</td><td>Literal</td><td></td><td><a class=\"ProveItLink\" href=\"../../../../../booleans/disjunction/__pv_it/common/ef8e59262ff8e0133aa1ca984dd6b3a41bf69d5b0/expr.ipynb\"><img src=\"../../../../../booleans/disjunction/__pv_it/common/ef8e59262ff8e0133aa1ca984dd6b3a41bf69d5b0/expr.png\" style=\"display:inline;vertical-align:middle;\" /></a></td></tr>\n",
       "<tr><td>14</td><td>ExprTuple</td><td>16</td><td><a class=\"ProveItLink\" href=\"../../../../__pv_it/common/94798c1e8220c8c492bcfba3eb04bd1ac9e6a50a0/expr.ipynb\"><img src=\"../../../../__pv_it/common/94798c1e8220c8c492bcfba3eb04bd1ac9e6a50a0/expr.png\" style=\"display:inline;vertical-align:middle;\" /></a></td></tr>\n",
       "<tr><td>15</td><td>Operation</td><td>operator:&nbsp;17<br>operands:&nbsp;18<br></td><td><a class=\"ProveItLink\" href=\"../8bfab633cfb435a5678874074a6b074f84b647b90/expr.ipynb\"><img src=\"../8bfab633cfb435a5678874074a6b074f84b647b90/expr.png\" style=\"display:inline;vertical-align:middle;\" /></a></td></tr>\n",
       "<tr><td>16</td><td>ExprRange</td><td>lambda_map:&nbsp;19<br>start_index:&nbsp;23<br>end_index:&nbsp;24<br></td><td><a class=\"ProveItLink\" href=\"../../../../__pv_it/common/2bd3374755d47b743009ae5a772a2a535a17f9680/expr.ipynb\"><img src=\"../../../../__pv_it/common/2bd3374755d47b743009ae5a772a2a535a17f9680/expr.png\" style=\"display:inline;vertical-align:middle;\" /></a></td></tr>\n",
       "<tr><td>17</td><td>Literal</td><td></td><td><a class=\"ProveItLink\" href=\"../../common/0ead90ccbf4f17bc585a51f8aa904bb77916ae6e0/expr.ipynb\"><img src=\"../../common/0ead90ccbf4f17bc585a51f8aa904bb77916ae6e0/expr.png\" style=\"display:inline;vertical-align:middle;\" /></a></td></tr>\n",
       "<tr><td>18</td><td>ExprTuple</td><td>20</td><td><a class=\"ProveItLink\" href=\"../632f9873f84762d279db41cdbc4eeecdf22f663a0/expr.ipynb\"><img src=\"../632f9873f84762d279db41cdbc4eeecdf22f663a0/expr.png\" style=\"display:inline;vertical-align:middle;\" /></a></td></tr>\n",
       "<tr><td>19</td><td>Lambda</td><td>parameter:&nbsp;32<br>body:&nbsp;21<br></td><td><a class=\"ProveItLink\" href=\"../../../../__pv_it/common/5f1becee4341b21f348ae85f69cb5136ea846ec00/expr.ipynb\"><img src=\"../../../../__pv_it/common/5f1becee4341b21f348ae85f69cb5136ea846ec00/expr.png\" style=\"display:inline;vertical-align:middle;\" /></a></td></tr>\n",
       "<tr><td>20</td><td>ExprRange</td><td>lambda_map:&nbsp;22<br>start_index:&nbsp;23<br>end_index:&nbsp;24<br></td><td><a class=\"ProveItLink\" href=\"../../../../../../core_expr_types/__pv_it/common/83815096a81411f4169bd53199aa8541663848780/expr.ipynb\"><img src=\"../../../../../../core_expr_types/__pv_it/common/83815096a81411f4169bd53199aa8541663848780/expr.png\" style=\"display:inline;vertical-align:middle;\" /></a></td></tr>\n",
       "<tr><td>21</td><td>Operation</td><td>operator:&nbsp;25<br>operands:&nbsp;26<br></td><td><a class=\"ProveItLink\" href=\"../../../../__pv_it/common/7596cc231f037541760fe93ef2c0386c1d348d3c0/expr.ipynb\"><img src=\"../../../../__pv_it/common/7596cc231f037541760fe93ef2c0386c1d348d3c0/expr.png\" style=\"display:inline;vertical-align:middle;\" /></a></td></tr>\n",
       "<tr><td>22</td><td>Lambda</td><td>parameter:&nbsp;30<br>body:&nbsp;27<br></td><td><a class=\"ProveItLink\" href=\"../../../../../../core_expr_types/__pv_it/common/e78a05a30384462aa15ec8190735b4d58ac945690/expr.ipynb\"><img src=\"../../../../../../core_expr_types/__pv_it/common/e78a05a30384462aa15ec8190735b4d58ac945690/expr.png\" style=\"display:inline;vertical-align:middle;\" /></a></td></tr>\n",
       "<tr><td>23</td><td>Literal</td><td></td><td><a class=\"ProveItLink\" href=\"../../../../../../numbers/numerals/__pv_it/common/2778428c7f555b2bdc06aa0530bc142c6e6335100/expr.ipynb\"><img src=\"../../../../../../numbers/numerals/__pv_it/common/2778428c7f555b2bdc06aa0530bc142c6e6335100/expr.png\" style=\"display:inline;vertical-align:middle;\" /></a></td></tr>\n",
       "<tr><td>24</td><td>Variable</td><td></td><td><a class=\"ProveItLink\" href=\"../../../../../../__pv_it/common/8968bb04eb3f7dfa02353397ce929b025bbd79c20/expr.ipynb\"><img src=\"../../../../../../__pv_it/common/8968bb04eb3f7dfa02353397ce929b025bbd79c20/expr.png\" style=\"display:inline;vertical-align:middle;\" /></a></td></tr>\n",
       "<tr><td>25</td><td>Literal</td><td></td><td><a class=\"ProveItLink\" href=\"../../../../../equality/__pv_it/common/fb96dc12b2aa8801dda64d0132b396c63d1502bb0/expr.ipynb\"><img src=\"../../../../../equality/__pv_it/common/fb96dc12b2aa8801dda64d0132b396c63d1502bb0/expr.png\" style=\"display:inline;vertical-align:middle;\" /></a></td></tr>\n",
       "<tr><td>26</td><td>ExprTuple</td><td>28, 29</td><td><a class=\"ProveItLink\" href=\"../../../../__pv_it/common/8d2f511a06e0b55a68e1fdcf7136e303da9b59490/expr.ipynb\"><img src=\"../../../../__pv_it/common/8d2f511a06e0b55a68e1fdcf7136e303da9b59490/expr.png\" style=\"display:inline;vertical-align:middle;\" /></a></td></tr>\n",
       "<tr><td>27</td><td>IndexedVar</td><td>variable:&nbsp;31<br>index:&nbsp;30<br></td><td><a class=\"ProveItLink\" href=\"../../../../../../core_expr_types/__pv_it/common/bae00704f4077d282c1ca22cbc3aecae7393f3dc0/expr.ipynb\"><img src=\"../../../../../../core_expr_types/__pv_it/common/bae00704f4077d282c1ca22cbc3aecae7393f3dc0/expr.png\" style=\"display:inline;vertical-align:middle;\" /></a></td></tr>\n",
       "<tr><td>28</td><td>Variable</td><td></td><td><a class=\"ProveItLink\" href=\"../../../../../../__pv_it/common/a0d9d672aa5e272d907247690c152cc2c6daafb70/expr.ipynb\"><img src=\"../../../../../../__pv_it/common/a0d9d672aa5e272d907247690c152cc2c6daafb70/expr.png\" style=\"display:inline;vertical-align:middle;\" /></a></td></tr>\n",
       "<tr><td>29</td><td>IndexedVar</td><td>variable:&nbsp;31<br>index:&nbsp;32<br></td><td><a class=\"ProveItLink\" href=\"../../../../__pv_it/common/2e0e7682a6d7383c5609f98c40ed52d4f68a4fe70/expr.ipynb\"><img src=\"../../../../__pv_it/common/2e0e7682a6d7383c5609f98c40ed52d4f68a4fe70/expr.png\" style=\"display:inline;vertical-align:middle;\" /></a></td></tr>\n",
       "<tr><td>30</td><td>Variable</td><td></td><td><a class=\"ProveItLink\" href=\"../../../../../../core_expr_types/__pv_it/common/006c465e50948aa2b52285e2de47974f741255cc0/expr.ipynb\"><img src=\"../../../../../../core_expr_types/__pv_it/common/006c465e50948aa2b52285e2de47974f741255cc0/expr.png\" style=\"display:inline;vertical-align:middle;\" /></a></td></tr>\n",
       "<tr><td>31</td><td>Variable</td><td></td><td><a class=\"ProveItLink\" href=\"../../../../../../__pv_it/common/ff7dba4ef0bbe791ab573bf2d9c220a304399ac80/expr.ipynb\"><img src=\"../../../../../../__pv_it/common/ff7dba4ef0bbe791ab573bf2d9c220a304399ac80/expr.png\" style=\"display:inline;vertical-align:middle;\" /></a></td></tr>\n",
       "<tr><td>32</td><td>Variable</td><td></td><td><a class=\"ProveItLink\" href=\"../../../../../../__pv_it/common/ae955345c83abf786c3aff8681cd5465beae262d0/expr.ipynb\"><img src=\"../../../../../../__pv_it/common/ae955345c83abf786c3aff8681cd5465beae262d0/expr.png\" style=\"display:inline;vertical-align:middle;\" /></a></td></tr>\n",
       "</table>\n"
      ],
      "text/plain": [
       "0. {forall_{x, y_{1}, ..y_{_a}.., y_{n} | (x = y_{1}) or ..(x = y_{i}).. or (x = y_{n})} (x in {y_{1}, ..y_{_a}.., y_{n}}) if n in Natural.\n",
       "   core type: Conditional\n",
       "   value: 1\n",
       "   condition: 2\n",
       "1. forall_{x, y_{1}, ..y_{_a}.., y_{n} | (x = y_{1}) or ..(x = y_{i}).. or (x = y_{n})} (x in {y_{1}, ..y_{_a}.., y_{n}})\n",
       "   core type: Operation\n",
       "   operator: 3\n",
       "   operand: 4\n",
       "2. n in Natural\n",
       "   core type: Operation\n",
       "   operator: 11\n",
       "   operands: 5\n",
       "3. forall\n",
       "   core type: Literal\n",
       "   sub-expressions: \n",
       "4. (x, y_{1}, ..y_{_a}.., y_{n}) -> {x in {y_{1}, ..y_{_a}.., y_{n}} if (x = y_{1}) or ..(x = y_{i}).. or (x = y_{n}).\n",
       "   core type: Lambda\n",
       "   parameters: 6\\n   body: 7\n",
       "5. (n, Natural)\n",
       "   core type: ExprTuple\n",
       "   sub-expressions: 24, 8\n",
       "6. (x, y_{1}, ..y_{_a}.., y_{n})\n",
       "   core type: ExprTuple\n",
       "   sub-expressions: 28, 20\n",
       "7. {x in {y_{1}, ..y_{_a}.., y_{n}} if (x = y_{1}) or ..(x = y_{i}).. or (x = y_{n}).\n",
       "   core type: Conditional\n",
       "   value: 9\n",
       "   condition: 10\n",
       "8. Natural\n",
       "   core type: Literal\n",
       "   sub-expressions: \n",
       "9. x in {y_{1}, ..y_{_a}.., y_{n}}\n",
       "   core type: Operation\n",
       "   operator: 11\n",
       "   operands: 12\n",
       "10. (x = y_{1}) or ..(x = y_{i}).. or (x = y_{n})\n",
       "    core type: Operation\n",
       "    operator: 13\n",
       "    operands: 14\n",
       "11. in\n",
       "    core type: Literal\n",
       "    sub-expressions: \n",
       "12. (x, {y_{1}, ..y_{_a}.., y_{n}})\n",
       "    core type: ExprTuple\n",
       "    sub-expressions: 28, 15\n",
       "13. or\n",
       "    core type: Literal\n",
       "    sub-expressions: \n",
       "14. (x = y_{1}, ..x = y_{i}.., x = y_{n})\n",
       "    core type: ExprTuple\n",
       "    sub-expressions: 16\n",
       "15. {y_{1}, ..y_{_a}.., y_{n}}\n",
       "    core type: Operation\n",
       "    operator: 17\n",
       "    operands: 18\n",
       "16. (x = y_{1}), ..(x = y_{i}).., (x = y_{n})\n",
       "    core type: ExprRange\n",
       "    lambda_map: 19\n",
       "    start_index: 23\n",
       "    end_index: 24\n",
       "17. Set\n",
       "    core type: Literal\n",
       "    sub-expressions: \n",
       "18. (y_{1}, ..y_{_a}.., y_{n})\n",
       "    core type: ExprTuple\n",
       "    sub-expressions: 20\n",
       "19. i -> (x = y_{i})\n",
       "    core type: Lambda\n",
       "    parameter: 32\n",
       "    body: 21\n",
       "20. y_{1}, ..y_{_a}.., y_{n}\n",
       "    core type: ExprRange\n",
       "    lambda_map: 22\n",
       "    start_index: 23\n",
       "    end_index: 24\n",
       "21. x = y_{i}\n",
       "    core type: Operation\n",
       "    operator: 25\n",
       "    operands: 26\n",
       "22. _a -> y_{_a}\n",
       "    core type: Lambda\n",
       "    parameter: 30\n",
       "    body: 27\n",
       "23. 1\n",
       "    core type: Literal\n",
       "    sub-expressions: \n",
       "24. n\n",
       "    core type: Variable\n",
       "    sub-expressions: \n",
       "25. =\n",
       "    core type: Literal\n",
       "    sub-expressions: \n",
       "26. (x, y_{i})\n",
       "    core type: ExprTuple\n",
       "    sub-expressions: 28, 29\n",
       "27. y_{_a}\n",
       "    core type: IndexedVar\n",
       "variable: 31\n",
       "index: 30\n",
       "28. x\n",
       "    core type: Variable\n",
       "    sub-expressions: \n",
       "29. y_{i}\n",
       "    core type: IndexedVar\n",
       "variable: 31\n",
       "index: 32\n",
       "30. _a\n",
       "    core type: Variable\n",
       "    sub-expressions: \n",
       "31. y\n",
       "    core type: Variable\n",
       "    sub-expressions: \n",
       "32. i\n",
       "    core type: Variable\n",
       "    sub-expressions: "
      ]
     },
     "execution_count": 5,
     "metadata": {},
     "output_type": "execute_result"
    }
   ],
   "source": [
    "# display the expression information\n",
    "expr.expr_info()"
   ]
  },
  {
   "cell_type": "code",
   "execution_count": null,
   "metadata": {},
   "outputs": [],
   "source": []
  }
 ],
 "metadata": {
  "kernelspec": {
   "display_name": "Python 3",
   "language": "python",
   "name": "python3"
  }
 },
 "nbformat": 4,
 "nbformat_minor": 0
}