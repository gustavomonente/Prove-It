{
 "cells": [
  {
   "cell_type": "markdown",
   "metadata": {},
   "source": [
    "Expression of type <a class=\"ProveItLink\" href=\"../../../../../../../../doc/html/api/proveit.Lambda.html\">Lambda</a>\n",
    "=======================\n",
    "# from the theory of <a class=\"ProveItLink\" href=\"../../../_theory_nbs_/theory.ipynb\">proveit.logic.sets.enumeration</a>"
   ]
  },
  {
   "cell_type": "code",
   "execution_count": 1,
   "metadata": {},
   "outputs": [],
   "source": [
    "import proveit\n",
    "# Automation is not needed when building an expression:\n",
    "proveit.defaults.automation = False # This will speed things up.\n",
    "proveit.defaults.inline_pngs = False # Makes files smaller.\n",
    "%load_expr # Load the stored expression as 'stored_expr'\n",
    "# import Expression classes needed to build the expression\n",
    "from proveit import Conditional, Lambda, P, Px, Q, Qx, n, x\n",
    "from proveit.core_expr_types import Qk_implies_Pk_a1_to_an, a_1_to_n\n",
    "from proveit.logic import Forall, InSet, Set\n",
    "from proveit.numbers import Natural"
   ]
  },
  {
   "cell_type": "code",
   "execution_count": 2,
   "metadata": {},
   "outputs": [
    {
     "data": {
      "text/html": [
       "<strong id=\"expr\">expr:</strong> <a class=\"ProveItLink\" href=\"expr.ipynb\"><img src=\"expr.png\" style=\"display:inline;vertical-align:middle;\" /></a><br>"
      ],
      "text/plain": [
       "expr: n -> {forall_{a_{1}, ..a_{_a}.., a_{n}} [forall_{P, Q | Q(a_{1}) => P(a_{1}), ..Q(a_{k}) => P(a_{k}).., Q(a_{n}) => P(a_{n})} [forall_{x in {a_{1}, ..a_{_a}.., a_{n}} | Q(x)} P(x)]] if n in Natural."
      ]
     },
     "execution_count": 2,
     "metadata": {},
     "output_type": "execute_result"
    }
   ],
   "source": [
    "# build up the expression from sub-expressions\n",
    "expr = Lambda(n, Conditional(Forall([a_1_to_n], Forall([P, Q], Forall([x], Px, domains = [Set(a_1_to_n)], condition = Qx), condition = Qk_implies_Pk_a1_to_an)), InSet(n, Natural)))"
   ]
  },
  {
   "cell_type": "code",
   "execution_count": 3,
   "metadata": {},
   "outputs": [
    {
     "name": "stdout",
     "output_type": "stream",
     "text": [
      "Passed sanity check: expr matches stored_expr\n"
     ]
    }
   ],
   "source": [
    "# check that the built expression is the same as the stored expression\n",
    "assert expr == stored_expr\n",
    "assert expr._style_id == stored_expr._style_id\n",
    "print(\"Passed sanity check: expr matches stored_expr\")"
   ]
  },
  {
   "cell_type": "code",
   "execution_count": 4,
   "metadata": {},
   "outputs": [
    {
     "name": "stdout",
     "output_type": "stream",
     "text": [
      "n \\mapsto \\left\\{\\forall_{a_{1}, \\ldots, a_{n}}~\\left[\\forall_{P, Q~|~Q(a_{1}) \\Rightarrow P(a_{1}), \\ldots, Q(a_{n}) \\Rightarrow P(a_{n})}~\\left[\\forall_{x \\in \\left\\{a_{1}, \\ldots, a_{n}\\right\\}~|~Q(x)}~P(x)\\right]\\right] \\textrm{ if } n \\in \\mathbb{N}\\right..\n"
     ]
    }
   ],
   "source": [
    "# Show the LaTeX representation of the expression for convenience if you need it.\n",
    "print(expr.latex())"
   ]
  },
  {
   "cell_type": "code",
   "execution_count": 5,
   "metadata": {},
   "outputs": [
    {
     "data": {
      "text/html": [
       "no style options"
      ],
      "text/plain": [
       "no style options"
      ]
     },
     "execution_count": 5,
     "metadata": {},
     "output_type": "execute_result"
    }
   ],
   "source": [
    "expr.style_options()"
   ]
  },
  {
   "cell_type": "code",
   "execution_count": 6,
   "metadata": {},
   "outputs": [
    {
     "data": {
      "text/html": [
       "<table><tr><th>&nbsp;</th><th>core type</th><th>sub-expressions</th><th>expression</th></tr>\n",
       "<tr><td>0</td><td>Lambda</td><td>parameter:&nbsp;49<br>body:&nbsp;1<br></td><td><a class=\"ProveItLink\" href=\"expr.ipynb\"><img src=\"expr.png\" style=\"display:inline;vertical-align:middle;\" /></a></td></tr>\n",
       "<tr><td>1</td><td>Conditional</td><td>value:&nbsp;2<br>condition:&nbsp;3<br></td><td><a class=\"ProveItLink\" href=\"../1b849745a175529ab811f49bbec4f14dea1c5fce0/expr.ipynb\"><img src=\"../1b849745a175529ab811f49bbec4f14dea1c5fce0/expr.png\" style=\"display:inline;vertical-align:middle;\" /></a></td></tr>\n",
       "<tr><td>2</td><td>Operation</td><td>operator:&nbsp;15<br>operand:&nbsp;6<br></td><td><a class=\"ProveItLink\" href=\"../06a6bc686999f836080d443f1c7f17adda9bed720/expr.ipynb\"><img src=\"../06a6bc686999f836080d443f1c7f17adda9bed720/expr.png\" style=\"display:inline;vertical-align:middle;\" /></a></td></tr>\n",
       "<tr><td>3</td><td>Operation</td><td>operator:&nbsp;33<br>operands:&nbsp;5<br></td><td><a class=\"ProveItLink\" href=\"../e3c5b209faa86f1e812d35da64c9d9b711de675d0/expr.ipynb\"><img src=\"../e3c5b209faa86f1e812d35da64c9d9b711de675d0/expr.png\" style=\"display:inline;vertical-align:middle;\" /></a></td></tr>\n",
       "<tr><td>4</td><td>ExprTuple</td><td>6</td><td><a class=\"ProveItLink\" href=\"../637fc4fdd4f0508117cc13b2c4a2d33f7c180d170/expr.ipynb\"><img src=\"../637fc4fdd4f0508117cc13b2c4a2d33f7c180d170/expr.png\" style=\"display:inline;vertical-align:middle;\" /></a></td></tr>\n",
       "<tr><td>5</td><td>ExprTuple</td><td>49, 7</td><td><a class=\"ProveItLink\" href=\"../248776733c2a8aa9cdfdf4f76f63a3d26b6d139d0/expr.ipynb\"><img src=\"../248776733c2a8aa9cdfdf4f76f63a3d26b6d139d0/expr.png\" style=\"display:inline;vertical-align:middle;\" /></a></td></tr>\n",
       "<tr><td>6</td><td>Lambda</td><td>parameters:&nbsp;43<br>body:&nbsp;8<br></td><td><a class=\"ProveItLink\" href=\"../bde7465203a8b3f39b438ec206cea455b05cdc9b0/expr.ipynb\"><img src=\"../bde7465203a8b3f39b438ec206cea455b05cdc9b0/expr.png\" style=\"display:inline;vertical-align:middle;\" /></a></td></tr>\n",
       "<tr><td>7</td><td>Literal</td><td></td><td><a class=\"ProveItLink\" href=\"../../../../../../numbers/number_sets/natural_numbers/__pv_it/common/85c8b43c90a7392ebb5459360d343dfa7c7408b50/expr.ipynb\"><img src=\"../../../../../../numbers/number_sets/natural_numbers/__pv_it/common/85c8b43c90a7392ebb5459360d343dfa7c7408b50/expr.png\" style=\"display:inline;vertical-align:middle;\" /></a></td></tr>\n",
       "<tr><td>8</td><td>Operation</td><td>operator:&nbsp;15<br>operand:&nbsp;10<br></td><td><a class=\"ProveItLink\" href=\"../c07bbbcda07067fbdd31bca76e9a1337f0f2b1950/expr.ipynb\"><img src=\"../c07bbbcda07067fbdd31bca76e9a1337f0f2b1950/expr.png\" style=\"display:inline;vertical-align:middle;\" /></a></td></tr>\n",
       "<tr><td>9</td><td>ExprTuple</td><td>10</td><td><a class=\"ProveItLink\" href=\"../2e968e5f7b29cf57bbd6397e7ec81f3a71d2e90a0/expr.ipynb\"><img src=\"../2e968e5f7b29cf57bbd6397e7ec81f3a71d2e90a0/expr.png\" style=\"display:inline;vertical-align:middle;\" /></a></td></tr>\n",
       "<tr><td>10</td><td>Lambda</td><td>parameters:&nbsp;11<br>body:&nbsp;12<br></td><td><a class=\"ProveItLink\" href=\"../d488bf5ecc2d75154ebf67ebd506d823bed0f15a0/expr.ipynb\"><img src=\"../d488bf5ecc2d75154ebf67ebd506d823bed0f15a0/expr.png\" style=\"display:inline;vertical-align:middle;\" /></a></td></tr>\n",
       "<tr><td>11</td><td>ExprTuple</td><td>37, 36</td><td><a class=\"ProveItLink\" href=\"../538d9f640093e021698a6523c5c0fb98bf2845e50/expr.ipynb\"><img src=\"../538d9f640093e021698a6523c5c0fb98bf2845e50/expr.png\" style=\"display:inline;vertical-align:middle;\" /></a></td></tr>\n",
       "<tr><td>12</td><td>Conditional</td><td>value:&nbsp;13<br>condition:&nbsp;14<br></td><td><a class=\"ProveItLink\" href=\"../5df20590f291f645556d24211be2f12ac00cf80d0/expr.ipynb\"><img src=\"../5df20590f291f645556d24211be2f12ac00cf80d0/expr.png\" style=\"display:inline;vertical-align:middle;\" /></a></td></tr>\n",
       "<tr><td>13</td><td>Operation</td><td>operator:&nbsp;15<br>operand:&nbsp;18<br></td><td><a class=\"ProveItLink\" href=\"../987dbf655943552222ebcc203c27b1d8a350b3d20/expr.ipynb\"><img src=\"../987dbf655943552222ebcc203c27b1d8a350b3d20/expr.png\" style=\"display:inline;vertical-align:middle;\" /></a></td></tr>\n",
       "<tr><td>14</td><td>Operation</td><td>operator:&nbsp;25<br>operands:&nbsp;17<br></td><td><a class=\"ProveItLink\" href=\"../89224aeb5fc0b8b013b6bc62d3237093ccea626c0/expr.ipynb\"><img src=\"../89224aeb5fc0b8b013b6bc62d3237093ccea626c0/expr.png\" style=\"display:inline;vertical-align:middle;\" /></a></td></tr>\n",
       "<tr><td>15</td><td>Literal</td><td></td><td><a class=\"ProveItLink\" href=\"../../../../../booleans/quantification/universality/__pv_it/common/684d35ba98fcbf8ca5011f865e530a51e77730630/expr.ipynb\"><img src=\"../../../../../booleans/quantification/universality/__pv_it/common/684d35ba98fcbf8ca5011f865e530a51e77730630/expr.png\" style=\"display:inline;vertical-align:middle;\" /></a></td></tr>\n",
       "<tr><td>16</td><td>ExprTuple</td><td>18</td><td><a class=\"ProveItLink\" href=\"../af0fdc7f7ac9dea4af1cb66d5430bba9bfb5be060/expr.ipynb\"><img src=\"../af0fdc7f7ac9dea4af1cb66d5430bba9bfb5be060/expr.png\" style=\"display:inline;vertical-align:middle;\" /></a></td></tr>\n",
       "<tr><td>17</td><td>ExprTuple</td><td>19</td><td><a class=\"ProveItLink\" href=\"../5272829b73d3fa1f0436704aa481ef8be83514720/expr.ipynb\"><img src=\"../5272829b73d3fa1f0436704aa481ef8be83514720/expr.png\" style=\"display:inline;vertical-align:middle;\" /></a></td></tr>\n",
       "<tr><td>18</td><td>Lambda</td><td>parameter:&nbsp;40<br>body:&nbsp;20<br></td><td><a class=\"ProveItLink\" href=\"../36062ef98541469c8750bf19de4bb7ac13eba39e0/expr.ipynb\"><img src=\"../36062ef98541469c8750bf19de4bb7ac13eba39e0/expr.png\" style=\"display:inline;vertical-align:middle;\" /></a></td></tr>\n",
       "<tr><td>19</td><td>ExprRange</td><td>lambda_map:&nbsp;21<br>start_index:&nbsp;48<br>end_index:&nbsp;49<br></td><td><a class=\"ProveItLink\" href=\"../../../../../../core_expr_types/__pv_it/common/aa785ba3dbe3162bb85d8b324e58d7abce06dc0f0/expr.ipynb\"><img src=\"../../../../../../core_expr_types/__pv_it/common/aa785ba3dbe3162bb85d8b324e58d7abce06dc0f0/expr.png\" style=\"display:inline;vertical-align:middle;\" /></a></td></tr>\n",
       "<tr><td>20</td><td>Conditional</td><td>value:&nbsp;22<br>condition:&nbsp;23<br></td><td><a class=\"ProveItLink\" href=\"../9326d73ae59bde65502ceb0bea539606cfab48ab0/expr.ipynb\"><img src=\"../9326d73ae59bde65502ceb0bea539606cfab48ab0/expr.png\" style=\"display:inline;vertical-align:middle;\" /></a></td></tr>\n",
       "<tr><td>21</td><td>Lambda</td><td>parameter:&nbsp;46<br>body:&nbsp;24<br></td><td><a class=\"ProveItLink\" href=\"../../../../../../core_expr_types/__pv_it/common/787f2499af46981ccfc5b82b975a1a392acbbf460/expr.ipynb\"><img src=\"../../../../../../core_expr_types/__pv_it/common/787f2499af46981ccfc5b82b975a1a392acbbf460/expr.png\" style=\"display:inline;vertical-align:middle;\" /></a></td></tr>\n",
       "<tr><td>22</td><td>Operation</td><td>operator:&nbsp;37<br>operand:&nbsp;40<br></td><td><a class=\"ProveItLink\" href=\"../../../../../../__pv_it/common/ed3ed03681b166b9fbefedb104a4f950026141260/expr.ipynb\"><img src=\"../../../../../../__pv_it/common/ed3ed03681b166b9fbefedb104a4f950026141260/expr.png\" style=\"display:inline;vertical-align:middle;\" /></a></td></tr>\n",
       "<tr><td>23</td><td>Operation</td><td>operator:&nbsp;25<br>operands:&nbsp;26<br></td><td><a class=\"ProveItLink\" href=\"../aab8a2b751cd6ca13fa03d0fb84683ffd466d53a0/expr.ipynb\"><img src=\"../aab8a2b751cd6ca13fa03d0fb84683ffd466d53a0/expr.png\" style=\"display:inline;vertical-align:middle;\" /></a></td></tr>\n",
       "<tr><td>24</td><td>Operation</td><td>operator:&nbsp;27<br>operands:&nbsp;28<br></td><td><a class=\"ProveItLink\" href=\"../../../../../../core_expr_types/__pv_it/common/9e37d9e3fc6bd8f669baf009e507de35501d98a90/expr.ipynb\"><img src=\"../../../../../../core_expr_types/__pv_it/common/9e37d9e3fc6bd8f669baf009e507de35501d98a90/expr.png\" style=\"display:inline;vertical-align:middle;\" /></a></td></tr>\n",
       "<tr><td>25</td><td>Literal</td><td></td><td><a class=\"ProveItLink\" href=\"../../../../../booleans/conjunction/__pv_it/common/26b94b53e70b1d77b70f0d9d4236347db37731060/expr.ipynb\"><img src=\"../../../../../booleans/conjunction/__pv_it/common/26b94b53e70b1d77b70f0d9d4236347db37731060/expr.png\" style=\"display:inline;vertical-align:middle;\" /></a></td></tr>\n",
       "<tr><td>26</td><td>ExprTuple</td><td>29, 30</td><td><a class=\"ProveItLink\" href=\"../70ee4e8722f26a9c775e11afe8e230de14045a430/expr.ipynb\"><img src=\"../70ee4e8722f26a9c775e11afe8e230de14045a430/expr.png\" style=\"display:inline;vertical-align:middle;\" /></a></td></tr>\n",
       "<tr><td>27</td><td>Literal</td><td></td><td><a class=\"ProveItLink\" href=\"../../../../../booleans/implication/__pv_it/common/95a8cc69d34af52c7732e4a6fefbd5b63e8d31ba0/expr.ipynb\"><img src=\"../../../../../booleans/implication/__pv_it/common/95a8cc69d34af52c7732e4a6fefbd5b63e8d31ba0/expr.png\" style=\"display:inline;vertical-align:middle;\" /></a></td></tr>\n",
       "<tr><td>28</td><td>ExprTuple</td><td>31, 32</td><td><a class=\"ProveItLink\" href=\"../../../../../../core_expr_types/__pv_it/common/6211d3b9d2501c9eb46cf50d264e484968173b960/expr.ipynb\"><img src=\"../../../../../../core_expr_types/__pv_it/common/6211d3b9d2501c9eb46cf50d264e484968173b960/expr.png\" style=\"display:inline;vertical-align:middle;\" /></a></td></tr>\n",
       "<tr><td>29</td><td>Operation</td><td>operator:&nbsp;33<br>operands:&nbsp;34<br></td><td><a class=\"ProveItLink\" href=\"../52b18e5766139585cbd434b541acfa10eecc07bc0/expr.ipynb\"><img src=\"../52b18e5766139585cbd434b541acfa10eecc07bc0/expr.png\" style=\"display:inline;vertical-align:middle;\" /></a></td></tr>\n",
       "<tr><td>30</td><td>Operation</td><td>operator:&nbsp;36<br>operand:&nbsp;40<br></td><td><a class=\"ProveItLink\" href=\"../../../../../../__pv_it/common/c880b7f5dcd3cdce86bc330706239936151d2f7a0/expr.ipynb\"><img src=\"../../../../../../__pv_it/common/c880b7f5dcd3cdce86bc330706239936151d2f7a0/expr.png\" style=\"display:inline;vertical-align:middle;\" /></a></td></tr>\n",
       "<tr><td>31</td><td>Operation</td><td>operator:&nbsp;36<br>operand:&nbsp;41<br></td><td><a class=\"ProveItLink\" href=\"../../../../../../core_expr_types/__pv_it/common/b1a734fc65eebeabad167eca3f99ea42fa9984cf0/expr.ipynb\"><img src=\"../../../../../../core_expr_types/__pv_it/common/b1a734fc65eebeabad167eca3f99ea42fa9984cf0/expr.png\" style=\"display:inline;vertical-align:middle;\" /></a></td></tr>\n",
       "<tr><td>32</td><td>Operation</td><td>operator:&nbsp;37<br>operand:&nbsp;41<br></td><td><a class=\"ProveItLink\" href=\"../../../../../../core_expr_types/__pv_it/common/fa1bc44decfa60ecf8b7c0df2733735c808053fe0/expr.ipynb\"><img src=\"../../../../../../core_expr_types/__pv_it/common/fa1bc44decfa60ecf8b7c0df2733735c808053fe0/expr.png\" style=\"display:inline;vertical-align:middle;\" /></a></td></tr>\n",
       "<tr><td>33</td><td>Literal</td><td></td><td><a class=\"ProveItLink\" href=\"../../../../membership/__pv_it/common/7171deca84f71f47a6ec7696972d1632274a12880/expr.ipynb\"><img src=\"../../../../membership/__pv_it/common/7171deca84f71f47a6ec7696972d1632274a12880/expr.png\" style=\"display:inline;vertical-align:middle;\" /></a></td></tr>\n",
       "<tr><td>34</td><td>ExprTuple</td><td>40, 39</td><td><a class=\"ProveItLink\" href=\"../968a3d7a80ba3871f2d347d8511130a7b102148a0/expr.ipynb\"><img src=\"../968a3d7a80ba3871f2d347d8511130a7b102148a0/expr.png\" style=\"display:inline;vertical-align:middle;\" /></a></td></tr>\n",
       "<tr><td>35</td><td>ExprTuple</td><td>40</td><td><a class=\"ProveItLink\" href=\"../../../../../../__pv_it/common/a49c8f25f899a16b1dbcf2257505d5464a9a7bb50/expr.ipynb\"><img src=\"../../../../../../__pv_it/common/a49c8f25f899a16b1dbcf2257505d5464a9a7bb50/expr.png\" style=\"display:inline;vertical-align:middle;\" /></a></td></tr>\n",
       "<tr><td>36</td><td>Variable</td><td></td><td><a class=\"ProveItLink\" href=\"../../../../../../__pv_it/common/50527aea954422d65ebe44b8de200683294751540/expr.ipynb\"><img src=\"../../../../../../__pv_it/common/50527aea954422d65ebe44b8de200683294751540/expr.png\" style=\"display:inline;vertical-align:middle;\" /></a></td></tr>\n",
       "<tr><td>37</td><td>Variable</td><td></td><td><a class=\"ProveItLink\" href=\"../../../../../../__pv_it/common/d5fc3066299847984076662ce51556220bdb6cfb0/expr.ipynb\"><img src=\"../../../../../../__pv_it/common/d5fc3066299847984076662ce51556220bdb6cfb0/expr.png\" style=\"display:inline;vertical-align:middle;\" /></a></td></tr>\n",
       "<tr><td>38</td><td>ExprTuple</td><td>41</td><td><a class=\"ProveItLink\" href=\"../../../../../../core_expr_types/__pv_it/common/c4b8345e89bf92e3c38f3b438531cf77267c32e60/expr.ipynb\"><img src=\"../../../../../../core_expr_types/__pv_it/common/c4b8345e89bf92e3c38f3b438531cf77267c32e60/expr.png\" style=\"display:inline;vertical-align:middle;\" /></a></td></tr>\n",
       "<tr><td>39</td><td>Operation</td><td>operator:&nbsp;42<br>operands:&nbsp;43<br></td><td><a class=\"ProveItLink\" href=\"../87c50483abef44405eac4a700805a1d531107a9b0/expr.ipynb\"><img src=\"../87c50483abef44405eac4a700805a1d531107a9b0/expr.png\" style=\"display:inline;vertical-align:middle;\" /></a></td></tr>\n",
       "<tr><td>40</td><td>Variable</td><td></td><td><a class=\"ProveItLink\" href=\"../../../../../../__pv_it/common/a2581dc5df71d9a30bad37de14965fa5fec97a240/expr.ipynb\"><img src=\"../../../../../../__pv_it/common/a2581dc5df71d9a30bad37de14965fa5fec97a240/expr.png\" style=\"display:inline;vertical-align:middle;\" /></a></td></tr>\n",
       "<tr><td>41</td><td>IndexedVar</td><td>variable:&nbsp;51<br>index:&nbsp;46<br></td><td><a class=\"ProveItLink\" href=\"../../../../../../core_expr_types/__pv_it/common/910ff783c5bd10af92c87a24c4fec49ec6529c750/expr.ipynb\"><img src=\"../../../../../../core_expr_types/__pv_it/common/910ff783c5bd10af92c87a24c4fec49ec6529c750/expr.png\" style=\"display:inline;vertical-align:middle;\" /></a></td></tr>\n",
       "<tr><td>42</td><td>Literal</td><td></td><td><a class=\"ProveItLink\" href=\"../../common/f7caf702081f903a6ea3d95d680568dd78698f5a0/expr.ipynb\"><img src=\"../../common/f7caf702081f903a6ea3d95d680568dd78698f5a0/expr.png\" style=\"display:inline;vertical-align:middle;\" /></a></td></tr>\n",
       "<tr><td>43</td><td>ExprTuple</td><td>45</td><td><a class=\"ProveItLink\" href=\"../3c2073fded113a048bf7371c726cf466ae4d92300/expr.ipynb\"><img src=\"../3c2073fded113a048bf7371c726cf466ae4d92300/expr.png\" style=\"display:inline;vertical-align:middle;\" /></a></td></tr>\n",
       "<tr><td>44</td><td>ExprTuple</td><td>46</td><td><a class=\"ProveItLink\" href=\"../../../../../../__pv_it/common/797070a9ef2f9957a44157444d93fbe100e2d7430/expr.ipynb\"><img src=\"../../../../../../__pv_it/common/797070a9ef2f9957a44157444d93fbe100e2d7430/expr.png\" style=\"display:inline;vertical-align:middle;\" /></a></td></tr>\n",
       "<tr><td>45</td><td>ExprRange</td><td>lambda_map:&nbsp;47<br>start_index:&nbsp;48<br>end_index:&nbsp;49<br></td><td><a class=\"ProveItLink\" href=\"../../../../../../core_expr_types/__pv_it/common/95cc4bc4f612e88f5f51ce4796fd60b1d217c7850/expr.ipynb\"><img src=\"../../../../../../core_expr_types/__pv_it/common/95cc4bc4f612e88f5f51ce4796fd60b1d217c7850/expr.png\" style=\"display:inline;vertical-align:middle;\" /></a></td></tr>\n",
       "<tr><td>46</td><td>Variable</td><td></td><td><a class=\"ProveItLink\" href=\"../../../../../../__pv_it/common/b9fd37fc619babc74a6203459f110251586df6970/expr.ipynb\"><img src=\"../../../../../../__pv_it/common/b9fd37fc619babc74a6203459f110251586df6970/expr.png\" style=\"display:inline;vertical-align:middle;\" /></a></td></tr>\n",
       "<tr><td>47</td><td>Lambda</td><td>parameter:&nbsp;53<br>body:&nbsp;50<br></td><td><a class=\"ProveItLink\" href=\"../../../../../../core_expr_types/__pv_it/common/99ea59f1b92e70eddeee736182b1abeb9f49c91b0/expr.ipynb\"><img src=\"../../../../../../core_expr_types/__pv_it/common/99ea59f1b92e70eddeee736182b1abeb9f49c91b0/expr.png\" style=\"display:inline;vertical-align:middle;\" /></a></td></tr>\n",
       "<tr><td>48</td><td>Literal</td><td></td><td><a class=\"ProveItLink\" href=\"../../../../../../numbers/numerals/__pv_it/common/d278e359da0695d9652dd541d45264f93703e2e40/expr.ipynb\"><img src=\"../../../../../../numbers/numerals/__pv_it/common/d278e359da0695d9652dd541d45264f93703e2e40/expr.png\" style=\"display:inline;vertical-align:middle;\" /></a></td></tr>\n",
       "<tr><td>49</td><td>Variable</td><td></td><td><a class=\"ProveItLink\" href=\"../../../../../../__pv_it/common/6165c9bb82ce3c7097cdba4440a1aeeb6eaca8a40/expr.ipynb\"><img src=\"../../../../../../__pv_it/common/6165c9bb82ce3c7097cdba4440a1aeeb6eaca8a40/expr.png\" style=\"display:inline;vertical-align:middle;\" /></a></td></tr>\n",
       "<tr><td>50</td><td>IndexedVar</td><td>variable:&nbsp;51<br>index:&nbsp;53<br></td><td><a class=\"ProveItLink\" href=\"../../../../../../core_expr_types/__pv_it/common/d8d3053e77ba1db68c0cd106952422881db586670/expr.ipynb\"><img src=\"../../../../../../core_expr_types/__pv_it/common/d8d3053e77ba1db68c0cd106952422881db586670/expr.png\" style=\"display:inline;vertical-align:middle;\" /></a></td></tr>\n",
       "<tr><td>51</td><td>Variable</td><td></td><td><a class=\"ProveItLink\" href=\"../../../../../../__pv_it/common/66c90e66682f107a881f2d666959f64e2e72ad750/expr.ipynb\"><img src=\"../../../../../../__pv_it/common/66c90e66682f107a881f2d666959f64e2e72ad750/expr.png\" style=\"display:inline;vertical-align:middle;\" /></a></td></tr>\n",
       "<tr><td>52</td><td>ExprTuple</td><td>53</td><td><a class=\"ProveItLink\" href=\"../../../../../../core_expr_types/__pv_it/common/ecf50ade416ab41c42c9f4e777b4c862cd9469670/expr.ipynb\"><img src=\"../../../../../../core_expr_types/__pv_it/common/ecf50ade416ab41c42c9f4e777b4c862cd9469670/expr.png\" style=\"display:inline;vertical-align:middle;\" /></a></td></tr>\n",
       "<tr><td>53</td><td>Variable</td><td></td><td><a class=\"ProveItLink\" href=\"../../../../../../core_expr_types/__pv_it/common/9e6d9d5d7eeb0342cf5bca68def0eb165a1a9bb10/expr.ipynb\"><img src=\"../../../../../../core_expr_types/__pv_it/common/9e6d9d5d7eeb0342cf5bca68def0eb165a1a9bb10/expr.png\" style=\"display:inline;vertical-align:middle;\" /></a></td></tr>\n",
       "</table>\n"
      ],
      "text/plain": [
       "0. n -> {forall_{a_{1}, ..a_{_a}.., a_{n}} [forall_{P, Q | Q(a_{1}) => P(a_{1}), ..Q(a_{k}) => P(a_{k}).., Q(a_{n}) => P(a_{n})} [forall_{x in {a_{1}, ..a_{_a}.., a_{n}} | Q(x)} P(x)]] if n in Natural.\n",
       "   core type: Lambda\n",
       "   parameter: 49\n",
       "   body: 1\n",
       "1. {forall_{a_{1}, ..a_{_a}.., a_{n}} [forall_{P, Q | Q(a_{1}) => P(a_{1}), ..Q(a_{k}) => P(a_{k}).., Q(a_{n}) => P(a_{n})} [forall_{x in {a_{1}, ..a_{_a}.., a_{n}} | Q(x)} P(x)]] if n in Natural.\n",
       "   core type: Conditional\n",
       "   value: 2\n",
       "   condition: 3\n",
       "2. forall_{a_{1}, ..a_{_a}.., a_{n}} [forall_{P, Q | Q(a_{1}) => P(a_{1}), ..Q(a_{k}) => P(a_{k}).., Q(a_{n}) => P(a_{n})} [forall_{x in {a_{1}, ..a_{_a}.., a_{n}} | Q(x)} P(x)]]\n",
       "   core type: Operation\n",
       "   operator: 15\n",
       "   operand: 6\n",
       "3. n in Natural\n",
       "   core type: Operation\n",
       "   operator: 33\n",
       "   operands: 5\n",
       "4. ((a_{1}, ..a_{_a}.., a_{n}) -> [forall_{P, Q | Q(a_{1}) => P(a_{1}), ..Q(a_{k}) => P(a_{k}).., Q(a_{n}) => P(a_{n})} [forall_{x in {a_{1}, ..a_{_a}.., a_{n}} | Q(x)} P(x)]])\n",
       "   core type: ExprTuple\n",
       "   sub-expressions: 6\n",
       "5. (n, Natural)\n",
       "   core type: ExprTuple\n",
       "   sub-expressions: 49, 7\n",
       "6. (a_{1}, ..a_{_a}.., a_{n}) -> [forall_{P, Q | Q(a_{1}) => P(a_{1}), ..Q(a_{k}) => P(a_{k}).., Q(a_{n}) => P(a_{n})} [forall_{x in {a_{1}, ..a_{_a}.., a_{n}} | Q(x)} P(x)]]\n",
       "   core type: Lambda\n",
       "   parameters: 43\\n   body: 8\n",
       "7. Natural\n",
       "   core type: Literal\n",
       "   sub-expressions: \n",
       "8. forall_{P, Q | Q(a_{1}) => P(a_{1}), ..Q(a_{k}) => P(a_{k}).., Q(a_{n}) => P(a_{n})} [forall_{x in {a_{1}, ..a_{_a}.., a_{n}} | Q(x)} P(x)]\n",
       "   core type: Operation\n",
       "   operator: 15\n",
       "   operand: 10\n",
       "9. ((P, Q) -> {forall_{x in {a_{1}, ..a_{_a}.., a_{n}} | Q(x)} P(x) if (Q(a_{1}) => P(a_{1})) and ..(Q(a_{k}) => P(a_{k})).. and (Q(a_{n}) => P(a_{n})).)\n",
       "   core type: ExprTuple\n",
       "   sub-expressions: 10\n",
       "10. (P, Q) -> {forall_{x in {a_{1}, ..a_{_a}.., a_{n}} | Q(x)} P(x) if (Q(a_{1}) => P(a_{1})) and ..(Q(a_{k}) => P(a_{k})).. and (Q(a_{n}) => P(a_{n})).\n",
       "    core type: Lambda\n",
       "    parameters: 11\\n    body: 12\n",
       "11. (P, Q)\n",
       "    core type: ExprTuple\n",
       "    sub-expressions: 37, 36\n",
       "12. {forall_{x in {a_{1}, ..a_{_a}.., a_{n}} | Q(x)} P(x) if (Q(a_{1}) => P(a_{1})) and ..(Q(a_{k}) => P(a_{k})).. and (Q(a_{n}) => P(a_{n})).\n",
       "    core type: Conditional\n",
       "    value: 13\n",
       "    condition: 14\n",
       "13. forall_{x in {a_{1}, ..a_{_a}.., a_{n}} | Q(x)} P(x)\n",
       "    core type: Operation\n",
       "    operator: 15\n",
       "    operand: 18\n",
       "14. (Q(a_{1}) => P(a_{1})) and ..(Q(a_{k}) => P(a_{k})).. and (Q(a_{n}) => P(a_{n}))\n",
       "    core type: Operation\n",
       "    operator: 25\n",
       "    operands: 17\n",
       "15. forall\n",
       "    core type: Literal\n",
       "    sub-expressions: \n",
       "16. (x -> {P(x) if x in {a_{1}, ..a_{_a}.., a_{n}} ,  Q(x).)\n",
       "    core type: ExprTuple\n",
       "    sub-expressions: 18\n",
       "17. (Q(a_{1}) => P(a_{1}), ..Q(a_{k}) => P(a_{k}).., Q(a_{n}) => P(a_{n}))\n",
       "    core type: ExprTuple\n",
       "    sub-expressions: 19\n",
       "18. x -> {P(x) if x in {a_{1}, ..a_{_a}.., a_{n}} ,  Q(x).\n",
       "    core type: Lambda\n",
       "    parameter: 40\n",
       "    body: 20\n",
       "19. (Q(a_{1}) => P(a_{1})), ..(Q(a_{k}) => P(a_{k})).., (Q(a_{n}) => P(a_{n}))\n",
       "    core type: ExprRange\n",
       "    lambda_map: 21\n",
       "    start_index: 48\n",
       "    end_index: 49\n",
       "20. {P(x) if x in {a_{1}, ..a_{_a}.., a_{n}} ,  Q(x).\n",
       "    core type: Conditional\n",
       "    value: 22\n",
       "    condition: 23\n",
       "21. k -> (Q(a_{k}) => P(a_{k}))\n",
       "    core type: Lambda\n",
       "    parameter: 46\n",
       "    body: 24\n",
       "22. P(x)\n",
       "    core type: Operation\n",
       "    operator: 37\n",
       "    operand: 40\n",
       "23. (x in {a_{1}, ..a_{_a}.., a_{n}}) and Q(x)\n",
       "    core type: Operation\n",
       "    operator: 25\n",
       "    operands: 26\n",
       "24. Q(a_{k}) => P(a_{k})\n",
       "    core type: Operation\n",
       "    operator: 27\n",
       "    operands: 28\n",
       "25. and\n",
       "    core type: Literal\n",
       "    sub-expressions: \n",
       "26. (x in {a_{1}, ..a_{_a}.., a_{n}}, Q(x))\n",
       "    core type: ExprTuple\n",
       "    sub-expressions: 29, 30\n",
       "27. =>\n",
       "    core type: Literal\n",
       "    sub-expressions: \n",
       "28. (Q(a_{k}), P(a_{k}))\n",
       "    core type: ExprTuple\n",
       "    sub-expressions: 31, 32\n",
       "29. x in {a_{1}, ..a_{_a}.., a_{n}}\n",
       "    core type: Operation\n",
       "    operator: 33\n",
       "    operands: 34\n",
       "30. Q(x)\n",
       "    core type: Operation\n",
       "    operator: 36\n",
       "    operand: 40\n",
       "31. Q(a_{k})\n",
       "    core type: Operation\n",
       "    operator: 36\n",
       "    operand: 41\n",
       "32. P(a_{k})\n",
       "    core type: Operation\n",
       "    operator: 37\n",
       "    operand: 41\n",
       "33. in\n",
       "    core type: Literal\n",
       "    sub-expressions: \n",
       "34. (x, {a_{1}, ..a_{_a}.., a_{n}})\n",
       "    core type: ExprTuple\n",
       "    sub-expressions: 40, 39\n",
       "35. (x)\n",
       "    core type: ExprTuple\n",
       "    sub-expressions: 40\n",
       "36. Q\n",
       "    core type: Variable\n",
       "    sub-expressions: \n",
       "37. P\n",
       "    core type: Variable\n",
       "    sub-expressions: \n",
       "38. (a_{k})\n",
       "    core type: ExprTuple\n",
       "    sub-expressions: 41\n",
       "39. {a_{1}, ..a_{_a}.., a_{n}}\n",
       "    core type: Operation\n",
       "    operator: 42\n",
       "    operands: 43\n",
       "40. x\n",
       "    core type: Variable\n",
       "    sub-expressions: \n",
       "41. a_{k}\n",
       "    core type: IndexedVar\n",
       "variable: 51\n",
       "index: 46\n",
       "42. Set\n",
       "    core type: Literal\n",
       "    sub-expressions: \n",
       "43. (a_{1}, ..a_{_a}.., a_{n})\n",
       "    core type: ExprTuple\n",
       "    sub-expressions: 45\n",
       "44. (k)\n",
       "    core type: ExprTuple\n",
       "    sub-expressions: 46\n",
       "45. a_{1}, ..a_{_a}.., a_{n}\n",
       "    core type: ExprRange\n",
       "    lambda_map: 47\n",
       "    start_index: 48\n",
       "    end_index: 49\n",
       "46. k\n",
       "    core type: Variable\n",
       "    sub-expressions: \n",
       "47. _a -> a_{_a}\n",
       "    core type: Lambda\n",
       "    parameter: 53\n",
       "    body: 50\n",
       "48. 1\n",
       "    core type: Literal\n",
       "    sub-expressions: \n",
       "49. n\n",
       "    core type: Variable\n",
       "    sub-expressions: \n",
       "50. a_{_a}\n",
       "    core type: IndexedVar\n",
       "variable: 51\n",
       "index: 53\n",
       "51. a\n",
       "    core type: Variable\n",
       "    sub-expressions: \n",
       "52. (_a)\n",
       "    core type: ExprTuple\n",
       "    sub-expressions: 53\n",
       "53. _a\n",
       "    core type: Variable\n",
       "    sub-expressions: "
      ]
     },
     "execution_count": 6,
     "metadata": {},
     "output_type": "execute_result"
    }
   ],
   "source": [
    "# display the expression information\n",
    "expr.expr_info()"
   ]
  },
  {
   "cell_type": "code",
   "execution_count": null,
   "metadata": {},
   "outputs": [],
   "source": []
  }
 ],
 "metadata": {
  "kernelspec": {
   "display_name": "Python 3",
   "language": "python",
   "name": "python3"
  }
 },
 "nbformat": 4,
 "nbformat_minor": 0
}