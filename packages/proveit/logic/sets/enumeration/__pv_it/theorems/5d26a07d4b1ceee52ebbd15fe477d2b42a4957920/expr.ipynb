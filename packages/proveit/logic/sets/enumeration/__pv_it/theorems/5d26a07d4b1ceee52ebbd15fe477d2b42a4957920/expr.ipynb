{
 "cells": [
  {
   "cell_type": "markdown",
   "metadata": {},
   "source": [
    "Expression of type <a class=\"ProveItLink\" href=\"../../../../../../../../doc/html/api/proveit.logic.Forall.html\">Forall</a>\n",
    "=======================\n",
    "# from the theory of <a class=\"ProveItLink\" href=\"../../../_theory_nbs_/theory.ipynb\">proveit.logic.sets.enumeration</a>"
   ]
  },
  {
   "cell_type": "code",
   "execution_count": 1,
   "metadata": {},
   "outputs": [],
   "source": [
    "import proveit\n",
    "# Automation is not needed when building an expression:\n",
    "proveit.defaults.automation = False # This will speed things up.\n",
    "proveit.defaults.inline_pngs = False # Makes files smaller.\n",
    "%load_expr # Load the stored expression as 'stored_expr'\n",
    "# import Expression classes needed to build the expression\n",
    "from proveit import i, j, k, x\n",
    "from proveit.core_expr_types import a_1_to_i, b_1_to_j, c_1_to_k\n",
    "from proveit.logic import Equals, Forall, Set\n",
    "from proveit.numbers import Natural"
   ]
  },
  {
   "cell_type": "code",
   "execution_count": 2,
   "metadata": {},
   "outputs": [
    {
     "data": {
      "text/html": [
       "<strong id=\"expr\">expr:</strong> <a class=\"ProveItLink\" href=\"expr.ipynb\"><img src=\"expr.png\" style=\"display:inline;vertical-align:middle;\" /></a><br>"
      ],
      "text/plain": [
       "expr: forall_{i, j, k in Natural} [forall_{a_{1}, ..a_{_a}.., a_{i}, x, b_{1}, ..b_{_a}.., b_{j}, c_{1}, ..c_{_a}.., c_{k}} ({a_{1}, ..a_{_a}.., a_{i}, x, b_{1}, ..b_{_a}.., b_{j}, x, c_{1}, ..c_{_a}.., c_{k}} = {a_{1}, ..a_{_a}.., a_{i}, x, b_{1}, ..b_{_a}.., b_{j}, c_{1}, ..c_{_a}.., c_{k}})]"
      ]
     },
     "execution_count": 2,
     "metadata": {},
     "output_type": "execute_result"
    }
   ],
   "source": [
    "# build up the expression from sub-expressions\n",
    "expr = Forall([i, j, k], Forall([a_1_to_i, x, b_1_to_j, c_1_to_k], Equals(Set(a_1_to_i, x, b_1_to_j, x, c_1_to_k), Set(a_1_to_i, x, b_1_to_j, c_1_to_k))), domains = [Natural, Natural, Natural])"
   ]
  },
  {
   "cell_type": "code",
   "execution_count": 3,
   "metadata": {},
   "outputs": [
    {
     "name": "stdout",
     "output_type": "stream",
     "text": [
      "Passed sanity check: expr matches stored_expr\n"
     ]
    }
   ],
   "source": [
    "# check that the built expression is the same as the stored expression\n",
    "assert expr == stored_expr\n",
    "assert expr._style_id == stored_expr._style_id\n",
    "print(\"Passed sanity check: expr matches stored_expr\")"
   ]
  },
  {
   "cell_type": "code",
   "execution_count": 4,
   "metadata": {},
   "outputs": [
    {
     "name": "stdout",
     "output_type": "stream",
     "text": [
      "\\forall_{i, j, k \\in \\mathbb{N}}~\\left[\\forall_{a_{1}, \\ldots, a_{i}, x, b_{1}, \\ldots, b_{j}, c_{1}, \\ldots, c_{k}}~\\left(\\left\\{a_{1}, \\ldots, a_{i}, x, b_{1}, \\ldots, b_{j}, x, c_{1}, \\ldots, c_{k}\\right\\} = \\left\\{a_{1}, \\ldots, a_{i}, x, b_{1}, \\ldots, b_{j}, c_{1}, \\ldots, c_{k}\\right\\}\\right)\\right]\n"
     ]
    }
   ],
   "source": [
    "# Show the LaTeX representation of the expression for convenience if you need it.\n",
    "print(expr.latex())"
   ]
  },
  {
   "cell_type": "code",
   "execution_count": 5,
   "metadata": {},
   "outputs": [
    {
     "data": {
      "text/html": [
       "<table><tr><th>&nbsp;</th><th>core type</th><th>sub-expressions</th><th>expression</th></tr>\n",
       "<tr><td>0</td><td>Operation</td><td>operator:&nbsp;6<br>operand:&nbsp;1<br></td><td><a class=\"ProveItLink\" href=\"expr.ipynb\"><img src=\"expr.png\" style=\"display:inline;vertical-align:middle;\" /></a></td></tr>\n",
       "<tr><td>1</td><td>Lambda</td><td>parameters:&nbsp;2<br>body:&nbsp;3<br></td><td><a class=\"ProveItLink\" href=\"../56e9913dfd4f50e43909006ef552fdd810bec2370/expr.ipynb\"><img src=\"../56e9913dfd4f50e43909006ef552fdd810bec2370/expr.png\" style=\"display:inline;vertical-align:middle;\" /></a></td></tr>\n",
       "<tr><td>2</td><td>ExprTuple</td><td>31, 33, 36</td><td><a class=\"ProveItLink\" href=\"../9999a853dc4d84b640e5e66b68052bc8d9f27d710/expr.ipynb\"><img src=\"../9999a853dc4d84b640e5e66b68052bc8d9f27d710/expr.png\" style=\"display:inline;vertical-align:middle;\" /></a></td></tr>\n",
       "<tr><td>3</td><td>Conditional</td><td>value:&nbsp;4<br>condition:&nbsp;5<br></td><td><a class=\"ProveItLink\" href=\"../1e616e0dbe40bece364f672610390e751572782b0/expr.ipynb\"><img src=\"../1e616e0dbe40bece364f672610390e751572782b0/expr.png\" style=\"display:inline;vertical-align:middle;\" /></a></td></tr>\n",
       "<tr><td>4</td><td>Operation</td><td>operator:&nbsp;6<br>operand:&nbsp;7<br></td><td><a class=\"ProveItLink\" href=\"../b1806d32f5c5e6635756889e31e607210debf9b60/expr.ipynb\"><img src=\"../b1806d32f5c5e6635756889e31e607210debf9b60/expr.png\" style=\"display:inline;vertical-align:middle;\" /></a></td></tr>\n",
       "<tr><td>5</td><td>Operation</td><td>operator:&nbsp;8<br>operands:&nbsp;9<br></td><td><a class=\"ProveItLink\" href=\"../848a18c4a2b15245df2988bb586f56c2609310ea0/expr.ipynb\"><img src=\"../848a18c4a2b15245df2988bb586f56c2609310ea0/expr.png\" style=\"display:inline;vertical-align:middle;\" /></a></td></tr>\n",
       "<tr><td>6</td><td>Literal</td><td></td><td><a class=\"ProveItLink\" href=\"../../../../../booleans/quantification/universality/__pv_it/common/083d2baa0b8ecab1d230f9ec29a15aa1355809fb0/expr.ipynb\"><img src=\"../../../../../booleans/quantification/universality/__pv_it/common/083d2baa0b8ecab1d230f9ec29a15aa1355809fb0/expr.png\" style=\"display:inline;vertical-align:middle;\" /></a></td></tr>\n",
       "<tr><td>7</td><td>Lambda</td><td>parameters:&nbsp;25<br>body:&nbsp;10<br></td><td><a class=\"ProveItLink\" href=\"../5bfe4b848dd361f244e1e1bf28a8924dca5d97180/expr.ipynb\"><img src=\"../5bfe4b848dd361f244e1e1bf28a8924dca5d97180/expr.png\" style=\"display:inline;vertical-align:middle;\" /></a></td></tr>\n",
       "<tr><td>8</td><td>Literal</td><td></td><td><a class=\"ProveItLink\" href=\"../../../../../booleans/conjunction/__pv_it/common/42118ff318bd65d98b1393f64ce7c2269feef76e0/expr.ipynb\"><img src=\"../../../../../booleans/conjunction/__pv_it/common/42118ff318bd65d98b1393f64ce7c2269feef76e0/expr.png\" style=\"display:inline;vertical-align:middle;\" /></a></td></tr>\n",
       "<tr><td>9</td><td>ExprTuple</td><td>11, 12, 13</td><td><a class=\"ProveItLink\" href=\"../50642d13947894989e8fa090de596e161284512d0/expr.ipynb\"><img src=\"../50642d13947894989e8fa090de596e161284512d0/expr.png\" style=\"display:inline;vertical-align:middle;\" /></a></td></tr>\n",
       "<tr><td>10</td><td>Operation</td><td>operator:&nbsp;14<br>operands:&nbsp;15<br></td><td><a class=\"ProveItLink\" href=\"../7512d6c185cb8bcedc043f501c427b8adb774e940/expr.ipynb\"><img src=\"../7512d6c185cb8bcedc043f501c427b8adb774e940/expr.png\" style=\"display:inline;vertical-align:middle;\" /></a></td></tr>\n",
       "<tr><td>11</td><td>Operation</td><td>operator:&nbsp;18<br>operands:&nbsp;16<br></td><td><a class=\"ProveItLink\" href=\"../77453244b9b142f8e48d56f8430a0ce1c1c2842e0/expr.ipynb\"><img src=\"../77453244b9b142f8e48d56f8430a0ce1c1c2842e0/expr.png\" style=\"display:inline;vertical-align:middle;\" /></a></td></tr>\n",
       "<tr><td>12</td><td>Operation</td><td>operator:&nbsp;18<br>operands:&nbsp;17<br></td><td><a class=\"ProveItLink\" href=\"../5594bc7f5eda7c3902859420e321c8733675d2970/expr.ipynb\"><img src=\"../5594bc7f5eda7c3902859420e321c8733675d2970/expr.png\" style=\"display:inline;vertical-align:middle;\" /></a></td></tr>\n",
       "<tr><td>13</td><td>Operation</td><td>operator:&nbsp;18<br>operands:&nbsp;19<br></td><td><a class=\"ProveItLink\" href=\"../2b0f206128cb96ca5b8a6be9b93ea8de271fb0ce0/expr.ipynb\"><img src=\"../2b0f206128cb96ca5b8a6be9b93ea8de271fb0ce0/expr.png\" style=\"display:inline;vertical-align:middle;\" /></a></td></tr>\n",
       "<tr><td>14</td><td>Literal</td><td></td><td><a class=\"ProveItLink\" href=\"../../../../../equality/__pv_it/common/fb96dc12b2aa8801dda64d0132b396c63d1502bb0/expr.ipynb\"><img src=\"../../../../../equality/__pv_it/common/fb96dc12b2aa8801dda64d0132b396c63d1502bb0/expr.png\" style=\"display:inline;vertical-align:middle;\" /></a></td></tr>\n",
       "<tr><td>15</td><td>ExprTuple</td><td>20, 21</td><td><a class=\"ProveItLink\" href=\"../7dbf09709c1da461316fdc381d00138d08c2d58d0/expr.ipynb\"><img src=\"../7dbf09709c1da461316fdc381d00138d08c2d58d0/expr.png\" style=\"display:inline;vertical-align:middle;\" /></a></td></tr>\n",
       "<tr><td>16</td><td>ExprTuple</td><td>31, 22</td><td><a class=\"ProveItLink\" href=\"../da20b1ea4e358a467d39b599d0db223dcf1dcb930/expr.ipynb\"><img src=\"../da20b1ea4e358a467d39b599d0db223dcf1dcb930/expr.png\" style=\"display:inline;vertical-align:middle;\" /></a></td></tr>\n",
       "<tr><td>17</td><td>ExprTuple</td><td>33, 22</td><td><a class=\"ProveItLink\" href=\"../1b49cc2da52eb8b409efffc3d71d83927b15cfc40/expr.ipynb\"><img src=\"../1b49cc2da52eb8b409efffc3d71d83927b15cfc40/expr.png\" style=\"display:inline;vertical-align:middle;\" /></a></td></tr>\n",
       "<tr><td>18</td><td>Literal</td><td></td><td><a class=\"ProveItLink\" href=\"../../../../membership/__pv_it/common/477487d8796864d23d5810f83761435f25167f690/expr.ipynb\"><img src=\"../../../../membership/__pv_it/common/477487d8796864d23d5810f83761435f25167f690/expr.png\" style=\"display:inline;vertical-align:middle;\" /></a></td></tr>\n",
       "<tr><td>19</td><td>ExprTuple</td><td>36, 22</td><td><a class=\"ProveItLink\" href=\"../618ab2d195f68694d48aa25cd63785b7f3bdb7a30/expr.ipynb\"><img src=\"../618ab2d195f68694d48aa25cd63785b7f3bdb7a30/expr.png\" style=\"display:inline;vertical-align:middle;\" /></a></td></tr>\n",
       "<tr><td>20</td><td>Operation</td><td>operator:&nbsp;24<br>operands:&nbsp;23<br></td><td><a class=\"ProveItLink\" href=\"../c344c3c92418a998e5e72c3a8e96945a039e9a190/expr.ipynb\"><img src=\"../c344c3c92418a998e5e72c3a8e96945a039e9a190/expr.png\" style=\"display:inline;vertical-align:middle;\" /></a></td></tr>\n",
       "<tr><td>21</td><td>Operation</td><td>operator:&nbsp;24<br>operands:&nbsp;25<br></td><td><a class=\"ProveItLink\" href=\"../59cf0d7a53db757325fd72af1cf28bff46e4df020/expr.ipynb\"><img src=\"../59cf0d7a53db757325fd72af1cf28bff46e4df020/expr.png\" style=\"display:inline;vertical-align:middle;\" /></a></td></tr>\n",
       "<tr><td>22</td><td>Literal</td><td></td><td><a class=\"ProveItLink\" href=\"../../../../../../numbers/number_sets/natural_numbers/__pv_it/common/8b7c321957f52ed3b05b36af612eeae4fa4783bc0/expr.ipynb\"><img src=\"../../../../../../numbers/number_sets/natural_numbers/__pv_it/common/8b7c321957f52ed3b05b36af612eeae4fa4783bc0/expr.png\" style=\"display:inline;vertical-align:middle;\" /></a></td></tr>\n",
       "<tr><td>23</td><td>ExprTuple</td><td>26, 27, 28, 27, 29</td><td><a class=\"ProveItLink\" href=\"../64b4d9fc5676913a8f0af78e9791c5932c20d95f0/expr.ipynb\"><img src=\"../64b4d9fc5676913a8f0af78e9791c5932c20d95f0/expr.png\" style=\"display:inline;vertical-align:middle;\" /></a></td></tr>\n",
       "<tr><td>24</td><td>Literal</td><td></td><td><a class=\"ProveItLink\" href=\"../../common/0ead90ccbf4f17bc585a51f8aa904bb77916ae6e0/expr.ipynb\"><img src=\"../../common/0ead90ccbf4f17bc585a51f8aa904bb77916ae6e0/expr.png\" style=\"display:inline;vertical-align:middle;\" /></a></td></tr>\n",
       "<tr><td>25</td><td>ExprTuple</td><td>26, 27, 28, 29</td><td><a class=\"ProveItLink\" href=\"../0f6882febd902a1380954a20e022ac0995c279450/expr.ipynb\"><img src=\"../0f6882febd902a1380954a20e022ac0995c279450/expr.png\" style=\"display:inline;vertical-align:middle;\" /></a></td></tr>\n",
       "<tr><td>26</td><td>ExprRange</td><td>lambda_map:&nbsp;30<br>start_index:&nbsp;35<br>end_index:&nbsp;31<br></td><td><a class=\"ProveItLink\" href=\"../../../../../../core_expr_types/__pv_it/common/3143372b81f4215c0f48ddd93ca9c77fdfbd3fc20/expr.ipynb\"><img src=\"../../../../../../core_expr_types/__pv_it/common/3143372b81f4215c0f48ddd93ca9c77fdfbd3fc20/expr.png\" style=\"display:inline;vertical-align:middle;\" /></a></td></tr>\n",
       "<tr><td>27</td><td>Variable</td><td></td><td><a class=\"ProveItLink\" href=\"../../../../../../__pv_it/common/a0d9d672aa5e272d907247690c152cc2c6daafb70/expr.ipynb\"><img src=\"../../../../../../__pv_it/common/a0d9d672aa5e272d907247690c152cc2c6daafb70/expr.png\" style=\"display:inline;vertical-align:middle;\" /></a></td></tr>\n",
       "<tr><td>28</td><td>ExprRange</td><td>lambda_map:&nbsp;32<br>start_index:&nbsp;35<br>end_index:&nbsp;33<br></td><td><a class=\"ProveItLink\" href=\"../../../../../../core_expr_types/__pv_it/common/04a009a369958ec3b80ac6387b0fb199d00619dd0/expr.ipynb\"><img src=\"../../../../../../core_expr_types/__pv_it/common/04a009a369958ec3b80ac6387b0fb199d00619dd0/expr.png\" style=\"display:inline;vertical-align:middle;\" /></a></td></tr>\n",
       "<tr><td>29</td><td>ExprRange</td><td>lambda_map:&nbsp;34<br>start_index:&nbsp;35<br>end_index:&nbsp;36<br></td><td><a class=\"ProveItLink\" href=\"../../../../../../core_expr_types/__pv_it/common/020340b9181c055c5d15adf94352b57417320c0f0/expr.ipynb\"><img src=\"../../../../../../core_expr_types/__pv_it/common/020340b9181c055c5d15adf94352b57417320c0f0/expr.png\" style=\"display:inline;vertical-align:middle;\" /></a></td></tr>\n",
       "<tr><td>30</td><td>Lambda</td><td>parameter:&nbsp;43<br>body:&nbsp;37<br></td><td><a class=\"ProveItLink\" href=\"../../../../../../core_expr_types/__pv_it/common/9f0c64ef8ae0c02b5dcba32e0fb15bd29f85872a0/expr.ipynb\"><img src=\"../../../../../../core_expr_types/__pv_it/common/9f0c64ef8ae0c02b5dcba32e0fb15bd29f85872a0/expr.png\" style=\"display:inline;vertical-align:middle;\" /></a></td></tr>\n",
       "<tr><td>31</td><td>Variable</td><td></td><td><a class=\"ProveItLink\" href=\"../../../../../../__pv_it/common/ae955345c83abf786c3aff8681cd5465beae262d0/expr.ipynb\"><img src=\"../../../../../../__pv_it/common/ae955345c83abf786c3aff8681cd5465beae262d0/expr.png\" style=\"display:inline;vertical-align:middle;\" /></a></td></tr>\n",
       "<tr><td>32</td><td>Lambda</td><td>parameter:&nbsp;43<br>body:&nbsp;38<br></td><td><a class=\"ProveItLink\" href=\"../../../../../../core_expr_types/__pv_it/common/c2df84a66e11f720c679abb1b2e017879a8ed4350/expr.ipynb\"><img src=\"../../../../../../core_expr_types/__pv_it/common/c2df84a66e11f720c679abb1b2e017879a8ed4350/expr.png\" style=\"display:inline;vertical-align:middle;\" /></a></td></tr>\n",
       "<tr><td>33</td><td>Variable</td><td></td><td><a class=\"ProveItLink\" href=\"../../../../../../__pv_it/common/1ed21df18baca2f42b561a7ffbf30a2743d594650/expr.ipynb\"><img src=\"../../../../../../__pv_it/common/1ed21df18baca2f42b561a7ffbf30a2743d594650/expr.png\" style=\"display:inline;vertical-align:middle;\" /></a></td></tr>\n",
       "<tr><td>34</td><td>Lambda</td><td>parameter:&nbsp;43<br>body:&nbsp;39<br></td><td><a class=\"ProveItLink\" href=\"../../../../../../core_expr_types/__pv_it/common/eba5dead6140ec223e25e265b736e83e185c334c0/expr.ipynb\"><img src=\"../../../../../../core_expr_types/__pv_it/common/eba5dead6140ec223e25e265b736e83e185c334c0/expr.png\" style=\"display:inline;vertical-align:middle;\" /></a></td></tr>\n",
       "<tr><td>35</td><td>Literal</td><td></td><td><a class=\"ProveItLink\" href=\"../../../../../../numbers/numerals/__pv_it/common/2778428c7f555b2bdc06aa0530bc142c6e6335100/expr.ipynb\"><img src=\"../../../../../../numbers/numerals/__pv_it/common/2778428c7f555b2bdc06aa0530bc142c6e6335100/expr.png\" style=\"display:inline;vertical-align:middle;\" /></a></td></tr>\n",
       "<tr><td>36</td><td>Variable</td><td></td><td><a class=\"ProveItLink\" href=\"../../../../../../__pv_it/common/63b7c64bf9ec7a04ecc396c7a1670f3f12fb59490/expr.ipynb\"><img src=\"../../../../../../__pv_it/common/63b7c64bf9ec7a04ecc396c7a1670f3f12fb59490/expr.png\" style=\"display:inline;vertical-align:middle;\" /></a></td></tr>\n",
       "<tr><td>37</td><td>IndexedVar</td><td>variable:&nbsp;40<br>index:&nbsp;43<br></td><td><a class=\"ProveItLink\" href=\"../../../../../../core_expr_types/__pv_it/common/ea36c59b79decceeaf696ef762cc9648f9ddbf5c0/expr.ipynb\"><img src=\"../../../../../../core_expr_types/__pv_it/common/ea36c59b79decceeaf696ef762cc9648f9ddbf5c0/expr.png\" style=\"display:inline;vertical-align:middle;\" /></a></td></tr>\n",
       "<tr><td>38</td><td>IndexedVar</td><td>variable:&nbsp;41<br>index:&nbsp;43<br></td><td><a class=\"ProveItLink\" href=\"../../../../../../core_expr_types/__pv_it/common/be357322e6b23f6bdf544b2cf09607618adbd09b0/expr.ipynb\"><img src=\"../../../../../../core_expr_types/__pv_it/common/be357322e6b23f6bdf544b2cf09607618adbd09b0/expr.png\" style=\"display:inline;vertical-align:middle;\" /></a></td></tr>\n",
       "<tr><td>39</td><td>IndexedVar</td><td>variable:&nbsp;42<br>index:&nbsp;43<br></td><td><a class=\"ProveItLink\" href=\"../../../../../../core_expr_types/__pv_it/common/ce0e3deabb2d7b0cf29fae3ec1fe2c2fd5d1de600/expr.ipynb\"><img src=\"../../../../../../core_expr_types/__pv_it/common/ce0e3deabb2d7b0cf29fae3ec1fe2c2fd5d1de600/expr.png\" style=\"display:inline;vertical-align:middle;\" /></a></td></tr>\n",
       "<tr><td>40</td><td>Variable</td><td></td><td><a class=\"ProveItLink\" href=\"../../../../../../__pv_it/common/c06c606ec12678c58933ac85412ecadc2ae28be60/expr.ipynb\"><img src=\"../../../../../../__pv_it/common/c06c606ec12678c58933ac85412ecadc2ae28be60/expr.png\" style=\"display:inline;vertical-align:middle;\" /></a></td></tr>\n",
       "<tr><td>41</td><td>Variable</td><td></td><td><a class=\"ProveItLink\" href=\"../../../../../../__pv_it/common/195236b98c6c564a75b5dbada74b173bc52d5c3e0/expr.ipynb\"><img src=\"../../../../../../__pv_it/common/195236b98c6c564a75b5dbada74b173bc52d5c3e0/expr.png\" style=\"display:inline;vertical-align:middle;\" /></a></td></tr>\n",
       "<tr><td>42</td><td>Variable</td><td></td><td><a class=\"ProveItLink\" href=\"../../../../../../__pv_it/common/ceef4280a2f1cc604b455b54e735507244cc62cd0/expr.ipynb\"><img src=\"../../../../../../__pv_it/common/ceef4280a2f1cc604b455b54e735507244cc62cd0/expr.png\" style=\"display:inline;vertical-align:middle;\" /></a></td></tr>\n",
       "<tr><td>43</td><td>Variable</td><td></td><td><a class=\"ProveItLink\" href=\"../../../../../../core_expr_types/__pv_it/common/006c465e50948aa2b52285e2de47974f741255cc0/expr.ipynb\"><img src=\"../../../../../../core_expr_types/__pv_it/common/006c465e50948aa2b52285e2de47974f741255cc0/expr.png\" style=\"display:inline;vertical-align:middle;\" /></a></td></tr>\n",
       "</table>\n"
      ],
      "text/plain": [
       "0. forall_{i, j, k in Natural} [forall_{a_{1}, ..a_{_a}.., a_{i}, x, b_{1}, ..b_{_a}.., b_{j}, c_{1}, ..c_{_a}.., c_{k}} ({a_{1}, ..a_{_a}.., a_{i}, x, b_{1}, ..b_{_a}.., b_{j}, x, c_{1}, ..c_{_a}.., c_{k}} = {a_{1}, ..a_{_a}.., a_{i}, x, b_{1}, ..b_{_a}.., b_{j}, c_{1}, ..c_{_a}.., c_{k}})]\n",
       "   core type: Operation\n",
       "   operator: 6\n",
       "   operand: 1\n",
       "1. (i, j, k) -> {forall_{a_{1}, ..a_{_a}.., a_{i}, x, b_{1}, ..b_{_a}.., b_{j}, c_{1}, ..c_{_a}.., c_{k}} ({a_{1}, ..a_{_a}.., a_{i}, x, b_{1}, ..b_{_a}.., b_{j}, x, c_{1}, ..c_{_a}.., c_{k}} = {a_{1}, ..a_{_a}.., a_{i}, x, b_{1}, ..b_{_a}.., b_{j}, c_{1}, ..c_{_a}.., c_{k}}) if i in Natural ,  j in Natural ,  k in Natural.\n",
       "   core type: Lambda\n",
       "   parameters: 2\\n   body: 3\n",
       "2. (i, j, k)\n",
       "   core type: ExprTuple\n",
       "   sub-expressions: 31, 33, 36\n",
       "3. {forall_{a_{1}, ..a_{_a}.., a_{i}, x, b_{1}, ..b_{_a}.., b_{j}, c_{1}, ..c_{_a}.., c_{k}} ({a_{1}, ..a_{_a}.., a_{i}, x, b_{1}, ..b_{_a}.., b_{j}, x, c_{1}, ..c_{_a}.., c_{k}} = {a_{1}, ..a_{_a}.., a_{i}, x, b_{1}, ..b_{_a}.., b_{j}, c_{1}, ..c_{_a}.., c_{k}}) if i in Natural ,  j in Natural ,  k in Natural.\n",
       "   core type: Conditional\n",
       "   value: 4\n",
       "   condition: 5\n",
       "4. forall_{a_{1}, ..a_{_a}.., a_{i}, x, b_{1}, ..b_{_a}.., b_{j}, c_{1}, ..c_{_a}.., c_{k}} ({a_{1}, ..a_{_a}.., a_{i}, x, b_{1}, ..b_{_a}.., b_{j}, x, c_{1}, ..c_{_a}.., c_{k}} = {a_{1}, ..a_{_a}.., a_{i}, x, b_{1}, ..b_{_a}.., b_{j}, c_{1}, ..c_{_a}.., c_{k}})\n",
       "   core type: Operation\n",
       "   operator: 6\n",
       "   operand: 7\n",
       "5. (i in Natural) and (j in Natural) and (k in Natural)\n",
       "   core type: Operation\n",
       "   operator: 8\n",
       "   operands: 9\n",
       "6. forall\n",
       "   core type: Literal\n",
       "   sub-expressions: \n",
       "7. (a_{1}, ..a_{_a}.., a_{i}, x, b_{1}, ..b_{_a}.., b_{j}, c_{1}, ..c_{_a}.., c_{k}) -> ({a_{1}, ..a_{_a}.., a_{i}, x, b_{1}, ..b_{_a}.., b_{j}, x, c_{1}, ..c_{_a}.., c_{k}} = {a_{1}, ..a_{_a}.., a_{i}, x, b_{1}, ..b_{_a}.., b_{j}, c_{1}, ..c_{_a}.., c_{k}})\n",
       "   core type: Lambda\n",
       "   parameters: 25\\n   body: 10\n",
       "8. and\n",
       "   core type: Literal\n",
       "   sub-expressions: \n",
       "9. (i in Natural, j in Natural, k in Natural)\n",
       "   core type: ExprTuple\n",
       "   sub-expressions: 11, 12, 13\n",
       "10. {a_{1}, ..a_{_a}.., a_{i}, x, b_{1}, ..b_{_a}.., b_{j}, x, c_{1}, ..c_{_a}.., c_{k}} = {a_{1}, ..a_{_a}.., a_{i}, x, b_{1}, ..b_{_a}.., b_{j}, c_{1}, ..c_{_a}.., c_{k}}\n",
       "    core type: Operation\n",
       "    operator: 14\n",
       "    operands: 15\n",
       "11. i in Natural\n",
       "    core type: Operation\n",
       "    operator: 18\n",
       "    operands: 16\n",
       "12. j in Natural\n",
       "    core type: Operation\n",
       "    operator: 18\n",
       "    operands: 17\n",
       "13. k in Natural\n",
       "    core type: Operation\n",
       "    operator: 18\n",
       "    operands: 19\n",
       "14. =\n",
       "    core type: Literal\n",
       "    sub-expressions: \n",
       "15. ({a_{1}, ..a_{_a}.., a_{i}, x, b_{1}, ..b_{_a}.., b_{j}, x, c_{1}, ..c_{_a}.., c_{k}}, {a_{1}, ..a_{_a}.., a_{i}, x, b_{1}, ..b_{_a}.., b_{j}, c_{1}, ..c_{_a}.., c_{k}})\n",
       "    core type: ExprTuple\n",
       "    sub-expressions: 20, 21\n",
       "16. (i, Natural)\n",
       "    core type: ExprTuple\n",
       "    sub-expressions: 31, 22\n",
       "17. (j, Natural)\n",
       "    core type: ExprTuple\n",
       "    sub-expressions: 33, 22\n",
       "18. in\n",
       "    core type: Literal\n",
       "    sub-expressions: \n",
       "19. (k, Natural)\n",
       "    core type: ExprTuple\n",
       "    sub-expressions: 36, 22\n",
       "20. {a_{1}, ..a_{_a}.., a_{i}, x, b_{1}, ..b_{_a}.., b_{j}, x, c_{1}, ..c_{_a}.., c_{k}}\n",
       "    core type: Operation\n",
       "    operator: 24\n",
       "    operands: 23\n",
       "21. {a_{1}, ..a_{_a}.., a_{i}, x, b_{1}, ..b_{_a}.., b_{j}, c_{1}, ..c_{_a}.., c_{k}}\n",
       "    core type: Operation\n",
       "    operator: 24\n",
       "    operands: 25\n",
       "22. Natural\n",
       "    core type: Literal\n",
       "    sub-expressions: \n",
       "23. (a_{1}, ..a_{_a}.., a_{i}, x, b_{1}, ..b_{_a}.., b_{j}, x, c_{1}, ..c_{_a}.., c_{k})\n",
       "    core type: ExprTuple\n",
       "    sub-expressions: 26, 27, 28, 27, 29\n",
       "24. Set\n",
       "    core type: Literal\n",
       "    sub-expressions: \n",
       "25. (a_{1}, ..a_{_a}.., a_{i}, x, b_{1}, ..b_{_a}.., b_{j}, c_{1}, ..c_{_a}.., c_{k})\n",
       "    core type: ExprTuple\n",
       "    sub-expressions: 26, 27, 28, 29\n",
       "26. a_{1}, ..a_{_a}.., a_{i}\n",
       "    core type: ExprRange\n",
       "    lambda_map: 30\n",
       "    start_index: 35\n",
       "    end_index: 31\n",
       "27. x\n",
       "    core type: Variable\n",
       "    sub-expressions: \n",
       "28. b_{1}, ..b_{_a}.., b_{j}\n",
       "    core type: ExprRange\n",
       "    lambda_map: 32\n",
       "    start_index: 35\n",
       "    end_index: 33\n",
       "29. c_{1}, ..c_{_a}.., c_{k}\n",
       "    core type: ExprRange\n",
       "    lambda_map: 34\n",
       "    start_index: 35\n",
       "    end_index: 36\n",
       "30. _a -> a_{_a}\n",
       "    core type: Lambda\n",
       "    parameter: 43\n",
       "    body: 37\n",
       "31. i\n",
       "    core type: Variable\n",
       "    sub-expressions: \n",
       "32. _a -> b_{_a}\n",
       "    core type: Lambda\n",
       "    parameter: 43\n",
       "    body: 38\n",
       "33. j\n",
       "    core type: Variable\n",
       "    sub-expressions: \n",
       "34. _a -> c_{_a}\n",
       "    core type: Lambda\n",
       "    parameter: 43\n",
       "    body: 39\n",
       "35. 1\n",
       "    core type: Literal\n",
       "    sub-expressions: \n",
       "36. k\n",
       "    core type: Variable\n",
       "    sub-expressions: \n",
       "37. a_{_a}\n",
       "    core type: IndexedVar\n",
       "variable: 40\n",
       "index: 43\n",
       "38. b_{_a}\n",
       "    core type: IndexedVar\n",
       "variable: 41\n",
       "index: 43\n",
       "39. c_{_a}\n",
       "    core type: IndexedVar\n",
       "variable: 42\n",
       "index: 43\n",
       "40. a\n",
       "    core type: Variable\n",
       "    sub-expressions: \n",
       "41. b\n",
       "    core type: Variable\n",
       "    sub-expressions: \n",
       "42. c\n",
       "    core type: Variable\n",
       "    sub-expressions: \n",
       "43. _a\n",
       "    core type: Variable\n",
       "    sub-expressions: "
      ]
     },
     "execution_count": 5,
     "metadata": {},
     "output_type": "execute_result"
    }
   ],
   "source": [
    "# display the expression information\n",
    "expr.expr_info()"
   ]
  },
  {
   "cell_type": "code",
   "execution_count": null,
   "metadata": {},
   "outputs": [],
   "source": []
  }
 ],
 "metadata": {
  "kernelspec": {
   "display_name": "Python 3",
   "language": "python",
   "name": "python3"
  }
 },
 "nbformat": 4,
 "nbformat_minor": 0
}