{
 "cells": [
  {
   "cell_type": "markdown",
   "metadata": {},
   "source": [
    "Expression of type <a class=\"ProveItLink\" href=\"../../../../../../../../doc/html/api/proveit.Lambda.html\">Lambda</a>\n",
    "=======================\n",
    "# from the theory of <a class=\"ProveItLink\" href=\"../../../_theory_nbs_/theory.ipynb\">proveit.logic.sets.enumeration</a>"
   ]
  },
  {
   "cell_type": "code",
   "execution_count": 1,
   "metadata": {},
   "outputs": [],
   "source": [
    "import proveit\n",
    "# Automation is not needed when building an expression:\n",
    "proveit.defaults.automation = False # This will speed things up.\n",
    "proveit.defaults.inline_pngs = False # Makes files smaller.\n",
    "%load_expr # Load the stored expression as 'stored_expr'\n",
    "# import Expression classes needed to build the expression\n",
    "from proveit import Conditional, Lambda, P, Px, x\n",
    "from proveit.core_expr_types import Pk_a1_to_an, a_1_to_n\n",
    "from proveit.logic import And, Forall, Set"
   ]
  },
  {
   "cell_type": "code",
   "execution_count": 2,
   "metadata": {},
   "outputs": [
    {
     "data": {
      "text/html": [
       "<strong id=\"expr\">expr:</strong> <a class=\"ProveItLink\" href=\"expr.ipynb\"><img src=\"expr.png\" style=\"display:inline;vertical-align:middle;\" /></a><br>"
      ],
      "text/plain": [
       "expr: P -> {forall_{x in {a_{1}, ..a_{_a}.., a_{n}}} P(x) if P(a_{1}) and ..P(a_{k}).. and P(a_{n})."
      ]
     },
     "execution_count": 2,
     "metadata": {},
     "output_type": "execute_result"
    }
   ],
   "source": [
    "# build up the expression from sub-expressions\n",
    "expr = Lambda(P, Conditional(Forall([x], Px, domains = [Set(a_1_to_n)]), And(Pk_a1_to_an)))"
   ]
  },
  {
   "cell_type": "code",
   "execution_count": 3,
   "metadata": {},
   "outputs": [
    {
     "name": "stdout",
     "output_type": "stream",
     "text": [
      "Passed sanity check: expr matches stored_expr\n"
     ]
    }
   ],
   "source": [
    "# check that the built expression is the same as the stored expression\n",
    "assert expr == stored_expr\n",
    "assert expr._style_id == stored_expr._style_id\n",
    "print(\"Passed sanity check: expr matches stored_expr\")"
   ]
  },
  {
   "cell_type": "code",
   "execution_count": 4,
   "metadata": {},
   "outputs": [
    {
     "name": "stdout",
     "output_type": "stream",
     "text": [
      "P \\mapsto \\left\\{\\forall_{x \\in \\left\\{a_{1}, \\ldots, a_{n}\\right\\}}~P(x) \\textrm{ if } P(a_{1}) \\land \\ldots \\land P(a_{n})\\right..\n"
     ]
    }
   ],
   "source": [
    "# Show the LaTeX representation of the expression for convenience if you need it.\n",
    "print(expr.latex())"
   ]
  },
  {
   "cell_type": "code",
   "execution_count": 5,
   "metadata": {},
   "outputs": [
    {
     "data": {
      "text/html": [
       "<table><tr><th>&nbsp;</th><th>core type</th><th>sub-expressions</th><th>expression</th></tr>\n",
       "<tr><td>0</td><td>Lambda</td><td>parameter:&nbsp;18<br>body:&nbsp;1<br></td><td><a class=\"ProveItLink\" href=\"expr.ipynb\"><img src=\"expr.png\" style=\"display:inline;vertical-align:middle;\" /></a></td></tr>\n",
       "<tr><td>1</td><td>Conditional</td><td>value:&nbsp;2<br>condition:&nbsp;3<br></td><td><a class=\"ProveItLink\" href=\"../d47e93ea5e67c6d0de9b9854b9ec1961b2d2d2cf0/expr.ipynb\"><img src=\"../d47e93ea5e67c6d0de9b9854b9ec1961b2d2d2cf0/expr.png\" style=\"display:inline;vertical-align:middle;\" /></a></td></tr>\n",
       "<tr><td>2</td><td>Operation</td><td>operator:&nbsp;4<br>operand:&nbsp;5<br></td><td><a class=\"ProveItLink\" href=\"../baa773f9df9b2f6600f996c7db84979a05c8c0a00/expr.ipynb\"><img src=\"../baa773f9df9b2f6600f996c7db84979a05c8c0a00/expr.png\" style=\"display:inline;vertical-align:middle;\" /></a></td></tr>\n",
       "<tr><td>3</td><td>Operation</td><td>operator:&nbsp;6<br>operands:&nbsp;7<br></td><td><a class=\"ProveItLink\" href=\"../1e192f243740f24735c0e4870fcf8c1ec6009e4a0/expr.ipynb\"><img src=\"../1e192f243740f24735c0e4870fcf8c1ec6009e4a0/expr.png\" style=\"display:inline;vertical-align:middle;\" /></a></td></tr>\n",
       "<tr><td>4</td><td>Literal</td><td></td><td><a class=\"ProveItLink\" href=\"../../../../../booleans/quantification/universality/__pv_it/common/083d2baa0b8ecab1d230f9ec29a15aa1355809fb0/expr.ipynb\"><img src=\"../../../../../booleans/quantification/universality/__pv_it/common/083d2baa0b8ecab1d230f9ec29a15aa1355809fb0/expr.png\" style=\"display:inline;vertical-align:middle;\" /></a></td></tr>\n",
       "<tr><td>5</td><td>Lambda</td><td>parameter:&nbsp;16<br>body:&nbsp;8<br></td><td><a class=\"ProveItLink\" href=\"../91d0f4708549009b931981fb6c0da184a9539cd90/expr.ipynb\"><img src=\"../91d0f4708549009b931981fb6c0da184a9539cd90/expr.png\" style=\"display:inline;vertical-align:middle;\" /></a></td></tr>\n",
       "<tr><td>6</td><td>Literal</td><td></td><td><a class=\"ProveItLink\" href=\"../../../../../booleans/conjunction/__pv_it/common/42118ff318bd65d98b1393f64ce7c2269feef76e0/expr.ipynb\"><img src=\"../../../../../booleans/conjunction/__pv_it/common/42118ff318bd65d98b1393f64ce7c2269feef76e0/expr.png\" style=\"display:inline;vertical-align:middle;\" /></a></td></tr>\n",
       "<tr><td>7</td><td>ExprTuple</td><td>9</td><td><a class=\"ProveItLink\" href=\"../7f5f1003bc951244d44081a5c7666c2e467bb8e80/expr.ipynb\"><img src=\"../7f5f1003bc951244d44081a5c7666c2e467bb8e80/expr.png\" style=\"display:inline;vertical-align:middle;\" /></a></td></tr>\n",
       "<tr><td>8</td><td>Conditional</td><td>value:&nbsp;10<br>condition:&nbsp;11<br></td><td><a class=\"ProveItLink\" href=\"../8f681945c7cb125b4249d92376fd76219a9071710/expr.ipynb\"><img src=\"../8f681945c7cb125b4249d92376fd76219a9071710/expr.png\" style=\"display:inline;vertical-align:middle;\" /></a></td></tr>\n",
       "<tr><td>9</td><td>ExprRange</td><td>lambda_map:&nbsp;12<br>start_index:&nbsp;25<br>end_index:&nbsp;26<br></td><td><a class=\"ProveItLink\" href=\"../../../../../../core_expr_types/__pv_it/common/b7ce262954ccccb343dffdec7887b9a84c33ca560/expr.ipynb\"><img src=\"../../../../../../core_expr_types/__pv_it/common/b7ce262954ccccb343dffdec7887b9a84c33ca560/expr.png\" style=\"display:inline;vertical-align:middle;\" /></a></td></tr>\n",
       "<tr><td>10</td><td>Operation</td><td>operator:&nbsp;18<br>operand:&nbsp;16<br></td><td><a class=\"ProveItLink\" href=\"../../../../../../__pv_it/common/092306009c5b4f395713919312834ddc22e2c3df0/expr.ipynb\"><img src=\"../../../../../../__pv_it/common/092306009c5b4f395713919312834ddc22e2c3df0/expr.png\" style=\"display:inline;vertical-align:middle;\" /></a></td></tr>\n",
       "<tr><td>11</td><td>Operation</td><td>operator:&nbsp;13<br>operands:&nbsp;14<br></td><td><a class=\"ProveItLink\" href=\"../ba770faa5451d8f48e90452004450b02500461d40/expr.ipynb\"><img src=\"../ba770faa5451d8f48e90452004450b02500461d40/expr.png\" style=\"display:inline;vertical-align:middle;\" /></a></td></tr>\n",
       "<tr><td>12</td><td>Lambda</td><td>parameter:&nbsp;22<br>body:&nbsp;15<br></td><td><a class=\"ProveItLink\" href=\"../../../../../../core_expr_types/__pv_it/common/7b237f5c7962a9b0647081e3d5b71838618569b30/expr.ipynb\"><img src=\"../../../../../../core_expr_types/__pv_it/common/7b237f5c7962a9b0647081e3d5b71838618569b30/expr.png\" style=\"display:inline;vertical-align:middle;\" /></a></td></tr>\n",
       "<tr><td>13</td><td>Literal</td><td></td><td><a class=\"ProveItLink\" href=\"../../../../membership/__pv_it/common/477487d8796864d23d5810f83761435f25167f690/expr.ipynb\"><img src=\"../../../../membership/__pv_it/common/477487d8796864d23d5810f83761435f25167f690/expr.png\" style=\"display:inline;vertical-align:middle;\" /></a></td></tr>\n",
       "<tr><td>14</td><td>ExprTuple</td><td>16, 17</td><td><a class=\"ProveItLink\" href=\"../d2713193b56f10d776912e387f52dbf4215a3e5c0/expr.ipynb\"><img src=\"../d2713193b56f10d776912e387f52dbf4215a3e5c0/expr.png\" style=\"display:inline;vertical-align:middle;\" /></a></td></tr>\n",
       "<tr><td>15</td><td>Operation</td><td>operator:&nbsp;18<br>operand:&nbsp;19<br></td><td><a class=\"ProveItLink\" href=\"../../../../../../core_expr_types/__pv_it/common/321b7d01f5a4de5e48da6b543a3e677b3f571f690/expr.ipynb\"><img src=\"../../../../../../core_expr_types/__pv_it/common/321b7d01f5a4de5e48da6b543a3e677b3f571f690/expr.png\" style=\"display:inline;vertical-align:middle;\" /></a></td></tr>\n",
       "<tr><td>16</td><td>Variable</td><td></td><td><a class=\"ProveItLink\" href=\"../../../../../../__pv_it/common/a0d9d672aa5e272d907247690c152cc2c6daafb70/expr.ipynb\"><img src=\"../../../../../../__pv_it/common/a0d9d672aa5e272d907247690c152cc2c6daafb70/expr.png\" style=\"display:inline;vertical-align:middle;\" /></a></td></tr>\n",
       "<tr><td>17</td><td>Operation</td><td>operator:&nbsp;20<br>operands:&nbsp;21<br></td><td><a class=\"ProveItLink\" href=\"../59715e8baf34ad47a9feb59a9747c18aa998a7bc0/expr.ipynb\"><img src=\"../59715e8baf34ad47a9feb59a9747c18aa998a7bc0/expr.png\" style=\"display:inline;vertical-align:middle;\" /></a></td></tr>\n",
       "<tr><td>18</td><td>Variable</td><td></td><td><a class=\"ProveItLink\" href=\"../../../../../../__pv_it/common/de55da274ba0f49c86925fbf3828021c04d27faf0/expr.ipynb\"><img src=\"../../../../../../__pv_it/common/de55da274ba0f49c86925fbf3828021c04d27faf0/expr.png\" style=\"display:inline;vertical-align:middle;\" /></a></td></tr>\n",
       "<tr><td>19</td><td>IndexedVar</td><td>variable:&nbsp;28<br>index:&nbsp;22<br></td><td><a class=\"ProveItLink\" href=\"../../../../../../core_expr_types/__pv_it/common/3d7141ed2fe50363421809925c1e7fc69188ccea0/expr.ipynb\"><img src=\"../../../../../../core_expr_types/__pv_it/common/3d7141ed2fe50363421809925c1e7fc69188ccea0/expr.png\" style=\"display:inline;vertical-align:middle;\" /></a></td></tr>\n",
       "<tr><td>20</td><td>Literal</td><td></td><td><a class=\"ProveItLink\" href=\"../../common/0ead90ccbf4f17bc585a51f8aa904bb77916ae6e0/expr.ipynb\"><img src=\"../../common/0ead90ccbf4f17bc585a51f8aa904bb77916ae6e0/expr.png\" style=\"display:inline;vertical-align:middle;\" /></a></td></tr>\n",
       "<tr><td>21</td><td>ExprTuple</td><td>23</td><td><a class=\"ProveItLink\" href=\"../78cdb68388c3521673bbf14256414916885443400/expr.ipynb\"><img src=\"../78cdb68388c3521673bbf14256414916885443400/expr.png\" style=\"display:inline;vertical-align:middle;\" /></a></td></tr>\n",
       "<tr><td>22</td><td>Variable</td><td></td><td><a class=\"ProveItLink\" href=\"../../../../../../__pv_it/common/63b7c64bf9ec7a04ecc396c7a1670f3f12fb59490/expr.ipynb\"><img src=\"../../../../../../__pv_it/common/63b7c64bf9ec7a04ecc396c7a1670f3f12fb59490/expr.png\" style=\"display:inline;vertical-align:middle;\" /></a></td></tr>\n",
       "<tr><td>23</td><td>ExprRange</td><td>lambda_map:&nbsp;24<br>start_index:&nbsp;25<br>end_index:&nbsp;26<br></td><td><a class=\"ProveItLink\" href=\"../../../../../../core_expr_types/__pv_it/common/a5f13b212a38aa0f8472b7953ca9227038e6b4f50/expr.ipynb\"><img src=\"../../../../../../core_expr_types/__pv_it/common/a5f13b212a38aa0f8472b7953ca9227038e6b4f50/expr.png\" style=\"display:inline;vertical-align:middle;\" /></a></td></tr>\n",
       "<tr><td>24</td><td>Lambda</td><td>parameter:&nbsp;29<br>body:&nbsp;27<br></td><td><a class=\"ProveItLink\" href=\"../../../../../../core_expr_types/__pv_it/common/9f0c64ef8ae0c02b5dcba32e0fb15bd29f85872a0/expr.ipynb\"><img src=\"../../../../../../core_expr_types/__pv_it/common/9f0c64ef8ae0c02b5dcba32e0fb15bd29f85872a0/expr.png\" style=\"display:inline;vertical-align:middle;\" /></a></td></tr>\n",
       "<tr><td>25</td><td>Literal</td><td></td><td><a class=\"ProveItLink\" href=\"../../../../../../numbers/numerals/__pv_it/common/2778428c7f555b2bdc06aa0530bc142c6e6335100/expr.ipynb\"><img src=\"../../../../../../numbers/numerals/__pv_it/common/2778428c7f555b2bdc06aa0530bc142c6e6335100/expr.png\" style=\"display:inline;vertical-align:middle;\" /></a></td></tr>\n",
       "<tr><td>26</td><td>Variable</td><td></td><td><a class=\"ProveItLink\" href=\"../../../../../../__pv_it/common/8968bb04eb3f7dfa02353397ce929b025bbd79c20/expr.ipynb\"><img src=\"../../../../../../__pv_it/common/8968bb04eb3f7dfa02353397ce929b025bbd79c20/expr.png\" style=\"display:inline;vertical-align:middle;\" /></a></td></tr>\n",
       "<tr><td>27</td><td>IndexedVar</td><td>variable:&nbsp;28<br>index:&nbsp;29<br></td><td><a class=\"ProveItLink\" href=\"../../../../../../core_expr_types/__pv_it/common/ea36c59b79decceeaf696ef762cc9648f9ddbf5c0/expr.ipynb\"><img src=\"../../../../../../core_expr_types/__pv_it/common/ea36c59b79decceeaf696ef762cc9648f9ddbf5c0/expr.png\" style=\"display:inline;vertical-align:middle;\" /></a></td></tr>\n",
       "<tr><td>28</td><td>Variable</td><td></td><td><a class=\"ProveItLink\" href=\"../../../../../../__pv_it/common/c06c606ec12678c58933ac85412ecadc2ae28be60/expr.ipynb\"><img src=\"../../../../../../__pv_it/common/c06c606ec12678c58933ac85412ecadc2ae28be60/expr.png\" style=\"display:inline;vertical-align:middle;\" /></a></td></tr>\n",
       "<tr><td>29</td><td>Variable</td><td></td><td><a class=\"ProveItLink\" href=\"../../../../../../core_expr_types/__pv_it/common/006c465e50948aa2b52285e2de47974f741255cc0/expr.ipynb\"><img src=\"../../../../../../core_expr_types/__pv_it/common/006c465e50948aa2b52285e2de47974f741255cc0/expr.png\" style=\"display:inline;vertical-align:middle;\" /></a></td></tr>\n",
       "</table>\n"
      ],
      "text/plain": [
       "0. P -> {forall_{x in {a_{1}, ..a_{_a}.., a_{n}}} P(x) if P(a_{1}) and ..P(a_{k}).. and P(a_{n}).\n",
       "   core type: Lambda\n",
       "   parameter: 18\n",
       "   body: 1\n",
       "1. {forall_{x in {a_{1}, ..a_{_a}.., a_{n}}} P(x) if P(a_{1}) and ..P(a_{k}).. and P(a_{n}).\n",
       "   core type: Conditional\n",
       "   value: 2\n",
       "   condition: 3\n",
       "2. forall_{x in {a_{1}, ..a_{_a}.., a_{n}}} P(x)\n",
       "   core type: Operation\n",
       "   operator: 4\n",
       "   operand: 5\n",
       "3. P(a_{1}) and ..P(a_{k}).. and P(a_{n})\n",
       "   core type: Operation\n",
       "   operator: 6\n",
       "   operands: 7\n",
       "4. forall\n",
       "   core type: Literal\n",
       "   sub-expressions: \n",
       "5. x -> {P(x) if x in {a_{1}, ..a_{_a}.., a_{n}}.\n",
       "   core type: Lambda\n",
       "   parameter: 16\n",
       "   body: 8\n",
       "6. and\n",
       "   core type: Literal\n",
       "   sub-expressions: \n",
       "7. (P(a_{1}), ..P(a_{k}).., P(a_{n}))\n",
       "   core type: ExprTuple\n",
       "   sub-expressions: 9\n",
       "8. {P(x) if x in {a_{1}, ..a_{_a}.., a_{n}}.\n",
       "   core type: Conditional\n",
       "   value: 10\n",
       "   condition: 11\n",
       "9. P(a_{1}), ..P(a_{k}).., P(a_{n})\n",
       "   core type: ExprRange\n",
       "   lambda_map: 12\n",
       "   start_index: 25\n",
       "   end_index: 26\n",
       "10. P(x)\n",
       "    core type: Operation\n",
       "    operator: 18\n",
       "    operand: 16\n",
       "11. x in {a_{1}, ..a_{_a}.., a_{n}}\n",
       "    core type: Operation\n",
       "    operator: 13\n",
       "    operands: 14\n",
       "12. k -> P(a_{k})\n",
       "    core type: Lambda\n",
       "    parameter: 22\n",
       "    body: 15\n",
       "13. in\n",
       "    core type: Literal\n",
       "    sub-expressions: \n",
       "14. (x, {a_{1}, ..a_{_a}.., a_{n}})\n",
       "    core type: ExprTuple\n",
       "    sub-expressions: 16, 17\n",
       "15. P(a_{k})\n",
       "    core type: Operation\n",
       "    operator: 18\n",
       "    operand: 19\n",
       "16. x\n",
       "    core type: Variable\n",
       "    sub-expressions: \n",
       "17. {a_{1}, ..a_{_a}.., a_{n}}\n",
       "    core type: Operation\n",
       "    operator: 20\n",
       "    operands: 21\n",
       "18. P\n",
       "    core type: Variable\n",
       "    sub-expressions: \n",
       "19. a_{k}\n",
       "    core type: IndexedVar\n",
       "variable: 28\n",
       "index: 22\n",
       "20. Set\n",
       "    core type: Literal\n",
       "    sub-expressions: \n",
       "21. (a_{1}, ..a_{_a}.., a_{n})\n",
       "    core type: ExprTuple\n",
       "    sub-expressions: 23\n",
       "22. k\n",
       "    core type: Variable\n",
       "    sub-expressions: \n",
       "23. a_{1}, ..a_{_a}.., a_{n}\n",
       "    core type: ExprRange\n",
       "    lambda_map: 24\n",
       "    start_index: 25\n",
       "    end_index: 26\n",
       "24. _a -> a_{_a}\n",
       "    core type: Lambda\n",
       "    parameter: 29\n",
       "    body: 27\n",
       "25. 1\n",
       "    core type: Literal\n",
       "    sub-expressions: \n",
       "26. n\n",
       "    core type: Variable\n",
       "    sub-expressions: \n",
       "27. a_{_a}\n",
       "    core type: IndexedVar\n",
       "variable: 28\n",
       "index: 29\n",
       "28. a\n",
       "    core type: Variable\n",
       "    sub-expressions: \n",
       "29. _a\n",
       "    core type: Variable\n",
       "    sub-expressions: "
      ]
     },
     "execution_count": 5,
     "metadata": {},
     "output_type": "execute_result"
    }
   ],
   "source": [
    "# display the expression information\n",
    "expr.expr_info()"
   ]
  },
  {
   "cell_type": "code",
   "execution_count": null,
   "metadata": {},
   "outputs": [],
   "source": []
  }
 ],
 "metadata": {
  "kernelspec": {
   "display_name": "Python 3",
   "language": "python",
   "name": "python3"
  }
 },
 "nbformat": 4,
 "nbformat_minor": 0
}