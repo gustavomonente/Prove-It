{
 "cells": [
  {
   "cell_type": "markdown",
   "metadata": {},
   "source": [
    "Expression of type <a class=\"ProveItLink\" href=\"../../../../../../../../doc/html/api/proveit.Conditional.html\">Conditional</a>\n",
    "=======================\n",
    "# from the theory of <a class=\"ProveItLink\" href=\"../../../_theory_nbs_/theory.ipynb\">proveit.logic.sets.enumeration</a>"
   ]
  },
  {
   "cell_type": "code",
   "execution_count": 1,
   "metadata": {},
   "outputs": [],
   "source": [
    "import proveit\n",
    "# Automation is not needed when building an expression:\n",
    "proveit.defaults.automation = False # This will speed things up.\n",
    "proveit.defaults.inline_pngs = False # Makes files smaller.\n",
    "%load_expr # Load the stored expression as 'stored_expr'\n",
    "# import Expression classes needed to build the expression\n",
    "from proveit import Conditional, P, Px, Q, Qx, n, x\n",
    "from proveit.core_expr_types import Qk_implies_Pk_a1_to_an, a_1_to_n\n",
    "from proveit.logic import Forall, InSet, Set\n",
    "from proveit.numbers import Natural"
   ]
  },
  {
   "cell_type": "code",
   "execution_count": 2,
   "metadata": {},
   "outputs": [
    {
     "data": {
      "text/html": [
       "<strong id=\"expr\">expr:</strong> <a class=\"ProveItLink\" href=\"expr.ipynb\"><img src=\"expr.png\" style=\"display:inline;vertical-align:middle;\" /></a><br>"
      ],
      "text/plain": [
       "expr: {forall_{a_{1}, ..a_{_a}.., a_{n}} [forall_{P, Q | Q(a_{1}) => P(a_{1}), ..Q(a_{k}) => P(a_{k}).., Q(a_{n}) => P(a_{n})} [forall_{x in {a_{1}, ..a_{_a}.., a_{n}} | Q(x)} P(x)]] if n in Natural."
      ]
     },
     "execution_count": 2,
     "metadata": {},
     "output_type": "execute_result"
    }
   ],
   "source": [
    "# build up the expression from sub-expressions\n",
    "expr = Conditional(Forall([a_1_to_n], Forall([P, Q], Forall([x], Px, domains = [Set(a_1_to_n)], condition = Qx), condition = Qk_implies_Pk_a1_to_an)), InSet(n, Natural))"
   ]
  },
  {
   "cell_type": "code",
   "execution_count": 3,
   "metadata": {},
   "outputs": [
    {
     "name": "stdout",
     "output_type": "stream",
     "text": [
      "Passed sanity check: expr matches stored_expr\n"
     ]
    }
   ],
   "source": [
    "# check that the built expression is the same as the stored expression\n",
    "assert expr == stored_expr\n",
    "assert expr._style_id == stored_expr._style_id\n",
    "print(\"Passed sanity check: expr matches stored_expr\")"
   ]
  },
  {
   "cell_type": "code",
   "execution_count": 4,
   "metadata": {},
   "outputs": [
    {
     "name": "stdout",
     "output_type": "stream",
     "text": [
      "\\left\\{\\forall_{a_{1}, \\ldots, a_{n}}~\\left[\\forall_{P, Q~|~Q(a_{1}) \\Rightarrow P(a_{1}), \\ldots, Q(a_{n}) \\Rightarrow P(a_{n})}~\\left[\\forall_{x \\in \\left\\{a_{1}, \\ldots, a_{n}\\right\\}~|~Q(x)}~P(x)\\right]\\right] \\textrm{ if } n \\in \\mathbb{N}\\right..\n"
     ]
    }
   ],
   "source": [
    "# Show the LaTeX representation of the expression for convenience if you need it.\n",
    "print(expr.latex())"
   ]
  },
  {
   "cell_type": "code",
   "execution_count": 5,
   "metadata": {},
   "outputs": [
    {
     "data": {
      "text/html": [
       "<table>\n",
       "<tr><th>name</th><th>description</th><th>default</th><th>current value</th><th>related methods</th></tr><tr><td>condition_delimiter</td><td>'comma' or 'and'</td><td>comma</td><td>comma</td><td>('with_comma_delimiter', 'with_conjunction_delimiter')</td></tr>\n",
       "</table>\n"
      ],
      "text/plain": [
       "style name: condition_delimiter\n",
       "description: 'comma' or 'and'\n",
       "default: comma\n",
       "current value: comma\n",
       "related methods: ('with_comma_delimiter', 'with_conjunction_delimiter')"
      ]
     },
     "execution_count": 5,
     "metadata": {},
     "output_type": "execute_result"
    }
   ],
   "source": [
    "expr.style_options()"
   ]
  },
  {
   "cell_type": "code",
   "execution_count": 6,
   "metadata": {},
   "outputs": [
    {
     "data": {
      "text/html": [
       "<table><tr><th>&nbsp;</th><th>core type</th><th>sub-expressions</th><th>expression</th></tr>\n",
       "<tr><td>0</td><td>Conditional</td><td>value:&nbsp;1<br>condition:&nbsp;2<br></td><td><a class=\"ProveItLink\" href=\"expr.ipynb\"><img src=\"expr.png\" style=\"display:inline;vertical-align:middle;\" /></a></td></tr>\n",
       "<tr><td>1</td><td>Operation</td><td>operator:&nbsp;14<br>operand:&nbsp;5<br></td><td><a class=\"ProveItLink\" href=\"../06a6bc686999f836080d443f1c7f17adda9bed720/expr.ipynb\"><img src=\"../06a6bc686999f836080d443f1c7f17adda9bed720/expr.png\" style=\"display:inline;vertical-align:middle;\" /></a></td></tr>\n",
       "<tr><td>2</td><td>Operation</td><td>operator:&nbsp;32<br>operands:&nbsp;4<br></td><td><a class=\"ProveItLink\" href=\"../e3c5b209faa86f1e812d35da64c9d9b711de675d0/expr.ipynb\"><img src=\"../e3c5b209faa86f1e812d35da64c9d9b711de675d0/expr.png\" style=\"display:inline;vertical-align:middle;\" /></a></td></tr>\n",
       "<tr><td>3</td><td>ExprTuple</td><td>5</td><td><a class=\"ProveItLink\" href=\"../637fc4fdd4f0508117cc13b2c4a2d33f7c180d170/expr.ipynb\"><img src=\"../637fc4fdd4f0508117cc13b2c4a2d33f7c180d170/expr.png\" style=\"display:inline;vertical-align:middle;\" /></a></td></tr>\n",
       "<tr><td>4</td><td>ExprTuple</td><td>48, 6</td><td><a class=\"ProveItLink\" href=\"../248776733c2a8aa9cdfdf4f76f63a3d26b6d139d0/expr.ipynb\"><img src=\"../248776733c2a8aa9cdfdf4f76f63a3d26b6d139d0/expr.png\" style=\"display:inline;vertical-align:middle;\" /></a></td></tr>\n",
       "<tr><td>5</td><td>Lambda</td><td>parameters:&nbsp;42<br>body:&nbsp;7<br></td><td><a class=\"ProveItLink\" href=\"../bde7465203a8b3f39b438ec206cea455b05cdc9b0/expr.ipynb\"><img src=\"../bde7465203a8b3f39b438ec206cea455b05cdc9b0/expr.png\" style=\"display:inline;vertical-align:middle;\" /></a></td></tr>\n",
       "<tr><td>6</td><td>Literal</td><td></td><td><a class=\"ProveItLink\" href=\"../../../../../../numbers/number_sets/natural_numbers/__pv_it/common/85c8b43c90a7392ebb5459360d343dfa7c7408b50/expr.ipynb\"><img src=\"../../../../../../numbers/number_sets/natural_numbers/__pv_it/common/85c8b43c90a7392ebb5459360d343dfa7c7408b50/expr.png\" style=\"display:inline;vertical-align:middle;\" /></a></td></tr>\n",
       "<tr><td>7</td><td>Operation</td><td>operator:&nbsp;14<br>operand:&nbsp;9<br></td><td><a class=\"ProveItLink\" href=\"../c07bbbcda07067fbdd31bca76e9a1337f0f2b1950/expr.ipynb\"><img src=\"../c07bbbcda07067fbdd31bca76e9a1337f0f2b1950/expr.png\" style=\"display:inline;vertical-align:middle;\" /></a></td></tr>\n",
       "<tr><td>8</td><td>ExprTuple</td><td>9</td><td><a class=\"ProveItLink\" href=\"../2e968e5f7b29cf57bbd6397e7ec81f3a71d2e90a0/expr.ipynb\"><img src=\"../2e968e5f7b29cf57bbd6397e7ec81f3a71d2e90a0/expr.png\" style=\"display:inline;vertical-align:middle;\" /></a></td></tr>\n",
       "<tr><td>9</td><td>Lambda</td><td>parameters:&nbsp;10<br>body:&nbsp;11<br></td><td><a class=\"ProveItLink\" href=\"../d488bf5ecc2d75154ebf67ebd506d823bed0f15a0/expr.ipynb\"><img src=\"../d488bf5ecc2d75154ebf67ebd506d823bed0f15a0/expr.png\" style=\"display:inline;vertical-align:middle;\" /></a></td></tr>\n",
       "<tr><td>10</td><td>ExprTuple</td><td>36, 35</td><td><a class=\"ProveItLink\" href=\"../538d9f640093e021698a6523c5c0fb98bf2845e50/expr.ipynb\"><img src=\"../538d9f640093e021698a6523c5c0fb98bf2845e50/expr.png\" style=\"display:inline;vertical-align:middle;\" /></a></td></tr>\n",
       "<tr><td>11</td><td>Conditional</td><td>value:&nbsp;12<br>condition:&nbsp;13<br></td><td><a class=\"ProveItLink\" href=\"../5df20590f291f645556d24211be2f12ac00cf80d0/expr.ipynb\"><img src=\"../5df20590f291f645556d24211be2f12ac00cf80d0/expr.png\" style=\"display:inline;vertical-align:middle;\" /></a></td></tr>\n",
       "<tr><td>12</td><td>Operation</td><td>operator:&nbsp;14<br>operand:&nbsp;17<br></td><td><a class=\"ProveItLink\" href=\"../987dbf655943552222ebcc203c27b1d8a350b3d20/expr.ipynb\"><img src=\"../987dbf655943552222ebcc203c27b1d8a350b3d20/expr.png\" style=\"display:inline;vertical-align:middle;\" /></a></td></tr>\n",
       "<tr><td>13</td><td>Operation</td><td>operator:&nbsp;24<br>operands:&nbsp;16<br></td><td><a class=\"ProveItLink\" href=\"../89224aeb5fc0b8b013b6bc62d3237093ccea626c0/expr.ipynb\"><img src=\"../89224aeb5fc0b8b013b6bc62d3237093ccea626c0/expr.png\" style=\"display:inline;vertical-align:middle;\" /></a></td></tr>\n",
       "<tr><td>14</td><td>Literal</td><td></td><td><a class=\"ProveItLink\" href=\"../../../../../booleans/quantification/universality/__pv_it/common/684d35ba98fcbf8ca5011f865e530a51e77730630/expr.ipynb\"><img src=\"../../../../../booleans/quantification/universality/__pv_it/common/684d35ba98fcbf8ca5011f865e530a51e77730630/expr.png\" style=\"display:inline;vertical-align:middle;\" /></a></td></tr>\n",
       "<tr><td>15</td><td>ExprTuple</td><td>17</td><td><a class=\"ProveItLink\" href=\"../af0fdc7f7ac9dea4af1cb66d5430bba9bfb5be060/expr.ipynb\"><img src=\"../af0fdc7f7ac9dea4af1cb66d5430bba9bfb5be060/expr.png\" style=\"display:inline;vertical-align:middle;\" /></a></td></tr>\n",
       "<tr><td>16</td><td>ExprTuple</td><td>18</td><td><a class=\"ProveItLink\" href=\"../5272829b73d3fa1f0436704aa481ef8be83514720/expr.ipynb\"><img src=\"../5272829b73d3fa1f0436704aa481ef8be83514720/expr.png\" style=\"display:inline;vertical-align:middle;\" /></a></td></tr>\n",
       "<tr><td>17</td><td>Lambda</td><td>parameter:&nbsp;39<br>body:&nbsp;19<br></td><td><a class=\"ProveItLink\" href=\"../36062ef98541469c8750bf19de4bb7ac13eba39e0/expr.ipynb\"><img src=\"../36062ef98541469c8750bf19de4bb7ac13eba39e0/expr.png\" style=\"display:inline;vertical-align:middle;\" /></a></td></tr>\n",
       "<tr><td>18</td><td>ExprRange</td><td>lambda_map:&nbsp;20<br>start_index:&nbsp;47<br>end_index:&nbsp;48<br></td><td><a class=\"ProveItLink\" href=\"../../../../../../core_expr_types/__pv_it/common/aa785ba3dbe3162bb85d8b324e58d7abce06dc0f0/expr.ipynb\"><img src=\"../../../../../../core_expr_types/__pv_it/common/aa785ba3dbe3162bb85d8b324e58d7abce06dc0f0/expr.png\" style=\"display:inline;vertical-align:middle;\" /></a></td></tr>\n",
       "<tr><td>19</td><td>Conditional</td><td>value:&nbsp;21<br>condition:&nbsp;22<br></td><td><a class=\"ProveItLink\" href=\"../9326d73ae59bde65502ceb0bea539606cfab48ab0/expr.ipynb\"><img src=\"../9326d73ae59bde65502ceb0bea539606cfab48ab0/expr.png\" style=\"display:inline;vertical-align:middle;\" /></a></td></tr>\n",
       "<tr><td>20</td><td>Lambda</td><td>parameter:&nbsp;45<br>body:&nbsp;23<br></td><td><a class=\"ProveItLink\" href=\"../../../../../../core_expr_types/__pv_it/common/787f2499af46981ccfc5b82b975a1a392acbbf460/expr.ipynb\"><img src=\"../../../../../../core_expr_types/__pv_it/common/787f2499af46981ccfc5b82b975a1a392acbbf460/expr.png\" style=\"display:inline;vertical-align:middle;\" /></a></td></tr>\n",
       "<tr><td>21</td><td>Operation</td><td>operator:&nbsp;36<br>operand:&nbsp;39<br></td><td><a class=\"ProveItLink\" href=\"../../../../../../__pv_it/common/ed3ed03681b166b9fbefedb104a4f950026141260/expr.ipynb\"><img src=\"../../../../../../__pv_it/common/ed3ed03681b166b9fbefedb104a4f950026141260/expr.png\" style=\"display:inline;vertical-align:middle;\" /></a></td></tr>\n",
       "<tr><td>22</td><td>Operation</td><td>operator:&nbsp;24<br>operands:&nbsp;25<br></td><td><a class=\"ProveItLink\" href=\"../aab8a2b751cd6ca13fa03d0fb84683ffd466d53a0/expr.ipynb\"><img src=\"../aab8a2b751cd6ca13fa03d0fb84683ffd466d53a0/expr.png\" style=\"display:inline;vertical-align:middle;\" /></a></td></tr>\n",
       "<tr><td>23</td><td>Operation</td><td>operator:&nbsp;26<br>operands:&nbsp;27<br></td><td><a class=\"ProveItLink\" href=\"../../../../../../core_expr_types/__pv_it/common/9e37d9e3fc6bd8f669baf009e507de35501d98a90/expr.ipynb\"><img src=\"../../../../../../core_expr_types/__pv_it/common/9e37d9e3fc6bd8f669baf009e507de35501d98a90/expr.png\" style=\"display:inline;vertical-align:middle;\" /></a></td></tr>\n",
       "<tr><td>24</td><td>Literal</td><td></td><td><a class=\"ProveItLink\" href=\"../../../../../booleans/conjunction/__pv_it/common/26b94b53e70b1d77b70f0d9d4236347db37731060/expr.ipynb\"><img src=\"../../../../../booleans/conjunction/__pv_it/common/26b94b53e70b1d77b70f0d9d4236347db37731060/expr.png\" style=\"display:inline;vertical-align:middle;\" /></a></td></tr>\n",
       "<tr><td>25</td><td>ExprTuple</td><td>28, 29</td><td><a class=\"ProveItLink\" href=\"../70ee4e8722f26a9c775e11afe8e230de14045a430/expr.ipynb\"><img src=\"../70ee4e8722f26a9c775e11afe8e230de14045a430/expr.png\" style=\"display:inline;vertical-align:middle;\" /></a></td></tr>\n",
       "<tr><td>26</td><td>Literal</td><td></td><td><a class=\"ProveItLink\" href=\"../../../../../booleans/implication/__pv_it/common/95a8cc69d34af52c7732e4a6fefbd5b63e8d31ba0/expr.ipynb\"><img src=\"../../../../../booleans/implication/__pv_it/common/95a8cc69d34af52c7732e4a6fefbd5b63e8d31ba0/expr.png\" style=\"display:inline;vertical-align:middle;\" /></a></td></tr>\n",
       "<tr><td>27</td><td>ExprTuple</td><td>30, 31</td><td><a class=\"ProveItLink\" href=\"../../../../../../core_expr_types/__pv_it/common/6211d3b9d2501c9eb46cf50d264e484968173b960/expr.ipynb\"><img src=\"../../../../../../core_expr_types/__pv_it/common/6211d3b9d2501c9eb46cf50d264e484968173b960/expr.png\" style=\"display:inline;vertical-align:middle;\" /></a></td></tr>\n",
       "<tr><td>28</td><td>Operation</td><td>operator:&nbsp;32<br>operands:&nbsp;33<br></td><td><a class=\"ProveItLink\" href=\"../52b18e5766139585cbd434b541acfa10eecc07bc0/expr.ipynb\"><img src=\"../52b18e5766139585cbd434b541acfa10eecc07bc0/expr.png\" style=\"display:inline;vertical-align:middle;\" /></a></td></tr>\n",
       "<tr><td>29</td><td>Operation</td><td>operator:&nbsp;35<br>operand:&nbsp;39<br></td><td><a class=\"ProveItLink\" href=\"../../../../../../__pv_it/common/c880b7f5dcd3cdce86bc330706239936151d2f7a0/expr.ipynb\"><img src=\"../../../../../../__pv_it/common/c880b7f5dcd3cdce86bc330706239936151d2f7a0/expr.png\" style=\"display:inline;vertical-align:middle;\" /></a></td></tr>\n",
       "<tr><td>30</td><td>Operation</td><td>operator:&nbsp;35<br>operand:&nbsp;40<br></td><td><a class=\"ProveItLink\" href=\"../../../../../../core_expr_types/__pv_it/common/b1a734fc65eebeabad167eca3f99ea42fa9984cf0/expr.ipynb\"><img src=\"../../../../../../core_expr_types/__pv_it/common/b1a734fc65eebeabad167eca3f99ea42fa9984cf0/expr.png\" style=\"display:inline;vertical-align:middle;\" /></a></td></tr>\n",
       "<tr><td>31</td><td>Operation</td><td>operator:&nbsp;36<br>operand:&nbsp;40<br></td><td><a class=\"ProveItLink\" href=\"../../../../../../core_expr_types/__pv_it/common/fa1bc44decfa60ecf8b7c0df2733735c808053fe0/expr.ipynb\"><img src=\"../../../../../../core_expr_types/__pv_it/common/fa1bc44decfa60ecf8b7c0df2733735c808053fe0/expr.png\" style=\"display:inline;vertical-align:middle;\" /></a></td></tr>\n",
       "<tr><td>32</td><td>Literal</td><td></td><td><a class=\"ProveItLink\" href=\"../../../../membership/__pv_it/common/7171deca84f71f47a6ec7696972d1632274a12880/expr.ipynb\"><img src=\"../../../../membership/__pv_it/common/7171deca84f71f47a6ec7696972d1632274a12880/expr.png\" style=\"display:inline;vertical-align:middle;\" /></a></td></tr>\n",
       "<tr><td>33</td><td>ExprTuple</td><td>39, 38</td><td><a class=\"ProveItLink\" href=\"../968a3d7a80ba3871f2d347d8511130a7b102148a0/expr.ipynb\"><img src=\"../968a3d7a80ba3871f2d347d8511130a7b102148a0/expr.png\" style=\"display:inline;vertical-align:middle;\" /></a></td></tr>\n",
       "<tr><td>34</td><td>ExprTuple</td><td>39</td><td><a class=\"ProveItLink\" href=\"../../../../../../__pv_it/common/a49c8f25f899a16b1dbcf2257505d5464a9a7bb50/expr.ipynb\"><img src=\"../../../../../../__pv_it/common/a49c8f25f899a16b1dbcf2257505d5464a9a7bb50/expr.png\" style=\"display:inline;vertical-align:middle;\" /></a></td></tr>\n",
       "<tr><td>35</td><td>Variable</td><td></td><td><a class=\"ProveItLink\" href=\"../../../../../../__pv_it/common/50527aea954422d65ebe44b8de200683294751540/expr.ipynb\"><img src=\"../../../../../../__pv_it/common/50527aea954422d65ebe44b8de200683294751540/expr.png\" style=\"display:inline;vertical-align:middle;\" /></a></td></tr>\n",
       "<tr><td>36</td><td>Variable</td><td></td><td><a class=\"ProveItLink\" href=\"../../../../../../__pv_it/common/d5fc3066299847984076662ce51556220bdb6cfb0/expr.ipynb\"><img src=\"../../../../../../__pv_it/common/d5fc3066299847984076662ce51556220bdb6cfb0/expr.png\" style=\"display:inline;vertical-align:middle;\" /></a></td></tr>\n",
       "<tr><td>37</td><td>ExprTuple</td><td>40</td><td><a class=\"ProveItLink\" href=\"../../../../../../core_expr_types/__pv_it/common/c4b8345e89bf92e3c38f3b438531cf77267c32e60/expr.ipynb\"><img src=\"../../../../../../core_expr_types/__pv_it/common/c4b8345e89bf92e3c38f3b438531cf77267c32e60/expr.png\" style=\"display:inline;vertical-align:middle;\" /></a></td></tr>\n",
       "<tr><td>38</td><td>Operation</td><td>operator:&nbsp;41<br>operands:&nbsp;42<br></td><td><a class=\"ProveItLink\" href=\"../87c50483abef44405eac4a700805a1d531107a9b0/expr.ipynb\"><img src=\"../87c50483abef44405eac4a700805a1d531107a9b0/expr.png\" style=\"display:inline;vertical-align:middle;\" /></a></td></tr>\n",
       "<tr><td>39</td><td>Variable</td><td></td><td><a class=\"ProveItLink\" href=\"../../../../../../__pv_it/common/a2581dc5df71d9a30bad37de14965fa5fec97a240/expr.ipynb\"><img src=\"../../../../../../__pv_it/common/a2581dc5df71d9a30bad37de14965fa5fec97a240/expr.png\" style=\"display:inline;vertical-align:middle;\" /></a></td></tr>\n",
       "<tr><td>40</td><td>IndexedVar</td><td>variable:&nbsp;50<br>index:&nbsp;45<br></td><td><a class=\"ProveItLink\" href=\"../../../../../../core_expr_types/__pv_it/common/910ff783c5bd10af92c87a24c4fec49ec6529c750/expr.ipynb\"><img src=\"../../../../../../core_expr_types/__pv_it/common/910ff783c5bd10af92c87a24c4fec49ec6529c750/expr.png\" style=\"display:inline;vertical-align:middle;\" /></a></td></tr>\n",
       "<tr><td>41</td><td>Literal</td><td></td><td><a class=\"ProveItLink\" href=\"../../common/f7caf702081f903a6ea3d95d680568dd78698f5a0/expr.ipynb\"><img src=\"../../common/f7caf702081f903a6ea3d95d680568dd78698f5a0/expr.png\" style=\"display:inline;vertical-align:middle;\" /></a></td></tr>\n",
       "<tr><td>42</td><td>ExprTuple</td><td>44</td><td><a class=\"ProveItLink\" href=\"../3c2073fded113a048bf7371c726cf466ae4d92300/expr.ipynb\"><img src=\"../3c2073fded113a048bf7371c726cf466ae4d92300/expr.png\" style=\"display:inline;vertical-align:middle;\" /></a></td></tr>\n",
       "<tr><td>43</td><td>ExprTuple</td><td>45</td><td><a class=\"ProveItLink\" href=\"../../../../../../__pv_it/common/797070a9ef2f9957a44157444d93fbe100e2d7430/expr.ipynb\"><img src=\"../../../../../../__pv_it/common/797070a9ef2f9957a44157444d93fbe100e2d7430/expr.png\" style=\"display:inline;vertical-align:middle;\" /></a></td></tr>\n",
       "<tr><td>44</td><td>ExprRange</td><td>lambda_map:&nbsp;46<br>start_index:&nbsp;47<br>end_index:&nbsp;48<br></td><td><a class=\"ProveItLink\" href=\"../../../../../../core_expr_types/__pv_it/common/95cc4bc4f612e88f5f51ce4796fd60b1d217c7850/expr.ipynb\"><img src=\"../../../../../../core_expr_types/__pv_it/common/95cc4bc4f612e88f5f51ce4796fd60b1d217c7850/expr.png\" style=\"display:inline;vertical-align:middle;\" /></a></td></tr>\n",
       "<tr><td>45</td><td>Variable</td><td></td><td><a class=\"ProveItLink\" href=\"../../../../../../__pv_it/common/b9fd37fc619babc74a6203459f110251586df6970/expr.ipynb\"><img src=\"../../../../../../__pv_it/common/b9fd37fc619babc74a6203459f110251586df6970/expr.png\" style=\"display:inline;vertical-align:middle;\" /></a></td></tr>\n",
       "<tr><td>46</td><td>Lambda</td><td>parameter:&nbsp;52<br>body:&nbsp;49<br></td><td><a class=\"ProveItLink\" href=\"../../../../../../core_expr_types/__pv_it/common/99ea59f1b92e70eddeee736182b1abeb9f49c91b0/expr.ipynb\"><img src=\"../../../../../../core_expr_types/__pv_it/common/99ea59f1b92e70eddeee736182b1abeb9f49c91b0/expr.png\" style=\"display:inline;vertical-align:middle;\" /></a></td></tr>\n",
       "<tr><td>47</td><td>Literal</td><td></td><td><a class=\"ProveItLink\" href=\"../../../../../../numbers/numerals/__pv_it/common/d278e359da0695d9652dd541d45264f93703e2e40/expr.ipynb\"><img src=\"../../../../../../numbers/numerals/__pv_it/common/d278e359da0695d9652dd541d45264f93703e2e40/expr.png\" style=\"display:inline;vertical-align:middle;\" /></a></td></tr>\n",
       "<tr><td>48</td><td>Variable</td><td></td><td><a class=\"ProveItLink\" href=\"../../../../../../__pv_it/common/6165c9bb82ce3c7097cdba4440a1aeeb6eaca8a40/expr.ipynb\"><img src=\"../../../../../../__pv_it/common/6165c9bb82ce3c7097cdba4440a1aeeb6eaca8a40/expr.png\" style=\"display:inline;vertical-align:middle;\" /></a></td></tr>\n",
       "<tr><td>49</td><td>IndexedVar</td><td>variable:&nbsp;50<br>index:&nbsp;52<br></td><td><a class=\"ProveItLink\" href=\"../../../../../../core_expr_types/__pv_it/common/d8d3053e77ba1db68c0cd106952422881db586670/expr.ipynb\"><img src=\"../../../../../../core_expr_types/__pv_it/common/d8d3053e77ba1db68c0cd106952422881db586670/expr.png\" style=\"display:inline;vertical-align:middle;\" /></a></td></tr>\n",
       "<tr><td>50</td><td>Variable</td><td></td><td><a class=\"ProveItLink\" href=\"../../../../../../__pv_it/common/66c90e66682f107a881f2d666959f64e2e72ad750/expr.ipynb\"><img src=\"../../../../../../__pv_it/common/66c90e66682f107a881f2d666959f64e2e72ad750/expr.png\" style=\"display:inline;vertical-align:middle;\" /></a></td></tr>\n",
       "<tr><td>51</td><td>ExprTuple</td><td>52</td><td><a class=\"ProveItLink\" href=\"../../../../../../core_expr_types/__pv_it/common/ecf50ade416ab41c42c9f4e777b4c862cd9469670/expr.ipynb\"><img src=\"../../../../../../core_expr_types/__pv_it/common/ecf50ade416ab41c42c9f4e777b4c862cd9469670/expr.png\" style=\"display:inline;vertical-align:middle;\" /></a></td></tr>\n",
       "<tr><td>52</td><td>Variable</td><td></td><td><a class=\"ProveItLink\" href=\"../../../../../../core_expr_types/__pv_it/common/9e6d9d5d7eeb0342cf5bca68def0eb165a1a9bb10/expr.ipynb\"><img src=\"../../../../../../core_expr_types/__pv_it/common/9e6d9d5d7eeb0342cf5bca68def0eb165a1a9bb10/expr.png\" style=\"display:inline;vertical-align:middle;\" /></a></td></tr>\n",
       "</table>\n"
      ],
      "text/plain": [
       "0. {forall_{a_{1}, ..a_{_a}.., a_{n}} [forall_{P, Q | Q(a_{1}) => P(a_{1}), ..Q(a_{k}) => P(a_{k}).., Q(a_{n}) => P(a_{n})} [forall_{x in {a_{1}, ..a_{_a}.., a_{n}} | Q(x)} P(x)]] if n in Natural.\n",
       "   core type: Conditional\n",
       "   value: 1\n",
       "   condition: 2\n",
       "1. forall_{a_{1}, ..a_{_a}.., a_{n}} [forall_{P, Q | Q(a_{1}) => P(a_{1}), ..Q(a_{k}) => P(a_{k}).., Q(a_{n}) => P(a_{n})} [forall_{x in {a_{1}, ..a_{_a}.., a_{n}} | Q(x)} P(x)]]\n",
       "   core type: Operation\n",
       "   operator: 14\n",
       "   operand: 5\n",
       "2. n in Natural\n",
       "   core type: Operation\n",
       "   operator: 32\n",
       "   operands: 4\n",
       "3. ((a_{1}, ..a_{_a}.., a_{n}) -> [forall_{P, Q | Q(a_{1}) => P(a_{1}), ..Q(a_{k}) => P(a_{k}).., Q(a_{n}) => P(a_{n})} [forall_{x in {a_{1}, ..a_{_a}.., a_{n}} | Q(x)} P(x)]])\n",
       "   core type: ExprTuple\n",
       "   sub-expressions: 5\n",
       "4. (n, Natural)\n",
       "   core type: ExprTuple\n",
       "   sub-expressions: 48, 6\n",
       "5. (a_{1}, ..a_{_a}.., a_{n}) -> [forall_{P, Q | Q(a_{1}) => P(a_{1}), ..Q(a_{k}) => P(a_{k}).., Q(a_{n}) => P(a_{n})} [forall_{x in {a_{1}, ..a_{_a}.., a_{n}} | Q(x)} P(x)]]\n",
       "   core type: Lambda\n",
       "   parameters: 42\\n   body: 7\n",
       "6. Natural\n",
       "   core type: Literal\n",
       "   sub-expressions: \n",
       "7. forall_{P, Q | Q(a_{1}) => P(a_{1}), ..Q(a_{k}) => P(a_{k}).., Q(a_{n}) => P(a_{n})} [forall_{x in {a_{1}, ..a_{_a}.., a_{n}} | Q(x)} P(x)]\n",
       "   core type: Operation\n",
       "   operator: 14\n",
       "   operand: 9\n",
       "8. ((P, Q) -> {forall_{x in {a_{1}, ..a_{_a}.., a_{n}} | Q(x)} P(x) if (Q(a_{1}) => P(a_{1})) and ..(Q(a_{k}) => P(a_{k})).. and (Q(a_{n}) => P(a_{n})).)\n",
       "   core type: ExprTuple\n",
       "   sub-expressions: 9\n",
       "9. (P, Q) -> {forall_{x in {a_{1}, ..a_{_a}.., a_{n}} | Q(x)} P(x) if (Q(a_{1}) => P(a_{1})) and ..(Q(a_{k}) => P(a_{k})).. and (Q(a_{n}) => P(a_{n})).\n",
       "   core type: Lambda\n",
       "   parameters: 10\\n   body: 11\n",
       "10. (P, Q)\n",
       "    core type: ExprTuple\n",
       "    sub-expressions: 36, 35\n",
       "11. {forall_{x in {a_{1}, ..a_{_a}.., a_{n}} | Q(x)} P(x) if (Q(a_{1}) => P(a_{1})) and ..(Q(a_{k}) => P(a_{k})).. and (Q(a_{n}) => P(a_{n})).\n",
       "    core type: Conditional\n",
       "    value: 12\n",
       "    condition: 13\n",
       "12. forall_{x in {a_{1}, ..a_{_a}.., a_{n}} | Q(x)} P(x)\n",
       "    core type: Operation\n",
       "    operator: 14\n",
       "    operand: 17\n",
       "13. (Q(a_{1}) => P(a_{1})) and ..(Q(a_{k}) => P(a_{k})).. and (Q(a_{n}) => P(a_{n}))\n",
       "    core type: Operation\n",
       "    operator: 24\n",
       "    operands: 16\n",
       "14. forall\n",
       "    core type: Literal\n",
       "    sub-expressions: \n",
       "15. (x -> {P(x) if x in {a_{1}, ..a_{_a}.., a_{n}} ,  Q(x).)\n",
       "    core type: ExprTuple\n",
       "    sub-expressions: 17\n",
       "16. (Q(a_{1}) => P(a_{1}), ..Q(a_{k}) => P(a_{k}).., Q(a_{n}) => P(a_{n}))\n",
       "    core type: ExprTuple\n",
       "    sub-expressions: 18\n",
       "17. x -> {P(x) if x in {a_{1}, ..a_{_a}.., a_{n}} ,  Q(x).\n",
       "    core type: Lambda\n",
       "    parameter: 39\n",
       "    body: 19\n",
       "18. (Q(a_{1}) => P(a_{1})), ..(Q(a_{k}) => P(a_{k})).., (Q(a_{n}) => P(a_{n}))\n",
       "    core type: ExprRange\n",
       "    lambda_map: 20\n",
       "    start_index: 47\n",
       "    end_index: 48\n",
       "19. {P(x) if x in {a_{1}, ..a_{_a}.., a_{n}} ,  Q(x).\n",
       "    core type: Conditional\n",
       "    value: 21\n",
       "    condition: 22\n",
       "20. k -> (Q(a_{k}) => P(a_{k}))\n",
       "    core type: Lambda\n",
       "    parameter: 45\n",
       "    body: 23\n",
       "21. P(x)\n",
       "    core type: Operation\n",
       "    operator: 36\n",
       "    operand: 39\n",
       "22. (x in {a_{1}, ..a_{_a}.., a_{n}}) and Q(x)\n",
       "    core type: Operation\n",
       "    operator: 24\n",
       "    operands: 25\n",
       "23. Q(a_{k}) => P(a_{k})\n",
       "    core type: Operation\n",
       "    operator: 26\n",
       "    operands: 27\n",
       "24. and\n",
       "    core type: Literal\n",
       "    sub-expressions: \n",
       "25. (x in {a_{1}, ..a_{_a}.., a_{n}}, Q(x))\n",
       "    core type: ExprTuple\n",
       "    sub-expressions: 28, 29\n",
       "26. =>\n",
       "    core type: Literal\n",
       "    sub-expressions: \n",
       "27. (Q(a_{k}), P(a_{k}))\n",
       "    core type: ExprTuple\n",
       "    sub-expressions: 30, 31\n",
       "28. x in {a_{1}, ..a_{_a}.., a_{n}}\n",
       "    core type: Operation\n",
       "    operator: 32\n",
       "    operands: 33\n",
       "29. Q(x)\n",
       "    core type: Operation\n",
       "    operator: 35\n",
       "    operand: 39\n",
       "30. Q(a_{k})\n",
       "    core type: Operation\n",
       "    operator: 35\n",
       "    operand: 40\n",
       "31. P(a_{k})\n",
       "    core type: Operation\n",
       "    operator: 36\n",
       "    operand: 40\n",
       "32. in\n",
       "    core type: Literal\n",
       "    sub-expressions: \n",
       "33. (x, {a_{1}, ..a_{_a}.., a_{n}})\n",
       "    core type: ExprTuple\n",
       "    sub-expressions: 39, 38\n",
       "34. (x)\n",
       "    core type: ExprTuple\n",
       "    sub-expressions: 39\n",
       "35. Q\n",
       "    core type: Variable\n",
       "    sub-expressions: \n",
       "36. P\n",
       "    core type: Variable\n",
       "    sub-expressions: \n",
       "37. (a_{k})\n",
       "    core type: ExprTuple\n",
       "    sub-expressions: 40\n",
       "38. {a_{1}, ..a_{_a}.., a_{n}}\n",
       "    core type: Operation\n",
       "    operator: 41\n",
       "    operands: 42\n",
       "39. x\n",
       "    core type: Variable\n",
       "    sub-expressions: \n",
       "40. a_{k}\n",
       "    core type: IndexedVar\n",
       "variable: 50\n",
       "index: 45\n",
       "41. Set\n",
       "    core type: Literal\n",
       "    sub-expressions: \n",
       "42. (a_{1}, ..a_{_a}.., a_{n})\n",
       "    core type: ExprTuple\n",
       "    sub-expressions: 44\n",
       "43. (k)\n",
       "    core type: ExprTuple\n",
       "    sub-expressions: 45\n",
       "44. a_{1}, ..a_{_a}.., a_{n}\n",
       "    core type: ExprRange\n",
       "    lambda_map: 46\n",
       "    start_index: 47\n",
       "    end_index: 48\n",
       "45. k\n",
       "    core type: Variable\n",
       "    sub-expressions: \n",
       "46. _a -> a_{_a}\n",
       "    core type: Lambda\n",
       "    parameter: 52\n",
       "    body: 49\n",
       "47. 1\n",
       "    core type: Literal\n",
       "    sub-expressions: \n",
       "48. n\n",
       "    core type: Variable\n",
       "    sub-expressions: \n",
       "49. a_{_a}\n",
       "    core type: IndexedVar\n",
       "variable: 50\n",
       "index: 52\n",
       "50. a\n",
       "    core type: Variable\n",
       "    sub-expressions: \n",
       "51. (_a)\n",
       "    core type: ExprTuple\n",
       "    sub-expressions: 52\n",
       "52. _a\n",
       "    core type: Variable\n",
       "    sub-expressions: "
      ]
     },
     "execution_count": 6,
     "metadata": {},
     "output_type": "execute_result"
    }
   ],
   "source": [
    "# display the expression information\n",
    "expr.expr_info()"
   ]
  },
  {
   "cell_type": "code",
   "execution_count": null,
   "metadata": {},
   "outputs": [],
   "source": []
  }
 ],
 "metadata": {
  "kernelspec": {
   "display_name": "Python 3",
   "language": "python",
   "name": "python3"
  }
 },
 "nbformat": 4,
 "nbformat_minor": 0
}