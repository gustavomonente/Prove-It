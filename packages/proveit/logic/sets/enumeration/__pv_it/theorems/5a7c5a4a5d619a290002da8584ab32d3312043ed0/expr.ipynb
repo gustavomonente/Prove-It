{
 "cells": [
  {
   "cell_type": "markdown",
   "metadata": {},
   "source": [
    "Expression of type <a class=\"ProveItLink\" href=\"../../../../../../../../doc/html/api/proveit.logic.Equals.html\">Equals</a>\n",
    "=======================\n",
    "# from the theory of <a class=\"ProveItLink\" href=\"../../../_theory_nbs_/theory.ipynb\">proveit.logic.sets.enumeration</a>"
   ]
  },
  {
   "cell_type": "code",
   "execution_count": 1,
   "metadata": {},
   "outputs": [],
   "source": [
    "import proveit\n",
    "# Automation is not needed when building an expression:\n",
    "proveit.defaults.automation = False # This will speed things up.\n",
    "proveit.defaults.inline_pngs = False # Makes files smaller.\n",
    "%load_expr # Load the stored expression as 'stored_expr'\n",
    "# import Expression classes needed to build the expression\n",
    "from proveit import x, y\n",
    "from proveit.logic import Equals, NotEquals, NotInSet, Set"
   ]
  },
  {
   "cell_type": "code",
   "execution_count": 2,
   "metadata": {},
   "outputs": [
    {
     "data": {
      "text/html": [
       "<strong id=\"expr\">expr:</strong> <a class=\"ProveItLink\" href=\"expr.ipynb\"><img src=\"expr.png\" style=\"display:inline;vertical-align:middle;\" /></a><br>"
      ],
      "text/plain": [
       "expr: (x not-in {y}) = (x != y)"
      ]
     },
     "execution_count": 2,
     "metadata": {},
     "output_type": "execute_result"
    }
   ],
   "source": [
    "# build up the expression from sub-expressions\n",
    "expr = Equals(NotInSet(x, Set(y)), NotEquals(x, y))"
   ]
  },
  {
   "cell_type": "code",
   "execution_count": 3,
   "metadata": {},
   "outputs": [
    {
     "name": "stdout",
     "output_type": "stream",
     "text": [
      "Passed sanity check: expr matches stored_expr\n"
     ]
    }
   ],
   "source": [
    "# check that the built expression is the same as the stored expression\n",
    "assert expr == stored_expr\n",
    "assert expr._style_id == stored_expr._style_id\n",
    "print(\"Passed sanity check: expr matches stored_expr\")"
   ]
  },
  {
   "cell_type": "code",
   "execution_count": 4,
   "metadata": {},
   "outputs": [
    {
     "name": "stdout",
     "output_type": "stream",
     "text": [
      "\\left(x \\notin \\left\\{y\\right\\}\\right) = \\left(x \\neq y\\right)\n"
     ]
    }
   ],
   "source": [
    "# Show the LaTeX representation of the expression for convenience if you need it.\n",
    "print(expr.latex())"
   ]
  },
  {
   "cell_type": "code",
   "execution_count": 5,
   "metadata": {},
   "outputs": [
    {
     "data": {
      "text/html": [
       "<table>\n",
       "<tr><th>name</th><th>description</th><th>default</th><th>current value</th><th>related methods</th></tr><tr><td>operation</td><td>'infix' or 'function' style formatting</td><td>infix</td><td>infix</td><td></td></tr>\n",
       "<tr><td>wrap_positions</td><td>position(s) at which wrapping is to occur; '2 n - 1' is after the nth operand, '2 n' is after the nth operation.</td><td>()</td><td>()</td><td>('with_wrapping_at', 'with_wrap_before_operator', 'with_wrap_after_operator', 'wrap_positions')</td></tr>\n",
       "<tr><td>justification</td><td>if any wrap positions are set, justify to the 'left', 'center', or 'right'</td><td>center</td><td>center</td><td>('with_justification',)</td></tr>\n",
       "<tr><td>direction</td><td>Direction of the relation (normal or reversed)</td><td>normal</td><td>normal</td><td>('with_direction_reversed', 'is_reversed')</td></tr>\n",
       "</table>\n"
      ],
      "text/plain": [
       "style name: operation\n",
       "description: 'infix' or 'function' style formatting\n",
       "default: infix\n",
       "current value: infix\n",
       "related methods: ()\n",
       "style name: wrap_positions\n",
       "description: position(s) at which wrapping is to occur; '2 n - 1' is after the nth operand, '2 n' is after the nth operation.\n",
       "default: ()\n",
       "current value: ()\n",
       "related methods: ('with_wrapping_at', 'with_wrap_before_operator', 'with_wrap_after_operator', 'wrap_positions')\n",
       "style name: justification\n",
       "description: if any wrap positions are set, justify to the 'left', 'center', or 'right'\n",
       "default: center\n",
       "current value: center\n",
       "related methods: ('with_justification',)\n",
       "style name: direction\n",
       "description: Direction of the relation (normal or reversed)\n",
       "default: normal\n",
       "current value: normal\n",
       "related methods: ('with_direction_reversed', 'is_reversed')"
      ]
     },
     "execution_count": 5,
     "metadata": {},
     "output_type": "execute_result"
    }
   ],
   "source": [
    "expr.style_options()"
   ]
  },
  {
   "cell_type": "code",
   "execution_count": 6,
   "metadata": {},
   "outputs": [
    {
     "data": {
      "text/html": [
       "<table><tr><th>&nbsp;</th><th>core type</th><th>sub-expressions</th><th>expression</th></tr>\n",
       "<tr><td>0</td><td>Operation</td><td>operator:&nbsp;1<br>operands:&nbsp;2<br></td><td><a class=\"ProveItLink\" href=\"expr.ipynb\"><img src=\"expr.png\" style=\"display:inline;vertical-align:middle;\" /></a></td></tr>\n",
       "<tr><td>1</td><td>Literal</td><td></td><td><a class=\"ProveItLink\" href=\"../../../../../equality/__pv_it/common/731dd3955b346c1320ed5c0ba7a618bcda61457d0/expr.ipynb\"><img src=\"../../../../../equality/__pv_it/common/731dd3955b346c1320ed5c0ba7a618bcda61457d0/expr.png\" style=\"display:inline;vertical-align:middle;\" /></a></td></tr>\n",
       "<tr><td>2</td><td>ExprTuple</td><td>3, 4</td><td><a class=\"ProveItLink\" href=\"../43b8c01b1b3d521a65bbbfc998c6eea40008bd850/expr.ipynb\"><img src=\"../43b8c01b1b3d521a65bbbfc998c6eea40008bd850/expr.png\" style=\"display:inline;vertical-align:middle;\" /></a></td></tr>\n",
       "<tr><td>3</td><td>Operation</td><td>operator:&nbsp;5<br>operands:&nbsp;6<br></td><td><a class=\"ProveItLink\" href=\"../2c80b93159fb1825e47adbdc8b6b78dcd9f03b440/expr.ipynb\"><img src=\"../2c80b93159fb1825e47adbdc8b6b78dcd9f03b440/expr.png\" style=\"display:inline;vertical-align:middle;\" /></a></td></tr>\n",
       "<tr><td>4</td><td>Operation</td><td>operator:&nbsp;7<br>operands:&nbsp;8<br></td><td><a class=\"ProveItLink\" href=\"../b6860e9472a17fdcdfcfd9fe87a82ec760ff89ff0/expr.ipynb\"><img src=\"../b6860e9472a17fdcdfcfd9fe87a82ec760ff89ff0/expr.png\" style=\"display:inline;vertical-align:middle;\" /></a></td></tr>\n",
       "<tr><td>5</td><td>Literal</td><td></td><td><a class=\"ProveItLink\" href=\"../../../../membership/__pv_it/common/964bda7e6e4c28273edd6b3f4b5665863f3e6fc50/expr.ipynb\"><img src=\"../../../../membership/__pv_it/common/964bda7e6e4c28273edd6b3f4b5665863f3e6fc50/expr.png\" style=\"display:inline;vertical-align:middle;\" /></a></td></tr>\n",
       "<tr><td>6</td><td>ExprTuple</td><td>10, 9</td><td><a class=\"ProveItLink\" href=\"../b934a37b342448e6f104b4ef6f91d7a2faae8fe20/expr.ipynb\"><img src=\"../b934a37b342448e6f104b4ef6f91d7a2faae8fe20/expr.png\" style=\"display:inline;vertical-align:middle;\" /></a></td></tr>\n",
       "<tr><td>7</td><td>Literal</td><td></td><td><a class=\"ProveItLink\" href=\"../../../../../equality/__pv_it/common/8dab0e450b6dad95cf65833220bcc832732dfd3c0/expr.ipynb\"><img src=\"../../../../../equality/__pv_it/common/8dab0e450b6dad95cf65833220bcc832732dfd3c0/expr.png\" style=\"display:inline;vertical-align:middle;\" /></a></td></tr>\n",
       "<tr><td>8</td><td>ExprTuple</td><td>10, 13</td><td><a class=\"ProveItLink\" href=\"../ef4dae65d3387950a2be9c6d13839307bdb1f9ee0/expr.ipynb\"><img src=\"../ef4dae65d3387950a2be9c6d13839307bdb1f9ee0/expr.png\" style=\"display:inline;vertical-align:middle;\" /></a></td></tr>\n",
       "<tr><td>9</td><td>Operation</td><td>operator:&nbsp;11<br>operand:&nbsp;13<br></td><td><a class=\"ProveItLink\" href=\"../3ce78634668ea013faa89b0558f1cf623a66cd6b0/expr.ipynb\"><img src=\"../3ce78634668ea013faa89b0558f1cf623a66cd6b0/expr.png\" style=\"display:inline;vertical-align:middle;\" /></a></td></tr>\n",
       "<tr><td>10</td><td>Variable</td><td></td><td><a class=\"ProveItLink\" href=\"../../../../../../__pv_it/common/a2581dc5df71d9a30bad37de14965fa5fec97a240/expr.ipynb\"><img src=\"../../../../../../__pv_it/common/a2581dc5df71d9a30bad37de14965fa5fec97a240/expr.png\" style=\"display:inline;vertical-align:middle;\" /></a></td></tr>\n",
       "<tr><td>11</td><td>Literal</td><td></td><td><a class=\"ProveItLink\" href=\"../../common/f7caf702081f903a6ea3d95d680568dd78698f5a0/expr.ipynb\"><img src=\"../../common/f7caf702081f903a6ea3d95d680568dd78698f5a0/expr.png\" style=\"display:inline;vertical-align:middle;\" /></a></td></tr>\n",
       "<tr><td>12</td><td>ExprTuple</td><td>13</td><td><a class=\"ProveItLink\" href=\"../c1ce6adcc1476a151f43f5b1e691eceeed8d79ab0/expr.ipynb\"><img src=\"../c1ce6adcc1476a151f43f5b1e691eceeed8d79ab0/expr.png\" style=\"display:inline;vertical-align:middle;\" /></a></td></tr>\n",
       "<tr><td>13</td><td>Variable</td><td></td><td><a class=\"ProveItLink\" href=\"../../../../../../__pv_it/common/0f21cbfd5644a1cae6781c1d58354abc2ffbc9000/expr.ipynb\"><img src=\"../../../../../../__pv_it/common/0f21cbfd5644a1cae6781c1d58354abc2ffbc9000/expr.png\" style=\"display:inline;vertical-align:middle;\" /></a></td></tr>\n",
       "</table>\n"
      ],
      "text/plain": [
       "0. (x not-in {y}) = (x != y)\n",
       "   core type: Operation\n",
       "   operator: 1\n",
       "   operands: 2\n",
       "1. =\n",
       "   core type: Literal\n",
       "   sub-expressions: \n",
       "2. (x not-in {y}, x != y)\n",
       "   core type: ExprTuple\n",
       "   sub-expressions: 3, 4\n",
       "3. x not-in {y}\n",
       "   core type: Operation\n",
       "   operator: 5\n",
       "   operands: 6\n",
       "4. x != y\n",
       "   core type: Operation\n",
       "   operator: 7\n",
       "   operands: 8\n",
       "5. not-in\n",
       "   core type: Literal\n",
       "   sub-expressions: \n",
       "6. (x, {y})\n",
       "   core type: ExprTuple\n",
       "   sub-expressions: 10, 9\n",
       "7. !=\n",
       "   core type: Literal\n",
       "   sub-expressions: \n",
       "8. (x, y)\n",
       "   core type: ExprTuple\n",
       "   sub-expressions: 10, 13\n",
       "9. {y}\n",
       "   core type: Operation\n",
       "   operator: 11\n",
       "   operand: 13\n",
       "10. x\n",
       "    core type: Variable\n",
       "    sub-expressions: \n",
       "11. Set\n",
       "    core type: Literal\n",
       "    sub-expressions: \n",
       "12. (y)\n",
       "    core type: ExprTuple\n",
       "    sub-expressions: 13\n",
       "13. y\n",
       "    core type: Variable\n",
       "    sub-expressions: "
      ]
     },
     "execution_count": 6,
     "metadata": {},
     "output_type": "execute_result"
    }
   ],
   "source": [
    "# display the expression information\n",
    "expr.expr_info()"
   ]
  },
  {
   "cell_type": "code",
   "execution_count": null,
   "metadata": {},
   "outputs": [],
   "source": []
  }
 ],
 "metadata": {
  "kernelspec": {
   "display_name": "Python 3",
   "language": "python",
   "name": "python3"
  }
 },
 "nbformat": 4,
 "nbformat_minor": 0
}