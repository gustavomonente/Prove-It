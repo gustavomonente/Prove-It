{
 "cells": [
  {
   "cell_type": "markdown",
   "metadata": {},
   "source": [
    "Expression of type <a class=\"ProveItLink\" href=\"../../../../../../../../doc/html/api/proveit.ExprTuple.html\">ExprTuple</a>\n",
    "=======================\n",
    "# from the theory of <a class=\"ProveItLink\" href=\"../../../_theory_nbs_/theory.ipynb\">proveit.logic.sets.enumeration</a>"
   ]
  },
  {
   "cell_type": "code",
   "execution_count": 1,
   "metadata": {},
   "outputs": [],
   "source": [
    "import proveit\n",
    "# Automation is not needed when building an expression:\n",
    "proveit.defaults.automation = False # This will speed things up.\n",
    "proveit.defaults.inline_pngs = False # Makes files smaller.\n",
    "%load_expr # Load the stored expression as 'stored_expr'\n",
    "# import Expression classes needed to build the expression\n",
    "from proveit import Conditional, ExprTuple, Lambda, P, Px, n, x\n",
    "from proveit.core_expr_types import Pk_a1_to_an, a_1_to_n\n",
    "from proveit.logic import And, Forall, InSet, Set\n",
    "from proveit.numbers import Natural"
   ]
  },
  {
   "cell_type": "code",
   "execution_count": 2,
   "metadata": {},
   "outputs": [
    {
     "data": {
      "text/html": [
       "<strong id=\"expr\">expr:</strong> <a class=\"ProveItLink\" href=\"expr.ipynb\"><img src=\"expr.png\" style=\"display:inline;vertical-align:middle;\" /></a><br>"
      ],
      "text/plain": [
       "expr: (n -> {forall_{a_{1}, ..a_{_a}.., a_{n}} [forall_{P | forall_{x in {a_{1}, ..a_{_a}.., a_{n}}} P(x)} (P(a_{1}) and ..P(a_{k}).. and P(a_{n}))] if n in Natural.)"
      ]
     },
     "execution_count": 2,
     "metadata": {},
     "output_type": "execute_result"
    }
   ],
   "source": [
    "# build up the expression from sub-expressions\n",
    "expr = ExprTuple(Lambda(n, Conditional(Forall([a_1_to_n], Forall([P], And(Pk_a1_to_an), condition = Forall([x], Px, domains = [Set(a_1_to_n)]))), InSet(n, Natural))))"
   ]
  },
  {
   "cell_type": "code",
   "execution_count": 3,
   "metadata": {},
   "outputs": [
    {
     "name": "stdout",
     "output_type": "stream",
     "text": [
      "Passed sanity check: expr matches stored_expr\n"
     ]
    }
   ],
   "source": [
    "# check that the built expression is the same as the stored expression\n",
    "assert expr == stored_expr\n",
    "assert expr._style_id == stored_expr._style_id\n",
    "print(\"Passed sanity check: expr matches stored_expr\")"
   ]
  },
  {
   "cell_type": "code",
   "execution_count": 4,
   "metadata": {},
   "outputs": [
    {
     "name": "stdout",
     "output_type": "stream",
     "text": [
      "\\left(n \\mapsto \\left\\{\\forall_{a_{1}, \\ldots, a_{n}}~\\left[\\forall_{P~|~\\forall_{x \\in \\left\\{a_{1}, \\ldots, a_{n}\\right\\}}~P(x)}~\\left(P(a_{1}) \\land \\ldots \\land P(a_{n})\\right)\\right] \\textrm{ if } n \\in \\mathbb{N}\\right..\\right)\n"
     ]
    }
   ],
   "source": [
    "# Show the LaTeX representation of the expression for convenience if you need it.\n",
    "print(expr.latex())"
   ]
  },
  {
   "cell_type": "code",
   "execution_count": 5,
   "metadata": {},
   "outputs": [
    {
     "data": {
      "text/html": [
       "no style options"
      ],
      "text/plain": [
       "no style options"
      ]
     },
     "execution_count": 5,
     "metadata": {},
     "output_type": "execute_result"
    }
   ],
   "source": [
    "expr.style_options()"
   ]
  },
  {
   "cell_type": "code",
   "execution_count": 6,
   "metadata": {},
   "outputs": [
    {
     "data": {
      "text/html": [
       "<table><tr><th>&nbsp;</th><th>core type</th><th>sub-expressions</th><th>expression</th></tr>\n",
       "<tr><td>0</td><td>ExprTuple</td><td>1</td><td><a class=\"ProveItLink\" href=\"expr.ipynb\"><img src=\"expr.png\" style=\"display:inline;vertical-align:middle;\" /></a></td></tr>\n",
       "<tr><td>1</td><td>Lambda</td><td>parameter:&nbsp;41<br>body:&nbsp;2<br></td><td><a class=\"ProveItLink\" href=\"../8563405efa01fd8284d38dfa7f90c4395d1695a70/expr.ipynb\"><img src=\"../8563405efa01fd8284d38dfa7f90c4395d1695a70/expr.png\" style=\"display:inline;vertical-align:middle;\" /></a></td></tr>\n",
       "<tr><td>2</td><td>Conditional</td><td>value:&nbsp;3<br>condition:&nbsp;4<br></td><td><a class=\"ProveItLink\" href=\"../1ed94b9b7e0591b7488cfa72c83bc0855b1fb55d0/expr.ipynb\"><img src=\"../1ed94b9b7e0591b7488cfa72c83bc0855b1fb55d0/expr.png\" style=\"display:inline;vertical-align:middle;\" /></a></td></tr>\n",
       "<tr><td>3</td><td>Operation</td><td>operator:&nbsp;17<br>operand:&nbsp;7<br></td><td><a class=\"ProveItLink\" href=\"../6cff222117f74fbdac41de0459c1b727d315e9050/expr.ipynb\"><img src=\"../6cff222117f74fbdac41de0459c1b727d315e9050/expr.png\" style=\"display:inline;vertical-align:middle;\" /></a></td></tr>\n",
       "<tr><td>4</td><td>Operation</td><td>operator:&nbsp;29<br>operands:&nbsp;6<br></td><td><a class=\"ProveItLink\" href=\"../e3c5b209faa86f1e812d35da64c9d9b711de675d0/expr.ipynb\"><img src=\"../e3c5b209faa86f1e812d35da64c9d9b711de675d0/expr.png\" style=\"display:inline;vertical-align:middle;\" /></a></td></tr>\n",
       "<tr><td>5</td><td>ExprTuple</td><td>7</td><td><a class=\"ProveItLink\" href=\"../dcedc435dd988a95cce50270b10222f4b9b54cda0/expr.ipynb\"><img src=\"../dcedc435dd988a95cce50270b10222f4b9b54cda0/expr.png\" style=\"display:inline;vertical-align:middle;\" /></a></td></tr>\n",
       "<tr><td>6</td><td>ExprTuple</td><td>41, 8</td><td><a class=\"ProveItLink\" href=\"../248776733c2a8aa9cdfdf4f76f63a3d26b6d139d0/expr.ipynb\"><img src=\"../248776733c2a8aa9cdfdf4f76f63a3d26b6d139d0/expr.png\" style=\"display:inline;vertical-align:middle;\" /></a></td></tr>\n",
       "<tr><td>7</td><td>Lambda</td><td>parameters:&nbsp;36<br>body:&nbsp;9<br></td><td><a class=\"ProveItLink\" href=\"../7b5d050e25038ed48ae6a852b9868da538a130ed0/expr.ipynb\"><img src=\"../7b5d050e25038ed48ae6a852b9868da538a130ed0/expr.png\" style=\"display:inline;vertical-align:middle;\" /></a></td></tr>\n",
       "<tr><td>8</td><td>Literal</td><td></td><td><a class=\"ProveItLink\" href=\"../../../../../../numbers/number_sets/natural_numbers/__pv_it/common/85c8b43c90a7392ebb5459360d343dfa7c7408b50/expr.ipynb\"><img src=\"../../../../../../numbers/number_sets/natural_numbers/__pv_it/common/85c8b43c90a7392ebb5459360d343dfa7c7408b50/expr.png\" style=\"display:inline;vertical-align:middle;\" /></a></td></tr>\n",
       "<tr><td>9</td><td>Operation</td><td>operator:&nbsp;17<br>operand:&nbsp;11<br></td><td><a class=\"ProveItLink\" href=\"../046811c5536646454943eb7713c9d401b99d2cc10/expr.ipynb\"><img src=\"../046811c5536646454943eb7713c9d401b99d2cc10/expr.png\" style=\"display:inline;vertical-align:middle;\" /></a></td></tr>\n",
       "<tr><td>10</td><td>ExprTuple</td><td>11</td><td><a class=\"ProveItLink\" href=\"../0cc87b7b20081322618da202bc64d11c75abb8570/expr.ipynb\"><img src=\"../0cc87b7b20081322618da202bc64d11c75abb8570/expr.png\" style=\"display:inline;vertical-align:middle;\" /></a></td></tr>\n",
       "<tr><td>11</td><td>Lambda</td><td>parameter:&nbsp;27<br>body:&nbsp;12<br></td><td><a class=\"ProveItLink\" href=\"../a611ce28f677eef82d7a18d91ac42ef6bceac97a0/expr.ipynb\"><img src=\"../a611ce28f677eef82d7a18d91ac42ef6bceac97a0/expr.png\" style=\"display:inline;vertical-align:middle;\" /></a></td></tr>\n",
       "<tr><td>12</td><td>Conditional</td><td>value:&nbsp;13<br>condition:&nbsp;14<br></td><td><a class=\"ProveItLink\" href=\"../d2f1acc3709bee5eafa89dd96549ff9aebbe8ecb0/expr.ipynb\"><img src=\"../d2f1acc3709bee5eafa89dd96549ff9aebbe8ecb0/expr.png\" style=\"display:inline;vertical-align:middle;\" /></a></td></tr>\n",
       "<tr><td>13</td><td>Operation</td><td>operator:&nbsp;15<br>operands:&nbsp;16<br></td><td><a class=\"ProveItLink\" href=\"../2a264738d37939674a887865e86f26f0fea6bdbd0/expr.ipynb\"><img src=\"../2a264738d37939674a887865e86f26f0fea6bdbd0/expr.png\" style=\"display:inline;vertical-align:middle;\" /></a></td></tr>\n",
       "<tr><td>14</td><td>Operation</td><td>operator:&nbsp;17<br>operand:&nbsp;20<br></td><td><a class=\"ProveItLink\" href=\"../d896578465edc2d1c052e0ac3207b1bcc882e74e0/expr.ipynb\"><img src=\"../d896578465edc2d1c052e0ac3207b1bcc882e74e0/expr.png\" style=\"display:inline;vertical-align:middle;\" /></a></td></tr>\n",
       "<tr><td>15</td><td>Literal</td><td></td><td><a class=\"ProveItLink\" href=\"../../../../../booleans/conjunction/__pv_it/common/26b94b53e70b1d77b70f0d9d4236347db37731060/expr.ipynb\"><img src=\"../../../../../booleans/conjunction/__pv_it/common/26b94b53e70b1d77b70f0d9d4236347db37731060/expr.png\" style=\"display:inline;vertical-align:middle;\" /></a></td></tr>\n",
       "<tr><td>16</td><td>ExprTuple</td><td>19</td><td><a class=\"ProveItLink\" href=\"../0f5528d5082fbb0eea1b01052b763c2536da91470/expr.ipynb\"><img src=\"../0f5528d5082fbb0eea1b01052b763c2536da91470/expr.png\" style=\"display:inline;vertical-align:middle;\" /></a></td></tr>\n",
       "<tr><td>17</td><td>Literal</td><td></td><td><a class=\"ProveItLink\" href=\"../../../../../booleans/quantification/universality/__pv_it/common/684d35ba98fcbf8ca5011f865e530a51e77730630/expr.ipynb\"><img src=\"../../../../../booleans/quantification/universality/__pv_it/common/684d35ba98fcbf8ca5011f865e530a51e77730630/expr.png\" style=\"display:inline;vertical-align:middle;\" /></a></td></tr>\n",
       "<tr><td>18</td><td>ExprTuple</td><td>20</td><td><a class=\"ProveItLink\" href=\"../734c92e10fc2cb9ec26df873737bf4a22fbb37dd0/expr.ipynb\"><img src=\"../734c92e10fc2cb9ec26df873737bf4a22fbb37dd0/expr.png\" style=\"display:inline;vertical-align:middle;\" /></a></td></tr>\n",
       "<tr><td>19</td><td>ExprRange</td><td>lambda_map:&nbsp;21<br>start_index:&nbsp;40<br>end_index:&nbsp;41<br></td><td><a class=\"ProveItLink\" href=\"../../../../../../core_expr_types/__pv_it/common/0a90c3c283360e86d2afae0b810fbf2c8b24790f0/expr.ipynb\"><img src=\"../../../../../../core_expr_types/__pv_it/common/0a90c3c283360e86d2afae0b810fbf2c8b24790f0/expr.png\" style=\"display:inline;vertical-align:middle;\" /></a></td></tr>\n",
       "<tr><td>20</td><td>Lambda</td><td>parameter:&nbsp;32<br>body:&nbsp;22<br></td><td><a class=\"ProveItLink\" href=\"../b6d4b05249711aef76df643f1f0da43c807cbb8e0/expr.ipynb\"><img src=\"../b6d4b05249711aef76df643f1f0da43c807cbb8e0/expr.png\" style=\"display:inline;vertical-align:middle;\" /></a></td></tr>\n",
       "<tr><td>21</td><td>Lambda</td><td>parameter:&nbsp;37<br>body:&nbsp;23<br></td><td><a class=\"ProveItLink\" href=\"../../../../../../core_expr_types/__pv_it/common/717dc3bb8b4e031e9b0501ea5a26ac94d6aa7a900/expr.ipynb\"><img src=\"../../../../../../core_expr_types/__pv_it/common/717dc3bb8b4e031e9b0501ea5a26ac94d6aa7a900/expr.png\" style=\"display:inline;vertical-align:middle;\" /></a></td></tr>\n",
       "<tr><td>22</td><td>Conditional</td><td>value:&nbsp;24<br>condition:&nbsp;25<br></td><td><a class=\"ProveItLink\" href=\"../93fc82a0824ab12568d015cc02150cf658ed74df0/expr.ipynb\"><img src=\"../93fc82a0824ab12568d015cc02150cf658ed74df0/expr.png\" style=\"display:inline;vertical-align:middle;\" /></a></td></tr>\n",
       "<tr><td>23</td><td>Operation</td><td>operator:&nbsp;27<br>operand:&nbsp;31<br></td><td><a class=\"ProveItLink\" href=\"../../../../../../core_expr_types/__pv_it/common/fa1bc44decfa60ecf8b7c0df2733735c808053fe0/expr.ipynb\"><img src=\"../../../../../../core_expr_types/__pv_it/common/fa1bc44decfa60ecf8b7c0df2733735c808053fe0/expr.png\" style=\"display:inline;vertical-align:middle;\" /></a></td></tr>\n",
       "<tr><td>24</td><td>Operation</td><td>operator:&nbsp;27<br>operand:&nbsp;32<br></td><td><a class=\"ProveItLink\" href=\"../../../../../../__pv_it/common/ed3ed03681b166b9fbefedb104a4f950026141260/expr.ipynb\"><img src=\"../../../../../../__pv_it/common/ed3ed03681b166b9fbefedb104a4f950026141260/expr.png\" style=\"display:inline;vertical-align:middle;\" /></a></td></tr>\n",
       "<tr><td>25</td><td>Operation</td><td>operator:&nbsp;29<br>operands:&nbsp;30<br></td><td><a class=\"ProveItLink\" href=\"../52b18e5766139585cbd434b541acfa10eecc07bc0/expr.ipynb\"><img src=\"../52b18e5766139585cbd434b541acfa10eecc07bc0/expr.png\" style=\"display:inline;vertical-align:middle;\" /></a></td></tr>\n",
       "<tr><td>26</td><td>ExprTuple</td><td>31</td><td><a class=\"ProveItLink\" href=\"../../../../../../core_expr_types/__pv_it/common/c4b8345e89bf92e3c38f3b438531cf77267c32e60/expr.ipynb\"><img src=\"../../../../../../core_expr_types/__pv_it/common/c4b8345e89bf92e3c38f3b438531cf77267c32e60/expr.png\" style=\"display:inline;vertical-align:middle;\" /></a></td></tr>\n",
       "<tr><td>27</td><td>Variable</td><td></td><td><a class=\"ProveItLink\" href=\"../../../../../../__pv_it/common/d5fc3066299847984076662ce51556220bdb6cfb0/expr.ipynb\"><img src=\"../../../../../../__pv_it/common/d5fc3066299847984076662ce51556220bdb6cfb0/expr.png\" style=\"display:inline;vertical-align:middle;\" /></a></td></tr>\n",
       "<tr><td>28</td><td>ExprTuple</td><td>32</td><td><a class=\"ProveItLink\" href=\"../../../../../../__pv_it/common/a49c8f25f899a16b1dbcf2257505d5464a9a7bb50/expr.ipynb\"><img src=\"../../../../../../__pv_it/common/a49c8f25f899a16b1dbcf2257505d5464a9a7bb50/expr.png\" style=\"display:inline;vertical-align:middle;\" /></a></td></tr>\n",
       "<tr><td>29</td><td>Literal</td><td></td><td><a class=\"ProveItLink\" href=\"../../../../membership/__pv_it/common/7171deca84f71f47a6ec7696972d1632274a12880/expr.ipynb\"><img src=\"../../../../membership/__pv_it/common/7171deca84f71f47a6ec7696972d1632274a12880/expr.png\" style=\"display:inline;vertical-align:middle;\" /></a></td></tr>\n",
       "<tr><td>30</td><td>ExprTuple</td><td>32, 33</td><td><a class=\"ProveItLink\" href=\"../968a3d7a80ba3871f2d347d8511130a7b102148a0/expr.ipynb\"><img src=\"../968a3d7a80ba3871f2d347d8511130a7b102148a0/expr.png\" style=\"display:inline;vertical-align:middle;\" /></a></td></tr>\n",
       "<tr><td>31</td><td>IndexedVar</td><td>variable:&nbsp;43<br>index:&nbsp;37<br></td><td><a class=\"ProveItLink\" href=\"../../../../../../core_expr_types/__pv_it/common/910ff783c5bd10af92c87a24c4fec49ec6529c750/expr.ipynb\"><img src=\"../../../../../../core_expr_types/__pv_it/common/910ff783c5bd10af92c87a24c4fec49ec6529c750/expr.png\" style=\"display:inline;vertical-align:middle;\" /></a></td></tr>\n",
       "<tr><td>32</td><td>Variable</td><td></td><td><a class=\"ProveItLink\" href=\"../../../../../../__pv_it/common/a2581dc5df71d9a30bad37de14965fa5fec97a240/expr.ipynb\"><img src=\"../../../../../../__pv_it/common/a2581dc5df71d9a30bad37de14965fa5fec97a240/expr.png\" style=\"display:inline;vertical-align:middle;\" /></a></td></tr>\n",
       "<tr><td>33</td><td>Operation</td><td>operator:&nbsp;35<br>operands:&nbsp;36<br></td><td><a class=\"ProveItLink\" href=\"../87c50483abef44405eac4a700805a1d531107a9b0/expr.ipynb\"><img src=\"../87c50483abef44405eac4a700805a1d531107a9b0/expr.png\" style=\"display:inline;vertical-align:middle;\" /></a></td></tr>\n",
       "<tr><td>34</td><td>ExprTuple</td><td>37</td><td><a class=\"ProveItLink\" href=\"../../../../../../__pv_it/common/797070a9ef2f9957a44157444d93fbe100e2d7430/expr.ipynb\"><img src=\"../../../../../../__pv_it/common/797070a9ef2f9957a44157444d93fbe100e2d7430/expr.png\" style=\"display:inline;vertical-align:middle;\" /></a></td></tr>\n",
       "<tr><td>35</td><td>Literal</td><td></td><td><a class=\"ProveItLink\" href=\"../../common/f7caf702081f903a6ea3d95d680568dd78698f5a0/expr.ipynb\"><img src=\"../../common/f7caf702081f903a6ea3d95d680568dd78698f5a0/expr.png\" style=\"display:inline;vertical-align:middle;\" /></a></td></tr>\n",
       "<tr><td>36</td><td>ExprTuple</td><td>38</td><td><a class=\"ProveItLink\" href=\"../3c2073fded113a048bf7371c726cf466ae4d92300/expr.ipynb\"><img src=\"../3c2073fded113a048bf7371c726cf466ae4d92300/expr.png\" style=\"display:inline;vertical-align:middle;\" /></a></td></tr>\n",
       "<tr><td>37</td><td>Variable</td><td></td><td><a class=\"ProveItLink\" href=\"../../../../../../__pv_it/common/b9fd37fc619babc74a6203459f110251586df6970/expr.ipynb\"><img src=\"../../../../../../__pv_it/common/b9fd37fc619babc74a6203459f110251586df6970/expr.png\" style=\"display:inline;vertical-align:middle;\" /></a></td></tr>\n",
       "<tr><td>38</td><td>ExprRange</td><td>lambda_map:&nbsp;39<br>start_index:&nbsp;40<br>end_index:&nbsp;41<br></td><td><a class=\"ProveItLink\" href=\"../../../../../../core_expr_types/__pv_it/common/95cc4bc4f612e88f5f51ce4796fd60b1d217c7850/expr.ipynb\"><img src=\"../../../../../../core_expr_types/__pv_it/common/95cc4bc4f612e88f5f51ce4796fd60b1d217c7850/expr.png\" style=\"display:inline;vertical-align:middle;\" /></a></td></tr>\n",
       "<tr><td>39</td><td>Lambda</td><td>parameter:&nbsp;45<br>body:&nbsp;42<br></td><td><a class=\"ProveItLink\" href=\"../../../../../../core_expr_types/__pv_it/common/99ea59f1b92e70eddeee736182b1abeb9f49c91b0/expr.ipynb\"><img src=\"../../../../../../core_expr_types/__pv_it/common/99ea59f1b92e70eddeee736182b1abeb9f49c91b0/expr.png\" style=\"display:inline;vertical-align:middle;\" /></a></td></tr>\n",
       "<tr><td>40</td><td>Literal</td><td></td><td><a class=\"ProveItLink\" href=\"../../../../../../numbers/numerals/__pv_it/common/d278e359da0695d9652dd541d45264f93703e2e40/expr.ipynb\"><img src=\"../../../../../../numbers/numerals/__pv_it/common/d278e359da0695d9652dd541d45264f93703e2e40/expr.png\" style=\"display:inline;vertical-align:middle;\" /></a></td></tr>\n",
       "<tr><td>41</td><td>Variable</td><td></td><td><a class=\"ProveItLink\" href=\"../../../../../../__pv_it/common/6165c9bb82ce3c7097cdba4440a1aeeb6eaca8a40/expr.ipynb\"><img src=\"../../../../../../__pv_it/common/6165c9bb82ce3c7097cdba4440a1aeeb6eaca8a40/expr.png\" style=\"display:inline;vertical-align:middle;\" /></a></td></tr>\n",
       "<tr><td>42</td><td>IndexedVar</td><td>variable:&nbsp;43<br>index:&nbsp;45<br></td><td><a class=\"ProveItLink\" href=\"../../../../../../core_expr_types/__pv_it/common/d8d3053e77ba1db68c0cd106952422881db586670/expr.ipynb\"><img src=\"../../../../../../core_expr_types/__pv_it/common/d8d3053e77ba1db68c0cd106952422881db586670/expr.png\" style=\"display:inline;vertical-align:middle;\" /></a></td></tr>\n",
       "<tr><td>43</td><td>Variable</td><td></td><td><a class=\"ProveItLink\" href=\"../../../../../../__pv_it/common/66c90e66682f107a881f2d666959f64e2e72ad750/expr.ipynb\"><img src=\"../../../../../../__pv_it/common/66c90e66682f107a881f2d666959f64e2e72ad750/expr.png\" style=\"display:inline;vertical-align:middle;\" /></a></td></tr>\n",
       "<tr><td>44</td><td>ExprTuple</td><td>45</td><td><a class=\"ProveItLink\" href=\"../../../../../../core_expr_types/__pv_it/common/ecf50ade416ab41c42c9f4e777b4c862cd9469670/expr.ipynb\"><img src=\"../../../../../../core_expr_types/__pv_it/common/ecf50ade416ab41c42c9f4e777b4c862cd9469670/expr.png\" style=\"display:inline;vertical-align:middle;\" /></a></td></tr>\n",
       "<tr><td>45</td><td>Variable</td><td></td><td><a class=\"ProveItLink\" href=\"../../../../../../core_expr_types/__pv_it/common/9e6d9d5d7eeb0342cf5bca68def0eb165a1a9bb10/expr.ipynb\"><img src=\"../../../../../../core_expr_types/__pv_it/common/9e6d9d5d7eeb0342cf5bca68def0eb165a1a9bb10/expr.png\" style=\"display:inline;vertical-align:middle;\" /></a></td></tr>\n",
       "</table>\n"
      ],
      "text/plain": [
       "0. (n -> {forall_{a_{1}, ..a_{_a}.., a_{n}} [forall_{P | forall_{x in {a_{1}, ..a_{_a}.., a_{n}}} P(x)} (P(a_{1}) and ..P(a_{k}).. and P(a_{n}))] if n in Natural.)\n",
       "   core type: ExprTuple\n",
       "   sub-expressions: 1\n",
       "1. n -> {forall_{a_{1}, ..a_{_a}.., a_{n}} [forall_{P | forall_{x in {a_{1}, ..a_{_a}.., a_{n}}} P(x)} (P(a_{1}) and ..P(a_{k}).. and P(a_{n}))] if n in Natural.\n",
       "   core type: Lambda\n",
       "   parameter: 41\n",
       "   body: 2\n",
       "2. {forall_{a_{1}, ..a_{_a}.., a_{n}} [forall_{P | forall_{x in {a_{1}, ..a_{_a}.., a_{n}}} P(x)} (P(a_{1}) and ..P(a_{k}).. and P(a_{n}))] if n in Natural.\n",
       "   core type: Conditional\n",
       "   value: 3\n",
       "   condition: 4\n",
       "3. forall_{a_{1}, ..a_{_a}.., a_{n}} [forall_{P | forall_{x in {a_{1}, ..a_{_a}.., a_{n}}} P(x)} (P(a_{1}) and ..P(a_{k}).. and P(a_{n}))]\n",
       "   core type: Operation\n",
       "   operator: 17\n",
       "   operand: 7\n",
       "4. n in Natural\n",
       "   core type: Operation\n",
       "   operator: 29\n",
       "   operands: 6\n",
       "5. ((a_{1}, ..a_{_a}.., a_{n}) -> [forall_{P | forall_{x in {a_{1}, ..a_{_a}.., a_{n}}} P(x)} (P(a_{1}) and ..P(a_{k}).. and P(a_{n}))])\n",
       "   core type: ExprTuple\n",
       "   sub-expressions: 7\n",
       "6. (n, Natural)\n",
       "   core type: ExprTuple\n",
       "   sub-expressions: 41, 8\n",
       "7. (a_{1}, ..a_{_a}.., a_{n}) -> [forall_{P | forall_{x in {a_{1}, ..a_{_a}.., a_{n}}} P(x)} (P(a_{1}) and ..P(a_{k}).. and P(a_{n}))]\n",
       "   core type: Lambda\n",
       "   parameters: 36\\n   body: 9\n",
       "8. Natural\n",
       "   core type: Literal\n",
       "   sub-expressions: \n",
       "9. forall_{P | forall_{x in {a_{1}, ..a_{_a}.., a_{n}}} P(x)} (P(a_{1}) and ..P(a_{k}).. and P(a_{n}))\n",
       "   core type: Operation\n",
       "   operator: 17\n",
       "   operand: 11\n",
       "10. (P -> {P(a_{1}) and ..P(a_{k}).. and P(a_{n}) if forall_{x in {a_{1}, ..a_{_a}.., a_{n}}} P(x).)\n",
       "    core type: ExprTuple\n",
       "    sub-expressions: 11\n",
       "11. P -> {P(a_{1}) and ..P(a_{k}).. and P(a_{n}) if forall_{x in {a_{1}, ..a_{_a}.., a_{n}}} P(x).\n",
       "    core type: Lambda\n",
       "    parameter: 27\n",
       "    body: 12\n",
       "12. {P(a_{1}) and ..P(a_{k}).. and P(a_{n}) if forall_{x in {a_{1}, ..a_{_a}.., a_{n}}} P(x).\n",
       "    core type: Conditional\n",
       "    value: 13\n",
       "    condition: 14\n",
       "13. P(a_{1}) and ..P(a_{k}).. and P(a_{n})\n",
       "    core type: Operation\n",
       "    operator: 15\n",
       "    operands: 16\n",
       "14. forall_{x in {a_{1}, ..a_{_a}.., a_{n}}} P(x)\n",
       "    core type: Operation\n",
       "    operator: 17\n",
       "    operand: 20\n",
       "15. and\n",
       "    core type: Literal\n",
       "    sub-expressions: \n",
       "16. (P(a_{1}), ..P(a_{k}).., P(a_{n}))\n",
       "    core type: ExprTuple\n",
       "    sub-expressions: 19\n",
       "17. forall\n",
       "    core type: Literal\n",
       "    sub-expressions: \n",
       "18. (x -> {P(x) if x in {a_{1}, ..a_{_a}.., a_{n}}.)\n",
       "    core type: ExprTuple\n",
       "    sub-expressions: 20\n",
       "19. P(a_{1}), ..P(a_{k}).., P(a_{n})\n",
       "    core type: ExprRange\n",
       "    lambda_map: 21\n",
       "    start_index: 40\n",
       "    end_index: 41\n",
       "20. x -> {P(x) if x in {a_{1}, ..a_{_a}.., a_{n}}.\n",
       "    core type: Lambda\n",
       "    parameter: 32\n",
       "    body: 22\n",
       "21. k -> P(a_{k})\n",
       "    core type: Lambda\n",
       "    parameter: 37\n",
       "    body: 23\n",
       "22. {P(x) if x in {a_{1}, ..a_{_a}.., a_{n}}.\n",
       "    core type: Conditional\n",
       "    value: 24\n",
       "    condition: 25\n",
       "23. P(a_{k})\n",
       "    core type: Operation\n",
       "    operator: 27\n",
       "    operand: 31\n",
       "24. P(x)\n",
       "    core type: Operation\n",
       "    operator: 27\n",
       "    operand: 32\n",
       "25. x in {a_{1}, ..a_{_a}.., a_{n}}\n",
       "    core type: Operation\n",
       "    operator: 29\n",
       "    operands: 30\n",
       "26. (a_{k})\n",
       "    core type: ExprTuple\n",
       "    sub-expressions: 31\n",
       "27. P\n",
       "    core type: Variable\n",
       "    sub-expressions: \n",
       "28. (x)\n",
       "    core type: ExprTuple\n",
       "    sub-expressions: 32\n",
       "29. in\n",
       "    core type: Literal\n",
       "    sub-expressions: \n",
       "30. (x, {a_{1}, ..a_{_a}.., a_{n}})\n",
       "    core type: ExprTuple\n",
       "    sub-expressions: 32, 33\n",
       "31. a_{k}\n",
       "    core type: IndexedVar\n",
       "variable: 43\n",
       "index: 37\n",
       "32. x\n",
       "    core type: Variable\n",
       "    sub-expressions: \n",
       "33. {a_{1}, ..a_{_a}.., a_{n}}\n",
       "    core type: Operation\n",
       "    operator: 35\n",
       "    operands: 36\n",
       "34. (k)\n",
       "    core type: ExprTuple\n",
       "    sub-expressions: 37\n",
       "35. Set\n",
       "    core type: Literal\n",
       "    sub-expressions: \n",
       "36. (a_{1}, ..a_{_a}.., a_{n})\n",
       "    core type: ExprTuple\n",
       "    sub-expressions: 38\n",
       "37. k\n",
       "    core type: Variable\n",
       "    sub-expressions: \n",
       "38. a_{1}, ..a_{_a}.., a_{n}\n",
       "    core type: ExprRange\n",
       "    lambda_map: 39\n",
       "    start_index: 40\n",
       "    end_index: 41\n",
       "39. _a -> a_{_a}\n",
       "    core type: Lambda\n",
       "    parameter: 45\n",
       "    body: 42\n",
       "40. 1\n",
       "    core type: Literal\n",
       "    sub-expressions: \n",
       "41. n\n",
       "    core type: Variable\n",
       "    sub-expressions: \n",
       "42. a_{_a}\n",
       "    core type: IndexedVar\n",
       "variable: 43\n",
       "index: 45\n",
       "43. a\n",
       "    core type: Variable\n",
       "    sub-expressions: \n",
       "44. (_a)\n",
       "    core type: ExprTuple\n",
       "    sub-expressions: 45\n",
       "45. _a\n",
       "    core type: Variable\n",
       "    sub-expressions: "
      ]
     },
     "execution_count": 6,
     "metadata": {},
     "output_type": "execute_result"
    }
   ],
   "source": [
    "# display the expression information\n",
    "expr.expr_info()"
   ]
  },
  {
   "cell_type": "code",
   "execution_count": null,
   "metadata": {},
   "outputs": [],
   "source": []
  }
 ],
 "metadata": {
  "kernelspec": {
   "display_name": "Python 3",
   "language": "python",
   "name": "python3"
  }
 },
 "nbformat": 4,
 "nbformat_minor": 0
}