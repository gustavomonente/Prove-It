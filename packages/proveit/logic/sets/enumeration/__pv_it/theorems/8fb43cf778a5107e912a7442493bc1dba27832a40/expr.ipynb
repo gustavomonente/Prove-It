{
 "cells": [
  {
   "cell_type": "markdown",
   "metadata": {},
   "source": [
    "Expression of type <a class=\"ProveItLink\" href=\"../../../../../../../../doc/html/api/proveit.logic.Forall.html\">Forall</a>\n",
    "=======================\n",
    "# from the theory of <a class=\"ProveItLink\" href=\"../../../_theory_nbs_/theory.ipynb\">proveit.logic.sets.enumeration</a>"
   ]
  },
  {
   "cell_type": "code",
   "execution_count": 1,
   "metadata": {},
   "outputs": [],
   "source": [
    "import proveit\n",
    "# Automation is not needed when building an expression:\n",
    "proveit.defaults.automation = False # This will speed things up.\n",
    "proveit.defaults.inline_pngs = False # Makes files smaller.\n",
    "%load_expr # Load the stored expression as 'stored_expr'\n",
    "# import Expression classes needed to build the expression\n",
    "from proveit.core_expr_types import a_1_to_m, b_1_to_n\n",
    "from proveit.logic import Forall, Set, SubsetEq"
   ]
  },
  {
   "cell_type": "code",
   "execution_count": 2,
   "metadata": {},
   "outputs": [
    {
     "data": {
      "text/html": [
       "<strong id=\"expr\">expr:</strong> <a class=\"ProveItLink\" href=\"expr.ipynb\"><img src=\"expr.png\" style=\"display:inline;vertical-align:middle;\" /></a><br>"
      ],
      "text/plain": [
       "expr: forall_{a_{1}, ..a_{_a}.., a_{m}, b_{1}, ..b_{_a}.., b_{n}} ({a_{1}, ..a_{_a}.., a_{m}} subset_eq {a_{1}, ..a_{_a}.., a_{m}, b_{1}, ..b_{_a}.., b_{n}})"
      ]
     },
     "execution_count": 2,
     "metadata": {},
     "output_type": "execute_result"
    }
   ],
   "source": [
    "# build up the expression from sub-expressions\n",
    "expr = Forall([a_1_to_m, b_1_to_n], SubsetEq(Set(a_1_to_m), Set(a_1_to_m, b_1_to_n)))"
   ]
  },
  {
   "cell_type": "code",
   "execution_count": 3,
   "metadata": {},
   "outputs": [
    {
     "name": "stdout",
     "output_type": "stream",
     "text": [
      "Passed sanity check: expr matches stored_expr\n"
     ]
    }
   ],
   "source": [
    "# check that the built expression is the same as the stored expression\n",
    "assert expr == stored_expr\n",
    "assert expr._style_id == stored_expr._style_id\n",
    "print(\"Passed sanity check: expr matches stored_expr\")"
   ]
  },
  {
   "cell_type": "code",
   "execution_count": 4,
   "metadata": {},
   "outputs": [
    {
     "name": "stdout",
     "output_type": "stream",
     "text": [
      "\\forall_{a_{1}, \\ldots, a_{m}, b_{1}, \\ldots, b_{n}}~\\left(\\left\\{a_{1}, \\ldots, a_{m}\\right\\} \\subseteq \\left\\{a_{1}, \\ldots, a_{m}, b_{1}, \\ldots, b_{n}\\right\\}\\right)\n"
     ]
    }
   ],
   "source": [
    "# Show the LaTeX representation of the expression for convenience if you need it.\n",
    "print(expr.latex())"
   ]
  },
  {
   "cell_type": "code",
   "execution_count": 5,
   "metadata": {},
   "outputs": [
    {
     "data": {
      "text/html": [
       "<table>\n",
       "<tr><th>name</th><th>description</th><th>default</th><th>current value</th><th>related methods</th></tr><tr><td>with_wrapping</td><td>If 'True', wrap the Expression after the parameters</td><td>None</td><td>None/False</td><td>('with_wrapping',)</td></tr>\n",
       "<tr><td>wrap_params</td><td>If 'True', wraps every two parameters AND wraps the Expression after the parameters</td><td>None</td><td>None/False</td><td>('with_params',)</td></tr>\n",
       "<tr><td>justification</td><td>justify to the 'left', 'center', or 'right' in the array cells</td><td>center</td><td>center</td><td>('with_justification',)</td></tr>\n",
       "</table>\n"
      ],
      "text/plain": [
       "style name: with_wrapping\n",
       "description: If 'True', wrap the Expression after the parameters\n",
       "default: None\n",
       "current value: None/False\n",
       "related methods: ('with_wrapping',)\n",
       "style name: wrap_params\n",
       "description: If 'True', wraps every two parameters AND wraps the Expression after the parameters\n",
       "default: None\n",
       "current value: None/False\n",
       "related methods: ('with_params',)\n",
       "style name: justification\n",
       "description: justify to the 'left', 'center', or 'right' in the array cells\n",
       "default: center\n",
       "current value: center\n",
       "related methods: ('with_justification',)"
      ]
     },
     "execution_count": 5,
     "metadata": {},
     "output_type": "execute_result"
    }
   ],
   "source": [
    "expr.style_options()"
   ]
  },
  {
   "cell_type": "code",
   "execution_count": 6,
   "metadata": {},
   "outputs": [
    {
     "data": {
      "text/html": [
       "<table><tr><th>&nbsp;</th><th>core type</th><th>sub-expressions</th><th>expression</th></tr>\n",
       "<tr><td>0</td><td>Operation</td><td>operator:&nbsp;1<br>operand:&nbsp;3<br></td><td><a class=\"ProveItLink\" href=\"expr.ipynb\"><img src=\"expr.png\" style=\"display:inline;vertical-align:middle;\" /></a></td></tr>\n",
       "<tr><td>1</td><td>Literal</td><td></td><td><a class=\"ProveItLink\" href=\"../../../../../booleans/quantification/universality/__pv_it/common/684d35ba98fcbf8ca5011f865e530a51e77730630/expr.ipynb\"><img src=\"../../../../../booleans/quantification/universality/__pv_it/common/684d35ba98fcbf8ca5011f865e530a51e77730630/expr.png\" style=\"display:inline;vertical-align:middle;\" /></a></td></tr>\n",
       "<tr><td>2</td><td>ExprTuple</td><td>3</td><td><a class=\"ProveItLink\" href=\"../533dfb448989c42e3a3eacb74e83a406e4b96fad0/expr.ipynb\"><img src=\"../533dfb448989c42e3a3eacb74e83a406e4b96fad0/expr.png\" style=\"display:inline;vertical-align:middle;\" /></a></td></tr>\n",
       "<tr><td>3</td><td>Lambda</td><td>parameters:&nbsp;11<br>body:&nbsp;4<br></td><td><a class=\"ProveItLink\" href=\"../ca22d94dd2717550c01e596055eda479aa90fd9e0/expr.ipynb\"><img src=\"../ca22d94dd2717550c01e596055eda479aa90fd9e0/expr.png\" style=\"display:inline;vertical-align:middle;\" /></a></td></tr>\n",
       "<tr><td>4</td><td>Operation</td><td>operator:&nbsp;5<br>operands:&nbsp;6<br></td><td><a class=\"ProveItLink\" href=\"../71ba00524870818e71f9d715b40f14f3de5fde850/expr.ipynb\"><img src=\"../71ba00524870818e71f9d715b40f14f3de5fde850/expr.png\" style=\"display:inline;vertical-align:middle;\" /></a></td></tr>\n",
       "<tr><td>5</td><td>Literal</td><td></td><td><a class=\"ProveItLink\" href=\"../../../../inclusion/__pv_it/common/cf84c19b596da29088866bd9d56a4b5a100c324f0/expr.ipynb\"><img src=\"../../../../inclusion/__pv_it/common/cf84c19b596da29088866bd9d56a4b5a100c324f0/expr.png\" style=\"display:inline;vertical-align:middle;\" /></a></td></tr>\n",
       "<tr><td>6</td><td>ExprTuple</td><td>7, 8</td><td><a class=\"ProveItLink\" href=\"../3e901da5863876e466164f570a2e8d51863677e60/expr.ipynb\"><img src=\"../3e901da5863876e466164f570a2e8d51863677e60/expr.png\" style=\"display:inline;vertical-align:middle;\" /></a></td></tr>\n",
       "<tr><td>7</td><td>Operation</td><td>operator:&nbsp;10<br>operands:&nbsp;9<br></td><td><a class=\"ProveItLink\" href=\"../de6e306e1d385de803ceadd8d9ac93c94303ccbb0/expr.ipynb\"><img src=\"../de6e306e1d385de803ceadd8d9ac93c94303ccbb0/expr.png\" style=\"display:inline;vertical-align:middle;\" /></a></td></tr>\n",
       "<tr><td>8</td><td>Operation</td><td>operator:&nbsp;10<br>operands:&nbsp;11<br></td><td><a class=\"ProveItLink\" href=\"../0582c08c5abb66c91a307d42d74c6597659d8f530/expr.ipynb\"><img src=\"../0582c08c5abb66c91a307d42d74c6597659d8f530/expr.png\" style=\"display:inline;vertical-align:middle;\" /></a></td></tr>\n",
       "<tr><td>9</td><td>ExprTuple</td><td>12</td><td><a class=\"ProveItLink\" href=\"../f985c77bb4ccdaf05d2534243e77c8a242efd10f0/expr.ipynb\"><img src=\"../f985c77bb4ccdaf05d2534243e77c8a242efd10f0/expr.png\" style=\"display:inline;vertical-align:middle;\" /></a></td></tr>\n",
       "<tr><td>10</td><td>Literal</td><td></td><td><a class=\"ProveItLink\" href=\"../../common/f7caf702081f903a6ea3d95d680568dd78698f5a0/expr.ipynb\"><img src=\"../../common/f7caf702081f903a6ea3d95d680568dd78698f5a0/expr.png\" style=\"display:inline;vertical-align:middle;\" /></a></td></tr>\n",
       "<tr><td>11</td><td>ExprTuple</td><td>12, 13</td><td><a class=\"ProveItLink\" href=\"../9a538b1fa252a47943ed4250b4b1f7732202d0420/expr.ipynb\"><img src=\"../9a538b1fa252a47943ed4250b4b1f7732202d0420/expr.png\" style=\"display:inline;vertical-align:middle;\" /></a></td></tr>\n",
       "<tr><td>12</td><td>ExprRange</td><td>lambda_map:&nbsp;14<br>start_index:&nbsp;17<br>end_index:&nbsp;15<br></td><td><a class=\"ProveItLink\" href=\"../../../../../../core_expr_types/__pv_it/common/6d03a7680b874582b3f3b8ea945d11a3cdc501820/expr.ipynb\"><img src=\"../../../../../../core_expr_types/__pv_it/common/6d03a7680b874582b3f3b8ea945d11a3cdc501820/expr.png\" style=\"display:inline;vertical-align:middle;\" /></a></td></tr>\n",
       "<tr><td>13</td><td>ExprRange</td><td>lambda_map:&nbsp;16<br>start_index:&nbsp;17<br>end_index:&nbsp;18<br></td><td><a class=\"ProveItLink\" href=\"../../../../../../core_expr_types/__pv_it/common/e2ea4ef6203f1a8800d991b8f167e6129d1941c50/expr.ipynb\"><img src=\"../../../../../../core_expr_types/__pv_it/common/e2ea4ef6203f1a8800d991b8f167e6129d1941c50/expr.png\" style=\"display:inline;vertical-align:middle;\" /></a></td></tr>\n",
       "<tr><td>14</td><td>Lambda</td><td>parameter:&nbsp;24<br>body:&nbsp;19<br></td><td><a class=\"ProveItLink\" href=\"../../../../../../core_expr_types/__pv_it/common/99ea59f1b92e70eddeee736182b1abeb9f49c91b0/expr.ipynb\"><img src=\"../../../../../../core_expr_types/__pv_it/common/99ea59f1b92e70eddeee736182b1abeb9f49c91b0/expr.png\" style=\"display:inline;vertical-align:middle;\" /></a></td></tr>\n",
       "<tr><td>15</td><td>Variable</td><td></td><td><a class=\"ProveItLink\" href=\"../../../../../../__pv_it/common/2dc4f15b3407a25e8d70754a86bf74f1871f92650/expr.ipynb\"><img src=\"../../../../../../__pv_it/common/2dc4f15b3407a25e8d70754a86bf74f1871f92650/expr.png\" style=\"display:inline;vertical-align:middle;\" /></a></td></tr>\n",
       "<tr><td>16</td><td>Lambda</td><td>parameter:&nbsp;24<br>body:&nbsp;20<br></td><td><a class=\"ProveItLink\" href=\"../../../../../../core_expr_types/__pv_it/common/ba19487284205e8bd037599d68730451639874da0/expr.ipynb\"><img src=\"../../../../../../core_expr_types/__pv_it/common/ba19487284205e8bd037599d68730451639874da0/expr.png\" style=\"display:inline;vertical-align:middle;\" /></a></td></tr>\n",
       "<tr><td>17</td><td>Literal</td><td></td><td><a class=\"ProveItLink\" href=\"../../../../../../numbers/numerals/__pv_it/common/d278e359da0695d9652dd541d45264f93703e2e40/expr.ipynb\"><img src=\"../../../../../../numbers/numerals/__pv_it/common/d278e359da0695d9652dd541d45264f93703e2e40/expr.png\" style=\"display:inline;vertical-align:middle;\" /></a></td></tr>\n",
       "<tr><td>18</td><td>Variable</td><td></td><td><a class=\"ProveItLink\" href=\"../../../../../../__pv_it/common/6165c9bb82ce3c7097cdba4440a1aeeb6eaca8a40/expr.ipynb\"><img src=\"../../../../../../__pv_it/common/6165c9bb82ce3c7097cdba4440a1aeeb6eaca8a40/expr.png\" style=\"display:inline;vertical-align:middle;\" /></a></td></tr>\n",
       "<tr><td>19</td><td>IndexedVar</td><td>variable:&nbsp;21<br>index:&nbsp;24<br></td><td><a class=\"ProveItLink\" href=\"../../../../../../core_expr_types/__pv_it/common/d8d3053e77ba1db68c0cd106952422881db586670/expr.ipynb\"><img src=\"../../../../../../core_expr_types/__pv_it/common/d8d3053e77ba1db68c0cd106952422881db586670/expr.png\" style=\"display:inline;vertical-align:middle;\" /></a></td></tr>\n",
       "<tr><td>20</td><td>IndexedVar</td><td>variable:&nbsp;22<br>index:&nbsp;24<br></td><td><a class=\"ProveItLink\" href=\"../../../../../../core_expr_types/__pv_it/common/d970eb18e3a42edf466b1db01e5cbdd3ba6971b60/expr.ipynb\"><img src=\"../../../../../../core_expr_types/__pv_it/common/d970eb18e3a42edf466b1db01e5cbdd3ba6971b60/expr.png\" style=\"display:inline;vertical-align:middle;\" /></a></td></tr>\n",
       "<tr><td>21</td><td>Variable</td><td></td><td><a class=\"ProveItLink\" href=\"../../../../../../__pv_it/common/66c90e66682f107a881f2d666959f64e2e72ad750/expr.ipynb\"><img src=\"../../../../../../__pv_it/common/66c90e66682f107a881f2d666959f64e2e72ad750/expr.png\" style=\"display:inline;vertical-align:middle;\" /></a></td></tr>\n",
       "<tr><td>22</td><td>Variable</td><td></td><td><a class=\"ProveItLink\" href=\"../../../../../../__pv_it/common/4a5db8cc5c67969ec864bd3ea598be37cb6f5e550/expr.ipynb\"><img src=\"../../../../../../__pv_it/common/4a5db8cc5c67969ec864bd3ea598be37cb6f5e550/expr.png\" style=\"display:inline;vertical-align:middle;\" /></a></td></tr>\n",
       "<tr><td>23</td><td>ExprTuple</td><td>24</td><td><a class=\"ProveItLink\" href=\"../../../../../../core_expr_types/__pv_it/common/ecf50ade416ab41c42c9f4e777b4c862cd9469670/expr.ipynb\"><img src=\"../../../../../../core_expr_types/__pv_it/common/ecf50ade416ab41c42c9f4e777b4c862cd9469670/expr.png\" style=\"display:inline;vertical-align:middle;\" /></a></td></tr>\n",
       "<tr><td>24</td><td>Variable</td><td></td><td><a class=\"ProveItLink\" href=\"../../../../../../core_expr_types/__pv_it/common/9e6d9d5d7eeb0342cf5bca68def0eb165a1a9bb10/expr.ipynb\"><img src=\"../../../../../../core_expr_types/__pv_it/common/9e6d9d5d7eeb0342cf5bca68def0eb165a1a9bb10/expr.png\" style=\"display:inline;vertical-align:middle;\" /></a></td></tr>\n",
       "</table>\n"
      ],
      "text/plain": [
       "0. forall_{a_{1}, ..a_{_a}.., a_{m}, b_{1}, ..b_{_a}.., b_{n}} ({a_{1}, ..a_{_a}.., a_{m}} subset_eq {a_{1}, ..a_{_a}.., a_{m}, b_{1}, ..b_{_a}.., b_{n}})\n",
       "   core type: Operation\n",
       "   operator: 1\n",
       "   operand: 3\n",
       "1. forall\n",
       "   core type: Literal\n",
       "   sub-expressions: \n",
       "2. ((a_{1}, ..a_{_a}.., a_{m}, b_{1}, ..b_{_a}.., b_{n}) -> ({a_{1}, ..a_{_a}.., a_{m}} subset_eq {a_{1}, ..a_{_a}.., a_{m}, b_{1}, ..b_{_a}.., b_{n}}))\n",
       "   core type: ExprTuple\n",
       "   sub-expressions: 3\n",
       "3. (a_{1}, ..a_{_a}.., a_{m}, b_{1}, ..b_{_a}.., b_{n}) -> ({a_{1}, ..a_{_a}.., a_{m}} subset_eq {a_{1}, ..a_{_a}.., a_{m}, b_{1}, ..b_{_a}.., b_{n}})\n",
       "   core type: Lambda\n",
       "   parameters: 11\\n   body: 4\n",
       "4. {a_{1}, ..a_{_a}.., a_{m}} subset_eq {a_{1}, ..a_{_a}.., a_{m}, b_{1}, ..b_{_a}.., b_{n}}\n",
       "   core type: Operation\n",
       "   operator: 5\n",
       "   operands: 6\n",
       "5. subset_eq\n",
       "   core type: Literal\n",
       "   sub-expressions: \n",
       "6. ({a_{1}, ..a_{_a}.., a_{m}}, {a_{1}, ..a_{_a}.., a_{m}, b_{1}, ..b_{_a}.., b_{n}})\n",
       "   core type: ExprTuple\n",
       "   sub-expressions: 7, 8\n",
       "7. {a_{1}, ..a_{_a}.., a_{m}}\n",
       "   core type: Operation\n",
       "   operator: 10\n",
       "   operands: 9\n",
       "8. {a_{1}, ..a_{_a}.., a_{m}, b_{1}, ..b_{_a}.., b_{n}}\n",
       "   core type: Operation\n",
       "   operator: 10\n",
       "   operands: 11\n",
       "9. (a_{1}, ..a_{_a}.., a_{m})\n",
       "   core type: ExprTuple\n",
       "   sub-expressions: 12\n",
       "10. Set\n",
       "    core type: Literal\n",
       "    sub-expressions: \n",
       "11. (a_{1}, ..a_{_a}.., a_{m}, b_{1}, ..b_{_a}.., b_{n})\n",
       "    core type: ExprTuple\n",
       "    sub-expressions: 12, 13\n",
       "12. a_{1}, ..a_{_a}.., a_{m}\n",
       "    core type: ExprRange\n",
       "    lambda_map: 14\n",
       "    start_index: 17\n",
       "    end_index: 15\n",
       "13. b_{1}, ..b_{_a}.., b_{n}\n",
       "    core type: ExprRange\n",
       "    lambda_map: 16\n",
       "    start_index: 17\n",
       "    end_index: 18\n",
       "14. _a -> a_{_a}\n",
       "    core type: Lambda\n",
       "    parameter: 24\n",
       "    body: 19\n",
       "15. m\n",
       "    core type: Variable\n",
       "    sub-expressions: \n",
       "16. _a -> b_{_a}\n",
       "    core type: Lambda\n",
       "    parameter: 24\n",
       "    body: 20\n",
       "17. 1\n",
       "    core type: Literal\n",
       "    sub-expressions: \n",
       "18. n\n",
       "    core type: Variable\n",
       "    sub-expressions: \n",
       "19. a_{_a}\n",
       "    core type: IndexedVar\n",
       "variable: 21\n",
       "index: 24\n",
       "20. b_{_a}\n",
       "    core type: IndexedVar\n",
       "variable: 22\n",
       "index: 24\n",
       "21. a\n",
       "    core type: Variable\n",
       "    sub-expressions: \n",
       "22. b\n",
       "    core type: Variable\n",
       "    sub-expressions: \n",
       "23. (_a)\n",
       "    core type: ExprTuple\n",
       "    sub-expressions: 24\n",
       "24. _a\n",
       "    core type: Variable\n",
       "    sub-expressions: "
      ]
     },
     "execution_count": 6,
     "metadata": {},
     "output_type": "execute_result"
    }
   ],
   "source": [
    "# display the expression information\n",
    "expr.expr_info()"
   ]
  },
  {
   "cell_type": "code",
   "execution_count": null,
   "metadata": {},
   "outputs": [],
   "source": []
  }
 ],
 "metadata": {
  "kernelspec": {
   "display_name": "Python 3",
   "language": "python",
   "name": "python3"
  }
 },
 "nbformat": 4,
 "nbformat_minor": 0
}