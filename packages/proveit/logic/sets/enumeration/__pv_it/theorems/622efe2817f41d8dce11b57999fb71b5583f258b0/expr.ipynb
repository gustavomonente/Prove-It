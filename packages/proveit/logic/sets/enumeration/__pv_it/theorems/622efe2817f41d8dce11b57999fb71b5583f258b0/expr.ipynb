{
 "cells": [
  {
   "cell_type": "markdown",
   "metadata": {},
   "source": [
    "Expression of type <a class=\"ProveItLink\" href=\"../../../../../../../../doc/html/api/proveit.Lambda.html\">Lambda</a>\n",
    "=======================\n",
    "# from the theory of <a class=\"ProveItLink\" href=\"../../../_theory_nbs_/theory.ipynb\">proveit.logic.sets.enumeration</a>"
   ]
  },
  {
   "cell_type": "code",
   "execution_count": 1,
   "metadata": {},
   "outputs": [],
   "source": [
    "import proveit\n",
    "# Automation is not needed when building an expression:\n",
    "proveit.defaults.automation = False # This will speed things up.\n",
    "proveit.defaults.inline_pngs = False # Makes files smaller.\n",
    "%load_expr # Load the stored expression as 'stored_expr'\n",
    "# import Expression classes needed to build the expression\n",
    "from proveit import Conditional, Lambda, P, Px, n, x\n",
    "from proveit.core_expr_types import Pk_a1_to_an, a_1_to_n\n",
    "from proveit.logic import Forall, InSet, Set\n",
    "from proveit.numbers import Natural"
   ]
  },
  {
   "cell_type": "code",
   "execution_count": 2,
   "metadata": {},
   "outputs": [
    {
     "data": {
      "text/html": [
       "<strong id=\"expr\">expr:</strong> <a class=\"ProveItLink\" href=\"expr.ipynb\"><img src=\"expr.png\" style=\"display:inline;vertical-align:middle;\" /></a><br>"
      ],
      "text/plain": [
       "expr: n -> {forall_{a_{1}, ..a_{_a}.., a_{n}} [forall_{P | P(a_{1}), ..P(a_{k}).., P(a_{n})} [forall_{x in {a_{1}, ..a_{_a}.., a_{n}}} P(x)]] if n in Natural."
      ]
     },
     "execution_count": 2,
     "metadata": {},
     "output_type": "execute_result"
    }
   ],
   "source": [
    "# build up the expression from sub-expressions\n",
    "expr = Lambda(n, Conditional(Forall([a_1_to_n], Forall([P], Forall([x], Px, domains = [Set(a_1_to_n)]), condition = Pk_a1_to_an)), InSet(n, Natural)))"
   ]
  },
  {
   "cell_type": "code",
   "execution_count": 3,
   "metadata": {},
   "outputs": [
    {
     "name": "stdout",
     "output_type": "stream",
     "text": [
      "Passed sanity check: expr matches stored_expr\n"
     ]
    }
   ],
   "source": [
    "# check that the built expression is the same as the stored expression\n",
    "assert expr == stored_expr\n",
    "assert expr._style_id == stored_expr._style_id\n",
    "print(\"Passed sanity check: expr matches stored_expr\")"
   ]
  },
  {
   "cell_type": "code",
   "execution_count": 4,
   "metadata": {},
   "outputs": [
    {
     "name": "stdout",
     "output_type": "stream",
     "text": [
      "n \\mapsto \\left\\{\\forall_{a_{1}, \\ldots, a_{n}}~\\left[\\forall_{P~|~P(a_{1}), \\ldots, P(a_{n})}~\\left[\\forall_{x \\in \\left\\{a_{1}, \\ldots, a_{n}\\right\\}}~P(x)\\right]\\right] \\textrm{ if } n \\in \\mathbb{N}\\right..\n"
     ]
    }
   ],
   "source": [
    "# Show the LaTeX representation of the expression for convenience if you need it.\n",
    "print(expr.latex())"
   ]
  },
  {
   "cell_type": "code",
   "execution_count": 5,
   "metadata": {},
   "outputs": [
    {
     "data": {
      "text/html": [
       "no style options"
      ],
      "text/plain": [
       "no style options"
      ]
     },
     "execution_count": 5,
     "metadata": {},
     "output_type": "execute_result"
    }
   ],
   "source": [
    "expr.style_options()"
   ]
  },
  {
   "cell_type": "code",
   "execution_count": 6,
   "metadata": {},
   "outputs": [
    {
     "data": {
      "text/html": [
       "<table><tr><th>&nbsp;</th><th>core type</th><th>sub-expressions</th><th>expression</th></tr>\n",
       "<tr><td>0</td><td>Lambda</td><td>parameter:&nbsp;40<br>body:&nbsp;1<br></td><td><a class=\"ProveItLink\" href=\"expr.ipynb\"><img src=\"expr.png\" style=\"display:inline;vertical-align:middle;\" /></a></td></tr>\n",
       "<tr><td>1</td><td>Conditional</td><td>value:&nbsp;2<br>condition:&nbsp;3<br></td><td><a class=\"ProveItLink\" href=\"../cb688d02e2a41746cfae2c5de7646ad7490100fd0/expr.ipynb\"><img src=\"../cb688d02e2a41746cfae2c5de7646ad7490100fd0/expr.png\" style=\"display:inline;vertical-align:middle;\" /></a></td></tr>\n",
       "<tr><td>2</td><td>Operation</td><td>operator:&nbsp;14<br>operand:&nbsp;6<br></td><td><a class=\"ProveItLink\" href=\"../f39879b13704c38ffcb22cd2fb5548c3acc57c410/expr.ipynb\"><img src=\"../f39879b13704c38ffcb22cd2fb5548c3acc57c410/expr.png\" style=\"display:inline;vertical-align:middle;\" /></a></td></tr>\n",
       "<tr><td>3</td><td>Operation</td><td>operator:&nbsp;26<br>operands:&nbsp;5<br></td><td><a class=\"ProveItLink\" href=\"../e3c5b209faa86f1e812d35da64c9d9b711de675d0/expr.ipynb\"><img src=\"../e3c5b209faa86f1e812d35da64c9d9b711de675d0/expr.png\" style=\"display:inline;vertical-align:middle;\" /></a></td></tr>\n",
       "<tr><td>4</td><td>ExprTuple</td><td>6</td><td><a class=\"ProveItLink\" href=\"../4a56a40ca8993cfde65864e90287b88fb78582660/expr.ipynb\"><img src=\"../4a56a40ca8993cfde65864e90287b88fb78582660/expr.png\" style=\"display:inline;vertical-align:middle;\" /></a></td></tr>\n",
       "<tr><td>5</td><td>ExprTuple</td><td>40, 7</td><td><a class=\"ProveItLink\" href=\"../248776733c2a8aa9cdfdf4f76f63a3d26b6d139d0/expr.ipynb\"><img src=\"../248776733c2a8aa9cdfdf4f76f63a3d26b6d139d0/expr.png\" style=\"display:inline;vertical-align:middle;\" /></a></td></tr>\n",
       "<tr><td>6</td><td>Lambda</td><td>parameters:&nbsp;34<br>body:&nbsp;8<br></td><td><a class=\"ProveItLink\" href=\"../a301272775414cbbd9410f4b02cf30eecc1b535b0/expr.ipynb\"><img src=\"../a301272775414cbbd9410f4b02cf30eecc1b535b0/expr.png\" style=\"display:inline;vertical-align:middle;\" /></a></td></tr>\n",
       "<tr><td>7</td><td>Literal</td><td></td><td><a class=\"ProveItLink\" href=\"../../../../../../numbers/number_sets/natural_numbers/__pv_it/common/85c8b43c90a7392ebb5459360d343dfa7c7408b50/expr.ipynb\"><img src=\"../../../../../../numbers/number_sets/natural_numbers/__pv_it/common/85c8b43c90a7392ebb5459360d343dfa7c7408b50/expr.png\" style=\"display:inline;vertical-align:middle;\" /></a></td></tr>\n",
       "<tr><td>8</td><td>Operation</td><td>operator:&nbsp;14<br>operand:&nbsp;10<br></td><td><a class=\"ProveItLink\" href=\"../4207973d82b86dabc40d12d979695668167af0ef0/expr.ipynb\"><img src=\"../4207973d82b86dabc40d12d979695668167af0ef0/expr.png\" style=\"display:inline;vertical-align:middle;\" /></a></td></tr>\n",
       "<tr><td>9</td><td>ExprTuple</td><td>10</td><td><a class=\"ProveItLink\" href=\"../14e03dba403fbbcf424c87906466a7b2d740ab4b0/expr.ipynb\"><img src=\"../14e03dba403fbbcf424c87906466a7b2d740ab4b0/expr.png\" style=\"display:inline;vertical-align:middle;\" /></a></td></tr>\n",
       "<tr><td>10</td><td>Lambda</td><td>parameter:&nbsp;28<br>body:&nbsp;11<br></td><td><a class=\"ProveItLink\" href=\"../2d2a61f73553b150dd83519c88a29fef23c54f2c0/expr.ipynb\"><img src=\"../2d2a61f73553b150dd83519c88a29fef23c54f2c0/expr.png\" style=\"display:inline;vertical-align:middle;\" /></a></td></tr>\n",
       "<tr><td>11</td><td>Conditional</td><td>value:&nbsp;12<br>condition:&nbsp;13<br></td><td><a class=\"ProveItLink\" href=\"../0fc16674b1287740ace7117132f6e87c037a1d810/expr.ipynb\"><img src=\"../0fc16674b1287740ace7117132f6e87c037a1d810/expr.png\" style=\"display:inline;vertical-align:middle;\" /></a></td></tr>\n",
       "<tr><td>12</td><td>Operation</td><td>operator:&nbsp;14<br>operand:&nbsp;18<br></td><td><a class=\"ProveItLink\" href=\"../d896578465edc2d1c052e0ac3207b1bcc882e74e0/expr.ipynb\"><img src=\"../d896578465edc2d1c052e0ac3207b1bcc882e74e0/expr.png\" style=\"display:inline;vertical-align:middle;\" /></a></td></tr>\n",
       "<tr><td>13</td><td>Operation</td><td>operator:&nbsp;16<br>operands:&nbsp;17<br></td><td><a class=\"ProveItLink\" href=\"../2a264738d37939674a887865e86f26f0fea6bdbd0/expr.ipynb\"><img src=\"../2a264738d37939674a887865e86f26f0fea6bdbd0/expr.png\" style=\"display:inline;vertical-align:middle;\" /></a></td></tr>\n",
       "<tr><td>14</td><td>Literal</td><td></td><td><a class=\"ProveItLink\" href=\"../../../../../booleans/quantification/universality/__pv_it/common/684d35ba98fcbf8ca5011f865e530a51e77730630/expr.ipynb\"><img src=\"../../../../../booleans/quantification/universality/__pv_it/common/684d35ba98fcbf8ca5011f865e530a51e77730630/expr.png\" style=\"display:inline;vertical-align:middle;\" /></a></td></tr>\n",
       "<tr><td>15</td><td>ExprTuple</td><td>18</td><td><a class=\"ProveItLink\" href=\"../734c92e10fc2cb9ec26df873737bf4a22fbb37dd0/expr.ipynb\"><img src=\"../734c92e10fc2cb9ec26df873737bf4a22fbb37dd0/expr.png\" style=\"display:inline;vertical-align:middle;\" /></a></td></tr>\n",
       "<tr><td>16</td><td>Literal</td><td></td><td><a class=\"ProveItLink\" href=\"../../../../../booleans/conjunction/__pv_it/common/26b94b53e70b1d77b70f0d9d4236347db37731060/expr.ipynb\"><img src=\"../../../../../booleans/conjunction/__pv_it/common/26b94b53e70b1d77b70f0d9d4236347db37731060/expr.png\" style=\"display:inline;vertical-align:middle;\" /></a></td></tr>\n",
       "<tr><td>17</td><td>ExprTuple</td><td>19</td><td><a class=\"ProveItLink\" href=\"../0f5528d5082fbb0eea1b01052b763c2536da91470/expr.ipynb\"><img src=\"../0f5528d5082fbb0eea1b01052b763c2536da91470/expr.png\" style=\"display:inline;vertical-align:middle;\" /></a></td></tr>\n",
       "<tr><td>18</td><td>Lambda</td><td>parameter:&nbsp;30<br>body:&nbsp;20<br></td><td><a class=\"ProveItLink\" href=\"../b6d4b05249711aef76df643f1f0da43c807cbb8e0/expr.ipynb\"><img src=\"../b6d4b05249711aef76df643f1f0da43c807cbb8e0/expr.png\" style=\"display:inline;vertical-align:middle;\" /></a></td></tr>\n",
       "<tr><td>19</td><td>ExprRange</td><td>lambda_map:&nbsp;21<br>start_index:&nbsp;39<br>end_index:&nbsp;40<br></td><td><a class=\"ProveItLink\" href=\"../../../../../../core_expr_types/__pv_it/common/0a90c3c283360e86d2afae0b810fbf2c8b24790f0/expr.ipynb\"><img src=\"../../../../../../core_expr_types/__pv_it/common/0a90c3c283360e86d2afae0b810fbf2c8b24790f0/expr.png\" style=\"display:inline;vertical-align:middle;\" /></a></td></tr>\n",
       "<tr><td>20</td><td>Conditional</td><td>value:&nbsp;22<br>condition:&nbsp;23<br></td><td><a class=\"ProveItLink\" href=\"../93fc82a0824ab12568d015cc02150cf658ed74df0/expr.ipynb\"><img src=\"../93fc82a0824ab12568d015cc02150cf658ed74df0/expr.png\" style=\"display:inline;vertical-align:middle;\" /></a></td></tr>\n",
       "<tr><td>21</td><td>Lambda</td><td>parameter:&nbsp;37<br>body:&nbsp;24<br></td><td><a class=\"ProveItLink\" href=\"../../../../../../core_expr_types/__pv_it/common/717dc3bb8b4e031e9b0501ea5a26ac94d6aa7a900/expr.ipynb\"><img src=\"../../../../../../core_expr_types/__pv_it/common/717dc3bb8b4e031e9b0501ea5a26ac94d6aa7a900/expr.png\" style=\"display:inline;vertical-align:middle;\" /></a></td></tr>\n",
       "<tr><td>22</td><td>Operation</td><td>operator:&nbsp;28<br>operand:&nbsp;30<br></td><td><a class=\"ProveItLink\" href=\"../../../../../../__pv_it/common/ed3ed03681b166b9fbefedb104a4f950026141260/expr.ipynb\"><img src=\"../../../../../../__pv_it/common/ed3ed03681b166b9fbefedb104a4f950026141260/expr.png\" style=\"display:inline;vertical-align:middle;\" /></a></td></tr>\n",
       "<tr><td>23</td><td>Operation</td><td>operator:&nbsp;26<br>operands:&nbsp;27<br></td><td><a class=\"ProveItLink\" href=\"../52b18e5766139585cbd434b541acfa10eecc07bc0/expr.ipynb\"><img src=\"../52b18e5766139585cbd434b541acfa10eecc07bc0/expr.png\" style=\"display:inline;vertical-align:middle;\" /></a></td></tr>\n",
       "<tr><td>24</td><td>Operation</td><td>operator:&nbsp;28<br>operand:&nbsp;32<br></td><td><a class=\"ProveItLink\" href=\"../../../../../../core_expr_types/__pv_it/common/fa1bc44decfa60ecf8b7c0df2733735c808053fe0/expr.ipynb\"><img src=\"../../../../../../core_expr_types/__pv_it/common/fa1bc44decfa60ecf8b7c0df2733735c808053fe0/expr.png\" style=\"display:inline;vertical-align:middle;\" /></a></td></tr>\n",
       "<tr><td>25</td><td>ExprTuple</td><td>30</td><td><a class=\"ProveItLink\" href=\"../../../../../../__pv_it/common/a49c8f25f899a16b1dbcf2257505d5464a9a7bb50/expr.ipynb\"><img src=\"../../../../../../__pv_it/common/a49c8f25f899a16b1dbcf2257505d5464a9a7bb50/expr.png\" style=\"display:inline;vertical-align:middle;\" /></a></td></tr>\n",
       "<tr><td>26</td><td>Literal</td><td></td><td><a class=\"ProveItLink\" href=\"../../../../membership/__pv_it/common/7171deca84f71f47a6ec7696972d1632274a12880/expr.ipynb\"><img src=\"../../../../membership/__pv_it/common/7171deca84f71f47a6ec7696972d1632274a12880/expr.png\" style=\"display:inline;vertical-align:middle;\" /></a></td></tr>\n",
       "<tr><td>27</td><td>ExprTuple</td><td>30, 31</td><td><a class=\"ProveItLink\" href=\"../968a3d7a80ba3871f2d347d8511130a7b102148a0/expr.ipynb\"><img src=\"../968a3d7a80ba3871f2d347d8511130a7b102148a0/expr.png\" style=\"display:inline;vertical-align:middle;\" /></a></td></tr>\n",
       "<tr><td>28</td><td>Variable</td><td></td><td><a class=\"ProveItLink\" href=\"../../../../../../__pv_it/common/d5fc3066299847984076662ce51556220bdb6cfb0/expr.ipynb\"><img src=\"../../../../../../__pv_it/common/d5fc3066299847984076662ce51556220bdb6cfb0/expr.png\" style=\"display:inline;vertical-align:middle;\" /></a></td></tr>\n",
       "<tr><td>29</td><td>ExprTuple</td><td>32</td><td><a class=\"ProveItLink\" href=\"../../../../../../core_expr_types/__pv_it/common/c4b8345e89bf92e3c38f3b438531cf77267c32e60/expr.ipynb\"><img src=\"../../../../../../core_expr_types/__pv_it/common/c4b8345e89bf92e3c38f3b438531cf77267c32e60/expr.png\" style=\"display:inline;vertical-align:middle;\" /></a></td></tr>\n",
       "<tr><td>30</td><td>Variable</td><td></td><td><a class=\"ProveItLink\" href=\"../../../../../../__pv_it/common/a2581dc5df71d9a30bad37de14965fa5fec97a240/expr.ipynb\"><img src=\"../../../../../../__pv_it/common/a2581dc5df71d9a30bad37de14965fa5fec97a240/expr.png\" style=\"display:inline;vertical-align:middle;\" /></a></td></tr>\n",
       "<tr><td>31</td><td>Operation</td><td>operator:&nbsp;33<br>operands:&nbsp;34<br></td><td><a class=\"ProveItLink\" href=\"../87c50483abef44405eac4a700805a1d531107a9b0/expr.ipynb\"><img src=\"../87c50483abef44405eac4a700805a1d531107a9b0/expr.png\" style=\"display:inline;vertical-align:middle;\" /></a></td></tr>\n",
       "<tr><td>32</td><td>IndexedVar</td><td>variable:&nbsp;42<br>index:&nbsp;37<br></td><td><a class=\"ProveItLink\" href=\"../../../../../../core_expr_types/__pv_it/common/910ff783c5bd10af92c87a24c4fec49ec6529c750/expr.ipynb\"><img src=\"../../../../../../core_expr_types/__pv_it/common/910ff783c5bd10af92c87a24c4fec49ec6529c750/expr.png\" style=\"display:inline;vertical-align:middle;\" /></a></td></tr>\n",
       "<tr><td>33</td><td>Literal</td><td></td><td><a class=\"ProveItLink\" href=\"../../common/f7caf702081f903a6ea3d95d680568dd78698f5a0/expr.ipynb\"><img src=\"../../common/f7caf702081f903a6ea3d95d680568dd78698f5a0/expr.png\" style=\"display:inline;vertical-align:middle;\" /></a></td></tr>\n",
       "<tr><td>34</td><td>ExprTuple</td><td>36</td><td><a class=\"ProveItLink\" href=\"../3c2073fded113a048bf7371c726cf466ae4d92300/expr.ipynb\"><img src=\"../3c2073fded113a048bf7371c726cf466ae4d92300/expr.png\" style=\"display:inline;vertical-align:middle;\" /></a></td></tr>\n",
       "<tr><td>35</td><td>ExprTuple</td><td>37</td><td><a class=\"ProveItLink\" href=\"../../../../../../__pv_it/common/797070a9ef2f9957a44157444d93fbe100e2d7430/expr.ipynb\"><img src=\"../../../../../../__pv_it/common/797070a9ef2f9957a44157444d93fbe100e2d7430/expr.png\" style=\"display:inline;vertical-align:middle;\" /></a></td></tr>\n",
       "<tr><td>36</td><td>ExprRange</td><td>lambda_map:&nbsp;38<br>start_index:&nbsp;39<br>end_index:&nbsp;40<br></td><td><a class=\"ProveItLink\" href=\"../../../../../../core_expr_types/__pv_it/common/95cc4bc4f612e88f5f51ce4796fd60b1d217c7850/expr.ipynb\"><img src=\"../../../../../../core_expr_types/__pv_it/common/95cc4bc4f612e88f5f51ce4796fd60b1d217c7850/expr.png\" style=\"display:inline;vertical-align:middle;\" /></a></td></tr>\n",
       "<tr><td>37</td><td>Variable</td><td></td><td><a class=\"ProveItLink\" href=\"../../../../../../__pv_it/common/b9fd37fc619babc74a6203459f110251586df6970/expr.ipynb\"><img src=\"../../../../../../__pv_it/common/b9fd37fc619babc74a6203459f110251586df6970/expr.png\" style=\"display:inline;vertical-align:middle;\" /></a></td></tr>\n",
       "<tr><td>38</td><td>Lambda</td><td>parameter:&nbsp;44<br>body:&nbsp;41<br></td><td><a class=\"ProveItLink\" href=\"../../../../../../core_expr_types/__pv_it/common/99ea59f1b92e70eddeee736182b1abeb9f49c91b0/expr.ipynb\"><img src=\"../../../../../../core_expr_types/__pv_it/common/99ea59f1b92e70eddeee736182b1abeb9f49c91b0/expr.png\" style=\"display:inline;vertical-align:middle;\" /></a></td></tr>\n",
       "<tr><td>39</td><td>Literal</td><td></td><td><a class=\"ProveItLink\" href=\"../../../../../../numbers/numerals/__pv_it/common/d278e359da0695d9652dd541d45264f93703e2e40/expr.ipynb\"><img src=\"../../../../../../numbers/numerals/__pv_it/common/d278e359da0695d9652dd541d45264f93703e2e40/expr.png\" style=\"display:inline;vertical-align:middle;\" /></a></td></tr>\n",
       "<tr><td>40</td><td>Variable</td><td></td><td><a class=\"ProveItLink\" href=\"../../../../../../__pv_it/common/6165c9bb82ce3c7097cdba4440a1aeeb6eaca8a40/expr.ipynb\"><img src=\"../../../../../../__pv_it/common/6165c9bb82ce3c7097cdba4440a1aeeb6eaca8a40/expr.png\" style=\"display:inline;vertical-align:middle;\" /></a></td></tr>\n",
       "<tr><td>41</td><td>IndexedVar</td><td>variable:&nbsp;42<br>index:&nbsp;44<br></td><td><a class=\"ProveItLink\" href=\"../../../../../../core_expr_types/__pv_it/common/d8d3053e77ba1db68c0cd106952422881db586670/expr.ipynb\"><img src=\"../../../../../../core_expr_types/__pv_it/common/d8d3053e77ba1db68c0cd106952422881db586670/expr.png\" style=\"display:inline;vertical-align:middle;\" /></a></td></tr>\n",
       "<tr><td>42</td><td>Variable</td><td></td><td><a class=\"ProveItLink\" href=\"../../../../../../__pv_it/common/66c90e66682f107a881f2d666959f64e2e72ad750/expr.ipynb\"><img src=\"../../../../../../__pv_it/common/66c90e66682f107a881f2d666959f64e2e72ad750/expr.png\" style=\"display:inline;vertical-align:middle;\" /></a></td></tr>\n",
       "<tr><td>43</td><td>ExprTuple</td><td>44</td><td><a class=\"ProveItLink\" href=\"../../../../../../core_expr_types/__pv_it/common/ecf50ade416ab41c42c9f4e777b4c862cd9469670/expr.ipynb\"><img src=\"../../../../../../core_expr_types/__pv_it/common/ecf50ade416ab41c42c9f4e777b4c862cd9469670/expr.png\" style=\"display:inline;vertical-align:middle;\" /></a></td></tr>\n",
       "<tr><td>44</td><td>Variable</td><td></td><td><a class=\"ProveItLink\" href=\"../../../../../../core_expr_types/__pv_it/common/9e6d9d5d7eeb0342cf5bca68def0eb165a1a9bb10/expr.ipynb\"><img src=\"../../../../../../core_expr_types/__pv_it/common/9e6d9d5d7eeb0342cf5bca68def0eb165a1a9bb10/expr.png\" style=\"display:inline;vertical-align:middle;\" /></a></td></tr>\n",
       "</table>\n"
      ],
      "text/plain": [
       "0. n -> {forall_{a_{1}, ..a_{_a}.., a_{n}} [forall_{P | P(a_{1}), ..P(a_{k}).., P(a_{n})} [forall_{x in {a_{1}, ..a_{_a}.., a_{n}}} P(x)]] if n in Natural.\n",
       "   core type: Lambda\n",
       "   parameter: 40\n",
       "   body: 1\n",
       "1. {forall_{a_{1}, ..a_{_a}.., a_{n}} [forall_{P | P(a_{1}), ..P(a_{k}).., P(a_{n})} [forall_{x in {a_{1}, ..a_{_a}.., a_{n}}} P(x)]] if n in Natural.\n",
       "   core type: Conditional\n",
       "   value: 2\n",
       "   condition: 3\n",
       "2. forall_{a_{1}, ..a_{_a}.., a_{n}} [forall_{P | P(a_{1}), ..P(a_{k}).., P(a_{n})} [forall_{x in {a_{1}, ..a_{_a}.., a_{n}}} P(x)]]\n",
       "   core type: Operation\n",
       "   operator: 14\n",
       "   operand: 6\n",
       "3. n in Natural\n",
       "   core type: Operation\n",
       "   operator: 26\n",
       "   operands: 5\n",
       "4. ((a_{1}, ..a_{_a}.., a_{n}) -> [forall_{P | P(a_{1}), ..P(a_{k}).., P(a_{n})} [forall_{x in {a_{1}, ..a_{_a}.., a_{n}}} P(x)]])\n",
       "   core type: ExprTuple\n",
       "   sub-expressions: 6\n",
       "5. (n, Natural)\n",
       "   core type: ExprTuple\n",
       "   sub-expressions: 40, 7\n",
       "6. (a_{1}, ..a_{_a}.., a_{n}) -> [forall_{P | P(a_{1}), ..P(a_{k}).., P(a_{n})} [forall_{x in {a_{1}, ..a_{_a}.., a_{n}}} P(x)]]\n",
       "   core type: Lambda\n",
       "   parameters: 34\\n   body: 8\n",
       "7. Natural\n",
       "   core type: Literal\n",
       "   sub-expressions: \n",
       "8. forall_{P | P(a_{1}), ..P(a_{k}).., P(a_{n})} [forall_{x in {a_{1}, ..a_{_a}.., a_{n}}} P(x)]\n",
       "   core type: Operation\n",
       "   operator: 14\n",
       "   operand: 10\n",
       "9. (P -> {forall_{x in {a_{1}, ..a_{_a}.., a_{n}}} P(x) if P(a_{1}) and ..P(a_{k}).. and P(a_{n}).)\n",
       "   core type: ExprTuple\n",
       "   sub-expressions: 10\n",
       "10. P -> {forall_{x in {a_{1}, ..a_{_a}.., a_{n}}} P(x) if P(a_{1}) and ..P(a_{k}).. and P(a_{n}).\n",
       "    core type: Lambda\n",
       "    parameter: 28\n",
       "    body: 11\n",
       "11. {forall_{x in {a_{1}, ..a_{_a}.., a_{n}}} P(x) if P(a_{1}) and ..P(a_{k}).. and P(a_{n}).\n",
       "    core type: Conditional\n",
       "    value: 12\n",
       "    condition: 13\n",
       "12. forall_{x in {a_{1}, ..a_{_a}.., a_{n}}} P(x)\n",
       "    core type: Operation\n",
       "    operator: 14\n",
       "    operand: 18\n",
       "13. P(a_{1}) and ..P(a_{k}).. and P(a_{n})\n",
       "    core type: Operation\n",
       "    operator: 16\n",
       "    operands: 17\n",
       "14. forall\n",
       "    core type: Literal\n",
       "    sub-expressions: \n",
       "15. (x -> {P(x) if x in {a_{1}, ..a_{_a}.., a_{n}}.)\n",
       "    core type: ExprTuple\n",
       "    sub-expressions: 18\n",
       "16. and\n",
       "    core type: Literal\n",
       "    sub-expressions: \n",
       "17. (P(a_{1}), ..P(a_{k}).., P(a_{n}))\n",
       "    core type: ExprTuple\n",
       "    sub-expressions: 19\n",
       "18. x -> {P(x) if x in {a_{1}, ..a_{_a}.., a_{n}}.\n",
       "    core type: Lambda\n",
       "    parameter: 30\n",
       "    body: 20\n",
       "19. P(a_{1}), ..P(a_{k}).., P(a_{n})\n",
       "    core type: ExprRange\n",
       "    lambda_map: 21\n",
       "    start_index: 39\n",
       "    end_index: 40\n",
       "20. {P(x) if x in {a_{1}, ..a_{_a}.., a_{n}}.\n",
       "    core type: Conditional\n",
       "    value: 22\n",
       "    condition: 23\n",
       "21. k -> P(a_{k})\n",
       "    core type: Lambda\n",
       "    parameter: 37\n",
       "    body: 24\n",
       "22. P(x)\n",
       "    core type: Operation\n",
       "    operator: 28\n",
       "    operand: 30\n",
       "23. x in {a_{1}, ..a_{_a}.., a_{n}}\n",
       "    core type: Operation\n",
       "    operator: 26\n",
       "    operands: 27\n",
       "24. P(a_{k})\n",
       "    core type: Operation\n",
       "    operator: 28\n",
       "    operand: 32\n",
       "25. (x)\n",
       "    core type: ExprTuple\n",
       "    sub-expressions: 30\n",
       "26. in\n",
       "    core type: Literal\n",
       "    sub-expressions: \n",
       "27. (x, {a_{1}, ..a_{_a}.., a_{n}})\n",
       "    core type: ExprTuple\n",
       "    sub-expressions: 30, 31\n",
       "28. P\n",
       "    core type: Variable\n",
       "    sub-expressions: \n",
       "29. (a_{k})\n",
       "    core type: ExprTuple\n",
       "    sub-expressions: 32\n",
       "30. x\n",
       "    core type: Variable\n",
       "    sub-expressions: \n",
       "31. {a_{1}, ..a_{_a}.., a_{n}}\n",
       "    core type: Operation\n",
       "    operator: 33\n",
       "    operands: 34\n",
       "32. a_{k}\n",
       "    core type: IndexedVar\n",
       "variable: 42\n",
       "index: 37\n",
       "33. Set\n",
       "    core type: Literal\n",
       "    sub-expressions: \n",
       "34. (a_{1}, ..a_{_a}.., a_{n})\n",
       "    core type: ExprTuple\n",
       "    sub-expressions: 36\n",
       "35. (k)\n",
       "    core type: ExprTuple\n",
       "    sub-expressions: 37\n",
       "36. a_{1}, ..a_{_a}.., a_{n}\n",
       "    core type: ExprRange\n",
       "    lambda_map: 38\n",
       "    start_index: 39\n",
       "    end_index: 40\n",
       "37. k\n",
       "    core type: Variable\n",
       "    sub-expressions: \n",
       "38. _a -> a_{_a}\n",
       "    core type: Lambda\n",
       "    parameter: 44\n",
       "    body: 41\n",
       "39. 1\n",
       "    core type: Literal\n",
       "    sub-expressions: \n",
       "40. n\n",
       "    core type: Variable\n",
       "    sub-expressions: \n",
       "41. a_{_a}\n",
       "    core type: IndexedVar\n",
       "variable: 42\n",
       "index: 44\n",
       "42. a\n",
       "    core type: Variable\n",
       "    sub-expressions: \n",
       "43. (_a)\n",
       "    core type: ExprTuple\n",
       "    sub-expressions: 44\n",
       "44. _a\n",
       "    core type: Variable\n",
       "    sub-expressions: "
      ]
     },
     "execution_count": 6,
     "metadata": {},
     "output_type": "execute_result"
    }
   ],
   "source": [
    "# display the expression information\n",
    "expr.expr_info()"
   ]
  },
  {
   "cell_type": "code",
   "execution_count": null,
   "metadata": {},
   "outputs": [],
   "source": []
  }
 ],
 "metadata": {
  "kernelspec": {
   "display_name": "Python 3",
   "language": "python",
   "name": "python3"
  }
 },
 "nbformat": 4,
 "nbformat_minor": 0
}