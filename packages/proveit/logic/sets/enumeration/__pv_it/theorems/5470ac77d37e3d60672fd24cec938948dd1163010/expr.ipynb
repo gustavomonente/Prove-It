{
 "cells": [
  {
   "cell_type": "markdown",
   "metadata": {},
   "source": [
    "Expression of type <a class=\"ProveItLink\" href=\"../../../../../../../../doc/html/api/proveit.Lambda.html\">Lambda</a>\n",
    "=======================\n",
    "# from the theory of <a class=\"ProveItLink\" href=\"../../../_theory_nbs_/theory.ipynb\">proveit.logic.sets.enumeration</a>"
   ]
  },
  {
   "cell_type": "code",
   "execution_count": 1,
   "metadata": {},
   "outputs": [],
   "source": [
    "import proveit\n",
    "# Automation is not needed when building an expression:\n",
    "proveit.defaults.automation = False # This will speed things up.\n",
    "proveit.defaults.inline_pngs = False # Makes files smaller.\n",
    "%load_expr # Load the stored expression as 'stored_expr'\n",
    "# import Expression classes needed to build the expression\n",
    "from proveit import Conditional, Lambda, b, m, n\n",
    "from proveit.core_expr_types import a_1_to_m, c_1_to_n\n",
    "from proveit.logic import And, Forall, InSet, NotInSet, ProperSubset, Set\n",
    "from proveit.numbers import Natural"
   ]
  },
  {
   "cell_type": "code",
   "execution_count": 2,
   "metadata": {},
   "outputs": [
    {
     "data": {
      "text/html": [
       "<strong id=\"expr\">expr:</strong> <a class=\"ProveItLink\" href=\"expr.ipynb\"><img src=\"expr.png\" style=\"display:inline;vertical-align:middle;\" /></a><br>"
      ],
      "text/plain": [
       "expr: (m, n) -> {forall_{a_{1}, ..a_{_a}.., a_{m}, b, c_{1}, ..c_{_a}.., c_{n} | b not-in {a_{1}, ..a_{_a}.., a_{m}}} ({a_{1}, ..a_{_a}.., a_{m}} proper_subset {a_{1}, ..a_{_a}.., a_{m}, b, c_{1}, ..c_{_a}.., c_{n}}) if m in Natural ,  n in Natural."
      ]
     },
     "execution_count": 2,
     "metadata": {},
     "output_type": "execute_result"
    }
   ],
   "source": [
    "# build up the expression from sub-expressions\n",
    "sub_expr1 = Set(a_1_to_m)\n",
    "expr = Lambda([m, n], Conditional(Forall([a_1_to_m, b, c_1_to_n], ProperSubset(sub_expr1, Set(a_1_to_m, b, c_1_to_n)), condition = NotInSet(b, sub_expr1)), And(InSet(m, Natural), InSet(n, Natural))))"
   ]
  },
  {
   "cell_type": "code",
   "execution_count": 3,
   "metadata": {},
   "outputs": [
    {
     "name": "stdout",
     "output_type": "stream",
     "text": [
      "Passed sanity check: expr matches stored_expr\n"
     ]
    }
   ],
   "source": [
    "# check that the built expression is the same as the stored expression\n",
    "assert expr == stored_expr\n",
    "assert expr._style_id == stored_expr._style_id\n",
    "print(\"Passed sanity check: expr matches stored_expr\")"
   ]
  },
  {
   "cell_type": "code",
   "execution_count": 4,
   "metadata": {},
   "outputs": [
    {
     "name": "stdout",
     "output_type": "stream",
     "text": [
      "\\left(m, n\\right) \\mapsto \\left\\{\\forall_{a_{1}, \\ldots, a_{m}, b, c_{1}, \\ldots, c_{n}~|~b \\notin \\left\\{a_{1}, \\ldots, a_{m}\\right\\}}~\\left(\\left\\{a_{1}, \\ldots, a_{m}\\right\\} \\subset \\left\\{a_{1}, \\ldots, a_{m}, b, c_{1}, \\ldots, c_{n}\\right\\}\\right) \\textrm{ if } m \\in \\mathbb{N} ,  n \\in \\mathbb{N}\\right..\n"
     ]
    }
   ],
   "source": [
    "# Show the LaTeX representation of the expression for convenience if you need it.\n",
    "print(expr.latex())"
   ]
  },
  {
   "cell_type": "code",
   "execution_count": 5,
   "metadata": {},
   "outputs": [
    {
     "data": {
      "text/html": [
       "no style options"
      ],
      "text/plain": [
       "no style options"
      ]
     },
     "execution_count": 5,
     "metadata": {},
     "output_type": "execute_result"
    }
   ],
   "source": [
    "expr.style_options()"
   ]
  },
  {
   "cell_type": "code",
   "execution_count": 6,
   "metadata": {},
   "outputs": [
    {
     "data": {
      "text/html": [
       "<table><tr><th>&nbsp;</th><th>core type</th><th>sub-expressions</th><th>expression</th></tr>\n",
       "<tr><td>0</td><td>Lambda</td><td>parameters:&nbsp;1<br>body:&nbsp;2<br></td><td><a class=\"ProveItLink\" href=\"expr.ipynb\"><img src=\"expr.png\" style=\"display:inline;vertical-align:middle;\" /></a></td></tr>\n",
       "<tr><td>1</td><td>ExprTuple</td><td>35, 32</td><td><a class=\"ProveItLink\" href=\"../42fe241b1162918a11a68cd18ac6dbf80c2188710/expr.ipynb\"><img src=\"../42fe241b1162918a11a68cd18ac6dbf80c2188710/expr.png\" style=\"display:inline;vertical-align:middle;\" /></a></td></tr>\n",
       "<tr><td>2</td><td>Conditional</td><td>value:&nbsp;3<br>condition:&nbsp;4<br></td><td><a class=\"ProveItLink\" href=\"../e3424c562166703334068aff8eb90826d17226c00/expr.ipynb\"><img src=\"../e3424c562166703334068aff8eb90826d17226c00/expr.png\" style=\"display:inline;vertical-align:middle;\" /></a></td></tr>\n",
       "<tr><td>3</td><td>Operation</td><td>operator:&nbsp;5<br>operand:&nbsp;9<br></td><td><a class=\"ProveItLink\" href=\"../cafc7a87b650410ce7a9a4e40784f250272f7ae90/expr.ipynb\"><img src=\"../cafc7a87b650410ce7a9a4e40784f250272f7ae90/expr.png\" style=\"display:inline;vertical-align:middle;\" /></a></td></tr>\n",
       "<tr><td>4</td><td>Operation</td><td>operator:&nbsp;7<br>operands:&nbsp;8<br></td><td><a class=\"ProveItLink\" href=\"../5e89d2a2cd35db447ca853996b6fe1c4e7ca7b2f0/expr.ipynb\"><img src=\"../5e89d2a2cd35db447ca853996b6fe1c4e7ca7b2f0/expr.png\" style=\"display:inline;vertical-align:middle;\" /></a></td></tr>\n",
       "<tr><td>5</td><td>Literal</td><td></td><td><a class=\"ProveItLink\" href=\"../../../../../booleans/quantification/universality/__pv_it/common/684d35ba98fcbf8ca5011f865e530a51e77730630/expr.ipynb\"><img src=\"../../../../../booleans/quantification/universality/__pv_it/common/684d35ba98fcbf8ca5011f865e530a51e77730630/expr.png\" style=\"display:inline;vertical-align:middle;\" /></a></td></tr>\n",
       "<tr><td>6</td><td>ExprTuple</td><td>9</td><td><a class=\"ProveItLink\" href=\"../69fa567bcfd494b8b4602f23fb811a9dfa4249280/expr.ipynb\"><img src=\"../69fa567bcfd494b8b4602f23fb811a9dfa4249280/expr.png\" style=\"display:inline;vertical-align:middle;\" /></a></td></tr>\n",
       "<tr><td>7</td><td>Literal</td><td></td><td><a class=\"ProveItLink\" href=\"../../../../../booleans/conjunction/__pv_it/common/26b94b53e70b1d77b70f0d9d4236347db37731060/expr.ipynb\"><img src=\"../../../../../booleans/conjunction/__pv_it/common/26b94b53e70b1d77b70f0d9d4236347db37731060/expr.png\" style=\"display:inline;vertical-align:middle;\" /></a></td></tr>\n",
       "<tr><td>8</td><td>ExprTuple</td><td>10, 11</td><td><a class=\"ProveItLink\" href=\"../ae82fc10b58fdae7e5ab20abece426c1e60558ad0/expr.ipynb\"><img src=\"../ae82fc10b58fdae7e5ab20abece426c1e60558ad0/expr.png\" style=\"display:inline;vertical-align:middle;\" /></a></td></tr>\n",
       "<tr><td>9</td><td>Lambda</td><td>parameters:&nbsp;25<br>body:&nbsp;12<br></td><td><a class=\"ProveItLink\" href=\"../eaa1394a5d6a7357cf94340770b03bb348552dee0/expr.ipynb\"><img src=\"../eaa1394a5d6a7357cf94340770b03bb348552dee0/expr.png\" style=\"display:inline;vertical-align:middle;\" /></a></td></tr>\n",
       "<tr><td>10</td><td>Operation</td><td>operator:&nbsp;14<br>operands:&nbsp;13<br></td><td><a class=\"ProveItLink\" href=\"../3287be28b2126783aeddb65edbf04637df184bd00/expr.ipynb\"><img src=\"../3287be28b2126783aeddb65edbf04637df184bd00/expr.png\" style=\"display:inline;vertical-align:middle;\" /></a></td></tr>\n",
       "<tr><td>11</td><td>Operation</td><td>operator:&nbsp;14<br>operands:&nbsp;15<br></td><td><a class=\"ProveItLink\" href=\"../e3c5b209faa86f1e812d35da64c9d9b711de675d0/expr.ipynb\"><img src=\"../e3c5b209faa86f1e812d35da64c9d9b711de675d0/expr.png\" style=\"display:inline;vertical-align:middle;\" /></a></td></tr>\n",
       "<tr><td>12</td><td>Conditional</td><td>value:&nbsp;16<br>condition:&nbsp;17<br></td><td><a class=\"ProveItLink\" href=\"../bca16435b6995a53b890988a950a567c74cea33b0/expr.ipynb\"><img src=\"../bca16435b6995a53b890988a950a567c74cea33b0/expr.png\" style=\"display:inline;vertical-align:middle;\" /></a></td></tr>\n",
       "<tr><td>13</td><td>ExprTuple</td><td>35, 18</td><td><a class=\"ProveItLink\" href=\"../04159094d330187d96682e7798bfbb21b0aae5810/expr.ipynb\"><img src=\"../04159094d330187d96682e7798bfbb21b0aae5810/expr.png\" style=\"display:inline;vertical-align:middle;\" /></a></td></tr>\n",
       "<tr><td>14</td><td>Literal</td><td></td><td><a class=\"ProveItLink\" href=\"../../../../membership/__pv_it/common/7171deca84f71f47a6ec7696972d1632274a12880/expr.ipynb\"><img src=\"../../../../membership/__pv_it/common/7171deca84f71f47a6ec7696972d1632274a12880/expr.png\" style=\"display:inline;vertical-align:middle;\" /></a></td></tr>\n",
       "<tr><td>15</td><td>ExprTuple</td><td>32, 18</td><td><a class=\"ProveItLink\" href=\"../248776733c2a8aa9cdfdf4f76f63a3d26b6d139d0/expr.ipynb\"><img src=\"../248776733c2a8aa9cdfdf4f76f63a3d26b6d139d0/expr.png\" style=\"display:inline;vertical-align:middle;\" /></a></td></tr>\n",
       "<tr><td>16</td><td>Operation</td><td>operator:&nbsp;19<br>operands:&nbsp;20<br></td><td><a class=\"ProveItLink\" href=\"../21e38246bf4057ea06efa286147ee8885156422c0/expr.ipynb\"><img src=\"../21e38246bf4057ea06efa286147ee8885156422c0/expr.png\" style=\"display:inline;vertical-align:middle;\" /></a></td></tr>\n",
       "<tr><td>17</td><td>Operation</td><td>operator:&nbsp;21<br>operands:&nbsp;22<br></td><td><a class=\"ProveItLink\" href=\"../85d5587aa2179dd8b8f11a66634ec09a62fd1bdd0/expr.ipynb\"><img src=\"../85d5587aa2179dd8b8f11a66634ec09a62fd1bdd0/expr.png\" style=\"display:inline;vertical-align:middle;\" /></a></td></tr>\n",
       "<tr><td>18</td><td>Literal</td><td></td><td><a class=\"ProveItLink\" href=\"../../../../../../numbers/number_sets/natural_numbers/__pv_it/common/85c8b43c90a7392ebb5459360d343dfa7c7408b50/expr.ipynb\"><img src=\"../../../../../../numbers/number_sets/natural_numbers/__pv_it/common/85c8b43c90a7392ebb5459360d343dfa7c7408b50/expr.png\" style=\"display:inline;vertical-align:middle;\" /></a></td></tr>\n",
       "<tr><td>19</td><td>Literal</td><td></td><td><a class=\"ProveItLink\" href=\"../../../../inclusion/__pv_it/common/a95b79d1ef3d0ffc0cd789a243beb3683e286e620/expr.ipynb\"><img src=\"../../../../inclusion/__pv_it/common/a95b79d1ef3d0ffc0cd789a243beb3683e286e620/expr.png\" style=\"display:inline;vertical-align:middle;\" /></a></td></tr>\n",
       "<tr><td>20</td><td>ExprTuple</td><td>24, 23</td><td><a class=\"ProveItLink\" href=\"../6b34fba46934b47a1fbeba173b7358adfd3ede4a0/expr.ipynb\"><img src=\"../6b34fba46934b47a1fbeba173b7358adfd3ede4a0/expr.png\" style=\"display:inline;vertical-align:middle;\" /></a></td></tr>\n",
       "<tr><td>21</td><td>Literal</td><td></td><td><a class=\"ProveItLink\" href=\"../../../../membership/__pv_it/common/964bda7e6e4c28273edd6b3f4b5665863f3e6fc50/expr.ipynb\"><img src=\"../../../../membership/__pv_it/common/964bda7e6e4c28273edd6b3f4b5665863f3e6fc50/expr.png\" style=\"display:inline;vertical-align:middle;\" /></a></td></tr>\n",
       "<tr><td>22</td><td>ExprTuple</td><td>28, 24</td><td><a class=\"ProveItLink\" href=\"../eea4f901ddf5c80f184091ceb5d7b768f70a92290/expr.ipynb\"><img src=\"../eea4f901ddf5c80f184091ceb5d7b768f70a92290/expr.png\" style=\"display:inline;vertical-align:middle;\" /></a></td></tr>\n",
       "<tr><td>23</td><td>Operation</td><td>operator:&nbsp;26<br>operands:&nbsp;25<br></td><td><a class=\"ProveItLink\" href=\"../527926a0ef1f99b251884c0645575116a8f4a8590/expr.ipynb\"><img src=\"../527926a0ef1f99b251884c0645575116a8f4a8590/expr.png\" style=\"display:inline;vertical-align:middle;\" /></a></td></tr>\n",
       "<tr><td>24</td><td>Operation</td><td>operator:&nbsp;26<br>operands:&nbsp;27<br></td><td><a class=\"ProveItLink\" href=\"../de6e306e1d385de803ceadd8d9ac93c94303ccbb0/expr.ipynb\"><img src=\"../de6e306e1d385de803ceadd8d9ac93c94303ccbb0/expr.png\" style=\"display:inline;vertical-align:middle;\" /></a></td></tr>\n",
       "<tr><td>25</td><td>ExprTuple</td><td>30, 28, 29</td><td><a class=\"ProveItLink\" href=\"../11a1d03da0b3f5909673a3809069233d420c07a30/expr.ipynb\"><img src=\"../11a1d03da0b3f5909673a3809069233d420c07a30/expr.png\" style=\"display:inline;vertical-align:middle;\" /></a></td></tr>\n",
       "<tr><td>26</td><td>Literal</td><td></td><td><a class=\"ProveItLink\" href=\"../../common/f7caf702081f903a6ea3d95d680568dd78698f5a0/expr.ipynb\"><img src=\"../../common/f7caf702081f903a6ea3d95d680568dd78698f5a0/expr.png\" style=\"display:inline;vertical-align:middle;\" /></a></td></tr>\n",
       "<tr><td>27</td><td>ExprTuple</td><td>30</td><td><a class=\"ProveItLink\" href=\"../f985c77bb4ccdaf05d2534243e77c8a242efd10f0/expr.ipynb\"><img src=\"../f985c77bb4ccdaf05d2534243e77c8a242efd10f0/expr.png\" style=\"display:inline;vertical-align:middle;\" /></a></td></tr>\n",
       "<tr><td>28</td><td>Variable</td><td></td><td><a class=\"ProveItLink\" href=\"../../../../../../__pv_it/common/4a5db8cc5c67969ec864bd3ea598be37cb6f5e550/expr.ipynb\"><img src=\"../../../../../../__pv_it/common/4a5db8cc5c67969ec864bd3ea598be37cb6f5e550/expr.png\" style=\"display:inline;vertical-align:middle;\" /></a></td></tr>\n",
       "<tr><td>29</td><td>ExprRange</td><td>lambda_map:&nbsp;31<br>start_index:&nbsp;34<br>end_index:&nbsp;32<br></td><td><a class=\"ProveItLink\" href=\"../../../../../../core_expr_types/__pv_it/common/c25829cf90180d2c762a17e2c5a50bd70d0d94b50/expr.ipynb\"><img src=\"../../../../../../core_expr_types/__pv_it/common/c25829cf90180d2c762a17e2c5a50bd70d0d94b50/expr.png\" style=\"display:inline;vertical-align:middle;\" /></a></td></tr>\n",
       "<tr><td>30</td><td>ExprRange</td><td>lambda_map:&nbsp;33<br>start_index:&nbsp;34<br>end_index:&nbsp;35<br></td><td><a class=\"ProveItLink\" href=\"../../../../../../core_expr_types/__pv_it/common/6d03a7680b874582b3f3b8ea945d11a3cdc501820/expr.ipynb\"><img src=\"../../../../../../core_expr_types/__pv_it/common/6d03a7680b874582b3f3b8ea945d11a3cdc501820/expr.png\" style=\"display:inline;vertical-align:middle;\" /></a></td></tr>\n",
       "<tr><td>31</td><td>Lambda</td><td>parameter:&nbsp;41<br>body:&nbsp;36<br></td><td><a class=\"ProveItLink\" href=\"../../../../../../core_expr_types/__pv_it/common/a194210cc943a5475599de362bce34740df0415a0/expr.ipynb\"><img src=\"../../../../../../core_expr_types/__pv_it/common/a194210cc943a5475599de362bce34740df0415a0/expr.png\" style=\"display:inline;vertical-align:middle;\" /></a></td></tr>\n",
       "<tr><td>32</td><td>Variable</td><td></td><td><a class=\"ProveItLink\" href=\"../../../../../../__pv_it/common/6165c9bb82ce3c7097cdba4440a1aeeb6eaca8a40/expr.ipynb\"><img src=\"../../../../../../__pv_it/common/6165c9bb82ce3c7097cdba4440a1aeeb6eaca8a40/expr.png\" style=\"display:inline;vertical-align:middle;\" /></a></td></tr>\n",
       "<tr><td>33</td><td>Lambda</td><td>parameter:&nbsp;41<br>body:&nbsp;37<br></td><td><a class=\"ProveItLink\" href=\"../../../../../../core_expr_types/__pv_it/common/99ea59f1b92e70eddeee736182b1abeb9f49c91b0/expr.ipynb\"><img src=\"../../../../../../core_expr_types/__pv_it/common/99ea59f1b92e70eddeee736182b1abeb9f49c91b0/expr.png\" style=\"display:inline;vertical-align:middle;\" /></a></td></tr>\n",
       "<tr><td>34</td><td>Literal</td><td></td><td><a class=\"ProveItLink\" href=\"../../../../../../numbers/numerals/__pv_it/common/d278e359da0695d9652dd541d45264f93703e2e40/expr.ipynb\"><img src=\"../../../../../../numbers/numerals/__pv_it/common/d278e359da0695d9652dd541d45264f93703e2e40/expr.png\" style=\"display:inline;vertical-align:middle;\" /></a></td></tr>\n",
       "<tr><td>35</td><td>Variable</td><td></td><td><a class=\"ProveItLink\" href=\"../../../../../../__pv_it/common/2dc4f15b3407a25e8d70754a86bf74f1871f92650/expr.ipynb\"><img src=\"../../../../../../__pv_it/common/2dc4f15b3407a25e8d70754a86bf74f1871f92650/expr.png\" style=\"display:inline;vertical-align:middle;\" /></a></td></tr>\n",
       "<tr><td>36</td><td>IndexedVar</td><td>variable:&nbsp;38<br>index:&nbsp;41<br></td><td><a class=\"ProveItLink\" href=\"../../../../../../core_expr_types/__pv_it/common/9bc0e9f465041db0a300264677d344fd5e47b7ea0/expr.ipynb\"><img src=\"../../../../../../core_expr_types/__pv_it/common/9bc0e9f465041db0a300264677d344fd5e47b7ea0/expr.png\" style=\"display:inline;vertical-align:middle;\" /></a></td></tr>\n",
       "<tr><td>37</td><td>IndexedVar</td><td>variable:&nbsp;39<br>index:&nbsp;41<br></td><td><a class=\"ProveItLink\" href=\"../../../../../../core_expr_types/__pv_it/common/d8d3053e77ba1db68c0cd106952422881db586670/expr.ipynb\"><img src=\"../../../../../../core_expr_types/__pv_it/common/d8d3053e77ba1db68c0cd106952422881db586670/expr.png\" style=\"display:inline;vertical-align:middle;\" /></a></td></tr>\n",
       "<tr><td>38</td><td>Variable</td><td></td><td><a class=\"ProveItLink\" href=\"../../../../../../__pv_it/common/9a9d28748f90dec84e90f2ace4610208194e524e0/expr.ipynb\"><img src=\"../../../../../../__pv_it/common/9a9d28748f90dec84e90f2ace4610208194e524e0/expr.png\" style=\"display:inline;vertical-align:middle;\" /></a></td></tr>\n",
       "<tr><td>39</td><td>Variable</td><td></td><td><a class=\"ProveItLink\" href=\"../../../../../../__pv_it/common/66c90e66682f107a881f2d666959f64e2e72ad750/expr.ipynb\"><img src=\"../../../../../../__pv_it/common/66c90e66682f107a881f2d666959f64e2e72ad750/expr.png\" style=\"display:inline;vertical-align:middle;\" /></a></td></tr>\n",
       "<tr><td>40</td><td>ExprTuple</td><td>41</td><td><a class=\"ProveItLink\" href=\"../../../../../../core_expr_types/__pv_it/common/ecf50ade416ab41c42c9f4e777b4c862cd9469670/expr.ipynb\"><img src=\"../../../../../../core_expr_types/__pv_it/common/ecf50ade416ab41c42c9f4e777b4c862cd9469670/expr.png\" style=\"display:inline;vertical-align:middle;\" /></a></td></tr>\n",
       "<tr><td>41</td><td>Variable</td><td></td><td><a class=\"ProveItLink\" href=\"../../../../../../core_expr_types/__pv_it/common/9e6d9d5d7eeb0342cf5bca68def0eb165a1a9bb10/expr.ipynb\"><img src=\"../../../../../../core_expr_types/__pv_it/common/9e6d9d5d7eeb0342cf5bca68def0eb165a1a9bb10/expr.png\" style=\"display:inline;vertical-align:middle;\" /></a></td></tr>\n",
       "</table>\n"
      ],
      "text/plain": [
       "0. (m, n) -> {forall_{a_{1}, ..a_{_a}.., a_{m}, b, c_{1}, ..c_{_a}.., c_{n} | b not-in {a_{1}, ..a_{_a}.., a_{m}}} ({a_{1}, ..a_{_a}.., a_{m}} proper_subset {a_{1}, ..a_{_a}.., a_{m}, b, c_{1}, ..c_{_a}.., c_{n}}) if m in Natural ,  n in Natural.\n",
       "   core type: Lambda\n",
       "   parameters: 1\\n   body: 2\n",
       "1. (m, n)\n",
       "   core type: ExprTuple\n",
       "   sub-expressions: 35, 32\n",
       "2. {forall_{a_{1}, ..a_{_a}.., a_{m}, b, c_{1}, ..c_{_a}.., c_{n} | b not-in {a_{1}, ..a_{_a}.., a_{m}}} ({a_{1}, ..a_{_a}.., a_{m}} proper_subset {a_{1}, ..a_{_a}.., a_{m}, b, c_{1}, ..c_{_a}.., c_{n}}) if m in Natural ,  n in Natural.\n",
       "   core type: Conditional\n",
       "   value: 3\n",
       "   condition: 4\n",
       "3. forall_{a_{1}, ..a_{_a}.., a_{m}, b, c_{1}, ..c_{_a}.., c_{n} | b not-in {a_{1}, ..a_{_a}.., a_{m}}} ({a_{1}, ..a_{_a}.., a_{m}} proper_subset {a_{1}, ..a_{_a}.., a_{m}, b, c_{1}, ..c_{_a}.., c_{n}})\n",
       "   core type: Operation\n",
       "   operator: 5\n",
       "   operand: 9\n",
       "4. (m in Natural) and (n in Natural)\n",
       "   core type: Operation\n",
       "   operator: 7\n",
       "   operands: 8\n",
       "5. forall\n",
       "   core type: Literal\n",
       "   sub-expressions: \n",
       "6. ((a_{1}, ..a_{_a}.., a_{m}, b, c_{1}, ..c_{_a}.., c_{n}) -> {{a_{1}, ..a_{_a}.., a_{m}} proper_subset {a_{1}, ..a_{_a}.., a_{m}, b, c_{1}, ..c_{_a}.., c_{n}} if b not-in {a_{1}, ..a_{_a}.., a_{m}}.)\n",
       "   core type: ExprTuple\n",
       "   sub-expressions: 9\n",
       "7. and\n",
       "   core type: Literal\n",
       "   sub-expressions: \n",
       "8. (m in Natural, n in Natural)\n",
       "   core type: ExprTuple\n",
       "   sub-expressions: 10, 11\n",
       "9. (a_{1}, ..a_{_a}.., a_{m}, b, c_{1}, ..c_{_a}.., c_{n}) -> {{a_{1}, ..a_{_a}.., a_{m}} proper_subset {a_{1}, ..a_{_a}.., a_{m}, b, c_{1}, ..c_{_a}.., c_{n}} if b not-in {a_{1}, ..a_{_a}.., a_{m}}.\n",
       "   core type: Lambda\n",
       "   parameters: 25\\n   body: 12\n",
       "10. m in Natural\n",
       "    core type: Operation\n",
       "    operator: 14\n",
       "    operands: 13\n",
       "11. n in Natural\n",
       "    core type: Operation\n",
       "    operator: 14\n",
       "    operands: 15\n",
       "12. {{a_{1}, ..a_{_a}.., a_{m}} proper_subset {a_{1}, ..a_{_a}.., a_{m}, b, c_{1}, ..c_{_a}.., c_{n}} if b not-in {a_{1}, ..a_{_a}.., a_{m}}.\n",
       "    core type: Conditional\n",
       "    value: 16\n",
       "    condition: 17\n",
       "13. (m, Natural)\n",
       "    core type: ExprTuple\n",
       "    sub-expressions: 35, 18\n",
       "14. in\n",
       "    core type: Literal\n",
       "    sub-expressions: \n",
       "15. (n, Natural)\n",
       "    core type: ExprTuple\n",
       "    sub-expressions: 32, 18\n",
       "16. {a_{1}, ..a_{_a}.., a_{m}} proper_subset {a_{1}, ..a_{_a}.., a_{m}, b, c_{1}, ..c_{_a}.., c_{n}}\n",
       "    core type: Operation\n",
       "    operator: 19\n",
       "    operands: 20\n",
       "17. b not-in {a_{1}, ..a_{_a}.., a_{m}}\n",
       "    core type: Operation\n",
       "    operator: 21\n",
       "    operands: 22\n",
       "18. Natural\n",
       "    core type: Literal\n",
       "    sub-expressions: \n",
       "19. proper_subset\n",
       "    core type: Literal\n",
       "    sub-expressions: \n",
       "20. ({a_{1}, ..a_{_a}.., a_{m}}, {a_{1}, ..a_{_a}.., a_{m}, b, c_{1}, ..c_{_a}.., c_{n}})\n",
       "    core type: ExprTuple\n",
       "    sub-expressions: 24, 23\n",
       "21. not-in\n",
       "    core type: Literal\n",
       "    sub-expressions: \n",
       "22. (b, {a_{1}, ..a_{_a}.., a_{m}})\n",
       "    core type: ExprTuple\n",
       "    sub-expressions: 28, 24\n",
       "23. {a_{1}, ..a_{_a}.., a_{m}, b, c_{1}, ..c_{_a}.., c_{n}}\n",
       "    core type: Operation\n",
       "    operator: 26\n",
       "    operands: 25\n",
       "24. {a_{1}, ..a_{_a}.., a_{m}}\n",
       "    core type: Operation\n",
       "    operator: 26\n",
       "    operands: 27\n",
       "25. (a_{1}, ..a_{_a}.., a_{m}, b, c_{1}, ..c_{_a}.., c_{n})\n",
       "    core type: ExprTuple\n",
       "    sub-expressions: 30, 28, 29\n",
       "26. Set\n",
       "    core type: Literal\n",
       "    sub-expressions: \n",
       "27. (a_{1}, ..a_{_a}.., a_{m})\n",
       "    core type: ExprTuple\n",
       "    sub-expressions: 30\n",
       "28. b\n",
       "    core type: Variable\n",
       "    sub-expressions: \n",
       "29. c_{1}, ..c_{_a}.., c_{n}\n",
       "    core type: ExprRange\n",
       "    lambda_map: 31\n",
       "    start_index: 34\n",
       "    end_index: 32\n",
       "30. a_{1}, ..a_{_a}.., a_{m}\n",
       "    core type: ExprRange\n",
       "    lambda_map: 33\n",
       "    start_index: 34\n",
       "    end_index: 35\n",
       "31. _a -> c_{_a}\n",
       "    core type: Lambda\n",
       "    parameter: 41\n",
       "    body: 36\n",
       "32. n\n",
       "    core type: Variable\n",
       "    sub-expressions: \n",
       "33. _a -> a_{_a}\n",
       "    core type: Lambda\n",
       "    parameter: 41\n",
       "    body: 37\n",
       "34. 1\n",
       "    core type: Literal\n",
       "    sub-expressions: \n",
       "35. m\n",
       "    core type: Variable\n",
       "    sub-expressions: \n",
       "36. c_{_a}\n",
       "    core type: IndexedVar\n",
       "variable: 38\n",
       "index: 41\n",
       "37. a_{_a}\n",
       "    core type: IndexedVar\n",
       "variable: 39\n",
       "index: 41\n",
       "38. c\n",
       "    core type: Variable\n",
       "    sub-expressions: \n",
       "39. a\n",
       "    core type: Variable\n",
       "    sub-expressions: \n",
       "40. (_a)\n",
       "    core type: ExprTuple\n",
       "    sub-expressions: 41\n",
       "41. _a\n",
       "    core type: Variable\n",
       "    sub-expressions: "
      ]
     },
     "execution_count": 6,
     "metadata": {},
     "output_type": "execute_result"
    }
   ],
   "source": [
    "# display the expression information\n",
    "expr.expr_info()"
   ]
  },
  {
   "cell_type": "code",
   "execution_count": null,
   "metadata": {},
   "outputs": [],
   "source": []
  }
 ],
 "metadata": {
  "kernelspec": {
   "display_name": "Python 3",
   "language": "python",
   "name": "python3"
  }
 },
 "nbformat": 4,
 "nbformat_minor": 0
}