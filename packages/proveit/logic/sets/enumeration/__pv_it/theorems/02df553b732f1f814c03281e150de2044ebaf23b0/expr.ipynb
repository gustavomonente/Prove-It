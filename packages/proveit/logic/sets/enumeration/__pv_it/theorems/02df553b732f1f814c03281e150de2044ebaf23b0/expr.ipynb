{
 "cells": [
  {
   "cell_type": "markdown",
   "metadata": {},
   "source": [
    "Expression of type <a class=\"ProveItLink\" href=\"../../../../../../../../doc/html/api/proveit.ExprTuple.html\">ExprTuple</a>\n",
    "=======================\n",
    "# from the theory of <a class=\"ProveItLink\" href=\"../../../_theory_nbs_/theory.ipynb\">proveit.logic.sets.enumeration</a>"
   ]
  },
  {
   "cell_type": "code",
   "execution_count": 1,
   "metadata": {},
   "outputs": [],
   "source": [
    "import proveit\n",
    "# Automation is not needed when building an expression:\n",
    "proveit.defaults.automation = False # This will speed things up.\n",
    "proveit.defaults.inline_pngs = False # Makes files smaller.\n",
    "%load_expr # Load the stored expression as 'stored_expr'\n",
    "# import Expression classes needed to build the expression\n",
    "from proveit import Conditional, ExprTuple, Lambda, c, i, j, k\n",
    "from proveit.core_expr_types import a_1_to_i, b_1_to_j, d_1_to_k\n",
    "from proveit.logic import And, Equals, Forall, InSet, Set\n",
    "from proveit.numbers import Natural"
   ]
  },
  {
   "cell_type": "code",
   "execution_count": 2,
   "metadata": {},
   "outputs": [
    {
     "data": {
      "text/html": [
       "<strong id=\"expr\">expr:</strong> <a class=\"ProveItLink\" href=\"expr.ipynb\"><img src=\"expr.png\" style=\"display:inline;vertical-align:middle;\" /></a><br>"
      ],
      "text/plain": [
       "expr: ((i, j, k) -> {forall_{a_{1}, ..a_{_a}.., a_{i}, b_{1}, ..b_{_a}.., b_{j}, c, d_{1}, ..d_{_a}.., d_{k}} ({a_{1}, ..a_{_a}.., a_{i}, b_{1}, ..b_{_a}.., b_{j}, c, d_{1}, ..d_{_a}.., d_{k}} = {a_{1}, ..a_{_a}.., a_{i}, c, b_{1}, ..b_{_a}.., b_{j}, d_{1}, ..d_{_a}.., d_{k}}) if i in Natural ,  j in Natural ,  k in Natural.)"
      ]
     },
     "execution_count": 2,
     "metadata": {},
     "output_type": "execute_result"
    }
   ],
   "source": [
    "# build up the expression from sub-expressions\n",
    "expr = ExprTuple(Lambda([i, j, k], Conditional(Forall([a_1_to_i, b_1_to_j, c, d_1_to_k], Equals(Set(a_1_to_i, b_1_to_j, c, d_1_to_k), Set(a_1_to_i, c, b_1_to_j, d_1_to_k))), And(InSet(i, Natural), InSet(j, Natural), InSet(k, Natural)))))"
   ]
  },
  {
   "cell_type": "code",
   "execution_count": 3,
   "metadata": {},
   "outputs": [
    {
     "name": "stdout",
     "output_type": "stream",
     "text": [
      "Passed sanity check: expr matches stored_expr\n"
     ]
    }
   ],
   "source": [
    "# check that the built expression is the same as the stored expression\n",
    "assert expr == stored_expr\n",
    "assert expr._style_id == stored_expr._style_id\n",
    "print(\"Passed sanity check: expr matches stored_expr\")"
   ]
  },
  {
   "cell_type": "code",
   "execution_count": 4,
   "metadata": {},
   "outputs": [
    {
     "name": "stdout",
     "output_type": "stream",
     "text": [
      "\\left(\\left(i, j, k\\right) \\mapsto \\left\\{\\forall_{a_{1}, \\ldots, a_{i}, b_{1}, \\ldots, b_{j}, c, d_{1}, \\ldots, d_{k}}~\\left(\\left\\{a_{1}, \\ldots, a_{i}, b_{1}, \\ldots, b_{j}, c, d_{1}, \\ldots, d_{k}\\right\\} = \\left\\{a_{1}, \\ldots, a_{i}, c, b_{1}, \\ldots, b_{j}, d_{1}, \\ldots, d_{k}\\right\\}\\right) \\textrm{ if } i \\in \\mathbb{N} ,  j \\in \\mathbb{N} ,  k \\in \\mathbb{N}\\right..\\right)\n"
     ]
    }
   ],
   "source": [
    "# Show the LaTeX representation of the expression for convenience if you need it.\n",
    "print(expr.latex())"
   ]
  },
  {
   "cell_type": "code",
   "execution_count": 5,
   "metadata": {},
   "outputs": [
    {
     "data": {
      "text/html": [
       "no style options"
      ],
      "text/plain": [
       "no style options"
      ]
     },
     "execution_count": 5,
     "metadata": {},
     "output_type": "execute_result"
    }
   ],
   "source": [
    "expr.style_options()"
   ]
  },
  {
   "cell_type": "code",
   "execution_count": 6,
   "metadata": {},
   "outputs": [
    {
     "data": {
      "text/html": [
       "<table><tr><th>&nbsp;</th><th>core type</th><th>sub-expressions</th><th>expression</th></tr>\n",
       "<tr><td>0</td><td>ExprTuple</td><td>1</td><td><a class=\"ProveItLink\" href=\"expr.ipynb\"><img src=\"expr.png\" style=\"display:inline;vertical-align:middle;\" /></a></td></tr>\n",
       "<tr><td>1</td><td>Lambda</td><td>parameters:&nbsp;2<br>body:&nbsp;3<br></td><td><a class=\"ProveItLink\" href=\"../c66c58ed75568b77fbae7d1544138883415366130/expr.ipynb\"><img src=\"../c66c58ed75568b77fbae7d1544138883415366130/expr.png\" style=\"display:inline;vertical-align:middle;\" /></a></td></tr>\n",
       "<tr><td>2</td><td>ExprTuple</td><td>32, 34, 37</td><td><a class=\"ProveItLink\" href=\"../a3815c89707087eedc81b8e806e3415bfd7d40740/expr.ipynb\"><img src=\"../a3815c89707087eedc81b8e806e3415bfd7d40740/expr.png\" style=\"display:inline;vertical-align:middle;\" /></a></td></tr>\n",
       "<tr><td>3</td><td>Conditional</td><td>value:&nbsp;4<br>condition:&nbsp;5<br></td><td><a class=\"ProveItLink\" href=\"../36300b7d1f35b1a9a5ea237a4d6e63bc8a97efac0/expr.ipynb\"><img src=\"../36300b7d1f35b1a9a5ea237a4d6e63bc8a97efac0/expr.png\" style=\"display:inline;vertical-align:middle;\" /></a></td></tr>\n",
       "<tr><td>4</td><td>Operation</td><td>operator:&nbsp;6<br>operand:&nbsp;10<br></td><td><a class=\"ProveItLink\" href=\"../86789b1676307ddb944b11584d1046e56eeac4160/expr.ipynb\"><img src=\"../86789b1676307ddb944b11584d1046e56eeac4160/expr.png\" style=\"display:inline;vertical-align:middle;\" /></a></td></tr>\n",
       "<tr><td>5</td><td>Operation</td><td>operator:&nbsp;8<br>operands:&nbsp;9<br></td><td><a class=\"ProveItLink\" href=\"../9126ce067b1ab4cf68651af6262d899e61e0777b0/expr.ipynb\"><img src=\"../9126ce067b1ab4cf68651af6262d899e61e0777b0/expr.png\" style=\"display:inline;vertical-align:middle;\" /></a></td></tr>\n",
       "<tr><td>6</td><td>Literal</td><td></td><td><a class=\"ProveItLink\" href=\"../../../../../booleans/quantification/universality/__pv_it/common/684d35ba98fcbf8ca5011f865e530a51e77730630/expr.ipynb\"><img src=\"../../../../../booleans/quantification/universality/__pv_it/common/684d35ba98fcbf8ca5011f865e530a51e77730630/expr.png\" style=\"display:inline;vertical-align:middle;\" /></a></td></tr>\n",
       "<tr><td>7</td><td>ExprTuple</td><td>10</td><td><a class=\"ProveItLink\" href=\"../c2d7c253262836ccf0ef870f3cb3d4b42e98dc270/expr.ipynb\"><img src=\"../c2d7c253262836ccf0ef870f3cb3d4b42e98dc270/expr.png\" style=\"display:inline;vertical-align:middle;\" /></a></td></tr>\n",
       "<tr><td>8</td><td>Literal</td><td></td><td><a class=\"ProveItLink\" href=\"../../../../../booleans/conjunction/__pv_it/common/26b94b53e70b1d77b70f0d9d4236347db37731060/expr.ipynb\"><img src=\"../../../../../booleans/conjunction/__pv_it/common/26b94b53e70b1d77b70f0d9d4236347db37731060/expr.png\" style=\"display:inline;vertical-align:middle;\" /></a></td></tr>\n",
       "<tr><td>9</td><td>ExprTuple</td><td>11, 12, 13</td><td><a class=\"ProveItLink\" href=\"../59e0aec83f549822784332bdeacebe18db5cd3b50/expr.ipynb\"><img src=\"../59e0aec83f549822784332bdeacebe18db5cd3b50/expr.png\" style=\"display:inline;vertical-align:middle;\" /></a></td></tr>\n",
       "<tr><td>10</td><td>Lambda</td><td>parameters:&nbsp;24<br>body:&nbsp;14<br></td><td><a class=\"ProveItLink\" href=\"../00540028a92f0b842cb1def2ae710f8bf5ee9c060/expr.ipynb\"><img src=\"../00540028a92f0b842cb1def2ae710f8bf5ee9c060/expr.png\" style=\"display:inline;vertical-align:middle;\" /></a></td></tr>\n",
       "<tr><td>11</td><td>Operation</td><td>operator:&nbsp;17<br>operands:&nbsp;15<br></td><td><a class=\"ProveItLink\" href=\"../fcd2b46c59afcc7fb32c4a2119639ff11faa0aea0/expr.ipynb\"><img src=\"../fcd2b46c59afcc7fb32c4a2119639ff11faa0aea0/expr.png\" style=\"display:inline;vertical-align:middle;\" /></a></td></tr>\n",
       "<tr><td>12</td><td>Operation</td><td>operator:&nbsp;17<br>operands:&nbsp;16<br></td><td><a class=\"ProveItLink\" href=\"../9c3fd62286e7dde7f7db90b220d2dad3ca5e87350/expr.ipynb\"><img src=\"../9c3fd62286e7dde7f7db90b220d2dad3ca5e87350/expr.png\" style=\"display:inline;vertical-align:middle;\" /></a></td></tr>\n",
       "<tr><td>13</td><td>Operation</td><td>operator:&nbsp;17<br>operands:&nbsp;18<br></td><td><a class=\"ProveItLink\" href=\"../bfb51b20218eda15111bf9094481a2c5d106a87b0/expr.ipynb\"><img src=\"../bfb51b20218eda15111bf9094481a2c5d106a87b0/expr.png\" style=\"display:inline;vertical-align:middle;\" /></a></td></tr>\n",
       "<tr><td>14</td><td>Operation</td><td>operator:&nbsp;19<br>operands:&nbsp;20<br></td><td><a class=\"ProveItLink\" href=\"../478b55005dc5c32cfe40d131b8b41b69e601d2ec0/expr.ipynb\"><img src=\"../478b55005dc5c32cfe40d131b8b41b69e601d2ec0/expr.png\" style=\"display:inline;vertical-align:middle;\" /></a></td></tr>\n",
       "<tr><td>15</td><td>ExprTuple</td><td>32, 21</td><td><a class=\"ProveItLink\" href=\"../86ec3e8e1e29889fb06e7c39ae8675450a2538b90/expr.ipynb\"><img src=\"../86ec3e8e1e29889fb06e7c39ae8675450a2538b90/expr.png\" style=\"display:inline;vertical-align:middle;\" /></a></td></tr>\n",
       "<tr><td>16</td><td>ExprTuple</td><td>34, 21</td><td><a class=\"ProveItLink\" href=\"../484f5c5ea9d972497e9adc78edade442e910afd60/expr.ipynb\"><img src=\"../484f5c5ea9d972497e9adc78edade442e910afd60/expr.png\" style=\"display:inline;vertical-align:middle;\" /></a></td></tr>\n",
       "<tr><td>17</td><td>Literal</td><td></td><td><a class=\"ProveItLink\" href=\"../../../../membership/__pv_it/common/7171deca84f71f47a6ec7696972d1632274a12880/expr.ipynb\"><img src=\"../../../../membership/__pv_it/common/7171deca84f71f47a6ec7696972d1632274a12880/expr.png\" style=\"display:inline;vertical-align:middle;\" /></a></td></tr>\n",
       "<tr><td>18</td><td>ExprTuple</td><td>37, 21</td><td><a class=\"ProveItLink\" href=\"../bc9a6db39205d2144977c53a440fb629f2bbebe70/expr.ipynb\"><img src=\"../bc9a6db39205d2144977c53a440fb629f2bbebe70/expr.png\" style=\"display:inline;vertical-align:middle;\" /></a></td></tr>\n",
       "<tr><td>19</td><td>Literal</td><td></td><td><a class=\"ProveItLink\" href=\"../../../../../equality/__pv_it/common/731dd3955b346c1320ed5c0ba7a618bcda61457d0/expr.ipynb\"><img src=\"../../../../../equality/__pv_it/common/731dd3955b346c1320ed5c0ba7a618bcda61457d0/expr.png\" style=\"display:inline;vertical-align:middle;\" /></a></td></tr>\n",
       "<tr><td>20</td><td>ExprTuple</td><td>22, 23</td><td><a class=\"ProveItLink\" href=\"../19a419a65ad7c8b2a9cc819ff2e4b860d7913f280/expr.ipynb\"><img src=\"../19a419a65ad7c8b2a9cc819ff2e4b860d7913f280/expr.png\" style=\"display:inline;vertical-align:middle;\" /></a></td></tr>\n",
       "<tr><td>21</td><td>Literal</td><td></td><td><a class=\"ProveItLink\" href=\"../../../../../../numbers/number_sets/natural_numbers/__pv_it/common/85c8b43c90a7392ebb5459360d343dfa7c7408b50/expr.ipynb\"><img src=\"../../../../../../numbers/number_sets/natural_numbers/__pv_it/common/85c8b43c90a7392ebb5459360d343dfa7c7408b50/expr.png\" style=\"display:inline;vertical-align:middle;\" /></a></td></tr>\n",
       "<tr><td>22</td><td>Operation</td><td>operator:&nbsp;25<br>operands:&nbsp;24<br></td><td><a class=\"ProveItLink\" href=\"../f8559ec24021b57bc82abed7de73cb4bb2c276110/expr.ipynb\"><img src=\"../f8559ec24021b57bc82abed7de73cb4bb2c276110/expr.png\" style=\"display:inline;vertical-align:middle;\" /></a></td></tr>\n",
       "<tr><td>23</td><td>Operation</td><td>operator:&nbsp;25<br>operands:&nbsp;26<br></td><td><a class=\"ProveItLink\" href=\"../0c4642e5c65a33c902f4c3bba2ee7daeef28971c0/expr.ipynb\"><img src=\"../0c4642e5c65a33c902f4c3bba2ee7daeef28971c0/expr.png\" style=\"display:inline;vertical-align:middle;\" /></a></td></tr>\n",
       "<tr><td>24</td><td>ExprTuple</td><td>27, 29, 28, 30</td><td><a class=\"ProveItLink\" href=\"../083e0ff788184682d8e3ece76cd41610bc9497830/expr.ipynb\"><img src=\"../083e0ff788184682d8e3ece76cd41610bc9497830/expr.png\" style=\"display:inline;vertical-align:middle;\" /></a></td></tr>\n",
       "<tr><td>25</td><td>Literal</td><td></td><td><a class=\"ProveItLink\" href=\"../../common/f7caf702081f903a6ea3d95d680568dd78698f5a0/expr.ipynb\"><img src=\"../../common/f7caf702081f903a6ea3d95d680568dd78698f5a0/expr.png\" style=\"display:inline;vertical-align:middle;\" /></a></td></tr>\n",
       "<tr><td>26</td><td>ExprTuple</td><td>27, 28, 29, 30</td><td><a class=\"ProveItLink\" href=\"../70713407309db83abecb9a8572412722f27dbafb0/expr.ipynb\"><img src=\"../70713407309db83abecb9a8572412722f27dbafb0/expr.png\" style=\"display:inline;vertical-align:middle;\" /></a></td></tr>\n",
       "<tr><td>27</td><td>ExprRange</td><td>lambda_map:&nbsp;31<br>start_index:&nbsp;36<br>end_index:&nbsp;32<br></td><td><a class=\"ProveItLink\" href=\"../../../../../../core_expr_types/__pv_it/common/a8faf3b27fe552f144fda91135c3a6148ee990d00/expr.ipynb\"><img src=\"../../../../../../core_expr_types/__pv_it/common/a8faf3b27fe552f144fda91135c3a6148ee990d00/expr.png\" style=\"display:inline;vertical-align:middle;\" /></a></td></tr>\n",
       "<tr><td>28</td><td>Variable</td><td></td><td><a class=\"ProveItLink\" href=\"../../../../../../__pv_it/common/9a9d28748f90dec84e90f2ace4610208194e524e0/expr.ipynb\"><img src=\"../../../../../../__pv_it/common/9a9d28748f90dec84e90f2ace4610208194e524e0/expr.png\" style=\"display:inline;vertical-align:middle;\" /></a></td></tr>\n",
       "<tr><td>29</td><td>ExprRange</td><td>lambda_map:&nbsp;33<br>start_index:&nbsp;36<br>end_index:&nbsp;34<br></td><td><a class=\"ProveItLink\" href=\"../../../../../../core_expr_types/__pv_it/common/843f06cfd46cad7e330a92113934c3e3eb2d9cf50/expr.ipynb\"><img src=\"../../../../../../core_expr_types/__pv_it/common/843f06cfd46cad7e330a92113934c3e3eb2d9cf50/expr.png\" style=\"display:inline;vertical-align:middle;\" /></a></td></tr>\n",
       "<tr><td>30</td><td>ExprRange</td><td>lambda_map:&nbsp;35<br>start_index:&nbsp;36<br>end_index:&nbsp;37<br></td><td><a class=\"ProveItLink\" href=\"../../../../../../core_expr_types/__pv_it/common/ac39dbea517adf8cb3c17de94f354fb81dad90ec0/expr.ipynb\"><img src=\"../../../../../../core_expr_types/__pv_it/common/ac39dbea517adf8cb3c17de94f354fb81dad90ec0/expr.png\" style=\"display:inline;vertical-align:middle;\" /></a></td></tr>\n",
       "<tr><td>31</td><td>Lambda</td><td>parameter:&nbsp;45<br>body:&nbsp;38<br></td><td><a class=\"ProveItLink\" href=\"../../../../../../core_expr_types/__pv_it/common/99ea59f1b92e70eddeee736182b1abeb9f49c91b0/expr.ipynb\"><img src=\"../../../../../../core_expr_types/__pv_it/common/99ea59f1b92e70eddeee736182b1abeb9f49c91b0/expr.png\" style=\"display:inline;vertical-align:middle;\" /></a></td></tr>\n",
       "<tr><td>32</td><td>Variable</td><td></td><td><a class=\"ProveItLink\" href=\"../../../../../../__pv_it/common/575a6156bb1c87c5beeaf38c302b5905ad57f5780/expr.ipynb\"><img src=\"../../../../../../__pv_it/common/575a6156bb1c87c5beeaf38c302b5905ad57f5780/expr.png\" style=\"display:inline;vertical-align:middle;\" /></a></td></tr>\n",
       "<tr><td>33</td><td>Lambda</td><td>parameter:&nbsp;45<br>body:&nbsp;39<br></td><td><a class=\"ProveItLink\" href=\"../../../../../../core_expr_types/__pv_it/common/ba19487284205e8bd037599d68730451639874da0/expr.ipynb\"><img src=\"../../../../../../core_expr_types/__pv_it/common/ba19487284205e8bd037599d68730451639874da0/expr.png\" style=\"display:inline;vertical-align:middle;\" /></a></td></tr>\n",
       "<tr><td>34</td><td>Variable</td><td></td><td><a class=\"ProveItLink\" href=\"../../../../../../__pv_it/common/5514cc9a63b9c2ed9b63934dd5e088ab0d4f10080/expr.ipynb\"><img src=\"../../../../../../__pv_it/common/5514cc9a63b9c2ed9b63934dd5e088ab0d4f10080/expr.png\" style=\"display:inline;vertical-align:middle;\" /></a></td></tr>\n",
       "<tr><td>35</td><td>Lambda</td><td>parameter:&nbsp;45<br>body:&nbsp;40<br></td><td><a class=\"ProveItLink\" href=\"../../../../../../core_expr_types/__pv_it/common/1b116cdfe7d6c9bb57ed1783b00ba6a6e1a477fe0/expr.ipynb\"><img src=\"../../../../../../core_expr_types/__pv_it/common/1b116cdfe7d6c9bb57ed1783b00ba6a6e1a477fe0/expr.png\" style=\"display:inline;vertical-align:middle;\" /></a></td></tr>\n",
       "<tr><td>36</td><td>Literal</td><td></td><td><a class=\"ProveItLink\" href=\"../../../../../../numbers/numerals/__pv_it/common/d278e359da0695d9652dd541d45264f93703e2e40/expr.ipynb\"><img src=\"../../../../../../numbers/numerals/__pv_it/common/d278e359da0695d9652dd541d45264f93703e2e40/expr.png\" style=\"display:inline;vertical-align:middle;\" /></a></td></tr>\n",
       "<tr><td>37</td><td>Variable</td><td></td><td><a class=\"ProveItLink\" href=\"../../../../../../__pv_it/common/b9fd37fc619babc74a6203459f110251586df6970/expr.ipynb\"><img src=\"../../../../../../__pv_it/common/b9fd37fc619babc74a6203459f110251586df6970/expr.png\" style=\"display:inline;vertical-align:middle;\" /></a></td></tr>\n",
       "<tr><td>38</td><td>IndexedVar</td><td>variable:&nbsp;41<br>index:&nbsp;45<br></td><td><a class=\"ProveItLink\" href=\"../../../../../../core_expr_types/__pv_it/common/d8d3053e77ba1db68c0cd106952422881db586670/expr.ipynb\"><img src=\"../../../../../../core_expr_types/__pv_it/common/d8d3053e77ba1db68c0cd106952422881db586670/expr.png\" style=\"display:inline;vertical-align:middle;\" /></a></td></tr>\n",
       "<tr><td>39</td><td>IndexedVar</td><td>variable:&nbsp;42<br>index:&nbsp;45<br></td><td><a class=\"ProveItLink\" href=\"../../../../../../core_expr_types/__pv_it/common/d970eb18e3a42edf466b1db01e5cbdd3ba6971b60/expr.ipynb\"><img src=\"../../../../../../core_expr_types/__pv_it/common/d970eb18e3a42edf466b1db01e5cbdd3ba6971b60/expr.png\" style=\"display:inline;vertical-align:middle;\" /></a></td></tr>\n",
       "<tr><td>40</td><td>IndexedVar</td><td>variable:&nbsp;43<br>index:&nbsp;45<br></td><td><a class=\"ProveItLink\" href=\"../../../../../../core_expr_types/__pv_it/common/7e5df147b5f3430f45c37cab3644cfbeb1f043c70/expr.ipynb\"><img src=\"../../../../../../core_expr_types/__pv_it/common/7e5df147b5f3430f45c37cab3644cfbeb1f043c70/expr.png\" style=\"display:inline;vertical-align:middle;\" /></a></td></tr>\n",
       "<tr><td>41</td><td>Variable</td><td></td><td><a class=\"ProveItLink\" href=\"../../../../../../__pv_it/common/66c90e66682f107a881f2d666959f64e2e72ad750/expr.ipynb\"><img src=\"../../../../../../__pv_it/common/66c90e66682f107a881f2d666959f64e2e72ad750/expr.png\" style=\"display:inline;vertical-align:middle;\" /></a></td></tr>\n",
       "<tr><td>42</td><td>Variable</td><td></td><td><a class=\"ProveItLink\" href=\"../../../../../../__pv_it/common/4a5db8cc5c67969ec864bd3ea598be37cb6f5e550/expr.ipynb\"><img src=\"../../../../../../__pv_it/common/4a5db8cc5c67969ec864bd3ea598be37cb6f5e550/expr.png\" style=\"display:inline;vertical-align:middle;\" /></a></td></tr>\n",
       "<tr><td>43</td><td>Variable</td><td></td><td><a class=\"ProveItLink\" href=\"../../../../../../__pv_it/common/ba27da3f6d5512be14b05498f34744a70c9279220/expr.ipynb\"><img src=\"../../../../../../__pv_it/common/ba27da3f6d5512be14b05498f34744a70c9279220/expr.png\" style=\"display:inline;vertical-align:middle;\" /></a></td></tr>\n",
       "<tr><td>44</td><td>ExprTuple</td><td>45</td><td><a class=\"ProveItLink\" href=\"../../../../../../core_expr_types/__pv_it/common/ecf50ade416ab41c42c9f4e777b4c862cd9469670/expr.ipynb\"><img src=\"../../../../../../core_expr_types/__pv_it/common/ecf50ade416ab41c42c9f4e777b4c862cd9469670/expr.png\" style=\"display:inline;vertical-align:middle;\" /></a></td></tr>\n",
       "<tr><td>45</td><td>Variable</td><td></td><td><a class=\"ProveItLink\" href=\"../../../../../../core_expr_types/__pv_it/common/9e6d9d5d7eeb0342cf5bca68def0eb165a1a9bb10/expr.ipynb\"><img src=\"../../../../../../core_expr_types/__pv_it/common/9e6d9d5d7eeb0342cf5bca68def0eb165a1a9bb10/expr.png\" style=\"display:inline;vertical-align:middle;\" /></a></td></tr>\n",
       "</table>\n"
      ],
      "text/plain": [
       "0. ((i, j, k) -> {forall_{a_{1}, ..a_{_a}.., a_{i}, b_{1}, ..b_{_a}.., b_{j}, c, d_{1}, ..d_{_a}.., d_{k}} ({a_{1}, ..a_{_a}.., a_{i}, b_{1}, ..b_{_a}.., b_{j}, c, d_{1}, ..d_{_a}.., d_{k}} = {a_{1}, ..a_{_a}.., a_{i}, c, b_{1}, ..b_{_a}.., b_{j}, d_{1}, ..d_{_a}.., d_{k}}) if i in Natural ,  j in Natural ,  k in Natural.)\n",
       "   core type: ExprTuple\n",
       "   sub-expressions: 1\n",
       "1. (i, j, k) -> {forall_{a_{1}, ..a_{_a}.., a_{i}, b_{1}, ..b_{_a}.., b_{j}, c, d_{1}, ..d_{_a}.., d_{k}} ({a_{1}, ..a_{_a}.., a_{i}, b_{1}, ..b_{_a}.., b_{j}, c, d_{1}, ..d_{_a}.., d_{k}} = {a_{1}, ..a_{_a}.., a_{i}, c, b_{1}, ..b_{_a}.., b_{j}, d_{1}, ..d_{_a}.., d_{k}}) if i in Natural ,  j in Natural ,  k in Natural.\n",
       "   core type: Lambda\n",
       "   parameters: 2\\n   body: 3\n",
       "2. (i, j, k)\n",
       "   core type: ExprTuple\n",
       "   sub-expressions: 32, 34, 37\n",
       "3. {forall_{a_{1}, ..a_{_a}.., a_{i}, b_{1}, ..b_{_a}.., b_{j}, c, d_{1}, ..d_{_a}.., d_{k}} ({a_{1}, ..a_{_a}.., a_{i}, b_{1}, ..b_{_a}.., b_{j}, c, d_{1}, ..d_{_a}.., d_{k}} = {a_{1}, ..a_{_a}.., a_{i}, c, b_{1}, ..b_{_a}.., b_{j}, d_{1}, ..d_{_a}.., d_{k}}) if i in Natural ,  j in Natural ,  k in Natural.\n",
       "   core type: Conditional\n",
       "   value: 4\n",
       "   condition: 5\n",
       "4. forall_{a_{1}, ..a_{_a}.., a_{i}, b_{1}, ..b_{_a}.., b_{j}, c, d_{1}, ..d_{_a}.., d_{k}} ({a_{1}, ..a_{_a}.., a_{i}, b_{1}, ..b_{_a}.., b_{j}, c, d_{1}, ..d_{_a}.., d_{k}} = {a_{1}, ..a_{_a}.., a_{i}, c, b_{1}, ..b_{_a}.., b_{j}, d_{1}, ..d_{_a}.., d_{k}})\n",
       "   core type: Operation\n",
       "   operator: 6\n",
       "   operand: 10\n",
       "5. (i in Natural) and (j in Natural) and (k in Natural)\n",
       "   core type: Operation\n",
       "   operator: 8\n",
       "   operands: 9\n",
       "6. forall\n",
       "   core type: Literal\n",
       "   sub-expressions: \n",
       "7. ((a_{1}, ..a_{_a}.., a_{i}, b_{1}, ..b_{_a}.., b_{j}, c, d_{1}, ..d_{_a}.., d_{k}) -> ({a_{1}, ..a_{_a}.., a_{i}, b_{1}, ..b_{_a}.., b_{j}, c, d_{1}, ..d_{_a}.., d_{k}} = {a_{1}, ..a_{_a}.., a_{i}, c, b_{1}, ..b_{_a}.., b_{j}, d_{1}, ..d_{_a}.., d_{k}}))\n",
       "   core type: ExprTuple\n",
       "   sub-expressions: 10\n",
       "8. and\n",
       "   core type: Literal\n",
       "   sub-expressions: \n",
       "9. (i in Natural, j in Natural, k in Natural)\n",
       "   core type: ExprTuple\n",
       "   sub-expressions: 11, 12, 13\n",
       "10. (a_{1}, ..a_{_a}.., a_{i}, b_{1}, ..b_{_a}.., b_{j}, c, d_{1}, ..d_{_a}.., d_{k}) -> ({a_{1}, ..a_{_a}.., a_{i}, b_{1}, ..b_{_a}.., b_{j}, c, d_{1}, ..d_{_a}.., d_{k}} = {a_{1}, ..a_{_a}.., a_{i}, c, b_{1}, ..b_{_a}.., b_{j}, d_{1}, ..d_{_a}.., d_{k}})\n",
       "    core type: Lambda\n",
       "    parameters: 24\\n    body: 14\n",
       "11. i in Natural\n",
       "    core type: Operation\n",
       "    operator: 17\n",
       "    operands: 15\n",
       "12. j in Natural\n",
       "    core type: Operation\n",
       "    operator: 17\n",
       "    operands: 16\n",
       "13. k in Natural\n",
       "    core type: Operation\n",
       "    operator: 17\n",
       "    operands: 18\n",
       "14. {a_{1}, ..a_{_a}.., a_{i}, b_{1}, ..b_{_a}.., b_{j}, c, d_{1}, ..d_{_a}.., d_{k}} = {a_{1}, ..a_{_a}.., a_{i}, c, b_{1}, ..b_{_a}.., b_{j}, d_{1}, ..d_{_a}.., d_{k}}\n",
       "    core type: Operation\n",
       "    operator: 19\n",
       "    operands: 20\n",
       "15. (i, Natural)\n",
       "    core type: ExprTuple\n",
       "    sub-expressions: 32, 21\n",
       "16. (j, Natural)\n",
       "    core type: ExprTuple\n",
       "    sub-expressions: 34, 21\n",
       "17. in\n",
       "    core type: Literal\n",
       "    sub-expressions: \n",
       "18. (k, Natural)\n",
       "    core type: ExprTuple\n",
       "    sub-expressions: 37, 21\n",
       "19. =\n",
       "    core type: Literal\n",
       "    sub-expressions: \n",
       "20. ({a_{1}, ..a_{_a}.., a_{i}, b_{1}, ..b_{_a}.., b_{j}, c, d_{1}, ..d_{_a}.., d_{k}}, {a_{1}, ..a_{_a}.., a_{i}, c, b_{1}, ..b_{_a}.., b_{j}, d_{1}, ..d_{_a}.., d_{k}})\n",
       "    core type: ExprTuple\n",
       "    sub-expressions: 22, 23\n",
       "21. Natural\n",
       "    core type: Literal\n",
       "    sub-expressions: \n",
       "22. {a_{1}, ..a_{_a}.., a_{i}, b_{1}, ..b_{_a}.., b_{j}, c, d_{1}, ..d_{_a}.., d_{k}}\n",
       "    core type: Operation\n",
       "    operator: 25\n",
       "    operands: 24\n",
       "23. {a_{1}, ..a_{_a}.., a_{i}, c, b_{1}, ..b_{_a}.., b_{j}, d_{1}, ..d_{_a}.., d_{k}}\n",
       "    core type: Operation\n",
       "    operator: 25\n",
       "    operands: 26\n",
       "24. (a_{1}, ..a_{_a}.., a_{i}, b_{1}, ..b_{_a}.., b_{j}, c, d_{1}, ..d_{_a}.., d_{k})\n",
       "    core type: ExprTuple\n",
       "    sub-expressions: 27, 29, 28, 30\n",
       "25. Set\n",
       "    core type: Literal\n",
       "    sub-expressions: \n",
       "26. (a_{1}, ..a_{_a}.., a_{i}, c, b_{1}, ..b_{_a}.., b_{j}, d_{1}, ..d_{_a}.., d_{k})\n",
       "    core type: ExprTuple\n",
       "    sub-expressions: 27, 28, 29, 30\n",
       "27. a_{1}, ..a_{_a}.., a_{i}\n",
       "    core type: ExprRange\n",
       "    lambda_map: 31\n",
       "    start_index: 36\n",
       "    end_index: 32\n",
       "28. c\n",
       "    core type: Variable\n",
       "    sub-expressions: \n",
       "29. b_{1}, ..b_{_a}.., b_{j}\n",
       "    core type: ExprRange\n",
       "    lambda_map: 33\n",
       "    start_index: 36\n",
       "    end_index: 34\n",
       "30. d_{1}, ..d_{_a}.., d_{k}\n",
       "    core type: ExprRange\n",
       "    lambda_map: 35\n",
       "    start_index: 36\n",
       "    end_index: 37\n",
       "31. _a -> a_{_a}\n",
       "    core type: Lambda\n",
       "    parameter: 45\n",
       "    body: 38\n",
       "32. i\n",
       "    core type: Variable\n",
       "    sub-expressions: \n",
       "33. _a -> b_{_a}\n",
       "    core type: Lambda\n",
       "    parameter: 45\n",
       "    body: 39\n",
       "34. j\n",
       "    core type: Variable\n",
       "    sub-expressions: \n",
       "35. _a -> d_{_a}\n",
       "    core type: Lambda\n",
       "    parameter: 45\n",
       "    body: 40\n",
       "36. 1\n",
       "    core type: Literal\n",
       "    sub-expressions: \n",
       "37. k\n",
       "    core type: Variable\n",
       "    sub-expressions: \n",
       "38. a_{_a}\n",
       "    core type: IndexedVar\n",
       "variable: 41\n",
       "index: 45\n",
       "39. b_{_a}\n",
       "    core type: IndexedVar\n",
       "variable: 42\n",
       "index: 45\n",
       "40. d_{_a}\n",
       "    core type: IndexedVar\n",
       "variable: 43\n",
       "index: 45\n",
       "41. a\n",
       "    core type: Variable\n",
       "    sub-expressions: \n",
       "42. b\n",
       "    core type: Variable\n",
       "    sub-expressions: \n",
       "43. d\n",
       "    core type: Variable\n",
       "    sub-expressions: \n",
       "44. (_a)\n",
       "    core type: ExprTuple\n",
       "    sub-expressions: 45\n",
       "45. _a\n",
       "    core type: Variable\n",
       "    sub-expressions: "
      ]
     },
     "execution_count": 6,
     "metadata": {},
     "output_type": "execute_result"
    }
   ],
   "source": [
    "# display the expression information\n",
    "expr.expr_info()"
   ]
  },
  {
   "cell_type": "code",
   "execution_count": null,
   "metadata": {},
   "outputs": [],
   "source": []
  }
 ],
 "metadata": {
  "kernelspec": {
   "display_name": "Python 3",
   "language": "python",
   "name": "python3"
  }
 },
 "nbformat": 4,
 "nbformat_minor": 0
}