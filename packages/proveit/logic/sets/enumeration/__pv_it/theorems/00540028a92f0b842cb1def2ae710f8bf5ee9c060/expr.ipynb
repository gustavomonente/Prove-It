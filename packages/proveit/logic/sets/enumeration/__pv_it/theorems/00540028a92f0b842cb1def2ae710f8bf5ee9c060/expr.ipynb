{
 "cells": [
  {
   "cell_type": "markdown",
   "metadata": {},
   "source": [
    "Expression of type <a class=\"ProveItLink\" href=\"../../../../../../../../doc/html/api/proveit.Lambda.html\">Lambda</a>\n",
    "=======================\n",
    "# from the theory of <a class=\"ProveItLink\" href=\"../../../_theory_nbs_/theory.ipynb\">proveit.logic.sets.enumeration</a>"
   ]
  },
  {
   "cell_type": "code",
   "execution_count": 1,
   "metadata": {},
   "outputs": [],
   "source": [
    "import proveit\n",
    "# Automation is not needed when building an expression:\n",
    "proveit.defaults.automation = False # This will speed things up.\n",
    "proveit.defaults.inline_pngs = False # Makes files smaller.\n",
    "%load_expr # Load the stored expression as 'stored_expr'\n",
    "# import Expression classes needed to build the expression\n",
    "from proveit import Lambda, c\n",
    "from proveit.core_expr_types import a_1_to_i, b_1_to_j, d_1_to_k\n",
    "from proveit.logic import Equals, Set"
   ]
  },
  {
   "cell_type": "code",
   "execution_count": 2,
   "metadata": {},
   "outputs": [
    {
     "data": {
      "text/html": [
       "<strong id=\"expr\">expr:</strong> <a class=\"ProveItLink\" href=\"expr.ipynb\"><img src=\"expr.png\" style=\"display:inline;vertical-align:middle;\" /></a><br>"
      ],
      "text/plain": [
       "expr: (a_{1}, ..a_{_a}.., a_{i}, b_{1}, ..b_{_a}.., b_{j}, c, d_{1}, ..d_{_a}.., d_{k}) -> ({a_{1}, ..a_{_a}.., a_{i}, b_{1}, ..b_{_a}.., b_{j}, c, d_{1}, ..d_{_a}.., d_{k}} = {a_{1}, ..a_{_a}.., a_{i}, c, b_{1}, ..b_{_a}.., b_{j}, d_{1}, ..d_{_a}.., d_{k}})"
      ]
     },
     "execution_count": 2,
     "metadata": {},
     "output_type": "execute_result"
    }
   ],
   "source": [
    "# build up the expression from sub-expressions\n",
    "expr = Lambda([a_1_to_i, b_1_to_j, c, d_1_to_k], Equals(Set(a_1_to_i, b_1_to_j, c, d_1_to_k), Set(a_1_to_i, c, b_1_to_j, d_1_to_k)))"
   ]
  },
  {
   "cell_type": "code",
   "execution_count": 3,
   "metadata": {},
   "outputs": [
    {
     "name": "stdout",
     "output_type": "stream",
     "text": [
      "Passed sanity check: expr matches stored_expr\n"
     ]
    }
   ],
   "source": [
    "# check that the built expression is the same as the stored expression\n",
    "assert expr == stored_expr\n",
    "assert expr._style_id == stored_expr._style_id\n",
    "print(\"Passed sanity check: expr matches stored_expr\")"
   ]
  },
  {
   "cell_type": "code",
   "execution_count": 4,
   "metadata": {},
   "outputs": [
    {
     "name": "stdout",
     "output_type": "stream",
     "text": [
      "\\left(a_{1}, \\ldots, a_{i}, b_{1}, \\ldots, b_{j}, c, d_{1}, \\ldots, d_{k}\\right) \\mapsto \\left(\\left\\{a_{1}, \\ldots, a_{i}, b_{1}, \\ldots, b_{j}, c, d_{1}, \\ldots, d_{k}\\right\\} = \\left\\{a_{1}, \\ldots, a_{i}, c, b_{1}, \\ldots, b_{j}, d_{1}, \\ldots, d_{k}\\right\\}\\right)\n"
     ]
    }
   ],
   "source": [
    "# Show the LaTeX representation of the expression for convenience if you need it.\n",
    "print(expr.latex())"
   ]
  },
  {
   "cell_type": "code",
   "execution_count": 5,
   "metadata": {},
   "outputs": [
    {
     "data": {
      "text/html": [
       "no style options"
      ],
      "text/plain": [
       "no style options"
      ]
     },
     "execution_count": 5,
     "metadata": {},
     "output_type": "execute_result"
    }
   ],
   "source": [
    "expr.style_options()"
   ]
  },
  {
   "cell_type": "code",
   "execution_count": 6,
   "metadata": {},
   "outputs": [
    {
     "data": {
      "text/html": [
       "<table><tr><th>&nbsp;</th><th>core type</th><th>sub-expressions</th><th>expression</th></tr>\n",
       "<tr><td>0</td><td>Lambda</td><td>parameters:&nbsp;6<br>body:&nbsp;1<br></td><td><a class=\"ProveItLink\" href=\"expr.ipynb\"><img src=\"expr.png\" style=\"display:inline;vertical-align:middle;\" /></a></td></tr>\n",
       "<tr><td>1</td><td>Operation</td><td>operator:&nbsp;2<br>operands:&nbsp;3<br></td><td><a class=\"ProveItLink\" href=\"../478b55005dc5c32cfe40d131b8b41b69e601d2ec0/expr.ipynb\"><img src=\"../478b55005dc5c32cfe40d131b8b41b69e601d2ec0/expr.png\" style=\"display:inline;vertical-align:middle;\" /></a></td></tr>\n",
       "<tr><td>2</td><td>Literal</td><td></td><td><a class=\"ProveItLink\" href=\"../../../../../equality/__pv_it/common/731dd3955b346c1320ed5c0ba7a618bcda61457d0/expr.ipynb\"><img src=\"../../../../../equality/__pv_it/common/731dd3955b346c1320ed5c0ba7a618bcda61457d0/expr.png\" style=\"display:inline;vertical-align:middle;\" /></a></td></tr>\n",
       "<tr><td>3</td><td>ExprTuple</td><td>4, 5</td><td><a class=\"ProveItLink\" href=\"../19a419a65ad7c8b2a9cc819ff2e4b860d7913f280/expr.ipynb\"><img src=\"../19a419a65ad7c8b2a9cc819ff2e4b860d7913f280/expr.png\" style=\"display:inline;vertical-align:middle;\" /></a></td></tr>\n",
       "<tr><td>4</td><td>Operation</td><td>operator:&nbsp;7<br>operands:&nbsp;6<br></td><td><a class=\"ProveItLink\" href=\"../f8559ec24021b57bc82abed7de73cb4bb2c276110/expr.ipynb\"><img src=\"../f8559ec24021b57bc82abed7de73cb4bb2c276110/expr.png\" style=\"display:inline;vertical-align:middle;\" /></a></td></tr>\n",
       "<tr><td>5</td><td>Operation</td><td>operator:&nbsp;7<br>operands:&nbsp;8<br></td><td><a class=\"ProveItLink\" href=\"../0c4642e5c65a33c902f4c3bba2ee7daeef28971c0/expr.ipynb\"><img src=\"../0c4642e5c65a33c902f4c3bba2ee7daeef28971c0/expr.png\" style=\"display:inline;vertical-align:middle;\" /></a></td></tr>\n",
       "<tr><td>6</td><td>ExprTuple</td><td>9, 11, 10, 12</td><td><a class=\"ProveItLink\" href=\"../083e0ff788184682d8e3ece76cd41610bc9497830/expr.ipynb\"><img src=\"../083e0ff788184682d8e3ece76cd41610bc9497830/expr.png\" style=\"display:inline;vertical-align:middle;\" /></a></td></tr>\n",
       "<tr><td>7</td><td>Literal</td><td></td><td><a class=\"ProveItLink\" href=\"../../common/f7caf702081f903a6ea3d95d680568dd78698f5a0/expr.ipynb\"><img src=\"../../common/f7caf702081f903a6ea3d95d680568dd78698f5a0/expr.png\" style=\"display:inline;vertical-align:middle;\" /></a></td></tr>\n",
       "<tr><td>8</td><td>ExprTuple</td><td>9, 10, 11, 12</td><td><a class=\"ProveItLink\" href=\"../70713407309db83abecb9a8572412722f27dbafb0/expr.ipynb\"><img src=\"../70713407309db83abecb9a8572412722f27dbafb0/expr.png\" style=\"display:inline;vertical-align:middle;\" /></a></td></tr>\n",
       "<tr><td>9</td><td>ExprRange</td><td>lambda_map:&nbsp;13<br>start_index:&nbsp;18<br>end_index:&nbsp;14<br></td><td><a class=\"ProveItLink\" href=\"../../../../../../core_expr_types/__pv_it/common/a8faf3b27fe552f144fda91135c3a6148ee990d00/expr.ipynb\"><img src=\"../../../../../../core_expr_types/__pv_it/common/a8faf3b27fe552f144fda91135c3a6148ee990d00/expr.png\" style=\"display:inline;vertical-align:middle;\" /></a></td></tr>\n",
       "<tr><td>10</td><td>Variable</td><td></td><td><a class=\"ProveItLink\" href=\"../../../../../../__pv_it/common/9a9d28748f90dec84e90f2ace4610208194e524e0/expr.ipynb\"><img src=\"../../../../../../__pv_it/common/9a9d28748f90dec84e90f2ace4610208194e524e0/expr.png\" style=\"display:inline;vertical-align:middle;\" /></a></td></tr>\n",
       "<tr><td>11</td><td>ExprRange</td><td>lambda_map:&nbsp;15<br>start_index:&nbsp;18<br>end_index:&nbsp;16<br></td><td><a class=\"ProveItLink\" href=\"../../../../../../core_expr_types/__pv_it/common/843f06cfd46cad7e330a92113934c3e3eb2d9cf50/expr.ipynb\"><img src=\"../../../../../../core_expr_types/__pv_it/common/843f06cfd46cad7e330a92113934c3e3eb2d9cf50/expr.png\" style=\"display:inline;vertical-align:middle;\" /></a></td></tr>\n",
       "<tr><td>12</td><td>ExprRange</td><td>lambda_map:&nbsp;17<br>start_index:&nbsp;18<br>end_index:&nbsp;19<br></td><td><a class=\"ProveItLink\" href=\"../../../../../../core_expr_types/__pv_it/common/ac39dbea517adf8cb3c17de94f354fb81dad90ec0/expr.ipynb\"><img src=\"../../../../../../core_expr_types/__pv_it/common/ac39dbea517adf8cb3c17de94f354fb81dad90ec0/expr.png\" style=\"display:inline;vertical-align:middle;\" /></a></td></tr>\n",
       "<tr><td>13</td><td>Lambda</td><td>parameter:&nbsp;27<br>body:&nbsp;20<br></td><td><a class=\"ProveItLink\" href=\"../../../../../../core_expr_types/__pv_it/common/99ea59f1b92e70eddeee736182b1abeb9f49c91b0/expr.ipynb\"><img src=\"../../../../../../core_expr_types/__pv_it/common/99ea59f1b92e70eddeee736182b1abeb9f49c91b0/expr.png\" style=\"display:inline;vertical-align:middle;\" /></a></td></tr>\n",
       "<tr><td>14</td><td>Variable</td><td></td><td><a class=\"ProveItLink\" href=\"../../../../../../__pv_it/common/575a6156bb1c87c5beeaf38c302b5905ad57f5780/expr.ipynb\"><img src=\"../../../../../../__pv_it/common/575a6156bb1c87c5beeaf38c302b5905ad57f5780/expr.png\" style=\"display:inline;vertical-align:middle;\" /></a></td></tr>\n",
       "<tr><td>15</td><td>Lambda</td><td>parameter:&nbsp;27<br>body:&nbsp;21<br></td><td><a class=\"ProveItLink\" href=\"../../../../../../core_expr_types/__pv_it/common/ba19487284205e8bd037599d68730451639874da0/expr.ipynb\"><img src=\"../../../../../../core_expr_types/__pv_it/common/ba19487284205e8bd037599d68730451639874da0/expr.png\" style=\"display:inline;vertical-align:middle;\" /></a></td></tr>\n",
       "<tr><td>16</td><td>Variable</td><td></td><td><a class=\"ProveItLink\" href=\"../../../../../../__pv_it/common/5514cc9a63b9c2ed9b63934dd5e088ab0d4f10080/expr.ipynb\"><img src=\"../../../../../../__pv_it/common/5514cc9a63b9c2ed9b63934dd5e088ab0d4f10080/expr.png\" style=\"display:inline;vertical-align:middle;\" /></a></td></tr>\n",
       "<tr><td>17</td><td>Lambda</td><td>parameter:&nbsp;27<br>body:&nbsp;22<br></td><td><a class=\"ProveItLink\" href=\"../../../../../../core_expr_types/__pv_it/common/1b116cdfe7d6c9bb57ed1783b00ba6a6e1a477fe0/expr.ipynb\"><img src=\"../../../../../../core_expr_types/__pv_it/common/1b116cdfe7d6c9bb57ed1783b00ba6a6e1a477fe0/expr.png\" style=\"display:inline;vertical-align:middle;\" /></a></td></tr>\n",
       "<tr><td>18</td><td>Literal</td><td></td><td><a class=\"ProveItLink\" href=\"../../../../../../numbers/numerals/__pv_it/common/d278e359da0695d9652dd541d45264f93703e2e40/expr.ipynb\"><img src=\"../../../../../../numbers/numerals/__pv_it/common/d278e359da0695d9652dd541d45264f93703e2e40/expr.png\" style=\"display:inline;vertical-align:middle;\" /></a></td></tr>\n",
       "<tr><td>19</td><td>Variable</td><td></td><td><a class=\"ProveItLink\" href=\"../../../../../../__pv_it/common/b9fd37fc619babc74a6203459f110251586df6970/expr.ipynb\"><img src=\"../../../../../../__pv_it/common/b9fd37fc619babc74a6203459f110251586df6970/expr.png\" style=\"display:inline;vertical-align:middle;\" /></a></td></tr>\n",
       "<tr><td>20</td><td>IndexedVar</td><td>variable:&nbsp;23<br>index:&nbsp;27<br></td><td><a class=\"ProveItLink\" href=\"../../../../../../core_expr_types/__pv_it/common/d8d3053e77ba1db68c0cd106952422881db586670/expr.ipynb\"><img src=\"../../../../../../core_expr_types/__pv_it/common/d8d3053e77ba1db68c0cd106952422881db586670/expr.png\" style=\"display:inline;vertical-align:middle;\" /></a></td></tr>\n",
       "<tr><td>21</td><td>IndexedVar</td><td>variable:&nbsp;24<br>index:&nbsp;27<br></td><td><a class=\"ProveItLink\" href=\"../../../../../../core_expr_types/__pv_it/common/d970eb18e3a42edf466b1db01e5cbdd3ba6971b60/expr.ipynb\"><img src=\"../../../../../../core_expr_types/__pv_it/common/d970eb18e3a42edf466b1db01e5cbdd3ba6971b60/expr.png\" style=\"display:inline;vertical-align:middle;\" /></a></td></tr>\n",
       "<tr><td>22</td><td>IndexedVar</td><td>variable:&nbsp;25<br>index:&nbsp;27<br></td><td><a class=\"ProveItLink\" href=\"../../../../../../core_expr_types/__pv_it/common/7e5df147b5f3430f45c37cab3644cfbeb1f043c70/expr.ipynb\"><img src=\"../../../../../../core_expr_types/__pv_it/common/7e5df147b5f3430f45c37cab3644cfbeb1f043c70/expr.png\" style=\"display:inline;vertical-align:middle;\" /></a></td></tr>\n",
       "<tr><td>23</td><td>Variable</td><td></td><td><a class=\"ProveItLink\" href=\"../../../../../../__pv_it/common/66c90e66682f107a881f2d666959f64e2e72ad750/expr.ipynb\"><img src=\"../../../../../../__pv_it/common/66c90e66682f107a881f2d666959f64e2e72ad750/expr.png\" style=\"display:inline;vertical-align:middle;\" /></a></td></tr>\n",
       "<tr><td>24</td><td>Variable</td><td></td><td><a class=\"ProveItLink\" href=\"../../../../../../__pv_it/common/4a5db8cc5c67969ec864bd3ea598be37cb6f5e550/expr.ipynb\"><img src=\"../../../../../../__pv_it/common/4a5db8cc5c67969ec864bd3ea598be37cb6f5e550/expr.png\" style=\"display:inline;vertical-align:middle;\" /></a></td></tr>\n",
       "<tr><td>25</td><td>Variable</td><td></td><td><a class=\"ProveItLink\" href=\"../../../../../../__pv_it/common/ba27da3f6d5512be14b05498f34744a70c9279220/expr.ipynb\"><img src=\"../../../../../../__pv_it/common/ba27da3f6d5512be14b05498f34744a70c9279220/expr.png\" style=\"display:inline;vertical-align:middle;\" /></a></td></tr>\n",
       "<tr><td>26</td><td>ExprTuple</td><td>27</td><td><a class=\"ProveItLink\" href=\"../../../../../../core_expr_types/__pv_it/common/ecf50ade416ab41c42c9f4e777b4c862cd9469670/expr.ipynb\"><img src=\"../../../../../../core_expr_types/__pv_it/common/ecf50ade416ab41c42c9f4e777b4c862cd9469670/expr.png\" style=\"display:inline;vertical-align:middle;\" /></a></td></tr>\n",
       "<tr><td>27</td><td>Variable</td><td></td><td><a class=\"ProveItLink\" href=\"../../../../../../core_expr_types/__pv_it/common/9e6d9d5d7eeb0342cf5bca68def0eb165a1a9bb10/expr.ipynb\"><img src=\"../../../../../../core_expr_types/__pv_it/common/9e6d9d5d7eeb0342cf5bca68def0eb165a1a9bb10/expr.png\" style=\"display:inline;vertical-align:middle;\" /></a></td></tr>\n",
       "</table>\n"
      ],
      "text/plain": [
       "0. (a_{1}, ..a_{_a}.., a_{i}, b_{1}, ..b_{_a}.., b_{j}, c, d_{1}, ..d_{_a}.., d_{k}) -> ({a_{1}, ..a_{_a}.., a_{i}, b_{1}, ..b_{_a}.., b_{j}, c, d_{1}, ..d_{_a}.., d_{k}} = {a_{1}, ..a_{_a}.., a_{i}, c, b_{1}, ..b_{_a}.., b_{j}, d_{1}, ..d_{_a}.., d_{k}})\n",
       "   core type: Lambda\n",
       "   parameters: 6\\n   body: 1\n",
       "1. {a_{1}, ..a_{_a}.., a_{i}, b_{1}, ..b_{_a}.., b_{j}, c, d_{1}, ..d_{_a}.., d_{k}} = {a_{1}, ..a_{_a}.., a_{i}, c, b_{1}, ..b_{_a}.., b_{j}, d_{1}, ..d_{_a}.., d_{k}}\n",
       "   core type: Operation\n",
       "   operator: 2\n",
       "   operands: 3\n",
       "2. =\n",
       "   core type: Literal\n",
       "   sub-expressions: \n",
       "3. ({a_{1}, ..a_{_a}.., a_{i}, b_{1}, ..b_{_a}.., b_{j}, c, d_{1}, ..d_{_a}.., d_{k}}, {a_{1}, ..a_{_a}.., a_{i}, c, b_{1}, ..b_{_a}.., b_{j}, d_{1}, ..d_{_a}.., d_{k}})\n",
       "   core type: ExprTuple\n",
       "   sub-expressions: 4, 5\n",
       "4. {a_{1}, ..a_{_a}.., a_{i}, b_{1}, ..b_{_a}.., b_{j}, c, d_{1}, ..d_{_a}.., d_{k}}\n",
       "   core type: Operation\n",
       "   operator: 7\n",
       "   operands: 6\n",
       "5. {a_{1}, ..a_{_a}.., a_{i}, c, b_{1}, ..b_{_a}.., b_{j}, d_{1}, ..d_{_a}.., d_{k}}\n",
       "   core type: Operation\n",
       "   operator: 7\n",
       "   operands: 8\n",
       "6. (a_{1}, ..a_{_a}.., a_{i}, b_{1}, ..b_{_a}.., b_{j}, c, d_{1}, ..d_{_a}.., d_{k})\n",
       "   core type: ExprTuple\n",
       "   sub-expressions: 9, 11, 10, 12\n",
       "7. Set\n",
       "   core type: Literal\n",
       "   sub-expressions: \n",
       "8. (a_{1}, ..a_{_a}.., a_{i}, c, b_{1}, ..b_{_a}.., b_{j}, d_{1}, ..d_{_a}.., d_{k})\n",
       "   core type: ExprTuple\n",
       "   sub-expressions: 9, 10, 11, 12\n",
       "9. a_{1}, ..a_{_a}.., a_{i}\n",
       "   core type: ExprRange\n",
       "   lambda_map: 13\n",
       "   start_index: 18\n",
       "   end_index: 14\n",
       "10. c\n",
       "    core type: Variable\n",
       "    sub-expressions: \n",
       "11. b_{1}, ..b_{_a}.., b_{j}\n",
       "    core type: ExprRange\n",
       "    lambda_map: 15\n",
       "    start_index: 18\n",
       "    end_index: 16\n",
       "12. d_{1}, ..d_{_a}.., d_{k}\n",
       "    core type: ExprRange\n",
       "    lambda_map: 17\n",
       "    start_index: 18\n",
       "    end_index: 19\n",
       "13. _a -> a_{_a}\n",
       "    core type: Lambda\n",
       "    parameter: 27\n",
       "    body: 20\n",
       "14. i\n",
       "    core type: Variable\n",
       "    sub-expressions: \n",
       "15. _a -> b_{_a}\n",
       "    core type: Lambda\n",
       "    parameter: 27\n",
       "    body: 21\n",
       "16. j\n",
       "    core type: Variable\n",
       "    sub-expressions: \n",
       "17. _a -> d_{_a}\n",
       "    core type: Lambda\n",
       "    parameter: 27\n",
       "    body: 22\n",
       "18. 1\n",
       "    core type: Literal\n",
       "    sub-expressions: \n",
       "19. k\n",
       "    core type: Variable\n",
       "    sub-expressions: \n",
       "20. a_{_a}\n",
       "    core type: IndexedVar\n",
       "variable: 23\n",
       "index: 27\n",
       "21. b_{_a}\n",
       "    core type: IndexedVar\n",
       "variable: 24\n",
       "index: 27\n",
       "22. d_{_a}\n",
       "    core type: IndexedVar\n",
       "variable: 25\n",
       "index: 27\n",
       "23. a\n",
       "    core type: Variable\n",
       "    sub-expressions: \n",
       "24. b\n",
       "    core type: Variable\n",
       "    sub-expressions: \n",
       "25. d\n",
       "    core type: Variable\n",
       "    sub-expressions: \n",
       "26. (_a)\n",
       "    core type: ExprTuple\n",
       "    sub-expressions: 27\n",
       "27. _a\n",
       "    core type: Variable\n",
       "    sub-expressions: "
      ]
     },
     "execution_count": 6,
     "metadata": {},
     "output_type": "execute_result"
    }
   ],
   "source": [
    "# display the expression information\n",
    "expr.expr_info()"
   ]
  },
  {
   "cell_type": "code",
   "execution_count": null,
   "metadata": {},
   "outputs": [],
   "source": []
  }
 ],
 "metadata": {
  "kernelspec": {
   "display_name": "Python 3",
   "language": "python",
   "name": "python3"
  }
 },
 "nbformat": 4,
 "nbformat_minor": 0
}