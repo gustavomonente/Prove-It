{
 "cells": [
  {
   "cell_type": "markdown",
   "metadata": {},
   "source": [
    "Expression of type <a class=\"ProveItLink\" href=\"../../../../../../../../doc/html/api/proveit.logic.Forall.html\">Forall</a>\n",
    "=======================\n",
    "# from the theory of <a class=\"ProveItLink\" href=\"../../../_theory_nbs_/theory.ipynb\">proveit.logic.sets.enumeration</a>"
   ]
  },
  {
   "cell_type": "code",
   "execution_count": 1,
   "metadata": {},
   "outputs": [],
   "source": [
    "import proveit\n",
    "# Automation is not needed when building an expression:\n",
    "proveit.defaults.automation = False # This will speed things up.\n",
    "proveit.defaults.inline_pngs = False # Makes files smaller.\n",
    "%load_expr # Load the stored expression as 'stored_expr'\n",
    "# import Expression classes needed to build the expression\n",
    "from proveit import b, m, n\n",
    "from proveit.core_expr_types import a_1_to_m, c_1_to_n\n",
    "from proveit.logic import Forall, NotInSet, ProperSubset, Set\n",
    "from proveit.numbers import Natural"
   ]
  },
  {
   "cell_type": "code",
   "execution_count": 2,
   "metadata": {},
   "outputs": [
    {
     "data": {
      "text/html": [
       "<strong id=\"expr\">expr:</strong> <a class=\"ProveItLink\" href=\"expr.ipynb\"><img src=\"expr.png\" style=\"display:inline;vertical-align:middle;\" /></a><br>"
      ],
      "text/plain": [
       "expr: forall_{m, n in Natural} [forall_{a_{1}, ..a_{_a}.., a_{m}, b, c_{1}, ..c_{_a}.., c_{n} | b not-in {a_{1}, ..a_{_a}.., a_{m}}} ({a_{1}, ..a_{_a}.., a_{m}} proper_subset {a_{1}, ..a_{_a}.., a_{m}, b, c_{1}, ..c_{_a}.., c_{n}})]"
      ]
     },
     "execution_count": 2,
     "metadata": {},
     "output_type": "execute_result"
    }
   ],
   "source": [
    "# build up the expression from sub-expressions\n",
    "sub_expr1 = Set(a_1_to_m)\n",
    "expr = Forall([m, n], Forall([a_1_to_m, b, c_1_to_n], ProperSubset(sub_expr1, Set(a_1_to_m, b, c_1_to_n)), condition = NotInSet(b, sub_expr1)), domains = [Natural, Natural])"
   ]
  },
  {
   "cell_type": "code",
   "execution_count": 3,
   "metadata": {},
   "outputs": [
    {
     "name": "stdout",
     "output_type": "stream",
     "text": [
      "Passed sanity check: expr matches stored_expr\n"
     ]
    }
   ],
   "source": [
    "# check that the built expression is the same as the stored expression\n",
    "assert expr == stored_expr\n",
    "assert expr._style_id == stored_expr._style_id\n",
    "print(\"Passed sanity check: expr matches stored_expr\")"
   ]
  },
  {
   "cell_type": "code",
   "execution_count": 4,
   "metadata": {},
   "outputs": [
    {
     "name": "stdout",
     "output_type": "stream",
     "text": [
      "\\forall_{m, n \\in \\mathbb{N}}~\\left[\\forall_{a_{1}, \\ldots, a_{m}, b, c_{1}, \\ldots, c_{n}~|~b \\notin \\left\\{a_{1}, \\ldots, a_{m}\\right\\}}~\\left(\\left\\{a_{1}, \\ldots, a_{m}\\right\\} \\subset \\left\\{a_{1}, \\ldots, a_{m}, b, c_{1}, \\ldots, c_{n}\\right\\}\\right)\\right]\n"
     ]
    }
   ],
   "source": [
    "# Show the LaTeX representation of the expression for convenience if you need it.\n",
    "print(expr.latex())"
   ]
  },
  {
   "cell_type": "code",
   "execution_count": 5,
   "metadata": {},
   "outputs": [
    {
     "data": {
      "text/html": [
       "<table><tr><th>&nbsp;</th><th>core type</th><th>sub-expressions</th><th>expression</th></tr>\n",
       "<tr><td>0</td><td>Operation</td><td>operator:&nbsp;6<br>operand:&nbsp;1<br></td><td><a class=\"ProveItLink\" href=\"expr.ipynb\"><img src=\"expr.png\" style=\"display:inline;vertical-align:middle;\" /></a></td></tr>\n",
       "<tr><td>1</td><td>Lambda</td><td>parameters:&nbsp;2<br>body:&nbsp;3<br></td><td><a class=\"ProveItLink\" href=\"../99e071ab9444e6e2c89a399e02b50d9ffd98c7760/expr.ipynb\"><img src=\"../99e071ab9444e6e2c89a399e02b50d9ffd98c7760/expr.png\" style=\"display:inline;vertical-align:middle;\" /></a></td></tr>\n",
       "<tr><td>2</td><td>ExprTuple</td><td>35, 32</td><td><a class=\"ProveItLink\" href=\"../092ed828b5223350e0e312743205cd26029752560/expr.ipynb\"><img src=\"../092ed828b5223350e0e312743205cd26029752560/expr.png\" style=\"display:inline;vertical-align:middle;\" /></a></td></tr>\n",
       "<tr><td>3</td><td>Conditional</td><td>value:&nbsp;4<br>condition:&nbsp;5<br></td><td><a class=\"ProveItLink\" href=\"../91e6f4e21b5ec4ba27fbac665543ef38e8c733c60/expr.ipynb\"><img src=\"../91e6f4e21b5ec4ba27fbac665543ef38e8c733c60/expr.png\" style=\"display:inline;vertical-align:middle;\" /></a></td></tr>\n",
       "<tr><td>4</td><td>Operation</td><td>operator:&nbsp;6<br>operand:&nbsp;7<br></td><td><a class=\"ProveItLink\" href=\"../32998c6b422dcf7a467ad7e398b6bc673c8459360/expr.ipynb\"><img src=\"../32998c6b422dcf7a467ad7e398b6bc673c8459360/expr.png\" style=\"display:inline;vertical-align:middle;\" /></a></td></tr>\n",
       "<tr><td>5</td><td>Operation</td><td>operator:&nbsp;8<br>operands:&nbsp;9<br></td><td><a class=\"ProveItLink\" href=\"../2a6d04cd40e09bf886c7041f8c8a23b6e0272ec50/expr.ipynb\"><img src=\"../2a6d04cd40e09bf886c7041f8c8a23b6e0272ec50/expr.png\" style=\"display:inline;vertical-align:middle;\" /></a></td></tr>\n",
       "<tr><td>6</td><td>Literal</td><td></td><td><a class=\"ProveItLink\" href=\"../../../../../booleans/quantification/universality/__pv_it/common/083d2baa0b8ecab1d230f9ec29a15aa1355809fb0/expr.ipynb\"><img src=\"../../../../../booleans/quantification/universality/__pv_it/common/083d2baa0b8ecab1d230f9ec29a15aa1355809fb0/expr.png\" style=\"display:inline;vertical-align:middle;\" /></a></td></tr>\n",
       "<tr><td>7</td><td>Lambda</td><td>parameters:&nbsp;25<br>body:&nbsp;10<br></td><td><a class=\"ProveItLink\" href=\"../487a4f875f6b4a07bf452c20d9cd9fb6603c67c80/expr.ipynb\"><img src=\"../487a4f875f6b4a07bf452c20d9cd9fb6603c67c80/expr.png\" style=\"display:inline;vertical-align:middle;\" /></a></td></tr>\n",
       "<tr><td>8</td><td>Literal</td><td></td><td><a class=\"ProveItLink\" href=\"../../../../../booleans/conjunction/__pv_it/common/42118ff318bd65d98b1393f64ce7c2269feef76e0/expr.ipynb\"><img src=\"../../../../../booleans/conjunction/__pv_it/common/42118ff318bd65d98b1393f64ce7c2269feef76e0/expr.png\" style=\"display:inline;vertical-align:middle;\" /></a></td></tr>\n",
       "<tr><td>9</td><td>ExprTuple</td><td>11, 12</td><td><a class=\"ProveItLink\" href=\"../ff4d951b270e42aaac62fb9dad2701f8da77c8160/expr.ipynb\"><img src=\"../ff4d951b270e42aaac62fb9dad2701f8da77c8160/expr.png\" style=\"display:inline;vertical-align:middle;\" /></a></td></tr>\n",
       "<tr><td>10</td><td>Conditional</td><td>value:&nbsp;13<br>condition:&nbsp;14<br></td><td><a class=\"ProveItLink\" href=\"../f44790962a362d593811ea84c6857ab5202d3fac0/expr.ipynb\"><img src=\"../f44790962a362d593811ea84c6857ab5202d3fac0/expr.png\" style=\"display:inline;vertical-align:middle;\" /></a></td></tr>\n",
       "<tr><td>11</td><td>Operation</td><td>operator:&nbsp;16<br>operands:&nbsp;15<br></td><td><a class=\"ProveItLink\" href=\"../98023afa4ea0d397f8a177bad4a359b36939fb170/expr.ipynb\"><img src=\"../98023afa4ea0d397f8a177bad4a359b36939fb170/expr.png\" style=\"display:inline;vertical-align:middle;\" /></a></td></tr>\n",
       "<tr><td>12</td><td>Operation</td><td>operator:&nbsp;16<br>operands:&nbsp;17<br></td><td><a class=\"ProveItLink\" href=\"../7351e7b0b5ab4699fe31eac3b02ba02b17a05bf60/expr.ipynb\"><img src=\"../7351e7b0b5ab4699fe31eac3b02ba02b17a05bf60/expr.png\" style=\"display:inline;vertical-align:middle;\" /></a></td></tr>\n",
       "<tr><td>13</td><td>Operation</td><td>operator:&nbsp;18<br>operands:&nbsp;19<br></td><td><a class=\"ProveItLink\" href=\"../418137ef40b38789b0273beaf3fdfd09d6ef15a70/expr.ipynb\"><img src=\"../418137ef40b38789b0273beaf3fdfd09d6ef15a70/expr.png\" style=\"display:inline;vertical-align:middle;\" /></a></td></tr>\n",
       "<tr><td>14</td><td>Operation</td><td>operator:&nbsp;20<br>operands:&nbsp;21<br></td><td><a class=\"ProveItLink\" href=\"../40b0b80fab5c13e53eb560c8de13403164dbcefc0/expr.ipynb\"><img src=\"../40b0b80fab5c13e53eb560c8de13403164dbcefc0/expr.png\" style=\"display:inline;vertical-align:middle;\" /></a></td></tr>\n",
       "<tr><td>15</td><td>ExprTuple</td><td>35, 22</td><td><a class=\"ProveItLink\" href=\"../cd7d4f1c848a714c5e3ee950f74fc6919eb17af50/expr.ipynb\"><img src=\"../cd7d4f1c848a714c5e3ee950f74fc6919eb17af50/expr.png\" style=\"display:inline;vertical-align:middle;\" /></a></td></tr>\n",
       "<tr><td>16</td><td>Literal</td><td></td><td><a class=\"ProveItLink\" href=\"../../../../membership/__pv_it/common/477487d8796864d23d5810f83761435f25167f690/expr.ipynb\"><img src=\"../../../../membership/__pv_it/common/477487d8796864d23d5810f83761435f25167f690/expr.png\" style=\"display:inline;vertical-align:middle;\" /></a></td></tr>\n",
       "<tr><td>17</td><td>ExprTuple</td><td>32, 22</td><td><a class=\"ProveItLink\" href=\"../361f8713efdd17d455c1f3e958d6205fdaeaf3c70/expr.ipynb\"><img src=\"../361f8713efdd17d455c1f3e958d6205fdaeaf3c70/expr.png\" style=\"display:inline;vertical-align:middle;\" /></a></td></tr>\n",
       "<tr><td>18</td><td>Literal</td><td></td><td><a class=\"ProveItLink\" href=\"../../../../inclusion/__pv_it/common/adc9164d5bfa989e5765900a8c87188c1d60284f0/expr.ipynb\"><img src=\"../../../../inclusion/__pv_it/common/adc9164d5bfa989e5765900a8c87188c1d60284f0/expr.png\" style=\"display:inline;vertical-align:middle;\" /></a></td></tr>\n",
       "<tr><td>19</td><td>ExprTuple</td><td>24, 23</td><td><a class=\"ProveItLink\" href=\"../931710e5225068faf23d6feebdc5b33844089acf0/expr.ipynb\"><img src=\"../931710e5225068faf23d6feebdc5b33844089acf0/expr.png\" style=\"display:inline;vertical-align:middle;\" /></a></td></tr>\n",
       "<tr><td>20</td><td>Literal</td><td></td><td><a class=\"ProveItLink\" href=\"../../../../membership/__pv_it/common/f4affea88ec78899b0259567586c16d1e6a484950/expr.ipynb\"><img src=\"../../../../membership/__pv_it/common/f4affea88ec78899b0259567586c16d1e6a484950/expr.png\" style=\"display:inline;vertical-align:middle;\" /></a></td></tr>\n",
       "<tr><td>21</td><td>ExprTuple</td><td>28, 24</td><td><a class=\"ProveItLink\" href=\"../6e91ca2c225f18175178b9816c731be33b01d65c0/expr.ipynb\"><img src=\"../6e91ca2c225f18175178b9816c731be33b01d65c0/expr.png\" style=\"display:inline;vertical-align:middle;\" /></a></td></tr>\n",
       "<tr><td>22</td><td>Literal</td><td></td><td><a class=\"ProveItLink\" href=\"../../../../../../numbers/number_sets/natural_numbers/__pv_it/common/8b7c321957f52ed3b05b36af612eeae4fa4783bc0/expr.ipynb\"><img src=\"../../../../../../numbers/number_sets/natural_numbers/__pv_it/common/8b7c321957f52ed3b05b36af612eeae4fa4783bc0/expr.png\" style=\"display:inline;vertical-align:middle;\" /></a></td></tr>\n",
       "<tr><td>23</td><td>Operation</td><td>operator:&nbsp;26<br>operands:&nbsp;25<br></td><td><a class=\"ProveItLink\" href=\"../0c9cd411779399ed8a45deb17575fe367be6b3500/expr.ipynb\"><img src=\"../0c9cd411779399ed8a45deb17575fe367be6b3500/expr.png\" style=\"display:inline;vertical-align:middle;\" /></a></td></tr>\n",
       "<tr><td>24</td><td>Operation</td><td>operator:&nbsp;26<br>operands:&nbsp;27<br></td><td><a class=\"ProveItLink\" href=\"../1ce25220d0ef5677e08f6ef692bebeabba5549450/expr.ipynb\"><img src=\"../1ce25220d0ef5677e08f6ef692bebeabba5549450/expr.png\" style=\"display:inline;vertical-align:middle;\" /></a></td></tr>\n",
       "<tr><td>25</td><td>ExprTuple</td><td>30, 28, 29</td><td><a class=\"ProveItLink\" href=\"../3f103b247159dfb680a2464c743eaacb0318073d0/expr.ipynb\"><img src=\"../3f103b247159dfb680a2464c743eaacb0318073d0/expr.png\" style=\"display:inline;vertical-align:middle;\" /></a></td></tr>\n",
       "<tr><td>26</td><td>Literal</td><td></td><td><a class=\"ProveItLink\" href=\"../../common/0ead90ccbf4f17bc585a51f8aa904bb77916ae6e0/expr.ipynb\"><img src=\"../../common/0ead90ccbf4f17bc585a51f8aa904bb77916ae6e0/expr.png\" style=\"display:inline;vertical-align:middle;\" /></a></td></tr>\n",
       "<tr><td>27</td><td>ExprTuple</td><td>30</td><td><a class=\"ProveItLink\" href=\"../f9b6279ea096d0c8d155308c268c1d16019be6500/expr.ipynb\"><img src=\"../f9b6279ea096d0c8d155308c268c1d16019be6500/expr.png\" style=\"display:inline;vertical-align:middle;\" /></a></td></tr>\n",
       "<tr><td>28</td><td>Variable</td><td></td><td><a class=\"ProveItLink\" href=\"../../../../../../__pv_it/common/195236b98c6c564a75b5dbada74b173bc52d5c3e0/expr.ipynb\"><img src=\"../../../../../../__pv_it/common/195236b98c6c564a75b5dbada74b173bc52d5c3e0/expr.png\" style=\"display:inline;vertical-align:middle;\" /></a></td></tr>\n",
       "<tr><td>29</td><td>ExprRange</td><td>lambda_map:&nbsp;31<br>start_index:&nbsp;34<br>end_index:&nbsp;32<br></td><td><a class=\"ProveItLink\" href=\"../../../../../../core_expr_types/__pv_it/common/0b9106eab9e25a4824ecafe4c37faa3bbf6744d00/expr.ipynb\"><img src=\"../../../../../../core_expr_types/__pv_it/common/0b9106eab9e25a4824ecafe4c37faa3bbf6744d00/expr.png\" style=\"display:inline;vertical-align:middle;\" /></a></td></tr>\n",
       "<tr><td>30</td><td>ExprRange</td><td>lambda_map:&nbsp;33<br>start_index:&nbsp;34<br>end_index:&nbsp;35<br></td><td><a class=\"ProveItLink\" href=\"../../../../../../core_expr_types/__pv_it/common/bc38b7062774cc3b24ef5e8d35e599851e9b2a5f0/expr.ipynb\"><img src=\"../../../../../../core_expr_types/__pv_it/common/bc38b7062774cc3b24ef5e8d35e599851e9b2a5f0/expr.png\" style=\"display:inline;vertical-align:middle;\" /></a></td></tr>\n",
       "<tr><td>31</td><td>Lambda</td><td>parameter:&nbsp;40<br>body:&nbsp;36<br></td><td><a class=\"ProveItLink\" href=\"../../../../../../core_expr_types/__pv_it/common/eba5dead6140ec223e25e265b736e83e185c334c0/expr.ipynb\"><img src=\"../../../../../../core_expr_types/__pv_it/common/eba5dead6140ec223e25e265b736e83e185c334c0/expr.png\" style=\"display:inline;vertical-align:middle;\" /></a></td></tr>\n",
       "<tr><td>32</td><td>Variable</td><td></td><td><a class=\"ProveItLink\" href=\"../../../../../../__pv_it/common/8968bb04eb3f7dfa02353397ce929b025bbd79c20/expr.ipynb\"><img src=\"../../../../../../__pv_it/common/8968bb04eb3f7dfa02353397ce929b025bbd79c20/expr.png\" style=\"display:inline;vertical-align:middle;\" /></a></td></tr>\n",
       "<tr><td>33</td><td>Lambda</td><td>parameter:&nbsp;40<br>body:&nbsp;37<br></td><td><a class=\"ProveItLink\" href=\"../../../../../../core_expr_types/__pv_it/common/9f0c64ef8ae0c02b5dcba32e0fb15bd29f85872a0/expr.ipynb\"><img src=\"../../../../../../core_expr_types/__pv_it/common/9f0c64ef8ae0c02b5dcba32e0fb15bd29f85872a0/expr.png\" style=\"display:inline;vertical-align:middle;\" /></a></td></tr>\n",
       "<tr><td>34</td><td>Literal</td><td></td><td><a class=\"ProveItLink\" href=\"../../../../../../numbers/numerals/__pv_it/common/2778428c7f555b2bdc06aa0530bc142c6e6335100/expr.ipynb\"><img src=\"../../../../../../numbers/numerals/__pv_it/common/2778428c7f555b2bdc06aa0530bc142c6e6335100/expr.png\" style=\"display:inline;vertical-align:middle;\" /></a></td></tr>\n",
       "<tr><td>35</td><td>Variable</td><td></td><td><a class=\"ProveItLink\" href=\"../../../../../../__pv_it/common/674a03b9c3ca221b3aabd5636837b31528ff33830/expr.ipynb\"><img src=\"../../../../../../__pv_it/common/674a03b9c3ca221b3aabd5636837b31528ff33830/expr.png\" style=\"display:inline;vertical-align:middle;\" /></a></td></tr>\n",
       "<tr><td>36</td><td>IndexedVar</td><td>variable:&nbsp;38<br>index:&nbsp;40<br></td><td><a class=\"ProveItLink\" href=\"../../../../../../core_expr_types/__pv_it/common/ce0e3deabb2d7b0cf29fae3ec1fe2c2fd5d1de600/expr.ipynb\"><img src=\"../../../../../../core_expr_types/__pv_it/common/ce0e3deabb2d7b0cf29fae3ec1fe2c2fd5d1de600/expr.png\" style=\"display:inline;vertical-align:middle;\" /></a></td></tr>\n",
       "<tr><td>37</td><td>IndexedVar</td><td>variable:&nbsp;39<br>index:&nbsp;40<br></td><td><a class=\"ProveItLink\" href=\"../../../../../../core_expr_types/__pv_it/common/ea36c59b79decceeaf696ef762cc9648f9ddbf5c0/expr.ipynb\"><img src=\"../../../../../../core_expr_types/__pv_it/common/ea36c59b79decceeaf696ef762cc9648f9ddbf5c0/expr.png\" style=\"display:inline;vertical-align:middle;\" /></a></td></tr>\n",
       "<tr><td>38</td><td>Variable</td><td></td><td><a class=\"ProveItLink\" href=\"../../../../../../__pv_it/common/ceef4280a2f1cc604b455b54e735507244cc62cd0/expr.ipynb\"><img src=\"../../../../../../__pv_it/common/ceef4280a2f1cc604b455b54e735507244cc62cd0/expr.png\" style=\"display:inline;vertical-align:middle;\" /></a></td></tr>\n",
       "<tr><td>39</td><td>Variable</td><td></td><td><a class=\"ProveItLink\" href=\"../../../../../../__pv_it/common/c06c606ec12678c58933ac85412ecadc2ae28be60/expr.ipynb\"><img src=\"../../../../../../__pv_it/common/c06c606ec12678c58933ac85412ecadc2ae28be60/expr.png\" style=\"display:inline;vertical-align:middle;\" /></a></td></tr>\n",
       "<tr><td>40</td><td>Variable</td><td></td><td><a class=\"ProveItLink\" href=\"../../../../../../core_expr_types/__pv_it/common/006c465e50948aa2b52285e2de47974f741255cc0/expr.ipynb\"><img src=\"../../../../../../core_expr_types/__pv_it/common/006c465e50948aa2b52285e2de47974f741255cc0/expr.png\" style=\"display:inline;vertical-align:middle;\" /></a></td></tr>\n",
       "</table>\n"
      ],
      "text/plain": [
       "0. forall_{m, n in Natural} [forall_{a_{1}, ..a_{_a}.., a_{m}, b, c_{1}, ..c_{_a}.., c_{n} | b not-in {a_{1}, ..a_{_a}.., a_{m}}} ({a_{1}, ..a_{_a}.., a_{m}} proper_subset {a_{1}, ..a_{_a}.., a_{m}, b, c_{1}, ..c_{_a}.., c_{n}})]\n",
       "   core type: Operation\n",
       "   operator: 6\n",
       "   operand: 1\n",
       "1. (m, n) -> {forall_{a_{1}, ..a_{_a}.., a_{m}, b, c_{1}, ..c_{_a}.., c_{n} | b not-in {a_{1}, ..a_{_a}.., a_{m}}} ({a_{1}, ..a_{_a}.., a_{m}} proper_subset {a_{1}, ..a_{_a}.., a_{m}, b, c_{1}, ..c_{_a}.., c_{n}}) if m in Natural ,  n in Natural.\n",
       "   core type: Lambda\n",
       "   parameters: 2\\n   body: 3\n",
       "2. (m, n)\n",
       "   core type: ExprTuple\n",
       "   sub-expressions: 35, 32\n",
       "3. {forall_{a_{1}, ..a_{_a}.., a_{m}, b, c_{1}, ..c_{_a}.., c_{n} | b not-in {a_{1}, ..a_{_a}.., a_{m}}} ({a_{1}, ..a_{_a}.., a_{m}} proper_subset {a_{1}, ..a_{_a}.., a_{m}, b, c_{1}, ..c_{_a}.., c_{n}}) if m in Natural ,  n in Natural.\n",
       "   core type: Conditional\n",
       "   value: 4\n",
       "   condition: 5\n",
       "4. forall_{a_{1}, ..a_{_a}.., a_{m}, b, c_{1}, ..c_{_a}.., c_{n} | b not-in {a_{1}, ..a_{_a}.., a_{m}}} ({a_{1}, ..a_{_a}.., a_{m}} proper_subset {a_{1}, ..a_{_a}.., a_{m}, b, c_{1}, ..c_{_a}.., c_{n}})\n",
       "   core type: Operation\n",
       "   operator: 6\n",
       "   operand: 7\n",
       "5. (m in Natural) and (n in Natural)\n",
       "   core type: Operation\n",
       "   operator: 8\n",
       "   operands: 9\n",
       "6. forall\n",
       "   core type: Literal\n",
       "   sub-expressions: \n",
       "7. (a_{1}, ..a_{_a}.., a_{m}, b, c_{1}, ..c_{_a}.., c_{n}) -> {{a_{1}, ..a_{_a}.., a_{m}} proper_subset {a_{1}, ..a_{_a}.., a_{m}, b, c_{1}, ..c_{_a}.., c_{n}} if b not-in {a_{1}, ..a_{_a}.., a_{m}}.\n",
       "   core type: Lambda\n",
       "   parameters: 25\\n   body: 10\n",
       "8. and\n",
       "   core type: Literal\n",
       "   sub-expressions: \n",
       "9. (m in Natural, n in Natural)\n",
       "   core type: ExprTuple\n",
       "   sub-expressions: 11, 12\n",
       "10. {{a_{1}, ..a_{_a}.., a_{m}} proper_subset {a_{1}, ..a_{_a}.., a_{m}, b, c_{1}, ..c_{_a}.., c_{n}} if b not-in {a_{1}, ..a_{_a}.., a_{m}}.\n",
       "    core type: Conditional\n",
       "    value: 13\n",
       "    condition: 14\n",
       "11. m in Natural\n",
       "    core type: Operation\n",
       "    operator: 16\n",
       "    operands: 15\n",
       "12. n in Natural\n",
       "    core type: Operation\n",
       "    operator: 16\n",
       "    operands: 17\n",
       "13. {a_{1}, ..a_{_a}.., a_{m}} proper_subset {a_{1}, ..a_{_a}.., a_{m}, b, c_{1}, ..c_{_a}.., c_{n}}\n",
       "    core type: Operation\n",
       "    operator: 18\n",
       "    operands: 19\n",
       "14. b not-in {a_{1}, ..a_{_a}.., a_{m}}\n",
       "    core type: Operation\n",
       "    operator: 20\n",
       "    operands: 21\n",
       "15. (m, Natural)\n",
       "    core type: ExprTuple\n",
       "    sub-expressions: 35, 22\n",
       "16. in\n",
       "    core type: Literal\n",
       "    sub-expressions: \n",
       "17. (n, Natural)\n",
       "    core type: ExprTuple\n",
       "    sub-expressions: 32, 22\n",
       "18. proper_subset\n",
       "    core type: Literal\n",
       "    sub-expressions: \n",
       "19. ({a_{1}, ..a_{_a}.., a_{m}}, {a_{1}, ..a_{_a}.., a_{m}, b, c_{1}, ..c_{_a}.., c_{n}})\n",
       "    core type: ExprTuple\n",
       "    sub-expressions: 24, 23\n",
       "20. not-in\n",
       "    core type: Literal\n",
       "    sub-expressions: \n",
       "21. (b, {a_{1}, ..a_{_a}.., a_{m}})\n",
       "    core type: ExprTuple\n",
       "    sub-expressions: 28, 24\n",
       "22. Natural\n",
       "    core type: Literal\n",
       "    sub-expressions: \n",
       "23. {a_{1}, ..a_{_a}.., a_{m}, b, c_{1}, ..c_{_a}.., c_{n}}\n",
       "    core type: Operation\n",
       "    operator: 26\n",
       "    operands: 25\n",
       "24. {a_{1}, ..a_{_a}.., a_{m}}\n",
       "    core type: Operation\n",
       "    operator: 26\n",
       "    operands: 27\n",
       "25. (a_{1}, ..a_{_a}.., a_{m}, b, c_{1}, ..c_{_a}.., c_{n})\n",
       "    core type: ExprTuple\n",
       "    sub-expressions: 30, 28, 29\n",
       "26. Set\n",
       "    core type: Literal\n",
       "    sub-expressions: \n",
       "27. (a_{1}, ..a_{_a}.., a_{m})\n",
       "    core type: ExprTuple\n",
       "    sub-expressions: 30\n",
       "28. b\n",
       "    core type: Variable\n",
       "    sub-expressions: \n",
       "29. c_{1}, ..c_{_a}.., c_{n}\n",
       "    core type: ExprRange\n",
       "    lambda_map: 31\n",
       "    start_index: 34\n",
       "    end_index: 32\n",
       "30. a_{1}, ..a_{_a}.., a_{m}\n",
       "    core type: ExprRange\n",
       "    lambda_map: 33\n",
       "    start_index: 34\n",
       "    end_index: 35\n",
       "31. _a -> c_{_a}\n",
       "    core type: Lambda\n",
       "    parameter: 40\n",
       "    body: 36\n",
       "32. n\n",
       "    core type: Variable\n",
       "    sub-expressions: \n",
       "33. _a -> a_{_a}\n",
       "    core type: Lambda\n",
       "    parameter: 40\n",
       "    body: 37\n",
       "34. 1\n",
       "    core type: Literal\n",
       "    sub-expressions: \n",
       "35. m\n",
       "    core type: Variable\n",
       "    sub-expressions: \n",
       "36. c_{_a}\n",
       "    core type: IndexedVar\n",
       "variable: 38\n",
       "index: 40\n",
       "37. a_{_a}\n",
       "    core type: IndexedVar\n",
       "variable: 39\n",
       "index: 40\n",
       "38. c\n",
       "    core type: Variable\n",
       "    sub-expressions: \n",
       "39. a\n",
       "    core type: Variable\n",
       "    sub-expressions: \n",
       "40. _a\n",
       "    core type: Variable\n",
       "    sub-expressions: "
      ]
     },
     "execution_count": 5,
     "metadata": {},
     "output_type": "execute_result"
    }
   ],
   "source": [
    "# display the expression information\n",
    "expr.expr_info()"
   ]
  },
  {
   "cell_type": "code",
   "execution_count": null,
   "metadata": {},
   "outputs": [],
   "source": []
  }
 ],
 "metadata": {
  "kernelspec": {
   "display_name": "Python 3",
   "language": "python",
   "name": "python3"
  }
 },
 "nbformat": 4,
 "nbformat_minor": 0
}