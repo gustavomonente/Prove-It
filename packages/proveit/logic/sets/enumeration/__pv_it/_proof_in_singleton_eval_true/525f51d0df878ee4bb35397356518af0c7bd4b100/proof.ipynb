{
 "cells": [
  {
   "cell_type": "markdown",
   "metadata": {},
   "source": [
    "Show the Proof\n",
    "========"
   ]
  },
  {
   "cell_type": "code",
   "execution_count": 1,
   "metadata": {},
   "outputs": [
    {
     "data": {
      "text/html": [
       "<table><tr><th>&nbsp;</th><th>step type</th><th>requirements</th><th>statement</th></tr>\n",
       "<tr><td><a name=\"proveit.logic.sets.enumeration._proof_in_singleton_eval_true.525f51d0df878ee4bb35397356518af0c7bd4b100_step0\">0</a></td><td>instantiation</td><td><a href=\"#proveit.logic.sets.enumeration._proof_in_singleton_eval_true.525f51d0df878ee4bb35397356518af0c7bd4b100_step1\">1</a>, <a href=\"#proveit.logic.sets.enumeration._proof_in_singleton_eval_true.525f51d0df878ee4bb35397356518af0c7bd4b100_step2\">2</a></td><td><span style=\"font-size:20px;\"><a class=\"ProveItLink\" href=\"../../../../../equality/__pv_it/theorems/a6d028e83ce4b7fcedd4d350db3e7291f14a07460/expr.ipynb\"><img src=\"../../../../../equality/__pv_it/theorems/a6d028e83ce4b7fcedd4d350db3e7291f14a07460/expr.png\" style=\"display:inline;vertical-align:middle;\" /></a> <a class=\"ProveItLink\" href=\"proof.ipynb\" style=\"text-decoration: none\">&nbsp;&#x22A2;&nbsp;&nbsp;</a><a class=\"ProveItLink\" href=\"../7851e7e41aca512aacd9ab6999f96603afc60b9f0/expr.ipynb\"><img src=\"../7851e7e41aca512aacd9ab6999f96603afc60b9f0/expr.png\" style=\"display:inline;vertical-align:middle;\" /></a></span></td></tr>\n",
       "<tr><td>&nbsp;</td><td colspan=4 style=\"text-align:left\"><span style=\"font-size:20px;\"><a class=\"ProveItLink\" href=\"../../../../../../__pv_it/common/e4aad701f7f5516d8e7f0d805d518bf02c13322a0/expr.ipynb\"><img src=\"../../../../../../__pv_it/common/e4aad701f7f5516d8e7f0d805d518bf02c13322a0/expr.png\" style=\"display:inline;vertical-align:middle;\" /></a> : <a class=\"ProveItLink\" href=\"../../../../../equality/__pv_it/theorems/a6d028e83ce4b7fcedd4d350db3e7291f14a07460/expr.ipynb\"><img src=\"../../../../../equality/__pv_it/theorems/a6d028e83ce4b7fcedd4d350db3e7291f14a07460/expr.png\" style=\"display:inline;vertical-align:middle;\" /></a></span></td></tr><tr><td><a name=\"proveit.logic.sets.enumeration._proof_in_singleton_eval_true.525f51d0df878ee4bb35397356518af0c7bd4b100_step1\">1</a></td><td>axiom</td><td></td><td><span style=\"font-size:20px;\"> <a class=\"ProveItLink\" href=\"../../../../../booleans/_theory_nbs_/axioms.ipynb#eq_true_intro\" style=\"text-decoration: none\">&nbsp;&#x22A2;&nbsp;&nbsp;</a><a class=\"ProveItLink\" href=\"../../../../../booleans/__pv_it/axioms/3a99d3cb7c410f4636cdc59f7b36cdf6997b37680/expr.ipynb\"><img src=\"../../../../../booleans/__pv_it/axioms/3a99d3cb7c410f4636cdc59f7b36cdf6997b37680/expr.png\" style=\"display:inline;vertical-align:middle;\" /></a></span></td></tr>\n",
       "<tr><td>&nbsp;</td><td colspan=4 style-\"text-align:left\"><a class=\"ProveItLink\" href=\"../../../../../booleans/_theory_nbs_/axioms.ipynb#eq_true_intro\">proveit.logic.booleans.eq_true_intro</a></td></tr><tr><td><a name=\"proveit.logic.sets.enumeration._proof_in_singleton_eval_true.525f51d0df878ee4bb35397356518af0c7bd4b100_step2\">2</a></td><td>assumption</td><td></td><td><span style=\"font-size:20px;\"><a class=\"ProveItLink\" href=\"../../../../../equality/__pv_it/theorems/a6d028e83ce4b7fcedd4d350db3e7291f14a07460/expr.ipynb\"><img src=\"../../../../../equality/__pv_it/theorems/a6d028e83ce4b7fcedd4d350db3e7291f14a07460/expr.png\" style=\"display:inline;vertical-align:middle;\" /></a> <a class=\"ProveItLink\" href=\"../9a84b72c054f8dae6eb88f54b4486731de6917850/proof.ipynb\" style=\"text-decoration: none\">&nbsp;&#x22A2;&nbsp;&nbsp;</a><a class=\"ProveItLink\" href=\"../../../../../equality/__pv_it/theorems/a6d028e83ce4b7fcedd4d350db3e7291f14a07460/expr.ipynb\"><img src=\"../../../../../equality/__pv_it/theorems/a6d028e83ce4b7fcedd4d350db3e7291f14a07460/expr.png\" style=\"display:inline;vertical-align:middle;\" /></a></span></td></tr>\n",
       "</table>"
      ],
      "text/plain": [
       "<proveit._core_.proof._ShowProof at 0x7f92f84ca828>"
      ]
     },
     "execution_count": 1,
     "metadata": {},
     "output_type": "execute_result"
    }
   ],
   "source": [
    "import proveit\n",
    "# Automation is not needed when only showing a stored proof:\n",
    "proveit.defaults.automation = False # This will speed things up.\n",
    "proveit.defaults.inline_pngs = False # Makes files smaller.\n",
    "%show_proof"
   ]
  },
  {
   "cell_type": "code",
   "execution_count": null,
   "metadata": {},
   "outputs": [],
   "source": []
  }
 ],
 "metadata": {
  "kernelspec": {
   "display_name": "Python 3",
   "language": "python",
   "name": "python3"
  },
  "language_info": {
   "codemirror_mode": {
    "name": "ipython",
    "version": 3
   },
   "file_extension": ".py",
   "mimetype": "text/x-python",
   "name": "python",
   "nbconvert_exporter": "python",
   "pygments_lexer": "ipython3",
   "version": "3.7.3"
  }
 },
 "nbformat": 4,
 "nbformat_minor": 1
}