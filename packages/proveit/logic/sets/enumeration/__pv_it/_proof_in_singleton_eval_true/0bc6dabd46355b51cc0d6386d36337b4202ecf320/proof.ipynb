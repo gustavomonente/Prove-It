{
 "cells": [
  {
   "cell_type": "markdown",
   "metadata": {},
   "source": [
    "Show the Proof\n",
    "========"
   ]
  },
  {
   "cell_type": "code",
   "execution_count": 1,
   "metadata": {},
   "outputs": [
    {
     "data": {
      "text/html": [
       "<table><tr><th>&nbsp;</th><th>step type</th><th>requirements</th><th>statement</th></tr>\n",
       "<tr><td><a name=\"proveit.logic.sets.enumeration._proof_in_singleton_eval_true.0bc6dabd46355b51cc0d6386d36337b4202ecf320_step0\">0</a></td><td>generalizaton</td><td><a href=\"#proveit.logic.sets.enumeration._proof_in_singleton_eval_true.0bc6dabd46355b51cc0d6386d36337b4202ecf320_step1\">1</a></td><td><span style=\"font-size:20px;\"> <a class=\"ProveItLink\" href=\"proof.ipynb\" style=\"text-decoration: none\">&nbsp;&#x22A2;&nbsp;&nbsp;</a><a class=\"ProveItLink\" href=\"../../theorems/c1024f82362d33db7531f5e09e9eb62988c7f6480/expr.ipynb\"><img src=\"../../theorems/c1024f82362d33db7531f5e09e9eb62988c7f6480/expr.png\" style=\"display:inline;vertical-align:middle;\" /></a></span></td></tr>\n",
       "<tr><td><a name=\"proveit.logic.sets.enumeration._proof_in_singleton_eval_true.0bc6dabd46355b51cc0d6386d36337b4202ecf320_step1\">1</a></td><td>instantiation</td><td><a href=\"#proveit.logic.sets.enumeration._proof_in_singleton_eval_true.0bc6dabd46355b51cc0d6386d36337b4202ecf320_step2\">2</a>, <a href=\"#proveit.logic.sets.enumeration._proof_in_singleton_eval_true.0bc6dabd46355b51cc0d6386d36337b4202ecf320_step3\">3</a>, <a href=\"#proveit.logic.sets.enumeration._proof_in_singleton_eval_true.0bc6dabd46355b51cc0d6386d36337b4202ecf320_step4\">4</a></td><td><span style=\"font-size:20px;\"><a class=\"ProveItLink\" href=\"../../theorems/4c5fddb2997f6af0cc3be30e98efa89f8d0609040/expr.ipynb\"><img src=\"../../theorems/4c5fddb2997f6af0cc3be30e98efa89f8d0609040/expr.png\" style=\"display:inline;vertical-align:middle;\" /></a> <a class=\"ProveItLink\" href=\"../d534a1065e0f704b0d09babffa33097cdb2b8a460/proof.ipynb\" style=\"text-decoration: none\">&nbsp;&#x22A2;&nbsp;&nbsp;</a><a class=\"ProveItLink\" href=\"../../theorems/7f0cf56b61833803bc35cdc83c668c239b0593340/expr.ipynb\"><img src=\"../../theorems/7f0cf56b61833803bc35cdc83c668c239b0593340/expr.png\" style=\"display:inline;vertical-align:middle;\" /></a></span></td></tr>\n",
       "<tr><td>&nbsp;</td><td colspan=4 style=\"text-align:left\"><span style=\"font-size:20px;\"><a class=\"ProveItLink\" href=\"../24158abeeef499d6a6e1879eb4a1d2f5cc086ef30/expr.ipynb\"><img src=\"../24158abeeef499d6a6e1879eb4a1d2f5cc086ef30/expr.png\" style=\"display:inline;vertical-align:middle;\" /></a> : <a class=\"ProveItLink\" href=\"../f6dcdc5371688d3e6333f75c8f6f30e070041e6c0/expr.ipynb\"><img src=\"../f6dcdc5371688d3e6333f75c8f6f30e070041e6c0/expr.png\" style=\"display:inline;vertical-align:middle;\" /></a>, <a class=\"ProveItLink\" href=\"../../../../../../__pv_it/common/a2581dc5df71d9a30bad37de14965fa5fec97a240/expr.ipynb\"><img src=\"../../../../../../__pv_it/common/a2581dc5df71d9a30bad37de14965fa5fec97a240/expr.png\" style=\"display:inline;vertical-align:middle;\" /></a> : <a class=\"ProveItLink\" href=\"../../theorems/bf8d66c4faf3bf65b7e7642871b903e1566576b20/expr.ipynb\"><img src=\"../../theorems/bf8d66c4faf3bf65b7e7642871b903e1566576b20/expr.png\" style=\"display:inline;vertical-align:middle;\" /></a>, <a class=\"ProveItLink\" href=\"../../../../../../__pv_it/common/0f21cbfd5644a1cae6781c1d58354abc2ffbc9000/expr.ipynb\"><img src=\"../../../../../../__pv_it/common/0f21cbfd5644a1cae6781c1d58354abc2ffbc9000/expr.png\" style=\"display:inline;vertical-align:middle;\" /></a> : <a class=\"ProveItLink\" href=\"../../theorems/4c5fddb2997f6af0cc3be30e98efa89f8d0609040/expr.ipynb\"><img src=\"../../theorems/4c5fddb2997f6af0cc3be30e98efa89f8d0609040/expr.png\" style=\"display:inline;vertical-align:middle;\" /></a></span></td></tr><tr><td><a name=\"proveit.logic.sets.enumeration._proof_in_singleton_eval_true.0bc6dabd46355b51cc0d6386d36337b4202ecf320_step2\">2</a></td><td>theorem</td><td></td><td><span style=\"font-size:20px;\"> <a class=\"ProveItLink\" href=\"../../../../../equality/_theory_nbs_/proofs/sub_left_side_into/thm_proof.ipynb\" style=\"text-decoration: none\">&nbsp;&#x22A2;&nbsp;&nbsp;</a><a class=\"ProveItLink\" href=\"../../../../../equality/__pv_it/theorems/75144010233a3c81a15f68a7971ea51ab0e7a18c0/expr.ipynb\"><img src=\"../../../../../equality/__pv_it/theorems/75144010233a3c81a15f68a7971ea51ab0e7a18c0/expr.png\" style=\"display:inline;vertical-align:middle;\" /></a></span></td></tr>\n",
       "<tr><td>&nbsp;</td><td colspan=4 style-\"text-align:left\"><a class=\"ProveItLink\" href=\"../../../../../equality/_theory_nbs_/proofs/sub_left_side_into/thm_proof.ipynb\">proveit.logic.equality.sub_left_side_into</a></td></tr><tr><td><a name=\"proveit.logic.sets.enumeration._proof_in_singleton_eval_true.0bc6dabd46355b51cc0d6386d36337b4202ecf320_step3\">3</a></td><td>instantiation</td><td><a href=\"#proveit.logic.sets.enumeration._proof_in_singleton_eval_true.0bc6dabd46355b51cc0d6386d36337b4202ecf320_step5\">5</a>, <a href=\"#proveit.logic.sets.enumeration._proof_in_singleton_eval_true.0bc6dabd46355b51cc0d6386d36337b4202ecf320_step6\">6</a></td><td><span style=\"font-size:20px;\"><a class=\"ProveItLink\" href=\"../../theorems/4c5fddb2997f6af0cc3be30e98efa89f8d0609040/expr.ipynb\"><img src=\"../../theorems/4c5fddb2997f6af0cc3be30e98efa89f8d0609040/expr.png\" style=\"display:inline;vertical-align:middle;\" /></a> <a class=\"ProveItLink\" href=\"../525f51d0df878ee4bb35397356518af0c7bd4b100/proof.ipynb\" style=\"text-decoration: none\">&nbsp;&#x22A2;&nbsp;&nbsp;</a><a class=\"ProveItLink\" href=\"../7851e7e41aca512aacd9ab6999f96603afc60b9f0/expr.ipynb\"><img src=\"../7851e7e41aca512aacd9ab6999f96603afc60b9f0/expr.png\" style=\"display:inline;vertical-align:middle;\" /></a></span></td></tr>\n",
       "<tr><td>&nbsp;</td><td colspan=4 style=\"text-align:left\"><span style=\"font-size:20px;\"><a class=\"ProveItLink\" href=\"../../../../../../__pv_it/common/e4aad701f7f5516d8e7f0d805d518bf02c13322a0/expr.ipynb\"><img src=\"../../../../../../__pv_it/common/e4aad701f7f5516d8e7f0d805d518bf02c13322a0/expr.png\" style=\"display:inline;vertical-align:middle;\" /></a> : <a class=\"ProveItLink\" href=\"../../theorems/4c5fddb2997f6af0cc3be30e98efa89f8d0609040/expr.ipynb\"><img src=\"../../theorems/4c5fddb2997f6af0cc3be30e98efa89f8d0609040/expr.png\" style=\"display:inline;vertical-align:middle;\" /></a></span></td></tr><tr><td><a name=\"proveit.logic.sets.enumeration._proof_in_singleton_eval_true.0bc6dabd46355b51cc0d6386d36337b4202ecf320_step4\">4</a></td><td>instantiation</td><td><a href=\"#proveit.logic.sets.enumeration._proof_in_singleton_eval_true.0bc6dabd46355b51cc0d6386d36337b4202ecf320_step7\">7</a></td><td><span style=\"font-size:20px;\"> <a class=\"ProveItLink\" href=\"../8af462e9411b2977f52c1bb5b8d55c1509237a880/proof.ipynb\" style=\"text-decoration: none\">&nbsp;&#x22A2;&nbsp;&nbsp;</a><a class=\"ProveItLink\" href=\"../../theorems/b66424ce8fcfa781c3c7961cf917edeab2e6fe110/expr.ipynb\"><img src=\"../../theorems/b66424ce8fcfa781c3c7961cf917edeab2e6fe110/expr.png\" style=\"display:inline;vertical-align:middle;\" /></a></span></td></tr>\n",
       "<tr><td>&nbsp;</td><td colspan=4 style=\"text-align:left\"><span style=\"font-size:20px;\"><a class=\"ProveItLink\" href=\"../../../../../../__pv_it/common/a2581dc5df71d9a30bad37de14965fa5fec97a240/expr.ipynb\"><img src=\"../../../../../../__pv_it/common/a2581dc5df71d9a30bad37de14965fa5fec97a240/expr.png\" style=\"display:inline;vertical-align:middle;\" /></a> : <a class=\"ProveItLink\" href=\"../../../../../../__pv_it/common/a2581dc5df71d9a30bad37de14965fa5fec97a240/expr.ipynb\"><img src=\"../../../../../../__pv_it/common/a2581dc5df71d9a30bad37de14965fa5fec97a240/expr.png\" style=\"display:inline;vertical-align:middle;\" /></a>, <a class=\"ProveItLink\" href=\"../../../../../../__pv_it/common/0f21cbfd5644a1cae6781c1d58354abc2ffbc9000/expr.ipynb\"><img src=\"../../../../../../__pv_it/common/0f21cbfd5644a1cae6781c1d58354abc2ffbc9000/expr.png\" style=\"display:inline;vertical-align:middle;\" /></a> : <a class=\"ProveItLink\" href=\"../../../../../../__pv_it/common/0f21cbfd5644a1cae6781c1d58354abc2ffbc9000/expr.ipynb\"><img src=\"../../../../../../__pv_it/common/0f21cbfd5644a1cae6781c1d58354abc2ffbc9000/expr.png\" style=\"display:inline;vertical-align:middle;\" /></a></span></td></tr><tr><td><a name=\"proveit.logic.sets.enumeration._proof_in_singleton_eval_true.0bc6dabd46355b51cc0d6386d36337b4202ecf320_step5\">5</a></td><td>axiom</td><td></td><td><span style=\"font-size:20px;\"> <a class=\"ProveItLink\" href=\"../../../../../booleans/_theory_nbs_/axioms.ipynb#eq_true_intro\" style=\"text-decoration: none\">&nbsp;&#x22A2;&nbsp;&nbsp;</a><a class=\"ProveItLink\" href=\"../../../../../booleans/__pv_it/axioms/3a99d3cb7c410f4636cdc59f7b36cdf6997b37680/expr.ipynb\"><img src=\"../../../../../booleans/__pv_it/axioms/3a99d3cb7c410f4636cdc59f7b36cdf6997b37680/expr.png\" style=\"display:inline;vertical-align:middle;\" /></a></span></td></tr>\n",
       "<tr><td>&nbsp;</td><td colspan=4 style-\"text-align:left\"><a class=\"ProveItLink\" href=\"../../../../../booleans/_theory_nbs_/axioms.ipynb#eq_true_intro\">proveit.logic.booleans.eq_true_intro</a></td></tr><tr><td><a name=\"proveit.logic.sets.enumeration._proof_in_singleton_eval_true.0bc6dabd46355b51cc0d6386d36337b4202ecf320_step6\">6</a></td><td>assumption</td><td></td><td><span style=\"font-size:20px;\"><a class=\"ProveItLink\" href=\"../../theorems/4c5fddb2997f6af0cc3be30e98efa89f8d0609040/expr.ipynb\"><img src=\"../../theorems/4c5fddb2997f6af0cc3be30e98efa89f8d0609040/expr.png\" style=\"display:inline;vertical-align:middle;\" /></a> <a class=\"ProveItLink\" href=\"../9a84b72c054f8dae6eb88f54b4486731de6917850/proof.ipynb\" style=\"text-decoration: none\">&nbsp;&#x22A2;&nbsp;&nbsp;</a><a class=\"ProveItLink\" href=\"../../theorems/4c5fddb2997f6af0cc3be30e98efa89f8d0609040/expr.ipynb\"><img src=\"../../theorems/4c5fddb2997f6af0cc3be30e98efa89f8d0609040/expr.png\" style=\"display:inline;vertical-align:middle;\" /></a></span></td></tr>\n",
       "<tr><td><a name=\"proveit.logic.sets.enumeration._proof_in_singleton_eval_true.0bc6dabd46355b51cc0d6386d36337b4202ecf320_step7\">7</a></td><td>theorem</td><td></td><td><span style=\"font-size:20px;\"> <a class=\"ProveItLink\" href=\"../../../_theory_nbs_/proofs/singleton_def/thm_proof.ipynb\" style=\"text-decoration: none\">&nbsp;&#x22A2;&nbsp;&nbsp;</a><a class=\"ProveItLink\" href=\"../../theorems/84c6a5455435a3da8bb5a4fc9c1bc50e2bcca1330/expr.ipynb\"><img src=\"../../theorems/84c6a5455435a3da8bb5a4fc9c1bc50e2bcca1330/expr.png\" style=\"display:inline;vertical-align:middle;\" /></a></span></td></tr>\n",
       "<tr><td>&nbsp;</td><td colspan=4 style-\"text-align:left\"><a class=\"ProveItLink\" href=\"../../../_theory_nbs_/proofs/singleton_def/thm_proof.ipynb\">proveit.logic.sets.enumeration.singleton_def</a></td></tr></table>"
      ],
      "text/plain": [
       "<proveit._core_.proof._ShowProof at 0x7f5c81e022e8>"
      ]
     },
     "execution_count": 1,
     "metadata": {},
     "output_type": "execute_result"
    }
   ],
   "source": [
    "import proveit\n",
    "# Automation is not needed when only showing a stored proof:\n",
    "proveit.defaults.automation = False # This will speed things up.\n",
    "proveit.defaults.inline_pngs = False # Makes files smaller.\n",
    "%show_proof"
   ]
  },
  {
   "cell_type": "code",
   "execution_count": null,
   "metadata": {},
   "outputs": [],
   "source": []
  }
 ],
 "metadata": {
  "kernelspec": {
   "display_name": "Python 3",
   "language": "python",
   "name": "python3"
  },
  "language_info": {
   "codemirror_mode": {
    "name": "ipython",
    "version": 3
   },
   "file_extension": ".py",
   "mimetype": "text/x-python",
   "name": "python",
   "nbconvert_exporter": "python",
   "pygments_lexer": "ipython3",
   "version": "3.7.3"
  }
 },
 "nbformat": 4,
 "nbformat_minor": 1
}