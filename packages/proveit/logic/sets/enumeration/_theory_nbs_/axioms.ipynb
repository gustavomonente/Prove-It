{
 "cells": [
  {
   "cell_type": "markdown",
   "metadata": {},
   "source": [
    "Axioms for the theory of <a class=\"ProveItLink\" href=\"theory.ipynb\">proveit.logic.sets.enumeration</a>\n",
    "========"
   ]
  },
  {
   "cell_type": "code",
   "execution_count": 1,
   "metadata": {},
   "outputs": [
    {
     "name": "stdout",
     "output_type": "stream",
     "text": [
      "Defining axioms for theory 'proveit.logic.sets.enumeration'\n",
      "Subsequent end-of-cell assignments will define axioms\n",
      "%end_axioms will finalize the definitions\n"
     ]
    }
   ],
   "source": [
    "import proveit\n",
    "# Prepare this notebook for defining the axioms of a theory:\n",
    "%axioms_notebook # Keep this at the top following 'import proveit'.\n",
    "from proveit import n, x\n",
    "from proveit.logic import Forall, Equals, InSet, Set, EmptySet\n",
    "from proveit.core_expr_types import y_1_to_n\n",
    "from proveit.logic.sets import x_equals_any_y\n",
    "from proveit.numbers import Natural\n",
    "%begin axioms"
   ]
  },
  {
   "cell_type": "markdown",
   "metadata": {},
   "source": [
    "**Membership in an enumeration is the same as being equal to any of the contents of the enumeration:**"
   ]
  },
  {
   "cell_type": "code",
   "execution_count": 2,
   "metadata": {},
   "outputs": [
    {
     "data": {
      "text/html": [
       "<strong id=\"enum_set_def\">enum_set_def:</strong> <a class=\"ProveItLink\" href=\"../__pv_it/axioms/c7ea2c7ee6f092568d3abec90cc25cca617e2e5e0/axiom_expr.ipynb\"><img src=\"data:image/png;base64,iVBORw0KGgoAAAANSUhEUgAAAeAAAAAyBAMAAAB2exU2AAAAMFBMVEX///8QEBCIiIhmZma6urrM\n",
       "zMxUVFQiIiJERETc3Nzu7u6qqqp2dnaYmJgyMjIAAAAcRTyBAAAAAXRSTlMAQObYZgAAB5RJREFU\n",
       "aN7dWmtsFFUUPrs7s4/Z2dIYX0DUoU2QEE03RPQHUFpMIEaFXUxIf2i6qRCCMWQNaAERKyoUX1n0\n",
       "h1BTOxJSAz4okkYlEheKMcEHG4rRHwibACYSJAsUAwXEO/fe2Z07c3d2dsokqzfpvHr6zf3uPffc\n",
       "c74OgG2758Y1cNcOQg01KUXOh2+cr2A5cWuPu1fIWSdWsVnVYIrTVLeM55PTjq27Kxje5vYNk9nb\n",
       "Xv7An60OVEDdiWbcdCeWpxdJjwhH61lmXfxuFKqEbUY/y1x16C2PCX/UwtzW8adFTlcJ+z36+XxM\n",
       "HfKK8Kvs7TDcPMKyMhaX84hwdJS9X83c/dbZmXdPWKp31aW1nhIOxZnbCEOsbeqYZhhOuerStxkv\n",
       "CZ9g16wf8Zcals05gAPYGcalt02DyAQ7LKPBfu0wNJY58IjwKvY2nAP4FH5V1mk3wdJgBJFnZ1vB\n",
       "X4C28ljEgA6kdjiOx+ocbnHnG9Ooh4TFEdPoDgAcgsPqI5h96fnuBEQGmiHc9cRDZbGIgR7tNYJf\n",
       "uku2LnhIOGCKKz60J6jQTcOGNjM4aLWhWCbBLTBOgXnlO0oMaFuKrtrded05Dwn7UlbCAGSIYUvp\n",
       "eWsCZU+j0J6wIUwN6AxrwC4JN2W8I9yes7o0iJco+9LzIHLVQB4mgR1hbDD8S0NcX8PzDGs45bxT\n",
       "fTnvCDdlrEFrL4o8eD8KKEyUDqdggy1hbHD0LhivR+njMAa384bwK+aMKg7C1XAhQib+RYZwICVc\n",
       "x4Slf4AeduUNF9ggsi0No/o+PNMd4XCaEMbh43cbwvYG3HaneRmmQeqY2khB+l9TDYSljsYrZIY7\n",
       "tccvaCsgpV+sAWoQVIR6nfBplwVrgRD+QTudsSFsb8ANrBfNT9jU8rGNTGqJFikmHLVWu3v1VexL\n",
       "BLIJmlqm3RGOXSKEtaAZ6bIhbG/A3YYvmJ+UKx7QrC2HXS1kb5U5SQdQgz4IPZoYS/Gg9yoJdWhc\n",
       "5QEbwvYG3NLhqmX9ZMrWwy/BeoD3Xu5AOaTVVTRu2GAu+H+i9bC78lD3uyTEDu3c+b5d0LI3KO88\n",
       "DgQAOAswp1HfZHNWIO1QMgDhVnTY5FaE+ZtG6cvd3Wtto7StAa/5r1ge9Zbxheo1rVjGLeHLlPAS\n",
       "u0HTCC+pdlTlUajFdjcl/DBIeeMwrjgIk1JGwiYDB6l0bRK+gxIOgb+4ej4ZmgVfyWpANRI2Gjhq\n",
       "wUJNEn6OEpZzoWKQeLNHhX1KXGZc2mDwvyAcyS/SFPGFjZrzojY4+C5LGBvAgemTtdpmMoQs+cGc\n",
       "FKz5D7h0p55Lb1qMCLfmfBmSRQ7Knz3J5tKagV9dHkIJgjxOTULQRDk7KjIFsMyP0r0Vdm/H4bcX\n",
       "KiNx0PSgBXtQrtZzL4xTJSyYDEJ2iCWsGYjwl3bZMw+miPtZwpHtaT+zz/q5+7BUKVtzqrBXBMJI\n",
       "VrTbdcJYT+iAVhBXdXevR4R7QyxhIjiQaZuJLM1OHcgGmXQvNmJ+lybE11WaQZJC4SxDtO7BpV9W\n",
       "BMJI1oTsok44pmJmM0VIkRkWFrKEsYFYwO9ciR6ZCYdafInhfcdKLjXCy6WHK27feNSWaIcj1kCo\n",
       "cY0p4AQII1lSbumasR6OFGDlIHynXR4FOGath/vkvAxbVHheKGDCW9TIG/iATqHEAviiq+QW4nVe\n",
       "tbS6oqviQKAFSDYGEkxtMshIrwYnSBa9Xi8eaJaagvtyEEY1grCuBYJWwv1HDxyC5ADMnZLH700O\n",
       "iOMhmRHHixNB6HgHzUCbyXmMqzxtFuO57ZTusAJHff0T6C7iAAgjneKWNCbFYwpaw3aKx4CUCefI\n",
       "QBfrpyjsgLdRdnJ/S9FsnTm5jpvEeEMz6Ow4Vkbj/OJqj143lAGSGhXYrK+1IbDq9WTvqE7iiWaC\n",
       "2fkgNs0whv2v4VkhD/3wTSkdmw1WTYsR43/GCtxJvKeVhHgiVqEJ5MnyaMWIXToYB0gW6qFJNz7O\n",
       "kb6CheoJx0A4ljVUbrSqe/xH01+dUK2qJSPGG7zdIMQThb0BYDGvBFMg2KKDcYA+COR15ZsgmfV6\n",
       "X5eHMq1JL9B0aUaMN3iiQYgngvPH/FpFStOdpgyQ6lOgqLS0g1W+7lO8I8wT4hkx3ijwlYR40sXA\n",
       "AF9fmUHUtbJAC1Txkh1hL4X4QIHv0kUxniy9P6hCpwvxRJyO5Pm1yoeQLoLxgJrBX09KAoJklro3\n",
       "gneEhRF+0CqK8cbflYR4GmZeP8LXlZ9SimA8oA0IipQE/KDl5T/TYIVpR4ibxXiDN+hCfFFhX0TS\n",
       "DlaTR5O6VNXBuEAPwoIcLgkokkmv93v571JzmBbSZjHeEIyKQryusNfRtIPR5FE7WQTjAvU3zM7g\n",
       "koAinebGFY8I+7JVpJa6EK8r7BGVb9djAOO2ZloSYCSzXu/tJw/mj1psigeDEK84A+cDBfPSCC0J\n",
       "uMUD9Q+vPls6aQo4mbJifEmId6qw84FCubBCSwJeeRid4C3hzQmnAkBJZ3eqBfOBhIbpxetNVjSv\n",
       "P0yLpquWeGI3TeLRkMxoT4O3hNEmUVMt1uWQsOvPh4NKTRF2/Pmw+w/EH6glvtIz5Hz4xvl/ARx7\n",
       "Q2J1NQsZAAAAAElFTkSuQmCC\n",
       "\" style=\"display:inline;vertical-align:middle;\" /></a><br>"
      ],
      "text/plain": [
       "enum_set_def: forall_{n in Natural} [forall_{x, y_{1}, ..y_{_a}.., y_{n}} ((x in {y_{1}, ..y_{_a}.., y_{n}}) =  \\\\ ((x = y_{1}) or ..(x = y_{i}).. or (x = y_{n})))]"
      ]
     },
     "execution_count": 2,
     "metadata": {},
     "output_type": "execute_result"
    }
   ],
   "source": [
    "enum_set_def = Forall(n, Forall((x, y_1_to_n), \n",
    "                              Equals(InSet(x, Set(y_1_to_n)), \n",
    "                                     x_equals_any_y).with_wrapping_at(2)),\n",
    "                   domain=Natural)"
   ]
  },
  {
   "cell_type": "markdown",
   "metadata": {},
   "source": [
    "**Define the empty set as an enumerated set with no elements.**"
   ]
  },
  {
   "cell_type": "code",
   "execution_count": 3,
   "metadata": {},
   "outputs": [
    {
     "data": {
      "text/html": [
       "<strong id=\"empty_set_def\">empty_set_def:</strong> <a class=\"ProveItLink\" href=\"../__pv_it/axioms/a5415422708e4dbe31497d99a61b1310c2cc3e830/axiom_expr.ipynb\"><img src=\"data:image/png;base64,iVBORw0KGgoAAAANSUhEUgAAADoAAAAVBAMAAADlb+D4AAAAMFBMVEX////MzMwQEBDu7u66urpm\n",
       "ZmaYmJhUVFQiIiLc3NwyMjKIiIh2dnaqqqpEREQAAABVi3StAAAAAXRSTlMAQObYZgAAANRJREFU\n",
       "KM9jYGBg4GPAAKkJDKKbQQze0+cwJK0OAAknASBxmmEXhmw+iGBdwMDA2cDwfAO67AkQwdPAwMAW\n",
       "wNDSgFOWbwNL8GecskwJrM4fccryX+Bg+IJdVgEkO4/hL4i9CgwCwLJVIILtA1A2YRtYFhnwKoKp\n",
       "pSB7F6ObzPhiAphm72bg2LyAGd1VLBC9y4EKzh5g/ICwtwAsXgezl+25ANsDnG5m6GDgcsDpX4Yb\n",
       "k08z4JY95jYBj+wFzLhnOASXxQbg8YsVcIHThgMOWYarkHQFANuAQxxgY/+kAAAAAElFTkSuQmCC\n",
       "\" style=\"display:inline;vertical-align:middle;\" /></a><br>"
      ],
      "text/plain": [
       "empty_set_def: emptyset = {}"
      ]
     },
     "execution_count": 3,
     "metadata": {},
     "output_type": "execute_result"
    }
   ],
   "source": [
    "empty_set_def = Equals(EmptySet, Set())"
   ]
  },
  {
   "cell_type": "code",
   "execution_count": 4,
   "metadata": {},
   "outputs": [],
   "source": [
    "#\n",
    "# might need an axiom here:\n",
    "# if 2 enum sets are SetEquiv then they are equal\n",
    "# see some hard-copy notes/comments from project meeting 2/07/2020"
   ]
  },
  {
   "cell_type": "code",
   "execution_count": null,
   "metadata": {},
   "outputs": [],
   "source": []
  },
  {
   "cell_type": "code",
   "execution_count": 5,
   "metadata": {},
   "outputs": [
    {
     "name": "stdout",
     "output_type": "stream",
     "text": [
      "These axioms may now be imported from the theory package: proveit.logic.sets.enumeration\n"
     ]
    }
   ],
   "source": [
    "%end axioms"
   ]
  },
  {
   "cell_type": "code",
   "execution_count": null,
   "metadata": {},
   "outputs": [],
   "source": []
  }
 ],
 "metadata": {
  "kernelspec": {
   "display_name": "Python 3",
   "language": "python",
   "name": "python3"
  }
 },
 "nbformat": 4,
 "nbformat_minor": 0
}