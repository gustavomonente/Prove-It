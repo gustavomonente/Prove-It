{
 "cells": [
  {
   "cell_type": "markdown",
   "metadata": {},
   "source": [
    "Demonstrations for the theory of <a class=\"ProveItLink\" href=\"theory.ipynb\">proveit.logic.sets.enumeration</a>\n",
    "========"
   ]
  },
  {
   "cell_type": "code",
   "execution_count": 1,
   "metadata": {},
   "outputs": [],
   "source": [
    "import proveit\n",
    "from proveit import ExprRange, InstantiationFailure, ProofFailure, used_vars, free_vars\n",
    "from proveit import a, b, c, d, e, i, l, m, n, x, y\n",
    "from proveit import A, B, C, D, E\n",
    "from proveit.logic import Boolean, TRUE, FALSE\n",
    "from proveit.logic import (Equals, Forall, InSet, NotEquals, NotInSet,\n",
    "                           Or, ProperSubset, Set, SubsetEq)\n",
    "from proveit.numbers import zero, one, two, three, four, five, six, seven\n",
    "%begin demonstrations"
   ]
  },
  {
   "cell_type": "markdown",
   "metadata": {},
   "source": [
    "# Enumerated Sets $\\{a, b, \\ldots, n\\}$"
   ]
  },
  {
   "cell_type": "markdown",
   "metadata": {},
   "source": [
    "<div style=\"line-height:1.4; font-size:14pt\">\n",
    "<a href='#introduction'>Introduction</a><br>\n",
    "<a href='#simple_expressions'>Simple Expressions involving the enumerated Set class</a><br>\n",
    "<a href='#common_attributes'>Common Attributes of an enumerated Set</a><br>\n",
    "<a href='#axioms'>Axioms</a><br>\n",
    "<a href='#theorems_and_conjectures'>Theorems & Conjectures</a><br>\n",
    "<a href='#further_demonstrations'>Further Demonstrations</a><br>\n",
    "    <ol>\n",
    "        <li><a href='#demo01'>Deducing Set memberships such as $\\vdash b\\in\\{a, b, c\\}$, $\\vdash 1\\in\\{1, 2, 3\\}$, and $\\vdash \\{a, b\\}\\in\\{\\{\\}, \\{a\\}, \\{b\\}, \\{a, b\\}\\}$</a></li>\n",
    "        <li><a href='#demo02'>Deducing Set non-memberships such as $\\vdash 4\\notin\\{1, 2, 3\\}$ and $\\vdash d\\notin\\{a, b, c\\}$</a></li>\n",
    "        <li><a href='#demo03'>Deducing subset relationships between enumerated Sets: $\\vdash\\{2, 4, 6\\}\\subseteq\\{1, 2, 3, 4, 5, 6, 7\\}$ and $\\vdash\\{1, 3, 5, 1, 5\\}\\subseteq\\{1, 2, 3, 4, 5, 6, 7\\}$</a></li>\n",
    "        <li><a href='#demo04'>Instantiating the <span style=\"font-family:courier;\">proper_subset_of_superset</span> conjecture to deduce $\\{1, 2, 3\\}\\subset\\{1, 2, 3, 4, 5, 6\\}$</a></li>\n",
    "        <li><a href='#demo05'>Deducing that $\\{2, 4, 6\\}\\subset\\{1, 2, 3, 4, 5, 6\\}$ and $\\{c, b, a\\} \\subset \\{a, b, c, d, e\\}$</a></li>\n",
    "        <li><a href='#demo06'>Deducing that $\\{1, a, 1\\}\\subset\\{1, a, 1, b, 2, a\\}$ when $a = 1$</a></li>\n",
    "    </ol>\n",
    "<a href='#misc_testing'>Miscellaneous Testing</a><br>\n",
    "</div>"
   ]
  },
  {
   "cell_type": "markdown",
   "metadata": {},
   "source": [
    "## Introduction <a id='introduction'></a>"
   ]
  },
  {
   "cell_type": "markdown",
   "metadata": {},
   "source": [
    "Finite, explicitly enumerated sets (<i>i.e.</i>, sets defined by an explicit listing of elements) are ubiquitous in logic and mathematics, and regularly arise in theorems and proofs. For example, one might need to consider elements in the Boolean set: $\\mathbb{B}=\\{\\mathtt{TRUE}, \\mathtt{FALSE}\\} = \\{\\top, \\bot\\}$ or the integer equivalents $\\{1, 0\\}$, or perhaps a set of variables $\\{a, b, c\\}$ or that set's power set $\\{\\{\\}, \\{a\\}, \\{b\\}, \\{c\\}, \\{a, b\\}, \\{b, c\\}, \\{a, c\\}, \\{a, b, c\\} \\}$. Often, one needs to consider a finite but unspecified-size set such as $\\{a, b, \\ldots, n\\}$.<br/><br/>\n",
    "In Prove-It, we construct such finite enumerated sets with the `Set` class, which takes an arbitrary number of Prove-It expressions as arguments (including zero arguments for an empty set), like this: $\\mathtt{Set}(e_1, e_2, \\ldots, e_n)$. The result is a set of the elements $e_1$, $e_2$, $\\ldots$, $e_n$, where the initial order specified is preserved for display purposes but the order itself has no inherent meaning.<br/><br/>\n",
    "    Interestingly, you can also create redundantly populated sets such as $\\{a, b, a\\}$, which as we'll see below, are not considered multi-sets but instead are simply alternative representations of the reduced “support set” without the multiplicities — <i>e.g.</i>, $\\{a, b, a\\} = \\{a, b\\}$. Until one actively requests that a set such as $\\{a, b, a\\}$ be reduced to its support, Prove-It will continue to encode and display the set with the seeming multiplicities."
   ]
  },
  {
   "cell_type": "markdown",
   "metadata": {},
   "source": [
    "## Simple Expressions Involving Enumerated Sets<a id='simple_expressions'></a>"
   ]
  },
  {
   "cell_type": "markdown",
   "metadata": {},
   "source": [
    "Enumerated sets are easy to construct using the Set class, and such Sets are easily incorporated into other expressions. Various Set construction examples are shown below, including small Sets of literals and variables, a Set of Sets (including an empty set), and a finite Set of unspecified length:"
   ]
  },
  {
   "cell_type": "code",
   "execution_count": 2,
   "metadata": {},
   "outputs": [
    {
     "data": {
      "text/html": [
       "<strong id=\"set_123\">set_123:</strong> <a class=\"ProveItLink\" href=\"../__pv_it/demonstrations/e602daaa717bfda7072697a160cb6ba3f1bb7a3f0/expr.ipynb\"><img src=\"data:image/png;base64,iVBORw0KGgoAAAANSUhEUgAAAEMAAAAVBAMAAADvM06qAAAAMFBMVEX///+IiIi6urrc3NxERETM\n",
       "zMwQEBCqqqpUVFQiIiJ2dnYyMjLu7u5mZmaYmJgAAABN0h6tAAAAAXRSTlMAQObYZgAAATBJREFU\n",
       "KM9jYGDgu8eAC7BePACieHYx4AZMqSCS7wOyGM9dlwAIy2qVO5C8DWJyTQAS7DlQJScYuD6BGcwX\n",
       "GOofMDCshCk5seIPVMkdBoY0MIPxOwP/BCQlDHwwJZkMDP0GYFckMfBvwKpk/wGGfqhjUC1CKAGC\n",
       "+QegLp8FJJaBWBwbUJUw/YLQzCuB7mJ4D2KWBaAq4WyAscQUGBi4LzAwhExmQFVyF85iA4VEpwAD\n",
       "gxqqKYwXoPYYMLB8B5oCMpPDAUVJLUgSCPj/gJW8x/QR6wIGRrASNgcGzj9QH4GVMAJ550Fes1y1\n",
       "thPM4nuAGi68bb/vMXDOAQXd//8/ISzdu04MyEEHBjUMmCyIkgQYdwEDJmslSnrhEWDAYEHSCwMs\n",
       "1fHBxREsYHyDADuBtAsAUu9bLZmwvqYAAAAASUVORK5CYII=\n",
       "\" style=\"display:inline;vertical-align:middle;\" /></a><br>"
      ],
      "text/plain": [
       "set_123: {1, 2, 3}"
      ]
     },
     "execution_count": 2,
     "metadata": {},
     "output_type": "execute_result"
    }
   ],
   "source": [
    "# A 3-element set of (literal) integers:\n",
    "set_123 = Set(one, two, three)"
   ]
  },
  {
   "cell_type": "code",
   "execution_count": 3,
   "metadata": {},
   "outputs": [
    {
     "data": {
      "text/html": [
       "<strong id=\"set_abc\">set_abc:</strong> <a class=\"ProveItLink\" href=\"../__pv_it/demonstrations/8f4675ed72e818da8f4afa8e935154324ba24f400/expr.ipynb\"><img src=\"data:image/png;base64,iVBORw0KGgoAAAANSUhEUgAAAEEAAAAVBAMAAADrxp6XAAAAMFBMVEX///+IiIi6urrc3NxERETM\n",
       "zMwQEBCqqqpUVFQiIiJ2dnYyMjLu7u5mZmaYmJgAAABN0h6tAAAAAXRSTlMAQObYZgAAAR9JREFU\n",
       "KM9jYGDgu8eAA7BePACieHYx4ARMqSCS7wOy2JFMFCW3QQTXBBSxvSi8lVhUfCekgukPIRVoJiJU\n",
       "2K4VA3uMgbtRtgCqVlCUgWEZiMWxAWh2MsN+iPj5PTyfwQzm6QzeDAzvQcyyAAaGYw8YrkBU1B9g\n",
       "+AhmcC5gaAcaeYGBIWQykHv/AMNEWADw/AIz7kNs7RRgYFADmpHCwPMVFhxMEP+mQJzVAHKHA0gb\n",
       "OzRk/zHwgv0LNek91C8834HuLQYLfQK5CaKUgR3qF5BvHRleNizg+Q3k9TH4MoAZNxh4riKFxwnB\n",
       "4EYFhplAx52VAhoBYnCte4gZpuwH0BlQFQnwEMdgQFQg0sdBDAYkfTDA09gDDAZTEsRW/OkUAEa5\n",
       "WAU8AAzjAAAAAElFTkSuQmCC\n",
       "\" style=\"display:inline;vertical-align:middle;\" /></a><br>"
      ],
      "text/plain": [
       "set_abc: {a, b, c}"
      ]
     },
     "execution_count": 3,
     "metadata": {},
     "output_type": "execute_result"
    }
   ],
   "source": [
    "# A 3-element set of variables:\n",
    "set_abc = Set(a, b, c)"
   ]
  },
  {
   "cell_type": "code",
   "execution_count": 4,
   "metadata": {},
   "outputs": [
    {
     "data": {
      "text/html": [
       "<strong id=\"set_123_abc\">set_123_abc:</strong> <a class=\"ProveItLink\" href=\"../__pv_it/demonstrations/2255ccf90bd548701a45a0cf55b17e855edc7e1c0/expr.ipynb\"><img src=\"data:image/png;base64,iVBORw0KGgoAAAANSUhEUgAAAH0AAAAVBAMAAACZCfwhAAAAMFBMVEX///+IiIi6urrc3NxERETM\n",
       "zMwQEBCqqqpUVFQiIiJ2dnYyMjLu7u5mZmaYmJgAAABN0h6tAAAAAXRSTlMAQObYZgAAAd5JREFU\n",
       "OMulVN8rQ2EYfrZh29mxRrlR2q52vXKDUrtwJ9mFP0BipcSuXBGuhDLlAkXOhZQVuRY5SuJCZytq\n",
       "Ycw/YH5cyI/M+c77nTOf6Si+i2/PefY+532/93nPB8B/jT+tyozKfuQd/HE5+9juv//Kybm2GCFX\n",
       "ai3xXXHYLzxesk2aY/uwStQxpEdCrXB/lKXcE542TL08neT6KyBOKJjAS5n++Wc9UOB6vcBkxEDh\n",
       "EN7KTvz+m35fRZI34If6KdZOr69VE54ovJMXmQFCvokG3lOppg5YZ8izLeqdrxy0rHAuHPFxj7Rd\n",
       "+YleuYB2XWR0PibqveMmcvSQpYOojhIzpuKBghRM6uWkga55iPpc6Xxxg6x+hzdgGi5TdTcUPqXz\n",
       "YTG/I81BI9BpHLYqCi1m2u8kB3upHaxUT1TQj8JF/hVVrtcUjPE/P1gx7EhURaG8/5UKHBEzBTmh\n",
       "JTDjJu4RR3n+Irh5/0kfVCGzcWlObU5BY5bcMf8Zqgj4FyXiZtFBYVnI51/9zw7t5bGkp9svFl/g\n",
       "XWY+5s5CBpIn6ppqiTut19OzMGnrVpwfY94sD0Zgg0phpO+2ptOKVeyQJM5v6fs/sC6BgB06EL9/\n",
       "WPdP3gR+2CErzEnz6f7P/fcJHjObrp8ytg8AAAAASUVORK5CYII=\n",
       "\" style=\"display:inline;vertical-align:middle;\" /></a><br>"
      ],
      "text/plain": [
       "set_123_abc: {1, 2, 3, a, b, c}"
      ]
     },
     "execution_count": 4,
     "metadata": {},
     "output_type": "execute_result"
    }
   ],
   "source": [
    "# A 6-element set of combining literals and variables:\n",
    "set_123_abc = Set(one, two, three, a, b, c)"
   ]
  },
  {
   "cell_type": "code",
   "execution_count": 5,
   "metadata": {},
   "outputs": [
    {
     "data": {
      "text/html": [
       "<strong id=\"power_set_ab\">power_set_ab:</strong> <a class=\"ProveItLink\" href=\"../__pv_it/demonstrations/bf4eddde9ceb3a1a44ab611c6be10a6baf08086b0/expr.ipynb\"><img src=\"data:image/png;base64,iVBORw0KGgoAAAANSUhEUgAAAL0AAAAVBAMAAADhtvKAAAAAMFBMVEX///+IiIi6urrc3NxERETM\n",
       "zMwQEBCqqqpUVFQiIiJ2dnYyMjLu7u5mZmaYmJgAAABN0h6tAAAAAXRSTlMAQObYZgAAAjpJREFU\n",
       "OMudlTFIXEEQhgejvvPeevcMmMriKluvtAlcmkA6QVshJNqFIAipPFRIE2wiNgoprhKuSLCUgPhs\n",
       "JJDieSAICvraFOI1IqhFdmbfezuzrlfcFu92v39m2Nud2QGAyiXocZ0OdWKww1AASbUZ/cxPeKAd\n",
       "JGee6jd+/7YABhathaE4OCUzGpMzHmgHycaz0sXvDX4u2Pa7xZRRNFNvv+vJ6J6AbGNMJs8yrqFd\n",
       "fMwwFBxK8/BE6sJAyO2+4leXesZncn/xp+Ke8ZncX/w29IzvBmXTXSf+65+vYkHJbH/sTOvvJXxx\n",
       "3vlkVkwmzxJd9YaTCEgHPsKhkx7aTD3ESZ3nF/lO1kNDuEyeXzBVg8Xi6s1AepzCqaRoFjxCNQI4\n",
       "EFB9htGGWTEZPee2sNTe1Un8FmU+RK9i2BSUzHRqJ7qgSpsCPsKIsRIyerJSC9dEAS6AupUUzfSm\n",
       "pnQK7gs43IBkJk//QibPEv2vr+75N0DdQ9B1zl+bVVP8Y/z8NdRbXs3Sn8k3PfNH3elbXn6SP9Wa\n",
       "Pmw3f5Il2AjojLm868t/9ZDTN/BvrSUozkvp4EnulexlcDCqbJdpyWV/fe3kBfhnbHa9JijOVedX\n",
       "4TXyI4fr49Mvacllf/wg9tVvEItSzfQVWb8rUjbx7VEZw7Kl4FB7F1n8lry2lif+k/f/yPv+H8mn\n",
       "3jzwKhJQRVI2ntSpQuxfH2idWkrpzWlY9K8a7ULCii2fmvUMqNM2nf4b+Ptv09d/m8/33/+ipevT\n",
       "8xNZuwAAAABJRU5ErkJggg==\n",
       "\" style=\"display:inline;vertical-align:middle;\" /></a><br>"
      ],
      "text/plain": [
       "power_set_ab: {{}, {a}, {b}, {a, b}}"
      ]
     },
     "execution_count": 5,
     "metadata": {},
     "output_type": "execute_result"
    }
   ],
   "source": [
    "# A 4-element set of enumerated sets, including an empty set:\n",
    "power_set_ab = Set(Set(), Set(a), Set(b), Set(a, b))"
   ]
  },
  {
   "cell_type": "code",
   "execution_count": 6,
   "metadata": {},
   "outputs": [
    {
     "data": {
      "text/html": [
       "<strong id=\"set_1_to_n\">set_1_to_n:</strong> <a class=\"ProveItLink\" href=\"../__pv_it/demonstrations/80e6a4273b78c4e4644f3582c602ce99ae6a06970/expr.ipynb\"><img src=\"data:image/png;base64,iVBORw0KGgoAAAANSUhEUgAAAFcAAAAVBAMAAADBdm84AAAAMFBMVEX///+IiIi6urrc3NxERETM\n",
       "zMwQEBCqqqpUVFQiIiJ2dnYyMjLu7u5mZmaYmJgAAABN0h6tAAAAAXRSTlMAQObYZgAAAPNJREFU\n",
       "KM9jYGDgu8dAGLBePACieHYxEAOYUkEk3weiFDPcBhFcE4AEew5BxSthik+s+EO8Yga+gVDMtMJY\n",
       "8CKQXgbicGzAr5iLxZHhvAEDw3sQpywAv+Jwzg0M9kA13BcYGEImM+BXfOC8AsTUTgEGBjUCJjPU\n",
       "MzB0AynuBpCbHQgoBkbdPx6omwkGXRYD+x8uaGiAFTMCFZ8HBQuI4PnNgMRj/sTAteEpUjjztv2+\n",
       "x8A5B8jjBLlsBowBEmKawMDcV4AcKWBQg+mEGvQYTIBxF2AqXoCmGJ6eeQQw1CILgdMzAyyn8GEa\n",
       "jCTElASm2InOgwAWMkpfJmGDDwAAAABJRU5ErkJggg==\n",
       "\" style=\"display:inline;vertical-align:middle;\" /></a><br>"
      ],
      "text/plain": [
       "set_1_to_n: {1, ..i.., n}"
      ]
     },
     "execution_count": 6,
     "metadata": {},
     "output_type": "execute_result"
    }
   ],
   "source": [
    "# a set of the first n positive integers\n",
    "# set_1_to_n = Set(Iter(i, i, one, n))\n",
    "set_1_to_n = Set(ExprRange(i, i, one, n))"
   ]
  },
  {
   "cell_type": "code",
   "execution_count": 7,
   "metadata": {},
   "outputs": [
    {
     "data": {
      "text/html": [
       "<a class=\"ProveItLink\" href=\"../__pv_it/demonstrations/dd925cf3ff74e139aac9c190684e7bcf9e42f0d30/expr.ipynb\"><img src=\"data:image/png;base64,iVBORw0KGgoAAAANSUhEUgAAAGoAAAAVBAMAAABce2awAAAAMFBMVEX///8QEBBmZmaqqqrMzMxE\n",
       "REQyMjIiIiKYmJh2dna6urrc3NxUVFSIiIju7u4AAAA6P00QAAAAAXRSTlMAQObYZgAAAZxJREFU\n",
       "OMtjYMAGODQYcAKnezgk+DIZ8ICFDtjFOT6gmKEUClXHPXOqAQMDUwJ2XZwFINLwAYT3hoHzF4S1\n",
       "iYH5B0wWuy6+k+ehuvQYGAQhrPsGDN8xdHGEl5ch2dUP1SXOwHB+A8RHCxi+oetiiX2A4kKYrvwH\n",
       "DOdhAQB34ds7u25eAIk8e8CAVRcQ1MOYzycAZQWA7p/AUcsODpXTcEU8Cai6uH5CGTuLHkBCmPMB\n",
       "5z8usLMD4LoMHVB1sR+AsXilgEQS0C4GVohyFrE0IACxXKsZUHUpITwvCBTkqQUy+C9AojAALfbh\n",
       "ungVoIzdDAzxwGjOAbH9oQEkgPBXAIouIwZuSMj/fwDSBfIX84P7DLxgeV0G7GHIMoGBF6JLFBya\n",
       "oDBcbxDPsAPiZwNUXfcfMPABI5Vh+8xJxxneg4K1Ax5fb+6+1WiApNKj65B16cgnNTCUA+3L////\n",
       "OwN7HSgGlFQXYKQorqkoKQqcFuDhaIfmfiypFx4wnHCxCQR1IfLXW3gmuwCXxZW/GOB5uQFuEFJe\n",
       "XoBDFzOBcgMAPdV2z6SY/84AAAAASUVORK5CYII=\n",
       "\" style=\"display:inline;vertical-align:middle;\" /></a>"
      ],
      "text/plain": [
       "x in {1, 2, 3}"
      ]
     },
     "execution_count": 7,
     "metadata": {},
     "output_type": "execute_result"
    }
   ],
   "source": [
    "# Claim that x is a member of the set {a, b, c}\n",
    "InSet(x, set_123)"
   ]
  },
  {
   "cell_type": "code",
   "execution_count": 8,
   "metadata": {},
   "outputs": [
    {
     "data": {
      "text/html": [
       "<a class=\"ProveItLink\" href=\"../__pv_it/demonstrations/9e1bad88fb0a2d6b4ac4d9dd79292c3d6dfb7fa00/expr.ipynb\"><img src=\"data:image/png;base64,iVBORw0KGgoAAAANSUhEUgAAAWEAAAAWBAMAAADjgTApAAAAMFBMVEX///8QEBCIiIhmZma6urrM\n",
       "zMxUVFQiIiJERETc3Nzu7u6qqqp2dnaYmJgyMjIAAAAcRTyBAAAAAXRSTlMAQObYZgAABDlJREFU\n",
       "SMfNl2GIVFUUx/87M2/evJk3k0FB1pdhF4REckGyhVqYkoggcCuwPmy0SSIbEkOBkEoKIoxGOKig\n",
       "RrVXgy2WkAd+iK2QZRciNtHJhPKDtZAGFckSSbmR0z3n3vtmfHPfW983D5w79929+3v/d945994H\n",
       "pLYPtMfYdHTAa8XOLTVt8AQw+QJdXE4huLhHeZzloyo+sc/7aGgfMG6BW8w7+3XAYPJvaOS3FIor\n",
       "TeXWmN0vb8oxcPh6hJpf7Q8+hvM1nOpMcwzcYodR+o/B5MfoEfakUPyddotNfrUk21mONKkoV6kZ\n",
       "tM7NCvStgE8zsIWaC4gHrw3wtwJLrwjAD1Iofku7zcqk+ARHbEw2rqDGHra+OvI3UFxB/U3U7EA8\n",
       "+PEabiqw9PL81NTRFIK9uvJ4xZWayYUN1ImBV5aQvw5cMbmQG0QCmLKCweT/NBq7UijODCov9o8/\n",
       "MWtV7HManJa+nzoD0k+uOrKm2oNy5ew5liP/o9BEAhgfzygw+RZNDm1UrkYvcm9uL71Wf+A1PBfm\n",
       "TaGl/FN8X32bBs5dI/u5o7jMpefKzODyeFeKmCm/4dKoz3Ov6czeKFX8yL26vmMs+P03hQKTb9DV\n",
       "Hb52We/PP0I9v5mnvwxjCNgWBiZQPo/z4mlrjEv8ajNV5Dk9dkqQ8Jdyvem8Xfpn3OsHXjVwKxiZ\n",
       "exSY3EXGLPHFL9e1UCKVT/H/N50b8ucx/AScCSumplygEZPHziKz6nrpkrcqomBZjbIU6pfVO9dR\n",
       "iwUDdwsGk/st14z+MD2FbsU17y8eH7IoBv5MVIxH1VJPioG7erOYE1wrzgZquYoDHwcOBqFib4EW\n",
       "l9mHV41wuXYplv0lDte9XYpNVsC5rgZUuv3SUZxTBf8h1O9OFsabhMnjMV1ux82NvAU3hNvAbUGK\n",
       "Cczw/TKFMuJ1t1ZBVLHLoXmo2qXYVN7nmUWstsZYVR4KL6m4ysoribXyDpG5o8CDpvKw70IIt4Hv\n",
       "A3aLsPJwuk5b5B9yp1fngpmO4jmYrDhhCkcvMbl/C4u9R5wMKc7OcN/ZKgxjY3Cw54jj7Tq7vk5F\n",
       "wrZph4FbwZd5PSYww1WOyRp7odFoVJ29CBWbDXZC5pBZs/WrKW5ePdBzfsq+cnNYLvIqA6DWJUJN\n",
       "9p8cjoqotNttibqqrwYN3ArOrRuqKTDDy4LLxUE+GuNn8CRn8USrE+PEXVoXvrL3dGY1kw6CepPz\n",
       "RAeeCDZwTPgLPvyRMI/lMnlMOL9/ccA7ICnfik4eJ52ElEU2rJiTkM6xau8xKxEcwicvzs4D7xjF\n",
       "h3dvxrNBX7u96DyA0TXjXZXH22khIW637keI7qi32qnI9XLgKDwj81jFmExtzCV1cea2T/SF2zzR\n",
       "W59mObD1iYxi/UUzHVW83FfTpRRfTeU0X02XbHB+zJWapn707bbhDrZDlpiMBneMvP8BPmBdJu5W\n",
       "zCsAAAAASUVORK5CYII=\n",
       "\" style=\"display:inline;vertical-align:middle;\" /></a>"
      ],
      "text/plain": [
       "forall_{x in {1, 2, 3}} ((x = 1) or (x = 2) or (x = 3))"
      ]
     },
     "execution_count": 8,
     "metadata": {},
     "output_type": "execute_result"
    }
   ],
   "source": [
    "# A more elaborate claim about what it means for x to be a member\n",
    "# of the set {1, 2, 3}. Notice the set appears as a domain specification:\n",
    "Forall(x, Or(Equals(x, one), Equals(x, two), Equals(x, three)), domain=set_123)"
   ]
  },
  {
   "cell_type": "markdown",
   "metadata": {},
   "source": [
    "## Common Attributes of enumerated Set expressions <a id='common_attributes'></a>"
   ]
  },
  {
   "cell_type": "markdown",
   "metadata": {},
   "source": [
    "Let's look at some simple examples of enumerated sets and their common attributes."
   ]
  },
  {
   "cell_type": "code",
   "execution_count": 9,
   "metadata": {},
   "outputs": [
    {
     "data": {
      "text/html": [
       "<a class=\"ProveItLink\" href=\"../__pv_it/demonstrations/e602daaa717bfda7072697a160cb6ba3f1bb7a3f0/expr.ipynb\"><img src=\"data:image/png;base64,iVBORw0KGgoAAAANSUhEUgAAAEMAAAAVBAMAAADvM06qAAAAMFBMVEX///+IiIi6urrc3NxERETM\n",
       "zMwQEBCqqqpUVFQiIiJ2dnYyMjLu7u5mZmaYmJgAAABN0h6tAAAAAXRSTlMAQObYZgAAATBJREFU\n",
       "KM9jYGDgu8eAC7BePACieHYx4AZMqSCS7wOyGM9dlwAIy2qVO5C8DWJyTQAS7DlQJScYuD6BGcwX\n",
       "GOofMDCshCk5seIPVMkdBoY0MIPxOwP/BCQlDHwwJZkMDP0GYFckMfBvwKpk/wGGfqhjUC1CKAGC\n",
       "+QegLp8FJJaBWBwbUJUw/YLQzCuB7mJ4D2KWBaAq4WyAscQUGBi4LzAwhExmQFVyF85iA4VEpwAD\n",
       "gxqqKYwXoPYYMLB8B5oCMpPDAUVJLUgSCPj/gJW8x/QR6wIGRrASNgcGzj9QH4GVMAJ550Fes1y1\n",
       "thPM4nuAGi68bb/vMXDOAQXd//8/ISzdu04MyEEHBjUMmCyIkgQYdwEDJmslSnrhEWDAYEHSCwMs\n",
       "1fHBxREsYHyDADuBtAsAUu9bLZmwvqYAAAAASUVORK5CYII=\n",
       "\" style=\"display:inline;vertical-align:middle;\" /></a>"
      ],
      "text/plain": [
       "{1, 2, 3}"
      ]
     },
     "metadata": {},
     "output_type": "display_data"
    },
    {
     "data": {
      "text/html": [
       "<a class=\"ProveItLink\" href=\"../__pv_it/demonstrations/8f4675ed72e818da8f4afa8e935154324ba24f400/expr.ipynb\"><img src=\"data:image/png;base64,iVBORw0KGgoAAAANSUhEUgAAAEEAAAAVBAMAAADrxp6XAAAAMFBMVEX///+IiIi6urrc3NxERETM\n",
       "zMwQEBCqqqpUVFQiIiJ2dnYyMjLu7u5mZmaYmJgAAABN0h6tAAAAAXRSTlMAQObYZgAAAR9JREFU\n",
       "KM9jYGDgu8eAA7BePACieHYx4ARMqSCS7wOy2JFMFCW3QQTXBBSxvSi8lVhUfCekgukPIRVoJiJU\n",
       "2K4VA3uMgbtRtgCqVlCUgWEZiMWxAWh2MsN+iPj5PTyfwQzm6QzeDAzvQcyyAAaGYw8YrkBU1B9g\n",
       "+AhmcC5gaAcaeYGBIWQykHv/AMNEWADw/AIz7kNs7RRgYFADmpHCwPMVFhxMEP+mQJzVAHKHA0gb\n",
       "OzRk/zHwgv0LNek91C8834HuLQYLfQK5CaKUgR3qF5BvHRleNizg+Q3k9TH4MoAZNxh4riKFxwnB\n",
       "4EYFhplAx52VAhoBYnCte4gZpuwH0BlQFQnwEMdgQFQg0sdBDAYkfTDA09gDDAZTEsRW/OkUAEa5\n",
       "WAU8AAzjAAAAAElFTkSuQmCC\n",
       "\" style=\"display:inline;vertical-align:middle;\" /></a>"
      ],
      "text/plain": [
       "{a, b, c}"
      ]
     },
     "metadata": {},
     "output_type": "display_data"
    },
    {
     "data": {
      "text/html": [
       "<a class=\"ProveItLink\" href=\"../__pv_it/demonstrations/bf4eddde9ceb3a1a44ab611c6be10a6baf08086b0/expr.ipynb\"><img src=\"data:image/png;base64,iVBORw0KGgoAAAANSUhEUgAAAL0AAAAVBAMAAADhtvKAAAAAMFBMVEX///+IiIi6urrc3NxERETM\n",
       "zMwQEBCqqqpUVFQiIiJ2dnYyMjLu7u5mZmaYmJgAAABN0h6tAAAAAXRSTlMAQObYZgAAAjpJREFU\n",
       "OMudlTFIXEEQhgejvvPeevcMmMriKluvtAlcmkA6QVshJNqFIAipPFRIE2wiNgoprhKuSLCUgPhs\n",
       "JJDieSAICvraFOI1IqhFdmbfezuzrlfcFu92v39m2Nud2QGAyiXocZ0OdWKww1AASbUZ/cxPeKAd\n",
       "JGee6jd+/7YABhathaE4OCUzGpMzHmgHycaz0sXvDX4u2Pa7xZRRNFNvv+vJ6J6AbGNMJs8yrqFd\n",
       "fMwwFBxK8/BE6sJAyO2+4leXesZncn/xp+Ke8ZncX/w29IzvBmXTXSf+65+vYkHJbH/sTOvvJXxx\n",
       "3vlkVkwmzxJd9YaTCEgHPsKhkx7aTD3ESZ3nF/lO1kNDuEyeXzBVg8Xi6s1AepzCqaRoFjxCNQI4\n",
       "EFB9htGGWTEZPee2sNTe1Un8FmU+RK9i2BSUzHRqJ7qgSpsCPsKIsRIyerJSC9dEAS6AupUUzfSm\n",
       "pnQK7gs43IBkJk//QibPEv2vr+75N0DdQ9B1zl+bVVP8Y/z8NdRbXs3Sn8k3PfNH3elbXn6SP9Wa\n",
       "Pmw3f5Il2AjojLm868t/9ZDTN/BvrSUozkvp4EnulexlcDCqbJdpyWV/fe3kBfhnbHa9JijOVedX\n",
       "4TXyI4fr49Mvacllf/wg9tVvEItSzfQVWb8rUjbx7VEZw7Kl4FB7F1n8lry2lif+k/f/yPv+H8mn\n",
       "3jzwKhJQRVI2ntSpQuxfH2idWkrpzWlY9K8a7ULCii2fmvUMqNM2nf4b+Ptv09d/m8/33/+ipevT\n",
       "8xNZuwAAAABJRU5ErkJggg==\n",
       "\" style=\"display:inline;vertical-align:middle;\" /></a>"
      ],
      "text/plain": [
       "{{}, {a}, {b}, {a, b}}"
      ]
     },
     "metadata": {},
     "output_type": "display_data"
    }
   ],
   "source": [
    "# Recall some enumerated sets defined earlier:\n",
    "display(set_123)\n",
    "display(set_abc)\n",
    "display(power_set_ab)"
   ]
  },
  {
   "cell_type": "markdown",
   "metadata": {},
   "source": [
    "We can look at the construction of such expressions by calling <font style=\"font-family:courier\">expr_info()</font> to see the table version of the expression's underlying directed acyclic graph (DAG) representation:"
   ]
  },
  {
   "cell_type": "code",
   "execution_count": 10,
   "metadata": {},
   "outputs": [
    {
     "data": {
      "text/html": [
       "<table><tr><th>&nbsp;</th><th>core type</th><th>sub-expressions</th><th>expression</th></tr>\n",
       "<tr><td>0</td><td>Operation</td><td>operator:&nbsp;1<br>operands:&nbsp;2<br></td><td><a class=\"ProveItLink\" href=\"../__pv_it/demonstrations/e602daaa717bfda7072697a160cb6ba3f1bb7a3f0/expr.ipynb\"><img src=\"data:image/png;base64,iVBORw0KGgoAAAANSUhEUgAAAEMAAAAVBAMAAADvM06qAAAAMFBMVEX///+IiIi6urrc3NxERETM\n",
       "zMwQEBCqqqpUVFQiIiJ2dnYyMjLu7u5mZmaYmJgAAABN0h6tAAAAAXRSTlMAQObYZgAAATBJREFU\n",
       "KM9jYGDgu8eAC7BePACieHYx4AZMqSCS7wOyGM9dlwAIy2qVO5C8DWJyTQAS7DlQJScYuD6BGcwX\n",
       "GOofMDCshCk5seIPVMkdBoY0MIPxOwP/BCQlDHwwJZkMDP0GYFckMfBvwKpk/wGGfqhjUC1CKAGC\n",
       "+QegLp8FJJaBWBwbUJUw/YLQzCuB7mJ4D2KWBaAq4WyAscQUGBi4LzAwhExmQFVyF85iA4VEpwAD\n",
       "gxqqKYwXoPYYMLB8B5oCMpPDAUVJLUgSCPj/gJW8x/QR6wIGRrASNgcGzj9QH4GVMAJ550Fes1y1\n",
       "thPM4nuAGi68bb/vMXDOAQXd//8/ISzdu04MyEEHBjUMmCyIkgQYdwEDJmslSnrhEWDAYEHSCwMs\n",
       "1fHBxREsYHyDADuBtAsAUu9bLZmwvqYAAAAASUVORK5CYII=\n",
       "\" style=\"display:inline;vertical-align:middle;\" /></a></td></tr>\n",
       "<tr><td>1</td><td>Literal</td><td></td><td><a class=\"ProveItLink\" href=\"../__pv_it/common/0ead90ccbf4f17bc585a51f8aa904bb77916ae6e0/expr.ipynb\"><img src=\"data:image/png;base64,iVBORw0KGgoAAAANSUhEUgAAABsAAAAOBAMAAAAs4XpOAAAAMFBMVEX///+IiIjc3NxUVFQQEBBE\n",
       "RESYmJh2dnYyMjK6urrMzMwiIiKqqqpmZmbu7u4AAACHU+AlAAAAAXRSTlMAQObYZgAAAKdJREFU\n",
       "CNdj4Lt798AFBjh4vYBhdgOEyQnEtQwMbFDuWyDuBeIACDcXiEMeMDAkgHk8f4HEfPcJQJLpWrFC\n",
       "7u+7BxjY/v/vZGCY/YDTj2EvSM2z2/8TGNwZGBwhXAaGJR+4/qalmYG5QGM4f/L8AQnvhVryi+sj\n",
       "hCvAsJOBgesDww4GhocMzQwXGHZMYHiRwLD+AMM9hhtArsH0y5EMDHy24g8YmM0VAG6zNIzpu6oT\n",
       "AAAAAElFTkSuQmCC\n",
       "\" style=\"display:inline;vertical-align:middle;\" /></a></td></tr>\n",
       "<tr><td>2</td><td>ExprTuple</td><td>3, 4, 5</td><td><a class=\"ProveItLink\" href=\"../__pv_it/demonstrations/e4a98eefedbcd1377a50b7701b89dead6c3af4d80/expr.ipynb\"><img src=\"data:image/png;base64,iVBORw0KGgoAAAANSUhEUgAAAD0AAAAUBAMAAADM7ygkAAAAMFBMVEX////MzMxUVFR2dna6uroQ\n",
       "EBCqqqqIiIgiIiJmZmYyMjJERETu7u6YmJjc3NwAAACgK8IjAAAAAXRSTlMAQObYZgAAAThJREFU\n",
       "KM9jYOC7wIAL5IGI08giJ2dvhDD4jK0TGJgeAFnrgDj1AESUR4HB3gHMesnA9peBZwEDA+8EBh5l\n",
       "fag85wEG1gAwqz6B4QcDgzkDAwfIjPtQedYGBqZ/YJarA8MvBoajDAwvGJDkuf4wMH2EOgVoPgOX\n",
       "A0MlsjwQcPyBMk4YMDAwT2DYiybvbwChH3cCxXgXMLShyTfBGOwhQDsaGEJQ5TknwFWGHmBg/IAu\n",
       "Xwml3zEw7E8AyaOazzYBJAME/w+A5Fka0NwnzMBQB2ZEMzD0HwC5zxIcWgcYeH6BQr3ZeFIDmHUX\n",
       "7H9OAwYPIGdS/MoLDB1AM7j+///fAGaxzJwNjAguAUj4gq2GuxHBOgGOHwhghnsMwQLGD8M+KPs4\n",
       "XBTOAsUvPH0gkhGcxQ2yG0/6usfAAACDp14hUSCDuQAAAABJRU5ErkJggg==\n",
       "\" style=\"display:inline;vertical-align:middle;\" /></a></td></tr>\n",
       "<tr><td>3</td><td>Literal</td><td></td><td><a class=\"ProveItLink\" href=\"../../../../numbers/numerals/__pv_it/common/2778428c7f555b2bdc06aa0530bc142c6e6335100/expr.ipynb\"><img src=\"data:image/png;base64,iVBORw0KGgoAAAANSUhEUgAAAAgAAAAPBAMAAAArJJMAAAAAIVBMVEX///8yMjJmZmaIiIiYmJh2\n",
       "dnZUVFTu7u4QEBCqqqoAAAADAhFxAAAAAXRSTlMAQObYZgAAACBJREFUCNdjYAADznYGhrKw5UAW\n",
       "CykEM5BgylioAjYDAHBOCeDSSky9AAAAAElFTkSuQmCC\n",
       "\" style=\"display:inline;vertical-align:middle;\" /></a></td></tr>\n",
       "<tr><td>4</td><td>Literal</td><td></td><td><a class=\"ProveItLink\" href=\"../../../../numbers/numerals/__pv_it/common/ba3b059982e8b49413dc653e957beb11e974e4bc0/expr.ipynb\"><img src=\"data:image/png;base64,iVBORw0KGgoAAAANSUhEUgAAAAkAAAAOBAMAAAAPuiubAAAALVBMVEX///+qqqqIiIgyMjLc3Nwi\n",
       "IiIQEBC6urp2dnZUVFTMzMxERERmZmbu7u4AAAAQI6y7AAAAAXRSTlMAQObYZgAAAFJJREFUCNdj\n",
       "4D2zewEDw00GjucMDGcZGNIYGFIZGOY5MNhdYJgHlGBgiLsAJNhfgJisE0DkGRDBdABEyjCwODBw\n",
       "NTAwOTC4dvRMZWCwe/fuKQMANh0TGKpG4roAAAAASUVORK5CYII=\n",
       "\" style=\"display:inline;vertical-align:middle;\" /></a></td></tr>\n",
       "<tr><td>5</td><td>Literal</td><td></td><td><a class=\"ProveItLink\" href=\"../../../../numbers/numerals/__pv_it/common/0a19a501c0770212f27a044b71e9c626b8ca0bec0/expr.ipynb\"><img src=\"data:image/png;base64,iVBORw0KGgoAAAANSUhEUgAAAAoAAAAOBAMAAADkjZCYAAAAKlBMVEX////u7u4yMjIQEBC6uroi\n",
       "IiKIiIiYmJhmZmaqqqpERER2dnbc3NwAAAAz17lDAAAAAXRSTlMAQObYZgAAAE5JREFUCNdjYDi9\n",
       "eyUDA08Dw9wCBrabDLwBDCwmDLwKDEAAFGFgYIwGEjxbG0ECDMkOIJLZkIHnAAMXUPFFEMm8gIH1\n",
       "IgN7AVi9R8cSBgCvphDNutx7AgAAAABJRU5ErkJggg==\n",
       "\" style=\"display:inline;vertical-align:middle;\" /></a></td></tr>\n",
       "</table>\n"
      ],
      "text/plain": [
       "0. {1, 2, 3}\n",
       "   core type: Operation\n",
       "   operator: 1\n",
       "   operands: 2\n",
       "1. Set\n",
       "   core type: Literal\n",
       "   sub-expressions: \n",
       "2. (1, 2, 3)\n",
       "   core type: ExprTuple\n",
       "   sub-expressions: 3, 4, 5\n",
       "3. 1\n",
       "   core type: Literal\n",
       "   sub-expressions: \n",
       "4. 2\n",
       "   core type: Literal\n",
       "   sub-expressions: \n",
       "5. 3\n",
       "   core type: Literal\n",
       "   sub-expressions: "
      ]
     },
     "execution_count": 10,
     "metadata": {},
     "output_type": "execute_result"
    }
   ],
   "source": [
    "# See how an enumerated set expression is constructed:\n",
    "set_123.expr_info()"
   ]
  },
  {
   "cell_type": "markdown",
   "metadata": {},
   "source": [
    "We can access the elements of an enumerated Set as operands of the Set class or somewhat more intuitively as elements of the Set, either of which return a tuple of the elements:"
   ]
  },
  {
   "cell_type": "code",
   "execution_count": 11,
   "metadata": {},
   "outputs": [
    {
     "data": {
      "text/html": [
       "<a class=\"ProveItLink\" href=\"../__pv_it/demonstrations/e4a98eefedbcd1377a50b7701b89dead6c3af4d80/expr.ipynb\"><img src=\"data:image/png;base64,iVBORw0KGgoAAAANSUhEUgAAAD0AAAAUBAMAAADM7ygkAAAAMFBMVEX////MzMxUVFR2dna6uroQ\n",
       "EBCqqqqIiIgiIiJmZmYyMjJERETu7u6YmJjc3NwAAACgK8IjAAAAAXRSTlMAQObYZgAAAThJREFU\n",
       "KM9jYOC7wIAL5IGI08giJ2dvhDD4jK0TGJgeAFnrgDj1AESUR4HB3gHMesnA9peBZwEDA+8EBh5l\n",
       "fag85wEG1gAwqz6B4QcDgzkDAwfIjPtQedYGBqZ/YJarA8MvBoajDAwvGJDkuf4wMH2EOgVoPgOX\n",
       "A0MlsjwQcPyBMk4YMDAwT2DYiybvbwChH3cCxXgXMLShyTfBGOwhQDsaGEJQ5TknwFWGHmBg/IAu\n",
       "Xwml3zEw7E8AyaOazzYBJAME/w+A5Fka0NwnzMBQB2ZEMzD0HwC5zxIcWgcYeH6BQr3ZeFIDmHUX\n",
       "7H9OAwYPIGdS/MoLDB1AM7j+///fAGaxzJwNjAguAUj4gq2GuxHBOgGOHwhghnsMwQLGD8M+KPs4\n",
       "XBTOAsUvPH0gkhGcxQ2yG0/6usfAAACDp14hUSCDuQAAAABJRU5ErkJggg==\n",
       "\" style=\"display:inline;vertical-align:middle;\" /></a>"
      ],
      "text/plain": [
       "(1, 2, 3)"
      ]
     },
     "execution_count": 11,
     "metadata": {},
     "output_type": "execute_result"
    }
   ],
   "source": [
    "# the elements of the enumerated, as a tuple of elements\n",
    "set_123.operands"
   ]
  },
  {
   "cell_type": "code",
   "execution_count": 12,
   "metadata": {},
   "outputs": [
    {
     "data": {
      "text/html": [
       "<a class=\"ProveItLink\" href=\"../__pv_it/demonstrations/e4a98eefedbcd1377a50b7701b89dead6c3af4d80/expr.ipynb\"><img src=\"data:image/png;base64,iVBORw0KGgoAAAANSUhEUgAAAD0AAAAUBAMAAADM7ygkAAAAMFBMVEX////MzMxUVFR2dna6uroQ\n",
       "EBCqqqqIiIgiIiJmZmYyMjJERETu7u6YmJjc3NwAAACgK8IjAAAAAXRSTlMAQObYZgAAAThJREFU\n",
       "KM9jYOC7wIAL5IGI08giJ2dvhDD4jK0TGJgeAFnrgDj1AESUR4HB3gHMesnA9peBZwEDA+8EBh5l\n",
       "fag85wEG1gAwqz6B4QcDgzkDAwfIjPtQedYGBqZ/YJarA8MvBoajDAwvGJDkuf4wMH2EOgVoPgOX\n",
       "A0MlsjwQcPyBMk4YMDAwT2DYiybvbwChH3cCxXgXMLShyTfBGOwhQDsaGEJQ5TknwFWGHmBg/IAu\n",
       "Xwml3zEw7E8AyaOazzYBJAME/w+A5Fka0NwnzMBQB2ZEMzD0HwC5zxIcWgcYeH6BQr3ZeFIDmHUX\n",
       "7H9OAwYPIGdS/MoLDB1AM7j+///fAGaxzJwNjAguAUj4gq2GuxHBOgGOHwhghnsMwQLGD8M+KPs4\n",
       "XBTOAsUvPH0gkhGcxQ2yG0/6usfAAACDp14hUSCDuQAAAABJRU5ErkJggg==\n",
       "\" style=\"display:inline;vertical-align:middle;\" /></a>"
      ],
      "text/plain": [
       "(1, 2, 3)"
      ]
     },
     "execution_count": 12,
     "metadata": {},
     "output_type": "execute_result"
    }
   ],
   "source": [
    "# or more intuitively, using the elements attribute:\n",
    "set_123.elements"
   ]
  },
  {
   "cell_type": "markdown",
   "metadata": {},
   "source": [
    "Of course, we can also access each of the elements individually:"
   ]
  },
  {
   "cell_type": "code",
   "execution_count": 13,
   "metadata": {},
   "outputs": [
    {
     "data": {
      "text/html": [
       "<strong id=\"e1\">e1:</strong> <a class=\"ProveItLink\" href=\"../../../../numbers/numerals/__pv_it/common/2778428c7f555b2bdc06aa0530bc142c6e6335100/expr.ipynb\"><img src=\"data:image/png;base64,iVBORw0KGgoAAAANSUhEUgAAAAgAAAAPBAMAAAArJJMAAAAAIVBMVEX///8yMjJmZmaIiIiYmJh2\n",
       "dnZUVFTu7u4QEBCqqqoAAAADAhFxAAAAAXRSTlMAQObYZgAAACBJREFUCNdjYAADznYGhrKw5UAW\n",
       "CykEM5BgylioAjYDAHBOCeDSSky9AAAAAElFTkSuQmCC\n",
       "\" style=\"display:inline;vertical-align:middle;\" /></a><br>\n",
       "<strong id=\"e2\">e2:</strong> <a class=\"ProveItLink\" href=\"../../../../numbers/numerals/__pv_it/common/ba3b059982e8b49413dc653e957beb11e974e4bc0/expr.ipynb\"><img src=\"data:image/png;base64,iVBORw0KGgoAAAANSUhEUgAAAAkAAAAOBAMAAAAPuiubAAAALVBMVEX///+qqqqIiIgyMjLc3Nwi\n",
       "IiIQEBC6urp2dnZUVFTMzMxERERmZmbu7u4AAAAQI6y7AAAAAXRSTlMAQObYZgAAAFJJREFUCNdj\n",
       "4D2zewEDw00GjucMDGcZGNIYGFIZGOY5MNhdYJgHlGBgiLsAJNhfgJisE0DkGRDBdABEyjCwODBw\n",
       "NTAwOTC4dvRMZWCwe/fuKQMANh0TGKpG4roAAAAASUVORK5CYII=\n",
       "\" style=\"display:inline;vertical-align:middle;\" /></a><br>\n",
       "<strong id=\"e3\">e3:</strong> <a class=\"ProveItLink\" href=\"../../../../numbers/numerals/__pv_it/common/0a19a501c0770212f27a044b71e9c626b8ca0bec0/expr.ipynb\"><img src=\"data:image/png;base64,iVBORw0KGgoAAAANSUhEUgAAAAoAAAAOBAMAAADkjZCYAAAAKlBMVEX////u7u4yMjIQEBC6uroi\n",
       "IiKIiIiYmJhmZmaqqqpERER2dnbc3NwAAAAz17lDAAAAAXRSTlMAQObYZgAAAE5JREFUCNdjYDi9\n",
       "eyUDA08Dw9wCBrabDLwBDCwmDLwKDEAAFGFgYIwGEjxbG0ECDMkOIJLZkIHnAAMXUPFFEMm8gIH1\n",
       "IgN7AVi9R8cSBgCvphDNutx7AgAAAABJRU5ErkJggg==\n",
       "\" style=\"display:inline;vertical-align:middle;\" /></a><br>"
      ],
      "text/plain": [
       "e1: 1\n",
       "e2: 2\n",
       "e3: 3"
      ]
     },
     "execution_count": 13,
     "metadata": {},
     "output_type": "execute_result"
    }
   ],
   "source": [
    "# and we can grab any single element:\n",
    "e1, e2, e3 = set_123.elements[0], set_123.elements[1], set_123.elements[2]"
   ]
  },
  {
   "cell_type": "markdown",
   "metadata": {},
   "source": [
    "And we can grab a slice of the elements:"
   ]
  },
  {
   "cell_type": "code",
   "execution_count": 14,
   "metadata": {},
   "outputs": [
    {
     "data": {
      "text/html": [
       "<a class=\"ProveItLink\" href=\"../../../../numbers/numerals/decimals/__pv_it/theorems/4ccef2d03fb90af885ea98a20b01fb871317993d0/expr.ipynb\"><img src=\"data:image/png;base64,iVBORw0KGgoAAAANSUhEUgAAACkAAAAUBAMAAADiqgm2AAAAMFBMVEX///9UVFTMzMx2dna6uroQ\n",
       "EBCqqqqIiIgiIiJmZmYyMjJERETu7u6YmJjc3NwAAAC+aOQFAAAAAXRSTlMAQObYZgAAARFJREFU\n",
       "GNNlkb1KxFAQhb+4P25iXHwEwRcIbCFiYRrBTou12iZPYL+NRgTRyljKNvsEFvbqbcQVG19AWbDR\n",
       "RsRKZDXOTLIBcYrLnK+YOXMutB/4Wzv63MPd4KIA7c5qgjeW7pxwgbXY6CvNb8IhzGf4jsaW0b2E\n",
       "T1iG1phGivdjdD3mC27gBYIJ3ke5SiYQxPRNtCYlHUVQy7g0sRkV8PnYyaohh6b2p2ZnuzIlpau9\n",
       "n1U3bDtm3gvaL9EbXCdKdUIzUy2VO6X11LYtwa7RHpw43bYi1x90TtNQ7PNofv2IDXGd53nKkXiq\n",
       "nw0kkGBRLy6vclMbI0unqFplTtLhquxvp1CT1NStqi+Z05n/fugJfgEnykT/YsQJJAAAAABJRU5E\n",
       "rkJggg==\n",
       "\" style=\"display:inline;vertical-align:middle;\" /></a>"
      ],
      "text/plain": [
       "(2, 3)"
      ]
     },
     "execution_count": 14,
     "metadata": {},
     "output_type": "execute_result"
    }
   ],
   "source": [
    "# grab a slice of the elements:\n",
    "set_123.operands[1:3]"
   ]
  },
  {
   "cell_type": "markdown",
   "metadata": {},
   "source": [
    "We can get the set of all variables appearing in a Set, which returns an empty set if there no variables, and returns a reduced set if there are multiple instances of any variables:"
   ]
  },
  {
   "cell_type": "code",
   "execution_count": 15,
   "metadata": {},
   "outputs": [
    {
     "data": {
      "text/plain": [
       "set()"
      ]
     },
     "execution_count": 15,
     "metadata": {},
     "output_type": "execute_result"
    }
   ],
   "source": [
    "# the set of variables used in the enumerated set\n",
    "# (in this case an empty set because the set contains only literals)\n",
    "used_vars(set_123)"
   ]
  },
  {
   "cell_type": "code",
   "execution_count": 16,
   "metadata": {},
   "outputs": [
    {
     "data": {
      "text/plain": [
       "{a, b, c}"
      ]
     },
     "execution_count": 16,
     "metadata": {},
     "output_type": "execute_result"
    }
   ],
   "source": [
    "# the set of variables used in the enumerated set\n",
    "used_vars(set_abc)"
   ]
  },
  {
   "cell_type": "code",
   "execution_count": 17,
   "metadata": {},
   "outputs": [
    {
     "data": {
      "text/html": [
       "<strong id=\"set_aba\">set_aba:</strong> <a class=\"ProveItLink\" href=\"../__pv_it/demonstrations/e79ca5a550fe70a432e3f1e12989b1a3c438d31d0/expr.ipynb\"><img src=\"data:image/png;base64,iVBORw0KGgoAAAANSUhEUgAAAEMAAAAVBAMAAADvM06qAAAAMFBMVEX///+IiIi6urrc3NxERETM\n",
       "zMwQEBCqqqpUVFQiIiJ2dnYyMjLu7u5mZmaYmJgAAABN0h6tAAAAAXRSTlMAQObYZgAAARBJREFU\n",
       "KM9jYGDgu8eAC7BePACieHYx4AZMqSCS7wOy2JFMVDW3QQTXBBSxvahKVmJR8p2gEqY/BJWgmYmk\n",
       "xHatGNh7DNyNsgUQSYjQMhCTYwPQ+GSG/RCJ83t4PkNshAi9B7HLAhgYjj1guAJRUn+A4SOYARXi\n",
       "vsDAEDIZyLh/gGEiLBx4foEZMKFOAQYGNaApKQw8X2HBwgTxNlSIuwHkFgeQRnZoGP9j4AV7Gyb0\n",
       "Huojnu9ARxeDlXwCOQKkBCq0DOZpR4aXDQt4fgN5fQy+DGAGWAgpXE4IBjcqMMwEhsNZKaAhIAZE\n",
       "CD102Q+gM2BKEuCBj8GAKkGkl4MYDGh6YYCnugcYDAamJIjNBNIuAMtgX5UEemZXAAAAAElFTkSu\n",
       "QmCC\n",
       "\" style=\"display:inline;vertical-align:middle;\" /></a><br>"
      ],
      "text/plain": [
       "set_aba: {a, b, a}"
      ]
     },
     "execution_count": 17,
     "metadata": {},
     "output_type": "execute_result"
    }
   ],
   "source": [
    "# define a set with two instances of the same variable\n",
    "set_aba = Set(a, b, a)"
   ]
  },
  {
   "cell_type": "code",
   "execution_count": 18,
   "metadata": {},
   "outputs": [
    {
     "data": {
      "text/html": [
       "<strong id=\"set_aba_operands\">set_aba_operands:</strong> <a class=\"ProveItLink\" href=\"../__pv_it/demonstrations/1bbb4746796109fd054edf82a5e1cbe2bf3cb5c00/expr.ipynb\"><img src=\"data:image/png;base64,iVBORw0KGgoAAAANSUhEUgAAAD0AAAAUBAMAAADM7ygkAAAAMFBMVEX///9UVFTMzMx2dna6uroQ\n",
       "EBCqqqqIiIgiIiJmZmYyMjJERETu7u6YmJjc3NwAAAC+aOQFAAAAAXRSTlMAQObYZgAAASVJREFU\n",
       "KM9jYOC7wIAL5IGI00gCPFsbkOUZHwCJdcgiXBOQeTwLGBh4UUT4E1AsMGdg4HiALOB/AEX+KAPD\n",
       "CxQBC1QHcjkwVAIpvsnTYyACC8unQRgQIeYJDHuBHNcHXB8gDvp14DzEPogQ7wKGNqBoLAPnBrAo\n",
       "2x8G/gKwQogQWwNDCAMD5x8GDrAoA+cChvMGYAZEiOkDSJ51A8N5BZj3/cE+hAoB5YHmA7XkQ71/\n",
       "gWE+2IdQIZYGkPvOJzBIsYGdxe8AtBgsDxECus+SgYG7gLeRmeE8MDAZL3BPADMgQgycBgweQMeK\n",
       "Fz0sYeDoAbKm2zJAGGAhBi4FpPDNwWAwnECOHwMMBih+GPbBIrMAnQGOX3j64GVAZzBwg+zGk77u\n",
       "MTAAADIkTpZWO421AAAAAElFTkSuQmCC\n",
       "\" style=\"display:inline;vertical-align:middle;\" /></a><br>"
      ],
      "text/plain": [
       "set_aba_operands: (a, b, a)"
      ]
     },
     "execution_count": 18,
     "metadata": {},
     "output_type": "execute_result"
    }
   ],
   "source": [
    "# notice that the operands include multiplicities\n",
    "set_aba_operands = set_aba.operands"
   ]
  },
  {
   "cell_type": "code",
   "execution_count": 19,
   "metadata": {},
   "outputs": [
    {
     "data": {
      "text/html": [
       "<strong id=\"set_aba_elements\">set_aba_elements:</strong> <a class=\"ProveItLink\" href=\"../__pv_it/demonstrations/1bbb4746796109fd054edf82a5e1cbe2bf3cb5c00/expr.ipynb\"><img src=\"data:image/png;base64,iVBORw0KGgoAAAANSUhEUgAAAD0AAAAUBAMAAADM7ygkAAAAMFBMVEX///9UVFTMzMx2dna6uroQ\n",
       "EBCqqqqIiIgiIiJmZmYyMjJERETu7u6YmJjc3NwAAAC+aOQFAAAAAXRSTlMAQObYZgAAASVJREFU\n",
       "KM9jYOC7wIAL5IGI00gCPFsbkOUZHwCJdcgiXBOQeTwLGBh4UUT4E1AsMGdg4HiALOB/AEX+KAPD\n",
       "CxQBC1QHcjkwVAIpvsnTYyACC8unQRgQIeYJDHuBHNcHXB8gDvp14DzEPogQ7wKGNqBoLAPnBrAo\n",
       "2x8G/gKwQogQWwNDCAMD5x8GDrAoA+cChvMGYAZEiOkDSJ51A8N5BZj3/cE+hAoB5YHmA7XkQ71/\n",
       "gWE+2IdQIZYGkPvOJzBIsYGdxe8AtBgsDxECus+SgYG7gLeRmeE8MDAZL3BPADMgQgycBgweQMeK\n",
       "Fz0sYeDoAbKm2zJAGGAhBi4FpPDNwWAwnECOHwMMBih+GPbBIrMAnQGOX3j64GVAZzBwg+zGk77u\n",
       "MTAAADIkTpZWO421AAAAAElFTkSuQmCC\n",
       "\" style=\"display:inline;vertical-align:middle;\" /></a><br>"
      ],
      "text/plain": [
       "set_aba_elements: (a, b, a)"
      ]
     },
     "execution_count": 19,
     "metadata": {},
     "output_type": "execute_result"
    }
   ],
   "source": [
    "# and the elements attribute includes multiplicities\n",
    "set_aba_elements = set_aba.elements"
   ]
  },
  {
   "cell_type": "code",
   "execution_count": 20,
   "metadata": {},
   "outputs": [
    {
     "data": {
      "text/html": [
       "<strong id=\"set_aba_vars\">set_aba_vars:</strong> <a class=\"ProveItLink\" href=\"../__pv_it/demonstrations/5ea6309560fa64152e27f7b9a886636aed7e02190/expr.ipynb\"><img src=\"data:image/png;base64,iVBORw0KGgoAAAANSUhEUgAAACkAAAAUBAMAAADiqgm2AAAAMFBMVEX////MzMxUVFR2dna6uroQ\n",
       "EBCqqqqIiIgiIiJmZmYyMjJERETu7u6YmJjc3NwAAACgK8IjAAAAAXRSTlMAQObYZgAAAQZJREFU\n",
       "GNNjYOC7wIAK8kDEaQaerQ3IokwPgMQ6BgauCciiPAsYGHiBIvwJKEaYMzBwANX7H0ARPcrA8AJI\n",
       "WaBax+XAUAmkFpVPg/D5Jk+PYWBgnsCwF2j8rwPnH4BFXR9wfQBatYChjYGB7Q8DfwHY9lgGzg1A\n",
       "fgNDCAMD5wKG8wYgUc4/DBxAacYPIFGgc/3BbmPdwHBeACwKNIH/AsN8sNuAOvKBFEsDyDZ+B6CB\n",
       "YNEEBi22ByDbLIEev8A9geE80J/cBbxNzEDjDRg8gFZPtwX6sQfIUC98VAK0RwDsYzDIgfvtBCR0\n",
       "wMAAOXQY9kHDrwA5JIGhDga8cKXcIDMxYugeAwMA+V4851ZxFhsAAAAASUVORK5CYII=\n",
       "\" style=\"display:inline;vertical-align:middle;\" /></a><br>"
      ],
      "text/plain": [
       "set_aba_vars: (b, a)"
      ]
     },
     "execution_count": 20,
     "metadata": {},
     "output_type": "execute_result"
    }
   ],
   "source": [
    "# but the tuple of variables used is just (a, b)\n",
    "# and the order of appearance is not guaranteed\n",
    "set_aba_vars = used_vars(set_aba)"
   ]
  },
  {
   "cell_type": "markdown",
   "metadata": {},
   "source": [
    "We can also dig into a Set in terms of its sub-expressions:"
   ]
  },
  {
   "cell_type": "code",
   "execution_count": 21,
   "metadata": {},
   "outputs": [
    {
     "data": {
      "text/html": [
       "<strong id=\"subexpr0\">subexpr0:</strong> <a class=\"ProveItLink\" href=\"../__pv_it/common/0ead90ccbf4f17bc585a51f8aa904bb77916ae6e0/expr.ipynb\"><img src=\"data:image/png;base64,iVBORw0KGgoAAAANSUhEUgAAABsAAAAOBAMAAAAs4XpOAAAAMFBMVEX///+IiIjc3NxUVFQQEBBE\n",
       "RESYmJh2dnYyMjK6urrMzMwiIiKqqqpmZmbu7u4AAACHU+AlAAAAAXRSTlMAQObYZgAAAKdJREFU\n",
       "CNdj4Lt798AFBjh4vYBhdgOEyQnEtQwMbFDuWyDuBeIACDcXiEMeMDAkgHk8f4HEfPcJQJLpWrFC\n",
       "7u+7BxjY/v/vZGCY/YDTj2EvSM2z2/8TGNwZGBwhXAaGJR+4/qalmYG5QGM4f/L8AQnvhVryi+sj\n",
       "hCvAsJOBgesDww4GhocMzQwXGHZMYHiRwLD+AMM9hhtArsH0y5EMDHy24g8YmM0VAG6zNIzpu6oT\n",
       "AAAAAElFTkSuQmCC\n",
       "\" style=\"display:inline;vertical-align:middle;\" /></a><br>\n",
       "<strong id=\"subexpr_1\">subexpr_1:</strong> <a class=\"ProveItLink\" href=\"../__pv_it/demonstrations/bb46d2ccde3f0804676c894d6deb5bedd42560390/expr.ipynb\"><img src=\"data:image/png;base64,iVBORw0KGgoAAAANSUhEUgAAADsAAAAUBAMAAADB8VhjAAAAMFBMVEX///9UVFTMzMx2dna6uroQ\n",
       "EBCqqqqIiIgiIiJmZmYyMjJERETu7u6YmJjc3NwAAAC+aOQFAAAAAXRSTlMAQObYZgAAAS5JREFU\n",
       "KM91krFKxEAQhv94Xsgm5mInWOURAhZqIVwj2F1jqZAHEA0iHHYRwcoiIHil6wtIGkvlGkGxSF5A\n",
       "id2VV0sKZ3cTmDNcisk3/+7O/rO7wKDEku9UhU8mrD2nLLMqCk98gZvxyRLwuYAg5tk24FRcGE15\n",
       "9gbMFtzsLGTuEJf0G9xNjozwOL5vC49D9DK8EO5X7tyY+Z0WZrNZ7En4EjckHkPkWrRrBImma1gx\n",
       "7BSHgKjhGFFIFJGGWsWVuRru5yjCtu2Rbq2fN8NUnBacNW2XeNCtmRqrqbJWxNi0taNgSD6aeYiV\n",
       "tV3AS/yrHgo6Qqv0Mg1iHR8hRIQDcr5x/nMB55ZosgcN2Pois27IDvWkA+/8SqIO0JXgtb2+pAOS\n",
       "PQcf/8FT+y5/TN/AHyMESix9a0nJAAAAAElFTkSuQmCC\n",
       "\" style=\"display:inline;vertical-align:middle;\" /></a><br>\n",
       "<strong id=\"subexpr_11\">subexpr_11:</strong> <a class=\"ProveItLink\" href=\"../../../../__pv_it/common/195236b98c6c564a75b5dbada74b173bc52d5c3e0/expr.ipynb\"><img src=\"data:image/png;base64,iVBORw0KGgoAAAANSUhEUgAAAAkAAAAOBAMAAAAPuiubAAAALVBMVEX///+YmJjc3NyIiIhUVFR2\n",
       "dna6urqqqqpmZmYyMjIiIiIQEBBERETu7u4AAAALjtrwAAAAAXRSTlMAQObYZgAAAE9JREFUCNdj\n",
       "4D29gAEIOBtAJF8BiMy7ACKjQATDFON2BgbelxfuKTCwv2XgM2DgmMBwLwCkPK+AgU+Aoe8CA18C\n",
       "70YGBhYBHqARvM2BDAwAqXgQspq5HJAAAAAASUVORK5CYII=\n",
       "\" style=\"display:inline;vertical-align:middle;\" /></a><br>"
      ],
      "text/plain": [
       "subexpr0: Set\n",
       "subexpr_1: (a, b, c)\n",
       "subexpr_11: b"
      ]
     },
     "execution_count": 21,
     "metadata": {},
     "output_type": "execute_result"
    }
   ],
   "source": [
    "# grab subexpressions from the Set construction\n",
    "subexpr0, subexpr_1, subexpr_11 = (\n",
    "        set_abc.sub_expr(0),\n",
    "        set_abc.sub_expr(1),\n",
    "        set_abc.sub_expr(1).sub_expr(1))"
   ]
  },
  {
   "cell_type": "markdown",
   "metadata": {},
   "source": [
    "## Axioms <a id='axioms'></a>"
   ]
  },
  {
   "cell_type": "markdown",
   "metadata": {},
   "source": [
    "Right now we have a single axiom in the logic.sets/enumeration theory, defining what it means to be a member of an enumerated set. If $x\\in\\{y_1,y_2, \\ldots,y_n\\}$, then $x=y_1 \\lor x=y_2 \\lor \\ldots \\lor x=y_n$:"
   ]
  },
  {
   "cell_type": "code",
   "execution_count": 22,
   "metadata": {},
   "outputs": [
    {
     "data": {
      "text/html": [
       "<span style=\"font-size:20px;\"> <a class=\"ProveItLink\" href=\"axioms.ipynb#enum_set_def\" style=\"text-decoration: none\">&nbsp;&#x22A2;&nbsp;&nbsp;</a><a class=\"ProveItLink\" href=\"../__pv_it/axioms/b01212efd6e28480519640e6f97d2066a14ba12d0/expr.ipynb\"><img src=\"data:image/png;base64,iVBORw0KGgoAAAANSUhEUgAAAcsAAAAyBAMAAADBxu0RAAAAMFBMVEX///8QEBCIiIhmZma6urrM\n",
       "zMxUVFQiIiJERETc3Nzu7u6qqqp2dnaYmJgyMjIAAAAcRTyBAAAAAXRSTlMAQObYZgAAB3xJREFU\n",
       "aN7Vmn+IFGUYx5/dndnZnZ3VI+yHSrbewSVh3GJZf/jrTkGhSFeD8I/CxZR+EHKppZnJZaRnZa0R\n",
       "qCd24yF3ZqRbctBF0nYahP1gUftDMFwQBMNk0VN00673nZ/vO/u+M7Nr010v7O7szDPPvt+Z533e\n",
       "5/3sALi2B4ZvQX3tOIx0k7P6pzI83OBhOnF3V32/oRRqsU7Oqsn50w/5MltoyN29x0vm3fVeymb2\n",
       "7niRed0v1ei9LQMw4H3xSsaGGJTMBMfxAXZ/yjW6jyAB0Zyn2QdBy9zXyt5/kR3h7bUOCXSCXPLd\n",
       "i8BkvsMJo/S/JxMGfcdUUDITFfZ+iQq05NZ1m+5A5j5vu43BypTYdw12kl/Ezeod3c0xrZ523+UC\n",
       "lXmOkx6a0Kun+ZOpKfzlkEoNtaYU7FBdfPZMg/gE8wTcbyXt93IHJXM9Z/92JKeQXC1p2eMla3cU\n",
       "fVeEBmgBsYPrs9AG4TKZmvX54tfLuJ3n5IJKkDLFIc6BN5EcVakI2s22FX2JpsE9aJLoFB/hhm88\n",
       "Pxti1ilYVsI71OUrQcqM8NyOQ79sdlachG8D3lr6BnpTQym4AgK36zLcBWNT1v1fjRz4mG0vBykz\n",
       "lOXLBLOz8Q6qqIFFqnjNRSYIFViWMb9cAH8yW3IBylxW5ActWJ21fzuKFc+GcIObTBTUk+HUb41p\n",
       "c2zqtvrYvMA5qbsYoMyWHD8FJdQWCGsZdRo9P2yBWNZNJjq6BU7fD+PNTJss+Y2rgGS+zTtwDMVm\n",
       "/iPYq2f7PCXzMVhU1GQext3Hb/Lf5EYkK9yO97RDxTwh4mMRFGs3ZGqX5HcXme4GzHYf78ACgN7G\n",
       "nll6TMsvPkHK7G2ck9NkShvwNcC34XVzYx26/fLyppsQTQkNVnmQ8VFHlA2ZP+HPP1xkuhswk+JV\n",
       "7nRNRbPwI13szTbG2zfVxaNqjM5QJlLIGCf0+VnIXjNk7qKTXrVMdwPmtHmF+6uc0r0BlwjykDEX\n",
       "Vgejgl6r4HArdIP0ZMZ36W52Bckcgy6UkneR6W7ALNz/4h7axl1vSsVYCuKPX0+BnKou9NDrLdgM\n",
       "MB/CvxjrTR8LMTOwkMzkiYMHd7qlIHcDfqTUsKyGSyhcG6ebp1cfx4N5bpM9FttQ1R7L+enLdTPT\n",
       "3ujs3OiaaV0NWC18k3uIDUkgUQcLOuPL9IYpcyUvlEyZrgbMoVaBUdMmmTLn0VEurjkOk7OkzHn+\n",
       "hgFRr4wimfeaMiUIW5H0+bFZ8LWiRlRSJmngq0XLo0fmq6ZMpShZueP9LhWOptIKFbSEwf9YZrz0\n",
       "DObBS5pweKLW3/8xLVMzgMHpzSjTCc0gVS3x52Zhw2gN2nVWTbttBZLZVgzl9LquX/niWbqmxQZh\n",
       "dZWEsrgyVl0MUYfQQoWujZWbjtwa9wj6Ab+d9nKkeRpgpiA4gkqKrgdhrCprNUo/FI7RMrGBCH/i\n",
       "za4FMEX8npYZ398epqqk8DXHTHnAK8pzPmUeAB+eKG/3WDK1Ze5yaANxfWfnZiRzr0TL1NfB+i2a\n",
       "iSydYRspRKnCJUkykovAg9BEraKFkahtV9fjGfuglyPNEzUvXLVkJlVNz0wRsvrdFJbQMjUDsaz9\n",
       "0lq0yylTag1lTh09a0/2Q3QVm/REcFp5GsV6ktWV3kr8dtKlJHZ6Iopd+Ra13oyXYW0//IA3TwOc\n",
       "rV5vdislBXap8JpQxjLj76Ev5puUWQRfddghIN6m1ySSZ0xqZFnEV7k6wQFOgHqO83akedrHKN2N\n",
       "NVEWphYhhip0YVMrRKtl9p4ePAGL8zB/Sgl3RZwIi3PiePw2EYTlH6JbsdQRKXrbCQ4IzWw6Wb4I\n",
       "RrJ3HETihDT4cqR5Iji1vopw0oMpaGy60YO8nIsVtSuesD3BZ7Ad1RAP28432Wc0gQNCEwFlA2id\n",
       "LB9hL2ESabNO5ziiQHWa4tR60q8RkiRy0cJCEFtmkFl7AF4RStAL39rJfg5FfygIrWiE6jLuCAGg\n",
       "dayDwp6Jo1GiX2o6YzmiQHWJgkTRch0ykyCcLdhLI3PrqZ8dZ51TKZZHQWi7EQBaJ8vhFERbGZ1o\n",
       "BFhhOmM4okA19kRw6lBHkAAzT5FZEkITjQDQOnKV2+EQy12fOUewHVGgGnsiAG536r/B0eMcEJps\n",
       "NoA2OjZDB09VK568QS84jkhQ7ZAZKI6OlJ1Ba0FoY0hlgQLQBp79FJiYNl6Sqmk24YgE1dgTAXu3\n",
       "QoAyhSFnCrIhNNFsAG0kjdhzKaa/d08yaDYbVDtSUKB/FcEaEkDTEJpoFoA2ybL4gi6AYtG4QNjA\n",
       "oNlE8BCgGnuyOXU40D/+iFS7wAmhiWYBaIssG39T0iwaHU4zaDaRgwhQjT3ZnNpIEkHJDBX8FXsm\n",
       "gDbJMudZq7jKotnk/bRAdR/FqQP+U95+xMKldCcA9KA/txxHJKimS3cjOgJ7YOY8BaDZYJAA0H6R\n",
       "GtsRAarphVhiQsAyd2S8l9U2gI7d2bKaANXYk+0t8Mef7HrLDyQ549etJyQ5Q3l7HgKWiSaLkW/J\n",
       "Dr8y637QNJoaeZn+HzSt/7HhR0dcpfyyseYcHm74BwzjOMeoNQNOAAAAAElFTkSuQmCC\n",
       "\" style=\"display:inline;vertical-align:middle;\" /></a></span>"
      ],
      "text/plain": [
       "|- forall_{n in Natural} [forall_{x, y_{1}, ..y_{_a}.., y_{n}} ((x in {y_{1}, ..y_{_a}.., y_{n}}) =  \\\\ ((x = y_{1}) or ..(x = y_{i}).. or (x = y_{n})))]"
      ]
     },
     "execution_count": 22,
     "metadata": {},
     "output_type": "execute_result"
    }
   ],
   "source": [
    "from proveit.logic.sets.enumeration  import enum_set_def\n",
    "enum_set_def"
   ]
  },
  {
   "cell_type": "markdown",
   "metadata": {},
   "source": [
    "As an exercise, we could, for example, manually instantiate that axiom for the case of $x\\in\\mathbb{B}$, by first instantiating for $x\\in\\{\\top, \\bot\\}$:"
   ]
  },
  {
   "cell_type": "code",
   "execution_count": 23,
   "metadata": {},
   "outputs": [
    {
     "data": {
      "text/html": [
       "<strong id=\"enum_set_def_spec\">enum_set_def_spec:</strong> <span style=\"font-size:20px;\"> <a class=\"ProveItLink\" href=\"../__pv_it/demonstrations/ef6f092f38a0b9b5c3101ce5ad74b0f6040d5e250/proof.ipynb\" style=\"text-decoration: none\">&nbsp;&#x22A2;&nbsp;&nbsp;</a><a class=\"ProveItLink\" href=\"../__pv_it/demonstrations/2f6fd7a5c8743a7c81edcc06083645f1a3b6a9900/expr.ipynb\"><img src=\"data:image/png;base64,iVBORw0KGgoAAAANSUhEUgAAAUIAAAAVBAMAAADBf/pUAAAAMFBMVEX////MzMxUVFR2dna6uroQ\n",
       "EBCqqqqIiIgiIiJmZmYyMjJERETu7u6YmJjc3NwAAACgK8IjAAAAAXRSTlMAQObYZgAAAwlJREFU\n",
       "SMe9Vz1oFEEUfrm73N/unkdAQa6IgmAXrguK4IGINtErtL9GYhHCocUROPCwuAQ5woKNTWCNNgYJ\n",
       "ESwE8VwikpAUpotGDFdYBEQ4G20snJm3P7M7M7t7KRx4s7sz3zfvzZuf9xZAUYwVefvpNvzvUtqT\n",
       "terPVPirZYB5SftPR9RlPplqHp4dkGpX7sIhwJMlWh56badYXbAAUgNxShsokuKOI7B2VcYxTQw+\n",
       "RWRdikl32GOWb5v1enRLIBQHKPLCqMgq02qMta7Hw3eIs8xjWAjTAuGLIxEqkXWWVvtsncx4eLoJ\n",
       "+cC8vy4tWUks/CgMuuxIlErGmqBVj1b5QTxcr8MR31NpJ/RhsRbe9B2USJWMRbdChnnvKAn8OSyQ\n",
       "euve9/tNavDLJKtcp1V4gXImit6aujatUslYWVJpzHu8aiX8Arwjo1aNxbwFgSOaslQW0lMOBuu+\n",
       "uEbLC/qq7aF8gM/NR6E+n8pYZO4V9smrTjP4minAD6BLeu303ww1TvOtuVNWWQhUaza8oPkGyiW4\n",
       "bN9Q+RBZLYBz7JNXrYTfhVtkIqDhRXaSToPNs7IMSgtTi+S2GIbGHK+h2PBWvbGQte1eVrxqJXyS\n",
       "wgBO4Fb4EYwcCgtXIcJCgD9xFhYa6YZroac6wsIufZ9Ee8Z9TGojch9mOv5eW+VXGcZ+IZjr86jI\n",
       "Kll5cFfZU+3swzMC/Drdrln7AeRsOrtm0rNshIOKe1LmckNoq5zisF7tg3tSPNVK+AE5zXCz8d6J\n",
       "+V2phZ8s4T4sVMMxyGSS+a0NZfkAUh3WRA8bA6pV8MfEi7DZ2lrBUTdf20ELZ9gK9jD832ZpBN7Y\n",
       "5dCYdEWI6OfbC98kG2sGr2BkFZ07JaA6kGigJgZ/Ggo9V94Eox6WOSFib48Y9bA4rJLjBnXU8+F6\n",
       "R5k51LmPqmDhqJkD+JkDl+GZ8XCSOUBfmR96qV/gQqD5oST7ooFMi3aKwOrHw3fUaSSXYxvBHLsm\n",
       "NSUig+UnkSyD9eF9dSqejfpPOTzWX8DhaH8BFG4M4B9ChQVCPL4GBAAAAABJRU5ErkJggg==\n",
       "\" style=\"display:inline;vertical-align:middle;\" /></a></span><br>"
      ],
      "text/plain": [
       "enum_set_def_spec: |- (x in {TRUE, FALSE}) = ((x = TRUE) or (x = FALSE))"
      ]
     },
     "execution_count": 23,
     "metadata": {},
     "output_type": "execute_result"
    }
   ],
   "source": [
    "enum_set_def_spec = enum_set_def.instantiate(\n",
    "        {n:two, x:x, y:(TRUE, FALSE)})"
   ]
  },
  {
   "cell_type": "markdown",
   "metadata": {},
   "source": [
    "… and then bring in our axiomatic definition of the Boolean as $\\mathbb{B}=\\{\\top, \\bot\\}$ and perform the appropriate substitution:"
   ]
  },
  {
   "cell_type": "code",
   "execution_count": 24,
   "metadata": {},
   "outputs": [
    {
     "data": {
      "text/html": [
       "<span style=\"font-size:20px;\"> <a class=\"ProveItLink\" href=\"../../../booleans/_theory_nbs_/axioms.ipynb#bools_def\" style=\"text-decoration: none\">&nbsp;&#x22A2;&nbsp;&nbsp;</a><a class=\"ProveItLink\" href=\"../../../booleans/__pv_it/axioms/431e034907d6f96351eae8139726328016eb40280/expr.ipynb\"><img src=\"data:image/png;base64,iVBORw0KGgoAAAANSUhEUgAAAGYAAAAVBAMAAABGR4Y+AAAAMFBMVEX////c3Nx2dnaqqqqYmJhm\n",
       "Zmbu7u7MzMy6urpUVFQyMjJEREQQEBAiIiKIiIgAAAAUQ1kVAAAAAXRSTlMAQObYZgAAAPdJREFU\n",
       "OMtjYMAOWEKwi5c+Y8AF2BbhkukpYGB4e3r/mpsNGNZ8YGBgvQsGE2BixWCSdQGQWFDHtg3DIUwX\n",
       "wBTzAyQxO4TMhhaG59yk6zEmQ49GNsl6OK5PJ0HPAZCenvt/wOGmtQoEloJlOBfg0gMKUZDbVJzQ\n",
       "7bEpwKWHYSlEDzeHA6qW6osMOPVw3oPoYZiAJbZx6FkJsYeTYQHcPyshhm0g5B9uFgXSwm1BEYNS\n",
       "JL6wZvuFHj/Y0yhUDyRs7iYwMMTevXvm7t2bcBksAEWGOQGXDKqeA8gcBqL0gEMHBvKQZVgX4Myo\n",
       "yPkUJcJ7GnDqYcZTHgAACIJoLluo+GYAAAAASUVORK5CYII=\n",
       "\" style=\"display:inline;vertical-align:middle;\" /></a></span>"
      ],
      "text/plain": [
       "|- BOOLEAN = {TRUE, FALSE}"
      ]
     },
     "execution_count": 24,
     "metadata": {},
     "output_type": "execute_result"
    }
   ],
   "source": [
    "from proveit.logic.booleans  import bools_def\n",
    "bools_def"
   ]
  },
  {
   "cell_type": "code",
   "execution_count": 25,
   "metadata": {},
   "outputs": [
    {
     "data": {
      "text/html": [
       "<span style=\"font-size:20px;\"> <a class=\"ProveItLink\" href=\"../__pv_it/demonstrations/4d6c51afb10c918652ad2a8cd5f275d8233de1640/proof.ipynb\" style=\"text-decoration: none\">&nbsp;&#x22A2;&nbsp;&nbsp;</a><a class=\"ProveItLink\" href=\"../__pv_it/demonstrations/5c0ba1c2c3d84adbaaa62ba4edd1f5f7ad57f6630/expr.ipynb\"><img src=\"data:image/png;base64,iVBORw0KGgoAAAANSUhEUgAAAREAAAAUBAMAAABYABS6AAAAMFBMVEX////MzMxUVFR2dna6uroQ\n",
       "EBCqqqqIiIgiIiJmZmYyMjJERETu7u6YmJjc3NwAAACgK8IjAAAAAXRSTlMAQObYZgAAAupJREFU\n",
       "SMedVj9oU0EY/9L3TF6SlxgyuDgYoeAghGylKtjNDlU7KBSnt+kgEnQIhYJFsD6kSMBBFyGKix1K\n",
       "nBSK9aGUxmYJOFSFlgwOXYS4KIig39137//dSTz4fdy7e3e/333fd38AygNQlhuStm8CypIdJlt0\n",
       "FETCifqSztzdjV8LkwATqUnB7hLSJe/yUoN6sqevEnGEGUbCidZlvxQyzf6HAdiddM+QIHdHk9kd\n",
       "Xq8wk+HVdZWSq3xtHUKpLfulaA5yFVz5VKrns4BGicHtcWZ2mZFTBEo4CcKKra/02r0vlGQdVLKV\n",
       "GvxAQKPEnme2yswqM9ZQr2SLcBDtybzyAp8Yc6ikMJNMvmWCTgk898Nocm8cgF4JI0EsYnX75tdb\n",
       "FGEvjM5sFSNtJB2baxPsVv3clErJNK/jX0XujRiFRAkjQbzBWRulexbPzXqYJwt/LrFo8eZTa6y8\n",
       "4B0Dwnv41GRxNHjXWjum5Au36LmjvBKliEwVKGEkiBWczTN+m1x9N5Kxxl4Dp04GwnIIZ+Csd0Hl\n",
       "k2vctgAmeSVGIfEJI0Hgym0okoTMFSZYKIHueWwZJcYemiF4sKHOk2Pc9vxDIEohU8JIECwGcJhm\n",
       "KEd9At0JjRKAn/9SkncMx1cSUGiUrPChFeqZjyqpFTD5l8M8eRaNDmS+U7ZRntRiSmZpXR0L/OgE\n",
       "FJGpAiWMBIHplPVuQ47vmkcxn3z0MzZ65ImMvZ4bwZLKJ5Sx8HIX/IwNKSQ+ERmLO+6i81bcaZYT\n",
       "nPYNYxoXmm8kxoodZ/4ojiT3mlDykL6qq+Bv6pBCooSRINCT71rbT2hW++Rc7AaEQiUxVnjSPrG0\n",
       "uJee2aRpnorliL0dowjLY9e97Lp3iAQRP4rN03Ta+6U33mkvrmux9csiHOrTPiTp6a4n/3Ia4wYU\n",
       "EUxsEz1FcAPCpm516VcBO8CL+kXuJBs29S4UrwL1MwaklOqXkpq4r/09WJvuabf/P6/H0pivx33C\n",
       "X9268bM6MMMmAAAAAElFTkSuQmCC\n",
       "\" style=\"display:inline;vertical-align:middle;\" /></a></span>"
      ],
      "text/plain": [
       "|- (x in BOOLEAN) = ((x = TRUE) or (x = FALSE))"
      ]
     },
     "execution_count": 25,
     "metadata": {},
     "output_type": "execute_result"
    }
   ],
   "source": [
    "bools_def.sub_left_side_into(enum_set_def_spec)"
   ]
  },
  {
   "cell_type": "markdown",
   "metadata": {},
   "source": [
    "## Theorems & Conjectures<a id='theorems_and_conjectures'></a>"
   ]
  },
  {
   "cell_type": "markdown",
   "metadata": {},
   "source": [
    "The `logic.sets/enumeration` theory already has a substantial number of related theorems and conjectures established, most of which would typically be used implicitly behind-the-scenes when utilizing the various related Set class methods instead of being used directly and explicitly in theorem form. Some illustrative examples of the theorems are shown below, and the remainder can be found in the [enumeration theorems Jupyter Python notebook](./\\_theorems\\_.ipynb)."
   ]
  },
  {
   "cell_type": "code",
   "execution_count": 26,
   "metadata": {},
   "outputs": [],
   "source": [
    "from proveit.logic.sets.enumeration import (\n",
    "        fold, fold_singleton, leftward_permutation,\n",
    "        reduction_right, subset_eq_of_superset)"
   ]
  },
  {
   "cell_type": "code",
   "execution_count": 27,
   "metadata": {},
   "outputs": [
    {
     "data": {
      "text/html": [
       "<span style=\"font-size:20px;\"> <a class=\"ProveItLink\" href=\"proofs/fold/thm_proof.ipynb\" style=\"text-decoration: none\">&nbsp;&#x22A2;&nbsp;&nbsp;</a><a class=\"ProveItLink\" href=\"../__pv_it/theorems/4b71bfe5d22b9547d17c7ff100fd316b5dbe9cd80/expr.ipynb\"><img src=\"data:image/png;base64,iVBORw0KGgoAAAANSUhEUgAAAegAAAAZBAMAAAAIx6A3AAAAMFBMVEX///8QEBCIiIhmZma6urrM\n",
       "zMxUVFQiIiJERETc3Nzu7u6qqqp2dnaYmJgyMjIAAAAcRTyBAAAAAXRSTlMAQObYZgAABZ9JREFU\n",
       "WMPdWG9oHEUUf7nbP3d7f1LEfIgiXBuJISb0KIpIm3JRSAWr3USQfAj1CAZFNCwaG5tWPYrYi1I9\n",
       "VGoI1K5Roo1oT23UioFrWhFaIweNopLifbW0ciiCDSi+N7O7t3u3e3GtcrQDtzdv9zfvzW/mzZs3\n",
       "A1CvSOO74Worwvje+gAZrsZy8AomHevxgxY36VcU6XDR7a1ywadbt+DjOCddor9znqTjbEyLDSX9\n",
       "rvtEl32q2UpBKsdInyH5vCfpaB7/4npDSf/s+jaq+VTzFblHiZGeIv/JeJJmn6Yau3aT/x1pWGSk\n",
       "aRbZdHqsaXKCMw0lLefs0vfj46XLIP0mIx07PTf3ep1AtjI3d0RrKGlH7wY7L2+m4ykWvf/IZvfW\n",
       "Id2cze4v+A+4bi9VH1gQrVob/mbaX+tK0Jo873DvmU0Qvq5eP+yAE6xVkpEeAZisQ1pSIZT752xT\n",
       "/M91mI65N3Ef0kjKrB1AroXY43LJjL5GtohyoRcCZRj07g4H8PITCxAlRvpOHtKsEX7iFKxPV0gL\n",
       "SfjAxxTzkCi5DlPQ9a3kMaS3m5U9OD96dFUgXKjy/UMVwvmtEMrcd5u3wzGAIcQpIEY0RlqGgLUN\n",
       "v3eyBz6L6kHdlpxo0O2b9JDrNyUNZMmyxoUhD02zZuVabGl2vf8XLGyOBnfT62ugOQHbPHtjAIzy\n",
       "ENbEMiMdLVp5V+zFaR0WEsmoPSNbAs036RGvDfdGHH3TjQzBAwvxXIU0mF23bZ69GCKEVXhArUPa\n",
       "ABgKybBBOly6n/LYgTbydCzz8684SL8hIjjaNkCduyMNEzV620HWq0jjMC3e2q5WA7rJPStOzgXN\n",
       "0g4OC5b/7aGH0fUm27JAU8ESrId6pBng7LcbkuaaFrh7w+SDSLq32JTjKel89P0hO+nQQQwpnVJp\n",
       "jOLCqrgOHqlKEpr1/qqZDmsQ0Efl1MNZLEUGkIj2JxBN2dJ9JiCWaZcIe4Bb4JEsXQlkEX0jaiQS\n",
       "CUf0DqXh+bqkGWD5Bmg1o7cRyOBjbD19EzTrCkt95qFw0k46QnFCjdO4h9/WApmhqj1ieht0VJEW\n",
       "MrjjXLQDxBPU5btAyVQCFBcQa2gH04LhIGYAwt7syL8MhyrTbpEOpoU/OemjSEb5y6hUJAKEZzRY\n",
       "NffpYIGTZstlGHpBfCqb3YekD8mOU9avbE3leBMpUePgW7BxFWmapEsOAHPwnQCnlHQFTALDNlsu\n",
       "zyzwbcTcU5DT7IaZHj4us8/pNtLKcNslTlqmXu2iStp8jOsGQEoI66zkROWkY6SmBbaIkOYzLQw4\n",
       "SP/I1hRLLeRUk1pDegxaYpvPFWykxQxFDBFGKdYWCcBJ9+GJKWhLUUggLGmXCHuRWTi7sGKOXG0a\n",
       "un2/Iw3FRcvd+/PanV43AE1qsKAapN+xnafDZRibhy+puoypZ/V5Olz+BgrhF0BWdwCRxuqUzh5T\n",
       "OjwplCMdZohnpBUNDkdLVjhEACeNeqPfVVozAbFMu2kRLXyUIbuxwhoHDpy9UTiKAedT9xSH7DPA\n",
       "YZDvVh0HDmMBpaGrCCE8eAjPpECqJq08tr1LF68HYfglRhqr/TmxFR/9eejrKMGImLFH7wmYXV48\n",
       "bWohACN9C2r6HVu38tZMQCzTbnYELUgq5VhBKyWb9DxPPw37AF59FpeXkqhNQcEA9EFgyThPG0dL\n",
       "R+nANe19cxKBIxRKJ1jVLHklFyqCFli2k77ZkSEQgJEmi46juV6NZRZk6EbC8TUuEeACbnBt5mKJ\n",
       "1X6nIFABgED7fSjn97roODwqlGDgt7xx7cIGIicV7sVcK7JkJx1y5JkIEDduRqzrBYwDyyzMwheI\n",
       "XFjjuggi/+KO7Affd2RFuOdr2ygaIyysFGoyMsHeTQvwlnvS5KBkWVCSDbsN9X3vnTSdwqV0ujdx\n",
       "xfJc5P+59971N4SEmbf/zheIAAAAAElFTkSuQmCC\n",
       "\" style=\"display:inline;vertical-align:middle;\" /></a></span>"
      ],
      "text/plain": [
       "|- forall_{n in Natural} [forall_{x, y_{1}, ..y_{_a}.., y_{n} | (x = y_{1}) or ..(x = y_{i}).. or (x = y_{n})} (x in {y_{1}, ..y_{_a}.., y_{n}})]"
      ]
     },
     "execution_count": 27,
     "metadata": {},
     "output_type": "execute_result"
    }
   ],
   "source": [
    "# If x=y1 or x=y2 or … or x=yn, then x is in the\n",
    "# set containing all those options\n",
    "fold"
   ]
  },
  {
   "cell_type": "code",
   "execution_count": 28,
   "metadata": {},
   "outputs": [
    {
     "data": {
      "text/html": [
       "<span style=\"font-size:20px;\"> <a class=\"ProveItLink\" href=\"proofs/fold_singleton/thm_proof.ipynb\" style=\"text-decoration: none\">&nbsp;&#x22A2;&nbsp;&nbsp;</a><a class=\"ProveItLink\" href=\"../__pv_it/theorems/6bb2f4c3a63b87273b0972258cd9decf3be6b9080/expr.ipynb\"><img src=\"data:image/png;base64,iVBORw0KGgoAAAANSUhEUgAAALMAAAAXBAMAAACyt2M4AAAAMFBMVEX///8QEBCIiIhmZma6urrM\n",
       "zMxUVFQiIiJERETc3Nzu7u6qqqp2dnaYmJgyMjIAAAAcRTyBAAAAAXRSTlMAQObYZgAAAnJJREFU\n",
       "SMetlU9o1EAUxj+3ySbNZrd7sFcJW1iKCC1CPWmtCBY8WIvgVRGF9bJIUTwoIh7s9lAaQbAo4tjD\n",
       "Kj1IoCdvsR6UehnQi6AYEAQFpYiF1pNvJv/XRIz2QcjM+2Z+mbx5bwbYNnvN/feJ3f+M6OeZ7idu\n",
       "2Dp0HHhKb0903hdBP852f4hafcQs28Ar0flSBP052/0iapkXAIPwi+IXrxcgV0f/Bo1VoMao7RRA\n",
       "a3bqQ7OXr2WiH5K2trx8p0g8UoPVGyxn1bUJYLPTuVoEPUTPUvP2HkumBUsGxBiycIvBrAs+xe0c\n",
       "MPfb/Il89Dwh3OqMJlPrfOxvE06pY4QCsS4iRfphuZs99od9vUIIZv5U7PS4yiBwj9KuQ+2Pok9R\n",
       "0VDiRdA7adXQ/QHqrm9ksjVLn2I7LHynTnmGHLR0k2soiAYGLL8w43EKrRpTTN2g1yf46H7vpEjD\n",
       "sSaVp9KExmK075QTQ0EGBDgV+OvxJ1v0jKNUD2KtiDSZOwuUWFujrTMH2HS8aulsdch4JMhtrLAR\n",
       "EkVnb7pkbkI/DT9DxDZihfgqvgr57iSGY3TgTAnAc/pvZwH3/fpxUuh9mOJBXve5Udy2pL4fZ5Kx\n",
       "3oomhgIwCXQbSwf8rTdaR5PobuOgHZaMCFmVyairQr+IwQRaONsiB3gk9Ba68jJd6ONhNT4KRzww\n",
       "PROLDJeU9RgtnYGFQv7x9IySzjN+JI4n37pvVtcw7eDIsBejpTOwUEBW7YbntcZ1Kzive8vQMWyd\n",
       "Z+Z1JORfBTUXSmNM3jKUa3oqbKjYZfdYdslEQv4FhpXk3fi255CH8s7NRkfC/9voNjB+ATPTrv1u\n",
       "M2p4AAAAAElFTkSuQmCC\n",
       "\" style=\"display:inline;vertical-align:middle;\" /></a></span>"
      ],
      "text/plain": [
       "|- forall_{x, y | x = y} (x in {y})"
      ]
     },
     "execution_count": 28,
     "metadata": {},
     "output_type": "execute_result"
    }
   ],
   "source": [
    "# if x=y, then x is in the set {y}\n",
    "fold_singleton"
   ]
  },
  {
   "cell_type": "code",
   "execution_count": 29,
   "metadata": {},
   "outputs": [
    {
     "data": {
      "text/html": [
       "<span style=\"font-size:20px;\"> <a class=\"ProveItLink\" href=\"proofs/leftward_permutation/thm_proof.ipynb\" style=\"text-decoration: none\">&nbsp;&#x22A2;&nbsp;&nbsp;</a><a class=\"ProveItLink\" href=\"../__pv_it/theorems/53794069f3c3c976015de0cbcb8021f6dffb5c290/expr.ipynb\"><img src=\"data:image/png;base64,iVBORw0KGgoAAAANSUhEUgAAA8oAAAAZBAMAAAAbA8obAAAAMFBMVEX///8QEBCIiIhmZma6urrM\n",
       "zMxUVFQiIiJERETc3Nzu7u6qqqp2dnaYmJgyMjIAAAAcRTyBAAAAAXRSTlMAQObYZgAAB9ZJREFU\n",
       "aN7tWm+IVFUUPzv/582fXSorjWDczUWiD8P6Qct/axJLH9LZglRKXBbDCpNFyqVlodU+tBbRC0st\n",
       "EEaXtJTaSQXZJXTcDSUtGJRII2mg7IOViqnkbkr3nvvevff9fzs76gpe2Nk753fOueee37v3nfvm\n",
       "AfhrqzpVuNvuyBbq7Par2nE74kvNnXg5CzflbaQnSxM50M0TluVtAMpfE3JpTLLKvipO1EAHGMtl\n",
       "+u+MD5Z9KlapKT1kKV8cs9nnD1SIh9dnPVwvvVfrzLNiv45jous7xobzOHwFGlGR5eP0+zkfLPtU\n",
       "rFJLk+iSFWwgv1WK1xa8XI9q/49aoaPjmWl2jPjoWAJVysjyVvIZ7/HBsk/FKrWTUBnLo5Xii/Ne\n",
       "G+DIzWHZ6/Iy4zwOf4EOIctpMrtkwQfLPhWr1N6sjGWvFDjjnkTxaKrMstflZcY9s2IMdDuynDq2\n",
       "e/cWP9WXT8XqtHhHZSx7mTjjXlu92DmrzPLRMeJeO7wp0HQz1tj/9vZ2+2HZp2J1WiCrU7JpeKr7\n",
       "xR6f0zRFzLC9wXW7MeFD9TnNxzSPrX7T0Ard8LA9E4Y47H0YpqKP/Uf9bFcrIy7F4S/QZBZZfglg\n",
       "oy+W/SlWp8Xo+TNCKofQZLjgrrpATYtavP+ccs1N2YhvKcTKmo+Y+1ZPwvggbyiok+exsXWzxhyH\n",
       "g48L1rGVG/l+twdORlyOw1+gqTKyvBDrsAAL9yz5m5qxZ5kpetz3zvuSzc/Z2MrCKL0evyaC7SWY\n",
       "Rc45zlWf8jAECdrAvh3KwyU3bcQhrY3UDZGC7oNMbanzvEgY8/TMWLfMxCQeh7uPWTzRfOzECNRm\n",
       "XMwYjsTwOFwmaAk00YEsRyFAFk6YXS904GizZrFkTnPgfsEyU/Row75k/bbrTOrXkBiW0gpsfh7W\n",
       "QniG8+02OAJRMqdl+hFR+c9Nm+Jk5txU+CjCczOdp0XC6OaZWWVaBuF3VD0ODx9reaLF2GXoL7qY\n",
       "Ic6I0eNwm6Al0PBFZDlZipqyTVe88s2MUqLnGDwhWLYo2rU/fckO2pkeNLEMC8iSexCUK2Q7cJ5W\n",
       "TQ/056QaKjTqpo24ZCp8kAFbnKdFwrisZQbSbXZPmbQ43H1csY5NFtzigosZw41xuEzQEqjGcrz8\n",
       "vFERRzw1sBsSJ4JQFCxbFO3aNV+yYa9tAHfsSA9deYmLrtMiF/oh8e06XSQu2tfFIkJTgw/nVGth\n",
       "tFjvy4zxl/37MI9dW6Lrz9mM4UYfzhO0BhpiOzZsXEn6jaiDBehwuBFCuKW/sCwjsYyK0Nd41uqc\n",
       "C8OXGi3FgSRL1tPNrq/eZsUbhVh9kRpbGSU12IArywVYk1Cf1NbXZXpjctFGfMdsnkC2EzIfbgyx\n",
       "MGhmnGpsnz5YoqWxa5vJHd2NZYor2snAMx3WQLXqC/bR3biWEhEM0fLq7/39+TTe+HPHfpRZporK\n",
       "G2GyGF41+UYhtQ10kerChKIMn6fC6+E6NxdBXt0l9ZPUBviprYjTUm5QPspSBz9imdS6JBRHmPg1\n",
       "eJtdvlzRaIZ4dhGTBNugLyd8YKoNA4iRWBg0M07nZeHDZljhgyQaJXzsSCmWFWbWsBGnxKBEpMNh\n",
       "gpZAg0XGMi3hPj1AJV8k6ZK4Sm4vfYzlZDIrsUwVg9lwB7xoOhiiEOh1QuZaNqNUpun1QA616+xc\n",
       "1EGCV68h/anIzvpl7c3saycZIEoDXAdaJ9pF5tY+bfMj8T0dDO97rMSMKYSKQlvHFfWIhn9/JiN8\n",
       "MJa5nRiJSlgYV3POT0UkH3QgJx800YjzsZt+AGHGLbgZ4kgMxUU6HCZoCZSeJyjLqTxeA/pGGb7n\n",
       "PVJe9/b2ZhK5eKlDYpkq1hQCxGGXqQJCIauayEVqRqlM0xPadi6CBYcnnMhywnpQHBRXkoSj9qD1\n",
       "TMLt35fxQWNBMug8CGbG49lXi0egNNECH/RrRokRuNcE5UB3gfh9WRlB9mvJvhroaY1DhK1leCoj\n",
       "sYy3MDX2c95MEQr3UtXaPGHShFJZ6hfdvZuL6EcnDb9W1BmXtjW7RW7+mYSjdtH6dNNQDhYtPhjL\n",
       "RedBMDO2LB82+HALlCY6aRV7mdHMCdxrgnKgQxLLiXIx/i5AK2zNxzJLApCkpKeaIVU0sVyjrngG\n",
       "F+LWPDHQPlC4P0t60fwpRAXGZB/vohbpZsii9nI7F8uh5vSX/OJV5d+X6dEedlhrDX5wPZiUcKqt\n",
       "WB/tcByLg4zFBxwAOzshwcx4/L58wCNQkmiBC7GXWasB95qgFKj2y6Pmb7UafghgOrQW0mpkGgBd\n",
       "8i2/A7SZWA61752LFLUWwpOhVaUfBRRGclS2uogoccYwVZMtpBbxphN5TdvWxaIGMUF6ntTfFYnP\n",
       "vErmZH0kk+K9nd8JHLVTVipK4lKXTIXiprfawcZOSFhmQvfZHGqLsg+3QEmiBZ4Cv2bT5fg9JygF\n",
       "GlPB+EZQAm8a2q0xQO7LpiecUusCrsh7u0J6rwv44yWOHue9grOL+vQeLtlGndyc975imXEY27/3\n",
       "te8mv/e1odJAT4OJ5YHI01MgoTr+WiHas/8UJEWtF3lU61GUvW8koef0nvbd1sXjqW9vwS8hKz/M\n",
       "w53VKDHjaTLLpcgR1W4jsFnLht3ErmfaleKflHU05e7iFrTVr8CdxvIRtWosu7bOcb2PnRq++zb3\n",
       "bWuhznX/A442Ev4oMagpAAAAAElFTkSuQmCC\n",
       "\" style=\"display:inline;vertical-align:middle;\" /></a></span>"
      ],
      "text/plain": [
       "|- forall_{i, j, k in Natural} [forall_{a_{1}, ..a_{_a}.., a_{i}, b_{1}, ..b_{_a}.., b_{j}, c, d_{1}, ..d_{_a}.., d_{k}} ({a_{1}, ..a_{_a}.., a_{i}, b_{1}, ..b_{_a}.., b_{j}, c, d_{1}, ..d_{_a}.., d_{k}} = {a_{1}, ..a_{_a}.., a_{i}, c, b_{1}, ..b_{_a}.., b_{j}, d_{1}, ..d_{_a}.., d_{k}})]"
      ]
     },
     "execution_count": 29,
     "metadata": {},
     "output_type": "execute_result"
    }
   ],
   "source": [
    "# An enumerated set is equal to a version of itself in which\n",
    "# an element is moved to the left in the \"list\" of elements.\n",
    "# Notice the set element 'c' below:\n",
    "leftward_permutation"
   ]
  },
  {
   "cell_type": "code",
   "execution_count": 30,
   "metadata": {},
   "outputs": [
    {
     "data": {
      "text/html": [
       "<span style=\"font-size:20px;\"> <a class=\"ProveItLink\" href=\"proofs/reduction_right/thm_proof.ipynb\" style=\"text-decoration: none\">&nbsp;&#x22A2;&nbsp;&nbsp;</a><a class=\"ProveItLink\" href=\"../__pv_it/theorems/5d26a07d4b1ceee52ebbd15fe477d2b42a4957920/expr.ipynb\"><img src=\"data:image/png;base64,iVBORw0KGgoAAAANSUhEUgAAA90AAAAZBAMAAADecVCKAAAAMFBMVEX///8QEBCIiIhmZma6urrM\n",
       "zMxUVFQiIiJERETc3Nzu7u6qqqp2dnaYmJgyMjIAAAAcRTyBAAAAAXRSTlMAQObYZgAAB/RJREFU\n",
       "aN7tWn1sFEUUf73eXu/2PtoQ/ABDsrRSSaOxgShoAQvGNJgIV0j4UBOaBoIQJBejNDREK/5hkZis\n",
       "IREkQVcaUdFwK5CQNkaONoFYMV5EA1GKjQKJKNigEm2FOG9m73b24+b2uIOWhJd0Ozfv92bezG8+\n",
       "3swugDdZ3abCbbnFpakt5RWaGA3/orPHcu9J0zSX3BPpMefo4rpMKtQyZvneBSD/Prani/8OZ96+\n",
       "1Bh0dG4cIKwyvgcxY8AD3x6BJRK5g0zvoWIKeDVRlN6LzHFm/VRMeR/dVZw+l5Qjd2sY319hxgUP\n",
       "fHsElkhiZDhGimIkVl+c3oMc85RVgPxSpD6H0I7cx/jegf86PPDtEVgiOQHF8l2pF6cfDb5HitSL\n",
       "+I4olO8YCToiuge+PQJLJBuL5nuhVpx+FPj2DxenF/ItV1G+o/179273Eq95BJZGQomi+T5WpH4U\n",
       "+M7X4OvtEGZ3lsXn/3R2bvIUn3sDlkZ89Rk3t/VNFk9EC0CuXjOvlyXPVzcI7Sx6zg56q+NCQ1N/\n",
       "xJ3v0KxpE8WjmQdwVcdaa4QLqE3v2dFIFT77GN+rALZ44tsbsDQSxFNsgISV/gnwh3iNswA+hZPK\n",
       "y6wbr2lJ0RWRVW/awXY9OCiqkNOzYDxyiQoL/9bj8UeNiU8WFgBXdfKC/K/Izqr37ig76JxhfD8O\n",
       "8qAxoQDOkb/JijvfDOhtI7rkkrlg0DvfFTiOPyPD8/00zASQcseJDGC4D/3wjTafpsLDUKnAspx2\n",
       "TE8bbLGDTRDQBXZU7xuXI8QPkyO5PAnKib+5izAANY6qD2twWdRWqodYvGBHaVx/iPFdAT4ymSQ2\n",
       "1rGbKxoNg6WzGn13mnwzoDfpc9tFCjgAlREflmHM9pgGL4A0PffGRQEZ90GDTvPMmUwtniE6kyZT\n",
       "rMFWO4yJRHY0ZnqR/VhtmxrS6ypFVCh5iiAAWG6vmpzn5f9EbUU9GVOFOxogXQQrGN+RdIVt1cDt\n",
       "UP58ejrc0Q+Pmnw7gAL5zW330Qvjm14L3Q3y32S9yN0HDGDKZfN4vVCHJtHxe6HuYldGp1duO6qX\n",
       "WaAca3G7ciOIZDxPEcm4S9VkGvpHRG2lergOR8+DyXdocIkVSIs41b0Xwt+WQ8rk2wEUiNs2VKkW\n",
       "uJ4HOnA8h4dEfBsAc4ZlyK9M49TP3R1M77RLpsTdSPWGP5b9m3H/HEUczlfEYTeX4SpOSgHfV41J\n",
       "W6ijbP9uMu7Pt6wk+bW082j41yfVgh/X3vAzyxWObwqErtpzzrLNzN6HasnQlS7XOoPqFdVrzcjR\n",
       "LZq0x2skPpdHSNTWLeKbApj7RHp8Q8DeDlQ2km1SxDfq5Uy8y9mlcZEXjhPQI/WLWnLG50kd1odV\n",
       "ERMUMK/FXjX8hdGIgG+q390AhTrK4nMjXoMDuFZXIj/lfgypLh5MajEafMT7v+f5RqD8kkSG2Fpb\n",
       "p9NMtPVp63H797WTAMoGgvu0GnaLSyKEZgjYBgTmzbHu9Xge2wwnW1K0D5JYPj7ka3yCAtB9zPGP\n",
       "BIdCaZoMpIP1lG8rPPuL6rHBmMPZlbdAV9xiZ62U6mM/Pjmc8/wdVKIbIiAoggFSw/aq4Xl4DbJt\n",
       "dfGb6usXQKGOsvP3LINvDFN3HsKcjyP4+wqZoF2M70g2xkoYwPJ6KQHP2o6XNBOQQAku0umpRAft\n",
       "IMLMGSM1EyTpiI1vkgcHzH0wc9+yp3p5ayP9WdGOowId3JBJtGkGAN1HvdxaVzNgJKd9bSx3iMra\n",
       "MeOMnjaY6Dk7OD6g2OzMSjP6ylWC+xa5dcrb94qKoIDQJwlH1V33p8Fs6wbejhaFelk9WrCjjO9z\n",
       "Bt9RjZKRWUalcVtJaN7Z2amE46F0guMbgWW6j9i020IDmsnt3GWNZHTZQDAeHjZS96BLNr4xryHX\n",
       "fSqlv8d5ptLMsWTR9/CxSNi5tfTw+wan92rXPFXPe7+Wt2rFveq8bX2zYEfZfWqCe/8tD8czIZWv\n",
       "ozkEATa/4QmF45vuPWrwB81OJc3cT6HSkITlaGW6g+9hwulAKjMm7Hxj3sanske2E9lroWwfpJwn\n",
       "PODd5/QpvjsiTlZSfAwZKdxuqlSluvN9BLxWnfzAvep8baU9VZij/PsSY/QMpkJvkOEAO7SgstQH\n",
       "EaQ/2gjRlI3vMnXFU3R+79CIgfGgmQfrSeq9yGCE/KvQTlGQCSGP9mhH6OkE5p2FcuTbosW8STuz\n",
       "B/ygyr//DmPk4LwG2g2m+7zeTB7iUS76Zoves91mKaFAnvff+ar+IuJedb62SlUFO0rffxvvQw3A\n",
       "OlUiK+pUaNZjamAKwFYcO2cBWmx8+1v3z6ZUNuvSBGhW8aHTzECcpPZ819uPqnUpCiJlMgiWvuQ4\n",
       "YNxPUtseqEO+LVqS5//ZvJHB7x0g831LaMYVBaLOzs2ODuI+r88mt73SyqGcetJgXu/Z7ldoJRPC\n",
       "P97lWJ/yWvWeL12rzttWX0fBjs7F24wtYPueKUy3QeOA4iP7t+0+lZN2yAKzqQ/92Tw9CwrzpQN7\n",
       "ocpSuJ7btD7lglnoLsy94d+vbS7C1v37tQM3+vu1oFKoBf1+Lara+e4OzJ/IPnNyvz83ZdGfOgc0\n",
       "UoG6TIr9QxB0m6Wz4a8ZKenBBoe2XD3dCDdTsMG3mqx8S7t+Ywvf6cBR1W0lcZnfloXJkYq6rEIs\n",
       "9c67zjxb6qbyffTW+8h63RooEd9CaSvJ9+enH4HbMnrS1NbyP3e4+T63MogpAAAAAElFTkSuQmCC\n",
       "\" style=\"display:inline;vertical-align:middle;\" /></a></span>"
      ],
      "text/plain": [
       "|- forall_{i, j, k in Natural} [forall_{a_{1}, ..a_{_a}.., a_{i}, x, b_{1}, ..b_{_a}.., b_{j}, c_{1}, ..c_{_a}.., c_{k}} ({a_{1}, ..a_{_a}.., a_{i}, x, b_{1}, ..b_{_a}.., b_{j}, x, c_{1}, ..c_{_a}.., c_{k}} = {a_{1}, ..a_{_a}.., a_{i}, x, b_{1}, ..b_{_a}.., b_{j}, c_{1}, ..c_{_a}.., c_{k}})]"
      ]
     },
     "execution_count": 30,
     "metadata": {},
     "output_type": "execute_result"
    }
   ],
   "source": [
    "# An enumerated set is equal to a version of itself in which a 2nd\n",
    "# occurrence of an element is removed. Notice the element(s) x in\n",
    "# the set below:\n",
    "reduction_right"
   ]
  },
  {
   "cell_type": "code",
   "execution_count": 31,
   "metadata": {},
   "outputs": [
    {
     "data": {
      "text/html": [
       "<span style=\"font-size:20px;\"> <a class=\"ProveItLink\" href=\"proofs/subset_eq_of_superset/thm_proof.ipynb\" style=\"text-decoration: none\">&nbsp;&#x22A2;&nbsp;&nbsp;</a><a class=\"ProveItLink\" href=\"../__pv_it/theorems/76a85e34d95e29aedb71a5ed46c03f9b8482c3cc0/expr.ipynb\"><img src=\"data:image/png;base64,iVBORw0KGgoAAAANSUhEUgAAAlgAAAAXBAMAAAAl2Sx/AAAAMFBMVEX///8QEBCIiIhmZma6urrM\n",
       "zMxUVFQiIiJERETc3Nzu7u6qqqp2dnaYmJgyMjIAAAAcRTyBAAAAAXRSTlMAQObYZgAABYBJREFU\n",
       "WMPdmG1oHEUYx//J3eZye7tJP6RoLcK1qW0Q0VDFCkk0wQ8BQUlSKBYLOQ5rtWA5NOYkSg3xg4lS\n",
       "WCy0pSCuFqpUNEdDqC2WXkwkUhUOUlDEpgGt0CIafEMTFedlX2Zfbm8uCQp94PZmn3nmmdnfvD0z\n",
       "wP8mc6UqCyjbzbVwU6XsvL3aErU/9qxlA5LkAz8oVl0svj6oW4GbKqWLfHrKAOYHsEDfL1cqoHXK\n",
       "2UnKu+R3ZQXl7g+qrqywBTdJ58fopz9FfjP4jL5frwxLzk5SrpHf7ArK2WX0ffl8vsejqla+lc7X\n",
       "cnQAM1jH6KwYrgxLzk5O9NbVwUr+YAT4VSvL0vkMlpamsBrIoqkVKsOSs5OThLE6WA0GVgsrviSd\n",
       "z2Cp6ygs/eKpU0dRGZacnZwcxepgtWHVsBgBuXye/I7Cwh+joy9KwJKzk5Nm5ysPT28yI029BlP8\n",
       "L+eDlWzffguqcEMHZ7Y5cpoI+do6+pxmsPYCYzKwpOzk5BB9HKCDfQN+ip4NXgO+9SUzgoq66TIa\n",
       "FqtxQ2T8uvpnVAkhX2e+5xmsB6EuyMCSsiPyyEJF3Qvkl6Ix01sl3EeCzfL7Bjdw+5vuDFAFe+pG\n",
       "vRUxonoUsm6IXDDxc1TFLF/cGM8wWAnUhsfAyrMz2JRxYJW183NtrahrIs5foYv0AyaegXJ3+fWD\n",
       "GQiyL+2dhsxNbAmJNHbugLQbGrGpf0VVTPPtdB0t289gaaVEiPF70x34UDNjpgMr3C5kthcq6prs\n",
       "aPxmqL+RZPk2cwPXD++7j71Bfc0wxknQ1Q1ZN2y0xJejKmb5lnwPB1ZyYVdIJPTacRPn062aOw1D\n",
       "7UKk0aioo9MQT4J2XmoxCpZl4A/XRfbEzXgRFxAFy++GyN90PEbAYvnimtXNYGHscaLo6Guu3Upj\n",
       "YpqiCxmRycnXBVjMDie2Xg169ij7N+8PGPh0h6xtTF1G3cLZKFjMwG2ctRuqTzwk7objBRwgh7cI\n",
       "WD43RH6l61gELJrPUVi7IV/gMUGK6F2lmv21dJDTlMFPjJPa+3sEWNROfU4hwH00uNKWbWYz6nzx\n",
       "ANUJMm3v+SP4MlNkbR4nNar/gCfcN2bgNs4OqpRPxeNOfVof1PjI8rhx/XncMM3TeBlRFdN8jsKK\n",
       "s9o5rEayaB7fhsbOGD3A05SpsgV5EsVpARa1i7UqOezxBTVM6cgI5pUpH6wR2jGudNuwTm7ene1k\n",
       "bU4MkddBGt1n7EfetAzcxs2Gxqlq9rYjW7hXr5tBW+NxwzQn7ighqmKaz1DYsK5yWDr9six6kWBL\n",
       "QRZdUJ4fHR0hsN5ICLCoXU2B9vCQt71c6a7e9yLhg0V15Y87bDacC2BIOU6cxs2WP1tbXRB042ps\n",
       "N+dkK6Yo7ONOjsNish4teFPhqXYFGT6y4n0CLBarGfVfm35YTDl3fu6xT+jbEjYGYBGd3na56DlI\n",
       "T3lhBa+lNAQaFwJrygsr6KYYcFOUrZihEA/S1jl+kWD8SsMxk6QGJsE++xLwjQ9WjdH/MBtZxPBV\n",
       "+8GUpxdqCh+BvA/pwwyWY8F1qRYhPBrzXESl6GKYDrT5bfga59xnzebzzprlujmDMDeuxnbjaipU\n",
       "zFHw+yx+RWMxzuAajlxEb4GkyHStJ6M1frATdT5Y8ezpDgart6BsQK9BHwWmrOt5B/dA2Yhdn4PB\n",
       "ciws3V4hXqaXfw12lyZ3/J6GHhwzTghsNw7xppAQznZz+KUsQty4GtuNo6lUMUeBrk6re2f8hnYE\n",
       "00LWLPFa+aB4rTwkGNqpBCaQKyDFX0zRgutytZc818qYWJs7+In/4g5eJ6vsnQP+tc2QKN73S0Ew\n",
       "tFInsQVZA2fZV93VJrpiOjWT+gI3lujVG+rhc0fQl24UOv8CWbrqXtSHKxkAAAAASUVORK5CYII=\n",
       "\" style=\"display:inline;vertical-align:middle;\" /></a></span>"
      ],
      "text/plain": [
       "|- forall_{m, n in Natural} [forall_{a_{1}, ..a_{_a}.., a_{m}, b_{1}, ..b_{_a}.., b_{n}} ({a_{1}, ..a_{_a}.., a_{m}} subseteq {a_{1}, ..a_{_a}.., a_{m}, b_{1}, ..b_{_a}.., b_{n}})]"
      ]
     },
     "execution_count": 31,
     "metadata": {},
     "output_type": "execute_result"
    }
   ],
   "source": [
    "# An enumerated set is always an improper subset of\n",
    "# any set containing the original enumerated set\n",
    "subset_eq_of_superset"
   ]
  },
  {
   "cell_type": "markdown",
   "metadata": {},
   "source": [
    "## Demonstrations <a id='further_demonstrations'></a>"
   ]
  },
  {
   "cell_type": "markdown",
   "metadata": {},
   "source": [
    "<div style=\"width: 90%; border: 5px solid green; padding: 10px; margin: 0px;\"><a id='demo01'></a><font size=4><b>1.</b> Deducing Set memberships such as $\\vdash b\\in\\{a, b, c\\}$, $\\vdash 1\\in\\{1, 2, 3\\}$, and $\\vdash \\{a, b\\}\\in\\{\\{\\}, \\{a\\}, \\{b\\}, \\{a, b\\}\\}$.</font></div>"
   ]
  },
  {
   "cell_type": "markdown",
   "metadata": {},
   "source": [
    "Many simple enumerated set membership claims can be deduced automatically or relatively easily.<br>\n",
    "Let's start with a few claims about set membership:"
   ]
  },
  {
   "cell_type": "code",
   "execution_count": 32,
   "metadata": {},
   "outputs": [
    {
     "data": {
      "text/html": [
       "<strong id=\"b_in_set_abc\">b_in_set_abc:</strong> <a class=\"ProveItLink\" href=\"../__pv_it/demonstrations/3aa124e5cfba9c0e23bff226228f77d23294ee050/expr.ipynb\"><img src=\"data:image/png;base64,iVBORw0KGgoAAAANSUhEUgAAAGUAAAAVBAMAAACtcD09AAAAMFBMVEX////MzMyYmJjc3NyIiIhU\n",
       "VFR2dna6urqqqqpmZmYyMjIiIiIQEBBERETu7u4AAACIO4EmAAAAAXRSTlMAQObYZgAAAX5JREFU\n",
       "OMtjYMACNBUYcADGKQ+wS7xKYMAJ2A8CCb47G9DF9ZE56PKzQATXBHQ92Sg8NHmwJH8Dfj1o8mDJ\n",
       "eqivmG7v3oVNT/0DTD1QFYxXHmC3JxuLI5a6zAAH1gMUYeZpU85BeFB5IGBzcWRgyAGFy68H7w2A\n",
       "dDDCqCggrjHg+gAJN6g80JgdDLcggcrxj4HfAUhfgGvhAEYB3yEGTogITJ6BgTuBIQISjJwLGN4D\n",
       "45Dx1CogAHvsNtBYzn8M3BCVUHkgmA9xfbQDSF89MDSZL6BENc8FhvcCsOiph4T2WQg/ABj8ChAD\n",
       "DiD8E8sAMrofGj1QeQa+b/BEwl8AdDsQTEEJzvcNDFEcYK/D5BkYPgE9Bwk3VgVecOLgbkDWw+vA\n",
       "tJWN4f0CqDyIwTCVgW8iJCL4piRBwjS2DkkPX4ijqTsD9z6oPIjBwJakgh7F7LmYaacPg4GeLGAg\n",
       "B85KwGDg0gPPP3wO6Axo/sEEXDBTmRjQGQzsx3Fk4E785QEAEe9qWDWqD+4AAAAASUVORK5CYII=\n",
       "\" style=\"display:inline;vertical-align:middle;\" /></a><br>\n",
       "<strong id=\"three_in_set_123\">three_in_set_123:</strong> <a class=\"ProveItLink\" href=\"../__pv_it/demonstrations/9ebdc040710111a7d8a2f71dd80ab42b0696de640/expr.ipynb\"><img src=\"data:image/png;base64,iVBORw0KGgoAAAANSUhEUgAAAGgAAAAVBAMAAABYjraNAAAAMFBMVEX///9UVFTMzMzu7u4yMjIQ\n",
       "EBC6uroiIiKIiIiYmJhmZmaqqqpERER2dnbc3NwAAACDMjhQAAAAAXRSTlMAQObYZgAAAaxJREFU\n",
       "OMtjYMACOFcy4ARazdjFmX0Z8IBUBSDx9u5pdIs+oBix6owChMV3984GBgYuByBrAcP+CaiaeAtA\n",
       "5FYDCM+QgfcbhPWKgfsnRJbjNwN/AaYmZll5qKbFDAyhEFb/BobvEFm2MAZ+B4irjpeXINk0H6op\n",
       "nIFB/gHENwkMX2CyUOcxnTBAcR5Mk78BgzzUU3DnAV1SCxYwMWDAqgkI6mFM8wtA2QBQmFxfDBaQ\n",
       "g6thdEDVxPYXynhbZQAP29YEEHkArmmrAqomdgEYiyMMSHiBmazBIC+FuAABiKtTx4CqaRUiYEOB\n",
       "gowVDHwPGHh+g1x5ADXOEZo4FkAZ7xgYzgNj15GBgf8zRBNDAMJPB1A07QIZDAL/DUCaQH5iPcDA\n",
       "/hkktIIBe+gxXWDggGiKAYcjKPQ4J0DjiX0DqqZ+AwZmYFwyPL97S5zBHhSgMxHxlLXqGCRhyiQj\n",
       "a1oY7zWBoRxom////98Z2ItBQb9qTQI8RcCi4w5KMgKnAHgIbkZzPAbghYcJL1zsAiFNiPxkAc9U\n",
       "DXBZLgfsmROec+EZjRMp5yZg18RNoIwAAEJIbxoFzxD2AAAAAElFTkSuQmCC\n",
       "\" style=\"display:inline;vertical-align:middle;\" /></a><br>\n",
       "<strong id=\"set_ab_in_its_power_set\">set_ab_in_its_power_set:</strong> <a class=\"ProveItLink\" href=\"../__pv_it/demonstrations/b19b0ca34b74c43e6c26d2abf2543d6eec0c28a10/expr.ipynb\"><img src=\"data:image/png;base64,iVBORw0KGgoAAAANSUhEUgAAAQcAAAAVBAMAAAC57DawAAAAMFBMVEX///+IiIi6urrc3NxERETM\n",
       "zMwQEBCqqqpUVFQiIiJ2dnYyMjLu7u5mZmaYmJgAAABN0h6tAAAAAXRSTlMAQObYZgAAApBJREFU\n",
       "SMetlj1oFFEQx4eNcXN3e8dFiIUopLrK4kobYVOmEALaCqKmEEUOBCuP5DCNBMRgY4jFFiFwhZBS\n",
       "1JAVRASR9cDKA73WQi4qcqBBfG/f95vZiwRfMbn9vdn/zN2beRkAqH0Cd032UkDr60CYiycRZYuk\n",
       "ro5ydcNIn+gZChgsIvQ2Uaax4NF8kdTWMa5uGOFT27M3Xl3jto9eGGpT3fYoUBTpDKEgTG7KD5zt\n",
       "HW66KImuNra/8UPU1/Ekd4pF2Rr9pyRG45MYjUsi2LffqM2vbxwuCVcHJWFtE0mIJ/nG5Fx62F/C\n",
       "0cFJWNtG9OyT4yJepXOqBbAlKzqljuOSqzzxsXcDU0dHv0uFyc0Uq+vgCuwK3+xF9EOX8l2jsaqN\n",
       "3U0cNJqVPUwdHQXJMLm5zTr89QA+iN2lFL6xRN/nD7GWCBeVkYWtaXQTqjGiro6CZBhuLjxkHz6n\n",
       "sCZ2+xD9Yn/u1XlJXH/OVl4c801p+E+3pq48Dqr7UKoj6uhoSIfhht91VyH6qfo3YN1TWeafJ2Lq\n",
       "coOnDj0aQ7aAqKOjIRkmN1MxzyqUZ/qHfzV1llaxrWhjnz4DWQJLmLo6EtJhhrI7ohErz1v57nd+\n",
       "cKqqe3Bwd2QtWA2bqDscHQnpMFuqRefgy3IS/WZP9+GcaepSq/DGzLYlOFKvPSojausYSIbRom+m\n",
       "z3dmYZ318LsTA5NEtHK6KInSY/X1OjNnjiFq6xhIhvFuwDD1r7dgs/DavkPemB7tUjBMx51xuei/\n",
       "DfjHx1aiARTTLulKnLGp65d69+B5IqpT84RP+xT0wohYerLS81dwGSVRSZRpzOapGyomK4oKHd/V\n",
       "DSNjhf80Y7YHwrjTZJucMdvUjNkunjH/Ai4oR6+o2smmAAAAAElFTkSuQmCC\n",
       "\" style=\"display:inline;vertical-align:middle;\" /></a><br>"
      ],
      "text/plain": [
       "b_in_set_abc: b in {a, b, c}\n",
       "three_in_set_123: 3 in {1, 2, 3}\n",
       "set_ab_in_its_power_set: {a, b} in {{}, {a}, {b}, {a, b}}"
      ]
     },
     "execution_count": 32,
     "metadata": {},
     "output_type": "execute_result"
    }
   ],
   "source": [
    "# Some (as yet) unproven claims\n",
    "b_in_set_abc, three_in_set_123, set_ab_in_its_power_set = (\n",
    "        InSet(b, set_abc), InSet(three, set_123), InSet(Set(a, b), power_set_ab))"
   ]
  },
  {
   "cell_type": "markdown",
   "metadata": {},
   "source": [
    "Prove-It can prove each of these claims automatically, without any extra nudging from us:"
   ]
  },
  {
   "cell_type": "code",
   "execution_count": 33,
   "metadata": {},
   "outputs": [
    {
     "data": {
      "text/html": [
       "<span style=\"font-size:20px;\"> <a class=\"ProveItLink\" href=\"../__pv_it/demonstrations/dd99f08149bb41ba6cd5981dd1f8fb6c39ef0ba70/proof.ipynb\" style=\"text-decoration: none\">&nbsp;&#x22A2;&nbsp;&nbsp;</a><a class=\"ProveItLink\" href=\"../__pv_it/demonstrations/3aa124e5cfba9c0e23bff226228f77d23294ee050/expr.ipynb\"><img src=\"data:image/png;base64,iVBORw0KGgoAAAANSUhEUgAAAGUAAAAVBAMAAACtcD09AAAAMFBMVEX////MzMyYmJjc3NyIiIhU\n",
       "VFR2dna6urqqqqpmZmYyMjIiIiIQEBBERETu7u4AAACIO4EmAAAAAXRSTlMAQObYZgAAAX5JREFU\n",
       "OMtjYMACNBUYcADGKQ+wS7xKYMAJ2A8CCb47G9DF9ZE56PKzQATXBHQ92Sg8NHmwJH8Dfj1o8mDJ\n",
       "eqivmG7v3oVNT/0DTD1QFYxXHmC3JxuLI5a6zAAH1gMUYeZpU85BeFB5IGBzcWRgyAGFy68H7w2A\n",
       "dDDCqCggrjHg+gAJN6g80JgdDLcggcrxj4HfAUhfgGvhAEYB3yEGTogITJ6BgTuBIQISjJwLGN4D\n",
       "45Dx1CogAHvsNtBYzn8M3BCVUHkgmA9xfbQDSF89MDSZL6BENc8FhvcCsOiph4T2WQg/ABj8ChAD\n",
       "DiD8E8sAMrofGj1QeQa+b/BEwl8AdDsQTEEJzvcNDFEcYK/D5BkYPgE9Bwk3VgVecOLgbkDWw+vA\n",
       "tJWN4f0CqDyIwTCVgW8iJCL4piRBwjS2DkkPX4ijqTsD9z6oPIjBwJakgh7F7LmYaacPg4GeLGAg\n",
       "B85KwGDg0gPPP3wO6Axo/sEEXDBTmRjQGQzsx3Fk4E785QEAEe9qWDWqD+4AAAAASUVORK5CYII=\n",
       "\" style=\"display:inline;vertical-align:middle;\" /></a></span>"
      ],
      "text/plain": [
       "|- b in {a, b, c}"
      ]
     },
     "execution_count": 33,
     "metadata": {},
     "output_type": "execute_result"
    }
   ],
   "source": [
    "# prove the claim that b is an elem of {a, b, c}\n",
    "b_in_set_abc.prove()"
   ]
  },
  {
   "cell_type": "code",
   "execution_count": 34,
   "metadata": {},
   "outputs": [
    {
     "data": {
      "text/html": [
       "<span style=\"font-size:20px;\"> <a class=\"ProveItLink\" href=\"../__pv_it/demonstrations/8b9397f11dccfea91cd42f9148eaae32e0e564390/proof.ipynb\" style=\"text-decoration: none\">&nbsp;&#x22A2;&nbsp;&nbsp;</a><a class=\"ProveItLink\" href=\"../__pv_it/demonstrations/9ebdc040710111a7d8a2f71dd80ab42b0696de640/expr.ipynb\"><img src=\"data:image/png;base64,iVBORw0KGgoAAAANSUhEUgAAAGgAAAAVBAMAAABYjraNAAAAMFBMVEX///9UVFTMzMzu7u4yMjIQ\n",
       "EBC6uroiIiKIiIiYmJhmZmaqqqpERER2dnbc3NwAAACDMjhQAAAAAXRSTlMAQObYZgAAAaxJREFU\n",
       "OMtjYMACOFcy4ARazdjFmX0Z8IBUBSDx9u5pdIs+oBix6owChMV3984GBgYuByBrAcP+CaiaeAtA\n",
       "5FYDCM+QgfcbhPWKgfsnRJbjNwN/AaYmZll5qKbFDAyhEFb/BobvEFm2MAZ+B4irjpeXINk0H6op\n",
       "nIFB/gHENwkMX2CyUOcxnTBAcR5Mk78BgzzUU3DnAV1SCxYwMWDAqgkI6mFM8wtA2QBQmFxfDBaQ\n",
       "g6thdEDVxPYXynhbZQAP29YEEHkArmmrAqomdgEYiyMMSHiBmazBIC+FuAABiKtTx4CqaRUiYEOB\n",
       "gowVDHwPGHh+g1x5ADXOEZo4FkAZ7xgYzgNj15GBgf8zRBNDAMJPB1A07QIZDAL/DUCaQH5iPcDA\n",
       "/hkktIIBe+gxXWDggGiKAYcjKPQ4J0DjiX0DqqZ+AwZmYFwyPL97S5zBHhSgMxHxlLXqGCRhyiQj\n",
       "a1oY7zWBoRxom////98Z2ItBQb9qTQI8RcCi4w5KMgKnAHgIbkZzPAbghYcJL1zsAiFNiPxkAc9U\n",
       "DXBZLgfsmROec+EZjRMp5yZg18RNoIwAAEJIbxoFzxD2AAAAAElFTkSuQmCC\n",
       "\" style=\"display:inline;vertical-align:middle;\" /></a></span>"
      ],
      "text/plain": [
       "|- 3 in {1, 2, 3}"
      ]
     },
     "execution_count": 34,
     "metadata": {},
     "output_type": "execute_result"
    }
   ],
   "source": [
    "# prove the claim that 3 is an elem of {1, 2, 3}\n",
    "three_in_set_123.prove()"
   ]
  },
  {
   "cell_type": "code",
   "execution_count": 35,
   "metadata": {},
   "outputs": [
    {
     "data": {
      "text/html": [
       "<span style=\"font-size:20px;\"> <a class=\"ProveItLink\" href=\"../__pv_it/demonstrations/0644f937645ac44d631a9caa1bf26a886cf85a7f0/proof.ipynb\" style=\"text-decoration: none\">&nbsp;&#x22A2;&nbsp;&nbsp;</a><a class=\"ProveItLink\" href=\"../__pv_it/demonstrations/b19b0ca34b74c43e6c26d2abf2543d6eec0c28a10/expr.ipynb\"><img src=\"data:image/png;base64,iVBORw0KGgoAAAANSUhEUgAAAQcAAAAVBAMAAAC57DawAAAAMFBMVEX///+IiIi6urrc3NxERETM\n",
       "zMwQEBCqqqpUVFQiIiJ2dnYyMjLu7u5mZmaYmJgAAABN0h6tAAAAAXRSTlMAQObYZgAAApBJREFU\n",
       "SMetlj1oFFEQx4eNcXN3e8dFiIUopLrK4kobYVOmEALaCqKmEEUOBCuP5DCNBMRgY4jFFiFwhZBS\n",
       "1JAVRASR9cDKA73WQi4qcqBBfG/f95vZiwRfMbn9vdn/zN2beRkAqH0Cd032UkDr60CYiycRZYuk\n",
       "ro5ydcNIn+gZChgsIvQ2Uaax4NF8kdTWMa5uGOFT27M3Xl3jto9eGGpT3fYoUBTpDKEgTG7KD5zt\n",
       "HW66KImuNra/8UPU1/Ekd4pF2Rr9pyRG45MYjUsi2LffqM2vbxwuCVcHJWFtE0mIJ/nG5Fx62F/C\n",
       "0cFJWNtG9OyT4yJepXOqBbAlKzqljuOSqzzxsXcDU0dHv0uFyc0Uq+vgCuwK3+xF9EOX8l2jsaqN\n",
       "3U0cNJqVPUwdHQXJMLm5zTr89QA+iN2lFL6xRN/nD7GWCBeVkYWtaXQTqjGiro6CZBhuLjxkHz6n\n",
       "sCZ2+xD9Yn/u1XlJXH/OVl4c801p+E+3pq48Dqr7UKoj6uhoSIfhht91VyH6qfo3YN1TWeafJ2Lq\n",
       "coOnDj0aQ7aAqKOjIRkmN1MxzyqUZ/qHfzV1llaxrWhjnz4DWQJLmLo6EtJhhrI7ohErz1v57nd+\n",
       "cKqqe3Bwd2QtWA2bqDscHQnpMFuqRefgy3IS/WZP9+GcaepSq/DGzLYlOFKvPSojausYSIbRom+m\n",
       "z3dmYZ318LsTA5NEtHK6KInSY/X1OjNnjiFq6xhIhvFuwDD1r7dgs/DavkPemB7tUjBMx51xuei/\n",
       "DfjHx1aiARTTLulKnLGp65d69+B5IqpT84RP+xT0wohYerLS81dwGSVRSZRpzOapGyomK4oKHd/V\n",
       "DSNjhf80Y7YHwrjTZJucMdvUjNkunjH/Ai4oR6+o2smmAAAAAElFTkSuQmCC\n",
       "\" style=\"display:inline;vertical-align:middle;\" /></a></span>"
      ],
      "text/plain": [
       "|- {a, b} in {{}, {a}, {b}, {a, b}}"
      ]
     },
     "execution_count": 35,
     "metadata": {},
     "output_type": "execute_result"
    }
   ],
   "source": [
    "# prove the claim that {a,b} is an elem of its own power set\n",
    "set_ab_in_its_power_set.prove()"
   ]
  },
  {
   "cell_type": "markdown",
   "metadata": {},
   "source": [
    "The proofs generated by Prove-It for those three judgments established above (click on the turnstile in an expression to go to the proof page), are somewhat complicated and opaque, relying on the very basic `fold` theorem each time for how membership is defined for an enumerated set. As an alternative, consider a manual application of the `in_enumerated_set` theorem:"
   ]
  },
  {
   "cell_type": "code",
   "execution_count": 36,
   "metadata": {},
   "outputs": [
    {
     "data": {
      "text/html": [
       "<span style=\"font-size:20px;\"> <a class=\"ProveItLink\" href=\"proofs/in_enumerated_set/thm_proof.ipynb\" style=\"text-decoration: none\">&nbsp;&#x22A2;&nbsp;&nbsp;</a><a class=\"ProveItLink\" href=\"../__pv_it/theorems/ea82fd37548a00131448f72149714a6c38e1d8350/expr.ipynb\"><img src=\"data:image/png;base64,iVBORw0KGgoAAAANSUhEUgAAAgsAAAAWBAMAAAC8psKRAAAAMFBMVEX///8QEBCIiIhmZma6urrM\n",
       "zMxUVFQiIiJERETc3Nzu7u6qqqp2dnaYmJgyMjIAAAAcRTyBAAAAAXRSTlMAQObYZgAABZBJREFU\n",
       "WMPNWG9oHEUUf/dnb+/29i754p8qlTNpY1GLR/z3oYleECoI0k0KWrDQ47CgtZZDa2vTEs/6oVdF\n",
       "ORTSUKjdNtBoxN6aEtTS0LNRlNbA0VSoJYWDosUqIdR+MKktvpnZ2529vdvbpGfoQCZv3r03M+83\n",
       "b957OwC3W4t0LtZKax+cr4Z3Wvkf9nGgCk/6a/EQ70KjvkXgLyegRMYX6ynIiSg9qWIjdyFl4LO7\n",
       "bM4ws7C53k3PX8mHxgdyxDo4Q8ZX6sMga/gvqjYShiju4JJtpfQCJ4vPX4esJZUoDAM4DGXqw0Bl\n",
       "Bhrqk5P4d71RMDRpC4MBTlEYyAHLWn0YqMecaSgMOwD8c+W7sGd73y3BsEZdIAyHqHWR08PD+8AF\n",
       "DFPDw5+nG4lCKG0aLexWb9EbfoQFwhBNEOvgn2x2lxsYmrLZPYVGwuDF2xxNtVJPPKpathbqaL/H\n",
       "GUKbwO8tq3TqVItzVpNblpepZtLFKQwbAfa6gSGgQDDnwjr/tEsYgph28lekWUK/anADJHV15aKY\n",
       "MNY5pDoqwGeKm2qe7W6fFiw5qYZ2wkd8VoqUKAzP0GBZpQlvfg/3Jw0Y/HE46sq8cZcwiOgHJ1W4\n",
       "SmgzRn+FRyktBV8G1j5ZOz1SAb6F56ApRqldENAcVEEswGtlmuSpcJrCIIK3SjXwxXgnfCOrPtWA\n",
       "AdKw0pV5f7qEwYNzPgXSvwTx+6axEea6HSSfz4GINj1bO+EzAWsJkC/oP4GTKjzNxdLAG7j2DLVO\n",
       "LopVKtoP9qswFovL5qWACXAXvWbnAcMl8F+3ZmxS2XkykFecbNEFrGXDGk3/yRmGu/mAAgYModIL\n",
       "pJDvafW2KcAoclOwjY5+zMPwqYA3RGrfYg9Ag22/cXfpaptKA1GsSnCKVVyKG/rpNZsHhGbguZ50\n",
       "tIUJTP7SEm/ZqJcNRf2YmU/UVqXex4xkscHPLgXsfRkZXUXPJi8JBITKsRJ7VP5yPQdDsB+7IWWD\n",
       "CgFrjpbeEua4BNBLUgBsFZphU8UWCM8aIq/BIXoj2y1JLK/BlnDOCQYqcG4p3Km26TAkMF7oeIDm\n",
       "5A03MBwwI1mm0EMkHMOF9z+AE/kIkIRSJVqZjkJhnIMhTOLOo/AiCN9ZYfDFBe66BGM4MYlgyvqK\n",
       "nEZ4vG/gIq/De4ZnmDDgFNtkeqTSTWJ0SSeMERUIHU4jjB2MEygG45TwJWFQoTAYahYCngDpcWqk\n",
       "npzRagoDjbAp6Nb3koIuEN7OZncjDAdEDgYa0+8FhF+0wuDRvEn+yuNOkIdkb8WNthar6I0w+DAL\n",
       "z9Irz/F1fmp5/zLm2dtxKZHMvg30TuwtCwRi6F07dU77BCPg54t6dKUjqpHkVEGeOMuMLJdPCrMu\n",
       "Qoy6A1bAQQEo1SFAknmDv4eH4QKuNgsfDlfCkM8FL6iTY5Mv/UC9UiXmNuXsMBDe5NgUX0ybmPxk\n",
       "L6aJLWF7jXzcgFXxZkIzCsc5zquaI7sqNZKtNaRbR2uKGQTovAwDKlJbR4EadA5gioeBtCXCtSKB\n",
       "AQXfL3ee3IbnYaTk0U7gx5cqquexxxI1TmDg5QhvJCNaPq3sYdQMH1+ToV3CKGUPoj9EMgWOU+BV\n",
       "oVBTlRnJf1rph5GEP6D/NHRrSKGjBvFA/X1YOlbCsPqhVgpDtyYsge4c6TR/aqQTi8wheAwIf3MB\n",
       "+1D7WZXAwMsRXkAxC7yqRan53vDJOymAw/ZQb2Sb1fipHtqsmhyDoKpSrKYqM5K+N+gf2hWtfH1X\n",
       "YGywFtN8qlNNwTIlwjFIa+UR63vBJifCygT37FKlWV+f7JVdpDYn4lawXKMk2FnYYAjX+Grw9nEx\n",
       "XnhkFSeoU0dgGaRy+oj1PX9rNrkjcKLo+AgH4cV9i/wVjbucqAt1rYdTcDqCSF2526z9BwI5mrqu\n",
       "T4FKAAAAAElFTkSuQmCC\n",
       "\" style=\"display:inline;vertical-align:middle;\" /></a></span>"
      ],
      "text/plain": [
       "|- forall_{m, n in Natural} [forall_{a_{1}, ..a_{_a}.., a_{m}, b, c_{1}, ..c_{_a}.., c_{n}} (b in {a_{1}, ..a_{_a}.., a_{m}, b, c_{1}, ..c_{_a}.., c_{n}})]"
      ]
     },
     "execution_count": 36,
     "metadata": {},
     "output_type": "execute_result"
    }
   ],
   "source": [
    "from proveit.logic.sets.enumeration import in_enumerated_set\n",
    "in_enumerated_set"
   ]
  },
  {
   "cell_type": "code",
   "execution_count": 37,
   "metadata": {},
   "outputs": [
    {
     "data": {
      "text/html": [
       "<strong id=\"set_ab_in_its_power_set_kt\">set_ab_in_its_power_set_kt:</strong> <span style=\"font-size:20px;\"> <a class=\"ProveItLink\" href=\"../__pv_it/demonstrations/0644f937645ac44d631a9caa1bf26a886cf85a7f0/proof.ipynb\" style=\"text-decoration: none\">&nbsp;&#x22A2;&nbsp;&nbsp;</a><a class=\"ProveItLink\" href=\"../__pv_it/demonstrations/b19b0ca34b74c43e6c26d2abf2543d6eec0c28a10/expr.ipynb\"><img src=\"data:image/png;base64,iVBORw0KGgoAAAANSUhEUgAAAQcAAAAVBAMAAAC57DawAAAAMFBMVEX///+IiIi6urrc3NxERETM\n",
       "zMwQEBCqqqpUVFQiIiJ2dnYyMjLu7u5mZmaYmJgAAABN0h6tAAAAAXRSTlMAQObYZgAAApBJREFU\n",
       "SMetlj1oFFEQx4eNcXN3e8dFiIUopLrK4kobYVOmEALaCqKmEEUOBCuP5DCNBMRgY4jFFiFwhZBS\n",
       "1JAVRASR9cDKA73WQi4qcqBBfG/f95vZiwRfMbn9vdn/zN2beRkAqH0Cd032UkDr60CYiycRZYuk\n",
       "ro5ydcNIn+gZChgsIvQ2Uaax4NF8kdTWMa5uGOFT27M3Xl3jto9eGGpT3fYoUBTpDKEgTG7KD5zt\n",
       "HW66KImuNra/8UPU1/Ekd4pF2Rr9pyRG45MYjUsi2LffqM2vbxwuCVcHJWFtE0mIJ/nG5Fx62F/C\n",
       "0cFJWNtG9OyT4yJepXOqBbAlKzqljuOSqzzxsXcDU0dHv0uFyc0Uq+vgCuwK3+xF9EOX8l2jsaqN\n",
       "3U0cNJqVPUwdHQXJMLm5zTr89QA+iN2lFL6xRN/nD7GWCBeVkYWtaXQTqjGiro6CZBhuLjxkHz6n\n",
       "sCZ2+xD9Yn/u1XlJXH/OVl4c801p+E+3pq48Dqr7UKoj6uhoSIfhht91VyH6qfo3YN1TWeafJ2Lq\n",
       "coOnDj0aQ7aAqKOjIRkmN1MxzyqUZ/qHfzV1llaxrWhjnz4DWQJLmLo6EtJhhrI7ohErz1v57nd+\n",
       "cKqqe3Bwd2QtWA2bqDscHQnpMFuqRefgy3IS/WZP9+GcaepSq/DGzLYlOFKvPSojausYSIbRom+m\n",
       "z3dmYZ318LsTA5NEtHK6KInSY/X1OjNnjiFq6xhIhvFuwDD1r7dgs/DavkPemB7tUjBMx51xuei/\n",
       "DfjHx1aiARTTLulKnLGp65d69+B5IqpT84RP+xT0wohYerLS81dwGSVRSZRpzOapGyomK4oKHd/V\n",
       "DSNjhf80Y7YHwrjTZJucMdvUjNkunjH/Ai4oR6+o2smmAAAAAElFTkSuQmCC\n",
       "\" style=\"display:inline;vertical-align:middle;\" /></a></span><br>"
      ],
      "text/plain": [
       "set_ab_in_its_power_set_kt: |- {a, b} in {{}, {a}, {b}, {a, b}}"
      ]
     },
     "execution_count": 37,
     "metadata": {},
     "output_type": "execute_result"
    }
   ],
   "source": [
    "# Instantiate the theorem for the case of {a,b} being in its own power set:\n",
    "set_ab_in_its_power_set_kt = in_enumerated_set.instantiate(\n",
    "    {m:three, n:zero, a:(Set(), Set(a), Set(b)), b:Set(a,b), c:()})"
   ]
  },
  {
   "cell_type": "markdown",
   "metadata": {},
   "source": [
    "Now the proof of such a claim is relatively straightforward, and we will have moved much of the heavy-lifting of the previous proofs to a single underlying proof of the `in_enumerated_set` theorem itself:"
   ]
  },
  {
   "cell_type": "code",
   "execution_count": 38,
   "metadata": {},
   "outputs": [
    {
     "data": {
      "text/html": [
       "<table><tr><th>&nbsp;</th><th>step type</th><th>requirements</th><th>statement</th></tr>\n",
       "<tr><td><a name=\"0x1913b24c8a05cba8_step0\">0</a></td><td>instantiation</td><td><a href=\"#0x1913b24c8a05cba8_step1\">1</a>, <a href=\"#0x1913b24c8a05cba8_step2\">2</a>, <a href=\"#0x1913b24c8a05cba8_step3\">3</a>, <a href=\"#0x1913b24c8a05cba8_step4\">4</a>, <a href=\"#0x1913b24c8a05cba8_step5\">5</a></td><td><span style=\"font-size:20px;\"> <a class=\"ProveItLink\" href=\"../__pv_it/demonstrations/0644f937645ac44d631a9caa1bf26a886cf85a7f0/proof.ipynb\" style=\"text-decoration: none\">&nbsp;&#x22A2;&nbsp;&nbsp;</a><a class=\"ProveItLink\" href=\"../__pv_it/demonstrations/b19b0ca34b74c43e6c26d2abf2543d6eec0c28a10/expr.ipynb\"><img src=\"data:image/png;base64,iVBORw0KGgoAAAANSUhEUgAAAQcAAAAVBAMAAAC57DawAAAAMFBMVEX///+IiIi6urrc3NxERETM\n",
       "zMwQEBCqqqpUVFQiIiJ2dnYyMjLu7u5mZmaYmJgAAABN0h6tAAAAAXRSTlMAQObYZgAAApBJREFU\n",
       "SMetlj1oFFEQx4eNcXN3e8dFiIUopLrK4kobYVOmEALaCqKmEEUOBCuP5DCNBMRgY4jFFiFwhZBS\n",
       "1JAVRASR9cDKA73WQi4qcqBBfG/f95vZiwRfMbn9vdn/zN2beRkAqH0Cd032UkDr60CYiycRZYuk\n",
       "ro5ydcNIn+gZChgsIvQ2Uaax4NF8kdTWMa5uGOFT27M3Xl3jto9eGGpT3fYoUBTpDKEgTG7KD5zt\n",
       "HW66KImuNra/8UPU1/Ekd4pF2Rr9pyRG45MYjUsi2LffqM2vbxwuCVcHJWFtE0mIJ/nG5Fx62F/C\n",
       "0cFJWNtG9OyT4yJepXOqBbAlKzqljuOSqzzxsXcDU0dHv0uFyc0Uq+vgCuwK3+xF9EOX8l2jsaqN\n",
       "3U0cNJqVPUwdHQXJMLm5zTr89QA+iN2lFL6xRN/nD7GWCBeVkYWtaXQTqjGiro6CZBhuLjxkHz6n\n",
       "sCZ2+xD9Yn/u1XlJXH/OVl4c801p+E+3pq48Dqr7UKoj6uhoSIfhht91VyH6qfo3YN1TWeafJ2Lq\n",
       "coOnDj0aQ7aAqKOjIRkmN1MxzyqUZ/qHfzV1llaxrWhjnz4DWQJLmLo6EtJhhrI7ohErz1v57nd+\n",
       "cKqqe3Bwd2QtWA2bqDscHQnpMFuqRefgy3IS/WZP9+GcaepSq/DGzLYlOFKvPSojausYSIbRom+m\n",
       "z3dmYZ318LsTA5NEtHK6KInSY/X1OjNnjiFq6xhIhvFuwDD1r7dgs/DavkPemB7tUjBMx51xuei/\n",
       "DfjHx1aiARTTLulKnLGp65d69+B5IqpT84RP+xT0wohYerLS81dwGSVRSZRpzOapGyomK4oKHd/V\n",
       "DSNjhf80Y7YHwrjTZJucMdvUjNkunjH/Ai4oR6+o2smmAAAAAElFTkSuQmCC\n",
       "\" style=\"display:inline;vertical-align:middle;\" /></a></span></td></tr>\n",
       "<tr><td>&nbsp;</td><td colspan=4 style=\"text-align:left\"><span style=\"font-size:20px;\"><a class=\"ProveItLink\" href=\"../../../../__pv_it/common/674a03b9c3ca221b3aabd5636837b31528ff33830/expr.ipynb\"><img src=\"data:image/png;base64,iVBORw0KGgoAAAANSUhEUgAAABIAAAAJBAMAAADN8WE8AAAAMFBMVEX///9mZmaYmJgyMjIiIiIQ\n",
       "EBCqqqru7u5ERETMzMyIiIjc3NxUVFR2dna6uroAAAAPJcEmAAAAAXRSTlMAQObYZgAAAGNJREFU\n",
       "CNdj4Luze9UpzlvnGBh4OboY6tcxpDIwTGMxYNh/gUGfgaGg/gFDfgHDCQYGhnwGBhEGhiggS5iB\n",
       "wZeB7zc7A0MsA/s/BkaDbQzc/xjYPjAwX7jAwOfAwCXAwCa0AQBn+hZiKtaxkQAAAABJRU5ErkJg\n",
       "gg==\n",
       "\" style=\"display:inline;vertical-align:middle;\" /></a> : <a class=\"ProveItLink\" href=\"../../../../numbers/numerals/__pv_it/common/0a19a501c0770212f27a044b71e9c626b8ca0bec0/expr.ipynb\"><img src=\"data:image/png;base64,iVBORw0KGgoAAAANSUhEUgAAAAoAAAAOBAMAAADkjZCYAAAAKlBMVEX////u7u4yMjIQEBC6uroi\n",
       "IiKIiIiYmJhmZmaqqqpERER2dnbc3NwAAAAz17lDAAAAAXRSTlMAQObYZgAAAE5JREFUCNdjYDi9\n",
       "eyUDA08Dw9wCBrabDLwBDCwmDLwKDEAAFGFgYIwGEjxbG0ECDMkOIJLZkIHnAAMXUPFFEMm8gIH1\n",
       "IgN7AVi9R8cSBgCvphDNutx7AgAAAABJRU5ErkJggg==\n",
       "\" style=\"display:inline;vertical-align:middle;\" /></a>, <a class=\"ProveItLink\" href=\"../../../../__pv_it/common/8968bb04eb3f7dfa02353397ce929b025bbd79c20/expr.ipynb\"><img src=\"data:image/png;base64,iVBORw0KGgoAAAANSUhEUgAAAAwAAAAJBAMAAAD0ltBnAAAAMFBMVEX///8QEBCYmJgyMjIiIiKq\n",
       "qqrMzMzu7u5ERERmZmaIiIjc3NxUVFR2dna6uroAAABXsXCEAAAAAXRSTlMAQObYZgAAAEdJREFU\n",
       "CNdj4Luze9UsBgZeji6G+g0MqSwGDPsTGArqHzDoMzAwxDMwHAZSkxkYPrEzMMgysH7nZeD+x8Br\n",
       "oMbA58DAfSgAABUwDxmEwURaAAAAAElFTkSuQmCC\n",
       "\" style=\"display:inline;vertical-align:middle;\" /></a> : <a class=\"ProveItLink\" href=\"../../../../numbers/numerals/__pv_it/common/7d0a36793ffe8d307a5c120ee5598162e8cd2db10/expr.ipynb\"><img src=\"data:image/png;base64,iVBORw0KGgoAAAANSUhEUgAAAAoAAAAOBAMAAADkjZCYAAAAMFBMVEX///9mZma6urpUVFREREQQ\n",
       "EBDc3NwiIiLu7u6qqqoyMjLMzMyYmJiIiIh2dnYAAADXmt2vAAAAAXRSTlMAQObYZgAAAFFJREFU\n",
       "CNdjYOC785qBgWElQ3sCA08AA98CBhYDBs4fDPwGDEw/GfoFGJj+MuQ/YOAGkgIM3P+gIkBZzp8M\n",
       "LA4MPD+guhgqGVo3MDD03bVmAABi3RThwIkdoQAAAABJRU5ErkJggg==\n",
       "\" style=\"display:inline;vertical-align:middle;\" /></a>, <a class=\"ProveItLink\" href=\"../../../../__pv_it/common/c06c606ec12678c58933ac85412ecadc2ae28be60/expr.ipynb\"><img src=\"data:image/png;base64,iVBORw0KGgoAAAANSUhEUgAAAAsAAAAJBAMAAAAWSsseAAAAMFBMVEX///9UVFSqqqrMzMwiIiJE\n",
       "RESYmJgyMjK6urru7u4QEBCIiIh2dnZmZmbc3NwAAABRgo0vAAAAAXRSTlMAQObYZgAAAEdJREFU\n",
       "CNdjYOC7c3slAwND1wP2DwwMnMsYeAMYGHh/MrBsYGDgCmCYb8DAMP8Agz5QxXwFBnGmBwysG9gc\n",
       "eYAqpTc/3MEAAP4BD32xAXDqAAAAAElFTkSuQmCC\n",
       "\" style=\"display:inline;vertical-align:middle;\" /></a> : <a class=\"ProveItLink\" href=\"../__pv_it/demonstrations/b8b9ea1418a3a726e31e7228bf3d030814b52a830/expr.ipynb\"><img src=\"data:image/png;base64,iVBORw0KGgoAAAANSUhEUgAAAHcAAAAVBAMAAACOK2zoAAAAMFBMVEX////MzMxUVFR2dna6uroQ\n",
       "EBCqqqqIiIgiIiJmZmYyMjJERETu7u6YmJjc3NwAAACgK8IjAAAAAXRSTlMAQObYZgAAAdpJREFU\n",
       "OMuVlD1Iw1AQx68fhjZ9/VjFxU2pS5ZiHYQugpsVOip0cSiIVhBEcCgO6iBSECwIYtHJRboILkoW\n",
       "UXRIVxcNTo6dSwfv3keSF7P0QdLjl/8/eb27dwB8ffZjHRv8lb2SweRBgKIsBHMI3i2A5KovYrde\n",
       "uFTwMck8uEXBB17fFFwGPjzwwnTXxyhjDy0J4y4G93iVQd3ESrSiQq4w2xIyfEG2PZ45X1dwHiDl\n",
       "jmdesRV8AfiF8cxlD5oV2Pd8pZA5d95Zw7Cqm2/2LiRMtOGJaBFUysWKU4qXXHOgJZ5kbGg7roDZ\n",
       "Lhzhj8FLzPMo1gbWka1DuofxnUdJZowg3xTQaEENIPbo8oezTamaOqNajiBFIH4sKZdhhR1LwNiA\n",
       "zLK5zGmtrSZ64FB33XiUZLi9lbqAaKZtw1z4P+N+8QPberORLN+Ha1vAZEskLCrbTh2KhhvOdr6C\n",
       "uRAQE7ag15kNlTnTzB4mVJ2drlTE+5m2hGkLlkNNcqI6iM3s/Owqc+pUKlhn0WuSwr/2NOzIDtvU\n",
       "epDDN3kwSv6jBL9Vw2ZLy4o6GPCsn+fXyPPMmlo9CNKR5MPApElS41wMmsAkqfC38di0AjDjyjEE\n",
       "jdAMM6JnWCMww74A/gCFrYSyTdySBQAAAABJRU5ErkJggg==\n",
       "\" style=\"display:inline;vertical-align:middle;\" /></a>, <a class=\"ProveItLink\" href=\"../../../../__pv_it/common/195236b98c6c564a75b5dbada74b173bc52d5c3e0/expr.ipynb\"><img src=\"data:image/png;base64,iVBORw0KGgoAAAANSUhEUgAAAAkAAAAOBAMAAAAPuiubAAAALVBMVEX///+YmJjc3NyIiIhUVFR2\n",
       "dna6urqqqqpmZmYyMjIiIiIQEBBERETu7u4AAAALjtrwAAAAAXRSTlMAQObYZgAAAE9JREFUCNdj\n",
       "4D29gAEIOBtAJF8BiMy7ACKjQATDFON2BgbelxfuKTCwv2XgM2DgmMBwLwCkPK+AgU+Aoe8CA18C\n",
       "70YGBhYBHqARvM2BDAwAqXgQspq5HJAAAAAASUVORK5CYII=\n",
       "\" style=\"display:inline;vertical-align:middle;\" /></a> : <a class=\"ProveItLink\" href=\"../__pv_it/demonstrations/6b007a0dabd27a8a6782aebf4ffc7a6ecde4650d0/expr.ipynb\"><img src=\"data:image/png;base64,iVBORw0KGgoAAAANSUhEUgAAAC8AAAAVBAMAAAAk6KpUAAAAMFBMVEX///+IiIi6urrc3NxERETM\n",
       "zMwQEBCqqqpUVFQiIiJ2dnYyMjLu7u5mZmaYmJgAAABN0h6tAAAAAXRSTlMAQObYZgAAAPNJREFU\n",
       "KM9jYGDgu8eAClgvHgBRPLsY0AFTKojk+4AsdiQTRN4GEVwTUFTvBRErsUh8xyHB9AeHBISHkLBd\n",
       "KwZ2IgN3o2wBA8MyEJNjA9CAZIb9EB3n9/B8ZmB4D2KWBTAwHHvAcAUiUX+A4SNQ3wUGhpDJQO79\n",
       "AwwTIRK3GXh+AalOAQYGNaCOFAaerzBvMAEdzN0AssMBpIgd6v9/DLx/oHYAXcXzHeiEYrDEJ5B9\n",
       "EFeBnOvI8LJhAc9vIK+PwRfZHycEgxsVGGYCvXJW6gGmz9kPwFgQiQR4cDCgSCDi4yBcAhwfDPAY\n",
       "fAAP4iSI0VjjHAAAT0mOyf5/PgAAAABJRU5ErkJggg==\n",
       "\" style=\"display:inline;vertical-align:middle;\" /></a>, <a class=\"ProveItLink\" href=\"../../../../__pv_it/common/ceef4280a2f1cc604b455b54e735507244cc62cd0/expr.ipynb\"><img src=\"data:image/png;base64,iVBORw0KGgoAAAANSUhEUgAAAAkAAAAJBAMAAAASvxsjAAAALVBMVEX///+YmJgQEBDu7u5mZmZU\n",
       "VFQyMjJERESqqqoiIiLc3NzMzMyIiIh2dnYAAABuqkWTAAAAAXRSTlMAQObYZgAAADZJREFUCNdj\n",
       "YGC4c2YDA8PKBvYEBoa5DKwNDCyPGYCAqQBE2l0AkXwCDAxA8QAGE6DKu4IHGABBiAr2Gi8OxgAA\n",
       "AABJRU5ErkJggg==\n",
       "\" style=\"display:inline;vertical-align:middle;\" /></a> : <a class=\"ProveItLink\" href=\"../__pv_it/demonstrations/4bb7d36ca64d107000d79d4921539d4617258ebf0/expr.ipynb\"><img src=\"data:image/png;base64,iVBORw0KGgoAAAANSUhEUgAAAAwAAAAUBAMAAABL3sEiAAAAMFBMVEX////MzMxUVFR2dna6uroQ\n",
       "EBCqqqqIiIgiIiJmZmYyMjJERETu7u6YmJjc3NwAAACgK8IjAAAAAXRSTlMAQObYZgAAAGNJREFU\n",
       "CNdjYOC7wPaAgYHhNAODHpBax8BwioGBdwIDA3MBAwdQgieA4QVQnGEJQyWIsmTYC6JuMbSBqAyG\n",
       "EBAlD6PAgh4wJZYgajKQDwQLIYY1wIxm2Ae2CGQtkAV0BO8DBgBfVhetSSF8+gAAAABJRU5ErkJg\n",
       "gg==\n",
       "\" style=\"display:inline;vertical-align:middle;\" /></a></span></td></tr><tr><td><a name=\"0x1913b24c8a05cba8_step1\">1</a></td><td>conjecture</td><td></td><td><span style=\"font-size:20px;\"> <a class=\"ProveItLink\" href=\"proofs/in_enumerated_set/thm_proof.ipynb\" style=\"text-decoration: none\">&nbsp;&#x22A2;&nbsp;&nbsp;</a><a class=\"ProveItLink\" href=\"../__pv_it/theorems/ea82fd37548a00131448f72149714a6c38e1d8350/expr.ipynb\"><img src=\"data:image/png;base64,iVBORw0KGgoAAAANSUhEUgAAAgsAAAAWBAMAAAC8psKRAAAAMFBMVEX///8QEBCIiIhmZma6urrM\n",
       "zMxUVFQiIiJERETc3Nzu7u6qqqp2dnaYmJgyMjIAAAAcRTyBAAAAAXRSTlMAQObYZgAABZBJREFU\n",
       "WMPNWG9oHEUUf/dnb+/29i754p8qlTNpY1GLR/z3oYleECoI0k0KWrDQ47CgtZZDa2vTEs/6oVdF\n",
       "ORTSUKjdNtBoxN6aEtTS0LNRlNbA0VSoJYWDosUqIdR+MKktvpnZ2529vdvbpGfoQCZv3r03M+83\n",
       "b957OwC3W4t0LtZKax+cr4Z3Wvkf9nGgCk/6a/EQ70KjvkXgLyegRMYX6ynIiSg9qWIjdyFl4LO7\n",
       "bM4ws7C53k3PX8mHxgdyxDo4Q8ZX6sMga/gvqjYShiju4JJtpfQCJ4vPX4esJZUoDAM4DGXqw0Bl\n",
       "Bhrqk5P4d71RMDRpC4MBTlEYyAHLWn0YqMecaSgMOwD8c+W7sGd73y3BsEZdIAyHqHWR08PD+8AF\n",
       "DFPDw5+nG4lCKG0aLexWb9EbfoQFwhBNEOvgn2x2lxsYmrLZPYVGwuDF2xxNtVJPPKpathbqaL/H\n",
       "GUKbwO8tq3TqVItzVpNblpepZtLFKQwbAfa6gSGgQDDnwjr/tEsYgph28lekWUK/anADJHV15aKY\n",
       "MNY5pDoqwGeKm2qe7W6fFiw5qYZ2wkd8VoqUKAzP0GBZpQlvfg/3Jw0Y/HE46sq8cZcwiOgHJ1W4\n",
       "SmgzRn+FRyktBV8G1j5ZOz1SAb6F56ApRqldENAcVEEswGtlmuSpcJrCIIK3SjXwxXgnfCOrPtWA\n",
       "AdKw0pV5f7qEwYNzPgXSvwTx+6axEea6HSSfz4GINj1bO+EzAWsJkC/oP4GTKjzNxdLAG7j2DLVO\n",
       "LopVKtoP9qswFovL5qWACXAXvWbnAcMl8F+3ZmxS2XkykFecbNEFrGXDGk3/yRmGu/mAAgYModIL\n",
       "pJDvafW2KcAoclOwjY5+zMPwqYA3RGrfYg9Ag22/cXfpaptKA1GsSnCKVVyKG/rpNZsHhGbguZ50\n",
       "tIUJTP7SEm/ZqJcNRf2YmU/UVqXex4xkscHPLgXsfRkZXUXPJi8JBITKsRJ7VP5yPQdDsB+7IWWD\n",
       "CgFrjpbeEua4BNBLUgBsFZphU8UWCM8aIq/BIXoj2y1JLK/BlnDOCQYqcG4p3Km26TAkMF7oeIDm\n",
       "5A03MBwwI1mm0EMkHMOF9z+AE/kIkIRSJVqZjkJhnIMhTOLOo/AiCN9ZYfDFBe66BGM4MYlgyvqK\n",
       "nEZ4vG/gIq/De4ZnmDDgFNtkeqTSTWJ0SSeMERUIHU4jjB2MEygG45TwJWFQoTAYahYCngDpcWqk\n",
       "npzRagoDjbAp6Nb3koIuEN7OZncjDAdEDgYa0+8FhF+0wuDRvEn+yuNOkIdkb8WNthar6I0w+DAL\n",
       "z9Irz/F1fmp5/zLm2dtxKZHMvg30TuwtCwRi6F07dU77BCPg54t6dKUjqpHkVEGeOMuMLJdPCrMu\n",
       "Qoy6A1bAQQEo1SFAknmDv4eH4QKuNgsfDlfCkM8FL6iTY5Mv/UC9UiXmNuXsMBDe5NgUX0ybmPxk\n",
       "L6aJLWF7jXzcgFXxZkIzCsc5zquaI7sqNZKtNaRbR2uKGQTovAwDKlJbR4EadA5gioeBtCXCtSKB\n",
       "AQXfL3ee3IbnYaTk0U7gx5cqquexxxI1TmDg5QhvJCNaPq3sYdQMH1+ToV3CKGUPoj9EMgWOU+BV\n",
       "oVBTlRnJf1rph5GEP6D/NHRrSKGjBvFA/X1YOlbCsPqhVgpDtyYsge4c6TR/aqQTi8wheAwIf3MB\n",
       "+1D7WZXAwMsRXkAxC7yqRan53vDJOymAw/ZQb2Sb1fipHtqsmhyDoKpSrKYqM5K+N+gf2hWtfH1X\n",
       "YGywFtN8qlNNwTIlwjFIa+UR63vBJifCygT37FKlWV+f7JVdpDYn4lawXKMk2FnYYAjX+Grw9nEx\n",
       "XnhkFSeoU0dgGaRy+oj1PX9rNrkjcKLo+AgH4cV9i/wVjbucqAt1rYdTcDqCSF2526z9BwI5mrqu\n",
       "T4FKAAAAAElFTkSuQmCC\n",
       "\" style=\"display:inline;vertical-align:middle;\" /></a></span></td></tr>\n",
       "<tr><td>&nbsp;</td><td colspan=4 style-\"text-align:left\"><a class=\"ProveItLink\" href=\"proofs/in_enumerated_set/thm_proof.ipynb\">proveit.logic.sets.enumeration.in_enumerated_set</a></td></tr><tr><td><a name=\"0x1913b24c8a05cba8_step2\">2</a></td><td>conjecture</td><td></td><td><span style=\"font-size:20px;\"> <a class=\"ProveItLink\" href=\"../../../../numbers/numerals/decimals/_theory_nbs_/proofs/nat3/thm_proof.ipynb\" style=\"text-decoration: none\">&nbsp;&#x22A2;&nbsp;&nbsp;</a><a class=\"ProveItLink\" href=\"../../../../numbers/numerals/decimals/__pv_it/theorems/f147593b5b15e3dc286e1d3c9d3aa15c2a17a5260/expr.ipynb\"><img src=\"data:image/png;base64,iVBORw0KGgoAAAANSUhEUgAAADMAAAAPBAMAAAC7N+rPAAAAMFBMVEX///9UVFTMzMzu7u4yMjIQ\n",
       "EBC6uroiIiKIiIiYmJhmZmaqqqpERER2dnbc3NwAAACDMjhQAAAAAXRSTlMAQObYZgAAAOBJREFU\n",
       "GNNjYHh79zQDCjD5c8SA4erXBAa+BQz7J6DKnWQSYGD+wMDA8ZuBvwBVSlyhg4EhgIGBLYyB3wEs\n",
       "wnm8vATMEDvMqMAAUQ4xkOmEAVSXnCKzM0SKuRZiO0yGQY67QREsxXd9MUQAbpccwzXOBoiBrQkg\n",
       "8gCSFKOBEESKNRhkVYgLEEClmAVYgC7ke8DA8xtkLrIuBl0moBT/Z4gUyCMIKc4NQJWsBxjYP4ME\n",
       "VsClhID4HlCKcwLUX+wbYFLeQMwFCoasVcfAAswyyRAZ9a9AHcwOyEHHdgcaUFAAAH26M5vnYGic\n",
       "AAAAAElFTkSuQmCC\n",
       "\" style=\"display:inline;vertical-align:middle;\" /></a></span></td></tr>\n",
       "<tr><td>&nbsp;</td><td colspan=4 style-\"text-align:left\"><a class=\"ProveItLink\" href=\"../../../../numbers/numerals/decimals/_theory_nbs_/proofs/nat3/thm_proof.ipynb\">proveit.numbers.numerals.decimals.nat3</a></td></tr><tr><td><a name=\"0x1913b24c8a05cba8_step3\">3</a></td><td>axiom</td><td></td><td><span style=\"font-size:20px;\"> <a class=\"ProveItLink\" href=\"../../../../numbers/number_sets/natural_numbers/_theory_nbs_/axioms.ipynb#zero_in_nats\" style=\"text-decoration: none\">&nbsp;&#x22A2;&nbsp;&nbsp;</a><a class=\"ProveItLink\" href=\"../../../../numbers/number_sets/natural_numbers/__pv_it/axioms/41585b68a7dd1d513f84c532999561d9671aca5e0/expr.ipynb\"><img src=\"data:image/png;base64,iVBORw0KGgoAAAANSUhEUgAAADMAAAAPBAMAAAC7N+rPAAAAMFBMVEX///9mZma6urpUVFREREQQ\n",
       "EBDc3NwiIiLu7u6qqqoyMjLMzMyYmJiIiIh2dnYAAADXmt2vAAAAAXRSTlMAQObYZgAAAONJREFU\n",
       "GNNjYOC785oBBXR98WpgePpVgYFhJUN7AqqcD7cBA8cHBgaeAAa+BahS5hvuMjAEMDCwGDBw/gCL\n",
       "8LiXV4EZRh7MGxgKGBj4DRiYfoIEuH0boLrMNnOsAEn1CzAw/QXbDpNhMOO8sBkklf+AgRssZQa3\n",
       "y4zhEc8FkJQAA/c/kIADkhRzgzWSgdxRq4AAKsVhwBUAdgYnyBlsyLoY9nGDHO/AwAN2fACyFM8E\n",
       "ByQvy8KlrIH4GciQSobWDSAB9gkwqZVAzAhS3nfXGizAYaIBkdn+FaiDAyXwmJ5AAwoKAGQvOOyD\n",
       "fUpGAAAAAElFTkSuQmCC\n",
       "\" style=\"display:inline;vertical-align:middle;\" /></a></span></td></tr>\n",
       "<tr><td>&nbsp;</td><td colspan=4 style-\"text-align:left\"><a class=\"ProveItLink\" href=\"../../../../numbers/number_sets/natural_numbers/_theory_nbs_/axioms.ipynb#zero_in_nats\">proveit.numbers.number_sets.natural_numbers.zero_in_nats</a></td></tr><tr><td><a name=\"0x1913b24c8a05cba8_step4\">4</a></td><td>instantiation</td><td><a href=\"#0x1913b24c8a05cba8_step6\">6</a></td><td><span style=\"font-size:20px;\"> <a class=\"ProveItLink\" href=\"../__pv_it/demonstrations/711a9d43e16183b99b2dd2b080bfca0b3bdfcf5e0/proof.ipynb\" style=\"text-decoration: none\">&nbsp;&#x22A2;&nbsp;&nbsp;</a><a class=\"ProveItLink\" href=\"../__pv_it/demonstrations/94433183dbde89ea89d84f042c889690de01cd5e0/expr.ipynb\"><img src=\"data:image/png;base64,iVBORw0KGgoAAAANSUhEUgAAAQwAAAAVBAMAAABBDM1HAAAAMFBMVEX///9UVFQQEBCqqqoiIiJm\n",
       "ZmYyMjJERESYmJjc3NyIiIi6urp2dnbu7u7MzMwAAAADGpxCAAAAAXRSTlMAQObYZgAAAuRJREFU\n",
       "SMellj2IE0EUx19uk8sm2bkNYqPVdSqiiNhcIa5gc6KwIOpxKOYKbQwatFKbLVSwchvBwiJceWAI\n",
       "h9YXJQfiWewdcsU1SSNiEQwEUhlx5u3HbGZ2Ngm+YvPyz+bNb2bevHnQg9D0FVhY9QDiAlqy+uN9\n",
       "JPVAMEmYYD3Ywc+3AKRKP0un+W8ooCWrm12AJfR2xLBR0EmmucH7+A9So7PsM+9GbNr9yBVU8sii\n",
       "Xq4CkHHVGCxomr379hjgSBxjnkYzWGho89d8AZLUeTvwSEWNwYJqp5QUBRsuOLAfx3gBs2GYZ0Lv\n",
       "qxqDBt39NFJiFAdgWmDUYxjLM2JseaG3p8ZgQXU1RukkmBUgixyjYM2I0ebb01RhYNAUDGp0U+A+\n",
       "xyja0aifhQHfbK97srq2cY16bCKGrcLAoKkY5Ap9bHOMPKWCDGbba/4WE0on4KGskqHXcf2TpFdC\n",
       "DOMemh1iYNA0jEL7Nn2+5BhZlnFnuxCeAd+YsOfATVnVRmDS1LrLDr6lWg0Mmr4p63RHz3GMOfr1\n",
       "57L/0+F68A4Kdzy4LKu0YnRadGHoTwt9FQYLOgFjjh7n3+MYWBTpvMsQr5LHgPyVVbo4W3Sua/A/\n",
       "GAUX8oMxDFy/TE3MjRqQP6D1JRVMhy0T5kbJEnKjPO2mmCPE+CCkaNJJIQOakkvSSTGb5HhwUniK\n",
       "iqsxKUXnapAdjaWoYY/XDTIMB3wKz8stSc04eTv4Q66lwsCgRTpQh5F2KkGAyNEdrBu3OEZJLF+X\n",
       "wiq5u/HraFNSyeqXqHx1VRgsaO7QcAWyV9kWsc26GDoY6eP1Z/T5IKWYa15SFRVU9L6nF3O08/L9\n",
       "HjUwxBKvtkU+oAGRAEp1iqvNt5aEYXAvfrXl3fF+4yCx3xBU1m+kXfR5N5hwXcI4iLx9se2Bqn/t\n",
       "MXPwWY1dhgnqZjMcKr3t0eVT4kTek+D9RtSvaWIvqiX2olq8F32FbkMcpjFtE6j7K9b4B8ldDykZ\n",
       "0nD5AAAAAElFTkSuQmCC\n",
       "\" style=\"display:inline;vertical-align:middle;\" /></a></span></td></tr>\n",
       "<tr><td>&nbsp;</td><td colspan=4 style=\"text-align:left\"><span style=\"font-size:20px;\"><a class=\"ProveItLink\" href=\"../../../../__pv_it/common/c06c606ec12678c58933ac85412ecadc2ae28be60/expr.ipynb\"><img src=\"data:image/png;base64,iVBORw0KGgoAAAANSUhEUgAAAAsAAAAJBAMAAAAWSsseAAAAMFBMVEX///9UVFSqqqrMzMwiIiJE\n",
       "RESYmJgyMjK6urru7u4QEBCIiIh2dnZmZmbc3NwAAABRgo0vAAAAAXRSTlMAQObYZgAAAEdJREFU\n",
       "CNdjYOC7c3slAwND1wP2DwwMnMsYeAMYGHh/MrBsYGDgCmCYb8DAMP8Agz5QxXwFBnGmBwysG9gc\n",
       "eYAqpTc/3MEAAP4BD32xAXDqAAAAAElFTkSuQmCC\n",
       "\" style=\"display:inline;vertical-align:middle;\" /></a> : <a class=\"ProveItLink\" href=\"../__pv_it/demonstrations/1c8a91f6b28e26b4928f9c8373fe2c97979a06430/expr.ipynb\"><img src=\"data:image/png;base64,iVBORw0KGgoAAAANSUhEUgAAABMAAAAVBAMAAABWJ8jiAAAAMFBMVEX///+IiIi6urrc3NxERETM\n",
       "zMwQEBCqqqpUVFQiIiJ2dnYyMjLu7u5mZmaYmJgAAABN0h6tAAAAAXRSTlMAQObYZgAAAF5JREFU\n",
       "CNdjYGDgu8fAevEAAxDw7AISTKkgJt8HEHkbRHBNAJErSWAuAxEcG0DkexBRFgAiuS8wMIRMZgCD\n",
       "TgEGBjWIaANIrQNcLZIJhG1LgDOR3MsA9kUSmMkO9RsA2nceY29T18EAAAAASUVORK5CYII=\n",
       "\" style=\"display:inline;vertical-align:middle;\" /></a>, <a class=\"ProveItLink\" href=\"../../../../__pv_it/common/195236b98c6c564a75b5dbada74b173bc52d5c3e0/expr.ipynb\"><img src=\"data:image/png;base64,iVBORw0KGgoAAAANSUhEUgAAAAkAAAAOBAMAAAAPuiubAAAALVBMVEX///+YmJjc3NyIiIhUVFR2\n",
       "dna6urqqqqpmZmYyMjIiIiIQEBBERETu7u4AAAALjtrwAAAAAXRSTlMAQObYZgAAAE9JREFUCNdj\n",
       "4D29gAEIOBtAJF8BiMy7ACKjQATDFON2BgbelxfuKTCwv2XgM2DgmMBwLwCkPK+AgU+Aoe8CA18C\n",
       "70YGBhYBHqARvM2BDAwAqXgQspq5HJAAAAAASUVORK5CYII=\n",
       "\" style=\"display:inline;vertical-align:middle;\" /></a> : <a class=\"ProveItLink\" href=\"../__pv_it/demonstrations/3bdcf696ba14b502b926cdb32f48734f2ddcdc720/expr.ipynb\"><img src=\"data:image/png;base64,iVBORw0KGgoAAAANSUhEUgAAAB0AAAAVBAMAAABI7vhRAAAAMFBMVEX///+IiIi6urrc3NxERETM\n",
       "zMwQEBCqqqpUVFQiIiJ2dnYyMjLu7u5mZmaYmJgAAABN0h6tAAAAAXRSTlMAQObYZgAAAJpJREFU\n",
       "GNNjYGDgu8cABqwXD4Aonl0MUMCUCiL5PsD4DLdBBNcEOH8l2XzbtWJAy5aB+BwbgDYlM+wHMt+D\n",
       "+GUBDAzHHjBcATK5LzAwhEwGMu4fYJgIkusUYGBQA8qnMPB8Bck3gPQ7MPD8YmD/ANMPNJ/nO9DU\n",
       "Yqj5IPscGV42LECy/4RgcKMCLvcloPLR/c+ACJ8kMMWOHH4AMR0vmFpOTQ8AAAAASUVORK5CYII=\n",
       "\" style=\"display:inline;vertical-align:middle;\" /></a>, <a class=\"ProveItLink\" href=\"../../../../__pv_it/common/ceef4280a2f1cc604b455b54e735507244cc62cd0/expr.ipynb\"><img src=\"data:image/png;base64,iVBORw0KGgoAAAANSUhEUgAAAAkAAAAJBAMAAAASvxsjAAAALVBMVEX///+YmJgQEBDu7u5mZmZU\n",
       "VFQyMjJERESqqqoiIiLc3NzMzMyIiIh2dnYAAABuqkWTAAAAAXRSTlMAQObYZgAAADZJREFUCNdj\n",
       "YGC4c2YDA8PKBvYEBoa5DKwNDCyPGYCAqQBE2l0AkXwCDAxA8QAGE6DKu4IHGABBiAr2Gi8OxgAA\n",
       "AABJRU5ErkJggg==\n",
       "\" style=\"display:inline;vertical-align:middle;\" /></a> : <a class=\"ProveItLink\" href=\"../__pv_it/demonstrations/eea7d6cad038e102d1f2bc3f15bfcbcfd740854e0/expr.ipynb\"><img src=\"data:image/png;base64,iVBORw0KGgoAAAANSUhEUgAAABsAAAAVBAMAAABF8IgWAAAAMFBMVEX///+IiIi6urrc3NxERETM\n",
       "zMwQEBCqqqpUVFQiIiJ2dnYyMjLu7u5mZmaYmJgAAABN0h6tAAAAAXRSTlMAQObYZgAAAKpJREFU\n",
       "GNNjYGDgu8cAAqwXD4Aonl0MEMCUCiL5PjAwHMkEsW6DCK4JQGIviLUSzv2OwmX6g8IFq0BwuRtl\n",
       "CxgYloG4HBsYGM7v4fnMwPAexC0LYGCoP8DwEajmAgNDyGSwjTy/gFSnAAODWgDIWiagVdwNIL0O\n",
       "DAz/GHj/QPWCTP7EcOwB1GQQt4/BF9nes1IPUNzMgHBVAgoX5F8IAPuXAR4aSWCKHSmsAKIIM4eS\n",
       "pPa1AAAAAElFTkSuQmCC\n",
       "\" style=\"display:inline;vertical-align:middle;\" /></a></span></td></tr><tr><td><a name=\"0x1913b24c8a05cba8_step5\">5</a></td><td>conjecture</td><td></td><td><span style=\"font-size:20px;\"> <a class=\"ProveItLink\" href=\"../../../../core_expr_types/tuples/_theory_nbs_/proofs/tuple_len_0_typical_eq/thm_proof.ipynb\" style=\"text-decoration: none\">&nbsp;&#x22A2;&nbsp;&nbsp;</a><a class=\"ProveItLink\" href=\"../../../../core_expr_types/tuples/__pv_it/theorems/0e50a84fcd29aed2e6c3f826159fa446aca6ee610/expr.ipynb\"><img src=\"data:image/png;base64,iVBORw0KGgoAAAANSUhEUgAAAJkAAAAVBAMAAACnAFEqAAAAMFBMVEX///9UVFQQEBCqqqoiIiJm\n",
       "ZmYyMjJERESYmJjc3NyIiIi6urp2dnbu7u7MzMwAAAADGpxCAAAAAXRSTlMAQObYZgAAAatJREFU\n",
       "OMtjeMsAB0hMHAL4Ad8FhtNAirOBeQKQOo0uDRGYQdgcSzDJswGs4zoDgyRO03gL8Jt0qucBA+ME\n",
       "JNMyGRiu4TSNDaiSWRenYWwGvJ4MvAkI0zgCgKwFuExrZWC4ePAvTtOaGBiOAR2IMI0FaDuvAi7T\n",
       "PIGYA7dphQwM9hcYLiFMmwJiZuMwjdMBv2kfGRj2GzCwbYCbthQkehSHaVwBeE3j/Qo0bQEDTwDc\n",
       "tAqQcBvUNJ40MAiAmcbegNc0zj8MDO8XMHAkwE1zBgmb4HAbiwF+04Bue3+AgdkBbpo2SPg9DtOY\n",
       "NhDjU74PVDENFAv2BsimgX26BTXcBIj0KUM5A0P/BQZuB+yxgO42ArEATb1IsXAUJBqDwzRw3HMB\n",
       "TbsP0gAieL8hM1gMePUYGFgPwE3bAtKZh8M0kB9Yhb5FMLD4gvSCQsARxnC5ADTy1MIHwNz6ADVn\n",
       "OeDLWWBgi+FL5gsw1hUScj0EHMAwjQdRLCGVSJX4SiT2CdCUtQDDtFvwVJeAWlpWEiwtOTDjswHG\n",
       "YIeVluvAJTkHiLsOXfU6YkvyTjDJ9QAAefyjssLNpqIAAAAASUVORK5CYII=\n",
       "\" style=\"display:inline;vertical-align:middle;\" /></a></span></td></tr>\n",
       "<tr><td>&nbsp;</td><td colspan=4 style-\"text-align:left\"><a class=\"ProveItLink\" href=\"../../../../core_expr_types/tuples/_theory_nbs_/proofs/tuple_len_0_typical_eq/thm_proof.ipynb\">proveit.core_expr_types.tuples.tuple_len_0_typical_eq</a></td></tr><tr><td><a name=\"0x1913b24c8a05cba8_step6\">6</a></td><td>conjecture</td><td></td><td><span style=\"font-size:20px;\"> <a class=\"ProveItLink\" href=\"../../../../numbers/numerals/decimals/_theory_nbs_/proofs/tuple_len_3_typical_eq/thm_proof.ipynb\" style=\"text-decoration: none\">&nbsp;&#x22A2;&nbsp;&nbsp;</a><a class=\"ProveItLink\" href=\"../../../../numbers/numerals/decimals/__pv_it/theorems/d91b0baa73b160791e9a9af92b6e7e976f37822b0/expr.ipynb\"><img src=\"data:image/png;base64,iVBORw0KGgoAAAANSUhEUgAAARoAAAAWBAMAAADtKE5GAAAAMFBMVEX///8QEBCIiIhmZma6urrM\n",
       "zMxUVFQiIiJERETc3Nzu7u6qqqp2dnaYmJgyMjIAAAAcRTyBAAAAAXRSTlMAQObYZgAAA01JREFU\n",
       "SMfFVj1oFEEUfneby/7c7m2KVIJwRpN6iZ0meJIileRsLGwSgxaCyBUaMFpEsMghwlYmhcJJQEMK\n",
       "b9FCtMlhggGNsGijQmQLI0QhBCu9QPDN7L673b3M7amFr5j75t03b76deTPzAJLsLHRimcpfDfsz\n",
       "vurCKgGBPeetXoi5/WH3k6fI2gGfAY/BDRF1kcIuhpzazVKo122L1Wgz7ZXcW78NcJH4CN4w+E1E\n",
       "3yI1W2Fvzgpr88Rqcqg0e0C88hYsu/CY+AjmmVf0CYYVhDXC84PphHsvxWreAzx8VReqSe+CWQI9\n",
       "H/AR5DD9dEdAl+0grGyH3WORlH0gVnONfYhYTVcvmB5oPQEfgfF6aWlORJ+jsFHGWqSXK4jUqKX2\n",
       "atBwp+AL8RH8nJ29IeIeJjUMqEODQQp87TtOu9RXBN0SqUlbSWo0NvUK8RFcACg3lm47Sr5Dahg4\n",
       "aed2/BB7laq/c3OO4oHhkRp9m5tF0RU3QY26dgzbz8RHMBKcCm4rUfZ1UoNAOwiSn+3ZOpg88+AG\n",
       "dDuQLYnWRnYSd+oQjntGfAQypJs32/cot5fUIJDqIPsaJA+qNQ74RJkdkZpUIVFNCjd/nPgIdFdu\n",
       "/vlLrCY1A9UiXTdj/BSmZv5NjWqDshtVo3pnECwMbLLAPwbY4dX78q07hcuxHFw3LpzgZ9xfoa5S\n",
       "LG8mOt0ps87VjBKfgfJ5TIqrGTYoPc2PwZVMT2sWVx247L8pZgFzKJAFTiiL42uTlMW4tnI9msXw\n",
       "FL9NsjLsC5U8C43JWmwm9WoA8L8pHar4f7erWBxIE7BQBKkmUsPPfhrnY2TeaHsQ6hkuv2+GiM8A\n",
       "Ox8pJz3BNxonwA6FHCU1CLTJ/rtHQJ5GNPgWOID1DRybK4rUsD2Uzu0N+2SZzTBFgLtGjt7CdpP4\n",
       "DBiYA1Vb+YQ/ZoUpMe02L8OLFvCo/csQJTet4dJK9DJQaZCyx0/BfEWufMAWr3pL+GrWWkD7VzNG\n",
       "blrDFX41g0t48skwnHYyl2rYqoPv6FksU0VB17WWbwFtKgrFjpFDb0LDFa4owuaEWkG1ZUAcKB1U\n",
       "W8Y+xUoDlYlf3qcmzNrRSrQ/oRL96JcqxZi7v9NK1LADvmHvI9eA/2e/AQA2FjDT8yibAAAAAElF\n",
       "TkSuQmCC\n",
       "\" style=\"display:inline;vertical-align:middle;\" /></a></span></td></tr>\n",
       "<tr><td>&nbsp;</td><td colspan=4 style-\"text-align:left\"><a class=\"ProveItLink\" href=\"../../../../numbers/numerals/decimals/_theory_nbs_/proofs/tuple_len_3_typical_eq/thm_proof.ipynb\">proveit.numbers.numerals.decimals.tuple_len_3_typical_eq</a></td></tr></table>"
      ],
      "text/plain": [
       "\tstep type\trequirements\tstatement\n",
       "0\tinstantiation\t1, 2, 3, 4, 5\t|- {a, b} in {{}, {a}, {b}, {a, b}}\n",
       "\tm : 3, n : 0, a : ({}, {a}, {b}), b : {a, b}, c : ()\n",
       "1\tconjecture\t\t|- forall_{m, n in Natural} [forall_{a_{1}, ..a_{_a}.., a_{m}, b, c_{1}, ..c_{_a}.., c_{n}} (b in {a_{1}, ..a_{_a}.., a_{m}, b, c_{1}, ..c_{_a}.., c_{n}})]\n",
       "2\tconjecture\t\t|- 3 in Natural\n",
       "3\taxiom\t\t|- 0 in Natural\n",
       "\tproveit.numbers.number_sets.natural_numbers.zero_in_nats\n",
       "4\tinstantiation\t6\t|- |({}, {a}, {b})| = |(1, ..k.., 3)|\n",
       "\ta : {}, b : {a}, c : {b}\n",
       "5\tconjecture\t\t|- |()| = |(1, ..a.., 0)|\n",
       "6\tconjecture\t\t|- forall_{a, b, c} (|(a, b, c)| = |(1, ..k.., 3)|)"
      ]
     },
     "execution_count": 38,
     "metadata": {},
     "output_type": "execute_result"
    }
   ],
   "source": [
    "set_ab_in_its_power_set_kt.proof()"
   ]
  },
  {
   "cell_type": "markdown",
   "metadata": {},
   "source": [
    "<div style=\"width: 90%; border: 5px solid green; padding: 10px; margin: 0px;\"><a id='demo02'></a><font size=4><b>2.</b> Deducing Set non-memberships such as $\\vdash 4\\notin\\{1, 2, 3\\}$ and $\\vdash d\\notin\\{a, b, c\\}$.</font></div>"
   ]
  },
  {
   "cell_type": "markdown",
   "metadata": {},
   "source": [
    "Many simple enumerated set non-membership claims can be deduced automatically or relatively easily.  \n",
    "First, recall a some enumerated Sets defined earlier:"
   ]
  },
  {
   "cell_type": "code",
   "execution_count": 39,
   "metadata": {},
   "outputs": [
    {
     "data": {
      "text/html": [
       "<a class=\"ProveItLink\" href=\"../__pv_it/demonstrations/e602daaa717bfda7072697a160cb6ba3f1bb7a3f0/expr.ipynb\"><img src=\"data:image/png;base64,iVBORw0KGgoAAAANSUhEUgAAAEMAAAAVBAMAAADvM06qAAAAMFBMVEX///+IiIi6urrc3NxERETM\n",
       "zMwQEBCqqqpUVFQiIiJ2dnYyMjLu7u5mZmaYmJgAAABN0h6tAAAAAXRSTlMAQObYZgAAATBJREFU\n",
       "KM9jYGDgu8eAC7BePACieHYx4AZMqSCS7wOyGM9dlwAIy2qVO5C8DWJyTQAS7DlQJScYuD6BGcwX\n",
       "GOofMDCshCk5seIPVMkdBoY0MIPxOwP/BCQlDHwwJZkMDP0GYFckMfBvwKpk/wGGfqhjUC1CKAGC\n",
       "+QegLp8FJJaBWBwbUJUw/YLQzCuB7mJ4D2KWBaAq4WyAscQUGBi4LzAwhExmQFVyF85iA4VEpwAD\n",
       "gxqqKYwXoPYYMLB8B5oCMpPDAUVJLUgSCPj/gJW8x/QR6wIGRrASNgcGzj9QH4GVMAJ550Fes1y1\n",
       "thPM4nuAGi68bb/vMXDOAQXd//8/ISzdu04MyEEHBjUMmCyIkgQYdwEDJmslSnrhEWDAYEHSCwMs\n",
       "1fHBxREsYHyDADuBtAsAUu9bLZmwvqYAAAAASUVORK5CYII=\n",
       "\" style=\"display:inline;vertical-align:middle;\" /></a>"
      ],
      "text/plain": [
       "{1, 2, 3}"
      ]
     },
     "metadata": {},
     "output_type": "display_data"
    },
    {
     "data": {
      "text/html": [
       "<a class=\"ProveItLink\" href=\"../__pv_it/demonstrations/8f4675ed72e818da8f4afa8e935154324ba24f400/expr.ipynb\"><img src=\"data:image/png;base64,iVBORw0KGgoAAAANSUhEUgAAAEEAAAAVBAMAAADrxp6XAAAAMFBMVEX///+IiIi6urrc3NxERETM\n",
       "zMwQEBCqqqpUVFQiIiJ2dnYyMjLu7u5mZmaYmJgAAABN0h6tAAAAAXRSTlMAQObYZgAAAR9JREFU\n",
       "KM9jYGDgu8eAA7BePACieHYx4ARMqSCS7wOy2JFMFCW3QQTXBBSxvSi8lVhUfCekgukPIRVoJiJU\n",
       "2K4VA3uMgbtRtgCqVlCUgWEZiMWxAWh2MsN+iPj5PTyfwQzm6QzeDAzvQcyyAAaGYw8YrkBU1B9g\n",
       "+AhmcC5gaAcaeYGBIWQykHv/AMNEWADw/AIz7kNs7RRgYFADmpHCwPMVFhxMEP+mQJzVAHKHA0gb\n",
       "OzRk/zHwgv0LNek91C8834HuLQYLfQK5CaKUgR3qF5BvHRleNizg+Q3k9TH4MoAZNxh4riKFxwnB\n",
       "4EYFhplAx52VAhoBYnCte4gZpuwH0BlQFQnwEMdgQFQg0sdBDAYkfTDA09gDDAZTEsRW/OkUAEa5\n",
       "WAU8AAzjAAAAAElFTkSuQmCC\n",
       "\" style=\"display:inline;vertical-align:middle;\" /></a>"
      ],
      "text/plain": [
       "{a, b, c}"
      ]
     },
     "metadata": {},
     "output_type": "display_data"
    }
   ],
   "source": [
    "display(set_123)\n",
    "display(set_abc)"
   ]
  },
  {
   "cell_type": "markdown",
   "metadata": {},
   "source": [
    "Prove-It can automatically prove some simple non-membership claims:"
   ]
  },
  {
   "cell_type": "code",
   "execution_count": 40,
   "metadata": {},
   "outputs": [
    {
     "data": {
      "text/html": [
       "<span style=\"font-size:20px;\"> <a class=\"ProveItLink\" href=\"../__pv_it/demonstrations/faaf23e936e0300a5c6874675dc290e1c2645d000/proof.ipynb\" style=\"text-decoration: none\">&nbsp;&#x22A2;&nbsp;&nbsp;</a><a class=\"ProveItLink\" href=\"../__pv_it/demonstrations/217d8d8a7bbfb15f074109c4cc4a9b04422816270/expr.ipynb\"><img src=\"data:image/png;base64,iVBORw0KGgoAAAANSUhEUgAAAGgAAAAVCAMAAACdfluMAAAAQlBMVEX///9jY2MJCQkNDQ0rKysP\n",
       "Dw8WFha6urpERESqqqru7u52dnYyMjKYmJjc3NwQEBCIiIhUVFQiIiJmZmbMzMwAAACFf/JyAAAA\n",
       "AXRSTlMAQObYZgAAAbBJREFUSMellumWxRAMgM1aYg3y/q86uObWVtNzJz96KsUnqzJ2KbEf6qDZ\n",
       "CxKDgz+m+HYASrIX5bCx5c5Hwc4eut4JQuB8sN9IKbl4vAfVnB6n5eFoR/K0T9jeF5DXSuqmm3xw\n",
       "QXpc6yzuPfecDCiRelAoQ2tbnaNsDfkBZLTqQZr77y+v1hbpAWTLJyTTxSUbSGpYK1kHijwlCjeM\n",
       "3QOpMkaKo08m12nTgUBBfrC7oOrpSQu+JqqsXgXHOhBmW5zrV6Hagw6SY9r5AH3G5hktiBd/9JuJ\n",
       "phaWoEXaphSrmahK8YjYg6JVSn1+pIc6g+YN24JCWBWY/S0E9I5BMbkBmWyRFNfVvQC5kWPKwTg9\n",
       "tim7CwxJyIZnUOxURPlMfAMS4bl3FSpzKqjtKm3BJuQxeWKXdbE4xbUgy5tMlHb88BtYgXEDco/l\n",
       "UMuRGZ/6WkDfqJjWyxYkORHqpnm9H3AFCmhJlRvDe6gFW8Q3qhTUFA9+TIccRL9J7v1VCzpDA3dU\n",
       "O9DQfkY/n53rjmoDAr4wcr6PwN1RDfdRXxWrO3u+YRez9PqGPa48t9SK//0z/AA4SRev6E+LeAAA\n",
       "AABJRU5ErkJggg==\n",
       "\" style=\"display:inline;vertical-align:middle;\" /></a></span>"
      ],
      "text/plain": [
       "|- 4 not-in {1, 2, 3}"
      ]
     },
     "execution_count": 40,
     "metadata": {},
     "output_type": "execute_result"
    }
   ],
   "source": [
    "NotInSet(four, set_123).prove()"
   ]
  },
  {
   "cell_type": "markdown",
   "metadata": {},
   "source": [
    "If the sets involve variables with unassigned values, however, things are more complicated. For example, Prove-It will rightly refuse to automatically deduce that $d\\notin \\{a, b, c\\}$, because we don't know what the variables might be equal to:"
   ]
  },
  {
   "cell_type": "code",
   "execution_count": 41,
   "metadata": {},
   "outputs": [
    {
     "name": "stdout",
     "output_type": "stream",
     "text": [
      "Proof Failure: Proof step failed:\n",
      "Attempting to instantiate |- forall_{n in Natural} [forall_{x, y_{1}, ..y_{_a}.., y_{n} | x != y_{1}, ..x != y_{i}.., x != y_{n}} (x not-in {y_{1}, ..y_{_a}.., y_{n}})] with {n: 3, x: d, y: (a, b, c), (y_{1}, ..y_{_a}.., y_{3}): (a, b, c)}:\n",
      "Unsatisfied condition: d != a\n"
     ]
    }
   ],
   "source": [
    "try:\n",
    "    NotInSet(d, set_abc).prove()\n",
    "    assert False, \"Should not make it to this point.\"\n",
    "except ProofFailure as e:\n",
    "    print(\"Proof Failure: {}\".format(e))"
   ]
  },
  {
   "cell_type": "markdown",
   "metadata": {},
   "source": [
    "If we can provide Prove-It with the appropriate assumptions, however, we're OK:"
   ]
  },
  {
   "cell_type": "code",
   "execution_count": 42,
   "metadata": {},
   "outputs": [
    {
     "data": {
      "text/html": [
       "<span style=\"font-size:20px;\"><a class=\"ProveItLink\" href=\"../__pv_it/demonstrations/c432d5b59053b4ed91a96c1365fbd88e37d12fdc0/expr.ipynb\"><img src=\"data:image/png;base64,iVBORw0KGgoAAAANSUhEUgAAADIAAAAUCAMAAAD4FJ6oAAAAOVBMVEX///8kJCQNDQ0oKChUVFSq\n",
       "qqrMzMwiIiJERESYmJgyMjK6urru7u4QEBCIiIh2dnZmZmbc3NwAAACwiO0fAAAAAXRSTlMAQObY\n",
       "ZgAAAMBJREFUKM+9UssSwyAIpC0a4lv//2OrJJ0EzZjJpXtgIllcFwCYITp4iGz6jCafpiVox1xR\n",
       "UxEac7ZM34r6wt3yVATMZiWnmIIfBKkTqbSgNyvW51pdDm3D+LxbPPrDNGIrzq81JroR2Wnc9sSF\n",
       "S+gngPK802L79u1+V/ruUJbnnWY5tkJVQHp5+c3RT+tMc9wDNKDEtaYTETSqLtYFIYohD5t0pjkM\n",
       "QWcMYp/MMKVL2gkqPV36C5E7qPgHEbDTv1+wJggnOceX7gAAAABJRU5ErkJggg==\n",
       "\" style=\"display:inline;vertical-align:middle;\" /></a>, <a class=\"ProveItLink\" href=\"../__pv_it/demonstrations/3ee9fd4c6d0b33b6b3b1e85801312c7b245d037d0/expr.ipynb\"><img src=\"data:image/png;base64,iVBORw0KGgoAAAANSUhEUgAAADAAAAAUCAMAAAD84U6VAAAAOVBMVEX///8kJCQNDQ0oKCjMzMyY\n",
       "mJjc3NyIiIhUVFR2dna6urqqqqpmZmYyMjIiIiIQEBBERETu7u4AAABpMeEWAAAAAXRSTlMAQObY\n",
       "ZgAAANRJREFUKM+1UtkSwiAMROUmQML/f6w0tVQOO/pgHpaZXLtJEOKzOVq6CXNaBnQcPRIzbG+E\n",
       "ZYH1s6+EEycCnH2+UMOZQC6mSid+Q/ASH60xMKnCgUCDM5LFU4lUQR+ske1x3/Dchs81AVl8YCzm\n",
       "koCyqgi8aEYqrt+47euBuybXBvHDalH3BRm5K1+mqNahzXDL+yQHzy4glP14/pD4tr6BgFiAjSLU\n",
       "gK252H8OP/0VrDtRyYqNiMA4NdxnOj3VW0ltjV/+ugDiN4v0W35wfyYQ/jL6BKlqCPMVBUBtAAAA\n",
       "AElFTkSuQmCC\n",
       "\" style=\"display:inline;vertical-align:middle;\" /></a>, <a class=\"ProveItLink\" href=\"../__pv_it/demonstrations/6cae2ab6471e6d8b5018d3aaf80f30924c7ce7b60/expr.ipynb\"><img src=\"data:image/png;base64,iVBORw0KGgoAAAANSUhEUgAAADAAAAAUCAMAAAD84U6VAAAAOVBMVEX///8kJCQNDQ0oKCi6urqY\n",
       "mJgQEBDu7u5mZmZUVFQyMjJERESqqqoiIiLc3NzMzMyIiIh2dnYAAACLQYzIAAAAAXRSTlMAQObY\n",
       "ZgAAAMZJREFUKM+1UtsSQiEIpPKGd/z/j02xprzkzHmIBxwQWXYR4LeRhksW7ZxJTpnDAxRrrvgD\n",
       "gFtzohymxLRhFa4BgH1RoJzz3M9NiWgop04hhnq4tyRk2R735j+aCBVrUacQqE3sjwBayeoNdzU7\n",
       "5gnHuBdxa1A7di6OMRfpItjTqFyb/aY6kzdOL/KlL0/yMXCwE4BmedCCrxemtdHmm6RYfozLADIg\n",
       "8DREUuZxP4sMGuumImaxXbI31771BuBsnv4MAOJ4+wRdkQc4a3C4qgAAAABJRU5ErkJggg==\n",
       "\" style=\"display:inline;vertical-align:middle;\" /></a> <a class=\"ProveItLink\" href=\"../__pv_it/demonstrations/8c1d7c8ebcfd420ada249d1b50e3896c08d4f4320/proof.ipynb\" style=\"text-decoration: none\">&nbsp;&#x22A2;&nbsp;&nbsp;</a><a class=\"ProveItLink\" href=\"../__pv_it/demonstrations/d14090955418a269c843a577bd318712c7f35a8d0/expr.ipynb\"><img src=\"data:image/png;base64,iVBORw0KGgoAAAANSUhEUgAAAGYAAAAVCAMAAACDt2s/AAAAQlBMVEX///9jY2MJCQkNDQ0rKysP\n",
       "Dw8WFhZUVFSYmJiIiIjc3NwyMjIiIiJ2dnbu7u66urqqqqpmZmYQEBBERETMzMwAAADVO6QiAAAA\n",
       "AXRSTlMAQObYZgAAAZ5JREFUSMelVu2WhSAIdD+VVBSx93/VtW7dULPu7vqjc8RRBhg0pYYjN3ND\n",
       "Rv12ZAK8gbhqhtarv4yQJN3MiRoiuo5lHp6EnNzYD9lqOsdmOVRTf3GSsjReqzeGGa9ydu2mpTje\n",
       "WM0Mu+8vZ19101EcbxRxZy7y4On1aC4jfS5O5CEfcaPF5XOBJkgVfasBqMmbB4BVYz7tkivE+Yhb\n",
       "L3EANG60FWhbyQ7nQgxnGf7kile2QqKYTC07Xgk22Y6b/Dc0V2srxVkSc0uT6SjKQSvIPZsvJ2vt\n",
       "50f5WFEtt3Hd0NB1Bs6ifanShF7giVfQs0umZe7joJk3dO7UE6SoE1eVe7KIItmpb5qFEqtT9JIu\n",
       "0wRQRfaoDa4sSoHjXkICFWigyx69uAl7zSrHhY5QGpfEGafVQcBFnUfyF+gisC3QciiTEhZa80RZ\n",
       "bMQi+jxpOK4w1O8BB24k2rkHCgn8g/5uUd4bA3e9a948O3d/2US8t1y4aS8a2cyV7QXL2A3yWYT9\n",
       "e4Nwb+nem2PA6WPcv549zJy9nmGUs3Nz/Me/wA8byRZzI7+IVgAAAABJRU5ErkJggg==\n",
       "\" style=\"display:inline;vertical-align:middle;\" /></a></span>"
      ],
      "text/plain": [
       "{a != d, b != d, c != d} |- d not-in {a, b, c}"
      ]
     },
     "execution_count": 42,
     "metadata": {},
     "output_type": "execute_result"
    }
   ],
   "source": [
    "NotInSet(d, set_abc).prove(assumptions=[NotEquals(a,d), NotEquals(b,d), NotEquals(c,d)])"
   ]
  },
  {
   "cell_type": "markdown",
   "metadata": {},
   "source": [
    "In real-life operations, somewhere along the way we might have already proven that set of inequalities $a\\ne d$, $b\\ne d$, $c\\ne d$, and Prove-It would then be able to automatically prove that $d\\notin\\{a, b, c\\}$."
   ]
  },
  {
   "cell_type": "markdown",
   "metadata": {},
   "source": [
    "<div style=\"width: 90%; border: 5px solid green; padding: 10px; margin: 0px;\"><a id='demo03'></a><font size=4><b>3.</b> Deducing subset relationships between enumerated Sets: $\\vdash\\{2, 4, 6\\}\\subseteq\\{1, 2, 3, 4, 5, 6, 7\\}$ and $\\vdash\\{1, 3, 5, 1, 5\\}\\subseteq\\{1, 2, 3, 4, 5, 6, 7\\}$.</font></div>"
   ]
  },
  {
   "cell_type": "markdown",
   "metadata": {},
   "source": [
    "Although Prove-It might not be able to automatically prove that any arbitrary enumerated Set is a subset of another, the enumerated Set class has some machinery to help us out.<br/><br/>\n",
    "Consider the following sets, which include the set $\\{1, 3, 5, 1, 5\\}$ with redundant elements (recall that the enumerated Set class allows us to create a set that appears to hold multiple copies of the same element, but the set is not actually a multi-set):"
   ]
  },
  {
   "cell_type": "code",
   "execution_count": 43,
   "metadata": {},
   "outputs": [
    {
     "data": {
      "text/html": [
       "<strong id=\"set_1234567\">set_1234567:</strong> <a class=\"ProveItLink\" href=\"../__pv_it/demonstrations/d967db57ef91f178d45b6d00823049cc2062d0460/expr.ipynb\"><img src=\"data:image/png;base64,iVBORw0KGgoAAAANSUhEUgAAAJIAAAAVBAMAAABf4KrdAAAAMFBMVEX///+IiIi6urrc3NxERETM\n",
       "zMwQEBCqqqpUVFQiIiJ2dnYyMjLu7u5mZmaYmJgAAABN0h6tAAAAAXRSTlMAQObYZgAAAj1JREFU\n",
       "OMutlEFoE0EUhv8kbZLd7m5y6kEKzSnngiAoFHPwqDQHLx6KpZSCYGku9qQYDx5aqIl4EhS3oCCB\n",
       "Si6CFNpuL6XiIUEriBiNCF4ELXqxtrjuzHuzsysxlzqH2Z+XN1/mvflnADjvcdQxOSJmaw1HH8Vy\n",
       "MDl70ZDVOVMmlWo8rKjoYJu+G96kiq0co7wLy42GC7sZSLMuAgseJezA/E5qHJnfimRU6Tvv/+LI\n",
       "i4JcDHzzfb9KEDFZSzUmvQNmSY1WsK9Iw0xauzHGkXMYKEnxCshCkwI0ky4BNcouFnDAy1JfmFRV\n",
       "6OQPpVzgUU/SpocaN0pXZw79TRqY0q1N5nuSgvFAyecui0+KdOvjaxK5pysvQ6qACHK2GSclVVNP\n",
       "3eeYlVekszhdkKK1AUOd4hNlgIVynGSEJSSmuTgM6bLqRNqDfZn/R7poHTh/B3FSR3dgloJXIiSb\n",
       "Wp2rw2G3JGRN2dtsT01KsAlxHJiQBViuIgWNYLcZTTh8HoZ0wzPxcylGuoYUucD3mJRZ7nyYywuV\n",
       "bsI+JOZUuKdcVfUpfnaDLhJEmomcYpr2ZMvNyLRD2GyEi211dkQa9WAJI55srC6iJdK/Cj+1aGG6\n",
       "JFWqjc9jMg1L2K6Quu4i6qc38+td3A22sOn7+zDuCTd0dgukYE787Eo1/ji4TSIN5tubrE5UYiTy\n",
       "dHh+V9FH6TStiBQa30TkMv1b6bSIqsfep63wkcr3U2FaRNETE76ZXSUc9FPdHqooL1Hm/7zjfwDA\n",
       "OLhVTonENwAAAABJRU5ErkJggg==\n",
       "\" style=\"display:inline;vertical-align:middle;\" /></a><br>\n",
       "<strong id=\"set_evens\">set_evens:</strong> <a class=\"ProveItLink\" href=\"../__pv_it/demonstrations/8d5f714115b4d96c0bef629833af0008c8f3f8920/expr.ipynb\"><img src=\"data:image/png;base64,iVBORw0KGgoAAAANSUhEUgAAAEMAAAAVBAMAAADvM06qAAAAMFBMVEX///+IiIi6urrc3NxERETM\n",
       "zMwQEBCqqqpUVFQiIiJ2dnYyMjLu7u5mZmaYmJgAAABN0h6tAAAAAXRSTlMAQObYZgAAAVJJREFU\n",
       "KM9jYGDgu8eAC7BePACieHYx4AZMqSCS7wNQ2V2XALjOC1DGQimg2G0Qi2sCA8MJBq5PMCWcDRD6\n",
       "tALvBgaGlTAldxgY0mBKxKBKfBlYHJCUZDIw9BtAZJhfQ5QwfQZTcCX7DzD0Qx3DxQ1RwpKAqgQI\n",
       "5h+AKHkMVcK/deElILUMxObYADb3F0QFjwBUyfl9DJwFDAzvQeyyAGR/cDHAlHxg4M1hYOAGBkHI\n",
       "ZLDIXah/SmFK+Ccw8IEColOAgUENZAojNLx4FsCUcG5g4PvHAOFxAH3PUMvADPY0e+/d+7kCYCcm\n",
       "gE15D/MR6wIGRmi4MLBBTGH9w8CbAPURSInlqrWdDOc3QJQ4QFhdDMcKkIPu//+fDJxzwFz/Hw/A\n",
       "LK5brWhBBwQ1DJgsiJIEGHcBAyZrJSy9QAOWAYMFSS8MsFTHBxdHsJiSwBQ7gbQLAN8SXD61zy9R\n",
       "AAAAAElFTkSuQmCC\n",
       "\" style=\"display:inline;vertical-align:middle;\" /></a><br>\n",
       "<strong id=\"set_odds\">set_odds:</strong> <a class=\"ProveItLink\" href=\"../__pv_it/demonstrations/5346a41b5441b850ae5a4e73cc4e28058060d0310/expr.ipynb\"><img src=\"data:image/png;base64,iVBORw0KGgoAAAANSUhEUgAAAGsAAAAVBAMAAACzuQ2OAAAAMFBMVEX///+IiIi6urrc3NxERETM\n",
       "zMwQEBCqqqpUVFQiIiJ2dnYyMjLu7u5mZmaYmJgAAABN0h6tAAAAAXRSTlMAQObYZgAAAZlJREFU\n",
       "OMtjYGDgu8dACmC9eABE8exiIA0wpYJIvg/IYsyrlhRAWNxvWK+j69h3IBYoexvE5JoAJNhzoBK2\n",
       "DOz/ICy2//8XQAXLDkAZ+f9/AcmVMG0nVvyBSsgXMPyE2rZCGMLg6eqHadvVaICsjYEPpk1NgeE3\n",
       "hMWBcNt7mLYGMIlFGwPckSRqOwn1Ecc72QB0bX0PrwLJZWDpDSjarOZC1bAcYP6Ers2HwV4ByAUH\n",
       "UwCqbYxJcKYnujagYUC3cV9gYAiZzICqjSENrui+AYY23s9AolMAGHYothkzMPhD4rubgWG9Aqo2\n",
       "oH+4gA7nBoUMhwOytv8HYNqygbYdQNXGtoGB9w/Ub6ghmcLAMB+iCOiB2Wh+42Vg4NwADUmwNkag\n",
       "tvOgIH0Hijcwy5aBLxnCYpA/wMADSgTMFxieGSDFG2/b73sMnHNAyfvuFQUIi/lW7wEI60b+3gcM\n",
       "M0E22q64gxLdYFDDgIfFjghNiLYEGHcBAx4WFwOqNnh+4xFgwMM6iNB2G5IboDw+uDg21gNE7oYk\n",
       "I3YyyhIAnOSMWbzwXQYAAAAASUVORK5CYII=\n",
       "\" style=\"display:inline;vertical-align:middle;\" /></a><br>"
      ],
      "text/plain": [
       "set_1234567: {1, 2, 3, 4, 5, 6, 7}\n",
       "set_evens: {2, 4, 6}\n",
       "set_odds: {1, 3, 5, 1, 5}"
      ]
     },
     "execution_count": 43,
     "metadata": {},
     "output_type": "execute_result"
    }
   ],
   "source": [
    "# define some enumerated sets\n",
    "set_1234567, set_evens, set_odds = (\n",
    "        Set(one, two, three, four, five, six, seven),\n",
    "        Set(two, four, six),\n",
    "        Set(one, three, five, one, five))"
   ]
  },
  {
   "cell_type": "markdown",
   "metadata": {},
   "source": [
    "Prove-It can automatically prove that $\\{2, 4, 6\\}\\subseteq\\{1, 2, 3, 4, 5, 6, 7\\}$:"
   ]
  },
  {
   "cell_type": "code",
   "execution_count": 44,
   "metadata": {},
   "outputs": [
    {
     "data": {
      "text/html": [
       "<span style=\"font-size:20px;\"> <a class=\"ProveItLink\" href=\"../__pv_it/demonstrations/92bcdf1038c391d96143487b6c4c8821894631df0/proof.ipynb\" style=\"text-decoration: none\">&nbsp;&#x22A2;&nbsp;&nbsp;</a><a class=\"ProveItLink\" href=\"../__pv_it/demonstrations/0a912ef28df46bf918ad7b80008ca976cf45cd6e0/expr.ipynb\"><img src=\"data:image/png;base64,iVBORw0KGgoAAAANSUhEUgAAAPQAAAAVBAMAAACDGd7qAAAAMFBMVEX///+IiIi6urrc3NxERETM\n",
       "zMwQEBCqqqpUVFQiIiJ2dnYyMjLu7u5mZmaYmJgAAABN0h6tAAAAAXRSTlMAQObYZgAAA1ZJREFU\n",
       "SMetVl9IU2EU/23T7e66qRH0EIl78lUhiP4g+WBBUOhDLwmiRBhB4V7yqWgFBQnmIqLWH5qUIANr\n",
       "FFEI6g0ijIiNMpFqtQgiCFKSIFO63fudc797d/cHg+7Ddvbt/H6/c77vnHM/ALUfUPbp3lRisRJg\n",
       "jQ/xhiYq+TR1Fi1VBqzxEby1i8bHy9ld1mJ1lg113SgQThcnvVgQSK6do/Ol7kTdJFNat7U2spH8\n",
       "DgylUkniVeMGPoZ7EXYJxpjzPt7Rv+L5mkgkLlNIYmlAo/UZqD/IakXgD1wk/fpvXnkR4SwWdF2P\n",
       "EYn5Edbg72WfDYyqyqLdlt5xW+YpYh0cZun3QB9ZjVEsw0UycbqFV/ahqk0YrwEFtrQ/DmWJt+0b\n",
       "o5pb7BSBByiQNoJn6SPAMNE3RbACF0nMAnmXLCsJjDqka1ah/GTiGnbf7dBBOFpOelrDsFWKcsMl\n",
       "iZSu6rUJvPUOafN0Vmn9s4Va6Wowjl8lSBDlpI3nlmU+T8JFcuHTGzLqHo68kmGAeRU6/WaCheoZ\n",
       "FVrJ44os560OaQLY0l6rkrbf5DVJgr3YSeWbmULQ2rm7VpsM0HZd5ZRgSevAnEE1KX49dUgTwJYO\n",
       "yl31HHSRmCnSpmYWET7KgYlsDN79l+gwuRGPS5RRrQtGxMpF14YzwJbO2f/1aS4Sg5jqqy6OWm5C\n",
       "j9g1k5fmVQNHlJSo6wZ9HnhMedS7B5yU9lgjaDPQES0kMc6Guz6YRi0XYVA0mcmrmFYgayKN76Hc\n",
       "x2Mkc05kbY2uR46zbiuQPgkfNZeusbRN4k8jTOWr9Mqs62LWWYuC7QLWM5Wfs+7RMCcrHDNntNIV\n",
       "Xp2Eh6QPOWqdScIiXeG2ijBT9WStCjeZfNdS8/EQDQR/GzKmu5IMHXYM0q49hYO0UYMAbEuNnyfA\n",
       "d7OvM2kniS+LLy3EO4hnUbJOJeEcKcZcjSNhxqx2/MoHb5gu42OdDmlXX8/3T+YFYFrXlyEA3txs\n",
       "hCybpHXMGLTE+/YsW1uiKBwp5hnJPT3hmh/F0mUBJSzbLVB4aqoccSocc7aCdEVACct2Uwt57dfv\n",
       "E/kOtluJ33RqIiFfmhUBpSzp5rCIV1468vIy4GjiSPENoxKglJUvYRFv4F/vZoH/czf7CzadIlEP\n",
       "cahdAAAAAElFTkSuQmCC\n",
       "\" style=\"display:inline;vertical-align:middle;\" /></a></span>"
      ],
      "text/plain": [
       "|- {2, 4, 6} subseteq {1, 2, 3, 4, 5, 6, 7}"
      ]
     },
     "execution_count": 44,
     "metadata": {},
     "output_type": "execute_result"
    }
   ],
   "source": [
    "SubsetEq(set_evens, set_1234567).prove()"
   ]
  },
  {
   "cell_type": "markdown",
   "metadata": {},
   "source": [
    "This can produce an odd-looking result, because an enumerated Set might look like a multi-set but is in fact equal to its underlying support. For example, because $\\{1, 3, 5, 1, 5\\} = \\{1, 3, 5\\}$, we have the following result, even though the subset <i>appears</i> to have multiple copies of elements $1$ and $5$:"
   ]
  },
  {
   "cell_type": "code",
   "execution_count": 45,
   "metadata": {},
   "outputs": [
    {
     "data": {
      "text/html": [
       "<span style=\"font-size:20px;\"> <a class=\"ProveItLink\" href=\"../__pv_it/demonstrations/f35910d4e725b4fa74baf8004b5fa0fc1f6cd8dd0/proof.ipynb\" style=\"text-decoration: none\">&nbsp;&#x22A2;&nbsp;&nbsp;</a><a class=\"ProveItLink\" href=\"../__pv_it/demonstrations/6af5c10a522ad4000b6c2e16e1a74ab1977459740/expr.ipynb\"><img src=\"data:image/png;base64,iVBORw0KGgoAAAANSUhEUgAAARsAAAAVBAMAAACEflfWAAAAMFBMVEX///+IiIi6urrc3NxERETM\n",
       "zMwQEBCqqqpUVFQiIiJ2dnYyMjLu7u5mZmaYmJgAAABN0h6tAAAAAXRSTlMAQObYZgAAA5FJREFU\n",
       "SMetVk9IFGEUf7p/ZndnZxQCD4W4XTwVLXQTpCWIEAo9dAoCsaxDhXvJU9EGFWlYC3VwrWgFEXcv\n",
       "7aWLkIyXKCTcwlAsdSPoUqkooenWNvO9933zb9cUHZbd37557/f95r3vvfkAQJ2HnVy+91oZ688C\n",
       "7PIi3vDoDuOqO922iTTs+kJeddlq82SH4ojGtHNxZwTaPrmplmz/3k2dINSUPSmePo+/8g/fNJkG\n",
       "97fhrf7ZbJZ4Q0n9S7pCHs0g/UXUVdrgTN28PGjL0D+1J5VKIWHG6hZOwIsIPlwebvIqBhP46y+V\n",
       "KJUTESWHRKVSaZ1IDDlvRooU1BCH34hGb0WJvfchl4M2kuMZjYp8ZKxuigb+doaq1qAmSS51JEce\n",
       "2UeW0+CNYYBOlLDIAZXLaYzAJqKEpRRcTsJMhc5rqkETd/MnIbCK26EDanIk/jsRBsReWeUopH/a\n",
       "ysoBUaz/ypmGCnLkIgR+8Tu8WCHZKcfbbiE4CBXkvKXKPvjy0SUHbcP4J1lJjrFROF94gMBXIWex\n",
       "HvdbzcvBDyIgxnkDOZucpmdEegqORZxy0IZt5LGkD+475ByhZ/JkPpOsWi7Hq3lWGJgcgyDv3VCB\n",
       "t2d3mz07VR0im0mnHLTJrGXDMVON1Olw6xeoLkLbQzblt6CcZVB4Q0+yIuu8Zx6BXQ5c5KzKqlsO\n",
       "s/XU2ovla4na3ZS8uOfHFa9Z5Swwd73n1BWyHGDfBm+jLTtHAVrjVMPQikMO2Yh40DlQTTn1fKhG\n",
       "wbvGUpkWcvS64lQK5kCltoHHLDuGRyBmlVPSSI4/B0rRIYdsNIJly9C+bZMj5Y3HMhJQJDlS39zC\n",
       "VZZTuKxnhzkG2s3srIvRbu+sCwDPmbPC5NvlkI06K3zvUIXOOguAo84fM3vMT9nR6/gES1wEhXrd\n",
       "9wd4ZzE5VXrQpLH6ojF3DKTP92/RMI7EBg0YYjbzJeEbsr8khNtAdibJkFrQ5w6R6NLYCs2gnkfU\n",
       "C6/jeFPaAOvcUe5uzkPwqbEL5qYiiJpH9B5NGQ880/WqgIjZhBzH3BFusv4KSmLA4bnjRBJqXS8w\n",
       "Xs9sn4YrhGbv0E3PJZscvK6DC0maG1WSUzHARFuuQHLErDbPLGnL28SFyskZ3iogBNtaAXnFeSdc\n",
       "Cy40Dm7EzzuZVErsnaWtAsZhWysQLz8NqsJuokIZVN3hzo6c3iKgANtagXilvTgr39ibs/I/HYRX\n",
       "oxtB8QIAAAAASUVORK5CYII=\n",
       "\" style=\"display:inline;vertical-align:middle;\" /></a></span>"
      ],
      "text/plain": [
       "|- {1, 3, 5, 1, 5} subseteq {1, 2, 3, 4, 5, 6, 7}"
      ]
     },
     "execution_count": 45,
     "metadata": {},
     "output_type": "execute_result"
    }
   ],
   "source": [
    "SubsetEq(set_odds, set_1234567).prove()"
   ]
  },
  {
   "cell_type": "markdown",
   "metadata": {},
   "source": [
    "<div style=\"width: 90%; border: 5px solid green; padding: 10px; margin: 0px;\"><a id='demo04'></a><font size=4><b>4.</b> Instantiating the <span style=\"font-family:courier;\">proper_subset_of_superset</span> conjecture to deduce $\\{1, 3, 5\\}\\subset\\{1, 2, 3, 4, 5, 6\\}$.</font></div>\n",
    "The enumerated Set class has machinery to help automate the deduction of proper subset relationships such as $\\{1, 3, 5\\}\\subset\\{1, 2, 3, 4, 5, 6\\}$ between enumerated Sets. To gain some insight into how such machinery works, however, it can be useful to derive such a relationship by manually enacting the same steps as the automation would.<br/><br/>\n",
    "So, consider the enumerated Sets $\\{1, 3, 5\\}$ and $\\{1, 2, 3, 4, 5, 6\\}$ defined below:"
   ]
  },
  {
   "cell_type": "code",
   "execution_count": 46,
   "metadata": {},
   "outputs": [
    {
     "data": {
      "text/html": [
       "<strong id=\"set_135\">set_135:</strong> <a class=\"ProveItLink\" href=\"../__pv_it/demonstrations/a550507d1dd527f37bf9fbb712bbec89ad5188cd0/expr.ipynb\"><img src=\"data:image/png;base64,iVBORw0KGgoAAAANSUhEUgAAAEMAAAAVBAMAAADvM06qAAAAMFBMVEX///+IiIi6urrc3NxERETM\n",
       "zMwQEBCqqqpUVFQiIiJ2dnYyMjLu7u5mZmaYmJgAAABN0h6tAAAAAXRSTlMAQObYZgAAAStJREFU\n",
       "KM9jYGDgu8eAC7BePACieHYx4AZMqSCS7wOyGPOqJQUQ1r4DsUDWbRCTawKQYM+BKrFlYP8HYeX/\n",
       "/wUkV8KUnFjxB6pEvoDhJ4S1q9EAWQkDH0yJmgLDbwirAUxiUcIAtwiPkpMLIHTfw6tAchmIybEB\n",
       "RYnV3AMQhg+DvQIDw3sQsywA1RTGJBiLBWg+9wUGhpDJDKhKGNKgxjDwfgYSnQJAP6CYYszA4F8A\n",
       "tZ/rE9AUkKs5HJCV/D8AVcK2gYH3D9QtqD5KYWCYD7aIl4GBcwPUR2AljEAl50FeewcKFxCL+QLD\n",
       "MwOkcOFt+32PgXMOKGrvXlGAsGxX3EEJOjCoYcBkQZQkwLgLGDBZK1HSC48AAwYLkl4YYKmODy6O\n",
       "YDFBgpqdQNoFAGwDXLAf1OGbAAAAAElFTkSuQmCC\n",
       "\" style=\"display:inline;vertical-align:middle;\" /></a><br>\n",
       "<strong id=\"set_123456\">set_123456:</strong> <a class=\"ProveItLink\" href=\"../__pv_it/demonstrations/f5e23f1b6cd27e959da95642df4c82fe5fa447540/expr.ipynb\"><img src=\"data:image/png;base64,iVBORw0KGgoAAAANSUhEUgAAAH8AAAAVBAMAAACd/CwcAAAAMFBMVEX///+IiIi6urrc3NxERETM\n",
       "zMwQEBCqqqpUVFQiIiJ2dnYyMjLu7u5mZmaYmJgAAABN0h6tAAAAAXRSTlMAQObYZgAAAgdJREFU\n",
       "OMullD1IHEEUx/93pznvvF2tbbwq9YFVAkaLlAleYSscoqIQ8CqxUEiKFFp4B2kSSMgJIioI2wgi\n",
       "qGsjfhR3hgiirlway5wkEPCDrDPz3uwHaxqzxc5v3wy/nXnvMQDMCzzuaT6y5ZDZwGOf+LB8m1fB\n",
       "WMZ5mSdKrCwUdXSAxy17QMfmO8S6M0npsnxP2BTfQ/oXUTeSf7XgI4/j7g3TYdawgGUtyMyWWHAO\n",
       "jBB1FnHNq2OjDBvvckyv0dQbEAANFowBJVr0NItbXv1ineGtd/rfanhAsG2jxEnwj1CJCJoK/xKI\n",
       "56vG/QqNZk4L5n4cE7StzX8Tw6LkFissiOs8Pf/CsR1owSv0ZBVUt5AS9Wio/OfDgpS3z9ggn8AT\n",
       "iL2XSXAF4w3QWgP6PyAscPymGFHBZD4gMCh7bWWYstwz7SLb4R3EagxdQJ/qmgNogTgtd0nKgilS\n",
       "3Cp329IbEkwjQWV0bRZMOs6fIxV6YsG4I1VB7aARrUJzBTESDAXqwY1kqF+rZXcwClwFEnTayMi+\n",
       "ebayOoOqXPVT9kHVYpmaTNRwmVOEWewWg31wMr5Zxyfxw23XvUbqsyyn8z1LhAV3Tk2ie0m0uqL0\n",
       "6ftwI6l0e5WYQoT8SZ9YUNCfaW+iEiV/0icS+PfBjncptEfJmwwQ3QfwbqS6BhNRqj9AcWrV5H/d\n",
       "ife7r6rob+7D7QAAAABJRU5ErkJggg==\n",
       "\" style=\"display:inline;vertical-align:middle;\" /></a><br>"
      ],
      "text/plain": [
       "set_135: {1, 3, 5}\n",
       "set_123456: {1, 2, 3, 4, 5, 6}"
      ]
     },
     "execution_count": 46,
     "metadata": {},
     "output_type": "execute_result"
    }
   ],
   "source": [
    "set_135, set_123456 = (\n",
    "        Set(one, three, five),\n",
    "        Set(one, two, three, four, five, six))"
   ]
  },
  {
   "cell_type": "markdown",
   "metadata": {},
   "source": [
    "Prove-It will not automatically prove that $\\{1, 3, 5\\}\\subset\\{1, 2, 3, 4, 5, 6\\}$:"
   ]
  },
  {
   "cell_type": "code",
   "execution_count": 47,
   "metadata": {},
   "outputs": [
    {
     "name": "stdout",
     "output_type": "stream",
     "text": [
      "Proof Failure: Unable to prove {1, 3, 5} proper_subset {1, 2, 3, 4, 5, 6}:\n",
      "Insufficient known transitive relations to sort the remaining items: {{1, 3, 5}, {1, 2, 3, 4, 5, 6}}\n"
     ]
    }
   ],
   "source": [
    "# supplying incorrect (out-of-bound) indices for cycles\n",
    "# should give an informative error\n",
    "try:\n",
    "    ProperSubset(set_135, set_123456).prove()\n",
    "    assert False, \"Should not get to this line!\"\n",
    "except ProofFailure as e:\n",
    "    print(\"Proof Failure: {}\".format(e))"
   ]
  },
  {
   "cell_type": "markdown",
   "metadata": {},
   "source": [
    "But we have an established theorem (really a conjecture) in the `enumeration` theory that we can use to deduce the subset relationship:"
   ]
  },
  {
   "cell_type": "code",
   "execution_count": 48,
   "metadata": {},
   "outputs": [
    {
     "data": {
      "text/html": [
       "<span style=\"font-size:20px;\"> <a class=\"ProveItLink\" href=\"proofs/proper_subset_of_superset/thm_proof.ipynb\" style=\"text-decoration: none\">&nbsp;&#x22A2;&nbsp;&nbsp;</a><a class=\"ProveItLink\" href=\"../__pv_it/theorems/87c64bc5f2e365cf353073c55b1f0acd55c699e60/expr.ipynb\"><img src=\"data:image/png;base64,iVBORw0KGgoAAAANSUhEUgAAAu4AAAAZCAMAAABZy1twAAAARVBMVEX///8kJCRlZWUoKCgtLS0/\n",
       "Pz9RUVEvLy8QEBCIiIhmZma6urrMzMxUVFQiIiJERETc3Nzu7u6qqqp2dnaYmJgyMjIAAABvI+bm\n",
       "AAAAAXRSTlMAQObYZgAABrtJREFUeNrtXOl66ygM5c7cmTGr2ez3f9QBbBabJSSmbm++8KN1iXyQ\n",
       "4CBLMikAAxtljHHwaZ/2Axs25FRDEdlnUrubRvqLRyAIih+jzO2tZD2nH7rf2/jGK7GoGwbDE+kR\n",
       "u0eZ+935br3kCd2XuMX1ELqPBHy7JuZ9atZbhkNLl29f752C6Sa36K2nPNJdSf/pIobQfSTg27Vl\n",
       "n3l1z4r3DaNufiovCNxqvVgi3fnsr+cxwcxIwPcL2MGH7mCV99IdKBhjd++DlRxD95GA79ZC3eq7\n",
       "6K5ntjXyfXTHq7iZ7mKKdNdK2MYH2LxBDAR8tzyVgW+lO18U/37vfttwcaAFB7qDdbZtRE1yhx8H\n",
       "+GYNomwlOFIITpfcXQNCTeWHS40W17XpQFgohOj05FcQQnKJ2gWAaL1Cke7Uic18GN3HAd4aV+Mv\n",
       "H2IOpSq6Z094MrO0XKqMtCCONRdUiS69MgO06UAQq4l2xcoPTz2j2bxc2GRFgGi9XiLdMUqz1wF0\n",
       "Hwe44y3jsACu4frEmqgR9VMCC9xivk/uJWEx2bHQNjR5KbU/QLSLIJUgwiszQJu2MvtwLnRfYaqY\n",
       "DQSofHkOEoCy9ZJFurtpgE+tMWFIGd7AiZbo/gLggyfVwMrVXMHl+zWfBiVSNA/mJrwzyUcVyC09\n",
       "s0tPEHoppk0gilrET8rvFKMyA7R5oMwmszgXr853XZ6DhvVkTWbAurPOYYRUyL5wljNQZggkinR/\n",
       "ArCrLfJr6B5wjVn//bvtTznqSVIAmnB45m8OdZrd0m9/4Jem7ABRiJOTtZtrAQgBg7RpK5O4XJwW\n",
       "I6eo2IU5aFl/oDtfAOk7TaBnyYWluNQQGLVVMZh5ArCvrfxr6O5xrVn/CPDldA/BDKAzCD5OrheW\n",
       "+gjRjt1r+JsyA7RpK+MnXZ/8cerpL8xBy3qcBjMmq6Sb39FIE5M2Awhp2KG+zwfl21oSSTis0T0C\n",
       "AoEgXXpy7oYgWY0+Is3Be3P1Nt09rjWLqCNLu/WuShboHlPVrRginI8zmaI71vHiUkeIfPWOlRkF\n",
       "mwW769q0lfF0xz7GP2wAM2Eve/cAkHD1YH2aqho5HzJpbPWYDAcgjRUL12enIC6gJCaY0aRG9wAo\n",
       "GDGsclSlzZg4Eczrd0zEGh7DgEwP4aJcg+4e15qF+IGl3XrXFS/QXZ0LkbMhoGZ0cxvYs26JNYyH\n",
       "FylEvnqnEnclKPRSTW0KQ+ddDWWCDDXdM0p7EHVegyR07zE9KhIAEq4erEfqkL3seTIXkO37D3km\n",
       "+z5hAVO6G5vOKWScXJ94I+s4mat3tFPAIFhiKAz7c8v6yUM4L9ek+47rzJqPGWa33nXFxZSFYPj8\n",
       "mklQCAmnEKefMuZHZLR+4YUiRGH1TnQXlGJRp3tbm1yHXJuWMkEGwb32FaCV0hoeZ6gxbD4HHiDh\n",
       "6tH6/enr6a79fdTc5JxiDDNdH55cPca9P7IssXTn+hwNxj894GRgdlfDmrRJBIsZHqJRrgMuyjXo\n",
       "vuNas37/7cwCZEbP6d1QnOQv2pqHCMJSy57aUEkoW71sGKLmzkMEl7XJlMll8p7oEHqGzWUCVw92\n",
       "CVapTdkkHRpG8DW6Rttndqj5SQ/eHWACa3QPjztuI1aX3TZpEwU1klojIlVcELtbPX1D1vqAhbuc\n",
       "Q1MVuntcmkYszrt3691QvODdkyNiU4NgXa+jS0LZ6nUeEZvAF2iTK9NxV/L8e2nUyFVQOSKWNr7u\n",
       "O0TPFovPYu9j2IUvMX91DzytHtDdhlFkxTrwc0Ms/AiCEi6OhNJhu8/MnXrer93pBxRYWMXb5aSd\n",
       "cFah+45rzBL0FHKf9X5a8UqJx79qLh0xlz6m6MnES0Kn1QOXzrtf1SZTJpcp3CUZ6B82l0m4mlif\n",
       "HgA+bi77tz2TzaktqxPr+1zfHm7N0m/C7dANfUR3TKGEKNLGIRLr99IfMhU0ibx9+CA3wCZPlfLX\n",
       "HEENo9Ot4nk5g3Z8U5dWZjZc0/eXPNH9rPfTilfoHmrf2ReIOGIrdevX9X6uJHRaPftY7zsYkX+b\n",
       "6bo2mTL68V1x1K5hdXlQnxoE62deoXu+285Fkj12r1RDmqUSUUTM+pgt7NhfMvtM5nCP8Jh9v4sr\n",
       "dffQfkWzMpZ2DpQrXvSsXIfi1Q/6rqp85++q6vTLe+1peO79ToPuBK7uhFIJ8dBn4wpbG6CQnz9L\n",
       "rj3cIzyLJg+HYEp056haP+wdKFN83PuqTxvVHtH9yT3fkRjpJ0fRL9zb1LpEd4Wb9cPXBqKfA9B/\n",
       "Gt2fbOwP+D8zpdNmh1ngQw63kc93uX5Ys/9nhv4PNK1/NOhVXIMAAAAASUVORK5CYII=\n",
       "\" style=\"display:inline;vertical-align:middle;\" /></a></span>"
      ],
      "text/plain": [
       "|- forall_{m, n in Natural} [forall_{a_{1}, ..a_{_a}.., a_{m}, b, c_{1}, ..c_{_a}.., c_{n} | b not-in {a_{1}, ..a_{_a}.., a_{m}}} ({a_{1}, ..a_{_a}.., a_{m}} proper_subset {a_{1}, ..a_{_a}.., a_{m}, b, c_{1}, ..c_{_a}.., c_{n}})]"
      ]
     },
     "execution_count": 48,
     "metadata": {},
     "output_type": "execute_result"
    }
   ],
   "source": [
    "from proveit.logic.sets.enumeration import proper_subset_of_superset\n",
    "proper_subset_of_superset"
   ]
  },
  {
   "cell_type": "markdown",
   "metadata": {},
   "source": [
    "Our goal here is to instantiate the <span style=\"font-family:courier;\">proper_subset_of_superset</span> theorem with the details of our desired case, where we will take:\n",
    "    <ul>\n",
    "        <li>$m=3$ to be the size of our subset Set $\\{1, 3, 5\\}$;</li>\n",
    "        <li>$n=2$ to be the size of $c_1, \\ldots, c_n$ portion of our superset Set\n",
    "            $\\{1, 2, 3, 4, 5, 6\\}$;</li>\n",
    "        <li>$\\{a_1, \\ldots, a_m\\}$ to be our subset $\\{1, 3, 5\\}$;</li>\n",
    "        <li>and $\\{a_1, \\ldots, a_m, b, c_1, \\ldots, c_n\\}$ to be our superset $\\{1, 2, 3, 4, 5, 6\\}$ after being suitably permuted to something like $\\{1, 3, 5, 2, 4, 6\\}$, which then requires $b$ to be the element $2$ and $\\{c_1, \\ldots, c_n\\}$ to be the set $\\{4, 6\\}$.</li>\n",
    "        </ul>\n",
    "We begin the process by deducing an equivalence between our original superset and the permuted version of that set required for the theorem application:"
   ]
  },
  {
   "cell_type": "code",
   "execution_count": 49,
   "metadata": {},
   "outputs": [
    {
     "data": {
      "text/html": [
       "<strong id=\"superset_permuted_kt\">superset_permuted_kt:</strong> <span style=\"font-size:20px;\"> <a class=\"ProveItLink\" href=\"../__pv_it/demonstrations/a9ce8158f79656c2e505089d81340454a95d22fd0/proof.ipynb\" style=\"text-decoration: none\">&nbsp;&#x22A2;&nbsp;&nbsp;</a><a class=\"ProveItLink\" href=\"../__pv_it/demonstrations/d4a18656165ee9b75db62c10488de7bbfbc6f1e80/expr.ipynb\"><img src=\"data:image/png;base64,iVBORw0KGgoAAAANSUhEUgAAARsAAAAVBAMAAACEflfWAAAAMFBMVEX///+IiIi6urrc3NxERETM\n",
       "zMwQEBCqqqpUVFQiIiJ2dnYyMjLu7u5mZmaYmJgAAABN0h6tAAAAAXRSTlMAQObYZgAAA09JREFU\n",
       "SMetVltIFFEY/vd+mxmNoIdI2iffonktsJaQQijYh54CaansQoE+SQ9JBSVopEUPXaEVSlZBWoIg\n",
       "DG18CckH1yALc2178alSDBLbpenMuc6Z2Z1k6zzMfHs8//d95//n/B4A0JagvtG+o9rst1J9bKE5\n",
       "w3op41DvaE6752ay9bL5O6yntmqfU4qtVGPv6CGRB/qeNNq7CIpveQqg5t2kK9IvTpL4GvrgVBC8\n",
       "MLQdzX3CxLfQI3KBzk9DfA2DQAEu87Tfo+9O8xflfG4F41DHGLEe3QY4SMKmmXUo2HhnktbORpid\n",
       "6VyF/mER4DQGvnVoYGq+sxSMX9UJCBagtaYdpX+Q2hEkidxWp4KN9wgEUzY7oDE75wAGsaT/BDSw\n",
       "Wux7ScEVJrpb56HVsrNC7QiSKF/AFQSv/4cIle28NmCQlZYXK+uycxA2ZUeQCDs2BcYbzNSyg8Zj\n",
       "yqU8oBOazuwMfHlPQPlYUxKFZv5qh5FEvzelnQqct+HF0Dv0GsYL87IdP/1aAyOLdGYKmJ3DsD+J\n",
       "RcoluMsPZfwVHgX844Zkh5MEjcCaU4Hzzk5CrIseyu60bCfGK7ItSXPK7SBaXB/FBJhHkhOu5EQ6\n",
       "HMViJABtTgXOO7sKKjraCbSho3dAtlPkKExOfyRts6OSr24DSSKd6G1na23THXbCrIXAZ11WELzo\n",
       "9GlW7voaaWsVdnwFmmYdgusYvQUWhupKe8ZDJFkCm025tTI7ggTV8FlSVhC8sTxov1F2rKxFU5Kd\n",
       "HovDclxhTBeLxZ9zZKd5UMnCXpwd+dshJbhmtyNIzqPsGLKC4I1mcHZW3CcrlAUfXhxOQYx7pO1K\n",
       "xRuxxnED5jdxsgRJAWdUUhC8oQqoGXqysB0fCpq1lPaMjvVhpJVQy1DKZP0pwAj1/GUdo2hWOePR\n",
       "d3YaJECQtIB20qEgeKEf3nTZ+o7aW16C2COrSZnmBkG7igcA7uNtPjEHCGrJLdK5sVy6tp2PnRMl\n",
       "soyTBBZuGk4FwRtfuC61QTwugQtFDC9UMzu1AjwVqB3+AYibCkdx8ERV7Ax7BXgqEDv8vqM0ggtN\n",
       "gRfyvO9UCfBWIPcdYLdBjc8LVPJEzUm3nUS2doC3Avr3j6v3f+/KPf9yV/4DLBZTQMDXh4MAAAAA\n",
       "SUVORK5CYII=\n",
       "\" style=\"display:inline;vertical-align:middle;\" /></a></span><br>"
      ],
      "text/plain": [
       "superset_permuted_kt: |- {1, 2, 3, 4, 5, 6} = {1, 3, 5, 2, 4, 6}"
      ]
     },
     "execution_count": 49,
     "metadata": {},
     "output_type": "execute_result"
    }
   ],
   "source": [
    "superset_permuted_kt = set_123456.permutation(new_order=[0, 2, 4, 1, 3, 5])"
   ]
  },
  {
   "cell_type": "markdown",
   "metadata": {},
   "source": [
    "Notice that we eventually want to replace $b$ with our superset element $2$ (although we could have chosen any superset element that isn't in the subset and chosen a different permutation as necessary), and so we'll want to know that $2\\notin\\{1, 3, 5\\}$. The instantiation machinery might handle that part for us automatically, but for this example we'll ask Prove-It to first do it for us explicitly:"
   ]
  },
  {
   "cell_type": "code",
   "execution_count": 50,
   "metadata": {},
   "outputs": [
    {
     "data": {
      "text/html": [
       "<span style=\"font-size:20px;\"> <a class=\"ProveItLink\" href=\"../__pv_it/demonstrations/d75512860d69767a69a579f4bcf31a9e951fb00c0/proof.ipynb\" style=\"text-decoration: none\">&nbsp;&#x22A2;&nbsp;&nbsp;</a><a class=\"ProveItLink\" href=\"../__pv_it/demonstrations/12eb4a84c24f53481990d6fa8212d1c01ac936ba0/expr.ipynb\"><img src=\"data:image/png;base64,iVBORw0KGgoAAAANSUhEUgAAAGcAAAAVCAMAAABsdQABAAAAQlBMVEX///9jY2MJCQkNDQ0rKysP\n",
       "Dw8WFhaYmJiqqqqIiIgyMjLc3NwiIiIQEBC6urp2dnZUVFTMzMxERERmZmbu7u4AAAAmYK3VAAAA\n",
       "AXRSTlMAQObYZgAAAblJREFUSMelVldyxSAMJBUQ1Qjuf9VQnm36OAkfnmEHsWhZIROyGkc7pUjJ\n",
       "H8aB3O9XyHriwZA/Dq3KiT2ic8d4ENtkE9YbCWOMYy0G1MdUCoiQadJ+Jug+GhvE3Nkx1QohMIGh\n",
       "VVWFOEwdizlKqa1sF4+3xoaWh4d07NCuB2O5aGJV/togapWc/P6SMM+HdjxapcwDNKAdYiGH2XDf\n",
       "0OGiRZwg5BlPEbPTzc5jibyDPfj0Ib/h8bKzo6WU4+vo5r4THe51NmXCeRcHGx5hJHaYi3PxMlfl\n",
       "VVnl6bKabRxTx143rvQIupcIgKeHsaobBQCfH/ED94VJQfY80bAjiqe5rMzycKxFSPkYNq/pGY/I\n",
       "m7nABpnPqoSiFsNrdT7ZUDwp0C15Qp63PApKPr66nyNb4Koqgpxo7Hk2flOuM2zao9w6VH4TMj5P\n",
       "aGuPM3tseHjZ0Z+VSelZPxdU3iKqRFOneVQ83r5rv+JBqwLkFiHla5HG+BLnm7igSGTs6XUjFw8w\n",
       "fTNOytW7c5vdP4E2PN2b09X0jT2C1jzeTVIc+4/nT6Cr/0xqe9agx346WUXn/VQvZJui7H//Bz9y\n",
       "/xiHvwsrKwAAAABJRU5ErkJggg==\n",
       "\" style=\"display:inline;vertical-align:middle;\" /></a></span>"
      ],
      "text/plain": [
       "|- 2 not-in {1, 3, 5}"
      ]
     },
     "execution_count": 50,
     "metadata": {},
     "output_type": "execute_result"
    }
   ],
   "source": [
    "NotInSet(two, set_135).prove()"
   ]
  },
  {
   "cell_type": "markdown",
   "metadata": {},
   "source": [
    "Now we should be ready to instantiate the <span style=\"font-family:courier;\">proper_subset_of_superset</span> theorem as shown below:"
   ]
  },
  {
   "cell_type": "code",
   "execution_count": 51,
   "metadata": {},
   "outputs": [
    {
     "data": {
      "text/html": [
       "<strong id=\"proper_subset_of_superset_spec\">proper_subset_of_superset_spec:</strong> <span style=\"font-size:20px;\"> <a class=\"ProveItLink\" href=\"../__pv_it/demonstrations/184791830ca29ac6703f320e7eb828f74287e0720/proof.ipynb\" style=\"text-decoration: none\">&nbsp;&#x22A2;&nbsp;&nbsp;</a><a class=\"ProveItLink\" href=\"../__pv_it/demonstrations/68005b65d2d8f16111d52b38fb536cb6ed4b66fa0/expr.ipynb\"><img src=\"data:image/png;base64,iVBORw0KGgoAAAANSUhEUgAAAOEAAAAVBAMAAABCnpRGAAAAMFBMVEX///+IiIi6urrc3NxERETM\n",
       "zMwQEBCqqqpUVFQiIiJ2dnYyMjLu7u5mZmaYmJgAAABN0h6tAAAAAXRSTlMAQObYZgAAAq9JREFU\n",
       "SMelVktoU0EUPc2n+aeF7sTSrLq14EYUpZsuuhCzcCUIwR+CglmJiy6K4MKKNiJC4wdfsYh2Yzai\n",
       "CJVXEPGDNJWCpRLNwqU0RVGQBp8zb+7MvJeXN0G80L7DzJx77ty5cycA8p8Rakd3dhk0EYwWX7X5\n",
       "J/vctGi0GBgyE4wWOelGvOUdiy4ulAXKfIt/BHK14BaNBG7v1yZ0liSY38GC/8RRusL/n7fF+H4k\n",
       "/gjU7ziWnPWZmcCTMI3HBbl6jr7vCjz4R9JBdmaWHIyU8ZtCfjiEUMVwArOcjf4SLe47TeAgYuMe\n",
       "RaBFDkYL2BYo6dkQs6/VavUmehP4ZitI/iB84BmdoBjoogiVJL/ivvsdWQ0j8M22kfxJ2CLFWClc\n",
       "8Y1FDjaH2VGnKT03EKroJwhLtanKxkhx4Mn8B/Z54C6s+RzsvUsoZke/q8LMlbWimSBsF0WxDFJc\n",
       "eYEU89Fyi67oD7nvmPI9yf6WRMyeyulB8FWopRS3kDvLEl4HDot8aQc4peCXMbaj6xzt0YK9CG5K\n",
       "6nTERak4UEGeZ+DyoOwq0sFu4JDI4BW4t0owXgbaUCiB2zAtfSv5SNWQZxWWmebHMu514NjSwRkW\n",
       "si3P0ZtVM8HdWp0HwuxCo/FrVZBK7h5bwdI7AdwTkCXmtqrV9GBYrXYSuB0BhuRq6gDxNnIlqlXh\n",
       "YMRGlt/kTX69Vmpu+8of1/fxaadiCIGj6K3F9Up2W0Yk0Axelb33cf3cUhNVFmuksVZA6g5v0RtX\n",
       "ba34+qLtUwwjcJRxHKfiTgILzjWB0huX/B3ATb9yOtWxIZ6pSX+XCyNMBSc1IsWS8q4mrKCiJ6tG\n",
       "ghWc1Ego6uduWb25uk6M72MXgkZq0oPE+wj1pDeVT8/lKwRfchNBo2YXFBHtKfGvv3MS//U75y/W\n",
       "hRKzAkQYUgAAAABJRU5ErkJggg==\n",
       "\" style=\"display:inline;vertical-align:middle;\" /></a></span><br>"
      ],
      "text/plain": [
       "proper_subset_of_superset_spec: |- {1, 3, 5} proper_subset {1, 3, 5, 2, 4, 6}"
      ]
     },
     "execution_count": 51,
     "metadata": {},
     "output_type": "execute_result"
    }
   ],
   "source": [
    "proper_subset_of_superset_spec = proper_subset_of_superset.instantiate(\n",
    "        {m:three, n:two, a:set_135.elements, b:two, c:(four, six)})"
   ]
  },
  {
   "cell_type": "markdown",
   "metadata": {},
   "source": [
    "And finally we use our earlier-derived permutation equivalence to back substitute and get the desired subset relationship:"
   ]
  },
  {
   "cell_type": "code",
   "execution_count": 52,
   "metadata": {},
   "outputs": [
    {
     "data": {
      "text/html": [
       "<span style=\"font-size:20px;\"> <a class=\"ProveItLink\" href=\"../__pv_it/demonstrations/1f2351cf68d6c804c14e64d5a96ec148317341720/proof.ipynb\" style=\"text-decoration: none\">&nbsp;&#x22A2;&nbsp;&nbsp;</a><a class=\"ProveItLink\" href=\"../__pv_it/demonstrations/5d55d02302001a912bbeadd3ac398b8ecb491a1a0/expr.ipynb\"><img src=\"data:image/png;base64,iVBORw0KGgoAAAANSUhEUgAAAOEAAAAVBAMAAABCnpRGAAAAMFBMVEX///+IiIi6urrc3NxERETM\n",
       "zMwQEBCqqqpUVFQiIiJ2dnYyMjLu7u5mZmaYmJgAAABN0h6tAAAAAXRSTlMAQObYZgAAAuNJREFU\n",
       "SMellktoFDEcxr991H10Z1vwJkr31POAFx9Ue/BSUNyDJ6Gw+CiKQvckHipUwUMrdisiuKg4xSK1\n",
       "IO5FlELbKYhUPexWFKW6uoJ4km5pQWgtjpkkk8xkdgbEQJuPJL//l2T+SRZA9gsCS//OFo1hQGhp\n",
       "WzLtKjMTNqg772sKB0JL9DSd8aq7LTY9WWSq/WfbB0Cr+JfoATL1Q3kVJXvD6zmz32mb2EHGfbJV\n",
       "etz+f8Fk7T1I/GFqm2UZTq+neIFFpNdUFLjN60Frk6s3OXvyj5wAmdESD9BVxAZf49R2BDpK4DMw\n",
       "oKKInOFi5rLO1RHEe12OQJMH6M7hN1NJ14JI+V4ul2/BD5wFSrqC4sBzLobFF1ynVQtHiK3xOu5/\n",
       "oOyqA8ybKOUVFIbPMV4IdnxlcMeVXSRSmo3ETQQ4knLfVNCs7jiOfXvPRMfTibekekgjVzwB9t3j\n",
       "Km7G1kRiakXpqACIbqroAhzHwziYo6I6hxSJ0aRJl/cGiJwQsfvI3yxVKVfmqEBqWEUN4Ugmzj5L\n",
       "dRXaeZKONeAY2y/XJg0I+ZWkRPKGrfZIQx9Qh4Im8i5HjaVMxziy9ika6XRuFSfAbuAo28FrwBOy\n",
       "I4x94buGhGOkBgV97VD2B+CnNVVBluRVu70fyV53AMt0HM+RNZrOd3TvqhfAJcR0L3qxXv+1xG6R\n",
       "CrQtBhXoGpv+1DslUo9M/Y7I1XRnUK62GYjoCgrwG0Cji6PDtqAVeK6yAF0mMvb5XbEPVbVCL63s\n",
       "SXken6mODrB3+vEIAyRqu9POWA0/dKowipdF93n8ODjbQJnMMFp/l0Pqrj16+bopHRevmB5HAcxb\n",
       "1gYDJIpJa4x2omeK3IJUpZevem8AmmMi6JCyIFKO93lvuSBgyN8pFXcsiOiiw/A7unY1FDD8nVIx\n",
       "R/ncLYg3T+ZJ6PvYApBKdLoUex8hnvSGiOk6fDn/Sx4GSNVooaLsUkr86++cxH/9zvkLC1sVko01\n",
       "+4EAAAAASUVORK5CYII=\n",
       "\" style=\"display:inline;vertical-align:middle;\" /></a></span>"
      ],
      "text/plain": [
       "|- {1, 3, 5} proper_subset {1, 2, 3, 4, 5, 6}"
      ]
     },
     "execution_count": 52,
     "metadata": {},
     "output_type": "execute_result"
    }
   ],
   "source": [
    "superset_permuted_kt.sub_left_side_into(proper_subset_of_superset_spec)"
   ]
  },
  {
   "cell_type": "markdown",
   "metadata": {},
   "source": [
    "<div style=\"width: 90%; border: 5px solid green; padding: 10px; margin: 0px;\"><a id='demo05'></a><font size=4><b>5.</b> Deducing that $\\{2, 4, 6\\}\\subset\\{1, 2, 3, 4, 5, 6\\}$ and $\\{c, b, a\\}\\subset\\{a, b, c, d, e\\}$.</font></div>"
   ]
  },
  {
   "cell_type": "markdown",
   "metadata": {},
   "source": [
    "The enumerated Set class has machinery to help automate the deduction of proper subset relationships such as $\\{1, 3, 5\\}\\subset\\{1, 2, 3, 4, 5, 6\\}$ derived manually in the previous demonstration. That process of set reduction, permutation, theorem application, and back substitution, has been encapsulated in the `Set.deduce_enum_proper_subset()` method. For example, we can derive that $\\{2, 4, 6\\}\\subset\\{1, 2, 3, 4, 5, 6\\}$ in a single step:"
   ]
  },
  {
   "cell_type": "code",
   "execution_count": 53,
   "metadata": {},
   "outputs": [
    {
     "data": {
      "text/html": [
       "<strong id=\"set_246\">set_246:</strong> <a class=\"ProveItLink\" href=\"../__pv_it/demonstrations/8d5f714115b4d96c0bef629833af0008c8f3f8920/expr.ipynb\"><img src=\"data:image/png;base64,iVBORw0KGgoAAAANSUhEUgAAAEMAAAAVBAMAAADvM06qAAAAMFBMVEX///+IiIi6urrc3NxERETM\n",
       "zMwQEBCqqqpUVFQiIiJ2dnYyMjLu7u5mZmaYmJgAAABN0h6tAAAAAXRSTlMAQObYZgAAAVJJREFU\n",
       "KM9jYGDgu8eAC7BePACieHYx4AZMqSCS7wNQ2V2XALjOC1DGQimg2G0Qi2sCA8MJBq5PMCWcDRD6\n",
       "tALvBgaGlTAldxgY0mBKxKBKfBlYHJCUZDIw9BtAZJhfQ5QwfQZTcCX7DzD0Qx3DxQ1RwpKAqgQI\n",
       "5h+AKHkMVcK/deElILUMxObYADb3F0QFjwBUyfl9DJwFDAzvQeyyAGR/cDHAlHxg4M1hYOAGBkHI\n",
       "ZLDIXah/SmFK+Ccw8IEColOAgUENZAojNLx4FsCUcG5g4PvHAOFxAH3PUMvADPY0e+/d+7kCYCcm\n",
       "gE15D/MR6wIGRmi4MLBBTGH9w8CbAPURSInlqrWdDOc3QJQ4QFhdDMcKkIPu//+fDJxzwFz/Hw/A\n",
       "LK5brWhBBwQ1DJgsiJIEGHcBAyZrJSy9QAOWAYMFSS8MsFTHBxdHsJiSwBQ7gbQLAN8SXD61zy9R\n",
       "AAAAAElFTkSuQmCC\n",
       "\" style=\"display:inline;vertical-align:middle;\" /></a><br>"
      ],
      "text/plain": [
       "set_246: {2, 4, 6}"
      ]
     },
     "execution_count": 53,
     "metadata": {},
     "output_type": "execute_result"
    }
   ],
   "source": [
    "# define the subset {2, 4, 6}\n",
    "set_246 = Set(two, four, six)"
   ]
  },
  {
   "cell_type": "code",
   "execution_count": 54,
   "metadata": {},
   "outputs": [
    {
     "data": {
      "text/html": [
       "<span style=\"font-size:20px;\"> <a class=\"ProveItLink\" href=\"../__pv_it/demonstrations/f53c922fecd76a78a4076d60bc533f5ad6a50dbd0/proof.ipynb\" style=\"text-decoration: none\">&nbsp;&#x22A2;&nbsp;&nbsp;</a><a class=\"ProveItLink\" href=\"../__pv_it/demonstrations/816a9fab5abb23eedf5790c380c7d0b21fa4be040/expr.ipynb\"><img src=\"data:image/png;base64,iVBORw0KGgoAAAANSUhEUgAAAOEAAAAVBAMAAABCnpRGAAAAMFBMVEX///+IiIi6urrc3NxERETM\n",
       "zMwQEBCqqqpUVFQiIiJ2dnYyMjLu7u5mZmaYmJgAAABN0h6tAAAAAXRSTlMAQObYZgAAA0FJREFU\n",
       "SMelVk1oE0EUfknaZJNm24jgQSzNqdcGvPhDtYcqCEpz8FQoBtGqoDQXxUOFKCi0YBsR0fiDW6xS\n",
       "C8UgiFJouwWRqkhSqaWo0YjiRTBFUawtrvPzZmaTbRbEOWRe5v18M2++92YBoP4dVB1dG1ZZdHNw\n",
       "HbWzJp3C425GzXHHkruD6/AeZDteJD8v5nbIjeRRCK25DaBnnUdcLMMvtOOmfKPDSZkbnCfNLrE2\n",
       "tJ7YvWGB08QtBfeiqAmmMNR9qqfaisGXTpj83wyEvnGpFQJ/hM0VnHus3yg9j9LN3xUBdBP8CVSt\n",
       "Q8SaPLRXRQz3DyLiW4BuLjUlYQlNPIdRGD8dQ2kP1LTZEP1p0L5jbr4gYktMHYiMT5lM5pLtjCVE\n",
       "PAIwyKM2R2EZjbc9QiElb5CHl4h1K6D9wBPUodVOsCNuvVWRVYE4ZcKgYJfMquFArEmUI9LrW+Gq\n",
       "jwJxubORXG0Ik30RqiCScVOITw3kVkwgDnx4xYWGB0MvyXSHyhpnYwu3DkcQMbxchMuSmHpSIXIH\n",
       "hegV5NhyA9emQSDuhu2ckblJCJIYJUa6uJ1dIRCIFsA8iTDBM2BjDndQiEGZOs9+TKpEJOnkKcwt\n",
       "gn6UXB8pvb08XzpW4XGBSHlXIvvTLtA/mxQgOijEgtJ1s8VA3Iaoc8o0pKGeVlFfRHSVRixCQyJe\n",
       "I1GLgL6PHW1IInpEx9gI0MGS/0x40QvAag1moZ7wigXX2ui28tSBzOcL749FmM05dka8R3tWmYNC\n",
       "PAU+Xh2WiYgnC4Wfs2zJnwWdM1JLsDOWJPU6AdZiBD+ecZ8J85KroUg1rtYa4OGIB2ysxQ6gs8Mx\n",
       "sxXQE8hVGsB3dXQhHeb162+DHLXSjPAhVY8PKxGbTGAOm0fH+rjDV1qPuSyiM6UvD59jPG4/PEna\n",
       "O4BlWWnI0B2GOn4Vg9epYmwkrhBnzphliAs9E0XmMGVZS8AcvIW5KJdg2Brg0VpHSBfkcV+fregA\n",
       "9BJl0N6KA9G87yrvctUcep1KJSFiQkaXCsOJaMuqq4PhVCqJI6rnblq+eYonru/jKg5KkkqbxN9H\n",
       "kE96Uca0FV/U+ZK7OSipuIrk5U0p8K/fOYH/+s75C+g5ESRNqlk1AAAAAElFTkSuQmCC\n",
       "\" style=\"display:inline;vertical-align:middle;\" /></a></span>"
      ],
      "text/plain": [
       "|- {2, 4, 6} proper_subset {1, 2, 3, 4, 5, 6}"
      ]
     },
     "execution_count": 54,
     "metadata": {},
     "output_type": "execute_result"
    }
   ],
   "source": [
    "# deduce that {2, 4, 6} is a proper subset of {1, 2, 3, 4, 5, 6}\n",
    "set_123456.deduce_enum_proper_subset(subset=set_246)"
   ]
  },
  {
   "cell_type": "markdown",
   "metadata": {},
   "source": [
    "That process works without any special assumptions included in the call of the `deduce_enum_proper_subset()` method because Prove-It recognizes the elements $1, 2, \\ldots, 6$ as distinct literals and thus that (e.g.) $1\\notin\\{2, 4, 6\\}$ (which allows Prove-It to recognize that the set $\\{1, 2, 3, 4, 5, 6\\}$ not only contains the set $\\{2, 4, 6\\}$ but also has elements not in that subset).  \n",
    "If we are dealing with <i>variables</i>, though, the process is not so clear-cut. Consider, for example, the claim that $\\{c, b, a\\}\\subset\\{a, b, c, d, e\\}$. If one interprets the letter elements as literals, then it's clear that $d\\notin\\{c, b, a\\}$ and we can easily understand that $\\{c, b, a\\}$ is a proper subset of $\\{a, b, c, d, e\\}$. But if $a, b, \\ldots, e$ are variables, it's not at all clear that $d\\ne a$ and thus it's not clear that $d\\notin\\{c, b, a\\}$.<br/>\n",
    "Thus, without some additional information or additional assumptions, the `deduce_enum_proper_subset()` method will fail to deduce the desired relationship:"
   ]
  },
  {
   "cell_type": "code",
   "execution_count": 55,
   "metadata": {},
   "outputs": [
    {
     "name": "stdout",
     "output_type": "stream",
     "text": [
      "Proof Failure: Failed to prove that the supposed Self superset {a, b, c, d, e} has any elements not already contained in the supposed proper subset {c, b, a}. Notice that this might be because the sets have unassigned variables\n"
     ]
    }
   ],
   "source": [
    "from proveit import e\n",
    "set_abcde, set_cba = Set(a, b, c, d, e), Set(c, b, a)\n",
    "try:\n",
    "    set_abcde.deduce_enum_proper_subset(subset=set_cba)\n",
    "    assert False, \"Should not make it to this point.\"\n",
    "except ValueError as e:\n",
    "    print(\"Proof Failure: {}\".format(e))"
   ]
  },
  {
   "cell_type": "markdown",
   "metadata": {},
   "source": [
    "If we supply the additional assumptions, however, that $d\\ne a$, $d\\ne b$, and $d\\ne c$, the derivation works fine:"
   ]
  },
  {
   "cell_type": "code",
   "execution_count": 56,
   "metadata": {},
   "outputs": [
    {
     "data": {
      "text/html": [
       "<span style=\"font-size:20px;\"><a class=\"ProveItLink\" href=\"../__pv_it/demonstrations/ad3fd96862840cc1cffb633e7d8e9b8ead1965460/expr.ipynb\"><img src=\"data:image/png;base64,iVBORw0KGgoAAAANSUhEUgAAAC8AAAAUCAMAAAAqRJTwAAAAOVBMVEX///8kJCQNDQ0oKChUVFSY\n",
       "mJiIiIjc3NwyMjIiIiJ2dnbu7u66urqqqqpmZmYQEBBERETMzMwAAAD5MwzKAAAAAXRSTlMAQObY\n",
       "ZgAAAMpJREFUKM+1k90agyAIhtmmgn9o3v/FTuxZm/rk1sE4qEB64YMCWJnzZydbTjwFkRasEqeQ\n",
       "CufpoUy1Ma9atTN+W+QT/4xHdmab288D3hljJBQS1sN3+46aPe5yPaqircBcB+aTri7TF7x1oqi+\n",
       "w43c3G4hqnP5qJ9Eli/jqDN2bnqJ90XIsXzokr5vaVehPrP2JxmMIogdkHDYvm430WwAtFXQCQjj\n",
       "NlgKea4z8KqOFZXpBND0cTintTlbdmS4ZOQvpUf3VzwsfpMn3WAG9dcHpm4AAAAASUVORK5CYII=\n",
       "\" style=\"display:inline;vertical-align:middle;\" /></a>, <a class=\"ProveItLink\" href=\"../__pv_it/demonstrations/d228ba023ec7004cb5a88a07db157421f492aaf10/expr.ipynb\"><img src=\"data:image/png;base64,iVBORw0KGgoAAAANSUhEUgAAAC8AAAAUCAMAAAAqRJTwAAAAOVBMVEX///8kJCQNDQ0oKChUVFSY\n",
       "mJiIiIjc3NwyMjIiIiJ2dnbu7u66urqqqqpmZmYQEBBERETMzMwAAAD5MwzKAAAAAXRSTlMAQObY\n",
       "ZgAAANFJREFUKM+1kt0SAxEMhbW1hMTv+z9sI51tF8PMXjQXBjm+OEGpXXhcZUpOcdq08J1iTq5P\n",
       "1jDpNV0W0POoTrVt3vC8m/Flw4O4x194NnpT5uvn0vG0MVE0lCwnf+U8SLyebTyrYgXkgZWYDl5H\n",
       "2OOD8KphpcycHx9Ed0vhYWVVyjKjEW/ndhCblDNc7tKJdu9H+rg4q1S5dG0emmkNKnRAsMPr0+k0\n",
       "s4fDadUZoPE1NEuzbCI3tlhtOgMwfg6Mxh/LfxyiuhWAt+TB/xWvaJ16AwCTCDkEHObhAAAAAElF\n",
       "TkSuQmCC\n",
       "\" style=\"display:inline;vertical-align:middle;\" /></a>, <a class=\"ProveItLink\" href=\"../__pv_it/demonstrations/6914eafa47d68d5a2d60947acb941c0ce8ecb22c0/expr.ipynb\"><img src=\"data:image/png;base64,iVBORw0KGgoAAAANSUhEUgAAADEAAAAUCAMAAAATIyWrAAAAOVBMVEX///8kJCQNDQ0oKChUVFSY\n",
       "mJiIiIjc3NwyMjIiIiJ2dnbu7u66urqqqqpmZmYQEBBERETMzMwAAAD5MwzKAAAAAXRSTlMAQObY\n",
       "ZgAAAMBJREFUKM+1U9kSwiAMRKWQcoTj/z/WEhkloJnhwTxkODbZ3dAqJYXzv+9KTrgcWhD71bgc\n",
       "6SAVhLoosFmWfK4URawA3KCw6ExZbeQyo9Akkh6Sva4/NhxQPO4tv5kJBbUtfTqujCBTdBQJRep+\n",
       "uvmBNNt2lGnr1Op8nUefLdt2VKHcusc6zLnpv6WXm840ojwNSYOKrClwCobKl7bj1IoZCfPrjCiv\n",
       "jSlWG2YE5k/mK2qIiGozwG8WRPd3CiX+SE/+MQfSJZET/gAAAABJRU5ErkJggg==\n",
       "\" style=\"display:inline;vertical-align:middle;\" /></a> <a class=\"ProveItLink\" href=\"../__pv_it/demonstrations/e48eb2c364672aa6f27d16aa8ee958c2f3e6e2ce0/proof.ipynb\" style=\"text-decoration: none\">&nbsp;&#x22A2;&nbsp;&nbsp;</a><a class=\"ProveItLink\" href=\"../__pv_it/demonstrations/03a8e97503be8aec38e6bfad8c4643c040b15bd40/expr.ipynb\"><img src=\"data:image/png;base64,iVBORw0KGgoAAAANSUhEUgAAAMkAAAAVBAMAAAAeFNdiAAAAMFBMVEX///+IiIi6urrc3NxERETM\n",
       "zMwQEBCqqqpUVFQiIiJ2dnYyMjLu7u5mZmaYmJgAAABN0h6tAAAAAXRSTlMAQObYZgAAAnxJREFU\n",
       "SMeVVT1oFEEUft6d7t5m925PiJWBqwSrbBkRITYBu4BWghD8wUbCgWAV8GInNgYRPLHYIAgnKOkM\n",
       "griCSJpwdyAIEXQLG0GSayRgrnDevN2Z2Znd1Uyx++a99733ZuZ7MwDQ+AZF48rJHGWJf844Oorw\n",
       "574t8Tm1aKhK/XNG5QYvbayGWHiYcfE2zKWMoQRA9S8MldlX/DgZt6lhxt8xY2gqDUCj2VEmfROV\n",
       "sf9PFg1AYzYqz5KxK8YfvV7vcV4WDaAELsnSzy/87POitfTzTvxdQZb1FrFps/WFbNWd0S1mXKLZ\n",
       "Iy3xuVcnkjUIgAhR3ZneT6ixPhMAvEDRRhqd6dQ4m9yDaBAQh4OpsSCUp2w++leuwfskkACkIRiy\n",
       "NiHj6aAaAuyheAcreAo2D2RNoOlz9DJ482LtdWUD0P9TDJ9pJgAiBCIpnXsTtheJhZdwM7yJ7I9B\n",
       "CKSpI9pew9mcTML9v0ewZgISDUOGtOrl1i/83/epvY/NS/bP8oqYZoCL3OTqj9p1cB3c3yaABiLb\n",
       "RPIuueDPZmYqBw0x1glcc1c2urpjzN/9A9bYBNBIkGgj1V7KGeYLvKJmm20r9+3AAytIOeb4GY65\n",
       "+4wDtyEDECESJNbGsvgJxzCL12XnNGBnZse1IaBQ8xtPHNkcb7JMPg8/u6F7AApAhCAkSkc2YDtQ\n",
       "++Xlrg/1Z4wWo9dAwur03HGZZetepGbZal1cbUMvUgAyBEdy1cxubPb+iiFI4+UL5g1jRSXIFa33\n",
       "l9JpaAi5t6Xwd6AEGWaziPfC9XXhH+/LByhGKjH4+wLp29cAXWDN0TavQvFWxlCMlFLlKm3vId99\n",
       "6/Dv/l9Tc9Cn1jWCBwAAAABJRU5ErkJggg==\n",
       "\" style=\"display:inline;vertical-align:middle;\" /></a></span>"
      ],
      "text/plain": [
       "{d != c, d != b, d != a} |- {c, b, a} proper_subset {a, b, c, d, e}"
      ]
     },
     "execution_count": 56,
     "metadata": {},
     "output_type": "execute_result"
    }
   ],
   "source": [
    "set_abcde.deduce_enum_proper_subset(subset=set_cba,\n",
    "        assumptions=[NotEquals(d, a), NotEquals(d, b), NotEquals(d, c)])"
   ]
  },
  {
   "cell_type": "markdown",
   "metadata": {},
   "source": [
    "Alternatively we could have supplied the equivalent assumption that  $d\\notin \\{c, b, a\\}$:"
   ]
  },
  {
   "cell_type": "code",
   "execution_count": 57,
   "metadata": {},
   "outputs": [
    {
     "data": {
      "text/html": [
       "<span style=\"font-size:20px;\"><a class=\"ProveItLink\" href=\"../__pv_it/demonstrations/2227274a0db1807fa707bef49b2faf70cf7c3d060/expr.ipynb\"><img src=\"data:image/png;base64,iVBORw0KGgoAAAANSUhEUgAAAGYAAAAVCAMAAACDt2s/AAAAQlBMVEX///9jY2MJCQkNDQ0rKysP\n",
       "Dw8WFhZUVFSYmJiIiIjc3NwyMjIiIiJ2dnbu7u66urqqqqpmZmYQEBBERETMzMwAAADVO6QiAAAA\n",
       "AXRSTlMAQObYZgAAAapJREFUSMelVuuaxRAMtFcUqQjv/6qLaouWnt31o99JqplJMuEwNly+swUK\n",
       "9tvlUcLDFt1YoAz7y1pdTdeTw44Ib3MJgzhATs9wUDVmsN3rtTHNOJbCGUz74RpgVrMZTE9w9mFj\n",
       "CdLfX1q9BnMhOIOpMvcU5UHLq9mYaWvO1wsa6c/MQUF6DIMZKWWtHsWlxLZuMSJKtyVp3C65SJzO\n",
       "zHnKQ8oOhhfcRceIVJGAEGlBWBoRR0uFRqLgRCs7yhS7ettd/jqND6/I20wwVLRKRGragXmbPobP\n",
       "O6XU50d8qKpburDFS78zQQjV8JaIBzBPPx3lbceULMk2djDMjm6nZq1FXSL6o3cHD1vNuLsOTaJE\n",
       "rGddpkZ0SXYRt95A5hEbbPcmomQrjnQZtuOz4p7qsHXjgGkiFqVRLJzQnJ00teV+BIO5AuiTwEqa\n",
       "EYFwkxy7iVg+hCh7v3B5HmHA31cYTZkxQuTmar3tAZRmy+XwNBHH0yveDGn9dNhYePZMYfqDph7m\n",
       "ysOePTMYoLsM+/sGJHv03Nw355K3l3F/e143ifvbcx3V7N5t//Ff4AcB1xZzo/48SAAAAABJRU5E\n",
       "rkJggg==\n",
       "\" style=\"display:inline;vertical-align:middle;\" /></a> <a class=\"ProveItLink\" href=\"../__pv_it/demonstrations/7f862aed3de2136947c2582e1eaf3848320df7400/proof.ipynb\" style=\"text-decoration: none\">&nbsp;&#x22A2;&nbsp;&nbsp;</a><a class=\"ProveItLink\" href=\"../__pv_it/demonstrations/03a8e97503be8aec38e6bfad8c4643c040b15bd40/expr.ipynb\"><img src=\"data:image/png;base64,iVBORw0KGgoAAAANSUhEUgAAAMkAAAAVBAMAAAAeFNdiAAAAMFBMVEX///+IiIi6urrc3NxERETM\n",
       "zMwQEBCqqqpUVFQiIiJ2dnYyMjLu7u5mZmaYmJgAAABN0h6tAAAAAXRSTlMAQObYZgAAAnxJREFU\n",
       "SMeVVT1oFEEUft6d7t5m925PiJWBqwSrbBkRITYBu4BWghD8wUbCgWAV8GInNgYRPLHYIAgnKOkM\n",
       "griCSJpwdyAIEXQLG0GSayRgrnDevN2Z2Znd1Uyx++a99733ZuZ7MwDQ+AZF48rJHGWJf844Oorw\n",
       "574t8Tm1aKhK/XNG5QYvbayGWHiYcfE2zKWMoQRA9S8MldlX/DgZt6lhxt8xY2gqDUCj2VEmfROV\n",
       "sf9PFg1AYzYqz5KxK8YfvV7vcV4WDaAELsnSzy/87POitfTzTvxdQZb1FrFps/WFbNWd0S1mXKLZ\n",
       "Iy3xuVcnkjUIgAhR3ZneT6ixPhMAvEDRRhqd6dQ4m9yDaBAQh4OpsSCUp2w++leuwfskkACkIRiy\n",
       "NiHj6aAaAuyheAcreAo2D2RNoOlz9DJ482LtdWUD0P9TDJ9pJgAiBCIpnXsTtheJhZdwM7yJ7I9B\n",
       "CKSpI9pew9mcTML9v0ewZgISDUOGtOrl1i/83/epvY/NS/bP8oqYZoCL3OTqj9p1cB3c3yaABiLb\n",
       "RPIuueDPZmYqBw0x1glcc1c2urpjzN/9A9bYBNBIkGgj1V7KGeYLvKJmm20r9+3AAytIOeb4GY65\n",
       "+4wDtyEDECESJNbGsvgJxzCL12XnNGBnZse1IaBQ8xtPHNkcb7JMPg8/u6F7AApAhCAkSkc2YDtQ\n",
       "++Xlrg/1Z4wWo9dAwur03HGZZetepGbZal1cbUMvUgAyBEdy1cxubPb+iiFI4+UL5g1jRSXIFa33\n",
       "l9JpaAi5t6Xwd6AEGWaziPfC9XXhH+/LByhGKjH4+wLp29cAXWDN0TavQvFWxlCMlFLlKm3vId99\n",
       "6/Dv/l9Tc9Cn1jWCBwAAAABJRU5ErkJggg==\n",
       "\" style=\"display:inline;vertical-align:middle;\" /></a></span>"
      ],
      "text/plain": [
       "{d not-in {c, b, a}} |- {c, b, a} proper_subset {a, b, c, d, e}"
      ]
     },
     "execution_count": 57,
     "metadata": {},
     "output_type": "execute_result"
    }
   ],
   "source": [
    "set_abcde.deduce_enum_proper_subset(subset=set_cba,\n",
    "        assumptions=[NotInSet(d, Set(c, b, a))])"
   ]
  },
  {
   "cell_type": "markdown",
   "metadata": {},
   "source": [
    "<div style=\"width: 90%; border: 5px solid green; padding: 10px; margin: 0px;\"><a id='demo06'></a><font size=4><b>6.</b> Deducing that $\\{1, a, 1\\}\\subset\\{1, a, 1, b, 2, a\\}$ when $a=1$.</font></div>"
   ]
  },
  {
   "cell_type": "markdown",
   "metadata": {},
   "source": [
    "Variables and multiplicities can combine to produce some tricky cases when trying to establish subset relationships between enumerated Sets. Notice that when considering the possibility that $\\{1, a, 1\\}\\subset\\{1, a, 1, b, 2, a\\}$, if it turns out that $a=b=2$, then the proper subset relation does not hold. Prove-It will not deduce the proper subset relationship without more information. Using the enumerated <span style=\"font-family:courier;\">Set.deduce_enum_proper_subset()</span> method, we get an error:"
   ]
  },
  {
   "cell_type": "code",
   "execution_count": 58,
   "metadata": {},
   "outputs": [
    {
     "name": "stdout",
     "output_type": "stream",
     "text": [
      "set_1a1 =\n"
     ]
    },
    {
     "data": {
      "text/html": [
       "<a class=\"ProveItLink\" href=\"../__pv_it/demonstrations/77116f93cb4114e82e9c70581ce38139e50325220/expr.ipynb\"><img src=\"data:image/png;base64,iVBORw0KGgoAAAANSUhEUgAAAEQAAAAVBAMAAAAN71XTAAAAMFBMVEX///+IiIi6urrc3NxERETM\n",
       "zMwQEBCqqqpUVFQiIiJ2dnYyMjLu7u5mZmaYmJgAAABN0h6tAAAAAXRSTlMAQObYZgAAAOpJREFU\n",
       "KM9jYGDgu8eAE8TKgEieXQx4gFoAkOD7gE8J7wYgwTUBxCw7gCHLngOTBRE8Xf0YSk6s+IOshIHh\n",
       "PaYpfBQosV0rdgBZSQKQ4NiArIQpmWE/silg/5YFICs59oDhCrIShr0MDCGTGZCV3D/AMBFFCcdE\n",
       "aPjBlaQw8HxFUbIDpMwBSQnPLwb2DxhuQfERz3eg84vRfQRRIn+Agec3kHZkeNmwAMxiYEQNlxv5\n",
       "ex8wzASadEIwuFEBzOJt+30PJejA8XYAkwVRkgDnMmBhTUBJLwcZMFng9MIAT3UPGDBZagpgiwmk\n",
       "XQBZ91ubwcC5vQAAAABJRU5ErkJggg==\n",
       "\" style=\"display:inline;vertical-align:middle;\" /></a>"
      ],
      "text/plain": [
       "{1, a, 1}"
      ]
     },
     "metadata": {},
     "output_type": "display_data"
    },
    {
     "name": "stdout",
     "output_type": "stream",
     "text": [
      "set_1a1 =\n"
     ]
    },
    {
     "data": {
      "text/html": [
       "<a class=\"ProveItLink\" href=\"../__pv_it/demonstrations/a530f993ccda283bd182b5f07ac970c97e4c3fa80/expr.ipynb\"><img src=\"data:image/png;base64,iVBORw0KGgoAAAANSUhEUgAAAH8AAAAVBAMAAACd/CwcAAAAMFBMVEX///+IiIi6urrc3NxERETM\n",
       "zMwQEBCqqqpUVFQiIiJ2dnYyMjLu7u5mZmaYmJgAAABN0h6tAAAAAXRSTlMAQObYZgAAAaRJREFU\n",
       "OMullL1LAzEYxp+eSL/Soy4Ogujk3NVBUHAVCvoHiF8gCAqCk2K7CHWwipMg2KmoUHAWSyOIdJFW\n",
       "cBBqa1en1ooUrViTu8Tm7qSFmiF57s2TX95cPgDoJXRXeu8pb8glui3aIq/1aiffzbIQpDgZtvQU\n",
       "eOXb5/UGdYxzr0iVFm0WvprFciYBZDfuAGRPv6Ssi/YJWPobAFScGegSoEnBlhIPdQEwHaxkKOLh\n",
       "ToCxVD+1AfzRwTU55ISqtiSXngsVoM0jY88gd0Xe5Go+LbaK8f/DKuC2jAc7YJviVUhvxGLz54GZ\n",
       "Q6iAZ4oDO6AAIiZGEVZbLAiMWDJYAHm3A9LQxEa68rDY/Dwhz7gCYFO5q3bANwJCbqEnpNoqjl0g\n",
       "dfZT122AGl+ycXsScIVUW7IFGKIgDdZO4CWSMBRcDJDjW7SHKbNz9DwVM0OGTT0Hj6vpMo5YFtm+\n",
       "6eiwoQI7jRK8x6zzboAlwEOZZvPDDJk29SAZt4c61WabkATMyk8fnCrRJiQArffgGg5Fgm1C4j3A\n",
       "74tUhkPp7ULQ5szV/etN/AGTuKTS3QUgKgAAAABJRU5ErkJggg==\n",
       "\" style=\"display:inline;vertical-align:middle;\" /></a>"
      ],
      "text/plain": [
       "{1, a, 1, b, 2, a}"
      ]
     },
     "metadata": {},
     "output_type": "display_data"
    },
    {
     "name": "stdout",
     "output_type": "stream",
     "text": [
      "Proof Failure (ValueError): Failed to prove that the supposed Self superset {1, a, 1, b, 2, a} has any elements not already contained in the supposed proper subset {1, a}. Notice that this might be because the sets have unassigned variables\n"
     ]
    }
   ],
   "source": [
    "set_1a1 = Set(one, a, one)\n",
    "set_1a1b2a = Set(one, a, one, b, two, a)\n",
    "print(\"set_1a1 =\")\n",
    "display(set_1a1)\n",
    "print(\"set_1a1 =\")\n",
    "display(set_1a1b2a)\n",
    "try:\n",
    "    set_1a1b2a.deduce_enum_proper_subset(subset=set_1a1)\n",
    "    assert False, \"Should not get to this point.\"\n",
    "except ValueError as e:\n",
    "    print(\"Proof Failure (ValueError): {}\".format(e))"
   ]
  },
  {
   "cell_type": "markdown",
   "metadata": {},
   "source": [
    "If we provide a little more information, however, specifying how to interpret the variable 'a', Prove-It is able to proceed (in part because now it can be proven that 2 is in the superset but not in the subset):"
   ]
  },
  {
   "cell_type": "code",
   "execution_count": 59,
   "metadata": {},
   "outputs": [
    {
     "data": {
      "text/html": [
       "<span style=\"font-size:20px;\"><a class=\"ProveItLink\" href=\"../__pv_it/demonstrations/dd0e192ceefced5753afe44ed2f23959a67f81500/expr.ipynb\"><img src=\"data:image/png;base64,iVBORw0KGgoAAAANSUhEUgAAADAAAAAPBAMAAABQAFHMAAAAMFBMVEX///9UVFSqqqrMzMwiIiJE\n",
       "RESYmJgyMjK6urru7u4QEBCIiIh2dnZmZmbc3NwAAABRgo0vAAAAAXRSTlMAQObYZgAAAGtJREFU\n",
       "GNNjYCAJMK3ELj7x4E8cOtjwSvDdub0Sq0TXA/YPIM7xchCohUtwLmPgDcCmg/cnA8sGbBJcAQzz\n",
       "DbBJzD/AoM+AsKMQIaHAIM70AIsO1g1sjjzoRnGDXCW9+eEONHFeqe/XcIYjANzPJYStbWOTAAAA\n",
       "AElFTkSuQmCC\n",
       "\" style=\"display:inline;vertical-align:middle;\" /></a> <a class=\"ProveItLink\" href=\"../__pv_it/demonstrations/6633c2d6f1b087a7249d8cb3d48ddea0d4e60df60/proof.ipynb\" style=\"text-decoration: none\">&nbsp;&#x22A2;&nbsp;&nbsp;</a><a class=\"ProveItLink\" href=\"../__pv_it/demonstrations/9bc545dfd2cb960142869b81c4248221b8b7935e0/expr.ipynb\"><img src=\"data:image/png;base64,iVBORw0KGgoAAAANSUhEUgAAAOEAAAAVBAMAAABCnpRGAAAAMFBMVEX///+IiIi6urrc3NxERETM\n",
       "zMwQEBCqqqpUVFQiIiJ2dnYyMjLu7u5mZmaYmJgAAABN0h6tAAAAAXRSTlMAQObYZgAAApdJREFU\n",
       "SMellk1oE0EUx1821iS7kyUKehDFnnLysEc9CBG89FBYqFehqBWEogGhp5YmIGItGMWLAcEtSKhC\n",
       "oUcphmxBpCCSFgTF2pqrB0msSNEW685+zLyZ2aQa5zA7++a9/29m980HAJib0LVcPB5n/dqCvsrA\n",
       "mksfZKmXU95WbW8c6LNoY7Q2O718souqrb2f8KtrYYNsnBdHvE4r/b5XpcbVON/m90rlGa0mXLWD\n",
       "2erhcwX0LTWUaq7M7yrhga0LkdytKERk2w6fnwCuxhPBVImBjRHNoWq1avOwdswcI5sWqXlft2L1\n",
       "SUwuWWJYLyIbZsOFir0f8ezCURcTR4OXjAVdiMmPa+MS0SifKEbOT1ysW6PN9CImapehgecYZfJ7\n",
       "NNBZgZi3jI5EbL4k3yO9X4Kun+YTNia+bsE7TIzSDiVQagyrk+uQLUjEaRe+haZMSdA1VgEuPARM\n",
       "/OzCA4GY9l+TJb5xDFlYPbsLmZxEXAcSTg02JN2ZXLirMOIVID8E4otgJgV544jUDxagaUvEOmjh\n",
       "+kisiroGHXm6gIje2FKduP+Il+Ut4Z85MC3n6m86c79MQdLCum0lV8m2l0k3Y3J1DrrkarMIsylL\n",
       "JG7R3+b/AQcSFtatMWLCU2/SpD0HX0oO2YHQxpaWUZSIJ13w3Q7kzEd6EMts92A4aJx5vjCDdNF6\n",
       "zN7e2YTMY7q3HRopD0LVDW2MSO6cEogfbtRbvhspHzl9OIhltrfHvCnSRmNv7yfWRTuAXyb5AmAb\n",
       "CusdeCrucqIbj2U23jkp7zmj0Ss/9nRQiKjUVDceq6udjkRk5yPJsY7lvzsfuRuPXVYaSDc4HyG6\n",
       "A5i8g98q8oMq0XAUN1MNbal9oF0KPvg/33Om/uee8wdL2wcF+DWp2AAAAABJRU5ErkJggg==\n",
       "\" style=\"display:inline;vertical-align:middle;\" /></a></span>"
      ],
      "text/plain": [
       "{a = 1} |- {1, a, 1} proper_subset {1, a, 1, b, 2, a}"
      ]
     },
     "execution_count": 59,
     "metadata": {},
     "output_type": "execute_result"
    }
   ],
   "source": [
    "set_1a1b2a.deduce_enum_proper_subset(subset=set_1a1, assumptions=[Equals(a, one)])"
   ]
  },
  {
   "cell_type": "markdown",
   "metadata": {},
   "source": [
    "## Miscellaneous Testing\n",
    "The material below was developed to test various enumerated Set and Set-related methods. Some of this material could be integrated into the `_demonstrations_` page eventually and/or deleted as development continues."
   ]
  },
  {
   "cell_type": "markdown",
   "metadata": {},
   "source": [
    "### Some Example `Sets` For Testing"
   ]
  },
  {
   "cell_type": "code",
   "execution_count": 60,
   "metadata": {},
   "outputs": [
    {
     "data": {
      "text/html": [
       "<strong id=\"set_12345\">set_12345:</strong> <a class=\"ProveItLink\" href=\"../__pv_it/demonstrations/535c420503243acd0e572c93c2c2955d6b47f29e0/expr.ipynb\"><img src=\"data:image/png;base64,iVBORw0KGgoAAAANSUhEUgAAAGsAAAAVBAMAAACzuQ2OAAAAMFBMVEX///+IiIi6urrc3NxERETM\n",
       "zMwQEBCqqqpUVFQiIiJ2dnYyMjLu7u5mZmaYmJgAAABN0h6tAAAAAXRSTlMAQObYZgAAAa9JREFU\n",
       "OMudlL9Lw0AUx79p1dg2Cf0P7OQccFLwx+Ao2MG1IKKiINhJHBR0EVyq4KKgmEFEBaGjdNB0Uxcr\n",
       "6KQpujiqKAhWMd7l3uUHlEq94d0nL3xy7+4lAWBU0cxovbb5pJXQ3IhN8Gi8hnOaM5gVFD/ay8ts\n",
       "juZTO8dydxyT6yyoM3TjHMk3Qb1Qf6S2SfOsW2PxUGrnB9904x6YFNSRxycllSmC0rIZ1mBIbRpY\n",
       "Mz3qzOCLkn0nBEterKOd2VijzQVFWn9qbOzaBBeWmA1TaoXHWxb3ObYXo1qsRtCzQ34ZUhtCfwZ4\n",
       "4TiXjWqJJUnKGNXoa0ALqy1VAUY2ENWcoNxJbzk1G9L0dxZW0+zEoqspFYIuYNjr9yWkxvbDu5ri\n",
       "9bQPRLRFxEUDXJu0ecf5uPZSbUXo37S36Em2WlCENh46U2q3znZepJP0NIVpV/xIu4+OVwU98755\n",
       "xB+h8dbHK3gyQ33TV76qSGzzdrvup6CYc5MRhD23gC2+cu/BfaTd3lhAA1JtPye0UXlpoQElEdX8\n",
       "701LowGVA+1OfA10Zfj5evQQvH3i5VH/8S/5BR+sidboQXJrAAAAAElFTkSuQmCC\n",
       "\" style=\"display:inline;vertical-align:middle;\" /></a><br>\n",
       "<strong id=\"set_abcde\">set_abcde:</strong> <a class=\"ProveItLink\" href=\"../__pv_it/demonstrations/2ff84d739fbbd9cb18b2fbdbc8f56f914d89279c0/expr.ipynb\"><img src=\"data:image/png;base64,iVBORw0KGgoAAAANSUhEUgAAAGkAAAAVBAMAAAC3TN2zAAAAMFBMVEX///+IiIi6urrc3NxERETM\n",
       "zMwQEBCqqqpUVFQiIiJ2dnYyMjLu7u5mZmaYmJgAAABN0h6tAAAAAXRSTlMAQObYZgAAAY1JREFU\n",
       "OMuVVDFPwkAYfdIKBY5STBhJmEic6KgbEzODP8CYGBdDmJxMxNG4mLgY4wCLCQ6G0ZiY8AdIYTLB\n",
       "RPkBBtwcZPDu+1q4Jq2GG+7efe973/Xe3RWA/Y412uZ4oAbxjLVa4lD19pceE/WriPr1kTZ7U10m\n",
       "nJYdRdTPt7RJL0IVSghadfCPKpQQSvxL1Yty4CVaZUzGxxx7Krz6bLfQoNGYFL99q7olF7hX0OrL\n",
       "ruJm2UrxM/BcQrsts0+g4poLVm27RgeYK3giK4omcjUiUgvkHUK3sMgYxbFcHGHYYJf3ruU8t0Ca\n",
       "c2WC1wGHuCmOIrCahU81XsjUipQna/AawXFVaYlkzVcprsyH0uYUNViSluXP/OOa4oO85xUR4jg0\n",
       "Dzz0WrhMkQn5styHLwctuuLUhzq+h0plOvZNBp7ctDU1RwRybbl1BVbcRh9DVzsvcV7c2UL6TqLx\n",
       "IwjgYeZwZMmhNJtG3I3TeKAhVu0v5514oKFe+H0JJxZoiN8Xlm/ZjgcaShzwJVr/v/ELQQhyN2KQ\n",
       "K64AAAAASUVORK5CYII=\n",
       "\" style=\"display:inline;vertical-align:middle;\" /></a><br>\n",
       "<strong id=\"set_1a2b3c\">set_1a2b3c:</strong> <a class=\"ProveItLink\" href=\"../__pv_it/demonstrations/4cc009f622e020f2a4c9c99a1daf0d09764b08cb0/expr.ipynb\"><img src=\"data:image/png;base64,iVBORw0KGgoAAAANSUhEUgAAAH0AAAAVBAMAAACZCfwhAAAAMFBMVEX///+IiIi6urrc3NxERETM\n",
       "zMwQEBCqqqpUVFQiIiJ2dnYyMjLu7u5mZmaYmJgAAABN0h6tAAAAAXRSTlMAQObYZgAAAdxJREFU\n",
       "OMtjYGDgu8dAFmC9eABE8exiIBMwpYJIvg/YZXnuugRAWEcyoULMq5YUICu5DSK4JoDIsgPo+k8w\n",
       "cH2CMvdCaVsG9n/ISlbC9PN09WPov8PAkAZlfofS8gUMP7HqZ2B4j6Ef6Oh+A4g//0CF1BQYfhOt\n",
       "f/8Bhn5IAEBUgAEO9yPpt10rBjdqPoTF3SgLC7aTC6AMLkFRBoZlIBbHBmT9TMkM++Hx8wtCn9/D\n",
       "8xnCspoLVcY8ncEbqAkc8gHI+o89YLgC08/ZAKHrDzB8hAoxJkGlFjC0Ax12gYEhZDIDsv77Bxgm\n",
       "wvTfhUczzy+YWNoBmDIQ6BQABiqK/SkMPF9hdl2ARz8TJAaNGRj8C6DKwAEDciCHA5J+oEXssPRY\n",
       "y8AMib9/DLyQGPx/AKof6p73GOHP8x0YnsWQ7LGAgRGi/xMoVKC2QqMEGI3s0PCH6Jc/wMADShuO\n",
       "DC8bFoBZlqvWdjKcB0VOH4MvRPIdKP7BQjcYeK4ix/+N/L0PGGYCzT4hGNyoAGbt////JwPnHKDk\n",
       "WSmg9SAhprtXFCBCXOseoqYfcOI6gMmqwSME1Z8A43IxYLIW4BGC6Efk/4MMGCweATxCkPzPAC9/\n",
       "HjBgsPjwCTFBEiM7JeUfAMKSofO0V7FjAAAAAElFTkSuQmCC\n",
       "\" style=\"display:inline;vertical-align:middle;\" /></a><br>\n",
       "<strong id=\"power_set_of_ab\">power_set_of_ab:</strong> <a class=\"ProveItLink\" href=\"../__pv_it/demonstrations/bf4eddde9ceb3a1a44ab611c6be10a6baf08086b0/expr.ipynb\"><img src=\"data:image/png;base64,iVBORw0KGgoAAAANSUhEUgAAAL0AAAAVBAMAAADhtvKAAAAAMFBMVEX///+IiIi6urrc3NxERETM\n",
       "zMwQEBCqqqpUVFQiIiJ2dnYyMjLu7u5mZmaYmJgAAABN0h6tAAAAAXRSTlMAQObYZgAAAjpJREFU\n",
       "OMudlTFIXEEQhgejvvPeevcMmMriKluvtAlcmkA6QVshJNqFIAipPFRIE2wiNgoprhKuSLCUgPhs\n",
       "JJDieSAICvraFOI1IqhFdmbfezuzrlfcFu92v39m2Nud2QGAyiXocZ0OdWKww1AASbUZ/cxPeKAd\n",
       "JGee6jd+/7YABhathaE4OCUzGpMzHmgHycaz0sXvDX4u2Pa7xZRRNFNvv+vJ6J6AbGNMJs8yrqFd\n",
       "fMwwFBxK8/BE6sJAyO2+4leXesZncn/xp+Ke8ZncX/w29IzvBmXTXSf+65+vYkHJbH/sTOvvJXxx\n",
       "3vlkVkwmzxJd9YaTCEgHPsKhkx7aTD3ESZ3nF/lO1kNDuEyeXzBVg8Xi6s1AepzCqaRoFjxCNQI4\n",
       "EFB9htGGWTEZPee2sNTe1Un8FmU+RK9i2BSUzHRqJ7qgSpsCPsKIsRIyerJSC9dEAS6AupUUzfSm\n",
       "pnQK7gs43IBkJk//QibPEv2vr+75N0DdQ9B1zl+bVVP8Y/z8NdRbXs3Sn8k3PfNH3elbXn6SP9Wa\n",
       "Pmw3f5Il2AjojLm868t/9ZDTN/BvrSUozkvp4EnulexlcDCqbJdpyWV/fe3kBfhnbHa9JijOVedX\n",
       "4TXyI4fr49Mvacllf/wg9tVvEItSzfQVWb8rUjbx7VEZw7Kl4FB7F1n8lry2lif+k/f/yPv+H8mn\n",
       "3jzwKhJQRVI2ntSpQuxfH2idWkrpzWlY9K8a7ULCii2fmvUMqNM2nf4b+Ptv09d/m8/33/+ipevT\n",
       "8xNZuwAAAABJRU5ErkJggg==\n",
       "\" style=\"display:inline;vertical-align:middle;\" /></a><br>\n",
       "<strong id=\"empty_set\">empty_set:</strong> <a class=\"ProveItLink\" href=\"../__pv_it/demonstrations/1c8a91f6b28e26b4928f9c8373fe2c97979a06430/expr.ipynb\"><img src=\"data:image/png;base64,iVBORw0KGgoAAAANSUhEUgAAABMAAAAVBAMAAABWJ8jiAAAAMFBMVEX///+IiIi6urrc3NxERETM\n",
       "zMwQEBCqqqpUVFQiIiJ2dnYyMjLu7u5mZmaYmJgAAABN0h6tAAAAAXRSTlMAQObYZgAAAF5JREFU\n",
       "CNdjYGDgu8fAevEAAxDw7AISTKkgJt8HEHkbRHBNAJErSWAuAxEcG0DkexBRFgAiuS8wMIRMZgCD\n",
       "TgEGBjWIaANIrQNcLZIJhG1LgDOR3MsA9kUSmMkO9RsA2nceY29T18EAAAAASUVORK5CYII=\n",
       "\" style=\"display:inline;vertical-align:middle;\" /></a><br>"
      ],
      "text/plain": [
       "set_12345: {1, 2, 3, 4, 5}\n",
       "set_abcde: {a, b, c, d, e}\n",
       "set_1a2b3c: {1, a, 2, b, 3, c}\n",
       "power_set_of_ab: {{}, {a}, {b}, {a, b}}\n",
       "empty_set: {}"
      ]
     },
     "execution_count": 60,
     "metadata": {},
     "output_type": "execute_result"
    }
   ],
   "source": [
    "# some standard enumerated sets\n",
    "from proveit import e\n",
    "set_12345, set_abcde, set_1a2b3c, power_set_of_ab, empty_set = (\n",
    "    Set(one, two, three, four, five),\n",
    "    Set(a, b, c, d, e),\n",
    "    Set(one, a, two, b, three, c),\n",
    "    Set(Set(), Set(a), Set(b), Set(a,b)),\n",
    "    Set())"
   ]
  },
  {
   "cell_type": "code",
   "execution_count": 61,
   "metadata": {},
   "outputs": [
    {
     "data": {
      "text/html": [
       "<strong id=\"set_12131\">set_12131:</strong> <a class=\"ProveItLink\" href=\"../__pv_it/demonstrations/dbb9f9f617a7628c67aa9331ae866f21b5391c170/expr.ipynb\"><img src=\"data:image/png;base64,iVBORw0KGgoAAAANSUhEUgAAAGsAAAAVBAMAAACzuQ2OAAAAMFBMVEX///+IiIi6urrc3NxERETM\n",
       "zMwQEBCqqqpUVFQiIiJ2dnYyMjLu7u5mZmaYmJgAAABN0h6tAAAAAXRSTlMAQObYZgAAAW1JREFU\n",
       "OMtjYGDgu8dACmC9eABE8exiIA0wpYJIvg/IYjx3XQLQ1Vmtckfh3wYRXBOABHsOVOgEA9cnKBMm\n",
       "xnyBof4BVKwM5MCVMG0nVvyBit9hYEiDGgATY/zOwD8B4pSufhRtDHwwbZkMDP0GECZMjCmJgX8D\n",
       "VPo9Dm37DzD0B6BqAwK4I3FpA4L5B9C18cxiQNa2DMTi2ICqjekXA5o25pV3ULS9BwdOAKo2zgYG\n",
       "DEeKKSBr477AwBAyGU3JXQZMbWw5yNoYOgUYGNRQbWO8gK6N2YCB5TuKbSD3cDigaKsFKUPRxv8H\n",
       "Tdt7zJBkXcDAiKaNzYGB8w9GSIK1MQLFz4OC1HLV2k4ICy7G9wAYbzy/wdrkUeKNt+33PQbOOaDo\n",
       "/v//J4SFENO968TAMBOk4Ub+3gfI0Q0GNQx4WOwH4GIQbQkw7gIGPCwuBlRt8PzGI8CAh3UQLb8x\n",
       "wHI3H1wcG+sBIvUlQVxNRlkCABmCiRBKMfwWAAAAAElFTkSuQmCC\n",
       "\" style=\"display:inline;vertical-align:middle;\" /></a><br>\n",
       "<strong id=\"set_1a1b2a\">set_1a1b2a:</strong> <a class=\"ProveItLink\" href=\"../__pv_it/demonstrations/a530f993ccda283bd182b5f07ac970c97e4c3fa80/expr.ipynb\"><img src=\"data:image/png;base64,iVBORw0KGgoAAAANSUhEUgAAAH8AAAAVBAMAAACd/CwcAAAAMFBMVEX///+IiIi6urrc3NxERETM\n",
       "zMwQEBCqqqpUVFQiIiJ2dnYyMjLu7u5mZmaYmJgAAABN0h6tAAAAAXRSTlMAQObYZgAAAaRJREFU\n",
       "OMullL1LAzEYxp+eSL/Soy4Ogujk3NVBUHAVCvoHiF8gCAqCk2K7CHWwipMg2KmoUHAWSyOIdJFW\n",
       "cBBqa1en1ooUrViTu8Tm7qSFmiF57s2TX95cPgDoJXRXeu8pb8glui3aIq/1aiffzbIQpDgZtvQU\n",
       "eOXb5/UGdYxzr0iVFm0WvprFciYBZDfuAGRPv6Ssi/YJWPobAFScGegSoEnBlhIPdQEwHaxkKOLh\n",
       "ToCxVD+1AfzRwTU55ISqtiSXngsVoM0jY88gd0Xe5Go+LbaK8f/DKuC2jAc7YJviVUhvxGLz54GZ\n",
       "Q6iAZ4oDO6AAIiZGEVZbLAiMWDJYAHm3A9LQxEa68rDY/Dwhz7gCYFO5q3bANwJCbqEnpNoqjl0g\n",
       "dfZT122AGl+ycXsScIVUW7IFGKIgDdZO4CWSMBRcDJDjW7SHKbNz9DwVM0OGTT0Hj6vpMo5YFtm+\n",
       "6eiwoQI7jRK8x6zzboAlwEOZZvPDDJk29SAZt4c61WabkATMyk8fnCrRJiQArffgGg5Fgm1C4j3A\n",
       "74tUhkPp7ULQ5szV/etN/AGTuKTS3QUgKgAAAABJRU5ErkJggg==\n",
       "\" style=\"display:inline;vertical-align:middle;\" /></a><br>"
      ],
      "text/plain": [
       "set_12131: {1, 2, 1, 3, 1}\n",
       "set_1a1b2a: {1, a, 1, b, 2, a}"
      ]
     },
     "execution_count": 61,
     "metadata": {},
     "output_type": "execute_result"
    }
   ],
   "source": [
    "# some non-standard enumerated sets pretending to be multi-sets (but not!)\n",
    "set_12131, set_1a1b2a = (\n",
    "    Set(one, two, one, three, one),\n",
    "    Set(one, a, one, b, two, a))"
   ]
  },
  {
   "cell_type": "markdown",
   "metadata": {},
   "source": [
    "### Testing the `permutation_move()` method\n",
    "\n",
    "The <span style=\"font-family=courier\">permutation_move()</span> method has the following format:<br/>\n",
    "    <div style=\"width: 50%; border: 1px solid green; padding: 5px; margin: 20px; background-color: gainsboro; font-family:courier\">permutation_move(self, init_idx=None, final_idx=None, assumptions=USE_DEFAULTS):</div>\n",
    "    and moves the element at index <font style=\"font-family:courier\">init_idx</font> to position <font style=\"font-family:courier\">final_idx</font> (a “pluck and insert” process)."
   ]
  },
  {
   "cell_type": "code",
   "execution_count": 62,
   "metadata": {},
   "outputs": [
    {
     "data": {
      "text/html": [
       "<span style=\"font-size:20px;\"> <a class=\"ProveItLink\" href=\"../__pv_it/demonstrations/e21ad40f0f44937b1de85a94cb2ca8a651a13e960/proof.ipynb\" style=\"text-decoration: none\">&nbsp;&#x22A2;&nbsp;&nbsp;</a><a class=\"ProveItLink\" href=\"../__pv_it/demonstrations/f615fc995eed54502c05a52771ce550a4bc0f9680/expr.ipynb\"><img src=\"data:image/png;base64,iVBORw0KGgoAAAANSUhEUgAAAPQAAAAVBAMAAACDGd7qAAAAMFBMVEX///+IiIi6urrc3NxERETM\n",
       "zMwQEBCqqqpUVFQiIiJ2dnYyMjLu7u5mZmaYmJgAAABN0h6tAAAAAXRSTlMAQObYZgAAAxFJREFU\n",
       "SMetlk9IFFEcx7+7q7u6O7sKgafCPXkLFjoVbEkEEQTuoasgZlJU6CXpUFSXwMI/0aW/tAcJNaI5\n",
       "hmGON+uiQlGUoxtBl8LEIPMPTe/N7/2Z0ZmphR7svO8+5vv7vN+b934zAHKLqKbVzlsBo1UGad/N\n",
       "r8YEqmvxUzvHqg7SUuLzXfHFsI+USCXGR3pVpnPUv7Ta2djHgKRXvFbdDowf1ZlSl/lW+w7Imkym\n",
       "h/lAn1jFGaRXSRWR+i1d9Vep73E22HVsJ5oH0Vakzonpz+FKRd5zh7qk45QFlV+MG0MCvQB0k2ru\n",
       "xbp0NQn0xLVCOFpbZ0a3SMTW0DAsbomdFlmP7oIHDXwX6DPAUIGeRh6bwpX4KtDUhaC1FTmBjnei\n",
       "wRS3HHxOfZ0ybENPWRiST0wteDrzL2iPVaJZUwte/huatUdSvioL8VmiBz+9ZdfHwWiPVaONe3Ij\n",
       "FiR6eQ+bYLqDS9OPjm/I3flQjBmNEn0ch/LsXvrz5AVvkxTP9FkVOjG2INQ0BLrGSqyKc9VX8qPl\n",
       "bmYbo1OkhIwaq2HpZeZ2ZE1BlNWz4E15sd4Szdox9mNTPnEbfrStA3bT4AUPOvuDXfobt5FFEGX1\n",
       "oJN0zlIlD3qJ7ca6W6KuaHRMprQPaHNrilGWaLas/OjqifiLk7IqdKKAmjVXvYZE3wSe5elfXasP\n",
       "fZnfz5tjCXRqwF467+aZNJHd2vasKaAbRFkVumFLoi/a9s95V51lWVv0rP07vLaMGPm7PHs9SXlm\n",
       "2eM0Q3e4tip0shX1au1FSWFLc1/scEI3WzB4Bdk//rQfs3y/LvNzPWvKEFyxuvilEHqutRUxxuMq\n",
       "V2Hn2hCVqYsIReROes/1+57JCu6yJKccZx31D/hJsd/kSSHd9qviquLoQkRJUdbs9c1FUnvtw3Dj\n",
       "AiPOoKsSHwYsX0lxH6ra5ZcQpcZCS0qwQcfVitAd6q9ylSNVELojwqDjpv1z1e/raVX9GqNU2Ps6\n",
       "1KDiepT7vob6wFBv1hyiVLwz4KtjIsJQCVAtbpFL/Y9vs1T132Z/AKm7G/MCT1daAAAAAElFTkSu\n",
       "QmCC\n",
       "\" style=\"display:inline;vertical-align:middle;\" /></a></span>"
      ],
      "text/plain": [
       "|- {1, 2, 3, 4, 5} = {2, 1, 3, 4, 5}"
      ]
     },
     "execution_count": 62,
     "metadata": {},
     "output_type": "execute_result"
    }
   ],
   "source": [
    "# permuting an element in a Set of literals\n",
    "set_12345.permutation_move(0, 1)"
   ]
  },
  {
   "cell_type": "code",
   "execution_count": 63,
   "metadata": {},
   "outputs": [
    {
     "data": {
      "text/html": [
       "<span style=\"font-size:20px;\"> <a class=\"ProveItLink\" href=\"../__pv_it/demonstrations/8085fea0d73c5484d3470adfcc954545048f7deb0/proof.ipynb\" style=\"text-decoration: none\">&nbsp;&#x22A2;&nbsp;&nbsp;</a><a class=\"ProveItLink\" href=\"../__pv_it/demonstrations/7bb19fc7bdb7425623835e524d22811e7b42964f0/expr.ipynb\"><img src=\"data:image/png;base64,iVBORw0KGgoAAAANSUhEUgAAAO8AAAAVBAMAAABcV6T1AAAAMFBMVEX///+IiIi6urrc3NxERETM\n",
       "zMwQEBCqqqpUVFQiIiJ2dnYyMjLu7u5mZmaYmJgAAABN0h6tAAAAAXRSTlMAQObYZgAAAoFJREFU\n",
       "SMetVs9rE0EUfibRTZNJshHqQQjkVPDUPepBqJdCD0JA/wBRiwhSAoKnShPwIgVRvFTxsL0UtqDk\n",
       "KGpxBRFBwiYgCBV0r4LWqkjBFnF+7CabeW8CG5zLfjP7vu+9efPm7QJA+ROkGIf7PrH6LUwvwZ5B\n",
       "qpFZxGvv3AkkyrvJtddXqRDne4nZR2zw3bg5xWTzd0eWpURhdG2L4leaiYmH33vGzUXMYg/ba473\n",
       "KPqsP6njiDkSOek4c0DRPZjUsUdETjrW9k/lP5XjLdJg6Pj042MqpmK7FmdlvdqQz+z2dJR/tl5z\n",
       "ADZox9nt/jUj82n1A5LId3iCL8FL9SJ4wX4pdKqZ60gw4+Si/J9wsm5cwoXncqiiWZVmxV0Tk+37\n",
       "gaNL3ODRvQnhvSKt+PBDoYeQl3tnS1BSOuwKdBuoQvmwFpXZnIlpHUDF1iTO3+fzzz7ci28Y+yNB\n",
       "Ka4yDqZUf8gvVb+K521bu6wLjjKzTUzuP3B1iRkewWVgv+NiyKhjORKFL0BQV3eipcqgRXUiYdYw\n",
       "MfkOZ5u6RH5ObNKKzudvHHAQd0EOVqJm4CbaVHTGSuhW0oxihiKpmgSvarbHS+y6XPopzjuyBRlk\n",
       "0IRVS1aGyJttquqhGcGs1Pl56xLiOp2BLy2X7fPZHTgLEpRavAwCXhs5u7xWAIEOdaDrmO7x0Ixg\n",
       "5sNcD0kIx2+r59p1eMCz0T3O4xUANndsmHrEC7E9ffKoRFDbCY0NJGGGmaz/BJDEsFdZvg5gGTAa\n",
       "27mWxzA1icKFQbtEAFwCEY43sJk7bskb/R6/QoDZGI39Hg/MCCaSGPyBhAiUAaPMRey46OpmBBNJ\n",
       "WP/hn+tm6n+uf8IH+bdLww4JAAAAAElFTkSuQmCC\n",
       "\" style=\"display:inline;vertical-align:middle;\" /></a></span>"
      ],
      "text/plain": [
       "|- {a, b, c, d, e} = {a, c, d, b, e}"
      ]
     },
     "execution_count": 63,
     "metadata": {},
     "output_type": "execute_result"
    }
   ],
   "source": [
    "# permuting an element in a Set of variables\n",
    "set_abcde.permutation_move(1, 3)"
   ]
  },
  {
   "cell_type": "code",
   "execution_count": 64,
   "metadata": {},
   "outputs": [
    {
     "data": {
      "text/html": [
       "<span style=\"font-size:20px;\"> <a class=\"ProveItLink\" href=\"../__pv_it/demonstrations/73aa072f3dc168090587609fd5dd2ca6752c976f0/proof.ipynb\" style=\"text-decoration: none\">&nbsp;&#x22A2;&nbsp;&nbsp;</a><a class=\"ProveItLink\" href=\"../__pv_it/demonstrations/09ce700f9f7f33e3282c4ceaeec0d0538fde36600/expr.ipynb\"><img src=\"data:image/png;base64,iVBORw0KGgoAAAANSUhEUgAAARcAAAAVBAMAAACeQrdYAAAAMFBMVEX///+IiIi6urrc3NxERETM\n",
       "zMwQEBCqqqpUVFQiIiJ2dnYyMjLu7u5mZmaYmJgAAABN0h6tAAAAAXRSTlMAQObYZgAAAxFJREFU\n",
       "SMetVl9IU1Ec/raZd97dba6wh0Dck68KvVQgLKggIhLqqSexFIKoQeBT4oQoTMhFD1kU7SGkBM3H\n",
       "qMQbRBghm2AklbYeeyjLCNEN1z3/7r3z3LMN7byc43e/8/md3/n9fjsAIsvY1tg1b3qgP/I7ETNe\n",
       "YJvD3yNj7zM7Eov88v5qLB3pZKs3FzgUGH+cdFM+y7tWyiSOpSXC3MLRCmI62aBdlHbNQl/ly2k+\n",
       "d0DbdFOeymYo1CfuL5STjpjCs7hajJiZfVKUZL8AvXy5xueWJNarmzFujggz0eTW72ET9V1qMRqZ\n",
       "iGzGupuRdnad4mNrHIVaIrMizLRJKV6fRvCPWkxlZsbECEsa3bn52q7JNiMTQkUE/6rFtpjpmNhr\n",
       "H+cRW4UGm0W434li0WNNwFg1M89jH3m2fpq3s7KhqBYLTrnN+M9hxq62DTZnXxkssjj0kP+bwF2c\n",
       "EKWjv6SD5eqw24xRMLPsplvbQ3bRtmXUYn2dbjNv81iwj5Bi84CJ3xzydfNPGdzwKhatx21GKyLa\n",
       "SF1dQjghOKNQip25A7eZryZuC/KS3QGMDYH1moJGxlDjlj56vN1tJjyFLA1DuIgGQQ07J5DFWssi\n",
       "cx6GyC9fzm4zflbc+4FTSU6jyZTy7qPCjHXYNsqvTyDLOyia+ewpFky4zFgh0MTl9iPALnyTnIyM\n",
       "ksn380iV5Qwzds1tJprnp7biMyAuMkdsqMTKqslYsxL6Cgt5Bj5mZpVkEj8CLzCrKLXq1RSNW8lC\n",
       "zSQxrDGxs8AetRg147PMZElZHcb3VMYg3ejg+MQQw27hJCj0k7QGCi3C+KDuMy0m4wfzdTnKr2uM\n",
       "jOp0Fbg/vphWixEz4euFZTQ8IL9IsdODcdyzLM+USusMm9tnBYZA/qWFOIP0yW/qprd4eTpP+cb8\n",
       "JCjfGGw6sJuuQqVSKa0Wc/rrVadCTQnzgJSRUfGri+ld4k/nKaJDwjwgLzNjlfjVxez3jOE0jdeQ\n",
       "MA+o4nvGg1+LmHjpRRxJ++kYqQT5u2UzoYyaX4uY9l/fwP07eAP/A5zmP3YAPkOFAAAAAElFTkSu\n",
       "QmCC\n",
       "\" style=\"display:inline;vertical-align:middle;\" /></a></span>"
      ],
      "text/plain": [
       "|- {1, a, 2, b, 3, c} = {1, b, a, 2, 3, c}"
      ]
     },
     "execution_count": 64,
     "metadata": {},
     "output_type": "execute_result"
    }
   ],
   "source": [
    "# permuting an element in a heterogeneous Set\n",
    "set_1a2b3c.permutation_move(3, 1)"
   ]
  },
  {
   "cell_type": "code",
   "execution_count": 65,
   "metadata": {},
   "outputs": [
    {
     "data": {
      "text/html": [
       "<span style=\"font-size:20px;\"> <a class=\"ProveItLink\" href=\"../__pv_it/demonstrations/d064fadfb671c6486231c7c69f0992999da048270/proof.ipynb\" style=\"text-decoration: none\">&nbsp;&#x22A2;&nbsp;&nbsp;</a><a class=\"ProveItLink\" href=\"../__pv_it/demonstrations/b74a9161fa04b5cc2a7eee721bfdd1240aedfc7a0/expr.ipynb\"><img src=\"data:image/png;base64,iVBORw0KGgoAAAANSUhEUgAAAZcAAAAVBAMAAAB4R75ZAAAAMFBMVEX///+IiIi6urrc3NxERETM\n",
       "zMwQEBCqqqpUVFQiIiJ2dnYyMjLu7u5mZmaYmJgAAABN0h6tAAAAAXRSTlMAQObYZgAAA3BJREFU\n",
       "WMOtWE1oE0EUfsTqpsk2SQU9iEJOvTZHL0K8CB6Egl4F8ecgiBQETy1NwIsUpMWLQg85FXJQcizV\n",
       "4hZEBJFNQRAs1L16kEZFAjaI87szb2fe2lbn8Nj9vu+9eS87Oy+zAFDZAWGObkVghkDZ8KNXT1sg\n",
       "fE0AD0FjDdJqB28Y/4zpcGgBKDRc16Zwy4gEIIYfnZox6LuOk7KgbQ3SGgdvGP+MQCYkAIlWBtrA\n",
       "tlXxIL3MoOGFJXY10TPorj2VRdsapDUO2TCvb9N50PR2akpL2kDXqCQAPrTcx7wtQLStQdqubxqJ\n",
       "btB50LQJeuBiqrO5xRj6MMUM84sZ/u9ipqPcYgx9iGIKo9xiCPofiulCbjHZoAcqJi8PmvYWs5pR\n",
       "nXt2MnLRtcmP7OoazuLIp6078s7QtsYpRjpkw5TbZ2apPEhaAsIUe9rY2xIHCjfglYuGe1HcQLvM\n",
       "It9jG2WJWLTSlF6I0U+1lkM2TPwy/EHlQdH2Fnl/Rhu5EcnBgTcJfHDRYATVmtpXxAjYDh/ehYmm\n",
       "vLPoDefBcC1ywGFgIYJvVB4UrQBurjwGZdh4WFMiAXyOYNlFWWuIWXsrLuuOfLHBwBGM13TnSOlU\n",
       "A7YWOeAwrFmEv8g8CFoD3FjNutxCLfwmhD9dlP0C02zhrqGOfKwJ8YxuMym95u/etgMOwx5UYUjl\n",
       "QdEKEKbY1AYtxib/EYKBg0I14T+VvdgfAH8YC6rNGBq/My2ttR0yYeA3f2REHgSN3hlyNwuH7P26\n",
       "52we1Tpb79ltKJ6FxaAhijF03m6mHLK72Xf+ghB5EDTazbJ9JtzT6Hn40uo4aDEZ6ysHCXLBWK3y\n",
       "pARxD9F5fUY6KEnc09QjuKRFEkzzEHNZtEkot2k+1S387eTldt1Bw63nqYMAuSBsnzh7HMZXEJ1X\n",
       "jHRQEu4nqfenEi2SoMmDz2XRJqHcYoLI9w8gg8qrIMIdeQ7R+/8HMIfRrgFNjCAiE7KKMctbqkqA\n",
       "17sXlVEEaK3hzl+LWcUOStLBaNeA1ox0QqYY5zyz6T3PZFB5ENnE55mwhuh9n2ek3y6eUYJmxk06\n",
       "IXOegXVtCtfFfWJQINGpugHL+oFUANFSg4fQljs4TAWHkTOqYOmMCZmQABQa7EiDD9eB9xtA4P0G\n",
       "MH+AbwBCO5/khPHPSHwDCOxvAH8Aa1Di6t2UIlwAAAAASUVORK5CYII=\n",
       "\" style=\"display:inline;vertical-align:middle;\" /></a></span>"
      ],
      "text/plain": [
       "|- {{}, {a}, {b}, {a, b}} = {{a}, {b}, {a, b}, {}}"
      ]
     },
     "execution_count": 65,
     "metadata": {},
     "output_type": "execute_result"
    }
   ],
   "source": [
    "# permuting an element in a Set of Sets\n",
    "power_set_of_ab.permutation_move(0, 3)"
   ]
  },
  {
   "cell_type": "code",
   "execution_count": 66,
   "metadata": {},
   "outputs": [
    {
     "name": "stdout",
     "output_type": "stream",
     "text": [
      "Index Error: 'init_idx' = 6 is out of range. Should have 0 ≤ init_idx ≤ 5.\n"
     ]
    }
   ],
   "source": [
    "# permuting an element FROM a non-existent location\n",
    "# in the Set should not work\n",
    "try:\n",
    "    set_1a2b3c.permutation_move(6, 3)\n",
    "except IndexError as e:\n",
    "    print(\"Index Error: {}\".format(e))"
   ]
  },
  {
   "cell_type": "code",
   "execution_count": 67,
   "metadata": {},
   "outputs": [
    {
     "name": "stdout",
     "output_type": "stream",
     "text": [
      "Index Error: 'final_idx' = 6 is out of range. Should have 0 ≤ final_idx ≤ 5.\n"
     ]
    }
   ],
   "source": [
    "# permuting an element TO a non-existent location\n",
    "# in the Set should not work\n",
    "try:\n",
    "    set_1a2b3c.permutation_move(4, 6)\n",
    "except IndexError as e:\n",
    "    print(\"Index Error: {}\".format(e))"
   ]
  },
  {
   "cell_type": "markdown",
   "metadata": {},
   "source": [
    "### Testing the `permutation_swap()` method\n",
    "\n",
    "The <span style=\"font-family=courier\">permutation_swap()</span> method has the following format:<br/>\n",
    "    <div style=\"width: 50%; border: 1px solid green; padding: 5px; margin: 20px; background-color: gainsboro; font-family:courier\">permutation_swap(self, idx01=None, idx02=None, assumptions=USE_DEFAULTS):</div>\n",
    "    and attempts to deduce that the Set expression is equal to a Set in which the elements at index locations <font style=\"font-family:courier\">idx01</font> and <font style=\"font-family:courier\">idx02</font> have swapped locations."
   ]
  },
  {
   "cell_type": "code",
   "execution_count": 68,
   "metadata": {},
   "outputs": [
    {
     "data": {
      "text/html": [
       "<span style=\"font-size:20px;\"> <a class=\"ProveItLink\" href=\"../__pv_it/demonstrations/572ef49e21e2e7c4f68509fa50e878b96952e2710/proof.ipynb\" style=\"text-decoration: none\">&nbsp;&#x22A2;&nbsp;&nbsp;</a><a class=\"ProveItLink\" href=\"../__pv_it/demonstrations/902bf206f97ca1920272370363dca8b5da2a080e0/expr.ipynb\"><img src=\"data:image/png;base64,iVBORw0KGgoAAAANSUhEUgAAARcAAAAVBAMAAACeQrdYAAAAMFBMVEX///+IiIi6urrc3NxERETM\n",
       "zMwQEBCqqqpUVFQiIiJ2dnYyMjLu7u5mZmaYmJgAAABN0h6tAAAAAXRSTlMAQObYZgAAAttJREFU\n",
       "SMetlsFrE0EUxl822m2204092IMgzak3IeBJoVBFEBGxoH+ARFsQCgaEniymIEoVTMSDKIp7kGID\n",
       "lZ7Vki2IVEQaoULBpq5HDxqtSGgbGnd2ZnZmd3aS2DiH7Ow3M7/5ZmbfywCAuQ67Kns/2hHqd6cT\n",
       "GHoJuyzaqKy9tzqCmT+jW1HlxAipvblMpXjxWVbs8lkeVQ28HS2eVMLCxYMZBfdHH5cal8DYoNUF\n",
       "+hwCfUfsMisjPWmCnl+8DNcdFSxyJDaz9LwuNa4BjNFqjT4HsrDZ2gy6nadmYjVIFlQwpRkwZTPu\n",
       "dubT5DhZ42AKttvZmSo1o2UgOa+C/ZOZkg15cs5GwRfbO6YqDzN6TJGw1maG5vp91FNS65k6yL7b\n",
       "dyxYjL79ADMtzaBHoITxmTise140o12Ekh9tW+S5/Br9ptHxhH2aD+A0Cx3jlVfK3sudgJn47JoS\n",
       "xmcSYBMjopm3Dqyw8Ykc3WobflEplqFNFtxyV1kOb4w+Gjqm/pQKxmfisPP3QTTzxYZ7DFTxMwDa\n",
       "YtqYzbrhMr0vlEdPpUNmusZVMD6TABsM7MwlQH/YLpT9zKCReDwMcDZLu3nnn4vOo8xMPA17aioY\n",
       "n0mAdQ8LZlzXOsvIkxiGyw70kuaGTc3QxQW+GWLshmgmWffNSDA+kwgLRBOquR/0VbLlFsTI+A18\n",
       "vnQJNCbcCNdbR1PXMCTqCpgwkwDzzMTcMcs4rI7Bt5yFcGo7UpybJtpdOAOe9APnGU9aBfRJnWcG\n",
       "bNLfdNw8o4LxmQQYNtN7c3sdEo/xn0jfuakUPHSXVmo0Non24YC7FixplZUUkYwXX9VJb/XKguP1\n",
       "h0OV46CC8ZkEGE+J13iE2pIWISl3Jti/KYzXiJkL7JVfRQyQtAgpysyM3L8pzAjC/PsM4kljESQt\n",
       "Qmp6n1lsCybUCIzd9EyO9K+OZjNJy8hmeqxw/6YwXqMw/b/egSc7uAP/BbxoR5veKyP3AAAAAElF\n",
       "TkSuQmCC\n",
       "\" style=\"display:inline;vertical-align:middle;\" /></a></span>"
      ],
      "text/plain": [
       "|- {1, a, 2, b, 3, c} = {1, 3, 2, b, a, c}"
      ]
     },
     "execution_count": 68,
     "metadata": {},
     "output_type": "execute_result"
    }
   ],
   "source": [
    "# basic swap permutation\n",
    "set_1a2b3c.permutation_swap(1, 4)"
   ]
  },
  {
   "cell_type": "code",
   "execution_count": 69,
   "metadata": {},
   "outputs": [
    {
     "data": {
      "text/html": [
       "<span style=\"font-size:20px;\"> <a class=\"ProveItLink\" href=\"../__pv_it/demonstrations/572ef49e21e2e7c4f68509fa50e878b96952e2710/proof.ipynb\" style=\"text-decoration: none\">&nbsp;&#x22A2;&nbsp;&nbsp;</a><a class=\"ProveItLink\" href=\"../__pv_it/demonstrations/902bf206f97ca1920272370363dca8b5da2a080e0/expr.ipynb\"><img src=\"data:image/png;base64,iVBORw0KGgoAAAANSUhEUgAAARcAAAAVBAMAAACeQrdYAAAAMFBMVEX///+IiIi6urrc3NxERETM\n",
       "zMwQEBCqqqpUVFQiIiJ2dnYyMjLu7u5mZmaYmJgAAABN0h6tAAAAAXRSTlMAQObYZgAAAttJREFU\n",
       "SMetlsFrE0EUxl822m2204092IMgzak3IeBJoVBFEBGxoH+ARFsQCgaEniymIEoVTMSDKIp7kGID\n",
       "lZ7Vki2IVEQaoULBpq5HDxqtSGgbGnd2ZnZmd3aS2DiH7Ow3M7/5ZmbfywCAuQ67Kns/2hHqd6cT\n",
       "GHoJuyzaqKy9tzqCmT+jW1HlxAipvblMpXjxWVbs8lkeVQ28HS2eVMLCxYMZBfdHH5cal8DYoNUF\n",
       "+hwCfUfsMisjPWmCnl+8DNcdFSxyJDaz9LwuNa4BjNFqjT4HsrDZ2gy6nadmYjVIFlQwpRkwZTPu\n",
       "dubT5DhZ42AKttvZmSo1o2UgOa+C/ZOZkg15cs5GwRfbO6YqDzN6TJGw1maG5vp91FNS65k6yL7b\n",
       "dyxYjL79ADMtzaBHoITxmTise140o12Ekh9tW+S5/Br9ptHxhH2aD+A0Cx3jlVfK3sudgJn47JoS\n",
       "xmcSYBMjopm3Dqyw8Ykc3WobflEplqFNFtxyV1kOb4w+Gjqm/pQKxmfisPP3QTTzxYZ7DFTxMwDa\n",
       "YtqYzbrhMr0vlEdPpUNmusZVMD6TABsM7MwlQH/YLpT9zKCReDwMcDZLu3nnn4vOo8xMPA17aioY\n",
       "n0mAdQ8LZlzXOsvIkxiGyw70kuaGTc3QxQW+GWLshmgmWffNSDA+kwgLRBOquR/0VbLlFsTI+A18\n",
       "vnQJNCbcCNdbR1PXMCTqCpgwkwDzzMTcMcs4rI7Bt5yFcGo7UpybJtpdOAOe9APnGU9aBfRJnWcG\n",
       "bNLfdNw8o4LxmQQYNtN7c3sdEo/xn0jfuakUPHSXVmo0Non24YC7FixplZUUkYwXX9VJb/XKguP1\n",
       "h0OV46CC8ZkEGE+J13iE2pIWISl3Jti/KYzXiJkL7JVfRQyQtAgpysyM3L8pzAjC/PsM4kljESQt\n",
       "Qmp6n1lsCybUCIzd9EyO9K+OZjNJy8hmeqxw/6YwXqMw/b/egSc7uAP/BbxoR5veKyP3AAAAAElF\n",
       "TkSuQmCC\n",
       "\" style=\"display:inline;vertical-align:middle;\" /></a></span>"
      ],
      "text/plain": [
       "|- {1, a, 2, b, 3, c} = {1, 3, 2, b, a, c}"
      ]
     },
     "execution_count": 69,
     "metadata": {},
     "output_type": "execute_result"
    }
   ],
   "source": [
    "# basic swap with irrelevant assumptions\n",
    "set_1a2b3c.permutation_swap(1, 4, assumptions=[Equals(a, one)])"
   ]
  },
  {
   "cell_type": "code",
   "execution_count": 70,
   "metadata": {},
   "outputs": [
    {
     "data": {
      "text/html": [
       "<span style=\"font-size:20px;\"> <a class=\"ProveItLink\" href=\"../__pv_it/demonstrations/8798eb8ca2d012c9bdf77d0085e7dff6a1112e5d0/proof.ipynb\" style=\"text-decoration: none\">&nbsp;&#x22A2;&nbsp;&nbsp;</a><a class=\"ProveItLink\" href=\"../__pv_it/demonstrations/51314e1a913b2e9411c5bd361bc10fafe288a3c30/expr.ipynb\"><img src=\"data:image/png;base64,iVBORw0KGgoAAAANSUhEUgAAAKUAAAAVBAMAAADVzzOcAAAAMFBMVEX///+IiIi6urrc3NxERETM\n",
       "zMwQEBCqqqpUVFQiIiJ2dnYyMjLu7u5mZmaYmJgAAABN0h6tAAAAAXRSTlMAQObYZgAAAbRJREFU\n",
       "OMuVlT9LA0EQxd8lxvwxXqysreyEtFoFEWxT+AEkoCBYWymmElIlYCeCqcREhJSiiCntjLUm5BsY\n",
       "bIIaiHt7dzuzudtc3GKZvX2/l7nZuQ0AuwfTSLy1Q55GA9kHmEdsL/hsBsAeaEB3q+hGG81tMb+H\n",
       "pDngMhoMyNTElDz0Nl6Q+ZJBvIPTPtAIejqAkhHKASm5GXmKD2BfBtYQuZrRU8kI5YDM0/Y9D4Bq\n",
       "XhamhFzL6KlkhHJA93xuo+pXasq7M5lCob8738CV1z/ZCzFdh3syGaEEpFq6Z+zHq3lDFA2f7uL2\n",
       "0RlPUICSEcqAo6LumS770fIKsNAJ5CkBkjHUB3bOJza6Kpp3uqSyNGHpAiRjqAJW9TwtL7F4HnND\n",
       "8bPlQJ4SsDqTnhxIFTTPE2dTjNxISrR63rv1LDAZoRzQzz1RhyXF8wWkR8ZzVzJCOSA9LbF6dc5z\n",
       "vXlXkZHdn9afSkYoBxzJ4tlvD+lLp+fH4283WutuwtzzSkYoA7wWFuMYwahh7PlpQGbXX9YRjMI8\n",
       "owF1f2ZVJ1Jkuj+jAP/atomiD7UUcpfPACT/+38UBfwBbDvAcuiEHRgAAAAASUVORK5CYII=\n",
       "\" style=\"display:inline;vertical-align:middle;\" /></a></span>"
      ],
      "text/plain": [
       "|- {1, 2, 3} = {2, 1, 3}"
      ]
     },
     "execution_count": 70,
     "metadata": {},
     "output_type": "execute_result"
    }
   ],
   "source": [
    "# if idx01 > idx02\n",
    "set_123.permutation_swap(1, 0)"
   ]
  },
  {
   "cell_type": "code",
   "execution_count": 71,
   "metadata": {},
   "outputs": [
    {
     "data": {
      "text/html": [
       "<span style=\"font-size:20px;\"> <a class=\"ProveItLink\" href=\"../__pv_it/demonstrations/b9402c96e3319299f6a8a8c2bb04c8d692d6b21f0/proof.ipynb\" style=\"text-decoration: none\">&nbsp;&#x22A2;&nbsp;&nbsp;</a><a class=\"ProveItLink\" href=\"../__pv_it/demonstrations/5e4e5a62a298159fda4b06577d887c070dfd8e6c0/expr.ipynb\"><img src=\"data:image/png;base64,iVBORw0KGgoAAAANSUhEUgAAAKUAAAAVBAMAAADVzzOcAAAAMFBMVEX///+IiIi6urrc3NxERETM\n",
       "zMwQEBCqqqpUVFQiIiJ2dnYyMjLu7u5mZmaYmJgAAABN0h6tAAAAAXRSTlMAQObYZgAAAX5JREFU\n",
       "OMtjYGDgu8eAC7BePIBFlLAGnl0MuAFTKqYYERr4PqBouOsSAGFZrXIHkrexOJOwBq4JQII9B6rk\n",
       "BAPXJzCD+QJD/QMGhpWYZhKhAaTkxIo/UCV3GBjSwAzG7wz8E3CaSUAD2Fo+mJJMBoZ+A3DAJDHw\n",
       "b8DtTvwaUJXsP8DQDw0fvH7HrwFVCRDMh6YfnllAYhkhM7Fq4NiAqoTpF4RmXgkMKob3EM7q3SCw\n",
       "l4FIDWUBqEo4G2AsMQUGBu4LGO4krCFkMgOqkrtwFhsovXQKoBlJjAY1VGsZoQ5jNmBg+Q60tgHD\n",
       "nURo4HBAUVILkgQC/j9gJSjhuQMSnoQ1oEYj6wIGRrASNgcGzj9ExDtWDWAljEDeeVB8Wq5a2wlm\n",
       "8T3Amz7xawAp4W37fY+Bcw4oCf///xPC0r3rxIDTTAIawNaCQQ0DJguXO/Fr4EqAcRcwYLKwmUlY\n",
       "A7w45IGnRAQLb/mJRwOs2OZD6ELkuyQsZTkRGthJrY8IaQAAQS/AclBf+rUAAAAASUVORK5CYII=\n",
       "\" style=\"display:inline;vertical-align:middle;\" /></a></span>"
      ],
      "text/plain": [
       "|- {1, 2, 3} = {1, 2, 3}"
      ]
     },
     "execution_count": 71,
     "metadata": {},
     "output_type": "execute_result"
    }
   ],
   "source": [
    "# empty swap: idx01 = idx02\n",
    "set_123.permutation_swap(2, 2)"
   ]
  },
  {
   "cell_type": "code",
   "execution_count": 72,
   "metadata": {},
   "outputs": [
    {
     "name": "stdout",
     "output_type": "stream",
     "text": [
      "Index Error: Index or indices out of bounds: {6}. Subset indices should be elements of {0, 1, 2, 3, 4}.\n"
     ]
    }
   ],
   "source": [
    "# if indices not valid:\n",
    "try:\n",
    "    set_12345.permutation_swap(2, 6)\n",
    "    assert False, \"Should not make it to this point.\"\n",
    "except IndexError as e:\n",
    "    print(\"Index Error: {}\".format(e))"
   ]
  },
  {
   "cell_type": "markdown",
   "metadata": {},
   "source": [
    "### Testing the `permutation()` method\n",
    "\n",
    "The <span style=\"font-family:courier\">permutation()</span> method has the following format:<br/>\n",
    "    <div style=\"width: 50%; border: 1px solid green; padding: 5px; margin: 20px; background-color: gainsboro; font-family:courier\">permutation(self, new_order=None, cycles=None, assumptions=USE_DEFAULTS)</div>\n",
    "where <font style=\"font-family:courier\">new_order</font> is a list of the indices in the desired order, and <font style=\"font-family:courier\">cycles</font> is a list of tuples designating index-based cycles, either of which derive an equivalence to a permuted version of the Set. A new_order designation must include all indices; a cycles designation need only specify the indices involved in a cycle."
   ]
  },
  {
   "cell_type": "code",
   "execution_count": 73,
   "metadata": {},
   "outputs": [
    {
     "data": {
      "text/html": [
       "<span style=\"font-size:20px;\"> <a class=\"ProveItLink\" href=\"../__pv_it/demonstrations/28d08da88d0f43cb56a3387f9e9ee352e3d8c2370/proof.ipynb\" style=\"text-decoration: none\">&nbsp;&#x22A2;&nbsp;&nbsp;</a><a class=\"ProveItLink\" href=\"../__pv_it/demonstrations/e6d4015e012fc1926ed5d92905fd4add71f9059d0/expr.ipynb\"><img src=\"data:image/png;base64,iVBORw0KGgoAAAANSUhEUgAAAPQAAAAVBAMAAACDGd7qAAAAMFBMVEX///+IiIi6urrc3NxERETM\n",
       "zMwQEBCqqqpUVFQiIiJ2dnYyMjLu7u5mZmaYmJgAAABN0h6tAAAAAXRSTlMAQObYZgAAAqVJREFU\n",
       "SMetlk1oE0EYht8kNpvfkpMnoTnlHPCkUO3Bo9AcvAZCqUVBaS8WDwp6ESrYKF4sKO6hSFsRcpRI\n",
       "bXpTL01BQbBbI4IXQYuCWFuMM/PNzO50Z5cGnMPsu8M83zvf/O0CGN7GIGVos2NpHTBI/RivC20M\n",
       "VpLnw20DB6nU+Hh3jBjemRqp1MrijM60S8+XnTpr+2BJeicKrSOI6lJssSp3l8tZOYuvkPtBahTO\n",
       "X9Uxe4Oe0/0/rF4OW/MgdvQBgigvziXlyqvC7aa03gKmSI3MYFfxR6V1+2Y12tqKJi4giPLklvaD\n",
       "1sB3aX0RaFKfShl7Ekt9ldb0iLC2oqeeI4iKxYmwXuugWVMzo2Ytlz+MtRV1D2/NymMlX7tSfFbW\n",
       "85/esfqJ3dqGDleVNaG+dYNVmZZpnVTb4eQj2VYoKeuzOF1mfenl6QteVoWmIGF0HcqaUG0tztVs\n",
       "zbTO6qlJTMiUkNdtR1h6+W4oawoSRl1tTai2BhvyufswrT0/4BQ1XglYF3+yaq50wFkGCaFOLWAt\n",
       "UG2duSfvFd86oVI6DoyLS6DgKms2rfzo+gMxL6cw+gbKWqK+NW/PjBnW15GiE9LvSN654328LPJM\n",
       "t1DcP7DWFFoECaNXPe/XJgKoudbmDh9ykSB+MrBh05RnkS1nK3KH21F5pUjU3OFkPdJBgV8DJ1ae\n",
       "zWGDd/rGD+cGdU+PCZXq4ks18lzb0UmKK1ChkDDP9fvp1R4W2EjX+v1dZB/yk+K9LZNCbvx3T6jR\n",
       "pa2YK8WGLvbnRVxCuSre2ts2rhSxqHqXX0OcWo68UuyAH9dXZN3Qr5pyY5XNuhED+HFz5lj97/W6\n",
       "/miX4lTU9zoS0HEDSnyvoX8wejoQ4lRywvLX0Y4BehZVEbeq8z/+zZzB/83+AdnvH/6NezPzAAAA\n",
       "AElFTkSuQmCC\n",
       "\" style=\"display:inline;vertical-align:middle;\" /></a></span>"
      ],
      "text/plain": [
       "|- {1, 2, 3, 4, 5} = {2, 3, 4, 5, 1}"
      ]
     },
     "execution_count": 73,
     "metadata": {},
     "output_type": "execute_result"
    }
   ],
   "source": [
    "# permuting an element in a Set of literals\n",
    "set_12345.permutation(new_order=[1, 2, 3, 4, 0])"
   ]
  },
  {
   "cell_type": "code",
   "execution_count": 74,
   "metadata": {},
   "outputs": [
    {
     "data": {
      "text/html": [
       "<span style=\"font-size:20px;\"> <a class=\"ProveItLink\" href=\"../__pv_it/demonstrations/f53236ae2ccac0c8401843b8644336b72c1a821f0/proof.ipynb\" style=\"text-decoration: none\">&nbsp;&#x22A2;&nbsp;&nbsp;</a><a class=\"ProveItLink\" href=\"../__pv_it/demonstrations/70d3f7376d94aab921346ab08829d494e60d3a860/expr.ipynb\"><img src=\"data:image/png;base64,iVBORw0KGgoAAAANSUhEUgAAAO8AAAAVBAMAAABcV6T1AAAAMFBMVEX///+IiIi6urrc3NxERETM\n",
       "zMwQEBCqqqpUVFQiIiJ2dnYyMjLu7u5mZmaYmJgAAABN0h6tAAAAAXRSTlMAQObYZgAAAphJREFU\n",
       "SMetlk1oE0EUx59JdJPNJN0I8SAEeip4co96KLQXQURasHdFW8SDJSB4UpqAIFIoSg+txcPmUlCo\n",
       "5OwHriAiSNgKCmLBxqOgrVYkoFKcnZmd2cy8LF1xLvuf93Z+bz7evF0AKH+EFG3/Gx+xfu2mR5BH\n",
       "kKplZkzba+8fEOVvcduLS9gUT6zHehvmC9taf+ryYJhE2Lf7bE+xF4fqsc5902+Yegmw6H0tcA97\n",
       "8aifLnDmTwIMDxwNSQDvIbBg4jA8sLZ+bP/3ELi4ngDrCzy6dojvZrFZi86zVZlkz+yHqtgy0qq5\n",
       "AKs4iDvDNto6W9dgkg92pSoQ+TbdkwvwjNuDJ+QHV8fruTYTI25ObNkRN+tFKWw/Zo0vbV46gcEm\n",
       "/H6Y4meX4JRAXKXretmFt9wx58N3rlYgz6ZLZqHEZ0AuQmdS7mOsWTPSCQy2ocEUv+DBTY6YWqTd\n",
       "TR/uRDeM/GKiFCUGFQW+lPxs5Uv4vOVo1/ykq5wMtqLBFH+T70WIGKHznAbyM0qjDD/QA2MCS0Uw\n",
       "zG9zg59cA6tEQ9JKYTsaTPGnFSI/Fs7LEvVrN1pqEFVBKuZEGfFiZUqcMQ93QzoBgymT2IFtkdWk\n",
       "R1PsCjPthOfBotAHO+OgDvOWK84HnEFZLZyAwWKmXZoRAhFep3H43PDIb9pbgNPARKlBkyWgWZVz\n",
       "yss2hGpfGzruoHvMnGwkAlOm90Dexe7xq8qZ5jDcpQffOUznGAp4sOVA4R6dbrN67CBTUNvqDi4g\n",
       "zBmORGDKZD/8ZFYuy9cFXANTJVUuNRKBKcUDn5Pl0hDgIQoJvGqOtBNMHKG+x88NQRxTJX6P5UgE\n",
       "FlMcIf9AuoYog6ky583ARU8ficCUEgjrP/xzXU/9z/UXdGwJawnEQjwAAAAASUVORK5CYII=\n",
       "\" style=\"display:inline;vertical-align:middle;\" /></a></span>"
      ],
      "text/plain": [
       "|- {a, b, c, d, e} = {e, d, b, a, c}"
      ]
     },
     "execution_count": 74,
     "metadata": {},
     "output_type": "execute_result"
    }
   ],
   "source": [
    "# permuting an element in a Set of variables\n",
    "set_abcde.permutation(new_order=[4, 3, 1, 0, 2])"
   ]
  },
  {
   "cell_type": "code",
   "execution_count": 75,
   "metadata": {},
   "outputs": [
    {
     "data": {
      "text/html": [
       "<span style=\"font-size:20px;\"> <a class=\"ProveItLink\" href=\"../__pv_it/demonstrations/0f99adf1198e83222d46008a4ef8aa8f27666f4e0/proof.ipynb\" style=\"text-decoration: none\">&nbsp;&#x22A2;&nbsp;&nbsp;</a><a class=\"ProveItLink\" href=\"../__pv_it/demonstrations/1cda35076172a014f27d059333ec269941f2bf7a0/expr.ipynb\"><img src=\"data:image/png;base64,iVBORw0KGgoAAAANSUhEUgAAARcAAAAVBAMAAACeQrdYAAAAMFBMVEX///+IiIi6urrc3NxERETM\n",
       "zMwQEBCqqqpUVFQiIiJ2dnYyMjLu7u5mZmaYmJgAAABN0h6tAAAAAXRSTlMAQObYZgAAAxFJREFU\n",
       "SMetVl9IU1Ec/rbZ7nZ3NmdhD4G4J18d9FKBsKCCiEiop57ESgikBoFPihOiMCEXPWRRtIeQEjQf\n",
       "oxJvEGGEbIKRVLP12ENpRog6XPfcc8698957hts6L+f43d/v8zu/fzsAIsuoae1Z0FzQn4V6yMhL\n",
       "1Li8l5zYh0xdZJFV968kf6yTnd5e5pBv4kmy3OSL02tFQnYizU/zi8crkKnUTOl1+M9BXePHGb53\n",
       "QNkuN3nm/K82qE9kMpTjqlJ4HpOTUTFzT4sO2q9ADz+u8701iY1qxJBbo0JMI49CWIO/S05mRCbi\n",
       "FKPnZjTO0ik+tsWwVV1kVoSYdn7wpxH4IyeTiZnVMMqKRk2bYLVpMsUIPFRE4K+czCamY3K/2bGP\n",
       "2Sk01CJK7b1oFrWpGRh3F+P7vNBrF/Oi6ZMwCRblZIHpcjHeC5g1u22T7dnXhEUWRx5xct89nBKt\n",
       "o74yFqvQEZqAeGjVJoZsadm4yFhGTtbXWS7mXQGL5hVSbB/U8JtDnm7+KYObVotYS9GnBbmCcMIm\n",
       "RimiMcqxMUjJzt1FuZhvGu4I47w5AcimwHo0YUbXcNQ2R0/q1w8XEYzaxISnkeUBCVs3cJK17YjM\n",
       "RRBRX56cOWa8rLkPAmeS3MwoppTbHPUnkO20idGv3c7rroV/ciULJMrE6CFQRL4H4GNp3qaXpauk\n",
       "cX8eqR01w4RdBw3BoL2bGgvi/kqOypCR7egmsq4X9DUW8gw8TMwarSR+Bd5gelMqsm7KJjGixG1i\n",
       "YnolGes8sE9OZojx6GKytK2O4kcqQ+g0OjwxOcyw2zgNA/pFR4MBLYF8lM2ZhmhkTGVmaNWYZ6DQ\n",
       "kDMg34OJpbScjIoJ39haRvAh/UVqOjsUw31d8myptMGw+QN6YCjkzS/GGKROfZcOPTLUfGgvM1u6\n",
       "OlMwPMnCFAwoVCqV0nIya772Wx2qOTAXqPIE7q+FTO0Sf1pPERUOzAVyEzO+K08pmfmeIdbQeAMH\n",
       "5gJVfM9U9JSTiZdexKI0n46RSpC32ykmlNmNp5xM+a9v4IE63sD/ANazP3ZF7fPrAAAAAElFTkSu\n",
       "QmCC\n",
       "\" style=\"display:inline;vertical-align:middle;\" /></a></span>"
      ],
      "text/plain": [
       "|- {1, a, 2, b, 3, c} = {a, 1, b, 2, 3, c}"
      ]
     },
     "execution_count": 75,
     "metadata": {},
     "output_type": "execute_result"
    }
   ],
   "source": [
    "# permuting an element in a heterogeneous Set\n",
    "# using cycle notation\n",
    "set_1a2b3c.permutation(cycles=[(0,1),(2, 3)])"
   ]
  },
  {
   "cell_type": "code",
   "execution_count": 76,
   "metadata": {},
   "outputs": [
    {
     "data": {
      "text/html": [
       "<span style=\"font-size:20px;\"> <a class=\"ProveItLink\" href=\"../__pv_it/demonstrations/7c00c144424dbcf8077abc16186aed2cadc63d2d0/proof.ipynb\" style=\"text-decoration: none\">&nbsp;&#x22A2;&nbsp;&nbsp;</a><a class=\"ProveItLink\" href=\"../__pv_it/demonstrations/9d5278615099a052e294926c3fd064c53bd7c79b0/expr.ipynb\"><img src=\"data:image/png;base64,iVBORw0KGgoAAAANSUhEUgAAAZcAAAAVBAMAAAB4R75ZAAAAMFBMVEX///+IiIi6urrc3NxERETM\n",
       "zMwQEBCqqqpUVFQiIiJ2dnYyMjLu7u5mZmaYmJgAAABN0h6tAAAAAXRSTlMAQObYZgAAA3hJREFU\n",
       "WMOtWD1oFEEUfpzRvdxt7i6CFqKQKm2utBHORrAQAtoK4k8hiAQEq4QkYCMBSbBRsLgqcIWSMkSD\n",
       "GxARRC4BQTAQt7WQREUCJojzu/PezpsJgbzisfd937w3b29n3s4CQGMLlDu+kYEzhQrj0etnEQg/\n",
       "cqCmaKohWjOAj8JnLMyjFWDQdMW6yh0nUoAyHh0dd+jHrjdlRWMN0RYD+Ch8RgjSCtBoY8c62EQV\n",
       "7xSXJTS9NC+uhpYcuo1TIRpriHb7gCj8PIS9u8vSm4WrzVsHPafSAHBofZ3yWEBorCHa3gFR+HlI\n",
       "W2XpIujhi2lORItxdLSYWJRwMbtHXcxYFi3G0dFiYlGCxVT2j7qYHkSLKQcNFBOLEiwmME22mMWS\n",
       "6sLL05mPLg9/EVc3aO5jXzfu6V+OxhqvGDZKIKNG5UKbPTfh0xpQrrpkHd5QJFC5BW99NN3L+m2y\n",
       "y8zJTbZd1wiijab2Wtl6oZWOj8JnNKiw/pv0t0e7LRLg4bh1eofRJoH3OXz20WQfmi2zryhLxA6f\n",
       "3oehjv6F6FXvj5Fa5dgogYwGFTadwU+PNoB0156CccIet4xIAd8yWPBR0Rv6or9VF2xHvtwW4D4M\n",
       "ahWmCw1grR7ARQlktKjsJelfj7aAdKhZ12dIC78N6R8fFXdgTDy4y6Qjn+hAf9y2mYJe5ru3dGyU\n",
       "QEaDqr+6suvRBlCu2rGOPIwdeROSHQ+FZi5vFX7aH4G8y9OmzTiarpkZq1WOjcJntKiwf/IRKE8I\n",
       "r5ngbpbuivX1wNs8miNigZT3of4EzCVtVYyjY7sZG4XPaFFhv+T6ie1m5T6T7ln0Inyf6XpoNR9Y\n",
       "NwM0KAUDrcazGvSXCB3rM0imhmkGZ9RoMQ+V6wlc8acZbZrPbW/+MHx1dsRD041XxQAFqns6e+r8\n",
       "SRh8QehYMTiKHKYZnFGjbh4y16czuT/NaDFJxr0BlFB9lWS0I08SOvoGgPv7JPsGMEnfAJIsOCFU\n",
       "jHu8taoG9HlnUR1FgegZ7h5YzCIZYBTd0oLtORRlDE/IFeOdZ9bY80wJ1SeRNXoSSVuEjp1ncBQ9\n",
       "rHye0ajLuBaekDvPwIp1lZvqd+5QCKKjIw6s2z+kAYTWGmpKWwzQigaNYjKaYEXGPDghBRg02dKO\n",
       "Hq4T9htAwn4DmDrENwClncojUfiMgW8ACf4G8B9+h+YjlShV+wAAAABJRU5ErkJggg==\n",
       "\" style=\"display:inline;vertical-align:middle;\" /></a></span>"
      ],
      "text/plain": [
       "|- {{}, {a}, {b}, {a, b}} = {{b}, {a}, {a, b}, {}}"
      ]
     },
     "execution_count": 76,
     "metadata": {},
     "output_type": "execute_result"
    }
   ],
   "source": [
    "# permuting an element in a Set of Sets\n",
    "# using cycle notation\n",
    "power_set_of_ab.permutation(cycles=[(0,2,3)])"
   ]
  },
  {
   "cell_type": "code",
   "execution_count": 77,
   "metadata": {},
   "outputs": [
    {
     "name": "stdout",
     "output_type": "stream",
     "text": [
      "Index Error: Index or indices out of bounds: {6}. new_order should be a list of indices i such that 0 ≤ i ≤ 5.\n"
     ]
    }
   ],
   "source": [
    "# supplying incorrect (out-of-bound) indices for the new_order\n",
    "# should give an informative error\n",
    "try:\n",
    "    set_1a2b3c.permutation(new_order=[2, 3, 1, 5, 4, 6])\n",
    "except IndexError as e:\n",
    "    print(\"Index Error: {}\".format(e))"
   ]
  },
  {
   "cell_type": "code",
   "execution_count": 78,
   "metadata": {},
   "outputs": [
    {
     "name": "stdout",
     "output_type": "stream",
     "text": [
      "Value Error: new_order specification is missing indices: {1, 3}.\n"
     ]
    }
   ],
   "source": [
    "# supplying incomplete indices for the new_order\n",
    "# should give an informative error\n",
    "try:\n",
    "    set_1a2b3c.permutation(new_order=[2, 0, 5, 4])\n",
    "except ValueError as e:\n",
    "    print(\"Value Error: {}\".format(e))"
   ]
  },
  {
   "cell_type": "code",
   "execution_count": 79,
   "metadata": {},
   "outputs": [
    {
     "name": "stdout",
     "output_type": "stream",
     "text": [
      "Index Error: Index or indices out of bounds: {6}. cycles should only contain indices i such that 0 ≤ i ≤ 5.\n"
     ]
    }
   ],
   "source": [
    "# supplying incorrect (out-of-bound) indices for cycles\n",
    "# should give an informative error\n",
    "try:\n",
    "    set_1a2b3c.permutation(cycles=[(1, 3, 2),(0, 6)])\n",
    "    assert False, \"Should not get to this line!\"\n",
    "except IndexError as e:\n",
    "    print(\"Index Error: {}\".format(e))"
   ]
  },
  {
   "cell_type": "code",
   "execution_count": 80,
   "metadata": {},
   "outputs": [
    {
     "name": "stdout",
     "output_type": "stream",
     "text": [
      "Index Error: Index or indices duplicated in cycles specification. cycles should contain only a single instance of any specific index value.\n"
     ]
    }
   ],
   "source": [
    "# supplying indices more than once in cycles\n",
    "# notation should give an informative an error\n",
    "try:\n",
    "    set_1a2b3c.permutation(cycles=[(1, 3, 2),(3, 4)])\n",
    "    assert False, \"Should not get to this line!\"\n",
    "except IndexError as e:\n",
    "    print(\"Index Error: {}\".format(e))"
   ]
  },
  {
   "cell_type": "code",
   "execution_count": 81,
   "metadata": {},
   "outputs": [
    {
     "name": "stdout",
     "output_type": "stream",
     "text": [
      "Value Error: Need to specify EITHER new_order OR cycles, but not both.\n"
     ]
    }
   ],
   "source": [
    "# supplying both new_order and cycles args\n",
    "# should give an informative an error\n",
    "try:\n",
    "    set_1a2b3c.permutation(new_order=[5,4,3,2,1,0], cycles=[(1, 3, 2)])\n",
    "    assert False, \"Should not get to this line!\"\n",
    "except ValueError as e:\n",
    "    print(\"Value Error: {}\".format(e))"
   ]
  },
  {
   "cell_type": "markdown",
   "metadata": {},
   "source": [
    "### Testing the `deduce_enum_subset_eq()` method\n",
    "\n",
    "The deduce_enum_subset_eq() method has the following format:<br/>\n",
    "    <div style=\"width: 50%; border: 1px solid green; padding: 5px; margin: 20px; background-color: gainsboro; font-family:courier\">deduce_enum_subset_eq(self, subset_indices=None, subset=None, assumptions=USE_DEFAULTS)</div>\n",
    "where one supplies either the <font style=\"font-family:courier\">subset_indices</font> OR a <font style=\"font-family:courier\">subset</font>, but not both. <font style=\"font-family:courier\">subset_indices</font> is a list of indices of desired subset elements of the original Set, and <font style=\"font-family:courier\">subset</font> provides the desired subset as an actual enumerated Set. In using subset_indices or subset, either one, the proffered order of subset elements is preserved in the derived subset relationship."
   ]
  },
  {
   "cell_type": "code",
   "execution_count": 82,
   "metadata": {},
   "outputs": [
    {
     "data": {
      "text/html": [
       "<span style=\"font-size:20px;\"> <a class=\"ProveItLink\" href=\"../__pv_it/demonstrations/777812c8ce9843e2d71f294e1af6ac8fa9925cae0/proof.ipynb\" style=\"text-decoration: none\">&nbsp;&#x22A2;&nbsp;&nbsp;</a><a class=\"ProveItLink\" href=\"../__pv_it/demonstrations/2ef67445f4a6f294d4171bdafaf4460157c93c260/expr.ipynb\"><img src=\"data:image/png;base64,iVBORw0KGgoAAAANSUhEUgAAAM0AAAAVBAMAAAAX/3cYAAAAMFBMVEX///+IiIi6urrc3NxERETM\n",
       "zMwQEBCqqqpUVFQiIiJ2dnYyMjLu7u5mZmaYmJgAAABN0h6tAAAAAXRSTlMAQObYZgAAAs1JREFU\n",
       "SMedlktoE0EYx/9JTLfdPAgInhRz6jngxQfVHLwUhObgSSgUrUVRMRfFg0L1IBRpq4hgUDFgkVgQ\n",
       "Ax6UgroFD9WLKSiCbdqKIIJSi4LYB67z+OaRxy7oHGa/nZn//r6Z+b6ZBZBeQGDp39qmMUzQpsRn\n",
       "Pf5IToUN6i60NIUL2pToUeHdCpPW99P3Et/i77UjNSBVbZ3OSgNVS2OTE0W9DvR87vWztjluuleB\n",
       "Gbg/ZEeH75fV4K5h2SvKl1KpdANKAOcktRtpD5w/SnqTnqf9NVY/ULJ5YIjmU9msXd1icfbc083C\n",
       "scoGvRnp9iJWqTFyjIypizmbcxwYz4mOTrMisa8W5zEaOEgrjpF2Z7FOjXufkjEsas154WG80Mxx\n",
       "E4aTKgZxjBRm3coBHFbuepKzvE2pPgnOgNwqBHGMFHhFW5vOKc7Yx3esvi++LCIquiY7Nnkx2tZk\n",
       "hnMouHZaHCGwOEqK3XcIOA3FOYB9WeA7N88WVGxR6SW3wTl4Jl5eWhwhsDhGGjlMy6Y5zHE2+wRL\n",
       "kIPXxWvdfGdRbusZyem81rRuUmBxLOmQmJBTsDipn6wayVDGR2rUfAV4lBXLVpYcqXAzTUeE4Wjp\n",
       "DqBPhMtrpeJLzLNLOpxn1QXE5CxOsPlIp0bri6cyOvmfWPuTb+Boqe8R51y9/mtWZn0VqQ3aHx4+\n",
       "8TIicjBz7pb6QoeJN8xc8trHm5EOWpFHeZpiK16leOOyXZMPR/CmKg6P9BFpMU7eOncO9TacOxHG\n",
       "EcOMdJnnD0kHkeQ5G6vhc87OU99fRddt3vNh1JMW3L7fS4bTmD+py+sLcpiRRutvsySd8MdQ4nPr\n",
       "qcw35Skr59FqBXCCBdpy9EITZ0C96oPastpxQgXactHI0ddJUseusdT945ZK+l4IFRhr2nDm5Nmt\n",
       "7i9zk1nJkm29H8MExloyB5M8Jpx//T9w/uP/4C8kG+8D0PbNtwAAAABJRU5ErkJggg==\n",
       "\" style=\"display:inline;vertical-align:middle;\" /></a></span>"
      ],
      "text/plain": [
       "|- {2, 5, 4} subseteq {1, 2, 3, 4, 5}"
      ]
     },
     "execution_count": 82,
     "metadata": {},
     "output_type": "execute_result"
    }
   ],
   "source": [
    "# deducing a subset of a Set of literals\n",
    "set_12345.deduce_enum_subset_eq(subset_indices=[1, 4, 3])"
   ]
  },
  {
   "cell_type": "code",
   "execution_count": 83,
   "metadata": {},
   "outputs": [
    {
     "data": {
      "text/html": [
       "<span style=\"font-size:20px;\"> <a class=\"ProveItLink\" href=\"../__pv_it/demonstrations/9fab5f3238867cf7f2814cde928932c53c6b9b120/proof.ipynb\" style=\"text-decoration: none\">&nbsp;&#x22A2;&nbsp;&nbsp;</a><a class=\"ProveItLink\" href=\"../__pv_it/demonstrations/f8245d42f262118d4a943a7aaa39b2b13057b8350/expr.ipynb\"><img src=\"data:image/png;base64,iVBORw0KGgoAAAANSUhEUgAAAMkAAAAVBAMAAAAeFNdiAAAAMFBMVEX///+IiIi6urrc3NxERETM\n",
       "zMwQEBCqqqpUVFQiIiJ2dnYyMjLu7u5mZmaYmJgAAABN0h6tAAAAAXRSTlMAQObYZgAAAoJJREFU\n",
       "SMeVVT1oFFEQ/rw7vZ/s3e0JsTJwlWCVLSMinE3ALqCVIAR/sJFwIFgFvNiJjUGErFhsEIQTlICF\n",
       "QRBXEEkTLgeCEEGvVJDkGgmYK3zzZvft2327C3nF7ryZ+eZ7PzNvADR+IGtcO52izPFPGceHPv2s\n",
       "9zk+ZxYMVa5/yijckksb6yHmH8dc6hvmVsbIAfD653e02Xf61GJuUzsxf2X85bruU5j+SQCPZleb\n",
       "9E1UzB4Zz78wiVMBPGb9fJaYPTK+RRZLAqAFzmHpI42l3s1k6afd+IcMlvUWZ9Nm6xvbirvDO8K4\n",
       "KCfVJPGF16eCPSiAClHcnT4IUmN9xgFeklihNDrXLclssg79gcM57EyNVULNaSzkX7iBj0EgBQhD\n",
       "CGRpwsazTtED9km8Ryt4hoo8lPIETVuil1DvqL1/1ljI/8sIX3mmACoEIZnOuo3tBc7CK0/o3CdR\n",
       "fQw8sKZK6Mpq4sSk/08fqyYg0Aikx7teav2h/0Oby/tEJ8r+WbkioRnQJjf5Luz4c3AT1l8TwIOQ\n",
       "bU7yHrvQryLMvBwyjGidkJr7WqG/0+6lA+sfymMTwCNAko1V+2HOCF/IFTXb4lilbxePyk6YY9h6\n",
       "4Gs5Zh2IHLiLGECFCJB0zoLFDnKMWOo9cU8DcWeVUWkHJJTsxlpNK46rl/QX5iJ+9zzrEBpAhWAk\n",
       "Scc2sO3o9fJqz0b1uUiL4RuwsDI9d9IowdB/q3V5pQ3X1wBRCImUqpm9kVn7y4aQxRJksZ+DXE7U\n",
       "/mI49QwhlUX515CD9OIsql9YdlJQ/aXmuurlj/rLJ2QjtRiyvyDsfQ0kBVEcbfMpVL1yhGxkJBWu\n",
       "8/Eese+Xj973/wMgTNRnR3seGgAAAABJRU5ErkJggg==\n",
       "\" style=\"display:inline;vertical-align:middle;\" /></a></span>"
      ],
      "text/plain": [
       "|- {c, b, a} subseteq {a, b, c, d, e}"
      ]
     },
     "execution_count": 83,
     "metadata": {},
     "output_type": "execute_result"
    }
   ],
   "source": [
    "# deducing a subset of a Set of variables\n",
    "set_abcde.deduce_enum_subset_eq(subset_indices=[2, 1, 0])"
   ]
  },
  {
   "cell_type": "code",
   "execution_count": 84,
   "metadata": {},
   "outputs": [
    {
     "data": {
      "text/html": [
       "<span style=\"font-size:20px;\"> <a class=\"ProveItLink\" href=\"../__pv_it/demonstrations/3d1d03f86b569894d9b11a60f0e467816f59ba870/proof.ipynb\" style=\"text-decoration: none\">&nbsp;&#x22A2;&nbsp;&nbsp;</a><a class=\"ProveItLink\" href=\"../__pv_it/demonstrations/5519b7706f1756ed36192b7d587abb180e5368040/expr.ipynb\"><img src=\"data:image/png;base64,iVBORw0KGgoAAAANSUhEUgAAAN0AAAAVBAMAAAAwUfbwAAAAMFBMVEX///+IiIi6urrc3NxERETM\n",
       "zMwQEBCqqqpUVFQiIiJ2dnYyMjLu7u5mZmaYmJgAAABN0h6tAAAAAXRSTlMAQObYZgAAAudJREFU\n",
       "SMelVk1oE0EU/tJN87eTnyrtTcypJ6UBLyoIVfxBvAT05KlUKwhFC0JPlrYgaO2hKx5simAEKaTQ\n",
       "2qMUJOlFCiJJoWLR1q5HD1JRJNiGxsnO7OzsTrJi3cvMfPve9+2bee/NAkh8RqunfbXUBP1mYj8P\n",
       "JyNLPjZtAyr2No/9PYws8V3GyObZrLz+pLptt6B7t3aOc5w3OHRy7oJCFjNkaAWxH/K6wMfERC6X\n",
       "yzrQsLLRZAwv02yqV9ioVTBqesncehvAjSZ62lJGhsjDKUUvXkKoj02TQ2wMVJE0/PVuAlMZVU/P\n",
       "eKBtRS9kIPKTTXv4y7Z+JBf99YolTGVVvQ/4q55eQ+SX+xDo02I/T813CYJnfBbr6ARm2dxoqad9\n",
       "XB2030RrbHzVYX8fmYGXLEIjbruGosjaHU70BJfsZNTGJL1Jl153RhcJ3sMqheyWymz/tcKGQjZM\n",
       "t++NiTXxkZw7msd9O9VIryMXHpD1yC3ExctpblFDMsWhrrSH7Mpjutwq4ZHttMnHLcY4kXLvZ/vF\n",
       "jKwXryFqc8d5GcQXUbZ7QmjQS9ZN47sOwo8aAe5EMSsLWLTPvV3C1gv1omzn1yGI8uuxKkLLIFj1\n",
       "kkV6QXYQtg9hpGHV2KgduZnoQ47gPVmPBjJqb3QFx1j5mTyeZI3ryWQ0P0mVZs0dtl15BNhZ71EG\n",
       "kZ/kwZHm+VkewmSYOVwFDjK9ND1VHjxPWYmsUQ+n8XUsT3bp6sTc/ATKjSJdB3nvlFL7C3c/O1yC\n",
       "ZR9MJaZjloM2M7duWFjEDFYsKGHS+rMgiayht9JxeTyNHP3mYr3+G9GnDXzhi7t05fjWb782LXsy\n",
       "3nn8gOWg1+t1g2GrC2AcRzfPwIIkMqe/hEXJ31X6dZMWLtk7Dk04HIjp9dnLmHDP++nNqvaOQ8wP\n",
       "Krjvv2VxtaS8918hlxPnt63YSw7LPhAnE/e7aK0Jp9j61fj0vNdecjB9IE4W/tf/l5H/+H/5A2Jy\n",
       "/y8AeTbyAAAAAElFTkSuQmCC\n",
       "\" style=\"display:inline;vertical-align:middle;\" /></a></span>"
      ],
      "text/plain": [
       "|- {a, 2, c} subseteq {1, a, 2, b, 3, c}"
      ]
     },
     "execution_count": 84,
     "metadata": {},
     "output_type": "execute_result"
    }
   ],
   "source": [
    "# deducing a subset of a heterogeneous Set\n",
    "# using subset notation\n",
    "set_1a2b3c.deduce_enum_subset_eq(subset=Set(a, two, c))"
   ]
  },
  {
   "cell_type": "code",
   "execution_count": 85,
   "metadata": {},
   "outputs": [
    {
     "data": {
      "text/html": [
       "<span style=\"font-size:20px;\"> <a class=\"ProveItLink\" href=\"../__pv_it/demonstrations/a14e81cdb61aac5d5b21fc762a8b2318c8d64a700/proof.ipynb\" style=\"text-decoration: none\">&nbsp;&#x22A2;&nbsp;&nbsp;</a><a class=\"ProveItLink\" href=\"../__pv_it/demonstrations/35aa2eb79abb0fc1366e662d0da2cf75d62c1b100/expr.ipynb\"><img src=\"data:image/png;base64,iVBORw0KGgoAAAANSUhEUgAAATcAAAAVBAMAAADRH7SIAAAAMFBMVEX///+IiIi6urrc3NxERETM\n",
       "zMwQEBCqqqpUVFQiIiJ2dnYyMjLu7u5mZmaYmJgAAABN0h6tAAAAAXRSTlMAQObYZgAAAu5JREFU\n",
       "SMedV01oE0EUfiStm2YnPxX0IAo59SR0j16EeBE8CAG9CuLPQRAJCJ4sTcCDpSARL13wEEEKOSg5\n",
       "lqC4goggsg0IBQt1rx5KqyIBG8TZ+Z/ZbXbSB/nY/ebNt282772ZBYDyDjCI7dppUGw3kuTsMICk\n",
       "EY/dSB+0UDNJaUSK6aEBB2oLDen3uauSudvJ2IhHDOqglZpJSiNSVK+8z4FaqS/d9vCDLnYEuZ0M\n",
       "bk+AMminpggI+3BHSBEodjhQUy6hh3/upiB7/OErvu83hIcCCYkJapJU7K2ulxVcpWkGlx94uvYU\n",
       "wSlqqcGNpgtuMTCDcz04cnCKWlpwufF0wUknLrQFRw+uBxODU55jBJf/NryLL6/rMzfmtzi5TtlO\n",
       "anDrxiMy1RSB869O0k7kts80mRSBQp/Dgufua6UGq7i+DoLQYyStrHwLNA8GStnZqUmB3E14R+/C\n",
       "N+i32gIeNBige1Cq84Ih5uBe44yhUmUkKTVAddA8KLBBAGs1KfAxgq/0djmAn0wqhqvPgEFpDHPV\n",
       "eN1Peau+5JGeFHY5uVLV/1biQUAMTqHGSfgeACO2Af3lUjGQdh3DsTqE8fWG1qrxAhabjHTpH/oi\n",
       "tZm7LW1byFaTArcA/eFtLjdiUgQKdQZ4Sct6e4dHuDFF8cLUnAO3qXkwUHPOSk2Q+GU5jPkXv3El\n",
       "50S1hk1YdTyzlCo1nD16taLHZ7OrNVtNkGiES+g+ufsV559SrSK4mWp5rchbTdhnMwvRzKa5fc2+\n",
       "PGz7QgdgrSZIuAA/Wl0y9QlcTu9zqH3i3HE+c+45X9bwdWJvndCE/cBaTZDwaf5Ku0amfjkV2ewQ\n",
       "D7VorINzAms1g6RTDVGSAEoWsJldLY8ODU6mBx0sgrWaQdKpRnDp5zlU1SpQO8/1fF/knHmeew/W\n",
       "agZJp4J+noOBANqkakSfNo2uSuZuJN8c8YiBDUZgq2aSII7rRIrpOTsckgf8pcxvCOKxZHxDWKiZ\n",
       "ZNo3xH/6nHg2xPc3/QAAAABJRU5ErkJggg==\n",
       "\" style=\"display:inline;vertical-align:middle;\" /></a></span>"
      ],
      "text/plain": [
       "|- {{a}, {b}} subseteq {{}, {a}, {b}, {a, b}}"
      ]
     },
     "execution_count": 85,
     "metadata": {},
     "output_type": "execute_result"
    }
   ],
   "source": [
    "# deducing a subset of a Set of Sets\n",
    "# using subset notation\n",
    "power_set_of_ab.deduce_enum_subset_eq(subset=Set(Set(a), Set(b)))"
   ]
  },
  {
   "cell_type": "code",
   "execution_count": 86,
   "metadata": {},
   "outputs": [
    {
     "data": {
      "text/html": [
       "<span style=\"font-size:20px;\"> <a class=\"ProveItLink\" href=\"../__pv_it/demonstrations/a2b29a509100fa863c205a32b531c0a77a5389c20/proof.ipynb\" style=\"text-decoration: none\">&nbsp;&#x22A2;&nbsp;&nbsp;</a><a class=\"ProveItLink\" href=\"../__pv_it/demonstrations/66d20587a7819bf057d98f49e7ce8653c0244b630/expr.ipynb\"><img src=\"data:image/png;base64,iVBORw0KGgoAAAANSUhEUgAAAOEAAAAVBAMAAABCnpRGAAAAMFBMVEX///+IiIi6urrc3NxERETM\n",
       "zMwQEBCqqqpUVFQiIiJ2dnYyMjLu7u5mZmaYmJgAAABN0h6tAAAAAXRSTlMAQObYZgAAAppJREFU\n",
       "SMellk1oE0EUx18SY5LdyRIFPYhiTzl52KMehAhePAgBvQpFrSAUDQg9tTQBEWPBtHhxQXAFCUYo\n",
       "9CjFkC2IFETSgqBYW3P1IIkVKdpi3dmd79mkNM5hdvbNe//fzs6bDwCwNqBvuXI8yvq9A0OV5KqH\n",
       "H2hxkFO+qNveuTBkiY/h2uoN8sku6LbuXsJvbpIGWj8vf/EaroxZv0qN63GBLegNPqzqOE4Y3sDV\n",
       "hKdHMFuTPJfB2JQ8GpS4/GJHCw9tlJhYtMUw9KCmEQXbFnl+AbgRTQRLJ4Y2SjRtJawbMUZqi1M1\n",
       "/+/W7CGJH2EfRDYVLQ9qxb2IZ+ePeiJxNHyZ7UtMfF4dV4hm5USJOj/1RN06bqYXRGL8GrTEMZJM\n",
       "TpQF4oxEzNtmTyG2X6OfVO+PpBuk+URRJL7twAeRSNIOFYQcHhPV0S3IFhTitAc/iClTlnTNFYDL\n",
       "j0AkfvVgTiKm55S/mrxgi+rZHcjkFOIaIDI0WFd0qzmyqzDidUC/JOKr8OWZunFQ9YMFaBcVYhPi\n",
       "ZH3EVmRdEw85XRCI/relehHzCGaJI+9Kc+bCtJqrf/HIgzIFCVvU7Wq5irb8TLoTkavo/qnoXG2X\n",
       "YCZly8RNPG3BDLgQs0XdOiPGfPU2Ttpz8K3som0gNr60ks/lXe6kB4HbgZz12Ahjme0hXAwbZ17O\n",
       "VwVdYT1m721vQOYJ3tsOXaqMgOMRGycq6/HT7WYncEOVI6cPh7HM9v6YP0TcaO3u/hZ1hR0gKJN8\n",
       "AbANpR9RceOxzMY7J9U9Z5S+8mPPgEHEuu7GYw2901WI7HxEOdaxpJ2PDcdh89jV3XjsktYQdMPz\n",
       "EegdwOId/FaRH9HHaLqam6WHdvQ+iF8Nf/i+7zlT/3PP+Qe80As9C9mNQAAAAABJRU5ErkJggg==\n",
       "\" style=\"display:inline;vertical-align:middle;\" /></a></span>"
      ],
      "text/plain": [
       "|- {1, a, 1} subseteq {1, a, 1, b, 2, a}"
      ]
     },
     "execution_count": 86,
     "metadata": {},
     "output_type": "execute_result"
    }
   ],
   "source": [
    "# deducing a subset of a Set\n",
    "# with redundant subset elements specified\n",
    "set_1a1b2a.deduce_enum_subset_eq(subset_indices=[0, 1, 2])"
   ]
  },
  {
   "cell_type": "code",
   "execution_count": 87,
   "metadata": {},
   "outputs": [
    {
     "data": {
      "text/html": [
       "<span style=\"font-size:20px;\"> <a class=\"ProveItLink\" href=\"../__pv_it/demonstrations/52a7b42b169059ccfde29bd53c57713bae09da060/proof.ipynb\" style=\"text-decoration: none\">&nbsp;&#x22A2;&nbsp;&nbsp;</a><a class=\"ProveItLink\" href=\"../__pv_it/demonstrations/35ce52abd9b33e6280992503405e83de93e1eb630/expr.ipynb\"><img src=\"data:image/png;base64,iVBORw0KGgoAAAANSUhEUgAAAM0AAAAVBAMAAAAX/3cYAAAAMFBMVEX///+IiIi6urrc3NxERETM\n",
       "zMwQEBCqqqpUVFQiIiJ2dnYyMjLu7u5mZmaYmJgAAABN0h6tAAAAAXRSTlMAQObYZgAAAiNJREFU\n",
       "SMedVj1II0EU/pJcTLJufiorwVTXCSn9aYIIh10KK0EQQUEIeNVVHndcIWiTO8Ri5UBBODQgCBaK\n",
       "IEawSGfsBJOQ8roc18idAS+z2Zl5szuzcL5i8+2X+fbbffvevAWQacMYi6MaMkygifh9jf3Yl2GL\n",
       "3pYCVLhAE9EV9+5+KRdpzZYoSp8GH8cgkDFVfaecP7KD9bV/SJQ9qg7rN0Xuvyx+Oo6zizCB4GIN\n",
       "fOp43AeWs2Muqx/1PL4JrFLEfaYPxd2ZBIKLPCE7kNnbFcUHGS5bAyoFgrjPGRQfnUBw0WVkebq7\n",
       "Bp/rGiolgjyf9HuTjxRIDjJvJp9+7NcIspZclILJhwgkZ++B+vxgKHmqyqJ/KfKKa4L4GAWCix03\n",
       "FZ+uWxElVZb6rKArF94SH6OAcCN56jPcAOZ3fEtaKkp+8+XNLCDcUJn6YCvndbxcEmmo6GLwTnK+\n",
       "LUIn4FysgDdPyvOwJ04WFdlHtkwi3vzn5P2YBJzL9nw+3WD5xA8QKRDk1RvqX2r6epMCwQ0VkeoF\n",
       "6s2VRfr8HaujyerJFkFy31mYU/YdjUBwmU6/f+xnd/GY0j/pzec2Ut9Z2728/CFI+qj9oxNIbrw1\n",
       "AzjM4WH9qkP71I0NBJHBxywQKCES7fks8dMDBJHOJ1QgkAXVR4wTW9SuRHz+WI4j5kKoQKIb3/wB\n",
       "H48ZOclIs+SD8zFMIFFHbkzLg0T+7/dB4hXfB/8AZCfxxW9xBCAAAAAASUVORK5CYII=\n",
       "\" style=\"display:inline;vertical-align:middle;\" /></a></span>"
      ],
      "text/plain": [
       "|- {1, 2, 2} subseteq {1, 2, 1, 3, 1}"
      ]
     },
     "execution_count": 87,
     "metadata": {},
     "output_type": "execute_result"
    }
   ],
   "source": [
    "# deducing a subset of a Set\n",
    "# with redundant subset elements specified\n",
    "set_12131.deduce_enum_subset_eq(subset=Set(one, two, two))"
   ]
  },
  {
   "cell_type": "code",
   "execution_count": 88,
   "metadata": {},
   "outputs": [
    {
     "data": {
      "text/html": [
       "<span style=\"font-size:20px;\"><a class=\"ProveItLink\" href=\"../__pv_it/demonstrations/dd0e192ceefced5753afe44ed2f23959a67f81500/expr.ipynb\"><img src=\"data:image/png;base64,iVBORw0KGgoAAAANSUhEUgAAADAAAAAPBAMAAABQAFHMAAAAMFBMVEX///9UVFSqqqrMzMwiIiJE\n",
       "RESYmJgyMjK6urru7u4QEBCIiIh2dnZmZmbc3NwAAABRgo0vAAAAAXRSTlMAQObYZgAAAGtJREFU\n",
       "GNNjYCAJMK3ELj7x4E8cOtjwSvDdub0Sq0TXA/YPIM7xchCohUtwLmPgDcCmg/cnA8sGbBJcAQzz\n",
       "DbBJzD/AoM+AsKMQIaHAIM70AIsO1g1sjjzoRnGDXCW9+eEONHFeqe/XcIYjANzPJYStbWOTAAAA\n",
       "AElFTkSuQmCC\n",
       "\" style=\"display:inline;vertical-align:middle;\" /></a> <a class=\"ProveItLink\" href=\"../__pv_it/demonstrations/daa2130cd83f549748bcfd1cb773f443e6d287b70/proof.ipynb\" style=\"text-decoration: none\">&nbsp;&#x22A2;&nbsp;&nbsp;</a><a class=\"ProveItLink\" href=\"../__pv_it/demonstrations/f94c6fe81141a7a35853bd92593c250cf779f86c0/expr.ipynb\"><img src=\"data:image/png;base64,iVBORw0KGgoAAAANSUhEUgAAAM0AAAAVBAMAAAAX/3cYAAAAMFBMVEX///+IiIi6urrc3NxERETM\n",
       "zMwQEBCqqqpUVFQiIiJ2dnYyMjLu7u5mZmaYmJgAAABN0h6tAAAAAXRSTlMAQObYZgAAArBJREFU\n",
       "SMedlk1oE0EUx/9JWrfZ7IYgeBOaU88LXqpSzcGLIJiDJ6FQRIuC2JzEg6L1IFShqYjQBcWARWpB\n",
       "CHhQCtUNeIhekoCC2G6JF/GkRUFoU4zzuTv7kRWdw8zbefOf387sezMLIL+JgWVyf0xnkiCmDHcc\n",
       "2hirSYPGypGuZEFMSZ9jb7cVmMQ9FpjZrEeXM0CQWVmqePsg2lfOJOlbp6a+QCrtonA0of9Qp2Fe\n",
       "Wr7atn1f6brshAUT0H5L2aJoZ/o7pH4qZc3lXeHYAKbjOIcfB7qM21UnLBitYFsMSZ0XxuqspXKQ\n",
       "l5wLQNWK4TwPd313woKxInpiyJGXwrjB6hjOawfVcpRjVgZxVIG3b7W/ckh5xGfIfOqQj6ZPsYcs\n",
       "BnF8AfC2JiLFkpz5zx9I/YSaI/UgJ70jItrKbXnBNa5wmEDhSAEOPRR9DUjOCRwtkrEscMpBTpav\n",
       "1bgEs0TaNfb0RuEwgcIRAvr5z4ht8zjAEFl9rg2cuocgxxWJs4tsgb793dC+cYHCcX3fNOvUygrH\n",
       "/EmquYLIeJ+TavN2Twkt6uEKvRA+IjyOFOAAcJKFyzupoltMsytHVzxSCnCuIcPCtFXDdSX5Xyjf\n",
       "pxTgSAH6juBccd1fHf6ydbov/PsE4224hhTnVHBHs2S8oXnTiY83T4CzSuSJPDXJjtdFvDFZinBa\n",
       "NI4OrjybY9ZQIb+oK+fO6ePBc2fUgdFTBfhG86dVF0zmzLTxxVLyx7zV20T2AU27fn+bWcbsvvG9\n",
       "CieUPx9n1rqwHUWAtPu+yC0s9eeZExPLG4E8ZeUqotYgDs9/J0HqOwVnSj7WELXiOJ5AR4LUd3KO\n",
       "d50YXuz6lrx/dNv27gX//mkgQdrwOev87Jb3l3+TKclSjN6P3n3aRYK0659k/JjQ/vX/QPuP/4M/\n",
       "ua/yvpzLW5cAAAAASUVORK5CYII=\n",
       "\" style=\"display:inline;vertical-align:middle;\" /></a></span>"
      ],
      "text/plain": [
       "{a = 1} |- {1, 2, a} subseteq {1, 2, 3, 4, 5}"
      ]
     },
     "execution_count": 88,
     "metadata": {},
     "output_type": "execute_result"
    }
   ],
   "source": [
    "# what if we have a variable in the supposed subset and the variable\n",
    "# is equal to a value in the supposed superset?\n",
    "set_12a = Set(one, two, a)\n",
    "set_12345.deduce_enum_subset_eq(subset=Set(one, two, a), assumptions=[Equals(a, one)])"
   ]
  },
  {
   "cell_type": "code",
   "execution_count": 89,
   "metadata": {},
   "outputs": [
    {
     "data": {
      "text/html": [
       "<span style=\"font-size:20px;\"> <a class=\"ProveItLink\" href=\"../__pv_it/demonstrations/4978e2a551bb2b335db1afcc0ccbe93fad0d8ea60/proof.ipynb\" style=\"text-decoration: none\">&nbsp;&#x22A2;&nbsp;&nbsp;</a><a class=\"ProveItLink\" href=\"../__pv_it/demonstrations/a3bbe61c9612b6571a483989dce991f189a1e83b0/expr.ipynb\"><img src=\"data:image/png;base64,iVBORw0KGgoAAAANSUhEUgAAAJsAAAAVBAMAAACj9YEXAAAAMFBMVEX///+IiIi6urrc3NxERETM\n",
       "zMwQEBCqqqpUVFQiIiJ2dnYyMjLu7u5mZmaYmJgAAABN0h6tAAAAAXRSTlMAQObYZgAAAfRJREFU\n",
       "OMudlTtIA0EQhv8kvhKjSWUlmMpOsPTRBBHELoWVIARBQQhoZaUoFoI2UcTiRDAgiApCwEIRxBMs\n",
       "0hk7wUSutIvYiBrQfWVvHwmoU+zOzc59N7uzMweg8xlT3bCF2P8izQ8unaJXZOhNWcvM/hcJzrAg\n",
       "XsnQkbeDe9Xg5VHri0OnY9rzEx0iW7WByovjOLuQdiy63F5A5E24tGb4HCpixRM25nZi4YYP5beo\n",
       "KbqZFbgSMCvAx1WuBN4R468JNxt3Dg0HVARuDsj2i1MQuOA0YrUzqtTFdSw0wt24yKZ0HBG5WROX\n",
       "ZtYwGuGIHLgmLroHFXdEtba8n8YBBcfsCi74CQMXOilpuApLCtvDNbPeKThu93HhVVib7UqouPYi\n",
       "MLHDY9k2NivsPq4MG9eSUXHYiNcK4pKfV9zn9erRBYomLtSPpnctOhp/W1IpgQvl7JIabpm+ruFi\n",
       "VQNXMTOLwppbP7PNOQQMXEsS4aqVWb3IJsf1IutxEf0i8+Dp2QbuWbIDhEG1To/cO7bI3OpVhXnv\n",
       "HuevPTjE9+b7+wPhfXrV17+eudZXHgFb5G6/wPGalwewBEvzFwUu3QCXlpq05WzNX+Q4td9FHEc2\n",
       "KL/f3cqiitvardHvwLpxwu6usht78sbB1jy/G0/z3Tf4V7T+41/xA0g/uzoaLeXLAAAAAElFTkSu\n",
       "QmCC\n",
       "\" style=\"display:inline;vertical-align:middle;\" /></a></span>"
      ],
      "text/plain": [
       "|- {} subseteq {1, 2, 1, 3, 1}"
      ]
     },
     "execution_count": 89,
     "metadata": {},
     "output_type": "execute_result"
    }
   ],
   "source": [
    "# this seems to work OK for a subset = empty set\n",
    "set_12131.deduce_enum_subset_eq(subset=empty_set)"
   ]
  },
  {
   "cell_type": "code",
   "execution_count": 90,
   "metadata": {},
   "outputs": [
    {
     "data": {
      "text/html": [
       "<span style=\"font-size:20px;\"> <a class=\"ProveItLink\" href=\"../__pv_it/demonstrations/f33612301047fcc681300dc746a12fd2794a08db0/proof.ipynb\" style=\"text-decoration: none\">&nbsp;&#x22A2;&nbsp;&nbsp;</a><a class=\"ProveItLink\" href=\"../__pv_it/demonstrations/8043d5f82a4b9e3de14154d132c9cbe48b5495740/expr.ipynb\"><img src=\"data:image/png;base64,iVBORw0KGgoAAAANSUhEUgAAAEMAAAAVBAMAAADvM06qAAAAMFBMVEX///+IiIi6urrc3NxERETM\n",
       "zMwQEBCqqqpUVFQiIiJ2dnYyMjLu7u5mZmaYmJgAAABN0h6tAAAAAXRSTlMAQObYZgAAAOVJREFU\n",
       "KM9jYGDgu8cQK8OABbx9wHrxAIjBswtIqAVgqji9gIGBKRXE4vsAJHg3YCp5DyJugwiuCTACrKFz\n",
       "5syZECNXwgkUJcy7DOCm4FDCjVCBS8l1BtxKEiDCE9CVLAMRHBtg3gI6pQFJSTfcW2Vg9+8Fi/I4\n",
       "IFSwg4OE+wIDQ8hksADHRDSLWD0hLu8UgAXsDojEQoQpkIDlBlnN4YBwCwN3AUJNC9wtKD7i6dDB\n",
       "4iPUCGBdQigCGBgIhi4OJQk4lCyDK0FJLytnzoS7BZFeGMCpTgHTFG5QqkuChDSutFsLSbsAC6pK\n",
       "hMhzOfAAAAAASUVORK5CYII=\n",
       "\" style=\"display:inline;vertical-align:middle;\" /></a></span>"
      ],
      "text/plain": [
       "|- {} subseteq {}"
      ]
     },
     "execution_count": 90,
     "metadata": {},
     "output_type": "execute_result"
    }
   ],
   "source": [
    "# this seems to work OK for a subset = superset = empty set\n",
    "empty_set.deduce_enum_subset_eq(subset=empty_set)"
   ]
  },
  {
   "cell_type": "code",
   "execution_count": 91,
   "metadata": {},
   "outputs": [
    {
     "name": "stdout",
     "output_type": "stream",
     "text": [
      "Index Error: Index or indices out of bounds: {6}. Subset indices should be elements of {0, 1, 2, 3, 4, 5}.\n"
     ]
    }
   ],
   "source": [
    "# supplying incorrect (out-of-bound) indices for subset\n",
    "# should give an informative error\n",
    "try:\n",
    "    set_1a2b3c.deduce_enum_subset_eq(subset_indices=[2, 6, 0])\n",
    "except IndexError as e:\n",
    "    print(\"Index Error: {}\".format(e))"
   ]
  },
  {
   "cell_type": "code",
   "execution_count": 92,
   "metadata": {},
   "outputs": [
    {
     "name": "stdout",
     "output_type": "stream",
     "text": [
      "Value Error: Specified subset {a, B, 2, d} does not appear to be a subset of the original set {1, a, 2, b, 3, c}. The following elements appear in the requested subset Set but not in the original Set: {d, B}.\n"
     ]
    }
   ],
   "source": [
    "# supplying incorrect elements for subset\n",
    "# should give an informative error\n",
    "try:\n",
    "    set_1a2b3c.deduce_enum_subset_eq(subset=Set(a, B, two, d))\n",
    "except ValueError as e:\n",
    "    print(\"Value Error: {}\".format(e))"
   ]
  },
  {
   "cell_type": "markdown",
   "metadata": {},
   "source": [
    "### Testing the `deduce_enum_proper_subset()` method\n",
    "\n",
    "The <span style=\"font-family:courier\">deduce_enum_proper_subset()</span> method has the following format:<br/>\n",
    "    <div style=\"width: 50%; border: 1px solid green; padding: 5px; margin: 20px; background-color: gainsboro; font-family:courier\">deduce_enum_proper_subset(self, subset_indices=None, subset=None, assumptions=USE_DEFAULTS)</div>\n",
    "where one supplies either the <font style=\"font-family:courier\">subset_indices</font> OR a <font style=\"font-family:courier\">subset</font>, but not both. <font style=\"font-family:courier\">subset_indices</font> is a list of indices of desired subset elements of the original Set, and <font style=\"font-family:courier\">subset</font> provides the desired subset as an actual enumerated Set. In using subset_indices or subset, either one, the proffered order of subset elements is preserved in the derived subset relationship."
   ]
  },
  {
   "cell_type": "code",
   "execution_count": 93,
   "metadata": {},
   "outputs": [
    {
     "data": {
      "text/html": [
       "<span style=\"font-size:20px;\"> <a class=\"ProveItLink\" href=\"../__pv_it/demonstrations/9e2007d84f9da82185021e5942aae2e25f495cc10/proof.ipynb\" style=\"text-decoration: none\">&nbsp;&#x22A2;&nbsp;&nbsp;</a><a class=\"ProveItLink\" href=\"../__pv_it/demonstrations/d546704c738acd0c617d2c4922b4e45bba28513d0/expr.ipynb\"><img src=\"data:image/png;base64,iVBORw0KGgoAAAANSUhEUgAAAM0AAAAVBAMAAAAX/3cYAAAAMFBMVEX///+IiIi6urrc3NxERETM\n",
       "zMwQEBCqqqpUVFQiIiJ2dnYyMjLu7u5mZmaYmJgAAABN0h6tAAAAAXRSTlMAQObYZgAAAsdJREFU\n",
       "SMedlk1oE0EUx99mTbfdZENA8KSYU88BL35Q7cFLQWgOnoRC0VoUFXNRPChUD0IpbRURDCoGLBIL\n",
       "Ym5KQd2Ch+jFFBTBdtuK4kWpRUHsB67z8Wbe5GMXdA67bz7+83sz897sAkBmESLLwPY2jXGCNiU5\n",
       "5/NXeiZuUHehpSle0KYkjgvvVpk0OIjzpb4l32tH6gBetXU5qw1ULbWnp4p6H/D93B9gbfPcdK8B\n",
       "1MD9ITs6wrCsBneNyN6mIpqc01gjaQ84f9SYW/g+G66z50MlWwAYxvVUtuoJt0VzapVNrJF0ZxHW\n",
       "sNE6gcbM5bzJOQkwmRcdnTSf/dXkfC6VSjdpPRnFIWl3Djawcf9TNEbEU3Ne+DBZaOa4KYOz737j\n",
       "vmkOSYH2rRzBYeWeLzkrO5Tqk+AMysoNiOCQFOAVHm0mrzgTH9+x5wMxs4ioxLrs2OLbeKzpLOdg\n",
       "cHlFmlYIDI6Swt67CJwFxTkEB3IA37l5vqBiC0sfug2cA89k6BlxIAQGh6TWUdw2zWGOs9WnWIIc\n",
       "ljsS0DxL8ljPSU7ndV7ZTd1SYHAM6bBYkFMwON5P9hjNYsZbdWweA3icE9tWlhypeNl8RRBHS3cB\n",
       "9Ivtfa1UfIt5dkmHe9njEthyFafYeqRT48HSmaw6H3PfhIA4Whr6yLkQBL/mZNZXwdvE8+HhkyyD\n",
       "JQcz526rGToo3txsVLyRdMiIPMxTj3lYxXjjsj3Tj0bhTVVcHplj0mKcXsqfJ00ci3HEMJKu8PxB\n",
       "6RCkec7adfiSN/M0DNeg6w7v+TDuSwvc/t/LmlO74psc7+rGohxG0kTwNofSqXACSlzQU1loylNW\n",
       "LkKrpXuP9DXcO5ECbTnaMeQMqqq+qA2r3T0aK9CWC40c/TlJ67MmK/b7005A1iwp5uXdrfQ0k5Es\n",
       "udbvY5yArGW6mOQ14fzr/4HzH/8HfwEStutDFhAr8wAAAABJRU5ErkJggg==\n",
       "\" style=\"display:inline;vertical-align:middle;\" /></a></span>"
      ],
      "text/plain": [
       "|- {2, 5, 4} proper_subset {1, 2, 3, 4, 5}"
      ]
     },
     "execution_count": 93,
     "metadata": {},
     "output_type": "execute_result"
    }
   ],
   "source": [
    "# deducing a subset of a Set of literals\n",
    "set_12345.deduce_enum_proper_subset(subset_indices=[1, 4, 3])"
   ]
  },
  {
   "cell_type": "code",
   "execution_count": 94,
   "metadata": {},
   "outputs": [
    {
     "data": {
      "text/html": [
       "<span style=\"font-size:20px;\"><a class=\"ProveItLink\" href=\"../__pv_it/demonstrations/ad3fd96862840cc1cffb633e7d8e9b8ead1965460/expr.ipynb\"><img src=\"data:image/png;base64,iVBORw0KGgoAAAANSUhEUgAAAC8AAAAUCAMAAAAqRJTwAAAAOVBMVEX///8kJCQNDQ0oKChUVFSY\n",
       "mJiIiIjc3NwyMjIiIiJ2dnbu7u66urqqqqpmZmYQEBBERETMzMwAAAD5MwzKAAAAAXRSTlMAQObY\n",
       "ZgAAAMpJREFUKM+1k90agyAIhtmmgn9o3v/FTuxZm/rk1sE4qEB64YMCWJnzZydbTjwFkRasEqeQ\n",
       "CufpoUy1Ma9atTN+W+QT/4xHdmab288D3hljJBQS1sN3+46aPe5yPaqircBcB+aTri7TF7x1oqi+\n",
       "w43c3G4hqnP5qJ9Eli/jqDN2bnqJ90XIsXzokr5vaVehPrP2JxmMIogdkHDYvm430WwAtFXQCQjj\n",
       "NlgKea4z8KqOFZXpBND0cTintTlbdmS4ZOQvpUf3VzwsfpMn3WAG9dcHpm4AAAAASUVORK5CYII=\n",
       "\" style=\"display:inline;vertical-align:middle;\" /></a>, <a class=\"ProveItLink\" href=\"../__pv_it/demonstrations/d228ba023ec7004cb5a88a07db157421f492aaf10/expr.ipynb\"><img src=\"data:image/png;base64,iVBORw0KGgoAAAANSUhEUgAAAC8AAAAUCAMAAAAqRJTwAAAAOVBMVEX///8kJCQNDQ0oKChUVFSY\n",
       "mJiIiIjc3NwyMjIiIiJ2dnbu7u66urqqqqpmZmYQEBBERETMzMwAAAD5MwzKAAAAAXRSTlMAQObY\n",
       "ZgAAANFJREFUKM+1kt0SAxEMhbW1hMTv+z9sI51tF8PMXjQXBjm+OEGpXXhcZUpOcdq08J1iTq5P\n",
       "1jDpNV0W0POoTrVt3vC8m/Flw4O4x194NnpT5uvn0vG0MVE0lCwnf+U8SLyebTyrYgXkgZWYDl5H\n",
       "2OOD8KphpcycHx9Ed0vhYWVVyjKjEW/ndhCblDNc7tKJdu9H+rg4q1S5dG0emmkNKnRAsMPr0+k0\n",
       "s4fDadUZoPE1NEuzbCI3tlhtOgMwfg6Mxh/LfxyiuhWAt+TB/xWvaJ16AwCTCDkEHObhAAAAAElF\n",
       "TkSuQmCC\n",
       "\" style=\"display:inline;vertical-align:middle;\" /></a>, <a class=\"ProveItLink\" href=\"../__pv_it/demonstrations/6914eafa47d68d5a2d60947acb941c0ce8ecb22c0/expr.ipynb\"><img src=\"data:image/png;base64,iVBORw0KGgoAAAANSUhEUgAAADEAAAAUCAMAAAATIyWrAAAAOVBMVEX///8kJCQNDQ0oKChUVFSY\n",
       "mJiIiIjc3NwyMjIiIiJ2dnbu7u66urqqqqpmZmYQEBBERETMzMwAAAD5MwzKAAAAAXRSTlMAQObY\n",
       "ZgAAAMBJREFUKM+1U9kSwiAMRKWQcoTj/z/WEhkloJnhwTxkODbZ3dAqJYXzv+9KTrgcWhD71bgc\n",
       "6SAVhLoosFmWfK4URawA3KCw6ExZbeQyo9Akkh6Sva4/NhxQPO4tv5kJBbUtfTqujCBTdBQJRep+\n",
       "uvmBNNt2lGnr1Op8nUefLdt2VKHcusc6zLnpv6WXm840ojwNSYOKrClwCobKl7bj1IoZCfPrjCiv\n",
       "jSlWG2YE5k/mK2qIiGozwG8WRPd3CiX+SE/+MQfSJZET/gAAAABJRU5ErkJggg==\n",
       "\" style=\"display:inline;vertical-align:middle;\" /></a> <a class=\"ProveItLink\" href=\"../__pv_it/demonstrations/e48eb2c364672aa6f27d16aa8ee958c2f3e6e2ce0/proof.ipynb\" style=\"text-decoration: none\">&nbsp;&#x22A2;&nbsp;&nbsp;</a><a class=\"ProveItLink\" href=\"../__pv_it/demonstrations/03a8e97503be8aec38e6bfad8c4643c040b15bd40/expr.ipynb\"><img src=\"data:image/png;base64,iVBORw0KGgoAAAANSUhEUgAAAMkAAAAVBAMAAAAeFNdiAAAAMFBMVEX///+IiIi6urrc3NxERETM\n",
       "zMwQEBCqqqpUVFQiIiJ2dnYyMjLu7u5mZmaYmJgAAABN0h6tAAAAAXRSTlMAQObYZgAAAnxJREFU\n",
       "SMeVVT1oFEEUft6d7t5m925PiJWBqwSrbBkRITYBu4BWghD8wUbCgWAV8GInNgYRPLHYIAgnKOkM\n",
       "griCSJpwdyAIEXQLG0GSayRgrnDevN2Z2Znd1Uyx++a99733ZuZ7MwDQ+AZF48rJHGWJf844Oorw\n",
       "574t8Tm1aKhK/XNG5QYvbayGWHiYcfE2zKWMoQRA9S8MldlX/DgZt6lhxt8xY2gqDUCj2VEmfROV\n",
       "sf9PFg1AYzYqz5KxK8YfvV7vcV4WDaAELsnSzy/87POitfTzTvxdQZb1FrFps/WFbNWd0S1mXKLZ\n",
       "Iy3xuVcnkjUIgAhR3ZneT6ixPhMAvEDRRhqd6dQ4m9yDaBAQh4OpsSCUp2w++leuwfskkACkIRiy\n",
       "NiHj6aAaAuyheAcreAo2D2RNoOlz9DJ482LtdWUD0P9TDJ9pJgAiBCIpnXsTtheJhZdwM7yJ7I9B\n",
       "CKSpI9pew9mcTML9v0ewZgISDUOGtOrl1i/83/epvY/NS/bP8oqYZoCL3OTqj9p1cB3c3yaABiLb\n",
       "RPIuueDPZmYqBw0x1glcc1c2urpjzN/9A9bYBNBIkGgj1V7KGeYLvKJmm20r9+3AAytIOeb4GY65\n",
       "+4wDtyEDECESJNbGsvgJxzCL12XnNGBnZse1IaBQ8xtPHNkcb7JMPg8/u6F7AApAhCAkSkc2YDtQ\n",
       "++Xlrg/1Z4wWo9dAwur03HGZZetepGbZal1cbUMvUgAyBEdy1cxubPb+iiFI4+UL5g1jRSXIFa33\n",
       "l9JpaAi5t6Xwd6AEGWaziPfC9XXhH+/LByhGKjH4+wLp29cAXWDN0TavQvFWxlCMlFLlKm3vId99\n",
       "6/Dv/l9Tc9Cn1jWCBwAAAABJRU5ErkJggg==\n",
       "\" style=\"display:inline;vertical-align:middle;\" /></a></span>"
      ],
      "text/plain": [
       "{d != c, d != b, d != a} |- {c, b, a} proper_subset {a, b, c, d, e}"
      ]
     },
     "execution_count": 94,
     "metadata": {},
     "output_type": "execute_result"
    }
   ],
   "source": [
    "# deducing a subset of a Set of variables\n",
    "set_abcde.deduce_enum_proper_subset(\n",
    "        subset_indices=[2, 1, 0],\n",
    "        assumptions=[NotEquals(d,a), NotEquals(d,b), NotEquals(d,c)])"
   ]
  },
  {
   "cell_type": "code",
   "execution_count": 95,
   "metadata": {},
   "outputs": [
    {
     "name": "stdout",
     "output_type": "stream",
     "text": [
      "Proof Failure: Failed to prove that the supposed Self superset {a, b, c, d, e} has any elements not already contained in the supposed proper subset {c, b, a}. Notice that this might be because the sets have unassigned variables\n"
     ]
    }
   ],
   "source": [
    "# deducing a proper subset of a Set of variables\n",
    "# with no additional information about the variables\n",
    "try:\n",
    "    set_abcde.deduce_enum_proper_subset(subset_indices=[2, 1, 0])\n",
    "    assert False, \"Should not make it to this point.\"\n",
    "except ValueError as e:\n",
    "    print(\"Proof Failure: {}\".format(e))"
   ]
  },
  {
   "cell_type": "code",
   "execution_count": 96,
   "metadata": {},
   "outputs": [
    {
     "name": "stdout",
     "output_type": "stream",
     "text": [
      "Proof Failure: Failed to prove that the supposed Self superset {1, a, 2, b, 3, c} has any elements not already contained in the supposed proper subset {a, 2, c}. Notice that this might be because the sets have unassigned variables\n"
     ]
    }
   ],
   "source": [
    "# deducing a proper subset of a heterogeneous Set\n",
    "# Will often need more info, depending on the arrangement specified:\n",
    "try:\n",
    "    set_1a2b3c.deduce_enum_proper_subset(subset=Set(a, two, c))\n",
    "    assert False, \"Should not make it to this point.\"\n",
    "except ValueError as e:\n",
    "    print(\"Proof Failure: {}\".format(e))"
   ]
  },
  {
   "cell_type": "code",
   "execution_count": 97,
   "metadata": {},
   "outputs": [
    {
     "data": {
      "text/html": [
       "<span style=\"font-size:20px;\"><a class=\"ProveItLink\" href=\"../__pv_it/demonstrations/7627f37c19e380a144f0ac81d705cdf91c866f010/expr.ipynb\"><img src=\"data:image/png;base64,iVBORw0KGgoAAAANSUhEUgAAAGcAAAAVCAMAAABsdQABAAAARVBMVEX///8/Pz9vb28YGBgNDQ0r\n",
       "KysPDw8WFhbc3NxERES6uroiIiLMzMwyMjJmZmaIiIiYmJh2dnZUVFTu7u4QEBCqqqoAAADywYVY\n",
       "AAAAAXRSTlMAQObYZgAAAZhJREFUSMelVtuSwyAIzd41KgRQ//9TV007o1GTdJeHTEXwCBywyzIV\n",
       "2y432JbXxQLKhYmpF+Jo+Zus3p7fhJto4txSALSeHwbu8SP4UWiw1isyc5h8IYrrbH93FSaOcpW2\n",
       "Mxwo3t6f45ScHHA2bczPt7uJ48sWR/UijtWZIlrdjccVd472NRxxUr4TYwUEOCioOSaFELFAkx/i\n",
       "cAkEsfVi92SpyhH07I0t75UJKSeuoWqLo/dktLcLjyYQn5sVdB8OH9YZlsN+FgxwrHdJvj7Tp6qY\n",
       "eVQLiqnBjnNwWLcp2h0aHFXuSmHc1D7vSldyhCMH64gdj/Lm++bJVyqOUqoQjuUJGUZVBJW6WpP6\n",
       "QIpxhUlTx7BzItSst+VQrFVxn7mh4Ru2lExMYTtpAp0usaWaU8Z0T2oREbCpVAtwmXu2cgX20dUz\n",
       "X1h/yARHODWFYszDzBh59GkRU6mSPW0bXrX4+1saPOZy7gS5ozrB0f2oosGYpFuqOY70bTh6fwTv\n",
       "qKr35yg4eqD793RgtQ3f09nLpIfa8K//B78HFhfJsTDiNAAAAABJRU5ErkJggg==\n",
       "\" style=\"display:inline;vertical-align:middle;\" /></a> <a class=\"ProveItLink\" href=\"../__pv_it/demonstrations/ff1148ea636f8e962e770e0449fdead42c1b42900/proof.ipynb\" style=\"text-decoration: none\">&nbsp;&#x22A2;&nbsp;&nbsp;</a><a class=\"ProveItLink\" href=\"../__pv_it/demonstrations/0ac9fa6d46342a4b546caf09af354322df5e96690/expr.ipynb\"><img src=\"data:image/png;base64,iVBORw0KGgoAAAANSUhEUgAAAN0AAAAVBAMAAAAwUfbwAAAAMFBMVEX///+IiIi6urrc3NxERETM\n",
       "zMwQEBCqqqpUVFQiIiJ2dnYyMjLu7u5mZmaYmJgAAABN0h6tAAAAAXRSTlMAQObYZgAAAuBJREFU\n",
       "SMelVk1oE0EU/tpt8ztJGqW9iTn1pDTgRQUhij8ULwE9eSrVCkLRgtCTpSkIWntoxINNEYwghQRa\n",
       "e5SCJLlIQSQpVFq0sevRg1QUKbbBOLszOzu706xa5zIz3773ffPz3psFEP2IVq1zpbwH+kXHfhon\n",
       "I0seNu1DKvYmj/01Rhb9KmOkfjYtzz+oblst6N6unuMc57McOlm8oJCFsjK0jNA3eV5QeU1oVDlo\n",
       "ksGLBBuGa6zXahjX3Z5OvQ3g+p/1yINpRS9Shm+ADWMjrG/bRizrrXcDmE7uoRftz+VyaRvaUvR8\n",
       "WQS+s2Ef/9g+iNiit16pjOm0qqctJZ2QqhduIPBDOZQW53lqvkcQPOWjULwbmGPjYBIt9LT3K8PW\n",
       "l2CD9S/ja9alzsJNFqA7br+KkojaHU70GBdFMK5Jq5xy6PUmwyLA+1imkN1yla1PK2woZKP0+F7r\n",
       "WBWLzPA+j3si1KQz9w/JeuQmIinr0wy3aCDWxaGehIvs8iM63SzjoeVU5/0mY5w0PLWMXSX6k7Je\n",
       "pIGgxR3haRBZRNWqCb5hN1kv3d81EH7VaONOFDOjwFQiKXeVsPR8KVSt+DoEkX59ZkZoSXRsu8kC\n",
       "KZAd+K1LGDOsDIkduZjIMXxX1qMbGbcOuoZjLP10vp9Yg+vJZDQ+yTaNmtvsuPJoY3f9izKI+HyG\n",
       "FvFZHcGUnzlcAQ4yvQS9Vb55HrISmZEPp/E5kye7dHaiOD+JqpGk6yDvRCqFR1x6h8sw7Tu6ojMh\n",
       "00GbLa5nTSygd9RMKKrT/DMhiczQW45fmkggR9dcajZ/IvjEwBc+2alL7h9x6K3feqWb9mSi+/gB\n",
       "0yHcbDazDFtZAOM4Wj8DE5LI7PriFyl/R6lnnc+d9cxpbzvswWFDTG/AmoaEe96rXs+p9rZDyAsq\n",
       "ON+/inhauv7q/atAdah4QJxMvO+itEbtZBtU9cJ5t73koHtAnMz/r/8vY//x//IbOkH694uAiecA\n",
       "AAAASUVORK5CYII=\n",
       "\" style=\"display:inline;vertical-align:middle;\" /></a></span>"
      ],
      "text/plain": [
       "{1 not-in {a, 2, c}} |- {a, 2, c} proper_subset {1, a, 2, b, 3, c}"
      ]
     },
     "execution_count": 97,
     "metadata": {},
     "output_type": "execute_result"
    }
   ],
   "source": [
    "# but we can supply enough info to help:\n",
    "set_1a2b3c.deduce_enum_proper_subset(\n",
    "    subset=Set(a, two, c), assumptions=[NotInSet(one, Set(a, two, c))])"
   ]
  },
  {
   "cell_type": "code",
   "execution_count": 98,
   "metadata": {},
   "outputs": [
    {
     "name": "stdout",
     "output_type": "stream",
     "text": [
      "Proof Failure: Failed to prove that the supposed Self superset {1, a, 1, b, 2, a} has any elements not already contained in the supposed proper subset {1, a}. Notice that this might be because the sets have unassigned variables\n"
     ]
    }
   ],
   "source": [
    "# deducing a subset of a Set with redundant subset elements specified\n",
    "# the variables will initially be a problem\n",
    "try:\n",
    "    set_1a1b2a.deduce_enum_proper_subset(subset_indices=[0, 1, 2])\n",
    "    assert False, \"Should not get to this point.\"\n",
    "except ValueError as e:\n",
    "    print(\"Proof Failure: {}\".format(e))"
   ]
  },
  {
   "cell_type": "code",
   "execution_count": 99,
   "metadata": {},
   "outputs": [
    {
     "data": {
      "text/html": [
       "<span style=\"font-size:20px;\"><a class=\"ProveItLink\" href=\"../__pv_it/demonstrations/d5e3ec8d4b81ece839666a9510806d5aa0602e0c0/expr.ipynb\"><img src=\"data:image/png;base64,iVBORw0KGgoAAAANSUhEUgAAAFQAAAAVCAMAAADvsTk6AAAAQlBMVEX///9jY2MJCQkNDQ0rKysP\n",
       "Dw8WFhbMzMyYmJjc3NyIiIhUVFR2dna6urqqqqpmZmYyMjIiIiIQEBBERETu7u4AAABFOUn+AAAA\n",
       "AXRSTlMAQObYZgAAAWJJREFUOMullemWhSAIgJ1VBXfx/V91zMq0tNs9w4+OFn4sAjE2E95vhRXs\n",
       "lXALdK/h2w05xZ6IDqsvFIMfWcXOz8SeiXXbwtnRV93u1GHXhLsQq2Iyr6KvuoQK0xOovmiJ6H9/\n",
       "vBt7Kh5B1SmlPOY7jJKx/0AdAljTXDQtD/YcKq2ysGVahRWSMoVS9QyXFUB/Dt0cqkM+4VJXJqYo\n",
       "pUqJxfv+oAl8CqWwdIWNXSmVyqK0FzcPzrnvr/xwR5K9ZFOoLXtfncJlWdC6lpVcTCozbpQRNMTi\n",
       "1K7gStMkUc2tSpciXczHGXSN0aS+9ZLe87KFA0zbaaMMoGa9SCOb28fMiy3FG+Q3UFihuWi2i80p\n",
       "FB6ZahXJguqmGuGnphnUYkiuTEHvaVMH4BJBDzvpCPBDRe9nbXrUGd0NlLOcWrRJVf+OvQGlOHD+\n",
       "Ok8JbufpSWD037hOfjGe/HoS/fCteeMf9QfZXxQDAVkRigAAAABJRU5ErkJggg==\n",
       "\" style=\"display:inline;vertical-align:middle;\" /></a> <a class=\"ProveItLink\" href=\"../__pv_it/demonstrations/d3d33128cdef554e050f20913770aeefa0daae870/proof.ipynb\" style=\"text-decoration: none\">&nbsp;&#x22A2;&nbsp;&nbsp;</a><a class=\"ProveItLink\" href=\"../__pv_it/demonstrations/9bc545dfd2cb960142869b81c4248221b8b7935e0/expr.ipynb\"><img src=\"data:image/png;base64,iVBORw0KGgoAAAANSUhEUgAAAOEAAAAVBAMAAABCnpRGAAAAMFBMVEX///+IiIi6urrc3NxERETM\n",
       "zMwQEBCqqqpUVFQiIiJ2dnYyMjLu7u5mZmaYmJgAAABN0h6tAAAAAXRSTlMAQObYZgAAApdJREFU\n",
       "SMellk1oE0EUx1821iS7kyUKehDFnnLysEc9CBG89FBYqFehqBWEogGhp5YmIGItGMWLAcEtSKhC\n",
       "oUcphmxBpCCSFgTF2pqrB0msSNEW685+zLyZ2aQa5zA7++a9/29m980HAJib0LVcPB5n/dqCvsrA\n",
       "mksfZKmXU95WbW8c6LNoY7Q2O718souqrb2f8KtrYYNsnBdHvE4r/b5XpcbVON/m90rlGa0mXLWD\n",
       "2erhcwX0LTWUaq7M7yrhga0LkdytKERk2w6fnwCuxhPBVImBjRHNoWq1avOwdswcI5sWqXlft2L1\n",
       "SUwuWWJYLyIbZsOFir0f8ezCURcTR4OXjAVdiMmPa+MS0SifKEbOT1ysW6PN9CImapehgecYZfJ7\n",
       "NNBZgZi3jI5EbL4k3yO9X4Kun+YTNia+bsE7TIzSDiVQagyrk+uQLUjEaRe+haZMSdA1VgEuPARM\n",
       "/OzCA4GY9l+TJb5xDFlYPbsLmZxEXAcSTg02JN2ZXLirMOIVID8E4otgJgV544jUDxagaUvEOmjh\n",
       "+kisiroGHXm6gIje2FKduP+Il+Ut4Z85MC3n6m86c79MQdLCum0lV8m2l0k3Y3J1DrrkarMIsylL\n",
       "JG7R3+b/AQcSFtatMWLCU2/SpD0HX0oO2YHQxpaWUZSIJ13w3Q7kzEd6EMts92A4aJx5vjCDdNF6\n",
       "zN7e2YTMY7q3HRopD0LVDW2MSO6cEogfbtRbvhspHzl9OIhltrfHvCnSRmNv7yfWRTuAXyb5AmAb\n",
       "CusdeCrucqIbj2U23jkp7zmj0Ss/9nRQiKjUVDceq6udjkRk5yPJsY7lvzsfuRuPXVYaSDc4HyG6\n",
       "A5i8g98q8oMq0XAUN1MNbal9oF0KPvg/33Om/uee8wdL2wcF+DWp2AAAAABJRU5ErkJggg==\n",
       "\" style=\"display:inline;vertical-align:middle;\" /></a></span>"
      ],
      "text/plain": [
       "{b not-in {1, a}} |- {1, a, 1} proper_subset {1, a, 1, b, 2, a}"
      ]
     },
     "execution_count": 99,
     "metadata": {},
     "output_type": "execute_result"
    }
   ],
   "source": [
    "# but if we supply a single foothold, it will work:\n",
    "# notice we had to supply the NotInSet info in terms of the *reduced*\n",
    "# version of the subset\n",
    "set_1a1b2a.deduce_enum_proper_subset(\n",
    "    subset_indices=[0, 1, 2], assumptions=[NotInSet(b, Set(one, a))])"
   ]
  },
  {
   "cell_type": "code",
   "execution_count": 100,
   "metadata": {},
   "outputs": [
    {
     "data": {
      "text/html": [
       "<span style=\"font-size:20px;\"><a class=\"ProveItLink\" href=\"../__pv_it/demonstrations/dd0e192ceefced5753afe44ed2f23959a67f81500/expr.ipynb\"><img src=\"data:image/png;base64,iVBORw0KGgoAAAANSUhEUgAAADAAAAAPBAMAAABQAFHMAAAAMFBMVEX///9UVFSqqqrMzMwiIiJE\n",
       "RESYmJgyMjK6urru7u4QEBCIiIh2dnZmZmbc3NwAAABRgo0vAAAAAXRSTlMAQObYZgAAAGtJREFU\n",
       "GNNjYCAJMK3ELj7x4E8cOtjwSvDdub0Sq0TXA/YPIM7xchCohUtwLmPgDcCmg/cnA8sGbBJcAQzz\n",
       "DbBJzD/AoM+AsKMQIaHAIM70AIsO1g1sjjzoRnGDXCW9+eEONHFeqe/XcIYjANzPJYStbWOTAAAA\n",
       "AElFTkSuQmCC\n",
       "\" style=\"display:inline;vertical-align:middle;\" /></a> <a class=\"ProveItLink\" href=\"../__pv_it/demonstrations/0b01e9303ba25e436f873f8b3f32f3e396a7e7fb0/proof.ipynb\" style=\"text-decoration: none\">&nbsp;&#x22A2;&nbsp;&nbsp;</a><a class=\"ProveItLink\" href=\"../__pv_it/demonstrations/b4fecff2ec21d6bdeb0edda3a69b810aafe163e60/expr.ipynb\"><img src=\"data:image/png;base64,iVBORw0KGgoAAAANSUhEUgAAAM0AAAAVBAMAAAAX/3cYAAAAMFBMVEX///+IiIi6urrc3NxERETM\n",
       "zMwQEBCqqqpUVFQiIiJ2dnYyMjLu7u5mZmaYmJgAAABN0h6tAAAAAXRSTlMAQObYZgAAAqpJREFU\n",
       "SMedlk1oE0EUx/9JWrfZ7IYgeBOaU88LXqpSzcGLIJiDJ6FQRIuC2JzEg6L1IFShqYjQgGLAIrUg\n",
       "5KYUqhvwEL0kAQWx3RJBPGpRENoU43zuzGY368ccZt6+N//57c6+N7sAspsY2Cb3RzjjBBFtuO3S\n",
       "wVqNmzRWDLniBREteY7d3VZgEe9YYGW7Fn6cAYLUylLJ3wcxvnQniW+dmuYC6YyLItCA+V1fhkWD\n",
       "jbsuu/2CCRi/5JxFMc70dkj/VMoay7sisAFM/wXHul12+wWjJWyLKYnzwliddXQOspJzASg7UZzP\n",
       "lUrlvub65vYLxvLoislHXgjjBusjOK9clIsRnMOP+1ySowv8fav+kUPaI75C6mObvDRzijvvYQBH\n",
       "CYA3VZEpjuTMf3pP+ifUHKkFOckdkdFOZstPLrukOEygcaQAhx4KXx2ScwJH82QuS5xikJPmz2pd\n",
       "gl0g4xp3alvJBBpHCOjrPyO2zecAQ+TpMy3gFNsRjeOJwtlFOkfv/i69GlcYLtA4nopNM6dR1Dj2\n",
       "D9LN5UTFK06ixcc9BTRphCteh44InyMFOACcZNv7VqroFtPqytAnHikEONeQYmnarOK6Kn5935hA\n",
       "caQAPVdwrnjezza/2RrdF/5+gvk2XEWCc0q4Yzgy38zcoHzzBTirZZ6oU5vcYU3kG5MlCKdJ8+jg\n",
       "yrM5Zg3lsoumqp/n/ZxRF1ZXF+ArrZ9mTTBZMNXCF0erH/tWdxPpB7Tser1tZlmz+8b3Kk7jphvg\n",
       "fJhZ66DiagIkvXd5bmGpN8+CmFjeCNQpa1cRtvzo6ePBc4cllhsjVUHBmZKXVYStqHPUF5iIkaog\n",
       "5/ifE8t/18qK//7UESOtK8U6P7ulXq2kFUs+/H30v6cdxEg76iTjx4Txr/8Hxn/8H/wGqEru/grD\n",
       "FtgAAAAASUVORK5CYII=\n",
       "\" style=\"display:inline;vertical-align:middle;\" /></a></span>"
      ],
      "text/plain": [
       "{a = 1} |- {1, 2, a} proper_subset {1, 2, 3, 4, 5}"
      ]
     },
     "execution_count": 100,
     "metadata": {},
     "output_type": "execute_result"
    }
   ],
   "source": [
    "# what if we have a variable in the supposed proper subset and the variable\n",
    "# is equal to a value in the supposed superset?\n",
    "set_12345.deduce_enum_proper_subset(subset=Set(one, two, a), assumptions=[Equals(a, one)])"
   ]
  },
  {
   "cell_type": "code",
   "execution_count": 101,
   "metadata": {},
   "outputs": [
    {
     "data": {
      "text/html": [
       "<span style=\"font-size:20px;\"><a class=\"ProveItLink\" href=\"../__pv_it/demonstrations/dd0e192ceefced5753afe44ed2f23959a67f81500/expr.ipynb\"><img src=\"data:image/png;base64,iVBORw0KGgoAAAANSUhEUgAAADAAAAAPBAMAAABQAFHMAAAAMFBMVEX///9UVFSqqqrMzMwiIiJE\n",
       "RESYmJgyMjK6urru7u4QEBCIiIh2dnZmZmbc3NwAAABRgo0vAAAAAXRSTlMAQObYZgAAAGtJREFU\n",
       "GNNjYCAJMK3ELj7x4E8cOtjwSvDdub0Sq0TXA/YPIM7xchCohUtwLmPgDcCmg/cnA8sGbBJcAQzz\n",
       "DbBJzD/AoM+AsKMQIaHAIM70AIsO1g1sjjzoRnGDXCW9+eEONHFeqe/XcIYjANzPJYStbWOTAAAA\n",
       "AElFTkSuQmCC\n",
       "\" style=\"display:inline;vertical-align:middle;\" /></a> <a class=\"ProveItLink\" href=\"../__pv_it/demonstrations/6633c2d6f1b087a7249d8cb3d48ddea0d4e60df60/proof.ipynb\" style=\"text-decoration: none\">&nbsp;&#x22A2;&nbsp;&nbsp;</a><a class=\"ProveItLink\" href=\"../__pv_it/demonstrations/9bc545dfd2cb960142869b81c4248221b8b7935e0/expr.ipynb\"><img src=\"data:image/png;base64,iVBORw0KGgoAAAANSUhEUgAAAOEAAAAVBAMAAABCnpRGAAAAMFBMVEX///+IiIi6urrc3NxERETM\n",
       "zMwQEBCqqqpUVFQiIiJ2dnYyMjLu7u5mZmaYmJgAAABN0h6tAAAAAXRSTlMAQObYZgAAApdJREFU\n",
       "SMellk1oE0EUx1821iS7kyUKehDFnnLysEc9CBG89FBYqFehqBWEogGhp5YmIGItGMWLAcEtSKhC\n",
       "oUcphmxBpCCSFgTF2pqrB0msSNEW685+zLyZ2aQa5zA7++a9/29m980HAJib0LVcPB5n/dqCvsrA\n",
       "mksfZKmXU95WbW8c6LNoY7Q2O718souqrb2f8KtrYYNsnBdHvE4r/b5XpcbVON/m90rlGa0mXLWD\n",
       "2erhcwX0LTWUaq7M7yrhga0LkdytKERk2w6fnwCuxhPBVImBjRHNoWq1avOwdswcI5sWqXlft2L1\n",
       "SUwuWWJYLyIbZsOFir0f8ezCURcTR4OXjAVdiMmPa+MS0SifKEbOT1ysW6PN9CImapehgecYZfJ7\n",
       "NNBZgZi3jI5EbL4k3yO9X4Kun+YTNia+bsE7TIzSDiVQagyrk+uQLUjEaRe+haZMSdA1VgEuPARM\n",
       "/OzCA4GY9l+TJb5xDFlYPbsLmZxEXAcSTg02JN2ZXLirMOIVID8E4otgJgV544jUDxagaUvEOmjh\n",
       "+kisiroGHXm6gIje2FKduP+Il+Ut4Z85MC3n6m86c79MQdLCum0lV8m2l0k3Y3J1DrrkarMIsylL\n",
       "JG7R3+b/AQcSFtatMWLCU2/SpD0HX0oO2YHQxpaWUZSIJ13w3Q7kzEd6EMts92A4aJx5vjCDdNF6\n",
       "zN7e2YTMY7q3HRopD0LVDW2MSO6cEogfbtRbvhspHzl9OIhltrfHvCnSRmNv7yfWRTuAXyb5AmAb\n",
       "CusdeCrucqIbj2U23jkp7zmj0Ss/9nRQiKjUVDceq6udjkRk5yPJsY7lvzsfuRuPXVYaSDc4HyG6\n",
       "A5i8g98q8oMq0XAUN1MNbal9oF0KPvg/33Om/uee8wdL2wcF+DWp2AAAAABJRU5ErkJggg==\n",
       "\" style=\"display:inline;vertical-align:middle;\" /></a></span>"
      ],
      "text/plain": [
       "{a = 1} |- {1, a, 1} proper_subset {1, a, 1, b, 2, a}"
      ]
     },
     "execution_count": 101,
     "metadata": {},
     "output_type": "execute_result"
    }
   ],
   "source": [
    "# If we have the same variable appearing in both the subset and superset,\n",
    "# even if we then assume the variable has a specific value, we can\n",
    "# run into difficulties. The following works correctly, but took some\n",
    "# work to implement.\n",
    "set_1a1b2a.deduce_enum_proper_subset(\n",
    "        subset_indices=[0, 1, 2], assumptions=[Equals(a, one)])"
   ]
  },
  {
   "cell_type": "code",
   "execution_count": 102,
   "metadata": {},
   "outputs": [
    {
     "name": "stdout",
     "output_type": "stream",
     "text": [
      "Proof Failure: Unable to prove 6 != a assuming {a = 1}:\n",
      "'conclude' method not implemented for proof automation\n"
     ]
    }
   ],
   "source": [
    "# RELATED ISSUE: an interesting failure, where we fail to prove\n",
    "# a simple NotEquals relation under an assumption:\n",
    "try:\n",
    "    NotEquals(six, a).prove(assumptions=[Equals(a, one)])\n",
    "    assert False, \"Should not get to this point.\"\n",
    "except ProofFailure as e:\n",
    "    print(\"Proof Failure: {}\".format(e))"
   ]
  },
  {
   "cell_type": "code",
   "execution_count": 103,
   "metadata": {},
   "outputs": [
    {
     "name": "stdout",
     "output_type": "stream",
     "text": [
      "Proof Failure: Proof step failed assuming {a = 1}:\n",
      "Attempting to instantiate |- forall_{n in Natural} [forall_{x, y_{1}, ..y_{_a}.., y_{n} | x != y_{1}, ..x != y_{i}.., x != y_{n}} (x not-in {y_{1}, ..y_{_a}.., y_{n}})] with {n: 2, x: 5, y: (a, 2), (y_{1}, ..y_{_a}.., y_{2}): (a, 2)}:\n",
      "Unsatisfied condition: 5 != a\n"
     ]
    }
   ],
   "source": [
    "# And the NotEquals error above is probably how/why we get the error\n",
    "# when processing the simple NotInSet here, which works AFTER the 1st try:\n",
    "try:\n",
    "    example_deduction = NotInSet(five, Set(a, two)).prove(assumptions=[Equals(a, one)])\n",
    "    assert False, \"Should not get to this point.\"\n",
    "except ProofFailure as e:\n",
    "    print(\"Proof Failure: {}\".format(e))"
   ]
  },
  {
   "cell_type": "code",
   "execution_count": 104,
   "metadata": {},
   "outputs": [
    {
     "data": {
      "text/html": [
       "<span style=\"font-size:20px;\"><a class=\"ProveItLink\" href=\"../__pv_it/demonstrations/28d07de3e15163755f22862ababb64b5a1860ac70/expr.ipynb\"><img src=\"data:image/png;base64,iVBORw0KGgoAAAANSUhEUgAAADEAAAAUCAMAAAATIyWrAAAAOVBMVEX///8kJCQNDQ0oKChUVFSq\n",
       "qqrMzMwiIiJERESYmJgyMjK6urru7u4QEBCIiIh2dnZmZmbc3NwAAACwiO0fAAAAAXRSTlMAQObY\n",
       "ZgAAAM9JREFUKM+1k8sSwyAIRW3rKyqC/v/HVsiiGluTLMoiM+pcDlyIUqvApO5FCd0hEXlvTxQ6\n",
       "dgLNzBrXCN8dSAoEWCP6GsDJVS1XESrUJArJUggpw2TLtzad6CIUTvGxNEi8nvylQRArsgmwcWP+\n",
       "EkKLCQJy+fBo9SygnQicPdVjRj+bkndBktJMVWMfD9i76UiGBaU0hWHXgjJD0jAhLAqn3fvWwdZa\n",
       "wsEUmqbjEJG0k4XJ2Radh40J03RClXA/xm3o5pZ/QZyEwb8j1PK3eQOFDggVTu+ACgAAAABJRU5E\n",
       "rkJggg==\n",
       "\" style=\"display:inline;vertical-align:middle;\" /></a> <a class=\"ProveItLink\" href=\"../__pv_it/demonstrations/dad96a909d2f882683484b92646529f6d64a458f0/proof.ipynb\" style=\"text-decoration: none\">&nbsp;&#x22A2;&nbsp;&nbsp;</a><a class=\"ProveItLink\" href=\"../__pv_it/demonstrations/9bc545dfd2cb960142869b81c4248221b8b7935e0/expr.ipynb\"><img src=\"data:image/png;base64,iVBORw0KGgoAAAANSUhEUgAAAOEAAAAVBAMAAABCnpRGAAAAMFBMVEX///+IiIi6urrc3NxERETM\n",
       "zMwQEBCqqqpUVFQiIiJ2dnYyMjLu7u5mZmaYmJgAAABN0h6tAAAAAXRSTlMAQObYZgAAApdJREFU\n",
       "SMellk1oE0EUx1821iS7kyUKehDFnnLysEc9CBG89FBYqFehqBWEogGhp5YmIGItGMWLAcEtSKhC\n",
       "oUcphmxBpCCSFgTF2pqrB0msSNEW685+zLyZ2aQa5zA7++a9/29m980HAJib0LVcPB5n/dqCvsrA\n",
       "mksfZKmXU95WbW8c6LNoY7Q2O718souqrb2f8KtrYYNsnBdHvE4r/b5XpcbVON/m90rlGa0mXLWD\n",
       "2erhcwX0LTWUaq7M7yrhga0LkdytKERk2w6fnwCuxhPBVImBjRHNoWq1avOwdswcI5sWqXlft2L1\n",
       "SUwuWWJYLyIbZsOFir0f8ezCURcTR4OXjAVdiMmPa+MS0SifKEbOT1ysW6PN9CImapehgecYZfJ7\n",
       "NNBZgZi3jI5EbL4k3yO9X4Kun+YTNia+bsE7TIzSDiVQagyrk+uQLUjEaRe+haZMSdA1VgEuPARM\n",
       "/OzCA4GY9l+TJb5xDFlYPbsLmZxEXAcSTg02JN2ZXLirMOIVID8E4otgJgV544jUDxagaUvEOmjh\n",
       "+kisiroGHXm6gIje2FKduP+Il+Ut4Z85MC3n6m86c79MQdLCum0lV8m2l0k3Y3J1DrrkarMIsylL\n",
       "JG7R3+b/AQcSFtatMWLCU2/SpD0HX0oO2YHQxpaWUZSIJ13w3Q7kzEd6EMts92A4aJx5vjCDdNF6\n",
       "zN7e2YTMY7q3HRopD0LVDW2MSO6cEogfbtRbvhspHzl9OIhltrfHvCnSRmNv7yfWRTuAXyb5AmAb\n",
       "CusdeCrucqIbj2U23jkp7zmj0Ss/9nRQiKjUVDceq6udjkRk5yPJsY7lvzsfuRuPXVYaSDc4HyG6\n",
       "A5i8g98q8oMq0XAUN1MNbal9oF0KPvg/33Om/uee8wdL2wcF+DWp2AAAAABJRU5ErkJggg==\n",
       "\" style=\"display:inline;vertical-align:middle;\" /></a></span>"
      ],
      "text/plain": [
       "{a != 2} |- {1, a, 1} proper_subset {1, a, 1, b, 2, a}"
      ]
     },
     "execution_count": 104,
     "metadata": {},
     "output_type": "execute_result"
    }
   ],
   "source": [
    "set_1a1b2a.deduce_enum_proper_subset(\n",
    "            subset_indices=[0, 1, 2], assumptions=[NotEquals(a, two)])"
   ]
  },
  {
   "cell_type": "code",
   "execution_count": 105,
   "metadata": {},
   "outputs": [
    {
     "data": {
      "text/html": [
       "<span style=\"font-size:20px;\"><a class=\"ProveItLink\" href=\"../__pv_it/demonstrations/b0745079d371aefa4c92b2e7f73d5abf0c442a1e0/expr.ipynb\"><img src=\"data:image/png;base64,iVBORw0KGgoAAAANSUhEUgAAAFUAAAAVCAMAAAAAc1IEAAAARVBMVEX///8/Pz9vb28YGBgNDQ0r\n",
       "KysPDw8WFhaYmJiqqqqIiIgyMjLc3NwiIiIQEBC6urp2dnZUVFTMzMxERERmZmbu7u4AAABfBXdG\n",
       "AAAAAXRSTlMAQObYZgAAAWlJREFUOMulVUmSwyAMZNaYHYHE/586Ro5tCJA4NTpQQRFtLd0gxNRi\n",
       "u11wEa8soqIXIbbekA7iinm3JUOIKcXBd6HJNItrhppBy+GQff934wpH5tI9LXILRI5x7nkDdlSC\n",
       "APkCquMVsqnLTdbefvU41+UKquYgyGdnYyqDTEb8A/Ve7hlKmngV11ENBlT3doezlz6fvAFOUqn2\n",
       "IOg5qnem1NyRxVYsSrzq9qh0cYpKrsgD032rcScRVjR1erWf73WpOm2NmKIiO+xRHGw/FdY94m8G\n",
       "OZbMCNWVE3SMW291ywJqjmRcT9aSQJqhEs9E5laEkQelDlRc8/c4J0yPKrdpSnNywNgQAkLNMikg\n",
       "zlHVhkp573ta01jWeYdGBWwVKkH6ohkqgsua70RraY9XKhpQvlNBa58fq2StnklmZxu90lZrD2p9\n",
       "kMzhEm+hUup9/f1K6sn9OjA1ekq6t2CZvAV+1oChV77xbv0BtIsVF5JOxIQAAAAASUVORK5CYII=\n",
       "\" style=\"display:inline;vertical-align:middle;\" /></a> <a class=\"ProveItLink\" href=\"../__pv_it/demonstrations/960161f2263eda34f37facc02745920a249831e50/proof.ipynb\" style=\"text-decoration: none\">&nbsp;&#x22A2;&nbsp;&nbsp;</a><a class=\"ProveItLink\" href=\"../__pv_it/demonstrations/3815099fdf1907b51aee59e792e9aa6ad8905dbd0/expr.ipynb\"><img src=\"data:image/png;base64,iVBORw0KGgoAAAANSUhEUgAAAGgAAAAVCAMAAACdfluMAAAAQlBMVEX///9jY2MJCQkNDQ0rKysP\n",
       "Dw8WFhaYmJiqqqqIiIgyMjLc3NwiIiIQEBC6urp2dnZUVFTMzMxERERmZmbu7u4AAAAmYK3VAAAA\n",
       "AXRSTlMAQObYZgAAAYxJREFUSMetVtuWhSAIda6FdwX//1cnbTppQad1ZnhwLQncAhtJKVHSuJ1w\n",
       "Ui9IQqAnJrbfkA7qRfFuvTIh5pyYq8QhnqJeFtQNp54Xij9/HlThEd/s6Nbxu93qi23r3HXmNiCK\n",
       "IZYbQIPd6uvaGosZEpXt95fVbERTuRfRdADSbR9LV6WUF6Jko9S/Av3mqfMmTXVR94EMBoRj6Tqg\n",
       "vS6+dOSNNRaA0S1qGcg7UzMjRtQx1vZUzi2jdKBQEoHI1U7GLAIpjRuTse8fp7X+/FgWvRfNGiUC\n",
       "YVNYkIFUXL8CDgmvVwsz390ckKsOVNJFRGvC5opj9iu7UxPVO2UJiFp956Ke1Sg1HsAOhKA8Ht1k\n",
       "1lGZV7LM5pJ1xoYQMPYh2DkmGQjWA6hsJcxL/qeFTqFXPuy6hm1ih/fj3ZMAhNEV3QaGtbSZAyQT\n",
       "wffK3W5s2EN630K2VniCdspzLwSnlIEOz8+hux8qzpVTikCUuZfrZAWcK4jziBHgZvZpwrKDfWIn\n",
       "rJcyxw+yv/0z/ABNLBdbwpKahQAAAABJRU5ErkJggg==\n",
       "\" style=\"display:inline;vertical-align:middle;\" /></a></span>"
      ],
      "text/plain": [
       "{2 not-in {1, a}} |- 2 not-in {1, a, 1}"
      ]
     },
     "execution_count": 105,
     "metadata": {},
     "output_type": "execute_result"
    }
   ],
   "source": [
    "# Related: note that Prove-It will automatically deduce various\n",
    "# non-membership claims:\n",
    "NotInSet(two, Set(one, a, one)).prove(assumptions=[NotInSet(two, Set(one, a))])"
   ]
  },
  {
   "cell_type": "code",
   "execution_count": 106,
   "metadata": {},
   "outputs": [
    {
     "data": {
      "text/html": [
       "<span style=\"font-size:20px;\"><a class=\"ProveItLink\" href=\"../__pv_it/demonstrations/3815099fdf1907b51aee59e792e9aa6ad8905dbd0/expr.ipynb\"><img src=\"data:image/png;base64,iVBORw0KGgoAAAANSUhEUgAAAGgAAAAVCAMAAACdfluMAAAAQlBMVEX///9jY2MJCQkNDQ0rKysP\n",
       "Dw8WFhaYmJiqqqqIiIgyMjLc3NwiIiIQEBC6urp2dnZUVFTMzMxERERmZmbu7u4AAAAmYK3VAAAA\n",
       "AXRSTlMAQObYZgAAAYxJREFUSMetVtuWhSAIda6FdwX//1cnbTppQad1ZnhwLQncAhtJKVHSuJ1w\n",
       "Ui9IQqAnJrbfkA7qRfFuvTIh5pyYq8QhnqJeFtQNp54Xij9/HlThEd/s6Nbxu93qi23r3HXmNiCK\n",
       "IZYbQIPd6uvaGosZEpXt95fVbERTuRfRdADSbR9LV6WUF6Jko9S/Av3mqfMmTXVR94EMBoRj6Tqg\n",
       "vS6+dOSNNRaA0S1qGcg7UzMjRtQx1vZUzi2jdKBQEoHI1U7GLAIpjRuTse8fp7X+/FgWvRfNGiUC\n",
       "YVNYkIFUXL8CDgmvVwsz390ckKsOVNJFRGvC5opj9iu7UxPVO2UJiFp956Ke1Sg1HsAOhKA8Ht1k\n",
       "1lGZV7LM5pJ1xoYQMPYh2DkmGQjWA6hsJcxL/qeFTqFXPuy6hm1ih/fj3ZMAhNEV3QaGtbSZAyQT\n",
       "wffK3W5s2EN630K2VniCdspzLwSnlIEOz8+hux8qzpVTikCUuZfrZAWcK4jziBHgZvZpwrKDfWIn\n",
       "rJcyxw+yv/0z/ABNLBdbwpKahQAAAABJRU5ErkJggg==\n",
       "\" style=\"display:inline;vertical-align:middle;\" /></a> <a class=\"ProveItLink\" href=\"../__pv_it/demonstrations/fbd4d1be501b88a4557d7df2ba3c91aa39b5caf50/proof.ipynb\" style=\"text-decoration: none\">&nbsp;&#x22A2;&nbsp;&nbsp;</a><a class=\"ProveItLink\" href=\"../__pv_it/demonstrations/b0745079d371aefa4c92b2e7f73d5abf0c442a1e0/expr.ipynb\"><img src=\"data:image/png;base64,iVBORw0KGgoAAAANSUhEUgAAAFUAAAAVCAMAAAAAc1IEAAAARVBMVEX///8/Pz9vb28YGBgNDQ0r\n",
       "KysPDw8WFhaYmJiqqqqIiIgyMjLc3NwiIiIQEBC6urp2dnZUVFTMzMxERERmZmbu7u4AAABfBXdG\n",
       "AAAAAXRSTlMAQObYZgAAAWlJREFUOMulVUmSwyAMZNaYHYHE/586Ro5tCJA4NTpQQRFtLd0gxNRi\n",
       "u11wEa8soqIXIbbekA7iinm3JUOIKcXBd6HJNItrhppBy+GQff934wpH5tI9LXILRI5x7nkDdlSC\n",
       "APkCquMVsqnLTdbefvU41+UKquYgyGdnYyqDTEb8A/Ve7hlKmngV11ENBlT3doezlz6fvAFOUqn2\n",
       "IOg5qnem1NyRxVYsSrzq9qh0cYpKrsgD032rcScRVjR1erWf73WpOm2NmKIiO+xRHGw/FdY94m8G\n",
       "OZbMCNWVE3SMW291ywJqjmRcT9aSQJqhEs9E5laEkQelDlRc8/c4J0yPKrdpSnNywNgQAkLNMikg\n",
       "zlHVhkp573ta01jWeYdGBWwVKkH6ohkqgsua70RraY9XKhpQvlNBa58fq2StnklmZxu90lZrD2p9\n",
       "kMzhEm+hUup9/f1K6sn9OjA1ekq6t2CZvAV+1oChV77xbv0BtIsVF5JOxIQAAAAASUVORK5CYII=\n",
       "\" style=\"display:inline;vertical-align:middle;\" /></a></span>"
      ],
      "text/plain": [
       "{2 not-in {1, a, 1}} |- 2 not-in {1, a}"
      ]
     },
     "execution_count": 106,
     "metadata": {},
     "output_type": "execute_result"
    }
   ],
   "source": [
    "# Related: note that Prove-It will automatically deduce various\n",
    "# non-membership claims:\n",
    "NotInSet(two, Set(one, a)).prove(\n",
    "        assumptions=[NotInSet(two, Set(one, a, one))])"
   ]
  },
  {
   "cell_type": "code",
   "execution_count": 107,
   "metadata": {},
   "outputs": [
    {
     "data": {
      "text/html": [
       "<span style=\"font-size:20px;\"> <a class=\"ProveItLink\" href=\"../__pv_it/demonstrations/8424903ef2fdb3ac54fdc5940775e1acfc48a0060/proof.ipynb\" style=\"text-decoration: none\">&nbsp;&#x22A2;&nbsp;&nbsp;</a><a class=\"ProveItLink\" href=\"../__pv_it/demonstrations/89638d3a49326f028fada5dd051a6b3aa951d3000/expr.ipynb\"><img src=\"data:image/png;base64,iVBORw0KGgoAAAANSUhEUgAAAM0AAAAVBAMAAAAX/3cYAAAAMFBMVEX///+IiIi6urrc3NxERETM\n",
       "zMwQEBCqqqpUVFQiIiJ2dnYyMjLu7u5mZmaYmJgAAABN0h6tAAAAAXRSTlMAQObYZgAAAhZJREFU\n",
       "SMedlj9IAlEcx39qpl7nn6kpyKktcOzPIhFE2w1NQSBCQSDU1FQUDYEtFtJgBAlBpBC4FYFk0OCW\n",
       "bUEqDu1Gi5SC+c67937v7r2DesP5va/vc9+7d7/33gFAqAnStjYhMJ0AQfO+VsiP+uDUaUqzWc6A\n",
       "oLnX9bv75C7SWNSwCpbsjyMBWJsrLnHn7+SgnAwOvpRhVUH5wkr/l28ygHqeGuy3DG+HjFnBxKo3\n",
       "PcOvA2xgJckRAdRzdSA8xNTjDJcDIRPbBMjEkKI5H7lc7gycAOq5kxA2h7styXmsQEZDysyZv+LH\n",
       "TQAwD9i4yXIG7bKClJIYyixIchDAPPUccM41Uf4Sj7l/sDKKK7jNLisFqOcp1Lmctl4RGo8FDjhV\n",
       "HkpUB1IAeeNRnDNWA1jJWro0eOU/JccZFiMHkDeawjmQjhgznnVx1Xh1r+tn6xIhAkzPE4ORDvc8\n",
       "5In9cQ7bI92YMt4PHjcpYHrhniWnbS8fbx5cMaSMelMisnpjAPVG4xDo2epNx1wD/4XU0WzxNo0U\n",
       "nT93lhwBQL1QazB/1K7eeZKbP8GjbhMCF2Ta9fvfSNGc6mEF54gA5k03FgByBHjbKrfwPNXbLtgV\n",
       "/Xd1mVt3pABVPnpjRk7CPM2DXYnWUUeAKgX4HLqdqPRdM+W4/4gApp4s+w+Y22OIXQlNlqh9f3QC\n",
       "mGqxhSk5HMi/fh/4/vF98AtSwu4F4MuiHAAAAABJRU5ErkJggg==\n",
       "\" style=\"display:inline;vertical-align:middle;\" /></a></span>"
      ],
      "text/plain": [
       "|- {1, 2, 2} proper_subset {1, 2, 1, 3, 1}"
      ]
     },
     "execution_count": 107,
     "metadata": {},
     "output_type": "execute_result"
    }
   ],
   "source": [
    "# deducing a proper subset of a Set with redundant subset elements specified\n",
    "set_12131.deduce_enum_proper_subset(subset=Set(one, two, two))"
   ]
  },
  {
   "cell_type": "code",
   "execution_count": 108,
   "metadata": {},
   "outputs": [
    {
     "data": {
      "text/html": [
       "<span style=\"font-size:20px;\"> <a class=\"ProveItLink\" href=\"../__pv_it/demonstrations/35a58bf6348baf962e42619c14356cf70f5598770/proof.ipynb\" style=\"text-decoration: none\">&nbsp;&#x22A2;&nbsp;&nbsp;</a><a class=\"ProveItLink\" href=\"../__pv_it/demonstrations/6740fa5ba69ed7cdd5cb915529228dbc6bb296a60/expr.ipynb\"><img src=\"data:image/png;base64,iVBORw0KGgoAAAANSUhEUgAAAJsAAAAVBAMAAACj9YEXAAAAMFBMVEX///+IiIi6urrc3NxERETM\n",
       "zMwQEBCqqqpUVFQiIiJ2dnYyMjLu7u5mZmaYmJgAAABN0h6tAAAAAXRSTlMAQObYZgAAAfBJREFU\n",
       "OMudlT9IQkEcx79qmZqmU1NQU1vg2J9FIoi2hqYgEKEgEGpqKoqGwBaLaDCChCAyCNqKQHxCQ1u2\n",
       "BWm8oV1pkVKwe3fnu3d3StgN937ve/c+9/vd7+73AAx9YGUEeiN6L63/1bAewUfSjS9qw1TvpblX\n",
       "qRM10oXudOdqErwyp604fTMvvb9bXeCo3cmNSVsGe3tG4IsPDCTZ01PCrsk1Oi33Fy54mOa4MrDG\n",
       "wddNZrjqCLPP+LQOuM9MJnPq8K7KcetAOsp3gePcCYTbe1TtjJu5VIJt4woG0osyjjQ7WBUXZ/IJ\n",
       "uuBIuzBUXPAMTtyVZfnuRBpDmwJHdQfO/QMF58mVJVyVJoXGkKeq35EKpgucfw9asMNjTtxgCVhi\n",
       "8fmOrX5S0LgucBXoOG/SiUMq0r4QD1R9cng3LnvnKqk4TxR9dck7y39fTOydM1iqC9yO9bmECzcV\n",
       "XFXNbCDSLbP9WbgUnDcGf1PLrHTu7lXcqIFggzynbm5TeKHJdhGGZQ2Z5NzRQTqt0zF+3jck3NtG\n",
       "3kSGaIVW6xv+c+swHTQ+mDVRmQUdZNM6XbLlBfmS0TtvL7ENzRKDHBfvUgLitmVrWd0Sgwz3d70r\n",
       "2pcqoltFpd6BVuMxvbra1di0V4BumaIaJ1j0Xf4VA//4V/wCYP23el0hVxAAAAAASUVORK5CYII=\n",
       "\" style=\"display:inline;vertical-align:middle;\" /></a></span>"
      ],
      "text/plain": [
       "|- {} proper_subset {1, 2, 1, 3, 1}"
      ]
     },
     "execution_count": 108,
     "metadata": {},
     "output_type": "execute_result"
    }
   ],
   "source": [
    "# Also works OK when the subset is the empty set\n",
    "set_12131.deduce_enum_proper_subset(subset=empty_set)"
   ]
  },
  {
   "cell_type": "code",
   "execution_count": 109,
   "metadata": {},
   "outputs": [
    {
     "name": "stdout",
     "output_type": "stream",
     "text": [
      "Proof Failure: Specified subset {} does not appear to be a proper subset of the original set {}. All of the superset elements appear in the specified subset.\n"
     ]
    }
   ],
   "source": [
    "# Although the empty set {} is an improper subset of itself\n",
    "# and the empty set is a proper subset of any non-empty set,\n",
    "# the empty set is not a proper subset of itself\n",
    "try:\n",
    "    empty_set.deduce_enum_proper_subset(subset=empty_set)\n",
    "    assert False, \"Should not make it to the point.\"\n",
    "except ValueError as e:\n",
    "    print(\"Proof Failure: {}\".format(e))"
   ]
  },
  {
   "cell_type": "code",
   "execution_count": 110,
   "metadata": {},
   "outputs": [
    {
     "name": "stdout",
     "output_type": "stream",
     "text": [
      "Index Error: Index or indices out of bounds: {6}. Subset indices should be elements of {0, 1, 2, 3, 4, 5}.\n"
     ]
    }
   ],
   "source": [
    "# supplying incorrect (out-of-bound) indices for subset\n",
    "# should give an informative error\n",
    "try:\n",
    "    set_1a2b3c.deduce_enum_proper_subset(subset_indices=[2, 6, 0])\n",
    "except IndexError as e:\n",
    "    print(\"Index Error: {}\".format(e))"
   ]
  },
  {
   "cell_type": "code",
   "execution_count": 111,
   "metadata": {},
   "outputs": [
    {
     "name": "stdout",
     "output_type": "stream",
     "text": [
      "Value Error: Specified subset {a, B, 2, d} does not appear to be a subset of the original set {1, a, 2, b, 3, c}. The following elements appear in the requested subset Set but not in the original Set: {d, B}.\n"
     ]
    }
   ],
   "source": [
    "# supplying incorrect elements for subset\n",
    "# should give an informative error\n",
    "try:\n",
    "    set_1a2b3c.deduce_enum_proper_subset(subset=Set(a, B, two, d))\n",
    "except ValueError as e:\n",
    "    print(\"Value Error: {}\".format(e))"
   ]
  },
  {
   "cell_type": "code",
   "execution_count": 112,
   "metadata": {},
   "outputs": [
    {
     "name": "stdout",
     "output_type": "stream",
     "text": [
      "Value Error: Specified subset {1, 2, 3, 4, 5, 6} does not appear to be a subset of the original set {1, 2, 3}. The following elements appear in the requested subset Set but not in the original Set: {6, 4, 5}.\n"
     ]
    }
   ],
   "source": [
    "# Switching the subset and superset should give an error\n",
    "try:\n",
    "    set_123.deduce_enum_proper_subset(subset=set_123456)\n",
    "    assert False, \"Should not make it to this point!\"\n",
    "except ValueError as e:\n",
    "    print(\"Value Error: {}\".format(e))"
   ]
  },
  {
   "cell_type": "markdown",
   "metadata": {},
   "source": [
    "### Testing the `reduction()` method\n",
    "\n",
    "The <span style=\"font-family:courier\">Set.reduction()</span> method has the following format:<br/>\n",
    "    <div style=\"width: 50%; border: 1px solid green; padding: 5px; margin: 20px; background-color: gainsboro; font-family:courier\">reduction(self, assumptions=USE_DEFAULTS)</div>\n",
    "and attempts to deduce that the Set expression is equal to the Set's support -- i.e. equal to a Set with all multiplicities reduced to 1. The resulting support Set maintains the original order of all 1st-appearing elements in the Set."
   ]
  },
  {
   "cell_type": "code",
   "execution_count": 113,
   "metadata": {},
   "outputs": [
    {
     "data": {
      "text/html": [
       "<a class=\"ProveItLink\" href=\"../__pv_it/demonstrations/dbb9f9f617a7628c67aa9331ae866f21b5391c170/expr.ipynb\"><img src=\"data:image/png;base64,iVBORw0KGgoAAAANSUhEUgAAAGsAAAAVBAMAAACzuQ2OAAAAMFBMVEX///+IiIi6urrc3NxERETM\n",
       "zMwQEBCqqqpUVFQiIiJ2dnYyMjLu7u5mZmaYmJgAAABN0h6tAAAAAXRSTlMAQObYZgAAAW1JREFU\n",
       "OMtjYGDgu8dACmC9eABE8exiIA0wpYJIvg/IYjx3XQLQ1Vmtckfh3wYRXBOABHsOVOgEA9cnKBMm\n",
       "xnyBof4BVKwM5MCVMG0nVvyBit9hYEiDGgATY/zOwD8B4pSufhRtDHwwbZkMDP0GECZMjCmJgX8D\n",
       "VPo9Dm37DzD0B6BqAwK4I3FpA4L5B9C18cxiQNa2DMTi2ICqjekXA5o25pV3ULS9BwdOAKo2zgYG\n",
       "DEeKKSBr477AwBAyGU3JXQZMbWw5yNoYOgUYGNRQbWO8gK6N2YCB5TuKbSD3cDigaKsFKUPRxv8H\n",
       "Tdt7zJBkXcDAiKaNzYGB8w9GSIK1MQLFz4OC1HLV2k4ICy7G9wAYbzy/wdrkUeKNt+33PQbOOaDo\n",
       "/v//J4SFENO968TAMBOk4Ub+3gfI0Q0GNQx4WOwH4GIQbQkw7gIGPCwuBlRt8PzGI8CAh3UQLb8x\n",
       "wHI3H1wcG+sBIvUlQVxNRlkCABmCiRBKMfwWAAAAAElFTkSuQmCC\n",
       "\" style=\"display:inline;vertical-align:middle;\" /></a>"
      ],
      "text/plain": [
       "{1, 2, 1, 3, 1}"
      ]
     },
     "metadata": {},
     "output_type": "display_data"
    },
    {
     "data": {
      "text/html": [
       "<a class=\"ProveItLink\" href=\"../__pv_it/demonstrations/a530f993ccda283bd182b5f07ac970c97e4c3fa80/expr.ipynb\"><img src=\"data:image/png;base64,iVBORw0KGgoAAAANSUhEUgAAAH8AAAAVBAMAAACd/CwcAAAAMFBMVEX///+IiIi6urrc3NxERETM\n",
       "zMwQEBCqqqpUVFQiIiJ2dnYyMjLu7u5mZmaYmJgAAABN0h6tAAAAAXRSTlMAQObYZgAAAaRJREFU\n",
       "OMullL1LAzEYxp+eSL/Soy4Ogujk3NVBUHAVCvoHiF8gCAqCk2K7CHWwipMg2KmoUHAWSyOIdJFW\n",
       "cBBqa1en1ooUrViTu8Tm7qSFmiF57s2TX95cPgDoJXRXeu8pb8glui3aIq/1aiffzbIQpDgZtvQU\n",
       "eOXb5/UGdYxzr0iVFm0WvprFciYBZDfuAGRPv6Ssi/YJWPobAFScGegSoEnBlhIPdQEwHaxkKOLh\n",
       "ToCxVD+1AfzRwTU55ISqtiSXngsVoM0jY88gd0Xe5Go+LbaK8f/DKuC2jAc7YJviVUhvxGLz54GZ\n",
       "Q6iAZ4oDO6AAIiZGEVZbLAiMWDJYAHm3A9LQxEa68rDY/Dwhz7gCYFO5q3bANwJCbqEnpNoqjl0g\n",
       "dfZT122AGl+ycXsScIVUW7IFGKIgDdZO4CWSMBRcDJDjW7SHKbNz9DwVM0OGTT0Hj6vpMo5YFtm+\n",
       "6eiwoQI7jRK8x6zzboAlwEOZZvPDDJk29SAZt4c61WabkATMyk8fnCrRJiQArffgGg5Fgm1C4j3A\n",
       "74tUhkPp7ULQ5szV/etN/AGTuKTS3QUgKgAAAABJRU5ErkJggg==\n",
       "\" style=\"display:inline;vertical-align:middle;\" /></a>"
      ],
      "text/plain": [
       "{1, a, 1, b, 2, a}"
      ]
     },
     "metadata": {},
     "output_type": "display_data"
    }
   ],
   "source": [
    "# A reminder of some Sets with (apparent) multiplicities\n",
    "display(set_12131)\n",
    "display(set_1a1b2a)"
   ]
  },
  {
   "cell_type": "code",
   "execution_count": 114,
   "metadata": {},
   "outputs": [
    {
     "data": {
      "text/html": [
       "<span style=\"font-size:20px;\"> <a class=\"ProveItLink\" href=\"../__pv_it/demonstrations/63b0aab1ebd4524e049d4ae421fd644a62b2430b0/proof.ipynb\" style=\"text-decoration: none\">&nbsp;&#x22A2;&nbsp;&nbsp;</a><a class=\"ProveItLink\" href=\"../__pv_it/demonstrations/f945cee528324ee5edb8709c6fbaa95552f2f6970/expr.ipynb\"><img src=\"data:image/png;base64,iVBORw0KGgoAAAANSUhEUgAAAM0AAAAVBAMAAAAX/3cYAAAAMFBMVEX///+IiIi6urrc3NxERETM\n",
       "zMwQEBCqqqpUVFQiIiJ2dnYyMjLu7u5mZmaYmJgAAABN0h6tAAAAAXRSTlMAQObYZgAAAidJREFU\n",
       "SMetlsFLG0EUh39JNBs3m41Q8Cb15K000FN7kqIUbzl48iSCgiD05klpDlKwPWShl1YKzSmYQNGz\n",
       "Im5vgogreBA0kn+gWFpEWgPr7mxmMm923Y3QdwhvXvbbb2cyL7MAzCs8JgZP7Yjqz3YSYOzicZFe\n",
       "CNeOaomA+UuuGa3Jsnrdq+YbMr4I3+qajI7PpgjKAN3yPrTl7heH0H93U17LOHjHV2XFX4JG2NOQ\n",
       "AaOC7TEZbXDP4VanC1wCi10jr6VuUbSCG3yoxngEULCRnZNR4YHJPUtAtRSkvJaeR3GHr0/cfDiQ\n",
       "tZD7I6MRngMb1TL1eCHWrS9PvoPcjYxGeLz4ZqseYxOyp57g8WKoI6MMyO3QS9L/oHgyjUviCTaX\n",
       "vsfCYYOPiud5TUYZsFJWHqWC0LqNjMmevKNOR1tQgM8E9YGZT8olLYQ92WXZg41hpeOnSxQoOBT1\n",
       "gXE6n5SjejIlDNyS+VQe6Hhxk1EQlAG5CXLJmv8l8RQ7iof8PoFznXg0By9k9Dq83wZrSCme7ERv\n",
       "+/S332aBJzJaF56UNzrxN97L5veNIBM1s+01gXHHwKdx/cOBzGbz3GIAQ6X+Kby/u8LQV79PXfdv\n",
       "kPVqz1qvgS++4fztfvtBjwDyrutaAcBQqU9ZrCIm02z68BHziQf0OT7snSERmY44Tz0ZEOePIboi\n",
       "KvvR3/kTA/Dz1BT1qKx3Lnt/wqHI15IB7X+8H6wlvB/cA/gr8NqhtMxeAAAAAElFTkSuQmCC\n",
       "\" style=\"display:inline;vertical-align:middle;\" /></a></span>"
      ],
      "text/plain": [
       "|- {1, 2, 1, 3, 1} = {1, 2, 3}"
      ]
     },
     "execution_count": 114,
     "metadata": {},
     "output_type": "execute_result"
    }
   ],
   "source": [
    "set_12131.reduction()"
   ]
  },
  {
   "cell_type": "code",
   "execution_count": 115,
   "metadata": {},
   "outputs": [
    {
     "data": {
      "text/html": [
       "<span style=\"font-size:20px;\"> <a class=\"ProveItLink\" href=\"../__pv_it/demonstrations/0b41173ef2e7e813d9ecfa826b8e2d37e0a0a35c0/proof.ipynb\" style=\"text-decoration: none\">&nbsp;&#x22A2;&nbsp;&nbsp;</a><a class=\"ProveItLink\" href=\"../__pv_it/demonstrations/0c9beab9134d515c0d2a0a6dfae5be4834de0edd0/expr.ipynb\"><img src=\"data:image/png;base64,iVBORw0KGgoAAAANSUhEUgAAAPMAAAAVBAMAAABhxcWTAAAAMFBMVEX///+IiIi6urrc3NxERETM\n",
       "zMwQEBCqqqpUVFQiIiJ2dnYyMjLu7u5mZmaYmJgAAABN0h6tAAAAAXRSTlMAQObYZgAAAs1JREFU\n",
       "SMetVk1oE0EUfklqstlMfqroQSzm1GsCXvQgRFBvQkBPghD8A0E0IHhSml4KVTApXqoI5iSmUO2x\n",
       "VEO2INJLSQIFi7U1V0/GllI0wTgzO7Mzu7NJluAcspNv3vu+fT8zswAQ24HRxrUTLqAntkNNgzzQ\n",
       "Cow6JrMK5JHNf4u+ZnuY3ac7nHf7vE0suqQG3YcNXSyx2frGBfy7RaY6wUJ3VWuBVdlzDfRd2UIv\n",
       "KU4m9NBQFiIN9g4FeJ8EqHDjtbddxVbCDtjzG8BtD9LoSVGVjudZpgwI5iRpiHVdGoZjfj7BiS+m\n",
       "vUT9U5VOMShYAm3Ps7SlUDOgmB1RusIT3wVt31367OIxwyEdmZ7I8+XX5mLgaxN3gp4bJi3Ylse/\n",
       "cJswJn5DJtqSLbk3oOaMuv4R7fHlP2xbpSNtq531D3Q0LDZLWrChjlHntUqVsQXtxqws87kFG07p\n",
       "KQN+8RcumET3IJqRWl8MymZJC7ZQF+IJZjPPGv7Kc5vMdwPmnNJbgFiwsM3atAthQqTNOZRNNkta\n",
       "sOEjoF5mU5qe2QQ7kiyZm4D2ndJV8LPt5WObM5iBOnFb7nPAcWnBhqNMsYaZoP9J+rSMJIPDC7Wd\n",
       "0n9JlHQ8hgAtGA5gCpy1prWgbFxaYou3SApo6htwitXa1uHoADfKA4f0LqkZPfXL4DOl8/A0lB7a\n",
       "4RJbPIn7g46rAEdYh1NjH5apk+Y8Bz8KZdQBGXsGl4BCZxYWZyk0lojN6wP29UnDdBBsWmusQV0D\n",
       "Lxc2S9K+js50diD8ihyf45enk/DCkLH14zhoAtV6vd8UQtNHTx/uL715v9qiDoINNd8BdY30ej1Z\n",
       "2hyPxM1hKJgL1D9qu4ObqyltFawsCEDBXCBX6Zzq4OZasd2wKGEtrIKCuUCD7+vVQWzmfQ38uyIm\n",
       "CFqgYC4QTCbVS2dFcXBz9V83S/Ffv81Cnr/N/gFKoBhwhij3PQAAAABJRU5ErkJggg==\n",
       "\" style=\"display:inline;vertical-align:middle;\" /></a></span>"
      ],
      "text/plain": [
       "|- {1, a, 1, b, 2, a} = {1, a, b, 2}"
      ]
     },
     "execution_count": 115,
     "metadata": {},
     "output_type": "execute_result"
    }
   ],
   "source": [
    "set_1a1b2a.reduction()"
   ]
  },
  {
   "cell_type": "code",
   "execution_count": 116,
   "metadata": {},
   "outputs": [
    {
     "data": {
      "text/html": [
       "<span style=\"font-size:20px;\"> <a class=\"ProveItLink\" href=\"../__pv_it/demonstrations/b9402c96e3319299f6a8a8c2bb04c8d692d6b21f0/proof.ipynb\" style=\"text-decoration: none\">&nbsp;&#x22A2;&nbsp;&nbsp;</a><a class=\"ProveItLink\" href=\"../__pv_it/demonstrations/5e4e5a62a298159fda4b06577d887c070dfd8e6c0/expr.ipynb\"><img src=\"data:image/png;base64,iVBORw0KGgoAAAANSUhEUgAAAKUAAAAVBAMAAADVzzOcAAAAMFBMVEX///+IiIi6urrc3NxERETM\n",
       "zMwQEBCqqqpUVFQiIiJ2dnYyMjLu7u5mZmaYmJgAAABN0h6tAAAAAXRSTlMAQObYZgAAAX5JREFU\n",
       "OMtjYGDgu8eAC7BePIBFlLAGnl0MuAFTKqYYERr4PqBouOsSAGFZrXIHkrexOJOwBq4JQII9B6rk\n",
       "BAPXJzCD+QJD/QMGhpWYZhKhAaTkxIo/UCV3GBjSwAzG7wz8E3CaSUAD2Fo+mJJMBoZ+A3DAJDHw\n",
       "b8DtTvwaUJXsP8DQDw0fvH7HrwFVCRDMh6YfnllAYhkhM7Fq4NiAqoTpF4RmXgkMKob3EM7q3SCw\n",
       "l4FIDWUBqEo4G2AsMQUGBu4LGO4krCFkMgOqkrtwFhsovXQKoBlJjAY1VGsZoQ5jNmBg+Q60tgHD\n",
       "nURo4HBAUVILkgQC/j9gJSjhuQMSnoQ1oEYj6wIGRrASNgcGzj9ExDtWDWAljEDeeVB8Wq5a2wlm\n",
       "8T3Amz7xawAp4W37fY+Bcw4oCf///xPC0r3rxIDTTAIawNaCQQ0DJguXO/Fr4EqAcRcwYLKwmUlY\n",
       "A7w45IGnRAQLb/mJRwOs2OZD6ELkuyQsZTkRGthJrY8IaQAAQS/AclBf+rUAAAAASUVORK5CYII=\n",
       "\" style=\"display:inline;vertical-align:middle;\" /></a></span>"
      ],
      "text/plain": [
       "|- {1, 2, 3} = {1, 2, 3}"
      ]
     },
     "execution_count": 116,
     "metadata": {},
     "output_type": "execute_result"
    }
   ],
   "source": [
    "set_123.reduction()"
   ]
  },
  {
   "cell_type": "code",
   "execution_count": 117,
   "metadata": {},
   "outputs": [
    {
     "data": {
      "text/html": [
       "<span style=\"font-size:20px;\"> <a class=\"ProveItLink\" href=\"../__pv_it/demonstrations/9eb902cd53d68eed69afffea865a09f28a2263ef0/proof.ipynb\" style=\"text-decoration: none\">&nbsp;&#x22A2;&nbsp;&nbsp;</a><a class=\"ProveItLink\" href=\"../__pv_it/demonstrations/a22ec71647325e9701f6e71935d0332bf4e0eacc0/expr.ipynb\"><img src=\"data:image/png;base64,iVBORw0KGgoAAAANSUhEUgAAAEMAAAAVBAMAAADvM06qAAAAMFBMVEX///+IiIi6urrc3NxERETM\n",
       "zMwQEBCqqqpUVFQiIiJ2dnYyMjLu7u5mZmaYmJgAAABN0h6tAAAAAXRSTlMAQObYZgAAAKtJREFU\n",
       "KM9jYGDgu8cQK8OABbx9wHrxAIjBswtIqAVgqji9gIGBKRXE4vsAJHg3YCp5DyJugwiuCTACDayE\n",
       "E3RWkoBDyTIQwbEB5i2gyt1gcAHM6YZ7qwwcJHsxDGEHBwk3UHnIZLAAx0Q0FayeBmC6UwAWsDsw\n",
       "TIEELHcDSL8DhlsawJwWuFuI8BH9QjcBh5JlcCVEpBcGcKpTwFTCDUp1SZCQxpV2ayFpFwDX10V2\n",
       "OkzSZwAAAABJRU5ErkJggg==\n",
       "\" style=\"display:inline;vertical-align:middle;\" /></a></span>"
      ],
      "text/plain": [
       "|- {} = {}"
      ]
     },
     "execution_count": 117,
     "metadata": {},
     "output_type": "execute_result"
    }
   ],
   "source": [
    "empty_set.reduction()"
   ]
  },
  {
   "cell_type": "markdown",
   "metadata": {},
   "source": [
    "### Testing the `single_elem_substitution()` method\n",
    "\n",
    "The <span style=\"font-family:courier\">Set.single_elem_substitution()</span> method has the following format:<br/>\n",
    "    <div style=\"width: 50%; border: 1px solid green; padding: 5px; margin: 20px; background-color: gainsboro\">\n",
    "    <font style=\"font-family:courier\">single_elem_substitution(self, elem=None, idx=None, sub_elem=None, assumptions=USE_DEFAULTS)</font>\n",
    "    </div>\n",
    "and attempts to deduce that the Set expression is equal to the Set obtained when the element specified by elem or idx is replaced by sub_elem, which requires that elem = sub_elem."
   ]
  },
  {
   "cell_type": "code",
   "execution_count": 118,
   "metadata": {},
   "outputs": [
    {
     "data": {
      "text/html": [
       "<span style=\"font-size:20px;\"><a class=\"ProveItLink\" href=\"../__pv_it/demonstrations/dffd09aa88b2bc8ee07b6ee35ee73674a2c093100/expr.ipynb\"><img src=\"data:image/png;base64,iVBORw0KGgoAAAANSUhEUgAAADEAAAAOBAMAAAB0nulXAAAAMFBMVEX///9UVFSqqqrMzMwiIiJE\n",
       "RESYmJgyMjK6urru7u4QEBCIiIh2dnZmZmbc3NwAAABRgo0vAAAAAXRSTlMAQObYZgAAAJ1JREFU\n",
       "GNNjYMACOO+GGjBgBRMZeH5gl7nJwLAKu8wSBgb5B1hl6icwyAMt4rtzeyWmpP8EBoauB+wfQOzj\n",
       "5SBQC5Hg+AN04TIG3gAMLSwCDAy8PxlYNmDI3AVirgCG+Rje4r4AJOYfYNBnQNhTCGbrMvA9YJiv\n",
       "wCDOhOZ45gMM3A8YWDewOfKgGfbkzFkRoNukNz/cge7T//+/MAAAzPsqnTE/4yYAAAAASUVORK5C\n",
       "YII=\n",
       "\" style=\"display:inline;vertical-align:middle;\" /></a> <a class=\"ProveItLink\" href=\"../__pv_it/demonstrations/08bbd6a5cf6441215b36ccd59a67d235371be3fe0/proof.ipynb\" style=\"text-decoration: none\">&nbsp;&#x22A2;&nbsp;&nbsp;</a><a class=\"ProveItLink\" href=\"../__pv_it/demonstrations/b7d4adcb9a14bdc9a9a17b9c86c5fb1439ed9d360/expr.ipynb\"><img src=\"data:image/png;base64,iVBORw0KGgoAAAANSUhEUgAAARsAAAAVBAMAAACEflfWAAAAMFBMVEX///+IiIi6urrc3NxERETM\n",
       "zMwQEBCqqqpUVFQiIiJ2dnYyMjLu7u5mZmaYmJgAAABN0h6tAAAAAXRSTlMAQObYZgAAAlZJREFU\n",
       "SMetlkFoE0EUhv9ssZvuTkKl4EEo9uTVgCcPgoIePAgBPfVU1AqCoCD0ZDEFEapgUrxoKbin0haK\n",
       "PashK4gERBqhh0JtzdWDtLaUog2uszs7yc5MsulknUP2zds/H/+83Zl9ALJb6G0c++q2yf6sJ6KR\n",
       "t+h1GONq7rOTjJbd6ab7eCcMyOalvHBnQxVvC7Mva5c1aVbJ/51Q627e5VE5vFZh7QqSRdXOYpRG\n",
       "Cngzokfz7ZCnRcVOdaHBw4Pw+g24fQQ7LVrGRf+YHo1VZ1utTpYDDB7QMhdzR6kOp/WXkN7To3W3\n",
       "wxR0VFwU8zp27AbS+3o0yc755ROuBLCnhu/zv7x2o7L5LnboGGjo0dIrUYBxExW5OqvvyR6v9B9B\n",
       "xraR9S4YtWDyTLJzxtGjTeSjgE91rMl2Hrn4xddaEGR2TdmO45Kdl3q06y8QBXx3MSMDNkDCZWAT\n",
       "omx6UDpar+REO5maJu20UJ1bIPsyoAwj3JwpDg9ldqH90dqyMwxNWvpCBECNmzsy4C8yYTiJvlxU\n",
       "Jrw7zNpjwY5Zw1k9mrCzyAF9tR9IgF3/4QaPwkEqF5V13VmjwJAejdk55YIc0utF/Cg4QYQUBaz6\n",
       "2+45rrKb55aWp1kqkHU+dzitb3ZpvaRHC+ys3yvX8YquqXr82tRIEGWeHG5hYM7/Dp6ky/FTFc/7\n",
       "zVJM1slOk2Z7nlfSozVPSZiuGj2MSXWuTgKaNcanFtTIiUm1tTOfkNbqdz5AichgTCq+3+mV1uwG\n",
       "W11lM8rGpWDcUO3YTkKa+X975ckkvfI/625Xo0yMoAcAAAAASUVORK5CYII=\n",
       "\" style=\"display:inline;vertical-align:middle;\" /></a></span>"
      ],
      "text/plain": [
       "{a = 2} |- {1, a, 1, b, 2, a} = {1, 2, 1, b, 2, a}"
      ]
     },
     "execution_count": 118,
     "metadata": {},
     "output_type": "execute_result"
    }
   ],
   "source": [
    "# |– Replace the 1st 'a' (elem at index 1) in {1, a, 1, b, 2, a} with 2\n",
    "# using idx arg\n",
    "set_1a1b2a.single_elem_substitution(idx=1, sub_elem=two, assumptions=[Equals(a, two)])"
   ]
  },
  {
   "cell_type": "code",
   "execution_count": 119,
   "metadata": {},
   "outputs": [
    {
     "data": {
      "text/html": [
       "<span style=\"font-size:20px;\"><a class=\"ProveItLink\" href=\"../__pv_it/demonstrations/dffd09aa88b2bc8ee07b6ee35ee73674a2c093100/expr.ipynb\"><img src=\"data:image/png;base64,iVBORw0KGgoAAAANSUhEUgAAADEAAAAOBAMAAAB0nulXAAAAMFBMVEX///9UVFSqqqrMzMwiIiJE\n",
       "RESYmJgyMjK6urru7u4QEBCIiIh2dnZmZmbc3NwAAABRgo0vAAAAAXRSTlMAQObYZgAAAJ1JREFU\n",
       "GNNjYMACOO+GGjBgBRMZeH5gl7nJwLAKu8wSBgb5B1hl6icwyAMt4rtzeyWmpP8EBoauB+wfQOzj\n",
       "5SBQC5Hg+AN04TIG3gAMLSwCDAy8PxlYNmDI3AVirgCG+Rje4r4AJOYfYNBnQNhTCGbrMvA9YJiv\n",
       "wCDOhOZ45gMM3A8YWDewOfKgGfbkzFkRoNukNz/cge7T//+/MAAAzPsqnTE/4yYAAAAASUVORK5C\n",
       "YII=\n",
       "\" style=\"display:inline;vertical-align:middle;\" /></a> <a class=\"ProveItLink\" href=\"../__pv_it/demonstrations/08bbd6a5cf6441215b36ccd59a67d235371be3fe0/proof.ipynb\" style=\"text-decoration: none\">&nbsp;&#x22A2;&nbsp;&nbsp;</a><a class=\"ProveItLink\" href=\"../__pv_it/demonstrations/b7d4adcb9a14bdc9a9a17b9c86c5fb1439ed9d360/expr.ipynb\"><img src=\"data:image/png;base64,iVBORw0KGgoAAAANSUhEUgAAARsAAAAVBAMAAACEflfWAAAAMFBMVEX///+IiIi6urrc3NxERETM\n",
       "zMwQEBCqqqpUVFQiIiJ2dnYyMjLu7u5mZmaYmJgAAABN0h6tAAAAAXRSTlMAQObYZgAAAlZJREFU\n",
       "SMetlkFoE0EUhv9ssZvuTkKl4EEo9uTVgCcPgoIePAgBPfVU1AqCoCD0ZDEFEapgUrxoKbin0haK\n",
       "PashK4gERBqhh0JtzdWDtLaUog2uszs7yc5MsulknUP2zds/H/+83Zl9ALJb6G0c++q2yf6sJ6KR\n",
       "t+h1GONq7rOTjJbd6ab7eCcMyOalvHBnQxVvC7Mva5c1aVbJ/51Q627e5VE5vFZh7QqSRdXOYpRG\n",
       "Cngzokfz7ZCnRcVOdaHBw4Pw+g24fQQ7LVrGRf+YHo1VZ1utTpYDDB7QMhdzR6kOp/WXkN7To3W3\n",
       "wxR0VFwU8zp27AbS+3o0yc755ROuBLCnhu/zv7x2o7L5LnboGGjo0dIrUYBxExW5OqvvyR6v9B9B\n",
       "xraR9S4YtWDyTLJzxtGjTeSjgE91rMl2Hrn4xddaEGR2TdmO45Kdl3q06y8QBXx3MSMDNkDCZWAT\n",
       "omx6UDpar+REO5maJu20UJ1bIPsyoAwj3JwpDg9ldqH90dqyMwxNWvpCBECNmzsy4C8yYTiJvlxU\n",
       "Jrw7zNpjwY5Zw1k9mrCzyAF9tR9IgF3/4QaPwkEqF5V13VmjwJAejdk55YIc0utF/Cg4QYQUBaz6\n",
       "2+45rrKb55aWp1kqkHU+dzitb3ZpvaRHC+ys3yvX8YquqXr82tRIEGWeHG5hYM7/Dp6ky/FTFc/7\n",
       "zVJM1slOk2Z7nlfSozVPSZiuGj2MSXWuTgKaNcanFtTIiUm1tTOfkNbqdz5AichgTCq+3+mV1uwG\n",
       "W11lM8rGpWDcUO3YTkKa+X975ckkvfI/625Xo0yMoAcAAAAASUVORK5CYII=\n",
       "\" style=\"display:inline;vertical-align:middle;\" /></a></span>"
      ],
      "text/plain": [
       "{a = 2} |- {1, a, 1, b, 2, a} = {1, 2, 1, b, 2, a}"
      ]
     },
     "execution_count": 119,
     "metadata": {},
     "output_type": "execute_result"
    }
   ],
   "source": [
    "# |– Replace the 1st 'a' (elem at index 1) in {1, a, 1, b, 2, a} with 2\n",
    "# using elem arg\n",
    "set_1a1b2a.single_elem_substitution(elem=a, sub_elem=two, assumptions=[Equals(a, two)])"
   ]
  },
  {
   "cell_type": "code",
   "execution_count": 120,
   "metadata": {},
   "outputs": [
    {
     "data": {
      "text/html": [
       "<span style=\"font-size:20px;\"><a class=\"ProveItLink\" href=\"../__pv_it/demonstrations/dffd09aa88b2bc8ee07b6ee35ee73674a2c093100/expr.ipynb\"><img src=\"data:image/png;base64,iVBORw0KGgoAAAANSUhEUgAAADEAAAAOBAMAAAB0nulXAAAAMFBMVEX///9UVFSqqqrMzMwiIiJE\n",
       "RESYmJgyMjK6urru7u4QEBCIiIh2dnZmZmbc3NwAAABRgo0vAAAAAXRSTlMAQObYZgAAAJ1JREFU\n",
       "GNNjYMACOO+GGjBgBRMZeH5gl7nJwLAKu8wSBgb5B1hl6icwyAMt4rtzeyWmpP8EBoauB+wfQOzj\n",
       "5SBQC5Hg+AN04TIG3gAMLSwCDAy8PxlYNmDI3AVirgCG+Rje4r4AJOYfYNBnQNhTCGbrMvA9YJiv\n",
       "wCDOhOZ45gMM3A8YWDewOfKgGfbkzFkRoNukNz/cge7T//+/MAAAzPsqnTE/4yYAAAAASUVORK5C\n",
       "YII=\n",
       "\" style=\"display:inline;vertical-align:middle;\" /></a> <a class=\"ProveItLink\" href=\"../__pv_it/demonstrations/c4e85f148912476831b8b9dc265956f1f1d93dc00/proof.ipynb\" style=\"text-decoration: none\">&nbsp;&#x22A2;&nbsp;&nbsp;</a><a class=\"ProveItLink\" href=\"../__pv_it/demonstrations/a320e1c7bc6d9d2e66d1377e92666e9ef8a0b8b30/expr.ipynb\"><img src=\"data:image/png;base64,iVBORw0KGgoAAAANSUhEUgAAARoAAAAVBAMAAABrvDzoAAAAMFBMVEX///+IiIi6urrc3NxERETM\n",
       "zMwQEBCqqqpUVFQiIiJ2dnYyMjLu7u5mZmaYmJgAAABN0h6tAAAAAXRSTlMAQObYZgAAAwhJREFU\n",
       "SMetVk1oE0EY/ZLU/O3mp4oexGJOuWbBix6ECCp4EAJ6EoSiVhCKBoSeLE1AhFowKV6qCO6p2EK1\n",
       "x6KGrCASEEkCBYu1NVcPYmwpRRuMs/OzOzObbELqHHa/vH3z5s03800GAKKbMFg7UDc6oD8ag6ld\n",
       "PWY+1dcwaPOOObGP+qBqyQx6RJu9aO9v0UDdOJsRvqw7yT97qannizT6tHqO140sozCMP044kx4Y\n",
       "Z1GJvisQ3hIoC87BFrqo2ZhSox5y8CrB6WIj5kN9WHD0r7xosXCXvr8C3OzDTSc1DotlyTtigH+U\n",
       "07XcoAQ7ZxNlbrwsQCtW0PrJTQc1G0vRwF+E4Dan26ebMFvosgGFzL7dsE5KC4I7nG4nN6eXjhiS\n",
       "GyU/kmWazw2eNt/Lje9LfVx2szL8mZFDLU43bC5bcJnneq9DWc5N9a26zRbtj0AjBRR+gxvZnDPC\n",
       "yElNaUpu1D2jypY7pXO6uLgnMjz3QwNWZTdTBvxik8kJNFYeXCGOCSPfhkhachNoQSxOsTngdVHp\n",
       "Xn4scL8ZMCu7WQeVpgQ2QKRNx6Xj+YLGq0VaEIpLbtCxUqUpiViTwbrBWXoEWtwboO7IbkrgpTXu\n",
       "Yd0pTcl1Pp6Zmj8N1YzkBuUzRbfhCOtFdFdMR2mOi5IQaMpu/ppzxG0SfBpPE/YNcXafHxklYUqu\n",
       "qVjDzCxesxqc4HTxvhFqSt1Fu/qu5GbL3CZ4HXTwaDytV01VszAT0CQ3CbSbcLsCcIjTxTVF3Bw3\n",
       "0GZH7zPwPafjCDzITdUsuEdwkXw8tbg0TSBM637eMLWheHQuTHpYWLAxVMOQ7+niWtHW5c6btTul\n",
       "BjxB7ivDl/IJHEUe7G1C6Jn573YUpcaEyu32bwIRWjc3lpqaP3zyIOlhY/WXgCGl3W4XbV3+9MPr\n",
       "aDijey5Q99yIHVxFbIi4GbV+gjPSXaCObuadHVxFuEGLwv3mHTgiNe4Cud9vbDVXEZuG7zdg3f3s\n",
       "K6QVRd0g8F5zulF0h1q0L11I4stO4P/eiyf3cS/+B9GhVD1NZ4EzAAAAAElFTkSuQmCC\n",
       "\" style=\"display:inline;vertical-align:middle;\" /></a></span>"
      ],
      "text/plain": [
       "{a = 2} |- {1, a, 1, b, 2, a} = {1, a, 1, b, 2, 2}"
      ]
     },
     "execution_count": 120,
     "metadata": {},
     "output_type": "execute_result"
    }
   ],
   "source": [
    "# |– Replace the 2nd 'a' (elem at index 5) in {1, a, 1, b, 2, a} with 2\n",
    "# using compound elem arg\n",
    "set_1a1b2a.single_elem_substitution(elem=[a, 2], sub_elem=two, assumptions=[Equals(a, two)])"
   ]
  },
  {
   "cell_type": "code",
   "execution_count": 121,
   "metadata": {},
   "outputs": [
    {
     "data": {
      "text/html": [
       "<span style=\"font-size:20px;\"><a class=\"ProveItLink\" href=\"../__pv_it/demonstrations/426bf6f02c8ae04c597dbde4a5321a7843eb1bf30/expr.ipynb\"><img src=\"data:image/png;base64,iVBORw0KGgoAAAANSUhEUgAAAC8AAAAPBAMAAACGpYupAAAAMFBMVEX///9EREQyMjKYmJhUVFTM\n",
       "zMyqqqoQEBAiIiK6urrc3NxmZmaIiIh2dnbu7u4AAADbMoQcAAAAAXRSTlMAQObYZgAAAIJJREFU\n",
       "GNNjYMAGWDcwYAccDjgkjuOQ4DLCIcHLBJLgu3N6AZqEFVhixgKuC0DqkhIIaIPE+Q6AJPjKGF4H\n",
       "oJnEAJJgKT5jh2ZSKliCH8MBfBcgEhcgXIgdKkAWm/fu/dUHGDiAEgfQNbEDdfAoMLxegCEhACRO\n",
       "GxtgeFD+iwEDLgAArP0bv/0ob+8AAAAASUVORK5CYII=\n",
       "\" style=\"display:inline;vertical-align:middle;\" /></a> <a class=\"ProveItLink\" href=\"../__pv_it/demonstrations/227898b40ae3a00fb8146ecffd57d244f3d450030/proof.ipynb\" style=\"text-decoration: none\">&nbsp;&#x22A2;&nbsp;&nbsp;</a><a class=\"ProveItLink\" href=\"../__pv_it/demonstrations/6fd5b20811439647b4258d8766e9fde4d6c4aff40/expr.ipynb\"><img src=\"data:image/png;base64,iVBORw0KGgoAAAANSUhEUgAAAO8AAAAVBAMAAABcV6T1AAAAMFBMVEX///+IiIi6urrc3NxERETM\n",
       "zMwQEBCqqqpUVFQiIiJ2dnYyMjLu7u5mZmaYmJgAAABN0h6tAAAAAXRSTlMAQObYZgAAAuxJREFU\n",
       "SMellk1oE0EUx1/S2E02ky8hHvwip1ybowqVeOlFxIC9imIrVFAJCOJBaHKpiFAsPViLhxREiGLx\n",
       "WPzALUgRoWxCLUpD2/TopWpFI21QZ+bN7s4msy2LAyG/nf/u+5j3ZnYBIL4GPsb5w4pJfyb21Q32\n",
       "R16Cr5EtdE35NRG8zKP9Js+9u6K4cfCadBF70Z2wywQZuK/IcqBmLRn9NRjo7tveqEJsSax3m+2Y\n",
       "itYUJhJFAVP0V1U81VItTduXY9uHPPoM/A+MqB27fCgN7+3Y8uEaVfF/ck7tWGG2Y+32dlxVVcsq\n",
       "YcXtuP/5AQwzWj4iFkpPpRH6Zy6IqQ+pJTp/Ue24Z6V+FS/nUp+EMJPCLdCzkhYljOeY4ycMw7RL\n",
       "g0PwFgXzNfmB9z6A07j4Q3AWgwpOwgm7hZ+9YgPzYCYgm4uiQnYMM8fpeDGEWyCbC4kSzgNz/JXh\n",
       "TRrUQhM+ojBqwHcOkQrc4UC1BmoLRbKs7HtmglyHWJ5faW1IJDlNQ5ivFdPEJqxwx6x2g5MU1g2Y\n",
       "QKEBZJvDutUhFKaRxjaOssnwROc2ZyZibYgkrY1uVgCnxNZvszx4UAXuGO4m8SQaBvLT6oEgVmPY\n",
       "Mku1LaTfooTKw6w3D2bBasU+nmhvXuhMy2CX4OPREksgz5LUxOHzR8Qp8gZZ25aPKawxBkFNsCRH\n",
       "xTZuiuXCvEHWbq2u/qqLGtOWJC3aHze4ssVqihGAxh07Gl3xgGdXm0W4p/GeSmRoTUUEwFN3NDpG\n",
       "rK5mT52CL6UK2aFX43AGOHwGsszB0Q4BWfLcx6FkfEoHk/ZQuBmqcYiVYLHAwNFEDe19/D51rpyB\n",
       "h3SBFg/SMBnosxsIjhZY2/Q+QEg5fWw/RB5Rqs8CB3i6mcQZWwN4/He86+TSDE+QaPeT67Y3SISO\n",
       "7Zrp3iCTwrFT9oo3SFR1v0znvUGiXd/HJOkJEokTyf58aHqDRNlM9xvANhH3BomCl7B8///Npfn/\n",
       "5voHe4MDBxGPaCoAAAAASUVORK5CYII=\n",
       "\" style=\"display:inline;vertical-align:middle;\" /></a></span>"
      ],
      "text/plain": [
       "{e = 4} |- {a, b, c, d, e} = {a, b, c, d, 4}"
      ]
     },
     "execution_count": 121,
     "metadata": {},
     "output_type": "execute_result"
    }
   ],
   "source": [
    "# |– Replace the 1st 'e' (elem at index 4) in {a, b, c, d, e} with 4\n",
    "# using idx arg\n",
    "from proveit import e\n",
    "set_abcde.single_elem_substitution(idx=4, sub_elem=four, assumptions=[Equals(e, four)])"
   ]
  },
  {
   "cell_type": "code",
   "execution_count": 122,
   "metadata": {},
   "outputs": [
    {
     "data": {
      "text/html": [
       "<span style=\"font-size:20px;\"><a class=\"ProveItLink\" href=\"../__pv_it/demonstrations/b47fbfda54bf8644fd8865cbc67fe69dd5d2eaa30/expr.ipynb\"><img src=\"data:image/png;base64,iVBORw0KGgoAAAANSUhEUgAAAC8AAAAOBAMAAABN+VgMAAAAMFBMVEX///+6urqYmJgQEBDu7u5m\n",
       "ZmZUVFQyMjJERESqqqoiIiLc3NzMzMyIiIh2dnYAAABqS+z4AAAAAXRSTlMAQObYZgAAAItJREFU\n",
       "GNNjYMAE3O9eTGDABrYycH7CKnF/AsMvrBLCAgzfGbADiFFv7x5Al/B6ACR2TeAoAFLPy0GgFCy+\n",
       "b6kDkFzHwIbhOF5DBgbWL9gsMXZgYG7AEN3NwNA/gcH/AYQHsaMMxPzvAJLgV2BgQLPDgoFhvQMD\n",
       "awKDK5pzlSD+eKd0Ac0OxtAIAQYAPHcm+4/w6uQAAAAASUVORK5CYII=\n",
       "\" style=\"display:inline;vertical-align:middle;\" /></a> <a class=\"ProveItLink\" href=\"../__pv_it/demonstrations/db035ecf8d2c2835488017d699cf50a231380e3c0/proof.ipynb\" style=\"text-decoration: none\">&nbsp;&#x22A2;&nbsp;&nbsp;</a><a class=\"ProveItLink\" href=\"../__pv_it/demonstrations/c75186499838e23004c6e7bd4f41e0acdde601030/expr.ipynb\"><img src=\"data:image/png;base64,iVBORw0KGgoAAAANSUhEUgAAAPMAAAAVBAMAAABhxcWTAAAAMFBMVEX///+IiIi6urrc3NxERETM\n",
       "zMwQEBCqqqpUVFQiIiJ2dnYyMjLu7u5mZmaYmJgAAABN0h6tAAAAAXRSTlMAQObYZgAAAp9JREFU\n",
       "SMetVk1o1EAUfrvbbtL8rBXP4p56NeCpQrUHPQiCOXgSClJsURDMSTxYiCCFIrQLXrQoRiilLog5\n",
       "SgVNb1Upu4UKgk3RizerKAr9oXF+k00yk7rFOSRfXub73nvJmzcDALUN6Gb0rgYC67fPB9AwFqG7\n",
       "UR7L2957B9Go/ei0GeEZm6JKc87h1hF2fx2MINunvNT31NPK2tn8FIGG1kAX5Tp7sQzaT4qGQNnj\n",
       "tAfsfiPaRtdneV1i4iKGCy/quSkCDex6eWGXvVgHGKfomANbzFi6ysDiHUvuOhYxA6hezs4QaZCs\n",
       "a9z1NYAZi6CBOuww46mXDLhJioKsuUi1Aeqv7AyRRtr1mwBm2M9OPrjXnWt9F9Tf2Rnevq7ReMIX\n",
       "z1tWtjWL06a/fEDX+X1co9HH4dPDtlxD9dOs8jYDJx+zGJaA087D6TovZ+0VGW3ycC/j+jiLetDp\n",
       "8eUaN+1MwG5cGaPsW8U0gB70jfR2NmllLOOal/MsqI5U4+L9DCtMFMdJ2ordQTNx/Uz1Z5rTOSst\n",
       "YrLgTG4Rawyksy7xlE4AXCARvwNOQ/8Gr3rdlTSnWOQou1eHGRBrqMMp1gRU6OKKAub6Vhj+WaVK\n",
       "Pskj9a9pGHdTrpU2DhyNFu+vYo10hfd6UKKur3TUOmsHJqoE/x8q/BLAEQIOoU3FkWsQ1yXEauFa\n",
       "HGw+n6JoE6/rls/CMHB7qbThqyVf11ykMtv82CAE04UVW66BXZuTOxvQ9wi3lCjaoqgcrtUpgrlo\n",
       "Gh7iLzC0sC5vKbGIHkVRgxKam/0FGiRrMm5DAVKCdIqCrGUEqYYWd/pkzxUgDYpczxcRpBrxfm3E\n",
       "q1WElhJa0X4tIBRo8FNKLbaLUHIAKo/mXeuenFCgofyPs9lE92ezv5hSFuXa4uYQAAAAAElFTkSu\n",
       "QmCC\n",
       "\" style=\"display:inline;vertical-align:middle;\" /></a></span>"
      ],
      "text/plain": [
       "{c = 3} |- {1, 2, 3, 4, 5} = {1, 2, c, 4, 5}"
      ]
     },
     "execution_count": 122,
     "metadata": {},
     "output_type": "execute_result"
    }
   ],
   "source": [
    "# We can go the other way as well, replacing a literal by a variable. Yay!\n",
    "set_12345.single_elem_substitution(elem=three, sub_elem=c, assumptions=[Equals(c, three)])"
   ]
  },
  {
   "cell_type": "code",
   "execution_count": 123,
   "metadata": {},
   "outputs": [
    {
     "data": {
      "text/html": [
       "<span style=\"font-size:20px;\"><a class=\"ProveItLink\" href=\"../__pv_it/demonstrations/9aa948c983da54f70870d76d0f5b9799557984d00/expr.ipynb\"><img src=\"data:image/png;base64,iVBORw0KGgoAAAANSUhEUgAAAC0AAAAJBAMAAABUCbiJAAAAMFBMVEX///+6urqYmJgQEBDu7u5m\n",
       "ZmZUVFQyMjJERESqqqoiIiLc3NzMzMyIiIh2dnYAAABqS+z4AAAAAXRSTlMAQObYZgAAAHRJREFU\n",
       "CNdjYGB4e/cAAwpgeXt1AwPDrgkcBQwMfOVgEAASl9rA/YCBYR0D2wRU5ZYMrgcYWL8woAE2o7sq\n",
       "DAzMDeji/Akg0v8BmAM1HyTEDxbhV2BgQDWfCyh+gYE1AWQLMuAtYHAFuvOd0gU0C64qKTAAAJAj\n",
       "HuwRAEKFAAAAAElFTkSuQmCC\n",
       "\" style=\"display:inline;vertical-align:middle;\" /></a> <a class=\"ProveItLink\" href=\"../__pv_it/demonstrations/8b81fc03ab13da13badd9ba52dc2b02dc9278a8d0/proof.ipynb\" style=\"text-decoration: none\">&nbsp;&#x22A2;&nbsp;&nbsp;</a><a class=\"ProveItLink\" href=\"../__pv_it/demonstrations/5c7fbadc4839c0d625a30737f712310c753961df0/expr.ipynb\"><img src=\"data:image/png;base64,iVBORw0KGgoAAAANSUhEUgAAAPAAAAAVBAMAAACK8n6QAAAAMFBMVEX///+IiIi6urrc3NxERETM\n",
       "zMwQEBCqqqpUVFQiIiJ2dnYyMjLu7u5mZmaYmJgAAABN0h6tAAAAAXRSTlMAQObYZgAAApBJREFU\n",
       "SMellk1o1EAUx9/uFrObnd0kQj2oK3ta8NQ9ilBYL15EXLBXUWhBBC0Lgieh3YseBGnpwQ88pEcR\n",
       "S4/iB0aQIsKSlloUC216FKRoRVa2izgzL9kkm5k0wRyS/7yX+c3He28SAChvQYrr0nGBMR3CZZCX\n",
       "qTpBrRkxpUUgo/wjaHp/TfDexI1Ao7QcXXAIQc7OJWKo4dfeiGbYDWg1ih0yFVcTMYZ6dQV9sv1U\n",
       "A2utRIxwr5BfCD544DErESPcSxXFJ7R3Bw/8FBIx+G38+RGcZrFdcTdKNUZRjC9edk0fjXVqvyIe\n",
       "OPd17To2Xxif3TRbrNTljDzNsOwkvEW7/Zr84iL3AM7h5k/CBZxUdgFOD1L42St2YSoyBNTqRfSQ\n",
       "fcvG8U7Wc6accYvW1IoDn3DgGQt+clEw4S4X1LeJvpUW2RDmPUOQaSg1eEvpg6bzGVyFTlPKmFig\n",
       "z20L5tGxCaTHxbaXIVQ8RnVn5wQz5ueHS5QhSn0o6F6R2nyh+WnjewyDnSJTQH57ZZzFgprysNS3\n",
       "h+qPG0LhQXSoAXbTS6MxHlBtNpaRb7BFKu7h85dNnW1TzzuHfF8veExhjHESFMEWOeOWseNul2bG\n",
       "MmhKki7Nj5vctMfigTMAhXfyfXS3MtKstltwT+E5pVVpvN00AV3OYL3OwLdZk+zT1n04D1x8AbLB\n",
       "he87BmRdWscjevmhCjbN77wzsspFZhk6dTmD3T4YF9tVeEQ3qHOULpgJdWkHhe/LbO3KDxDSHj11\n",
       "GApPqFpbAi6gsuvEMHyQYklFQMWfXLcjQsrwY6bKRVAJBvbDbkaElOF/TN/JRUDFfo+JPixiGIPf\n",
       "B0cuAqpWjX4BBohyRMQwlP//51LS/3P9Az7KAipf59vuAAAAAElFTkSuQmCC\n",
       "\" style=\"display:inline;vertical-align:middle;\" /></a></span>"
      ],
      "text/plain": [
       "{c = e} |- {a, b, c, d, e} = {a, b, e, d, e}"
      ]
     },
     "execution_count": 123,
     "metadata": {},
     "output_type": "execute_result"
    }
   ],
   "source": [
    "# And we can replace a variable with a variable. Yay!\n",
    "from proveit import e\n",
    "set_abcde.single_elem_substitution(elem=c, sub_elem=e, assumptions=[Equals(c, e)])"
   ]
  },
  {
   "cell_type": "code",
   "execution_count": 124,
   "metadata": {},
   "outputs": [
    {
     "name": "stdout",
     "output_type": "stream",
     "text": [
      "Value Error: single_elem_substitution() method looked for 2 instance(s) of the elem 'b' in the set (1, a, 1, b, 2, a) but found only 1 instance(s). The elem 'b' does not appear to exist in the original set with sufficient multiplicity.\n"
     ]
    }
   ],
   "source": [
    "# should get meaningful error message when trying to substitute for an\n",
    "# element but picking a multiplicity that doesn't exist. Here there is no 2nd 'b':\n",
    "try:\n",
    "    set_1a1b2a.single_elem_substitution(elem=[b, 2], sub_elem=two, assumptions=[Equals(a, two)])\n",
    "    assert False, \"Should not make it to this point.\"\n",
    "except ValueError as e:\n",
    "    print(\"Value Error: {}\".format(e))"
   ]
  },
  {
   "cell_type": "code",
   "execution_count": 125,
   "metadata": {},
   "outputs": [
    {
     "name": "stdout",
     "output_type": "stream",
     "text": [
      "Value Error: In specifying the elem to be replaced in the call to Set.single_elem_substitution(), it doesn't appear to make sense to specify instance #0 of the element b in the set of elements (1, a, 1, b, 2, a).\n"
     ]
    }
   ],
   "source": [
    "# should get meaningful error message when trying to substitute for an\n",
    "# element but picking a multiplicity that doesn't make sense:\n",
    "try:\n",
    "    set_1a1b2a.single_elem_substitution(elem=[b, 0], sub_elem=two, assumptions=[Equals(a, two)])\n",
    "    assert False, \"Should not make it to this point.\"\n",
    "except ValueError as e:\n",
    "    print(\"Value Error: {}\".format(e))"
   ]
  },
  {
   "cell_type": "code",
   "execution_count": 126,
   "metadata": {},
   "outputs": [
    {
     "name": "stdout",
     "output_type": "stream",
     "text": [
      "Value Error: single_elem_substitution() method missing sub_elem argument. Must specify the replacement value using argument 'sub_elem='.\n"
     ]
    }
   ],
   "source": [
    "# should get a meaningful error message when omitting the sub_elem argument\n",
    "try:\n",
    "    set_1a1b2a.single_elem_substitution(idx=1, assumptions=[Equals(a, two)])\n",
    "    assert False, \"Should not make it to this point.\"\n",
    "except ValueError as e:\n",
    "    print(\"Value Error: {}\".format(e))"
   ]
  },
  {
   "cell_type": "code",
   "execution_count": 127,
   "metadata": {},
   "outputs": [
    {
     "name": "stdout",
     "output_type": "stream",
     "text": [
      "Value Error: single_elem_substitution() method looked for 1 instance(s) of the elem 'c' in the set (1, a, 1, b, 2, a) but found only 0 instance(s). The elem 'c' does not appear to exist in the original set with sufficient multiplicity.\n"
     ]
    }
   ],
   "source": [
    "# should get meaningful error message when trying to substitute for an\n",
    "# element that doesn't exist in the original set:\n",
    "try:\n",
    "    set_1a1b2a.single_elem_substitution(elem=c, sub_elem=two, assumptions=[Equals(c, two)])\n",
    "    assert False, \"Should not make it to this point.\"\n",
    "except ValueError as e:\n",
    "    print(\"Value Error: {}\".format(e))"
   ]
  },
  {
   "cell_type": "markdown",
   "metadata": {},
   "source": [
    "### Testing the `elem_substitution()` method\n",
    "\n",
    "The <span style=\"font-family:courier\">Set.elem_substitution()</span> method has the following format:<br/>\n",
    "    <div style=\"width: 50%; border: 1px solid green; padding: 5px; margin: 20px; background-color: gainsboro\">\n",
    "    <font style=\"font-family:courier\">elem_substitution(self, elem=None, sub_elem=None, assumptions=USE_DEFAULTS)</font>\n",
    "    </div>\n",
    "and attempts to deduce that the Set expression is equal to the Set obtained when all instances of the element specified by elem are replaced by sub_elem, which requires that elem = sub_elem."
   ]
  },
  {
   "cell_type": "code",
   "execution_count": 128,
   "metadata": {},
   "outputs": [
    {
     "data": {
      "text/html": [
       "<span style=\"font-size:20px;\"><a class=\"ProveItLink\" href=\"../__pv_it/demonstrations/dffd09aa88b2bc8ee07b6ee35ee73674a2c093100/expr.ipynb\"><img src=\"data:image/png;base64,iVBORw0KGgoAAAANSUhEUgAAADEAAAAOBAMAAAB0nulXAAAAMFBMVEX///9UVFSqqqrMzMwiIiJE\n",
       "RESYmJgyMjK6urru7u4QEBCIiIh2dnZmZmbc3NwAAABRgo0vAAAAAXRSTlMAQObYZgAAAJ1JREFU\n",
       "GNNjYMACOO+GGjBgBRMZeH5gl7nJwLAKu8wSBgb5B1hl6icwyAMt4rtzeyWmpP8EBoauB+wfQOzj\n",
       "5SBQC5Hg+AN04TIG3gAMLSwCDAy8PxlYNmDI3AVirgCG+Rje4r4AJOYfYNBnQNhTCGbrMvA9YJiv\n",
       "wCDOhOZ45gMM3A8YWDewOfKgGfbkzFkRoNukNz/cge7T//+/MAAAzPsqnTE/4yYAAAAASUVORK5C\n",
       "YII=\n",
       "\" style=\"display:inline;vertical-align:middle;\" /></a> <a class=\"ProveItLink\" href=\"../__pv_it/demonstrations/dc1cec3a5a168594d4ab64add326c68d23efdcb90/proof.ipynb\" style=\"text-decoration: none\">&nbsp;&#x22A2;&nbsp;&nbsp;</a><a class=\"ProveItLink\" href=\"../__pv_it/demonstrations/c7efa293f2bdd102473cd451318f404b1e9edf800/expr.ipynb\"><img src=\"data:image/png;base64,iVBORw0KGgoAAAANSUhEUgAAARkAAAAVBAMAAACAi4frAAAAMFBMVEX///+IiIi6urrc3NxERETM\n",
       "zMwQEBCqqqpUVFQiIiJ2dnYyMjLu7u5mZmaYmJgAAABN0h6tAAAAAXRSTlMAQObYZgAAAtxJREFU\n",
       "SMetVktoE0EY/pLUPDePKnpSzKnXBLzoQYigngN6EoTgCwTRguCpYnoRqoekeKkimFOxlWqPpRKy\n",
       "vUgvkgQKFjU1V08JShGbQNyd2Z2ZzEweRueyH///f99+O49/B0BsD5ONq8c1wUnVDtVN+2FsYtIx\n",
       "k1VCk6t5b5KPaY8oMy4WXdQ43/f+6Lo6NX1qMqFP7ePOhT70xYZhOxu4o7pgsUjNAdsI/xArwkWF\n",
       "REMPTIWgqBl5vEuKaMXlb7/uKro8Fp91wFfg1hhujCcFUyaoalET/pyImBvEupr96MZSjjZuA4X0\n",
       "OHPTMhWCouYvIvhTRGO6WXEjFROF7N+4EQiKWqSL4L6IdG7Orh0zJf7G9Cf2tlc06ftct/ZBODfC\n",
       "DSdo1UJdES3bILgu1nqvoyLNjdExq+76eA+cs52OtNkBevPeHmUwNcGNS9CqpUoQUIvs/6zo5kMT\n",
       "OxI/0EU84X5DnkreRTRjPcvK3BA1wY1D0KstMdqSc9guP+ubx28mFiW+1VWq7kc0nFAXIVsyuCiZ\n",
       "oWqCmwYGq0VrrHERtJBwGipzcwPGvsS3PKecU+lx+P4MqjZtY0B7Zm48NQxWO8FYBEXsaQxmxFU9\n",
       "QKAt8eNNe8bIeAgfWXPr6x5B2jfUGVHjblyCTi1QwykIqKWcKeOXtQ/vS/yktU3on60ED3Uzi6eB\n",
       "9OgzxQg6tSvAEREtM77Hqq3ax+EcvudLRgdCLNicqtHkmdW1BYKmErGl8JB+c9IE0WAEjZrvxepu\n",
       "kVQRJPSb6OPOHkIv7Q4+fWk+ieemEDPqb0GTlV7vNw3NHz19eLCb3XvlJtFgBI1apNfrFUkVRUL3\n",
       "I2OO/zBNJcaTc6N78QANjRqvctywxS9xTSixEjRlGje5IRoaNV5F3bAbiZFgiS3IMZ4Uyobeb1QN\n",
       "ndoWp5L7DdzbWownmpBjPCmUzSTVf+3mYA2dWpPf/a7Rpfuv9+LAv9yL/wDXl0GzCwmAtwAAAABJ\n",
       "RU5ErkJggg==\n",
       "\" style=\"display:inline;vertical-align:middle;\" /></a></span>"
      ],
      "text/plain": [
       "{a = 2} |- {1, a, 1, b, 2, a} = {1, 2, 1, b, 2, 2}"
      ]
     },
     "execution_count": 128,
     "metadata": {},
     "output_type": "execute_result"
    }
   ],
   "source": [
    "# |– Replace all instances of 'a' in {1, a, 1, b, 2, a} with 2\n",
    "set_1a1b2a.elem_substitution(elem=a, sub_elem=two, assumptions=[Equals(a, two)])"
   ]
  },
  {
   "cell_type": "code",
   "execution_count": 129,
   "metadata": {},
   "outputs": [
    {
     "data": {
      "text/html": [
       "<span style=\"font-size:20px;\"><a class=\"ProveItLink\" href=\"../__pv_it/demonstrations/957bd1f060587aed5ca6d138723747d4ade7b6060/expr.ipynb\"><img src=\"data:image/png;base64,iVBORw0KGgoAAAANSUhEUgAAAC8AAAAOBAMAAABN+VgMAAAALVBMVEX///+YmJjc3NyIiIhUVFR2\n",
       "dna6urqqqqpmZmYyMjIiIiIQEBBERETu7u4AAAALjtrwAAAAAXRSTlMAQObYZgAAAKFJREFUGNNj\n",
       "4D29gAENMIXGFAApzgZ0CQ0G9odAiq8AXcKugOEVkMq7gC6RncDwEkhFMWACsFFTjNsxJG4FMDDw\n",
       "vrxwTwHIjpwJAjPA4qorgMazv2XgM0DXwbyNgYFjAsO9AAyzdl8AeSMPzcFKDAznChj4BBj6LsDt\n",
       "mAKSeHcBLJHAuxHNnD0MDOsuMLAI8KCHiSDYH7zNgeg2s3X0JDAAACkhLQWo5C+tAAAAAElFTkSu\n",
       "QmCC\n",
       "\" style=\"display:inline;vertical-align:middle;\" /></a> <a class=\"ProveItLink\" href=\"../__pv_it/demonstrations/14eafbfbb8049a710eaa4d2fcdcb4cb94336717b0/proof.ipynb\" style=\"text-decoration: none\">&nbsp;&#x22A2;&nbsp;&nbsp;</a><a class=\"ProveItLink\" href=\"../__pv_it/demonstrations/d63385b63d77a1e4e30a14275397b298a8654fd50/expr.ipynb\"><img src=\"data:image/png;base64,iVBORw0KGgoAAAANSUhEUgAAAR0AAAAVBAMAAACJYCeRAAAAMFBMVEX///+IiIi6urrc3NxERETM\n",
       "zMwQEBCqqqpUVFQiIiJ2dnYyMjLu7u5mZmaYmJgAAABN0h6tAAAAAXRSTlMAQObYZgAAAqhJREFU\n",
       "SMetls9rE0EUx1+S2m12J5so2IMg9tSbsEcVhCiCeBAC+geIWkEIWhB6siQBEWrBVLxUEdxTMYVC\n",
       "z2rICiIBkU3Bg9im7tWDNFYkaIN1dmd3s/NjJ6XpHLJv337nM999szMZANA3YX/t0JolyP5whsOh\n",
       "17Dflpzicx/NIXF6Z5Du/W0/QO0LBerJOi/eGjjsmeWLMpy64P7O8KVXikFU969NULcpSY0frRZD\n",
       "C3OpFpQcCc71gx5VOULzVS8Iu/51A+DWHvyIaP1cogvZBQmO1GeLfyM98JMMAjxvVWMv9RHQwlzy\n",
       "OmRXJbjBfogCt4YF1cKwfnDz50uMY/ycXRm3GD9a5fh00OWlFZUtDfKT+rpW5Pyg5yDBja1S1bwB\n",
       "DbY+9lv0K5i6v5SMLCb1jdda3s08NfakoXVYP6naBkhwM4Wo+oMDn1k/JQt++mG6TMm0Frcop6I0\n",
       "dAcyeX6+xificVefUupvFjxh/awD8t8D2kDL5nLMHnvJiNIyPUjneD+jRQlukqrPTUC/WT91SPor\n",
       "PhHUw5dpZfEeG9BG82AXGD8pA0ZkuLF8RI0LoXRYP//c9/TarEuLyKjvh3h7EB3bNqHErq9sL/Qj\n",
       "xFHrC3Xx932P8bPtzq83GyYkjKhs0Pqyp2FeMWg/uGbpngRH/JywAO3g6zn4Xja9CBK4l+0uvsdw\n",
       "mTw8vbwyR1KeLH7/CWgjOX1RJT3CnO7g/UeC8/x8uVt34Bl+g+bhK5UJL8o83NmE9Av88NMxXB43\n",
       "1djd/UNSRBbnJ6ShytFTR0iPMAcn2+dluHD3BcXio/uSVHx96A4iSDxOvRbcqsBHpiQl9LPEdxBB\n",
       "4nH988874CKUk6Tk558+TQCR4cLzYf+gGUa6LOX+VXNNMzmaACLDKQd7fp4d6vz8Hxx/VHH8+v3u\n",
       "AAAAAElFTkSuQmCC\n",
       "\" style=\"display:inline;vertical-align:middle;\" /></a></span>"
      ],
      "text/plain": [
       "{b = 3} |- {1, a, 1, b, 2, a} = {1, a, 1, 3, 2, a}"
      ]
     },
     "execution_count": 129,
     "metadata": {},
     "output_type": "execute_result"
    }
   ],
   "source": [
    "# |– Replace all instances of 'b' in {1, a, 1, b, 2, a} with 3\n",
    "set_1a1b2a.elem_substitution(elem=b, sub_elem=three, assumptions=[Equals(b, three)])"
   ]
  },
  {
   "cell_type": "code",
   "execution_count": 130,
   "metadata": {},
   "outputs": [
    {
     "data": {
      "text/html": [
       "<span style=\"font-size:20px;\"><a class=\"ProveItLink\" href=\"../__pv_it/demonstrations/426bf6f02c8ae04c597dbde4a5321a7843eb1bf30/expr.ipynb\"><img src=\"data:image/png;base64,iVBORw0KGgoAAAANSUhEUgAAAC8AAAAPBAMAAACGpYupAAAAMFBMVEX///9EREQyMjKYmJhUVFTM\n",
       "zMyqqqoQEBAiIiK6urrc3NxmZmaIiIh2dnbu7u4AAADbMoQcAAAAAXRSTlMAQObYZgAAAIJJREFU\n",
       "GNNjYMAGWDcwYAccDjgkjuOQ4DLCIcHLBJLgu3N6AZqEFVhixgKuC0DqkhIIaIPE+Q6AJPjKGF4H\n",
       "oJnEAJJgKT5jh2ZSKliCH8MBfBcgEhcgXIgdKkAWm/fu/dUHGDiAEgfQNbEDdfAoMLxegCEhACRO\n",
       "GxtgeFD+iwEDLgAArP0bv/0ob+8AAAAASUVORK5CYII=\n",
       "\" style=\"display:inline;vertical-align:middle;\" /></a> <a class=\"ProveItLink\" href=\"../__pv_it/demonstrations/227898b40ae3a00fb8146ecffd57d244f3d450030/proof.ipynb\" style=\"text-decoration: none\">&nbsp;&#x22A2;&nbsp;&nbsp;</a><a class=\"ProveItLink\" href=\"../__pv_it/demonstrations/6fd5b20811439647b4258d8766e9fde4d6c4aff40/expr.ipynb\"><img src=\"data:image/png;base64,iVBORw0KGgoAAAANSUhEUgAAAO8AAAAVBAMAAABcV6T1AAAAMFBMVEX///+IiIi6urrc3NxERETM\n",
       "zMwQEBCqqqpUVFQiIiJ2dnYyMjLu7u5mZmaYmJgAAABN0h6tAAAAAXRSTlMAQObYZgAAAuxJREFU\n",
       "SMellk1oE0EUx1/S2E02ky8hHvwip1ybowqVeOlFxIC9imIrVFAJCOJBaHKpiFAsPViLhxREiGLx\n",
       "WPzALUgRoWxCLUpD2/TopWpFI21QZ+bN7s4msy2LAyG/nf/u+5j3ZnYBIL4GPsb5w4pJfyb21Q32\n",
       "R16Cr5EtdE35NRG8zKP9Js+9u6K4cfCadBF70Z2wywQZuK/IcqBmLRn9NRjo7tveqEJsSax3m+2Y\n",
       "itYUJhJFAVP0V1U81VItTduXY9uHPPoM/A+MqB27fCgN7+3Y8uEaVfF/ck7tWGG2Y+32dlxVVcsq\n",
       "YcXtuP/5AQwzWj4iFkpPpRH6Zy6IqQ+pJTp/Ue24Z6V+FS/nUp+EMJPCLdCzkhYljOeY4ycMw7RL\n",
       "g0PwFgXzNfmB9z6A07j4Q3AWgwpOwgm7hZ+9YgPzYCYgm4uiQnYMM8fpeDGEWyCbC4kSzgNz/JXh\n",
       "TRrUQhM+ojBqwHcOkQrc4UC1BmoLRbKs7HtmglyHWJ5faW1IJDlNQ5ivFdPEJqxwx6x2g5MU1g2Y\n",
       "QKEBZJvDutUhFKaRxjaOssnwROc2ZyZibYgkrY1uVgCnxNZvszx4UAXuGO4m8SQaBvLT6oEgVmPY\n",
       "Mku1LaTfooTKw6w3D2bBasU+nmhvXuhMy2CX4OPREksgz5LUxOHzR8Qp8gZZ25aPKawxBkFNsCRH\n",
       "xTZuiuXCvEHWbq2u/qqLGtOWJC3aHze4ssVqihGAxh07Gl3xgGdXm0W4p/GeSmRoTUUEwFN3NDpG\n",
       "rK5mT52CL6UK2aFX43AGOHwGsszB0Q4BWfLcx6FkfEoHk/ZQuBmqcYiVYLHAwNFEDe19/D51rpyB\n",
       "h3SBFg/SMBnosxsIjhZY2/Q+QEg5fWw/RB5Rqs8CB3i6mcQZWwN4/He86+TSDE+QaPeT67Y3SISO\n",
       "7Zrp3iCTwrFT9oo3SFR1v0znvUGiXd/HJOkJEokTyf58aHqDRNlM9xvANhH3BomCl7B8///Npfn/\n",
       "5voHe4MDBxGPaCoAAAAASUVORK5CYII=\n",
       "\" style=\"display:inline;vertical-align:middle;\" /></a></span>"
      ],
      "text/plain": [
       "{e = 4} |- {a, b, c, d, e} = {a, b, c, d, 4}"
      ]
     },
     "execution_count": 130,
     "metadata": {},
     "output_type": "execute_result"
    }
   ],
   "source": [
    "# |– Replace all instances of 'e' in {a, b, c, d, e} with 4\n",
    "from proveit import e\n",
    "set_abcde.elem_substitution(elem=e, sub_elem=four, assumptions=[Equals(e, four)])"
   ]
  },
  {
   "cell_type": "code",
   "execution_count": 131,
   "metadata": {},
   "outputs": [
    {
     "data": {
      "text/html": [
       "<span style=\"font-size:20px;\"><a class=\"ProveItLink\" href=\"../__pv_it/demonstrations/b47fbfda54bf8644fd8865cbc67fe69dd5d2eaa30/expr.ipynb\"><img src=\"data:image/png;base64,iVBORw0KGgoAAAANSUhEUgAAAC8AAAAOBAMAAABN+VgMAAAAMFBMVEX///+6urqYmJgQEBDu7u5m\n",
       "ZmZUVFQyMjJERESqqqoiIiLc3NzMzMyIiIh2dnYAAABqS+z4AAAAAXRSTlMAQObYZgAAAItJREFU\n",
       "GNNjYMAE3O9eTGDABrYycH7CKnF/AsMvrBLCAgzfGbADiFFv7x5Al/B6ACR2TeAoAFLPy0GgFCy+\n",
       "b6kDkFzHwIbhOF5DBgbWL9gsMXZgYG7AEN3NwNA/gcH/AYQHsaMMxPzvAJLgV2BgQLPDgoFhvQMD\n",
       "awKDK5pzlSD+eKd0Ac0OxtAIAQYAPHcm+4/w6uQAAAAASUVORK5CYII=\n",
       "\" style=\"display:inline;vertical-align:middle;\" /></a> <a class=\"ProveItLink\" href=\"../__pv_it/demonstrations/db035ecf8d2c2835488017d699cf50a231380e3c0/proof.ipynb\" style=\"text-decoration: none\">&nbsp;&#x22A2;&nbsp;&nbsp;</a><a class=\"ProveItLink\" href=\"../__pv_it/demonstrations/c75186499838e23004c6e7bd4f41e0acdde601030/expr.ipynb\"><img src=\"data:image/png;base64,iVBORw0KGgoAAAANSUhEUgAAAPMAAAAVBAMAAABhxcWTAAAAMFBMVEX///+IiIi6urrc3NxERETM\n",
       "zMwQEBCqqqpUVFQiIiJ2dnYyMjLu7u5mZmaYmJgAAABN0h6tAAAAAXRSTlMAQObYZgAAAp9JREFU\n",
       "SMetVk1o1EAUfrvbbtL8rBXP4p56NeCpQrUHPQiCOXgSClJsURDMSTxYiCCFIrQLXrQoRiilLog5\n",
       "SgVNb1Upu4UKgk3RizerKAr9oXF+k00yk7rFOSRfXub73nvJmzcDALUN6Gb0rgYC67fPB9AwFqG7\n",
       "UR7L2957B9Go/ei0GeEZm6JKc87h1hF2fx2MINunvNT31NPK2tn8FIGG1kAX5Tp7sQzaT4qGQNnj\n",
       "tAfsfiPaRtdneV1i4iKGCy/quSkCDex6eWGXvVgHGKfomANbzFi6ysDiHUvuOhYxA6hezs4QaZCs\n",
       "a9z1NYAZi6CBOuww46mXDLhJioKsuUi1Aeqv7AyRRtr1mwBm2M9OPrjXnWt9F9Tf2Rnevq7ReMIX\n",
       "z1tWtjWL06a/fEDX+X1co9HH4dPDtlxD9dOs8jYDJx+zGJaA087D6TovZ+0VGW3ycC/j+jiLetDp\n",
       "8eUaN+1MwG5cGaPsW8U0gB70jfR2NmllLOOal/MsqI5U4+L9DCtMFMdJ2ordQTNx/Uz1Z5rTOSst\n",
       "YrLgTG4Rawyksy7xlE4AXCARvwNOQ/8Gr3rdlTSnWOQou1eHGRBrqMMp1gRU6OKKAub6Vhj+WaVK\n",
       "Pskj9a9pGHdTrpU2DhyNFu+vYo10hfd6UKKur3TUOmsHJqoE/x8q/BLAEQIOoU3FkWsQ1yXEauFa\n",
       "HGw+n6JoE6/rls/CMHB7qbThqyVf11ykMtv82CAE04UVW66BXZuTOxvQ9wi3lCjaoqgcrtUpgrlo\n",
       "Gh7iLzC0sC5vKbGIHkVRgxKam/0FGiRrMm5DAVKCdIqCrGUEqYYWd/pkzxUgDYpczxcRpBrxfm3E\n",
       "q1WElhJa0X4tIBRo8FNKLbaLUHIAKo/mXeuenFCgofyPs9lE92ezv5hSFuXa4uYQAAAAAElFTkSu\n",
       "QmCC\n",
       "\" style=\"display:inline;vertical-align:middle;\" /></a></span>"
      ],
      "text/plain": [
       "{c = 3} |- {1, 2, 3, 4, 5} = {1, 2, c, 4, 5}"
      ]
     },
     "execution_count": 131,
     "metadata": {},
     "output_type": "execute_result"
    }
   ],
   "source": [
    "# We can go the other way as well, replacing all instances of a literal by a variable. Yay!\n",
    "# Here we replace all instances of 3 with the variable c\n",
    "set_12345.elem_substitution(elem=three, sub_elem=c, assumptions=[Equals(c, three)])"
   ]
  },
  {
   "cell_type": "code",
   "execution_count": 132,
   "metadata": {},
   "outputs": [
    {
     "data": {
      "text/html": [
       "<span style=\"font-size:20px;\"><a class=\"ProveItLink\" href=\"../__pv_it/demonstrations/9aa948c983da54f70870d76d0f5b9799557984d00/expr.ipynb\"><img src=\"data:image/png;base64,iVBORw0KGgoAAAANSUhEUgAAAC0AAAAJBAMAAABUCbiJAAAAMFBMVEX///+6urqYmJgQEBDu7u5m\n",
       "ZmZUVFQyMjJERESqqqoiIiLc3NzMzMyIiIh2dnYAAABqS+z4AAAAAXRSTlMAQObYZgAAAHRJREFU\n",
       "CNdjYGB4e/cAAwpgeXt1AwPDrgkcBQwMfOVgEAASl9rA/YCBYR0D2wRU5ZYMrgcYWL8woAE2o7sq\n",
       "DAzMDeji/Akg0v8BmAM1HyTEDxbhV2BgQDWfCyh+gYE1AWQLMuAtYHAFuvOd0gU0C64qKTAAAJAj\n",
       "HuwRAEKFAAAAAElFTkSuQmCC\n",
       "\" style=\"display:inline;vertical-align:middle;\" /></a> <a class=\"ProveItLink\" href=\"../__pv_it/demonstrations/8b81fc03ab13da13badd9ba52dc2b02dc9278a8d0/proof.ipynb\" style=\"text-decoration: none\">&nbsp;&#x22A2;&nbsp;&nbsp;</a><a class=\"ProveItLink\" href=\"../__pv_it/demonstrations/5c7fbadc4839c0d625a30737f712310c753961df0/expr.ipynb\"><img src=\"data:image/png;base64,iVBORw0KGgoAAAANSUhEUgAAAPAAAAAVBAMAAACK8n6QAAAAMFBMVEX///+IiIi6urrc3NxERETM\n",
       "zMwQEBCqqqpUVFQiIiJ2dnYyMjLu7u5mZmaYmJgAAABN0h6tAAAAAXRSTlMAQObYZgAAApBJREFU\n",
       "SMellk1o1EAUx9/uFrObnd0kQj2oK3ta8NQ9ilBYL15EXLBXUWhBBC0Lgieh3YseBGnpwQ88pEcR\n",
       "S4/iB0aQIsKSlloUC216FKRoRVa2izgzL9kkm5k0wRyS/7yX+c3He28SAChvQYrr0nGBMR3CZZCX\n",
       "qTpBrRkxpUUgo/wjaHp/TfDexI1Ao7QcXXAIQc7OJWKo4dfeiGbYDWg1ih0yFVcTMYZ6dQV9sv1U\n",
       "A2utRIxwr5BfCD544DErESPcSxXFJ7R3Bw/8FBIx+G38+RGcZrFdcTdKNUZRjC9edk0fjXVqvyIe\n",
       "OPd17To2Xxif3TRbrNTljDzNsOwkvEW7/Zr84iL3AM7h5k/CBZxUdgFOD1L42St2YSoyBNTqRfSQ\n",
       "fcvG8U7Wc6accYvW1IoDn3DgGQt+clEw4S4X1LeJvpUW2RDmPUOQaSg1eEvpg6bzGVyFTlPKmFig\n",
       "z20L5tGxCaTHxbaXIVQ8RnVn5wQz5ueHS5QhSn0o6F6R2nyh+WnjewyDnSJTQH57ZZzFgprysNS3\n",
       "h+qPG0LhQXSoAXbTS6MxHlBtNpaRb7BFKu7h85dNnW1TzzuHfF8veExhjHESFMEWOeOWseNul2bG\n",
       "MmhKki7Nj5vctMfigTMAhXfyfXS3MtKstltwT+E5pVVpvN00AV3OYL3OwLdZk+zT1n04D1x8AbLB\n",
       "he87BmRdWscjevmhCjbN77wzsspFZhk6dTmD3T4YF9tVeEQ3qHOULpgJdWkHhe/LbO3KDxDSHj11\n",
       "GApPqFpbAi6gsuvEMHyQYklFQMWfXLcjQsrwY6bKRVAJBvbDbkaElOF/TN/JRUDFfo+JPixiGIPf\n",
       "B0cuAqpWjX4BBohyRMQwlP//51LS/3P9Az7KAipf59vuAAAAAElFTkSuQmCC\n",
       "\" style=\"display:inline;vertical-align:middle;\" /></a></span>"
      ],
      "text/plain": [
       "{c = e} |- {a, b, c, d, e} = {a, b, e, d, e}"
      ]
     },
     "execution_count": 132,
     "metadata": {},
     "output_type": "execute_result"
    }
   ],
   "source": [
    "# And we can replace a variable with a variable. Yay!\n",
    "# Here we replace all instances of c with the variable e\n",
    "from proveit import e\n",
    "set_abcde.elem_substitution(elem=c, sub_elem=e, assumptions=[Equals(c, e)])"
   ]
  },
  {
   "cell_type": "code",
   "execution_count": 133,
   "metadata": {},
   "outputs": [
    {
     "data": {
      "text/html": [
       "<span style=\"font-size:20px;\"><a class=\"ProveItLink\" href=\"../__pv_it/demonstrations/dffd09aa88b2bc8ee07b6ee35ee73674a2c093100/expr.ipynb\"><img src=\"data:image/png;base64,iVBORw0KGgoAAAANSUhEUgAAADEAAAAOBAMAAAB0nulXAAAAMFBMVEX///9UVFSqqqrMzMwiIiJE\n",
       "RESYmJgyMjK6urru7u4QEBCIiIh2dnZmZmbc3NwAAABRgo0vAAAAAXRSTlMAQObYZgAAAJ1JREFU\n",
       "GNNjYMACOO+GGjBgBRMZeH5gl7nJwLAKu8wSBgb5B1hl6icwyAMt4rtzeyWmpP8EBoauB+wfQOzj\n",
       "5SBQC5Hg+AN04TIG3gAMLSwCDAy8PxlYNmDI3AVirgCG+Rje4r4AJOYfYNBnQNhTCGbrMvA9YJiv\n",
       "wCDOhOZ45gMM3A8YWDewOfKgGfbkzFkRoNukNz/cge7T//+/MAAAzPsqnTE/4yYAAAAASUVORK5C\n",
       "YII=\n",
       "\" style=\"display:inline;vertical-align:middle;\" /></a>, <a class=\"ProveItLink\" href=\"../__pv_it/demonstrations/15682358f5c68c7f378654088bfd6dc8b0ec52de0/expr.ipynb\"><img src=\"data:image/png;base64,iVBORw0KGgoAAAANSUhEUgAAAC8AAAAOBAMAAABN+VgMAAAAMFBMVEX////MzMyYmJjc3NyIiIhU\n",
       "VFR2dna6urqqqqpmZmYyMjIiIiIQEBBERETu7u4AAACIO4EmAAAAAXRSTlMAQObYZgAAAKZJREFU\n",
       "GNNj4LuzgQEN8M28KwCkuCagSzxlYPsOpPgb0CXmMTCcAVL1D9AlTjMwxBswMGSjizOsf8AQD7Rk\n",
       "qcsMDCmG/Q8Y+H49eA/Ux5C1CgRWQsTZvzEwcPxj4HdA18AdwMDAuYDhfQK6xEyIN+rRHcwC8hq/\n",
       "AsP8B3A7loIlOhmYDRj4C/gOoWlgTGBgMWBgVeBFDxPrtMxoYIhNScLw4P//vxkA+54uPytZRqUA\n",
       "AAAASUVORK5CYII=\n",
       "\" style=\"display:inline;vertical-align:middle;\" /></a>, <a class=\"ProveItLink\" href=\"../__pv_it/demonstrations/b47fbfda54bf8644fd8865cbc67fe69dd5d2eaa30/expr.ipynb\"><img src=\"data:image/png;base64,iVBORw0KGgoAAAANSUhEUgAAAC8AAAAOBAMAAABN+VgMAAAAMFBMVEX///+6urqYmJgQEBDu7u5m\n",
       "ZmZUVFQyMjJERESqqqoiIiLc3NzMzMyIiIh2dnYAAABqS+z4AAAAAXRSTlMAQObYZgAAAItJREFU\n",
       "GNNjYMAE3O9eTGDABrYycH7CKnF/AsMvrBLCAgzfGbADiFFv7x5Al/B6ACR2TeAoAFLPy0GgFCy+\n",
       "b6kDkFzHwIbhOF5DBgbWL9gsMXZgYG7AEN3NwNA/gcH/AYQHsaMMxPzvAJLgV2BgQLPDgoFhvQMD\n",
       "awKDK5pzlSD+eKd0Ac0OxtAIAQYAPHcm+4/w6uQAAAAASUVORK5CYII=\n",
       "\" style=\"display:inline;vertical-align:middle;\" /></a> <a class=\"ProveItLink\" href=\"../__pv_it/demonstrations/488f8842c531fad7c74dfe3b9f73f4b04b80b2310/proof.ipynb\" style=\"text-decoration: none\">&nbsp;&#x22A2;&nbsp;&nbsp;</a><a class=\"ProveItLink\" href=\"../__pv_it/demonstrations/45c1afcf90f5f895524e28219c68093a8f6e7eed0/expr.ipynb\"><img src=\"data:image/png;base64,iVBORw0KGgoAAAANSUhEUgAAAPIAAAAVBAMAAACOB66tAAAAMFBMVEX///+IiIi6urrc3NxERETM\n",
       "zMwQEBCqqqpUVFQiIiJ2dnYyMjLu7u5mZmaYmJgAAABN0h6tAAAAAXRSTlMAQObYZgAAAzVJREFU\n",
       "SMelVk9IVEEY/3bVnj5nt93ADpW5J6FTC13MEDaIICJcyFMQhZnRIXsQeDJ0OxQWZCJRG0UrRZBg\n",
       "CB2KSHyCiAXLGipIpa63gtAywjTRZuab58z7J2zt4c3vzc73+8033595ABCehQJ+JR9M92RhFACn\n",
       "97AneVOYVfC8a6pQCoDqJNvvd3Vq5KKXn0fHlbdPbpdtFGTmSBJRUd9TY3O64ZKyJjRAH/odG8ug\n",
       "1xa3G8rLczF+SafTdzlCilYRhjHQlxDVgbYu7ZYVDm7hUF72Ut5vupUPPbHxkJtdYtFngGZEVQas\n",
       "yCitba1s+9/lpvry0sEDi0KZxqsrjtGMwR/HIn9lxwl4hQCVQ4af8pAJXSLQ6mmXj3sq1/XvRLvy\n",
       "VKWg1KMVIk8+VogQkN5K6swzjsvAT5n+HlvwXUaAut4zgvd9dIJanKWolKZZ8BwM4XzuLfmJevfg\n",
       "uKiAeLEIwb54EWVa5LhGUWYUqnJwVYDaR2KOCtQjDPZAraiGVnoyo3mYxCXtJvxAnzJwAx1twRqg\n",
       "6AJkk9axjSjKrUm7clmHhQKNOFIBUYyjBpnC+DX00HHOhG6rWAlueM7iCa2xXXDXWqLf2NgZsZ82\n",
       "p1CVZ+R/zabF9gAnrs/vZVOl3dhOmoD8snIpiEFtsmy3JSAXw6pGV8r5oEccHUkqB6xcOgBQbwg2\n",
       "Imr8Nw6vmXqCuamJNrTOfGQna4UKchloF/0EXcc4wyslzgmb8lUowqraMIWyIrAqux5NTLJMk+QK\n",
       "n1piIcEtgIbKBtzS4iL0ELFyG8aumd65XZKBQNw6N8xyRYAeekDkNjM7DF87MoRV/W04ARxMA5ni\n",
       "oDgSvq9DjiZZYACycdlWTh2zd88qEy0P9vV38vWwwOqZIymwG8iEUs9j0ZOpGKTp/rK7qMsM6C/m\n",
       "EZBURc0OKHtIl1Yu5J0NTSpPXx7Mc4OhjY0VXB+cmYwhkgKB2QV3D9NMXwDQ5t1KHY1PGrR5WGr2\n",
       "+PAjx1d/AJDZStlNoayXSLfvVV6uw/4ASMRxP+vp9OYt6UEh1yuWw/b7GTY/KPL+AMLyNmt03yhu\n",
       "irCHpUJXzTuE9v/fYdo/fIf9BQn2FrrgxqPgAAAAAElFTkSuQmCC\n",
       "\" style=\"display:inline;vertical-align:middle;\" /></a></span>"
      ],
      "text/plain": [
       "{a = 2, b = 2, c = 3} |- {a, b, c, d, e} subseteq {1, 2, 3, d, e}"
      ]
     },
     "execution_count": 133,
     "metadata": {},
     "output_type": "execute_result"
    }
   ],
   "source": [
    "# What if we do a sequence of these, and then call deduce_enum_subset_eq? Is it possible to \n",
    "# get back to where we began?\n",
    "# Try to show that {a, b, c, d, e} \\subset_eq {1, 2, 3, d, e} when a=2, b=2, c=3.\n",
    "temp_assumptions = [Equals(a, two), Equals(b, two), Equals(c, three)]\n",
    "elems_to_replace = [a, b, c]\n",
    "elems_sub = [two, two, three]\n",
    "num_elems_to_replace = len(elems_to_replace)\n",
    "from proveit import TransRelUpdater\n",
    "expr = set_abcde\n",
    "eq = TransRelUpdater(expr, temp_assumptions)\n",
    "for i in range(0, len(elems_to_replace)):\n",
    "    expr = eq.update(expr.elem_substitution(\n",
    "            elem=elems_to_replace[i], sub_elem=elems_sub[i],\n",
    "            assumptions=temp_assumptions))\n",
    "temp_subset_eq_kt = Set(one, two, three, d, e).deduce_enum_subset_eq(subset = expr, assumptions=temp_assumptions)\n",
    "eq.relation.sub_left_side_into(temp_subset_eq_kt, assumptions=temp_assumptions)"
   ]
  },
  {
   "cell_type": "code",
   "execution_count": 134,
   "metadata": {},
   "outputs": [
    {
     "name": "stdout",
     "output_type": "stream",
     "text": [
      "Value Error: In calling the Set.elem_substitution() method, the element 'c' to be replaced does not appear to exist in the original set {1, a, 1, b, 2, a}.\n"
     ]
    }
   ],
   "source": [
    "# Should get meaningful error message when trying to substitute for an\n",
    "# element that doesn't exist in the original set:\n",
    "try:\n",
    "    set_1a1b2a.elem_substitution(elem=c, sub_elem=two, assumptions=[Equals(c, two)])\n",
    "    assert False, \"Should not make it to this point.\"\n",
    "except ValueError as e:\n",
    "    print(\"Value Error: {}\".format(e))"
   ]
  },
  {
   "cell_type": "code",
   "execution_count": 135,
   "metadata": {},
   "outputs": [
    {
     "name": "stdout",
     "output_type": "stream",
     "text": [
      "Value Error: Set.elem_substitution() method requires the specification of the element to be replaced and the requested substitution value, but found elem=None and sub_elem=2.\n"
     ]
    }
   ],
   "source": [
    "# Should get meaningful error message when omitting the elem argument\n",
    "try:\n",
    "    set_1a1b2a.elem_substitution(sub_elem=two, assumptions=[Equals(c, two)])\n",
    "    assert False, \"Should not make it to this point.\"\n",
    "except ValueError as e:\n",
    "    print(\"Value Error: {}\".format(e))"
   ]
  },
  {
   "cell_type": "code",
   "execution_count": 136,
   "metadata": {},
   "outputs": [
    {
     "name": "stdout",
     "output_type": "stream",
     "text": [
      "Value Error: Set.elem_substitution() method requires the specification of the element to be replaced and the requested substitution value, but found elem=a and sub_elem=None.\n"
     ]
    }
   ],
   "source": [
    "# Should get meaningful error message when omitting the sub_elem argument\n",
    "try:\n",
    "    set_1a1b2a.elem_substitution(elem=a, assumptions=[Equals(a, two)])\n",
    "    assert False, \"Should not make it to this point.\"\n",
    "except ValueError as e:\n",
    "    print(\"Value Error: {}\".format(e))"
   ]
  },
  {
   "cell_type": "markdown",
   "metadata": {},
   "source": [
    "### Testing the `membership_object()` method\n",
    "\n",
    "The <span style=\"font-family:courier\">Set.membership_object()</span> method has the following format:<br/>\n",
    "    <div style=\"width: 50%; border: 1px solid green; padding: 5px; margin: 20px; background-color: gainsboro\">\n",
    "    <font style=\"font-family:courier\">membership_object(self, element)</font><br/>\n",
    "    </div>\n",
    "    and produces an <span style=\"font-family:courier\">EnumMembership</span> object of the form (element $\\in$ self), along with a number of related methods such as <span style=\"font-family:courier\">side_effects()</span>, <span style=\"font-family:courier\">equivalence()</span>, <i>etc.</i>"
   ]
  },
  {
   "cell_type": "code",
   "execution_count": 137,
   "metadata": {},
   "outputs": [
    {
     "data": {
      "text/plain": [
       "<proveit.logic.sets.enumeration.enum_membership.EnumMembership at 0x7faba803beb8>"
      ]
     },
     "execution_count": 137,
     "metadata": {},
     "output_type": "execute_result"
    }
   ],
   "source": [
    "Set(B,C,D).membership_object(C)"
   ]
  },
  {
   "cell_type": "markdown",
   "metadata": {},
   "source": [
    "#### `membership_object().equivalence()`"
   ]
  },
  {
   "cell_type": "code",
   "execution_count": 138,
   "metadata": {},
   "outputs": [
    {
     "data": {
      "text/html": [
       "<span style=\"font-size:20px;\"> <a class=\"ProveItLink\" href=\"../__pv_it/demonstrations/b3b6142b4fe767f00a0551bc7c857c6fa16314550/proof.ipynb\" style=\"text-decoration: none\">&nbsp;&#x22A2;&nbsp;&nbsp;</a><a class=\"ProveItLink\" href=\"../__pv_it/demonstrations/5b7dd72aed1c68919667e642e51cd41e2afdecc00/expr.ipynb\"><img src=\"data:image/png;base64,iVBORw0KGgoAAAANSUhEUgAAAdAAAAAVBAMAAAAEIaKAAAAAMFBMVEX////MzMxUVFR2dna6uroQ\n",
       "EBCqqqqIiIgiIiJmZmYyMjJERETu7u6YmJjc3NwAAACgK8IjAAAAAXRSTlMAQObYZgAABGNJREFU\n",
       "WMPVWEtIVGEUPjNj4zjOmLiN0KJFIZUbM2njJjAIsnDVA6ZFUBA1u2iltJAIiUF70NvITS3KhEro\n",
       "NZsodJG0EVqU0CYiKIOystc553/e63//O5abDpx7/3v+853z/fd/3gsQKflLEC+Js2X4T6Ru0m3P\n",
       "XasIXrUdID3tDhsVWsuhSsn8A4LIMcEJeno6OjD5JtShH+n64veagfsdyma5vfg92jxK+POo6+bH\n",
       "n/CE1mGT0w6UGyGtC0AohuskwZuo1XsADuwJ+qV6+bYLoGZGmgJu3/FdfMH7RtTx+Q296Qmtw+aG\n",
       "ePizpR68CGkViHoD8+SQDMcFwXwJR+kYTrSaX66GJn7i6PwmB7PtlpjFy2nZ0FRx3gQveUKbsG30\n",
       "kCTe+SL4ENrKiBV0mQLw55AMiRxqBjs3u5smW5dgOHb8hNXQasTnZwXSdoNq6uZtk6Khua5wFgob\n",
       "Dm33jwz7hBk1EaAMPoS2MqKBLv0A/hySIZFDfYtPVwqUrsRJ75UDPVpLsfuFxXLDCprCH1pEQ2E4\n",
       "nOWt1ADGiAqb7VDDbwt4EdrKiCw2r6oEMTkUw2EmeBQXrq88OHiaj5eDQ3dpEySOCZvthhUj9L6w\n",
       "L1rpqT2c5ajQIMaICptiegdQH4EPYayMSOOldhpiciiG7UzwIWJnTa1ZP5M87RvXTo0VZMtn7TCN\n",
       "NKd68H29pqeX7HCDhbk/FGph7FodNs9JMtghI+BDGKtAYCcsA4jJoRi+ZIJ9mGfG8B/RpX28tPVM\n",
       "Q26HnHYzdkN7qHo9jqMshd0ffp19QoMYCy3DpsVCUIRkB/gQxioQRwBWAcTkUAz3M8FugCU/uO95\n",
       "iu6kN0KlZSfZ+w4hRJdabiiP6fKZLqvxzTWGs3QLDWKMqLAJ3qxzvXKDikQYq0A8k/uML4dm2MiK\n",
       "nhnG7uW5YHp0M/foJ2IkNg/LDWWOhtFPWhiaILqhQYwRFVbQhjOwQaHcCGMViJpCquBHWAxFQ/vU\n",
       "FtTCtWaRTo7I/Y67H4JuYpN6Qi48RzutGdJkDV0LY9fqsFXiVPIOetVAdCOMVSDqhjLgR1gMO1lx\n",
       "NteRKSWW1rPBAwPtd4k5ufJZbrxJ5XiMt+rFyBa5GAUwwW2Uw4qlBWqXFxXKjTBWibg9BX6ExVAs\n",
       "RrT2Hp6E9EU5RgqBhmaxhzc/AHg+ZNy4nMXx0smrG++jg+E07VKt0Pb2L8NCjRggidVljXIjtFUi\n",
       "GvohBmEYDrJSv+YurDyljlrNW62GJm99Otd8l9rfb9yojBUDzZdBN/RqOE2nVCu0ER0WsvXCct2g\n",
       "nAhjlYhsKQZhMbzKmglttFWbAkdAJQcjyvII2Bt1BIyRZ/L+3qAqQ9SVK0YQOdR8KaI+FTg8tkSU\n",
       "4w71MdI2H7XoCHmoF2cv1w+Gj/ZbKbrL8nvU8Zn2CKJDm1BDDtQiI9RnmvhydYn9hyEfUcah3u3O\n",
       "NuELrc/dzs/oxUXoVx75LyJd8T+j/N/+Snm14B8jC0cQOdQ/bPHQu0+MTZYAAAAASUVORK5CYII=\n",
       "\" style=\"display:inline;vertical-align:middle;\" /></a></span>"
      ],
      "text/plain": [
       "|- (C in {B, C, D}) = ((C = B) or (C = C) or (C = D))"
      ]
     },
     "execution_count": 138,
     "metadata": {},
     "output_type": "execute_result"
    }
   ],
   "source": [
    "# With variables\n",
    "Set(B,C,D).membership_object(C).equivalence()"
   ]
  },
  {
   "cell_type": "code",
   "execution_count": 139,
   "metadata": {},
   "outputs": [
    {
     "data": {
      "text/html": [
       "<span style=\"font-size:20px;\"> <a class=\"ProveItLink\" href=\"../__pv_it/demonstrations/512f113e60eb71440952bd6c63aff356ef138bbd0/proof.ipynb\" style=\"text-decoration: none\">&nbsp;&#x22A2;&nbsp;&nbsp;</a><a class=\"ProveItLink\" href=\"../__pv_it/demonstrations/48b3cb925d0189cda2bc87ad82d3d1d9eae723eb0/expr.ipynb\"><img src=\"data:image/png;base64,iVBORw0KGgoAAAANSUhEUgAAAZIAAAAVBAMAAACebnUdAAAAMFBMVEX///9UVFTMzMx2dna6uroQ\n",
       "EBCqqqqIiIgiIiJmZmYyMjJERETu7u6YmJjc3NwAAAC+aOQFAAAAAXRSTlMAQObYZgAABBtJREFU\n",
       "WMPNVz1oFEEU/pK7S3K/CWohCubESiwMBInRwmuECIJBIogKXiNoozYiAdEVwT9EVywkaHFKGi00\n",
       "iKggxrUQo2muEwV1wSYWiqiISPSceTOztzO7c9nrfDBzc2++9+17M/PmB7DIm7qtB6uP4b+UUqzL\n",
       "rwZamGwuA11+PFXJOgJRi8/WLxxEe1jingU+Dj4wuz9o/15euyd9HdxYBbI11lwR5Zy10pGYFoUp\n",
       "yadrJx6X0eEnwpKKsJz7DkouDpkjuZ5X+zxJ04dNFWp9QtcfIOXwWYu6esdKR1TCosyrTl7lfMmn\n",
       "yTOkfqBQS4QlFWEZd9FF90/0OtFICov7ZSRZD5lRap2o4peMJHXY9JZRWegElbBYxKvXlIqKT5Pr\n",
       "wA5gCEmwQjUkvOnxkR5DrxiD4qOz50Nz8kFGknHQ8VdkSAW/ZSSFUTMSRqXThVerpyxW8uoCry4q\n",
       "Pk12Av0+niMJVqieC2/mSCWWQ+dDT1tdKpLcPDq+qbxVqwuTprdzsiBmdRHVpFwnSLt8kTuKT5O7\n",
       "HvrLyFWSYIWKsJMYp9k/JTYsD7GR8PGel40ZtqmlaHCHTdZxWRRdJBKy6GKe5XmSdruKz5RLHlJu\n",
       "Miy54xL3Ex7x+uvm5rLMiGSbJPl4jumKX3nzLa9St0noQ09kkXThLkFFFmDDu4b/5uuKz8Cmv7NP\n",
       "1KzYDQS9FXKnRtynSXOEJnOqOWnbjUhOqkb3GKuIZr85PqdlUXSROREWR4ElNM3VgM/Itz7mgJMM\n",
       "y1WE3Q/RmdnD02QXD5YS5pGvR5J1A9sdTNlxhjXWmqxjski6aCTCYkbusZlKwKfLBPfgazIsVxF2\n",
       "Lf90yUf+J18VzTlJG3MyLn+/AE/Z8NxAi0gUnS2SbDVVVd5JPn2Y3WYkC2CFSkbClkPvvPx0aF9d\n",
       "rkXCMu8LNRoeNxV5MhJa4H2h1aXowl2CakQczLUeqBUj+HTsAT4WaceKFXlyo+kOYUd4imam5NZ0\n",
       "FZa9axVwnBq7xcYyGmR8WGTGB3SROZEW9+isoywWfJp0DqDbVxm/AFaoZMaznbFYlwdAT1WP5ISH\n",
       "Aj+MSqcGLzvUehc6T66Y3g6LEtBpp7HXtFhJZx1tnu+iZ8Tc4PBStqwGkmCFirBXaMa3TNwXl4rl\n",
       "W8ORXN57q46zzIVco9FwqJWeuFZRkdw0vR2RRdGFhKiURU5uto7i00/GRoPdQHLlJFihIuxNumI0\n",
       "ezZqtxVKES/aErcVx3JbsYqyKEmiiy0eDjNoD8u4i25s77rAa8S0Wt4grWJavGnh3RDaw3Lu6dje\n",
       "4H3yAtFWthZ/q5+GjU5choz/efv8FWptYl/J51FUcuqK08zdevgKGuvyrJUuCNR4Pdkk77eJnba+\n",
       "fnFggXd8se3Xb7GN1+97tIdl3P8Ae/6rkI9JWrAAAAAASUVORK5CYII=\n",
       "\" style=\"display:inline;vertical-align:middle;\" /></a></span>"
      ],
      "text/plain": [
       "|- (3 in {1, 2, 3}) = ((3 = 1) or (3 = 2) or (3 = 3))"
      ]
     },
     "execution_count": 139,
     "metadata": {},
     "output_type": "execute_result"
    }
   ],
   "source": [
    "# Works easily with literals\n",
    "Set(one, two, three).membership_object(three).equivalence()"
   ]
  },
  {
   "cell_type": "markdown",
   "metadata": {},
   "source": [
    "#### `membership_object().conclude()`"
   ]
  },
  {
   "cell_type": "code",
   "execution_count": 140,
   "metadata": {},
   "outputs": [
    {
     "data": {
      "text/html": [
       "<span style=\"font-size:20px;\"> <a class=\"ProveItLink\" href=\"../__pv_it/demonstrations/b25770a14990992d9fa1f806e7a03f9e1e9e187d0/proof.ipynb\" style=\"text-decoration: none\">&nbsp;&#x22A2;&nbsp;&nbsp;</a><a class=\"ProveItLink\" href=\"../__pv_it/demonstrations/6e2e2ac32f7b4f5b5946d4ab18830aac87e704480/expr.ipynb\"><img src=\"data:image/png;base64,iVBORw0KGgoAAAANSUhEUgAAAIEAAAAVBAMAAACTeZA2AAAAMFBMVEX////MzMy6uroyMjIiIiKq\n",
       "qqoQEBB2dnbc3NyYmJhmZmZUVFRERESIiIju7u4AAACOKgoaAAAAAXRSTlMAQObYZgAAAgRJREFU\n",
       "OMuNVDtLA0EQnhjPqGeihViIYArRUkHQTi0SsDJWFhaiYimYIliqP0BIWlFQEIIPxIA2hmBCEJsI\n",
       "XmUlepWID3yhKFF0ZnfNzUqCmWL2Zvabb2dn5waguNRswv/i2rFL7vl6oRypmJDo8+RBdfhPCo+k\n",
       "0vmtVLZAymDL37lUbgE/1oV5FgMjHtMZPAOkqzIAuw3KpcFekP8V1wgZd0OodheKMbRiQOea9Ggw\n",
       "1xeq+C9DD1WjXe6sBAJdjOESA1YtucVh4H1C1RmTDLWUDDSLjZYLPYdjvP2ULDeHAdRRmaJhyRAV\n",
       "2GtRq74/t8gDNB5KB4Oh1GcohwTALK7zViHMdIph0mVc+aXzoHIwGBWIrEvMYRXXUEPBX+dARsjr\n",
       "fQe4SkgHg1EwWWk/gBvrPCPuKVRTN4qoZMugYBxHllcZw2Aop6TeSO1bEKLVECcsOoe0k6Mez/d+\n",
       "qRwcGMon9dsHKndCPbFH+KscBjOj2sF8lg4GU+1wRRCqQ5SKMidfzNLfgtqhNaPewoHJdvB10xe9\n",
       "hYHJjKr7BXWGHvx1pm3wvTDYA9XJje3QJnpV9ORNLulXcbdZmzHsfSe3T4bRCNgOrBKb2+zPb6c2\n",
       "oMDApeNI62olBp8CY1pApOSP7xnnBt8Jl8kg5sOv3PPRo/Wmmg9Fhc8oPjtq9Bk1WZrBKHtO/gDp\n",
       "35YWdjQqXQAAAABJRU5ErkJggg==\n",
       "\" style=\"display:inline;vertical-align:middle;\" /></a></span>"
      ],
      "text/plain": [
       "|- C in {B, C, D}"
      ]
     },
     "execution_count": 140,
     "metadata": {},
     "output_type": "execute_result"
    }
   ],
   "source": [
    "Set(B,C,D).membership_object(C).conclude()"
   ]
  },
  {
   "cell_type": "code",
   "execution_count": 141,
   "metadata": {},
   "outputs": [
    {
     "name": "stdout",
     "output_type": "stream",
     "text": [
      "Proof/Instantiation Failure: Proof step failed:\n",
      "Attempting to instantiate |- forall_{n in Natural} [forall_{x, y_{1}, ..y_{_a}.., y_{n} | (x = y_{1}) or ..(x = y_{i}).. or (x = y_{n})} (x in {y_{1}, ..y_{_a}.., y_{n}})] with {n: 3, x: A, y: (B, C, D), (y_{1}, ..y_{_a}.., y_{3}): (B, C, D)}:\n",
      "Unsatisfied condition: (A = B) or (A = C) or (A = D)\n"
     ]
    }
   ],
   "source": [
    "# Will fail to conclude without suffient info. In particular, needs to\n",
    "# know the element in question is equal to one of the set elements\n",
    "try:\n",
    "    Set(B,C,D).membership_object(A).conclude()\n",
    "    assert False, \"Should not make it to this point.\"\n",
    "except InstantiationFailure as e:\n",
    "    print(\"Proof/Instantiation Failure: {}\".format(e))"
   ]
  },
  {
   "cell_type": "code",
   "execution_count": 142,
   "metadata": {},
   "outputs": [
    {
     "data": {
      "text/html": [
       "<span style=\"font-size:20px;\"> <a class=\"ProveItLink\" href=\"../__pv_it/demonstrations/8b9397f11dccfea91cd42f9148eaae32e0e564390/proof.ipynb\" style=\"text-decoration: none\">&nbsp;&#x22A2;&nbsp;&nbsp;</a><a class=\"ProveItLink\" href=\"../__pv_it/demonstrations/9ebdc040710111a7d8a2f71dd80ab42b0696de640/expr.ipynb\"><img src=\"data:image/png;base64,iVBORw0KGgoAAAANSUhEUgAAAGgAAAAVBAMAAABYjraNAAAAMFBMVEX///9UVFTMzMzu7u4yMjIQ\n",
       "EBC6uroiIiKIiIiYmJhmZmaqqqpERER2dnbc3NwAAACDMjhQAAAAAXRSTlMAQObYZgAAAaxJREFU\n",
       "OMtjYMACOFcy4ARazdjFmX0Z8IBUBSDx9u5pdIs+oBix6owChMV3984GBgYuByBrAcP+CaiaeAtA\n",
       "5FYDCM+QgfcbhPWKgfsnRJbjNwN/AaYmZll5qKbFDAyhEFb/BobvEFm2MAZ+B4irjpeXINk0H6op\n",
       "nIFB/gHENwkMX2CyUOcxnTBAcR5Mk78BgzzUU3DnAV1SCxYwMWDAqgkI6mFM8wtA2QBQmFxfDBaQ\n",
       "g6thdEDVxPYXynhbZQAP29YEEHkArmmrAqomdgEYiyMMSHiBmazBIC+FuAABiKtTx4CqaRUiYEOB\n",
       "gowVDHwPGHh+g1x5ADXOEZo4FkAZ7xgYzgNj15GBgf8zRBNDAMJPB1A07QIZDAL/DUCaQH5iPcDA\n",
       "/hkktIIBe+gxXWDggGiKAYcjKPQ4J0DjiX0DqqZ+AwZmYFwyPL97S5zBHhSgMxHxlLXqGCRhyiQj\n",
       "a1oY7zWBoRxom////98Z2ItBQb9qTQI8RcCi4w5KMgKnAHgIbkZzPAbghYcJL1zsAiFNiPxkAc9U\n",
       "DXBZLgfsmROec+EZjRMp5yZg18RNoIwAAEJIbxoFzxD2AAAAAElFTkSuQmCC\n",
       "\" style=\"display:inline;vertical-align:middle;\" /></a></span>"
      ],
      "text/plain": [
       "|- 3 in {1, 2, 3}"
      ]
     },
     "execution_count": 142,
     "metadata": {},
     "output_type": "execute_result"
    }
   ],
   "source": [
    "# Works easily with literals\n",
    "Set(one, two, three).membership_object(three).conclude()"
   ]
  },
  {
   "cell_type": "markdown",
   "metadata": {},
   "source": [
    "#### `membership_object().unfold()`"
   ]
  },
  {
   "cell_type": "code",
   "execution_count": 143,
   "metadata": {},
   "outputs": [
    {
     "data": {
      "text/html": [
       "<span style=\"font-size:20px;\"> <a class=\"ProveItLink\" href=\"../__pv_it/demonstrations/ab268131372658cf1e8a1933168160e8741936f20/proof.ipynb\" style=\"text-decoration: none\">&nbsp;&#x22A2;&nbsp;&nbsp;</a><a class=\"ProveItLink\" href=\"../__pv_it/demonstrations/b465277ad9a200da0334988fd87d087e84bee9d20/expr.ipynb\"><img src=\"data:image/png;base64,iVBORw0KGgoAAAANSUhEUgAAAREAAAAUBAMAAABYABS6AAAAMFBMVEX////MzMxUVFR2dna6uroQ\n",
       "EBCqqqqIiIgiIiJmZmYyMjJERETu7u6YmJjc3NwAAACgK8IjAAAAAXRSTlMAQObYZgAAAr5JREFU\n",
       "SMeVlk1oE0EUx//5sG6T3Vp6FWkUD0pQc7J4y0WoJ0W8aSHe7EVzE08NHnrqYYlVEEUjeLEHrQGl\n",
       "oMZcgqW9hF4CHiTgRUSwKWjVWut7b3azuh+zzULe7rx9v/nPvHkzWWCkDf111e+II4a6gxJKY5XN\n",
       "u3q1/dH/em3naPVVEUl/x9GE4z2OXRNrO/V8vas0ntJv7xQwPRXo9yIw3INZ4+eEeEahJRzviher\n",
       "MI3GL8D6LhqWDZhLTdL84w9KbAPpn8AEN5LcsVWGjnC9KQ7DQTYdQK+xSea2aBiUl8wlaqbPBWZI\n",
       "nEWRLUFyZIwmdITrNeXFGJs5QK/RI3O2zRqf6OlhiaVsf1SWuBZ1lSm6GT7DD9FE3/tYxkX6aVtP\n",
       "ILtO5muBNW5QZf+Q1AYqfl8OiZuUhZTw0/Rr8EMk4XlPyRYiLNvVEqSxyDnJscYbUtrsv0gtyKWG\n",
       "Pn6ss8QzsaRkDZoSY9GE530vtgLsh5YgDS6pmQJrzJJGL3yTz3RhnufJVWRFy0jKMkUSnveK2OvA\n",
       "YWgJ0uCNcKLIGheAPb8lc4GoFxxJSUmsy/uKszsjCc87Lu1l5wDQabxl8000KMoQpcuBqA0eSdkd\n",
       "Ce7gpNtvOOF51UiGS6mSngC2ePW3RWPW3eWFf9Yw5x4nnDikZXXwGRU31+GE551UFVwzoCfUcdJa\n",
       "FA2qphFuppphx0liq1+xyB4ou/UXTnheVbF43oGekOPEXFAavOGutTF0P5C4DB0np1/zXAvqODyi\n",
       "Ooom+t5bqj02hxgiQ4s2aSsNTqR579B8ICj5bONu/qWEjyrPE3WLJDzvI0fHjiFIo5p/4GgYXcRd\n",
       "y879i1OYsYRZcZaruVuCNSw7Nmri/2Y8of4BByFEoxE7w5rPEUusYFBCNFbjorKhX0q6q4FBCdGI\n",
       "/bL7MOi3oDX41yNp/AWsBQvD8xSA4wAAAABJRU5ErkJggg==\n",
       "\" style=\"display:inline;vertical-align:middle;\" /></a></span>"
      ],
      "text/plain": [
       "|- (C = B) or (C = C) or (C = D)"
      ]
     },
     "execution_count": 143,
     "metadata": {},
     "output_type": "execute_result"
    }
   ],
   "source": [
    "Set(B,C,D).membership_object(C).unfold()"
   ]
  },
  {
   "cell_type": "code",
   "execution_count": 144,
   "metadata": {},
   "outputs": [
    {
     "data": {
      "text/html": [
       "<span style=\"font-size:20px;\"> <a class=\"ProveItLink\" href=\"../__pv_it/demonstrations/be19e9791d8be91519bc80179928ed2ed872ce920/proof.ipynb\" style=\"text-decoration: none\">&nbsp;&#x22A2;&nbsp;&nbsp;</a><a class=\"ProveItLink\" href=\"../__pv_it/demonstrations/4b40f17f5b965c0a6cb8d154e580dd491cfe526f0/expr.ipynb\"><img src=\"data:image/png;base64,iVBORw0KGgoAAAANSUhEUgAAAOsAAAAUBAMAAACe4NcqAAAAMFBMVEX////MzMxUVFR2dna6uroQ\n",
       "EBCqqqqIiIgiIiJmZmYyMjJERETu7u6YmJjc3NwAAACgK8IjAAAAAXRSTlMAQObYZgAAAlpJREFU\n",
       "SMetlj1oFEEUx/+579u72wuxtDCitR5c4VeRawRTmSJWCl4jWKmNiI1ZDAiCJEusQlKcYhOLkIDY\n",
       "GbcRYtKkkwjqQhotDNqEEE7Pee9tOJnZPSawU7yb+c/v5s28ffN2AXcLCa0Q6spPpMHeIbMJ7DTf\n",
       "xs6f0cbVFbjNS20d+7iwasuylKEtLsP1cdc48q0A2ODeMJkhMk6IHyj80R2MYqxlybJU7QA1H8U9\n",
       "1D1tqVNnldvsPeqfJPOJzDYw1ca+tlQ5QH7CkhXpHFAKkZtEvaOf9ptyW52g3giZZ2RmgMstHGhk\n",
       "3kPmryUr0gfgOw/NIJNbvIrChZxPD4ZDYgTO6SLz25IVyWnhIcd0GrFuLzColqlQFhRpPaw3zNwr\n",
       "da1ZkrI+3tHWzi+Skn3Nze+7/cxdtfHj9FuhkOw8DQwWVxuD2IuMLvE8S7UOnvDofiv2tLe5+wA4\n",
       "zWfi61CcNE/72J4lqeBBJvI3Yt2ekLhwyitI9nYt0Nmyb8+SNPSL3LohKnsD3Jbb2fbhUrvAe6Ne\n",
       "cH5YsSIptyrI9a64jZ7XaN/tFSktnRIOA9cLZKn/WZVHu4NYebYvSRYp51FK5Vc4FWNOK2mCVS4A\n",
       "nCbXgVk9cMeAR5asSCqlVN7XtmLu7RT94bn0R7gAUN7ji3kX3enmnGfJilRucGzG59/oXuduLqmd\n",
       "vIgKgtwTFRvk5hf0pHd6vZ5nyYrkDFNxTGzVqFK7UahmkA67zq+CxCblvd+2kQ6rXgVYS57e0MaV\n",
       "MBWWb/Zm8lJr5qs7DZZ3lPxRUzvCh8pR2K/AP9qU9hrzYaEUAAAAAElFTkSuQmCC\n",
       "\" style=\"display:inline;vertical-align:middle;\" /></a></span>"
      ],
      "text/plain": [
       "|- (3 = 1) or (3 = 2) or (3 = 3)"
      ]
     },
     "execution_count": 144,
     "metadata": {},
     "output_type": "execute_result"
    }
   ],
   "source": [
    "Set(one, two, three).membership_object(three).unfold()"
   ]
  },
  {
   "cell_type": "code",
   "execution_count": 145,
   "metadata": {},
   "outputs": [
    {
     "name": "stdout",
     "output_type": "stream",
     "text": [
      "Proof Failure: Proof step failed:\n",
      "Attempting to instantiate |- forall_{n in Natural} [forall_{x, y_{1}, ..y_{_a}.., y_{n} | x in {y_{1}, ..y_{_a}.., y_{n}}} ((x = y_{1}) or ..(x = y_{i}).. or (x = y_{n}))] with {n: 3, x: 4, y: (1, 2, 3), (y_{1}, ..y_{_a}.., y_{3}): (1, 2, 3)}:\n",
      "Unsatisfied condition: 4 in {1, 2, 3}\n"
     ]
    }
   ],
   "source": [
    "# The unfolding will only work if the membership_object is true:\n",
    "try:\n",
    "    Set(one, two, three).membership_object(four).unfold()\n",
    "    assert False, \"Should not get to this point.\"\n",
    "except ProofFailure as e:\n",
    "    print(\"Proof Failure: {}\".format(e))"
   ]
  },
  {
   "cell_type": "markdown",
   "metadata": {},
   "source": [
    "#### `membership_object().derive_in_singleton()`"
   ]
  },
  {
   "cell_type": "code",
   "execution_count": 146,
   "metadata": {},
   "outputs": [
    {
     "data": {
      "text/html": [
       "<span style=\"font-size:20px;\"> <a class=\"ProveItLink\" href=\"../__pv_it/demonstrations/a40e505b6dee5ff3d63771047994ddbb2d9a788b0/proof.ipynb\" style=\"text-decoration: none\">&nbsp;&#x22A2;&nbsp;&nbsp;</a><a class=\"ProveItLink\" href=\"../__pv_it/demonstrations/ceed5dc6b0287197dac1f0ea4c9dc7342178312b0/expr.ipynb\"><img src=\"data:image/png;base64,iVBORw0KGgoAAAANSUhEUgAAAHwAAAAVBAMAAAB2y5cfAAAAMFBMVEX///9UVFTMzMx2dna6uroQ\n",
       "EBCqqqqIiIgiIiJmZmYyMjJERETu7u6YmJjc3NwAAAC+aOQFAAAAAXRSTlMAQObYZgAAAY9JREFU\n",
       "OMtjYMABbl4AU0zTDzDgBXwXsImeMoAyWIKARB5u7acZGE7O3oQuep8BJjwLiBkfoMvP6ACBRgaG\n",
       "dQw8Agz2DmjSFgwwYSCLgWcBFnvTQQTvBAbOAwysAZjaocIg7QzmuLRzPGBgbWBg/AcRut3RsQCm\n",
       "HSoM1n4Ul/YXDAxcfxgYP4FFtGuQbIcKg7VzOeDQXglmcvwBkTxrkB0PFTYFMZgn4NC+F8z0B8cT\n",
       "UgBLwYXvg0MI7CWrVSCwEll7G5jZCCa54brZguDCXCCL2Rpw2B4CIjghblMFGQ6yh2nHA4SwRAFQ\n",
       "4AM+7ZAAYHgNlwKnNYgwlwADHu0gx7NNYHgHYrMi5KThwmC/szQg/L4QPeiUGRjqwI4tQAl5iLAp\n",
       "Iuiw2G4JzDTNxhMhQdOGrB0qDI5CTgMc2j2Avvv//z9E+8EtB5CSDUQYkmwUMLX7QhMtEnDegUi0\n",
       "yAnoBK78yjsBq7ApqnZznPl9H1bR+3DWLFwZFl5cYAFc8NIGlDC4H5BYWDFkIpd193BpBgCjgXCW\n",
       "eACQ4QAAAABJRU5ErkJggg==\n",
       "\" style=\"display:inline;vertical-align:middle;\" /></a></span>"
      ],
      "text/plain": [
       "|- (2 in {2}) = TRUE"
      ]
     },
     "execution_count": 146,
     "metadata": {},
     "output_type": "execute_result"
    }
   ],
   "source": [
    "# The purpose of the derive_in_singleton() method is very unclear\n",
    "Set(one, two, three).membership_object(three).derive_in_singleton(Equals(InSet(two, Set(two)), TRUE))"
   ]
  },
  {
   "cell_type": "code",
   "execution_count": 147,
   "metadata": {},
   "outputs": [
    {
     "data": {
      "text/html": [
       "<span style=\"font-size:20px;\"><a class=\"ProveItLink\" href=\"../../../equality/__pv_it/theorems/2740ee762f4cb09dc1cca5f0ea489cc6a83ece200/expr.ipynb\"><img src=\"data:image/png;base64,iVBORw0KGgoAAAANSUhEUgAAADMAAAAUCAMAAAAX1vWWAAAAOVBMVEX///8QEBAkJCQNDQ0oKChm\n",
       "ZmaqqqrMzMxEREQyMjIiIiKYmJh2dna6urrc3NxUVFSIiIju7u4AAACrOLOkAAAAAXRSTlMAQObY\n",
       "ZgAAANNJREFUOMutU9kOwyAMM9u4Wo7A/3/sSK+N0iIxLQ+AglPbIQW64RJGI9jhEkQ/TmN+oNH/\n",
       "pElEMXhydL4wuoZJRgRRWpkcME+E6eiRs0u8nrzKIwsvykZ5ewKXE3zo0gQFyV81LDjth1PoWDsA\n",
       "BGvLu4VMbY058/oiBjpv7Mfhy89DrK4+bIs0Yk9QafVF9WjZ0BDHffFZwZSaMNdCZCNWRkYzLEWi\n",
       "0vq5LoFtB5qRMofbd1byOi87g35BEws85ftBV67NTUW9oSEa+OKmN+f9X+0NZpkIQHTqGcUAAAAA\n",
       "SUVORK5CYII=\n",
       "\" style=\"display:inline;vertical-align:middle;\" /></a> <a class=\"ProveItLink\" href=\"../__pv_it/demonstrations/5fbdf9a84b37a273ddef6ba6fc46210d1037ad3e0/proof.ipynb\" style=\"text-decoration: none\">&nbsp;&#x22A2;&nbsp;&nbsp;</a><a class=\"ProveItLink\" href=\"../__pv_it/theorems/5e2819d88a820e9dc8d891f04694452d9b3c3e9a0/expr.ipynb\"><img src=\"data:image/png;base64,iVBORw0KGgoAAAANSUhEUgAAAH4AAAAVBAMAAAByPkciAAAAMFBMVEX////MzMxUVFR2dna6uroQ\n",
       "EBCqqqqIiIgiIiJmZmYyMjJERETu7u6YmJjc3NwAAACgK8IjAAAAAXRSTlMAQObYZgAAAalJREFU\n",
       "OMtjYMAFbl6A0JI1DHgB3wWswqcMYCxXAQaGPNz6T2MXvg9ncS5gYGB6gEWJGJhch12/BZzF3MDA\n",
       "wLMAi5J0EME7gRj9DOa49HOguIx3R0cXVv1Hcel/gSzCuP0ADvu5HHDorwTi40VPigvAgX4A2f08\n",
       "lQUMTw8wMAeADJmAQ/9eoDoD3nYOcADpISS1gHpYAhjqgX76APIYWN5qFQisRNbfBlR3gPkPCzgY\n",
       "NsC1swUyMDwDxtxuIBuknq0Bh/0hQPsZuCEaGaNAxoNZO4DmHWAtYPgO5DC1AwU+4NbPwMBfAEmK\n",
       "CPtZgPYz+B9g/AikFjHg0d8GIuQFICIBCEltIJ7FwB4A9T9LA8L/i9DCj+1APQM7OOSno6afTQzc\n",
       "CgyQ8OddgMN+S6AzE/YzvAWLcCSg6J/E4H8BGv+cBjj0ezAwHCo/PheSCXm0fZD1Hyqf/wCWfgTQ\n",
       "NM/o6Ajt6GhCS78s1qjpdxYs/Z3AlX1x5R9TYLwt4PmCL/9AwD6c+Z/jAncBNP9jzb94yw8uAwaW\n",
       "8ong8geYdbgfkFp+MWQil3/3cOkGAEM5cc+CfkuHAAAAAElFTkSuQmCC\n",
       "\" style=\"display:inline;vertical-align:middle;\" /></a></span>"
      ],
      "text/plain": [
       "{x != y} |- (x in {y}) = FALSE"
      ]
     },
     "execution_count": 147,
     "metadata": {},
     "output_type": "execute_result"
    }
   ],
   "source": [
    "Set(y).membership_object(x).derive_in_singleton(Equals(InSet(x, Set(y)), FALSE), [NotEquals(x,y)])"
   ]
  },
  {
   "cell_type": "code",
   "execution_count": 148,
   "metadata": {},
   "outputs": [
    {
     "data": {
      "text/html": [
       "<span style=\"font-size:20px;\"> <a class=\"ProveItLink\" href=\"../__pv_it/demonstrations/a40e505b6dee5ff3d63771047994ddbb2d9a788b0/proof.ipynb\" style=\"text-decoration: none\">&nbsp;&#x22A2;&nbsp;&nbsp;</a><a class=\"ProveItLink\" href=\"../__pv_it/demonstrations/ceed5dc6b0287197dac1f0ea4c9dc7342178312b0/expr.ipynb\"><img src=\"data:image/png;base64,iVBORw0KGgoAAAANSUhEUgAAAHwAAAAVBAMAAAB2y5cfAAAAMFBMVEX///9UVFTMzMx2dna6uroQ\n",
       "EBCqqqqIiIgiIiJmZmYyMjJERETu7u6YmJjc3NwAAAC+aOQFAAAAAXRSTlMAQObYZgAAAY9JREFU\n",
       "OMtjYMABbl4AU0zTDzDgBXwXsImeMoAyWIKARB5u7acZGE7O3oQuep8BJjwLiBkfoMvP6ACBRgaG\n",
       "dQw8Agz2DmjSFgwwYSCLgWcBFnvTQQTvBAbOAwysAZjaocIg7QzmuLRzPGBgbWBg/AcRut3RsQCm\n",
       "HSoM1n4Ul/YXDAxcfxgYP4FFtGuQbIcKg7VzOeDQXglmcvwBkTxrkB0PFTYFMZgn4NC+F8z0B8cT\n",
       "UgBLwYXvg0MI7CWrVSCwEll7G5jZCCa54brZguDCXCCL2Rpw2B4CIjghblMFGQ6yh2nHA4SwRAFQ\n",
       "4AM+7ZAAYHgNlwKnNYgwlwADHu0gx7NNYHgHYrMi5KThwmC/szQg/L4QPeiUGRjqwI4tQAl5iLAp\n",
       "Iuiw2G4JzDTNxhMhQdOGrB0qDI5CTgMc2j2Avvv//z9E+8EtB5CSDUQYkmwUMLX7QhMtEnDegUi0\n",
       "yAnoBK78yjsBq7ApqnZznPl9H1bR+3DWLFwZFl5cYAFc8NIGlDC4H5BYWDFkIpd193BpBgCjgXCW\n",
       "eACQ4QAAAABJRU5ErkJggg==\n",
       "\" style=\"display:inline;vertical-align:middle;\" /></a></span>"
      ],
      "text/plain": [
       "|- (2 in {2}) = TRUE"
      ]
     },
     "execution_count": 148,
     "metadata": {},
     "output_type": "execute_result"
    }
   ],
   "source": [
    "# Notice that the derived singleton membership claim can be\n",
    "# completely independent of the original membership_object\n",
    "Set(one, two, three).membership_object(three).derive_in_singleton(\n",
    "    Equals(InSet(two, Set(two)), TRUE))"
   ]
  },
  {
   "cell_type": "markdown",
   "metadata": {},
   "source": [
    "#### `membership_object().deduce_in_bool()`"
   ]
  },
  {
   "cell_type": "code",
   "execution_count": 149,
   "metadata": {},
   "outputs": [
    {
     "data": {
      "text/html": [
       "<span style=\"font-size:20px;\"> <a class=\"ProveItLink\" href=\"../__pv_it/demonstrations/ac73f4cc0fd9e343658437aa008cefb8376e94080/proof.ipynb\" style=\"text-decoration: none\">&nbsp;&#x22A2;&nbsp;&nbsp;</a><a class=\"ProveItLink\" href=\"../__pv_it/demonstrations/37cd482da2e53c9efa88bc32a7a0b7b54fa999750/expr.ipynb\"><img src=\"data:image/png;base64,iVBORw0KGgoAAAANSUhEUgAAALcAAAAVBAMAAAD2lGJJAAAAMFBMVEX////MzMxUVFR2dna6uroQ\n",
       "EBCqqqqIiIgiIiJmZmYyMjJERETu7u6YmJjc3NwAAACgK8IjAAAAAXRSTlMAQObYZgAAAvJJREFU\n",
       "OMuNVU1IVFEUPvPj/L6ZooiKFjPtUjOFEoqKBmKghZGGi3AWuYqGWkyLoDDQhIYpBIeJEIVwgtxE\n",
       "pITVQNY8AokMaqhFZISziqCFNZSSpXbO/Zl339NnXnhvzpx7zvfOz3fPBbBfH0vw3+UY0NfaDttB\n",
       "TDXBOpa7DcBTttt9jc+75drc05hlY0YGlxdCqLEyWD8ut7Wu2oYwfn8I5T0W10uJ4kgv4T2gfwkA\n",
       "/w+LxX7xG/guNTVjAMMbxZ+LJfDcKnGzKWvE+a3axG0MJ0vBLWJ+v23Ap/9KTQSxTmRFwn34Gi5z\n",
       "M1fK4jt2HC4EAXxUL+8SfmWe6z9lMnkVXEsuSZdutJ0ROCPUyLgw01pF4QqZGxL8DIJ/JTmIm5N9\n",
       "TL3jiiXykPen1DxCmFOcHf45em+XZnd5d57oRuT7sJmXSd4QBUcv29DuW8vS4lmUmgrAtt1cnO2h\n",
       "9xt8mkk4wPmlG2VxX90J8IwVs+FDoZNpnQar6nhVYo55SZvK5660kI+kTKSaZqJBmrF4/y9kS1oU\n",
       "UzvJtMHqvqeN8xjCstPUmckol/slaSBAHT7LIdWGHn4P0C6KCd0s9C33cFFDHQWew6bB3B/hQZ3x\n",
       "znH5NKsAe+3CJCIssw5yluBBd4mDVwicJfrNdPRwYXIdQoOdAa+oUT9LjsIPUC4MPGyKPAhRVhai\n",
       "OTSyE1pjcLWe+eNzTaG5U1CHGA6uas2PMWWrCu6EPGsoFdPBk/enzGz5gs+oQvOIiG6W7A6BZAtv\n",
       "6IAp8lATI1EAPxmf4Oq0CTxMjCuW4S21YQRrldBBW6CMMNmkXo3hJvPwdVaP/2bYm2MJOUdxID0W\n",
       "6hfjugGuFRd0OLd8HXx4wupoupF7hixePayNGQne4bStbzEPLp91XB4tmI8/X+cV2aNbR5DWI0hw\n",
       "UBx/OUezdrO4Wf2jznbXivm2YnDJ9dwOfEaRNdX7pclsaLWRq14Wq66AEm1I3TBdXe72tQK0veYg\n",
       "ud47NGRzzf0D47LMcCb9CD8AAAAASUVORK5CYII=\n",
       "\" style=\"display:inline;vertical-align:middle;\" /></a></span>"
      ],
      "text/plain": [
       "|- (B in {A, B, C}) in BOOLEAN"
      ]
     },
     "execution_count": 149,
     "metadata": {},
     "output_type": "execute_result"
    }
   ],
   "source": [
    "Set(A, B, C).membership_object(B).deduce_in_bool()"
   ]
  },
  {
   "cell_type": "code",
   "execution_count": 150,
   "metadata": {},
   "outputs": [
    {
     "data": {
      "text/html": [
       "<span style=\"font-size:20px;\"> <a class=\"ProveItLink\" href=\"../__pv_it/demonstrations/eb5a02ee277746d6ce1a255f0a4263f4806370720/proof.ipynb\" style=\"text-decoration: none\">&nbsp;&#x22A2;&nbsp;&nbsp;</a><a class=\"ProveItLink\" href=\"../__pv_it/demonstrations/35d852d85bd60fd473fe5932ffbf513e71fec5c30/expr.ipynb\"><img src=\"data:image/png;base64,iVBORw0KGgoAAAANSUhEUgAAAJ8AAAAVBAMAAACqHiFtAAAAMFBMVEX///9UVFTMzMx2dna6uroQ\n",
       "EBCqqqqIiIgiIiJmZmYyMjJERETu7u6YmJjc3NwAAAC+aOQFAAAAAXRSTlMAQObYZgAAAmdJREFU\n",
       "OMuFVTtoFEEY/s7bu9xj9y5oZ0CFFGJl4BQiQdzmQMFgkLMxgtcoWimCYCCYjQETbbKHRQhRWEWL\n",
       "WMgioinUbKfG5sBKQXKQRhsRwSDh9JzXPmZu9/IXu9/M8H3zP2b+ARLsczNpBQcm0ctKscy1oR6U\n",
       "6j4g20pa/QhsVF6qs+vS6MPSc7F7ZaQO5B0C9yiMG+OrT6ZNAp6hZOOK6uYw/Vzw+EDvxzGToe/I\n",
       "/gXSFo1B9cHZr79+ABg2+jZRtroF9V17hWDeQ2aMoak6/gjB9FWF4o7iWhHItaDVUHbYnLEydzfi\n",
       "4boQzFhI/ePZM7ElBHW+RcghgheJ4Dc24CHveOVJIfuChTZSv8RCEDIeQ+YQwUOkIBMsSTO8tB5i\n",
       "BYnl2gK8J+VPM+eOKBx3VLu1E3hDazd8n01FCrdbETwljtHGHTJn/KTwi8Jxq/O/Selus8F1VkQ3\n",
       "WMyeVgSnfdBXI59lii5B5pCQj34Cajzt52g6zj4lxhKz0pIF83bAO0MmU7MEHITEoYJFrUkFSy0U\n",
       "N2nk4W6a4uGE+P8AVsnJfghfsCR5WEQ/Dbnc5oIYC3M4IAlmbSpFrONRQZ7D45A5RDAFhxYl44oi\n",
       "LiChyoPATQbGgXlPVJkXZUHy0BiixTea4hzm6rLglAd9i8Y1U2lYDH2NnMN7kDnOICoN7viJxRf8\n",
       "zg6cjAo2zi83MUe8LHQ6HYshbXHJ9AUfyRy/OeSibUgbka4eS5/XjfjVs1SOuIp2bFM7HJARg2Kb\n",
       "g29vY2eDfvgO3Yj1w7UeDTbGCn7HDhtliKpmoiOJTwAub/OmGAlPwH9mMrqq9IlQxwAAAABJRU5E\n",
       "rkJggg==\n",
       "\" style=\"display:inline;vertical-align:middle;\" /></a></span>"
      ],
      "text/plain": [
       "|- (3 in {1, 2, 3}) in BOOLEAN"
      ]
     },
     "execution_count": 150,
     "metadata": {},
     "output_type": "execute_result"
    }
   ],
   "source": [
    "Set(one, two, three).membership_object(three).deduce_in_bool()"
   ]
  },
  {
   "cell_type": "markdown",
   "metadata": {},
   "source": [
    "### Testing the `nonmembership_object()` method\n",
    "\n",
    "The <span style=\"font-family:courier\">Set.nonmembership_object()</span> method has the following format:<br/>\n",
    "    <div style=\"width: 50%; border: 1px solid green; padding: 5px; margin: 20px; background-color: gainsboro\">\n",
    "    <font style=\"font-family:courier\">nonmembership_object(self, element)</font><br/>\n",
    "    </div>\n",
    "    and produces an <span style=\"font-family:courier\">EnumNonmmembership</span> object of the form (element $\\notin$ self), along with a number of related methods such as <span style=\"font-family:courier\">side_effects()</span>, <span style=\"font-family:courier\">equivalence()</span>, <i>etc.</i>"
   ]
  },
  {
   "cell_type": "code",
   "execution_count": 151,
   "metadata": {},
   "outputs": [
    {
     "data": {
      "text/plain": [
       "<proveit.logic.sets.enumeration.enum_membership.EnumNonmembership at 0x7faba79800b8>"
      ]
     },
     "execution_count": 151,
     "metadata": {},
     "output_type": "execute_result"
    }
   ],
   "source": [
    "Set(B,C,D).nonmembership_object(A)"
   ]
  },
  {
   "cell_type": "markdown",
   "metadata": {},
   "source": [
    "#### `nonmembership_object().equivalence()`"
   ]
  },
  {
   "cell_type": "code",
   "execution_count": 152,
   "metadata": {},
   "outputs": [
    {
     "data": {
      "text/html": [
       "<span style=\"font-size:20px;\"> <a class=\"ProveItLink\" href=\"../__pv_it/demonstrations/409afbf583b1dc5b4c41e9228fb1cc60cfe38c510/proof.ipynb\" style=\"text-decoration: none\">&nbsp;&#x22A2;&nbsp;&nbsp;</a><a class=\"ProveItLink\" href=\"../__pv_it/demonstrations/fa8c89dcecd2de4ee6a00bef579105078d2fc2270/expr.ipynb\"><img src=\"data:image/png;base64,iVBORw0KGgoAAAANSUhEUgAAAc0AAAAVCAMAAAATgUXZAAAASFBMVEX///8kJCQoKChjY2MJCQkN\n",
       "DQ0rKysPDw8WFhZUVFTMzMx2dna6uroQEBCqqqqIiIgiIiJmZmYyMjJERETu7u6YmJjc3NwAAAC3\n",
       "Ac4fAAAAAXRSTlMAQObYZgAABMxJREFUaN7tmumypCgQRpm1BwWVTd7/TcdSUXJhuaXzb4zooG5b\n",
       "cr5MkiTBEqLrGuCfwQTxzjWY2Yv/rxevtT00S/6Ht+OLdKWPUJnWn6ntUC3GSqR08HoQNcZLiJoV\n",
       "FyO13oHJYrkZJMHMjPdHGaM0RjqnyEN+dtLIIFYw9p8nnNwekMlUcxJl13AmtR2qxQr/F4lt8noQ\n",
       "mAHNfgXBWJE7MDHO1gKkjUyHBozVmM9UfegxESVjMes97CajUfhFe8bEBLvztmc0k9oO1ULiEANi\n",
       "CW8toGoIwgBmv4IgVkAHJsbRBgNG3kbfSLRgNId4jJWKBgXdcvZjIjRhiPN5Q6Puxrk9mEltj+rV\n",
       "4RQDxWKeNSyqhsAMbPYLCMYK6MDE2Nsld7afsPNFcMs/vxZbGM35/HqIULfV/loXUfCmWaxO317d\n",
       "ed0ezaS2pXoPapIuoFjEG66R6EdgBjb7BQRjBXRgYnzaFcy7sH1XQf5Wc7q1ODedPnuCMk1Ko5+q\n",
       "FYpxKZ2scUTdWdUsGhbYFlTzQU3EQp5U88ygagjMoGY/RjBWYAcmxtbOubOVF1MMoHz1NPvnoxn3\n",
       "+mhYJBjMNd5f8SjeYpKnjmfFeMXvaFqjmdTWVZ9W46AmYgHvY+XCoGoIxGDMfoxgrCAONJc5LuvA\n",
       "qywr34XSjJK/tFkOlyHMbpnQeMfiEnj3P5+hdZfI4e54tNl1G53U1lSfj/7+F3yUERvA+jEd/zCK\n",
       "dQzPYMz+GlGxgjjQXqx8INQeX/mjexhYuDZPesArkdcSrm6kwqVZX8iUVy6x09JcNifY8qoLQU3E\n",
       "At6CNgMdCMxgzH6K4KzADkyMrdUq21WabTcWs0Q96C0w/t7DI1vIV7ISbQgwO3VWnPlC1hfxyrBy\n",
       "mc+wa41mUltVzWyRebE5L8yo5GgjCIMx+yGCs4I4MDG2Nuvx+KQtWoLHiT+8uVeij4NmGKR3cA6F\n",
       "rB+uRcJKIb4fTar6MJqWh0RszjsKo8x7bQRhMGY/RHBWEAdmo3nP9pTE8qJak83mJ7oc3sDdWZPs\n",
       "McfCsum1I0dLauHXTVnJtFT1/uhvGj/KiM14k8Hb+apjeAZj9teIshXEgYmxtddKvE7MgYSZhSK5\n",
       "/K5p0wZuQClivaYqPmNMWd/fufuuaUPzNIhUQaxqcshSEJvx0vcnQ0qUEoIyGLOfIVgriAOzKiiV\n",
       "t9fex4Et7DKR3Wu+QdRn7nUf9T5egLPWnsxuVXbj1KsWw3Rnmqf5WTFeU82EIBYLeYOD6bADwTGg\n",
       "2Y8RrBXUgYmxtcc09S7GvXSdtg/ZF4WXfypfGE1p0yl2ShT3EYI3TsrreDfdOJ6Q0pmVDY6hNZpZ\n",
       "UqmpxmU4Jxbw7rPQazvWQjAMbPZTRMkK5MDE+LRL/Zw//DG6ZSme7KHY9D+9AU72mhuUwskexRnR\n",
       "cWW8zP8De+z2JeMRos+Ki7G3of4MU1WNxfPU8cc33jl1J+mo6w14g9dwTBfjEaLPCnjqzo1X/lKA\n",
       "0VDaSPj5pzf2dA9e6TTroLUYZXdQd71Nb/KqjuliPEL0WYHeiLEDdpdQ3Lvx0m8Piu/Ray/YVdp1\n",
       "uQdvq78JavezV8nfMB4hOqcmDu/arxlcIaO//7ug8N4vSVRPP+HZzzzUf47osuJi7O2/GsFuYDMP\n",
       "syoAAAAASUVORK5CYII=\n",
       "\" style=\"display:inline;vertical-align:middle;\" /></a></span>"
      ],
      "text/plain": [
       "|- (A not-in {B, C, D}) = ((A != B) and (A != C) and (A != D))"
      ]
     },
     "execution_count": 152,
     "metadata": {},
     "output_type": "execute_result"
    }
   ],
   "source": [
    "Set(B,C,D).nonmembership_object(A).equivalence()"
   ]
  },
  {
   "cell_type": "code",
   "execution_count": 153,
   "metadata": {},
   "outputs": [
    {
     "data": {
      "text/html": [
       "<span style=\"font-size:20px;\"> <a class=\"ProveItLink\" href=\"../__pv_it/demonstrations/66e77c1183abcf1da87ccf9a180ff03cede0bce30/proof.ipynb\" style=\"text-decoration: none\">&nbsp;&#x22A2;&nbsp;&nbsp;</a><a class=\"ProveItLink\" href=\"../__pv_it/demonstrations/5ba17b9be3fff612b6fef587e73239aad2b850010/expr.ipynb\"><img src=\"data:image/png;base64,iVBORw0KGgoAAAANSUhEUgAAAZIAAAAVCAMAAABbnpgcAAAASFBMVEX///8kJCQoKChjY2MJCQkN\n",
       "DQ0rKysPDw8WFhZUVFTMzMx2dna6uroQEBCqqqqIiIgiIiJmZmYyMjJERETu7u6YmJjc3NwAAAC3\n",
       "Ac4fAAAAAXRSTlMAQObYZgAABGpJREFUaN7tmeuyrCgMRp3rGUSUq7z/m46NAgkEkN3zc6g6tWmO\n",
       "rnwk4SIsy6CsxW+n3DJfVnXY5f/yupw9J0v0y2r+QyObeIK7n3Oqzn4KcCrUL2wMsCT3jfSv5MaK\n",
       "NTmX6/RmeIz4tjWrlDF4UJ2cc7PfdaWfRvYqJlFVV91lQZNvD20MsIibOzaWPiM3eydxn4pOdiSr\n",
       "GGrDQU6DZhdFvO3nZe7h8+dH1e4dftXqNyGJqrrqrj5gfVFVZeNs4BtYyAUdq6VPcqFc4J3EvSsu\n",
       "RfMQbDBvRb9axpkvQqLCbyFA0+E/OeBlEU1+jCMSVfXVLadBSZFVlTa0IvENLOLCjlXS57hILvRO\n",
       "4oaKPNMsqItZysh/fklNjxJXhkSE/2L+hOvHJym8Ll61YhySqKqt7s66YveRVBU2ViMthW9gERd2\n",
       "rJQ+yUVyoXcS91M5c/IuiLKaa5NkzmV5GRIdGpgvt2jVxHU9ug0XSYn/VuqIrMOqsA22HQeBb2Ax\n",
       "F3WskD7HreRm7yTuVTniUHMnolhtibmzE5InTcpmK589Gs8JxtUoJFFVS91TzNoMCbLx6Yck8A1s\n",
       "zU0dw9InuTU2e0dl3ebZtNkr2pAS1v6jnDqZ7odk87zYckllq82ay5HmGpTc3aiqoe556/e/8FtQ\n",
       "lYPZxPf7X4kvO93kpo45PI+/47aw0Ds665Z7HGlYXRhjunD7LtZ+SIhtxiG2ciXc5XAp2fHfUl0r\n",
       "67IqZEMW+88+lhwkjJI+xyWwyTuJe1Vi04opq7gC+ncIK1zLzqUbEkXNSCJul5l8Bt3qRyGJYWyo\n",
       "I7+ZsCpowx3F2trFUtzUMSR9jruSu+3HO4l7VW6KDcMSUMJKBMck/gSnQ3IUETlDBI2/MZk+G5JK\n",
       "3ZN158uQ3Lsi4JIuluDmjiHpc9wSi7wDQ3KPtZ2pq3ih0uIh6o+ST0aYTkh2lQzdxYdnHqNgLdkk\n",
       "vZawxsRVqQtv/SbKt6AqYGNX1Wdco9MNLugYwL7n0ljkncS9KgacycCvm4u31dNQb8e1huQ4QEiE\n",
       "gXsVQS3vjVIu76U67InB8h4f3FWJp7A1F3YMSp/jVljkHbi8w12dMGiFZWsnJMeNsl6nPTnnXDEJ\n",
       "2pyjv0vU8OwyqmqqW6iESaqQjdXgiaaPrbm5Y1j6HLeWi7yTuFclj0RuvGcOHE/8udlWSBQTXodj\n",
       "ehn1aB+KhG3bNYDNtlSfiuvw3FiW00+hrt4NIlXQRj5XSnv6Drbmgo4h6XNcQi70TuJ+KrJ1uun+\n",
       "4EbK1oFKnlGpU2yiDRyoDPfAxIEKuXB1TmSzDfC9vVYHH5NcKH2K+1ZuqLjWw8SGBi4I+ehgedf2\n",
       "5bFjmbv9K7GBjSZ2wB1J/1ruXTHn4OQfLZ/VY4RIqi3fl7w7nI+qGur2/nI0tNHADrhj6V/KfSqk\n",
       "768Jkrweq24Vqaeoti1+ajS9QWdEQ90g68z7K6wZrpm4wvqR3Fih7yZNa1L88u7d/ScXvf2zZPfj\n",
       "i97tS+x3ckPlXzL+XnwIFl5rAAAAAElFTkSuQmCC\n",
       "\" style=\"display:inline;vertical-align:middle;\" /></a></span>"
      ],
      "text/plain": [
       "|- (4 not-in {1, 2, 3}) = ((4 != 1) and (4 != 2) and (4 != 3))"
      ]
     },
     "execution_count": 153,
     "metadata": {},
     "output_type": "execute_result"
    }
   ],
   "source": [
    "set_123.nonmembership_object(four).equivalence()"
   ]
  },
  {
   "cell_type": "code",
   "execution_count": 154,
   "metadata": {},
   "outputs": [
    {
     "data": {
      "text/html": [
       "<span style=\"font-size:20px;\"> <a class=\"ProveItLink\" href=\"../__pv_it/demonstrations/8a130f24d2eec827fe34c6ffd2188ba78f5b4c880/proof.ipynb\" style=\"text-decoration: none\">&nbsp;&#x22A2;&nbsp;&nbsp;</a><a class=\"ProveItLink\" href=\"../__pv_it/demonstrations/e6aea867b4583e9e0da540346b868928732fc5030/expr.ipynb\"><img src=\"data:image/png;base64,iVBORw0KGgoAAAANSUhEUgAAAZIAAAAVCAMAAABbnpgcAAAASFBMVEX///8kJCQoKChjY2MJCQkN\n",
       "DQ0rKysPDw8WFhZUVFTMzMx2dna6uroQEBCqqqqIiIgiIiJmZmYyMjJERETu7u6YmJjc3NwAAAC3\n",
       "Ac4fAAAAAXRSTlMAQObYZgAABFVJREFUaN7tmd2WpSgMhenpnulWRPkRfP83HUWBBALIOXM5rlUl\n",
       "ZcUv2wQhAmOdY87+tsqy8WNW287+P14frhVkif7aNf/QySKe5K5uTJVrdwFOpfqFjw6W5L6R/pXc\n",
       "0NiN/62UMXPZvSf8jhx1bwTBcc7NereVfi5Or3Jyq+qoOz1o8u6ujw4WcZNVX/qI3BSdyH0a+jrt\n",
       "V+j5seQMha/w+NKsIss3QXDqMjwsvnXXb1KiHeurO58BXwuqCh+OwtexkAusSumDXCgXRCdy74ZV\n",
       "PvT+UYRoj1shrvvEpyNLCUHYjqsPHDLLJt/6GblV9dQxZ1CnSKpyH1oR+CoWcaFVIX2Mi+TC6ESu\n",
       "b0ifaOH/Mx0w69bIP7+lpt8Sm6eEICzi6hSHzm7dRT8l0sEzpe7uddnoEFVlPmYj9xJfxSIutMql\n",
       "D3KRXBidyL0a7o6U9s8yHTPwdhZJxjH2MiUl4RlL8oHrNF26k6RE5xob9TqsCvuYlm0r8TUs5iKr\n",
       "TPoYt5CbohO5Z2ODb55Mcd71ToydjZQUhIcjnxqNpw7GVS8lQVVN3XMUU2hShXxczyEJfAXLiKn5\n",
       "scLSB7klNkVHJd0GFG3LwXHNsuVD56TbKYGEu6iQai+KNZsyzTU40gMFVRV1z11//Y3vgqos7E18\n",
       "vX9yfC65yo1WFo/j77g1LIyOTrolIEpQ8fp3TGdhX8XcTomcyg4vlnwmXGV3KlnxmWaXvS6pQj5k\n",
       "Vn+2seRLMlHSx7hUWRyiE7lnQ6TBUYEEzuJM6D8+rXAuc6yZEkWNSCKUy5N8Xrr56KUkqKqoI7+Z\n",
       "sCrow27Z3NrEUtxohaSPcQlsik7kno1EQQOhn4ngO4k/wemUbJkM5zNojhujo6RPUrKVoTPuZUru\n",
       "qgiEpIkluMkKSR/j5lgUHZiS+K6tKpp5evlRcvUI00hJRjgLPG/zOAVzySLpuWSqD1yY7e/6IfK7\n",
       "oCrgY1X467OKrXGBFcC+59JYFJ3IPRthRpr9ZLRFutrYUma6VXHlhDOtBtYqgpreK0c+vZdsGInO\n",
       "9B4MV5XjKWzJhVZQ+hi3wKLowOn9qb6c5JyrScKpapobKdlu1H7oWJMHQrxmLf1dorprl6EmrKpj\n",
       "VIeJqpCP2eCBpo0tucgKSB/jlnJRdCL3bCzh68YfEi5P/Fr2WkrUJA7tl+ll0AMI8dqilDILKz4V\n",
       "5+66sUTnUl1ZDSJV0EdaV4o1fQNbcpEVkD7GJeTC6ETu1ZC11U37kxspawsqaUSlVrGJa2BBpVsD\n",
       "5wsq1IJ2+3MT+ADf23OOH+VC6UPct3J9w9aMiYIGTgjxEjXusFZKxpcdqZXi9pZYx0cV2+H2pH8t\n",
       "924Y19yw6OyX7IRI6lraL3m3OB9UVdSt7emo66OC7XD70r+U+zTI2J8DJLk9VuwqUlbUtSXW7OaD\n",
       "LazRXmfcS/wY1zj2Gfet3NCg9yZNbVD8cu/d/icbve21ZPvxRu/yJfY7ub7xL+FoYlDQZmxgAAAA\n",
       "AElFTkSuQmCC\n",
       "\" style=\"display:inline;vertical-align:middle;\" /></a></span>"
      ],
      "text/plain": [
       "|- (2 not-in {1, 2, 3}) = ((2 != 1) and (2 != 2) and (2 != 3))"
      ]
     },
     "execution_count": 154,
     "metadata": {},
     "output_type": "execute_result"
    }
   ],
   "source": [
    "# notice the equivalence doesn't depend on the\n",
    "# nonmembership_object being true\n",
    "set_123.nonmembership_object(two).equivalence()"
   ]
  },
  {
   "cell_type": "code",
   "execution_count": 155,
   "metadata": {},
   "outputs": [
    {
     "data": {
      "text/html": [
       "<span style=\"font-size:20px;\"> <a class=\"ProveItLink\" href=\"../__pv_it/demonstrations/9afeb9fc2c1e82d615747e3530f7e580fe3435ae0/proof.ipynb\" style=\"text-decoration: none\">&nbsp;&#x22A2;&nbsp;&nbsp;</a><a class=\"ProveItLink\" href=\"../__pv_it/demonstrations/0da4ca581722c4ae06c1829d600fef83ed0cd37f0/expr.ipynb\"><img src=\"data:image/png;base64,iVBORw0KGgoAAAANSUhEUgAAAM8AAAAVCAMAAADW+kokAAAASFBMVEX///8kJCQoKChjY2MJCQkN\n",
       "DQ0rKysPDw8WFhbMzMxUVFR2dna6uroQEBCqqqqIiIgiIiJmZmYyMjJERETu7u6YmJjc3NwAAACp\n",
       "Qug5AAAAAXRSTlMAQObYZgAAArBJREFUWMPFWNmy2yAMpeutAbMK/P9/WmwQ2KzJZDrlIUpsCR2t\n",
       "oBCyXNvzp9Nuwa8lkP+5/Byguv8Aw0ZywuM3vm/Vk48AEAYzdtSCFOzc3fQRnaOYVsvRDF+b+sls\n",
       "LQAQb+bsqCVRM1eq+cNVJVqNHJiaC8wr9iwAEMrn7KglUqfJ6+l2s6cjx2TNlZ9M1gqAtyt21HJR\n",
       "NfGOs+rPlzJdezpysNdc+cnMYavwbCt21HJSr8aVY0Ojsr4fn66c4bXVhi+bgXorPFO9gcoUPpCS\n",
       "ei5vCQIG2grISJMcSH1K+P1qQSxtxnJYmF7ZMwYQl9167AO9mtjY/CC0YackuSXX1S5ktT3F90mO\n",
       "heZ8ssW250zdBV3Zj5nbKmaOACT277+67AO9hiiRWzw7gPCSXleczbP1ix29FeW8iL3ZxqQQGL0M\n",
       "QKhl+QwB9MIz1xvoHlMPykusnj345fflnVJQpRijXBDbzwgeMYxbjgtV9ZPRGgLonH4rvYHupWAP\n",
       "2dQhE8/deI4PyvHg07DP9kRvEMbL9rQAYnj8gL2rN1CVEePLLNkcPqff7TNNYthlqn+u6vrhql8/\n",
       "tM63BsDF/m0fsXf1BprqS0CsrdtVMjQQ3nSn3N+SHLEUP251WfqbW94QxgC6V4ep3kBjq+OHIPao\n",
       "rnpKVEfZ4+RPpmp6SicxzerzR7OVPRMAHX/O9QYaQwVUytDS3WM3oD85jOzBEJ+S+khuNFtznm4r\n",
       "eyYA6u661HvSyXXD/WBWqfV9B6/ToJr7zrJdzwAIPWev9V50ch20raZbZWg8X+Hg/+Y+amDI3tUb\n",
       "qfVvzCW3+eeSUyFBrKynA23emRdGAAQbs/f0Jjocp2RvbCzz6SXHQxZvNS6Oh4T9aJ4zMGbv6UU6\n",
       "GnftIKldf+51vv7/wH02b/PX2FHLRf8CqmU1BY1tk4MAAAAASUVORK5CYII=\n",
       "\" style=\"display:inline;vertical-align:middle;\" /></a></span>"
      ],
      "text/plain": [
       "|- (x not-in {(y)}) = (x != (y))"
      ]
     },
     "execution_count": 155,
     "metadata": {},
     "output_type": "execute_result"
    }
   ],
   "source": [
    "# An odd example — why does the single element y appear in parentheses?\n",
    "Set(y).nonmembership_object(x).equivalence()"
   ]
  },
  {
   "cell_type": "markdown",
   "metadata": {},
   "source": [
    "#### `nonmembership_object().conclude()`"
   ]
  },
  {
   "cell_type": "code",
   "execution_count": 156,
   "metadata": {},
   "outputs": [
    {
     "name": "stdout",
     "output_type": "stream",
     "text": [
      "Proof/Instantiation Failure: Proof step failed:\n",
      "Attempting to instantiate |- forall_{n in Natural} [forall_{x, y_{1}, ..y_{_a}.., y_{n} | x != y_{1}, ..x != y_{i}.., x != y_{n}} (x not-in {y_{1}, ..y_{_a}.., y_{n}})] with {n: 3, x: A, y: (B, C, D), (y_{1}, ..y_{_a}.., y_{3}): (B, C, D)}:\n",
      "Unsatisfied condition: A != B\n"
     ]
    }
   ],
   "source": [
    "# Will fail to conclude without suffient info. In particular,\n",
    "# needs to know the element in question in not equal to \n",
    "# any of the set elements\n",
    "try:\n",
    "    Set(B,C,D).nonmembership_object(A).conclude()\n",
    "    assert False, \"Should not make it to this point.\"\n",
    "except InstantiationFailure as e:\n",
    "    print(\"Proof/Instantiation Failure: {}\".format(e))"
   ]
  },
  {
   "cell_type": "code",
   "execution_count": 157,
   "metadata": {},
   "outputs": [
    {
     "data": {
      "text/html": [
       "<span style=\"font-size:20px;\"><a class=\"ProveItLink\" href=\"../__pv_it/demonstrations/56eb1ae5b8e610dae45d653ba3018056bbbd90680/expr.ipynb\"><img src=\"data:image/png;base64,iVBORw0KGgoAAAANSUhEUgAAADsAAAAUCAMAAAAEAbViAAAAOVBMVEX///8kJCQNDQ0oKCh2dnYi\n",
       "IiIQEBBERERUVFS6urqIiIjc3NxmZmaqqqru7u6YmJgyMjLMzMwAAAADT7o2AAAAAXRSTlMAQObY\n",
       "ZgAAAPVJREFUOMvFU9mSxCAIZHeiYkQl/P/Hjibm8Ji1al6Wh8TqArpbEGAWS4B5bDxCXY1GFEEi\n",
       "NMY+YZZRLdoG0Gb/kWyPjiwDdc606iTufyt0YcGTuAHt1gBryYqy3rQJtXNaMPqg0upSaQP4oqbK\n",
       "bGlBcFeu8CoNNju5VSy8x+s3f6myizGuRvkbymqd0Jy22A0ar25pZITS3SnCB7uph3/Qpsm1y2H6\n",
       "ixc8a4vB0kLp2u+PPlxjP13AMhTnx4vFPe053a34c+qUWC+HpX5V+JBmtckjCkaE88Gng3qmc7ei\n",
       "yOdD8H8/K0/wdXD4utQv/0ILdp7yBgcHCrPpSADVAAAAAElFTkSuQmCC\n",
       "\" style=\"display:inline;vertical-align:middle;\" /></a>, <a class=\"ProveItLink\" href=\"../__pv_it/demonstrations/04656bdb2af74060b9477bef3fb2ccd679d408860/expr.ipynb\"><img src=\"data:image/png;base64,iVBORw0KGgoAAAANSUhEUgAAADsAAAAUCAMAAAAEAbViAAAAOVBMVEX///8kJCQNDQ0oKCh2dnYi\n",
       "IiIQEBBERERUVFS6urqIiIjc3NxmZmaqqqru7u6YmJgyMjLMzMwAAAADT7o2AAAAAXRSTlMAQObY\n",
       "ZgAAAOxJREFUOMvFU9kSwyAIpG28Iijh/z+2ubwSp87kpTxEIeDisgKMbAowtoV7UX+NhtlYtBH8\n",
       "VAVZerXWtf6s47YQHuthkaXTnTctqFFnEoovUaq9Ars0Lut0vtMVLMziRrAolNnBHHUBSOKt1jSw\n",
       "XlTpMzcZVshF5jIY3u3z3r4ZYaoyirn9VPwNC0qWzmgtIloxt3Dr62oSoYZdf11lYC7Eq6IASh2c\n",
       "5Cnd3velj1vbQnM+LInKU19YfJ23z1wlkftEvGnF4W7UpTEShlNlIrxtad2oOp07Eg1orEU3elaE\n",
       "8Ng4PC6l6S+w4MYpX40OCbPMvS3pAAAAAElFTkSuQmCC\n",
       "\" style=\"display:inline;vertical-align:middle;\" /></a>, <a class=\"ProveItLink\" href=\"../__pv_it/demonstrations/c7655d29a73c09ff072fafd74e237d1732595e030/expr.ipynb\"><img src=\"data:image/png;base64,iVBORw0KGgoAAAANSUhEUgAAADwAAAAUCAMAAADm3a4bAAAAOVBMVEX///8kJCQNDQ0oKCh2dnYi\n",
       "IiIQEBBERERUVFS6urqIiIjc3NxmZmaqqqru7u6YmJgyMjLMzMwAAAADT7o2AAAAAXRSTlMAQObY\n",
       "ZgAAAPBJREFUOMvFU8GygyAMTPsUkhIw7v9/7LMqKkKHmV6agwNryO6SQNSNIfVzaLYmHAp4YsAz\n",
       "e8+hyDI0D7OUe2zFJsRrTUNLX/A3fXhtC3UnmKIitIjncv/CDgimk3iBpU9MPpsLGDImieKl1Jl7\n",
       "IybkagLOouXiZu2PrfH3fH+1YXkRmpll1aF94sMycXY5s6oyfNV6pk+WCe5CTOSqKfHV/R8EU76h\n",
       "vd2ju3l+uM0515aT26uE+GHErCLOlpPtKsN4+CmTpb7Avb6M26/kAXvPZVwWY5Fu93FlA1iXZ6Gh\n",
       "98qi0vdh6fuzcfgRMUk/5R8hXQqXnHvQTAAAAABJRU5ErkJggg==\n",
       "\" style=\"display:inline;vertical-align:middle;\" /></a> <a class=\"ProveItLink\" href=\"../__pv_it/demonstrations/cb763d255a1f532186b0862e251a8f1d0c005b160/proof.ipynb\" style=\"text-decoration: none\">&nbsp;&#x22A2;&nbsp;&nbsp;</a><a class=\"ProveItLink\" href=\"../__pv_it/demonstrations/82c327e1a84b4a9d7ebb826891d8fc000ff9bed50/expr.ipynb\"><img src=\"data:image/png;base64,iVBORw0KGgoAAAANSUhEUgAAAIAAAAAVCAMAAAC5SxYJAAAAQlBMVEX///9jY2MJCQkNDQ0rKysP\n",
       "Dw8WFhZ2dnYiIiIQEBBERERUVFS6urqIiIjc3NxmZmaqqqru7u6YmJgyMjLMzMwAAAAvRxLeAAAA\n",
       "AXRSTlMAQObYZgAAAhpJREFUSMetVu2SpCAM5G7vTr5DwLz/qx4qIASZ3akaflgaSWg6nYAQr8fO\n",
       "viNE8ZGxg8OfzJPDF6ZNfGxYxXa3pwecZtw/tTdDZACM1nZyQqcNmCj8gPbw0CY7GF8swBZMNAOA\n",
       "MfzWEaL0NYN4lpw6sxRAsWxRKrsIc7TDngi/yUDvstMV3hKM29eyhAHyI5vkyg/1BAADd4ha/vsr\n",
       "0wKAK7NjDVt5VNhyzJipXNmCfQQQ84Se711nlWq/ZEBf4VHJgTeo/B46H511TbGnbQZgUQSKvd7x\n",
       "eIglADrluUszrO/pnoEMPem61uUrto4itF2OjnFK1TkGwKQ7oSZGp2VgCMktC7/9coWB2Knenug7\n",
       "zk60iaky3JVbJIBqrFM51cQsAWFqrhPc5Q65phtH2aBSSn++8iN1qpCeSyCHHThQXSXhQgKCGvVG\n",
       "upuA7H0v5g8sW1j3rpLGDMCNDNx07QsJxKa1VOkrC8lOFGpuAgdizbrATedU+9tCAqg076s+zK0Q\n",
       "nLAwAWhVULvA3qXtqoJKyIbPEsA7qbUKvGxZ6gpHBrOvASRVcqLPdZBq1FLLAZi97s5KYNFQE51q\n",
       "D/ml+4vmt8UFAJPqSVRVIls7QsgnTjtCqv3yyEcR+OeT5WHEX5uWctmK2Qj4nv0HAHgb5r2L/XnT\n",
       "/j0A1E+s0Gq2e8/+eB9gqn28eq1uRKt7Wnx5I7IvM7DI6afvhP8B+wYdEveSGzMAAAAASUVORK5C\n",
       "YII=\n",
       "\" style=\"display:inline;vertical-align:middle;\" /></a></span>"
      ],
      "text/plain": [
       "{A != B, A != C, A != D} |- A not-in {B, C, D}"
      ]
     },
     "execution_count": 157,
     "metadata": {},
     "output_type": "execute_result"
    }
   ],
   "source": [
    "# But given sufficient information, conclude() method works just fine\n",
    "Set(B,C,D).nonmembership_object(A).conclude(\n",
    "        assumptions=[NotEquals(A, B), NotEquals(A, C), NotEquals(A, D)])"
   ]
  },
  {
   "cell_type": "code",
   "execution_count": 158,
   "metadata": {},
   "outputs": [
    {
     "data": {
      "text/html": [
       "<span style=\"font-size:20px;\"> <a class=\"ProveItLink\" href=\"../__pv_it/demonstrations/faaf23e936e0300a5c6874675dc290e1c2645d000/proof.ipynb\" style=\"text-decoration: none\">&nbsp;&#x22A2;&nbsp;&nbsp;</a><a class=\"ProveItLink\" href=\"../__pv_it/demonstrations/217d8d8a7bbfb15f074109c4cc4a9b04422816270/expr.ipynb\"><img src=\"data:image/png;base64,iVBORw0KGgoAAAANSUhEUgAAAGgAAAAVCAMAAACdfluMAAAAQlBMVEX///9jY2MJCQkNDQ0rKysP\n",
       "Dw8WFha6urpERESqqqru7u52dnYyMjKYmJjc3NwQEBCIiIhUVFQiIiJmZmbMzMwAAACFf/JyAAAA\n",
       "AXRSTlMAQObYZgAAAbBJREFUSMellumWxRAMgM1aYg3y/q86uObWVtNzJz96KsUnqzJ2KbEf6qDZ\n",
       "CxKDgz+m+HYASrIX5bCx5c5Hwc4eut4JQuB8sN9IKbl4vAfVnB6n5eFoR/K0T9jeF5DXSuqmm3xw\n",
       "QXpc6yzuPfecDCiRelAoQ2tbnaNsDfkBZLTqQZr77y+v1hbpAWTLJyTTxSUbSGpYK1kHijwlCjeM\n",
       "3QOpMkaKo08m12nTgUBBfrC7oOrpSQu+JqqsXgXHOhBmW5zrV6Hagw6SY9r5AH3G5hktiBd/9JuJ\n",
       "phaWoEXaphSrmahK8YjYg6JVSn1+pIc6g+YN24JCWBWY/S0E9I5BMbkBmWyRFNfVvQC5kWPKwTg9\n",
       "tim7CwxJyIZnUOxURPlMfAMS4bl3FSpzKqjtKm3BJuQxeWKXdbE4xbUgy5tMlHb88BtYgXEDco/l\n",
       "UMuRGZ/6WkDfqJjWyxYkORHqpnm9H3AFCmhJlRvDe6gFW8Q3qhTUFA9+TIccRL9J7v1VCzpDA3dU\n",
       "O9DQfkY/n53rjmoDAr4wcr6PwN1RDfdRXxWrO3u+YRez9PqGPa48t9SK//0z/AA4SRev6E+LeAAA\n",
       "AABJRU5ErkJggg==\n",
       "\" style=\"display:inline;vertical-align:middle;\" /></a></span>"
      ],
      "text/plain": [
       "|- 4 not-in {1, 2, 3}"
      ]
     },
     "execution_count": 158,
     "metadata": {},
     "output_type": "execute_result"
    }
   ],
   "source": [
    "# Works easily with literals\n",
    "Set(one, two, three).nonmembership_object(four).conclude()"
   ]
  },
  {
   "cell_type": "code",
   "execution_count": 159,
   "metadata": {},
   "outputs": [
    {
     "data": {
      "text/html": [
       "<span style=\"font-size:20px;\"><a class=\"ProveItLink\" href=\"../../../equality/__pv_it/theorems/2740ee762f4cb09dc1cca5f0ea489cc6a83ece200/expr.ipynb\"><img src=\"data:image/png;base64,iVBORw0KGgoAAAANSUhEUgAAADMAAAAUCAMAAAAX1vWWAAAAOVBMVEX///8QEBAkJCQNDQ0oKChm\n",
       "ZmaqqqrMzMxEREQyMjIiIiKYmJh2dna6urrc3NxUVFSIiIju7u4AAACrOLOkAAAAAXRSTlMAQObY\n",
       "ZgAAANNJREFUOMutU9kOwyAMM9u4Wo7A/3/sSK+N0iIxLQ+AglPbIQW64RJGI9jhEkQ/TmN+oNH/\n",
       "pElEMXhydL4wuoZJRgRRWpkcME+E6eiRs0u8nrzKIwsvykZ5ewKXE3zo0gQFyV81LDjth1PoWDsA\n",
       "BGvLu4VMbY058/oiBjpv7Mfhy89DrK4+bIs0Yk9QafVF9WjZ0BDHffFZwZSaMNdCZCNWRkYzLEWi\n",
       "0vq5LoFtB5qRMofbd1byOi87g35BEws85ftBV67NTUW9oSEa+OKmN+f9X+0NZpkIQHTqGcUAAAAA\n",
       "SUVORK5CYII=\n",
       "\" style=\"display:inline;vertical-align:middle;\" /></a> <a class=\"ProveItLink\" href=\"../__pv_it/demonstrations/e6ac27ff5653ccabb661f4f0ecd826d61ebc2d630/proof.ipynb\" style=\"text-decoration: none\">&nbsp;&#x22A2;&nbsp;&nbsp;</a><a class=\"ProveItLink\" href=\"../__pv_it/theorems/2671812ae5354c33f4bc7f35c2bee6a814d46c800/expr.ipynb\"><img src=\"data:image/png;base64,iVBORw0KGgoAAAANSUhEUgAAAEQAAAAVCAMAAADIH7jSAAAAQlBMVEX///9jY2MJCQkNDQ0rKysQ\n",
       "EBAPDw8WFhZmZmaqqqrMzMxEREQyMjIiIiKYmJh2dna6urrc3NxUVFSIiIju7u4AAAB85YEvAAAA\n",
       "AXRSTlMAQObYZgAAATpJREFUOMulVOmawyAIdA+3Kt7g+7/qYmJSbbXZwx98AXEywogQL5YZXa/8\n",
       "w75CElfL9Q7Z8JwRpbnAMHngUWY5yl6AqNh7wc1y5tHVbf4C4sHdvpz9D4gBLjukXzAhxJwiBuwa\n",
       "QdWs0lXNTHLrbpB7kDvnHYqOe64cEEeQ3PYD97Vul75ngRFDIRHv7KEaO+pIN0UkvbcVYI9btTHp\n",
       "Iq0i0lr7+cHG3ovk2j84XVaO5SCaXfsqA/VUIYNeaTMybWFKc+2hyDPSlnwSSf0j9CJFOehY016k\n",
       "7i1x+aNaKgLyYc7uxKIFMEjqX6jT2SxBVK6nfB+ljMit98Mrp/weaQVST6iSrmXv3wI4t5b9+Xhf\n",
       "gTxIvtPmJjoq8RqEYEKuzRPHFwf8wTxBPwm2yRa5Iuaunri+zTSqVzP2GyY5ED9zkJaeAAAAAElF\n",
       "TkSuQmCC\n",
       "\" style=\"display:inline;vertical-align:middle;\" /></a></span>"
      ],
      "text/plain": [
       "{x != y} |- x not-in {y}"
      ]
     },
     "execution_count": 159,
     "metadata": {},
     "output_type": "execute_result"
    }
   ],
   "source": [
    "# A singleton example -- requires explicit assumptions\n",
    "Set(y).nonmembership_object(x).conclude(assumptions=[NotEquals(x, y)])"
   ]
  },
  {
   "cell_type": "markdown",
   "metadata": {},
   "source": [
    "#### `nonmembership_object().deduce_in_bool()`"
   ]
  },
  {
   "cell_type": "code",
   "execution_count": 160,
   "metadata": {},
   "outputs": [
    {
     "data": {
      "text/html": [
       "<span style=\"font-size:20px;\"> <a class=\"ProveItLink\" href=\"../__pv_it/demonstrations/6f08b077d8d0601f90571291609725d2ecd8ace20/proof.ipynb\" style=\"text-decoration: none\">&nbsp;&#x22A2;&nbsp;&nbsp;</a><a class=\"ProveItLink\" href=\"../__pv_it/demonstrations/ee71f709d886164c6400926d3dae84e5d611c3e50/expr.ipynb\"><img src=\"data:image/png;base64,iVBORw0KGgoAAAANSUhEUgAAALcAAAAVCAMAAAAzZI9IAAAAQlBMVEX///9jY2MJCQkNDQ0rKysP\n",
       "Dw8WFhbMzMxUVFR2dna6uroQEBCqqqqIiIgiIiJmZmYyMjJERETu7u6YmJjc3NwAAABtKQr7AAAA\n",
       "AXRSTlMAQObYZgAAAsZJREFUSMetV9kW7BAQzF21rW3x/796yYJGksk942GWg+pSSmvL8llj9G8w\n",
       "YflKY0b7/527fsAB2z/e8uVrTchdE7W+nOjdoSHECMaAc2KUBYjase+2/YQ7MK8dGAjLuq/eHJPh\n",
       "gbhG6Vy0EmGHtGW83FdgIuvnGBKdY9dt4xjmEkzLbX+V2b8LmrdPCtuF6SSz30waTFEt7kAimlub\n",
       "DLyDjYNJr8C8w2OsiStF4/qBt1tEAtVsyZJgkVsfQCESgODw7x+017y9Oim0qs7BFit9MXaH5mUn\n",
       "h8PUbM9bqcx7rRycPKZjox5z6cC79U7vkEgOLp6CZZFVTSU9mm1RtsAzvbnIJ1LXbYzb4WMIvk0d\n",
       "fnQe5S38ouKQkmZgSaVYp/pDDF5k5qYLPOMtkEE6Mi5UR0II2qFqh26HXHfGg3YdXuSperD3BCwx\n",
       "i6OHa3YKtgs88pYYo8zbUpEPR3oJZGjeP7p0JdsUITYZzdzeFCxFG1NVgj8nK+wCz30SQkqgUnSO\n",
       "TCGrSExaa3//Sh+2+g5XktlNStPRze1NwHJybBJP/QWoj02igffW896/Ku8IZ6i6l2vmw9X8hity\n",
       "Jz52am8Ktuldd62AWCjmooHneuetgOqTM+Eu0CYHOSTvPKKCHrNRzrM3Bas5O6sx+lsgDXzBG/IN\n",
       "VM7lmXAZ2XOjFzHcQjWfrGp+Yc7B8kE45efFJjWftOfS6Bu9k8FL7rHyMIEjpxAVsEveJfm7jaeP\n",
       "dg5WO46MqYyfqGA4CTy759MIzg2UvQF71kHdcA8/hZ/z9i7GLdWo9APz+nG/ZEYwLLePNw6AlDvN\n",
       "vcNIYEcDd3UVPpRh4Qd39Lod66pqd/+2o73nO1gxBKZPgIdiZlwXl5ccXne8qaseiU2q89v6u1bW\n",
       "bzua+vu5jn1m1rhq9hi6eu9cPpzC3XtHfKLf23fafFHq++/L8Ir2P4q9KsId/LtpAAAAAElFTkSu\n",
       "QmCC\n",
       "\" style=\"display:inline;vertical-align:middle;\" /></a></span>"
      ],
      "text/plain": [
       "|- (B not-in {A, B, C}) in BOOLEAN"
      ]
     },
     "execution_count": 160,
     "metadata": {},
     "output_type": "execute_result"
    }
   ],
   "source": [
    "Set(A, B, C).nonmembership_object(B).deduce_in_bool()"
   ]
  },
  {
   "cell_type": "code",
   "execution_count": 161,
   "metadata": {},
   "outputs": [
    {
     "data": {
      "text/html": [
       "<span style=\"font-size:20px;\"> <a class=\"ProveItLink\" href=\"../__pv_it/demonstrations/5c8f982e438f507a8f60ac18901e8b4e91fa0d7a0/proof.ipynb\" style=\"text-decoration: none\">&nbsp;&#x22A2;&nbsp;&nbsp;</a><a class=\"ProveItLink\" href=\"../__pv_it/demonstrations/c4f8896351bf3ac5d0cc5d8bdd37fb61fdeee2da0/expr.ipynb\"><img src=\"data:image/png;base64,iVBORw0KGgoAAAANSUhEUgAAAJ8AAAAVCAMAAABv7sxsAAAARVBMVEX///8/Pz9vb28YGBgNDQ0r\n",
       "KysPDw8WFhZUVFTMzMx2dna6uroQEBCqqqqIiIgiIiJmZmYyMjJERETu7u6YmJjc3NwAAAAKD/ZO\n",
       "AAAAAXRSTlMAQObYZgAAAntJREFUSMell9li3CAMRUmbNuxi//9PLWDGFotxJuUhMzCADlcSKIQ8\n",
       "NdZ3gwnk/caM9uSnLW4tAu54y39oRMh2UBXfXOnddcrFyWmnXtrsY4xzvdqRc+7U8d3YNkgfADVI\n",
       "55KVQEXt23M+0Hm2EbjHTzWVHBzmy2Ke8PRYzqtS6Jd6+6SYJUxn2XwNpXCKpiV9cO/LiKecpoHP\n",
       "1L6UWIlUtEswHI3rBz5HRCbTjBTPQjzD0PZ8wQF8/bVr/cLIJ+tPNEUcc0XNZIelXpLJDoAd+ZQq\n",
       "fPE6Fun4mCsp5yL5Jp+tAzQN+T77N08Vk52FflyUzNAv94bY8XnrF7Gy4WvhMA57aBnPL9W4Ge0s\n",
       "+AQwms/q2uXic1BgviPL9BAq1O75ROJDAoPxU+oHO9qZ+CSkVKMD1Mu7Pd9x6QyHU5Lt+RY3gJbN\n",
       "m/ZUTcFoZ+nfEDJUW61Yz8ekze3PZ/6DIgUi2fKZxQWaU7rNpNC8wdJgp7aR7/g4+Hx1C+KL9Vxc\n",
       "3TwCaz494MV6HJeOXa7dEV+8169IS5t/FTW5JWnOeJPz5VckcBs+ZU6mo6U6p/Gh+BNoX3nPR8tN\n",
       "7dDji+/nQiomd+3yl1UfaMQnHUpplL84P4ze6JcDEOe6xGJnYSm759OHVZ9etiLkx9ZQQGMhrO8/\n",
       "w3s7i/ctzyi7Ya25S4kG9J663/6Oz1CZbH0eAfzrfq4N8JjIQeMEme5n1r3bTvhNfQC35cSvD9e/\n",
       "O52RM+oWebwaQ+/bsIngk52u4Lx9pmdyPofzqiBcjn2/PnjEGOrCXf3nF8ZWY1f991xfPXPUOFiV\n",
       "1VP9vJoUlvWzeNDj3fp+ja3+9/+P8BbeP6/EJzfd26nXAAAAAElFTkSuQmCC\n",
       "\" style=\"display:inline;vertical-align:middle;\" /></a></span>"
      ],
      "text/plain": [
       "|- (4 not-in {1, 2, 3}) in BOOLEAN"
      ]
     },
     "execution_count": 161,
     "metadata": {},
     "output_type": "execute_result"
    }
   ],
   "source": [
    "Set(one, two, three).nonmembership_object(four).deduce_in_bool()"
   ]
  },
  {
   "cell_type": "code",
   "execution_count": 162,
   "metadata": {},
   "outputs": [],
   "source": [
    "%end demonstrations"
   ]
  }
 ],
 "metadata": {
  "kernelspec": {
   "display_name": "Python 3",
   "language": "python",
   "name": "python3"
  },
  "language_info": {
   "codemirror_mode": {
    "name": "ipython",
    "version": 3
   },
   "file_extension": ".py",
   "mimetype": "text/x-python",
   "name": "python",
   "nbconvert_exporter": "python",
   "pygments_lexer": "ipython3",
   "version": "3.7.3"
  }
 },
 "nbformat": 4,
 "nbformat_minor": 1
}
