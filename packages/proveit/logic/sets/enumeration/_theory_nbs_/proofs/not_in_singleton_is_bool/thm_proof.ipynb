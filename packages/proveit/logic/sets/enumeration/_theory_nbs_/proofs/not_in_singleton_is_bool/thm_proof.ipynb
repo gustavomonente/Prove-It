{
 "cells": [
  {
   "cell_type": "markdown",
   "metadata": {},
   "source": [
    "Proof of <a class=\"ProveItLink\" href=\"../../../../../../_theory_nbs_/theory.ipynb\">proveit</a>.<a class=\"ProveItLink\" href=\"../../../../../_theory_nbs_/theory.ipynb\">logic</a>.<a class=\"ProveItLink\" href=\"../../../../_theory_nbs_/theory.ipynb\">sets</a>.<a class=\"ProveItLink\" href=\"../../theory.ipynb\">enumeration</a>.<a class=\"ProveItLink\" href=\"../../theorems.ipynb#not_in_singleton_is_bool\">not_in_singleton_is_bool</a> theorem\n",
    "========"
   ]
  },
  {
   "cell_type": "code",
   "execution_count": 1,
   "metadata": {},
   "outputs": [],
   "source": [
    "import proveit\n",
    "theory = proveit.Theory() # the theorem's theory"
   ]
  },
  {
   "cell_type": "code",
   "execution_count": 2,
   "metadata": {},
   "outputs": [
    {
     "data": {
      "text/html": [
       "Under these <a href=\"presumptions.txt\">presumptions</a>, we begin our proof of<br><strong id=\"not_in_singleton_is_bool\">not_in_singleton_is_bool:</strong> <a class=\"ProveItLink\" href=\"../../../__pv_it/theorems/ac86ce27ba5461512c0ff68e951b66834cbedc1e0/expr.ipynb\"><img src=\"data:image/png;base64,iVBORw0KGgoAAAANSUhEUgAAALkAAAAWCAMAAACrOc1VAAAARVBMVEX///8/Pz9vb28YGBgNDQ0r\n",
       "KysPDw8WFhYQEBCIiIhmZma6urrMzMxUVFQiIiJERETc3Nzu7u6qqqp2dnaYmJgyMjIAAACoIi7K\n",
       "AAAAAXRSTlMAQObYZgAAAt9JREFUSMfNV+nSnCAQJOfHDeMA7/+ogRXkEFzdqqTCD2ddW2jm6EFC\n",
       "/t6Q/a3jrn/MGZB/PKzr7WLo9gY8ngCC5s1t9tH6O9xXn7ibL4Lp7crlqvN4mEB4WV1dU2eaGhM8\n",
       "1UpUOG7lsb8bO297uxhctHeoJ5DjT/Dv1iSSRVfBnnEvuC2Os+Ymccd7eytZ3jAnyK4nM0REzkwS\n",
       "U+HF1dX5b4a2vZ1tzmj99ds/YA70PIPWfmC+bZn5C+4Q0rD6bnnq3k4S3CTRMPaJz4kXpxnOPkdR\n",
       "ausFDyYNjTeZM95bYExZwWq44RXFMXMzSWA8AS19McPqaeStDsE0W4SWSjbw/cbcFSbjOgtxx04z\n",
       "UiO76wQbElftzzFKYXoaRsFxzU4nShOZUx0CFS1c8DvFXdN86yxG92AAImxdZKJU2y7ddtuV0JSg\n",
       "H57edEtzUaHoHLbwdGF3xZyUbWcLDY89R6mP49fPeGnyNpdzRNMUjFAionT+JcMww2sMzIspcHSj\n",
       "hD1gTloeVV1HpTrapYjxievmO390q4a5Xfo8RUM1cOuPfoeMS1aqQLD0r4bLbCENj7yls5gn55qm\n",
       "bTJ6aqxCDzNMmavS9DPc2NxVoxbFStLZm0iifyS9rtAN9nKrMpbEQ/CVABpVLr22tBXK2drnOdEz\n",
       "fOP6ON35I+EtpI2xMXRFvnYrQmwOoT98xWgouWLOVXrJnfSc4ySuXfePAESueniTqKFRpPRYjfsv\n",
       "Yd0tKMaiRnenNVDmB6yYpxd4WaTtRLKfQcDFiavCHbSFcsyR0obKD7r/92+m691DDz2OiE33HwpD\n",
       "4GmG7rg6wG0g6FN+x/JOe9EyBvaTE9ekreWUTg0Jgnh84hpnG+CgnECWeoukKdOEYsaveS3b7uzg\n",
       "nmVEx7Qy7OT8+43wPTwyB1uV5NGXxbSt7d9EIma5rCIvyBsn3I5p98Gk4iHDf/I1N9/Rtv4Odc+I\n",
       "X8LTIsIhkv92/AGL4yx+vzs3DwAAAABJRU5ErkJggg==\n",
       "\" style=\"display:inline;vertical-align:middle;\" /></a><br>(see <a class=\"ProveItLink\" href=\"../../../__pv_it/theorems/21017c73ae8f5602e88d37a4fd60aa084e08701c0/dependencies.ipynb\">dependencies</a>)<br>"
      ],
      "text/plain": [
       "not_in_singleton_is_bool: forall_{x, y} ((x not-in {y}) in BOOLEAN)"
      ]
     },
     "execution_count": 2,
     "metadata": {},
     "output_type": "execute_result"
    }
   ],
   "source": [
    "%proving not_in_singleton_is_bool"
   ]
  },
  {
   "cell_type": "code",
   "execution_count": null,
   "metadata": {},
   "outputs": [],
   "source": []
  }
 ],
 "metadata": {
  "kernelspec": {
   "display_name": "Python 3",
   "language": "python",
   "name": "python3"
  }
 },
 "nbformat": 4,
 "nbformat_minor": 0
}