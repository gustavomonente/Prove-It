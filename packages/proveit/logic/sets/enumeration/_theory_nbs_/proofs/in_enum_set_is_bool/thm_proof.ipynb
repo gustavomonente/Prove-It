{
 "cells": [
  {
   "cell_type": "markdown",
   "metadata": {},
   "source": [
    "Proof of <a class=\"ProveItLink\" href=\"../../../../../../_theory_nbs_/theory.ipynb\">proveit</a>.<a class=\"ProveItLink\" href=\"../../../../../_theory_nbs_/theory.ipynb\">logic</a>.<a class=\"ProveItLink\" href=\"../../../../_theory_nbs_/theory.ipynb\">sets</a>.<a class=\"ProveItLink\" href=\"../../theory.ipynb\">enumeration</a>.<a class=\"ProveItLink\" href=\"../../theorems.ipynb#in_enum_set_is_bool\">in_enum_set_is_bool</a> theorem\n",
    "========"
   ]
  },
  {
   "cell_type": "code",
   "execution_count": 1,
   "metadata": {},
   "outputs": [],
   "source": [
    "import proveit\n",
    "theory = proveit.Theory() # the theorem's theory"
   ]
  },
  {
   "cell_type": "code",
   "execution_count": 2,
   "metadata": {},
   "outputs": [
    {
     "data": {
      "text/html": [
       "Under these <a href=\"presumptions.txt\">presumptions</a>, we begin our proof of<br><strong id=\"in_enum_set_is_bool\">in_enum_set_is_bool:</strong> <a class=\"ProveItLink\" href=\"../../../__pv_it/theorems/c90b0a3db3c044151eb7a1becd43f560c845460e0/expr.ipynb\"><img src=\"data:image/png;base64,iVBORw0KGgoAAAANSUhEUgAAAXoAAAAWBAMAAAA8z0o2AAAAMFBMVEX///8QEBCIiIhmZma6urrM\n",
       "zMxUVFQiIiJERETc3Nzu7u6qqqp2dnaYmJgyMjIAAAAcRTyBAAAAAXRSTlMAQObYZgAABKlJREFU\n",
       "WMPFl39oG2UYx79J7nLJ9dIWcWAVJVuxKzJdKah/2I5kgxXUuUsF6R+DhaLoQEbQbnX+6EIR1010\n",
       "QQVLYewsUnXiFpWgcxvc2ooyNwi0gkKdJ+g/Q0f8zxUU31+Xu0vujsaKPvDcvXfPc28+PHne531e\n",
       "4D+U1GAr3nK/sa5fi17XW//ohNBmUX9tbSZpA7mc9be1lYCrY7Do+Ad/Fy0TZvUXtcjVL/S1FgOx\n",
       "jWi85H23+ZbjPx3MAPvIeBHf0FfXgujDrP7SXuLqN12hRfqvaDSshpfWsHqMZOBpRj9NrsliEH2Y\n",
       "1V+WhP5b9JhveFnchTsTZLI0pW8nS0MrB9GHWf3lkFBHvhsft9ZB/45IuyPjEzb9OUKvdlL61KVT\n",
       "p95GEH2Y1VeSBa6OjNy1vti3Z1gBmjSc2C++T+4/U3r8MTX1YiB9mNW/TPVxxWzPW1vSNG+veTJn\n",
       "th/JW8MmcDtcZF/R2XDacDJHOvAEuS8wejI6GkwfYvWVRJWraqaeUSxvzYiTZzOLaA0jwRNwBy4/\n",
       "spRhabfPyfvs4d/p33GV0e/wLmv52UVszNfpdzQv+lBRylw1Q1uVKHjCsX2sI1nehkTx0fuDM485\n",
       "2PWLhr2N5VvRvWqvrJD7Z4xeQbRqWz5cGMTnmhEz6vRu61okkuGq2gy560RYAEYO0dc3oSONoeDt\n",
       "gjsIeZKMZPpPyHfQaWz6hESY9jJ6rarUt5NXZwxcSPdpTua4rC3Rw2aYdmxZsnNLq9irh9ALBxF7\n",
       "mgOMPumJfQJ5mz5pPUY7kOFumkREKpU3XPTMivl7e+gv90Bpaj225/G8T+bAZog4tjhBiFnYiDB6\n",
       "5rD07aY+O+8lljmdbvo47RCGGD2OPk7os9VIiXcNFe2jPQ49s0aN/QoZah1GDvEGfnNV7vRZtW3G\n",
       "VvIZpUl7ak4ij1dC6ZnD8u3osmsOX7X9ntinTHvV4lMy6cxmdBgqq00VmAsuemqV8Rt9nBlCr3zR\n",
       "S598txB178W0vlHdXT4uerUXPPSxvPQnpz9DqNS/3AN2oQ7J2QJW7XofM+3/VHQKe3D5PnIf4PQs\n",
       "QUeRhfzc1NQkoT+huOh5+t5gzwPErTF3YmY87U7bAte5TbODfLnPvWy46NXR7hucXqEJd5AO8mKA\n",
       "cUM4xNNSZ323YhmoPvWgt0vDL5w+RWffgAEZeR57adhFz6xyTabPY8StkV7JRPSlCyshncLDRzyd\n",
       "QswSmfNFc9trCIeIHjN1Qf+eCMvXolOwi1OB07MEqGGsgi/pcBlYcdFTOalZGqYNHJBqjH7aSB5j\n",
       "F3JT9N34pKisqUsj8dyPMxlWq8mKaXaAcDgJ5SE9oEuzfdMOvZTHlioSJLmkiQxZ0176ueX5S8iV\n",
       "sbPXYvS5styFXEnukm+DNPo64rqzeSZKXAP6+5cwCbx5eJQEL93cJUA47ET0iujvgzZL3iF7pJfk\n",
       "vbdTcElZLZFqwjKnvoTa8AFeI1va3Zk1nE5Azlbbu+1inmq204XiOEC6GYGRYP3LYnjLNaG7z2Jx\n",
       "8xHIWx/gxzIuZ/G0ZGEO56trOBmi7R+ca78POCIThHvGWjhSQ1oxG8NWxa7L+P/kb4vIX3Svge/4\n",
       "AAAAAElFTkSuQmCC\n",
       "\" style=\"display:inline;vertical-align:middle;\" /></a><br>(see <a class=\"ProveItLink\" href=\"../../../__pv_it/theorems/964ad50f5c6a888089dc620e4a73b557f313f24b0/dependencies.ipynb\">dependencies</a>)<br>"
      ],
      "text/plain": [
       "in_enum_set_is_bool: forall_{n in Natural} [forall_{x, y_{1}, ..y_{_a}.., y_{n}} ((x in {y_{1}, ..y_{_a}.., y_{n}}) in BOOLEAN)]"
      ]
     },
     "execution_count": 2,
     "metadata": {},
     "output_type": "execute_result"
    }
   ],
   "source": [
    "%proving in_enum_set_is_bool"
   ]
  },
  {
   "cell_type": "code",
   "execution_count": null,
   "metadata": {},
   "outputs": [],
   "source": []
  }
 ],
 "metadata": {
  "kernelspec": {
   "display_name": "Python 3",
   "language": "python",
   "name": "python3"
  }
 },
 "nbformat": 4,
 "nbformat_minor": 0
}