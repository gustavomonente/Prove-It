{
 "cells": [
  {
   "cell_type": "markdown",
   "metadata": {},
   "source": [
    "Proof of <a class=\"ProveItLink\" href=\"../../../../../../_theory_nbs_/theory.ipynb\">proveit</a>.<a class=\"ProveItLink\" href=\"../../../../../_theory_nbs_/theory.ipynb\">logic</a>.<a class=\"ProveItLink\" href=\"../../../../_theory_nbs_/theory.ipynb\">sets</a>.<a class=\"ProveItLink\" href=\"../../theory.ipynb\">enumeration</a>.<a class=\"ProveItLink\" href=\"../../theorems.ipynb#equal_element_equality\">equal_element_equality</a> theorem\n",
    "========"
   ]
  },
  {
   "cell_type": "code",
   "execution_count": 1,
   "metadata": {},
   "outputs": [],
   "source": [
    "import proveit\n",
    "theory = proveit.Theory() # the theorem's theory"
   ]
  },
  {
   "cell_type": "code",
   "execution_count": 2,
   "metadata": {},
   "outputs": [
    {
     "data": {
      "text/html": [
       "Under these <a href=\"presumptions.txt\">presumptions</a>, we begin our proof of<br><strong id=\"equal_element_equality\">equal_element_equality:</strong> <a class=\"ProveItLink\" href=\"../../../__pv_it/theorems/c6fc3e28b42ae58b0ad57fb5d145a63f9ffb5ca10/expr.ipynb\"><img src=\"data:image/png;base64,iVBORw0KGgoAAAANSUhEUgAAAycAAAAZBAMAAADZH0zaAAAAMFBMVEX///8QEBCIiIhmZma6urrM\n",
       "zMxUVFQiIiJERETc3Nzu7u6qqqp2dnaYmJgyMjIAAAAcRTyBAAAAAXRSTlMAQObYZgAABxZJREFU\n",
       "aN7tWn+IFFUc/+6P2R+zs3f+odUlwnqXl1TWclYGnblH4P0V7Sn0g4xbliQzO5YyL06pzf5wLYwh\n",
       "QUUoJwWti9zB4zBFc+0KQRMWz0hEc8EMVLDDNDqt6P2amTczuzNzK+0F+eDefuc73+/7ft/7vO97\n",
       "3/fmADyVl/tluF0aUrr7Sx4lc5Pl4mi5QYaEDmUyzcPi+zQqmvkPgxJFA7K71DBzwWl2XgPNQ1ca\n",
       "ICZTUCqYcdYdlCb8Ey83EJTP0N+5OlXvrEPpCTvrXN1x925yoioBjMQrFJRjmHHJHRRJRT9NSgNB\n",
       "uYj+jtSpe74OnSOeWB5LszpRDQmvRrspKFvwT94dFCKzpYGYxJO3MCo3JxuUp5W6QJESBBQ8+SXV\n",
       "HRQSTccaCEpYrn9UgjcmG5SJaxJQxCkElPjRwcHNXjb6M4ODnzdyv998C6Mi5SYblPN1+vwzzb7+\n",
       "KBTWeAGluVBY18BkBNq0UYl2dtztLLpxZKZ5tWjKtrHgl1pnOQ+F8f5wdVBczdsFop2ztPXzm9a0\n",
       "R/vSFFyPUFCWAqz3AkooDZFGniA34KoP54py05jzYtUCv5o5xUviOB2e1fCh44By72mqJV0hhSZP\n",
       "nszbBbrkCFs/N6uRikf7cdLITxSUJ0GseAElmCS5gft6fsVjCngd1ymbygI2tVajvxg6O4gzIICS\n",
       "jOdqt/RpGR4zcw4pcJVuTCV4FYTaeQx5r4WXLYv1ZJ4JWDhsSNdASHVynbdPVry9FJQw+KufPoQ3\n",
       "voWZGePwmIM5nkZ7xBsoIpkZeZtKkf1ORR6sQ6EZuAHhBCyeV7ulBQq8bj1yiH9qr0CYm3NS5e6S\n",
       "EpYB8GSeClg5JY0CN9f1EsKd6KWgSOVwFekvRubDV5ISUAxQjns811/2BkqsYoDCq3xtgEJO2b48\n",
       "FFHwdNdu6S4Qr1u32eBN9gq3knNQ5TaiTLVDvqt5JmDhpDQKXFw3yi9ggBKtPFPlkPDBVgUOJpIS\n",
       "d83yieDtUmbcY7aRNEAZrxJoePmCZShySnDIsWcoKGKWRf0vOkdZvNQGhcVTlT2FdtWLeSZQlVMs\n",
       "gZvrxpCPMVly97X+JcSZv6jN344BxxTeaFAZHv6IByWyCcEvdvTZ04kd7Re4oL/arpC0IlEl1dB5\n",
       "YseDqg4KUyFNtV7mN3qU/hRV6IvJTj27CaHKPqMHqFzD+wxFB2JOkYLf0x7Xyr5czVOB0R9ak61L\n",
       "eQ451yMvVKdI4ezT7Itt9DCEfI53lX3L/fgJUzK9ERuWvlzCgRLDa+OudK8CIXMCKr4pcIc1/4Af\n",
       "x8BKYQost7iAeayQdjRQsMqyAiplrqkRNiqRRHyVRKdbEbkl/s0TpFoLP2ZKWg8I5zV4jxKPgvgI\n",
       "AcWsoT/h97THtc4phvkq6pigAidnwB1KO8/BVCADO9JOrnP26Tmlk4HSjKbv1nuhORXAwYYpRSRL\n",
       "yzCURjhQSEIzF54F4bAZlEBS4OYicgm7k4f0Ekv6jnkaPRd6QAeFqrCmNNy62aiI2Vmb7qGP4QFU\n",
       "rcJEhhHQj1zZ2fp8NqX3AHN2PFCmhHT8BF2+dFVDX3tPelwTFM48VjCbx60Sgej2HArPTo5DLX5/\n",
       "NuHoOmefgnKBgRLHtrJokMJkQclCFwhvFQprESgfh3lQTqO/6YCmQ9gMik/1c7uNL4XmB+IhcsCy\n",
       "JXK3OaQdDRSqYmnKcs1CMNpvTxd0V7Qe6BydIMuXgyrusduJvttkSy96q6EEmk2rTXb2e3Wd2qfX\n",
       "LDn+e8o0mA3bBEp1CpChkRJcxIOClcZhw6AVlKIcOa2MHhx94Tuyjip48JtlOyiYN3rwjNGOBgpW\n",
       "6cPba5k0xV1IHjaDYr9RkMDaA8n2ioDioEp6XBUUs3nJLqC36kv789GxNG+n5NV1ap+/kGQnyzGE\n",
       "1ykJtiiIWjkMZHhPApyxgAItwrUyBgUJvq9VPrn3KdhT8akHAD2FlVOobkpBEoPCy2HenjwKPvTU\n",
       "Ilwv66BgFdY3ufdFzdR64D9o7MVQ2nOH7WDpgcHRiVjOUZX22OV7yl6+QWM31VvdhmIlni9xHINy\n",
       "cZ3ZJ+dNdnXPJlMGLsKmo9CjIgotyBE02YNvpyBkBWXh/W0ElB5VaIEeGVdqMLtnPoTSu+BhwPwV\n",
       "JVRHO04oGBReDvNCaXS+FabTdvTsa4U2j0hTrOCPXE3ai43vZFHw2IdNP/dqPTA4GhGd93vCSZX2\n",
       "GIJT7SJm8/YzttHqQmiSoysUjqNTbq4z+10pNhHtn4O1ZX822lPM1yz85YBiCGpUGIYgp2pPtB4A\n",
       "m1wY5qRwmqqVvMO9EPZ6aHK/0Q819ht9XK4GSkyueffF+f/Q45wgo3bCPZCV2ROtF/2m2uR2wgHU\n",
       "z31eQPm/FhsocfAAilkwXoUfd5Er3wZlAqDUKv3/1v99JW+DYCnd/Zl/AOFjaE2cA+ChAAAAAElF\n",
       "TkSuQmCC\n",
       "\" style=\"display:inline;vertical-align:middle;\" /></a><br>(see <a class=\"ProveItLink\" href=\"../../../__pv_it/theorems/d1b86950262eb3c299871796538d31e32abbbeb80/dependencies.ipynb\">dependencies</a>)<br>"
      ],
      "text/plain": [
       "equal_element_equality: forall_{m, n in Natural} [forall_{a_{1}, ..a_{_a}.., a_{m}, b, c_{1}, ..c_{_a}.., c_{n}, d | b = d} ({a_{1}, ..a_{_a}.., a_{m}, b, c_{1}, ..c_{_a}.., c_{n}} = {a_{1}, ..a_{_a}.., a_{m}, d, c_{1}, ..c_{_a}.., c_{n}})]"
      ]
     },
     "execution_count": 2,
     "metadata": {},
     "output_type": "execute_result"
    }
   ],
   "source": [
    "%proving equal_element_equality"
   ]
  },
  {
   "cell_type": "code",
   "execution_count": null,
   "metadata": {},
   "outputs": [],
   "source": []
  }
 ],
 "metadata": {
  "kernelspec": {
   "display_name": "Python 3",
   "language": "python",
   "name": "python3"
  }
 },
 "nbformat": 4,
 "nbformat_minor": 0
}