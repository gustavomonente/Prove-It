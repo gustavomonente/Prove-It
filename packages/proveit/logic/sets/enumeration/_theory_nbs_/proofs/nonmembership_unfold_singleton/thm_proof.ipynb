{
 "cells": [
  {
   "cell_type": "markdown",
   "metadata": {},
   "source": [
    "Proof of <a class=\"ProveItLink\" href=\"../../../../../../_theory_nbs_/theory.ipynb\">proveit</a>.<a class=\"ProveItLink\" href=\"../../../../../_theory_nbs_/theory.ipynb\">logic</a>.<a class=\"ProveItLink\" href=\"../../../../_theory_nbs_/theory.ipynb\">sets</a>.<a class=\"ProveItLink\" href=\"../../theory.ipynb\">enumeration</a>.<a class=\"ProveItLink\" href=\"../../theorems.ipynb#nonmembership_unfold_singleton\">nonmembership_unfold_singleton</a> theorem\n",
    "========"
   ]
  },
  {
   "cell_type": "code",
   "execution_count": 1,
   "metadata": {},
   "outputs": [],
   "source": [
    "import proveit\n",
    "theory = proveit.Theory() # the theorem's theory"
   ]
  },
  {
   "cell_type": "code",
   "execution_count": 2,
   "metadata": {},
   "outputs": [
    {
     "data": {
      "text/html": [
       "Under these <a href=\"presumptions.txt\">presumptions</a>, we begin our proof of<br><strong id=\"nonmembership_unfold_singleton\">nonmembership_unfold_singleton:</strong> <a class=\"ProveItLink\" href=\"../../../__pv_it/theorems/5b194526a73bb5eef0a6de6d111b2e8af60fc8310/expr.ipynb\"><img src=\"data:image/png;base64,iVBORw0KGgoAAAANSUhEUgAAALAAAAAWCAMAAABXLOafAAAASFBMVEX///8NDQ0kJCRlZWUoKCgt\n",
       "LS0/Pz9RUVEvLy8QEBCIiIhmZma6urrMzMxUVFQiIiJERETc3Nzu7u6qqqp2dnaYmJgyMjIAAAAL\n",
       "5w6jAAAAAXRSTlMAQObYZgAAApxJREFUSMfFV9t2nDAMdNO0KfJdNvD/f1oLbGyDWKfZk60fOGdZ\n",
       "CUaj0QUh/sPx88AgInc3eLoux+95fhFedKOAFv6+IcQxlJ8Lvgjw4gcGRt1ESoH4Eq53L8I7yxHB\n",
       "t0giNMRWqr/52CHB+lZMEwUckY63r6o4+2WCE7skltXRsfGpNKtPm0JWBAIYr2DLcndcRzCCJAs/\n",
       "bUKI8siA88NXPQBVSNGxbTUaGJm53QITQbMFYY+OEJftvP+g66HzKBTpANadGLJWshTg4Nynyufn\n",
       "Zx4aOV7zZsPRauOKQvmHBPsgJEFz+8vDpie6wPxlwBjin4/dPZzDDlcepj1RWFF0R5v+4cmBJLHu\n",
       "ytEb0ZTGz5QcD3h2wf9G8a+ARUXRv+TMuEppSEB1AzgNlhJXBKmhtBUFdNciB/gwJEHp2OFr/BjA\n",
       "9tB1QdFq+G3alVx53hQBU4Zkc1R5tgAKswirit5TcHriGK6G9DjpO8CNHwM4F13AvZAAB1PQmXIp\n",
       "RZecZVZEing5xOyR4gHHAT4MUbZ/bDXW+uF0AbB1ppToINx62YPUdQpKQ9bZTMaLmNbmDfS3gRsN\n",
       "74baOvfr3Tmy0k5e/PSlv+9ZRQOQWux54WL2GbKUBdWSRTRj1dVGX5ZbSvmkecDFMMVv8NTFqh/D\n",
       "8KPRHG7WDJmVhafe4NekfNJgGo8EwuqUDK5LVEMRNZpzU6h+jIYfLT8MwalUBK6qWX469mcVgVq6\n",
       "nqiWlQG3cICrYbr7M5wBVz8O8P1QDcx6YJNoHDTr5W120v/+qOlHg+ONVhFo8DV+LODbBZ7byFVS\n",
       "sB5Fmj9HkiLVMhwcXp7nROPHAr79RBpsUPOjdYceqeYYx5MuqnZf9b2feWoHfPbwxdLNft/tJPob\n",
       "Pgr+AoVOKEldhK8WAAAAAElFTkSuQmCC\n",
       "\" style=\"display:inline;vertical-align:middle;\" /></a><br>(see <a class=\"ProveItLink\" href=\"../../../__pv_it/theorems/8180ff88aeb322d0d458a00d8dd23acc9470488d0/dependencies.ipynb\">dependencies</a>)<br>"
      ],
      "text/plain": [
       "nonmembership_unfold_singleton: forall_{x, y | x not-in {y}} (x != y)"
      ]
     },
     "execution_count": 2,
     "metadata": {},
     "output_type": "execute_result"
    }
   ],
   "source": [
    "%proving nonmembership_unfold_singleton"
   ]
  },
  {
   "cell_type": "code",
   "execution_count": null,
   "metadata": {},
   "outputs": [],
   "source": []
  }
 ],
 "metadata": {
  "kernelspec": {
   "display_name": "Python 3",
   "language": "python",
   "name": "python3"
  }
 },
 "nbformat": 4,
 "nbformat_minor": 0
}