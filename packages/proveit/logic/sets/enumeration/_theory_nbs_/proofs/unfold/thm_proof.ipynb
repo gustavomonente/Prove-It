{
 "cells": [
  {
   "cell_type": "markdown",
   "metadata": {},
   "source": [
    "Proof of <a class=\"ProveItLink\" href=\"../../../../../../_theory_nbs_/theory.ipynb\">proveit</a>.<a class=\"ProveItLink\" href=\"../../../../../_theory_nbs_/theory.ipynb\">logic</a>.<a class=\"ProveItLink\" href=\"../../../../_theory_nbs_/theory.ipynb\">sets</a>.<a class=\"ProveItLink\" href=\"../../theory.ipynb\">enumeration</a>.<a class=\"ProveItLink\" href=\"../../theorems.ipynb#unfold\">unfold</a> theorem\n",
    "========\n",
    "*** see <a href=\"../__pv_it/b4e0e013be878a4c77f8dbfff5095973b7bbdd180/dependencies.ipynb\" class=\"ProveItLink\">dependencies</a> ***"
   ]
  },
  {
   "cell_type": "code",
   "execution_count": 1,
   "metadata": {},
   "outputs": [],
   "source": [
    "import proveit\n",
    "from proveit import defaults\n",
    "from proveit import x\n",
    "from proveit.logic.sets.enumeration  import enum_set_def"
   ]
  },
  {
   "cell_type": "code",
   "execution_count": 2,
   "metadata": {},
   "outputs": [
    {
     "name": "stdout",
     "output_type": "stream",
     "text": [
      "proveit.logic.booleans.unfold_is_bool is being implicitly excluded as a presumption to avoid a Circular dependency.\n"
     ]
    },
    {
     "name": "stdout",
     "output_type": "stream",
     "text": [
      "proveit.logic.booleans.fold_is_bool is being implicitly excluded as a presumption to avoid a Circular dependency.\n"
     ]
    },
    {
     "name": "stdout",
     "output_type": "stream",
     "text": [
      "proveit.logic.booleans.unfold_is_bool_explicit is being implicitly excluded as a presumption to avoid a Circular dependency.\n"
     ]
    },
    {
     "name": "stdout",
     "output_type": "stream",
     "text": [
      "proveit.logic.booleans.negation.double_negation_elim is being implicitly excluded as a presumption to avoid a Circular dependency.\n"
     ]
    },
    {
     "data": {
      "text/html": [
       "Under these <a href=\"presumptions.txt\">presumptions</a>, we begin our proof of<br><strong id=\"unfold\">unfold:</strong> <a class=\"ProveItLink\" href=\"../../../__pv_it/theorems/bd8672f299c714b1bd108a94c4a1558c4a279b460/expr.ipynb\"><img src=\"data:image/png;base64,iVBORw0KGgoAAAANSUhEUgAAAggAAAAZBAMAAACmx8tHAAAAMFBMVEX///8QEBCIiIhmZma6urrM\n",
       "zMxUVFQiIiJERETc3Nzu7u6qqqp2dnaYmJgyMjIAAAAcRTyBAAAAAXRSTlMAQObYZgAABUNJREFU\n",
       "WMPtWV1oHFUUPtnM7M/szCYP9qH6MiYQg6Z0odQ+NKlbBfOiZpMH60PEpVhEUVk0NhqLFEWdWNSx\n",
       "yDZEWscq0a5YF8pSAwpLUl8aK0PJg0orA+qDghL8Q/sg3t+Z2ZmdO7tBVlEvnLs3O3s+5nzn3HPO\n",
       "vQEQjeTsE/BvH9LsIfEPUvBfGJX/SfinkZCxqYhG1uwATDiWmSASHPxxOZKEHP7Q7O6Q8A4T4bi/\n",
       "AzBxwjOpIBLW8N/fRZKg1tBHzuoOCd8yEY7TeJLJshh6WPQexgIpDhVEwgKOnMORJJBHC93hQMtT\n",
       "EQ9Vx17E1mp66OEBPF3kYDFjhUmFeJm4OyIn4CBZ6w4JKZNKjAP7sbNL+PfhAL0TT3McLGa8waQC\n",
       "2vlq9ZggMV6qVk+Vu0PCMSYx42se7LeEn+WQ6VIe2gPKFaig6vCbYRwSkNBnGM83ukPCIJOTQ6+O\n",
       "BCJdGdThFeb4VTydQTLfonYgAtImtAek5qlUyDaaF5CAdl/abN+QQvCL6ZjKIt/gLl+kojS0R1I4\n",
       "Yak/kIEdq0r9sB1kkru+ZG8mt8pkKGjv4mDRQCwHOVQqOKhIinRf6tFzcG3JIwEF1+kOvBl8sczV\n",
       "sZXKjbMnqaiWekUK8P5arwOGvIPsy7N4SuiQLLRAGwC4l4NFAvGwKVOpYEMTrrPeXR2DD1Sr1/I1\n",
       "S2XYtjkSlA932JB14jS8X1xFRYF0yMdWjw4/gkRIuIeAl1v75m3uUiEQ8/cGFUSCart9oXZk0YKP\n",
       "9Lzq7xgvQHlzJHy2XIXNkIDyULj2TVjyL34SYHfrmtVbY6VOCBQiIeOguqKNTQ2ydFuvH20i4QQu\n",
       "R+rgFC7BN5do/Wk6hQ35axUlYWXnUJEmaWyiWMsjgW0HZCbtgthWJntzDyT6GQnj5OGJ1r7JOCkP\n",
       "LAqIWkvgJLodYB5tIm2v3WPSFrquvjftJyFdQXvv+qQzg9aNK3I/PBBoXvqsyUAkJKyHU4Wca6JY\n",
       "yyOBJcastR0hBIx7DtIlRgJJjJC+W28ZWM9edMEigai1/sQIZxD04nXQZynEd3VorPpJyO7C7WgO\n",
       "543MW+XE4elAqlsch+EACTJ8D/AmT3sxWspW/t0qlYnay3A8aNuNMGEzEkZpLN9HzXsfN79/sAVu\n",
       "l+ZcsEggYi3aOg0qFb5x9sNekB83jKcRCcdTTadIkkf6SJbtbST1UGiPIuVgTvgdYJ9hGLr8TLzW\n",
       "Pl4exqksDZwcC9XVpYGbTEbCN/Sbr9gr4iA/yBeo+8m7YNFA2Fr00yIVTIKGKd0CozKUaCRIU00k\n",
       "fEGzEd5eqUJPMWTODGzRdl9u+EmQN2RIugVQrOVFgrht3kM3MK4LNJYiTtCWBxYJRKxFlYQKv0/I\n",
       "bMBMHT7Gy3XUKgfvEzIbn0Ij8wKkihOkNUfLBYtMCxY8Jm1kh3maIiS8rjoqqEW+47kWUyGTp+Xl\n",
       "BMEBKukoP9OiTg9Q7Z3GooCotb4DFEvWJRixIY2qi/RUgTnRR4Ly0G0jlnwNSPtfIuag5aQpb0XT\n",
       "ZA1uHXbgAG/fyMfS+sp5gCOcBK41WSMqePJp+YroPER1ryk7rUNm1686tN26CYCotb6jdNMYRjkh\n",
       "+mYpC6dw0p0jSz5qipm2oZxYD/UJCZQTiImuVq2Vlo+E6EsVaWCn2Lh2L1V8QPg0kDY7vV5bhgcl\n",
       "B6Z+qrFrKXrblWzcAUope6F124xN5FrezZhfy0dCO9dr2l92vfY5k85IsOH2T9wlfyeQLjUEZwec\n",
       "9riWBq20kl06o27+orXj/zuE0tHRuFPk2t9MgTR78E/dcLBPHCwMSgAAAABJRU5ErkJggg==\n",
       "\" style=\"display:inline;vertical-align:middle;\" /></a><br>(see <a class=\"ProveItLink\" href=\"../../../__pv_it/theorems/ca06af4296b91d8c5fdc593fbc54508b67ee94620/dependencies.ipynb\">dependencies</a>)<br>"
      ],
      "text/plain": [
       "unfold: forall_{n in Natural} [forall_{x, y_{1}, ..y_{_a}.., y_{n} | x in {y_{1}, ..y_{_a}.., y_{n}}} ((x = y_{1}) or ..(x = y_{i}).. or (x = y_{n}))]"
      ]
     },
     "execution_count": 2,
     "metadata": {},
     "output_type": "execute_result"
    }
   ],
   "source": [
    "%proving unfold"
   ]
  },
  {
   "cell_type": "code",
   "execution_count": 3,
   "metadata": {},
   "outputs": [
    {
     "data": {
      "text/html": [
       "<strong id=\"defaults.assumptions\">defaults.assumptions:</strong> <a class=\"ProveItLink\" href=\"../../../__pv_it/_proof_unfold/cc80c15ea78ab547bb65e890a9d8af9b069cb79a0/expr.ipynb\"><img src=\"data:image/png;base64,iVBORw0KGgoAAAANSUhEUgAAANsAAAAVBAMAAAA9T4a3AAAAMFBMVEX////MzMxUVFR2dna6uroQ\n",
       "EBCqqqqIiIgiIiJmZmYyMjJERETu7u6YmJjc3NwAAACgK8IjAAAAAXRSTlMAQObYZgAAAtdJREFU\n",
       "SMetVk1oE0EU/pLdJptmEpcKongwBUGpGIIoIqIEoepBaEBBEJVcvBVdFAkBocGDLaISvUQDxaAg\n",
       "KCKhl4paXQoS0UNb8OJFc1Dxoq3SImgqvpnd2WzsbiDBhRne7vfe+3bfvJ8Furti4x2pr7sgpfhs\n",
       "F2zsbocGgzpwmgtvvNDXv5+Y2LGU9v24hQ7pIhUgWCfhkSc8FUiA+ftUCh3ScQNGlLGiJ7xZzwGZ\n",
       "/0uHnYBWbwnS47HLQtj4LKhjhU8H7o7uJfDF/TAwadpSso89XEHXhLuj600jD6jbvuVKVoZId0iG\n",
       "jD5JVzv78ZzRCoujyBv4ZLahqJUQPy4N+MEoRUzRHp3EjIhp0lFNYnvMsOhYKjaqVVrhIN0ragYj\n",
       "CFR96VKDCC+4UzlWwSVgDTmb1/nDqosuaPZbdIqpNNR6K3yK1D9Tcj8N3PINazxbRtQxuU8rVMAR\n",
       "wJxJ44M4m2MP6LLpWKLXykwmjZrw+mu0mT0GfkL1pWM4ilWGE49RcrDA6XAGGBDv4/46rA7IQrCN\n",
       "XDBvEhgyA9/b0EFtYIMub+5A0FEwUQaWGX+WcdPFstK9NGrCwaowC2fa0VGwz+PdXK4oz450KVVw\n",
       "GKGGwhVKjmo/rb0WXcgcQdhshUVeTyCaaEdH6ATensBJmZmUKrsoSItQKnNcQctK1XvW281QBg5l\n",
       "X+ArWmFBdwNDs4KOa4mN/XILkYS6HK8V0JAGkRQOim+MbxWe2JZDlru1S1XR47QrwHSuNm5NDQe2\n",
       "rKdzt+uCjmtBS9B2UQpjFA62Kf8HQUPNOGWu/9PE1N12l5LXMDxhu6uUYQVzeEUgQ6Z9ej16JKXb\n",
       "Bq98W7RTqj49KcNLnS2KWvLS4qkwAKqweWj79WaLxvO2Y9Twn3fabNRA/OYPw0urRusqJoF9CO+x\n",
       "5x0fQN7j1XHrB9A0V3PX/bX4YR/I681CpUkdrXf784BQF/8q74G/CbrGY7IFSjIAAAAASUVORK5C\n",
       "YII=\n",
       "\" style=\"display:inline;vertical-align:middle;\" /></a><br>"
      ],
      "text/plain": [
       "defaults.assumptions: (n in Natural, x in {y_{1}, ..y_{_a}.., y_{n}})"
      ]
     },
     "execution_count": 3,
     "metadata": {},
     "output_type": "execute_result"
    }
   ],
   "source": [
    "defaults.assumptions = unfold.all_conditions()"
   ]
  },
  {
   "cell_type": "code",
   "execution_count": 4,
   "metadata": {},
   "outputs": [
    {
     "data": {
      "text/html": [
       "<span style=\"font-size:20px;\"> <a class=\"ProveItLink\" href=\"../../axioms.ipynb#enum_set_def\" style=\"text-decoration: none\">&nbsp;&#x22A2;&nbsp;&nbsp;</a><a class=\"ProveItLink\" href=\"../../../__pv_it/axioms/79bb8ca92b7af1b2e5d8b1e86b277c8f104959270/expr.ipynb\"><img src=\"data:image/png;base64,iVBORw0KGgoAAAANSUhEUgAAAeAAAAAyBAMAAAB2exU2AAAAMFBMVEX///8QEBCIiIhmZma6urrM\n",
       "zMxUVFQiIiJERETc3Nzu7u6qqqp2dnaYmJgyMjIAAAAcRTyBAAAAAXRSTlMAQObYZgAAB5RJREFU\n",
       "aN7dWmtsFFUUPrs7s4/Z2dIYX0DUoU2QEE03RPQHUFpMIEaFXUxIf2i6qRCCMWQNaAERKyoUX1n0\n",
       "h1BTOxJSAz4okkYlEheKMcEHG4rRHwibACYSJAsUAwXEO/fe2Z07c3d2dsokqzfpvHr6zf3uPffc\n",
       "c74OgG2758Y1cNcOQg01KUXOh2+cr2A5cWuPu1fIWSdWsVnVYIrTVLeM55PTjq27Kxje5vYNk9nb\n",
       "Xv7An60OVEDdiWbcdCeWpxdJjwhH61lmXfxuFKqEbUY/y1x16C2PCX/UwtzW8adFTlcJ+z36+XxM\n",
       "HfKK8Kvs7TDcPMKyMhaX84hwdJS9X83c/dbZmXdPWKp31aW1nhIOxZnbCEOsbeqYZhhOuerStxkv\n",
       "CZ9g16wf8Zcals05gAPYGcalt02DyAQ7LKPBfu0wNJY58IjwKvY2nAP4FH5V1mk3wdJgBJFnZ1vB\n",
       "X4C28ljEgA6kdjiOx+ocbnHnG9Ooh4TFEdPoDgAcgsPqI5h96fnuBEQGmiHc9cRDZbGIgR7tNYJf\n",
       "uku2LnhIOGCKKz60J6jQTcOGNjM4aLWhWCbBLTBOgXnlO0oMaFuKrtrded05Dwn7UlbCAGSIYUvp\n",
       "eWsCZU+j0J6wIUwN6AxrwC4JN2W8I9yes7o0iJco+9LzIHLVQB4mgR1hbDD8S0NcX8PzDGs45bxT\n",
       "fTnvCDdlrEFrL4o8eD8KKEyUDqdggy1hbHD0LhivR+njMAa384bwK+aMKg7C1XAhQib+RYZwICVc\n",
       "x4Slf4AeduUNF9ggsi0No/o+PNMd4XCaEMbh43cbwvYG3HaneRmmQeqY2khB+l9TDYSljsYrZIY7\n",
       "tccvaCsgpV+sAWoQVIR6nfBplwVrgRD+QTudsSFsb8ANrBfNT9jU8rGNTGqJFikmHLVWu3v1VexL\n",
       "BLIJmlqm3RGOXSKEtaAZ6bIhbG/A3YYvmJ+UKx7QrC2HXS1kb5U5SQdQgz4IPZoYS/Gg9yoJdWhc\n",
       "5QEbwvYG3NLhqmX9ZMrWwy/BeoD3Xu5AOaTVVTRu2GAu+H+i9bC78lD3uyTEDu3c+b5d0LI3KO88\n",
       "DgQAOAswp1HfZHNWIO1QMgDhVnTY5FaE+ZtG6cvd3Wtto7StAa/5r1ge9Zbxheo1rVjGLeHLlPAS\n",
       "u0HTCC+pdlTlUajFdjcl/DBIeeMwrjgIk1JGwiYDB6l0bRK+gxIOgb+4ej4ZmgVfyWpANRI2Gjhq\n",
       "wUJNEn6OEpZzoWKQeLNHhX1KXGZc2mDwvyAcyS/SFPGFjZrzojY4+C5LGBvAgemTtdpmMoQs+cGc\n",
       "FKz5D7h0p55Lb1qMCLfmfBmSRQ7Knz3J5tKagV9dHkIJgjxOTULQRDk7KjIFsMyP0r0Vdm/H4bcX\n",
       "KiNx0PSgBXtQrtZzL4xTJSyYDEJ2iCWsGYjwl3bZMw+miPtZwpHtaT+zz/q5+7BUKVtzqrBXBMJI\n",
       "VrTbdcJYT+iAVhBXdXevR4R7QyxhIjiQaZuJLM1OHcgGmXQvNmJ+lybE11WaQZJC4SxDtO7BpV9W\n",
       "BMJI1oTsok44pmJmM0VIkRkWFrKEsYFYwO9ciR6ZCYdafInhfcdKLjXCy6WHK27feNSWaIcj1kCo\n",
       "cY0p4AQII1lSbumasR6OFGDlIHynXR4FOGath/vkvAxbVHheKGDCW9TIG/iATqHEAviiq+QW4nVe\n",
       "tbS6oqviQKAFSDYGEkxtMshIrwYnSBa9Xi8eaJaagvtyEEY1grCuBYJWwv1HDxyC5ADMnZLH700O\n",
       "iOMhmRHHixNB6HgHzUCbyXmMqzxtFuO57ZTusAJHff0T6C7iAAgjneKWNCbFYwpaw3aKx4CUCefI\n",
       "QBfrpyjsgLdRdnJ/S9FsnTm5jpvEeEMz6Ow4Vkbj/OJqj143lAGSGhXYrK+1IbDq9WTvqE7iiWaC\n",
       "2fkgNs0whv2v4VkhD/3wTSkdmw1WTYsR43/GCtxJvKeVhHgiVqEJ5MnyaMWIXToYB0gW6qFJNz7O\n",
       "kb6CheoJx0A4ljVUbrSqe/xH01+dUK2qJSPGG7zdIMQThb0BYDGvBFMg2KKDcYA+COR15ZsgmfV6\n",
       "X5eHMq1JL9B0aUaMN3iiQYgngvPH/FpFStOdpgyQ6lOgqLS0g1W+7lO8I8wT4hkx3ijwlYR40sXA\n",
       "AF9fmUHUtbJAC1Txkh1hL4X4QIHv0kUxniy9P6hCpwvxRJyO5Pm1yoeQLoLxgJrBX09KAoJklro3\n",
       "gneEhRF+0CqK8cbflYR4GmZeP8LXlZ9SimA8oA0IipQE/KDl5T/TYIVpR4ibxXiDN+hCfFFhX0TS\n",
       "DlaTR5O6VNXBuEAPwoIcLgkokkmv93v571JzmBbSZjHeEIyKQryusNfRtIPR5FE7WQTjAvU3zM7g\n",
       "koAinebGFY8I+7JVpJa6EK8r7BGVb9djAOO2ZloSYCSzXu/tJw/mj1psigeDEK84A+cDBfPSCC0J\n",
       "uMUD9Q+vPls6aQo4mbJifEmId6qw84FCubBCSwJeeRid4C3hzQmnAkBJZ3eqBfOBhIbpxetNVjSv\n",
       "P0yLpquWeGI3TeLRkMxoT4O3hNEmUVMt1uWQsOvPh4NKTRF2/Pmw+w/EH6glvtIz5Hz4xvl/ARx7\n",
       "Q2J1NQsZAAAAAElFTkSuQmCC\n",
       "\" style=\"display:inline;vertical-align:middle;\" /></a></span>"
      ],
      "text/plain": [
       "|- forall_{n in Natural} [forall_{x, y_{1}, ..y_{_a}.., y_{n}} ((x in {y_{1}, ..y_{_a}.., y_{n}}) =  \\\\ ((x = y_{1}) or ..(x = y_{i}).. or (x = y_{n})))]"
      ]
     },
     "execution_count": 4,
     "metadata": {},
     "output_type": "execute_result"
    }
   ],
   "source": [
    "enum_set_def"
   ]
  },
  {
   "cell_type": "code",
   "execution_count": 5,
   "metadata": {},
   "outputs": [],
   "source": [
    "#enum_set_def.instantiate({x:x, yy:yy})"
   ]
  },
  {
   "cell_type": "code",
   "execution_count": null,
   "metadata": {},
   "outputs": [],
   "source": []
  },
  {
   "cell_type": "code",
   "execution_count": 6,
   "metadata": {},
   "outputs": [],
   "source": [
    "#%qed"
   ]
  },
  {
   "cell_type": "code",
   "execution_count": null,
   "metadata": {},
   "outputs": [],
   "source": []
  }
 ],
 "metadata": {
  "kernelspec": {
   "display_name": "Python 3",
   "language": "python",
   "name": "python3"
  }
 },
 "nbformat": 4,
 "nbformat_minor": 0
}