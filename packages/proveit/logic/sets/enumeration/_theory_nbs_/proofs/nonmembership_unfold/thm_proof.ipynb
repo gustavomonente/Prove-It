{
 "cells": [
  {
   "cell_type": "markdown",
   "metadata": {},
   "source": [
    "Proof of <a class=\"ProveItLink\" href=\"../../../../../../_theory_nbs_/theory.ipynb\">proveit</a>.<a class=\"ProveItLink\" href=\"../../../../../_theory_nbs_/theory.ipynb\">logic</a>.<a class=\"ProveItLink\" href=\"../../../../_theory_nbs_/theory.ipynb\">sets</a>.<a class=\"ProveItLink\" href=\"../../theory.ipynb\">enumeration</a>.<a class=\"ProveItLink\" href=\"../../theorems.ipynb#nonmembership_unfold\">nonmembership_unfold</a> theorem\n",
    "========"
   ]
  },
  {
   "cell_type": "code",
   "execution_count": 1,
   "metadata": {},
   "outputs": [],
   "source": [
    "import proveit\n",
    "theory = proveit.Theory() # the theorem's theory"
   ]
  },
  {
   "cell_type": "code",
   "execution_count": 2,
   "metadata": {},
   "outputs": [
    {
     "data": {
      "text/html": [
       "Under these <a href=\"presumptions.txt\">presumptions</a>, we begin our proof of<br><strong id=\"nonmembership_unfold\">nonmembership_unfold:</strong> <a class=\"ProveItLink\" href=\"../../../__pv_it/theorems/3dafa6aa29006bf84342baa439f8781b092876f50/expr.ipynb\"><img src=\"data:image/png;base64,iVBORw0KGgoAAAANSUhEUgAAAggAAAAZCAMAAABjNyZGAAAASFBMVEX///8NDQ0kJCRlZWUoKCgt\n",
       "LS0/Pz9RUVEvLy8QEBCIiIhmZma6urrMzMxUVFQiIiJERETc3Nzu7u6qqqp2dnaYmJgyMjIAAAAL\n",
       "5w6jAAAAAXRSTlMAQObYZgAABVZJREFUaN7tW9mWpSoM9fbtO8g86v//aRMUBAUHOKfW6V7Fg1hW\n",
       "ILvIJoRADUN7YZxzOXyX370QZ0fT0wH/HsM/pUj2TYTv8k2E87GxeV0tRp3+Wst3IWtFFCFt0BwR\n",
       "pvhraxuI0NH8s4sSeV03y3QVSsn3IGtHFCFFaI4IRoffTqqBCB3NP7tMMq/rg0quDLezy0NeyBqy\n",
       "dkQRUoTmiCADv6QYGojQ0fyji8V5XbfT9d9tUG5I/IyRuIysB1GEFGqIEcJM3ub2oxihvflHl7Av\n",
       "vtwfM3rty8f0Jyr4E995EH8Foggp1EAEaxQU+Tz08y3am390pMjzumv6DRPJHDdCD5DsxV+DKEJa\n",
       "a79rmAWUhpTCAqm5ea/zJm/sHOG8VggxSZA5mFBk008hDBJyzCexwfny/GDSHMRfgyhCWmtPhMWV\n",
       "CNlIhObmd8qJsVfiU9O5W6GosKgJm9XK0dxyNPAY95nJl59/wTPa2QwEfC2avU/fOJuEi7CEPlhG\n",
       "D+IdiLJpNGW1JwLBhdA2GSiOjbMHGlmZCBfN+0rdzcmVymP/ZoUdvRnXWQ0bczOrgcjT6Sf1gGEg\n",
       "hBgoxttE1nwXYU+PJlsm3oxol0rgWb0klOAdHeeV0gZj91kLrxarSkKp0vydRHDQ/v/Pq9QvYGCh\n",
       "j5FktSqNJUySfHI4sREc8QwPslmfbvPRorvxXEW8A1EmN2f1QgRwrsdlywotFejTDg0GJ1MhQrn5\n",
       "O4kA0P5Vw9cRYSiNZWlBJG6SusGlVSIsWwB6N6N7FO9AdEkE53pWVRZbipZwhMRlRlNNJaoTYWvu\n",
       "tqWYosBfglj8U84DgbqgyPa+a+cAjZrMiF26CkTYLQ3DYSz9ivxjXNblzU7eDyO/J0uIsL1qfDMp\n",
       "VBVvRpTYNoFE0qXB0WhNRlkyuuk9gtptcDR1S4OlVSJszZEa2DRwEuIUR0YKg8LODbQJnhFh6xyg\n",
       "YZkZsUtXgQi7YFGrJdxC6iLHJ1h4pETYgsXQQt9LKhXEmxEltq0Ei6Bn5YVC8ALOROGUCG78DK4S\n",
       "ITQfnOAUgwWpYCiQi5vMeUAXBc+JEDv30EQW6PXpUuNh+PLdFZn1IObDaQ85DglmIG13RMAmZody\n",
       "nw/K56n2UhJvRpTYNoW01uH0Ma42zL34/QblPj0g0EIEp5BXiZAuVnMypqAEOrx02VHwIkZYOgdo\n",
       "//z00KjAr9BFD1mQ3HMqhpDbkO+P1QqnKyCJF5gJESYas0PRv0UInFVfSuLtiKJtU0hrHYhgQwcj\n",
       "9UPlnizzCAOhqE6E2NzHHnHlAjcOHV4aZxW0WFtr6kQInbNkAQhbvx5dBY9wJ8Vcc+942gUGihfS\n",
       "Inf2DUXxZkSbbTdIod7fR5CzHyq/GNA8hWfrMULS2kx+eyEFmINT55QSx+a/5o9MUIPL5hUibJ07\n",
       "aIrt1/edroKquq7SzuPGoVNh+rkgxnl2sksemCcp5esdZSOixLblQ6eMgvAzWnJ1QgdftOSj2SUR\n",
       "FLPEIMg50FH73pCYEiL4rxSmX3zkgm5LQEWFCFvn7uvfek+Ena6Cqrqu4hY07MOqKVNdSKpzN3IC\n",
       "LfkuPq8r0KuTbY2IUtuWjqFP8u1rjHCRYq6AclpkiHGju9bnghDH5UcIlYTSjwhtNeJRlx5u6yoS\n",
       "4fJiSun+BXHrMb1tuMbSj+jI8rddVYNLUG75JpNP5s9Yx68nguDwdX50IM7Sy4kRD7pKF8RquspJ\n",
       "qauranfPvOyXXVW7fQoXINn0qtp7iABQiTXm+PWW4AURDNlv/Q5d2OG+LvblJ6cfVzqJ8P7/aygH\n",
       "Rilq2XvMQf+wKzXPC/xfA/sFoitp7bGNr6kAAAAASUVORK5CYII=\n",
       "\" style=\"display:inline;vertical-align:middle;\" /></a><br>(see <a class=\"ProveItLink\" href=\"../../../__pv_it/theorems/61938569b898fa765bd792a0dfde59892b03bed10/dependencies.ipynb\">dependencies</a>)<br>"
      ],
      "text/plain": [
       "nonmembership_unfold: forall_{n in Natural} [forall_{x, y_{1}, ..y_{_a}.., y_{n} | x not-in {y_{1}, ..y_{_a}.., y_{n}}} ((x != y_{1}) and ..(x != y_{i}).. and (x != y_{n}))]"
      ]
     },
     "execution_count": 2,
     "metadata": {},
     "output_type": "execute_result"
    }
   ],
   "source": [
    "%proving nonmembership_unfold"
   ]
  },
  {
   "cell_type": "code",
   "execution_count": null,
   "metadata": {},
   "outputs": [],
   "source": []
  }
 ],
 "metadata": {
  "kernelspec": {
   "display_name": "Python 3",
   "language": "python",
   "name": "python3"
  }
 },
 "nbformat": 4,
 "nbformat_minor": 0
}