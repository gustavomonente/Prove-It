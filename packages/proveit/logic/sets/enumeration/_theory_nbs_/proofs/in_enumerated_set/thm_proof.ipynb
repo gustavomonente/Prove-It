{
 "cells": [
  {
   "cell_type": "markdown",
   "metadata": {},
   "source": [
    "Proof of <a class=\"ProveItLink\" href=\"../../../../../../_theory_nbs_/theory.ipynb\">proveit</a>.<a class=\"ProveItLink\" href=\"../../../../../_theory_nbs_/theory.ipynb\">logic</a>.<a class=\"ProveItLink\" href=\"../../../../_theory_nbs_/theory.ipynb\">sets</a>.<a class=\"ProveItLink\" href=\"../../theory.ipynb\">enumeration</a>.<a class=\"ProveItLink\" href=\"../../theorems.ipynb#in_enumerated_set\">in_enumerated_set</a> theorem\n",
    "========"
   ]
  },
  {
   "cell_type": "code",
   "execution_count": 1,
   "metadata": {},
   "outputs": [],
   "source": [
    "import proveit\n",
    "from proveit import ExprRange, ExprTuple, Function, IndexedVar\n",
    "from proveit import a, b, c, k, m, n, x, y, A, B, C\n",
    "from proveit.logic import Equals, InSet, Or, Boolean\n",
    "from proveit.logic.booleans.disjunction import or_if_any\n",
    "from proveit.logic.sets.enumeration  import enum_set_def\n",
    "from proveit.logic.sets.enumeration import fold\n",
    "from proveit.numbers import Add, subtract\n",
    "from proveit.numbers import zero, one, two, three, Neg, Complex, Natural, NaturalPos\n",
    "from proveit.core_expr_types import a_1_to_m, c_1_to_n, x_1_to_n, y_1_to_n\n",
    "theory = proveit.Theory() # the theorem's theory"
   ]
  },
  {
   "cell_type": "code",
   "execution_count": 2,
   "metadata": {},
   "outputs": [
    {
     "name": "stdout",
     "output_type": "stream",
     "text": [
      "proveit.logic.booleans.fold_is_bool is being implicitly excluded as a presumption to avoid a Circular dependency.\n"
     ]
    },
    {
     "data": {
      "text/html": [
       "Under these <a href=\"presumptions.txt\">presumptions</a>, we begin our proof of<br><strong id=\"in_enumerated_set\">in_enumerated_set:</strong> <a class=\"ProveItLink\" href=\"../../../__pv_it/theorems/ea82fd37548a00131448f72149714a6c38e1d8350/expr.ipynb\"><img src=\"data:image/png;base64,iVBORw0KGgoAAAANSUhEUgAAAgsAAAAWBAMAAAC8psKRAAAAMFBMVEX///8QEBCIiIhmZma6urrM\n",
       "zMxUVFQiIiJERETc3Nzu7u6qqqp2dnaYmJgyMjIAAAAcRTyBAAAAAXRSTlMAQObYZgAABZBJREFU\n",
       "WMPNWG9oHEUUf/dnb+/29i754p8qlTNpY1GLR/z3oYleECoI0k0KWrDQ47CgtZZDa2vTEs/6oVdF\n",
       "ORTSUKjdNtBoxN6aEtTS0LNRlNbA0VSoJYWDosUqIdR+MKktvpnZ2529vdvbpGfoQCZv3r03M+83\n",
       "b957OwC3W4t0LtZKax+cr4Z3Wvkf9nGgCk/6a/EQ70KjvkXgLyegRMYX6ynIiSg9qWIjdyFl4LO7\n",
       "bM4ws7C53k3PX8mHxgdyxDo4Q8ZX6sMga/gvqjYShiju4JJtpfQCJ4vPX4esJZUoDAM4DGXqw0Bl\n",
       "Bhrqk5P4d71RMDRpC4MBTlEYyAHLWn0YqMecaSgMOwD8c+W7sGd73y3BsEZdIAyHqHWR08PD+8AF\n",
       "DFPDw5+nG4lCKG0aLexWb9EbfoQFwhBNEOvgn2x2lxsYmrLZPYVGwuDF2xxNtVJPPKpathbqaL/H\n",
       "GUKbwO8tq3TqVItzVpNblpepZtLFKQwbAfa6gSGgQDDnwjr/tEsYgph28lekWUK/anADJHV15aKY\n",
       "MNY5pDoqwGeKm2qe7W6fFiw5qYZ2wkd8VoqUKAzP0GBZpQlvfg/3Jw0Y/HE46sq8cZcwiOgHJ1W4\n",
       "SmgzRn+FRyktBV8G1j5ZOz1SAb6F56ApRqldENAcVEEswGtlmuSpcJrCIIK3SjXwxXgnfCOrPtWA\n",
       "AdKw0pV5f7qEwYNzPgXSvwTx+6axEea6HSSfz4GINj1bO+EzAWsJkC/oP4GTKjzNxdLAG7j2DLVO\n",
       "LopVKtoP9qswFovL5qWACXAXvWbnAcMl8F+3ZmxS2XkykFecbNEFrGXDGk3/yRmGu/mAAgYModIL\n",
       "pJDvafW2KcAoclOwjY5+zMPwqYA3RGrfYg9Ag22/cXfpaptKA1GsSnCKVVyKG/rpNZsHhGbguZ50\n",
       "tIUJTP7SEm/ZqJcNRf2YmU/UVqXex4xkscHPLgXsfRkZXUXPJi8JBITKsRJ7VP5yPQdDsB+7IWWD\n",
       "CgFrjpbeEua4BNBLUgBsFZphU8UWCM8aIq/BIXoj2y1JLK/BlnDOCQYqcG4p3Km26TAkMF7oeIDm\n",
       "5A03MBwwI1mm0EMkHMOF9z+AE/kIkIRSJVqZjkJhnIMhTOLOo/AiCN9ZYfDFBe66BGM4MYlgyvqK\n",
       "nEZ4vG/gIq/De4ZnmDDgFNtkeqTSTWJ0SSeMERUIHU4jjB2MEygG45TwJWFQoTAYahYCngDpcWqk\n",
       "npzRagoDjbAp6Nb3koIuEN7OZncjDAdEDgYa0+8FhF+0wuDRvEn+yuNOkIdkb8WNthar6I0w+DAL\n",
       "z9Irz/F1fmp5/zLm2dtxKZHMvg30TuwtCwRi6F07dU77BCPg54t6dKUjqpHkVEGeOMuMLJdPCrMu\n",
       "Qoy6A1bAQQEo1SFAknmDv4eH4QKuNgsfDlfCkM8FL6iTY5Mv/UC9UiXmNuXsMBDe5NgUX0ybmPxk\n",
       "L6aJLWF7jXzcgFXxZkIzCsc5zquaI7sqNZKtNaRbR2uKGQTovAwDKlJbR4EadA5gioeBtCXCtSKB\n",
       "AQXfL3ee3IbnYaTk0U7gx5cqquexxxI1TmDg5QhvJCNaPq3sYdQMH1+ToV3CKGUPoj9EMgWOU+BV\n",
       "oVBTlRnJf1rph5GEP6D/NHRrSKGjBvFA/X1YOlbCsPqhVgpDtyYsge4c6TR/aqQTi8wheAwIf3MB\n",
       "+1D7WZXAwMsRXkAxC7yqRan53vDJOymAw/ZQb2Sb1fipHtqsmhyDoKpSrKYqM5K+N+gf2hWtfH1X\n",
       "YGywFtN8qlNNwTIlwjFIa+UR63vBJifCygT37FKlWV+f7JVdpDYn4lawXKMk2FnYYAjX+Grw9nEx\n",
       "XnhkFSeoU0dgGaRy+oj1PX9rNrkjcKLo+AgH4cV9i/wVjbucqAt1rYdTcDqCSF2526z9BwI5mrqu\n",
       "T4FKAAAAAElFTkSuQmCC\n",
       "\" style=\"display:inline;vertical-align:middle;\" /></a><br>(see <a class=\"ProveItLink\" href=\"../../../__pv_it/theorems/376c87517ff0d8ebc495ea0ac4849d5b8c8340560/dependencies.ipynb\">dependencies</a>)<br>"
      ],
      "text/plain": [
       "in_enumerated_set: forall_{m, n in Natural} [forall_{a_{1}, ..a_{_a}.., a_{m}, b, c_{1}, ..c_{_a}.., c_{n}} (b in {a_{1}, ..a_{_a}.., a_{m}, b, c_{1}, ..c_{_a}.., c_{n}})]"
      ]
     },
     "execution_count": 2,
     "metadata": {},
     "output_type": "execute_result"
    }
   ],
   "source": [
    "%proving in_enumerated_set"
   ]
  },
  {
   "cell_type": "code",
   "execution_count": 3,
   "metadata": {},
   "outputs": [
    {
     "data": {
      "text/html": [
       "<span style=\"font-size:20px;\"> <a class=\"ProveItLink\" href=\"../../axioms.ipynb#enum_set_def\" style=\"text-decoration: none\">&nbsp;&#x22A2;&nbsp;&nbsp;</a><a class=\"ProveItLink\" href=\"../../../__pv_it/axioms/b01212efd6e28480519640e6f97d2066a14ba12d0/expr.ipynb\"><img src=\"data:image/png;base64,iVBORw0KGgoAAAANSUhEUgAAAcsAAAAyBAMAAADBxu0RAAAAMFBMVEX///8QEBCIiIhmZma6urrM\n",
       "zMxUVFQiIiJERETc3Nzu7u6qqqp2dnaYmJgyMjIAAAAcRTyBAAAAAXRSTlMAQObYZgAAB3xJREFU\n",
       "aN7Vmn+IFGUYx5/dndnZnZ3VI+yHSrbewSVh3GJZf/jrTkGhSFeD8I/CxZR+EHKppZnJZaRnZa0R\n",
       "qCd24yF3ZqRbctBF0nYahP1gUftDMFwQBMNk0VN00673nZ/vO/u+M7Nr010v7O7szDPPvt+Z533e\n",
       "5/3sALi2B4ZvQX3tOIx0k7P6pzI83OBhOnF3V32/oRRqsU7Oqsn50w/5MltoyN29x0vm3fVeymb2\n",
       "7niRed0v1ei9LQMw4H3xSsaGGJTMBMfxAXZ/yjW6jyAB0Zyn2QdBy9zXyt5/kR3h7bUOCXSCXPLd\n",
       "i8BkvsMJo/S/JxMGfcdUUDITFfZ+iQq05NZ1m+5A5j5vu43BypTYdw12kl/Ezeod3c0xrZ523+UC\n",
       "lXmOkx6a0Kun+ZOpKfzlkEoNtaYU7FBdfPZMg/gE8wTcbyXt93IHJXM9Z/92JKeQXC1p2eMla3cU\n",
       "fVeEBmgBsYPrs9AG4TKZmvX54tfLuJ3n5IJKkDLFIc6BN5EcVakI2s22FX2JpsE9aJLoFB/hhm88\n",
       "Pxti1ilYVsI71OUrQcqM8NyOQ79sdlachG8D3lr6BnpTQym4AgK36zLcBWNT1v1fjRz4mG0vBykz\n",
       "lOXLBLOz8Q6qqIFFqnjNRSYIFViWMb9cAH8yW3IBylxW5ActWJ21fzuKFc+GcIObTBTUk+HUb41p\n",
       "c2zqtvrYvMA5qbsYoMyWHD8FJdQWCGsZdRo9P2yBWNZNJjq6BU7fD+PNTJss+Y2rgGS+zTtwDMVm\n",
       "/iPYq2f7PCXzMVhU1GQext3Hb/Lf5EYkK9yO97RDxTwh4mMRFGs3ZGqX5HcXme4GzHYf78ACgN7G\n",
       "nll6TMsvPkHK7G2ck9NkShvwNcC34XVzYx26/fLyppsQTQkNVnmQ8VFHlA2ZP+HPP1xkuhswk+JV\n",
       "7nRNRbPwI13szTbG2zfVxaNqjM5QJlLIGCf0+VnIXjNk7qKTXrVMdwPmtHmF+6uc0r0BlwjykDEX\n",
       "Vgejgl6r4HArdIP0ZMZ36W52Bckcgy6UkneR6W7ALNz/4h7axl1vSsVYCuKPX0+BnKou9NDrLdgM\n",
       "MB/CvxjrTR8LMTOwkMzkiYMHd7qlIHcDfqTUsKyGSyhcG6ebp1cfx4N5bpM9FttQ1R7L+enLdTPT\n",
       "3ujs3OiaaV0NWC18k3uIDUkgUQcLOuPL9IYpcyUvlEyZrgbMoVaBUdMmmTLn0VEurjkOk7OkzHn+\n",
       "hgFRr4wimfeaMiUIW5H0+bFZ8LWiRlRSJmngq0XLo0fmq6ZMpShZueP9LhWOptIKFbSEwf9YZrz0\n",
       "DObBS5pweKLW3/8xLVMzgMHpzSjTCc0gVS3x52Zhw2gN2nVWTbttBZLZVgzl9LquX/niWbqmxQZh\n",
       "dZWEsrgyVl0MUYfQQoWujZWbjtwa9wj6Ab+d9nKkeRpgpiA4gkqKrgdhrCprNUo/FI7RMrGBCH/i\n",
       "za4FMEX8npYZ398epqqk8DXHTHnAK8pzPmUeAB+eKG/3WDK1Ze5yaANxfWfnZiRzr0TL1NfB+i2a\n",
       "iSydYRspRKnCJUkykovAg9BEraKFkahtV9fjGfuglyPNEzUvXLVkJlVNz0wRsvrdFJbQMjUDsaz9\n",
       "0lq0yylTag1lTh09a0/2Q3QVm/REcFp5GsV6ktWV3kr8dtKlJHZ6Iopd+Ra13oyXYW0//IA3TwOc\n",
       "rV5vdislBXap8JpQxjLj76Ev5puUWQRfddghIN6m1ySSZ0xqZFnEV7k6wQFOgHqO83akedrHKN2N\n",
       "NVEWphYhhip0YVMrRKtl9p4ePAGL8zB/Sgl3RZwIi3PiePw2EYTlH6JbsdQRKXrbCQ4IzWw6Wb4I\n",
       "RrJ3HETihDT4cqR5Iji1vopw0oMpaGy60YO8nIsVtSuesD3BZ7Ad1RAP28432Wc0gQNCEwFlA2id\n",
       "LB9hL2ESabNO5ziiQHWa4tR60q8RkiRy0cJCEFtmkFl7AF4RStAL39rJfg5FfygIrWiE6jLuCAGg\n",
       "dayDwp6Jo1GiX2o6YzmiQHWJgkTRch0ykyCcLdhLI3PrqZ8dZ51TKZZHQWi7EQBaJ8vhFERbGZ1o\n",
       "BFhhOmM4okA19kRw6lBHkAAzT5FZEkITjQDQOnKV2+EQy12fOUewHVGgGnsiAG536r/B0eMcEJps\n",
       "NoA2OjZDB09VK568QS84jkhQ7ZAZKI6OlJ1Ba0FoY0hlgQLQBp79FJiYNl6Sqmk24YgE1dgTAXu3\n",
       "QoAyhSFnCrIhNNFsAG0kjdhzKaa/d08yaDYbVDtSUKB/FcEaEkDTEJpoFoA2ybL4gi6AYtG4QNjA\n",
       "oNlE8BCgGnuyOXU40D/+iFS7wAmhiWYBaIssG39T0iwaHU4zaDaRgwhQjT3ZnNpIEkHJDBX8FXsm\n",
       "gDbJMudZq7jKotnk/bRAdR/FqQP+U95+xMKldCcA9KA/txxHJKimS3cjOgJ7YOY8BaDZYJAA0H6R\n",
       "GtsRAarphVhiQsAyd2S8l9U2gI7d2bKaANXYk+0t8Mef7HrLDyQ549etJyQ5Q3l7HgKWiSaLkW/J\n",
       "Dr8y637QNJoaeZn+HzSt/7HhR0dcpfyyseYcHm74BwzjOMeoNQNOAAAAAElFTkSuQmCC\n",
       "\" style=\"display:inline;vertical-align:middle;\" /></a></span>"
      ],
      "text/plain": [
       "|- forall_{n in Natural} [forall_{x, y_{1}, ..y_{_a}.., y_{n}} ((x in {y_{1}, ..y_{_a}.., y_{n}}) =  \\\\ ((x = y_{1}) or ..(x = y_{i}).. or (x = y_{n})))]"
      ]
     },
     "execution_count": 3,
     "metadata": {},
     "output_type": "execute_result"
    }
   ],
   "source": [
    "enum_set_def"
   ]
  },
  {
   "cell_type": "code",
   "execution_count": 4,
   "metadata": {},
   "outputs": [
    {
     "data": {
      "text/html": [
       "<strong id=\"enum_set_def_with_k\">enum_set_def_with_k:</strong> <span style=\"font-size:20px;\"> <a class=\"ProveItLink\" href=\"../../axioms.ipynb#enum_set_def\" style=\"text-decoration: none\">&nbsp;&#x22A2;&nbsp;&nbsp;</a><a class=\"ProveItLink\" href=\"../../../__pv_it/_proof_in_enumerated_set/1b22677aac9b9005ee456879a7ab384ebfde89a90/expr.ipynb\"><img src=\"data:image/png;base64,iVBORw0KGgoAAAANSUhEUgAAAcgAAAAyBAMAAAAq8VYSAAAAMFBMVEX///8QEBCIiIhmZma6urrM\n",
       "zMxUVFQiIiJERETc3Nzu7u6qqqp2dnaYmJgyMjIAAAAcRTyBAAAAAXRSTlMAQObYZgAAB6JJREFU\n",
       "aN7VWmtsFFUUPt3OvmYfbQygYiRjGxtCMN2ASiIIDUQbjdBdfoBGDQ1iAKNmVRR5hKwa7VZFh8RI\n",
       "wYADGpXGwBpMSImJi5hoisoGYnwEYSPwQxLJAi2Botb7mNm987jzKIytN+nszJ3TM/e799zz+GYA\n",
       "7Frd8HARRtS+htFuYif9PTx8zl6wrm+LMqInxL3NzdGSB+HgNHdjWkB/dm35zAFkeoTT2MLp32bZ\n",
       "u9vblAjj0aHPUSxRVk8y/oCMNXJMKGfZfcKj+tnoLyQ7ir3pL8gdbdb9SeuRfeNRPZYXy65H4RPI\n",
       "V3h7D64ZSPjKtT35AzI2xLmxRrdnulZvuAqQO5zl1vsJMpyy7o9mWSf5snJVK5lsc5T7UvYR5AmO\n",
       "Uwgg8GLTyrnE0nYr7KDFZgk22YUGVuAAiVIpt5PtD8gXOf0RFA4/hZ8kYqUra/1PoyELjdAKwRw/\n",
       "8hKBW6SqNyYRIn6WNA7exJB/IIMDvJktAPTDYeU+fFHDE0Nx7736MuSD07NcpUQAwsRGkxhULOuc\n",
       "9Jz3D2R9I08dGqKChkpmYhJeAnLWhaxbqZPgPAj8gVOBPdRgl6MFDVacR3LWP5B1nTYgAej0RnP6\n",
       "DKZDCQ7agaQC7TTc4ge4Adkq+wZyScnGXAENlTRmuVeQLCbQaAuSCBwMtmh7ksiqe5I3q++XfAPZ\n",
       "Kts4nv2BCkzBF9P0IeE1iHTagiQCf36ODfaALjV1tClfQL7E9ZApEK5EKtFSdVlrIO+EjhIBKf6D\n",
       "rvaUmRN6IAIX09U4We8iq49kKUgyH7/xQSbJrHkpheAGbvmQBXHplGb6NHHF/SzIj5rmyHQlV6O1\n",
       "CuMleAHUk/BaVSB43Ru1ZMDFAsQrFOQh/HOGDzKOJzzppaoUL3Bv6dI64Vt9Wjdb3Wcx88P2a7sy\n",
       "l4lq8h+7GEpikILs0Xs6E0hyr8dTmDzPL46tu9EeC5XFATX2xc0CRVUgIi0OuE/QtaFkyCLFCzZ7\n",
       "Eq/yIU/p+RX+HpF59WS4FJEgOuMiCoA7zbYhqQJJOXSrWk+6KLU0o8pAor+3d7Od4znW27sr6wVk\n",
       "YpD/UGuTSRZBaLpDuzLv/wQ27pqAMI4/X4Z2UfWul/L59XYgG/L5Lk/0ROAy/541/QF7vXM8v7iS\n",
       "vaSCfBygG9TM1wpkKO1y1qoubQjGTJukgpxHzDusVWeLZ7UFJrAghRTs9pa6jiGQ16sgwxBAxkIy\n",
       "X/GL6aVYrh/u0iUDWbjNk+JQZeyAfEYFGS+F0QnJfH/u64XYkXoo6kB+D9n/PchoeRE6wZmvQMq0\n",
       "hx+S9CC3B1HWEW9eiDYvzO2EtaY8pgXCyhg119Va7tq9DB1w5ksyuFi6/0c9yMi7aL9OCZVX4ag8\n",
       "FGyEJwyOpkHJkNClXV82+tNtDoHVrV+LlpwV6ZVpjgf2YmvEme8HFGS8xp4QkLEZ6JBO4gdEP8wG\n",
       "co9M1Kve2g6TYS8TQgYNkVHMOQx+pUuQn4ALRTplEzSQDbjMxpnv4nw+L8XS0VJWX4WQ3KhBpql/\n",
       "SDIZ7CxYCjOZ0M2yH5hOTjqtFPXe5FlBc1is3fwDXCjShYILGsgE2lAk8w3RlYR7JD3IX0klTJ4T\n",
       "bkNdRpCrYDysmV9d/tiAIVs96hhZyQPxnocjZj+Gn5vAEomUG0VxJuKLf7H1JMl840RdGySKpnoy\n",
       "WvkBitHXIZzuAAwSnfYo5NCjwPNCBW7eWt0vwb8NdccaxxSTsATY/5ndGgRJsYU9W1h2o0hsNCfo\n",
       "mlXhzBcXa+2nADpNIMWnHpiqBG8CYelbZCDoNCMHb0SHTAHunVwWfk8ZbESdnKyBUrZupzTLFiwW\n",
       "CxvpPHyyGVwpOmWsFfTMQADtSTtmIAa7YCOd7Vi1syDKkVJAOlOrZDYwGlMGStmaLT5ItKes027s\n",
       "07rxSTP629nyzlTJXtFBo6P3Rn/0wZNCGRZeKDCvB2NyqLgA6uVjbVWxOXpWh6WUGTKYpZOPE2G0\n",
       "4g9a0V+gSqH5FYuJZ8NlK0U0+T5eVcbkJd5AlmD+d8Z6KAHCMUORckLR8XM6StnAFqt08j7S0wSw\n",
       "zKqqkSBEZnAdAqTEhwSZTzvvqyqj48/5R0kWdEwrSymb2GLKzy0BSmhYVsJiVg0LqIwUIZKzo52X\n",
       "VJVRSlL6L8hlDaRGKZvYYhZkfcGaopipMhPjQI3qfNrZANJHcrm+YjJXjVJmyWCGTqYjjJbDlvq2\n",
       "qxXCOgIjba2I0s7tVWWkdYFvIIUBk+OpUspGtpiCVH3Fq0esmaFH6eptxExeKwQUPu1scDw+vvCB\n",
       "51g6WU8pM61KJ+PEkLRFNBXQM8vICpYrWnzoKLxtTvcZ2nlWTRl2WT6+umPcK8ago5SZVqOT4bSa\n",
       "ktBUQM8so3aS/rTj/9l5d8lKkUo7n64pqzkHf0DWFd2ldRqdLKo5UZTDYW9VN7jMV0RpZ6xIrCVY\n",
       "vr5OZz6M4CfoLJ0sueM6U3xFlHY2JOiqBfj0ictJHZ1sTfYxdLJboqwbuIpo8q0vtWITfQW5Ke1c\n",
       "NDNscfdVFc0GRTVlPn+sxLzPd0F/JK4V/YEVMcoeA19BIq8++i2RcwlypJ+ChqTRB+n6U9ARf9R7\n",
       "+6hjFFVS8fDwuX8BuFZU5qTtR3AAAAAASUVORK5CYII=\n",
       "\" style=\"display:inline;vertical-align:middle;\" /></a></span><br>"
      ],
      "text/plain": [
       "enum_set_def_with_k: |- forall_{k in Natural} [forall_{x, y_{1}, ..y_{_a}.., y_{k}} ((x in {y_{1}, ..y_{_a}.., y_{k}}) =  \\\\ ((x = y_{1}) or ..(x = y_{i}).. or (x = y_{k})))]"
      ]
     },
     "execution_count": 4,
     "metadata": {},
     "output_type": "execute_result"
    }
   ],
   "source": [
    "enum_set_def_with_k = enum_set_def.instantiate({n:k}, assumptions=[InSet(k, Natural)], num_forall_eliminations=0)"
   ]
  },
  {
   "cell_type": "code",
   "execution_count": 5,
   "metadata": {},
   "outputs": [],
   "source": [
    "# this also works, first instantiating, then generalizing over the new var\n",
    "# enum_set_def_inst_n_to_k = enum_set_def.instantiate({n:k}, assumptions=[InSet(k, Natural)])\n",
    "# enum_set_def_with_k = enum_set_def_inst_n_to_k.generalize([[k]], [[Natural]])"
   ]
  },
  {
   "cell_type": "code",
   "execution_count": 6,
   "metadata": {},
   "outputs": [
    {
     "data": {
      "text/html": [
       "<strong id=\"enum_set_def_with_k_inst\">enum_set_def_with_k_inst:</strong> <span style=\"font-size:20px;\"><a class=\"ProveItLink\" href=\"../../../__pv_it/_proof_in_enumerated_set/2b0f206128cb96ca5b8a6be9b93ea8de271fb0ce0/expr.ipynb\"><img src=\"data:image/png;base64,iVBORw0KGgoAAAANSUhEUgAAADMAAAAPBAMAAAC7N+rPAAAAMFBMVEX////MzMxUVFSIiIjc3NyY\n",
       "mJh2dna6urqqqqpmZmYyMjIiIiIQEBBERETu7u4AAAA59f8xAAAAAXRSTlMAQObYZgAAAOFJREFU\n",
       "GNNj4LuzgQEVvPp76wFDzp8CBgauCWhSDFcZFRj4PgAZ/A3oUtoCxgwMB4CM+gdQEdbbu3eBGer3\n",
       "mAQYQNZkQ2UYL8PUqAjxrQNLrWRonQK2HSbDoMJhIASS4vvB7P4VLAC3S4UhndUAKMXxz44vACRw\n",
       "AUmK6YEiUIrzJNSqU6uAACrFp8AFdCG38mUwnwVZF4MYI1DqfYF/AVjgALIUawNQZTzD+4YEkMBk\n",
       "uJQiEKcApXQZ+AXAUtzwUFkBxJwLGBhuMDBPBvuIT7cOIiP9B6iDbwFy0LHnQgMKCgCcjDwSTSfb\n",
       "2QAAAABJRU5ErkJggg==\n",
       "\" style=\"display:inline;vertical-align:middle;\" /></a>, <a class=\"ProveItLink\" href=\"../../../../../booleans/disjunction/__pv_it/theorems/98023afa4ea0d397f8a177bad4a359b36939fb170/expr.ipynb\"><img src=\"data:image/png;base64,iVBORw0KGgoAAAANSUhEUgAAADsAAAAPBAMAAACo4Ko7AAAAMFBMVEX///9mZmaYmJgyMjIiIiIQ\n",
       "EBCqqqru7u5ERETMzMyIiIjc3NxUVFR2dna6uroAAAAPJcEmAAAAAXRSTlMAQObYZgAAAPlJREFU\n",
       "GNNjYMAKin80FzBc/fqAAQdo4jzAwP4BlyzDkQmrGBgC0EWZWlycwYxz7TwTGBzQZDm7CqCs03PY\n",
       "zUHSfHd2rzrFeescxEUwWYbTbAvmgKR5OboY6tcxpEIE4eacZrjHtAAoPY3FgGH/BQZ9sGADkjRP\n",
       "wUmgdEH9A4b8AoYTYKuDjYEAKs1+gBnk8nwGBhEGhiiQGDeyboa5nCBpYQYGXwa+3+wgwQBkaaYE\n",
       "kOpYBvZ/DIwG20CCUnDpk0B8GyjN/Y+B7QMD84ULIEGWBJi0GRAzGgD97cDAJcDAJrQBJMh+4jlE\n",
       "dspXoE52A/RA5bsBDVQoAAD1nz84wTBs3QAAAABJRU5ErkJggg==\n",
       "\" style=\"display:inline;vertical-align:middle;\" /></a>, <a class=\"ProveItLink\" href=\"../../../../../../numbers/number_sets/natural_numbers/__pv_it/theorems/12ab02a6aa52e45203d5ea4187476fa00e51b3b50/expr.ipynb\"><img src=\"data:image/png;base64,iVBORw0KGgoAAAANSUhEUgAAADUAAAAPBAMAAAC2KZqIAAAAMFBMVEX///8QEBCYmJgyMjIiIiKq\n",
       "qqrMzMzu7u5ERERmZmaIiIjc3NxUVFR2dna6uroAAABXsXCEAAAAAXRSTlMAQObYZgAAAN5JREFU\n",
       "GNNjYMAExT+aCxgufnzAgA00sR1gYP+AVYrhSMIqBgYBVDENFxcDEH2unSeBwQFFKmM5lHE6h90c\n",
       "JMd3Z/eqWWARIB8mx7ogByTHy9HFUL8BJMKzAS7HcI9pAVAulcWAYX8CSISDASHHU3AMKFdQ/4BB\n",
       "HyySaAwEBhA59gPMIHfGMzAcBsvtQNLHkMsGkpvMwPCJHSTCiCzHFNAAZMgysH7nBYlwLoDJHQPi\n",
       "20A57n8MvAZqYCFXmJwpSCXQZj4HBu5DAWChmr4CMJ3yEaiH3QA1zN62uCCLAADDBTVfYPhN3gAA\n",
       "AABJRU5ErkJggg==\n",
       "\" style=\"display:inline;vertical-align:middle;\" /></a>, <a class=\"ProveItLink\" href=\"../../../__pv_it/_proof_in_enumerated_set/dbb818c0fd275fbfb51cd70ae1832f8ca6eb9e350/expr.ipynb\"><img src=\"data:image/png;base64,iVBORw0KGgoAAAANSUhEUgAAAJEAAAAUBAMAAAB/i8J7AAAAMFBMVEX////MzMxUVFR2dna6uroQ\n",
       "EBCqqqqIiIgiIiJmZmYyMjJERETu7u6YmJjc3NwAAACgK8IjAAAAAXRSTlMAQObYZgAAAZJJREFU\n",
       "OMutlD9Iw1AQxj9NibVNi5OrgoKgqMVFdHJ0U2hBN7sU3eogSFG0KDoXRRRBqOLSDOLmpGQTqtI6\n",
       "6tJM4qQVSqcq3nvt0PcnYMAb7pHvcr+83Ht3QLQMX2a6XpEH+LQxFbHIlys/lJQDFFW5wFwkJ8vL\n",
       "6pstyRoYJ5KxqsTrzAXdv5OACpGseTkcaDD/Dr8kXMphI8t8hpATH+tDHZODYhpTj7WkKZkUypkv\n",
       "Lm4JGb5BaQ0pMY2rro70ysM2N17lUnJrrox9oDeYx2cMFZHE1R4daUXeU/reeQISgFOaQdrBCBOn\n",
       "bXvPti/QVCui1CL1yaQjvrMEYwInwIJUFFKHtXVSSDsb7GLQ3+EU2EXgxxLTSP22dKTZtjr1s2tW\n",
       "i9ZooYojTg/ozr+JaXGYDcOz4m0WqVp1gx8pEc0qQrGYkEaqkX+WSNuMdCiROq/xZfCtBrLoysE8\n",
       "E4+c1OhoUiQdLBVocpxLpHASmU2/3cK7L6vvbrWDH9WXBEnTwU278zufiv826Tw/7Xf6Rjym7y+N\n",
       "gYQOngpJOwAAAABJRU5ErkJggg==\n",
       "\" style=\"display:inline;vertical-align:middle;\" /></a> <a class=\"ProveItLink\" href=\"../../../__pv_it/_proof_in_enumerated_set/644cafcfa28a9e65325a374df5adfbfcb2129e1b0/proof.ipynb\" style=\"text-decoration: none\">&nbsp;&#x22A2;&nbsp;&nbsp;</a><a class=\"ProveItLink\" href=\"../../../__pv_it/_proof_in_enumerated_set/d96ed776eebbc07136c473de6eb59980d08446720/expr.ipynb\"><img src=\"data:image/png;base64,iVBORw0KGgoAAAANSUhEUgAAA10AAAAVBAMAAABPtpnwAAAAMFBMVEX////MzMxUVFR2dna6uroQ\n",
       "EBCqqqqIiIgiIiJmZmYyMjJERETu7u6YmJjc3NwAAACgK8IjAAAAAXRSTlMAQObYZgAABqZJREFU\n",
       "aN7tWl1oXEUUPvuT/d/NUhARUbcobmlVAlLTqIFQiEQQmkgeRNuyvlmQdFuVNfiyVIlFpEYDTVXE\n",
       "tfiiSFwfpFVoWARJ2zzsCkJMxbr0KZVK4g8RShTn7945d+7M3clG8uTAXO6e+eacb86Z/7sA+rTc\n",
       "gu1JodkG/J82kXK6yFzu2zb70TGAWFvPKxfcayZsbfzaETFh5ZbNITfH0aKtTNciZL6sqqU/d+f7\n",
       "xae6qPQeyQ9odJm4yRRu21nI1Dsy86nSmWYSK+TmOdq0lemaA0hNq6X7uhwsn3RRh9q67BfPmbgh\n",
       "/9XoM8+mVX+plKfaHZn5VGlNUwlHhqSJYJI+uIGjTVtpzhJMb+m/itd6l/GKlFUp5aXnhlI/feyk\n",
       "jyV/oZQvWzBTVOlNMwlDhqmns2XoTFKBmzhatZXkBOl7B8SSnz1/8o0txSu60WW8MqOqlPLC3LTp\n",
       "W/rYQR9v+gul/JQFM0WV3jSTMGSoQEEN6ExSgZs4WrWV5BUZndC5xhbHV6TaZbzgY1W6Ah5u+pQa\n",
       "ErNdVDOTuPJc1YKZokpvep+LZNP142BBUoEbONq1leRJ8nq2cpptChseYrmZ2YPBbbw+8JK3R6SK\n",
       "k2JIRyrHgiMry/fSx4AKmBRZcMMbKckrQpsaI4+0ZlV35fFpzEynx69Kb5pJGBKOkDxvRsoGKnAD\n",
       "R5Oa/koeEST5ApmMbjaabe8mbTfJw+3UWvDsdxg+90qan2X+4b6Ygq8DN6+onO1FrzBKn7LEGniB\n",
       "Z4fbw6yEbRoQryxbzMnQuV1nxJGnWy4zbMHbPkWVNI2qcAlHJsh8VAcjSdlABW7gqDcIK6V0DREk\n",
       "eYoEeQN66VIo9cXImShzCJJ1gyfEjNqC972Sow34i68+fXCvniDIcrTpgudUxBTPDje0UUK8YmyW\n",
       "qwDcozPiyBMlxEzV4zbZq0prmks4Ml6G8JARiRygwA0cDWpehXAJESR5HCBZgyY5H4eepmFlC9l5\n",
       "EubkBiTKcNsZc7w+bMDr6lEq84dTBKF3q0FVZdpFSN6lIsZ5FtxQwrxCbIBcFJtmNTnyniHETNEj\n",
       "71m8qvSmmYQjM1VxCNEikQMUuIGjsa0egiSPsw5+gEQxV/fcOfTUoUnmzhFzvJ6BzG/q8Su6Loqo\n",
       "lmpAVbTo0b2TKV6CG0qYF/dFshTRboQdOY2Xy0zV442Xq0prmks4Ek7DQ2YkcoACN3A0tlWNFxmH\n",
       "vS3e39Geeg/QUB+FoHiRDhtTFri/RY/gfdkcL09fZ+vXCFq/Cmg+dLjxpeEseHlxC7laQr9ICjmd\n",
       "DwUzZEHocbuoV5U0japwiWjWL1BVkIgkcoACN3DUG8TDjeohmaxzvUNkLidp1rNxbZZgd6wdFK91\n",
       "CNcmsh/cOhk/Ljrqn3RN44GDWND4ouW0prs/vKIixH7D4Yb2NIgXX8vhiyW9FSGn+w2XmaJn+bvK\n",
       "dGWnX5XWNJcIZPqOshmJHKDADRwNBgnnEqUo9xtkIx1upaedfijjlS5nT0R4P27Su5Cb+IU9zsEP\n",
       "hb7scKvnvniBS+6Hr/jLO5B5m9H11nB/0XJas+2cOmbUdgzw7HCTCfGCJO9/O/hp2WtCyulOmDLT\n",
       "6fn+EDzZOO5TpTfNJQIZ2tUwI6UDFLjXF50MJgtwKU8oHhZ6SCbtzswO8vbueQLFK1M8du1F7pcE\n",
       "1XmCvhTEC5wk1r+p3FkcuvEy6RdUF5VceqHFXyKDS3wEu1Vlfaec1mw48fpIjdcIzw43NKwlL0jl\n",
       "5Q7TR9GVUx6MmV9PbqFKht6MX5XeNJMIpHMjqUVKB6hwry86GIQHfypTihtCD8kJdNKMPuK/j2J+\n",
       "ed5/0HM3eEW4hY1MV+K+MLoBVYsw7N5HVU33UaY0wndXfBEw3OM48lMB197l0ChbKxVVAaYFEm50\n",
       "RDIHKHATR7OacDk6KvRc5PeM/rTX6xf/17CI+zYGr8BqCEkiHroBVcdgJtTxvjcwXv12N17L5qKe\n",
       "fLyeW8v7VAWYtkcyB1hyNKvpySf78u59r+6WBH//ogfZjH+pXHD7xxoZJz9GkGQBH0EDqpKarz0L\n",
       "/PuX5mwyb+KGeNXsfJE2D4FV0n2z9T6/qvngDyQ2SO4AS45mNauQeCzvfk9h3wX9l4vOsLj+VpHE\n",
       "3g9wV4NoAebg2qNI4rzkzvxeDqpKatJFJTquJ7to4iZ5BcTB62LzRct+SLVzdzf8qhatg29EMgfY\n",
       "cjSr2Q/xQW6W6dJ/hz6yrf/fyGoaZfF/gKu2Rjr/H+CqzvwWkZvjaNFWkv8F66a2s2EkfrEAAAAA\n",
       "SUVORK5CYII=\n",
       "\" style=\"display:inline;vertical-align:middle;\" /></a></span><br>"
      ],
      "text/plain": [
       "enum_set_def_with_k_inst: {k in Natural, m in Natural, n in Natural, (m + n + 1) = k} |- (b in {a_{1}, ..a_{_a}.., a_{m}, b, c_{1}, ..c_{_a}.., c_{n}}) = ((b = a_{1}) or ..(b = a_{i}).. or (b = a_{m}) or (b = b) or (b = c_{1}) or ..(b = c_{i}).. or (b = c_{n}))"
      ]
     },
     "execution_count": 6,
     "metadata": {},
     "output_type": "execute_result"
    }
   ],
   "source": [
    "enum_set_def_with_k_inst = enum_set_def_with_k.instantiate(\n",
    "        {k:k, x:b, y:ExprTuple(a_1_to_m, b, c_1_to_n)},\n",
    "        assumptions=[InSet(k, Natural), InSet(m, Natural), InSet(n, Natural), InSet(Add(subtract(m, one), one), Natural), Equals(Add(m, n, one), k)])"
   ]
  },
  {
   "cell_type": "code",
   "execution_count": 7,
   "metadata": {},
   "outputs": [
    {
     "data": {
      "text/html": [
       "<a class=\"ProveItLink\" href=\"../../../__pv_it/_proof_in_enumerated_set/c21c6cec63102987ff37520f3c2f6628bb43fbda0/expr.ipynb\"><img src=\"data:image/png;base64,iVBORw0KGgoAAAANSUhEUgAAAh0AAAAUBAMAAADb3pI1AAAAMFBMVEX////MzMxUVFR2dna6uroQ\n",
       "EBCqqqqIiIgiIiJmZmYyMjJERETu7u6YmJjc3NwAAACgK8IjAAAAAXRSTlMAQObYZgAABHBJREFU\n",
       "WMOtWEloFEEU/bMkmaW7Z/DiQdSIYkRQcjJGEAYhoCejeBBcGG960XFjzG0IoheRaMAVMYoXRXQ8\n",
       "iCgYBkFccpgRhGgOMnhSiRgXIkgUfy0907V01UTzoWt6fv9671XVr98LgFcDk+2HFs2Co4MK7dJe\n",
       "lz2fTcBq+L9ppALHwLlfCo+JtsplwdFBabuMbcdmteR0yswfYqvnRiMVeAcgNRQe44yQNkLPs8rV\n",
       "bPOiBUcHpe9yE4+XUmSqzvwh9tKk0UooCHTxeiZvGEUPnTkC5xaUi0tIM04aK44KFdJlGo9YQSR9\n",
       "y/0hJoeLq24jFAQmcOY3VwwxT+kcd2KTUMPmkeYUaaw4KpS+S3yGrFS/SHqa+8MWtt+g0UYoCvyA\n",
       "P2tNg0jleKbBJs1FZIjTDLTiqFD6LjG6wW8IkV7J94fYDYNGG6EocAB/rhfPyVc+9h7lExmjw92H\n",
       "x6imsuPFNC2Tehxv+PzOwFBFKH2XVNcApnSvENkx5PvFqSse5Ge9Bo02wgAMCnyM2farUiVjWneL\n",
       "GC1b8d1wFzOtTDYdrYIJ/k82XLQF9KSJE6Mwt+jY++qpqWawBKWnrt52/gBMCJHpmu8Ponsn4BEP\n",
       "mDBptBBSmIbAE7jIM5CRytDTGlyGyEWSou00TzsKEM1puIoAy+iJFsfZBcmAQglKT32gAj8B9gqR\n",
       "ibzvF8bZDcuZRilcMgshgWkK3AaQHIFqtxhztQInMUsIV4QusFNiNzXZnvO7qB4nOQOJALsEpae+\n",
       "BM53gMVCZFvO90siuUYpXK62ZsKrlaDAbfSWvFnamjvA+SrMB5yDNTquZD6W97lUnLYyVLPyfDSg\n",
       "9NQ3IT7NB9iIJPPB/KJIcT7CNFoIdwgCMYcyNTZHbE9dJzP6HdqnOBcjhE+gre/eSAL8/cJx+A4n\n",
       "dzlcigP48PCqOFRcokJpqeE3ySrYKESS/cL8AXSWLgxzo0mjmZDCuFfmDzAwrDGZHO5zMcOmITqy\n",
       "n3GxIgjphQUt171x8OupilPNw8r2+utdsLVySIXSdoEfpHixAtmIJPWU+YP2Gzc8n48Jo0YzIYFx\n",
       "+2ptdSoQ71TRWlp+iH0Abzq7GVeSbbfICrrNnF9+U2WDm3eqccdTcdIFdzDmPSvhYIYVqBDqVfAQ\n",
       "22EhktyomT9oZ8E5w+dDDCfSghrNhARm8hhkKlQgZppzfr08o0+Ki7pyjCuVbb5WoA36TaKTPS5w\n",
       "eC2O03Xw/RGIFiL9JFdlKD31i8MkDa4JkUQI8wvPDevH/f0ihlNpAY1mQgrTBX1MYMLw/kq5nvM/\n",
       "kyGv0Lw6G3Dash1lbyqrQBm6OCWR9LRZoxwum51wCwxHqEDX8L5Hnxd6WnuVNuB8wQxxy90KlKFL\n",
       "TCoEb80aY4X/1OhNwfE9TOBo+NeTC98K/uOF3cJxNuBrjre0okKNml/gg4WobtKof+yYjcZ4J+B2\n",
       "pALHzBDp1r8H2Sxdb7nLqPo96N/WYlYaqUDLN7R3c/e98F3LXdzZfS905+h7IQr8C7PHwp33l04k\n",
       "AAAAAElFTkSuQmCC\n",
       "\" style=\"display:inline;vertical-align:middle;\" /></a>"
      ],
      "text/plain": [
       "(b = a_{1}) or ..(b = a_{i}).. or (b = a_{m}) or (b = b) or (b = c_{1}) or ..(b = c_{i}).. or (b = c_{n})"
      ]
     },
     "execution_count": 7,
     "metadata": {},
     "output_type": "execute_result"
    }
   ],
   "source": [
    "enum_set_def_with_k_inst.expr.rhs"
   ]
  },
  {
   "cell_type": "code",
   "execution_count": 8,
   "metadata": {},
   "outputs": [
    {
     "data": {
      "text/html": [
       "<span style=\"font-size:20px;\"> <a class=\"ProveItLink\" href=\"../../../../../booleans/disjunction/_theory_nbs_/proofs/or_if_any/thm_proof.ipynb\" style=\"text-decoration: none\">&nbsp;&#x22A2;&nbsp;&nbsp;</a><a class=\"ProveItLink\" href=\"../../../../../booleans/disjunction/__pv_it/theorems/944dc323187f4cc0a403d1500453901cdae5eadd0/expr.ipynb\"><img src=\"data:image/png;base64,iVBORw0KGgoAAAANSUhEUgAAAowAAAAZBAMAAABJKWI8AAAAMFBMVEX///8QEBCIiIhmZma6urrM\n",
       "zMxUVFQiIiJERETc3Nzu7u6qqqp2dnaYmJgyMjIAAAAcRTyBAAAAAXRSTlMAQObYZgAABvpJREFU\n",
       "WMPtWWtsFFUUPszudHZeW36oERAyQiLFCN2kWggUWUIiRkPY1qThB8qGWiUkhtUawApSjcIC6q4a\n",
       "sUGhC5pQi8AmTSMmGlbqi5dZEQ0+0A39JX9oWgotWvA+5nFn5rZsf1it4SY7c+fOud/d891z7jn3\n",
       "DkBxpWTdc3Cz8Etw3YZiRaWbbA1TdowBGuX8f5nBTyiNBXw7VwSNYXzT/wWVWulNLIys22NDtP94\n",
       "va4yGfU07t1cmX+veGxGvCRNaDyB6xeKoFHLols4M/o0/kFv4W6rQSTXmE8w5rxE5SL7iu1yO0Cg\n",
       "z90mTAZon8yF4UGw4kqB0NiM3aapCBqJUPPos6hH6P23q3a4w7rohk+yHl9OW90usjPOdBEHUVDo\n",
       "dbUpW5BsYIAHw4Nwix8lNGL7IoZ2w7URm+yJ0adRStNZbx+w7SKOm/1+UYsvjebD/gVp1pScLgLC\n",
       "0XtcbeGJON6O58HwINziewiN+vG2tneKCjG/trV9mBh9Gs0/pwuXXG6+yC8ZRsQFTduFfHnUuzLQ\n",
       "LiGk/55GV9sCbEZihAfDg/CIR0mk7k8mNxRFY2kyuSU3+jROo7eH1EG7qR39tvolVaRZyLTBYOaI\n",
       "Kxo6XUrjIK7NsG3yFWLuaQ4MD8IjrkUIjfXcv8ShES0OPPR/urxGfToq9rB/RuQt58hXlpnVD2CF\n",
       "4fn/ZpcVT53eknW1aT1DwvAgPOJ6gdC4iAabG9OIDP0gdQs+ma7JeLC3cxUVO1uXm8EJHJurBB4M\n",
       "9cRgqqrSgnuetoCMwwJVTzCgJMrpPBXgcRunxeWXTpfyNCi3udqkPlNomQ+GB2GLm8abIDRKIPCT\n",
       "QbHhC7gzzqTfCZhJ6r9HuRH1kutpPGhkEd5tQOt4f0p9HpQXGenzXQ3UQkwj+w7gc/PdLXTdr6js\n",
       "B3hkNjXNhDmhnrLPtgixrmKNy16dLnjY8izbNo7kAIqFzsAAD8ISt2jqJjRqed4OZX/nfDisZQIZ\n",
       "hsZTQCKMsoBL+/uD7FMgDioeTkbk6n4HbEEzcZYZysjt6mBprAQ4kmFpRPJT0G0xbZvHTxkCWSvn\n",
       "CCJt3VTYXS5jGg22TSIZaYeN7sAAD8IWd9EoF2o5prV9ZwY+MyIauxncTWI+aPsivEGON7gWAQMC\n",
       "WA8JBSXRn+LhoFbDDGUY2gGWxmcA7medWkW/px0adwM3ZZALlkUgGiS3D1hdcNoIa6JsG00Bcza6\n",
       "AwM8CFvcnDHq1LAVLQT6/Jppwl0kwUQ1M7B3dLzpojG0g4xeE+It76KRZB8PxWAWNqdydFF8KZ6A\n",
       "DbWN1slQhrHkGEOj0gfCBTbEvGtuS0xFQ48aXEVfMbNmOUt2PY5WThecNor9LhgZxwwtY6PbMJ7i\n",
       "Ef/+h6kRJ8RAO6JTX5gft1rAxoZrabrT7tAOLGdpVOnaEQ+gDqt9ST7MZh+XziwjpruePnrEJWYi\n",
       "yFBGxZQYQ2Ow5/Rm630n/ufYDFJpW1HxSTIzyjXrcoh6cG2jk2uGBhit7C4QRka6cJsLBlBupM51\n",
       "JsmCwaDOED7xM5NhAjbOHKWxFHG8czqURnEDqWWUCHX/XKfrhIdEej0rdMPyiV4af4Fy9vFbgOn4\n",
       "/hd58oqXOvknHcowAm8zNGoFECy3RbopqWsZOHy9wVG0i97WWheJchWmy03r9Qugpq5EHK3sLiUX\n",
       "L1es2g5uGGXOE/cCQ6MJQ0DtIbzi8t4EYKcKxyiNOuZ4JVSDRBbWlbAQxPXJ5EuIxl2Si8af8eVg\n",
       "1TdX/ZslpetkivXdV1EYyZqL4AGfOF4xFRqo6FBobRQYGkM5kP90bwZtTknZOcSZmmf5cLTid/G0\n",
       "LR4Chi9eYpAN4T72vPFWKIMWkdaqRIhTawzW+M8b54Lc56cRhfSWmD7v3H2fUudEJCzF+s+hq7FH\n",
       "PIDY0gCJo1dxao1agKGxNAvBAc/RhEvRIoujVVFlZOjjYoFczDqaMPnvRjN3VoPmDKo92wFf4sYz\n",
       "aB/tozGIjGiQ8IJkt1kXWIJ0z6uzYJKKDGkbyFdBvgNXpDx8lPaLbwTlGKhlOPSRoYycdpKhsSUD\n",
       "b+R4af3HIzvwNbUqtowMvQWkh2PWQZlJThztvHcch+osqt2ThxDyhOALURQ4vDSmmqD5Sh7zUp0V\n",
       "J0B1Gl+yoX6QUxuhXkkEoiBOgq97K1aRCnxVdTc9MGHFQas7ihynHm+u8FD6hq7X8w6N2qaKype9\n",
       "x7a4vLVp5UgUtbQqsowQ/QEQTplbOt9HBCvvLEML1nAfERoZWaeWUCOSSrM8sNK94cSFM96hmsba\n",
       "R4SfgEOjmh56T82Wmt4sI2vVlLgQLZlhfp+wP1QMI66e8o7TBGOxeGnUoTga3bLeXnlfZVjx/x+N\n",
       "Q5/wjNJ36sgYJDG4bu3fDw0HqAvgmlAAAAAASUVORK5CYII=\n",
       "\" style=\"display:inline;vertical-align:middle;\" /></a></span>"
      ],
      "text/plain": [
       "|- forall_{m, n in Natural} [forall_{A_{1}, ..A_{_a}.., A_{m}, B, C_{1}, ..C_{_a}.., C_{n} in BOOLEAN | B} (A_{1} or ..A_{_a}.. or A_{m} or B or C_{1} or ..C_{_a}.. or C_{n})]"
      ]
     },
     "execution_count": 8,
     "metadata": {},
     "output_type": "execute_result"
    }
   ],
   "source": [
    "or_if_any"
   ]
  },
  {
   "cell_type": "code",
   "execution_count": 9,
   "metadata": {},
   "outputs": [
    {
     "data": {
      "text/html": [
       "<strong id=\"A_sub\">A_sub:</strong> <a class=\"ProveItLink\" href=\"../../../__pv_it/_proof_in_enumerated_set/1fb195138910cd2a20b50b2ccaa4cfdfa1540b530/expr.ipynb\"><img src=\"data:image/png;base64,iVBORw0KGgoAAAANSUhEUgAAAMYAAAAUBAMAAAAkQ19KAAAAMFBMVEX////MzMxUVFR2dna6uroQ\n",
       "EBCqqqqIiIgiIiJmZmYyMjJERETu7u6YmJjc3NwAAACgK8IjAAAAAXRSTlMAQObYZgAAAipJREFU\n",
       "OMulVT1II0EU/nSj5mfX2IiIoOkCxyHpNKKQRrBTwU49LC0OjYeiYiMWaiEoCCqIGMVGizsbsVKC\n",
       "IHecRbYUDyRYKQjmOLA4LHxvbnJms5nZgB9ksrPzvnnzfvYboNaGDmPaVQ8yoTpLwxXMk3m1TWVW\n",
       "t4MHmdFKv69AcE1tYqZ0G3iQGT8Bi0zCIxqbNs2aJ5lgJOGnXPSmNTaXmjVPMieiD/f0166zCSbU\n",
       "a55kxgFmadyf3ijul/XNoXysmnyXJuMhPlUQXBxnFM3fdIaCNo4ExJbd2WAOaBI51xT9jYwOQT7k\n",
       "t75P+FZgdINFauEXhJPOHA4jcIzGLdHgmt4sScalje2C6SgGgEAKmZjDKvACPxF7+Lkip/ZRkozd\n",
       "NJYKpi1sRh3e62zAqmNk6srz4SZjEOZvhw8KN2yz63w9IvSaTjYO6cOnz5Uky3rsc6L/oDoHa6dh\n",
       "tuZLndiFyhZOUP4dyIzgAwlNTxk1d5PNZ1Smxqxuu+pjTUTUPE6SZIeK+jOUtBYMGUcgxs3DjlNy\n",
       "eJuVJOMU15HY4wy5Zy7WeR9zs6v424xO3E1KH0GOd5nS4edDiWGBH1b+JdNNxsV0czSBKOrh50rt\n",
       "CTlQQfj4IRrYLRifpZao0I85PFXQIeaFrKkw+l8TDfdiTGqi6mbJUSS/DKGJOFeaPaxG89r+3S11\n",
       "4sNTk30REv67TqHtdM1oERLpcF93lryjPHHufV3evvOutbJ4BTnrojPP2izOAAAAAElFTkSuQmCC\n",
       "\" style=\"display:inline;vertical-align:middle;\" /></a><br>\n",
       "<strong id=\"C_sub\">C_sub:</strong> <a class=\"ProveItLink\" href=\"../../../__pv_it/_proof_in_enumerated_set/187e953950cfa02612a42f940185211c57b6155a0/expr.ipynb\"><img src=\"data:image/png;base64,iVBORw0KGgoAAAANSUhEUgAAAL0AAAAUBAMAAAAq6iElAAAAMFBMVEX////MzMxUVFR2dna6uroQ\n",
       "EBCqqqqIiIgiIiJmZmYyMjJERETu7u6YmJjc3NwAAACgK8IjAAAAAXRSTlMAQObYZgAAAflJREFU\n",
       "OMullTlIA0EUhv+YjebYzdrZWplKSOcBgTSCXRAsBBG0Fw8sNF0QCRYiHuAFYkgXEbGxUFDSiEqK\n",
       "bCc2ktJCQVQUJBHfzGyCye5MBB9kd2Dm+7PzvzdvgLAFRUxBGc9oChegn6akS1pKKgH9BIURqOFj\n",
       "ILgmV8io9IMkkIMSNkjbHJev6VHp39PvA0rYT5+QyMuXXKn0VwGtDCX8SK9elQVx+VyY8uZNqeEk\n",
       "vbLzW40z3vlZeyDPDdpoLhhJjstYBl9QGr7yRZbp/kMWPF/hNM7hOaGRoUhwiEq7eKR/u7AiCE4D\n",
       "rWWYM/WkP4ouzy7beqti/3768uk8Pp2sPSR4GAhkUIzWrzlgGdeYtOdFru+j3OxBf3NhRRA8zMs/\n",
       "0eDhKP6qn4P24cLW9Mkf0xL/KTzMsoPxVtPXmvhTQaDsZI39jqSAKb9mXB9rICvknZBult93XFlO\n",
       "1hiwfCUO91GbsEKNRbgBfV3oB6KswGA/iplfA1673ThzYZ8WYOY5PEjAdsxR/rE725pgOz2WmX2L\n",
       "zJHO6mDF9u52znJjIxgQsF/eILn+Da8zZwOZtPuDJIaw6eGwIT+fvPR5f/M6J6PV/ubeOV6wNCHg\n",
       "S+mandcZuz9fO1svP5Ah2ea1TpBvHC4oryCh4LzijOr90hRW348P/7kfCf4Bm1mZdN1YI68AAAAA\n",
       "SUVORK5CYII=\n",
       "\" style=\"display:inline;vertical-align:middle;\" /></a><br>"
      ],
      "text/plain": [
       "A_sub: (b = a_{1}), ..(b = a_{k}).., (b = a_{m})\n",
       "C_sub: (b = c_{1}), ..(b = c_{k}).., (b = c_{n})"
      ]
     },
     "execution_count": 9,
     "metadata": {},
     "output_type": "execute_result"
    }
   ],
   "source": [
    "A_sub, C_sub = (\n",
    "    ExprRange(k, Equals(b, IndexedVar(a, k)), one, m),\n",
    "    ExprRange(k, Equals(b, IndexedVar(c, k)), one, n))"
   ]
  },
  {
   "cell_type": "code",
   "execution_count": 10,
   "metadata": {},
   "outputs": [
    {
     "data": {
      "text/html": [
       "<strong id=\"A_in_Bool_assumptions\">A_in_Bool_assumptions:</strong> <a class=\"ProveItLink\" href=\"../../../__pv_it/_proof_in_enumerated_set/b98870618fedc4c9581f07f56bf69968f0c28d9c0/expr.ipynb\"><img src=\"data:image/png;base64,iVBORw0KGgoAAAANSUhEUgAAATUAAAAUBAMAAAAetrcQAAAAMFBMVEX////MzMxUVFR2dna6uroQ\n",
       "EBCqqqqIiIgiIiJmZmYyMjJERETu7u6YmJjc3NwAAACgK8IjAAAAAXRSTlMAQObYZgAAAuVJREFU\n",
       "SMeVlktoE0EYx79k002TbB4IxYOgOQg9KLI3jQ8IiJBDpRU8FEXJ0YOUIEgteiiCGsRDQbCKiGvx\n",
       "oojuQWlBLItQfOSQBS9iUYInRcGo4KEIOq/d7M7szG7+8O1m/+z88s3sNw+AkgskFJoZ0qdKAEbS\n",
       "ewp2h4TxbF7ePs21z156vjG9XfTDSgDG2qVgP6aRX5A3NyzOyKdanTeu6IeUAIz1Vs4uLtAoNxXt\n",
       "d3PPhYybrdiiH1QiMJLWkrJHezQmHUX7NXZfb7ct1l5v2gM/SonA+KNMsb6stK9y7C9AY4+qfb5O\n",
       "blsuDPqmTdi+H6lEYKz75JpadgT2HHrEsTR7g2/0tXaWva+RmjEeBca9sani+dFKBMaq0bJzRPYL\n",
       "9IjC2HC6eGbsfYj1AL+UOQlPUH9sPN5WeLoWMtP/jvp+tOLAvj6Ep2uAfRndUOh/ocwV5ZoLtyF1\n",
       "Cy8BOlkHCsF61T6anh+tGPBAp8jVjmDjFFHkLOiaYcRdB66gTuK/T/WxMYZ77s0FsA97frTiwL62\n",
       "kXI7huEcmyHQKjTJTfbjYPwM5fYtOG5gpxPlJgWHcyvZEWw29GUXd8criyVc+b9B77PcyAVGQrlV\n",
       "856v/KYycPHO5rnsGVTz0CCvT0WwWcmW68YJbt35A2lrhv49rflcK9S3d4nmggxcPOSO7MxW/bmw\n",
       "GMGu0Vmcdgv8erAM76smzS1n+kPB9hVTq1Wpb2wgo2uxy+ApBvz9HEqbcK/Tpbopsht0VI3FA3zH\n",
       "X85uHa/T3PIV6jx1Qvsx9dvIHMUDQC4X8Y9r7FOpwOMwRhO6R0dzx4TA9rYWmUhur9nDwZV26CsS\n",
       "Xxc3pdOBPUumI3AefqRQUqxmM/vonhVge1uy9Hw1D/I9nfia6JsQCy710cita+JeH2SvspAgbv5q\n",
       "Sc9C1H8l+uTv1OBMFR2gPu8Xz0hBdoeFQoWeyhePtsXA2TJWqwp2gqPzpyH9Yc7kxZ6U/R/LlCfi\n",
       "cZpY3wAAAABJRU5ErkJggg==\n",
       "\" style=\"display:inline;vertical-align:middle;\" /></a><br>\n",
       "<strong id=\"C_in_Bool_assumptions\">C_in_Bool_assumptions:</strong> <a class=\"ProveItLink\" href=\"../../../__pv_it/_proof_in_enumerated_set/da82cc5c7325d09b33778a54bdfb2fdcf585d7d10/expr.ipynb\"><img src=\"data:image/png;base64,iVBORw0KGgoAAAANSUhEUgAAASwAAAAUBAMAAADFDR0yAAAAMFBMVEX////MzMxUVFR2dna6uroQ\n",
       "EBCqqqqIiIgiIiJmZmYyMjJERETu7u6YmJjc3NwAAACgK8IjAAAAAXRSTlMAQObYZgAAApNJREFU\n",
       "SMellj1oFFEQgMe9Tby9fZc7sBARNFYWghxE0CAHh6CkUHKFlRK5SlKInNVpFxOQIIEcEYyNuIo2\n",
       "FnKNaOHPNhJNipxoo6BYxkobm3CF8+a9ze3fm110YGb3dm++N+/N7JsHMNYHUrNcTX88+oNzysFl\n",
       "wRuk4vmc0duKjX/94tsn8w2Ao+yY2VwW/ExpqWv0Fl7sgbdXvLoPsM6Glc3lwOWu0krL7H489rt3\n",
       "Dq65AIU2E1UeLgMu4kJKnfbN3u/0SC8Xbwfel9FbNJkR83AZ8Bb+knqC8S41pN31wh9O6pgsnceM\n",
       "Tx4uA76BVuqjzt3EEneq6qZA9bHuD9favnkIr5PMiHm4DPg1WlSx7W/ikheektC/t1quB/tpkak0\n",
       "hx9e7/TyHznPr0xYGVydPSP4FlrU0QFUYhW8AFZr3z3aSOgj74Urs/4Jr7NMWDw32KGM4PNoUR0P\n",
       "NmsRb2cg7RQl/7c0F+R8A2/Xxp3yIBNWBleJGazdcXuZjn7KI71oWGORSbkwnissEzcUVipYL3al\n",
       "Dw/8nRrAN3qSFJZNa90Me1vg6Zd8Eg3cLx87XRasS7PSEDNRLgKhpUZWlbkamVS5lqvkDdzPM3CJ\n",
       "BU+qD93qu7Eu4YzDh6oKy6GFK+4kw9sDEyt4vSMn72kjtsM3PPfA2hwMWPCUypRYrcfnO/GtrfNU\n",
       "on1GHDkb7ajwUDKXpJHZmQ9uFn2dfTPXattNFhw0CYNQWO/VvX1S94ig01JlXEkeTPxQ80mXkapT\n",
       "q3LgoKUaZDatowZ7NG1IteTzcKtOl19QPFNlwW9Aaar8XD6ccv7QQgcbkTxGrJFluadgd50Hb2g1\n",
       "i2vIBQ1aTj7vh46B/wzOPtx+N5yo/vvQbAb/BThuFLXD52kPAAAAAElFTkSuQmCC\n",
       "\" style=\"display:inline;vertical-align:middle;\" /></a><br>"
      ],
      "text/plain": [
       "A_in_Bool_assumptions: ((b = a_{1}) in BOOLEAN), ..((b = a_{k}) in BOOLEAN).., ((b = a_{m}) in BOOLEAN)\n",
       "C_in_Bool_assumptions: ((b = c_{1}) in BOOLEAN), ..((b = c_{k}) in BOOLEAN).., ((b = c_{n}) in BOOLEAN)"
      ]
     },
     "execution_count": 10,
     "metadata": {},
     "output_type": "execute_result"
    }
   ],
   "source": [
    "A_in_Bool_assumptions, C_in_Bool_assumptions = (\n",
    "        ExprRange(k, InSet(Equals(b, IndexedVar(a, k)), Boolean), one, m),\n",
    "        ExprRange(k, InSet(Equals(b, IndexedVar(c, k)), Boolean), one, n))"
   ]
  },
  {
   "cell_type": "code",
   "execution_count": 11,
   "metadata": {},
   "outputs": [
    {
     "data": {
      "text/html": [
       "<strong id=\"or_if_any_inst\">or_if_any_inst:</strong> <span style=\"font-size:20px;\"><a class=\"ProveItLink\" href=\"../../../../../booleans/disjunction/__pv_it/theorems/98023afa4ea0d397f8a177bad4a359b36939fb170/expr.ipynb\"><img src=\"data:image/png;base64,iVBORw0KGgoAAAANSUhEUgAAADsAAAAPBAMAAACo4Ko7AAAAMFBMVEX///9mZmaYmJgyMjIiIiIQ\n",
       "EBCqqqru7u5ERETMzMyIiIjc3NxUVFR2dna6uroAAAAPJcEmAAAAAXRSTlMAQObYZgAAAPlJREFU\n",
       "GNNjYMAKin80FzBc/fqAAQdo4jzAwP4BlyzDkQmrGBgC0EWZWlycwYxz7TwTGBzQZDm7CqCs03PY\n",
       "zUHSfHd2rzrFeescxEUwWYbTbAvmgKR5OboY6tcxpEIE4eacZrjHtAAoPY3FgGH/BQZ9sGADkjRP\n",
       "wUmgdEH9A4b8AoYTYKuDjYEAKs1+gBnk8nwGBhEGhiiQGDeyboa5nCBpYQYGXwa+3+wgwQBkaaYE\n",
       "kOpYBvZ/DIwG20CCUnDpk0B8GyjN/Y+B7QMD84ULIEGWBJi0GRAzGgD97cDAJcDAJrQBJMh+4jlE\n",
       "dspXoE52A/RA5bsBDVQoAAD1nz84wTBs3QAAAABJRU5ErkJggg==\n",
       "\" style=\"display:inline;vertical-align:middle;\" /></a>, <a class=\"ProveItLink\" href=\"../../../../../../numbers/number_sets/natural_numbers/__pv_it/theorems/12ab02a6aa52e45203d5ea4187476fa00e51b3b50/expr.ipynb\"><img src=\"data:image/png;base64,iVBORw0KGgoAAAANSUhEUgAAADUAAAAPBAMAAAC2KZqIAAAAMFBMVEX///8QEBCYmJgyMjIiIiKq\n",
       "qqrMzMzu7u5ERERmZmaIiIjc3NxUVFR2dna6uroAAABXsXCEAAAAAXRSTlMAQObYZgAAAN5JREFU\n",
       "GNNjYMAExT+aCxgufnzAgA00sR1gYP+AVYrhSMIqBgYBVDENFxcDEH2unSeBwQFFKmM5lHE6h90c\n",
       "JMd3Z/eqWWARIB8mx7ogByTHy9HFUL8BJMKzAS7HcI9pAVAulcWAYX8CSISDASHHU3AMKFdQ/4BB\n",
       "HyySaAwEBhA59gPMIHfGMzAcBsvtQNLHkMsGkpvMwPCJHSTCiCzHFNAAZMgysH7nBYlwLoDJHQPi\n",
       "20A57n8MvAZqYCFXmJwpSCXQZj4HBu5DAWChmr4CMJ3yEaiH3QA1zN62uCCLAADDBTVfYPhN3gAA\n",
       "AABJRU5ErkJggg==\n",
       "\" style=\"display:inline;vertical-align:middle;\" /></a>, <a class=\"ProveItLink\" href=\"../../../__pv_it/_proof_in_enumerated_set/b98870618fedc4c9581f07f56bf69968f0c28d9c0/expr.ipynb\"><img src=\"data:image/png;base64,iVBORw0KGgoAAAANSUhEUgAAATUAAAAUBAMAAAAetrcQAAAAMFBMVEX////MzMxUVFR2dna6uroQ\n",
       "EBCqqqqIiIgiIiJmZmYyMjJERETu7u6YmJjc3NwAAACgK8IjAAAAAXRSTlMAQObYZgAAAuVJREFU\n",
       "SMeVlktoE0EYx79k002TbB4IxYOgOQg9KLI3jQ8IiJBDpRU8FEXJ0YOUIEgteiiCGsRDQbCKiGvx\n",
       "oojuQWlBLItQfOSQBS9iUYInRcGo4KEIOq/d7M7szG7+8O1m/+z88s3sNw+AkgskFJoZ0qdKAEbS\n",
       "ewp2h4TxbF7ePs21z156vjG9XfTDSgDG2qVgP6aRX5A3NyzOyKdanTeu6IeUAIz1Vs4uLtAoNxXt\n",
       "d3PPhYybrdiiH1QiMJLWkrJHezQmHUX7NXZfb7ct1l5v2gM/SonA+KNMsb6stK9y7C9AY4+qfb5O\n",
       "blsuDPqmTdi+H6lEYKz75JpadgT2HHrEsTR7g2/0tXaWva+RmjEeBca9sani+dFKBMaq0bJzRPYL\n",
       "9IjC2HC6eGbsfYj1AL+UOQlPUH9sPN5WeLoWMtP/jvp+tOLAvj6Ep2uAfRndUOh/ocwV5ZoLtyF1\n",
       "Cy8BOlkHCsF61T6anh+tGPBAp8jVjmDjFFHkLOiaYcRdB66gTuK/T/WxMYZ77s0FsA97frTiwL62\n",
       "kXI7huEcmyHQKjTJTfbjYPwM5fYtOG5gpxPlJgWHcyvZEWw29GUXd8criyVc+b9B77PcyAVGQrlV\n",
       "856v/KYycPHO5rnsGVTz0CCvT0WwWcmW68YJbt35A2lrhv49rflcK9S3d4nmggxcPOSO7MxW/bmw\n",
       "GMGu0Vmcdgv8erAM76smzS1n+kPB9hVTq1Wpb2wgo2uxy+ApBvz9HEqbcK/Tpbopsht0VI3FA3zH\n",
       "X85uHa/T3PIV6jx1Qvsx9dvIHMUDQC4X8Y9r7FOpwOMwRhO6R0dzx4TA9rYWmUhur9nDwZV26CsS\n",
       "Xxc3pdOBPUumI3AefqRQUqxmM/vonhVge1uy9Hw1D/I9nfia6JsQCy710cita+JeH2SvspAgbv5q\n",
       "Sc9C1H8l+uTv1OBMFR2gPu8Xz0hBdoeFQoWeyhePtsXA2TJWqwp2gqPzpyH9Yc7kxZ6U/R/LlCfi\n",
       "cZpY3wAAAABJRU5ErkJggg==\n",
       "\" style=\"display:inline;vertical-align:middle;\" /></a>, <a class=\"ProveItLink\" href=\"../../../__pv_it/_proof_in_enumerated_set/da82cc5c7325d09b33778a54bdfb2fdcf585d7d10/expr.ipynb\"><img src=\"data:image/png;base64,iVBORw0KGgoAAAANSUhEUgAAASwAAAAUBAMAAADFDR0yAAAAMFBMVEX////MzMxUVFR2dna6uroQ\n",
       "EBCqqqqIiIgiIiJmZmYyMjJERETu7u6YmJjc3NwAAACgK8IjAAAAAXRSTlMAQObYZgAAApNJREFU\n",
       "SMellj1oFFEQgMe9Tby9fZc7sBARNFYWghxE0CAHh6CkUHKFlRK5SlKInNVpFxOQIIEcEYyNuIo2\n",
       "FnKNaOHPNhJNipxoo6BYxkobm3CF8+a9ze3fm110YGb3dm++N+/N7JsHMNYHUrNcTX88+oNzysFl\n",
       "wRuk4vmc0duKjX/94tsn8w2Ao+yY2VwW/ExpqWv0Fl7sgbdXvLoPsM6Glc3lwOWu0krL7H489rt3\n",
       "Dq65AIU2E1UeLgMu4kJKnfbN3u/0SC8Xbwfel9FbNJkR83AZ8Bb+knqC8S41pN31wh9O6pgsnceM\n",
       "Tx4uA76BVuqjzt3EEneq6qZA9bHuD9favnkIr5PMiHm4DPg1WlSx7W/ikheektC/t1quB/tpkak0\n",
       "hx9e7/TyHznPr0xYGVydPSP4FlrU0QFUYhW8AFZr3z3aSOgj74Urs/4Jr7NMWDw32KGM4PNoUR0P\n",
       "NmsRb2cg7RQl/7c0F+R8A2/Xxp3yIBNWBleJGazdcXuZjn7KI71oWGORSbkwnissEzcUVipYL3al\n",
       "Dw/8nRrAN3qSFJZNa90Me1vg6Zd8Eg3cLx87XRasS7PSEDNRLgKhpUZWlbkamVS5lqvkDdzPM3CJ\n",
       "BU+qD93qu7Eu4YzDh6oKy6GFK+4kw9sDEyt4vSMn72kjtsM3PPfA2hwMWPCUypRYrcfnO/GtrfNU\n",
       "on1GHDkb7ajwUDKXpJHZmQ9uFn2dfTPXattNFhw0CYNQWO/VvX1S94ig01JlXEkeTPxQ80mXkapT\n",
       "q3LgoKUaZDatowZ7NG1IteTzcKtOl19QPFNlwW9Aaar8XD6ccv7QQgcbkTxGrJFluadgd50Hb2g1\n",
       "i2vIBQ1aTj7vh46B/wzOPtx+N5yo/vvQbAb/BThuFLXD52kPAAAAAElFTkSuQmCC\n",
       "\" style=\"display:inline;vertical-align:middle;\" /></a> <a class=\"ProveItLink\" href=\"../../../__pv_it/_proof_in_enumerated_set/47526d9835bcfcc90676eb338089153965705b1d0/proof.ipynb\" style=\"text-decoration: none\">&nbsp;&#x22A2;&nbsp;&nbsp;</a><a class=\"ProveItLink\" href=\"../../../__pv_it/_proof_in_enumerated_set/49424f005e1b8273cf52ab8aaf8b436c4d57490b0/expr.ipynb\"><img src=\"data:image/png;base64,iVBORw0KGgoAAAANSUhEUgAAAh0AAAAUBAMAAADb3pI1AAAAMFBMVEX////MzMxUVFR2dna6uroQ\n",
       "EBCqqqqIiIgiIiJmZmYyMjJERETu7u6YmJjc3NwAAACgK8IjAAAAAXRSTlMAQObYZgAABHBJREFU\n",
       "WMOtWEloFEEU/bMkmaW7Z/DiQdSIYkRQcjJGEAYhoCejeBBcGG960XFjzG0IoheRaMAVMYoXRXQ8\n",
       "iCgYBkFccpgRhGgOMnhSiRgXIkgUfy0907V01UTzoWt6fv9671XVr98LgFcDk+2HFs2Co4MK7dJe\n",
       "lz2fTcBq+L9ppALHwLlfCo+JtsplwdFBabuMbcdmteR0yswfYqvnRiMVeAcgNRQe44yQNkLPs8rV\n",
       "bPOiBUcHpe9yE4+XUmSqzvwh9tKk0UooCHTxeiZvGEUPnTkC5xaUi0tIM04aK44KFdJlGo9YQSR9\n",
       "y/0hJoeLq24jFAQmcOY3VwwxT+kcd2KTUMPmkeYUaaw4KpS+S3yGrFS/SHqa+8MWtt+g0UYoCvyA\n",
       "P2tNg0jleKbBJs1FZIjTDLTiqFD6LjG6wW8IkV7J94fYDYNGG6EocAB/rhfPyVc+9h7lExmjw92H\n",
       "x6imsuPFNC2Tehxv+PzOwFBFKH2XVNcApnSvENkx5PvFqSse5Ge9Bo02wgAMCnyM2farUiVjWneL\n",
       "GC1b8d1wFzOtTDYdrYIJ/k82XLQF9KSJE6Mwt+jY++qpqWawBKWnrt52/gBMCJHpmu8Ponsn4BEP\n",
       "mDBptBBSmIbAE7jIM5CRytDTGlyGyEWSou00TzsKEM1puIoAy+iJFsfZBcmAQglKT32gAj8B9gqR\n",
       "ibzvF8bZDcuZRilcMgshgWkK3AaQHIFqtxhztQInMUsIV4QusFNiNzXZnvO7qB4nOQOJALsEpae+\n",
       "BM53gMVCZFvO90siuUYpXK62ZsKrlaDAbfSWvFnamjvA+SrMB5yDNTquZD6W97lUnLYyVLPyfDSg\n",
       "9NQ3IT7NB9iIJPPB/KJIcT7CNFoIdwgCMYcyNTZHbE9dJzP6HdqnOBcjhE+gre/eSAL8/cJx+A4n\n",
       "dzlcigP48PCqOFRcokJpqeE3ySrYKESS/cL8AXSWLgxzo0mjmZDCuFfmDzAwrDGZHO5zMcOmITqy\n",
       "n3GxIgjphQUt171x8OupilPNw8r2+utdsLVySIXSdoEfpHixAtmIJPWU+YP2Gzc8n48Jo0YzIYFx\n",
       "+2ptdSoQ71TRWlp+iH0Abzq7GVeSbbfICrrNnF9+U2WDm3eqccdTcdIFdzDmPSvhYIYVqBDqVfAQ\n",
       "22EhktyomT9oZ8E5w+dDDCfSghrNhARm8hhkKlQgZppzfr08o0+Ki7pyjCuVbb5WoA36TaKTPS5w\n",
       "eC2O03Xw/RGIFiL9JFdlKD31i8MkDa4JkUQI8wvPDevH/f0ihlNpAY1mQgrTBX1MYMLw/kq5nvM/\n",
       "kyGv0Lw6G3Dash1lbyqrQBm6OCWR9LRZoxwum51wCwxHqEDX8L5Hnxd6WnuVNuB8wQxxy90KlKFL\n",
       "TCoEb80aY4X/1OhNwfE9TOBo+NeTC98K/uOF3cJxNuBrjre0okKNml/gg4WobtKof+yYjcZ4J+B2\n",
       "pALHzBDp1r8H2Sxdb7nLqPo96N/WYlYaqUDLN7R3c/e98F3LXdzZfS905+h7IQr8C7PHwp33l04k\n",
       "AAAAAElFTkSuQmCC\n",
       "\" style=\"display:inline;vertical-align:middle;\" /></a></span><br>"
      ],
      "text/plain": [
       "or_if_any_inst: {m in Natural, n in Natural, (b = a_{1}) in BOOLEAN, ..(b = a_{k}) in BOOLEAN.., (b = a_{m}) in BOOLEAN, (b = c_{1}) in BOOLEAN, ..(b = c_{k}) in BOOLEAN.., (b = c_{n}) in BOOLEAN} |- (b = a_{1}) or ..(b = a_{_a}).. or (b = a_{m}) or (b = b) or (b = c_{1}) or ..(b = c_{_a}).. or (b = c_{n})"
      ]
     },
     "execution_count": 11,
     "metadata": {},
     "output_type": "execute_result"
    }
   ],
   "source": [
    "or_if_any_inst = or_if_any.instantiate(\n",
    "        {m:m, n:n, A:A_sub, B:Equals(b,b), C:C_sub},\n",
    "        assumptions=[InSet(m, Natural), InSet(n, Natural),\n",
    "                     A_in_Bool_assumptions, C_in_Bool_assumptions])"
   ]
  },
  {
   "cell_type": "code",
   "execution_count": 12,
   "metadata": {},
   "outputs": [
    {
     "data": {
      "text/html": [
       "<strong id=\"the_or_expr\">the_or_expr:</strong> <a class=\"ProveItLink\" href=\"../../../__pv_it/_proof_in_enumerated_set/35203f4428307a24fd338de6c1da77caa1f3d55a0/expr.ipynb\"><img src=\"data:image/png;base64,iVBORw0KGgoAAAANSUhEUgAAAS8AAAAUBAMAAAAuOqYxAAAAMFBMVEX////MzMxUVFR2dna6uroQ\n",
       "EBCqqqqIiIgiIiJmZmYyMjJERETu7u6YmJjc3NwAAACgK8IjAAAAAXRSTlMAQObYZgAAAwNJREFU\n",
       "SMetVj1ok0EYfpqmTZp8X5JFnNRscdDSSa0oZBF0qoKDIEpGXWpQpAaX4FC3EhDqH2IsLopoFhEH\n",
       "JQiC2iEZrYIUJ5WK8YcIUsX3/r7cXe5iFR/4LpfnHt73vffe+wEybbgxumwzHzEI/XoPvB4jTLNm\n",
       "EcH9qj2yeIiacYsMGoL3YXyNgTk9GoixOd4FUrW+oVv0vWCdIf43x5rUsuB9sPUGNN7t0UhBHQhJ\n",
       "ki31DXXpGy6z4JmtkPWwJHkfbL2ZhIj3eDSwHUhSGqaa9kB8lcW9n800T02SC+Yk752npTczFvFu\n",
       "jyaeAu/oZ0f/5HkN3JSJxz5es1XF+2DqLUS826OJVBEV+lmYmbcHChVK9iTrHqfvMeskaoo38H7y\n",
       "tJq+qbcQ8W6Puh1KQA2PaAl+NFtsG+y8zcDLu3Un+AW8Yt0kLUODddJtxevK+FHcUwpTbyHi3R6F\n",
       "HYWwjlk6gFaRtar1RBPfgWM8UWXEitxySfFGNbRxFUOX+RKbegsR7/bI7fTOxCoOAmN1tCZM2RUE\n",
       "X4FNvKSr4hzASFHxOq43cZ7mywMz9fbWULzbo7ATbZUOk9GhMlWyj7F4VzrCPLZFgQlex2EEn43A\n",
       "Ir0Nxbs9CjtaYJTYbJvFq1Z8gQ38xBgdDHu56APEVmRLKXhNSQkc7ajATL0NxTs9CjvhtfWVxMkc\n",
       "t0elmC0GRywj39iai2JGeoMoB1b8gtcXqItYfVoGZuptKN7pUdgJ97RHtiTyvPhpi8faafuG2IqH\n",
       "1F4Qad3cVFtY8joe4GV+QgZm6lt1tv1kR+PdHrmdlTMU8xhVH32U/uDibnt2z0+xxNzo3ZsQyyV4\n",
       "HU9mNhaKMjBTn2Rn/TnV6fFuj8JOAet4yaRy/ILwXTGyVlbk/zn/Sc0Ds/U2JD/AIw7gLD7Rff9M\n",
       "XKmDLmUNSwPeYlWH3oMBHjMdytnrYX6JO68P7RmjV693qplLX8pwH18O+D3G83Slvt3Fnz30bFur\n",
       "gaDxrw7th+KfwFPgfeiGf/m0Dv/f0/oN8BvNKgw6PnIy6gAAAABJRU5ErkJggg==\n",
       "\" style=\"display:inline;vertical-align:middle;\" /></a><br>"
      ],
      "text/plain": [
       "the_or_expr: (b = b) or (b = a_{1}) or ..(b = a_{k}).. or (b = a_{m})"
      ]
     },
     "execution_count": 12,
     "metadata": {},
     "output_type": "execute_result"
    }
   ],
   "source": [
    "the_or_expr = Or(Equals(b, b),\n",
    "   ExprRange(\n",
    "       k,\n",
    "       Equals(b, IndexedVar(a, k)),\n",
    "       one, m))"
   ]
  },
  {
   "cell_type": "code",
   "execution_count": 13,
   "metadata": {},
   "outputs": [
    {
     "data": {
      "text/html": [
       "<strong id=\"another_or_expr\">another_or_expr:</strong> <a class=\"ProveItLink\" href=\"../../../__pv_it/_proof_in_enumerated_set/ccc5a46cea7f7f065427a9bc345748edd04012ff0/expr.ipynb\"><img src=\"data:image/png;base64,iVBORw0KGgoAAAANSUhEUgAAAOUAAAAUBAMAAACAKeeZAAAAMFBMVEX////MzMxUVFR2dna6uroQ\n",
       "EBCqqqqIiIgiIiJmZmYyMjJERETu7u6YmJjc3NwAAACgK8IjAAAAAXRSTlMAQObYZgAAAs9JREFU\n",
       "SMeNVk1oE0EU/pJNY5LdNKFXUSMI9aIIgrGCkKOe6qEHQZQ96qUGREJvBUEvpQhCBT0Yi5cW0XgQ\n",
       "8WAIgpCaQ3KrFZQeqygolQhSxffezKbJ7M7SgZ2f3e997837mVlgvAdLS2+ab77boLPmCyurIDvw\n",
       "Xs5Hfz9urL0GOhdNkEgnTfOsrIJ8BuTuRut8z11CpkXucoRfCaFY2qsPQApvZWVknr4U/GidTpUN\n",
       "Y6Y8z7BBTz+EEukyzw5zt85dDCshM2T7dCtap3eB7S5RlxHEIpDaCaFE+h3PJrhb4C6GlZBbNJy2\n",
       "pcYT7Sacl7ygADnhIIl0rqJ9nxKPxrASco6G5dqS+eXL1E0yc4qn1+hp8mQf0eUm50yXibTDqtLU\n",
       "uZJNFtZyrcjIN+TCP60uI8+scpMkSV3Bcxo+ip/Ivw2euJT/3afeP460QFdZkZLOSxKRE/YL+S7r\n",
       "EBJbvltn5G0ybweFquH0Hh7ScFW2V0WyIspph9db+G1UsUinxec14Ii8jGa9haTPyBkgW0f3xOjX\n",
       "Ry3coeGQZNK8KhqMkeYH8LZHoUo68YPnbV000axZyT9CzkghTRtBugTvZ6ATSzg10LmCVD9UniSt\n",
       "dGZ9xw90hlnHGloneaHQ430F8VzmrW0jzSTnBPsVKlnZt3+VtTpKXEZKOiWQ8XoGgW816xBSbZuQ\n",
       "FO1CxbtsFGYfyfqsziG4B1RcOId+cahHjwSRVjmEF+sIcijMSlbAZySVQ7LnmsfUK3wokVX3ZJE4\n",
       "qqqb6+EYXpsHqEhnVegmFtTLSNZsCWtFRpL7vPtnzUJ6Wzs4SdF7rFb6jGX/rd0wLwwlnSsOzl6o\n",
       "oESwnvxUFWRmE9bm6UPnm14v2qFtfYXp8y6Gta1OY1tzjPrasEPLo8sY1nJwrMXcZUPNtVqvy3K3\n",
       "NWORHbvOZvjOtjQ3fGfHIe3/Jvm9/5t83vO/CSH/A/th4d+D/TyaAAAAAElFTkSuQmCC\n",
       "\" style=\"display:inline;vertical-align:middle;\" /></a><br>"
      ],
      "text/plain": [
       "another_or_expr: (b = a) or (b = b) or (b = c)"
      ]
     },
     "execution_count": 13,
     "metadata": {},
     "output_type": "execute_result"
    }
   ],
   "source": [
    "another_or_expr = Or(Equals(b, a), Equals(b, b), Equals(b, c))"
   ]
  },
  {
   "cell_type": "code",
   "execution_count": 14,
   "metadata": {},
   "outputs": [
    {
     "data": {
      "text/html": [
       "<span style=\"font-size:20px;\"> <a class=\"ProveItLink\" href=\"../../../__pv_it/_proof_in_enumerated_set/33f6accde333e040621d0894e32a15831f2b3c960/proof.ipynb\" style=\"text-decoration: none\">&nbsp;&#x22A2;&nbsp;&nbsp;</a><a class=\"ProveItLink\" href=\"../../../__pv_it/_proof_in_enumerated_set/fa75d39717abbd360e094f94aeac91a2ea6388a10/expr.ipynb\"><img src=\"data:image/png;base64,iVBORw0KGgoAAAANSUhEUgAAAPUAAAAUBAMAAACnh2ZxAAAAMFBMVEX////MzMxUVFR2dna6uroQ\n",
       "EBCqqqqIiIgiIiJmZmYyMjJERETu7u6YmJjc3NwAAACgK8IjAAAAAXRSTlMAQObYZgAAAuxJREFU\n",
       "SMeVVk1oE0EUftlsY5LdNKFXUSMI9aIIgrGCkKOe6qEHQZQ96iUGREJvAUEvRQKFCnpwLV5aRONB\n",
       "xIMhCIXUHJJbVbDkWEVBqUSQKr6f2TaZ3Vl04Jud3Xz53sz72wWY7INhpAb6k68KkaOiPzAqVwJ2\n",
       "F9wX9WjOce3ebTK6F3UiK1j6Vo3KxGT2U4BsI9r2W5oSvCzQlB0IVkJMUnD9XaL8x6hMTEIOf817\n",
       "0baTVdokqeVoBe8VhiEmK5RodZimDZpilEuCNJ5jth1t271AZyjilGbGXYG9E2KywhqtpmhaoClG\n",
       "eU2whZfTpvR5rFwH5zl36oJkOIiskC2ruNjs6RhlYiLmcblcW9J//TRzE7c8Q8triBYt9jUE2el5\n",
       "3ZWskCSTKZwczjqDcqlWYCbiNbr2V7tH7DOrNDiR7CvwDC8f2Hfo9yYtnL6g98T9Q9nA9FUyKAo5\n",
       "TjZ0yn42sqc8woQtz/GZibiNW92BfFULSB8e4OUqH7cKVpk34Qmut+Gn1glYIcWxqAEc4YfRyrfA\n",
       "8piJmAPI+NA7Mc542IY7eDnEGVeXYoOJsuA+uNvjdFFIfKN1RxVbtHKG85SYiDkuwlktgJfA/R7Y\n",
       "hiU4NWZ7BexhqLxRQWxnvKQX2A4rTzRHbKNn8n06ZxDvZTrqNqRI6BzzP4MkduDz37J7FUUqQVGw\n",
       "mTbppyHwuVIeYYobiInAjMiX3ctaYQ/B8isq18A5IDELcu0HpcN4a2EFyTV4vgFBroWVcTfgBbmG\n",
       "ZWT1Hb31vYR3RdzhIt8kjkqHUJUBx+CV3qBZISOhnVqQh5HKmSKsF5iJQLe6987qRfimdnAaI/tI\n",
       "7lT/Vp6C9Rv6C0oUsoXd3g4SsAjlkx+rwkSkB2AcrmpgX9S96qmm0VGvTtVHY5Q7glzDLJbUajN4\n",
       "lxhGafw2Rlm9S6RdxrxDRwb1Ssd4GlXWe6MVx2R212y7Ff3tYBhO+Nshhsls8zdT7v++mTb/+Ztp\n",
       "U/AXLPD7AlWixM4AAAAASUVORK5CYII=\n",
       "\" style=\"display:inline;vertical-align:middle;\" /></a></span>"
      ],
      "text/plain": [
       "|- (b = a) or ((b = b) or (b = c))"
      ]
     },
     "execution_count": 14,
     "metadata": {},
     "output_type": "execute_result"
    }
   ],
   "source": [
    "another_or_expr.associate(1, 2)"
   ]
  },
  {
   "cell_type": "code",
   "execution_count": 15,
   "metadata": {},
   "outputs": [
    {
     "data": {
      "text/html": [
       "<strong id=\"the_operands\">the_operands:</strong> <a class=\"ProveItLink\" href=\"../../../__pv_it/_proof_in_enumerated_set/bf920d5d96ea4f4bf9ff98e88d9fc63f1c2029ad0/expr.ipynb\"><img src=\"data:image/png;base64,iVBORw0KGgoAAAANSUhEUgAAAOkAAAAUBAMAAACaFQcXAAAAMFBMVEX////MzMxUVFR2dna6uroQ\n",
       "EBCqqqqIiIgiIiJmZmYyMjJERETu7u6YmJjc3NwAAACgK8IjAAAAAXRSTlMAQObYZgAAAk5JREFU\n",
       "SMe9VktrE1EU/vLomMfMJL9AKi4CgjA7W0EIguCuIl0ItZIfIO34InQ3dKEuXAQKrbYLh+4sotkU\n",
       "6UIZBKnSxURwoRsJrnRlfBBBonjuTUzm3jt3mm76LWY+OOd+5557zpw7gN3C4WKBPfZgbnuyZe+S\n",
       "TMZHjJyAdJseT4BCQzE9Usj4iJETduUDFrmUaoqpq5DxESMn4BSQo3xnAtmQ7cnkAFDlRLwCPtNr\n",
       "SjFkPJkcAFP7VaCKJXpt1ldlQ2WpJpIRvkzfSk5GlbNX1i5HUmrgOZX3dxCyvjq9xcDbJ3xs/kWE\n",
       "ZLhpi7VJ9gqeAqmmvltUuXPtQmfkYPm4DRg9lFxx5WKAXyIZVaWFDaQe6E9elTPnkY/s0vAwC+R9\n",
       "hI64ch3mD5EM8TDAHcpYH1WVy/eQi+wj1WFR6fuaqcmfa7YrkiHmYH5LjKrKTTQRloWodMKlFkvg\n",
       "fyE2meEP21+EDOo6CZa60UmMqspR6ovAh7f1Rv0Y+FrqplKVDl7ET1Y+gQxr1EXaX0iMqsiFNZww\n",
       "2u/mcTG43u+maRqMraI8w05ih3pxQEQ8w/tJh0flDqEfIfyhyhVdazlj73qUwwors4PztGjtjLzf\n",
       "Nzcow7vBgAh4WT9aqfZzZQ45OnUsY0By9+LkzMq1TzeRdlMXWEFRKPOJqPsEEoYBjxrjcFW/ZKJ8\n",
       "pGl3qKte96e/BpmE+WN48Q6OfslXytZqOnz644XWbVevYN//7sY5mK5+zVkU2vbxgN90dKvrsO9P\n",
       "hupgjXE5FFlND/0P5iPwD/8ByRRtLI0aAAAAAElFTkSuQmCC\n",
       "\" style=\"display:inline;vertical-align:middle;\" /></a><br>"
      ],
      "text/plain": [
       "the_operands: (b = b, b = a_{1}, ..b = a_{k}.., b = a_{m})"
      ]
     },
     "execution_count": 15,
     "metadata": {},
     "output_type": "execute_result"
    }
   ],
   "source": [
    "the_operands = the_or_expr.operands"
   ]
  },
  {
   "cell_type": "code",
   "execution_count": 16,
   "metadata": {},
   "outputs": [
    {
     "data": {
      "text/html": [
       "<span style=\"font-size:20px;\"> <a class=\"ProveItLink\" href=\"../../../../../booleans/disjunction/_theory_nbs_/proofs/or_if_any/thm_proof.ipynb\" style=\"text-decoration: none\">&nbsp;&#x22A2;&nbsp;&nbsp;</a><a class=\"ProveItLink\" href=\"../../../../../booleans/disjunction/__pv_it/theorems/944dc323187f4cc0a403d1500453901cdae5eadd0/expr.ipynb\"><img src=\"data:image/png;base64,iVBORw0KGgoAAAANSUhEUgAAAowAAAAZBAMAAABJKWI8AAAAMFBMVEX///8QEBCIiIhmZma6urrM\n",
       "zMxUVFQiIiJERETc3Nzu7u6qqqp2dnaYmJgyMjIAAAAcRTyBAAAAAXRSTlMAQObYZgAABvpJREFU\n",
       "WMPtWWtsFFUUPszudHZeW36oERAyQiLFCN2kWggUWUIiRkPY1qThB8qGWiUkhtUawApSjcIC6q4a\n",
       "sUGhC5pQi8AmTSMmGlbqi5dZEQ0+0A39JX9oWgotWvA+5nFn5rZsf1it4SY7c+fOud/d891z7jn3\n",
       "DkBxpWTdc3Cz8Etw3YZiRaWbbA1TdowBGuX8f5nBTyiNBXw7VwSNYXzT/wWVWulNLIys22NDtP94\n",
       "va4yGfU07t1cmX+veGxGvCRNaDyB6xeKoFHLols4M/o0/kFv4W6rQSTXmE8w5rxE5SL7iu1yO0Cg\n",
       "z90mTAZon8yF4UGw4kqB0NiM3aapCBqJUPPos6hH6P23q3a4w7rohk+yHl9OW90usjPOdBEHUVDo\n",
       "dbUpW5BsYIAHw4Nwix8lNGL7IoZ2w7URm+yJ0adRStNZbx+w7SKOm/1+UYsvjebD/gVp1pScLgLC\n",
       "0XtcbeGJON6O58HwINziewiN+vG2tneKCjG/trV9mBh9Gs0/pwuXXG6+yC8ZRsQFTduFfHnUuzLQ\n",
       "LiGk/55GV9sCbEZihAfDg/CIR0mk7k8mNxRFY2kyuSU3+jROo7eH1EG7qR39tvolVaRZyLTBYOaI\n",
       "Kxo6XUrjIK7NsG3yFWLuaQ4MD8IjrkUIjfXcv8ShES0OPPR/urxGfToq9rB/RuQt58hXlpnVD2CF\n",
       "4fn/ZpcVT53eknW1aT1DwvAgPOJ6gdC4iAabG9OIDP0gdQs+ma7JeLC3cxUVO1uXm8EJHJurBB4M\n",
       "9cRgqqrSgnuetoCMwwJVTzCgJMrpPBXgcRunxeWXTpfyNCi3udqkPlNomQ+GB2GLm8abIDRKIPCT\n",
       "QbHhC7gzzqTfCZhJ6r9HuRH1kutpPGhkEd5tQOt4f0p9HpQXGenzXQ3UQkwj+w7gc/PdLXTdr6js\n",
       "B3hkNjXNhDmhnrLPtgixrmKNy16dLnjY8izbNo7kAIqFzsAAD8ISt2jqJjRqed4OZX/nfDisZQIZ\n",
       "hsZTQCKMsoBL+/uD7FMgDioeTkbk6n4HbEEzcZYZysjt6mBprAQ4kmFpRPJT0G0xbZvHTxkCWSvn\n",
       "CCJt3VTYXS5jGg22TSIZaYeN7sAAD8IWd9EoF2o5prV9ZwY+MyIauxncTWI+aPsivEGON7gWAQMC\n",
       "WA8JBSXRn+LhoFbDDGUY2gGWxmcA7medWkW/px0adwM3ZZALlkUgGiS3D1hdcNoIa6JsG00Bcza6\n",
       "AwM8CFvcnDHq1LAVLQT6/Jppwl0kwUQ1M7B3dLzpojG0g4xeE+It76KRZB8PxWAWNqdydFF8KZ6A\n",
       "DbWN1slQhrHkGEOj0gfCBTbEvGtuS0xFQ48aXEVfMbNmOUt2PY5WThecNor9LhgZxwwtY6PbMJ7i\n",
       "Ef/+h6kRJ8RAO6JTX5gft1rAxoZrabrT7tAOLGdpVOnaEQ+gDqt9ST7MZh+XziwjpruePnrEJWYi\n",
       "yFBGxZQYQ2Ow5/Rm630n/ufYDFJpW1HxSTIzyjXrcoh6cG2jk2uGBhit7C4QRka6cJsLBlBupM51\n",
       "JsmCwaDOED7xM5NhAjbOHKWxFHG8czqURnEDqWWUCHX/XKfrhIdEej0rdMPyiV4af4Fy9vFbgOn4\n",
       "/hd58oqXOvknHcowAm8zNGoFECy3RbopqWsZOHy9wVG0i97WWheJchWmy03r9Qugpq5EHK3sLiUX\n",
       "L1es2g5uGGXOE/cCQ6MJQ0DtIbzi8t4EYKcKxyiNOuZ4JVSDRBbWlbAQxPXJ5EuIxl2Si8af8eVg\n",
       "1TdX/ZslpetkivXdV1EYyZqL4AGfOF4xFRqo6FBobRQYGkM5kP90bwZtTknZOcSZmmf5cLTid/G0\n",
       "LR4Chi9eYpAN4T72vPFWKIMWkdaqRIhTawzW+M8b54Lc56cRhfSWmD7v3H2fUudEJCzF+s+hq7FH\n",
       "PIDY0gCJo1dxao1agKGxNAvBAc/RhEvRIoujVVFlZOjjYoFczDqaMPnvRjN3VoPmDKo92wFf4sYz\n",
       "aB/tozGIjGiQ8IJkt1kXWIJ0z6uzYJKKDGkbyFdBvgNXpDx8lPaLbwTlGKhlOPSRoYycdpKhsSUD\n",
       "b+R4af3HIzvwNbUqtowMvQWkh2PWQZlJThztvHcch+osqt2ThxDyhOALURQ4vDSmmqD5Sh7zUp0V\n",
       "J0B1Gl+yoX6QUxuhXkkEoiBOgq97K1aRCnxVdTc9MGHFQas7ihynHm+u8FD6hq7X8w6N2qaKype9\n",
       "x7a4vLVp5UgUtbQqsowQ/QEQTplbOt9HBCvvLEML1nAfERoZWaeWUCOSSrM8sNK94cSFM96hmsba\n",
       "R4SfgEOjmh56T82Wmt4sI2vVlLgQLZlhfp+wP1QMI66e8o7TBGOxeGnUoTga3bLeXnlfZVjx/x+N\n",
       "Q5/wjNJ36sgYJDG4bu3fDw0HqAvgmlAAAAAASUVORK5CYII=\n",
       "\" style=\"display:inline;vertical-align:middle;\" /></a></span>"
      ],
      "text/plain": [
       "|- forall_{m, n in Natural} [forall_{A_{1}, ..A_{_a}.., A_{m}, B, C_{1}, ..C_{_a}.., C_{n} in BOOLEAN | B} (A_{1} or ..A_{_a}.. or A_{m} or B or C_{1} or ..C_{_a}.. or C_{n})]"
      ]
     },
     "execution_count": 16,
     "metadata": {},
     "output_type": "execute_result"
    }
   ],
   "source": [
    "or_if_any"
   ]
  },
  {
   "cell_type": "code",
   "execution_count": 17,
   "metadata": {},
   "outputs": [
    {
     "data": {
      "text/html": [
       "<strong id=\"A_sub\">A_sub:</strong> <a class=\"ProveItLink\" href=\"../../../__pv_it/_proof_in_enumerated_set/1fb195138910cd2a20b50b2ccaa4cfdfa1540b530/expr.ipynb\"><img src=\"data:image/png;base64,iVBORw0KGgoAAAANSUhEUgAAAMYAAAAUBAMAAAAkQ19KAAAAMFBMVEX////MzMxUVFR2dna6uroQ\n",
       "EBCqqqqIiIgiIiJmZmYyMjJERETu7u6YmJjc3NwAAACgK8IjAAAAAXRSTlMAQObYZgAAAipJREFU\n",
       "OMulVT1II0EU/nSj5mfX2IiIoOkCxyHpNKKQRrBTwU49LC0OjYeiYiMWaiEoCCqIGMVGizsbsVKC\n",
       "IHecRbYUDyRYKQjmOLA4LHxvbnJms5nZgB9ksrPzvnnzfvYboNaGDmPaVQ8yoTpLwxXMk3m1TWVW\n",
       "t4MHmdFKv69AcE1tYqZ0G3iQGT8Bi0zCIxqbNs2aJ5lgJOGnXPSmNTaXmjVPMieiD/f0166zCSbU\n",
       "a55kxgFmadyf3ijul/XNoXysmnyXJuMhPlUQXBxnFM3fdIaCNo4ExJbd2WAOaBI51xT9jYwOQT7k\n",
       "t75P+FZgdINFauEXhJPOHA4jcIzGLdHgmt4sScalje2C6SgGgEAKmZjDKvACPxF7+Lkip/ZRkozd\n",
       "NJYKpi1sRh3e62zAqmNk6srz4SZjEOZvhw8KN2yz63w9IvSaTjYO6cOnz5Uky3rsc6L/oDoHa6dh\n",
       "tuZLndiFyhZOUP4dyIzgAwlNTxk1d5PNZ1Smxqxuu+pjTUTUPE6SZIeK+jOUtBYMGUcgxs3DjlNy\n",
       "eJuVJOMU15HY4wy5Zy7WeR9zs6v424xO3E1KH0GOd5nS4edDiWGBH1b+JdNNxsV0czSBKOrh50rt\n",
       "CTlQQfj4IRrYLRifpZao0I85PFXQIeaFrKkw+l8TDfdiTGqi6mbJUSS/DKGJOFeaPaxG89r+3S11\n",
       "4sNTk30REv67TqHtdM1oERLpcF93lryjPHHufV3evvOutbJ4BTnrojPP2izOAAAAAElFTkSuQmCC\n",
       "\" style=\"display:inline;vertical-align:middle;\" /></a><br>\n",
       "<strong id=\"C_sub\">C_sub:</strong> <a class=\"ProveItLink\" href=\"../../../__pv_it/_proof_in_enumerated_set/187e953950cfa02612a42f940185211c57b6155a0/expr.ipynb\"><img src=\"data:image/png;base64,iVBORw0KGgoAAAANSUhEUgAAAL0AAAAUBAMAAAAq6iElAAAAMFBMVEX////MzMxUVFR2dna6uroQ\n",
       "EBCqqqqIiIgiIiJmZmYyMjJERETu7u6YmJjc3NwAAACgK8IjAAAAAXRSTlMAQObYZgAAAflJREFU\n",
       "OMullTlIA0EUhv+YjebYzdrZWplKSOcBgTSCXRAsBBG0Fw8sNF0QCRYiHuAFYkgXEbGxUFDSiEqK\n",
       "bCc2ktJCQVQUJBHfzGyCye5MBB9kd2Dm+7PzvzdvgLAFRUxBGc9oChegn6akS1pKKgH9BIURqOFj\n",
       "ILgmV8io9IMkkIMSNkjbHJev6VHp39PvA0rYT5+QyMuXXKn0VwGtDCX8SK9elQVx+VyY8uZNqeEk\n",
       "vbLzW40z3vlZeyDPDdpoLhhJjstYBl9QGr7yRZbp/kMWPF/hNM7hOaGRoUhwiEq7eKR/u7AiCE4D\n",
       "rWWYM/WkP4ouzy7beqti/3768uk8Pp2sPSR4GAhkUIzWrzlgGdeYtOdFru+j3OxBf3NhRRA8zMs/\n",
       "0eDhKP6qn4P24cLW9Mkf0xL/KTzMsoPxVtPXmvhTQaDsZI39jqSAKb9mXB9rICvknZBult93XFlO\n",
       "1hiwfCUO91GbsEKNRbgBfV3oB6KswGA/iplfA1673ThzYZ8WYOY5PEjAdsxR/rE725pgOz2WmX2L\n",
       "zJHO6mDF9u52znJjIxgQsF/eILn+Da8zZwOZtPuDJIaw6eGwIT+fvPR5f/M6J6PV/ubeOV6wNCHg\n",
       "S+mandcZuz9fO1svP5Ah2ea1TpBvHC4oryCh4LzijOr90hRW348P/7kfCf4Bm1mZdN1YI68AAAAA\n",
       "SUVORK5CYII=\n",
       "\" style=\"display:inline;vertical-align:middle;\" /></a><br>"
      ],
      "text/plain": [
       "A_sub: (b = a_{1}), ..(b = a_{k}).., (b = a_{m})\n",
       "C_sub: (b = c_{1}), ..(b = c_{k}).., (b = c_{n})"
      ]
     },
     "execution_count": 17,
     "metadata": {},
     "output_type": "execute_result"
    }
   ],
   "source": [
    "A_sub, C_sub = (\n",
    "    ExprRange(k, Equals(b, IndexedVar(a, k)), one, m),\n",
    "    ExprRange(k, Equals(b, IndexedVar(c, k)), one, n))"
   ]
  },
  {
   "cell_type": "code",
   "execution_count": 18,
   "metadata": {},
   "outputs": [
    {
     "data": {
      "text/html": [
       "<strong id=\"A_in_Bool_assumptions\">A_in_Bool_assumptions:</strong> <a class=\"ProveItLink\" href=\"../../../__pv_it/_proof_in_enumerated_set/b98870618fedc4c9581f07f56bf69968f0c28d9c0/expr.ipynb\"><img src=\"data:image/png;base64,iVBORw0KGgoAAAANSUhEUgAAATUAAAAUBAMAAAAetrcQAAAAMFBMVEX////MzMxUVFR2dna6uroQ\n",
       "EBCqqqqIiIgiIiJmZmYyMjJERETu7u6YmJjc3NwAAACgK8IjAAAAAXRSTlMAQObYZgAAAuVJREFU\n",
       "SMeVlktoE0EYx79k002TbB4IxYOgOQg9KLI3jQ8IiJBDpRU8FEXJ0YOUIEgteiiCGsRDQbCKiGvx\n",
       "oojuQWlBLItQfOSQBS9iUYInRcGo4KEIOq/d7M7szG7+8O1m/+z88s3sNw+AkgskFJoZ0qdKAEbS\n",
       "ewp2h4TxbF7ePs21z156vjG9XfTDSgDG2qVgP6aRX5A3NyzOyKdanTeu6IeUAIz1Vs4uLtAoNxXt\n",
       "d3PPhYybrdiiH1QiMJLWkrJHezQmHUX7NXZfb7ct1l5v2gM/SonA+KNMsb6stK9y7C9AY4+qfb5O\n",
       "blsuDPqmTdi+H6lEYKz75JpadgT2HHrEsTR7g2/0tXaWva+RmjEeBca9sani+dFKBMaq0bJzRPYL\n",
       "9IjC2HC6eGbsfYj1AL+UOQlPUH9sPN5WeLoWMtP/jvp+tOLAvj6Ep2uAfRndUOh/ocwV5ZoLtyF1\n",
       "Cy8BOlkHCsF61T6anh+tGPBAp8jVjmDjFFHkLOiaYcRdB66gTuK/T/WxMYZ77s0FsA97frTiwL62\n",
       "kXI7huEcmyHQKjTJTfbjYPwM5fYtOG5gpxPlJgWHcyvZEWw29GUXd8criyVc+b9B77PcyAVGQrlV\n",
       "856v/KYycPHO5rnsGVTz0CCvT0WwWcmW68YJbt35A2lrhv49rflcK9S3d4nmggxcPOSO7MxW/bmw\n",
       "GMGu0Vmcdgv8erAM76smzS1n+kPB9hVTq1Wpb2wgo2uxy+ApBvz9HEqbcK/Tpbopsht0VI3FA3zH\n",
       "X85uHa/T3PIV6jx1Qvsx9dvIHMUDQC4X8Y9r7FOpwOMwRhO6R0dzx4TA9rYWmUhur9nDwZV26CsS\n",
       "Xxc3pdOBPUumI3AefqRQUqxmM/vonhVge1uy9Hw1D/I9nfia6JsQCy710cita+JeH2SvspAgbv5q\n",
       "Sc9C1H8l+uTv1OBMFR2gPu8Xz0hBdoeFQoWeyhePtsXA2TJWqwp2gqPzpyH9Yc7kxZ6U/R/LlCfi\n",
       "cZpY3wAAAABJRU5ErkJggg==\n",
       "\" style=\"display:inline;vertical-align:middle;\" /></a><br>\n",
       "<strong id=\"B_in_Bool_assumptions\">B_in_Bool_assumptions:</strong> <a class=\"ProveItLink\" href=\"../../../__pv_it/_proof_in_enumerated_set/da82cc5c7325d09b33778a54bdfb2fdcf585d7d10/expr.ipynb\"><img src=\"data:image/png;base64,iVBORw0KGgoAAAANSUhEUgAAASwAAAAUBAMAAADFDR0yAAAAMFBMVEX////MzMxUVFR2dna6uroQ\n",
       "EBCqqqqIiIgiIiJmZmYyMjJERETu7u6YmJjc3NwAAACgK8IjAAAAAXRSTlMAQObYZgAAApNJREFU\n",
       "SMellj1oFFEQgMe9Tby9fZc7sBARNFYWghxE0CAHh6CkUHKFlRK5SlKInNVpFxOQIIEcEYyNuIo2\n",
       "FnKNaOHPNhJNipxoo6BYxkobm3CF8+a9ze3fm110YGb3dm++N+/N7JsHMNYHUrNcTX88+oNzysFl\n",
       "wRuk4vmc0duKjX/94tsn8w2Ao+yY2VwW/ExpqWv0Fl7sgbdXvLoPsM6Glc3lwOWu0krL7H489rt3\n",
       "Dq65AIU2E1UeLgMu4kJKnfbN3u/0SC8Xbwfel9FbNJkR83AZ8Bb+knqC8S41pN31wh9O6pgsnceM\n",
       "Tx4uA76BVuqjzt3EEneq6qZA9bHuD9favnkIr5PMiHm4DPg1WlSx7W/ikheektC/t1quB/tpkak0\n",
       "hx9e7/TyHznPr0xYGVydPSP4FlrU0QFUYhW8AFZr3z3aSOgj74Urs/4Jr7NMWDw32KGM4PNoUR0P\n",
       "NmsRb2cg7RQl/7c0F+R8A2/Xxp3yIBNWBleJGazdcXuZjn7KI71oWGORSbkwnissEzcUVipYL3al\n",
       "Dw/8nRrAN3qSFJZNa90Me1vg6Zd8Eg3cLx87XRasS7PSEDNRLgKhpUZWlbkamVS5lqvkDdzPM3CJ\n",
       "BU+qD93qu7Eu4YzDh6oKy6GFK+4kw9sDEyt4vSMn72kjtsM3PPfA2hwMWPCUypRYrcfnO/GtrfNU\n",
       "on1GHDkb7ajwUDKXpJHZmQ9uFn2dfTPXattNFhw0CYNQWO/VvX1S94ig01JlXEkeTPxQ80mXkapT\n",
       "q3LgoKUaZDatowZ7NG1IteTzcKtOl19QPFNlwW9Aaar8XD6ccv7QQgcbkTxGrJFluadgd50Hb2g1\n",
       "i2vIBQ1aTj7vh46B/wzOPtx+N5yo/vvQbAb/BThuFLXD52kPAAAAAElFTkSuQmCC\n",
       "\" style=\"display:inline;vertical-align:middle;\" /></a><br>"
      ],
      "text/plain": [
       "A_in_Bool_assumptions: ((b = a_{1}) in BOOLEAN), ..((b = a_{k}) in BOOLEAN).., ((b = a_{m}) in BOOLEAN)\n",
       "B_in_Bool_assumptions: ((b = c_{1}) in BOOLEAN), ..((b = c_{k}) in BOOLEAN).., ((b = c_{n}) in BOOLEAN)"
      ]
     },
     "execution_count": 18,
     "metadata": {},
     "output_type": "execute_result"
    }
   ],
   "source": [
    "A_in_Bool_assumptions, B_in_Bool_assumptions = (\n",
    "    ExprRange(k, InSet(Equals(b, IndexedVar(a, k)), Boolean), one, m),\n",
    "    ExprRange(k, InSet(Equals(b, IndexedVar(c, k)), Boolean), one, n))"
   ]
  },
  {
   "cell_type": "code",
   "execution_count": 19,
   "metadata": {},
   "outputs": [
    {
     "data": {
      "text/html": [
       "<span style=\"font-size:20px;\"> <a class=\"ProveItLink\" href=\"../../../__pv_it/_proof_in_enumerated_set/a5c1486e8eb376c173a5a5a994db2bb5abbe048c0/proof.ipynb\" style=\"text-decoration: none\">&nbsp;&#x22A2;&nbsp;&nbsp;</a><a class=\"ProveItLink\" href=\"../../../__pv_it/_proof_in_enumerated_set/a94ca381dc44576bb7b0a05e4bdc3079efc5dd760/expr.ipynb\"><img src=\"data:image/png;base64,iVBORw0KGgoAAAANSUhEUgAAAG0AAAAUBAMAAAB1+65sAAAAMFBMVEX////MzMxUVFR2dna6uroQ\n",
       "EBCqqqqIiIgiIiJmZmYyMjJERETu7u6YmJjc3NwAAACgK8IjAAAAAXRSTlMAQObYZgAAAZpJREFU\n",
       "OMtjYOC7wIAP5OGSOM3As7UBtz6mB6j8iuj9S5scgIx1DAxcE3Dr41mAJrBAnGfPXAYGXqAe/gQ8\n",
       "DjVH42/wZSjkZmDgALrD/wAefUchFO+Oji6YvjSgvhdApgW+gOECeYaBcfsBhH0mpxkYKoHMReXT\n",
       "0BTzTZ4eA2Uygz1/6gDCnSyNigwMe4Fe/3XgPNC1zKvAAKzM9QHXBwYGabADwQGjh/Cfa/9XoBPa\n",
       "GBjY/jDwF6AGYiwD5wYGyRkgNhs4kjYgh4vtZQaGEAYGzgUM5w1Q9HH+YeAAmuQB9tkHEBEFcgpM\n",
       "HzfLBZA+YPT5o8YE6waG8wLI+vhQ7ONmUAC5k/8Cw/wDcP8pAOWA1uczQPWxgN0ZgKyPiWEBKFz4\n",
       "HYD+QQHnExi02B5A9EHCZTqKfbwGDJbAJHiBGy2hcRfwNjFD7eMEe50D7pEFwgzGk8ByPNNt0ROl\n",
       "euGjEqg+LgGwiLYParrmeIA7qYD1nYCwWayh6QwKePHkhQxs6RoG9uHU9rJfHUs+QuRbvIAblz8I\n",
       "lBP3sAsDACzJbo0QNLyJAAAAAElFTkSuQmCC\n",
       "\" style=\"display:inline;vertical-align:middle;\" /></a></span>"
      ],
      "text/plain": [
       "|- (b = a_{1}) in BOOLEAN"
      ]
     },
     "execution_count": 19,
     "metadata": {},
     "output_type": "execute_result"
    }
   ],
   "source": [
    "# why are the equalities having to be ASSUMED to be in Boolean?\n",
    "Equals(b, IndexedVar(a, one)).deduce_in_bool()"
   ]
  },
  {
   "cell_type": "code",
   "execution_count": 20,
   "metadata": {},
   "outputs": [
    {
     "data": {
      "text/html": [
       "<strong id=\"or_if_any_inst\">or_if_any_inst:</strong> <span style=\"font-size:20px;\"><a class=\"ProveItLink\" href=\"../../../../../booleans/disjunction/__pv_it/theorems/98023afa4ea0d397f8a177bad4a359b36939fb170/expr.ipynb\"><img src=\"data:image/png;base64,iVBORw0KGgoAAAANSUhEUgAAADsAAAAPBAMAAACo4Ko7AAAAMFBMVEX///9mZmaYmJgyMjIiIiIQ\n",
       "EBCqqqru7u5ERETMzMyIiIjc3NxUVFR2dna6uroAAAAPJcEmAAAAAXRSTlMAQObYZgAAAPlJREFU\n",
       "GNNjYMAKin80FzBc/fqAAQdo4jzAwP4BlyzDkQmrGBgC0EWZWlycwYxz7TwTGBzQZDm7CqCs03PY\n",
       "zUHSfHd2rzrFeescxEUwWYbTbAvmgKR5OboY6tcxpEIE4eacZrjHtAAoPY3FgGH/BQZ9sGADkjRP\n",
       "wUmgdEH9A4b8AoYTYKuDjYEAKs1+gBnk8nwGBhEGhiiQGDeyboa5nCBpYQYGXwa+3+wgwQBkaaYE\n",
       "kOpYBvZ/DIwG20CCUnDpk0B8GyjN/Y+B7QMD84ULIEGWBJi0GRAzGgD97cDAJcDAJrQBJMh+4jlE\n",
       "dspXoE52A/RA5bsBDVQoAAD1nz84wTBs3QAAAABJRU5ErkJggg==\n",
       "\" style=\"display:inline;vertical-align:middle;\" /></a>, <a class=\"ProveItLink\" href=\"../../../../../../numbers/number_sets/natural_numbers/__pv_it/theorems/12ab02a6aa52e45203d5ea4187476fa00e51b3b50/expr.ipynb\"><img src=\"data:image/png;base64,iVBORw0KGgoAAAANSUhEUgAAADUAAAAPBAMAAAC2KZqIAAAAMFBMVEX///8QEBCYmJgyMjIiIiKq\n",
       "qqrMzMzu7u5ERERmZmaIiIjc3NxUVFR2dna6uroAAABXsXCEAAAAAXRSTlMAQObYZgAAAN5JREFU\n",
       "GNNjYMAExT+aCxgufnzAgA00sR1gYP+AVYrhSMIqBgYBVDENFxcDEH2unSeBwQFFKmM5lHE6h90c\n",
       "JMd3Z/eqWWARIB8mx7ogByTHy9HFUL8BJMKzAS7HcI9pAVAulcWAYX8CSISDASHHU3AMKFdQ/4BB\n",
       "HyySaAwEBhA59gPMIHfGMzAcBsvtQNLHkMsGkpvMwPCJHSTCiCzHFNAAZMgysH7nBYlwLoDJHQPi\n",
       "20A57n8MvAZqYCFXmJwpSCXQZj4HBu5DAWChmr4CMJ3yEaiH3QA1zN62uCCLAADDBTVfYPhN3gAA\n",
       "AABJRU5ErkJggg==\n",
       "\" style=\"display:inline;vertical-align:middle;\" /></a>, <a class=\"ProveItLink\" href=\"../../../__pv_it/_proof_in_enumerated_set/b98870618fedc4c9581f07f56bf69968f0c28d9c0/expr.ipynb\"><img src=\"data:image/png;base64,iVBORw0KGgoAAAANSUhEUgAAATUAAAAUBAMAAAAetrcQAAAAMFBMVEX////MzMxUVFR2dna6uroQ\n",
       "EBCqqqqIiIgiIiJmZmYyMjJERETu7u6YmJjc3NwAAACgK8IjAAAAAXRSTlMAQObYZgAAAuVJREFU\n",
       "SMeVlktoE0EYx79k002TbB4IxYOgOQg9KLI3jQ8IiJBDpRU8FEXJ0YOUIEgteiiCGsRDQbCKiGvx\n",
       "oojuQWlBLItQfOSQBS9iUYInRcGo4KEIOq/d7M7szG7+8O1m/+z88s3sNw+AkgskFJoZ0qdKAEbS\n",
       "ewp2h4TxbF7ePs21z156vjG9XfTDSgDG2qVgP6aRX5A3NyzOyKdanTeu6IeUAIz1Vs4uLtAoNxXt\n",
       "d3PPhYybrdiiH1QiMJLWkrJHezQmHUX7NXZfb7ct1l5v2gM/SonA+KNMsb6stK9y7C9AY4+qfb5O\n",
       "blsuDPqmTdi+H6lEYKz75JpadgT2HHrEsTR7g2/0tXaWva+RmjEeBca9sani+dFKBMaq0bJzRPYL\n",
       "9IjC2HC6eGbsfYj1AL+UOQlPUH9sPN5WeLoWMtP/jvp+tOLAvj6Ep2uAfRndUOh/ocwV5ZoLtyF1\n",
       "Cy8BOlkHCsF61T6anh+tGPBAp8jVjmDjFFHkLOiaYcRdB66gTuK/T/WxMYZ77s0FsA97frTiwL62\n",
       "kXI7huEcmyHQKjTJTfbjYPwM5fYtOG5gpxPlJgWHcyvZEWw29GUXd8criyVc+b9B77PcyAVGQrlV\n",
       "856v/KYycPHO5rnsGVTz0CCvT0WwWcmW68YJbt35A2lrhv49rflcK9S3d4nmggxcPOSO7MxW/bmw\n",
       "GMGu0Vmcdgv8erAM76smzS1n+kPB9hVTq1Wpb2wgo2uxy+ApBvz9HEqbcK/Tpbopsht0VI3FA3zH\n",
       "X85uHa/T3PIV6jx1Qvsx9dvIHMUDQC4X8Y9r7FOpwOMwRhO6R0dzx4TA9rYWmUhur9nDwZV26CsS\n",
       "Xxc3pdOBPUumI3AefqRQUqxmM/vonhVge1uy9Hw1D/I9nfia6JsQCy710cita+JeH2SvspAgbv5q\n",
       "Sc9C1H8l+uTv1OBMFR2gPu8Xz0hBdoeFQoWeyhePtsXA2TJWqwp2gqPzpyH9Yc7kxZ6U/R/LlCfi\n",
       "cZpY3wAAAABJRU5ErkJggg==\n",
       "\" style=\"display:inline;vertical-align:middle;\" /></a>, <a class=\"ProveItLink\" href=\"../../../__pv_it/_proof_in_enumerated_set/da82cc5c7325d09b33778a54bdfb2fdcf585d7d10/expr.ipynb\"><img src=\"data:image/png;base64,iVBORw0KGgoAAAANSUhEUgAAASwAAAAUBAMAAADFDR0yAAAAMFBMVEX////MzMxUVFR2dna6uroQ\n",
       "EBCqqqqIiIgiIiJmZmYyMjJERETu7u6YmJjc3NwAAACgK8IjAAAAAXRSTlMAQObYZgAAApNJREFU\n",
       "SMellj1oFFEQgMe9Tby9fZc7sBARNFYWghxE0CAHh6CkUHKFlRK5SlKInNVpFxOQIIEcEYyNuIo2\n",
       "FnKNaOHPNhJNipxoo6BYxkobm3CF8+a9ze3fm110YGb3dm++N+/N7JsHMNYHUrNcTX88+oNzysFl\n",
       "wRuk4vmc0duKjX/94tsn8w2Ao+yY2VwW/ExpqWv0Fl7sgbdXvLoPsM6Glc3lwOWu0krL7H489rt3\n",
       "Dq65AIU2E1UeLgMu4kJKnfbN3u/0SC8Xbwfel9FbNJkR83AZ8Bb+knqC8S41pN31wh9O6pgsnceM\n",
       "Tx4uA76BVuqjzt3EEneq6qZA9bHuD9favnkIr5PMiHm4DPg1WlSx7W/ikheektC/t1quB/tpkak0\n",
       "hx9e7/TyHznPr0xYGVydPSP4FlrU0QFUYhW8AFZr3z3aSOgj74Urs/4Jr7NMWDw32KGM4PNoUR0P\n",
       "NmsRb2cg7RQl/7c0F+R8A2/Xxp3yIBNWBleJGazdcXuZjn7KI71oWGORSbkwnissEzcUVipYL3al\n",
       "Dw/8nRrAN3qSFJZNa90Me1vg6Zd8Eg3cLx87XRasS7PSEDNRLgKhpUZWlbkamVS5lqvkDdzPM3CJ\n",
       "BU+qD93qu7Eu4YzDh6oKy6GFK+4kw9sDEyt4vSMn72kjtsM3PPfA2hwMWPCUypRYrcfnO/GtrfNU\n",
       "on1GHDkb7ajwUDKXpJHZmQ9uFn2dfTPXattNFhw0CYNQWO/VvX1S94ig01JlXEkeTPxQ80mXkapT\n",
       "q3LgoKUaZDatowZ7NG1IteTzcKtOl19QPFNlwW9Aaar8XD6ccv7QQgcbkTxGrJFluadgd50Hb2g1\n",
       "i2vIBQ1aTj7vh46B/wzOPtx+N5yo/vvQbAb/BThuFLXD52kPAAAAAElFTkSuQmCC\n",
       "\" style=\"display:inline;vertical-align:middle;\" /></a> <a class=\"ProveItLink\" href=\"../../../__pv_it/_proof_in_enumerated_set/47526d9835bcfcc90676eb338089153965705b1d0/proof.ipynb\" style=\"text-decoration: none\">&nbsp;&#x22A2;&nbsp;&nbsp;</a><a class=\"ProveItLink\" href=\"../../../__pv_it/_proof_in_enumerated_set/49424f005e1b8273cf52ab8aaf8b436c4d57490b0/expr.ipynb\"><img src=\"data:image/png;base64,iVBORw0KGgoAAAANSUhEUgAAAh0AAAAUBAMAAADb3pI1AAAAMFBMVEX////MzMxUVFR2dna6uroQ\n",
       "EBCqqqqIiIgiIiJmZmYyMjJERETu7u6YmJjc3NwAAACgK8IjAAAAAXRSTlMAQObYZgAABHBJREFU\n",
       "WMOtWEloFEEU/bMkmaW7Z/DiQdSIYkRQcjJGEAYhoCejeBBcGG960XFjzG0IoheRaMAVMYoXRXQ8\n",
       "iCgYBkFccpgRhGgOMnhSiRgXIkgUfy0907V01UTzoWt6fv9671XVr98LgFcDk+2HFs2Co4MK7dJe\n",
       "lz2fTcBq+L9ppALHwLlfCo+JtsplwdFBabuMbcdmteR0yswfYqvnRiMVeAcgNRQe44yQNkLPs8rV\n",
       "bPOiBUcHpe9yE4+XUmSqzvwh9tKk0UooCHTxeiZvGEUPnTkC5xaUi0tIM04aK44KFdJlGo9YQSR9\n",
       "y/0hJoeLq24jFAQmcOY3VwwxT+kcd2KTUMPmkeYUaaw4KpS+S3yGrFS/SHqa+8MWtt+g0UYoCvyA\n",
       "P2tNg0jleKbBJs1FZIjTDLTiqFD6LjG6wW8IkV7J94fYDYNGG6EocAB/rhfPyVc+9h7lExmjw92H\n",
       "x6imsuPFNC2Tehxv+PzOwFBFKH2XVNcApnSvENkx5PvFqSse5Ge9Bo02wgAMCnyM2farUiVjWneL\n",
       "GC1b8d1wFzOtTDYdrYIJ/k82XLQF9KSJE6Mwt+jY++qpqWawBKWnrt52/gBMCJHpmu8Ponsn4BEP\n",
       "mDBptBBSmIbAE7jIM5CRytDTGlyGyEWSou00TzsKEM1puIoAy+iJFsfZBcmAQglKT32gAj8B9gqR\n",
       "ibzvF8bZDcuZRilcMgshgWkK3AaQHIFqtxhztQInMUsIV4QusFNiNzXZnvO7qB4nOQOJALsEpae+\n",
       "BM53gMVCZFvO90siuUYpXK62ZsKrlaDAbfSWvFnamjvA+SrMB5yDNTquZD6W97lUnLYyVLPyfDSg\n",
       "9NQ3IT7NB9iIJPPB/KJIcT7CNFoIdwgCMYcyNTZHbE9dJzP6HdqnOBcjhE+gre/eSAL8/cJx+A4n\n",
       "dzlcigP48PCqOFRcokJpqeE3ySrYKESS/cL8AXSWLgxzo0mjmZDCuFfmDzAwrDGZHO5zMcOmITqy\n",
       "n3GxIgjphQUt171x8OupilPNw8r2+utdsLVySIXSdoEfpHixAtmIJPWU+YP2Gzc8n48Jo0YzIYFx\n",
       "+2ptdSoQ71TRWlp+iH0Abzq7GVeSbbfICrrNnF9+U2WDm3eqccdTcdIFdzDmPSvhYIYVqBDqVfAQ\n",
       "22EhktyomT9oZ8E5w+dDDCfSghrNhARm8hhkKlQgZppzfr08o0+Ki7pyjCuVbb5WoA36TaKTPS5w\n",
       "eC2O03Xw/RGIFiL9JFdlKD31i8MkDa4JkUQI8wvPDevH/f0ihlNpAY1mQgrTBX1MYMLw/kq5nvM/\n",
       "kyGv0Lw6G3Dash1lbyqrQBm6OCWR9LRZoxwum51wCwxHqEDX8L5Hnxd6WnuVNuB8wQxxy90KlKFL\n",
       "TCoEb80aY4X/1OhNwfE9TOBo+NeTC98K/uOF3cJxNuBrjre0okKNml/gg4WobtKof+yYjcZ4J+B2\n",
       "pALHzBDp1r8H2Sxdb7nLqPo96N/WYlYaqUDLN7R3c/e98F3LXdzZfS905+h7IQr8C7PHwp33l04k\n",
       "AAAAAElFTkSuQmCC\n",
       "\" style=\"display:inline;vertical-align:middle;\" /></a></span><br>"
      ],
      "text/plain": [
       "or_if_any_inst: {m in Natural, n in Natural, (b = a_{1}) in BOOLEAN, ..(b = a_{k}) in BOOLEAN.., (b = a_{m}) in BOOLEAN, (b = c_{1}) in BOOLEAN, ..(b = c_{k}) in BOOLEAN.., (b = c_{n}) in BOOLEAN} |- (b = a_{1}) or ..(b = a_{_a}).. or (b = a_{m}) or (b = b) or (b = c_{1}) or ..(b = c_{_a}).. or (b = c_{n})"
      ]
     },
     "execution_count": 20,
     "metadata": {},
     "output_type": "execute_result"
    }
   ],
   "source": [
    "or_if_any_inst = or_if_any.instantiate(\n",
    "        {m:m, n:n, A:A_sub, B:Equals(b,b), C:C_sub},\n",
    "        assumptions=[InSet(m, Natural), InSet(n, Natural), A_in_Bool_assumptions, B_in_Bool_assumptions])"
   ]
  },
  {
   "cell_type": "code",
   "execution_count": 21,
   "metadata": {},
   "outputs": [
    {
     "data": {
      "text/html": [
       "<strong id=\"A_in_Bool_assumptions\">A_in_Bool_assumptions:</strong> <a class=\"ProveItLink\" href=\"../../../__pv_it/_proof_in_enumerated_set/b98870618fedc4c9581f07f56bf69968f0c28d9c0/expr.ipynb\"><img src=\"data:image/png;base64,iVBORw0KGgoAAAANSUhEUgAAATUAAAAUBAMAAAAetrcQAAAAMFBMVEX////MzMxUVFR2dna6uroQ\n",
       "EBCqqqqIiIgiIiJmZmYyMjJERETu7u6YmJjc3NwAAACgK8IjAAAAAXRSTlMAQObYZgAAAuVJREFU\n",
       "SMeVlktoE0EYx79k002TbB4IxYOgOQg9KLI3jQ8IiJBDpRU8FEXJ0YOUIEgteiiCGsRDQbCKiGvx\n",
       "oojuQWlBLItQfOSQBS9iUYInRcGo4KEIOq/d7M7szG7+8O1m/+z88s3sNw+AkgskFJoZ0qdKAEbS\n",
       "ewp2h4TxbF7ePs21z156vjG9XfTDSgDG2qVgP6aRX5A3NyzOyKdanTeu6IeUAIz1Vs4uLtAoNxXt\n",
       "d3PPhYybrdiiH1QiMJLWkrJHezQmHUX7NXZfb7ct1l5v2gM/SonA+KNMsb6stK9y7C9AY4+qfb5O\n",
       "blsuDPqmTdi+H6lEYKz75JpadgT2HHrEsTR7g2/0tXaWva+RmjEeBca9sani+dFKBMaq0bJzRPYL\n",
       "9IjC2HC6eGbsfYj1AL+UOQlPUH9sPN5WeLoWMtP/jvp+tOLAvj6Ep2uAfRndUOh/ocwV5ZoLtyF1\n",
       "Cy8BOlkHCsF61T6anh+tGPBAp8jVjmDjFFHkLOiaYcRdB66gTuK/T/WxMYZ77s0FsA97frTiwL62\n",
       "kXI7huEcmyHQKjTJTfbjYPwM5fYtOG5gpxPlJgWHcyvZEWw29GUXd8criyVc+b9B77PcyAVGQrlV\n",
       "856v/KYycPHO5rnsGVTz0CCvT0WwWcmW68YJbt35A2lrhv49rflcK9S3d4nmggxcPOSO7MxW/bmw\n",
       "GMGu0Vmcdgv8erAM76smzS1n+kPB9hVTq1Wpb2wgo2uxy+ApBvz9HEqbcK/Tpbopsht0VI3FA3zH\n",
       "X85uHa/T3PIV6jx1Qvsx9dvIHMUDQC4X8Y9r7FOpwOMwRhO6R0dzx4TA9rYWmUhur9nDwZV26CsS\n",
       "Xxc3pdOBPUumI3AefqRQUqxmM/vonhVge1uy9Hw1D/I9nfia6JsQCy710cita+JeH2SvspAgbv5q\n",
       "Sc9C1H8l+uTv1OBMFR2gPu8Xz0hBdoeFQoWeyhePtsXA2TJWqwp2gqPzpyH9Yc7kxZ6U/R/LlCfi\n",
       "cZpY3wAAAABJRU5ErkJggg==\n",
       "\" style=\"display:inline;vertical-align:middle;\" /></a><br>"
      ],
      "text/plain": [
       "A_in_Bool_assumptions: ((b = a_{1}) in BOOLEAN), ..((b = a_{k}) in BOOLEAN).., ((b = a_{m}) in BOOLEAN)"
      ]
     },
     "execution_count": 21,
     "metadata": {},
     "output_type": "execute_result"
    }
   ],
   "source": [
    "A_in_Bool_assumptions = ExprRange(k, InSet(Equals(b, IndexedVar(a, k)), Boolean), one, m)"
   ]
  },
  {
   "cell_type": "code",
   "execution_count": 22,
   "metadata": {},
   "outputs": [],
   "source": [
    "# Or(Equals(b, b),\n",
    "#    ExprRange(\n",
    "#        k,\n",
    "#        Equals(b, IndexedVar(a, k)),\n",
    "#        one, m)).conclude_via_example(Equals(b, b),\n",
    "#                 assumptions=[ExprRange(k, InSet(Equals(b, IndexedVar(a, k)), Boolean), one, m)])"
   ]
  },
  {
   "cell_type": "code",
   "execution_count": 23,
   "metadata": {},
   "outputs": [],
   "source": [
    "# Example to help construct a multi-Or of equalities\n",
    "# Or(ExprRange(k, Equals(IndexedVar(x, k), Function(f, Add(i, k))),\n",
    "#               zero, subtract(j, i)))"
   ]
  },
  {
   "cell_type": "code",
   "execution_count": 24,
   "metadata": {},
   "outputs": [],
   "source": [
    "# Or(ExprRange(\n",
    "#        k,\n",
    "#        Equals(b, IndexedVar(a, k)),\n",
    "#        one, m),\n",
    "#    Equals(b, b),\n",
    "#    ExprRange(\n",
    "#        k,\n",
    "#        Equals(b, IndexedVar(c, k)),\n",
    "#        one, n)).prove()"
   ]
  },
  {
   "cell_type": "code",
   "execution_count": 25,
   "metadata": {},
   "outputs": [
    {
     "data": {
      "text/html": [
       "<strong id=\"enum_set_def_inst\">enum_set_def_inst:</strong> <span style=\"font-size:20px;\"><a class=\"ProveItLink\" href=\"../../../../../../numbers/number_sets/natural_numbers/__pv_it/theorems/12ab02a6aa52e45203d5ea4187476fa00e51b3b50/expr.ipynb\"><img src=\"data:image/png;base64,iVBORw0KGgoAAAANSUhEUgAAADUAAAAPBAMAAAC2KZqIAAAAMFBMVEX///8QEBCYmJgyMjIiIiKq\n",
       "qqrMzMzu7u5ERERmZmaIiIjc3NxUVFR2dna6uroAAABXsXCEAAAAAXRSTlMAQObYZgAAAN5JREFU\n",
       "GNNjYMAExT+aCxgufnzAgA00sR1gYP+AVYrhSMIqBgYBVDENFxcDEH2unSeBwQFFKmM5lHE6h90c\n",
       "JMd3Z/eqWWARIB8mx7ogByTHy9HFUL8BJMKzAS7HcI9pAVAulcWAYX8CSISDASHHU3AMKFdQ/4BB\n",
       "HyySaAwEBhA59gPMIHfGMzAcBsvtQNLHkMsGkpvMwPCJHSTCiCzHFNAAZMgysH7nBYlwLoDJHQPi\n",
       "20A57n8MvAZqYCFXmJwpSCXQZj4HBu5DAWChmr4CMJ3yEaiH3QA1zN62uCCLAADDBTVfYPhN3gAA\n",
       "AABJRU5ErkJggg==\n",
       "\" style=\"display:inline;vertical-align:middle;\" /></a> <a class=\"ProveItLink\" href=\"../../../__pv_it/_proof_in_enumerated_set/2a57c56f7ef763884d4d41447755a2c8d8fd533e0/proof.ipynb\" style=\"text-decoration: none\">&nbsp;&#x22A2;&nbsp;&nbsp;</a><a class=\"ProveItLink\" href=\"../../../__pv_it/_proof_in_enumerated_set/c39d6667d4edbe33aa832382cb65ba149da417fb0/expr.ipynb\"><img src=\"data:image/png;base64,iVBORw0KGgoAAAANSUhEUgAAAZ8AAAAVBAMAAABrkP6tAAAAMFBMVEX////MzMxUVFR2dna6uroQ\n",
       "EBCqqqqIiIgiIiJmZmYyMjJERETu7u6YmJjc3NwAAACgK8IjAAAAAXRSTlMAQObYZgAABBxJREFU\n",
       "WMPNWE9IlEEUf+qq++fbdRE6xBJuEChBsZf+GAhLYdlJA6EOGV6CAqmFCFnosHQQD2ULgYYQbebF\n",
       "ELEoqoOyBKLpYTcIRIPyaP9IKAxEpZk3M9+/mfl0zUMP3rcf8733fu/NvHnzZgHUFH4IJVDZQB7+\n",
       "G4oUFYPGk9KM+M4BVC2pjSsBTFJpqemH9+drnGEOjJcZaYFWSpyWQcKH5eE5HYBFh7eJYIzD3AWP\n",
       "7+VLjGEMIJh1f63IlBjQccKz8vCYDsAiphXFzJVz2foYJM6OeAWcYxwmWDWduxJQRUpa6KwOwAaF\n",
       "WvvpY16edhpLGCUWCK96uXCMsZ8E3iq29Mfe3tzOAzLa3KPUuANANbOoVUsfd+QVilMrqN1Hduq6\n",
       "lwtTjJe5N5Rit/5phWDYPboMTgAlDYuE8mXVOXsWy0tmK6+CSeQ0eR3q7se5GnWk3PQARC56WbAL\n",
       "HKGPRrdEmjMHUOuiVhUJJqQoeFcJT9KXaiIQrE936l2oyCJPkEDW8oUlXidE7pLMSzRD9QrE9AEx\n",
       "AUaf6WMR7T5FwtmeYCwATuCXEUs3ZmoBmUEVlJ+k3Th9CZHiXxg1Np0IdhfCOeQeMjvrUEP3Xciy\n",
       "czkKkc5BCI3vfaA/wFBArDc1f8Ut0sNYALh1mXGm1Q1wQAFSnYLyJEZG1uZ6Hv7oXajKILcDBHJQ\n",
       "SJCRPTRuLAoxsgMNOE/daNHvZibAqYG81blF2hkLAEkXjTOtGay5MkiG1/XKJD3sjF96F8pWkNtx\n",
       "dltpbn6zJJujWFPqoh4BcQG+QnHQByQAJF1bQIHOCmVt74ejZkAj4FvVu8ADIhlRU4RHtDJW2ur/\n",
       "OM7rTfAKCAUW3ndnxR5qse2huC3lBADbQ0OmLlNgCJGcXwnyFVhpoym3AYF1J4LdBV8GmezZmqTR\n",
       "gSApR5ULxeG5Z0Ao8KEDLokqt+iW4EVBALh1mXGu9WxeDbKPeUWLwm+YKupd4EWBFM3yYihr7mEr\n",
       "oEDct8EwC7SrWHO/oEBkOgPr4qS57/amkbEJYFtd07jQqmXHqhOHJFFD3izKh+CNwoxwIZBAJjaN\n",
       "gSb2+e2LvC0goz69yTD9FOs2fYmLFzqCAuUpX5sI6LE7oBbGJoBtO5vGhZbo9xw4YPZvNKHe3Siq\n",
       "zHAXglFkv/00O/Xa0fqQDGWYXVImdIldVBkNJKK89cnoWh/NDkTjQiuiaY++898+rRnuwgzWSuwd\n",
       "FR0jCfkgFJL8lEjIhypwgZ/gPx3dqjmVyTIua6lpQWuGu8CbU9ZYqO5Dd+EVwJd79WQSJUwcQYGT\n",
       "UN3E70OK68OkDsAyPrvNblHVGNldENcHvIPJRG6sZ9KiwoflgOnDEgBfu9rzOR2ApTu5/QuelxkM\n",
       "GINW35CrSv9PIbyjK3h4t67gnxj/BfnLXK1qpHSDAAAAAElFTkSuQmCC\n",
       "\" style=\"display:inline;vertical-align:middle;\" /></a></span><br>"
      ],
      "text/plain": [
       "enum_set_def_inst: {n in Natural} |- (b in {y_{1}, ..y_{_a}.., y_{n}}) = ((b = y_{1}) or ..(b = y_{i}).. or (b = y_{n}))"
      ]
     },
     "execution_count": 25,
     "metadata": {},
     "output_type": "execute_result"
    }
   ],
   "source": [
    "enum_set_def_inst = enum_set_def.instantiate(\n",
    "        {n:n, x:b}, assumptions=[InSet(n, Natural)])"
   ]
  },
  {
   "cell_type": "code",
   "execution_count": 26,
   "metadata": {},
   "outputs": [
    {
     "data": {
      "text/html": [
       "<span style=\"font-size:20px;\"> <a class=\"ProveItLink\" href=\"../fold/thm_proof.ipynb\" style=\"text-decoration: none\">&nbsp;&#x22A2;&nbsp;&nbsp;</a><a class=\"ProveItLink\" href=\"../../../__pv_it/theorems/4b71bfe5d22b9547d17c7ff100fd316b5dbe9cd80/expr.ipynb\"><img src=\"data:image/png;base64,iVBORw0KGgoAAAANSUhEUgAAAegAAAAZBAMAAAAIx6A3AAAAMFBMVEX///8QEBCIiIhmZma6urrM\n",
       "zMxUVFQiIiJERETc3Nzu7u6qqqp2dnaYmJgyMjIAAAAcRTyBAAAAAXRSTlMAQObYZgAABZ9JREFU\n",
       "WMPdWG9oHEUUf7nbP3d7f1LEfIgiXBuJISb0KIpIm3JRSAWr3USQfAj1CAZFNCwaG5tWPYrYi1I9\n",
       "VGoI1K5Roo1oT23UioFrWhFaIweNopLifbW0ciiCDSi+N7O7t3u3e3GtcrQDtzdv9zfvzW/mzZs3\n",
       "A1CvSOO74Worwvje+gAZrsZy8AomHevxgxY36VcU6XDR7a1ywadbt+DjOCddor9znqTjbEyLDSX9\n",
       "rvtEl32q2UpBKsdInyH5vCfpaB7/4npDSf/s+jaq+VTzFblHiZGeIv/JeJJmn6Yau3aT/x1pWGSk\n",
       "aRbZdHqsaXKCMw0lLefs0vfj46XLIP0mIx07PTf3ep1AtjI3d0RrKGlH7wY7L2+m4ykWvf/IZvfW\n",
       "Id2cze4v+A+4bi9VH1gQrVob/mbaX+tK0Jo873DvmU0Qvq5eP+yAE6xVkpEeAZisQ1pSIZT752xT\n",
       "/M91mI65N3Ef0kjKrB1AroXY43LJjL5GtohyoRcCZRj07g4H8PITCxAlRvpOHtKsEX7iFKxPV0gL\n",
       "SfjAxxTzkCi5DlPQ9a3kMaS3m5U9OD96dFUgXKjy/UMVwvmtEMrcd5u3wzGAIcQpIEY0RlqGgLUN\n",
       "v3eyBz6L6kHdlpxo0O2b9JDrNyUNZMmyxoUhD02zZuVabGl2vf8XLGyOBnfT62ugOQHbPHtjAIzy\n",
       "ENbEMiMdLVp5V+zFaR0WEsmoPSNbAs036RGvDfdGHH3TjQzBAwvxXIU0mF23bZ69GCKEVXhArUPa\n",
       "ABgKybBBOly6n/LYgTbydCzz8684SL8hIjjaNkCduyMNEzV620HWq0jjMC3e2q5WA7rJPStOzgXN\n",
       "0g4OC5b/7aGH0fUm27JAU8ESrId6pBng7LcbkuaaFrh7w+SDSLq32JTjKel89P0hO+nQQQwpnVJp\n",
       "jOLCqrgOHqlKEpr1/qqZDmsQ0Efl1MNZLEUGkIj2JxBN2dJ9JiCWaZcIe4Bb4JEsXQlkEX0jaiQS\n",
       "CUf0DqXh+bqkGWD5Bmg1o7cRyOBjbD19EzTrCkt95qFw0k46QnFCjdO4h9/WApmhqj1ieht0VJEW\n",
       "MrjjXLQDxBPU5btAyVQCFBcQa2gH04LhIGYAwt7syL8MhyrTbpEOpoU/OemjSEb5y6hUJAKEZzRY\n",
       "NffpYIGTZstlGHpBfCqb3YekD8mOU9avbE3leBMpUePgW7BxFWmapEsOAHPwnQCnlHQFTALDNlsu\n",
       "zyzwbcTcU5DT7IaZHj4us8/pNtLKcNslTlqmXu2iStp8jOsGQEoI66zkROWkY6SmBbaIkOYzLQw4\n",
       "SP/I1hRLLeRUk1pDegxaYpvPFWykxQxFDBFGKdYWCcBJ9+GJKWhLUUggLGmXCHuRWTi7sGKOXG0a\n",
       "un2/Iw3FRcvd+/PanV43AE1qsKAapN+xnafDZRibhy+puoypZ/V5Olz+BgrhF0BWdwCRxuqUzh5T\n",
       "OjwplCMdZohnpBUNDkdLVjhEACeNeqPfVVozAbFMu2kRLXyUIbuxwhoHDpy9UTiKAedT9xSH7DPA\n",
       "YZDvVh0HDmMBpaGrCCE8eAjPpECqJq08tr1LF68HYfglRhqr/TmxFR/9eejrKMGImLFH7wmYXV48\n",
       "bWohACN9C2r6HVu38tZMQCzTbnYELUgq5VhBKyWb9DxPPw37AF59FpeXkqhNQcEA9EFgyThPG0dL\n",
       "R+nANe19cxKBIxRKJ1jVLHklFyqCFli2k77ZkSEQgJEmi46juV6NZRZk6EbC8TUuEeACbnBt5mKJ\n",
       "1X6nIFABgED7fSjn97roODwqlGDgt7xx7cIGIicV7sVcK7JkJx1y5JkIEDduRqzrBYwDyyzMwheI\n",
       "XFjjuggi/+KO7Affd2RFuOdr2ygaIyysFGoyMsHeTQvwlnvS5KBkWVCSDbsN9X3vnTSdwqV0ujdx\n",
       "xfJc5P+59971N4SEmbf/zheIAAAAAElFTkSuQmCC\n",
       "\" style=\"display:inline;vertical-align:middle;\" /></a></span>"
      ],
      "text/plain": [
       "|- forall_{n in Natural} [forall_{x, y_{1}, ..y_{_a}.., y_{n} | (x = y_{1}) or ..(x = y_{i}).. or (x = y_{n})} (x in {y_{1}, ..y_{_a}.., y_{n}})]"
      ]
     },
     "execution_count": 26,
     "metadata": {},
     "output_type": "execute_result"
    }
   ],
   "source": [
    "fold"
   ]
  },
  {
   "cell_type": "code",
   "execution_count": null,
   "metadata": {},
   "outputs": [],
   "source": []
  }
 ],
 "metadata": {
  "kernelspec": {
   "display_name": "Python 3",
   "language": "python",
   "name": "python3"
  }
 },
 "nbformat": 4,
 "nbformat_minor": 0
}