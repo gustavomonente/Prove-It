{
 "cells": [
  {
   "cell_type": "markdown",
   "metadata": {},
   "source": [
    "Proof of <a class=\"ProveItLink\" href=\"../../../../../../_theory_nbs_/theory.ipynb\">proveit</a>.<a class=\"ProveItLink\" href=\"../../../../../_theory_nbs_/theory.ipynb\">logic</a>.<a class=\"ProveItLink\" href=\"../../../../_theory_nbs_/theory.ipynb\">sets</a>.<a class=\"ProveItLink\" href=\"../../theory.ipynb\">enumeration</a>.<a class=\"ProveItLink\" href=\"../../theorems.ipynb#rightward_permutation\">rightward_permutation</a> theorem\n",
    "========"
   ]
  },
  {
   "cell_type": "code",
   "execution_count": 1,
   "metadata": {},
   "outputs": [],
   "source": [
    "import proveit\n",
    "theory = proveit.Theory() # the theorem's theory"
   ]
  },
  {
   "cell_type": "code",
   "execution_count": 2,
   "metadata": {},
   "outputs": [
    {
     "data": {
      "text/html": [
       "Under these <a href=\"presumptions.txt\">presumptions</a>, we begin our proof of<br><strong id=\"rightward_permutation\">rightward_permutation:</strong> <a class=\"ProveItLink\" href=\"../../../__pv_it/theorems/bdba8ccda411cf60ca671b1c9de6239794a156880/expr.ipynb\"><img src=\"data:image/png;base64,iVBORw0KGgoAAAANSUhEUgAAA8oAAAAZBAMAAAAbA8obAAAAMFBMVEX///8QEBCIiIhmZma6urrM\n",
       "zMxUVFQiIiJERETc3Nzu7u6qqqp2dnaYmJgyMjIAAAAcRTyBAAAAAXRSTlMAQObYZgAACCtJREFU\n",
       "aN7tWn2IVFUUPzszb2bnzcculqVGMK65LPY1KGWW1lrUUlDNKKT2gcuS2IfJEOaSLbTZH61FNWCo\n",
       "BcWrJS2ldlJBVkJHDSUrGJRIK2lBDdIyMZVcLbrn3Pdx38e8d11G3cAL+/a+O7977jnnd++55773\n",
       "AOTK/M4iXC7/yxLp7JKFFi6Ffqlpw89nykTNo3VvZfhpOnOCUVsxbFl+H0D9fVgujZHuts/Lw1HT\n",
       "6TmAfs7yAP47IMGyJLBGRe1mS/n4eXf75OqhDjj7ClnAne7ffrnA3hDNClRUeSXLK2FGWbRILH+D\n",
       "90ckWJYE1qikmXbJIQSQg0Me8awsYJf7p10X2h0Hz0fRhhL/j/5TB4jlVewa75ZgWRJYo7IXhsby\n",
       "2aEOGBmUBVwKls+eh6LwsGaxDNuJ5TRrSpYkWJYE1qi8ODSWg11QrQQOZgIuAcuiWcFe2SUiPySW\n",
       "U7vXrl0pk31JAmtT4oWhsZwccpaYzsoCLgHLolmBiprhnXqlWynH/runp0uGZUlgbUooa2gZnzpx\n",
       "jP+EEAHpjnHGptQ03n+I7U0562b59rn+YUoAbPNmOVBRWL5jrFZl/AD9LLMCFY1PHW+E92QjXrLE\n",
       "8jyAZVIsywFrU+rx/BnFzGF6Me2fatsAfUfUM9zYl+At324rS/UDVkQcDW9rviFTAPCEOnmMCl9Y\n",
       "C2UUZTL+rDJ+kH6mWYGKMjXqjfBOZ5TUALF8D+VhIa7uYfY3NuPNMgcGbCDHpEgMn/JovEuY2zGc\n",
       "sF+wBvVaCLOUb3b1IxcHjON3WzU4wQWU4VlQfJLFLoiWuL24eVXwfOQD5wDuGXfITIyUUBRl3GY6\n",
       "mo8/W1I/06xARVGNAQiNMEN3okAsxyDEFo7CH2Cic2Oteo9ZU1tDV1ksc2BA2SF3Gvaa9X1CvY7p\n",
       "MBszsPAgxDIwc3L1CUMAmGOcZdVzfMqwGa9MKvh1M+zl6C5fOAEMz8x3LAPltaKEoijjedPRNL6/\n",
       "WYJ+olldQXaxCQ6L6CaK4x0nlpOVmMPbGBLULydVEt274XaLZRfQqxyVYjnhFRS2OFimZzd13dDH\n",
       "/rVVFaUDzMQjwnelURRZCn7dhDIK1JO+cA4gz0C63etxWKCiKOOUY/w2Sf0EswIURTVaQeVz5Fcw\n",
       "WY4PPGIH0tD7+tdCYk8YyhbLLqBXOSOXM2YDwgBF7CiztK8MW33doQP08o++CPjU9/FGX1kMLecg\n",
       "cdwPrgPa3PsyZ/wpCUV1Gbbx2+T0E83yV1RXgwNoX47wiA3LnmT1ZhJCmdwOpRkiSEPisTkZgWUC\n",
       "Qm/zYbdss1E50axRgpvxShoNeyfe5M4Te5uOOrMvzLH7SrAwUfRzBwHu1tfXSdy5uF8g4eeNBgYr\n",
       "qXrmqp5lmV6/H8scgJ6plmMHKsplcEfr4/ugbfqZZgUqqquRzM5o13NsPfuCDRiNG5CccAQj6R8b\n",
       "+7Q0xdXc7u9FlhGovqCwWfWMwwBqxL6hJZRdLFIanRi2qeUBnsbamtxcDaKaW0R4wLbYkeX6TGpx\n",
       "kia9+i8aMaBXzDsOKA/ylufgVV65FdRbyBv2bmYl3A69ObQXW2Ap/NBeJrgbSRcOQM9UOy9binrI\n",
       "sAZBR+MdjW8zy4429bObZVfUYySuRvqnBwb1k2i4zFluYOvuvU2o7KdJXBKn2fbSy1lOmqG1oAPD\n",
       "WaUAjzsOhtQIGh8EVeyGnBPD8ktFr02CPCjbNKeIRkiYgTxiPBVRO8avuI47r5P1iKGCi0G/xJbo\n",
       "gPi6Av+994YKryS/26NLsXWjCrbAtwcyZC/KgNVNczpaCU63JpJGQjgHnM5VfyoiKOqWYQ2CjqY7\n",
       "HN9ulh1t6Gc3y6Go2y6uRsM866lIjrOc0miSGIFSGfEGS697enoyiVy8UhBYRmBdKcQELnFs+dTI\n",
       "syY2Cdk9uDBwjVBjYSumuUWES9WecKI7Eu6D4mYzwmeE380KsezuZrWgvZvBNrU2Q1U4eSbg2Vcb\n",
       "eMqwWpaKd4FmVbzMClQU8i0lw39rwHq/rA7SNG1gaX6oOx+HKF/LcG9GYJnifrH+R83JIDWuR2iD\n",
       "hgyjGBfLmJcdwA2AHfDfXOtkmUTE3tlre1vRaHNe0u1dM0Xp+1j4PWmPCO7cz9r9ioIMDi9Xh5Nn\n",
       "PFneZme5XF1RcnRZ1izUz21WoKLQojQWbW8rjKNNOf46mwOwSqvPzApBEklPtUKq7GC5rjj3QWJw\n",
       "lcY66Bdq3JhltZi2j13TrZBFjIVgl0MQjj9awLbRyqkKsuwQ8QTU7f/MnMVF2/tl3FA+cic0Zo63\n",
       "JSn8blbwiYBHN6slL8oguJqpDifPBLxf3gReMqwW5mjhLsisPHiZFagoLFUKGf5+WX/zqAteUFRY\n",
       "SG2BfCldjI4HwNjUdgig3cFypGP9NGI5X1JGQ76IlxI1RnPYtqDMrvGJe2i9M5EcgcKX3zgBU3dW\n",
       "u+/6ccSyS8RD4yxL8bxofiuy/OUOAPcjmZRZW/218LtRiU8+nfHqZrW0iDIInoLqcO6ZyJUebzLK\n",
       "oqIpH0WZo627QLNawMOsYEXhN+hgy3R6K18tti+CErRp6FtjiO3LjiecQlliPZYxa2siRq1kYhKi\n",
       "cOBvLvU2jNhOEU3pdWbL+9jpQn/3tfT8u3h/97WhMlz0swp997UfHCz3R+8fA4li1bcVVpnxV0kA\n",
       "6rXoBL3Gr4jhXx1x4XzOa0ZNufkOt4gpqa/gIha0dziXmuknslyJ7ix6BQKPtWwLK85ayiuGUO3d\n",
       "D2xtXiIuqhd3Du+vj2umn/Q3nJ21+B775ylwuVz0Eulc/B+UdfkS+PKCdgAAAABJRU5ErkJggg==\n",
       "\" style=\"display:inline;vertical-align:middle;\" /></a><br>(see <a class=\"ProveItLink\" href=\"../../../__pv_it/theorems/ec905609c197eb9e9f91c966b222c02cb9e487200/dependencies.ipynb\">dependencies</a>)<br>"
      ],
      "text/plain": [
       "rightward_permutation: forall_{i, j, k in Natural} [forall_{a_{1}, ..a_{_a}.., a_{i}, b, c_{1}, ..c_{_a}.., c_{j}, d_{1}, ..d_{_a}.., d_{k}} ({a_{1}, ..a_{_a}.., a_{i}, b, c_{1}, ..c_{_a}.., c_{j}, d_{1}, ..d_{_a}.., d_{k}} = {a_{1}, ..a_{_a}.., a_{i}, c_{1}, ..c_{_a}.., c_{j}, b, d_{1}, ..d_{_a}.., d_{k}})]"
      ]
     },
     "execution_count": 2,
     "metadata": {},
     "output_type": "execute_result"
    }
   ],
   "source": [
    "%proving rightward_permutation"
   ]
  },
  {
   "cell_type": "code",
   "execution_count": null,
   "metadata": {},
   "outputs": [],
   "source": []
  }
 ],
 "metadata": {
  "kernelspec": {
   "display_name": "Python 3",
   "language": "python",
   "name": "python3"
  }
 },
 "nbformat": 4,
 "nbformat_minor": 0
}