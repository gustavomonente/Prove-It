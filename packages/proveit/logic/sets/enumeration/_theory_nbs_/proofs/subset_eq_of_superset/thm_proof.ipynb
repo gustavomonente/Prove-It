{
 "cells": [
  {
   "cell_type": "markdown",
   "metadata": {},
   "source": [
    "Proof of <a class=\"ProveItLink\" href=\"../../../../../../_theory_nbs_/theory.ipynb\">proveit</a>.<a class=\"ProveItLink\" href=\"../../../../../_theory_nbs_/theory.ipynb\">logic</a>.<a class=\"ProveItLink\" href=\"../../../../_theory_nbs_/theory.ipynb\">sets</a>.<a class=\"ProveItLink\" href=\"../../theory.ipynb\">enumeration</a>.<a class=\"ProveItLink\" href=\"../../theorems.ipynb#subset_eq_of_superset\">subset_eq_of_superset</a> theorem\n",
    "========"
   ]
  },
  {
   "cell_type": "code",
   "execution_count": 1,
   "metadata": {},
   "outputs": [],
   "source": [
    "import proveit\n",
    "theory = proveit.Theory() # the theorem's theory"
   ]
  },
  {
   "cell_type": "code",
   "execution_count": 2,
   "metadata": {},
   "outputs": [
    {
     "data": {
      "text/html": [
       "Under these <a href=\"presumptions.txt\">presumptions</a>, we begin our proof of<br><strong id=\"subset_eq_of_superset\">subset_eq_of_superset:</strong> <a class=\"ProveItLink\" href=\"../../../__pv_it/theorems/76a85e34d95e29aedb71a5ed46c03f9b8482c3cc0/expr.ipynb\"><img src=\"data:image/png;base64,iVBORw0KGgoAAAANSUhEUgAAAlgAAAAXBAMAAAAl2Sx/AAAAMFBMVEX///8QEBCIiIhmZma6urrM\n",
       "zMxUVFQiIiJERETc3Nzu7u6qqqp2dnaYmJgyMjIAAAAcRTyBAAAAAXRSTlMAQObYZgAABYBJREFU\n",
       "WMPdmG1oHEUYx//J3eZye7tJP6RoLcK1qW0Q0VDFCkk0wQ8BQUlSKBYLOQ5rtWA5NOYkSg3xg4lS\n",
       "WCy0pSCuFqpUNEdDqC2WXkwkUhUOUlDEpgGt0CIafEMTFedlX2Zfbm8uCQp94PZmn3nmmdnfvD0z\n",
       "wP8mc6UqCyjbzbVwU6XsvL3aErU/9qxlA5LkAz8oVl0svj6oW4GbKqWLfHrKAOYHsEDfL1cqoHXK\n",
       "2UnKu+R3ZQXl7g+qrqywBTdJ58fopz9FfjP4jL5frwxLzk5SrpHf7ArK2WX0ffl8vsejqla+lc7X\n",
       "cnQAM1jH6KwYrgxLzk5O9NbVwUr+YAT4VSvL0vkMlpamsBrIoqkVKsOSs5OThLE6WA0GVgsrviSd\n",
       "z2Cp6ygs/eKpU0dRGZacnZwcxepgtWHVsBgBuXye/I7Cwh+joy9KwJKzk5Nm5ysPT28yI029BlP8\n",
       "L+eDlWzffguqcEMHZ7Y5cpoI+do6+pxmsPYCYzKwpOzk5BB9HKCDfQN+ip4NXgO+9SUzgoq66TIa\n",
       "FqtxQ2T8uvpnVAkhX2e+5xmsB6EuyMCSsiPyyEJF3Qvkl6Ix01sl3EeCzfL7Bjdw+5vuDFAFe+pG\n",
       "vRUxonoUsm6IXDDxc1TFLF/cGM8wWAnUhsfAyrMz2JRxYJW183NtrahrIs5foYv0AyaegXJ3+fWD\n",
       "GQiyL+2dhsxNbAmJNHbugLQbGrGpf0VVTPPtdB0t289gaaVEiPF70x34UDNjpgMr3C5kthcq6prs\n",
       "aPxmqL+RZPk2cwPXD++7j71Bfc0wxknQ1Q1ZN2y0xJejKmb5lnwPB1ZyYVdIJPTacRPn062aOw1D\n",
       "7UKk0aioo9MQT4J2XmoxCpZl4A/XRfbEzXgRFxAFy++GyN90PEbAYvnimtXNYGHscaLo6Guu3Upj\n",
       "YpqiCxmRycnXBVjMDie2Xg169ij7N+8PGPh0h6xtTF1G3cLZKFjMwG2ctRuqTzwk7objBRwgh7cI\n",
       "WD43RH6l61gELJrPUVi7IV/gMUGK6F2lmv21dJDTlMFPjJPa+3sEWNROfU4hwH00uNKWbWYz6nzx\n",
       "ANUJMm3v+SP4MlNkbR4nNar/gCfcN2bgNs4OqpRPxeNOfVof1PjI8rhx/XncMM3TeBlRFdN8jsKK\n",
       "s9o5rEayaB7fhsbOGD3A05SpsgV5EsVpARa1i7UqOezxBTVM6cgI5pUpH6wR2jGudNuwTm7ene1k\n",
       "bU4MkddBGt1n7EfetAzcxs2Gxqlq9rYjW7hXr5tBW+NxwzQn7ighqmKaz1DYsK5yWDr9six6kWBL\n",
       "QRZdUJ4fHR0hsN5ICLCoXU2B9vCQt71c6a7e9yLhg0V15Y87bDacC2BIOU6cxs2WP1tbXRB042ps\n",
       "N+dkK6Yo7ONOjsNish4teFPhqXYFGT6y4n0CLBarGfVfm35YTDl3fu6xT+jbEjYGYBGd3na56DlI\n",
       "T3lhBa+lNAQaFwJrygsr6KYYcFOUrZihEA/S1jl+kWD8SsMxk6QGJsE++xLwjQ9WjdH/MBtZxPBV\n",
       "+8GUpxdqCh+BvA/pwwyWY8F1qRYhPBrzXESl6GKYDrT5bfga59xnzebzzprlujmDMDeuxnbjaipU\n",
       "zFHw+yx+RWMxzuAajlxEb4GkyHStJ6M1frATdT5Y8ezpDgart6BsQK9BHwWmrOt5B/dA2Yhdn4PB\n",
       "ciws3V4hXqaXfw12lyZ3/J6GHhwzTghsNw7xppAQznZz+KUsQty4GtuNo6lUMUeBrk6re2f8hnYE\n",
       "00LWLPFa+aB4rTwkGNqpBCaQKyDFX0zRgutytZc818qYWJs7+In/4g5eJ6vsnQP+tc2QKN73S0Ew\n",
       "tFInsQVZA2fZV93VJrpiOjWT+gI3lujVG+rhc0fQl24UOv8CWbrqXtSHKxkAAAAASUVORK5CYII=\n",
       "\" style=\"display:inline;vertical-align:middle;\" /></a><br>(see <a class=\"ProveItLink\" href=\"../../../__pv_it/theorems/49b8ce233adae30bd6b381ae8f26f67754ec1c190/dependencies.ipynb\">dependencies</a>)<br>"
      ],
      "text/plain": [
       "subset_eq_of_superset: forall_{m, n in Natural} [forall_{a_{1}, ..a_{_a}.., a_{m}, b_{1}, ..b_{_a}.., b_{n}} ({a_{1}, ..a_{_a}.., a_{m}} subseteq {a_{1}, ..a_{_a}.., a_{m}, b_{1}, ..b_{_a}.., b_{n}})]"
      ]
     },
     "execution_count": 2,
     "metadata": {},
     "output_type": "execute_result"
    }
   ],
   "source": [
    "%proving subset_eq_of_superset"
   ]
  },
  {
   "cell_type": "code",
   "execution_count": null,
   "metadata": {},
   "outputs": [],
   "source": []
  }
 ],
 "metadata": {
  "kernelspec": {
   "display_name": "Python 3",
   "language": "python",
   "name": "python3"
  }
 },
 "nbformat": 4,
 "nbformat_minor": 0
}