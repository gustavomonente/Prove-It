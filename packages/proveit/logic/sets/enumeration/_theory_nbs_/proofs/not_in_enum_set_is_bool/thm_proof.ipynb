{
 "cells": [
  {
   "cell_type": "markdown",
   "metadata": {},
   "source": [
    "Proof of <a class=\"ProveItLink\" href=\"../../../../../../_theory_nbs_/theory.ipynb\">proveit</a>.<a class=\"ProveItLink\" href=\"../../../../../_theory_nbs_/theory.ipynb\">logic</a>.<a class=\"ProveItLink\" href=\"../../../../_theory_nbs_/theory.ipynb\">sets</a>.<a class=\"ProveItLink\" href=\"../../theory.ipynb\">enumeration</a>.<a class=\"ProveItLink\" href=\"../../theorems.ipynb#not_in_enum_set_is_bool\">not_in_enum_set_is_bool</a> theorem\n",
    "========"
   ]
  },
  {
   "cell_type": "code",
   "execution_count": 1,
   "metadata": {},
   "outputs": [],
   "source": [
    "import proveit\n",
    "theory = proveit.Theory() # the theorem's theory"
   ]
  },
  {
   "cell_type": "code",
   "execution_count": 2,
   "metadata": {},
   "outputs": [
    {
     "data": {
      "text/html": [
       "Under these <a href=\"presumptions.txt\">presumptions</a>, we begin our proof of<br><strong id=\"not_in_enum_set_is_bool\">not_in_enum_set_is_bool:</strong> <a class=\"ProveItLink\" href=\"../../../__pv_it/theorems/c1380cf895eae906452b0489177dc782321f10970/expr.ipynb\"><img src=\"data:image/png;base64,iVBORw0KGgoAAAANSUhEUgAAAXoAAAAWCAMAAAD5P6c3AAAAQlBMVEX///9jY2MJCQkNDQ0rKysP\n",
       "Dw8WFhYQEBCIiIhmZma6urrMzMxUVFQiIiJERETc3Nzu7u6qqqp2dnaYmJgyMjIAAADRR/RZAAAA\n",
       "AXRSTlMAQObYZgAABLhJREFUaN7lmdmWpCAMQJlV9t3//9UJKEgUtLSnus+Z4UGq7QThGrIgIf9K\n",
       "E7u/Awvvexaj9guXSmMUn/IgE3A/aAr9ZaN/66T4tC7emVt6q3iIipO4mck9K/Ef0L3TrMb9yBAl\n",
       "tvn5zQbByuLlOXuqJq3nOCnJkTjg864IRXsX/WPdOy0a3I9QcDw79Wb09QE2Xi2ACAqGYxcHWMQB\n",
       "nynGZDS5i/6x7o0WGO5f8zefiJ54ei6pCQfoVBDdigO+arCbCb+M/rHujaYM7ruvR6vfv1T8IvR2\n",
       "2k8GWtyjd25Fv4onfMHb1MzduX5E90aMVbjveXkN6YY2X2b1JPLdZHpW73kJVot4wkdmnZryD9A/\n",
       "1b2RRzHcE0upNJxuu9ymrXdwuCsZS1kSNNPjWDQawW+27hlBk+mh50pI0YpnfMstbZ6gf6j7etMB\n",
       "9xbeclCUbDs6pwx072/l8n8PWWD695wN8pF1NyMMUqiwvfdeugPoJzXPE0fiGR9np3FaKJbE6CQ7\n",
       "6C90/4Krd7j3YFV+toSbbWWdDMstabdxSxKoNVRB7IkPakbYJy7V1p0iaDJ9hxOCb8Uzvpwc0GNi\n",
       "bp1nKSFyOi+Y2Q76ke5fa8VWSm/3GMQUY/z5Ay6xcbhrUAbpKe2HOV34E/RohN3GUus9MaPJLG2P\n",
       "vnRFfMHnwyE3y5HaGZtW6gIlLO28Hvq+7vvQkz2GnNceMqxabHLYIbBY8RQ9GgFbffUCG3oztvq0\n",
       "IeQBvYmlFgwsCLpENL7tJ+GEoQP0my4krEzQEks4TXfVdXS7ENw7HHLAMJHey5e6KTppDokP0dcR\n",
       "GjjY1zcDT2P0kqzVP28cDoTJtcoNfAKpyRDSHBI4AQ4niD76TReSKohtipfoBMYi0kykvQhjRfCl\n",
       "MOvsEvG2FA4SEM6GuZ+W5fIUfR2hgYMznCbMMnpi9auzb8IsrGeNQMbS9CPtMMta9ADIsz76optO\n",
       "DmN1+samhVKIbv48r6uCozfDUM9nqExmfJSmnBRD9EwmpdCit3O8/NH8KiM0cHZ5PfPHXYoPEkDA\n",
       "eyZb8RXf5j0lJUsyJVTO2DVd0MNSVR9963nnJrVKD0ijXTqdKtj3Rwr1VlIKmTY6rbPyO7cj9EmB\n",
       "LfOqVq/KlFRx18cfm9A2QoWzL6lEOxmNJ7M/PiviBV8o0ik6AQtRQkKxesIFHaCvujl+1Fkkz5Nj\n",
       "3RX6VTAwV9OvmwcJ4ZvXuHbH1SyLO5fsXimwWqFlhA0OPkjARsmPk8E5k0L46vafM4vsYirEkIXC\n",
       "wNc3qj7mPMjoNGklYJuSDX2+iy9I0CWnox4dn/UqutUVp8rKznyXfr9UfHuyG6GBc+v4bD8u7aLn\n",
       "ydapz9tZu7LVl0MHeY7eysA9TQWAmFweiurYoM93RQpS9YIFwWF3680Cdlgydw/y1wREwVJ0Xqth\n",
       "al79mn2FVRHaRmjhNOf1NwvK5tD45Phk9fVnBwmDvQpPMCUrqQ7HnQumaBv4mOzwU0m/olu+UnHw\n",
       "04cY/FIFGGry2xkh+XxOLkzifIueor862FKjD4TpI5j0hKf3K+jMXL17ImjBppzvUbn6QDh4Je5z\n",
       "vs2Ge+RXcRoVf8fE0pJ58P7S1vqC/0v7A0LFSRAHdXfRAAAAAElFTkSuQmCC\n",
       "\" style=\"display:inline;vertical-align:middle;\" /></a><br>(see <a class=\"ProveItLink\" href=\"../../../__pv_it/theorems/aada298883518582bbadab069b6710a2fdf1e6b10/dependencies.ipynb\">dependencies</a>)<br>"
      ],
      "text/plain": [
       "not_in_enum_set_is_bool: forall_{n in Natural} [forall_{x, y_{1}, ..y_{_a}.., y_{n}} ((x not-in {y_{1}, ..y_{_a}.., y_{n}}) in BOOLEAN)]"
      ]
     },
     "execution_count": 2,
     "metadata": {},
     "output_type": "execute_result"
    }
   ],
   "source": [
    "%proving not_in_enum_set_is_bool"
   ]
  },
  {
   "cell_type": "code",
   "execution_count": null,
   "metadata": {},
   "outputs": [],
   "source": []
  }
 ],
 "metadata": {
  "kernelspec": {
   "display_name": "Python 3",
   "language": "python",
   "name": "python3"
  }
 },
 "nbformat": 4,
 "nbformat_minor": 0
}