{
 "cells": [
  {
   "cell_type": "markdown",
   "metadata": {},
   "source": [
    "Proof of <a class=\"ProveItLink\" href=\"../../../../../../_theory_nbs_/theory.ipynb\">proveit</a>.<a class=\"ProveItLink\" href=\"../../../../../_theory_nbs_/theory.ipynb\">logic</a>.<a class=\"ProveItLink\" href=\"../../../../_theory_nbs_/theory.ipynb\">sets</a>.<a class=\"ProveItLink\" href=\"../../theory.ipynb\">enumeration</a>.<a class=\"ProveItLink\" href=\"../../theorems.ipynb#proper_subset_of_superset\">proper_subset_of_superset</a> theorem\n",
    "========"
   ]
  },
  {
   "cell_type": "code",
   "execution_count": 1,
   "metadata": {},
   "outputs": [],
   "source": [
    "import proveit\n",
    "theory = proveit.Theory() # the theorem's theory"
   ]
  },
  {
   "cell_type": "code",
   "execution_count": 2,
   "metadata": {},
   "outputs": [
    {
     "data": {
      "text/html": [
       "Under these <a href=\"presumptions.txt\">presumptions</a>, we begin our proof of<br><strong id=\"proper_subset_of_superset\">proper_subset_of_superset:</strong> <a class=\"ProveItLink\" href=\"../../../__pv_it/theorems/87c64bc5f2e365cf353073c55b1f0acd55c699e60/expr.ipynb\"><img src=\"data:image/png;base64,iVBORw0KGgoAAAANSUhEUgAAAu4AAAAZCAMAAABZy1twAAAARVBMVEX///8kJCRlZWUoKCgtLS0/\n",
       "Pz9RUVEvLy8QEBCIiIhmZma6urrMzMxUVFQiIiJERETc3Nzu7u6qqqp2dnaYmJgyMjIAAABvI+bm\n",
       "AAAAAXRSTlMAQObYZgAABrtJREFUeNrtXOl66ygM5c7cmTGr2ez3f9QBbBabJSSmbm++8KN1iXyQ\n",
       "4CBLMikAAxtljHHwaZ/2Axs25FRDEdlnUrubRvqLRyAIih+jzO2tZD2nH7rf2/jGK7GoGwbDE+kR\n",
       "u0eZ+935br3kCd2XuMX1ELqPBHy7JuZ9atZbhkNLl29f752C6Sa36K2nPNJdSf/pIobQfSTg27Vl\n",
       "n3l1z4r3DaNufiovCNxqvVgi3fnsr+cxwcxIwPcL2MGH7mCV99IdKBhjd++DlRxD95GA79ZC3eq7\n",
       "6K5ntjXyfXTHq7iZ7mKKdNdK2MYH2LxBDAR8tzyVgW+lO18U/37vfttwcaAFB7qDdbZtRE1yhx8H\n",
       "+GYNomwlOFIITpfcXQNCTeWHS40W17XpQFgohOj05FcQQnKJ2gWAaL1Cke7Uic18GN3HAd4aV+Mv\n",
       "H2IOpSq6Z094MrO0XKqMtCCONRdUiS69MgO06UAQq4l2xcoPTz2j2bxc2GRFgGi9XiLdMUqz1wF0\n",
       "Hwe44y3jsACu4frEmqgR9VMCC9xivk/uJWEx2bHQNjR5KbU/QLSLIJUgwiszQJu2MvtwLnRfYaqY\n",
       "DQSofHkOEoCy9ZJFurtpgE+tMWFIGd7AiZbo/gLggyfVwMrVXMHl+zWfBiVSNA/mJrwzyUcVyC09\n",
       "s0tPEHoppk0gilrET8rvFKMyA7R5oMwmszgXr853XZ6DhvVkTWbAurPOYYRUyL5wljNQZggkinR/\n",
       "ArCrLfJr6B5wjVn//bvtTznqSVIAmnB45m8OdZrd0m9/4Jem7ABRiJOTtZtrAQgBg7RpK5O4XJwW\n",
       "I6eo2IU5aFl/oDtfAOk7TaBnyYWluNQQGLVVMZh5ArCvrfxr6O5xrVn/CPDldA/BDKAzCD5OrheW\n",
       "+gjRjt1r+JsyA7RpK+MnXZ/8cerpL8xBy3qcBjMmq6Sb39FIE5M2Awhp2KG+zwfl21oSSTis0T0C\n",
       "AoEgXXpy7oYgWY0+Is3Be3P1Nt09rjWLqCNLu/WuShboHlPVrRginI8zmaI71vHiUkeIfPWOlRkF\n",
       "mwW769q0lfF0xz7GP2wAM2Eve/cAkHD1YH2aqho5HzJpbPWYDAcgjRUL12enIC6gJCaY0aRG9wAo\n",
       "GDGsclSlzZg4Eczrd0zEGh7DgEwP4aJcg+4e15qF+IGl3XrXFS/QXZ0LkbMhoGZ0cxvYs26JNYyH\n",
       "FylEvnqnEnclKPRSTW0KQ+ddDWWCDDXdM0p7EHVegyR07zE9KhIAEq4erEfqkL3seTIXkO37D3km\n",
       "+z5hAVO6G5vOKWScXJ94I+s4mat3tFPAIFhiKAz7c8v6yUM4L9ek+47rzJqPGWa33nXFxZSFYPj8\n",
       "mklQCAmnEKefMuZHZLR+4YUiRGH1TnQXlGJRp3tbm1yHXJuWMkEGwb32FaCV0hoeZ6gxbD4HHiDh\n",
       "6tH6/enr6a79fdTc5JxiDDNdH55cPca9P7IssXTn+hwNxj894GRgdlfDmrRJBIsZHqJRrgMuyjXo\n",
       "vuNas37/7cwCZEbP6d1QnOQv2pqHCMJSy57aUEkoW71sGKLmzkMEl7XJlMll8p7oEHqGzWUCVw92\n",
       "CVapTdkkHRpG8DW6Rttndqj5SQ/eHWACa3QPjztuI1aX3TZpEwU1klojIlVcELtbPX1D1vqAhbuc\n",
       "Q1MVuntcmkYszrt3691QvODdkyNiU4NgXa+jS0LZ6nUeEZvAF2iTK9NxV/L8e2nUyFVQOSKWNr7u\n",
       "O0TPFovPYu9j2IUvMX91DzytHtDdhlFkxTrwc0Ms/AiCEi6OhNJhu8/MnXrer93pBxRYWMXb5aSd\n",
       "cFah+45rzBL0FHKf9X5a8UqJx79qLh0xlz6m6MnES0Kn1QOXzrtf1SZTJpcp3CUZ6B82l0m4mlif\n",
       "HgA+bi77tz2TzaktqxPr+1zfHm7N0m/C7dANfUR3TKGEKNLGIRLr99IfMhU0ibx9+CA3wCZPlfLX\n",
       "HEENo9Ot4nk5g3Z8U5dWZjZc0/eXPNH9rPfTilfoHmrf2ReIOGIrdevX9X6uJHRaPftY7zsYkX+b\n",
       "6bo2mTL68V1x1K5hdXlQnxoE62deoXu+285Fkj12r1RDmqUSUUTM+pgt7NhfMvtM5nCP8Jh9v4sr\n",
       "dffQfkWzMpZ2DpQrXvSsXIfi1Q/6rqp85++q6vTLe+1peO79ToPuBK7uhFIJ8dBn4wpbG6CQnz9L\n",
       "rj3cIzyLJg+HYEp056haP+wdKFN83PuqTxvVHtH9yT3fkRjpJ0fRL9zb1LpEd4Wb9cPXBqKfA9B/\n",
       "Gt2fbOwP+D8zpdNmh1ngQw63kc93uX5Ys/9nhv4PNK1/NOhVXIMAAAAASUVORK5CYII=\n",
       "\" style=\"display:inline;vertical-align:middle;\" /></a><br>(see <a class=\"ProveItLink\" href=\"../../../__pv_it/theorems/866574fa8bbe9e85926e2bd99e7838dcc749c6f30/dependencies.ipynb\">dependencies</a>)<br>"
      ],
      "text/plain": [
       "proper_subset_of_superset: forall_{m, n in Natural} [forall_{a_{1}, ..a_{_a}.., a_{m}, b, c_{1}, ..c_{_a}.., c_{n} | b not-in {a_{1}, ..a_{_a}.., a_{m}}} ({a_{1}, ..a_{_a}.., a_{m}} proper_subset {a_{1}, ..a_{_a}.., a_{m}, b, c_{1}, ..c_{_a}.., c_{n}})]"
      ]
     },
     "execution_count": 2,
     "metadata": {},
     "output_type": "execute_result"
    }
   ],
   "source": [
    "%proving proper_subset_of_superset"
   ]
  },
  {
   "cell_type": "code",
   "execution_count": null,
   "metadata": {},
   "outputs": [],
   "source": []
  }
 ],
 "metadata": {
  "kernelspec": {
   "display_name": "Python 3",
   "language": "python",
   "name": "python3"
  }
 },
 "nbformat": 4,
 "nbformat_minor": 0
}