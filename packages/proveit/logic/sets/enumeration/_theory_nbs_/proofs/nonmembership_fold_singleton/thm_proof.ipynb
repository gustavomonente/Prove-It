{
 "cells": [
  {
   "cell_type": "markdown",
   "metadata": {},
   "source": [
    "Proof of <a class=\"ProveItLink\" href=\"../../../../../../_theory_nbs_/theory.ipynb\">proveit</a>.<a class=\"ProveItLink\" href=\"../../../../../_theory_nbs_/theory.ipynb\">logic</a>.<a class=\"ProveItLink\" href=\"../../../../_theory_nbs_/theory.ipynb\">sets</a>.<a class=\"ProveItLink\" href=\"../../theory.ipynb\">enumeration</a>.<a class=\"ProveItLink\" href=\"../../theorems.ipynb#nonmembership_fold_singleton\">nonmembership_fold_singleton</a> theorem\n",
    "========"
   ]
  },
  {
   "cell_type": "code",
   "execution_count": 1,
   "metadata": {},
   "outputs": [],
   "source": [
    "import proveit\n",
    "theory = proveit.Theory() # the theorem's theory"
   ]
  },
  {
   "cell_type": "code",
   "execution_count": 2,
   "metadata": {},
   "outputs": [
    {
     "data": {
      "text/html": [
       "Under these <a href=\"presumptions.txt\">presumptions</a>, we begin our proof of<br><strong id=\"nonmembership_fold_singleton\">nonmembership_fold_singleton:</strong> <a class=\"ProveItLink\" href=\"../../../__pv_it/theorems/712e1ab1b4899f6f35d7354c5565f712e69a60b50/expr.ipynb\"><img src=\"data:image/png;base64,iVBORw0KGgoAAAANSUhEUgAAALMAAAAXCAMAAAB3R445AAAASFBMVEX///9jY2MJCQkrKysPDw8W\n",
       "FhYoKCgUFBQNDQ0QEBCIiIhmZma6urrMzMxUVFQiIiJERETc3Nzu7u6qqqp2dnaYmJgyMjIAAAAE\n",
       "alMrAAAAAXRSTlMAQObYZgAAAq9JREFUWMPNV4mSnCAQJecuzX36/38aWkABQbOVTLJUjTVKt7y+\n",
       "XreEfIIlhvvAQr/PwP5zUCbcbqvuzkZ/keA02+UMXuNpXXgVZKvv3Sx7L28TGVZwSgTtXX0cX+b/\n",
       "aG63Ge9uvZrI1IcWsZvqA6NfBTkw8oHUuMdMPDTuPR3+t5e6cXPQ6sd3FX8fs6Wo5S0uo15WgOs3\n",
       "C50IQZuP+JlEzKRN41L+VZihpIYFkIbDHtyanLZk6ASeBYaShu554Omxja+TO41o83w6vyWH1YbO\n",
       "fGSTU4IC0iTCTgIAg7zMAj4RHG5vA5kE3OaMTKydnn5X/GKZzrlQfDLKb5Zw079vpCuXqdi4zG+6\n",
       "HBprITtV6xbCn2E2crlF+REH3b1B0Bjjt/d0iU2Gl4pN4hQjsNUwSJX/id3jPlz45sOYtX3CTFoA\n",
       "J7te6Kq2PMJTUBLCcherUzJmE49W5IEJkFUJ8KmyU8ydJOF+rtHkBmkAVGvIzFlSN60P6NgcedbQ\n",
       "RmZfJOZJFaCKYzxJlgo69fMhKXfWeU+/MNFoatDZXE/NuJOIgbMlrWlZLx1vhJxIjqljwIpHYhuL\n",
       "JoGeYu4kCbiFxkFOKdKO6G0Yl5STYomZSdQKIz8zf8mzreE83JawyudT8pyBRo0zmFYCJMrtBzEr\n",
       "v3K7HC2SBquHND2lWBksaTL8MB2ThIoF5iIpU9W//cTaDxONp94dvnit1Lp313Gu6d1DAZiN+IhZ\n",
       "mUoarVAiBWfKG6dkz3OjxtOMNOtkJXWxtdiNT2ekLlSBe0DyFxQzlEvQcYr5lOx5btRYI1sP1oUi\n",
       "VIqbhtHht70vYbbmKPo7fnbnpHLReJj5550sf6fwlM3iJG3+YH75iJGp5cfnntKIXDQevq0Wtrjl\n",
       "92C4m4pQiQfvn48ITSO7aPz/xT4HjF+BKCmoREsXzAAAAABJRU5ErkJggg==\n",
       "\" style=\"display:inline;vertical-align:middle;\" /></a><br>(see <a class=\"ProveItLink\" href=\"../../../__pv_it/theorems/4308292eeeed80f9b5e2cb81ee59e915d912d02b0/dependencies.ipynb\">dependencies</a>)<br>"
      ],
      "text/plain": [
       "nonmembership_fold_singleton: forall_{x, y | x != y} (x not-in {y})"
      ]
     },
     "execution_count": 2,
     "metadata": {},
     "output_type": "execute_result"
    }
   ],
   "source": [
    "%proving nonmembership_fold_singleton"
   ]
  },
  {
   "cell_type": "code",
   "execution_count": null,
   "metadata": {},
   "outputs": [],
   "source": []
  }
 ],
 "metadata": {
  "kernelspec": {
   "display_name": "Python 3",
   "language": "python",
   "name": "python3"
  }
 },
 "nbformat": 4,
 "nbformat_minor": 0
}