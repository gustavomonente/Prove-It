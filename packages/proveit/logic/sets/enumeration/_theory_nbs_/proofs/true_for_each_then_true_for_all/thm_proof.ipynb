{
 "cells": [
  {
   "cell_type": "markdown",
   "metadata": {},
   "source": [
    "Proof of <a class=\"ProveItLink\" href=\"../../../../../../_theory_nbs_/theory.ipynb\">proveit</a>.<a class=\"ProveItLink\" href=\"../../../../../_theory_nbs_/theory.ipynb\">logic</a>.<a class=\"ProveItLink\" href=\"../../../../_theory_nbs_/theory.ipynb\">sets</a>.<a class=\"ProveItLink\" href=\"../../theory.ipynb\">enumeration</a>.<a class=\"ProveItLink\" href=\"../../theorems.ipynb#true_for_each_then_true_for_all\">true_for_each_then_true_for_all</a> theorem\n",
    "========"
   ]
  },
  {
   "cell_type": "code",
   "execution_count": 1,
   "metadata": {},
   "outputs": [],
   "source": [
    "import proveit\n",
    "theory = proveit.Theory() # the theorem's theory"
   ]
  },
  {
   "cell_type": "code",
   "execution_count": 2,
   "metadata": {},
   "outputs": [
    {
     "data": {
      "text/html": [
       "Under these <a href=\"presumptions.txt\">presumptions</a>, we begin our proof of<br><strong id=\"true_for_each_then_true_for_all\">true_for_each_then_true_for_all:</strong> <a class=\"ProveItLink\" href=\"../../../__pv_it/theorems/c0e525280c3ba84cb07653940bd29af3e1a343a00/expr.ipynb\"><img src=\"data:image/png;base64,iVBORw0KGgoAAAANSUhEUgAAAgQAAAAZBAMAAAC8+yvJAAAAMFBMVEX///8QEBCIiIhmZma6urrM\n",
       "zMxUVFQiIiJERETc3Nzu7u6qqqp2dnaYmJgyMjIAAAAcRTyBAAAAAXRSTlMAQObYZgAABaVJREFU\n",
       "WMPtWV9sFEUY/3rdvb97PR70ofal2qSQ0tpGSfwDNSUmpQ8Srn3QPjTcpbEkGISLolVAc2qih4b0\n",
       "NAYaEswKCWCNuEEKkoieVmIilKyRJ1JMH+ShvtBYQwCJ+s3M/pmZ3dvetiE+6IS9nfn67e/7zW9n\n",
       "vpkdAIJKdPRVqL2E8/53cTeMVuiljO4JdoyFgo3B3Sl3BTeRZxfs/1+C/5QECZPdU2VRgllivFo1\n",
       "eAO5pc1aqQaiLV2CMCw8Jb3j5pbtj2PluG3ZKkpwgdh+qxpcM/DWoNcqQSDa0iUIw8JbMvhi3sCH\n",
       "52zDCVGCcdIsVg1O/zRe84ANRFu6BGFYeEuuAvBNM6S7bIPWLEhAtKUiV+kUeaUXapYgEG0ZuSAE\n",
       "C2/p7MGrArGybUiuECRI/zgxcSAg+MzExCeFmqkGoi1DghAsvGUMrx09wPH6VVwRbpZKewKCZ0ql\n",
       "dyq1Z+4gNEg4tWwVjzL4uIRj4S1/YeQFgBasHm79sB1nwZQowQjA3oBORbMQL9cuAUNTxrY9+hwx\n",
       "KewvfTem3sYp4nbilPws89A4y6lAFur0YmwG7Pmo3gE4g6H34QyopF+IYXL8RZTgSUjO8tgvfg/3\n",
       "593gShdNoLVKYKH9BPADMcWtdWkFaAWIup2ol1VlHls5i+vix+L9xZeHbdY9cuPiVBved2Oa0rXb\n",
       "CuKeESWIQcRZcD+d6oYvNb1e5zpVgI4QElhoWzABcRJE8xCZhyHXNZmXvwOIh8qPdddFYkFIwteL\n",
       "07Fd4rfZ/R7EhDhdrnKiBJrp7L7S7x3U4Vxzl8YHn4ZCCAkstNcASpwEMZPEHuF85+RniUdUSBFz\n",
       "/iwoyTASZAqOBNho9pEgMfs04nYPtJBRjGVy8gNBgo9UdEw+tN2bwWQj8aZokLwFkV2cBJ+XYaVO\n",
       "OnGk9RqzyCOLesQEzA4PC61lYISRpP1zwPjiGm0JctZ+YDdtUPQN0jfC3mdRgvVmXZltbye1z4b4\n",
       "4PH9uKwey+Z0iErzjxrlvTxBA+VOO1vFLQk2fXfRgEQBki+pOCpJojwtMaceBwTM0x4WbdHZnYwk\n",
       "6Z8Lxr8WahQkINsCUjAdpvROiOiedAhf4Ns5uBIyepLKNQmVKT546hH8eRieAfVbSQJi9EhA0ECz\n",
       "E6wlwSW6OhShvkstwNB9ZAWQJKAefQJmn4dFtsEERpLkOheMT6LEyMrHVj69btHGXm0yxuAQVtdJ\n",
       "EtDpMQzrQX2lVHoTJTgUEzr1O15N0IotSQJqlCWgaPEuUYK3qAR5qDMiGJVMkc2SBNSjV8Dc7GEB\n",
       "mbJFchADuGBcYUa2trENyhN/D1unJABHHzjcTbL1NUmCNOnZvbBOhTwbBcqAEPwKndv7JmQJqDG9\n",
       "9mpF8KZoGUOU4E9KqYgzPn5Fp6x7JQmox6CA2SuzIGksy0iSUeCCCTkFjT+fm+FGgQPjbpALPucF\n",
       "iXnYOQnnSfUybkc9X+qN6h8mkSDxLozr9g8xpla5C4b7XZ8rCxKot6zAdeXcRvbiZjgc/Mc8jgGP\n",
       "6WGRmL+Eu6vz9kR3wFykcZ0aTxZj4F00qn4msYKDtB2XJXx5yus9EPV0qnd1C5VAbYL+stpIfpqY\n",
       "cUQterwj1x8TJHhwgUqyC5Thk91MgjXQbzCcRgLKPDAAh7lGxk0+/1S7TknS/jlgLlK/QY3R7KCP\n",
       "BO4m+ETAqdEqnGbVz2vIREg5LatWiFwOON2J843V1p1IgPnSkKEgYvCYs1VwKUmnfwTMRTKsBzp6\n",
       "fCQ4zmuxpIMztXMtwFmnedbaw6Wma5XAagwsGJAy2fEVD4WlyGGmzKCDM7t/FMxBsmpH4SvTRwL7\n",
       "4CxdXtbZoelTq1UCxX3kCBLxAd3I73ECzw75XJf2qXHfCMs8Pg11gu/jXS+03CHU5o/AjQzOxY9F\n",
       "YtEPlyEj+P8R8vRSRl/+B8IVxP4agKiaAAAAAElFTkSuQmCC\n",
       "\" style=\"display:inline;vertical-align:middle;\" /></a><br>(see <a class=\"ProveItLink\" href=\"../../../__pv_it/theorems/f7ab1b528162f0638fba7944e78fb65e2baf32560/dependencies.ipynb\">dependencies</a>)<br>"
      ],
      "text/plain": [
       "true_for_each_then_true_for_all: forall_{n in Natural} [forall_{a_{1}, ..a_{_a}.., a_{n}} [forall_{P | P(a_{1}), ..P(a_{k}).., P(a_{n})} [forall_{x in {a_{1}, ..a_{_a}.., a_{n}}} P(x)]]]"
      ]
     },
     "execution_count": 2,
     "metadata": {},
     "output_type": "execute_result"
    }
   ],
   "source": [
    "%proving true_for_each_then_true_for_all"
   ]
  },
  {
   "cell_type": "code",
   "execution_count": null,
   "metadata": {},
   "outputs": [],
   "source": []
  }
 ],
 "metadata": {
  "kernelspec": {
   "display_name": "Python 3",
   "language": "python",
   "name": "python3"
  }
 },
 "nbformat": 4,
 "nbformat_minor": 0
}