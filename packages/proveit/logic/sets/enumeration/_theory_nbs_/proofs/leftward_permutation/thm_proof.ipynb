{
 "cells": [
  {
   "cell_type": "markdown",
   "metadata": {},
   "source": [
    "Proof of <a class=\"ProveItLink\" href=\"../../../../../../_theory_nbs_/theory.ipynb\">proveit</a>.<a class=\"ProveItLink\" href=\"../../../../../_theory_nbs_/theory.ipynb\">logic</a>.<a class=\"ProveItLink\" href=\"../../../../_theory_nbs_/theory.ipynb\">sets</a>.<a class=\"ProveItLink\" href=\"../../theory.ipynb\">enumeration</a>.<a class=\"ProveItLink\" href=\"../../theorems.ipynb#leftward_permutation\">leftward_permutation</a> theorem\n",
    "========"
   ]
  },
  {
   "cell_type": "code",
   "execution_count": 1,
   "metadata": {},
   "outputs": [],
   "source": [
    "import proveit\n",
    "theory = proveit.Theory() # the theorem's theory"
   ]
  },
  {
   "cell_type": "code",
   "execution_count": 2,
   "metadata": {},
   "outputs": [
    {
     "data": {
      "text/html": [
       "Under these <a href=\"presumptions.txt\">presumptions</a>, we begin our proof of<br><strong id=\"leftward_permutation\">leftward_permutation:</strong> <a class=\"ProveItLink\" href=\"../../../__pv_it/theorems/605a13c54d44401255e1dd8a6cdb8a6c915865430/expr.ipynb\"><img src=\"data:image/png;base64,iVBORw0KGgoAAAANSUhEUgAAA8oAAAAZBAMAAAAbA8obAAAAMFBMVEX///8QEBCIiIhmZma6urrM\n",
       "zMxUVFQiIiJERETc3Nzu7u6qqqp2dnaYmJgyMjIAAAAcRTyBAAAAAXRSTlMAQObYZgAAB9ZJREFU\n",
       "aN7tWm+IVFUUPzv/582fXSorjWDczUWiD8P6Qct/axJLH9LZglRKXBbDCpNFyqVlodU+tBbRC0st\n",
       "EEaXtJTaSQXZJXTcDSUtGJRII2mg7IOViqnkbkr3nvvevff9fzs76gpe2Nk753fOueee37v3nfvm\n",
       "AfhrqzpVuNvuyBbq7Par2nE74kvNnXg5CzflbaQnSxM50M0TluVtAMpfE3JpTLLKvipO1EAHGMtl\n",
       "+u+MD5Z9KlapKT1kKV8cs9nnD1SIh9dnPVwvvVfrzLNiv45jous7xobzOHwFGlGR5eP0+zkfLPtU\n",
       "rFJLk+iSFWwgv1WK1xa8XI9q/49aoaPjmWl2jPjoWAJVysjyVvIZ7/HBsk/FKrWTUBnLo5Xii/Ne\n",
       "G+DIzWHZ6/Iy4zwOf4EOIctpMrtkwQfLPhWr1N6sjGWvFDjjnkTxaKrMstflZcY9s2IMdDuynDq2\n",
       "e/cWP9WXT8XqtHhHZSx7mTjjXlu92DmrzPLRMeJeO7wp0HQz1tj/9vZ2+2HZp2J1WiCrU7JpeKr7\n",
       "xR6f0zRFzLC9wXW7MeFD9TnNxzSPrX7T0Ard8LA9E4Y47H0YpqKP/Uf9bFcrIy7F4S/QZBZZfglg\n",
       "oy+W/SlWp8Xo+TNCKofQZLjgrrpATYtavP+ccs1N2YhvKcTKmo+Y+1ZPwvggbyiok+exsXWzxhyH\n",
       "g48L1rGVG/l+twdORlyOw1+gqTKyvBDrsAAL9yz5m5qxZ5kpetz3zvuSzc/Z2MrCKL0evyaC7SWY\n",
       "Rc45zlWf8jAECdrAvh3KwyU3bcQhrY3UDZGC7oNMbanzvEgY8/TMWLfMxCQeh7uPWTzRfOzECNRm\n",
       "XMwYjsTwOFwmaAk00YEsRyFAFk6YXS904GizZrFkTnPgfsEyU/Row75k/bbrTOrXkBiW0gpsfh7W\n",
       "QniG8+02OAJRMqdl+hFR+c9Nm+Jk5txU+CjCczOdp0XC6OaZWWVaBuF3VD0ODx9reaLF2GXoL7qY\n",
       "Ic6I0eNwm6Al0PBFZDlZipqyTVe88s2MUqLnGDwhWLYo2rU/fckO2pkeNLEMC8iSexCUK2Q7cJ5W\n",
       "TQ/056QaKjTqpo24ZCp8kAFbnKdFwrisZQbSbXZPmbQ43H1csY5NFtzigosZw41xuEzQEqjGcrz8\n",
       "vFERRzw1sBsSJ4JQFCxbFO3aNV+yYa9tAHfsSA9deYmLrtMiF/oh8e06XSQu2tfFIkJTgw/nVGth\n",
       "tFjvy4zxl/37MI9dW6Lrz9mM4UYfzhO0BhpiOzZsXEn6jaiDBehwuBFCuKW/sCwjsYyK0Nd41uqc\n",
       "C8OXGi3FgSRL1tPNrq/eZsUbhVh9kRpbGSU12IArywVYk1Cf1NbXZXpjctFGfMdsnkC2EzIfbgyx\n",
       "MGhmnGpsnz5YoqWxa5vJHd2NZYor2snAMx3WQLXqC/bR3biWEhEM0fLq7/39+TTe+HPHfpRZporK\n",
       "G2GyGF41+UYhtQ10kerChKIMn6fC6+E6NxdBXt0l9ZPUBviprYjTUm5QPspSBz9imdS6JBRHmPg1\n",
       "eJtdvlzRaIZ4dhGTBNugLyd8YKoNA4iRWBg0M07nZeHDZljhgyQaJXzsSCmWFWbWsBGnxKBEpMNh\n",
       "gpZAg0XGMi3hPj1AJV8k6ZK4Sm4vfYzlZDIrsUwVg9lwB7xoOhiiEOh1QuZaNqNUpun1QA616+xc\n",
       "1EGCV68h/anIzvpl7c3saycZIEoDXAdaJ9pF5tY+bfMj8T0dDO97rMSMKYSKQlvHFfWIhn9/JiN8\n",
       "MJa5nRiJSlgYV3POT0UkH3QgJx800YjzsZt+AGHGLbgZ4kgMxUU6HCZoCZSeJyjLqTxeA/pGGb7n\n",
       "PVJe9/b2ZhK5eKlDYpkq1hQCxGGXqQJCIauayEVqRqlM0xPadi6CBYcnnMhywnpQHBRXkoSj9qD1\n",
       "TMLt35fxQWNBMug8CGbG49lXi0egNNECH/RrRokRuNcE5UB3gfh9WRlB9mvJvhroaY1DhK1leCoj\n",
       "sYy3MDX2c95MEQr3UtXaPGHShFJZ6hfdvZuL6EcnDb9W1BmXtjW7RW7+mYSjdtH6dNNQDhYtPhjL\n",
       "RedBMDO2LB82+HALlCY6aRV7mdHMCdxrgnKgQxLLiXIx/i5AK2zNxzJLApCkpKeaIVU0sVyjrngG\n",
       "F+LWPDHQPlC4P0t60fwpRAXGZB/vohbpZsii9nI7F8uh5vSX/OJV5d+X6dEedlhrDX5wPZiUcKqt\n",
       "WB/tcByLg4zFBxwAOzshwcx4/L58wCNQkmiBC7GXWasB95qgFKj2y6Pmb7UafghgOrQW0mpkGgBd\n",
       "8i2/A7SZWA61752LFLUWwpOhVaUfBRRGclS2uogoccYwVZMtpBbxphN5TdvWxaIGMUF6ntTfFYnP\n",
       "vErmZH0kk+K9nd8JHLVTVipK4lKXTIXiprfawcZOSFhmQvfZHGqLsg+3QEmiBZ4Cv2bT5fg9JygF\n",
       "GlPB+EZQAm8a2q0xQO7LpiecUusCrsh7u0J6rwv44yWOHue9grOL+vQeLtlGndyc975imXEY27/3\n",
       "te8mv/e1odJAT4OJ5YHI01MgoTr+WiHas/8UJEWtF3lU61GUvW8koef0nvbd1sXjqW9vwS8hKz/M\n",
       "w53VKDHjaTLLpcgR1W4jsFnLht3ErmfaleKflHU05e7iFrTVr8CdxvIRtWosu7bOcb2PnRq++zb3\n",
       "bWuhznX/A442Ev4oMagpAAAAAElFTkSuQmCC\n",
       "\" style=\"display:inline;vertical-align:middle;\" /></a><br>(see <a class=\"ProveItLink\" href=\"../../../__pv_it/theorems/3b1c356fa5528d65d14b472dac76700f4513879c0/dependencies.ipynb\">dependencies</a>)<br>"
      ],
      "text/plain": [
       "leftward_permutation: forall_{i, j, k in Natural} [forall_{a_{1}, ..a_{_a}.., a_{i}, b_{1}, ..b_{_a}.., b_{j}, c, d_{1}, ..d_{_a}.., d_{k}} ({a_{1}, ..a_{_a}.., a_{i}, b_{1}, ..b_{_a}.., b_{j}, c, d_{1}, ..d_{_a}.., d_{k}} = {a_{1}, ..a_{_a}.., a_{i}, c, b_{1}, ..b_{_a}.., b_{j}, d_{1}, ..d_{_a}.., d_{k}})]"
      ]
     },
     "execution_count": 2,
     "metadata": {},
     "output_type": "execute_result"
    }
   ],
   "source": [
    "%proving leftward_permutation"
   ]
  },
  {
   "cell_type": "code",
   "execution_count": null,
   "metadata": {},
   "outputs": [],
   "source": []
  }
 ],
 "metadata": {
  "kernelspec": {
   "display_name": "Python 3",
   "language": "python",
   "name": "python3"
  }
 },
 "nbformat": 4,
 "nbformat_minor": 0
}