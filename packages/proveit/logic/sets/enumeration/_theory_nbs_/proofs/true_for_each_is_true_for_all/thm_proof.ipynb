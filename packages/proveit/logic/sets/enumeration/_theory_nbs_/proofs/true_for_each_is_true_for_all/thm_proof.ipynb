{
 "cells": [
  {
   "cell_type": "markdown",
   "metadata": {},
   "source": [
    "Proof of <a class=\"ProveItLink\" href=\"../../../../../../_theory_nbs_/theory.ipynb\">proveit</a>.<a class=\"ProveItLink\" href=\"../../../../../_theory_nbs_/theory.ipynb\">logic</a>.<a class=\"ProveItLink\" href=\"../../../../_theory_nbs_/theory.ipynb\">sets</a>.<a class=\"ProveItLink\" href=\"../../theory.ipynb\">enumeration</a>.<a class=\"ProveItLink\" href=\"../../theorems.ipynb#true_for_each_is_true_for_all\">true_for_each_is_true_for_all</a> theorem\n",
    "========"
   ]
  },
  {
   "cell_type": "code",
   "execution_count": 1,
   "metadata": {},
   "outputs": [],
   "source": [
    "import proveit\n",
    "theory = proveit.Theory() # the theorem's theory"
   ]
  },
  {
   "cell_type": "code",
   "execution_count": 2,
   "metadata": {},
   "outputs": [
    {
     "data": {
      "text/html": [
       "Under these <a href=\"presumptions.txt\">presumptions</a>, we begin our proof of<br><strong id=\"true_for_each_is_true_for_all\">true_for_each_is_true_for_all:</strong> <a class=\"ProveItLink\" href=\"../../../__pv_it/theorems/dff2c5c12b7e2dd5431a2d39ebe9f8f678858a660/expr.ipynb\"><img src=\"data:image/png;base64,iVBORw0KGgoAAAANSUhEUgAAAnIAAAAaBAMAAADBOKy4AAAAMFBMVEX///8QEBCIiIhmZma6urrM\n",
       "zMxUVFQiIiJERETc3Nzu7u6qqqp2dnaYmJgyMjIAAAAcRTyBAAAAAXRSTlMAQObYZgAAB1NJREFU\n",
       "WMPtWX2IVFUUPzv73ny8mdn1D4NWCUatTcrYQYmsdmssaP8Kxw3SYGGGRQ1F1sXKLbOaDGpMZAcN\n",
       "E8F8Gmyy0e6gLCb4MbhF4EeMKX2hMaQFBrVLmum0aPfzvTvv3nkzs4tLf3Thvrnce+e83/3dc885\n",
       "9zwAt+LtfQ1qKC/2ZlTdegymuNSIu6rS3psDD29ovRvdZ/tqE96j7n5+qomrFXd1JZAELckaADum\n",
       "grnfUN0tQsjb7WCm1gWIkuAwq3eIOY6UoMSEnRGYK+D2xfLMuY5LzKlm10cAjBRqfHv73ZWXTID9\n",
       "4uiqKhcRXntjZfdjTJJ9LDO0Tg63VCSkqxhhPtNm7hTXijLMuY5LzKlm70FvayCruwXgnwFwRRwd\n",
       "5NtbRqZFSyPi4m2TSeLFKNA6OdxycSIdZIR5ojZzO3EzVZ4513GJOdXsEVTPEU8xjvT+TwhHxdFQ\n",
       "hP42RNUyL/FGIgdwPEIl2eUEq5PCLfs0J1KMEhMWGLOZa0AaEcqWZ851XGJONXsmqsTVea6hOg6+\n",
       "Uq2ZRn+XbVCv4T2TtVqQh27JgcNp7mV1UrilIiHFKAlhr9vMhU8ODHzo4iFcxyXmFLMDRVSJ7/Cj\n",
       "DfNeA8f4ZfqzfLY6vniK6ST0obo2FnB4oYYYrZPCLRUZ6WVG2ELBt95Ipze6+Va3cdm3yrPD05h5\n",
       "IJZqTxTm4Je3zp8hHGZsrNT+cNBy2Mj0BK5SSdtHZnFNDEVpnRRuqQhI9zV/MC9CUBLCZgnMrQDY\n",
       "7Mac27jMnDy7HqHw55mlCqLFbEXNRZmGMTb+E2Ugqz5ap6ipp6bnUI5I0ppg1NqXAq0AX/+By6WJ\n",
       "4JaKjdTIhdf5CgQlIWyxaTP3tMo5Ccy5jcvM0dla35qFq7nmIzPtI6y0rDk93ySmwrgH6lH3Mtx7\n",
       "iL0pUFCL/IiZnuunRx6gkvbmyaGhkVYPrVXg7sxXgN9h7Z2NNGSGilqGoCSEJeI2cz7wiCL1l76A\n",
       "WUkBgWO8AnNs9lmAr7glQsLqiCXqo0dsOtLDIvgi8NwjZH9J5zdESeQoLgLeON2AIvnBkp40YZ0F\n",
       "d4xWmTkn7sCMivjX8IaN1CA7T1ASwvbEbOZCedvCfDrSBp+HzHpTQCCOV2aOzV6J9o3LiHLm/gaO\n",
       "py4FQ4iQdpu5DepLGoo8dbqNjT0Wc3eD8Vdl5gTcxpEFeQhWPjnHeMNGil4cEZkbEpgLFCzI4S27\n",
       "TDgaiYZEBMJ4Fcyx2W8ApMEO1Mhp1a/SDnQGhnJwHBhz5BGMgiPGpeUg8HA0Qd0AkmSMQ9DiSuuh\n",
       "ldu5X1W4vz88ALUwJyCl55OglHQONi9HnLV1zMGmAZXh4W0lzJFx+Lj5F+lFxvzuuHRvJbONm+Dh\n",
       "8Zk/yTwEDpJwQXZ3KAvd6C7YbnkIzFpQEQtfYezRcA6IJOMf8BYOU8SCh5DurQTJiYeb4xoRjJlT\n",
       "rULoPCaEcwxp0GwBj2l7iERGYO4gWnB4Ub4uQ+96w6HPOksQ4HHjFR3ZmdWlr/wknjAl5vBs0Mbn\n",
       "nbIishSLGxqKVhjij4TXh5i6tZI4mJ1YGMLXqVvAHnoK2F0RRk0rCtkE3yVzFDHU52hVMIeReMxu\n",
       "X6wBGHPKVdDOEuYEpIuzfSTH0KrwreQg77ofGk2D7M0w5EZKEODx+qjeA50OG7sAlsq5EmIWQoIW\n",
       "eKbR81Q/ep0GtYgvo+u+Hfcy5siGY/UAHAv7MKr1wB5erGge/LcnbndZp7N/9gtdMYIYLTJOq4I5\n",
       "jESH35FS0R3MqVdBOtmFhNoLEWn/7H1teYqSEHZWzDKF8W52wSLQX02nNyHmdvtKEODxuqwnSZWi\n",
       "5FrVLDNHpPmFg6cV+e2LC7XsGWbOILDJUdSlg6SRZwkxliSMGOk9qwrmCBK4CbA0nU5H9HfKrIJ2\n",
       "UvvmCJ2F21eP4g5By13QqkOS6pzWIeW5hjL+H03HO5Ex2zoQfvxiTs7PNYpR7XR+4+d+KCoyx2/8\n",
       "1ZZzJYjL3/gt36uDl+ucahW089zRC7bOKZDyGz/87GQuMAYvD8OXuHke4IKEoC6TeBbvVuB92Gny\n",
       "R5N+LR+cK+QzrVZChIANmV/ssEL7Q0KWqeorZUZEXD7LxDJcoUIIQnFm5/gqhDXsNEnngZRPjEok\n",
       "pDzLZBSdzGlJmJcHP1IV7c0Y2yQRgdZ1oA2/U58JSzJ6E37MhGcenJOHFXpKYs4z+qjw+iXgyEfy\n",
       "fOH2t7pqvyFxSQxxxrErDtz950+cBNjCmOOrgCVZugb0yJJOb3yZirn9IoWYsHCyTDZ9LrJzLllp\n",
       "9M6gnQdnbHnOV8ime7Mu2fTw5LLpP7Dqnk33IDtnx3P4tNrWJMv+8FBMwRxHGubZdF98Qt8hOq5m\n",
       "haQ/bRnJ4JkKzFV97b2zX3A4c3gV9tcP1uqHI3kFc84vONSOTewLTl7RqvQF5+B/gjmjSdB0RUu8\n",
       "t5ZjjiaZq2Kutu+WvervrcHYlDOnwr2tUuKi0zWF3N6bBHKhxw2tdz38XyZY/gWPQFIKP+ekGQAA\n",
       "AABJRU5ErkJggg==\n",
       "\" style=\"display:inline;vertical-align:middle;\" /></a><br>(see <a class=\"ProveItLink\" href=\"../../../__pv_it/theorems/a21e02cc3d73112898e849dd8b051ddb75468b0f0/dependencies.ipynb\">dependencies</a>)<br>"
      ],
      "text/plain": [
       "true_for_each_is_true_for_all: forall_{n in Natural} [forall_{a_{1}, ..a_{_a}.., a_{n}} [forall_{P} ((P(a_{1}) and ..P(a_{k}).. and P(a_{n})) = [forall_{x in {a_{1}, ..a_{_a}.., a_{n}}} P(x)])]]"
      ]
     },
     "execution_count": 2,
     "metadata": {},
     "output_type": "execute_result"
    }
   ],
   "source": [
    "%proving true_for_each_is_true_for_all"
   ]
  },
  {
   "cell_type": "code",
   "execution_count": null,
   "metadata": {},
   "outputs": [],
   "source": []
  }
 ],
 "metadata": {
  "kernelspec": {
   "display_name": "Python 3",
   "language": "python",
   "name": "python3"
  }
 },
 "nbformat": 4,
 "nbformat_minor": 0
}