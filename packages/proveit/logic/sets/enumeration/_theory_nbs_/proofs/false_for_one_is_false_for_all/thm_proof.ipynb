{
 "cells": [
  {
   "cell_type": "markdown",
   "metadata": {},
   "source": [
    "Proof of <a class=\"ProveItLink\" href=\"../../../../../../_theory_nbs_/theory.ipynb\">proveit</a>.<a class=\"ProveItLink\" href=\"../../../../../_theory_nbs_/theory.ipynb\">logic</a>.<a class=\"ProveItLink\" href=\"../../../../_theory_nbs_/theory.ipynb\">sets</a>.<a class=\"ProveItLink\" href=\"../../theory.ipynb\">enumeration</a>.<a class=\"ProveItLink\" href=\"../../theorems.ipynb#false_for_one_is_false_for_all\">false_for_one_is_false_for_all</a> theorem\n",
    "========"
   ]
  },
  {
   "cell_type": "code",
   "execution_count": 1,
   "metadata": {},
   "outputs": [],
   "source": [
    "import proveit\n",
    "theory = proveit.Theory() # the theorem's theory"
   ]
  },
  {
   "cell_type": "code",
   "execution_count": 2,
   "metadata": {},
   "outputs": [
    {
     "data": {
      "text/html": [
       "Under these <a href=\"presumptions.txt\">presumptions</a>, we begin our proof of<br><strong id=\"false_for_one_is_false_for_all\">false_for_one_is_false_for_all:</strong> <a class=\"ProveItLink\" href=\"../../../__pv_it/theorems/f5bf290acd6dc3ef2036df06481484348d181e040/expr.ipynb\"><img src=\"data:image/png;base64,iVBORw0KGgoAAAANSUhEUgAAAyYAAAAaBAMAAACwSVVKAAAAMFBMVEX///8QEBCIiIhmZma6urrM\n",
       "zMxUVFQiIiJERETc3Nzu7u6qqqp2dnaYmJgyMjIAAAAcRTyBAAAAAXRSTlMAQObYZgAACNBJREFU\n",
       "aN7tWn2IVFUUPzszb97Mmw8NjFpFGLUsUttBCSNXGxE0iHCUUKNihyU1KXTKcvqQ2JJstoiGChOh\n",
       "9mmw1UbuoC0mJE679Y8fMX5kH6gMmUJBuqhZblLdz/fum3fvmzdRkNCB+/bsO3ffPef87j3n3nMX\n",
       "wINWFkrgn8KFp6Xv74WrirRMs4b7ogWFikqUQi3A+4QK6z2/k29qVF1hY+7qwmRJ04b7o6jSD/NR\n",
       "C+WsPpv+fUySJnq8zRonkd+t/OJu3/ZW5TzElPMdS6TSn/45TLgqZBw1JnHc7aCASQ3zJ1SYJPGP\n",
       "RNUnJtLe01EzumhLrPltxeo7KG/HPJln7ldKZPQ+asf+3LjilEl5m1bJVm6ZSyTSYIoY7uWWhuRS\n",
       "ZZUKE2ImPIO9Z9qY7OdzQ4pJvMxnuh9MZL2jI/hdiTYYhWx93qQ8J6Mm+dgOW6KRF1lXl6wt/BE/\n",
       "/gCIjGW8RdtlSyTFJRJpj0kM93JLY6pXZbsKE2ImTMIJJW1jshmzXSpMiGSz39gl6x3HYx1hDTpQ\n",
       "otuborxFg0pliSSMnZ9Iubosx4/DZGniMbQryNvnKS8Mn1JhgiUS6RA13MstjbcJ9argcTww6cGD\n",
       "DduY4GlN5rc8n+Cpst93PpH0bsHffpo1aEObmrYKODdoW5XKbrU2CbopTcZk2YOOl13gImpXKC8s\n",
       "wtEqTLBEIh3HgraHWxqSSxU8jgcmOh7oWRuTxL6+vrfUOf54X98Hed+YSHrjWBDN0wbwGmprMlFn\n",
       "n2RGpSyV4BAwT7J5QCaHyFQk+kfQRAtfhHpbflBhQiQuKQm1yHAvtzQktyo/eGISxAvydmHf9Vux\n",
       "uF6Nyahi8aWKb0wkvQ+xWEniJQ600QuUf2NogimEN6myVLITtW6Ja5EwUuLxmKSqnjTho+3Txzpi\n",
       "kRSTIZk0MZoZ7uGWhiSosm3ym1NTZBwPTAJ40AkCJsulBnNMUDCPlHxjIuk9B8+bKm0k0O6qED7U\n",
       "Cue4H0gq//IsplMOZakEfVjrkqu3jDCvslQVW0/5uaXkMO90kmBLvn027cDkpEwarLEve7ilIdmq\n",
       "GJXE43qNjMMwkZkZwotzoWljMk++8WGqoeCw3f/5hPW+69LQRh7/iyxekpgZuHRg6BbKb63i1Up8\n",
       "HcurJhCVBFIQloQ3mAjwEGGeJanq0QPTTcIb42k0ILRLuU52yaSRLma4yy0PNDoRaFM4Z6sSN+Mj\n",
       "oRIZx2OdaL9gILM2JjoExNG0tZ/DhJx9ZszDtCbOjLQ3CgBx7uczOM9naIPICM37iL/ThMdBm4G7\n",
       "acNKZYnEyMvnxXvcbWNIqjI5HxwB3dpQdSgx6ZBJkzlmeJ1bIDq2cXGJh21bFYOB3OGJSfQiTrwZ\n",
       "G5N41T6Afzg0Gz6Jm0HTxuSg70OtbvUO5yDA/bxWxGRU3sLkejDQ7Aj5wQRmybd+wTLbGRFMfgXO\n",
       "t3RBf/ZvYqKnmeGCW4xPZ1QhVmvoAKuLrQoyOdUYEwNj0i9gEq0tsRLcK1tM2JNKx4Xayju+61W6\n",
       "1VuvsumB6JQYuzrSfO9nXIHYMMOEPFigPeMMtBTDd+TzIlpjbsOxS7tg8f0V2GvX/oSMkXNgskAm\n",
       "TXJMBLd8s7sPmsFEUIWGJDKOI5+c8V4n0I2CcmL24klswzkw8LqISWQT6mtMX+0+R787+bQLE9Ib\n",
       "+ktwE88nG8Uc30bTAuKN3yFc202dnqipJhCTRB5MSZ3w4mGwcjw+EzC+vwyrY6UjX01M8ywuXScn\n",
       "ZdIIj13ELTB42+Qs3W9jh0vdYL/kmAiqxMw2CJhijpeGg8sYvJKAyU6kQWJutaVEizwD8Y8eEDCJ\n",
       "zcSRO9thQth5bDOe1EZcmJDesHDwgHXcephtacm29pxpbXFfgK9zFYpJsKLcuFOJtpL8nfEHf/RT\n",
       "65c8Y+93kyMWH0kl1sXh6HhoRb+3KzFpl0nDPMcTtwTM1XomaTlc5gb60oGJoMrC8muk3truiYlr\n",
       "30Ui3pabYJRpkAkxAJUhsS58HrUZsBS0z5zKBNNa3l0XPk/Wp/B2AgtBuM35s9MKSb0T7+vMUEyS\n",
       "9ZNvZqFwTaGwzpawreM6/tCpfcm0FZ+C5y5ZEcnovHHTDdFtecCmnq5PQoXCY9cVCjkqOe06gvPz\n",
       "CXGLBj+jeGAlcJkbyEs2S1vpCIIqvRO3za7ScdyYWGaSQ9EhsVafwIN0wlzQnioWX0CYvK2LmHxH\n",
       "Cg6TXeWNlnIg58YE94YNwlsMv11bYWTxBJP3lBGaS7YoauFMI7GeYvHhVGg02bMpCEvc0tAIN5y4\n",
       "BVBUWVosFlPaBoUb6EtKS50LXqit5L1q9e5zPKVroV2DHF0nocV19yfGZXi1r16Z/lLkO/PInuOS\n",
       "+5PfRegyYg2S0REHJoNKZQf97S7EuqPFt2SDlay0BmnXBSXSMY6LI21YgzBfJ1I3kJeJWScq1jqR\n",
       "qKWsQbJgh9X4vh6T6DA8MQBfYPYowPE6TKBVu1jFykRfhs0meWw2W0od98COLt2NCUlZ1hzAcwcf\n",
       "7sUDvsXjQ6HyyOohqaNuCd8D+t1ZjwOvolbfLhreE6/FIZ7lycLtBvTAL2M34z9xbc26G9bq2fRG\n",
       "MBsj9ZiEcjAVbWBRZg49l2EzQ8Bk/pRJRBltHCwqaa3osagc6twxG8LZZW5Mbr0guF8bLdxpWc5m\n",
       "fHQmCr3q2k2kmTuten4+BA561Ue65VW0RaLhvUcH9wG8wjFxuwFx5OVyXJBwYfK+OJYHJsfwosqB\n",
       "/O73ZpRPnLUVMTwiNGPWb2WGw7SMO3Y56BH88Lr7/Vap67d+C0zKu9+EElUskUnDZZfhAZRPbIc7\n",
       "3cC4fOCoBBOuSsL77heexJ/NQvP38VrbLOGGnF1l98Kn1QaY+C2X/UeIxMu8x4HQ4QbGGbnYwUbH\n",
       "SjUmCRzejwP8zf+RsABIyM/xIC+pX020U46JI4FXJZxQ72oSE/tO0wcmhab+zUlX/H/Xx1cXJrGM\n",
       "3PDXG9aFPe9jFxSUmNyBt0Im6xMqrIP/6T9HfwHcBuewm4006QAAAABJRU5ErkJggg==\n",
       "\" style=\"display:inline;vertical-align:middle;\" /></a><br>(see <a class=\"ProveItLink\" href=\"../../../__pv_it/theorems/8da549dd2a93b23b6966c7945dca9cb7fa915cde0/dependencies.ipynb\">dependencies</a>)<br>"
      ],
      "text/plain": [
       "false_for_one_is_false_for_all: forall_{n in Natural} [forall_{a_{1}, ..a_{_a}.., a_{n}} [forall_{P} (((P(a_{1}) = FALSE) or ..(P(a_{k}) = FALSE).. or (P(a_{n}) = FALSE)) = ([forall_{x in {a_{1}, ..a_{_a}.., a_{n}}} P(x)] = FALSE))]]"
      ]
     },
     "execution_count": 2,
     "metadata": {},
     "output_type": "execute_result"
    }
   ],
   "source": [
    "%proving false_for_one_is_false_for_all"
   ]
  },
  {
   "cell_type": "code",
   "execution_count": null,
   "metadata": {},
   "outputs": [],
   "source": []
  }
 ],
 "metadata": {
  "kernelspec": {
   "display_name": "Python 3",
   "language": "python",
   "name": "python3"
  }
 },
 "nbformat": 4,
 "nbformat_minor": 0
}