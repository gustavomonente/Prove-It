{
 "cells": [
  {
   "cell_type": "markdown",
   "metadata": {},
   "source": [
    "Proof of <a class=\"ProveItLink\" href=\"../../../../../../_theory_nbs_/theory.ipynb\">proveit</a>.<a class=\"ProveItLink\" href=\"../../../../../_theory_nbs_/theory.ipynb\">logic</a>.<a class=\"ProveItLink\" href=\"../../../../_theory_nbs_/theory.ipynb\">sets</a>.<a class=\"ProveItLink\" href=\"../../theory.ipynb\">enumeration</a>.<a class=\"ProveItLink\" href=\"../../theorems.ipynb#nonmembership_equiv\">nonmembership_equiv</a> theorem\n",
    "========"
   ]
  },
  {
   "cell_type": "code",
   "execution_count": 1,
   "metadata": {},
   "outputs": [],
   "source": [
    "import proveit\n",
    "theory = proveit.Theory() # the theorem's theory"
   ]
  },
  {
   "cell_type": "code",
   "execution_count": 2,
   "metadata": {},
   "outputs": [
    {
     "data": {
      "text/html": [
       "Under these <a href=\"presumptions.txt\">presumptions</a>, we begin our proof of<br><strong id=\"nonmembership_equiv\">nonmembership_equiv:</strong> <a class=\"ProveItLink\" href=\"../../../__pv_it/theorems/152f1c027558a9f9f607f7f97145b660a75ac3c00/expr.ipynb\"><img src=\"data:image/png;base64,iVBORw0KGgoAAAANSUhEUgAAAl4AAAAXCAMAAADtN7E5AAAASFBMVEX///8kJCQoKChjY2MJCQkN\n",
       "DQ0rKysPDw8WFhYQEBCIiIhmZma6urrMzMxUVFQiIiJERETc3Nzu7u6qqqp2dnaYmJgyMjIAAAAV\n",
       "LBabAAAAAXRSTlMAQObYZgAABixJREFUaN7tWmmXpCoM5a3zBGRH//8/fSyCgGxaVT3n9Gk+tExN\n",
       "gJtwTUIQgG/T1vyfGukProWgAD/tgw1u2/o1K3GdPxuNpv8Qm/osKLx47SV/qxJA9Wk7u9x96z5F\n",
       "FCFFaEdHbxSD7Xzd773tCoPng+80wfJny6GQzHftnyY9OpQn/I1KAL4NJiL8M9Z9jihCitBCx1BE\n",
       "ySC1idv0ejz4Ttt4/mxtN87Q0U/TK6wgtjcqAQge0aFc7ibdeAPYc0QRUoQWOoYiPLCXM3CbXo8H\n",
       "32ga5c+p2PiF9AIKvk+JCTuWy23o3suKqsBeQRQhRWhHxwW4w++cnmieXo8H32iU58/q7jH63y+6\n",
       "/R56ieU9SjhXMU5ni+VWRu8EjlKcDp3XRIIdIEVoR8dSRCthG7+7H45eTwffcOY0f1ZNZo5xjP8u\n",
       "7wU2/AYl5oNAvhzBEN5AXYgPN24uLAVIEZrvOIrszDaqntDr6eAbB1SUPwWEhGOYhAhhXWiZksTM\n",
       "CCIryZenuWFzAhW9iEKvK+EbWyeWzpazet94k0rxEaA5RBFShOY7jiLe/TH+iF4PB883prOnMETW\n",
       "FIIkErpzSvkKk5BdAmxpAB8fJJsTnGdTfWJRW9LQtBLHsD//yYY1ltZZEiBvZSaleNOqtxBFSBGa\n",
       "7ziKYDR9/rnS6+HgG6mXzJ62CKN2AfBJaFY5ucqjKsWlLyAw5oLog9icTtBIkiV9XYmKq2hhz5aj\n",
       "U6WDpvgAUA9RZm5aQPMdTxHbhc261UqRFYMLqdFrMPj1tuDsKS7arYt5v/51b1mSvx52MuKL9Ws7\n",
       "BCtCD/KxZIJrHkP9j+v+shKVyl0Te7qchrPpd128D6iDqJDbC2i+4ymidDV+C6mQvViRzLEbiSq9\n",
       "GoM/RS9w0c4ln2V8CDV10zMvpdHW/hM/wplMUHgvUtnvh0qAaopRx54u54+BBQs6zqsU7wPqIpqm\n",
       "l/GWFYCaSS4sHGk4j2zcrdKrPvhjwRFctVtAheAkvIvOm0OXhj+jVzJBI/dK5s1yLzKthBv2x1IO\n",
       "q2NPuhJN1kZb4k2rjhFlrKMFNJwER0PSozSrkV6hP03gmM/JVa4ctuh1DgYKohUGz4shia9L3zv0\n",
       "BYusWAqfWCY3yuYwg1GzbMBI+POQXnGCxDj5yVEPc5+xElWO1LEny4Uhcq60ehXvAuohyo3RS+3t\n",
       "cgd4jRez3mJnPXWQqwmOem3RKw422Mx5jQauAeNHV7sFRAyOZkGw/t/ZmRfvErC9uIel8pp8RHoh\n",
       "YkfpZIvEHi4xLp3aT3GCxDh53QsNyzITSlRekQr2fLkz3w9vZ0+3ingXUBdRbowAKULznUCRI+5y\n",
       "Aa0WNr4KlNLLcOBS3AljY9A2YlvEx4U1CGRgVf2SUxRsObfM7woCoYAov0AX5G8smjV1MwLtPJ2K\n",
       "BuvS4PVjJ/kp7tgxQWKcsqw6zKwnlKjd2lawZ8ud14GxLnNV6dStIt4D1ENUGCNAitB8J1BEh4kI\n",
       "BL60sVJXL2XQ08vwmrbopU8Ue+JNLYHtdMMAGQUbydf4PkX/pRil7Uuh4+OGuEVypsaaCvkJonEK\n",
       "Ak/E3LESrfhWYk+XS8r3M2fHmnjHqn1EqTECJFGYRJXXGfbAZbbb/CWZ9wJ4hS165QeIEzj20w3p\n",
       "dQhqJLWuhJmJ2+BKVTdkRra8Knacb9HUHYO6THAaJ6PXe660K66iin1qufnWsWofUWqM3pV2Fql2\n",
       "t90uHEaeaCek1YBeZqza3K5wZoHR1UTpM9C7H2t/gqC0AZJ2yNO8Gqh9shTOddQ4fAbzop+Y2aAg\n",
       "dE6QGCdxK5M15ZESskL5Gva3l7CbVu0jSo3R+yAnd5/WZ0HlYjCTITz7+0kyoJcgGitoK2TrIt1c\n",
       "kG1JscX+uNpcMP2TCpr8vFpXH36JV63qHl+rYpMrHAV8RHcfg6eKwDoebMMEqXFsYMCD/bmlRO17\n",
       "uRr2t9+/Na3aR5QxpXx1GG8GuGTXjtyr9d+0ndIa1ggejr0hOMqBoM3wdQ3Q6Dti1kgdvuRbe/2e\n",
       "j6Hx5ML6yz6GnkUUIUVoRwduFH/E+PZja6IAtj5phTuS4ceeoCDWIX+QEj/tmzTLEayVqkaboeBP\n",
       "+z7tf1SCfX4Yevz/AAAAAElFTkSuQmCC\n",
       "\" style=\"display:inline;vertical-align:middle;\" /></a><br>(see <a class=\"ProveItLink\" href=\"../../../__pv_it/theorems/bc26a33c428ce52baecff04465965cd561c0c8310/dependencies.ipynb\">dependencies</a>)<br>"
      ],
      "text/plain": [
       "nonmembership_equiv: forall_{n in Natural} [forall_{x, y_{1}, ..y_{_a}.., y_{n}} ((x not-in {y_{1}, ..y_{_a}.., y_{n}}) = ((x != y_{1}) and ..(x != y_{i}).. and (x != y_{n})))]"
      ]
     },
     "execution_count": 2,
     "metadata": {},
     "output_type": "execute_result"
    }
   ],
   "source": [
    "%proving nonmembership_equiv"
   ]
  },
  {
   "cell_type": "code",
   "execution_count": null,
   "metadata": {},
   "outputs": [],
   "source": []
  }
 ],
 "metadata": {
  "kernelspec": {
   "display_name": "Python 3",
   "language": "python",
   "name": "python3"
  }
 },
 "nbformat": 4,
 "nbformat_minor": 0
}