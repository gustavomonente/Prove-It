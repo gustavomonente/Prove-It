{
 "cells": [
  {
   "cell_type": "markdown",
   "metadata": {},
   "source": [
    "Proof of <a class=\"ProveItLink\" href=\"../../../../../../_theory_nbs_/theory.ipynb\">proveit</a>.<a class=\"ProveItLink\" href=\"../../../../../_theory_nbs_/theory.ipynb\">logic</a>.<a class=\"ProveItLink\" href=\"../../../../_theory_nbs_/theory.ipynb\">sets</a>.<a class=\"ProveItLink\" href=\"../../theory.ipynb\">enumeration</a>.<a class=\"ProveItLink\" href=\"../../theorems.ipynb#reduction_right\">reduction_right</a> theorem\n",
    "========"
   ]
  },
  {
   "cell_type": "code",
   "execution_count": 1,
   "metadata": {},
   "outputs": [],
   "source": [
    "import proveit\n",
    "theory = proveit.Theory() # the theorem's theory"
   ]
  },
  {
   "cell_type": "code",
   "execution_count": 2,
   "metadata": {},
   "outputs": [
    {
     "data": {
      "text/html": [
       "Under these <a href=\"presumptions.txt\">presumptions</a>, we begin our proof of<br><strong id=\"reduction_right\">reduction_right:</strong> <a class=\"ProveItLink\" href=\"../../../__pv_it/theorems/cb0a4efae77aa2cd7b448f71ef5485fede2e258d0/expr.ipynb\"><img src=\"data:image/png;base64,iVBORw0KGgoAAAANSUhEUgAAA90AAAAZBAMAAADecVCKAAAAMFBMVEX///8QEBCIiIhmZma6urrM\n",
       "zMxUVFQiIiJERETc3Nzu7u6qqqp2dnaYmJgyMjIAAAAcRTyBAAAAAXRSTlMAQObYZgAAB/RJREFU\n",
       "aN7tWn1sFEUUf73eXu/2PtoQ/ABDsrRSSaOxgShoAQvGNJgIV0j4UBOaBoIQJBejNDREK/5hkZis\n",
       "IREkQVcaUdFwK5CQNkaONoFYMV5EA1GKjQKJKNigEm2FOG9m73b24+b2uIOWhJd0Ozfv92bezG8+\n",
       "3swugDdZ3abCbbnFpakt5RWaGA3/orPHcu9J0zSX3BPpMefo4rpMKtQyZvneBSD/Prani/8OZ96+\n",
       "1Bh0dG4cIKwyvgcxY8AD3x6BJRK5g0zvoWIKeDVRlN6LzHFm/VRMeR/dVZw+l5Qjd2sY319hxgUP\n",
       "fHsElkhiZDhGimIkVl+c3oMc85RVgPxSpD6H0I7cx/jegf86PPDtEVgiOQHF8l2pF6cfDb5HitSL\n",
       "+I4olO8YCToiuge+PQJLJBuL5nuhVpx+FPj2DxenF/ItV1G+o/179273Eq95BJZGQomi+T5WpH4U\n",
       "+M7X4OvtEGZ3lsXn/3R2bvIUn3sDlkZ89Rk3t/VNFk9EC0CuXjOvlyXPVzcI7Sx6zg56q+NCQ1N/\n",
       "xJ3v0KxpE8WjmQdwVcdaa4QLqE3v2dFIFT77GN+rALZ44tsbsDQSxFNsgISV/gnwh3iNswA+hZPK\n",
       "y6wbr2lJ0RWRVW/awXY9OCiqkNOzYDxyiQoL/9bj8UeNiU8WFgBXdfKC/K/Izqr37ig76JxhfD8O\n",
       "8qAxoQDOkb/JijvfDOhtI7rkkrlg0DvfFTiOPyPD8/00zASQcseJDGC4D/3wjTafpsLDUKnAspx2\n",
       "TE8bbLGDTRDQBXZU7xuXI8QPkyO5PAnKib+5izAANY6qD2twWdRWqodYvGBHaVx/iPFdAT4ymSQ2\n",
       "1rGbKxoNg6WzGn13mnwzoDfpc9tFCjgAlREflmHM9pgGL4A0PffGRQEZ90GDTvPMmUwtniE6kyZT\n",
       "rMFWO4yJRHY0ZnqR/VhtmxrS6ypFVCh5iiAAWG6vmpzn5f9EbUU9GVOFOxogXQQrGN+RdIVt1cDt\n",
       "UP58ejrc0Q+Pmnw7gAL5zW330Qvjm14L3Q3y32S9yN0HDGDKZfN4vVCHJtHxe6HuYldGp1duO6qX\n",
       "WaAca3G7ciOIZDxPEcm4S9VkGvpHRG2lergOR8+DyXdocIkVSIs41b0Xwt+WQ8rk2wEUiNs2VKkW\n",
       "uJ4HOnA8h4dEfBsAc4ZlyK9M49TP3R1M77RLpsTdSPWGP5b9m3H/HEUczlfEYTeX4SpOSgHfV41J\n",
       "W6ijbP9uMu7Pt6wk+bW082j41yfVgh/X3vAzyxWObwqErtpzzrLNzN6HasnQlS7XOoPqFdVrzcjR\n",
       "LZq0x2skPpdHSNTWLeKbApj7RHp8Q8DeDlQ2km1SxDfq5Uy8y9mlcZEXjhPQI/WLWnLG50kd1odV\n",
       "ERMUMK/FXjX8hdGIgG+q390AhTrK4nMjXoMDuFZXIj/lfgypLh5MajEafMT7v+f5RqD8kkSG2Fpb\n",
       "p9NMtPVp63H797WTAMoGgvu0GnaLSyKEZgjYBgTmzbHu9Xge2wwnW1K0D5JYPj7ka3yCAtB9zPGP\n",
       "BIdCaZoMpIP1lG8rPPuL6rHBmMPZlbdAV9xiZ62U6mM/Pjmc8/wdVKIbIiAoggFSw/aq4Xl4DbJt\n",
       "dfGb6usXQKGOsvP3LINvDFN3HsKcjyP4+wqZoF2M70g2xkoYwPJ6KQHP2o6XNBOQQAku0umpRAft\n",
       "IMLMGSM1EyTpiI1vkgcHzH0wc9+yp3p5ayP9WdGOowId3JBJtGkGAN1HvdxaVzNgJKd9bSx3iMra\n",
       "MeOMnjaY6Dk7OD6g2OzMSjP6ylWC+xa5dcrb94qKoIDQJwlH1V33p8Fs6wbejhaFelk9WrCjjO9z\n",
       "Bt9RjZKRWUalcVtJaN7Z2amE46F0guMbgWW6j9i020IDmsnt3GWNZHTZQDAeHjZS96BLNr4xryHX\n",
       "fSqlv8d5ptLMsWTR9/CxSNi5tfTw+wan92rXPFXPe7+Wt2rFveq8bX2zYEfZfWqCe/8tD8czIZWv\n",
       "ozkEATa/4QmF45vuPWrwB81OJc3cT6HSkITlaGW6g+9hwulAKjMm7Hxj3sanske2E9lroWwfpJwn\n",
       "PODd5/QpvjsiTlZSfAwZKdxuqlSluvN9BLxWnfzAvep8baU9VZij/PsSY/QMpkJvkOEAO7SgstQH\n",
       "EaQ/2gjRlI3vMnXFU3R+79CIgfGgmQfrSeq9yGCE/KvQTlGQCSGP9mhH6OkE5p2FcuTbosW8STuz\n",
       "B/ygyr//DmPk4LwG2g2m+7zeTB7iUS76Zoves91mKaFAnvff+ar+IuJedb62SlUFO0rffxvvQw3A\n",
       "OlUiK+pUaNZjamAKwFYcO2cBWmx8+1v3z6ZUNuvSBGhW8aHTzECcpPZ819uPqnUpCiJlMgiWvuQ4\n",
       "YNxPUtseqEO+LVqS5//ZvJHB7x0g831LaMYVBaLOzs2ODuI+r88mt73SyqGcetJgXu/Z7ldoJRPC\n",
       "P97lWJ/yWvWeL12rzttWX0fBjs7F24wtYPueKUy3QeOA4iP7t+0+lZN2yAKzqQ/92Tw9CwrzpQN7\n",
       "ocpSuJ7btD7lglnoLsy94d+vbS7C1v37tQM3+vu1oFKoBf1+Lara+e4OzJ/IPnNyvz83ZdGfOgc0\n",
       "UoG6TIr9QxB0m6Wz4a8ZKenBBoe2XD3dCDdTsMG3mqx8S7t+Ywvf6cBR1W0lcZnfloXJkYq6rEIs\n",
       "9c67zjxb6qbyffTW+8h63RooEd9CaSvJ9+enH4HbMnrS1NbyP3e4+T63MogpAAAAAElFTkSuQmCC\n",
       "\" style=\"display:inline;vertical-align:middle;\" /></a><br>(see <a class=\"ProveItLink\" href=\"../../../__pv_it/theorems/4c4b2ec9f6a0435c103f0e395ce6656db51021e10/dependencies.ipynb\">dependencies</a>)<br>"
      ],
      "text/plain": [
       "reduction_right: forall_{i, j, k in Natural} [forall_{a_{1}, ..a_{_a}.., a_{i}, x, b_{1}, ..b_{_a}.., b_{j}, c_{1}, ..c_{_a}.., c_{k}} ({a_{1}, ..a_{_a}.., a_{i}, x, b_{1}, ..b_{_a}.., b_{j}, x, c_{1}, ..c_{_a}.., c_{k}} = {a_{1}, ..a_{_a}.., a_{i}, x, b_{1}, ..b_{_a}.., b_{j}, c_{1}, ..c_{_a}.., c_{k}})]"
      ]
     },
     "execution_count": 2,
     "metadata": {},
     "output_type": "execute_result"
    }
   ],
   "source": [
    "%proving reduction_right"
   ]
  },
  {
   "cell_type": "code",
   "execution_count": null,
   "metadata": {},
   "outputs": [],
   "source": []
  }
 ],
 "metadata": {
  "kernelspec": {
   "display_name": "Python 3",
   "language": "python",
   "name": "python3"
  }
 },
 "nbformat": 4,
 "nbformat_minor": 0
}