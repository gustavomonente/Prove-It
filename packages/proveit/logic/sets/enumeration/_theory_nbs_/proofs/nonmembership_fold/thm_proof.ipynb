{
 "cells": [
  {
   "cell_type": "markdown",
   "metadata": {},
   "source": [
    "Proof of <a class=\"ProveItLink\" href=\"../../../../../../_theory_nbs_/theory.ipynb\">proveit</a>.<a class=\"ProveItLink\" href=\"../../../../../_theory_nbs_/theory.ipynb\">logic</a>.<a class=\"ProveItLink\" href=\"../../../../_theory_nbs_/theory.ipynb\">sets</a>.<a class=\"ProveItLink\" href=\"../../theory.ipynb\">enumeration</a>.<a class=\"ProveItLink\" href=\"../../theorems.ipynb#nonmembership_fold\">nonmembership_fold</a> theorem\n",
    "========"
   ]
  },
  {
   "cell_type": "code",
   "execution_count": 1,
   "metadata": {},
   "outputs": [],
   "source": [
    "import proveit\n",
    "theory = proveit.Theory() # the theorem's theory"
   ]
  },
  {
   "cell_type": "code",
   "execution_count": 2,
   "metadata": {},
   "outputs": [
    {
     "data": {
      "text/html": [
       "Under these <a href=\"presumptions.txt\">presumptions</a>, we begin our proof of<br><strong id=\"nonmembership_fold\">nonmembership_fold:</strong> <a class=\"ProveItLink\" href=\"../../../__pv_it/theorems/b28a16828e9c815b36eda6e938554df38efa5cea0/expr.ipynb\"><img src=\"data:image/png;base64,iVBORw0KGgoAAAANSUhEUgAAAcIAAAAZCAMAAACVSN4vAAAASFBMVEX///9jY2MJCQkrKysPDw8W\n",
       "FhYoKCgUFBQNDQ0QEBCIiIhmZma6urrMzMxUVFQiIiJERETc3Nzu7u6qqqp2dnaYmJgyMjIAAAAE\n",
       "alMrAAAAAXRSTlMAQObYZgAABN1JREFUaN7tWonS2ygMpt1ut+Y+7fd/0wVsLpsjwU3/ZibMxOM4\n",
       "SAI+kD7JAWC+UcaYAJ/2dQ1bBPQdBeyzhl/fBP1AeK+R03eDzOtsISg/EE7scvPEGshVv3QweDm2\n",
       "jBIZhGvaQGYGwhvy79Ak7x+M8gyY7cXDQWG5qUgQahV+XuUMhDfk36Gtfb6GcPFVv9oxRQNyTRCK\n",
       "sM0En3KkN+TfoBn0VCz5cxACDVMsDIcnHafnYuG8/Bu0XtJkOPv3B1u/CEK5JAiNlq6J563vEvPy\n",
       "b8Bl2pMi3NJDLr7sFIIVJ0a6cdcmUsRD3bT8399g8KMSQiowDN7LxSKZBaTTCkuIXEexTLODlga9\n",
       "pFuUIKSeqHIxC+G0/CMsujvPm2Rz3IUfJFva/WkYBMltekYI4ak/3X/Xlv27nzd/WqdOW6ahQXnN\n",
       "miDECFQ2VPIYDGm7knChDQgH8rdab/6I3OPnD4izI75rC7feJMCiGNiZg6s9bRNqJ/+c22wczfjW\n",
       "TMOZIUd+pViW2rt7eE3qpNLI1RoU91NAskXHGvIvhvBeWeIx8QWnA1ssJ1nWdf3nl72sWXQ8yI/t\n",
       "vbjzubkLZnMOImk4HXR2PCNbNg9tapUWw5WQbuzKQIDc2W5BWJd/NYT8nh99SHzJHHmxnD6DunDw\n",
       "WDzB9sTaNSazEBYaylMYd14BoVhDlcEgQ+Aew3E6sUQRATsQJnmbrSACaZgIdE/ZeK3aHXMIC90A\n",
       "6+dsTImzBNJpORdQ27aUZ0UU6KnHJIRRQwZJGQtx7kgtFaH7djN4sSdqEUXhTBHrSA1pQ5jkLc+2\n",
       "EZ3hEJPtViJuIlQOgnfo2IEw6qaeAf+yH/OEjZF4l84ouTOLVGa2hBGjJufnNFxmIYwaMkhKRprT\n",
       "GTvCI+YKCd2NO8MS5RDaqWrUhjDIu7r9GoOikG740MZ03WfXsWMXwkI3gOo5GwPx1t5Ch1dTgG9l\n",
       "yZspSpoQIuqETA6h3NbhTXYXNGSQnPJCpIuYHv08hWCns4T5zcrhDqEdPOtUl7I4sWXJhbPiNA4d\n",
       "XezYj4VJd6o+P2xjIF738EeeRyG0mVpRx5f0O5YtCJ0A2s3FU8jCAFkIZ9eb1ClpiJCcU3tSQGjC\n",
       "YFw8trOyV1qcQoAJ7EAY5X2QjbvTeVQf4UfLe3Q0SBmjmxAeuqmlgf/9dGTQPGOjK361PCywmW+a\n",
       "M9YusB0vFZIjVY8QqLzTriFBUhbYWJ1Zi83PyrvOCITBex1tVOP14nr13FV4wseIdQYgLq9/WLuE\n",
       "jsq5NFaHMOkux32yUdPvP33xq+VhmbtWyzhClcvw5Ybz9A3UKH2VFpw0ZJA0y9yF43DfofYOg6vg\n",
       "TPZqHB1DKKnBGrokkizKq4N8TcvrHxIXmfNL3tGGl7KawSu6y4zgZKNmxD0aiV8sd4A6+eJr8YTZ\n",
       "BeR+iQVi2+GnJXyosAZOGnJIsveF+cumDoc7YuGowNbwCNaMCJwuODk16Oi4hcHDvFClDX21UTOi\n",
       "huIXyz2kQLOWsb+1xzaOXbjOQ7UPE9MsWKse4ZiocvFbKhw9CN0/A6gG2G0WAjekwsNeR0nd+poh\n",
       "hFn8udioGTk9qohfLUcHbp4qOqg/898ZI8DLIXQTwUbr4UasduwvlMkO1VXUtPf2I+Lv1m5C+Pr/\n",
       "kSLwab2ylkWA/g/DDFpRfdsRTAAAAABJRU5ErkJggg==\n",
       "\" style=\"display:inline;vertical-align:middle;\" /></a><br>(see <a class=\"ProveItLink\" href=\"../../../__pv_it/theorems/06c316b03176e6fd503f2651b4a68346422f98520/dependencies.ipynb\">dependencies</a>)<br>"
      ],
      "text/plain": [
       "nonmembership_fold: forall_{n in Natural} [forall_{x, y_{1}, ..y_{_a}.., y_{n} | x != y_{1}, ..x != y_{i}.., x != y_{n}} (x not-in {y_{1}, ..y_{_a}.., y_{n}})]"
      ]
     },
     "execution_count": 2,
     "metadata": {},
     "output_type": "execute_result"
    }
   ],
   "source": [
    "%proving nonmembership_fold"
   ]
  },
  {
   "cell_type": "code",
   "execution_count": null,
   "metadata": {},
   "outputs": [],
   "source": []
  }
 ],
 "metadata": {
  "kernelspec": {
   "display_name": "Python 3",
   "language": "python",
   "name": "python3"
  }
 },
 "nbformat": 4,
 "nbformat_minor": 0
}