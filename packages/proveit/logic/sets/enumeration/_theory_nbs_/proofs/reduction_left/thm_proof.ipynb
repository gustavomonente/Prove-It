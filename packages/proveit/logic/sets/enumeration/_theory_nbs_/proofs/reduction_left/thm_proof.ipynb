{
 "cells": [
  {
   "cell_type": "markdown",
   "metadata": {},
   "source": [
    "Proof of <a class=\"ProveItLink\" href=\"../../../../../../_theory_nbs_/theory.ipynb\">proveit</a>.<a class=\"ProveItLink\" href=\"../../../../../_theory_nbs_/theory.ipynb\">logic</a>.<a class=\"ProveItLink\" href=\"../../../../_theory_nbs_/theory.ipynb\">sets</a>.<a class=\"ProveItLink\" href=\"../../theory.ipynb\">enumeration</a>.<a class=\"ProveItLink\" href=\"../../theorems.ipynb#reduction_left\">reduction_left</a> theorem\n",
    "========"
   ]
  },
  {
   "cell_type": "code",
   "execution_count": 1,
   "metadata": {},
   "outputs": [],
   "source": [
    "import proveit\n",
    "theory = proveit.Theory() # the theorem's theory"
   ]
  },
  {
   "cell_type": "code",
   "execution_count": 2,
   "metadata": {},
   "outputs": [
    {
     "data": {
      "text/html": [
       "Under these <a href=\"presumptions.txt\">presumptions</a>, we begin our proof of<br><strong id=\"reduction_left\">reduction_left:</strong> <a class=\"ProveItLink\" href=\"../../../__pv_it/theorems/36b778445d2d7479b3e4f234503e4c482f1c886f0/expr.ipynb\"><img src=\"data:image/png;base64,iVBORw0KGgoAAAANSUhEUgAAA90AAAAZBAMAAADecVCKAAAAMFBMVEX///8QEBCIiIhmZma6urrM\n",
       "zMxUVFQiIiJERETc3Nzu7u6qqqp2dnaYmJgyMjIAAAAcRTyBAAAAAXRSTlMAQObYZgAAB9FJREFU\n",
       "aN7tWn1sFEUUf727vd7t7V0JwQ8wJEsrlTQaG4iC8mHBmAYT5AoJH2pC00gQguRilIaGaMU/LPLP\n",
       "JiSCJOhqIyoYbgUS0sbI0iYQK8aLaCBK8aJAIgo2qERbJc6b2bud/bi9be9aSsJLep177/dm38xv\n",
       "Pt7MLYA/WdeqwG25xaWxVfcLTd2M+OLzx3PvCTNVF+3pzLgLdHldrhRtHrd87wUQfxvf0yV0h1N3\n",
       "UB+HgS5MAsQUxncWFf0++PYJLJOI7WR6D5RSwWupkux+ZIFT9eOwK/noLhjtQIPI3XrG95eouOyD\n",
       "b5/AMkmCDEeppIYm6kuz+5CTvlTF5GcY7UBpRx5kfO/Gf+0++PYJLJOchlL5rtJKs48Z30Mw2oHS\n",
       "jpRkyneCJB2S5oNvn8AyyZaS+V6qlmYfK75DgzDagdKOFCdQvuN9+/fv8pOv+QSWR6Kpkvk+WaJ9\n",
       "rPgu2srSA2WPuMDy8787Orb6ys/9AcsjgfpcmDt7p3mPbwtArF6/qIcVL1XP9fSz2Dk/6KlOejqa\n",
       "9uPu5ETnzZziPZp5QKKlRhvlQKUJ+NnL+F4LsN0X3/6A5ZEInmLDJK0MTYbfvZdDC+ATOCO/wjrm\n",
       "hpr2uiKy2k0/2KVFsl4P5OwsGZeuUmFZ1SY8/igJ75OFBZC+LP4DoxsoO+icZ3w/DmLWmFAAF8nf\n",
       "NNmdbwb0tydddVE+lfXPdyUO+U/J8HwvA3MAhMJ5IgMY4UMffK0upqXYIFTJsKqgH7PTBlv8YCuE\n",
       "NQ8/ag9MLJA5x8iRXJwKQRJv4SoMQA37dkyFa14NLEeg9AhwlPFdCQEymQQ2hLCbKxsMh5XzGgJ3\n",
       "mnwzoD/pddtFhnGuqCAxrMKc7TEVXgRhVuE9jgJy4YMKHeaZM60vn+11Jk3rrMFWP0yfvPxoevUS\n",
       "+7LONjWENxSKqJSLVEEAsDp3iBf/9WpgOQINky6CNYxvKVNpBaZxOxQ/m5WJtffBoybfDqCH/Op2\n",
       "jtSGxze9FrobxL/IelG4OxjAlGvmqXWpBo1ep9qlmotfBZ1phf2oXWQ5daLZ7cqNINLJIlWkk9zx\n",
       "OzTk1cByBHoJTL6j2RVWIK3ibNd+iH0TBN3k2wH0ELcdqUoZ5noebidDH2IDXnwbAHOG5civyuDU\n",
       "L9wdzO70S+ve3UjtRjyW/Ztx/zxFHCtWxTHz2384Ez34LkOgbP9uNO7Ptz9H9LW082im2CvUQgjX\n",
       "3tgzq2WObwqEztqLzrpNZc9DtWToCtdqnUn1muoNZubolk3a8zWSn4tDJGvr8uKbAlj4RLoDA8B+\n",
       "HahqINukF99oF3OpMeeXwbXTc5yAJtUvay6Yn6c12BRTvJiggEXG4vAnpiBefJceKMvPjXwNDuNa\n",
       "XYX8BEOYUl05klYTNFNI9n3H841A8WWBLBEbbJ1OlegbUDfh9h9oIwmUDQT3qTXsFpdkCE0Qtg0I\n",
       "1C2w7vV4HtsGZ5p12h1prB8/xBt8gQIwfNSEhiID0QwthjOResq3FZ7/Ru3YYNRwfsFm6Exa/KwP\n",
       "pfbED08OFjx/R+T4Zgk8qmAAfZBpXoDX2Ty0Bpp3ywdqa+AwAmXn73kG35j97TmKmo8l/H6dTNBO\n",
       "xreUz7FSBjBYL6TgWdvxkioBCRTgCp2ecjxrBxFmzhulOSAIx218Ex0cNvfB3H3LvurVLQ30a2Ub\n",
       "jgoMcHOu0KoaAAwf7WJLXU2/UZz5lbHcISrvx5xzdtpgYuf84FS/bPMzH5qzV631uG8RW6a/da9X\n",
       "FRQQPZBi9s77M0Z7LYEyNz5QWwOHESjj+6LBd1ylZOSWUWHiDpKad3R0yLFkNJPi+EZghRYgPm22\n",
       "1IAquZ27ooGMLhsIJsHDRukeDMnGN+rmFrpPpd3R7TyqqOZYsti7+Vwk5txauvl9g7P79WuaoRW9\n",
       "Xyv6aJmz0wYWC3QEDWSBsvvUFPf7tziYzKVUgfamKITZ/IYnZI5vuvcoke9VO5VUeYhChQEB61Er\n",
       "NAffg4TTfj03Jux8o27LkvyR7XT+WijfHbrzhAd8+Jxd57tDcrKi8zmkNHy/GcIExZ3v4+D30ekP\n",
       "ODtbz4oEqo80UP73EmOmZPXom2Q4wG41Iq8MgIT0xxsgrtv4rlDWLKHze7dKHIwPqjxST0rvSlmJ\n",
       "/KtUz1KQCSEfbfH26NMp1F2AIPJtsaJu6p78AT+i8L9/x3B7c14DvQ9m+LzdLB7lUS72Jovdt982\n",
       "ISVDkd+/iz36c4lvQKp4oCNpIAuU/v5t/B5qADYqAllRZ0CTllDC0wF24Ni5ANBs4zvUcmg+pbJJ\n",
       "EyZDk4IfGlWGk6S079uePjRt1CmI1MkgWPuKU4B5PyntfKAO+bZYiS70k3kjg+87QO79lujs6zLE\n",
       "nZ2bHx0kfN6eL+58tYVDOe2kwbzdt98v0EImRGiSy2lZ9/vofV+YdtrAYoGOpIEs0IV4m7EdbO8z\n",
       "xeg2aOT9AbJ/2+5TOWmDPDBf+jCU12l5UIyvHdgPqqyE67nNGpAvm5XuRe2ov7+2rQRf9/fXDmfG\n",
       "XaD0/bW4Yue7K7x4CnvNyf3+3JRlf2gc0CiF63Il9g9B0GXWzoa/apSEB+c6rEHlXAOMpWCDbwkp\n",
       "V6AWvjPhE4rbqukyvy1LjaMUd1lxWentd5w6W2lMu/HELfKSdbkC9f9+amtZ3j8/9wjclpsnja3N\n",
       "/wOz/fcTUBXJ1QAAAABJRU5ErkJggg==\n",
       "\" style=\"display:inline;vertical-align:middle;\" /></a><br>(see <a class=\"ProveItLink\" href=\"../../../__pv_it/theorems/f19ded4af23cf4b735594614f296ccb5462cffc80/dependencies.ipynb\">dependencies</a>)<br>"
      ],
      "text/plain": [
       "reduction_left: forall_{i, j, k in Natural} [forall_{a_{1}, ..a_{_a}.., a_{i}, x, b_{1}, ..b_{_a}.., b_{j}, c_{1}, ..c_{_a}.., c_{k}} ({a_{1}, ..a_{_a}.., a_{i}, x, b_{1}, ..b_{_a}.., b_{j}, x, c_{1}, ..c_{_a}.., c_{k}} = {a_{1}, ..a_{_a}.., a_{i}, b_{1}, ..b_{_a}.., b_{j}, x, c_{1}, ..c_{_a}.., c_{k}})]"
      ]
     },
     "execution_count": 2,
     "metadata": {},
     "output_type": "execute_result"
    }
   ],
   "source": [
    "%proving reduction_left"
   ]
  },
  {
   "cell_type": "code",
   "execution_count": null,
   "metadata": {},
   "outputs": [],
   "source": []
  }
 ],
 "metadata": {
  "kernelspec": {
   "display_name": "Python 3",
   "language": "python",
   "name": "python3"
  }
 },
 "nbformat": 4,
 "nbformat_minor": 0
}