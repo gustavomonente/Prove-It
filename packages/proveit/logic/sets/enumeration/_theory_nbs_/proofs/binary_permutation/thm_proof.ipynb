{
 "cells": [
  {
   "cell_type": "markdown",
   "metadata": {},
   "source": [
    "Proof of <a class=\"ProveItLink\" href=\"../../../../../../_theory_nbs_/theory.ipynb\">proveit</a>.<a class=\"ProveItLink\" href=\"../../../../../_theory_nbs_/theory.ipynb\">logic</a>.<a class=\"ProveItLink\" href=\"../../../../_theory_nbs_/theory.ipynb\">sets</a>.<a class=\"ProveItLink\" href=\"../../theory.ipynb\">enumeration</a>.<a class=\"ProveItLink\" href=\"../../theorems.ipynb#binary_permutation\">binary_permutation</a> theorem\n",
    "========"
   ]
  },
  {
   "cell_type": "code",
   "execution_count": 1,
   "metadata": {},
   "outputs": [],
   "source": [
    "import proveit\n",
    "theory = proveit.Theory() # the theorem's theory"
   ]
  },
  {
   "cell_type": "code",
   "execution_count": 2,
   "metadata": {},
   "outputs": [
    {
     "data": {
      "text/html": [
       "Under these <a href=\"presumptions.txt\">presumptions</a>, we begin our proof of<br><strong id=\"binary_permutation\">binary_permutation:</strong> <a class=\"ProveItLink\" href=\"../../../__pv_it/theorems/835af51ae50f1a8906dca19903145d639b3381620/expr.ipynb\"><img src=\"data:image/png;base64,iVBORw0KGgoAAAANSUhEUgAAALkAAAAWBAMAAABuySBUAAAAMFBMVEX///8QEBCIiIhmZma6urrM\n",
       "zMxUVFQiIiJERETc3Nzu7u6qqqp2dnaYmJgyMjIAAAAcRTyBAAAAAXRSTlMAQObYZgAAArVJREFU\n",
       "SMetVT1oFEEUfnt7d3u3tz8WEUEQDqMpxGK51hhPLKwkEcFWORQtNIigRUwRsTBXCFuZlBsslBTu\n",
       "4lXaJNEioAgLNiqIB2LACEGChTl/8L2ZnezP7B0pMrC3M+++972d9743AzBovAszhlLD2wns3BEY\n",
       "PKro8XRZMhf3ytAc2MkJgOf47tLik+zyBJ/Pacs++h2ToQjT795ImVSkLbsAb2ixLrt8w2c1bfoC\n",
       "sk2YLCdlMjCYjhHmKQszkofpyEy/B7DbgcQOLzEolskIJA/NlZiKvQHs457MvoAf+XpxcU72mJOZ\n",
       "mEc/9oyZYa0mwK/Z2WnZY1i4VUcb+7nJag3jHlfy2dcOHou0xvDGHgqB2b0M0N7e/IaYPaCfSdKW\n",
       "a/3gJn9d3xI6MjbY4KVEmP7P812uRYY3ycfEsp5ixY3GKzG5g08Nta0fADWq+ZIHm5I4IlitB3ad\n",
       "FgJP+qphejQoxK32XUyGsC/v49eoPdDq3DQG+h98Xaln2pfBuuCznhL48k38BzdghFoM3Uqws75U\n",
       "ZsCfEHIvoiati3ntizsaZ8IT+DXg7NXueZw9GvlK680RL84MXAX6oqWI5S99WDrvPBLC7BBOMM8I\n",
       "z/JeJOG0L2G6bpVIzYWpgpOoKorBD2Cyxuv1ExbCfpqxm5hwxs7xTDNUVehgCNUpUaBK3ewmyrvK\n",
       "LLcN8Ml6He711Xs5rDgMxfFc7ypVgoqtBAXapdJUo7Sejtz01uGHh0CbouQdDfuy6423wFAcH3UT\n",
       "FcDEhPlu5SO+bE8Jck+CF6nWyemmDIqxPxYrxb1wBuY9zXufPMXiHC8PYl+RUeIUi1TVenYczgal\n",
       "a9uAdvJ812ON55/vWRSd74kmZSPI3B6WiGXG4h6S2QXMTNxNeIBV3HRLu5mbDzo7u1c7uffqh8yN\n",
       "Abs9/gPmoNEU3LUaOgAAAABJRU5ErkJggg==\n",
       "\" style=\"display:inline;vertical-align:middle;\" /></a><br>(see <a class=\"ProveItLink\" href=\"../../../__pv_it/theorems/fa9dfd026a8a7a0a6b9cb87f2e985a90a1d54b720/dependencies.ipynb\">dependencies</a>)<br>"
      ],
      "text/plain": [
       "binary_permutation: forall_{a, b} ({a, b} = {b, a})"
      ]
     },
     "execution_count": 2,
     "metadata": {},
     "output_type": "execute_result"
    }
   ],
   "source": [
    "%proving binary_permutation"
   ]
  },
  {
   "cell_type": "code",
   "execution_count": null,
   "metadata": {},
   "outputs": [],
   "source": []
  }
 ],
 "metadata": {
  "kernelspec": {
   "display_name": "Python 3",
   "language": "python",
   "name": "python3"
  }
 },
 "nbformat": 4,
 "nbformat_minor": 0
}