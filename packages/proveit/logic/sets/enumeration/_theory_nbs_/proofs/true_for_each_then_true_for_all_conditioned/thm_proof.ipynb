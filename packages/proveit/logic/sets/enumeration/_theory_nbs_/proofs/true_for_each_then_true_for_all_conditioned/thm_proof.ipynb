{
 "cells": [
  {
   "cell_type": "markdown",
   "metadata": {},
   "source": [
    "Proof of <a class=\"ProveItLink\" href=\"../../../../../../_theory_nbs_/theory.ipynb\">proveit</a>.<a class=\"ProveItLink\" href=\"../../../../../_theory_nbs_/theory.ipynb\">logic</a>.<a class=\"ProveItLink\" href=\"../../../../_theory_nbs_/theory.ipynb\">sets</a>.<a class=\"ProveItLink\" href=\"../../theory.ipynb\">enumeration</a>.<a class=\"ProveItLink\" href=\"../../theorems.ipynb#true_for_each_then_true_for_all_conditioned\">true_for_each_then_true_for_all_conditioned</a> theorem\n",
    "========"
   ]
  },
  {
   "cell_type": "code",
   "execution_count": 1,
   "metadata": {},
   "outputs": [],
   "source": [
    "import proveit\n",
    "theory = proveit.Theory() # the theorem's theory"
   ]
  },
  {
   "cell_type": "code",
   "execution_count": 2,
   "metadata": {},
   "outputs": [
    {
     "data": {
      "text/html": [
       "Under these <a href=\"presumptions.txt\">presumptions</a>, we begin our proof of<br><strong id=\"true_for_each_then_true_for_all_conditioned\">true_for_each_then_true_for_all_conditioned:</strong> <a class=\"ProveItLink\" href=\"../../../__pv_it/theorems/ae433f6af9f48bd7ab354afeb28e5b88223998220/expr.ipynb\"><img src=\"data:image/png;base64,iVBORw0KGgoAAAANSUhEUgAAAsQAAAAZBAMAAADERCVoAAAAMFBMVEX///8QEBCIiIhmZma6urrM\n",
       "zMxUVFQiIiJERETc3Nzu7u6qqqp2dnaYmJgyMjIAAAAcRTyBAAAAAXRSTlMAQObYZgAAB2tJREFU\n",
       "aN7tWl1sFFUUPt3O7HZ/Sww8AD4UmoApxTZCEIGSJSaFBwmlD8hDYydom2gQNopWC5iqiSwqshiD\n",
       "DQk4QAJYg27QgiSCqxU18pM18gTFlARM8AUihgAS9Nyfmbn3zk93iKE+eJPZmXvPnfOd882Zc39m\n",
       "AYJKtOdVqLyE632fy302bnFPiR5az4bgjrFQamPwHy7327i4wQ7Y/j/F/yKrZXZOFmSKR0jjBV+7\n",
       "MuSULlfqRaC2MaY4jCthSnrtze418/DigNXyrEzxSdL2u69dqSKeMmalFAdqG2OKw7gSqtRiYL2O\n",
       "eq9YDZ/KFPeTap+vXVTUX/G7GKhtjCkO40qo0lkC+LoO0s1WQ6pOopg8Vvp8fUgjIXmyYooDtY11\n",
       "Lg7hSqjSlMWjBLGC1ZAYJ1Gc/mlg4MMAu4YHBj7OVexFoLaxpjiEK6HKVjzWZkHw+5I8o7iZz28I\n",
       "sKs2n99UqnzQDtI21hSHcCVUuYtkXgeox8s90z5oxCwxJFPcBbA5wK5oG9QUKqc4SJszu7Gv9EBp\n",
       "m8/9gj1tlYrDuRJcCpLp+h2AI/jotmCGKKVfiOHg96tM8eOQGAkgTWumA2SlFDNt2tbVc58jTfWn\n",
       "5lGRxruwuhNKyaxw/5IbQ2+ZovQLFSGyYIgke6FF7MJRvcVeruinR3OpnY8rWTe+bXrkxqmhBjyv\n",
       "R4mZuq3hAzgiUxyDiDhX1F/8DqYYAmk5mBmCYq7tZ4Af8LQrC8vpLKmG9WD1qBBKj4kTzHGQyonS\n",
       "aiXm4pdAn8SmnZ5dGKq32MuVbaPP4FazU58HvmV6zW12Ho9RDDW0Z6dMcarsLHw+GWqBL1NmtSnY\n",
       "dRpyISjm2rpxjEWIieik4VDM6x3CPfvEbQQDItdEacKQAbYhYXNAF/Op1IWi+ogVV4incHx0n46L\n",
       "FMv4lum1OZtirNR5UBwfWWGH0Ts7TDhW15wS7dqlGyEo5to2AuSxoUxD06aY17uEezI0zJJlLsYg\n",
       "EKVXZICNNFKjUv5lXY6BjeoldrlCPQ1NsYyf4W9IJ58Pr6cVKlys7FFsfgYhW9rrSSLFMjj4vkRx\n",
       "zXZMOolH1rgHFrWRxi/RBolbEOkFmEIy1TWHYl7Hp7532mWeyMr2khM+K8B0U5LK73WEPK0mAiMg\n",
       "sy40uzBUL7HoSqq+vYt5SvmzscTiNIoUO/hUh5Vfm3hSxuEuaTZBxHQNd/A5OpVeVK4qsB2GwdTB\n",
       "DtGu5KP4s7+tE3Ookrpoo0ox0QbanUYyx/+NZMMRh2JWj+cg8ZKOCYwMiEkjlcdykZi57NtTRZCk\n",
       "hyW8DLF4IZl/CsiH4Ue8/73xNqoqVl1piI6sY54S/hwsMXZoo4tiB5/qSPJX4irHwpnasuJW2ImX\n",
       "CxSKSfrYMR1qzQSN+EEoDUmk/YHHLHgS9G8Uikmji2KajFLMBZzNQFXJoZjVtT6obtZz0DGJ0MJX\n",
       "2/XI8RlgDY50ibwXQFQ9SBoFZN4lMttC9RQLrrRlysA8JWOZgyUOkqSRld0Fh2IHn+iwTF/49yq+\n",
       "RYzpeeqeFhLblxWK04S5VbAI9Ffy+TeQ4p0xya5zeEyGaVhTKKaNKsVUWw1z4QE2ytsUs7pmQFUx\n",
       "gui9ZALDJ4z7MJDepBSL0qck/VV1NJW3Ssi8S6Lb5KieYsEVqC1wT1difwdLBKKNbIK1waHYwSc6\n",
       "bNNtBGcBnfPaL54AC3QwWBRr7eomK2a5LQMqxbQxPf9Cyb0lW8umk92J8/HxAsWsrvdh1q05Z1LH\n",
       "NCMyC8scMl3+i/okSlslwKhxsLgtCysl5FaoJwqeNi1UVewyrhMXJIYVxQ6WUGjjL8eGlSi28ZkO\n",
       "TZkG+G4D8RnnNVg3CCfI5VlczLvsmqj/WSYUx9+GftP6IY3Jh5yJkOAFGoYddrenj2cFilkdn3FV\n",
       "oXMpi510CQawTCXk3uIR4EiHBbR+MzGh7jyu/veDiDwMCbx/Tx1HdYsV4+LXzuDi5oSVaG0sEYg2\n",
       "HuqLKbnYxmc60upifLPPZiZfGBnQiFMmDAPttSxEXaS1zqinFOuTYXlBn0h+JrPGLr3P1TtyFafl\n",
       "2CEx93sjLlDM672grTrUwkiszlpfYeDh65QiUToblhcZGv4UYe+73bh4RTME5NlU83YLFTzF4gv5\n",
       "/BONJvWU8mdjiUC0Mdq2Up20WfhMR3VWofiAyLXfh6WHMEP5f40hiSLprH3ZKRc56/PthnTQjZ0C\n",
       "xbw+g1cIiRllW0KWYrZzdkbJ1Yp4GSJFEXlE3ZbwEruNo57a8+JeUIHIDTOzCsUyfsbvw1K6APf4\n",
       "7U5vmg9w1K4e5cun5GkfL0iH+N1JEsW0zivt14vWmkEsghRXJEmbPHr10UXT8pchJ90firzFMf91\n",
       "BcOSgcji7auyi2IB38N0iW/jXj+Plj2ufHrTDpuyEsW0rjm3JppdWgTpXowIZzShetbhz1JxkeA2\n",
       "2lvsRfFuIfjTHlfqHoWE72H6PVEc6s8HAb2rXfHN32qPjRhH2uCtLCkw01Cp2Mu4+KgbXB08KTS7\n",
       "ASKBe0iLewx6aD0v/wNFWn1KsqJi7AAAAABJRU5ErkJggg==\n",
       "\" style=\"display:inline;vertical-align:middle;\" /></a><br>(see <a class=\"ProveItLink\" href=\"../../../__pv_it/theorems/1c9b39053242eb1eb56a84f2ee5a5a97bdc038f10/dependencies.ipynb\">dependencies</a>)<br>"
      ],
      "text/plain": [
       "true_for_each_then_true_for_all_conditioned: forall_{n in Natural} [forall_{a_{1}, ..a_{_a}.., a_{n}} [forall_{P, Q | Q(a_{1}) => P(a_{1}), ..Q(a_{k}) => P(a_{k}).., Q(a_{n}) => P(a_{n})} [forall_{x in {a_{1}, ..a_{_a}.., a_{n}} | Q(x)} P(x)]]]"
      ]
     },
     "execution_count": 2,
     "metadata": {},
     "output_type": "execute_result"
    }
   ],
   "source": [
    "%proving true_for_each_then_true_for_all_conditioned"
   ]
  },
  {
   "cell_type": "code",
   "execution_count": null,
   "metadata": {},
   "outputs": [],
   "source": []
  }
 ],
 "metadata": {
  "kernelspec": {
   "display_name": "Python 3",
   "language": "python",
   "name": "python3"
  }
 },
 "nbformat": 4,
 "nbformat_minor": 0
}