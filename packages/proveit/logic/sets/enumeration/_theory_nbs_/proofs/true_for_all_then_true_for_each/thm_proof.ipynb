{
 "cells": [
  {
   "cell_type": "markdown",
   "metadata": {},
   "source": [
    "Proof of <a class=\"ProveItLink\" href=\"../../../../../../_theory_nbs_/theory.ipynb\">proveit</a>.<a class=\"ProveItLink\" href=\"../../../../../_theory_nbs_/theory.ipynb\">logic</a>.<a class=\"ProveItLink\" href=\"../../../../_theory_nbs_/theory.ipynb\">sets</a>.<a class=\"ProveItLink\" href=\"../../theory.ipynb\">enumeration</a>.<a class=\"ProveItLink\" href=\"../../theorems.ipynb#true_for_all_then_true_for_each\">true_for_all_then_true_for_each</a> theorem\n",
    "========"
   ]
  },
  {
   "cell_type": "code",
   "execution_count": 1,
   "metadata": {},
   "outputs": [],
   "source": [
    "import proveit\n",
    "theory = proveit.Theory() # the theorem's theory"
   ]
  },
  {
   "cell_type": "code",
   "execution_count": 2,
   "metadata": {},
   "outputs": [
    {
     "data": {
      "text/html": [
       "Under these <a href=\"presumptions.txt\">presumptions</a>, we begin our proof of<br><strong id=\"true_for_all_then_true_for_each\">true_for_all_then_true_for_each:</strong> <a class=\"ProveItLink\" href=\"../../../__pv_it/theorems/101135ba617332164f4d25ddd473ce8c831becac0/expr.ipynb\"><img src=\"data:image/png;base64,iVBORw0KGgoAAAANSUhEUgAAAjYAAAAmBAMAAAAl0cy0AAAAMFBMVEX///8QEBCIiIhmZma6urrM\n",
       "zMxUVFQiIiJERETc3Nzu7u6qqqp2dnaYmJgyMjIAAAAcRTyBAAAAAXRSTlMAQObYZgAABrRJREFU\n",
       "aN7tmX+IFFUcwL/7Y3Z2Zmf2OihISVjv+nHIiVsSaWqtBRakMB6cnCDccKigmC5lUvaDzf5orwi3\n",
       "IhPBGgs0DLtFOUxI3O6MIDM2NaJSWSr/sH8UJLFLqvd9783s/Nq53ZGgzv3Cezv73vt+d+Yz3/f9\n",
       "vvcWIEjkzs4KNC97Ou+AKSD3dk7nVSCbW1oyugemiEy3qgA2+ZZM7muzabNps2mzabNps2mzabMJ\n",
       "EKlq+7Lbdn3khiylSqxYbGr4ca4xm8B+L5tWhoeWj0hRN11bu/FBcosFW0ei1JwBU5laqss6Xkw2\n",
       "J/Djt8ZsAvu9bFoZHlouYtVBXsPLBqTtOOQav2jASDIvuDKzZMknvJhsdqJKoTGbwH4vm1aGhxU1\n",
       "i/Ug2ekdy8BpR9cY//zFXzOd5RdcWc06upUMKyabNKGnlBuzCez3smlleFgRqVfMyZFSgef8dnTC\n",
       "q4av5sBWfsGVxZJn+0i3kJyN+tX+/e8GxOLAfi+bVoaHFWZ/OymbcpIzW6RzLO48kvHVXN3FL5gy\n",
       "uO/0V17MPHWtWHwhKE8F9fvkqRaGNy307QrW125a/0Um7xWI4qx4e3wm9xMlywOHb4KVayK/YsrU\n",
       "krTwPitbj/NislkDMBzEJqjfhw0bHt++Yd56bIrfCBNuRWEZNmc2v0FRXQc4XIEkScLxaXCJNGCU\n",
       "U1kwPsFygluUMp/uXJlaWlxKXzYHnOfFZPNoPbpTtaePw0zdxsbVPxkbPvxbgC+xKYlVjLzVRBg4\n",
       "zMo69mW+2fo8VtGrX4/PIrGHPOyeKswDYS66Sor5Sx7e8w1UILFH4cpoSZ4BMSt3HObFZCNC1FoA\n",
       "fTy+CD5VjJhhY2Pvb4INH76WxDqLjUBe0Y4wbKgV1EbZa7beSg1P0OsI8aaHDXiKeA9iEagLqBlI\n",
       "aD7mTlG3riujpdgEiFZwGuTFZKNURSs5vr7LgKOZrGKfU7b+Ztjw4S8CFC02QF7M/WHYUCvmY1or\n",
       "GcqmI2+xuR3k3x1sRAME3cccyVIrwKaMliIFGNEasZFqZLy6qK8b5wOR0dG3HGxoP3x49wXvb7kb\n",
       "kQ0bLv8B0a11NueLxTBrHmaFsFa6+9bU3ZfOqUEWdcmckq9D6jJnQys4BO5VHYtYWRMwV0ZLIxU4\n",
       "BnD6uy5seowXaz81vJqwWVyNlNiCf1Q5sMqxn8J++RmBuOF6163TRvd+CodD/Hovi4ZJXqth1jzM\n",
       "Ckm0sxK1zZDS7bF4DgvNJBbLf0KidoRhYbH4IufjXvmVGB9LGS2NlGFjqnRmBkzzicVwiBjddQ90\n",
       "GDLVG4XKuIMN9seyQh5WuXamtNHDBoeDYoZvxkbRkvZxsyfZAJ4x8wq18jiAlsZ0VLBlWrhkWEl7\n",
       "G3yvVxibGMYmmrHIvAKZpGoYqZnVAJ9XljJaSmbULYr0QR7wNS/kxWLTgaFoCBaD8GyxuI2w2S06\n",
       "2GB/pBzVud26sEY3G2oumXWwkfWljlQ6ib8keWRhVpagUdIimLzR6x/6e4i5FrnDvV0rh3KMTRpD\n",
       "RwK9Ioq3sQUh6WaFDg1dNmW0JA/dteNOSGTiuB6+wIvFRkWIt8FCAXTmN/E+BxvsHyklfzTcbGjj\n",
       "6aNnnWyouY6ygw2s59NRnTsX/HOIXcwBzMoADZAaxHXHnoGLtWegbPbV11TeH8k5l5B2SxEtVtHo\n",
       "49JHdpzfSJdh8yh8gZfEoc96zm8ipcFl1G92GtJrZkUbDxZEn/ObwZKTzRIdpN7ZOvsFfPRTPQYk\n",
       "XJsebHOwYVb2kbv7BiqgVhx7TS7WXpMubcbC7FqJvA/iE5pnr8mh69BbhSR5T/GXcvV1msUmPnRw\n",
       "EWWzvCxMg+UlrMq0MaENeNlEL813shE1SMULFTnDY2KqEgHhcycbbOOTrmq3Ihryk0t7DYhZC+Nh\n",
       "n/knPXA10/wq1W1pCURPes8oHNJD4k3AuR/OqXqsKPO15uxcwLmfLQaTCBB/hcwpaQPiWcHCpSON\n",
       "rAB1wTniHfLP9vYo/8m042zLusWCD6iWTsmcpIbDnYn2XSnzM0PzBJGuVj+rNsVGSWpVucL9RjS6\n",
       "cpSNhgEAK4G2pXogb/mNKfzpj05+JvrDDZ2JqiVWwp4Xqz5X0BSb2KkxDY7zcBI/2V1FNtJ0snyR\n",
       "8qR606BtazABJ3IOG8vYvWSn2ll6zIXWnqfQb6wpmmIf+egZTyJjHho1bob/Gcz1jQ8bWU+dDBE2\n",
       "pg4b/j+EMGdBgyDwE9y8bP7z0mbTZvOvsblWzLRgcsS1dPyfSk9xgleB0t/fSsoQ+ldOBTbv9Gu0\n",
       "+ge01Oas1OUVVwAAAABJRU5ErkJggg==\n",
       "\" style=\"display:inline;vertical-align:middle;\" /></a><br>(see <a class=\"ProveItLink\" href=\"../../../__pv_it/theorems/92fc7e8c7524bd7e27b7f699dbfabe6587eefb750/dependencies.ipynb\">dependencies</a>)<br>"
      ],
      "text/plain": [
       "true_for_all_then_true_for_each: forall_{n in Natural} [forall_{a_{1}, ..a_{_a}.., a_{n}} [forall_{P | forall_{x in {a_{1}, ..a_{_a}.., a_{n}}} P(x)} (P(a_{1}) and ..P(a_{k}).. and P(a_{n}))]]"
      ]
     },
     "execution_count": 2,
     "metadata": {},
     "output_type": "execute_result"
    }
   ],
   "source": [
    "%proving true_for_all_then_true_for_each"
   ]
  },
  {
   "cell_type": "code",
   "execution_count": null,
   "metadata": {},
   "outputs": [],
   "source": []
  }
 ],
 "metadata": {
  "kernelspec": {
   "display_name": "Python 3",
   "language": "python",
   "name": "python3"
  }
 },
 "nbformat": 4,
 "nbformat_minor": 0
}