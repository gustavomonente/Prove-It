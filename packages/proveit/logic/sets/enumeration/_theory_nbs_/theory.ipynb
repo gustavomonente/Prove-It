{
 "cells": [
  {
   "cell_type": "markdown",
   "metadata": {},
   "source": [
    "Theory of <a class=\"ProveItLink\" href=\"../../../../_theory_nbs_/theory.ipynb\">proveit</a>.<a class=\"ProveItLink\" href=\"../../../_theory_nbs_/theory.ipynb\">logic</a>.<a class=\"ProveItLink\" href=\"../../_theory_nbs_/theory.ipynb\">sets</a>.enumeration\n",
    "========\n",
    "\n",
    "Enumeration provides a simple way to define a finite set via enumerating the containing elements.  For example, $S = \\{e_1, e_2, e_3\\}$, is the set containing only $e_1$, $e_2$, and $e_3$.  That is, $x \\in S$ if $x=e_1$ or $x=e_2$ or $x=e_3$; otherwise, $x \\notin S$."
   ]
  },
  {
   "cell_type": "code",
   "execution_count": 1,
   "metadata": {},
   "outputs": [
    {
     "data": {
      "text/html": [
       "<h3>Local content of this theory</h3>"
      ],
      "text/plain": [
       "<IPython.core.display.HTML object>"
      ]
     },
     "metadata": {},
     "output_type": "display_data"
    },
    {
     "data": {
      "text/html": [
       "<table><tr>\n",
       "<th><a class=\"ProveItLink\" href=\"common.ipynb\">common expressions</a></th>\n",
       "<th><a class=\"ProveItLink\" href=\"axioms.ipynb\">axioms</a></th>\n",
       "<th><a class=\"ProveItLink\" href=\"theorems.ipynb\">theorems</a></th>\n",
       "<th><a class=\"ProveItLink\" href=\"demonstrations.ipynb\">demonstrations</a></th>\n",
       "</tr></table>\n",
       "<h3>Sub-theories</h3>\n"
      ],
      "text/plain": [
       "<IPython.core.display.HTML object>"
      ]
     },
     "metadata": {},
     "output_type": "display_data"
    },
    {
     "data": {
      "text/html": [
       "<h3>All axioms contained within this theory</h3>"
      ],
      "text/plain": [
       "<IPython.core.display.HTML object>"
      ]
     },
     "metadata": {},
     "output_type": "display_data"
    },
    {
     "data": {
      "text/html": [
       "<dt><a class=\"ProveItLink\" href=\"axioms.ipynb#enum_set_def\">proveit.logic.sets.enumeration.enum_set_def</a></dt><dd><a class=\"ProveItLink\" href=\"../__pv_it/axioms/b01212efd6e28480519640e6f97d2066a14ba12d0/expr.ipynb\"><img src=\"data:image/png;base64,iVBORw0KGgoAAAANSUhEUgAAAcsAAAAyBAMAAADBxu0RAAAAMFBMVEX///8QEBCIiIhmZma6urrM\n",
       "zMxUVFQiIiJERETc3Nzu7u6qqqp2dnaYmJgyMjIAAAAcRTyBAAAAAXRSTlMAQObYZgAAB3xJREFU\n",
       "aN7Vmn+IFGUYx5/dndnZnZ3VI+yHSrbewSVh3GJZf/jrTkGhSFeD8I/CxZR+EHKppZnJZaRnZa0R\n",
       "qCd24yF3ZqRbctBF0nYahP1gUftDMFwQBMNk0VN00673nZ/vO/u+M7Nr010v7O7szDPPvt+Z533e\n",
       "5/3sALi2B4ZvQX3tOIx0k7P6pzI83OBhOnF3V32/oRRqsU7Oqsn50w/5MltoyN29x0vm3fVeymb2\n",
       "7niRed0v1ei9LQMw4H3xSsaGGJTMBMfxAXZ/yjW6jyAB0Zyn2QdBy9zXyt5/kR3h7bUOCXSCXPLd\n",
       "i8BkvsMJo/S/JxMGfcdUUDITFfZ+iQq05NZ1m+5A5j5vu43BypTYdw12kl/Ezeod3c0xrZ523+UC\n",
       "lXmOkx6a0Kun+ZOpKfzlkEoNtaYU7FBdfPZMg/gE8wTcbyXt93IHJXM9Z/92JKeQXC1p2eMla3cU\n",
       "fVeEBmgBsYPrs9AG4TKZmvX54tfLuJ3n5IJKkDLFIc6BN5EcVakI2s22FX2JpsE9aJLoFB/hhm88\n",
       "Pxti1ilYVsI71OUrQcqM8NyOQ79sdlachG8D3lr6BnpTQym4AgK36zLcBWNT1v1fjRz4mG0vBykz\n",
       "lOXLBLOz8Q6qqIFFqnjNRSYIFViWMb9cAH8yW3IBylxW5ActWJ21fzuKFc+GcIObTBTUk+HUb41p\n",
       "c2zqtvrYvMA5qbsYoMyWHD8FJdQWCGsZdRo9P2yBWNZNJjq6BU7fD+PNTJss+Y2rgGS+zTtwDMVm\n",
       "/iPYq2f7PCXzMVhU1GQext3Hb/Lf5EYkK9yO97RDxTwh4mMRFGs3ZGqX5HcXme4GzHYf78ACgN7G\n",
       "nll6TMsvPkHK7G2ck9NkShvwNcC34XVzYx26/fLyppsQTQkNVnmQ8VFHlA2ZP+HPP1xkuhswk+JV\n",
       "7nRNRbPwI13szTbG2zfVxaNqjM5QJlLIGCf0+VnIXjNk7qKTXrVMdwPmtHmF+6uc0r0BlwjykDEX\n",
       "Vgejgl6r4HArdIP0ZMZ36W52Bckcgy6UkneR6W7ALNz/4h7axl1vSsVYCuKPX0+BnKou9NDrLdgM\n",
       "MB/CvxjrTR8LMTOwkMzkiYMHd7qlIHcDfqTUsKyGSyhcG6ebp1cfx4N5bpM9FttQ1R7L+enLdTPT\n",
       "3ujs3OiaaV0NWC18k3uIDUkgUQcLOuPL9IYpcyUvlEyZrgbMoVaBUdMmmTLn0VEurjkOk7OkzHn+\n",
       "hgFRr4wimfeaMiUIW5H0+bFZ8LWiRlRSJmngq0XLo0fmq6ZMpShZueP9LhWOptIKFbSEwf9YZrz0\n",
       "DObBS5pweKLW3/8xLVMzgMHpzSjTCc0gVS3x52Zhw2gN2nVWTbttBZLZVgzl9LquX/niWbqmxQZh\n",
       "dZWEsrgyVl0MUYfQQoWujZWbjtwa9wj6Ab+d9nKkeRpgpiA4gkqKrgdhrCprNUo/FI7RMrGBCH/i\n",
       "za4FMEX8npYZ398epqqk8DXHTHnAK8pzPmUeAB+eKG/3WDK1Ze5yaANxfWfnZiRzr0TL1NfB+i2a\n",
       "iSydYRspRKnCJUkykovAg9BEraKFkahtV9fjGfuglyPNEzUvXLVkJlVNz0wRsvrdFJbQMjUDsaz9\n",
       "0lq0yylTag1lTh09a0/2Q3QVm/REcFp5GsV6ktWV3kr8dtKlJHZ6Iopd+Ra13oyXYW0//IA3TwOc\n",
       "rV5vdislBXap8JpQxjLj76Ev5puUWQRfddghIN6m1ySSZ0xqZFnEV7k6wQFOgHqO83akedrHKN2N\n",
       "NVEWphYhhip0YVMrRKtl9p4ePAGL8zB/Sgl3RZwIi3PiePw2EYTlH6JbsdQRKXrbCQ4IzWw6Wb4I\n",
       "RrJ3HETihDT4cqR5Iji1vopw0oMpaGy60YO8nIsVtSuesD3BZ7Ad1RAP28432Wc0gQNCEwFlA2id\n",
       "LB9hL2ESabNO5ziiQHWa4tR60q8RkiRy0cJCEFtmkFl7AF4RStAL39rJfg5FfygIrWiE6jLuCAGg\n",
       "dayDwp6Jo1GiX2o6YzmiQHWJgkTRch0ykyCcLdhLI3PrqZ8dZ51TKZZHQWi7EQBaJ8vhFERbGZ1o\n",
       "BFhhOmM4okA19kRw6lBHkAAzT5FZEkITjQDQOnKV2+EQy12fOUewHVGgGnsiAG536r/B0eMcEJps\n",
       "NoA2OjZDB09VK568QS84jkhQ7ZAZKI6OlJ1Ba0FoY0hlgQLQBp79FJiYNl6Sqmk24YgE1dgTAXu3\n",
       "QoAyhSFnCrIhNNFsAG0kjdhzKaa/d08yaDYbVDtSUKB/FcEaEkDTEJpoFoA2ybL4gi6AYtG4QNjA\n",
       "oNlE8BCgGnuyOXU40D/+iFS7wAmhiWYBaIssG39T0iwaHU4zaDaRgwhQjT3ZnNpIEkHJDBX8FXsm\n",
       "gDbJMudZq7jKotnk/bRAdR/FqQP+U95+xMKldCcA9KA/txxHJKimS3cjOgJ7YOY8BaDZYJAA0H6R\n",
       "GtsRAarphVhiQsAyd2S8l9U2gI7d2bKaANXYk+0t8Mef7HrLDyQ549etJyQ5Q3l7HgKWiSaLkW/J\n",
       "Dr8y637QNJoaeZn+HzSt/7HhR0dcpfyyseYcHm74BwzjOMeoNQNOAAAAAElFTkSuQmCC\n",
       "\" style=\"display:inline;vertical-align:middle;\" /></a></dd>"
      ],
      "text/plain": [
       "<IPython.core.display.HTML object>"
      ]
     },
     "metadata": {},
     "output_type": "display_data"
    },
    {
     "data": {
      "text/html": [
       "<dt><a class=\"ProveItLink\" href=\"axioms.ipynb#empty_set_def\">proveit.logic.sets.enumeration.empty_set_def</a></dt><dd><a class=\"ProveItLink\" href=\"../__pv_it/axioms/3b9d3c9283635556da5095a1308c9d36b6eb08250/expr.ipynb\"><img src=\"data:image/png;base64,iVBORw0KGgoAAAANSUhEUgAAADoAAAAVBAMAAADlb+D4AAAAMFBMVEX////MzMwQEBDu7u66urpm\n",
       "ZmaYmJhUVFQiIiLc3NwyMjKIiIh2dnaqqqpEREQAAABVi3StAAAAAXRSTlMAQObYZgAAANRJREFU\n",
       "KM9jYGBg4GPAAKkJDKKbQQze0+cwJK0OAAknASBxmmEXhmw+iGBdwMDA2cDwfAO67AkQwdPAwMAW\n",
       "wNDSgFOWbwNL8GecskwJrM4fccryX+Bg+IJdVgEkO4/hL4i9CgwCwLJVIILtA1A2YRtYFhnwKoKp\n",
       "pSB7F6ObzPhiAphm72bg2LyAGd1VLBC9y4EKzh5g/ICwtwAsXgezl+25ANsDnG5m6GDgcsDpX4Yb\n",
       "k08z4JY95jYBj+wFzLhnOASXxQbg8YsVcIHThgMOWYarkHQFANuAQxxgY/+kAAAAAElFTkSuQmCC\n",
       "\" style=\"display:inline;vertical-align:middle;\" /></a></dd>"
      ],
      "text/plain": [
       "<IPython.core.display.HTML object>"
      ]
     },
     "metadata": {},
     "output_type": "display_data"
    }
   ],
   "source": [
    "import proveit\n",
    "%theory"
   ]
  },
  {
   "cell_type": "code",
   "execution_count": null,
   "metadata": {},
   "outputs": [],
   "source": []
  }
 ],
 "metadata": {
  "kernelspec": {
   "display_name": "Python 3",
   "language": "python",
   "name": "python3"
  }
 },
 "nbformat": 4,
 "nbformat_minor": 0
}