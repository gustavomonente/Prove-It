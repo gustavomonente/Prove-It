{
 "cells": [
  {
   "cell_type": "markdown",
   "metadata": {},
   "source": [
    "Demonstrations for the theory of <a class=\"ProveItLink\" href=\"_theory_.ipynb\">proveit.logic.sets.enumeration</a>\n",
    "========"
   ]
  },
  {
   "cell_type": "code",
   "execution_count": null,
   "metadata": {},
   "outputs": [],
   "source": [
    "import proveit\n",
    "from proveit import ExprRange, InstantiationFailure, ProofFailure, used_vars, free_vars\n",
    "from proveit._common_ import a, b, c, d, e, i, l, m, n, x, y\n",
    "from proveit._common_ import A, B, C, D, E\n",
    "from proveit.logic import Boolean, TRUE, FALSE\n",
    "from proveit.logic import (Equals, Forall, InSet, NotEquals, NotInSet,\n",
    "                           Or, ProperSubset, Set, SubsetEq)\n",
    "from proveit.numbers import zero, one, two, three, four, five, six, seven\n",
    "%begin demonstrations"
   ]
  },
  {
   "cell_type": "markdown",
   "metadata": {},
   "source": [
    "# Enumerated Sets $\\{a, b, \\ldots, n\\}$"
   ]
  },
  {
   "cell_type": "markdown",
   "metadata": {},
   "source": [
    "<div style=\"line-height:1.4; font-size:14pt\">\n",
    "<a href='#introduction'>Introduction</a><br>\n",
    "<a href='#simple_expressions'>Simple Expressions involving the enumerated Set class</a><br>\n",
    "<a href='#common_attributes'>Common Attributes of an enumerated Set</a><br>\n",
    "<a href='#axioms'>Axioms</a><br>\n",
    "<a href='#theorems_and_conjectures'>Theorems & Conjectures</a><br>\n",
    "<a href='#further_demonstrations'>Further Demonstrations</a><br>\n",
    "    <ol>\n",
    "        <li><a href='#demo01'>Deducing Set memberships such as $\\vdash b\\in\\{a, b, c\\}$, $\\vdash 1\\in\\{1, 2, 3\\}$, and $\\vdash \\{a, b\\}\\in\\{\\{\\}, \\{a\\}, \\{b\\}, \\{a, b\\}\\}$</a></li>\n",
    "        <li><a href='#demo02'>Deducing Set non-memberships such as $\\vdash 4\\notin\\{1, 2, 3\\}$ and $\\vdash d\\notin\\{a, b, c\\}$</a></li>\n",
    "        <li><a href='#demo03'>Deducing subset relationships between enumerated Sets: $\\vdash\\{2, 4, 6\\}\\subseteq\\{1, 2, 3, 4, 5, 6, 7\\}$ and $\\vdash\\{1, 3, 5, 1, 5\\}\\subseteq\\{1, 2, 3, 4, 5, 6, 7\\}$</a></li>\n",
    "        <li><a href='#demo04'>Instantiating the <span style=\"font-family:courier;\">properSubsetOfSuperset</span> conjecture to deduce $\\{1, 2, 3\\}\\subset\\{1, 2, 3, 4, 5, 6\\}$</a></li>\n",
    "        <li><a href='#demo05'>Deducing that $\\{2, 4, 6\\}\\subset\\{1, 2, 3, 4, 5, 6\\}$ and $\\{c, b, a\\} \\subset \\{a, b, c, d, e\\}$</a></li>\n",
    "        <li><a href='#demo06'>Deducing that $\\{1, a, 1\\}\\subset\\{1, a, 1, b, 2, a\\}$ when $a = 1$</a></li>\n",
    "    </ol>\n",
    "<a href='#misc_testing'>Miscellaneous Testing</a><br>\n",
    "</div>"
   ]
  },
  {
   "cell_type": "markdown",
   "metadata": {},
   "source": [
    "## Introduction <a id='introduction'></a>"
   ]
  },
  {
   "cell_type": "markdown",
   "metadata": {},
   "source": [
    "<font size=3>Finite, explicitly enumerated sets (<i>i.e.</i>, sets defined by an explicit listing of elements) are ubiquitous in logic and mathematics, and regularly arise in theorems and proofs. For example, one might need to consider elements in the Boolean set: $\\mathbb{B}=\\{\\mathtt{TRUE}, \\mathtt{FALSE}\\} = \\{\\top, \\bot\\}$ or the integer equivalents $\\{1, 0\\}$, or perhaps a set of variables $\\{a, b, c\\}$ or that set's power set $\\{\\{\\}, \\{a\\}, \\{b\\}, \\{c\\}, \\{a, b\\}, \\{b, c\\}, \\{a, c\\}, \\{a, b, c\\} \\}$. Often, one needs to consider a finite but unspecified-size set such as $\\{a, b, \\ldots, n\\}$.<br/><br/>\n",
    "In Prove-It, we construct such finite enumerated sets with the `Set` class, which takes an arbitrary number of Prove-It expressions as arguments (including zero arguments for an empty set), like this: $\\mathtt{Set}(e_1, e_2, \\ldots, e_n)$. The result is a set of the elements $e_1$, $e_2$, $\\ldots$, $e_n$, where the initial order specified is preserved for display purposes but the order itself has no inherent meaning.<br/><br/>\n",
    "    Interestingly, you can also create redundantly populated sets such as $\\{a, b, a\\}$, which as we'll see below, are not considered multi-sets but instead are simply alternative representations of the reduced “support set” without the multiplicities — <i>e.g.</i>, $\\{a, b, a\\} = \\{a, b\\}$. Until one actively requests that a set such as $\\{a, b, a\\}$ be reduced to its support, Prove-It will continue to encode and display the set with the seeming multiplicities.</font>"
   ]
  },
  {
   "cell_type": "markdown",
   "metadata": {},
   "source": [
    "## Simple Expressions Involving Enumerated Sets<a id='simple_expressions'></a>"
   ]
  },
  {
   "cell_type": "markdown",
   "metadata": {},
   "source": [
    "<font size=3>Enumerated sets are easy to construct using the Set class, and such Sets are easily incorporated into other expressions. Various Set construction examples are shown below, including small Sets of literals and variables, a Set of Sets (including an empty set), and a finite Set of unspecified length:</font>"
   ]
  },
  {
   "cell_type": "code",
   "execution_count": null,
   "metadata": {},
   "outputs": [],
   "source": [
    "# A 3-element set of (literal) integers:\n",
    "set_123 = Set(one, two, three)"
   ]
  },
  {
   "cell_type": "code",
   "execution_count": null,
   "metadata": {},
   "outputs": [],
   "source": [
    "# A 3-element set of variables:\n",
    "set_abc = Set(a, b, c)"
   ]
  },
  {
   "cell_type": "code",
   "execution_count": null,
   "metadata": {},
   "outputs": [],
   "source": [
    "# A 6-element set of combining literals and variables:\n",
    "set_123_abc = Set(one, two, three, a, b, c)"
   ]
  },
  {
   "cell_type": "code",
   "execution_count": null,
   "metadata": {},
   "outputs": [],
   "source": [
    "# A 4-element set of enumerated sets, including an empty set:\n",
    "power_set_ab = Set(Set(), Set(a), Set(b), Set(a, b))"
   ]
  },
  {
   "cell_type": "code",
   "execution_count": null,
   "metadata": {},
   "outputs": [],
   "source": [
    "# a set of the first n positive integers\n",
    "# set_1_to_n = Set(Iter(i, i, one, n))\n",
    "set_1_to_n = Set(ExprRange(i, i, one, n))"
   ]
  },
  {
   "cell_type": "code",
   "execution_count": null,
   "metadata": {},
   "outputs": [],
   "source": [
    "# Claim that x is a member of the set {a, b, c}\n",
    "InSet(x, set_123)"
   ]
  },
  {
   "cell_type": "code",
   "execution_count": null,
   "metadata": {},
   "outputs": [],
   "source": [
    "# A more elaborate claim about what it means for x to be a member\n",
    "# of the set {1, 2, 3}. Notice the set appears as a domain specification:\n",
    "Forall(x, Or(Equals(x, one), Equals(x, two), Equals(x, three)), domain=set_123)"
   ]
  },
  {
   "cell_type": "markdown",
   "metadata": {},
   "source": [
    "## Common Attributes of enumerated Set expressions <a id='common_attributes'></a>"
   ]
  },
  {
   "cell_type": "markdown",
   "metadata": {},
   "source": [
    "<font size=3>Let's look at some simple examples of enumerated sets and their common attributes.</font>"
   ]
  },
  {
   "cell_type": "code",
   "execution_count": null,
   "metadata": {},
   "outputs": [],
   "source": [
    "# Recall some enumerated sets defined earlier:\n",
    "display(set_123)\n",
    "display(set_abc)\n",
    "display(power_set_ab)"
   ]
  },
  {
   "cell_type": "markdown",
   "metadata": {},
   "source": [
    "<font size=3>We can look at the construction of such expressions by calling <font style=\"font-family:courier\">exprInfo()</font> to see the table version of the expression's underlying directed acyclic graph (DAG) representation:</font>"
   ]
  },
  {
   "cell_type": "code",
   "execution_count": null,
   "metadata": {},
   "outputs": [],
   "source": [
    "# See how an enumerated set expression is constructed:\n",
    "set_123.exprInfo()"
   ]
  },
  {
   "cell_type": "markdown",
   "metadata": {},
   "source": [
    "<font size=3>We can access the elements of an enumerated Set as operands of the Set class or somewhat more intuitively as elements of the Set, either of which return a tuple of the elements:</font>"
   ]
  },
  {
   "cell_type": "code",
   "execution_count": null,
   "metadata": {},
   "outputs": [],
   "source": [
    "# the elements of the enumerated, as a tuple of elements\n",
    "set_123.operands"
   ]
  },
  {
   "cell_type": "code",
   "execution_count": null,
   "metadata": {},
   "outputs": [],
   "source": [
    "# or more intuitively, using the elements attribute:\n",
    "set_123.elements"
   ]
  },
  {
   "cell_type": "markdown",
   "metadata": {},
   "source": [
    "<font size=3>Of course, we can also access each of the elements individually:</font>"
   ]
  },
  {
   "cell_type": "code",
   "execution_count": null,
   "metadata": {},
   "outputs": [],
   "source": [
    "# and we can grab any single element:\n",
    "e1, e2, e3 = set_123.elements[0], set_123.elements[1], set_123.elements[2]"
   ]
  },
  {
   "cell_type": "markdown",
   "metadata": {},
   "source": [
    "<font size=3>And we can grab a slice of the elements:</font>"
   ]
  },
  {
   "cell_type": "code",
   "execution_count": null,
   "metadata": {},
   "outputs": [],
   "source": [
    "# grab a slice of the elements:\n",
    "set_123.operands[1:3]"
   ]
  },
  {
   "cell_type": "markdown",
   "metadata": {},
   "source": [
    "<font size=3>We can get the set of all variables appearing in a Set, which returns an empty set if there no variables, and returns a reduced set if there are multiple instances of any variables:</font>"
   ]
  },
  {
   "cell_type": "code",
   "execution_count": null,
   "metadata": {},
   "outputs": [],
   "source": [
    "# the set of variables used in the enumerated set\n",
    "# (in this case an empty set because the set contains only literals)\n",
    "used_vars(set_123)"
   ]
  },
  {
   "cell_type": "code",
   "execution_count": null,
   "metadata": {},
   "outputs": [],
   "source": [
    "# the set of variables used in the enumerated set\n",
    "used_vars(set_abc)"
   ]
  },
  {
   "cell_type": "code",
   "execution_count": null,
   "metadata": {},
   "outputs": [],
   "source": [
    "# define a set with two instances of the same variable\n",
    "set_aba = Set(a, b, a)"
   ]
  },
  {
   "cell_type": "code",
   "execution_count": null,
   "metadata": {},
   "outputs": [],
   "source": [
    "# notice that the operands include multiplicities\n",
    "set_aba_operands = set_aba.operands"
   ]
  },
  {
   "cell_type": "code",
   "execution_count": null,
   "metadata": {},
   "outputs": [],
   "source": [
    "# and the elements attribute includes multiplicities\n",
    "set_aba_elements = set_aba.elements"
   ]
  },
  {
   "cell_type": "code",
   "execution_count": null,
   "metadata": {},
   "outputs": [],
   "source": [
    "# but the tuple of variables used is just (a, b)\n",
    "# and the order of appearance is not guaranteed\n",
    "set_aba_vars = used_vars(set_aba)"
   ]
  },
  {
   "cell_type": "markdown",
   "metadata": {},
   "source": [
    "<font size=3>We can also dig into a Set in terms of its sub-expressions:</font>"
   ]
  },
  {
   "cell_type": "code",
   "execution_count": null,
   "metadata": {},
   "outputs": [],
   "source": [
    "# grab subexpressions from the Set construction\n",
    "subexpr0, subexpr_1, subexpr_11 = (\n",
    "        set_abc.subExpr(0),\n",
    "        set_abc.subExpr(1),\n",
    "        set_abc.subExpr(1).subExpr(1))"
   ]
  },
  {
   "cell_type": "markdown",
   "metadata": {},
   "source": [
    "## Axioms <a id='axioms'></a>"
   ]
  },
  {
   "cell_type": "markdown",
   "metadata": {},
   "source": [
    "<font size=3>Right now we have a single axiom in the logic.sets/enumeration theory, defining what it means to be a member of an enumerated set. If $x\\in\\{y_1,y_2, \\ldots,y_n\\}$, then $x=y_1 \\lor x=y_2 \\lor \\ldots \\lor x=y_n$:</font>"
   ]
  },
  {
   "cell_type": "code",
   "execution_count": null,
   "metadata": {},
   "outputs": [],
   "source": [
    "from proveit.logic.sets.enumeration._axioms_ import enumSetDef\n",
    "enumSetDef"
   ]
  },
  {
   "cell_type": "markdown",
   "metadata": {},
   "source": [
    "<font size=3>As an exercise, we could, for example, manually instantiate that axiom for the case of $x\\in\\mathbb{B}$, by first instantiating for $x\\in\\{\\top, \\bot\\}$:</font>"
   ]
  },
  {
   "cell_type": "code",
   "execution_count": null,
   "metadata": {},
   "outputs": [],
   "source": [
    "enumSetDefSpec = enumSetDef.instantiate(\n",
    "        {n:two, x:x, y:(TRUE, FALSE)})"
   ]
  },
  {
   "cell_type": "markdown",
   "metadata": {},
   "source": [
    "<font size=3>… and then bring in our axiomatic definition of the Boolean as $\\mathbb{B}=\\{\\top, \\bot\\}$ and perform the appropriate substitution:</font>"
   ]
  },
  {
   "cell_type": "code",
   "execution_count": null,
   "metadata": {},
   "outputs": [],
   "source": [
    "from proveit.logic.booleans._axioms_ import boolsDef\n",
    "boolsDef"
   ]
  },
  {
   "cell_type": "code",
   "execution_count": null,
   "metadata": {},
   "outputs": [],
   "source": [
    "boolsDef.subLeftSideInto(enumSetDefSpec)"
   ]
  },
  {
   "cell_type": "markdown",
   "metadata": {},
   "source": [
    "## Theorems & Conjectures<a id='theorems_and_conjectures'></a>"
   ]
  },
  {
   "cell_type": "markdown",
   "metadata": {},
   "source": [
    "<font size=3>The `logic.sets/enumeration` theory already has a substantial number of related theorems and conjectures established, most of which would typically be used implicitly behind-the-scenes when utilizing the various related Set class methods instead of being used directly and explicitly in theorem form. Some illustrative examples of the theorems are shown below, and the remainder can be found in the [enumeration theorems Jupyter Python notebook](./\\_theorems\\_.ipynb).</font>"
   ]
  },
  {
   "cell_type": "code",
   "execution_count": null,
   "metadata": {},
   "outputs": [],
   "source": [
    "from proveit.logic.sets.enumeration._theorems_ import (\n",
    "        fold, foldSingleton, leftwardPermutation,\n",
    "        reduction_right, subsetEqOfSuperset)"
   ]
  },
  {
   "cell_type": "code",
   "execution_count": null,
   "metadata": {},
   "outputs": [],
   "source": [
    "# If x=y1 or x=y2 or … or x=yn, then x is in the\n",
    "# set containing all those options\n",
    "fold"
   ]
  },
  {
   "cell_type": "code",
   "execution_count": null,
   "metadata": {},
   "outputs": [],
   "source": [
    "# if x=y, then x is in the set {y}\n",
    "foldSingleton"
   ]
  },
  {
   "cell_type": "code",
   "execution_count": null,
   "metadata": {},
   "outputs": [],
   "source": [
    "# An enumerated set is equal to a version of itself in which\n",
    "# an element is moved to the left in the \"list\" of elements.\n",
    "# Notice the set element 'c' below:\n",
    "leftwardPermutation"
   ]
  },
  {
   "cell_type": "code",
   "execution_count": null,
   "metadata": {},
   "outputs": [],
   "source": [
    "# An enumerated set is equal to a version of itself in which a 2nd\n",
    "# occurrence of an element is removed. Notice the element(s) x in\n",
    "# the set below:\n",
    "reduction_right"
   ]
  },
  {
   "cell_type": "code",
   "execution_count": null,
   "metadata": {},
   "outputs": [],
   "source": [
    "# An enumerated set is always an improper subset of\n",
    "# any set containing the original enumerated set\n",
    "subsetEqOfSuperset"
   ]
  },
  {
   "cell_type": "markdown",
   "metadata": {},
   "source": [
    "## Demonstrations <a id='further_demonstrations'></a>"
   ]
  },
  {
   "cell_type": "markdown",
   "metadata": {},
   "source": [
    "<div style=\"width: 90%; border: 5px solid green; padding: 10px; margin: 0px;\"><a id='demo01'></a><font size=4><b>1.</b> Deducing Set memberships such as $\\vdash b\\in\\{a, b, c\\}$, $\\vdash 1\\in\\{1, 2, 3\\}$, and $\\vdash \\{a, b\\}\\in\\{\\{\\}, \\{a\\}, \\{b\\}, \\{a, b\\}\\}$.</font></div><br>\n",
    "<font size=3>Many simple enumerated set membership claims can be deduced automatically or relatively easily.<br/>Let's start with a few claims about set membership:</font>"
   ]
  },
  {
   "cell_type": "code",
   "execution_count": null,
   "metadata": {},
   "outputs": [],
   "source": [
    "# Some (as yet) unproven claims\n",
    "b_in_set_abc, three_in_set_123, set_ab_in_its_power_set = (\n",
    "        InSet(b, set_abc), InSet(three, set_123), InSet(Set(a, b), power_set_ab))"
   ]
  },
  {
   "cell_type": "markdown",
   "metadata": {},
   "source": [
    "<font size=3>Prove-It can prove each of these claims automatically, without any extra nudging from us:</font>"
   ]
  },
  {
   "cell_type": "code",
   "execution_count": null,
   "metadata": {},
   "outputs": [],
   "source": [
    "# prove the claim that b is an elem of {a, b, c}\n",
    "b_in_set_abc.prove()"
   ]
  },
  {
   "cell_type": "code",
   "execution_count": null,
   "metadata": {},
   "outputs": [],
   "source": [
    "# prove the claim that 3 is an elem of {1, 2, 3}\n",
    "three_in_set_123.prove()"
   ]
  },
  {
   "cell_type": "code",
   "execution_count": null,
   "metadata": {},
   "outputs": [],
   "source": [
    "# prove the claim that {a,b} is an elem of its own power set\n",
    "set_ab_in_its_power_set.prove()"
   ]
  },
  {
   "cell_type": "markdown",
   "metadata": {},
   "source": [
    "<font size=3>The proofs generated by Prove-It for those three judgments established above (click on the turnstile in an expression to go to the proof page), are somewhat complicated and opaque, relying on the very basic `fold` theorem each time for how membership is defined for an enumerated set. As an alternative, consider a manual application of the `inEnumeratedSet` theorem:</font>"
   ]
  },
  {
   "cell_type": "code",
   "execution_count": null,
   "metadata": {},
   "outputs": [],
   "source": [
    "from proveit.logic.sets.enumeration._theorems_ import inEnumeratedSet\n",
    "inEnumeratedSet"
   ]
  },
  {
   "cell_type": "code",
   "execution_count": null,
   "metadata": {},
   "outputs": [],
   "source": [
    "# Instantiate the theorem for the case of {a,b} being in its own power set:\n",
    "set_ab_in_its_power_set_kt = inEnumeratedSet.instantiate(\n",
    "    {m:three, n:zero, a:(Set(), Set(a), Set(b)), b:Set(a,b), c:()})"
   ]
  },
  {
   "cell_type": "markdown",
   "metadata": {},
   "source": [
    "<font size=3>Now the proof of such a claim is relatively straightforward, and we will have moved much of the heavy-lifting of the previous proofs to a single underlying proof of the `inEnumeratedSet` theorem itself:</font>"
   ]
  },
  {
   "cell_type": "code",
   "execution_count": null,
   "metadata": {},
   "outputs": [],
   "source": [
    "set_ab_in_its_power_set_kt.proof()"
   ]
  },
  {
   "cell_type": "markdown",
   "metadata": {},
   "source": [
    "<div style=\"width: 90%; border: 5px solid green; padding: 10px; margin: 0px;\"><a id='demo02'></a><font size=4><b>2.</b> Deducing Set non-memberships such as $\\vdash 4\\notin\\{1, 2, 3\\}$ and $\\vdash d\\notin\\{a, b, c\\}$.</font></div><br>\n",
    "<font size=3>Many simple enumerated set non-membership claims can be deduced automatically or relatively easily.<br/>\n",
    "First, recall a some enumerated Sets defined earlier:</font>"
   ]
  },
  {
   "cell_type": "code",
   "execution_count": null,
   "metadata": {},
   "outputs": [],
   "source": [
    "display(set_123)\n",
    "display(set_abc)"
   ]
  },
  {
   "cell_type": "markdown",
   "metadata": {},
   "source": [
    "<font size=3>Prove-It can automatically prove some simple non-membership claims:</font>"
   ]
  },
  {
   "cell_type": "code",
   "execution_count": null,
   "metadata": {},
   "outputs": [],
   "source": [
    "NotInSet(four, set_123).prove()"
   ]
  },
  {
   "cell_type": "markdown",
   "metadata": {},
   "source": [
    "<font size=3>If the sets involve variables with unassigned values, however, things are more complicated. For example, Prove-It will rightly refuse to automatically deduce that $d\\notin \\{a, b, c\\}$, because we don't know what the variables might be equal to:</font>"
   ]
  },
  {
   "cell_type": "code",
   "execution_count": null,
   "metadata": {},
   "outputs": [],
   "source": [
    "try:\n",
    "    NotInSet(d, set_abc).prove()\n",
    "    assert False, \"Should not make it to this point.\"\n",
    "except ProofFailure as e:\n",
    "    print(\"Proof Failure: {}\".format(e))"
   ]
  },
  {
   "cell_type": "markdown",
   "metadata": {},
   "source": [
    "<font size=3>If we can provide Prove-It with the appropriate assumptions, however, we're OK:</font>"
   ]
  },
  {
   "cell_type": "code",
   "execution_count": null,
   "metadata": {},
   "outputs": [],
   "source": [
    "NotInSet(d, set_abc).prove(assumptions=[NotEquals(a,d), NotEquals(b,d), NotEquals(c,d)])"
   ]
  },
  {
   "cell_type": "markdown",
   "metadata": {},
   "source": [
    "<font size=3>In real-life operations, somewhere along the way we might have already proven that set of inequalities $a\\ne d$, $b\\ne d$, $c\\ne d$, and Prove-It would then be able to automatically prove that $d\\notin\\{a, b, c\\}$.</font>"
   ]
  },
  {
   "cell_type": "markdown",
   "metadata": {},
   "source": [
    "<div style=\"width: 90%; border: 5px solid green; padding: 10px; margin: 0px;\"><a id='demo03'></a><font size=4><b>3.</b> Deducing subset relationships between enumerated Sets: $\\vdash\\{2, 4, 6\\}\\subseteq\\{1, 2, 3, 4, 5, 6, 7\\}$ and $\\vdash\\{1, 3, 5, 1, 5\\}\\subseteq\\{1, 2, 3, 4, 5, 6, 7\\}$.</font></div><br>\n",
    "<font size=3>Although Prove-It might not be able to automatically prove that any arbitrary enumerated Set is a subset of another, the enumerated Set class has some machinery to help us out.<br/><br/>\n",
    "Consider the following sets, which include the set $\\{1, 3, 5, 1, 5\\}$ with redundant elements (recall that the enumerated Set class allows us to create a set that appears to hold multiple copies of the same element, but the set is not actually a multi-set):</font>"
   ]
  },
  {
   "cell_type": "code",
   "execution_count": null,
   "metadata": {},
   "outputs": [],
   "source": [
    "# define some enumerated sets\n",
    "set_1234567, set_evens, set_odds = (\n",
    "        Set(one, two, three, four, five, six, seven),\n",
    "        Set(two, four, six),\n",
    "        Set(one, three, five, one, five))"
   ]
  },
  {
   "cell_type": "markdown",
   "metadata": {},
   "source": [
    "<font size=3>Prove-It can automatically prove that $\\{2, 4, 6\\}\\subseteq\\{1, 2, 3, 4, 5, 6, 7\\}$:</font>"
   ]
  },
  {
   "cell_type": "code",
   "execution_count": null,
   "metadata": {},
   "outputs": [],
   "source": [
    "SubsetEq(set_evens, set_1234567).prove()"
   ]
  },
  {
   "cell_type": "markdown",
   "metadata": {},
   "source": [
    "<font size=3>This can produce an odd-looking result, because an enumerated Set might look like a multi-set but is in fact equal to its underlying support. For example, because $\\{1, 3, 5, 1, 5\\} = \\{1, 3, 5\\}$, we have the following result, even though the subset <i>appears</i> to have multiple copies of elements $1$ and $5$:</font>"
   ]
  },
  {
   "cell_type": "code",
   "execution_count": null,
   "metadata": {},
   "outputs": [],
   "source": [
    "SubsetEq(set_odds, set_1234567).prove()"
   ]
  },
  {
   "cell_type": "markdown",
   "metadata": {},
   "source": [
    "<div style=\"width: 90%; border: 5px solid green; padding: 10px; margin: 0px;\"><a id='demo04'></a><font size=4><b>4.</b> Instantiating the <span style=\"font-family:courier;\">properSubsetOfSuperset</span> conjecture to deduce $\\{1, 3, 5\\}\\subset\\{1, 2, 3, 4, 5, 6\\}$.</font></div><br>\n",
    "<font size=3>The enumerated Set class has machinery to help automate the deduction of proper subset relationships such as $\\{1, 3, 5\\}\\subset\\{1, 2, 3, 4, 5, 6\\}$ between enumerated Sets. To gain some insight into how such machinery works, however, it can be useful to derive such a relationship by manually enacting the same steps as the automation would.<br/><br/>\n",
    "So, consider the enumerated Sets $\\{1, 3, 5\\}$ and $\\{1, 2, 3, 4, 5, 6\\}$ defined below:</font>"
   ]
  },
  {
   "cell_type": "code",
   "execution_count": null,
   "metadata": {},
   "outputs": [],
   "source": [
    "set_135, set_123456 = (\n",
    "        Set(one, three, five),\n",
    "        Set(one, two, three, four, five, six))"
   ]
  },
  {
   "cell_type": "markdown",
   "metadata": {},
   "source": [
    "<font size=3>Prove-It will not automatically prove that $\\{1, 3, 5\\}\\subset\\{1, 2, 3, 4, 5, 6\\}$:</font>"
   ]
  },
  {
   "cell_type": "code",
   "execution_count": null,
   "metadata": {},
   "outputs": [],
   "source": [
    "# supplying incorrect (out-of-bound) indices for cycles\n",
    "# should give an informative error\n",
    "try:\n",
    "    ProperSubset(set_135, set_123456).prove()\n",
    "    assert False, \"Should not get to this line!\"\n",
    "except ProofFailure as e:\n",
    "    print(\"Proof Failure: {}\".format(e))"
   ]
  },
  {
   "cell_type": "markdown",
   "metadata": {},
   "source": [
    "<font size=3>But we have an established theorem (really a conjecture) in the `enumeration` theory that we can use to deduce the subset relationship:</font>"
   ]
  },
  {
   "cell_type": "code",
   "execution_count": null,
   "metadata": {},
   "outputs": [],
   "source": [
    "from proveit.logic.sets.enumeration._theorems_ import properSubsetOfSuperset\n",
    "properSubsetOfSuperset"
   ]
  },
  {
   "cell_type": "markdown",
   "metadata": {},
   "source": [
    "<font size=3>Our goal here is to instantiate the <span style=\"font-family:courier;\">properSubsetOfSuperset</span> theorem with the details of our desired case, where we will take:\n",
    "    <ul>\n",
    "        <li>$m=3$ to be the size of our subset Set $\\{1, 3, 5\\}$;</li>\n",
    "        <li>$n=2$ to be the size of $c_1, \\ldots, c_n$ portion of our superset Set\n",
    "            $\\{1, 2, 3, 4, 5, 6\\}$;</li>\n",
    "        <li>$\\{a_1, \\ldots, a_m\\}$ to be our subset $\\{1, 3, 5\\}$;</li>\n",
    "        <li>and $\\{a_1, \\ldots, a_m, b, c_1, \\ldots, c_n\\}$ to be our superset $\\{1, 2, 3, 4, 5, 6\\}$ after being suitably permuted to something like $\\{1, 3, 5, 2, 4, 6\\}$, which then requires $b$ to be the element $2$ and $\\{c_1, \\ldots, c_n\\}$ to be the set $\\{4, 6\\}$.</li>\n",
    "        </ul>\n",
    "We begin the process by deducing an equivalence between our original superset and the permuted version of that set required for the theorem application:</font>"
   ]
  },
  {
   "cell_type": "code",
   "execution_count": null,
   "metadata": {},
   "outputs": [],
   "source": [
    "superset_permuted_kt = set_123456.permutation(new_order=[0, 2, 4, 1, 3, 5])"
   ]
  },
  {
   "cell_type": "markdown",
   "metadata": {},
   "source": [
    "<font size=3>Notice that we eventually want to replace $b$ with our superset element $2$ (although we could have chosen any superset element that isn't in the subset and chosen a different permutation as necessary), and so we'll want to know that $2\\notin\\{1, 3, 5\\}$. The instantiation machinery might handle that part for us automatically, but for this example we'll ask Prove-It to first do it for us explicitly:</font>"
   ]
  },
  {
   "cell_type": "code",
   "execution_count": null,
   "metadata": {},
   "outputs": [],
   "source": [
    "NotInSet(two, set_135).prove()"
   ]
  },
  {
   "cell_type": "markdown",
   "metadata": {},
   "source": [
    "<font size=3>Now we should be ready to instantiate the <span style=\"font-family:courier;\">properSubsetOfSuperset</span> theorem as shown below:</font>"
   ]
  },
  {
   "cell_type": "code",
   "execution_count": null,
   "metadata": {},
   "outputs": [],
   "source": [
    "properSubsetOfSupersetSpec = properSubsetOfSuperset.instantiate(\n",
    "        {m:three, n:two, a:set_135.elements, b:two, c:(four, six)})"
   ]
  },
  {
   "cell_type": "markdown",
   "metadata": {},
   "source": [
    "<font size=3>And finally we use our earlier-derived permutation equivalence to back substitute and get the desired subset relationship:</font>"
   ]
  },
  {
   "cell_type": "code",
   "execution_count": null,
   "metadata": {},
   "outputs": [],
   "source": [
    "superset_permuted_kt.subLeftSideInto(properSubsetOfSupersetSpec)"
   ]
  },
  {
   "cell_type": "markdown",
   "metadata": {},
   "source": [
    "<div style=\"width: 90%; border: 5px solid green; padding: 10px; margin: 0px;\"><a id='demo05'></a><font size=4><b>5.</b> Deducing that $\\{2, 4, 6\\}\\subset\\{1, 2, 3, 4, 5, 6\\}$ and $\\{c, b, a\\}\\subset\\{a, b, c, d, e\\}$.</font></div><br>\n",
    "<font size=3>The enumerated Set class has machinery to help automate the deduction of proper subset relationships such as $\\{1, 3, 5\\}\\subset\\{1, 2, 3, 4, 5, 6\\}$ derived manually in the previous demonstration. That process of set reduction, permutation, theorem application, and back substitution, has been encapsulated in the `Set.deduceEnumProperSubset()` method. For example, we can derive that $\\{2, 4, 6\\}\\subset\\{1, 2, 3, 4, 5, 6\\}$ in a single step:</font>"
   ]
  },
  {
   "cell_type": "code",
   "execution_count": null,
   "metadata": {},
   "outputs": [],
   "source": [
    "# define the subset {2, 4, 6}\n",
    "set_246 = Set(two, four, six)"
   ]
  },
  {
   "cell_type": "code",
   "execution_count": null,
   "metadata": {},
   "outputs": [],
   "source": [
    "# deduce that {2, 4, 6} is a proper subset of {1, 2, 3, 4, 5, 6}\n",
    "set_123456.deduceEnumProperSubset(subset=set_246)"
   ]
  },
  {
   "cell_type": "markdown",
   "metadata": {},
   "source": [
    "<font size=3>That process works without any special assumptions included in the call of the `deduceEnumProperSubset()` method because Prove-It recognizes the elements $1, 2, \\ldots, 6$ as distinct literals and thus that (e.g.) $1\\notin\\{2, 4, 6\\}$ (which allows Prove-It to recognize that the set $\\{1, 2, 3, 4, 5, 6\\}$ not only contains the set $\\{2, 4, 6\\}$ but also has elements not in that subset).<br/>\n",
    "If we are dealing with <i>variables</i>, though, the process is not so clear-cut. Consider, for example, the claim that $\\{c, b, a\\}\\subset\\{a, b, c, d, e\\}$. If one interprets the letter elements as literals, then it's clear that $d\\notin\\{c, b, a\\}$ and we can easily understand that $\\{c, b, a\\}$ is a proper subset of $\\{a, b, c, d, e\\}$. But if $a, b, \\ldots, e$ are variables, it's not at all clear that $d\\ne a$ and thus it's not clear that $d\\notin\\{c, b, a\\}$.<br/>\n",
    "Thus, without some additional information or additional assumptions, the `deduceEnumProperSubset()` method will fail to deduce the desired relationship:</font>"
   ]
  },
  {
   "cell_type": "code",
   "execution_count": null,
   "metadata": {},
   "outputs": [],
   "source": [
    "from proveit._common_ import e\n",
    "set_abcde, set_cba = Set(a, b, c, d, e), Set(c, b, a)\n",
    "try:\n",
    "    set_abcde.deduceEnumProperSubset(subset=set_cba)\n",
    "    assert False, \"Should not make it to this point.\"\n",
    "except ValueError as e:\n",
    "    print(\"Proof Failure: {}\".format(e))"
   ]
  },
  {
   "cell_type": "markdown",
   "metadata": {},
   "source": [
    "<font size=3>If we supply the additional assumptions, however, that $d\\ne a$, $d\\ne b$, and $d\\ne c$, the derivation works fine:</font>"
   ]
  },
  {
   "cell_type": "code",
   "execution_count": null,
   "metadata": {},
   "outputs": [],
   "source": [
    "set_abcde.deduceEnumProperSubset(subset=set_cba,\n",
    "        assumptions=[NotEquals(d, a), NotEquals(d, b), NotEquals(d, c)])"
   ]
  },
  {
   "cell_type": "markdown",
   "metadata": {},
   "source": [
    "<font size=3>Alternatively we could have supplied the equivalent assumption that  $d\\notin \\{c, b, a\\}$:</font>"
   ]
  },
  {
   "cell_type": "code",
   "execution_count": null,
   "metadata": {},
   "outputs": [],
   "source": [
    "set_abcde.deduceEnumProperSubset(subset=set_cba,\n",
    "        assumptions=[NotInSet(d, Set(c, b, a))])"
   ]
  },
  {
   "cell_type": "markdown",
   "metadata": {},
   "source": [
    "<div style=\"width: 90%; border: 5px solid green; padding: 10px; margin: 0px;\"><a id='demo06'></a><font size=4><b>6.</b> Deducing that $\\{1, a, 1\\}\\subset\\{1, a, 1, b, 2, a\\}$ when $a=1$.</font></div><br>\n",
    "<font size=3>Variables and multiplicities can combine to produce some tricky cases when trying to establish subset relationships between enumerated Sets. Notice that when considering the possibility that $\\{1, a, 1\\}\\subset\\{1, a, 1, b, 2, a\\}$, if it turns out that $a=b=2$, then the proper subset relation does not hold. Prove-It will not deduce the proper subset relationship without more information. Using the enumerated <span style=\"font-family:courier;\">Set.deduceEnumProperSubset()</span> method, we get an error:\n",
    "</font>"
   ]
  },
  {
   "cell_type": "code",
   "execution_count": null,
   "metadata": {},
   "outputs": [],
   "source": [
    "set_1a1 = Set(one, a, one)\n",
    "set_1a1b2a = Set(one, a, one, b, two, a)\n",
    "print(\"set_1a1 =\")\n",
    "display(set_1a1)\n",
    "print(\"set_1a1 =\")\n",
    "display(set_1a1b2a)\n",
    "try:\n",
    "    set_1a1b2a.deduceEnumProperSubset(subset=set_1a1)\n",
    "    assert False, \"Should not get to this point.\"\n",
    "except ValueError as e:\n",
    "    print(\"Proof Failure (ValueError): {}\".format(e))"
   ]
  },
  {
   "cell_type": "markdown",
   "metadata": {},
   "source": [
    "<font size=3>If we provide a little more information, however, specifying how to interpret the variable 'a', Prove-It is able to proceed (in part because now it can be proven that 2 is in the superset but not in the subset):\n",
    "</font>"
   ]
  },
  {
   "cell_type": "code",
   "execution_count": null,
   "metadata": {},
   "outputs": [],
   "source": [
    "set_1a1b2a.deduceEnumProperSubset(subset=set_1a1, assumptions=[Equals(a, one)])"
   ]
  },
  {
   "cell_type": "markdown",
   "metadata": {},
   "source": [
    "## Miscellaneous Testing\n",
    "<font size=3>The material below was developed to test various enumerated Set and Set-related methods. Some of this material could be integrated into the `_demonstrations_` page eventually and/or deleted as development continues.</font>"
   ]
  },
  {
   "cell_type": "markdown",
   "metadata": {},
   "source": [
    "### Some Example `Sets` For Testing"
   ]
  },
  {
   "cell_type": "code",
   "execution_count": null,
   "metadata": {},
   "outputs": [],
   "source": [
    "# some standard enumerated sets\n",
    "from proveit._common_ import e\n",
    "set_12345, set_abcde, set_1a2b3c, power_set_of_ab, empty_set = (\n",
    "    Set(one, two, three, four, five),\n",
    "    Set(a, b, c, d, e),\n",
    "    Set(one, a, two, b, three, c),\n",
    "    Set(Set(), Set(a), Set(b), Set(a,b)),\n",
    "    Set())"
   ]
  },
  {
   "cell_type": "code",
   "execution_count": null,
   "metadata": {},
   "outputs": [],
   "source": [
    "# some non-standard enumerated sets pretending to be multi-sets (but not!)\n",
    "set_12131, set_1a1b2a = (\n",
    "    Set(one, two, one, three, one),\n",
    "    Set(one, a, one, b, two, a))"
   ]
  },
  {
   "cell_type": "markdown",
   "metadata": {},
   "source": [
    "### Testing the `permutation_move()` method\n",
    "<br/>\n",
    "<font size =3>The <span style=\"font-family=courier\">permutation_move()</span> method has the following format:<br/>\n",
    "    <div style=\"width: 50%; border: 1px solid green; padding: 5px; margin: 20px; background-color: gainsboro; font-family:courier\">permutation_move(self, initIdx=None, finalIdx=None, assumptions=USE_DEFAULTS):</div>\n",
    "    and moves the element at index <font style=\"font-family:courier\">initIdx</font> to position <font style=\"font-family:courier\">finalIdx</font> (a “pluck and insert” process).\n",
    "</font>"
   ]
  },
  {
   "cell_type": "code",
   "execution_count": null,
   "metadata": {},
   "outputs": [],
   "source": [
    "# permuting an element in a Set of literals\n",
    "set_12345.permutation_move(0, 1)"
   ]
  },
  {
   "cell_type": "code",
   "execution_count": null,
   "metadata": {},
   "outputs": [],
   "source": [
    "# permuting an element in a Set of variables\n",
    "set_abcde.permutation_move(1, 3)"
   ]
  },
  {
   "cell_type": "code",
   "execution_count": null,
   "metadata": {},
   "outputs": [],
   "source": [
    "# permuting an element in a heterogeneous Set\n",
    "set_1a2b3c.permutation_move(3, 1)"
   ]
  },
  {
   "cell_type": "code",
   "execution_count": null,
   "metadata": {},
   "outputs": [],
   "source": [
    "# permuting an element in a Set of Sets\n",
    "power_set_of_ab.permutation_move(0, 3)"
   ]
  },
  {
   "cell_type": "code",
   "execution_count": null,
   "metadata": {},
   "outputs": [],
   "source": [
    "# permuting an element FROM a non-existent location\n",
    "# in the Set should not work\n",
    "try:\n",
    "    set_1a2b3c.permutation_move(6, 3)\n",
    "except IndexError as e:\n",
    "    print(\"Index Error: {}\".format(e))"
   ]
  },
  {
   "cell_type": "code",
   "execution_count": null,
   "metadata": {},
   "outputs": [],
   "source": [
    "# permuting an element TO a non-existent location\n",
    "# in the Set should not work\n",
    "try:\n",
    "    set_1a2b3c.permutation_move(4, 6)\n",
    "except IndexError as e:\n",
    "    print(\"Index Error: {}\".format(e))"
   ]
  },
  {
   "cell_type": "markdown",
   "metadata": {},
   "source": [
    "### Testing the `permutation_swap()` method\n",
    "<br/>\n",
    "<font size =3>The <span style=\"font-family=courier\">permutation_swap()</span> method has the following format:<br/>\n",
    "    <div style=\"width: 50%; border: 1px solid green; padding: 5px; margin: 20px; background-color: gainsboro; font-family:courier\">permutation_swap(self, idx01=None, idx02=None, assumptions=USE_DEFAULTS):</div>\n",
    "    and attempts to deduce that the Set expression is equal to a Set in which the elements at index locations <font style=\"font-family:courier\">idx01</font> and <font style=\"font-family:courier\">idx02</font> have swapped locations.</font>"
   ]
  },
  {
   "cell_type": "code",
   "execution_count": null,
   "metadata": {},
   "outputs": [],
   "source": [
    "# basic swap permutation\n",
    "set_1a2b3c.permutation_swap(1, 4)"
   ]
  },
  {
   "cell_type": "code",
   "execution_count": null,
   "metadata": {},
   "outputs": [],
   "source": [
    "# basic swap with irrelevant assumptions\n",
    "set_1a2b3c.permutation_swap(1, 4, assumptions=[Equals(a, one)])"
   ]
  },
  {
   "cell_type": "code",
   "execution_count": null,
   "metadata": {},
   "outputs": [],
   "source": [
    "# if idx01 > idx02\n",
    "set_123.permutation_swap(1, 0)"
   ]
  },
  {
   "cell_type": "code",
   "execution_count": null,
   "metadata": {},
   "outputs": [],
   "source": [
    "# empty swap: idx01 = idx02\n",
    "set_123.permutation_swap(2, 2)"
   ]
  },
  {
   "cell_type": "code",
   "execution_count": null,
   "metadata": {},
   "outputs": [],
   "source": [
    "# if indices not valid:\n",
    "try:\n",
    "    set_12345.permutation_swap(2, 6)\n",
    "    assert False, \"Should not make it to this point.\"\n",
    "except IndexError as e:\n",
    "    print(\"Index Error: {}\".format(e))"
   ]
  },
  {
   "cell_type": "markdown",
   "metadata": {},
   "source": [
    "### Testing the `permutation()` method\n",
    "<br/>\n",
    "<font size =3>The <span style=\"font-family:courier\">permutation()</span> method has the following format:<br/>\n",
    "    <div style=\"width: 50%; border: 1px solid green; padding: 5px; margin: 20px; background-color: gainsboro; font-family:courier\">permutation(self, new_order=None, cycles=None, assumptions=USE_DEFAULTS)</div>\n",
    "where <font style=\"font-family:courier\">new_order</font> is a list of the indices in the desired order, and <font style=\"font-family:courier\">cycles</font> is a list of tuples designating index-based cycles, either of which derive an equivalence to a permuted version of the Set. A new_order designation must include all indices; a cycles designation need only specify the indices involved in a cycle.\n",
    "</font>"
   ]
  },
  {
   "cell_type": "code",
   "execution_count": null,
   "metadata": {},
   "outputs": [],
   "source": [
    "# permuting an element in a Set of literals\n",
    "set_12345.permutation(new_order=[1, 2, 3, 4, 0])"
   ]
  },
  {
   "cell_type": "code",
   "execution_count": null,
   "metadata": {},
   "outputs": [],
   "source": [
    "# permuting an element in a Set of variables\n",
    "set_abcde.permutation(new_order=[4, 3, 1, 0, 2])"
   ]
  },
  {
   "cell_type": "code",
   "execution_count": null,
   "metadata": {},
   "outputs": [],
   "source": [
    "# permuting an element in a heterogeneous Set\n",
    "# using cycle notation\n",
    "set_1a2b3c.permutation(cycles=[(0,1),(2, 3)])"
   ]
  },
  {
   "cell_type": "code",
   "execution_count": null,
   "metadata": {},
   "outputs": [],
   "source": [
    "# permuting an element in a Set of Sets\n",
    "# using cycle notation\n",
    "power_set_of_ab.permutation(cycles=[(0,2,3)])"
   ]
  },
  {
   "cell_type": "code",
   "execution_count": null,
   "metadata": {},
   "outputs": [],
   "source": [
    "# supplying incorrect (out-of-bound) indices for the new_order\n",
    "# should give an informative error\n",
    "try:\n",
    "    set_1a2b3c.permutation(new_order=[2, 3, 1, 5, 4, 6])\n",
    "except IndexError as e:\n",
    "    print(\"Index Error: {}\".format(e))"
   ]
  },
  {
   "cell_type": "code",
   "execution_count": null,
   "metadata": {},
   "outputs": [],
   "source": [
    "# supplying incomplete indices for the new_order\n",
    "# should give an informative error\n",
    "try:\n",
    "    set_1a2b3c.permutation(new_order=[2, 0, 5, 4])\n",
    "except ValueError as e:\n",
    "    print(\"Value Error: {}\".format(e))"
   ]
  },
  {
   "cell_type": "code",
   "execution_count": null,
   "metadata": {},
   "outputs": [],
   "source": [
    "# supplying incorrect (out-of-bound) indices for cycles\n",
    "# should give an informative error\n",
    "try:\n",
    "    set_1a2b3c.permutation(cycles=[(1, 3, 2),(0, 6)])\n",
    "    assert False, \"Should not get to this line!\"\n",
    "except IndexError as e:\n",
    "    print(\"Index Error: {}\".format(e))"
   ]
  },
  {
   "cell_type": "code",
   "execution_count": null,
   "metadata": {},
   "outputs": [],
   "source": [
    "# supplying indices more than once in cycles\n",
    "# notation should give an informative an error\n",
    "try:\n",
    "    set_1a2b3c.permutation(cycles=[(1, 3, 2),(3, 4)])\n",
    "    assert False, \"Should not get to this line!\"\n",
    "except IndexError as e:\n",
    "    print(\"Index Error: {}\".format(e))"
   ]
  },
  {
   "cell_type": "code",
   "execution_count": null,
   "metadata": {},
   "outputs": [],
   "source": [
    "# supplying both new_order and cycles args\n",
    "# should give an informative an error\n",
    "try:\n",
    "    set_1a2b3c.permutation(new_order=[5,4,3,2,1,0], cycles=[(1, 3, 2)])\n",
    "    assert False, \"Should not get to this line!\"\n",
    "except ValueError as e:\n",
    "    print(\"Value Error: {}\".format(e))"
   ]
  },
  {
   "cell_type": "markdown",
   "metadata": {},
   "source": [
    "### Testing the `deduceEnumSubsetEq()` method\n",
    "<br/>\n",
    "<font size =3>The deduceEnumSubsetEq() method has the following format:<br/>\n",
    "    <div style=\"width: 50%; border: 1px solid green; padding: 5px; margin: 20px; background-color: gainsboro; font-family:courier\">deduceEnumSubsetEq(self, subset_indices=None, subset=None, assumptions=USE_DEFAULTS)</div>\n",
    "where one supplies either the <font style=\"font-family:courier\">subset_indices</font> OR a <font style=\"font-family:courier\">subset</font>, but not both. <font style=\"font-family:courier\">subset_indices</font> is a list of indices of desired subset elements of the original Set, and <font style=\"font-family:courier\">subset</font> provides the desired subset as an actual enumerated Set. In using subset_indices or subset, either one, the proffered order of subset elements is preserved in the derived subset relationship.</font>"
   ]
  },
  {
   "cell_type": "code",
   "execution_count": null,
   "metadata": {},
   "outputs": [],
   "source": [
    "# deducing a subset of a Set of literals\n",
    "set_12345.deduceEnumSubsetEq(subset_indices=[1, 4, 3])"
   ]
  },
  {
   "cell_type": "code",
   "execution_count": null,
   "metadata": {},
   "outputs": [],
   "source": [
    "# deducing a subset of a Set of variables\n",
    "set_abcde.deduceEnumSubsetEq(subset_indices=[2, 1, 0])"
   ]
  },
  {
   "cell_type": "code",
   "execution_count": null,
   "metadata": {},
   "outputs": [],
   "source": [
    "# deducing a subset of a heterogeneous Set\n",
    "# using subset notation\n",
    "set_1a2b3c.deduceEnumSubsetEq(subset=Set(a, two, c))"
   ]
  },
  {
   "cell_type": "code",
   "execution_count": null,
   "metadata": {},
   "outputs": [],
   "source": [
    "# deducing a subset of a Set of Sets\n",
    "# using subset notation\n",
    "power_set_of_ab.deduceEnumSubsetEq(subset=Set(Set(a), Set(b)))"
   ]
  },
  {
   "cell_type": "code",
   "execution_count": null,
   "metadata": {},
   "outputs": [],
   "source": [
    "# deducing a subset of a Set\n",
    "# with redundant subset elements specified\n",
    "set_1a1b2a.deduceEnumSubsetEq(subset_indices=[0, 1, 2])"
   ]
  },
  {
   "cell_type": "code",
   "execution_count": null,
   "metadata": {},
   "outputs": [],
   "source": [
    "# deducing a subset of a Set\n",
    "# with redundant subset elements specified\n",
    "set_12131.deduceEnumSubsetEq(subset=Set(one, two, two))"
   ]
  },
  {
   "cell_type": "code",
   "execution_count": null,
   "metadata": {},
   "outputs": [],
   "source": [
    "# what if we have a variable in the supposed subset and the variable\n",
    "# is equal to a value in the supposed superset?\n",
    "set_12a = Set(one, two, a)\n",
    "set_12345.deduceEnumSubsetEq(subset=Set(one, two, a), assumptions=[Equals(a, one)])"
   ]
  },
  {
   "cell_type": "code",
   "execution_count": null,
   "metadata": {},
   "outputs": [],
   "source": [
    "# this seems to work OK for a subset = empty set\n",
    "set_12131.deduceEnumSubsetEq(subset=empty_set)"
   ]
  },
  {
   "cell_type": "code",
   "execution_count": null,
   "metadata": {},
   "outputs": [],
   "source": [
    "# this seems to work OK for a subset = superset = empty set\n",
    "empty_set.deduceEnumSubsetEq(subset=empty_set)"
   ]
  },
  {
   "cell_type": "code",
   "execution_count": null,
   "metadata": {},
   "outputs": [],
   "source": [
    "# supplying incorrect (out-of-bound) indices for subset\n",
    "# should give an informative error\n",
    "try:\n",
    "    set_1a2b3c.deduceEnumSubsetEq(subset_indices=[2, 6, 0])\n",
    "except IndexError as e:\n",
    "    print(\"Index Error: {}\".format(e))"
   ]
  },
  {
   "cell_type": "code",
   "execution_count": null,
   "metadata": {},
   "outputs": [],
   "source": [
    "# supplying incorrect elements for subset\n",
    "# should give an informative error\n",
    "try:\n",
    "    set_1a2b3c.deduceEnumSubsetEq(subset=Set(a, B, two, d))\n",
    "except ValueError as e:\n",
    "    print(\"Value Error: {}\".format(e))"
   ]
  },
  {
   "cell_type": "markdown",
   "metadata": {},
   "source": [
    "### Testing the `deduceEnumProperSubset()` method\n",
    "<br/>\n",
    "<font size =3>The <span style=\"font-family:courier\">deduceEnumProperSubset()</span> method has the following format:<br/>\n",
    "    <div style=\"width: 50%; border: 1px solid green; padding: 5px; margin: 20px; background-color: gainsboro; font-family:courier\">deduceEnumProperSubset(self, subset_indices=None, subset=None, assumptions=USE_DEFAULTS)</div>\n",
    "where one supplies either the <font style=\"font-family:courier\">subset_indices</font> OR a <font style=\"font-family:courier\">subset</font>, but not both. <font style=\"font-family:courier\">subset_indices</font> is a list of indices of desired subset elements of the original Set, and <font style=\"font-family:courier\">subset</font> provides the desired subset as an actual enumerated Set. In using subset_indices or subset, either one, the proffered order of subset elements is preserved in the derived subset relationship.</font>"
   ]
  },
  {
   "cell_type": "code",
   "execution_count": null,
   "metadata": {},
   "outputs": [],
   "source": [
    "# deducing a subset of a Set of literals\n",
    "set_12345.deduceEnumProperSubset(subset_indices=[1, 4, 3])"
   ]
  },
  {
   "cell_type": "code",
   "execution_count": null,
   "metadata": {},
   "outputs": [],
   "source": [
    "# deducing a subset of a Set of variables\n",
    "set_abcde.deduceEnumProperSubset(\n",
    "        subset_indices=[2, 1, 0],\n",
    "        assumptions=[NotEquals(d,a), NotEquals(d,b), NotEquals(d,c)])"
   ]
  },
  {
   "cell_type": "code",
   "execution_count": null,
   "metadata": {},
   "outputs": [],
   "source": [
    "# deducing a proper subset of a Set of variables\n",
    "# with no additional information about the variables\n",
    "try:\n",
    "    set_abcde.deduceEnumProperSubset(subset_indices=[2, 1, 0])\n",
    "    assert False, \"Should not make it to this point.\"\n",
    "except ValueError as e:\n",
    "    print(\"Proof Failure: {}\".format(e))"
   ]
  },
  {
   "cell_type": "code",
   "execution_count": null,
   "metadata": {},
   "outputs": [],
   "source": [
    "# deducing a proper subset of a heterogeneous Set\n",
    "# Will often need more info, depending on the arrangement specified:\n",
    "try:\n",
    "    set_1a2b3c.deduceEnumProperSubset(subset=Set(a, two, c))\n",
    "    assert False, \"Should not make it to this point.\"\n",
    "except ValueError as e:\n",
    "    print(\"Proof Failure: {}\".format(e))"
   ]
  },
  {
   "cell_type": "code",
   "execution_count": null,
   "metadata": {},
   "outputs": [],
   "source": [
    "# but we can supply enough info to help:\n",
    "set_1a2b3c.deduceEnumProperSubset(\n",
    "    subset=Set(a, two, c), assumptions=[NotInSet(one, Set(a, two, c))])"
   ]
  },
  {
   "cell_type": "code",
   "execution_count": null,
   "metadata": {},
   "outputs": [],
   "source": [
    "# deducing a subset of a Set with redundant subset elements specified\n",
    "# the variables will initially be a problem\n",
    "try:\n",
    "    set_1a1b2a.deduceEnumProperSubset(subset_indices=[0, 1, 2])\n",
    "    assert False, \"Should not get to this point.\"\n",
    "except ValueError as e:\n",
    "    print(\"Proof Failure: {}\".format(e))"
   ]
  },
  {
   "cell_type": "code",
   "execution_count": null,
   "metadata": {},
   "outputs": [],
   "source": [
    "# but if we supply a single foothold, it will work:\n",
    "# notice we had to supply the NotInSet info in terms of the *reduced*\n",
    "# version of the subset\n",
    "set_1a1b2a.deduceEnumProperSubset(\n",
    "    subset_indices=[0, 1, 2], assumptions=[NotInSet(b, Set(one, a))])"
   ]
  },
  {
   "cell_type": "code",
   "execution_count": null,
   "metadata": {},
   "outputs": [],
   "source": [
    "# what if we have a variable in the supposed proper subset and the variable\n",
    "# is equal to a value in the supposed superset?\n",
    "set_12345.deduceEnumProperSubset(subset=Set(one, two, a), assumptions=[Equals(a, one)])"
   ]
  },
  {
   "cell_type": "code",
   "execution_count": null,
   "metadata": {},
   "outputs": [],
   "source": [
    "# If we have the same variable appearing in both the subset and superset,\n",
    "# even if we then assume the variable has a specific value, we can\n",
    "# run into difficulties. The following works correctly, but took some\n",
    "# work to implement.\n",
    "set_1a1b2a.deduceEnumProperSubset(\n",
    "        subset_indices=[0, 1, 2], assumptions=[Equals(a, one)])"
   ]
  },
  {
   "cell_type": "code",
   "execution_count": null,
   "metadata": {},
   "outputs": [],
   "source": [
    "# RELATED ISSUE: an interesting failure, where we fail to prove\n",
    "# a simple NotEquals relation under an assumption:\n",
    "try:\n",
    "    NotEquals(six, a).prove(assumptions=[Equals(a, one)])\n",
    "    assert False, \"Should not get to this point.\"\n",
    "except ProofFailure as e:\n",
    "    print(\"Proof Failure: {}\".format(e))"
   ]
  },
  {
   "cell_type": "code",
   "execution_count": null,
   "metadata": {},
   "outputs": [],
   "source": [
    "# And the NotEquals error above is probably how/why we get the error\n",
    "# when processing the simple NotInSet here, which works AFTER the 1st try:\n",
    "try:\n",
    "    example_deduction = NotInSet(five, Set(a, two)).prove(assumptions=[Equals(a, one)])\n",
    "    assert False, \"Should not get to this point.\"\n",
    "except ProofFailure as e:\n",
    "    print(\"Proof Failure: {}\".format(e))"
   ]
  },
  {
   "cell_type": "code",
   "execution_count": null,
   "metadata": {},
   "outputs": [],
   "source": [
    "set_1a1b2a.deduceEnumProperSubset(\n",
    "            subset_indices=[0, 1, 2], assumptions=[NotEquals(a, two)])"
   ]
  },
  {
   "cell_type": "code",
   "execution_count": null,
   "metadata": {},
   "outputs": [],
   "source": [
    "# Related: note that Prove-It will automatically deduce various\n",
    "# non-membership claims:\n",
    "NotInSet(two, Set(one, a, one)).prove(assumptions=[NotInSet(two, Set(one, a))])"
   ]
  },
  {
   "cell_type": "code",
   "execution_count": null,
   "metadata": {},
   "outputs": [],
   "source": [
    "# Related: note that Prove-It will automatically deduce various\n",
    "# non-membership claims:\n",
    "NotInSet(two, Set(one, a)).prove(\n",
    "        assumptions=[NotInSet(two, Set(one, a, one))])"
   ]
  },
  {
   "cell_type": "code",
   "execution_count": null,
   "metadata": {},
   "outputs": [],
   "source": [
    "# deducing a proper subset of a Set with redundant subset elements specified\n",
    "set_12131.deduceEnumProperSubset(subset=Set(one, two, two))"
   ]
  },
  {
   "cell_type": "code",
   "execution_count": null,
   "metadata": {},
   "outputs": [],
   "source": [
    "# Also works OK when the subset is the empty set\n",
    "set_12131.deduceEnumProperSubset(subset=empty_set)"
   ]
  },
  {
   "cell_type": "code",
   "execution_count": null,
   "metadata": {},
   "outputs": [],
   "source": [
    "# Although the empty set {} is an improper subset of itself\n",
    "# and the empty set is a proper subset of any non-empty set,\n",
    "# the empty set is not a proper subset of itself\n",
    "try:\n",
    "    empty_set.deduceEnumProperSubset(subset=empty_set)\n",
    "    assert False, \"Should not make it to the point.\"\n",
    "except ValueError as e:\n",
    "    print(\"Proof Failure: {}\".format(e))"
   ]
  },
  {
   "cell_type": "code",
   "execution_count": null,
   "metadata": {},
   "outputs": [],
   "source": [
    "# supplying incorrect (out-of-bound) indices for subset\n",
    "# should give an informative error\n",
    "try:\n",
    "    set_1a2b3c.deduceEnumProperSubset(subset_indices=[2, 6, 0])\n",
    "except IndexError as e:\n",
    "    print(\"Index Error: {}\".format(e))"
   ]
  },
  {
   "cell_type": "code",
   "execution_count": null,
   "metadata": {},
   "outputs": [],
   "source": [
    "# supplying incorrect elements for subset\n",
    "# should give an informative error\n",
    "try:\n",
    "    set_1a2b3c.deduceEnumProperSubset(subset=Set(a, B, two, d))\n",
    "except ValueError as e:\n",
    "    print(\"Value Error: {}\".format(e))"
   ]
  },
  {
   "cell_type": "code",
   "execution_count": null,
   "metadata": {},
   "outputs": [],
   "source": [
    "# Switching the subset and superset should give an error\n",
    "try:\n",
    "    set_123.deduceEnumProperSubset(subset=set_123456)\n",
    "    assert False, \"Should not make it to this point!\"\n",
    "except ValueError as e:\n",
    "    print(\"Value Error: {}\".format(e))"
   ]
  },
  {
   "cell_type": "markdown",
   "metadata": {},
   "source": [
    "### Testing the `reduction()` method\n",
    "<br/>\n",
    "<font size =3>The <span style=\"font-family:courier\">Set.reduction()</span> method has the following format:<br/>\n",
    "    <div style=\"width: 50%; border: 1px solid green; padding: 5px; margin: 20px; background-color: gainsboro; font-family:courier\">reduction(self, assumptions=USE_DEFAULTS)</div>\n",
    "and attempts to deduce that the Set expression is equal to the Set's support -- i.e. equal to a Set with all multiplicities reduced to 1. The resulting support Set maintains the original order of all 1st-appearing elements in the Set.</font>"
   ]
  },
  {
   "cell_type": "code",
   "execution_count": null,
   "metadata": {},
   "outputs": [],
   "source": [
    "# A reminder of some Sets with (apparent) multiplicities\n",
    "display(set_12131)\n",
    "display(set_1a1b2a)"
   ]
  },
  {
   "cell_type": "code",
   "execution_count": null,
   "metadata": {},
   "outputs": [],
   "source": [
    "set_12131.reduction()"
   ]
  },
  {
   "cell_type": "code",
   "execution_count": null,
   "metadata": {},
   "outputs": [],
   "source": [
    "set_1a1b2a.reduction()"
   ]
  },
  {
   "cell_type": "code",
   "execution_count": null,
   "metadata": {},
   "outputs": [],
   "source": [
    "set_123.reduction()"
   ]
  },
  {
   "cell_type": "code",
   "execution_count": null,
   "metadata": {},
   "outputs": [],
   "source": [
    "empty_set.reduction()"
   ]
  },
  {
   "cell_type": "markdown",
   "metadata": {},
   "source": [
    "### Testing the `single_elem_substitution()` method\n",
    "<br/>\n",
    "<font size =3>The <span style=\"font-family:courier\">Set.single_elem_substitution()</span> method has the following format:<br/>\n",
    "    <div style=\"width: 50%; border: 1px solid green; padding: 5px; margin: 20px; background-color: gainsboro\">\n",
    "    <font style=\"font-family:courier\">single_elem_substitution(self, elem=None, idx=None, sub_elem=None, assumptions=USE_DEFAULTS)</font>\n",
    "    </div>\n",
    "and attempts to deduce that the Set expression is equal to the Set obtained when the element specified by elem or idx is replaced by sub_elem, which requires that elem = sub_elem.</font>"
   ]
  },
  {
   "cell_type": "code",
   "execution_count": null,
   "metadata": {},
   "outputs": [],
   "source": [
    "# |– Replace the 1st 'a' (elem at index 1) in {1, a, 1, b, 2, a} with 2\n",
    "# using idx arg\n",
    "set_1a1b2a.single_elem_substitution(idx=1, sub_elem=two, assumptions=[Equals(a, two)])"
   ]
  },
  {
   "cell_type": "code",
   "execution_count": null,
   "metadata": {},
   "outputs": [],
   "source": [
    "# |– Replace the 1st 'a' (elem at index 1) in {1, a, 1, b, 2, a} with 2\n",
    "# using elem arg\n",
    "set_1a1b2a.single_elem_substitution(elem=a, sub_elem=two, assumptions=[Equals(a, two)])"
   ]
  },
  {
   "cell_type": "code",
   "execution_count": null,
   "metadata": {},
   "outputs": [],
   "source": [
    "# |– Replace the 2nd 'a' (elem at index 5) in {1, a, 1, b, 2, a} with 2\n",
    "# using compound elem arg\n",
    "set_1a1b2a.single_elem_substitution(elem=[a, 2], sub_elem=two, assumptions=[Equals(a, two)])"
   ]
  },
  {
   "cell_type": "code",
   "execution_count": null,
   "metadata": {},
   "outputs": [],
   "source": [
    "# |– Replace the 1st 'e' (elem at index 4) in {a, b, c, d, e} with 4\n",
    "# using idx arg\n",
    "from proveit._common_ import e\n",
    "set_abcde.single_elem_substitution(idx=4, sub_elem=four, assumptions=[Equals(e, four)])"
   ]
  },
  {
   "cell_type": "code",
   "execution_count": null,
   "metadata": {},
   "outputs": [],
   "source": [
    "# We can go the other way as well, replacing a literal by a variable. Yay!\n",
    "set_12345.single_elem_substitution(elem=three, sub_elem=c, assumptions=[Equals(c, three)])"
   ]
  },
  {
   "cell_type": "code",
   "execution_count": null,
   "metadata": {},
   "outputs": [],
   "source": [
    "# And we can replace a variable with a variable. Yay!\n",
    "from proveit._common_ import e\n",
    "set_abcde.single_elem_substitution(elem=c, sub_elem=e, assumptions=[Equals(c, e)])"
   ]
  },
  {
   "cell_type": "code",
   "execution_count": null,
   "metadata": {},
   "outputs": [],
   "source": [
    "# should get meaningful error message when trying to substitute for an\n",
    "# element but picking a multiplicity that doesn't exist. Here there is no 2nd 'b':\n",
    "try:\n",
    "    set_1a1b2a.single_elem_substitution(elem=[b, 2], sub_elem=two, assumptions=[Equals(a, two)])\n",
    "    assert False, \"Should not make it to this point.\"\n",
    "except ValueError as e:\n",
    "    print(\"Value Error: {}\".format(e))"
   ]
  },
  {
   "cell_type": "code",
   "execution_count": null,
   "metadata": {},
   "outputs": [],
   "source": [
    "# should get meaningful error message when trying to substitute for an\n",
    "# element but picking a multiplicity that doesn't make sense:\n",
    "try:\n",
    "    set_1a1b2a.single_elem_substitution(elem=[b, 0], sub_elem=two, assumptions=[Equals(a, two)])\n",
    "    assert False, \"Should not make it to this point.\"\n",
    "except ValueError as e:\n",
    "    print(\"Value Error: {}\".format(e))"
   ]
  },
  {
   "cell_type": "code",
   "execution_count": null,
   "metadata": {},
   "outputs": [],
   "source": [
    "# should get a meaningful error message when omitting the sub_elem argument\n",
    "try:\n",
    "    set_1a1b2a.single_elem_substitution(idx=1, assumptions=[Equals(a, two)])\n",
    "    assert False, \"Should not make it to this point.\"\n",
    "except ValueError as e:\n",
    "    print(\"Value Error: {}\".format(e))"
   ]
  },
  {
   "cell_type": "code",
   "execution_count": null,
   "metadata": {},
   "outputs": [],
   "source": [
    "# should get meaningful error message when trying to substitute for an\n",
    "# element that doesn't exist in the original set:\n",
    "try:\n",
    "    set_1a1b2a.single_elem_substitution(elem=c, sub_elem=two, assumptions=[Equals(c, two)])\n",
    "    assert False, \"Should not make it to this point.\"\n",
    "except ValueError as e:\n",
    "    print(\"Value Error: {}\".format(e))"
   ]
  },
  {
   "cell_type": "markdown",
   "metadata": {},
   "source": [
    "### Testing the `elem_substitution()` method\n",
    "<br/>\n",
    "<font size =3>The <span style=\"font-family:courier\">Set.elem_substitution()</span> method has the following format:<br/>\n",
    "    <div style=\"width: 50%; border: 1px solid green; padding: 5px; margin: 20px; background-color: gainsboro\">\n",
    "    <font style=\"font-family:courier\">elem_substitution(self, elem=None, sub_elem=None, assumptions=USE_DEFAULTS)</font>\n",
    "    </div>\n",
    "and attempts to deduce that the Set expression is equal to the Set obtained when all instances of the element specified by elem are replaced by sub_elem, which requires that elem = sub_elem.</font>"
   ]
  },
  {
   "cell_type": "code",
   "execution_count": null,
   "metadata": {},
   "outputs": [],
   "source": [
    "# |– Replace all instances of 'a' in {1, a, 1, b, 2, a} with 2\n",
    "set_1a1b2a.elem_substitution(elem=a, sub_elem=two, assumptions=[Equals(a, two)])"
   ]
  },
  {
   "cell_type": "code",
   "execution_count": null,
   "metadata": {},
   "outputs": [],
   "source": [
    "# |– Replace all instances of 'b' in {1, a, 1, b, 2, a} with 3\n",
    "set_1a1b2a.elem_substitution(elem=b, sub_elem=three, assumptions=[Equals(b, three)])"
   ]
  },
  {
   "cell_type": "code",
   "execution_count": null,
   "metadata": {},
   "outputs": [],
   "source": [
    "# |– Replace all instances of 'e' in {a, b, c, d, e} with 4\n",
    "from proveit._common_ import e\n",
    "set_abcde.elem_substitution(elem=e, sub_elem=four, assumptions=[Equals(e, four)])"
   ]
  },
  {
   "cell_type": "code",
   "execution_count": null,
   "metadata": {},
   "outputs": [],
   "source": [
    "# We can go the other way as well, replacing all instances of a literal by a variable. Yay!\n",
    "# Here we replace all instances of 3 with the variable c\n",
    "set_12345.elem_substitution(elem=three, sub_elem=c, assumptions=[Equals(c, three)])"
   ]
  },
  {
   "cell_type": "code",
   "execution_count": null,
   "metadata": {},
   "outputs": [],
   "source": [
    "# And we can replace a variable with a variable. Yay!\n",
    "# Here we replace all instances of c with the variable e\n",
    "from proveit._common_ import e\n",
    "set_abcde.elem_substitution(elem=c, sub_elem=e, assumptions=[Equals(c, e)])"
   ]
  },
  {
   "cell_type": "code",
   "execution_count": null,
   "metadata": {},
   "outputs": [],
   "source": [
    "# What if we do a sequence of these, and then call deduceEnumSubsetEq? Is it possible to \n",
    "# get back to where we began?\n",
    "# Try to show that {a, b, c, d, e} \\subsetEq {1, 2, 3, d, e} when a=2, b=2, c=3.\n",
    "temp_assumptions = [Equals(a, two), Equals(b, two), Equals(c, three)]\n",
    "elems_to_replace = [a, b, c]\n",
    "elems_sub = [two, two, three]\n",
    "num_elems_to_replace = len(elems_to_replace)\n",
    "from proveit import TransRelUpdater\n",
    "expr = set_abcde\n",
    "eq = TransRelUpdater(expr, temp_assumptions)\n",
    "for i in range(0, len(elems_to_replace)):\n",
    "    expr = eq.update(expr.elem_substitution(\n",
    "            elem=elems_to_replace[i], sub_elem=elems_sub[i],\n",
    "            assumptions=temp_assumptions))\n",
    "temp_subsetEq_kt = Set(one, two, three, d, e).deduceEnumSubsetEq(subset = expr, assumptions=temp_assumptions)\n",
    "eq.relation.subLeftSideInto(temp_subsetEq_kt, assumptions=temp_assumptions)"
   ]
  },
  {
   "cell_type": "code",
   "execution_count": null,
   "metadata": {},
   "outputs": [],
   "source": [
    "# Should get meaningful error message when trying to substitute for an\n",
    "# element that doesn't exist in the original set:\n",
    "try:\n",
    "    set_1a1b2a.elem_substitution(elem=c, sub_elem=two, assumptions=[Equals(c, two)])\n",
    "    assert False, \"Should not make it to this point.\"\n",
    "except ValueError as e:\n",
    "    print(\"Value Error: {}\".format(e))"
   ]
  },
  {
   "cell_type": "code",
   "execution_count": null,
   "metadata": {},
   "outputs": [],
   "source": [
    "# Should get meaningful error message when omitting the elem argument\n",
    "try:\n",
    "    set_1a1b2a.elem_substitution(sub_elem=two, assumptions=[Equals(c, two)])\n",
    "    assert False, \"Should not make it to this point.\"\n",
    "except ValueError as e:\n",
    "    print(\"Value Error: {}\".format(e))"
   ]
  },
  {
   "cell_type": "code",
   "execution_count": null,
   "metadata": {},
   "outputs": [],
   "source": [
    "# Should get meaningful error message when omitting the sub_elem argument\n",
    "try:\n",
    "    set_1a1b2a.elem_substitution(elem=a, assumptions=[Equals(a, two)])\n",
    "    assert False, \"Should not make it to this point.\"\n",
    "except ValueError as e:\n",
    "    print(\"Value Error: {}\".format(e))"
   ]
  },
  {
   "cell_type": "markdown",
   "metadata": {},
   "source": [
    "### Testing the `membershipObject()` method\n",
    "<br/>\n",
    "<font size =3>The <span style=\"font-family:courier\">Set.membershipObject()</span> method has the following format:<br/>\n",
    "    <div style=\"width: 50%; border: 1px solid green; padding: 5px; margin: 20px; background-color: gainsboro\">\n",
    "    <font style=\"font-family:courier\">membershipObject(self, element)</font><br/>\n",
    "    </div>\n",
    "    and produces an <span style=\"font-family:courier\">EnumMembership</span> object of the form (element $\\in$ self), along with a number of related methods such as <span style=\"font-family:courier\">sideEffects()</span>, <span style=\"font-family:courier\">equivalence()</span>, <i>etc.</i></font>"
   ]
  },
  {
   "cell_type": "code",
   "execution_count": null,
   "metadata": {},
   "outputs": [],
   "source": [
    "Set(B,C,D).membershipObject(C)"
   ]
  },
  {
   "cell_type": "markdown",
   "metadata": {},
   "source": [
    "#### `membershipObject().equivalence()`"
   ]
  },
  {
   "cell_type": "code",
   "execution_count": null,
   "metadata": {},
   "outputs": [],
   "source": [
    "# With variables\n",
    "Set(B,C,D).membershipObject(C).equivalence()"
   ]
  },
  {
   "cell_type": "code",
   "execution_count": null,
   "metadata": {},
   "outputs": [],
   "source": [
    "# Works easily with literals\n",
    "Set(one, two, three).membershipObject(three).equivalence()"
   ]
  },
  {
   "cell_type": "markdown",
   "metadata": {},
   "source": [
    "#### `membershipObject().conclude()`"
   ]
  },
  {
   "cell_type": "code",
   "execution_count": null,
   "metadata": {},
   "outputs": [],
   "source": [
    "Set(B,C,D).membershipObject(C).conclude()"
   ]
  },
  {
   "cell_type": "code",
   "execution_count": null,
   "metadata": {},
   "outputs": [],
   "source": [
    "# Will fail to conclude without suffient info. In particular, needs to\n",
    "# know the element in question is equal to one of the set elements\n",
    "try:\n",
    "    Set(B,C,D).membershipObject(A).conclude()\n",
    "    assert False, \"Should not make it to this point.\"\n",
    "except InstantiationFailure as e:\n",
    "    print(\"Proof/Instantiation Failure: {}\".format(e))"
   ]
  },
  {
   "cell_type": "code",
   "execution_count": null,
   "metadata": {},
   "outputs": [],
   "source": [
    "# Works easily with literals\n",
    "Set(one, two, three).membershipObject(three).conclude()"
   ]
  },
  {
   "cell_type": "markdown",
   "metadata": {},
   "source": [
    "#### `membershipObject().unfold()`"
   ]
  },
  {
   "cell_type": "code",
   "execution_count": null,
   "metadata": {},
   "outputs": [],
   "source": [
    "Set(B,C,D).membershipObject(C).unfold()"
   ]
  },
  {
   "cell_type": "code",
   "execution_count": null,
   "metadata": {},
   "outputs": [],
   "source": [
    "Set(one, two, three).membershipObject(three).unfold()"
   ]
  },
  {
   "cell_type": "code",
   "execution_count": null,
   "metadata": {},
   "outputs": [],
   "source": [
    "# The unfolding will only work if the membershipObject is true:\n",
    "try:\n",
    "    Set(one, two, three).membershipObject(four).unfold()\n",
    "    assert False, \"Should not get to this point.\"\n",
    "except ProofFailure as e:\n",
    "    print(\"Proof Failure: {}\".format(e))"
   ]
  },
  {
   "cell_type": "markdown",
   "metadata": {},
   "source": [
    "#### `membershipObject().deriveInSingleton()`"
   ]
  },
  {
   "cell_type": "code",
   "execution_count": null,
   "metadata": {},
   "outputs": [],
   "source": [
    "# The purpose of the deriveInSingleton() method is very unclear\n",
    "Set(one, two, three).membershipObject(three).deriveInSingleton(Equals(InSet(two, Set(two)), TRUE))"
   ]
  },
  {
   "cell_type": "code",
   "execution_count": null,
   "metadata": {},
   "outputs": [],
   "source": [
    "Set(y).membershipObject(x).deriveInSingleton(Equals(InSet(x, Set(y)), FALSE), [NotEquals(x,y)])"
   ]
  },
  {
   "cell_type": "code",
   "execution_count": null,
   "metadata": {},
   "outputs": [],
   "source": [
    "# Notice that the derived singleton membership claim can be\n",
    "# completely independent of the original membershipObject\n",
    "Set(one, two, three).membershipObject(three).deriveInSingleton(\n",
    "    Equals(InSet(two, Set(two)), TRUE))"
   ]
  },
  {
   "cell_type": "markdown",
   "metadata": {},
   "source": [
    "#### `membershipObject().deduceInBool()`"
   ]
  },
  {
   "cell_type": "code",
   "execution_count": null,
   "metadata": {},
   "outputs": [],
   "source": [
    "Set(A, B, C).membershipObject(B).deduceInBool()"
   ]
  },
  {
   "cell_type": "code",
   "execution_count": null,
   "metadata": {},
   "outputs": [],
   "source": [
    "Set(one, two, three).membershipObject(three).deduceInBool()"
   ]
  },
  {
   "cell_type": "markdown",
   "metadata": {},
   "source": [
    "### Testing the `nonmembershipObject()` method\n",
    "<br/>\n",
    "<font size =3>The <span style=\"font-family:courier\">Set.nonmembershipObject()</span> method has the following format:<br/>\n",
    "    <div style=\"width: 50%; border: 1px solid green; padding: 5px; margin: 20px; background-color: gainsboro\">\n",
    "    <font style=\"font-family:courier\">nonmembershipObject(self, element)</font><br/>\n",
    "    </div>\n",
    "    and produces an <span style=\"font-family:courier\">EnumNonmmembership</span> object of the form (element $\\notin$ self), along with a number of related methods such as <span style=\"font-family:courier\">sideEffects()</span>, <span style=\"font-family:courier\">equivalence()</span>, <i>etc.</i></font>"
   ]
  },
  {
   "cell_type": "code",
   "execution_count": null,
   "metadata": {},
   "outputs": [],
   "source": [
    "Set(B,C,D).nonmembershipObject(A)"
   ]
  },
  {
   "cell_type": "markdown",
   "metadata": {},
   "source": [
    "#### `nonmembershipObject().equivalence()`"
   ]
  },
  {
   "cell_type": "code",
   "execution_count": null,
   "metadata": {},
   "outputs": [],
   "source": [
    "Set(B,C,D).nonmembershipObject(A).equivalence()"
   ]
  },
  {
   "cell_type": "code",
   "execution_count": null,
   "metadata": {},
   "outputs": [],
   "source": [
    "set_123.nonmembershipObject(four).equivalence()"
   ]
  },
  {
   "cell_type": "code",
   "execution_count": null,
   "metadata": {},
   "outputs": [],
   "source": [
    "# notice the equivalence doesn't depend on the\n",
    "# nonmembershipObject being true\n",
    "set_123.nonmembershipObject(two).equivalence()"
   ]
  },
  {
   "cell_type": "code",
   "execution_count": null,
   "metadata": {},
   "outputs": [],
   "source": [
    "# An odd example — why does the single element y appear in parentheses?\n",
    "Set(y).nonmembershipObject(x).equivalence()"
   ]
  },
  {
   "cell_type": "markdown",
   "metadata": {},
   "source": [
    "#### `nonmembershipObject().conclude()`"
   ]
  },
  {
   "cell_type": "code",
   "execution_count": null,
   "metadata": {},
   "outputs": [],
   "source": [
    "# Will fail to conclude without suffient info. In particular,\n",
    "# needs to know the element in question in not equal to \n",
    "# any of the set elements\n",
    "try:\n",
    "    Set(B,C,D).nonmembershipObject(A).conclude()\n",
    "    assert False, \"Should not make it to this point.\"\n",
    "except InstantiationFailure as e:\n",
    "    print(\"Proof/Instantiation Failure: {}\".format(e))"
   ]
  },
  {
   "cell_type": "code",
   "execution_count": null,
   "metadata": {},
   "outputs": [],
   "source": [
    "# But given sufficient information, conclude() method works just fine\n",
    "Set(B,C,D).nonmembershipObject(A).conclude(\n",
    "        assumptions=[NotEquals(A, B), NotEquals(A, C), NotEquals(A, D)])"
   ]
  },
  {
   "cell_type": "code",
   "execution_count": null,
   "metadata": {},
   "outputs": [],
   "source": [
    "# Works easily with literals\n",
    "Set(one, two, three).nonmembershipObject(four).conclude()"
   ]
  },
  {
   "cell_type": "code",
   "execution_count": null,
   "metadata": {},
   "outputs": [],
   "source": [
    "# A singleton example -- requires explicit assumptions\n",
    "Set(y).nonmembershipObject(x).conclude(assumptions=[NotEquals(x, y)])"
   ]
  },
  {
   "cell_type": "markdown",
   "metadata": {},
   "source": [
    "#### `nonmembershipObject().deduceInBool()`"
   ]
  },
  {
   "cell_type": "code",
   "execution_count": null,
   "metadata": {},
   "outputs": [],
   "source": [
    "Set(A, B, C).nonmembershipObject(B).deduceInBool()"
   ]
  },
  {
   "cell_type": "code",
   "execution_count": null,
   "metadata": {},
   "outputs": [],
   "source": [
    "Set(one, two, three).nonmembershipObject(four).deduceInBool()"
   ]
  },
  {
   "cell_type": "code",
   "execution_count": null,
   "metadata": {},
   "outputs": [],
   "source": [
    "%end demonstrations"
   ]
  }
 ],
 "metadata": {
  "kernelspec": {
   "display_name": "Python 3",
   "language": "python",
   "name": "python3"
  }
 },
 "nbformat": 4,
 "nbformat_minor": 0
}
