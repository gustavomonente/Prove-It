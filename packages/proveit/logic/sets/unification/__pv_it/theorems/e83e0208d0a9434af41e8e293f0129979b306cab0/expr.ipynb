{
 "cells": [
  {
   "cell_type": "markdown",
   "metadata": {},
   "source": [
    "Expression of type <a class=\"ProveItLink\" href=\"../../../../../../../../doc/html/api/proveit.Lambda.html\">Lambda</a>\n",
    "=======================\n",
    "# from the theory of <a class=\"ProveItLink\" href=\"../../../_theory_nbs_/theory.ipynb\">proveit.logic.sets.unification</a>"
   ]
  },
  {
   "cell_type": "code",
   "execution_count": 1,
   "metadata": {},
   "outputs": [],
   "source": [
    "import proveit\n",
    "# Automation is not needed when building an expression:\n",
    "proveit.defaults.automation = False # This will speed things up.\n",
    "proveit.defaults.inline_pngs = False # Makes files smaller.\n",
    "%load_expr # Load the stored expression as 'stored_expr'\n",
    "# import Expression classes needed to build the expression\n",
    "from proveit import Conditional, Lambda, m, x\n",
    "from proveit.core_expr_types import A_1_to_m\n",
    "from proveit.logic import Equals, Forall, InSet, NotInSet, Union\n",
    "from proveit.logic.sets import x_notin_all_A\n",
    "from proveit.numbers import NaturalPos"
   ]
  },
  {
   "cell_type": "code",
   "execution_count": 2,
   "metadata": {},
   "outputs": [
    {
     "data": {
      "text/html": [
       "<strong id=\"expr\">expr:</strong> <a class=\"ProveItLink\" href=\"expr.ipynb\"><img src=\"expr.png\" style=\"display:inline;vertical-align:middle;\" /></a><br>"
      ],
      "text/plain": [
       "expr: m -> {forall_{x, A_{1}, ..A_{_a}.., A_{m}} ((x not-in (A_{1} union ..A_{_a}.. union A_{m})) = ((x not-in A_{1}) and ..(x not-in A_{i}).. and (x not-in A_{m}))) if m in NaturalPos."
      ]
     },
     "execution_count": 2,
     "metadata": {},
     "output_type": "execute_result"
    }
   ],
   "source": [
    "# build up the expression from sub-expressions\n",
    "expr = Lambda(m, Conditional(Forall([x, A_1_to_m], Equals(NotInSet(x, Union(A_1_to_m)), x_notin_all_A)), InSet(m, NaturalPos)))"
   ]
  },
  {
   "cell_type": "code",
   "execution_count": 3,
   "metadata": {},
   "outputs": [
    {
     "name": "stdout",
     "output_type": "stream",
     "text": [
      "Passed sanity check: expr matches stored_expr\n"
     ]
    }
   ],
   "source": [
    "# check that the built expression is the same as the stored expression\n",
    "assert expr == stored_expr\n",
    "assert expr._style_id == stored_expr._style_id\n",
    "print(\"Passed sanity check: expr matches stored_expr\")"
   ]
  },
  {
   "cell_type": "code",
   "execution_count": 4,
   "metadata": {},
   "outputs": [
    {
     "name": "stdout",
     "output_type": "stream",
     "text": [
      "m \\mapsto \\left\\{\\forall_{x, A_{1}, \\ldots, A_{m}}~\\left(\\left(x \\notin \\left(A_{1} \\cup \\ldots \\cup A_{m}\\right)\\right) = \\left(\\left(x \\notin A_{1}\\right) \\land \\ldots \\land \\left(x \\notin A_{m}\\right)\\right)\\right) \\textrm{ if } m \\in \\mathbb{N}^+\\right..\n"
     ]
    }
   ],
   "source": [
    "# Show the LaTeX representation of the expression for convenience if you need it.\n",
    "print(expr.latex())"
   ]
  },
  {
   "cell_type": "code",
   "execution_count": 5,
   "metadata": {},
   "outputs": [
    {
     "data": {
      "text/html": [
       "no style options"
      ],
      "text/plain": [
       "no style options"
      ]
     },
     "execution_count": 5,
     "metadata": {},
     "output_type": "execute_result"
    }
   ],
   "source": [
    "expr.style_options()"
   ]
  },
  {
   "cell_type": "code",
   "execution_count": 6,
   "metadata": {},
   "outputs": [
    {
     "data": {
      "text/html": [
       "<table><tr><th>&nbsp;</th><th>core type</th><th>sub-expressions</th><th>expression</th></tr>\n",
       "<tr><td>0</td><td>Lambda</td><td>parameter:&nbsp;28<br>body:&nbsp;1<br></td><td><a class=\"ProveItLink\" href=\"expr.ipynb\"><img src=\"expr.png\" style=\"display:inline;vertical-align:middle;\" /></a></td></tr>\n",
       "<tr><td>1</td><td>Conditional</td><td>value:&nbsp;2<br>condition:&nbsp;3<br></td><td><a class=\"ProveItLink\" href=\"../7001480fb17bf2fa6f14fdc33034b31b5f4b5a9f0/expr.ipynb\"><img src=\"../7001480fb17bf2fa6f14fdc33034b31b5f4b5a9f0/expr.png\" style=\"display:inline;vertical-align:middle;\" /></a></td></tr>\n",
       "<tr><td>2</td><td>Operation</td><td>operator:&nbsp;4<br>operand:&nbsp;8<br></td><td><a class=\"ProveItLink\" href=\"../d12c2a8f5bbffc8cdb44642a0c1c92319f0589f20/expr.ipynb\"><img src=\"../d12c2a8f5bbffc8cdb44642a0c1c92319f0589f20/expr.png\" style=\"display:inline;vertical-align:middle;\" /></a></td></tr>\n",
       "<tr><td>3</td><td>Operation</td><td>operator:&nbsp;6<br>operands:&nbsp;7<br></td><td><a class=\"ProveItLink\" href=\"../6b3ff92246828fbfb97988abc8ee79a02ac1c4480/expr.ipynb\"><img src=\"../6b3ff92246828fbfb97988abc8ee79a02ac1c4480/expr.png\" style=\"display:inline;vertical-align:middle;\" /></a></td></tr>\n",
       "<tr><td>4</td><td>Literal</td><td></td><td><a class=\"ProveItLink\" href=\"../../../../../booleans/quantification/universality/__pv_it/common/684d35ba98fcbf8ca5011f865e530a51e77730630/expr.ipynb\"><img src=\"../../../../../booleans/quantification/universality/__pv_it/common/684d35ba98fcbf8ca5011f865e530a51e77730630/expr.png\" style=\"display:inline;vertical-align:middle;\" /></a></td></tr>\n",
       "<tr><td>5</td><td>ExprTuple</td><td>8</td><td><a class=\"ProveItLink\" href=\"../46f4f600caaa524fa7021efc3c2c3955a3e37b8a0/expr.ipynb\"><img src=\"../46f4f600caaa524fa7021efc3c2c3955a3e37b8a0/expr.png\" style=\"display:inline;vertical-align:middle;\" /></a></td></tr>\n",
       "<tr><td>6</td><td>Literal</td><td></td><td><a class=\"ProveItLink\" href=\"../../../../membership/__pv_it/common/7171deca84f71f47a6ec7696972d1632274a12880/expr.ipynb\"><img src=\"../../../../membership/__pv_it/common/7171deca84f71f47a6ec7696972d1632274a12880/expr.png\" style=\"display:inline;vertical-align:middle;\" /></a></td></tr>\n",
       "<tr><td>7</td><td>ExprTuple</td><td>28, 9</td><td><a class=\"ProveItLink\" href=\"../dc63af1f664b017213ea5b3c44c17f5f20a0cd780/expr.ipynb\"><img src=\"../dc63af1f664b017213ea5b3c44c17f5f20a0cd780/expr.png\" style=\"display:inline;vertical-align:middle;\" /></a></td></tr>\n",
       "<tr><td>8</td><td>Lambda</td><td>parameters:&nbsp;10<br>body:&nbsp;11<br></td><td><a class=\"ProveItLink\" href=\"../6f277da8017cafe2c6157aa00a227625c2c6753c0/expr.ipynb\"><img src=\"../6f277da8017cafe2c6157aa00a227625c2c6753c0/expr.png\" style=\"display:inline;vertical-align:middle;\" /></a></td></tr>\n",
       "<tr><td>9</td><td>Literal</td><td></td><td><a class=\"ProveItLink\" href=\"../../../../../../numbers/number_sets/natural_numbers/__pv_it/common/a2a7252783c385c028dad802e97575c19e456b990/expr.ipynb\"><img src=\"../../../../../../numbers/number_sets/natural_numbers/__pv_it/common/a2a7252783c385c028dad802e97575c19e456b990/expr.png\" style=\"display:inline;vertical-align:middle;\" /></a></td></tr>\n",
       "<tr><td>10</td><td>ExprTuple</td><td>32, 24</td><td><a class=\"ProveItLink\" href=\"../b29c8f6a5b9c2ce2f8cbcf985de35c1293443e6b0/expr.ipynb\"><img src=\"../b29c8f6a5b9c2ce2f8cbcf985de35c1293443e6b0/expr.png\" style=\"display:inline;vertical-align:middle;\" /></a></td></tr>\n",
       "<tr><td>11</td><td>Operation</td><td>operator:&nbsp;12<br>operands:&nbsp;13<br></td><td><a class=\"ProveItLink\" href=\"../0572e194ab7765ee6ecde4e2a72258ed97dc95f30/expr.ipynb\"><img src=\"../0572e194ab7765ee6ecde4e2a72258ed97dc95f30/expr.png\" style=\"display:inline;vertical-align:middle;\" /></a></td></tr>\n",
       "<tr><td>12</td><td>Literal</td><td></td><td><a class=\"ProveItLink\" href=\"../../../../../equality/__pv_it/common/731dd3955b346c1320ed5c0ba7a618bcda61457d0/expr.ipynb\"><img src=\"../../../../../equality/__pv_it/common/731dd3955b346c1320ed5c0ba7a618bcda61457d0/expr.png\" style=\"display:inline;vertical-align:middle;\" /></a></td></tr>\n",
       "<tr><td>13</td><td>ExprTuple</td><td>14, 15</td><td><a class=\"ProveItLink\" href=\"../89ab6460514fe501b51794113a4c0091ea037fb20/expr.ipynb\"><img src=\"../89ab6460514fe501b51794113a4c0091ea037fb20/expr.png\" style=\"display:inline;vertical-align:middle;\" /></a></td></tr>\n",
       "<tr><td>14</td><td>Operation</td><td>operator:&nbsp;29<br>operands:&nbsp;16<br></td><td><a class=\"ProveItLink\" href=\"../4ca66e4d7d3951e6216a96352e7f9897ae42b4950/expr.ipynb\"><img src=\"../4ca66e4d7d3951e6216a96352e7f9897ae42b4950/expr.png\" style=\"display:inline;vertical-align:middle;\" /></a></td></tr>\n",
       "<tr><td>15</td><td>Operation</td><td>operator:&nbsp;17<br>operands:&nbsp;18<br></td><td><a class=\"ProveItLink\" href=\"../../../../__pv_it/common/8c3eee2d788e69b658c84ada1e508160d5da33350/expr.ipynb\"><img src=\"../../../../__pv_it/common/8c3eee2d788e69b658c84ada1e508160d5da33350/expr.png\" style=\"display:inline;vertical-align:middle;\" /></a></td></tr>\n",
       "<tr><td>16</td><td>ExprTuple</td><td>32, 19</td><td><a class=\"ProveItLink\" href=\"../9b5d52294f33d8337bb51714a5320fcadac48b050/expr.ipynb\"><img src=\"../9b5d52294f33d8337bb51714a5320fcadac48b050/expr.png\" style=\"display:inline;vertical-align:middle;\" /></a></td></tr>\n",
       "<tr><td>17</td><td>Literal</td><td></td><td><a class=\"ProveItLink\" href=\"../../../../../booleans/conjunction/__pv_it/common/26b94b53e70b1d77b70f0d9d4236347db37731060/expr.ipynb\"><img src=\"../../../../../booleans/conjunction/__pv_it/common/26b94b53e70b1d77b70f0d9d4236347db37731060/expr.png\" style=\"display:inline;vertical-align:middle;\" /></a></td></tr>\n",
       "<tr><td>18</td><td>ExprTuple</td><td>20</td><td><a class=\"ProveItLink\" href=\"../../../../__pv_it/common/1c3c277f62149a95689afa0e61706386dddffccb0/expr.ipynb\"><img src=\"../../../../__pv_it/common/1c3c277f62149a95689afa0e61706386dddffccb0/expr.png\" style=\"display:inline;vertical-align:middle;\" /></a></td></tr>\n",
       "<tr><td>19</td><td>Operation</td><td>operator:&nbsp;21<br>operands:&nbsp;22<br></td><td><a class=\"ProveItLink\" href=\"../48acbecfa3f218f2f0bb159d04491b17232eb9650/expr.ipynb\"><img src=\"../48acbecfa3f218f2f0bb159d04491b17232eb9650/expr.png\" style=\"display:inline;vertical-align:middle;\" /></a></td></tr>\n",
       "<tr><td>20</td><td>ExprRange</td><td>lambda_map:&nbsp;23<br>start_index:&nbsp;27<br>end_index:&nbsp;28<br></td><td><a class=\"ProveItLink\" href=\"../../../../__pv_it/common/bbb3852272b0f8bf1266a321ff38bacfeec73c760/expr.ipynb\"><img src=\"../../../../__pv_it/common/bbb3852272b0f8bf1266a321ff38bacfeec73c760/expr.png\" style=\"display:inline;vertical-align:middle;\" /></a></td></tr>\n",
       "<tr><td>21</td><td>Literal</td><td></td><td><a class=\"ProveItLink\" href=\"../../common/4091ac1d846f3dfe92e51edd5bbf6e1cb0dd9d8a0/expr.ipynb\"><img src=\"../../common/4091ac1d846f3dfe92e51edd5bbf6e1cb0dd9d8a0/expr.png\" style=\"display:inline;vertical-align:middle;\" /></a></td></tr>\n",
       "<tr><td>22</td><td>ExprTuple</td><td>24</td><td><a class=\"ProveItLink\" href=\"../0a65ec265686482133d742d4363a8cf4d6c35e350/expr.ipynb\"><img src=\"../0a65ec265686482133d742d4363a8cf4d6c35e350/expr.png\" style=\"display:inline;vertical-align:middle;\" /></a></td></tr>\n",
       "<tr><td>23</td><td>Lambda</td><td>parameter:&nbsp;38<br>body:&nbsp;25<br></td><td><a class=\"ProveItLink\" href=\"../../../../__pv_it/common/df126081ebce050b33742e817a926f2e4c65f5690/expr.ipynb\"><img src=\"../../../../__pv_it/common/df126081ebce050b33742e817a926f2e4c65f5690/expr.png\" style=\"display:inline;vertical-align:middle;\" /></a></td></tr>\n",
       "<tr><td>24</td><td>ExprRange</td><td>lambda_map:&nbsp;26<br>start_index:&nbsp;27<br>end_index:&nbsp;28<br></td><td><a class=\"ProveItLink\" href=\"../../../../../../core_expr_types/__pv_it/common/30c3e05d1ed167fcc220828c60f35ec81c3feb3f0/expr.ipynb\"><img src=\"../../../../../../core_expr_types/__pv_it/common/30c3e05d1ed167fcc220828c60f35ec81c3feb3f0/expr.png\" style=\"display:inline;vertical-align:middle;\" /></a></td></tr>\n",
       "<tr><td>25</td><td>Operation</td><td>operator:&nbsp;29<br>operands:&nbsp;30<br></td><td><a class=\"ProveItLink\" href=\"../../../../__pv_it/common/38c97a09bfa9faa4b7cc3479d3d5f837a37eefa70/expr.ipynb\"><img src=\"../../../../__pv_it/common/38c97a09bfa9faa4b7cc3479d3d5f837a37eefa70/expr.png\" style=\"display:inline;vertical-align:middle;\" /></a></td></tr>\n",
       "<tr><td>26</td><td>Lambda</td><td>parameter:&nbsp;37<br>body:&nbsp;31<br></td><td><a class=\"ProveItLink\" href=\"../../../../../../core_expr_types/__pv_it/common/7cb3671e4363a47742a54e63b73ddf8e8fe2c9390/expr.ipynb\"><img src=\"../../../../../../core_expr_types/__pv_it/common/7cb3671e4363a47742a54e63b73ddf8e8fe2c9390/expr.png\" style=\"display:inline;vertical-align:middle;\" /></a></td></tr>\n",
       "<tr><td>27</td><td>Literal</td><td></td><td><a class=\"ProveItLink\" href=\"../../../../../../numbers/numerals/__pv_it/common/d278e359da0695d9652dd541d45264f93703e2e40/expr.ipynb\"><img src=\"../../../../../../numbers/numerals/__pv_it/common/d278e359da0695d9652dd541d45264f93703e2e40/expr.png\" style=\"display:inline;vertical-align:middle;\" /></a></td></tr>\n",
       "<tr><td>28</td><td>Variable</td><td></td><td><a class=\"ProveItLink\" href=\"../../../../../../__pv_it/common/2dc4f15b3407a25e8d70754a86bf74f1871f92650/expr.ipynb\"><img src=\"../../../../../../__pv_it/common/2dc4f15b3407a25e8d70754a86bf74f1871f92650/expr.png\" style=\"display:inline;vertical-align:middle;\" /></a></td></tr>\n",
       "<tr><td>29</td><td>Literal</td><td></td><td><a class=\"ProveItLink\" href=\"../../../../membership/__pv_it/common/964bda7e6e4c28273edd6b3f4b5665863f3e6fc50/expr.ipynb\"><img src=\"../../../../membership/__pv_it/common/964bda7e6e4c28273edd6b3f4b5665863f3e6fc50/expr.png\" style=\"display:inline;vertical-align:middle;\" /></a></td></tr>\n",
       "<tr><td>30</td><td>ExprTuple</td><td>32, 33</td><td><a class=\"ProveItLink\" href=\"../../../../__pv_it/common/4f76d40269d5405fe57983cba8892e891ddf8e9a0/expr.ipynb\"><img src=\"../../../../__pv_it/common/4f76d40269d5405fe57983cba8892e891ddf8e9a0/expr.png\" style=\"display:inline;vertical-align:middle;\" /></a></td></tr>\n",
       "<tr><td>31</td><td>IndexedVar</td><td>variable:&nbsp;35<br>index:&nbsp;37<br></td><td><a class=\"ProveItLink\" href=\"../../../../../../core_expr_types/__pv_it/common/44c047560b26e24c2a9af7e0d00ef8bc5e74e7580/expr.ipynb\"><img src=\"../../../../../../core_expr_types/__pv_it/common/44c047560b26e24c2a9af7e0d00ef8bc5e74e7580/expr.png\" style=\"display:inline;vertical-align:middle;\" /></a></td></tr>\n",
       "<tr><td>32</td><td>Variable</td><td></td><td><a class=\"ProveItLink\" href=\"../../../../../../__pv_it/common/a2581dc5df71d9a30bad37de14965fa5fec97a240/expr.ipynb\"><img src=\"../../../../../../__pv_it/common/a2581dc5df71d9a30bad37de14965fa5fec97a240/expr.png\" style=\"display:inline;vertical-align:middle;\" /></a></td></tr>\n",
       "<tr><td>33</td><td>IndexedVar</td><td>variable:&nbsp;35<br>index:&nbsp;38<br></td><td><a class=\"ProveItLink\" href=\"../../../../__pv_it/common/8944fa99962c4fa65f005c3e1a1975d4210055e80/expr.ipynb\"><img src=\"../../../../__pv_it/common/8944fa99962c4fa65f005c3e1a1975d4210055e80/expr.png\" style=\"display:inline;vertical-align:middle;\" /></a></td></tr>\n",
       "<tr><td>34</td><td>ExprTuple</td><td>37</td><td><a class=\"ProveItLink\" href=\"../../../../../../core_expr_types/__pv_it/common/ecf50ade416ab41c42c9f4e777b4c862cd9469670/expr.ipynb\"><img src=\"../../../../../../core_expr_types/__pv_it/common/ecf50ade416ab41c42c9f4e777b4c862cd9469670/expr.png\" style=\"display:inline;vertical-align:middle;\" /></a></td></tr>\n",
       "<tr><td>35</td><td>Variable</td><td></td><td><a class=\"ProveItLink\" href=\"../../../../../../__pv_it/common/e4aad701f7f5516d8e7f0d805d518bf02c13322a0/expr.ipynb\"><img src=\"../../../../../../__pv_it/common/e4aad701f7f5516d8e7f0d805d518bf02c13322a0/expr.png\" style=\"display:inline;vertical-align:middle;\" /></a></td></tr>\n",
       "<tr><td>36</td><td>ExprTuple</td><td>38</td><td><a class=\"ProveItLink\" href=\"../../../../__pv_it/common/6420c4d2520c27c1137ad22005291620057456040/expr.ipynb\"><img src=\"../../../../__pv_it/common/6420c4d2520c27c1137ad22005291620057456040/expr.png\" style=\"display:inline;vertical-align:middle;\" /></a></td></tr>\n",
       "<tr><td>37</td><td>Variable</td><td></td><td><a class=\"ProveItLink\" href=\"../../../../../../core_expr_types/__pv_it/common/9e6d9d5d7eeb0342cf5bca68def0eb165a1a9bb10/expr.ipynb\"><img src=\"../../../../../../core_expr_types/__pv_it/common/9e6d9d5d7eeb0342cf5bca68def0eb165a1a9bb10/expr.png\" style=\"display:inline;vertical-align:middle;\" /></a></td></tr>\n",
       "<tr><td>38</td><td>Variable</td><td></td><td><a class=\"ProveItLink\" href=\"../../../../../../__pv_it/common/575a6156bb1c87c5beeaf38c302b5905ad57f5780/expr.ipynb\"><img src=\"../../../../../../__pv_it/common/575a6156bb1c87c5beeaf38c302b5905ad57f5780/expr.png\" style=\"display:inline;vertical-align:middle;\" /></a></td></tr>\n",
       "</table>\n"
      ],
      "text/plain": [
       "0. m -> {forall_{x, A_{1}, ..A_{_a}.., A_{m}} ((x not-in (A_{1} union ..A_{_a}.. union A_{m})) = ((x not-in A_{1}) and ..(x not-in A_{i}).. and (x not-in A_{m}))) if m in NaturalPos.\n",
       "   core type: Lambda\n",
       "   parameter: 28\n",
       "   body: 1\n",
       "1. {forall_{x, A_{1}, ..A_{_a}.., A_{m}} ((x not-in (A_{1} union ..A_{_a}.. union A_{m})) = ((x not-in A_{1}) and ..(x not-in A_{i}).. and (x not-in A_{m}))) if m in NaturalPos.\n",
       "   core type: Conditional\n",
       "   value: 2\n",
       "   condition: 3\n",
       "2. forall_{x, A_{1}, ..A_{_a}.., A_{m}} ((x not-in (A_{1} union ..A_{_a}.. union A_{m})) = ((x not-in A_{1}) and ..(x not-in A_{i}).. and (x not-in A_{m})))\n",
       "   core type: Operation\n",
       "   operator: 4\n",
       "   operand: 8\n",
       "3. m in NaturalPos\n",
       "   core type: Operation\n",
       "   operator: 6\n",
       "   operands: 7\n",
       "4. forall\n",
       "   core type: Literal\n",
       "   sub-expressions: \n",
       "5. ((x, A_{1}, ..A_{_a}.., A_{m}) -> ((x not-in (A_{1} union ..A_{_a}.. union A_{m})) = ((x not-in A_{1}) and ..(x not-in A_{i}).. and (x not-in A_{m}))))\n",
       "   core type: ExprTuple\n",
       "   sub-expressions: 8\n",
       "6. in\n",
       "   core type: Literal\n",
       "   sub-expressions: \n",
       "7. (m, NaturalPos)\n",
       "   core type: ExprTuple\n",
       "   sub-expressions: 28, 9\n",
       "8. (x, A_{1}, ..A_{_a}.., A_{m}) -> ((x not-in (A_{1} union ..A_{_a}.. union A_{m})) = ((x not-in A_{1}) and ..(x not-in A_{i}).. and (x not-in A_{m})))\n",
       "   core type: Lambda\n",
       "   parameters: 10\\n   body: 11\n",
       "9. NaturalPos\n",
       "   core type: Literal\n",
       "   sub-expressions: \n",
       "10. (x, A_{1}, ..A_{_a}.., A_{m})\n",
       "    core type: ExprTuple\n",
       "    sub-expressions: 32, 24\n",
       "11. (x not-in (A_{1} union ..A_{_a}.. union A_{m})) = ((x not-in A_{1}) and ..(x not-in A_{i}).. and (x not-in A_{m}))\n",
       "    core type: Operation\n",
       "    operator: 12\n",
       "    operands: 13\n",
       "12. =\n",
       "    core type: Literal\n",
       "    sub-expressions: \n",
       "13. (x not-in (A_{1} union ..A_{_a}.. union A_{m}), (x not-in A_{1}) and ..(x not-in A_{i}).. and (x not-in A_{m}))\n",
       "    core type: ExprTuple\n",
       "    sub-expressions: 14, 15\n",
       "14. x not-in (A_{1} union ..A_{_a}.. union A_{m})\n",
       "    core type: Operation\n",
       "    operator: 29\n",
       "    operands: 16\n",
       "15. (x not-in A_{1}) and ..(x not-in A_{i}).. and (x not-in A_{m})\n",
       "    core type: Operation\n",
       "    operator: 17\n",
       "    operands: 18\n",
       "16. (x, A_{1} union ..A_{_a}.. union A_{m})\n",
       "    core type: ExprTuple\n",
       "    sub-expressions: 32, 19\n",
       "17. and\n",
       "    core type: Literal\n",
       "    sub-expressions: \n",
       "18. (x not-in A_{1}, ..x not-in A_{i}.., x not-in A_{m})\n",
       "    core type: ExprTuple\n",
       "    sub-expressions: 20\n",
       "19. A_{1} union ..A_{_a}.. union A_{m}\n",
       "    core type: Operation\n",
       "    operator: 21\n",
       "    operands: 22\n",
       "20. (x not-in A_{1}), ..(x not-in A_{i}).., (x not-in A_{m})\n",
       "    core type: ExprRange\n",
       "    lambda_map: 23\n",
       "    start_index: 27\n",
       "    end_index: 28\n",
       "21. union\n",
       "    core type: Literal\n",
       "    sub-expressions: \n",
       "22. (A_{1}, ..A_{_a}.., A_{m})\n",
       "    core type: ExprTuple\n",
       "    sub-expressions: 24\n",
       "23. i -> (x not-in A_{i})\n",
       "    core type: Lambda\n",
       "    parameter: 38\n",
       "    body: 25\n",
       "24. A_{1}, ..A_{_a}.., A_{m}\n",
       "    core type: ExprRange\n",
       "    lambda_map: 26\n",
       "    start_index: 27\n",
       "    end_index: 28\n",
       "25. x not-in A_{i}\n",
       "    core type: Operation\n",
       "    operator: 29\n",
       "    operands: 30\n",
       "26. _a -> A_{_a}\n",
       "    core type: Lambda\n",
       "    parameter: 37\n",
       "    body: 31\n",
       "27. 1\n",
       "    core type: Literal\n",
       "    sub-expressions: \n",
       "28. m\n",
       "    core type: Variable\n",
       "    sub-expressions: \n",
       "29. not-in\n",
       "    core type: Literal\n",
       "    sub-expressions: \n",
       "30. (x, A_{i})\n",
       "    core type: ExprTuple\n",
       "    sub-expressions: 32, 33\n",
       "31. A_{_a}\n",
       "    core type: IndexedVar\n",
       "variable: 35\n",
       "index: 37\n",
       "32. x\n",
       "    core type: Variable\n",
       "    sub-expressions: \n",
       "33. A_{i}\n",
       "    core type: IndexedVar\n",
       "variable: 35\n",
       "index: 38\n",
       "34. (_a)\n",
       "    core type: ExprTuple\n",
       "    sub-expressions: 37\n",
       "35. A\n",
       "    core type: Variable\n",
       "    sub-expressions: \n",
       "36. (i)\n",
       "    core type: ExprTuple\n",
       "    sub-expressions: 38\n",
       "37. _a\n",
       "    core type: Variable\n",
       "    sub-expressions: \n",
       "38. i\n",
       "    core type: Variable\n",
       "    sub-expressions: "
      ]
     },
     "execution_count": 6,
     "metadata": {},
     "output_type": "execute_result"
    }
   ],
   "source": [
    "# display the expression information\n",
    "expr.expr_info()"
   ]
  },
  {
   "cell_type": "code",
   "execution_count": null,
   "metadata": {},
   "outputs": [],
   "source": []
  }
 ],
 "metadata": {
  "kernelspec": {
   "display_name": "Python 3",
   "language": "python",
   "name": "python3"
  }
 },
 "nbformat": 4,
 "nbformat_minor": 0
}