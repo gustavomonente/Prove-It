{
 "cells": [
  {
   "cell_type": "markdown",
   "metadata": {},
   "source": [
    "Expression of type <a class=\"ProveItLink\" href=\"../../../../../../../../doc/html/api/proveit.ExprTuple.html\">ExprTuple</a>\n",
    "=======================\n",
    "# from the theory of <a class=\"ProveItLink\" href=\"../../../_theory_nbs_/theory.ipynb\">proveit.logic.sets.unification</a>"
   ]
  },
  {
   "cell_type": "code",
   "execution_count": 1,
   "metadata": {},
   "outputs": [],
   "source": [
    "import proveit\n",
    "# Automation is not needed when building an expression:\n",
    "proveit.defaults.automation = False # This will speed things up.\n",
    "proveit.defaults.inline_pngs = False # Makes files smaller.\n",
    "%load_expr # Load the stored expression as 'stored_expr'\n",
    "# import Expression classes needed to build the expression\n",
    "from proveit import Conditional, ExprTuple, Lambda, x\n",
    "from proveit.core_expr_types import A_1_to_m\n",
    "from proveit.logic import InSet, Union\n",
    "from proveit.logic.sets import x_in_any_A"
   ]
  },
  {
   "cell_type": "code",
   "execution_count": 2,
   "metadata": {},
   "outputs": [
    {
     "data": {
      "text/html": [
       "<strong id=\"expr\">expr:</strong> <a class=\"ProveItLink\" href=\"expr.ipynb\"><img src=\"expr.png\" style=\"display:inline;vertical-align:middle;\" /></a><br>"
      ],
      "text/plain": [
       "expr: ((x, A_{1}, ..A_{_a}.., A_{m}) -> {x in (A_{1} union ..A_{_a}.. union A_{m}) if (x in A_{1}) or ..(x in A_{i}).. or (x in A_{m}).)"
      ]
     },
     "execution_count": 2,
     "metadata": {},
     "output_type": "execute_result"
    }
   ],
   "source": [
    "# build up the expression from sub-expressions\n",
    "expr = ExprTuple(Lambda([x, A_1_to_m], Conditional(InSet(x, Union(A_1_to_m)), x_in_any_A)))"
   ]
  },
  {
   "cell_type": "code",
   "execution_count": 3,
   "metadata": {},
   "outputs": [
    {
     "name": "stdout",
     "output_type": "stream",
     "text": [
      "Passed sanity check: expr matches stored_expr\n"
     ]
    }
   ],
   "source": [
    "# check that the built expression is the same as the stored expression\n",
    "assert expr == stored_expr\n",
    "assert expr._style_id == stored_expr._style_id\n",
    "print(\"Passed sanity check: expr matches stored_expr\")"
   ]
  },
  {
   "cell_type": "code",
   "execution_count": 4,
   "metadata": {},
   "outputs": [
    {
     "name": "stdout",
     "output_type": "stream",
     "text": [
      "\\left(\\left(x, A_{1}, \\ldots, A_{m}\\right) \\mapsto \\left\\{x \\in \\left(A_{1} \\cup \\ldots \\cup A_{m}\\right) \\textrm{ if } \\left(x \\in A_{1}\\right) \\lor \\ldots \\lor \\left(x \\in A_{m}\\right)\\right..\\right)\n"
     ]
    }
   ],
   "source": [
    "# Show the LaTeX representation of the expression for convenience if you need it.\n",
    "print(expr.latex())"
   ]
  },
  {
   "cell_type": "code",
   "execution_count": 5,
   "metadata": {},
   "outputs": [
    {
     "data": {
      "text/html": [
       "no style options"
      ],
      "text/plain": [
       "no style options"
      ]
     },
     "execution_count": 5,
     "metadata": {},
     "output_type": "execute_result"
    }
   ],
   "source": [
    "expr.style_options()"
   ]
  },
  {
   "cell_type": "code",
   "execution_count": 6,
   "metadata": {},
   "outputs": [
    {
     "data": {
      "text/html": [
       "<table><tr><th>&nbsp;</th><th>core type</th><th>sub-expressions</th><th>expression</th></tr>\n",
       "<tr><td>0</td><td>ExprTuple</td><td>1</td><td><a class=\"ProveItLink\" href=\"expr.ipynb\"><img src=\"expr.png\" style=\"display:inline;vertical-align:middle;\" /></a></td></tr>\n",
       "<tr><td>1</td><td>Lambda</td><td>parameters:&nbsp;2<br>body:&nbsp;3<br></td><td><a class=\"ProveItLink\" href=\"../e8a237906c687d7793f83f455d542bb6e59144da0/expr.ipynb\"><img src=\"../e8a237906c687d7793f83f455d542bb6e59144da0/expr.png\" style=\"display:inline;vertical-align:middle;\" /></a></td></tr>\n",
       "<tr><td>2</td><td>ExprTuple</td><td>22, 14</td><td><a class=\"ProveItLink\" href=\"../b29c8f6a5b9c2ce2f8cbcf985de35c1293443e6b0/expr.ipynb\"><img src=\"../b29c8f6a5b9c2ce2f8cbcf985de35c1293443e6b0/expr.png\" style=\"display:inline;vertical-align:middle;\" /></a></td></tr>\n",
       "<tr><td>3</td><td>Conditional</td><td>value:&nbsp;4<br>condition:&nbsp;5<br></td><td><a class=\"ProveItLink\" href=\"../83ea82973948f844ec257d8e277b368140d7b7c10/expr.ipynb\"><img src=\"../83ea82973948f844ec257d8e277b368140d7b7c10/expr.png\" style=\"display:inline;vertical-align:middle;\" /></a></td></tr>\n",
       "<tr><td>4</td><td>Operation</td><td>operator:&nbsp;19<br>operands:&nbsp;6<br></td><td><a class=\"ProveItLink\" href=\"../96cf3a2ff374f3d16376b61d8799c6246f1ff4650/expr.ipynb\"><img src=\"../96cf3a2ff374f3d16376b61d8799c6246f1ff4650/expr.png\" style=\"display:inline;vertical-align:middle;\" /></a></td></tr>\n",
       "<tr><td>5</td><td>Operation</td><td>operator:&nbsp;7<br>operands:&nbsp;8<br></td><td><a class=\"ProveItLink\" href=\"../../../../__pv_it/common/b9f7272d7d244a9b3c5c7f3dfec08061925e64b90/expr.ipynb\"><img src=\"../../../../__pv_it/common/b9f7272d7d244a9b3c5c7f3dfec08061925e64b90/expr.png\" style=\"display:inline;vertical-align:middle;\" /></a></td></tr>\n",
       "<tr><td>6</td><td>ExprTuple</td><td>22, 9</td><td><a class=\"ProveItLink\" href=\"../9b5d52294f33d8337bb51714a5320fcadac48b050/expr.ipynb\"><img src=\"../9b5d52294f33d8337bb51714a5320fcadac48b050/expr.png\" style=\"display:inline;vertical-align:middle;\" /></a></td></tr>\n",
       "<tr><td>7</td><td>Literal</td><td></td><td><a class=\"ProveItLink\" href=\"../../../../../booleans/disjunction/__pv_it/common/0e5dcae3232d8ebdc0777b8ce92ce453a450f6c30/expr.ipynb\"><img src=\"../../../../../booleans/disjunction/__pv_it/common/0e5dcae3232d8ebdc0777b8ce92ce453a450f6c30/expr.png\" style=\"display:inline;vertical-align:middle;\" /></a></td></tr>\n",
       "<tr><td>8</td><td>ExprTuple</td><td>10</td><td><a class=\"ProveItLink\" href=\"../../../../__pv_it/common/87b737b7e675fa0a092e63da7edcd893790803870/expr.ipynb\"><img src=\"../../../../__pv_it/common/87b737b7e675fa0a092e63da7edcd893790803870/expr.png\" style=\"display:inline;vertical-align:middle;\" /></a></td></tr>\n",
       "<tr><td>9</td><td>Operation</td><td>operator:&nbsp;11<br>operands:&nbsp;12<br></td><td><a class=\"ProveItLink\" href=\"../48acbecfa3f218f2f0bb159d04491b17232eb9650/expr.ipynb\"><img src=\"../48acbecfa3f218f2f0bb159d04491b17232eb9650/expr.png\" style=\"display:inline;vertical-align:middle;\" /></a></td></tr>\n",
       "<tr><td>10</td><td>ExprRange</td><td>lambda_map:&nbsp;13<br>start_index:&nbsp;17<br>end_index:&nbsp;18<br></td><td><a class=\"ProveItLink\" href=\"../../../../__pv_it/common/3cf09bf80a12aa635906197cfaa652c1d09c34d80/expr.ipynb\"><img src=\"../../../../__pv_it/common/3cf09bf80a12aa635906197cfaa652c1d09c34d80/expr.png\" style=\"display:inline;vertical-align:middle;\" /></a></td></tr>\n",
       "<tr><td>11</td><td>Literal</td><td></td><td><a class=\"ProveItLink\" href=\"../../common/4091ac1d846f3dfe92e51edd5bbf6e1cb0dd9d8a0/expr.ipynb\"><img src=\"../../common/4091ac1d846f3dfe92e51edd5bbf6e1cb0dd9d8a0/expr.png\" style=\"display:inline;vertical-align:middle;\" /></a></td></tr>\n",
       "<tr><td>12</td><td>ExprTuple</td><td>14</td><td><a class=\"ProveItLink\" href=\"../0a65ec265686482133d742d4363a8cf4d6c35e350/expr.ipynb\"><img src=\"../0a65ec265686482133d742d4363a8cf4d6c35e350/expr.png\" style=\"display:inline;vertical-align:middle;\" /></a></td></tr>\n",
       "<tr><td>13</td><td>Lambda</td><td>parameter:&nbsp;28<br>body:&nbsp;15<br></td><td><a class=\"ProveItLink\" href=\"../../../../__pv_it/common/1c391f32f8eb92f727eafc56c978883a67aee9770/expr.ipynb\"><img src=\"../../../../__pv_it/common/1c391f32f8eb92f727eafc56c978883a67aee9770/expr.png\" style=\"display:inline;vertical-align:middle;\" /></a></td></tr>\n",
       "<tr><td>14</td><td>ExprRange</td><td>lambda_map:&nbsp;16<br>start_index:&nbsp;17<br>end_index:&nbsp;18<br></td><td><a class=\"ProveItLink\" href=\"../../../../../../core_expr_types/__pv_it/common/30c3e05d1ed167fcc220828c60f35ec81c3feb3f0/expr.ipynb\"><img src=\"../../../../../../core_expr_types/__pv_it/common/30c3e05d1ed167fcc220828c60f35ec81c3feb3f0/expr.png\" style=\"display:inline;vertical-align:middle;\" /></a></td></tr>\n",
       "<tr><td>15</td><td>Operation</td><td>operator:&nbsp;19<br>operands:&nbsp;20<br></td><td><a class=\"ProveItLink\" href=\"../../../../__pv_it/common/8ae1120dc5832558419e8abca6eb26a0d552542b0/expr.ipynb\"><img src=\"../../../../__pv_it/common/8ae1120dc5832558419e8abca6eb26a0d552542b0/expr.png\" style=\"display:inline;vertical-align:middle;\" /></a></td></tr>\n",
       "<tr><td>16</td><td>Lambda</td><td>parameter:&nbsp;27<br>body:&nbsp;21<br></td><td><a class=\"ProveItLink\" href=\"../../../../../../core_expr_types/__pv_it/common/7cb3671e4363a47742a54e63b73ddf8e8fe2c9390/expr.ipynb\"><img src=\"../../../../../../core_expr_types/__pv_it/common/7cb3671e4363a47742a54e63b73ddf8e8fe2c9390/expr.png\" style=\"display:inline;vertical-align:middle;\" /></a></td></tr>\n",
       "<tr><td>17</td><td>Literal</td><td></td><td><a class=\"ProveItLink\" href=\"../../../../../../numbers/numerals/__pv_it/common/d278e359da0695d9652dd541d45264f93703e2e40/expr.ipynb\"><img src=\"../../../../../../numbers/numerals/__pv_it/common/d278e359da0695d9652dd541d45264f93703e2e40/expr.png\" style=\"display:inline;vertical-align:middle;\" /></a></td></tr>\n",
       "<tr><td>18</td><td>Variable</td><td></td><td><a class=\"ProveItLink\" href=\"../../../../../../__pv_it/common/2dc4f15b3407a25e8d70754a86bf74f1871f92650/expr.ipynb\"><img src=\"../../../../../../__pv_it/common/2dc4f15b3407a25e8d70754a86bf74f1871f92650/expr.png\" style=\"display:inline;vertical-align:middle;\" /></a></td></tr>\n",
       "<tr><td>19</td><td>Literal</td><td></td><td><a class=\"ProveItLink\" href=\"../../../../membership/__pv_it/common/7171deca84f71f47a6ec7696972d1632274a12880/expr.ipynb\"><img src=\"../../../../membership/__pv_it/common/7171deca84f71f47a6ec7696972d1632274a12880/expr.png\" style=\"display:inline;vertical-align:middle;\" /></a></td></tr>\n",
       "<tr><td>20</td><td>ExprTuple</td><td>22, 23</td><td><a class=\"ProveItLink\" href=\"../../../../__pv_it/common/4f76d40269d5405fe57983cba8892e891ddf8e9a0/expr.ipynb\"><img src=\"../../../../__pv_it/common/4f76d40269d5405fe57983cba8892e891ddf8e9a0/expr.png\" style=\"display:inline;vertical-align:middle;\" /></a></td></tr>\n",
       "<tr><td>21</td><td>IndexedVar</td><td>variable:&nbsp;25<br>index:&nbsp;27<br></td><td><a class=\"ProveItLink\" href=\"../../../../../../core_expr_types/__pv_it/common/44c047560b26e24c2a9af7e0d00ef8bc5e74e7580/expr.ipynb\"><img src=\"../../../../../../core_expr_types/__pv_it/common/44c047560b26e24c2a9af7e0d00ef8bc5e74e7580/expr.png\" style=\"display:inline;vertical-align:middle;\" /></a></td></tr>\n",
       "<tr><td>22</td><td>Variable</td><td></td><td><a class=\"ProveItLink\" href=\"../../../../../../__pv_it/common/a2581dc5df71d9a30bad37de14965fa5fec97a240/expr.ipynb\"><img src=\"../../../../../../__pv_it/common/a2581dc5df71d9a30bad37de14965fa5fec97a240/expr.png\" style=\"display:inline;vertical-align:middle;\" /></a></td></tr>\n",
       "<tr><td>23</td><td>IndexedVar</td><td>variable:&nbsp;25<br>index:&nbsp;28<br></td><td><a class=\"ProveItLink\" href=\"../../../../__pv_it/common/8944fa99962c4fa65f005c3e1a1975d4210055e80/expr.ipynb\"><img src=\"../../../../__pv_it/common/8944fa99962c4fa65f005c3e1a1975d4210055e80/expr.png\" style=\"display:inline;vertical-align:middle;\" /></a></td></tr>\n",
       "<tr><td>24</td><td>ExprTuple</td><td>27</td><td><a class=\"ProveItLink\" href=\"../../../../../../core_expr_types/__pv_it/common/ecf50ade416ab41c42c9f4e777b4c862cd9469670/expr.ipynb\"><img src=\"../../../../../../core_expr_types/__pv_it/common/ecf50ade416ab41c42c9f4e777b4c862cd9469670/expr.png\" style=\"display:inline;vertical-align:middle;\" /></a></td></tr>\n",
       "<tr><td>25</td><td>Variable</td><td></td><td><a class=\"ProveItLink\" href=\"../../../../../../__pv_it/common/e4aad701f7f5516d8e7f0d805d518bf02c13322a0/expr.ipynb\"><img src=\"../../../../../../__pv_it/common/e4aad701f7f5516d8e7f0d805d518bf02c13322a0/expr.png\" style=\"display:inline;vertical-align:middle;\" /></a></td></tr>\n",
       "<tr><td>26</td><td>ExprTuple</td><td>28</td><td><a class=\"ProveItLink\" href=\"../../../../__pv_it/common/6420c4d2520c27c1137ad22005291620057456040/expr.ipynb\"><img src=\"../../../../__pv_it/common/6420c4d2520c27c1137ad22005291620057456040/expr.png\" style=\"display:inline;vertical-align:middle;\" /></a></td></tr>\n",
       "<tr><td>27</td><td>Variable</td><td></td><td><a class=\"ProveItLink\" href=\"../../../../../../core_expr_types/__pv_it/common/9e6d9d5d7eeb0342cf5bca68def0eb165a1a9bb10/expr.ipynb\"><img src=\"../../../../../../core_expr_types/__pv_it/common/9e6d9d5d7eeb0342cf5bca68def0eb165a1a9bb10/expr.png\" style=\"display:inline;vertical-align:middle;\" /></a></td></tr>\n",
       "<tr><td>28</td><td>Variable</td><td></td><td><a class=\"ProveItLink\" href=\"../../../../../../__pv_it/common/575a6156bb1c87c5beeaf38c302b5905ad57f5780/expr.ipynb\"><img src=\"../../../../../../__pv_it/common/575a6156bb1c87c5beeaf38c302b5905ad57f5780/expr.png\" style=\"display:inline;vertical-align:middle;\" /></a></td></tr>\n",
       "</table>\n"
      ],
      "text/plain": [
       "0. ((x, A_{1}, ..A_{_a}.., A_{m}) -> {x in (A_{1} union ..A_{_a}.. union A_{m}) if (x in A_{1}) or ..(x in A_{i}).. or (x in A_{m}).)\n",
       "   core type: ExprTuple\n",
       "   sub-expressions: 1\n",
       "1. (x, A_{1}, ..A_{_a}.., A_{m}) -> {x in (A_{1} union ..A_{_a}.. union A_{m}) if (x in A_{1}) or ..(x in A_{i}).. or (x in A_{m}).\n",
       "   core type: Lambda\n",
       "   parameters: 2\\n   body: 3\n",
       "2. (x, A_{1}, ..A_{_a}.., A_{m})\n",
       "   core type: ExprTuple\n",
       "   sub-expressions: 22, 14\n",
       "3. {x in (A_{1} union ..A_{_a}.. union A_{m}) if (x in A_{1}) or ..(x in A_{i}).. or (x in A_{m}).\n",
       "   core type: Conditional\n",
       "   value: 4\n",
       "   condition: 5\n",
       "4. x in (A_{1} union ..A_{_a}.. union A_{m})\n",
       "   core type: Operation\n",
       "   operator: 19\n",
       "   operands: 6\n",
       "5. (x in A_{1}) or ..(x in A_{i}).. or (x in A_{m})\n",
       "   core type: Operation\n",
       "   operator: 7\n",
       "   operands: 8\n",
       "6. (x, A_{1} union ..A_{_a}.. union A_{m})\n",
       "   core type: ExprTuple\n",
       "   sub-expressions: 22, 9\n",
       "7. or\n",
       "   core type: Literal\n",
       "   sub-expressions: \n",
       "8. (x in A_{1}, ..x in A_{i}.., x in A_{m})\n",
       "   core type: ExprTuple\n",
       "   sub-expressions: 10\n",
       "9. A_{1} union ..A_{_a}.. union A_{m}\n",
       "   core type: Operation\n",
       "   operator: 11\n",
       "   operands: 12\n",
       "10. (x in A_{1}), ..(x in A_{i}).., (x in A_{m})\n",
       "    core type: ExprRange\n",
       "    lambda_map: 13\n",
       "    start_index: 17\n",
       "    end_index: 18\n",
       "11. union\n",
       "    core type: Literal\n",
       "    sub-expressions: \n",
       "12. (A_{1}, ..A_{_a}.., A_{m})\n",
       "    core type: ExprTuple\n",
       "    sub-expressions: 14\n",
       "13. i -> (x in A_{i})\n",
       "    core type: Lambda\n",
       "    parameter: 28\n",
       "    body: 15\n",
       "14. A_{1}, ..A_{_a}.., A_{m}\n",
       "    core type: ExprRange\n",
       "    lambda_map: 16\n",
       "    start_index: 17\n",
       "    end_index: 18\n",
       "15. x in A_{i}\n",
       "    core type: Operation\n",
       "    operator: 19\n",
       "    operands: 20\n",
       "16. _a -> A_{_a}\n",
       "    core type: Lambda\n",
       "    parameter: 27\n",
       "    body: 21\n",
       "17. 1\n",
       "    core type: Literal\n",
       "    sub-expressions: \n",
       "18. m\n",
       "    core type: Variable\n",
       "    sub-expressions: \n",
       "19. in\n",
       "    core type: Literal\n",
       "    sub-expressions: \n",
       "20. (x, A_{i})\n",
       "    core type: ExprTuple\n",
       "    sub-expressions: 22, 23\n",
       "21. A_{_a}\n",
       "    core type: IndexedVar\n",
       "variable: 25\n",
       "index: 27\n",
       "22. x\n",
       "    core type: Variable\n",
       "    sub-expressions: \n",
       "23. A_{i}\n",
       "    core type: IndexedVar\n",
       "variable: 25\n",
       "index: 28\n",
       "24. (_a)\n",
       "    core type: ExprTuple\n",
       "    sub-expressions: 27\n",
       "25. A\n",
       "    core type: Variable\n",
       "    sub-expressions: \n",
       "26. (i)\n",
       "    core type: ExprTuple\n",
       "    sub-expressions: 28\n",
       "27. _a\n",
       "    core type: Variable\n",
       "    sub-expressions: \n",
       "28. i\n",
       "    core type: Variable\n",
       "    sub-expressions: "
      ]
     },
     "execution_count": 6,
     "metadata": {},
     "output_type": "execute_result"
    }
   ],
   "source": [
    "# display the expression information\n",
    "expr.expr_info()"
   ]
  },
  {
   "cell_type": "code",
   "execution_count": null,
   "metadata": {},
   "outputs": [],
   "source": []
  }
 ],
 "metadata": {
  "kernelspec": {
   "display_name": "Python 3",
   "language": "python",
   "name": "python3"
  }
 },
 "nbformat": 4,
 "nbformat_minor": 0
}