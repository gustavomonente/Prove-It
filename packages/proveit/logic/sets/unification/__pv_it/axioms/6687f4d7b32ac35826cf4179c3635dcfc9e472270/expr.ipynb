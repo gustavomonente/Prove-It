{
 "cells": [
  {
   "cell_type": "markdown",
   "metadata": {},
   "source": [
    "Expression of type <a class=\"ProveItLink\" href=\"../../../../../../../../doc/html/api/proveit.logic.Equals.html\">Equals</a>\n",
    "=======================\n",
    "# from the theory of <a class=\"ProveItLink\" href=\"../../../_theory_nbs_/theory.ipynb\">proveit.logic.sets.unification</a>"
   ]
  },
  {
   "cell_type": "code",
   "execution_count": 1,
   "metadata": {},
   "outputs": [],
   "source": [
    "import proveit\n",
    "# Automation is not needed when building an expression:\n",
    "proveit.defaults.automation = False # This will speed things up.\n",
    "proveit.defaults.inline_pngs = False # Makes files smaller.\n",
    "%load_expr # Load the stored expression as 'stored_expr'\n",
    "# import Expression classes needed to build the expression\n",
    "from proveit import x\n",
    "from proveit.core_expr_types import A_1_to_m\n",
    "from proveit.logic import Equals, InSet, Union\n",
    "from proveit.logic.sets import x_in_any_A"
   ]
  },
  {
   "cell_type": "code",
   "execution_count": 2,
   "metadata": {},
   "outputs": [
    {
     "data": {
      "text/html": [
       "<strong id=\"expr\">expr:</strong> <a class=\"ProveItLink\" href=\"expr.ipynb\"><img src=\"expr.png\" style=\"display:inline;vertical-align:middle;\" /></a><br>"
      ],
      "text/plain": [
       "expr: (x in (A_{1} union ..A_{_a}.. union A_{m})) =  \\\\ ((x in A_{1}) or ..(x in A_{i}).. or (x in A_{m}))"
      ]
     },
     "execution_count": 2,
     "metadata": {},
     "output_type": "execute_result"
    }
   ],
   "source": [
    "# build up the expression from sub-expressions\n",
    "expr = Equals(InSet(x, Union(A_1_to_m)), x_in_any_A).with_wrapping_at(2)"
   ]
  },
  {
   "cell_type": "code",
   "execution_count": 3,
   "metadata": {},
   "outputs": [
    {
     "name": "stdout",
     "output_type": "stream",
     "text": [
      "Passed sanity check: expr matches stored_expr\n"
     ]
    }
   ],
   "source": [
    "# check that the built expression is the same as the stored expression\n",
    "assert expr == stored_expr\n",
    "assert expr._style_id == stored_expr._style_id\n",
    "print(\"Passed sanity check: expr matches stored_expr\")"
   ]
  },
  {
   "cell_type": "code",
   "execution_count": 4,
   "metadata": {},
   "outputs": [
    {
     "name": "stdout",
     "output_type": "stream",
     "text": [
      "\\begin{array}{c} \\left(x \\in \\left(A_{1} \\cup \\ldots \\cup A_{m}\\right)\\right) =  \\\\ \\left(\\left(x \\in A_{1}\\right) \\lor \\ldots \\lor \\left(x \\in A_{m}\\right)\\right) \\end{array}\n"
     ]
    }
   ],
   "source": [
    "# Show the LaTeX representation of the expression for convenience if you need it.\n",
    "print(expr.latex())"
   ]
  },
  {
   "cell_type": "code",
   "execution_count": 5,
   "metadata": {},
   "outputs": [
    {
     "data": {
      "text/html": [
       "<table><tr><th>&nbsp;</th><th>core type</th><th>sub-expressions</th><th>expression</th></tr>\n",
       "<tr><td>0</td><td>Operation</td><td>operator:&nbsp;1<br>operands:&nbsp;2<br></td><td><a class=\"ProveItLink\" href=\"expr.ipynb\"><img src=\"expr.png\" style=\"display:inline;vertical-align:middle;\" /></a></td></tr>\n",
       "<tr><td>1</td><td>Literal</td><td></td><td><a class=\"ProveItLink\" href=\"../../../../../equality/__pv_it/common/fb96dc12b2aa8801dda64d0132b396c63d1502bb0/expr.ipynb\"><img src=\"../../../../../equality/__pv_it/common/fb96dc12b2aa8801dda64d0132b396c63d1502bb0/expr.png\" style=\"display:inline;vertical-align:middle;\" /></a></td></tr>\n",
       "<tr><td>2</td><td>ExprTuple</td><td>3, 4</td><td><a class=\"ProveItLink\" href=\"../1f1235825d50e28a8ec7905a69a85d92b13ea65c0/expr.ipynb\"><img src=\"../1f1235825d50e28a8ec7905a69a85d92b13ea65c0/expr.png\" style=\"display:inline;vertical-align:middle;\" /></a></td></tr>\n",
       "<tr><td>3</td><td>Operation</td><td>operator:&nbsp;18<br>operands:&nbsp;5<br></td><td><a class=\"ProveItLink\" href=\"../747a0987394c8259c78d7378e9b474016a5a780e0/expr.ipynb\"><img src=\"../747a0987394c8259c78d7378e9b474016a5a780e0/expr.png\" style=\"display:inline;vertical-align:middle;\" /></a></td></tr>\n",
       "<tr><td>4</td><td>Operation</td><td>operator:&nbsp;6<br>operands:&nbsp;7<br></td><td><a class=\"ProveItLink\" href=\"../../../../__pv_it/common/6ef1c66156aed250d34f3c67f58e9d6b19dba4630/expr.ipynb\"><img src=\"../../../../__pv_it/common/6ef1c66156aed250d34f3c67f58e9d6b19dba4630/expr.png\" style=\"display:inline;vertical-align:middle;\" /></a></td></tr>\n",
       "<tr><td>5</td><td>ExprTuple</td><td>21, 8</td><td><a class=\"ProveItLink\" href=\"../eede64469217a2eaeae26accbb2bb2a5b61ea76c0/expr.ipynb\"><img src=\"../eede64469217a2eaeae26accbb2bb2a5b61ea76c0/expr.png\" style=\"display:inline;vertical-align:middle;\" /></a></td></tr>\n",
       "<tr><td>6</td><td>Literal</td><td></td><td><a class=\"ProveItLink\" href=\"../../../../../booleans/disjunction/__pv_it/common/ef8e59262ff8e0133aa1ca984dd6b3a41bf69d5b0/expr.ipynb\"><img src=\"../../../../../booleans/disjunction/__pv_it/common/ef8e59262ff8e0133aa1ca984dd6b3a41bf69d5b0/expr.png\" style=\"display:inline;vertical-align:middle;\" /></a></td></tr>\n",
       "<tr><td>7</td><td>ExprTuple</td><td>9</td><td><a class=\"ProveItLink\" href=\"../../../../__pv_it/common/8472a132e5792a2af0ae5b269809b68160990ec20/expr.ipynb\"><img src=\"../../../../__pv_it/common/8472a132e5792a2af0ae5b269809b68160990ec20/expr.png\" style=\"display:inline;vertical-align:middle;\" /></a></td></tr>\n",
       "<tr><td>8</td><td>Operation</td><td>operator:&nbsp;10<br>operands:&nbsp;11<br></td><td><a class=\"ProveItLink\" href=\"../abbb3461fc210cbd1b49379e5180515be4edfbe10/expr.ipynb\"><img src=\"../abbb3461fc210cbd1b49379e5180515be4edfbe10/expr.png\" style=\"display:inline;vertical-align:middle;\" /></a></td></tr>\n",
       "<tr><td>9</td><td>ExprRange</td><td>lambda_map:&nbsp;12<br>start_index:&nbsp;16<br>end_index:&nbsp;17<br></td><td><a class=\"ProveItLink\" href=\"../../../../__pv_it/common/15e80fae81fb8e4b7219f84ff46bafd45940e5820/expr.ipynb\"><img src=\"../../../../__pv_it/common/15e80fae81fb8e4b7219f84ff46bafd45940e5820/expr.png\" style=\"display:inline;vertical-align:middle;\" /></a></td></tr>\n",
       "<tr><td>10</td><td>Literal</td><td></td><td><a class=\"ProveItLink\" href=\"../../common/107121809b4c0da74aebbd3977266676ee980ebe0/expr.ipynb\"><img src=\"../../common/107121809b4c0da74aebbd3977266676ee980ebe0/expr.png\" style=\"display:inline;vertical-align:middle;\" /></a></td></tr>\n",
       "<tr><td>11</td><td>ExprTuple</td><td>13</td><td><a class=\"ProveItLink\" href=\"../93ae5dfb178f6a043477f4fdbbc517b5718a327f0/expr.ipynb\"><img src=\"../93ae5dfb178f6a043477f4fdbbc517b5718a327f0/expr.png\" style=\"display:inline;vertical-align:middle;\" /></a></td></tr>\n",
       "<tr><td>12</td><td>Lambda</td><td>parameter:&nbsp;25<br>body:&nbsp;14<br></td><td><a class=\"ProveItLink\" href=\"../../../../__pv_it/common/624e611d901f290e9928c1513f74ec35045d2b270/expr.ipynb\"><img src=\"../../../../__pv_it/common/624e611d901f290e9928c1513f74ec35045d2b270/expr.png\" style=\"display:inline;vertical-align:middle;\" /></a></td></tr>\n",
       "<tr><td>13</td><td>ExprRange</td><td>lambda_map:&nbsp;15<br>start_index:&nbsp;16<br>end_index:&nbsp;17<br></td><td><a class=\"ProveItLink\" href=\"../../../../../../core_expr_types/__pv_it/common/91d05fae55026f965c0cd103d1c27b85b1e1aa760/expr.ipynb\"><img src=\"../../../../../../core_expr_types/__pv_it/common/91d05fae55026f965c0cd103d1c27b85b1e1aa760/expr.png\" style=\"display:inline;vertical-align:middle;\" /></a></td></tr>\n",
       "<tr><td>14</td><td>Operation</td><td>operator:&nbsp;18<br>operands:&nbsp;19<br></td><td><a class=\"ProveItLink\" href=\"../../../../__pv_it/common/018df3fb95d9a8513fb0ec2896b81d0a223b676d0/expr.ipynb\"><img src=\"../../../../__pv_it/common/018df3fb95d9a8513fb0ec2896b81d0a223b676d0/expr.png\" style=\"display:inline;vertical-align:middle;\" /></a></td></tr>\n",
       "<tr><td>15</td><td>Lambda</td><td>parameter:&nbsp;23<br>body:&nbsp;20<br></td><td><a class=\"ProveItLink\" href=\"../../../../../../core_expr_types/__pv_it/common/db87d41146842355e9d6585688749d13269ab0980/expr.ipynb\"><img src=\"../../../../../../core_expr_types/__pv_it/common/db87d41146842355e9d6585688749d13269ab0980/expr.png\" style=\"display:inline;vertical-align:middle;\" /></a></td></tr>\n",
       "<tr><td>16</td><td>Literal</td><td></td><td><a class=\"ProveItLink\" href=\"../../../../../../numbers/numerals/__pv_it/common/2778428c7f555b2bdc06aa0530bc142c6e6335100/expr.ipynb\"><img src=\"../../../../../../numbers/numerals/__pv_it/common/2778428c7f555b2bdc06aa0530bc142c6e6335100/expr.png\" style=\"display:inline;vertical-align:middle;\" /></a></td></tr>\n",
       "<tr><td>17</td><td>Variable</td><td></td><td><a class=\"ProveItLink\" href=\"../../../../../../__pv_it/common/674a03b9c3ca221b3aabd5636837b31528ff33830/expr.ipynb\"><img src=\"../../../../../../__pv_it/common/674a03b9c3ca221b3aabd5636837b31528ff33830/expr.png\" style=\"display:inline;vertical-align:middle;\" /></a></td></tr>\n",
       "<tr><td>18</td><td>Literal</td><td></td><td><a class=\"ProveItLink\" href=\"../../../../membership/__pv_it/common/477487d8796864d23d5810f83761435f25167f690/expr.ipynb\"><img src=\"../../../../membership/__pv_it/common/477487d8796864d23d5810f83761435f25167f690/expr.png\" style=\"display:inline;vertical-align:middle;\" /></a></td></tr>\n",
       "<tr><td>19</td><td>ExprTuple</td><td>21, 22</td><td><a class=\"ProveItLink\" href=\"../../../../__pv_it/common/54a4b43feaebef90a058e68529e9390794de6b740/expr.ipynb\"><img src=\"../../../../__pv_it/common/54a4b43feaebef90a058e68529e9390794de6b740/expr.png\" style=\"display:inline;vertical-align:middle;\" /></a></td></tr>\n",
       "<tr><td>20</td><td>IndexedVar</td><td>variable:&nbsp;24<br>index:&nbsp;23<br></td><td><a class=\"ProveItLink\" href=\"../../../../../../core_expr_types/__pv_it/common/65f6ea908cba61c02c46e59c65a80b52e171496d0/expr.ipynb\"><img src=\"../../../../../../core_expr_types/__pv_it/common/65f6ea908cba61c02c46e59c65a80b52e171496d0/expr.png\" style=\"display:inline;vertical-align:middle;\" /></a></td></tr>\n",
       "<tr><td>21</td><td>Variable</td><td></td><td><a class=\"ProveItLink\" href=\"../../../../../../__pv_it/common/a0d9d672aa5e272d907247690c152cc2c6daafb70/expr.ipynb\"><img src=\"../../../../../../__pv_it/common/a0d9d672aa5e272d907247690c152cc2c6daafb70/expr.png\" style=\"display:inline;vertical-align:middle;\" /></a></td></tr>\n",
       "<tr><td>22</td><td>IndexedVar</td><td>variable:&nbsp;24<br>index:&nbsp;25<br></td><td><a class=\"ProveItLink\" href=\"../../../../__pv_it/common/37561ccd23499b6ae37bcade0946ef4e29ca4de10/expr.ipynb\"><img src=\"../../../../__pv_it/common/37561ccd23499b6ae37bcade0946ef4e29ca4de10/expr.png\" style=\"display:inline;vertical-align:middle;\" /></a></td></tr>\n",
       "<tr><td>23</td><td>Variable</td><td></td><td><a class=\"ProveItLink\" href=\"../../../../../../core_expr_types/__pv_it/common/006c465e50948aa2b52285e2de47974f741255cc0/expr.ipynb\"><img src=\"../../../../../../core_expr_types/__pv_it/common/006c465e50948aa2b52285e2de47974f741255cc0/expr.png\" style=\"display:inline;vertical-align:middle;\" /></a></td></tr>\n",
       "<tr><td>24</td><td>Variable</td><td></td><td><a class=\"ProveItLink\" href=\"../../../../../../__pv_it/common/09585084922504426caf1db2ff588a23a0932a960/expr.ipynb\"><img src=\"../../../../../../__pv_it/common/09585084922504426caf1db2ff588a23a0932a960/expr.png\" style=\"display:inline;vertical-align:middle;\" /></a></td></tr>\n",
       "<tr><td>25</td><td>Variable</td><td></td><td><a class=\"ProveItLink\" href=\"../../../../../../__pv_it/common/ae955345c83abf786c3aff8681cd5465beae262d0/expr.ipynb\"><img src=\"../../../../../../__pv_it/common/ae955345c83abf786c3aff8681cd5465beae262d0/expr.png\" style=\"display:inline;vertical-align:middle;\" /></a></td></tr>\n",
       "</table>\n"
      ],
      "text/plain": [
       "0. (x in (A_{1} union ..A_{_a}.. union A_{m})) =  \\\\ ((x in A_{1}) or ..(x in A_{i}).. or (x in A_{m}))\n",
       "   core type: Operation\n",
       "   operator: 1\n",
       "   operands: 2\n",
       "1. =\n",
       "   core type: Literal\n",
       "   sub-expressions: \n",
       "2. (x in (A_{1} union ..A_{_a}.. union A_{m}), (x in A_{1}) or ..(x in A_{i}).. or (x in A_{m}))\n",
       "   core type: ExprTuple\n",
       "   sub-expressions: 3, 4\n",
       "3. x in (A_{1} union ..A_{_a}.. union A_{m})\n",
       "   core type: Operation\n",
       "   operator: 18\n",
       "   operands: 5\n",
       "4. (x in A_{1}) or ..(x in A_{i}).. or (x in A_{m})\n",
       "   core type: Operation\n",
       "   operator: 6\n",
       "   operands: 7\n",
       "5. (x, A_{1} union ..A_{_a}.. union A_{m})\n",
       "   core type: ExprTuple\n",
       "   sub-expressions: 21, 8\n",
       "6. or\n",
       "   core type: Literal\n",
       "   sub-expressions: \n",
       "7. (x in A_{1}, ..x in A_{i}.., x in A_{m})\n",
       "   core type: ExprTuple\n",
       "   sub-expressions: 9\n",
       "8. A_{1} union ..A_{_a}.. union A_{m}\n",
       "   core type: Operation\n",
       "   operator: 10\n",
       "   operands: 11\n",
       "9. (x in A_{1}), ..(x in A_{i}).., (x in A_{m})\n",
       "   core type: ExprRange\n",
       "   lambda_map: 12\n",
       "   start_index: 16\n",
       "   end_index: 17\n",
       "10. union\n",
       "    core type: Literal\n",
       "    sub-expressions: \n",
       "11. (A_{1}, ..A_{_a}.., A_{m})\n",
       "    core type: ExprTuple\n",
       "    sub-expressions: 13\n",
       "12. i -> (x in A_{i})\n",
       "    core type: Lambda\n",
       "    parameter: 25\n",
       "    body: 14\n",
       "13. A_{1}, ..A_{_a}.., A_{m}\n",
       "    core type: ExprRange\n",
       "    lambda_map: 15\n",
       "    start_index: 16\n",
       "    end_index: 17\n",
       "14. x in A_{i}\n",
       "    core type: Operation\n",
       "    operator: 18\n",
       "    operands: 19\n",
       "15. _a -> A_{_a}\n",
       "    core type: Lambda\n",
       "    parameter: 23\n",
       "    body: 20\n",
       "16. 1\n",
       "    core type: Literal\n",
       "    sub-expressions: \n",
       "17. m\n",
       "    core type: Variable\n",
       "    sub-expressions: \n",
       "18. in\n",
       "    core type: Literal\n",
       "    sub-expressions: \n",
       "19. (x, A_{i})\n",
       "    core type: ExprTuple\n",
       "    sub-expressions: 21, 22\n",
       "20. A_{_a}\n",
       "    core type: IndexedVar\n",
       "variable: 24\n",
       "index: 23\n",
       "21. x\n",
       "    core type: Variable\n",
       "    sub-expressions: \n",
       "22. A_{i}\n",
       "    core type: IndexedVar\n",
       "variable: 24\n",
       "index: 25\n",
       "23. _a\n",
       "    core type: Variable\n",
       "    sub-expressions: \n",
       "24. A\n",
       "    core type: Variable\n",
       "    sub-expressions: \n",
       "25. i\n",
       "    core type: Variable\n",
       "    sub-expressions: "
      ]
     },
     "execution_count": 5,
     "metadata": {},
     "output_type": "execute_result"
    }
   ],
   "source": [
    "# display the expression information\n",
    "expr.expr_info()"
   ]
  },
  {
   "cell_type": "code",
   "execution_count": null,
   "metadata": {},
   "outputs": [],
   "source": []
  }
 ],
 "metadata": {
  "kernelspec": {
   "display_name": "Python 3",
   "language": "python",
   "name": "python3"
  }
 },
 "nbformat": 4,
 "nbformat_minor": 0
}