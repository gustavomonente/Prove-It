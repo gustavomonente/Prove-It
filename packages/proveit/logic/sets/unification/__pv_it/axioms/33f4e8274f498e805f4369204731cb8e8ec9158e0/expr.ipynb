{
 "cells": [
  {
   "cell_type": "markdown",
   "metadata": {},
   "source": [
    "Expression of type <a class=\"ProveItLink\" href=\"../../../../../../../../doc/html/api/proveit.Lambda.html\">Lambda</a>\n",
    "=======================\n",
    "# from the theory of <a class=\"ProveItLink\" href=\"../../../_theory_nbs_/theory.ipynb\">proveit.logic.sets.unification</a>"
   ]
  },
  {
   "cell_type": "code",
   "execution_count": 1,
   "metadata": {},
   "outputs": [],
   "source": [
    "import proveit\n",
    "# Automation is not needed when building an expression:\n",
    "proveit.defaults.automation = False # This will speed things up.\n",
    "proveit.defaults.inline_pngs = False # Makes files smaller.\n",
    "%load_expr # Load the stored expression as 'stored_expr'\n",
    "# import Expression classes needed to build the expression\n",
    "from proveit import Conditional, Lambda, Q, R, n, x\n",
    "from proveit.core_expr_types import Q__y_1_to_n, R__y_1_to_n, S_1_to_n, y_1_to_n\n",
    "from proveit.logic import Equals, Exists, Forall, InSet\n",
    "from proveit.logic.sets import general_unionall_Ryn\n",
    "from proveit.numbers import NaturalPos"
   ]
  },
  {
   "cell_type": "code",
   "execution_count": 2,
   "metadata": {},
   "outputs": [
    {
     "data": {
      "text/html": [
       "<strong id=\"expr\">expr:</strong> <a class=\"ProveItLink\" href=\"expr.ipynb\"><img src=\"expr.png\" style=\"display:inline;vertical-align:middle;\" /></a><br>"
      ],
      "text/plain": [
       "expr: n -> {forall_{S_{1}, ..S_{_a}.., S_{n}, Q, R, x} ((x in [union_of_all_{y_{1} in S_{1}, ..y_{_a} in S_{_a}.., y_{n} in S_{n} | Q(y_{1}, ..y_{_a}.., y_{n})} R(y_{1}, ..y_{_a}.., y_{n})]) \\\\  = [exists_{y_{1} in S_{1}, ..y_{_a} in S_{_a}.., y_{n} in S_{n} | Q(y_{1}, ..y_{_a}.., y_{n})} (x in R(y_{1}, ..y_{_a}.., y_{n}))]) if n in NaturalPos."
      ]
     },
     "execution_count": 2,
     "metadata": {},
     "output_type": "execute_result"
    }
   ],
   "source": [
    "# build up the expression from sub-expressions\n",
    "expr = Lambda(n, Conditional(Forall([S_1_to_n, Q, R, x], Equals(InSet(x, general_unionall_Ryn), Exists([y_1_to_n], InSet(x, R__y_1_to_n), domains = [S_1_to_n], condition = Q__y_1_to_n)).with_wrapping_at(1)), InSet(n, NaturalPos)))"
   ]
  },
  {
   "cell_type": "code",
   "execution_count": 3,
   "metadata": {},
   "outputs": [
    {
     "name": "stdout",
     "output_type": "stream",
     "text": [
      "Passed sanity check: expr matches stored_expr\n"
     ]
    }
   ],
   "source": [
    "# check that the built expression is the same as the stored expression\n",
    "assert expr == stored_expr\n",
    "assert expr._style_id == stored_expr._style_id\n",
    "print(\"Passed sanity check: expr matches stored_expr\")"
   ]
  },
  {
   "cell_type": "code",
   "execution_count": 4,
   "metadata": {},
   "outputs": [
    {
     "name": "stdout",
     "output_type": "stream",
     "text": [
      "n \\mapsto \\left\\{\\forall_{S_{1}, \\ldots, S_{n}, Q, R, x}~\\left(\\begin{array}{c} \\begin{array}{l} \\left(x \\in \\left[\\bigcup_{y_{1} \\in S_{1}, \\ldots, y_{n} \\in S_{n}~|~Q(y_{1}, \\ldots, y_{n})}~R(y_{1}, \\ldots, y_{n})\\right]\\right) \\\\  = \\left[\\exists_{y_{1} \\in S_{1}, \\ldots, y_{n} \\in S_{n}~|~Q(y_{1}, \\ldots, y_{n})}~\\left(x \\in R(y_{1}, \\ldots, y_{n})\\right)\\right] \\end{array} \\end{array}\\right) \\textrm{ if } n \\in \\mathbb{N}^+\\right..\n"
     ]
    }
   ],
   "source": [
    "# Show the LaTeX representation of the expression for convenience if you need it.\n",
    "print(expr.latex())"
   ]
  },
  {
   "cell_type": "code",
   "execution_count": 5,
   "metadata": {},
   "outputs": [
    {
     "data": {
      "text/html": [
       "no style options"
      ],
      "text/plain": [
       "no style options"
      ]
     },
     "execution_count": 5,
     "metadata": {},
     "output_type": "execute_result"
    }
   ],
   "source": [
    "expr.style_options()"
   ]
  },
  {
   "cell_type": "code",
   "execution_count": 6,
   "metadata": {},
   "outputs": [
    {
     "data": {
      "text/html": [
       "<table><tr><th>&nbsp;</th><th>core type</th><th>sub-expressions</th><th>expression</th></tr>\n",
       "<tr><td>0</td><td>Lambda</td><td>parameter:&nbsp;46<br>body:&nbsp;1<br></td><td><a class=\"ProveItLink\" href=\"expr.ipynb\"><img src=\"expr.png\" style=\"display:inline;vertical-align:middle;\" /></a></td></tr>\n",
       "<tr><td>1</td><td>Conditional</td><td>value:&nbsp;2<br>condition:&nbsp;3<br></td><td><a class=\"ProveItLink\" href=\"../6b1db9a9611ed7a0011fbddc6833ab27d442bebb0/expr.ipynb\"><img src=\"../6b1db9a9611ed7a0011fbddc6833ab27d442bebb0/expr.png\" style=\"display:inline;vertical-align:middle;\" /></a></td></tr>\n",
       "<tr><td>2</td><td>Operation</td><td>operator:&nbsp;4<br>operand:&nbsp;7<br></td><td><a class=\"ProveItLink\" href=\"../4f7fccda958115a6619924dd5d413e74064b20140/expr.ipynb\"><img src=\"../4f7fccda958115a6619924dd5d413e74064b20140/expr.png\" style=\"display:inline;vertical-align:middle;\" /></a></td></tr>\n",
       "<tr><td>3</td><td>Operation</td><td>operator:&nbsp;42<br>operands:&nbsp;6<br></td><td><a class=\"ProveItLink\" href=\"../ae59bd0f03e1fa8f7acebab16a13247bdc6eea470/expr.ipynb\"><img src=\"../ae59bd0f03e1fa8f7acebab16a13247bdc6eea470/expr.png\" style=\"display:inline;vertical-align:middle;\" /></a></td></tr>\n",
       "<tr><td>4</td><td>Literal</td><td></td><td><a class=\"ProveItLink\" href=\"../../../../../booleans/quantification/universality/__pv_it/common/684d35ba98fcbf8ca5011f865e530a51e77730630/expr.ipynb\"><img src=\"../../../../../booleans/quantification/universality/__pv_it/common/684d35ba98fcbf8ca5011f865e530a51e77730630/expr.png\" style=\"display:inline;vertical-align:middle;\" /></a></td></tr>\n",
       "<tr><td>5</td><td>ExprTuple</td><td>7</td><td><a class=\"ProveItLink\" href=\"../8ebebbab4f8343df53d72d675aff0aa1eaed03d80/expr.ipynb\"><img src=\"../8ebebbab4f8343df53d72d675aff0aa1eaed03d80/expr.png\" style=\"display:inline;vertical-align:middle;\" /></a></td></tr>\n",
       "<tr><td>6</td><td>ExprTuple</td><td>46, 8</td><td><a class=\"ProveItLink\" href=\"../080dd91cc3570be1095df8a1115684c8dda0284e0/expr.ipynb\"><img src=\"../080dd91cc3570be1095df8a1115684c8dda0284e0/expr.png\" style=\"display:inline;vertical-align:middle;\" /></a></td></tr>\n",
       "<tr><td>7</td><td>Lambda</td><td>parameters:&nbsp;9<br>body:&nbsp;10<br></td><td><a class=\"ProveItLink\" href=\"../e6943c3f4dbdbb277d1bd177238f102033c8ba890/expr.ipynb\"><img src=\"../e6943c3f4dbdbb277d1bd177238f102033c8ba890/expr.png\" style=\"display:inline;vertical-align:middle;\" /></a></td></tr>\n",
       "<tr><td>8</td><td>Literal</td><td></td><td><a class=\"ProveItLink\" href=\"../../../../../../numbers/number_sets/natural_numbers/__pv_it/common/a2a7252783c385c028dad802e97575c19e456b990/expr.ipynb\"><img src=\"../../../../../../numbers/number_sets/natural_numbers/__pv_it/common/a2a7252783c385c028dad802e97575c19e456b990/expr.png\" style=\"display:inline;vertical-align:middle;\" /></a></td></tr>\n",
       "<tr><td>9</td><td>ExprTuple</td><td>11, 38, 34, 30</td><td><a class=\"ProveItLink\" href=\"../b9acef04b3a148403f8a5c27358aefa1aca47e350/expr.ipynb\"><img src=\"../b9acef04b3a148403f8a5c27358aefa1aca47e350/expr.png\" style=\"display:inline;vertical-align:middle;\" /></a></td></tr>\n",
       "<tr><td>10</td><td>Operation</td><td>operator:&nbsp;12<br>operands:&nbsp;13<br></td><td><a class=\"ProveItLink\" href=\"../9ed93a973c9eeff04644deb9a1720418da52880f0/expr.ipynb\"><img src=\"../9ed93a973c9eeff04644deb9a1720418da52880f0/expr.png\" style=\"display:inline;vertical-align:middle;\" /></a></td></tr>\n",
       "<tr><td>11</td><td>ExprRange</td><td>lambda_map:&nbsp;14<br>start_index:&nbsp;45<br>end_index:&nbsp;46<br></td><td><a class=\"ProveItLink\" href=\"../../../../../../core_expr_types/__pv_it/common/6eb673f87788b5497e10bf2028bfa7f6acd85ca20/expr.ipynb\"><img src=\"../../../../../../core_expr_types/__pv_it/common/6eb673f87788b5497e10bf2028bfa7f6acd85ca20/expr.png\" style=\"display:inline;vertical-align:middle;\" /></a></td></tr>\n",
       "<tr><td>12</td><td>Literal</td><td></td><td><a class=\"ProveItLink\" href=\"../../../../../equality/__pv_it/common/731dd3955b346c1320ed5c0ba7a618bcda61457d0/expr.ipynb\"><img src=\"../../../../../equality/__pv_it/common/731dd3955b346c1320ed5c0ba7a618bcda61457d0/expr.png\" style=\"display:inline;vertical-align:middle;\" /></a></td></tr>\n",
       "<tr><td>13</td><td>ExprTuple</td><td>15, 16</td><td><a class=\"ProveItLink\" href=\"../a271efc4e89be3ce0ecc16ba54aa1f5c79ca7ad10/expr.ipynb\"><img src=\"../a271efc4e89be3ce0ecc16ba54aa1f5c79ca7ad10/expr.png\" style=\"display:inline;vertical-align:middle;\" /></a></td></tr>\n",
       "<tr><td>14</td><td>Lambda</td><td>parameter:&nbsp;52<br>body:&nbsp;47<br></td><td><a class=\"ProveItLink\" href=\"../../../../../../core_expr_types/__pv_it/common/c8442b5db0d3394fa59a6ddc005465171188b91b0/expr.ipynb\"><img src=\"../../../../../../core_expr_types/__pv_it/common/c8442b5db0d3394fa59a6ddc005465171188b91b0/expr.png\" style=\"display:inline;vertical-align:middle;\" /></a></td></tr>\n",
       "<tr><td>15</td><td>Operation</td><td>operator:&nbsp;42<br>operands:&nbsp;17<br></td><td><a class=\"ProveItLink\" href=\"../da1dc3afb59f627ab369b1f8012b21a7529ffe5b0/expr.ipynb\"><img src=\"../da1dc3afb59f627ab369b1f8012b21a7529ffe5b0/expr.png\" style=\"display:inline;vertical-align:middle;\" /></a></td></tr>\n",
       "<tr><td>16</td><td>Operation</td><td>operator:&nbsp;18<br>operand:&nbsp;21<br></td><td><a class=\"ProveItLink\" href=\"../4ddf7a168b670c566625849b6ab55ee2c0660f7a0/expr.ipynb\"><img src=\"../4ddf7a168b670c566625849b6ab55ee2c0660f7a0/expr.png\" style=\"display:inline;vertical-align:middle;\" /></a></td></tr>\n",
       "<tr><td>17</td><td>ExprTuple</td><td>30, 20</td><td><a class=\"ProveItLink\" href=\"../cc512becf587a73ec22123fed6bed5891b3c7b000/expr.ipynb\"><img src=\"../cc512becf587a73ec22123fed6bed5891b3c7b000/expr.png\" style=\"display:inline;vertical-align:middle;\" /></a></td></tr>\n",
       "<tr><td>18</td><td>Literal</td><td></td><td><a class=\"ProveItLink\" href=\"../../../../../booleans/quantification/existence/__pv_it/common/9b6e04766908a750ceb2bcebb9ad722de073d35c0/expr.ipynb\"><img src=\"../../../../../booleans/quantification/existence/__pv_it/common/9b6e04766908a750ceb2bcebb9ad722de073d35c0/expr.png\" style=\"display:inline;vertical-align:middle;\" /></a></td></tr>\n",
       "<tr><td>19</td><td>ExprTuple</td><td>21</td><td><a class=\"ProveItLink\" href=\"../0021721a9f3c1bf7a2d1685a21ee9829ffcea7270/expr.ipynb\"><img src=\"../0021721a9f3c1bf7a2d1685a21ee9829ffcea7270/expr.png\" style=\"display:inline;vertical-align:middle;\" /></a></td></tr>\n",
       "<tr><td>20</td><td>Operation</td><td>operator:&nbsp;22<br>operand:&nbsp;25<br></td><td><a class=\"ProveItLink\" href=\"../../../../__pv_it/common/91cd758404bbfbfaaa054d96539c4b701fc5b75b0/expr.ipynb\"><img src=\"../../../../__pv_it/common/91cd758404bbfbfaaa054d96539c4b701fc5b75b0/expr.png\" style=\"display:inline;vertical-align:middle;\" /></a></td></tr>\n",
       "<tr><td>21</td><td>Lambda</td><td>parameters:&nbsp;39<br>body:&nbsp;24<br></td><td><a class=\"ProveItLink\" href=\"../b4677d4f7a8c5eae58cc5aab88290628b68ff0940/expr.ipynb\"><img src=\"../b4677d4f7a8c5eae58cc5aab88290628b68ff0940/expr.png\" style=\"display:inline;vertical-align:middle;\" /></a></td></tr>\n",
       "<tr><td>22</td><td>Literal</td><td></td><td><a class=\"ProveItLink\" href=\"../../common/fe63ceebba5eac11c6b0a3c8836ac8ed9e1972910/expr.ipynb\"><img src=\"../../common/fe63ceebba5eac11c6b0a3c8836ac8ed9e1972910/expr.png\" style=\"display:inline;vertical-align:middle;\" /></a></td></tr>\n",
       "<tr><td>23</td><td>ExprTuple</td><td>25</td><td><a class=\"ProveItLink\" href=\"../../../../__pv_it/common/de449864506ce3fa2fa46e4abacd4173e52bcdc10/expr.ipynb\"><img src=\"../../../../__pv_it/common/de449864506ce3fa2fa46e4abacd4173e52bcdc10/expr.png\" style=\"display:inline;vertical-align:middle;\" /></a></td></tr>\n",
       "<tr><td>24</td><td>Conditional</td><td>value:&nbsp;26<br>condition:&nbsp;29<br></td><td><a class=\"ProveItLink\" href=\"../f14120aa94117bac343091c6ef312483eacb89800/expr.ipynb\"><img src=\"../f14120aa94117bac343091c6ef312483eacb89800/expr.png\" style=\"display:inline;vertical-align:middle;\" /></a></td></tr>\n",
       "<tr><td>25</td><td>Lambda</td><td>parameters:&nbsp;39<br>body:&nbsp;27<br></td><td><a class=\"ProveItLink\" href=\"../../../../__pv_it/common/5a47a03f59d00e1ef55edb2666c0310a395dcac30/expr.ipynb\"><img src=\"../../../../__pv_it/common/5a47a03f59d00e1ef55edb2666c0310a395dcac30/expr.png\" style=\"display:inline;vertical-align:middle;\" /></a></td></tr>\n",
       "<tr><td>26</td><td>Operation</td><td>operator:&nbsp;42<br>operands:&nbsp;28<br></td><td><a class=\"ProveItLink\" href=\"../32aba36d895f2471afcc6cee23bedc2d820668dd0/expr.ipynb\"><img src=\"../32aba36d895f2471afcc6cee23bedc2d820668dd0/expr.png\" style=\"display:inline;vertical-align:middle;\" /></a></td></tr>\n",
       "<tr><td>27</td><td>Conditional</td><td>value:&nbsp;31<br>condition:&nbsp;29<br></td><td><a class=\"ProveItLink\" href=\"../../../../__pv_it/common/58d78f37c5947607131330407a92de788cd876860/expr.ipynb\"><img src=\"../../../../__pv_it/common/58d78f37c5947607131330407a92de788cd876860/expr.png\" style=\"display:inline;vertical-align:middle;\" /></a></td></tr>\n",
       "<tr><td>28</td><td>ExprTuple</td><td>30, 31</td><td><a class=\"ProveItLink\" href=\"../6d6a6c061a850c8133ec1d168629d5447f1802990/expr.ipynb\"><img src=\"../6d6a6c061a850c8133ec1d168629d5447f1802990/expr.png\" style=\"display:inline;vertical-align:middle;\" /></a></td></tr>\n",
       "<tr><td>29</td><td>Operation</td><td>operator:&nbsp;32<br>operands:&nbsp;33<br></td><td><a class=\"ProveItLink\" href=\"../../../../__pv_it/common/bae853b16a0d6937d7284a3611f004ebe83eb73c0/expr.ipynb\"><img src=\"../../../../__pv_it/common/bae853b16a0d6937d7284a3611f004ebe83eb73c0/expr.png\" style=\"display:inline;vertical-align:middle;\" /></a></td></tr>\n",
       "<tr><td>30</td><td>Variable</td><td></td><td><a class=\"ProveItLink\" href=\"../../../../../../__pv_it/common/a2581dc5df71d9a30bad37de14965fa5fec97a240/expr.ipynb\"><img src=\"../../../../../../__pv_it/common/a2581dc5df71d9a30bad37de14965fa5fec97a240/expr.png\" style=\"display:inline;vertical-align:middle;\" /></a></td></tr>\n",
       "<tr><td>31</td><td>Operation</td><td>operator:&nbsp;34<br>operands:&nbsp;39<br></td><td><a class=\"ProveItLink\" href=\"../../../../../../core_expr_types/__pv_it/common/9a5c3af79b940a90dbdc19b42b409acbb0bbcfd50/expr.ipynb\"><img src=\"../../../../../../core_expr_types/__pv_it/common/9a5c3af79b940a90dbdc19b42b409acbb0bbcfd50/expr.png\" style=\"display:inline;vertical-align:middle;\" /></a></td></tr>\n",
       "<tr><td>32</td><td>Literal</td><td></td><td><a class=\"ProveItLink\" href=\"../../../../../booleans/conjunction/__pv_it/common/26b94b53e70b1d77b70f0d9d4236347db37731060/expr.ipynb\"><img src=\"../../../../../booleans/conjunction/__pv_it/common/26b94b53e70b1d77b70f0d9d4236347db37731060/expr.png\" style=\"display:inline;vertical-align:middle;\" /></a></td></tr>\n",
       "<tr><td>33</td><td>ExprTuple</td><td>35, 36</td><td><a class=\"ProveItLink\" href=\"../../../../__pv_it/common/e20aac231bc867274a8580ff59352e4b56683c600/expr.ipynb\"><img src=\"../../../../__pv_it/common/e20aac231bc867274a8580ff59352e4b56683c600/expr.png\" style=\"display:inline;vertical-align:middle;\" /></a></td></tr>\n",
       "<tr><td>34</td><td>Variable</td><td></td><td><a class=\"ProveItLink\" href=\"../../../../../../__pv_it/common/75b77068be7a61a1f04d03fa34a8f6252f6605dd0/expr.ipynb\"><img src=\"../../../../../../__pv_it/common/75b77068be7a61a1f04d03fa34a8f6252f6605dd0/expr.png\" style=\"display:inline;vertical-align:middle;\" /></a></td></tr>\n",
       "<tr><td>35</td><td>ExprRange</td><td>lambda_map:&nbsp;37<br>start_index:&nbsp;45<br>end_index:&nbsp;46<br></td><td><a class=\"ProveItLink\" href=\"../../../../__pv_it/common/660e35c5820f17c931cc111aee84cee6e475a4fe0/expr.ipynb\"><img src=\"../../../../__pv_it/common/660e35c5820f17c931cc111aee84cee6e475a4fe0/expr.png\" style=\"display:inline;vertical-align:middle;\" /></a></td></tr>\n",
       "<tr><td>36</td><td>Operation</td><td>operator:&nbsp;38<br>operands:&nbsp;39<br></td><td><a class=\"ProveItLink\" href=\"../../../../../../core_expr_types/__pv_it/common/90c2130c86e621c95872d7ba9e877513c9092aaa0/expr.ipynb\"><img src=\"../../../../../../core_expr_types/__pv_it/common/90c2130c86e621c95872d7ba9e877513c9092aaa0/expr.png\" style=\"display:inline;vertical-align:middle;\" /></a></td></tr>\n",
       "<tr><td>37</td><td>Lambda</td><td>parameter:&nbsp;52<br>body:&nbsp;40<br></td><td><a class=\"ProveItLink\" href=\"../../../../__pv_it/common/e6aaaffb2d966b22a3f1ffa08a8cb6b4dd846f0f0/expr.ipynb\"><img src=\"../../../../__pv_it/common/e6aaaffb2d966b22a3f1ffa08a8cb6b4dd846f0f0/expr.png\" style=\"display:inline;vertical-align:middle;\" /></a></td></tr>\n",
       "<tr><td>38</td><td>Variable</td><td></td><td><a class=\"ProveItLink\" href=\"../../../../../../__pv_it/common/50527aea954422d65ebe44b8de200683294751540/expr.ipynb\"><img src=\"../../../../../../__pv_it/common/50527aea954422d65ebe44b8de200683294751540/expr.png\" style=\"display:inline;vertical-align:middle;\" /></a></td></tr>\n",
       "<tr><td>39</td><td>ExprTuple</td><td>41</td><td><a class=\"ProveItLink\" href=\"../../../../../../core_expr_types/__pv_it/common/34a946761b1de134871ee6cbf0f53773974067990/expr.ipynb\"><img src=\"../../../../../../core_expr_types/__pv_it/common/34a946761b1de134871ee6cbf0f53773974067990/expr.png\" style=\"display:inline;vertical-align:middle;\" /></a></td></tr>\n",
       "<tr><td>40</td><td>Operation</td><td>operator:&nbsp;42<br>operands:&nbsp;43<br></td><td><a class=\"ProveItLink\" href=\"../../../../__pv_it/common/921f62e345ea5fa05e4a0732f60d8a90f02f08370/expr.ipynb\"><img src=\"../../../../__pv_it/common/921f62e345ea5fa05e4a0732f60d8a90f02f08370/expr.png\" style=\"display:inline;vertical-align:middle;\" /></a></td></tr>\n",
       "<tr><td>41</td><td>ExprRange</td><td>lambda_map:&nbsp;44<br>start_index:&nbsp;45<br>end_index:&nbsp;46<br></td><td><a class=\"ProveItLink\" href=\"../../../../../../core_expr_types/__pv_it/common/d4ccfa4c92b5be548893c8e9f8a96b24fc2db46d0/expr.ipynb\"><img src=\"../../../../../../core_expr_types/__pv_it/common/d4ccfa4c92b5be548893c8e9f8a96b24fc2db46d0/expr.png\" style=\"display:inline;vertical-align:middle;\" /></a></td></tr>\n",
       "<tr><td>42</td><td>Literal</td><td></td><td><a class=\"ProveItLink\" href=\"../../../../membership/__pv_it/common/7171deca84f71f47a6ec7696972d1632274a12880/expr.ipynb\"><img src=\"../../../../membership/__pv_it/common/7171deca84f71f47a6ec7696972d1632274a12880/expr.png\" style=\"display:inline;vertical-align:middle;\" /></a></td></tr>\n",
       "<tr><td>43</td><td>ExprTuple</td><td>48, 47</td><td><a class=\"ProveItLink\" href=\"../../../../__pv_it/common/17c2ca590f288b7e3ea54bebeebeed67b5c709620/expr.ipynb\"><img src=\"../../../../__pv_it/common/17c2ca590f288b7e3ea54bebeebeed67b5c709620/expr.png\" style=\"display:inline;vertical-align:middle;\" /></a></td></tr>\n",
       "<tr><td>44</td><td>Lambda</td><td>parameter:&nbsp;52<br>body:&nbsp;48<br></td><td><a class=\"ProveItLink\" href=\"../../../../../../core_expr_types/__pv_it/common/e85c6dca3c2891a25500913ce6fa75404b16995d0/expr.ipynb\"><img src=\"../../../../../../core_expr_types/__pv_it/common/e85c6dca3c2891a25500913ce6fa75404b16995d0/expr.png\" style=\"display:inline;vertical-align:middle;\" /></a></td></tr>\n",
       "<tr><td>45</td><td>Literal</td><td></td><td><a class=\"ProveItLink\" href=\"../../../../../../numbers/numerals/__pv_it/common/d278e359da0695d9652dd541d45264f93703e2e40/expr.ipynb\"><img src=\"../../../../../../numbers/numerals/__pv_it/common/d278e359da0695d9652dd541d45264f93703e2e40/expr.png\" style=\"display:inline;vertical-align:middle;\" /></a></td></tr>\n",
       "<tr><td>46</td><td>Variable</td><td></td><td><a class=\"ProveItLink\" href=\"../../../../../../__pv_it/common/6165c9bb82ce3c7097cdba4440a1aeeb6eaca8a40/expr.ipynb\"><img src=\"../../../../../../__pv_it/common/6165c9bb82ce3c7097cdba4440a1aeeb6eaca8a40/expr.png\" style=\"display:inline;vertical-align:middle;\" /></a></td></tr>\n",
       "<tr><td>47</td><td>IndexedVar</td><td>variable:&nbsp;49<br>index:&nbsp;52<br></td><td><a class=\"ProveItLink\" href=\"../../../../../../core_expr_types/__pv_it/common/9ae62306c0350232439fc7dabd61da10fd45e91a0/expr.ipynb\"><img src=\"../../../../../../core_expr_types/__pv_it/common/9ae62306c0350232439fc7dabd61da10fd45e91a0/expr.png\" style=\"display:inline;vertical-align:middle;\" /></a></td></tr>\n",
       "<tr><td>48</td><td>IndexedVar</td><td>variable:&nbsp;50<br>index:&nbsp;52<br></td><td><a class=\"ProveItLink\" href=\"../../../../../../core_expr_types/__pv_it/common/cfe245429f738680263dd9e15adfb363654edf9a0/expr.ipynb\"><img src=\"../../../../../../core_expr_types/__pv_it/common/cfe245429f738680263dd9e15adfb363654edf9a0/expr.png\" style=\"display:inline;vertical-align:middle;\" /></a></td></tr>\n",
       "<tr><td>49</td><td>Variable</td><td></td><td><a class=\"ProveItLink\" href=\"../../../../../../__pv_it/common/259d0846cd49c4882c35ec84d7a0b180713721cc0/expr.ipynb\"><img src=\"../../../../../../__pv_it/common/259d0846cd49c4882c35ec84d7a0b180713721cc0/expr.png\" style=\"display:inline;vertical-align:middle;\" /></a></td></tr>\n",
       "<tr><td>50</td><td>Variable</td><td></td><td><a class=\"ProveItLink\" href=\"../../../../../../__pv_it/common/0f21cbfd5644a1cae6781c1d58354abc2ffbc9000/expr.ipynb\"><img src=\"../../../../../../__pv_it/common/0f21cbfd5644a1cae6781c1d58354abc2ffbc9000/expr.png\" style=\"display:inline;vertical-align:middle;\" /></a></td></tr>\n",
       "<tr><td>51</td><td>ExprTuple</td><td>52</td><td><a class=\"ProveItLink\" href=\"../../../../../../core_expr_types/__pv_it/common/ecf50ade416ab41c42c9f4e777b4c862cd9469670/expr.ipynb\"><img src=\"../../../../../../core_expr_types/__pv_it/common/ecf50ade416ab41c42c9f4e777b4c862cd9469670/expr.png\" style=\"display:inline;vertical-align:middle;\" /></a></td></tr>\n",
       "<tr><td>52</td><td>Variable</td><td></td><td><a class=\"ProveItLink\" href=\"../../../../../../core_expr_types/__pv_it/common/9e6d9d5d7eeb0342cf5bca68def0eb165a1a9bb10/expr.ipynb\"><img src=\"../../../../../../core_expr_types/__pv_it/common/9e6d9d5d7eeb0342cf5bca68def0eb165a1a9bb10/expr.png\" style=\"display:inline;vertical-align:middle;\" /></a></td></tr>\n",
       "</table>\n"
      ],
      "text/plain": [
       "0. n -> {forall_{S_{1}, ..S_{_a}.., S_{n}, Q, R, x} ((x in [union_of_all_{y_{1} in S_{1}, ..y_{_a} in S_{_a}.., y_{n} in S_{n} | Q(y_{1}, ..y_{_a}.., y_{n})} R(y_{1}, ..y_{_a}.., y_{n})]) \\\\  = [exists_{y_{1} in S_{1}, ..y_{_a} in S_{_a}.., y_{n} in S_{n} | Q(y_{1}, ..y_{_a}.., y_{n})} (x in R(y_{1}, ..y_{_a}.., y_{n}))]) if n in NaturalPos.\n",
       "   core type: Lambda\n",
       "   parameter: 46\n",
       "   body: 1\n",
       "1. {forall_{S_{1}, ..S_{_a}.., S_{n}, Q, R, x} ((x in [union_of_all_{y_{1} in S_{1}, ..y_{_a} in S_{_a}.., y_{n} in S_{n} | Q(y_{1}, ..y_{_a}.., y_{n})} R(y_{1}, ..y_{_a}.., y_{n})]) \\\\  = [exists_{y_{1} in S_{1}, ..y_{_a} in S_{_a}.., y_{n} in S_{n} | Q(y_{1}, ..y_{_a}.., y_{n})} (x in R(y_{1}, ..y_{_a}.., y_{n}))]) if n in NaturalPos.\n",
       "   core type: Conditional\n",
       "   value: 2\n",
       "   condition: 3\n",
       "2. forall_{S_{1}, ..S_{_a}.., S_{n}, Q, R, x} ((x in [union_of_all_{y_{1} in S_{1}, ..y_{_a} in S_{_a}.., y_{n} in S_{n} | Q(y_{1}, ..y_{_a}.., y_{n})} R(y_{1}, ..y_{_a}.., y_{n})]) \\\\  = [exists_{y_{1} in S_{1}, ..y_{_a} in S_{_a}.., y_{n} in S_{n} | Q(y_{1}, ..y_{_a}.., y_{n})} (x in R(y_{1}, ..y_{_a}.., y_{n}))])\n",
       "   core type: Operation\n",
       "   operator: 4\n",
       "   operand: 7\n",
       "3. n in NaturalPos\n",
       "   core type: Operation\n",
       "   operator: 42\n",
       "   operands: 6\n",
       "4. forall\n",
       "   core type: Literal\n",
       "   sub-expressions: \n",
       "5. ((S_{1}, ..S_{_a}.., S_{n}, Q, R, x) -> ((x in [union_of_all_{y_{1} in S_{1}, ..y_{_a} in S_{_a}.., y_{n} in S_{n} | Q(y_{1}, ..y_{_a}.., y_{n})} R(y_{1}, ..y_{_a}.., y_{n})]) \\\\  = [exists_{y_{1} in S_{1}, ..y_{_a} in S_{_a}.., y_{n} in S_{n} | Q(y_{1}, ..y_{_a}.., y_{n})} (x in R(y_{1}, ..y_{_a}.., y_{n}))]))\n",
       "   core type: ExprTuple\n",
       "   sub-expressions: 7\n",
       "6. (n, NaturalPos)\n",
       "   core type: ExprTuple\n",
       "   sub-expressions: 46, 8\n",
       "7. (S_{1}, ..S_{_a}.., S_{n}, Q, R, x) -> ((x in [union_of_all_{y_{1} in S_{1}, ..y_{_a} in S_{_a}.., y_{n} in S_{n} | Q(y_{1}, ..y_{_a}.., y_{n})} R(y_{1}, ..y_{_a}.., y_{n})]) \\\\  = [exists_{y_{1} in S_{1}, ..y_{_a} in S_{_a}.., y_{n} in S_{n} | Q(y_{1}, ..y_{_a}.., y_{n})} (x in R(y_{1}, ..y_{_a}.., y_{n}))])\n",
       "   core type: Lambda\n",
       "   parameters: 9\\n   body: 10\n",
       "8. NaturalPos\n",
       "   core type: Literal\n",
       "   sub-expressions: \n",
       "9. (S_{1}, ..S_{_a}.., S_{n}, Q, R, x)\n",
       "   core type: ExprTuple\n",
       "   sub-expressions: 11, 38, 34, 30\n",
       "10. (x in [union_of_all_{y_{1} in S_{1}, ..y_{_a} in S_{_a}.., y_{n} in S_{n} | Q(y_{1}, ..y_{_a}.., y_{n})} R(y_{1}, ..y_{_a}.., y_{n})]) \\\\  = [exists_{y_{1} in S_{1}, ..y_{_a} in S_{_a}.., y_{n} in S_{n} | Q(y_{1}, ..y_{_a}.., y_{n})} (x in R(y_{1}, ..y_{_a}.., y_{n}))]\n",
       "    core type: Operation\n",
       "    operator: 12\n",
       "    operands: 13\n",
       "11. S_{1}, ..S_{_a}.., S_{n}\n",
       "    core type: ExprRange\n",
       "    lambda_map: 14\n",
       "    start_index: 45\n",
       "    end_index: 46\n",
       "12. =\n",
       "    core type: Literal\n",
       "    sub-expressions: \n",
       "13. (x in [union_of_all_{y_{1} in S_{1}, ..y_{_a} in S_{_a}.., y_{n} in S_{n} | Q(y_{1}, ..y_{_a}.., y_{n})} R(y_{1}, ..y_{_a}.., y_{n})], exists_{y_{1} in S_{1}, ..y_{_a} in S_{_a}.., y_{n} in S_{n} | Q(y_{1}, ..y_{_a}.., y_{n})} (x in R(y_{1}, ..y_{_a}.., y_{n})))\n",
       "    core type: ExprTuple\n",
       "    sub-expressions: 15, 16\n",
       "14. _a -> S_{_a}\n",
       "    core type: Lambda\n",
       "    parameter: 52\n",
       "    body: 47\n",
       "15. x in [union_of_all_{y_{1} in S_{1}, ..y_{_a} in S_{_a}.., y_{n} in S_{n} | Q(y_{1}, ..y_{_a}.., y_{n})} R(y_{1}, ..y_{_a}.., y_{n})]\n",
       "    core type: Operation\n",
       "    operator: 42\n",
       "    operands: 17\n",
       "16. exists_{y_{1} in S_{1}, ..y_{_a} in S_{_a}.., y_{n} in S_{n} | Q(y_{1}, ..y_{_a}.., y_{n})} (x in R(y_{1}, ..y_{_a}.., y_{n}))\n",
       "    core type: Operation\n",
       "    operator: 18\n",
       "    operand: 21\n",
       "17. (x, union_of_all_{y_{1} in S_{1}, ..y_{_a} in S_{_a}.., y_{n} in S_{n} | Q(y_{1}, ..y_{_a}.., y_{n})} R(y_{1}, ..y_{_a}.., y_{n}))\n",
       "    core type: ExprTuple\n",
       "    sub-expressions: 30, 20\n",
       "18. exists\n",
       "    core type: Literal\n",
       "    sub-expressions: \n",
       "19. ((y_{1}, ..y_{_a}.., y_{n}) -> {x in R(y_{1}, ..y_{_a}.., y_{n}) if y_{1} in S_{1} ,  ..y_{_a} in S_{_a}.. ,  y_{n} in S_{n} ,  Q(y_{1}, ..y_{_a}.., y_{n}).)\n",
       "    core type: ExprTuple\n",
       "    sub-expressions: 21\n",
       "20. union_of_all_{y_{1} in S_{1}, ..y_{_a} in S_{_a}.., y_{n} in S_{n} | Q(y_{1}, ..y_{_a}.., y_{n})} R(y_{1}, ..y_{_a}.., y_{n})\n",
       "    core type: Operation\n",
       "    operator: 22\n",
       "    operand: 25\n",
       "21. (y_{1}, ..y_{_a}.., y_{n}) -> {x in R(y_{1}, ..y_{_a}.., y_{n}) if y_{1} in S_{1} ,  ..y_{_a} in S_{_a}.. ,  y_{n} in S_{n} ,  Q(y_{1}, ..y_{_a}.., y_{n}).\n",
       "    core type: Lambda\n",
       "    parameters: 39\\n    body: 24\n",
       "22. union_of_all\n",
       "    core type: Literal\n",
       "    sub-expressions: \n",
       "23. ((y_{1}, ..y_{_a}.., y_{n}) -> {R(y_{1}, ..y_{_a}.., y_{n}) if y_{1} in S_{1} ,  ..y_{_a} in S_{_a}.. ,  y_{n} in S_{n} ,  Q(y_{1}, ..y_{_a}.., y_{n}).)\n",
       "    core type: ExprTuple\n",
       "    sub-expressions: 25\n",
       "24. {x in R(y_{1}, ..y_{_a}.., y_{n}) if y_{1} in S_{1} ,  ..y_{_a} in S_{_a}.. ,  y_{n} in S_{n} ,  Q(y_{1}, ..y_{_a}.., y_{n}).\n",
       "    core type: Conditional\n",
       "    value: 26\n",
       "    condition: 29\n",
       "25. (y_{1}, ..y_{_a}.., y_{n}) -> {R(y_{1}, ..y_{_a}.., y_{n}) if y_{1} in S_{1} ,  ..y_{_a} in S_{_a}.. ,  y_{n} in S_{n} ,  Q(y_{1}, ..y_{_a}.., y_{n}).\n",
       "    core type: Lambda\n",
       "    parameters: 39\\n    body: 27\n",
       "26. x in R(y_{1}, ..y_{_a}.., y_{n})\n",
       "    core type: Operation\n",
       "    operator: 42\n",
       "    operands: 28\n",
       "27. {R(y_{1}, ..y_{_a}.., y_{n}) if y_{1} in S_{1} ,  ..y_{_a} in S_{_a}.. ,  y_{n} in S_{n} ,  Q(y_{1}, ..y_{_a}.., y_{n}).\n",
       "    core type: Conditional\n",
       "    value: 31\n",
       "    condition: 29\n",
       "28. (x, R(y_{1}, ..y_{_a}.., y_{n}))\n",
       "    core type: ExprTuple\n",
       "    sub-expressions: 30, 31\n",
       "29. (y_{1} in S_{1}) and ..(y_{_a} in S_{_a}).. and (y_{n} in S_{n}) and Q(y_{1}, ..y_{_a}.., y_{n})\n",
       "    core type: Operation\n",
       "    operator: 32\n",
       "    operands: 33\n",
       "30. x\n",
       "    core type: Variable\n",
       "    sub-expressions: \n",
       "31. R(y_{1}, ..y_{_a}.., y_{n})\n",
       "    core type: Operation\n",
       "    operator: 34\n",
       "    operands: 39\n",
       "32. and\n",
       "    core type: Literal\n",
       "    sub-expressions: \n",
       "33. (y_{1} in S_{1}, ..y_{_a} in S_{_a}.., y_{n} in S_{n}, Q(y_{1}, ..y_{_a}.., y_{n}))\n",
       "    core type: ExprTuple\n",
       "    sub-expressions: 35, 36\n",
       "34. R\n",
       "    core type: Variable\n",
       "    sub-expressions: \n",
       "35. (y_{1} in S_{1}), ..(y_{_a} in S_{_a}).., (y_{n} in S_{n})\n",
       "    core type: ExprRange\n",
       "    lambda_map: 37\n",
       "    start_index: 45\n",
       "    end_index: 46\n",
       "36. Q(y_{1}, ..y_{_a}.., y_{n})\n",
       "    core type: Operation\n",
       "    operator: 38\n",
       "    operands: 39\n",
       "37. _a -> (y_{_a} in S_{_a})\n",
       "    core type: Lambda\n",
       "    parameter: 52\n",
       "    body: 40\n",
       "38. Q\n",
       "    core type: Variable\n",
       "    sub-expressions: \n",
       "39. (y_{1}, ..y_{_a}.., y_{n})\n",
       "    core type: ExprTuple\n",
       "    sub-expressions: 41\n",
       "40. y_{_a} in S_{_a}\n",
       "    core type: Operation\n",
       "    operator: 42\n",
       "    operands: 43\n",
       "41. y_{1}, ..y_{_a}.., y_{n}\n",
       "    core type: ExprRange\n",
       "    lambda_map: 44\n",
       "    start_index: 45\n",
       "    end_index: 46\n",
       "42. in\n",
       "    core type: Literal\n",
       "    sub-expressions: \n",
       "43. (y_{_a}, S_{_a})\n",
       "    core type: ExprTuple\n",
       "    sub-expressions: 48, 47\n",
       "44. _a -> y_{_a}\n",
       "    core type: Lambda\n",
       "    parameter: 52\n",
       "    body: 48\n",
       "45. 1\n",
       "    core type: Literal\n",
       "    sub-expressions: \n",
       "46. n\n",
       "    core type: Variable\n",
       "    sub-expressions: \n",
       "47. S_{_a}\n",
       "    core type: IndexedVar\n",
       "variable: 49\n",
       "index: 52\n",
       "48. y_{_a}\n",
       "    core type: IndexedVar\n",
       "variable: 50\n",
       "index: 52\n",
       "49. S\n",
       "    core type: Variable\n",
       "    sub-expressions: \n",
       "50. y\n",
       "    core type: Variable\n",
       "    sub-expressions: \n",
       "51. (_a)\n",
       "    core type: ExprTuple\n",
       "    sub-expressions: 52\n",
       "52. _a\n",
       "    core type: Variable\n",
       "    sub-expressions: "
      ]
     },
     "execution_count": 6,
     "metadata": {},
     "output_type": "execute_result"
    }
   ],
   "source": [
    "# display the expression information\n",
    "expr.expr_info()"
   ]
  },
  {
   "cell_type": "code",
   "execution_count": null,
   "metadata": {},
   "outputs": [],
   "source": []
  }
 ],
 "metadata": {
  "kernelspec": {
   "display_name": "Python 3",
   "language": "python",
   "name": "python3"
  }
 },
 "nbformat": 4,
 "nbformat_minor": 0
}