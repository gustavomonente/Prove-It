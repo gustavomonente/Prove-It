{
 "cells": [
  {
   "cell_type": "markdown",
   "metadata": {},
   "source": [
    "Expression of type <a class=\"ProveItLink\" href=\"../../../../../../../../doc/html/api/proveit.logic.Forall.html\">Forall</a>\n",
    "=======================\n",
    "# from the theory of <a class=\"ProveItLink\" href=\"../../../_theory_nbs_/theory.ipynb\">proveit.logic.sets.unification</a>"
   ]
  },
  {
   "cell_type": "code",
   "execution_count": 1,
   "metadata": {},
   "outputs": [],
   "source": [
    "import proveit\n",
    "# Automation is not needed when building an expression:\n",
    "proveit.defaults.automation = False # This will speed things up.\n",
    "proveit.defaults.inline_pngs = False # Makes files smaller.\n",
    "%load_expr # Load the stored expression as 'stored_expr'\n",
    "# import Expression classes needed to build the expression\n",
    "from proveit import Q, R, x\n",
    "from proveit.core_expr_types import Q__y_1_to_n, R__y_1_to_n, S_1_to_n, y_1_to_n\n",
    "from proveit.logic import Equals, Exists, Forall, InSet\n",
    "from proveit.logic.sets import general_unionall_Ryn"
   ]
  },
  {
   "cell_type": "code",
   "execution_count": 2,
   "metadata": {},
   "outputs": [
    {
     "data": {
      "text/html": [
       "<strong id=\"expr\">expr:</strong> <a class=\"ProveItLink\" href=\"expr.ipynb\"><img src=\"expr.png\" style=\"display:inline;vertical-align:middle;\" /></a><br>"
      ],
      "text/plain": [
       "expr: forall_{S_{1}, ..S_{_a}.., S_{n}, Q, R, x} ((x in [union_of_all_{y_{1} in S_{1}, ..y_{_a} in S_{_a}.., y_{n} in S_{n} | Q(y_{1}, ..y_{_a}.., y_{n})} R(y_{1}, ..y_{_a}.., y_{n})]) \\\\  = [exists_{y_{1} in S_{1}, ..y_{_a} in S_{_a}.., y_{n} in S_{n} | Q(y_{1}, ..y_{_a}.., y_{n})} (x in R(y_{1}, ..y_{_a}.., y_{n}))])"
      ]
     },
     "execution_count": 2,
     "metadata": {},
     "output_type": "execute_result"
    }
   ],
   "source": [
    "# build up the expression from sub-expressions\n",
    "expr = Forall([S_1_to_n, Q, R, x], Equals(InSet(x, general_unionall_Ryn), Exists([y_1_to_n], InSet(x, R__y_1_to_n), domains = [S_1_to_n], condition = Q__y_1_to_n)).with_wrapping_at(1))"
   ]
  },
  {
   "cell_type": "code",
   "execution_count": 3,
   "metadata": {},
   "outputs": [
    {
     "name": "stdout",
     "output_type": "stream",
     "text": [
      "Passed sanity check: expr matches stored_expr\n"
     ]
    }
   ],
   "source": [
    "# check that the built expression is the same as the stored expression\n",
    "assert expr == stored_expr\n",
    "assert expr._style_id == stored_expr._style_id\n",
    "print(\"Passed sanity check: expr matches stored_expr\")"
   ]
  },
  {
   "cell_type": "code",
   "execution_count": 4,
   "metadata": {},
   "outputs": [
    {
     "name": "stdout",
     "output_type": "stream",
     "text": [
      "\\forall_{S_{1}, \\ldots, S_{n}, Q, R, x}~\\left(\\begin{array}{c} \\left(x \\in \\left[\\bigcup_{y_{1} \\in S_{1}, \\ldots, y_{n} \\in S_{n}~|~Q(y_{1}, \\ldots, y_{n})}~R(y_{1}, \\ldots, y_{n})\\right]\\right) \\\\  = \\left[\\exists_{y_{1} \\in S_{1}, \\ldots, y_{n} \\in S_{n}~|~Q(y_{1}, \\ldots, y_{n})}~\\left(x \\in R(y_{1}, \\ldots, y_{n})\\right)\\right] \\end{array}\\right)\n"
     ]
    }
   ],
   "source": [
    "# Show the LaTeX representation of the expression for convenience if you need it.\n",
    "print(expr.latex())"
   ]
  },
  {
   "cell_type": "code",
   "execution_count": 5,
   "metadata": {},
   "outputs": [
    {
     "data": {
      "text/html": [
       "<table><tr><th>&nbsp;</th><th>core type</th><th>sub-expressions</th><th>expression</th></tr>\n",
       "<tr><td>0</td><td>Operation</td><td>operator:&nbsp;1<br>operand:&nbsp;2<br></td><td><a class=\"ProveItLink\" href=\"expr.ipynb\"><img src=\"expr.png\" style=\"display:inline;vertical-align:middle;\" /></a></td></tr>\n",
       "<tr><td>1</td><td>Literal</td><td></td><td><a class=\"ProveItLink\" href=\"../../../../../booleans/quantification/universality/__pv_it/common/083d2baa0b8ecab1d230f9ec29a15aa1355809fb0/expr.ipynb\"><img src=\"../../../../../booleans/quantification/universality/__pv_it/common/083d2baa0b8ecab1d230f9ec29a15aa1355809fb0/expr.png\" style=\"display:inline;vertical-align:middle;\" /></a></td></tr>\n",
       "<tr><td>2</td><td>Lambda</td><td>parameters:&nbsp;3<br>body:&nbsp;4<br></td><td><a class=\"ProveItLink\" href=\"../8ba175091a97c930850c2ae1c9870b7a8a6a23df0/expr.ipynb\"><img src=\"../8ba175091a97c930850c2ae1c9870b7a8a6a23df0/expr.png\" style=\"display:inline;vertical-align:middle;\" /></a></td></tr>\n",
       "<tr><td>3</td><td>ExprTuple</td><td>5, 30, 26, 22</td><td><a class=\"ProveItLink\" href=\"../56a97cdfcf158e91b6daa1610c257a1b1d67ec150/expr.ipynb\"><img src=\"../56a97cdfcf158e91b6daa1610c257a1b1d67ec150/expr.png\" style=\"display:inline;vertical-align:middle;\" /></a></td></tr>\n",
       "<tr><td>4</td><td>Operation</td><td>operator:&nbsp;6<br>operands:&nbsp;7<br></td><td><a class=\"ProveItLink\" href=\"../199464afa1a1f69a159e167523bbd0e73dd960460/expr.ipynb\"><img src=\"../199464afa1a1f69a159e167523bbd0e73dd960460/expr.png\" style=\"display:inline;vertical-align:middle;\" /></a></td></tr>\n",
       "<tr><td>5</td><td>ExprRange</td><td>lambda_map:&nbsp;8<br>start_index:&nbsp;37<br>end_index:&nbsp;38<br></td><td><a class=\"ProveItLink\" href=\"../../../../../../core_expr_types/__pv_it/common/eb27bbecc333cc9507d976ab3ebdea4153cbab6b0/expr.ipynb\"><img src=\"../../../../../../core_expr_types/__pv_it/common/eb27bbecc333cc9507d976ab3ebdea4153cbab6b0/expr.png\" style=\"display:inline;vertical-align:middle;\" /></a></td></tr>\n",
       "<tr><td>6</td><td>Literal</td><td></td><td><a class=\"ProveItLink\" href=\"../../../../../equality/__pv_it/common/fb96dc12b2aa8801dda64d0132b396c63d1502bb0/expr.ipynb\"><img src=\"../../../../../equality/__pv_it/common/fb96dc12b2aa8801dda64d0132b396c63d1502bb0/expr.png\" style=\"display:inline;vertical-align:middle;\" /></a></td></tr>\n",
       "<tr><td>7</td><td>ExprTuple</td><td>9, 10</td><td><a class=\"ProveItLink\" href=\"../e115f2f65aa507ca74134c96f980d7df2a1758d00/expr.ipynb\"><img src=\"../e115f2f65aa507ca74134c96f980d7df2a1758d00/expr.png\" style=\"display:inline;vertical-align:middle;\" /></a></td></tr>\n",
       "<tr><td>8</td><td>Lambda</td><td>parameter:&nbsp;43<br>body:&nbsp;39<br></td><td><a class=\"ProveItLink\" href=\"../../../../../../core_expr_types/__pv_it/common/118a1f8c85d1484caecf1cbed8fd7be23e2b723a0/expr.ipynb\"><img src=\"../../../../../../core_expr_types/__pv_it/common/118a1f8c85d1484caecf1cbed8fd7be23e2b723a0/expr.png\" style=\"display:inline;vertical-align:middle;\" /></a></td></tr>\n",
       "<tr><td>9</td><td>Operation</td><td>operator:&nbsp;34<br>operands:&nbsp;11<br></td><td><a class=\"ProveItLink\" href=\"../7a183504525ed5f6b8474bc23fb109d83091ff330/expr.ipynb\"><img src=\"../7a183504525ed5f6b8474bc23fb109d83091ff330/expr.png\" style=\"display:inline;vertical-align:middle;\" /></a></td></tr>\n",
       "<tr><td>10</td><td>Operation</td><td>operator:&nbsp;12<br>operand:&nbsp;13<br></td><td><a class=\"ProveItLink\" href=\"../952a1813f38b217cd49d0c772793dc8cd8eb6c430/expr.ipynb\"><img src=\"../952a1813f38b217cd49d0c772793dc8cd8eb6c430/expr.png\" style=\"display:inline;vertical-align:middle;\" /></a></td></tr>\n",
       "<tr><td>11</td><td>ExprTuple</td><td>22, 14</td><td><a class=\"ProveItLink\" href=\"../f5030beaca201a2c84c4199c995afe410adee13c0/expr.ipynb\"><img src=\"../f5030beaca201a2c84c4199c995afe410adee13c0/expr.png\" style=\"display:inline;vertical-align:middle;\" /></a></td></tr>\n",
       "<tr><td>12</td><td>Literal</td><td></td><td><a class=\"ProveItLink\" href=\"../../../../../booleans/quantification/existence/__pv_it/common/fedc3809ed9823aab11264c156786a59540352e70/expr.ipynb\"><img src=\"../../../../../booleans/quantification/existence/__pv_it/common/fedc3809ed9823aab11264c156786a59540352e70/expr.png\" style=\"display:inline;vertical-align:middle;\" /></a></td></tr>\n",
       "<tr><td>13</td><td>Lambda</td><td>parameters:&nbsp;31<br>body:&nbsp;15<br></td><td><a class=\"ProveItLink\" href=\"../89275c01fb2e61f22994e454320732076f9ccb4c0/expr.ipynb\"><img src=\"../89275c01fb2e61f22994e454320732076f9ccb4c0/expr.png\" style=\"display:inline;vertical-align:middle;\" /></a></td></tr>\n",
       "<tr><td>14</td><td>Operation</td><td>operator:&nbsp;16<br>operand:&nbsp;17<br></td><td><a class=\"ProveItLink\" href=\"../../../../__pv_it/common/fbb304749225be892ad92490c456f4d111d5cc810/expr.ipynb\"><img src=\"../../../../__pv_it/common/fbb304749225be892ad92490c456f4d111d5cc810/expr.png\" style=\"display:inline;vertical-align:middle;\" /></a></td></tr>\n",
       "<tr><td>15</td><td>Conditional</td><td>value:&nbsp;18<br>condition:&nbsp;21<br></td><td><a class=\"ProveItLink\" href=\"../46c06f79907fdd7818c87d4832e6383f6350245c0/expr.ipynb\"><img src=\"../46c06f79907fdd7818c87d4832e6383f6350245c0/expr.png\" style=\"display:inline;vertical-align:middle;\" /></a></td></tr>\n",
       "<tr><td>16</td><td>Literal</td><td></td><td><a class=\"ProveItLink\" href=\"../../common/c6b511ea7c81a1d3d6b1174e857f51ac65f318ef0/expr.ipynb\"><img src=\"../../common/c6b511ea7c81a1d3d6b1174e857f51ac65f318ef0/expr.png\" style=\"display:inline;vertical-align:middle;\" /></a></td></tr>\n",
       "<tr><td>17</td><td>Lambda</td><td>parameters:&nbsp;31<br>body:&nbsp;19<br></td><td><a class=\"ProveItLink\" href=\"../../../../__pv_it/common/fcb72b79e0f83a969b3c434b71b24c9a2768a5b70/expr.ipynb\"><img src=\"../../../../__pv_it/common/fcb72b79e0f83a969b3c434b71b24c9a2768a5b70/expr.png\" style=\"display:inline;vertical-align:middle;\" /></a></td></tr>\n",
       "<tr><td>18</td><td>Operation</td><td>operator:&nbsp;34<br>operands:&nbsp;20<br></td><td><a class=\"ProveItLink\" href=\"../054b1713d5a729949a614de531df8521f6edc7c60/expr.ipynb\"><img src=\"../054b1713d5a729949a614de531df8521f6edc7c60/expr.png\" style=\"display:inline;vertical-align:middle;\" /></a></td></tr>\n",
       "<tr><td>19</td><td>Conditional</td><td>value:&nbsp;23<br>condition:&nbsp;21<br></td><td><a class=\"ProveItLink\" href=\"../../../../__pv_it/common/74db559ea4ddbfb4a56e233348b76a3dca2873510/expr.ipynb\"><img src=\"../../../../__pv_it/common/74db559ea4ddbfb4a56e233348b76a3dca2873510/expr.png\" style=\"display:inline;vertical-align:middle;\" /></a></td></tr>\n",
       "<tr><td>20</td><td>ExprTuple</td><td>22, 23</td><td><a class=\"ProveItLink\" href=\"../6cb4a30dd4758399334d93eacab9d50e2166b0200/expr.ipynb\"><img src=\"../6cb4a30dd4758399334d93eacab9d50e2166b0200/expr.png\" style=\"display:inline;vertical-align:middle;\" /></a></td></tr>\n",
       "<tr><td>21</td><td>Operation</td><td>operator:&nbsp;24<br>operands:&nbsp;25<br></td><td><a class=\"ProveItLink\" href=\"../../../../__pv_it/common/d942370620d11dfed9170d3be495caf7ff879beb0/expr.ipynb\"><img src=\"../../../../__pv_it/common/d942370620d11dfed9170d3be495caf7ff879beb0/expr.png\" style=\"display:inline;vertical-align:middle;\" /></a></td></tr>\n",
       "<tr><td>22</td><td>Variable</td><td></td><td><a class=\"ProveItLink\" href=\"../../../../../../__pv_it/common/a0d9d672aa5e272d907247690c152cc2c6daafb70/expr.ipynb\"><img src=\"../../../../../../__pv_it/common/a0d9d672aa5e272d907247690c152cc2c6daafb70/expr.png\" style=\"display:inline;vertical-align:middle;\" /></a></td></tr>\n",
       "<tr><td>23</td><td>Operation</td><td>operator:&nbsp;26<br>operands:&nbsp;31<br></td><td><a class=\"ProveItLink\" href=\"../../../../../../core_expr_types/__pv_it/common/5440ad91de622faa67f7f311ab66ee1fb8ac70830/expr.ipynb\"><img src=\"../../../../../../core_expr_types/__pv_it/common/5440ad91de622faa67f7f311ab66ee1fb8ac70830/expr.png\" style=\"display:inline;vertical-align:middle;\" /></a></td></tr>\n",
       "<tr><td>24</td><td>Literal</td><td></td><td><a class=\"ProveItLink\" href=\"../../../../../booleans/conjunction/__pv_it/common/42118ff318bd65d98b1393f64ce7c2269feef76e0/expr.ipynb\"><img src=\"../../../../../booleans/conjunction/__pv_it/common/42118ff318bd65d98b1393f64ce7c2269feef76e0/expr.png\" style=\"display:inline;vertical-align:middle;\" /></a></td></tr>\n",
       "<tr><td>25</td><td>ExprTuple</td><td>27, 28</td><td><a class=\"ProveItLink\" href=\"../../../../__pv_it/common/6a6f6583c474649fc7fcb8482437a6c8601ef7d00/expr.ipynb\"><img src=\"../../../../__pv_it/common/6a6f6583c474649fc7fcb8482437a6c8601ef7d00/expr.png\" style=\"display:inline;vertical-align:middle;\" /></a></td></tr>\n",
       "<tr><td>26</td><td>Variable</td><td></td><td><a class=\"ProveItLink\" href=\"../../../../../../__pv_it/common/647ca33d6b96e29d5aa85a15d2241c7ebd0c6e4b0/expr.ipynb\"><img src=\"../../../../../../__pv_it/common/647ca33d6b96e29d5aa85a15d2241c7ebd0c6e4b0/expr.png\" style=\"display:inline;vertical-align:middle;\" /></a></td></tr>\n",
       "<tr><td>27</td><td>ExprRange</td><td>lambda_map:&nbsp;29<br>start_index:&nbsp;37<br>end_index:&nbsp;38<br></td><td><a class=\"ProveItLink\" href=\"../../../../__pv_it/common/d197fd49568c20fbceebeee0494c62bc08c65a490/expr.ipynb\"><img src=\"../../../../__pv_it/common/d197fd49568c20fbceebeee0494c62bc08c65a490/expr.png\" style=\"display:inline;vertical-align:middle;\" /></a></td></tr>\n",
       "<tr><td>28</td><td>Operation</td><td>operator:&nbsp;30<br>operands:&nbsp;31<br></td><td><a class=\"ProveItLink\" href=\"../../../../../../core_expr_types/__pv_it/common/31d40cd78720d264f2e2fce8e578387d1c4c5da10/expr.ipynb\"><img src=\"../../../../../../core_expr_types/__pv_it/common/31d40cd78720d264f2e2fce8e578387d1c4c5da10/expr.png\" style=\"display:inline;vertical-align:middle;\" /></a></td></tr>\n",
       "<tr><td>29</td><td>Lambda</td><td>parameter:&nbsp;43<br>body:&nbsp;32<br></td><td><a class=\"ProveItLink\" href=\"../../../../__pv_it/common/da2c636b6fffd91f68814759c253e45e3f5608700/expr.ipynb\"><img src=\"../../../../__pv_it/common/da2c636b6fffd91f68814759c253e45e3f5608700/expr.png\" style=\"display:inline;vertical-align:middle;\" /></a></td></tr>\n",
       "<tr><td>30</td><td>Variable</td><td></td><td><a class=\"ProveItLink\" href=\"../../../../../../__pv_it/common/d72bb8b07403efe79afab564c36a28e21330e5f90/expr.ipynb\"><img src=\"../../../../../../__pv_it/common/d72bb8b07403efe79afab564c36a28e21330e5f90/expr.png\" style=\"display:inline;vertical-align:middle;\" /></a></td></tr>\n",
       "<tr><td>31</td><td>ExprTuple</td><td>33</td><td><a class=\"ProveItLink\" href=\"../../../../../../core_expr_types/__pv_it/common/7825d99ba871f39ec9e174832f4965ad6a4a6c920/expr.ipynb\"><img src=\"../../../../../../core_expr_types/__pv_it/common/7825d99ba871f39ec9e174832f4965ad6a4a6c920/expr.png\" style=\"display:inline;vertical-align:middle;\" /></a></td></tr>\n",
       "<tr><td>32</td><td>Operation</td><td>operator:&nbsp;34<br>operands:&nbsp;35<br></td><td><a class=\"ProveItLink\" href=\"../../../../__pv_it/common/1cff09e3875c5a05333183304cddf7f42a7376e40/expr.ipynb\"><img src=\"../../../../__pv_it/common/1cff09e3875c5a05333183304cddf7f42a7376e40/expr.png\" style=\"display:inline;vertical-align:middle;\" /></a></td></tr>\n",
       "<tr><td>33</td><td>ExprRange</td><td>lambda_map:&nbsp;36<br>start_index:&nbsp;37<br>end_index:&nbsp;38<br></td><td><a class=\"ProveItLink\" href=\"../../../../../../core_expr_types/__pv_it/common/83815096a81411f4169bd53199aa8541663848780/expr.ipynb\"><img src=\"../../../../../../core_expr_types/__pv_it/common/83815096a81411f4169bd53199aa8541663848780/expr.png\" style=\"display:inline;vertical-align:middle;\" /></a></td></tr>\n",
       "<tr><td>34</td><td>Literal</td><td></td><td><a class=\"ProveItLink\" href=\"../../../../membership/__pv_it/common/477487d8796864d23d5810f83761435f25167f690/expr.ipynb\"><img src=\"../../../../membership/__pv_it/common/477487d8796864d23d5810f83761435f25167f690/expr.png\" style=\"display:inline;vertical-align:middle;\" /></a></td></tr>\n",
       "<tr><td>35</td><td>ExprTuple</td><td>40, 39</td><td><a class=\"ProveItLink\" href=\"../../../../__pv_it/common/4ffef38cc31a5ada67f5754fdf02294a302f5d730/expr.ipynb\"><img src=\"../../../../__pv_it/common/4ffef38cc31a5ada67f5754fdf02294a302f5d730/expr.png\" style=\"display:inline;vertical-align:middle;\" /></a></td></tr>\n",
       "<tr><td>36</td><td>Lambda</td><td>parameter:&nbsp;43<br>body:&nbsp;40<br></td><td><a class=\"ProveItLink\" href=\"../../../../../../core_expr_types/__pv_it/common/e78a05a30384462aa15ec8190735b4d58ac945690/expr.ipynb\"><img src=\"../../../../../../core_expr_types/__pv_it/common/e78a05a30384462aa15ec8190735b4d58ac945690/expr.png\" style=\"display:inline;vertical-align:middle;\" /></a></td></tr>\n",
       "<tr><td>37</td><td>Literal</td><td></td><td><a class=\"ProveItLink\" href=\"../../../../../../numbers/numerals/__pv_it/common/2778428c7f555b2bdc06aa0530bc142c6e6335100/expr.ipynb\"><img src=\"../../../../../../numbers/numerals/__pv_it/common/2778428c7f555b2bdc06aa0530bc142c6e6335100/expr.png\" style=\"display:inline;vertical-align:middle;\" /></a></td></tr>\n",
       "<tr><td>38</td><td>Variable</td><td></td><td><a class=\"ProveItLink\" href=\"../../../../../../__pv_it/common/8968bb04eb3f7dfa02353397ce929b025bbd79c20/expr.ipynb\"><img src=\"../../../../../../__pv_it/common/8968bb04eb3f7dfa02353397ce929b025bbd79c20/expr.png\" style=\"display:inline;vertical-align:middle;\" /></a></td></tr>\n",
       "<tr><td>39</td><td>IndexedVar</td><td>variable:&nbsp;41<br>index:&nbsp;43<br></td><td><a class=\"ProveItLink\" href=\"../../../../../../core_expr_types/__pv_it/common/b2f15afbff2c91b1412e578f291229a3c9bc79a60/expr.ipynb\"><img src=\"../../../../../../core_expr_types/__pv_it/common/b2f15afbff2c91b1412e578f291229a3c9bc79a60/expr.png\" style=\"display:inline;vertical-align:middle;\" /></a></td></tr>\n",
       "<tr><td>40</td><td>IndexedVar</td><td>variable:&nbsp;42<br>index:&nbsp;43<br></td><td><a class=\"ProveItLink\" href=\"../../../../../../core_expr_types/__pv_it/common/bae00704f4077d282c1ca22cbc3aecae7393f3dc0/expr.ipynb\"><img src=\"../../../../../../core_expr_types/__pv_it/common/bae00704f4077d282c1ca22cbc3aecae7393f3dc0/expr.png\" style=\"display:inline;vertical-align:middle;\" /></a></td></tr>\n",
       "<tr><td>41</td><td>Variable</td><td></td><td><a class=\"ProveItLink\" href=\"../../../../../../__pv_it/common/38f47c5670ea8c5b56253448e95d8afb56bc09b40/expr.ipynb\"><img src=\"../../../../../../__pv_it/common/38f47c5670ea8c5b56253448e95d8afb56bc09b40/expr.png\" style=\"display:inline;vertical-align:middle;\" /></a></td></tr>\n",
       "<tr><td>42</td><td>Variable</td><td></td><td><a class=\"ProveItLink\" href=\"../../../../../../__pv_it/common/ff7dba4ef0bbe791ab573bf2d9c220a304399ac80/expr.ipynb\"><img src=\"../../../../../../__pv_it/common/ff7dba4ef0bbe791ab573bf2d9c220a304399ac80/expr.png\" style=\"display:inline;vertical-align:middle;\" /></a></td></tr>\n",
       "<tr><td>43</td><td>Variable</td><td></td><td><a class=\"ProveItLink\" href=\"../../../../../../core_expr_types/__pv_it/common/006c465e50948aa2b52285e2de47974f741255cc0/expr.ipynb\"><img src=\"../../../../../../core_expr_types/__pv_it/common/006c465e50948aa2b52285e2de47974f741255cc0/expr.png\" style=\"display:inline;vertical-align:middle;\" /></a></td></tr>\n",
       "</table>\n"
      ],
      "text/plain": [
       "0. forall_{S_{1}, ..S_{_a}.., S_{n}, Q, R, x} ((x in [union_of_all_{y_{1} in S_{1}, ..y_{_a} in S_{_a}.., y_{n} in S_{n} | Q(y_{1}, ..y_{_a}.., y_{n})} R(y_{1}, ..y_{_a}.., y_{n})]) \\\\  = [exists_{y_{1} in S_{1}, ..y_{_a} in S_{_a}.., y_{n} in S_{n} | Q(y_{1}, ..y_{_a}.., y_{n})} (x in R(y_{1}, ..y_{_a}.., y_{n}))])\n",
       "   core type: Operation\n",
       "   operator: 1\n",
       "   operand: 2\n",
       "1. forall\n",
       "   core type: Literal\n",
       "   sub-expressions: \n",
       "2. (S_{1}, ..S_{_a}.., S_{n}, Q, R, x) -> ((x in [union_of_all_{y_{1} in S_{1}, ..y_{_a} in S_{_a}.., y_{n} in S_{n} | Q(y_{1}, ..y_{_a}.., y_{n})} R(y_{1}, ..y_{_a}.., y_{n})]) \\\\  = [exists_{y_{1} in S_{1}, ..y_{_a} in S_{_a}.., y_{n} in S_{n} | Q(y_{1}, ..y_{_a}.., y_{n})} (x in R(y_{1}, ..y_{_a}.., y_{n}))])\n",
       "   core type: Lambda\n",
       "   parameters: 3\\n   body: 4\n",
       "3. (S_{1}, ..S_{_a}.., S_{n}, Q, R, x)\n",
       "   core type: ExprTuple\n",
       "   sub-expressions: 5, 30, 26, 22\n",
       "4. (x in [union_of_all_{y_{1} in S_{1}, ..y_{_a} in S_{_a}.., y_{n} in S_{n} | Q(y_{1}, ..y_{_a}.., y_{n})} R(y_{1}, ..y_{_a}.., y_{n})]) \\\\  = [exists_{y_{1} in S_{1}, ..y_{_a} in S_{_a}.., y_{n} in S_{n} | Q(y_{1}, ..y_{_a}.., y_{n})} (x in R(y_{1}, ..y_{_a}.., y_{n}))]\n",
       "   core type: Operation\n",
       "   operator: 6\n",
       "   operands: 7\n",
       "5. S_{1}, ..S_{_a}.., S_{n}\n",
       "   core type: ExprRange\n",
       "   lambda_map: 8\n",
       "   start_index: 37\n",
       "   end_index: 38\n",
       "6. =\n",
       "   core type: Literal\n",
       "   sub-expressions: \n",
       "7. (x in [union_of_all_{y_{1} in S_{1}, ..y_{_a} in S_{_a}.., y_{n} in S_{n} | Q(y_{1}, ..y_{_a}.., y_{n})} R(y_{1}, ..y_{_a}.., y_{n})], exists_{y_{1} in S_{1}, ..y_{_a} in S_{_a}.., y_{n} in S_{n} | Q(y_{1}, ..y_{_a}.., y_{n})} (x in R(y_{1}, ..y_{_a}.., y_{n})))\n",
       "   core type: ExprTuple\n",
       "   sub-expressions: 9, 10\n",
       "8. _a -> S_{_a}\n",
       "   core type: Lambda\n",
       "   parameter: 43\n",
       "   body: 39\n",
       "9. x in [union_of_all_{y_{1} in S_{1}, ..y_{_a} in S_{_a}.., y_{n} in S_{n} | Q(y_{1}, ..y_{_a}.., y_{n})} R(y_{1}, ..y_{_a}.., y_{n})]\n",
       "   core type: Operation\n",
       "   operator: 34\n",
       "   operands: 11\n",
       "10. exists_{y_{1} in S_{1}, ..y_{_a} in S_{_a}.., y_{n} in S_{n} | Q(y_{1}, ..y_{_a}.., y_{n})} (x in R(y_{1}, ..y_{_a}.., y_{n}))\n",
       "    core type: Operation\n",
       "    operator: 12\n",
       "    operand: 13\n",
       "11. (x, union_of_all_{y_{1} in S_{1}, ..y_{_a} in S_{_a}.., y_{n} in S_{n} | Q(y_{1}, ..y_{_a}.., y_{n})} R(y_{1}, ..y_{_a}.., y_{n}))\n",
       "    core type: ExprTuple\n",
       "    sub-expressions: 22, 14\n",
       "12. exists\n",
       "    core type: Literal\n",
       "    sub-expressions: \n",
       "13. (y_{1}, ..y_{_a}.., y_{n}) -> {x in R(y_{1}, ..y_{_a}.., y_{n}) if y_{1} in S_{1} ,  ..y_{_a} in S_{_a}.. ,  y_{n} in S_{n} ,  Q(y_{1}, ..y_{_a}.., y_{n}).\n",
       "    core type: Lambda\n",
       "    parameters: 31\\n    body: 15\n",
       "14. union_of_all_{y_{1} in S_{1}, ..y_{_a} in S_{_a}.., y_{n} in S_{n} | Q(y_{1}, ..y_{_a}.., y_{n})} R(y_{1}, ..y_{_a}.., y_{n})\n",
       "    core type: Operation\n",
       "    operator: 16\n",
       "    operand: 17\n",
       "15. {x in R(y_{1}, ..y_{_a}.., y_{n}) if y_{1} in S_{1} ,  ..y_{_a} in S_{_a}.. ,  y_{n} in S_{n} ,  Q(y_{1}, ..y_{_a}.., y_{n}).\n",
       "    core type: Conditional\n",
       "    value: 18\n",
       "    condition: 21\n",
       "16. union_of_all\n",
       "    core type: Literal\n",
       "    sub-expressions: \n",
       "17. (y_{1}, ..y_{_a}.., y_{n}) -> {R(y_{1}, ..y_{_a}.., y_{n}) if y_{1} in S_{1} ,  ..y_{_a} in S_{_a}.. ,  y_{n} in S_{n} ,  Q(y_{1}, ..y_{_a}.., y_{n}).\n",
       "    core type: Lambda\n",
       "    parameters: 31\\n    body: 19\n",
       "18. x in R(y_{1}, ..y_{_a}.., y_{n})\n",
       "    core type: Operation\n",
       "    operator: 34\n",
       "    operands: 20\n",
       "19. {R(y_{1}, ..y_{_a}.., y_{n}) if y_{1} in S_{1} ,  ..y_{_a} in S_{_a}.. ,  y_{n} in S_{n} ,  Q(y_{1}, ..y_{_a}.., y_{n}).\n",
       "    core type: Conditional\n",
       "    value: 23\n",
       "    condition: 21\n",
       "20. (x, R(y_{1}, ..y_{_a}.., y_{n}))\n",
       "    core type: ExprTuple\n",
       "    sub-expressions: 22, 23\n",
       "21. (y_{1} in S_{1}) and ..(y_{_a} in S_{_a}).. and (y_{n} in S_{n}) and Q(y_{1}, ..y_{_a}.., y_{n})\n",
       "    core type: Operation\n",
       "    operator: 24\n",
       "    operands: 25\n",
       "22. x\n",
       "    core type: Variable\n",
       "    sub-expressions: \n",
       "23. R(y_{1}, ..y_{_a}.., y_{n})\n",
       "    core type: Operation\n",
       "    operator: 26\n",
       "    operands: 31\n",
       "24. and\n",
       "    core type: Literal\n",
       "    sub-expressions: \n",
       "25. (y_{1} in S_{1}, ..y_{_a} in S_{_a}.., y_{n} in S_{n}, Q(y_{1}, ..y_{_a}.., y_{n}))\n",
       "    core type: ExprTuple\n",
       "    sub-expressions: 27, 28\n",
       "26. R\n",
       "    core type: Variable\n",
       "    sub-expressions: \n",
       "27. (y_{1} in S_{1}), ..(y_{_a} in S_{_a}).., (y_{n} in S_{n})\n",
       "    core type: ExprRange\n",
       "    lambda_map: 29\n",
       "    start_index: 37\n",
       "    end_index: 38\n",
       "28. Q(y_{1}, ..y_{_a}.., y_{n})\n",
       "    core type: Operation\n",
       "    operator: 30\n",
       "    operands: 31\n",
       "29. _a -> (y_{_a} in S_{_a})\n",
       "    core type: Lambda\n",
       "    parameter: 43\n",
       "    body: 32\n",
       "30. Q\n",
       "    core type: Variable\n",
       "    sub-expressions: \n",
       "31. (y_{1}, ..y_{_a}.., y_{n})\n",
       "    core type: ExprTuple\n",
       "    sub-expressions: 33\n",
       "32. y_{_a} in S_{_a}\n",
       "    core type: Operation\n",
       "    operator: 34\n",
       "    operands: 35\n",
       "33. y_{1}, ..y_{_a}.., y_{n}\n",
       "    core type: ExprRange\n",
       "    lambda_map: 36\n",
       "    start_index: 37\n",
       "    end_index: 38\n",
       "34. in\n",
       "    core type: Literal\n",
       "    sub-expressions: \n",
       "35. (y_{_a}, S_{_a})\n",
       "    core type: ExprTuple\n",
       "    sub-expressions: 40, 39\n",
       "36. _a -> y_{_a}\n",
       "    core type: Lambda\n",
       "    parameter: 43\n",
       "    body: 40\n",
       "37. 1\n",
       "    core type: Literal\n",
       "    sub-expressions: \n",
       "38. n\n",
       "    core type: Variable\n",
       "    sub-expressions: \n",
       "39. S_{_a}\n",
       "    core type: IndexedVar\n",
       "variable: 41\n",
       "index: 43\n",
       "40. y_{_a}\n",
       "    core type: IndexedVar\n",
       "variable: 42\n",
       "index: 43\n",
       "41. S\n",
       "    core type: Variable\n",
       "    sub-expressions: \n",
       "42. y\n",
       "    core type: Variable\n",
       "    sub-expressions: \n",
       "43. _a\n",
       "    core type: Variable\n",
       "    sub-expressions: "
      ]
     },
     "execution_count": 5,
     "metadata": {},
     "output_type": "execute_result"
    }
   ],
   "source": [
    "# display the expression information\n",
    "expr.expr_info()"
   ]
  },
  {
   "cell_type": "code",
   "execution_count": null,
   "metadata": {},
   "outputs": [],
   "source": []
  }
 ],
 "metadata": {
  "kernelspec": {
   "display_name": "Python 3",
   "language": "python",
   "name": "python3"
  }
 },
 "nbformat": 4,
 "nbformat_minor": 0
}