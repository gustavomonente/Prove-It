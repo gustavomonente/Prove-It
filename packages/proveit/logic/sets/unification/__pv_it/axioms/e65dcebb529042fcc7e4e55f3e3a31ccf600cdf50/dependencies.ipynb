{
 "cells": [
  {
   "cell_type": "markdown",
   "metadata": {},
   "source": [
    "Axiom Dependencies\n",
    "=======================\n",
    "\n",
    "## <a class=\"ProveItLink\" href=\"../../../_theory_nbs_/theory.ipynb\">proveit.logic.sets.unification</a>.<a class=\"ProveItLink\" href=\"../../../_axioms_.ipynb#union_def\">union_def</a> \n"
   ]
  },
  {
   "cell_type": "code",
   "execution_count": 1,
   "metadata": {},
   "outputs": [],
   "source": [
    "import proveit\n",
    "# Automation is not needed when querying dependencies:\n",
    "proveit.defaults.automation = False # This will speed things up.\n",
    "proveit.defaults.inline_pngs = False # Makes files smaller.\n",
    "from proveit.logic.sets.unification import union_def"
   ]
  },
  {
   "cell_type": "code",
   "execution_count": 2,
   "metadata": {},
   "outputs": [
    {
     "data": {
      "text/html": [
       "<h3>Theorems/conjectures that depend directly on union_def</h3>"
      ],
      "text/plain": [
       "<IPython.core.display.HTML object>"
      ]
     },
     "metadata": {},
     "output_type": "display_data"
    },
    {
     "data": {
      "text/html": [
       "<dl>"
      ],
      "text/plain": [
       "<IPython.core.display.HTML object>"
      ]
     },
     "metadata": {},
     "output_type": "display_data"
    },
    {
     "data": {
      "text/html": [
       "<dt><a class=\"ProveItLink\" href=\"../../../../_theory_nbs_/proofs/intersection_subset_eq_union/thm_proof.ipynb\">proveit.logic.sets.intersection_subset_eq_union</a></dt><dd><a class=\"ProveItLink\" href=\"../../../../__pv_it/theorems/fc845af627a98723f8948801d1cba29b2ebab3230/expr.ipynb\"><img src=\"../../../../__pv_it/theorems/fc845af627a98723f8948801d1cba29b2ebab3230/expr.png\" style=\"display:inline;vertical-align:middle;\" /></a></dd>"
      ],
      "text/plain": [
       "<IPython.core.display.HTML object>"
      ]
     },
     "metadata": {},
     "output_type": "display_data"
    },
    {
     "data": {
      "text/html": [
       "<dt><a class=\"ProveItLink\" href=\"../../../../_theory_nbs_/proofs/set_subset_eq_of_union_with_set/thm_proof.ipynb\">proveit.logic.sets.set_subset_eq_of_union_with_set</a></dt><dd><a class=\"ProveItLink\" href=\"../../../../__pv_it/theorems/ac75bb3b00de4d25b07232d5dcc2e8727911d7390/expr.ipynb\"><img src=\"../../../../__pv_it/theorems/ac75bb3b00de4d25b07232d5dcc2e8727911d7390/expr.png\" style=\"display:inline;vertical-align:middle;\" /></a></dd>"
      ],
      "text/plain": [
       "<IPython.core.display.HTML object>"
      ]
     },
     "metadata": {},
     "output_type": "display_data"
    },
    {
     "data": {
      "text/html": [
       "</dl>"
      ],
      "text/plain": [
       "<IPython.core.display.HTML object>"
      ]
     },
     "metadata": {},
     "output_type": "display_data"
    }
   ],
   "source": [
    "%dependencies union_def"
   ]
  }
 ],
 "metadata": {
  "kernelspec": {
   "display_name": "Python 3",
   "language": "python",
   "name": "python3"
  }
 },
 "nbformat": 4,
 "nbformat_minor": 0
}