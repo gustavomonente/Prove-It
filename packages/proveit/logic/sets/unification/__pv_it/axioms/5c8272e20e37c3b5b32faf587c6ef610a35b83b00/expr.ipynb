{
 "cells": [
  {
   "cell_type": "markdown",
   "metadata": {},
   "source": [
    "Expression of type <a class=\"ProveItLink\" href=\"../../../../../../../../doc/html/api/proveit.ExprTuple.html\">ExprTuple</a>\n",
    "=======================\n",
    "# from the theory of <a class=\"ProveItLink\" href=\"../../../_theory_nbs_/theory.ipynb\">proveit.logic.sets.unification</a>"
   ]
  },
  {
   "cell_type": "code",
   "execution_count": 1,
   "metadata": {},
   "outputs": [],
   "source": [
    "import proveit\n",
    "# Automation is not needed when building an expression:\n",
    "proveit.defaults.automation = False # This will speed things up.\n",
    "proveit.defaults.inline_pngs = False # Makes files smaller.\n",
    "%load_expr # Load the stored expression as 'stored_expr'\n",
    "# import Expression classes needed to build the expression\n",
    "from proveit import Conditional, ExprTuple, Lambda, Q, R, n, x\n",
    "from proveit.core_expr_types import Q__y_1_to_n, R__y_1_to_n, S_1_to_n, y_1_to_n\n",
    "from proveit.logic import Equals, Exists, Forall, InSet\n",
    "from proveit.logic.sets import general_unionall_Ryn\n",
    "from proveit.numbers import NaturalPos"
   ]
  },
  {
   "cell_type": "code",
   "execution_count": 2,
   "metadata": {},
   "outputs": [
    {
     "data": {
      "text/html": [
       "<strong id=\"expr\">expr:</strong> <a class=\"ProveItLink\" href=\"expr.ipynb\"><img src=\"expr.png\" style=\"display:inline;vertical-align:middle;\" /></a><br>"
      ],
      "text/plain": [
       "expr: (n -> {forall_{S_{1}, ..S_{_a}.., S_{n}, Q, R, x} ((x in [union_of_all_{y_{1} in S_{1}, ..y_{_a} in S_{_a}.., y_{n} in S_{n} | Q(y_{1}, ..y_{_a}.., y_{n})} R(y_{1}, ..y_{_a}.., y_{n})]) \\\\  = [exists_{y_{1} in S_{1}, ..y_{_a} in S_{_a}.., y_{n} in S_{n} | Q(y_{1}, ..y_{_a}.., y_{n})} (x in R(y_{1}, ..y_{_a}.., y_{n}))]) if n in NaturalPos.)"
      ]
     },
     "execution_count": 2,
     "metadata": {},
     "output_type": "execute_result"
    }
   ],
   "source": [
    "# build up the expression from sub-expressions\n",
    "expr = ExprTuple(Lambda(n, Conditional(Forall([S_1_to_n, Q, R, x], Equals(InSet(x, general_unionall_Ryn), Exists([y_1_to_n], InSet(x, R__y_1_to_n), domains = [S_1_to_n], condition = Q__y_1_to_n)).with_wrapping_at(1)), InSet(n, NaturalPos))))"
   ]
  },
  {
   "cell_type": "code",
   "execution_count": 3,
   "metadata": {},
   "outputs": [
    {
     "name": "stdout",
     "output_type": "stream",
     "text": [
      "Passed sanity check: expr matches stored_expr\n"
     ]
    }
   ],
   "source": [
    "# check that the built expression is the same as the stored expression\n",
    "assert expr == stored_expr\n",
    "assert expr._style_id == stored_expr._style_id\n",
    "print(\"Passed sanity check: expr matches stored_expr\")"
   ]
  },
  {
   "cell_type": "code",
   "execution_count": 4,
   "metadata": {},
   "outputs": [
    {
     "name": "stdout",
     "output_type": "stream",
     "text": [
      "\\left(n \\mapsto \\left\\{\\forall_{S_{1}, \\ldots, S_{n}, Q, R, x}~\\left(\\begin{array}{c} \\begin{array}{l} \\left(x \\in \\left[\\bigcup_{y_{1} \\in S_{1}, \\ldots, y_{n} \\in S_{n}~|~Q(y_{1}, \\ldots, y_{n})}~R(y_{1}, \\ldots, y_{n})\\right]\\right) \\\\  = \\left[\\exists_{y_{1} \\in S_{1}, \\ldots, y_{n} \\in S_{n}~|~Q(y_{1}, \\ldots, y_{n})}~\\left(x \\in R(y_{1}, \\ldots, y_{n})\\right)\\right] \\end{array} \\end{array}\\right) \\textrm{ if } n \\in \\mathbb{N}^+\\right..\\right)\n"
     ]
    }
   ],
   "source": [
    "# Show the LaTeX representation of the expression for convenience if you need it.\n",
    "print(expr.latex())"
   ]
  },
  {
   "cell_type": "code",
   "execution_count": 5,
   "metadata": {},
   "outputs": [
    {
     "data": {
      "text/html": [
       "no style options"
      ],
      "text/plain": [
       "no style options"
      ]
     },
     "execution_count": 5,
     "metadata": {},
     "output_type": "execute_result"
    }
   ],
   "source": [
    "expr.style_options()"
   ]
  },
  {
   "cell_type": "code",
   "execution_count": 6,
   "metadata": {},
   "outputs": [
    {
     "data": {
      "text/html": [
       "<table><tr><th>&nbsp;</th><th>core type</th><th>sub-expressions</th><th>expression</th></tr>\n",
       "<tr><td>0</td><td>ExprTuple</td><td>1</td><td><a class=\"ProveItLink\" href=\"expr.ipynb\"><img src=\"expr.png\" style=\"display:inline;vertical-align:middle;\" /></a></td></tr>\n",
       "<tr><td>1</td><td>Lambda</td><td>parameter:&nbsp;47<br>body:&nbsp;2<br></td><td><a class=\"ProveItLink\" href=\"../33f4e8274f498e805f4369204731cb8e8ec9158e0/expr.ipynb\"><img src=\"../33f4e8274f498e805f4369204731cb8e8ec9158e0/expr.png\" style=\"display:inline;vertical-align:middle;\" /></a></td></tr>\n",
       "<tr><td>2</td><td>Conditional</td><td>value:&nbsp;3<br>condition:&nbsp;4<br></td><td><a class=\"ProveItLink\" href=\"../6b1db9a9611ed7a0011fbddc6833ab27d442bebb0/expr.ipynb\"><img src=\"../6b1db9a9611ed7a0011fbddc6833ab27d442bebb0/expr.png\" style=\"display:inline;vertical-align:middle;\" /></a></td></tr>\n",
       "<tr><td>3</td><td>Operation</td><td>operator:&nbsp;5<br>operand:&nbsp;8<br></td><td><a class=\"ProveItLink\" href=\"../4f7fccda958115a6619924dd5d413e74064b20140/expr.ipynb\"><img src=\"../4f7fccda958115a6619924dd5d413e74064b20140/expr.png\" style=\"display:inline;vertical-align:middle;\" /></a></td></tr>\n",
       "<tr><td>4</td><td>Operation</td><td>operator:&nbsp;43<br>operands:&nbsp;7<br></td><td><a class=\"ProveItLink\" href=\"../ae59bd0f03e1fa8f7acebab16a13247bdc6eea470/expr.ipynb\"><img src=\"../ae59bd0f03e1fa8f7acebab16a13247bdc6eea470/expr.png\" style=\"display:inline;vertical-align:middle;\" /></a></td></tr>\n",
       "<tr><td>5</td><td>Literal</td><td></td><td><a class=\"ProveItLink\" href=\"../../../../../booleans/quantification/universality/__pv_it/common/684d35ba98fcbf8ca5011f865e530a51e77730630/expr.ipynb\"><img src=\"../../../../../booleans/quantification/universality/__pv_it/common/684d35ba98fcbf8ca5011f865e530a51e77730630/expr.png\" style=\"display:inline;vertical-align:middle;\" /></a></td></tr>\n",
       "<tr><td>6</td><td>ExprTuple</td><td>8</td><td><a class=\"ProveItLink\" href=\"../8ebebbab4f8343df53d72d675aff0aa1eaed03d80/expr.ipynb\"><img src=\"../8ebebbab4f8343df53d72d675aff0aa1eaed03d80/expr.png\" style=\"display:inline;vertical-align:middle;\" /></a></td></tr>\n",
       "<tr><td>7</td><td>ExprTuple</td><td>47, 9</td><td><a class=\"ProveItLink\" href=\"../080dd91cc3570be1095df8a1115684c8dda0284e0/expr.ipynb\"><img src=\"../080dd91cc3570be1095df8a1115684c8dda0284e0/expr.png\" style=\"display:inline;vertical-align:middle;\" /></a></td></tr>\n",
       "<tr><td>8</td><td>Lambda</td><td>parameters:&nbsp;10<br>body:&nbsp;11<br></td><td><a class=\"ProveItLink\" href=\"../e6943c3f4dbdbb277d1bd177238f102033c8ba890/expr.ipynb\"><img src=\"../e6943c3f4dbdbb277d1bd177238f102033c8ba890/expr.png\" style=\"display:inline;vertical-align:middle;\" /></a></td></tr>\n",
       "<tr><td>9</td><td>Literal</td><td></td><td><a class=\"ProveItLink\" href=\"../../../../../../numbers/number_sets/natural_numbers/__pv_it/common/a2a7252783c385c028dad802e97575c19e456b990/expr.ipynb\"><img src=\"../../../../../../numbers/number_sets/natural_numbers/__pv_it/common/a2a7252783c385c028dad802e97575c19e456b990/expr.png\" style=\"display:inline;vertical-align:middle;\" /></a></td></tr>\n",
       "<tr><td>10</td><td>ExprTuple</td><td>12, 39, 35, 31</td><td><a class=\"ProveItLink\" href=\"../b9acef04b3a148403f8a5c27358aefa1aca47e350/expr.ipynb\"><img src=\"../b9acef04b3a148403f8a5c27358aefa1aca47e350/expr.png\" style=\"display:inline;vertical-align:middle;\" /></a></td></tr>\n",
       "<tr><td>11</td><td>Operation</td><td>operator:&nbsp;13<br>operands:&nbsp;14<br></td><td><a class=\"ProveItLink\" href=\"../9ed93a973c9eeff04644deb9a1720418da52880f0/expr.ipynb\"><img src=\"../9ed93a973c9eeff04644deb9a1720418da52880f0/expr.png\" style=\"display:inline;vertical-align:middle;\" /></a></td></tr>\n",
       "<tr><td>12</td><td>ExprRange</td><td>lambda_map:&nbsp;15<br>start_index:&nbsp;46<br>end_index:&nbsp;47<br></td><td><a class=\"ProveItLink\" href=\"../../../../../../core_expr_types/__pv_it/common/6eb673f87788b5497e10bf2028bfa7f6acd85ca20/expr.ipynb\"><img src=\"../../../../../../core_expr_types/__pv_it/common/6eb673f87788b5497e10bf2028bfa7f6acd85ca20/expr.png\" style=\"display:inline;vertical-align:middle;\" /></a></td></tr>\n",
       "<tr><td>13</td><td>Literal</td><td></td><td><a class=\"ProveItLink\" href=\"../../../../../equality/__pv_it/common/731dd3955b346c1320ed5c0ba7a618bcda61457d0/expr.ipynb\"><img src=\"../../../../../equality/__pv_it/common/731dd3955b346c1320ed5c0ba7a618bcda61457d0/expr.png\" style=\"display:inline;vertical-align:middle;\" /></a></td></tr>\n",
       "<tr><td>14</td><td>ExprTuple</td><td>16, 17</td><td><a class=\"ProveItLink\" href=\"../a271efc4e89be3ce0ecc16ba54aa1f5c79ca7ad10/expr.ipynb\"><img src=\"../a271efc4e89be3ce0ecc16ba54aa1f5c79ca7ad10/expr.png\" style=\"display:inline;vertical-align:middle;\" /></a></td></tr>\n",
       "<tr><td>15</td><td>Lambda</td><td>parameter:&nbsp;53<br>body:&nbsp;48<br></td><td><a class=\"ProveItLink\" href=\"../../../../../../core_expr_types/__pv_it/common/c8442b5db0d3394fa59a6ddc005465171188b91b0/expr.ipynb\"><img src=\"../../../../../../core_expr_types/__pv_it/common/c8442b5db0d3394fa59a6ddc005465171188b91b0/expr.png\" style=\"display:inline;vertical-align:middle;\" /></a></td></tr>\n",
       "<tr><td>16</td><td>Operation</td><td>operator:&nbsp;43<br>operands:&nbsp;18<br></td><td><a class=\"ProveItLink\" href=\"../da1dc3afb59f627ab369b1f8012b21a7529ffe5b0/expr.ipynb\"><img src=\"../da1dc3afb59f627ab369b1f8012b21a7529ffe5b0/expr.png\" style=\"display:inline;vertical-align:middle;\" /></a></td></tr>\n",
       "<tr><td>17</td><td>Operation</td><td>operator:&nbsp;19<br>operand:&nbsp;22<br></td><td><a class=\"ProveItLink\" href=\"../4ddf7a168b670c566625849b6ab55ee2c0660f7a0/expr.ipynb\"><img src=\"../4ddf7a168b670c566625849b6ab55ee2c0660f7a0/expr.png\" style=\"display:inline;vertical-align:middle;\" /></a></td></tr>\n",
       "<tr><td>18</td><td>ExprTuple</td><td>31, 21</td><td><a class=\"ProveItLink\" href=\"../cc512becf587a73ec22123fed6bed5891b3c7b000/expr.ipynb\"><img src=\"../cc512becf587a73ec22123fed6bed5891b3c7b000/expr.png\" style=\"display:inline;vertical-align:middle;\" /></a></td></tr>\n",
       "<tr><td>19</td><td>Literal</td><td></td><td><a class=\"ProveItLink\" href=\"../../../../../booleans/quantification/existence/__pv_it/common/9b6e04766908a750ceb2bcebb9ad722de073d35c0/expr.ipynb\"><img src=\"../../../../../booleans/quantification/existence/__pv_it/common/9b6e04766908a750ceb2bcebb9ad722de073d35c0/expr.png\" style=\"display:inline;vertical-align:middle;\" /></a></td></tr>\n",
       "<tr><td>20</td><td>ExprTuple</td><td>22</td><td><a class=\"ProveItLink\" href=\"../0021721a9f3c1bf7a2d1685a21ee9829ffcea7270/expr.ipynb\"><img src=\"../0021721a9f3c1bf7a2d1685a21ee9829ffcea7270/expr.png\" style=\"display:inline;vertical-align:middle;\" /></a></td></tr>\n",
       "<tr><td>21</td><td>Operation</td><td>operator:&nbsp;23<br>operand:&nbsp;26<br></td><td><a class=\"ProveItLink\" href=\"../../../../__pv_it/common/91cd758404bbfbfaaa054d96539c4b701fc5b75b0/expr.ipynb\"><img src=\"../../../../__pv_it/common/91cd758404bbfbfaaa054d96539c4b701fc5b75b0/expr.png\" style=\"display:inline;vertical-align:middle;\" /></a></td></tr>\n",
       "<tr><td>22</td><td>Lambda</td><td>parameters:&nbsp;40<br>body:&nbsp;25<br></td><td><a class=\"ProveItLink\" href=\"../b4677d4f7a8c5eae58cc5aab88290628b68ff0940/expr.ipynb\"><img src=\"../b4677d4f7a8c5eae58cc5aab88290628b68ff0940/expr.png\" style=\"display:inline;vertical-align:middle;\" /></a></td></tr>\n",
       "<tr><td>23</td><td>Literal</td><td></td><td><a class=\"ProveItLink\" href=\"../../common/fe63ceebba5eac11c6b0a3c8836ac8ed9e1972910/expr.ipynb\"><img src=\"../../common/fe63ceebba5eac11c6b0a3c8836ac8ed9e1972910/expr.png\" style=\"display:inline;vertical-align:middle;\" /></a></td></tr>\n",
       "<tr><td>24</td><td>ExprTuple</td><td>26</td><td><a class=\"ProveItLink\" href=\"../../../../__pv_it/common/de449864506ce3fa2fa46e4abacd4173e52bcdc10/expr.ipynb\"><img src=\"../../../../__pv_it/common/de449864506ce3fa2fa46e4abacd4173e52bcdc10/expr.png\" style=\"display:inline;vertical-align:middle;\" /></a></td></tr>\n",
       "<tr><td>25</td><td>Conditional</td><td>value:&nbsp;27<br>condition:&nbsp;30<br></td><td><a class=\"ProveItLink\" href=\"../f14120aa94117bac343091c6ef312483eacb89800/expr.ipynb\"><img src=\"../f14120aa94117bac343091c6ef312483eacb89800/expr.png\" style=\"display:inline;vertical-align:middle;\" /></a></td></tr>\n",
       "<tr><td>26</td><td>Lambda</td><td>parameters:&nbsp;40<br>body:&nbsp;28<br></td><td><a class=\"ProveItLink\" href=\"../../../../__pv_it/common/5a47a03f59d00e1ef55edb2666c0310a395dcac30/expr.ipynb\"><img src=\"../../../../__pv_it/common/5a47a03f59d00e1ef55edb2666c0310a395dcac30/expr.png\" style=\"display:inline;vertical-align:middle;\" /></a></td></tr>\n",
       "<tr><td>27</td><td>Operation</td><td>operator:&nbsp;43<br>operands:&nbsp;29<br></td><td><a class=\"ProveItLink\" href=\"../32aba36d895f2471afcc6cee23bedc2d820668dd0/expr.ipynb\"><img src=\"../32aba36d895f2471afcc6cee23bedc2d820668dd0/expr.png\" style=\"display:inline;vertical-align:middle;\" /></a></td></tr>\n",
       "<tr><td>28</td><td>Conditional</td><td>value:&nbsp;32<br>condition:&nbsp;30<br></td><td><a class=\"ProveItLink\" href=\"../../../../__pv_it/common/58d78f37c5947607131330407a92de788cd876860/expr.ipynb\"><img src=\"../../../../__pv_it/common/58d78f37c5947607131330407a92de788cd876860/expr.png\" style=\"display:inline;vertical-align:middle;\" /></a></td></tr>\n",
       "<tr><td>29</td><td>ExprTuple</td><td>31, 32</td><td><a class=\"ProveItLink\" href=\"../6d6a6c061a850c8133ec1d168629d5447f1802990/expr.ipynb\"><img src=\"../6d6a6c061a850c8133ec1d168629d5447f1802990/expr.png\" style=\"display:inline;vertical-align:middle;\" /></a></td></tr>\n",
       "<tr><td>30</td><td>Operation</td><td>operator:&nbsp;33<br>operands:&nbsp;34<br></td><td><a class=\"ProveItLink\" href=\"../../../../__pv_it/common/bae853b16a0d6937d7284a3611f004ebe83eb73c0/expr.ipynb\"><img src=\"../../../../__pv_it/common/bae853b16a0d6937d7284a3611f004ebe83eb73c0/expr.png\" style=\"display:inline;vertical-align:middle;\" /></a></td></tr>\n",
       "<tr><td>31</td><td>Variable</td><td></td><td><a class=\"ProveItLink\" href=\"../../../../../../__pv_it/common/a2581dc5df71d9a30bad37de14965fa5fec97a240/expr.ipynb\"><img src=\"../../../../../../__pv_it/common/a2581dc5df71d9a30bad37de14965fa5fec97a240/expr.png\" style=\"display:inline;vertical-align:middle;\" /></a></td></tr>\n",
       "<tr><td>32</td><td>Operation</td><td>operator:&nbsp;35<br>operands:&nbsp;40<br></td><td><a class=\"ProveItLink\" href=\"../../../../../../core_expr_types/__pv_it/common/9a5c3af79b940a90dbdc19b42b409acbb0bbcfd50/expr.ipynb\"><img src=\"../../../../../../core_expr_types/__pv_it/common/9a5c3af79b940a90dbdc19b42b409acbb0bbcfd50/expr.png\" style=\"display:inline;vertical-align:middle;\" /></a></td></tr>\n",
       "<tr><td>33</td><td>Literal</td><td></td><td><a class=\"ProveItLink\" href=\"../../../../../booleans/conjunction/__pv_it/common/26b94b53e70b1d77b70f0d9d4236347db37731060/expr.ipynb\"><img src=\"../../../../../booleans/conjunction/__pv_it/common/26b94b53e70b1d77b70f0d9d4236347db37731060/expr.png\" style=\"display:inline;vertical-align:middle;\" /></a></td></tr>\n",
       "<tr><td>34</td><td>ExprTuple</td><td>36, 37</td><td><a class=\"ProveItLink\" href=\"../../../../__pv_it/common/e20aac231bc867274a8580ff59352e4b56683c600/expr.ipynb\"><img src=\"../../../../__pv_it/common/e20aac231bc867274a8580ff59352e4b56683c600/expr.png\" style=\"display:inline;vertical-align:middle;\" /></a></td></tr>\n",
       "<tr><td>35</td><td>Variable</td><td></td><td><a class=\"ProveItLink\" href=\"../../../../../../__pv_it/common/75b77068be7a61a1f04d03fa34a8f6252f6605dd0/expr.ipynb\"><img src=\"../../../../../../__pv_it/common/75b77068be7a61a1f04d03fa34a8f6252f6605dd0/expr.png\" style=\"display:inline;vertical-align:middle;\" /></a></td></tr>\n",
       "<tr><td>36</td><td>ExprRange</td><td>lambda_map:&nbsp;38<br>start_index:&nbsp;46<br>end_index:&nbsp;47<br></td><td><a class=\"ProveItLink\" href=\"../../../../__pv_it/common/660e35c5820f17c931cc111aee84cee6e475a4fe0/expr.ipynb\"><img src=\"../../../../__pv_it/common/660e35c5820f17c931cc111aee84cee6e475a4fe0/expr.png\" style=\"display:inline;vertical-align:middle;\" /></a></td></tr>\n",
       "<tr><td>37</td><td>Operation</td><td>operator:&nbsp;39<br>operands:&nbsp;40<br></td><td><a class=\"ProveItLink\" href=\"../../../../../../core_expr_types/__pv_it/common/90c2130c86e621c95872d7ba9e877513c9092aaa0/expr.ipynb\"><img src=\"../../../../../../core_expr_types/__pv_it/common/90c2130c86e621c95872d7ba9e877513c9092aaa0/expr.png\" style=\"display:inline;vertical-align:middle;\" /></a></td></tr>\n",
       "<tr><td>38</td><td>Lambda</td><td>parameter:&nbsp;53<br>body:&nbsp;41<br></td><td><a class=\"ProveItLink\" href=\"../../../../__pv_it/common/e6aaaffb2d966b22a3f1ffa08a8cb6b4dd846f0f0/expr.ipynb\"><img src=\"../../../../__pv_it/common/e6aaaffb2d966b22a3f1ffa08a8cb6b4dd846f0f0/expr.png\" style=\"display:inline;vertical-align:middle;\" /></a></td></tr>\n",
       "<tr><td>39</td><td>Variable</td><td></td><td><a class=\"ProveItLink\" href=\"../../../../../../__pv_it/common/50527aea954422d65ebe44b8de200683294751540/expr.ipynb\"><img src=\"../../../../../../__pv_it/common/50527aea954422d65ebe44b8de200683294751540/expr.png\" style=\"display:inline;vertical-align:middle;\" /></a></td></tr>\n",
       "<tr><td>40</td><td>ExprTuple</td><td>42</td><td><a class=\"ProveItLink\" href=\"../../../../../../core_expr_types/__pv_it/common/34a946761b1de134871ee6cbf0f53773974067990/expr.ipynb\"><img src=\"../../../../../../core_expr_types/__pv_it/common/34a946761b1de134871ee6cbf0f53773974067990/expr.png\" style=\"display:inline;vertical-align:middle;\" /></a></td></tr>\n",
       "<tr><td>41</td><td>Operation</td><td>operator:&nbsp;43<br>operands:&nbsp;44<br></td><td><a class=\"ProveItLink\" href=\"../../../../__pv_it/common/921f62e345ea5fa05e4a0732f60d8a90f02f08370/expr.ipynb\"><img src=\"../../../../__pv_it/common/921f62e345ea5fa05e4a0732f60d8a90f02f08370/expr.png\" style=\"display:inline;vertical-align:middle;\" /></a></td></tr>\n",
       "<tr><td>42</td><td>ExprRange</td><td>lambda_map:&nbsp;45<br>start_index:&nbsp;46<br>end_index:&nbsp;47<br></td><td><a class=\"ProveItLink\" href=\"../../../../../../core_expr_types/__pv_it/common/d4ccfa4c92b5be548893c8e9f8a96b24fc2db46d0/expr.ipynb\"><img src=\"../../../../../../core_expr_types/__pv_it/common/d4ccfa4c92b5be548893c8e9f8a96b24fc2db46d0/expr.png\" style=\"display:inline;vertical-align:middle;\" /></a></td></tr>\n",
       "<tr><td>43</td><td>Literal</td><td></td><td><a class=\"ProveItLink\" href=\"../../../../membership/__pv_it/common/7171deca84f71f47a6ec7696972d1632274a12880/expr.ipynb\"><img src=\"../../../../membership/__pv_it/common/7171deca84f71f47a6ec7696972d1632274a12880/expr.png\" style=\"display:inline;vertical-align:middle;\" /></a></td></tr>\n",
       "<tr><td>44</td><td>ExprTuple</td><td>49, 48</td><td><a class=\"ProveItLink\" href=\"../../../../__pv_it/common/17c2ca590f288b7e3ea54bebeebeed67b5c709620/expr.ipynb\"><img src=\"../../../../__pv_it/common/17c2ca590f288b7e3ea54bebeebeed67b5c709620/expr.png\" style=\"display:inline;vertical-align:middle;\" /></a></td></tr>\n",
       "<tr><td>45</td><td>Lambda</td><td>parameter:&nbsp;53<br>body:&nbsp;49<br></td><td><a class=\"ProveItLink\" href=\"../../../../../../core_expr_types/__pv_it/common/e85c6dca3c2891a25500913ce6fa75404b16995d0/expr.ipynb\"><img src=\"../../../../../../core_expr_types/__pv_it/common/e85c6dca3c2891a25500913ce6fa75404b16995d0/expr.png\" style=\"display:inline;vertical-align:middle;\" /></a></td></tr>\n",
       "<tr><td>46</td><td>Literal</td><td></td><td><a class=\"ProveItLink\" href=\"../../../../../../numbers/numerals/__pv_it/common/d278e359da0695d9652dd541d45264f93703e2e40/expr.ipynb\"><img src=\"../../../../../../numbers/numerals/__pv_it/common/d278e359da0695d9652dd541d45264f93703e2e40/expr.png\" style=\"display:inline;vertical-align:middle;\" /></a></td></tr>\n",
       "<tr><td>47</td><td>Variable</td><td></td><td><a class=\"ProveItLink\" href=\"../../../../../../__pv_it/common/6165c9bb82ce3c7097cdba4440a1aeeb6eaca8a40/expr.ipynb\"><img src=\"../../../../../../__pv_it/common/6165c9bb82ce3c7097cdba4440a1aeeb6eaca8a40/expr.png\" style=\"display:inline;vertical-align:middle;\" /></a></td></tr>\n",
       "<tr><td>48</td><td>IndexedVar</td><td>variable:&nbsp;50<br>index:&nbsp;53<br></td><td><a class=\"ProveItLink\" href=\"../../../../../../core_expr_types/__pv_it/common/9ae62306c0350232439fc7dabd61da10fd45e91a0/expr.ipynb\"><img src=\"../../../../../../core_expr_types/__pv_it/common/9ae62306c0350232439fc7dabd61da10fd45e91a0/expr.png\" style=\"display:inline;vertical-align:middle;\" /></a></td></tr>\n",
       "<tr><td>49</td><td>IndexedVar</td><td>variable:&nbsp;51<br>index:&nbsp;53<br></td><td><a class=\"ProveItLink\" href=\"../../../../../../core_expr_types/__pv_it/common/cfe245429f738680263dd9e15adfb363654edf9a0/expr.ipynb\"><img src=\"../../../../../../core_expr_types/__pv_it/common/cfe245429f738680263dd9e15adfb363654edf9a0/expr.png\" style=\"display:inline;vertical-align:middle;\" /></a></td></tr>\n",
       "<tr><td>50</td><td>Variable</td><td></td><td><a class=\"ProveItLink\" href=\"../../../../../../__pv_it/common/259d0846cd49c4882c35ec84d7a0b180713721cc0/expr.ipynb\"><img src=\"../../../../../../__pv_it/common/259d0846cd49c4882c35ec84d7a0b180713721cc0/expr.png\" style=\"display:inline;vertical-align:middle;\" /></a></td></tr>\n",
       "<tr><td>51</td><td>Variable</td><td></td><td><a class=\"ProveItLink\" href=\"../../../../../../__pv_it/common/0f21cbfd5644a1cae6781c1d58354abc2ffbc9000/expr.ipynb\"><img src=\"../../../../../../__pv_it/common/0f21cbfd5644a1cae6781c1d58354abc2ffbc9000/expr.png\" style=\"display:inline;vertical-align:middle;\" /></a></td></tr>\n",
       "<tr><td>52</td><td>ExprTuple</td><td>53</td><td><a class=\"ProveItLink\" href=\"../../../../../../core_expr_types/__pv_it/common/ecf50ade416ab41c42c9f4e777b4c862cd9469670/expr.ipynb\"><img src=\"../../../../../../core_expr_types/__pv_it/common/ecf50ade416ab41c42c9f4e777b4c862cd9469670/expr.png\" style=\"display:inline;vertical-align:middle;\" /></a></td></tr>\n",
       "<tr><td>53</td><td>Variable</td><td></td><td><a class=\"ProveItLink\" href=\"../../../../../../core_expr_types/__pv_it/common/9e6d9d5d7eeb0342cf5bca68def0eb165a1a9bb10/expr.ipynb\"><img src=\"../../../../../../core_expr_types/__pv_it/common/9e6d9d5d7eeb0342cf5bca68def0eb165a1a9bb10/expr.png\" style=\"display:inline;vertical-align:middle;\" /></a></td></tr>\n",
       "</table>\n"
      ],
      "text/plain": [
       "0. (n -> {forall_{S_{1}, ..S_{_a}.., S_{n}, Q, R, x} ((x in [union_of_all_{y_{1} in S_{1}, ..y_{_a} in S_{_a}.., y_{n} in S_{n} | Q(y_{1}, ..y_{_a}.., y_{n})} R(y_{1}, ..y_{_a}.., y_{n})]) \\\\  = [exists_{y_{1} in S_{1}, ..y_{_a} in S_{_a}.., y_{n} in S_{n} | Q(y_{1}, ..y_{_a}.., y_{n})} (x in R(y_{1}, ..y_{_a}.., y_{n}))]) if n in NaturalPos.)\n",
       "   core type: ExprTuple\n",
       "   sub-expressions: 1\n",
       "1. n -> {forall_{S_{1}, ..S_{_a}.., S_{n}, Q, R, x} ((x in [union_of_all_{y_{1} in S_{1}, ..y_{_a} in S_{_a}.., y_{n} in S_{n} | Q(y_{1}, ..y_{_a}.., y_{n})} R(y_{1}, ..y_{_a}.., y_{n})]) \\\\  = [exists_{y_{1} in S_{1}, ..y_{_a} in S_{_a}.., y_{n} in S_{n} | Q(y_{1}, ..y_{_a}.., y_{n})} (x in R(y_{1}, ..y_{_a}.., y_{n}))]) if n in NaturalPos.\n",
       "   core type: Lambda\n",
       "   parameter: 47\n",
       "   body: 2\n",
       "2. {forall_{S_{1}, ..S_{_a}.., S_{n}, Q, R, x} ((x in [union_of_all_{y_{1} in S_{1}, ..y_{_a} in S_{_a}.., y_{n} in S_{n} | Q(y_{1}, ..y_{_a}.., y_{n})} R(y_{1}, ..y_{_a}.., y_{n})]) \\\\  = [exists_{y_{1} in S_{1}, ..y_{_a} in S_{_a}.., y_{n} in S_{n} | Q(y_{1}, ..y_{_a}.., y_{n})} (x in R(y_{1}, ..y_{_a}.., y_{n}))]) if n in NaturalPos.\n",
       "   core type: Conditional\n",
       "   value: 3\n",
       "   condition: 4\n",
       "3. forall_{S_{1}, ..S_{_a}.., S_{n}, Q, R, x} ((x in [union_of_all_{y_{1} in S_{1}, ..y_{_a} in S_{_a}.., y_{n} in S_{n} | Q(y_{1}, ..y_{_a}.., y_{n})} R(y_{1}, ..y_{_a}.., y_{n})]) \\\\  = [exists_{y_{1} in S_{1}, ..y_{_a} in S_{_a}.., y_{n} in S_{n} | Q(y_{1}, ..y_{_a}.., y_{n})} (x in R(y_{1}, ..y_{_a}.., y_{n}))])\n",
       "   core type: Operation\n",
       "   operator: 5\n",
       "   operand: 8\n",
       "4. n in NaturalPos\n",
       "   core type: Operation\n",
       "   operator: 43\n",
       "   operands: 7\n",
       "5. forall\n",
       "   core type: Literal\n",
       "   sub-expressions: \n",
       "6. ((S_{1}, ..S_{_a}.., S_{n}, Q, R, x) -> ((x in [union_of_all_{y_{1} in S_{1}, ..y_{_a} in S_{_a}.., y_{n} in S_{n} | Q(y_{1}, ..y_{_a}.., y_{n})} R(y_{1}, ..y_{_a}.., y_{n})]) \\\\  = [exists_{y_{1} in S_{1}, ..y_{_a} in S_{_a}.., y_{n} in S_{n} | Q(y_{1}, ..y_{_a}.., y_{n})} (x in R(y_{1}, ..y_{_a}.., y_{n}))]))\n",
       "   core type: ExprTuple\n",
       "   sub-expressions: 8\n",
       "7. (n, NaturalPos)\n",
       "   core type: ExprTuple\n",
       "   sub-expressions: 47, 9\n",
       "8. (S_{1}, ..S_{_a}.., S_{n}, Q, R, x) -> ((x in [union_of_all_{y_{1} in S_{1}, ..y_{_a} in S_{_a}.., y_{n} in S_{n} | Q(y_{1}, ..y_{_a}.., y_{n})} R(y_{1}, ..y_{_a}.., y_{n})]) \\\\  = [exists_{y_{1} in S_{1}, ..y_{_a} in S_{_a}.., y_{n} in S_{n} | Q(y_{1}, ..y_{_a}.., y_{n})} (x in R(y_{1}, ..y_{_a}.., y_{n}))])\n",
       "   core type: Lambda\n",
       "   parameters: 10\\n   body: 11\n",
       "9. NaturalPos\n",
       "   core type: Literal\n",
       "   sub-expressions: \n",
       "10. (S_{1}, ..S_{_a}.., S_{n}, Q, R, x)\n",
       "    core type: ExprTuple\n",
       "    sub-expressions: 12, 39, 35, 31\n",
       "11. (x in [union_of_all_{y_{1} in S_{1}, ..y_{_a} in S_{_a}.., y_{n} in S_{n} | Q(y_{1}, ..y_{_a}.., y_{n})} R(y_{1}, ..y_{_a}.., y_{n})]) \\\\  = [exists_{y_{1} in S_{1}, ..y_{_a} in S_{_a}.., y_{n} in S_{n} | Q(y_{1}, ..y_{_a}.., y_{n})} (x in R(y_{1}, ..y_{_a}.., y_{n}))]\n",
       "    core type: Operation\n",
       "    operator: 13\n",
       "    operands: 14\n",
       "12. S_{1}, ..S_{_a}.., S_{n}\n",
       "    core type: ExprRange\n",
       "    lambda_map: 15\n",
       "    start_index: 46\n",
       "    end_index: 47\n",
       "13. =\n",
       "    core type: Literal\n",
       "    sub-expressions: \n",
       "14. (x in [union_of_all_{y_{1} in S_{1}, ..y_{_a} in S_{_a}.., y_{n} in S_{n} | Q(y_{1}, ..y_{_a}.., y_{n})} R(y_{1}, ..y_{_a}.., y_{n})], exists_{y_{1} in S_{1}, ..y_{_a} in S_{_a}.., y_{n} in S_{n} | Q(y_{1}, ..y_{_a}.., y_{n})} (x in R(y_{1}, ..y_{_a}.., y_{n})))\n",
       "    core type: ExprTuple\n",
       "    sub-expressions: 16, 17\n",
       "15. _a -> S_{_a}\n",
       "    core type: Lambda\n",
       "    parameter: 53\n",
       "    body: 48\n",
       "16. x in [union_of_all_{y_{1} in S_{1}, ..y_{_a} in S_{_a}.., y_{n} in S_{n} | Q(y_{1}, ..y_{_a}.., y_{n})} R(y_{1}, ..y_{_a}.., y_{n})]\n",
       "    core type: Operation\n",
       "    operator: 43\n",
       "    operands: 18\n",
       "17. exists_{y_{1} in S_{1}, ..y_{_a} in S_{_a}.., y_{n} in S_{n} | Q(y_{1}, ..y_{_a}.., y_{n})} (x in R(y_{1}, ..y_{_a}.., y_{n}))\n",
       "    core type: Operation\n",
       "    operator: 19\n",
       "    operand: 22\n",
       "18. (x, union_of_all_{y_{1} in S_{1}, ..y_{_a} in S_{_a}.., y_{n} in S_{n} | Q(y_{1}, ..y_{_a}.., y_{n})} R(y_{1}, ..y_{_a}.., y_{n}))\n",
       "    core type: ExprTuple\n",
       "    sub-expressions: 31, 21\n",
       "19. exists\n",
       "    core type: Literal\n",
       "    sub-expressions: \n",
       "20. ((y_{1}, ..y_{_a}.., y_{n}) -> {x in R(y_{1}, ..y_{_a}.., y_{n}) if y_{1} in S_{1} ,  ..y_{_a} in S_{_a}.. ,  y_{n} in S_{n} ,  Q(y_{1}, ..y_{_a}.., y_{n}).)\n",
       "    core type: ExprTuple\n",
       "    sub-expressions: 22\n",
       "21. union_of_all_{y_{1} in S_{1}, ..y_{_a} in S_{_a}.., y_{n} in S_{n} | Q(y_{1}, ..y_{_a}.., y_{n})} R(y_{1}, ..y_{_a}.., y_{n})\n",
       "    core type: Operation\n",
       "    operator: 23\n",
       "    operand: 26\n",
       "22. (y_{1}, ..y_{_a}.., y_{n}) -> {x in R(y_{1}, ..y_{_a}.., y_{n}) if y_{1} in S_{1} ,  ..y_{_a} in S_{_a}.. ,  y_{n} in S_{n} ,  Q(y_{1}, ..y_{_a}.., y_{n}).\n",
       "    core type: Lambda\n",
       "    parameters: 40\\n    body: 25\n",
       "23. union_of_all\n",
       "    core type: Literal\n",
       "    sub-expressions: \n",
       "24. ((y_{1}, ..y_{_a}.., y_{n}) -> {R(y_{1}, ..y_{_a}.., y_{n}) if y_{1} in S_{1} ,  ..y_{_a} in S_{_a}.. ,  y_{n} in S_{n} ,  Q(y_{1}, ..y_{_a}.., y_{n}).)\n",
       "    core type: ExprTuple\n",
       "    sub-expressions: 26\n",
       "25. {x in R(y_{1}, ..y_{_a}.., y_{n}) if y_{1} in S_{1} ,  ..y_{_a} in S_{_a}.. ,  y_{n} in S_{n} ,  Q(y_{1}, ..y_{_a}.., y_{n}).\n",
       "    core type: Conditional\n",
       "    value: 27\n",
       "    condition: 30\n",
       "26. (y_{1}, ..y_{_a}.., y_{n}) -> {R(y_{1}, ..y_{_a}.., y_{n}) if y_{1} in S_{1} ,  ..y_{_a} in S_{_a}.. ,  y_{n} in S_{n} ,  Q(y_{1}, ..y_{_a}.., y_{n}).\n",
       "    core type: Lambda\n",
       "    parameters: 40\\n    body: 28\n",
       "27. x in R(y_{1}, ..y_{_a}.., y_{n})\n",
       "    core type: Operation\n",
       "    operator: 43\n",
       "    operands: 29\n",
       "28. {R(y_{1}, ..y_{_a}.., y_{n}) if y_{1} in S_{1} ,  ..y_{_a} in S_{_a}.. ,  y_{n} in S_{n} ,  Q(y_{1}, ..y_{_a}.., y_{n}).\n",
       "    core type: Conditional\n",
       "    value: 32\n",
       "    condition: 30\n",
       "29. (x, R(y_{1}, ..y_{_a}.., y_{n}))\n",
       "    core type: ExprTuple\n",
       "    sub-expressions: 31, 32\n",
       "30. (y_{1} in S_{1}) and ..(y_{_a} in S_{_a}).. and (y_{n} in S_{n}) and Q(y_{1}, ..y_{_a}.., y_{n})\n",
       "    core type: Operation\n",
       "    operator: 33\n",
       "    operands: 34\n",
       "31. x\n",
       "    core type: Variable\n",
       "    sub-expressions: \n",
       "32. R(y_{1}, ..y_{_a}.., y_{n})\n",
       "    core type: Operation\n",
       "    operator: 35\n",
       "    operands: 40\n",
       "33. and\n",
       "    core type: Literal\n",
       "    sub-expressions: \n",
       "34. (y_{1} in S_{1}, ..y_{_a} in S_{_a}.., y_{n} in S_{n}, Q(y_{1}, ..y_{_a}.., y_{n}))\n",
       "    core type: ExprTuple\n",
       "    sub-expressions: 36, 37\n",
       "35. R\n",
       "    core type: Variable\n",
       "    sub-expressions: \n",
       "36. (y_{1} in S_{1}), ..(y_{_a} in S_{_a}).., (y_{n} in S_{n})\n",
       "    core type: ExprRange\n",
       "    lambda_map: 38\n",
       "    start_index: 46\n",
       "    end_index: 47\n",
       "37. Q(y_{1}, ..y_{_a}.., y_{n})\n",
       "    core type: Operation\n",
       "    operator: 39\n",
       "    operands: 40\n",
       "38. _a -> (y_{_a} in S_{_a})\n",
       "    core type: Lambda\n",
       "    parameter: 53\n",
       "    body: 41\n",
       "39. Q\n",
       "    core type: Variable\n",
       "    sub-expressions: \n",
       "40. (y_{1}, ..y_{_a}.., y_{n})\n",
       "    core type: ExprTuple\n",
       "    sub-expressions: 42\n",
       "41. y_{_a} in S_{_a}\n",
       "    core type: Operation\n",
       "    operator: 43\n",
       "    operands: 44\n",
       "42. y_{1}, ..y_{_a}.., y_{n}\n",
       "    core type: ExprRange\n",
       "    lambda_map: 45\n",
       "    start_index: 46\n",
       "    end_index: 47\n",
       "43. in\n",
       "    core type: Literal\n",
       "    sub-expressions: \n",
       "44. (y_{_a}, S_{_a})\n",
       "    core type: ExprTuple\n",
       "    sub-expressions: 49, 48\n",
       "45. _a -> y_{_a}\n",
       "    core type: Lambda\n",
       "    parameter: 53\n",
       "    body: 49\n",
       "46. 1\n",
       "    core type: Literal\n",
       "    sub-expressions: \n",
       "47. n\n",
       "    core type: Variable\n",
       "    sub-expressions: \n",
       "48. S_{_a}\n",
       "    core type: IndexedVar\n",
       "variable: 50\n",
       "index: 53\n",
       "49. y_{_a}\n",
       "    core type: IndexedVar\n",
       "variable: 51\n",
       "index: 53\n",
       "50. S\n",
       "    core type: Variable\n",
       "    sub-expressions: \n",
       "51. y\n",
       "    core type: Variable\n",
       "    sub-expressions: \n",
       "52. (_a)\n",
       "    core type: ExprTuple\n",
       "    sub-expressions: 53\n",
       "53. _a\n",
       "    core type: Variable\n",
       "    sub-expressions: "
      ]
     },
     "execution_count": 6,
     "metadata": {},
     "output_type": "execute_result"
    }
   ],
   "source": [
    "# display the expression information\n",
    "expr.expr_info()"
   ]
  },
  {
   "cell_type": "code",
   "execution_count": null,
   "metadata": {},
   "outputs": [],
   "source": []
  }
 ],
 "metadata": {
  "kernelspec": {
   "display_name": "Python 3",
   "language": "python",
   "name": "python3"
  }
 },
 "nbformat": 4,
 "nbformat_minor": 0
}