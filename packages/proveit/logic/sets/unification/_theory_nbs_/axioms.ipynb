{
 "cells": [
  {
   "cell_type": "markdown",
   "metadata": {},
   "source": [
    "Axioms for the theory of <a class=\"ProveItLink\" href=\"theory.ipynb\">proveit.logic.sets.unification</a>\n",
    "========"
   ]
  },
  {
   "cell_type": "code",
   "execution_count": 1,
   "metadata": {},
   "outputs": [
    {
     "name": "stdout",
     "output_type": "stream",
     "text": [
      "Defining axioms for theory 'proveit.logic.sets.unification'\n",
      "Subsequent end-of-cell assignments will define axioms\n",
      "%end_axioms will finalize the definitions\n"
     ]
    }
   ],
   "source": [
    "import proveit\n",
    "# Prepare this notebook for defining the axioms of a theory:\n",
    "%axioms_notebook # Keep this at the top following 'import proveit'.\n",
    "from proveit.logic import Forall, Exists, Or, Equals, InSet, Union\n",
    "from proveit import m, n, x, Q, R\n",
    "from proveit.core_expr_types import y_1_to_n, A_1_to_m, Q__y_1_to_n, R__y_1_to_n, S_1_to_n\n",
    "from proveit.logic.sets import x_in_any_A, general_unionall_Ryn\n",
    "from proveit.numbers import NaturalPos\n",
    "%begin axioms"
   ]
  },
  {
   "cell_type": "markdown",
   "metadata": {},
   "source": [
    "**Membership in the union of sets is the same as having membership in *any* of the sets being unified:**"
   ]
  },
  {
   "cell_type": "code",
   "execution_count": 2,
   "metadata": {},
   "outputs": [
    {
     "data": {
      "text/html": [
       "<strong id=\"union_def\">union_def:</strong> <a class=\"ProveItLink\" href=\"../__pv_it/axioms/e65dcebb529042fcc7e4e55f3e3a31ccf600cdf50/axiom_expr.ipynb\"><img src=\"data:image/png;base64,iVBORw0KGgoAAAANSUhEUgAAAgYAAAAyBAMAAADVZQ4BAAAAMFBMVEX///8QEBCIiIhmZma6urrM\n",
       "zMxUVFQiIiJERETc3Nzu7u6qqqp2dnaYmJgyMjIAAAAcRTyBAAAAAXRSTlMAQObYZgAACFBJREFU\n",
       "aN7VW3tsU1UY/9b29t2xPwaKRGyGmUpM1jiEhEeoGiUaHx2JgCG6hUcUYrRIAgpIatSwgWY1MTIw\n",
       "ugpmKJpZXXxgMFTQxEwjDYOIMUITxMgSocCAMRjz3PNo7zn33HJK4804yXfu69zTe373O9/5vu93\n",
       "C6BUbhm5DJWUH2C0FX8L2e4fOa14x4QtWyv5wWBm1GEAj5LNx1s+V7xhbGW/V88fvidt5MtWOqxd\n",
       "VJRKKEd3mmzBIFDDq2FC2uojsnmqvL61XHHfnSSiVt6wFYMPotxhtfwxT5DNqSJWuE6ZGqaKF1Fn\n",
       "eQO4OSLlPZU9GLzKH/bJdTNCNqcKg67GtXlMueJFgCNDhit7qZSlnbZgEBjij1/ijg6vXo0H5SHa\n",
       "8cnsgpZ4cB039RcvXgR/z0Xjq6WiVtbZiIEnwts+blQLJtOdzWSTbYiWg0HIMWCcZVEiamVP0j4M\n",
       "jvLz34Eg8dctuxcrrb+fnZ6Ea1dqT7YcDB4KDBvX4AiRst6NLRi8yB960SA/hd/C65kpJ+VNXH8I\n",
       "zWFk7BOKGPij2hlhvSNr3q8n9XKs9Oo4ZBsG2oAAfxqgF/anHsSAFE6vxXUUOiOgNcYVMXCB76zR\n",
       "8sSJKLqKZ2zDwMl7B1AV1Ze3VmqQ9NeF31wtxmtx4/NIB1yqGMxrnDpohDtPRLGctA2DqhYzBgBU\n",
       "hTsKp2vJe4WqXBkYoK4mXjsGDUm7MGjOmucCaOcoIPxcQJc8NQyDaub3yPyDbqz7SFYgh+NQXaRu\n",
       "KZD7yL3EHvxd+sk6s3Zh0JA028RvHXnAi6IzbLSJvjRx/Mg4nLrCBMxmfope9ejVu8SvPHgzjEvV\n",
       "czaxDA21A4NXxCAyAq5L3jwNkday0/uoj+C9yDDwH9fDO+Q2+q+gnc9yrOqOoRb9zNNoT/q2xWEA\n",
       "ZuqoZYgoFm+cYIBR+1MBA7WGknKjcIwG6F80eRLtqus16hvPQVHTSD8E2i9EKAbw/qbHv9qo76zS\n",
       "p1ALq3z/fLnwGR2a9isp+GZkJbjDWg0GszpGRDWkzxMMftY3/QoYqDWUrEBnxTO8r/zwBs5XZjDh\n",
       "MrfxDulqO+kubn5VxRwJXx6NfQcQUQ2fzxEMdMPsSyhgoNZQ8sBnxDMlY6bCOl9G6USaEEpkyoyZ\n",
       "2KM1QTVSqmBaAQO1hpKI6ZJpGspj57ZiRDHtfLicn3gAheO+Z1Nlxs5MRZsg1Ltz52YVm6jW0Erh\n",
       "1HMoFRQdXG+yjBvO03VhsLV1ndK6oNTQXBwXTaf+r1za71SUyyDFYKlRCzmrKWAgNmyzfBd8N0Mw\n",
       "astEisF9VlPIKWAgNAwNyANlMXx3jmIMbqAYeMAhKOH8mVHHODMGQsPtw1IzM1vUaHd+9GKwgmIQ\n",
       "zHqMY9jdmA0kemG6GQO+IfSulE6gHZHrEANfbp4xu7drJwQOOCETbJzWOIPDgDTce3c9dsS0cKus\n",
       "17nexHU0F1azeKFtCZrcs+ZOcqDBufS3GFj4RDhj1gPc0JF6zoNnvBumoSol9triFN2boHxdeO9q\n",
       "z6dMlqisJ4EkEQubCD3oqUP3ZKuWO1pIuBqI9R6SYaA31OBfcuYPaADtexGDUNohqr5D6h/4LT1O\n",
       "xrEokyWWfoWRfllGhS/jGAZjkE+29TYYE0UR13aCQVBPTJowGIOdN/Ja/cd+aU+BR8Sge+ZPouqb\n",
       "1w+dY6m2HCHjWMgipOF9cxgUK148YdWTkX7pZikHrpxlGIT0gSxCu540zG9tbQ0HYr5sXIIBbqjl\n",
       "8S87U9AZM2MwHXznoO+7voU/FtVwQBYv9Fm6lQWOBTv+bn2wIbPnrGdM4IAYZ/DFSL8Ew0R4hbzM\n",
       "5Q/Gwu3QqaFZjvUA7g8zlIX8QWcwF4SOFDyC1CKLMehI+TbiCm1caGoOwxe5qvTuokYOy+JGOc8C\n",
       "Ro4FkyUajphNZgewHV8jxptcTxz94q8hIo2ZqF3JI004HIQghj0KoYxFDqXr4N5eaEp7B8HX/jJ+\n",
       "uKa0Nh6aktp4bQK0J6DjQtYd20FyPQaFM9qwuCXPAkaOhZAlJ7B3BrL5hA04bLbqiadf/qJiDucY\n",
       "Bq4W9GPv9AJs0rMZqG1LyTwSCx/xCyrEkgF2FnogXoww14tGMmLJs3AcCyFLeuReuZ5iI265zs1s\n",
       "q3/7zrDQk0C/7KNiXrJMuTQHsgdXzaWxVUZrmGFccthq1gW3wqKihs4Gcz7RgmfhOBaSGPQwxsWc\n",
       "XF7A8pD+TOgFT07oSaBfjlAxu2/Xlk8MyQ8s1umjKXNe2YJn4TgWkkhxhMEdlfRaB7CEJSSDqeCQ\n",
       "Kyn0JNAvX1Ph8k8Ju3KqzULiRecXLHgWjmMhRIE/LlnTcMqMRnC1+rcI1Ds19CTSL81UuPxT2C4M\n",
       "ZByLBc/CcSyULJlBMpmmqDZNk1q1RdfF2JNIv8gwsI9jceblc0HCs3AcC0sugzS56MvRCA4n55tj\n",
       "Yk8i/TKHirFsALswcA3IbaKEZ+E4FkqWeJ+U5xZfPwDMJgZSDSiQ4Xoy0S8ym2gf5wpCkE0/EpDx\n",
       "LBzHQskS7WlsUzHPUiRb0HxfU1j0Hku30xhsrdEJ4egXJsY10D7uXVwYKCko4Vl4joWRJfQjglWs\n",
       "8hD7Uk19ZKTgXXXbZmW5nsz0y3EqZkNlCwZVmav5yoxnMcJUIEssvg71UWR5X1nsidEvaHnBYix2\n",
       "fosjfpNVMmYid8RBmSwJlfz2htEvspiJKpg93+YdM6eeS9IAmGNRJkvaSl1k9Iskdg7cZCcGb8XK\n",
       "yKEYkaoshyICJYBl7zeaIn2olEtTJktUcmmhJBFjWQx2YgBTR2E+NZQoE4MKv913h0cfBmV/u1/p\n",
       "fzimjDoI/MvJdv/I6f8Af7CK6RsMFv0AAAAASUVORK5CYII=\n",
       "\" style=\"display:inline;vertical-align:middle;\" /></a><br>"
      ],
      "text/plain": [
       "union_def: forall_{m in NaturalPos} [forall_{x, A_{1}, ..A_{_a}.., A_{m}} ((x in (A_{1} union ..A_{_a}.. union A_{m})) =  \\\\ ((x in A_{1}) or ..(x in A_{i}).. or (x in A_{m})))]"
      ]
     },
     "execution_count": 2,
     "metadata": {},
     "output_type": "execute_result"
    }
   ],
   "source": [
    "union_def = Forall(m, Forall((x, A_1_to_m), \n",
    "                            Equals(InSet(x, Union(A_1_to_m)), x_in_any_A).with_wrap_after_operator()),\n",
    "                  domain=NaturalPos)"
   ]
  },
  {
   "cell_type": "code",
   "execution_count": 3,
   "metadata": {},
   "outputs": [
    {
     "data": {
      "text/html": [
       "<strong id=\"intersect_all_def\">intersect_all_def:</strong> <a class=\"ProveItLink\" href=\"../__pv_it/axioms/fc75db50d2bba6ca90bf103caf89592daa2a417c0/axiom_expr.ipynb\"><img src=\"data:image/png;base64,iVBORw0KGgoAAAANSUhEUgAAAvIAAABABAMAAACKKI4oAAAAMFBMVEX///8QEBCIiIhmZma6urrM\n",
       "zMxUVFQiIiJERETc3Nzu7u6qqqp2dnaYmJgyMjIAAAAcRTyBAAAAAXRSTlMAQObYZgAADeVJREFU\n",
       "eNrtnH+QG2UZx58ku0l28+MKAzi9goZ2pnYQvANEQUpJYaZlFLxcHbB/dLxY7RVUbIDCyc+GjgMH\n",
       "iKSiUGCwS4u14sBFoWI5aoNFh5ECKQXF4UfDFGHAGTivXLm7Us73x+677+77ZjeR0L2evjN73U2e\n",
       "vPu+n7z7vO/zvN8GIOiSqspe1Q87rAKHbDnxsHaAjR+7GmVi4qMWtup51/XnpVb6NDikCyKv1IRX\n",
       "zzb/jU9M7G+E/P7BR1rXpETBVXu7nHzhkCcPs4VX4xmz04ODDZEfamWT1uSc1/flpiz5tOBH9SPY\n",
       "6YyDTv5S13UvTFnymvg4zy8FRj7pcn7q2NQlLxlVkVpg5Ndlndfp/BQm32MI3dofGPl+9zdRmsLk\n",
       "0xnh9SeCIp9wO5d5MIXJp8Sl8UAmIPLpouuFwz3If4/OBMXAMd7b1OAqMfLa++I8Nx4Q+R7XQksb\n",
       "8SB/NI1xh4ICnlqx78J+1GC9ue/+Ikbe7IGjwwcCIr/C3bmhSUwe2oqgHYUe1FJTn3rIJv8D8d13\n",
       "gyGv73OvsgqTmXwPcsorcrCryYVzhpHvEN/tKAVCPuV2fDHXg/xSX19t8pDHlFaV4Momh9c0Rn6b\n",
       "+LQMVAIhH3dX1dbpuFx83KQa89ej+XIUtGaXWW8w8j1lcY0xLRDybe65qo0sstbP/tnx+ER/Z3J5\n",
       "G+Qbf5uHMBod60+S5QK4cT4rA2usuGk7Iz8gZsCTI4GQ76q4nz3cNL2SujSGnUy0NKnIq/ueX3EK\n",
       "elBRGyvzIezVjqQyzXbqrzHybWIopQwHQv65rDuExeSTRnJcwdDjk2uGDY9DCj2FsTJo5XkQL8Li\n",
       "uqb3RGp2eP6oTb4iPh2jgZB/z53III5Qx73CpftdVCbPDBtHLvlDgFAWtfBwNH6//qW6pkYoA8Os\n",
       "Uzb5TtH0kkDIfwAy8uypXHtQxrzP6tzeL2jLg7aPkAdlHHpysNDDjxrqSGPkV5QCIK+NgszbAO4V\n",
       "LqHGyC/ZsTXndyuHjenjwnO3o2cu6fPJR/iAO7GXeBuc3T0WvMjPgzBL0iy0Z9iKZKlaDYA87ock\n",
       "gZQwOiCM/VAk0wh5pRO2+bbZYUN9mfYGqO1mcO9RIuyZ6MhBchgMPMPG83CDJ/kbkEnqjEWznDPs\n",
       "Osnu/u5KAOTDw8IyEzejq3ybmZS62oe8/vjJVYgZ/FQsTmGiDSW/BiH9IqgVv0Aoz2YlNCiGtXIS\n",
       "uYxIXjlAyOtYDED+DNS4E1RxVzU1vxrCX9tcr/U8dOVN8mRCe9WPvL9VIyUibPuGcDM2zlx/Bh0c\n",
       "G39kcOQvows2LtX60pYH0LdVgoTHTSQ2lPy16NgJUV9H9bblQCYuBnhqJiioKfrSWWN0zPfhFl6B\n",
       "w++8dXIV6cOZpbs/C2343X8y8l1Zsfp1NZP80/ifd/zI+1s1UqJC1jRec16feyOXPVhOg76iMhuP\n",
       "YepD8AtHS/pzVh6ugno2hDzxwx0Q42z5Tlr3ADjB/R7JHuB9vIXENQr3fsz09LAU5ptNN8nvNiTR\n",
       "5DSTPF5PaEU/8v5WjZS0sOmanOaRMesiz2pXNdlmdEMUdSJN3zrx31lyyZfKuEqr4myc5Mm+4zy4\n",
       "07T9rqsh+B60/N7dll046TiQpeQlEzTyX9GajkbVkTBXdWTMnpD0LDRkkk/j6b7sR97fqpESGhfm\n",
       "3HEP8uSL0j8Fdy+EOeoTqAUbzDfvKJBLftV0fyFMB4Zt4yJPppSj4Rxqu8SVC8D3ME/PER7MEvJU\n",
       "q80Qab3YVEQ6Vo1nQBuClZsdWeI360OYAam/PvDAnb4zrL9VQ2kbYa7WD3iQ11ehPu2cjqespcQX\n",
       "fKO/vz+j50AfYq6BTSGVKF0YcTZO8ijWwdtzC0xbt7/B96Dlm0JbinDWLDQ93L4KmYirlRRmNPMU\n",
       "9CcPx6O3b2Lkpb2LjVlrm9H+/mv81za+Vv8debxWq0seNk3suX4UIV6JnmOMOkoekzKoeYF8LBvK\n",
       "7dr6Cm+TOv3VCkc+mn+wvCaLMwDYViCP7mF+YIHQmKZ2A1P2bmBizJP8MvNbEp0XT960kgYx6o6n\n",
       "X7RXjiRcQZ+67dsXZvzJ7/QiD0ve2oNvd7lCB3kSX0SKsMnAl9rNsNaw/sRyXfC7Yoy3ScyBAkde\n",
       "PzLz8hsAvwJii8nbFaw18D3MD7zSigV0uzUri5PdiEX+bNBlBp1O8tRKHsScDQmG1AxXKNNr/MkP\n",
       "lL3Im2XBnBod5Lfg7ty+48uAL9UZ0F1Sp+M/M0BZ+hO0YFzssFlmbZ6bM8CPe6GEP4htMXm7gu4y\n",
       "uQf9wBdaRj4k61yckY9BmPdd6mVPwrF5gTy1kgcxV1l9Y+EKkNjCXBZymMWVTLjmT14vxauUfBj5\n",
       "cPOZRZf2ij0Bv4ZbURtPyPI2hfALPHmAC7QqhMvElngbu4IyuQf9QK1l5I+V5uHet8gnqzH26m+2\n",
       "nwF/SBoRQyBPreRBDHJc7Mu9lnmQS0VJh4Q88uC+5KOVr4HacbrDweHLLexyC3xfqcFGeLzqCEYT\n",
       "zzjJr3vdwBfYdtHeMldBooTvQT+QqLaM/DHe5LXaBWxyuOVuA7ZmOpOw/eTLTi7z5KmVNIiB15+0\n",
       "hzANV3C/R2ADHnvJWYuWMfKSPMRr/uSVV+QRf5U7O2+HBwaLfHwl+nOebVu1lyf2PTZAq8jLn2eb\n",
       "PNz0HXRrkuwhwvrNm3+aFP08sZIHMbDhM0ycbIYr+FPDs6bjf4+L1lZ6+HkmKffy8x+3OHK1CZ8s\n",
       "8XEtI79Geid7hoWHUSdpsod8R5uTDy6RkH+4UCeIwQ/EckcGjGS6kjUgGwk5TkUuI69f/smTD6Ag\n",
       "8vrV4EMeb0uQZI9OaG+GynYJeWwlD2J+idwIC9AylpowXoHdFHfJkzzcKR0Z+mh/5tDlPqd/nO7f\n",
       "ytbzNvkUJomTPeoP+/tXI/L3xiTksZU8iBlEiwYgUQwLVzDlMpxIM6X2Lk9IlivQ5MnD888vHbrk\n",
       "f34+6tT98vfsSMpaYsxVIU/HvLII+E0xOz8vD2JOBf1mGsWsNcxwBUUmPQYsV++6WRt61g7KYuNe\n",
       "icy+K2HKFaXvmroZM3PgkWTPn/HpC+4ojiMvDWJOw1EriWJQQELDle5yctVFsHimOkO/+NzjDVcQ\n",
       "UWcswJQsd9RJoVjkabInjhaSynVZmvuQkJcHMSY3HMWUzXCFre+dq//I/v+Th4GC09tYM8PqOhkz\n",
       "jyCGFBLFkAUbDlfYym2LM2A94E1euwuVwBhp3iFUU2kz0vEtUvI9RRn5+rlKjyDGmS8l4UpK9i56\n",
       "Aj70Jh/p7e39lhEU+U3yl/820dt/a9MieiyXI5I5gfy2zo9F/r8r6j5/bxMNbEnzdp3XR1FMlG9W\n",
       "RI/ziyQTKZAPRPUBH01i8qnOOsNlGDVqpFkRPfzJPATyZ+aCIL9qEpOPOW6curHvOnNyGiNr8GaX\n",
       "vPeZh0D+PQiC/Jm5yUvesdmprraXwigk31ZsWkSfztJDIP9BIOS3VQ86ec1n6mFnWB5mCfnhIXue\n",
       "b8tD4qiGRPQOA6yPwoebvLo3EPIDeef1s1g8/O4ei3yyr69vlZu8Y6+xXuF3KRULJQ77uF1NaUlk\n",
       "rbNbOSE/LwHsuXj23hwnoq8v5Xao7FM1erjJh/cHQj5WaH7M83uNdZvI71Kau2a/yEK34f8InWad\n",
       "XM0J+YFbQnYY8Jphi+g9pNymyt78Sgv0cJOPDgVCPjnWFHm8RebYa5Qt3wQZJT3TpmM1JCzxaxL7\n",
       "5aUjOCG/+mn8LNLXrye5byai95C1mgbmozpEDzf5UDEQ8tpwM+TJFpljr1FSRBklJR+rknz1Mt+Z\n",
       "sGSTZ0J+Xk6HYpB1+cZE9NTAm3xXNRDy8JbMz7/pJM8kjvS3p7i9RrtJTAUpkVFS8nj3GTndAq+Y\n",
       "lFXAtv/JPoYFzt4wVg+QsLMhET0x2PXiTNwmrINVJN5mhREM+d05/zHPZJRkrqN7jXVVkBIZJSX/\n",
       "JiGBFoOsOnkFibw9wzIhP5xkz4gjAM9l9IZE9MTghWNguscMa/0XgoNNvq3iT96SUepmUKkth/oq\n",
       "SImMkpLHKaJQRSnaqkx5BYrlWLbzQv4Yc3Bp1PttmXscInqXdp5dYQNtfQHwNkSkQg8X+dRIQOST\n",
       "7V7k02hVeYlhySjpFhnda6yrgpTIKCl5rDjZibPfTJUpr0Ctma8s5IX8+oVfMR3Ie/uqkFydcYro\n",
       "iWSeiejJH6yrJwbRjIJ9VTpHDxf5dC0g8pJfv3CNebBllMQPkL3G+ipIiYySku/VX9aOID/RYlUn\n",
       "r0DJS7MHylNW9sAsDhG9KZl3BAaGaRDKRSo5oiIkh4t8Vy4o8jItv5u8JaMkW2RkrxGTt7cfeRWk\n",
       "REZJyd+3KPXHLJEwWNXJK0hVfDJmZmEi+kdBGp9hpQwxWAexr+bqZsz2QFDk0xV/8paMEm+R0b1G\n",
       "TL67TLcfp4NDBSnKKCl5/dS/5DXyQas6eQURNjXf5NlwS0RPpNx6RswcAFCDBRB+pm6WONEeGHl1\n",
       "zJe8LaO0t8iwt7FX9bwKUpRRWjGVmkez5ee46qQVpNmLmzwbbono6fMhvo/nB9sAf1HkcJEPVQMj\n",
       "D3/3JS+RUWIVpK0N41WQHBrr2iKvfdSOL1h18gq22mFeK3cD/2EeLvL27ygefPLRTj/ydWSUKe6s\n",
       "ntLSQR5uxHFnldlKK9A7P+Hks4N8qtAc+db+IvS/6pFvld4m4rja4m0cNj5R7krfFfylpbRs8Beh\n",
       "9cFW/iI0XqD/zxZLWKEMDj72Hyero2hg2/EzAAAAAElFTkSuQmCC\n",
       "\" style=\"display:inline;vertical-align:middle;\" /></a><br>"
      ],
      "text/plain": [
       "intersect_all_def: forall_{n in NaturalPos} [forall_{S_{1}, ..S_{_a}.., S_{n}, Q, R, x} ((x in [union_of_all_{y_{1} in S_{1}, ..y_{_a} in S_{_a}.., y_{n} in S_{n} | Q(y_{1}, ..y_{_a}.., y_{n})} R(y_{1}, ..y_{_a}.., y_{n})]) \\\\  = [exists_{y_{1} in S_{1}, ..y_{_a} in S_{_a}.., y_{n} in S_{n} | Q(y_{1}, ..y_{_a}.., y_{n})} (x in R(y_{1}, ..y_{_a}.., y_{n}))])]"
      ]
     },
     "execution_count": 3,
     "metadata": {},
     "output_type": "execute_result"
    }
   ],
   "source": [
    "intersect_all_def = Forall(n, \n",
    "                           Forall((S_1_to_n, Q, R, x), \n",
    "                                  Equals(InSet(x, general_unionall_Ryn),\n",
    "                                         Exists(y_1_to_n, InSet(x, R__y_1_to_n), \n",
    "                                                domains=[S_1_to_n], conditions=[Q__y_1_to_n]))\n",
    "                                  .with_wrap_before_operator()),\n",
    "                          domain=NaturalPos)"
   ]
  },
  {
   "cell_type": "code",
   "execution_count": 4,
   "metadata": {},
   "outputs": [
    {
     "name": "stdout",
     "output_type": "stream",
     "text": [
      "These axioms may now be imported from the theory package: proveit.logic.sets.unification\n"
     ]
    }
   ],
   "source": [
    "%end axioms"
   ]
  },
  {
   "cell_type": "code",
   "execution_count": null,
   "metadata": {},
   "outputs": [],
   "source": []
  }
 ],
 "metadata": {
  "kernelspec": {
   "display_name": "Python 3",
   "language": "python",
   "name": "python3"
  }
 },
 "nbformat": 4,
 "nbformat_minor": 0
}