{
 "cells": [
  {
   "cell_type": "markdown",
   "metadata": {},
   "source": [
    "Proof of <a class=\"ProveItLink\" href=\"../../../../../../_theory_nbs_/theory.ipynb\">proveit</a>.<a class=\"ProveItLink\" href=\"../../../../../_theory_nbs_/theory.ipynb\">logic</a>.<a class=\"ProveItLink\" href=\"../../../../_theory_nbs_/theory.ipynb\">sets</a>.<a class=\"ProveItLink\" href=\"../../theory.ipynb\">unification</a>.<a class=\"ProveItLink\" href=\"../../theorems.ipynb#membership_folding\">membership_folding</a> theorem\n",
    "========\n",
    "*** see <a href=\"../__pv_it/709fc20852943228921ca5b87c9e3d9f188037870/dependencies.ipynb\" class=\"ProveItLink\">dependencies</a> ***"
   ]
  },
  {
   "cell_type": "code",
   "execution_count": 1,
   "metadata": {},
   "outputs": [
    {
     "data": {
      "text/html": [
       "Under these <a href=\"presumptions.txt\">presumptions</a>, we begin our proof of<br><strong id=\"membership_folding\">membership_folding:</strong> <a class=\"ProveItLink\" href=\"../../../__pv_it/theorems/47d209ac40c9dff6ad80f6868b4d242ffc20cb300/expr.ipynb\"><img src=\"data:image/png;base64,iVBORw0KGgoAAAANSUhEUgAAAjAAAAAZBAMAAADd4wmLAAAAMFBMVEX///8QEBCIiIhmZma6urrM\n",
       "zMxUVFQiIiJERETc3Nzu7u6qqqp2dnaYmJgyMjIAAAAcRTyBAAAAAXRSTlMAQObYZgAABhZJREFU\n",
       "WMPtWW9oHEUUf9nc3t3u3qb5UAsaLEciVSOao2cMNpGeimktFC790Cop9ogGmiK6Umgwajn84kWR\n",
       "u09tUCSrkSRESQ/jv0iKMSqUU/EwLVa09UAFLWgPm9q0ktb5s3s7uzvn7bV4iPVB5nbevDfz5jdv\n",
       "3ryZAHgh/+CTcDWRb/Bpb4IBuNrowP/A/LeAeYXLlfJX2K2SQcUsBaaAf05UBsaTXK1ITnLZk/Tn\n",
       "oeo6EwvW9wAOqBkCzGe4fqoyMJ7kakUNGS77F/pzusTQCYpuQRu/oWg1TGN+gQAzgl0wWRkYT3K1\n",
       "okUuV43Qn9O6ySG+0OCWtPFPXrAaQmFULBBgGlAvoWxlYDzJ1YpsyYP63OB+aiX1ozc2lvxJKxMg\n",
       "Wb48c57Zo42oeJUAo+ampg56CL6e5GpEksaGiGdNBzHMy7fFqgFGFZaYlh+xK8XIqbScSvGzmZD9\n",
       "VCor52Ei/KBXRjpTrpu4+SGgPSM3D9yzQMJCaeO00ORM/zBfDTBblBWm5WM88QgBph9gmGtHvR0Y\n",
       "pxxfKWiblrF083YZQ1OJVVoPxzhvlwZBM38Tvg7vNw8SSi+S8nXYhQKFmPQIjBwTf2daTmIfKhBg\n",
       "7qVhuCIwDjl1iav0vW22NFj77T5Q0ryT28MA8KWRQWY/ARTrcvClfr81BqanjMUYjYAY1TwC4wPp\n",
       "DNPyHl4xjQATAMGRF+3oiglrXMA45MZWuAnGxrwbmJ1m41w0z2qOg4pnXoKA/InzZaQRJ2F81MXw\n",
       "iZuiG3Ltb4jI52pSfzj6OBrW5xWY7dE7lpmWXbiLIgEmlGc1sTlKMgcbQtGOaCcLjF0Ocnu5+2Ai\n",
       "4gam36gdn52yaTZkhBiTfNOKP15G2spTCDAAdAcwKcRq6gFQV6gCGNTVWj4wUmE704DNUb6qx2HB\n",
       "4TFUbqF9HbFcDKd4wGwLJt3AaFTNRzGzNJEHJtkNRSoBKCON6FZmK4F4llYa7VsJNQUaTWAKZtLG\n",
       "y2MIX0F/T6DE6FhzpBkv4Caguni5hh9BLnzXthYBTZmYo/Q+GHYDQ+QE/bEAWS4/dKBCd46YqNdc\n",
       "wKDDlagZCRXRhD14nAR8AlKiJE0qB4EjbdC7TPD9QChCK66stwVfKUtTWQrM7biYcQNj8V+mmfLR\n",
       "62GNvs4efGEG9aHena/bIyRoNqjEc8c4wGA5EX6lnG+hDcSPnMCoWaHoAsaXpGpjlibsvI42TFoR\n",
       "FWhlM7ilTdpsbtgI+P4MFumdMZBlj1qcywTPm8BMI+/24XuMfBEVhwrGh8UnGVE6I72mwRJ0oW/8\n",
       "Vz9PgVmFTreXboRVMcQYo8CE8FHuBAbLAdA0Uf7h87QOAScw011HLriBSVC1HalUKmxowhC9vYVi\n",
       "40yAwpVu4EiD/XaIZi33tbbQK628e4vBRttg8tIpUNLnIgYw0s/v9O4m+vvwLBLGR4kvpy/q8P6l\n",
       "veAPi41kK/6EY1+cAqNizT7owdgTc5S4lNdsCRgBhsiJRcKu12E07gZmA0hnYfHwYu+nDDA4pcBq\n",
       "frA0CTAIMTnZzt6ZUeUBcEmrnSfa53Bk6+ZeCXxH7FcCEzsydst6br7o5NfFhaRUjIOM1SbY95hr\n",
       "4CYYNcxR4nBfmP8eMxoqhGBEh63IgfIYGOl5VDULH/LtFXirUJedY4BBgxG1EInaVJMAoyKX/QKt\n",
       "otEBrUyAS1q5DZoUfIp/5+kSSbNHrarcfBT5jJqcZy+RRtJeRD5z3DBHjRGbecCMH13IQU82uAxS\n",
       "+hkMjNgEPRnxWlw0QToJI+fy/vgEjW7mqTRE1eAFvP+pJgGmHoXxQ2hAowNaQX26pPtlDcuavTrz\n",
       "a06SLHX8Ea4GmG6UO0iP6uyzg+F5CZQkHDDM2YRuUom/e8Ezwx3eSoq1SCXhGdCyDDC3mMczjhoG\n",
       "DRn3fttjCa4IWbe0pkQCinnKVn6ougIaNlF3PW2yxpcDRjHWS2zrNB4CCc2WEtoboC/DABPk5Dtn\n",
       "0PwPc21zz1lOCDH/zWjc/D/9tKlis7+57Ddfla3kOV+OSfr49soRLntrWSvG/oWP4Zf5f6WI3Zcc\n",
       "zqmXf5DmUmvNYPEN7vsLPuDRlhNKYIEAAAAASUVORK5CYII=\n",
       "\" style=\"display:inline;vertical-align:middle;\" /></a><br>(see <a class=\"ProveItLink\" href=\"../../../__pv_it/theorems/2e1da4ea81f18b04324c2d3709441e142ab2e9af0/dependencies.ipynb\">dependencies</a>)<br>"
      ],
      "text/plain": [
       "membership_folding: forall_{m in NaturalPos} [forall_{x, A_{1}, ..A_{_a}.., A_{m} | (x in A_{1}) or ..(x in A_{i}).. or (x in A_{m})} (x in (A_{1} union ..A_{_a}.. union A_{m}))]"
      ]
     },
     "execution_count": 1,
     "metadata": {},
     "output_type": "execute_result"
    }
   ],
   "source": [
    "import proveit\n",
    "%proving membership_folding"
   ]
  },
  {
   "cell_type": "code",
   "execution_count": null,
   "metadata": {},
   "outputs": [],
   "source": []
  }
 ],
 "metadata": {
  "kernelspec": {
   "display_name": "Python 3",
   "language": "python",
   "name": "python3"
  }
 },
 "nbformat": 4,
 "nbformat_minor": 0
}