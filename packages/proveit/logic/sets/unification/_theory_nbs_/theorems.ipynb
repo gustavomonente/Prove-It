{
 "cells": [
  {
   "cell_type": "markdown",
   "metadata": {},
   "source": [
    "Theorems (or conjectures) for the theory of <a class=\"ProveItLink\" href=\"theory.ipynb\">proveit.logic.sets.unification</a>\n",
    "========"
   ]
  },
  {
   "cell_type": "code",
   "execution_count": 1,
   "metadata": {},
   "outputs": [
    {
     "name": "stdout",
     "output_type": "stream",
     "text": [
      "Defining theorems for theory 'proveit.logic.sets.unification'\n",
      "Subsequent end-of-cell assignments will define theorems\n",
      "'%end theorems' will finalize the definitions\n"
     ]
    }
   ],
   "source": [
    "import proveit\n",
    "# Prepare this notebook for defining the theorems of a theory:\n",
    "%theorems_notebook # Keep this at the top following 'import proveit'.\n",
    "from proveit.logic import Forall, And, Or, Equals, InSet, NotInSet, Union\n",
    "from proveit import A, B, m, x\n",
    "from proveit.core_expr_types import A_1_to_m\n",
    "from proveit.logic.sets import x_in_any_A, x_notin_all_A\n",
    "from proveit.numbers import NaturalPos\n",
    "%begin theorems"
   ]
  },
  {
   "cell_type": "code",
   "execution_count": 2,
   "metadata": {},
   "outputs": [
    {
     "data": {
      "text/html": [
       "<strong id=\"membership_unfolding\"><a class=\"ProveItLink\" href=\"proofs/membership_unfolding/thm_proof.ipynb\">membership_unfolding</a> (conjecture without proof):<br></strong> <a class=\"ProveItLink\" href=\"../__pv_it/theorems/b07a7bb2bb39abce1c21341f5b3f175863caa2e20/theorem_expr.ipynb\"><img src=\"data:image/png;base64,iVBORw0KGgoAAAANSUhEUgAAAkQAAAAZBAMAAAAiQSxpAAAAMFBMVEX///8QEBCIiIhmZma6urrM\n",
       "zMxUVFQiIiJERETc3Nzu7u6qqqp2dnaYmJgyMjIAAAAcRTyBAAAAAXRSTlMAQObYZgAABkFJREFU\n",
       "WMPlWWtoHFUUPpmdSXZndrb9UQtalCGVKFXJQqqFPuiq+ERx0x9ppbVdqkVaRFcLDU2q7A8fG0V2\n",
       "f0gaKpqxlaTUUhcjaqXiGhFkFRyaFis+ulD90YJ2sa19SFvvc/fOzJ3sJBho6YEzeydz7jd3vnvO\n",
       "uefeAISR1t6tcG2K2rstnGEbXLsyeHVQ9A7TSWV/WLSY09zGKFLFFFXxz6/NKQplN0Oi56jKZS3P\n",
       "BsWQcLuDHmjVRnsjU0TRd/jnRHOKQtnNkCSKVOVykhNJPlAj7bTPKt14eDzwPbVGex9TRNEQ9rxc\n",
       "c4pC2c2QTDCVinnSZq1x4kuYC9PymW3Al4OkQzII6rcLjXbcooooSqAXxEvNKQplN0OylWlDjvT2\n",
       "8qD4YDn3r/eIo2TweG0fRg++9JGPKQYg6WPnheCeTRVRZFb27NkeIl2HspsZiWWpNmTVgkbb6Uzx\n",
       "OEnxMLpXHqwq8Z/tQUimclp48jtTtKKdy+e3haAolN3MiJKkqrdvvIcEky7kRNX+ki9QccLAGNIB\n",
       "yRKFHkaJ/8xHurPjrdstDxI8bFwU7r5mOkiCdEA6sribokC7KTnEFGzrKTfqUN0LP1ovedeu92Ed\n",
       "TzxmlY1Vk+VM5IarSONNxEzZfKGt6kHSU9rfYmJiOoidUq9KhxhxU+S1k/MVdQV6yvu47LcJBPi4\n",
       "/vYS1Qr8YD9EbFyvGE4yUgwSjIoFrSkJcDvAU6TRj2bfjl9Qix4kFWKnhNtPmQ7iz1c8pdTKpSll\n",
       "ro8ij515WvqFR12j884mnbSjqUkoajyMcLJaUlRtyNM/dP+FhM6X9mTXcznQujA7Glmz9SxdrL0y\n",
       "yqd4DrKBaM6LBD1dd50T7NcxRRTFHbF21g90OUauAot9FLntYNdFaZG33AmgCAPDGtEmInoqvxEA\n",
       "9IyHIgAWCEPi1EML+kS1QREsoTWcLyhKbEGegy+zLC8Sdvmb5BTFqj3iGrh/DxgHI1COdy3qWiJS\n",
       "5LaDymZp/hpNBlCEgWlxwm2ioqPzGxHguCfQQDvDOGvA4kezGUUqXfXehaw0DVbZFPcTAtJeJAPp\n",
       "84L9A0zxHm0Ahai5bMV8pSNNl0Vj9eNW2edFxA7G7+ygdaqVl41jRTTnpwj3oettVrSRUiQC3OFJ\n",
       "158rNSBrdKReGcZKtCYm7NB0DdEnLGkIv3IQeLo27E5QbBcSvE0L9YnD7cn2De50DWMI3rzbadmk\n",
       "ZCBB+ExXDksownaK/WwbcflWWIQuvgotE8n6KCJ9ErzAYTabAigSAT4RFnOk6r/RGtuB9nMTXONE\n",
       "zzOKImWanp4mw9Iv8cuHlLqevvpq/lipwLbF/WLxBYUiHLoR5todqL2U6SALyx23wKwUesUuSlEc\n",
       "j8pLEbbT4E/6l5+hE7SvvBSZJaXmo4j0IcBqjtusuUFOkQvgQZ5vskT19Qvms330yMv0zbsvnwCj\n",
       "cDZJKUqwMuEY/dnCL200qSWS9Qgaad+5zHEh6YVLNnx2eXNsZxZOE2r+YIopMrHReujG8b4yn89b\n",
       "RjrmZP0UETugNbp+7PuC7a/z9y399oIkF6E+BFjN1G365BS5ANYGb0Aeea3XVYEQikbZzY6AmoyN\n",
       "1r0B8SK1Wtps7FtoYSTaOC+6Dm6FYQ3FD/EiuM/i22LPeZFWI3+O2DCc9lO0GGJnYOKLidXfiBTh\n",
       "PgSYVC/EBlPUClTpyKi6AO4PtY1tUDQeriQN3saSBJ5WcrFaWtzGMoZryI+OxCFO9skpMMvyI7Xh\n",
       "eDUOQzY8iuLOwRTFXke3/KIi570IH1VbSgcEikgfAoxnhdpgilSUj5bx3vTGDfCLWE5OWm+SqjGg\n",
       "AvbLpJuEYeRHZq4sHoawWcigJXawAvAGDla0e8vIKRo5NF6B7lL0HMQKL2KKtHnQXdSux5d5UMjB\n",
       "0FmnNT0KCwWKSB8CjImhNmTP3fNqPsV70xs3wMJwR2p4hhf9YzUhMcyRGhDXTRRjz9iExwHpwayC\n",
       "UkbTg1l+JoIDzXAVFtR4DLIlb11EgG+r3/ZNummmANWpHcz+9H8ezJpFqtM8uzbYdGmdS8QTY94a\n",
       "gZthfVG6Aaln5xWnJjl6YgCGA1eCTIsiU7xxJK3APZo6la/eBVcVRdP8P1py2v+lQLLgSiBI7d3y\n",
       "H92z4BxGI7FCAAAAAElFTkSuQmCC\n",
       "\" style=\"display:inline;vertical-align:middle;\" /></a><br>"
      ],
      "text/plain": [
       "membership_unfolding: forall_{m in NaturalPos} [forall_{x, A_{1}, ..A_{_a}.., A_{m} | x in (A_{1} union ..A_{_a}.. union A_{m})} ((x in A_{1}) or ..(x in A_{i}).. or (x in A_{m}))]"
      ]
     },
     "execution_count": 2,
     "metadata": {},
     "output_type": "execute_result"
    }
   ],
   "source": [
    "membership_unfolding = Forall(m, Forall((x, A_1_to_m), x_in_any_A, \n",
    "                                       conditions=[InSet(x, Union(A_1_to_m))]),\n",
    "                             domain=NaturalPos)"
   ]
  },
  {
   "cell_type": "code",
   "execution_count": 3,
   "metadata": {},
   "outputs": [
    {
     "data": {
      "text/html": [
       "<strong id=\"membership_folding\"><a class=\"ProveItLink\" href=\"proofs/membership_folding/thm_proof.ipynb\">membership_folding</a> (conjecture without proof):<br></strong> <a class=\"ProveItLink\" href=\"../__pv_it/theorems/7b2af345fae6346aa5b067f9172fce01b9006a140/theorem_expr.ipynb\"><img src=\"data:image/png;base64,iVBORw0KGgoAAAANSUhEUgAAAjAAAAAZBAMAAADd4wmLAAAAMFBMVEX///8QEBCIiIhmZma6urrM\n",
       "zMxUVFQiIiJERETc3Nzu7u6qqqp2dnaYmJgyMjIAAAAcRTyBAAAAAXRSTlMAQObYZgAABhZJREFU\n",
       "WMPtWW9oHEUUf9nc3t3u3qb5UAsaLEciVSOao2cMNpGeimktFC790Cop9ogGmiK6Umgwajn84kWR\n",
       "u09tUCSrkSRESQ/jv0iKMSqUU/EwLVa09UAFLWgPm9q0ktb5s3s7uzvn7bV4iPVB5nbevDfz5jdv\n",
       "3ryZAHgh/+CTcDWRb/Bpb4IBuNrowP/A/LeAeYXLlfJX2K2SQcUsBaaAf05UBsaTXK1ITnLZk/Tn\n",
       "oeo6EwvW9wAOqBkCzGe4fqoyMJ7kakUNGS77F/pzusTQCYpuQRu/oWg1TGN+gQAzgl0wWRkYT3K1\n",
       "okUuV43Qn9O6ySG+0OCWtPFPXrAaQmFULBBgGlAvoWxlYDzJ1YpsyYP63OB+aiX1ozc2lvxJKxMg\n",
       "Wb48c57Zo42oeJUAo+ampg56CL6e5GpEksaGiGdNBzHMy7fFqgFGFZaYlh+xK8XIqbScSvGzmZD9\n",
       "VCor52Ei/KBXRjpTrpu4+SGgPSM3D9yzQMJCaeO00ORM/zBfDTBblBWm5WM88QgBph9gmGtHvR0Y\n",
       "pxxfKWiblrF083YZQ1OJVVoPxzhvlwZBM38Tvg7vNw8SSi+S8nXYhQKFmPQIjBwTf2daTmIfKhBg\n",
       "7qVhuCIwDjl1iav0vW22NFj77T5Q0ryT28MA8KWRQWY/ARTrcvClfr81BqanjMUYjYAY1TwC4wPp\n",
       "DNPyHl4xjQATAMGRF+3oiglrXMA45MZWuAnGxrwbmJ1m41w0z2qOg4pnXoKA/InzZaQRJ2F81MXw\n",
       "iZuiG3Ltb4jI52pSfzj6OBrW5xWY7dE7lpmWXbiLIgEmlGc1sTlKMgcbQtGOaCcLjF0Ocnu5+2Ai\n",
       "4gam36gdn52yaTZkhBiTfNOKP15G2spTCDAAdAcwKcRq6gFQV6gCGNTVWj4wUmE704DNUb6qx2HB\n",
       "4TFUbqF9HbFcDKd4wGwLJt3AaFTNRzGzNJEHJtkNRSoBKCON6FZmK4F4llYa7VsJNQUaTWAKZtLG\n",
       "y2MIX0F/T6DE6FhzpBkv4Caguni5hh9BLnzXthYBTZmYo/Q+GHYDQ+QE/bEAWS4/dKBCd46YqNdc\n",
       "wKDDlagZCRXRhD14nAR8AlKiJE0qB4EjbdC7TPD9QChCK66stwVfKUtTWQrM7biYcQNj8V+mmfLR\n",
       "62GNvs4efGEG9aHena/bIyRoNqjEc8c4wGA5EX6lnG+hDcSPnMCoWaHoAsaXpGpjlibsvI42TFoR\n",
       "FWhlM7ilTdpsbtgI+P4MFumdMZBlj1qcywTPm8BMI+/24XuMfBEVhwrGh8UnGVE6I72mwRJ0oW/8\n",
       "Vz9PgVmFTreXboRVMcQYo8CE8FHuBAbLAdA0Uf7h87QOAScw011HLriBSVC1HalUKmxowhC9vYVi\n",
       "40yAwpVu4EiD/XaIZi33tbbQK628e4vBRttg8tIpUNLnIgYw0s/v9O4m+vvwLBLGR4kvpy/q8P6l\n",
       "veAPi41kK/6EY1+cAqNizT7owdgTc5S4lNdsCRgBhsiJRcKu12E07gZmA0hnYfHwYu+nDDA4pcBq\n",
       "frA0CTAIMTnZzt6ZUeUBcEmrnSfa53Bk6+ZeCXxH7FcCEzsydst6br7o5NfFhaRUjIOM1SbY95hr\n",
       "4CYYNcxR4nBfmP8eMxoqhGBEh63IgfIYGOl5VDULH/LtFXirUJedY4BBgxG1EInaVJMAoyKX/QKt\n",
       "otEBrUyAS1q5DZoUfIp/5+kSSbNHrarcfBT5jJqcZy+RRtJeRD5z3DBHjRGbecCMH13IQU82uAxS\n",
       "+hkMjNgEPRnxWlw0QToJI+fy/vgEjW7mqTRE1eAFvP+pJgGmHoXxQ2hAowNaQX26pPtlDcuavTrz\n",
       "a06SLHX8Ea4GmG6UO0iP6uyzg+F5CZQkHDDM2YRuUom/e8Ezwx3eSoq1SCXhGdCyDDC3mMczjhoG\n",
       "DRn3fttjCa4IWbe0pkQCinnKVn6ougIaNlF3PW2yxpcDRjHWS2zrNB4CCc2WEtoboC/DABPk5Dtn\n",
       "0PwPc21zz1lOCDH/zWjc/D/9tKlis7+57Ddfla3kOV+OSfr49soRLntrWSvG/oWP4Zf5f6WI3Zcc\n",
       "zqmXf5DmUmvNYPEN7vsLPuDRlhNKYIEAAAAASUVORK5CYII=\n",
       "\" style=\"display:inline;vertical-align:middle;\" /></a><br>"
      ],
      "text/plain": [
       "membership_folding: forall_{m in NaturalPos} [forall_{x, A_{1}, ..A_{_a}.., A_{m} | (x in A_{1}) or ..(x in A_{i}).. or (x in A_{m})} (x in (A_{1} union ..A_{_a}.. union A_{m}))]"
      ]
     },
     "execution_count": 3,
     "metadata": {},
     "output_type": "execute_result"
    }
   ],
   "source": [
    "membership_folding = Forall(m, Forall((x, A_1_to_m), InSet(x, Union(A_1_to_m)), \n",
    "                                     conditions=[x_in_any_A]),\n",
    "                           domain=NaturalPos)"
   ]
  },
  {
   "cell_type": "code",
   "execution_count": 4,
   "metadata": {},
   "outputs": [
    {
     "data": {
      "text/html": [
       "<strong id=\"nonmembership_equiv\"><a class=\"ProveItLink\" href=\"proofs/nonmembership_equiv/thm_proof.ipynb\">nonmembership_equiv</a> (conjecture without proof):<br></strong> <a class=\"ProveItLink\" href=\"../__pv_it/theorems/156a3821c822ab35b259537a2869db2df76120cf0/theorem_expr.ipynb\"><img src=\"data:image/png;base64,iVBORw0KGgoAAAANSUhEUgAAAqcAAAAXCAMAAAABbhZqAAAAQlBMVEX///9jY2MJCQkNDQ0rKysP\n",
       "Dw8WFhYQEBCIiIhmZma6urrMzMxUVFQiIiJERETc3Nzu7u6qqqp2dnaYmJgyMjIAAADRR/RZAAAA\n",
       "AXRSTlMAQObYZgAABkZJREFUaN7tW4mStCgMdk8BOUXf/1UXEJRwCHbjv1u1Q9V0nDbk8gNCpKfp\n",
       "f9GW6cfPH5tcQ9v2L1gkNKSVxoqd/sWmBKSv+Hmrefwz+NymSlA81Rsj03Zy6e+e3kqmccJ6m+SQ\n",
       "1oY0LXXy97aXp5OyfCogfcHPin4q3nkGD2zqDUqgBlurCkyb/Bqnw4T1tk1AWmmYlDr5//ZS7IuX\n",
       "9Ud1w16Ub/g2SF/ws6I/0/gQt6Ji2wObeoMSqMGWCKNB8OlrnA4T1tk0hrRr6YHMetsLSNyKl3UY\n",
       "1dnL8m28EKTD/azqTzVu+NncgKd6OPuW/e6geOrWat/jmgs/x+kwYZ2NCUiLz5izv/9iW97pGLEK\n",
       "7+I2uD3pVZ29It/emSEd7mdVf6Jx4ezJ4peyP7fpQVA8tdjSq7RNsGkATkcJ61yBGKTFqCI5cVHo\n",
       "5CM5oZ28iNOKfDcvEUgH+3mjH2qkBKEHQU/YP7DpSVAO6rC1c9vYOgKno4R1lhgwpBIhKgiK1jVp\n",
       "J3iYkKF4nSJyUrt+D6c1+S5gGNLBft7oBxptrwfTSsp+hjMzqmbTo6Ac1GGLunISf5JNr1WcfiDs\n",
       "88Y1oNKYpRmaooXGbRjhdMGjCElj87Kj13BalX8kaZDaGG5Rw9/5eaNfx+CxKdqDNC1lD7blRlVs\n",
       "ehaUgzpsEdy97Tz3cFWctoQ9QnCLmSlAVzN+V5Ogk6sbz2sPLAqyNVnsOCxTw3EK5GfVQgbpYD9v\n",
       "/AMa7bXof/ope7AtN6pi07OgHPTAlr1E9/XOhWHLi2bawGlDmN5JP0ybzDMB1IaEw9robOalP/+w\n",
       "s1PWyZX2MMZ0d10WjNlonMbyCzHdIR3s541/sUaNrmWw55mk7MG2zKiKTQ+DctADW6uuPw2pVozN\n",
       "fcXdiMGyhdM7YZPEe3/9v82cPD+XH4P1xJXHkkUtYj6uZh9HMhynUP4wnPb5eeNfrPHYvBeL8UVP\n",
       "U/bIJmhUxaaHQYlxaqbxmp2aKyGtacoMJOwSU4NbzMyfKuP0RphdHFh/ra7NnKyHzi04Mcw50C7m\n",
       "0HvOcbqBfcOD+mnMnsjPHhjL9IL8lH7n541/kUblQ7z15WM5e5RGJUYVbXoaFBKt+yYPpMTXbPWC\n",
       "zA7ObN2WM9s8xC9qEShsoG7m00vYtCK8oHhFWVCyXt2mGm3mZH+h5ITs8ENXToRR5EOyjxI+ZOHd\n",
       "SIzT6yWK6hlYRXYoPw1tcR810s8b/yKNAXCqb/7I2YNtuVElmx4HJdpHWa3eBU1mo3amRieF84Ra\n",
       "zPymlw6cnsKMxXSbWLQuGJn+Jm1Xli/m+owLihdkVxPfk2MRTKWpV+h0Fv64rznHOJXhTA0JGwG5\n",
       "h2CcV9FXGXsmPw2t8W6FdLCfN/5dGq+9FZN1786rnD3YVjIqt+l5UA4asOUTCyGRlWO3L+6+xDFO\n",
       "zWQaAnaH0zNLMT02kGBqM5bcmFvWuYnTk/mmwcVBUoQkwvAEjKS/E1noJPm+O0wpc3HkFzFOTfrC\n",
       "1bIoys/OjGZX11cZeyo/Da2dBBZIh/p569+lkZ6zyFlAKnh3XhXYvdSSUVnsPwjKQQO2dBBHkd2o\n",
       "hbRjYa5qz9GBUzNWWAdO9WUbeDsmN7yu/Hix23xTFzPfJKjt94n6t5UzVn1vWkDDmXdgjPqraE12\n",
       "GFrjoVcnOzZqH/lZ9S/SGC12PTv+EvtXNrWC4umaFn5mox5xW99yhlAwn05kQXWfVlLcvF2srlYg\n",
       "jly7idOLWWOlNV7UWlDacT4jr8HWmMm7L3uT0I4+h9IuTJ/+rWikX1/Z1ApKdA4FpA+7x7jmbst0\n",
       "YUM7Tn2TShVkrZurEAi3GpJjSThqTR6n7g78yJgVMlJmNan1JhLViJQOR1aY1as4TUP77FzfR35W\n",
       "/JODD9x+YVMrKNG5PjjkqN/TCbo6JHEVxuJxIID241RSTVZkxSwGZSZx5g6YO9MXTt2dZRbRR85s\n",
       "knE7/RfPMTbPD5deORSZBWY7Re/hNA1tE3nf+1nxj/+qc9JNm5pB4aK6Vqe6fH7abojVNwSqXC4u\n",
       "3cm/YkcZhJV4m7/HKMbwP/C7Ey0gbc48n/h5q3ngUvG1TZWgeIo2Rn7JQ0l/krOg3b8mKPxYJ/1K\n",
       "mjGHiF0exPTTftqbk8eTO/onXj8ta/8AoFF4xbyKYbEAAAAASUVORK5CYII=\n",
       "\" style=\"display:inline;vertical-align:middle;\" /></a><br>"
      ],
      "text/plain": [
       "nonmembership_equiv: forall_{m in NaturalPos} [forall_{x, A_{1}, ..A_{_a}.., A_{m}} ((x not-in (A_{1} union ..A_{_a}.. union A_{m})) = ((x not-in A_{1}) and ..(x not-in A_{i}).. and (x not-in A_{m})))]"
      ]
     },
     "execution_count": 4,
     "metadata": {},
     "output_type": "execute_result"
    }
   ],
   "source": [
    "nonmembership_equiv = Forall(m, Forall((x, A_1_to_m), \n",
    "                                      Equals(NotInSet(x, Union(A_1_to_m)),\n",
    "                                             x_notin_all_A)),\n",
    "                            domain=NaturalPos)"
   ]
  },
  {
   "cell_type": "code",
   "execution_count": 5,
   "metadata": {},
   "outputs": [
    {
     "data": {
      "text/html": [
       "<strong id=\"nonmembership_folding\"><a class=\"ProveItLink\" href=\"proofs/nonmembership_folding/thm_proof.ipynb\">nonmembership_folding</a> (conjecture without proof):<br></strong> <a class=\"ProveItLink\" href=\"../__pv_it/theorems/76149440df846e96faa882d30a7f1ed0d2aca3290/theorem_expr.ipynb\"><img src=\"data:image/png;base64,iVBORw0KGgoAAAANSUhEUgAAAjAAAAAZCAMAAAAYE+SKAAAAXVBMVEX///9vb28YGBgNDQ0rKysP\n",
       "Dw8WFhYkJCRlZWVRUVESEhIoKCgtLS0/Pz96enovLy8QEBCIiIhmZma6urrMzMxUVFQiIiJERETc\n",
       "3Nzu7u6qqqp2dnaYmJgyMjIAAAAYJSVhAAAAAXRSTlMAQObYZgAABgdJREFUaN7tW4mWnSgQdfY1\n",
       "E9kXwf//zGERZSlQ03bP5J3mnHRIKG4hXGrTnqbnGuOcy+mzvWoj7nyXJwH5556+epPskzD/n0Y/\n",
       "CfPZyu02N/bvRPgDmpZ1xxPG7uPGPEGYB/FerSkxNjCsL0zt+9o2GJ7JuuMIs+g0bNUThHkQ79Wa\n",
       "HWcEmPSF7QrwD+wO+NqXh+C9mK07jjAyMVmKR1zSg3gv1gy+4dFLYWPXlhMW7A742pUH4cPtR1XH\n",
       "xzDJEBym4W0xzHN4L9YGJQcjOP/1F9sTVhqvckQwfv14AHkYPozMVccTxizKN/n2kDUiPIf3YhFv\n",
       "d0OoQO6SCdkVNhNayfsRBoaPt5+UnZAlrcK3WyWZZbSib8B75ECAi0ueSWDvQHcVoM3JKISYJGi3\n",
       "9i5AUHmYUAiHRtSkV/NuhOnAx4PGZScQhoWnE3dqtHi0ojO8W5oGwuSUw6KHo8n0xushxksEFIh4\n",
       "JsqhGY4mbstcBCFAOM5wWHRFyRo9TZgCvrkXtuwEwhDcEPxNhDnBM+uN0xoJCzADzA0D7uLgG6S9\n",
       "Cd1TwGNMtzhzsrgYk8jyOcqckuvyYsg1KKQY86cJk8EDxOdlJxbufB+NiyaU48Uho5mdE2aMp/B6\n",
       "vT4zFM4JQ2sroPSCv/7TxVGp5oG68KgH7bG//mHGS1RNSXQme0YriqXP1rWff3I/GuFYnsEYs3Wb\n",
       "Qp4mTAnfnPtadiJhFtNX6Tceu3Etwt3AynkzR3P3R3dXNMJzKBxfdwYj4fwZGa3TDi3VlwHOVuag\n",
       "3HSviIGhA/YXdbbEpuiScaBwALH8UOWUmXDszfadCFPCXyOMtFWVsdp4vznaIG9XlgsuKcdbEKYo\n",
       "33KKyvs1tmtDYdGo3rUFr3iYBgBns4Ci6zr3ET612EPoQgHkZehacHAGjvwQ3jp8bghj2wLbxTpM\n",
       "Jl/AG2wocvE22o9sV0dyl+TCNkYmaAbZmaGpphJdI8yB59JFZieeOXmncHPD7Lw8eQifECZmoYc2\n",
       "W4YRgFLNNnfTeYGxj2wJbokNQdfen8FBr1YuiY2AKdxB+UZXQa/cTjTVYjPCHJVhfclmQ/IlvCGz\n",
       "0zu7TUJsEPR6AJ6SxXJGxkTqjK+h1wiz4znW2eJAjFtg2C+6zKeE2YVPCUNEoU3hYhxSGmcIVcXO\n",
       "mYHZRqJghS3Ol0gEmKGSVU9iLV8tOnNS+72Uzu71GLGV1jLCKJvMwB4wq9X2OqB8CS8V8v/2QTxO\n",
       "B51M6dZJb6s3p1rPUDgnjDMv6TlOCJM76aKGqCxeFhHr0PyMMLnwGWFYoY1yIcTffwnUVxpet1G8\n",
       "nXlrYPaRHTrDdtARe7DE5n1ePGrFEFIIF3ZNMfGjAoXFuobD1a4TQ6WMMM71C02pZuKYzFm308q3\n",
       "8Az5IDxziYljqZMIY5LKckbYeBE2xxPG3Qo+Knwdz7LjhWDpkMYq5HD0EmEOYYO1MZjqhXYIk6oT\n",
       "SRvLvQ+olBwikIk5RvbCR4YNQDdLJE1UOHg18MMXwTm3F4QJL4M8jNGNCsGZ/OxWj4R/pHhoKmlL\n",
       "neZ7mGoGKyzMRCi6GIZv8Ou02BApy8BqEu9VzEPj2YUB6EcurJFDmfWklw5hwvMc2iZ3bHteCyj1\n",
       "lF42MxINSaU8G4lbVWBD0M0STZOND14+trU/c1YYeZdi+brZDCNitAq+fBzNOK50LIWb5RZhFDNk\n",
       "QT4dp24vnaMUgSJryFjj2YUBOsvyRy3sXLw/uPIDgCJLUrk2N6aTp4GUbhFgMhSiWUE2EqcU2L9D\n",
       "0PUSMbletYY+lAGFJeYrQ+9GmGAVfT1AsqV4XZF/3jCc4TY+WcL49ondIkxxNRpp1RkA/o/HyJ4X\n",
       "A/kuo3oG+lNscQaoNITze6jYnmD2dwM9/SYA7HqJ9hov4BR8Ov3a6kPaTlohO4QBnkWAG3+bMFrW\n",
       "3nSNpT8tz4W9D0DeJBT+V3TfE5S1e0DppG98DXgJul4iqKD31SXIjf/+E00j684HftNr7gyY+wdJ\n",
       "qjkLGb9yuGOob0F/g4LvqD1MmI/9vSQ8skrjB0O3vh69Bf0tCr6T5n8vif0LFm+gCpzyKbkAAAAA\n",
       "SUVORK5CYII=\n",
       "\" style=\"display:inline;vertical-align:middle;\" /></a><br>"
      ],
      "text/plain": [
       "nonmembership_folding: forall_{m in NaturalPos} [forall_{x, A_{1}, ..A_{_a}.., A_{m} | (x not-in A_{1}) and ..(x not-in A_{i}).. and (x not-in A_{m})} (x not-in (A_{1} union ..A_{_a}.. union A_{m}))]"
      ]
     },
     "execution_count": 5,
     "metadata": {},
     "output_type": "execute_result"
    }
   ],
   "source": [
    "nonmembership_folding = Forall(m, Forall((x, A_1_to_m), \n",
    "                                        NotInSet(x, Union(A_1_to_m)),\n",
    "                                        conditions=[x_notin_all_A]),\n",
    "                              domain=NaturalPos)"
   ]
  },
  {
   "cell_type": "code",
   "execution_count": 6,
   "metadata": {},
   "outputs": [
    {
     "name": "stdout",
     "output_type": "stream",
     "text": [
      "These theorems may now be imported from the theory package: proveit.logic.sets.unification\n"
     ]
    }
   ],
   "source": [
    "%end theorems"
   ]
  },
  {
   "cell_type": "code",
   "execution_count": null,
   "metadata": {},
   "outputs": [],
   "source": []
  }
 ],
 "metadata": {
  "kernelspec": {
   "display_name": "Python 3",
   "language": "python",
   "name": "python3"
  }
 },
 "nbformat": 4,
 "nbformat_minor": 0
}