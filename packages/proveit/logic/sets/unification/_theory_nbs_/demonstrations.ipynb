{
 "cells": [
  {
   "cell_type": "markdown",
   "metadata": {},
   "source": [
    "Demonstrations for the theory of <a class=\"ProveItLink\" href=\"theory.ipynb\">proveit.logic.sets.unification</a>\n",
    "========"
   ]
  },
  {
   "cell_type": "code",
   "execution_count": 1,
   "metadata": {},
   "outputs": [],
   "source": [
    "import proveit\n",
    "from proveit.logic import Forall, And, Or, Equals, InSet, NotInSet, Union\n",
    "from proveit import A, B, C, D, m, x\n",
    "from proveit.core_expr_types import A_1_to_m\n",
    "from proveit.logic.sets import x_in_any_A, x_notin_all_A\n",
    "from proveit.numbers import NaturalPos\n",
    "%begin demonstrations"
   ]
  },
  {
   "cell_type": "code",
   "execution_count": 2,
   "metadata": {},
   "outputs": [
    {
     "data": {
      "text/html": [
       "<span style=\"font-size:20px;\"><a class=\"ProveItLink\" href=\"../__pv_it/demonstrations/dc9ee605e5526df8bf6857fe9b08ea52b078a7d60/expr.ipynb\"><img src=\"data:image/png;base64,iVBORw0KGgoAAAANSUhEUgAAAJIAAAAUBAMAAACUvHl4AAAAMFBMVEX///8QEBBmZmaqqqrMzMxE\n",
       "REQyMjIiIiKYmJh2dna6urrc3NxUVFSIiIju7u4AAAA6P00QAAAAAXRSTlMAQObYZgAAAhZJREFU\n",
       "OMtjYMAGdjCQCJg3YBfnCwBTLAlo4j3/D+mELkBTe/XQCe4JDKexm8QGsYHtA4h8AFYPkRBlYGD6\n",
       "gip2sYGBWbGB4Rl2k5ogVNs/EAl2GBvEkT8YGLg+oYg9rQMS+hsYOC8gG9BaXg7xTzXE3Ua/QVQB\n",
       "iGAHi/ACBTj+ooglgpy3EKhYAMkg13tQBjdYIQMH7y80k1iByh/WIYsxfQaxnIA4i4Hh7Z1dN0FO\n",
       "48uDGcmrAKbWMf9AM4n/AANLzQNksf1g1msgnsTAN4Gjlh3kKR54RLI2gD23gOUvmkn+J3rDDVDE\n",
       "5sODp42B8wHnPy6QIaxwb7KDVXMxcH9CM+n+BgY+GRSxegeYJnNgXLJCUo9jGhCAQ5wRnGR8lHS+\n",
       "opkUCDLNAFlM/gEsofiDfA9x4Va4myAmAQkxNJP+gEy6gOImcAJ3gJrkD3EhI6rvmIG4EJ6ensGS\n",
       "E8P5Bchi+qBw4QTxljMwP7jPwAtyHtMFlBDfDMT5IJ4WiDCCJSeWryhi+0Ga5kFCfL1BPDTDFsNM\n",
       "4lSApql4kI3PgE7mAqcQNmByWhjHgCwGSihG4LDSZHhz960GONYZ3kQ9gJjEVcDAF//tAYPp/yJQ\n",
       "Ok01cT4KkuHJ/6N0NBiSdmFiDI9iDkGydApyblkZjpJbYIDlki5GmYEhxleALweTAlBzMBywbiDZ\n",
       "pGd4SzpSQDQOcZJLX44NDABW2ZMtWTVgSQAAAABJRU5ErkJggg==\n",
       "\" style=\"display:inline;vertical-align:middle;\" /></a> <a class=\"ProveItLink\" href=\"../__pv_it/demonstrations/2d76f5d2471c7afd832fa77061a61b68f88416c40/proof.ipynb\" style=\"text-decoration: none\">&nbsp;&#x22A2;&nbsp;&nbsp;</a><a class=\"ProveItLink\" href=\"../__pv_it/demonstrations/000847342f664140a622d07809b997b75744ccce0/expr.ipynb\"><img src=\"data:image/png;base64,iVBORw0KGgoAAAANSUhEUgAAAPsAAAAUBAMAAAC5TlbCAAAAMFBMVEX////MzMxUVFR2dna6uroQ\n",
       "EBCqqqqIiIgiIiJmZmYyMjJERETu7u6YmJjc3NwAAACgK8IjAAAAAXRSTlMAQObYZgAAAy1JREFU\n",
       "SMeVlk1oE0EUx//5aL52N4aCBy3SCh4MpbYniygYkIKCYBFPejBHe9GgSCkKDR5ikaJFUelBjKAH\n",
       "pVgVPwpquxRrawsSvBQVJAcP4getPfiBH/W9mZ3NJmZCM7Czb3Z/M+/NmzdvBogXoC+hYsWH+mh8\n",
       "qUHjMFdz2t9r6dlU8U1Dv1pOnn+c+o8271THzRPJtniHn629rVU/Ss8sCz7RTKAGfQCIfpW0BEWf\n",
       "WLE6fbyA0MWCmQesIZ12a9QGAhmS/DygxZKO9v0Bgj8ljfVczXP1ujo9N0jV1SI6gUiZgdbYwBkl\n",
       "PycAZjcP3kJVxIaeDv+l1ndJo5Er1oCzZVrfDgzkhXCDh+oCpoAPZZN4ZJcahf4U1deVy3exoKMN\n",
       "0js16NDs8iC7KZ714k0nHSH6jes1BKbQR9L00ffHhNtmPdqD9hGO8i0s99AzzoKOXtUC3ynboUOk\n",
       "2mA3hYc8uDmi4AVh1Uta2SE8pR8d1umIcIs3cp+hmXu9YTlCUxVBrKOb2+bH0ooGDd8kfFLw4H53\n",
       "3bZn1OLlkSMj7MDvoPjp3ScpLLDxh8TSZuDnldDS/UWYexWNXmCDsDrtwQ0XPpdQeSKLfWQgDDmS\n",
       "b/8tKs7CJofb+Wuz2KdZZ0/p6AdsQtqhMQNTuKch5cFXMy0+HxSLRpVvkQekpZPuiHvmE6TeeaUe\n",
       "l7BZqa9KL7H6jKKj6UBaqXfxT6XZi5knhPqcWDrHHd2lAal/hJs7ResjZBBraN72aE8pOp6PQDnf\n",
       "xRtcmjc0AjzFLAdTyO5HWDjkcim3U8/YohtMxjo5BQ3N2973y6Vxdx4q9Fw8mnEjn6VtMvRoq+xJ\n",
       "TzhngzRXbXCDBsUFOb2NcpNp6Bg5ouuJS6NRJB3eWB48555M5KseYVEHu2uyd/qKPMjM1t1OWlwe\n",
       "QWjiB3W/Jj/clK/qtH90abj1IUsOHZO5mZzrwSfvqzzx4l5SREUsUZFGg1tLSRdOzIvyWb5WSMcd\n",
       "ReVJd8eYk3RVmal15Ej/ZcqPobpo3ZGjSqdKptoyW9GujzaKtWiRHOZqDji+suuGhtZdNzzG1bw+\n",
       "WXVdtqz6LlvvgH/oFQG6dNcrygAAAABJRU5ErkJggg==\n",
       "\" style=\"display:inline;vertical-align:middle;\" /></a></span>"
      ],
      "text/plain": [
       "{x in (A union B union C)} |- (x in A) or (x in B) or (x in C)"
      ]
     },
     "execution_count": 2,
     "metadata": {},
     "output_type": "execute_result"
    }
   ],
   "source": [
    "Or(InSet(x, A), InSet(x, B), InSet(x,C)).prove([InSet(x,Union(A,B,C))])"
   ]
  },
  {
   "cell_type": "code",
   "execution_count": 3,
   "metadata": {},
   "outputs": [
    {
     "data": {
      "text/html": [
       "<span style=\"font-size:20px;\"><a class=\"ProveItLink\" href=\"../__pv_it/demonstrations/000847342f664140a622d07809b997b75744ccce0/expr.ipynb\"><img src=\"data:image/png;base64,iVBORw0KGgoAAAANSUhEUgAAAPsAAAAUBAMAAAC5TlbCAAAAMFBMVEX////MzMxUVFR2dna6uroQ\n",
       "EBCqqqqIiIgiIiJmZmYyMjJERETu7u6YmJjc3NwAAACgK8IjAAAAAXRSTlMAQObYZgAAAy1JREFU\n",
       "SMeVlk1oE0EUx//5aL52N4aCBy3SCh4MpbYniygYkIKCYBFPejBHe9GgSCkKDR5ikaJFUelBjKAH\n",
       "pVgVPwpquxRrawsSvBQVJAcP4getPfiBH/W9mZ3NJmZCM7Czb3Z/M+/NmzdvBogXoC+hYsWH+mh8\n",
       "qUHjMFdz2t9r6dlU8U1Dv1pOnn+c+o8271THzRPJtniHn629rVU/Ss8sCz7RTKAGfQCIfpW0BEWf\n",
       "WLE6fbyA0MWCmQesIZ12a9QGAhmS/DygxZKO9v0Bgj8ljfVczXP1ujo9N0jV1SI6gUiZgdbYwBkl\n",
       "PycAZjcP3kJVxIaeDv+l1ndJo5Er1oCzZVrfDgzkhXCDh+oCpoAPZZN4ZJcahf4U1deVy3exoKMN\n",
       "0js16NDs8iC7KZ714k0nHSH6jes1BKbQR9L00ffHhNtmPdqD9hGO8i0s99AzzoKOXtUC3ynboUOk\n",
       "2mA3hYc8uDmi4AVh1Uta2SE8pR8d1umIcIs3cp+hmXu9YTlCUxVBrKOb2+bH0ooGDd8kfFLw4H53\n",
       "3bZn1OLlkSMj7MDvoPjp3ScpLLDxh8TSZuDnldDS/UWYexWNXmCDsDrtwQ0XPpdQeSKLfWQgDDmS\n",
       "b/8tKs7CJofb+Wuz2KdZZ0/p6AdsQtqhMQNTuKch5cFXMy0+HxSLRpVvkQekpZPuiHvmE6TeeaUe\n",
       "l7BZqa9KL7H6jKKj6UBaqXfxT6XZi5knhPqcWDrHHd2lAal/hJs7ResjZBBraN72aE8pOp6PQDnf\n",
       "xRtcmjc0AjzFLAdTyO5HWDjkcim3U8/YohtMxjo5BQ3N2973y6Vxdx4q9Fw8mnEjn6VtMvRoq+xJ\n",
       "TzhngzRXbXCDBsUFOb2NcpNp6Bg5ouuJS6NRJB3eWB48555M5KseYVEHu2uyd/qKPMjM1t1OWlwe\n",
       "QWjiB3W/Jj/clK/qtH90abj1IUsOHZO5mZzrwSfvqzzx4l5SREUsUZFGg1tLSRdOzIvyWb5WSMcd\n",
       "ReVJd8eYk3RVmal15Ej/ZcqPobpo3ZGjSqdKptoyW9GujzaKtWiRHOZqDji+suuGhtZdNzzG1bw+\n",
       "WXVdtqz6LlvvgH/oFQG6dNcrygAAAABJRU5ErkJggg==\n",
       "\" style=\"display:inline;vertical-align:middle;\" /></a> <a class=\"ProveItLink\" href=\"../__pv_it/demonstrations/e2ff1391407f4d09acdb9e9705f56ee36b9dbd880/proof.ipynb\" style=\"text-decoration: none\">&nbsp;&#x22A2;&nbsp;&nbsp;</a><a class=\"ProveItLink\" href=\"../__pv_it/demonstrations/dc9ee605e5526df8bf6857fe9b08ea52b078a7d60/expr.ipynb\"><img src=\"data:image/png;base64,iVBORw0KGgoAAAANSUhEUgAAAJIAAAAUBAMAAACUvHl4AAAAMFBMVEX///8QEBBmZmaqqqrMzMxE\n",
       "REQyMjIiIiKYmJh2dna6urrc3NxUVFSIiIju7u4AAAA6P00QAAAAAXRSTlMAQObYZgAAAhZJREFU\n",
       "OMtjYMAGdjCQCJg3YBfnCwBTLAlo4j3/D+mELkBTe/XQCe4JDKexm8QGsYHtA4h8AFYPkRBlYGD6\n",
       "gip2sYGBWbGB4Rl2k5ogVNs/EAl2GBvEkT8YGLg+oYg9rQMS+hsYOC8gG9BaXg7xTzXE3Ua/QVQB\n",
       "iGAHi/ACBTj+ooglgpy3EKhYAMkg13tQBjdYIQMH7y80k1iByh/WIYsxfQaxnIA4i4Hh7Z1dN0FO\n",
       "48uDGcmrAKbWMf9AM4n/AANLzQNksf1g1msgnsTAN4Gjlh3kKR54RLI2gD23gOUvmkn+J3rDDVDE\n",
       "5sODp42B8wHnPy6QIaxwb7KDVXMxcH9CM+n+BgY+GRSxegeYJnNgXLJCUo9jGhCAQ5wRnGR8lHS+\n",
       "opkUCDLNAFlM/gEsofiDfA9x4Va4myAmAQkxNJP+gEy6gOImcAJ3gJrkD3EhI6rvmIG4EJ6ensGS\n",
       "E8P5Bchi+qBw4QTxljMwP7jPwAtyHtMFlBDfDMT5IJ4WiDCCJSeWryhi+0Ga5kFCfL1BPDTDFsNM\n",
       "4lSApql4kI3PgE7mAqcQNmByWhjHgCwGSihG4LDSZHhz960GONYZ3kQ9gJjEVcDAF//tAYPp/yJQ\n",
       "Ok01cT4KkuHJ/6N0NBiSdmFiDI9iDkGydApyblkZjpJbYIDlki5GmYEhxleALweTAlBzMBywbiDZ\n",
       "pGd4SzpSQDQOcZJLX44NDABW2ZMtWTVgSQAAAABJRU5ErkJggg==\n",
       "\" style=\"display:inline;vertical-align:middle;\" /></a></span>"
      ],
      "text/plain": [
       "{(x in A) or (x in B) or (x in C)} |- x in (A union B union C)"
      ]
     },
     "execution_count": 3,
     "metadata": {},
     "output_type": "execute_result"
    }
   ],
   "source": [
    "InSet(x,Union(A,B,C)).prove([Or(InSet(x, A), InSet(x, B), InSet(x,C))])"
   ]
  },
  {
   "cell_type": "code",
   "execution_count": 4,
   "metadata": {},
   "outputs": [
    {
     "data": {
      "text/html": [
       "<span style=\"font-size:20px;\"> <a class=\"ProveItLink\" href=\"../__pv_it/demonstrations/bb068de0cf040b75c5e037340df4abf71a4c24c00/proof.ipynb\" style=\"text-decoration: none\">&nbsp;&#x22A2;&nbsp;&nbsp;</a><a class=\"ProveItLink\" href=\"../__pv_it/demonstrations/62fb74fb923f05c2313a4719159ca06aafec9a9e0/expr.ipynb\"><img src=\"data:image/png;base64,iVBORw0KGgoAAAANSUhEUgAAAlIAAAAVCAMAAAC6w/C8AAAARVBMVEX///8/Pz9vb28YGBgNDQ0r\n",
       "KysPDw8WFhbMzMxUVFR2dna6uroQEBCqqqqIiIgiIiJmZmYyMjJERETu7u6YmJjc3NwAAAAUTNBo\n",
       "AAAAAXRSTlMAQObYZgAABQ5JREFUaN7lWgeT8ygM5TrYppf//1PPiQHTS0x2vpvzzC7ejfIkPQkQ\n",
       "BYDuA8H/7IH/UexfCFyr5sd0RvhHH6zjdtTPKYdLCleR+WPgIwx9bnkWCCna2YnCv2JhyDtmKmQM\n",
       "YgwJsXckJRGIIQX01oET6ERDl+228W1bgwAfOBw72lU0hZ2wsxY8prTP0LTljUDwtjYWJUMszM1t\n",
       "ESi9AnBcljIDm3LkePcRzK62Cmeu2CqD3x/ZSEs+kFLe9CmHY0dTRbqqZAw7YmcxeERpxtBTy1uB\n",
       "UAyMD3ixsOLGxzswObQemitFdsMaclJQC8SMbsMRK3e8m83+6drWCMeKPgyN8LejiSLOKkrGsBN2\n",
       "VoKnlKYMPba8EQhaz04lKP3n7zCkkbDELgFilaF2YiWUM6Eoxw+XmvvRgbOD3X4FQ1px17Y40SUf\n",
       "eg6njsaKoI/bZ9gJOyvBU0oThp5bXg+ErpZdUJBTqwhVxcLqBN47KSUOq8l5UJJj1+j5VsracG6m\n",
       "1eaqubg1gPdqNW/6lMO5o5EitBMCqvz0sVN21oHnlMYMPba8EQjCXC1HkN7JPT5KLrP5nYSj4y4B\n",
       "NqqTUuZd1UGKZF1Om/ufUrfhXA25X8BgsxZtnXH7Nn3K4dzRUNFLlpaUjGKn7CwDL1AaMfTc8kYg\n",
       "hC2Hz1xTlADqv3sV73Eui2CdKfdgRq3lADRIKSIoBg25zZDW1E0LM/g5bGy2ygFR+4LjwcMy06cc\n",
       "zh0NFIENXz8pP6PYGTvLwAuUhtgLLG8EwvqzyZcdEux+gLvSkEczbpAaYH93BtbOAVssyAM15KiB\n",
       "gynlZ3CA7EyE7aeY9kopHL+MOZw7ihPLNM+VjGJn7CwDL1AaMfTc8kYgjt2v1EW4MwGPVyf/68/z\n",
       "V7Dm3YN9CsYY8uNfJQdssXCagOtyx71uBLIN5zctzOG6S9xWH2/6lMO5o4Ei9e6pCGZKRrEzdpaB\n",
       "FygNGXpueSsQQZZEg6UWboAExZS63g7eTik70Z6kkdYodXcl2IZz3ipX23ycUmMO544Giq6aOtwD\n",
       "nMTO2FkGXqA0ZOi55a1A3HMZjAfLo7AbcQvbF3oUNpl4tu/ih8eiXLAVsXXgiFuq+uqQxm1aS6Ha\n",
       "xDfmcO7orQizbI9wDjtnZxl4gdKAoQWWtwJh6zIsz77y6jB+wGTnt/ZkHeVrXI3T7fN7dxWzbN8F\n",
       "3hNkQU77frHJDhy0WcbTolP19s/T8nzM4dzRW5ELSGDgHHbOzjLwAqUBQwssbwXiWvzt52z+mh/D\n",
       "o8MzcVFS5LmVot/FEL43SO72voJSjh92s01I0JCzS3TMggKgCGdsR7hdZFvcVh+/hp5yOHfUK4Ii\n",
       "nkamsQvsrAPPKb0ZWmB5MxDXgCURIZIwFR5GSyT+SAp9KyyMeQcany8eVXOBIcTozh7E3aloOBXn\n",
       "ciciEwjFp0g1OIQEC7bdXObx3t0LP+5POFxy1CtC3tx7hT1DZomdZeAFSm+G1ljeCERjJ/733wSl\n",
       "lI9t25/ZTxgjA3cCBuVGxCSN24cHMrnDNYWubL8sHeGnj/1V8IChL1geB6JxXpifTfQOF3/6WXxs\n",
       "LPSowp6ST7C/Ct5j6JnlSSCq3yjdoBH6V8qoqcst3vQph8sK5+nvY38VvM/QE8vTQFS/QtRn+D/3\n",
       "OBrEmit4RH3MO3iO/VVw8fkVvAHLs0DUbogWdfxKF4WVjtvO070oLEYVjiiZxf4quHpwUVhMBuJf\n",
       "xGuEKrnR6Y8AAAAASUVORK5CYII=\n",
       "\" style=\"display:inline;vertical-align:middle;\" /></a></span>"
      ],
      "text/plain": [
       "|- (x not-in (A union B union C union D)) = ((x not-in A) and (x not-in B) and (x not-in C) and (x not-in D))"
      ]
     },
     "execution_count": 4,
     "metadata": {},
     "output_type": "execute_result"
    }
   ],
   "source": [
    "NotInSet(x, Union(A,B,C,D)).equivalence()"
   ]
  },
  {
   "cell_type": "code",
   "execution_count": 5,
   "metadata": {},
   "outputs": [
    {
     "data": {
      "text/html": [
       "<span style=\"font-size:20px;\"><a class=\"ProveItLink\" href=\"../__pv_it/demonstrations/67f5acf714d80da83c8eb66946e3b79a5fef9fda0/expr.ipynb\"><img src=\"data:image/png;base64,iVBORw0KGgoAAAANSUhEUgAAAPsAAAAVCAMAAAC34mhmAAAAQlBMVEX///9jY2MJCQkNDQ0rKysP\n",
       "Dw8WFhbMzMxUVFR2dna6uroQEBCqqqqIiIgiIiJmZmYyMjJERETu7u6YmJjc3NwAAABtKQr7AAAA\n",
       "AXRSTlMAQObYZgAAAthJREFUWMPFmIuymyAQhml7WlFY7rz/qx6Uu4CGEzPNTBJH8GNZln8XEbr9\n",
       "LOhzn0+yX4IbfdnMxk3U/E/2A3Alr72HezeF/8c3Bs6xNbYWc46l3F5gTxuuQGKONTJrgovrMfjW\n",
       "uSlswInTSpz7TbKJnw63S8t+Fw7kCBPK938P1xxNR44WVvmrFWpzatgse7E+ijfLW/Z7cCVZMJlb\n",
       "E+Hswntasn9/mWiCjfrn90tS2Z4GCMNPsiFgtYWG/SZckPjwRqLhZqwIiwSFZGcE7YyMASXKyMIb\n",
       "lGs1zZYkONTPsmK/B+eWplYeDQcehQCw2aCIMyVUZ9PtjlOI2iixaxF5e+fSomm2PeRpYVg17CG8\n",
       "pXfgxuZHlYlw6SehnPZpBqiIk0MKAVp53faNCWnr55aV+m9axkn2YrHWIBntsEfwDr0DXy20moXC\n",
       "QKvaOyi05Ug5JFeodtkPP0avU1ariynsnWWH7a4IbtkjeIfegTPbFDoOTvye2nvKKl8uRAjx9cf9\n",
       "iFPa5C4FW5nWKnvy8C3Oo8yyw3Z3PqBn9hDe0ntwYrMrVDKcZD2p48JIVAdZsewOJtq5e4EqSopZ\n",
       "tsVx7tDM/Qpe03twlkl0SYazrH+nuCDd5B66s5h/ttSF8nPJMcmO2R3hkEUy+xJ+pnfgKSc7r2TD\n",
       "g2RQ5by9uzzHBge0NeWDoXVhV+hRNIvykxy9yo7ZfYkbqtC6IbxD78BNioxVZcN9HtncDpP2dDpg\n",
       "FJ8VIiVVGR3J15RU6/BMOepVtis/Qu0h1Yk9hnfpHXhIypRnD60hrhQGUMB1dTBS+Pem6rrQ2kM/\n",
       "qbtgoURYUumR1g+q/fAaG2ERDzIpmBN7DO/SW7i7xyXGZYm/wy9KQ/1rlYwxcXWWYrUG1gfnp9if\n",
       "gl8cCeT9EXqFq9ZPsh+BDzvenI97Z9iXjXiA/QR82BP0LUL+9N3FA+xH4KNXP/fe0z9+Z/UE+134\n",
       "N1RwNqMRYLw2AAAAAElFTkSuQmCC\n",
       "\" style=\"display:inline;vertical-align:middle;\" /></a> <a class=\"ProveItLink\" href=\"../__pv_it/demonstrations/ce0454c8049b8a8b687a0bea23f43e07154daf7d0/proof.ipynb\" style=\"text-decoration: none\">&nbsp;&#x22A2;&nbsp;&nbsp;</a><a class=\"ProveItLink\" href=\"../__pv_it/demonstrations/affde827b9d11b9d71037febd98a2c85be30e3d10/expr.ipynb\"><img src=\"data:image/png;base64,iVBORw0KGgoAAAANSUhEUgAAAJIAAAAVCAMAAACaEEfcAAAARVBMVEX///8/Pz9vb28YGBgNDQ0r\n",
       "KysQEBAPDw8WFhZmZmaqqqrMzMxEREQyMjIiIiKYmJh2dna6urrc3NxUVFSIiIju7u4AAAAFgFu8\n",
       "AAAAAXRSTlMAQObYZgAAAi5JREFUSMfNVtly5CAMZC+y4r6k///UZWyMxTDYSVWSWh4mOG5LratB\n",
       "iIulxX+33PCU/Jc7VOkGoDN/QjO8szcf+0yUAbIx8RqIxWTIXqRQH/INJxiM2QFt6bQpXm2FkHsM\n",
       "QPoKV+SWfAXbX7QfqJuH4clSN8uscIOa9kJHgjUOjWt2gLaQQ1mm3Tj39417cDxJqJqFJ+Y8iNIQ\n",
       "nsoaZ+URWZS7ZbloIlMq0nASaUxZdRhvKJnDx5GHFzgg1X0euYxbf5WcYjlThhanshZet4hCkb+h\n",
       "RNtwaJdxiUt0/g9bAkJ1hLXTvSvCdQp725ehqoYpAMZHp5RrSpqy98U4Jda4QHPn+Eoj4OMditjr\n",
       "tE+KHcaHmRZxCxCuKbVWQpnXOEezGCu3D6ThmqOlrevP7/rDJjoyuYKqN2SuKbVWqtTUEifPse26\n",
       "oJu6DAlMm7OgBvKM0r6T9poS5YNSucjSmRw9UtJjAuV8mLDCtY2TsxixiThUSeQ+mjOOKUnoAVfH\n",
       "Cmskj3B6EqHGFWGk1Ns7qWf5PkVewaRK+izwjEs9gwFZe8daa0PjoVpTkp8aL8CTPpkeIdqGjWwi\n",
       "rGwCaFCscU1KFJwfQhCYS8ECnh/zmM0vHClFt+s/0WZP1Y07cpKsUVqrfHrP9jhzeUfOOIFgch7O\n",
       "Uru6Ef38UU8UtzxQJrkvAOXuYvEuHLrVGzN95+FbrmjLY3e8G61YfsFaX06Kfx/NT1/ruF96/4aL\n",
       "rn8w+gcIiCAXs490pQAAAABJRU5ErkJggg==\n",
       "\" style=\"display:inline;vertical-align:middle;\" /></a></span>"
      ],
      "text/plain": [
       "{(x not-in A) and (x not-in B) and (x not-in C)} |- x not-in (A union B union C)"
      ]
     },
     "execution_count": 5,
     "metadata": {},
     "output_type": "execute_result"
    }
   ],
   "source": [
    "NotInSet(x, Union(A,B,C)).prove([And(NotInSet(x,A), NotInSet(x,B),NotInSet(x,C))])"
   ]
  },
  {
   "cell_type": "code",
   "execution_count": 6,
   "metadata": {},
   "outputs": [],
   "source": [
    "%end demonstrations"
   ]
  },
  {
   "cell_type": "code",
   "execution_count": null,
   "metadata": {},
   "outputs": [],
   "source": []
  }
 ],
 "metadata": {
  "kernelspec": {
   "display_name": "Python 3",
   "language": "python",
   "name": "python3"
  }
 },
 "nbformat": 4,
 "nbformat_minor": 0
}