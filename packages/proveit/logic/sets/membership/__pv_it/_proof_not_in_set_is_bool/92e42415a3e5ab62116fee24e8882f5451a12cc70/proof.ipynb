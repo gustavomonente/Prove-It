{
 "cells": [
  {
   "cell_type": "markdown",
   "metadata": {},
   "source": [
    "Show the Proof\n",
    "========"
   ]
  },
  {
   "cell_type": "code",
   "execution_count": 1,
   "metadata": {},
   "outputs": [
    {
     "data": {
      "text/html": [
       "<table><tr><th>&nbsp;</th><th>step type</th><th>requirements</th><th>statement</th></tr>\n",
       "<tr><td><a name=\"proveit.logic.sets.membership._proof_not_in_set_is_bool.92e42415a3e5ab62116fee24e8882f5451a12cc70_step0\">0</a></td><td>instantiation</td><td><a href=\"#proveit.logic.sets.membership._proof_not_in_set_is_bool.92e42415a3e5ab62116fee24e8882f5451a12cc70_step1\">1</a>, <a href=\"#proveit.logic.sets.membership._proof_not_in_set_is_bool.92e42415a3e5ab62116fee24e8882f5451a12cc70_step2\">2</a></td><td><span style=\"font-size:20px;\"><a class=\"ProveItLink\" href=\"../../theorems/1bed6bbeb79ffc84e0d051c69afe95d7794009f40/expr.ipynb\"><img src=\"../../theorems/1bed6bbeb79ffc84e0d051c69afe95d7794009f40/expr.png\" style=\"display:inline;vertical-align:middle;\" /></a> <a class=\"ProveItLink\" href=\"proof.ipynb\" style=\"text-decoration: none\">&nbsp;&#x22A2;&nbsp;&nbsp;</a><a class=\"ProveItLink\" href=\"../ad704c84e3dfb59bb54667230c78722938e954620/expr.ipynb\"><img src=\"../ad704c84e3dfb59bb54667230c78722938e954620/expr.png\" style=\"display:inline;vertical-align:middle;\" /></a></span></td></tr>\n",
       "<tr><td>&nbsp;</td><td colspan=4 style=\"text-align:left\"><span style=\"font-size:20px;\"><a class=\"ProveItLink\" href=\"../../../../../../__pv_it/common/09585084922504426caf1db2ff588a23a0932a960/expr.ipynb\"><img src=\"../../../../../../__pv_it/common/09585084922504426caf1db2ff588a23a0932a960/expr.png\" style=\"display:inline;vertical-align:middle;\" /></a> : <a class=\"ProveItLink\" href=\"../../axioms/0cdab0d18bbc19517ae2790158516d237f4206600/expr.ipynb\"><img src=\"../../axioms/0cdab0d18bbc19517ae2790158516d237f4206600/expr.png\" style=\"display:inline;vertical-align:middle;\" /></a></span></td></tr><tr><td><a name=\"proveit.logic.sets.membership._proof_not_in_set_is_bool.92e42415a3e5ab62116fee24e8882f5451a12cc70_step1\">1</a></td><td>theorem</td><td></td><td><span style=\"font-size:20px;\"> <a class=\"ProveItLink\" href=\"../../../../../booleans/negation/_theory_nbs_/proofs/closure/thm_proof.ipynb\" style=\"text-decoration: none\">&nbsp;&#x22A2;&nbsp;&nbsp;</a><a class=\"ProveItLink\" href=\"../../../../../booleans/negation/__pv_it/theorems/3ce0df3c5132a3653fd6f1749f1a509d249414970/expr.ipynb\"><img src=\"../../../../../booleans/negation/__pv_it/theorems/3ce0df3c5132a3653fd6f1749f1a509d249414970/expr.png\" style=\"display:inline;vertical-align:middle;\" /></a></span></td></tr>\n",
       "<tr><td>&nbsp;</td><td colspan=4 style-\"text-align:left\"><a class=\"ProveItLink\" href=\"../../../../../booleans/negation/_theory_nbs_/proofs/closure/thm_proof.ipynb\">proveit.logic.booleans.negation.closure</a></td></tr><tr><td><a name=\"proveit.logic.sets.membership._proof_not_in_set_is_bool.92e42415a3e5ab62116fee24e8882f5451a12cc70_step2\">2</a></td><td>assumption</td><td></td><td><span style=\"font-size:20px;\"><a class=\"ProveItLink\" href=\"../../theorems/1bed6bbeb79ffc84e0d051c69afe95d7794009f40/expr.ipynb\"><img src=\"../../theorems/1bed6bbeb79ffc84e0d051c69afe95d7794009f40/expr.png\" style=\"display:inline;vertical-align:middle;\" /></a> <a class=\"ProveItLink\" href=\"../1b1ff5f11d588b4edaef19da14706004f85de4670/proof.ipynb\" style=\"text-decoration: none\">&nbsp;&#x22A2;&nbsp;&nbsp;</a><a class=\"ProveItLink\" href=\"../../theorems/1bed6bbeb79ffc84e0d051c69afe95d7794009f40/expr.ipynb\"><img src=\"../../theorems/1bed6bbeb79ffc84e0d051c69afe95d7794009f40/expr.png\" style=\"display:inline;vertical-align:middle;\" /></a></span></td></tr>\n",
       "</table>"
      ],
      "text/plain": [
       "<proveit._core_.proof._ShowProof at 0x7fc7e85e1358>"
      ]
     },
     "execution_count": 1,
     "metadata": {},
     "output_type": "execute_result"
    }
   ],
   "source": [
    "import proveit\n",
    "# Automation is not needed when only showing a stored proof:\n",
    "proveit.defaults.automation = False # This will speed things up.\n",
    "proveit.defaults.inline_pngs = False # Makes files smaller.\n",
    "%show_proof"
   ]
  },
  {
   "cell_type": "code",
   "execution_count": null,
   "metadata": {},
   "outputs": [],
   "source": []
  }
 ],
 "metadata": {
  "kernelspec": {
   "display_name": "Python 3",
   "language": "python",
   "name": "python3"
  }
 },
 "nbformat": 4,
 "nbformat_minor": 0
}