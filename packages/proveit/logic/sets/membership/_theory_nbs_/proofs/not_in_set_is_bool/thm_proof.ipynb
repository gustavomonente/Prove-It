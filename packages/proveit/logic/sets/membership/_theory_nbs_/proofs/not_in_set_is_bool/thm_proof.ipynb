{
 "cells": [
  {
   "cell_type": "markdown",
   "metadata": {},
   "source": [
    "Proof of <a class=\"ProveItLink\" href=\"../../../../../../_theory_nbs_/theory.ipynb\">proveit</a>.<a class=\"ProveItLink\" href=\"../../../../../_theory_nbs_/theory.ipynb\">logic</a>.<a class=\"ProveItLink\" href=\"../../../../_theory_nbs_/theory.ipynb\">sets</a>.<a class=\"ProveItLink\" href=\"../../theory.ipynb\">membership</a>.<a class=\"ProveItLink\" href=\"../../theorems.ipynb#not_in_set_is_bool\">not_in_set_is_bool</a> theorem\n",
    "========"
   ]
  },
  {
   "cell_type": "code",
   "execution_count": 1,
   "metadata": {},
   "outputs": [],
   "source": [
    "import proveit\n",
    "from proveit import defaults\n",
    "from proveit import x, A, S\n",
    "from proveit.logic import InSet\n",
    "from proveit.logic.booleans.negation import closure\n",
    "from proveit.logic.sets.membership  import not_in_set_def\n",
    "theory = proveit.Theory() # the theorem's theory"
   ]
  },
  {
   "cell_type": "code",
   "execution_count": 2,
   "metadata": {},
   "outputs": [
    {
     "data": {
      "text/html": [
       "Under these <a href=\"presumptions.txt\">presumptions</a>, we begin our proof of<br><strong id=\"not_in_set_is_bool\">not_in_set_is_bool:</strong> <a class=\"ProveItLink\" href=\"../../../__pv_it/theorems/d52f6d2100ee61b18642074498bf36b8c75445060/expr.ipynb\"><img src=\"data:image/png;base64,iVBORw0KGgoAAAANSUhEUgAAAP0AAAAXCAMAAAD3NLkqAAAARVBMVEX///8/Pz9vb28YGBgNDQ0r\n",
       "KysPDw8WFhYQEBCIiIhmZma6urrMzMxUVFQiIiJERETc3Nzu7u6qqqp2dnaYmJgyMjIAAACoIi7K\n",
       "AAAAAXRSTlMAQObYZgAAA4BJREFUWMPdWImOpCAQZc+Rm+L6/09dBBEKRdvJJr07TNLE4ZX4qBtC\n",
       "/rchyJccxuN5MtTk/9Y82q3Aw/7s/VvJg8bzTPVyYMGcc8RzQuQ1faoWrWNYlOT5OcOdrcsB3so+\n",
       "GDxPBuPoUft8YHH9DXc7EEETFlhWc4abetRGv5W8Z3h+zfBZQftM3NFrUU144k0FKUwzvKq8GcFb\n",
       "hjJ4PjsgrdTH717DEEsM5Jk3LEe8UmFgb+3GPsO9g3UY9d6Qp/B84vCaJj1pdDg8llglyiEEfsAf\n",
       "de94jSwZHvU6lPvMN/+1/EQZnoFSaThtxgzZRgffhhhdt4PrvAaOYSyz50pI0cHLgz5lIlJAtb5t\n",
       "gEPO/MB2OctfY689miG92itKmt2WiE4H16YxjT3Y++5sTjJAYr+oGBfewzmbBsy8ZGP/AnK5wVGO\n",
       "YZAPNDDFDjFGWTS7pDgXgXCDdz4oFLxc4rL916rJlyLL99718PWHniZ7BcOLNNLv+CXWsZJNOjmQ\n",
       "eJEmizHejh5RFbLNq7xGmy0hjV8/088xCcbt6EQc8HkM7OtU4c7PKqiYj96es5diDLHWABzkSv7e\n",
       "F2n6S6r11+zzS3orL/l4yEuuev+RvZnqfuUgO7gJewXlKBO00QqLG4qLQ+bdJXgXcnq5bFVtcWXP\n",
       "vTPXlp+/DZ3uckz21axE3CyfqwF/yl7WAneDa7NVfylHyEDU/uXAlrjwc/YlNzUJlIc7OStRPU1T\n",
       "hbIEcRP1LKSAVl5fzZviA15BG0PmTqIeo3Pdb46/wS1Te34Kg00aqc7Zc40kgE3kVly3mC2fmZF+\n",
       "TVZl5smW1+q1b3iSVQy+lqJnFtkrf+ZOrAlVugngHJMY3rlYbDYJonjVhL1EEkLlskHTUU4EtFj8\n",
       "noyaqUZbZpCUAmWo7wKpf+CIz9I3MCkbS2RSCc/hostpcA/N21qFYu2hqdJ9LYUlGgzL5VOSWPeO\n",
       "sE9Uut+/aVS5HrrEIXRzd4kf4SYSF3IoNTqdB9O5f4Jz9lm4SZBWdGE5jxfXjEfWpvR5l6NvSsu7\n",
       "LucGDtJzR9dKQyx29c7UOzOYxnzoJdJaNUEsV1rSuuiVC0wHP+c25XjT+N93uA/gdtIkdo40Qujm\n",
       "2mOsuVh8crtBb25f9LPLnSv45J5ITx+mL3r5xujuZutmO/+M/CX8lS/gLxAD9oVuHtnTi0QK/zKd\n",
       "PzaFOLAB2LzbAAAAAElFTkSuQmCC\n",
       "\" style=\"display:inline;vertical-align:middle;\" /></a><br>(see <a class=\"ProveItLink\" href=\"../../../__pv_it/theorems/fe86eb653c6c390a4aa3f650662b2c3a4bcff2a10/dependencies.ipynb\">dependencies</a>)<br>"
      ],
      "text/plain": [
       "not_in_set_is_bool: forall_{x, S | (x in S) in BOOLEAN} ((x not-in S) in BOOLEAN)"
      ]
     },
     "execution_count": 2,
     "metadata": {},
     "output_type": "execute_result"
    }
   ],
   "source": [
    "%proving not_in_set_is_bool"
   ]
  },
  {
   "cell_type": "code",
   "execution_count": 3,
   "metadata": {},
   "outputs": [
    {
     "data": {
      "text/html": [
       "<strong id=\"defaults.assumptions\">defaults.assumptions:</strong> <a class=\"ProveItLink\" href=\"../../../__pv_it/_proof_not_in_set_is_bool/97ee31fb9c44850272f65fe63f1f2cf9dd5a50f40/expr.ipynb\"><img src=\"data:image/png;base64,iVBORw0KGgoAAAANSUhEUgAAAHcAAAAUBAMAAABFd79NAAAAMFBMVEX////MzMxUVFR2dna6uroQ\n",
       "EBCqqqqIiIgiIiJmZmYyMjJERETu7u6YmJjc3NwAAACgK8IjAAAAAXRSTlMAQObYZgAAAdJJREFU\n",
       "OMuFVM9LAkEYfeqiua4i/QNJBBGBWB1CCuqWB4sOHSKCOhZEeIsgyEtRnYQO0a2gU4fwVhCFEEHp\n",
       "RapDBIbHjlsHgyjs+2Z2V0fWevDmx5t933wzOzNApAzBdvBX3fVVLkoW3bA8lHhCXNUCW5dfsz2A\n",
       "l4OeWXRBqIySiWKLqnsypfsyjCMgnJN0wyENHcGXaQmplQPRPDAMdFQlGwhf7OyJhvEOaBkY06pO\n",
       "Zv8imW+BN0g68JwXrJb2Q70ocKLqZPalyayPY526TGMtPjHMY0XbC6M+IOokFJ3MqU6K6cvhirrM\n",
       "GzxnRFZNm7tZ/+AFvUDRQ9psfQZiO7apYo5irDDFY/mG2XhYmKdqCYrOaVcSdACy4BjMAi7l0uZO\n",
       "CfaHwRoVXapOZuQnSTEdM/ApykhjZopuOOZI88zIe4XZThuedzk27SQdI/GbGilVZ3NMp5+RdTZs\n",
       "JWBig8cOnENNnwcTzoYdKDM/ig1Lyn+h1UKmvB4di/Z6d4FBbuxD0XVPwpeMicApmZfRu7Fekdn2\n",
       "py2z1tctDMeKbl8M6FGX46mNWMfTXnvWXb/7+2JItF4MG3wery22RdFd5iv552Mg0CZyiNf63zMU\n",
       "bvMMvQK/xGSGwZ+YviAAAAAASUVORK5CYII=\n",
       "\" style=\"display:inline;vertical-align:middle;\" /></a><br>"
      ],
      "text/plain": [
       "defaults.assumptions: ((x in S) in BOOLEAN)"
      ]
     },
     "execution_count": 3,
     "metadata": {},
     "output_type": "execute_result"
    }
   ],
   "source": [
    "defaults.assumptions = not_in_set_is_bool.all_conditions()"
   ]
  },
  {
   "cell_type": "code",
   "execution_count": 4,
   "metadata": {},
   "outputs": [
    {
     "data": {
      "text/html": [
       "<span style=\"font-size:20px;\"> <a class=\"ProveItLink\" href=\"../../../../../booleans/negation/_theory_nbs_/proofs/closure/thm_proof.ipynb\" style=\"text-decoration: none\">&nbsp;&#x22A2;&nbsp;&nbsp;</a><a class=\"ProveItLink\" href=\"../../../../../booleans/negation/__pv_it/theorems/3ce0df3c5132a3653fd6f1749f1a509d249414970/expr.ipynb\"><img src=\"data:image/png;base64,iVBORw0KGgoAAAANSUhEUgAAAJsAAAAUBAMAAABoqVKyAAAAMFBMVEX///8QEBCIiIhmZma6urrM\n",
       "zMxUVFQiIiJERETc3Nzu7u6qqqp2dnaYmJgyMjIAAAAcRTyBAAAAAXRSTlMAQObYZgAAAmtJREFU\n",
       "OMudVD1oFEEUft7e3+7tbVIE0oUBG7sEU9goBlIcBAJbpTQHRjCVJykiGOVI4x6id02ICJKVCIaE\n",
       "HAciYuWRQ9CYYlvRyOFpYQqTQjAWGt+bmZvdjTcp/OAt8/P2m/cPcCLMQEgMuVpv5ZcobVrs6ujW\n",
       "pIS4hDIbV0pc9/4MzgCk8Zl3dLCno/smJcQ+Sv2YlpNia6sBWGjaA3KprGHLjwiJnOz7ADaLq2WT\n",
       "QcJFji1kpuuGhi5TExJi4yJurX7JfWf+tqTLNZDuMR5tr68v63xdlhIiGB7D7xe+Ti36yjp7Aukc\n",
       "vDv0vAUd3WkpCkn/FeW5xTd1P3S2MOWilxiXKwAVflj5l+6eFIUnME1x+8Q3s2HsBo8GyHnMxTjP\n",
       "CK5/yIB87sx1Y3lTiDFPaOJmDFYoMy/4bTmSCnsXr3MlDDUkeJ2u/qZIty4Aaz56LvUGpPCKLmK0\n",
       "Lo9eI5JpHrqh7whJB+VJPDlAh4MMV9+eQ8vuPvSBMXtTQ5cEONXu0plR66CcFnRme4q/xTxyHMHY\n",
       "5Nu4s4oOg5ChIinwk/4oXdHB10qUghk6SsM52XFsdMjtkQqkM5HOOVCpOBuz7qNIBTwjTvgAw2CN\n",
       "COuMJanXUkWBcHkJZn/h57wo8oZqsqbdQuMNylYfpd7q7FT91A3PW6TYJaReQTnG58HRHuSqP/HN\n",
       "r3xvXZ2IjQBwyKs8VaPhw4oLRWGdbWibTPCUZFG/EU3WxVO1wjT3BfCa0zXtHe0I4Dg+ArrYUsE8\n",
       "BLN6C7IYjfxC574amJWe3VLvzSbaIYozGLuTx6emHblNNYD/GO55zW/vAf4C0m6ni8+oVXgAAAAA\n",
       "SUVORK5CYII=\n",
       "\" style=\"display:inline;vertical-align:middle;\" /></a></span>"
      ],
      "text/plain": [
       "|- forall_{A in BOOLEAN} ([not](A) in BOOLEAN)"
      ]
     },
     "execution_count": 4,
     "metadata": {},
     "output_type": "execute_result"
    }
   ],
   "source": [
    "closure"
   ]
  },
  {
   "cell_type": "code",
   "execution_count": 5,
   "metadata": {},
   "outputs": [
    {
     "data": {
      "text/html": [
       "<strong id=\"closure_spec\">closure_spec:</strong> <span style=\"font-size:20px;\"><a class=\"ProveItLink\" href=\"../../../__pv_it/theorems/1bed6bbeb79ffc84e0d051c69afe95d7794009f40/expr.ipynb\"><img src=\"data:image/png;base64,iVBORw0KGgoAAAANSUhEUgAAAGgAAAAUBAMAAACT0mUoAAAAMFBMVEX////MzMxUVFR2dna6uroQ\n",
       "EBCqqqqIiIgiIiJmZmYyMjJERETu7u6YmJjc3NwAAACgK8IjAAAAAXRSTlMAQObYZgAAAZBJREFU\n",
       "OMtjYOC7wIATsD3AIXEah3imscEVBj1UMfbW3b8iVICMddj1cF9gOP2B4RSaKBdjwemTFxh4J2DX\n",
       "NJOBgXcBA3MBmlEsF9gFNjBwoDibd0dHF5jB85GBgaWAgScAVRyoiS1hA8MLZD2M2w9AWSx/gTwB\n",
       "BoYlqOJATcw+GxgqQcaW67mbg8ROwfQw8Pw3BNOWDCjiQE0eQgIMe4HMwww3CsC2IwVW/f9PIIff\n",
       "YkAR52aJ+B/CwNAGZNow2B/wA4ltQGjiuRQfA6QyGFDEQc67a8AA1MdwgGE3xOlRq4AApoDzG5CQ\n",
       "RxUHamLY4AvWxMDwHUzyIWwyANoF18SHbBPDBiaw8xgYP0LEAuCOUwAK/gEyPFDFQZoUuMABkcP+\n",
       "gaEGJDYdnuiAyjgN4AExHcWmy6AwZfnG/QGSbDkSYP7pZGAwAjEmM6CIczEaMFsqgOznUa+pvAtx\n",
       "lbYPVBOLphJY4UIUcViCRU1GLNbQZATzWwNWcVwJFgLQEywM7MOn6RSJmRCvifiyOy/27A4AAOZu\n",
       "B8i72FYAAAAASUVORK5CYII=\n",
       "\" style=\"display:inline;vertical-align:middle;\" /></a> <a class=\"ProveItLink\" href=\"../../../__pv_it/_proof_not_in_set_is_bool/92e42415a3e5ab62116fee24e8882f5451a12cc70/proof.ipynb\" style=\"text-decoration: none\">&nbsp;&#x22A2;&nbsp;&nbsp;</a><a class=\"ProveItLink\" href=\"../../../__pv_it/_proof_not_in_set_is_bool/ad704c84e3dfb59bb54667230c78722938e954620/expr.ipynb\"><img src=\"data:image/png;base64,iVBORw0KGgoAAAANSUhEUgAAAIkAAAAUBAMAAABL8gNnAAAAMFBMVEX////MzMxUVFR2dna6uroQ\n",
       "EBCqqqqIiIgiIiJmZmYyMjJERETu7u6YmJjc3NwAAACgK8IjAAAAAXRSTlMAQObYZgAAAghJREFU\n",
       "OMtjYOC7wIAAbxlwArYHEIwdnEZi82zAribT2OAKgx6QoYcmURG9f2mTA5CxDkmQC7td3BcYTn9g\n",
       "OAVknUKXWiDOs2cuAwPvBCSxm9idMhOobAEDcwEDGKOADb4MhdwMDBzI1vehqLjd0bEA7M+PDAws\n",
       "BQw8AQxgDAK8Ozq6YKakAU15gaSNrwHZEOkaKIPlLwMDowADwxIGCAbyth9AuMUEGLKVSPrYgb7j\n",
       "KddzNwe7YA08zP8bgmlLKAYGzwGEj1gaFRkY9qKGIsNhhhsFYMcyIbxa//8TiHMLipGjaoNr/1dg\n",
       "HLUxMHB2gIABMIwSGBhsGOwP+IGNREoAl+JjgFQGFAP1Ioeu7WUGhhBYmCgwMLACTT3AsBsiILoK\n",
       "CBZAZTm/AQl5KGZgjALJwUzhZrmAYQoDw3eIwGu4fUBX8qCYwofiFm4GBZCP4KaAfMTA+BEiwAr3\n",
       "D1CG8Q+Q4QHFDAwByKYwMSyAhy7IFFDo5rB/YABHMScsgbEB9XAaoITudBS38BpAow4IgAmCeQID\n",
       "yzfuD9D8CXMlZycDgxGIMRmKoY6G5ABhBuNJMCdCk1cDA496TeVdCO/QFkiq4GTRVALrWgjFQE9q\n",
       "+6DmRjw5wHlHxwLkDN8AwWD7rKE5AAqIyY0QgDU3wsA+5MT7AI8pWEsGUkopuHX7cEkSW2LyPoBg\n",
       "bAAAVXWMHaqIaXQAAAAASUVORK5CYII=\n",
       "\" style=\"display:inline;vertical-align:middle;\" /></a></span><br>"
      ],
      "text/plain": [
       "closure_spec: {(x in S) in BOOLEAN} |- [not](x in S) in BOOLEAN"
      ]
     },
     "execution_count": 5,
     "metadata": {},
     "output_type": "execute_result"
    }
   ],
   "source": [
    "closure_spec = closure.instantiate({A:InSet(x, S)})"
   ]
  },
  {
   "cell_type": "code",
   "execution_count": 6,
   "metadata": {},
   "outputs": [
    {
     "data": {
      "text/html": [
       "<span style=\"font-size:20px;\"> <a class=\"ProveItLink\" href=\"../../axioms.ipynb#not_in_set_def\" style=\"text-decoration: none\">&nbsp;&#x22A2;&nbsp;&nbsp;</a><a class=\"ProveItLink\" href=\"../../../__pv_it/axioms/8337ac622c4a3238eec9fbc8fef1c0c96a90433b0/expr.ipynb\"><img src=\"data:image/png;base64,iVBORw0KGgoAAAANSUhEUgAAAQIAAAAWCAMAAAAcoWJbAAAAQlBMVEX///9jY2MJCQkNDQ0rKysP\n",
       "Dw8WFhYQEBCIiIhmZma6urrMzMxUVFQiIiJERETc3Nzu7u6qqqp2dnaYmJgyMjIAAADRR/RZAAAA\n",
       "AXRSTlMAQObYZgAAAt5JREFUWMPlWO2y1CAMRa9aoHwEKO//qlLa0gZIy65endH82DO7sBwIyYHA\n",
       "2CfazP5dswEjYZr43dnXaMYbHuwgxriU9jA8LhiMVBCoagLCe8+CZEzZV2jGG6iVN8QIvTs6LjA6\n",
       "5GIxEiYk+mpCnn1cP5dXaMYb+tYhRmgPj9ph1waBcSwPxNY7ZHLPx2nGG4id6BEjPDb/DIcn0xZj\n",
       "d5pG//iuL5sNcRNHmblhGqcZb9h4k12DrE+MMHhYzephLdQYeypgODCDZirjJjXzNqFFjtKMN+y8\n",
       "lRHECKNZTftRF3CBEThXVvJLbMMaWVW+Q4z+ckh6MUpDNhC8jXb2iRGq3MF0o2tOUurC3KrLiZB8\n",
       "FzRnl+jLOsurdOcxWTkKwtnbLxcTDU1f3Wje1mVdYoRSkBqdm1ysUtEh9MnzPgKTJ7/pHjAQ1BSn\n",
       "/Vf3mHf78EIX80O8nTjoEWNcP3jX5xo6I08S4drFoC7zlLbz28e6qY06x91/c3xywVSrhVUjvJux\n",
       "R2KMPlAXuZg97G5dkPuhoM/Ha3XA+CMxf5sLCN7aKGKMdikXOc/FzFXJ/WXykorQguswWC2m5lIA\n",
       "6ui5x6PUfS1QDU3jgnveOgko4gqNVdtK05GiFqbLskGkJJJ9OTrQQRKc7b8l6vimIpcr6j474Vs5\n",
       "vFe91gW3vM3dmCKu0AldSrsl1MR1juBjRaYIW++eqHLRTuH9ETp39mWTxeMZ3B6b8wBvowEUcY2X\n",
       "nIqnwMK8ZVF9TKAQAsU5cIFrLFBfJToQBJNKKHXOcHkspKW+bSB4DealiWsMcKbXWeY716v3hi7I\n",
       "4Ys31UUVp+jAXfStC7K85y3ENZagj0mbsohak5wiTK6w4I0yyTzUcn+yTOoS13jGUZCer3eOeUoR\n",
       "IGyqswXQCyQX+lTQjxXL5PDGvuuBbrFMPjP8ypMJD28u7nOeTOjNu5vI/dvW08PZwxTD33o4O4hr\n",
       "7Hdm/439BJP2M3paqy+JAAAAAElFTkSuQmCC\n",
       "\" style=\"display:inline;vertical-align:middle;\" /></a></span>"
      ],
      "text/plain": [
       "|- forall_{x, S} ((x not-in S) = [not](x in S))"
      ]
     },
     "execution_count": 6,
     "metadata": {},
     "output_type": "execute_result"
    }
   ],
   "source": [
    "not_in_set_def"
   ]
  },
  {
   "cell_type": "code",
   "execution_count": 7,
   "metadata": {},
   "outputs": [
    {
     "data": {
      "text/html": [
       "<strong id=\"not_in_set_def_spec\">not_in_set_def_spec:</strong> <span style=\"font-size:20px;\"> <a class=\"ProveItLink\" href=\"../../../__pv_it/_proof_not_in_set_is_bool/c778b2f1b533fa45e7b85a4804e61d5162c896f90/proof.ipynb\" style=\"text-decoration: none\">&nbsp;&#x22A2;&nbsp;&nbsp;</a><a class=\"ProveItLink\" href=\"../../../__pv_it/axioms/4f6688f3391ff697e42a9b22bed11142ba93f5320/expr.ipynb\"><img src=\"data:image/png;base64,iVBORw0KGgoAAAANSUhEUgAAAL8AAAAVCAMAAAAgs8+8AAAAQlBMVEX///9jY2MJCQkNDQ0rKysP\n",
       "Dw8WFhbMzMxUVFR2dna6uroQEBCqqqqIiIgiIiJmZmYyMjJERETu7u6YmJjc3NwAAABtKQr7AAAA\n",
       "AXRSTlMAQObYZgAAAh5JREFUSMfNl+l6rCAMhulpewQUkO3+b7UIbgFDnOmaH/2eDpo3QhIjY6QN\n",
       "7I9b8N1ljfw+hU+6J7iM4G7qbH/7eXW7EUIwLxnjtx4AdU9wm7Ab7qpzPwwjwb/WZ3Rc/s53uKj7\n",
       "OTwS/gW3qDfsgfQx5WqfbxWK5qLuKS6juVl1Zxu81f/f9WmbXSzVLLMHN9Jg1D3BTUZyFw0az3yr\n",
       "HLMAI2OpuaG4myVZvPrRhZULDeEmVesxOqV4kOqUEm52TY67GMWpnwoyB5QhFhBuXevX3KS2PJgT\n",
       "6dS0YqdDy+WtqhRXMdneePxxtZhPZmDZofWIc5vHveQm1VPBp2cW0TF53JzbW7MXzvMxjuuvkybT\n",
       "v7g3ejcBFjBuewJX3KRjSaVlwYI7hzFt5Nvrsp1NM4jTek2k4h/rCgkcLCDcYiQ36QkQQa6ExauY\n",
       "gAOxZeOXxY9wK8O4SfUe4RDhpDM2zd/x7cr1HKW+zn9e508bf5/L7nGTrnU0uVQiS50c+W4Uk7B7\n",
       "TKtrI9r67ZdpG3+XW48OGDdpaUUynczybgYjlZ443Bmj88Vi397dIWpthx3OCwi3znuMm7QcheNK\n",
       "OWW8h8f2T4L2Y5jkhvPD/UzO1lJ3FxCuvcldtPMe9y/Cwvd4lZdk+3xyfpD3uFk7c5QlJsQfnN8u\n",
       "uUXRKKkB/d78jLq34cnw4fyMh6n8k5F9y/dLy90U+44j/Ptf+n7cuFk/AFtdJimSV+YnAAAAAElF\n",
       "TkSuQmCC\n",
       "\" style=\"display:inline;vertical-align:middle;\" /></a></span><br>"
      ],
      "text/plain": [
       "not_in_set_def_spec: |- (x not-in S) = [not](x in S)"
      ]
     },
     "execution_count": 7,
     "metadata": {},
     "output_type": "execute_result"
    }
   ],
   "source": [
    "not_in_set_def_spec = not_in_set_def.instantiate({x:x, S:S})"
   ]
  },
  {
   "cell_type": "code",
   "execution_count": 8,
   "metadata": {},
   "outputs": [
    {
     "data": {
      "text/html": [
       "<span style=\"font-size:20px;\"><a class=\"ProveItLink\" href=\"../../../__pv_it/theorems/1bed6bbeb79ffc84e0d051c69afe95d7794009f40/expr.ipynb\"><img src=\"data:image/png;base64,iVBORw0KGgoAAAANSUhEUgAAAGgAAAAUBAMAAACT0mUoAAAAMFBMVEX////MzMxUVFR2dna6uroQ\n",
       "EBCqqqqIiIgiIiJmZmYyMjJERETu7u6YmJjc3NwAAACgK8IjAAAAAXRSTlMAQObYZgAAAZBJREFU\n",
       "OMtjYOC7wIATsD3AIXEah3imscEVBj1UMfbW3b8iVICMddj1cF9gOP2B4RSaKBdjwemTFxh4J2DX\n",
       "NJOBgXcBA3MBmlEsF9gFNjBwoDibd0dHF5jB85GBgaWAgScAVRyoiS1hA8MLZD2M2w9AWSx/gTwB\n",
       "BoYlqOJATcw+GxgqQcaW67mbg8ROwfQw8Pw3BNOWDCjiQE0eQgIMe4HMwww3CsC2IwVW/f9PIIff\n",
       "YkAR52aJ+B/CwNAGZNow2B/wA4ltQGjiuRQfA6QyGFDEQc67a8AA1MdwgGE3xOlRq4AApoDzG5CQ\n",
       "RxUHamLY4AvWxMDwHUzyIWwyANoF18SHbBPDBiaw8xgYP0LEAuCOUwAK/gEyPFDFQZoUuMABkcP+\n",
       "gaEGJDYdnuiAyjgN4AExHcWmy6AwZfnG/QGSbDkSYP7pZGAwAjEmM6CIczEaMFsqgOznUa+pvAtx\n",
       "lbYPVBOLphJY4UIUcViCRU1GLNbQZATzWwNWcVwJFgLQEywM7MOn6RSJmRCvifiyOy/27A4AAOZu\n",
       "B8i72FYAAAAASUVORK5CYII=\n",
       "\" style=\"display:inline;vertical-align:middle;\" /></a> <a class=\"ProveItLink\" href=\"../../../__pv_it/_proof_not_in_set_is_bool/48c510acf5276fdc380d8ccee90c8cdeaccead010/proof.ipynb\" style=\"text-decoration: none\">&nbsp;&#x22A2;&nbsp;&nbsp;</a><a class=\"ProveItLink\" href=\"../../../__pv_it/theorems/8fb3bb846def05d9a0d52f657858d13607516dda0/expr.ipynb\"><img src=\"data:image/png;base64,iVBORw0KGgoAAAANSUhEUgAAAGgAAAAVCAMAAACdfluMAAAAQlBMVEX///9jY2MJCQkNDQ0rKysP\n",
       "Dw8WFhbMzMxUVFR2dna6uroQEBCqqqqIiIgiIiJmZmYyMjJERETu7u6YmJjc3NwAAABtKQr7AAAA\n",
       "AXRSTlMAQObYZgAAAbxJREFUSMetVe12rCAMpLfthQTCp7z/qxYQXUDFtaf8cI/rkMkkQ2DsdnH2\n",
       "V2sJ08/66oNanvF4NxckxvgGAFhAxsScibR0LlqpBZZ3O4cb7N9dKMnF/LQ3GizjlLDe5D3BsCeV\n",
       "Mys8FA6g+V7HMFEQZ7loeiIoOP3/W7d5+7h6AwuFlwd8WnYgUioTLfq6O448c30eGFfn8JXP4og/\n",
       "UQSYbUBb5TyRWJBe1fDWH9vgY4TG79DUveBPiFBzwWtvMwySck3sJbx4isYuUExrt1to8jjxYCKS\n",
       "OkaZdWtVc0vpQPQMlxcq1+aQpQ9CRln/VrqNemEGCCGpkLXKeadrsVxaa78+0+NoYhNrejz2+HUN\n",
       "ROuPbNoZ2zotmRVUzwBbp45Ey6WirFXspSu7urEmj4fIiw1ZS4e6x58TiXx0NzMon/qcm703xRDD\n",
       "4TCrGszAiRkMXStKTaoGxVSMPFbaAauVGCa30QUN+/jbGVnjq24EJQCAEbt4L4g8mRC6Qv3D3nSG\n",
       "oTBCvAJa3uFdhx+G6mQEhQ9w3Ug5WH3oIc7wk6Hq7i6cu6H6Zribi+qNa+LNeBR+m+LDq/xOUHjC\n",
       "8wOWbRgxh4aHMwAAAABJRU5ErkJggg==\n",
       "\" style=\"display:inline;vertical-align:middle;\" /></a></span>"
      ],
      "text/plain": [
       "{(x in S) in BOOLEAN} |- (x not-in S) in BOOLEAN"
      ]
     },
     "execution_count": 8,
     "metadata": {},
     "output_type": "execute_result"
    }
   ],
   "source": [
    "not_in_set_def_spec.sub_left_side_into(closure_spec)"
   ]
  },
  {
   "cell_type": "code",
   "execution_count": 9,
   "metadata": {},
   "outputs": [
    {
     "data": {
      "text/html": [
       "<table><tr><th>&nbsp;</th><th>step type</th><th>requirements</th><th>statement</th></tr>\n",
       "<tr><td><a name=\"-0x69f0abe24a30df2b_step0\">0</a></td><td>generalizaton</td><td><a href=\"#-0x69f0abe24a30df2b_step1\">1</a></td><td><span style=\"font-size:20px;\"> <a class=\"ProveItLink\" href=\"../../../__pv_it/_proof_not_in_set_is_bool/c3012425a354ad16f32e493194c4fb8a0e2c98c90/proof.ipynb\" style=\"text-decoration: none\">&nbsp;&#x22A2;&nbsp;&nbsp;</a><a class=\"ProveItLink\" href=\"../../../__pv_it/theorems/d52f6d2100ee61b18642074498bf36b8c75445060/expr.ipynb\"><img src=\"data:image/png;base64,iVBORw0KGgoAAAANSUhEUgAAAP0AAAAXCAMAAAD3NLkqAAAARVBMVEX///8/Pz9vb28YGBgNDQ0r\n",
       "KysPDw8WFhYQEBCIiIhmZma6urrMzMxUVFQiIiJERETc3Nzu7u6qqqp2dnaYmJgyMjIAAACoIi7K\n",
       "AAAAAXRSTlMAQObYZgAAA4BJREFUWMPdWImOpCAQZc+Rm+L6/09dBBEKRdvJJr07TNLE4ZX4qBtC\n",
       "/rchyJccxuN5MtTk/9Y82q3Aw/7s/VvJg8bzTPVyYMGcc8RzQuQ1faoWrWNYlOT5OcOdrcsB3so+\n",
       "GDxPBuPoUft8YHH9DXc7EEETFlhWc4abetRGv5W8Z3h+zfBZQftM3NFrUU144k0FKUwzvKq8GcFb\n",
       "hjJ4PjsgrdTH717DEEsM5Jk3LEe8UmFgb+3GPsO9g3UY9d6Qp/B84vCaJj1pdDg8llglyiEEfsAf\n",
       "de94jSwZHvU6lPvMN/+1/EQZnoFSaThtxgzZRgffhhhdt4PrvAaOYSyz50pI0cHLgz5lIlJAtb5t\n",
       "gEPO/MB2OctfY689miG92itKmt2WiE4H16YxjT3Y++5sTjJAYr+oGBfewzmbBsy8ZGP/AnK5wVGO\n",
       "YZAPNDDFDjFGWTS7pDgXgXCDdz4oFLxc4rL916rJlyLL99718PWHniZ7BcOLNNLv+CXWsZJNOjmQ\n",
       "eJEmizHejh5RFbLNq7xGmy0hjV8/088xCcbt6EQc8HkM7OtU4c7PKqiYj96es5diDLHWABzkSv7e\n",
       "F2n6S6r11+zzS3orL/l4yEuuev+RvZnqfuUgO7gJewXlKBO00QqLG4qLQ+bdJXgXcnq5bFVtcWXP\n",
       "vTPXlp+/DZ3uckz21axE3CyfqwF/yl7WAneDa7NVfylHyEDU/uXAlrjwc/YlNzUJlIc7OStRPU1T\n",
       "hbIEcRP1LKSAVl5fzZviA15BG0PmTqIeo3Pdb46/wS1Te34Kg00aqc7Zc40kgE3kVly3mC2fmZF+\n",
       "TVZl5smW1+q1b3iSVQy+lqJnFtkrf+ZOrAlVugngHJMY3rlYbDYJonjVhL1EEkLlskHTUU4EtFj8\n",
       "noyaqUZbZpCUAmWo7wKpf+CIz9I3MCkbS2RSCc/hostpcA/N21qFYu2hqdJ9LYUlGgzL5VOSWPeO\n",
       "sE9Uut+/aVS5HrrEIXRzd4kf4SYSF3IoNTqdB9O5f4Jz9lm4SZBWdGE5jxfXjEfWpvR5l6NvSsu7\n",
       "LucGDtJzR9dKQyx29c7UOzOYxnzoJdJaNUEsV1rSuuiVC0wHP+c25XjT+N93uA/gdtIkdo40Qujm\n",
       "2mOsuVh8crtBb25f9LPLnSv45J5ITx+mL3r5xujuZutmO/+M/CX8lS/gLxAD9oVuHtnTi0QK/zKd\n",
       "PzaFOLAB2LzbAAAAAElFTkSuQmCC\n",
       "\" style=\"display:inline;vertical-align:middle;\" /></a></span></td></tr>\n",
       "<tr><td><a name=\"-0x69f0abe24a30df2b_step1\">1</a></td><td>instantiation</td><td><a href=\"#-0x69f0abe24a30df2b_step2\">2</a>, <a href=\"#-0x69f0abe24a30df2b_step3\">3</a>, <a href=\"#-0x69f0abe24a30df2b_step4\">4</a></td><td><span style=\"font-size:20px;\"><a class=\"ProveItLink\" href=\"../../../__pv_it/theorems/1bed6bbeb79ffc84e0d051c69afe95d7794009f40/expr.ipynb\"><img src=\"data:image/png;base64,iVBORw0KGgoAAAANSUhEUgAAAGgAAAAUBAMAAACT0mUoAAAAMFBMVEX////MzMxUVFR2dna6uroQ\n",
       "EBCqqqqIiIgiIiJmZmYyMjJERETu7u6YmJjc3NwAAACgK8IjAAAAAXRSTlMAQObYZgAAAZBJREFU\n",
       "OMtjYOC7wIATsD3AIXEah3imscEVBj1UMfbW3b8iVICMddj1cF9gOP2B4RSaKBdjwemTFxh4J2DX\n",
       "NJOBgXcBA3MBmlEsF9gFNjBwoDibd0dHF5jB85GBgaWAgScAVRyoiS1hA8MLZD2M2w9AWSx/gTwB\n",
       "BoYlqOJATcw+GxgqQcaW67mbg8ROwfQw8Pw3BNOWDCjiQE0eQgIMe4HMwww3CsC2IwVW/f9PIIff\n",
       "YkAR52aJ+B/CwNAGZNow2B/wA4ltQGjiuRQfA6QyGFDEQc67a8AA1MdwgGE3xOlRq4AApoDzG5CQ\n",
       "RxUHamLY4AvWxMDwHUzyIWwyANoF18SHbBPDBiaw8xgYP0LEAuCOUwAK/gEyPFDFQZoUuMABkcP+\n",
       "gaEGJDYdnuiAyjgN4AExHcWmy6AwZfnG/QGSbDkSYP7pZGAwAjEmM6CIczEaMFsqgOznUa+pvAtx\n",
       "lbYPVBOLphJY4UIUcViCRU1GLNbQZATzWwNWcVwJFgLQEywM7MOn6RSJmRCvifiyOy/27A4AAOZu\n",
       "B8i72FYAAAAASUVORK5CYII=\n",
       "\" style=\"display:inline;vertical-align:middle;\" /></a> <a class=\"ProveItLink\" href=\"../../../__pv_it/_proof_not_in_set_is_bool/48c510acf5276fdc380d8ccee90c8cdeaccead010/proof.ipynb\" style=\"text-decoration: none\">&nbsp;&#x22A2;&nbsp;&nbsp;</a><a class=\"ProveItLink\" href=\"../../../__pv_it/theorems/8fb3bb846def05d9a0d52f657858d13607516dda0/expr.ipynb\"><img src=\"data:image/png;base64,iVBORw0KGgoAAAANSUhEUgAAAGgAAAAVCAMAAACdfluMAAAAQlBMVEX///9jY2MJCQkNDQ0rKysP\n",
       "Dw8WFhbMzMxUVFR2dna6uroQEBCqqqqIiIgiIiJmZmYyMjJERETu7u6YmJjc3NwAAABtKQr7AAAA\n",
       "AXRSTlMAQObYZgAAAbxJREFUSMetVe12rCAMpLfthQTCp7z/qxYQXUDFtaf8cI/rkMkkQ2DsdnH2\n",
       "V2sJ08/66oNanvF4NxckxvgGAFhAxsScibR0LlqpBZZ3O4cb7N9dKMnF/LQ3GizjlLDe5D3BsCeV\n",
       "Mys8FA6g+V7HMFEQZ7loeiIoOP3/W7d5+7h6AwuFlwd8WnYgUioTLfq6O448c30eGFfn8JXP4og/\n",
       "UQSYbUBb5TyRWJBe1fDWH9vgY4TG79DUveBPiFBzwWtvMwySck3sJbx4isYuUExrt1to8jjxYCKS\n",
       "OkaZdWtVc0vpQPQMlxcq1+aQpQ9CRln/VrqNemEGCCGpkLXKeadrsVxaa78+0+NoYhNrejz2+HUN\n",
       "ROuPbNoZ2zotmRVUzwBbp45Ey6WirFXspSu7urEmj4fIiw1ZS4e6x58TiXx0NzMon/qcm703xRDD\n",
       "4TCrGszAiRkMXStKTaoGxVSMPFbaAauVGCa30QUN+/jbGVnjq24EJQCAEbt4L4g8mRC6Qv3D3nSG\n",
       "oTBCvAJa3uFdhx+G6mQEhQ9w3Ug5WH3oIc7wk6Hq7i6cu6H6Zribi+qNa+LNeBR+m+LDq/xOUHjC\n",
       "8wOWbRgxh4aHMwAAAABJRU5ErkJggg==\n",
       "\" style=\"display:inline;vertical-align:middle;\" /></a></span></td></tr>\n",
       "<tr><td>&nbsp;</td><td colspan=4 style=\"text-align:left\"><span style=\"font-size:20px;\"><a class=\"ProveItLink\" href=\"../../../__pv_it/_proof_not_in_set_is_bool/f7c00ab253a0854833b7e2e433c52d2d5254155b0/expr.ipynb\"><img src=\"data:image/png;base64,iVBORw0KGgoAAAANSUhEUgAAADcAAAAUBAMAAADbzbjtAAAAMFBMVEX///8iIiLc3Ny6urqIiIiq\n",
       "qqp2dnbMzMwQEBDu7u5mZmYyMjJERERUVFSYmJgAAAA4CJ/KAAAAAXRSTlMAQObYZgAAAQ1JREFU\n",
       "KM9jYIADpgcMyCAITL79f/burgkMDHNQ5Bh4FcDUbwYGnk4Ghk2okpwbQCT7NwYG1i8MfAtQJRlS\n",
       "QATLZyD+xsCogCY5A0TwfABa8JlBEU2OgdsASPADDddfwOCF5O5lS4BuYAPZU5/AwCrGwHAOIWmh\n",
       "wA00jQ/kIv9raUuAPhFFuLOPgesA0JECQPb5CWChZrgk108GRgegL4C6GT4yoElyHGCYXwCRZP8F\n",
       "EUIYOz+BIR5IMQtAvAkCCAfND2C4zaoAdhD3T4hQFlySx4FPlg1odQID1/6/DmAhQ6BBZ4DgJAPn\n",
       "FXddZ6CuAoTnMIJvIhIbe8DDwCFsUQYDaJHNg2INWjJ5xMAAAHA6PhPQZp1jAAAAAElFTkSuQmCC\n",
       "\" style=\"display:inline;vertical-align:middle;\" /></a> : <a class=\"ProveItLink\" href=\"../../../__pv_it/_proof_not_in_set_is_bool/0c8053dce9430ad076e307e4c6c7c3b8943d7ee40/expr.ipynb\"><img src=\"data:image/png;base64,iVBORw0KGgoAAAANSUhEUgAAAD4AAAAPBAMAAABOyWF/AAAAMFBMVEX///9UVFSqqqrMzMwiIiKY\n",
       "mJgyMjIQEBCIiIh2dnZmZmbc3Nzu7u5ERES6uroAAACFTSmKAAAAAXRSTlMAQObYZgAAAMRJREFU\n",
       "GNNjYMABONzvfiuRY8AN2Jgbzp4KwC3PyxfAYXABUzzWxSUBKs+kgClv24PQz/kGIb9rVvsBIMWT\n",
       "g2T+E0MDGI+vmiEfRDNuQMiX/K+Daz8ewLAWLIrsPs7QCTDe+gMMHiDaPA0IYO5juPAUJl/LwPMZ\n",
       "RO9F1s9wgRHK4fnJwPQBxGBHkRdgg8l/YmBM0AYyuBpQ9EfCeDcYQgTAjnFChO8EzlkCDG/vAsEB\n",
       "hoMd1hIPQMIH7x3AHz8vr0DCFwIAr5Y54qhCm2YAAAAASUVORK5CYII=\n",
       "\" style=\"display:inline;vertical-align:middle;\" /></a>, <a class=\"ProveItLink\" href=\"../../../../../../__pv_it/common/a0d9d672aa5e272d907247690c152cc2c6daafb70/expr.ipynb\"><img src=\"data:image/png;base64,iVBORw0KGgoAAAANSUhEUgAAAAsAAAAJBAMAAAAWSsseAAAALVBMVEX///9mZmaqqqrMzMxEREQy\n",
       "MjIiIiKYmJh2dna6urrc3NxUVFSIiIju7u4AAACJHQtQAAAAAXRSTlMAQObYZgAAAEJJREFUCNdj\n",
       "YLhzeuWJAwy8Dew5bAEMHBc43nIuYOBlYHFgAAG+A2DKzgBIMF04x8BzgWGegh/DcgaG22fuiBcw\n",
       "AAATyhBrnyPYZQAAAABJRU5ErkJggg==\n",
       "\" style=\"display:inline;vertical-align:middle;\" /></a> : <a class=\"ProveItLink\" href=\"../../../__pv_it/axioms/a33a47943fdd32339621e532d76b56b41506f95b0/expr.ipynb\"><img src=\"data:image/png;base64,iVBORw0KGgoAAAANSUhEUgAAADMAAAAVCAMAAADciiYzAAAAQlBMVEX///9jY2MJCQkNDQ0rKysQ\n",
       "EBAPDw8WFhZmZmaqqqrMzMxEREQyMjIiIiKYmJh2dna6urrc3NxUVFSIiIju7u4AAAB85YEvAAAA\n",
       "AXRSTlMAQObYZgAAAPdJREFUOMuVU9t2xCAItJe0GBUMl///1arZNKF7NqfyQBIQZiBjCDe2hnkr\n",
       "8yUr++8IRBSw3tWAzyZsTpNNUAMYD8wvz2Mq31/lklfbN1Ll1SRJNKTtGqqGe2qUqghvVehsoFm7\n",
       "c23UjH53r9SYFAkXItwR5A8JsWa8Y1PrSaahnlRSdx3LIyEvtoxodym5aZac8+dHc087AovHqzke\n",
       "W+9A0R2mY6ojvJpX1vL0c5SPk4Nb1DZen/HkDxIqeNksjwzte4+h62HDqwIie2QoowfxA1VEBRA9\n",
       "lffq1gahMjDHO6nhG6VSSp65Bl43/zJN87dNcL7mHuYHMTkLlsNtzgkAAAAASUVORK5CYII=\n",
       "\" style=\"display:inline;vertical-align:middle;\" /></a>, <a class=\"ProveItLink\" href=\"../../../../../../__pv_it/common/ff7dba4ef0bbe791ab573bf2d9c220a304399ac80/expr.ipynb\"><img src=\"data:image/png;base64,iVBORw0KGgoAAAANSUhEUgAAAAsAAAANBAMAAACN24kIAAAAMFBMVEX///8iIiKYmJhUVFTMzMxE\n",
       "REQyMjKqqqq6urp2dnYQEBDc3NxmZmaIiIju7u4AAACH5sGpAAAAAXRSTlMAQObYZgAAAFlJREFU\n",
       "CNdj4LtzgWHXAwZOjgUM9xkYtvMkMIQyMDzgusDwl4GBof8ByxcgdYyBdwGQCmZgNQBShxn6FYDU\n",
       "47vnNzAwgGUZGJgT+H4AKUYF1gtAiuPuESAJAJGkFvXVdzA+AAAAAElFTkSuQmCC\n",
       "\" style=\"display:inline;vertical-align:middle;\" /></a> : <a class=\"ProveItLink\" href=\"../../../__pv_it/axioms/cb7a5f92b3efd8e444b1da338cd0feefa3a6a56b0/expr.ipynb\"><img src=\"data:image/png;base64,iVBORw0KGgoAAAANSUhEUgAAAFIAAAAUBAMAAADsA3fZAAAAMFBMVEX///+6uroQEBCqqqqIiIgy\n",
       "MjJERETu7u6YmJjMzMxUVFTc3Nx2dnYiIiJmZmYAAAAutVgsAAAAAXRSTlMAQObYZgAAAUVJREFU\n",
       "KM9jYECAHQw4AfMGZB57AnZVdmcONDKsRhZh3YBVIVsDQ9kHhlJkoT7sRr5jYOAIYOBxQBK6jSzP\n",
       "kXv3KsRNPxkYGB0Y2BUQctwXkBRyphRAWYw/gLwJDAyBCEmWB0ADXFaLHAFxSgvg/vx/EkyfQ3E5\n",
       "Qw1DrwPYUiSv+v//BfJqK8Pbu0BwB8jkNWBgOM5wvkAaJI0UYOxd+upAyhbC2wXETAIMDAUMaRBn\n",
       "qoYCAUwt32cgMR9VJQPDF4jvEGYeAJqKphJkOwPnT4gAPEzYFwAFvwMZsgiVIB+Zs3xgcAcJPIFH\n",
       "OFAP3wGwjyDuAmKeBwyMn9k+cDcwwCwAu/EeA8MpEOMNwo+MFxjYl7j7dUAsXSYOVcm4bhVYVySu\n",
       "2GQ8Bo1NmHsvEE4hEICSQtg24FFZSkxKBoNsFB6e3MGxgQEA029OXInzxmEAAAAASUVORK5CYII=\n",
       "\" style=\"display:inline;vertical-align:middle;\" /></a></span></td></tr><tr><td><a name=\"-0x69f0abe24a30df2b_step2\">2</a></td><td>theorem</td><td></td><td><span style=\"font-size:20px;\"> <a class=\"ProveItLink\" href=\"../../../../../equality/_theory_nbs_/proofs/sub_left_side_into/thm_proof.ipynb\" style=\"text-decoration: none\">&nbsp;&#x22A2;&nbsp;&nbsp;</a><a class=\"ProveItLink\" href=\"../../../../../equality/__pv_it/theorems/8c444378a3a7afbc2953d40707cf277d9e5724670/expr.ipynb\"><img src=\"data:image/png;base64,iVBORw0KGgoAAAANSUhEUgAAAL8AAAAWBAMAAABj11ATAAAAMFBMVEX///8QEBCIiIhmZma6urrM\n",
       "zMxUVFQiIiJERETc3Nzu7u6qqqp2dnaYmJgyMjIAAAAcRTyBAAAAAXRSTlMAQObYZgAAAthJREFU\n",
       "SMe1VU1oE0EU/rruTzbZJl48eQkWSgkFcxFUREKFqmA19SDeDMEWKrXtoR4sKvGWCrW5WQRxBalY\n",
       "PAQ8iIK41IMQg0YURFDYs1C7KEpbi/rmp5vdJhHF+GD3zXxvZr43782bAf6H3JD6IX0ua3xoz7qd\n",
       "4yvDY3uBaEECegl4zhof2+R5gty9bCNekv0o9edIm4U2EZxygCdJvPaBRSBuA1a5TQQ7M/Q5OO8D\n",
       "tyhulYWFa+1K7ix94xlzwgfixLhSLF74w/k8tNpvBvygcH+Bkqbo7xjpo/hY1BwCpgF1dnT3mcYZ\n",
       "Gf6XRot3YpmW62vrwAMHkRpwD2+Tlyg+lOUDPNd4BTxrnCKzL4wjorOnJYHyrfo0BRiU0gpe2ofJ\n",
       "G4qWAYUYMUzpaUnAjZojOvMtCSJrXHXQHm0U+Z482njNYM2LEFBTAm7UszJxpZZlMOETAJ83CEz3\n",
       "BCuJVShT7ODu6qZ11G4Ydp1AGMmPvhymxIatruNDclkOijJIc8VCBO0rzx6jnD7NWuu9rKYVe8wg\n",
       "fithDwZ2IIx0mJ01bStiOYJSujupF0lmBOiXAYsUefBI8ZASScZ9xmK54hxgianrB9ETIBDGQzBv\n",
       "TygFqAzMxmtyAwLksmyL4Wmo3yOeSSO2sLwlkow1Lcev8v8+5AMEwtjPxutJaJwu4WeCg0z2/xST\n",
       "KC7RfKqL3aBxlrdOxpuQt4Xm8UKaxLYAgTCepOhmOrJQczzeyOqfSJYEGJL6VXGnfk0xh+bsm5Zr\n",
       "kcI51QsQcCMbbGSPkUOOecX0XkCeWgGGJHTZyRJZZuUzWJ5/s1ghhf4et04gjOxcqfmrFJKMtj16\n",
       "9kivLedyMFwPwes6JDJO5WgpUgvWgXCijLuYobhSgQYncTAk/oMT2VQysZJUunMUDQTUGVXJpcfi\n",
       "KfSFg82fzHebn7wNpb53mhAMYKBK7tGRqoXg6j9c8OnGDSr2X63wC2jlxTKsC1d/AAAAAElFTkSu\n",
       "QmCC\n",
       "\" style=\"display:inline;vertical-align:middle;\" /></a></span></td></tr>\n",
       "<tr><td>&nbsp;</td><td colspan=4 style-\"text-align:left\"><a class=\"ProveItLink\" href=\"../../../../../equality/_theory_nbs_/proofs/sub_left_side_into/thm_proof.ipynb\">proveit.logic.equality.sub_left_side_into</a></td></tr><tr><td><a name=\"-0x69f0abe24a30df2b_step3\">3</a></td><td>instantiation</td><td><a href=\"#-0x69f0abe24a30df2b_step5\">5</a>, <a href=\"#-0x69f0abe24a30df2b_step6\">6</a></td><td><span style=\"font-size:20px;\"><a class=\"ProveItLink\" href=\"../../../__pv_it/theorems/1bed6bbeb79ffc84e0d051c69afe95d7794009f40/expr.ipynb\"><img src=\"data:image/png;base64,iVBORw0KGgoAAAANSUhEUgAAAGgAAAAUBAMAAACT0mUoAAAAMFBMVEX////MzMxUVFR2dna6uroQ\n",
       "EBCqqqqIiIgiIiJmZmYyMjJERETu7u6YmJjc3NwAAACgK8IjAAAAAXRSTlMAQObYZgAAAZBJREFU\n",
       "OMtjYOC7wIATsD3AIXEah3imscEVBj1UMfbW3b8iVICMddj1cF9gOP2B4RSaKBdjwemTFxh4J2DX\n",
       "NJOBgXcBA3MBmlEsF9gFNjBwoDibd0dHF5jB85GBgaWAgScAVRyoiS1hA8MLZD2M2w9AWSx/gTwB\n",
       "BoYlqOJATcw+GxgqQcaW67mbg8ROwfQw8Pw3BNOWDCjiQE0eQgIMe4HMwww3CsC2IwVW/f9PIIff\n",
       "YkAR52aJ+B/CwNAGZNow2B/wA4ltQGjiuRQfA6QyGFDEQc67a8AA1MdwgGE3xOlRq4AApoDzG5CQ\n",
       "RxUHamLY4AvWxMDwHUzyIWwyANoF18SHbBPDBiaw8xgYP0LEAuCOUwAK/gEyPFDFQZoUuMABkcP+\n",
       "gaEGJDYdnuiAyjgN4AExHcWmy6AwZfnG/QGSbDkSYP7pZGAwAjEmM6CIczEaMFsqgOznUa+pvAtx\n",
       "lbYPVBOLphJY4UIUcViCRU1GLNbQZATzWwNWcVwJFgLQEywM7MOn6RSJmRCvifiyOy/27A4AAOZu\n",
       "B8i72FYAAAAASUVORK5CYII=\n",
       "\" style=\"display:inline;vertical-align:middle;\" /></a> <a class=\"ProveItLink\" href=\"../../../__pv_it/_proof_not_in_set_is_bool/92e42415a3e5ab62116fee24e8882f5451a12cc70/proof.ipynb\" style=\"text-decoration: none\">&nbsp;&#x22A2;&nbsp;&nbsp;</a><a class=\"ProveItLink\" href=\"../../../__pv_it/_proof_not_in_set_is_bool/ad704c84e3dfb59bb54667230c78722938e954620/expr.ipynb\"><img src=\"data:image/png;base64,iVBORw0KGgoAAAANSUhEUgAAAIkAAAAUBAMAAABL8gNnAAAAMFBMVEX////MzMxUVFR2dna6uroQ\n",
       "EBCqqqqIiIgiIiJmZmYyMjJERETu7u6YmJjc3NwAAACgK8IjAAAAAXRSTlMAQObYZgAAAghJREFU\n",
       "OMtjYOC7wIAAbxlwArYHEIwdnEZi82zAribT2OAKgx6QoYcmURG9f2mTA5CxDkmQC7td3BcYTn9g\n",
       "OAVknUKXWiDOs2cuAwPvBCSxm9idMhOobAEDcwEDGKOADb4MhdwMDBzI1vehqLjd0bEA7M+PDAws\n",
       "BQw8AQxgDAK8Ozq6YKakAU15gaSNrwHZEOkaKIPlLwMDowADwxIGCAbyth9AuMUEGLKVSPrYgb7j\n",
       "KddzNwe7YA08zP8bgmlLKAYGzwGEj1gaFRkY9qKGIsNhhhsFYMcyIbxa//8TiHMLipGjaoNr/1dg\n",
       "HLUxMHB2gIABMIwSGBhsGOwP+IGNREoAl+JjgFQGFAP1Ioeu7WUGhhBYmCgwMLACTT3AsBsiILoK\n",
       "CBZAZTm/AQl5KGZgjALJwUzhZrmAYQoDw3eIwGu4fUBX8qCYwofiFm4GBZCP4KaAfMTA+BEiwAr3\n",
       "D1CG8Q+Q4QHFDAwByKYwMSyAhy7IFFDo5rB/YABHMScsgbEB9XAaoITudBS38BpAow4IgAmCeQID\n",
       "yzfuD9D8CXMlZycDgxGIMRmKoY6G5ABhBuNJMCdCk1cDA496TeVdCO/QFkiq4GTRVALrWgjFQE9q\n",
       "+6DmRjw5wHlHxwLkDN8AwWD7rKE5AAqIyY0QgDU3wsA+5MT7AI8pWEsGUkopuHX7cEkSW2LyPoBg\n",
       "bAAAVXWMHaqIaXQAAAAASUVORK5CYII=\n",
       "\" style=\"display:inline;vertical-align:middle;\" /></a></span></td></tr>\n",
       "<tr><td>&nbsp;</td><td colspan=4 style=\"text-align:left\"><span style=\"font-size:20px;\"><a class=\"ProveItLink\" href=\"../../../../../../__pv_it/common/09585084922504426caf1db2ff588a23a0932a960/expr.ipynb\"><img src=\"data:image/png;base64,iVBORw0KGgoAAAANSUhEUgAAAA8AAAAOBAMAAAACpFvcAAAALVBMVEX///8iIiIQEBBERERUVFS6\n",
       "urqIiIjc3NxmZmaqqqru7u6YmJgyMjLMzMwAAACK9jtgAAAAAXRSTlMAQObYZgAAAFtJREFUCNdj\n",
       "YACBOwxQcA5Kc59bAGGs7CuAMDbkBYBp1gXzNoAZSxnuJYAZAQx1DSCa16PDzwCshIGB6QCIMYGB\n",
       "gVEBSLMDGTwPgIxCIGZ+zsCw+N0pBk67hw0AfpEVEQi8t+wAAAAASUVORK5CYII=\n",
       "\" style=\"display:inline;vertical-align:middle;\" /></a> : <a class=\"ProveItLink\" href=\"../../../__pv_it/axioms/0cdab0d18bbc19517ae2790158516d237f4206600/expr.ipynb\"><img src=\"data:image/png;base64,iVBORw0KGgoAAAANSUhEUgAAADMAAAAPBAMAAAC7N+rPAAAAMFBMVEX///8QEBBmZmaqqqrMzMxE\n",
       "REQyMjIiIiKYmJh2dna6urrc3NxUVFSIiIju7u4AAAA6P00QAAAAAXRSTlMAQObYZgAAAMtJREFU\n",
       "GNNjYMAGmDVncizAKsMQwcAXj12GSYGBoQ1FhCO8vAzMeO/AwLAWWYYl9gGUtb6BgcEFSL+9s+vm\n",
       "BZDAM5gMw/ufDiCKbwJHLXsCiHUarp/3/38Qh/MB5z+uDSCBAITZLw5+BBrBx8AKEWMRSwMCmKS+\n",
       "AYjkB9vEwA3XxQmyDizl7wAREYBJvQEJAg1kfnCfgRfsNl2YlCEQa4L8YBDPsAMswm4AlVJXYOA8\n",
       "ANJ9961GA1iE7+g6iJTCGp3DaEHHNRUaUBAAAFDXMplUllphAAAAAElFTkSuQmCC\n",
       "\" style=\"display:inline;vertical-align:middle;\" /></a></span></td></tr><tr><td><a name=\"-0x69f0abe24a30df2b_step4\">4</a></td><td>instantiation</td><td><a href=\"#-0x69f0abe24a30df2b_step7\">7</a></td><td><span style=\"font-size:20px;\"> <a class=\"ProveItLink\" href=\"../../../__pv_it/_proof_not_in_set_is_bool/c778b2f1b533fa45e7b85a4804e61d5162c896f90/proof.ipynb\" style=\"text-decoration: none\">&nbsp;&#x22A2;&nbsp;&nbsp;</a><a class=\"ProveItLink\" href=\"../../../__pv_it/axioms/4f6688f3391ff697e42a9b22bed11142ba93f5320/expr.ipynb\"><img src=\"data:image/png;base64,iVBORw0KGgoAAAANSUhEUgAAAL8AAAAVCAMAAAAgs8+8AAAAQlBMVEX///9jY2MJCQkNDQ0rKysP\n",
       "Dw8WFhbMzMxUVFR2dna6uroQEBCqqqqIiIgiIiJmZmYyMjJERETu7u6YmJjc3NwAAABtKQr7AAAA\n",
       "AXRSTlMAQObYZgAAAh5JREFUSMfNl+l6rCAMhulpewQUkO3+b7UIbgFDnOmaH/2eDpo3QhIjY6QN\n",
       "7I9b8N1ljfw+hU+6J7iM4G7qbH/7eXW7EUIwLxnjtx4AdU9wm7Ab7qpzPwwjwb/WZ3Rc/s53uKj7\n",
       "OTwS/gW3qDfsgfQx5WqfbxWK5qLuKS6juVl1Zxu81f/f9WmbXSzVLLMHN9Jg1D3BTUZyFw0az3yr\n",
       "HLMAI2OpuaG4myVZvPrRhZULDeEmVesxOqV4kOqUEm52TY67GMWpnwoyB5QhFhBuXevX3KS2PJgT\n",
       "6dS0YqdDy+WtqhRXMdneePxxtZhPZmDZofWIc5vHveQm1VPBp2cW0TF53JzbW7MXzvMxjuuvkybT\n",
       "v7g3ejcBFjBuewJX3KRjSaVlwYI7hzFt5Nvrsp1NM4jTek2k4h/rCgkcLCDcYiQ36QkQQa6ExauY\n",
       "gAOxZeOXxY9wK8O4SfUe4RDhpDM2zd/x7cr1HKW+zn9e508bf5/L7nGTrnU0uVQiS50c+W4Uk7B7\n",
       "TKtrI9r67ZdpG3+XW48OGDdpaUUynczybgYjlZ443Bmj88Vi397dIWpthx3OCwi3znuMm7QcheNK\n",
       "OWW8h8f2T4L2Y5jkhvPD/UzO1lJ3FxCuvcldtPMe9y/Cwvd4lZdk+3xyfpD3uFk7c5QlJsQfnN8u\n",
       "uUXRKKkB/d78jLq34cnw4fyMh6n8k5F9y/dLy90U+44j/Ptf+n7cuFk/AFtdJimSV+YnAAAAAElF\n",
       "TkSuQmCC\n",
       "\" style=\"display:inline;vertical-align:middle;\" /></a></span></td></tr>\n",
       "<tr><td>&nbsp;</td><td colspan=4 style=\"text-align:left\"><span style=\"font-size:20px;\"><a class=\"ProveItLink\" href=\"../../../../../../__pv_it/common/a0d9d672aa5e272d907247690c152cc2c6daafb70/expr.ipynb\"><img src=\"data:image/png;base64,iVBORw0KGgoAAAANSUhEUgAAAAsAAAAJBAMAAAAWSsseAAAALVBMVEX///9mZmaqqqrMzMxEREQy\n",
       "MjIiIiKYmJh2dna6urrc3NxUVFSIiIju7u4AAACJHQtQAAAAAXRSTlMAQObYZgAAAEJJREFUCNdj\n",
       "YLhzeuWJAwy8Dew5bAEMHBc43nIuYOBlYHFgAAG+A2DKzgBIMF04x8BzgWGegh/DcgaG22fuiBcw\n",
       "AAATyhBrnyPYZQAAAABJRU5ErkJggg==\n",
       "\" style=\"display:inline;vertical-align:middle;\" /></a> : <a class=\"ProveItLink\" href=\"../../../../../../__pv_it/common/a0d9d672aa5e272d907247690c152cc2c6daafb70/expr.ipynb\"><img src=\"data:image/png;base64,iVBORw0KGgoAAAANSUhEUgAAAAsAAAAJBAMAAAAWSsseAAAALVBMVEX///9mZmaqqqrMzMxEREQy\n",
       "MjIiIiKYmJh2dna6urrc3NxUVFSIiIju7u4AAACJHQtQAAAAAXRSTlMAQObYZgAAAEJJREFUCNdj\n",
       "YLhzeuWJAwy8Dew5bAEMHBc43nIuYOBlYHFgAAG+A2DKzgBIMF04x8BzgWGegh/DcgaG22fuiBcw\n",
       "AAATyhBrnyPYZQAAAABJRU5ErkJggg==\n",
       "\" style=\"display:inline;vertical-align:middle;\" /></a>, <a class=\"ProveItLink\" href=\"../../../../../../__pv_it/common/38f47c5670ea8c5b56253448e95d8afb56bc09b40/expr.ipynb\"><img src=\"data:image/png;base64,iVBORw0KGgoAAAANSUhEUgAAAA0AAAAOBAMAAAAGUYvhAAAAMFBMVEX///8iIiIQEBDc3NxUVFSI\n",
       "iIjMzMwyMjLu7u5ERES6urqYmJh2dnZmZmaqqqoAAABUl3CJAAAAAXRSTlMAQObYZgAAAGBJREFU\n",
       "CNdjYGDgu3OGewEDA8NsBo75QIr3AgPDdiDdn8DAsBRIr9/AwJAG4v8BCgAB6///zmBGt9OnBjCD\n",
       "4f4DBgYekBIg3QKk84Hij4D0HSC+eIGBxwFIX1hyxQ9IAQCO0xnvXiMbcgAAAABJRU5ErkJggg==\n",
       "\" style=\"display:inline;vertical-align:middle;\" /></a> : <a class=\"ProveItLink\" href=\"../../../../../../__pv_it/common/38f47c5670ea8c5b56253448e95d8afb56bc09b40/expr.ipynb\"><img src=\"data:image/png;base64,iVBORw0KGgoAAAANSUhEUgAAAA0AAAAOBAMAAAAGUYvhAAAAMFBMVEX///8iIiIQEBDc3NxUVFSI\n",
       "iIjMzMwyMjLu7u5ERES6urqYmJh2dnZmZmaqqqoAAABUl3CJAAAAAXRSTlMAQObYZgAAAGBJREFU\n",
       "CNdjYGDgu3OGewEDA8NsBo75QIr3AgPDdiDdn8DAsBRIr9/AwJAG4v8BCgAB6///zmBGt9OnBjCD\n",
       "4f4DBgYekBIg3QKk84Hij4D0HSC+eIGBxwFIX1hyxQ9IAQCO0xnvXiMbcgAAAABJRU5ErkJggg==\n",
       "\" style=\"display:inline;vertical-align:middle;\" /></a></span></td></tr><tr><td><a name=\"-0x69f0abe24a30df2b_step5\">5</a></td><td>conjecture</td><td></td><td><span style=\"font-size:20px;\"> <a class=\"ProveItLink\" href=\"../../../../../booleans/negation/_theory_nbs_/proofs/closure/thm_proof.ipynb\" style=\"text-decoration: none\">&nbsp;&#x22A2;&nbsp;&nbsp;</a><a class=\"ProveItLink\" href=\"../../../../../booleans/negation/__pv_it/theorems/3ce0df3c5132a3653fd6f1749f1a509d249414970/expr.ipynb\"><img src=\"data:image/png;base64,iVBORw0KGgoAAAANSUhEUgAAAJsAAAAUBAMAAABoqVKyAAAAMFBMVEX///8QEBCIiIhmZma6urrM\n",
       "zMxUVFQiIiJERETc3Nzu7u6qqqp2dnaYmJgyMjIAAAAcRTyBAAAAAXRSTlMAQObYZgAAAmtJREFU\n",
       "OMudVD1oFEEUft7e3+7tbVIE0oUBG7sEU9goBlIcBAJbpTQHRjCVJykiGOVI4x6id02ICJKVCIaE\n",
       "HAciYuWRQ9CYYlvRyOFpYQqTQjAWGt+bmZvdjTcp/OAt8/P2m/cPcCLMQEgMuVpv5ZcobVrs6ujW\n",
       "pIS4hDIbV0pc9/4MzgCk8Zl3dLCno/smJcQ+Sv2YlpNia6sBWGjaA3KprGHLjwiJnOz7ADaLq2WT\n",
       "QcJFji1kpuuGhi5TExJi4yJurX7JfWf+tqTLNZDuMR5tr68v63xdlhIiGB7D7xe+Ti36yjp7Aukc\n",
       "vDv0vAUd3WkpCkn/FeW5xTd1P3S2MOWilxiXKwAVflj5l+6eFIUnME1x+8Q3s2HsBo8GyHnMxTjP\n",
       "CK5/yIB87sx1Y3lTiDFPaOJmDFYoMy/4bTmSCnsXr3MlDDUkeJ2u/qZIty4Aaz56LvUGpPCKLmK0\n",
       "Lo9eI5JpHrqh7whJB+VJPDlAh4MMV9+eQ8vuPvSBMXtTQ5cEONXu0plR66CcFnRme4q/xTxyHMHY\n",
       "5Nu4s4oOg5ChIinwk/4oXdHB10qUghk6SsM52XFsdMjtkQqkM5HOOVCpOBuz7qNIBTwjTvgAw2CN\n",
       "COuMJanXUkWBcHkJZn/h57wo8oZqsqbdQuMNylYfpd7q7FT91A3PW6TYJaReQTnG58HRHuSqP/HN\n",
       "r3xvXZ2IjQBwyKs8VaPhw4oLRWGdbWibTPCUZFG/EU3WxVO1wjT3BfCa0zXtHe0I4Dg+ArrYUsE8\n",
       "BLN6C7IYjfxC574amJWe3VLvzSbaIYozGLuTx6emHblNNYD/GO55zW/vAf4C0m6ni8+oVXgAAAAA\n",
       "SUVORK5CYII=\n",
       "\" style=\"display:inline;vertical-align:middle;\" /></a></span></td></tr>\n",
       "<tr><td>&nbsp;</td><td colspan=4 style-\"text-align:left\"><a class=\"ProveItLink\" href=\"../../../../../booleans/negation/_theory_nbs_/proofs/closure/thm_proof.ipynb\">proveit.logic.booleans.negation.closure</a></td></tr><tr><td><a name=\"-0x69f0abe24a30df2b_step6\">6</a></td><td>assumption</td><td></td><td><span style=\"font-size:20px;\"><a class=\"ProveItLink\" href=\"../../../__pv_it/theorems/1bed6bbeb79ffc84e0d051c69afe95d7794009f40/expr.ipynb\"><img src=\"data:image/png;base64,iVBORw0KGgoAAAANSUhEUgAAAGgAAAAUBAMAAACT0mUoAAAAMFBMVEX////MzMxUVFR2dna6uroQ\n",
       "EBCqqqqIiIgiIiJmZmYyMjJERETu7u6YmJjc3NwAAACgK8IjAAAAAXRSTlMAQObYZgAAAZBJREFU\n",
       "OMtjYOC7wIATsD3AIXEah3imscEVBj1UMfbW3b8iVICMddj1cF9gOP2B4RSaKBdjwemTFxh4J2DX\n",
       "NJOBgXcBA3MBmlEsF9gFNjBwoDibd0dHF5jB85GBgaWAgScAVRyoiS1hA8MLZD2M2w9AWSx/gTwB\n",
       "BoYlqOJATcw+GxgqQcaW67mbg8ROwfQw8Pw3BNOWDCjiQE0eQgIMe4HMwww3CsC2IwVW/f9PIIff\n",
       "YkAR52aJ+B/CwNAGZNow2B/wA4ltQGjiuRQfA6QyGFDEQc67a8AA1MdwgGE3xOlRq4AApoDzG5CQ\n",
       "RxUHamLY4AvWxMDwHUzyIWwyANoF18SHbBPDBiaw8xgYP0LEAuCOUwAK/gEyPFDFQZoUuMABkcP+\n",
       "gaEGJDYdnuiAyjgN4AExHcWmy6AwZfnG/QGSbDkSYP7pZGAwAjEmM6CIczEaMFsqgOznUa+pvAtx\n",
       "lbYPVBOLphJY4UIUcViCRU1GLNbQZATzWwNWcVwJFgLQEywM7MOn6RSJmRCvifiyOy/27A4AAOZu\n",
       "B8i72FYAAAAASUVORK5CYII=\n",
       "\" style=\"display:inline;vertical-align:middle;\" /></a> <a class=\"ProveItLink\" href=\"../../../__pv_it/_proof_not_in_set_is_bool/1b1ff5f11d588b4edaef19da14706004f85de4670/proof.ipynb\" style=\"text-decoration: none\">&nbsp;&#x22A2;&nbsp;&nbsp;</a><a class=\"ProveItLink\" href=\"../../../__pv_it/theorems/1bed6bbeb79ffc84e0d051c69afe95d7794009f40/expr.ipynb\"><img src=\"data:image/png;base64,iVBORw0KGgoAAAANSUhEUgAAAGgAAAAUBAMAAACT0mUoAAAAMFBMVEX////MzMxUVFR2dna6uroQ\n",
       "EBCqqqqIiIgiIiJmZmYyMjJERETu7u6YmJjc3NwAAACgK8IjAAAAAXRSTlMAQObYZgAAAZBJREFU\n",
       "OMtjYOC7wIATsD3AIXEah3imscEVBj1UMfbW3b8iVICMddj1cF9gOP2B4RSaKBdjwemTFxh4J2DX\n",
       "NJOBgXcBA3MBmlEsF9gFNjBwoDibd0dHF5jB85GBgaWAgScAVRyoiS1hA8MLZD2M2w9AWSx/gTwB\n",
       "BoYlqOJATcw+GxgqQcaW67mbg8ROwfQw8Pw3BNOWDCjiQE0eQgIMe4HMwww3CsC2IwVW/f9PIIff\n",
       "YkAR52aJ+B/CwNAGZNow2B/wA4ltQGjiuRQfA6QyGFDEQc67a8AA1MdwgGE3xOlRq4AApoDzG5CQ\n",
       "RxUHamLY4AvWxMDwHUzyIWwyANoF18SHbBPDBiaw8xgYP0LEAuCOUwAK/gEyPFDFQZoUuMABkcP+\n",
       "gaEGJDYdnuiAyjgN4AExHcWmy6AwZfnG/QGSbDkSYP7pZGAwAjEmM6CIczEaMFsqgOznUa+pvAtx\n",
       "lbYPVBOLphJY4UIUcViCRU1GLNbQZATzWwNWcVwJFgLQEywM7MOn6RSJmRCvifiyOy/27A4AAOZu\n",
       "B8i72FYAAAAASUVORK5CYII=\n",
       "\" style=\"display:inline;vertical-align:middle;\" /></a></span></td></tr>\n",
       "<tr><td><a name=\"-0x69f0abe24a30df2b_step7\">7</a></td><td>axiom</td><td></td><td><span style=\"font-size:20px;\"> <a class=\"ProveItLink\" href=\"../../axioms.ipynb#not_in_set_def\" style=\"text-decoration: none\">&nbsp;&#x22A2;&nbsp;&nbsp;</a><a class=\"ProveItLink\" href=\"../../../__pv_it/axioms/8337ac622c4a3238eec9fbc8fef1c0c96a90433b0/expr.ipynb\"><img src=\"data:image/png;base64,iVBORw0KGgoAAAANSUhEUgAAAQIAAAAWCAMAAAAcoWJbAAAAQlBMVEX///9jY2MJCQkNDQ0rKysP\n",
       "Dw8WFhYQEBCIiIhmZma6urrMzMxUVFQiIiJERETc3Nzu7u6qqqp2dnaYmJgyMjIAAADRR/RZAAAA\n",
       "AXRSTlMAQObYZgAAAt5JREFUWMPlWO2y1CAMRa9aoHwEKO//qlLa0gZIy65endH82DO7sBwIyYHA\n",
       "2CfazP5dswEjYZr43dnXaMYbHuwgxriU9jA8LhiMVBCoagLCe8+CZEzZV2jGG6iVN8QIvTs6LjA6\n",
       "5GIxEiYk+mpCnn1cP5dXaMYb+tYhRmgPj9ph1waBcSwPxNY7ZHLPx2nGG4id6BEjPDb/DIcn0xZj\n",
       "d5pG//iuL5sNcRNHmblhGqcZb9h4k12DrE+MMHhYzephLdQYeypgODCDZirjJjXzNqFFjtKMN+y8\n",
       "lRHECKNZTftRF3CBEThXVvJLbMMaWVW+Q4z+ckh6MUpDNhC8jXb2iRGq3MF0o2tOUurC3KrLiZB8\n",
       "FzRnl+jLOsurdOcxWTkKwtnbLxcTDU1f3Wje1mVdYoRSkBqdm1ysUtEh9MnzPgKTJ7/pHjAQ1BSn\n",
       "/Vf3mHf78EIX80O8nTjoEWNcP3jX5xo6I08S4drFoC7zlLbz28e6qY06x91/c3xywVSrhVUjvJux\n",
       "R2KMPlAXuZg97G5dkPuhoM/Ha3XA+CMxf5sLCN7aKGKMdikXOc/FzFXJ/WXykorQguswWC2m5lIA\n",
       "6ui5x6PUfS1QDU3jgnveOgko4gqNVdtK05GiFqbLskGkJJJ9OTrQQRKc7b8l6vimIpcr6j474Vs5\n",
       "vFe91gW3vM3dmCKu0AldSrsl1MR1juBjRaYIW++eqHLRTuH9ETp39mWTxeMZ3B6b8wBvowEUcY2X\n",
       "nIqnwMK8ZVF9TKAQAsU5cIFrLFBfJToQBJNKKHXOcHkspKW+bSB4DealiWsMcKbXWeY716v3hi7I\n",
       "4Ys31UUVp+jAXfStC7K85y3ENZagj0mbsohak5wiTK6w4I0yyTzUcn+yTOoS13jGUZCer3eOeUoR\n",
       "IGyqswXQCyQX+lTQjxXL5PDGvuuBbrFMPjP8ypMJD28u7nOeTOjNu5vI/dvW08PZwxTD33o4O4hr\n",
       "7Hdm/439BJP2M3paqy+JAAAAAElFTkSuQmCC\n",
       "\" style=\"display:inline;vertical-align:middle;\" /></a></span></td></tr>\n",
       "<tr><td>&nbsp;</td><td colspan=4 style-\"text-align:left\"><a class=\"ProveItLink\" href=\"../../axioms.ipynb#not_in_set_def\">proveit.logic.sets.membership.not_in_set_def</a></td></tr></table>"
      ],
      "text/plain": [
       "\tstep type\trequirements\tstatement\n",
       "0\tgeneralizaton\t1\t|- forall_{x, S | (x in S) in BOOLEAN} ((x not-in S) in BOOLEAN)\n",
       "1\tinstantiation\t2, 3, 4\t{(x in S) in BOOLEAN} |- (x not-in S) in BOOLEAN\n",
       "\tP(_a) : _a in BOOLEAN, x : x not-in S, y : [not](x in S)\n",
       "2\ttheorem\t\t|- forall_{P, x, y | P(y), x = y} P(x)\n",
       "\tproveit.logic.equality.sub_left_side_into\n",
       "3\tinstantiation\t5, 6\t{(x in S) in BOOLEAN} |- [not](x in S) in BOOLEAN\n",
       "\tA : x in S\n",
       "4\tinstantiation\t7\t|- (x not-in S) = [not](x in S)\n",
       "\tx : x, S : S\n",
       "5\tconjecture\t\t|- forall_{A in BOOLEAN} ([not](A) in BOOLEAN)\n",
       "6\tassumption\t\t{(x in S) in BOOLEAN} |- (x in S) in BOOLEAN\n",
       "7\taxiom\t\t|- forall_{x, S} ((x not-in S) = [not](x in S))\n",
       "\tproveit.logic.sets.membership.not_in_set_def"
      ]
     },
     "execution_count": 9,
     "metadata": {},
     "output_type": "execute_result"
    }
   ],
   "source": [
    "%qed"
   ]
  },
  {
   "cell_type": "code",
   "execution_count": null,
   "metadata": {},
   "outputs": [],
   "source": []
  }
 ],
 "metadata": {
  "kernelspec": {
   "display_name": "Python 3",
   "language": "python",
   "name": "python3"
  }
 },
 "nbformat": 4,
 "nbformat_minor": 0
}