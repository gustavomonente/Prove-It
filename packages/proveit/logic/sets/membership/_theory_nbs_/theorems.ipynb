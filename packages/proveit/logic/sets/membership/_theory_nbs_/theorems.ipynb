{
 "cells": [
  {
   "cell_type": "markdown",
   "metadata": {},
   "source": [
    "Theorems (or conjectures) for the theory of <a class=\"ProveItLink\" href=\"theory.ipynb\">proveit.logic.sets.membership</a>\n",
    "========"
   ]
  },
  {
   "cell_type": "code",
   "execution_count": 1,
   "metadata": {},
   "outputs": [
    {
     "name": "stdout",
     "output_type": "stream",
     "text": [
      "Defining theorems for theory 'proveit.logic.sets.membership'\n",
      "Subsequent end-of-cell assignments will define theorems\n",
      "'%end theorems' will finalize the definitions\n"
     ]
    }
   ],
   "source": [
    "import proveit\n",
    "# Prepare this notebook for defining the theorems of a theory:\n",
    "%theorems_notebook # Keep this at the top following 'import proveit'.\n",
    "from proveit import ExprTuple, IndexedVar\n",
    "from proveit.logic import Forall, Not, Equals, InSet, NotInSet, EmptySet, in_bool\n",
    "from proveit import i, m, n, x, S\n",
    "from proveit.numbers import zero, num, Natural, Exp, Interval\n",
    "%begin theorems"
   ]
  },
  {
   "cell_type": "raw",
   "metadata": {},
   "source": [
    "exp_set_0 = Forall(S, InSet(ExprTuple(), Exp(S, zero)))"
   ]
  },
  {
   "cell_type": "raw",
   "metadata": {},
   "source": [
    "def nvars(n):\n",
    "    return [proveit._common_.__getattr__(chr(ord('a')+k)) for k in range(n)]\n",
    "exp_set_1, exp_set_2, exp_set_3, exp_set_4, exp_set_5, exp_set_6, exp_set_7, exp_set_8, exp_set_9 = \\\n",
    "    [Forall(S, Forall(nvars(n), InSet(ExprTuple(*nvars(n)), Exp(S, num(n))), domain=S)) for n in range(1, 10)]"
   ]
  },
  {
   "cell_type": "raw",
   "metadata": {},
   "source": [
    "mem_exp_set_length = Forall(\n",
    "    m,\n",
    "    Forall(S,\n",
    "           Forall(x,\n",
    "                  Equals(Len(x), m),\n",
    "                  domain = Exp(S, m))),\n",
    "    domain = Natural)"
   ]
  },
  {
   "cell_type": "raw",
   "metadata": {},
   "source": [
    "mem_exp_set_item_set = Forall(\n",
    "    m,\n",
    "    Forall(S, Forall(x, Forall(i, InSet(IndexedVar(x,i),S),\n",
    "                               domain = Interval(num(1),m)),\n",
    "                     domain = Exp(S, m))),\n",
    "    domain = Natural)"
   ]
  },
  {
   "cell_type": "code",
   "execution_count": 2,
   "metadata": {},
   "outputs": [
    {
     "data": {
      "text/html": [
       "<strong id=\"not_in_set_is_bool\"><a class=\"ProveItLink\" href=\"proofs/not_in_set_is_bool/thm_proof.ipynb\">not_in_set_is_bool</a> (conjecture with conjecture-based proof):<br></strong> <a class=\"ProveItLink\" href=\"../__pv_it/theorems/b31e22c2d40deb47df5aadd28d677fc2bba419e00/theorem_expr.ipynb\"><img src=\"data:image/png;base64,iVBORw0KGgoAAAANSUhEUgAAAP0AAAAXCAMAAAD3NLkqAAAARVBMVEX///8/Pz9vb28YGBgNDQ0r\n",
       "KysPDw8WFhYQEBCIiIhmZma6urrMzMxUVFQiIiJERETc3Nzu7u6qqqp2dnaYmJgyMjIAAACoIi7K\n",
       "AAAAAXRSTlMAQObYZgAAA4BJREFUWMPdWImOpCAQZc+Rm+L6/09dBBEKRdvJJr07TNLE4ZX4qBtC\n",
       "/rchyJccxuN5MtTk/9Y82q3Aw/7s/VvJg8bzTPVyYMGcc8RzQuQ1faoWrWNYlOT5OcOdrcsB3so+\n",
       "GDxPBuPoUft8YHH9DXc7EEETFlhWc4abetRGv5W8Z3h+zfBZQftM3NFrUU144k0FKUwzvKq8GcFb\n",
       "hjJ4PjsgrdTH717DEEsM5Jk3LEe8UmFgb+3GPsO9g3UY9d6Qp/B84vCaJj1pdDg8llglyiEEfsAf\n",
       "de94jSwZHvU6lPvMN/+1/EQZnoFSaThtxgzZRgffhhhdt4PrvAaOYSyz50pI0cHLgz5lIlJAtb5t\n",
       "gEPO/MB2OctfY689miG92itKmt2WiE4H16YxjT3Y++5sTjJAYr+oGBfewzmbBsy8ZGP/AnK5wVGO\n",
       "YZAPNDDFDjFGWTS7pDgXgXCDdz4oFLxc4rL916rJlyLL99718PWHniZ7BcOLNNLv+CXWsZJNOjmQ\n",
       "eJEmizHejh5RFbLNq7xGmy0hjV8/088xCcbt6EQc8HkM7OtU4c7PKqiYj96es5diDLHWABzkSv7e\n",
       "F2n6S6r11+zzS3orL/l4yEuuev+RvZnqfuUgO7gJewXlKBO00QqLG4qLQ+bdJXgXcnq5bFVtcWXP\n",
       "vTPXlp+/DZ3uckz21axE3CyfqwF/yl7WAneDa7NVfylHyEDU/uXAlrjwc/YlNzUJlIc7OStRPU1T\n",
       "hbIEcRP1LKSAVl5fzZviA15BG0PmTqIeo3Pdb46/wS1Te34Kg00aqc7Zc40kgE3kVly3mC2fmZF+\n",
       "TVZl5smW1+q1b3iSVQy+lqJnFtkrf+ZOrAlVugngHJMY3rlYbDYJonjVhL1EEkLlskHTUU4EtFj8\n",
       "noyaqUZbZpCUAmWo7wKpf+CIz9I3MCkbS2RSCc/hostpcA/N21qFYu2hqdJ9LYUlGgzL5VOSWPeO\n",
       "sE9Uut+/aVS5HrrEIXRzd4kf4SYSF3IoNTqdB9O5f4Jz9lm4SZBWdGE5jxfXjEfWpvR5l6NvSsu7\n",
       "LucGDtJzR9dKQyx29c7UOzOYxnzoJdJaNUEsV1rSuuiVC0wHP+c25XjT+N93uA/gdtIkdo40Qujm\n",
       "2mOsuVh8crtBb25f9LPLnSv45J5ITx+mL3r5xujuZutmO/+M/CX8lS/gLxAD9oVuHtnTi0QK/zKd\n",
       "PzaFOLAB2LzbAAAAAElFTkSuQmCC\n",
       "\" style=\"display:inline;vertical-align:middle;\" /></a><br>"
      ],
      "text/plain": [
       "not_in_set_is_bool: forall_{x, S | (x in S) in BOOLEAN} ((x not-in S) in BOOLEAN)"
      ]
     },
     "execution_count": 2,
     "metadata": {},
     "output_type": "execute_result"
    }
   ],
   "source": [
    "# Proven. Used by the NotInSet class's deduce_in_bool() method\n",
    "not_in_set_is_bool = Forall( (x, S), in_bool(NotInSet(x, S)), conditions=[in_bool(InSet(x, S))] )"
   ]
  },
  {
   "cell_type": "code",
   "execution_count": 3,
   "metadata": {},
   "outputs": [
    {
     "data": {
      "text/html": [
       "<strong id=\"unfold_not_in_set\"><a class=\"ProveItLink\" href=\"proofs/unfold_not_in_set/thm_proof.ipynb\">unfold_not_in_set</a> (established theorem):<br></strong> <a class=\"ProveItLink\" href=\"../__pv_it/theorems/d63958ea302bff69242ccd59f3a4efd7184585900/theorem_expr.ipynb\"><img src=\"data:image/png;base64,iVBORw0KGgoAAAANSUhEUgAAAMIAAAAWCAMAAAClkLM6AAAAQlBMVEX///8SEhIoKCgtLS0/Pz96\n",
       "enovLy8QEBCIiIhmZma6urrMzMxUVFQiIiJERETc3Nzu7u6qqqp2dnaYmJgyMjIAAABQsGWnAAAA\n",
       "AXRSTlMAQObYZgAAApNJREFUWMPVV+eS1DAMNhwQ9yLb7/+quMQtUTYTuD0G/VjNWlKiT80KIV9A\n",
       "xj8V3JAzMw/93Ps3IbD6qeDKcwYAxHNC5I6hcHBNIdg3QQjmqQAn7QvsmH/3yBduWiSMfhMCz54K\n",
       "cGJV3RfvgdbDwlvwRzo+mZR5KsiOapUozFUXReG8OG+3/TRzDzaTUe/qZfVUQIjQ9FTVPNZeFRVJ\n",
       "4GTwqDMp+Nt64fg5vSqXJrCUSsNpK41S4Uhb2hhBjL/AJi6LQKNZFWkEOD8s+Ytmwy1qE152Z3It\n",
       "xc4rSqaqkagvNCbqIh8mztnU4ofkZZGLJz+xsmC4BVG1x5jqBIsAUsQhWsLN3Vusl1vc9gQ5NfP8\n",
       "Q9FYKXt4Iv5w64D9+olbkO2YOSMXQTbQy3PFFhqdx1Lcp46IMwdfYZwplsi4GwheO2N/XFjcQihW\n",
       "dFHA3gKtI1AIJhAh25hlgspeyWEDjhX8olpqR8CFRauXM4QhEFEsGhuSaNlU90LiauHayPreNMpk\n",
       "IKo7YVkqPo5CGKol28xcWJzbuUHYBc6mRq0P7NVCz7vFDosB1s5599ghpWAEf3yhQiF0VcsO6Vkt\n",
       "+vQjs+kQ8FQZeWdYNr5T5tI0KNog+wGsfKrFOAaDFbX6yEUvVFWh0q3y8V1T3KJn/DzuVK0QSi1l\n",
       "645ppebr1cAIl0zKAS2IlXs7yrJHibhiIOQFhKaa5dJeWfzhgsFBHxaMQ2+olfcSiARCaX6jk09M\n",
       "l83QYhCGKkl3Zms2xOLz1rx1QNGVj/x5DjTfNWJzuUXTfs4sOpGGajp0fk8wYnF58b8S3H+ChJXj\n",
       "nxevtojj1f8ttQN9/yfPGfyrIDjzAIJhX/zh6c3KcSXyAAJw8v8QHm75T336DSOtJWsv5pcVAAAA\n",
       "AElFTkSuQmCC\n",
       "\" style=\"display:inline;vertical-align:middle;\" /></a><br>"
      ],
      "text/plain": [
       "unfold_not_in_set: forall_{x, S | x not-in S} not(x in S)"
      ]
     },
     "execution_count": 3,
     "metadata": {},
     "output_type": "execute_result"
    }
   ],
   "source": [
    "unfold_not_in_set = Forall((x, S), Not(InSet(x, S)), conditions=[NotInSet(x, S)])"
   ]
  },
  {
   "cell_type": "code",
   "execution_count": 4,
   "metadata": {},
   "outputs": [
    {
     "data": {
      "text/html": [
       "<strong id=\"fold_not_in_set\"><a class=\"ProveItLink\" href=\"proofs/fold_not_in_set/thm_proof.ipynb\">fold_not_in_set</a> (established theorem):<br></strong> <a class=\"ProveItLink\" href=\"../__pv_it/theorems/330fb62b2db65e0eb88588f42ca0709501ee136f0/theorem_expr.ipynb\"><img src=\"data:image/png;base64,iVBORw0KGgoAAAANSUhEUgAAALwAAAAXCAMAAACGTNW0AAAAQlBMVEX///9jY2MJCQkNDQ0rKysP\n",
       "Dw8WFhYQEBCIiIhmZma6urrMzMxUVFQiIiJERETc3Nzu7u6qqqp2dnaYmJgyMjIAAADRR/RZAAAA\n",
       "AXRSTlMAQObYZgAAAq5JREFUWMPNV1eS5SAMZKPJCAH3v+qSbILj25l6M/5wlQ0SLdFqBCHf+hHf\n",
       "Gp1xl8PqbMCa9Pbbt3Pvxw76OvFyxswQkThOiEzo0a4DHt4P3pvLYcbHb+1ywCG9U9bNGrvR78fu\n",
       "GHmFNaxMd5ktSLuEty1436MuEu+0+vtH+Z5jodQvp/lrSZMQ0mPUF1Tr+ZpCUyB6jI2HUpWixOAT\n",
       "p4JOj8KP4fgf2aMra4BSaTjNTCg/Eh/AT9UdAnZOMFnL/EMfLi9icVu3WfAzYBeRby7szlpXfYNo\n",
       "7hQljSRZSyidgw3xkSvQTH3OyD7KCjYN2dBWOwEozxPfuWDzLFXLDGOaMQDhZlhoL3/g5BKW+tuq\n",
       "tabpocgrGCHrs+TuVrHImJtcwKzaS92LNEX3vsXivf/9K772OWWhhixyRtCdHWUhp8LegZdipxTW\n",
       "AOxczKq+dEQKPUeybM/yhyvzB/DGb0cZUiZow+IXHIiqL+V4M+adfPcu5u1VDZ4IQwKWvciv+yZC\n",
       "pQ0vE7SRZYEoT9ITta0GLFKM34GviteMB3HuXFh5XLAWYi0WDys36JCBPGmpQ9gXbOoY1KZmfsqO\n",
       "keoQPOryRA9cj8bATlzwKXhkVb8tSUd+36QpO3ORqTwbtwSsUXSEC42XIArHLjMffXE5GgtV4qKz\n",
       "CzGVX914kJQCZUNjCPInH8WGxXWYlI1pvkbnoHGvnSbWzp3dMXihJ+NmMbrg8nl74H6gVkr584Z0\n",
       "qgkTCPpc1kbHcJjOPRzcgS9umjFp5+DowuHzxkzfndlI54J2HGk6MsRi06ESu2cG12pjVi1vxnHe\n",
       "urmjC8YfQ4S7Hhf8xeBhj3nike4m08r5qXt/jpHe3YyudsaaF8CTZ1cB655fA+88uitWuZdc8ic3\n",
       "SGBfe11mr23UxIRPv2b+A8Z5JBNFOxcPAAAAAElFTkSuQmCC\n",
       "\" style=\"display:inline;vertical-align:middle;\" /></a><br>"
      ],
      "text/plain": [
       "fold_not_in_set: forall_{x, S | not(x in S)} (x not-in S)"
      ]
     },
     "execution_count": 4,
     "metadata": {},
     "output_type": "execute_result"
    }
   ],
   "source": [
    "fold_not_in_set = Forall((x, S), NotInSet(x, S), conditions=[Not(InSet(x, S))])"
   ]
  },
  {
   "cell_type": "markdown",
   "metadata": {},
   "source": [
    "Might be useful to have an additional theorem here along the lines of:\n",
    "$(x\\in S \\Rightarrow \\bot) \\Rightarrow (x\\notin S)$\n",
    "(a form of “deny_via_contradiction” or some similar name)"
   ]
  },
  {
   "cell_type": "code",
   "execution_count": 5,
   "metadata": {},
   "outputs": [
    {
     "name": "stdout",
     "output_type": "stream",
     "text": [
      "These theorems may now be imported from the theory package: proveit.logic.sets.membership\n"
     ]
    }
   ],
   "source": [
    "%end theorems"
   ]
  },
  {
   "cell_type": "code",
   "execution_count": null,
   "metadata": {},
   "outputs": [],
   "source": []
  }
 ],
 "metadata": {
  "kernelspec": {
   "display_name": "Python 3",
   "language": "python",
   "name": "python3"
  }
 },
 "nbformat": 4,
 "nbformat_minor": 0
}