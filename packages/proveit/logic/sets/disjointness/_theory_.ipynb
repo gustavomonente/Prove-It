{
 "cells": [
  {
   "cell_type": "markdown",
   "metadata": {},
   "source": [
    "Theory of <a class=\"ProveItLink\" href=\"../../../_theory_.ipynb\">proveit</a>.<a class=\"ProveItLink\" href=\"../../_theory_.ipynb\">logic</a>.<a class=\"ProveItLink\" href=\"../_theory_.ipynb\">sets</a>.disjointness\n",
    "========\n",
    "\n",
    "The Disjoint operation defines a property for a collection of sets.  It evaluates to `TRUE` if and only if the sets are mutually/pairwise disjoint; that is, the intersection of any two of the sets is the empty set.  We define this property to be True when given zero or one set (there are no pairs of sets, so all pairs are vacuously disjoint).\n",
    "\n",
    "The Distinct operation defines a property for any collection.  It evaluates to `TRUE` if and only if the elements are all unique; that is, any pair of the given elements are not equal to each other."
   ]
  },
  {
   "cell_type": "code",
   "execution_count": null,
   "metadata": {},
   "outputs": [],
   "source": [
    "import proveit\n",
    "%theory"
   ]
  },
  {
   "cell_type": "code",
   "execution_count": null,
   "metadata": {},
   "outputs": [],
   "source": []
  }
 ],
 "metadata": {
  "kernelspec": {
   "display_name": "Python 3",
   "language": "python",
   "name": "python3"
  }
 },
 "nbformat": 4,
 "nbformat_minor": 0
}
