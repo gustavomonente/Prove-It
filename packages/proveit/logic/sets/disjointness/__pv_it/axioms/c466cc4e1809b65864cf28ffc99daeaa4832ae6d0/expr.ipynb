{
 "cells": [
  {
   "cell_type": "markdown",
   "metadata": {},
   "source": [
    "Expression of type <a class=\"ProveItLink\" href=\"../../../../../../../../doc/html/api/proveit.ExprTuple.html\">ExprTuple</a>\n",
    "=======================\n",
    "# from the theory of <a class=\"ProveItLink\" href=\"../../../_theory_nbs_/theory.ipynb\">proveit.logic.sets.disjointness</a>"
   ]
  },
  {
   "cell_type": "code",
   "execution_count": 1,
   "metadata": {},
   "outputs": [],
   "source": [
    "import proveit\n",
    "# Automation is not needed when building an expression:\n",
    "proveit.defaults.automation = False # This will speed things up.\n",
    "proveit.defaults.inline_pngs = False # Makes files smaller.\n",
    "%load_expr # Load the stored expression as 'stored_expr'\n",
    "# import Expression classes needed to build the expression\n",
    "from proveit import B, ExprTuple, Lambda, X\n",
    "from proveit.core_expr_types import A_1_to_m\n",
    "from proveit.logic import And, Disjoint, Forall, Iff, Set"
   ]
  },
  {
   "cell_type": "code",
   "execution_count": 2,
   "metadata": {},
   "outputs": [
    {
     "data": {
      "text/html": [
       "<strong id=\"expr\">expr:</strong> <a class=\"ProveItLink\" href=\"expr.ipynb\"><img src=\"expr.png\" style=\"display:inline;vertical-align:middle;\" /></a><br>"
      ],
      "text/plain": [
       "expr: ((A_{1}, ..A_{_a}.., A_{m}, B) -> (disjoint(A_{1}, ..A_{_a}.., A_{m}, B) <=>  \\\\ (disjoint(A_{1}, ..A_{_a}.., A_{m}) and [forall_{X in {A_{1}, ..A_{_a}.., A_{m}}} disjoint(X, B)])))"
      ]
     },
     "execution_count": 2,
     "metadata": {},
     "output_type": "execute_result"
    }
   ],
   "source": [
    "# build up the expression from sub-expressions\n",
    "expr = ExprTuple(Lambda([A_1_to_m, B], Iff(Disjoint(A_1_to_m, B), And(Disjoint(A_1_to_m), Forall([X], Disjoint(X, B), domains = [Set(A_1_to_m)]))).with_wrapping_at(2)))"
   ]
  },
  {
   "cell_type": "code",
   "execution_count": 3,
   "metadata": {},
   "outputs": [
    {
     "name": "stdout",
     "output_type": "stream",
     "text": [
      "Passed sanity check: expr matches stored_expr\n"
     ]
    }
   ],
   "source": [
    "# check that the built expression is the same as the stored expression\n",
    "assert expr == stored_expr\n",
    "assert expr._style_id == stored_expr._style_id\n",
    "print(\"Passed sanity check: expr matches stored_expr\")"
   ]
  },
  {
   "cell_type": "code",
   "execution_count": 4,
   "metadata": {},
   "outputs": [
    {
     "name": "stdout",
     "output_type": "stream",
     "text": [
      "\\left(\\left(A_{1}, \\ldots, A_{m}, B\\right) \\mapsto \\left(\\begin{array}{c} \\begin{array}{l} \\textrm{disjoint}(A_{1}, \\ldots, A_{m}, B) \\Leftrightarrow  \\\\ \\left(\\textrm{disjoint}(A_{1}, \\ldots, A_{m}) \\land \\left[\\forall_{X \\in \\left\\{A_{1}, \\ldots, A_{m}\\right\\}}~\\textrm{disjoint}(X, B)\\right]\\right) \\end{array} \\end{array}\\right)\\right)\n"
     ]
    }
   ],
   "source": [
    "# Show the LaTeX representation of the expression for convenience if you need it.\n",
    "print(expr.latex())"
   ]
  },
  {
   "cell_type": "code",
   "execution_count": 5,
   "metadata": {},
   "outputs": [
    {
     "data": {
      "text/html": [
       "no style options"
      ],
      "text/plain": [
       "no style options"
      ]
     },
     "execution_count": 5,
     "metadata": {},
     "output_type": "execute_result"
    }
   ],
   "source": [
    "expr.style_options()"
   ]
  },
  {
   "cell_type": "code",
   "execution_count": 6,
   "metadata": {},
   "outputs": [
    {
     "data": {
      "text/html": [
       "<table><tr><th>&nbsp;</th><th>core type</th><th>sub-expressions</th><th>expression</th></tr>\n",
       "<tr><td>0</td><td>ExprTuple</td><td>1</td><td><a class=\"ProveItLink\" href=\"expr.ipynb\"><img src=\"expr.png\" style=\"display:inline;vertical-align:middle;\" /></a></td></tr>\n",
       "<tr><td>1</td><td>Lambda</td><td>parameters:&nbsp;7<br>body:&nbsp;2<br></td><td><a class=\"ProveItLink\" href=\"../f149a38a6866690e31e7c3305a6fc86c989ba96d0/expr.ipynb\"><img src=\"../f149a38a6866690e31e7c3305a6fc86c989ba96d0/expr.png\" style=\"display:inline;vertical-align:middle;\" /></a></td></tr>\n",
       "<tr><td>2</td><td>Operation</td><td>operator:&nbsp;3<br>operands:&nbsp;4<br></td><td><a class=\"ProveItLink\" href=\"../e79ca20d4753e7e8a8438d819b32c840802ac77d0/expr.ipynb\"><img src=\"../e79ca20d4753e7e8a8438d819b32c840802ac77d0/expr.png\" style=\"display:inline;vertical-align:middle;\" /></a></td></tr>\n",
       "<tr><td>3</td><td>Literal</td><td></td><td><a class=\"ProveItLink\" href=\"../../../../../booleans/implication/__pv_it/common/274d5b2833791537ab9e3cf14842ad1ff6590b920/expr.ipynb\"><img src=\"../../../../../booleans/implication/__pv_it/common/274d5b2833791537ab9e3cf14842ad1ff6590b920/expr.png\" style=\"display:inline;vertical-align:middle;\" /></a></td></tr>\n",
       "<tr><td>4</td><td>ExprTuple</td><td>5, 6</td><td><a class=\"ProveItLink\" href=\"../50ca5fcf92f162c1caac491a260f9ac467ddcd730/expr.ipynb\"><img src=\"../50ca5fcf92f162c1caac491a260f9ac467ddcd730/expr.png\" style=\"display:inline;vertical-align:middle;\" /></a></td></tr>\n",
       "<tr><td>5</td><td>Operation</td><td>operator:&nbsp;18<br>operands:&nbsp;7<br></td><td><a class=\"ProveItLink\" href=\"../6dad518f7089ba817e453b69088f134d434ec0140/expr.ipynb\"><img src=\"../6dad518f7089ba817e453b69088f134d434ec0140/expr.png\" style=\"display:inline;vertical-align:middle;\" /></a></td></tr>\n",
       "<tr><td>6</td><td>Operation</td><td>operator:&nbsp;8<br>operands:&nbsp;9<br></td><td><a class=\"ProveItLink\" href=\"../7d05f2825c86e2ff67c102f9d5037c0a3ebcd8e10/expr.ipynb\"><img src=\"../7d05f2825c86e2ff67c102f9d5037c0a3ebcd8e10/expr.png\" style=\"display:inline;vertical-align:middle;\" /></a></td></tr>\n",
       "<tr><td>7</td><td>ExprTuple</td><td>27, 22</td><td><a class=\"ProveItLink\" href=\"../e4b9101cbd91fe3556da241d430b5d226d862a000/expr.ipynb\"><img src=\"../e4b9101cbd91fe3556da241d430b5d226d862a000/expr.png\" style=\"display:inline;vertical-align:middle;\" /></a></td></tr>\n",
       "<tr><td>8</td><td>Literal</td><td></td><td><a class=\"ProveItLink\" href=\"../../../../../booleans/conjunction/__pv_it/common/26b94b53e70b1d77b70f0d9d4236347db37731060/expr.ipynb\"><img src=\"../../../../../booleans/conjunction/__pv_it/common/26b94b53e70b1d77b70f0d9d4236347db37731060/expr.png\" style=\"display:inline;vertical-align:middle;\" /></a></td></tr>\n",
       "<tr><td>9</td><td>ExprTuple</td><td>10, 11</td><td><a class=\"ProveItLink\" href=\"../bcc848bc4573f0ecda3c8821a4fd781717b201e70/expr.ipynb\"><img src=\"../bcc848bc4573f0ecda3c8821a4fd781717b201e70/expr.png\" style=\"display:inline;vertical-align:middle;\" /></a></td></tr>\n",
       "<tr><td>10</td><td>Operation</td><td>operator:&nbsp;18<br>operands:&nbsp;26<br></td><td><a class=\"ProveItLink\" href=\"../ca13b14e12fe5cb54de4776e89264322051ce1bf0/expr.ipynb\"><img src=\"../ca13b14e12fe5cb54de4776e89264322051ce1bf0/expr.png\" style=\"display:inline;vertical-align:middle;\" /></a></td></tr>\n",
       "<tr><td>11</td><td>Operation</td><td>operator:&nbsp;12<br>operand:&nbsp;14<br></td><td><a class=\"ProveItLink\" href=\"../11b8d976d66762a6e8cffd9688392456dc2870260/expr.ipynb\"><img src=\"../11b8d976d66762a6e8cffd9688392456dc2870260/expr.png\" style=\"display:inline;vertical-align:middle;\" /></a></td></tr>\n",
       "<tr><td>12</td><td>Literal</td><td></td><td><a class=\"ProveItLink\" href=\"../../../../../booleans/quantification/universality/__pv_it/common/684d35ba98fcbf8ca5011f865e530a51e77730630/expr.ipynb\"><img src=\"../../../../../booleans/quantification/universality/__pv_it/common/684d35ba98fcbf8ca5011f865e530a51e77730630/expr.png\" style=\"display:inline;vertical-align:middle;\" /></a></td></tr>\n",
       "<tr><td>13</td><td>ExprTuple</td><td>14</td><td><a class=\"ProveItLink\" href=\"../b7709f01a90f3ec4cf0fa76919ada8e2cd0ed32c0/expr.ipynb\"><img src=\"../b7709f01a90f3ec4cf0fa76919ada8e2cd0ed32c0/expr.png\" style=\"display:inline;vertical-align:middle;\" /></a></td></tr>\n",
       "<tr><td>14</td><td>Lambda</td><td>parameter:&nbsp;23<br>body:&nbsp;15<br></td><td><a class=\"ProveItLink\" href=\"../47a1f748b40de010f5a456ee545ed0bd5975e6370/expr.ipynb\"><img src=\"../47a1f748b40de010f5a456ee545ed0bd5975e6370/expr.png\" style=\"display:inline;vertical-align:middle;\" /></a></td></tr>\n",
       "<tr><td>15</td><td>Conditional</td><td>value:&nbsp;16<br>condition:&nbsp;17<br></td><td><a class=\"ProveItLink\" href=\"../998711843a5fcb6cd845a8999665663b1425bdfb0/expr.ipynb\"><img src=\"../998711843a5fcb6cd845a8999665663b1425bdfb0/expr.png\" style=\"display:inline;vertical-align:middle;\" /></a></td></tr>\n",
       "<tr><td>16</td><td>Operation</td><td>operator:&nbsp;18<br>operands:&nbsp;19<br></td><td><a class=\"ProveItLink\" href=\"../2bca63d5c615ecd38863a0e198780390c3b86fa50/expr.ipynb\"><img src=\"../2bca63d5c615ecd38863a0e198780390c3b86fa50/expr.png\" style=\"display:inline;vertical-align:middle;\" /></a></td></tr>\n",
       "<tr><td>17</td><td>Operation</td><td>operator:&nbsp;20<br>operands:&nbsp;21<br></td><td><a class=\"ProveItLink\" href=\"../a25404dc053c997782ef1c6553a63797a1e6dcfe0/expr.ipynb\"><img src=\"../a25404dc053c997782ef1c6553a63797a1e6dcfe0/expr.png\" style=\"display:inline;vertical-align:middle;\" /></a></td></tr>\n",
       "<tr><td>18</td><td>Literal</td><td></td><td><a class=\"ProveItLink\" href=\"../../common/29cd130c9151f7436245bb447bb028785ac0f1510/expr.ipynb\"><img src=\"../../common/29cd130c9151f7436245bb447bb028785ac0f1510/expr.png\" style=\"display:inline;vertical-align:middle;\" /></a></td></tr>\n",
       "<tr><td>19</td><td>ExprTuple</td><td>23, 22</td><td><a class=\"ProveItLink\" href=\"../686f753f39b168f88902b84b5a5c7089b1447bde0/expr.ipynb\"><img src=\"../686f753f39b168f88902b84b5a5c7089b1447bde0/expr.png\" style=\"display:inline;vertical-align:middle;\" /></a></td></tr>\n",
       "<tr><td>20</td><td>Literal</td><td></td><td><a class=\"ProveItLink\" href=\"../../../../membership/__pv_it/common/7171deca84f71f47a6ec7696972d1632274a12880/expr.ipynb\"><img src=\"../../../../membership/__pv_it/common/7171deca84f71f47a6ec7696972d1632274a12880/expr.png\" style=\"display:inline;vertical-align:middle;\" /></a></td></tr>\n",
       "<tr><td>21</td><td>ExprTuple</td><td>23, 24</td><td><a class=\"ProveItLink\" href=\"../f9d2bab7e17f22b5d6e3e7a08f409d92bfc3acf30/expr.ipynb\"><img src=\"../f9d2bab7e17f22b5d6e3e7a08f409d92bfc3acf30/expr.png\" style=\"display:inline;vertical-align:middle;\" /></a></td></tr>\n",
       "<tr><td>22</td><td>Variable</td><td></td><td><a class=\"ProveItLink\" href=\"../../../../../../__pv_it/common/4eca3b30dcf58a58494e201d1b7886d8643a617b0/expr.ipynb\"><img src=\"../../../../../../__pv_it/common/4eca3b30dcf58a58494e201d1b7886d8643a617b0/expr.png\" style=\"display:inline;vertical-align:middle;\" /></a></td></tr>\n",
       "<tr><td>23</td><td>Variable</td><td></td><td><a class=\"ProveItLink\" href=\"../../../../../../__pv_it/common/1b6265652676c9224272c794411413f800c857050/expr.ipynb\"><img src=\"../../../../../../__pv_it/common/1b6265652676c9224272c794411413f800c857050/expr.png\" style=\"display:inline;vertical-align:middle;\" /></a></td></tr>\n",
       "<tr><td>24</td><td>Operation</td><td>operator:&nbsp;25<br>operands:&nbsp;26<br></td><td><a class=\"ProveItLink\" href=\"../fc9bfb3ec68c6d5ed3593749976924825e6070af0/expr.ipynb\"><img src=\"../fc9bfb3ec68c6d5ed3593749976924825e6070af0/expr.png\" style=\"display:inline;vertical-align:middle;\" /></a></td></tr>\n",
       "<tr><td>25</td><td>Literal</td><td></td><td><a class=\"ProveItLink\" href=\"../../../../enumeration/__pv_it/common/f7caf702081f903a6ea3d95d680568dd78698f5a0/expr.ipynb\"><img src=\"../../../../enumeration/__pv_it/common/f7caf702081f903a6ea3d95d680568dd78698f5a0/expr.png\" style=\"display:inline;vertical-align:middle;\" /></a></td></tr>\n",
       "<tr><td>26</td><td>ExprTuple</td><td>27</td><td><a class=\"ProveItLink\" href=\"../0a65ec265686482133d742d4363a8cf4d6c35e350/expr.ipynb\"><img src=\"../0a65ec265686482133d742d4363a8cf4d6c35e350/expr.png\" style=\"display:inline;vertical-align:middle;\" /></a></td></tr>\n",
       "<tr><td>27</td><td>ExprRange</td><td>lambda_map:&nbsp;28<br>start_index:&nbsp;29<br>end_index:&nbsp;30<br></td><td><a class=\"ProveItLink\" href=\"../../../../../../core_expr_types/__pv_it/common/30c3e05d1ed167fcc220828c60f35ec81c3feb3f0/expr.ipynb\"><img src=\"../../../../../../core_expr_types/__pv_it/common/30c3e05d1ed167fcc220828c60f35ec81c3feb3f0/expr.png\" style=\"display:inline;vertical-align:middle;\" /></a></td></tr>\n",
       "<tr><td>28</td><td>Lambda</td><td>parameter:&nbsp;34<br>body:&nbsp;31<br></td><td><a class=\"ProveItLink\" href=\"../../../../../../core_expr_types/__pv_it/common/7cb3671e4363a47742a54e63b73ddf8e8fe2c9390/expr.ipynb\"><img src=\"../../../../../../core_expr_types/__pv_it/common/7cb3671e4363a47742a54e63b73ddf8e8fe2c9390/expr.png\" style=\"display:inline;vertical-align:middle;\" /></a></td></tr>\n",
       "<tr><td>29</td><td>Literal</td><td></td><td><a class=\"ProveItLink\" href=\"../../../../../../numbers/numerals/__pv_it/common/d278e359da0695d9652dd541d45264f93703e2e40/expr.ipynb\"><img src=\"../../../../../../numbers/numerals/__pv_it/common/d278e359da0695d9652dd541d45264f93703e2e40/expr.png\" style=\"display:inline;vertical-align:middle;\" /></a></td></tr>\n",
       "<tr><td>30</td><td>Variable</td><td></td><td><a class=\"ProveItLink\" href=\"../../../../../../__pv_it/common/2dc4f15b3407a25e8d70754a86bf74f1871f92650/expr.ipynb\"><img src=\"../../../../../../__pv_it/common/2dc4f15b3407a25e8d70754a86bf74f1871f92650/expr.png\" style=\"display:inline;vertical-align:middle;\" /></a></td></tr>\n",
       "<tr><td>31</td><td>IndexedVar</td><td>variable:&nbsp;32<br>index:&nbsp;34<br></td><td><a class=\"ProveItLink\" href=\"../../../../../../core_expr_types/__pv_it/common/44c047560b26e24c2a9af7e0d00ef8bc5e74e7580/expr.ipynb\"><img src=\"../../../../../../core_expr_types/__pv_it/common/44c047560b26e24c2a9af7e0d00ef8bc5e74e7580/expr.png\" style=\"display:inline;vertical-align:middle;\" /></a></td></tr>\n",
       "<tr><td>32</td><td>Variable</td><td></td><td><a class=\"ProveItLink\" href=\"../../../../../../__pv_it/common/e4aad701f7f5516d8e7f0d805d518bf02c13322a0/expr.ipynb\"><img src=\"../../../../../../__pv_it/common/e4aad701f7f5516d8e7f0d805d518bf02c13322a0/expr.png\" style=\"display:inline;vertical-align:middle;\" /></a></td></tr>\n",
       "<tr><td>33</td><td>ExprTuple</td><td>34</td><td><a class=\"ProveItLink\" href=\"../../../../../../core_expr_types/__pv_it/common/ecf50ade416ab41c42c9f4e777b4c862cd9469670/expr.ipynb\"><img src=\"../../../../../../core_expr_types/__pv_it/common/ecf50ade416ab41c42c9f4e777b4c862cd9469670/expr.png\" style=\"display:inline;vertical-align:middle;\" /></a></td></tr>\n",
       "<tr><td>34</td><td>Variable</td><td></td><td><a class=\"ProveItLink\" href=\"../../../../../../core_expr_types/__pv_it/common/9e6d9d5d7eeb0342cf5bca68def0eb165a1a9bb10/expr.ipynb\"><img src=\"../../../../../../core_expr_types/__pv_it/common/9e6d9d5d7eeb0342cf5bca68def0eb165a1a9bb10/expr.png\" style=\"display:inline;vertical-align:middle;\" /></a></td></tr>\n",
       "</table>\n"
      ],
      "text/plain": [
       "0. ((A_{1}, ..A_{_a}.., A_{m}, B) -> (disjoint(A_{1}, ..A_{_a}.., A_{m}, B) <=>  \\\\ (disjoint(A_{1}, ..A_{_a}.., A_{m}) and [forall_{X in {A_{1}, ..A_{_a}.., A_{m}}} disjoint(X, B)])))\n",
       "   core type: ExprTuple\n",
       "   sub-expressions: 1\n",
       "1. (A_{1}, ..A_{_a}.., A_{m}, B) -> (disjoint(A_{1}, ..A_{_a}.., A_{m}, B) <=>  \\\\ (disjoint(A_{1}, ..A_{_a}.., A_{m}) and [forall_{X in {A_{1}, ..A_{_a}.., A_{m}}} disjoint(X, B)]))\n",
       "   core type: Lambda\n",
       "   parameters: 7\\n   body: 2\n",
       "2. disjoint(A_{1}, ..A_{_a}.., A_{m}, B) <=>  \\\\ (disjoint(A_{1}, ..A_{_a}.., A_{m}) and [forall_{X in {A_{1}, ..A_{_a}.., A_{m}}} disjoint(X, B)])\n",
       "   core type: Operation\n",
       "   operator: 3\n",
       "   operands: 4\n",
       "3. <=>\n",
       "   core type: Literal\n",
       "   sub-expressions: \n",
       "4. (disjoint(A_{1}, ..A_{_a}.., A_{m}, B), disjoint(A_{1}, ..A_{_a}.., A_{m}) and [forall_{X in {A_{1}, ..A_{_a}.., A_{m}}} disjoint(X, B)])\n",
       "   core type: ExprTuple\n",
       "   sub-expressions: 5, 6\n",
       "5. disjoint(A_{1}, ..A_{_a}.., A_{m}, B)\n",
       "   core type: Operation\n",
       "   operator: 18\n",
       "   operands: 7\n",
       "6. disjoint(A_{1}, ..A_{_a}.., A_{m}) and [forall_{X in {A_{1}, ..A_{_a}.., A_{m}}} disjoint(X, B)]\n",
       "   core type: Operation\n",
       "   operator: 8\n",
       "   operands: 9\n",
       "7. (A_{1}, ..A_{_a}.., A_{m}, B)\n",
       "   core type: ExprTuple\n",
       "   sub-expressions: 27, 22\n",
       "8. and\n",
       "   core type: Literal\n",
       "   sub-expressions: \n",
       "9. (disjoint(A_{1}, ..A_{_a}.., A_{m}), forall_{X in {A_{1}, ..A_{_a}.., A_{m}}} disjoint(X, B))\n",
       "   core type: ExprTuple\n",
       "   sub-expressions: 10, 11\n",
       "10. disjoint(A_{1}, ..A_{_a}.., A_{m})\n",
       "    core type: Operation\n",
       "    operator: 18\n",
       "    operands: 26\n",
       "11. forall_{X in {A_{1}, ..A_{_a}.., A_{m}}} disjoint(X, B)\n",
       "    core type: Operation\n",
       "    operator: 12\n",
       "    operand: 14\n",
       "12. forall\n",
       "    core type: Literal\n",
       "    sub-expressions: \n",
       "13. (X -> {disjoint(X, B) if X in {A_{1}, ..A_{_a}.., A_{m}}.)\n",
       "    core type: ExprTuple\n",
       "    sub-expressions: 14\n",
       "14. X -> {disjoint(X, B) if X in {A_{1}, ..A_{_a}.., A_{m}}.\n",
       "    core type: Lambda\n",
       "    parameter: 23\n",
       "    body: 15\n",
       "15. {disjoint(X, B) if X in {A_{1}, ..A_{_a}.., A_{m}}.\n",
       "    core type: Conditional\n",
       "    value: 16\n",
       "    condition: 17\n",
       "16. disjoint(X, B)\n",
       "    core type: Operation\n",
       "    operator: 18\n",
       "    operands: 19\n",
       "17. X in {A_{1}, ..A_{_a}.., A_{m}}\n",
       "    core type: Operation\n",
       "    operator: 20\n",
       "    operands: 21\n",
       "18. disjoint\n",
       "    core type: Literal\n",
       "    sub-expressions: \n",
       "19. (X, B)\n",
       "    core type: ExprTuple\n",
       "    sub-expressions: 23, 22\n",
       "20. in\n",
       "    core type: Literal\n",
       "    sub-expressions: \n",
       "21. (X, {A_{1}, ..A_{_a}.., A_{m}})\n",
       "    core type: ExprTuple\n",
       "    sub-expressions: 23, 24\n",
       "22. B\n",
       "    core type: Variable\n",
       "    sub-expressions: \n",
       "23. X\n",
       "    core type: Variable\n",
       "    sub-expressions: \n",
       "24. {A_{1}, ..A_{_a}.., A_{m}}\n",
       "    core type: Operation\n",
       "    operator: 25\n",
       "    operands: 26\n",
       "25. Set\n",
       "    core type: Literal\n",
       "    sub-expressions: \n",
       "26. (A_{1}, ..A_{_a}.., A_{m})\n",
       "    core type: ExprTuple\n",
       "    sub-expressions: 27\n",
       "27. A_{1}, ..A_{_a}.., A_{m}\n",
       "    core type: ExprRange\n",
       "    lambda_map: 28\n",
       "    start_index: 29\n",
       "    end_index: 30\n",
       "28. _a -> A_{_a}\n",
       "    core type: Lambda\n",
       "    parameter: 34\n",
       "    body: 31\n",
       "29. 1\n",
       "    core type: Literal\n",
       "    sub-expressions: \n",
       "30. m\n",
       "    core type: Variable\n",
       "    sub-expressions: \n",
       "31. A_{_a}\n",
       "    core type: IndexedVar\n",
       "variable: 32\n",
       "index: 34\n",
       "32. A\n",
       "    core type: Variable\n",
       "    sub-expressions: \n",
       "33. (_a)\n",
       "    core type: ExprTuple\n",
       "    sub-expressions: 34\n",
       "34. _a\n",
       "    core type: Variable\n",
       "    sub-expressions: "
      ]
     },
     "execution_count": 6,
     "metadata": {},
     "output_type": "execute_result"
    }
   ],
   "source": [
    "# display the expression information\n",
    "expr.expr_info()"
   ]
  },
  {
   "cell_type": "code",
   "execution_count": null,
   "metadata": {},
   "outputs": [],
   "source": []
  }
 ],
 "metadata": {
  "kernelspec": {
   "display_name": "Python 3",
   "language": "python",
   "name": "python3"
  }
 },
 "nbformat": 4,
 "nbformat_minor": 0
}