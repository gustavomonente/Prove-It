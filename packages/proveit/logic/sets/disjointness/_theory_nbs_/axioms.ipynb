{
 "cells": [
  {
   "cell_type": "markdown",
   "metadata": {},
   "source": [
    "Axioms for the theory of <a class=\"ProveItLink\" href=\"theory.ipynb\">proveit.logic.sets.disjointness</a>\n",
    "========"
   ]
  },
  {
   "cell_type": "code",
   "execution_count": 1,
   "metadata": {},
   "outputs": [
    {
     "name": "stdout",
     "output_type": "stream",
     "text": [
      "Defining axioms for theory 'proveit.logic.sets.disjointness'\n",
      "Subsequent end-of-cell assignments will define axioms\n",
      "%end_axioms will finalize the definitions\n"
     ]
    }
   ],
   "source": [
    "import proveit\n",
    "# Prepare this notebook for defining the axioms of a theory:\n",
    "%axioms_notebook # Keep this at the top following 'import proveit'.\n",
    "from proveit.logic import Forall, Iff, Equals, And, Distinct, Disjoint, Intersect, EmptySet, NotInSet, Set\n",
    "from proveit import m, n, y, A, B, X\n",
    "from proveit.core_expr_types import A_1_to_m, x_1_to_n\n",
    "from proveit.logic.sets import x_singletons_range\n",
    "from proveit.numbers import Natural, NaturalPos\n",
    "%begin axioms"
   ]
  },
  {
   "cell_type": "markdown",
   "metadata": {},
   "source": [
    "**An empty collection of sets are mutually disjoint simply because there are no pairs:**"
   ]
  },
  {
   "cell_type": "code",
   "execution_count": 2,
   "metadata": {},
   "outputs": [
    {
     "data": {
      "text/html": [
       "<strong id=\"vacuously_disjoint\">vacuously_disjoint:</strong> <a class=\"ProveItLink\" href=\"../__pv_it/axioms/a13e7c4899bcf54635cb11d7ce2c8ef0cf8970a50/axiom_expr.ipynb\"><img src=\"data:image/png;base64,iVBORw0KGgoAAAANSUhEUgAAAFEAAAAUBAMAAAAHNMzaAAAAMFBMVEX///8iIiJUVFSYmJhmZmZE\n",
       "REQQEBCIiIh2dnbc3NwyMjKqqqq6urrMzMzu7u4AAAB+UOZAAAAAAXRSTlMAQObYZgAAAaBJREFU\n",
       "KM+NkrtLw1AUxr/YpG2iiRl06FZ0cvAxCNUtm4OCRVDQxUE3FYKLiAgRh6o4FNRVgn9BHBx00Umd\n",
       "pHQRRFFBxUVa1PqASD03N/FR4uPATe738eOec+49AHB3hN9jBdt8s+NCHuHbuQvvF0geWhpVWe67\n",
       "UF+42cqdQAJ7tJQsNJtL98e8mkGfdlqZv8gIIxO0bgJSPuN1nPp1nvnkLpGyziqgMm4zsy7W7qHO\n",
       "pOzYsIPbqWUmT0aPJ81Ib103YuzcuAFtDHHKvoFrQEetoyYgmSRRb8qvEIiS2lgZNiSb9Y4+7F/A\n",
       "JFKwoL6RxADw4JGCQ2S1joIFzSOF0jSIPCf/hZFDwLNHRtlNqUWcmz6pLZUNInfJLzGyv5IsBOQ6\n",
       "Iq5/5uMXMsaz1+hQ0n6dB0AjkVEDqvtBKknxoyN5HOIz86mjQdb7BBSLYR4p2iK7IEC0gKv52adk\n",
       "vtxymOrYIxKrCz0gmS83bz0l0bDIEtPN5yper9YJeVL2mpffrZq2Qi6E/DIhQUjFzbAxkT6nLgi1\n",
       "qyl09NIM/lesoBN4B5bmgniv4p3TAAAAAElFTkSuQmCC\n",
       "\" style=\"display:inline;vertical-align:middle;\" /></a><br>"
      ],
      "text/plain": [
       "vacuously_disjoint: disjoint()"
      ]
     },
     "execution_count": 2,
     "metadata": {},
     "output_type": "execute_result"
    }
   ],
   "source": [
    "vacuously_disjoint = Disjoint()"
   ]
  },
  {
   "cell_type": "markdown",
   "metadata": {},
   "source": [
    "**Define `disjoint` for a pair of sets to mean that the intersection of the pair is the empty set:**"
   ]
  },
  {
   "cell_type": "code",
   "execution_count": 3,
   "metadata": {},
   "outputs": [
    {
     "data": {
      "text/html": [
       "<strong id=\"disjoint_pair_def\">disjoint_pair_def:</strong> <a class=\"ProveItLink\" href=\"../__pv_it/axioms/c8e7d64033b15ecd40a5719564620728242a15070/axiom_expr.ipynb\"><img src=\"data:image/png;base64,iVBORw0KGgoAAAANSUhEUgAAAV8AAAAWBAMAAACVu4KiAAAAMFBMVEX///8QEBCIiIhmZma6urrM\n",
       "zMxUVFQiIiJERETc3Nzu7u6qqqp2dnaYmJgyMjIAAAAcRTyBAAAAAXRSTlMAQObYZgAABONJREFU\n",
       "SMfVV1toHFUY/rKzk81MdjYB6wVqy6DUK2kXIxVUcKsPlmDpKm0ezYJW0mppJNI2XiAFSXfrJQuC\n",
       "hkrpliJKKG6gD2l9sEsq9B6WFBTxwkK10j7YNrsJ29i4nv+cOXPZnckWX8QfZnfO+f/vnO+c/3LO\n",
       "AP8LabtNO63Ifr7oaWJ1wL/7eKDxgSWHa8S1T51Ge9ZSlajnlwDsV/TzbQXaCtE+lRPrWOE20of5\n",
       "n1qSHd/XXlmbTqA16zMiGTcAmuGmsBrYyl5IdY56rgYQvsLpVaDeEu0dYizZBBLsiYnO2HUbdg+g\n",
       "zEEv+YxIxnUAPdcEpw1gxMTXZMpUY9Qz7M/XiPO/SqD3dDK4KN5/XZC96iIQLtPGNMrFBsD63Xvf\n",
       "XxrHaLw1gKjJ9xoxtr7ohD+fSLYJYb6iIcH96E3ZG2JvxixwSO4qe3qt96F6QDTDlHFfnJ1xZvjJ\n",
       "Beid4Crj7Pj4ZwF8rH4Ww5uFbzZZMbzZMjgR5w7j3EP2utrY0IfeZkQTot1FfUnp3ToA3+7XfXFS\n",
       "WopKzxzwG4Sqmk6/G0D4fvYcmVpVwdg81EdnSqHRCRy57ztqvnzHSw+YxjODTyEktqenfVHCOlJQ\n",
       "d5LjhEalgNNFmpCxF7CPfsb8cLZ0TETIyychVFuADO8Xv+vLJ/tlmn7EJlqOKDO+TAVjgEHVIeYh\n",
       "1sRuU7uJCMO3FbmDE+qsnKBv+8xeCjJDZM+Ld+9ispI7h4y9AL7dER/c9J8klzjhMfzFYt5SPWel\n",
       "pSFcanQi2mnN/A4bvURVAiNYl4NJay1AnWNN7AEWOeEIT4AwtLIkvCYL/S4qn5xMaJvY5w84s4l6\n",
       "gIuwF+fa4WIXEZ60VBGE+JIPC5cqKbTLfF8G5AvQOeFI9WFaax+b7RYR/hiY5YRbeMT1dq+tygn2\n",
       "0OTMTqW6pe+UGUyRQcZegIuwB+eJ4asUEn0QqmhRmJ8dFOOaUEoO4T7TIqxP1+KM8AmKeiKc9hJm\n",
       "PyvlBPM0sSkn/rQgisIb8BCWABdhL85VrB4p6XMOYa3ES45qprk2n8TqnBMSeUl4P8WM2OGyi3BI\n",
       "eLidPW+6yjB2MEJh4dofeDD+kfSEhA1wCNfhRAxfpvPtXIGIPg9LlXmV9K14gg+/seuhFJykiw1b\n",
       "MfwssJ0RbolDrdiEYylF5NDn7LnmKsNq1Uk6Xqz1K/AknQ1wCNfjnGo/kjSGnaTDUY75CWu4dhp4\n",
       "UFqyQqItgzJL9FjSZahK3IlYgdhywkpJ4ZWGl9bRLPI0Xozl7DqqVooIBtCGKOJsImM3wE24AWfL\n",
       "Ll5/n5aqDjrz9EvnR3kkfAgclAcfOeHwhVU3Ur21bS/M/JxghPHJ+cfBmr21LcdupPDaGfKSPvp3\n",
       "Dsdqg4iwst96bb67n5eEmDgs+C1AVFruUjfARbgRZ8vkfjqtf5cqg4gqORzkdqx+bMx6j2Z3Cfc5\n",
       "XoZc79+4FV/Kywt7xhuOZkt4hTLgh7PlwgZGRB/wqDZQudP2QVuAdm/d5UdKuJhPBtxnpBS8t8Il\n",
       "Lz+B0oDj2yQvP9bxX4U2+p66HKfK3f3OUZ7xXkKuT/p+DTh+0E33Va4UYNyWXZKvLw729dJ7tfe7\n",
       "wNuiPrYVAXdy6ZKAhfhe4AM/h/zXk/FTHff7RGoqAV88P/7LTyR/nJH1U90Wv/9W/gEsVqIFAFbL\n",
       "0AAAAABJRU5ErkJggg==\n",
       "\" style=\"display:inline;vertical-align:middle;\" /></a><br>"
      ],
      "text/plain": [
       "disjoint_pair_def: forall_{A, B} (disjoint(A, B) <=> ((A intersect B) = emptyset))"
      ]
     },
     "execution_count": 3,
     "metadata": {},
     "output_type": "execute_result"
    }
   ],
   "source": [
    "disjoint_pair_def = Forall((A, B), Iff(Disjoint(A, B), Equals(Intersect(A, B), EmptySet)))"
   ]
  },
  {
   "cell_type": "markdown",
   "metadata": {},
   "source": [
    "**Define `disjoint` (mutually disjoint) through induction: adding a set to a `disjoint` collection will maintain disjointness if and only if the new set is disjoint with all of the sets in the original collection:**"
   ]
  },
  {
   "cell_type": "code",
   "execution_count": 4,
   "metadata": {},
   "outputs": [
    {
     "data": {
      "text/html": [
       "<strong id=\"disjoint_induction\">disjoint_induction:</strong> <a class=\"ProveItLink\" href=\"../__pv_it/axioms/b99f55fea69fd6afec7305b87783801d248771370/axiom_expr.ipynb\"><img src=\"data:image/png;base64,iVBORw0KGgoAAAANSUhEUgAAAvwAAAAyBAMAAADSCxJRAAAAMFBMVEX///8QEBCIiIhmZma6urrM\n",
       "zMxUVFQiIiJERETc3Nzu7u6qqqp2dnaYmJgyMjIAAAAcRTyBAAAAAXRSTlMAQObYZgAADA9JREFU\n",
       "eNrtnH+QE+UZx59Lskl2N5ujI2DlWk1RKQ7VS3uCHbl60U6HGaeWgAp2cMgOlP5gbC+UaU9QS0qt\n",
       "HNZ6QUc86dQLRQUpc5f2/lA7WCLaacuPEqGd2hZKrNYpTEfguF9waPr+2N28++5mc5rbTJzyzlx2\n",
       "37139/b97Ps+z/N+98kBOJcrihegqhKKwcViLpJKt4eKZyo1bXpqS3V/68BF3JbyFbp5/qlfVWo5\n",
       "pcq/5FHN9WdvrXDCz6vunJyud/xKQdtZ4DZ+/vn+dhDET9Ld32fIRq9qEzNFNkKh8qWXWnrVPtzy\n",
       "zQcBvlX3w/+RGuGXJnMHxEEQNG/STkepYDgX7CXC9GD4dOVrn7IcaUDPri0OvXWPf2usNviDUf7I\n",
       "YPlHhdseofv/PF95Bp/K8IcSeYD5UQhF6h2/PKk2+Pdkxo9fwfjX0CfRf67ipX/ZZrHxzejI8QhI\n",
       "WucAWTBBrUv+99cG/2qw4hfvpGboDs3236k/KoRfTNIn4RmseOl8syWk/SF6cJeiq76tuX00GeDH\n",
       "dYl/T7oW+BVuEO/ae/UgdA+DMOtwwdOVhV3TX8PVpZcsnBFR2lbPBQ81VrfK71W6tC+zJ88fGwZY\n",
       "vBJtX6XVu/BHb6Ye8QeitcAfSJmtexOE0LB+B3YAJKExK6yBYARV4d6IeI7cUpAglWLCgI6vXHkG\n",
       "EryJF4aPzbyPeA5a/VgHKqtO1mXoeb4W+BNm+xAs4MgHHoKbMxBB+AM5EIZQFVuN9wj+QJaMbBDP\n",
       "Atx+g9OlY9DDu3UPmmtbsa1/gVRn0HF/V7YeF74DtcD/WXO1LwcSwR8YvQYQ/gQicwHjfxRggOBv\n",
       "IM9rUcucUbSZ53BlYXlLe4oPs5DL9Yzhp45r23Wne289Dv93a4F/KjcZIhp+6U/FKMK/B8Eexfg7\n",
       "zfjRx+UV8PtQW35p1oiAewZ0/OI99OhzuXrE35x2H7/AOdA+Hf8WUAa10X+Wwe+hxkdGP6sq4Eft\n",
       "ApNA+cLCKz0z4kzY7x80TlR+8C4u36vL0Kcn7z5+Dxf4hFOa7b8F4NsIf0MUhEEDf1j1Utf7M21J\n",
       "64BfzJKVsXJzvmGlISvhEZVIGa6XLuF661MBalDdxx+cxEGbDN4BDBu53o048pkC4RxmT/B7C14I\n",
       "6bF/V5rgl97Hk6agfZRqT+Krn4Mtn4bGmDdHfwFvIpv0cexvW+mf82NLNrc+173BJMVPDOgxJ/wV\n",
       "Wjg9Yt45bjt49Rl1UXHllw8fjSH88PiB6wFVFxVXvHhGha//EXxJkLrez8CLxdV09HcgnAE8UsjH\n",
       "9/HOWoAdxZMgd41EYRnqATZYuNl3isvndJIw599aeIHuXEzVJ/7QaYp/P96cdMJfoYVD6Ys6/bbR\n",
       "LiJcw+xj/LJ11fQb0+3NhB6BayYltR00g6RMfeJXhij+bnAcIgh/hRZOYb+D9uXL98VtDh9h9nH4\n",
       "HrI2YSIZ8TQa/2+EuGb1L7mhqGSA4g+j4RHKOuGv0MJJ2XA4K3j6BdvDJU/5+LplAL+wrlgYuD4V\n",
       "TsDmfVyz+hecUS/OUvzKvp07n3R0vRVaOJTjcYfH/znbtyISN83y1mlrq7+xlY0fAfxYnyKRz2hn\n",
       "5/3OkY9zi4priw9Wqn/ZqKQ/CvhHNfwrHIcLxm+0sG8XZLvr62qdYzQ7lIGLpUy5XMP/RRKgsWVx\n",
       "a8wzlcGvt1DsRfjjJl3tdYBX9P22i/jLlks1/AH6WkK3vbtb8nJqH9zI4NdbbLMV4aU2k+Gdw7zi\n",
       "arcx+bHa9fAbHXVghuZ15MBjc3yVhj+UDzBH33hpJ8iHvUZ0h/HrLfattl1AbDdF998FuAnK419U\n",
       "w54n62KYiyoO0MriFwsIia5d+TBKeclXIyx+0gIN3Ein3eUXBtlgRRoCz0kH43Py/xE/HLQe7tA1\n",
       "n41fA0O7CuODcnzfX1j8pAWAH25AHxaiqpftpm/g8ENG5ZBl8ntJ0O5OrtVLbuGX7qjgw8S8/XGS\n",
       "8IXxBzJlXS/0o9vUtattFH8oFGXx95OO/AOaQXiFv5CS9bA5OaECeIxuN1vi/h5yuju5Vv60BT8Z\n",
       "TUq+SvzyqRhsohcJraWHNpmuuQNb7eID0Fv8iQaFSfjC+D1W9WWqjr8Rj0hNu1rc2dkZkeNiPsni\n",
       "Jy2ktw50ZazPsbf1D2xOTjAH4ph9TIQLfQnuTq6VEcClDfxksR6uOv7qiUGCmgO/JqEndOvgwx8n\n",
       "SE+yoKzUz2ASvjB+0dqTszp+JVPSrvx09MOXIix+0sKbgZ64Ff+NIA7BkZePLPmdrqP5DJV/jwV/\n",
       "E924k2u1V9u+ZeAnUlV31dansXy4hs0FSVCCRIGJK5iEL4wf7rP084KOn9WuQthcKDFQTLaflNvQ\n",
       "beQxfvFh6M7oH748fkv+60JDdjfqaAZbl0059ibMRvJ8JfzV5Fpt1WLbDRnD9mNPv99N/HikBMg9\n",
       "hIdE1bTe1xK+yNHPl5PcOO0KG695byOHyuMPjoLY9QDGLzTBgrRwGf5ogq4UdI/k/fHtcD26Wja0\n",
       "rmXOg6Xb5k2eMknH70auVZju+2+JGPiP7tz5fHIi8D9B3dgTWtCgVUHGNoQKYvLw5tIZTMIXwf8p\n",
       "iz8ZY/EbxYNsPy86sAUbH7l0Ef0o9EMyS97AmhrzvtOLD7iWa6XFC716yIM2jZ2dG3JVxj0Hpidi\n",
       "YpcKC1++DmaOgbT3M7gqvDl7+jI4MtKShStpwyseNglqesIXwT+ft9mhc7b47TQfds40z2UjPH3v\n",
       "ObgKlqUtmfVe3uPgJYJ7uVZa2vx+3dwg/P64WZL6EGVrFg7FIKyicAytPsdgcRrWoyoE1kNPmmRR\n",
       "/lQLs0u3wiZ8EfwJPgb0n/4w+OmMt9mj/edtDe870V27mGslJzXqTxv40TISRx9/HUkHR3UzdXfe\n",
       "IhSWiiEXCrO0nUdJ5BNUfdOweDCGs2MT8aCKX2QjX7i65FfbS2+22YQvgr+H9x70PazLiSZjvOmK\n",
       "uplrJZARpUTwmNeXXUm4lsYZxnfMxGllgmJOVfTnjBClD+OHdevRExvDfWrMYfwFHJBj/PQ7DN7N\n",
       "pd6yCV8Efx//13oi7uPn06wgHHUz14rix8GBauA/SB1BG/xZ0xNBLtgIhUYcWXI3tB0JUSj+XafQ\n",
       "bByT0b03pjD+lBn/bGG05KvVUsKX/eivRZoV6jVn+1U3c618hHS/vg4i4J+mj6JnVkzTEzWsnFCo\n",
       "F0ZV1PBLOn4xg2cMHf1RBn+EGh80u9al2YhbT/iitp83dRugBvjncw/dn3Iz14q63hPaI6D4g5vJ\n",
       "Lfjxeo/oiRpWs1BozB9GVdTww39024+MWh7Z/ktw5rCB/x2IUtd7FbJnUXZs6wlf9pFPTVJsA9wQ\n",
       "80yqKtfKnHTF51oB/gEhBbrEhS8hU9dNYtgwg5UIhSv5+yWqIod/UwzaIgg2cr3IXY/Bgjj8F7On\n",
       "+G9C+LGS4kf33HgebBK+CP7X+fi+JgnmfOjjw/Uqcq1ImhXesc21CmOPS1LbPBFD8aTD7LENmkCg\n",
       "uVQiFN49jb9frCoa8f5l2rb1cGKq0D78zMFrX8ORj9j6agxVn20fXtI1Ffz3pPEtLi1OAeHUiGqT\n",
       "8GW76qU5hq5/uegTXH2yZUE5gblW2w0NDOIG/r8ThDlsBomeKPyoJBSu5VdYRFXUy2K79dqY3Rxn\n",
       "Dbsl4Yvg/xd3Sm2+XGT5al0rNxsmNNdqb1m9fxf5no2/NPqJUGjBT1RFZe6x2bvjpdHPltukoXI6\n",
       "lbGcNa1tNclN4hdAmiroNv4wZ/y5vzehuVZ8xkAJP1qwyogb0ROJTadCIcZf0g+7M1RVlK+DJjlX\n",
       "sv1s6ZKTjms1sEn4wvgVlVN8ptUGv8id7zfbmgnNtQqmy+CX2tdC70iE6okEKxUKMf6Sfrggq6mK\n",
       "K6SkN2aP//YZtmvlHeXudaOGP8DN8Vp9rRq40S0VxnXWh3rZ+Dcoa3xYPZHBuhZY/VAfGUk5GpDt\n",
       "8ZcbZGXepyn6y8aj3C+WQ43we7lp1w+1K/ZKcwnrwrNZRj/U9UJJ9cT813wg/M7PRrUkKCup8eKv\n",
       "+h/KLOM6H6sd/g7bPB/OpebL2TN/bkJuYl6Hil26qYz/H8pU/e+UvDXkPb7y2LhevQv7XbsBSVvu\n",
       "HSqe+R8aziomVWXLugAAAABJRU5ErkJggg==\n",
       "\" style=\"display:inline;vertical-align:middle;\" /></a><br>"
      ],
      "text/plain": [
       "disjoint_induction: forall_{m in Natural} [forall_{A_{1}, ..A_{_a}.., A_{m}, B} (disjoint(A_{1}, ..A_{_a}.., A_{m}, B) <=>  \\\\ (disjoint(A_{1}, ..A_{_a}.., A_{m}) and [forall_{X in {A_{1}, ..A_{_a}.., A_{m}}} disjoint(X, B)]))]"
      ]
     },
     "execution_count": 4,
     "metadata": {},
     "output_type": "execute_result"
    }
   ],
   "source": [
    "disjoint_induction = Forall(m, Forall((A_1_to_m, B),\n",
    "                                     Iff(Disjoint(A_1_to_m, B),\n",
    "                                         And(Disjoint(A_1_to_m),\n",
    "                                             Forall(X, Disjoint(X, B),\n",
    "                                                    domain=Set(A_1_to_m)))).with_wrap_after_operator()),\n",
    "                           domain=Natural)"
   ]
  },
  {
   "cell_type": "markdown",
   "metadata": {},
   "source": [
    "**Elements being `distinct` is the same as their associated singletons being `disjoint`:**"
   ]
  },
  {
   "cell_type": "code",
   "execution_count": 5,
   "metadata": {},
   "outputs": [
    {
     "data": {
      "text/html": [
       "<strong id=\"distinct_def\">distinct_def:</strong> <a class=\"ProveItLink\" href=\"../__pv_it/axioms/c02a1b48a1c0ab08555038069bc8211dd28397280/axiom_expr.ipynb\"><img src=\"data:image/png;base64,iVBORw0KGgoAAAANSUhEUgAAAlYAAAAXBAMAAAA7EBzMAAAAMFBMVEX///8QEBCIiIhmZma6urrM\n",
       "zMxUVFQiIiJERETc3Nzu7u6qqqp2dnaYmJgyMjIAAAAcRTyBAAAAAXRSTlMAQObYZgAABlVJREFU\n",
       "WMPtWG9sFEUUf1zvute7vWsTKYl8OksChJR6kRA/2MpWPxBNjEcxSiLJXeo/MAYa2qBUA02/2Gq0\n",
       "V5VASAgrKjGIcKFpaoiNpXeGgH+4CIlfgJ4BjBqFxgqKZ4zvzezO7s7t7XUTPqkvmb252d/ub95v\n",
       "Z97MG4B/uZ0r2v6E7tF9oGH9Cr9sbVd9wfdjiTymzwPlw6LZyraaJA3o+NEpR1Ow2fMJCQ2dKU5N\n",
       "5VIflKjtotcLCvPA2DwYINeuazBqfaLRoivKj2120c8iUfvdiD7EMiM9dL8ni4yuKxnUm5kOX1Db\n",
       "T95a1cZYFmcj4IAGaeMbaSCqxrcVKB921KXNIqm/xVsEEXHAj1hOSc+c8mSR76o9BvVRpsNeGqwD\n",
       "3lrVxthmPLs2amIEJWXEewLlw9REZZtFAm4cseTt0YqoqRQgjpNezXlrVRtj2Q7JjVjSTc0dfrWK\n",
       "NPnSijiU7O3RiqipFCB25vDhPeCtVW2MFU97TDd2p1jtM9TKqBphZk6g/NgVV62MN+9+mLeYRMQB\n",
       "e+D2aMWor5AO8MfQ0Cs1tKqNERZAaSJftqS1hpEMdE22xdb03ofV0HerW7rxTns+d+73VTmGatn8\n",
       "wLTnuw4ufadVTL28PNBsJLC8DJHpVk0QEQcsMb23M52sqZWdVW0yqfNMh2cAhl0em7JrVQXjYmFc\n",
       "id7NwVkN4hlc7BRQUJZ4BpRBOJCF0VzoTujlqCPwbWKn57Sbim1TSua/S3T5+hrZZao6SKAMT2Rh\n",
       "0CJCDniDYFvAyTTj2fstEmts1qS+xHR4ECIll8eSdq2qYFxMwbD2JluiwpngYggwrcIZCDdBYxGu\n",
       "QbSZ/CDUGTirPwSwoXo419U/g2K9nJDuOkhQKxz36ZQgIq1epslI+yk7UzzptYtrllkvm9QTTAcF\n",
       "Ao6tbW8B7spIWkkYD1ugQeQvgGPkBuwazAqtStCYiFAYIT8QBToM0db43urjCsK2tTct3XSQQDlU\n",
       "xvg1ZRIxrRaiM6+S1w6m5xJVCRnayVq/zaBOMx3UoiJufZTvgE9UvU6XtLJjamoV+tV048j1OaHV\n",
       "ALpAd4RWAOzfWo+XNSaqauUkgXL0N4QPmESmVuY+3WLCWVrdONrO+j04tGooPS7W99f36TCZSKqQ\n",
       "X9W7KmdpZcPUnoMR040GHWY0JRkQWpnjKkFzEEI3ammVtq2fa614RQ44SYxxlbRplWBzEDaBk8k7\n",
       "Xm2SWHm8WssL6gDDT2NjR9cSCkto4+NvqXK8YhiYXr00VfF6qZGi9g9mKElAfTGeqRNaYbyCKH6r\n",
       "JKFOBGZhhZdWUf1uCOi8Z0Zst5mDBOPVHeikJoiQg8d2WtnsTDXXQQcrXwet2A5juImIdRYXZHne\n",
       "N65+vLFCK8IE9C2KBs9LewTWaAvI+NyoBmsS2GkMu+FsXamO+s9dwHztNKZkSUQFy+FZSm7Rg8jf\n",
       "+OCxknER/x7NjWCKzXsG0C655SBBrdal4GeLCDn4LgO9tzEZOyhB4WRmdx2sfH/VzkvBmJ/7lkGj\n",
       "ztORcZjKV2hFmBD8ArBxsRQ3qNE+5XtoF/VNelFo6833v1qJzz57GqsfbL355MgiiDzVmoX6F7KI\n",
       "inSvWHLRGOAvYnxUKJCwy3aqYDJ8qOVgR5H3DFvkww4nSRka2vOaRYQcQhs7k7HbFITbTVKl37jr\n",
       "YOVaXeWFdIhRV7qhE0IvDQ0Nolb7lQqtGAYoQ+2Xx+0ttxxnfpmQGQyilYcrJ0SNeoYOe+/0y26h\n",
       "U8pxbFpVIzwlsfIcp4eXgnmvGdpDkOHjKtiFPymHVnwMzYYqtaLGc5MXpNx5fhm26YHqtRVmPXPN\n",
       "nYU9Ernh0soy0ZOuWlUjPCmzOnNnI42bhb5x+Jyq5wEuyDkOPwJRSyrTaq/e8Jp5YY3HB6wtRXhe\n",
       "py1hxx7zYOXeSkjDe+Z6JiNsJOo66oad696EdX5VjXBGYmXnV9aZjBFmMtBahDAu5cGdGtS7anXo\n",
       "/PQZptU6ylTWZemSY431qQ0+T/EE6u1dmCZW7nNjVgBkPfNOsdYvdf1AdNYXFwOUMQUXsno1QoE2\n",
       "WDs1Q/Jh+/zithzjVYUtc4RVmoPW8QyvKbBS83k67PMMOeb3bNA8Q4YxX+ftY5Xn7URNpa3PL3/X\n",
       "XM52+G3UDsGnRfjfXD+yS+2/YP8Aj55K7WWCYHsAAAAASUVORK5CYII=\n",
       "\" style=\"display:inline;vertical-align:middle;\" /></a><br>"
      ],
      "text/plain": [
       "distinct_def: forall_{n in NaturalPos} [forall_{x_{1}, ..x_{_a}.., x_{n}} (distinct(x_{1}, ..x_{_a}.., x_{n}) = disjoint({x_{1}}, ..{x_{i}}.., {x_{n}}))]"
      ]
     },
     "execution_count": 5,
     "metadata": {},
     "output_type": "execute_result"
    }
   ],
   "source": [
    "distinct_def = Forall(n, Forall(x_1_to_n, \n",
    "                               Equals(Distinct(x_1_to_n), \n",
    "                                      Disjoint(x_singletons_range))),\n",
    "                    domain=NaturalPos)"
   ]
  },
  {
   "cell_type": "code",
   "execution_count": 6,
   "metadata": {},
   "outputs": [
    {
     "name": "stdout",
     "output_type": "stream",
     "text": [
      "These axioms may now be imported from the theory package: proveit.logic.sets.disjointness\n"
     ]
    }
   ],
   "source": [
    "%end axioms"
   ]
  },
  {
   "cell_type": "code",
   "execution_count": null,
   "metadata": {},
   "outputs": [],
   "source": []
  },
  {
   "cell_type": "code",
   "execution_count": null,
   "metadata": {},
   "outputs": [],
   "source": []
  }
 ],
 "metadata": {
  "kernelspec": {
   "display_name": "Python 3",
   "language": "python",
   "name": "python3"
  }
 },
 "nbformat": 4,
 "nbformat_minor": 0
}