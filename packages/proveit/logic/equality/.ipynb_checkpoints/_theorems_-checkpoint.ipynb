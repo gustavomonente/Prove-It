{
 "cells": [
  {
   "cell_type": "markdown",
   "metadata": {},
   "source": [
    "Theorems for context <a href=\"_context_.ipynb\" class=\"ProveItLink\">proveit.logic.equality</a>\n",
    "========"
   ]
  },
  {
   "cell_type": "code",
   "execution_count": 1,
   "metadata": {},
   "outputs": [
    {
     "name": "stdout",
     "output_type": "stream",
     "text": [
      "Defining theorems for context 'proveit.logic.equality'\n",
      "Subsequent end-of-cell assignments will define theorems\n",
      "'%end theorems' will finalize the definitions\n"
     ]
    }
   ],
   "source": [
    "import proveit\n",
    "# Automation is not needed when building theorem expressions:\n",
    "proveit.defaults.automation = False # This will speed things up.\n",
    "from proveit import ExprRange, IndexedVar\n",
    "from proveit.logic import Equals, NotEquals, Implies, Not, And, Forall, FALSE, inBool\n",
    "from proveit._common_ import A, a, b, c, n, x, y, z, f, P, fa, fab, fx, fxy, Px, Py, Q\n",
    "from proveit.core_expr_types._common_ import x_1_to_n, y_1_to_n, f__x_1_to_n, f__y_1_to_n, P__x_1_to_n, P__y_1_to_n\n",
    "from proveit.logic._common_ import PofTrue, PofFalse\n",
    "from proveit.logic.equality._common_ import elementwise_equality\n",
    "from proveit.number import one, Naturals, NaturalsPos\n",
    "%begin theorems"
   ]
  },
  {
   "cell_type": "markdown",
   "metadata": {},
   "source": [
    "### Substitution or equivalence with a statement that is known to be true (left-hand side)"
   ]
  },
  {
   "cell_type": "code",
   "execution_count": 2,
   "metadata": {},
   "outputs": [
    {
     "data": {
      "text/html": [
       "<strong id=\"subLeftSideInto\"><a class=\"ProveItLink\" href=\"_proofs_/subLeftSideInto.ipynb\">subLeftSideInto</a>:</strong> <a class=\"ProveItLink\" href=\"__pv_it/9405ff42d7a20b04a73ad4825ecc6784f8967f060/expr.ipynb\"><img src=\"data:image/png;base64,iVBORw0KGgoAAAANSUhEUgAAAL8AAAAWBAMAAABj11ATAAAAMFBMVEX///8QEBCIiIhmZma6urrM\n",
       "zMxUVFQiIiJERETc3Nzu7u6qqqp2dnaYmJgyMjIAAAAcRTyBAAAAAXRSTlMAQObYZgAAAthJREFU\n",
       "SMe1VU1oE0EU/rruTzbZJl48eQkWSgkFcxFUREKFqmA19SDeDMEWKrXtoR4sKvGWCrW5WQRxBalY\n",
       "PAQ8iIK41IMQg0YURFDYs1C7KEpbi/rmp5vdJhHF+GD3zXxvZr43782bAf6H3JD6IX0ua3xoz7qd\n",
       "4yvDY3uBaEECegl4zhof2+R5gty9bCNekv0o9edIm4U2EZxygCdJvPaBRSBuA1a5TQQ7M/Q5OO8D\n",
       "tyhulYWFa+1K7ix94xlzwgfixLhSLF74w/k8tNpvBvygcH+Bkqbo7xjpo/hY1BwCpgF1dnT3mcYZ\n",
       "Gf6XRot3YpmW62vrwAMHkRpwD2+Tlyg+lOUDPNd4BTxrnCKzL4wjorOnJYHyrfo0BRiU0gpe2ofJ\n",
       "G4qWAYUYMUzpaUnAjZojOvMtCSJrXHXQHm0U+Z482njNYM2LEFBTAm7UszJxpZZlMOETAJ83CEz3\n",
       "BCuJVShT7ODu6qZ11G4Ydp1AGMmPvhymxIatruNDclkOijJIc8VCBO0rzx6jnD7NWuu9rKYVe8wg\n",
       "fithDwZ2IIx0mJ01bStiOYJSujupF0lmBOiXAYsUefBI8ZASScZ9xmK54hxgianrB9ETIBDGQzBv\n",
       "TygFqAzMxmtyAwLksmyL4Wmo3yOeSSO2sLwlkow1Lcev8v8+5AMEwtjPxutJaJwu4WeCg0z2/xST\n",
       "KC7RfKqL3aBxlrdOxpuQt4Xm8UKaxLYAgTCepOhmOrJQczzeyOqfSJYEGJL6VXGnfk0xh+bsm5Zr\n",
       "kcI51QsQcCMbbGSPkUOOecX0XkCeWgGGJHTZyRJZZuUzWJ5/s1ghhf4et04gjOxcqfmrFJKMtj16\n",
       "9kivLedyMFwPwes6JDJO5WgpUgvWgXCijLuYobhSgQYncTAk/oMT2VQysZJUunMUDQTUGVXJpcfi\n",
       "KfSFg82fzHebn7wNpb53mhAMYKBK7tGRqoXg6j9c8OnGDSr2X63wC2jlxTKsC1d/AAAAAElFTkSu\n",
       "QmCC\n",
       "\" style=\"display:inline;vertical-align:middle;\" /></a><br>"
      ],
      "text/plain": [
       "subLeftSideInto: forall_{P, x, y | P(y), x = y} P(x)"
      ]
     },
     "execution_count": 2,
     "metadata": {},
     "output_type": "execute_result"
    }
   ],
   "source": [
    "subLeftSideInto = Forall((P, x, y), Px, conditions=[Py, Equals(x, y)])"
   ]
  },
  {
   "cell_type": "code",
   "execution_count": 3,
   "metadata": {},
   "outputs": [
    {
     "data": {
      "text/html": [
       "<strong id=\"lhsViaEquivalence\"><a class=\"ProveItLink\" href=\"_proofs_/lhsViaEquivalence.ipynb\">lhsViaEquivalence</a>:</strong> <a class=\"ProveItLink\" href=\"__pv_it/ce4ce1fc47a0c78387859f1852d34744cc60efeb0/expr.ipynb\"><img src=\"data:image/png;base64,iVBORw0KGgoAAAANSUhEUgAAAIwAAAAWBAMAAADgE2koAAAAMFBMVEX///8QEBCIiIhmZma6urrM\n",
       "zMxUVFQiIiJERETc3Nzu7u6qqqp2dnaYmJgyMjIAAAAcRTyBAAAAAXRSTlMAQObYZgAAAeBJREFU\n",
       "OMutVD0sQ1EYPfr/qyIWLMRgEcRUpiYWmzBYvYEO0sEsJBIJJRHdWFBrF01MXURISGjkWSwiaSIx\n",
       "SGiD+G3w3ff3XdWB1pe8d79z7rnnvXu/ey/wP5ETr8vKx59/zkevkjgR+U0V//EBeJqwRpl3tnIX\n",
       "ZxHw36M2CQTSldvYHukpInicSq1WMSdPAXCR1Us8Pl2FTYhqtNkNjAOLgGMlFp4QdFu2T+t2GDIT\n",
       "DzwdzCetwSYLjO7BL36jHz5R9DPgiJqNCIY0tUdXWThYh8Ck6WKxQFcs2yNSN2wqNVFiqGaNgF1h\n",
       "G8YuBbaC4cIssGLYBVS3aGaAOHmq2nctG8aUecx9wSzwbFrnRujte4VtCmgVJSywDePtBNrNtWEW\n",
       "zgdzootjYkWLHWI/X9Njz7EN48H9bBquOMWyxGrbRo8dsXIBnaUtiZo9tmF8KhWZWdS+WZVvEaO6\n",
       "tbxer5llw3hOsmHWnn9qMcigmHJIPw9R34W3QbJh/K6V647iVmJLYzRBi72EreHgbkSy0TF1OF8l\n",
       "MatKD1i+l1a9Gb7woeKVbHRMHZ0PCVazqmz4RQWVdcnGwP4f14OhKhsZsY0+mr7ZaDhTqjRVZUMc\n",
       "CixEvtloWP0hXYj87gKw/+m6+AIRhIj+rToaNQAAAABJRU5ErkJggg==\n",
       "\" style=\"display:inline;vertical-align:middle;\" /></a><br>"
      ],
      "text/plain": [
       "lhsViaEquivalence: forall_{P, Q | Q, P = Q} P"
      ]
     },
     "execution_count": 3,
     "metadata": {},
     "output_type": "execute_result"
    }
   ],
   "source": [
    "lhsViaEquivalence = Forall((P, Q), P, conditions=[Q, Equals(P, Q)])"
   ]
  },
  {
   "cell_type": "markdown",
   "metadata": {},
   "source": [
    "### Applying symmetry, we can reverse any known equality:"
   ]
  },
  {
   "cell_type": "code",
   "execution_count": 4,
   "metadata": {},
   "outputs": [
    {
     "data": {
      "text/html": [
       "<strong id=\"equalsReversal\"><a class=\"ProveItLink\" href=\"_proofs_/equalsReversal.ipynb\">equalsReversal</a>:</strong> <a class=\"ProveItLink\" href=\"__pv_it/ccfae423cc7074e165b2d15a6521f6edad78c9d10/expr.ipynb\"><img src=\"data:image/png;base64,iVBORw0KGgoAAAANSUhEUgAAAKEAAAAWBAMAAABasOFIAAAAMFBMVEX///8QEBCIiIhmZma6urrM\n",
       "zMxUVFQiIiJERETc3Nzu7u6qqqp2dnaYmJgyMjIAAAAcRTyBAAAAAXRSTlMAQObYZgAAAglJREFU\n",
       "OMudVT9IG1EY/5FckoteIpS6ONkGJGQKQjeR1ELFRXRxVUILuoQOOmmLdCjJIGRTuvR0aIsIBpx0\n",
       "CrpFsDcUSqGFg0JBoSUUBKMIft+73F3uejl5+eBxL7/fe798/+47QNqSRnfukJbJm58yip9DuHgV\n",
       "OOXNhYzieQjXRw5ucRzrEoKpfBh7DKR1QKtJKCaqYew2/WVjd3dTJujww+kCcFUur8koZmjtjCI5\n",
       "5Mvg46UJClmjnLwEKv9dK3RX3KBVf4pIk55nf9l+MbyHb8NvKGQqzTNRIJ+FlGqVKlkbh+o70sAX\n",
       "fQrof0WZRsSQUXxIEeIBBoa9sI4yP2LkumYkIKkI5RrzM37in62YNOe4j56M0BFlBAndVbRANocQ\n",
       "USNq4hGcPP4WeOxSHKSoUXkBRPRSgqqhDeizro8CXCyTGQ5hVUZdwDufh0dUqpxVGRyQbAx/GH4/\n",
       "iayr2AY9BHDCPi4ot15B5UZt8giJ1umHleOWIMZQ7Mxjy7lhE8AkN18x0/K1YzGX4XmT5jSldJHR\n",
       "GBPLGOxQZLDEmTIcwn4Lo2Zw3T7Zmw+aqWFLx4rSdBUF2DabsCZFCfuFrpPCso9fjxuYreF51nQV\n",
       "Bdg2m4B4w17jbfdp1mm1vqpqBPajQ1gTdyIzE6yoegdTfzVenw7ucIe456vw3TdLofyoBys6RM+W\n",
       "7/3qHftHk7tcdHVHAAAAAElFTkSuQmCC\n",
       "\" style=\"display:inline;vertical-align:middle;\" /></a><br>"
      ],
      "text/plain": [
       "equalsReversal: forall_{x, y | x = y} (y = x)"
      ]
     },
     "execution_count": 4,
     "metadata": {},
     "output_type": "execute_result"
    }
   ],
   "source": [
    "equalsReversal = Forall((x, y), Equals(y, x), conditions=[Equals(x, y)])"
   ]
  },
  {
   "cell_type": "markdown",
   "metadata": {},
   "source": [
    "### Substitution or equivalence with a statement that is known to be true (right-hand side)"
   ]
  },
  {
   "cell_type": "code",
   "execution_count": 5,
   "metadata": {},
   "outputs": [
    {
     "data": {
      "text/html": [
       "<strong id=\"subRightSideInto\"><a class=\"ProveItLink\" href=\"_proofs_/subRightSideInto.ipynb\">subRightSideInto</a>:</strong> <a class=\"ProveItLink\" href=\"__pv_it/4aefebd196eb20a271052f69405f077ceeffa15d0/expr.ipynb\"><img src=\"data:image/png;base64,iVBORw0KGgoAAAANSUhEUgAAAL4AAAAWBAMAAACMFTstAAAAMFBMVEX///8QEBCIiIhmZma6urrM\n",
       "zMxUVFQiIiJERETc3Nzu7u6qqqp2dnaYmJgyMjIAAAAcRTyBAAAAAXRSTlMAQObYZgAAAu1JREFU\n",
       "SMe1VU1oE1EQ/rrZ3WQ3aVo82kukoFCrlqKgIBIrqAel0YMnMaHYglJLD14sCkGhpIXa3OxFGlQE\n",
       "e7ABRfEW2oNQS4konlQW1INCbbCl2lp/Zt57m2yNCypxYDPzJvO+nTfzvVngf8h1qcJZwGHjVW1g\n",
       "X/wY7HmTA+y0cpwBnrD+UKO8vwOhjUA0q9Z3gTFSVro28MYa1eQT8Mx1RGKI0nki+drga0v00Dsu\n",
       "uA67EfUzExPXalSeUAkwl2D1lz1vgS+ZzMU/226J34R/QAORZbwNWhtwox0WdWIa6AaGAH20d/fZ\n",
       "qg26VIeXpwepjAWxuO+PnywgTLmGihS7Hxqd5jVwADZz9CnwuPrAUtU3ItIPU7IikPXF39E72055\n",
       "BPOw8vsQItY8pBU0eh966G8/fDPFyZxUPUv54o/mhKqLw8YGNMToRESeYpCdl4CMH36wyMl0K+d7\n",
       "X/zPcPGhryKZEPiWc4KzWoE2QC9rPs4wHSkMePAns9iSA7FiatfmBLaxS1hS3GAYiyodonvAwSYy\n",
       "D9EzdJo7udbKN7nFdM6TKqwajR78zqnZPLNOy/UF43jATGfLzJCMlIMF/cUuqncohUGI/uIe0zXi\n",
       "SPJFuRfWrX4t7cGfE1xKw8A8s4lTFZZkrRuM6Kq6tcTPQEr/RuZeZm2MkdoUhQU7AgUz5sG/IvC5\n",
       "ryv0nBK+lXLV3eDAwnJMspoStruaOeIds4+73qBGRFLcn2C8LuHB/yqqS0kaJQM4KFZkmR9J5svB\n",
       "FRHzgToAu3yTk5S3NWyV5lCwhhFMdHr4Y4hcKXY84kSAlxjLSUu1UwVXhOZbHybjYr6pybSwh3Ca\n",
       "7HNHWnNGE/Suqx787YuiaAO4/XxqBtiJY3lpqUuugj20zhLdL8v57JWwq+5gxMt/KVuVpnOvm7du\n",
       "cEXo+9LRzDUbWu9/5Kpe3anGV4twUXz3KuIGV38f638ZJUVXHZ1FNb4u/75J+9btcoP/QQK/OV7L\n",
       "XyH8BE6swAxF4PihAAAAAElFTkSuQmCC\n",
       "\" style=\"display:inline;vertical-align:middle;\" /></a><br>"
      ],
      "text/plain": [
       "subRightSideInto: forall_{P, x, y | P(x), x = y} P(y)"
      ]
     },
     "execution_count": 5,
     "metadata": {},
     "output_type": "execute_result"
    }
   ],
   "source": [
    "subRightSideInto = Forall((P, x, y), Py, conditions=[Px, Equals(x, y)])"
   ]
  },
  {
   "cell_type": "code",
   "execution_count": 6,
   "metadata": {},
   "outputs": [
    {
     "data": {
      "text/html": [
       "<strong id=\"rhsViaEquivalence\"><a class=\"ProveItLink\" href=\"_proofs_/rhsViaEquivalence.ipynb\">rhsViaEquivalence</a>:</strong> <a class=\"ProveItLink\" href=\"__pv_it/50b0bc79e9db62815956cf074c2f0f1d132144a50/expr.ipynb\"><img src=\"data:image/png;base64,iVBORw0KGgoAAAANSUhEUgAAAIkAAAAWBAMAAAAGOqJsAAAAMFBMVEX///8QEBCIiIhmZma6urrM\n",
       "zMxUVFQiIiJERETc3Nzu7u6qqqp2dnaYmJgyMjIAAAAcRTyBAAAAAXRSTlMAQObYZgAAAgFJREFU\n",
       "OMutVD9IG1EY/3nR/DnvqkiXVgdFxEUaxyiIBy7ZmnZwcDFCdSiCuhaLgYImhZJsuqjRMUMrdMoi\n",
       "0kIFDXrOIqaLg9BWEKVpbdPve5fcvUsc9OgP3vf78uX3fnfve/ce8F9Q5HDiebraXRgi2uf83LPL\n",
       "bgz+BLBCaSjh1eQ9LUXtAB5kAW3Lq8tXmo0ZQN/L5Za9mmh/OB5mgJ/J5LxXl/VZjsMGMAmkgMb0\n",
       "dOQll7oLg0LQaOmi158XsxJbqIoOOzmmY8AIVN7tI+o30ZqBZ0IdtPR6K7RZiQVs0UKMY5lGAIpJ\n",
       "NAWEabceAb645OKPQ7mQmOGIyuzVfM0dMgNceA0kydIUj3VcqBBMSFypVURz4ucvdi6O8jdYgvIK\n",
       "6KLUembF5UMGvVmJGY5ogkNYNCf1gpt508df8RkNX1FyefqpsGWzP0l4J4nGs5s9TZdC+JG7pokq\n",
       "bmg07EguB3CzW6R0mtqpyNDCbxTsF3mbtVuOyxu42S3C2HRvCmKjdF5vi3UIptTj0EPZ5Tck9n8n\n",
       "fJNEXIvpGdt/nNLQW2w817cNyaWpBFEXXIUjEouI2n8oPwZoSjvUyJd4SHJ5cpkRdcH2nWKLuM3l\n",
       "q5pj0cxPj6/KK7LrLlRFnM7VXgh5fv2/j+tc8rUuVdGt4JOAJaPOxaxTLhl3O/S++9wQ/wC6SI3I\n",
       "rLOAiQAAAABJRU5ErkJggg==\n",
       "\" style=\"display:inline;vertical-align:middle;\" /></a><br>"
      ],
      "text/plain": [
       "rhsViaEquivalence: forall_{P, Q | P, P = Q} Q"
      ]
     },
     "execution_count": 6,
     "metadata": {},
     "output_type": "execute_result"
    }
   ],
   "source": [
    "rhsViaEquivalence = Forall((P, Q), Q, conditions=[P, Equals(P, Q)])"
   ]
  },
  {
   "cell_type": "markdown",
   "metadata": {},
   "source": [
    "### Special substitution involving Booleans"
   ]
  },
  {
   "cell_type": "code",
   "execution_count": 7,
   "metadata": {},
   "outputs": [
    {
     "data": {
      "text/html": [
       "<strong id=\"substituteInTrue\"><a class=\"ProveItLink\" href=\"_proofs_/substituteInTrue.ipynb\">substituteInTrue</a>:</strong> <a class=\"ProveItLink\" href=\"__pv_it/460c8c1ed6f0654b199a14170bec321c77775f810/expr.ipynb\"><img src=\"data:image/png;base64,iVBORw0KGgoAAAANSUhEUgAAAJ8AAAAWBAMAAAAsilPDAAAAMFBMVEX///8QEBCIiIhmZma6urrM\n",
       "zMxUVFQiIiJERETc3Nzu7u6qqqp2dnaYmJgyMjIAAAAcRTyBAAAAAXRSTlMAQObYZgAAAkRJREFU\n",
       "OMullc9r1EAUx7+mye4mze7+AV4Kgoe14h4UfxwkIIgHheLBk7gibg+i7R5EaVFIb9teuje9iBFB\n",
       "oaeionhyWQ9CFYnUi6CQq4K0IEgrRX1vEicz2YCaDkzy5jtvPm9m3ssusP12R1rPqUdsfCrCqU5v\n",
       "TE4dARwfB69zu4ZSD3jNc18K7axOm5kLUOvx4BE/HFJu09v2CwFbfeDFGFYhgRgAtQBwlwsB93nU\n",
       "+5hRgPfoJlaWlm4VS8Yi9WnP7ijAGsXY6HZv/GWlLZ4TWfknzXyD0VSALg3awDxgLl4+dElx9sQz\n",
       "Ufti8CTDs7aAZ31UQgVYpawcE7nBO+CV4p2kSaglkUaM9HSg8f3NywZQXlaAo3T+MgyOMUkXPAwU\n",
       "6tnYds7rwMoP8drhKUBrnY4dltm8CXSHgUJtJ9rnTBl28oF2dIbDb8KYJfqu020FGKu0cHBg9wT2\n",
       "imv/44FWnA3tyCYHmb/I1tY4fzONUnRVAQqV6sIIpsoenkL1EGXIJ88mBY+Z6kZxadRC9chCNX1Y\n",
       "+ErGCc0Da4GsFAkc4YKoj3GcZnIxPRUoVJOTsUn9nOZx9NeF9JTAqbiwuVirHKmefH2tpH5joFAt\n",
       "ny/bAo5rHrLNKPbD9EOnuPaCvf42qWJfqnA6uOtGLvBR85BtVbEHskjXDtM2djpXTo4HKVCowCwe\n",
       "vB+sAPs1j7Qe04J3In1qdKgORduTvCPNI6X4eWz5C54DrCThQs0j7y/gQ2YmzAeasX5f9/jP1hze\n",
       "eeOfFv4GB22dfblPcP0AAAAASUVORK5CYII=\n",
       "\" style=\"display:inline;vertical-align:middle;\" /></a><br>"
      ],
      "text/plain": [
       "substituteInTrue: forall_{P, x | P(x), x} P(TRUE)"
      ]
     },
     "execution_count": 7,
     "metadata": {},
     "output_type": "execute_result"
    }
   ],
   "source": [
    "substituteInTrue = Forall((P, x), PofTrue, conditions=[Px, x])"
   ]
  },
  {
   "cell_type": "code",
   "execution_count": 8,
   "metadata": {},
   "outputs": [
    {
     "data": {
      "text/html": [
       "<strong id=\"substituteTruth\"><a class=\"ProveItLink\" href=\"_proofs_/substituteTruth.ipynb\">substituteTruth</a>:</strong> <a class=\"ProveItLink\" href=\"__pv_it/11791aeb7fe4668d9b11c26885a240e96733742e0/expr.ipynb\"><img src=\"data:image/png;base64,iVBORw0KGgoAAAANSUhEUgAAAJ8AAAAWBAMAAAAsilPDAAAAMFBMVEX///8QEBCIiIhmZma6urrM\n",
       "zMxUVFQiIiJERETc3Nzu7u6qqqp2dnaYmJgyMjIAAAAcRTyBAAAAAXRSTlMAQObYZgAAAmxJREFU\n",
       "OMutVc9rE0EU/txms7vJZvMHeAkWPISCexHUgywVioJC9CDeLMUWKtr24EVRaW9bL82tvYjrpULx\n",
       "EPAgCuJSD0oUjSiIB2HPgjQoSqtFfW9msj9ipLB0YXbefHn7vZ/zAuzGc1vtj2hFLHzKx1OZ3Zya\n",
       "OQKU5hVQbAIvWfic07MqubMQwGmqc4nOK7Rb8zkJz4fA0xrexcA64ASA3cpJeMCjFeJqDNylPLTX\n",
       "1pbzFmOJ1qxnzcWAQxY2ff/6Th+qHOn9+G9K1zdoLmVv3/QoxWuTOAksAoWlS4cuplQ98VaorcCy\n",
       "l+XTt4GHIcwOcB8fajcpXqrKMVEbvAWep3RVmSQ6jRf+gu+HOJwl1H68elYHDCpBG2+CE2SSojeg\n",
       "kQVMUXr/JRSoTrWEycfVLKH5U2x7yPEAvvC5S/F0DBZvQEJZQoEWGz3CuOFUG87FhMDXHqEVneWW\n",
       "3IJ2jRvp4P5GQihRYVAQiljs4TOTqg1dsXHI0L+LpLOJxQssbY/wndGCGcNLCCW6HBOWx+lVL0ZX\n",
       "kjbkn8jMY62LuiwKHjCrHanG+JIOWaLHY8ICww2no0LeCKSWi8Ivs2sRPMTprtZY31VKW2lCiY7F\n",
       "hLowUFWZPPpnAirO0kR9mCeMw/mqsJ2qun16V08RSvRc4uG4SB0a2WonV+9ecs3Z6kpwx47sFKFA\n",
       "pZYgrITWLav7GmGWMDMcVItucM+ebq2+X28nhBKFwSEUWRry9L2lyydHgr5+TI+vzNPq70NpLYYd\n",
       "KvSAqx4PWDPbpyg3BxImhydyyv/3L+Bj/0jHYMJTPU+o6J2ck84d5LkW7PzhX3cQnLjgQEp0AAAA\n",
       "AElFTkSuQmCC\n",
       "\" style=\"display:inline;vertical-align:middle;\" /></a><br>"
      ],
      "text/plain": [
       "substituteTruth: forall_{P, x | P(TRUE), x} P(x)"
      ]
     },
     "execution_count": 8,
     "metadata": {},
     "output_type": "execute_result"
    }
   ],
   "source": [
    "substituteTruth = Forall((P, x), Px, conditions=[PofTrue, x])"
   ]
  },
  {
   "cell_type": "code",
   "execution_count": 9,
   "metadata": {},
   "outputs": [
    {
     "data": {
      "text/html": [
       "<strong id=\"substituteInFalse\"><a class=\"ProveItLink\" href=\"_proofs_/substituteInFalse.ipynb\">substituteInFalse</a>:</strong> <a class=\"ProveItLink\" href=\"__pv_it/a6465abc363eee4bca3df9a48fd903b307ac044a0/expr.ipynb\"><img src=\"data:image/png;base64,iVBORw0KGgoAAAANSUhEUgAAAKsAAAAWBAMAAABNknGBAAAAMFBMVEX///8QEBCIiIhmZma6urrM\n",
       "zMxUVFQiIiJERETc3Nzu7u6qqqp2dnaYmJgyMjIAAAAcRTyBAAAAAXRSTlMAQObYZgAAAmBJREFU\n",
       "OMutlU1o1FAQx/+mm003m83i2UtB8FAK7kX8OEhAEA8KqwcRPLiILSja9iAuFYX1lnrp3uxFjJcK\n",
       "PS16EA9iWA9KFVmpFw9CzoJ0QZBWijqTyb48dyMV44MkM5PJb96bmZcH/K9xX0nP6IpY+PTvtMrc\n",
       "5szsEcBusXaeb8U28IaFzzlmWaWJ3Qngtll5zDebLMv0LLVyYC+EwIsJrENh0QXcAHA6ObD7PbpC\n",
       "LGjYh5SbtdXVe3lKtUTXnFea17AuRdr0/Vs7fRrnzcx+94OS+BVGTcM6pEwDi0Bh6eqhK5qzF98T\n",
       "qxMrZS+Lam4DT0OM9zRshWp2LK4c3gOvNO+kiGK9LMrhLKzx7e3LScDqaNgyZcSCwZFmKPGj2Nhq\n",
       "hqKsZGHHv8ePXZ6GNfu0wp7F4m3AH8XG1mJdFGnN4badz8aWorPcwlswbnLLHdhXT7FipbDO3jPT\n",
       "sioZAzdqW6nVb0kocKjFSyxtT/F+M4JZy0uxYqX+myxG11FuqIQO3KRtORfDJcMTZjuRTB9f9CSI\n",
       "9QRQd+mzAhtf+74fKTdgI1A9pbBjXIzqBEerJW5bOlasx9mJ8mpGiU9DueHoz4tq3Qebzd3N5g0q\n",
       "AieowvGqyf41+6aGFes5TiHqKDQUduCWjgVNfpT+MLjKy8EDJ3I0bGwlr1L/HUJUwtJdwSq3dKxr\n",
       "clfVYIN7/XRn5UN3LcWKFVZgXzs5FWDMM/fIXlZuWv+m3WdHQ+86w30rMROzS/vnj78Nu5UVQTZd\n",
       "OxM7UJ7LebLjofNx+ABBNvaUzIfaopfzwKuNrsII/v7zX2tRo8i6jPnOAAAAAElFTkSuQmCC\n",
       "\" style=\"display:inline;vertical-align:middle;\" /></a><br>"
      ],
      "text/plain": [
       "substituteInFalse: forall_{P, x | P(x), [not](x)} P(FALSE)"
      ]
     },
     "execution_count": 9,
     "metadata": {},
     "output_type": "execute_result"
    }
   ],
   "source": [
    "substituteInFalse = Forall((P, x), PofFalse, conditions=[Px, Not(x)])"
   ]
  },
  {
   "cell_type": "code",
   "execution_count": 10,
   "metadata": {},
   "outputs": [
    {
     "data": {
      "text/html": [
       "<strong id=\"substituteFalsehood\"><a class=\"ProveItLink\" href=\"_proofs_/substituteFalsehood.ipynb\">substituteFalsehood</a>:</strong> <a class=\"ProveItLink\" href=\"__pv_it/7cf5f1309b5518e3e7548b2d1d4d4f49c34813d20/expr.ipynb\"><img src=\"data:image/png;base64,iVBORw0KGgoAAAANSUhEUgAAAKoAAAAWBAMAAACiUBq/AAAAMFBMVEX///8QEBCIiIhmZma6urrM\n",
       "zMxUVFQiIiJERETc3Nzu7u6qqqp2dnaYmJgyMjIAAAAcRTyBAAAAAXRSTlMAQObYZgAAAn5JREFU\n",
       "OMutlU9oE0EUxj+SdJPNv/bgQfQSLCjUaIt4UNCToD0IVQ+exORgCkqFIJ5ahYJQNqImB8FexKWC\n",
       "lB40oCjegj0IWsp68aQSUA96abCl2hqq783szo7JSoX1wfJmZ9/8Zua9b2aB/2amI32qBjS58T4M\n",
       "7e2vqdGPNjDrdZwHXrP/GmqRG0BiG/DFe38ITPPaJ8NAe9q062/IDHkd6RyytPZ0PQw1skJPG/Ga\n",
       "15HsQ+bV3NydUAlItABjBRrkE/DDsq5sVl3Xnwj82ksFvzeEfmrO7LydzwHzQAmoALHq2IELfmRM\n",
       "uuHV+SnKUMPtfRJILTSQonXdpK03MpfiNMcH4AiSrK43wEttV9Jl+pAuw+CMFemJ1oKog2ML+2jq\n",
       "CaqPnV6PUcwzII4Iy3eUPndRjSIiLZzhJsskWQyiVm3httB3JISaCjSBE+fWVcDqosYdjit5VF+S\n",
       "un2HR6Uc51yq2TzNy1hDZJym6D9V0qiPathlo6yoexTKCyS5Lks/IXiioMfoqZzj8rTzfMoGjOZl\n",
       "jTryYqEO06c+VVQvUMqVjaqVsgcRsUW18JhHpZtSO1lHz8Ci0MOkog5zpGVZt1QgkF2XnuQ0Uq/i\n",
       "LjUPeblIuOett6ZTrwlqUVHPuiRDBSK6tCpyydt+sGPmME/2meXDNex1D21BSt2l/hSJ89d61KcW\n",
       "Os+EdmLLSsrUZ143W4tS8pLas+YHCeo7TAsZGSrQtz9uFzflSwcJsj158Xje9ql7l8X845zLrdYN\n",
       "YD9Oij2ZKlCzinYT6pbq1Ku03apFJf379TbbhZf2PJiqXlKO+H1s8ofJdIQ4wdSY13+fhoS5M6OB\n",
       "exj41+G/AfG2mr66OsvLAAAAAElFTkSuQmCC\n",
       "\" style=\"display:inline;vertical-align:middle;\" /></a><br>"
      ],
      "text/plain": [
       "substituteFalsehood: forall_{P, x | P(FALSE), [not](x)} P(x)"
      ]
     },
     "execution_count": 10,
     "metadata": {},
     "output_type": "execute_result"
    }
   ],
   "source": [
    "substituteFalsehood = Forall((P, x), Px, conditions=[PofFalse, Not(x)])"
   ]
  },
  {
   "cell_type": "markdown",
   "metadata": {},
   "source": [
    "### Folding and unfolding $\\neq$"
   ]
  },
  {
   "cell_type": "code",
   "execution_count": 11,
   "metadata": {},
   "outputs": [
    {
     "data": {
      "text/html": [
       "<strong id=\"unfoldNotEquals\"><a class=\"ProveItLink\" href=\"_proofs_/unfoldNotEquals.ipynb\">unfoldNotEquals</a>:</strong> <a class=\"ProveItLink\" href=\"__pv_it/3d2d9e772eb287652a382f7158f650309ed1692a0/expr.ipynb\"><img src=\"data:image/png;base64,iVBORw0KGgoAAAANSUhEUgAAAL8AAAAWCAMAAACmJ70SAAAAOVBMVEX///8oKCgUFBQNDQ0QEBCI\n",
       "iIhmZma6urrMzMxUVFQiIiJERETc3Nzu7u6qqqp2dnaYmJgyMjIAAAArQGDrAAAAAXRSTlMAQObY\n",
       "ZgAAAk9JREFUWMPNV4tyrCAMpb2GNwL+/8deojwVRdt1ppnppmOS3UNyEiIhr4t2Tw3XMuta+/zc\n",
       "uVfgG/XUMBKhK23n9NibV/B7/dQwzIivtE5Z0OoV+I4+NYzFQqVT2kshPipSPzXcKMBUaWcNipbv\n",
       "NK98arjFSVbpRaFI+wp+oAODARCaQaLEacqBooeeVrbYGLxqwfFfdaOc7PIXuk/V2VCLBhPS5iQQ\n",
       "meeg9ZXk01vCkCywbL0TvVfNaNXTl3LV4ZT3Wb51FZVZbGOw4dh2MYRdp0/PhCJCtUGYI/k2jR/g\n",
       "fodfi/7ziZ04RoMpoAbFnZA/y0YzvpUhauu2M/wGvzI/w08KqAF3Q5ECXt7Brz3hIk1UykFEKjDA\n",
       "p9J08TeehNl+RKLJEX8xJFA9/peqrvSBODiZbLTSYssGGCI8kSz1TDgzn7r5z55inV7/wp/rRBz7\n",
       "N+GPhtlsPQmjy1+J9LHv3/AlNJ4nJMLnH9QGjweqi7/xJDCfRORJ10QWA1tmopY7qxwV6B3dqG11\n",
       "xcClGgRoFnDG/+JZNrF9RK70kc+rwQiAMNpvrI7oSdNPet5qZwoZc4bISqSJn+CPniKw9PsLueo6\n",
       "EZ/dH2ha3GSrM2OW0D3I4rDM4YkkDyXrzp/i2c7OfcTH9rfQbMQsrLO/NTVyzAJeKXxCRjMBynfx\n",
       "F892du4jri529aQAMlRXQWd/Pn3LCXa9mx/9+T+XzekQ8bH3FxbYz3cHv0oAvpyJsHT48f1VuRwi\n",
       "3nh/dLrVfSc8s7N2fP+66oY6RPwtoX8P0n+B2Bt/1EqtEwAAAABJRU5ErkJggg==\n",
       "\" style=\"display:inline;vertical-align:middle;\" /></a><br>"
      ],
      "text/plain": [
       "unfoldNotEquals: forall_{x, y | x != y} [not](x = y)"
      ]
     },
     "execution_count": 11,
     "metadata": {},
     "output_type": "execute_result"
    }
   ],
   "source": [
    "unfoldNotEquals = Forall((x, y), Not(Equals(x, y)), conditions=[NotEquals(x, y)])"
   ]
  },
  {
   "cell_type": "code",
   "execution_count": 12,
   "metadata": {},
   "outputs": [
    {
     "data": {
      "text/html": [
       "<strong id=\"foldNotEquals\"><a class=\"ProveItLink\" href=\"_proofs_/foldNotEquals.ipynb\">foldNotEquals</a>:</strong> <a class=\"ProveItLink\" href=\"__pv_it/09537d1e6551fcba849156fb1e755ec44c4cc2550/expr.ipynb\"><img src=\"data:image/png;base64,iVBORw0KGgoAAAANSUhEUgAAALkAAAAWCAMAAACrOc1VAAAAOVBMVEX///8kJCQNDQ0oKCgQEBCI\n",
       "iIhmZma6urrMzMxUVFQiIiJERETc3Nzu7u6qqqp2dnaYmJgyMjIAAAD9T1yxAAAAAXRSTlMAQObY\n",
       "ZgAAAnFJREFUSMfFV+nS3SAIta2I+5L3f9hKjGYzmrnt3I8fmUkieIADImM/KjaO/wfX++otPVN7\n",
       "j/HrwJ2ZOJb63xVBD76+Jvd15MmO/yt88Jg8stVta74OPIpJyB8hBTiEeg/+10TPQi4facbJ8eBI\n",
       "rP5+eepPQ57jTTxaDIkO/wRiuqITPtjI4gCURVgZcBRz0nEgaIHlK0eCaDkx880ZPtJuruvvyqY0\n",
       "M5e1owamayMJaZU/v+kp9j2QKAJLKRFajKJW60yesqdeeM3EbZH2rWeHxTG0o5BbzwRhNAWEX5lG\n",
       "D4ifI5eviObU9QsvaXA7npPV8/q8ihNblsIpuYY+xIL+U+TPLWDcvPlOoAXum12XY85LRiwPyPNJ\n",
       "VR0MICRUJAj0VbsZct3RbdvtNm5p1a0PVzwHnv/ihe175FeyAN/s6s297bACx1RiGmtNZC8ln8V8\n",
       "a25NV5kq8WTDq36FelfKDtz4eDWqPmqFZl2hW+tKLTLWkWNgusjDBi4bQHPX7dnAq+NrZ8sk8Mws\n",
       "1+EL78erULR4WyXCjWbLwVf6rWAYc7Kmerp3G/LavkrGnQLIvfoy73WGKFoo6hZpo1d0O+MOhwbR\n",
       "hssZcmnOuipViScbqN6f/v5hohGb9+7SUeySq2M9V6whX7TM6WEz5MXKrntB12zE8H7i6oQ8FxFz\n",
       "Cx4mrlM+Igagk0Fyv0YJTBojt7Vz7LoXSjQbAuedr4a8c0LonEEDhyn3MV/5v231P+yKMJgyDzbS\n",
       "+5tF76qAmeVy4nG9MKk8KqQ3p/9gpttt+Pj+NoeTuX40bZBFjCG8QojPo0Oz4cRP3nfFKEMTgf99\n",
       "V/wLskgaj1Kxq7sAAAAASUVORK5CYII=\n",
       "\" style=\"display:inline;vertical-align:middle;\" /></a><br>"
      ],
      "text/plain": [
       "foldNotEquals: forall_{x, y | [not](x = y)} (x != y)"
      ]
     },
     "execution_count": 12,
     "metadata": {},
     "output_type": "execute_result"
    }
   ],
   "source": [
    "foldNotEquals = Forall((x, y), NotEquals(x, y), conditions=[Not(Equals(x, y))])"
   ]
  },
  {
   "cell_type": "markdown",
   "metadata": {},
   "source": [
    "**$\\neq$ is also symmetric:**"
   ]
  },
  {
   "cell_type": "code",
   "execution_count": 13,
   "metadata": {},
   "outputs": [
    {
     "data": {
      "text/html": [
       "<strong id=\"notEqualsSymmetry\"><a class=\"ProveItLink\" href=\"_proofs_/notEqualsSymmetry.ipynb\">notEqualsSymmetry</a>:</strong> <a class=\"ProveItLink\" href=\"__pv_it/7a6dab44fd9cd1dcb138ae241ad1147e615fd3950/expr.ipynb\"><img src=\"data:image/png;base64,iVBORw0KGgoAAAANSUhEUgAAAKEAAAAWCAMAAACfQAxJAAAAPFBMVEX///8kJCQoKCgUFBQNDQ0Q\n",
       "EBCIiIhmZma6urrMzMxUVFQiIiJERETc3Nzu7u6qqqp2dnaYmJgyMjIAAAChkoCbAAAAAXRSTlMA\n",
       "QObYZgAAAkdJREFUSMfFVwly5CAMZLOxkLnM8f+/ruQTbI6qTZxQNU6NkYZWqyUUIX5i2dDf9676\n",
       "erH8jOf3EN4C6MwggNjYUAzRL8fX6N5CGG1/X2ErNIZuj/iseQtgkAMK2yd7yKi7yPzupUcUzm19\n",
       "TByhd7ysfq1M9H9TSPyxAJLhpf1bCGFPsgPJObPTTe+mpNABKIuw5pcyK0+SjR2fhd2CbW2YvUd4\n",
       "gZwzSIfG4ro+Pvl5StURU0GD0Ft9B/6D8qia0eqlQzbFpDeB20VIPsSYLoXcGn1yAjfGllUi/IDw\n",
       "NYRWNbcmPDieOHMJit1ZPVORBTGvjPuwofwKQuNGCClZRA0dWXJWU1cWxIaQWvoRiQc5w1H9CPxW\n",
       "uyrCwlKgr3tkWRZbkmESuQ7/TJsacybzIFDvcexdHZxQUWg8pE1Bz1OVw9NSrZ3gkz6h4pFXijDq\n",
       "eHSum8VttQTuqhR6K/ckE/Z4CtI6DgBMFWFhKWBpeJwNY+VQcaYLweP9usG0CJOuWUP6R+JTFhRv\n",
       "K2jp8LK8JoO7R5YoMlMAMhWkPWYBtqHGeU4xcU94cLkyTxVwuqe5gXC3VCSivx8spVDxeNx6suhq\n",
       "ixxNRbcKtonky2qim4gx65lYr9byZVl2mrtHPjmQboVL2KWwOjkUFAf0wD1znlhZqMDEKsLLsuw0\n",
       "d4+8o2gi2RQnLqObtnuPEEJns0Js98PsnIdHrlMkFZYCGFLYu4p5AFd0k8Zxx85MHh79/wJwNFj2\n",
       "ZgX+SQzej++UkM2VD4+fXvI3Dv0HUxkahluggJIAAAAASUVORK5CYII=\n",
       "\" style=\"display:inline;vertical-align:middle;\" /></a><br>"
      ],
      "text/plain": [
       "notEqualsSymmetry: forall_{x, y | x != y} (y != x)"
      ]
     },
     "execution_count": 13,
     "metadata": {},
     "output_type": "execute_result"
    }
   ],
   "source": [
    "notEqualsSymmetry = Forall((x, y), NotEquals(y, x), conditions=[NotEquals(x, y)])"
   ]
  },
  {
   "cell_type": "markdown",
   "metadata": {},
   "source": [
    "**If two things are both equal and not equal, there is a contradiction:**"
   ]
  },
  {
   "cell_type": "code",
   "execution_count": 14,
   "metadata": {},
   "outputs": [
    {
     "data": {
      "text/html": [
       "<strong id=\"notEqualsContradiction\"><a class=\"ProveItLink\" href=\"_proofs_/notEqualsContradiction.ipynb\">notEqualsContradiction</a>:</strong> <a class=\"ProveItLink\" href=\"__pv_it/af426e6b0a5f92cd9eb8822bbee6456d75c5f9f90/expr.ipynb\"><img src=\"data:image/png;base64,iVBORw0KGgoAAAANSUhEUgAAAJAAAAAWCAMAAAAYceVPAAAAOVBMVEX///8oKCgUFBQNDQ0QEBCI\n",
       "iIhmZma6urrMzMxUVFQiIiJERETc3Nzu7u6qqqp2dnaYmJgyMjIAAAArQGDrAAAAAXRSTlMAQObY\n",
       "ZgAAAX5JREFUSMfNltlywyAMRdXWbGYR8P8fW5QQbDCkeDKpo4eE8dyLD0jCAHxahDLy/koO6fIA\n",
       "XUGzVwI5lgdGt4OLgcrGbFt1MZBHS2FW+BAgiJpixY8BUpJ+tfnbJF59q50CEpykYWK+V8ueyykg\n",
       "oOph/v1ARs2lDNDfod4NpO0kkAkgMzwyLpnKOysYPV1tF6hSluzXjlojsD/rESgVtLrXK7OgAqy5\n",
       "eBGiBbl0d6golX6Ebx2N5qen6QM5njOWFhNKMRkr0mOmu0CVcuCoNcwNZu0AQdydSrv252mTFRvV\n",
       "UOwcFK1j01g90vCVYlluf7l0fMmojLeV5fZLuVvkACgrVXiEPzp2mu+vgeZpX0bAQFlOX1pCXCWI\n",
       "2O2yTVnHw0H+SrNr+XbWZwep8gIZJha5UMaFYjp0gTZl02bZQf5Ks2v5dtbZb0t6ayoA7c+cQztH\n",
       "fXdw2NOc4kk2hSDCqYNxczgzuJceZ50LWoLwiOdO6s1Rb4F3Pc3rwf/hGvILp1gTOyLpDm4AAAAA\n",
       "SUVORK5CYII=\n",
       "\" style=\"display:inline;vertical-align:middle;\" /></a><br>"
      ],
      "text/plain": [
       "notEqualsContradiction: forall_{x, y | x = y, x != y} FALSE"
      ]
     },
     "execution_count": 14,
     "metadata": {},
     "output_type": "execute_result"
    }
   ],
   "source": [
    "notEqualsContradiction = Forall((x, y), FALSE, conditions=[Equals(x, y), NotEquals(x, y)]) "
   ]
  },
  {
   "cell_type": "code",
   "execution_count": 15,
   "metadata": {},
   "outputs": [
    {
     "data": {
      "text/html": [
       "<strong id=\"sub_in_left_operands\"><a class=\"ProveItLink\" href=\"_proofs_/sub_in_left_operands.ipynb\">sub_in_left_operands</a>:</strong> <a class=\"ProveItLink\" href=\"__pv_it/db42700c97f007de966cf9de6aa56810f99ba0520/expr.ipynb\"><img src=\"data:image/png;base64,iVBORw0KGgoAAAANSUhEUgAAAm4AAAAZBAMAAAB6Pr9wAAAAMFBMVEX///8QEBCIiIhmZma6urrM\n",
       "zMxUVFQiIiJERETc3Nzu7u6qqqp2dnaYmJgyMjIAAAAcRTyBAAAAAXRSTlMAQObYZgAABe9JREFU\n",
       "WMPtWV1oHFUUPtmd2b/ZSfrSh7YvsYE2pIkJIqi0gW2FJII1mwjSh2CWYKotURaNjYZaF4W6jWgW\n",
       "lTYEqmOVSOPfUo3aYmBNFKFN60iKoiSw4JM+2KWp1aales6d353Jzs3W9CXkws7cufOde+5895xz\n",
       "z70L4FUeH8jAWnEVYeCgNyC5xtHS5egab3C8PPhpjbc83eZL8lZJN1ldhXT99O/hvb8pAJFUeXKB\n",
       "DOPtHNX/KMlbNIu3SmU12tlNgNBG/LgyQ3gkz3gbwWs4VZI39mpkNdIm3gCQLgPMlis4xXgjW2JG\n",
       "VSK+kSmeW428+a7gD7l7vlzBdxlv8tnx8WMe68Lc+PjJVbk8hAoYq65AuOyPq4yx9fSfdPqgB29V\n",
       "6fQrudXIWxXGqXeawNeEIWvzvl1TnuATW96qr9br0SbGWy/AEQ/eAnEI3cbkl9N1XLuFebHKVg8v\n",
       "E9qdAwkNJoS5wkfwc/Uhz7UgJz8dzOsPcp7xdr+2QpTiTWiCT7DWdnX68MqsqjEt5R7uu3c/zh0H\n",
       "/Ll24xm8FLPquWVCG/tm7sIvCmJsPws/KA8A7CkpFFWii4IxxVKS8RYEnz09E5/5Fu5I2PLeJDQQ\n",
       "yesgujJhTl+7fwT4HmAfB+zPmCmTZ7mvOL1aDnRYM4MK5FGBNNYevqe0vUHISjnEAuMtqgbNpg+n\n",
       "m+GrqOJXbLydZ9dAAnyFleRtL844iDxDirAZ7OJ2OmbWupYL/RtM3gAu06XVKxpWO3kL5x8xWuRX\n",
       "RxWYrG6K2vdZb4s09qBqp3wFeHsBcJIDcR76d7r08tc408p6lwkVF7RH8lMQ/+Lx1m2NVND8FI48\n",
       "how1d9ZQqMMyMfFGEW+hozQjn2ZgK2V6NZ3ugdkbdyVg0HV8sAWCioO3yDXwDWKM4Ak06MPgKLZC\n",
       "TdKhzjUuHUrpG0tH8PEMulKdF2+S0gg+RSPJWBfgMxyWvFOtyGh71Ynox1123iTm9u1TMzQxdYF8\n",
       "PwQco2KNRlReFNfBfsfnVSkdTnsTbtRjNn2MK/AFrZBJrmIpAU+ksaiIZdJOKFNjQJnZLZpZhXA9\n",
       "VAirjLfITbKRvF4xn9qzw7j910gCf07jjVx3dCtUKZEmxhvkpovOQ5jvX9DzgkoVxG8cY6JGIwl4\n",
       "P+lLdW0sfj/aCrVO3qJsjtq4Am3EcYqrWEhZFZJ2QpkaO9R/6Wq14XWRnrqaed1PB2iJJWYPgH4J\n",
       "op2ObT7RrGokIeNxjTeZVPTAThCfS6dfQt6OB4t4+5UuLxvxEQl3eUGVtYb5c4Fql+PtwO4dvIXY\n",
       "HLVwBR6lT0twFYtGKkVYknZCmZpiqF6sfVYr80iXk54xa0QSwAf287f1sEOEhGZvQqf7/O26ER8x\n",
       "FXUNHxvl7fNsbQzGKuIuGvphvfHe4K2KbYn3cAVa6EtTXMVI11N/YlEJi9IuKKmZnZwzZsFWZot4\n",
       "WyKhtNZ8RpK+r9ftuAD9E/AdVS/intTFm3iNQEPhwgXsBscUHoIRRb+wRqmWDk+GIBhvB6LBAowo\n",
       "8KxQYO9tvHUzS8Gp4wjMYUMEe/ZWDLLxcYglacabBdTGdSpFjiQ7ch9rN/QlbajcqZCZgWgk6edI\n",
       "pnnXY6aBRiAcikHAxdudC9i7uCny5IP1Co1J3AQdGXEDXfTGXpxpbBV6Xmc0WICOLLTU5tl7izff\n",
       "JZZ+Yk8cgbsBHweBoxj85oYBuyJp4q0jqwE36OMKxGlH4I85eDFC45svYnBwn9DK1jKvkZRxn5PX\n",
       "YnzzOCeXdJtXzKrVmPRdpPpJeI2N3QbIRjK42LP3tvxNSwayPAGc3CxsA57iSrN1GzBp5qdZC0pq\n",
       "gtAQs0Nv7Zz8F4By/184rfls43ajajVGEtJ5qvcJeehcyNoAUiaQe0h/7+QNH7wFJBUfIQQ8xZOW\n",
       "2wFJM6iUsaCkZgy+Vu3Q/1HK401dqqoWAXbPOJtlEOZy7v2CVnZzBN5jfiLwFGsZlOZMqiktLzUu\n",
       "G/T28TZwG/4/LRq3xOm/zm5aHme3itMplgW91SIMHPgPUyT/xJqnoVAAAAAASUVORK5CYII=\n",
       "\" style=\"display:inline;vertical-align:middle;\" /></a><br>"
      ],
      "text/plain": [
       "sub_in_left_operands: forall_{n in Naturals} [forall_{P, x_{1}, ..x_{_a}.., x_{n}, y_{1}, ..y_{_a}.., y_{n} | P(y_{1}, ..y_{_a}.., y_{n}), (x_{1}, ..x_{_a}.., x_{n}) = (y_{1}, ..y_{_a}.., y_{n})} P(x_{1}, ..x_{_a}.., x_{n})]"
      ]
     },
     "execution_count": 15,
     "metadata": {},
     "output_type": "execute_result"
    }
   ],
   "source": [
    "sub_in_left_operands = Forall(n, Forall((P, x_1_to_n, y_1_to_n), P__x_1_to_n, \n",
    "                                        conditions=[P__y_1_to_n, Equals([x_1_to_n], [y_1_to_n])]),\n",
    "                              domain=Naturals)"
   ]
  },
  {
   "cell_type": "code",
   "execution_count": 16,
   "metadata": {},
   "outputs": [
    {
     "data": {
      "text/html": [
       "<strong id=\"sub_in_right_operands\"><a class=\"ProveItLink\" href=\"_proofs_/sub_in_right_operands.ipynb\">sub_in_right_operands</a>:</strong> <a class=\"ProveItLink\" href=\"__pv_it/9c0e499e949da0b92002377d538996282137ea940/expr.ipynb\"><img src=\"data:image/png;base64,iVBORw0KGgoAAAANSUhEUgAAAm0AAAAZBAMAAACRCQRzAAAAMFBMVEX///8QEBCIiIhmZma6urrM\n",
       "zMxUVFQiIiJERETc3Nzu7u6qqqp2dnaYmJgyMjIAAAAcRTyBAAAAAXRSTlMAQObYZgAABcBJREFU\n",
       "WMPtWV9oW1UY/zW5N39ukmYIPtQiZBZmKS0rovhn3UgnpAOdphWkD8OGYgeT2QWs1g3/xD5INpkL\n",
       "+rBRGLtM2XCiC2qdE4t360SYm0Ra3zrJgz4ozBUGspY5Pf9ucnJvcnNDu4dAP8jNyff9zne+/HLO\n",
       "+b5zAjiJb3I/1sUmA5OGM8C/zlFVCabWeQOONwIO5ThvRfrhWm3eHO1NLZF9t3aPPwFomYa67eG8\n",
       "/UTbf9XmzdHe3BIlc+IdHa25hnp9znk7Rt8ytXlztDe3jJDd/fsY5hvrFY4x3lp10szX5s3R3tyy\n",
       "OU5eBhosGbQNjLfI5TNnjjrkBUd7c8sR8toXD6Yb7PY7z6e3stk3nPKpk7255Q4h4CY8vcDJhxC8\n",
       "zwkqA+Y4b2PAQSfenOyrl3p7suoSl3Tv04Sqt4FzBgIFwOiHZ8mpjwz4jfP2JLSiE2/crhzZ+9hL\n",
       "a8KUwp/cX7huuRTnm3E93FfSxu0S6vnnylwX+Y55BPPbEMhguHadywFcznHe/PAU5B/4lUvYmJJ4\n",
       "E/ZfgB/XhLcAf+P+9tSFP14qmhzFm6sosNxAAyvsrSUODfcgGnvu0dq5gAHMNMx5CxfKp4JP57bi\n",
       "m7Du1SXehH03yT1ryRvzpxp14afYj1kXp5VOPnWxJjSaNnmDsoKRJAYcFgkDVPAWLD5fqqDfm9Yx\n",
       "G+sNy+tU2N8EsmvJG/PnS9aFs6rUBe7P0l1E0iV0pJd/R1JkeYvYCCfeOECc6sX59OCLhLGtQx10\n",
       "KyMyM/NBBW/MDm0ZngNk8nUMjdkrQUmpbIJftwK2p3DAwhv356/hERcf2SS+PtskXOB6pJgrxrMH\n",
       "1lMu32g8ZIBACu868sYA878+0FvOC/iSzNdIf6Elx8+iM+HPdlXwRu1QbnfTE1eXrzgBn4UYpjQ5\n",
       "jOqDNoCxom6w8Mb9Ha3h0aOP++MiMdAQXeC+hi9L5DDFsvEsWYwFZkKZ3ODOwoQLb0r5l/N2lnCg\n",
       "3RGN8icGWLgfbaTdJ3ijG970g4jqGpu4MzDmKnhjG2KY59xkawHqBUv0VGnK9AA6rYDgx2lPxsIb\n",
       "97ejhkcV10vzJOMOt6PcYOPtstRjNLAK6Lb/RvkAZFpoox3LnDc/naiv0UbKfEzqHBA8mQZNJX8I\n",
       "3iI0mFH0Q309m50ivB33V/DG7IFesZmS7ca2EKNSxdRHXFkBXsMXs/DG/SVqecRyiZqiO9wLZiMh\n",
       "xrOuVBqYBcplv9jA+Dr91l4K6QLgiylk2Whp+f7tXvSpSPH5pgzZ79+ieTOZJO3RE2VkyzWexyaI\n",
       "KyvAH29Jzs8uyrxxf8O1PKpLKngPJeUOl4DvbyLXKZaOZ+ONBCaCTFQayLl+HGfjgjd7Nqa7PQO0\n",
       "JL1G0jzXi6W0hIkZ/ECbC8CinbcR8msHDwWXfiaOafTH9OAh9hDKUCfSVItXlSUKEFb+8CefxRcZ\n",
       "v8zbCJuip1HFI3mcCBfDokfEIBoXuFLMp8HGo7zJUBoYD7IMFQHlSHKf4gUttJj9jMWyPwGcgP+p\n",
       "pHmPJHaRFLoLCJBJoLwVh8/Gm+cGqT/Vdu3lp7t1Fv1gXm3DYE5tM5VjaoZqkegsUoDazqz00Q5l\n",
       "9H1SHgxLvDF/dN1V8UhapxYuXhY9vHHiwAXu4VLMOhuP8iZDWWAsyDJU1HMZbO8gWfnDt8lCjthz\n",
       "Kd28GSABz1V+6LTek3dmp5zuyUOlyIC8RZn2LFCtliN5nQJCUq9PcJi46onL9Rv/OfLVPIoW79FK\n",
       "HbjAFSWfdDy2TiUoC4wHWVzNPXkkh4b/XzjP95TNW8Q1u6TUUqGrVOsznuGA81KvvUqR1P3fFWy8\n",
       "IVPNo2jxHrPMVV1cqCD5pOMN3cxXQGlgIsjCqmv3BnmTBoxUUxKtsmhY1QXsvGI/L3DZWc2jvFZo\n",
       "bVRwgftI9mmOF6kWmAy9a7zdhf9PvRUrv979kEd3h+ty77Nr1V9hYDL1P3SF5zsF5X2QAAAAAElF\n",
       "TkSuQmCC\n",
       "\" style=\"display:inline;vertical-align:middle;\" /></a><br>"
      ],
      "text/plain": [
       "sub_in_right_operands: forall_{n in Naturals} [forall_{P, x_{1}, ..x_{_a}.., x_{n}, y_{1}, ..y_{_a}.., y_{n} | P(x_{1}, ..x_{_a}.., x_{n}), (x_{1}, ..x_{_a}.., x_{n}) = (y_{1}, ..y_{_a}.., y_{n})} P(y_{1}, ..y_{_a}.., y_{n})]"
      ]
     },
     "execution_count": 16,
     "metadata": {},
     "output_type": "execute_result"
    }
   ],
   "source": [
    "sub_in_right_operands = Forall(n, Forall((P, x_1_to_n, y_1_to_n), P__y_1_to_n, \n",
    "                                         conditions=[P__x_1_to_n, Equals([x_1_to_n], [y_1_to_n])]),\n",
    "                               domain=Naturals)"
   ]
  },
  {
   "cell_type": "code",
   "execution_count": 17,
   "metadata": {},
   "outputs": [
    {
     "data": {
      "text/html": [
       "<strong id=\"multi_substitution\"><a class=\"ProveItLink\" href=\"_proofs_/multi_substitution.ipynb\">multi_substitution</a>:</strong> <a class=\"ProveItLink\" href=\"__pv_it/b70cb95f7322b109d1d1acf9caeb748bef1195190/expr.ipynb\"><img src=\"data:image/png;base64,iVBORw0KGgoAAAANSUhEUgAAApcAAAAZBAMAAACWZxgjAAAAMFBMVEX///8QEBCIiIhmZma6urrM\n",
       "zMxUVFQiIiJERETc3Nzu7u6qqqp2dnaYmJgyMjIAAAAcRTyBAAAAAXRSTlMAQObYZgAABltJREFU\n",
       "aN7tWX1oFEcUf7nc3ub2dhORSlEpnDmwoSimhiKiKacFA/1yk4L4h+ARGmjFSqjWqP0K/iGJxXq0\n",
       "hQZB3KZiraX2qKQfUnFrWixa5WhsaSGWg35AC5bQL2pKS+fNm9vb3dn72HJwtvhgJm8nv31789t5\n",
       "782bBagusaHdcFOqSc+QXQtMvclULRLP/OfJjOdlrTZ5v+x/Docxk8hSQzILOHC1Gpk1oBokx7HT\n",
       "lq8UWgiJZQMGX01lQRsOZedR0RiZF/H6x2pk1oBqkPzAebn4p9BCiFYIGNx6Nget2VB2TorGyBzD\n",
       "P8PVyKwB1RgxOrF/69600MLIuQCCfz0KMBXOjJ6kxshstZiaq0ZmDajGiMpX0VlHCyOvBATAGdaF\n",
       "3Ltoc6gxMo0LJ068XDUB1YBqjNCPOu9oYaQ1La+yQUbKYEg731LDbP7HyMhT1bN5dVRjJIXd1K1d\n",
       "pI0vfmlJsiLejdClwGDcub0TImx4fDnEF1S04wJMUkMyBwBGA9C2l8wyqIbLAd7/TJpmG4+rhYou\n",
       "6UYYXLn8E8o3NNTGiG5hWyx7DURmKhlyA76mhmTeE5zWOr1kFlGr83XhIF0vMp/kO8zfSNMtfTaa\n",
       "BaV8phQIESBlfz5isunmIJ67G1qGYWP53S0BSN6lhmSqEHETpGz/CBZlJDIFSm+368JB3TYGtzhp\n",
       "g2kan6DSVT7oaSUKGFBee5jJmtIMNpct0odWVLAzl69iLpupIZl6vlThvDHZDe/pVrMlkSlQrXVa\n",
       "UvUlE9MGaXyC0UoZpC1ZiczzRCZEZ2GzCT3lzRBAIjNe2ODE3+cOWXAm2anDZNf2rpybTIFqs24w\n",
       "Mrmbt2SKGp9gRTIdCoo4ipnf09A+4G4OzQVYBJXIJIA44qDGa/PRhxmN3X0pDIxMJiZe0OWYyVFg\n",
       "HOzGhZDqG5CjkWswuhhUifW1GdjjI/PcXYvNcghnZ+3F+E3zBNSUJC1hLYOIVYlMQtBsRQLyyFyg\n",
       "BMRez76KZHLA1Oftnd4EBKfYs401+aYsVeAT+pubAsg8xX/hl9jdESvsgJiPLT5YJLbN6pUA9qwy\n",
       "x0tmxNqmpmELqwZHmBwgxBbvXYRBeQRBeW7aJZO8AEqTtj53EA8pkEztbxwvuBTeEYJmC822XACJ\n",
       "HVNzJvoXkemxUTLGAVdug/mYlKlxMjGKHLqdebDGCZwAezKATIo1XdiZrXlQPvRxhYNFOdQDHX5A\n",
       "/OhgZNhLpgLXADYt8CA2+XZ3HOMSNO05RcRuvdCOtY9354X7DrHHqzi9nSAUdU8RwWfLEoApRcIZ\n",
       "4f1af+o6Gce7SjZ2FkcQEB8fhFmmf0eNk2ngrPthDSi7Rkb2MjIPqwFkcpTY1rWx1yr5cZurnFvN\n",
       "7PkBzXYs6Y+Z7Ae7PJsjJEe/7r1E0/5y8hPwlJOczIQc3U87Gs4W4DU5VvHftVsERXpTp8vYYYBY\n",
       "Moql5CC10nnmPFitQIZWZrQPV1rgeeY8kb5MmUw2aKy6Sp6zgwH9ADXdZE6dmXaTqcwonMwYpoBr\n",
       "HCGRiRh+2zYE5dG08xg66EhkrpWOPBwy9Up1CJ+tfNDxDnnXFHsYDx09vurFZYcDmsxm23QfdAgX\n",
       "m4EdE/AxqlcApssdDmuzEN8fn7nM7DGu4vthzBIdH0x0AJvHmAVPMH/xAUA118Pbw6qLzCN6QXev\n",
       "TETgZemeMYtjnNuYMNP0GCGjoO4vCM29GR+X94aOY9Bs5Vpl10lKLll4GvaK3biWDLTDAUdAvc90\n",
       "H8GJl5mBJXloYZuC6DNpiJUjk71zZaH22P1LLORKWQi9WWU+dmJwAIuP3hys6yj4ARDtfx5i5kYX\n",
       "mceunLvgJhMReNmbo3tYl+MY5zYmaHrAVeMcByOVLR0T46RW/M6mK1dqRulBNFvpmOmzlcTWMKxN\n",
       "Mc988dl+910eOxywDiKX6CWOgvzZomNkb5mDjtLpYUIMWo4KjjYYYesaclqWbS/8gNdZwFVhadq/\n",
       "zyyRiQh+WTrry4kfsLRYLHDT9BhB3b/+bPFV2f+E+mxhZKmF/QbU+oVZ/HSiLFvl/opCmpZJXMIP\n",
       "IjH7QRmwNVqAY/BB3kdm3y8OdYjAy4SzZITm3MbCKzNNj7nhJCSZejt4/CcfoKEbRKdtGfDAp9Uq\n",
       "oCLCCPBMx0OnbbhBpUYy6//dvBP+d9IzlPkH+b8AzMA3qx0AAAAASUVORK5CYII=\n",
       "\" style=\"display:inline;vertical-align:middle;\" /></a><br>"
      ],
      "text/plain": [
       "multi_substitution: forall_{n in NaturalsPos} [forall_{f, x_{1}, ..x_{_a}.., x_{n}, y_{1}, ..y_{_a}.., y_{n} | x_{1} = y_{1}, ..x_{a} = y_{a}.., x_{n} = y_{n}} (f(x_{1}, ..x_{_a}.., x_{n}) = f(y_{1}, ..y_{_a}.., y_{n}))]"
      ]
     },
     "execution_count": 17,
     "metadata": {},
     "output_type": "execute_result"
    }
   ],
   "source": [
    "multi_substitution = Forall(n, Forall((f, x_1_to_n, y_1_to_n),\n",
    "                                     Equals(f__x_1_to_n, f__y_1_to_n),\n",
    "                                      conditions=[elementwise_equality]),\n",
    "                            domain=NaturalsPos)"
   ]
  },
  {
   "cell_type": "code",
   "execution_count": 18,
   "metadata": {},
   "outputs": [
    {
     "data": {
      "text/html": [
       "<strong id=\"mult_sub_left_into\"><a class=\"ProveItLink\" href=\"_proofs_/mult_sub_left_into.ipynb\">mult_sub_left_into</a>:</strong> <a class=\"ProveItLink\" href=\"__pv_it/707e7af14c1f4de03a0dafec453128e7c5b7f0330/expr.ipynb\"><img src=\"data:image/png;base64,iVBORw0KGgoAAAANSUhEUgAAAkkAAAAZBAMAAADXv6fZAAAAMFBMVEX///8QEBCIiIhmZma6urrM\n",
       "zMxUVFQiIiJERETc3Nzu7u6qqqp2dnaYmJgyMjIAAAAcRTyBAAAAAXRSTlMAQObYZgAABYtJREFU\n",
       "WMPtmVtoHFUYgP9sZnb2MpPkQR9qEdYE0hCjCYh4aSLbCo3iJZs8iA+BDMEUKzVdNBpNtUQF2So1\n",
       "iwiGQOkQJGi9dFFCTTE4JooQ0zrSiC+J7IM+KMQuBkOTlup/zpn77M6wdoss9YfNufz/P2fON+f8\n",
       "5xIAPwmPvgjXvXSPqv4Gwv+MUKLy9UYpqpVlHs8ySnlSWCtNyVdfNSIdurh/+F7MvF+m4wFG6TuS\n",
       "/700JV999Ug9fu1XFIDfyvT7hFGaJMl4aUq++uqRAYzAXyZA6ijTT0xQSnUIWMyVpuSrrx5pT+JP\n",
       "BSFbpl+sgVKSlk6efNcnevvqq0cm8HcoCeX35Be2xl3MZF7yW+P89NUjV7CzGwBNmJ1ufqct4Tt+\n",
       "Gg/sXTAKi4zSEMBRP0p++gqszP5qvkLN8JcBTmNoOoYMVOkZIe9n/BH8lDhiFH5mlO6HWN6PEtNz\n",
       "EwfvfqoiL8yx5IHNxdcx5AVsa+PJylAKbS4vtmJ6GIOsIm5zWeBLr0hL8L3yoFE4zSgJELLvtPhn\n",
       "v4ZbZBslXf8DwLcVeeGIvoNpADEN4aBoek9lKEW2WXoDjiWIICD+jnRJYwUytsWRURI1a4f94WIX\n",
       "fC4qtYqNkq7fj2tEJSmFZQgVoD/IeqZC26W0SQkLJCpxaR/zPz2UovnHzB3qm1MKzCc6RPuM0/Uv\n",
       "g53w1VMSNPJNh4Ks67IVaXRA3ycdpoVUACX+L9tZVz/HHX0C+XT1NZEQhDI7+7aDEtVDbAtCY5gu\n",
       "3Nmc8jzVVsk1g6C49XtlGHNTOpWFXQqkgxzobBeb+uw4i7q4bJxt0u0SEYzecaUdQoofpTM4yFvh\n",
       "/I+NHVb0hs/QXtqj1WTZmW1W/LjfQYnogbvcRs4qIWVYSIIrjLNK/WXrlV4Iu/qgbvMNbko9C8s5\n",
       "iKaDHOLkDVvD+RFq82QGRSvqQm3oVCY2x5xtwgXFXNd7chNwnI2lU9jh2BVgGbPEXYoU8FC8cjPs\n",
       "wNpOnRKZplO7oF6J0WE5C+qigxKdxmJeX5nXAfpvci/X62Z+qhta+K+cPYi+lw6Nuymdo6NiPMiB\n",
       "I2mqTgObTTEXalOyzfv+HjTnz0zjdJfGKAlktD1P+ikbf0YViA22Nq1BdDoNJOT/qlOSSHuDsAf4\n",
       "FzKZV5HSccFBieojxgFoC39j7jG6ZWU78VHu+VCrhhNuSq9RBnKQA0+/Tj1GJ5tNMRdqU6pNa2tj\n",
       "GtEZd8a79TAfG05wOBhjafv90o3QyYPMxhLX571fqtePcnyB91IilefnV2l+BB/l7oGQrEkZeoPS\n",
       "Jeo4HuTAyWyhSVGb4T9QtKIuxEbavaZCmNisO9u0blA6HJS8uzUzJENNqlZNGaddfYAWYGQWviHZ\n",
       "FYBVL6UB8hEmlRNiXqSUJpXoG8YfWvnpOLlAUOA5rkB7YBpgIqR6mN6ixNPhR76Uv4OkYkXhHPbH\n",
       "hkV3sd5At4m3gBmTHW1aYh4j4mgZ8462aTN3AoSHUsbNiU5WhjZcmnHAcEeSEPZQCl0g27ve3MzK\n",
       "whKl1Jvjd0BvlvxhleHU46QW9rXkaYdMA34ncINvMb1F6fYNOvbxSf4OtUl+Z+zph9sUOyXdBQ3Z\n",
       "G2QNmyFrR+1o0xLjFi5612YCJO+UtILbPgidZVTdN7otGJf8bnT1aTdmZc2cALfhOpeLZSMa65Bp\n",
       "EIcPcAVmemvGMbkVAhzqSJE1YFIyXeJWOGFJOrRi1Dja/Nc3ulK2/HvvOIt9fRs5I2tVzsAXGubD\n",
       "6qPAt+8Gm8EcHOTyTO+hFIEAh3lSpFOU2Ohx1XCZA8uF4pPjZ40aR5tXeSIvj5JULCs5DLhV1V2t\n",
       "wSPL3r23Pi80fweyOfF01HTRikwUQxxtXmNK1+D/cbWO0lzAWV7576+mukflfwDaD85EHS2N4AAA\n",
       "AABJRU5ErkJggg==\n",
       "\" style=\"display:inline;vertical-align:middle;\" /></a><br>"
      ],
      "text/plain": [
       "mult_sub_left_into: forall_{n in Naturals} [forall_{P, x_{1}, ..x_{_a}.., x_{n}, y_{1}, ..y_{_a}.., y_{n} | P(y_{1}, ..y_{_a}.., y_{n}), x_{1} = y_{1}, ..x_{a} = y_{a}.., x_{n} = y_{n}} P(x_{1}, ..x_{_a}.., x_{n})]"
      ]
     },
     "execution_count": 18,
     "metadata": {},
     "output_type": "execute_result"
    }
   ],
   "source": [
    "mult_sub_left_into = Forall(n, Forall((P, x_1_to_n, y_1_to_n), P__x_1_to_n, \n",
    "                                      conditions=[P__y_1_to_n, elementwise_equality]),\n",
    "                            domain=Naturals)"
   ]
  },
  {
   "cell_type": "code",
   "execution_count": 19,
   "metadata": {},
   "outputs": [
    {
     "data": {
      "text/html": [
       "<strong id=\"mult_sub_right_into\"><a class=\"ProveItLink\" href=\"_proofs_/mult_sub_right_into.ipynb\">mult_sub_right_into</a>:</strong> <a class=\"ProveItLink\" href=\"__pv_it/bfa13b6d9a819884f82653a6e645364c9480d0050/expr.ipynb\"><img src=\"data:image/png;base64,iVBORw0KGgoAAAANSUhEUgAAAkgAAAAZBAMAAAA4fcznAAAAMFBMVEX///8QEBCIiIhmZma6urrM\n",
       "zMxUVFQiIiJERETc3Nzu7u6qqqp2dnaYmJgyMjIAAAAcRTyBAAAAAXRSTlMAQObYZgAABWdJREFU\n",
       "WMPtWW1oW1UYfprcm+80IvijLUJnYZbSsSCKH/sgndANdJpWkP4oNhQ7cMwuYF1dmRr7Q7LJXFBw\n",
       "ozB2rbLhRBbUOisO79qJMDeJtP4QOshfhbnAQNYyp+fj3ptzP0NmhoT5Qm/Oe97nfW7uk3POe+4p\n",
       "4GWByf24202aPOANCOJ/Az6460Q6Xhd6notUph9X3EXyjDePxffe2DX+BBDJ1ZUWKDCRfqTt391F\n",
       "8ow3kSXIr/2WgtZCXVmRMhPpGLmGc+4iecabyEZU4LtOLNWZtsBEalWAWNFdJM94E9nGFPlTUW+1\n",
       "/pCJFL94+vRRj4XbM95EdoT87U2Fs3WmtaZYdbuRzx/wqm5e8SayW2TVuA5fEph9COF2L6gIiCWZ\n",
       "SGPAQS+RvOL/3mqto+kG3Ue+CZxVESoBah98FS+sCIiXmUhP8iXcVSQel47seWx3Y3aw/Mr5YrXQ\n",
       "XzZIJN+flxZ7yAMVES5uRSiHIVeoBuAWzTKRgvCVRMlfuYB1GUEkLf4z8ENDvm6If3C+l2qh/YXG\n",
       "iBRaYx8tKURwLxKdzz3qXvYZQJejwkSKlar76k8Xt+DrmOJXBJG0+C5SHBopEuOT1ZoblUyDtklZ\n",
       "XSRIaxhJY7vHWGcAk0jh8vPGtvSdGQXnOpMxcbpp8deBfCNFYnyB2kvObw3aJiX5A5HNjL+MdfAS\n",
       "iQM0wfh0w8EXiTxbBrvo8kNsbu49k0gsjsgqfFNkWHUNjtlIxU5pPYKKFbAtgymLSJwv6MKIhUfW\n",
       "a/ptMLt2PnuKE4huk+jNycoRyuBtT5EYYOmXB5LVhRtfELHifaWWAn9Pm4t9NmwSicYh3eylLyg9\n",
       "gfIEAhYVWKcuWEIZsAHUNfkei0ic76gLo08ZD/KnwleGS9b5QJ7YYc632y1FBBl2TTEquj8j/cVF\n",
       "OkMeOHJLa1Q9Bli+H220rXKR6CI18yASSoQNyTmoiyaR2CIW4xUw3VqCfN7ySLRTt5nt6LYCwh9n\n",
       "fTmLSJxvhwujjKt6c4fuDreb+IbbXVMcbrr171Fj9kRGu1a5SEE61PbRRka/TCocEJ7Ngq71rWku\n",
       "Upx+w1H0QX4tn58mIh0PmkRi8VBSWwBJtbHNp4RQgjYTKivArwY6LSJxvn43RqzqjRcMd8rMN+Wa\n",
       "4nBTw/Zriw6fbt/Y4lFFAwQ6JToQT4nnSfdhs4wMH0nSoP08KaG9vo2Q7Z3tkUhnfNMVXqkmCJUV\n",
       "EEy1pJfOrYgicb4hN0a5IoNn9OsuVSXwB7GrjM8mkpEigIybGkZecMdxJqWJZC+udDlmgJa0X03r\n",
       "L7ja4KxgYg7f0+YysGIXaYT83uFD4cpPhJg+0jElfIhdtM5oN7K0F69KFQrQovwSTD+Lz3NBUaQR\n",
       "NvhOwYGRXE7EyjEtY0V3BVUoH3WrCaaUKkj0tbsXSF2dJo2ztHrYh9osK7wEcALBp9L6UYlWlDLo\n",
       "LSFEfl7pjRQCNpF81x4nv1VH5OWnexX2SANFuQ0DBblN7xyTc7QX/d1lCpA7WJReOiCNvkuq/ZAg\n",
       "EuOj08yBkbROLi9c1DIe1l1BJMpH3epNTClVkOhr+64ctnWREfL+m2SRitunI11dGaAfvstMU9vx\n",
       "bXd+2uv4Nqr10slRtHRmfcu0N1IgVZYCokLWJzhMqDakxH0S177oxKi1eEbZCFRFonzMjTqmVEGi\n",
       "f1vHt7/Wf8Y9zyf/xk3k6xXMnZFM9DLtDajPcMC8kLVHKuMkvi3ZRELOiVFrsYxoSXcHrxsqUj7m\n",
       "zjulCCDRv32rTyThhnGnTtIrrajW7hJ2XrLvuLntdGIUZ8FHTpPC4Cs5pVhBd1ykO/B/N79pAtd6\n",
       "f+35zw+ipMl9/wBHTc/skulJagAAAABJRU5ErkJggg==\n",
       "\" style=\"display:inline;vertical-align:middle;\" /></a><br>"
      ],
      "text/plain": [
       "mult_sub_right_into: forall_{n in Naturals} [forall_{P, x_{1}, ..x_{_a}.., x_{n}, y_{1}, ..y_{_a}.., y_{n} | P(x_{1}, ..x_{_a}.., x_{n}), x_{1} = y_{1}, ..x_{a} = y_{a}.., x_{n} = y_{n}} P(y_{1}, ..y_{_a}.., y_{n})]"
      ]
     },
     "execution_count": 19,
     "metadata": {},
     "output_type": "execute_result"
    }
   ],
   "source": [
    "mult_sub_right_into = Forall(n, Forall((P, x_1_to_n, y_1_to_n), P__y_1_to_n, \n",
    "                                       conditions=[P__x_1_to_n, elementwise_equality]),\n",
    "                             domain=Naturals)"
   ]
  },
  {
   "cell_type": "code",
   "execution_count": null,
   "metadata": {},
   "outputs": [],
   "source": []
  },
  {
   "cell_type": "code",
   "execution_count": 20,
   "metadata": {},
   "outputs": [
    {
     "data": {
      "text/html": [
       "<strong id=\"unaryEvaluation\"><a class=\"ProveItLink\" href=\"_proofs_/unaryEvaluation.ipynb\">unaryEvaluation</a>:</strong> <a class=\"ProveItLink\" href=\"__pv_it/25f257359ce78d5ed552557910e5e2ad867367420/expr.ipynb\"><img src=\"data:image/png;base64,iVBORw0KGgoAAAANSUhEUgAAAaMAAAAVBAMAAAAZX5wbAAAAMFBMVEX///8QEBCIiIhmZma6urrM\n",
       "zMxUVFQiIiJERETc3Nzu7u6qqqp2dnaYmJgyMjIAAAAcRTyBAAAAAXRSTlMAQObYZgAABFlJREFU\n",
       "WMPVV09olEcUf8lms7tfdjceImpDYcnWHqJCiGgV1G5bqLSUuvXQejOIOYhVchBFDDbHJKB+IBgv\n",
       "wgYPK6E0Cz2U9NCGeNBqtUsLag7Kin9ARVmsghoFZ+a9+Wa+2ZnsLnjxwW/n2/e933vz931vABqS\n",
       "RBnhkhmr9gxB+XDbdviuuJozN31GQ4UrbtYb0jmCS9ptHfJGEOy3f6PiW20B9rjiIhsdOelcK3GZ\n",
       "Kx7WG9IDgku8ikWZ9hEs0OUFxbfaAvziiovstL8onWslTvPlHakzolQfwi1zFt1/BIDpr3Maf87q\n",
       "IZmxx0U2OXLT5xTSBeatVGdIMR/hlkn1GJeGhwkAf4LOn7Qv9BL1PKbFRTY5ctMnFVKXpqYm6u27\n",
       "CYJb0rngMUprnhhCMLkQ4mu2utxVjzu0uMgmR24610q8GB0drjekLMHr2fO5ue6JTf0fsIXuC284\n",
       "Jq19CKZYthb5tba06XpWApw3NxxykM0dUfRa+lxPXmglBmmdNy2So48RfobrmaO8C0+ECN+f+ekq\n",
       "64Q4tJ8c4vITxoyXEUyeEl+3vSpc3BGzcgSOA9zijxHh4dD/Ki6yuSOKLuh6DyZK8YrQSnyBOSTZ\n",
       "M+se0hHCJfin8JVxBD6ECNtpHUOa7g9xNmMlBOvyc+TbbIXlLOwF+E3/Sj0K4iKbO6LoNfRhaC8J\n",
       "rUQMWsvuDY7SRSjAqPkq8gpiLFdFq/owb3NnLTkEC1NFvs2Wy6cF/rszlNK7ZFxkc0cU3aQzr6SV\n",
       "SJZjXNVZaGBIuAlC0jIC03kjzqm/IDSk5BDybbZcloM5pMSPfjAkwUZHT21Dahkxh5SofM8P5InN\n",
       "nJ3dPig+1/vzeOyMjQfR53iccScP8I/GrEiybWI3bEE9flTVxosPID9ki2fpPg/3WthvFVOOHp74\n",
       "auMJtnCE0QU93APSSsDYbq66wX962ysHWFPM7+RrFst9Z6SH31ur0Bueo+kS7Gf1WUr7pn8LRnpo\n",
       "ySDfYivkDdtdlB5Q2ipaehBs7oiim/RO9qoUSg/wq5i0tfwnny7j8w+82QBRYp1HtC3Eq2bxGs+k\n",
       "DibZ7Krk4lF5JVMqG0oO+bW2KOvBW8dSrnaSCiouspkjGd2kRwbgbF5oJaAzo/Jlp1jwbvgYGylb\n",
       "Ed6u3qxZ4Xq7Vp76iGWXvKog6THYBrANJN+0pcFf+Zf93lOKQS0uspkjGb2G/vfNDGolICWmZCkd\n",
       "UabxXsKxKfbnZRMFUVE72mAWRBchVBAV7QWRlpt9vSC6COGCqOjsQDH01nsFifFE9SrMJsZhRfRZ\n",
       "mTV3IfIuytaOgcd6RdBk2UrsZspWCHZJtNvb983qQrQbvlyVLbPm5JpevY4ca/ZywetXhth4JVSL\n",
       "NnO5GAvY8cYvF9o6dNCXO9Q0dgWML3IFTGV9dZ1z2Tpm7FzADq6AdjpNn/Y2fS0fXIFnLBfiehf1\n",
       "+SYu6nbbVKMX9XlnB+ZDb5P8o0r0cPP+yVtZ0ZLLtTtWXwAAAABJRU5ErkJggg==\n",
       "\" style=\"display:inline;vertical-align:middle;\" /></a><br>"
      ],
      "text/plain": [
       "unaryEvaluation: forall_{f, x, a, c} ((x = a) => ((f(a) = c) => (f(x) = c)))"
      ]
     },
     "execution_count": 20,
     "metadata": {},
     "output_type": "execute_result"
    }
   ],
   "source": [
    "unaryEvaluation = Forall((f, x, a, c), Implies(Equals(x, a), Implies(Equals(fa, c), Equals(fx, c))))"
   ]
  },
  {
   "cell_type": "code",
   "execution_count": 21,
   "metadata": {},
   "outputs": [
    {
     "data": {
      "text/html": [
       "<strong id=\"binarySubstitution\"><a class=\"ProveItLink\" href=\"_proofs_/binarySubstitution.ipynb\">binarySubstitution</a>:</strong> <a class=\"ProveItLink\" href=\"__pv_it/3c8b0b3aed11e3ab37cd1c0f7dc5f3b1e7e1bf3a0/expr.ipynb\"><img src=\"data:image/png;base64,iVBORw0KGgoAAAANSUhEUgAAAdAAAAAVBAMAAAAEIaKAAAAAMFBMVEX///8QEBCIiIhmZma6urrM\n",
       "zMxUVFQiIiJERETc3Nzu7u6qqqp2dnaYmJgyMjIAAAAcRTyBAAAAAXRSTlMAQObYZgAABSVJREFU\n",
       "WMPdWF2IG1UUPpv/mUySRZSiixATraALDVusiG2aVlAQNcGH2reEpT4odgkiFqpiVCi7C2sjSCuI\n",
       "MLtKt+5DE/BB1gcN9aHVVgkWxD4oEX+gC8oiW9CsLd5z75mZO3Pn2qyPHjgZ5uY785175pxz7x2A\n",
       "rYjR91Qnq2FGeuiqlkhnnW7/m3sK1NEBDnw/4kRPS6qTRDvESBHztaaAJto6IjCnHgi1fibseQr2\n",
       "9DaCkl7AwbURJ3pFUp2YAwqvbKRKtiSgDlwlgsSFzVDrM2HhVbE/EZT0HfSpNdo8MyVP9XLWm4lj\n",
       "FCK5LkHPaogAOo9WQq2tvDoWgt0kKGnWZpfuaBNNtj3Vy6K4HDzqGYVI1SboojeWaoNs85nG2hxX\n",
       "x1RsbEhQ0syXKysnR8zck5LqJVvhl0MFzyhEzjlQgqPEWyDbnNNZ/xz+OD/WajpQ0j9nZ18ecaJF\n",
       "SZe2vz0ZTCFj99RtjKEkSjXpGpnFPLxl+7G/Fh4UUEtKuEsSEVzatjNItTQFBmP4XPHMxQoXeBCn\n",
       "i10BJX0aYA7/2K1bBZ5w28WCp2Yv83wS/7B+58K93dfOrrMC43irSwXBwFZsHHb4seZ1u9PmUAG/\n",
       "/wjKqyWPCOCPABVAbx9EGMMPECB2seQCr9o18y8BJX1IND6r0NNM1Av5S55atjWMBerHvB2iLPnS\n",
       "PGeSYAwco3ejA5gNrHBDyOU5VMBJPu26RGBcDVIZ3TKkGMPH6gpKWHKBV62Ns0coaRIiffCVSrDm\n",
       "3FZ1s6cmZ/RLdAhJlmJxHtJveK4IsD2W5yGXsQPo9Dg0vi7H6seKQwTp9SCVCTdheKCu+OhgyQWU\n",
       "Mph/Cyip1efFlLN1E821QyYKnNEvYy3o1BzPWc894BpV7fhVZRmtdtWJnvjCtRHdxE/FOmm9FjZR\n",
       "B0suiGU0tumbqDFAhzLH9yC++CS+hv0N9JPtNmbQqF54Vk1d4IxeqTSwKnq8y8eQNM3yPdt2jMoQ\n",
       "Gfdjc33Ya3Moh0NZ/HXFI4JUI0DF8+AOdnkkQOxhyQWUa/h6OdTRuUM4/h3+3JMYvIA1P4yjX8u1\n",
       "Or7mu+2i2ozS9g6IBJKg04WZtOgwfJLpkmN0THgip0mFlZPUjKjvSUQwlleo2FOOUXcJJBNhyQWU\n",
       "DVjs+5oRfMRDuhN/alksV+ODZqTFh57CwdfdB0u9uto9Du8F2FL5zIsWCzt2tYOUvsJgF1QDPT3R\n",
       "T5UENOo1QXNNIoJORaYyr+MbbcSu4QKhbowIK1zoYOwOwxsEdVRUwIJUj9FeAscmYLsomF30OCkP\n",
       "ThWW9gTXI3P6rhN3speJicazpOAYnSrsDXboqa9AQLM1b/Y1iQiq4KM6YiNDkS0Z8Iu6zyKscCGJ\n",
       "EX5/sk9QRzM8LW7hBnVArmRljF3YMrSwwu6GbMZb2QIu4w9vnnFvO1fWQpelRULea8J5/wYybVOV\n",
       "gtlUHhTAfuLGs+kpjQzBmDfWv4aeMQ/JWpXdwa3xjT67HM20/sumXtqgJwbmhhaq2dSnG7/5jwSs\n",
       "KGCG56iyqVewPXn/7yg17ibEJ8zDj03a8QmITb/J7uDhe4t9djlw0X3inKQ3OqZJRsl+Kq+Dhh/T\n",
       "mM38wKUU2z+mr7CGEXJMC2LNvHyiO+MzwWikKT7wIW92zt0WD94p9eAdK9ynhaY0B+9Mse0/tmPF\n",
       "7S/WwsIcxGb0byb7bc39qrEKz8UG0t0WP6VcHv1TyuUw+A0/pWRG/5SCUEcplwsUM355/KJ89/+Q\n",
       "fwCMEMSXmJWVdgAAAABJRU5ErkJggg==\n",
       "\" style=\"display:inline;vertical-align:middle;\" /></a><br>"
      ],
      "text/plain": [
       "binarySubstitution: forall_{f, x, y, a, b} (((x = a) and (y = b)) => (f(x, y) = f(a, b)))"
      ]
     },
     "execution_count": 21,
     "metadata": {},
     "output_type": "execute_result"
    }
   ],
   "source": [
    "binarySubstitution = Forall((f, x, y, a, b), Implies(And(Equals(x, a), Equals(y, b)), Equals(fxy, fab)))"
   ]
  },
  {
   "cell_type": "code",
   "execution_count": 22,
   "metadata": {},
   "outputs": [
    {
     "data": {
      "text/html": [
       "<strong id=\"binaryEvaluation\"><a class=\"ProveItLink\" href=\"_proofs_/binaryEvaluation.ipynb\">binaryEvaluation</a>:</strong> <a class=\"ProveItLink\" href=\"__pv_it/669b546282fa21488c5680b7953e8838402438820/expr.ipynb\"><img src=\"data:image/png;base64,iVBORw0KGgoAAAANSUhEUgAAAksAAAAWBAMAAAAiHMUxAAAAMFBMVEX///8QEBCIiIhmZma6urrM\n",
       "zMxUVFQiIiJERETc3Nzu7u6qqqp2dnaYmJgyMjIAAAAcRTyBAAAAAXRSTlMAQObYZgAABk5JREFU\n",
       "WMPlWG+IVFUUPzv/582bNcSwgmCcgUVEaFqJklbbDFoKcscvUZ92WPKDYDKYYn+stoJyg/BB0UpQ\n",
       "vtZQkXAeCS32oR12P2jan8EiNVImcgVX3AZTyF2V7rl/3rvvvXvHnf3qhfPuH8793fPOPefcey7A\n",
       "AsrnEmlKxlJN0rKG2X0LaRCOKiepR9P1cEsvrAskqIED59rSkjHkkbZsUkwKl4NLOeumVgsB7CtY\n",
       "fgTjnQpAQvl76tGDdFb3at5qLawHJOgkDky3paZOyyNtOcxrS5qkKH9z1sOtFgLYPO4EEDqL5K8b\n",
       "SuUqRy/RHz85x1tqYcNAgvagGQ61paZfJdIWM+fpAfTMc5xVsCsXAuPaV0GERQ75TCgxVaPZIn6r\n",
       "z/byllpYBRCnTptwOW2p6TWJ9J55D63iH9jepHCJzXJWzk7LcHAhyDRDCP2I+6USVBpNCQtM0sa4\n",
       "21IKqwLilD1x6NBIW1pKVzxqUS4w/16XcyepbK4iWC94gy8EFmJsAYRj1PN6lb7qjcaFn4y4k0b0\n",
       "wqqABP23a9fOttQUKXpk5DetC9n4x5PLyFZPcq+vuJNGuyH9QECQwYLDWCeDDuItAtmHXymyFoPG\n",
       "cjH/OFFfyIEm8iXfqPDUAu0sXcVao12frGTbx2WaBB2QoI2Slc+rpOoefQ2nc2/h4M8zWGggit0P\n",
       "/5DqPGU+yc4Iylx7EiJNP2912rjBWCl7dAct//oXIoEox1ocGt3ktl21IIvR2qRwM1Q3I06qwUbh\n",
       "UQr1NlfZR/R7lbWMWnZrkgV6LhNdXQkk6Cl+NPTUNWqJzfj7ScejE/CL/UzQo+vwGKnGaKcCX4hJ\n",
       "aWctpAKHxbiNoo+57Pwec9m3EMDeEmtxaGSZRd1lgq68ExKOf/R7FnffoF58nbVM25yN0RAlZBoD\n",
       "HZCgJERQQWa+pjOfgEV29Hpkw64Q+xM2bCXVAPWfHCRKfJIBi6lZyGUtGDcZ64DvgF4iL8RCL7Y4\n",
       "NNpdA6o1iDf9cNFZGpDkUeMvirDEPQlIy3C3S8g0ADogQWY9qY+GtFzWq4nZsb/cB8Z18d9JG+Jl\n",
       "MYkcawOl4LUpNhdWU3qz5VfTMd7j0Oza1O+E1NQxFFLTpz+AqyZ6YCwRXiyOWpQpqCYPSFC68Tyd\n",
       "aGvVdEPvdBDnYrN4cxE36CbbtT4cPiIudshMLGCZnxdu0X3rE+xRFh1mrIDTvc96AhrFraNpxSpe\n",
       "SMHdqFKPoKOwlg3zyyR1ulRZtNzt4jL1gQ5IEAy/hN6xew2N7490EYBYF5oBSRG6plATV7ts6pW5\n",
       "cAj/jsS/FYE7yBwkGkd5VLzEVcUmlOn/yuUahhsvhPMdbgRD+GLWE9Copl7jQeDBWrpzEm7HN7oe\n",
       "pBDekWOtjP0QRJhZcJnOgw5IEByhyj9Dj2B7S5LYtrnI3oA/vD2OLhp5nZ7F2+L8DiYdk7G5VDOU\n",
       "Sb4Lp8tkM3rEtYVqHCdEy7FbAd6X4T1grD1SZLL9C5FLOO9RaOM23sfqKUQMxNNoGfaV5FFjWo6v\n",
       "1V7W6nd2kzya4nCZekAHJIj76SrqjHAFq8/6YDnyFuOowVQOtRkdAm6okikagysKobR5f/7FQSIP\n",
       "GmIC5Yrk+CRjsBDwX9i3EpU8xYmXjeBfCGJN3mPQO2xMYn/CCBUIdfDjuZxvNCGa1Kv6eWt/fnQN\n",
       "WZfiMJmmQAckCLK2d7HgcagHBtFGnUiZxk6iW9JpM1mh/0ebJTdZiTZ0rIZ0iFvBhcwhX7qTccPo\n",
       "AeXS0mga5GTlOPiSFYaDMhkVLdABP+C97HLfjGO1jXarVuoPG4M7qmiRtbDUV5q0hVm9krVV6vtt\n",
       "Z92XPJstk1xt6pspX5Hv+AyHyXTn1FfsKIlCe+y9ZsMkFWwnZr7H7rAGniNV0j5DvuTCUJTySUF3\n",
       "fEiRktA3SWzRsSqfMvgirx72p7GjrZ9M1KPDkPyw4c+sEYfJdOeHFCkObHD2/zZxglTw9PIGqWKD\n",
       "36whVXxzjXzT3afsdp7lhsNPbOsKJS3rcItnuVOr/Q979VD+H1Ku6lkuW7C8BzqBw2RSZ2sKc6Cm\n",
       "yMOPY1iputeTvvN/5M3O/5EXWbMLeuQ9q5x0tu1HXs3qZyXil9rfS+6TcMZK1NZLvRavxXdbMfOo\n",
       "VK5biP1Zk3re9+4t/wNJmFOFiOXfdgAAAABJRU5ErkJggg==\n",
       "\" style=\"display:inline;vertical-align:middle;\" /></a><br>"
      ],
      "text/plain": [
       "binaryEvaluation: forall_{f, x, y, a, b, c} (((x = a) and (y = b)) => ((f(a, b) = c) => (f(x, y) = c)))"
      ]
     },
     "execution_count": 22,
     "metadata": {},
     "output_type": "execute_result"
    }
   ],
   "source": [
    "binaryEvaluation = Forall((f, x, y, a, b, c), Implies(And(Equals(x, a), Equals(y, b)), Implies(Equals(fab, c), Equals(fxy, c))))"
   ]
  },
  {
   "cell_type": "code",
   "execution_count": 23,
   "metadata": {},
   "outputs": [
    {
     "data": {
      "text/html": [
       "<strong id=\"notEqualsInBool\"><a class=\"ProveItLink\" href=\"_proofs_/notEqualsInBool.ipynb\">notEqualsInBool</a>:</strong> <a class=\"ProveItLink\" href=\"__pv_it/4ede3430729d980a34d6f011479787cb1da985640/expr.ipynb\"><img src=\"data:image/png;base64,iVBORw0KGgoAAAANSUhEUgAAAKYAAAAVCAMAAAD7CGWeAAAAOVBMVEX///8kJCQNDQ0oKCgQEBCI\n",
       "iIhmZma6urrMzMxUVFQiIiJERETc3Nzu7u6qqqp2dnaYmJgyMjIAAAD9T1yxAAAAAXRSTlMAQObY\n",
       "ZgAAAntJREFUSMfNV8m2pCAMpfsRwhQZ/v9jOyioUGLpW3UW5pReJbkZS4j34mOvpxLo4ubi3522\n",
       "4dP+O8Zn75Hr9dyddHnbfLETrHQuJ2kNHviwtMeJnpmZfK+nUo/5cDN9PUFoYBZIxR3vGyfePbMy\n",
       "ql7PyZx9MMCXN51ANhC0cAe+kXjQei/W93pOpp5ljRwcd5YljWYuSzVzxcdARbx9WD+21+/JZGbO\n",
       "2aAd0CWbAVv2r/jsitjwzExQvSYA4xE+A+k6MglUQXhZTArqnKl0HXS0usVjxW8/3MM+4WKnib2L\n",
       "FsQRs5BW+flbrrs9QWAJHeQ1yum+7tlMaXOWjfQVj+pR+bXUXDpdWmPIJNDfkukXocoJbg3jYs8m\n",
       "zUooxFgjvOHLBR42TdFcrJr2s3vRpq8afqEEPa+5ofOBk6nJaGZTDR/iZupvzBT72QMhI7vIlPN5\n",
       "ejDTz9ksRJuTmTwtmvMBlIaWuQjlrqW7oIv97C43/1SSDk7XmMPWivBEipybadqMrHjn68Dg1mCS\n",
       "sNjSnhnQ8raEFtrKYmgqnxPKmXbpS0jBDZs1OSt+UdU9piXtSeqpeAFDVFoz2TRm7sH5YwvBzwml\n",
       "TEFvMBUuwtMPS0aEoGowGv6UXfnEQ3lsBm9bwDZNBoBb4ri1XPTCglT140l3DxzS3epx4CMdibZy\n",
       "Wh1lnNTvh+UyGfdqCx4N9YrB9cNy9HDA+8wFUHKSC7AYbjXH6RerxwWZnPKCMj5bPb6sKmQiBigd\n",
       "W8uSMWjApWmvmc6t5WLuWk4LBw8XuReLH5tJ/ijsN2vx1eKKnJn6i3uz8ezvV3vDgzj94k8G3u+r\n",
       "L628xRcLMIYg/g/5B68IHH7Gp3oKAAAAAElFTkSuQmCC\n",
       "\" style=\"display:inline;vertical-align:middle;\" /></a><br>"
      ],
      "text/plain": [
       "notEqualsInBool: forall_{x, y} ((x != y) in BOOLEANS)"
      ]
     },
     "execution_count": 23,
     "metadata": {},
     "output_type": "execute_result"
    }
   ],
   "source": [
    "# Proven\n",
    "notEqualsInBool = Forall((x, y), inBool(NotEquals(x, y)))"
   ]
  },
  {
   "cell_type": "code",
   "execution_count": 24,
   "metadata": {},
   "outputs": [
    {
     "data": {
      "text/html": [
       "<strong id=\"contradictionViaFalsification\"><a class=\"ProveItLink\" href=\"_proofs_/contradictionViaFalsification.ipynb\">contradictionViaFalsification</a>:</strong> <a class=\"ProveItLink\" href=\"__pv_it/e18a38097ba5ce4bb2b5ecd1d015cc528b4a77cc0/expr.ipynb\"><img src=\"data:image/png;base64,iVBORw0KGgoAAAANSUhEUgAAAHoAAAAWBAMAAAD9QZX2AAAAMFBMVEX///8QEBCIiIhmZma6urrM\n",
       "zMxUVFQiIiJERETc3Nzu7u6qqqp2dnaYmJgyMjIAAAAcRTyBAAAAAXRSTlMAQObYZgAAAT5JREFU\n",
       "OMtjYKAIPAARd8nQGA0iToOIV2To3gQiZgAxZwO5uvkWMDDwbCBXN++pVaumM5Crm+FHR0cN+bpT\n",
       "GRg6wQwIyQKT5ZgAZXTi0+3MwAWONd4vEE0w2fsOEBoqDgZsGLrZGZgugOjFf1F0c9lfgDCg4qhG\n",
       "w3XzXGAH06eKURTwLDdgQBbHoZvzQRiIYlXoQFEQxAFJBDBxHLoZOlMgXjJHUZDAXMAAE2frAIJe\n",
       "7Lo3g5XdZtBH1s27gekDA7I4Lrv5FUCB9PhM/wIkBetsTvxiQBZH1W1eXi5YXl4GsgYky7yAYX4A\n",
       "kgIrBs6vDDBxtndA8BbNbmTgC3TDBYRuFiD7L8OMBQhxDJcjAY4fDJz9tQgF/Q0MM75fCNyAEAeC\n",
       "Ex2NHR0H8CZfFONJznvIurknUKKbl+SMx0yKYgCRgVo2nnjVMAAAAABJRU5ErkJggg==\n",
       "\" style=\"display:inline;vertical-align:middle;\" /></a><br>"
      ],
      "text/plain": [
       "contradictionViaFalsification: forall_{A | A, A = FALSE} FALSE"
      ]
     },
     "execution_count": 24,
     "metadata": {},
     "output_type": "execute_result"
    }
   ],
   "source": [
    "contradictionViaFalsification = Forall(A, FALSE, conditions=[A, Equals(A, FALSE)])"
   ]
  },
  {
   "cell_type": "code",
   "execution_count": 25,
   "metadata": {},
   "outputs": [
    {
     "name": "stdout",
     "output_type": "stream",
     "text": [
      "Modifying theorem subLeftSideInto in proveit.logic.equality context\n",
      "Modifying theorem subRightSideInto in proveit.logic.equality context\n",
      "Modifying theorem substituteInTrue in proveit.logic.equality context\n",
      "Modifying theorem substituteTruth in proveit.logic.equality context\n",
      "Modifying theorem substituteInFalse in proveit.logic.equality context\n",
      "Modifying theorem substituteFalsehood in proveit.logic.equality context\n",
      "Modifying theorem binarySubstitution in proveit.logic.equality context\n",
      "Modifying theorem binaryEvaluation in proveit.logic.equality context\n",
      "subLeftSideInto expression notebook is being updated\n",
      "subRightSideInto expression notebook is being updated\n",
      "substituteInTrue expression notebook is being updated\n",
      "substituteTruth expression notebook is being updated\n",
      "substituteInFalse expression notebook is being updated\n",
      "substituteFalsehood expression notebook is being updated\n",
      "binarySubstitution expression notebook is being updated\n",
      "binaryEvaluation expression notebook is being updated\n",
      "Theorems may be imported from autogenerated _theorems_.py\n"
     ]
    }
   ],
   "source": [
    "%end theorems"
   ]
  },
  {
   "cell_type": "code",
   "execution_count": null,
   "metadata": {},
   "outputs": [],
   "source": []
  }
 ],
 "metadata": {
  "kernelspec": {
   "display_name": "Python 3",
   "language": "python",
   "name": "python3"
  },
  "language_info": {
   "codemirror_mode": {
    "name": "ipython",
    "version": 3
   },
   "file_extension": ".py",
   "mimetype": "text/x-python",
   "name": "python",
   "nbconvert_exporter": "python",
   "pygments_lexer": "ipython3",
   "version": "3.7.3"
  }
 },
 "nbformat": 4,
 "nbformat_minor": 1
}
