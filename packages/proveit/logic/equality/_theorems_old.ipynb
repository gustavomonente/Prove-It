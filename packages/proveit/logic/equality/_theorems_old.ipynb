{
 "cells": [
  {
   "cell_type": "code",
   "execution_count": null,
   "metadata": {},
   "outputs": [],
   "source": [
    "import proveit.specialStatementMagic # for %begin_theorems and %end_theorems\n",
    "from proveit.basiclogic import Equals, NotEquals, Implies, Not, And, Forall, TRUE, FALSE, inBool\n",
    "from proveit.common import A, a, b, c, x, y, z, f, P, fa, fb, fab, fx, fy, fxy, Px, Py"
   ]
  },
  {
   "cell_type": "code",
   "execution_count": null,
   "metadata": {},
   "outputs": [],
   "source": [
    "%begin_theorems"
   ]
  },
  {
   "cell_type": "code",
   "execution_count": null,
   "metadata": {},
   "outputs": [],
   "source": [
    "lhsSubstitution = Forall((P, x, y), Implies(Equals(x, y), Implies(Py, Px)))\n",
    "lhsSubstitution"
   ]
  },
  {
   "cell_type": "code",
   "execution_count": null,
   "metadata": {},
   "outputs": [],
   "source": [
    "rhsSubstitution = Forall((P, x, y), Implies(Equals(x, y), Implies(Px, Py)))\n",
    "rhsSubstitution"
   ]
  },
  {
   "cell_type": "code",
   "execution_count": null,
   "metadata": {},
   "outputs": [],
   "source": [
    "unaryEvaluation = Forall((f, x, a, c), Implies(Equals(x, a), Implies(Equals(fa, c), Equals(fx, c))))\n",
    "unaryEvaluation"
   ]
  },
  {
   "cell_type": "code",
   "execution_count": null,
   "metadata": {},
   "outputs": [],
   "source": [
    "binarySubstitution = Forall((f, x, y, a, b), Implies(And(Equals(x, a), Equals(y, b)), Equals(fxy, fab)))\n",
    "binarySubstitution"
   ]
  },
  {
   "cell_type": "code",
   "execution_count": null,
   "metadata": {},
   "outputs": [],
   "source": [
    "binaryEvaluation = Forall((f, x, y, a, b, c), Implies(And(Equals(x, a), Equals(y, b)), Implies(Equals(fab, c), Equals(fxy, c))))\n",
    "binaryEvaluation"
   ]
  },
  {
   "cell_type": "code",
   "execution_count": null,
   "metadata": {},
   "outputs": [],
   "source": [
    "unfoldNotEquals = Forall((x, y), Implies(NotEquals(x, y), Not(Equals(x, y))))\n",
    "unfoldNotEquals"
   ]
  },
  {
   "cell_type": "code",
   "execution_count": null,
   "metadata": {},
   "outputs": [],
   "source": [
    "foldNotEquals = Forall((x, y), Implies(Not(Equals(x, y)), NotEquals(x, y)))\n",
    "foldNotEquals"
   ]
  },
  {
   "cell_type": "code",
   "execution_count": null,
   "metadata": {},
   "outputs": [],
   "source": [
    "notEqualsSymmetry = Forall((x, y), Implies(NotEquals(x, y), NotEquals(y, x)))\n",
    "notEqualsSymmetry"
   ]
  },
  {
   "cell_type": "code",
   "execution_count": null,
   "metadata": {},
   "outputs": [],
   "source": [
    "notEqualsInBool = Forall((x, y), inBool(NotEquals(x, y)))\n",
    "notEqualsInBool"
   ]
  },
  {
   "cell_type": "code",
   "execution_count": null,
   "metadata": {},
   "outputs": [],
   "source": [
    "contradictionFromFalseEquivalence = Forall(A, Implies(Equals(A, FALSE), Implies(A, FALSE)))\n",
    "contradictionFromFalseEquivalence"
   ]
  },
  {
   "cell_type": "code",
   "execution_count": null,
   "metadata": {},
   "outputs": [],
   "source": [
    "contradictionFromFalseEquivalenceReversed = Forall(A, Implies(Equals(FALSE, A), Implies(A, FALSE)))\n",
    "contradictionFromFalseEquivalenceReversed"
   ]
  },
  {
   "cell_type": "code",
   "execution_count": null,
   "metadata": {},
   "outputs": [],
   "source": [
    "%end_theorems"
   ]
  }
 ],
 "metadata": {
  "kernelspec": {
   "display_name": "Python 3",
   "language": "python",
   "name": "python3"
  }
 },
 "nbformat": 4,
 "nbformat_minor": 0
}
