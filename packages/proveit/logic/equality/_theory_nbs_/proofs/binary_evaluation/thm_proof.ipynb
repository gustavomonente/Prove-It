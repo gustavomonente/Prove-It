{
 "cells": [
  {
   "cell_type": "markdown",
   "metadata": {},
   "source": [
    "Proof of <a class=\"ProveItLink\" href=\"../../../../../_theory_nbs_/theory.ipynb\">proveit</a>.<a class=\"ProveItLink\" href=\"../../../../_theory_nbs_/theory.ipynb\">logic</a>.<a class=\"ProveItLink\" href=\"../../theory.ipynb\">equality</a>.<a class=\"ProveItLink\" href=\"../../theorems.ipynb#binary_evaluation\">binary_evaluation</a> theorem\n",
    "========"
   ]
  },
  {
   "cell_type": "code",
   "execution_count": 1,
   "metadata": {},
   "outputs": [],
   "source": [
    "import proveit\n",
    "theory = proveit.Theory() # the theorem's theory"
   ]
  },
  {
   "cell_type": "code",
   "execution_count": 2,
   "metadata": {},
   "outputs": [
    {
     "data": {
      "text/html": [
       "Under these <a href=\"presumptions.txt\">presumptions</a>, we begin our proof of<br><strong id=\"binary_evaluation\">binary_evaluation:</strong> <a class=\"ProveItLink\" href=\"../../../__pv_it/theorems/b2068c0b0e49f2d915acdf0802073cefccf039e00/expr.ipynb\"><img src=\"data:image/png;base64,iVBORw0KGgoAAAANSUhEUgAAAksAAAAWBAMAAAAiHMUxAAAAMFBMVEX///8QEBCIiIhmZma6urrM\n",
       "zMxUVFQiIiJERETc3Nzu7u6qqqp2dnaYmJgyMjIAAAAcRTyBAAAAAXRSTlMAQObYZgAABk5JREFU\n",
       "WMPlWG+IVFUUPzv/582bNcSwgmCcgUVEaFqJklbbDFoKcscvUZ92WPKDYDKYYn+stoJyg/BB0UpQ\n",
       "vtZQkXAeCS32oR12P2jan8EiNVImcgVX3AZTyF2V7rl/3rvvvXvHnf3qhfPuH8793fPOPefcey7A\n",
       "AsrnEmlKxlJN0rKG2X0LaRCOKiepR9P1cEsvrAskqIED59rSkjHkkbZsUkwKl4NLOeumVgsB7CtY\n",
       "fgTjnQpAQvl76tGDdFb3at5qLawHJOgkDky3paZOyyNtOcxrS5qkKH9z1sOtFgLYPO4EEDqL5K8b\n",
       "SuUqRy/RHz85x1tqYcNAgvagGQ61paZfJdIWM+fpAfTMc5xVsCsXAuPaV0GERQ75TCgxVaPZIn6r\n",
       "z/byllpYBRCnTptwOW2p6TWJ9J55D63iH9jepHCJzXJWzk7LcHAhyDRDCP2I+6USVBpNCQtM0sa4\n",
       "21IKqwLilD1x6NBIW1pKVzxqUS4w/16XcyepbK4iWC94gy8EFmJsAYRj1PN6lb7qjcaFn4y4k0b0\n",
       "wqqABP23a9fOttQUKXpk5DetC9n4x5PLyFZPcq+vuJNGuyH9QECQwYLDWCeDDuItAtmHXymyFoPG\n",
       "cjH/OFFfyIEm8iXfqPDUAu0sXcVao12frGTbx2WaBB2QoI2Slc+rpOoefQ2nc2/h4M8zWGggit0P\n",
       "/5DqPGU+yc4Iylx7EiJNP2912rjBWCl7dAct//oXIoEox1ocGt3ktl21IIvR2qRwM1Q3I06qwUbh\n",
       "UQr1NlfZR/R7lbWMWnZrkgV6LhNdXQkk6Cl+NPTUNWqJzfj7ScejE/CL/UzQo+vwGKnGaKcCX4hJ\n",
       "aWctpAKHxbiNoo+57Pwec9m3EMDeEmtxaGSZRd1lgq68ExKOf/R7FnffoF58nbVM25yN0RAlZBoD\n",
       "HZCgJERQQWa+pjOfgEV29Hpkw64Q+xM2bCXVAPWfHCRKfJIBi6lZyGUtGDcZ64DvgF4iL8RCL7Y4\n",
       "NNpdA6o1iDf9cNFZGpDkUeMvirDEPQlIy3C3S8g0ADogQWY9qY+GtFzWq4nZsb/cB8Z18d9JG+Jl\n",
       "MYkcawOl4LUpNhdWU3qz5VfTMd7j0Oza1O+E1NQxFFLTpz+AqyZ6YCwRXiyOWpQpqCYPSFC68Tyd\n",
       "aGvVdEPvdBDnYrN4cxE36CbbtT4cPiIudshMLGCZnxdu0X3rE+xRFh1mrIDTvc96AhrFraNpxSpe\n",
       "SMHdqFKPoKOwlg3zyyR1ulRZtNzt4jL1gQ5IEAy/hN6xew2N7490EYBYF5oBSRG6plATV7ts6pW5\n",
       "cAj/jsS/FYE7yBwkGkd5VLzEVcUmlOn/yuUahhsvhPMdbgRD+GLWE9Copl7jQeDBWrpzEm7HN7oe\n",
       "pBDekWOtjP0QRJhZcJnOgw5IEByhyj9Dj2B7S5LYtrnI3oA/vD2OLhp5nZ7F2+L8DiYdk7G5VDOU\n",
       "Sb4Lp8tkM3rEtYVqHCdEy7FbAd6X4T1grD1SZLL9C5FLOO9RaOM23sfqKUQMxNNoGfaV5FFjWo6v\n",
       "1V7W6nd2kzya4nCZekAHJIj76SrqjHAFq8/6YDnyFuOowVQOtRkdAm6okikagysKobR5f/7FQSIP\n",
       "GmIC5Yrk+CRjsBDwX9i3EpU8xYmXjeBfCGJN3mPQO2xMYn/CCBUIdfDjuZxvNCGa1Kv6eWt/fnQN\n",
       "WZfiMJmmQAckCLK2d7HgcagHBtFGnUiZxk6iW9JpM1mh/0ebJTdZiTZ0rIZ0iFvBhcwhX7qTccPo\n",
       "AeXS0mga5GTlOPiSFYaDMhkVLdABP+C97HLfjGO1jXarVuoPG4M7qmiRtbDUV5q0hVm9krVV6vtt\n",
       "Z92XPJstk1xt6pspX5Hv+AyHyXTn1FfsKIlCe+y9ZsMkFWwnZr7H7rAGniNV0j5DvuTCUJTySUF3\n",
       "fEiRktA3SWzRsSqfMvgirx72p7GjrZ9M1KPDkPyw4c+sEYfJdOeHFCkObHD2/zZxglTw9PIGqWKD\n",
       "36whVXxzjXzT3afsdp7lhsNPbOsKJS3rcItnuVOr/Q979VD+H1Ku6lkuW7C8BzqBw2RSZ2sKc6Cm\n",
       "yMOPY1iputeTvvN/5M3O/5EXWbMLeuQ9q5x0tu1HXs3qZyXil9rfS+6TcMZK1NZLvRavxXdbMfOo\n",
       "VK5biP1Zk3re9+4t/wNJmFOFiOXfdgAAAABJRU5ErkJggg==\n",
       "\" style=\"display:inline;vertical-align:middle;\" /></a><br>(see <a class=\"ProveItLink\" href=\"../../../__pv_it/theorems/2dd46204f7e1c5388cb03ab57670da4149dd64dc0/dependencies.ipynb\">dependencies</a>)<br>"
      ],
      "text/plain": [
       "binary_evaluation: forall_{f, x, y, a, b, c} (((x = a) and (y = b)) => ((f(a, b) = c) => (f(x, y) = c)))"
      ]
     },
     "execution_count": 2,
     "metadata": {},
     "output_type": "execute_result"
    }
   ],
   "source": [
    "%proving binary_evaluation"
   ]
  },
  {
   "cell_type": "code",
   "execution_count": null,
   "metadata": {},
   "outputs": [],
   "source": []
  }
 ],
 "metadata": {
  "kernelspec": {
   "display_name": "Python 3",
   "language": "python",
   "name": "python3"
  }
 },
 "nbformat": 4,
 "nbformat_minor": 0
}