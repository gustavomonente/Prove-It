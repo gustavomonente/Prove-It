{
 "cells": [
  {
   "cell_type": "markdown",
   "metadata": {},
   "source": [
    "Common expressions for the theory of <a class=\"ProveItLink\" href=\"theory.ipynb\">proveit.logic.equality</a>\n",
    "========"
   ]
  },
  {
   "cell_type": "code",
   "execution_count": 1,
   "metadata": {},
   "outputs": [
    {
     "name": "stdout",
     "output_type": "stream",
     "text": [
      "Defining common sub-expressions for theory 'proveit.logic.equality'\n",
      "Subsequent end-of-cell assignments will define common sub-expressions\n",
      "%end_common will finalize the definitions\n"
     ]
    }
   ],
   "source": [
    "import proveit\n",
    "# Prepare this notebook for defining the common expressions of a theory:\n",
    "%common_expressions_notebook # Keep this at the top following 'import proveit'.\n",
    "from proveit import ExprRange, IndexedVar\n",
    "from proveit import a, n, x, y\n",
    "from proveit.logic import Equals\n",
    "from proveit.numbers import one\n",
    "%begin common"
   ]
  },
  {
   "cell_type": "code",
   "execution_count": 2,
   "metadata": {},
   "outputs": [
    {
     "data": {
      "text/html": [
       "<strong id=\"elementwise_equality\">elementwise_equality:</strong> <a class=\"ProveItLink\" href=\"../__pv_it/common/f233a706c44e019d7f040dbb9571481d743d06740/common_expr.ipynb\"><img src=\"data:image/png;base64,iVBORw0KGgoAAAANSUhEUgAAANsAAAAUBAMAAAD2E1USAAAAMFBMVEX////MzMxUVFR2dna6uroQ\n",
       "EBCqqqqIiIgiIiJmZmYyMjJERETu7u6YmJjc3NwAAACgK8IjAAAAAXRSTlMAQObYZgAAAhxJREFU\n",
       "SMetlj1IAzEUx5+22o9r663iYLeCg9wmimIR1E7iUHBR6egg0kWk4CAOIuJHN8WpuNlBxMVBlIJI\n",
       "Cw4qONhBcdRBrIuCqPiSl6ttL00zmOGS+7/we3f/vEsOIHQNjducOvwCoAu51JnZ/KiKBg5BG3Kg\n",
       "MzOQUUX9j6ALCaa1pvaogkUAXYhX78kuVMFNzXQIedKb6Y/Wj4WWQBuSYqYudI/K3MpvQ2iShi6F\n",
       "5550fUQlg0FOsTuHu+QaQAfX+rKs7bOhNQyeEslBRa0Y12WEzeWMbLrMoIaQFez6YTA3Bu07tSYl\n",
       "dsE4JLlVYZg3YSMkRnOGuEFIHLscnLC7WG3hwgS0JUluKtVP1xItI5zFTwxqCInzwYcsHbi/oNPU\n",
       "SycQzkaMcroV3r/9paO122NDXwbmhexuYCYhijcL6Yq1C9sMoSOElcosLuai5O2MMBwJuVGpEOJ2\n",
       "CqZlDKEjpBeTvhsltlE70vnC7m8h+yxch08Ql6tMxYDVNyFC+SX4kjBsHSEIC0QWU/eytQtEUj9C\n",
       "9jP/V3N4WWb2he3BOnkkEM1J97iMIXSEVGxiMadP6DzJBV7IOceE2apNrMX0WaaEIfRC1RY9Uzux\n",
       "C66iQuY7hsv5PFbVFv0K3hFTwhA6g5zZgeetSA1rA46FTAdQ3vlZ8U/KsB0aAs+AjEE6hyiO19GU\n",
       "/agEdJ77wYbH6x+DIFo/Dw//8fOAkF/5Qap8WOkSPwAAAABJRU5ErkJggg==\n",
       "\" style=\"display:inline;vertical-align:middle;\" /></a><br>"
      ],
      "text/plain": [
       "elementwise_equality: (x_{1} = y_{1}), ..(x_{a} = y_{a}).., (x_{n} = y_{n})"
      ]
     },
     "execution_count": 2,
     "metadata": {},
     "output_type": "execute_result"
    }
   ],
   "source": [
    "elementwise_equality = ExprRange(a, Equals(IndexedVar(x, a), IndexedVar(y, a)),\n",
    "                                 one, n)"
   ]
  },
  {
   "cell_type": "code",
   "execution_count": 3,
   "metadata": {},
   "outputs": [
    {
     "name": "stdout",
     "output_type": "stream",
     "text": [
      "These common expressions may now be imported from the theory package: proveit.logic.equality\n"
     ]
    }
   ],
   "source": [
    "%end common"
   ]
  },
  {
   "cell_type": "code",
   "execution_count": null,
   "metadata": {},
   "outputs": [],
   "source": []
  }
 ],
 "metadata": {
  "kernelspec": {
   "display_name": "Python 3",
   "language": "python",
   "name": "python3"
  }
 },
 "nbformat": 4,
 "nbformat_minor": 0
}