{
 "cells": [
  {
   "cell_type": "markdown",
   "metadata": {},
   "source": [
    "Demonstrations for the theory of <a class=\"ProveItLink\" href=\"theory.ipynb\">proveit.logic.equality</a>\n",
    "========"
   ]
  },
  {
   "cell_type": "code",
   "execution_count": 1,
   "metadata": {},
   "outputs": [],
   "source": [
    "import proveit\n",
    "%begin demonstrations"
   ]
  },
  {
   "cell_type": "markdown",
   "metadata": {},
   "source": [
    "## Substitution"
   ]
  },
  {
   "cell_type": "markdown",
   "metadata": {},
   "source": [
    "Equality is a fundamental concept of logic.  When two mathematical operations are equal, then one may be substituted for the other.  This is rule is defined by the `substitution` axiom:"
   ]
  },
  {
   "cell_type": "code",
   "execution_count": 2,
   "metadata": {},
   "outputs": [
    {
     "data": {
      "text/html": [
       "<span style=\"font-size:20px;\"> <a class=\"ProveItLink\" href=\"axioms.ipynb#substitution\" style=\"text-decoration: none\">&nbsp;&#x22A2;&nbsp;&nbsp;</a><a class=\"ProveItLink\" href=\"../__pv_it/axioms/fb5aa0007e656f471030da411c3555b23b265d8f0/expr.ipynb\"><img src=\"data:image/png;base64,iVBORw0KGgoAAAANSUhEUgAAAOcAAAAWBAMAAADJFJavAAAAMFBMVEX///8QEBCIiIhmZma6urrM\n",
       "zMxUVFQiIiJERETc3Nzu7u6qqqp2dnaYmJgyMjIAAAAcRTyBAAAAAXRSTlMAQObYZgAAAuNJREFU\n",
       "SMe1Vk1oE1EQniSbbLLZ/BwUD70sCXiQQsWiINga9CCIkuDBa4PoQVBYxJN66EmSQG0EQUGEtYg/\n",
       "PdiCB/Fk0INiRQKC6EHZgx4UKkEsSLz45s28/XHTlgQ68L1M3nx5X/bNm3kLMKpluv972fZm3GcM\n",
       "F798HkH0IQ7Gnv3soZ0dQAsxUm3CCn75MYLod7nKyl/20B4PoIUYhku4hU8/O7xmbjeOS0cr7KGZ\n",
       "VpQXZrwg5B1BXh5eVJcJfO558kGKUV6YcZeQe7O4eHOE3aXfvPI8aV+jvDAjXyH8aTSujCBaxuH9\n",
       "jknyFnbeGBd7+zJCUwyjbMF1B0yx0YgzAE0MH+hGfqFtIDonx1/kGZ3cBV0ckC8ysz+lcR6ZYWpF\n",
       "mBD76hIOy/MEZqkTWTi9gehlWX9r5JmO2ddE4p5GK5QZtxMuNEQp2wQd4l3e7WFEt8l20CPPgLQs\n",
       "gJkITTGcmIUPnewRzK6O0YIzgqhpK69gDRb1GFUnueaLZtyTWHbzU0gpnxAphkN1uOSL8iQEAmp7\n",
       "03XlzdRwPBLIaR1CjGmIi4LSbAI0T2P0Iw67Uu5F8dHpJ4u+KE6mGsLmvIA6SDGLvKwzAXGHD1LI\n",
       "FAOuSn11kOAJKsMkDrU8pjdzz47P+qI0CcEAcHUsVcirLs/DHayAaENiBuyDqlgm0SFwOqgECrJ3\n",
       "JDopK5DTgtdQVEDtZJW9+6WFKfxn3yKiiiEoB8Uy+RoBcvIIbQc6CTijV2K1gKiYTGGWVr2Aam2v\n",
       "IdwG7YhogDEt8IDB/D5kWpneO+hkWqDXqv7plZNKiQPU8LP1Vb/1D2z4PiPlGr/9hq+ajw3JMeP8\n",
       "sXEnOQbaqWu+qJxULA6gNUFvueytd7X5DL2btvyrLXBTZfnvwSPOcKROVYAu8Vy57V/nIXVvVY+h\n",
       "lfbigm0Cd/8PNXqRkO8T5zR3sKgKDH5dyW36uvKJwdkoiYEjXTj+dp2OpAJbaYktWvcfpC3c9HKM\n",
       "He8AAAAASUVORK5CYII=\n",
       "\" style=\"display:inline;vertical-align:middle;\" /></a></span>"
      ],
      "text/plain": [
       "|- forall_{f, x, y | x = y} (f(x) = f(y))"
      ]
     },
     "execution_count": 2,
     "metadata": {},
     "output_type": "execute_result"
    }
   ],
   "source": [
    "from proveit.logic.equality  import substitution\n",
    "from proveit import a, b, c, d, x, y, z, fx # we'll use these later\n",
    "substitution"
   ]
  },
  {
   "cell_type": "markdown",
   "metadata": {},
   "source": [
    "The English translation of this axiom is: for any function $f$ and any $x, y$ such that $x=y$, $f(x) = f(y)$.  In other words, we may substitute $y$ for $x$ in any function whenever $x=y$.  The equality of $x$ and $y$ transfers to an equality between $f(x)$ and $f(y)$.  This is fundamental to the meaning of equality regardless of what $f$ does (as long as it can act on a single argument).  We may instantiate this axiom using any operation for $f$.  For example,"
   ]
  },
  {
   "cell_type": "code",
   "execution_count": 3,
   "metadata": {},
   "outputs": [
    {
     "data": {
      "text/html": [
       "<span style=\"font-size:20px;\"><a class=\"ProveItLink\" href=\"../__pv_it/demonstrations/983cbbd01fb9696d6f8bb12204ac8d0204636b8f0/expr.ipynb\"><img src=\"data:image/png;base64,iVBORw0KGgoAAAANSUhEUgAAADAAAAAOBAMAAACbXIJpAAAAMFBMVEX///9UVFSqqqrMzMwiIiJE\n",
       "RESYmJgyMjK6urru7u4QEBCIiIh2dnZmZmbc3NwAAABRgo0vAAAAAXRSTlMAQObYZgAAAJNJREFU\n",
       "GNNjYMACpi5hwAFqcUl8wiHO8ROHBI8DiOS7c3slmgS79F4FBoauB+wfQLzj5SAAtnZ+Jec/Bs5l\n",
       "DLwBaDr0JzD8ZuD9ycCyAU3iOgPnHwauAIb5Bhje4PjEMP8Agz4Dwo5CEPMbyJz5CgziTA9Qdfxg\n",
       "mJXAwLqBzZEHzSgxhlgGBk7pzQ93oEnM3ZPAAADExyjZCF2gNgAAAABJRU5ErkJggg==\n",
       "\" style=\"display:inline;vertical-align:middle;\" /></a> <a class=\"ProveItLink\" href=\"../__pv_it/demonstrations/ad37fa3a54121cffcfafc740874dbe56a39691bf0/proof.ipynb\" style=\"text-decoration: none\">&nbsp;&#x22A2;&nbsp;&nbsp;</a><a class=\"ProveItLink\" href=\"../__pv_it/demonstrations/7bbffd70d87c8ec2d48235806b16f259bd661b900/expr.ipynb\"><img src=\"data:image/png;base64,iVBORw0KGgoAAAANSUhEUgAAAGgAAAAUBAMAAACT0mUoAAAAMFBMVEX////MzMxUVFR2dna6uroQ\n",
       "EBCqqqqIiIgiIiJmZmYyMjJERETu7u6YmJjc3NwAAACgK8IjAAAAAXRSTlMAQObYZgAAAXlJREFU\n",
       "OMtjYOC7wIAM8hgwwVtkDtsDIHEaVQHTAww9PBtgrNMRQEIPiNehqViAoYkLYc5KID7FwMA7AU2J\n",
       "OYammwjmNyBmLmDgQHfOUQxNfXAWyx+QWwIYXmA4xgFNgK8BzmQGM5cwVCLJTp4eA5RAdy87QoBL\n",
       "vTKBgcGSYS9C1vUB1wegJ8EhYbUKBED+ZuBGxMn5NTz/GBhuMbQxMHB2gIABTywDJzBw2RrQbOIA\n",
       "Gj4DpKKZIf8Aw3cGhgyGEJjbFDj/MHAUMDAwfkDTxArz5COGWQw8nxkY5JE0sW5gOC+AX9NKBpZv\n",
       "IE1tcE3nDRjyQcHagPDTIpjzoJr+MgCdw+ABDwigpgQGLWDC4kVPEvCAeMTwheHoBVBAWMLkBLgL\n",
       "eJuYgcFigKYJHgeMDLoMO4H0ZKBd8FSnXvioBBgXAmiaWBDBebIYZOtCzGR0Ak8yghjeQGKCZYAk\n",
       "WIZ9BLMGN6pjTmFmQm58mRAMQLagZfd7hLI77wMGADHtZu0WX/VqAAAAAElFTkSuQmCC\n",
       "\" style=\"display:inline;vertical-align:middle;\" /></a></span>"
      ],
      "text/plain": [
       "{a = b} |- not(a) = not(b)"
      ]
     },
     "execution_count": 3,
     "metadata": {},
     "output_type": "execute_result"
    }
   ],
   "source": [
    "from proveit.logic import Not, Equals\n",
    "substitution.instantiate({fx:Not(x), x:a, y:b}, assumptions=[Equals(a, b)])"
   ]
  },
  {
   "cell_type": "markdown",
   "metadata": {},
   "source": [
    "There are more convenient ways to apply this substitution rule than manual instantiation that was demonstrated in the previous input.  The `Equals` class has the `substitution`, `sub_left_side_into` and `sub_right_side_into` methods for conveniently applying substitution and its variants, as we will demonstrate below.  Each of these methods takes a `lambda_map` argument to provide a theory for the substitution -- what is being substituted and where.  A `lambda_map` can be an actual **Lambda** expression, an **InnerExpr** object, or if it is neither of these, it can be any other **Expression** for which the default will be to performa a global replacement."
   ]
  },
  {
   "cell_type": "code",
   "execution_count": 4,
   "metadata": {},
   "outputs": [
    {
     "data": {
      "text/html": [
       "<strong id=\"expr\">expr:</strong> <a class=\"ProveItLink\" href=\"../__pv_it/demonstrations/1c9a0bdbd0d497b5d9bf928a51e5d753c1036aea0/expr.ipynb\"><img src=\"data:image/png;base64,iVBORw0KGgoAAAANSUhEUgAAAJoAAAAmBAMAAADO2Z8qAAAAMFBMVEX///9UVFSqqqrMzMwiIiJE\n",
       "RESYmJgyMjK6urru7u4QEBCIiIh2dnZmZmbc3NwAAABRgo0vAAAAAXRSTlMAQObYZgAAApVJREFU\n",
       "SMeVVj1oFEEUfveXu93s7kULLdJsb3FX2yRqJxZnk4AgXKWgzQXERSQQKyGNV2iRQNigJiEI4cwV\n",
       "EWLgCtFCi4hFikRcIZVNjgscWYyn8+6c+9v3ZjdT7LLv59uZ9+b7ZgCYMVKEMw1tTOXdIq3GdpVL\n",
       "eKoAy6xTVusqTHMZo4rJLeYpa7IG59mUhzzaOdL6o8yEm8cAvzgnJFqkeYXtQR0gxi41TXq0Uy4+\n",
       "XhIz8DnvkUeamyKP7vWueDzm0PZo81fQvlFz3t+yxeseh/aGNhsf71Pm5/kJ7MDRHJ1liRbBi9dR\n",
       "efAdLuNLrzG0quNzNiraS3iLr1iJ2T6T+GzIz0tUFyu9srVgagHZUKfRkgUklx8RDTYSx6gRcXqT\n",
       "QhYbbkxGRXuyuYNoCbEY62A/wPAshqbHd+wIaJ+3JaU1sR3nvXR7vZ8cHJ3Ku/gr95HWCkc7tFPd\n",
       "4v8GbRXMQoAKiJYrC3co2g2I2dJ2CqYPycpw6ITd5kObl2LO1x1nBs1/ceBCDMd5sOY4gsxmPzn/\n",
       "gF4AN0+izUKmETo3vTCA5tYgB726zfRW2uz+WIHm1gYkxrXhYnxYMVwMPYHFYihaVoTIullNSFVG\n",
       "rhiBHYJ/vAC3w/ebOQZLslBiv2nj1Z/vhkN1FMul98UIu/fLnW4PMyc0F1KD/O1DS9zaDXJBagUj\n",
       "vsbywOdCfxH+V0krh2X1lsFKPDxjTybmMOkwjhkfeJlzucvGTTZFIaE5j3EwB4Z1UG3waHvspG3S\n",
       "PO+lfJWgc1cUUuJRb0os2Ogy63pFHhc+3mu4ofM3vrtkvNCbuTPe+DpsqFDVlHpDdmhDcfG8Rvcm\n",
       "qDfdA99WnLiHHjVhQm/kmFKd3xZxuST1RvqwoP8AuPKvFXKdTRQAAAAASUVORK5CYII=\n",
       "\" style=\"display:inline;vertical-align:middle;\" /></a><br>"
      ],
      "text/plain": [
       "expr: a = (b + (c / d) + c^{d})"
      ]
     },
     "execution_count": 4,
     "metadata": {},
     "output_type": "execute_result"
    }
   ],
   "source": [
    "from proveit import Lambda\n",
    "from proveit.numbers import Add, frac, Exp\n",
    "expr = Equals(a, Add(b, frac(c, d), Exp(c, d)))          "
   ]
  },
  {
   "cell_type": "markdown",
   "metadata": {},
   "source": [
    "The `global_repl` static method of `Lambda` is useful for creating a global replacement lambda map.  Below, we create a map for replacing every occurence of $d$ in `expr` with anything else:"
   ]
  },
  {
   "cell_type": "code",
   "execution_count": 5,
   "metadata": {},
   "outputs": [
    {
     "data": {
      "text/html": [
       "<strong id=\"g_repl\">g_repl:</strong> <a class=\"ProveItLink\" href=\"../__pv_it/demonstrations/89a1f5dc47e8e56da69185cd83de9ceaf602d1bc0/expr.ipynb\"><img src=\"data:image/png;base64,iVBORw0KGgoAAAANSUhEUgAAARAAAAAyCAMAAACjx3SuAAAANlBMVEX///8oKCgNDQ1UVFSqqqrM\n",
       "zMwiIiKYmJgyMjIQEBCIiIh2dnZmZmbc3Nzu7u5ERES6uroAAADIdaz2AAAAAXRSTlMAQObYZgAA\n",
       "A35JREFUaN7VW9ty3SAMpAVzN5f//9naxzmJwQeMQaitXjKayRIsxEoLhBAIMwEPBWKO1tzxeBg8\n",
       "FJAFWXMHTVM8FJgJWXOHjCk8FKB5U3NHtqMKaChQGklnADchb/FQoJblKFTKsujQUMDGTc3tHtXi\n",
       "obbKpLVewFIkrhW3l6y7RulDkZWzbbPB1YNsWTjENuYeD3UkNWVwpTfduAJgHy8xoKGIhSYeF3XF\n",
       "7TKr8FBEeQJsUtbcrjlSPJSL4L2+TrlMD9PqEgUaipAvGByHkDWdydo5sdGQ9i6E3RPL2ZGy66ym\n",
       "cinmqhrVV17hoV76WIgh3nN82fLzRM2epzPjoxTiB1HOK07wzG6dxnL+gyamEY+jZcsOoySmqFEs\n",
       "O3YQcSFlt4Md9TAqXjiS9e2KBpjbycsL50pf8PCD9HoRAz2Mn6DCtdmaFxCi1r0pFMUcf5jyzF5a\n",
       "354MS1CGk8kBcfawfRUC1Uzbc22NaV2J1zKzWmO1ei9bSpq8Wj9TZGPVlVRry+YEpEUaR19z9xhu\n",
       "WUVk/BwClv26Oed7hiRGnswWUC5Kd2xt8IC0SWMla+5+kLbnk/WFnNDeldRWjmzTaMdBUUplQAFp\n",
       "k8ZZ1b80Acdk+ffYv3/JxGKiU2ksI8uWoORZpBxJxdXrx/dujiVLczGDNUpjrmruV8/kfliPp6MG\n",
       "HkqfliPbAvLaSyEtVjAZ0tgz3gTkWCsWCzS6SFdK/gsy5RBa2DIvNZUtJkhAWqUx5zV3G2ZfKyoJ\n",
       "Wz8FRK45qa5FZEWRnDh034EH+0BnSKM0viNVv40qOCXv8CZTDfZSQJcislZ2f1BUXG8kYALSKI2v\n",
       "cjf4t+1567a2YFmp/njEdxldnCi2iiyjrDZiTmPWJo2z1jSOKSvWdTZ6h5rYut+dwo0eys05MHN9\n",
       "R8ldsDFxd5twU1FTLJOnfWr1XKUkHmqKmVQ1mNFTZhvxUFOMxprbo+QdGuq5rG45QvM97W2Nkxga\n",
       "qiirR0Kbkug6fnWHeVH1WFbfG/hF1d8gkXZZfW/QtxC7UA1oqMeyuqEB0DW3r/Civpf5KKtHdoyr\n",
       "uP9JnXkgq59ymQJ5KKoMHuqhrL5vUyc8qcJ4dPdAkD+y7NIQ6g6xbxz5LzzLdBV3oLlRCxoK0qY9\n",
       "3CWM46EgZYytuWPdGcVDgZnwNXc02BoPBWRT/z1kW+2Ah4IhEOoK7h9A2ytgtZnijwAAAABJRU5E\n",
       "rkJggg==\n",
       "\" style=\"display:inline;vertical-align:middle;\" /></a><br>"
      ],
      "text/plain": [
       "g_repl: _a -> (a = (b + (c / _a) + c^{_a}))"
      ]
     },
     "execution_count": 5,
     "metadata": {},
     "output_type": "execute_result"
    }
   ],
   "source": [
    "g_repl = Lambda.global_repl(expr, d)"
   ]
  },
  {
   "cell_type": "markdown",
   "metadata": {},
   "source": [
    "We now use this lambda map to replace occurences of $d$ in `expr` with $y$:"
   ]
  },
  {
   "cell_type": "code",
   "execution_count": 6,
   "metadata": {},
   "outputs": [
    {
     "data": {
      "text/html": [
       "<strong id=\"d_eq_y\">d_eq_y:</strong> <a class=\"ProveItLink\" href=\"../__pv_it/demonstrations/d4ab56243a59ba35c617968a2993e307e3f3268c0/expr.ipynb\"><img src=\"data:image/png;base64,iVBORw0KGgoAAAANSUhEUgAAADEAAAASBAMAAAAAiiu3AAAAMFBMVEX///9UVFSYmJiIiIjc3Nwy\n",
       "MjIiIiJ2dnbu7u66urqqqqpmZmYQEBBERETMzMwAAAAYOWz6AAAAAXRSTlMAQObYZgAAALRJREFU\n",
       "GNNjYGBg4LuzgQEH4F+AS2Z+Ay6ZMlwSDNHYhVm22/1CFeGwNmDwAVowx4H3B4hfGgoCIO3snAcY\n",
       "7IEKDjFwB6Dq8QIK3GVg4P7BwFaAKtPAY8DwmYGB5wJD/wQMX/D9Y2DoL2BYz4CwJxDE3MrAfAAo\n",
       "s4BBlMsBVc9FBl4BBgZeA6ZEdjTTNjLMVwC6TdjO0RJNptF4vwOuUNmKXZgxgOMndhk2BV4D7DKc\n",
       "xvuAJACxMCbcEMrT2gAAAABJRU5ErkJggg==\n",
       "\" style=\"display:inline;vertical-align:middle;\" /></a><br>"
      ],
      "text/plain": [
       "d_eq_y: d = y"
      ]
     },
     "execution_count": 6,
     "metadata": {},
     "output_type": "execute_result"
    }
   ],
   "source": [
    "d_eq_y = Equals(d, y)"
   ]
  },
  {
   "cell_type": "code",
   "execution_count": 7,
   "metadata": {},
   "outputs": [
    {
     "data": {
      "text/html": [
       "<span style=\"font-size:20px;\"><a class=\"ProveItLink\" href=\"../__pv_it/demonstrations/d4ab56243a59ba35c617968a2993e307e3f3268c0/expr.ipynb\"><img src=\"data:image/png;base64,iVBORw0KGgoAAAANSUhEUgAAADEAAAASBAMAAAAAiiu3AAAAMFBMVEX///9UVFSYmJiIiIjc3Nwy\n",
       "MjIiIiJ2dnbu7u66urqqqqpmZmYQEBBERETMzMwAAAAYOWz6AAAAAXRSTlMAQObYZgAAALRJREFU\n",
       "GNNjYGBg4LuzgQEH4F+AS2Z+Ay6ZMlwSDNHYhVm22/1CFeGwNmDwAVowx4H3B4hfGgoCIO3snAcY\n",
       "7IEKDjFwB6Dq8QIK3GVg4P7BwFaAKtPAY8DwmYGB5wJD/wQMX/D9Y2DoL2BYz4CwJxDE3MrAfAAo\n",
       "s4BBlMsBVc9FBl4BBgZeA6ZEdjTTNjLMVwC6TdjO0RJNptF4vwOuUNmKXZgxgOMndhk2BV4D7DKc\n",
       "xvuAJACxMCbcEMrT2gAAAABJRU5ErkJggg==\n",
       "\" style=\"display:inline;vertical-align:middle;\" /></a> <a class=\"ProveItLink\" href=\"../__pv_it/demonstrations/0bb53bb7e9df6ab576b2b1d0c29d65ea91ad8f140/proof.ipynb\" style=\"text-decoration: none\">&nbsp;&#x22A2;&nbsp;&nbsp;</a><a class=\"ProveItLink\" href=\"../__pv_it/demonstrations/6706326b832608c68e94a15358589be3ff80ed5e0/expr.ipynb\"><img src=\"data:image/png;base64,iVBORw0KGgoAAAANSUhEUgAAAY0AAAAyBAMAAABSYpr2AAAAMFBMVEX///92dnaqqqpEREQiIiJm\n",
       "Zmbc3NxUVFTMzMzu7u4QEBC6uroyMjKIiIiYmJgAAABs22DkAAAAAXRSTlMAQObYZgAABj5JREFU\n",
       "aN7FWk9oHFUYf/tvdmc32V2hvVTb7EE8BENyUAqlxbRSDf4jVaGiidlDi9pLghcvWbogePBg5mAp\n",
       "ici2BG2KtuQgCEHJIpZcAgZKaYmGrOhF0WYNGCLa6pv3Zmfe7Hy/t7Nb2b7D+8K8me973/8/Wca6\n",
       "uh6EJ5HFNlGdb4LdXJE8PHqgXVyZqh92c92EJ71TbSP7rQl2b0UvwKP+9rHF8n7YvTUHfcD8rH1s\n",
       "jW86+fbe1uNYtqMdoOtvgtkaevN2RzEERZDoX/DDQasDPuJ5P/wBOh8dCvZvlLUxBEWQOBb6cXSA\n",
       "aXG57Phg5jJ6cYmU0qlCrKoPSCAsbRXRZ9kdcKCj5XEv4Rzi2FwgHx9lyQLC3FPz9sB6ElvIEDjQ\n",
       "0eKCsVT4DnotScb0BLTyiTIzhG4NUsOpv+GFZkAgw7TEqqwpMLUDsZN2kB6CaF2hkKJJ4OzxKniO\n",
       "aUntVxXYAzPpCn1bmHYetXkXKp6hHCuNU/YlJBl9iuvdUeAk8j6DVlSOGz9ts3ttqQhV96xR6oXh\n",
       "PXUXHGBa8oZ3FTiG3krQkSIxxc5RkeHcxjd25BHGk6VMaLPYSq5haWVusril6tGGVxD29BqoTG9T\n",
       "B+ZIynZKQzizQbn0IZzNoefQtCI5633xx2POAw6NXYRjkkvCPDQcMrkmRlPiNheZt/vXPPxWunN4\n",
       "Wm99wa6LP/qcBxxm6zA6C0sPW/ikC7L0nmbe7lfYnzh+SiKhabETrCSv6BgdhwkohJeFpzXcLEop\n",
       "eEC5SzH2i22zm9IXCGe+g9OHxO3SGmB6WuxZtqB+aEOYSmX6XbZC8pEuznwgKr6it/uroW1cJUoG\n",
       "XFot+RjJ1FVF2jAHlSnsYA8LyUemNPC6EE3B2/011C6uL6R57GFh+fjyuoylOSclcZgT9zu9dz2Q\n",
       "uoQdrGy8GIKPyMYt175q3k4FV+PE+GUQkV1aWj44LbMYk/hzjjFxKChmPmXfiXdWxRIqMu3kYv5j\n",
       "VYot+TCOscNu6lrzdvaQQHdN0pe10lKxp9581Cdk6NHS8WHTSua/coy56sJJm4+5GnuJTJa89XGu\n",
       "pOODNzJvu3zkvZ2o+cyrLBHwyAmL+Wjp+LBpZX500KeHXSgsmSN6PhBftmVOt2scrqdvP19dta0x\n",
       "96+9HIk+s7q64t7D4WPU2/3Vc93hJh6QyNlG/WDT8tC2pMXiF1wo+Jhn5i7JBw/py4WW+lAzXAs+\n",
       "eMqrlGk+PFo6ffiyqcKHbVfmHyxaV/xjyrUrXqg5AtDwwT9vLlGdQlU6wYpiV/xgMHAkSXi0NHz4\n",
       "aLH4sAvtHsTcZsnqI835145XuUVu0C31wTmOutVMzdv9RZGIV5UCm442J5c+8cCjpdOHSkv1c+GR\n",
       "R9jPUwHPtDlP1hoTGR0fJ5n5ipubUf7oFZYbW8s+HQnEXWFpHi0dHyott6XhUPx5fuO90iLV3Jjj\n",
       "B0LkwciB391Hy4ve7s+DogY2S7fe+D6QB8XbHi0dHyot1w05xPOIw/6yQuHj3U8wQdnzbwUbwihu\n",
       "zwcXcerWPmz0ixxGYO2/z+8u6s0apdIs+mpfG01fsFOcpV6axQWmDfGQD8/4Mpoxxgps7XHdnutk\n",
       "KqoUmDY0oZgqsJ+O4IZHoiORPofHV9UO+egrevAg7DbhfEPT8MgZZZRquCdwL1nvkI+zCvwVDiuB\n",
       "55zeP4NnGHI4QY4otqCdZpGdfjwOZnpNrfK8zEzAROjGh9fGT1ia9tbbm50Scp9CLVZ+ifVqdGXc\n",
       "UWAvNE56Ds9r4zGMel3Z73kOZxTGWGwo5ByOLUDZlskprsWOYtRXlT28FwDXMdmVRilPe/CwCuH/\n",
       "CbNV2iZNnNGkcmkVZ/Bny4swwM+UMR8NHiWMQY6PUDJq1MbkOlP09sA6jgPvKIwa6xo337RUaI6g\n",
       "9z4sk94frI3dw2Pe/n8ELB76D2r4uOSHp9Dg1XiKVBJRGzfo1ryd8Dc8Pb+I5rsZXM00/1+NGdAE\n",
       "3ySekbWxsz5SdoJu2//nNEs3djAfjXTc02lZ0+m61vJKIK/Sq9/yw66tM1DxBh38p1kF/3zm/v0O\n",
       "IIrry4fJpy+QIbMxuBj1wy6uk7guI5P91zc02eOnJtjFlcTJudQurvv5uyX2GlZI278js1T4H7xq\n",
       "9NnbPTtVAAAAAElFTkSuQmCC\n",
       "\" style=\"display:inline;vertical-align:middle;\" /></a></span>"
      ],
      "text/plain": [
       "{d = y} |- (a = (b + (c / d) + c^{d})) = (a = (b + (c / y) + c^{y}))"
      ]
     },
     "execution_count": 7,
     "metadata": {},
     "output_type": "execute_result"
    }
   ],
   "source": [
    "d_eq_y.substitution(g_repl, assumptions=[d_eq_y])"
   ]
  },
  {
   "cell_type": "markdown",
   "metadata": {},
   "source": [
    "Or we can take advantage of that a global replacement is performed by default when a non-**Lambda** expression is provided as the \"`lambda_map`\"."
   ]
  },
  {
   "cell_type": "code",
   "execution_count": 8,
   "metadata": {},
   "outputs": [
    {
     "data": {
      "text/html": [
       "<span style=\"font-size:20px;\"><a class=\"ProveItLink\" href=\"../__pv_it/demonstrations/d4ab56243a59ba35c617968a2993e307e3f3268c0/expr.ipynb\"><img src=\"data:image/png;base64,iVBORw0KGgoAAAANSUhEUgAAADEAAAASBAMAAAAAiiu3AAAAMFBMVEX///9UVFSYmJiIiIjc3Nwy\n",
       "MjIiIiJ2dnbu7u66urqqqqpmZmYQEBBERETMzMwAAAAYOWz6AAAAAXRSTlMAQObYZgAAALRJREFU\n",
       "GNNjYGBg4LuzgQEH4F+AS2Z+Ay6ZMlwSDNHYhVm22/1CFeGwNmDwAVowx4H3B4hfGgoCIO3snAcY\n",
       "7IEKDjFwB6Dq8QIK3GVg4P7BwFaAKtPAY8DwmYGB5wJD/wQMX/D9Y2DoL2BYz4CwJxDE3MrAfAAo\n",
       "s4BBlMsBVc9FBl4BBgZeA6ZEdjTTNjLMVwC6TdjO0RJNptF4vwOuUNmKXZgxgOMndhk2BV4D7DKc\n",
       "xvuAJACxMCbcEMrT2gAAAABJRU5ErkJggg==\n",
       "\" style=\"display:inline;vertical-align:middle;\" /></a> <a class=\"ProveItLink\" href=\"../__pv_it/demonstrations/0bb53bb7e9df6ab576b2b1d0c29d65ea91ad8f140/proof.ipynb\" style=\"text-decoration: none\">&nbsp;&#x22A2;&nbsp;&nbsp;</a><a class=\"ProveItLink\" href=\"../__pv_it/demonstrations/6706326b832608c68e94a15358589be3ff80ed5e0/expr.ipynb\"><img src=\"data:image/png;base64,iVBORw0KGgoAAAANSUhEUgAAAY0AAAAyBAMAAABSYpr2AAAAMFBMVEX///92dnaqqqpEREQiIiJm\n",
       "Zmbc3NxUVFTMzMzu7u4QEBC6uroyMjKIiIiYmJgAAABs22DkAAAAAXRSTlMAQObYZgAABj5JREFU\n",
       "aN7FWk9oHFUYf/tvdmc32V2hvVTb7EE8BENyUAqlxbRSDf4jVaGiidlDi9pLghcvWbogePBg5mAp\n",
       "ici2BG2KtuQgCEHJIpZcAgZKaYmGrOhF0WYNGCLa6pv3Zmfe7Hy/t7Nb2b7D+8K8me973/8/Wca6\n",
       "uh6EJ5HFNlGdb4LdXJE8PHqgXVyZqh92c92EJ71TbSP7rQl2b0UvwKP+9rHF8n7YvTUHfcD8rH1s\n",
       "jW86+fbe1uNYtqMdoOtvgtkaevN2RzEERZDoX/DDQasDPuJ5P/wBOh8dCvZvlLUxBEWQOBb6cXSA\n",
       "aXG57Phg5jJ6cYmU0qlCrKoPSCAsbRXRZ9kdcKCj5XEv4Rzi2FwgHx9lyQLC3FPz9sB6ElvIEDjQ\n",
       "0eKCsVT4DnotScb0BLTyiTIzhG4NUsOpv+GFZkAgw7TEqqwpMLUDsZN2kB6CaF2hkKJJ4OzxKniO\n",
       "aUntVxXYAzPpCn1bmHYetXkXKp6hHCuNU/YlJBl9iuvdUeAk8j6DVlSOGz9ts3ttqQhV96xR6oXh\n",
       "PXUXHGBa8oZ3FTiG3krQkSIxxc5RkeHcxjd25BHGk6VMaLPYSq5haWVusril6tGGVxD29BqoTG9T\n",
       "B+ZIynZKQzizQbn0IZzNoefQtCI5633xx2POAw6NXYRjkkvCPDQcMrkmRlPiNheZt/vXPPxWunN4\n",
       "Wm99wa6LP/qcBxxm6zA6C0sPW/ikC7L0nmbe7lfYnzh+SiKhabETrCSv6BgdhwkohJeFpzXcLEop\n",
       "eEC5SzH2i22zm9IXCGe+g9OHxO3SGmB6WuxZtqB+aEOYSmX6XbZC8pEuznwgKr6it/uroW1cJUoG\n",
       "XFot+RjJ1FVF2jAHlSnsYA8LyUemNPC6EE3B2/011C6uL6R57GFh+fjyuoylOSclcZgT9zu9dz2Q\n",
       "uoQdrGy8GIKPyMYt175q3k4FV+PE+GUQkV1aWj44LbMYk/hzjjFxKChmPmXfiXdWxRIqMu3kYv5j\n",
       "VYot+TCOscNu6lrzdvaQQHdN0pe10lKxp9581Cdk6NHS8WHTSua/coy56sJJm4+5GnuJTJa89XGu\n",
       "pOODNzJvu3zkvZ2o+cyrLBHwyAmL+Wjp+LBpZX500KeHXSgsmSN6PhBftmVOt2scrqdvP19dta0x\n",
       "96+9HIk+s7q64t7D4WPU2/3Vc93hJh6QyNlG/WDT8tC2pMXiF1wo+Jhn5i7JBw/py4WW+lAzXAs+\n",
       "eMqrlGk+PFo6ffiyqcKHbVfmHyxaV/xjyrUrXqg5AtDwwT9vLlGdQlU6wYpiV/xgMHAkSXi0NHz4\n",
       "aLH4sAvtHsTcZsnqI835145XuUVu0C31wTmOutVMzdv9RZGIV5UCm442J5c+8cCjpdOHSkv1c+GR\n",
       "R9jPUwHPtDlP1hoTGR0fJ5n5ipubUf7oFZYbW8s+HQnEXWFpHi0dHyott6XhUPx5fuO90iLV3Jjj\n",
       "B0LkwciB391Hy4ve7s+DogY2S7fe+D6QB8XbHi0dHyot1w05xPOIw/6yQuHj3U8wQdnzbwUbwihu\n",
       "zwcXcerWPmz0ixxGYO2/z+8u6s0apdIs+mpfG01fsFOcpV6axQWmDfGQD8/4Mpoxxgps7XHdnutk\n",
       "KqoUmDY0oZgqsJ+O4IZHoiORPofHV9UO+egrevAg7DbhfEPT8MgZZZRquCdwL1nvkI+zCvwVDiuB\n",
       "55zeP4NnGHI4QY4otqCdZpGdfjwOZnpNrfK8zEzAROjGh9fGT1ia9tbbm50Scp9CLVZ+ifVqdGXc\n",
       "UWAvNE56Ds9r4zGMel3Z73kOZxTGWGwo5ByOLUDZlskprsWOYtRXlT28FwDXMdmVRilPe/CwCuH/\n",
       "CbNV2iZNnNGkcmkVZ/Bny4swwM+UMR8NHiWMQY6PUDJq1MbkOlP09sA6jgPvKIwa6xo337RUaI6g\n",
       "9z4sk94frI3dw2Pe/n8ELB76D2r4uOSHp9Dg1XiKVBJRGzfo1ryd8Dc8Pb+I5rsZXM00/1+NGdAE\n",
       "3ySekbWxsz5SdoJu2//nNEs3djAfjXTc02lZ0+m61vJKIK/Sq9/yw66tM1DxBh38p1kF/3zm/v0O\n",
       "IIrry4fJpy+QIbMxuBj1wy6uk7guI5P91zc02eOnJtjFlcTJudQurvv5uyX2GlZI278js1T4H7xq\n",
       "9NnbPTtVAAAAAElFTkSuQmCC\n",
       "\" style=\"display:inline;vertical-align:middle;\" /></a></span>"
      ],
      "text/plain": [
       "{d = y} |- (a = (b + (c / d) + c^{d})) = (a = (b + (c / y) + c^{y}))"
      ]
     },
     "execution_count": 8,
     "metadata": {},
     "output_type": "execute_result"
    }
   ],
   "source": [
    "d_eq_y.substitution(expr, assumptions=[d_eq_y])"
   ]
  },
  {
   "cell_type": "markdown",
   "metadata": {},
   "source": [
    "Either way, the generated proof is the same:"
   ]
  },
  {
   "cell_type": "code",
   "execution_count": 9,
   "metadata": {},
   "outputs": [
    {
     "data": {
      "text/html": [
       "<table><tr><th>&nbsp;</th><th>step type</th><th>requirements</th><th>statement</th></tr>\n",
       "<tr><td><a name=\"-0x1341f3b153c9f5d1_step0\">0</a></td><td>instantiation</td><td><a href=\"#-0x1341f3b153c9f5d1_step1\">1</a>, <a href=\"#-0x1341f3b153c9f5d1_step2\">2</a></td><td><span style=\"font-size:20px;\"><a class=\"ProveItLink\" href=\"../__pv_it/demonstrations/d4ab56243a59ba35c617968a2993e307e3f3268c0/expr.ipynb\"><img src=\"data:image/png;base64,iVBORw0KGgoAAAANSUhEUgAAADEAAAASBAMAAAAAiiu3AAAAMFBMVEX///9UVFSYmJiIiIjc3Nwy\n",
       "MjIiIiJ2dnbu7u66urqqqqpmZmYQEBBERETMzMwAAAAYOWz6AAAAAXRSTlMAQObYZgAAALRJREFU\n",
       "GNNjYGBg4LuzgQEH4F+AS2Z+Ay6ZMlwSDNHYhVm22/1CFeGwNmDwAVowx4H3B4hfGgoCIO3snAcY\n",
       "7IEKDjFwB6Dq8QIK3GVg4P7BwFaAKtPAY8DwmYGB5wJD/wQMX/D9Y2DoL2BYz4CwJxDE3MrAfAAo\n",
       "s4BBlMsBVc9FBl4BBgZeA6ZEdjTTNjLMVwC6TdjO0RJNptF4vwOuUNmKXZgxgOMndhk2BV4D7DKc\n",
       "xvuAJACxMCbcEMrT2gAAAABJRU5ErkJggg==\n",
       "\" style=\"display:inline;vertical-align:middle;\" /></a> <a class=\"ProveItLink\" href=\"../__pv_it/demonstrations/0bb53bb7e9df6ab576b2b1d0c29d65ea91ad8f140/proof.ipynb\" style=\"text-decoration: none\">&nbsp;&#x22A2;&nbsp;&nbsp;</a><a class=\"ProveItLink\" href=\"../__pv_it/demonstrations/6706326b832608c68e94a15358589be3ff80ed5e0/expr.ipynb\"><img src=\"data:image/png;base64,iVBORw0KGgoAAAANSUhEUgAAAY0AAAAyBAMAAABSYpr2AAAAMFBMVEX///92dnaqqqpEREQiIiJm\n",
       "Zmbc3NxUVFTMzMzu7u4QEBC6uroyMjKIiIiYmJgAAABs22DkAAAAAXRSTlMAQObYZgAABj5JREFU\n",
       "aN7FWk9oHFUYf/tvdmc32V2hvVTb7EE8BENyUAqlxbRSDf4jVaGiidlDi9pLghcvWbogePBg5mAp\n",
       "ici2BG2KtuQgCEHJIpZcAgZKaYmGrOhF0WYNGCLa6pv3Zmfe7Hy/t7Nb2b7D+8K8me973/8/Wca6\n",
       "uh6EJ5HFNlGdb4LdXJE8PHqgXVyZqh92c92EJ71TbSP7rQl2b0UvwKP+9rHF8n7YvTUHfcD8rH1s\n",
       "jW86+fbe1uNYtqMdoOtvgtkaevN2RzEERZDoX/DDQasDPuJ5P/wBOh8dCvZvlLUxBEWQOBb6cXSA\n",
       "aXG57Phg5jJ6cYmU0qlCrKoPSCAsbRXRZ9kdcKCj5XEv4Rzi2FwgHx9lyQLC3FPz9sB6ElvIEDjQ\n",
       "0eKCsVT4DnotScb0BLTyiTIzhG4NUsOpv+GFZkAgw7TEqqwpMLUDsZN2kB6CaF2hkKJJ4OzxKniO\n",
       "aUntVxXYAzPpCn1bmHYetXkXKp6hHCuNU/YlJBl9iuvdUeAk8j6DVlSOGz9ts3ttqQhV96xR6oXh\n",
       "PXUXHGBa8oZ3FTiG3krQkSIxxc5RkeHcxjd25BHGk6VMaLPYSq5haWVusril6tGGVxD29BqoTG9T\n",
       "B+ZIynZKQzizQbn0IZzNoefQtCI5633xx2POAw6NXYRjkkvCPDQcMrkmRlPiNheZt/vXPPxWunN4\n",
       "Wm99wa6LP/qcBxxm6zA6C0sPW/ikC7L0nmbe7lfYnzh+SiKhabETrCSv6BgdhwkohJeFpzXcLEop\n",
       "eEC5SzH2i22zm9IXCGe+g9OHxO3SGmB6WuxZtqB+aEOYSmX6XbZC8pEuznwgKr6it/uroW1cJUoG\n",
       "XFot+RjJ1FVF2jAHlSnsYA8LyUemNPC6EE3B2/011C6uL6R57GFh+fjyuoylOSclcZgT9zu9dz2Q\n",
       "uoQdrGy8GIKPyMYt175q3k4FV+PE+GUQkV1aWj44LbMYk/hzjjFxKChmPmXfiXdWxRIqMu3kYv5j\n",
       "VYot+TCOscNu6lrzdvaQQHdN0pe10lKxp9581Cdk6NHS8WHTSua/coy56sJJm4+5GnuJTJa89XGu\n",
       "pOODNzJvu3zkvZ2o+cyrLBHwyAmL+Wjp+LBpZX500KeHXSgsmSN6PhBftmVOt2scrqdvP19dta0x\n",
       "96+9HIk+s7q64t7D4WPU2/3Vc93hJh6QyNlG/WDT8tC2pMXiF1wo+Jhn5i7JBw/py4WW+lAzXAs+\n",
       "eMqrlGk+PFo6ffiyqcKHbVfmHyxaV/xjyrUrXqg5AtDwwT9vLlGdQlU6wYpiV/xgMHAkSXi0NHz4\n",
       "aLH4sAvtHsTcZsnqI835145XuUVu0C31wTmOutVMzdv9RZGIV5UCm442J5c+8cCjpdOHSkv1c+GR\n",
       "R9jPUwHPtDlP1hoTGR0fJ5n5ipubUf7oFZYbW8s+HQnEXWFpHi0dHyott6XhUPx5fuO90iLV3Jjj\n",
       "B0LkwciB391Hy4ve7s+DogY2S7fe+D6QB8XbHi0dHyot1w05xPOIw/6yQuHj3U8wQdnzbwUbwihu\n",
       "zwcXcerWPmz0ixxGYO2/z+8u6s0apdIs+mpfG01fsFOcpV6axQWmDfGQD8/4Mpoxxgps7XHdnutk\n",
       "KqoUmDY0oZgqsJ+O4IZHoiORPofHV9UO+egrevAg7DbhfEPT8MgZZZRquCdwL1nvkI+zCvwVDiuB\n",
       "55zeP4NnGHI4QY4otqCdZpGdfjwOZnpNrfK8zEzAROjGh9fGT1ia9tbbm50Scp9CLVZ+ifVqdGXc\n",
       "UWAvNE56Ds9r4zGMel3Z73kOZxTGWGwo5ByOLUDZlskprsWOYtRXlT28FwDXMdmVRilPe/CwCuH/\n",
       "CbNV2iZNnNGkcmkVZ/Bny4swwM+UMR8NHiWMQY6PUDJq1MbkOlP09sA6jgPvKIwa6xo337RUaI6g\n",
       "9z4sk94frI3dw2Pe/n8ELB76D2r4uOSHp9Dg1XiKVBJRGzfo1ryd8Dc8Pb+I5rsZXM00/1+NGdAE\n",
       "3ySekbWxsz5SdoJu2//nNEs3djAfjXTc02lZ0+m61vJKIK/Sq9/yw66tM1DxBh38p1kF/3zm/v0O\n",
       "IIrry4fJpy+QIbMxuBj1wy6uk7guI5P91zc02eOnJtjFlcTJudQurvv5uyX2GlZI278js1T4H7xq\n",
       "9NnbPTtVAAAAAElFTkSuQmCC\n",
       "\" style=\"display:inline;vertical-align:middle;\" /></a></span></td></tr>\n",
       "<tr><td>&nbsp;</td><td colspan=4 style=\"text-align:left\"><span style=\"font-size:20px;\"><a class=\"ProveItLink\" href=\"../__pv_it/demonstrations/70aa3c2b4d2675b52b04f7282299b18f6f24027d0/expr.ipynb\"><img src=\"data:image/png;base64,iVBORw0KGgoAAAANSUhEUgAAADIAAAAUBAMAAAA95HOpAAAAMFBMVEX///8yMjJERETMzMwQEBCY\n",
       "mJgiIiK6urqqqqp2dnZUVFTc3NyIiIhmZmbu7u4AAADOOTK3AAAAAXRSTlMAQObYZgAAAPhJREFU\n",
       "KM9jYICCrQzIgGMDmHp7dgMDnwKKDMNqMLmyv4GBcQOqzEMQwff9OQNDLKoEA+cBkJkfgEQ2mgyf\n",
       "A0g6gYGBOwFNhkGcgYH1Su4FBp4LCLG9c488YGCYC2TxA41kCoBLsHszyAOpQCDeb8DAwNYAl3kS\n",
       "wHAJSLUBcT8QsxTAZe4/YMgBUvZAPA1VxomB7zNURosB2TS+nxBvlAGxDwOyC/h+MHAJdINdwPcd\n",
       "5CeEq3UYwhZMYGC4CXQlSC870KdFSkDwgOHVGes1QFuFgcrBoYwROgkMXYxgK7CEaBI4vBmYMGMh\n",
       "5jZEN1rMaSOYqLHNuoEBAG5lOWYfr0riAAAAAElFTkSuQmCC\n",
       "\" style=\"display:inline;vertical-align:middle;\" /></a> : <a class=\"ProveItLink\" href=\"../__pv_it/demonstrations/53c850fa54cb26cca0b3d81f98dd2c329a313ad20/expr.ipynb\"><img src=\"data:image/png;base64,iVBORw0KGgoAAAANSUhEUgAAALkAAAAyBAMAAADy9Gd0AAAAMFBMVEX///9UVFSqqqrMzMwiIiJE\n",
       "RESYmJgyMjK6urru7u4QEBCIiIh2dnZmZmbc3NwAAABRgo0vAAAAAXRSTlMAQObYZgAAAsFJREFU\n",
       "WMO1WL9v01AQvvxwE6dxbLEwZKgHJjqk/0ECbKhIHUAIpiyAEENdgeS1EwNLwshQuRUqUIkhqAtS\n",
       "hnZAZQApoUgMlKhG4g+oGIoqEOAfCbh+787Pfu1bovj0Pt/77u67ewbAVnUZJNbjBPt7GXAoW6R5\n",
       "2pBChzuk9bwcOCjbhFF9IYlOAihDSXTy8I2uLHqRoOYKse9df04APf8bNU3hJvhmKpaI87iDxQV8\n",
       "1zzkTBH0RZTcJl6o2pEg8U4Ps3zGN1UWBNFLKH9rhEvbgujTWOwKh/gmvQ0gxHvtMO1rfd4NWKEz\n",
       "cuXVfZIAZZUSz9s9WgMuFcLAXyUjp95sZSlSbVgI9w2wyIUqU8okNhVzrN6LCIHN8Oz6JHqzRMEz\n",
       "NDmucrcbQWE1LITtdLOgV9zmwygDbBGHZ3oD6dDV0Wi0C+X67Kfw6B5BtS97G/EtW27ws9TfFUev\n",
       "9jfjleHlxiO3dOAb7WCFhxkElKg/uo4ril67CNfjFFmgPgONUY79AD1/BHpPFN1rFmfi6C1f8opM\n",
       "YGbCxLUCUXlr25dte8l/8ieyxgd+8Ny2jX8OHZfxVb9wnDk+upfuHVPU93XgoXveNeA/70aEGU+v\n",
       "xh4lo6u/OOgtcEw4m3djzwfBA33ZC4qo754g5tmoKr2pC1UmIwOucu3J3CGA/gHUj3F0A9T65tfX\n",
       "TDUFjU/d2xGvpurOPaYTILXaiLXVVEqQ2MWa7eP/nxBqjo9VmIrp0nNeRAvZXLJOAn3gIu3l4CTQ\n",
       "Z7BBL2Ei4ukqu9axieM7vW+sqwku/MwwLfl5wtPVFGPLPt31ebrKji3oRNEhr5NcXWXTGnWgSCb8\n",
       "RFfptYXWGZ00XF1NE7uXJKM8XU1xs0FuZeVr3rrB11VmfB9mswneKIlbY+3pad6G4Zwkeo48vCb5\n",
       "FeIWba6f5hcU0OS+/gQx/QswxMNHF3KuqQAAAABJRU5ErkJggg==\n",
       "\" style=\"display:inline;vertical-align:middle;\" /></a>, <a class=\"ProveItLink\" href=\"../../../__pv_it/common/a2581dc5df71d9a30bad37de14965fa5fec97a240/expr.ipynb\"><img src=\"data:image/png;base64,iVBORw0KGgoAAAANSUhEUgAAAAsAAAAJBAMAAAAWSsseAAAALVBMVEX///9mZmaqqqrMzMxEREQy\n",
       "MjIiIiKYmJh2dna6urrc3NxUVFSIiIju7u4AAACJHQtQAAAAAXRSTlMAQObYZgAAAEJJREFUCNdj\n",
       "YLhzeuWJAwy8Dew5bAEMHBc43nIuYOBlYHFgAAG+A2DKzgBIMF04x8BzgWGegh/DcgaG22fuiBcw\n",
       "AAATyhBrnyPYZQAAAABJRU5ErkJggg==\n",
       "\" style=\"display:inline;vertical-align:middle;\" /></a> : <a class=\"ProveItLink\" href=\"../../../__pv_it/common/ba27da3f6d5512be14b05498f34744a70c9279220/expr.ipynb\"><img src=\"data:image/png;base64,iVBORw0KGgoAAAANSUhEUgAAAAsAAAAOBAMAAAALT/umAAAAMFBMVEX///9UVFSYmJiIiIjc3Nwy\n",
       "MjIiIiJ2dnbu7u66urqqqqpmZmYQEBBERETMzMwAAAAYOWz6AAAAAXRSTlMAQObYZgAAAFpJREFU\n",
       "CNdjYGBg4LuzgQEE+BeAqfkNYKoMTDJEAzHLdrtfQGqOA+8PBgaOQwzcAQwM3D8Y2AoYGHguMPRP\n",
       "YGDoL2BYD1TRv4BBlMuBgdeAKZEdqFLYztGSAQAyzhFdhFkSwwAAAABJRU5ErkJggg==\n",
       "\" style=\"display:inline;vertical-align:middle;\" /></a>, <a class=\"ProveItLink\" href=\"../../../__pv_it/common/0f21cbfd5644a1cae6781c1d58354abc2ffbc9000/expr.ipynb\"><img src=\"data:image/png;base64,iVBORw0KGgoAAAANSUhEUgAAAAsAAAANBAMAAACN24kIAAAAMFBMVEX///8iIiKYmJhUVFTMzMxE\n",
       "REQyMjKqqqq6urp2dnYQEBDc3NxmZmaIiIju7u4AAACH5sGpAAAAAXRSTlMAQObYZgAAAFlJREFU\n",
       "CNdj4LtzgWHXAwZOjgUM9xkYtvMkMIQyMDzgusDwl4GBof8ByxcgdYyBdwGQCmZgNQBShxn6FYDU\n",
       "47vnNzAwgGUZGJgT+H4AKUYF1gtAiuPuESAJAJGkFvXVdzA+AAAAAElFTkSuQmCC\n",
       "\" style=\"display:inline;vertical-align:middle;\" /></a> : <a class=\"ProveItLink\" href=\"../../../__pv_it/common/0f21cbfd5644a1cae6781c1d58354abc2ffbc9000/expr.ipynb\"><img src=\"data:image/png;base64,iVBORw0KGgoAAAANSUhEUgAAAAsAAAANBAMAAACN24kIAAAAMFBMVEX///8iIiKYmJhUVFTMzMxE\n",
       "REQyMjKqqqq6urp2dnYQEBDc3NxmZmaIiIju7u4AAACH5sGpAAAAAXRSTlMAQObYZgAAAFlJREFU\n",
       "CNdj4LtzgWHXAwZOjgUM9xkYtvMkMIQyMDzgusDwl4GBof8ByxcgdYyBdwGQCmZgNQBShxn6FYDU\n",
       "47vnNzAwgGUZGJgT+H4AKUYF1gtAiuPuESAJAJGkFvXVdzA+AAAAAElFTkSuQmCC\n",
       "\" style=\"display:inline;vertical-align:middle;\" /></a></span></td></tr><tr><td><a name=\"-0x1341f3b153c9f5d1_step1\">1</a></td><td>axiom</td><td></td><td><span style=\"font-size:20px;\"> <a class=\"ProveItLink\" href=\"axioms.ipynb#substitution\" style=\"text-decoration: none\">&nbsp;&#x22A2;&nbsp;&nbsp;</a><a class=\"ProveItLink\" href=\"../__pv_it/axioms/fb5aa0007e656f471030da411c3555b23b265d8f0/expr.ipynb\"><img src=\"data:image/png;base64,iVBORw0KGgoAAAANSUhEUgAAAOcAAAAWBAMAAADJFJavAAAAMFBMVEX///8QEBCIiIhmZma6urrM\n",
       "zMxUVFQiIiJERETc3Nzu7u6qqqp2dnaYmJgyMjIAAAAcRTyBAAAAAXRSTlMAQObYZgAAAuNJREFU\n",
       "SMe1Vk1oE1EQniSbbLLZ/BwUD70sCXiQQsWiINga9CCIkuDBa4PoQVBYxJN66EmSQG0EQUGEtYg/\n",
       "PdiCB/Fk0INiRQKC6EHZgx4UKkEsSLz45s28/XHTlgQ68L1M3nx5X/bNm3kLMKpluv972fZm3GcM\n",
       "F798HkH0IQ7Gnv3soZ0dQAsxUm3CCn75MYLod7nKyl/20B4PoIUYhku4hU8/O7xmbjeOS0cr7KGZ\n",
       "VpQXZrwg5B1BXh5eVJcJfO558kGKUV6YcZeQe7O4eHOE3aXfvPI8aV+jvDAjXyH8aTSujCBaxuH9\n",
       "jknyFnbeGBd7+zJCUwyjbMF1B0yx0YgzAE0MH+hGfqFtIDonx1/kGZ3cBV0ckC8ysz+lcR6ZYWpF\n",
       "mBD76hIOy/MEZqkTWTi9gehlWX9r5JmO2ddE4p5GK5QZtxMuNEQp2wQd4l3e7WFEt8l20CPPgLQs\n",
       "gJkITTGcmIUPnewRzK6O0YIzgqhpK69gDRb1GFUnueaLZtyTWHbzU0gpnxAphkN1uOSL8iQEAmp7\n",
       "03XlzdRwPBLIaR1CjGmIi4LSbAI0T2P0Iw67Uu5F8dHpJ4u+KE6mGsLmvIA6SDGLvKwzAXGHD1LI\n",
       "FAOuSn11kOAJKsMkDrU8pjdzz47P+qI0CcEAcHUsVcirLs/DHayAaENiBuyDqlgm0SFwOqgECrJ3\n",
       "JDopK5DTgtdQVEDtZJW9+6WFKfxn3yKiiiEoB8Uy+RoBcvIIbQc6CTijV2K1gKiYTGGWVr2Aam2v\n",
       "IdwG7YhogDEt8IDB/D5kWpneO+hkWqDXqv7plZNKiQPU8LP1Vb/1D2z4PiPlGr/9hq+ajw3JMeP8\n",
       "sXEnOQbaqWu+qJxULA6gNUFvueytd7X5DL2btvyrLXBTZfnvwSPOcKROVYAu8Vy57V/nIXVvVY+h\n",
       "lfbigm0Cd/8PNXqRkO8T5zR3sKgKDH5dyW36uvKJwdkoiYEjXTj+dp2OpAJbaYktWvcfpC3c9HKM\n",
       "He8AAAAASUVORK5CYII=\n",
       "\" style=\"display:inline;vertical-align:middle;\" /></a></span></td></tr>\n",
       "<tr><td>&nbsp;</td><td colspan=4 style-\"text-align:left\"><a class=\"ProveItLink\" href=\"axioms.ipynb#substitution\">proveit.logic.equality.substitution</a></td></tr><tr><td><a name=\"-0x1341f3b153c9f5d1_step2\">2</a></td><td>assumption</td><td></td><td><span style=\"font-size:20px;\"><a class=\"ProveItLink\" href=\"../__pv_it/demonstrations/d4ab56243a59ba35c617968a2993e307e3f3268c0/expr.ipynb\"><img src=\"data:image/png;base64,iVBORw0KGgoAAAANSUhEUgAAADEAAAASBAMAAAAAiiu3AAAAMFBMVEX///9UVFSYmJiIiIjc3Nwy\n",
       "MjIiIiJ2dnbu7u66urqqqqpmZmYQEBBERETMzMwAAAAYOWz6AAAAAXRSTlMAQObYZgAAALRJREFU\n",
       "GNNjYGBg4LuzgQEH4F+AS2Z+Ay6ZMlwSDNHYhVm22/1CFeGwNmDwAVowx4H3B4hfGgoCIO3snAcY\n",
       "7IEKDjFwB6Dq8QIK3GVg4P7BwFaAKtPAY8DwmYGB5wJD/wQMX/D9Y2DoL2BYz4CwJxDE3MrAfAAo\n",
       "s4BBlMsBVc9FBl4BBgZeA6ZEdjTTNjLMVwC6TdjO0RJNptF4vwOuUNmKXZgxgOMndhk2BV4D7DKc\n",
       "xvuAJACxMCbcEMrT2gAAAABJRU5ErkJggg==\n",
       "\" style=\"display:inline;vertical-align:middle;\" /></a> <a class=\"ProveItLink\" href=\"../__pv_it/demonstrations/d3727c2338915fcd01103fbea5cbe5c5991eb8ca0/proof.ipynb\" style=\"text-decoration: none\">&nbsp;&#x22A2;&nbsp;&nbsp;</a><a class=\"ProveItLink\" href=\"../__pv_it/demonstrations/d4ab56243a59ba35c617968a2993e307e3f3268c0/expr.ipynb\"><img src=\"data:image/png;base64,iVBORw0KGgoAAAANSUhEUgAAADEAAAASBAMAAAAAiiu3AAAAMFBMVEX///9UVFSYmJiIiIjc3Nwy\n",
       "MjIiIiJ2dnbu7u66urqqqqpmZmYQEBBERETMzMwAAAAYOWz6AAAAAXRSTlMAQObYZgAAALRJREFU\n",
       "GNNjYGBg4LuzgQEH4F+AS2Z+Ay6ZMlwSDNHYhVm22/1CFeGwNmDwAVowx4H3B4hfGgoCIO3snAcY\n",
       "7IEKDjFwB6Dq8QIK3GVg4P7BwFaAKtPAY8DwmYGB5wJD/wQMX/D9Y2DoL2BYz4CwJxDE3MrAfAAo\n",
       "s4BBlMsBVc9FBl4BBgZeA6ZEdjTTNjLMVwC6TdjO0RJNptF4vwOuUNmKXZgxgOMndhk2BV4D7DKc\n",
       "xvuAJACxMCbcEMrT2gAAAABJRU5ErkJggg==\n",
       "\" style=\"display:inline;vertical-align:middle;\" /></a></span></td></tr>\n",
       "</table>"
      ],
      "text/plain": [
       "\tstep type\trequirements\tstatement\n",
       "0\tinstantiation\t1, 2\t{d = y} |- (a = (b + (c / d) + c^{d})) = (a = (b + (c / y) + c^{y}))\n",
       "\tf(_a) : a = (b + (c / _a) + c^{_a}), x : d, y : y\n",
       "1\taxiom\t\t|- forall_{f, x, y | x = y} (f(x) = f(y))\n",
       "\tproveit.logic.equality.substitution\n",
       "2\tassumption\t\t{d = y} |- d = y"
      ]
     },
     "execution_count": 9,
     "metadata": {},
     "output_type": "execute_result"
    }
   ],
   "source": [
    "d_eq_y.substitution(expr, assumptions=[d_eq_y]).proof()"
   ]
  },
  {
   "cell_type": "markdown",
   "metadata": {},
   "source": [
    "If we want to perform substitution for a specific inner expression, and not necessarily a global replacement, the `proveit._core_.expression.InnerExpr` class (aliased as `proveit.InnerExpr`) is extremely convenient.  It uses some Python tricks via implementing the `__getitem__` and `__getattr__` methods.  First, you create the `InnerExpr` object by calling the `inner_expr()` method on the top-level expression:"
   ]
  },
  {
   "cell_type": "code",
   "execution_count": 10,
   "metadata": {},
   "outputs": [
    {
     "data": {
      "text/html": [
       "<strong id=\"inner_expr\">inner_expr:</strong> <a class=\"ProveItLink\" href=\"../__pv_it/demonstrations/bddd98a29b07a24cbf3a511ac52220a734393a050/expr.ipynb\"><img src=\"data:image/png;base64,iVBORw0KGgoAAAANSUhEUgAAAQMAAAAzCAMAAACkAp3gAAAANlBMVEX///8oKCgNDQ2IiIiYmJgy\n",
       "MjJUVFRERETc3NyqqqrMzMwiIiIQEBC6urpmZmZ2dnbu7u4AAAAKyl11AAAAAXRSTlMAQObYZgAA\n",
       "BQZJREFUaN7tWteimzgQJTvqqP7/zy4STRULY21u4tVLuM4ZkA7Th2naljV6+qbFKM9/UnIWX8XB\n",
       "hCS1yQ/c3dcCoVj6gxXKvpABjAdQjfCs3tCEeY63yxwtTkiwuaaAuAzAsXu1FaPGvNS37sscif4i\n",
       "rnyBVpIX95hNcdM/ioNJu0gpHa4g6CsOSkX5wzgQDqK9k5/KAbCBHNjIC9qfywHXQzkgXRxwAOM1\n",
       "RmCpBQCBSQHQ8EisEYDmW3phAMTKwS5y+A1yvVemjQZ5eKTUPc9XTu0QHMoBnxdl1OG/Zwre7YHy\n",
       "sTVwIL2iUh0cqKfCBA4ikc254ksOlL8Ndo1Tc9o8QiQ4lgO5uE4VwgYNBw9RVDh/ekxWx7I8n+Iz\n",
       "LkQiPTprJfIumrbePNBG0hELjrWFSYDR4cjrOUNSwEJQwautLo7FrqmC3fzBIdLDgQ5szafx/PML\n",
       "J8s1vEwsOJQDiynbXjsNjIdwknJA9yCzchCJ9HAgaZA8I/WcvnfVygFjwaEc0HlVfXvBgdeDiINI\n",
       "pIODVYW4a3lBgVumEAsO5WB7EFOiwkGQUv7gmJ7+IBLp4sB7U4InzqocYNY8QCQ4lIOgcMYJZGMO\n",
       "xMpB2F/IEphUwUIhFemJCz7aoCV8HskGSiyhnR/EgmM4WEoiR9jEiAZjAaPwt+DULWWEwc7XCnTy\n",
       "+cH6dKsNWvIDX2McIq38QNF9eZYsWRILRqDh+GJlaguO0oOfk9f/vjzx7+cgrpOYM1/KwZmZIae+\n",
       "k4M4Q5//qyYezCN6afBWLy1E8N1xG8emL11kO7qRavraRfzhLSb2bztY0id8ZQ5L0WVn/SEOhBqL\n",
       "vxP3vZM43cXlLkLhqeVH3JQgY/F3XJ1PztVxf3XxpN0RaPkJn4jtOLwBgDuRMhQZ5kjWDWoiD6v5\n",
       "RGzU8AbeUtnz6CXyCdlrBxoA86wRMTf4VmdzHZ7nSMzZt/C4o28c2mWd9mpnsVS1673huDc0nkLd\n",
       "J3Plu1PrHe+K6S8vFEryms3X9U4v9911hrnzgI1cGUd+9PHcvbrP1/hK67U8XDWFa3Dg7wu7D5yP\n",
       "Tc18fN34rimYueNwOPRnujiwni+KrD2NKLt6xEE2CYk7I/vAoYJqrB2PyTGlaR+OaUBgX3HgY4eY\n",
       "pG/nii0OwOFIQX6Cg3wSEnfIFp5xHWXiJrku8NYtEdKmus77AkwGY17bKV5yAeCg0ZRZWn3ccZOD\n",
       "YhKSOVjagyrwPGzNwXMOwncAJLN6cUR/Uc2eb3JQTEIykyU9qBKPp71JfijNLMM/7R3VYLr6ns/v\n",
       "IepfRtzkoJiEZFmM7kEV+GAeKo2PuR64fV3pgWz4PFVcvc9BOQnJ3quuoxJ/QHL8FFoY2Tt8xxZs\n",
       "PcH5rB6Uk5DMvkkPKseH7xVWH/KKg6IcTmFbP6jwB6y4emALxSQkjQuE1lHN1sWKJ2ib3XcE/kuf\n",
       "GEb9Vou8HHgYF15NQpL8YIu/1/OSCl5DUdPVOeD4GmYMQtDKQuKrcXmiupknXuDrHJi+PLFSbHXm\n",
       "idPzGcvdnmQbb+1FOXwFq3hqKK9SDiJmJX7cPjDD8HE5fLOlZourzGdGuyCPu+vdPY77+LgcvrUQ\n",
       "Ka9SrxQHG/bcGAgfhU/K4Tvr/Aq9/j26Tb9QBgcPObB4ED4th++ogSmvUhvL6lvkno4ZuB6ET8rh\n",
       "Gy0KWl4lz5dFV9fqp+bA1Rh8Ug7f8Lq2vIopwmj6fx3rX/hLQ7d6c//AAAAAAElFTkSuQmCC\n",
       "\" style=\"display:inline;vertical-align:middle;\" /></a><br>"
      ],
      "text/plain": [
       "inner_expr: {lambda:[_a -> _a], ${_{-}a}$:(a = (b + (c / d) + c^{d}))}"
      ]
     },
     "execution_count": 10,
     "metadata": {},
     "output_type": "execute_result"
    }
   ],
   "source": [
    "inner_expr = expr.inner_expr()"
   ]
  },
  {
   "cell_type": "markdown",
   "metadata": {},
   "source": [
    "The `InnerExpr` object displays itself with two important pieces of information: the lambda map that it represents and the inner expression of the top-level expression that would be replaced by this lambda map.  The point is that we will be able to \"dig\" in to inner expressions of the top-level expression via accessing sub-expression attributes.  For example, we next will \"dig\" into the \"right hand side\" (`rhs`) of the master expression: "
   ]
  },
  {
   "cell_type": "code",
   "execution_count": 11,
   "metadata": {},
   "outputs": [
    {
     "data": {
      "text/html": [
       "<strong id=\"inner_expr\">inner_expr:</strong> <a class=\"ProveItLink\" href=\"../__pv_it/demonstrations/0c9e5a6dbba304d12a177f1da2e599b071d0ca200/expr.ipynb\"><img src=\"data:image/png;base64,iVBORw0KGgoAAAANSUhEUgAAARgAAAAzCAMAAAB7TOf/AAAANlBMVEX///8oKCgNDQ2IiIiYmJgy\n",
       "MjJUVFRERETc3NyqqqrMzMwiIiIQEBC6urpmZmZ2dnbu7u4AAAAKyl11AAAAAXRSTlMAQObYZgAA\n",
       "BSNJREFUaN7tm9maqygQgJ0pkB2K93/ZI4sJuAUb42fPHO46sQj+1l72MOSFzg7/+8WZWH5ktJJ/\n",
       "wQxEM6w+EP68vkjD6w9QGvwkBJR2PgBOum9fpIMTqsxqd6XKe+CerW57pO6Yy+gXFwjqzaczOdN5\n",
       "U8guUIyR756G+7G80K8fNerxw/bKrTb9PhjKLwCDdP801hcq7emGNPsEZq1S3wdDrgkRDnZPIz0U\n",
       "NzQ+FQwsFETxS8Cg3j0NFu4WnwtG2IVvvCj8ULMPZmwCIwCi3kmqrQQYYTAALG5ILQGwIqdBDkAm\n",
       "MLPI6ymPx2C4dRb0y8vV3rUmAXZbpi2eFTIpa+sAI4Lu2vi1YhD8K5gQ7iMYHfSa2aiagY+LYAqR\n",
       "rLb0EIwJ21C/g0JUnBjZlHG0WHteqJIhtBeMnny0iUGLRRoxsEsfkNAxOatpd0bfUakQaTEl1OFm\n",
       "LdsBM0CZcimxLdPkVkoZoXpNaZDgbOSQbj4mLzyGtPxsJmeFKaXB7GNeIi1gbESo3rb37z+0Wr7w\n",
       "XNpsyzSsWkb6TjBIGc8KwiLsGMxqMGwOcQlMIdICRrMo+U4eVK1rpkxPM5iVTMOqZbrBMJUsBw/A\n",
       "BI0pwBQiDWCSsgm/524lLfdJprSSqXzMdjBdyJheU8rbcSM3wEQpE2hQ9vYxhUgTmHCvI50LmCWY\n",
       "OtNNznct0+Biaplu5xsV0HlJsAQjE5h46JjN8KjjNn5ZiLREpRDryBTRX0lRVSSaOsbk3shKpmHV\n",
       "Mtb9FMxUI/qp1uKjBYdASfxbCuanEspRH+okNoQ8Ju2N1pEpjwn11UtkL48xbF4BHY5TAsRH2M78\n",
       "rFw4nPRrhzKviw9+J9X4P9OYr6zeWumqkkAN/zEw3y8iy8KRe/dbwAzs222HoehNEW9+DZhLGlWM\n",
       "H5ymrE7UXVwGUA9obRKe26xqC4zw8y84z4e/q+xnJh5Om78wajKBCNIRn35Q628e7Yip1kRlLwIj\n",
       "v6Z4GNwh3AhGxiLc6kueh/xeLiRCdDW35Vov52L1Fc6XnlA8B3BGAXIfktzF5WW5V4RrCzHJ0C1b\n",
       "TVFS6lYzsgBUbDVqvrXMe34C/Qkez61M2pCyx/Zio/miklMtn/aGe147YP7KkmB+V8KvXhcQK6PR\n",
       "YsuPbNuWnfadtYv7W8AU00f03c8i3+xGD3x9x5v55A6YsC/MbleJG7hcW13PluRUwx3HYZdtAoMB\n",
       "IiOIbxt8HJjliKtsP+VBU+h2vkZw+3fMLRDAT2BC5JKDDn11meMR6AeCWY7FqoblYGneaAraWJuK\n",
       "aAvMi8t4MBtGp+wFBNh5zObxcWA+jLhSP3gqTMPJPfSDia+YjAufIu8oDU6C+TDiyjOLqDg4x7g0\n",
       "1FD6YKixd5nd1A1+R9/oJJgPIy5l31mMqUP2UmP8vI40RrPtMz8OzHosttCYPHsj66f9E1PC7cSK\n",
       "PxHM8Ygrz7nDwZM3+gRm1UmoL8tNtJWP4Y8zpdWIq45KY1L9keTXQhoSlEPnG98iwcVQ6SFR6dNY\n",
       "rMpjcoYxVXyrGngbjKDHlzlHyEqQPDGP+VSRYmMcXtRWp1zR7Znv0D9w2+8bIx50Eo4u23DxcAuY\n",
       "4plp2t2Oaa/Py07CySPf0ZCRZUQcu929bDf/spNwapFbmptQxkveb0tjc0ug6iScWbf8GwjW/z0A\n",
       "vtd8kTb/ctlJOKMwdwzYUS3ekSW+d7wkWptdVSfhRMvnjpAk9Kqnj7bXmkRjvl51Ek649xs8L6d3\n",
       "TSJ+7/oDB1hCDNJ/R8MAAAAASUVORK5CYII=\n",
       "\" style=\"display:inline;vertical-align:middle;\" /></a><br>"
      ],
      "text/plain": [
       "inner_expr: {lambda:[_a -> (a = _a)], ${_{-}a}$:(b + (c / d) + c^{d})}"
      ]
     },
     "execution_count": 11,
     "metadata": {},
     "output_type": "execute_result"
    }
   ],
   "source": [
    "inner_expr = inner_expr.rhs"
   ]
  },
  {
   "cell_type": "markdown",
   "metadata": {},
   "source": [
    "By accessing the `rhs` attribute, we created a new `InnerExpr` object that has the same top-level expression as the original but has a new current inner expression.  Note that the `InnerExpr` class does not know anything about the `rhs` attribute itself; it is relying on the fact that the previous sub-expression has this attribute.  The `InnerExpr` class also has tricks for getting an sub-expression with an index (or key):"
   ]
  },
  {
   "cell_type": "code",
   "execution_count": 12,
   "metadata": {},
   "outputs": [
    {
     "data": {
      "text/html": [
       "<strong id=\"inner_expr\">inner_expr:</strong> <a class=\"ProveItLink\" href=\"../__pv_it/demonstrations/52b730e4650ad160523f8732071726257672e1690/expr.ipynb\"><img src=\"data:image/png;base64,iVBORw0KGgoAAAANSUhEUgAAAYIAAAAzCAMAAACtxf/fAAAANlBMVEX///8oKCgNDQ2IiIiYmJgy\n",
       "MjJUVFRERETc3NyqqqrMzMwiIiIQEBC6urpmZmZ2dnbu7u4AAAAKyl11AAAAAXRSTlMAQObYZgAA\n",
       "BTZJREFUeNrtXNmWpCgQdQbZ9///2VHckCUTRezOOcRLUdVewLhBLAg9DF0eE2VZDdxo9c48Eeec\n",
       "VPbBZGvAPR3aYQD7b1tLTi+sw0cJpuGfpODsHQp4fRcMtQbcEwonRe5DHa2BxOOPApsz2KobphgY\n",
       "s2HSvEIBNK0B98Q5Ej3uv44fKBgI5/6siMWx4UD9xbKsDo3AyjcoUOAOwGDBWzohBQB0zuXQ7N5K\n",
       "UTAp3f8rsrGZGPFt9UYejrxCAbHmHgA2jHZm8uNsGQfsw+ytJAXn6G1h4gn8jYJ4mbxCweW8YQPY\n",
       "KALSq+spi1DTGEysjB/cf6SAWa8zi/5iCkAQcgS92MEKkPHqeY6CeQywKozvE9xaaQqMF4DNX00B\n",
       "Vc/4Ic2HZhQYO9kJHo0bSe2BdWvlKEBFFFAA9Dwsg0IxABAYJABYLr51BEDRtazQALCFgg2yKx19\n",
       "pYAorYDYdYs/kDaKDCgnGwCifbZlFKT6jxHTewM2CDL5FbakQGCf4daqooDOZZRy/8wxmE0KyO2t\n",
       "oJhdBFYuds/vph0FHmSN6/AbBXLuCdrMM/TEiIIZkIaeqAhg7JSaOmstpCDsP4kgs6/BcCoCAAVq\n",
       "DDze1qqjQLCtJ+z07tJX5t4EoiWoSDeJPSPyIIWOyIjxtH7DZ4BfxWCcAeVkBVA3IwtKKUj3HyJc\n",
       "VohoEGZZ0KpzRAMDWjmNL2p2xQBxXa+mNgUVs5QIZo0FO6SQAuW0w4+3+/cfeBLrBRmIMqBsyELH\n",
       "YjBbLbMsGS7cj0zKeO4/iVApSzty861VRYGBmKxGv1iTM6MzBXhLrxYKPEghBQI78JEl8/OLSe6F\n",
       "ea4yoGz8V0dVIM+J6adVkO4/QAicVK0MWlUUYL74HfOBgnkVeBR4kDIKFtOkNvcMO+0vrKPGoFMs\n",
       "QBHAjrHVfqAg7j+BMFYPzVfBOhEiWYICtIScaRiIjxE9SCkFs2kiOFCSfAaShH+MQdlYgPaEefHv\n",
       "hRQk+w8QdukvjAUkaFVR4FaantIt41OwhBnodOOqAyKkszFwhhRmRHOqNU6p625SJ0XJc12AcAaU\n",
       "kxWAxjV7K3RE6f4DhEv8jDob21MZEUPWIjKBFdAGwNH9zii2YpoVtHMmgIe5LpDrLpUep7pg3lfa\n",
       "IcV1gZkydkYQSBd2wQtuufZnUAww06zGC6VZuv8QofU4gkwhcrTuroJG4iiQeJPL28jyanX8AXBW\n",
       "aMmkSurp56rjlhTUiJCPAcxlAyhBQBC20hT4W3PE6h+iQOnWgMp9633V7a0cBUdKO1r5QxQw0RpQ\n",
       "JyOKWhkK/C0ZPvwQBeF+QANA3QuyqJWhgNotP9CW/BQFBrYGVC0CHbcyFAxo1bwWcvgpCsIvCA0A\n",
       "94XguJWlYECz7g1EZniVggfOEVHZGnA/WTBhaz5HlM04KQeD4epdCrqcUgW3FasE66r4Q7IFASWe\n",
       "CMfzB7yu04s62/fCn0hKuXw7//59kcc3PFBfmrndkO7Qrgm2T25QCNo1elm8E3TGVufNr1Z3/xN5\n",
       "eKcUuk82Xa1NKQgPNp3LDaLACHqB0ZSC8GBT8DmyS3MKig9OdWlFQfHBqS6tKPh8cMpu0vXajILM\n",
       "waYub1JQcHCq8tptp+BLLR0ebEpkRKYvkmcpOJ+qiQ82xZ8haE9T/2R1PIvu1fFtCoZ6Co5rt13K\n",
       "KfBstrrS9a7ddikV5m9Qo9qNTu/abZdSAX4GSWo9kX/ttkupH8JnQkBdb9612y6Fvju4TzvaquNE\n",
       "/rXbLiVCRfTfwxhV40f8a7ddCoQcN2D+A6ZVQmWnMlLHAAAAAElFTkSuQmCC\n",
       "\" style=\"display:inline;vertical-align:middle;\" /></a><br>"
      ],
      "text/plain": [
       "inner_expr: {lambda:[_a -> (a = (b + _a + c^{d}))], ${_{-}a}$:(c / d)}"
      ]
     },
     "execution_count": 12,
     "metadata": {},
     "output_type": "execute_result"
    }
   ],
   "source": [
    "inner_expr = inner_expr.operands[1]"
   ]
  },
  {
   "cell_type": "markdown",
   "metadata": {},
   "source": [
    "Now will \"dig\" down to the denominator of $\\frac{c}{d}$ and show how we use the `InnerExpr` class to replace a particular occurence of $d$ rather than a global replacement:"
   ]
  },
  {
   "cell_type": "code",
   "execution_count": 13,
   "metadata": {},
   "outputs": [
    {
     "data": {
      "text/html": [
       "<strong id=\"inner_expr\">inner_expr:</strong> <a class=\"ProveItLink\" href=\"../__pv_it/demonstrations/6fdaade9324e9a3aa72ef598389a99fd6aae9dec0/expr.ipynb\"><img src=\"data:image/png;base64,iVBORw0KGgoAAAANSUhEUgAAAZMAAAA/CAMAAAASa9VyAAAANlBMVEX///8oKCgNDQ0yMjLc3Nwi\n",
       "IiJmZmaYmJgQEBDu7u66urp2dnZUVFSIiIiqqqpERETMzMwAAABpwAnxAAAAAXRSTlMAQObYZgAA\n",
       "BkdJREFUeNrtXNe22yoQ5V56E/D/Pxt1DRKoB9tZzEvmRN4I2ExhDEZoEu8aVEKkaEW/0BDnJSC3\n",
       "h2nSOmLd+OX64wSrbRs2mEKdFe+0Y3EJyH1ROK13suUE6cC2/6VLLSD6zpAT43of8mjRmLSe5gQ1\n",
       "YUWcKmUlb3EihS8AeSaYp/U0J62n0nF3g/wtTowpAXkmBEw9iWhIGywOcNHwrTP7bk58IAUgd4WN\n",
       "kwtXQbQi0pw0kbNyQf0WJ9iUgNweYpiWgQRLQh5xgkIAf9Dgf4oTcn3Nk3JmgpopWmML1oQ95CSK\n",
       "ILRgh9/ghOESkNuip0jAQd4P9Qwn9DknXq1Q0itZhBNhS0C62bX2Ik4ya3EzG6cChqoucrL9kDd4\n",
       "f8vizXpP0+ATcekFTsh1VztDpBPnO0AV8uKiF/AwdMCCBdDvctImyEdRkerNyItwwsMTCD6dYzLX\n",
       "Lb1rLrJtHNBogMcE+m1OkDviZGtIZThh9AkkbOp6TcY/iZ0KYAbTQcCm3QaU0v8BTuwqblF3uYkF\n",
       "orZjzXGyF2XTGNlBHJdy3nIQsP0g/xAnzcrb3NjhLhBNz6551Ndq2TU7IW048XzZlTQooT/lpLFW\n",
       "d+/3WDBvrbFIWevU4Jm5tWx4k9RtjuIHTibI1Lo5wQlhmtmlr7ElrCDB5mB5Tuyyd5z7fMQJYZZb\n",
       "eZKTLkXzSBnbWMYXu+EooT/kpKGtxTEz2L/twrhVU7KNRWeNjvUJQTdM3XMCIEOugI85UV1TOGRY\n",
       "aFzsIHgOpjEQloLIgOXgYo452bXdGENoO36Hd9YC1J9y0lVTBx/seiKCm4tHQ7miN46hO0PeBSBn\n",
       "fZcUfMpzkpZhnYTZHc/B8qkwn726XE3VK5z0KajZ5gRwu7Doj+OJt5r1FAzz3rc8pPvjSmx9tRze\n",
       "J8d4MkPOcsL6DtBlnP//hyMJIFItjnkDy+6lFgju+6mhXVHR/2OWulNKYluMMSy3AmHoW/SHnEjs\n",
       "yGgWzs0WGHPi2g/YhRMAOcuJcD162QvQuEOKqtQEb2DHnPR9VnE+/NxOhEMFOXF0cFVyh5POTgAn\n",
       "AHKSk2HdNiEX1T2WKUe0hUXxxKR8V6+slvVjTmTuW1r4QL7mu8ZhE+UTnJgh4W+JwG6JJwBympNm\n",
       "2Og2JMkJJvGnbQ6WTcDnANL1cAhDb9rJSHmTj2ORfoYTkeekt0rdptwScuIHTvq56ncpRPS5fP8Q\n",
       "QM7mXV1Gx9uceV5J0aQplgmcG1g+F54+YviYKb7KSZ9lSubzPvPy/iQka5AhGIKIYVZLi3n/t29c\n",
       "EO0c4NAlGg51+xM11kM1b/cnXY1shuztT5SbpHu1bDcNnhib3nKuxzoX4vZhaUjbN47e5gRpzXmi\n",
       "FQVSE6BnOQH2Hl4633Oucvq4CYffhRxw0tJosL/FIweLHegZThzIVkhwP8WJFu9CpNzvsI+/uT2B\n",
       "Sb0W6BlO4IEuHfhPcdJcP2XT3D+Y05ffb3Ya5n5Az3BCliNeUlD0U5zI62tI3l92q/L73bdCPVeg\n",
       "M3PIccH/FifHFetXINNcxuX3a9aZLNVnOUGUTp5LoR/jhIsSkGkCu6KEumVm8GAG1LOckKEgYGjZ\n",
       "I5tvcCJD81chkg3SQ1bl96tuL6lnjU4aSp442s9x8vWH6sdXirS+wwlSHXeEGvlznKAb57FLH+Fu\n",
       "38jT+g4nejDnVe3jNzjhuATkPWOOrTTLyRzbVcET3K/dP3G2BOSJEEGS+g4nzbJpdAWPpr7Fibye\n",
       "mkhaNudvkvoeJ0IAegpezZDBuTdWLKGkAOSBIfO0btvhZ4oKTfRtS8EaJPKtvDE3xJeA3F56Kq23\n",
       "fWgls52BO8WC17Sq5CW6qEUrJ98g0fcnlZMv4US+zIl3gtV5/S5OUifWq3yYE1U94Ndxommd1m/j\n",
       "BNdwUpqT9bUCeESofWZ9DSelOVlfK4Dl5P6Zq+GkMCd71wrGZ7jOallO9q4VjM90ndWynOxdKxif\n",
       "qTqrRTnZXis496zK3+Qkf63g/JWDKq/6rs21ApB3nb9yUGU3Phz+Bs7RbYRlf3L+ykGVPYmunODg\n",
       "64x8AydRMlvdzueFRL+cSkItH35edHxr39Ra1cdFrg2j5K8PVknKJqgTLGqY/2gwSf1GoK7u65OO\n",
       "S+CUoyK11P5BAV7qD3h9T1oJhUC6AAAAAElFTkSuQmCC\n",
       "\" style=\"display:inline;vertical-align:middle;\" /></a><br>"
      ],
      "text/plain": [
       "inner_expr: {lambda:[_a -> (a = (b + (c / _a) + c^{d}))], ${_{-}a}$:d}"
      ]
     },
     "execution_count": 13,
     "metadata": {},
     "output_type": "execute_result"
    }
   ],
   "source": [
    "inner_expr = inner_expr.denominator"
   ]
  },
  {
   "cell_type": "code",
   "execution_count": 14,
   "metadata": {},
   "outputs": [
    {
     "data": {
      "text/html": [
       "<span style=\"font-size:20px;\"><a class=\"ProveItLink\" href=\"../__pv_it/demonstrations/d4ab56243a59ba35c617968a2993e307e3f3268c0/expr.ipynb\"><img src=\"data:image/png;base64,iVBORw0KGgoAAAANSUhEUgAAADEAAAASBAMAAAAAiiu3AAAAMFBMVEX///9UVFSYmJiIiIjc3Nwy\n",
       "MjIiIiJ2dnbu7u66urqqqqpmZmYQEBBERETMzMwAAAAYOWz6AAAAAXRSTlMAQObYZgAAALRJREFU\n",
       "GNNjYGBg4LuzgQEH4F+AS2Z+Ay6ZMlwSDNHYhVm22/1CFeGwNmDwAVowx4H3B4hfGgoCIO3snAcY\n",
       "7IEKDjFwB6Dq8QIK3GVg4P7BwFaAKtPAY8DwmYGB5wJD/wQMX/D9Y2DoL2BYz4CwJxDE3MrAfAAo\n",
       "s4BBlMsBVc9FBl4BBgZeA6ZEdjTTNjLMVwC6TdjO0RJNptF4vwOuUNmKXZgxgOMndhk2BV4D7DKc\n",
       "xvuAJACxMCbcEMrT2gAAAABJRU5ErkJggg==\n",
       "\" style=\"display:inline;vertical-align:middle;\" /></a> <a class=\"ProveItLink\" href=\"../__pv_it/demonstrations/3e358da6f3db64daaf74573c0a2da549e552e3a40/proof.ipynb\" style=\"text-decoration: none\">&nbsp;&#x22A2;&nbsp;&nbsp;</a><a class=\"ProveItLink\" href=\"../__pv_it/demonstrations/da1042b60b281cd532d0c74ca20557a13f7f478c0/expr.ipynb\"><img src=\"data:image/png;base64,iVBORw0KGgoAAAANSUhEUgAAAYwAAAAyBAMAAAC9oPHIAAAAMFBMVEX///92dnaqqqpEREQiIiJm\n",
       "Zmbc3NxUVFTMzMzu7u4QEBC6uroyMjKIiIiYmJgAAABs22DkAAAAAXRSTlMAQObYZgAABkhJREFU\n",
       "aN7FWl9oW1UYP/nb3KZNJmwv6rY8+TAsraAMxja7aXWMKfEfE2xtHjaUvrQIIkKLAcEHH0weNkor\n",
       "kum0XXGTvQlFaRFLX6KGQXHUlRb0xTG3tGLt0FbvPd+5uTe53+8kuUp2HnbT/M493/nO9+/3nUyI\n",
       "lo4HfEHsGKeHMSJaPgK7/ED8iM/T86vWq/GjLwiMW/RIzLdai+AFPxAaIWW/R1qtxuRVPxAaxue+\n",
       "X/1v4zFfEBwHqg2ZWEMTb/vKHih5BO9in7rrQ42w8qpj9LiB5nXy0bN3JavPHiB5hNN4RwjCskzd\n",
       "N+nZnZGyZ9C82Tz37ZlUaF6fbzp5c9zJwB0hSCdLiD73GUwifY1L7NfHRFsKLdxB/vk9Cz6BN4Qg\n",
       "nSxTeTrmhPTIt9CsNvZQI9CNI1siSpYd4swY+wvuB0FY1qB19oUSHfe2tcQmmppjLd3eAzNg2T4T\n",
       "9gAiuDQgCMsqSNsrhytanyEpWeQXgKwhaK6ak3aIcafYjtkPgrCsh2UMKgusmuc9jAIvypspabo/\n",
       "768BM9Q6yM7fccaFeR1CWNYeucMd+mPYnNYPLc3niMiIOM8lBWPghikxQe5xk5mwihMVgpCs8yvf\n",
       "yOe0Y8wr0NIl/vv7brPAuazlUFEK1mGGIBzCKQdCvCzjhPLaRxW76hXRLbTEsHkOxqHeRmvqS+J9\n",
       "6/ExHQHj1BfxuxJqXFYkHSOj71feXBaJMszKMhmkG1XjE6p9o5SqvA5p/IFJHkENy2pPqQJ7hzwu\n",
       "sSUi8AhelEFmR1iQs26Xayub4uiE5eZUx72HE9vGZYOgiqwuoZdVyIR+lRkxV7LfD/doK+tcvkE1\n",
       "xFRsa61CcILeLBfcwOSIoIqsemq0Z3IfkD5p25pJaElp6d2iUTW+vLZkqZGTRxrz7jkBg9CGdosG\n",
       "1YiPdb1K9lP15k+RlNs7u2fZwx+kpRdXnm9EDYeIFmQJMHa8dJkMFH1uYAZAFVlaNQIr1526olzp\n",
       "dxIbnxI/yClFOdKVnRh/5wuZ+mq4iCgdC52BeFAut0DiKUfOZjrKPOTI0qkRPS4OO96lpF6WFVBM\n",
       "rokXPEV8h9oZtS+tGi4imqRUuw5onvGFiPTwkCNLp4bZK73hqKHy06fky4N58YwnfWxQJbd4jWml\n",
       "by8Xi5YnJv+xhjrPk8XiYg0RVbHmza5tZbXjcAlAJMtZlpU16Hb+sKKUJ0mNi8LYYtUwU/lcqq41\n",
       "3ES0jhrm1EKWhxxZOmtUFVFHDcupjHURLLtiY6TiVCY3U+rr1HATUfpsrLtiY9HlOSbcDSBHlkYN\n",
       "o8pbw8qpnpSth7Fhlt2HakurFaXJq6Yz11XDTURlrFW4p5v/ynRUSInRYIaFHFk6a5gLB5kQlyF5\n",
       "RPwy4mFBlt5ta6F0fTXcRBTWjU7ptqFS4ukADzmydGqcFsbLnj5lmj6Nr7w35uGk05J972uk/LmI\n",
       "6JxcJ+7tShPyK2Ps+ms/AagiS6dGYN9vnkA0IxHfPByuJgwuNd79DMujNj/hbf+CuBWvhepV8dru\n",
       "0AyYAOyQ768OFXeis11mAr3FrBrbwdSwBprgJnFfOtQQ39d15xES19zxUe7hGnxM1HWQdnSnbGpp\n",
       "wEMqwN45gPsbtRz37im8nVM+1difqWS6g2hOCN5kaPobxdC7meZ6EG9n0Kca7zjl8yakzyBqzu7N\n",
       "4Zs8dQ/Rj+/4RBPQRwP2BZ6m+SUWUUB7Mvg+x2TDj+c1/aXqaJl4xMojaNcs10c67FU1lMMleG0u\n",
       "0E27yYb78crLVM8u/C/XbdFUvwj1YGHu6zZxCS6eZf04b/+gwA2iE+1cdojgcwWQIa7Y3J2PXpVq\n",
       "5D3PLRgc87w/GriQKdOydozj1xBkZvZcFqthq7hNNAdNO8KdkM2G2TEkM1R0igX78Ib6YMJY1kT4\n",
       "KsVoJzVkJ9C0c1k28L1suAIep/dSTeUjDJk5/6BGjemqyDqDLlejT7EmYtiwLZZi4iiINfwLPoAi\n",
       "I3FMYWp+NBNR6H6vM9+xbFiND8kmAG7+J0xjbGkTq2FX4QXR2rHQPBSZx+8cUH3pTIvVGMo2CY2K\n",
       "Av7t/p79vB/sbRJ6lk2W9kWE8qk3RavH6Sahr5c0VeNnVd16Wq5GW8kPBEqjipp78B+RxCu+IHaM\n",
       "U4Abb1v//gt6tQBKFZiqYAAAAABJRU5ErkJggg==\n",
       "\" style=\"display:inline;vertical-align:middle;\" /></a></span>"
      ],
      "text/plain": [
       "{d = y} |- (a = (b + (c / d) + c^{d})) = (a = (b + (c / y) + c^{d}))"
      ]
     },
     "execution_count": 14,
     "metadata": {},
     "output_type": "execute_result"
    }
   ],
   "source": [
    "d_eq_y.substitution(inner_expr, assumptions=[d_eq_y])"
   ]
  },
  {
   "cell_type": "markdown",
   "metadata": {},
   "source": [
    "Let us demonstrate this technique again, replacing the other occurrence of $d$.  This time we do this more succinctly, without the extra pedogogial steps:"
   ]
  },
  {
   "cell_type": "code",
   "execution_count": 15,
   "metadata": {},
   "outputs": [
    {
     "data": {
      "text/html": [
       "<span style=\"font-size:20px;\"><a class=\"ProveItLink\" href=\"../__pv_it/demonstrations/d4ab56243a59ba35c617968a2993e307e3f3268c0/expr.ipynb\"><img src=\"data:image/png;base64,iVBORw0KGgoAAAANSUhEUgAAADEAAAASBAMAAAAAiiu3AAAAMFBMVEX///9UVFSYmJiIiIjc3Nwy\n",
       "MjIiIiJ2dnbu7u66urqqqqpmZmYQEBBERETMzMwAAAAYOWz6AAAAAXRSTlMAQObYZgAAALRJREFU\n",
       "GNNjYGBg4LuzgQEH4F+AS2Z+Ay6ZMlwSDNHYhVm22/1CFeGwNmDwAVowx4H3B4hfGgoCIO3snAcY\n",
       "7IEKDjFwB6Dq8QIK3GVg4P7BwFaAKtPAY8DwmYGB5wJD/wQMX/D9Y2DoL2BYz4CwJxDE3MrAfAAo\n",
       "s4BBlMsBVc9FBl4BBgZeA6ZEdjTTNjLMVwC6TdjO0RJNptF4vwOuUNmKXZgxgOMndhk2BV4D7DKc\n",
       "xvuAJACxMCbcEMrT2gAAAABJRU5ErkJggg==\n",
       "\" style=\"display:inline;vertical-align:middle;\" /></a> <a class=\"ProveItLink\" href=\"../__pv_it/demonstrations/4342a021195951ad420f6e2fc7aa92c7ceec42f20/proof.ipynb\" style=\"text-decoration: none\">&nbsp;&#x22A2;&nbsp;&nbsp;</a><a class=\"ProveItLink\" href=\"../__pv_it/demonstrations/d0ff33e5701fcf1599605f5cad9ca32f229166710/expr.ipynb\"><img src=\"data:image/png;base64,iVBORw0KGgoAAAANSUhEUgAAAYMAAAAmBAMAAADU7OrIAAAAMFBMVEX///92dnaqqqpEREQiIiJm\n",
       "Zmbc3NxUVFTMzMzu7u4QEBC6uroyMjKIiIiYmJgAAABs22DkAAAAAXRSTlMAQObYZgAABHxJREFU\n",
       "WMO1WM1rE0EUf0mabTZpkwieRGX/AUkvIkgtVcGvUwVFDy3mICi9tHrxYiVnLy34hfaQ+EFVUMlN\n",
       "ELU9WIoQJQpiUYs5F21rwdKlWJ2Z7GZmd99LY3d3aH/tzrx5v3kzb968GQCAdA2IsgD/V/RhiUgJ\n",
       "mghu2d/fKMHOKbQ6MjdL9XipoLcETpSy+qUeU3IvxrBa7QB0k2MZlugpwRPB5/rXnQK1Wo/Q6rYs\n",
       "XCRX+L2C7hICUUfdNS9RUu34ZJ4ZI+TjqwCDonEQFQmMSFJoYmETK5TUaB6tvk/usSV7NOiYgiNS\n",
       "KMS0dFDxA2bwgf6i5KNscyVMMVoTaQ6OSKEY5YsxlCeENGLW1tlg8QDSx+Cd+Pcd0hwckULRUWXQ\n",
       "T8nE8UgHp0A/jU3awDeD/ZkXH/OIQFBEr4bhaIMiXWLwlNKcrOL1kZ0/serrhfqilqGBzhIUUdZM\n",
       "lBoU2hr7XaU0D/EYeO1BqwfmSbgqxpOV6HSXgIi08d7OLklxl63EEiW7KHC6VRPu1c+Z9imJzuwi\n",
       "KKJ4tr0qKS6zil5K9ITAZTvcYKutVOor0HObH5tipJ3e8foi2qWeeOVkQVJ8ZxVdlOaDIikwWzQB\n",
       "JhKr/KiMivAS9QYZX0QOEwqTCkUuD5k+SvNvsaV6WzXh+cdP3ISEmM3EskfWF5FqQmqkW6EYNSAj\n",
       "emjHBzw52B8Rd0c+GS2YsGPOzn/0dYlOE/wQNUxgRDehR6Eo1vgPTxXzHcK1tld4mZYixbf6ysYm\n",
       "nDViU44BWaio80dkm8CJLlgp9h97Zoa4Zv0ZxN2uqgnNuTFLtKkJ+6HdsOt+KegInX6IbBM40est\n",
       "KlEmy32JRQsT2tw9677WL1KVSKXy5kmlIpKcv7zwmZSVcdPt2RY6crlNE7EVO1apzABKxLaY0Jzs\n",
       "gmIB1TwNqeUNVyHZ1aoJmyWyVgEhYiaI9S1mIac474xc33Xb8mYmFLPu/NLKMhV1/ogsE7xEvKrI\n",
       "exQNuBx1JZK6cM01uFPb0IQMEzEcnq15I5IvIssELxGfmQw3LFZNH464uwkrr8Dujc+F+DDcKDjc\n",
       "AjsX/BBZJniJuH8m+dbRR2bPfXV3e8jhxodaC0fbloVGa2pNojMf9UNkRyQPEUyWITZFHZrd5EGc\n",
       "2NtH0qVNiY7ii2gXEESwOAaREqV5m9Nj1bt4xkAqrSS/JBFp2CTRbaD0sc5Rk9Kcox8QJumm+g0Z\n",
       "uSeHQ8Tv3Ug2Y4cQ8vkQttLZfL0X0jccIqF1DyUTI18cml1PcnmJzhIKkUi55ymZNOG82vHZZVpz\n",
       "P3nVD4VIPB0UDepli+j/Ih8zm90/JbpWPgyipEG/KpMP0TzZJLtAZ0miuykEIvgi8BH5OII+4/Jk\n",
       "M0tqTtYkuksIRPBM4A/SR9E54MlmGZpPKD6tIRBZKxurUmL70GBmJ5voDpyQ6I08gRPBYD3y6Uco\n",
       "uesFfFd6kk3Zw5Dode7AifQD9oWUfK89hM4lkmzapUdBbwmcKGbvOa1ACZ7H5hJLNu22skRspAET\n",
       "wTiHf0Mg8SQNQnWhAAAAAElFTkSuQmCC\n",
       "\" style=\"display:inline;vertical-align:middle;\" /></a></span>"
      ],
      "text/plain": [
       "{d = y} |- (a = (b + (c / d) + c^{d})) = (a = (b + (c / d) + c^{y}))"
      ]
     },
     "execution_count": 15,
     "metadata": {},
     "output_type": "execute_result"
    }
   ],
   "source": [
    "d_eq_y.substitution(expr.inner_expr().rhs.operands[2].exponent, assumptions=[d_eq_y])"
   ]
  },
  {
   "cell_type": "markdown",
   "metadata": {},
   "source": [
    "The `substition` method, that we demonstrated above, is a direct application of the `substitution` axiom.  It proves the equality between some $f(x)$ and some $f(y)$.  We often will want to take a shortcut to perform a statement substitution in which we prove some $P(y)$ is true assuming that $P(x)$ is true and $P(x) = P(y)$.  For this, we have the `sub_right_side_into` and `sub_left_side_into` methods."
   ]
  },
  {
   "cell_type": "markdown",
   "metadata": {},
   "source": [
    "If the expression that we want to substitute in is on the right hand side of the `Equals` object playing the role of $x=y$, then we use `sub_right_side_into`: "
   ]
  },
  {
   "cell_type": "code",
   "execution_count": 16,
   "metadata": {},
   "outputs": [
    {
     "data": {
      "text/html": [
       "<span style=\"font-size:20px;\"><a class=\"ProveItLink\" href=\"../__pv_it/demonstrations/1c9a0bdbd0d497b5d9bf928a51e5d753c1036aea0/expr.ipynb\"><img src=\"data:image/png;base64,iVBORw0KGgoAAAANSUhEUgAAAJoAAAAmBAMAAADO2Z8qAAAAMFBMVEX///9UVFSqqqrMzMwiIiJE\n",
       "RESYmJgyMjK6urru7u4QEBCIiIh2dnZmZmbc3NwAAABRgo0vAAAAAXRSTlMAQObYZgAAApVJREFU\n",
       "SMeVVj1oFEEUfveXu93s7kULLdJsb3FX2yRqJxZnk4AgXKWgzQXERSQQKyGNV2iRQNigJiEI4cwV\n",
       "EWLgCtFCi4hFikRcIZVNjgscWYyn8+6c+9v3ZjdT7LLv59uZ9+b7ZgCYMVKEMw1tTOXdIq3GdpVL\n",
       "eKoAy6xTVusqTHMZo4rJLeYpa7IG59mUhzzaOdL6o8yEm8cAvzgnJFqkeYXtQR0gxi41TXq0Uy4+\n",
       "XhIz8DnvkUeamyKP7vWueDzm0PZo81fQvlFz3t+yxeseh/aGNhsf71Pm5/kJ7MDRHJ1liRbBi9dR\n",
       "efAdLuNLrzG0quNzNiraS3iLr1iJ2T6T+GzIz0tUFyu9srVgagHZUKfRkgUklx8RDTYSx6gRcXqT\n",
       "QhYbbkxGRXuyuYNoCbEY62A/wPAshqbHd+wIaJ+3JaU1sR3nvXR7vZ8cHJ3Ku/gr95HWCkc7tFPd\n",
       "4v8GbRXMQoAKiJYrC3co2g2I2dJ2CqYPycpw6ITd5kObl2LO1x1nBs1/ceBCDMd5sOY4gsxmPzn/\n",
       "gF4AN0+izUKmETo3vTCA5tYgB726zfRW2uz+WIHm1gYkxrXhYnxYMVwMPYHFYihaVoTIullNSFVG\n",
       "rhiBHYJ/vAC3w/ebOQZLslBiv2nj1Z/vhkN1FMul98UIu/fLnW4PMyc0F1KD/O1DS9zaDXJBagUj\n",
       "vsbywOdCfxH+V0krh2X1lsFKPDxjTybmMOkwjhkfeJlzucvGTTZFIaE5j3EwB4Z1UG3waHvspG3S\n",
       "PO+lfJWgc1cUUuJRb0os2Ogy63pFHhc+3mu4ofM3vrtkvNCbuTPe+DpsqFDVlHpDdmhDcfG8Rvcm\n",
       "qDfdA99WnLiHHjVhQm/kmFKd3xZxuST1RvqwoP8AuPKvFXKdTRQAAAAASUVORK5CYII=\n",
       "\" style=\"display:inline;vertical-align:middle;\" /></a>, <a class=\"ProveItLink\" href=\"../__pv_it/demonstrations/d4ab56243a59ba35c617968a2993e307e3f3268c0/expr.ipynb\"><img src=\"data:image/png;base64,iVBORw0KGgoAAAANSUhEUgAAADEAAAASBAMAAAAAiiu3AAAAMFBMVEX///9UVFSYmJiIiIjc3Nwy\n",
       "MjIiIiJ2dnbu7u66urqqqqpmZmYQEBBERETMzMwAAAAYOWz6AAAAAXRSTlMAQObYZgAAALRJREFU\n",
       "GNNjYGBg4LuzgQEH4F+AS2Z+Ay6ZMlwSDNHYhVm22/1CFeGwNmDwAVowx4H3B4hfGgoCIO3snAcY\n",
       "7IEKDjFwB6Dq8QIK3GVg4P7BwFaAKtPAY8DwmYGB5wJD/wQMX/D9Y2DoL2BYz4CwJxDE3MrAfAAo\n",
       "s4BBlMsBVc9FBl4BBgZeA6ZEdjTTNjLMVwC6TdjO0RJNptF4vwOuUNmKXZgxgOMndhk2BV4D7DKc\n",
       "xvuAJACxMCbcEMrT2gAAAABJRU5ErkJggg==\n",
       "\" style=\"display:inline;vertical-align:middle;\" /></a> <a class=\"ProveItLink\" href=\"../__pv_it/demonstrations/5e19b63959e20e49d2d02a50e3158c19a12325900/proof.ipynb\" style=\"text-decoration: none\">&nbsp;&#x22A2;&nbsp;&nbsp;</a><a class=\"ProveItLink\" href=\"../__pv_it/demonstrations/d6bdd314bae630b00132bc4552d61de9dfa48a090/expr.ipynb\"><img src=\"data:image/png;base64,iVBORw0KGgoAAAANSUhEUgAAAJ8AAAAyBAMAAACwtxTjAAAAMFBMVEX///9UVFSqqqrMzMwiIiJE\n",
       "RESYmJgyMjK6urru7u4QEBCIiIh2dnZmZmbc3NwAAABRgo0vAAAAAXRSTlMAQObYZgAAAtBJREFU\n",
       "SMetVz2IE1EQnsTdy767/Qk2V6S4LazOIlfbJCqIiEIEQdAmjVoouKlSCREE4SyylofI3nGceGgR\n",
       "OQ7EcFwKOQuF+FMI5iAr2NgdFpGgqJu3G7K53Zn9wddk8+a9783Mm/lmHgA25AYkGw8j5O8S4oFk\n",
       "kOK5fFJAuEFKFxPjgdghhOxpckByj/g+OSBpVdFMASgQNl/ABG/bS+im7B9UNIOJvumikUINECqI\n",
       "4DxkdBzwNuqoEpImypB0otXCJF+Q+dkKCZhD3bGGqdCh0wtz/ZEBItCqAIQP1UHSk5Q8PA4JG+kF\n",
       "CCZlmbiKctD1ML/LmnmCf1wifc+ulGOmyPd7sM0/upjv3UzOxU7ofSi4gYikUcm1Sxv7/3jYIv/k\n",
       "WVj3bwxSg4vUNOMCnpYO/KYFU8jV/DXEBby77Ya05vC8ut/bPLx21+Y/tfbHGIBye4vZYtUFdG5z\n",
       "2c5xdd/UR+OOe1ncVvbTtOxIQPUUXM507nvhYQB7AkogQfscMDsErRUJ6LDqUemWl5Kz5RF/CIGr\n",
       "WXDTwuC566h+rl6vcYv+joZnjzfZ91OWsDqKYWspHNAJw6YeqeEGTAM6OhRh4sOaz2SHCbzjCUD2\n",
       "ewqwDJYO81n70Noun9AajoMjNXQIJjvJWQPE1sxJORA23AmZ6riYUoAfgH2aAOaBFba+vgwENq8A\n",
       "rLcXI7DlvZs+vkQypdjAk4KcxBi9VJ3+vxK2aAVnlSDTp2lEfKwSLMtGSsCujZSOg5SAC1gngtXz\n",
       "Rz1QNwnADayM/kAEnWWYI7RXfyUs9Kr+GcRKikIPfaRHhWdjRgsvv2iZbCLNkjSEEt4fEocJSCA6\n",
       "FPmKuJNdtJ3DrlnMw0UCcA0XPcd6G2kAaVpirGlnhR1iE9VpoDKFyMpF4umgrodOz4PVSPlYOhY6\n",
       "ewau4lsyJEcpoY/HBztEFF6jiaPwn5+3oCR+gPMr+Qcd7bWM9iGuXAAAAABJRU5ErkJggg==\n",
       "\" style=\"display:inline;vertical-align:middle;\" /></a></span>"
      ],
      "text/plain": [
       "{a = (b + (c / d) + c^{d}), d = y} |- a = (b + (c / y) + c^{y})"
      ]
     },
     "execution_count": 16,
     "metadata": {},
     "output_type": "execute_result"
    }
   ],
   "source": [
    "d_eq_y.sub_right_side_into(g_repl, assumptions=[d_eq_y,expr])"
   ]
  },
  {
   "cell_type": "markdown",
   "metadata": {},
   "source": [
    "We can also take advantage of the global replacement default and provide a non-**Lambda** **Expression**."
   ]
  },
  {
   "cell_type": "code",
   "execution_count": 17,
   "metadata": {},
   "outputs": [
    {
     "data": {
      "text/html": [
       "<span style=\"font-size:20px;\"><a class=\"ProveItLink\" href=\"../__pv_it/demonstrations/1c9a0bdbd0d497b5d9bf928a51e5d753c1036aea0/expr.ipynb\"><img src=\"data:image/png;base64,iVBORw0KGgoAAAANSUhEUgAAAJoAAAAmBAMAAADO2Z8qAAAAMFBMVEX///9UVFSqqqrMzMwiIiJE\n",
       "RESYmJgyMjK6urru7u4QEBCIiIh2dnZmZmbc3NwAAABRgo0vAAAAAXRSTlMAQObYZgAAApVJREFU\n",
       "SMeVVj1oFEEUfveXu93s7kULLdJsb3FX2yRqJxZnk4AgXKWgzQXERSQQKyGNV2iRQNigJiEI4cwV\n",
       "EWLgCtFCi4hFikRcIZVNjgscWYyn8+6c+9v3ZjdT7LLv59uZ9+b7ZgCYMVKEMw1tTOXdIq3GdpVL\n",
       "eKoAy6xTVusqTHMZo4rJLeYpa7IG59mUhzzaOdL6o8yEm8cAvzgnJFqkeYXtQR0gxi41TXq0Uy4+\n",
       "XhIz8DnvkUeamyKP7vWueDzm0PZo81fQvlFz3t+yxeseh/aGNhsf71Pm5/kJ7MDRHJ1liRbBi9dR\n",
       "efAdLuNLrzG0quNzNiraS3iLr1iJ2T6T+GzIz0tUFyu9srVgagHZUKfRkgUklx8RDTYSx6gRcXqT\n",
       "QhYbbkxGRXuyuYNoCbEY62A/wPAshqbHd+wIaJ+3JaU1sR3nvXR7vZ8cHJ3Ku/gr95HWCkc7tFPd\n",
       "4v8GbRXMQoAKiJYrC3co2g2I2dJ2CqYPycpw6ITd5kObl2LO1x1nBs1/ceBCDMd5sOY4gsxmPzn/\n",
       "gF4AN0+izUKmETo3vTCA5tYgB726zfRW2uz+WIHm1gYkxrXhYnxYMVwMPYHFYihaVoTIullNSFVG\n",
       "rhiBHYJ/vAC3w/ebOQZLslBiv2nj1Z/vhkN1FMul98UIu/fLnW4PMyc0F1KD/O1DS9zaDXJBagUj\n",
       "vsbywOdCfxH+V0krh2X1lsFKPDxjTybmMOkwjhkfeJlzucvGTTZFIaE5j3EwB4Z1UG3waHvspG3S\n",
       "PO+lfJWgc1cUUuJRb0os2Ogy63pFHhc+3mu4ofM3vrtkvNCbuTPe+DpsqFDVlHpDdmhDcfG8Rvcm\n",
       "qDfdA99WnLiHHjVhQm/kmFKd3xZxuST1RvqwoP8AuPKvFXKdTRQAAAAASUVORK5CYII=\n",
       "\" style=\"display:inline;vertical-align:middle;\" /></a>, <a class=\"ProveItLink\" href=\"../__pv_it/demonstrations/d4ab56243a59ba35c617968a2993e307e3f3268c0/expr.ipynb\"><img src=\"data:image/png;base64,iVBORw0KGgoAAAANSUhEUgAAADEAAAASBAMAAAAAiiu3AAAAMFBMVEX///9UVFSYmJiIiIjc3Nwy\n",
       "MjIiIiJ2dnbu7u66urqqqqpmZmYQEBBERETMzMwAAAAYOWz6AAAAAXRSTlMAQObYZgAAALRJREFU\n",
       "GNNjYGBg4LuzgQEH4F+AS2Z+Ay6ZMlwSDNHYhVm22/1CFeGwNmDwAVowx4H3B4hfGgoCIO3snAcY\n",
       "7IEKDjFwB6Dq8QIK3GVg4P7BwFaAKtPAY8DwmYGB5wJD/wQMX/D9Y2DoL2BYz4CwJxDE3MrAfAAo\n",
       "s4BBlMsBVc9FBl4BBgZeA6ZEdjTTNjLMVwC6TdjO0RJNptF4vwOuUNmKXZgxgOMndhk2BV4D7DKc\n",
       "xvuAJACxMCbcEMrT2gAAAABJRU5ErkJggg==\n",
       "\" style=\"display:inline;vertical-align:middle;\" /></a> <a class=\"ProveItLink\" href=\"../__pv_it/demonstrations/5e19b63959e20e49d2d02a50e3158c19a12325900/proof.ipynb\" style=\"text-decoration: none\">&nbsp;&#x22A2;&nbsp;&nbsp;</a><a class=\"ProveItLink\" href=\"../__pv_it/demonstrations/d6bdd314bae630b00132bc4552d61de9dfa48a090/expr.ipynb\"><img src=\"data:image/png;base64,iVBORw0KGgoAAAANSUhEUgAAAJ8AAAAyBAMAAACwtxTjAAAAMFBMVEX///9UVFSqqqrMzMwiIiJE\n",
       "RESYmJgyMjK6urru7u4QEBCIiIh2dnZmZmbc3NwAAABRgo0vAAAAAXRSTlMAQObYZgAAAtBJREFU\n",
       "SMetVz2IE1EQnsTdy767/Qk2V6S4LazOIlfbJCqIiEIEQdAmjVoouKlSCREE4SyylofI3nGceGgR\n",
       "OQ7EcFwKOQuF+FMI5iAr2NgdFpGgqJu3G7K53Zn9wddk8+a9783Mm/lmHgA25AYkGw8j5O8S4oFk\n",
       "kOK5fFJAuEFKFxPjgdghhOxpckByj/g+OSBpVdFMASgQNl/ABG/bS+im7B9UNIOJvumikUINECqI\n",
       "4DxkdBzwNuqoEpImypB0otXCJF+Q+dkKCZhD3bGGqdCh0wtz/ZEBItCqAIQP1UHSk5Q8PA4JG+kF\n",
       "CCZlmbiKctD1ML/LmnmCf1wifc+ulGOmyPd7sM0/upjv3UzOxU7ofSi4gYikUcm1Sxv7/3jYIv/k\n",
       "WVj3bwxSg4vUNOMCnpYO/KYFU8jV/DXEBby77Ya05vC8ut/bPLx21+Y/tfbHGIBye4vZYtUFdG5z\n",
       "2c5xdd/UR+OOe1ncVvbTtOxIQPUUXM507nvhYQB7AkogQfscMDsErRUJ6LDqUemWl5Kz5RF/CIGr\n",
       "WXDTwuC566h+rl6vcYv+joZnjzfZ91OWsDqKYWspHNAJw6YeqeEGTAM6OhRh4sOaz2SHCbzjCUD2\n",
       "ewqwDJYO81n70Noun9AajoMjNXQIJjvJWQPE1sxJORA23AmZ6riYUoAfgH2aAOaBFba+vgwENq8A\n",
       "rLcXI7DlvZs+vkQypdjAk4KcxBi9VJ3+vxK2aAVnlSDTp2lEfKwSLMtGSsCujZSOg5SAC1gngtXz\n",
       "Rz1QNwnADayM/kAEnWWYI7RXfyUs9Kr+GcRKikIPfaRHhWdjRgsvv2iZbCLNkjSEEt4fEocJSCA6\n",
       "FPmKuJNdtJ3DrlnMw0UCcA0XPcd6G2kAaVpirGlnhR1iE9VpoDKFyMpF4umgrodOz4PVSPlYOhY6\n",
       "ewau4lsyJEcpoY/HBztEFF6jiaPwn5+3oCR+gPMr+Qcd7bWM9iGuXAAAAABJRU5ErkJggg==\n",
       "\" style=\"display:inline;vertical-align:middle;\" /></a></span>"
      ],
      "text/plain": [
       "{a = (b + (c / d) + c^{d}), d = y} |- a = (b + (c / y) + c^{y})"
      ]
     },
     "execution_count": 17,
     "metadata": {},
     "output_type": "execute_result"
    }
   ],
   "source": [
    "d_eq_y.sub_right_side_into(expr, assumptions=[d_eq_y,expr])"
   ]
  },
  {
   "cell_type": "markdown",
   "metadata": {},
   "source": [
    "If the expression that we want to substitute in is on the left hand side of the `Equals` object playing the role of $x=y$, then we use `sub_left_side_into`: "
   ]
  },
  {
   "cell_type": "code",
   "execution_count": 18,
   "metadata": {},
   "outputs": [
    {
     "data": {
      "text/html": [
       "<strong id=\"y_eq_d\">y_eq_d:</strong> <a class=\"ProveItLink\" href=\"../__pv_it/demonstrations/8414d5d885094801f8ec1323d3596a032d95dfcb0/expr.ipynb\"><img src=\"data:image/png;base64,iVBORw0KGgoAAAANSUhEUgAAADIAAAASBAMAAADrvZC0AAAAMFBMVEX///8iIiKYmJhUVFTMzMxE\n",
       "REQyMjKqqqq6urp2dnYQEBDc3NxmZmaIiIju7u4AAACH5sGpAAAAAXRSTlMAQObYZgAAALRJREFU\n",
       "GNNjYMAOXNcw4ALfcUlw/MMlwymAS4btAAPfnQsMux6gie+Z61/AwMmxgOE+iDctDQRywJasZoh/\n",
       "wLCdJ4EhFE3LKwWGYwwMD7guMPxFkzn/gEESSPU/YPmCJrOUge8HkDrGwLsAYU8ykMX3k4H9A5AO\n",
       "ZmA1QNXC952BOaGageEwQ78CmmmxDIoGExgYHt89vwFN5vFdb9sGBrBNWAFzAtgdWACjAusFHMF9\n",
       "9wh2CQCXOTHtA7C70QAAAABJRU5ErkJggg==\n",
       "\" style=\"display:inline;vertical-align:middle;\" /></a><br>"
      ],
      "text/plain": [
       "y_eq_d: y = d"
      ]
     },
     "execution_count": 18,
     "metadata": {},
     "output_type": "execute_result"
    }
   ],
   "source": [
    "y_eq_d = Equals(y, d)"
   ]
  },
  {
   "cell_type": "code",
   "execution_count": 19,
   "metadata": {},
   "outputs": [
    {
     "data": {
      "text/html": [
       "<span style=\"font-size:20px;\"><a class=\"ProveItLink\" href=\"../__pv_it/demonstrations/1c9a0bdbd0d497b5d9bf928a51e5d753c1036aea0/expr.ipynb\"><img src=\"data:image/png;base64,iVBORw0KGgoAAAANSUhEUgAAAJoAAAAmBAMAAADO2Z8qAAAAMFBMVEX///9UVFSqqqrMzMwiIiJE\n",
       "RESYmJgyMjK6urru7u4QEBCIiIh2dnZmZmbc3NwAAABRgo0vAAAAAXRSTlMAQObYZgAAApVJREFU\n",
       "SMeVVj1oFEEUfveXu93s7kULLdJsb3FX2yRqJxZnk4AgXKWgzQXERSQQKyGNV2iRQNigJiEI4cwV\n",
       "EWLgCtFCi4hFikRcIZVNjgscWYyn8+6c+9v3ZjdT7LLv59uZ9+b7ZgCYMVKEMw1tTOXdIq3GdpVL\n",
       "eKoAy6xTVusqTHMZo4rJLeYpa7IG59mUhzzaOdL6o8yEm8cAvzgnJFqkeYXtQR0gxi41TXq0Uy4+\n",
       "XhIz8DnvkUeamyKP7vWueDzm0PZo81fQvlFz3t+yxeseh/aGNhsf71Pm5/kJ7MDRHJ1liRbBi9dR\n",
       "efAdLuNLrzG0quNzNiraS3iLr1iJ2T6T+GzIz0tUFyu9srVgagHZUKfRkgUklx8RDTYSx6gRcXqT\n",
       "QhYbbkxGRXuyuYNoCbEY62A/wPAshqbHd+wIaJ+3JaU1sR3nvXR7vZ8cHJ3Ku/gr95HWCkc7tFPd\n",
       "4v8GbRXMQoAKiJYrC3co2g2I2dJ2CqYPycpw6ITd5kObl2LO1x1nBs1/ceBCDMd5sOY4gsxmPzn/\n",
       "gF4AN0+izUKmETo3vTCA5tYgB726zfRW2uz+WIHm1gYkxrXhYnxYMVwMPYHFYihaVoTIullNSFVG\n",
       "rhiBHYJ/vAC3w/ebOQZLslBiv2nj1Z/vhkN1FMul98UIu/fLnW4PMyc0F1KD/O1DS9zaDXJBagUj\n",
       "vsbywOdCfxH+V0krh2X1lsFKPDxjTybmMOkwjhkfeJlzucvGTTZFIaE5j3EwB4Z1UG3waHvspG3S\n",
       "PO+lfJWgc1cUUuJRb0os2Ogy63pFHhc+3mu4ofM3vrtkvNCbuTPe+DpsqFDVlHpDdmhDcfG8Rvcm\n",
       "qDfdA99WnLiHHjVhQm/kmFKd3xZxuST1RvqwoP8AuPKvFXKdTRQAAAAASUVORK5CYII=\n",
       "\" style=\"display:inline;vertical-align:middle;\" /></a>, <a class=\"ProveItLink\" href=\"../__pv_it/demonstrations/8414d5d885094801f8ec1323d3596a032d95dfcb0/expr.ipynb\"><img src=\"data:image/png;base64,iVBORw0KGgoAAAANSUhEUgAAADIAAAASBAMAAADrvZC0AAAAMFBMVEX///8iIiKYmJhUVFTMzMxE\n",
       "REQyMjKqqqq6urp2dnYQEBDc3NxmZmaIiIju7u4AAACH5sGpAAAAAXRSTlMAQObYZgAAALRJREFU\n",
       "GNNjYMAOXNcw4ALfcUlw/MMlwymAS4btAAPfnQsMux6gie+Z61/AwMmxgOE+iDctDQRywJasZoh/\n",
       "wLCdJ4EhFE3LKwWGYwwMD7guMPxFkzn/gEESSPU/YPmCJrOUge8HkDrGwLsAYU8ykMX3k4H9A5AO\n",
       "ZmA1QNXC952BOaGageEwQ78CmmmxDIoGExgYHt89vwFN5vFdb9sGBrBNWAFzAtgdWACjAusFHMF9\n",
       "9wh2CQCXOTHtA7C70QAAAABJRU5ErkJggg==\n",
       "\" style=\"display:inline;vertical-align:middle;\" /></a> <a class=\"ProveItLink\" href=\"../__pv_it/demonstrations/5ff33b77676fe81866cae3dd45e5d9b3cc6098490/proof.ipynb\" style=\"text-decoration: none\">&nbsp;&#x22A2;&nbsp;&nbsp;</a><a class=\"ProveItLink\" href=\"../__pv_it/demonstrations/d6bdd314bae630b00132bc4552d61de9dfa48a090/expr.ipynb\"><img src=\"data:image/png;base64,iVBORw0KGgoAAAANSUhEUgAAAJ8AAAAyBAMAAACwtxTjAAAAMFBMVEX///9UVFSqqqrMzMwiIiJE\n",
       "RESYmJgyMjK6urru7u4QEBCIiIh2dnZmZmbc3NwAAABRgo0vAAAAAXRSTlMAQObYZgAAAtBJREFU\n",
       "SMetVz2IE1EQnsTdy767/Qk2V6S4LazOIlfbJCqIiEIEQdAmjVoouKlSCREE4SyylofI3nGceGgR\n",
       "OQ7EcFwKOQuF+FMI5iAr2NgdFpGgqJu3G7K53Zn9wddk8+a9783Mm/lmHgA25AYkGw8j5O8S4oFk\n",
       "kOK5fFJAuEFKFxPjgdghhOxpckByj/g+OSBpVdFMASgQNl/ABG/bS+im7B9UNIOJvumikUINECqI\n",
       "4DxkdBzwNuqoEpImypB0otXCJF+Q+dkKCZhD3bGGqdCh0wtz/ZEBItCqAIQP1UHSk5Q8PA4JG+kF\n",
       "CCZlmbiKctD1ML/LmnmCf1wifc+ulGOmyPd7sM0/upjv3UzOxU7ofSi4gYikUcm1Sxv7/3jYIv/k\n",
       "WVj3bwxSg4vUNOMCnpYO/KYFU8jV/DXEBby77Ya05vC8ut/bPLx21+Y/tfbHGIBye4vZYtUFdG5z\n",
       "2c5xdd/UR+OOe1ncVvbTtOxIQPUUXM507nvhYQB7AkogQfscMDsErRUJ6LDqUemWl5Kz5RF/CIGr\n",
       "WXDTwuC566h+rl6vcYv+joZnjzfZ91OWsDqKYWspHNAJw6YeqeEGTAM6OhRh4sOaz2SHCbzjCUD2\n",
       "ewqwDJYO81n70Noun9AajoMjNXQIJjvJWQPE1sxJORA23AmZ6riYUoAfgH2aAOaBFba+vgwENq8A\n",
       "rLcXI7DlvZs+vkQypdjAk4KcxBi9VJ3+vxK2aAVnlSDTp2lEfKwSLMtGSsCujZSOg5SAC1gngtXz\n",
       "Rz1QNwnADayM/kAEnWWYI7RXfyUs9Kr+GcRKikIPfaRHhWdjRgsvv2iZbCLNkjSEEt4fEocJSCA6\n",
       "FPmKuJNdtJ3DrlnMw0UCcA0XPcd6G2kAaVpirGlnhR1iE9VpoDKFyMpF4umgrodOz4PVSPlYOhY6\n",
       "ewau4lsyJEcpoY/HBztEFF6jiaPwn5+3oCR+gPMr+Qcd7bWM9iGuXAAAAABJRU5ErkJggg==\n",
       "\" style=\"display:inline;vertical-align:middle;\" /></a></span>"
      ],
      "text/plain": [
       "{a = (b + (c / d) + c^{d}), y = d} |- a = (b + (c / y) + c^{y})"
      ]
     },
     "execution_count": 19,
     "metadata": {},
     "output_type": "execute_result"
    }
   ],
   "source": [
    "y_eq_d.sub_left_side_into(g_repl, assumptions=[y_eq_d,expr])"
   ]
  },
  {
   "cell_type": "markdown",
   "metadata": {},
   "source": [
    "Again, we can provide a non-**Lambda** **Expression** to do a simple global replacement."
   ]
  },
  {
   "cell_type": "code",
   "execution_count": 20,
   "metadata": {},
   "outputs": [
    {
     "data": {
      "text/html": [
       "<span style=\"font-size:20px;\"><a class=\"ProveItLink\" href=\"../__pv_it/demonstrations/1c9a0bdbd0d497b5d9bf928a51e5d753c1036aea0/expr.ipynb\"><img src=\"data:image/png;base64,iVBORw0KGgoAAAANSUhEUgAAAJoAAAAmBAMAAADO2Z8qAAAAMFBMVEX///9UVFSqqqrMzMwiIiJE\n",
       "RESYmJgyMjK6urru7u4QEBCIiIh2dnZmZmbc3NwAAABRgo0vAAAAAXRSTlMAQObYZgAAApVJREFU\n",
       "SMeVVj1oFEEUfveXu93s7kULLdJsb3FX2yRqJxZnk4AgXKWgzQXERSQQKyGNV2iRQNigJiEI4cwV\n",
       "EWLgCtFCi4hFikRcIZVNjgscWYyn8+6c+9v3ZjdT7LLv59uZ9+b7ZgCYMVKEMw1tTOXdIq3GdpVL\n",
       "eKoAy6xTVusqTHMZo4rJLeYpa7IG59mUhzzaOdL6o8yEm8cAvzgnJFqkeYXtQR0gxi41TXq0Uy4+\n",
       "XhIz8DnvkUeamyKP7vWueDzm0PZo81fQvlFz3t+yxeseh/aGNhsf71Pm5/kJ7MDRHJ1liRbBi9dR\n",
       "efAdLuNLrzG0quNzNiraS3iLr1iJ2T6T+GzIz0tUFyu9srVgagHZUKfRkgUklx8RDTYSx6gRcXqT\n",
       "QhYbbkxGRXuyuYNoCbEY62A/wPAshqbHd+wIaJ+3JaU1sR3nvXR7vZ8cHJ3Ku/gr95HWCkc7tFPd\n",
       "4v8GbRXMQoAKiJYrC3co2g2I2dJ2CqYPycpw6ITd5kObl2LO1x1nBs1/ceBCDMd5sOY4gsxmPzn/\n",
       "gF4AN0+izUKmETo3vTCA5tYgB726zfRW2uz+WIHm1gYkxrXhYnxYMVwMPYHFYihaVoTIullNSFVG\n",
       "rhiBHYJ/vAC3w/ebOQZLslBiv2nj1Z/vhkN1FMul98UIu/fLnW4PMyc0F1KD/O1DS9zaDXJBagUj\n",
       "vsbywOdCfxH+V0krh2X1lsFKPDxjTybmMOkwjhkfeJlzucvGTTZFIaE5j3EwB4Z1UG3waHvspG3S\n",
       "PO+lfJWgc1cUUuJRb0os2Ogy63pFHhc+3mu4ofM3vrtkvNCbuTPe+DpsqFDVlHpDdmhDcfG8Rvcm\n",
       "qDfdA99WnLiHHjVhQm/kmFKd3xZxuST1RvqwoP8AuPKvFXKdTRQAAAAASUVORK5CYII=\n",
       "\" style=\"display:inline;vertical-align:middle;\" /></a>, <a class=\"ProveItLink\" href=\"../__pv_it/demonstrations/8414d5d885094801f8ec1323d3596a032d95dfcb0/expr.ipynb\"><img src=\"data:image/png;base64,iVBORw0KGgoAAAANSUhEUgAAADIAAAASBAMAAADrvZC0AAAAMFBMVEX///8iIiKYmJhUVFTMzMxE\n",
       "REQyMjKqqqq6urp2dnYQEBDc3NxmZmaIiIju7u4AAACH5sGpAAAAAXRSTlMAQObYZgAAALRJREFU\n",
       "GNNjYMAOXNcw4ALfcUlw/MMlwymAS4btAAPfnQsMux6gie+Z61/AwMmxgOE+iDctDQRywJasZoh/\n",
       "wLCdJ4EhFE3LKwWGYwwMD7guMPxFkzn/gEESSPU/YPmCJrOUge8HkDrGwLsAYU8ykMX3k4H9A5AO\n",
       "ZmA1QNXC952BOaGageEwQ78CmmmxDIoGExgYHt89vwFN5vFdb9sGBrBNWAFzAtgdWACjAusFHMF9\n",
       "9wh2CQCXOTHtA7C70QAAAABJRU5ErkJggg==\n",
       "\" style=\"display:inline;vertical-align:middle;\" /></a> <a class=\"ProveItLink\" href=\"../__pv_it/demonstrations/5ff33b77676fe81866cae3dd45e5d9b3cc6098490/proof.ipynb\" style=\"text-decoration: none\">&nbsp;&#x22A2;&nbsp;&nbsp;</a><a class=\"ProveItLink\" href=\"../__pv_it/demonstrations/d6bdd314bae630b00132bc4552d61de9dfa48a090/expr.ipynb\"><img src=\"data:image/png;base64,iVBORw0KGgoAAAANSUhEUgAAAJ8AAAAyBAMAAACwtxTjAAAAMFBMVEX///9UVFSqqqrMzMwiIiJE\n",
       "RESYmJgyMjK6urru7u4QEBCIiIh2dnZmZmbc3NwAAABRgo0vAAAAAXRSTlMAQObYZgAAAtBJREFU\n",
       "SMetVz2IE1EQnsTdy767/Qk2V6S4LazOIlfbJCqIiEIEQdAmjVoouKlSCREE4SyylofI3nGceGgR\n",
       "OQ7EcFwKOQuF+FMI5iAr2NgdFpGgqJu3G7K53Zn9wddk8+a9783Mm/lmHgA25AYkGw8j5O8S4oFk\n",
       "kOK5fFJAuEFKFxPjgdghhOxpckByj/g+OSBpVdFMASgQNl/ABG/bS+im7B9UNIOJvumikUINECqI\n",
       "4DxkdBzwNuqoEpImypB0otXCJF+Q+dkKCZhD3bGGqdCh0wtz/ZEBItCqAIQP1UHSk5Q8PA4JG+kF\n",
       "CCZlmbiKctD1ML/LmnmCf1wifc+ulGOmyPd7sM0/upjv3UzOxU7ofSi4gYikUcm1Sxv7/3jYIv/k\n",
       "WVj3bwxSg4vUNOMCnpYO/KYFU8jV/DXEBby77Ya05vC8ut/bPLx21+Y/tfbHGIBye4vZYtUFdG5z\n",
       "2c5xdd/UR+OOe1ncVvbTtOxIQPUUXM507nvhYQB7AkogQfscMDsErRUJ6LDqUemWl5Kz5RF/CIGr\n",
       "WXDTwuC566h+rl6vcYv+joZnjzfZ91OWsDqKYWspHNAJw6YeqeEGTAM6OhRh4sOaz2SHCbzjCUD2\n",
       "ewqwDJYO81n70Noun9AajoMjNXQIJjvJWQPE1sxJORA23AmZ6riYUoAfgH2aAOaBFba+vgwENq8A\n",
       "rLcXI7DlvZs+vkQypdjAk4KcxBi9VJ3+vxK2aAVnlSDTp2lEfKwSLMtGSsCujZSOg5SAC1gngtXz\n",
       "Rz1QNwnADayM/kAEnWWYI7RXfyUs9Kr+GcRKikIPfaRHhWdjRgsvv2iZbCLNkjSEEt4fEocJSCA6\n",
       "FPmKuJNdtJ3DrlnMw0UCcA0XPcd6G2kAaVpirGlnhR1iE9VpoDKFyMpF4umgrodOz4PVSPlYOhY6\n",
       "ewau4lsyJEcpoY/HBztEFF6jiaPwn5+3oCR+gPMr+Qcd7bWM9iGuXAAAAABJRU5ErkJggg==\n",
       "\" style=\"display:inline;vertical-align:middle;\" /></a></span>"
      ],
      "text/plain": [
       "{a = (b + (c / d) + c^{d}), y = d} |- a = (b + (c / y) + c^{y})"
      ]
     },
     "execution_count": 20,
     "metadata": {},
     "output_type": "execute_result"
    }
   ],
   "source": [
    "y_eq_d.sub_left_side_into(expr, assumptions=[y_eq_d,expr])"
   ]
  },
  {
   "cell_type": "markdown",
   "metadata": {},
   "source": [
    "The proof uses a theorem the relies upon the `substitution` axiom, rather than using the `substition` axiom directly:"
   ]
  },
  {
   "cell_type": "code",
   "execution_count": 21,
   "metadata": {},
   "outputs": [
    {
     "data": {
      "text/html": [
       "<table><tr><th>&nbsp;</th><th>step type</th><th>requirements</th><th>statement</th></tr>\n",
       "<tr><td><a name=\"-0x24a0a66c1b96e537_step0\">0</a></td><td>instantiation</td><td><a href=\"#-0x24a0a66c1b96e537_step1\">1</a>, <a href=\"#-0x24a0a66c1b96e537_step2\">2</a>, <a href=\"#-0x24a0a66c1b96e537_step3\">3</a></td><td><span style=\"font-size:20px;\"><a class=\"ProveItLink\" href=\"../__pv_it/demonstrations/1c9a0bdbd0d497b5d9bf928a51e5d753c1036aea0/expr.ipynb\"><img src=\"data:image/png;base64,iVBORw0KGgoAAAANSUhEUgAAAJoAAAAmBAMAAADO2Z8qAAAAMFBMVEX///9UVFSqqqrMzMwiIiJE\n",
       "RESYmJgyMjK6urru7u4QEBCIiIh2dnZmZmbc3NwAAABRgo0vAAAAAXRSTlMAQObYZgAAApVJREFU\n",
       "SMeVVj1oFEEUfveXu93s7kULLdJsb3FX2yRqJxZnk4AgXKWgzQXERSQQKyGNV2iRQNigJiEI4cwV\n",
       "EWLgCtFCi4hFikRcIZVNjgscWYyn8+6c+9v3ZjdT7LLv59uZ9+b7ZgCYMVKEMw1tTOXdIq3GdpVL\n",
       "eKoAy6xTVusqTHMZo4rJLeYpa7IG59mUhzzaOdL6o8yEm8cAvzgnJFqkeYXtQR0gxi41TXq0Uy4+\n",
       "XhIz8DnvkUeamyKP7vWueDzm0PZo81fQvlFz3t+yxeseh/aGNhsf71Pm5/kJ7MDRHJ1liRbBi9dR\n",
       "efAdLuNLrzG0quNzNiraS3iLr1iJ2T6T+GzIz0tUFyu9srVgagHZUKfRkgUklx8RDTYSx6gRcXqT\n",
       "QhYbbkxGRXuyuYNoCbEY62A/wPAshqbHd+wIaJ+3JaU1sR3nvXR7vZ8cHJ3Ku/gr95HWCkc7tFPd\n",
       "4v8GbRXMQoAKiJYrC3co2g2I2dJ2CqYPycpw6ITd5kObl2LO1x1nBs1/ceBCDMd5sOY4gsxmPzn/\n",
       "gF4AN0+izUKmETo3vTCA5tYgB726zfRW2uz+WIHm1gYkxrXhYnxYMVwMPYHFYihaVoTIullNSFVG\n",
       "rhiBHYJ/vAC3w/ebOQZLslBiv2nj1Z/vhkN1FMul98UIu/fLnW4PMyc0F1KD/O1DS9zaDXJBagUj\n",
       "vsbywOdCfxH+V0krh2X1lsFKPDxjTybmMOkwjhkfeJlzucvGTTZFIaE5j3EwB4Z1UG3waHvspG3S\n",
       "PO+lfJWgc1cUUuJRb0os2Ogy63pFHhc+3mu4ofM3vrtkvNCbuTPe+DpsqFDVlHpDdmhDcfG8Rvcm\n",
       "qDfdA99WnLiHHjVhQm/kmFKd3xZxuST1RvqwoP8AuPKvFXKdTRQAAAAASUVORK5CYII=\n",
       "\" style=\"display:inline;vertical-align:middle;\" /></a>, <a class=\"ProveItLink\" href=\"../__pv_it/demonstrations/8414d5d885094801f8ec1323d3596a032d95dfcb0/expr.ipynb\"><img src=\"data:image/png;base64,iVBORw0KGgoAAAANSUhEUgAAADIAAAASBAMAAADrvZC0AAAAMFBMVEX///8iIiKYmJhUVFTMzMxE\n",
       "REQyMjKqqqq6urp2dnYQEBDc3NxmZmaIiIju7u4AAACH5sGpAAAAAXRSTlMAQObYZgAAALRJREFU\n",
       "GNNjYMAOXNcw4ALfcUlw/MMlwymAS4btAAPfnQsMux6gie+Z61/AwMmxgOE+iDctDQRywJasZoh/\n",
       "wLCdJ4EhFE3LKwWGYwwMD7guMPxFkzn/gEESSPU/YPmCJrOUge8HkDrGwLsAYU8ykMX3k4H9A5AO\n",
       "ZmA1QNXC952BOaGageEwQ78CmmmxDIoGExgYHt89vwFN5vFdb9sGBrBNWAFzAtgdWACjAusFHMF9\n",
       "9wh2CQCXOTHtA7C70QAAAABJRU5ErkJggg==\n",
       "\" style=\"display:inline;vertical-align:middle;\" /></a> <a class=\"ProveItLink\" href=\"../__pv_it/demonstrations/5ff33b77676fe81866cae3dd45e5d9b3cc6098490/proof.ipynb\" style=\"text-decoration: none\">&nbsp;&#x22A2;&nbsp;&nbsp;</a><a class=\"ProveItLink\" href=\"../__pv_it/demonstrations/d6bdd314bae630b00132bc4552d61de9dfa48a090/expr.ipynb\"><img src=\"data:image/png;base64,iVBORw0KGgoAAAANSUhEUgAAAJ8AAAAyBAMAAACwtxTjAAAAMFBMVEX///9UVFSqqqrMzMwiIiJE\n",
       "RESYmJgyMjK6urru7u4QEBCIiIh2dnZmZmbc3NwAAABRgo0vAAAAAXRSTlMAQObYZgAAAtBJREFU\n",
       "SMetVz2IE1EQnsTdy767/Qk2V6S4LazOIlfbJCqIiEIEQdAmjVoouKlSCREE4SyylofI3nGceGgR\n",
       "OQ7EcFwKOQuF+FMI5iAr2NgdFpGgqJu3G7K53Zn9wddk8+a9783Mm/lmHgA25AYkGw8j5O8S4oFk\n",
       "kOK5fFJAuEFKFxPjgdghhOxpckByj/g+OSBpVdFMASgQNl/ABG/bS+im7B9UNIOJvumikUINECqI\n",
       "4DxkdBzwNuqoEpImypB0otXCJF+Q+dkKCZhD3bGGqdCh0wtz/ZEBItCqAIQP1UHSk5Q8PA4JG+kF\n",
       "CCZlmbiKctD1ML/LmnmCf1wifc+ulGOmyPd7sM0/upjv3UzOxU7ofSi4gYikUcm1Sxv7/3jYIv/k\n",
       "WVj3bwxSg4vUNOMCnpYO/KYFU8jV/DXEBby77Ya05vC8ut/bPLx21+Y/tfbHGIBye4vZYtUFdG5z\n",
       "2c5xdd/UR+OOe1ncVvbTtOxIQPUUXM507nvhYQB7AkogQfscMDsErRUJ6LDqUemWl5Kz5RF/CIGr\n",
       "WXDTwuC566h+rl6vcYv+joZnjzfZ91OWsDqKYWspHNAJw6YeqeEGTAM6OhRh4sOaz2SHCbzjCUD2\n",
       "ewqwDJYO81n70Noun9AajoMjNXQIJjvJWQPE1sxJORA23AmZ6riYUoAfgH2aAOaBFba+vgwENq8A\n",
       "rLcXI7DlvZs+vkQypdjAk4KcxBi9VJ3+vxK2aAVnlSDTp2lEfKwSLMtGSsCujZSOg5SAC1gngtXz\n",
       "Rz1QNwnADayM/kAEnWWYI7RXfyUs9Kr+GcRKikIPfaRHhWdjRgsvv2iZbCLNkjSEEt4fEocJSCA6\n",
       "FPmKuJNdtJ3DrlnMw0UCcA0XPcd6G2kAaVpirGlnhR1iE9VpoDKFyMpF4umgrodOz4PVSPlYOhY6\n",
       "ewau4lsyJEcpoY/HBztEFF6jiaPwn5+3oCR+gPMr+Qcd7bWM9iGuXAAAAABJRU5ErkJggg==\n",
       "\" style=\"display:inline;vertical-align:middle;\" /></a></span></td></tr>\n",
       "<tr><td>&nbsp;</td><td colspan=4 style=\"text-align:left\"><span style=\"font-size:20px;\"><a class=\"ProveItLink\" href=\"../__pv_it/demonstrations/6b3a11bcfb6b260a119649cb9ebfc0e2d8e305090/expr.ipynb\"><img src=\"data:image/png;base64,iVBORw0KGgoAAAANSUhEUgAAADcAAAAUBAMAAADbzbjtAAAAMFBMVEX///8iIiLc3Ny6urqIiIiq\n",
       "qqp2dnbMzMwQEBDu7u5mZmYyMjJERERUVFSYmJgAAAA4CJ/KAAAAAXRSTlMAQObYZgAAAQ1JREFU\n",
       "KM9jYIADpgcMyCAITL79f/burgkMDHNQ5Bh4FcDUbwYGnk4Ghk2okpwbQCT7NwYG1i8MfAtQJRlS\n",
       "QATLZyD+xsCogCY5A0TwfABa8JlBEU2OgdsASPADDddfwOCF5O5lS4BuYAPZU5/AwCrGwHAOIWmh\n",
       "wA00jQ/kIv9raUuAPhFFuLOPgesA0JECQPb5CWChZrgk108GRgegL4C6GT4yoElyHGCYXwCRZP8F\n",
       "EUIYOz+BIR5IMQtAvAkCCAfND2C4zaoAdhD3T4hQFlySx4FPlg1odQID1/6/DmAhQ6BBZ4DgJAPn\n",
       "FXddZ6CuAoTnMIJvIhIbe8DDwCFsUQYDaJHNg2INWjJ5xMAAAHA6PhPQZp1jAAAAAElFTkSuQmCC\n",
       "\" style=\"display:inline;vertical-align:middle;\" /></a> : <a class=\"ProveItLink\" href=\"../__pv_it/demonstrations/53c850fa54cb26cca0b3d81f98dd2c329a313ad20/expr.ipynb\"><img src=\"data:image/png;base64,iVBORw0KGgoAAAANSUhEUgAAALkAAAAyBAMAAADy9Gd0AAAAMFBMVEX///9UVFSqqqrMzMwiIiJE\n",
       "RESYmJgyMjK6urru7u4QEBCIiIh2dnZmZmbc3NwAAABRgo0vAAAAAXRSTlMAQObYZgAAAsFJREFU\n",
       "WMO1WL9v01AQvvxwE6dxbLEwZKgHJjqk/0ECbKhIHUAIpiyAEENdgeS1EwNLwshQuRUqUIkhqAtS\n",
       "hnZAZQApoUgMlKhG4g+oGIoqEOAfCbh+787Pfu1bovj0Pt/77u67ewbAVnUZJNbjBPt7GXAoW6R5\n",
       "2pBChzuk9bwcOCjbhFF9IYlOAihDSXTy8I2uLHqRoOYKse9df04APf8bNU3hJvhmKpaI87iDxQV8\n",
       "1zzkTBH0RZTcJl6o2pEg8U4Ps3zGN1UWBNFLKH9rhEvbgujTWOwKh/gmvQ0gxHvtMO1rfd4NWKEz\n",
       "cuXVfZIAZZUSz9s9WgMuFcLAXyUjp95sZSlSbVgI9w2wyIUqU8okNhVzrN6LCIHN8Oz6JHqzRMEz\n",
       "NDmucrcbQWE1LITtdLOgV9zmwygDbBGHZ3oD6dDV0Wi0C+X67Kfw6B5BtS97G/EtW27ws9TfFUev\n",
       "9jfjleHlxiO3dOAb7WCFhxkElKg/uo4ril67CNfjFFmgPgONUY79AD1/BHpPFN1rFmfi6C1f8opM\n",
       "YGbCxLUCUXlr25dte8l/8ieyxgd+8Ny2jX8OHZfxVb9wnDk+upfuHVPU93XgoXveNeA/70aEGU+v\n",
       "xh4lo6u/OOgtcEw4m3djzwfBA33ZC4qo754g5tmoKr2pC1UmIwOucu3J3CGA/gHUj3F0A9T65tfX\n",
       "TDUFjU/d2xGvpurOPaYTILXaiLXVVEqQ2MWa7eP/nxBqjo9VmIrp0nNeRAvZXLJOAn3gIu3l4CTQ\n",
       "Z7BBL2Ei4ukqu9axieM7vW+sqwku/MwwLfl5wtPVFGPLPt31ebrKji3oRNEhr5NcXWXTGnWgSCb8\n",
       "RFfptYXWGZ00XF1NE7uXJKM8XU1xs0FuZeVr3rrB11VmfB9mswneKIlbY+3pad6G4Zwkeo48vCb5\n",
       "FeIWba6f5hcU0OS+/gQx/QswxMNHF3KuqQAAAABJRU5ErkJggg==\n",
       "\" style=\"display:inline;vertical-align:middle;\" /></a>, <a class=\"ProveItLink\" href=\"../../../__pv_it/common/a2581dc5df71d9a30bad37de14965fa5fec97a240/expr.ipynb\"><img src=\"data:image/png;base64,iVBORw0KGgoAAAANSUhEUgAAAAsAAAAJBAMAAAAWSsseAAAALVBMVEX///9mZmaqqqrMzMxEREQy\n",
       "MjIiIiKYmJh2dna6urrc3NxUVFSIiIju7u4AAACJHQtQAAAAAXRSTlMAQObYZgAAAEJJREFUCNdj\n",
       "YLhzeuWJAwy8Dew5bAEMHBc43nIuYOBlYHFgAAG+A2DKzgBIMF04x8BzgWGegh/DcgaG22fuiBcw\n",
       "AAATyhBrnyPYZQAAAABJRU5ErkJggg==\n",
       "\" style=\"display:inline;vertical-align:middle;\" /></a> : <a class=\"ProveItLink\" href=\"../../../__pv_it/common/0f21cbfd5644a1cae6781c1d58354abc2ffbc9000/expr.ipynb\"><img src=\"data:image/png;base64,iVBORw0KGgoAAAANSUhEUgAAAAsAAAANBAMAAACN24kIAAAAMFBMVEX///8iIiKYmJhUVFTMzMxE\n",
       "REQyMjKqqqq6urp2dnYQEBDc3NxmZmaIiIju7u4AAACH5sGpAAAAAXRSTlMAQObYZgAAAFlJREFU\n",
       "CNdj4LtzgWHXAwZOjgUM9xkYtvMkMIQyMDzgusDwl4GBof8ByxcgdYyBdwGQCmZgNQBShxn6FYDU\n",
       "47vnNzAwgGUZGJgT+H4AKUYF1gtAiuPuESAJAJGkFvXVdzA+AAAAAElFTkSuQmCC\n",
       "\" style=\"display:inline;vertical-align:middle;\" /></a>, <a class=\"ProveItLink\" href=\"../../../__pv_it/common/0f21cbfd5644a1cae6781c1d58354abc2ffbc9000/expr.ipynb\"><img src=\"data:image/png;base64,iVBORw0KGgoAAAANSUhEUgAAAAsAAAANBAMAAACN24kIAAAAMFBMVEX///8iIiKYmJhUVFTMzMxE\n",
       "REQyMjKqqqq6urp2dnYQEBDc3NxmZmaIiIju7u4AAACH5sGpAAAAAXRSTlMAQObYZgAAAFlJREFU\n",
       "CNdj4LtzgWHXAwZOjgUM9xkYtvMkMIQyMDzgusDwl4GBof8ByxcgdYyBdwGQCmZgNQBShxn6FYDU\n",
       "47vnNzAwgGUZGJgT+H4AKUYF1gtAiuPuESAJAJGkFvXVdzA+AAAAAElFTkSuQmCC\n",
       "\" style=\"display:inline;vertical-align:middle;\" /></a> : <a class=\"ProveItLink\" href=\"../../../__pv_it/common/ba27da3f6d5512be14b05498f34744a70c9279220/expr.ipynb\"><img src=\"data:image/png;base64,iVBORw0KGgoAAAANSUhEUgAAAAsAAAAOBAMAAAALT/umAAAAMFBMVEX///9UVFSYmJiIiIjc3Nwy\n",
       "MjIiIiJ2dnbu7u66urqqqqpmZmYQEBBERETMzMwAAAAYOWz6AAAAAXRSTlMAQObYZgAAAFpJREFU\n",
       "CNdjYGBg4LuzgQEE+BeAqfkNYKoMTDJEAzHLdrtfQGqOA+8PBgaOQwzcAQwM3D8Y2AoYGHguMPRP\n",
       "YGDoL2BYD1TRv4BBlMuBgdeAKZEdqFLYztGSAQAyzhFdhFkSwwAAAABJRU5ErkJggg==\n",
       "\" style=\"display:inline;vertical-align:middle;\" /></a></span></td></tr><tr><td><a name=\"-0x24a0a66c1b96e537_step1\">1</a></td><td>theorem</td><td></td><td><span style=\"font-size:20px;\"> <a class=\"ProveItLink\" href=\"proofs/sub_left_side_into/thm_proof.ipynb\" style=\"text-decoration: none\">&nbsp;&#x22A2;&nbsp;&nbsp;</a><a class=\"ProveItLink\" href=\"../__pv_it/theorems/75144010233a3c81a15f68a7971ea51ab0e7a18c0/expr.ipynb\"><img src=\"data:image/png;base64,iVBORw0KGgoAAAANSUhEUgAAAL8AAAAWBAMAAABj11ATAAAAMFBMVEX///8QEBCIiIhmZma6urrM\n",
       "zMxUVFQiIiJERETc3Nzu7u6qqqp2dnaYmJgyMjIAAAAcRTyBAAAAAXRSTlMAQObYZgAAAthJREFU\n",
       "SMe1VU1oE0EU/rruTzbZJl48eQkWSgkFcxFUREKFqmA19SDeDMEWKrXtoR4sKvGWCrW5WQRxBalY\n",
       "PAQ8iIK41IMQg0YURFDYs1C7KEpbi/rmp5vdJhHF+GD3zXxvZr43782bAf6H3JD6IX0ua3xoz7qd\n",
       "4yvDY3uBaEECegl4zhof2+R5gty9bCNekv0o9edIm4U2EZxygCdJvPaBRSBuA1a5TQQ7M/Q5OO8D\n",
       "tyhulYWFa+1K7ix94xlzwgfixLhSLF74w/k8tNpvBvygcH+Bkqbo7xjpo/hY1BwCpgF1dnT3mcYZ\n",
       "Gf6XRot3YpmW62vrwAMHkRpwD2+Tlyg+lOUDPNd4BTxrnCKzL4wjorOnJYHyrfo0BRiU0gpe2ofJ\n",
       "G4qWAYUYMUzpaUnAjZojOvMtCSJrXHXQHm0U+Z482njNYM2LEFBTAm7UszJxpZZlMOETAJ83CEz3\n",
       "BCuJVShT7ODu6qZ11G4Ydp1AGMmPvhymxIatruNDclkOijJIc8VCBO0rzx6jnD7NWuu9rKYVe8wg\n",
       "fithDwZ2IIx0mJ01bStiOYJSujupF0lmBOiXAYsUefBI8ZASScZ9xmK54hxgianrB9ETIBDGQzBv\n",
       "TygFqAzMxmtyAwLksmyL4Wmo3yOeSSO2sLwlkow1Lcev8v8+5AMEwtjPxutJaJwu4WeCg0z2/xST\n",
       "KC7RfKqL3aBxlrdOxpuQt4Xm8UKaxLYAgTCepOhmOrJQczzeyOqfSJYEGJL6VXGnfk0xh+bsm5Zr\n",
       "kcI51QsQcCMbbGSPkUOOecX0XkCeWgGGJHTZyRJZZuUzWJ5/s1ghhf4et04gjOxcqfmrFJKMtj16\n",
       "9kivLedyMFwPwes6JDJO5WgpUgvWgXCijLuYobhSgQYncTAk/oMT2VQysZJUunMUDQTUGVXJpcfi\n",
       "KfSFg82fzHebn7wNpb53mhAMYKBK7tGRqoXg6j9c8OnGDSr2X63wC2jlxTKsC1d/AAAAAElFTkSu\n",
       "QmCC\n",
       "\" style=\"display:inline;vertical-align:middle;\" /></a></span></td></tr>\n",
       "<tr><td>&nbsp;</td><td colspan=4 style-\"text-align:left\"><a class=\"ProveItLink\" href=\"proofs/sub_left_side_into/thm_proof.ipynb\">proveit.logic.equality.sub_left_side_into</a></td></tr><tr><td><a name=\"-0x24a0a66c1b96e537_step2\">2</a></td><td>assumption</td><td></td><td><span style=\"font-size:20px;\"><a class=\"ProveItLink\" href=\"../__pv_it/demonstrations/1c9a0bdbd0d497b5d9bf928a51e5d753c1036aea0/expr.ipynb\"><img src=\"data:image/png;base64,iVBORw0KGgoAAAANSUhEUgAAAJoAAAAmBAMAAADO2Z8qAAAAMFBMVEX///9UVFSqqqrMzMwiIiJE\n",
       "RESYmJgyMjK6urru7u4QEBCIiIh2dnZmZmbc3NwAAABRgo0vAAAAAXRSTlMAQObYZgAAApVJREFU\n",
       "SMeVVj1oFEEUfveXu93s7kULLdJsb3FX2yRqJxZnk4AgXKWgzQXERSQQKyGNV2iRQNigJiEI4cwV\n",
       "EWLgCtFCi4hFikRcIZVNjgscWYyn8+6c+9v3ZjdT7LLv59uZ9+b7ZgCYMVKEMw1tTOXdIq3GdpVL\n",
       "eKoAy6xTVusqTHMZo4rJLeYpa7IG59mUhzzaOdL6o8yEm8cAvzgnJFqkeYXtQR0gxi41TXq0Uy4+\n",
       "XhIz8DnvkUeamyKP7vWueDzm0PZo81fQvlFz3t+yxeseh/aGNhsf71Pm5/kJ7MDRHJ1liRbBi9dR\n",
       "efAdLuNLrzG0quNzNiraS3iLr1iJ2T6T+GzIz0tUFyu9srVgagHZUKfRkgUklx8RDTYSx6gRcXqT\n",
       "QhYbbkxGRXuyuYNoCbEY62A/wPAshqbHd+wIaJ+3JaU1sR3nvXR7vZ8cHJ3Ku/gr95HWCkc7tFPd\n",
       "4v8GbRXMQoAKiJYrC3co2g2I2dJ2CqYPycpw6ITd5kObl2LO1x1nBs1/ceBCDMd5sOY4gsxmPzn/\n",
       "gF4AN0+izUKmETo3vTCA5tYgB726zfRW2uz+WIHm1gYkxrXhYnxYMVwMPYHFYihaVoTIullNSFVG\n",
       "rhiBHYJ/vAC3w/ebOQZLslBiv2nj1Z/vhkN1FMul98UIu/fLnW4PMyc0F1KD/O1DS9zaDXJBagUj\n",
       "vsbywOdCfxH+V0krh2X1lsFKPDxjTybmMOkwjhkfeJlzucvGTTZFIaE5j3EwB4Z1UG3waHvspG3S\n",
       "PO+lfJWgc1cUUuJRb0os2Ogy63pFHhc+3mu4ofM3vrtkvNCbuTPe+DpsqFDVlHpDdmhDcfG8Rvcm\n",
       "qDfdA99WnLiHHjVhQm/kmFKd3xZxuST1RvqwoP8AuPKvFXKdTRQAAAAASUVORK5CYII=\n",
       "\" style=\"display:inline;vertical-align:middle;\" /></a> <a class=\"ProveItLink\" href=\"../__pv_it/demonstrations/289854892154b6c4c3b2da4e213c6a22d7fa90640/proof.ipynb\" style=\"text-decoration: none\">&nbsp;&#x22A2;&nbsp;&nbsp;</a><a class=\"ProveItLink\" href=\"../__pv_it/demonstrations/1c9a0bdbd0d497b5d9bf928a51e5d753c1036aea0/expr.ipynb\"><img src=\"data:image/png;base64,iVBORw0KGgoAAAANSUhEUgAAAJoAAAAmBAMAAADO2Z8qAAAAMFBMVEX///9UVFSqqqrMzMwiIiJE\n",
       "RESYmJgyMjK6urru7u4QEBCIiIh2dnZmZmbc3NwAAABRgo0vAAAAAXRSTlMAQObYZgAAApVJREFU\n",
       "SMeVVj1oFEEUfveXu93s7kULLdJsb3FX2yRqJxZnk4AgXKWgzQXERSQQKyGNV2iRQNigJiEI4cwV\n",
       "EWLgCtFCi4hFikRcIZVNjgscWYyn8+6c+9v3ZjdT7LLv59uZ9+b7ZgCYMVKEMw1tTOXdIq3GdpVL\n",
       "eKoAy6xTVusqTHMZo4rJLeYpa7IG59mUhzzaOdL6o8yEm8cAvzgnJFqkeYXtQR0gxi41TXq0Uy4+\n",
       "XhIz8DnvkUeamyKP7vWueDzm0PZo81fQvlFz3t+yxeseh/aGNhsf71Pm5/kJ7MDRHJ1liRbBi9dR\n",
       "efAdLuNLrzG0quNzNiraS3iLr1iJ2T6T+GzIz0tUFyu9srVgagHZUKfRkgUklx8RDTYSx6gRcXqT\n",
       "QhYbbkxGRXuyuYNoCbEY62A/wPAshqbHd+wIaJ+3JaU1sR3nvXR7vZ8cHJ3Ku/gr95HWCkc7tFPd\n",
       "4v8GbRXMQoAKiJYrC3co2g2I2dJ2CqYPycpw6ITd5kObl2LO1x1nBs1/ceBCDMd5sOY4gsxmPzn/\n",
       "gF4AN0+izUKmETo3vTCA5tYgB726zfRW2uz+WIHm1gYkxrXhYnxYMVwMPYHFYihaVoTIullNSFVG\n",
       "rhiBHYJ/vAC3w/ebOQZLslBiv2nj1Z/vhkN1FMul98UIu/fLnW4PMyc0F1KD/O1DS9zaDXJBagUj\n",
       "vsbywOdCfxH+V0krh2X1lsFKPDxjTybmMOkwjhkfeJlzucvGTTZFIaE5j3EwB4Z1UG3waHvspG3S\n",
       "PO+lfJWgc1cUUuJRb0os2Ogy63pFHhc+3mu4ofM3vrtkvNCbuTPe+DpsqFDVlHpDdmhDcfG8Rvcm\n",
       "qDfdA99WnLiHHjVhQm/kmFKd3xZxuST1RvqwoP8AuPKvFXKdTRQAAAAASUVORK5CYII=\n",
       "\" style=\"display:inline;vertical-align:middle;\" /></a></span></td></tr>\n",
       "<tr><td><a name=\"-0x24a0a66c1b96e537_step3\">3</a></td><td>assumption</td><td></td><td><span style=\"font-size:20px;\"><a class=\"ProveItLink\" href=\"../__pv_it/demonstrations/8414d5d885094801f8ec1323d3596a032d95dfcb0/expr.ipynb\"><img src=\"data:image/png;base64,iVBORw0KGgoAAAANSUhEUgAAADIAAAASBAMAAADrvZC0AAAAMFBMVEX///8iIiKYmJhUVFTMzMxE\n",
       "REQyMjKqqqq6urp2dnYQEBDc3NxmZmaIiIju7u4AAACH5sGpAAAAAXRSTlMAQObYZgAAALRJREFU\n",
       "GNNjYMAOXNcw4ALfcUlw/MMlwymAS4btAAPfnQsMux6gie+Z61/AwMmxgOE+iDctDQRywJasZoh/\n",
       "wLCdJ4EhFE3LKwWGYwwMD7guMPxFkzn/gEESSPU/YPmCJrOUge8HkDrGwLsAYU8ykMX3k4H9A5AO\n",
       "ZmA1QNXC952BOaGageEwQ78CmmmxDIoGExgYHt89vwFN5vFdb9sGBrBNWAFzAtgdWACjAusFHMF9\n",
       "9wh2CQCXOTHtA7C70QAAAABJRU5ErkJggg==\n",
       "\" style=\"display:inline;vertical-align:middle;\" /></a> <a class=\"ProveItLink\" href=\"../__pv_it/demonstrations/306c9c4f64652d10950a9c2d1185280cfe4edd110/proof.ipynb\" style=\"text-decoration: none\">&nbsp;&#x22A2;&nbsp;&nbsp;</a><a class=\"ProveItLink\" href=\"../__pv_it/demonstrations/8414d5d885094801f8ec1323d3596a032d95dfcb0/expr.ipynb\"><img src=\"data:image/png;base64,iVBORw0KGgoAAAANSUhEUgAAADIAAAASBAMAAADrvZC0AAAAMFBMVEX///8iIiKYmJhUVFTMzMxE\n",
       "REQyMjKqqqq6urp2dnYQEBDc3NxmZmaIiIju7u4AAACH5sGpAAAAAXRSTlMAQObYZgAAALRJREFU\n",
       "GNNjYMAOXNcw4ALfcUlw/MMlwymAS4btAAPfnQsMux6gie+Z61/AwMmxgOE+iDctDQRywJasZoh/\n",
       "wLCdJ4EhFE3LKwWGYwwMD7guMPxFkzn/gEESSPU/YPmCJrOUge8HkDrGwLsAYU8ykMX3k4H9A5AO\n",
       "ZmA1QNXC952BOaGageEwQ78CmmmxDIoGExgYHt89vwFN5vFdb9sGBrBNWAFzAtgdWACjAusFHMF9\n",
       "9wh2CQCXOTHtA7C70QAAAABJRU5ErkJggg==\n",
       "\" style=\"display:inline;vertical-align:middle;\" /></a></span></td></tr>\n",
       "</table>"
      ],
      "text/plain": [
       "\tstep type\trequirements\tstatement\n",
       "0\tinstantiation\t1, 2, 3\t{a = (b + (c / d) + c^{d}), y = d} |- a = (b + (c / y) + c^{y})\n",
       "\tP(_a) : a = (b + (c / _a) + c^{_a}), x : y, y : d\n",
       "1\ttheorem\t\t|- forall_{P, x, y | P(y), x = y} P(x)\n",
       "\tproveit.logic.equality.sub_left_side_into\n",
       "2\tassumption\t\t{a = (b + (c / d) + c^{d})} |- a = (b + (c / d) + c^{d})\n",
       "3\tassumption\t\t{y = d} |- y = d"
      ]
     },
     "execution_count": 21,
     "metadata": {},
     "output_type": "execute_result"
    }
   ],
   "source": [
    "y_eq_d.sub_left_side_into(expr, assumptions=[y_eq_d,expr]).proof()"
   ]
  },
  {
   "cell_type": "markdown",
   "metadata": {},
   "source": [
    "## Reflexivity, symmetry, and transitivity"
   ]
  },
  {
   "cell_type": "markdown",
   "metadata": {},
   "source": [
    "Reflexivity, symmetry, and transitivity are also fundamental properties of equality, in addition to the ability to perform substitution.  Reflexivity is the fact that any mathematical object is equal to itself.  Symmetry is the fact that $x = y$ and $y = x$ are equivalent (either both of these are true or both of these false).  Transitivity is the ability to derive $x=z$ from $x=y$ and $y=z$.  These are all axioms."
   ]
  },
  {
   "cell_type": "code",
   "execution_count": 22,
   "metadata": {},
   "outputs": [],
   "source": [
    "from proveit.logic.equality  import equals_reflexivity, equals_symmetry, equals_transitivity"
   ]
  },
  {
   "cell_type": "code",
   "execution_count": 23,
   "metadata": {},
   "outputs": [
    {
     "data": {
      "text/html": [
       "<span style=\"font-size:20px;\"> <a class=\"ProveItLink\" href=\"axioms.ipynb#equals_reflexivity\" style=\"text-decoration: none\">&nbsp;&#x22A2;&nbsp;&nbsp;</a><a class=\"ProveItLink\" href=\"../__pv_it/axioms/1323d646948b67e1f22d6b53e3da8bd16e1229770/expr.ipynb\"><img src=\"data:image/png;base64,iVBORw0KGgoAAAANSUhEUgAAAGIAAAAUBAMAAACE8PXhAAAAMFBMVEX///8QEBCIiIhmZma6urrM\n",
       "zMxUVFQiIiJERETc3Nzu7u6qqqp2dnaYmJgyMjIAAAAcRTyBAAAAAXRSTlMAQObYZgAAAUFJREFU\n",
       "KM9jYMAAnBcYcALuCQwMD0CMu8iiKxjwgEwGhtMg+hWy4Et8OtYxMMwAuaMBSYzXAJ8OHgUGvgVA\n",
       "agOSGPsEfDq4BBh4T61aNR1ZbDoDXvCEgeFHR0cNspAyEC9Sm6KjgKYUKnaYgSGVgaETWaYXaPUB\n",
       "3iJ2UCDyvAMDkM9gYvcYGJwZuB4g66gGKlzA84sFzTswse1AnzIwoUSZCNA8Bo4GDC9DxeKBmi+w\n",
       "M6DpYGDgV8D0M0QMqIPzQRiQcchULQDuKqA4hAP1RwIDQswdiDtTGBiYFuSxO8B9zr1AHyiClqKg\n",
       "YkCfM2wuYGBgZXgLkwIGn/+Gfoa5aG6CidnA3fcTJgW0dpnSIlv0BAwTewpKSCD7WT+wEpdKCqCM\n",
       "+TwPeIhNiVA7rxw6BRPsJJDaMQHeHIXVOHy5lncCAwDGgVl+SYhJvAAAAABJRU5ErkJggg==\n",
       "\" style=\"display:inline;vertical-align:middle;\" /></a></span>"
      ],
      "text/plain": [
       "|- forall_{x} (x = x)"
      ]
     },
     "execution_count": 23,
     "metadata": {},
     "output_type": "execute_result"
    }
   ],
   "source": [
    "equals_reflexivity"
   ]
  },
  {
   "cell_type": "code",
   "execution_count": 24,
   "metadata": {},
   "outputs": [
    {
     "data": {
      "text/html": [
       "<span style=\"font-size:20px;\"> <a class=\"ProveItLink\" href=\"axioms.ipynb#equals_symmetry\" style=\"text-decoration: none\">&nbsp;&#x22A2;&nbsp;&nbsp;</a><a class=\"ProveItLink\" href=\"../__pv_it/axioms/34996bbbceac0f69a08b78cc992f42a548486c1c0/expr.ipynb\"><img src=\"data:image/png;base64,iVBORw0KGgoAAAANSUhEUgAAAN0AAAAVBAMAAAAwUfbwAAAAMFBMVEX///8QEBCIiIhmZma6urrM\n",
       "zMxUVFQiIiJERETc3Nzu7u6qqqp2dnaYmJgyMjIAAAAcRTyBAAAAAXRSTlMAQObYZgAAAmVJREFU\n",
       "SMe1VjFoFEEUfbns3W42e5cU2i93EEIa08RKzhDBYGOSxjoELWwkhRaiiJXcFcJaJSiSsYkSLA6s\n",
       "tDrO7gRdUJCAwoIgKBiOoKDYuH9ndr2Znbk7kXx4cPvf+3/m/vz9s4DJJkIOkz3X+B4OlhMievio\n",
       "ETwRMFkpyLnc24PlhFf08FUj+CJgMjfKuSrBYDlhm0qn2Vd5nsNsnZzn7TB5jAoDvFaetgMOsz3K\n",
       "ea4Pk8cod/f2tjT0loDZKotqh20OkxN+Nho3NXSNw635uMeUo6heXoor46nVLsxnnCTnKUhOuAQ0\n",
       "Nevd5fCsaZyg59cHZJ/o51O892/FlYkUvxNmHLzEfUBbEilITjij6zTgBseD8QgNheriDTsHTKrl\n",
       "s1sZ128iBckJNgq6t/oYBxvzcahQjO+g2FP8Y4sZJ8l5CpITvNCGeT2ssOKPHHloXA+53aUp0vUm\n",
       "ogv0ZizMrALWDGwm1RN1FKb/ntPnhOM7sDYVP9VTcOn5rSNLQfIkpHkxbi12xY53502xNblfcAfO\n",
       "urLfF4Ue5tJ+6TPqF8FJxlOk/YJn8aJFfCPm/jJmheilwEmsKMdr/XZ6NMjH20reuNtTTjKeguRJ\n",
       "yJRPzl8JdQobQrQssFs9rUwZd2OuRgO+sqrkjauVcpLxFCRPQsosOfwiUVdxPDfP6oaB8Xj0eVYX\n",
       "8ixkx4s8bDNcs3ryvC5F7vf/nNciRac/ZPddp4u1Fs7OZk3QTGCHjj/yfeRo5ztPkd5H/dZyAyeU\n",
       "71urumD4e86o9y1PQXIlZDIotc+P/D2x/2/fE/v5kDKsD20crf0BIWnW/FCMiDQAAAAASUVORK5C\n",
       "YII=\n",
       "\" style=\"display:inline;vertical-align:middle;\" /></a></span>"
      ],
      "text/plain": [
       "|- forall_{x, y} ((y = x) = (x = y))"
      ]
     },
     "execution_count": 24,
     "metadata": {},
     "output_type": "execute_result"
    }
   ],
   "source": [
    "equals_symmetry"
   ]
  },
  {
   "cell_type": "code",
   "execution_count": 25,
   "metadata": {},
   "outputs": [
    {
     "data": {
      "text/html": [
       "<span style=\"font-size:20px;\"> <a class=\"ProveItLink\" href=\"axioms.ipynb#equals_transitivity\" style=\"text-decoration: none\">&nbsp;&#x22A2;&nbsp;&nbsp;</a><a class=\"ProveItLink\" href=\"../__pv_it/axioms/fe5ecb4839370106d7aa598ff8e51b95c71757a70/expr.ipynb\"><img src=\"data:image/png;base64,iVBORw0KGgoAAAANSUhEUgAAANEAAAAWBAMAAACs+WTQAAAAMFBMVEX///8QEBCIiIhmZma6urrM\n",
       "zMxUVFQiIiJERETc3Nzu7u6qqqp2dnaYmJgyMjIAAAAcRTyBAAAAAXRSTlMAQObYZgAAAnJJREFU\n",
       "SMetVU1oE0EU/prsTzfZJB4UBEGCgVKCh1wEQQ+hgkXwZ+NBxYsl2INQJYd6UKTkmBYiudQWQVyh\n",
       "KK0eAoKgUFhyTKUGFVSIsKB4KFSCIPhz8c3sZrOu2djAPFi+mfeY+d6+980MIM7uhYee02ezwUcR\n",
       "RLFyeEypARtssCWCKVkbkAX90DKhVhbB9GZQsEGZmIBeF8F0Y1DwAZBorq0tiSDSSgNLmwd+VCq3\n",
       "RDBFctSOA1cmGsHA5G65BZ2i08B8yGJpGKbRFvAE79JzbLL5ldknLoZq5jCVjiRxjAuj/+JhmFRq\n",
       "dhOvzBNB2XHBxam2KiItEUwj1AkTlT6RCyQ6uUPCa6kQxQR869ODKThMmn2O6f3QmEHOMaiUAJa2\n",
       "FntMeubstLtoYgo3e8AVN7dq9KoH+bszcfr0hY+fcTqmzPnLJBzzmko56SmzwPxH2ukeU1axZ5UK\n",
       "WRXWL3kXeRi4nuh6w6eIF5EOsoFfiuegOIrAU6KTsc28dycxzsOPfdUzkt0+aiulSNkDt+HdU086\n",
       "ln6PdrRg08+3X38GohYNUzz/n9x9FEW+PO/vU8q70KKWku4BtxWvHSXEitnMP5d1LrGfdkuyGidM\n",
       "3jGZuWexh8EiLvqYLsFQWNm3oeZH2AoGrkczZHMnt9Gj7uC+butYNnFd6hBoM+tlj0nrbMLqnhnj\n",
       "DLQFDq7d2Xi/0xvWsYdvG00U6jg+bhMk5L2mxxS7evJgN22peBvyPg6utQoL3pn4z6vht3qsxhRU\n",
       "Dz1Pq6iSmBwY6iUMZBGvKdZpBqFMM5LNXmoOQ73uH/6eJiC1LQahTKdesoI5INSiIjf7A4jqrxun\n",
       "Ivq8AAAAAElFTkSuQmCC\n",
       "\" style=\"display:inline;vertical-align:middle;\" /></a></span>"
      ],
      "text/plain": [
       "|- forall_{x, y, z | x = y, y = z} (x = z)"
      ]
     },
     "execution_count": 25,
     "metadata": {},
     "output_type": "execute_result"
    }
   ],
   "source": [
    "equals_transitivity"
   ]
  },
  {
   "cell_type": "markdown",
   "metadata": {},
   "source": [
    "`equals_reversal` is a useful theorem for applying the symmetry property of equality:"
   ]
  },
  {
   "cell_type": "code",
   "execution_count": 26,
   "metadata": {},
   "outputs": [
    {
     "data": {
      "text/html": [
       "<span style=\"font-size:20px;\"> <a class=\"ProveItLink\" href=\"proofs/equals_reversal/thm_proof.ipynb\" style=\"text-decoration: none\">&nbsp;&#x22A2;&nbsp;&nbsp;</a><a class=\"ProveItLink\" href=\"../__pv_it/theorems/dc152814dc196fecb1397c6db676c4086227b8ad0/expr.ipynb\"><img src=\"data:image/png;base64,iVBORw0KGgoAAAANSUhEUgAAAKEAAAAWBAMAAABasOFIAAAAMFBMVEX///8QEBCIiIhmZma6urrM\n",
       "zMxUVFQiIiJERETc3Nzu7u6qqqp2dnaYmJgyMjIAAAAcRTyBAAAAAXRSTlMAQObYZgAAAglJREFU\n",
       "OMudVT9IG1EY/5FckoteIpS6ONkGJGQKQjeR1ELFRXRxVUILuoQOOmmLdCjJIGRTuvR0aIsIBpx0\n",
       "CrpFsDcUSqGFg0JBoSUUBKMIft+73F3uejl5+eBxL7/fe798/+47QNqSRnfukJbJm58yip9DuHgV\n",
       "OOXNhYzieQjXRw5ucRzrEoKpfBh7DKR1QKtJKCaqYew2/WVjd3dTJujww+kCcFUur8koZmjtjCI5\n",
       "5Mvg46UJClmjnLwEKv9dK3RX3KBVf4pIk55nf9l+MbyHb8NvKGQqzTNRIJ+FlGqVKlkbh+o70sAX\n",
       "fQrof0WZRsSQUXxIEeIBBoa9sI4yP2LkumYkIKkI5RrzM37in62YNOe4j56M0BFlBAndVbRANocQ\n",
       "USNq4hGcPP4WeOxSHKSoUXkBRPRSgqqhDeizro8CXCyTGQ5hVUZdwDufh0dUqpxVGRyQbAx/GH4/\n",
       "iayr2AY9BHDCPi4ot15B5UZt8giJ1umHleOWIMZQ7Mxjy7lhE8AkN18x0/K1YzGX4XmT5jSldJHR\n",
       "GBPLGOxQZLDEmTIcwn4Lo2Zw3T7Zmw+aqWFLx4rSdBUF2DabsCZFCfuFrpPCso9fjxuYreF51nQV\n",
       "Bdg2m4B4w17jbfdp1mm1vqpqBPajQ1gTdyIzE6yoegdTfzVenw7ucIe456vw3TdLofyoBys6RM+W\n",
       "7/3qHftHk7tcdHVHAAAAAElFTkSuQmCC\n",
       "\" style=\"display:inline;vertical-align:middle;\" /></a></span>"
      ],
      "text/plain": [
       "|- forall_{x, y | x = y} (y = x)"
      ]
     },
     "execution_count": 26,
     "metadata": {},
     "output_type": "execute_result"
    }
   ],
   "source": [
    "from proveit.logic.equality import equals_reversal\n",
    "equals_reversal # y=x derives from x=y"
   ]
  },
  {
   "cell_type": "markdown",
   "metadata": {},
   "source": [
    "These three properties are applied automatically for `Equals` objects"
   ]
  },
  {
   "cell_type": "markdown",
   "metadata": {},
   "source": [
    "Reflexivity is concluded automatically:"
   ]
  },
  {
   "cell_type": "code",
   "execution_count": 27,
   "metadata": {},
   "outputs": [
    {
     "data": {
      "text/html": [
       "<span style=\"font-size:20px;\"> <a class=\"ProveItLink\" href=\"../__pv_it/demonstrations/ec64417d1065f8a91b821b3069a4a633653de3ea0/proof.ipynb\" style=\"text-decoration: none\">&nbsp;&#x22A2;&nbsp;&nbsp;</a><a class=\"ProveItLink\" href=\"../__pv_it/demonstrations/a9ad32afd9da7c1f4d585c2a867ee72722e32b300/expr.ipynb\"><img src=\"data:image/png;base64,iVBORw0KGgoAAAANSUhEUgAAADIAAAAJBAMAAACCrGLsAAAAMFBMVEX///9UVFSqqqrMzMwiIiJE\n",
       "RESYmJgyMjK6urru7u4QEBCIiIh2dnZmZmbc3NwAAABRgo0vAAAAAXRSTlMAQObYZgAAAIxJREFU\n",
       "CNdjYOC7c3slAxp4e3bXBAaGrgfsH0C84+UgUAticqxjqGdg4FzGwBuApmVWAsNVBgbenwwsG9Bk\n",
       "7k9g8GZg4ApgmG+AJrOUgfMzA8P8Awz6DAh7CoEszj8MTECr5yswiDM9QNHC+YmBsUCPgXUDmyMP\n",
       "mmnRDCkCBxg4pTc/3IEmM3G3nXQDADOgJ0c8IR5UAAAAAElFTkSuQmCC\n",
       "\" style=\"display:inline;vertical-align:middle;\" /></a></span>"
      ],
      "text/plain": [
       "|- a = a"
      ]
     },
     "execution_count": 27,
     "metadata": {},
     "output_type": "execute_result"
    }
   ],
   "source": [
    "Equals(a, a).prove()"
   ]
  },
  {
   "cell_type": "code",
   "execution_count": 28,
   "metadata": {},
   "outputs": [
    {
     "data": {
      "text/html": [
       "<table><tr><th>&nbsp;</th><th>step type</th><th>requirements</th><th>statement</th></tr>\n",
       "<tr><td><a name=\"-0xfd7c2fc0e489b45_step0\">0</a></td><td>instantiation</td><td><a href=\"#-0xfd7c2fc0e489b45_step1\">1</a></td><td><span style=\"font-size:20px;\"> <a class=\"ProveItLink\" href=\"../__pv_it/demonstrations/ec64417d1065f8a91b821b3069a4a633653de3ea0/proof.ipynb\" style=\"text-decoration: none\">&nbsp;&#x22A2;&nbsp;&nbsp;</a><a class=\"ProveItLink\" href=\"../__pv_it/demonstrations/a9ad32afd9da7c1f4d585c2a867ee72722e32b300/expr.ipynb\"><img src=\"data:image/png;base64,iVBORw0KGgoAAAANSUhEUgAAADIAAAAJBAMAAACCrGLsAAAAMFBMVEX///9UVFSqqqrMzMwiIiJE\n",
       "RESYmJgyMjK6urru7u4QEBCIiIh2dnZmZmbc3NwAAABRgo0vAAAAAXRSTlMAQObYZgAAAIxJREFU\n",
       "CNdjYOC7c3slAxp4e3bXBAaGrgfsH0C84+UgUAticqxjqGdg4FzGwBuApmVWAsNVBgbenwwsG9Bk\n",
       "7k9g8GZg4ApgmG+AJrOUgfMzA8P8Awz6DAh7CoEszj8MTECr5yswiDM9QNHC+YmBsUCPgXUDmyMP\n",
       "mmnRDCkCBxg4pTc/3IEmM3G3nXQDADOgJ0c8IR5UAAAAAElFTkSuQmCC\n",
       "\" style=\"display:inline;vertical-align:middle;\" /></a></span></td></tr>\n",
       "<tr><td>&nbsp;</td><td colspan=4 style=\"text-align:left\"><span style=\"font-size:20px;\"><a class=\"ProveItLink\" href=\"../../../__pv_it/common/a2581dc5df71d9a30bad37de14965fa5fec97a240/expr.ipynb\"><img src=\"data:image/png;base64,iVBORw0KGgoAAAANSUhEUgAAAAsAAAAJBAMAAAAWSsseAAAALVBMVEX///9mZmaqqqrMzMxEREQy\n",
       "MjIiIiKYmJh2dna6urrc3NxUVFSIiIju7u4AAACJHQtQAAAAAXRSTlMAQObYZgAAAEJJREFUCNdj\n",
       "YLhzeuWJAwy8Dew5bAEMHBc43nIuYOBlYHFgAAG+A2DKzgBIMF04x8BzgWGegh/DcgaG22fuiBcw\n",
       "AAATyhBrnyPYZQAAAABJRU5ErkJggg==\n",
       "\" style=\"display:inline;vertical-align:middle;\" /></a> : <a class=\"ProveItLink\" href=\"../../../__pv_it/common/66c90e66682f107a881f2d666959f64e2e72ad750/expr.ipynb\"><img src=\"data:image/png;base64,iVBORw0KGgoAAAANSUhEUgAAAAsAAAAJBAMAAAAWSsseAAAAMFBMVEX///9UVFSqqqrMzMwiIiJE\n",
       "RESYmJgyMjK6urru7u4QEBCIiIh2dnZmZmbc3NwAAABRgo0vAAAAAXRSTlMAQObYZgAAAEdJREFU\n",
       "CNdjYOC7c3slAwND1wP2DwwMnMsYeAMYGHh/MrBsYGDgCmCYb8DAMP8Agz5QxXwFBnGmBwysG9gc\n",
       "eYAqpTc/3MEAAP4BD32xAXDqAAAAAElFTkSuQmCC\n",
       "\" style=\"display:inline;vertical-align:middle;\" /></a></span></td></tr><tr><td><a name=\"-0xfd7c2fc0e489b45_step1\">1</a></td><td>axiom</td><td></td><td><span style=\"font-size:20px;\"> <a class=\"ProveItLink\" href=\"axioms.ipynb#equals_reflexivity\" style=\"text-decoration: none\">&nbsp;&#x22A2;&nbsp;&nbsp;</a><a class=\"ProveItLink\" href=\"../__pv_it/axioms/1323d646948b67e1f22d6b53e3da8bd16e1229770/expr.ipynb\"><img src=\"data:image/png;base64,iVBORw0KGgoAAAANSUhEUgAAAGIAAAAUBAMAAACE8PXhAAAAMFBMVEX///8QEBCIiIhmZma6urrM\n",
       "zMxUVFQiIiJERETc3Nzu7u6qqqp2dnaYmJgyMjIAAAAcRTyBAAAAAXRSTlMAQObYZgAAAUFJREFU\n",
       "KM9jYMAAnBcYcALuCQwMD0CMu8iiKxjwgEwGhtMg+hWy4Et8OtYxMMwAuaMBSYzXAJ8OHgUGvgVA\n",
       "agOSGPsEfDq4BBh4T61aNR1ZbDoDXvCEgeFHR0cNspAyEC9Sm6KjgKYUKnaYgSGVgaETWaYXaPUB\n",
       "3iJ2UCDyvAMDkM9gYvcYGJwZuB4g66gGKlzA84sFzTswse1AnzIwoUSZCNA8Bo4GDC9DxeKBmi+w\n",
       "M6DpYGDgV8D0M0QMqIPzQRiQcchULQDuKqA4hAP1RwIDQswdiDtTGBiYFuSxO8B9zr1AHyiClqKg\n",
       "YkCfM2wuYGBgZXgLkwIGn/+Gfoa5aG6CidnA3fcTJgW0dpnSIlv0BAwTewpKSCD7WT+wEpdKCqCM\n",
       "+TwPeIhNiVA7rxw6BRPsJJDaMQHeHIXVOHy5lncCAwDGgVl+SYhJvAAAAABJRU5ErkJggg==\n",
       "\" style=\"display:inline;vertical-align:middle;\" /></a></span></td></tr>\n",
       "<tr><td>&nbsp;</td><td colspan=4 style-\"text-align:left\"><a class=\"ProveItLink\" href=\"axioms.ipynb#equals_reflexivity\">proveit.logic.equality.equals_reflexivity</a></td></tr></table>"
      ],
      "text/plain": [
       "\tstep type\trequirements\tstatement\n",
       "0\tinstantiation\t1\t|- a = a\n",
       "\tx : a\n",
       "1\taxiom\t\t|- forall_{x} (x = x)\n",
       "\tproveit.logic.equality.equals_reflexivity"
      ]
     },
     "execution_count": 28,
     "metadata": {},
     "output_type": "execute_result"
    }
   ],
   "source": [
    "Equals(a, a).prove().proof()"
   ]
  },
  {
   "cell_type": "markdown",
   "metadata": {},
   "source": [
    "Symmetric statements are derived as side-effects.  Note that the `Judgment.derive_side_effects` method employs a mechanism to prevent infinite recursion or this would not be possible (it would continually go back and forth, proving $y=x$ from $x=y$ then $x=y$ from $y=x$, ad infinitum)"
   ]
  },
  {
   "cell_type": "code",
   "execution_count": 29,
   "metadata": {},
   "outputs": [
    {
     "data": {
      "text/html": [
       "<strong id=\"a_eq_b\">a_eq_b:</strong> <a class=\"ProveItLink\" href=\"../__pv_it/demonstrations/983cbbd01fb9696d6f8bb12204ac8d0204636b8f0/expr.ipynb\"><img src=\"data:image/png;base64,iVBORw0KGgoAAAANSUhEUgAAADAAAAAOBAMAAACbXIJpAAAAMFBMVEX///9UVFSqqqrMzMwiIiJE\n",
       "RESYmJgyMjK6urru7u4QEBCIiIh2dnZmZmbc3NwAAABRgo0vAAAAAXRSTlMAQObYZgAAAJNJREFU\n",
       "GNNjYMACpi5hwAFqcUl8wiHO8ROHBI8DiOS7c3slmgS79F4FBoauB+wfQLzj5SAAtnZ+Jec/Bs5l\n",
       "DLwBaDr0JzD8ZuD9ycCyAU3iOgPnHwauAIb5Bhje4PjEMP8Agz4Dwo5CEPMbyJz5CgziTA9Qdfxg\n",
       "mJXAwLqBzZEHzSgxhlgGBk7pzQ93oEnM3ZPAAADExyjZCF2gNgAAAABJRU5ErkJggg==\n",
       "\" style=\"display:inline;vertical-align:middle;\" /></a><br>"
      ],
      "text/plain": [
       "a_eq_b: a = b"
      ]
     },
     "execution_count": 29,
     "metadata": {},
     "output_type": "execute_result"
    }
   ],
   "source": [
    "a_eq_b = Equals(a, b)"
   ]
  },
  {
   "cell_type": "code",
   "execution_count": 30,
   "metadata": {},
   "outputs": [
    {
     "data": {
      "text/html": [
       "<span style=\"font-size:20px;\"><a class=\"ProveItLink\" href=\"../__pv_it/demonstrations/983cbbd01fb9696d6f8bb12204ac8d0204636b8f0/expr.ipynb\"><img src=\"data:image/png;base64,iVBORw0KGgoAAAANSUhEUgAAADAAAAAOBAMAAACbXIJpAAAAMFBMVEX///9UVFSqqqrMzMwiIiJE\n",
       "RESYmJgyMjK6urru7u4QEBCIiIh2dnZmZmbc3NwAAABRgo0vAAAAAXRSTlMAQObYZgAAAJNJREFU\n",
       "GNNjYMACpi5hwAFqcUl8wiHO8ROHBI8DiOS7c3slmgS79F4FBoauB+wfQLzj5SAAtnZ+Jec/Bs5l\n",
       "DLwBaDr0JzD8ZuD9ycCyAU3iOgPnHwauAIb5Bhje4PjEMP8Agz4Dwo5CEPMbyJz5CgziTA9Qdfxg\n",
       "mJXAwLqBzZEHzSgxhlgGBk7pzQ93oEnM3ZPAAADExyjZCF2gNgAAAABJRU5ErkJggg==\n",
       "\" style=\"display:inline;vertical-align:middle;\" /></a> <a class=\"ProveItLink\" href=\"../__pv_it/demonstrations/62aa27b0b203a4b0259bbe21c1c9d5cfc998d3ed0/proof.ipynb\" style=\"text-decoration: none\">&nbsp;&#x22A2;&nbsp;&nbsp;</a><a class=\"ProveItLink\" href=\"../__pv_it/demonstrations/40dea47dac6e815379cffa1226f20b6dc1a41c610/expr.ipynb\"><img src=\"data:image/png;base64,iVBORw0KGgoAAAANSUhEUgAAADAAAAAOBAMAAACbXIJpAAAAMFBMVEX////MzMyYmJjc3NyIiIhU\n",
       "VFR2dna6urqqqqpmZmYyMjIiIiIQEBBERETu7u4AAACIO4EmAAAAAXRSTlMAQObYZgAAAJVJREFU\n",
       "GNNj4LuzgQE74JqAQ4K/AYdE/QMcEtk4xBmWusxAF7LM9HnAwPfrwXsDICdrFQisBImzH2ZYz8DA\n",
       "8Y+B3wFVwxsFhrkMDJwLGN4noErMf8CwBeyNejQHn2Xg+wj0hgJIBcyOpUAW3zcGjg9AiQK+Q6ga\n",
       "+H4wsC5oZmBV4EUPkysM2gEJDHxTktC98dRFOKQAAF7kLE3dFJTRAAAAAElFTkSuQmCC\n",
       "\" style=\"display:inline;vertical-align:middle;\" /></a></span>"
      ],
      "text/plain": [
       "{a = b} |- b = a"
      ]
     },
     "execution_count": 30,
     "metadata": {},
     "output_type": "execute_result"
    }
   ],
   "source": [
    "Equals(b, a).prove([a_eq_b])"
   ]
  },
  {
   "cell_type": "markdown",
   "metadata": {},
   "source": [
    "The reversed form may also be derived explicitly via `derive_reversed`.  The proof is the same."
   ]
  },
  {
   "cell_type": "code",
   "execution_count": 31,
   "metadata": {},
   "outputs": [
    {
     "data": {
      "text/html": [
       "<span style=\"font-size:20px;\"><a class=\"ProveItLink\" href=\"../__pv_it/demonstrations/983cbbd01fb9696d6f8bb12204ac8d0204636b8f0/expr.ipynb\"><img src=\"data:image/png;base64,iVBORw0KGgoAAAANSUhEUgAAADAAAAAOBAMAAACbXIJpAAAAMFBMVEX///9UVFSqqqrMzMwiIiJE\n",
       "RESYmJgyMjK6urru7u4QEBCIiIh2dnZmZmbc3NwAAABRgo0vAAAAAXRSTlMAQObYZgAAAJNJREFU\n",
       "GNNjYMACpi5hwAFqcUl8wiHO8ROHBI8DiOS7c3slmgS79F4FBoauB+wfQLzj5SAAtnZ+Jec/Bs5l\n",
       "DLwBaDr0JzD8ZuD9ycCyAU3iOgPnHwauAIb5Bhje4PjEMP8Agz4Dwo5CEPMbyJz5CgziTA9Qdfxg\n",
       "mJXAwLqBzZEHzSgxhlgGBk7pzQ93oEnM3ZPAAADExyjZCF2gNgAAAABJRU5ErkJggg==\n",
       "\" style=\"display:inline;vertical-align:middle;\" /></a> <a class=\"ProveItLink\" href=\"../__pv_it/demonstrations/62aa27b0b203a4b0259bbe21c1c9d5cfc998d3ed0/proof.ipynb\" style=\"text-decoration: none\">&nbsp;&#x22A2;&nbsp;&nbsp;</a><a class=\"ProveItLink\" href=\"../__pv_it/demonstrations/40dea47dac6e815379cffa1226f20b6dc1a41c610/expr.ipynb\"><img src=\"data:image/png;base64,iVBORw0KGgoAAAANSUhEUgAAADAAAAAOBAMAAACbXIJpAAAAMFBMVEX////MzMyYmJjc3NyIiIhU\n",
       "VFR2dna6urqqqqpmZmYyMjIiIiIQEBBERETu7u4AAACIO4EmAAAAAXRSTlMAQObYZgAAAJVJREFU\n",
       "GNNj4LuzgQE74JqAQ4K/AYdE/QMcEtk4xBmWusxAF7LM9HnAwPfrwXsDICdrFQisBImzH2ZYz8DA\n",
       "8Y+B3wFVwxsFhrkMDJwLGN4noErMf8CwBeyNejQHn2Xg+wj0hgJIBcyOpUAW3zcGjg9AiQK+Q6ga\n",
       "+H4wsC5oZmBV4EUPkysM2gEJDHxTktC98dRFOKQAAF7kLE3dFJTRAAAAAElFTkSuQmCC\n",
       "\" style=\"display:inline;vertical-align:middle;\" /></a></span>"
      ],
      "text/plain": [
       "{a = b} |- b = a"
      ]
     },
     "execution_count": 31,
     "metadata": {},
     "output_type": "execute_result"
    }
   ],
   "source": [
    "a_eq_b.prove([a_eq_b]).derive_reversed()"
   ]
  },
  {
   "cell_type": "markdown",
   "metadata": {},
   "source": [
    "Transitivity derivations are attempted with automation via the `conclude_via_transitivity` method from the `TransitiveRelation` superclass of `Equals`.  This performs a breadth-first, bidirectional search (meeting in the middle from both ends) over the space of **Judgment** objects representing equality and using appropriate assumptions.  This is therefore reasonably efficient.  Efficiency should not really be an issue, anyways, as long as proofs for each theorem are relatively small.  A long proof should be broken up into several smaller proofs for lemma-like theorems.  In that case (in the setting of small proofs), the space of **Judgment**s will be small and this search algorithm will have ample efficiency. "
   ]
  },
  {
   "cell_type": "code",
   "execution_count": 32,
   "metadata": {},
   "outputs": [
    {
     "data": {
      "text/html": [
       "<strong id=\"c_eq_b\">c_eq_b:</strong> <a class=\"ProveItLink\" href=\"../__pv_it/demonstrations/c6c489a40fa8be044a7beee98a5b2d886a5961520/expr.ipynb\"><img src=\"data:image/png;base64,iVBORw0KGgoAAAANSUhEUgAAAC4AAAAOBAMAAACiOzMyAAAAMFBMVEX///+6urqYmJgQEBDu7u5m\n",
       "ZmZUVFQyMjJERESqqqoiIiLc3NzMzMyIiIh2dnYAAABqS+z4AAAAAXRSTlMAQObYZgAAAIRJREFU\n",
       "GNNjYMAEHlYM2EEpDvGf2IUZv2AX51sApt7ePYAqzp57dQIDw64JHAVAzvNyEADb6F/C8puBYR0D\n",
       "2wRU9fMdGP4ysGJaEs7A8o+BuQGL8xl/Mvg/gHAg5peBmJ9AhvArMDCgmf+RwVmBgTWBwRXNnUkM\n",
       "rUDyndIFNPNd7ykwAAA+mCTfkZgn6wAAAABJRU5ErkJggg==\n",
       "\" style=\"display:inline;vertical-align:middle;\" /></a><br>"
      ],
      "text/plain": [
       "c_eq_b: c = b"
      ]
     },
     "execution_count": 32,
     "metadata": {},
     "output_type": "execute_result"
    }
   ],
   "source": [
    "# We'll make this interesting by reversing some of the equations in the chain.\n",
    "c_eq_b = Equals(c, b) "
   ]
  },
  {
   "cell_type": "code",
   "execution_count": 33,
   "metadata": {},
   "outputs": [
    {
     "data": {
      "text/html": [
       "<strong id=\"d_eq_c\">d_eq_c:</strong> <a class=\"ProveItLink\" href=\"../__pv_it/demonstrations/0576858674c8a80a988d0284745ea14bc578c28e0/expr.ipynb\"><img src=\"data:image/png;base64,iVBORw0KGgoAAAANSUhEUgAAAC8AAAAOBAMAAABN+VgMAAAAMFBMVEX///9UVFSYmJiIiIjc3Nwy\n",
       "MjIiIiJ2dnbu7u66urqqqqpmZmYQEBBERETMzMwAAAAYOWz6AAAAAXRSTlMAQObYZgAAAI9JREFU\n",
       "GNNjYGBg4LuzgQE74F+AQ2J+Aw6JMhziDNFYRVm22/1CFys2fsDAMMeB9weIUxoKAmDNbgt4Axg4\n",
       "DjFwB6BpSGdgXMDA/YOBrQBVnBtsAs8Fhv4JqBJAISDoL2BYz4CwIxAiBCIXMIhyOaAGhAIDwwIG\n",
       "XgOmRHY0OwQYuh8wcAjbOVqiuapcyYABAOgnIBJ0orWKAAAAAElFTkSuQmCC\n",
       "\" style=\"display:inline;vertical-align:middle;\" /></a><br>"
      ],
      "text/plain": [
       "d_eq_c: d = c"
      ]
     },
     "execution_count": 33,
     "metadata": {},
     "output_type": "execute_result"
    }
   ],
   "source": [
    "d_eq_c = Equals(d, c)"
   ]
  },
  {
   "cell_type": "code",
   "execution_count": 34,
   "metadata": {},
   "outputs": [
    {
     "data": {
      "text/html": [
       "<strong id=\"d_eq_z\">d_eq_z:</strong> <a class=\"ProveItLink\" href=\"../__pv_it/demonstrations/a7629ae268a4a2cde547af3e985a45ecca7dcdb40/expr.ipynb\"><img src=\"data:image/png;base64,iVBORw0KGgoAAAANSUhEUgAAADEAAAAOBAMAAAB0nulXAAAAMFBMVEX///9UVFSYmJiIiIjc3Nwy\n",
       "MjIiIiJ2dnbu7u66urqqqqpmZmYQEBBERETMzMwAAAAYOWz6AAAAAXRSTlMAQObYZgAAAJVJREFU\n",
       "GNNjYGBg4LuzgQEH4F+AS2Z+Ay6ZMlwSDNHYhVm22/1CF5t2kk+BgWGOA+8PEK80FATA2jkuWe8F\n",
       "kocYuAPQtHAwsFxgYOD+wcBWgGHFW6BreS4w9E9Al+AUABL9BQzrGRD2BILZC0FE/wIGUS4HVC1c\n",
       "GxgYGRh4DZgS2dEMe6auHAl0h7CdoyWazAamoxMYAMzMIPLUL7LlAAAAAElFTkSuQmCC\n",
       "\" style=\"display:inline;vertical-align:middle;\" /></a><br>"
      ],
      "text/plain": [
       "d_eq_z: d = z"
      ]
     },
     "execution_count": 34,
     "metadata": {},
     "output_type": "execute_result"
    }
   ],
   "source": [
    "d_eq_z = Equals(d, z)"
   ]
  },
  {
   "cell_type": "code",
   "execution_count": 35,
   "metadata": {},
   "outputs": [
    {
     "data": {
      "text/html": [
       "<strong id=\"a_eq_z\">a_eq_z:</strong> <span style=\"font-size:20px;\"><a class=\"ProveItLink\" href=\"../__pv_it/demonstrations/983cbbd01fb9696d6f8bb12204ac8d0204636b8f0/expr.ipynb\"><img src=\"data:image/png;base64,iVBORw0KGgoAAAANSUhEUgAAADAAAAAOBAMAAACbXIJpAAAAMFBMVEX///9UVFSqqqrMzMwiIiJE\n",
       "RESYmJgyMjK6urru7u4QEBCIiIh2dnZmZmbc3NwAAABRgo0vAAAAAXRSTlMAQObYZgAAAJNJREFU\n",
       "GNNjYMACpi5hwAFqcUl8wiHO8ROHBI8DiOS7c3slmgS79F4FBoauB+wfQLzj5SAAtnZ+Jec/Bs5l\n",
       "DLwBaDr0JzD8ZuD9ycCyAU3iOgPnHwauAIb5Bhje4PjEMP8Agz4Dwo5CEPMbyJz5CgziTA9Qdfxg\n",
       "mJXAwLqBzZEHzSgxhlgGBk7pzQ93oEnM3ZPAAADExyjZCF2gNgAAAABJRU5ErkJggg==\n",
       "\" style=\"display:inline;vertical-align:middle;\" /></a>, <a class=\"ProveItLink\" href=\"../__pv_it/demonstrations/c6c489a40fa8be044a7beee98a5b2d886a5961520/expr.ipynb\"><img src=\"data:image/png;base64,iVBORw0KGgoAAAANSUhEUgAAAC4AAAAOBAMAAACiOzMyAAAAMFBMVEX///+6urqYmJgQEBDu7u5m\n",
       "ZmZUVFQyMjJERESqqqoiIiLc3NzMzMyIiIh2dnYAAABqS+z4AAAAAXRSTlMAQObYZgAAAIRJREFU\n",
       "GNNjYMAEHlYM2EEpDvGf2IUZv2AX51sApt7ePYAqzp57dQIDw64JHAVAzvNyEADb6F/C8puBYR0D\n",
       "2wRU9fMdGP4ysGJaEs7A8o+BuQGL8xl/Mvg/gHAg5peBmJ9AhvArMDCgmf+RwVmBgTWBwRXNnUkM\n",
       "rUDyndIFNPNd7ykwAAA+mCTfkZgn6wAAAABJRU5ErkJggg==\n",
       "\" style=\"display:inline;vertical-align:middle;\" /></a>, <a class=\"ProveItLink\" href=\"../__pv_it/demonstrations/0576858674c8a80a988d0284745ea14bc578c28e0/expr.ipynb\"><img src=\"data:image/png;base64,iVBORw0KGgoAAAANSUhEUgAAAC8AAAAOBAMAAABN+VgMAAAAMFBMVEX///9UVFSYmJiIiIjc3Nwy\n",
       "MjIiIiJ2dnbu7u66urqqqqpmZmYQEBBERETMzMwAAAAYOWz6AAAAAXRSTlMAQObYZgAAAI9JREFU\n",
       "GNNjYGBg4LuzgQE74F+AQ2J+Aw6JMhziDNFYRVm22/1CFys2fsDAMMeB9weIUxoKAmDNbgt4Axg4\n",
       "DjFwB6BpSGdgXMDA/YOBrQBVnBtsAs8Fhv4JqBJAISDoL2BYz4CwIxAiBCIXMIhyOaAGhAIDwwIG\n",
       "XgOmRHY0OwQYuh8wcAjbOVqiuapcyYABAOgnIBJ0orWKAAAAAElFTkSuQmCC\n",
       "\" style=\"display:inline;vertical-align:middle;\" /></a>, <a class=\"ProveItLink\" href=\"../__pv_it/demonstrations/a7629ae268a4a2cde547af3e985a45ecca7dcdb40/expr.ipynb\"><img src=\"data:image/png;base64,iVBORw0KGgoAAAANSUhEUgAAADEAAAAOBAMAAAB0nulXAAAAMFBMVEX///9UVFSYmJiIiIjc3Nwy\n",
       "MjIiIiJ2dnbu7u66urqqqqpmZmYQEBBERETMzMwAAAAYOWz6AAAAAXRSTlMAQObYZgAAAJVJREFU\n",
       "GNNjYGBg4LuzgQEH4F+AS2Z+Ay6ZMlwSDNHYhVm22/1CF5t2kk+BgWGOA+8PEK80FATA2jkuWe8F\n",
       "kocYuAPQtHAwsFxgYOD+wcBWgGHFW6BreS4w9E9Al+AUABL9BQzrGRD2BILZC0FE/wIGUS4HVC1c\n",
       "GxgYGRh4DZgS2dEMe6auHAl0h7CdoyWazAamoxMYAMzMIPLUL7LlAAAAAElFTkSuQmCC\n",
       "\" style=\"display:inline;vertical-align:middle;\" /></a> <a class=\"ProveItLink\" href=\"../__pv_it/demonstrations/a366849d11fe8a20ae2cddf36474046695428dba0/proof.ipynb\" style=\"text-decoration: none\">&nbsp;&#x22A2;&nbsp;&nbsp;</a><a class=\"ProveItLink\" href=\"../__pv_it/demonstrations/f750d6e0bf16d7a5cf6588627815e68d09ea730b0/expr.ipynb\"><img src=\"data:image/png;base64,iVBORw0KGgoAAAANSUhEUgAAADEAAAAJBAMAAABpm9nvAAAAMFBMVEX///9UVFSqqqrMzMwiIiJE\n",
       "RESYmJgyMjK6urru7u4QEBCIiIh2dnZmZmbc3NwAAABRgo0vAAAAAXRSTlMAQObYZgAAAIBJREFU\n",
       "CNdjYOC7c3slAxpoWcGcwMDQ9YD9A4h3vBwEakFMzrC9V4HkMgbeADQtnAx8QCHenwwsG9BNYzCd\n",
       "wMDAFcAw3wBdgkMASMw/wKDPgLCnEMxWBBHzFRjEmR6gamG6wMDIwMC6gc2RB80wk5zsCqA7pDc/\n",
       "3IEmc4FteQMDAL+9H9f+T50IAAAAAElFTkSuQmCC\n",
       "\" style=\"display:inline;vertical-align:middle;\" /></a></span><br>"
      ],
      "text/plain": [
       "a_eq_z: {a = b, c = b, d = c, d = z} |- a = z"
      ]
     },
     "execution_count": 35,
     "metadata": {},
     "output_type": "execute_result"
    }
   ],
   "source": [
    "a_eq_z = Equals(a, z).conclude_via_transitivity(assumptions=[a_eq_b, c_eq_b, d_eq_c, d_eq_z])"
   ]
  },
  {
   "cell_type": "markdown",
   "metadata": {},
   "source": [
    "The `apply_transivity` method applies the transitivity relation explicity. "
   ]
  },
  {
   "cell_type": "code",
   "execution_count": 36,
   "metadata": {},
   "outputs": [
    {
     "data": {
      "text/html": [
       "<span style=\"font-size:20px;\"><a class=\"ProveItLink\" href=\"../__pv_it/demonstrations/983cbbd01fb9696d6f8bb12204ac8d0204636b8f0/expr.ipynb\"><img src=\"data:image/png;base64,iVBORw0KGgoAAAANSUhEUgAAADAAAAAOBAMAAACbXIJpAAAAMFBMVEX///9UVFSqqqrMzMwiIiJE\n",
       "RESYmJgyMjK6urru7u4QEBCIiIh2dnZmZmbc3NwAAABRgo0vAAAAAXRSTlMAQObYZgAAAJNJREFU\n",
       "GNNjYMACpi5hwAFqcUl8wiHO8ROHBI8DiOS7c3slmgS79F4FBoauB+wfQLzj5SAAtnZ+Jec/Bs5l\n",
       "DLwBaDr0JzD8ZuD9ycCyAU3iOgPnHwauAIb5Bhje4PjEMP8Agz4Dwo5CEPMbyJz5CgziTA9Qdfxg\n",
       "mJXAwLqBzZEHzSgxhlgGBk7pzQ93oEnM3ZPAAADExyjZCF2gNgAAAABJRU5ErkJggg==\n",
       "\" style=\"display:inline;vertical-align:middle;\" /></a>, <a class=\"ProveItLink\" href=\"../__pv_it/demonstrations/c6c489a40fa8be044a7beee98a5b2d886a5961520/expr.ipynb\"><img src=\"data:image/png;base64,iVBORw0KGgoAAAANSUhEUgAAAC4AAAAOBAMAAACiOzMyAAAAMFBMVEX///+6urqYmJgQEBDu7u5m\n",
       "ZmZUVFQyMjJERESqqqoiIiLc3NzMzMyIiIh2dnYAAABqS+z4AAAAAXRSTlMAQObYZgAAAIRJREFU\n",
       "GNNjYMAEHlYM2EEpDvGf2IUZv2AX51sApt7ePYAqzp57dQIDw64JHAVAzvNyEADb6F/C8puBYR0D\n",
       "2wRU9fMdGP4ysGJaEs7A8o+BuQGL8xl/Mvg/gHAg5peBmJ9AhvArMDCgmf+RwVmBgTWBwRXNnUkM\n",
       "rUDyndIFNPNd7ykwAAA+mCTfkZgn6wAAAABJRU5ErkJggg==\n",
       "\" style=\"display:inline;vertical-align:middle;\" /></a> <a class=\"ProveItLink\" href=\"../__pv_it/demonstrations/d79691d189c2912382c7bdf3ffe11512a46c04400/proof.ipynb\" style=\"text-decoration: none\">&nbsp;&#x22A2;&nbsp;&nbsp;</a><a class=\"ProveItLink\" href=\"../__pv_it/demonstrations/8b688447c249f8a0932cd6d2fb09cc1482ddc4c90/expr.ipynb\"><img src=\"data:image/png;base64,iVBORw0KGgoAAAANSUhEUgAAADAAAAAJBAMAAACGWbLRAAAAMFBMVEX///9UVFSqqqrMzMwiIiJE\n",
       "RESYmJgyMjK6urru7u4QEBCIiIh2dnZmZmbc3NwAAABRgo0vAAAAAXRSTlMAQObYZgAAAHtJREFU\n",
       "CNdjYOC7c3slAxrg2b2ZgaHrAfsHEOd4OQjUgph8TgzhDJzLGHgD0DSwHGAQYuD9ycCyAU3i/gQg\n",
       "wRXAMN8ATWIpiJh/gEGfAWFHIZDF+QcsocAgzvQAVcc3BgYmBtYNbI48aEZdZOC8zMApvfnhDnRv\n",
       "HMtmAABIISCRIdcwMwAAAABJRU5ErkJggg==\n",
       "\" style=\"display:inline;vertical-align:middle;\" /></a></span>"
      ],
      "text/plain": [
       "{a = b, c = b} |- a = c"
      ]
     },
     "execution_count": 36,
     "metadata": {},
     "output_type": "execute_result"
    }
   ],
   "source": [
    "a_eq_b.prove([a_eq_b]).apply_transitivity(c_eq_b, assumptions=[c_eq_b])"
   ]
  },
  {
   "cell_type": "markdown",
   "metadata": {},
   "source": [
    "## Evaluation\n",
    "\n",
    "An evaluation is an equality in which the right hand side is an irreducible value (specifically, an instance of `proveit.logic.irreducible_value.IrreducibleValue`, aliased as `proveit.logic.IrreducibleValue`).  An irreducible value represents a mathematical object in its simplest form.  It cannot be reduced.  The evaluation of an `IrreducibleValue` is itself.  When an evaluation is proven, the associated **Judgment** is stored for future reference in `Equals.evaluations` for making other evaluations."
   ]
  },
  {
   "cell_type": "markdown",
   "metadata": {},
   "source": [
    "`TRUE` ($\\top$) and `FALSE` ($\\bot$) are both `IrreducibleValue`s:"
   ]
  },
  {
   "cell_type": "code",
   "execution_count": 37,
   "metadata": {},
   "outputs": [],
   "source": [
    "from proveit.logic import TRUE, FALSE, IrreducibleValue"
   ]
  },
  {
   "cell_type": "code",
   "execution_count": 38,
   "metadata": {},
   "outputs": [
    {
     "data": {
      "text/plain": [
       "True"
      ]
     },
     "execution_count": 38,
     "metadata": {},
     "output_type": "execute_result"
    }
   ],
   "source": [
    "isinstance(TRUE, IrreducibleValue)"
   ]
  },
  {
   "cell_type": "code",
   "execution_count": 39,
   "metadata": {},
   "outputs": [
    {
     "data": {
      "text/plain": [
       "True"
      ]
     },
     "execution_count": 39,
     "metadata": {},
     "output_type": "execute_result"
    }
   ],
   "source": [
    "isinstance(FALSE, IrreducibleValue)"
   ]
  },
  {
   "cell_type": "code",
   "execution_count": 40,
   "metadata": {},
   "outputs": [
    {
     "data": {
      "text/html": [
       "<span style=\"font-size:20px;\"> <a class=\"ProveItLink\" href=\"../../booleans/_theory_nbs_/proofs/true_eq_true/thm_proof.ipynb\" style=\"text-decoration: none\">&nbsp;&#x22A2;&nbsp;&nbsp;</a><a class=\"ProveItLink\" href=\"../../booleans/__pv_it/theorems/52b4f7bc7da956ecc9dae3497359cbd2e35d2aa50/expr.ipynb\"><img src=\"data:image/png;base64,iVBORw0KGgoAAAANSUhEUgAAADoAAAAOBAMAAACMfhKgAAAAIVBMVEX///8yMjJ2dnaYmJi6urqI\n",
       "iIiqqqpUVFQiIiJmZmYAAAAYAVJeAAAAAXRSTlMAQObYZgAAACtJREFUGNNjmNEBAu0MqABJNJUB\n",
       "G0hFowdKVlEQBCQHyF5xKprsjFUWJAoAeuASqfAPxAMAAAAASUVORK5CYII=\n",
       "\" style=\"display:inline;vertical-align:middle;\" /></a></span>"
      ],
      "text/plain": [
       "|- TRUE = TRUE"
      ]
     },
     "execution_count": 40,
     "metadata": {},
     "output_type": "execute_result"
    }
   ],
   "source": [
    "TRUE.evaluation()"
   ]
  },
  {
   "cell_type": "markdown",
   "metadata": {},
   "source": [
    "An `IrreducibleValue` should implement the `eval_equality` and `not_equal` methods to prove equality relations with other `IrreducibleValue`s as appropriate."
   ]
  },
  {
   "cell_type": "code",
   "execution_count": 41,
   "metadata": {},
   "outputs": [
    {
     "data": {
      "text/html": [
       "<span style=\"font-size:20px;\"><a class=\"ProveItLink\" href=\"../__pv_it/demonstrations/94e00292415a018dca533d5c23ebb9b8ace824610/expr.ipynb\"><img src=\"data:image/png;base64,iVBORw0KGgoAAAANSUhEUgAAADoAAAAOBAMAAACMfhKgAAAAJ1BMVEX///+YmJi6uroyMjJ2dnZU\n",
       "VFQQEBAiIiJmZmaIiIiqqqrMzMwAAADd4JLrAAAAAXRSTlMAQObYZgAAADRJREFUGNNjYGBg2MWA\n",
       "AdrLQaAUxFzJgA2sRKMHStbZGAQsBsheU2qZDAzvNGh4owJFIAYAg3UaMoyLI1wAAAAASUVORK5C\n",
       "YII=\n",
       "\" style=\"display:inline;vertical-align:middle;\" /></a> <a class=\"ProveItLink\" href=\"../__pv_it/demonstrations/f51e567602e9a80947889310bab30ab0d5810c010/proof.ipynb\" style=\"text-decoration: none\">&nbsp;&#x22A2;&nbsp;&nbsp;</a><a class=\"ProveItLink\" href=\"../../booleans/__pv_it/common/bc5c31e39ae582b67c89fb24025b57f5b995e8890/expr.ipynb\"><img src=\"data:image/png;base64,iVBORw0KGgoAAAANSUhEUgAAAA4AAAAOBAMAAADtZjDiAAAAG1BMVEX///9UVFQQEBAiIiJmZmaI\n",
       "iIiqqqrMzMwAAADC2JlRAAAAAXRSTlMAQObYZgAAABlJREFUCNdjYGBgKGOAgFRa0s7GxkrGxoYA\n",
       "QSUGlQeagkgAAAAASUVORK5CYII=\n",
       "\" style=\"display:inline;vertical-align:middle;\" /></a></span>"
      ],
      "text/plain": [
       "{FALSE = TRUE} |- FALSE"
      ]
     },
     "execution_count": 41,
     "metadata": {},
     "output_type": "execute_result"
    }
   ],
   "source": [
    "Equals(Equals(FALSE, TRUE), FALSE).derive_contradiction([Equals(FALSE, TRUE)])"
   ]
  },
  {
   "cell_type": "code",
   "execution_count": 42,
   "metadata": {},
   "outputs": [
    {
     "data": {
      "text/html": [
       "<span style=\"font-size:20px;\"> <a class=\"ProveItLink\" href=\"../__pv_it/demonstrations/ef6944741078b31e2b921f43ed3042e74ea3e2f50/proof.ipynb\" style=\"text-decoration: none\">&nbsp;&#x22A2;&nbsp;&nbsp;</a><a class=\"ProveItLink\" href=\"../__pv_it/demonstrations/27a7a1901775df1bf7cbc1dea23af83db2b9b6560/expr.ipynb\"><img src=\"data:image/png;base64,iVBORw0KGgoAAAANSUhEUgAAAHUAAAAUBAMAAABBgm9wAAAAMFBMVEX////MzMxUVFR2dna6uroQ\n",
       "EBCqqqqIiIgiIiJmZmYyMjJERETu7u6YmJjc3NwAAACgK8IjAAAAAXRSTlMAQObYZgAAAK9JREFU\n",
       "OMtjYOC7wIAXsD3ALXeagbMDDBRQxeGieug6EOrXgQ0vwGolWPQUThneCYT0MhfgkuF4QEgvTwAu\n",
       "mRcMhPQyLMElU0lYryUumb0oeplXgcEEFL23cMm0EbY3A5dMCGG98rTQ24bNvwooej1wyewlbO8t\n",
       "XDKWhPVOxiUDdhADC9bMBBVdiEuG4wEDAcDTgEuGdwIhvcwFOKX2EdJ7Cl/eJwDwGE6ozOHFGSAA\n",
       "HxxGKHmdq5YAAAAASUVORK5CYII=\n",
       "\" style=\"display:inline;vertical-align:middle;\" /></a></span>"
      ],
      "text/plain": [
       "|- (TRUE = TRUE) = TRUE"
      ]
     },
     "execution_count": 42,
     "metadata": {},
     "output_type": "execute_result"
    }
   ],
   "source": [
    "TRUE.eval_equality(TRUE)"
   ]
  },
  {
   "cell_type": "code",
   "execution_count": 43,
   "metadata": {},
   "outputs": [
    {
     "data": {
      "text/html": [
       "<span style=\"font-size:20px;\"> <a class=\"ProveItLink\" href=\"../__pv_it/demonstrations/ea1c6c6cf29dee9123a3f9e2e9138f41694cb3650/proof.ipynb\" style=\"text-decoration: none\">&nbsp;&#x22A2;&nbsp;&nbsp;</a><a class=\"ProveItLink\" href=\"../__pv_it/demonstrations/e58f7c19a1196fea67ba160466fc8e4d200c28ff0/expr.ipynb\"><img src=\"data:image/png;base64,iVBORw0KGgoAAAANSUhEUgAAAHUAAAAUBAMAAABBgm9wAAAAMFBMVEX////MzMxUVFR2dna6uroQ\n",
       "EBCqqqqIiIgiIiJmZmYyMjJERETu7u6YmJjc3NwAAACgK8IjAAAAAXRSTlMAQObYZgAAALdJREFU\n",
       "OMtjYOC7wIAXsD3ALXeagbMDDBQwpBgTQKQeFk0QGYZ1YMMLsFoJFj2FU4Z3AiG9zAW4ZDgeENLL\n",
       "E4BL5gUDIb0MS3DJVBLWa4lLZi+KXuZVYDABRe8tXDJthO3NwCUTQlivPC30tmHzrwKKXg9cMnsJ\n",
       "23sLl4wlYb2TccmAHcTAgpmZgDmkNQKcQxbikuF4wEAA8DTgkuGdQEgvcwFOqX2E9J7Cl/cJADyG\n",
       "EypzeHEGCABriETckJsn/wAAAABJRU5ErkJggg==\n",
       "\" style=\"display:inline;vertical-align:middle;\" /></a></span>"
      ],
      "text/plain": [
       "|- (TRUE = FALSE) = FALSE"
      ]
     },
     "execution_count": 43,
     "metadata": {},
     "output_type": "execute_result"
    }
   ],
   "source": [
    "TRUE.eval_equality(FALSE)"
   ]
  },
  {
   "cell_type": "code",
   "execution_count": 44,
   "metadata": {},
   "outputs": [
    {
     "data": {
      "text/html": [
       "<span style=\"font-size:20px;\"> <a class=\"ProveItLink\" href=\"../../booleans/_theory_nbs_/proofs/true_not_false/thm_proof.ipynb\" style=\"text-decoration: none\">&nbsp;&#x22A2;&nbsp;&nbsp;</a><a class=\"ProveItLink\" href=\"../../booleans/__pv_it/theorems/1118b6b4ddc20b44e714bd4309989d16ef8189ce0/expr.ipynb\"><img src=\"data:image/png;base64,iVBORw0KGgoAAAANSUhEUgAAADoAAAAUCAMAAADrw95cAAAAOVBMVEX///8QEBAkJCQNDQ0oKCjM\n",
       "zMxEREQyMjLc3Nzu7u52dnaYmJi6urqIiIiqqqpUVFQiIiJmZmYAAADZ9py9AAAAAXRSTlMAQObY\n",
       "ZgAAAIFJREFUOMvFk9sOgCAIQLHymkn+/8+2bGtlMJWXeHATOJzxAEArgucqeX8EfuvO1hmdXt+0\n",
       "caMx1pmql0WdASmKWooS0l7U6GE02BLLfL5ZYqWkfahGkKLGCdCy66SujXHcaklpDxoz9KBxJaSe\n",
       "PhWluFO5h2eQhvVSMoUfpBCbHQfq2wZjnRBGFAAAAABJRU5ErkJggg==\n",
       "\" style=\"display:inline;vertical-align:middle;\" /></a></span>"
      ],
      "text/plain": [
       "|- TRUE != FALSE"
      ]
     },
     "execution_count": 44,
     "metadata": {},
     "output_type": "execute_result"
    }
   ],
   "source": [
    "TRUE.not_equal(FALSE)"
   ]
  },
  {
   "cell_type": "markdown",
   "metadata": {},
   "source": [
    "A proven expression will evaluate to `TRUE`."
   ]
  },
  {
   "cell_type": "code",
   "execution_count": 45,
   "metadata": {},
   "outputs": [
    {
     "data": {
      "text/html": [
       "<strong id=\"a_eq_T\">a_eq_T:</strong> <span style=\"font-size:20px;\"><a class=\"ProveItLink\" href=\"../../../__pv_it/common/66c90e66682f107a881f2d666959f64e2e72ad750/expr.ipynb\"><img src=\"data:image/png;base64,iVBORw0KGgoAAAANSUhEUgAAAAsAAAAJBAMAAAAWSsseAAAAMFBMVEX///9UVFSqqqrMzMwiIiJE\n",
       "RESYmJgyMjK6urru7u4QEBCIiIh2dnZmZmbc3NwAAABRgo0vAAAAAXRSTlMAQObYZgAAAEdJREFU\n",
       "CNdjYOC7c3slAwND1wP2DwwMnMsYeAMYGHh/MrBsYGDgCmCYb8DAMP8Agz5QxXwFBnGmBwysG9gc\n",
       "eYAqpTc/3MEAAP4BD32xAXDqAAAAAElFTkSuQmCC\n",
       "\" style=\"display:inline;vertical-align:middle;\" /></a> <a class=\"ProveItLink\" href=\"../__pv_it/demonstrations/349d9b549d3bfe6e5180a8205c165fb53f18a4310/proof.ipynb\" style=\"text-decoration: none\">&nbsp;&#x22A2;&nbsp;&nbsp;</a><a class=\"ProveItLink\" href=\"../__pv_it/demonstrations/8d8874450f9a13d60680df6b254882050ce0d3050/expr.ipynb\"><img src=\"data:image/png;base64,iVBORw0KGgoAAAANSUhEUgAAADYAAAAOBAMAAACWQvIuAAAAMFBMVEX///9UVFSqqqrMzMwiIiJE\n",
       "RESYmJgyMjK6urru7u4QEBCIiIh2dnZmZmbc3NwAAABRgo0vAAAAAXRSTlMAQObYZgAAAGVJREFU\n",
       "GNNjYMACrriAgCMDDqDNgBtQJsd35/ZKXHJdD9g/gOjj5SBQiyzHuYyBNwCHPt6fDCwbcMhxBTDM\n",
       "N8AhN/8Agz4Dwr5CFDkFBnGmB9j1sW5gc+TBYSan9OaHOzDl2oAYAN14G5LzAmKsAAAAAElFTkSu\n",
       "QmCC\n",
       "\" style=\"display:inline;vertical-align:middle;\" /></a></span><br>"
      ],
      "text/plain": [
       "a_eq_T: {a} |- a = TRUE"
      ]
     },
     "execution_count": 45,
     "metadata": {},
     "output_type": "execute_result"
    }
   ],
   "source": [
    "a_eq_T = a.evaluation([a])"
   ]
  },
  {
   "cell_type": "markdown",
   "metadata": {},
   "source": [
    "A disproven expression will evaluate to `FALSE`."
   ]
  },
  {
   "cell_type": "code",
   "execution_count": 46,
   "metadata": {},
   "outputs": [
    {
     "data": {
      "text/html": [
       "<strong id=\"a_eq_F\">a_eq_F:</strong> <span style=\"font-size:20px;\"><a class=\"ProveItLink\" href=\"../__pv_it/demonstrations/07032128a38a8a5c44e07e81dc11c1ce8c7067840/expr.ipynb\"><img src=\"data:image/png;base64,iVBORw0KGgoAAAANSUhEUgAAABgAAAAJBAMAAADa0/H1AAAAMFBMVEX///+qqqpERESYmJgyMjK6\n",
       "urru7u4QEBCIiIjMzMxUVFTc3Nx2dnYiIiJmZmYAAAA3+v/5AAAAAXRSTlMAQObYZgAAAE5JREFU\n",
       "CNdjYICCfefaE2Bs1moGfwaGt3eB4A5DugHDI6j4Lob3CQw34JwiBrafMA7bHwbGD3DORwYuB2kI\n",
       "h5NBg8F2wQGY0Vkds1cEAACuqhgbjxth7gAAAABJRU5ErkJggg==\n",
       "\" style=\"display:inline;vertical-align:middle;\" /></a> <a class=\"ProveItLink\" href=\"../__pv_it/demonstrations/06e6662715b90092f3ac70db781a42423b90a4930/proof.ipynb\" style=\"text-decoration: none\">&nbsp;&#x22A2;&nbsp;&nbsp;</a><a class=\"ProveItLink\" href=\"../__pv_it/demonstrations/09d1409b7722d37c24506454d6eef9c5a1be93d20/expr.ipynb\"><img src=\"data:image/png;base64,iVBORw0KGgoAAAANSUhEUgAAADYAAAAOBAMAAACWQvIuAAAAMFBMVEX///9UVFSqqqrMzMwiIiJE\n",
       "RESYmJgyMjK6urru7u4QEBCIiIh2dnZmZmbc3NwAAABRgo0vAAAAAXRSTlMAQObYZgAAAGNJREFU\n",
       "GNNjYMAOjBhwA22ayfHdub0Sl1zXA/YPIPp4OQjUIstxLmPgDcChj/cnA8sGHHJcAQzzDXDIzT/A\n",
       "oM+AsK8QRU6BQZzpAXZ9rBvYHHlwmMkpvfnhDjSJKy4uq1xcHAG3Xxuk5NsGEAAAAABJRU5ErkJg\n",
       "gg==\n",
       "\" style=\"display:inline;vertical-align:middle;\" /></a></span><br>"
      ],
      "text/plain": [
       "a_eq_F: {not(a)} |- a = FALSE"
      ]
     },
     "execution_count": 46,
     "metadata": {},
     "output_type": "execute_result"
    }
   ],
   "source": [
    "a_eq_F = a.evaluation([Not(a)])"
   ]
  },
  {
   "cell_type": "markdown",
   "metadata": {},
   "source": [
    "If the expression to be evaluated is known to be equal to an expression that has already been evaluated, transitivity will automatically be applied."
   ]
  },
  {
   "cell_type": "code",
   "execution_count": 47,
   "metadata": {},
   "outputs": [
    {
     "data": {
      "text/html": [
       "<strong id=\"b_eq_F\">b_eq_F:</strong> <span style=\"font-size:20px;\"><a class=\"ProveItLink\" href=\"../__pv_it/demonstrations/40dea47dac6e815379cffa1226f20b6dc1a41c610/expr.ipynb\"><img src=\"data:image/png;base64,iVBORw0KGgoAAAANSUhEUgAAADAAAAAOBAMAAACbXIJpAAAAMFBMVEX////MzMyYmJjc3NyIiIhU\n",
       "VFR2dna6urqqqqpmZmYyMjIiIiIQEBBERETu7u4AAACIO4EmAAAAAXRSTlMAQObYZgAAAJVJREFU\n",
       "GNNj4LuzgQE74JqAQ4K/AYdE/QMcEtk4xBmWusxAF7LM9HnAwPfrwXsDICdrFQisBImzH2ZYz8DA\n",
       "8Y+B3wFVwxsFhrkMDJwLGN4noErMf8CwBeyNejQHn2Xg+wj0hgJIBcyOpUAW3zcGjg9AiQK+Q6ga\n",
       "+H4wsC5oZmBV4EUPkysM2gEJDHxTktC98dRFOKQAAF7kLE3dFJTRAAAAAElFTkSuQmCC\n",
       "\" style=\"display:inline;vertical-align:middle;\" /></a>, <a class=\"ProveItLink\" href=\"../__pv_it/demonstrations/07032128a38a8a5c44e07e81dc11c1ce8c7067840/expr.ipynb\"><img src=\"data:image/png;base64,iVBORw0KGgoAAAANSUhEUgAAABgAAAAJBAMAAADa0/H1AAAAMFBMVEX///+qqqpERESYmJgyMjK6\n",
       "urru7u4QEBCIiIjMzMxUVFTc3Nx2dnYiIiJmZmYAAAA3+v/5AAAAAXRSTlMAQObYZgAAAE5JREFU\n",
       "CNdjYICCfefaE2Bs1moGfwaGt3eB4A5DugHDI6j4Lob3CQw34JwiBrafMA7bHwbGD3DORwYuB2kI\n",
       "h5NBg8F2wQGY0Vkds1cEAACuqhgbjxth7gAAAABJRU5ErkJggg==\n",
       "\" style=\"display:inline;vertical-align:middle;\" /></a> <a class=\"ProveItLink\" href=\"../__pv_it/demonstrations/0af092bdb41a29aae5ea785eafdecb4af8d857320/proof.ipynb\" style=\"text-decoration: none\">&nbsp;&#x22A2;&nbsp;&nbsp;</a><a class=\"ProveItLink\" href=\"../__pv_it/demonstrations/d67d90c8a514d919ff3aa88dfda37a096740eb3e0/expr.ipynb\"><img src=\"data:image/png;base64,iVBORw0KGgoAAAANSUhEUgAAADQAAAAOBAMAAACStyITAAAAMFBMVEX////MzMyYmJjc3NyIiIhU\n",
       "VFR2dna6urqqqqpmZmYyMjIiIiIQEBBERETu7u4AAACIO4EmAAAAAXRSTlMAQObYZgAAAHBJREFU\n",
       "GNNj4LuzgQETSIBJrglYpFrAJH8DTqn6BzilshlwSi11mYFDiu/Xg/cGQDprFQisRJbi+MfA74Bd\n",
       "F+cChvcJ2KWA3qpvwC7Fr8Aw/wHcrqUoUgV8h3C4kFWBdwIux09JQhefvXv3md27twIA10Um1Xfy\n",
       "AHEAAAAASUVORK5CYII=\n",
       "\" style=\"display:inline;vertical-align:middle;\" /></a></span><br>"
      ],
      "text/plain": [
       "b_eq_F: {b = a, not(a)} |- b = FALSE"
      ]
     },
     "execution_count": 47,
     "metadata": {},
     "output_type": "execute_result"
    }
   ],
   "source": [
    "b_eq_F = b.evaluation([Equals(b, a), Not(a)])"
   ]
  },
  {
   "cell_type": "code",
   "execution_count": 48,
   "metadata": {},
   "outputs": [
    {
     "data": {
      "text/html": [
       "<table><tr><th>&nbsp;</th><th>step type</th><th>requirements</th><th>statement</th></tr>\n",
       "<tr><td><a name=\"-0x3d8e27ede43fdf76_step0\">0</a></td><td>instantiation</td><td><a href=\"#-0x3d8e27ede43fdf76_step1\">1</a>, <a href=\"#-0x3d8e27ede43fdf76_step2\">2</a>, <a href=\"#-0x3d8e27ede43fdf76_step3\">3</a></td><td><span style=\"font-size:20px;\"><a class=\"ProveItLink\" href=\"../__pv_it/demonstrations/40dea47dac6e815379cffa1226f20b6dc1a41c610/expr.ipynb\"><img src=\"data:image/png;base64,iVBORw0KGgoAAAANSUhEUgAAADAAAAAOBAMAAACbXIJpAAAAMFBMVEX////MzMyYmJjc3NyIiIhU\n",
       "VFR2dna6urqqqqpmZmYyMjIiIiIQEBBERETu7u4AAACIO4EmAAAAAXRSTlMAQObYZgAAAJVJREFU\n",
       "GNNj4LuzgQE74JqAQ4K/AYdE/QMcEtk4xBmWusxAF7LM9HnAwPfrwXsDICdrFQisBImzH2ZYz8DA\n",
       "8Y+B3wFVwxsFhrkMDJwLGN4noErMf8CwBeyNejQHn2Xg+wj0hgJIBcyOpUAW3zcGjg9AiQK+Q6ga\n",
       "+H4wsC5oZmBV4EUPkysM2gEJDHxTktC98dRFOKQAAF7kLE3dFJTRAAAAAElFTkSuQmCC\n",
       "\" style=\"display:inline;vertical-align:middle;\" /></a>, <a class=\"ProveItLink\" href=\"../__pv_it/demonstrations/07032128a38a8a5c44e07e81dc11c1ce8c7067840/expr.ipynb\"><img src=\"data:image/png;base64,iVBORw0KGgoAAAANSUhEUgAAABgAAAAJBAMAAADa0/H1AAAAMFBMVEX///+qqqpERESYmJgyMjK6\n",
       "urru7u4QEBCIiIjMzMxUVFTc3Nx2dnYiIiJmZmYAAAA3+v/5AAAAAXRSTlMAQObYZgAAAE5JREFU\n",
       "CNdjYICCfefaE2Bs1moGfwaGt3eB4A5DugHDI6j4Lob3CQw34JwiBrafMA7bHwbGD3DORwYuB2kI\n",
       "h5NBg8F2wQGY0Vkds1cEAACuqhgbjxth7gAAAABJRU5ErkJggg==\n",
       "\" style=\"display:inline;vertical-align:middle;\" /></a> <a class=\"ProveItLink\" href=\"../__pv_it/demonstrations/0af092bdb41a29aae5ea785eafdecb4af8d857320/proof.ipynb\" style=\"text-decoration: none\">&nbsp;&#x22A2;&nbsp;&nbsp;</a><a class=\"ProveItLink\" href=\"../__pv_it/demonstrations/d67d90c8a514d919ff3aa88dfda37a096740eb3e0/expr.ipynb\"><img src=\"data:image/png;base64,iVBORw0KGgoAAAANSUhEUgAAADQAAAAOBAMAAACStyITAAAAMFBMVEX////MzMyYmJjc3NyIiIhU\n",
       "VFR2dna6urqqqqpmZmYyMjIiIiIQEBBERETu7u4AAACIO4EmAAAAAXRSTlMAQObYZgAAAHBJREFU\n",
       "GNNj4LuzgQETSIBJrglYpFrAJH8DTqn6BzilshlwSi11mYFDiu/Xg/cGQDprFQisRJbi+MfA74Bd\n",
       "F+cChvcJ2KWA3qpvwC7Fr8Aw/wHcrqUoUgV8h3C4kFWBdwIux09JQhefvXv3md27twIA10Um1Xfy\n",
       "AHEAAAAASUVORK5CYII=\n",
       "\" style=\"display:inline;vertical-align:middle;\" /></a></span></td></tr>\n",
       "<tr><td>&nbsp;</td><td colspan=4 style=\"text-align:left\"><span style=\"font-size:20px;\"><a class=\"ProveItLink\" href=\"../../../__pv_it/common/a2581dc5df71d9a30bad37de14965fa5fec97a240/expr.ipynb\"><img src=\"data:image/png;base64,iVBORw0KGgoAAAANSUhEUgAAAAsAAAAJBAMAAAAWSsseAAAALVBMVEX///9mZmaqqqrMzMxEREQy\n",
       "MjIiIiKYmJh2dna6urrc3NxUVFSIiIju7u4AAACJHQtQAAAAAXRSTlMAQObYZgAAAEJJREFUCNdj\n",
       "YLhzeuWJAwy8Dew5bAEMHBc43nIuYOBlYHFgAAG+A2DKzgBIMF04x8BzgWGegh/DcgaG22fuiBcw\n",
       "AAATyhBrnyPYZQAAAABJRU5ErkJggg==\n",
       "\" style=\"display:inline;vertical-align:middle;\" /></a> : <a class=\"ProveItLink\" href=\"../../../__pv_it/common/4a5db8cc5c67969ec864bd3ea598be37cb6f5e550/expr.ipynb\"><img src=\"data:image/png;base64,iVBORw0KGgoAAAANSUhEUgAAAAkAAAAOBAMAAAAPuiubAAAALVBMVEX///+YmJjc3NyIiIhUVFR2\n",
       "dna6urqqqqpmZmYyMjIiIiIQEBBERETu7u4AAAALjtrwAAAAAXRSTlMAQObYZgAAAE9JREFUCNdj\n",
       "4D29gAEIOBtAJF8BiMy7ACKjQATDFON2BgbelxfuKTCwv2XgM2DgmMBwLwCkPK+AgU+Aoe8CA18C\n",
       "70YGBhYBHqARvM2BDAwAqXgQspq5HJAAAAAASUVORK5CYII=\n",
       "\" style=\"display:inline;vertical-align:middle;\" /></a>, <a class=\"ProveItLink\" href=\"../../../__pv_it/common/0f21cbfd5644a1cae6781c1d58354abc2ffbc9000/expr.ipynb\"><img src=\"data:image/png;base64,iVBORw0KGgoAAAANSUhEUgAAAAsAAAANBAMAAACN24kIAAAAMFBMVEX///8iIiKYmJhUVFTMzMxE\n",
       "REQyMjKqqqq6urp2dnYQEBDc3NxmZmaIiIju7u4AAACH5sGpAAAAAXRSTlMAQObYZgAAAFlJREFU\n",
       "CNdj4LtzgWHXAwZOjgUM9xkYtvMkMIQyMDzgusDwl4GBof8ByxcgdYyBdwGQCmZgNQBShxn6FYDU\n",
       "47vnNzAwgGUZGJgT+H4AKUYF1gtAiuPuESAJAJGkFvXVdzA+AAAAAElFTkSuQmCC\n",
       "\" style=\"display:inline;vertical-align:middle;\" /></a> : <a class=\"ProveItLink\" href=\"../../../__pv_it/common/66c90e66682f107a881f2d666959f64e2e72ad750/expr.ipynb\"><img src=\"data:image/png;base64,iVBORw0KGgoAAAANSUhEUgAAAAsAAAAJBAMAAAAWSsseAAAAMFBMVEX///9UVFSqqqrMzMwiIiJE\n",
       "RESYmJgyMjK6urru7u4QEBCIiIh2dnZmZmbc3NwAAABRgo0vAAAAAXRSTlMAQObYZgAAAEdJREFU\n",
       "CNdjYOC7c3slAwND1wP2DwwMnMsYeAMYGHh/MrBsYGDgCmCYb8DAMP8Agz5QxXwFBnGmBwysG9gc\n",
       "eYAqpTc/3MEAAP4BD32xAXDqAAAAAElFTkSuQmCC\n",
       "\" style=\"display:inline;vertical-align:middle;\" /></a>, <a class=\"ProveItLink\" href=\"../../../__pv_it/common/fab62f2bacea351a074e2d41fad4d8b09cef5e740/expr.ipynb\"><img src=\"data:image/png;base64,iVBORw0KGgoAAAANSUhEUgAAAAoAAAAJBAMAAAD5iKAgAAAAMFBMVEX///8yMjJ2dnaqqqpUVFTc\n",
       "3NxmZmaIiIhERETu7u6YmJjMzMwQEBAiIiK6uroAAABWQA0ZAAAAAXRSTlMAQObYZgAAADZJREFU\n",
       "CNdjYOC782AXA8OM5WkNDAwTGCIYgIC7E0Q+ARHMDiDSjIHBgYH7llbhAwY2hjVyDABOxArzLvBK\n",
       "ugAAAABJRU5ErkJggg==\n",
       "\" style=\"display:inline;vertical-align:middle;\" /></a> : <a class=\"ProveItLink\" href=\"../../booleans/__pv_it/common/bc5c31e39ae582b67c89fb24025b57f5b995e8890/expr.ipynb\"><img src=\"data:image/png;base64,iVBORw0KGgoAAAANSUhEUgAAAA4AAAAOBAMAAADtZjDiAAAAG1BMVEX///9UVFQQEBAiIiJmZmaI\n",
       "iIiqqqrMzMwAAADC2JlRAAAAAXRSTlMAQObYZgAAABlJREFUCNdjYGBgKGOAgFRa0s7GxkrGxoYA\n",
       "QSUGlQeagkgAAAAASUVORK5CYII=\n",
       "\" style=\"display:inline;vertical-align:middle;\" /></a></span></td></tr><tr><td><a name=\"-0x3d8e27ede43fdf76_step1\">1</a></td><td>axiom</td><td></td><td><span style=\"font-size:20px;\"> <a class=\"ProveItLink\" href=\"axioms.ipynb#equals_transitivity\" style=\"text-decoration: none\">&nbsp;&#x22A2;&nbsp;&nbsp;</a><a class=\"ProveItLink\" href=\"../__pv_it/axioms/fe5ecb4839370106d7aa598ff8e51b95c71757a70/expr.ipynb\"><img src=\"data:image/png;base64,iVBORw0KGgoAAAANSUhEUgAAANEAAAAWBAMAAACs+WTQAAAAMFBMVEX///8QEBCIiIhmZma6urrM\n",
       "zMxUVFQiIiJERETc3Nzu7u6qqqp2dnaYmJgyMjIAAAAcRTyBAAAAAXRSTlMAQObYZgAAAnJJREFU\n",
       "SMetVU1oE0EU/prsTzfZJB4UBEGCgVKCh1wEQQ+hgkXwZ+NBxYsl2INQJYd6UKTkmBYiudQWQVyh\n",
       "KK0eAoKgUFhyTKUGFVSIsKB4KFSCIPhz8c3sZrOu2djAPFi+mfeY+d6+980MIM7uhYee02ezwUcR\n",
       "RLFyeEypARtssCWCKVkbkAX90DKhVhbB9GZQsEGZmIBeF8F0Y1DwAZBorq0tiSDSSgNLmwd+VCq3\n",
       "RDBFctSOA1cmGsHA5G65BZ2i08B8yGJpGKbRFvAE79JzbLL5ldknLoZq5jCVjiRxjAuj/+JhmFRq\n",
       "dhOvzBNB2XHBxam2KiItEUwj1AkTlT6RCyQ6uUPCa6kQxQR869ODKThMmn2O6f3QmEHOMaiUAJa2\n",
       "FntMeubstLtoYgo3e8AVN7dq9KoH+bszcfr0hY+fcTqmzPnLJBzzmko56SmzwPxH2ukeU1axZ5UK\n",
       "WRXWL3kXeRi4nuh6w6eIF5EOsoFfiuegOIrAU6KTsc28dycxzsOPfdUzkt0+aiulSNkDt+HdU086\n",
       "ln6PdrRg08+3X38GohYNUzz/n9x9FEW+PO/vU8q70KKWku4BtxWvHSXEitnMP5d1LrGfdkuyGidM\n",
       "3jGZuWexh8EiLvqYLsFQWNm3oeZH2AoGrkczZHMnt9Gj7uC+butYNnFd6hBoM+tlj0nrbMLqnhnj\n",
       "DLQFDq7d2Xi/0xvWsYdvG00U6jg+bhMk5L2mxxS7evJgN22peBvyPg6utQoL3pn4z6vht3qsxhRU\n",
       "Dz1Pq6iSmBwY6iUMZBGvKdZpBqFMM5LNXmoOQ73uH/6eJiC1LQahTKdesoI5INSiIjf7A4jqrxun\n",
       "Ivq8AAAAAElFTkSuQmCC\n",
       "\" style=\"display:inline;vertical-align:middle;\" /></a></span></td></tr>\n",
       "<tr><td>&nbsp;</td><td colspan=4 style-\"text-align:left\"><a class=\"ProveItLink\" href=\"axioms.ipynb#equals_transitivity\">proveit.logic.equality.equals_transitivity</a></td></tr><tr><td><a name=\"-0x3d8e27ede43fdf76_step2\">2</a></td><td>assumption</td><td></td><td><span style=\"font-size:20px;\"><a class=\"ProveItLink\" href=\"../__pv_it/demonstrations/40dea47dac6e815379cffa1226f20b6dc1a41c610/expr.ipynb\"><img src=\"data:image/png;base64,iVBORw0KGgoAAAANSUhEUgAAADAAAAAOBAMAAACbXIJpAAAAMFBMVEX////MzMyYmJjc3NyIiIhU\n",
       "VFR2dna6urqqqqpmZmYyMjIiIiIQEBBERETu7u4AAACIO4EmAAAAAXRSTlMAQObYZgAAAJVJREFU\n",
       "GNNj4LuzgQE74JqAQ4K/AYdE/QMcEtk4xBmWusxAF7LM9HnAwPfrwXsDICdrFQisBImzH2ZYz8DA\n",
       "8Y+B3wFVwxsFhrkMDJwLGN4noErMf8CwBeyNejQHn2Xg+wj0hgJIBcyOpUAW3zcGjg9AiQK+Q6ga\n",
       "+H4wsC5oZmBV4EUPkysM2gEJDHxTktC98dRFOKQAAF7kLE3dFJTRAAAAAElFTkSuQmCC\n",
       "\" style=\"display:inline;vertical-align:middle;\" /></a> <a class=\"ProveItLink\" href=\"../__pv_it/demonstrations/f70bf8ca804e147338ebe704fd1db9d95061ab8c0/proof.ipynb\" style=\"text-decoration: none\">&nbsp;&#x22A2;&nbsp;&nbsp;</a><a class=\"ProveItLink\" href=\"../__pv_it/demonstrations/40dea47dac6e815379cffa1226f20b6dc1a41c610/expr.ipynb\"><img src=\"data:image/png;base64,iVBORw0KGgoAAAANSUhEUgAAADAAAAAOBAMAAACbXIJpAAAAMFBMVEX////MzMyYmJjc3NyIiIhU\n",
       "VFR2dna6urqqqqpmZmYyMjIiIiIQEBBERETu7u4AAACIO4EmAAAAAXRSTlMAQObYZgAAAJVJREFU\n",
       "GNNj4LuzgQE74JqAQ4K/AYdE/QMcEtk4xBmWusxAF7LM9HnAwPfrwXsDICdrFQisBImzH2ZYz8DA\n",
       "8Y+B3wFVwxsFhrkMDJwLGN4noErMf8CwBeyNejQHn2Xg+wj0hgJIBcyOpUAW3zcGjg9AiQK+Q6ga\n",
       "+H4wsC5oZmBV4EUPkysM2gEJDHxTktC98dRFOKQAAF7kLE3dFJTRAAAAAElFTkSuQmCC\n",
       "\" style=\"display:inline;vertical-align:middle;\" /></a></span></td></tr>\n",
       "<tr><td><a name=\"-0x3d8e27ede43fdf76_step3\">3</a></td><td>instantiation</td><td><a href=\"#-0x3d8e27ede43fdf76_step4\">4</a>, <a href=\"#-0x3d8e27ede43fdf76_step5\">5</a></td><td><span style=\"font-size:20px;\"><a class=\"ProveItLink\" href=\"../__pv_it/demonstrations/07032128a38a8a5c44e07e81dc11c1ce8c7067840/expr.ipynb\"><img src=\"data:image/png;base64,iVBORw0KGgoAAAANSUhEUgAAABgAAAAJBAMAAADa0/H1AAAAMFBMVEX///+qqqpERESYmJgyMjK6\n",
       "urru7u4QEBCIiIjMzMxUVFTc3Nx2dnYiIiJmZmYAAAA3+v/5AAAAAXRSTlMAQObYZgAAAE5JREFU\n",
       "CNdjYICCfefaE2Bs1moGfwaGt3eB4A5DugHDI6j4Lob3CQw34JwiBrafMA7bHwbGD3DORwYuB2kI\n",
       "h5NBg8F2wQGY0Vkds1cEAACuqhgbjxth7gAAAABJRU5ErkJggg==\n",
       "\" style=\"display:inline;vertical-align:middle;\" /></a> <a class=\"ProveItLink\" href=\"../__pv_it/demonstrations/06e6662715b90092f3ac70db781a42423b90a4930/proof.ipynb\" style=\"text-decoration: none\">&nbsp;&#x22A2;&nbsp;&nbsp;</a><a class=\"ProveItLink\" href=\"../__pv_it/demonstrations/09d1409b7722d37c24506454d6eef9c5a1be93d20/expr.ipynb\"><img src=\"data:image/png;base64,iVBORw0KGgoAAAANSUhEUgAAADYAAAAOBAMAAACWQvIuAAAAMFBMVEX///9UVFSqqqrMzMwiIiJE\n",
       "RESYmJgyMjK6urru7u4QEBCIiIh2dnZmZmbc3NwAAABRgo0vAAAAAXRSTlMAQObYZgAAAGNJREFU\n",
       "GNNjYMAOjBhwA22ayfHdub0Sl1zXA/YPIPp4OQjUIstxLmPgDcChj/cnA8sGHHJcAQzzDXDIzT/A\n",
       "oM+AsK8QRU6BQZzpAXZ9rBvYHHlwmMkpvfnhDjSJKy4uq1xcHAG3Xxuk5NsGEAAAAABJRU5ErkJg\n",
       "gg==\n",
       "\" style=\"display:inline;vertical-align:middle;\" /></a></span></td></tr>\n",
       "<tr><td>&nbsp;</td><td colspan=4 style=\"text-align:left\"><span style=\"font-size:20px;\"><a class=\"ProveItLink\" href=\"../../../__pv_it/common/e4aad701f7f5516d8e7f0d805d518bf02c13322a0/expr.ipynb\"><img src=\"data:image/png;base64,iVBORw0KGgoAAAANSUhEUgAAAA8AAAAOBAMAAAACpFvcAAAALVBMVEX///8iIiIQEBBERERUVFS6\n",
       "urqIiIjc3NxmZmaqqqru7u6YmJgyMjLMzMwAAACK9jtgAAAAAXRSTlMAQObYZgAAAFtJREFUCNdj\n",
       "YACBOwxQcA5Kc59bAGGs7CuAMDbkBYBp1gXzNoAZSxnuJYAZAQx1DSCa16PDzwCshIGB6QCIMYGB\n",
       "gVEBSLMDGTwPgIxCIGZ+zsCw+N0pBk67hw0AfpEVEQi8t+wAAAAASUVORK5CYII=\n",
       "\" style=\"display:inline;vertical-align:middle;\" /></a> : <a class=\"ProveItLink\" href=\"../../../__pv_it/common/66c90e66682f107a881f2d666959f64e2e72ad750/expr.ipynb\"><img src=\"data:image/png;base64,iVBORw0KGgoAAAANSUhEUgAAAAsAAAAJBAMAAAAWSsseAAAAMFBMVEX///9UVFSqqqrMzMwiIiJE\n",
       "RESYmJgyMjK6urru7u4QEBCIiIh2dnZmZmbc3NwAAABRgo0vAAAAAXRSTlMAQObYZgAAAEdJREFU\n",
       "CNdjYOC7c3slAwND1wP2DwwMnMsYeAMYGHh/MrBsYGDgCmCYb8DAMP8Agz5QxXwFBnGmBwysG9gc\n",
       "eYAqpTc/3MEAAP4BD32xAXDqAAAAAElFTkSuQmCC\n",
       "\" style=\"display:inline;vertical-align:middle;\" /></a></span></td></tr><tr><td><a name=\"-0x3d8e27ede43fdf76_step4\">4</a></td><td>axiom</td><td></td><td><span style=\"font-size:20px;\"> <a class=\"ProveItLink\" href=\"../../booleans/negation/_theory_nbs_/axioms.ipynb#negation_elim\" style=\"text-decoration: none\">&nbsp;&#x22A2;&nbsp;&nbsp;</a><a class=\"ProveItLink\" href=\"../../booleans/negation/__pv_it/axioms/8b230bef1238f6f2a4e697102186a20733df080f0/expr.ipynb\"><img src=\"data:image/png;base64,iVBORw0KGgoAAAANSUhEUgAAAJcAAAAWBAMAAAA/XRM3AAAAMFBMVEX///8QEBCIiIhmZma6urrM\n",
       "zMxUVFQiIiJERETc3Nzu7u6qqqp2dnaYmJgyMjIAAAAcRTyBAAAAAXRSTlMAQObYZgAAAbRJREFU\n",
       "OMtjYCAWcF7AL78TiB+AGHeJMGwFhIrDIhUNItgmMDCcBjFeEWHYSwj1HovUJhDBBXTWDJAPGgib\n",
       "xWsAod4vwGEYwyEGBj6gJM8GwoaxTwBTq+0n4DJsIdCqU6tWTSfCl1A1F/QdcBnGB5T50dFRQ4Rh\n",
       "ymCSZcH+C7gM4wEGRCoDQyeYAyFZUNV1whi9YHIJQ7wCiD73DgQeoxjGC4wBZ3A8ANlfwEIcqMH+\n",
       "BcaqBpMODPMNcLmMuwAYsgxMYJcv/ovFMKggEIiACNZk4/wGXIaxfgB69QI7mH2qGIthUEGYYcAw\n",
       "YHyAzzDOB2FgpkIHpmEwQZg3gUmIXQARZs9QDGMpAIVxCjg3MJhjGgYThEYAJ9Awvg+4XAaKAIbN\n",
       "IBMZbjPoIxl2oqOj4wFCEAgOQ9Max09chjEfABL8oMjmenymfwGqyxIQgkDgDszq/18xcPd/R4tO\n",
       "8/JywfLyMqCbA0DOA6lnXsAwPwDdMLggIjvhAcvhLF+gCy+gGwYXRGR0POAQjMHxg4GzvxbVsAkI\n",
       "QZS8gANwYUkzHAQKR5yAYwIJhhEqtm8ykGAYOYCZAr0AOed5gytoZ+0AAAAASUVORK5CYII=\n",
       "\" style=\"display:inline;vertical-align:middle;\" /></a></span></td></tr>\n",
       "<tr><td>&nbsp;</td><td colspan=4 style-\"text-align:left\"><a class=\"ProveItLink\" href=\"../../booleans/negation/_theory_nbs_/axioms.ipynb#negation_elim\">proveit.logic.booleans.negation.negation_elim</a></td></tr><tr><td><a name=\"-0x3d8e27ede43fdf76_step5\">5</a></td><td>assumption</td><td></td><td><span style=\"font-size:20px;\"><a class=\"ProveItLink\" href=\"../__pv_it/demonstrations/07032128a38a8a5c44e07e81dc11c1ce8c7067840/expr.ipynb\"><img src=\"data:image/png;base64,iVBORw0KGgoAAAANSUhEUgAAABgAAAAJBAMAAADa0/H1AAAAMFBMVEX///+qqqpERESYmJgyMjK6\n",
       "urru7u4QEBCIiIjMzMxUVFTc3Nx2dnYiIiJmZmYAAAA3+v/5AAAAAXRSTlMAQObYZgAAAE5JREFU\n",
       "CNdjYICCfefaE2Bs1moGfwaGt3eB4A5DugHDI6j4Lob3CQw34JwiBrafMA7bHwbGD3DORwYuB2kI\n",
       "h5NBg8F2wQGY0Vkds1cEAACuqhgbjxth7gAAAABJRU5ErkJggg==\n",
       "\" style=\"display:inline;vertical-align:middle;\" /></a> <a class=\"ProveItLink\" href=\"../__pv_it/demonstrations/35a26796e98c21c450021bc6a7ac7c3995194a0c0/proof.ipynb\" style=\"text-decoration: none\">&nbsp;&#x22A2;&nbsp;&nbsp;</a><a class=\"ProveItLink\" href=\"../__pv_it/demonstrations/07032128a38a8a5c44e07e81dc11c1ce8c7067840/expr.ipynb\"><img src=\"data:image/png;base64,iVBORw0KGgoAAAANSUhEUgAAABgAAAAJBAMAAADa0/H1AAAAMFBMVEX///+qqqpERESYmJgyMjK6\n",
       "urru7u4QEBCIiIjMzMxUVFTc3Nx2dnYiIiJmZmYAAAA3+v/5AAAAAXRSTlMAQObYZgAAAE5JREFU\n",
       "CNdjYICCfefaE2Bs1moGfwaGt3eB4A5DugHDI6j4Lob3CQw34JwiBrafMA7bHwbGD3DORwYuB2kI\n",
       "h5NBg8F2wQGY0Vkds1cEAACuqhgbjxth7gAAAABJRU5ErkJggg==\n",
       "\" style=\"display:inline;vertical-align:middle;\" /></a></span></td></tr>\n",
       "</table>"
      ],
      "text/plain": [
       "\tstep type\trequirements\tstatement\n",
       "0\tinstantiation\t1, 2, 3\t{b = a, not(a)} |- b = FALSE\n",
       "\tx : b, y : a, z : FALSE\n",
       "1\taxiom\t\t|- forall_{x, y, z | x = y, y = z} (x = z)\n",
       "\tproveit.logic.equality.equals_transitivity\n",
       "2\tassumption\t\t{b = a} |- b = a\n",
       "3\tinstantiation\t4, 5\t{not(a)} |- a = FALSE\n",
       "\tA : a\n",
       "4\taxiom\t\t|- forall_{A | not(A)} (A = FALSE)\n",
       "\tproveit.logic.booleans.negation.negation_elim\n",
       "5\tassumption\t\t{not(a)} |- not(a)"
      ]
     },
     "execution_count": 48,
     "metadata": {},
     "output_type": "execute_result"
    }
   ],
   "source": [
    "b_eq_F.proof()"
   ]
  },
  {
   "cell_type": "markdown",
   "metadata": {},
   "source": [
    "When evaluating an expression, an evaluation of the operands will be attempted.  The operation class is responsible for overridding the `evaluation` method, or `do_reduced_evaluation` (called by the default `Expression.evaluation` method that first reduces the operation by evaluating its operands) in order to properly treat the operation applied to irreducible values or generate a more efficient proof as appropriate."
   ]
  },
  {
   "cell_type": "code",
   "execution_count": 49,
   "metadata": {},
   "outputs": [],
   "source": [
    "from proveit.logic import Or, Not, in_bool"
   ]
  },
  {
   "cell_type": "code",
   "execution_count": 50,
   "metadata": {},
   "outputs": [
    {
     "data": {
      "text/html": [
       "<strong id=\"nested_eval\">nested_eval:</strong> <span style=\"font-size:20px;\"><a class=\"ProveItLink\" href=\"../../../__pv_it/common/66c90e66682f107a881f2d666959f64e2e72ad750/expr.ipynb\"><img src=\"data:image/png;base64,iVBORw0KGgoAAAANSUhEUgAAAAsAAAAJBAMAAAAWSsseAAAAMFBMVEX///9UVFSqqqrMzMwiIiJE\n",
       "RESYmJgyMjK6urru7u4QEBCIiIh2dnZmZmbc3NwAAABRgo0vAAAAAXRSTlMAQObYZgAAAEdJREFU\n",
       "CNdjYOC7c3slAwND1wP2DwwMnMsYeAMYGHh/MrBsYGDgCmCYb8DAMP8Agz5QxXwFBnGmBwysG9gc\n",
       "eYAqpTc/3MEAAP4BD32xAXDqAAAAAElFTkSuQmCC\n",
       "\" style=\"display:inline;vertical-align:middle;\" /></a> <a class=\"ProveItLink\" href=\"../__pv_it/demonstrations/78db48d43e0387f162a8f0de4803951612a97e6e0/proof.ipynb\" style=\"text-decoration: none\">&nbsp;&#x22A2;&nbsp;&nbsp;</a><a class=\"ProveItLink\" href=\"../__pv_it/demonstrations/6434261fcd0c8176eebbf8cfc128a3dff2e2c0fa0/expr.ipynb\"><img src=\"data:image/png;base64,iVBORw0KGgoAAAANSUhEUgAAAIQAAAAUBAMAAAC+DIjXAAAAMFBMVEX///9UVFTMzMx2dna6uroQ\n",
       "EBCqqqqIiIgiIiJmZmYyMjJERETu7u6YmJjc3NwAAAC+aOQFAAAAAXRSTlMAQObYZgAAAXRJREFU\n",
       "OMtjYOC7wIAJ0ATzoBgHOE2EIOMDCEYFMzpAoJGBYR1ciAlMKoCIdaiKeRZAMAZIBxG8ExB2gXTz\n",
       "FqAKQoA5FGM1ggPhPiYBEP8AqiAEHIVirEa8QBIAOd8TXRAMuBwgGKsRlaDwnzw9BsTOBOJ9MEFY\n",
       "3IDlmCdAMFYj9gKx6wOuD2BPAT2zASYIBRA53gUQzMBgtQoEViIb0QYM61gGTrBO9gIGRgeoICc4\n",
       "xgygcmwNEIzVFSFA1X8YOArAcdfAcIoBKgjxhQBUjukDBOMygnUDw3lwamCYxmCGZgRUDq8RQDef\n",
       "N2DIh4i8YoA4tg1uBFSOpQGCYWGxEC04zycwSLGBUwK3LthD8OAEGgGRQwQnFldYAjUW8DYyQxKX\n",
       "xAEGqCAEKEDlOA0gGKsRHsBQFC96WAIRgkaWByJ3QOS4FCAYHfgyYKTlNxAKI4GfgGKsgHcCMYK4\n",
       "shkE7CNCEGdmJ77I4X4AwTgAMQXfPSjGCgDXi28zgSfMDQAAAABJRU5ErkJggg==\n",
       "\" style=\"display:inline;vertical-align:middle;\" /></a></span><br>"
      ],
      "text/plain": [
       "nested_eval: {a} |- (a or not(a)) = TRUE"
      ]
     },
     "execution_count": 50,
     "metadata": {},
     "output_type": "execute_result"
    }
   ],
   "source": [
    "nested_eval = Or(a, Not(a)).evaluation([a])"
   ]
  },
  {
   "cell_type": "markdown",
   "metadata": {},
   "source": [
    "## Boolean equality\n",
    "\n",
    "Equality with `TRUE` ($\\top$) or `FALSE` ($\\bot$) has special logical consequences.  The `Equals` object has automation capabilities to treat these special kinds of equations."
   ]
  },
  {
   "cell_type": "code",
   "execution_count": 51,
   "metadata": {},
   "outputs": [
    {
     "data": {
      "text/html": [
       "<a class=\"ProveItLink\" href=\"../../booleans/__pv_it/common/373f61d65f7ccc0f6ebbafaccf02f2693d0e3bad0/expr.ipynb\"><img src=\"data:image/png;base64,iVBORw0KGgoAAAANSUhEUgAAAA4AAAAOBAMAAADtZjDiAAAAG1BMVEX///+YmJi6urqIiIiqqqpU\n",
       "VFQiIiJmZmYAAAD2GhH1AAAAAXRSTlMAQObYZgAAABhJREFUCNdjKEsDgVQGIHBmgABa0YpADADk\n",
       "ogYfXGfJdgAAAABJRU5ErkJggg==\n",
       "\" style=\"display:inline;vertical-align:middle;\" /></a>"
      ],
      "text/plain": [
       "TRUE"
      ]
     },
     "execution_count": 51,
     "metadata": {},
     "output_type": "execute_result"
    }
   ],
   "source": [
    "TRUE"
   ]
  },
  {
   "cell_type": "code",
   "execution_count": 52,
   "metadata": {},
   "outputs": [
    {
     "data": {
      "text/html": [
       "<a class=\"ProveItLink\" href=\"../../booleans/__pv_it/common/bc5c31e39ae582b67c89fb24025b57f5b995e8890/expr.ipynb\"><img src=\"data:image/png;base64,iVBORw0KGgoAAAANSUhEUgAAAA4AAAAOBAMAAADtZjDiAAAAG1BMVEX///9UVFQQEBAiIiJmZmaI\n",
       "iIiqqqrMzMwAAADC2JlRAAAAAXRSTlMAQObYZgAAABlJREFUCNdjYGBgKGOAgFRa0s7GxkrGxoYA\n",
       "QSUGlQeagkgAAAAASUVORK5CYII=\n",
       "\" style=\"display:inline;vertical-align:middle;\" /></a>"
      ],
      "text/plain": [
       "FALSE"
      ]
     },
     "execution_count": 52,
     "metadata": {},
     "output_type": "execute_result"
    }
   ],
   "source": [
    "FALSE"
   ]
  },
  {
   "cell_type": "markdown",
   "metadata": {},
   "source": [
    "Proofs via boolean equality are automatic via `Equals.deduce_side_effects`:"
   ]
  },
  {
   "cell_type": "code",
   "execution_count": 53,
   "metadata": {},
   "outputs": [
    {
     "data": {
      "text/html": [
       "<span style=\"font-size:20px;\"><a class=\"ProveItLink\" href=\"../__pv_it/demonstrations/8d8874450f9a13d60680df6b254882050ce0d3050/expr.ipynb\"><img src=\"data:image/png;base64,iVBORw0KGgoAAAANSUhEUgAAADYAAAAOBAMAAACWQvIuAAAAMFBMVEX///9UVFSqqqrMzMwiIiJE\n",
       "RESYmJgyMjK6urru7u4QEBCIiIh2dnZmZmbc3NwAAABRgo0vAAAAAXRSTlMAQObYZgAAAGVJREFU\n",
       "GNNjYMACrriAgCMDDqDNgBtQJsd35/ZKXHJdD9g/gOjj5SBQiyzHuYyBNwCHPt6fDCwbcMhxBTDM\n",
       "N8AhN/8Agz4Dwr5CFDkFBnGmB9j1sW5gc+TBYSan9OaHOzDl2oAYAN14G5LzAmKsAAAAAElFTkSu\n",
       "QmCC\n",
       "\" style=\"display:inline;vertical-align:middle;\" /></a> <a class=\"ProveItLink\" href=\"../__pv_it/demonstrations/c560bae1e6c15598653bf1d38cbbe0bbd0103cb30/proof.ipynb\" style=\"text-decoration: none\">&nbsp;&#x22A2;&nbsp;&nbsp;</a><a class=\"ProveItLink\" href=\"../../../__pv_it/common/66c90e66682f107a881f2d666959f64e2e72ad750/expr.ipynb\"><img src=\"data:image/png;base64,iVBORw0KGgoAAAANSUhEUgAAAAsAAAAJBAMAAAAWSsseAAAAMFBMVEX///9UVFSqqqrMzMwiIiJE\n",
       "RESYmJgyMjK6urru7u4QEBCIiIh2dnZmZmbc3NwAAABRgo0vAAAAAXRSTlMAQObYZgAAAEdJREFU\n",
       "CNdjYOC7c3slAwND1wP2DwwMnMsYeAMYGHh/MrBsYGDgCmCYb8DAMP8Agz5QxXwFBnGmBwysG9gc\n",
       "eYAqpTc/3MEAAP4BD32xAXDqAAAAAElFTkSuQmCC\n",
       "\" style=\"display:inline;vertical-align:middle;\" /></a></span>"
      ],
      "text/plain": [
       "{a = TRUE} |- a"
      ]
     },
     "execution_count": 53,
     "metadata": {},
     "output_type": "execute_result"
    }
   ],
   "source": [
    "a.prove([Equals(a, TRUE)])"
   ]
  },
  {
   "cell_type": "code",
   "execution_count": 54,
   "metadata": {},
   "outputs": [
    {
     "data": {
      "text/html": [
       "<span style=\"font-size:20px;\"><a class=\"ProveItLink\" href=\"../__pv_it/demonstrations/d67d90c8a514d919ff3aa88dfda37a096740eb3e0/expr.ipynb\"><img src=\"data:image/png;base64,iVBORw0KGgoAAAANSUhEUgAAADQAAAAOBAMAAACStyITAAAAMFBMVEX////MzMyYmJjc3NyIiIhU\n",
       "VFR2dna6urqqqqpmZmYyMjIiIiIQEBBERETu7u4AAACIO4EmAAAAAXRSTlMAQObYZgAAAHBJREFU\n",
       "GNNj4LuzgQETSIBJrglYpFrAJH8DTqn6BzilshlwSi11mYFDiu/Xg/cGQDprFQisRJbi+MfA74Bd\n",
       "F+cChvcJ2KWA3qpvwC7Fr8Aw/wHcrqUoUgV8h3C4kFWBdwIux09JQhefvXv3md27twIA10Um1Xfy\n",
       "AHEAAAAASUVORK5CYII=\n",
       "\" style=\"display:inline;vertical-align:middle;\" /></a> <a class=\"ProveItLink\" href=\"../__pv_it/demonstrations/279bb66b44b2ca0d2da6ab4a038d3b5db3fce4a20/proof.ipynb\" style=\"text-decoration: none\">&nbsp;&#x22A2;&nbsp;&nbsp;</a><a class=\"ProveItLink\" href=\"../__pv_it/demonstrations/652d8b06abbad5b48c4169c3bb0a8506f8a8a84d0/expr.ipynb\"><img src=\"data:image/png;base64,iVBORw0KGgoAAAANSUhEUgAAABYAAAAOBAMAAADZH/H+AAAAMFBMVEX///+YmJiIiIi6urqqqqoy\n",
       "MjIQEBBERETu7u7MzMxUVFTc3Nx2dnYiIiJmZmYAAAAkdzffAAAAAXRSTlMAQObYZgAAAFlJREFU\n",
       "CNdjYICA9lwGBIhDYn9BMJl/INg8FxBs1kV6DjB2fwTHb4a3d4HgDoN/A8MniOguhqcMHH9g7DgG\n",
       "5i8w9kcGvh8w9meGNgEIm5NhIUMd3Pw+HQEGAC4WGbM+budoAAAAAElFTkSuQmCC\n",
       "\" style=\"display:inline;vertical-align:middle;\" /></a></span>"
      ],
      "text/plain": [
       "{b = FALSE} |- not(b)"
      ]
     },
     "execution_count": 54,
     "metadata": {},
     "output_type": "execute_result"
    }
   ],
   "source": [
    "Not(b).prove([Equals(b, FALSE)])"
   ]
  },
  {
   "cell_type": "markdown",
   "metadata": {},
   "source": [
    "Going the other direction, boolean equalities are proven automatically via `Equals.conclude`:"
   ]
  },
  {
   "cell_type": "code",
   "execution_count": 55,
   "metadata": {},
   "outputs": [
    {
     "data": {
      "text/html": [
       "<span style=\"font-size:20px;\"><a class=\"ProveItLink\" href=\"../../../__pv_it/common/a2581dc5df71d9a30bad37de14965fa5fec97a240/expr.ipynb\"><img src=\"data:image/png;base64,iVBORw0KGgoAAAANSUhEUgAAAAsAAAAJBAMAAAAWSsseAAAALVBMVEX///9mZmaqqqrMzMxEREQy\n",
       "MjIiIiKYmJh2dna6urrc3NxUVFSIiIju7u4AAACJHQtQAAAAAXRSTlMAQObYZgAAAEJJREFUCNdj\n",
       "YLhzeuWJAwy8Dew5bAEMHBc43nIuYOBlYHFgAAG+A2DKzgBIMF04x8BzgWGegh/DcgaG22fuiBcw\n",
       "AAATyhBrnyPYZQAAAABJRU5ErkJggg==\n",
       "\" style=\"display:inline;vertical-align:middle;\" /></a> <a class=\"ProveItLink\" href=\"../__pv_it/demonstrations/2f975449b0128d6d5e0ac95dc817cee024862ae10/proof.ipynb\" style=\"text-decoration: none\">&nbsp;&#x22A2;&nbsp;&nbsp;</a><a class=\"ProveItLink\" href=\"../__pv_it/demonstrations/4e99b62f0ce05b636073686efd4fa1c4e903a4710/expr.ipynb\"><img src=\"data:image/png;base64,iVBORw0KGgoAAAANSUhEUgAAADYAAAAOBAMAAACWQvIuAAAALVBMVEX///9mZmaqqqrMzMxEREQy\n",
       "MjIiIiKYmJh2dna6urrc3NxUVFSIiIju7u4AAACJHQtQAAAAAXRSTlMAQObYZgAAAGRJREFUGNNj\n",
       "YMACxNJAIJsBB9BhwA0ok7tzeuWJA9jleBvYc9gCgIzWUBAIRJbjuMDxlnMBDn0MLA643cJ3ALec\n",
       "nQGYgtgXjSzHdOEcA88F7PrmKfgxLMdh5u0zd8QLMOWmAzEAHRUamS/npncAAAAASUVORK5CYII=\n",
       "\" style=\"display:inline;vertical-align:middle;\" /></a></span>"
      ],
      "text/plain": [
       "{x} |- x = TRUE"
      ]
     },
     "execution_count": 55,
     "metadata": {},
     "output_type": "execute_result"
    }
   ],
   "source": [
    "Equals(x, TRUE).prove([x])"
   ]
  },
  {
   "cell_type": "code",
   "execution_count": 56,
   "metadata": {},
   "outputs": [
    {
     "data": {
      "text/html": [
       "<span style=\"font-size:20px;\"><a class=\"ProveItLink\" href=\"../../../__pv_it/common/0f21cbfd5644a1cae6781c1d58354abc2ffbc9000/expr.ipynb\"><img src=\"data:image/png;base64,iVBORw0KGgoAAAANSUhEUgAAAAsAAAANBAMAAACN24kIAAAAMFBMVEX///8iIiKYmJhUVFTMzMxE\n",
       "REQyMjKqqqq6urp2dnYQEBDc3NxmZmaIiIju7u4AAACH5sGpAAAAAXRSTlMAQObYZgAAAFlJREFU\n",
       "CNdj4LtzgWHXAwZOjgUM9xkYtvMkMIQyMDzgusDwl4GBof8ByxcgdYyBdwGQCmZgNQBShxn6FYDU\n",
       "47vnNzAwgGUZGJgT+H4AKUYF1gtAiuPuESAJAJGkFvXVdzA+AAAAAElFTkSuQmCC\n",
       "\" style=\"display:inline;vertical-align:middle;\" /></a> <a class=\"ProveItLink\" href=\"../__pv_it/demonstrations/7089c472b21ea5e547e37c0eff20383e553dfc890/proof.ipynb\" style=\"text-decoration: none\">&nbsp;&#x22A2;&nbsp;&nbsp;</a><a class=\"ProveItLink\" href=\"../__pv_it/demonstrations/9a54b4f93d9364e926c2cae82bd7176bd17ca0000/expr.ipynb\"><img src=\"data:image/png;base64,iVBORw0KGgoAAAANSUhEUgAAADYAAAASBAMAAADiVjDOAAAAMFBMVEX////MzMxEREQQEBDc3Nzu\n",
       "7u4yMjJ2dnaYmJi6urqIiIiqqqpUVFQiIiJmZmYAAACpvsgbAAAAAXRSTlMAQObYZgAAAHhJREFU\n",
       "GNNjeHsXBO4w4AC7GHADOslFvWJgMUWWK0sDgTwQs2AyA9cH7PpYNjxjYFLALsfKYMXAvwCHfZxf\n",
       "GeQFMO3LATH5EhgW43In0wEGHVxyfAc4f4AZMzDlWE+t+4I7QIA24gDHGOIn4JK7waCF08RZ64C+\n",
       "AwCTsyc6BDOQ0wAAAABJRU5ErkJggg==\n",
       "\" style=\"display:inline;vertical-align:middle;\" /></a></span>"
      ],
      "text/plain": [
       "{y} |- TRUE = y"
      ]
     },
     "execution_count": 56,
     "metadata": {},
     "output_type": "execute_result"
    }
   ],
   "source": [
    "Equals(TRUE, y).prove([y])"
   ]
  },
  {
   "cell_type": "code",
   "execution_count": 57,
   "metadata": {},
   "outputs": [
    {
     "data": {
      "text/html": [
       "<span style=\"font-size:20px;\"><a class=\"ProveItLink\" href=\"../__pv_it/demonstrations/0b02eabc51022e59901b6de541718a20a6079a350/expr.ipynb\"><img src=\"data:image/png;base64,iVBORw0KGgoAAAANSUhEUgAAABYAAAAJBAMAAADEGsFGAAAALVBMVEX///+YmJgQEBDu7u4yMjJE\n",
       "RESqqqqIiIjMzMxUVFTc3Nx2dnYiIiJmZmYAAAA7VzDuAAAAAXRSTlMAQObYZgAAAENJREFUCNdj\n",
       "YIAC7vIKGJPrGEMIw50zQHCagWcDwzSI6EqGewYwFSsZVBngbObXCDbDQwYGNgibg+EmA/MNuPEb\n",
       "xRkAzdIQg7wWTYMAAAAASUVORK5CYII=\n",
       "\" style=\"display:inline;vertical-align:middle;\" /></a> <a class=\"ProveItLink\" href=\"../__pv_it/demonstrations/004bf483f63f19f310f8bfafdafe923b06e347120/proof.ipynb\" style=\"text-decoration: none\">&nbsp;&#x22A2;&nbsp;&nbsp;</a><a class=\"ProveItLink\" href=\"../__pv_it/demonstrations/49f8b9d16067590c78af804209c99e45481e8a7a0/expr.ipynb\"><img src=\"data:image/png;base64,iVBORw0KGgoAAAANSUhEUgAAADQAAAAOBAMAAACStyITAAAALVBMVEX///+YmJgQEBDu7u5mZmZU\n",
       "VFQyMjJERESqqqoiIiLc3NzMzMyIiIh2dnYAAABuqkWTAAAAAXRSTlMAQObYZgAAAFVJREFUGNNj\n",
       "YMAKdjDgBD00krpzZgMOqZUN7AlA6loaCKSgSM1lYG3ArovlMU67mApwStldgHAgdqUiS/EJMDDg\n",
       "siuAwQSX4+8KHkAT95w5U2nmzKkAkHUcE881YAQAAAAASUVORK5CYII=\n",
       "\" style=\"display:inline;vertical-align:middle;\" /></a></span>"
      ],
      "text/plain": [
       "{not(c)} |- c = FALSE"
      ]
     },
     "execution_count": 57,
     "metadata": {},
     "output_type": "execute_result"
    }
   ],
   "source": [
    "Equals(c, FALSE).prove([Not(c)])"
   ]
  },
  {
   "cell_type": "code",
   "execution_count": 58,
   "metadata": {},
   "outputs": [
    {
     "data": {
      "text/html": [
       "<span style=\"font-size:20px;\"><a class=\"ProveItLink\" href=\"../__pv_it/demonstrations/0b02eabc51022e59901b6de541718a20a6079a350/expr.ipynb\"><img src=\"data:image/png;base64,iVBORw0KGgoAAAANSUhEUgAAABYAAAAJBAMAAADEGsFGAAAALVBMVEX///+YmJgQEBDu7u4yMjJE\n",
       "RESqqqqIiIjMzMxUVFTc3Nx2dnYiIiJmZmYAAAA7VzDuAAAAAXRSTlMAQObYZgAAAENJREFUCNdj\n",
       "YIAC7vIKGJPrGEMIw50zQHCagWcDwzSI6EqGewYwFSsZVBngbObXCDbDQwYGNgibg+EmA/MNuPEb\n",
       "xRkAzdIQg7wWTYMAAAAASUVORK5CYII=\n",
       "\" style=\"display:inline;vertical-align:middle;\" /></a> <a class=\"ProveItLink\" href=\"../__pv_it/demonstrations/e048d8c4378539a3c66b9bd11913b433117c59170/proof.ipynb\" style=\"text-decoration: none\">&nbsp;&#x22A2;&nbsp;&nbsp;</a><a class=\"ProveItLink\" href=\"../__pv_it/demonstrations/82225c8cf42534551367da2930b04b6d81db07100/expr.ipynb\"><img src=\"data:image/png;base64,iVBORw0KGgoAAAANSUhEUgAAADQAAAAOBAMAAACStyITAAAALVBMVEX///+YmJju7u5ERETc3Nwy\n",
       "MjJ2dnZUVFQQEBAiIiJmZmaIiIiqqqrMzMwAAABkHnDYAAAAAXRSTlMAQObYZgAAAFVJREFUGNNj\n",
       "YGBguMOAE5weYCm23XuRpVJDQSAKxGSZw2CKQxdnAkMNDql1CjjtakZzBsSucCCL6RluFz5kYODB\n",
       "IbWcgWktw8qZMztmzpyO7q1EaQYAknYbkGxOYhAAAAAASUVORK5CYII=\n",
       "\" style=\"display:inline;vertical-align:middle;\" /></a></span>"
      ],
      "text/plain": [
       "{not(c)} |- FALSE = c"
      ]
     },
     "execution_count": 58,
     "metadata": {},
     "output_type": "execute_result"
    }
   ],
   "source": [
    "Equals(FALSE, c).prove([Not(c)])"
   ]
  },
  {
   "cell_type": "markdown",
   "metadata": {},
   "source": [
    "When something is equal to `FALSE` and known to be true, there is a contradiction.  That is, `FALSE` is a consequence.  The `derive_contradiction` method of `Equals` can be used to prove such a contradiction:"
   ]
  },
  {
   "cell_type": "code",
   "execution_count": 59,
   "metadata": {},
   "outputs": [
    {
     "data": {
      "text/html": [
       "<strong id=\"contradiction\">contradiction:</strong> <span style=\"font-size:20px;\"><a class=\"ProveItLink\" href=\"../../../__pv_it/common/66c90e66682f107a881f2d666959f64e2e72ad750/expr.ipynb\"><img src=\"data:image/png;base64,iVBORw0KGgoAAAANSUhEUgAAAAsAAAAJBAMAAAAWSsseAAAAMFBMVEX///9UVFSqqqrMzMwiIiJE\n",
       "RESYmJgyMjK6urru7u4QEBCIiIh2dnZmZmbc3NwAAABRgo0vAAAAAXRSTlMAQObYZgAAAEdJREFU\n",
       "CNdjYOC7c3slAwND1wP2DwwMnMsYeAMYGHh/MrBsYGDgCmCYb8DAMP8Agz5QxXwFBnGmBwysG9gc\n",
       "eYAqpTc/3MEAAP4BD32xAXDqAAAAAElFTkSuQmCC\n",
       "\" style=\"display:inline;vertical-align:middle;\" /></a>, <a class=\"ProveItLink\" href=\"../__pv_it/demonstrations/09d1409b7722d37c24506454d6eef9c5a1be93d20/expr.ipynb\"><img src=\"data:image/png;base64,iVBORw0KGgoAAAANSUhEUgAAADYAAAAOBAMAAACWQvIuAAAAMFBMVEX///9UVFSqqqrMzMwiIiJE\n",
       "RESYmJgyMjK6urru7u4QEBCIiIh2dnZmZmbc3NwAAABRgo0vAAAAAXRSTlMAQObYZgAAAGNJREFU\n",
       "GNNjYMAOjBhwA22ayfHdub0Sl1zXA/YPIPp4OQjUIstxLmPgDcChj/cnA8sGHHJcAQzzDXDIzT/A\n",
       "oM+AsK8QRU6BQZzpAXZ9rBvYHHlwmMkpvfnhDjSJKy4uq1xcHAG3Xxuk5NsGEAAAAABJRU5ErkJg\n",
       "gg==\n",
       "\" style=\"display:inline;vertical-align:middle;\" /></a> <a class=\"ProveItLink\" href=\"../__pv_it/demonstrations/13074685f83e55f19f6ce41034fffa86d0ef34840/proof.ipynb\" style=\"text-decoration: none\">&nbsp;&#x22A2;&nbsp;&nbsp;</a><a class=\"ProveItLink\" href=\"../../booleans/__pv_it/common/bc5c31e39ae582b67c89fb24025b57f5b995e8890/expr.ipynb\"><img src=\"data:image/png;base64,iVBORw0KGgoAAAANSUhEUgAAAA4AAAAOBAMAAADtZjDiAAAAG1BMVEX///9UVFQQEBAiIiJmZmaI\n",
       "iIiqqqrMzMwAAADC2JlRAAAAAXRSTlMAQObYZgAAABlJREFUCNdjYGBgKGOAgFRa0s7GxkrGxoYA\n",
       "QSUGlQeagkgAAAAASUVORK5CYII=\n",
       "\" style=\"display:inline;vertical-align:middle;\" /></a></span><br>"
      ],
      "text/plain": [
       "contradiction: {a, a = FALSE} |- FALSE"
      ]
     },
     "execution_count": 59,
     "metadata": {},
     "output_type": "execute_result"
    }
   ],
   "source": [
    "contradiction = Equals(a, FALSE).derive_contradiction([a, Equals(a, FALSE)])"
   ]
  },
  {
   "cell_type": "code",
   "execution_count": 60,
   "metadata": {},
   "outputs": [
    {
     "data": {
      "text/html": [
       "<table><tr><th>&nbsp;</th><th>step type</th><th>requirements</th><th>statement</th></tr>\n",
       "<tr><td><a name=\"0x5eed1fc319fc5ebb_step0\">0</a></td><td>instantiation</td><td><a href=\"#0x5eed1fc319fc5ebb_step1\">1</a>, <a href=\"#0x5eed1fc319fc5ebb_step2\">2</a>, <a href=\"#0x5eed1fc319fc5ebb_step3\">3</a></td><td><span style=\"font-size:20px;\"><a class=\"ProveItLink\" href=\"../../../__pv_it/common/66c90e66682f107a881f2d666959f64e2e72ad750/expr.ipynb\"><img src=\"data:image/png;base64,iVBORw0KGgoAAAANSUhEUgAAAAsAAAAJBAMAAAAWSsseAAAAMFBMVEX///9UVFSqqqrMzMwiIiJE\n",
       "RESYmJgyMjK6urru7u4QEBCIiIh2dnZmZmbc3NwAAABRgo0vAAAAAXRSTlMAQObYZgAAAEdJREFU\n",
       "CNdjYOC7c3slAwND1wP2DwwMnMsYeAMYGHh/MrBsYGDgCmCYb8DAMP8Agz5QxXwFBnGmBwysG9gc\n",
       "eYAqpTc/3MEAAP4BD32xAXDqAAAAAElFTkSuQmCC\n",
       "\" style=\"display:inline;vertical-align:middle;\" /></a>, <a class=\"ProveItLink\" href=\"../__pv_it/demonstrations/09d1409b7722d37c24506454d6eef9c5a1be93d20/expr.ipynb\"><img src=\"data:image/png;base64,iVBORw0KGgoAAAANSUhEUgAAADYAAAAOBAMAAACWQvIuAAAAMFBMVEX///9UVFSqqqrMzMwiIiJE\n",
       "RESYmJgyMjK6urru7u4QEBCIiIh2dnZmZmbc3NwAAABRgo0vAAAAAXRSTlMAQObYZgAAAGNJREFU\n",
       "GNNjYMAOjBhwA22ayfHdub0Sl1zXA/YPIPp4OQjUIstxLmPgDcChj/cnA8sGHHJcAQzzDXDIzT/A\n",
       "oM+AsK8QRU6BQZzpAXZ9rBvYHHlwmMkpvfnhDjSJKy4uq1xcHAG3Xxuk5NsGEAAAAABJRU5ErkJg\n",
       "gg==\n",
       "\" style=\"display:inline;vertical-align:middle;\" /></a> <a class=\"ProveItLink\" href=\"../__pv_it/demonstrations/13074685f83e55f19f6ce41034fffa86d0ef34840/proof.ipynb\" style=\"text-decoration: none\">&nbsp;&#x22A2;&nbsp;&nbsp;</a><a class=\"ProveItLink\" href=\"../../booleans/__pv_it/common/bc5c31e39ae582b67c89fb24025b57f5b995e8890/expr.ipynb\"><img src=\"data:image/png;base64,iVBORw0KGgoAAAANSUhEUgAAAA4AAAAOBAMAAADtZjDiAAAAG1BMVEX///9UVFQQEBAiIiJmZmaI\n",
       "iIiqqqrMzMwAAADC2JlRAAAAAXRSTlMAQObYZgAAABlJREFUCNdjYGBgKGOAgFRa0s7GxkrGxoYA\n",
       "QSUGlQeagkgAAAAASUVORK5CYII=\n",
       "\" style=\"display:inline;vertical-align:middle;\" /></a></span></td></tr>\n",
       "<tr><td>&nbsp;</td><td colspan=4 style=\"text-align:left\"><span style=\"font-size:20px;\"><a class=\"ProveItLink\" href=\"../../../__pv_it/common/e4aad701f7f5516d8e7f0d805d518bf02c13322a0/expr.ipynb\"><img src=\"data:image/png;base64,iVBORw0KGgoAAAANSUhEUgAAAA8AAAAOBAMAAAACpFvcAAAALVBMVEX///8iIiIQEBBERERUVFS6\n",
       "urqIiIjc3NxmZmaqqqru7u6YmJgyMjLMzMwAAACK9jtgAAAAAXRSTlMAQObYZgAAAFtJREFUCNdj\n",
       "YACBOwxQcA5Kc59bAGGs7CuAMDbkBYBp1gXzNoAZSxnuJYAZAQx1DSCa16PDzwCshIGB6QCIMYGB\n",
       "gVEBSLMDGTwPgIxCIGZ+zsCw+N0pBk67hw0AfpEVEQi8t+wAAAAASUVORK5CYII=\n",
       "\" style=\"display:inline;vertical-align:middle;\" /></a> : <a class=\"ProveItLink\" href=\"../../../__pv_it/common/66c90e66682f107a881f2d666959f64e2e72ad750/expr.ipynb\"><img src=\"data:image/png;base64,iVBORw0KGgoAAAANSUhEUgAAAAsAAAAJBAMAAAAWSsseAAAAMFBMVEX///9UVFSqqqrMzMwiIiJE\n",
       "RESYmJgyMjK6urru7u4QEBCIiIh2dnZmZmbc3NwAAABRgo0vAAAAAXRSTlMAQObYZgAAAEdJREFU\n",
       "CNdjYOC7c3slAwND1wP2DwwMnMsYeAMYGHh/MrBsYGDgCmCYb8DAMP8Agz5QxXwFBnGmBwysG9gc\n",
       "eYAqpTc/3MEAAP4BD32xAXDqAAAAAElFTkSuQmCC\n",
       "\" style=\"display:inline;vertical-align:middle;\" /></a></span></td></tr><tr><td><a name=\"0x5eed1fc319fc5ebb_step1\">1</a></td><td>theorem</td><td></td><td><span style=\"font-size:20px;\"> <a class=\"ProveItLink\" href=\"proofs/contradiction_via_falsification/thm_proof.ipynb\" style=\"text-decoration: none\">&nbsp;&#x22A2;&nbsp;&nbsp;</a><a class=\"ProveItLink\" href=\"../__pv_it/theorems/83c2be43b221dcec657c02259957f1e0ea734e5b0/expr.ipynb\"><img src=\"data:image/png;base64,iVBORw0KGgoAAAANSUhEUgAAAHoAAAAWBAMAAAD9QZX2AAAAMFBMVEX///8QEBCIiIhmZma6urrM\n",
       "zMxUVFQiIiJERETc3Nzu7u6qqqp2dnaYmJgyMjIAAAAcRTyBAAAAAXRSTlMAQObYZgAAAT5JREFU\n",
       "OMtjYKAIPAARd8nQGA0iToOIV2To3gQiZgAxZwO5uvkWMDDwbCBXN++pVaumM5Crm+FHR0cN+bpT\n",
       "GRg6wQwIyQKT5ZgAZXTi0+3MwAWONd4vEE0w2fsOEBoqDgZsGLrZGZgugOjFf1F0c9lfgDCg4qhG\n",
       "w3XzXGAH06eKURTwLDdgQBbHoZvzQRiIYlXoQFEQxAFJBDBxHLoZOlMgXjJHUZDAXMAAE2frAIJe\n",
       "7Lo3g5XdZtBH1s27gekDA7I4Lrv5FUCB9PhM/wIkBetsTvxiQBZH1W1eXi5YXl4GsgYky7yAYX4A\n",
       "kgIrBs6vDDBxtndA8BbNbmTgC3TDBYRuFiD7L8OMBQhxDJcjAY4fDJz9tQgF/Q0MM75fCNyAEAeC\n",
       "Ex2NHR0H8CZfFONJznvIurknUKKbl+SMx0yKYgCRgVo2nnjVMAAAAABJRU5ErkJggg==\n",
       "\" style=\"display:inline;vertical-align:middle;\" /></a></span></td></tr>\n",
       "<tr><td>&nbsp;</td><td colspan=4 style-\"text-align:left\"><a class=\"ProveItLink\" href=\"proofs/contradiction_via_falsification/thm_proof.ipynb\">proveit.logic.equality.contradiction_via_falsification</a></td></tr><tr><td><a name=\"0x5eed1fc319fc5ebb_step2\">2</a></td><td>assumption</td><td></td><td><span style=\"font-size:20px;\"><a class=\"ProveItLink\" href=\"../../../__pv_it/common/66c90e66682f107a881f2d666959f64e2e72ad750/expr.ipynb\"><img src=\"data:image/png;base64,iVBORw0KGgoAAAANSUhEUgAAAAsAAAAJBAMAAAAWSsseAAAAMFBMVEX///9UVFSqqqrMzMwiIiJE\n",
       "RESYmJgyMjK6urru7u4QEBCIiIh2dnZmZmbc3NwAAABRgo0vAAAAAXRSTlMAQObYZgAAAEdJREFU\n",
       "CNdjYOC7c3slAwND1wP2DwwMnMsYeAMYGHh/MrBsYGDgCmCYb8DAMP8Agz5QxXwFBnGmBwysG9gc\n",
       "eYAqpTc/3MEAAP4BD32xAXDqAAAAAElFTkSuQmCC\n",
       "\" style=\"display:inline;vertical-align:middle;\" /></a> <a class=\"ProveItLink\" href=\"../__pv_it/demonstrations/bbc4b530f2c2d64a305411581f328c189e93b3e20/proof.ipynb\" style=\"text-decoration: none\">&nbsp;&#x22A2;&nbsp;&nbsp;</a><a class=\"ProveItLink\" href=\"../../../__pv_it/common/66c90e66682f107a881f2d666959f64e2e72ad750/expr.ipynb\"><img src=\"data:image/png;base64,iVBORw0KGgoAAAANSUhEUgAAAAsAAAAJBAMAAAAWSsseAAAAMFBMVEX///9UVFSqqqrMzMwiIiJE\n",
       "RESYmJgyMjK6urru7u4QEBCIiIh2dnZmZmbc3NwAAABRgo0vAAAAAXRSTlMAQObYZgAAAEdJREFU\n",
       "CNdjYOC7c3slAwND1wP2DwwMnMsYeAMYGHh/MrBsYGDgCmCYb8DAMP8Agz5QxXwFBnGmBwysG9gc\n",
       "eYAqpTc/3MEAAP4BD32xAXDqAAAAAElFTkSuQmCC\n",
       "\" style=\"display:inline;vertical-align:middle;\" /></a></span></td></tr>\n",
       "<tr><td><a name=\"0x5eed1fc319fc5ebb_step3\">3</a></td><td>assumption</td><td></td><td><span style=\"font-size:20px;\"><a class=\"ProveItLink\" href=\"../__pv_it/demonstrations/09d1409b7722d37c24506454d6eef9c5a1be93d20/expr.ipynb\"><img src=\"data:image/png;base64,iVBORw0KGgoAAAANSUhEUgAAADYAAAAOBAMAAACWQvIuAAAAMFBMVEX///9UVFSqqqrMzMwiIiJE\n",
       "RESYmJgyMjK6urru7u4QEBCIiIh2dnZmZmbc3NwAAABRgo0vAAAAAXRSTlMAQObYZgAAAGNJREFU\n",
       "GNNjYMAOjBhwA22ayfHdub0Sl1zXA/YPIPp4OQjUIstxLmPgDcChj/cnA8sGHHJcAQzzDXDIzT/A\n",
       "oM+AsK8QRU6BQZzpAXZ9rBvYHHlwmMkpvfnhDjSJKy4uq1xcHAG3Xxuk5NsGEAAAAABJRU5ErkJg\n",
       "gg==\n",
       "\" style=\"display:inline;vertical-align:middle;\" /></a> <a class=\"ProveItLink\" href=\"../__pv_it/demonstrations/2108cff9ad3a277e3d388fe92064d14b548780350/proof.ipynb\" style=\"text-decoration: none\">&nbsp;&#x22A2;&nbsp;&nbsp;</a><a class=\"ProveItLink\" href=\"../__pv_it/demonstrations/09d1409b7722d37c24506454d6eef9c5a1be93d20/expr.ipynb\"><img src=\"data:image/png;base64,iVBORw0KGgoAAAANSUhEUgAAADYAAAAOBAMAAACWQvIuAAAAMFBMVEX///9UVFSqqqrMzMwiIiJE\n",
       "RESYmJgyMjK6urru7u4QEBCIiIh2dnZmZmbc3NwAAABRgo0vAAAAAXRSTlMAQObYZgAAAGNJREFU\n",
       "GNNjYMAOjBhwA22ayfHdub0Sl1zXA/YPIPp4OQjUIstxLmPgDcChj/cnA8sGHHJcAQzzDXDIzT/A\n",
       "oM+AsK8QRU6BQZzpAXZ9rBvYHHlwmMkpvfnhDjSJKy4uq1xcHAG3Xxuk5NsGEAAAAABJRU5ErkJg\n",
       "gg==\n",
       "\" style=\"display:inline;vertical-align:middle;\" /></a></span></td></tr>\n",
       "</table>"
      ],
      "text/plain": [
       "\tstep type\trequirements\tstatement\n",
       "0\tinstantiation\t1, 2, 3\t{a, a = FALSE} |- FALSE\n",
       "\tA : a\n",
       "1\ttheorem\t\t|- forall_{A | A, A = FALSE} FALSE\n",
       "\tproveit.logic.equality.contradiction_via_falsification\n",
       "2\tassumption\t\t{a} |- a\n",
       "3\tassumption\t\t{a = FALSE} |- a = FALSE"
      ]
     },
     "execution_count": 60,
     "metadata": {},
     "output_type": "execute_result"
    }
   ],
   "source": [
    "contradiction.proof()"
   ]
  },
  {
   "cell_type": "markdown",
   "metadata": {},
   "source": [
    "Contradictions are useful in making contradiction proofs (reductio ad absurdum).  The `affirm_via_contradiction` and `deny_via_contradiction` methods are useful in making such a proof.  They both use `derive_contradiction`.  For example:"
   ]
  },
  {
   "cell_type": "code",
   "execution_count": 61,
   "metadata": {},
   "outputs": [
    {
     "data": {
      "text/html": [
       "<strong id=\"not_a__truth\">not_a__truth:</strong> <span style=\"font-size:20px;\"><a class=\"ProveItLink\" href=\"../__pv_it/demonstrations/a118424d9e5ba1a3ad184d0de60390c382f5e75c0/expr.ipynb\"><img src=\"data:image/png;base64,iVBORw0KGgoAAAANSUhEUgAAADEAAAAPBAMAAAC/wjryAAAAMFBMVEX///9UVFSqqqrMzMwiIiJE\n",
       "RESYmJgyMjK6urru7u4QEBCIiIh2dnZmZmbc3NwAAABRgo0vAAAAAXRSTlMAQObYZgAAAL1JREFU\n",
       "GNNjYMAAW5bGVzk2MGADBdackdewygS0MWxmRRZgC3Fxh8koIcswR09A6DkxFUjz3bm9EsSfPgFh\n",
       "GoezMJDuesD+AcSXQ9jT5f8L6DbOZQy8AWA+sguO5TAw8P5kYNkAsmZ5ORDAZFg5Ehi4AhjmG4Cs\n",
       "Q9HDyiDAMP8Agz6YvwBZhpGhgGG+AoM40wMg/zaKHrYDDKwb2Bx5QHwWBXjo2DCcuQh0m/TmhztA\n",
       "fE7RTlwhynEUGjoQAADGxjMsRgYnGAAAAABJRU5ErkJggg==\n",
       "\" style=\"display:inline;vertical-align:middle;\" /></a>, <a class=\"ProveItLink\" href=\"../__pv_it/demonstrations/17559f4712c24278bdce021f27931e93dfbb6f3a0/expr.ipynb\"><img src=\"data:image/png;base64,iVBORw0KGgoAAAANSUhEUgAAAHAAAAAUBAMAAACnq6Q0AAAAMFBMVEX///9UVFSqqqrMzMwiIiJE\n",
       "RESYmJgyMjK6urru7u4QEBCIiIh2dnZmZmbc3NwAAABRgo0vAAAAAXRSTlMAQObYZgAAAUJJREFU\n",
       "OMtjYMABnjHgAUwPcEpxBuCQYFYAkXI4NbLjMpNpA4icjlNjLgNejTwb0ITjYAw//Bo5F6AJm0Jp\n",
       "Pgf8GhkqgGru3F4JF2a7AKG5QfTbs7sm4NJ4loGh6wH7ByCL1wUM/kKkWRMYGDjWMdSD/VMOBhdQ\n",
       "NKYzcC5j4EUKeqYiMMUCDPRZCQxXcTpVhYH3JwMLchBNXwEiuRoYGO5PYPDGqdGegSuAYb4BQpxP\n",
       "5gFM41IGzs94NM4/wKAPYvFCfFL+AOZUzj8MTB+Q/CiAorGFYb4Cgzgi6XEUwAOH8xMDY4EeLhvT\n",
       "GVg3sDnyIHwIDX8eYBhGM6QIHMCl8Q4Dp/TmhzvgwsIwm4EJYOJuO+kGVF3AOPNa4uICdHUxmnkP\n",
       "CCY5aOZxIDmRQ72yAZcM6wO8GqeTnpHRchGJRQfbAwYAhBdTZmPMYZ0AAAAASUVORK5CYII=\n",
       "\" style=\"display:inline;vertical-align:middle;\" /></a> <a class=\"ProveItLink\" href=\"../__pv_it/demonstrations/d850715d6039696120034f26004a5e7b89e751730/proof.ipynb\" style=\"text-decoration: none\">&nbsp;&#x22A2;&nbsp;&nbsp;</a><a class=\"ProveItLink\" href=\"../__pv_it/demonstrations/07032128a38a8a5c44e07e81dc11c1ce8c7067840/expr.ipynb\"><img src=\"data:image/png;base64,iVBORw0KGgoAAAANSUhEUgAAABgAAAAJBAMAAADa0/H1AAAAMFBMVEX///+qqqpERESYmJgyMjK6\n",
       "urru7u4QEBCIiIjMzMxUVFTc3Nx2dnYiIiJmZmYAAAA3+v/5AAAAAXRSTlMAQObYZgAAAE5JREFU\n",
       "CNdjYICCfefaE2Bs1moGfwaGt3eB4A5DugHDI6j4Lob3CQw34JwiBrafMA7bHwbGD3DORwYuB2kI\n",
       "h5NBg8F2wQGY0Vkds1cEAACuqhgbjxth7gAAAABJRU5ErkJggg==\n",
       "\" style=\"display:inline;vertical-align:middle;\" /></a></span><br>"
      ],
      "text/plain": [
       "not_a__truth: {a in BOOLEAN, a => (a = FALSE)} |- not(a)"
      ]
     },
     "execution_count": 61,
     "metadata": {},
     "output_type": "execute_result"
    }
   ],
   "source": [
    "from proveit.logic import Implies, in_bool\n",
    "not_a__truth = Equals(a, FALSE).affirm_via_contradiction(Not(a), [Implies(a, Equals(a, FALSE)), in_bool(a)])"
   ]
  },
  {
   "cell_type": "code",
   "execution_count": 62,
   "metadata": {},
   "outputs": [
    {
     "data": {
      "text/plain": [
       "13"
      ]
     },
     "execution_count": 62,
     "metadata": {},
     "output_type": "execute_result"
    }
   ],
   "source": [
    "not_a__truth.proof().num_steps()"
   ]
  },
  {
   "cell_type": "markdown",
   "metadata": {},
   "source": [
    "It is more efficient to use `deny_via_contradiction` when proving the negation of something.  Here we prove the same as above but in fewer steps."
   ]
  },
  {
   "cell_type": "code",
   "execution_count": 63,
   "metadata": {},
   "outputs": [
    {
     "data": {
      "text/html": [
       "<strong id=\"not_b__truth\">not_b__truth:</strong> <span style=\"font-size:20px;\"><a class=\"ProveItLink\" href=\"../__pv_it/demonstrations/5466a3811e3b48496ffb165506b566148a0c53440/expr.ipynb\"><img src=\"data:image/png;base64,iVBORw0KGgoAAAANSUhEUgAAAC8AAAAPBAMAAACGpYupAAAAMFBMVEX////MzMyYmJjc3NyIiIhU\n",
       "VFR2dna6urqqqqpmZmYyMjIiIiIQEBBERETu7u4AAACIO4EmAAAAAXRSTlMAQObYZgAAAMlJREFU\n",
       "GNNj4LuzgQEFeJ+9v2ZrAZDBNQFVgmGBCN+9SUCavwFN4kIRgyMvkK5/AOEz3d69CybRAZLIhogz\n",
       "XnmA0JH+FkgvdZkB4r56gDCKfWMgAwPfrwfvDYDcYIQdNfv/AF3F8Y+B3wHERbY8SY2BgXMBw/sE\n",
       "oBWnVgEBTIKXXQHkjXqgg5lRdPAyBDDwKzDMB9l7AFmClWEBA38B3yEQdwqKDqYEBlYFXnCYcMMD\n",
       "YIEYQ9pUoHOnJIG5fLF1aIEIA+y50CCBAADPFUJTsCu5JwAAAABJRU5ErkJggg==\n",
       "\" style=\"display:inline;vertical-align:middle;\" /></a>, <a class=\"ProveItLink\" href=\"../__pv_it/demonstrations/b31b472c9da4fb2635680cc03ad125cb490181150/expr.ipynb\"><img src=\"data:image/png;base64,iVBORw0KGgoAAAANSUhEUgAAAGwAAAAUBAMAAACaOcVSAAAAMFBMVEX////MzMyYmJjc3NyIiIhU\n",
       "VFR2dna6urqqqqpmZmYyMjIiIiIQEBBERETu7u4AAACIO4EmAAAAAXRSTlMAQObYZgAAAVlJREFU\n",
       "OMtjYMAOjBhwAw4DBga+OxuwyPBdYHh7Gos4YwOIDAZirglYpLmABq7EZpEDiHwFxPwNWKQ1gfgH\n",
       "Tm1sQLL+AUL0MoyxmYGB/R9ObXwHGBiykURloTQz0L9sG3BqY1jOwLDUZQZclAnqTxYgzRXi2YBL\n",
       "WyYD368H74H+59wNBj8hsrwKDAzv1/F9BvljFRhMQNGmxcDxj4HfAWHaCjDFDbSn/wHDF1y2dTNw\n",
       "LmB4n4AQf3UcRPIUMDDMYuD7hkubPCja6hF+YA4zgGlbycD+A7c2fgWG+cAo4IR4YZUB3JGfGDj/\n",
       "IfwWgKKtmoG/gO8Q3DD2BYgg+c7wRgGXbVoMrAq8iNT1Chr1bEChIIabOONtGgPflCSEaCDMVmBU\n",
       "v3RDtwwYSXtO794NdO9CVAkDpMSFB/BtwCGhiVcbmwMOCV4DfNpe4XTGBXzaLuOUwVcoMBkwAACd\n",
       "SV2Pb+5cqAAAAABJRU5ErkJggg==\n",
       "\" style=\"display:inline;vertical-align:middle;\" /></a> <a class=\"ProveItLink\" href=\"../__pv_it/demonstrations/ba9c758807c38d5c1bf1bb3ef178f4fc90a25c590/proof.ipynb\" style=\"text-decoration: none\">&nbsp;&#x22A2;&nbsp;&nbsp;</a><a class=\"ProveItLink\" href=\"../__pv_it/demonstrations/652d8b06abbad5b48c4169c3bb0a8506f8a8a84d0/expr.ipynb\"><img src=\"data:image/png;base64,iVBORw0KGgoAAAANSUhEUgAAABYAAAAOBAMAAADZH/H+AAAAMFBMVEX///+YmJiIiIi6urqqqqoy\n",
       "MjIQEBBERETu7u7MzMxUVFTc3Nx2dnYiIiJmZmYAAAAkdzffAAAAAXRSTlMAQObYZgAAAFlJREFU\n",
       "CNdjYICA9lwGBIhDYn9BMJl/INg8FxBs1kV6DjB2fwTHb4a3d4HgDoN/A8MniOguhqcMHH9g7DgG\n",
       "5i8w9kcGvh8w9meGNgEIm5NhIUMd3Pw+HQEGAC4WGbM+budoAAAAAElFTkSuQmCC\n",
       "\" style=\"display:inline;vertical-align:middle;\" /></a></span><br>"
      ],
      "text/plain": [
       "not_b__truth: {b in BOOLEAN, b => (b = FALSE)} |- not(b)"
      ]
     },
     "execution_count": 63,
     "metadata": {},
     "output_type": "execute_result"
    }
   ],
   "source": [
    "not_b__truth = Equals(b, FALSE).deny_via_contradiction(b, [Implies(b, Equals(b, FALSE)), in_bool(b)])"
   ]
  },
  {
   "cell_type": "code",
   "execution_count": 64,
   "metadata": {},
   "outputs": [
    {
     "data": {
      "text/plain": [
       "9"
      ]
     },
     "execution_count": 64,
     "metadata": {},
     "output_type": "execute_result"
    }
   ],
   "source": [
    "not_b__truth.proof().num_steps()"
   ]
  },
  {
   "cell_type": "code",
   "execution_count": 65,
   "metadata": {},
   "outputs": [
    {
     "data": {
      "text/html": [
       "<table><tr><th>&nbsp;</th><th>step type</th><th>requirements</th><th>statement</th></tr>\n",
       "<tr><td><a name=\"-0x640342271c1d3312_step0\">0</a></td><td>instantiation</td><td><a href=\"#-0x640342271c1d3312_step1\">1</a>, <a href=\"#-0x640342271c1d3312_step2\">2</a>, <a href=\"#-0x640342271c1d3312_step3\">3</a></td><td><span style=\"font-size:20px;\"><a class=\"ProveItLink\" href=\"../__pv_it/demonstrations/5466a3811e3b48496ffb165506b566148a0c53440/expr.ipynb\"><img src=\"data:image/png;base64,iVBORw0KGgoAAAANSUhEUgAAAC8AAAAPBAMAAACGpYupAAAAMFBMVEX////MzMyYmJjc3NyIiIhU\n",
       "VFR2dna6urqqqqpmZmYyMjIiIiIQEBBERETu7u4AAACIO4EmAAAAAXRSTlMAQObYZgAAAMlJREFU\n",
       "GNNj4LuzgQEFeJ+9v2ZrAZDBNQFVgmGBCN+9SUCavwFN4kIRgyMvkK5/AOEz3d69CybRAZLIhogz\n",
       "XnmA0JH+FkgvdZkB4r56gDCKfWMgAwPfrwfvDYDcYIQdNfv/AF3F8Y+B3wHERbY8SY2BgXMBw/sE\n",
       "oBWnVgEBTIKXXQHkjXqgg5lRdPAyBDDwKzDMB9l7AFmClWEBA38B3yEQdwqKDqYEBlYFXnCYcMMD\n",
       "YIEYQ9pUoHOnJIG5fLF1aIEIA+y50CCBAADPFUJTsCu5JwAAAABJRU5ErkJggg==\n",
       "\" style=\"display:inline;vertical-align:middle;\" /></a>, <a class=\"ProveItLink\" href=\"../__pv_it/demonstrations/b31b472c9da4fb2635680cc03ad125cb490181150/expr.ipynb\"><img src=\"data:image/png;base64,iVBORw0KGgoAAAANSUhEUgAAAGwAAAAUBAMAAACaOcVSAAAAMFBMVEX////MzMyYmJjc3NyIiIhU\n",
       "VFR2dna6urqqqqpmZmYyMjIiIiIQEBBERETu7u4AAACIO4EmAAAAAXRSTlMAQObYZgAAAVlJREFU\n",
       "OMtjYMAOjBhwAw4DBga+OxuwyPBdYHh7Gos4YwOIDAZirglYpLmABq7EZpEDiHwFxPwNWKQ1gfgH\n",
       "Tm1sQLL+AUL0MoyxmYGB/R9ObXwHGBiykURloTQz0L9sG3BqY1jOwLDUZQZclAnqTxYgzRXi2YBL\n",
       "WyYD368H74H+59wNBj8hsrwKDAzv1/F9BvljFRhMQNGmxcDxj4HfAWHaCjDFDbSn/wHDF1y2dTNw\n",
       "LmB4n4AQf3UcRPIUMDDMYuD7hkubPCja6hF+YA4zgGlbycD+A7c2fgWG+cAo4IR4YZUB3JGfGDj/\n",
       "IfwWgKKtmoG/gO8Q3DD2BYgg+c7wRgGXbVoMrAq8iNT1Chr1bEChIIabOONtGgPflCSEaCDMVmBU\n",
       "v3RDtwwYSXtO794NdO9CVAkDpMSFB/BtwCGhiVcbmwMOCV4DfNpe4XTGBXzaLuOUwVcoMBkwAACd\n",
       "SV2Pb+5cqAAAAABJRU5ErkJggg==\n",
       "\" style=\"display:inline;vertical-align:middle;\" /></a> <a class=\"ProveItLink\" href=\"../__pv_it/demonstrations/ba9c758807c38d5c1bf1bb3ef178f4fc90a25c590/proof.ipynb\" style=\"text-decoration: none\">&nbsp;&#x22A2;&nbsp;&nbsp;</a><a class=\"ProveItLink\" href=\"../__pv_it/demonstrations/652d8b06abbad5b48c4169c3bb0a8506f8a8a84d0/expr.ipynb\"><img src=\"data:image/png;base64,iVBORw0KGgoAAAANSUhEUgAAABYAAAAOBAMAAADZH/H+AAAAMFBMVEX///+YmJiIiIi6urqqqqoy\n",
       "MjIQEBBERETu7u7MzMxUVFTc3Nx2dnYiIiJmZmYAAAAkdzffAAAAAXRSTlMAQObYZgAAAFlJREFU\n",
       "CNdjYICA9lwGBIhDYn9BMJl/INg8FxBs1kV6DjB2fwTHb4a3d4HgDoN/A8MniOguhqcMHH9g7DgG\n",
       "5i8w9kcGvh8w9meGNgEIm5NhIUMd3Pw+HQEGAC4WGbM+budoAAAAAElFTkSuQmCC\n",
       "\" style=\"display:inline;vertical-align:middle;\" /></a></span></td></tr>\n",
       "<tr><td>&nbsp;</td><td colspan=4 style=\"text-align:left\"><span style=\"font-size:20px;\"><a class=\"ProveItLink\" href=\"../../../__pv_it/common/e4aad701f7f5516d8e7f0d805d518bf02c13322a0/expr.ipynb\"><img src=\"data:image/png;base64,iVBORw0KGgoAAAANSUhEUgAAAA8AAAAOBAMAAAACpFvcAAAALVBMVEX///8iIiIQEBBERERUVFS6\n",
       "urqIiIjc3NxmZmaqqqru7u6YmJgyMjLMzMwAAACK9jtgAAAAAXRSTlMAQObYZgAAAFtJREFUCNdj\n",
       "YACBOwxQcA5Kc59bAGGs7CuAMDbkBYBp1gXzNoAZSxnuJYAZAQx1DSCa16PDzwCshIGB6QCIMYGB\n",
       "gVEBSLMDGTwPgIxCIGZ+zsCw+N0pBk67hw0AfpEVEQi8t+wAAAAASUVORK5CYII=\n",
       "\" style=\"display:inline;vertical-align:middle;\" /></a> : <a class=\"ProveItLink\" href=\"../../../__pv_it/common/4a5db8cc5c67969ec864bd3ea598be37cb6f5e550/expr.ipynb\"><img src=\"data:image/png;base64,iVBORw0KGgoAAAANSUhEUgAAAAkAAAAOBAMAAAAPuiubAAAALVBMVEX///+YmJjc3NyIiIhUVFR2\n",
       "dna6urqqqqpmZmYyMjIiIiIQEBBERETu7u4AAAALjtrwAAAAAXRSTlMAQObYZgAAAE9JREFUCNdj\n",
       "4D29gAEIOBtAJF8BiMy7ACKjQATDFON2BgbelxfuKTCwv2XgM2DgmMBwLwCkPK+AgU+Aoe8CA18C\n",
       "70YGBhYBHqARvM2BDAwAqXgQspq5HJAAAAAASUVORK5CYII=\n",
       "\" style=\"display:inline;vertical-align:middle;\" /></a></span></td></tr><tr><td><a name=\"-0x640342271c1d3312_step1\">1</a></td><td>axiom</td><td></td><td><span style=\"font-size:20px;\"> <a class=\"ProveItLink\" href=\"../../booleans/implication/_theory_nbs_/axioms.ipynb#denial_via_contradiction\" style=\"text-decoration: none\">&nbsp;&#x22A2;&nbsp;&nbsp;</a><a class=\"ProveItLink\" href=\"../../booleans/implication/__pv_it/axioms/f2e3fe806d62adaa18049be164546361400331db0/expr.ipynb\"><img src=\"data:image/png;base64,iVBORw0KGgoAAAANSUhEUgAAAJ4AAAAWBAMAAADDSDj9AAAAMFBMVEX///8QEBCIiIhmZma6urrM\n",
       "zMxUVFQiIiJERETc3Nzu7u6qqqp2dnaYmJgyMjIAAAAcRTyBAAAAAXRSTlMAQObYZgAAAh1JREFU\n",
       "OMullEFoE0EUhn+TxmTT3dqDZxnqxVsDAQWpGPDQUyEnj7bQ9qAXCz0otIJ6miA1uYgiSBcUkYil\n",
       "UEqPDYRCW3vYe6lEowd7qQfBehB9b2anmQnG0vXB7L43b+fbN++9GSC5eFHXRH8NaLGyl4j3xrFu\n",
       "0LgJvGd9PxHvq2Md0FgCnnHg95PggoJjHYSALzDAr+UkvGzNtt5eJTM/iGC7Xn+aaLvuqmi4RM/P\n",
       "wKGU84l4522jL1znajeBaaCipirdC0pGqfyVt2AbrzAu6PUBuIa86pnge5zYT+1ZnU9TJePRctoo\n",
       "c0D6DktD/XuRy7NGaUVK9eXLX5zV5hWIxotVh6c8R5IzylnT1hNAZrJ4mz8fp+JGWTW9PUuRPHoe\n",
       "Qgj/ncNjD3d/1JvXB5xqaZ7Xus6zGSF57yRCjG3ZPOWB7n6bN2fxKEHZQdJHOdtTOi2X4sMniufK\n",
       "No89viT5WHJ4Cx2eR7yBb7oeWJnh2V0MI1/Q8aWf2Dz2xB1SsnlNo5RVK+Z+0mOExhkudL69Uw0z\n",
       "d6V8yPlLWTzl0Qtf37J5o52L4fc++qs/KJov3A78dTrEYhkTOj4/bfGUJ1UkuXjZ2a973vS/Z4w2\n",
       "RnFG2FC8hr9j8bSnTjLk1sO9D5T4wjTVIbzqPeQor8F8+3HU4cWeuI7YlA+kbPQ6NkvdExcof0fS\n",
       "dYt5/75Pex/MHrzj7/ug9l+8k0ohwZo//2aLn6xV0D0AAAAASUVORK5CYII=\n",
       "\" style=\"display:inline;vertical-align:middle;\" /></a></span></td></tr>\n",
       "<tr><td>&nbsp;</td><td colspan=4 style-\"text-align:left\"><a class=\"ProveItLink\" href=\"../../booleans/implication/_theory_nbs_/axioms.ipynb#denial_via_contradiction\">proveit.logic.booleans.implication.denial_via_contradiction</a></td></tr><tr><td><a name=\"-0x640342271c1d3312_step2\">2</a></td><td>assumption</td><td></td><td><span style=\"font-size:20px;\"><a class=\"ProveItLink\" href=\"../__pv_it/demonstrations/5466a3811e3b48496ffb165506b566148a0c53440/expr.ipynb\"><img src=\"data:image/png;base64,iVBORw0KGgoAAAANSUhEUgAAAC8AAAAPBAMAAACGpYupAAAAMFBMVEX////MzMyYmJjc3NyIiIhU\n",
       "VFR2dna6urqqqqpmZmYyMjIiIiIQEBBERETu7u4AAACIO4EmAAAAAXRSTlMAQObYZgAAAMlJREFU\n",
       "GNNj4LuzgQEFeJ+9v2ZrAZDBNQFVgmGBCN+9SUCavwFN4kIRgyMvkK5/AOEz3d69CybRAZLIhogz\n",
       "XnmA0JH+FkgvdZkB4r56gDCKfWMgAwPfrwfvDYDcYIQdNfv/AF3F8Y+B3wHERbY8SY2BgXMBw/sE\n",
       "oBWnVgEBTIKXXQHkjXqgg5lRdPAyBDDwKzDMB9l7AFmClWEBA38B3yEQdwqKDqYEBlYFXnCYcMMD\n",
       "YIEYQ9pUoHOnJIG5fLF1aIEIA+y50CCBAADPFUJTsCu5JwAAAABJRU5ErkJggg==\n",
       "\" style=\"display:inline;vertical-align:middle;\" /></a> <a class=\"ProveItLink\" href=\"../__pv_it/demonstrations/c4c31a40e3bd2e478bd0d534c0a46c2163bd36bb0/proof.ipynb\" style=\"text-decoration: none\">&nbsp;&#x22A2;&nbsp;&nbsp;</a><a class=\"ProveItLink\" href=\"../__pv_it/demonstrations/5466a3811e3b48496ffb165506b566148a0c53440/expr.ipynb\"><img src=\"data:image/png;base64,iVBORw0KGgoAAAANSUhEUgAAAC8AAAAPBAMAAACGpYupAAAAMFBMVEX////MzMyYmJjc3NyIiIhU\n",
       "VFR2dna6urqqqqpmZmYyMjIiIiIQEBBERETu7u4AAACIO4EmAAAAAXRSTlMAQObYZgAAAMlJREFU\n",
       "GNNj4LuzgQEFeJ+9v2ZrAZDBNQFVgmGBCN+9SUCavwFN4kIRgyMvkK5/AOEz3d69CybRAZLIhogz\n",
       "XnmA0JH+FkgvdZkB4r56gDCKfWMgAwPfrwfvDYDcYIQdNfv/AF3F8Y+B3wHERbY8SY2BgXMBw/sE\n",
       "oBWnVgEBTIKXXQHkjXqgg5lRdPAyBDDwKzDMB9l7AFmClWEBA38B3yEQdwqKDqYEBlYFXnCYcMMD\n",
       "YIEYQ9pUoHOnJIG5fLF1aIEIA+y50CCBAADPFUJTsCu5JwAAAABJRU5ErkJggg==\n",
       "\" style=\"display:inline;vertical-align:middle;\" /></a></span></td></tr>\n",
       "<tr><td><a name=\"-0x640342271c1d3312_step3\">3</a></td><td>deduction</td><td><a href=\"#-0x640342271c1d3312_step4\">4</a></td><td><span style=\"font-size:20px;\"><a class=\"ProveItLink\" href=\"../__pv_it/demonstrations/b31b472c9da4fb2635680cc03ad125cb490181150/expr.ipynb\"><img src=\"data:image/png;base64,iVBORw0KGgoAAAANSUhEUgAAAGwAAAAUBAMAAACaOcVSAAAAMFBMVEX////MzMyYmJjc3NyIiIhU\n",
       "VFR2dna6urqqqqpmZmYyMjIiIiIQEBBERETu7u4AAACIO4EmAAAAAXRSTlMAQObYZgAAAVlJREFU\n",
       "OMtjYMAOjBhwAw4DBga+OxuwyPBdYHh7Gos4YwOIDAZirglYpLmABq7EZpEDiHwFxPwNWKQ1gfgH\n",
       "Tm1sQLL+AUL0MoyxmYGB/R9ObXwHGBiykURloTQz0L9sG3BqY1jOwLDUZQZclAnqTxYgzRXi2YBL\n",
       "WyYD368H74H+59wNBj8hsrwKDAzv1/F9BvljFRhMQNGmxcDxj4HfAWHaCjDFDbSn/wHDF1y2dTNw\n",
       "LmB4n4AQf3UcRPIUMDDMYuD7hkubPCja6hF+YA4zgGlbycD+A7c2fgWG+cAo4IR4YZUB3JGfGDj/\n",
       "IfwWgKKtmoG/gO8Q3DD2BYgg+c7wRgGXbVoMrAq8iNT1Chr1bEChIIabOONtGgPflCSEaCDMVmBU\n",
       "v3RDtwwYSXtO794NdO9CVAkDpMSFB/BtwCGhiVcbmwMOCV4DfNpe4XTGBXzaLuOUwVcoMBkwAACd\n",
       "SV2Pb+5cqAAAAABJRU5ErkJggg==\n",
       "\" style=\"display:inline;vertical-align:middle;\" /></a> <a class=\"ProveItLink\" href=\"../__pv_it/demonstrations/b93fcb2e263036047bbe9c2aa5f1495b770c60f80/proof.ipynb\" style=\"text-decoration: none\">&nbsp;&#x22A2;&nbsp;&nbsp;</a><a class=\"ProveItLink\" href=\"../__pv_it/demonstrations/13b873a7653acea6765f56265271043cc4ef189e0/expr.ipynb\"><img src=\"data:image/png;base64,iVBORw0KGgoAAAANSUhEUgAAADgAAAAPBAMAAABD1xE4AAAAMFBMVEX////MzMyYmJjc3NyIiIhU\n",
       "VFR2dna6urqqqqpmZmYyMjIiIiIQEBBERETu7u4AAACIO4EmAAAAAXRSTlMAQObYZgAAAJhJREFU\n",
       "GNNj4LuzgQEbkACTXBOwSraASf4GPJL1DxAivAZoktlIyhkvoEkudZmBkNVEleT79eA9yLDZu0Fg\n",
       "/wQUSY5/DPwOCK1dDciSnAsY3icgJPnWFCBJAr1Zj+QZ02RknfwKDPNBnpm1CgwWo9jJX8B3CKGx\n",
       "CtW1rAq8iPDjW4fmlSlJCI2sAhAa6K8zu3dvRQ1QZlQuAIzoLir1hyZsAAAAAElFTkSuQmCC\n",
       "\" style=\"display:inline;vertical-align:middle;\" /></a></span></td></tr>\n",
       "<tr><td><a name=\"-0x640342271c1d3312_step4\">4</a></td><td>instantiation</td><td><a href=\"#-0x640342271c1d3312_step5\">5</a>, <a href=\"#-0x640342271c1d3312_step8\">8</a>, <a href=\"#-0x640342271c1d3312_step6\">6</a></td><td><span style=\"font-size:20px;\"><a class=\"ProveItLink\" href=\"../../../__pv_it/common/4a5db8cc5c67969ec864bd3ea598be37cb6f5e550/expr.ipynb\"><img src=\"data:image/png;base64,iVBORw0KGgoAAAANSUhEUgAAAAkAAAAOBAMAAAAPuiubAAAALVBMVEX///+YmJjc3NyIiIhUVFR2\n",
       "dna6urqqqqpmZmYyMjIiIiIQEBBERETu7u4AAAALjtrwAAAAAXRSTlMAQObYZgAAAE9JREFUCNdj\n",
       "4D29gAEIOBtAJF8BiMy7ACKjQATDFON2BgbelxfuKTCwv2XgM2DgmMBwLwCkPK+AgU+Aoe8CA18C\n",
       "70YGBhYBHqARvM2BDAwAqXgQspq5HJAAAAAASUVORK5CYII=\n",
       "\" style=\"display:inline;vertical-align:middle;\" /></a>, <a class=\"ProveItLink\" href=\"../__pv_it/demonstrations/b31b472c9da4fb2635680cc03ad125cb490181150/expr.ipynb\"><img src=\"data:image/png;base64,iVBORw0KGgoAAAANSUhEUgAAAGwAAAAUBAMAAACaOcVSAAAAMFBMVEX////MzMyYmJjc3NyIiIhU\n",
       "VFR2dna6urqqqqpmZmYyMjIiIiIQEBBERETu7u4AAACIO4EmAAAAAXRSTlMAQObYZgAAAVlJREFU\n",
       "OMtjYMAOjBhwAw4DBga+OxuwyPBdYHh7Gos4YwOIDAZirglYpLmABq7EZpEDiHwFxPwNWKQ1gfgH\n",
       "Tm1sQLL+AUL0MoyxmYGB/R9ObXwHGBiykURloTQz0L9sG3BqY1jOwLDUZQZclAnqTxYgzRXi2YBL\n",
       "WyYD368H74H+59wNBj8hsrwKDAzv1/F9BvljFRhMQNGmxcDxj4HfAWHaCjDFDbSn/wHDF1y2dTNw\n",
       "LmB4n4AQf3UcRPIUMDDMYuD7hkubPCja6hF+YA4zgGlbycD+A7c2fgWG+cAo4IR4YZUB3JGfGDj/\n",
       "IfwWgKKtmoG/gO8Q3DD2BYgg+c7wRgGXbVoMrAq8iNT1Chr1bEChIIabOONtGgPflCSEaCDMVmBU\n",
       "v3RDtwwYSXtO794NdO9CVAkDpMSFB/BtwCGhiVcbmwMOCV4DfNpe4XTGBXzaLuOUwVcoMBkwAACd\n",
       "SV2Pb+5cqAAAAABJRU5ErkJggg==\n",
       "\" style=\"display:inline;vertical-align:middle;\" /></a> <a class=\"ProveItLink\" href=\"../__pv_it/demonstrations/a9ed94a8146e583c935aa38828e2e85fd52afcec0/proof.ipynb\" style=\"text-decoration: none\">&nbsp;&#x22A2;&nbsp;&nbsp;</a><a class=\"ProveItLink\" href=\"../../booleans/__pv_it/common/bc5c31e39ae582b67c89fb24025b57f5b995e8890/expr.ipynb\"><img src=\"data:image/png;base64,iVBORw0KGgoAAAANSUhEUgAAAA4AAAAOBAMAAADtZjDiAAAAG1BMVEX///9UVFQQEBAiIiJmZmaI\n",
       "iIiqqqrMzMwAAADC2JlRAAAAAXRSTlMAQObYZgAAABlJREFUCNdjYGBgKGOAgFRa0s7GxkrGxoYA\n",
       "QSUGlQeagkgAAAAASUVORK5CYII=\n",
       "\" style=\"display:inline;vertical-align:middle;\" /></a></span></td></tr>\n",
       "<tr><td>&nbsp;</td><td colspan=4 style=\"text-align:left\"><span style=\"font-size:20px;\"><a class=\"ProveItLink\" href=\"../../../__pv_it/common/e4aad701f7f5516d8e7f0d805d518bf02c13322a0/expr.ipynb\"><img src=\"data:image/png;base64,iVBORw0KGgoAAAANSUhEUgAAAA8AAAAOBAMAAAACpFvcAAAALVBMVEX///8iIiIQEBBERERUVFS6\n",
       "urqIiIjc3NxmZmaqqqru7u6YmJgyMjLMzMwAAACK9jtgAAAAAXRSTlMAQObYZgAAAFtJREFUCNdj\n",
       "YACBOwxQcA5Kc59bAGGs7CuAMDbkBYBp1gXzNoAZSxnuJYAZAQx1DSCa16PDzwCshIGB6QCIMYGB\n",
       "gVEBSLMDGTwPgIxCIGZ+zsCw+N0pBk67hw0AfpEVEQi8t+wAAAAASUVORK5CYII=\n",
       "\" style=\"display:inline;vertical-align:middle;\" /></a> : <a class=\"ProveItLink\" href=\"../../../__pv_it/common/4a5db8cc5c67969ec864bd3ea598be37cb6f5e550/expr.ipynb\"><img src=\"data:image/png;base64,iVBORw0KGgoAAAANSUhEUgAAAAkAAAAOBAMAAAAPuiubAAAALVBMVEX///+YmJjc3NyIiIhUVFR2\n",
       "dna6urqqqqpmZmYyMjIiIiIQEBBERETu7u4AAAALjtrwAAAAAXRSTlMAQObYZgAAAE9JREFUCNdj\n",
       "4D29gAEIOBtAJF8BiMy7ACKjQATDFON2BgbelxfuKTCwv2XgM2DgmMBwLwCkPK+AgU+Aoe8CA18C\n",
       "70YGBhYBHqARvM2BDAwAqXgQspq5HJAAAAAASUVORK5CYII=\n",
       "\" style=\"display:inline;vertical-align:middle;\" /></a></span></td></tr><tr><td><a name=\"-0x640342271c1d3312_step5\">5</a></td><td>theorem</td><td></td><td><span style=\"font-size:20px;\"> <a class=\"ProveItLink\" href=\"proofs/contradiction_via_falsification/thm_proof.ipynb\" style=\"text-decoration: none\">&nbsp;&#x22A2;&nbsp;&nbsp;</a><a class=\"ProveItLink\" href=\"../__pv_it/theorems/83c2be43b221dcec657c02259957f1e0ea734e5b0/expr.ipynb\"><img src=\"data:image/png;base64,iVBORw0KGgoAAAANSUhEUgAAAHoAAAAWBAMAAAD9QZX2AAAAMFBMVEX///8QEBCIiIhmZma6urrM\n",
       "zMxUVFQiIiJERETc3Nzu7u6qqqp2dnaYmJgyMjIAAAAcRTyBAAAAAXRSTlMAQObYZgAAAT5JREFU\n",
       "OMtjYKAIPAARd8nQGA0iToOIV2To3gQiZgAxZwO5uvkWMDDwbCBXN++pVaumM5Crm+FHR0cN+bpT\n",
       "GRg6wQwIyQKT5ZgAZXTi0+3MwAWONd4vEE0w2fsOEBoqDgZsGLrZGZgugOjFf1F0c9lfgDCg4qhG\n",
       "w3XzXGAH06eKURTwLDdgQBbHoZvzQRiIYlXoQFEQxAFJBDBxHLoZOlMgXjJHUZDAXMAAE2frAIJe\n",
       "7Lo3g5XdZtBH1s27gekDA7I4Lrv5FUCB9PhM/wIkBetsTvxiQBZH1W1eXi5YXl4GsgYky7yAYX4A\n",
       "kgIrBs6vDDBxtndA8BbNbmTgC3TDBYRuFiD7L8OMBQhxDJcjAY4fDJz9tQgF/Q0MM75fCNyAEAeC\n",
       "Ex2NHR0H8CZfFONJznvIurknUKKbl+SMx0yKYgCRgVo2nnjVMAAAAABJRU5ErkJggg==\n",
       "\" style=\"display:inline;vertical-align:middle;\" /></a></span></td></tr>\n",
       "<tr><td>&nbsp;</td><td colspan=4 style-\"text-align:left\"><a class=\"ProveItLink\" href=\"proofs/contradiction_via_falsification/thm_proof.ipynb\">proveit.logic.equality.contradiction_via_falsification</a></td></tr><tr><td><a name=\"-0x640342271c1d3312_step6\">6</a></td><td>modus ponens</td><td><a href=\"#-0x640342271c1d3312_step7\">7</a>, <a href=\"#-0x640342271c1d3312_step8\">8</a></td><td><span style=\"font-size:20px;\"><a class=\"ProveItLink\" href=\"../__pv_it/demonstrations/b31b472c9da4fb2635680cc03ad125cb490181150/expr.ipynb\"><img src=\"data:image/png;base64,iVBORw0KGgoAAAANSUhEUgAAAGwAAAAUBAMAAACaOcVSAAAAMFBMVEX////MzMyYmJjc3NyIiIhU\n",
       "VFR2dna6urqqqqpmZmYyMjIiIiIQEBBERETu7u4AAACIO4EmAAAAAXRSTlMAQObYZgAAAVlJREFU\n",
       "OMtjYMAOjBhwAw4DBga+OxuwyPBdYHh7Gos4YwOIDAZirglYpLmABq7EZpEDiHwFxPwNWKQ1gfgH\n",
       "Tm1sQLL+AUL0MoyxmYGB/R9ObXwHGBiykURloTQz0L9sG3BqY1jOwLDUZQZclAnqTxYgzRXi2YBL\n",
       "WyYD368H74H+59wNBj8hsrwKDAzv1/F9BvljFRhMQNGmxcDxj4HfAWHaCjDFDbSn/wHDF1y2dTNw\n",
       "LmB4n4AQf3UcRPIUMDDMYuD7hkubPCja6hF+YA4zgGlbycD+A7c2fgWG+cAo4IR4YZUB3JGfGDj/\n",
       "IfwWgKKtmoG/gO8Q3DD2BYgg+c7wRgGXbVoMrAq8iNT1Chr1bEChIIabOONtGgPflCSEaCDMVmBU\n",
       "v3RDtwwYSXtO794NdO9CVAkDpMSFB/BtwCGhiVcbmwMOCV4DfNpe4XTGBXzaLuOUwVcoMBkwAACd\n",
       "SV2Pb+5cqAAAAABJRU5ErkJggg==\n",
       "\" style=\"display:inline;vertical-align:middle;\" /></a>, <a class=\"ProveItLink\" href=\"../../../__pv_it/common/4a5db8cc5c67969ec864bd3ea598be37cb6f5e550/expr.ipynb\"><img src=\"data:image/png;base64,iVBORw0KGgoAAAANSUhEUgAAAAkAAAAOBAMAAAAPuiubAAAALVBMVEX///+YmJjc3NyIiIhUVFR2\n",
       "dna6urqqqqpmZmYyMjIiIiIQEBBERETu7u4AAAALjtrwAAAAAXRSTlMAQObYZgAAAE9JREFUCNdj\n",
       "4D29gAEIOBtAJF8BiMy7ACKjQATDFON2BgbelxfuKTCwv2XgM2DgmMBwLwCkPK+AgU+Aoe8CA18C\n",
       "70YGBhYBHqARvM2BDAwAqXgQspq5HJAAAAAASUVORK5CYII=\n",
       "\" style=\"display:inline;vertical-align:middle;\" /></a> <a class=\"ProveItLink\" href=\"../__pv_it/demonstrations/0b8a52647f32f13ce4225b79f0babfb97e8f73130/proof.ipynb\" style=\"text-decoration: none\">&nbsp;&#x22A2;&nbsp;&nbsp;</a><a class=\"ProveItLink\" href=\"../__pv_it/demonstrations/d67d90c8a514d919ff3aa88dfda37a096740eb3e0/expr.ipynb\"><img src=\"data:image/png;base64,iVBORw0KGgoAAAANSUhEUgAAADQAAAAOBAMAAACStyITAAAAMFBMVEX////MzMyYmJjc3NyIiIhU\n",
       "VFR2dna6urqqqqpmZmYyMjIiIiIQEBBERETu7u4AAACIO4EmAAAAAXRSTlMAQObYZgAAAHBJREFU\n",
       "GNNj4LuzgQETSIBJrglYpFrAJH8DTqn6BzilshlwSi11mYFDiu/Xg/cGQDprFQisRJbi+MfA74Bd\n",
       "F+cChvcJ2KWA3qpvwC7Fr8Aw/wHcrqUoUgV8h3C4kFWBdwIux09JQhefvXv3md27twIA10Um1Xfy\n",
       "AHEAAAAASUVORK5CYII=\n",
       "\" style=\"display:inline;vertical-align:middle;\" /></a></span></td></tr>\n",
       "<tr><td><a name=\"-0x640342271c1d3312_step7\">7</a></td><td>assumption</td><td></td><td><span style=\"font-size:20px;\"><a class=\"ProveItLink\" href=\"../__pv_it/demonstrations/b31b472c9da4fb2635680cc03ad125cb490181150/expr.ipynb\"><img src=\"data:image/png;base64,iVBORw0KGgoAAAANSUhEUgAAAGwAAAAUBAMAAACaOcVSAAAAMFBMVEX////MzMyYmJjc3NyIiIhU\n",
       "VFR2dna6urqqqqpmZmYyMjIiIiIQEBBERETu7u4AAACIO4EmAAAAAXRSTlMAQObYZgAAAVlJREFU\n",
       "OMtjYMAOjBhwAw4DBga+OxuwyPBdYHh7Gos4YwOIDAZirglYpLmABq7EZpEDiHwFxPwNWKQ1gfgH\n",
       "Tm1sQLL+AUL0MoyxmYGB/R9ObXwHGBiykURloTQz0L9sG3BqY1jOwLDUZQZclAnqTxYgzRXi2YBL\n",
       "WyYD368H74H+59wNBj8hsrwKDAzv1/F9BvljFRhMQNGmxcDxj4HfAWHaCjDFDbSn/wHDF1y2dTNw\n",
       "LmB4n4AQf3UcRPIUMDDMYuD7hkubPCja6hF+YA4zgGlbycD+A7c2fgWG+cAo4IR4YZUB3JGfGDj/\n",
       "IfwWgKKtmoG/gO8Q3DD2BYgg+c7wRgGXbVoMrAq8iNT1Chr1bEChIIabOONtGgPflCSEaCDMVmBU\n",
       "v3RDtwwYSXtO794NdO9CVAkDpMSFB/BtwCGhiVcbmwMOCV4DfNpe4XTGBXzaLuOUwVcoMBkwAACd\n",
       "SV2Pb+5cqAAAAABJRU5ErkJggg==\n",
       "\" style=\"display:inline;vertical-align:middle;\" /></a> <a class=\"ProveItLink\" href=\"../__pv_it/demonstrations/e66aef171d8bd6af1552681a2aea7f6f15c4e79a0/proof.ipynb\" style=\"text-decoration: none\">&nbsp;&#x22A2;&nbsp;&nbsp;</a><a class=\"ProveItLink\" href=\"../__pv_it/demonstrations/b31b472c9da4fb2635680cc03ad125cb490181150/expr.ipynb\"><img src=\"data:image/png;base64,iVBORw0KGgoAAAANSUhEUgAAAGwAAAAUBAMAAACaOcVSAAAAMFBMVEX////MzMyYmJjc3NyIiIhU\n",
       "VFR2dna6urqqqqpmZmYyMjIiIiIQEBBERETu7u4AAACIO4EmAAAAAXRSTlMAQObYZgAAAVlJREFU\n",
       "OMtjYMAOjBhwAw4DBga+OxuwyPBdYHh7Gos4YwOIDAZirglYpLmABq7EZpEDiHwFxPwNWKQ1gfgH\n",
       "Tm1sQLL+AUL0MoyxmYGB/R9ObXwHGBiykURloTQz0L9sG3BqY1jOwLDUZQZclAnqTxYgzRXi2YBL\n",
       "WyYD368H74H+59wNBj8hsrwKDAzv1/F9BvljFRhMQNGmxcDxj4HfAWHaCjDFDbSn/wHDF1y2dTNw\n",
       "LmB4n4AQf3UcRPIUMDDMYuD7hkubPCja6hF+YA4zgGlbycD+A7c2fgWG+cAo4IR4YZUB3JGfGDj/\n",
       "IfwWgKKtmoG/gO8Q3DD2BYgg+c7wRgGXbVoMrAq8iNT1Chr1bEChIIabOONtGgPflCSEaCDMVmBU\n",
       "v3RDtwwYSXtO794NdO9CVAkDpMSFB/BtwCGhiVcbmwMOCV4DfNpe4XTGBXzaLuOUwVcoMBkwAACd\n",
       "SV2Pb+5cqAAAAABJRU5ErkJggg==\n",
       "\" style=\"display:inline;vertical-align:middle;\" /></a></span></td></tr>\n",
       "<tr><td><a name=\"-0x640342271c1d3312_step8\">8</a></td><td>assumption</td><td></td><td><span style=\"font-size:20px;\"><a class=\"ProveItLink\" href=\"../../../__pv_it/common/4a5db8cc5c67969ec864bd3ea598be37cb6f5e550/expr.ipynb\"><img src=\"data:image/png;base64,iVBORw0KGgoAAAANSUhEUgAAAAkAAAAOBAMAAAAPuiubAAAALVBMVEX///+YmJjc3NyIiIhUVFR2\n",
       "dna6urqqqqpmZmYyMjIiIiIQEBBERETu7u4AAAALjtrwAAAAAXRSTlMAQObYZgAAAE9JREFUCNdj\n",
       "4D29gAEIOBtAJF8BiMy7ACKjQATDFON2BgbelxfuKTCwv2XgM2DgmMBwLwCkPK+AgU+Aoe8CA18C\n",
       "70YGBhYBHqARvM2BDAwAqXgQspq5HJAAAAAASUVORK5CYII=\n",
       "\" style=\"display:inline;vertical-align:middle;\" /></a> <a class=\"ProveItLink\" href=\"../__pv_it/demonstrations/6325517638d3cee6e3788975ded7a55a7d4362550/proof.ipynb\" style=\"text-decoration: none\">&nbsp;&#x22A2;&nbsp;&nbsp;</a><a class=\"ProveItLink\" href=\"../../../__pv_it/common/4a5db8cc5c67969ec864bd3ea598be37cb6f5e550/expr.ipynb\"><img src=\"data:image/png;base64,iVBORw0KGgoAAAANSUhEUgAAAAkAAAAOBAMAAAAPuiubAAAALVBMVEX///+YmJjc3NyIiIhUVFR2\n",
       "dna6urqqqqpmZmYyMjIiIiIQEBBERETu7u4AAAALjtrwAAAAAXRSTlMAQObYZgAAAE9JREFUCNdj\n",
       "4D29gAEIOBtAJF8BiMy7ACKjQATDFON2BgbelxfuKTCwv2XgM2DgmMBwLwCkPK+AgU+Aoe8CA18C\n",
       "70YGBhYBHqARvM2BDAwAqXgQspq5HJAAAAAASUVORK5CYII=\n",
       "\" style=\"display:inline;vertical-align:middle;\" /></a></span></td></tr>\n",
       "</table>"
      ],
      "text/plain": [
       "\tstep type\trequirements\tstatement\n",
       "0\tinstantiation\t1, 2, 3\t{b in BOOLEAN, b => (b = FALSE)} |- not(b)\n",
       "\tA : b\n",
       "1\taxiom\t\t|- forall_{A in BOOLEAN | A => FALSE} not(A)\n",
       "\tproveit.logic.booleans.implication.denial_via_contradiction\n",
       "2\tassumption\t\t{b in BOOLEAN} |- b in BOOLEAN\n",
       "3\tdeduction\t4\t{b => (b = FALSE)} |- b => FALSE\n",
       "4\tinstantiation\t5, 8, 6\t{b, b => (b = FALSE)} |- FALSE\n",
       "\tA : b\n",
       "5\ttheorem\t\t|- forall_{A | A, A = FALSE} FALSE\n",
       "\tproveit.logic.equality.contradiction_via_falsification\n",
       "6\tmodus ponens\t7, 8\t{b => (b = FALSE), b} |- b = FALSE\n",
       "7\tassumption\t\t{b => (b = FALSE)} |- b => (b = FALSE)\n",
       "8\tassumption\t\t{b} |- b"
      ]
     },
     "execution_count": 65,
     "metadata": {},
     "output_type": "execute_result"
    }
   ],
   "source": [
    "not_b__truth.proof()"
   ]
  },
  {
   "cell_type": "markdown",
   "metadata": {},
   "source": [
    "## Equality and sets"
   ]
  },
  {
   "cell_type": "markdown",
   "metadata": {},
   "source": [
    "All equality expressions are in the boolean set by the `equality_in_bool` axiom.  That is, given any two mathematical objects, they are either equal or not (even nonsense is either the same nonsense or different nonsense)."
   ]
  },
  {
   "cell_type": "code",
   "execution_count": 66,
   "metadata": {},
   "outputs": [
    {
     "data": {
      "text/html": [
       "<strong id=\"eq_in_bool\">eq_in_bool:</strong> <span style=\"font-size:20px;\"> <a class=\"ProveItLink\" href=\"../__pv_it/demonstrations/fff14180d7f0afa0877a404424c15aecb6bb3fcb0/proof.ipynb\" style=\"text-decoration: none\">&nbsp;&#x22A2;&nbsp;&nbsp;</a><a class=\"ProveItLink\" href=\"../__pv_it/demonstrations/efd7d5a9aac23264c2df40503eeaab75caf64b480/expr.ipynb\"><img src=\"data:image/png;base64,iVBORw0KGgoAAAANSUhEUgAAAGQAAAAUBAMAAACJ7oWmAAAAMFBMVEX///9UVFTMzMx2dna6uroQ\n",
       "EBCqqqqIiIgiIiJmZmYyMjJERETu7u6YmJjc3NwAAAC+aOQFAAAAAXRSTlMAQObYZgAAAXhJREFU\n",
       "KM9jYOC7wIADsD3AIXEau2gEkJBDFWNv3f0rQgTIWIfdpJVAfApNjIup4PTJCwy8E7Br+QbEzAWo\n",
       "YtwsF9gVNjBwYHcwyx8gwRMA4fDu6OiCamFL2MDwArslzA0gcgmYzbT9ANwWZp8NDJVAJt/k6THo\n",
       "zhavTGBgsASzTx1AOMxDUYFhL5Dp+oDrA0jIahUIgDzOcH4Nzz8GhltglXIIv0T8D2FgaAM6OZaB\n",
       "cwOaLfkHGL4zMGSA2RuQvM9814ABqIvzDwMHWtgwzGLg+czAoA/2ShTIbqgWhg2+IC2sGxjOK2BE\n",
       "C8s3qBY+ZFsYNjCCHHbegCGfAeGXhSDmX5DdDB5g4QBkLQJcIO+fT2CQQk9PXxiOXoB5fzqKLZdB\n",
       "4chdwNvIjOYwWYadQHIymM2RAE8wBsyWAiC7ecSLHpagaTlZDErgi8BsHmkflGTJgSuFg9Q2QFOP\n",
       "NSTBQAGuZMmAJVnCwD7cWk6RlMXwmoY7I/Ni9yYAbzdp3GrY9iAAAAAASUVORK5CYII=\n",
       "\" style=\"display:inline;vertical-align:middle;\" /></a></span><br>"
      ],
      "text/plain": [
       "eq_in_bool: |- (a = b) in BOOLEAN"
      ]
     },
     "execution_count": 66,
     "metadata": {},
     "output_type": "execute_result"
    }
   ],
   "source": [
    "eq_in_bool = Equals(a, b).deduce_in_bool()"
   ]
  },
  {
   "cell_type": "markdown",
   "metadata": {},
   "source": [
    "A singleton is a set with one element.  If $x=c$, then $x$ is in the singleton set of $\\{c\\}$:"
   ]
  },
  {
   "cell_type": "code",
   "execution_count": 67,
   "metadata": {},
   "outputs": [
    {
     "data": {
      "text/html": [
       "<strong id=\"in_singleton_truth\">in_singleton_truth:</strong> <span style=\"font-size:20px;\"><a class=\"ProveItLink\" href=\"../__pv_it/demonstrations/b9db0a4bee5999ad1629ad16e47639dca46d88c20/expr.ipynb\"><img src=\"data:image/png;base64,iVBORw0KGgoAAAANSUhEUgAAADEAAAAJBAMAAABpm9nvAAAAMFBMVEX///8QEBBmZmaqqqrMzMxE\n",
       "REQyMjIiIiKYmJh2dna6urrc3NxUVFSIiIju7u4AAAA6P00QAAAAAXRSTlMAQObYZgAAAHtJREFU\n",
       "CNdjYHh7Z9fNCwxoYO5dBwa+CRy17AlADmcaGCiAJLYbsCYwcD7g/Me1AU1LJQOPAQMfA2sAullM\n",
       "/yA0P4YtjFC1/g5gCmrPASDz/QSQAPOD+wy8D1D18DcwMBgwrDeIZ9iBbs8BhkcODG/uvtVoQLdo\n",
       "ZscFBgCPSyMOXHg89QAAAABJRU5ErkJggg==\n",
       "\" style=\"display:inline;vertical-align:middle;\" /></a> <a class=\"ProveItLink\" href=\"../__pv_it/demonstrations/8abba4b625f1cee97cc997a72b6c7954261b43970/proof.ipynb\" style=\"text-decoration: none\">&nbsp;&#x22A2;&nbsp;&nbsp;</a><a class=\"ProveItLink\" href=\"../__pv_it/demonstrations/a017591559b84d0d3360be8c38bbf30ea17138d20/expr.ipynb\"><img src=\"data:image/png;base64,iVBORw0KGgoAAAANSUhEUgAAAEIAAAAVBAMAAAAA8SWUAAAAMFBMVEX///8QEBBmZmaqqqrMzMxE\n",
       "REQyMjIiIiKYmJh2dna6urrc3NxUVFSIiIju7u4AAAA6P00QAAAAAXRSTlMAQObYZgAAAPRJREFU\n",
       "KM9jYMAGODQgtNM9BuyALxPGWuiAXQXHBxiLKQG7Cs4CTBaRKjjCy8vwqmCJfYDdjLd3dt28AOI9\n",
       "e4Cqc+5dBwZOAaDPJnDUsoNdfBpuGg+Iv92ANQHsK84HnP+4NoDEA+AqDEGhUMnAY8DAkAQ0g4EV\n",
       "IsUilgYEIJZrNSgk/kGMqwUS/GBXMHAjzACFJCOEmwMi/KEhK4BwB1D2/QRY6DI/uM/AC/aFLkqI\n",
       "8TcwMBiA/bLeIJ5hB1ic3QBZBdMBhkcOYNabu281GiAxenQdcnjM7LiAEepcUwmEOlLMCRBSQTh9\n",
       "MCDS2AIcKpiR0ikArdU/FvOY1jkAAAAASUVORK5CYII=\n",
       "\" style=\"display:inline;vertical-align:middle;\" /></a></span><br>"
      ],
      "text/plain": [
       "in_singleton_truth: {x = c} |- x in {c}"
      ]
     },
     "execution_count": 67,
     "metadata": {},
     "output_type": "execute_result"
    }
   ],
   "source": [
    "in_singleton_truth = Equals(x, c).derive_is_in_singleton([Equals(x, c)])"
   ]
  },
  {
   "cell_type": "markdown",
   "metadata": {},
   "source": [
    "## Not equals\n",
    "\n",
    "The `NotEquals` operation is a more way of expressing that two mathematical objects are not equal to each other."
   ]
  },
  {
   "cell_type": "code",
   "execution_count": 68,
   "metadata": {},
   "outputs": [],
   "source": [
    "from proveit.logic import NotEquals"
   ]
  },
  {
   "cell_type": "code",
   "execution_count": 69,
   "metadata": {},
   "outputs": [
    {
     "data": {
      "text/html": [
       "<strong id=\"a_neq_b\">a_neq_b:</strong> <a class=\"ProveItLink\" href=\"../__pv_it/demonstrations/f49b350932e4f6ceb5629f7cc34e6217f5522f0f0/expr.ipynb\"><img src=\"data:image/png;base64,iVBORw0KGgoAAAANSUhEUgAAADAAAAAUCAMAAAD84U6VAAAAOVBMVEX///8kJCQNDQ0oKChUVFSq\n",
       "qqrMzMwiIiJERESYmJgyMjK6urru7u4QEBCIiIh2dnZmZmbc3NwAAACwiO0fAAAAAXRSTlMAQObY\n",
       "ZgAAAMxJREFUKM+1ktEWgyAIhtmmZoqKvP/DjthZjdrydDEuPPyFfvwKwFk0hEvR05ZjLNNwg8uf\n",
       "KtEQEI1kPwSET5UZrwHaZqFTo1oO+6MBQHK1knaVSxfJ21FJ43Ff1tUockJZpBTLLJriAODVAlcp\n",
       "1Wyqu/rgrKakmAZQomZhD+hWa3NZrlY3CRCsh1t5OVk5rI3z4mNx7hJ4c2TaAYDz226U7ufJQTOv\n",
       "dBgDJ7VRv6Lcb+iu2rk5vApSbfPPR/Z0bay/AM7Dtz8DIJ/8ewK6EQfv9ZNvNwAAAABJRU5ErkJg\n",
       "gg==\n",
       "\" style=\"display:inline;vertical-align:middle;\" /></a><br>"
      ],
      "text/plain": [
       "a_neq_b: a != b"
      ]
     },
     "execution_count": 69,
     "metadata": {},
     "output_type": "execute_result"
    }
   ],
   "source": [
    "a_neq_b = NotEquals(a, b)"
   ]
  },
  {
   "cell_type": "code",
   "execution_count": 70,
   "metadata": {},
   "outputs": [
    {
     "data": {
      "text/html": [
       "<span style=\"font-size:20px;\"> <a class=\"ProveItLink\" href=\"../__pv_it/demonstrations/a643a303b66835b19e991ec568c9f91f3e22a5d90/proof.ipynb\" style=\"text-decoration: none\">&nbsp;&#x22A2;&nbsp;&nbsp;</a><a class=\"ProveItLink\" href=\"../__pv_it/demonstrations/524297cf574fa585d5adcd169786049b6fea3ddc0/expr.ipynb\"><img src=\"data:image/png;base64,iVBORw0KGgoAAAANSUhEUgAAALkAAAAUCAMAAADm8WxeAAAAOVBMVEX///8kJCQNDQ0oKChUVFTM\n",
       "zMx2dna6uroQEBCqqqqIiIgiIiJmZmYyMjJERETu7u6YmJjc3NwAAABfYoQ1AAAAAXRSTlMAQObY\n",
       "ZgAAAgFJREFUSMfFl9t2hCAMRWmLilzF///YIogKSYyudrU8zBknTjaGkKAQQsRF3I4xwN/mKB4N\n",
       "0jcHxUaFVg2egbvze/DKlG/y0dRJ3xy0vbeH7uqYOcjpeuXs7s49gZK+XXwT7B5adLFMyNvorHPN\n",
       "Ic0TSd8ctBsAmtVwIR+uV9Nakz4onkj6Nq9CDqGbRvMq5ON5u5vY7WneGogSAaFJ9bFu0Y5Wq76O\n",
       "+KHNOKm1LWs3siuuLWfAmSDNITSpr9VpUmkF3Xo8p8vj63P7PGYQVhfSR17r5dyj+81lnNP1VOWr\n",
       "ho5J+MGgSc1cM2fzZv19yOeccWveJzO75Ltva44xNgaCCco4Ak2q9sSx2Wy6gjHI9tq6HIM8gWHl\n",
       "Zq76nRBlY8CZYGDQpNW78tk8dCGPSGGdSpH6+cxxJl7NO2jSunD5keYu5T5USbkj8utyhEpMBs9P\n",
       "2WcLnHkxACbhB4Mm3TdLyI8kXXsgAZ1unWp2NjuU2Yhg5sWAM5E+hECT1jLjU7YtRorx2gFAVZPp\n",
       "/37/1Y5sHQb/HxoDxsR6IQJNWsMfUs0cotTX1HSg0AarxxpIx+XnNZ9QA8bETlwIdFO6Ec+3rSY8\n",
       "6IO/1P0hNCt9+HG3ve0vT1wAWtQTzz/fpt+zUy7lmzaIJ9BdqUP+fcj9371ZQGhV4sXqdt8s//E2\n",
       "V6FZvwHJnByMvoW3UQAAAABJRU5ErkJggg==\n",
       "\" style=\"display:inline;vertical-align:middle;\" /></a></span>"
      ],
      "text/plain": [
       "|- (a != b) = not(a = b)"
      ]
     },
     "execution_count": 70,
     "metadata": {},
     "output_type": "execute_result"
    }
   ],
   "source": [
    "a_neq_b.definition()"
   ]
  },
  {
   "cell_type": "markdown",
   "metadata": {},
   "source": [
    "From $\\lnot (a = b)$ one can derive $a \\neq b$ and vice-versa, folding and unfolding the `NotEquals`."
   ]
  },
  {
   "cell_type": "code",
   "execution_count": 71,
   "metadata": {},
   "outputs": [
    {
     "data": {
      "text/html": [
       "<span style=\"font-size:20px;\"><a class=\"ProveItLink\" href=\"../__pv_it/demonstrations/4f940505a8ca8ae31ca2514598eb9e8a488f9f230/expr.ipynb\"><img src=\"data:image/png;base64,iVBORw0KGgoAAAANSUhEUgAAAE4AAAAUBAMAAADRkRa/AAAAMFBMVEX///+6uroQEBCqqqqIiIgy\n",
       "MjJERETu7u6YmJjMzMxUVFTc3Nx2dnYiIiJmZmYAAAAutVgsAAAAAXRSTlMAQObYZgAAARZJREFU\n",
       "KM9jYECAHQw4APMGZB57AjY1ZbpAYjWyCOsGrIbFAXEpskAfdks/AzGPA5LAbazKGL+DnKSAEOC+\n",
       "gFUdD1g4ECHA8gBI7DvnVICqjnWJnwEDwzmEAFsD0BJthngQ+2goCIB8wFAfzv6bgaGV4e1dILgD\n",
       "FOAFaitqYHiGZq99AcMXBgZbCGcXEDMJMDC8L2C4gqbuKQP7HwaG+ajq1BjYf2IEH+NnFHVAe4E6\n",
       "mT8g3BcFYv5g4AOGjCxCHdAf7J8ZuAKsUc37CHI00B9gwAkKKGC4pDD0LjiAqm4FQx6QfIMU8MAA\n",
       "rXKZvUQAVV2dD9A4hkiC8QZJShcIpwMG9HTAtgGnulLC6RQMslF4ONM9xwYGADZYRSymyfx8AAAA\n",
       "AElFTkSuQmCC\n",
       "\" style=\"display:inline;vertical-align:middle;\" /></a> <a class=\"ProveItLink\" href=\"../__pv_it/demonstrations/b68e8ae325ae81d5d8a3bf2ff6d3b0fd19c5b47e0/proof.ipynb\" style=\"text-decoration: none\">&nbsp;&#x22A2;&nbsp;&nbsp;</a><a class=\"ProveItLink\" href=\"../__pv_it/demonstrations/f49b350932e4f6ceb5629f7cc34e6217f5522f0f0/expr.ipynb\"><img src=\"data:image/png;base64,iVBORw0KGgoAAAANSUhEUgAAADAAAAAUCAMAAAD84U6VAAAAOVBMVEX///8kJCQNDQ0oKChUVFSq\n",
       "qqrMzMwiIiJERESYmJgyMjK6urru7u4QEBCIiIh2dnZmZmbc3NwAAACwiO0fAAAAAXRSTlMAQObY\n",
       "ZgAAAMxJREFUKM+1ktEWgyAIhtmmZoqKvP/DjthZjdrydDEuPPyFfvwKwFk0hEvR05ZjLNNwg8uf\n",
       "KtEQEI1kPwSET5UZrwHaZqFTo1oO+6MBQHK1knaVSxfJ21FJ43Ff1tUockJZpBTLLJriAODVAlcp\n",
       "1Wyqu/rgrKakmAZQomZhD+hWa3NZrlY3CRCsh1t5OVk5rI3z4mNx7hJ4c2TaAYDz226U7ufJQTOv\n",
       "dBgDJ7VRv6Lcb+iu2rk5vApSbfPPR/Z0bay/AM7Dtz8DIJ/8ewK6EQfv9ZNvNwAAAABJRU5ErkJg\n",
       "gg==\n",
       "\" style=\"display:inline;vertical-align:middle;\" /></a></span>"
      ],
      "text/plain": [
       "{not(a = b)} |- a != b"
      ]
     },
     "execution_count": 71,
     "metadata": {},
     "output_type": "execute_result"
    }
   ],
   "source": [
    "a_neq_b.prove([Not(a_eq_b)])"
   ]
  },
  {
   "cell_type": "code",
   "execution_count": 72,
   "metadata": {},
   "outputs": [
    {
     "data": {
      "text/html": [
       "<table><tr><th>&nbsp;</th><th>step type</th><th>requirements</th><th>statement</th></tr>\n",
       "<tr><td><a name=\"-0x3672bcdba2031538_step0\">0</a></td><td>instantiation</td><td><a href=\"#-0x3672bcdba2031538_step1\">1</a>, <a href=\"#-0x3672bcdba2031538_step2\">2</a></td><td><span style=\"font-size:20px;\"><a class=\"ProveItLink\" href=\"../__pv_it/demonstrations/4f940505a8ca8ae31ca2514598eb9e8a488f9f230/expr.ipynb\"><img src=\"data:image/png;base64,iVBORw0KGgoAAAANSUhEUgAAAE4AAAAUBAMAAADRkRa/AAAAMFBMVEX///+6uroQEBCqqqqIiIgy\n",
       "MjJERETu7u6YmJjMzMxUVFTc3Nx2dnYiIiJmZmYAAAAutVgsAAAAAXRSTlMAQObYZgAAARZJREFU\n",
       "KM9jYECAHQw4APMGZB57AjY1ZbpAYjWyCOsGrIbFAXEpskAfdks/AzGPA5LAbazKGL+DnKSAEOC+\n",
       "gFUdD1g4ECHA8gBI7DvnVICqjnWJnwEDwzmEAFsD0BJthngQ+2goCIB8wFAfzv6bgaGV4e1dILgD\n",
       "FOAFaitqYHiGZq99AcMXBgZbCGcXEDMJMDC8L2C4gqbuKQP7HwaG+ajq1BjYf2IEH+NnFHVAe4E6\n",
       "mT8g3BcFYv5g4AOGjCxCHdAf7J8ZuAKsUc37CHI00B9gwAkKKGC4pDD0LjiAqm4FQx6QfIMU8MAA\n",
       "rXKZvUQAVV2dD9A4hkiC8QZJShcIpwMG9HTAtgGnulLC6RQMslF4ONM9xwYGADZYRSymyfx8AAAA\n",
       "AElFTkSuQmCC\n",
       "\" style=\"display:inline;vertical-align:middle;\" /></a> <a class=\"ProveItLink\" href=\"../__pv_it/demonstrations/b68e8ae325ae81d5d8a3bf2ff6d3b0fd19c5b47e0/proof.ipynb\" style=\"text-decoration: none\">&nbsp;&#x22A2;&nbsp;&nbsp;</a><a class=\"ProveItLink\" href=\"../__pv_it/demonstrations/f49b350932e4f6ceb5629f7cc34e6217f5522f0f0/expr.ipynb\"><img src=\"data:image/png;base64,iVBORw0KGgoAAAANSUhEUgAAADAAAAAUCAMAAAD84U6VAAAAOVBMVEX///8kJCQNDQ0oKChUVFSq\n",
       "qqrMzMwiIiJERESYmJgyMjK6urru7u4QEBCIiIh2dnZmZmbc3NwAAACwiO0fAAAAAXRSTlMAQObY\n",
       "ZgAAAMxJREFUKM+1ktEWgyAIhtmmZoqKvP/DjthZjdrydDEuPPyFfvwKwFk0hEvR05ZjLNNwg8uf\n",
       "KtEQEI1kPwSET5UZrwHaZqFTo1oO+6MBQHK1knaVSxfJ21FJ43Ff1tUockJZpBTLLJriAODVAlcp\n",
       "1Wyqu/rgrKakmAZQomZhD+hWa3NZrlY3CRCsh1t5OVk5rI3z4mNx7hJ4c2TaAYDz226U7ufJQTOv\n",
       "dBgDJ7VRv6Lcb+iu2rk5vApSbfPPR/Z0bay/AM7Dtz8DIJ/8ewK6EQfv9ZNvNwAAAABJRU5ErkJg\n",
       "gg==\n",
       "\" style=\"display:inline;vertical-align:middle;\" /></a></span></td></tr>\n",
       "<tr><td>&nbsp;</td><td colspan=4 style=\"text-align:left\"><span style=\"font-size:20px;\"><a class=\"ProveItLink\" href=\"../../../__pv_it/common/a2581dc5df71d9a30bad37de14965fa5fec97a240/expr.ipynb\"><img src=\"data:image/png;base64,iVBORw0KGgoAAAANSUhEUgAAAAsAAAAJBAMAAAAWSsseAAAALVBMVEX///9mZmaqqqrMzMxEREQy\n",
       "MjIiIiKYmJh2dna6urrc3NxUVFSIiIju7u4AAACJHQtQAAAAAXRSTlMAQObYZgAAAEJJREFUCNdj\n",
       "YLhzeuWJAwy8Dew5bAEMHBc43nIuYOBlYHFgAAG+A2DKzgBIMF04x8BzgWGegh/DcgaG22fuiBcw\n",
       "AAATyhBrnyPYZQAAAABJRU5ErkJggg==\n",
       "\" style=\"display:inline;vertical-align:middle;\" /></a> : <a class=\"ProveItLink\" href=\"../../../__pv_it/common/66c90e66682f107a881f2d666959f64e2e72ad750/expr.ipynb\"><img src=\"data:image/png;base64,iVBORw0KGgoAAAANSUhEUgAAAAsAAAAJBAMAAAAWSsseAAAAMFBMVEX///9UVFSqqqrMzMwiIiJE\n",
       "RESYmJgyMjK6urru7u4QEBCIiIh2dnZmZmbc3NwAAABRgo0vAAAAAXRSTlMAQObYZgAAAEdJREFU\n",
       "CNdjYOC7c3slAwND1wP2DwwMnMsYeAMYGHh/MrBsYGDgCmCYb8DAMP8Agz5QxXwFBnGmBwysG9gc\n",
       "eYAqpTc/3MEAAP4BD32xAXDqAAAAAElFTkSuQmCC\n",
       "\" style=\"display:inline;vertical-align:middle;\" /></a>, <a class=\"ProveItLink\" href=\"../../../__pv_it/common/0f21cbfd5644a1cae6781c1d58354abc2ffbc9000/expr.ipynb\"><img src=\"data:image/png;base64,iVBORw0KGgoAAAANSUhEUgAAAAsAAAANBAMAAACN24kIAAAAMFBMVEX///8iIiKYmJhUVFTMzMxE\n",
       "REQyMjKqqqq6urp2dnYQEBDc3NxmZmaIiIju7u4AAACH5sGpAAAAAXRSTlMAQObYZgAAAFlJREFU\n",
       "CNdj4LtzgWHXAwZOjgUM9xkYtvMkMIQyMDzgusDwl4GBof8ByxcgdYyBdwGQCmZgNQBShxn6FYDU\n",
       "47vnNzAwgGUZGJgT+H4AKUYF1gtAiuPuESAJAJGkFvXVdzA+AAAAAElFTkSuQmCC\n",
       "\" style=\"display:inline;vertical-align:middle;\" /></a> : <a class=\"ProveItLink\" href=\"../../../__pv_it/common/4a5db8cc5c67969ec864bd3ea598be37cb6f5e550/expr.ipynb\"><img src=\"data:image/png;base64,iVBORw0KGgoAAAANSUhEUgAAAAkAAAAOBAMAAAAPuiubAAAALVBMVEX///+YmJjc3NyIiIhUVFR2\n",
       "dna6urqqqqpmZmYyMjIiIiIQEBBERETu7u4AAAALjtrwAAAAAXRSTlMAQObYZgAAAE9JREFUCNdj\n",
       "4D29gAEIOBtAJF8BiMy7ACKjQATDFON2BgbelxfuKTCwv2XgM2DgmMBwLwCkPK+AgU+Aoe8CA18C\n",
       "70YGBhYBHqARvM2BDAwAqXgQspq5HJAAAAAASUVORK5CYII=\n",
       "\" style=\"display:inline;vertical-align:middle;\" /></a></span></td></tr><tr><td><a name=\"-0x3672bcdba2031538_step1\">1</a></td><td>theorem</td><td></td><td><span style=\"font-size:20px;\"> <a class=\"ProveItLink\" href=\"proofs/fold_not_equals/thm_proof.ipynb\" style=\"text-decoration: none\">&nbsp;&#x22A2;&nbsp;&nbsp;</a><a class=\"ProveItLink\" href=\"../__pv_it/theorems/9947de4646acc56fc2b15f600e9358ecec64346f0/expr.ipynb\"><img src=\"data:image/png;base64,iVBORw0KGgoAAAANSUhEUgAAALkAAAAWCAMAAACrOc1VAAAAOVBMVEX///8kJCQNDQ0oKCgQEBCI\n",
       "iIhmZma6urrMzMxUVFQiIiJERETc3Nzu7u6qqqp2dnaYmJgyMjIAAAD9T1yxAAAAAXRSTlMAQObY\n",
       "ZgAAAnFJREFUSMfFV+nS3SAIta2I+5L3f9hKjGYzmrnt3I8fmUkieIADImM/KjaO/wfX++otPVN7\n",
       "j/HrwJ2ZOJb63xVBD76+Jvd15MmO/yt88Jg8stVta74OPIpJyB8hBTiEeg/+10TPQi4facbJ8eBI\n",
       "rP5+eepPQ57jTTxaDIkO/wRiuqITPtjI4gCURVgZcBRz0nEgaIHlK0eCaDkx880ZPtJuruvvyqY0\n",
       "M5e1owamayMJaZU/v+kp9j2QKAJLKRFajKJW60yesqdeeM3EbZH2rWeHxTG0o5BbzwRhNAWEX5lG\n",
       "D4ifI5eviObU9QsvaXA7npPV8/q8ihNblsIpuYY+xIL+U+TPLWDcvPlOoAXum12XY85LRiwPyPNJ\n",
       "VR0MICRUJAj0VbsZct3RbdvtNm5p1a0PVzwHnv/ihe175FeyAN/s6s297bACx1RiGmtNZC8ln8V8\n",
       "a25NV5kq8WTDq36FelfKDtz4eDWqPmqFZl2hW+tKLTLWkWNgusjDBi4bQHPX7dnAq+NrZ8sk8Mws\n",
       "1+EL78erULR4WyXCjWbLwVf6rWAYc7Kmerp3G/LavkrGnQLIvfoy73WGKFoo6hZpo1d0O+MOhwbR\n",
       "hssZcmnOuipViScbqN6f/v5hohGb9+7SUeySq2M9V6whX7TM6WEz5MXKrntB12zE8H7i6oQ8FxFz\n",
       "Cx4mrlM+Igagk0Fyv0YJTBojt7Vz7LoXSjQbAuedr4a8c0LonEEDhyn3MV/5v231P+yKMJgyDzbS\n",
       "+5tF76qAmeVy4nG9MKk8KqQ3p/9gpttt+Pj+NoeTuX40bZBFjCG8QojPo0Oz4cRP3nfFKEMTgf99\n",
       "V/wLskgaj1Kxq7sAAAAASUVORK5CYII=\n",
       "\" style=\"display:inline;vertical-align:middle;\" /></a></span></td></tr>\n",
       "<tr><td>&nbsp;</td><td colspan=4 style-\"text-align:left\"><a class=\"ProveItLink\" href=\"proofs/fold_not_equals/thm_proof.ipynb\">proveit.logic.equality.fold_not_equals</a></td></tr><tr><td><a name=\"-0x3672bcdba2031538_step2\">2</a></td><td>assumption</td><td></td><td><span style=\"font-size:20px;\"><a class=\"ProveItLink\" href=\"../__pv_it/demonstrations/4f940505a8ca8ae31ca2514598eb9e8a488f9f230/expr.ipynb\"><img src=\"data:image/png;base64,iVBORw0KGgoAAAANSUhEUgAAAE4AAAAUBAMAAADRkRa/AAAAMFBMVEX///+6uroQEBCqqqqIiIgy\n",
       "MjJERETu7u6YmJjMzMxUVFTc3Nx2dnYiIiJmZmYAAAAutVgsAAAAAXRSTlMAQObYZgAAARZJREFU\n",
       "KM9jYECAHQw4APMGZB57AjY1ZbpAYjWyCOsGrIbFAXEpskAfdks/AzGPA5LAbazKGL+DnKSAEOC+\n",
       "gFUdD1g4ECHA8gBI7DvnVICqjnWJnwEDwzmEAFsD0BJthngQ+2goCIB8wFAfzv6bgaGV4e1dILgD\n",
       "FOAFaitqYHiGZq99AcMXBgZbCGcXEDMJMDC8L2C4gqbuKQP7HwaG+ajq1BjYf2IEH+NnFHVAe4E6\n",
       "mT8g3BcFYv5g4AOGjCxCHdAf7J8ZuAKsUc37CHI00B9gwAkKKGC4pDD0LjiAqm4FQx6QfIMU8MAA\n",
       "rXKZvUQAVV2dD9A4hkiC8QZJShcIpwMG9HTAtgGnulLC6RQMslF4ONM9xwYGADZYRSymyfx8AAAA\n",
       "AElFTkSuQmCC\n",
       "\" style=\"display:inline;vertical-align:middle;\" /></a> <a class=\"ProveItLink\" href=\"../__pv_it/demonstrations/bf1e10f63ab6a4c94ba828da715caf65647d38d90/proof.ipynb\" style=\"text-decoration: none\">&nbsp;&#x22A2;&nbsp;&nbsp;</a><a class=\"ProveItLink\" href=\"../__pv_it/demonstrations/4f940505a8ca8ae31ca2514598eb9e8a488f9f230/expr.ipynb\"><img src=\"data:image/png;base64,iVBORw0KGgoAAAANSUhEUgAAAE4AAAAUBAMAAADRkRa/AAAAMFBMVEX///+6uroQEBCqqqqIiIgy\n",
       "MjJERETu7u6YmJjMzMxUVFTc3Nx2dnYiIiJmZmYAAAAutVgsAAAAAXRSTlMAQObYZgAAARZJREFU\n",
       "KM9jYECAHQw4APMGZB57AjY1ZbpAYjWyCOsGrIbFAXEpskAfdks/AzGPA5LAbazKGL+DnKSAEOC+\n",
       "gFUdD1g4ECHA8gBI7DvnVICqjnWJnwEDwzmEAFsD0BJthngQ+2goCIB8wFAfzv6bgaGV4e1dILgD\n",
       "FOAFaitqYHiGZq99AcMXBgZbCGcXEDMJMDC8L2C4gqbuKQP7HwaG+ajq1BjYf2IEH+NnFHVAe4E6\n",
       "mT8g3BcFYv5g4AOGjCxCHdAf7J8ZuAKsUc37CHI00B9gwAkKKGC4pDD0LjiAqm4FQx6QfIMU8MAA\n",
       "rXKZvUQAVV2dD9A4hkiC8QZJShcIpwMG9HTAtgGnulLC6RQMslF4ONM9xwYGADZYRSymyfx8AAAA\n",
       "AElFTkSuQmCC\n",
       "\" style=\"display:inline;vertical-align:middle;\" /></a></span></td></tr>\n",
       "</table>"
      ],
      "text/plain": [
       "\tstep type\trequirements\tstatement\n",
       "0\tinstantiation\t1, 2\t{not(a = b)} |- a != b\n",
       "\tx : a, y : b\n",
       "1\ttheorem\t\t|- forall_{x, y | not(x = y)} (x != y)\n",
       "\tproveit.logic.equality.fold_not_equals\n",
       "2\tassumption\t\t{not(a = b)} |- not(a = b)"
      ]
     },
     "execution_count": 72,
     "metadata": {},
     "output_type": "execute_result"
    }
   ],
   "source": [
    "a_neq_b.prove([Not(a_eq_b)]).proof()"
   ]
  },
  {
   "cell_type": "code",
   "execution_count": 73,
   "metadata": {},
   "outputs": [
    {
     "data": {
      "text/html": [
       "<span style=\"font-size:20px;\"><a class=\"ProveItLink\" href=\"../__pv_it/demonstrations/f49b350932e4f6ceb5629f7cc34e6217f5522f0f0/expr.ipynb\"><img src=\"data:image/png;base64,iVBORw0KGgoAAAANSUhEUgAAADAAAAAUCAMAAAD84U6VAAAAOVBMVEX///8kJCQNDQ0oKChUVFSq\n",
       "qqrMzMwiIiJERESYmJgyMjK6urru7u4QEBCIiIh2dnZmZmbc3NwAAACwiO0fAAAAAXRSTlMAQObY\n",
       "ZgAAAMxJREFUKM+1ktEWgyAIhtmmZoqKvP/DjthZjdrydDEuPPyFfvwKwFk0hEvR05ZjLNNwg8uf\n",
       "KtEQEI1kPwSET5UZrwHaZqFTo1oO+6MBQHK1knaVSxfJ21FJ43Ff1tUockJZpBTLLJriAODVAlcp\n",
       "1Wyqu/rgrKakmAZQomZhD+hWa3NZrlY3CRCsh1t5OVk5rI3z4mNx7hJ4c2TaAYDz226U7ufJQTOv\n",
       "dBgDJ7VRv6Lcb+iu2rk5vApSbfPPR/Z0bay/AM7Dtz8DIJ/8ewK6EQfv9ZNvNwAAAABJRU5ErkJg\n",
       "gg==\n",
       "\" style=\"display:inline;vertical-align:middle;\" /></a> <a class=\"ProveItLink\" href=\"../__pv_it/demonstrations/f753f9c7f1c0a48c6ae7962b5b40a7484d5fae9d0/proof.ipynb\" style=\"text-decoration: none\">&nbsp;&#x22A2;&nbsp;&nbsp;</a><a class=\"ProveItLink\" href=\"../__pv_it/demonstrations/4f940505a8ca8ae31ca2514598eb9e8a488f9f230/expr.ipynb\"><img src=\"data:image/png;base64,iVBORw0KGgoAAAANSUhEUgAAAE4AAAAUBAMAAADRkRa/AAAAMFBMVEX///+6uroQEBCqqqqIiIgy\n",
       "MjJERETu7u6YmJjMzMxUVFTc3Nx2dnYiIiJmZmYAAAAutVgsAAAAAXRSTlMAQObYZgAAARZJREFU\n",
       "KM9jYECAHQw4APMGZB57AjY1ZbpAYjWyCOsGrIbFAXEpskAfdks/AzGPA5LAbazKGL+DnKSAEOC+\n",
       "gFUdD1g4ECHA8gBI7DvnVICqjnWJnwEDwzmEAFsD0BJthngQ+2goCIB8wFAfzv6bgaGV4e1dILgD\n",
       "FOAFaitqYHiGZq99AcMXBgZbCGcXEDMJMDC8L2C4gqbuKQP7HwaG+ajq1BjYf2IEH+NnFHVAe4E6\n",
       "mT8g3BcFYv5g4AOGjCxCHdAf7J8ZuAKsUc37CHI00B9gwAkKKGC4pDD0LjiAqm4FQx6QfIMU8MAA\n",
       "rXKZvUQAVV2dD9A4hkiC8QZJShcIpwMG9HTAtgGnulLC6RQMslF4ONM9xwYGADZYRSymyfx8AAAA\n",
       "AElFTkSuQmCC\n",
       "\" style=\"display:inline;vertical-align:middle;\" /></a></span>"
      ],
      "text/plain": [
       "{a != b} |- not(a = b)"
      ]
     },
     "execution_count": 73,
     "metadata": {},
     "output_type": "execute_result"
    }
   ],
   "source": [
    "Not(a_eq_b).prove([a_neq_b])"
   ]
  },
  {
   "cell_type": "code",
   "execution_count": 74,
   "metadata": {},
   "outputs": [
    {
     "data": {
      "text/html": [
       "<table><tr><th>&nbsp;</th><th>step type</th><th>requirements</th><th>statement</th></tr>\n",
       "<tr><td><a name=\"-0x44ffeeb031597f4e_step0\">0</a></td><td>instantiation</td><td><a href=\"#-0x44ffeeb031597f4e_step1\">1</a>, <a href=\"#-0x44ffeeb031597f4e_step2\">2</a></td><td><span style=\"font-size:20px;\"><a class=\"ProveItLink\" href=\"../__pv_it/demonstrations/f49b350932e4f6ceb5629f7cc34e6217f5522f0f0/expr.ipynb\"><img src=\"data:image/png;base64,iVBORw0KGgoAAAANSUhEUgAAADAAAAAUCAMAAAD84U6VAAAAOVBMVEX///8kJCQNDQ0oKChUVFSq\n",
       "qqrMzMwiIiJERESYmJgyMjK6urru7u4QEBCIiIh2dnZmZmbc3NwAAACwiO0fAAAAAXRSTlMAQObY\n",
       "ZgAAAMxJREFUKM+1ktEWgyAIhtmmZoqKvP/DjthZjdrydDEuPPyFfvwKwFk0hEvR05ZjLNNwg8uf\n",
       "KtEQEI1kPwSET5UZrwHaZqFTo1oO+6MBQHK1knaVSxfJ21FJ43Ff1tUockJZpBTLLJriAODVAlcp\n",
       "1Wyqu/rgrKakmAZQomZhD+hWa3NZrlY3CRCsh1t5OVk5rI3z4mNx7hJ4c2TaAYDz226U7ufJQTOv\n",
       "dBgDJ7VRv6Lcb+iu2rk5vApSbfPPR/Z0bay/AM7Dtz8DIJ/8ewK6EQfv9ZNvNwAAAABJRU5ErkJg\n",
       "gg==\n",
       "\" style=\"display:inline;vertical-align:middle;\" /></a> <a class=\"ProveItLink\" href=\"../__pv_it/demonstrations/f753f9c7f1c0a48c6ae7962b5b40a7484d5fae9d0/proof.ipynb\" style=\"text-decoration: none\">&nbsp;&#x22A2;&nbsp;&nbsp;</a><a class=\"ProveItLink\" href=\"../__pv_it/demonstrations/4f940505a8ca8ae31ca2514598eb9e8a488f9f230/expr.ipynb\"><img src=\"data:image/png;base64,iVBORw0KGgoAAAANSUhEUgAAAE4AAAAUBAMAAADRkRa/AAAAMFBMVEX///+6uroQEBCqqqqIiIgy\n",
       "MjJERETu7u6YmJjMzMxUVFTc3Nx2dnYiIiJmZmYAAAAutVgsAAAAAXRSTlMAQObYZgAAARZJREFU\n",
       "KM9jYECAHQw4APMGZB57AjY1ZbpAYjWyCOsGrIbFAXEpskAfdks/AzGPA5LAbazKGL+DnKSAEOC+\n",
       "gFUdD1g4ECHA8gBI7DvnVICqjnWJnwEDwzmEAFsD0BJthngQ+2goCIB8wFAfzv6bgaGV4e1dILgD\n",
       "FOAFaitqYHiGZq99AcMXBgZbCGcXEDMJMDC8L2C4gqbuKQP7HwaG+ajq1BjYf2IEH+NnFHVAe4E6\n",
       "mT8g3BcFYv5g4AOGjCxCHdAf7J8ZuAKsUc37CHI00B9gwAkKKGC4pDD0LjiAqm4FQx6QfIMU8MAA\n",
       "rXKZvUQAVV2dD9A4hkiC8QZJShcIpwMG9HTAtgGnulLC6RQMslF4ONM9xwYGADZYRSymyfx8AAAA\n",
       "AElFTkSuQmCC\n",
       "\" style=\"display:inline;vertical-align:middle;\" /></a></span></td></tr>\n",
       "<tr><td>&nbsp;</td><td colspan=4 style=\"text-align:left\"><span style=\"font-size:20px;\"><a class=\"ProveItLink\" href=\"../../../__pv_it/common/a2581dc5df71d9a30bad37de14965fa5fec97a240/expr.ipynb\"><img src=\"data:image/png;base64,iVBORw0KGgoAAAANSUhEUgAAAAsAAAAJBAMAAAAWSsseAAAALVBMVEX///9mZmaqqqrMzMxEREQy\n",
       "MjIiIiKYmJh2dna6urrc3NxUVFSIiIju7u4AAACJHQtQAAAAAXRSTlMAQObYZgAAAEJJREFUCNdj\n",
       "YLhzeuWJAwy8Dew5bAEMHBc43nIuYOBlYHFgAAG+A2DKzgBIMF04x8BzgWGegh/DcgaG22fuiBcw\n",
       "AAATyhBrnyPYZQAAAABJRU5ErkJggg==\n",
       "\" style=\"display:inline;vertical-align:middle;\" /></a> : <a class=\"ProveItLink\" href=\"../../../__pv_it/common/66c90e66682f107a881f2d666959f64e2e72ad750/expr.ipynb\"><img src=\"data:image/png;base64,iVBORw0KGgoAAAANSUhEUgAAAAsAAAAJBAMAAAAWSsseAAAAMFBMVEX///9UVFSqqqrMzMwiIiJE\n",
       "RESYmJgyMjK6urru7u4QEBCIiIh2dnZmZmbc3NwAAABRgo0vAAAAAXRSTlMAQObYZgAAAEdJREFU\n",
       "CNdjYOC7c3slAwND1wP2DwwMnMsYeAMYGHh/MrBsYGDgCmCYb8DAMP8Agz5QxXwFBnGmBwysG9gc\n",
       "eYAqpTc/3MEAAP4BD32xAXDqAAAAAElFTkSuQmCC\n",
       "\" style=\"display:inline;vertical-align:middle;\" /></a>, <a class=\"ProveItLink\" href=\"../../../__pv_it/common/0f21cbfd5644a1cae6781c1d58354abc2ffbc9000/expr.ipynb\"><img src=\"data:image/png;base64,iVBORw0KGgoAAAANSUhEUgAAAAsAAAANBAMAAACN24kIAAAAMFBMVEX///8iIiKYmJhUVFTMzMxE\n",
       "REQyMjKqqqq6urp2dnYQEBDc3NxmZmaIiIju7u4AAACH5sGpAAAAAXRSTlMAQObYZgAAAFlJREFU\n",
       "CNdj4LtzgWHXAwZOjgUM9xkYtvMkMIQyMDzgusDwl4GBof8ByxcgdYyBdwGQCmZgNQBShxn6FYDU\n",
       "47vnNzAwgGUZGJgT+H4AKUYF1gtAiuPuESAJAJGkFvXVdzA+AAAAAElFTkSuQmCC\n",
       "\" style=\"display:inline;vertical-align:middle;\" /></a> : <a class=\"ProveItLink\" href=\"../../../__pv_it/common/4a5db8cc5c67969ec864bd3ea598be37cb6f5e550/expr.ipynb\"><img src=\"data:image/png;base64,iVBORw0KGgoAAAANSUhEUgAAAAkAAAAOBAMAAAAPuiubAAAALVBMVEX///+YmJjc3NyIiIhUVFR2\n",
       "dna6urqqqqpmZmYyMjIiIiIQEBBERETu7u4AAAALjtrwAAAAAXRSTlMAQObYZgAAAE9JREFUCNdj\n",
       "4D29gAEIOBtAJF8BiMy7ACKjQATDFON2BgbelxfuKTCwv2XgM2DgmMBwLwCkPK+AgU+Aoe8CA18C\n",
       "70YGBhYBHqARvM2BDAwAqXgQspq5HJAAAAAASUVORK5CYII=\n",
       "\" style=\"display:inline;vertical-align:middle;\" /></a></span></td></tr><tr><td><a name=\"-0x44ffeeb031597f4e_step1\">1</a></td><td>theorem</td><td></td><td><span style=\"font-size:20px;\"> <a class=\"ProveItLink\" href=\"proofs/unfold_not_equals/thm_proof.ipynb\" style=\"text-decoration: none\">&nbsp;&#x22A2;&nbsp;&nbsp;</a><a class=\"ProveItLink\" href=\"../__pv_it/theorems/b0f13b620d3024b50bac13c56a90b21cd102cffc0/expr.ipynb\"><img src=\"data:image/png;base64,iVBORw0KGgoAAAANSUhEUgAAAL8AAAAWCAMAAACmJ70SAAAAOVBMVEX///8oKCgUFBQNDQ0QEBCI\n",
       "iIhmZma6urrMzMxUVFQiIiJERETc3Nzu7u6qqqp2dnaYmJgyMjIAAAArQGDrAAAAAXRSTlMAQObY\n",
       "ZgAAAk9JREFUWMPNV4tyrCAMpb2GNwL+/8deojwVRdt1ppnppmOS3UNyEiIhr4t2Tw3XMuta+/zc\n",
       "uVfgG/XUMBKhK23n9NibV/B7/dQwzIivtE5Z0OoV+I4+NYzFQqVT2kshPipSPzXcKMBUaWcNipbv\n",
       "NK98arjFSVbpRaFI+wp+oAODARCaQaLEacqBooeeVrbYGLxqwfFfdaOc7PIXuk/V2VCLBhPS5iQQ\n",
       "meeg9ZXk01vCkCywbL0TvVfNaNXTl3LV4ZT3Wb51FZVZbGOw4dh2MYRdp0/PhCJCtUGYI/k2jR/g\n",
       "fodfi/7ziZ04RoMpoAbFnZA/y0YzvpUhauu2M/wGvzI/w08KqAF3Q5ECXt7Brz3hIk1UykFEKjDA\n",
       "p9J08TeehNl+RKLJEX8xJFA9/peqrvSBODiZbLTSYssGGCI8kSz1TDgzn7r5z55inV7/wp/rRBz7\n",
       "N+GPhtlsPQmjy1+J9LHv3/AlNJ4nJMLnH9QGjweqi7/xJDCfRORJ10QWA1tmopY7qxwV6B3dqG11\n",
       "xcClGgRoFnDG/+JZNrF9RK70kc+rwQiAMNpvrI7oSdNPet5qZwoZc4bISqSJn+CPniKw9PsLueo6\n",
       "EZ/dH2ha3GSrM2OW0D3I4rDM4YkkDyXrzp/i2c7OfcTH9rfQbMQsrLO/NTVyzAJeKXxCRjMBynfx\n",
       "F892du4jri529aQAMlRXQWd/Pn3LCXa9mx/9+T+XzekQ8bH3FxbYz3cHv0oAvpyJsHT48f1VuRwi\n",
       "3nh/dLrVfSc8s7N2fP+66oY6RPwtoX8P0n+B2Bt/1EqtEwAAAABJRU5ErkJggg==\n",
       "\" style=\"display:inline;vertical-align:middle;\" /></a></span></td></tr>\n",
       "<tr><td>&nbsp;</td><td colspan=4 style-\"text-align:left\"><a class=\"ProveItLink\" href=\"proofs/unfold_not_equals/thm_proof.ipynb\">proveit.logic.equality.unfold_not_equals</a></td></tr><tr><td><a name=\"-0x44ffeeb031597f4e_step2\">2</a></td><td>assumption</td><td></td><td><span style=\"font-size:20px;\"><a class=\"ProveItLink\" href=\"../__pv_it/demonstrations/f49b350932e4f6ceb5629f7cc34e6217f5522f0f0/expr.ipynb\"><img src=\"data:image/png;base64,iVBORw0KGgoAAAANSUhEUgAAADAAAAAUCAMAAAD84U6VAAAAOVBMVEX///8kJCQNDQ0oKChUVFSq\n",
       "qqrMzMwiIiJERESYmJgyMjK6urru7u4QEBCIiIh2dnZmZmbc3NwAAACwiO0fAAAAAXRSTlMAQObY\n",
       "ZgAAAMxJREFUKM+1ktEWgyAIhtmmZoqKvP/DjthZjdrydDEuPPyFfvwKwFk0hEvR05ZjLNNwg8uf\n",
       "KtEQEI1kPwSET5UZrwHaZqFTo1oO+6MBQHK1knaVSxfJ21FJ43Ff1tUockJZpBTLLJriAODVAlcp\n",
       "1Wyqu/rgrKakmAZQomZhD+hWa3NZrlY3CRCsh1t5OVk5rI3z4mNx7hJ4c2TaAYDz226U7ufJQTOv\n",
       "dBgDJ7VRv6Lcb+iu2rk5vApSbfPPR/Z0bay/AM7Dtz8DIJ/8ewK6EQfv9ZNvNwAAAABJRU5ErkJg\n",
       "gg==\n",
       "\" style=\"display:inline;vertical-align:middle;\" /></a> <a class=\"ProveItLink\" href=\"../__pv_it/demonstrations/caff4efbfd0e4903215474275eae888ec1e1d3d10/proof.ipynb\" style=\"text-decoration: none\">&nbsp;&#x22A2;&nbsp;&nbsp;</a><a class=\"ProveItLink\" href=\"../__pv_it/demonstrations/f49b350932e4f6ceb5629f7cc34e6217f5522f0f0/expr.ipynb\"><img src=\"data:image/png;base64,iVBORw0KGgoAAAANSUhEUgAAADAAAAAUCAMAAAD84U6VAAAAOVBMVEX///8kJCQNDQ0oKChUVFSq\n",
       "qqrMzMwiIiJERESYmJgyMjK6urru7u4QEBCIiIh2dnZmZmbc3NwAAACwiO0fAAAAAXRSTlMAQObY\n",
       "ZgAAAMxJREFUKM+1ktEWgyAIhtmmZoqKvP/DjthZjdrydDEuPPyFfvwKwFk0hEvR05ZjLNNwg8uf\n",
       "KtEQEI1kPwSET5UZrwHaZqFTo1oO+6MBQHK1knaVSxfJ21FJ43Ff1tUockJZpBTLLJriAODVAlcp\n",
       "1Wyqu/rgrKakmAZQomZhD+hWa3NZrlY3CRCsh1t5OVk5rI3z4mNx7hJ4c2TaAYDz226U7ufJQTOv\n",
       "dBgDJ7VRv6Lcb+iu2rk5vApSbfPPR/Z0bay/AM7Dtz8DIJ/8ewK6EQfv9ZNvNwAAAABJRU5ErkJg\n",
       "gg==\n",
       "\" style=\"display:inline;vertical-align:middle;\" /></a></span></td></tr>\n",
       "</table>"
      ],
      "text/plain": [
       "\tstep type\trequirements\tstatement\n",
       "0\tinstantiation\t1, 2\t{a != b} |- not(a = b)\n",
       "\tx : a, y : b\n",
       "1\ttheorem\t\t|- forall_{x, y | x != y} not(x = y)\n",
       "\tproveit.logic.equality.unfold_not_equals\n",
       "2\tassumption\t\t{a != b} |- a != b"
      ]
     },
     "execution_count": 74,
     "metadata": {},
     "output_type": "execute_result"
    }
   ],
   "source": [
    "Not(a_eq_b).prove([a_neq_b]).proof()"
   ]
  },
  {
   "cell_type": "markdown",
   "metadata": {},
   "source": [
    "`NotEquals` also has a symmetry property which can be applied directly.  It can be proven  through automation."
   ]
  },
  {
   "cell_type": "code",
   "execution_count": 75,
   "metadata": {},
   "outputs": [
    {
     "data": {
      "text/html": [
       "<span style=\"font-size:20px;\"><a class=\"ProveItLink\" href=\"../__pv_it/demonstrations/f49b350932e4f6ceb5629f7cc34e6217f5522f0f0/expr.ipynb\"><img src=\"data:image/png;base64,iVBORw0KGgoAAAANSUhEUgAAADAAAAAUCAMAAAD84U6VAAAAOVBMVEX///8kJCQNDQ0oKChUVFSq\n",
       "qqrMzMwiIiJERESYmJgyMjK6urru7u4QEBCIiIh2dnZmZmbc3NwAAACwiO0fAAAAAXRSTlMAQObY\n",
       "ZgAAAMxJREFUKM+1ktEWgyAIhtmmZoqKvP/DjthZjdrydDEuPPyFfvwKwFk0hEvR05ZjLNNwg8uf\n",
       "KtEQEI1kPwSET5UZrwHaZqFTo1oO+6MBQHK1knaVSxfJ21FJ43Ff1tUockJZpBTLLJriAODVAlcp\n",
       "1Wyqu/rgrKakmAZQomZhD+hWa3NZrlY3CRCsh1t5OVk5rI3z4mNx7hJ4c2TaAYDz226U7ufJQTOv\n",
       "dBgDJ7VRv6Lcb+iu2rk5vApSbfPPR/Z0bay/AM7Dtz8DIJ/8ewK6EQfv9ZNvNwAAAABJRU5ErkJg\n",
       "gg==\n",
       "\" style=\"display:inline;vertical-align:middle;\" /></a> <a class=\"ProveItLink\" href=\"../__pv_it/demonstrations/2155b22132295037b26c1d7465d46fd9158005c00/proof.ipynb\" style=\"text-decoration: none\">&nbsp;&#x22A2;&nbsp;&nbsp;</a><a class=\"ProveItLink\" href=\"../__pv_it/demonstrations/35b4882727be83dd5e62418c0c8340b1f4e866e20/expr.ipynb\"><img src=\"data:image/png;base64,iVBORw0KGgoAAAANSUhEUgAAADAAAAAUCAMAAAD84U6VAAAAOVBMVEX///8kJCQNDQ0oKCjMzMyY\n",
       "mJjc3NyIiIhUVFR2dna6urqqqqpmZmYyMjIiIiIQEBBERETu7u4AAABpMeEWAAAAAXRSTlMAQObY\n",
       "ZgAAAM5JREFUKM+1UssSwyAItG1UVFDx/z+2SiZpNdqZHMqBcWRhl4dSa3M8/eac4jRgaFWJcPoN\n",
       "fpVQwpQgr/C+TLXCtuwt3iNQBNbiRVUeCAw6tKlp4UJcnTn4SOz1bP4zDZ8qgEp7Bmmh2J8EnHT1\n",
       "KDKRhMZ1gA36fJSq0Z5b8MNos+kTUpaqQlv0WeHs4ZH2Tg6eXUAo+9r8IfFrcAMBiwAgFWoAKjb3\n",
       "x+Evt5Kreh1BNSJG6/Swmcvque5qM2Dn5xVQ3TPie/jg/kyg/M/oG35JCDyhTAR0AAAAAElFTkSu\n",
       "QmCC\n",
       "\" style=\"display:inline;vertical-align:middle;\" /></a></span>"
      ],
      "text/plain": [
       "{a != b} |- b != a"
      ]
     },
     "execution_count": 75,
     "metadata": {},
     "output_type": "execute_result"
    }
   ],
   "source": [
    "NotEquals(b, a).prove([a_neq_b])"
   ]
  },
  {
   "cell_type": "markdown",
   "metadata": {},
   "source": [
    "Or explicitly via `derive_reversed`"
   ]
  },
  {
   "cell_type": "code",
   "execution_count": 76,
   "metadata": {},
   "outputs": [
    {
     "data": {
      "text/html": [
       "<span style=\"font-size:20px;\"><a class=\"ProveItLink\" href=\"../__pv_it/demonstrations/f49b350932e4f6ceb5629f7cc34e6217f5522f0f0/expr.ipynb\"><img src=\"data:image/png;base64,iVBORw0KGgoAAAANSUhEUgAAADAAAAAUCAMAAAD84U6VAAAAOVBMVEX///8kJCQNDQ0oKChUVFSq\n",
       "qqrMzMwiIiJERESYmJgyMjK6urru7u4QEBCIiIh2dnZmZmbc3NwAAACwiO0fAAAAAXRSTlMAQObY\n",
       "ZgAAAMxJREFUKM+1ktEWgyAIhtmmZoqKvP/DjthZjdrydDEuPPyFfvwKwFk0hEvR05ZjLNNwg8uf\n",
       "KtEQEI1kPwSET5UZrwHaZqFTo1oO+6MBQHK1knaVSxfJ21FJ43Ff1tUockJZpBTLLJriAODVAlcp\n",
       "1Wyqu/rgrKakmAZQomZhD+hWa3NZrlY3CRCsh1t5OVk5rI3z4mNx7hJ4c2TaAYDz226U7ufJQTOv\n",
       "dBgDJ7VRv6Lcb+iu2rk5vApSbfPPR/Z0bay/AM7Dtz8DIJ/8ewK6EQfv9ZNvNwAAAABJRU5ErkJg\n",
       "gg==\n",
       "\" style=\"display:inline;vertical-align:middle;\" /></a> <a class=\"ProveItLink\" href=\"../__pv_it/demonstrations/2155b22132295037b26c1d7465d46fd9158005c00/proof.ipynb\" style=\"text-decoration: none\">&nbsp;&#x22A2;&nbsp;&nbsp;</a><a class=\"ProveItLink\" href=\"../__pv_it/demonstrations/35b4882727be83dd5e62418c0c8340b1f4e866e20/expr.ipynb\"><img src=\"data:image/png;base64,iVBORw0KGgoAAAANSUhEUgAAADAAAAAUCAMAAAD84U6VAAAAOVBMVEX///8kJCQNDQ0oKCjMzMyY\n",
       "mJjc3NyIiIhUVFR2dna6urqqqqpmZmYyMjIiIiIQEBBERETu7u4AAABpMeEWAAAAAXRSTlMAQObY\n",
       "ZgAAAM5JREFUKM+1UssSwyAItG1UVFDx/z+2SiZpNdqZHMqBcWRhl4dSa3M8/eac4jRgaFWJcPoN\n",
       "fpVQwpQgr/C+TLXCtuwt3iNQBNbiRVUeCAw6tKlp4UJcnTn4SOz1bP4zDZ8qgEp7Bmmh2J8EnHT1\n",
       "KDKRhMZ1gA36fJSq0Z5b8MNos+kTUpaqQlv0WeHs4ZH2Tg6eXUAo+9r8IfFrcAMBiwAgFWoAKjb3\n",
       "x+Evt5Kreh1BNSJG6/Swmcvque5qM2Dn5xVQ3TPie/jg/kyg/M/oG35JCDyhTAR0AAAAAElFTkSu\n",
       "QmCC\n",
       "\" style=\"display:inline;vertical-align:middle;\" /></a></span>"
      ],
      "text/plain": [
       "{a != b} |- b != a"
      ]
     },
     "execution_count": 76,
     "metadata": {},
     "output_type": "execute_result"
    }
   ],
   "source": [
    "a_neq_b.prove([a_neq_b]).derive_reversed()"
   ]
  },
  {
   "cell_type": "markdown",
   "metadata": {},
   "source": [
    "If two objects are both equal and not equal, there is a contradiction."
   ]
  },
  {
   "cell_type": "code",
   "execution_count": 77,
   "metadata": {},
   "outputs": [
    {
     "data": {
      "text/html": [
       "<strong id=\"neq_contradiction\">neq_contradiction:</strong> <span style=\"font-size:20px;\"><a class=\"ProveItLink\" href=\"../__pv_it/demonstrations/983cbbd01fb9696d6f8bb12204ac8d0204636b8f0/expr.ipynb\"><img src=\"data:image/png;base64,iVBORw0KGgoAAAANSUhEUgAAADAAAAAOBAMAAACbXIJpAAAAMFBMVEX///9UVFSqqqrMzMwiIiJE\n",
       "RESYmJgyMjK6urru7u4QEBCIiIh2dnZmZmbc3NwAAABRgo0vAAAAAXRSTlMAQObYZgAAAJNJREFU\n",
       "GNNjYMACpi5hwAFqcUl8wiHO8ROHBI8DiOS7c3slmgS79F4FBoauB+wfQLzj5SAAtnZ+Jec/Bs5l\n",
       "DLwBaDr0JzD8ZuD9ycCyAU3iOgPnHwauAIb5Bhje4PjEMP8Agz4Dwo5CEPMbyJz5CgziTA9Qdfxg\n",
       "mJXAwLqBzZEHzSgxhlgGBk7pzQ93oEnM3ZPAAADExyjZCF2gNgAAAABJRU5ErkJggg==\n",
       "\" style=\"display:inline;vertical-align:middle;\" /></a>, <a class=\"ProveItLink\" href=\"../__pv_it/demonstrations/f49b350932e4f6ceb5629f7cc34e6217f5522f0f0/expr.ipynb\"><img src=\"data:image/png;base64,iVBORw0KGgoAAAANSUhEUgAAADAAAAAUCAMAAAD84U6VAAAAOVBMVEX///8kJCQNDQ0oKChUVFSq\n",
       "qqrMzMwiIiJERESYmJgyMjK6urru7u4QEBCIiIh2dnZmZmbc3NwAAACwiO0fAAAAAXRSTlMAQObY\n",
       "ZgAAAMxJREFUKM+1ktEWgyAIhtmmZoqKvP/DjthZjdrydDEuPPyFfvwKwFk0hEvR05ZjLNNwg8uf\n",
       "KtEQEI1kPwSET5UZrwHaZqFTo1oO+6MBQHK1knaVSxfJ21FJ43Ff1tUockJZpBTLLJriAODVAlcp\n",
       "1Wyqu/rgrKakmAZQomZhD+hWa3NZrlY3CRCsh1t5OVk5rI3z4mNx7hJ4c2TaAYDz226U7ufJQTOv\n",
       "dBgDJ7VRv6Lcb+iu2rk5vApSbfPPR/Z0bay/AM7Dtz8DIJ/8ewK6EQfv9ZNvNwAAAABJRU5ErkJg\n",
       "gg==\n",
       "\" style=\"display:inline;vertical-align:middle;\" /></a> <a class=\"ProveItLink\" href=\"../__pv_it/demonstrations/6c53a8a2ed57cdbb60ce3c63d289be17790664ca0/proof.ipynb\" style=\"text-decoration: none\">&nbsp;&#x22A2;&nbsp;&nbsp;</a><a class=\"ProveItLink\" href=\"../../booleans/__pv_it/common/bc5c31e39ae582b67c89fb24025b57f5b995e8890/expr.ipynb\"><img src=\"data:image/png;base64,iVBORw0KGgoAAAANSUhEUgAAAA4AAAAOBAMAAADtZjDiAAAAG1BMVEX///9UVFQQEBAiIiJmZmaI\n",
       "iIiqqqrMzMwAAADC2JlRAAAAAXRSTlMAQObYZgAAABlJREFUCNdjYGBgKGOAgFRa0s7GxkrGxoYA\n",
       "QSUGlQeagkgAAAAASUVORK5CYII=\n",
       "\" style=\"display:inline;vertical-align:middle;\" /></a></span><br>"
      ],
      "text/plain": [
       "neq_contradiction: {a = b, a != b} |- FALSE"
      ]
     },
     "execution_count": 77,
     "metadata": {},
     "output_type": "execute_result"
    }
   ],
   "source": [
    "neq_contradiction = a_neq_b.derive_contradiction([a_neq_b, a_eq_b])"
   ]
  },
  {
   "cell_type": "code",
   "execution_count": 78,
   "metadata": {},
   "outputs": [
    {
     "data": {
      "text/html": [
       "<strong id=\"a_neq_a\">a_neq_a:</strong> <a class=\"ProveItLink\" href=\"../__pv_it/demonstrations/5c207eb2a8208e45ef188c6010c8ebd1ec2376c40/expr.ipynb\"><img src=\"data:image/png;base64,iVBORw0KGgoAAAANSUhEUgAAADIAAAAUCAMAAAD4FJ6oAAAAOVBMVEX///8kJCQNDQ0oKChUVFSq\n",
       "qqrMzMwiIiJERESYmJgyMjK6urru7u4QEBCIiIh2dnZmZmbc3NwAAACwiO0fAAAAAXRSTlMAQObY\n",
       "ZgAAAKlJREFUKM+9k9kOAiEMRasCw5St9P8/VtCoBXRME2MfmkBOuXQDOLISQWkVtRFgglrE60Xc\n",
       "L0UqFcppKY53H7GQKgDyq7J4s8u5e3peCyymvXnyX0QkRty1tjxFODOeJZZ6YOS5Or6OZ4FFLs1b\n",
       "hjGXU7pn9NCSWGTbW4Bgh2dxEhkw3763bwaKJAIt1RBYNDm7avIwT7h06S0mzJJ6ulC9J7b8QQSO\n",
       "N+sKsYgHhqxexXYAAAAASUVORK5CYII=\n",
       "\" style=\"display:inline;vertical-align:middle;\" /></a><br>"
      ],
      "text/plain": [
       "a_neq_a: a != a"
      ]
     },
     "execution_count": 78,
     "metadata": {},
     "output_type": "execute_result"
    }
   ],
   "source": [
    "a_neq_a = NotEquals(a, a)"
   ]
  },
  {
   "cell_type": "code",
   "execution_count": 79,
   "metadata": {},
   "outputs": [
    {
     "data": {
      "text/html": [
       "<strong id=\"b_from_contradiction\">b_from_contradiction:</strong> <span style=\"font-size:20px;\"><a class=\"ProveItLink\" href=\"../__pv_it/demonstrations/5466a3811e3b48496ffb165506b566148a0c53440/expr.ipynb\"><img src=\"data:image/png;base64,iVBORw0KGgoAAAANSUhEUgAAAC8AAAAPBAMAAACGpYupAAAAMFBMVEX////MzMyYmJjc3NyIiIhU\n",
       "VFR2dna6urqqqqpmZmYyMjIiIiIQEBBERETu7u4AAACIO4EmAAAAAXRSTlMAQObYZgAAAMlJREFU\n",
       "GNNj4LuzgQEFeJ+9v2ZrAZDBNQFVgmGBCN+9SUCavwFN4kIRgyMvkK5/AOEz3d69CybRAZLIhogz\n",
       "XnmA0JH+FkgvdZkB4r56gDCKfWMgAwPfrwfvDYDcYIQdNfv/AF3F8Y+B3wHERbY8SY2BgXMBw/sE\n",
       "oBWnVgEBTIKXXQHkjXqgg5lRdPAyBDDwKzDMB9l7AFmClWEBA38B3yEQdwqKDqYEBlYFXnCYcMMD\n",
       "YIEYQ9pUoHOnJIG5fLF1aIEIA+y50CCBAADPFUJTsCu5JwAAAABJRU5ErkJggg==\n",
       "\" style=\"display:inline;vertical-align:middle;\" /></a>, <a class=\"ProveItLink\" href=\"../__pv_it/demonstrations/f2150d27dbf8c81d43464e2e294b2ee95b3d1f390/expr.ipynb\"><img src=\"data:image/png;base64,iVBORw0KGgoAAAANSUhEUgAAAIUAAAAUCAMAAACUPg7oAAAAOVBMVEX///8kJCQNDQ0oKCjMzMxU\n",
       "VFR2dna6uroQEBCqqqqIiIgiIiJmZmYyMjJERETu7u6YmJjc3NwAAABBIaITAAAAAXRSTlMAQObY\n",
       "ZgAAAcRJREFUSMelVtGShCAM4+4ERCgo//+xVyuuFoswszw4u1KSmLaAUkptq2oNt6nh8QJDw6Q3\n",
       "hhQfUynO/vilh2UIMFwkyO8LA0hEEAo2jKqAjl5tG+qJYQ3SXHanj8uYCBnmZkXTKmLw0jfYfCYx\n",
       "zeLSWK/yPSumZiqRYfOivustiE5O1afJMCNWEMMiOgl6WcKRFBNGMvCB2YIJy/xoh1hZcQ9Dhij1\n",
       "V8qQ8EEmr1d9Bn8bmck4YeyMiyBfpgKNv9/9ea1gYcjgXU1gsImpLDIVpmt57cDdysKVHO9qQuxY\n",
       "wcOQYa7TvmmcBzLEUAXkZlnBtbj8CiTf1301af6fhyGDqIK8s0e3NlVs2lx9UWDmSPKnTkfxMGTw\n",
       "TlCR149gZa+MBGDjDn3AHPa5m26qi5/5WKA/ZcfCkOFRnaTCnrlj1cl2FP76gElkn4bq/Km31SoM\n",
       "GZ6NiD5pxIxlIhi5JngzFpiIqV69VmyNfVDwMGSwUguksJjTI5hGtsICk3CfmTa9sGKDx+7Bw3aG\n",
       "ztab5EZ9LGrDuM4JQwydY+j70wySGmCIb2aMn+wtGGc6VkD/ehK/vuX0rDgZXq5q6/c3PtvJ5M7w\n",
       "D7GZFbd3/27+AAAAAElFTkSuQmCC\n",
       "\" style=\"display:inline;vertical-align:middle;\" /></a> <a class=\"ProveItLink\" href=\"../__pv_it/demonstrations/cbbee1daa1cd7a6fd63da28a84e9606b5fa93fca0/proof.ipynb\" style=\"text-decoration: none\">&nbsp;&#x22A2;&nbsp;&nbsp;</a><a class=\"ProveItLink\" href=\"../../../__pv_it/common/4a5db8cc5c67969ec864bd3ea598be37cb6f5e550/expr.ipynb\"><img src=\"data:image/png;base64,iVBORw0KGgoAAAANSUhEUgAAAAkAAAAOBAMAAAAPuiubAAAALVBMVEX///+YmJjc3NyIiIhUVFR2\n",
       "dna6urqqqqpmZmYyMjIiIiIQEBBERETu7u4AAAALjtrwAAAAAXRSTlMAQObYZgAAAE9JREFUCNdj\n",
       "4D29gAEIOBtAJF8BiMy7ACKjQATDFON2BgbelxfuKTCwv2XgM2DgmMBwLwCkPK+AgU+Aoe8CA18C\n",
       "70YGBhYBHqARvM2BDAwAqXgQspq5HJAAAAAASUVORK5CYII=\n",
       "\" style=\"display:inline;vertical-align:middle;\" /></a></span><br>"
      ],
      "text/plain": [
       "b_from_contradiction: {b in BOOLEAN, not(b) => (a != a)} |- b"
      ]
     },
     "execution_count": 79,
     "metadata": {},
     "output_type": "execute_result"
    }
   ],
   "source": [
    "b_from_contradiction = a_neq_a.affirm_via_contradiction(b, [Implies(Not(b), a_neq_a), in_bool(b)])"
   ]
  },
  {
   "cell_type": "code",
   "execution_count": 80,
   "metadata": {},
   "outputs": [],
   "source": [
    "%end demonstrations"
   ]
  },
  {
   "cell_type": "code",
   "execution_count": null,
   "metadata": {},
   "outputs": [],
   "source": []
  }
 ],
 "metadata": {
  "kernelspec": {
   "display_name": "Python 3",
   "language": "python",
   "name": "python3"
  }
 },
 "nbformat": 4,
 "nbformat_minor": 0
}