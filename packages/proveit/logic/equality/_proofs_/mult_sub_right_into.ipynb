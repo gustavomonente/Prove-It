{
 "cells": [
  {
   "cell_type": "markdown",
   "metadata": {},
   "source": [
    "Proof of <a class=\"ProveItLink\" href=\"../../../_context_.ipynb\">proveit</a>.<a class=\"ProveItLink\" href=\"../../_context_.ipynb\">logic</a>.<a class=\"ProveItLink\" href=\"../_context_.ipynb\">equality</a>.<a class=\"ProveItLink\" href=\"../_theorems_.ipynb#mult_sub_right_into\">mult_sub_right_into</a> theorem\n",
    "========"
   ]
  },
  {
   "cell_type": "code",
   "execution_count": 1,
   "metadata": {},
   "outputs": [],
   "source": [
    "import proveit\n",
    "context = proveit.Context('..') # the theorem's context is in the parent directory"
   ]
  },
  {
   "cell_type": "code",
   "execution_count": 2,
   "metadata": {},
   "outputs": [
    {
     "name": "stdout",
     "output_type": "stream",
     "text": [
      "Beginning proof of mult_sub_right_into\n",
      "Recorded 'presuming' information\n"
     ]
    },
    {
     "name": "stdout",
     "output_type": "stream",
     "text": [
      "Presuming previous theorems (applied transitively).\n"
     ]
    },
    {
     "data": {
      "text/html": [
       "<strong id=\"mult_sub_right_into\">mult_sub_right_into:</strong> <a class=\"ProveItLink\" href=\"../__pv_it/f618f0811bb888f256813fbe1ad313c3123c56e80/expr.ipynb\"><img src=\"data:image/png;base64,iVBORw0KGgoAAAANSUhEUgAAAkgAAAAZBAMAAAA4fcznAAAAMFBMVEX///8QEBCIiIhmZma6urrM\n",
       "zMxUVFQiIiJERETc3Nzu7u6qqqp2dnaYmJgyMjIAAAAcRTyBAAAAAXRSTlMAQObYZgAABWdJREFU\n",
       "WMPtWW1oW1UYfprcm+80IvijLUJnYZbSsSCKH/sgndANdJpWkP4oNhQ7cMwuYF1dmRr7Q7LJXFBw\n",
       "ozB2rbLhRBbUOisO79qJMDeJtP4QOshfhbnAQNYyp+fj3ptzP0NmhoT5Qm/Oe97nfW7uk3POe+4p\n",
       "4GWByf24202aPOANCOJ/Az6460Q6Xhd6notUph9X3EXyjDePxffe2DX+BBDJ1ZUWKDCRfqTt391F\n",
       "8ow3kSXIr/2WgtZCXVmRMhPpGLmGc+4iecabyEZU4LtOLNWZtsBEalWAWNFdJM94E9nGFPlTUW+1\n",
       "/pCJFL94+vRRj4XbM95EdoT87U2Fs3WmtaZYdbuRzx/wqm5e8SayW2TVuA5fEph9COF2L6gIiCWZ\n",
       "SGPAQS+RvOL/3mqto+kG3Ue+CZxVESoBah98FS+sCIiXmUhP8iXcVSQel47seWx3Y3aw/Mr5YrXQ\n",
       "XzZIJN+flxZ7yAMVES5uRSiHIVeoBuAWzTKRgvCVRMlfuYB1GUEkLf4z8ENDvm6If3C+l2qh/YXG\n",
       "iBRaYx8tKURwLxKdzz3qXvYZQJejwkSKlar76k8Xt+DrmOJXBJG0+C5SHBopEuOT1ZoblUyDtklZ\n",
       "XSRIaxhJY7vHWGcAk0jh8vPGtvSdGQXnOpMxcbpp8deBfCNFYnyB2kvObw3aJiX5A5HNjL+MdfAS\n",
       "iQM0wfh0w8EXiTxbBrvo8kNsbu49k0gsjsgqfFNkWHUNjtlIxU5pPYKKFbAtgymLSJwv6MKIhUfW\n",
       "a/ptMLt2PnuKE4huk+jNycoRyuBtT5EYYOmXB5LVhRtfELHifaWWAn9Pm4t9NmwSicYh3eylLyg9\n",
       "gfIEAhYVWKcuWEIZsAHUNfkei0ic76gLo08ZD/KnwleGS9b5QJ7YYc632y1FBBl2TTEquj8j/cVF\n",
       "OkMeOHJLa1Q9Bli+H220rXKR6CI18yASSoQNyTmoiyaR2CIW4xUw3VqCfN7ySLRTt5nt6LYCwh9n\n",
       "fTmLSJxvhwujjKt6c4fuDreb+IbbXVMcbrr171Fj9kRGu1a5SEE61PbRRka/TCocEJ7Ngq71rWku\n",
       "Upx+w1H0QX4tn58mIh0PmkRi8VBSWwBJtbHNp4RQgjYTKivArwY6LSJxvn43RqzqjRcMd8rMN+Wa\n",
       "4nBTw/Zriw6fbt/Y4lFFAwQ6JToQT4nnSfdhs4wMH0nSoP08KaG9vo2Q7Z3tkUhnfNMVXqkmCJUV\n",
       "EEy1pJfOrYgicb4hN0a5IoNn9OsuVSXwB7GrjM8mkpEigIybGkZecMdxJqWJZC+udDlmgJa0X03r\n",
       "L7ja4KxgYg7f0+YysGIXaYT83uFD4cpPhJg+0jElfIhdtM5oN7K0F69KFQrQovwSTD+Lz3NBUaQR\n",
       "NvhOwYGRXE7EyjEtY0V3BVUoH3WrCaaUKkj0tbsXSF2dJo2ztHrYh9osK7wEcALBp9L6UYlWlDLo\n",
       "LSFEfl7pjRQCNpF81x4nv1VH5OWnexX2SANFuQ0DBblN7xyTc7QX/d1lCpA7WJReOiCNvkuq/ZAg\n",
       "EuOj08yBkbROLi9c1DIe1l1BJMpH3epNTClVkOhr+64ctnWREfL+m2SRitunI11dGaAfvstMU9vx\n",
       "bXd+2uv4Nqr10slRtHRmfcu0N1IgVZYCokLWJzhMqDakxH0S177oxKi1eEbZCFRFonzMjTqmVEGi\n",
       "f1vHt7/Wf8Y9zyf/xk3k6xXMnZFM9DLtDajPcMC8kLVHKuMkvi3ZRELOiVFrsYxoSXcHrxsqUj7m\n",
       "zjulCCDRv32rTyThhnGnTtIrrajW7hJ2XrLvuLntdGIUZ8FHTpPC4Cs5pVhBd1ykO/B/N79pAtd6\n",
       "f+35zw+ipMl9/wBHTc/skulJagAAAABJRU5ErkJggg==\n",
       "\" style=\"display:inline;vertical-align:middle;\" /></a><br>(see <a class=\"ProveItLink\" href=\"../__pv_it/f618f0811bb888f256813fbe1ad313c3123c56e80/dependencies.ipynb\">dependencies</a>)<br>"
      ],
      "text/plain": [
       "mult_sub_right_into: forall_{n in Naturals} [forall_{P, x_{1}, ..x_{_a}.., x_{n}, y_{1}, ..y_{_a}.., y_{n} | P(x_{1}, ..x_{_a}.., x_{n}), x_{1} = y_{1}, ..x_{a} = y_{a}.., x_{n} = y_{n}} P(y_{1}, ..y_{_a}.., y_{n})]"
      ]
     },
     "execution_count": 2,
     "metadata": {},
     "output_type": "execute_result"
    }
   ],
   "source": [
    "%proving mult_sub_right_into presuming []"
   ]
  },
  {
   "cell_type": "code",
   "execution_count": null,
   "metadata": {},
   "outputs": [],
   "source": []
  }
 ],
 "metadata": {
  "kernelspec": {
   "display_name": "Python 3",
   "language": "python",
   "name": "python3"
  }
 },
 "nbformat": 4,
 "nbformat_minor": 0
}
