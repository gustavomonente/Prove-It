{
 "cells": [
  {
   "cell_type": "markdown",
   "metadata": {},
   "source": [
    "Proof of <a class=\"ProveItLink\" href=\"../../../_context_.ipynb\">proveit</a>.<a class=\"ProveItLink\" href=\"../../_context_.ipynb\">logic</a>.<a class=\"ProveItLink\" href=\"../_context_.ipynb\">equality</a>.<a class=\"ProveItLink\" href=\"../_theorems_.ipynb#unaryEvaluation\">unaryEvaluation</a> theorem\n",
    "========"
   ]
  },
  {
   "cell_type": "code",
   "execution_count": 1,
   "metadata": {},
   "outputs": [],
   "source": [
    "import proveit\n",
    "from proveit.logic import Equals\n",
    "from proveit.logic.equality._axioms_ import substitution\n",
    "from proveit._common_ import a, c, x, y, fa\n",
    "context = proveit.Context('..') # the theorem's context is in the parent directory"
   ]
  },
  {
   "cell_type": "code",
   "execution_count": 2,
   "metadata": {},
   "outputs": [
    {
     "name": "stdout",
     "output_type": "stream",
     "text": [
      "Beginning proof of unaryEvaluation\n",
      "Recorded 'presuming' information\n"
     ]
    },
    {
     "name": "stdout",
     "output_type": "stream",
     "text": [
      "Presuming previous theorems (applied transitively).\n"
     ]
    },
    {
     "data": {
      "text/html": [
       "<strong id=\"unaryEvaluation\">unaryEvaluation:</strong> <a class=\"ProveItLink\" href=\"../__pv_it/a334bdc28cca10a9659a62fde4f0e9e8ece49e320/expr.ipynb\"><img src=\"data:image/png;base64,iVBORw0KGgoAAAANSUhEUgAAAaMAAAAVBAMAAAAZX5wbAAAAMFBMVEX///8QEBCIiIhmZma6urrM\n",
       "zMxUVFQiIiJERETc3Nzu7u6qqqp2dnaYmJgyMjIAAAAcRTyBAAAAAXRSTlMAQObYZgAABFlJREFU\n",
       "WMPVV09olEcUf8lms7tfdjceImpDYcnWHqJCiGgV1G5bqLSUuvXQejOIOYhVchBFDDbHJKB+IBgv\n",
       "wgYPK6E0Cz2U9NCGeNBqtUsLag7Kin9ARVmsghoFZ+a9+Wa+2ZnsLnjxwW/n2/e933vz931vABqS\n",
       "RBnhkhmr9gxB+XDbdviuuJozN31GQ4UrbtYb0jmCS9ptHfJGEOy3f6PiW20B9rjiIhsdOelcK3GZ\n",
       "Kx7WG9IDgku8ikWZ9hEs0OUFxbfaAvziiovstL8onWslTvPlHakzolQfwi1zFt1/BIDpr3Maf87q\n",
       "IZmxx0U2OXLT5xTSBeatVGdIMR/hlkn1GJeGhwkAf4LOn7Qv9BL1PKbFRTY5ctMnFVKXpqYm6u27\n",
       "CYJb0rngMUprnhhCMLkQ4mu2utxVjzu0uMgmR24610q8GB0drjekLMHr2fO5ue6JTf0fsIXuC284\n",
       "Jq19CKZYthb5tba06XpWApw3NxxykM0dUfRa+lxPXmglBmmdNy2So48RfobrmaO8C0+ECN+f+ekq\n",
       "64Q4tJ8c4vITxoyXEUyeEl+3vSpc3BGzcgSOA9zijxHh4dD/Ki6yuSOKLuh6DyZK8YrQSnyBOSTZ\n",
       "M+se0hHCJfin8JVxBD6ECNtpHUOa7g9xNmMlBOvyc+TbbIXlLOwF+E3/Sj0K4iKbO6LoNfRhaC8J\n",
       "rUQMWsvuDY7SRSjAqPkq8gpiLFdFq/owb3NnLTkEC1NFvs2Wy6cF/rszlNK7ZFxkc0cU3aQzr6SV\n",
       "SJZjXNVZaGBIuAlC0jIC03kjzqm/IDSk5BDybbZcloM5pMSPfjAkwUZHT21Dahkxh5SofM8P5InN\n",
       "nJ3dPig+1/vzeOyMjQfR53iccScP8I/GrEiybWI3bEE9flTVxosPID9ki2fpPg/3WthvFVOOHp74\n",
       "auMJtnCE0QU93APSSsDYbq66wX962ysHWFPM7+RrFst9Z6SH31ur0Bueo+kS7Gf1WUr7pn8LRnpo\n",
       "ySDfYivkDdtdlB5Q2ipaehBs7oiim/RO9qoUSg/wq5i0tfwnny7j8w+82QBRYp1HtC3Eq2bxGs+k\n",
       "DibZ7Krk4lF5JVMqG0oO+bW2KOvBW8dSrnaSCiouspkjGd2kRwbgbF5oJaAzo/Jlp1jwbvgYGylb\n",
       "Ed6u3qxZ4Xq7Vp76iGWXvKog6THYBrANJN+0pcFf+Zf93lOKQS0uspkjGb2G/vfNDGolICWmZCkd\n",
       "UabxXsKxKfbnZRMFUVE72mAWRBchVBAV7QWRlpt9vSC6COGCqOjsQDH01nsFifFE9SrMJsZhRfRZ\n",
       "mTV3IfIuytaOgcd6RdBk2UrsZspWCHZJtNvb983qQrQbvlyVLbPm5JpevY4ca/ZywetXhth4JVSL\n",
       "NnO5GAvY8cYvF9o6dNCXO9Q0dgWML3IFTGV9dZ1z2Tpm7FzADq6AdjpNn/Y2fS0fXIFnLBfiehf1\n",
       "+SYu6nbbVKMX9XlnB+ZDb5P8o0r0cPP+yVtZ0ZLLtTtWXwAAAABJRU5ErkJggg==\n",
       "\" style=\"display:inline;vertical-align:middle;\" /></a><br>(see <a class=\"ProveItLink\" href=\"../__pv_it/a334bdc28cca10a9659a62fde4f0e9e8ece49e320/dependencies.ipynb\">dependencies</a>)<br>"
      ],
      "text/plain": [
       "unaryEvaluation: forall_{f, x, a, c} ((x = a) => ((f(a) = c) => (f(x) = c)))"
      ]
     },
     "execution_count": 2,
     "metadata": {},
     "output_type": "execute_result"
    }
   ],
   "source": [
    "%proving unaryEvaluation presuming []"
   ]
  },
  {
   "cell_type": "code",
   "execution_count": 3,
   "metadata": {},
   "outputs": [
    {
     "data": {
      "text/html": [
       "<span style=\"font-size:20px;\"> <a class=\"ProveItLink\" href=\"../_axioms_.ipynb#substitution\" style=\"text-decoration: none\">&#x22A2;&nbsp;</a><a class=\"ProveItLink\" href=\"../__pv_it/227f37bc1ee52abe3a92ac5130dc32c91fd40c720/expr.ipynb\"><img src=\"data:image/png;base64,iVBORw0KGgoAAAANSUhEUgAAAOcAAAAWBAMAAADJFJavAAAAMFBMVEX///8QEBCIiIhmZma6urrM\n",
       "zMxUVFQiIiJERETc3Nzu7u6qqqp2dnaYmJgyMjIAAAAcRTyBAAAAAXRSTlMAQObYZgAAAuNJREFU\n",
       "SMe1Vk1oE1EQniSbbLLZ/BwUD70sCXiQQsWiINga9CCIkuDBa4PoQVBYxJN66EmSQG0EQUGEtYg/\n",
       "PdiCB/Fk0INiRQKC6EHZgx4UKkEsSLz45s28/XHTlgQ68L1M3nx5X/bNm3kLMKpluv972fZm3GcM\n",
       "F798HkH0IQ7Gnv3soZ0dQAsxUm3CCn75MYLod7nKyl/20B4PoIUYhku4hU8/O7xmbjeOS0cr7KGZ\n",
       "VpQXZrwg5B1BXh5eVJcJfO558kGKUV6YcZeQe7O4eHOE3aXfvPI8aV+jvDAjXyH8aTSujCBaxuH9\n",
       "jknyFnbeGBd7+zJCUwyjbMF1B0yx0YgzAE0MH+hGfqFtIDonx1/kGZ3cBV0ckC8ysz+lcR6ZYWpF\n",
       "mBD76hIOy/MEZqkTWTi9gehlWX9r5JmO2ddE4p5GK5QZtxMuNEQp2wQd4l3e7WFEt8l20CPPgLQs\n",
       "gJkITTGcmIUPnewRzK6O0YIzgqhpK69gDRb1GFUnueaLZtyTWHbzU0gpnxAphkN1uOSL8iQEAmp7\n",
       "03XlzdRwPBLIaR1CjGmIi4LSbAI0T2P0Iw67Uu5F8dHpJ4u+KE6mGsLmvIA6SDGLvKwzAXGHD1LI\n",
       "FAOuSn11kOAJKsMkDrU8pjdzz47P+qI0CcEAcHUsVcirLs/DHayAaENiBuyDqlgm0SFwOqgECrJ3\n",
       "JDopK5DTgtdQVEDtZJW9+6WFKfxn3yKiiiEoB8Uy+RoBcvIIbQc6CTijV2K1gKiYTGGWVr2Aam2v\n",
       "IdwG7YhogDEt8IDB/D5kWpneO+hkWqDXqv7plZNKiQPU8LP1Vb/1D2z4PiPlGr/9hq+ajw3JMeP8\n",
       "sXEnOQbaqWu+qJxULA6gNUFvueytd7X5DL2btvyrLXBTZfnvwSPOcKROVYAu8Vy57V/nIXVvVY+h\n",
       "lfbigm0Cd/8PNXqRkO8T5zR3sKgKDH5dyW36uvKJwdkoiYEjXTj+dp2OpAJbaYktWvcfpC3c9HKM\n",
       "He8AAAAASUVORK5CYII=\n",
       "\" style=\"display:inline;vertical-align:middle;\" /></a></span>"
      ],
      "text/plain": [
       "|- forall_{f, x, y | x = y} (f(x) = f(y))"
      ]
     },
     "execution_count": 3,
     "metadata": {},
     "output_type": "execute_result"
    }
   ],
   "source": [
    "substitution"
   ]
  },
  {
   "cell_type": "code",
   "execution_count": 4,
   "metadata": {},
   "outputs": [
    {
     "data": {
      "text/html": [
       "<span style=\"font-size:20px;\"><a class=\"ProveItLink\" href=\"../__pv_it/7759fb8fe4e7f9374d1030766dd41f06081071a10/expr.ipynb\"><img src=\"data:image/png;base64,iVBORw0KGgoAAAANSUhEUgAAAEUAAAAVBAMAAADiLT7tAAAAMFBMVEX///+IiIi6urrc3NxERETM\n",
       "zMwQEBCqqqpUVFQiIiJ2dnYyMjLu7u5mZmaYmJgAAABN0h6tAAAAAXRSTlMAQObYZgAAAOZJREFU\n",
       "KM9jYGDgu8eAE7BePACieHYx4AFMqSCS7wM+NQy3QQTXBLxqVg6EGh7BZsWF6LK2a8WAHl8GYnJs\n",
       "YGA4xfBSYDaIs3o3COwF+zqZYT+Qeg9ilwUwMKxhWH9AGc2YYw8YrgAp7gsMDCGTgYwDDC4YDrl/\n",
       "gGEiiO4UYGBQCwCxPmKoSWHg+QoypwHkHgdQvHyFSEDcswMURb8Y2D/A3APyVw3jBwYZVGN4vgN9\n",
       "Uwz1F1AN03eWD8wP0OxyZHjZsAARPjyNMrLv0N1zQjC4UYGUcE4grIaY9MOAPx0mgSl2QukZAJNH\n",
       "SKvEwOT2AAAAAElFTkSuQmCC\n",
       "\" style=\"display:inline;vertical-align:middle;\" /></a> <a class=\"ProveItLink\" href=\"../__pv_it/dae1d48f4501f804128fae09872ffa979db1efaf0/proof.ipynb\" style=\"text-decoration: none\">&#x22A2;&nbsp;</a><a class=\"ProveItLink\" href=\"../__pv_it/099036941e744f9e0dc3e8fc1597f751c1c84bf30/expr.ipynb\"><img src=\"data:image/png;base64,iVBORw0KGgoAAAANSUhEUgAAAGgAAAAUBAMAAACT0mUoAAAAMFBMVEX///8yMjJERETMzMwQEBCY\n",
       "mJgiIiK6urqqqqp2dnZUVFTc3NyIiIhmZmbu7u4AAADOOTK3AAAAAXRSTlMAQObYZgAAAZNJREFU\n",
       "OMuFkz0sQ1EUx/9tVfXDVTFIJEKMGLobiJWhBl2QPFYkJgtDJ4MmymJSrNIObzGKDsa2acQiBk/S\n",
       "EBLJSwytxOC8+/Ga927LTc599+P3f++c884B5LiWzxy6DUn0mfzxWTXBxuVVzOzAe4gin6/yWQQU\n",
       "y5IdRB7ihWPNN2DNBc50jZeIlh0nbZo2XaKhi7wEm3OUBhA3XCKwo4l8xDAQftiuI1GnN1SK++Rb\n",
       "tO7XuARuCncWUKDVAPkYTAPvyJTXCeGZOBl0xqhQKSKygDHaLpHdpoDeLHCOC2uPAjA09xTRSOOe\n",
       "tgdkebIeCsTChEOEbE2kiGcLW7ScJTuVR8BPF5Ei5sG+pGgS4uMIOSeIGO2YRoRIEuxbJH+XbBEi\n",
       "zKOEjZpKhGdIgrUQS+Z4IlgTPM+RVtCOk7b/WC8IQWAamUu6fSR3bOETK9Wqy87PTflFisBHZaZE\n",
       "oQ3RK3j1tsvoVS8IL8EMHAbSzuqPgvUTVLAbvNIR7N4afoK2q0+CVS0W1JrQT0xpzYyV/9o9bOIX\n",
       "lyRyHb/D9XkAAAAASUVORK5CYII=\n",
       "\" style=\"display:inline;vertical-align:middle;\" /></a></span>"
      ],
      "text/plain": [
       "{x = a} |- f(x) = f(a)"
      ]
     },
     "execution_count": 4,
     "metadata": {},
     "output_type": "execute_result"
    }
   ],
   "source": [
    "substitution.specialize({y:a}, assumptions=[Equals(x, a)])"
   ]
  },
  {
   "cell_type": "code",
   "execution_count": 5,
   "metadata": {},
   "outputs": [
    {
     "data": {
      "text/html": [
       "<strong id=\"assumptions\">assumptions:</strong> <a class=\"ProveItLink\" href=\"../__pv_it/0038358095a9a73dcf95d8360862bac448e2a54a0/expr.ipynb\"><img src=\"data:image/png;base64,iVBORw0KGgoAAAANSUhEUgAAAJQAAAAUBAMAAACZogk/AAAAMFBMVEX////MzMxUVFR2dna6uroQ\n",
       "EBCqqqqIiIgiIiJmZmYyMjJERETu7u6YmJjc3NwAAACgK8IjAAAAAXRSTlMAQObYZgAAAfpJREFU\n",
       "OMuNlLtLK1EQxj/dGGOym5u/QAVB4RaynUa4YHPBTgvBwgfBykrji2BlsIjKbXxwuYX4xEYLDTaC\n",
       "YFxEiY8idl4sZBELLcSIYiEKztnjsvHkkM3Azg6cH9/OzM4cIHiBoszm+qWnXpPcubvK6ZjpcKWm\n",
       "lKmnZ8tdqmYg4nDqipQ5A7QZVyX15SiXa5BCShQ+01XKmyXncMfy77Xhzr0+JU7O4fzNUmodY+TT\n",
       "Q7fDUeHkPjxq8Ej7O03FMS44/6+LlPNaosQGgTD2KTddm/SxZjZtMttgp54ebNvkD/YZ4vDb9FOt\n",
       "mtX3HDaYwB5whQSJGsq7R2jZ8QUW7PgxRI44tRsVSWpdXEjKp6MW6EM7IQgkxZyXDUza8QBzxFW8\n",
       "w0cJlmTzWbIqhnyV8M06oT7ZceOXVFkSmZBEqhNcKmG9QnDqX2O/9pmPgGU74AVmdCtBTzyPZdbC\n",
       "2uk1xlFufJ+SV5Su2NvWAd72TAQ/adc0cdw/SIK1PQy0Rg7wIBzv4n+1rr7xYWeeuEBUm1CoZbrA\n",
       "zkGdBeYpLxzG0ovi9XAYq6xrxhTL1ZPl+UOtG7wZoRENiWP165L8auHF8TIpxfq9DnciX5x44XWm\n",
       "ctDrtzIuYp2RKiCVpufPGY9TrpdMwauP5XO5xGObC8g7ksq5aIu9kK+lp5qJT1wCj9b9Ew0YAAAA\n",
       "AElFTkSuQmCC\n",
       "\" style=\"display:inline;vertical-align:middle;\" /></a><br>"
      ],
      "text/plain": [
       "assumptions: (x = a, f(a) = c)"
      ]
     },
     "execution_count": 5,
     "metadata": {},
     "output_type": "execute_result"
    }
   ],
   "source": [
    "assumptions = [unaryEvaluation.instanceExpr.antecedent,\n",
    "              unaryEvaluation.instanceExpr.consequent.antecedent]"
   ]
  },
  {
   "cell_type": "code",
   "execution_count": 6,
   "metadata": {},
   "outputs": [
    {
     "data": {
      "text/html": [
       "<span style=\"font-size:20px;\"><a class=\"ProveItLink\" href=\"../__pv_it/1c8a9cd213734c155771d40565e05eaa33aa791c0/expr.ipynb\"><img src=\"data:image/png;base64,iVBORw0KGgoAAAANSUhEUgAAAJsAAAAVBAMAAACj9YEXAAAAMFBMVEX///+IiIi6urrc3NxERETM\n",
       "zMwQEBCqqqpUVFQiIiJ2dnYyMjLu7u5mZmaYmJgAAABN0h6tAAAAAXRSTlMAQObYZgAAAghJREFU\n",
       "OMtjYGDgu8dADcB68QCI4tlFrAbmBxC6GLs0UyqI5PtAhElnZQ0YGI5AORwG2BXdBhFcE4gwrqu+\n",
       "gIFhM5TDswG7opXEGsfz6RDQGxdg3IUUGscOChBOuB+PUWgcWI0lnMutQMC4gxJGUgJosrZrxQ5A\n",
       "WHzX5gI9KguK3FsXc4BaLmDYJyjKwLAMHE/AgOVZwDeRExTAq3eDwF5wvCcz7Iep5gdZ5QfEagbc\n",
       "QH/zgeMCSS3zdAZvBob3IGZZANDwA1x/mNCi/9gDhiswtj1QDcN0oLV5DLwOwKBEDx/OBQztwDAA\n",
       "OjpkMijmGFgc0N1//wDDRBi7HkQkMTDw/mHgBDqU9QOmWhDoBMqpBcC9gwJSGHi+ogQy0Dg2B4bz\n",
       "AViMS4HEUAMo7MDuigcbCg2PHSAH/4IkDzDwYIB49vwCsEOZJmCoBYH3sJhlPyDPwHgANeV+B0YS\n",
       "LHcmMkCi4nwBQze7ATQqkMA/oBHQmAUZp1/gz2CHpsSR4WXDAp7fkEwBItcyMLAI8M3gAgbhAjS1\n",
       "Nxh4riKluxOCB+89QFNyQjC4UYFhJsjNTGBfawLNbRS1EAIGUgB6slv3kLhcwQ4yjgscvIhMdhJf\n",
       "JkvAm72AuIIb7HLiigD85d1BIJ5yGsJ2JlBAgcs7BrylMchdDy9D2LDikwV78cmUBAmeeyQW7o9x\n",
       "1xUAu4yTVMZx+icAAAAASUVORK5CYII=\n",
       "\" style=\"display:inline;vertical-align:middle;\" /></a> <a class=\"ProveItLink\" href=\"../__pv_it/4f665cd29e87238dd971f027cb1c751c38be69540/proof.ipynb\" style=\"text-decoration: none\">&#x22A2;&nbsp;</a><a class=\"ProveItLink\" href=\"../__pv_it/77313b5c0f17eec00699248b78f2f213da4502800/expr.ipynb\"><img src=\"data:image/png;base64,iVBORw0KGgoAAAANSUhEUgAAAEwAAAAUBAMAAADVZMaCAAAAMFBMVEX///8yMjJERETMzMwQEBCY\n",
       "mJgiIiK6urqqqqp2dnZUVFTc3NyIiIhmZmbu7u4AAADOOTK3AAAAAXRSTlMAQObYZgAAASVJREFU\n",
       "KM9jYIAC7gAIzbGBAQd4exYo9QjGW41L2cr+BgYGaRjvIQ5VfN+fMzCwXoBxOQ9gV8bxAUiwwZ3E\n",
       "54BdGWcCkNiG4ItjVcV6JRdo4Vkg682p7SeBNs7FMOfMYSDJD3KMKtC2Caw5bAIMDIEgqYmCICAL\n",
       "DqoMBkUgtd8ASGQANT3g/McOdGIbmmFsExhWAKl+ENsdaBoDkwKIaY+m7P4DMDUNqgxqPYYyJwil\n",
       "xQCxFKgAZD1DGcJtUqAA+glR5sMA8QLHg/MMPA+gXkACX4FSoEgAsYGhUN+gz7AVyLyJpuwWA99l\n",
       "Bgb2D1CbXp15cxWUTITRg21qDIgEew8pshKwRUIXIzihEYr6JGjC0cafkGJuQ2h4stRmwAdgiZwV\n",
       "ayIHAPr1RCBNWy6CAAAAAElFTkSuQmCC\n",
       "\" style=\"display:inline;vertical-align:middle;\" /></a></span>"
      ],
      "text/plain": [
       "{x = a, f(a) = c} |- f(x) = c"
      ]
     },
     "execution_count": 6,
     "metadata": {},
     "output_type": "execute_result"
    }
   ],
   "source": [
    "unaryEvaluation.instanceExpr.consequent.consequent.concludeViaTransitivity(assumptions=assumptions)"
   ]
  },
  {
   "cell_type": "code",
   "execution_count": 7,
   "metadata": {},
   "outputs": [
    {
     "data": {
      "text/html": [
       "<span style=\"font-size:20px;\"> <a class=\"ProveItLink\" href=\"../__pv_it/805ec4eea6cca7d84ff888f7d58938a272727c570/proof.ipynb\" style=\"text-decoration: none\">&#x22A2;&nbsp;</a><a class=\"ProveItLink\" href=\"../__pv_it/733e81e73ade24bd95d1c1153258608d8ee5b1e20/expr.ipynb\"><img src=\"data:image/png;base64,iVBORw0KGgoAAAANSUhEUgAAAUkAAAAUBAMAAADyw9IGAAAAMFBMVEX////MzMxUVFR2dna6uroQ\n",
       "EBCqqqqIiIgiIiJmZmYyMjJERETu7u6YmJjc3NwAAACgK8IjAAAAAXRSTlMAQObYZgAAA2pJREFU\n",
       "SMelV81LVFEUP87oOM68p/MfzEBQ0EIGgtSimE0gEdhCKKjg0UpapFYgs2pIsCKoKQkryDRqUVQM\n",
       "LSNtiMSvxbgThWKQFm4iI6mNQefec5/vfr1X1oXzvN45v98575xz7z0PoHUJQsd56+oXITR8vF03\n",
       "UbetBjb9mV2Pk3LixXAnIWbDOhUSgPliPcDH7HbabYsc44yNS9bbQx3gxK8ivHQmLIupOgnArn4v\n",
       "wFt1ARZsixwT2/9Dsr4Q6gATtxzhJXRY1laEgLP5QcZ3WBniA+YaYWrHChLapidIUZL1KC9ngmna\n",
       "V7wpBBIbIONn7NE4bjIQpl9BS3q6AyjrUU5CqrA9baiIei+R4Ouz57pNVx5PDAaB6VTQkp7uAEoR\n",
       "p7MXPl/UA946OnYaHSmrmcbRXCYB9+51/FO06oosDg0CdBkMHAMrJ++DbL3LzPZQhpOiTGGw8+7V\n",
       "JKv9+HM+uLUj9RQm1OVb4t41Nm6RF+klEoA29mZTmu4BTvGMv+gIvAFYNRg4BuAnzXzrXE/2YN1L\n",
       "T3BSlBH8qRrfatTK0zkDLZigRElaO+fxovJIAL5m8DFi1+WaedgN0GcwMAy+wzea+db79FAOQ8zj\n",
       "pCi9aAXSFV2lZQuSGKqGDdnzp6zymgokVP4Mb9Nl41GVPbMGA8OIvSdZz5oeAJGi9G7nThlNFahl\n",
       "NMtrh0HxslNYtOmycQp068RANvnek6xnTQ8CL3n0sxmQqiLHDrM8D1Ujz+IDWqcTOMj4a5E9RZfq\n",
       "8jEL3Heu320wkM10zp+R9W7TA0GKgvWbqF6G5qr6JjUP9uLd6koXylHQds8JsRMsunz8QmqxKxQG\n",
       "2j1NYu/51lc1dBva8PzdgwdAj/dO6h6ELwPulTgWRz6oqRfieCmLQ8fZZP922XRp3AHnNsCowUCH\n",
       "Tq1AM9/6qF6XOZjPcFIUDPT7odmHemPk7Blcu4QHaia4+MVU5AAfGyJRpq54n0PL+Jw0GCi5PWLm\n",
       "W5/Ut8a+jwNEihJ9Q85JxzxoN2S8AsodN2e/IUsmA8ccVNFOKdSBuf/oNs6mloLOYcfdRiL3UkVH\n",
       "dxswvdPOjTUNKDdErzX9D53bNCTfTijoP3RukV1wOqILXh6XOtow3ZAgLIJbrCvokGCJiEDkF8Wn\n",
       "HXxR2HXdv/yisOtxUpTfujo/HV4DPloAAAAASUVORK5CYII=\n",
       "\" style=\"display:inline;vertical-align:middle;\" /></a></span>"
      ],
      "text/plain": [
       "|- (x = a) => ((f(a) = c) => (f(x) = c))"
      ]
     },
     "execution_count": 7,
     "metadata": {},
     "output_type": "execute_result"
    }
   ],
   "source": [
    "unaryEvaluation.instanceExpr.prove()"
   ]
  },
  {
   "cell_type": "code",
   "execution_count": 8,
   "metadata": {},
   "outputs": [
    {
     "data": {
      "text/html": [
       "<table><tr><th>&nbsp;</th><th>step type</th><th>requirements</th><th>statement</th></tr>\n",
       "<tr><td><a name=\"0x2d61970a16b6aa7e_step0\">0</a></td><td>generalizaton</td><td><a href=\"#0x2d61970a16b6aa7e_step1\">1</a></td><td><span style=\"font-size:20px;\"> <a class=\"ProveItLink\" href=\"../__pv_it/8373a658e8abff08222a783c8fbc7f727d8d09ea0/proof.ipynb\" style=\"text-decoration: none\">&#x22A2;&nbsp;</a><a class=\"ProveItLink\" href=\"../__pv_it/a334bdc28cca10a9659a62fde4f0e9e8ece49e320/expr.ipynb\"><img src=\"data:image/png;base64,iVBORw0KGgoAAAANSUhEUgAAAaMAAAAVBAMAAAAZX5wbAAAAMFBMVEX///8QEBCIiIhmZma6urrM\n",
       "zMxUVFQiIiJERETc3Nzu7u6qqqp2dnaYmJgyMjIAAAAcRTyBAAAAAXRSTlMAQObYZgAABFlJREFU\n",
       "WMPVV09olEcUf8lms7tfdjceImpDYcnWHqJCiGgV1G5bqLSUuvXQejOIOYhVchBFDDbHJKB+IBgv\n",
       "wgYPK6E0Cz2U9NCGeNBqtUsLag7Kin9ARVmsghoFZ+a9+Wa+2ZnsLnjxwW/n2/e933vz931vABqS\n",
       "RBnhkhmr9gxB+XDbdviuuJozN31GQ4UrbtYb0jmCS9ptHfJGEOy3f6PiW20B9rjiIhsdOelcK3GZ\n",
       "Kx7WG9IDgku8ikWZ9hEs0OUFxbfaAvziiovstL8onWslTvPlHakzolQfwi1zFt1/BIDpr3Maf87q\n",
       "IZmxx0U2OXLT5xTSBeatVGdIMR/hlkn1GJeGhwkAf4LOn7Qv9BL1PKbFRTY5ctMnFVKXpqYm6u27\n",
       "CYJb0rngMUprnhhCMLkQ4mu2utxVjzu0uMgmR24610q8GB0drjekLMHr2fO5ue6JTf0fsIXuC284\n",
       "Jq19CKZYthb5tba06XpWApw3NxxykM0dUfRa+lxPXmglBmmdNy2So48RfobrmaO8C0+ECN+f+ekq\n",
       "64Q4tJ8c4vITxoyXEUyeEl+3vSpc3BGzcgSOA9zijxHh4dD/Ki6yuSOKLuh6DyZK8YrQSnyBOSTZ\n",
       "M+se0hHCJfin8JVxBD6ECNtpHUOa7g9xNmMlBOvyc+TbbIXlLOwF+E3/Sj0K4iKbO6LoNfRhaC8J\n",
       "rUQMWsvuDY7SRSjAqPkq8gpiLFdFq/owb3NnLTkEC1NFvs2Wy6cF/rszlNK7ZFxkc0cU3aQzr6SV\n",
       "SJZjXNVZaGBIuAlC0jIC03kjzqm/IDSk5BDybbZcloM5pMSPfjAkwUZHT21Dahkxh5SofM8P5InN\n",
       "nJ3dPig+1/vzeOyMjQfR53iccScP8I/GrEiybWI3bEE9flTVxosPID9ki2fpPg/3WthvFVOOHp74\n",
       "auMJtnCE0QU93APSSsDYbq66wX962ysHWFPM7+RrFst9Z6SH31ur0Bueo+kS7Gf1WUr7pn8LRnpo\n",
       "ySDfYivkDdtdlB5Q2ipaehBs7oiim/RO9qoUSg/wq5i0tfwnny7j8w+82QBRYp1HtC3Eq2bxGs+k\n",
       "DibZ7Krk4lF5JVMqG0oO+bW2KOvBW8dSrnaSCiouspkjGd2kRwbgbF5oJaAzo/Jlp1jwbvgYGylb\n",
       "Ed6u3qxZ4Xq7Vp76iGWXvKog6THYBrANJN+0pcFf+Zf93lOKQS0uspkjGb2G/vfNDGolICWmZCkd\n",
       "UabxXsKxKfbnZRMFUVE72mAWRBchVBAV7QWRlpt9vSC6COGCqOjsQDH01nsFifFE9SrMJsZhRfRZ\n",
       "mTV3IfIuytaOgcd6RdBk2UrsZspWCHZJtNvb983qQrQbvlyVLbPm5JpevY4ca/ZywetXhth4JVSL\n",
       "NnO5GAvY8cYvF9o6dNCXO9Q0dgWML3IFTGV9dZ1z2Tpm7FzADq6AdjpNn/Y2fS0fXIFnLBfiehf1\n",
       "+SYu6nbbVKMX9XlnB+ZDb5P8o0r0cPP+yVtZ0ZLLtTtWXwAAAABJRU5ErkJggg==\n",
       "\" style=\"display:inline;vertical-align:middle;\" /></a></span></td></tr>\n",
       "<tr><td><a name=\"0x2d61970a16b6aa7e_step1\">1</a></td><td>hypothetical reasoning</td><td><a href=\"#0x2d61970a16b6aa7e_step2\">2</a></td><td><span style=\"font-size:20px;\"> <a class=\"ProveItLink\" href=\"../__pv_it/805ec4eea6cca7d84ff888f7d58938a272727c570/proof.ipynb\" style=\"text-decoration: none\">&#x22A2;&nbsp;</a><a class=\"ProveItLink\" href=\"../__pv_it/733e81e73ade24bd95d1c1153258608d8ee5b1e20/expr.ipynb\"><img src=\"data:image/png;base64,iVBORw0KGgoAAAANSUhEUgAAAUkAAAAUBAMAAADyw9IGAAAAMFBMVEX////MzMxUVFR2dna6uroQ\n",
       "EBCqqqqIiIgiIiJmZmYyMjJERETu7u6YmJjc3NwAAACgK8IjAAAAAXRSTlMAQObYZgAAA2pJREFU\n",
       "SMelV81LVFEUP87oOM68p/MfzEBQ0EIGgtSimE0gEdhCKKjg0UpapFYgs2pIsCKoKQkryDRqUVQM\n",
       "LSNtiMSvxbgThWKQFm4iI6mNQefec5/vfr1X1oXzvN45v98575xz7z0PoHUJQsd56+oXITR8vF03\n",
       "UbetBjb9mV2Pk3LixXAnIWbDOhUSgPliPcDH7HbabYsc44yNS9bbQx3gxK8ivHQmLIupOgnArn4v\n",
       "wFt1ARZsixwT2/9Dsr4Q6gATtxzhJXRY1laEgLP5QcZ3WBniA+YaYWrHChLapidIUZL1KC9ngmna\n",
       "V7wpBBIbIONn7NE4bjIQpl9BS3q6AyjrUU5CqrA9baiIei+R4Ouz57pNVx5PDAaB6VTQkp7uAEoR\n",
       "p7MXPl/UA946OnYaHSmrmcbRXCYB9+51/FO06oosDg0CdBkMHAMrJ++DbL3LzPZQhpOiTGGw8+7V\n",
       "JKv9+HM+uLUj9RQm1OVb4t41Nm6RF+klEoA29mZTmu4BTvGMv+gIvAFYNRg4BuAnzXzrXE/2YN1L\n",
       "T3BSlBH8qRrfatTK0zkDLZigRElaO+fxovJIAL5m8DFi1+WaedgN0GcwMAy+wzea+db79FAOQ8zj\n",
       "pCi9aAXSFV2lZQuSGKqGDdnzp6zymgokVP4Mb9Nl41GVPbMGA8OIvSdZz5oeAJGi9G7nThlNFahl\n",
       "NMtrh0HxslNYtOmycQp068RANvnek6xnTQ8CL3n0sxmQqiLHDrM8D1Ujz+IDWqcTOMj4a5E9RZfq\n",
       "8jEL3Heu320wkM10zp+R9W7TA0GKgvWbqF6G5qr6JjUP9uLd6koXylHQds8JsRMsunz8QmqxKxQG\n",
       "2j1NYu/51lc1dBva8PzdgwdAj/dO6h6ELwPulTgWRz6oqRfieCmLQ8fZZP922XRp3AHnNsCowUCH\n",
       "Tq1AM9/6qF6XOZjPcFIUDPT7odmHemPk7Blcu4QHaia4+MVU5AAfGyJRpq54n0PL+Jw0GCi5PWLm\n",
       "W5/Ut8a+jwNEihJ9Q85JxzxoN2S8AsodN2e/IUsmA8ccVNFOKdSBuf/oNs6mloLOYcfdRiL3UkVH\n",
       "dxswvdPOjTUNKDdErzX9D53bNCTfTijoP3RukV1wOqILXh6XOtow3ZAgLIJbrCvokGCJiEDkF8Wn\n",
       "HXxR2HXdv/yisOtxUpTfujo/HV4DPloAAAAASUVORK5CYII=\n",
       "\" style=\"display:inline;vertical-align:middle;\" /></a></span></td></tr>\n",
       "<tr><td><a name=\"0x2d61970a16b6aa7e_step2\">2</a></td><td>hypothetical reasoning</td><td><a href=\"#0x2d61970a16b6aa7e_step3\">3</a></td><td><span style=\"font-size:20px;\"><a class=\"ProveItLink\" href=\"../__pv_it/7759fb8fe4e7f9374d1030766dd41f06081071a10/expr.ipynb\"><img src=\"data:image/png;base64,iVBORw0KGgoAAAANSUhEUgAAAEUAAAAVBAMAAADiLT7tAAAAMFBMVEX///+IiIi6urrc3NxERETM\n",
       "zMwQEBCqqqpUVFQiIiJ2dnYyMjLu7u5mZmaYmJgAAABN0h6tAAAAAXRSTlMAQObYZgAAAOZJREFU\n",
       "KM9jYGDgu8eAE7BePACieHYx4AFMqSCS7wM+NQy3QQTXBLxqVg6EGh7BZsWF6LK2a8WAHl8GYnJs\n",
       "YGA4xfBSYDaIs3o3COwF+zqZYT+Qeg9ilwUwMKxhWH9AGc2YYw8YrgAp7gsMDCGTgYwDDC4YDrl/\n",
       "gGEiiO4UYGBQCwCxPmKoSWHg+QoypwHkHgdQvHyFSEDcswMURb8Y2D/A3APyVw3jBwYZVGN4vgN9\n",
       "Uwz1F1AN03eWD8wP0OxyZHjZsAARPjyNMrLv0N1zQjC4UYGUcE4grIaY9MOAPx0mgSl2QukZAJNH\n",
       "SKvEwOT2AAAAAElFTkSuQmCC\n",
       "\" style=\"display:inline;vertical-align:middle;\" /></a> <a class=\"ProveItLink\" href=\"../__pv_it/3b76da65356c7d0e88efd9f3e65a4da921913a8f0/proof.ipynb\" style=\"text-decoration: none\">&#x22A2;&nbsp;</a><a class=\"ProveItLink\" href=\"../__pv_it/b0584839c631d4dc1a42430c98d147a002a79df00/expr.ipynb\"><img src=\"data:image/png;base64,iVBORw0KGgoAAAANSUhEUgAAANYAAAAUBAMAAAAD7d6iAAAAMFBMVEX////MzMxUVFR2dna6uroQ\n",
       "EBCqqqqIiIgiIiJmZmYyMjJERETu7u6YmJjc3NwAAACgK8IjAAAAAXRSTlMAQObYZgAAAmFJREFU\n",
       "SMeVlj1oFEEUx//xPrJ3u3uktzAiGLAIVxk/yTUSC1ELC0GFlBaiFxDCQYrDIkgKiaYIafQMIWBA\n",
       "Se0XByKIFmunEZTFKo1wIkQEBd+8nbs3tze7mzzYnf/Ovt/s7ps3bxaofIS2rroJmxVDW6/Q+IFM\n",
       "/INS3vJDrcj2WUfFuK1TaG8zG3/G94/uaKXQltX5va1T6HKYifuLSgTnalopm7A65+qDfUJjC5m4\n",
       "w69ziw6n9+1vrc7eRdGvdSs07iET32ZxjI7tXne5ZvVeE7lft0JXmtl4QzVbl1fAqrK0fJU+d3Eg\n",
       "ALMzwPF47GDQw9TjzY5PTaTgr/jiNx1KnQnLHRqJZ/fEhrInnNnzeA58UbJ0l+1PNIjQLiX/G3yu\n",
       "L6Tg83zxk06kvGsoUeoWm7H3cqo4DFw3l8s6N0I708ApTLbPp+CXmKSPUar0Fw5l21An5vyorc4H\n",
       "+lKYQaELNEltvFDXiTh755oRV9hEMGJxvoL4syqHwt6zmC7UutFMxjkK7mgUj6DK+ZtvSsBXVbr+\n",
       "YuezPF8bkYUSQ6ZVDDGkopmM8+wW6tE8B9M4QoXLj6/8fxQonRuR5VtGbjCtcuPGcAdzSMY5kQMV\n",
       "AFJu3b+To3evxpwfwLsPLBmz1Y5aoSnR8ztuR9XiRJwDc0GHyBub+X6bFuNIfH2c/kTnx9JxULdC\n",
       "U+C8sbnGV6TgXGVOoq9GvbMXGSOVQ7NGMW3UqEScKkBx9KlZC/ZYezW9m9pLZdR52eorqHvZU4R2\n",
       "s/cU2u38Rij7nknFh7XulV26t1em4IP/AN+svv5u/wES8f+IgtFxaB5aqQAAAABJRU5ErkJggg==\n",
       "\" style=\"display:inline;vertical-align:middle;\" /></a></span></td></tr>\n",
       "<tr><td><a name=\"0x2d61970a16b6aa7e_step3\">3</a></td><td>instantiation</td><td><a href=\"#0x2d61970a16b6aa7e_step4\">4</a>, <a href=\"#0x2d61970a16b6aa7e_step5\">5</a>, <a href=\"#0x2d61970a16b6aa7e_step6\">6</a></td><td><span style=\"font-size:20px;\"><a class=\"ProveItLink\" href=\"../__pv_it/1c8a9cd213734c155771d40565e05eaa33aa791c0/expr.ipynb\"><img src=\"data:image/png;base64,iVBORw0KGgoAAAANSUhEUgAAAJsAAAAVBAMAAACj9YEXAAAAMFBMVEX///+IiIi6urrc3NxERETM\n",
       "zMwQEBCqqqpUVFQiIiJ2dnYyMjLu7u5mZmaYmJgAAABN0h6tAAAAAXRSTlMAQObYZgAAAghJREFU\n",
       "OMtjYGDgu8dADcB68QCI4tlFrAbmBxC6GLs0UyqI5PtAhElnZQ0YGI5AORwG2BXdBhFcE4gwrqu+\n",
       "gIFhM5TDswG7opXEGsfz6RDQGxdg3IUUGscOChBOuB+PUWgcWI0lnMutQMC4gxJGUgJosrZrxQ5A\n",
       "WHzX5gI9KguK3FsXc4BaLmDYJyjKwLAMHE/AgOVZwDeRExTAq3eDwF5wvCcz7Iep5gdZ5QfEagbc\n",
       "QH/zgeMCSS3zdAZvBob3IGZZANDwA1x/mNCi/9gDhiswtj1QDcN0oLV5DLwOwKBEDx/OBQztwDAA\n",
       "OjpkMijmGFgc0N1//wDDRBi7HkQkMTDw/mHgBDqU9QOmWhDoBMqpBcC9gwJSGHi+ogQy0Dg2B4bz\n",
       "AViMS4HEUAMo7MDuigcbCg2PHSAH/4IkDzDwYIB49vwCsEOZJmCoBYH3sJhlPyDPwHgANeV+B0YS\n",
       "LHcmMkCi4nwBQze7ATQqkMA/oBHQmAUZp1/gz2CHpsSR4WXDAp7fkEwBItcyMLAI8M3gAgbhAjS1\n",
       "Nxh4riKluxOCB+89QFNyQjC4UYFhJsjNTGBfawLNbRS1EAIGUgB6slv3kLhcwQ4yjgscvIhMdhJf\n",
       "JkvAm72AuIIb7HLiigD85d1BIJ5yGsJ2JlBAgcs7BrylMchdDy9D2LDikwV78cmUBAmeeyQW7o9x\n",
       "1xUAu4yTVMZx+icAAAAASUVORK5CYII=\n",
       "\" style=\"display:inline;vertical-align:middle;\" /></a> <a class=\"ProveItLink\" href=\"../__pv_it/4f665cd29e87238dd971f027cb1c751c38be69540/proof.ipynb\" style=\"text-decoration: none\">&#x22A2;&nbsp;</a><a class=\"ProveItLink\" href=\"../__pv_it/77313b5c0f17eec00699248b78f2f213da4502800/expr.ipynb\"><img src=\"data:image/png;base64,iVBORw0KGgoAAAANSUhEUgAAAEwAAAAUBAMAAADVZMaCAAAAMFBMVEX///8yMjJERETMzMwQEBCY\n",
       "mJgiIiK6urqqqqp2dnZUVFTc3NyIiIhmZmbu7u4AAADOOTK3AAAAAXRSTlMAQObYZgAAASVJREFU\n",
       "KM9jYIAC7gAIzbGBAQd4exYo9QjGW41L2cr+BgYGaRjvIQ5VfN+fMzCwXoBxOQ9gV8bxAUiwwZ3E\n",
       "54BdGWcCkNiG4ItjVcV6JRdo4Vkg682p7SeBNs7FMOfMYSDJD3KMKtC2Caw5bAIMDIEgqYmCICAL\n",
       "DqoMBkUgtd8ASGQANT3g/McOdGIbmmFsExhWAKl+ENsdaBoDkwKIaY+m7P4DMDUNqgxqPYYyJwil\n",
       "xQCxFKgAZD1DGcJtUqAA+glR5sMA8QLHg/MMPA+gXkACX4FSoEgAsYGhUN+gz7AVyLyJpuwWA99l\n",
       "Bgb2D1CbXp15cxWUTITRg21qDIgEew8pshKwRUIXIzihEYr6JGjC0cafkGJuQ2h4stRmwAdgiZwV\n",
       "ayIHAPr1RCBNWy6CAAAAAElFTkSuQmCC\n",
       "\" style=\"display:inline;vertical-align:middle;\" /></a></span></td></tr>\n",
       "<tr><td>&nbsp;</td><td colspan=4 style=\"text-align:left\"><span style=\"font-size:20px;\"><a class=\"ProveItLink\" href=\"../../../__pv_it/72df168d2bfb4e0140af90912ebf83b13772060b0/expr.ipynb\"><img src=\"data:image/png;base64,iVBORw0KGgoAAAANSUhEUgAAAAsAAAAJBAMAAAAWSsseAAAALVBMVEX///9mZmaqqqrMzMxEREQy\n",
       "MjIiIiKYmJh2dna6urrc3NxUVFSIiIju7u4AAACJHQtQAAAAAXRSTlMAQObYZgAAAEJJREFUCNdj\n",
       "YLhzeuWJAwy8Dew5bAEMHBc43nIuYOBlYHFgAAG+A2DKzgBIMF04x8BzgWGegh/DcgaG22fuiBcw\n",
       "AAATyhBrnyPYZQAAAABJRU5ErkJggg==\n",
       "\" style=\"display:inline;vertical-align:middle;\" /></a> : <a class=\"ProveItLink\" href=\"../../../__pv_it/70c10f7b19bdcd213f37cd4574da10e76f928c310/expr.ipynb\"><img src=\"data:image/png;base64,iVBORw0KGgoAAAANSUhEUgAAACUAAAAUBAMAAAD4luk4AAAAMFBMVEX///8yMjJERETMzMwQEBCY\n",
       "mJgiIiK6urqqqqp2dnZUVFTc3NyIiIhmZmbu7u4AAADOOTK3AAAAAXRSTlMAQObYZgAAAO9JREFU\n",
       "GNNjYICCrVC6G0K9PbuBgU8BKsa1AUyt7G9gYNwAFeMTAJPfnzMwxMLMYJgDIjg+AIlsuNgTEMGZ\n",
       "wMDAnQAXYyxgYGC9knuBgecC0Iwzq2uAGjmBTAb+AwwMTAEMDC8Zwg4kAtWALNlvwMDA1sDAMI9h\n",
       "/oNqoPEgY/qBmAVoyAMGJZB5zCArp0HFGBj+wMW0GCB6GZg/g8TYQXp9GCB29PF8YDgHsYPvOwPY\n",
       "Aew/mD5wA6V4JwDVfoBo4Ftz7mwoyM1AZ3CCQwTht2cMDF2MASAWShgkPQSzmJDDKuY2hAkLU7gk\n",
       "UthHMzAAABcoOI8ge5+JAAAAAElFTkSuQmCC\n",
       "\" style=\"display:inline;vertical-align:middle;\" /></a>, <a class=\"ProveItLink\" href=\"../../../__pv_it/c6e291955561f22a0e6708fd793ea93f1c7dbb5d0/expr.ipynb\"><img src=\"data:image/png;base64,iVBORw0KGgoAAAANSUhEUgAAAAsAAAANBAMAAACN24kIAAAAMFBMVEX///8iIiKYmJhUVFTMzMxE\n",
       "REQyMjKqqqq6urp2dnYQEBDc3NxmZmaIiIju7u4AAACH5sGpAAAAAXRSTlMAQObYZgAAAFlJREFU\n",
       "CNdj4LtzgWHXAwZOjgUM9xkYtvMkMIQyMDzgusDwl4GBof8ByxcgdYyBdwGQCmZgNQBShxn6FYDU\n",
       "47vnNzAwgGUZGJgT+H4AKUYF1gtAiuPuESAJAJGkFvXVdzA+AAAAAElFTkSuQmCC\n",
       "\" style=\"display:inline;vertical-align:middle;\" /></a> : <a class=\"ProveItLink\" href=\"../../../__pv_it/e80bce2a0c2e8c976be76e7b3ce08f76e74ec5550/expr.ipynb\"><img src=\"data:image/png;base64,iVBORw0KGgoAAAANSUhEUgAAACQAAAAUBAMAAAAXVIIGAAAAMFBMVEX///8yMjJERETMzMwQEBCY\n",
       "mJgiIiK6urqqqqp2dnZUVFTc3NyIiIhmZmbu7u4AAADOOTK3AAAAAXRSTlMAQObYZgAAAO9JREFU\n",
       "GNNjYICCrRCKYwOYent2AwOfAlRqNZhc2d/AwLgBKvQQRPB9f87AEAszgPMASPsHIJENE+JzAIkn\n",
       "MDBwJ8CEGMQZGFiv5F5g4LkA5Oyde+QBA8NcIIsfqJspgIGB3ZtBHsgNBOL9BgwMbA0MDE8CGC4B\n",
       "uW1A3A/ELAUMDPcfMOQAmfZAPA0q5MTA9xkqpMUA1sj3E+KcMiD2YQAbz/eDgUugG2w833eQ24CO\n",
       "0GEIWzCBgeEm0G6QanagU1+dsV4DNFIYqAAcBggPJTB0MQaAWMjeTgKHBgMTUuDE3IaohwWhNtz/\n",
       "sIBm3cAAAKczN4yPHsSgAAAAAElFTkSuQmCC\n",
       "\" style=\"display:inline;vertical-align:middle;\" /></a>, <a class=\"ProveItLink\" href=\"../../../__pv_it/0d889e00aed425c3081fbda3ac9194ae911895960/expr.ipynb\"><img src=\"data:image/png;base64,iVBORw0KGgoAAAANSUhEUgAAAAoAAAAJBAMAAAD5iKAgAAAAMFBMVEX///8yMjJ2dnaqqqpUVFTc\n",
       "3NxmZmaIiIhERETu7u6YmJjMzMwQEBAiIiK6uroAAABWQA0ZAAAAAXRSTlMAQObYZgAAADZJREFU\n",
       "CNdjYOC782AXA8OM5WkNDAwTGCIYgIC7E0Q+ARHMDiDSjIHBgYH7llbhAwY2hjVyDABOxArzLvBK\n",
       "ugAAAABJRU5ErkJggg==\n",
       "\" style=\"display:inline;vertical-align:middle;\" /></a> : <a class=\"ProveItLink\" href=\"../../../__pv_it/b2b446b221a34ee579eb9a1fbdd4ac4e2891d8c70/expr.ipynb\"><img src=\"data:image/png;base64,iVBORw0KGgoAAAANSUhEUgAAAAkAAAAJBAMAAAASvxsjAAAALVBMVEX///+YmJgQEBDu7u5mZmZU\n",
       "VFQyMjJERESqqqoiIiLc3NzMzMyIiIh2dnYAAABuqkWTAAAAAXRSTlMAQObYZgAAADZJREFUCNdj\n",
       "YGC4c2YDA8PKBvYEBoa5DKwNDCyPGYCAqQBE2l0AkXwCDAxA8QAGE6DKu4IHGABBiAr2Gi8OxgAA\n",
       "AABJRU5ErkJggg==\n",
       "\" style=\"display:inline;vertical-align:middle;\" /></a></span></td></tr><tr><td><a name=\"0x2d61970a16b6aa7e_step4\">4</a></td><td>axiom</td><td></td><td><span style=\"font-size:20px;\"> <a class=\"ProveItLink\" href=\"../_axioms_.ipynb#equalsTransitivity\" style=\"text-decoration: none\">&#x22A2;&nbsp;</a><a class=\"ProveItLink\" href=\"../__pv_it/62a78d8298863a1032c900aff4af282587b901b20/expr.ipynb\"><img src=\"data:image/png;base64,iVBORw0KGgoAAAANSUhEUgAAANEAAAAWBAMAAACs+WTQAAAAMFBMVEX///8QEBCIiIhmZma6urrM\n",
       "zMxUVFQiIiJERETc3Nzu7u6qqqp2dnaYmJgyMjIAAAAcRTyBAAAAAXRSTlMAQObYZgAAAnJJREFU\n",
       "SMetVU1oE0EU/prsTzfZJB4UBEGCgVKCh1wEQQ+hgkXwZ+NBxYsl2INQJYd6UKTkmBYiudQWQVyh\n",
       "KK0eAoKgUFhyTKUGFVSIsKB4KFSCIPhz8c3sZrOu2djAPFi+mfeY+d6+980MIM7uhYee02ezwUcR\n",
       "RLFyeEypARtssCWCKVkbkAX90DKhVhbB9GZQsEGZmIBeF8F0Y1DwAZBorq0tiSDSSgNLmwd+VCq3\n",
       "RDBFctSOA1cmGsHA5G65BZ2i08B8yGJpGKbRFvAE79JzbLL5ldknLoZq5jCVjiRxjAuj/+JhmFRq\n",
       "dhOvzBNB2XHBxam2KiItEUwj1AkTlT6RCyQ6uUPCa6kQxQR869ODKThMmn2O6f3QmEHOMaiUAJa2\n",
       "FntMeubstLtoYgo3e8AVN7dq9KoH+bszcfr0hY+fcTqmzPnLJBzzmko56SmzwPxH2ukeU1axZ5UK\n",
       "WRXWL3kXeRi4nuh6w6eIF5EOsoFfiuegOIrAU6KTsc28dycxzsOPfdUzkt0+aiulSNkDt+HdU086\n",
       "ln6PdrRg08+3X38GohYNUzz/n9x9FEW+PO/vU8q70KKWku4BtxWvHSXEitnMP5d1LrGfdkuyGidM\n",
       "3jGZuWexh8EiLvqYLsFQWNm3oeZH2AoGrkczZHMnt9Gj7uC+butYNnFd6hBoM+tlj0nrbMLqnhnj\n",
       "DLQFDq7d2Xi/0xvWsYdvG00U6jg+bhMk5L2mxxS7evJgN22peBvyPg6utQoL3pn4z6vht3qsxhRU\n",
       "Dz1Pq6iSmBwY6iUMZBGvKdZpBqFMM5LNXmoOQ73uH/6eJiC1LQahTKdesoI5INSiIjf7A4jqrxun\n",
       "Ivq8AAAAAElFTkSuQmCC\n",
       "\" style=\"display:inline;vertical-align:middle;\" /></a></span></td></tr>\n",
       "<tr><td>&nbsp;</td><td colspan=4 style-\"text-align:left\"><a class=\"ProveItLink\" href=\"../_axioms_.ipynb#equalsTransitivity\">proveit.logic.equality.equalsTransitivity</a></td></tr><tr><td><a name=\"0x2d61970a16b6aa7e_step5\">5</a></td><td>instantiation</td><td><a href=\"#0x2d61970a16b6aa7e_step7\">7</a>, <a href=\"#0x2d61970a16b6aa7e_step8\">8</a></td><td><span style=\"font-size:20px;\"><a class=\"ProveItLink\" href=\"../__pv_it/7759fb8fe4e7f9374d1030766dd41f06081071a10/expr.ipynb\"><img src=\"data:image/png;base64,iVBORw0KGgoAAAANSUhEUgAAAEUAAAAVBAMAAADiLT7tAAAAMFBMVEX///+IiIi6urrc3NxERETM\n",
       "zMwQEBCqqqpUVFQiIiJ2dnYyMjLu7u5mZmaYmJgAAABN0h6tAAAAAXRSTlMAQObYZgAAAOZJREFU\n",
       "KM9jYGDgu8eAE7BePACieHYx4AFMqSCS7wM+NQy3QQTXBLxqVg6EGh7BZsWF6LK2a8WAHl8GYnJs\n",
       "YGA4xfBSYDaIs3o3COwF+zqZYT+Qeg9ilwUwMKxhWH9AGc2YYw8YrgAp7gsMDCGTgYwDDC4YDrl/\n",
       "gGEiiO4UYGBQCwCxPmKoSWHg+QoypwHkHgdQvHyFSEDcswMURb8Y2D/A3APyVw3jBwYZVGN4vgN9\n",
       "Uwz1F1AN03eWD8wP0OxyZHjZsAARPjyNMrLv0N1zQjC4UYGUcE4grIaY9MOAPx0mgSl2QukZAJNH\n",
       "SKvEwOT2AAAAAElFTkSuQmCC\n",
       "\" style=\"display:inline;vertical-align:middle;\" /></a> <a class=\"ProveItLink\" href=\"../__pv_it/dae1d48f4501f804128fae09872ffa979db1efaf0/proof.ipynb\" style=\"text-decoration: none\">&#x22A2;&nbsp;</a><a class=\"ProveItLink\" href=\"../__pv_it/099036941e744f9e0dc3e8fc1597f751c1c84bf30/expr.ipynb\"><img src=\"data:image/png;base64,iVBORw0KGgoAAAANSUhEUgAAAGgAAAAUBAMAAACT0mUoAAAAMFBMVEX///8yMjJERETMzMwQEBCY\n",
       "mJgiIiK6urqqqqp2dnZUVFTc3NyIiIhmZmbu7u4AAADOOTK3AAAAAXRSTlMAQObYZgAAAZNJREFU\n",
       "OMuFkz0sQ1EUx/9tVfXDVTFIJEKMGLobiJWhBl2QPFYkJgtDJ4MmymJSrNIObzGKDsa2acQiBk/S\n",
       "EBLJSwytxOC8+/Ga927LTc599+P3f++c884B5LiWzxy6DUn0mfzxWTXBxuVVzOzAe4gin6/yWQQU\n",
       "y5IdRB7ihWPNN2DNBc50jZeIlh0nbZo2XaKhi7wEm3OUBhA3XCKwo4l8xDAQftiuI1GnN1SK++Rb\n",
       "tO7XuARuCncWUKDVAPkYTAPvyJTXCeGZOBl0xqhQKSKygDHaLpHdpoDeLHCOC2uPAjA09xTRSOOe\n",
       "tgdkebIeCsTChEOEbE2kiGcLW7ScJTuVR8BPF5Ei5sG+pGgS4uMIOSeIGO2YRoRIEuxbJH+XbBEi\n",
       "zKOEjZpKhGdIgrUQS+Z4IlgTPM+RVtCOk7b/WC8IQWAamUu6fSR3bOETK9Wqy87PTflFisBHZaZE\n",
       "oQ3RK3j1tsvoVS8IL8EMHAbSzuqPgvUTVLAbvNIR7N4afoK2q0+CVS0W1JrQT0xpzYyV/9o9bOIX\n",
       "lyRyHb/D9XkAAAAASUVORK5CYII=\n",
       "\" style=\"display:inline;vertical-align:middle;\" /></a></span></td></tr>\n",
       "<tr><td>&nbsp;</td><td colspan=4 style=\"text-align:left\"><span style=\"font-size:20px;\"><a class=\"ProveItLink\" href=\"../../../__pv_it/d7bbb04e874e28c7cefb21d4eea40806ae52f1f70/expr.ipynb\"><img src=\"data:image/png;base64,iVBORw0KGgoAAAANSUhEUgAAAAsAAAASBAMAAAB/WzlGAAAAMFBMVEX///8yMjJERETMzMwQEBCY\n",
       "mJgiIiK6urqqqqp2dnZUVFTc3NyIiIhmZmbu7u4AAADOOTK3AAAAAXRSTlMAQObYZgAAAFNJREFU\n",
       "CNdjYGBgeHt2A5BkWNnfACT5vj8HcTg+gEgGzgQQyXol9wKI5j8AFtxvAKb6wSTDNAilBaF8wCTf\n",
       "dzDFDjVEAUR2MQaAqKSHYLGY2yASAEu1ElmxJIVRAAAAAElFTkSuQmCC\n",
       "\" style=\"display:inline;vertical-align:middle;\" /></a> : <a class=\"ProveItLink\" href=\"../../../__pv_it/d7bbb04e874e28c7cefb21d4eea40806ae52f1f70/expr.ipynb\"><img src=\"data:image/png;base64,iVBORw0KGgoAAAANSUhEUgAAAAsAAAASBAMAAAB/WzlGAAAAMFBMVEX///8yMjJERETMzMwQEBCY\n",
       "mJgiIiK6urqqqqp2dnZUVFTc3NyIiIhmZmbu7u4AAADOOTK3AAAAAXRSTlMAQObYZgAAAFNJREFU\n",
       "CNdjYGBgeHt2A5BkWNnfACT5vj8HcTg+gEgGzgQQyXol9wKI5j8AFtxvAKb6wSTDNAilBaF8wCTf\n",
       "dzDFDjVEAUR2MQaAqKSHYLGY2yASAEu1ElmxJIVRAAAAAElFTkSuQmCC\n",
       "\" style=\"display:inline;vertical-align:middle;\" /></a>, <a class=\"ProveItLink\" href=\"../../../__pv_it/72df168d2bfb4e0140af90912ebf83b13772060b0/expr.ipynb\"><img src=\"data:image/png;base64,iVBORw0KGgoAAAANSUhEUgAAAAsAAAAJBAMAAAAWSsseAAAALVBMVEX///9mZmaqqqrMzMxEREQy\n",
       "MjIiIiKYmJh2dna6urrc3NxUVFSIiIju7u4AAACJHQtQAAAAAXRSTlMAQObYZgAAAEJJREFUCNdj\n",
       "YLhzeuWJAwy8Dew5bAEMHBc43nIuYOBlYHFgAAG+A2DKzgBIMF04x8BzgWGegh/DcgaG22fuiBcw\n",
       "AAATyhBrnyPYZQAAAABJRU5ErkJggg==\n",
       "\" style=\"display:inline;vertical-align:middle;\" /></a> : <a class=\"ProveItLink\" href=\"../../../__pv_it/72df168d2bfb4e0140af90912ebf83b13772060b0/expr.ipynb\"><img src=\"data:image/png;base64,iVBORw0KGgoAAAANSUhEUgAAAAsAAAAJBAMAAAAWSsseAAAALVBMVEX///9mZmaqqqrMzMxEREQy\n",
       "MjIiIiKYmJh2dna6urrc3NxUVFSIiIju7u4AAACJHQtQAAAAAXRSTlMAQObYZgAAAEJJREFUCNdj\n",
       "YLhzeuWJAwy8Dew5bAEMHBc43nIuYOBlYHFgAAG+A2DKzgBIMF04x8BzgWGegh/DcgaG22fuiBcw\n",
       "AAATyhBrnyPYZQAAAABJRU5ErkJggg==\n",
       "\" style=\"display:inline;vertical-align:middle;\" /></a>, <a class=\"ProveItLink\" href=\"../../../__pv_it/c6e291955561f22a0e6708fd793ea93f1c7dbb5d0/expr.ipynb\"><img src=\"data:image/png;base64,iVBORw0KGgoAAAANSUhEUgAAAAsAAAANBAMAAACN24kIAAAAMFBMVEX///8iIiKYmJhUVFTMzMxE\n",
       "REQyMjKqqqq6urp2dnYQEBDc3NxmZmaIiIju7u4AAACH5sGpAAAAAXRSTlMAQObYZgAAAFlJREFU\n",
       "CNdj4LtzgWHXAwZOjgUM9xkYtvMkMIQyMDzgusDwl4GBof8ByxcgdYyBdwGQCmZgNQBShxn6FYDU\n",
       "47vnNzAwgGUZGJgT+H4AKUYF1gtAiuPuESAJAJGkFvXVdzA+AAAAAElFTkSuQmCC\n",
       "\" style=\"display:inline;vertical-align:middle;\" /></a> : <a class=\"ProveItLink\" href=\"../../../__pv_it/a8d4b3a34d2189508f9082853fbac36935714f280/expr.ipynb\"><img src=\"data:image/png;base64,iVBORw0KGgoAAAANSUhEUgAAAAsAAAAJBAMAAAAWSsseAAAAMFBMVEX///9UVFSqqqrMzMwiIiJE\n",
       "RESYmJgyMjK6urru7u4QEBCIiIh2dnZmZmbc3NwAAABRgo0vAAAAAXRSTlMAQObYZgAAAEdJREFU\n",
       "CNdjYOC7c3slAwND1wP2DwwMnMsYeAMYGHh/MrBsYGDgCmCYb8DAMP8Agz5QxXwFBnGmBwysG9gc\n",
       "eYAqpTc/3MEAAP4BD32xAXDqAAAAAElFTkSuQmCC\n",
       "\" style=\"display:inline;vertical-align:middle;\" /></a></span></td></tr><tr><td><a name=\"0x2d61970a16b6aa7e_step6\">6</a></td><td>assumption</td><td></td><td><span style=\"font-size:20px;\"><a class=\"ProveItLink\" href=\"../__pv_it/75e1f13f2321e06978c108bea18eadcfb6e7b7ff0/expr.ipynb\"><img src=\"data:image/png;base64,iVBORw0KGgoAAAANSUhEUgAAAF8AAAAVBAMAAADSoS/MAAAAMFBMVEX///+IiIi6urrc3NxERETM\n",
       "zMwQEBCqqqpUVFQiIiJ2dnYyMjLu7u5mZmaYmJgAAABN0h6tAAAAAXRSTlMAQObYZgAAAYNJREFU\n",
       "OMtjYGDgu8dAHGC9eABE8exCCDE/gNDF2HUwpYJIvg9gDs/FywwMR6AyHAbYddwGEVwTIGqWf2dg\n",
       "2AyV4NmAXcNKJA3ndRQY+C7AZBYS1lAPxJxwlxwjrAHEtoTLcCsQ0vA28y4DgywooG5dzAEKXkBX\n",
       "yyUoysCwDOxbiAc/ArEfEKsZcAODjQ8suHo3COwFB/h0Bm8GhvcgZlkAWOArkJgODJ88Bl4HBgb2\n",
       "CWgWcC5gaAe6FGhxyGSwADsoNpIYGHj/MHAKACP1A5qG++BIZugEyqkFwH0C1MDmwHA+AIuGFEhY\n",
       "NID84ABisjRAnHR+ATiAmSYg/LADFJO/wBreI0KJTQDi6fMFDN3sBlBPI4F/QFdDQwmi4Two4NcC\n",
       "bRLgm8EF9MoCNA03GHiuosSDPojQBNrdKGohBHRsAHo0rHuIGnFLGFCSxkl8SSMB6LyGfeCUTlTi\n",
       "A+UHTh+IJ50JJG9wfmAA5jg+WYhjYBmIBXsGYkqCRPI9jCz6GHeeBgDlSWWT8PmDbQAAAABJRU5E\n",
       "rkJggg==\n",
       "\" style=\"display:inline;vertical-align:middle;\" /></a> <a class=\"ProveItLink\" href=\"../__pv_it/4852eef4d7bd28729d53e88b1c5abdfdc1b98c540/proof.ipynb\" style=\"text-decoration: none\">&#x22A2;&nbsp;</a><a class=\"ProveItLink\" href=\"../__pv_it/00075e5e75f499d302c8aee247aade0292d6c06d0/expr.ipynb\"><img src=\"data:image/png;base64,iVBORw0KGgoAAAANSUhEUgAAAEsAAAAUBAMAAAA3uN37AAAAMFBMVEX///8yMjJERETMzMwQEBCY\n",
       "mJgiIiK6urqqqqp2dnZUVFTc3NyIiIhmZmbu7u4AAADOOTK3AAAAAXRSTlMAQObYZgAAAS1JREFU\n",
       "KM9jYICCrRCKYwMDLvD27AYGPgUoZzVOZSv7GxgYYaY8xKWK7/tzBoZYGI/zAA5lHB+ARDZckwMO\n",
       "ZZwJDAzcCXCuOHZVrFdyLzDwXACy9s498oCBYS6GijlnDIAkP9A1TAEMDOzeDPJAbiDYBkEwAGlm\n",
       "2NbAJACk9gPVsjUwMDwJYLgE5LahG5bJwAWUZegHYpYCBob7DxhygEx7NFW8/yD0NKgyJwa+z1iU\n",
       "sUADXosBbCnfT0jQlCG5bQGQ+X4CRJkPA9gLfD8YuAS6oV5AAvxA3zWAIgGkG+gnHYawBUCdN9Hd\n",
       "toDhLdCT7CCb2IHB++qM9RqgE4XRfTozFBR/nGAnIiIrAWskdDEGgChCUZ8ESTlMBBJSzG2IXbBk\n",
       "qc2AF0ATOSv2RA4AIXZEsvsS3f4AAAAASUVORK5CYII=\n",
       "\" style=\"display:inline;vertical-align:middle;\" /></a></span></td></tr>\n",
       "<tr><td><a name=\"0x2d61970a16b6aa7e_step7\">7</a></td><td>axiom</td><td></td><td><span style=\"font-size:20px;\"> <a class=\"ProveItLink\" href=\"../_axioms_.ipynb#substitution\" style=\"text-decoration: none\">&#x22A2;&nbsp;</a><a class=\"ProveItLink\" href=\"../__pv_it/227f37bc1ee52abe3a92ac5130dc32c91fd40c720/expr.ipynb\"><img src=\"data:image/png;base64,iVBORw0KGgoAAAANSUhEUgAAAOcAAAAWBAMAAADJFJavAAAAMFBMVEX///8QEBCIiIhmZma6urrM\n",
       "zMxUVFQiIiJERETc3Nzu7u6qqqp2dnaYmJgyMjIAAAAcRTyBAAAAAXRSTlMAQObYZgAAAuNJREFU\n",
       "SMe1Vk1oE1EQniSbbLLZ/BwUD70sCXiQQsWiINga9CCIkuDBa4PoQVBYxJN66EmSQG0EQUGEtYg/\n",
       "PdiCB/Fk0INiRQKC6EHZgx4UKkEsSLz45s28/XHTlgQ68L1M3nx5X/bNm3kLMKpluv972fZm3GcM\n",
       "F798HkH0IQ7Gnv3soZ0dQAsxUm3CCn75MYLod7nKyl/20B4PoIUYhku4hU8/O7xmbjeOS0cr7KGZ\n",
       "VpQXZrwg5B1BXh5eVJcJfO558kGKUV6YcZeQe7O4eHOE3aXfvPI8aV+jvDAjXyH8aTSujCBaxuH9\n",
       "jknyFnbeGBd7+zJCUwyjbMF1B0yx0YgzAE0MH+hGfqFtIDonx1/kGZ3cBV0ckC8ysz+lcR6ZYWpF\n",
       "mBD76hIOy/MEZqkTWTi9gehlWX9r5JmO2ddE4p5GK5QZtxMuNEQp2wQd4l3e7WFEt8l20CPPgLQs\n",
       "gJkITTGcmIUPnewRzK6O0YIzgqhpK69gDRb1GFUnueaLZtyTWHbzU0gpnxAphkN1uOSL8iQEAmp7\n",
       "03XlzdRwPBLIaR1CjGmIi4LSbAI0T2P0Iw67Uu5F8dHpJ4u+KE6mGsLmvIA6SDGLvKwzAXGHD1LI\n",
       "FAOuSn11kOAJKsMkDrU8pjdzz47P+qI0CcEAcHUsVcirLs/DHayAaENiBuyDqlgm0SFwOqgECrJ3\n",
       "JDopK5DTgtdQVEDtZJW9+6WFKfxn3yKiiiEoB8Uy+RoBcvIIbQc6CTijV2K1gKiYTGGWVr2Aam2v\n",
       "IdwG7YhogDEt8IDB/D5kWpneO+hkWqDXqv7plZNKiQPU8LP1Vb/1D2z4PiPlGr/9hq+ajw3JMeP8\n",
       "sXEnOQbaqWu+qJxULA6gNUFvueytd7X5DL2btvyrLXBTZfnvwSPOcKROVYAu8Vy57V/nIXVvVY+h\n",
       "lfbigm0Cd/8PNXqRkO8T5zR3sKgKDH5dyW36uvKJwdkoiYEjXTj+dp2OpAJbaYktWvcfpC3c9HKM\n",
       "He8AAAAASUVORK5CYII=\n",
       "\" style=\"display:inline;vertical-align:middle;\" /></a></span></td></tr>\n",
       "<tr><td>&nbsp;</td><td colspan=4 style-\"text-align:left\"><a class=\"ProveItLink\" href=\"../_axioms_.ipynb#substitution\">proveit.logic.equality.substitution</a></td></tr><tr><td><a name=\"0x2d61970a16b6aa7e_step8\">8</a></td><td>assumption</td><td></td><td><span style=\"font-size:20px;\"><a class=\"ProveItLink\" href=\"../__pv_it/7759fb8fe4e7f9374d1030766dd41f06081071a10/expr.ipynb\"><img src=\"data:image/png;base64,iVBORw0KGgoAAAANSUhEUgAAAEUAAAAVBAMAAADiLT7tAAAAMFBMVEX///+IiIi6urrc3NxERETM\n",
       "zMwQEBCqqqpUVFQiIiJ2dnYyMjLu7u5mZmaYmJgAAABN0h6tAAAAAXRSTlMAQObYZgAAAOZJREFU\n",
       "KM9jYGDgu8eAE7BePACieHYx4AFMqSCS7wM+NQy3QQTXBLxqVg6EGh7BZsWF6LK2a8WAHl8GYnJs\n",
       "YGA4xfBSYDaIs3o3COwF+zqZYT+Qeg9ilwUwMKxhWH9AGc2YYw8YrgAp7gsMDCGTgYwDDC4YDrl/\n",
       "gGEiiO4UYGBQCwCxPmKoSWHg+QoypwHkHgdQvHyFSEDcswMURb8Y2D/A3APyVw3jBwYZVGN4vgN9\n",
       "Uwz1F1AN03eWD8wP0OxyZHjZsAARPjyNMrLv0N1zQjC4UYGUcE4grIaY9MOAPx0mgSl2QukZAJNH\n",
       "SKvEwOT2AAAAAElFTkSuQmCC\n",
       "\" style=\"display:inline;vertical-align:middle;\" /></a> <a class=\"ProveItLink\" href=\"../__pv_it/15da6339fc2ff0c696ac01254b389dcc9bd811ad0/proof.ipynb\" style=\"text-decoration: none\">&#x22A2;&nbsp;</a><a class=\"ProveItLink\" href=\"../__pv_it/0b57dc1e4cee4e8a5a24e01bcae87641c6df1f8e0/expr.ipynb\"><img src=\"data:image/png;base64,iVBORw0KGgoAAAANSUhEUgAAADMAAAAJBAMAAABtbgnSAAAAMFBMVEX///8QEBBmZmaqqqrMzMxE\n",
       "REQyMjIiIiKYmJh2dna6urrc3NxUVFSIiIju7u4AAAA6P00QAAAAAXRSTlMAQObYZgAAAIxJREFU\n",
       "CNdjYHh7Z9fNCwyogFtTV46BgW8CRy17ApDLmQYGCiCphRvYPgBFHnD+49qAqolPgoEpAEgxsAag\n",
       "GcfA9I+BHWwHP7pNDIwBDO8dQAx/MAmz6wCQ+X4Cgz2QYn5wn4H3Aaqu9wYMx5g3MKw3iGfYgWYg\n",
       "6wWOGk4Ghjd332o0oEnxnb2y5xYDADInJ4HgyZ2uAAAAAElFTkSuQmCC\n",
       "\" style=\"display:inline;vertical-align:middle;\" /></a></span></td></tr>\n",
       "</table>"
      ],
      "text/plain": [
       "\tstep type\trequirements\tstatement\n",
       "0\tgeneralizaton\t1\t|- forall_{f, x, a, c} ((x = a) => ((f(a) = c) => (f(x) = c)))\n",
       "1\thypothetical reasoning\t2\t|- (x = a) => ((f(a) = c) => (f(x) = c))\n",
       "2\thypothetical reasoning\t3\t{x = a} |- (f(a) = c) => (f(x) = c)\n",
       "3\tinstantiation\t4, 5, 6\t{x = a, f(a) = c} |- f(x) = c\n",
       "\tx : f(x), y : f(a), z : c\n",
       "4\taxiom\t\t|- forall_{x, y, z | x = y, y = z} (x = z)\n",
       "\tproveit.logic.equality.equalsTransitivity\n",
       "5\tinstantiation\t7, 8\t{x = a} |- f(x) = f(a)\n",
       "\tf : f, x : x, y : a\n",
       "6\tassumption\t\t{f(a) = c} |- f(a) = c\n",
       "7\taxiom\t\t|- forall_{f, x, y | x = y} (f(x) = f(y))\n",
       "\tproveit.logic.equality.substitution\n",
       "8\tassumption\t\t{x = a} |- x = a"
      ]
     },
     "execution_count": 8,
     "metadata": {},
     "output_type": "execute_result"
    }
   ],
   "source": [
    "%qed"
   ]
  },
  {
   "cell_type": "code",
   "execution_count": null,
   "metadata": {},
   "outputs": [],
   "source": []
  }
 ],
 "metadata": {
  "kernelspec": {
   "display_name": "Python 3",
   "language": "python",
   "name": "python3"
  }
 },
 "nbformat": 4,
 "nbformat_minor": 0
}
