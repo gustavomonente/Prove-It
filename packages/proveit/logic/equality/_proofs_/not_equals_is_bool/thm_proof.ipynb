{
 "cells": [
  {
   "cell_type": "markdown",
   "metadata": {},
   "source": [
    "Proof of <a class=\"ProveItLink\" href=\"../../../../_theory_.ipynb\">proveit</a>.<a class=\"ProveItLink\" href=\"../../../_theory_.ipynb\">logic</a>.<a class=\"ProveItLink\" href=\"../../_theory_.ipynb\">equality</a>.<a class=\"ProveItLink\" href=\"../../_theorems_.ipynb#not_equals_is_bool\">not_equals_is_bool</a> theorem\n",
    "========"
   ]
  },
  {
   "cell_type": "code",
   "execution_count": null,
   "metadata": {},
   "outputs": [],
   "source": [
    "import proveit\n",
    "from proveit._common_ import x, y\n",
    "from proveit.logic import Equals, NotEquals, Not, in_bool\n",
    "from proveit.logic.equality._axioms_ import not_equals_def\n",
    "from proveit._common_ import x, y\n",
    "theory = proveit.Theory() # the theorem's theory"
   ]
  },
  {
   "cell_type": "code",
   "execution_count": null,
   "metadata": {},
   "outputs": [],
   "source": [
    "%proving not_equals_is_bool"
   ]
  },
  {
   "cell_type": "code",
   "execution_count": null,
   "metadata": {},
   "outputs": [],
   "source": [
    "not_equals_def"
   ]
  },
  {
   "cell_type": "code",
   "execution_count": null,
   "metadata": {},
   "outputs": [],
   "source": [
    "not_equals_def_spec = not_equals_def.instantiate({x:x, y:y})"
   ]
  },
  {
   "cell_type": "code",
   "execution_count": null,
   "metadata": {},
   "outputs": [],
   "source": [
    "neg_equals_in_bool = in_bool(Not(Equals(x, y))).prove()"
   ]
  },
  {
   "cell_type": "code",
   "execution_count": null,
   "metadata": {},
   "outputs": [],
   "source": [
    "not_equals_def_spec.sub_left_side_into(neg_equals_in_bool)"
   ]
  },
  {
   "cell_type": "code",
   "execution_count": null,
   "metadata": {},
   "outputs": [],
   "source": [
    "%qed"
   ]
  },
  {
   "cell_type": "code",
   "execution_count": null,
   "metadata": {},
   "outputs": [],
   "source": []
  }
 ],
 "metadata": {
  "kernelspec": {
   "display_name": "Python 3",
   "language": "python",
   "name": "python3"
  }
 },
 "nbformat": 4,
 "nbformat_minor": 0
}
