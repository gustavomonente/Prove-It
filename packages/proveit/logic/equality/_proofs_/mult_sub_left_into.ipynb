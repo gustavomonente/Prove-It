{
 "cells": [
  {
   "cell_type": "markdown",
   "metadata": {},
   "source": [
    "Proof of <a class=\"ProveItLink\" href=\"../../../_context_.ipynb\">proveit</a>.<a class=\"ProveItLink\" href=\"../../_context_.ipynb\">logic</a>.<a class=\"ProveItLink\" href=\"../_context_.ipynb\">equality</a>.<a class=\"ProveItLink\" href=\"../_theorems_.ipynb#mult_sub_left_into\">mult_sub_left_into</a> theorem\n",
    "========"
   ]
  },
  {
   "cell_type": "code",
   "execution_count": 1,
   "metadata": {},
   "outputs": [],
   "source": [
    "import proveit\n",
    "context = proveit.Context('..') # the theorem's context is in the parent directory"
   ]
  },
  {
   "cell_type": "code",
   "execution_count": 2,
   "metadata": {},
   "outputs": [
    {
     "name": "stdout",
     "output_type": "stream",
     "text": [
      "Beginning proof of mult_sub_left_into\n",
      "Recorded 'presuming' information\n"
     ]
    },
    {
     "name": "stdout",
     "output_type": "stream",
     "text": [
      "Presuming previous theorems (applied transitively).\n"
     ]
    },
    {
     "data": {
      "text/html": [
       "<strong id=\"mult_sub_left_into\">mult_sub_left_into:</strong> <a class=\"ProveItLink\" href=\"../__pv_it/49a58735f0b93c0ae080cb5463fcf7229e705c9c0/expr.ipynb\"><img src=\"data:image/png;base64,iVBORw0KGgoAAAANSUhEUgAAAkkAAAAZBAMAAADXv6fZAAAAMFBMVEX///8QEBCIiIhmZma6urrM\n",
       "zMxUVFQiIiJERETc3Nzu7u6qqqp2dnaYmJgyMjIAAAAcRTyBAAAAAXRSTlMAQObYZgAABYtJREFU\n",
       "WMPtmVtoHFUYgP9sZnb2MpPkQR9qEdYE0hCjCYh4aSLbCo3iJZs8iA+BDMEUKzVdNBpNtUQF2So1\n",
       "iwiGQOkQJGi9dFFCTTE4JooQ0zrSiC+J7IM+KMQuBkOTlup/zpn77M6wdoss9YfNufz/P2fON+f8\n",
       "5xIAPwmPvgjXvXSPqv4Gwv+MUKLy9UYpqpVlHs8ySnlSWCtNyVdfNSIdurh/+F7MvF+m4wFG6TuS\n",
       "/700JV999Ug9fu1XFIDfyvT7hFGaJMl4aUq++uqRAYzAXyZA6ijTT0xQSnUIWMyVpuSrrx5pT+JP\n",
       "BSFbpl+sgVKSlk6efNcnevvqq0cm8HcoCeX35Be2xl3MZF7yW+P89NUjV7CzGwBNmJ1ufqct4Tt+\n",
       "Gg/sXTAKi4zSEMBRP0p++gqszP5qvkLN8JcBTmNoOoYMVOkZIe9n/BH8lDhiFH5mlO6HWN6PEtNz\n",
       "EwfvfqoiL8yx5IHNxdcx5AVsa+PJylAKbS4vtmJ6GIOsIm5zWeBLr0hL8L3yoFE4zSgJELLvtPhn\n",
       "v4ZbZBslXf8DwLcVeeGIvoNpADEN4aBoek9lKEW2WXoDjiWIICD+jnRJYwUytsWRURI1a4f94WIX\n",
       "fC4qtYqNkq7fj2tEJSmFZQgVoD/IeqZC26W0SQkLJCpxaR/zPz2UovnHzB3qm1MKzCc6RPuM0/Uv\n",
       "g53w1VMSNPJNh4Ks67IVaXRA3ycdpoVUACX+L9tZVz/HHX0C+XT1NZEQhDI7+7aDEtVDbAtCY5gu\n",
       "3Nmc8jzVVsk1g6C49XtlGHNTOpWFXQqkgxzobBeb+uw4i7q4bJxt0u0SEYzecaUdQoofpTM4yFvh\n",
       "/I+NHVb0hs/QXtqj1WTZmW1W/LjfQYnogbvcRs4qIWVYSIIrjLNK/WXrlV4Iu/qgbvMNbko9C8s5\n",
       "iKaDHOLkDVvD+RFq82QGRSvqQm3oVCY2x5xtwgXFXNd7chNwnI2lU9jh2BVgGbPEXYoU8FC8cjPs\n",
       "wNpOnRKZplO7oF6J0WE5C+qigxKdxmJeX5nXAfpvci/X62Z+qhta+K+cPYi+lw6Nuymdo6NiPMiB\n",
       "I2mqTgObTTEXalOyzfv+HjTnz0zjdJfGKAlktD1P+ikbf0YViA22Nq1BdDoNJOT/qlOSSHuDsAf4\n",
       "FzKZV5HSccFBieojxgFoC39j7jG6ZWU78VHu+VCrhhNuSq9RBnKQA0+/Tj1GJ5tNMRdqU6pNa2tj\n",
       "GtEZd8a79TAfG05wOBhjafv90o3QyYPMxhLX571fqtePcnyB91IilefnV2l+BB/l7oGQrEkZeoPS\n",
       "Jeo4HuTAyWyhSVGb4T9QtKIuxEbavaZCmNisO9u0blA6HJS8uzUzJENNqlZNGaddfYAWYGQWviHZ\n",
       "FYBVL6UB8hEmlRNiXqSUJpXoG8YfWvnpOLlAUOA5rkB7YBpgIqR6mN6ixNPhR76Uv4OkYkXhHPbH\n",
       "hkV3sd5At4m3gBmTHW1aYh4j4mgZ8462aTN3AoSHUsbNiU5WhjZcmnHAcEeSEPZQCl0g27ve3MzK\n",
       "whKl1Jvjd0BvlvxhleHU46QW9rXkaYdMA34ncINvMb1F6fYNOvbxSf4OtUl+Z+zph9sUOyXdBQ3Z\n",
       "G2QNmyFrR+1o0xLjFi5612YCJO+UtILbPgidZVTdN7otGJf8bnT1aTdmZc2cALfhOpeLZSMa65Bp\n",
       "EIcPcAVmemvGMbkVAhzqSJE1YFIyXeJWOGFJOrRi1Dja/Nc3ulK2/HvvOIt9fRs5I2tVzsAXGubD\n",
       "6qPAt+8Gm8EcHOTyTO+hFIEAh3lSpFOU2Ohx1XCZA8uF4pPjZ40aR5tXeSIvj5JULCs5DLhV1V2t\n",
       "wSPL3r23Pi80fweyOfF01HTRikwUQxxtXmNK1+D/cbWO0lzAWV7576+mukflfwDaD85EHS2N4AAA\n",
       "AABJRU5ErkJggg==\n",
       "\" style=\"display:inline;vertical-align:middle;\" /></a><br>(see <a class=\"ProveItLink\" href=\"../__pv_it/49a58735f0b93c0ae080cb5463fcf7229e705c9c0/dependencies.ipynb\">dependencies</a>)<br>"
      ],
      "text/plain": [
       "mult_sub_left_into: forall_{n in Naturals} [forall_{P, x_{1}, ..x_{_a}.., x_{n}, y_{1}, ..y_{_a}.., y_{n} | P(y_{1}, ..y_{_a}.., y_{n}), x_{1} = y_{1}, ..x_{a} = y_{a}.., x_{n} = y_{n}} P(x_{1}, ..x_{_a}.., x_{n})]"
      ]
     },
     "execution_count": 2,
     "metadata": {},
     "output_type": "execute_result"
    }
   ],
   "source": [
    "%proving mult_sub_left_into presuming []"
   ]
  },
  {
   "cell_type": "code",
   "execution_count": null,
   "metadata": {},
   "outputs": [],
   "source": []
  }
 ],
 "metadata": {
  "kernelspec": {
   "display_name": "Python 3",
   "language": "python",
   "name": "python3"
  }
 },
 "nbformat": 4,
 "nbformat_minor": 0
}
