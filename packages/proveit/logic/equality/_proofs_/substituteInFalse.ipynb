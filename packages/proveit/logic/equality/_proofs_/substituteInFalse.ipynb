{
 "cells": [
  {
   "cell_type": "markdown",
   "metadata": {},
   "source": [
    "Proof of <a class=\"ProveItLink\" href=\"../../../_context_.ipynb\">proveit</a>.<a class=\"ProveItLink\" href=\"../../_context_.ipynb\">logic</a>.<a class=\"ProveItLink\" href=\"../_context_.ipynb\">equality</a>.<a href=\"../_theorems_.ipynb#substituteInFalse\" class=\"ProveItLink\">substituteInFalse</a> theorem\n",
    "========"
   ]
  },
  {
   "cell_type": "code",
   "execution_count": 1,
   "metadata": {},
   "outputs": [],
   "source": [
    "import proveit\n",
    "from proveit import defaults\n",
    "from proveit._common_ import x, Px\n",
    "context = proveit.Context('..') # the theorem's context is in the parent directory"
   ]
  },
  {
   "cell_type": "code",
   "execution_count": 2,
   "metadata": {},
   "outputs": [
    {
     "name": "stdout",
     "output_type": "stream",
     "text": [
      "Beginning proof of substituteInFalse\n",
      "Recorded 'presuming' information\n",
      "Presuming previous theorems (applied transitively).\n"
     ]
    },
    {
     "data": {
      "text/html": [
       "<strong id=\"substituteInFalse\">substituteInFalse:</strong> <a class=\"ProveItLink\" href=\"../__pv_it/d69c5d88d63d8ecb0994298458b05ef020ba8f250/expr.ipynb\"><img src=\"data:image/png;base64,iVBORw0KGgoAAAANSUhEUgAAAKsAAAAWBAMAAABNknGBAAAAMFBMVEX///8QEBCIiIhmZma6urrM\n",
       "zMxUVFQiIiJERETc3Nzu7u6qqqp2dnaYmJgyMjIAAAAcRTyBAAAAAXRSTlMAQObYZgAAAmBJREFU\n",
       "OMutlU1o1FAQx/+mm003m83i2UtB8FAK7kX8OEhAEA8KqwcRPLiILSja9iAuFYX1lnrp3uxFjJcK\n",
       "PS16EA9iWA9KFVmpFw9CzoJ0QZBWijqTyb48dyMV44MkM5PJb96bmZcH/K9xX0nP6IpY+PTvtMrc\n",
       "5szsEcBusXaeb8U28IaFzzlmWaWJ3Qngtll5zDebLMv0LLVyYC+EwIsJrENh0QXcAHA6ObD7PbpC\n",
       "LGjYh5SbtdXVe3lKtUTXnFea17AuRdr0/Vs7fRrnzcx+94OS+BVGTcM6pEwDi0Bh6eqhK5qzF98T\n",
       "qxMrZS+Lam4DT0OM9zRshWp2LK4c3gOvNO+kiGK9LMrhLKzx7e3LScDqaNgyZcSCwZFmKPGj2Nhq\n",
       "hqKsZGHHv8ePXZ6GNfu0wp7F4m3AH8XG1mJdFGnN4badz8aWorPcwlswbnLLHdhXT7FipbDO3jPT\n",
       "sioZAzdqW6nVb0kocKjFSyxtT/F+M4JZy0uxYqX+myxG11FuqIQO3KRtORfDJcMTZjuRTB9f9CSI\n",
       "9QRQd+mzAhtf+74fKTdgI1A9pbBjXIzqBEerJW5bOlasx9mJ8mpGiU9DueHoz4tq3Qebzd3N5g0q\n",
       "AieowvGqyf41+6aGFes5TiHqKDQUduCWjgVNfpT+MLjKy8EDJ3I0bGwlr1L/HUJUwtJdwSq3dKxr\n",
       "clfVYIN7/XRn5UN3LcWKFVZgXzs5FWDMM/fIXlZuWv+m3WdHQ+86w30rMROzS/vnj78Nu5UVQTZd\n",
       "OxM7UJ7LebLjofNx+ABBNvaUzIfaopfzwKuNrsII/v7zX2tRo8i6jPnOAAAAAElFTkSuQmCC\n",
       "\" style=\"display:inline;vertical-align:middle;\" /></a><br>(see <a class=\"ProveItLink\" href=\"../__pv_it/d69c5d88d63d8ecb0994298458b05ef020ba8f250/dependencies.ipynb\">dependencies</a>)<br>"
      ],
      "text/plain": [
       "substituteInFalse: forall_{P, x | P(x), [not](x)} P(FALSE)"
      ]
     },
     "execution_count": 2,
     "metadata": {},
     "output_type": "execute_result"
    }
   ],
   "source": [
    "%proving substituteInFalse presuming []"
   ]
  },
  {
   "cell_type": "code",
   "execution_count": 3,
   "metadata": {},
   "outputs": [
    {
     "data": {
      "text/html": [
       "<strong id=\"defaults.assumptions\">defaults.assumptions:</strong> <a class=\"ProveItLink\" href=\"../__pv_it/3b7fb4d38295c1185f2b397e7ca246cfe12b55b70/expr.ipynb\"><img src=\"data:image/png;base64,iVBORw0KGgoAAAANSUhEUgAAAFwAAAAUBAMAAADyykdqAAAAMFBMVEX////MzMxUVFR2dna6uroQ\n",
       "EBCqqqqIiIgiIiJmZmYyMjJERETu7u6YmJjc3NwAAACgK8IjAAAAAXRSTlMAQObYZgAAAWdJREFU\n",
       "KM9tkz9Lw0AYxp8aSVPzx36DFt0l4OQ3cNPB0cHRseggTi0I2rHg4CQodHFRcW8aXAK6FEcnBwcX\n",
       "UWxBLQV937smd2nugfSe+/VJ773re0AwQKbU2y8wSNBHep7+7pauYumFVkxxQa/ZjAF3e+pZD8Y4\n",
       "Ub9DY2lIS31LL2Q1THGiDhdUHtEzlF7I2zTFib7x6H4CcyPppbrGaro45GHxAvjoCJ/sve5TJWv5\n",
       "XEZ7PKuFsI/A3gv9E4defs5XkdFjnjaXV8/oHMlbsTWZpy3sylylzQoV3WLaj8WX5D24t2I97beD\n",
       "uqIi/oM0TvtoFOOKcjGlX8lFYbUqf67PxFPamx47i7wdN1GO81sN6oryiS1MJCe/sdPHO9lTeOMs\n",
       "X1WUVq3cfMn/nPz9QXLObXkJtOMsr6ij9arWBC2uq9AELa2tMNNilqnFEGnzSG/gxNTA6kront8b\n",
       "FOKRduH0y+cbLx/Rf44pcIJAtdMEAAAAAElFTkSuQmCC\n",
       "\" style=\"display:inline;vertical-align:middle;\" /></a><br>"
      ],
      "text/plain": [
       "defaults.assumptions: (P(x), [not](x))"
      ]
     },
     "execution_count": 3,
     "metadata": {},
     "output_type": "execute_result"
    }
   ],
   "source": [
    "defaults.assumptions = substituteInFalse.allConditions()"
   ]
  },
  {
   "cell_type": "code",
   "execution_count": 4,
   "metadata": {},
   "outputs": [
    {
     "data": {
      "text/html": [
       "<strong id=\"x_eq_F\">x_eq_F:</strong> <span style=\"font-size:20px;\"><a class=\"ProveItLink\" href=\"../__pv_it/6ffeec42e9e07065327ed1dfd3f1f861ee3efc070/expr.ipynb\"><img src=\"data:image/png;base64,iVBORw0KGgoAAAANSUhEUgAAAC0AAAAVBAMAAAAgHXppAAAAMFBMVEX///+IiIi6urrc3NxERETM\n",
       "zMwQEBCqqqpUVFQiIiJ2dnYyMjLu7u5mZmaYmJgAAABN0h6tAAAAAXRSTlMAQObYZgAAAKxJREFU\n",
       "GNNjYGDgu8eAAlgvHgBRPLsY0ABTKojk+4AuznAbRHBNwBBfSSvxgxJGUgIMDMtAbI4NcGGeBXwT\n",
       "OYHc9yBOWQADA+9MEFjAdYDrD5MBAwP3BQaGkMkw1cwNPAwsDmBmJ9AwtQC4OAMDvwCIxd0AMt8B\n",
       "STwerOg9inuYG9gPyDMwHoC6B+HOAP0CfwY7LO4/IXjw3gOC/k3ALo4r/Bkw4ysJTLFji18Ajbow\n",
       "7aVLpRUAAAAASUVORK5CYII=\n",
       "\" style=\"display:inline;vertical-align:middle;\" /></a> <a class=\"ProveItLink\" href=\"../__pv_it/323b40576ad9e1d3917e317f87ff32f909a93aa30/proof.ipynb\" style=\"text-decoration: none\">&#x22A2;&nbsp;</a><a class=\"ProveItLink\" href=\"../__pv_it/ccfb9f57880ac60b72d5990c46294b408afc3a260/expr.ipynb\"><img src=\"data:image/png;base64,iVBORw0KGgoAAAANSUhEUgAAADYAAAAOBAMAAACWQvIuAAAAMFBMVEX///8QEBBmZmaqqqrMzMxE\n",
       "REQyMjIiIiKYmJh2dna6urrc3NxUVFSIiIju7u4AAAA6P00QAAAAAXRSTlMAQObYZgAAAGNJREFU\n",
       "GNNjYMAOnBlwA1uayb29s+vmBexyfBM4atkTgIxpaSCQhCzH+YDzH9cGHPoYWANwu4X/Am45fwcw\n",
       "BbEvB1mO+cF9Bt4H2PWtN4hn2IHDzDd332o0oEmol5cLlpfXAAAAzh3a4ZeJAgAAAABJRU5ErkJg\n",
       "gg==\n",
       "\" style=\"display:inline;vertical-align:middle;\" /></a></span><br>"
      ],
      "text/plain": [
       "x_eq_F: {[not](x)} |- x = FALSE"
      ]
     },
     "execution_count": 4,
     "metadata": {},
     "output_type": "execute_result"
    }
   ],
   "source": [
    "x_eq_F = x.evaluation()"
   ]
  },
  {
   "cell_type": "code",
   "execution_count": 5,
   "metadata": {},
   "outputs": [
    {
     "data": {
      "text/html": [
       "<span style=\"font-size:20px;\"><a class=\"ProveItLink\" href=\"../__pv_it/65bb14c5213b5e21860d87e3a35988bdbc0c15120/expr.ipynb\"><img src=\"data:image/png;base64,iVBORw0KGgoAAAANSUhEUgAAAGIAAAAVBAMAAABPrCZEAAAAMFBMVEX///+IiIi6urrc3NxERETM\n",
       "zMwQEBCqqqpUVFQiIiJ2dnYyMjLu7u5mZmaYmJgAAABN0h6tAAAAAXRSTlMAQObYZgAAAYhJREFU\n",
       "OMuNUz1LA0EQfUnuzNflEvtIIoK1ZSqxEFtT2EryEwRBEAISbASLnFj5UZytKKYUQbxK0Ma0ogTB\n",
       "ykI5QVH8QHf2djd3siEu7N7wZh83894OALuL/675Ip3WSRibFN9FPWW8yg7bp6P1srZ+y+hTIpWa\n",
       "0DJybXZkHArzLJzxkJUXrbaWwS8HjJoLrBTwqHJ7gxilMtsuNlXufBBjlu1WOeGoXLY8gPEJJL4R\n",
       "67AOhldHWUmZTuSqROukCvVofgDLLow74BIPhR2mXrR1iZKwSyRx7H3/kLmTXgAOcOSNAUlR4PUW\n",
       "W9sSxSkwx5s1vnh6iBXvYZpC0w/9oSJRpDaEjXlHMYBnDUOgOCYW2VwL+qSqYL5SGHeijADlfXCt\n",
       "SoGW1Hkj5qP4p/OKRLlWnHHmBXJ3EH8z/AQj5lxcKZIpUeXHzU8TohSrWRx5IgerSO/27BBoyEGx\n",
       "eq/kgu1GH8/rIST6El09ww7LaIRfu1XQzwfCM6gmiqi2Zga5psmuZmrv+875L60ebmraHXX8AAAA\n",
       "AElFTkSuQmCC\n",
       "\" style=\"display:inline;vertical-align:middle;\" /></a> <a class=\"ProveItLink\" href=\"../__pv_it/aa530a7ca2f84ab0e98083895142a681be2be4680/proof.ipynb\" style=\"text-decoration: none\">&#x22A2;&nbsp;</a><a class=\"ProveItLink\" href=\"../../__pv_it/eef16f67fc2ba72bc77e95249fb9eb9ff8728adb0/expr.ipynb\"><img src=\"data:image/png;base64,iVBORw0KGgoAAAANSUhEUgAAAC8AAAAUBAMAAADvtHnxAAAAMFBMVEX///8iIiLc3Ny6urqIiIiq\n",
       "qqp2dnbMzMwQEBDu7u5mZmYyMjJERERUVFSYmJgAAAA4CJ/KAAAAAXRSTlMAQObYZgAAAOBJREFU\n",
       "GNNjYEAAPTgrCEy+/X/27q4JDAycB0C8UhDBqwCW+c3AwNPJwMAN5oWACM4NIJL9GwMD6xcGhlcM\n",
       "cAmGFBDB8hmIgZJCSBIzQATPB6ChnxmYBJAkuA2ABD/QQP0FDCwLkCTYQJz6BAZWMaDGB0gSfCDb\n",
       "/a+lLQG6ljEASYIVZO75CWA2hwGSBDvQXoaPDNgl2H9BJFCMYhaAeAPsanTLuX8yIFwIk+BKYODa\n",
       "/9cBrnuhoGCHoKAsUHUBUqgLIbEnIrGhgciACEQY4FGAMyHBDucdwKYGNWofMTAAALMAMbov626M\n",
       "AAAAAElFTkSuQmCC\n",
       "\" style=\"display:inline;vertical-align:middle;\" /></a></span>"
      ],
      "text/plain": [
       "{P(x), [not](x)} |- P(FALSE)"
      ]
     },
     "execution_count": 5,
     "metadata": {},
     "output_type": "execute_result"
    }
   ],
   "source": [
    "x_eq_F.subRightSideInto(Px)"
   ]
  },
  {
   "cell_type": "code",
   "execution_count": 6,
   "metadata": {},
   "outputs": [
    {
     "data": {
      "text/html": [
       "<table><tr><th>&nbsp;</th><th>step type</th><th>requirements</th><th>statement</th></tr>\n",
       "<tr><td><a name=\"0x6642eb51e3ca1c91_step0\">0</a></td><td>generalizaton</td><td><a href=\"#0x6642eb51e3ca1c91_step1\">1</a></td><td><span style=\"font-size:20px;\"> <a class=\"ProveItLink\" href=\"../__pv_it/d9532e56d1abd75aa0041d7614cc6ee4e82fa87b0/proof.ipynb\" style=\"text-decoration: none\">&#x22A2;&nbsp;</a><a class=\"ProveItLink\" href=\"../__pv_it/d69c5d88d63d8ecb0994298458b05ef020ba8f250/expr.ipynb\"><img src=\"data:image/png;base64,iVBORw0KGgoAAAANSUhEUgAAAKsAAAAWBAMAAABNknGBAAAAMFBMVEX///8QEBCIiIhmZma6urrM\n",
       "zMxUVFQiIiJERETc3Nzu7u6qqqp2dnaYmJgyMjIAAAAcRTyBAAAAAXRSTlMAQObYZgAAAmBJREFU\n",
       "OMutlU1o1FAQx/+mm003m83i2UtB8FAK7kX8OEhAEA8KqwcRPLiILSja9iAuFYX1lnrp3uxFjJcK\n",
       "PS16EA9iWA9KFVmpFw9CzoJ0QZBWijqTyb48dyMV44MkM5PJb96bmZcH/K9xX0nP6IpY+PTvtMrc\n",
       "5szsEcBusXaeb8U28IaFzzlmWaWJ3Qngtll5zDebLMv0LLVyYC+EwIsJrENh0QXcAHA6ObD7PbpC\n",
       "LGjYh5SbtdXVe3lKtUTXnFea17AuRdr0/Vs7fRrnzcx+94OS+BVGTcM6pEwDi0Bh6eqhK5qzF98T\n",
       "qxMrZS+Lam4DT0OM9zRshWp2LK4c3gOvNO+kiGK9LMrhLKzx7e3LScDqaNgyZcSCwZFmKPGj2Nhq\n",
       "hqKsZGHHv8ePXZ6GNfu0wp7F4m3AH8XG1mJdFGnN4badz8aWorPcwlswbnLLHdhXT7FipbDO3jPT\n",
       "sioZAzdqW6nVb0kocKjFSyxtT/F+M4JZy0uxYqX+myxG11FuqIQO3KRtORfDJcMTZjuRTB9f9CSI\n",
       "9QRQd+mzAhtf+74fKTdgI1A9pbBjXIzqBEerJW5bOlasx9mJ8mpGiU9DueHoz4tq3Qebzd3N5g0q\n",
       "AieowvGqyf41+6aGFes5TiHqKDQUduCWjgVNfpT+MLjKy8EDJ3I0bGwlr1L/HUJUwtJdwSq3dKxr\n",
       "clfVYIN7/XRn5UN3LcWKFVZgXzs5FWDMM/fIXlZuWv+m3WdHQ+86w30rMROzS/vnj78Nu5UVQTZd\n",
       "OxM7UJ7LebLjofNx+ABBNvaUzIfaopfzwKuNrsII/v7zX2tRo8i6jPnOAAAAAElFTkSuQmCC\n",
       "\" style=\"display:inline;vertical-align:middle;\" /></a></span></td></tr>\n",
       "<tr><td><a name=\"0x6642eb51e3ca1c91_step1\">1</a></td><td>instantiation</td><td><a href=\"#0x6642eb51e3ca1c91_step2\">2</a>, <a href=\"#0x6642eb51e3ca1c91_step3\">3</a>, <a href=\"#0x6642eb51e3ca1c91_step4\">4</a></td><td><span style=\"font-size:20px;\"><a class=\"ProveItLink\" href=\"../__pv_it/65bb14c5213b5e21860d87e3a35988bdbc0c15120/expr.ipynb\"><img src=\"data:image/png;base64,iVBORw0KGgoAAAANSUhEUgAAAGIAAAAVBAMAAABPrCZEAAAAMFBMVEX///+IiIi6urrc3NxERETM\n",
       "zMwQEBCqqqpUVFQiIiJ2dnYyMjLu7u5mZmaYmJgAAABN0h6tAAAAAXRSTlMAQObYZgAAAYhJREFU\n",
       "OMuNUz1LA0EQfUnuzNflEvtIIoK1ZSqxEFtT2EryEwRBEAISbASLnFj5UZytKKYUQbxK0Ma0ogTB\n",
       "ykI5QVH8QHf2djd3siEu7N7wZh83894OALuL/675Ip3WSRibFN9FPWW8yg7bp6P1srZ+y+hTIpWa\n",
       "0DJybXZkHArzLJzxkJUXrbaWwS8HjJoLrBTwqHJ7gxilMtsuNlXufBBjlu1WOeGoXLY8gPEJJL4R\n",
       "67AOhldHWUmZTuSqROukCvVofgDLLow74BIPhR2mXrR1iZKwSyRx7H3/kLmTXgAOcOSNAUlR4PUW\n",
       "W9sSxSkwx5s1vnh6iBXvYZpC0w/9oSJRpDaEjXlHMYBnDUOgOCYW2VwL+qSqYL5SGHeijADlfXCt\n",
       "SoGW1Hkj5qP4p/OKRLlWnHHmBXJ3EH8z/AQj5lxcKZIpUeXHzU8TohSrWRx5IgerSO/27BBoyEGx\n",
       "eq/kgu1GH8/rIST6El09ww7LaIRfu1XQzwfCM6gmiqi2Zga5psmuZmrv+875L60ebmraHXX8AAAA\n",
       "AElFTkSuQmCC\n",
       "\" style=\"display:inline;vertical-align:middle;\" /></a> <a class=\"ProveItLink\" href=\"../__pv_it/aa530a7ca2f84ab0e98083895142a681be2be4680/proof.ipynb\" style=\"text-decoration: none\">&#x22A2;&nbsp;</a><a class=\"ProveItLink\" href=\"../../__pv_it/eef16f67fc2ba72bc77e95249fb9eb9ff8728adb0/expr.ipynb\"><img src=\"data:image/png;base64,iVBORw0KGgoAAAANSUhEUgAAAC8AAAAUBAMAAADvtHnxAAAAMFBMVEX///8iIiLc3Ny6urqIiIiq\n",
       "qqp2dnbMzMwQEBDu7u5mZmYyMjJERERUVFSYmJgAAAA4CJ/KAAAAAXRSTlMAQObYZgAAAOBJREFU\n",
       "GNNjYEAAPTgrCEy+/X/27q4JDAycB0C8UhDBqwCW+c3AwNPJwMAN5oWACM4NIJL9GwMD6xcGhlcM\n",
       "cAmGFBDB8hmIgZJCSBIzQATPB6ChnxmYBJAkuA2ABD/QQP0FDCwLkCTYQJz6BAZWMaDGB0gSfCDb\n",
       "/a+lLQG6ljEASYIVZO75CWA2hwGSBDvQXoaPDNgl2H9BJFCMYhaAeAPsanTLuX8yIFwIk+BKYODa\n",
       "/9cBrnuhoGCHoKAsUHUBUqgLIbEnIrGhgciACEQY4FGAMyHBDucdwKYGNWofMTAAALMAMbov626M\n",
       "AAAAAElFTkSuQmCC\n",
       "\" style=\"display:inline;vertical-align:middle;\" /></a></span></td></tr>\n",
       "<tr><td>&nbsp;</td><td colspan=4 style=\"text-align:left\"><span style=\"font-size:20px;\"><a class=\"ProveItLink\" href=\"../__pv_it/0b28339a9470b3064675e3d630fe626bc057a2440/expr.ipynb\"><img src=\"data:image/png;base64,iVBORw0KGgoAAAANSUhEUgAAADcAAAAUBAMAAADbzbjtAAAAMFBMVEX///8iIiLc3Ny6urqIiIiq\n",
       "qqp2dnbMzMwQEBDu7u5mZmYyMjJERERUVFSYmJgAAAA4CJ/KAAAAAXRSTlMAQObYZgAAAQ1JREFU\n",
       "KM9jYIADpgcMyCAITL79f/burgkMDHNQ5Bh4FcDUbwYGnk4Ghk2okpwbQCT7NwYG1i8MfAtQJRlS\n",
       "QATLZyD+xsCogCY5A0TwfABa8JlBEU2OgdsASPADDddfwOCF5O5lS4BuYAPZU5/AwCrGwHAOIWmh\n",
       "wA00jQ/kIv9raUuAPhFFuLOPgesA0JECQPb5CWChZrgk108GRgegL4C6GT4yoElyHGCYXwCRZP8F\n",
       "EUIYOz+BIR5IMQtAvAkCCAfND2C4zaoAdhD3T4hQFlySx4FPlg1odQID1/6/DmAhQ6BBZ4DgJAPn\n",
       "FXddZ6CuAoTnMIJvIhIbe8DDwCFsUQYDaJHNg2INWjJ5xMAAAHA6PhPQZp1jAAAAAElFTkSuQmCC\n",
       "\" style=\"display:inline;vertical-align:middle;\" /></a> : <a class=\"ProveItLink\" href=\"../__pv_it/0b28339a9470b3064675e3d630fe626bc057a2440/expr.ipynb\"><img src=\"data:image/png;base64,iVBORw0KGgoAAAANSUhEUgAAADcAAAAUBAMAAADbzbjtAAAAMFBMVEX///8iIiLc3Ny6urqIiIiq\n",
       "qqp2dnbMzMwQEBDu7u5mZmYyMjJERERUVFSYmJgAAAA4CJ/KAAAAAXRSTlMAQObYZgAAAQ1JREFU\n",
       "KM9jYIADpgcMyCAITL79f/burgkMDHNQ5Bh4FcDUbwYGnk4Ghk2okpwbQCT7NwYG1i8MfAtQJRlS\n",
       "QATLZyD+xsCogCY5A0TwfABa8JlBEU2OgdsASPADDddfwOCF5O5lS4BuYAPZU5/AwCrGwHAOIWmh\n",
       "wA00jQ/kIv9raUuAPhFFuLOPgesA0JECQPb5CWChZrgk108GRgegL4C6GT4yoElyHGCYXwCRZP8F\n",
       "EUIYOz+BIR5IMQtAvAkCCAfND2C4zaoAdhD3T4hQFlySx4FPlg1odQID1/6/DmAhQ6BBZ4DgJAPn\n",
       "FXddZ6CuAoTnMIJvIhIbe8DDwCFsUQYDaJHNg2INWjJ5xMAAAHA6PhPQZp1jAAAAAElFTkSuQmCC\n",
       "\" style=\"display:inline;vertical-align:middle;\" /></a>, <a class=\"ProveItLink\" href=\"../../../__pv_it/72df168d2bfb4e0140af90912ebf83b13772060b0/expr.ipynb\"><img src=\"data:image/png;base64,iVBORw0KGgoAAAANSUhEUgAAAAsAAAAJBAMAAAAWSsseAAAALVBMVEX///9mZmaqqqrMzMxEREQy\n",
       "MjIiIiKYmJh2dna6urrc3NxUVFSIiIju7u4AAACJHQtQAAAAAXRSTlMAQObYZgAAAEJJREFUCNdj\n",
       "YLhzeuWJAwy8Dew5bAEMHBc43nIuYOBlYHFgAAG+A2DKzgBIMF04x8BzgWGegh/DcgaG22fuiBcw\n",
       "AAATyhBrnyPYZQAAAABJRU5ErkJggg==\n",
       "\" style=\"display:inline;vertical-align:middle;\" /></a> : <a class=\"ProveItLink\" href=\"../../../__pv_it/72df168d2bfb4e0140af90912ebf83b13772060b0/expr.ipynb\"><img src=\"data:image/png;base64,iVBORw0KGgoAAAANSUhEUgAAAAsAAAAJBAMAAAAWSsseAAAALVBMVEX///9mZmaqqqrMzMxEREQy\n",
       "MjIiIiKYmJh2dna6urrc3NxUVFSIiIju7u4AAACJHQtQAAAAAXRSTlMAQObYZgAAAEJJREFUCNdj\n",
       "YLhzeuWJAwy8Dew5bAEMHBc43nIuYOBlYHFgAAG+A2DKzgBIMF04x8BzgWGegh/DcgaG22fuiBcw\n",
       "AAATyhBrnyPYZQAAAABJRU5ErkJggg==\n",
       "\" style=\"display:inline;vertical-align:middle;\" /></a>, <a class=\"ProveItLink\" href=\"../../../__pv_it/c6e291955561f22a0e6708fd793ea93f1c7dbb5d0/expr.ipynb\"><img src=\"data:image/png;base64,iVBORw0KGgoAAAANSUhEUgAAAAsAAAANBAMAAACN24kIAAAAMFBMVEX///8iIiKYmJhUVFTMzMxE\n",
       "REQyMjKqqqq6urp2dnYQEBDc3NxmZmaIiIju7u4AAACH5sGpAAAAAXRSTlMAQObYZgAAAFlJREFU\n",
       "CNdj4LtzgWHXAwZOjgUM9xkYtvMkMIQyMDzgusDwl4GBof8ByxcgdYyBdwGQCmZgNQBShxn6FYDU\n",
       "47vnNzAwgGUZGJgT+H4AKUYF1gtAiuPuESAJAJGkFvXVdzA+AAAAAElFTkSuQmCC\n",
       "\" style=\"display:inline;vertical-align:middle;\" /></a> : <a class=\"ProveItLink\" href=\"../../boolean/__pv_it/83a1ddf0f64531c80e7f41ea6b904214668818b30/expr.ipynb\"><img src=\"data:image/png;base64,iVBORw0KGgoAAAANSUhEUgAAAA4AAAAOBAMAAADtZjDiAAAAG1BMVEX///9UVFQQEBAiIiJmZmaI\n",
       "iIiqqqrMzMwAAADC2JlRAAAAAXRSTlMAQObYZgAAABlJREFUCNdjYGBgKGOAgFRa0s7GxkrGxoYA\n",
       "QSUGlQeagkgAAAAASUVORK5CYII=\n",
       "\" style=\"display:inline;vertical-align:middle;\" /></a></span></td></tr><tr><td><a name=\"0x6642eb51e3ca1c91_step2\">2</a></td><td>theorem</td><td></td><td><span style=\"font-size:20px;\"> <a class=\"ProveItLink\" href=\"subRightSideInto.ipynb\" style=\"text-decoration: none\">&#x22A2;&nbsp;</a><a class=\"ProveItLink\" href=\"../__pv_it/19c030addf6d2b1fd70f425ed548586daa5d57ac0/expr.ipynb\"><img src=\"data:image/png;base64,iVBORw0KGgoAAAANSUhEUgAAAL4AAAAWBAMAAACMFTstAAAAMFBMVEX///8QEBCIiIhmZma6urrM\n",
       "zMxUVFQiIiJERETc3Nzu7u6qqqp2dnaYmJgyMjIAAAAcRTyBAAAAAXRSTlMAQObYZgAAAu1JREFU\n",
       "SMe1VU1oE1EQ/rrZ3WQ3aVo82kukoFCrlqKgIBIrqAel0YMnMaHYglJLD14sCkGhpIXa3OxFGlQE\n",
       "e7ABRfEW2oNQS4konlQW1INCbbCl2lp/Zt57m2yNCypxYDPzJvO+nTfzvVngf8h1qcJZwGHjVW1g\n",
       "X/wY7HmTA+y0cpwBnrD+UKO8vwOhjUA0q9Z3gTFSVro28MYa1eQT8Mx1RGKI0nki+drga0v00Dsu\n",
       "uA67EfUzExPXalSeUAkwl2D1lz1vgS+ZzMU/226J34R/QAORZbwNWhtwox0WdWIa6AaGAH20d/fZ\n",
       "qg26VIeXpwepjAWxuO+PnywgTLmGihS7Hxqd5jVwADZz9CnwuPrAUtU3ItIPU7IikPXF39E72055\n",
       "BPOw8vsQItY8pBU0eh966G8/fDPFyZxUPUv54o/mhKqLw8YGNMToRESeYpCdl4CMH36wyMl0K+d7\n",
       "X/zPcPGhryKZEPiWc4KzWoE2QC9rPs4wHSkMePAns9iSA7FiatfmBLaxS1hS3GAYiyodonvAwSYy\n",
       "D9EzdJo7udbKN7nFdM6TKqwajR78zqnZPLNOy/UF43jATGfLzJCMlIMF/cUuqncohUGI/uIe0zXi\n",
       "SPJFuRfWrX4t7cGfE1xKw8A8s4lTFZZkrRuM6Kq6tcTPQEr/RuZeZm2MkdoUhQU7AgUz5sG/IvC5\n",
       "ryv0nBK+lXLV3eDAwnJMspoStruaOeIds4+73qBGRFLcn2C8LuHB/yqqS0kaJQM4KFZkmR9J5svB\n",
       "FRHzgToAu3yTk5S3NWyV5lCwhhFMdHr4Y4hcKXY84kSAlxjLSUu1UwVXhOZbHybjYr6pybSwh3Ca\n",
       "7HNHWnNGE/Suqx787YuiaAO4/XxqBtiJY3lpqUuugj20zhLdL8v57JWwq+5gxMt/KVuVpnOvm7du\n",
       "cEXo+9LRzDUbWu9/5Kpe3anGV4twUXz3KuIGV38f638ZJUVXHZ1FNb4u/75J+9btcoP/QQK/OV7L\n",
       "XyH8BE6swAxF4PihAAAAAElFTkSuQmCC\n",
       "\" style=\"display:inline;vertical-align:middle;\" /></a></span></td></tr>\n",
       "<tr><td>&nbsp;</td><td colspan=4 style-\"text-align:left\"><a class=\"ProveItLink\" href=\"subRightSideInto.ipynb\">proveit.logic.equality.subRightSideInto</a></td></tr><tr><td><a name=\"0x6642eb51e3ca1c91_step3\">3</a></td><td>assumption</td><td></td><td><span style=\"font-size:20px;\"><a class=\"ProveItLink\" href=\"../__pv_it/165263282145bb5eb4e66a89ccd060c79b21e40e0/expr.ipynb\"><img src=\"data:image/png;base64,iVBORw0KGgoAAAANSUhEUgAAAD8AAAAVBAMAAAADRiu8AAAAMFBMVEX///+IiIi6urrc3NxERETM\n",
       "zMwQEBCqqqpUVFQiIiJ2dnYyMjLu7u5mZmaYmJgAAABN0h6tAAAAAXRSTlMAQObYZgAAAVRJREFU\n",
       "KM9jYGDgu8eAHbBePACieHYhCzI/gNDsBkCCKRXE5PsAIl/89+jYC9RwBKayGUTcBhFcE8ACvxkY\n",
       "WHIYGDbDFJwGESsRClh/AY39yMB3AaaASwBVAeMnIP7FwGkAU8CTgKqABegSjk8MlgjnbkJVwL+B\n",
       "gcH+AoMskHlQwkgKaP5aIHMZSIpjA4iMX8DAPouBwQ9o9gK+iZxAsddA0fcgqbIAECnftQoULNOB\n",
       "Jh7g+sMEdEolUJQb6OaQyWAb/cGBxpAENIGBxQFsJojoBNqlBjbhJwNMAdA9AjAF3A0gN4DUs/6F\n",
       "KJgOlgJr0YS5AewLUDCAANCR7AfkGRgPQBy5DK6A+w9EAdBv+gX+DHZA5i3kcODd/wNsL8jcE4IH\n",
       "74GidCtqQEEBUlBPgCtIQFKALbIg6QEGnFGiG5weGFBS1BFklUxJkNR1D0uS4zOApkkAezlX4Hje\n",
       "J6YAAAAASUVORK5CYII=\n",
       "\" style=\"display:inline;vertical-align:middle;\" /></a> <a class=\"ProveItLink\" href=\"../__pv_it/3ca9057a4f2a3a2de96350ee5ac04ace166c90280/proof.ipynb\" style=\"text-decoration: none\">&#x22A2;&nbsp;</a><a class=\"ProveItLink\" href=\"../../../__pv_it/2548a99d921e002e203801a4828f7377ced085bf0/expr.ipynb\"><img src=\"data:image/png;base64,iVBORw0KGgoAAAANSUhEUgAAACoAAAAUBAMAAAAJnbK1AAAAMFBMVEX///8iIiLc3Ny6urqIiIiq\n",
       "qqp2dnbMzMwQEBDu7u5mZmYyMjJERERUVFSYmJgAAAA4CJ/KAAAAAXRSTlMAQObYZgAAAPdJREFU\n",
       "GNNjYIADpgcQmlUBRL79f/burgkMDHNg0pfA5G8GBp5OBoZNMNHZIIL9G1DXFwa+BTBRNgcgwfIZ\n",
       "iL8xMCrARDkbgATPBwYG3s8Migh7NwMx/wYGBv0FDF5A5hRfZTeg9iwgsz6BgVWMgeEcUGsCnwgj\n",
       "UM1roKj/tbQlQIeJAq2ZwPaTGWh8IFD0/ASwYc1AtQw8B0DMeiD+yAATBdrhABVl/wURFQXzC0Ck\n",
       "IcS5IAC0jXWCPwPLBLBt3D8hokDn2AecZ9ADMpcxcO3/CzYLpG2uy5R1oIDbjvAQko8FEKJooQMD\n",
       "h1BCEgbmYEgjxxCfAgMAYuY5gBp34ugAAAAASUVORK5CYII=\n",
       "\" style=\"display:inline;vertical-align:middle;\" /></a></span></td></tr>\n",
       "<tr><td><a name=\"0x6642eb51e3ca1c91_step4\">4</a></td><td>instantiation</td><td><a href=\"#0x6642eb51e3ca1c91_step5\">5</a>, <a href=\"#0x6642eb51e3ca1c91_step6\">6</a></td><td><span style=\"font-size:20px;\"><a class=\"ProveItLink\" href=\"../__pv_it/6ffeec42e9e07065327ed1dfd3f1f861ee3efc070/expr.ipynb\"><img src=\"data:image/png;base64,iVBORw0KGgoAAAANSUhEUgAAAC0AAAAVBAMAAAAgHXppAAAAMFBMVEX///+IiIi6urrc3NxERETM\n",
       "zMwQEBCqqqpUVFQiIiJ2dnYyMjLu7u5mZmaYmJgAAABN0h6tAAAAAXRSTlMAQObYZgAAAKxJREFU\n",
       "GNNjYGDgu8eAAlgvHgBRPLsY0ABTKojk+4AuznAbRHBNwBBfSSvxgxJGUgIMDMtAbI4NcGGeBXwT\n",
       "OYHc9yBOWQADA+9MEFjAdYDrD5MBAwP3BQaGkMkw1cwNPAwsDmBmJ9AwtQC4OAMDvwCIxd0AMt8B\n",
       "STwerOg9inuYG9gPyDMwHoC6B+HOAP0CfwY7LO4/IXjw3gOC/k3ALo4r/Bkw4ysJTLFji18Ajbow\n",
       "7aVLpRUAAAAASUVORK5CYII=\n",
       "\" style=\"display:inline;vertical-align:middle;\" /></a> <a class=\"ProveItLink\" href=\"../__pv_it/323b40576ad9e1d3917e317f87ff32f909a93aa30/proof.ipynb\" style=\"text-decoration: none\">&#x22A2;&nbsp;</a><a class=\"ProveItLink\" href=\"../__pv_it/ccfb9f57880ac60b72d5990c46294b408afc3a260/expr.ipynb\"><img src=\"data:image/png;base64,iVBORw0KGgoAAAANSUhEUgAAADYAAAAOBAMAAACWQvIuAAAAMFBMVEX///8QEBBmZmaqqqrMzMxE\n",
       "REQyMjIiIiKYmJh2dna6urrc3NxUVFSIiIju7u4AAAA6P00QAAAAAXRSTlMAQObYZgAAAGNJREFU\n",
       "GNNjYMAOnBlwA1uayb29s+vmBexyfBM4atkTgIxpaSCQhCzH+YDzH9cGHPoYWANwu4X/Am45fwcw\n",
       "BbEvB1mO+cF9Bt4H2PWtN4hn2IHDzDd332o0oEmol5cLlpfXAAAAzh3a4ZeJAgAAAABJRU5ErkJg\n",
       "gg==\n",
       "\" style=\"display:inline;vertical-align:middle;\" /></a></span></td></tr>\n",
       "<tr><td>&nbsp;</td><td colspan=4 style=\"text-align:left\"><span style=\"font-size:20px;\"><a class=\"ProveItLink\" href=\"../../../__pv_it/d3792d0d8642fdf1cd2a3a9b32c673ee13653de00/expr.ipynb\"><img src=\"data:image/png;base64,iVBORw0KGgoAAAANSUhEUgAAAA8AAAAOBAMAAAACpFvcAAAALVBMVEX///8iIiIQEBBERERUVFS6\n",
       "urqIiIjc3NxmZmaqqqru7u6YmJgyMjLMzMwAAACK9jtgAAAAAXRSTlMAQObYZgAAAFtJREFUCNdj\n",
       "YACBOwxQcA5Kc59bAGGs7CuAMDbkBYBp1gXzNoAZSxnuJYAZAQx1DSCa16PDzwCshIGB6QCIMYGB\n",
       "gVEBSLMDGTwPgIxCIGZ+zsCw+N0pBk67hw0AfpEVEQi8t+wAAAAASUVORK5CYII=\n",
       "\" style=\"display:inline;vertical-align:middle;\" /></a> : <a class=\"ProveItLink\" href=\"../../../__pv_it/72df168d2bfb4e0140af90912ebf83b13772060b0/expr.ipynb\"><img src=\"data:image/png;base64,iVBORw0KGgoAAAANSUhEUgAAAAsAAAAJBAMAAAAWSsseAAAALVBMVEX///9mZmaqqqrMzMxEREQy\n",
       "MjIiIiKYmJh2dna6urrc3NxUVFSIiIju7u4AAACJHQtQAAAAAXRSTlMAQObYZgAAAEJJREFUCNdj\n",
       "YLhzeuWJAwy8Dew5bAEMHBc43nIuYOBlYHFgAAG+A2DKzgBIMF04x8BzgWGegh/DcgaG22fuiBcw\n",
       "AAATyhBrnyPYZQAAAABJRU5ErkJggg==\n",
       "\" style=\"display:inline;vertical-align:middle;\" /></a></span></td></tr><tr><td><a name=\"0x6642eb51e3ca1c91_step5\">5</a></td><td>axiom</td><td></td><td><span style=\"font-size:20px;\"> <a class=\"ProveItLink\" href=\"../../boolean/negation/_axioms_.ipynb#negationElim\" style=\"text-decoration: none\">&#x22A2;&nbsp;</a><a class=\"ProveItLink\" href=\"../../boolean/negation/__pv_it/22bd342d68dbc19f9504d702df4ef3f4fe1381ad0/expr.ipynb\"><img src=\"data:image/png;base64,iVBORw0KGgoAAAANSUhEUgAAAJcAAAAWBAMAAAA/XRM3AAAAMFBMVEX///8QEBCIiIhmZma6urrM\n",
       "zMxUVFQiIiJERETc3Nzu7u6qqqp2dnaYmJgyMjIAAAAcRTyBAAAAAXRSTlMAQObYZgAAAbRJREFU\n",
       "OMtjYCAWcF7AL78TiB+AGHeJMGwFhIrDIhUNItgmMDCcBjFeEWHYSwj1HovUJhDBBXTWDJAPGgib\n",
       "xWsAod4vwGEYwyEGBj6gJM8GwoaxTwBTq+0n4DJsIdCqU6tWTSfCl1A1F/QdcBnGB5T50dFRQ4Rh\n",
       "ymCSZcH+C7gM4wEGRCoDQyeYAyFZUNV1whi9YHIJQ7wCiD73DgQeoxjGC4wBZ3A8ANlfwEIcqMH+\n",
       "BcaqBpMODPMNcLmMuwAYsgxMYJcv/ovFMKggEIiACNZk4/wGXIaxfgB69QI7mH2qGIthUEGYYcAw\n",
       "YHyAzzDOB2FgpkIHpmEwQZg3gUmIXQARZs9QDGMpAIVxCjg3MJhjGgYThEYAJ9Awvg+4XAaKAIbN\n",
       "IBMZbjPoIxl2oqOj4wFCEAgOQ9Max09chjEfABL8oMjmenymfwGqyxIQgkDgDszq/18xcPd/R4tO\n",
       "8/JywfLyMqCbA0DOA6lnXsAwPwDdMLggIjvhAcvhLF+gCy+gGwYXRGR0POAQjMHxg4GzvxbVsAkI\n",
       "QZS8gANwYUkzHAQKR5yAYwIJhhEqtm8ykGAYOYCZAr0AOed5gytoZ+0AAAAASUVORK5CYII=\n",
       "\" style=\"display:inline;vertical-align:middle;\" /></a></span></td></tr>\n",
       "<tr><td>&nbsp;</td><td colspan=4 style-\"text-align:left\"><a class=\"ProveItLink\" href=\"../../boolean/negation/_axioms_.ipynb#negationElim\">proveit.logic.boolean.negation.negationElim</a></td></tr><tr><td><a name=\"0x6642eb51e3ca1c91_step6\">6</a></td><td>assumption</td><td></td><td><span style=\"font-size:20px;\"><a class=\"ProveItLink\" href=\"../__pv_it/6ffeec42e9e07065327ed1dfd3f1f861ee3efc070/expr.ipynb\"><img src=\"data:image/png;base64,iVBORw0KGgoAAAANSUhEUgAAAC0AAAAVBAMAAAAgHXppAAAAMFBMVEX///+IiIi6urrc3NxERETM\n",
       "zMwQEBCqqqpUVFQiIiJ2dnYyMjLu7u5mZmaYmJgAAABN0h6tAAAAAXRSTlMAQObYZgAAAKxJREFU\n",
       "GNNjYGDgu8eAAlgvHgBRPLsY0ABTKojk+4AuznAbRHBNwBBfSSvxgxJGUgIMDMtAbI4NcGGeBXwT\n",
       "OYHc9yBOWQADA+9MEFjAdYDrD5MBAwP3BQaGkMkw1cwNPAwsDmBmJ9AwtQC4OAMDvwCIxd0AMt8B\n",
       "STwerOg9inuYG9gPyDMwHoC6B+HOAP0CfwY7LO4/IXjw3gOC/k3ALo4r/Bkw4ysJTLFji18Ajbow\n",
       "7aVLpRUAAAAASUVORK5CYII=\n",
       "\" style=\"display:inline;vertical-align:middle;\" /></a> <a class=\"ProveItLink\" href=\"../__pv_it/57a5a2282e0f5eb02f2825a92a117e4f4fb2a2ee0/proof.ipynb\" style=\"text-decoration: none\">&#x22A2;&nbsp;</a><a class=\"ProveItLink\" href=\"../__pv_it/7cee7da691cae5ef7f080a51c24e6a5aceb34f070/expr.ipynb\"><img src=\"data:image/png;base64,iVBORw0KGgoAAAANSUhEUgAAABgAAAAJBAMAAADa0/H1AAAALVBMVEX///+qqqpEREQyMjKYmJi6\n",
       "urqIiIju7u7MzMxUVFTc3Nx2dnYiIiJmZmYAAABngscOAAAAAXRSTlMAQObYZgAAAExJREFUCNdj\n",
       "YIAA9rRZYdugbIZqBp+Ewwx3zgDBaYbtDPsKoiDiKxkKGJRgilYC8TMkDscLBEec7QFDOoTDwfqQ\n",
       "6QGXA8yaaem5LgwASqEVUxvlSMoAAAAASUVORK5CYII=\n",
       "\" style=\"display:inline;vertical-align:middle;\" /></a></span></td></tr>\n",
       "</table>"
      ],
      "text/plain": [
       "\tstep type\trequirements\tstatement\n",
       "0\tgeneralizaton\t1\t|- forall_{P, x | P(x), [not](x)} P(FALSE)\n",
       "1\tinstantiation\t2, 3, 4\t{P(x), [not](x)} |- P(FALSE)\n",
       "\tP(_a) : P(_a), x : x, y : FALSE\n",
       "2\ttheorem\t\t|- forall_{P, x, y | P(x), x = y} P(y)\n",
       "\tproveit.logic.equality.subRightSideInto\n",
       "3\tassumption\t\t{P(x)} |- P(x)\n",
       "4\tinstantiation\t5, 6\t{[not](x)} |- x = FALSE\n",
       "\tA : x\n",
       "5\taxiom\t\t|- forall_{A | [not](A)} (A = FALSE)\n",
       "\tproveit.logic.boolean.negation.negationElim\n",
       "6\tassumption\t\t{[not](x)} |- [not](x)"
      ]
     },
     "execution_count": 6,
     "metadata": {},
     "output_type": "execute_result"
    }
   ],
   "source": [
    "%qed"
   ]
  },
  {
   "cell_type": "code",
   "execution_count": null,
   "metadata": {},
   "outputs": [],
   "source": []
  }
 ],
 "metadata": {
  "kernelspec": {
   "display_name": "Python 3",
   "language": "python",
   "name": "python3"
  }
 },
 "nbformat": 4,
 "nbformat_minor": 0
}
