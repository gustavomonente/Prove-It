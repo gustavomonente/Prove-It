{
 "cells": [
  {
   "cell_type": "markdown",
   "metadata": {},
   "source": [
    "Proof of <a class=\"ProveItLink\" href=\"../../../_context_.ipynb\">proveit</a>.<a class=\"ProveItLink\" href=\"../../_context_.ipynb\">logic</a>.<a class=\"ProveItLink\" href=\"../_context_.ipynb\">equality</a>.<a href=\"../_theorems_.ipynb#rhsViaEquivalence\" class=\"ProveItLink\">rhsViaEquivalence</a> theorem\n",
    "========"
   ]
  },
  {
   "cell_type": "code",
   "execution_count": 1,
   "metadata": {},
   "outputs": [],
   "source": [
    "import proveit\n",
    "from proveit import defaults, Lambda\n",
    "from proveit._common_ import x, y, P, Q, X\n",
    "from proveit.logic.equality._theorems_ import subRightSideInto\n",
    "context = proveit.Context('..') # the theorem's context is in the parent directory"
   ]
  },
  {
   "cell_type": "code",
   "execution_count": 2,
   "metadata": {},
   "outputs": [
    {
     "name": "stdout",
     "output_type": "stream",
     "text": [
      "Beginning proof of rhsViaEquivalence\n",
      "Recorded 'presuming' information\n",
      "Presuming previous theorems (applied transitively).\n"
     ]
    },
    {
     "data": {
      "text/html": [
       "<strong id=\"rhsViaEquivalence\">rhsViaEquivalence:</strong> <a class=\"ProveItLink\" href=\"../__pv_it/ea3f0886e0e7f5db38be02c25ae4d3c5049183de0/expr.ipynb\"><img src=\"data:image/png;base64,iVBORw0KGgoAAAANSUhEUgAAAIkAAAAWBAMAAAAGOqJsAAAAMFBMVEX///8QEBCIiIhmZma6urrM\n",
       "zMxUVFQiIiJERETc3Nzu7u6qqqp2dnaYmJgyMjIAAAAcRTyBAAAAAXRSTlMAQObYZgAAAgFJREFU\n",
       "OMutVD9IG1EY/3nR/DnvqkiXVgdFxEUaxyiIBy7ZmnZwcDFCdSiCuhaLgYImhZJsuqjRMUMrdMoi\n",
       "0kIFDXrOIqaLg9BWEKVpbdPve5fcvUsc9OgP3vf78uX3fnfve/ce8F9Q5HDiebraXRgi2uf83LPL\n",
       "bgz+BLBCaSjh1eQ9LUXtAB5kAW3Lq8tXmo0ZQN/L5Za9mmh/OB5mgJ/J5LxXl/VZjsMGMAmkgMb0\n",
       "dOQll7oLg0LQaOmi158XsxJbqIoOOzmmY8AIVN7tI+o30ZqBZ0IdtPR6K7RZiQVs0UKMY5lGAIpJ\n",
       "NAWEabceAb645OKPQ7mQmOGIyuzVfM0dMgNceA0kydIUj3VcqBBMSFypVURz4ucvdi6O8jdYgvIK\n",
       "6KLUembF5UMGvVmJGY5ogkNYNCf1gpt508df8RkNX1FyefqpsGWzP0l4J4nGs5s9TZdC+JG7pokq\n",
       "bmg07EguB3CzW6R0mtqpyNDCbxTsF3mbtVuOyxu42S3C2HRvCmKjdF5vi3UIptTj0EPZ5Tck9n8n\n",
       "fJNEXIvpGdt/nNLQW2w817cNyaWpBFEXXIUjEouI2n8oPwZoSjvUyJd4SHJ5cpkRdcH2nWKLuM3l\n",
       "q5pj0cxPj6/KK7LrLlRFnM7VXgh5fv2/j+tc8rUuVdGt4JOAJaPOxaxTLhl3O/S++9wQ/wC6SI3I\n",
       "rLOAiQAAAABJRU5ErkJggg==\n",
       "\" style=\"display:inline;vertical-align:middle;\" /></a><br>(see <a class=\"ProveItLink\" href=\"../__pv_it/ea3f0886e0e7f5db38be02c25ae4d3c5049183de0/dependencies.ipynb\">dependencies</a>)<br>"
      ],
      "text/plain": [
       "rhsViaEquivalence: forall_{P, Q | P, P = Q} Q"
      ]
     },
     "execution_count": 2,
     "metadata": {},
     "output_type": "execute_result"
    }
   ],
   "source": [
    "%proving rhsViaEquivalence presuming []"
   ]
  },
  {
   "cell_type": "code",
   "execution_count": 3,
   "metadata": {},
   "outputs": [
    {
     "data": {
      "text/html": [
       "<strong id=\"defaults.assumptions\">defaults.assumptions:</strong> <a class=\"ProveItLink\" href=\"../__pv_it/acd2bafa22f6bc61d26be0dca56ad6e035608f520/expr.ipynb\"><img src=\"data:image/png;base64,iVBORw0KGgoAAAANSUhEUgAAAF8AAAAUBAMAAAAZ/fxpAAAAMFBMVEX////MzMxUVFR2dna6uroQ\n",
       "EBCqqqqIiIgiIiJmZmYyMjJERETu7u6YmJjc3NwAAACgK8IjAAAAAXRSTlMAQObYZgAAAaRJREFU\n",
       "KM+VU89LAkEU/tTw9+r+AYGgRNBFwUPZpT0GHevYoWOnsltCoBBGt/YWRJEEHeqQEXRM9xJGXaQ/\n",
       "oDx201SozNjem9GsbZEamLcz871v3vfevgFCVfx5rLC5o3lvXkRPDHGmxN+jE/u/XIOZ5AHgrNHy\n",
       "jPcdILAooXABuDSshCkVznMECVN02jpagPtFQpEEsJq2+N+SZ3AemAS8HMXTptmSWFajmbAQjjlk\n",
       "HLgGnngfaJC+tsTKDGk//V0fbGdq8GvI9HXXdQlSOqE3S4B6ju2hBpeOq55u96bEOJ1loWj6lMeJ\n",
       "uFvkVFahFLAldMeSu73CeJrJ1Ia1RjsqW5Mqk8OC4A7KGOja/DCTcXeT4jck4XWAhXM2hDwbb1cQ\n",
       "WJLjW5IRvb+SORzxckzopkRGciJpT3tAyGo2ESJGZU3cSkmn6OMXuoMdtkXDhuBJV12PXDpfArNk\n",
       "i01Rtm3y3TPH7dp0NLZeApXKr8rWkMNtDOlsp6qQ502v+XoNMOwpBPQ5iOZD6eusMozgM58h2ls8\n",
       "IDmGPj1HfonCsP7/PNEH4BMSDW+6PXABvAAAAABJRU5ErkJggg==\n",
       "\" style=\"display:inline;vertical-align:middle;\" /></a><br>"
      ],
      "text/plain": [
       "defaults.assumptions: (P, P = Q)"
      ]
     },
     "execution_count": 3,
     "metadata": {},
     "output_type": "execute_result"
    }
   ],
   "source": [
    "defaults.assumptions = rhsViaEquivalence.allConditions()"
   ]
  },
  {
   "cell_type": "code",
   "execution_count": 4,
   "metadata": {},
   "outputs": [
    {
     "data": {
      "text/html": [
       "<span style=\"font-size:20px;\"> <a class=\"ProveItLink\" href=\"subRightSideInto.ipynb\" style=\"text-decoration: none\">&#x22A2;&nbsp;</a><a class=\"ProveItLink\" href=\"../__pv_it/19c030addf6d2b1fd70f425ed548586daa5d57ac0/expr.ipynb\"><img src=\"data:image/png;base64,iVBORw0KGgoAAAANSUhEUgAAAL4AAAAWBAMAAACMFTstAAAAMFBMVEX///8QEBCIiIhmZma6urrM\n",
       "zMxUVFQiIiJERETc3Nzu7u6qqqp2dnaYmJgyMjIAAAAcRTyBAAAAAXRSTlMAQObYZgAAAu1JREFU\n",
       "SMe1VU1oE1EQ/rrZ3WQ3aVo82kukoFCrlqKgIBIrqAel0YMnMaHYglJLD14sCkGhpIXa3OxFGlQE\n",
       "e7ABRfEW2oNQS4konlQW1INCbbCl2lp/Zt57m2yNCypxYDPzJvO+nTfzvVngf8h1qcJZwGHjVW1g\n",
       "X/wY7HmTA+y0cpwBnrD+UKO8vwOhjUA0q9Z3gTFSVro28MYa1eQT8Mx1RGKI0nki+drga0v00Dsu\n",
       "uA67EfUzExPXalSeUAkwl2D1lz1vgS+ZzMU/226J34R/QAORZbwNWhtwox0WdWIa6AaGAH20d/fZ\n",
       "qg26VIeXpwepjAWxuO+PnywgTLmGihS7Hxqd5jVwADZz9CnwuPrAUtU3ItIPU7IikPXF39E72055\n",
       "BPOw8vsQItY8pBU0eh966G8/fDPFyZxUPUv54o/mhKqLw8YGNMToRESeYpCdl4CMH36wyMl0K+d7\n",
       "X/zPcPGhryKZEPiWc4KzWoE2QC9rPs4wHSkMePAns9iSA7FiatfmBLaxS1hS3GAYiyodonvAwSYy\n",
       "D9EzdJo7udbKN7nFdM6TKqwajR78zqnZPLNOy/UF43jATGfLzJCMlIMF/cUuqncohUGI/uIe0zXi\n",
       "SPJFuRfWrX4t7cGfE1xKw8A8s4lTFZZkrRuM6Kq6tcTPQEr/RuZeZm2MkdoUhQU7AgUz5sG/IvC5\n",
       "ryv0nBK+lXLV3eDAwnJMspoStruaOeIds4+73qBGRFLcn2C8LuHB/yqqS0kaJQM4KFZkmR9J5svB\n",
       "FRHzgToAu3yTk5S3NWyV5lCwhhFMdHr4Y4hcKXY84kSAlxjLSUu1UwVXhOZbHybjYr6pybSwh3Ca\n",
       "7HNHWnNGE/Suqx787YuiaAO4/XxqBtiJY3lpqUuugj20zhLdL8v57JWwq+5gxMt/KVuVpnOvm7du\n",
       "cEXo+9LRzDUbWu9/5Kpe3anGV4twUXz3KuIGV38f638ZJUVXHZ1FNb4u/75J+9btcoP/QQK/OV7L\n",
       "XyH8BE6swAxF4PihAAAAAElFTkSuQmCC\n",
       "\" style=\"display:inline;vertical-align:middle;\" /></a></span>"
      ],
      "text/plain": [
       "|- forall_{P, x, y | P(x), x = y} P(y)"
      ]
     },
     "execution_count": 4,
     "metadata": {},
     "output_type": "execute_result"
    }
   ],
   "source": [
    "subRightSideInto"
   ]
  },
  {
   "cell_type": "code",
   "execution_count": 5,
   "metadata": {},
   "outputs": [
    {
     "data": {
      "text/html": [
       "<span style=\"font-size:20px;\"><a class=\"ProveItLink\" href=\"../__pv_it/540f205ce7c707b045d86299deba107c1887f1e00/expr.ipynb\"><img src=\"data:image/png;base64,iVBORw0KGgoAAAANSUhEUgAAAGUAAAAVBAMAAACtcD09AAAAMFBMVEX///+IiIi6urrc3NxERETM\n",
       "zMwQEBCqqqpUVFQiIiJ2dnYyMjLu7u5mZmaYmJgAAABN0h6tAAAAAXRSTlMAQObYZgAAAZxJREFU\n",
       "OMtjYGDgu8dANGC9eABE8exiIAEwpYJIvg8gov9LR/cdiPCL/x4dew9gqD54a+0DIHUbxOaaACL5\n",
       "NzAwuEEV/mZgYMlB18I1lYGhBUivROiJX8DAUC8AcfMvBgb2j2haeHYDiWMLUPTIKwDxArA04ycg\n",
       "/oWmhxtkMccHFD3+QNyvAJZmAcpwfELTsx7kF67PKHqAfmD+C5EGec3+AqoW5p8gkhdo0jIQg2MD\n",
       "1A+VEKeBvMY+C2zabjAAaecC+4/lKwPDexCjLADkhx+r1spAzZTvWnURPag5v4JdAHQ1N9CIkMlg\n",
       "E/4g5P0x44aBHyxf3wAkOoGhqwayh38CQv4nlujnTACR84GmcYP0cTiA/IDwM+tfeDRC/ANWBNLD\n",
       "CPLUe3i4ySvA9TB+wpY2//AIBoANXgbXsx/sh/OgIOT+gy1tCvIxrAPHMzx+bv9vBLt6DjAO9v8Q\n",
       "wGbRiYVTDFhR0xsE1ODLBq0Mj+F6EhDCC/Dp8WVygOkB5x9o4hXAp+f+/wBY/mFA5FM+vFk0Mh2U\n",
       "T5PAbHZSywMA6DV70Uf9ifAAAAAASUVORK5CYII=\n",
       "\" style=\"display:inline;vertical-align:middle;\" /></a> <a class=\"ProveItLink\" href=\"../__pv_it/8d8933e883dd8d4e8d2a2edbf5da9f397c9d40630/proof.ipynb\" style=\"text-decoration: none\">&#x22A2;&nbsp;</a><a class=\"ProveItLink\" href=\"../../../__pv_it/dbe7145e53d9411a5ba89652cbfea9d54e4b581a0/expr.ipynb\"><img src=\"data:image/png;base64,iVBORw0KGgoAAAANSUhEUgAAAA8AAAASBAMAAAB2sJk8AAAAMFBMVEX///+qqqq6urrc3NwQEBAy\n",
       "MjJERERUVFTMzMwiIiKYmJh2dnZmZmaIiIju7u4AAABsX1SbAAAAAXRSTlMAQObYZgAAAINJREFU\n",
       "CNdjYGDgu7P7FAMI7GxgYE8A0k8DgILeQEbIAyBRz8DA/Qskvd+AwX4CiHFegWH/BRAjv4FhfgOI\n",
       "8R+IQGoZvzMwTAEJcP5jYCgBMe4DFfY/eHuD4w+Qw3thAff6DSDhvuqbyQxgrQzsDVwGYAbbATUw\n",
       "zcDz/weEwTFFgIEBAOxlJHQBUmidAAAAAElFTkSuQmCC\n",
       "\" style=\"display:inline;vertical-align:middle;\" /></a></span>"
      ],
      "text/plain": [
       "{P, P = Q} |- Q"
      ]
     },
     "execution_count": 5,
     "metadata": {},
     "output_type": "execute_result"
    }
   ],
   "source": [
    "subRightSideInto.specialize({P:Lambda(X, X), x:P, y:Q})"
   ]
  },
  {
   "cell_type": "code",
   "execution_count": 6,
   "metadata": {},
   "outputs": [
    {
     "data": {
      "text/html": [
       "<table><tr><th>&nbsp;</th><th>step type</th><th>requirements</th><th>statement</th></tr>\n",
       "<tr><td><a name=\"-0x45ab11c42f45efe6_step0\">0</a></td><td>generalizaton</td><td><a href=\"#-0x45ab11c42f45efe6_step1\">1</a></td><td><span style=\"font-size:20px;\"> <a class=\"ProveItLink\" href=\"../__pv_it/dcec509167fae302142ee96452b9190d3a42767f0/proof.ipynb\" style=\"text-decoration: none\">&#x22A2;&nbsp;</a><a class=\"ProveItLink\" href=\"../__pv_it/ea3f0886e0e7f5db38be02c25ae4d3c5049183de0/expr.ipynb\"><img src=\"data:image/png;base64,iVBORw0KGgoAAAANSUhEUgAAAIkAAAAWBAMAAAAGOqJsAAAAMFBMVEX///8QEBCIiIhmZma6urrM\n",
       "zMxUVFQiIiJERETc3Nzu7u6qqqp2dnaYmJgyMjIAAAAcRTyBAAAAAXRSTlMAQObYZgAAAgFJREFU\n",
       "OMutVD9IG1EY/3nR/DnvqkiXVgdFxEUaxyiIBy7ZmnZwcDFCdSiCuhaLgYImhZJsuqjRMUMrdMoi\n",
       "0kIFDXrOIqaLg9BWEKVpbdPve5fcvUsc9OgP3vf78uX3fnfve/ce8F9Q5HDiebraXRgi2uf83LPL\n",
       "bgz+BLBCaSjh1eQ9LUXtAB5kAW3Lq8tXmo0ZQN/L5Za9mmh/OB5mgJ/J5LxXl/VZjsMGMAmkgMb0\n",
       "dOQll7oLg0LQaOmi158XsxJbqIoOOzmmY8AIVN7tI+o30ZqBZ0IdtPR6K7RZiQVs0UKMY5lGAIpJ\n",
       "NAWEabceAb645OKPQ7mQmOGIyuzVfM0dMgNceA0kydIUj3VcqBBMSFypVURz4ucvdi6O8jdYgvIK\n",
       "6KLUembF5UMGvVmJGY5ogkNYNCf1gpt508df8RkNX1FyefqpsGWzP0l4J4nGs5s9TZdC+JG7pokq\n",
       "bmg07EguB3CzW6R0mtqpyNDCbxTsF3mbtVuOyxu42S3C2HRvCmKjdF5vi3UIptTj0EPZ5Tck9n8n\n",
       "fJNEXIvpGdt/nNLQW2w817cNyaWpBFEXXIUjEouI2n8oPwZoSjvUyJd4SHJ5cpkRdcH2nWKLuM3l\n",
       "q5pj0cxPj6/KK7LrLlRFnM7VXgh5fv2/j+tc8rUuVdGt4JOAJaPOxaxTLhl3O/S++9wQ/wC6SI3I\n",
       "rLOAiQAAAABJRU5ErkJggg==\n",
       "\" style=\"display:inline;vertical-align:middle;\" /></a></span></td></tr>\n",
       "<tr><td><a name=\"-0x45ab11c42f45efe6_step1\">1</a></td><td>instantiation</td><td><a href=\"#-0x45ab11c42f45efe6_step2\">2</a>, <a href=\"#-0x45ab11c42f45efe6_step3\">3</a>, <a href=\"#-0x45ab11c42f45efe6_step4\">4</a></td><td><span style=\"font-size:20px;\"><a class=\"ProveItLink\" href=\"../__pv_it/540f205ce7c707b045d86299deba107c1887f1e00/expr.ipynb\"><img src=\"data:image/png;base64,iVBORw0KGgoAAAANSUhEUgAAAGUAAAAVBAMAAACtcD09AAAAMFBMVEX///+IiIi6urrc3NxERETM\n",
       "zMwQEBCqqqpUVFQiIiJ2dnYyMjLu7u5mZmaYmJgAAABN0h6tAAAAAXRSTlMAQObYZgAAAZxJREFU\n",
       "OMtjYGDgu8dANGC9eABE8exiIAEwpYJIvg8gov9LR/cdiPCL/x4dew9gqD54a+0DIHUbxOaaACL5\n",
       "NzAwuEEV/mZgYMlB18I1lYGhBUivROiJX8DAUC8AcfMvBgb2j2haeHYDiWMLUPTIKwDxArA04ycg\n",
       "/oWmhxtkMccHFD3+QNyvAJZmAcpwfELTsx7kF67PKHqAfmD+C5EGec3+AqoW5p8gkhdo0jIQg2MD\n",
       "1A+VEKeBvMY+C2zabjAAaecC+4/lKwPDexCjLADkhx+r1spAzZTvWnURPag5v4JdAHQ1N9CIkMlg\n",
       "E/4g5P0x44aBHyxf3wAkOoGhqwayh38CQv4nlujnTACR84GmcYP0cTiA/IDwM+tfeDRC/ANWBNLD\n",
       "CPLUe3i4ySvA9TB+wpY2//AIBoANXgbXsx/sh/OgIOT+gy1tCvIxrAPHMzx+bv9vBLt6DjAO9v8Q\n",
       "wGbRiYVTDFhR0xsE1ODLBq0Mj+F6EhDCC/Dp8WVygOkB5x9o4hXAp+f+/wBY/mFA5FM+vFk0Mh2U\n",
       "T5PAbHZSywMA6DV70Uf9ifAAAAAASUVORK5CYII=\n",
       "\" style=\"display:inline;vertical-align:middle;\" /></a> <a class=\"ProveItLink\" href=\"../__pv_it/8d8933e883dd8d4e8d2a2edbf5da9f397c9d40630/proof.ipynb\" style=\"text-decoration: none\">&#x22A2;&nbsp;</a><a class=\"ProveItLink\" href=\"../../../__pv_it/dbe7145e53d9411a5ba89652cbfea9d54e4b581a0/expr.ipynb\"><img src=\"data:image/png;base64,iVBORw0KGgoAAAANSUhEUgAAAA8AAAASBAMAAAB2sJk8AAAAMFBMVEX///+qqqq6urrc3NwQEBAy\n",
       "MjJERERUVFTMzMwiIiKYmJh2dnZmZmaIiIju7u4AAABsX1SbAAAAAXRSTlMAQObYZgAAAINJREFU\n",
       "CNdjYGDgu7P7FAMI7GxgYE8A0k8DgILeQEbIAyBRz8DA/Qskvd+AwX4CiHFegWH/BRAjv4FhfgOI\n",
       "8R+IQGoZvzMwTAEJcP5jYCgBMe4DFfY/eHuD4w+Qw3thAff6DSDhvuqbyQxgrQzsDVwGYAbbATUw\n",
       "zcDz/weEwTFFgIEBAOxlJHQBUmidAAAAAElFTkSuQmCC\n",
       "\" style=\"display:inline;vertical-align:middle;\" /></a></span></td></tr>\n",
       "<tr><td>&nbsp;</td><td colspan=4 style=\"text-align:left\"><span style=\"font-size:20px;\"><a class=\"ProveItLink\" href=\"../__pv_it/de63f29172db5da185dc963dda65a0a9c1e1f2510/expr.ipynb\"><img src=\"data:image/png;base64,iVBORw0KGgoAAAANSUhEUgAAADEAAAAUBAMAAADW08iqAAAAMFBMVEX///8iIiLc3Ny6urqIiIiq\n",
       "qqp2dnbMzMwQEBDu7u5mZmYyMjJERERUVFSYmJgAAAA4CJ/KAAAAAXRSTlMAQObYZgAAASNJREFU\n",
       "KM9jYIADpgcIdhCYfPv/7N1dExgY5gDZb/7LMcz+f5SBVwEs9ZuBgaeTgWETiH0/gIHvJgMD5wYQ\n",
       "h/0bAwPrFwa+BSBO/QaGWhCdAiJYPgPxNwZGsAHc35kugOgZIILnAwMD72cGRbDJrH91wTS3AZDg\n",
       "B5qpv4DBC+Kq/pNgig1kdn0CA6sYA8M5iEy+A5jiAznB/1raEqCjRSEy9xsgpgoAifMTwOxmMMml\n",
       "+xVMswMtZ/jIgCSznP0PXIb9F0QGbBqbAYM82PXMAhDvgADYBc4MDO8XwFzA/RMikwXEvEBRfjCf\n",
       "K4GBa/9fiDsNGRiq/7czsO//CAoE7gJEwENCBwYmIrEhIQoDKcicQ0hsSCzAwBwkNg+K0cix/YiB\n",
       "AQBfFEcCrjbStwAAAABJRU5ErkJggg==\n",
       "\" style=\"display:inline;vertical-align:middle;\" /></a> : <a class=\"ProveItLink\" href=\"../../../__pv_it/bfd45009d58edcd8fe85cb821cb0ca916b0008150/expr.ipynb\"><img src=\"data:image/png;base64,iVBORw0KGgoAAAANSUhEUgAAABIAAAAOBAMAAADQ9FGEAAAAMFBMVEX///+6urpmZmaIiIh2dnYQ\n",
       "EBDc3NzMzMxUVFSqqqoyMjLu7u4iIiJERESYmJgAAADufbLkAAAAAXRSTlMAQObYZgAAAGJJREFU\n",
       "CNdjYGB4+/8cw67/NxmAoH8CA183iMFQv4ChAsxg4PrO1gBhcf7IYICC+Nswlr8BjNUfAGUwZfyE\n",
       "stTZ/0IYLAIM5xPALEMGhvcKIAYHkOT/DWRU/Q9nYF//p4EBACq0GGkYmwpjAAAAAElFTkSuQmCC\n",
       "\" style=\"display:inline;vertical-align:middle;\" /></a>, <a class=\"ProveItLink\" href=\"../../../__pv_it/72df168d2bfb4e0140af90912ebf83b13772060b0/expr.ipynb\"><img src=\"data:image/png;base64,iVBORw0KGgoAAAANSUhEUgAAAAsAAAAJBAMAAAAWSsseAAAALVBMVEX///9mZmaqqqrMzMxEREQy\n",
       "MjIiIiKYmJh2dna6urrc3NxUVFSIiIju7u4AAACJHQtQAAAAAXRSTlMAQObYZgAAAEJJREFUCNdj\n",
       "YLhzeuWJAwy8Dew5bAEMHBc43nIuYOBlYHFgAAG+A2DKzgBIMF04x8BzgWGegh/DcgaG22fuiBcw\n",
       "AAATyhBrnyPYZQAAAABJRU5ErkJggg==\n",
       "\" style=\"display:inline;vertical-align:middle;\" /></a> : <a class=\"ProveItLink\" href=\"../../../__pv_it/390c91a44e60b16c95d2255652741252e8ec8d980/expr.ipynb\"><img src=\"data:image/png;base64,iVBORw0KGgoAAAANSUhEUgAAABAAAAAOBAMAAADUAYG5AAAAMFBMVEX///8iIiLc3Ny6urqIiIiq\n",
       "qqp2dnbMzMwQEBDu7u5mZmYyMjJERERUVFSYmJgAAAA4CJ/KAAAAAXRSTlMAQObYZgAAAF5JREFU\n",
       "CNdjYGB4+//s3V0TGIDgNwMDTyeQZv/GwMD6Bchg+QzEQA4DzwcGBl4gh4F/AwOD/gIgoz6BgVUM\n",
       "pMn/WtoSsO7zYBIIPkJp9l9QBsgYMOD+CaG59v91ANEANtEY7WfmSIAAAAAASUVORK5CYII=\n",
       "\" style=\"display:inline;vertical-align:middle;\" /></a>, <a class=\"ProveItLink\" href=\"../../../__pv_it/c6e291955561f22a0e6708fd793ea93f1c7dbb5d0/expr.ipynb\"><img src=\"data:image/png;base64,iVBORw0KGgoAAAANSUhEUgAAAAsAAAANBAMAAACN24kIAAAAMFBMVEX///8iIiKYmJhUVFTMzMxE\n",
       "REQyMjKqqqq6urp2dnYQEBDc3NxmZmaIiIju7u4AAACH5sGpAAAAAXRSTlMAQObYZgAAAFlJREFU\n",
       "CNdj4LtzgWHXAwZOjgUM9xkYtvMkMIQyMDzgusDwl4GBof8ByxcgdYyBdwGQCmZgNQBShxn6FYDU\n",
       "47vnNzAwgGUZGJgT+H4AKUYF1gtAiuPuESAJAJGkFvXVdzA+AAAAAElFTkSuQmCC\n",
       "\" style=\"display:inline;vertical-align:middle;\" /></a> : <a class=\"ProveItLink\" href=\"../../../__pv_it/dbe7145e53d9411a5ba89652cbfea9d54e4b581a0/expr.ipynb\"><img src=\"data:image/png;base64,iVBORw0KGgoAAAANSUhEUgAAAA8AAAASBAMAAAB2sJk8AAAAMFBMVEX///+qqqq6urrc3NwQEBAy\n",
       "MjJERERUVFTMzMwiIiKYmJh2dnZmZmaIiIju7u4AAABsX1SbAAAAAXRSTlMAQObYZgAAAINJREFU\n",
       "CNdjYGDgu7P7FAMI7GxgYE8A0k8DgILeQEbIAyBRz8DA/Qskvd+AwX4CiHFegWH/BRAjv4FhfgOI\n",
       "8R+IQGoZvzMwTAEJcP5jYCgBMe4DFfY/eHuD4w+Qw3thAff6DSDhvuqbyQxgrQzsDVwGYAbbATUw\n",
       "zcDz/weEwTFFgIEBAOxlJHQBUmidAAAAAElFTkSuQmCC\n",
       "\" style=\"display:inline;vertical-align:middle;\" /></a></span></td></tr><tr><td><a name=\"-0x45ab11c42f45efe6_step2\">2</a></td><td>theorem</td><td></td><td><span style=\"font-size:20px;\"> <a class=\"ProveItLink\" href=\"subRightSideInto.ipynb\" style=\"text-decoration: none\">&#x22A2;&nbsp;</a><a class=\"ProveItLink\" href=\"../__pv_it/19c030addf6d2b1fd70f425ed548586daa5d57ac0/expr.ipynb\"><img src=\"data:image/png;base64,iVBORw0KGgoAAAANSUhEUgAAAL4AAAAWBAMAAACMFTstAAAAMFBMVEX///8QEBCIiIhmZma6urrM\n",
       "zMxUVFQiIiJERETc3Nzu7u6qqqp2dnaYmJgyMjIAAAAcRTyBAAAAAXRSTlMAQObYZgAAAu1JREFU\n",
       "SMe1VU1oE1EQ/rrZ3WQ3aVo82kukoFCrlqKgIBIrqAel0YMnMaHYglJLD14sCkGhpIXa3OxFGlQE\n",
       "e7ABRfEW2oNQS4konlQW1INCbbCl2lp/Zt57m2yNCypxYDPzJvO+nTfzvVngf8h1qcJZwGHjVW1g\n",
       "X/wY7HmTA+y0cpwBnrD+UKO8vwOhjUA0q9Z3gTFSVro28MYa1eQT8Mx1RGKI0nki+drga0v00Dsu\n",
       "uA67EfUzExPXalSeUAkwl2D1lz1vgS+ZzMU/226J34R/QAORZbwNWhtwox0WdWIa6AaGAH20d/fZ\n",
       "qg26VIeXpwepjAWxuO+PnywgTLmGihS7Hxqd5jVwADZz9CnwuPrAUtU3ItIPU7IikPXF39E72055\n",
       "BPOw8vsQItY8pBU0eh966G8/fDPFyZxUPUv54o/mhKqLw8YGNMToRESeYpCdl4CMH36wyMl0K+d7\n",
       "X/zPcPGhryKZEPiWc4KzWoE2QC9rPs4wHSkMePAns9iSA7FiatfmBLaxS1hS3GAYiyodonvAwSYy\n",
       "D9EzdJo7udbKN7nFdM6TKqwajR78zqnZPLNOy/UF43jATGfLzJCMlIMF/cUuqncohUGI/uIe0zXi\n",
       "SPJFuRfWrX4t7cGfE1xKw8A8s4lTFZZkrRuM6Kq6tcTPQEr/RuZeZm2MkdoUhQU7AgUz5sG/IvC5\n",
       "ryv0nBK+lXLV3eDAwnJMspoStruaOeIds4+73qBGRFLcn2C8LuHB/yqqS0kaJQM4KFZkmR9J5svB\n",
       "FRHzgToAu3yTk5S3NWyV5lCwhhFMdHr4Y4hcKXY84kSAlxjLSUu1UwVXhOZbHybjYr6pybSwh3Ca\n",
       "7HNHWnNGE/Suqx787YuiaAO4/XxqBtiJY3lpqUuugj20zhLdL8v57JWwq+5gxMt/KVuVpnOvm7du\n",
       "cEXo+9LRzDUbWu9/5Kpe3anGV4twUXz3KuIGV38f638ZJUVXHZ1FNb4u/75J+9btcoP/QQK/OV7L\n",
       "XyH8BE6swAxF4PihAAAAAElFTkSuQmCC\n",
       "\" style=\"display:inline;vertical-align:middle;\" /></a></span></td></tr>\n",
       "<tr><td>&nbsp;</td><td colspan=4 style-\"text-align:left\"><a class=\"ProveItLink\" href=\"subRightSideInto.ipynb\">proveit.logic.equality.subRightSideInto</a></td></tr><tr><td><a name=\"-0x45ab11c42f45efe6_step3\">3</a></td><td>assumption</td><td></td><td><span style=\"font-size:20px;\"><a class=\"ProveItLink\" href=\"../__pv_it/3ce6966dcbb54400258cd7ac4b7d41ce205aaa0a0/expr.ipynb\"><img src=\"data:image/png;base64,iVBORw0KGgoAAAANSUhEUgAAACMAAAAVBAMAAAA+1EraAAAAMFBMVEX///+IiIi6urrc3NxERETM\n",
       "zMwQEBCqqqpUVFQiIiJ2dnYyMjLu7u5mZmaYmJgAAABN0h6tAAAAAXRSTlMAQObYZgAAAL1JREFU\n",
       "GNNjYGDgu8cAA6wXD4Aonl0MCMCUCiL5PoDIF/89OvYCldwGcbgmgOV/MzCw5DAwrEQIsf5iYGD/\n",
       "iCLE+AmIf6EIsQBN5PiEIsS/gYHB/gIDwzIQh2MDiIxfwMA+C0i/B3HKAkCkfNcqsDO5gSpDJoPd\n",
       "4H8A6thOAQYGNbCqn1AR7gaQWQ4gZ/2FCr2H2whyFhgsgwtx/4EKwd3Fu/+HAJoQAkCEEjCEIOEF\n",
       "A+DwYkAJ1SQwxY4W9gDlGTb/WlNfRwAAAABJRU5ErkJggg==\n",
       "\" style=\"display:inline;vertical-align:middle;\" /></a> <a class=\"ProveItLink\" href=\"../__pv_it/e9ee9dba94d529ab9a64871ad162e0505e573a880/proof.ipynb\" style=\"text-decoration: none\">&#x22A2;&nbsp;</a><a class=\"ProveItLink\" href=\"../../../__pv_it/390c91a44e60b16c95d2255652741252e8ec8d980/expr.ipynb\"><img src=\"data:image/png;base64,iVBORw0KGgoAAAANSUhEUgAAABAAAAAOBAMAAADUAYG5AAAAMFBMVEX///8iIiLc3Ny6urqIiIiq\n",
       "qqp2dnbMzMwQEBDu7u5mZmYyMjJERERUVFSYmJgAAAA4CJ/KAAAAAXRSTlMAQObYZgAAAF5JREFU\n",
       "CNdjYGB4+//s3V0TGIDgNwMDTyeQZv/GwMD6Bchg+QzEQA4DzwcGBl4gh4F/AwOD/gIgoz6BgVUM\n",
       "pMn/WtoSsO7zYBIIPkJp9l9QBsgYMOD+CaG59v91ANEANtEY7WfmSIAAAAAASUVORK5CYII=\n",
       "\" style=\"display:inline;vertical-align:middle;\" /></a></span></td></tr>\n",
       "<tr><td><a name=\"-0x45ab11c42f45efe6_step4\">4</a></td><td>assumption</td><td></td><td><span style=\"font-size:20px;\"><a class=\"ProveItLink\" href=\"../__pv_it/a5eeb2ee6f193b304400ed249a106bbba5814b160/expr.ipynb\"><img src=\"data:image/png;base64,iVBORw0KGgoAAAANSUhEUgAAAE4AAAAVBAMAAAAazcUaAAAAMFBMVEX///+IiIi6urrc3NxERETM\n",
       "zMwQEBCqqqpUVFQiIiJ2dnYyMjLu7u5mZmaYmJgAAABN0h6tAAAAAXRSTlMAQObYZgAAAT1JREFU\n",
       "KM9jYGDgu8eAH8TKgEieXQyEgFoAkOD7AGK++O/RsfcAugIe2VUgy3g3AAmuCWCh3wwMLDno6lYG\n",
       "MHA4QJVA1LH+YmBg/4im7DTQHJ4sFHWMn4D4F5q6bSCH9KOoYwG6kuMTqjKufyByvQGyOn6gFfYX\n",
       "UNXZg2XuKzBwJQBpDpBnGOIXMLDPAhuyGwxAWtYLgAT8AyBBUgYKHAb5rlUX0YNlPljmPxDvZWAI\n",
       "mQwW8z+AGbz/QWLsP0B2ToQGNsNPLNEwDURw/gESO0BqHUDB9xfuSYj7GoDMNrCDBKBRBvYv4ycs\n",
       "5sUfOCgKNgDsX7A67j9Y1DEKPOB6v4ABKZx59/8QwKIwpkvSmSEAJT5wAI4APgOYugQ86lguqMCM\n",
       "gqQ/HID3/1dY+mPAl55ZpxWA0rMCiM1OTP4AAOaXXIOm0VhJAAAAAElFTkSuQmCC\n",
       "\" style=\"display:inline;vertical-align:middle;\" /></a> <a class=\"ProveItLink\" href=\"../__pv_it/eddd7ff50948a5d0e932c77cccbd3b760e2e6b010/proof.ipynb\" style=\"text-decoration: none\">&#x22A2;&nbsp;</a><a class=\"ProveItLink\" href=\"../__pv_it/893d80e1934c1f3783056a1b4e1d53eae9591ea60/expr.ipynb\"><img src=\"data:image/png;base64,iVBORw0KGgoAAAANSUhEUgAAADsAAAASBAMAAAAXqLt+AAAAMFBMVEX///8iIiLc3Ny6urqIiIiq\n",
       "qqp2dnbMzMwQEBDu7u5mZmYyMjJERERUVFSYmJgAAAA4CJ/KAAAAAXRSTlMAQObYZgAAAOJJREFU\n",
       "KM9jYGB4+//s3V0TGNAAp1faOgjrNwMDTye6dGIBA+8BEIP9GwMD6xc02dkbgAa0gVgsn4H4G5r0\n",
       "DpBt90Esng8MDLyfUWXZ/oHIfAUgwQ80R38BqrS+AIhcbwAk6hMYWMXAWnaDAUhlvgNI4HwBkPC/\n",
       "lrYE3V/yIAmG/2A1GH4GSoDEWP+CmB8xZRkkQATjT5C3f8GdC7H7ApB5A8T3d4B6GwPUT5jiDtHH\n",
       "/ROLNIvDA7b3CUAG1/6/DljkK685HmIoYMANeAv4FPBI8yywwSPLwPX/Oz5pdokABgYAlwBBkpOg\n",
       "IzwAAAAASUVORK5CYII=\n",
       "\" style=\"display:inline;vertical-align:middle;\" /></a></span></td></tr>\n",
       "</table>"
      ],
      "text/plain": [
       "\tstep type\trequirements\tstatement\n",
       "0\tgeneralizaton\t1\t|- forall_{P, Q | P, P = Q} Q\n",
       "1\tinstantiation\t2, 3, 4\t{P, P = Q} |- Q\n",
       "\tP(X) : X, x : P, y : Q\n",
       "2\ttheorem\t\t|- forall_{P, x, y | P(x), x = y} P(y)\n",
       "\tproveit.logic.equality.subRightSideInto\n",
       "3\tassumption\t\t{P} |- P\n",
       "4\tassumption\t\t{P = Q} |- P = Q"
      ]
     },
     "execution_count": 6,
     "metadata": {},
     "output_type": "execute_result"
    }
   ],
   "source": [
    "%qed"
   ]
  },
  {
   "cell_type": "code",
   "execution_count": null,
   "metadata": {},
   "outputs": [],
   "source": []
  }
 ],
 "metadata": {
  "kernelspec": {
   "display_name": "Python 3",
   "language": "python",
   "name": "python3"
  }
 },
 "nbformat": 4,
 "nbformat_minor": 0
}
