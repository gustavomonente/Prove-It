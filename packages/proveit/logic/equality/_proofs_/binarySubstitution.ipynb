{
 "cells": [
  {
   "cell_type": "markdown",
   "metadata": {},
   "source": [
    "Proof of <a class=\"ProveItLink\" href=\"../../../_context_.ipynb\">proveit</a>.<a class=\"ProveItLink\" href=\"../../_context_.ipynb\">logic</a>.<a class=\"ProveItLink\" href=\"../_context_.ipynb\">equality</a>.<a class=\"ProveItLink\" href=\"../_theorems_.ipynb#binarySubstitution\">binarySubstitution</a> theorem\n",
    "========"
   ]
  },
  {
   "cell_type": "code",
   "execution_count": 1,
   "metadata": {},
   "outputs": [],
   "source": [
    "import proveit\n",
    "context = proveit.Context('..') # the theorem's context is in the parent directory"
   ]
  },
  {
   "cell_type": "code",
   "execution_count": 2,
   "metadata": {},
   "outputs": [
    {
     "name": "stdout",
     "output_type": "stream",
     "text": [
      "Beginning proof of binarySubstitution\n",
      "Recorded 'presuming' information\n"
     ]
    },
    {
     "name": "stdout",
     "output_type": "stream",
     "text": [
      "Presuming previous theorems (applied transitively).\n"
     ]
    },
    {
     "data": {
      "text/html": [
       "<strong id=\"binarySubstitution\">binarySubstitution:</strong> <a class=\"ProveItLink\" href=\"../__pv_it/7de71109b9d58445397eb68f89ce04f6dc4a6bb70/expr.ipynb\"><img src=\"data:image/png;base64,iVBORw0KGgoAAAANSUhEUgAAAdAAAAAVBAMAAAAEIaKAAAAAMFBMVEX///8QEBCIiIhmZma6urrM\n",
       "zMxUVFQiIiJERETc3Nzu7u6qqqp2dnaYmJgyMjIAAAAcRTyBAAAAAXRSTlMAQObYZgAABSVJREFU\n",
       "WMPdWF2IG1UUPpv/mUySRZSiixATraALDVusiG2aVlAQNcGH2reEpT4odgkiFqpiVCi7C2sjSCuI\n",
       "MLtKt+5DE/BB1gcN9aHVVgkWxD4oEX+gC8oiW9CsLd5z75mZO3Pn2qyPHjgZ5uY785175pxz7x2A\n",
       "rYjR91Qnq2FGeuiqlkhnnW7/m3sK1NEBDnw/4kRPS6qTRDvESBHztaaAJto6IjCnHgi1fibseQr2\n",
       "9DaCkl7AwbURJ3pFUp2YAwqvbKRKtiSgDlwlgsSFzVDrM2HhVbE/EZT0HfSpNdo8MyVP9XLWm4lj\n",
       "FCK5LkHPaogAOo9WQq2tvDoWgt0kKGnWZpfuaBNNtj3Vy6K4HDzqGYVI1SboojeWaoNs85nG2hxX\n",
       "x1RsbEhQ0syXKysnR8zck5LqJVvhl0MFzyhEzjlQgqPEWyDbnNNZ/xz+OD/WajpQ0j9nZ18ecaJF\n",
       "SZe2vz0ZTCFj99RtjKEkSjXpGpnFPLxl+7G/Fh4UUEtKuEsSEVzatjNItTQFBmP4XPHMxQoXeBCn\n",
       "i10BJX0aYA7/2K1bBZ5w28WCp2Yv83wS/7B+58K93dfOrrMC43irSwXBwFZsHHb4seZ1u9PmUAG/\n",
       "/wjKqyWPCOCPABVAbx9EGMMPECB2seQCr9o18y8BJX1IND6r0NNM1Av5S55atjWMBerHvB2iLPnS\n",
       "PGeSYAwco3ejA5gNrHBDyOU5VMBJPu26RGBcDVIZ3TKkGMPH6gpKWHKBV62Ns0coaRIiffCVSrDm\n",
       "3FZ1s6cmZ/RLdAhJlmJxHtJveK4IsD2W5yGXsQPo9Dg0vi7H6seKQwTp9SCVCTdheKCu+OhgyQWU\n",
       "Mph/Cyip1efFlLN1E821QyYKnNEvYy3o1BzPWc894BpV7fhVZRmtdtWJnvjCtRHdxE/FOmm9FjZR\n",
       "B0suiGU0tumbqDFAhzLH9yC++CS+hv0N9JPtNmbQqF54Vk1d4IxeqTSwKnq8y8eQNM3yPdt2jMoQ\n",
       "Gfdjc33Ya3Moh0NZ/HXFI4JUI0DF8+AOdnkkQOxhyQWUa/h6OdTRuUM4/h3+3JMYvIA1P4yjX8u1\n",
       "Or7mu+2i2ozS9g6IBJKg04WZtOgwfJLpkmN0THgip0mFlZPUjKjvSUQwlleo2FOOUXcJJBNhyQWU\n",
       "DVjs+5oRfMRDuhN/alksV+ODZqTFh57CwdfdB0u9uto9Du8F2FL5zIsWCzt2tYOUvsJgF1QDPT3R\n",
       "T5UENOo1QXNNIoJORaYyr+MbbcSu4QKhbowIK1zoYOwOwxsEdVRUwIJUj9FeAscmYLsomF30OCkP\n",
       "ThWW9gTXI3P6rhN3speJicazpOAYnSrsDXboqa9AQLM1b/Y1iQiq4KM6YiNDkS0Z8Iu6zyKscCGJ\n",
       "EX5/sk9QRzM8LW7hBnVArmRljF3YMrSwwu6GbMZb2QIu4w9vnnFvO1fWQpelRULea8J5/wYybVOV\n",
       "gtlUHhTAfuLGs+kpjQzBmDfWv4aeMQ/JWpXdwa3xjT67HM20/sumXtqgJwbmhhaq2dSnG7/5jwSs\n",
       "KGCG56iyqVewPXn/7yg17ibEJ8zDj03a8QmITb/J7uDhe4t9djlw0X3inKQ3OqZJRsl+Kq+Dhh/T\n",
       "mM38wKUU2z+mr7CGEXJMC2LNvHyiO+MzwWikKT7wIW92zt0WD94p9eAdK9ynhaY0B+9Mse0/tmPF\n",
       "7S/WwsIcxGb0byb7bc39qrEKz8UG0t0WP6VcHv1TyuUw+A0/pWRG/5SCUEcplwsUM355/KJ89/+Q\n",
       "fwCMEMSXmJWVdgAAAABJRU5ErkJggg==\n",
       "\" style=\"display:inline;vertical-align:middle;\" /></a><br>(see <a class=\"ProveItLink\" href=\"../__pv_it/7de71109b9d58445397eb68f89ce04f6dc4a6bb70/dependencies.ipynb\">dependencies</a>)<br>"
      ],
      "text/plain": [
       "binarySubstitution: forall_{f, x, y, a, b} (((x = a) and (y = b)) => (f(x, y) = f(a, b)))"
      ]
     },
     "execution_count": 2,
     "metadata": {},
     "output_type": "execute_result"
    }
   ],
   "source": [
    "%proving binarySubstitution presuming []"
   ]
  },
  {
   "cell_type": "code",
   "execution_count": null,
   "metadata": {},
   "outputs": [],
   "source": []
  }
 ],
 "metadata": {
  "kernelspec": {
   "display_name": "Python 3",
   "language": "python",
   "name": "python3"
  }
 },
 "nbformat": 4,
 "nbformat_minor": 0
}
