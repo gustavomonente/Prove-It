{
 "cells": [
  {
   "cell_type": "markdown",
   "metadata": {},
   "source": [
    "Demonstrations for context <a class=\"ProveItLink\" href=\"_context_.ipynb\">proveit.logic.equality</a>\n",
    "========"
   ]
  },
  {
   "cell_type": "code",
   "execution_count": 1,
   "metadata": {},
   "outputs": [],
   "source": [
    "import proveit\n",
    "%begin demonstrations"
   ]
  },
  {
   "cell_type": "markdown",
   "metadata": {},
   "source": [
    "## Substitution"
   ]
  },
  {
   "cell_type": "markdown",
   "metadata": {},
   "source": [
    "Equality is a fundamental concept of logic.  When two mathematical operations are equal, then one may be substituted for the other.  This is rule is defined by the `substitution` axiom:"
   ]
  },
  {
   "cell_type": "code",
   "execution_count": 2,
   "metadata": {},
   "outputs": [
    {
     "data": {
      "text/html": [
       "<span style=\"font-size:20px;\"> <a class=\"ProveItLink\" href=\"_axioms_.ipynb#substitution\" style=\"text-decoration: none\">&#x22A2;&nbsp;</a><a class=\"ProveItLink\" href=\"__pv_it/227f37bc1ee52abe3a92ac5130dc32c91fd40c720/expr.ipynb\"><img src=\"data:image/png;base64,iVBORw0KGgoAAAANSUhEUgAAAOcAAAAWBAMAAADJFJavAAAAMFBMVEX///8QEBCIiIhmZma6urrM\n",
       "zMxUVFQiIiJERETc3Nzu7u6qqqp2dnaYmJgyMjIAAAAcRTyBAAAAAXRSTlMAQObYZgAAAuNJREFU\n",
       "SMe1Vk1oE1EQniSbbLLZ/BwUD70sCXiQQsWiINga9CCIkuDBa4PoQVBYxJN66EmSQG0EQUGEtYg/\n",
       "PdiCB/Fk0INiRQKC6EHZgx4UKkEsSLz45s28/XHTlgQ68L1M3nx5X/bNm3kLMKpluv972fZm3GcM\n",
       "F798HkH0IQ7Gnv3soZ0dQAsxUm3CCn75MYLod7nKyl/20B4PoIUYhku4hU8/O7xmbjeOS0cr7KGZ\n",
       "VpQXZrwg5B1BXh5eVJcJfO558kGKUV6YcZeQe7O4eHOE3aXfvPI8aV+jvDAjXyH8aTSujCBaxuH9\n",
       "jknyFnbeGBd7+zJCUwyjbMF1B0yx0YgzAE0MH+hGfqFtIDonx1/kGZ3cBV0ckC8ysz+lcR6ZYWpF\n",
       "mBD76hIOy/MEZqkTWTi9gehlWX9r5JmO2ddE4p5GK5QZtxMuNEQp2wQd4l3e7WFEt8l20CPPgLQs\n",
       "gJkITTGcmIUPnewRzK6O0YIzgqhpK69gDRb1GFUnueaLZtyTWHbzU0gpnxAphkN1uOSL8iQEAmp7\n",
       "03XlzdRwPBLIaR1CjGmIi4LSbAI0T2P0Iw67Uu5F8dHpJ4u+KE6mGsLmvIA6SDGLvKwzAXGHD1LI\n",
       "FAOuSn11kOAJKsMkDrU8pjdzz47P+qI0CcEAcHUsVcirLs/DHayAaENiBuyDqlgm0SFwOqgECrJ3\n",
       "JDopK5DTgtdQVEDtZJW9+6WFKfxn3yKiiiEoB8Uy+RoBcvIIbQc6CTijV2K1gKiYTGGWVr2Aam2v\n",
       "IdwG7YhogDEt8IDB/D5kWpneO+hkWqDXqv7plZNKiQPU8LP1Vb/1D2z4PiPlGr/9hq+ajw3JMeP8\n",
       "sXEnOQbaqWu+qJxULA6gNUFvueytd7X5DL2btvyrLXBTZfnvwSPOcKROVYAu8Vy57V/nIXVvVY+h\n",
       "lfbigm0Cd/8PNXqRkO8T5zR3sKgKDH5dyW36uvKJwdkoiYEjXTj+dp2OpAJbaYktWvcfpC3c9HKM\n",
       "He8AAAAASUVORK5CYII=\n",
       "\" style=\"display:inline;vertical-align:middle;\" /></a></span>"
      ],
      "text/plain": [
       "|- forall_{f, x, y | x = y} (f(x) = f(y))"
      ]
     },
     "execution_count": 2,
     "metadata": {},
     "output_type": "execute_result"
    }
   ],
   "source": [
    "from proveit.logic.equality._axioms_ import substitution\n",
    "from proveit._common_ import a, b, c, d, x, y, z, fx # we'll use these later\n",
    "substitution"
   ]
  },
  {
   "cell_type": "markdown",
   "metadata": {},
   "source": [
    "The English translation of this axiom is: for any function $f$ and any $x, y$ such that $x=y$, $f(x) = f(y)$.  In other words, we may substitute $y$ for $x$ in any function whenever $x=y$.  The equality of $x$ and $y$ transfers to an equality between $f(x)$ and $f(y)$.  This is fundamental to the meaning of equality regardless of what $f$ does (as long as it can act on a single argument).  We may specialize this axiom using any operation for $f$.  For example,"
   ]
  },
  {
   "cell_type": "code",
   "execution_count": 3,
   "metadata": {},
   "outputs": [
    {
     "data": {
      "text/html": [
       "<span style=\"font-size:20px;\"><a class=\"ProveItLink\" href=\"__pv_it/522778b19d8d12c9a6e4ee72ae0a8f3940ae0f200/expr.ipynb\"><img src=\"data:image/png;base64,iVBORw0KGgoAAAANSUhEUgAAAEIAAAAVBAMAAAAA8SWUAAAAMFBMVEX///+IiIi6urrc3NxERETM\n",
       "zMwQEBCqqqpUVFQiIiJ2dnYyMjLu7u5mZmaYmJgAAABN0h6tAAAAAXRSTlMAQObYZgAAAO9JREFU\n",
       "KM9jYGDgu8eAC8TKgEieXQy4gVoAkOD7gFWOx20CkOTdACS4JmDXzn0BJolLBX8BIRX6BwipWMmA\n",
       "osJ2rdgBNBU7BK8DJROALA6gc5mSGfaDtewGA5AbeX4fOG8A8WgZ0MvHHjBcQTOC/Q8DvwADw14G\n",
       "hpDJQO79AwwT0VQAQ+L8AqANEyHBlsLA8xUzOPSB/t0BcocDA88vBvYPSO5oAAXHA5DJYHcA/cLz\n",
       "HejeYrQAU+DJg/oF5FtHhpcNC1BVcDxguYAUHicEgxsV0GLu4jpCYcqACNMEQipwpA94qAAB3jQG\n",
       "dh07/nQKAKghSfjLfrFUAAAAAElFTkSuQmCC\n",
       "\" style=\"display:inline;vertical-align:middle;\" /></a> <a class=\"ProveItLink\" href=\"__pv_it/99798084fea2d6627325e0de6ca378c6f7138c980/proof.ipynb\" style=\"text-decoration: none\">&#x22A2;&nbsp;</a><a class=\"ProveItLink\" href=\"__pv_it/138146e8628e0ba295cd059be1388fe9407b6f090/expr.ipynb\"><img src=\"data:image/png;base64,iVBORw0KGgoAAAANSUhEUgAAAGgAAAAUBAMAAACT0mUoAAAAMFBMVEX////MzMxUVFR2dna6uroQ\n",
       "EBCqqqqIiIgiIiJmZmYyMjJERETu7u6YmJjc3NwAAACgK8IjAAAAAXRSTlMAQObYZgAAAXlJREFU\n",
       "OMtjYOC7wIAM8hgwwVtkDtsDIHEaVQHTAww9PBtgrNMRQEIPiNehqViAoYkLYc5KID7FwMA7AU2J\n",
       "OYammwjmNyBmLmDgQHfOUQxNfXAWyx+QWwIYXmA4xgFNgK8BzmQGM5cwVCLJTp4eA5RAdy87QoBL\n",
       "vTKBgcGSYS9C1vUB1wegJ8EhYbUKBED+ZuBGxMn5NTz/GBhuMbQxMHB2gIABTywDJzBw2RrQbOIA\n",
       "Gj4DpKKZIf8Aw3cGhgyGEJjbFDj/MHAUMDAwfkDTxArz5COGWQw8nxkY5JE0sW5gOC+AX9NKBpZv\n",
       "IE1tcE3nDRjyQcHagPDTIpjzoJr+MgCdw+ABDwigpgQGLWDC4kVPEvCAeMTwheHoBVBAWMLkBLgL\n",
       "eJuYgcFigKYJHgeMDLoMO4H0ZKBd8FSnXvioBBgXAmiaWBDBebIYZOtCzGR0Ak8yghjeQGKCZYAk\n",
       "WIZ9BLMGN6pjTmFmQm58mRAMQLagZfd7hLI77wMGADHtZu0WX/VqAAAAAElFTkSuQmCC\n",
       "\" style=\"display:inline;vertical-align:middle;\" /></a></span>"
      ],
      "text/plain": [
       "{a = b} |- [not](a) = [not](b)"
      ]
     },
     "execution_count": 3,
     "metadata": {},
     "output_type": "execute_result"
    }
   ],
   "source": [
    "from proveit.logic import Not, Equals\n",
    "substitution.specialize({fx:Not(x), x:a, y:b}, assumptions=[Equals(a, b)])"
   ]
  },
  {
   "cell_type": "markdown",
   "metadata": {},
   "source": [
    "There are more convenient ways to apply this substitution rule than manual specialization that was demonstrated in the previous input.  The `Equals` class has the `substitution`, `subLeftSideInto` and `subRightSideInto` methods for conveniently applying substitution and its variants, as we will demonstrate below.  Each of these methods takes a `lambdaMap` argument to provide a context for the substitution -- what is being substituted and where.  A `lambdaMap` can be an actual **Lambda** expression, an **InnerExpr** object, or if it is neither of these, it can be any other **Expression** for which the default will be to performa a global replacement."
   ]
  },
  {
   "cell_type": "code",
   "execution_count": 4,
   "metadata": {},
   "outputs": [
    {
     "data": {
      "text/html": [
       "<strong id=\"expr\">expr:</strong> <a class=\"ProveItLink\" href=\"__pv_it/9b3700b33cda9d12547efd156dd7d932373a0fd50/expr.ipynb\"><img src=\"data:image/png;base64,iVBORw0KGgoAAAANSUhEUgAAAJoAAAAmBAMAAADO2Z8qAAAAMFBMVEX///9UVFSqqqrMzMwiIiJE\n",
       "RESYmJgyMjK6urru7u4QEBCIiIh2dnZmZmbc3NwAAABRgo0vAAAAAXRSTlMAQObYZgAAApVJREFU\n",
       "SMeVVj1oFEEUfveXu93s7kULLdJsb3FX2yRqJxZnk4AgXKWgzQXERSQQKyGNV2iRQNigJiEI4cwV\n",
       "EWLgCtFCi4hFikRcIZVNjgscWYyn8+6c+9v3ZjdT7LLv59uZ9+b7ZgCYMVKEMw1tTOXdIq3GdpVL\n",
       "eKoAy6xTVusqTHMZo4rJLeYpa7IG59mUhzzaOdL6o8yEm8cAvzgnJFqkeYXtQR0gxi41TXq0Uy4+\n",
       "XhIz8DnvkUeamyKP7vWueDzm0PZo81fQvlFz3t+yxeseh/aGNhsf71Pm5/kJ7MDRHJ1liRbBi9dR\n",
       "efAdLuNLrzG0quNzNiraS3iLr1iJ2T6T+GzIz0tUFyu9srVgagHZUKfRkgUklx8RDTYSx6gRcXqT\n",
       "QhYbbkxGRXuyuYNoCbEY62A/wPAshqbHd+wIaJ+3JaU1sR3nvXR7vZ8cHJ3Ku/gr95HWCkc7tFPd\n",
       "4v8GbRXMQoAKiJYrC3co2g2I2dJ2CqYPycpw6ITd5kObl2LO1x1nBs1/ceBCDMd5sOY4gsxmPzn/\n",
       "gF4AN0+izUKmETo3vTCA5tYgB726zfRW2uz+WIHm1gYkxrXhYnxYMVwMPYHFYihaVoTIullNSFVG\n",
       "rhiBHYJ/vAC3w/ebOQZLslBiv2nj1Z/vhkN1FMul98UIu/fLnW4PMyc0F1KD/O1DS9zaDXJBagUj\n",
       "vsbywOdCfxH+V0krh2X1lsFKPDxjTybmMOkwjhkfeJlzucvGTTZFIaE5j3EwB4Z1UG3waHvspG3S\n",
       "PO+lfJWgc1cUUuJRb0os2Ogy63pFHhc+3mu4ofM3vrtkvNCbuTPe+DpsqFDVlHpDdmhDcfG8Rvcm\n",
       "qDfdA99WnLiHHjVhQm/kmFKd3xZxuST1RvqwoP8AuPKvFXKdTRQAAAAASUVORK5CYII=\n",
       "\" style=\"display:inline;vertical-align:middle;\" /></a><br>"
      ],
      "text/plain": [
       "expr: a = (b + (c / d) + c^{d})"
      ]
     },
     "execution_count": 4,
     "metadata": {},
     "output_type": "execute_result"
    }
   ],
   "source": [
    "from proveit import Lambda\n",
    "from proveit.number import Add, frac, Exp\n",
    "expr = Equals(a, Add(b, frac(c, d), Exp(c, d)))          "
   ]
  },
  {
   "cell_type": "markdown",
   "metadata": {},
   "source": [
    "The `globalRepl` static method of `Lambda` is useful for creating a global replacement lambda map.  Below, we create a map for replacing every occurence of $d$ in `expr` with anything else:"
   ]
  },
  {
   "cell_type": "code",
   "execution_count": 5,
   "metadata": {},
   "outputs": [
    {
     "data": {
      "text/html": [
       "<strong id=\"gRepl\">gRepl:</strong> <a class=\"ProveItLink\" href=\"__pv_it/5a946dc3d4391a6c2b46fe1400d0fdb01f0a8f7f0/expr.ipynb\"><img src=\"data:image/png;base64,iVBORw0KGgoAAAANSUhEUgAAARAAAAAyCAMAAACjx3SuAAAANlBMVEX///8oKCgNDQ1UVFSqqqrM\n",
       "zMwiIiKYmJgyMjIQEBCIiIh2dnZmZmbc3Nzu7u5ERES6uroAAADIdaz2AAAAAXRSTlMAQObYZgAA\n",
       "A35JREFUaN7VW9ty3SAMpAVzN5f//9naxzmJwQeMQaitXjKayRIsxEoLhBAIMwEPBWKO1tzxeBg8\n",
       "FJAFWXMHTVM8FJgJWXOHjCk8FKB5U3NHtqMKaChQGklnADchb/FQoJblKFTKsujQUMDGTc3tHtXi\n",
       "obbKpLVewFIkrhW3l6y7RulDkZWzbbPB1YNsWTjENuYeD3UkNWVwpTfduAJgHy8xoKGIhSYeF3XF\n",
       "7TKr8FBEeQJsUtbcrjlSPJSL4L2+TrlMD9PqEgUaipAvGByHkDWdydo5sdGQ9i6E3RPL2ZGy66ym\n",
       "cinmqhrVV17hoV76WIgh3nN82fLzRM2epzPjoxTiB1HOK07wzG6dxnL+gyamEY+jZcsOoySmqFEs\n",
       "O3YQcSFlt4Md9TAqXjiS9e2KBpjbycsL50pf8PCD9HoRAz2Mn6DCtdmaFxCi1r0pFMUcf5jyzF5a\n",
       "354MS1CGk8kBcfawfRUC1Uzbc22NaV2J1zKzWmO1ei9bSpq8Wj9TZGPVlVRry+YEpEUaR19z9xhu\n",
       "WUVk/BwClv26Oed7hiRGnswWUC5Kd2xt8IC0SWMla+5+kLbnk/WFnNDeldRWjmzTaMdBUUplQAFp\n",
       "k8ZZ1b80Acdk+ffYv3/JxGKiU2ksI8uWoORZpBxJxdXrx/dujiVLczGDNUpjrmruV8/kfliPp6MG\n",
       "HkqfliPbAvLaSyEtVjAZ0tgz3gTkWCsWCzS6SFdK/gsy5RBa2DIvNZUtJkhAWqUx5zV3G2ZfKyoJ\n",
       "Wz8FRK45qa5FZEWRnDh034EH+0BnSKM0viNVv40qOCXv8CZTDfZSQJcislZ2f1BUXG8kYALSKI2v\n",
       "cjf4t+1567a2YFmp/njEdxldnCi2iiyjrDZiTmPWJo2z1jSOKSvWdTZ6h5rYut+dwo0eys05MHN9\n",
       "R8ldsDFxd5twU1FTLJOnfWr1XKUkHmqKmVQ1mNFTZhvxUFOMxprbo+QdGuq5rG45QvM97W2Nkxga\n",
       "qiirR0Kbkug6fnWHeVH1WFbfG/hF1d8gkXZZfW/QtxC7UA1oqMeyuqEB0DW3r/Civpf5KKtHdoyr\n",
       "uP9JnXkgq59ymQJ5KKoMHuqhrL5vUyc8qcJ4dPdAkD+y7NIQ6g6xbxz5LzzLdBV3oLlRCxoK0qY9\n",
       "3CWM46EgZYytuWPdGcVDgZnwNXc02BoPBWRT/z1kW+2Ah4IhEOoK7h9A2ytgtZnijwAAAABJRU5E\n",
       "rkJggg==\n",
       "\" style=\"display:inline;vertical-align:middle;\" /></a><br>"
      ],
      "text/plain": [
       "gRepl: _a -> (a = (b + (c / _a) + c^{_a}))"
      ]
     },
     "execution_count": 5,
     "metadata": {},
     "output_type": "execute_result"
    }
   ],
   "source": [
    "gRepl = Lambda.globalRepl(expr, d)"
   ]
  },
  {
   "cell_type": "markdown",
   "metadata": {},
   "source": [
    "We now use this lambda map to replace occurences of $d$ in `expr` with $y$:"
   ]
  },
  {
   "cell_type": "code",
   "execution_count": 6,
   "metadata": {},
   "outputs": [
    {
     "data": {
      "text/html": [
       "<strong id=\"d_eq_y\">d_eq_y:</strong> <a class=\"ProveItLink\" href=\"__pv_it/ab3b4b00a84bcef8ed6caaaf62b6bcdd2ee714ef0/expr.ipynb\"><img src=\"data:image/png;base64,iVBORw0KGgoAAAANSUhEUgAAADEAAAASBAMAAAAAiiu3AAAAMFBMVEX///9UVFSYmJiIiIjc3Nwy\n",
       "MjIiIiJ2dnbu7u66urqqqqpmZmYQEBBERETMzMwAAAAYOWz6AAAAAXRSTlMAQObYZgAAALRJREFU\n",
       "GNNjYGBg4LuzgQEH4F+AS2Z+Ay6ZMlwSDNHYhVm22/1CFeGwNmDwAVowx4H3B4hfGgoCIO3snAcY\n",
       "7IEKDjFwB6Dq8QIK3GVg4P7BwFaAKtPAY8DwmYGB5wJD/wQMX/D9Y2DoL2BYz4CwJxDE3MrAfAAo\n",
       "s4BBlMsBVc9FBl4BBgZeA6ZEdjTTNjLMVwC6TdjO0RJNptF4vwOuUNmKXZgxgOMndhk2BV4D7DKc\n",
       "xvuAJACxMCbcEMrT2gAAAABJRU5ErkJggg==\n",
       "\" style=\"display:inline;vertical-align:middle;\" /></a><br>"
      ],
      "text/plain": [
       "d_eq_y: d = y"
      ]
     },
     "execution_count": 6,
     "metadata": {},
     "output_type": "execute_result"
    }
   ],
   "source": [
    "d_eq_y = Equals(d, y)"
   ]
  },
  {
   "cell_type": "code",
   "execution_count": 7,
   "metadata": {},
   "outputs": [
    {
     "data": {
      "text/html": [
       "<span style=\"font-size:20px;\"><a class=\"ProveItLink\" href=\"__pv_it/4e7cc4d2e67cf59f8565b46c31a53df1fffc98cf0/expr.ipynb\"><img src=\"data:image/png;base64,iVBORw0KGgoAAAANSUhEUgAAAEMAAAAVBAMAAADvM06qAAAAMFBMVEX///+IiIi6urrc3NxERETM\n",
       "zMwQEBCqqqpUVFQiIiJ2dnYyMjLu7u5mZmaYmJgAAABN0h6tAAAAAXRSTlMAQObYZgAAAQ5JREFU\n",
       "KM9jYGDgu8eAC7BePACieHYx4AZMqSCS7wOYE5KLVc1tEME1AcL5jlXJSiQlTH8IKoEZhkcJ9wUC\n",
       "SmwXxhegyh28yMCcw8CwDMTm2AB0SDKDPygEuHaDAcjABWoMjEC/vgcpKQtgYDj2AOI7BGAuuM3A\n",
       "4gCxP2QyUOD+AYZZqEp4GBIZ+AWAjE4goQY0JYWB5xN6uP5hiAfKcDeA3OLAwPOLgR0cxlC3gIR5\n",
       "NzCIMUDdAvQRz3ego4tRTWFpYPBggPoI5GlHhpcNC1CV8DYw/UMOlxOCwY0KaO5tlP2MFrqYAOga\n",
       "mJIErAq6Gc4rwJRA0ws6mAd0ICy9MGBPdYqyAaDQSQJz2AmkXQDBfk4loptHnAAAAABJRU5ErkJg\n",
       "gg==\n",
       "\" style=\"display:inline;vertical-align:middle;\" /></a> <a class=\"ProveItLink\" href=\"__pv_it/4cb7abeda19902cbbc8333fa2d6f1400b7921a990/proof.ipynb\" style=\"text-decoration: none\">&#x22A2;&nbsp;</a><a class=\"ProveItLink\" href=\"__pv_it/87b970df7bab3f058594dbd5568966f63dad41be0/expr.ipynb\"><img src=\"data:image/png;base64,iVBORw0KGgoAAAANSUhEUgAAAY0AAAAyBAMAAABSYpr2AAAAMFBMVEX///92dnaqqqpEREQiIiJm\n",
       "Zmbc3NxUVFTMzMzu7u4QEBC6uroyMjKIiIiYmJgAAABs22DkAAAAAXRSTlMAQObYZgAABj5JREFU\n",
       "aN7FWk9oHFUYf/tvdmc32V2hvVTb7EE8BENyUAqlxbRSDf4jVaGiidlDi9pLghcvWbogePBg5mAp\n",
       "ici2BG2KtuQgCEHJIpZcAgZKaYmGrOhF0WYNGCLa6pv3Zmfe7Hy/t7Nb2b7D+8K8me973/8/Wca6\n",
       "uh6EJ5HFNlGdb4LdXJE8PHqgXVyZqh92c92EJ71TbSP7rQl2b0UvwKP+9rHF8n7YvTUHfcD8rH1s\n",
       "jW86+fbe1uNYtqMdoOtvgtkaevN2RzEERZDoX/DDQasDPuJ5P/wBOh8dCvZvlLUxBEWQOBb6cXSA\n",
       "aXG57Phg5jJ6cYmU0qlCrKoPSCAsbRXRZ9kdcKCj5XEv4Rzi2FwgHx9lyQLC3FPz9sB6ElvIEDjQ\n",
       "0eKCsVT4DnotScb0BLTyiTIzhG4NUsOpv+GFZkAgw7TEqqwpMLUDsZN2kB6CaF2hkKJJ4OzxKniO\n",
       "aUntVxXYAzPpCn1bmHYetXkXKp6hHCuNU/YlJBl9iuvdUeAk8j6DVlSOGz9ts3ttqQhV96xR6oXh\n",
       "PXUXHGBa8oZ3FTiG3krQkSIxxc5RkeHcxjd25BHGk6VMaLPYSq5haWVusril6tGGVxD29BqoTG9T\n",
       "B+ZIynZKQzizQbn0IZzNoefQtCI5633xx2POAw6NXYRjkkvCPDQcMrkmRlPiNheZt/vXPPxWunN4\n",
       "Wm99wa6LP/qcBxxm6zA6C0sPW/ikC7L0nmbe7lfYnzh+SiKhabETrCSv6BgdhwkohJeFpzXcLEop\n",
       "eEC5SzH2i22zm9IXCGe+g9OHxO3SGmB6WuxZtqB+aEOYSmX6XbZC8pEuznwgKr6it/uroW1cJUoG\n",
       "XFot+RjJ1FVF2jAHlSnsYA8LyUemNPC6EE3B2/011C6uL6R57GFh+fjyuoylOSclcZgT9zu9dz2Q\n",
       "uoQdrGy8GIKPyMYt175q3k4FV+PE+GUQkV1aWj44LbMYk/hzjjFxKChmPmXfiXdWxRIqMu3kYv5j\n",
       "VYot+TCOscNu6lrzdvaQQHdN0pe10lKxp9581Cdk6NHS8WHTSua/coy56sJJm4+5GnuJTJa89XGu\n",
       "pOODNzJvu3zkvZ2o+cyrLBHwyAmL+Wjp+LBpZX500KeHXSgsmSN6PhBftmVOt2scrqdvP19dta0x\n",
       "96+9HIk+s7q64t7D4WPU2/3Vc93hJh6QyNlG/WDT8tC2pMXiF1wo+Jhn5i7JBw/py4WW+lAzXAs+\n",
       "eMqrlGk+PFo6ffiyqcKHbVfmHyxaV/xjyrUrXqg5AtDwwT9vLlGdQlU6wYpiV/xgMHAkSXi0NHz4\n",
       "aLH4sAvtHsTcZsnqI835145XuUVu0C31wTmOutVMzdv9RZGIV5UCm442J5c+8cCjpdOHSkv1c+GR\n",
       "R9jPUwHPtDlP1hoTGR0fJ5n5ipubUf7oFZYbW8s+HQnEXWFpHi0dHyott6XhUPx5fuO90iLV3Jjj\n",
       "B0LkwciB391Hy4ve7s+DogY2S7fe+D6QB8XbHi0dHyot1w05xPOIw/6yQuHj3U8wQdnzbwUbwihu\n",
       "zwcXcerWPmz0ixxGYO2/z+8u6s0apdIs+mpfG01fsFOcpV6axQWmDfGQD8/4Mpoxxgps7XHdnutk\n",
       "KqoUmDY0oZgqsJ+O4IZHoiORPofHV9UO+egrevAg7DbhfEPT8MgZZZRquCdwL1nvkI+zCvwVDiuB\n",
       "55zeP4NnGHI4QY4otqCdZpGdfjwOZnpNrfK8zEzAROjGh9fGT1ia9tbbm50Scp9CLVZ+ifVqdGXc\n",
       "UWAvNE56Ds9r4zGMel3Z73kOZxTGWGwo5ByOLUDZlskprsWOYtRXlT28FwDXMdmVRilPe/CwCuH/\n",
       "CbNV2iZNnNGkcmkVZ/Bny4swwM+UMR8NHiWMQY6PUDJq1MbkOlP09sA6jgPvKIwa6xo337RUaI6g\n",
       "9z4sk94frI3dw2Pe/n8ELB76D2r4uOSHp9Dg1XiKVBJRGzfo1ryd8Dc8Pb+I5rsZXM00/1+NGdAE\n",
       "3ySekbWxsz5SdoJu2//nNEs3djAfjXTc02lZ0+m61vJKIK/Sq9/yw66tM1DxBh38p1kF/3zm/v0O\n",
       "IIrry4fJpy+QIbMxuBj1wy6uk7guI5P91zc02eOnJtjFlcTJudQurvv5uyX2GlZI278js1T4H7xq\n",
       "9NnbPTtVAAAAAElFTkSuQmCC\n",
       "\" style=\"display:inline;vertical-align:middle;\" /></a></span>"
      ],
      "text/plain": [
       "{d = y} |- (a = (b + (c / d) + c^{d})) = (a = (b + (c / y) + c^{y}))"
      ]
     },
     "execution_count": 7,
     "metadata": {},
     "output_type": "execute_result"
    }
   ],
   "source": [
    "d_eq_y.substitution(gRepl, assumptions=[d_eq_y])"
   ]
  },
  {
   "cell_type": "markdown",
   "metadata": {},
   "source": [
    "Or we can take advantage of that a global replacement is performed by default when a non-**Lambda** expression is provided as the \"`lambdaMap`\"."
   ]
  },
  {
   "cell_type": "code",
   "execution_count": 8,
   "metadata": {},
   "outputs": [
    {
     "data": {
      "text/html": [
       "<span style=\"font-size:20px;\"><a class=\"ProveItLink\" href=\"__pv_it/4e7cc4d2e67cf59f8565b46c31a53df1fffc98cf0/expr.ipynb\"><img src=\"data:image/png;base64,iVBORw0KGgoAAAANSUhEUgAAAEMAAAAVBAMAAADvM06qAAAAMFBMVEX///+IiIi6urrc3NxERETM\n",
       "zMwQEBCqqqpUVFQiIiJ2dnYyMjLu7u5mZmaYmJgAAABN0h6tAAAAAXRSTlMAQObYZgAAAQ5JREFU\n",
       "KM9jYGDgu8eAC7BePACieHYx4AZMqSCS7wOYE5KLVc1tEME1AcL5jlXJSiQlTH8IKoEZhkcJ9wUC\n",
       "SmwXxhegyh28yMCcw8CwDMTm2AB0SDKDPygEuHaDAcjABWoMjEC/vgcpKQtgYDj2AOI7BGAuuM3A\n",
       "4gCxP2QyUOD+AYZZqEp4GBIZ+AWAjE4goQY0JYWB5xN6uP5hiAfKcDeA3OLAwPOLgR0cxlC3gIR5\n",
       "NzCIMUDdAvQRz3ego4tRTWFpYPBggPoI5GlHhpcNC1CV8DYw/UMOlxOCwY0KaO5tlP2MFrqYAOga\n",
       "mJIErAq6Gc4rwJRA0ws6mAd0ICy9MGBPdYqyAaDQSQJz2AmkXQDBfk4loptHnAAAAABJRU5ErkJg\n",
       "gg==\n",
       "\" style=\"display:inline;vertical-align:middle;\" /></a> <a class=\"ProveItLink\" href=\"__pv_it/4cb7abeda19902cbbc8333fa2d6f1400b7921a990/proof.ipynb\" style=\"text-decoration: none\">&#x22A2;&nbsp;</a><a class=\"ProveItLink\" href=\"__pv_it/87b970df7bab3f058594dbd5568966f63dad41be0/expr.ipynb\"><img src=\"data:image/png;base64,iVBORw0KGgoAAAANSUhEUgAAAY0AAAAyBAMAAABSYpr2AAAAMFBMVEX///92dnaqqqpEREQiIiJm\n",
       "Zmbc3NxUVFTMzMzu7u4QEBC6uroyMjKIiIiYmJgAAABs22DkAAAAAXRSTlMAQObYZgAABj5JREFU\n",
       "aN7FWk9oHFUYf/tvdmc32V2hvVTb7EE8BENyUAqlxbRSDf4jVaGiidlDi9pLghcvWbogePBg5mAp\n",
       "ici2BG2KtuQgCEHJIpZcAgZKaYmGrOhF0WYNGCLa6pv3Zmfe7Hy/t7Nb2b7D+8K8me973/8/Wca6\n",
       "uh6EJ5HFNlGdb4LdXJE8PHqgXVyZqh92c92EJ71TbSP7rQl2b0UvwKP+9rHF8n7YvTUHfcD8rH1s\n",
       "jW86+fbe1uNYtqMdoOtvgtkaevN2RzEERZDoX/DDQasDPuJ5P/wBOh8dCvZvlLUxBEWQOBb6cXSA\n",
       "aXG57Phg5jJ6cYmU0qlCrKoPSCAsbRXRZ9kdcKCj5XEv4Rzi2FwgHx9lyQLC3FPz9sB6ElvIEDjQ\n",
       "0eKCsVT4DnotScb0BLTyiTIzhG4NUsOpv+GFZkAgw7TEqqwpMLUDsZN2kB6CaF2hkKJJ4OzxKniO\n",
       "aUntVxXYAzPpCn1bmHYetXkXKp6hHCuNU/YlJBl9iuvdUeAk8j6DVlSOGz9ts3ttqQhV96xR6oXh\n",
       "PXUXHGBa8oZ3FTiG3krQkSIxxc5RkeHcxjd25BHGk6VMaLPYSq5haWVusril6tGGVxD29BqoTG9T\n",
       "B+ZIynZKQzizQbn0IZzNoefQtCI5633xx2POAw6NXYRjkkvCPDQcMrkmRlPiNheZt/vXPPxWunN4\n",
       "Wm99wa6LP/qcBxxm6zA6C0sPW/ikC7L0nmbe7lfYnzh+SiKhabETrCSv6BgdhwkohJeFpzXcLEop\n",
       "eEC5SzH2i22zm9IXCGe+g9OHxO3SGmB6WuxZtqB+aEOYSmX6XbZC8pEuznwgKr6it/uroW1cJUoG\n",
       "XFot+RjJ1FVF2jAHlSnsYA8LyUemNPC6EE3B2/011C6uL6R57GFh+fjyuoylOSclcZgT9zu9dz2Q\n",
       "uoQdrGy8GIKPyMYt175q3k4FV+PE+GUQkV1aWj44LbMYk/hzjjFxKChmPmXfiXdWxRIqMu3kYv5j\n",
       "VYot+TCOscNu6lrzdvaQQHdN0pe10lKxp9581Cdk6NHS8WHTSua/coy56sJJm4+5GnuJTJa89XGu\n",
       "pOODNzJvu3zkvZ2o+cyrLBHwyAmL+Wjp+LBpZX500KeHXSgsmSN6PhBftmVOt2scrqdvP19dta0x\n",
       "96+9HIk+s7q64t7D4WPU2/3Vc93hJh6QyNlG/WDT8tC2pMXiF1wo+Jhn5i7JBw/py4WW+lAzXAs+\n",
       "eMqrlGk+PFo6ffiyqcKHbVfmHyxaV/xjyrUrXqg5AtDwwT9vLlGdQlU6wYpiV/xgMHAkSXi0NHz4\n",
       "aLH4sAvtHsTcZsnqI835145XuUVu0C31wTmOutVMzdv9RZGIV5UCm442J5c+8cCjpdOHSkv1c+GR\n",
       "R9jPUwHPtDlP1hoTGR0fJ5n5ipubUf7oFZYbW8s+HQnEXWFpHi0dHyott6XhUPx5fuO90iLV3Jjj\n",
       "B0LkwciB391Hy4ve7s+DogY2S7fe+D6QB8XbHi0dHyot1w05xPOIw/6yQuHj3U8wQdnzbwUbwihu\n",
       "zwcXcerWPmz0ixxGYO2/z+8u6s0apdIs+mpfG01fsFOcpV6axQWmDfGQD8/4Mpoxxgps7XHdnutk\n",
       "KqoUmDY0oZgqsJ+O4IZHoiORPofHV9UO+egrevAg7DbhfEPT8MgZZZRquCdwL1nvkI+zCvwVDiuB\n",
       "55zeP4NnGHI4QY4otqCdZpGdfjwOZnpNrfK8zEzAROjGh9fGT1ia9tbbm50Scp9CLVZ+ifVqdGXc\n",
       "UWAvNE56Ds9r4zGMel3Z73kOZxTGWGwo5ByOLUDZlskprsWOYtRXlT28FwDXMdmVRilPe/CwCuH/\n",
       "CbNV2iZNnNGkcmkVZ/Bny4swwM+UMR8NHiWMQY6PUDJq1MbkOlP09sA6jgPvKIwa6xo337RUaI6g\n",
       "9z4sk94frI3dw2Pe/n8ELB76D2r4uOSHp9Dg1XiKVBJRGzfo1ryd8Dc8Pb+I5rsZXM00/1+NGdAE\n",
       "3ySekbWxsz5SdoJu2//nNEs3djAfjXTc02lZ0+m61vJKIK/Sq9/yw66tM1DxBh38p1kF/3zm/v0O\n",
       "IIrry4fJpy+QIbMxuBj1wy6uk7guI5P91zc02eOnJtjFlcTJudQurvv5uyX2GlZI278js1T4H7xq\n",
       "9NnbPTtVAAAAAElFTkSuQmCC\n",
       "\" style=\"display:inline;vertical-align:middle;\" /></a></span>"
      ],
      "text/plain": [
       "{d = y} |- (a = (b + (c / d) + c^{d})) = (a = (b + (c / y) + c^{y}))"
      ]
     },
     "execution_count": 8,
     "metadata": {},
     "output_type": "execute_result"
    }
   ],
   "source": [
    "d_eq_y.substitution(expr, assumptions=[d_eq_y])"
   ]
  },
  {
   "cell_type": "markdown",
   "metadata": {},
   "source": [
    "Either way, the generated proof is the same:"
   ]
  },
  {
   "cell_type": "code",
   "execution_count": 9,
   "metadata": {},
   "outputs": [
    {
     "data": {
      "text/html": [
       "<table><tr><th>&nbsp;</th><th>step type</th><th>requirements</th><th>statement</th></tr>\n",
       "<tr><td><a name=\"0x22d6d9a587f654aa_step0\">0</a></td><td>instantiation</td><td><a href=\"#0x22d6d9a587f654aa_step1\">1</a>, <a href=\"#0x22d6d9a587f654aa_step2\">2</a></td><td><span style=\"font-size:20px;\"><a class=\"ProveItLink\" href=\"__pv_it/4e7cc4d2e67cf59f8565b46c31a53df1fffc98cf0/expr.ipynb\"><img src=\"data:image/png;base64,iVBORw0KGgoAAAANSUhEUgAAAEMAAAAVBAMAAADvM06qAAAAMFBMVEX///+IiIi6urrc3NxERETM\n",
       "zMwQEBCqqqpUVFQiIiJ2dnYyMjLu7u5mZmaYmJgAAABN0h6tAAAAAXRSTlMAQObYZgAAAQ5JREFU\n",
       "KM9jYGDgu8eAC7BePACieHYx4AZMqSCS7wOYE5KLVc1tEME1AcL5jlXJSiQlTH8IKoEZhkcJ9wUC\n",
       "SmwXxhegyh28yMCcw8CwDMTm2AB0SDKDPygEuHaDAcjABWoMjEC/vgcpKQtgYDj2AOI7BGAuuM3A\n",
       "4gCxP2QyUOD+AYZZqEp4GBIZ+AWAjE4goQY0JYWB5xN6uP5hiAfKcDeA3OLAwPOLgR0cxlC3gIR5\n",
       "NzCIMUDdAvQRz3ego4tRTWFpYPBggPoI5GlHhpcNC1CV8DYw/UMOlxOCwY0KaO5tlP2MFrqYAOga\n",
       "mJIErAq6Gc4rwJRA0ws6mAd0ICy9MGBPdYqyAaDQSQJz2AmkXQDBfk4loptHnAAAAABJRU5ErkJg\n",
       "gg==\n",
       "\" style=\"display:inline;vertical-align:middle;\" /></a> <a class=\"ProveItLink\" href=\"__pv_it/4cb7abeda19902cbbc8333fa2d6f1400b7921a990/proof.ipynb\" style=\"text-decoration: none\">&#x22A2;&nbsp;</a><a class=\"ProveItLink\" href=\"__pv_it/87b970df7bab3f058594dbd5568966f63dad41be0/expr.ipynb\"><img src=\"data:image/png;base64,iVBORw0KGgoAAAANSUhEUgAAAY0AAAAyBAMAAABSYpr2AAAAMFBMVEX///92dnaqqqpEREQiIiJm\n",
       "Zmbc3NxUVFTMzMzu7u4QEBC6uroyMjKIiIiYmJgAAABs22DkAAAAAXRSTlMAQObYZgAABj5JREFU\n",
       "aN7FWk9oHFUYf/tvdmc32V2hvVTb7EE8BENyUAqlxbRSDf4jVaGiidlDi9pLghcvWbogePBg5mAp\n",
       "ici2BG2KtuQgCEHJIpZcAgZKaYmGrOhF0WYNGCLa6pv3Zmfe7Hy/t7Nb2b7D+8K8me973/8/Wca6\n",
       "uh6EJ5HFNlGdb4LdXJE8PHqgXVyZqh92c92EJ71TbSP7rQl2b0UvwKP+9rHF8n7YvTUHfcD8rH1s\n",
       "jW86+fbe1uNYtqMdoOtvgtkaevN2RzEERZDoX/DDQasDPuJ5P/wBOh8dCvZvlLUxBEWQOBb6cXSA\n",
       "aXG57Phg5jJ6cYmU0qlCrKoPSCAsbRXRZ9kdcKCj5XEv4Rzi2FwgHx9lyQLC3FPz9sB6ElvIEDjQ\n",
       "0eKCsVT4DnotScb0BLTyiTIzhG4NUsOpv+GFZkAgw7TEqqwpMLUDsZN2kB6CaF2hkKJJ4OzxKniO\n",
       "aUntVxXYAzPpCn1bmHYetXkXKp6hHCuNU/YlJBl9iuvdUeAk8j6DVlSOGz9ts3ttqQhV96xR6oXh\n",
       "PXUXHGBa8oZ3FTiG3krQkSIxxc5RkeHcxjd25BHGk6VMaLPYSq5haWVusril6tGGVxD29BqoTG9T\n",
       "B+ZIynZKQzizQbn0IZzNoefQtCI5633xx2POAw6NXYRjkkvCPDQcMrkmRlPiNheZt/vXPPxWunN4\n",
       "Wm99wa6LP/qcBxxm6zA6C0sPW/ikC7L0nmbe7lfYnzh+SiKhabETrCSv6BgdhwkohJeFpzXcLEop\n",
       "eEC5SzH2i22zm9IXCGe+g9OHxO3SGmB6WuxZtqB+aEOYSmX6XbZC8pEuznwgKr6it/uroW1cJUoG\n",
       "XFot+RjJ1FVF2jAHlSnsYA8LyUemNPC6EE3B2/011C6uL6R57GFh+fjyuoylOSclcZgT9zu9dz2Q\n",
       "uoQdrGy8GIKPyMYt175q3k4FV+PE+GUQkV1aWj44LbMYk/hzjjFxKChmPmXfiXdWxRIqMu3kYv5j\n",
       "VYot+TCOscNu6lrzdvaQQHdN0pe10lKxp9581Cdk6NHS8WHTSua/coy56sJJm4+5GnuJTJa89XGu\n",
       "pOODNzJvu3zkvZ2o+cyrLBHwyAmL+Wjp+LBpZX500KeHXSgsmSN6PhBftmVOt2scrqdvP19dta0x\n",
       "96+9HIk+s7q64t7D4WPU2/3Vc93hJh6QyNlG/WDT8tC2pMXiF1wo+Jhn5i7JBw/py4WW+lAzXAs+\n",
       "eMqrlGk+PFo6ffiyqcKHbVfmHyxaV/xjyrUrXqg5AtDwwT9vLlGdQlU6wYpiV/xgMHAkSXi0NHz4\n",
       "aLH4sAvtHsTcZsnqI835145XuUVu0C31wTmOutVMzdv9RZGIV5UCm442J5c+8cCjpdOHSkv1c+GR\n",
       "R9jPUwHPtDlP1hoTGR0fJ5n5ipubUf7oFZYbW8s+HQnEXWFpHi0dHyott6XhUPx5fuO90iLV3Jjj\n",
       "B0LkwciB391Hy4ve7s+DogY2S7fe+D6QB8XbHi0dHyot1w05xPOIw/6yQuHj3U8wQdnzbwUbwihu\n",
       "zwcXcerWPmz0ixxGYO2/z+8u6s0apdIs+mpfG01fsFOcpV6axQWmDfGQD8/4Mpoxxgps7XHdnutk\n",
       "KqoUmDY0oZgqsJ+O4IZHoiORPofHV9UO+egrevAg7DbhfEPT8MgZZZRquCdwL1nvkI+zCvwVDiuB\n",
       "55zeP4NnGHI4QY4otqCdZpGdfjwOZnpNrfK8zEzAROjGh9fGT1ia9tbbm50Scp9CLVZ+ifVqdGXc\n",
       "UWAvNE56Ds9r4zGMel3Z73kOZxTGWGwo5ByOLUDZlskprsWOYtRXlT28FwDXMdmVRilPe/CwCuH/\n",
       "CbNV2iZNnNGkcmkVZ/Bny4swwM+UMR8NHiWMQY6PUDJq1MbkOlP09sA6jgPvKIwa6xo337RUaI6g\n",
       "9z4sk94frI3dw2Pe/n8ELB76D2r4uOSHp9Dg1XiKVBJRGzfo1ryd8Dc8Pb+I5rsZXM00/1+NGdAE\n",
       "3ySekbWxsz5SdoJu2//nNEs3djAfjXTc02lZ0+m61vJKIK/Sq9/yw66tM1DxBh38p1kF/3zm/v0O\n",
       "IIrry4fJpy+QIbMxuBj1wy6uk7guI5P91zc02eOnJtjFlcTJudQurvv5uyX2GlZI278js1T4H7xq\n",
       "9NnbPTtVAAAAAElFTkSuQmCC\n",
       "\" style=\"display:inline;vertical-align:middle;\" /></a></span></td></tr>\n",
       "<tr><td>&nbsp;</td><td colspan=4 style=\"text-align:left\"><span style=\"font-size:20px;\"><a class=\"ProveItLink\" href=\"__pv_it/7a77f25d01d1011156f1eb52bdcd8aa2293d99790/expr.ipynb\"><img src=\"data:image/png;base64,iVBORw0KGgoAAAANSUhEUgAAADIAAAAUBAMAAAA95HOpAAAAMFBMVEX///8yMjJERETMzMwQEBCY\n",
       "mJgiIiK6urqqqqp2dnZUVFTc3NyIiIhmZmbu7u4AAADOOTK3AAAAAXRSTlMAQObYZgAAAPhJREFU\n",
       "KM9jYICCrQzIgGMDmHp7dgMDnwKKDMNqMLmyv4GBcQOqzEMQwff9OQNDLKoEA+cBkJkfgEQ2mgyf\n",
       "A0g6gYGBOwFNhkGcgYH1Su4FBp4LCLG9c488YGCYC2TxA41kCoBLsHszyAOpQCDeb8DAwNYAl3kS\n",
       "wHAJSLUBcT8QsxTAZe4/YMgBUvZAPA1VxomB7zNURosB2TS+nxBvlAGxDwOyC/h+MHAJdINdwPcd\n",
       "5CeEq3UYwhZMYGC4CXQlSC870KdFSkDwgOHVGes1QFuFgcrBoYwROgkMXYxgK7CEaBI4vBmYMGMh\n",
       "5jZEN1rMaSOYqLHNuoEBAG5lOWYfr0riAAAAAElFTkSuQmCC\n",
       "\" style=\"display:inline;vertical-align:middle;\" /></a> : <a class=\"ProveItLink\" href=\"__pv_it/c6980785d3ffd1268383d7a1b6ab270df1185ce00/expr.ipynb\"><img src=\"data:image/png;base64,iVBORw0KGgoAAAANSUhEUgAAALkAAAAyBAMAAADy9Gd0AAAAMFBMVEX///9UVFSqqqrMzMwiIiJE\n",
       "RESYmJgyMjK6urru7u4QEBCIiIh2dnZmZmbc3NwAAABRgo0vAAAAAXRSTlMAQObYZgAAAsFJREFU\n",
       "WMO1WL9v01AQvvxwE6dxbLEwZKgHJjqk/0ECbKhIHUAIpiyAEENdgeS1EwNLwshQuRUqUIkhqAtS\n",
       "hnZAZQApoUgMlKhG4g+oGIoqEOAfCbh+787Pfu1bovj0Pt/77u67ewbAVnUZJNbjBPt7GXAoW6R5\n",
       "2pBChzuk9bwcOCjbhFF9IYlOAihDSXTy8I2uLHqRoOYKse9df04APf8bNU3hJvhmKpaI87iDxQV8\n",
       "1zzkTBH0RZTcJl6o2pEg8U4Ps3zGN1UWBNFLKH9rhEvbgujTWOwKh/gmvQ0gxHvtMO1rfd4NWKEz\n",
       "cuXVfZIAZZUSz9s9WgMuFcLAXyUjp95sZSlSbVgI9w2wyIUqU8okNhVzrN6LCIHN8Oz6JHqzRMEz\n",
       "NDmucrcbQWE1LITtdLOgV9zmwygDbBGHZ3oD6dDV0Wi0C+X67Kfw6B5BtS97G/EtW27ws9TfFUev\n",
       "9jfjleHlxiO3dOAb7WCFhxkElKg/uo4ril67CNfjFFmgPgONUY79AD1/BHpPFN1rFmfi6C1f8opM\n",
       "YGbCxLUCUXlr25dte8l/8ieyxgd+8Ny2jX8OHZfxVb9wnDk+upfuHVPU93XgoXveNeA/70aEGU+v\n",
       "xh4lo6u/OOgtcEw4m3djzwfBA33ZC4qo754g5tmoKr2pC1UmIwOucu3J3CGA/gHUj3F0A9T65tfX\n",
       "TDUFjU/d2xGvpurOPaYTILXaiLXVVEqQ2MWa7eP/nxBqjo9VmIrp0nNeRAvZXLJOAn3gIu3l4CTQ\n",
       "Z7BBL2Ei4ukqu9axieM7vW+sqwku/MwwLfl5wtPVFGPLPt31ebrKji3oRNEhr5NcXWXTGnWgSCb8\n",
       "RFfptYXWGZ00XF1NE7uXJKM8XU1xs0FuZeVr3rrB11VmfB9mswneKIlbY+3pad6G4Zwkeo48vCb5\n",
       "FeIWba6f5hcU0OS+/gQx/QswxMNHF3KuqQAAAABJRU5ErkJggg==\n",
       "\" style=\"display:inline;vertical-align:middle;\" /></a>, <a class=\"ProveItLink\" href=\"../../__pv_it/72df168d2bfb4e0140af90912ebf83b13772060b0/expr.ipynb\"><img src=\"data:image/png;base64,iVBORw0KGgoAAAANSUhEUgAAAAsAAAAJBAMAAAAWSsseAAAALVBMVEX///9mZmaqqqrMzMxEREQy\n",
       "MjIiIiKYmJh2dna6urrc3NxUVFSIiIju7u4AAACJHQtQAAAAAXRSTlMAQObYZgAAAEJJREFUCNdj\n",
       "YLhzeuWJAwy8Dew5bAEMHBc43nIuYOBlYHFgAAG+A2DKzgBIMF04x8BzgWGegh/DcgaG22fuiBcw\n",
       "AAATyhBrnyPYZQAAAABJRU5ErkJggg==\n",
       "\" style=\"display:inline;vertical-align:middle;\" /></a> : <a class=\"ProveItLink\" href=\"../../__pv_it/445e790c2b62732eb8597a2ddda4cbd1a8fb79140/expr.ipynb\"><img src=\"data:image/png;base64,iVBORw0KGgoAAAANSUhEUgAAAAsAAAAOBAMAAAALT/umAAAAMFBMVEX///9UVFSYmJiIiIjc3Nwy\n",
       "MjIiIiJ2dnbu7u66urqqqqpmZmYQEBBERETMzMwAAAAYOWz6AAAAAXRSTlMAQObYZgAAAFpJREFU\n",
       "CNdjYGBg4LuzgQEE+BeAqfkNYKoMTDJEAzHLdrtfQGqOA+8PBgaOQwzcAQwM3D8Y2AoYGHguMPRP\n",
       "YGDoL2BYD1TRv4BBlMuBgdeAKZEdqFLYztGSAQAyzhFdhFkSwwAAAABJRU5ErkJggg==\n",
       "\" style=\"display:inline;vertical-align:middle;\" /></a>, <a class=\"ProveItLink\" href=\"../../__pv_it/c6e291955561f22a0e6708fd793ea93f1c7dbb5d0/expr.ipynb\"><img src=\"data:image/png;base64,iVBORw0KGgoAAAANSUhEUgAAAAsAAAANBAMAAACN24kIAAAAMFBMVEX///8iIiKYmJhUVFTMzMxE\n",
       "REQyMjKqqqq6urp2dnYQEBDc3NxmZmaIiIju7u4AAACH5sGpAAAAAXRSTlMAQObYZgAAAFlJREFU\n",
       "CNdj4LtzgWHXAwZOjgUM9xkYtvMkMIQyMDzgusDwl4GBof8ByxcgdYyBdwGQCmZgNQBShxn6FYDU\n",
       "47vnNzAwgGUZGJgT+H4AKUYF1gtAiuPuESAJAJGkFvXVdzA+AAAAAElFTkSuQmCC\n",
       "\" style=\"display:inline;vertical-align:middle;\" /></a> : <a class=\"ProveItLink\" href=\"../../__pv_it/c6e291955561f22a0e6708fd793ea93f1c7dbb5d0/expr.ipynb\"><img src=\"data:image/png;base64,iVBORw0KGgoAAAANSUhEUgAAAAsAAAANBAMAAACN24kIAAAAMFBMVEX///8iIiKYmJhUVFTMzMxE\n",
       "REQyMjKqqqq6urp2dnYQEBDc3NxmZmaIiIju7u4AAACH5sGpAAAAAXRSTlMAQObYZgAAAFlJREFU\n",
       "CNdj4LtzgWHXAwZOjgUM9xkYtvMkMIQyMDzgusDwl4GBof8ByxcgdYyBdwGQCmZgNQBShxn6FYDU\n",
       "47vnNzAwgGUZGJgT+H4AKUYF1gtAiuPuESAJAJGkFvXVdzA+AAAAAElFTkSuQmCC\n",
       "\" style=\"display:inline;vertical-align:middle;\" /></a></span></td></tr><tr><td><a name=\"0x22d6d9a587f654aa_step1\">1</a></td><td>axiom</td><td></td><td><span style=\"font-size:20px;\"> <a class=\"ProveItLink\" href=\"_axioms_.ipynb#substitution\" style=\"text-decoration: none\">&#x22A2;&nbsp;</a><a class=\"ProveItLink\" href=\"__pv_it/227f37bc1ee52abe3a92ac5130dc32c91fd40c720/expr.ipynb\"><img src=\"data:image/png;base64,iVBORw0KGgoAAAANSUhEUgAAAOcAAAAWBAMAAADJFJavAAAAMFBMVEX///8QEBCIiIhmZma6urrM\n",
       "zMxUVFQiIiJERETc3Nzu7u6qqqp2dnaYmJgyMjIAAAAcRTyBAAAAAXRSTlMAQObYZgAAAuNJREFU\n",
       "SMe1Vk1oE1EQniSbbLLZ/BwUD70sCXiQQsWiINga9CCIkuDBa4PoQVBYxJN66EmSQG0EQUGEtYg/\n",
       "PdiCB/Fk0INiRQKC6EHZgx4UKkEsSLz45s28/XHTlgQ68L1M3nx5X/bNm3kLMKpluv972fZm3GcM\n",
       "F798HkH0IQ7Gnv3soZ0dQAsxUm3CCn75MYLod7nKyl/20B4PoIUYhku4hU8/O7xmbjeOS0cr7KGZ\n",
       "VpQXZrwg5B1BXh5eVJcJfO558kGKUV6YcZeQe7O4eHOE3aXfvPI8aV+jvDAjXyH8aTSujCBaxuH9\n",
       "jknyFnbeGBd7+zJCUwyjbMF1B0yx0YgzAE0MH+hGfqFtIDonx1/kGZ3cBV0ckC8ysz+lcR6ZYWpF\n",
       "mBD76hIOy/MEZqkTWTi9gehlWX9r5JmO2ddE4p5GK5QZtxMuNEQp2wQd4l3e7WFEt8l20CPPgLQs\n",
       "gJkITTGcmIUPnewRzK6O0YIzgqhpK69gDRb1GFUnueaLZtyTWHbzU0gpnxAphkN1uOSL8iQEAmp7\n",
       "03XlzdRwPBLIaR1CjGmIi4LSbAI0T2P0Iw67Uu5F8dHpJ4u+KE6mGsLmvIA6SDGLvKwzAXGHD1LI\n",
       "FAOuSn11kOAJKsMkDrU8pjdzz47P+qI0CcEAcHUsVcirLs/DHayAaENiBuyDqlgm0SFwOqgECrJ3\n",
       "JDopK5DTgtdQVEDtZJW9+6WFKfxn3yKiiiEoB8Uy+RoBcvIIbQc6CTijV2K1gKiYTGGWVr2Aam2v\n",
       "IdwG7YhogDEt8IDB/D5kWpneO+hkWqDXqv7plZNKiQPU8LP1Vb/1D2z4PiPlGr/9hq+ajw3JMeP8\n",
       "sXEnOQbaqWu+qJxULA6gNUFvueytd7X5DL2btvyrLXBTZfnvwSPOcKROVYAu8Vy57V/nIXVvVY+h\n",
       "lfbigm0Cd/8PNXqRkO8T5zR3sKgKDH5dyW36uvKJwdkoiYEjXTj+dp2OpAJbaYktWvcfpC3c9HKM\n",
       "He8AAAAASUVORK5CYII=\n",
       "\" style=\"display:inline;vertical-align:middle;\" /></a></span></td></tr>\n",
       "<tr><td>&nbsp;</td><td colspan=4 style-\"text-align:left\"><a class=\"ProveItLink\" href=\"_axioms_.ipynb#substitution\">proveit.logic.equality.substitution</a></td></tr><tr><td><a name=\"0x22d6d9a587f654aa_step2\">2</a></td><td>assumption</td><td></td><td><span style=\"font-size:20px;\"><a class=\"ProveItLink\" href=\"__pv_it/4e7cc4d2e67cf59f8565b46c31a53df1fffc98cf0/expr.ipynb\"><img src=\"data:image/png;base64,iVBORw0KGgoAAAANSUhEUgAAAEMAAAAVBAMAAADvM06qAAAAMFBMVEX///+IiIi6urrc3NxERETM\n",
       "zMwQEBCqqqpUVFQiIiJ2dnYyMjLu7u5mZmaYmJgAAABN0h6tAAAAAXRSTlMAQObYZgAAAQ5JREFU\n",
       "KM9jYGDgu8eAC7BePACieHYx4AZMqSCS7wOYE5KLVc1tEME1AcL5jlXJSiQlTH8IKoEZhkcJ9wUC\n",
       "SmwXxhegyh28yMCcw8CwDMTm2AB0SDKDPygEuHaDAcjABWoMjEC/vgcpKQtgYDj2AOI7BGAuuM3A\n",
       "4gCxP2QyUOD+AYZZqEp4GBIZ+AWAjE4goQY0JYWB5xN6uP5hiAfKcDeA3OLAwPOLgR0cxlC3gIR5\n",
       "NzCIMUDdAvQRz3ego4tRTWFpYPBggPoI5GlHhpcNC1CV8DYw/UMOlxOCwY0KaO5tlP2MFrqYAOga\n",
       "mJIErAq6Gc4rwJRA0ws6mAd0ICy9MGBPdYqyAaDQSQJz2AmkXQDBfk4loptHnAAAAABJRU5ErkJg\n",
       "gg==\n",
       "\" style=\"display:inline;vertical-align:middle;\" /></a> <a class=\"ProveItLink\" href=\"__pv_it/79991304136a4364e75088554f31c867b1b21a550/proof.ipynb\" style=\"text-decoration: none\">&#x22A2;&nbsp;</a><a class=\"ProveItLink\" href=\"__pv_it/ab3b4b00a84bcef8ed6caaaf62b6bcdd2ee714ef0/expr.ipynb\"><img src=\"data:image/png;base64,iVBORw0KGgoAAAANSUhEUgAAADEAAAASBAMAAAAAiiu3AAAAMFBMVEX///9UVFSYmJiIiIjc3Nwy\n",
       "MjIiIiJ2dnbu7u66urqqqqpmZmYQEBBERETMzMwAAAAYOWz6AAAAAXRSTlMAQObYZgAAALRJREFU\n",
       "GNNjYGBg4LuzgQEH4F+AS2Z+Ay6ZMlwSDNHYhVm22/1CFeGwNmDwAVowx4H3B4hfGgoCIO3snAcY\n",
       "7IEKDjFwB6Dq8QIK3GVg4P7BwFaAKtPAY8DwmYGB5wJD/wQMX/D9Y2DoL2BYz4CwJxDE3MrAfAAo\n",
       "s4BBlMsBVc9FBl4BBgZeA6ZEdjTTNjLMVwC6TdjO0RJNptF4vwOuUNmKXZgxgOMndhk2BV4D7DKc\n",
       "xvuAJACxMCbcEMrT2gAAAABJRU5ErkJggg==\n",
       "\" style=\"display:inline;vertical-align:middle;\" /></a></span></td></tr>\n",
       "</table>"
      ],
      "text/plain": [
       "\tstep type\trequirements\tstatement\n",
       "0\tinstantiation\t1, 2\t{d = y} |- (a = (b + (c / d) + c^{d})) = (a = (b + (c / y) + c^{y}))\n",
       "\tf(_a) : a = (b + (c / _a) + c^{_a}), x : d, y : y\n",
       "1\taxiom\t\t|- forall_{f, x, y | x = y} (f(x) = f(y))\n",
       "\tproveit.logic.equality.substitution\n",
       "2\tassumption\t\t{d = y} |- d = y"
      ]
     },
     "execution_count": 9,
     "metadata": {},
     "output_type": "execute_result"
    }
   ],
   "source": [
    "d_eq_y.substitution(expr, assumptions=[d_eq_y]).proof()"
   ]
  },
  {
   "cell_type": "markdown",
   "metadata": {},
   "source": [
    "If we want to perform substitution for a specific inner expression, and not necessarily a global replacement, the `proveit._core_.expression.InnerExpr` class (aliased as `proveit.InnerExpr`) is extremely convenient.  It uses some Python tricks via implementing the `__getitem__` and `__getattr__` methods.  First, you create the `InnerExpr` object by calling the `innerExpr()` method on the top-level expression:"
   ]
  },
  {
   "cell_type": "code",
   "execution_count": 10,
   "metadata": {},
   "outputs": [
    {
     "data": {
      "text/html": [
       "<strong id=\"innerExpr\">innerExpr:</strong> <a class=\"ProveItLink\" href=\"__pv_it/025f012cdee749b4e04e783cd726ba3ad9bb081c0/expr.ipynb\"><img src=\"data:image/png;base64,iVBORw0KGgoAAAANSUhEUgAAAQMAAAAzCAMAAACkAp3gAAAANlBMVEX///8oKCgNDQ2IiIiYmJgy\n",
       "MjJUVFRERETc3NyqqqrMzMwiIiIQEBC6urpmZmZ2dnbu7u4AAAAKyl11AAAAAXRSTlMAQObYZgAA\n",
       "BQZJREFUaN7tWteimzgQJTvqqP7/zy4STRULY21u4tVLuM4ZkA7Th2naljV6+qbFKM9/UnIWX8XB\n",
       "hCS1yQ/c3dcCoVj6gxXKvpABjAdQjfCs3tCEeY63yxwtTkiwuaaAuAzAsXu1FaPGvNS37sscif4i\n",
       "rnyBVpIX95hNcdM/ioNJu0gpHa4g6CsOSkX5wzgQDqK9k5/KAbCBHNjIC9qfywHXQzkgXRxwAOM1\n",
       "RmCpBQCBSQHQ8EisEYDmW3phAMTKwS5y+A1yvVemjQZ5eKTUPc9XTu0QHMoBnxdl1OG/Zwre7YHy\n",
       "sTVwIL2iUh0cqKfCBA4ikc254ksOlL8Ndo1Tc9o8QiQ4lgO5uE4VwgYNBw9RVDh/ekxWx7I8n+Iz\n",
       "LkQiPTprJfIumrbePNBG0hELjrWFSYDR4cjrOUNSwEJQwautLo7FrqmC3fzBIdLDgQ5szafx/PML\n",
       "J8s1vEwsOJQDiynbXjsNjIdwknJA9yCzchCJ9HAgaZA8I/WcvnfVygFjwaEc0HlVfXvBgdeDiINI\n",
       "pIODVYW4a3lBgVumEAsO5WB7EFOiwkGQUv7gmJ7+IBLp4sB7U4InzqocYNY8QCQ4lIOgcMYJZGMO\n",
       "xMpB2F/IEphUwUIhFemJCz7aoCV8HskGSiyhnR/EgmM4WEoiR9jEiAZjAaPwt+DULWWEwc7XCnTy\n",
       "+cH6dKsNWvIDX2McIq38QNF9eZYsWRILRqDh+GJlaguO0oOfk9f/vjzx7+cgrpOYM1/KwZmZIae+\n",
       "k4M4Q5//qyYezCN6afBWLy1E8N1xG8emL11kO7qRavraRfzhLSb2bztY0id8ZQ5L0WVn/SEOhBqL\n",
       "vxP3vZM43cXlLkLhqeVH3JQgY/F3XJ1PztVxf3XxpN0RaPkJn4jtOLwBgDuRMhQZ5kjWDWoiD6v5\n",
       "RGzU8AbeUtnz6CXyCdlrBxoA86wRMTf4VmdzHZ7nSMzZt/C4o28c2mWd9mpnsVS1673huDc0nkLd\n",
       "J3Plu1PrHe+K6S8vFEryms3X9U4v9911hrnzgI1cGUd+9PHcvbrP1/hK67U8XDWFa3Dg7wu7D5yP\n",
       "Tc18fN34rimYueNwOPRnujiwni+KrD2NKLt6xEE2CYk7I/vAoYJqrB2PyTGlaR+OaUBgX3HgY4eY\n",
       "pG/nii0OwOFIQX6Cg3wSEnfIFp5xHWXiJrku8NYtEdKmus77AkwGY17bKV5yAeCg0ZRZWn3ccZOD\n",
       "YhKSOVjagyrwPGzNwXMOwncAJLN6cUR/Uc2eb3JQTEIykyU9qBKPp71JfijNLMM/7R3VYLr6ns/v\n",
       "IepfRtzkoJiEZFmM7kEV+GAeKo2PuR64fV3pgWz4PFVcvc9BOQnJ3quuoxJ/QHL8FFoY2Tt8xxZs\n",
       "PcH5rB6Uk5DMvkkPKseH7xVWH/KKg6IcTmFbP6jwB6y4emALxSQkjQuE1lHN1sWKJ2ib3XcE/kuf\n",
       "GEb9Vou8HHgYF15NQpL8YIu/1/OSCl5DUdPVOeD4GmYMQtDKQuKrcXmiupknXuDrHJi+PLFSbHXm\n",
       "idPzGcvdnmQbb+1FOXwFq3hqKK9SDiJmJX7cPjDD8HE5fLOlZourzGdGuyCPu+vdPY77+LgcvrUQ\n",
       "Ka9SrxQHG/bcGAgfhU/K4Tvr/Aq9/j26Tb9QBgcPObB4ED4th++ogSmvUhvL6lvkno4ZuB6ET8rh\n",
       "Gy0KWl4lz5dFV9fqp+bA1Rh8Ug7f8Lq2vIopwmj6fx3rX/hLQ7d6c//AAAAAAElFTkSuQmCC\n",
       "\" style=\"display:inline;vertical-align:middle;\" /></a><br>"
      ],
      "text/plain": [
       "innerExpr: {lambda:[_a -> _a], ${_{-}a}$:(a = (b + (c / d) + c^{d}))}"
      ]
     },
     "execution_count": 10,
     "metadata": {},
     "output_type": "execute_result"
    }
   ],
   "source": [
    "innerExpr = expr.innerExpr()"
   ]
  },
  {
   "cell_type": "markdown",
   "metadata": {},
   "source": [
    "The `InnerExpr` object displays itself with two important pieces of information: the lambda map that it represents and the inner expression of the top-level expression that would be replaced by this lambda map.  The point is that we will be able to \"dig\" in to inner expressions of the top-level expression via accessing sub-expression attributes.  For example, we next will \"dig\" into the \"right hand side\" (`rhs`) of the master expression: "
   ]
  },
  {
   "cell_type": "code",
   "execution_count": 11,
   "metadata": {},
   "outputs": [
    {
     "data": {
      "text/html": [
       "<strong id=\"innerExpr\">innerExpr:</strong> <a class=\"ProveItLink\" href=\"__pv_it/52a8ce365f8698d46d4866d4c6502e91605110530/expr.ipynb\"><img src=\"data:image/png;base64,iVBORw0KGgoAAAANSUhEUgAAARgAAAAzCAMAAAB7TOf/AAAANlBMVEX///8oKCgNDQ2IiIiYmJgy\n",
       "MjJUVFRERETc3NyqqqrMzMwiIiIQEBC6urpmZmZ2dnbu7u4AAAAKyl11AAAAAXRSTlMAQObYZgAA\n",
       "BSNJREFUaN7tm9maqygQgJ0pkB2K93/ZI4sJuAUb42fPHO46sQj+1l72MOSFzg7/+8WZWH5ktJJ/\n",
       "wQxEM6w+EP68vkjD6w9QGvwkBJR2PgBOum9fpIMTqsxqd6XKe+CerW57pO6Yy+gXFwjqzaczOdN5\n",
       "U8guUIyR756G+7G80K8fNerxw/bKrTb9PhjKLwCDdP801hcq7emGNPsEZq1S3wdDrgkRDnZPIz0U\n",
       "NzQ+FQwsFETxS8Cg3j0NFu4WnwtG2IVvvCj8ULMPZmwCIwCi3kmqrQQYYTAALG5ILQGwIqdBDkAm\n",
       "MLPI6ymPx2C4dRb0y8vV3rUmAXZbpi2eFTIpa+sAI4Lu2vi1YhD8K5gQ7iMYHfSa2aiagY+LYAqR\n",
       "rLb0EIwJ21C/g0JUnBjZlHG0WHteqJIhtBeMnny0iUGLRRoxsEsfkNAxOatpd0bfUakQaTEl1OFm\n",
       "LdsBM0CZcimxLdPkVkoZoXpNaZDgbOSQbj4mLzyGtPxsJmeFKaXB7GNeIi1gbESo3rb37z+0Wr7w\n",
       "XNpsyzSsWkb6TjBIGc8KwiLsGMxqMGwOcQlMIdICRrMo+U4eVK1rpkxPM5iVTMOqZbrBMJUsBw/A\n",
       "BI0pwBQiDWCSsgm/524lLfdJprSSqXzMdjBdyJheU8rbcSM3wEQpE2hQ9vYxhUgTmHCvI50LmCWY\n",
       "OtNNznct0+Biaplu5xsV0HlJsAQjE5h46JjN8KjjNn5ZiLREpRDryBTRX0lRVSSaOsbk3shKpmHV\n",
       "Mtb9FMxUI/qp1uKjBYdASfxbCuanEspRH+okNoQ8Ju2N1pEpjwn11UtkL48xbF4BHY5TAsRH2M78\n",
       "rFw4nPRrhzKviw9+J9X4P9OYr6zeWumqkkAN/zEw3y8iy8KRe/dbwAzs222HoehNEW9+DZhLGlWM\n",
       "H5ymrE7UXVwGUA9obRKe26xqC4zw8y84z4e/q+xnJh5Om78wajKBCNIRn35Q628e7Yip1kRlLwIj\n",
       "v6Z4GNwh3AhGxiLc6kueh/xeLiRCdDW35Vov52L1Fc6XnlA8B3BGAXIfktzF5WW5V4RrCzHJ0C1b\n",
       "TVFS6lYzsgBUbDVqvrXMe34C/Qkez61M2pCyx/Zio/miklMtn/aGe147YP7KkmB+V8KvXhcQK6PR\n",
       "YsuPbNuWnfadtYv7W8AU00f03c8i3+xGD3x9x5v55A6YsC/MbleJG7hcW13PluRUwx3HYZdtAoMB\n",
       "IiOIbxt8HJjliKtsP+VBU+h2vkZw+3fMLRDAT2BC5JKDDn11meMR6AeCWY7FqoblYGneaAraWJuK\n",
       "aAvMi8t4MBtGp+wFBNh5zObxcWA+jLhSP3gqTMPJPfSDia+YjAufIu8oDU6C+TDiyjOLqDg4x7g0\n",
       "1FD6YKixd5nd1A1+R9/oJJgPIy5l31mMqUP2UmP8vI40RrPtMz8OzHosttCYPHsj66f9E1PC7cSK\n",
       "PxHM8Ygrz7nDwZM3+gRm1UmoL8tNtJWP4Y8zpdWIq45KY1L9keTXQhoSlEPnG98iwcVQ6SFR6dNY\n",
       "rMpjcoYxVXyrGngbjKDHlzlHyEqQPDGP+VSRYmMcXtRWp1zR7Znv0D9w2+8bIx50Eo4u23DxcAuY\n",
       "4plp2t2Oaa/Py07CySPf0ZCRZUQcu929bDf/spNwapFbmptQxkveb0tjc0ug6iScWbf8GwjW/z0A\n",
       "vtd8kTb/ctlJOKMwdwzYUS3ekSW+d7wkWptdVSfhRMvnjpAk9Kqnj7bXmkRjvl51Ek649xs8L6d3\n",
       "TSJ+7/oDB1hCDNJ/R8MAAAAASUVORK5CYII=\n",
       "\" style=\"display:inline;vertical-align:middle;\" /></a><br>"
      ],
      "text/plain": [
       "innerExpr: {lambda:[_a -> (a = _a)], ${_{-}a}$:(b + (c / d) + c^{d})}"
      ]
     },
     "execution_count": 11,
     "metadata": {},
     "output_type": "execute_result"
    }
   ],
   "source": [
    "innerExpr = innerExpr.rhs"
   ]
  },
  {
   "cell_type": "markdown",
   "metadata": {},
   "source": [
    "By accessing the `rhs` attribute, we created a new `InnerExpr` object that has the same top-level expression as the original but has a new current inner expression.  Note that the `InnerExpr` class does not know anything about the `rhs` attribute itself; it is relying on the fact that the previous sub-expression has this attribute.  The `InnerExpr` class also has tricks for getting an sub-expression with an index (or key):"
   ]
  },
  {
   "cell_type": "code",
   "execution_count": 12,
   "metadata": {},
   "outputs": [
    {
     "data": {
      "text/html": [
       "<strong id=\"innerExpr\">innerExpr:</strong> <a class=\"ProveItLink\" href=\"__pv_it/a3f5b908d6452e3d47ac767e227be16757e43f510/expr.ipynb\"><img src=\"data:image/png;base64,iVBORw0KGgoAAAANSUhEUgAAAYIAAAAzCAMAAACtxf/fAAAANlBMVEX///8oKCgNDQ2IiIiYmJgy\n",
       "MjJUVFRERETc3NyqqqrMzMwiIiIQEBC6urpmZmZ2dnbu7u4AAAAKyl11AAAAAXRSTlMAQObYZgAA\n",
       "BTZJREFUeNrtXNmWpCgQdQbZ9///2VHckCUTRezOOcRLUdVewLhBLAg9DF0eE2VZDdxo9c48Eeec\n",
       "VPbBZGvAPR3aYQD7b1tLTi+sw0cJpuGfpODsHQp4fRcMtQbcEwonRe5DHa2BxOOPApsz2KobphgY\n",
       "s2HSvEIBNK0B98Q5Ej3uv44fKBgI5/6siMWx4UD9xbKsDo3AyjcoUOAOwGDBWzohBQB0zuXQ7N5K\n",
       "UTAp3f8rsrGZGPFt9UYejrxCAbHmHgA2jHZm8uNsGQfsw+ytJAXn6G1h4gn8jYJ4mbxCweW8YQPY\n",
       "KALSq+spi1DTGEysjB/cf6SAWa8zi/5iCkAQcgS92MEKkPHqeY6CeQywKozvE9xaaQqMF4DNX00B\n",
       "Vc/4Ic2HZhQYO9kJHo0bSe2BdWvlKEBFFFAA9Dwsg0IxABAYJABYLr51BEDRtazQALCFgg2yKx19\n",
       "pYAorYDYdYs/kDaKDCgnGwCifbZlFKT6jxHTewM2CDL5FbakQGCf4daqooDOZZRy/8wxmE0KyO2t\n",
       "oJhdBFYuds/vph0FHmSN6/AbBXLuCdrMM/TEiIIZkIaeqAhg7JSaOmstpCDsP4kgs6/BcCoCAAVq\n",
       "DDze1qqjQLCtJ+z07tJX5t4EoiWoSDeJPSPyIIWOyIjxtH7DZ4BfxWCcAeVkBVA3IwtKKUj3HyJc\n",
       "VohoEGZZ0KpzRAMDWjmNL2p2xQBxXa+mNgUVs5QIZo0FO6SQAuW0w4+3+/cfeBLrBRmIMqBsyELH\n",
       "YjBbLbMsGS7cj0zKeO4/iVApSzty861VRYGBmKxGv1iTM6MzBXhLrxYKPEghBQI78JEl8/OLSe6F\n",
       "ea4yoGz8V0dVIM+J6adVkO4/QAicVK0MWlUUYL74HfOBgnkVeBR4kDIKFtOkNvcMO+0vrKPGoFMs\n",
       "QBHAjrHVfqAg7j+BMFYPzVfBOhEiWYICtIScaRiIjxE9SCkFs2kiOFCSfAaShH+MQdlYgPaEefHv\n",
       "hRQk+w8QdukvjAUkaFVR4FaantIt41OwhBnodOOqAyKkszFwhhRmRHOqNU6p625SJ0XJc12AcAaU\n",
       "kxWAxjV7K3RE6f4DhEv8jDob21MZEUPWIjKBFdAGwNH9zii2YpoVtHMmgIe5LpDrLpUep7pg3lfa\n",
       "IcV1gZkydkYQSBd2wQtuufZnUAww06zGC6VZuv8QofU4gkwhcrTuroJG4iiQeJPL28jyanX8AXBW\n",
       "aMmkSurp56rjlhTUiJCPAcxlAyhBQBC20hT4W3PE6h+iQOnWgMp9633V7a0cBUdKO1r5QxQw0RpQ\n",
       "JyOKWhkK/C0ZPvwQBeF+QANA3QuyqJWhgNotP9CW/BQFBrYGVC0CHbcyFAxo1bwWcvgpCsIvCA0A\n",
       "94XguJWlYECz7g1EZniVggfOEVHZGnA/WTBhaz5HlM04KQeD4epdCrqcUgW3FasE66r4Q7IFASWe\n",
       "CMfzB7yu04s62/fCn0hKuXw7//59kcc3PFBfmrndkO7Qrgm2T25QCNo1elm8E3TGVufNr1Z3/xN5\n",
       "eKcUuk82Xa1NKQgPNp3LDaLACHqB0ZSC8GBT8DmyS3MKig9OdWlFQfHBqS6tKPh8cMpu0vXajILM\n",
       "waYub1JQcHCq8tptp+BLLR0ebEpkRKYvkmcpOJ+qiQ82xZ8haE9T/2R1PIvu1fFtCoZ6Co5rt13K\n",
       "KfBstrrS9a7ddikV5m9Qo9qNTu/abZdSAX4GSWo9kX/ttkupH8JnQkBdb9612y6Fvju4TzvaquNE\n",
       "/rXbLiVCRfTfwxhV40f8a7ddCoQcN2D+A6ZVQmWnMlLHAAAAAElFTkSuQmCC\n",
       "\" style=\"display:inline;vertical-align:middle;\" /></a><br>"
      ],
      "text/plain": [
       "innerExpr: {lambda:[_a -> (a = (b + _a + c^{d}))], ${_{-}a}$:(c / d)}"
      ]
     },
     "execution_count": 12,
     "metadata": {},
     "output_type": "execute_result"
    }
   ],
   "source": [
    "innerExpr = innerExpr.operands[1]"
   ]
  },
  {
   "cell_type": "markdown",
   "metadata": {},
   "source": [
    "Now will \"dig\" down to the denominator of $\\frac{c}{d}$ and show how we use the `InnerExpr` class to replace a particular occurence of $d$ rather than a global replacement:"
   ]
  },
  {
   "cell_type": "code",
   "execution_count": 13,
   "metadata": {},
   "outputs": [
    {
     "data": {
      "text/html": [
       "<strong id=\"innerExpr\">innerExpr:</strong> <a class=\"ProveItLink\" href=\"__pv_it/f9b560910dfede671bde880243889f8423ecaf410/expr.ipynb\"><img src=\"data:image/png;base64,iVBORw0KGgoAAAANSUhEUgAAAZMAAAA/CAMAAAASa9VyAAAANlBMVEX///8oKCgNDQ0yMjLc3Nwi\n",
       "IiJmZmaYmJgQEBDu7u66urp2dnZUVFSIiIiqqqpERETMzMwAAABpwAnxAAAAAXRSTlMAQObYZgAA\n",
       "BkdJREFUeNrtXNe22yoQ5V56E/D/Pxt1DRKoB9tZzEvmRN4I2ExhDEZoEu8aVEKkaEW/0BDnJSC3\n",
       "h2nSOmLd+OX64wSrbRs2mEKdFe+0Y3EJyH1ROK13suUE6cC2/6VLLSD6zpAT43of8mjRmLSe5gQ1\n",
       "YUWcKmUlb3EihS8AeSaYp/U0J62n0nF3g/wtTowpAXkmBEw9iWhIGywOcNHwrTP7bk58IAUgd4WN\n",
       "kwtXQbQi0pw0kbNyQf0WJ9iUgNweYpiWgQRLQh5xgkIAf9Dgf4oTcn3Nk3JmgpopWmML1oQ95CSK\n",
       "ILRgh9/ghOESkNuip0jAQd4P9Qwn9DknXq1Q0itZhBNhS0C62bX2Ik4ya3EzG6cChqoucrL9kDd4\n",
       "f8vizXpP0+ATcekFTsh1VztDpBPnO0AV8uKiF/AwdMCCBdDvctImyEdRkerNyItwwsMTCD6dYzLX\n",
       "Lb1rLrJtHNBogMcE+m1OkDviZGtIZThh9AkkbOp6TcY/iZ0KYAbTQcCm3QaU0v8BTuwqblF3uYkF\n",
       "orZjzXGyF2XTGNlBHJdy3nIQsP0g/xAnzcrb3NjhLhBNz6551Ndq2TU7IW048XzZlTQooT/lpLFW\n",
       "d+/3WDBvrbFIWevU4Jm5tWx4k9RtjuIHTibI1Lo5wQlhmtmlr7ElrCDB5mB5Tuyyd5z7fMQJYZZb\n",
       "eZKTLkXzSBnbWMYXu+EooT/kpKGtxTEz2L/twrhVU7KNRWeNjvUJQTdM3XMCIEOugI85UV1TOGRY\n",
       "aFzsIHgOpjEQloLIgOXgYo452bXdGENoO36Hd9YC1J9y0lVTBx/seiKCm4tHQ7miN46hO0PeBSBn\n",
       "fZcUfMpzkpZhnYTZHc/B8qkwn726XE3VK5z0KajZ5gRwu7Doj+OJt5r1FAzz3rc8pPvjSmx9tRze\n",
       "J8d4MkPOcsL6DtBlnP//hyMJIFItjnkDy+6lFgju+6mhXVHR/2OWulNKYluMMSy3AmHoW/SHnEjs\n",
       "yGgWzs0WGHPi2g/YhRMAOcuJcD162QvQuEOKqtQEb2DHnPR9VnE+/NxOhEMFOXF0cFVyh5POTgAn\n",
       "AHKSk2HdNiEX1T2WKUe0hUXxxKR8V6+slvVjTmTuW1r4QL7mu8ZhE+UTnJgh4W+JwG6JJwBympNm\n",
       "2Og2JMkJJvGnbQ6WTcDnANL1cAhDb9rJSHmTj2ORfoYTkeekt0rdptwScuIHTvq56ncpRPS5fP8Q\n",
       "QM7mXV1Gx9uceV5J0aQplgmcG1g+F54+YviYKb7KSZ9lSubzPvPy/iQka5AhGIKIYVZLi3n/t29c\n",
       "EO0c4NAlGg51+xM11kM1b/cnXY1shuztT5SbpHu1bDcNnhib3nKuxzoX4vZhaUjbN47e5gRpzXmi\n",
       "FQVSE6BnOQH2Hl4633Oucvq4CYffhRxw0tJosL/FIweLHegZThzIVkhwP8WJFu9CpNzvsI+/uT2B\n",
       "Sb0W6BlO4IEuHfhPcdJcP2XT3D+Y05ffb3Ya5n5Az3BCliNeUlD0U5zI62tI3l92q/L73bdCPVeg\n",
       "M3PIccH/FifHFetXINNcxuX3a9aZLNVnOUGUTp5LoR/jhIsSkGkCu6KEumVm8GAG1LOckKEgYGjZ\n",
       "I5tvcCJD81chkg3SQ1bl96tuL6lnjU4aSp442s9x8vWH6sdXirS+wwlSHXeEGvlznKAb57FLH+Fu\n",
       "38jT+g4nejDnVe3jNzjhuATkPWOOrTTLyRzbVcET3K/dP3G2BOSJEEGS+g4nzbJpdAWPpr7Fibye\n",
       "mkhaNudvkvoeJ0IAegpezZDBuTdWLKGkAOSBIfO0btvhZ4oKTfRtS8EaJPKtvDE3xJeA3F56Kq23\n",
       "fWgls52BO8WC17Sq5CW6qEUrJ98g0fcnlZMv4US+zIl3gtV5/S5OUifWq3yYE1U94Ndxommd1m/j\n",
       "BNdwUpqT9bUCeESofWZ9DSelOVlfK4Dl5P6Zq+GkMCd71wrGZ7jOallO9q4VjM90ndWynOxdKxif\n",
       "qTqrRTnZXis496zK3+Qkf63g/JWDKq/6rs21ApB3nb9yUGU3Phz+Bs7RbYRlf3L+ykGVPYmunODg\n",
       "64x8AydRMlvdzueFRL+cSkItH35edHxr39Ra1cdFrg2j5K8PVknKJqgTLGqY/2gwSf1GoK7u65OO\n",
       "S+CUoyK11P5BAV7qD3h9T1oJhUC6AAAAAElFTkSuQmCC\n",
       "\" style=\"display:inline;vertical-align:middle;\" /></a><br>"
      ],
      "text/plain": [
       "innerExpr: {lambda:[_a -> (a = (b + (c / _a) + c^{d}))], ${_{-}a}$:d}"
      ]
     },
     "execution_count": 13,
     "metadata": {},
     "output_type": "execute_result"
    }
   ],
   "source": [
    "innerExpr = innerExpr.denominator"
   ]
  },
  {
   "cell_type": "code",
   "execution_count": 14,
   "metadata": {},
   "outputs": [
    {
     "data": {
      "text/html": [
       "<span style=\"font-size:20px;\"><a class=\"ProveItLink\" href=\"__pv_it/4e7cc4d2e67cf59f8565b46c31a53df1fffc98cf0/expr.ipynb\"><img src=\"data:image/png;base64,iVBORw0KGgoAAAANSUhEUgAAAEMAAAAVBAMAAADvM06qAAAAMFBMVEX///+IiIi6urrc3NxERETM\n",
       "zMwQEBCqqqpUVFQiIiJ2dnYyMjLu7u5mZmaYmJgAAABN0h6tAAAAAXRSTlMAQObYZgAAAQ5JREFU\n",
       "KM9jYGDgu8eAC7BePACieHYx4AZMqSCS7wOYE5KLVc1tEME1AcL5jlXJSiQlTH8IKoEZhkcJ9wUC\n",
       "SmwXxhegyh28yMCcw8CwDMTm2AB0SDKDPygEuHaDAcjABWoMjEC/vgcpKQtgYDj2AOI7BGAuuM3A\n",
       "4gCxP2QyUOD+AYZZqEp4GBIZ+AWAjE4goQY0JYWB5xN6uP5hiAfKcDeA3OLAwPOLgR0cxlC3gIR5\n",
       "NzCIMUDdAvQRz3ego4tRTWFpYPBggPoI5GlHhpcNC1CV8DYw/UMOlxOCwY0KaO5tlP2MFrqYAOga\n",
       "mJIErAq6Gc4rwJRA0ws6mAd0ICy9MGBPdYqyAaDQSQJz2AmkXQDBfk4loptHnAAAAABJRU5ErkJg\n",
       "gg==\n",
       "\" style=\"display:inline;vertical-align:middle;\" /></a> <a class=\"ProveItLink\" href=\"__pv_it/2ed215bcb3a12a0a21d272f4503518ff4350d5e10/proof.ipynb\" style=\"text-decoration: none\">&#x22A2;&nbsp;</a><a class=\"ProveItLink\" href=\"__pv_it/b55fa226c17bba66c880cb47ead594076915e7360/expr.ipynb\"><img src=\"data:image/png;base64,iVBORw0KGgoAAAANSUhEUgAAAYwAAAAyBAMAAAC9oPHIAAAAMFBMVEX///92dnaqqqpEREQiIiJm\n",
       "Zmbc3NxUVFTMzMzu7u4QEBC6uroyMjKIiIiYmJgAAABs22DkAAAAAXRSTlMAQObYZgAABkhJREFU\n",
       "aN7FWl9oW1UYP/nb3KZNJmwv6rY8+TAsraAMxja7aXWMKfEfE2xtHjaUvrQIIkKLAcEHH0weNkor\n",
       "kum0XXGTvQlFaRFLX6KGQXHUlRb0xTG3tGLt0FbvPd+5uTe53+8kuUp2HnbT/M493/nO9+/3nUyI\n",
       "lo4HfEHsGKeHMSJaPgK7/ED8iM/T86vWq/GjLwiMW/RIzLdai+AFPxAaIWW/R1qtxuRVPxAaxue+\n",
       "X/1v4zFfEBwHqg2ZWEMTb/vKHih5BO9in7rrQ42w8qpj9LiB5nXy0bN3JavPHiB5hNN4RwjCskzd\n",
       "N+nZnZGyZ9C82Tz37ZlUaF6fbzp5c9zJwB0hSCdLiD73GUwifY1L7NfHRFsKLdxB/vk9Cz6BN4Qg\n",
       "nSxTeTrmhPTIt9CsNvZQI9CNI1siSpYd4swY+wvuB0FY1qB19oUSHfe2tcQmmppjLd3eAzNg2T4T\n",
       "9gAiuDQgCMsqSNsrhytanyEpWeQXgKwhaK6ak3aIcafYjtkPgrCsh2UMKgusmuc9jAIvypspabo/\n",
       "768BM9Q6yM7fccaFeR1CWNYeucMd+mPYnNYPLc3niMiIOM8lBWPghikxQe5xk5mwihMVgpCs8yvf\n",
       "yOe0Y8wr0NIl/vv7brPAuazlUFEK1mGGIBzCKQdCvCzjhPLaRxW76hXRLbTEsHkOxqHeRmvqS+J9\n",
       "6/ExHQHj1BfxuxJqXFYkHSOj71feXBaJMszKMhmkG1XjE6p9o5SqvA5p/IFJHkENy2pPqQJ7hzwu\n",
       "sSUi8AhelEFmR1iQs26Xayub4uiE5eZUx72HE9vGZYOgiqwuoZdVyIR+lRkxV7LfD/doK+tcvkE1\n",
       "xFRsa61CcILeLBfcwOSIoIqsemq0Z3IfkD5p25pJaElp6d2iUTW+vLZkqZGTRxrz7jkBg9CGdosG\n",
       "1YiPdb1K9lP15k+RlNs7u2fZwx+kpRdXnm9EDYeIFmQJMHa8dJkMFH1uYAZAFVlaNQIr1526olzp\n",
       "dxIbnxI/yClFOdKVnRh/5wuZ+mq4iCgdC52BeFAut0DiKUfOZjrKPOTI0qkRPS4OO96lpF6WFVBM\n",
       "rokXPEV8h9oZtS+tGi4imqRUuw5onvGFiPTwkCNLp4bZK73hqKHy06fky4N58YwnfWxQJbd4jWml\n",
       "by8Xi5YnJv+xhjrPk8XiYg0RVbHmza5tZbXjcAlAJMtZlpU16Hb+sKKUJ0mNi8LYYtUwU/lcqq41\n",
       "3ES0jhrm1EKWhxxZOmtUFVFHDcupjHURLLtiY6TiVCY3U+rr1HATUfpsrLtiY9HlOSbcDSBHlkYN\n",
       "o8pbw8qpnpSth7Fhlt2HakurFaXJq6Yz11XDTURlrFW4p5v/ynRUSInRYIaFHFk6a5gLB5kQlyF5\n",
       "RPwy4mFBlt5ta6F0fTXcRBTWjU7ptqFS4ukADzmydGqcFsbLnj5lmj6Nr7w35uGk05J972uk/LmI\n",
       "6JxcJ+7tShPyK2Ps+ms/AagiS6dGYN9vnkA0IxHfPByuJgwuNd79DMujNj/hbf+CuBWvhepV8dru\n",
       "0AyYAOyQ768OFXeis11mAr3FrBrbwdSwBprgJnFfOtQQ39d15xES19zxUe7hGnxM1HWQdnSnbGpp\n",
       "wEMqwN45gPsbtRz37im8nVM+1difqWS6g2hOCN5kaPobxdC7meZ6EG9n0Kca7zjl8yakzyBqzu7N\n",
       "4Zs8dQ/Rj+/4RBPQRwP2BZ6m+SUWUUB7Mvg+x2TDj+c1/aXqaJl4xMojaNcs10c67FU1lMMleG0u\n",
       "0E27yYb78crLVM8u/C/XbdFUvwj1YGHu6zZxCS6eZf04b/+gwA2iE+1cdojgcwWQIa7Y3J2PXpVq\n",
       "5D3PLRgc87w/GriQKdOydozj1xBkZvZcFqthq7hNNAdNO8KdkM2G2TEkM1R0igX78Ib6YMJY1kT4\n",
       "KsVoJzVkJ9C0c1k28L1suAIep/dSTeUjDJk5/6BGjemqyDqDLlejT7EmYtiwLZZi4iiINfwLPoAi\n",
       "I3FMYWp+NBNR6H6vM9+xbFiND8kmAG7+J0xjbGkTq2FX4QXR2rHQPBSZx+8cUH3pTIvVGMo2CY2K\n",
       "Av7t/p79vB/sbRJ6lk2W9kWE8qk3RavH6Sahr5c0VeNnVd16Wq5GW8kPBEqjipp78B+RxCu+IHaM\n",
       "U4Abb1v//gt6tQBKFZiqYAAAAABJRU5ErkJggg==\n",
       "\" style=\"display:inline;vertical-align:middle;\" /></a></span>"
      ],
      "text/plain": [
       "{d = y} |- (a = (b + (c / d) + c^{d})) = (a = (b + (c / y) + c^{d}))"
      ]
     },
     "execution_count": 14,
     "metadata": {},
     "output_type": "execute_result"
    }
   ],
   "source": [
    "d_eq_y.substitution(innerExpr, assumptions=[d_eq_y])"
   ]
  },
  {
   "cell_type": "markdown",
   "metadata": {},
   "source": [
    "Let us demonstrate this technique again, replacing the other occurrence of $d$.  This time we do this more succinctly, without the extra pedogogial steps:"
   ]
  },
  {
   "cell_type": "code",
   "execution_count": 15,
   "metadata": {},
   "outputs": [
    {
     "data": {
      "text/html": [
       "<span style=\"font-size:20px;\"><a class=\"ProveItLink\" href=\"__pv_it/4e7cc4d2e67cf59f8565b46c31a53df1fffc98cf0/expr.ipynb\"><img src=\"data:image/png;base64,iVBORw0KGgoAAAANSUhEUgAAAEMAAAAVBAMAAADvM06qAAAAMFBMVEX///+IiIi6urrc3NxERETM\n",
       "zMwQEBCqqqpUVFQiIiJ2dnYyMjLu7u5mZmaYmJgAAABN0h6tAAAAAXRSTlMAQObYZgAAAQ5JREFU\n",
       "KM9jYGDgu8eAC7BePACieHYx4AZMqSCS7wOYE5KLVc1tEME1AcL5jlXJSiQlTH8IKoEZhkcJ9wUC\n",
       "SmwXxhegyh28yMCcw8CwDMTm2AB0SDKDPygEuHaDAcjABWoMjEC/vgcpKQtgYDj2AOI7BGAuuM3A\n",
       "4gCxP2QyUOD+AYZZqEp4GBIZ+AWAjE4goQY0JYWB5xN6uP5hiAfKcDeA3OLAwPOLgR0cxlC3gIR5\n",
       "NzCIMUDdAvQRz3ego4tRTWFpYPBggPoI5GlHhpcNC1CV8DYw/UMOlxOCwY0KaO5tlP2MFrqYAOga\n",
       "mJIErAq6Gc4rwJRA0ws6mAd0ICy9MGBPdYqyAaDQSQJz2AmkXQDBfk4loptHnAAAAABJRU5ErkJg\n",
       "gg==\n",
       "\" style=\"display:inline;vertical-align:middle;\" /></a> <a class=\"ProveItLink\" href=\"__pv_it/e58d87a9bacb9d3fbc229313ddb6b4ce6d0848840/proof.ipynb\" style=\"text-decoration: none\">&#x22A2;&nbsp;</a><a class=\"ProveItLink\" href=\"__pv_it/882f61317216fc16ecea78fccd683fabddd78dec0/expr.ipynb\"><img src=\"data:image/png;base64,iVBORw0KGgoAAAANSUhEUgAAAYMAAAAmBAMAAADU7OrIAAAAMFBMVEX///92dnaqqqpEREQiIiJm\n",
       "Zmbc3NxUVFTMzMzu7u4QEBC6uroyMjKIiIiYmJgAAABs22DkAAAAAXRSTlMAQObYZgAABHxJREFU\n",
       "WMO1WM1rE0EUf0mabTZpkwieRGX/AUkvIkgtVcGvUwVFDy3mICi9tHrxYiVnLy34hfaQ+EFVUMlN\n",
       "ELU9WIoQJQpiUYs5F21rwdKlWJ2Z7GZmd99LY3d3aH/tzrx5v3kzb968GQCAdA2IsgD/V/RhiUgJ\n",
       "mghu2d/fKMHOKbQ6MjdL9XipoLcETpSy+qUeU3IvxrBa7QB0k2MZlugpwRPB5/rXnQK1Wo/Q6rYs\n",
       "XCRX+L2C7hICUUfdNS9RUu34ZJ4ZI+TjqwCDonEQFQmMSFJoYmETK5TUaB6tvk/usSV7NOiYgiNS\n",
       "KMS0dFDxA2bwgf6i5KNscyVMMVoTaQ6OSKEY5YsxlCeENGLW1tlg8QDSx+Cd+Pcd0hwckULRUWXQ\n",
       "T8nE8UgHp0A/jU3awDeD/ZkXH/OIQFBEr4bhaIMiXWLwlNKcrOL1kZ0/serrhfqilqGBzhIUUdZM\n",
       "lBoU2hr7XaU0D/EYeO1BqwfmSbgqxpOV6HSXgIi08d7OLklxl63EEiW7KHC6VRPu1c+Z9imJzuwi\n",
       "KKJ4tr0qKS6zil5K9ITAZTvcYKutVOor0HObH5tipJ3e8foi2qWeeOVkQVJ8ZxVdlOaDIikwWzQB\n",
       "JhKr/KiMivAS9QYZX0QOEwqTCkUuD5k+SvNvsaV6WzXh+cdP3ISEmM3EskfWF5FqQmqkW6EYNSAj\n",
       "emjHBzw52B8Rd0c+GS2YsGPOzn/0dYlOE/wQNUxgRDehR6Eo1vgPTxXzHcK1tld4mZYixbf6ysYm\n",
       "nDViU44BWaio80dkm8CJLlgp9h97Zoa4Zv0ZxN2uqgnNuTFLtKkJ+6HdsOt+KegInX6IbBM40est\n",
       "KlEmy32JRQsT2tw9677WL1KVSKXy5kmlIpKcv7zwmZSVcdPt2RY6crlNE7EVO1apzABKxLaY0Jzs\n",
       "gmIB1TwNqeUNVyHZ1aoJmyWyVgEhYiaI9S1mIac474xc33Xb8mYmFLPu/NLKMhV1/ogsE7xEvKrI\n",
       "exQNuBx1JZK6cM01uFPb0IQMEzEcnq15I5IvIssELxGfmQw3LFZNH464uwkrr8Dujc+F+DDcKDjc\n",
       "AjsX/BBZJniJuH8m+dbRR2bPfXV3e8jhxodaC0fbloVGa2pNojMf9UNkRyQPEUyWITZFHZrd5EGc\n",
       "2NtH0qVNiY7ii2gXEESwOAaREqV5m9Nj1bt4xkAqrSS/JBFp2CTRbaD0sc5Rk9Kcox8QJumm+g0Z\n",
       "uSeHQ8Tv3Ug2Y4cQ8vkQttLZfL0X0jccIqF1DyUTI18cml1PcnmJzhIKkUi55ymZNOG82vHZZVpz\n",
       "P3nVD4VIPB0UDepli+j/Ih8zm90/JbpWPgyipEG/KpMP0TzZJLtAZ0miuykEIvgi8BH5OII+4/Jk\n",
       "M0tqTtYkuksIRPBM4A/SR9E54MlmGZpPKD6tIRBZKxurUmL70GBmJ5voDpyQ6I08gRPBYD3y6Uco\n",
       "uesFfFd6kk3Zw5Dode7AifQD9oWUfK89hM4lkmzapUdBbwmcKGbvOa1ACZ7H5hJLNu22skRspAET\n",
       "wTiHf0Mg8SQNQnWhAAAAAElFTkSuQmCC\n",
       "\" style=\"display:inline;vertical-align:middle;\" /></a></span>"
      ],
      "text/plain": [
       "{d = y} |- (a = (b + (c / d) + c^{d})) = (a = (b + (c / d) + c^{y}))"
      ]
     },
     "execution_count": 15,
     "metadata": {},
     "output_type": "execute_result"
    }
   ],
   "source": [
    "d_eq_y.substitution(expr.innerExpr().rhs.operands[2].exponent, assumptions=[d_eq_y])"
   ]
  },
  {
   "cell_type": "markdown",
   "metadata": {},
   "source": [
    "The `substition` method, that we demonstrated above, is a direct application of the `substitution` axiom.  It proves the equality between some $f(x)$ and some $f(y)$.  We often will want to take a shortcut to perform a statement substitution in which we prove some $P(y)$ is true assuming that $P(x)$ is true and $P(x) = P(y)$.  For this, we have the `subRightSideInto` and `subLeftSideInto` methods."
   ]
  },
  {
   "cell_type": "markdown",
   "metadata": {},
   "source": [
    "If the expression that we want to substitute in is on the right hand side of the `Equals` object playing the role of $x=y$, then we use `subRightSideInto`: "
   ]
  },
  {
   "cell_type": "code",
   "execution_count": 16,
   "metadata": {},
   "outputs": [
    {
     "data": {
      "text/html": [
       "<span style=\"font-size:20px;\"><a class=\"ProveItLink\" href=\"__pv_it/b101ac93f8a41e9b9a35bdf1896ff54822dbf0470/expr.ipynb\"><img src=\"data:image/png;base64,iVBORw0KGgoAAAANSUhEUgAAAPQAAAAmBAMAAAAB96vpAAAAMFBMVEX///92dnaIiIiqqqpUVFRm\n",
       "ZmYQEBDu7u66uroiIiIyMjLc3NzMzMxERESYmJgAAABupLKKAAAAAXRSTlMAQObYZgAAA5lJREFU\n",
       "WMOtWE1oE0EUfmmSbtrNn97qwdZqRUoPe1I8NVRPPUhb9FIEqxZEq7KIjXiQLSIVvLSi4kUkiKU0\n",
       "oOQgQk/NSRCEFqmCP5Qg0oMHW01LCinVfZPsJt19LzstmcMMefPmfTNv3nzvbQAAot+Ba9Ec7Kgp\n",
       "CSm1n2OlUZ0ZY3U6SamvvYtb8EAKumGtNCYXWJXQJUqqPoKvrFG5Y79NieGczmoks5S0KQ4n2CWv\n",
       "paD9eTFc4zVOklJ2r8FN8zy6FPa66IfZ+XCRFLN7VVYBAnIeH/aAbibNKH9YN5o3GC7UBXouQ4q3\n",
       "TBA68vvM7kVdoAdp8WlQzlLeGOjUzGG5LtAXaLFv/w9KfDs7jyE2N1YHaNUMWLhzWZbJzsA7HBrj\n",
       "1YH6uW9X0NFV7KdkoS/CIRwCqWphTNsVdHAS+7wVvm1UTFeEShGWbiGfrVYrTOi1oNc46CZk2FBB\n",
       "EhpGwpuYbPzbyKCl5l2vc9AxvCffpCz0vYMdCB3OVytw1/WqQqdq/4ArVcTQbnNPhyYBvbfdontl\n",
       "qxKn/V15x4IbA6AiUKtuuRXGM83ijvalsZX2auAhjGml6A09q0Xs6Pprz45nIgWH0fh4KRiSpkdV\n",
       "cXTlOgRduXMOobv1sq2a0A8hYIeyzbNoNOV4r9ogRBBIfQJwVCwJFqDJZXpeE4yGnO1Lp2eupNOC\n",
       "0/9hw51XhMGCKymVjcYdjGfSlLhHaBiBm98EDyyAkSWhpyCU9zx14wIFjUad1GY+mHkBdNz0+ArO\n",
       "GnHohsq1vKw4fMs6Ui1oI04lNsqoeQOHxaGvQtlZhga9fmeeMtDuBiRzntAxU8W6a9WOcMpoJAGL\n",
       "gmrQqIJRFGmLPva5Hhee5RR88n7XwQSMWvdVetdGijYaTITE1r6IX+cRv6frzRGn3UaMqtEDOQlK\n",
       "2fPbng1tCCZ8ShtVejqKlUqH5fBIiiMuOyER+4mWQuMYmxlSEunDN7RtvzqRkBSdWxWnbfaWg94D\n",
       "2s+XWRO6R0GntNGzz+GjTNKsYmNna+HTtqBfiDKzdzuyUgXSIjtTo37oztSjNmMqPCIhedeSO4Q2\n",
       "6OrGSkhcnVQP6IYUGQLuhFS9Zqgu0HCVfJjuhFTNQ7kdQM/wCr9I40RC8voiZz6eVng7Eep12gmJ\n",
       "DMERKWhfqfIJ8OGqPKODz53l7E8QTQq6tay2PM2qzGYoVxBZzmpLUsjv7SPd5/1H/K1AZjlrTuqD\n",
       "Cz5g9x9SCfxfSThdLQAAAABJRU5ErkJggg==\n",
       "\" style=\"display:inline;vertical-align:middle;\" /></a> <a class=\"ProveItLink\" href=\"__pv_it/c3b4f145397a422de9059d1133fc4bac10aa97b10/proof.ipynb\" style=\"text-decoration: none\">&#x22A2;&nbsp;</a><a class=\"ProveItLink\" href=\"__pv_it/3ea629d8d9561cdebe300eedc87683df20bb12a50/expr.ipynb\"><img src=\"data:image/png;base64,iVBORw0KGgoAAAANSUhEUgAAAJ8AAAAyBAMAAACwtxTjAAAAMFBMVEX///9UVFSqqqrMzMwiIiJE\n",
       "RESYmJgyMjK6urru7u4QEBCIiIh2dnZmZmbc3NwAAABRgo0vAAAAAXRSTlMAQObYZgAAAtBJREFU\n",
       "SMetVz2IE1EQnsTdy767/Qk2V6S4LazOIlfbJCqIiEIEQdAmjVoouKlSCREE4SyylofI3nGceGgR\n",
       "OQ7EcFwKOQuF+FMI5iAr2NgdFpGgqJu3G7K53Zn9wddk8+a9783Mm/lmHgA25AYkGw8j5O8S4oFk\n",
       "kOK5fFJAuEFKFxPjgdghhOxpckByj/g+OSBpVdFMASgQNl/ABG/bS+im7B9UNIOJvumikUINECqI\n",
       "4DxkdBzwNuqoEpImypB0otXCJF+Q+dkKCZhD3bGGqdCh0wtz/ZEBItCqAIQP1UHSk5Q8PA4JG+kF\n",
       "CCZlmbiKctD1ML/LmnmCf1wifc+ulGOmyPd7sM0/upjv3UzOxU7ofSi4gYikUcm1Sxv7/3jYIv/k\n",
       "WVj3bwxSg4vUNOMCnpYO/KYFU8jV/DXEBby77Ya05vC8ut/bPLx21+Y/tfbHGIBye4vZYtUFdG5z\n",
       "2c5xdd/UR+OOe1ncVvbTtOxIQPUUXM507nvhYQB7AkogQfscMDsErRUJ6LDqUemWl5Kz5RF/CIGr\n",
       "WXDTwuC566h+rl6vcYv+joZnjzfZ91OWsDqKYWspHNAJw6YeqeEGTAM6OhRh4sOaz2SHCbzjCUD2\n",
       "ewqwDJYO81n70Noun9AajoMjNXQIJjvJWQPE1sxJORA23AmZ6riYUoAfgH2aAOaBFba+vgwENq8A\n",
       "rLcXI7DlvZs+vkQypdjAk4KcxBi9VJ3+vxK2aAVnlSDTp2lEfKwSLMtGSsCujZSOg5SAC1gngtXz\n",
       "Rz1QNwnADayM/kAEnWWYI7RXfyUs9Kr+GcRKikIPfaRHhWdjRgsvv2iZbCLNkjSEEt4fEocJSCA6\n",
       "FPmKuJNdtJ3DrlnMw0UCcA0XPcd6G2kAaVpirGlnhR1iE9VpoDKFyMpF4umgrodOz4PVSPlYOhY6\n",
       "ewau4lsyJEcpoY/HBztEFF6jiaPwn5+3oCR+gPMr+Qcd7bWM9iGuXAAAAABJRU5ErkJggg==\n",
       "\" style=\"display:inline;vertical-align:middle;\" /></a></span>"
      ],
      "text/plain": [
       "{a = (b + (c / d) + c^{d}), d = y} |- a = (b + (c / y) + c^{y})"
      ]
     },
     "execution_count": 16,
     "metadata": {},
     "output_type": "execute_result"
    }
   ],
   "source": [
    "d_eq_y.subRightSideInto(gRepl, assumptions=[d_eq_y,expr])"
   ]
  },
  {
   "cell_type": "markdown",
   "metadata": {},
   "source": [
    "We can also take advantage of the global replacement default and provide a non-**Lambda** **Expression**."
   ]
  },
  {
   "cell_type": "code",
   "execution_count": 17,
   "metadata": {},
   "outputs": [
    {
     "data": {
      "text/html": [
       "<span style=\"font-size:20px;\"><a class=\"ProveItLink\" href=\"__pv_it/b101ac93f8a41e9b9a35bdf1896ff54822dbf0470/expr.ipynb\"><img src=\"data:image/png;base64,iVBORw0KGgoAAAANSUhEUgAAAPQAAAAmBAMAAAAB96vpAAAAMFBMVEX///92dnaIiIiqqqpUVFRm\n",
       "ZmYQEBDu7u66uroiIiIyMjLc3NzMzMxERESYmJgAAABupLKKAAAAAXRSTlMAQObYZgAAA5lJREFU\n",
       "WMOtWE1oE0EUfmmSbtrNn97qwdZqRUoPe1I8NVRPPUhb9FIEqxZEq7KIjXiQLSIVvLSi4kUkiKU0\n",
       "oOQgQk/NSRCEFqmCP5Qg0oMHW01LCinVfZPsJt19LzstmcMMefPmfTNv3nzvbQAAot+Ba9Ec7Kgp\n",
       "CSm1n2OlUZ0ZY3U6SamvvYtb8EAKumGtNCYXWJXQJUqqPoKvrFG5Y79NieGczmoks5S0KQ4n2CWv\n",
       "paD9eTFc4zVOklJ2r8FN8zy6FPa66IfZ+XCRFLN7VVYBAnIeH/aAbibNKH9YN5o3GC7UBXouQ4q3\n",
       "TBA68vvM7kVdoAdp8WlQzlLeGOjUzGG5LtAXaLFv/w9KfDs7jyE2N1YHaNUMWLhzWZbJzsA7HBrj\n",
       "1YH6uW9X0NFV7KdkoS/CIRwCqWphTNsVdHAS+7wVvm1UTFeEShGWbiGfrVYrTOi1oNc46CZk2FBB\n",
       "EhpGwpuYbPzbyKCl5l2vc9AxvCffpCz0vYMdCB3OVytw1/WqQqdq/4ArVcTQbnNPhyYBvbfdontl\n",
       "qxKn/V15x4IbA6AiUKtuuRXGM83ijvalsZX2auAhjGml6A09q0Xs6Pprz45nIgWH0fh4KRiSpkdV\n",
       "cXTlOgRduXMOobv1sq2a0A8hYIeyzbNoNOV4r9ogRBBIfQJwVCwJFqDJZXpeE4yGnO1Lp2eupNOC\n",
       "0/9hw51XhMGCKymVjcYdjGfSlLhHaBiBm98EDyyAkSWhpyCU9zx14wIFjUad1GY+mHkBdNz0+ArO\n",
       "GnHohsq1vKw4fMs6Ui1oI04lNsqoeQOHxaGvQtlZhga9fmeeMtDuBiRzntAxU8W6a9WOcMpoJAGL\n",
       "gmrQqIJRFGmLPva5Hhee5RR88n7XwQSMWvdVetdGijYaTITE1r6IX+cRv6frzRGn3UaMqtEDOQlK\n",
       "2fPbng1tCCZ8ShtVejqKlUqH5fBIiiMuOyER+4mWQuMYmxlSEunDN7RtvzqRkBSdWxWnbfaWg94D\n",
       "2s+XWRO6R0GntNGzz+GjTNKsYmNna+HTtqBfiDKzdzuyUgXSIjtTo37oztSjNmMqPCIhedeSO4Q2\n",
       "6OrGSkhcnVQP6IYUGQLuhFS9Zqgu0HCVfJjuhFTNQ7kdQM/wCr9I40RC8voiZz6eVng7Eep12gmJ\n",
       "DMERKWhfqfIJ8OGqPKODz53l7E8QTQq6tay2PM2qzGYoVxBZzmpLUsjv7SPd5/1H/K1AZjlrTuqD\n",
       "Cz5g9x9SCfxfSThdLQAAAABJRU5ErkJggg==\n",
       "\" style=\"display:inline;vertical-align:middle;\" /></a> <a class=\"ProveItLink\" href=\"__pv_it/c3b4f145397a422de9059d1133fc4bac10aa97b10/proof.ipynb\" style=\"text-decoration: none\">&#x22A2;&nbsp;</a><a class=\"ProveItLink\" href=\"__pv_it/3ea629d8d9561cdebe300eedc87683df20bb12a50/expr.ipynb\"><img src=\"data:image/png;base64,iVBORw0KGgoAAAANSUhEUgAAAJ8AAAAyBAMAAACwtxTjAAAAMFBMVEX///9UVFSqqqrMzMwiIiJE\n",
       "RESYmJgyMjK6urru7u4QEBCIiIh2dnZmZmbc3NwAAABRgo0vAAAAAXRSTlMAQObYZgAAAtBJREFU\n",
       "SMetVz2IE1EQnsTdy767/Qk2V6S4LazOIlfbJCqIiEIEQdAmjVoouKlSCREE4SyylofI3nGceGgR\n",
       "OQ7EcFwKOQuF+FMI5iAr2NgdFpGgqJu3G7K53Zn9wddk8+a9783Mm/lmHgA25AYkGw8j5O8S4oFk\n",
       "kOK5fFJAuEFKFxPjgdghhOxpckByj/g+OSBpVdFMASgQNl/ABG/bS+im7B9UNIOJvumikUINECqI\n",
       "4DxkdBzwNuqoEpImypB0otXCJF+Q+dkKCZhD3bGGqdCh0wtz/ZEBItCqAIQP1UHSk5Q8PA4JG+kF\n",
       "CCZlmbiKctD1ML/LmnmCf1wifc+ulGOmyPd7sM0/upjv3UzOxU7ofSi4gYikUcm1Sxv7/3jYIv/k\n",
       "WVj3bwxSg4vUNOMCnpYO/KYFU8jV/DXEBby77Ya05vC8ut/bPLx21+Y/tfbHGIBye4vZYtUFdG5z\n",
       "2c5xdd/UR+OOe1ncVvbTtOxIQPUUXM507nvhYQB7AkogQfscMDsErRUJ6LDqUemWl5Kz5RF/CIGr\n",
       "WXDTwuC566h+rl6vcYv+joZnjzfZ91OWsDqKYWspHNAJw6YeqeEGTAM6OhRh4sOaz2SHCbzjCUD2\n",
       "ewqwDJYO81n70Noun9AajoMjNXQIJjvJWQPE1sxJORA23AmZ6riYUoAfgH2aAOaBFba+vgwENq8A\n",
       "rLcXI7DlvZs+vkQypdjAk4KcxBi9VJ3+vxK2aAVnlSDTp2lEfKwSLMtGSsCujZSOg5SAC1gngtXz\n",
       "Rz1QNwnADayM/kAEnWWYI7RXfyUs9Kr+GcRKikIPfaRHhWdjRgsvv2iZbCLNkjSEEt4fEocJSCA6\n",
       "FPmKuJNdtJ3DrlnMw0UCcA0XPcd6G2kAaVpirGlnhR1iE9VpoDKFyMpF4umgrodOz4PVSPlYOhY6\n",
       "ewau4lsyJEcpoY/HBztEFF6jiaPwn5+3oCR+gPMr+Qcd7bWM9iGuXAAAAABJRU5ErkJggg==\n",
       "\" style=\"display:inline;vertical-align:middle;\" /></a></span>"
      ],
      "text/plain": [
       "{a = (b + (c / d) + c^{d}), d = y} |- a = (b + (c / y) + c^{y})"
      ]
     },
     "execution_count": 17,
     "metadata": {},
     "output_type": "execute_result"
    }
   ],
   "source": [
    "d_eq_y.subRightSideInto(expr, assumptions=[d_eq_y,expr])"
   ]
  },
  {
   "cell_type": "markdown",
   "metadata": {},
   "source": [
    "If the expression that we want to substitute in is on the left hand side of the `Equals` object playing the role of $x=y$, then we use `subLeftSideInto`: "
   ]
  },
  {
   "cell_type": "code",
   "execution_count": 18,
   "metadata": {},
   "outputs": [
    {
     "data": {
      "text/html": [
       "<strong id=\"y_eq_d\">y_eq_d:</strong> <a class=\"ProveItLink\" href=\"__pv_it/42422e3fdef45d394ecd2849bbb04e11ab1842d60/expr.ipynb\"><img src=\"data:image/png;base64,iVBORw0KGgoAAAANSUhEUgAAADIAAAASBAMAAADrvZC0AAAAMFBMVEX///8iIiKYmJhUVFTMzMxE\n",
       "REQyMjKqqqq6urp2dnYQEBDc3NxmZmaIiIju7u4AAACH5sGpAAAAAXRSTlMAQObYZgAAALRJREFU\n",
       "GNNjYMAOXNcw4ALfcUlw/MMlwymAS4btAAPfnQsMux6gie+Z61/AwMmxgOE+iDctDQRywJasZoh/\n",
       "wLCdJ4EhFE3LKwWGYwwMD7guMPxFkzn/gEESSPU/YPmCJrOUge8HkDrGwLsAYU8ykMX3k4H9A5AO\n",
       "ZmA1QNXC952BOaGageEwQ78CmmmxDIoGExgYHt89vwFN5vFdb9sGBrBNWAFzAtgdWACjAusFHMF9\n",
       "9wh2CQCXOTHtA7C70QAAAABJRU5ErkJggg==\n",
       "\" style=\"display:inline;vertical-align:middle;\" /></a><br>"
      ],
      "text/plain": [
       "y_eq_d: y = d"
      ]
     },
     "execution_count": 18,
     "metadata": {},
     "output_type": "execute_result"
    }
   ],
   "source": [
    "y_eq_d = Equals(y, d)"
   ]
  },
  {
   "cell_type": "code",
   "execution_count": 19,
   "metadata": {},
   "outputs": [
    {
     "data": {
      "text/html": [
       "<span style=\"font-size:20px;\"><a class=\"ProveItLink\" href=\"__pv_it/a7543593c7a0174cb83b896a2cd59e7192ba536a0/expr.ipynb\"><img src=\"data:image/png;base64,iVBORw0KGgoAAAANSUhEUgAAAPQAAAAmBAMAAAAB96vpAAAAMFBMVEX///92dnaIiIiqqqpUVFRm\n",
       "ZmYQEBDu7u66uroiIiIyMjLc3NzMzMxERESYmJgAAABupLKKAAAAAXRSTlMAQObYZgAAA7BJREFU\n",
       "WMOtWE1oE0EUfpu/TbL5szc92BgtiBTckyIeWqonD9IWvYRCo1ZEUyWHtuJBNgep4KUtKl48BLGU\n",
       "BpSAP9BTexJEpUGq4F8NIgU92GpaUkip7pvN7trsTHZSdg4z6Zu379t57+373hQAIPIZWCNSgqaG\n",
       "2Mml9j2rrdJ0lqlzgCoVEu2sB25xQbtWtXWkyFTxX6BJpdvwkWmU79jPc2TpzzA1RuZo0kAMjjEf\n",
       "ecwF7S6T5TJb4zhVynxX74Z6ngwX9hqZB5j7oSpVzHxXcQXAw+fxARvoINWM+JvpRjWCoYoj0LMF\n",
       "qnhTBaFnfrc6PXAEOkkXnwKxj+aN3gOyuiw5An2WLhZ2f6OJr83NY4rNZh2AltSEhesXeSvZaXiB\n",
       "iy9mo/fmvD10ZAXnSV7oc7APF0/OTrFsD+0d1xVJ+sZpOW0KxSosXsV6tmKD7K8YoKssnUBRV+SB\n",
       "hnRoA8nGXbWBFsYN6DWWTrRbV+SCvrG3DaFDZRvoIJp9ZJZTqafXQhVRtBvsapM5oFsSerkXN40Q\n",
       "tMWtdfVZyzzaa83oboXRQpDEaFceh5ZaCh5CmRKr9tAzctjIrj+GZ/0pOFhn1J+Gr4g6oh5dIkcX\n",
       "r4DXwp2zCN2RqdlqCD0BHlmXGXX2iTcHX+q5sKQVKukuwCHyiLcCAYtp4pkkqdlCPj99KZ8nNf0v\n",
       "DnSRKfRWLKSkjowvbrrAZL0JjdjTMPSJ1IEiKHNU6Enwl21P7SvSoGEsE9qwsJ64Tn4cUT2+jIVP\n",
       "iUEHmGF5aDp8Uz9SI2glRiW2JLhSW42qm26SU65BqDlLkeGEu56nFLS7juGxg46qKnqsJSPDYQHC\n",
       "dbQrltVqdxQdgkZFDEc4HrkjWD4uPMtJeGf/XXs7YViPl/ZdKzlCcWP1He1b+NGJZj+Qv84gflf7\n",
       "0/31dn34ysN7ShwlZccvY9dPYhm4p05Dif56Tw4lXnVljU6HWcPDOVbhCr3vZr5PREuNw40Y35Y+\n",
       "hNSWMP1fl6IyRbjlqRhyWC2bm4d2s9ussYxNQyeq7giUwvFtQpvV2DJ2stmBlF+IYNQTfdtukBaY\n",
       "Ow36h46CE70Zo8OTetobEGPSkbZQkani0UK40qhPcgLaRW2zkOXY/Zcr5Qg0DFJbtgpe+FjDV2oC\n",
       "epqt8JNqXGW5Zm/kjMvTMtsO9bs0WI6agmkuaEHrfDzsdBXv05PPynLGFUTmgm6tqS1NMVVmCjRX\n",
       "UFhOH4tcyC+NI91k+4/ybwUqy+l7XBcueI3TP2vSAOJYAGaaAAAAAElFTkSuQmCC\n",
       "\" style=\"display:inline;vertical-align:middle;\" /></a> <a class=\"ProveItLink\" href=\"__pv_it/104ce7e7d0b401e8981296a3c2fa47bb5a609e610/proof.ipynb\" style=\"text-decoration: none\">&#x22A2;&nbsp;</a><a class=\"ProveItLink\" href=\"__pv_it/3ea629d8d9561cdebe300eedc87683df20bb12a50/expr.ipynb\"><img src=\"data:image/png;base64,iVBORw0KGgoAAAANSUhEUgAAAJ8AAAAyBAMAAACwtxTjAAAAMFBMVEX///9UVFSqqqrMzMwiIiJE\n",
       "RESYmJgyMjK6urru7u4QEBCIiIh2dnZmZmbc3NwAAABRgo0vAAAAAXRSTlMAQObYZgAAAtBJREFU\n",
       "SMetVz2IE1EQnsTdy767/Qk2V6S4LazOIlfbJCqIiEIEQdAmjVoouKlSCREE4SyylofI3nGceGgR\n",
       "OQ7EcFwKOQuF+FMI5iAr2NgdFpGgqJu3G7K53Zn9wddk8+a9783Mm/lmHgA25AYkGw8j5O8S4oFk\n",
       "kOK5fFJAuEFKFxPjgdghhOxpckByj/g+OSBpVdFMASgQNl/ABG/bS+im7B9UNIOJvumikUINECqI\n",
       "4DxkdBzwNuqoEpImypB0otXCJF+Q+dkKCZhD3bGGqdCh0wtz/ZEBItCqAIQP1UHSk5Q8PA4JG+kF\n",
       "CCZlmbiKctD1ML/LmnmCf1wifc+ulGOmyPd7sM0/upjv3UzOxU7ofSi4gYikUcm1Sxv7/3jYIv/k\n",
       "WVj3bwxSg4vUNOMCnpYO/KYFU8jV/DXEBby77Ya05vC8ut/bPLx21+Y/tfbHGIBye4vZYtUFdG5z\n",
       "2c5xdd/UR+OOe1ncVvbTtOxIQPUUXM507nvhYQB7AkogQfscMDsErRUJ6LDqUemWl5Kz5RF/CIGr\n",
       "WXDTwuC566h+rl6vcYv+joZnjzfZ91OWsDqKYWspHNAJw6YeqeEGTAM6OhRh4sOaz2SHCbzjCUD2\n",
       "ewqwDJYO81n70Noun9AajoMjNXQIJjvJWQPE1sxJORA23AmZ6riYUoAfgH2aAOaBFba+vgwENq8A\n",
       "rLcXI7DlvZs+vkQypdjAk4KcxBi9VJ3+vxK2aAVnlSDTp2lEfKwSLMtGSsCujZSOg5SAC1gngtXz\n",
       "Rz1QNwnADayM/kAEnWWYI7RXfyUs9Kr+GcRKikIPfaRHhWdjRgsvv2iZbCLNkjSEEt4fEocJSCA6\n",
       "FPmKuJNdtJ3DrlnMw0UCcA0XPcd6G2kAaVpirGlnhR1iE9VpoDKFyMpF4umgrodOz4PVSPlYOhY6\n",
       "ewau4lsyJEcpoY/HBztEFF6jiaPwn5+3oCR+gPMr+Qcd7bWM9iGuXAAAAABJRU5ErkJggg==\n",
       "\" style=\"display:inline;vertical-align:middle;\" /></a></span>"
      ],
      "text/plain": [
       "{a = (b + (c / d) + c^{d}), y = d} |- a = (b + (c / y) + c^{y})"
      ]
     },
     "execution_count": 19,
     "metadata": {},
     "output_type": "execute_result"
    }
   ],
   "source": [
    "y_eq_d.subLeftSideInto(gRepl, assumptions=[y_eq_d,expr])"
   ]
  },
  {
   "cell_type": "markdown",
   "metadata": {},
   "source": [
    "Again, we can provide a non-**Lambda** **Expression** to do a simple global replacement."
   ]
  },
  {
   "cell_type": "code",
   "execution_count": 20,
   "metadata": {},
   "outputs": [
    {
     "data": {
      "text/html": [
       "<span style=\"font-size:20px;\"><a class=\"ProveItLink\" href=\"__pv_it/a7543593c7a0174cb83b896a2cd59e7192ba536a0/expr.ipynb\"><img src=\"data:image/png;base64,iVBORw0KGgoAAAANSUhEUgAAAPQAAAAmBAMAAAAB96vpAAAAMFBMVEX///92dnaIiIiqqqpUVFRm\n",
       "ZmYQEBDu7u66uroiIiIyMjLc3NzMzMxERESYmJgAAABupLKKAAAAAXRSTlMAQObYZgAAA7BJREFU\n",
       "WMOtWE1oE0EUfpu/TbL5szc92BgtiBTckyIeWqonD9IWvYRCo1ZEUyWHtuJBNgep4KUtKl48BLGU\n",
       "BpSAP9BTexJEpUGq4F8NIgU92GpaUkip7pvN7trsTHZSdg4z6Zu379t57+373hQAIPIZWCNSgqaG\n",
       "2Mml9j2rrdJ0lqlzgCoVEu2sB25xQbtWtXWkyFTxX6BJpdvwkWmU79jPc2TpzzA1RuZo0kAMjjEf\n",
       "ecwF7S6T5TJb4zhVynxX74Z6ngwX9hqZB5j7oSpVzHxXcQXAw+fxARvoINWM+JvpRjWCoYoj0LMF\n",
       "qnhTBaFnfrc6PXAEOkkXnwKxj+aN3gOyuiw5An2WLhZ2f6OJr83NY4rNZh2AltSEhesXeSvZaXiB\n",
       "iy9mo/fmvD10ZAXnSV7oc7APF0/OTrFsD+0d1xVJ+sZpOW0KxSosXsV6tmKD7K8YoKssnUBRV+SB\n",
       "hnRoA8nGXbWBFsYN6DWWTrRbV+SCvrG3DaFDZRvoIJp9ZJZTqafXQhVRtBvsapM5oFsSerkXN40Q\n",
       "tMWtdfVZyzzaa83oboXRQpDEaFceh5ZaCh5CmRKr9tAzctjIrj+GZ/0pOFhn1J+Gr4g6oh5dIkcX\n",
       "r4DXwp2zCN2RqdlqCD0BHlmXGXX2iTcHX+q5sKQVKukuwCHyiLcCAYtp4pkkqdlCPj99KZ8nNf0v\n",
       "DnSRKfRWLKSkjowvbrrAZL0JjdjTMPSJ1IEiKHNU6Enwl21P7SvSoGEsE9qwsJ64Tn4cUT2+jIVP\n",
       "iUEHmGF5aDp8Uz9SI2glRiW2JLhSW42qm26SU65BqDlLkeGEu56nFLS7juGxg46qKnqsJSPDYQHC\n",
       "dbQrltVqdxQdgkZFDEc4HrkjWD4uPMtJeGf/XXs7YViPl/ZdKzlCcWP1He1b+NGJZj+Qv84gflf7\n",
       "0/31dn34ysN7ShwlZccvY9dPYhm4p05Dif56Tw4lXnVljU6HWcPDOVbhCr3vZr5PREuNw40Y35Y+\n",
       "hNSWMP1fl6IyRbjlqRhyWC2bm4d2s9ussYxNQyeq7giUwvFtQpvV2DJ2stmBlF+IYNQTfdtukBaY\n",
       "Ow36h46CE70Zo8OTetobEGPSkbZQkani0UK40qhPcgLaRW2zkOXY/Zcr5Qg0DFJbtgpe+FjDV2oC\n",
       "epqt8JNqXGW5Zm/kjMvTMtsO9bs0WI6agmkuaEHrfDzsdBXv05PPynLGFUTmgm6tqS1NMVVmCjRX\n",
       "UFhOH4tcyC+NI91k+4/ybwUqy+l7XBcueI3TP2vSAOJYAGaaAAAAAElFTkSuQmCC\n",
       "\" style=\"display:inline;vertical-align:middle;\" /></a> <a class=\"ProveItLink\" href=\"__pv_it/104ce7e7d0b401e8981296a3c2fa47bb5a609e610/proof.ipynb\" style=\"text-decoration: none\">&#x22A2;&nbsp;</a><a class=\"ProveItLink\" href=\"__pv_it/3ea629d8d9561cdebe300eedc87683df20bb12a50/expr.ipynb\"><img src=\"data:image/png;base64,iVBORw0KGgoAAAANSUhEUgAAAJ8AAAAyBAMAAACwtxTjAAAAMFBMVEX///9UVFSqqqrMzMwiIiJE\n",
       "RESYmJgyMjK6urru7u4QEBCIiIh2dnZmZmbc3NwAAABRgo0vAAAAAXRSTlMAQObYZgAAAtBJREFU\n",
       "SMetVz2IE1EQnsTdy767/Qk2V6S4LazOIlfbJCqIiEIEQdAmjVoouKlSCREE4SyylofI3nGceGgR\n",
       "OQ7EcFwKOQuF+FMI5iAr2NgdFpGgqJu3G7K53Zn9wddk8+a9783Mm/lmHgA25AYkGw8j5O8S4oFk\n",
       "kOK5fFJAuEFKFxPjgdghhOxpckByj/g+OSBpVdFMASgQNl/ABG/bS+im7B9UNIOJvumikUINECqI\n",
       "4DxkdBzwNuqoEpImypB0otXCJF+Q+dkKCZhD3bGGqdCh0wtz/ZEBItCqAIQP1UHSk5Q8PA4JG+kF\n",
       "CCZlmbiKctD1ML/LmnmCf1wifc+ulGOmyPd7sM0/upjv3UzOxU7ofSi4gYikUcm1Sxv7/3jYIv/k\n",
       "WVj3bwxSg4vUNOMCnpYO/KYFU8jV/DXEBby77Ya05vC8ut/bPLx21+Y/tfbHGIBye4vZYtUFdG5z\n",
       "2c5xdd/UR+OOe1ncVvbTtOxIQPUUXM507nvhYQB7AkogQfscMDsErRUJ6LDqUemWl5Kz5RF/CIGr\n",
       "WXDTwuC566h+rl6vcYv+joZnjzfZ91OWsDqKYWspHNAJw6YeqeEGTAM6OhRh4sOaz2SHCbzjCUD2\n",
       "ewqwDJYO81n70Noun9AajoMjNXQIJjvJWQPE1sxJORA23AmZ6riYUoAfgH2aAOaBFba+vgwENq8A\n",
       "rLcXI7DlvZs+vkQypdjAk4KcxBi9VJ3+vxK2aAVnlSDTp2lEfKwSLMtGSsCujZSOg5SAC1gngtXz\n",
       "Rz1QNwnADayM/kAEnWWYI7RXfyUs9Kr+GcRKikIPfaRHhWdjRgsvv2iZbCLNkjSEEt4fEocJSCA6\n",
       "FPmKuJNdtJ3DrlnMw0UCcA0XPcd6G2kAaVpirGlnhR1iE9VpoDKFyMpF4umgrodOz4PVSPlYOhY6\n",
       "ewau4lsyJEcpoY/HBztEFF6jiaPwn5+3oCR+gPMr+Qcd7bWM9iGuXAAAAABJRU5ErkJggg==\n",
       "\" style=\"display:inline;vertical-align:middle;\" /></a></span>"
      ],
      "text/plain": [
       "{a = (b + (c / d) + c^{d}), y = d} |- a = (b + (c / y) + c^{y})"
      ]
     },
     "execution_count": 20,
     "metadata": {},
     "output_type": "execute_result"
    }
   ],
   "source": [
    "y_eq_d.subLeftSideInto(expr, assumptions=[y_eq_d,expr])"
   ]
  },
  {
   "cell_type": "markdown",
   "metadata": {},
   "source": [
    "The proof uses a theorem the relies upon the `substitution` axiom, rather than using the `substition` axiom directly:"
   ]
  },
  {
   "cell_type": "code",
   "execution_count": 21,
   "metadata": {},
   "outputs": [
    {
     "data": {
      "text/html": [
       "<table><tr><th>&nbsp;</th><th>step type</th><th>requirements</th><th>statement</th></tr>\n",
       "<tr><td><a name=\"0x4376d0e997ada2d2_step0\">0</a></td><td>instantiation</td><td><a href=\"#0x4376d0e997ada2d2_step1\">1</a>, <a href=\"#0x4376d0e997ada2d2_step2\">2</a>, <a href=\"#0x4376d0e997ada2d2_step3\">3</a></td><td><span style=\"font-size:20px;\"><a class=\"ProveItLink\" href=\"__pv_it/a7543593c7a0174cb83b896a2cd59e7192ba536a0/expr.ipynb\"><img src=\"data:image/png;base64,iVBORw0KGgoAAAANSUhEUgAAAPQAAAAmBAMAAAAB96vpAAAAMFBMVEX///92dnaIiIiqqqpUVFRm\n",
       "ZmYQEBDu7u66uroiIiIyMjLc3NzMzMxERESYmJgAAABupLKKAAAAAXRSTlMAQObYZgAAA7BJREFU\n",
       "WMOtWE1oE0EUfpu/TbL5szc92BgtiBTckyIeWqonD9IWvYRCo1ZEUyWHtuJBNgep4KUtKl48BLGU\n",
       "BpSAP9BTexJEpUGq4F8NIgU92GpaUkip7pvN7trsTHZSdg4z6Zu379t57+373hQAIPIZWCNSgqaG\n",
       "2Mml9j2rrdJ0lqlzgCoVEu2sB25xQbtWtXWkyFTxX6BJpdvwkWmU79jPc2TpzzA1RuZo0kAMjjEf\n",
       "ecwF7S6T5TJb4zhVynxX74Z6ngwX9hqZB5j7oSpVzHxXcQXAw+fxARvoINWM+JvpRjWCoYoj0LMF\n",
       "qnhTBaFnfrc6PXAEOkkXnwKxj+aN3gOyuiw5An2WLhZ2f6OJr83NY4rNZh2AltSEhesXeSvZaXiB\n",
       "iy9mo/fmvD10ZAXnSV7oc7APF0/OTrFsD+0d1xVJ+sZpOW0KxSosXsV6tmKD7K8YoKssnUBRV+SB\n",
       "hnRoA8nGXbWBFsYN6DWWTrRbV+SCvrG3DaFDZRvoIJp9ZJZTqafXQhVRtBvsapM5oFsSerkXN40Q\n",
       "tMWtdfVZyzzaa83oboXRQpDEaFceh5ZaCh5CmRKr9tAzctjIrj+GZ/0pOFhn1J+Gr4g6oh5dIkcX\n",
       "r4DXwp2zCN2RqdlqCD0BHlmXGXX2iTcHX+q5sKQVKukuwCHyiLcCAYtp4pkkqdlCPj99KZ8nNf0v\n",
       "DnSRKfRWLKSkjowvbrrAZL0JjdjTMPSJ1IEiKHNU6Enwl21P7SvSoGEsE9qwsJ64Tn4cUT2+jIVP\n",
       "iUEHmGF5aDp8Uz9SI2glRiW2JLhSW42qm26SU65BqDlLkeGEu56nFLS7juGxg46qKnqsJSPDYQHC\n",
       "dbQrltVqdxQdgkZFDEc4HrkjWD4uPMtJeGf/XXs7YViPl/ZdKzlCcWP1He1b+NGJZj+Qv84gflf7\n",
       "0/31dn34ysN7ShwlZccvY9dPYhm4p05Dif56Tw4lXnVljU6HWcPDOVbhCr3vZr5PREuNw40Y35Y+\n",
       "hNSWMP1fl6IyRbjlqRhyWC2bm4d2s9ussYxNQyeq7giUwvFtQpvV2DJ2stmBlF+IYNQTfdtukBaY\n",
       "Ow36h46CE70Zo8OTetobEGPSkbZQkani0UK40qhPcgLaRW2zkOXY/Zcr5Qg0DFJbtgpe+FjDV2oC\n",
       "epqt8JNqXGW5Zm/kjMvTMtsO9bs0WI6agmkuaEHrfDzsdBXv05PPynLGFUTmgm6tqS1NMVVmCjRX\n",
       "UFhOH4tcyC+NI91k+4/ybwUqy+l7XBcueI3TP2vSAOJYAGaaAAAAAElFTkSuQmCC\n",
       "\" style=\"display:inline;vertical-align:middle;\" /></a> <a class=\"ProveItLink\" href=\"__pv_it/104ce7e7d0b401e8981296a3c2fa47bb5a609e610/proof.ipynb\" style=\"text-decoration: none\">&#x22A2;&nbsp;</a><a class=\"ProveItLink\" href=\"__pv_it/3ea629d8d9561cdebe300eedc87683df20bb12a50/expr.ipynb\"><img src=\"data:image/png;base64,iVBORw0KGgoAAAANSUhEUgAAAJ8AAAAyBAMAAACwtxTjAAAAMFBMVEX///9UVFSqqqrMzMwiIiJE\n",
       "RESYmJgyMjK6urru7u4QEBCIiIh2dnZmZmbc3NwAAABRgo0vAAAAAXRSTlMAQObYZgAAAtBJREFU\n",
       "SMetVz2IE1EQnsTdy767/Qk2V6S4LazOIlfbJCqIiEIEQdAmjVoouKlSCREE4SyylofI3nGceGgR\n",
       "OQ7EcFwKOQuF+FMI5iAr2NgdFpGgqJu3G7K53Zn9wddk8+a9783Mm/lmHgA25AYkGw8j5O8S4oFk\n",
       "kOK5fFJAuEFKFxPjgdghhOxpckByj/g+OSBpVdFMASgQNl/ABG/bS+im7B9UNIOJvumikUINECqI\n",
       "4DxkdBzwNuqoEpImypB0otXCJF+Q+dkKCZhD3bGGqdCh0wtz/ZEBItCqAIQP1UHSk5Q8PA4JG+kF\n",
       "CCZlmbiKctD1ML/LmnmCf1wifc+ulGOmyPd7sM0/upjv3UzOxU7ofSi4gYikUcm1Sxv7/3jYIv/k\n",
       "WVj3bwxSg4vUNOMCnpYO/KYFU8jV/DXEBby77Ya05vC8ut/bPLx21+Y/tfbHGIBye4vZYtUFdG5z\n",
       "2c5xdd/UR+OOe1ncVvbTtOxIQPUUXM507nvhYQB7AkogQfscMDsErRUJ6LDqUemWl5Kz5RF/CIGr\n",
       "WXDTwuC566h+rl6vcYv+joZnjzfZ91OWsDqKYWspHNAJw6YeqeEGTAM6OhRh4sOaz2SHCbzjCUD2\n",
       "ewqwDJYO81n70Noun9AajoMjNXQIJjvJWQPE1sxJORA23AmZ6riYUoAfgH2aAOaBFba+vgwENq8A\n",
       "rLcXI7DlvZs+vkQypdjAk4KcxBi9VJ3+vxK2aAVnlSDTp2lEfKwSLMtGSsCujZSOg5SAC1gngtXz\n",
       "Rz1QNwnADayM/kAEnWWYI7RXfyUs9Kr+GcRKikIPfaRHhWdjRgsvv2iZbCLNkjSEEt4fEocJSCA6\n",
       "FPmKuJNdtJ3DrlnMw0UCcA0XPcd6G2kAaVpirGlnhR1iE9VpoDKFyMpF4umgrodOz4PVSPlYOhY6\n",
       "ewau4lsyJEcpoY/HBztEFF6jiaPwn5+3oCR+gPMr+Qcd7bWM9iGuXAAAAABJRU5ErkJggg==\n",
       "\" style=\"display:inline;vertical-align:middle;\" /></a></span></td></tr>\n",
       "<tr><td>&nbsp;</td><td colspan=4 style=\"text-align:left\"><span style=\"font-size:20px;\"><a class=\"ProveItLink\" href=\"__pv_it/0b28339a9470b3064675e3d630fe626bc057a2440/expr.ipynb\"><img src=\"data:image/png;base64,iVBORw0KGgoAAAANSUhEUgAAADcAAAAUBAMAAADbzbjtAAAAMFBMVEX///8iIiLc3Ny6urqIiIiq\n",
       "qqp2dnbMzMwQEBDu7u5mZmYyMjJERERUVFSYmJgAAAA4CJ/KAAAAAXRSTlMAQObYZgAAAQ1JREFU\n",
       "KM9jYIADpgcMyCAITL79f/burgkMDHNQ5Bh4FcDUbwYGnk4Ghk2okpwbQCT7NwYG1i8MfAtQJRlS\n",
       "QATLZyD+xsCogCY5A0TwfABa8JlBEU2OgdsASPADDddfwOCF5O5lS4BuYAPZU5/AwCrGwHAOIWmh\n",
       "wA00jQ/kIv9raUuAPhFFuLOPgesA0JECQPb5CWChZrgk108GRgegL4C6GT4yoElyHGCYXwCRZP8F\n",
       "EUIYOz+BIR5IMQtAvAkCCAfND2C4zaoAdhD3T4hQFlySx4FPlg1odQID1/6/DmAhQ6BBZ4DgJAPn\n",
       "FXddZ6CuAoTnMIJvIhIbe8DDwCFsUQYDaJHNg2INWjJ5xMAAAHA6PhPQZp1jAAAAAElFTkSuQmCC\n",
       "\" style=\"display:inline;vertical-align:middle;\" /></a> : <a class=\"ProveItLink\" href=\"__pv_it/c6980785d3ffd1268383d7a1b6ab270df1185ce00/expr.ipynb\"><img src=\"data:image/png;base64,iVBORw0KGgoAAAANSUhEUgAAALkAAAAyBAMAAADy9Gd0AAAAMFBMVEX///9UVFSqqqrMzMwiIiJE\n",
       "RESYmJgyMjK6urru7u4QEBCIiIh2dnZmZmbc3NwAAABRgo0vAAAAAXRSTlMAQObYZgAAAsFJREFU\n",
       "WMO1WL9v01AQvvxwE6dxbLEwZKgHJjqk/0ECbKhIHUAIpiyAEENdgeS1EwNLwshQuRUqUIkhqAtS\n",
       "hnZAZQApoUgMlKhG4g+oGIoqEOAfCbh+787Pfu1bovj0Pt/77u67ewbAVnUZJNbjBPt7GXAoW6R5\n",
       "2pBChzuk9bwcOCjbhFF9IYlOAihDSXTy8I2uLHqRoOYKse9df04APf8bNU3hJvhmKpaI87iDxQV8\n",
       "1zzkTBH0RZTcJl6o2pEg8U4Ps3zGN1UWBNFLKH9rhEvbgujTWOwKh/gmvQ0gxHvtMO1rfd4NWKEz\n",
       "cuXVfZIAZZUSz9s9WgMuFcLAXyUjp95sZSlSbVgI9w2wyIUqU8okNhVzrN6LCIHN8Oz6JHqzRMEz\n",
       "NDmucrcbQWE1LITtdLOgV9zmwygDbBGHZ3oD6dDV0Wi0C+X67Kfw6B5BtS97G/EtW27ws9TfFUev\n",
       "9jfjleHlxiO3dOAb7WCFhxkElKg/uo4ril67CNfjFFmgPgONUY79AD1/BHpPFN1rFmfi6C1f8opM\n",
       "YGbCxLUCUXlr25dte8l/8ieyxgd+8Ny2jX8OHZfxVb9wnDk+upfuHVPU93XgoXveNeA/70aEGU+v\n",
       "xh4lo6u/OOgtcEw4m3djzwfBA33ZC4qo754g5tmoKr2pC1UmIwOucu3J3CGA/gHUj3F0A9T65tfX\n",
       "TDUFjU/d2xGvpurOPaYTILXaiLXVVEqQ2MWa7eP/nxBqjo9VmIrp0nNeRAvZXLJOAn3gIu3l4CTQ\n",
       "Z7BBL2Ei4ukqu9axieM7vW+sqwku/MwwLfl5wtPVFGPLPt31ebrKji3oRNEhr5NcXWXTGnWgSCb8\n",
       "RFfptYXWGZ00XF1NE7uXJKM8XU1xs0FuZeVr3rrB11VmfB9mswneKIlbY+3pad6G4Zwkeo48vCb5\n",
       "FeIWba6f5hcU0OS+/gQx/QswxMNHF3KuqQAAAABJRU5ErkJggg==\n",
       "\" style=\"display:inline;vertical-align:middle;\" /></a>, <a class=\"ProveItLink\" href=\"../../__pv_it/72df168d2bfb4e0140af90912ebf83b13772060b0/expr.ipynb\"><img src=\"data:image/png;base64,iVBORw0KGgoAAAANSUhEUgAAAAsAAAAJBAMAAAAWSsseAAAALVBMVEX///9mZmaqqqrMzMxEREQy\n",
       "MjIiIiKYmJh2dna6urrc3NxUVFSIiIju7u4AAACJHQtQAAAAAXRSTlMAQObYZgAAAEJJREFUCNdj\n",
       "YLhzeuWJAwy8Dew5bAEMHBc43nIuYOBlYHFgAAG+A2DKzgBIMF04x8BzgWGegh/DcgaG22fuiBcw\n",
       "AAATyhBrnyPYZQAAAABJRU5ErkJggg==\n",
       "\" style=\"display:inline;vertical-align:middle;\" /></a> : <a class=\"ProveItLink\" href=\"../../__pv_it/c6e291955561f22a0e6708fd793ea93f1c7dbb5d0/expr.ipynb\"><img src=\"data:image/png;base64,iVBORw0KGgoAAAANSUhEUgAAAAsAAAANBAMAAACN24kIAAAAMFBMVEX///8iIiKYmJhUVFTMzMxE\n",
       "REQyMjKqqqq6urp2dnYQEBDc3NxmZmaIiIju7u4AAACH5sGpAAAAAXRSTlMAQObYZgAAAFlJREFU\n",
       "CNdj4LtzgWHXAwZOjgUM9xkYtvMkMIQyMDzgusDwl4GBof8ByxcgdYyBdwGQCmZgNQBShxn6FYDU\n",
       "47vnNzAwgGUZGJgT+H4AKUYF1gtAiuPuESAJAJGkFvXVdzA+AAAAAElFTkSuQmCC\n",
       "\" style=\"display:inline;vertical-align:middle;\" /></a>, <a class=\"ProveItLink\" href=\"../../__pv_it/c6e291955561f22a0e6708fd793ea93f1c7dbb5d0/expr.ipynb\"><img src=\"data:image/png;base64,iVBORw0KGgoAAAANSUhEUgAAAAsAAAANBAMAAACN24kIAAAAMFBMVEX///8iIiKYmJhUVFTMzMxE\n",
       "REQyMjKqqqq6urp2dnYQEBDc3NxmZmaIiIju7u4AAACH5sGpAAAAAXRSTlMAQObYZgAAAFlJREFU\n",
       "CNdj4LtzgWHXAwZOjgUM9xkYtvMkMIQyMDzgusDwl4GBof8ByxcgdYyBdwGQCmZgNQBShxn6FYDU\n",
       "47vnNzAwgGUZGJgT+H4AKUYF1gtAiuPuESAJAJGkFvXVdzA+AAAAAElFTkSuQmCC\n",
       "\" style=\"display:inline;vertical-align:middle;\" /></a> : <a class=\"ProveItLink\" href=\"../../__pv_it/445e790c2b62732eb8597a2ddda4cbd1a8fb79140/expr.ipynb\"><img src=\"data:image/png;base64,iVBORw0KGgoAAAANSUhEUgAAAAsAAAAOBAMAAAALT/umAAAAMFBMVEX///9UVFSYmJiIiIjc3Nwy\n",
       "MjIiIiJ2dnbu7u66urqqqqpmZmYQEBBERETMzMwAAAAYOWz6AAAAAXRSTlMAQObYZgAAAFpJREFU\n",
       "CNdjYGBg4LuzgQEE+BeAqfkNYKoMTDJEAzHLdrtfQGqOA+8PBgaOQwzcAQwM3D8Y2AoYGHguMPRP\n",
       "YGDoL2BYD1TRv4BBlMuBgdeAKZEdqFLYztGSAQAyzhFdhFkSwwAAAABJRU5ErkJggg==\n",
       "\" style=\"display:inline;vertical-align:middle;\" /></a></span></td></tr><tr><td><a name=\"0x4376d0e997ada2d2_step1\">1</a></td><td>theorem</td><td></td><td><span style=\"font-size:20px;\"> <a class=\"ProveItLink\" href=\"_proofs_/subLeftSideInto.ipynb\" style=\"text-decoration: none\">&#x22A2;&nbsp;</a><a class=\"ProveItLink\" href=\"__pv_it/c544cc2018fec56ce96b530fc022bf6c30a3d2a00/expr.ipynb\"><img src=\"data:image/png;base64,iVBORw0KGgoAAAANSUhEUgAAAL8AAAAWBAMAAABj11ATAAAAMFBMVEX///8QEBCIiIhmZma6urrM\n",
       "zMxUVFQiIiJERETc3Nzu7u6qqqp2dnaYmJgyMjIAAAAcRTyBAAAAAXRSTlMAQObYZgAAAthJREFU\n",
       "SMe1VU1oE0EU/rruTzbZJl48eQkWSgkFcxFUREKFqmA19SDeDMEWKrXtoR4sKvGWCrW5WQRxBalY\n",
       "PAQ8iIK41IMQg0YURFDYs1C7KEpbi/rmp5vdJhHF+GD3zXxvZr43782bAf6H3JD6IX0ua3xoz7qd\n",
       "4yvDY3uBaEECegl4zhof2+R5gty9bCNekv0o9edIm4U2EZxygCdJvPaBRSBuA1a5TQQ7M/Q5OO8D\n",
       "tyhulYWFa+1K7ix94xlzwgfixLhSLF74w/k8tNpvBvygcH+Bkqbo7xjpo/hY1BwCpgF1dnT3mcYZ\n",
       "Gf6XRot3YpmW62vrwAMHkRpwD2+Tlyg+lOUDPNd4BTxrnCKzL4wjorOnJYHyrfo0BRiU0gpe2ofJ\n",
       "G4qWAYUYMUzpaUnAjZojOvMtCSJrXHXQHm0U+Z482njNYM2LEFBTAm7UszJxpZZlMOETAJ83CEz3\n",
       "BCuJVShT7ODu6qZ11G4Ydp1AGMmPvhymxIatruNDclkOijJIc8VCBO0rzx6jnD7NWuu9rKYVe8wg\n",
       "fithDwZ2IIx0mJ01bStiOYJSujupF0lmBOiXAYsUefBI8ZASScZ9xmK54hxgianrB9ETIBDGQzBv\n",
       "TygFqAzMxmtyAwLksmyL4Wmo3yOeSSO2sLwlkow1Lcev8v8+5AMEwtjPxutJaJwu4WeCg0z2/xST\n",
       "KC7RfKqL3aBxlrdOxpuQt4Xm8UKaxLYAgTCepOhmOrJQczzeyOqfSJYEGJL6VXGnfk0xh+bsm5Zr\n",
       "kcI51QsQcCMbbGSPkUOOecX0XkCeWgGGJHTZyRJZZuUzWJ5/s1ghhf4et04gjOxcqfmrFJKMtj16\n",
       "9kivLedyMFwPwes6JDJO5WgpUgvWgXCijLuYobhSgQYncTAk/oMT2VQysZJUunMUDQTUGVXJpcfi\n",
       "KfSFg82fzHebn7wNpb53mhAMYKBK7tGRqoXg6j9c8OnGDSr2X63wC2jlxTKsC1d/AAAAAElFTkSu\n",
       "QmCC\n",
       "\" style=\"display:inline;vertical-align:middle;\" /></a></span></td></tr>\n",
       "<tr><td>&nbsp;</td><td colspan=4 style-\"text-align:left\"><a class=\"ProveItLink\" href=\"_proofs_/subLeftSideInto.ipynb\">proveit.logic.equality.subLeftSideInto</a></td></tr><tr><td><a name=\"0x4376d0e997ada2d2_step2\">2</a></td><td>assumption</td><td></td><td><span style=\"font-size:20px;\"><a class=\"ProveItLink\" href=\"__pv_it/382c8c9c1d5077349f5b08852df38dc144d4479c0/expr.ipynb\"><img src=\"data:image/png;base64,iVBORw0KGgoAAAANSUhEUgAAALUAAAAmBAMAAABwj8d3AAAAMFBMVEX///92dnaIiIiqqqpUVFRm\n",
       "ZmYQEBDu7u66uroiIiIyMjLc3NzMzMxERESYmJgAAABupLKKAAAAAXRSTlMAQObYZgAAAxpJREFU\n",
       "SMeVl01oE0EUx982H5vvRG960FhtkRJw8eA1oXoQD9IWvYhg/UJsVXKwKR5ke5AKXqz4AYKHIC0l\n",
       "C0oOIuSUnLw2B/WgUoKHHDzYaJQtpER3ZrJJzL6XHeewk30777cz7735zwYAIPYFqBarwX81NSPc\n",
       "Tnbuw4UlcuwEalVGU5TDA9EdEe+AXJVEB65h1vBj+ER5jAhoeE7cXsiS7FwFswYTcJx0eS26tMa7\n",
       "m3T4TqBWcjK+HYC34mF8indXSHSkhZrJyagNAK8Iij/jwg5lUMIParwnb83HlGOXi6i5bVHw+mGB\n",
       "eCnHPoebz4B6HlvPzARLYF2OfQk3K/u+YuY7lQ2Wx/KSDDtspR3uXpfdk2fhHacmZNixBruuybIv\n",
       "wyHWefMybN8Kuzbt26NYZSR74W7B5iLbmY0+9i+KHWRiEDAl2TAf2WHK5mn1sX9TbL63lBVZ9r2D\n",
       "Y4wd4QsNcZHy8N/h6RmHLsWZY2hyTJNg7x61pUdt81oyuyuH5WKIx2mvwZrIn86moa+rLXd2SYvm\n",
       "bdtP/oarbMKv+M9b4HNIbZmx01kxeDj7EXg12yYkoWQF9Bi3+UwIJgcdNzS+N7l+WOt5ZhirzPyH\n",
       "NbZIxTAKc4aR4e691snfeBFuf+ZprYJeQdlrEGi6zttfdbA9T63LFtujegLS0Iv3ai8m7e6khrD1\n",
       "hEMmxyvQWY+uwSnPoOrpzHEbcjVXdtwaYsc7zOskwK8qS1U0GXuiOGqQzeY0fHCvb18GFuyQivqO\n",
       "im1xkb1gMvXm8KAj31sLB2oSe2fX924lBLb7MkDqSa9kB9mRj1POfWkrnCmjVcrsP7eL/eHqRFfN\n",
       "El5ubI9J6unDrMsh68YWyoC2PbSMc6VwP9Pek0+GHBjpohS7Tpx106kmuBzgrmxdQ83Lxag57GiT\n",
       "Yo/k0TRYmpmnfWbl2HADPUZN9rVJNX+tn12g2d9Qb0szXb/YO+q1RQ+MJrEs2JqJ5nle9PuF8Hnp\n",
       "pKsv8Aw7NbP7cSXSr9jM+joJLxWxxSCaabdNoTfPuwfNfXqJyB8HVDPtZyK+Ee72F+v8zjNv+p3+\n",
       "AAAAAElFTkSuQmCC\n",
       "\" style=\"display:inline;vertical-align:middle;\" /></a> <a class=\"ProveItLink\" href=\"__pv_it/1ee1962289ed5815e0349de8358d616b92d728b20/proof.ipynb\" style=\"text-decoration: none\">&#x22A2;&nbsp;</a><a class=\"ProveItLink\" href=\"__pv_it/9b3700b33cda9d12547efd156dd7d932373a0fd50/expr.ipynb\"><img src=\"data:image/png;base64,iVBORw0KGgoAAAANSUhEUgAAAJoAAAAmBAMAAADO2Z8qAAAAMFBMVEX///9UVFSqqqrMzMwiIiJE\n",
       "RESYmJgyMjK6urru7u4QEBCIiIh2dnZmZmbc3NwAAABRgo0vAAAAAXRSTlMAQObYZgAAApVJREFU\n",
       "SMeVVj1oFEEUfveXu93s7kULLdJsb3FX2yRqJxZnk4AgXKWgzQXERSQQKyGNV2iRQNigJiEI4cwV\n",
       "EWLgCtFCi4hFikRcIZVNjgscWYyn8+6c+9v3ZjdT7LLv59uZ9+b7ZgCYMVKEMw1tTOXdIq3GdpVL\n",
       "eKoAy6xTVusqTHMZo4rJLeYpa7IG59mUhzzaOdL6o8yEm8cAvzgnJFqkeYXtQR0gxi41TXq0Uy4+\n",
       "XhIz8DnvkUeamyKP7vWueDzm0PZo81fQvlFz3t+yxeseh/aGNhsf71Pm5/kJ7MDRHJ1liRbBi9dR\n",
       "efAdLuNLrzG0quNzNiraS3iLr1iJ2T6T+GzIz0tUFyu9srVgagHZUKfRkgUklx8RDTYSx6gRcXqT\n",
       "QhYbbkxGRXuyuYNoCbEY62A/wPAshqbHd+wIaJ+3JaU1sR3nvXR7vZ8cHJ3Ku/gr95HWCkc7tFPd\n",
       "4v8GbRXMQoAKiJYrC3co2g2I2dJ2CqYPycpw6ITd5kObl2LO1x1nBs1/ceBCDMd5sOY4gsxmPzn/\n",
       "gF4AN0+izUKmETo3vTCA5tYgB726zfRW2uz+WIHm1gYkxrXhYnxYMVwMPYHFYihaVoTIullNSFVG\n",
       "rhiBHYJ/vAC3w/ebOQZLslBiv2nj1Z/vhkN1FMul98UIu/fLnW4PMyc0F1KD/O1DS9zaDXJBagUj\n",
       "vsbywOdCfxH+V0krh2X1lsFKPDxjTybmMOkwjhkfeJlzucvGTTZFIaE5j3EwB4Z1UG3waHvspG3S\n",
       "PO+lfJWgc1cUUuJRb0os2Ogy63pFHhc+3mu4ofM3vrtkvNCbuTPe+DpsqFDVlHpDdmhDcfG8Rvcm\n",
       "qDfdA99WnLiHHjVhQm/kmFKd3xZxuST1RvqwoP8AuPKvFXKdTRQAAAAASUVORK5CYII=\n",
       "\" style=\"display:inline;vertical-align:middle;\" /></a></span></td></tr>\n",
       "<tr><td><a name=\"0x4376d0e997ada2d2_step3\">3</a></td><td>assumption</td><td></td><td><span style=\"font-size:20px;\"><a class=\"ProveItLink\" href=\"__pv_it/462ced7e3728f568c352e6a381761988fec0d0ed0/expr.ipynb\"><img src=\"data:image/png;base64,iVBORw0KGgoAAAANSUhEUgAAAEQAAAAVBAMAAAAN71XTAAAAMFBMVEX///+IiIi6urrc3NxERETM\n",
       "zMwQEBCqqqpUVFQiIiJ2dnYyMjLu7u5mZmaYmJgAAABN0h6tAAAAAXRSTlMAQObYZgAAAQRJREFU\n",
       "KM9jYGDgu8eAE8TKgEieXQx4gFoAkOD7gEua1e0CA+8GIINrAk4j+AsgsniU6B8gqGQlA0Ele5GU\n",
       "HLzIwJyDJs98S/Q7UDYByOQAunmBGgMjyGNcu8HgAti7Bix/oP4tC2BgLrjNwOKAaghPHsTDQMtC\n",
       "JgO5DIkM/AKoSnj/MHAuAFkyERJ+TH8Y4gNQlbA5MJxXANI7QMqANgCNFGNAuKUByDy/gKEeFvYg\n",
       "H7E0MHigeeh8AUM3uwHERyAlvA1M/9CUsAjwzeBCCheeRtnPaEp4GkUthFBCF+xBLACiBGhbN8T1\n",
       "uJSA3DyPwRFHNEFMB6Y6RdkAXKkObDo7gbQLAJH/Rh74uAxDAAAAAElFTkSuQmCC\n",
       "\" style=\"display:inline;vertical-align:middle;\" /></a> <a class=\"ProveItLink\" href=\"__pv_it/ca3986c25039f5ae3ed4256c97fb18b76feae70a0/proof.ipynb\" style=\"text-decoration: none\">&#x22A2;&nbsp;</a><a class=\"ProveItLink\" href=\"__pv_it/42422e3fdef45d394ecd2849bbb04e11ab1842d60/expr.ipynb\"><img src=\"data:image/png;base64,iVBORw0KGgoAAAANSUhEUgAAADIAAAASBAMAAADrvZC0AAAAMFBMVEX///8iIiKYmJhUVFTMzMxE\n",
       "REQyMjKqqqq6urp2dnYQEBDc3NxmZmaIiIju7u4AAACH5sGpAAAAAXRSTlMAQObYZgAAALRJREFU\n",
       "GNNjYMAOXNcw4ALfcUlw/MMlwymAS4btAAPfnQsMux6gie+Z61/AwMmxgOE+iDctDQRywJasZoh/\n",
       "wLCdJ4EhFE3LKwWGYwwMD7guMPxFkzn/gEESSPU/YPmCJrOUge8HkDrGwLsAYU8ykMX3k4H9A5AO\n",
       "ZmA1QNXC952BOaGageEwQ78CmmmxDIoGExgYHt89vwFN5vFdb9sGBrBNWAFzAtgdWACjAusFHMF9\n",
       "9wh2CQCXOTHtA7C70QAAAABJRU5ErkJggg==\n",
       "\" style=\"display:inline;vertical-align:middle;\" /></a></span></td></tr>\n",
       "</table>"
      ],
      "text/plain": [
       "\tstep type\trequirements\tstatement\n",
       "0\tinstantiation\t1, 2, 3\t{a = (b + (c / d) + c^{d}), y = d} |- a = (b + (c / y) + c^{y})\n",
       "\tP(_a) : a = (b + (c / _a) + c^{_a}), x : y, y : d\n",
       "1\ttheorem\t\t|- forall_{P, x, y | P(y), x = y} P(x)\n",
       "\tproveit.logic.equality.subLeftSideInto\n",
       "2\tassumption\t\t{a = (b + (c / d) + c^{d})} |- a = (b + (c / d) + c^{d})\n",
       "3\tassumption\t\t{y = d} |- y = d"
      ]
     },
     "execution_count": 21,
     "metadata": {},
     "output_type": "execute_result"
    }
   ],
   "source": [
    "y_eq_d.subLeftSideInto(expr, assumptions=[y_eq_d,expr]).proof()"
   ]
  },
  {
   "cell_type": "markdown",
   "metadata": {},
   "source": [
    "## Reflexivity, symmetry, and transitivity"
   ]
  },
  {
   "cell_type": "markdown",
   "metadata": {},
   "source": [
    "Reflexivity, symmetry, and transitivity are also fundamental properties of equality, in addition to the ability to perform substitution.  Reflexivity is the fact that any mathematical object is equal to itself.  Symmetry is the fact that $x = y$ and $y = x$ are equivalent (either both of these are true or both of these false).  Transitivity is the ability to derive $x=z$ from $x=y$ and $y=z$.  These are all axioms."
   ]
  },
  {
   "cell_type": "code",
   "execution_count": 22,
   "metadata": {},
   "outputs": [],
   "source": [
    "from proveit.logic.equality._axioms_ import equalsReflexivity, equalsSymmetry, equalsTransitivity"
   ]
  },
  {
   "cell_type": "code",
   "execution_count": 23,
   "metadata": {},
   "outputs": [
    {
     "data": {
      "text/html": [
       "<span style=\"font-size:20px;\"> <a class=\"ProveItLink\" href=\"_axioms_.ipynb#equalsReflexivity\" style=\"text-decoration: none\">&#x22A2;&nbsp;</a><a class=\"ProveItLink\" href=\"__pv_it/3580c570dea9cff591db97db2d7abd66a33477f40/expr.ipynb\"><img src=\"data:image/png;base64,iVBORw0KGgoAAAANSUhEUgAAAGIAAAAUBAMAAACE8PXhAAAAMFBMVEX///8QEBCIiIhmZma6urrM\n",
       "zMxUVFQiIiJERETc3Nzu7u6qqqp2dnaYmJgyMjIAAAAcRTyBAAAAAXRSTlMAQObYZgAAAUFJREFU\n",
       "KM9jYMAAnBcYcALuCQwMD0CMu8iiKxjwgEwGhtMg+hWy4Et8OtYxMMwAuaMBSYzXAJ8OHgUGvgVA\n",
       "agOSGPsEfDq4BBh4T61aNR1ZbDoDXvCEgeFHR0cNspAyEC9Sm6KjgKYUKnaYgSGVgaETWaYXaPUB\n",
       "3iJ2UCDyvAMDkM9gYvcYGJwZuB4g66gGKlzA84sFzTswse1AnzIwoUSZCNA8Bo4GDC9DxeKBmi+w\n",
       "M6DpYGDgV8D0M0QMqIPzQRiQcchULQDuKqA4hAP1RwIDQswdiDtTGBiYFuSxO8B9zr1AHyiClqKg\n",
       "YkCfM2wuYGBgZXgLkwIGn/+Gfoa5aG6CidnA3fcTJgW0dpnSIlv0BAwTewpKSCD7WT+wEpdKCqCM\n",
       "+TwPeIhNiVA7rxw6BRPsJJDaMQHeHIXVOHy5lncCAwDGgVl+SYhJvAAAAABJRU5ErkJggg==\n",
       "\" style=\"display:inline;vertical-align:middle;\" /></a></span>"
      ],
      "text/plain": [
       "|- forall_{x} (x = x)"
      ]
     },
     "execution_count": 23,
     "metadata": {},
     "output_type": "execute_result"
    }
   ],
   "source": [
    "equalsReflexivity"
   ]
  },
  {
   "cell_type": "code",
   "execution_count": 24,
   "metadata": {},
   "outputs": [
    {
     "data": {
      "text/html": [
       "<span style=\"font-size:20px;\"> <a class=\"ProveItLink\" href=\"_axioms_.ipynb#equalsSymmetry\" style=\"text-decoration: none\">&#x22A2;&nbsp;</a><a class=\"ProveItLink\" href=\"__pv_it/31cdd49381a5bc0613437bed3e59e09327e2e73f0/expr.ipynb\"><img src=\"data:image/png;base64,iVBORw0KGgoAAAANSUhEUgAAAN0AAAAVBAMAAAAwUfbwAAAAMFBMVEX///8QEBCIiIhmZma6urrM\n",
       "zMxUVFQiIiJERETc3Nzu7u6qqqp2dnaYmJgyMjIAAAAcRTyBAAAAAXRSTlMAQObYZgAAAmVJREFU\n",
       "SMe1VjFoFEEUfbns3W42e5cU2i93EEIa08RKzhDBYGOSxjoELWwkhRaiiJXcFcJaJSiSsYkSLA6s\n",
       "tDrO7gRdUJCAwoIgKBiOoKDYuH9ndr2Znbk7kXx4cPvf+3/m/vz9s4DJJkIOkz3X+B4OlhMievio\n",
       "ETwRMFkpyLnc24PlhFf08FUj+CJgMjfKuSrBYDlhm0qn2Vd5nsNsnZzn7TB5jAoDvFaetgMOsz3K\n",
       "ea4Pk8cod/f2tjT0loDZKotqh20OkxN+Nho3NXSNw635uMeUo6heXoor46nVLsxnnCTnKUhOuAQ0\n",
       "Nevd5fCsaZyg59cHZJ/o51O892/FlYkUvxNmHLzEfUBbEilITjij6zTgBseD8QgNheriDTsHTKrl\n",
       "s1sZ128iBckJNgq6t/oYBxvzcahQjO+g2FP8Y4sZJ8l5CpITvNCGeT2ssOKPHHloXA+53aUp0vUm\n",
       "ogv0ZizMrALWDGwm1RN1FKb/ntPnhOM7sDYVP9VTcOn5rSNLQfIkpHkxbi12xY53502xNblfcAfO\n",
       "urLfF4Ue5tJ+6TPqF8FJxlOk/YJn8aJFfCPm/jJmheilwEmsKMdr/XZ6NMjH20reuNtTTjKeguRJ\n",
       "yJRPzl8JdQobQrQssFs9rUwZd2OuRgO+sqrkjauVcpLxFCRPQsosOfwiUVdxPDfP6oaB8Xj0eVYX\n",
       "8ixkx4s8bDNcs3ryvC5F7vf/nNciRac/ZPddp4u1Fs7OZk3QTGCHjj/yfeRo5ztPkd5H/dZyAyeU\n",
       "71urumD4e86o9y1PQXIlZDIotc+P/D2x/2/fE/v5kDKsD20crf0BIWnW/FCMiDQAAAAASUVORK5C\n",
       "YII=\n",
       "\" style=\"display:inline;vertical-align:middle;\" /></a></span>"
      ],
      "text/plain": [
       "|- forall_{x, y} ((y = x) = (x = y))"
      ]
     },
     "execution_count": 24,
     "metadata": {},
     "output_type": "execute_result"
    }
   ],
   "source": [
    "equalsSymmetry"
   ]
  },
  {
   "cell_type": "code",
   "execution_count": 25,
   "metadata": {},
   "outputs": [
    {
     "data": {
      "text/html": [
       "<span style=\"font-size:20px;\"> <a class=\"ProveItLink\" href=\"_axioms_.ipynb#equalsTransitivity\" style=\"text-decoration: none\">&#x22A2;&nbsp;</a><a class=\"ProveItLink\" href=\"__pv_it/62a78d8298863a1032c900aff4af282587b901b20/expr.ipynb\"><img src=\"data:image/png;base64,iVBORw0KGgoAAAANSUhEUgAAANEAAAAWBAMAAACs+WTQAAAAMFBMVEX///8QEBCIiIhmZma6urrM\n",
       "zMxUVFQiIiJERETc3Nzu7u6qqqp2dnaYmJgyMjIAAAAcRTyBAAAAAXRSTlMAQObYZgAAAnJJREFU\n",
       "SMetVU1oE0EU/prsTzfZJB4UBEGCgVKCh1wEQQ+hgkXwZ+NBxYsl2INQJYd6UKTkmBYiudQWQVyh\n",
       "KK0eAoKgUFhyTKUGFVSIsKB4KFSCIPhz8c3sZrOu2djAPFi+mfeY+d6+980MIM7uhYee02ezwUcR\n",
       "RLFyeEypARtssCWCKVkbkAX90DKhVhbB9GZQsEGZmIBeF8F0Y1DwAZBorq0tiSDSSgNLmwd+VCq3\n",
       "RDBFctSOA1cmGsHA5G65BZ2i08B8yGJpGKbRFvAE79JzbLL5ldknLoZq5jCVjiRxjAuj/+JhmFRq\n",
       "dhOvzBNB2XHBxam2KiItEUwj1AkTlT6RCyQ6uUPCa6kQxQR869ODKThMmn2O6f3QmEHOMaiUAJa2\n",
       "FntMeubstLtoYgo3e8AVN7dq9KoH+bszcfr0hY+fcTqmzPnLJBzzmko56SmzwPxH2ukeU1axZ5UK\n",
       "WRXWL3kXeRi4nuh6w6eIF5EOsoFfiuegOIrAU6KTsc28dycxzsOPfdUzkt0+aiulSNkDt+HdU086\n",
       "ln6PdrRg08+3X38GohYNUzz/n9x9FEW+PO/vU8q70KKWku4BtxWvHSXEitnMP5d1LrGfdkuyGidM\n",
       "3jGZuWexh8EiLvqYLsFQWNm3oeZH2AoGrkczZHMnt9Gj7uC+butYNnFd6hBoM+tlj0nrbMLqnhnj\n",
       "DLQFDq7d2Xi/0xvWsYdvG00U6jg+bhMk5L2mxxS7evJgN22peBvyPg6utQoL3pn4z6vht3qsxhRU\n",
       "Dz1Pq6iSmBwY6iUMZBGvKdZpBqFMM5LNXmoOQ73uH/6eJiC1LQahTKdesoI5INSiIjf7A4jqrxun\n",
       "Ivq8AAAAAElFTkSuQmCC\n",
       "\" style=\"display:inline;vertical-align:middle;\" /></a></span>"
      ],
      "text/plain": [
       "|- forall_{x, y, z | x = y, y = z} (x = z)"
      ]
     },
     "execution_count": 25,
     "metadata": {},
     "output_type": "execute_result"
    }
   ],
   "source": [
    "equalsTransitivity"
   ]
  },
  {
   "cell_type": "markdown",
   "metadata": {},
   "source": [
    "`equalsReversal` is a useful theorem for applying the symmetry property of equality:"
   ]
  },
  {
   "cell_type": "code",
   "execution_count": 26,
   "metadata": {},
   "outputs": [
    {
     "data": {
      "text/html": [
       "<span style=\"font-size:20px;\"> <a class=\"ProveItLink\" href=\"_proofs_/equalsReversal.ipynb\" style=\"text-decoration: none\">&#x22A2;&nbsp;</a><a class=\"ProveItLink\" href=\"__pv_it/4402ae6b82c8bcd657bcc0ee69546dc324821d030/expr.ipynb\"><img src=\"data:image/png;base64,iVBORw0KGgoAAAANSUhEUgAAAKEAAAAWBAMAAABasOFIAAAAMFBMVEX///8QEBCIiIhmZma6urrM\n",
       "zMxUVFQiIiJERETc3Nzu7u6qqqp2dnaYmJgyMjIAAAAcRTyBAAAAAXRSTlMAQObYZgAAAglJREFU\n",
       "OMudVT9IG1EY/5FckoteIpS6ONkGJGQKQjeR1ELFRXRxVUILuoQOOmmLdCjJIGRTuvR0aIsIBpx0\n",
       "CrpFsDcUSqGFg0JBoSUUBKMIft+73F3uejl5+eBxL7/fe798/+47QNqSRnfukJbJm58yip9DuHgV\n",
       "OOXNhYzieQjXRw5ucRzrEoKpfBh7DKR1QKtJKCaqYew2/WVjd3dTJujww+kCcFUur8koZmjtjCI5\n",
       "5Mvg46UJClmjnLwEKv9dK3RX3KBVf4pIk55nf9l+MbyHb8NvKGQqzTNRIJ+FlGqVKlkbh+o70sAX\n",
       "fQrof0WZRsSQUXxIEeIBBoa9sI4yP2LkumYkIKkI5RrzM37in62YNOe4j56M0BFlBAndVbRANocQ\n",
       "USNq4hGcPP4WeOxSHKSoUXkBRPRSgqqhDeizro8CXCyTGQ5hVUZdwDufh0dUqpxVGRyQbAx/GH4/\n",
       "iayr2AY9BHDCPi4ot15B5UZt8giJ1umHleOWIMZQ7Mxjy7lhE8AkN18x0/K1YzGX4XmT5jSldJHR\n",
       "GBPLGOxQZLDEmTIcwn4Lo2Zw3T7Zmw+aqWFLx4rSdBUF2DabsCZFCfuFrpPCso9fjxuYreF51nQV\n",
       "Bdg2m4B4w17jbfdp1mm1vqpqBPajQ1gTdyIzE6yoegdTfzVenw7ucIe456vw3TdLofyoBys6RM+W\n",
       "7/3qHftHk7tcdHVHAAAAAElFTkSuQmCC\n",
       "\" style=\"display:inline;vertical-align:middle;\" /></a></span>"
      ],
      "text/plain": [
       "|- forall_{x, y | x = y} (y = x)"
      ]
     },
     "execution_count": 26,
     "metadata": {},
     "output_type": "execute_result"
    }
   ],
   "source": [
    "from proveit.logic.equality._theorems_ import equalsReversal\n",
    "equalsReversal # y=x derives from x=y"
   ]
  },
  {
   "cell_type": "markdown",
   "metadata": {},
   "source": [
    "These three properties are applied automatically for `Equals` objects"
   ]
  },
  {
   "cell_type": "markdown",
   "metadata": {},
   "source": [
    "Reflexivity is concluded automatically:"
   ]
  },
  {
   "cell_type": "code",
   "execution_count": 27,
   "metadata": {},
   "outputs": [
    {
     "data": {
      "text/html": [
       "<span style=\"font-size:20px;\"> <a class=\"ProveItLink\" href=\"__pv_it/7c471c00c5e4d0b26cacdc6e1eaa19e783280a490/proof.ipynb\" style=\"text-decoration: none\">&#x22A2;&nbsp;</a><a class=\"ProveItLink\" href=\"__pv_it/dc20e59f1fda7ad09136874c14786a6c777903a00/expr.ipynb\"><img src=\"data:image/png;base64,iVBORw0KGgoAAAANSUhEUgAAADIAAAAJBAMAAACCrGLsAAAAMFBMVEX///9UVFSqqqrMzMwiIiJE\n",
       "RESYmJgyMjK6urru7u4QEBCIiIh2dnZmZmbc3NwAAABRgo0vAAAAAXRSTlMAQObYZgAAAIxJREFU\n",
       "CNdjYOC7c3slAxp4e3bXBAaGrgfsH0C84+UgUAticqxjqGdg4FzGwBuApmVWAsNVBgbenwwsG9Bk\n",
       "7k9g8GZg4ApgmG+AJrOUgfMzA8P8Awz6DAh7CoEszj8MTECr5yswiDM9QNHC+YmBsUCPgXUDmyMP\n",
       "mmnRDCkCBxg4pTc/3IEmM3G3nXQDADOgJ0c8IR5UAAAAAElFTkSuQmCC\n",
       "\" style=\"display:inline;vertical-align:middle;\" /></a></span>"
      ],
      "text/plain": [
       "|- a = a"
      ]
     },
     "execution_count": 27,
     "metadata": {},
     "output_type": "execute_result"
    }
   ],
   "source": [
    "Equals(a, a).prove()"
   ]
  },
  {
   "cell_type": "code",
   "execution_count": 28,
   "metadata": {},
   "outputs": [
    {
     "data": {
      "text/html": [
       "<table><tr><th>&nbsp;</th><th>step type</th><th>requirements</th><th>statement</th></tr>\n",
       "<tr><td><a name=\"0x7e241295c5be2290_step0\">0</a></td><td>instantiation</td><td><a href=\"#0x7e241295c5be2290_step1\">1</a></td><td><span style=\"font-size:20px;\"> <a class=\"ProveItLink\" href=\"__pv_it/7c471c00c5e4d0b26cacdc6e1eaa19e783280a490/proof.ipynb\" style=\"text-decoration: none\">&#x22A2;&nbsp;</a><a class=\"ProveItLink\" href=\"__pv_it/dc20e59f1fda7ad09136874c14786a6c777903a00/expr.ipynb\"><img src=\"data:image/png;base64,iVBORw0KGgoAAAANSUhEUgAAADIAAAAJBAMAAACCrGLsAAAAMFBMVEX///9UVFSqqqrMzMwiIiJE\n",
       "RESYmJgyMjK6urru7u4QEBCIiIh2dnZmZmbc3NwAAABRgo0vAAAAAXRSTlMAQObYZgAAAIxJREFU\n",
       "CNdjYOC7c3slAxp4e3bXBAaGrgfsH0C84+UgUAticqxjqGdg4FzGwBuApmVWAsNVBgbenwwsG9Bk\n",
       "7k9g8GZg4ApgmG+AJrOUgfMzA8P8Awz6DAh7CoEszj8MTECr5yswiDM9QNHC+YmBsUCPgXUDmyMP\n",
       "mmnRDCkCBxg4pTc/3IEmM3G3nXQDADOgJ0c8IR5UAAAAAElFTkSuQmCC\n",
       "\" style=\"display:inline;vertical-align:middle;\" /></a></span></td></tr>\n",
       "<tr><td>&nbsp;</td><td colspan=4 style=\"text-align:left\"><span style=\"font-size:20px;\"><a class=\"ProveItLink\" href=\"../../__pv_it/72df168d2bfb4e0140af90912ebf83b13772060b0/expr.ipynb\"><img src=\"data:image/png;base64,iVBORw0KGgoAAAANSUhEUgAAAAsAAAAJBAMAAAAWSsseAAAALVBMVEX///9mZmaqqqrMzMxEREQy\n",
       "MjIiIiKYmJh2dna6urrc3NxUVFSIiIju7u4AAACJHQtQAAAAAXRSTlMAQObYZgAAAEJJREFUCNdj\n",
       "YLhzeuWJAwy8Dew5bAEMHBc43nIuYOBlYHFgAAG+A2DKzgBIMF04x8BzgWGegh/DcgaG22fuiBcw\n",
       "AAATyhBrnyPYZQAAAABJRU5ErkJggg==\n",
       "\" style=\"display:inline;vertical-align:middle;\" /></a> : <a class=\"ProveItLink\" href=\"../../__pv_it/a8d4b3a34d2189508f9082853fbac36935714f280/expr.ipynb\"><img src=\"data:image/png;base64,iVBORw0KGgoAAAANSUhEUgAAAAsAAAAJBAMAAAAWSsseAAAAMFBMVEX///9UVFSqqqrMzMwiIiJE\n",
       "RESYmJgyMjK6urru7u4QEBCIiIh2dnZmZmbc3NwAAABRgo0vAAAAAXRSTlMAQObYZgAAAEdJREFU\n",
       "CNdjYOC7c3slAwND1wP2DwwMnMsYeAMYGHh/MrBsYGDgCmCYb8DAMP8Agz5QxXwFBnGmBwysG9gc\n",
       "eYAqpTc/3MEAAP4BD32xAXDqAAAAAElFTkSuQmCC\n",
       "\" style=\"display:inline;vertical-align:middle;\" /></a></span></td></tr><tr><td><a name=\"0x7e241295c5be2290_step1\">1</a></td><td>axiom</td><td></td><td><span style=\"font-size:20px;\"> <a class=\"ProveItLink\" href=\"_axioms_.ipynb#equalsReflexivity\" style=\"text-decoration: none\">&#x22A2;&nbsp;</a><a class=\"ProveItLink\" href=\"__pv_it/3580c570dea9cff591db97db2d7abd66a33477f40/expr.ipynb\"><img src=\"data:image/png;base64,iVBORw0KGgoAAAANSUhEUgAAAGIAAAAUBAMAAACE8PXhAAAAMFBMVEX///8QEBCIiIhmZma6urrM\n",
       "zMxUVFQiIiJERETc3Nzu7u6qqqp2dnaYmJgyMjIAAAAcRTyBAAAAAXRSTlMAQObYZgAAAUFJREFU\n",
       "KM9jYMAAnBcYcALuCQwMD0CMu8iiKxjwgEwGhtMg+hWy4Et8OtYxMMwAuaMBSYzXAJ8OHgUGvgVA\n",
       "agOSGPsEfDq4BBh4T61aNR1ZbDoDXvCEgeFHR0cNspAyEC9Sm6KjgKYUKnaYgSGVgaETWaYXaPUB\n",
       "3iJ2UCDyvAMDkM9gYvcYGJwZuB4g66gGKlzA84sFzTswse1AnzIwoUSZCNA8Bo4GDC9DxeKBmi+w\n",
       "M6DpYGDgV8D0M0QMqIPzQRiQcchULQDuKqA4hAP1RwIDQswdiDtTGBiYFuSxO8B9zr1AHyiClqKg\n",
       "YkCfM2wuYGBgZXgLkwIGn/+Gfoa5aG6CidnA3fcTJgW0dpnSIlv0BAwTewpKSCD7WT+wEpdKCqCM\n",
       "+TwPeIhNiVA7rxw6BRPsJJDaMQHeHIXVOHy5lncCAwDGgVl+SYhJvAAAAABJRU5ErkJggg==\n",
       "\" style=\"display:inline;vertical-align:middle;\" /></a></span></td></tr>\n",
       "<tr><td>&nbsp;</td><td colspan=4 style-\"text-align:left\"><a class=\"ProveItLink\" href=\"_axioms_.ipynb#equalsReflexivity\">proveit.logic.equality.equalsReflexivity</a></td></tr></table>"
      ],
      "text/plain": [
       "\tstep type\trequirements\tstatement\n",
       "0\tinstantiation\t1\t|- a = a\n",
       "\tx : a\n",
       "1\taxiom\t\t|- forall_{x} (x = x)\n",
       "\tproveit.logic.equality.equalsReflexivity"
      ]
     },
     "execution_count": 28,
     "metadata": {},
     "output_type": "execute_result"
    }
   ],
   "source": [
    "Equals(a, a).prove().proof()"
   ]
  },
  {
   "cell_type": "markdown",
   "metadata": {},
   "source": [
    "Symmetric statements are derived as side-effects.  Note that the `KnownTruth.deriveSideEffects` method employs a mechanism to prevent infinite recursion or this would not be possible (it would continually go back and forth, proving $y=x$ from $x=y$ then $x=y$ from $y=x$, ad infinitum)"
   ]
  },
  {
   "cell_type": "code",
   "execution_count": 29,
   "metadata": {},
   "outputs": [
    {
     "data": {
      "text/html": [
       "<strong id=\"a_eq_b\">a_eq_b:</strong> <a class=\"ProveItLink\" href=\"__pv_it/50ee5b8a9fc0503674ae8e1d80d527208d4501ab0/expr.ipynb\"><img src=\"data:image/png;base64,iVBORw0KGgoAAAANSUhEUgAAADAAAAAOBAMAAACbXIJpAAAAMFBMVEX///9UVFSqqqrMzMwiIiJE\n",
       "RESYmJgyMjK6urru7u4QEBCIiIh2dnZmZmbc3NwAAABRgo0vAAAAAXRSTlMAQObYZgAAAJNJREFU\n",
       "GNNjYMACpi5hwAFqcUl8wiHO8ROHBI8DiOS7c3slmgS79F4FBoauB+wfQLzj5SAAtnZ+Jec/Bs5l\n",
       "DLwBaDr0JzD8ZuD9ycCyAU3iOgPnHwauAIb5Bhje4PjEMP8Agz4Dwo5CEPMbyJz5CgziTA9Qdfxg\n",
       "mJXAwLqBzZEHzSgxhlgGBk7pzQ93oEnM3ZPAAADExyjZCF2gNgAAAABJRU5ErkJggg==\n",
       "\" style=\"display:inline;vertical-align:middle;\" /></a><br>"
      ],
      "text/plain": [
       "a_eq_b: a = b"
      ]
     },
     "execution_count": 29,
     "metadata": {},
     "output_type": "execute_result"
    }
   ],
   "source": [
    "a_eq_b = Equals(a, b)"
   ]
  },
  {
   "cell_type": "code",
   "execution_count": 30,
   "metadata": {},
   "outputs": [
    {
     "data": {
      "text/html": [
       "<span style=\"font-size:20px;\"><a class=\"ProveItLink\" href=\"__pv_it/522778b19d8d12c9a6e4ee72ae0a8f3940ae0f200/expr.ipynb\"><img src=\"data:image/png;base64,iVBORw0KGgoAAAANSUhEUgAAAEIAAAAVBAMAAAAA8SWUAAAAMFBMVEX///+IiIi6urrc3NxERETM\n",
       "zMwQEBCqqqpUVFQiIiJ2dnYyMjLu7u5mZmaYmJgAAABN0h6tAAAAAXRSTlMAQObYZgAAAO9JREFU\n",
       "KM9jYGDgu8eAC8TKgEieXQy4gVoAkOD7gFWOx20CkOTdACS4JmDXzn0BJolLBX8BIRX6BwipWMmA\n",
       "osJ2rdgBNBU7BK8DJROALA6gc5mSGfaDtewGA5AbeX4fOG8A8WgZ0MvHHjBcQTOC/Q8DvwADw14G\n",
       "hpDJQO79AwwT0VQAQ+L8AqANEyHBlsLA8xUzOPSB/t0BcocDA88vBvYPSO5oAAXHA5DJYHcA/cLz\n",
       "HejeYrQAU+DJg/oF5FtHhpcNC1BVcDxguYAUHicEgxsV0GLu4jpCYcqACNMEQipwpA94qAAB3jQG\n",
       "dh07/nQKAKghSfjLfrFUAAAAAElFTkSuQmCC\n",
       "\" style=\"display:inline;vertical-align:middle;\" /></a> <a class=\"ProveItLink\" href=\"__pv_it/e13abb03840d494f428698c4819171e96ed0a0ee0/proof.ipynb\" style=\"text-decoration: none\">&#x22A2;&nbsp;</a><a class=\"ProveItLink\" href=\"__pv_it/1a5700eb8b69fd9f1f9cdd108000bdcc6cff89340/expr.ipynb\"><img src=\"data:image/png;base64,iVBORw0KGgoAAAANSUhEUgAAADAAAAAOBAMAAACbXIJpAAAAMFBMVEX////MzMyYmJjc3NyIiIhU\n",
       "VFR2dna6urqqqqpmZmYyMjIiIiIQEBBERETu7u4AAACIO4EmAAAAAXRSTlMAQObYZgAAAJVJREFU\n",
       "GNNj4LuzgQE74JqAQ4K/AYdE/QMcEtk4xBmWusxAF7LM9HnAwPfrwXsDICdrFQisBImzH2ZYz8DA\n",
       "8Y+B3wFVwxsFhrkMDJwLGN4noErMf8CwBeyNejQHn2Xg+wj0hgJIBcyOpUAW3zcGjg9AiQK+Q6ga\n",
       "+H4wsC5oZmBV4EUPkysM2gEJDHxTktC98dRFOKQAAF7kLE3dFJTRAAAAAElFTkSuQmCC\n",
       "\" style=\"display:inline;vertical-align:middle;\" /></a></span>"
      ],
      "text/plain": [
       "{a = b} |- b = a"
      ]
     },
     "execution_count": 30,
     "metadata": {},
     "output_type": "execute_result"
    }
   ],
   "source": [
    "Equals(b, a).prove([a_eq_b])"
   ]
  },
  {
   "cell_type": "markdown",
   "metadata": {},
   "source": [
    "The reversed form may also be derived explicitly via `deriveReversed`.  The proof is the same."
   ]
  },
  {
   "cell_type": "code",
   "execution_count": 31,
   "metadata": {},
   "outputs": [
    {
     "data": {
      "text/html": [
       "<span style=\"font-size:20px;\"><a class=\"ProveItLink\" href=\"__pv_it/522778b19d8d12c9a6e4ee72ae0a8f3940ae0f200/expr.ipynb\"><img src=\"data:image/png;base64,iVBORw0KGgoAAAANSUhEUgAAAEIAAAAVBAMAAAAA8SWUAAAAMFBMVEX///+IiIi6urrc3NxERETM\n",
       "zMwQEBCqqqpUVFQiIiJ2dnYyMjLu7u5mZmaYmJgAAABN0h6tAAAAAXRSTlMAQObYZgAAAO9JREFU\n",
       "KM9jYGDgu8eAC8TKgEieXQy4gVoAkOD7gFWOx20CkOTdACS4JmDXzn0BJolLBX8BIRX6BwipWMmA\n",
       "osJ2rdgBNBU7BK8DJROALA6gc5mSGfaDtewGA5AbeX4fOG8A8WgZ0MvHHjBcQTOC/Q8DvwADw14G\n",
       "hpDJQO79AwwT0VQAQ+L8AqANEyHBlsLA8xUzOPSB/t0BcocDA88vBvYPSO5oAAXHA5DJYHcA/cLz\n",
       "HejeYrQAU+DJg/oF5FtHhpcNC1BVcDxguYAUHicEgxsV0GLu4jpCYcqACNMEQipwpA94qAAB3jQG\n",
       "dh07/nQKAKghSfjLfrFUAAAAAElFTkSuQmCC\n",
       "\" style=\"display:inline;vertical-align:middle;\" /></a> <a class=\"ProveItLink\" href=\"__pv_it/e13abb03840d494f428698c4819171e96ed0a0ee0/proof.ipynb\" style=\"text-decoration: none\">&#x22A2;&nbsp;</a><a class=\"ProveItLink\" href=\"__pv_it/1a5700eb8b69fd9f1f9cdd108000bdcc6cff89340/expr.ipynb\"><img src=\"data:image/png;base64,iVBORw0KGgoAAAANSUhEUgAAADAAAAAOBAMAAACbXIJpAAAAMFBMVEX////MzMyYmJjc3NyIiIhU\n",
       "VFR2dna6urqqqqpmZmYyMjIiIiIQEBBERETu7u4AAACIO4EmAAAAAXRSTlMAQObYZgAAAJVJREFU\n",
       "GNNj4LuzgQE74JqAQ4K/AYdE/QMcEtk4xBmWusxAF7LM9HnAwPfrwXsDICdrFQisBImzH2ZYz8DA\n",
       "8Y+B3wFVwxsFhrkMDJwLGN4noErMf8CwBeyNejQHn2Xg+wj0hgJIBcyOpUAW3zcGjg9AiQK+Q6ga\n",
       "+H4wsC5oZmBV4EUPkysM2gEJDHxTktC98dRFOKQAAF7kLE3dFJTRAAAAAElFTkSuQmCC\n",
       "\" style=\"display:inline;vertical-align:middle;\" /></a></span>"
      ],
      "text/plain": [
       "{a = b} |- b = a"
      ]
     },
     "execution_count": 31,
     "metadata": {},
     "output_type": "execute_result"
    }
   ],
   "source": [
    "a_eq_b.prove([a_eq_b]).deriveReversed()"
   ]
  },
  {
   "cell_type": "markdown",
   "metadata": {},
   "source": [
    "Transitivity derivations are attempted with automation via the `concludeViaTransitivity` method from the `TransitiveRelation` superclass of `Equals`.  This performs a breadth-first, bidirectional search (meeting in the middle from both ends) over the space of **KnownTruth** objects representing equality and using appropriate assumptions.  This is therefore reasonably efficient.  Efficiency should not really be an issue, anyways, as long as proofs for each theorem are relatively small.  A long proof should be broken up into several smaller proofs for lemma-like theorems.  In that case (in the setting of small proofs), the space of **KnownTruth**s will be small and this search algorithm will have ample efficiency. "
   ]
  },
  {
   "cell_type": "code",
   "execution_count": 32,
   "metadata": {},
   "outputs": [
    {
     "data": {
      "text/html": [
       "<strong id=\"c_eq_b\">c_eq_b:</strong> <a class=\"ProveItLink\" href=\"__pv_it/a4b64c1fcb123f0f69ac05b5c0dbe2464ed4af1d0/expr.ipynb\"><img src=\"data:image/png;base64,iVBORw0KGgoAAAANSUhEUgAAAC4AAAAOBAMAAACiOzMyAAAAMFBMVEX///+6urqYmJgQEBDu7u5m\n",
       "ZmZUVFQyMjJERESqqqoiIiLc3NzMzMyIiIh2dnYAAABqS+z4AAAAAXRSTlMAQObYZgAAAIRJREFU\n",
       "GNNjYMAEHlYM2EEpDvGf2IUZv2AX51sApt7ePYAqzp57dQIDw64JHAVAzvNyEADb6F/C8puBYR0D\n",
       "2wRU9fMdGP4ysGJaEs7A8o+BuQGL8xl/Mvg/gHAg5peBmJ9AhvArMDCgmf+RwVmBgTWBwRXNnUkM\n",
       "rUDyndIFNPNd7ykwAAA+mCTfkZgn6wAAAABJRU5ErkJggg==\n",
       "\" style=\"display:inline;vertical-align:middle;\" /></a><br>"
      ],
      "text/plain": [
       "c_eq_b: c = b"
      ]
     },
     "execution_count": 32,
     "metadata": {},
     "output_type": "execute_result"
    }
   ],
   "source": [
    "# We'll make this interesting by reversing some of the equations in the chain.\n",
    "c_eq_b = Equals(c, b) "
   ]
  },
  {
   "cell_type": "code",
   "execution_count": 33,
   "metadata": {},
   "outputs": [
    {
     "data": {
      "text/html": [
       "<strong id=\"d_eq_c\">d_eq_c:</strong> <a class=\"ProveItLink\" href=\"__pv_it/cc5081bd25cb61fb1ea1916295e8e3ebbd8a64a10/expr.ipynb\"><img src=\"data:image/png;base64,iVBORw0KGgoAAAANSUhEUgAAAC8AAAAOBAMAAABN+VgMAAAAMFBMVEX///9UVFSYmJiIiIjc3Nwy\n",
       "MjIiIiJ2dnbu7u66urqqqqpmZmYQEBBERETMzMwAAAAYOWz6AAAAAXRSTlMAQObYZgAAAI9JREFU\n",
       "GNNjYGBg4LuzgQE74F+AQ2J+Aw6JMhziDNFYRVm22/1CFys2fsDAMMeB9weIUxoKAmDNbgt4Axg4\n",
       "DjFwB6BpSGdgXMDA/YOBrQBVnBtsAs8Fhv4JqBJAISDoL2BYz4CwIxAiBCIXMIhyOaAGhAIDwwIG\n",
       "XgOmRHY0OwQYuh8wcAjbOVqiuapcyYABAOgnIBJ0orWKAAAAAElFTkSuQmCC\n",
       "\" style=\"display:inline;vertical-align:middle;\" /></a><br>"
      ],
      "text/plain": [
       "d_eq_c: d = c"
      ]
     },
     "execution_count": 33,
     "metadata": {},
     "output_type": "execute_result"
    }
   ],
   "source": [
    "d_eq_c = Equals(d, c)"
   ]
  },
  {
   "cell_type": "code",
   "execution_count": 34,
   "metadata": {},
   "outputs": [
    {
     "data": {
      "text/html": [
       "<strong id=\"d_eq_z\">d_eq_z:</strong> <a class=\"ProveItLink\" href=\"__pv_it/d9f3237dd4d9efa6f0ea39b91da56d03d3de28f00/expr.ipynb\"><img src=\"data:image/png;base64,iVBORw0KGgoAAAANSUhEUgAAADEAAAAOBAMAAAB0nulXAAAAMFBMVEX///9UVFSYmJiIiIjc3Nwy\n",
       "MjIiIiJ2dnbu7u66urqqqqpmZmYQEBBERETMzMwAAAAYOWz6AAAAAXRSTlMAQObYZgAAAJVJREFU\n",
       "GNNjYGBg4LuzgQEH4F+AS2Z+Ay6ZMlwSDNHYhVm22/1CF5t2kk+BgWGOA+8PEK80FATA2jkuWe8F\n",
       "kocYuAPQtHAwsFxgYOD+wcBWgGHFW6BreS4w9E9Al+AUABL9BQzrGRD2BILZC0FE/wIGUS4HVC1c\n",
       "GxgYGRh4DZgS2dEMe6auHAl0h7CdoyWazAamoxMYAMzMIPLUL7LlAAAAAElFTkSuQmCC\n",
       "\" style=\"display:inline;vertical-align:middle;\" /></a><br>"
      ],
      "text/plain": [
       "d_eq_z: d = z"
      ]
     },
     "execution_count": 34,
     "metadata": {},
     "output_type": "execute_result"
    }
   ],
   "source": [
    "d_eq_z = Equals(d, z)"
   ]
  },
  {
   "cell_type": "code",
   "execution_count": 35,
   "metadata": {},
   "outputs": [
    {
     "data": {
      "text/html": [
       "<strong id=\"a_eq_z\">a_eq_z:</strong> <span style=\"font-size:20px;\"><a class=\"ProveItLink\" href=\"__pv_it/2f4357710d8f543306551f8dc215d93f6dae0c390/expr.ipynb\"><img src=\"data:image/png;base64,iVBORw0KGgoAAAANSUhEUgAAAOsAAAAVBAMAAABVvASPAAAAMFBMVEX///+IiIi6urrc3NxERETM\n",
       "zMwQEBCqqqpUVFQiIiJ2dnYyMjLu7u5mZmaYmJgAAABN0h6tAAAAAXRSTlMAQObYZgAAAh5JREFU\n",
       "SMfFlj1IXEEQx/+cH3e+7H0VsUlzVUinhU0K4WxsDETQOko0ZcKBYBXhrCSdIigeImcTuIQcYiUJ\n",
       "4goS0sgpRAxI4rMRbKIEgqBHyO6+h/fe3s6qV+gWe3PvtzOzszNv3gJI/MJdjpZdLn/YZ9ztiLyS\n",
       "c+LMCFnvNKUXQoOvaQcEO5CTQ5h/sEOaC6FzS2BmVrK5TeZIa0EUqVqOs3p7tx2cNBdEzjTtlmBW\n",
       "tyXaXOlmuaBYzW33p3Y9uLX0vi8tp/sp1L08pOfCST8kWWQu8wJ4L8XYivg7gg2l8kUNuUl2ySud\n",
       "au3TXLNYgo8KrYeQ0HvOQwxN8+gLsYBNbB39zAKnUhwXoXx18V3bWLSKZEpJBcRyBBJ6B5peWxFT\n",
       "FANHl3/2g7NCOOSY0VbEV1ApKqGuHK+Q1Cto8JDXhEJ9i3om53di049FtKNgf+vLoUMF2ZoFhaTe\n",
       "Hw2O1oQ6BjxR+nmZ2yzYBaJngdzKx0nX37gfmJ+/tSC60qsx8chvZQabiKr51K9kdi4Ka0xrCRn2\n",
       "xhNcIGdGJr1/wjjFMAHk/UqWL1APTvLF8IqY27yDiijheB7b/WZk0vsBtscuzaxlqfwoE3hvv6UH\n",
       "JjNav98ti7JcFNKH3ykKGfSc8hGwwI0sjuPV67qUGm8bQohy25fPcztsWVFsCMHBtW6J7613nKlG\n",
       "ELBpdet1EcvtItEQAlzr7eKll4h7uEv9Bxw/1JOChhz6AAAAAElFTkSuQmCC\n",
       "\" style=\"display:inline;vertical-align:middle;\" /></a> <a class=\"ProveItLink\" href=\"__pv_it/e052bf58d87ea8769c4c81d8c7929f3c75eb7ce70/proof.ipynb\" style=\"text-decoration: none\">&#x22A2;&nbsp;</a><a class=\"ProveItLink\" href=\"__pv_it/8094479a892c189f33fc695e1dfffd2b3522d2170/expr.ipynb\"><img src=\"data:image/png;base64,iVBORw0KGgoAAAANSUhEUgAAADEAAAAJBAMAAABpm9nvAAAAMFBMVEX///9UVFSqqqrMzMwiIiJE\n",
       "RESYmJgyMjK6urru7u4QEBCIiIh2dnZmZmbc3NwAAABRgo0vAAAAAXRSTlMAQObYZgAAAIBJREFU\n",
       "CNdjYOC7c3slAxpoWcGcwMDQ9YD9A4h3vBwEakFMzrC9V4HkMgbeADQtnAx8QCHenwwsG9BNYzCd\n",
       "wMDAFcAw3wBdgkMASMw/wKDPgLCnEMxWBBHzFRjEmR6gamG6wMDIwMC6gc2RB80wk5zsCqA7pDc/\n",
       "3IEmc4FteQMDAL+9H9f+T50IAAAAAElFTkSuQmCC\n",
       "\" style=\"display:inline;vertical-align:middle;\" /></a></span><br>"
      ],
      "text/plain": [
       "a_eq_z: {a = b, c = b, d = c, d = z} |- a = z"
      ]
     },
     "execution_count": 35,
     "metadata": {},
     "output_type": "execute_result"
    }
   ],
   "source": [
    "a_eq_z = Equals(a, z).concludeViaTransitivity(assumptions=[a_eq_b, c_eq_b, d_eq_c, d_eq_z])"
   ]
  },
  {
   "cell_type": "markdown",
   "metadata": {},
   "source": [
    "The `applyTransivity` method applies the transitivity relation explicity. "
   ]
  },
  {
   "cell_type": "code",
   "execution_count": 36,
   "metadata": {},
   "outputs": [
    {
     "data": {
      "text/html": [
       "<span style=\"font-size:20px;\"><a class=\"ProveItLink\" href=\"__pv_it/87d93900e76c677f961b85c6c8a4708f9a7dbfb60/expr.ipynb\"><img src=\"data:image/png;base64,iVBORw0KGgoAAAANSUhEUgAAAHkAAAAVBAMAAACQ4lxbAAAAMFBMVEX///+IiIi6urrc3NxERETM\n",
       "zMwQEBCqqqpUVFQiIiJ2dnYyMjLu7u5mZmaYmJgAAABN0h6tAAAAAXRSTlMAQObYZgAAAYJJREFU\n",
       "OMtjYGDgu8dABmC9eABE8exiIAswpYJIvg9YJXncJuDUeCQTRN4GEVw4VHFfwG3vXhCxEp9u/gLc\n",
       "ur8T1K1/ALeX/xDUvRK31RAtCN3Mty7moCnZIXgdylooGIAWJI2yQG8tAzE5NgAJNQNuUNBz7QYD\n",
       "UHjx/D5w3gCs1rKABaRkNVgKHF7n9/B8ZmB4D2KWAQ3myWPgdUA1n/0PA78AmDWLgQMtAOsPMHyE\n",
       "RErIZCCX9w8DpwCqCt4NDOcXMEDk0MFtBp5fQKoTqEUNaDebA8P5AIzo1gdbyeaAJbqZgHHG3QDy\n",
       "N1AWaEs9A8LfIGH+Bwz3wXEGcQHM3ztAzH9gB72Hhfn5AoZudgPUxKIADAwGiDEMaP7+xHDsATTM\n",
       "QbpZBPhmcKGq4HjAcoHhPDCweRsYzqL5qo/BFzm+eRpFLYTQcsnFdQwMnHOArFXv0AKU4azUA0Jp\n",
       "DQxq8MhBdCfgUbGAkG4c+RvifAE8usH5mwFP2cKHr2xJgqRJ8ss1AJA+deoGPHOWAAAAAElFTkSu\n",
       "QmCC\n",
       "\" style=\"display:inline;vertical-align:middle;\" /></a> <a class=\"ProveItLink\" href=\"__pv_it/538362e6a9569927107bd2dab0089e478f0874ac0/proof.ipynb\" style=\"text-decoration: none\">&#x22A2;&nbsp;</a><a class=\"ProveItLink\" href=\"__pv_it/5962e4dca83e8a792702d5e40fc16ccb113dc1cd0/expr.ipynb\"><img src=\"data:image/png;base64,iVBORw0KGgoAAAANSUhEUgAAADAAAAAJBAMAAACGWbLRAAAAMFBMVEX///9UVFSqqqrMzMwiIiJE\n",
       "RESYmJgyMjK6urru7u4QEBCIiIh2dnZmZmbc3NwAAABRgo0vAAAAAXRSTlMAQObYZgAAAHtJREFU\n",
       "CNdjYOC7c3slAxrg2b2ZgaHrAfsHEOd4OQjUgph8TgzhDJzLGHgD0DSwHGAQYuD9ycCyAU3i/gQg\n",
       "wRXAMN8ATWIpiJh/gEGfAWFHIZDF+QcsocAgzvQAVcc3BgYmBtYNbI48aEZdZOC8zMApvfnhDnRv\n",
       "HMtmAABIISCRIdcwMwAAAABJRU5ErkJggg==\n",
       "\" style=\"display:inline;vertical-align:middle;\" /></a></span>"
      ],
      "text/plain": [
       "{a = b, c = b} |- a = c"
      ]
     },
     "execution_count": 36,
     "metadata": {},
     "output_type": "execute_result"
    }
   ],
   "source": [
    "a_eq_b.prove([a_eq_b]).applyTransitivity(c_eq_b, assumptions=[c_eq_b])"
   ]
  },
  {
   "cell_type": "markdown",
   "metadata": {},
   "source": [
    "## Evaluation\n",
    "\n",
    "An evaluation is an equality in which the right hand side is an irreducible value (specifically, an instance of `proveit.logic.irreducible_value.IrreducibleValue`, aliased as `proveit.logic.IrreducibleValue`).  An irreducible value represents a mathematical object in its simplest form.  It cannot be reduced.  The evaluation of an `IrreducibleValue` is itself.  When an evaluation is proven, the associated **KnownTruth** is stored for future reference in `Equals.evaluations` for making other evaluations."
   ]
  },
  {
   "cell_type": "markdown",
   "metadata": {},
   "source": [
    "`TRUE` ($\\top$) and `FALSE` ($\\bot$) are both `IrreducibleValue`s:"
   ]
  },
  {
   "cell_type": "code",
   "execution_count": 37,
   "metadata": {},
   "outputs": [],
   "source": [
    "from proveit.logic import TRUE, FALSE, IrreducibleValue"
   ]
  },
  {
   "cell_type": "code",
   "execution_count": 38,
   "metadata": {},
   "outputs": [
    {
     "data": {
      "text/plain": [
       "True"
      ]
     },
     "execution_count": 38,
     "metadata": {},
     "output_type": "execute_result"
    }
   ],
   "source": [
    "isinstance(TRUE, IrreducibleValue)"
   ]
  },
  {
   "cell_type": "code",
   "execution_count": 39,
   "metadata": {},
   "outputs": [
    {
     "data": {
      "text/plain": [
       "True"
      ]
     },
     "execution_count": 39,
     "metadata": {},
     "output_type": "execute_result"
    }
   ],
   "source": [
    "isinstance(FALSE, IrreducibleValue)"
   ]
  },
  {
   "cell_type": "code",
   "execution_count": 40,
   "metadata": {},
   "outputs": [
    {
     "data": {
      "text/html": [
       "<span style=\"font-size:20px;\"> <a class=\"ProveItLink\" href=\"../boolean/_proofs_/trueEqTrue.ipynb\" style=\"text-decoration: none\">&#x22A2;&nbsp;</a><a class=\"ProveItLink\" href=\"../boolean/__pv_it/9698afa151fdc61de8015cfead2d19a50e8321c20/expr.ipynb\"><img src=\"data:image/png;base64,iVBORw0KGgoAAAANSUhEUgAAADoAAAAOBAMAAACMfhKgAAAAIVBMVEX///8yMjJ2dnaYmJi6urqI\n",
       "iIiqqqpUVFQiIiJmZmYAAAAYAVJeAAAAAXRSTlMAQObYZgAAACtJREFUGNNjmNEBAu0MqABJNJUB\n",
       "G0hFowdKVlEQBCQHyF5xKprsjFUWJAoAeuASqfAPxAMAAAAASUVORK5CYII=\n",
       "\" style=\"display:inline;vertical-align:middle;\" /></a></span>"
      ],
      "text/plain": [
       "|- TRUE = TRUE"
      ]
     },
     "execution_count": 40,
     "metadata": {},
     "output_type": "execute_result"
    }
   ],
   "source": [
    "TRUE.evaluation()"
   ]
  },
  {
   "cell_type": "markdown",
   "metadata": {},
   "source": [
    "An `IrreducibleValue` should implement the `evalEquality` and `notEqual` methods to prove equality relations with other `IrreducibleValue`s as appropriate."
   ]
  },
  {
   "cell_type": "code",
   "execution_count": 41,
   "metadata": {},
   "outputs": [
    {
     "data": {
      "text/html": [
       "<span style=\"font-size:20px;\"><a class=\"ProveItLink\" href=\"__pv_it/0a248cf71a223219c788eee79469f922ea3467620/expr.ipynb\"><img src=\"data:image/png;base64,iVBORw0KGgoAAAANSUhEUgAAAE8AAAAVBAMAAAD1D64kAAAAMFBMVEX///+IiIi6urrc3NxERETM\n",
       "zMwQEBCqqqpUVFQiIiJ2dnYyMjLu7u5mZmaYmJgAAABN0h6tAAAAAXRSTlMAQObYZgAAAJVJREFU\n",
       "KM9jYGDgu8eAH7BePACieHYxEAJMqSCS7wNEWwGGPO9MMGhgYLgN4nJNAIuyC2AzCyq6cggoXAYi\n",
       "ODagKOTaDQYXUBS+BxFlAYRN5AbqC5nMQFghQyeQViPGxAaQGx2wubEB041E+5qkcARG/7RMcPSj\n",
       "p5sHGAGOF0AUJhCpEJoe8QJwemQgIoUnQXxGVJ4BALNwNB1DNoGRAAAAAElFTkSuQmCC\n",
       "\" style=\"display:inline;vertical-align:middle;\" /></a> <a class=\"ProveItLink\" href=\"__pv_it/fa2dd0c79eb356d80ba1da5f9b09bca50c4cdea60/proof.ipynb\" style=\"text-decoration: none\">&#x22A2;&nbsp;</a><a class=\"ProveItLink\" href=\"../boolean/__pv_it/83a1ddf0f64531c80e7f41ea6b904214668818b30/expr.ipynb\"><img src=\"data:image/png;base64,iVBORw0KGgoAAAANSUhEUgAAAA4AAAAOBAMAAADtZjDiAAAAG1BMVEX///9UVFQQEBAiIiJmZmaI\n",
       "iIiqqqrMzMwAAADC2JlRAAAAAXRSTlMAQObYZgAAABlJREFUCNdjYGBgKGOAgFRa0s7GxkrGxoYA\n",
       "QSUGlQeagkgAAAAASUVORK5CYII=\n",
       "\" style=\"display:inline;vertical-align:middle;\" /></a></span>"
      ],
      "text/plain": [
       "{FALSE = TRUE} |- FALSE"
      ]
     },
     "execution_count": 41,
     "metadata": {},
     "output_type": "execute_result"
    }
   ],
   "source": [
    "Equals(Equals(FALSE, TRUE), FALSE).deriveContradiction([Equals(FALSE, TRUE)])"
   ]
  },
  {
   "cell_type": "code",
   "execution_count": 42,
   "metadata": {},
   "outputs": [
    {
     "data": {
      "text/html": [
       "<span style=\"font-size:20px;\"> <a class=\"ProveItLink\" href=\"__pv_it/a07863df0810646629d7618afc8e07803cf341530/proof.ipynb\" style=\"text-decoration: none\">&#x22A2;&nbsp;</a><a class=\"ProveItLink\" href=\"__pv_it/5cba0960d4ed618037afd8fc0d429adc9b6fe88e0/expr.ipynb\"><img src=\"data:image/png;base64,iVBORw0KGgoAAAANSUhEUgAAAHUAAAAUBAMAAABBgm9wAAAAMFBMVEX////MzMxUVFR2dna6uroQ\n",
       "EBCqqqqIiIgiIiJmZmYyMjJERETu7u6YmJjc3NwAAACgK8IjAAAAAXRSTlMAQObYZgAAAK9JREFU\n",
       "OMtjYOC7wIAXsD3ALXeagbMDDBRQxeGieug6EOrXgQ0vwGolWPQUThneCYT0MhfgkuF4QEgvTwAu\n",
       "mRcMhPQyLMElU0lYryUumb0oeplXgcEEFL23cMm0EbY3A5dMCGG98rTQ24bNvwooej1wyewlbO8t\n",
       "XDKWhPVOxiUDdhADC9bMBBVdiEuG4wEDAcDTgEuGdwIhvcwFOKX2EdJ7Cl/eJwDwGE6ozOHFGSAA\n",
       "HxxGKHmdq5YAAAAASUVORK5CYII=\n",
       "\" style=\"display:inline;vertical-align:middle;\" /></a></span>"
      ],
      "text/plain": [
       "|- (TRUE = TRUE) = TRUE"
      ]
     },
     "execution_count": 42,
     "metadata": {},
     "output_type": "execute_result"
    }
   ],
   "source": [
    "TRUE.evalEquality(TRUE)"
   ]
  },
  {
   "cell_type": "code",
   "execution_count": 43,
   "metadata": {},
   "outputs": [
    {
     "data": {
      "text/html": [
       "<span style=\"font-size:20px;\"> <a class=\"ProveItLink\" href=\"__pv_it/e6bce1c1a672e1179114ec02ea1135be38a538070/proof.ipynb\" style=\"text-decoration: none\">&#x22A2;&nbsp;</a><a class=\"ProveItLink\" href=\"__pv_it/340b93678e51e549f96faa3143138eb8dcf68dca0/expr.ipynb\"><img src=\"data:image/png;base64,iVBORw0KGgoAAAANSUhEUgAAAHUAAAAUBAMAAABBgm9wAAAAMFBMVEX////MzMxUVFR2dna6uroQ\n",
       "EBCqqqqIiIgiIiJmZmYyMjJERETu7u6YmJjc3NwAAACgK8IjAAAAAXRSTlMAQObYZgAAALdJREFU\n",
       "OMtjYOC7wIAXsD3ALXeagbMDDBQwpBgTQKQeFk0QGYZ1YMMLsFoJFj2FU4Z3AiG9zAW4ZDgeENLL\n",
       "E4BL5gUDIb0MS3DJVBLWa4lLZi+KXuZVYDABRe8tXDJthO3NwCUTQlivPC30tmHzrwKKXg9cMnsJ\n",
       "23sLl4wlYb2TccmAHcTAgpmZgDmkNQKcQxbikuF4wEAA8DTgkuGdQEgvcwFOqX2E9J7Cl/cJADyG\n",
       "EypzeHEGCABriETckJsn/wAAAABJRU5ErkJggg==\n",
       "\" style=\"display:inline;vertical-align:middle;\" /></a></span>"
      ],
      "text/plain": [
       "|- (TRUE = FALSE) = FALSE"
      ]
     },
     "execution_count": 43,
     "metadata": {},
     "output_type": "execute_result"
    }
   ],
   "source": [
    "TRUE.evalEquality(FALSE)"
   ]
  },
  {
   "cell_type": "code",
   "execution_count": 44,
   "metadata": {},
   "outputs": [
    {
     "data": {
      "text/html": [
       "<span style=\"font-size:20px;\"> <a class=\"ProveItLink\" href=\"../boolean/_proofs_/trueNotFalse.ipynb\" style=\"text-decoration: none\">&#x22A2;&nbsp;</a><a class=\"ProveItLink\" href=\"../boolean/__pv_it/7bf2a54a53889c9811775aca32d2a3aeeed46cc10/expr.ipynb\"><img src=\"data:image/png;base64,iVBORw0KGgoAAAANSUhEUgAAADoAAAAUCAMAAADrw95cAAAAOVBMVEX///8QEBAkJCQNDQ0oKCjM\n",
       "zMxEREQyMjLc3Nzu7u52dnaYmJi6urqIiIiqqqpUVFQiIiJmZmYAAADZ9py9AAAAAXRSTlMAQObY\n",
       "ZgAAAIFJREFUOMvFk9sOgCAIQLHymkn+/8+2bGtlMJWXeHATOJzxAEArgucqeX8EfuvO1hmdXt+0\n",
       "caMx1pmql0WdASmKWooS0l7U6GE02BLLfL5ZYqWkfahGkKLGCdCy66SujXHcaklpDxoz9KBxJaSe\n",
       "PhWluFO5h2eQhvVSMoUfpBCbHQfq2wZjnRBGFAAAAABJRU5ErkJggg==\n",
       "\" style=\"display:inline;vertical-align:middle;\" /></a></span>"
      ],
      "text/plain": [
       "|- TRUE != FALSE"
      ]
     },
     "execution_count": 44,
     "metadata": {},
     "output_type": "execute_result"
    }
   ],
   "source": [
    "TRUE.notEqual(FALSE)"
   ]
  },
  {
   "cell_type": "markdown",
   "metadata": {},
   "source": [
    "A proven expression will evaluate to `TRUE`."
   ]
  },
  {
   "cell_type": "code",
   "execution_count": 45,
   "metadata": {},
   "outputs": [
    {
     "data": {
      "text/html": [
       "<strong id=\"a_eq_T\">a_eq_T:</strong> <span style=\"font-size:20px;\"><a class=\"ProveItLink\" href=\"__pv_it/48acfa5b951060960660a168f0d03951a30d5af10/expr.ipynb\"><img src=\"data:image/png;base64,iVBORw0KGgoAAAANSUhEUgAAAB0AAAAVBAMAAABI7vhRAAAAMFBMVEX///+IiIi6urrc3NxERETM\n",
       "zMwQEBCqqqpUVFQiIiJ2dnYyMjLu7u5mZmaYmJgAAABN0h6tAAAAAXRSTlMAQObYZgAAAJpJREFU\n",
       "GNNjYGDgu8cABqwXD4Aonl0MUMCUCiL5PsD4DLdBBNcEOH8l2XzbtWJAy5aB+BwbgDYlM+wHMt+D\n",
       "+GUBDAzHHjBcATK5LzAwhEwGMu4fYJgIkusUYGBQA8qnMPB8Bck3gPQ7MPD8YmD/ANMPNJ/nO9DU\n",
       "Yqj5IPscGV42LECy/4RgcKMCLvcloPLR/c+ACJ8kMMWOHH4AMR0vmFpOTQ8AAAAASUVORK5CYII=\n",
       "\" style=\"display:inline;vertical-align:middle;\" /></a> <a class=\"ProveItLink\" href=\"__pv_it/3784f8a658e6bde460197131de7c8cabbb3af7640/proof.ipynb\" style=\"text-decoration: none\">&#x22A2;&nbsp;</a><a class=\"ProveItLink\" href=\"__pv_it/b402eb20efc410e18514bb0551c407be126d312f0/expr.ipynb\"><img src=\"data:image/png;base64,iVBORw0KGgoAAAANSUhEUgAAADYAAAAOBAMAAACWQvIuAAAAMFBMVEX///9UVFSqqqrMzMwiIiJE\n",
       "RESYmJgyMjK6urru7u4QEBCIiIh2dnZmZmbc3NwAAABRgo0vAAAAAXRSTlMAQObYZgAAAGVJREFU\n",
       "GNNjYMACrriAgCMDDqDNgBtQJsd35/ZKXHJdD9g/gOjj5SBQiyzHuYyBNwCHPt6fDCwbcMhxBTDM\n",
       "N8AhN/8Agz4Dwr5CFDkFBnGmB9j1sW5gc+TBYSan9OaHOzDl2oAYAN14G5LzAmKsAAAAAElFTkSu\n",
       "QmCC\n",
       "\" style=\"display:inline;vertical-align:middle;\" /></a></span><br>"
      ],
      "text/plain": [
       "a_eq_T: {a} |- a = TRUE"
      ]
     },
     "execution_count": 45,
     "metadata": {},
     "output_type": "execute_result"
    }
   ],
   "source": [
    "a_eq_T = a.evaluation([a])"
   ]
  },
  {
   "cell_type": "markdown",
   "metadata": {},
   "source": [
    "A disproven expression will evaluate to `FALSE`."
   ]
  },
  {
   "cell_type": "code",
   "execution_count": 46,
   "metadata": {},
   "outputs": [
    {
     "data": {
      "text/html": [
       "<strong id=\"a_eq_F\">a_eq_F:</strong> <span style=\"font-size:20px;\"><a class=\"ProveItLink\" href=\"__pv_it/a622860fb40b41122e3c7c6d48e8a5c2d4d300b60/expr.ipynb\"><img src=\"data:image/png;base64,iVBORw0KGgoAAAANSUhEUgAAACsAAAAVBAMAAAAtAwouAAAAMFBMVEX///+IiIi6urrc3NxERETM\n",
       "zMwQEBCqqqpUVFQiIiJ2dnYyMjLu7u5mZmaYmJgAAABN0h6tAAAAAXRSTlMAQObYZgAAAKpJREFU\n",
       "GNNjYGDgu8eADFgvHgBRPLsYUAFTKojk+4AmzHAbRHBNQBdeSRNh27ViQNctAzE5NiCclsywH0i9\n",
       "B7HLAhgYbs4EglkMxx4wXAGKcF9gYAiZDFNrwXD/AMNEEKtTgIFBLQAunMLA8xWkugFktgNMmOcX\n",
       "A/sHmNlwl1jwfAfaXwx1CVyYlcGR4WXDAkx3nxAMblQg4MsErMI4wpsBI3aSwBQ7lrgEAOL0NFQf\n",
       "ymOgAAAAAElFTkSuQmCC\n",
       "\" style=\"display:inline;vertical-align:middle;\" /></a> <a class=\"ProveItLink\" href=\"__pv_it/3edaa7b4314e0a0143f3ceea3ca0be23e4d73fbb0/proof.ipynb\" style=\"text-decoration: none\">&#x22A2;&nbsp;</a><a class=\"ProveItLink\" href=\"__pv_it/c96c5edb56cb6ff7bef12d450777ba400f0b0b070/expr.ipynb\"><img src=\"data:image/png;base64,iVBORw0KGgoAAAANSUhEUgAAADYAAAAOBAMAAACWQvIuAAAAMFBMVEX///9UVFSqqqrMzMwiIiJE\n",
       "RESYmJgyMjK6urru7u4QEBCIiIh2dnZmZmbc3NwAAABRgo0vAAAAAXRSTlMAQObYZgAAAGNJREFU\n",
       "GNNjYMAOjBhwA22ayfHdub0Sl1zXA/YPIPp4OQjUIstxLmPgDcChj/cnA8sGHHJcAQzzDXDIzT/A\n",
       "oM+AsK8QRU6BQZzpAXZ9rBvYHHlwmMkpvfnhDjSJKy4uq1xcHAG3Xxuk5NsGEAAAAABJRU5ErkJg\n",
       "gg==\n",
       "\" style=\"display:inline;vertical-align:middle;\" /></a></span><br>"
      ],
      "text/plain": [
       "a_eq_F: {[not](a)} |- a = FALSE"
      ]
     },
     "execution_count": 46,
     "metadata": {},
     "output_type": "execute_result"
    }
   ],
   "source": [
    "a_eq_F = a.evaluation([Not(a)])"
   ]
  },
  {
   "cell_type": "markdown",
   "metadata": {},
   "source": [
    "If the expression to be evaluated is known to be equal to an expression that has already been evaluated, transitivity will automatically be applied."
   ]
  },
  {
   "cell_type": "code",
   "execution_count": 47,
   "metadata": {},
   "outputs": [
    {
     "data": {
      "text/html": [
       "<strong id=\"b_eq_F\">b_eq_F:</strong> <span style=\"font-size:20px;\"><a class=\"ProveItLink\" href=\"__pv_it/616db2ca69596c2fbbc8a39044f350047720d8ca0/expr.ipynb\"><img src=\"data:image/png;base64,iVBORw0KGgoAAAANSUhEUgAAAGQAAAAVBAMAAABCslYDAAAAMFBMVEX///+IiIi6urrc3NxERETM\n",
       "zMwQEBCqqqpUVFQiIiJ2dnYyMjLu7u5mZmaYmJgAAABN0h6tAAAAAXRSTlMAQObYZgAAAUBJREFU\n",
       "OMtjYGDgu8dANIiVAZE8uxhIAGoBQILvAwPDkUxitfBuABJcE4DEXmK1gFWDie8ka2H6Q7IWMIM0\n",
       "LdyNsgVocrZrxQ6gCDDfupgDVJ0AZHIAw+D8Hp7PIN27weACkMmUzLAfLXgNuD9AwpehDBjS9QcY\n",
       "PqIqOPaA4Qo0WGeCwAKePAZeB0jYhkwG0rcZeH6harl/gGEisqsaeP8wcAqAHDUREp97GZjQgjmF\n",
       "gecrihY2B4bzoJjfAdIGtO4fA+8fhF8aGECWsn9A0XJ+AUM9NK2AQ+wTyO3IgOc7MFiKUbQUMHSz\n",
       "G0BCDKSlj8EXLYwdGV42LOD5DecHsAjwzeBCipezUg/QtJwQDG5UYJiJiBqeRlELIeQ0hgOwH8Ae\n",
       "+wl4kgf2BMP3AbeWg9jzCwOeXPkAM1cqgB1MYt4HABLPYswDaMuLAAAAAElFTkSuQmCC\n",
       "\" style=\"display:inline;vertical-align:middle;\" /></a> <a class=\"ProveItLink\" href=\"__pv_it/bfc458d72267f35777c67c8444e1b41d57051f3d0/proof.ipynb\" style=\"text-decoration: none\">&#x22A2;&nbsp;</a><a class=\"ProveItLink\" href=\"__pv_it/f0c473b37740471eb612378631aa56da77f21c070/expr.ipynb\"><img src=\"data:image/png;base64,iVBORw0KGgoAAAANSUhEUgAAADQAAAAOBAMAAACStyITAAAAMFBMVEX////MzMyYmJjc3NyIiIhU\n",
       "VFR2dna6urqqqqpmZmYyMjIiIiIQEBBERETu7u4AAACIO4EmAAAAAXRSTlMAQObYZgAAAHBJREFU\n",
       "GNNj4LuzgQETSIBJrglYpFrAJH8DTqn6BzilshlwSi11mYFDiu/Xg/cGQDprFQisRJbi+MfA74Bd\n",
       "F+cChvcJ2KWA3qpvwC7Fr8Aw/wHcrqUoUgV8h3C4kFWBdwIux09JQhefvXv3md27twIA10Um1Xfy\n",
       "AHEAAAAASUVORK5CYII=\n",
       "\" style=\"display:inline;vertical-align:middle;\" /></a></span><br>"
      ],
      "text/plain": [
       "b_eq_F: {b = a, [not](a)} |- b = FALSE"
      ]
     },
     "execution_count": 47,
     "metadata": {},
     "output_type": "execute_result"
    }
   ],
   "source": [
    "b_eq_F = b.evaluation([Equals(b, a), Not(a)])"
   ]
  },
  {
   "cell_type": "code",
   "execution_count": 48,
   "metadata": {},
   "outputs": [
    {
     "data": {
      "text/html": [
       "<table><tr><th>&nbsp;</th><th>step type</th><th>requirements</th><th>statement</th></tr>\n",
       "<tr><td><a name=\"-0x19d797f4705beb2a_step0\">0</a></td><td>instantiation</td><td><a href=\"#-0x19d797f4705beb2a_step1\">1</a>, <a href=\"#-0x19d797f4705beb2a_step2\">2</a>, <a href=\"#-0x19d797f4705beb2a_step3\">3</a></td><td><span style=\"font-size:20px;\"><a class=\"ProveItLink\" href=\"__pv_it/616db2ca69596c2fbbc8a39044f350047720d8ca0/expr.ipynb\"><img src=\"data:image/png;base64,iVBORw0KGgoAAAANSUhEUgAAAGQAAAAVBAMAAABCslYDAAAAMFBMVEX///+IiIi6urrc3NxERETM\n",
       "zMwQEBCqqqpUVFQiIiJ2dnYyMjLu7u5mZmaYmJgAAABN0h6tAAAAAXRSTlMAQObYZgAAAUBJREFU\n",
       "OMtjYGDgu8dANIiVAZE8uxhIAGoBQILvAwPDkUxitfBuABJcE4DEXmK1gFWDie8ka2H6Q7IWMIM0\n",
       "LdyNsgVocrZrxQ6gCDDfupgDVJ0AZHIAw+D8Hp7PIN27weACkMmUzLAfLXgNuD9AwpehDBjS9QcY\n",
       "PqIqOPaA4Qo0WGeCwAKePAZeB0jYhkwG0rcZeH6harl/gGEisqsaeP8wcAqAHDUREp97GZjQgjmF\n",
       "gecrihY2B4bzoJjfAdIGtO4fA+8fhF8aGECWsn9A0XJ+AUM9NK2AQ+wTyO3IgOc7MFiKUbQUMHSz\n",
       "G0BCDKSlj8EXLYwdGV42LOD5DecHsAjwzeBCipezUg/QtJwQDG5UYJiJiBqeRlELIeQ0hgOwH8Ae\n",
       "+wl4kgf2BMP3AbeWg9jzCwOeXPkAM1cqgB1MYt4HABLPYswDaMuLAAAAAElFTkSuQmCC\n",
       "\" style=\"display:inline;vertical-align:middle;\" /></a> <a class=\"ProveItLink\" href=\"__pv_it/bfc458d72267f35777c67c8444e1b41d57051f3d0/proof.ipynb\" style=\"text-decoration: none\">&#x22A2;&nbsp;</a><a class=\"ProveItLink\" href=\"__pv_it/f0c473b37740471eb612378631aa56da77f21c070/expr.ipynb\"><img src=\"data:image/png;base64,iVBORw0KGgoAAAANSUhEUgAAADQAAAAOBAMAAACStyITAAAAMFBMVEX////MzMyYmJjc3NyIiIhU\n",
       "VFR2dna6urqqqqpmZmYyMjIiIiIQEBBERETu7u4AAACIO4EmAAAAAXRSTlMAQObYZgAAAHBJREFU\n",
       "GNNj4LuzgQETSIBJrglYpFrAJH8DTqn6BzilshlwSi11mYFDiu/Xg/cGQDprFQisRJbi+MfA74Bd\n",
       "F+cChvcJ2KWA3qpvwC7Fr8Aw/wHcrqUoUgV8h3C4kFWBdwIux09JQhefvXv3md27twIA10Um1Xfy\n",
       "AHEAAAAASUVORK5CYII=\n",
       "\" style=\"display:inline;vertical-align:middle;\" /></a></span></td></tr>\n",
       "<tr><td>&nbsp;</td><td colspan=4 style=\"text-align:left\"><span style=\"font-size:20px;\"><a class=\"ProveItLink\" href=\"../../__pv_it/72df168d2bfb4e0140af90912ebf83b13772060b0/expr.ipynb\"><img src=\"data:image/png;base64,iVBORw0KGgoAAAANSUhEUgAAAAsAAAAJBAMAAAAWSsseAAAALVBMVEX///9mZmaqqqrMzMxEREQy\n",
       "MjIiIiKYmJh2dna6urrc3NxUVFSIiIju7u4AAACJHQtQAAAAAXRSTlMAQObYZgAAAEJJREFUCNdj\n",
       "YLhzeuWJAwy8Dew5bAEMHBc43nIuYOBlYHFgAAG+A2DKzgBIMF04x8BzgWGegh/DcgaG22fuiBcw\n",
       "AAATyhBrnyPYZQAAAABJRU5ErkJggg==\n",
       "\" style=\"display:inline;vertical-align:middle;\" /></a> : <a class=\"ProveItLink\" href=\"../../__pv_it/53e304ff98ebc000dbe3ef224f4637dbafd46ba70/expr.ipynb\"><img src=\"data:image/png;base64,iVBORw0KGgoAAAANSUhEUgAAAAkAAAAOBAMAAAAPuiubAAAALVBMVEX///+YmJjc3NyIiIhUVFR2\n",
       "dna6urqqqqpmZmYyMjIiIiIQEBBERETu7u4AAAALjtrwAAAAAXRSTlMAQObYZgAAAE9JREFUCNdj\n",
       "4D29gAEIOBtAJF8BiMy7ACKjQATDFON2BgbelxfuKTCwv2XgM2DgmMBwLwCkPK+AgU+Aoe8CA18C\n",
       "70YGBhYBHqARvM2BDAwAqXgQspq5HJAAAAAASUVORK5CYII=\n",
       "\" style=\"display:inline;vertical-align:middle;\" /></a>, <a class=\"ProveItLink\" href=\"../../__pv_it/c6e291955561f22a0e6708fd793ea93f1c7dbb5d0/expr.ipynb\"><img src=\"data:image/png;base64,iVBORw0KGgoAAAANSUhEUgAAAAsAAAANBAMAAACN24kIAAAAMFBMVEX///8iIiKYmJhUVFTMzMxE\n",
       "REQyMjKqqqq6urp2dnYQEBDc3NxmZmaIiIju7u4AAACH5sGpAAAAAXRSTlMAQObYZgAAAFlJREFU\n",
       "CNdj4LtzgWHXAwZOjgUM9xkYtvMkMIQyMDzgusDwl4GBof8ByxcgdYyBdwGQCmZgNQBShxn6FYDU\n",
       "47vnNzAwgGUZGJgT+H4AKUYF1gtAiuPuESAJAJGkFvXVdzA+AAAAAElFTkSuQmCC\n",
       "\" style=\"display:inline;vertical-align:middle;\" /></a> : <a class=\"ProveItLink\" href=\"../../__pv_it/a8d4b3a34d2189508f9082853fbac36935714f280/expr.ipynb\"><img src=\"data:image/png;base64,iVBORw0KGgoAAAANSUhEUgAAAAsAAAAJBAMAAAAWSsseAAAAMFBMVEX///9UVFSqqqrMzMwiIiJE\n",
       "RESYmJgyMjK6urru7u4QEBCIiIh2dnZmZmbc3NwAAABRgo0vAAAAAXRSTlMAQObYZgAAAEdJREFU\n",
       "CNdjYOC7c3slAwND1wP2DwwMnMsYeAMYGHh/MrBsYGDgCmCYb8DAMP8Agz5QxXwFBnGmBwysG9gc\n",
       "eYAqpTc/3MEAAP4BD32xAXDqAAAAAElFTkSuQmCC\n",
       "\" style=\"display:inline;vertical-align:middle;\" /></a>, <a class=\"ProveItLink\" href=\"../../__pv_it/0d889e00aed425c3081fbda3ac9194ae911895960/expr.ipynb\"><img src=\"data:image/png;base64,iVBORw0KGgoAAAANSUhEUgAAAAoAAAAJBAMAAAD5iKAgAAAAMFBMVEX///8yMjJ2dnaqqqpUVFTc\n",
       "3NxmZmaIiIhERETu7u6YmJjMzMwQEBAiIiK6uroAAABWQA0ZAAAAAXRSTlMAQObYZgAAADZJREFU\n",
       "CNdjYOC782AXA8OM5WkNDAwTGCIYgIC7E0Q+ARHMDiDSjIHBgYH7llbhAwY2hjVyDABOxArzLvBK\n",
       "ugAAAABJRU5ErkJggg==\n",
       "\" style=\"display:inline;vertical-align:middle;\" /></a> : <a class=\"ProveItLink\" href=\"../boolean/__pv_it/83a1ddf0f64531c80e7f41ea6b904214668818b30/expr.ipynb\"><img src=\"data:image/png;base64,iVBORw0KGgoAAAANSUhEUgAAAA4AAAAOBAMAAADtZjDiAAAAG1BMVEX///9UVFQQEBAiIiJmZmaI\n",
       "iIiqqqrMzMwAAADC2JlRAAAAAXRSTlMAQObYZgAAABlJREFUCNdjYGBgKGOAgFRa0s7GxkrGxoYA\n",
       "QSUGlQeagkgAAAAASUVORK5CYII=\n",
       "\" style=\"display:inline;vertical-align:middle;\" /></a></span></td></tr><tr><td><a name=\"-0x19d797f4705beb2a_step1\">1</a></td><td>axiom</td><td></td><td><span style=\"font-size:20px;\"> <a class=\"ProveItLink\" href=\"_axioms_.ipynb#equalsTransitivity\" style=\"text-decoration: none\">&#x22A2;&nbsp;</a><a class=\"ProveItLink\" href=\"__pv_it/62a78d8298863a1032c900aff4af282587b901b20/expr.ipynb\"><img src=\"data:image/png;base64,iVBORw0KGgoAAAANSUhEUgAAANEAAAAWBAMAAACs+WTQAAAAMFBMVEX///8QEBCIiIhmZma6urrM\n",
       "zMxUVFQiIiJERETc3Nzu7u6qqqp2dnaYmJgyMjIAAAAcRTyBAAAAAXRSTlMAQObYZgAAAnJJREFU\n",
       "SMetVU1oE0EU/prsTzfZJB4UBEGCgVKCh1wEQQ+hgkXwZ+NBxYsl2INQJYd6UKTkmBYiudQWQVyh\n",
       "KK0eAoKgUFhyTKUGFVSIsKB4KFSCIPhz8c3sZrOu2djAPFi+mfeY+d6+980MIM7uhYee02ezwUcR\n",
       "RLFyeEypARtssCWCKVkbkAX90DKhVhbB9GZQsEGZmIBeF8F0Y1DwAZBorq0tiSDSSgNLmwd+VCq3\n",
       "RDBFctSOA1cmGsHA5G65BZ2i08B8yGJpGKbRFvAE79JzbLL5ldknLoZq5jCVjiRxjAuj/+JhmFRq\n",
       "dhOvzBNB2XHBxam2KiItEUwj1AkTlT6RCyQ6uUPCa6kQxQR869ODKThMmn2O6f3QmEHOMaiUAJa2\n",
       "FntMeubstLtoYgo3e8AVN7dq9KoH+bszcfr0hY+fcTqmzPnLJBzzmko56SmzwPxH2ukeU1axZ5UK\n",
       "WRXWL3kXeRi4nuh6w6eIF5EOsoFfiuegOIrAU6KTsc28dycxzsOPfdUzkt0+aiulSNkDt+HdU086\n",
       "ln6PdrRg08+3X38GohYNUzz/n9x9FEW+PO/vU8q70KKWku4BtxWvHSXEitnMP5d1LrGfdkuyGidM\n",
       "3jGZuWexh8EiLvqYLsFQWNm3oeZH2AoGrkczZHMnt9Gj7uC+butYNnFd6hBoM+tlj0nrbMLqnhnj\n",
       "DLQFDq7d2Xi/0xvWsYdvG00U6jg+bhMk5L2mxxS7evJgN22peBvyPg6utQoL3pn4z6vht3qsxhRU\n",
       "Dz1Pq6iSmBwY6iUMZBGvKdZpBqFMM5LNXmoOQ73uH/6eJiC1LQahTKdesoI5INSiIjf7A4jqrxun\n",
       "Ivq8AAAAAElFTkSuQmCC\n",
       "\" style=\"display:inline;vertical-align:middle;\" /></a></span></td></tr>\n",
       "<tr><td>&nbsp;</td><td colspan=4 style-\"text-align:left\"><a class=\"ProveItLink\" href=\"_axioms_.ipynb#equalsTransitivity\">proveit.logic.equality.equalsTransitivity</a></td></tr><tr><td><a name=\"-0x19d797f4705beb2a_step2\">2</a></td><td>assumption</td><td></td><td><span style=\"font-size:20px;\"><a class=\"ProveItLink\" href=\"__pv_it/b19751033b102346864afab497c194bf4222cc500/expr.ipynb\"><img src=\"data:image/png;base64,iVBORw0KGgoAAAANSUhEUgAAAEIAAAAVBAMAAAAA8SWUAAAAMFBMVEX///+IiIi6urrc3NxERETM\n",
       "zMwQEBCqqqpUVFQiIiJ2dnYyMjLu7u5mZmaYmJgAAABN0h6tAAAAAXRSTlMAQObYZgAAAO1JREFU\n",
       "KM9jYGDgu8eAC8TKgEieXQy4gVoAkOD7wMBwJBOHCt4NQIJrApDYi0MFWBJMfCekgukPIRVgBl4V\n",
       "3I2yBWhyzLcu5gAlE4BMDqBzz+/h+QxSvBsMLoD9acD9AeJRhjKgl+sPMHxENYInj4HXAeLJkMlA\n",
       "+jYDzy+0gPjDwCkAsmEiJNj2MjCh+ZfNgeE8KDx3gFQBDfsH0gN3RwOQeX4BQz00wMF++cRw7AGq\n",
       "GecLGLrZDSB+AanoY/BF8yyLAN8MLqTwOCuFZgQDT6OohRByvDDgDdMEQirAzmXAlz4Y8KYxBRDJ\n",
       "jj+dAgA+5ka/M9EKPAAAAABJRU5ErkJggg==\n",
       "\" style=\"display:inline;vertical-align:middle;\" /></a> <a class=\"ProveItLink\" href=\"__pv_it/288e72ed815532e9aabad77cb3e5afb4908716140/proof.ipynb\" style=\"text-decoration: none\">&#x22A2;&nbsp;</a><a class=\"ProveItLink\" href=\"__pv_it/1a5700eb8b69fd9f1f9cdd108000bdcc6cff89340/expr.ipynb\"><img src=\"data:image/png;base64,iVBORw0KGgoAAAANSUhEUgAAADAAAAAOBAMAAACbXIJpAAAAMFBMVEX////MzMyYmJjc3NyIiIhU\n",
       "VFR2dna6urqqqqpmZmYyMjIiIiIQEBBERETu7u4AAACIO4EmAAAAAXRSTlMAQObYZgAAAJVJREFU\n",
       "GNNj4LuzgQE74JqAQ4K/AYdE/QMcEtk4xBmWusxAF7LM9HnAwPfrwXsDICdrFQisBImzH2ZYz8DA\n",
       "8Y+B3wFVwxsFhrkMDJwLGN4noErMf8CwBeyNejQHn2Xg+wj0hgJIBcyOpUAW3zcGjg9AiQK+Q6ga\n",
       "+H4wsC5oZmBV4EUPkysM2gEJDHxTktC98dRFOKQAAF7kLE3dFJTRAAAAAElFTkSuQmCC\n",
       "\" style=\"display:inline;vertical-align:middle;\" /></a></span></td></tr>\n",
       "<tr><td><a name=\"-0x19d797f4705beb2a_step3\">3</a></td><td>instantiation</td><td><a href=\"#-0x19d797f4705beb2a_step4\">4</a>, <a href=\"#-0x19d797f4705beb2a_step5\">5</a></td><td><span style=\"font-size:20px;\"><a class=\"ProveItLink\" href=\"__pv_it/a622860fb40b41122e3c7c6d48e8a5c2d4d300b60/expr.ipynb\"><img src=\"data:image/png;base64,iVBORw0KGgoAAAANSUhEUgAAACsAAAAVBAMAAAAtAwouAAAAMFBMVEX///+IiIi6urrc3NxERETM\n",
       "zMwQEBCqqqpUVFQiIiJ2dnYyMjLu7u5mZmaYmJgAAABN0h6tAAAAAXRSTlMAQObYZgAAAKpJREFU\n",
       "GNNjYGDgu8eADFgvHgBRPLsYUAFTKojk+4AmzHAbRHBNQBdeSRNh27ViQNctAzE5NiCclsywH0i9\n",
       "B7HLAhgYbs4EglkMxx4wXAGKcF9gYAiZDFNrwXD/AMNEEKtTgIFBLQAunMLA8xWkugFktgNMmOcX\n",
       "A/sHmNlwl1jwfAfaXwx1CVyYlcGR4WXDAkx3nxAMblQg4MsErMI4wpsBI3aSwBQ7lrgEAOL0NFQf\n",
       "ymOgAAAAAElFTkSuQmCC\n",
       "\" style=\"display:inline;vertical-align:middle;\" /></a> <a class=\"ProveItLink\" href=\"__pv_it/3edaa7b4314e0a0143f3ceea3ca0be23e4d73fbb0/proof.ipynb\" style=\"text-decoration: none\">&#x22A2;&nbsp;</a><a class=\"ProveItLink\" href=\"__pv_it/c96c5edb56cb6ff7bef12d450777ba400f0b0b070/expr.ipynb\"><img src=\"data:image/png;base64,iVBORw0KGgoAAAANSUhEUgAAADYAAAAOBAMAAACWQvIuAAAAMFBMVEX///9UVFSqqqrMzMwiIiJE\n",
       "RESYmJgyMjK6urru7u4QEBCIiIh2dnZmZmbc3NwAAABRgo0vAAAAAXRSTlMAQObYZgAAAGNJREFU\n",
       "GNNjYMAOjBhwA22ayfHdub0Sl1zXA/YPIPp4OQjUIstxLmPgDcChj/cnA8sGHHJcAQzzDXDIzT/A\n",
       "oM+AsK8QRU6BQZzpAXZ9rBvYHHlwmMkpvfnhDjSJKy4uq1xcHAG3Xxuk5NsGEAAAAABJRU5ErkJg\n",
       "gg==\n",
       "\" style=\"display:inline;vertical-align:middle;\" /></a></span></td></tr>\n",
       "<tr><td>&nbsp;</td><td colspan=4 style=\"text-align:left\"><span style=\"font-size:20px;\"><a class=\"ProveItLink\" href=\"../../__pv_it/d3792d0d8642fdf1cd2a3a9b32c673ee13653de00/expr.ipynb\"><img src=\"data:image/png;base64,iVBORw0KGgoAAAANSUhEUgAAAA8AAAAOBAMAAAACpFvcAAAALVBMVEX///8iIiIQEBBERERUVFS6\n",
       "urqIiIjc3NxmZmaqqqru7u6YmJgyMjLMzMwAAACK9jtgAAAAAXRSTlMAQObYZgAAAFtJREFUCNdj\n",
       "YACBOwxQcA5Kc59bAGGs7CuAMDbkBYBp1gXzNoAZSxnuJYAZAQx1DSCa16PDzwCshIGB6QCIMYGB\n",
       "gVEBSLMDGTwPgIxCIGZ+zsCw+N0pBk67hw0AfpEVEQi8t+wAAAAASUVORK5CYII=\n",
       "\" style=\"display:inline;vertical-align:middle;\" /></a> : <a class=\"ProveItLink\" href=\"../../__pv_it/a8d4b3a34d2189508f9082853fbac36935714f280/expr.ipynb\"><img src=\"data:image/png;base64,iVBORw0KGgoAAAANSUhEUgAAAAsAAAAJBAMAAAAWSsseAAAAMFBMVEX///9UVFSqqqrMzMwiIiJE\n",
       "RESYmJgyMjK6urru7u4QEBCIiIh2dnZmZmbc3NwAAABRgo0vAAAAAXRSTlMAQObYZgAAAEdJREFU\n",
       "CNdjYOC7c3slAwND1wP2DwwMnMsYeAMYGHh/MrBsYGDgCmCYb8DAMP8Agz5QxXwFBnGmBwysG9gc\n",
       "eYAqpTc/3MEAAP4BD32xAXDqAAAAAElFTkSuQmCC\n",
       "\" style=\"display:inline;vertical-align:middle;\" /></a></span></td></tr><tr><td><a name=\"-0x19d797f4705beb2a_step4\">4</a></td><td>axiom</td><td></td><td><span style=\"font-size:20px;\"> <a class=\"ProveItLink\" href=\"../boolean/negation/_axioms_.ipynb#negationElim\" style=\"text-decoration: none\">&#x22A2;&nbsp;</a><a class=\"ProveItLink\" href=\"../boolean/negation/__pv_it/22bd342d68dbc19f9504d702df4ef3f4fe1381ad0/expr.ipynb\"><img src=\"data:image/png;base64,iVBORw0KGgoAAAANSUhEUgAAAJcAAAAWBAMAAAA/XRM3AAAAMFBMVEX///8QEBCIiIhmZma6urrM\n",
       "zMxUVFQiIiJERETc3Nzu7u6qqqp2dnaYmJgyMjIAAAAcRTyBAAAAAXRSTlMAQObYZgAAAbRJREFU\n",
       "OMtjYCAWcF7AL78TiB+AGHeJMGwFhIrDIhUNItgmMDCcBjFeEWHYSwj1HovUJhDBBXTWDJAPGgib\n",
       "xWsAod4vwGEYwyEGBj6gJM8GwoaxTwBTq+0n4DJsIdCqU6tWTSfCl1A1F/QdcBnGB5T50dFRQ4Rh\n",
       "ymCSZcH+C7gM4wEGRCoDQyeYAyFZUNV1whi9YHIJQ7wCiD73DgQeoxjGC4wBZ3A8ANlfwEIcqMH+\n",
       "BcaqBpMODPMNcLmMuwAYsgxMYJcv/ovFMKggEIiACNZk4/wGXIaxfgB69QI7mH2qGIthUEGYYcAw\n",
       "YHyAzzDOB2FgpkIHpmEwQZg3gUmIXQARZs9QDGMpAIVxCjg3MJhjGgYThEYAJ9Awvg+4XAaKAIbN\n",
       "IBMZbjPoIxl2oqOj4wFCEAgOQ9Max09chjEfABL8oMjmenymfwGqyxIQgkDgDszq/18xcPd/R4tO\n",
       "8/JywfLyMqCbA0DOA6lnXsAwPwDdMLggIjvhAcvhLF+gCy+gGwYXRGR0POAQjMHxg4GzvxbVsAkI\n",
       "QZS8gANwYUkzHAQKR5yAYwIJhhEqtm8ykGAYOYCZAr0AOed5gytoZ+0AAAAASUVORK5CYII=\n",
       "\" style=\"display:inline;vertical-align:middle;\" /></a></span></td></tr>\n",
       "<tr><td>&nbsp;</td><td colspan=4 style-\"text-align:left\"><a class=\"ProveItLink\" href=\"../boolean/negation/_axioms_.ipynb#negationElim\">proveit.logic.boolean.negation.negationElim</a></td></tr><tr><td><a name=\"-0x19d797f4705beb2a_step5\">5</a></td><td>assumption</td><td></td><td><span style=\"font-size:20px;\"><a class=\"ProveItLink\" href=\"__pv_it/a622860fb40b41122e3c7c6d48e8a5c2d4d300b60/expr.ipynb\"><img src=\"data:image/png;base64,iVBORw0KGgoAAAANSUhEUgAAACsAAAAVBAMAAAAtAwouAAAAMFBMVEX///+IiIi6urrc3NxERETM\n",
       "zMwQEBCqqqpUVFQiIiJ2dnYyMjLu7u5mZmaYmJgAAABN0h6tAAAAAXRSTlMAQObYZgAAAKpJREFU\n",
       "GNNjYGDgu8eADFgvHgBRPLsYUAFTKojk+4AmzHAbRHBNQBdeSRNh27ViQNctAzE5NiCclsywH0i9\n",
       "B7HLAhgYbs4EglkMxx4wXAGKcF9gYAiZDFNrwXD/AMNEEKtTgIFBLQAunMLA8xWkugFktgNMmOcX\n",
       "A/sHmNlwl1jwfAfaXwx1CVyYlcGR4WXDAkx3nxAMblQg4MsErMI4wpsBI3aSwBQ7lrgEAOL0NFQf\n",
       "ymOgAAAAAElFTkSuQmCC\n",
       "\" style=\"display:inline;vertical-align:middle;\" /></a> <a class=\"ProveItLink\" href=\"__pv_it/53245b1007d7d45698f5fc64db330871ed8106000/proof.ipynb\" style=\"text-decoration: none\">&#x22A2;&nbsp;</a><a class=\"ProveItLink\" href=\"__pv_it/36d3adf27012f2f3b2867a6e7960c7ab31c86c260/expr.ipynb\"><img src=\"data:image/png;base64,iVBORw0KGgoAAAANSUhEUgAAABgAAAAJBAMAAADa0/H1AAAAMFBMVEX///+qqqpERESYmJgyMjK6\n",
       "urru7u4QEBCIiIjMzMxUVFTc3Nx2dnYiIiJmZmYAAAA3+v/5AAAAAXRSTlMAQObYZgAAAE5JREFU\n",
       "CNdjYICCfefaE2Bs1moGfwaGt3eB4A5DugHDI6j4Lob3CQw34JwiBrafMA7bHwbGD3DORwYuB2kI\n",
       "h5NBg8F2wQGY0Vkds1cEAACuqhgbjxth7gAAAABJRU5ErkJggg==\n",
       "\" style=\"display:inline;vertical-align:middle;\" /></a></span></td></tr>\n",
       "</table>"
      ],
      "text/plain": [
       "\tstep type\trequirements\tstatement\n",
       "0\tinstantiation\t1, 2, 3\t{b = a, [not](a)} |- b = FALSE\n",
       "\tx : b, y : a, z : FALSE\n",
       "1\taxiom\t\t|- forall_{x, y, z | x = y, y = z} (x = z)\n",
       "\tproveit.logic.equality.equalsTransitivity\n",
       "2\tassumption\t\t{b = a} |- b = a\n",
       "3\tinstantiation\t4, 5\t{[not](a)} |- a = FALSE\n",
       "\tA : a\n",
       "4\taxiom\t\t|- forall_{A | [not](A)} (A = FALSE)\n",
       "\tproveit.logic.boolean.negation.negationElim\n",
       "5\tassumption\t\t{[not](a)} |- [not](a)"
      ]
     },
     "execution_count": 48,
     "metadata": {},
     "output_type": "execute_result"
    }
   ],
   "source": [
    "b_eq_F.proof()"
   ]
  },
  {
   "cell_type": "markdown",
   "metadata": {},
   "source": [
    "When evaluating an expression, an evaluation of the operands will be attempted.  The operation class is responsible for overridding the `evaluation` method, or `doReducedEvaluation` (called by the default `Expression.evaluation` method that first reduces the operation by evaluating its operands) in order to properly treat the operation applied to irreducible values or generate a more efficient proof as appropriate."
   ]
  },
  {
   "cell_type": "code",
   "execution_count": 49,
   "metadata": {},
   "outputs": [],
   "source": [
    "from proveit.logic import Or, Not, inBool"
   ]
  },
  {
   "cell_type": "code",
   "execution_count": 50,
   "metadata": {},
   "outputs": [
    {
     "data": {
      "text/html": [
       "<strong id=\"nested_eval\">nested_eval:</strong> <span style=\"font-size:20px;\"><a class=\"ProveItLink\" href=\"__pv_it/48acfa5b951060960660a168f0d03951a30d5af10/expr.ipynb\"><img src=\"data:image/png;base64,iVBORw0KGgoAAAANSUhEUgAAAB0AAAAVBAMAAABI7vhRAAAAMFBMVEX///+IiIi6urrc3NxERETM\n",
       "zMwQEBCqqqpUVFQiIiJ2dnYyMjLu7u5mZmaYmJgAAABN0h6tAAAAAXRSTlMAQObYZgAAAJpJREFU\n",
       "GNNjYGDgu8cABqwXD4Aonl0MUMCUCiL5PsD4DLdBBNcEOH8l2XzbtWJAy5aB+BwbgDYlM+wHMt+D\n",
       "+GUBDAzHHjBcATK5LzAwhEwGMu4fYJgIkusUYGBQA8qnMPB8Bck3gPQ7MPD8YmD/ANMPNJ/nO9DU\n",
       "Yqj5IPscGV42LECy/4RgcKMCLvcloPLR/c+ACJ8kMMWOHH4AMR0vmFpOTQ8AAAAASUVORK5CYII=\n",
       "\" style=\"display:inline;vertical-align:middle;\" /></a> <a class=\"ProveItLink\" href=\"__pv_it/be882b7eabc8c7703a8b90979ae9b02f1ad8a8160/proof.ipynb\" style=\"text-decoration: none\">&#x22A2;&nbsp;</a><a class=\"ProveItLink\" href=\"__pv_it/5dda1d6452c21c32a8457ceea3ed528da19691650/expr.ipynb\"><img src=\"data:image/png;base64,iVBORw0KGgoAAAANSUhEUgAAAIQAAAAUBAMAAAC+DIjXAAAAMFBMVEX///9UVFTMzMx2dna6uroQ\n",
       "EBCqqqqIiIgiIiJmZmYyMjJERETu7u6YmJjc3NwAAAC+aOQFAAAAAXRSTlMAQObYZgAAAXRJREFU\n",
       "OMtjYOC7wIAJ0ATzoBgHOE2EIOMDCEYFMzpAoJGBYR1ciAlMKoCIdaiKeRZAMAZIBxG8ExB2gXTz\n",
       "FqAKQoA5FGM1ggPhPiYBEP8AqiAEHIVirEa8QBIAOd8TXRAMuBwgGKsRlaDwnzw9BsTOBOJ9MEFY\n",
       "3IDlmCdAMFYj9gKx6wOuD2BPAT2zASYIBRA53gUQzMBgtQoEViIb0QYM61gGTrBO9gIGRgeoICc4\n",
       "xgygcmwNEIzVFSFA1X8YOArAcdfAcIoBKgjxhQBUjukDBOMygnUDw3lwamCYxmCGZgRUDq8RQDef\n",
       "N2DIh4i8YoA4tg1uBFSOpQGCYWGxEC04zycwSLGBUwK3LthD8OAEGgGRQwQnFldYAjUW8DYyQxKX\n",
       "xAEGqCAEKEDlOA0gGKsRHsBQFC96WAIRgkaWByJ3QOS4FCAYHfgyYKTlNxAKI4GfgGKsgHcCMYK4\n",
       "shkE7CNCEGdmJ77I4X4AwTgAMQXfPSjGCgDXi28zgSfMDQAAAABJRU5ErkJggg==\n",
       "\" style=\"display:inline;vertical-align:middle;\" /></a></span><br>"
      ],
      "text/plain": [
       "nested_eval: {a} |- (a or [not](a)) = TRUE"
      ]
     },
     "execution_count": 50,
     "metadata": {},
     "output_type": "execute_result"
    }
   ],
   "source": [
    "nested_eval = Or(a, Not(a)).evaluation([a])"
   ]
  },
  {
   "cell_type": "markdown",
   "metadata": {},
   "source": [
    "## Boolean equality\n",
    "\n",
    "Equality with `TRUE` ($\\top$) or `FALSE` ($\\bot$) has special logical consequences.  The `Equals` object has automation capabilities to treat these special kinds of equations."
   ]
  },
  {
   "cell_type": "code",
   "execution_count": 51,
   "metadata": {},
   "outputs": [
    {
     "data": {
      "text/html": [
       "<a class=\"ProveItLink\" href=\"../boolean/__pv_it/b5b8ce0f03ab68a7c7bb937dfeb4112a686e3cbb0/expr.ipynb\"><img src=\"data:image/png;base64,iVBORw0KGgoAAAANSUhEUgAAAA4AAAAOBAMAAADtZjDiAAAAG1BMVEX///+YmJi6urqIiIiqqqpU\n",
       "VFQiIiJmZmYAAAD2GhH1AAAAAXRSTlMAQObYZgAAABhJREFUCNdjKEsDgVQGIHBmgABa0YpADADk\n",
       "ogYfXGfJdgAAAABJRU5ErkJggg==\n",
       "\" style=\"display:inline;vertical-align:middle;\" /></a>"
      ],
      "text/plain": [
       "TRUE"
      ]
     },
     "execution_count": 51,
     "metadata": {},
     "output_type": "execute_result"
    }
   ],
   "source": [
    "TRUE"
   ]
  },
  {
   "cell_type": "code",
   "execution_count": 52,
   "metadata": {},
   "outputs": [
    {
     "data": {
      "text/html": [
       "<a class=\"ProveItLink\" href=\"../boolean/__pv_it/83a1ddf0f64531c80e7f41ea6b904214668818b30/expr.ipynb\"><img src=\"data:image/png;base64,iVBORw0KGgoAAAANSUhEUgAAAA4AAAAOBAMAAADtZjDiAAAAG1BMVEX///9UVFQQEBAiIiJmZmaI\n",
       "iIiqqqrMzMwAAADC2JlRAAAAAXRSTlMAQObYZgAAABlJREFUCNdjYGBgKGOAgFRa0s7GxkrGxoYA\n",
       "QSUGlQeagkgAAAAASUVORK5CYII=\n",
       "\" style=\"display:inline;vertical-align:middle;\" /></a>"
      ],
      "text/plain": [
       "FALSE"
      ]
     },
     "execution_count": 52,
     "metadata": {},
     "output_type": "execute_result"
    }
   ],
   "source": [
    "FALSE"
   ]
  },
  {
   "cell_type": "markdown",
   "metadata": {},
   "source": [
    "Proofs via boolean equality are automatic via `Equals.deduceSideEffects`:"
   ]
  },
  {
   "cell_type": "code",
   "execution_count": 53,
   "metadata": {},
   "outputs": [
    {
     "data": {
      "text/html": [
       "<span style=\"font-size:20px;\"><a class=\"ProveItLink\" href=\"__pv_it/62c28ef2324db75efb4aea7ef100382ce35d74b40/expr.ipynb\"><img src=\"data:image/png;base64,iVBORw0KGgoAAAANSUhEUgAAAEkAAAAVBAMAAAD4Ed5jAAAAMFBMVEX///+IiIi6urrc3NxERETM\n",
       "zMwQEBCqqqpUVFQiIiJ2dnYyMjLu7u5mZmaYmJgAAABN0h6tAAAAAXRSTlMAQObYZgAAAL9JREFU\n",
       "KM9jYGDgu8eAB7BePACieHYx4AVMqSCS7wNWSd6ZYNDAwHAbxOWagMsUdgEwtXIAVdmuFTuAS9Uy\n",
       "EMGxAejbZIb9YB27weACiqr3IKIsgIHh2AOGKzht5AZqCpkMZNw/wDARpyqGTiCtBjQrhYHnK26z\n",
       "GkDucmDg+cXA/gHJXQ2Y7gL6kec70A/FeP0ICglHhpcNCwiG1wnB4EYFzNTwgJiwhwKIqgRiVOFI\n",
       "XwgATl8MhNJqEsQrhNM9ACKHP9lwymqSAAAAAElFTkSuQmCC\n",
       "\" style=\"display:inline;vertical-align:middle;\" /></a> <a class=\"ProveItLink\" href=\"__pv_it/67d53e9b9f9cd02cfecf619133e96e02323a288c0/proof.ipynb\" style=\"text-decoration: none\">&#x22A2;&nbsp;</a><a class=\"ProveItLink\" href=\"../../__pv_it/a8d4b3a34d2189508f9082853fbac36935714f280/expr.ipynb\"><img src=\"data:image/png;base64,iVBORw0KGgoAAAANSUhEUgAAAAsAAAAJBAMAAAAWSsseAAAAMFBMVEX///9UVFSqqqrMzMwiIiJE\n",
       "RESYmJgyMjK6urru7u4QEBCIiIh2dnZmZmbc3NwAAABRgo0vAAAAAXRSTlMAQObYZgAAAEdJREFU\n",
       "CNdjYOC7c3slAwND1wP2DwwMnMsYeAMYGHh/MrBsYGDgCmCYb8DAMP8Agz5QxXwFBnGmBwysG9gc\n",
       "eYAqpTc/3MEAAP4BD32xAXDqAAAAAElFTkSuQmCC\n",
       "\" style=\"display:inline;vertical-align:middle;\" /></a></span>"
      ],
      "text/plain": [
       "{a = TRUE} |- a"
      ]
     },
     "execution_count": 53,
     "metadata": {},
     "output_type": "execute_result"
    }
   ],
   "source": [
    "a.prove([Equals(a, TRUE)])"
   ]
  },
  {
   "cell_type": "code",
   "execution_count": 54,
   "metadata": {},
   "outputs": [
    {
     "data": {
      "text/html": [
       "<span style=\"font-size:20px;\"><a class=\"ProveItLink\" href=\"__pv_it/1ddb3a855c34257eb488ae62f2e8cd060efb33a90/expr.ipynb\"><img src=\"data:image/png;base64,iVBORw0KGgoAAAANSUhEUgAAAEcAAAAVBAMAAADm2O7QAAAAMFBMVEX///+IiIi6urrc3NxERETM\n",
       "zMwQEBCqqqpUVFQiIiJ2dnYyMjLu7u5mZmaYmJgAAABN0h6tAAAAAXRSTlMAQObYZgAAAMxJREFU\n",
       "KM9jYGDgu8eAG7BePACieHYx4ANMqSCS7wMDw5FMbIYUgKnbIIJrApDYi0URuwCYWglX9J0IRUx/\n",
       "iFAENo2QIu5G2QJcipaBCI4NDAzn9/B8BqnfDQYXUBS9BxFlAQwM9QcYPuIyiRuoJ2QyOCx4fuFS\n",
       "xNAJpNUCQMHE9B2nSQ0gNzkwMPxj4P2DcFMDpptAvvvEcOwBXt+BFPUx+BIOp7NS6Abxzpw5LXPm\n",
       "zAbkuMMDIIoSiFAESk/4ADg9MRBImUkQXxBM4wDxiEMosiZDFAAAAABJRU5ErkJggg==\n",
       "\" style=\"display:inline;vertical-align:middle;\" /></a> <a class=\"ProveItLink\" href=\"__pv_it/24a69dfaafbfbd1eb4961c0bb74f5707edfbe3c20/proof.ipynb\" style=\"text-decoration: none\">&#x22A2;&nbsp;</a><a class=\"ProveItLink\" href=\"__pv_it/f27cf97edc719b4d6c20c9e3adda8325948bcfd10/expr.ipynb\"><img src=\"data:image/png;base64,iVBORw0KGgoAAAANSUhEUgAAABYAAAAOBAMAAADZH/H+AAAAMFBMVEX///+YmJiIiIi6urqqqqoy\n",
       "MjIQEBBERETu7u7MzMxUVFTc3Nx2dnYiIiJmZmYAAAAkdzffAAAAAXRSTlMAQObYZgAAAFlJREFU\n",
       "CNdjYICA9lwGBIhDYn9BMJl/INg8FxBs1kV6DjB2fwTHb4a3d4HgDoN/A8MniOguhqcMHH9g7DgG\n",
       "5i8w9kcGvh8w9meGNgEIm5NhIUMd3Pw+HQEGAC4WGbM+budoAAAAAElFTkSuQmCC\n",
       "\" style=\"display:inline;vertical-align:middle;\" /></a></span>"
      ],
      "text/plain": [
       "{b = FALSE} |- [not](b)"
      ]
     },
     "execution_count": 54,
     "metadata": {},
     "output_type": "execute_result"
    }
   ],
   "source": [
    "Not(b).prove([Equals(b, FALSE)])"
   ]
  },
  {
   "cell_type": "markdown",
   "metadata": {},
   "source": [
    "Going the other direction, boolean equalities are proven automatically via `Equals.conclude`:"
   ]
  },
  {
   "cell_type": "code",
   "execution_count": 55,
   "metadata": {},
   "outputs": [
    {
     "data": {
      "text/html": [
       "<span style=\"font-size:20px;\"><a class=\"ProveItLink\" href=\"__pv_it/d566bd845d660e66635331d72d5c44787f9fd7800/expr.ipynb\"><img src=\"data:image/png;base64,iVBORw0KGgoAAAANSUhEUgAAAB8AAAAVBAMAAABMGyhsAAAAMFBMVEX///+IiIi6urrc3NxERETM\n",
       "zMwQEBCqqqpUVFQiIiJ2dnYyMjLu7u5mZmaYmJgAAABN0h6tAAAAAXRSTlMAQObYZgAAAJtJREFU\n",
       "GNNjYGDgu8cAAawXD4Aonl0MMMCUCiL5PsAFGG6DCK4JCIGVlAgclDCSEmBgWAYS4NgAtHoB30RO\n",
       "IP0eJFAWAFR1gOsPkwEDA/cFBoaQySDHMbA4gA3pBOpTCwCx+AVAJHcDyAywXDxY+D3MFvYD8gyM\n",
       "B6C2gAT0C/wZ7JDdcULw4L0HuF2agCaAER4MSCGWBKbYUcIUAOvsKucm7rOlAAAAAElFTkSuQmCC\n",
       "\" style=\"display:inline;vertical-align:middle;\" /></a> <a class=\"ProveItLink\" href=\"__pv_it/f93d284cf2fe9cede3c40c4f4feee4f98e2e3b910/proof.ipynb\" style=\"text-decoration: none\">&#x22A2;&nbsp;</a><a class=\"ProveItLink\" href=\"__pv_it/4257c3ec17e457a3ab208a56fecb50f8f1ee76750/expr.ipynb\"><img src=\"data:image/png;base64,iVBORw0KGgoAAAANSUhEUgAAADYAAAAOBAMAAACWQvIuAAAALVBMVEX///9mZmaqqqrMzMxEREQy\n",
       "MjIiIiKYmJh2dna6urrc3NxUVFSIiIju7u4AAACJHQtQAAAAAXRSTlMAQObYZgAAAGRJREFUGNNj\n",
       "YMACxNJAIJsBB9BhwA0ok7tzeuWJA9jleBvYc9gCgIzWUBAIRJbjuMDxlnMBDn0MLA643cJ3ALec\n",
       "nQGYgtgXjSzHdOEcA88F7PrmKfgxLMdh5u0zd8QLMOWmAzEAHRUamS/npncAAAAASUVORK5CYII=\n",
       "\" style=\"display:inline;vertical-align:middle;\" /></a></span>"
      ],
      "text/plain": [
       "{x} |- x = TRUE"
      ]
     },
     "execution_count": 55,
     "metadata": {},
     "output_type": "execute_result"
    }
   ],
   "source": [
    "Equals(x, TRUE).prove([x])"
   ]
  },
  {
   "cell_type": "code",
   "execution_count": 56,
   "metadata": {},
   "outputs": [
    {
     "data": {
      "text/html": [
       "<span style=\"font-size:20px;\"><a class=\"ProveItLink\" href=\"__pv_it/9f90d0e84ceaf25a1dcdc3941108fa12a74e92820/expr.ipynb\"><img src=\"data:image/png;base64,iVBORw0KGgoAAAANSUhEUgAAAB0AAAAVBAMAAABI7vhRAAAAMFBMVEX///+IiIi6urrc3NxERETM\n",
       "zMwQEBCqqqpUVFQiIiJ2dnYyMjLu7u5mZmaYmJgAAABN0h6tAAAAAXRSTlMAQObYZgAAALFJREFU\n",
       "GNNjYGDgu8cABqwXD4Aonl0MUMCUCiL5PsD4DLdBBNcEOH8lufyDFxmYcxgYloH4HBsYGBaoMTAC\n",
       "rXkP4pcFMDAX3GZgcWBg4L7AwBAyGegkhkQGfgGgXCeQUAsAuuwPQzyQ4m4A6Qcq5N3AIMYA1Q8y\n",
       "n6WBwYMBaj6Iz9vA9A/Zfp5G2c+o7gOaAOMnMDB0M5xXgPFB/p/H4Aj3PwMwfBRlA0DhkwTmsyOH\n",
       "HwBjRS5TXj+glAAAAABJRU5ErkJggg==\n",
       "\" style=\"display:inline;vertical-align:middle;\" /></a> <a class=\"ProveItLink\" href=\"__pv_it/21c4ce8ca9d45192fda3328971ed2f460094e4f00/proof.ipynb\" style=\"text-decoration: none\">&#x22A2;&nbsp;</a><a class=\"ProveItLink\" href=\"__pv_it/92241152d6aeddaec45eb4d6718094bf5e9dc8cf0/expr.ipynb\"><img src=\"data:image/png;base64,iVBORw0KGgoAAAANSUhEUgAAADYAAAASBAMAAADiVjDOAAAAMFBMVEX////MzMxEREQQEBDc3Nzu\n",
       "7u4yMjJ2dnaYmJi6urqIiIiqqqpUVFQiIiJmZmYAAACpvsgbAAAAAXRSTlMAQObYZgAAAHhJREFU\n",
       "GNNjeHsXBO4w4AC7GHADOslFvWJgMUWWK0sDgTwQs2AyA9cH7PpYNjxjYFLALsfKYMXAvwCHfZxf\n",
       "GeQFMO3LATH5EhgW43In0wEGHVxyfAc4f4AZMzDlWE+t+4I7QIA24gDHGOIn4JK7waCF08RZ64C+\n",
       "AwCTsyc6BDOQ0wAAAABJRU5ErkJggg==\n",
       "\" style=\"display:inline;vertical-align:middle;\" /></a></span>"
      ],
      "text/plain": [
       "{y} |- TRUE = y"
      ]
     },
     "execution_count": 56,
     "metadata": {},
     "output_type": "execute_result"
    }
   ],
   "source": [
    "Equals(TRUE, y).prove([y])"
   ]
  },
  {
   "cell_type": "code",
   "execution_count": 57,
   "metadata": {},
   "outputs": [
    {
     "data": {
      "text/html": [
       "<span style=\"font-size:20px;\"><a class=\"ProveItLink\" href=\"__pv_it/fc326ccecd5d07583953214248ba0e4e95bf11dc0/expr.ipynb\"><img src=\"data:image/png;base64,iVBORw0KGgoAAAANSUhEUgAAACkAAAAVBAMAAAAp9toTAAAAMFBMVEX///+IiIi6urrc3NxERETM\n",
       "zMwQEBCqqqpUVFQiIiJ2dnYyMjLu7u5mZmaYmJgAAABN0h6tAAAAAXRSTlMAQObYZgAAAKBJREFU\n",
       "GNNjYGDgu8eABFgvHgBRPLsYUABTKojk+4AqynAbRHBNQBNdSX1RLkFRBoZlIBbHBrgg83QGbwaG\n",
       "9yBmWQADw82ZQDCLgXMBQzsDA/cFBoaQyTCVFgz3wd5i6BRgYFALgIumgGnuBpC5DjBRnl9g+j2K\n",
       "GywY/jEwsEPdABdlZbjBwHMV071c6x4S8FsCNlHs4cuAHhdJYIodM94AWbUsxJaopXYAAAAASUVO\n",
       "RK5CYII=\n",
       "\" style=\"display:inline;vertical-align:middle;\" /></a> <a class=\"ProveItLink\" href=\"__pv_it/d4df1d707d96968291602473f6419cf58ab6dd040/proof.ipynb\" style=\"text-decoration: none\">&#x22A2;&nbsp;</a><a class=\"ProveItLink\" href=\"__pv_it/563af5bec6e67164f9816b43e4c454e97b419fb00/expr.ipynb\"><img src=\"data:image/png;base64,iVBORw0KGgoAAAANSUhEUgAAADQAAAAOBAMAAACStyITAAAALVBMVEX///+YmJgQEBDu7u5mZmZU\n",
       "VFQyMjJERESqqqoiIiLc3NzMzMyIiIh2dnYAAABuqkWTAAAAAXRSTlMAQObYZgAAAFVJREFUGNNj\n",
       "YMAKdjDgBD00krpzZgMOqZUN7AlA6loaCKSgSM1lYG3ArovlMU67mApwStldgHAgdqUiS/EJMDDg\n",
       "siuAwQSX4+8KHkAT95w5U2nmzKkAkHUcE881YAQAAAAASUVORK5CYII=\n",
       "\" style=\"display:inline;vertical-align:middle;\" /></a></span>"
      ],
      "text/plain": [
       "{[not](c)} |- c = FALSE"
      ]
     },
     "execution_count": 57,
     "metadata": {},
     "output_type": "execute_result"
    }
   ],
   "source": [
    "Equals(c, FALSE).prove([Not(c)])"
   ]
  },
  {
   "cell_type": "code",
   "execution_count": 58,
   "metadata": {},
   "outputs": [
    {
     "data": {
      "text/html": [
       "<span style=\"font-size:20px;\"><a class=\"ProveItLink\" href=\"__pv_it/fc326ccecd5d07583953214248ba0e4e95bf11dc0/expr.ipynb\"><img src=\"data:image/png;base64,iVBORw0KGgoAAAANSUhEUgAAACkAAAAVBAMAAAAp9toTAAAAMFBMVEX///+IiIi6urrc3NxERETM\n",
       "zMwQEBCqqqpUVFQiIiJ2dnYyMjLu7u5mZmaYmJgAAABN0h6tAAAAAXRSTlMAQObYZgAAAKBJREFU\n",
       "GNNjYGDgu8eABFgvHgBRPLsYUABTKojk+4AqynAbRHBNQBNdSX1RLkFRBoZlIBbHBrgg83QGbwaG\n",
       "9yBmWQADw82ZQDCLgXMBQzsDA/cFBoaQyTCVFgz3wd5i6BRgYFALgIumgGnuBpC5DjBRnl9g+j2K\n",
       "GywY/jEwsEPdABdlZbjBwHMV071c6x4S8FsCNlHs4cuAHhdJYIodM94AWbUsxJaopXYAAAAASUVO\n",
       "RK5CYII=\n",
       "\" style=\"display:inline;vertical-align:middle;\" /></a> <a class=\"ProveItLink\" href=\"__pv_it/ad38d97b355a85270f8a3abce61ba0eb2f907d450/proof.ipynb\" style=\"text-decoration: none\">&#x22A2;&nbsp;</a><a class=\"ProveItLink\" href=\"__pv_it/302e712eb876f72b2f4542954f60260297cf7f630/expr.ipynb\"><img src=\"data:image/png;base64,iVBORw0KGgoAAAANSUhEUgAAADQAAAAOBAMAAACStyITAAAALVBMVEX///+YmJju7u5ERETc3Nwy\n",
       "MjJ2dnZUVFQQEBAiIiJmZmaIiIiqqqrMzMwAAABkHnDYAAAAAXRSTlMAQObYZgAAAFVJREFUGNNj\n",
       "YGBguMOAE5weYCm23XuRpVJDQSAKxGSZw2CKQxdnAkMNDql1CjjtakZzBsSucCCL6RluFz5kYODB\n",
       "IbWcgWktw8qZMztmzpyO7q1EaQYAknYbkGxOYhAAAAAASUVORK5CYII=\n",
       "\" style=\"display:inline;vertical-align:middle;\" /></a></span>"
      ],
      "text/plain": [
       "{[not](c)} |- FALSE = c"
      ]
     },
     "execution_count": 58,
     "metadata": {},
     "output_type": "execute_result"
    }
   ],
   "source": [
    "Equals(FALSE, c).prove([Not(c)])"
   ]
  },
  {
   "cell_type": "markdown",
   "metadata": {},
   "source": [
    "When something is equal to `FALSE` and known to be true, there is a contradiction.  That is, `FALSE` is a consequence.  The `deriveContradiction` method of `Equals` can be used to prove such a contradiction:"
   ]
  },
  {
   "cell_type": "code",
   "execution_count": 59,
   "metadata": {},
   "outputs": [
    {
     "data": {
      "text/html": [
       "<strong id=\"contradiction\">contradiction:</strong> <span style=\"font-size:20px;\"><a class=\"ProveItLink\" href=\"__pv_it/b4c0404b9564704f425bc5f61aaefb6dd7879e990/expr.ipynb\"><img src=\"data:image/png;base64,iVBORw0KGgoAAAANSUhEUgAAAF0AAAAVBAMAAADWVP/xAAAAMFBMVEX///+IiIi6urrc3NxERETM\n",
       "zMwQEBCqqqpUVFQiIiJ2dnYyMjLu7u5mZmaYmJgAAABN0h6tAAAAAXRSTlMAQObYZgAAAPFJREFU\n",
       "KM9jYGDgu8dAFGC9eABE8exiIBIwpYJIvg9EGF0Apm6DCK4JhNWzC4CplYNWve1asQMQKQQLU/0y\n",
       "EMGxARhSyQz7oWEGZXHtBoMLKOrfg4iyAAaGYw8YrkBkECws5nMDtYdMBjLuH2CYCJFBsLCoZ+gE\n",
       "0mpA81MYeL5CRBAsbOY3gNzvwMDzi4EdEstwFtT9DZjuB4YPz3egr4vB6uEsnOEDCk9HhpcNC3h+\n",
       "M0BZBMP/hGBwowLDzAMwFgrgnTlzWubMmQ0Y8ct+gEA0Q9QnwLhcDMSoR6T/g4TUg9M/Azx/PSCU\n",
       "v5IgziYl/wIA+pFVQCYrYpgAAAAASUVORK5CYII=\n",
       "\" style=\"display:inline;vertical-align:middle;\" /></a> <a class=\"ProveItLink\" href=\"__pv_it/13804c4158585dbcd6cffd350ac66ba3cd0850880/proof.ipynb\" style=\"text-decoration: none\">&#x22A2;&nbsp;</a><a class=\"ProveItLink\" href=\"../boolean/__pv_it/83a1ddf0f64531c80e7f41ea6b904214668818b30/expr.ipynb\"><img src=\"data:image/png;base64,iVBORw0KGgoAAAANSUhEUgAAAA4AAAAOBAMAAADtZjDiAAAAG1BMVEX///9UVFQQEBAiIiJmZmaI\n",
       "iIiqqqrMzMwAAADC2JlRAAAAAXRSTlMAQObYZgAAABlJREFUCNdjYGBgKGOAgFRa0s7GxkrGxoYA\n",
       "QSUGlQeagkgAAAAASUVORK5CYII=\n",
       "\" style=\"display:inline;vertical-align:middle;\" /></a></span><br>"
      ],
      "text/plain": [
       "contradiction: {a, a = FALSE} |- FALSE"
      ]
     },
     "execution_count": 59,
     "metadata": {},
     "output_type": "execute_result"
    }
   ],
   "source": [
    "contradiction = Equals(a, FALSE).deriveContradiction([a, Equals(a, FALSE)])"
   ]
  },
  {
   "cell_type": "code",
   "execution_count": 60,
   "metadata": {},
   "outputs": [
    {
     "data": {
      "text/html": [
       "<table><tr><th>&nbsp;</th><th>step type</th><th>requirements</th><th>statement</th></tr>\n",
       "<tr><td><a name=\"-0x7eab498ce4e2074a_step0\">0</a></td><td>instantiation</td><td><a href=\"#-0x7eab498ce4e2074a_step1\">1</a>, <a href=\"#-0x7eab498ce4e2074a_step2\">2</a>, <a href=\"#-0x7eab498ce4e2074a_step3\">3</a></td><td><span style=\"font-size:20px;\"><a class=\"ProveItLink\" href=\"__pv_it/b4c0404b9564704f425bc5f61aaefb6dd7879e990/expr.ipynb\"><img src=\"data:image/png;base64,iVBORw0KGgoAAAANSUhEUgAAAF0AAAAVBAMAAADWVP/xAAAAMFBMVEX///+IiIi6urrc3NxERETM\n",
       "zMwQEBCqqqpUVFQiIiJ2dnYyMjLu7u5mZmaYmJgAAABN0h6tAAAAAXRSTlMAQObYZgAAAPFJREFU\n",
       "KM9jYGDgu8dAFGC9eABE8exiIBIwpYJIvg9EGF0Apm6DCK4JhNWzC4CplYNWve1asQMQKQQLU/0y\n",
       "EMGxARhSyQz7oWEGZXHtBoMLKOrfg4iyAAaGYw8YrkBkECws5nMDtYdMBjLuH2CYCJFBsLCoZ+gE\n",
       "0mpA81MYeL5CRBAsbOY3gNzvwMDzi4EdEstwFtT9DZjuB4YPz3egr4vB6uEsnOEDCk9HhpcNC3h+\n",
       "M0BZBMP/hGBwowLDzAMwFgrgnTlzWubMmQ0Y8ct+gEA0Q9QnwLhcDMSoR6T/g4TUg9M/Azx/PSCU\n",
       "v5IgziYl/wIA+pFVQCYrYpgAAAAASUVORK5CYII=\n",
       "\" style=\"display:inline;vertical-align:middle;\" /></a> <a class=\"ProveItLink\" href=\"__pv_it/13804c4158585dbcd6cffd350ac66ba3cd0850880/proof.ipynb\" style=\"text-decoration: none\">&#x22A2;&nbsp;</a><a class=\"ProveItLink\" href=\"../boolean/__pv_it/83a1ddf0f64531c80e7f41ea6b904214668818b30/expr.ipynb\"><img src=\"data:image/png;base64,iVBORw0KGgoAAAANSUhEUgAAAA4AAAAOBAMAAADtZjDiAAAAG1BMVEX///9UVFQQEBAiIiJmZmaI\n",
       "iIiqqqrMzMwAAADC2JlRAAAAAXRSTlMAQObYZgAAABlJREFUCNdjYGBgKGOAgFRa0s7GxkrGxoYA\n",
       "QSUGlQeagkgAAAAASUVORK5CYII=\n",
       "\" style=\"display:inline;vertical-align:middle;\" /></a></span></td></tr>\n",
       "<tr><td>&nbsp;</td><td colspan=4 style=\"text-align:left\"><span style=\"font-size:20px;\"><a class=\"ProveItLink\" href=\"../../__pv_it/d3792d0d8642fdf1cd2a3a9b32c673ee13653de00/expr.ipynb\"><img src=\"data:image/png;base64,iVBORw0KGgoAAAANSUhEUgAAAA8AAAAOBAMAAAACpFvcAAAALVBMVEX///8iIiIQEBBERERUVFS6\n",
       "urqIiIjc3NxmZmaqqqru7u6YmJgyMjLMzMwAAACK9jtgAAAAAXRSTlMAQObYZgAAAFtJREFUCNdj\n",
       "YACBOwxQcA5Kc59bAGGs7CuAMDbkBYBp1gXzNoAZSxnuJYAZAQx1DSCa16PDzwCshIGB6QCIMYGB\n",
       "gVEBSLMDGTwPgIxCIGZ+zsCw+N0pBk67hw0AfpEVEQi8t+wAAAAASUVORK5CYII=\n",
       "\" style=\"display:inline;vertical-align:middle;\" /></a> : <a class=\"ProveItLink\" href=\"../../__pv_it/a8d4b3a34d2189508f9082853fbac36935714f280/expr.ipynb\"><img src=\"data:image/png;base64,iVBORw0KGgoAAAANSUhEUgAAAAsAAAAJBAMAAAAWSsseAAAAMFBMVEX///9UVFSqqqrMzMwiIiJE\n",
       "RESYmJgyMjK6urru7u4QEBCIiIh2dnZmZmbc3NwAAABRgo0vAAAAAXRSTlMAQObYZgAAAEdJREFU\n",
       "CNdjYOC7c3slAwND1wP2DwwMnMsYeAMYGHh/MrBsYGDgCmCYb8DAMP8Agz5QxXwFBnGmBwysG9gc\n",
       "eYAqpTc/3MEAAP4BD32xAXDqAAAAAElFTkSuQmCC\n",
       "\" style=\"display:inline;vertical-align:middle;\" /></a></span></td></tr><tr><td><a name=\"-0x7eab498ce4e2074a_step1\">1</a></td><td>theorem</td><td></td><td><span style=\"font-size:20px;\"> <a class=\"ProveItLink\" href=\"_proofs_/contradictionViaFalsification.ipynb\" style=\"text-decoration: none\">&#x22A2;&nbsp;</a><a class=\"ProveItLink\" href=\"__pv_it/035c67f0c0c1f6d711f8c36a9b94cfb564be5b110/expr.ipynb\"><img src=\"data:image/png;base64,iVBORw0KGgoAAAANSUhEUgAAAHoAAAAWBAMAAAD9QZX2AAAAMFBMVEX///8QEBCIiIhmZma6urrM\n",
       "zMxUVFQiIiJERETc3Nzu7u6qqqp2dnaYmJgyMjIAAAAcRTyBAAAAAXRSTlMAQObYZgAAAT5JREFU\n",
       "OMtjYKAIPAARd8nQGA0iToOIV2To3gQiZgAxZwO5uvkWMDDwbCBXN++pVaumM5Crm+FHR0cN+bpT\n",
       "GRg6wQwIyQKT5ZgAZXTi0+3MwAWONd4vEE0w2fsOEBoqDgZsGLrZGZgugOjFf1F0c9lfgDCg4qhG\n",
       "w3XzXGAH06eKURTwLDdgQBbHoZvzQRiIYlXoQFEQxAFJBDBxHLoZOlMgXjJHUZDAXMAAE2frAIJe\n",
       "7Lo3g5XdZtBH1s27gekDA7I4Lrv5FUCB9PhM/wIkBetsTvxiQBZH1W1eXi5YXl4GsgYky7yAYX4A\n",
       "kgIrBs6vDDBxtndA8BbNbmTgC3TDBYRuFiD7L8OMBQhxDJcjAY4fDJz9tQgF/Q0MM75fCNyAEAeC\n",
       "Ex2NHR0H8CZfFONJznvIurknUKKbl+SMx0yKYgCRgVo2nnjVMAAAAABJRU5ErkJggg==\n",
       "\" style=\"display:inline;vertical-align:middle;\" /></a></span></td></tr>\n",
       "<tr><td>&nbsp;</td><td colspan=4 style-\"text-align:left\"><a class=\"ProveItLink\" href=\"_proofs_/contradictionViaFalsification.ipynb\">proveit.logic.equality.contradictionViaFalsification</a></td></tr><tr><td><a name=\"-0x7eab498ce4e2074a_step2\">2</a></td><td>assumption</td><td></td><td><span style=\"font-size:20px;\"><a class=\"ProveItLink\" href=\"__pv_it/48acfa5b951060960660a168f0d03951a30d5af10/expr.ipynb\"><img src=\"data:image/png;base64,iVBORw0KGgoAAAANSUhEUgAAAB0AAAAVBAMAAABI7vhRAAAAMFBMVEX///+IiIi6urrc3NxERETM\n",
       "zMwQEBCqqqpUVFQiIiJ2dnYyMjLu7u5mZmaYmJgAAABN0h6tAAAAAXRSTlMAQObYZgAAAJpJREFU\n",
       "GNNjYGDgu8cABqwXD4Aonl0MUMCUCiL5PsD4DLdBBNcEOH8l2XzbtWJAy5aB+BwbgDYlM+wHMt+D\n",
       "+GUBDAzHHjBcATK5LzAwhEwGMu4fYJgIkusUYGBQA8qnMPB8Bck3gPQ7MPD8YmD/ANMPNJ/nO9DU\n",
       "Yqj5IPscGV42LECy/4RgcKMCLvcloPLR/c+ACJ8kMMWOHH4AMR0vmFpOTQ8AAAAASUVORK5CYII=\n",
       "\" style=\"display:inline;vertical-align:middle;\" /></a> <a class=\"ProveItLink\" href=\"__pv_it/69a3c282a63d93c4220df315d86f562cfe91559e0/proof.ipynb\" style=\"text-decoration: none\">&#x22A2;&nbsp;</a><a class=\"ProveItLink\" href=\"../../__pv_it/a8d4b3a34d2189508f9082853fbac36935714f280/expr.ipynb\"><img src=\"data:image/png;base64,iVBORw0KGgoAAAANSUhEUgAAAAsAAAAJBAMAAAAWSsseAAAAMFBMVEX///9UVFSqqqrMzMwiIiJE\n",
       "RESYmJgyMjK6urru7u4QEBCIiIh2dnZmZmbc3NwAAABRgo0vAAAAAXRSTlMAQObYZgAAAEdJREFU\n",
       "CNdjYOC7c3slAwND1wP2DwwMnMsYeAMYGHh/MrBsYGDgCmCYb8DAMP8Agz5QxXwFBnGmBwysG9gc\n",
       "eYAqpTc/3MEAAP4BD32xAXDqAAAAAElFTkSuQmCC\n",
       "\" style=\"display:inline;vertical-align:middle;\" /></a></span></td></tr>\n",
       "<tr><td><a name=\"-0x7eab498ce4e2074a_step3\">3</a></td><td>assumption</td><td></td><td><span style=\"font-size:20px;\"><a class=\"ProveItLink\" href=\"__pv_it/2128d7a104bfd67c72415eb6cd5cab586c9a26710/expr.ipynb\"><img src=\"data:image/png;base64,iVBORw0KGgoAAAANSUhEUgAAAEkAAAAVBAMAAAD4Ed5jAAAAMFBMVEX///+IiIi6urrc3NxERETM\n",
       "zMwQEBCqqqpUVFQiIiJ2dnYyMjLu7u5mZmaYmJgAAABN0h6tAAAAAXRSTlMAQObYZgAAAMJJREFU\n",
       "KM9jYGDgu8eAB7BePACieHYx4AVMqSCS7wNOYwrA1G0QwTUBlyp2ATC1cgBV2a4VO4BL1TIQwbEB\n",
       "6Ntkhv1gHbvB4AKKqvcgoiyAgeHYA4YrOG3kBmoKmQxk3D/AMBGnKoZOIK0GNCuFgecrbrMaQO5y\n",
       "YOD5xcD+AcldDZjuAvqR5zvQD8V4/QgKCUeGlw0LCIbXCcHgRgVUJbwzZ07LnDmzgWDYQwFEVQIx\n",
       "qnCnLygApy8GQmk1CeIVwukeAIvrPzmvh2w7AAAAAElFTkSuQmCC\n",
       "\" style=\"display:inline;vertical-align:middle;\" /></a> <a class=\"ProveItLink\" href=\"__pv_it/7682131baf963a79f9b0b1dbd28229c488cdb9f40/proof.ipynb\" style=\"text-decoration: none\">&#x22A2;&nbsp;</a><a class=\"ProveItLink\" href=\"__pv_it/c96c5edb56cb6ff7bef12d450777ba400f0b0b070/expr.ipynb\"><img src=\"data:image/png;base64,iVBORw0KGgoAAAANSUhEUgAAADYAAAAOBAMAAACWQvIuAAAAMFBMVEX///9UVFSqqqrMzMwiIiJE\n",
       "RESYmJgyMjK6urru7u4QEBCIiIh2dnZmZmbc3NwAAABRgo0vAAAAAXRSTlMAQObYZgAAAGNJREFU\n",
       "GNNjYMAOjBhwA22ayfHdub0Sl1zXA/YPIPp4OQjUIstxLmPgDcChj/cnA8sGHHJcAQzzDXDIzT/A\n",
       "oM+AsK8QRU6BQZzpAXZ9rBvYHHlwmMkpvfnhDjSJKy4uq1xcHAG3Xxuk5NsGEAAAAABJRU5ErkJg\n",
       "gg==\n",
       "\" style=\"display:inline;vertical-align:middle;\" /></a></span></td></tr>\n",
       "</table>"
      ],
      "text/plain": [
       "\tstep type\trequirements\tstatement\n",
       "0\tinstantiation\t1, 2, 3\t{a, a = FALSE} |- FALSE\n",
       "\tA : a\n",
       "1\ttheorem\t\t|- forall_{A | A, A = FALSE} FALSE\n",
       "\tproveit.logic.equality.contradictionViaFalsification\n",
       "2\tassumption\t\t{a} |- a\n",
       "3\tassumption\t\t{a = FALSE} |- a = FALSE"
      ]
     },
     "execution_count": 60,
     "metadata": {},
     "output_type": "execute_result"
    }
   ],
   "source": [
    "contradiction.proof()"
   ]
  },
  {
   "cell_type": "markdown",
   "metadata": {},
   "source": [
    "Contradictions are useful in making contradiction proofs (reductio ad absurdum).  The `affirmViaContradiction` and `denyViaContradiction` methods are useful in making such a proof.  They both use `deriveContradiction`.  For example:"
   ]
  },
  {
   "cell_type": "code",
   "execution_count": 61,
   "metadata": {},
   "outputs": [
    {
     "data": {
      "text/html": [
       "<strong id=\"not_a__truth\">not_a__truth:</strong> <span style=\"font-size:20px;\"><a class=\"ProveItLink\" href=\"__pv_it/9651fa63a5d405a022c3c65bbe329baa9c9a80bc0/expr.ipynb\"><img src=\"data:image/png;base64,iVBORw0KGgoAAAANSUhEUgAAAL8AAAAVBAMAAADlQyK9AAAAMFBMVEX///+IiIi6urrc3NxERETM\n",
       "zMwQEBCqqqpUVFQiIiJ2dnYyMjLu7u5mZmaYmJgAAABN0h6tAAAAAXRSTlMAQObYZgAAAkZJREFU\n",
       "OMtjYGDgu8dAG8B68QCI4tlFpn7mB3gk2Q2ABFMqiMn3AYs84zSX35lN+C04gsvhBSCyGUTcBhFc\n",
       "E7Cp4mYVOHL2AV4LNuNyvACIPA0iVuK2gIXpAWOAAz7z+S7gtYBLALsFfJ4zZ0MtYC/AZgGLAZTB\n",
       "aYDXAp4ErBawOh6A+4BLB5sFrDBBSwa8FjBsQrHAdq0Y2OTTBxBBpBkRAE0uty7mIPS/hdKyGDKo\n",
       "FqwF4mUgBscGYHpKZtjPAI97iAWZ/5OgbDUDbnBKuzkTBOZDw94PIcO1GwwuoFjwGojfgxhlQHce\n",
       "e8BwBSzqgBTJXO8WgJk8eQy8yIFVDU6GDNMxZVAsqASlRaCdIZOBjPsHGCaCAzgb5BKoBQwOemCV\n",
       "vH8YOAWQDODZpgCikjBlUCyIBxGdQLYa0AcpDDxfwaGN7AMGBw4wk82B4XwAkgEWixmgFqDLYFjA\n",
       "3QCKAwcGnl8M7JD8nIBsQQM3mHl+AUM9mHEbEtTQDDYdIQONgwYUCzRhcQBMRTzfgVFdDOJcRPHB\n",
       "K4gFBQzd7IhEr80Aj2Q0GQaMSF4GS6aODC8bwDHKWQAvKhZwrW1gOA9MYiwCfDO4EDGwB8pYiy6D\n",
       "ZsEt5HxwQjC4ERxzPC06KIUd5xygWKOohRBcOwcs0DXRZSApYubMaZkzZwJDayv2ooJpCaSogIEa\n",
       "jEKagVBRAfXpBLgFCfjULSC9sIMARGGHtT6Au0MAt5wzXgtOw+sDBnw1Gh8ZFQ7CeiZIYcNOZp2M\n",
       "t8rkM4DWyQDlC6dxt6v4CAAAAABJRU5ErkJggg==\n",
       "\" style=\"display:inline;vertical-align:middle;\" /></a> <a class=\"ProveItLink\" href=\"__pv_it/3294102aec2ed4b15cf596417969c86b638212a20/proof.ipynb\" style=\"text-decoration: none\">&#x22A2;&nbsp;</a><a class=\"ProveItLink\" href=\"__pv_it/36d3adf27012f2f3b2867a6e7960c7ab31c86c260/expr.ipynb\"><img src=\"data:image/png;base64,iVBORw0KGgoAAAANSUhEUgAAABgAAAAJBAMAAADa0/H1AAAAMFBMVEX///+qqqpERESYmJgyMjK6\n",
       "urru7u4QEBCIiIjMzMxUVFTc3Nx2dnYiIiJmZmYAAAA3+v/5AAAAAXRSTlMAQObYZgAAAE5JREFU\n",
       "CNdjYICCfefaE2Bs1moGfwaGt3eB4A5DugHDI6j4Lob3CQw34JwiBrafMA7bHwbGD3DORwYuB2kI\n",
       "h5NBg8F2wQGY0Vkds1cEAACuqhgbjxth7gAAAABJRU5ErkJggg==\n",
       "\" style=\"display:inline;vertical-align:middle;\" /></a></span><br>"
      ],
      "text/plain": [
       "not_a__truth: {a in BOOLEANS, a => (a = FALSE)} |- [not](a)"
      ]
     },
     "execution_count": 61,
     "metadata": {},
     "output_type": "execute_result"
    }
   ],
   "source": [
    "from proveit.logic import Implies, inBool\n",
    "not_a__truth = Equals(a, FALSE).affirmViaContradiction(Not(a), [Implies(a, Equals(a, FALSE)), inBool(a)])"
   ]
  },
  {
   "cell_type": "code",
   "execution_count": 62,
   "metadata": {},
   "outputs": [
    {
     "data": {
      "text/plain": [
       "13"
      ]
     },
     "execution_count": 62,
     "metadata": {},
     "output_type": "execute_result"
    }
   ],
   "source": [
    "not_a__truth.proof().numSteps()"
   ]
  },
  {
   "cell_type": "markdown",
   "metadata": {},
   "source": [
    "It is more efficient to use `denyViaContradiction` when proving the negation of something.  Here we prove the same as above but in fewer steps."
   ]
  },
  {
   "cell_type": "code",
   "execution_count": 63,
   "metadata": {},
   "outputs": [
    {
     "data": {
      "text/html": [
       "<strong id=\"not_b__truth\">not_b__truth:</strong> <span style=\"font-size:20px;\"><a class=\"ProveItLink\" href=\"__pv_it/5cd52ea5f43b086458fd4006061714f1af19c7580/expr.ipynb\"><img src=\"data:image/png;base64,iVBORw0KGgoAAAANSUhEUgAAALkAAAAVBAMAAADoXVL6AAAAMFBMVEX///+IiIi6urrc3NxERETM\n",
       "zMwQEBCqqqpUVFQiIiJ2dnYyMjLu7u5mZmaYmJgAAABN0h6tAAAAAXRSTlMAQObYZgAAAmBJREFU\n",
       "OMu1lU1I3EAUx5/RZddkjOm1IHgSpFL32N62VAo9tOzBgzcXoYelUPYkSAtd2156KULBEhS60CJ4\n",
       "2CKVirQKOSxeFtndk6ige1b66UFQaTsv85LMZJMcSh3IyyP/mV9e3rx5AQDzAC5hpFoO3tjnf1rd\n",
       "3Y7X0llutAfomj8AakVV7pofOy8+Ez67MxdFqEULqRLa52j20eg4ZzM0yUhZtW2KzmhG0VejhbSF\n",
       "to5m2aefhib1aO2ufE74/aUIuNmMFgRdt2S6duEtumsvED1dIvqoI701S05vVhVUOivIdJ0ymLrl\n",
       "+LHrI0RfltNKz+BmSFDp8FGmG7MD7lfWnSAzwxN54a9f2QlWf6X7QFhQ6VV+LaGTWQFobLATf68F\n",
       "vfhnimrm3GlgPnZtHG9pJ+/7gv7FHU2Ffsyv7+hM8xCfOvAT/Zy0q/q3iph/Af1WENxjsZVvOgSF\n",
       "PkO1Nv7aLU12hll9iFEQHXLX3Yl9K9CoBMvZ2iDepjoEhT6J5iX3h/JY7hrWZLccO+QyXrmPSqV3\n",
       "4x0QPSR00I0y5p0jf0OfW5MFmV42RLm34RA3e1/kdxW8zJBAeS8r9GEv71gzv2DLPZgtJfYjQR9k\n",
       "j4LYroG/q6oAHbu65NFfwT1xRkp+J6jo1TI0eD1l2j3BiWcb5FRDQoi+J9f79lXRU9iLEaWL9S7y\n",
       "Z60PweIMnQH8dEUQBWDb80Xb5kn6pPQZb2jvRSfwxpNw3wWpE8QPNufTCwnTKnGC2UyiB10M+3ts\n",
       "DFasdDuJXvf7OyT8m8x4qZZEx1dropOkD/73n8/M0n/1L/ZiubCtPWyQAAAAAElFTkSuQmCC\n",
       "\" style=\"display:inline;vertical-align:middle;\" /></a> <a class=\"ProveItLink\" href=\"__pv_it/72df73dc9628bf896c3ef0038ed9a1c19103931f0/proof.ipynb\" style=\"text-decoration: none\">&#x22A2;&nbsp;</a><a class=\"ProveItLink\" href=\"__pv_it/f27cf97edc719b4d6c20c9e3adda8325948bcfd10/expr.ipynb\"><img src=\"data:image/png;base64,iVBORw0KGgoAAAANSUhEUgAAABYAAAAOBAMAAADZH/H+AAAAMFBMVEX///+YmJiIiIi6urqqqqoy\n",
       "MjIQEBBERETu7u7MzMxUVFTc3Nx2dnYiIiJmZmYAAAAkdzffAAAAAXRSTlMAQObYZgAAAFlJREFU\n",
       "CNdjYICA9lwGBIhDYn9BMJl/INg8FxBs1kV6DjB2fwTHb4a3d4HgDoN/A8MniOguhqcMHH9g7DgG\n",
       "5i8w9kcGvh8w9meGNgEIm5NhIUMd3Pw+HQEGAC4WGbM+budoAAAAAElFTkSuQmCC\n",
       "\" style=\"display:inline;vertical-align:middle;\" /></a></span><br>"
      ],
      "text/plain": [
       "not_b__truth: {b in BOOLEANS, b => (b = FALSE)} |- [not](b)"
      ]
     },
     "execution_count": 63,
     "metadata": {},
     "output_type": "execute_result"
    }
   ],
   "source": [
    "not_b__truth = Equals(b, FALSE).denyViaContradiction(b, [Implies(b, Equals(b, FALSE)), inBool(b)])"
   ]
  },
  {
   "cell_type": "code",
   "execution_count": 64,
   "metadata": {},
   "outputs": [
    {
     "data": {
      "text/plain": [
       "9"
      ]
     },
     "execution_count": 64,
     "metadata": {},
     "output_type": "execute_result"
    }
   ],
   "source": [
    "not_b__truth.proof().numSteps()"
   ]
  },
  {
   "cell_type": "code",
   "execution_count": 65,
   "metadata": {},
   "outputs": [
    {
     "data": {
      "text/html": [
       "<table><tr><th>&nbsp;</th><th>step type</th><th>requirements</th><th>statement</th></tr>\n",
       "<tr><td><a name=\"0x3cd91f9720a24bfd_step0\">0</a></td><td>instantiation</td><td><a href=\"#0x3cd91f9720a24bfd_step1\">1</a>, <a href=\"#0x3cd91f9720a24bfd_step2\">2</a>, <a href=\"#0x3cd91f9720a24bfd_step3\">3</a></td><td><span style=\"font-size:20px;\"><a class=\"ProveItLink\" href=\"__pv_it/5cd52ea5f43b086458fd4006061714f1af19c7580/expr.ipynb\"><img src=\"data:image/png;base64,iVBORw0KGgoAAAANSUhEUgAAALkAAAAVBAMAAADoXVL6AAAAMFBMVEX///+IiIi6urrc3NxERETM\n",
       "zMwQEBCqqqpUVFQiIiJ2dnYyMjLu7u5mZmaYmJgAAABN0h6tAAAAAXRSTlMAQObYZgAAAmBJREFU\n",
       "OMu1lU1I3EAUx5/RZddkjOm1IHgSpFL32N62VAo9tOzBgzcXoYelUPYkSAtd2156KULBEhS60CJ4\n",
       "2CKVirQKOSxeFtndk6ige1b66UFQaTsv85LMZJMcSh3IyyP/mV9e3rx5AQDzAC5hpFoO3tjnf1rd\n",
       "3Y7X0llutAfomj8AakVV7pofOy8+Ez67MxdFqEULqRLa52j20eg4ZzM0yUhZtW2KzmhG0VejhbSF\n",
       "to5m2aefhib1aO2ufE74/aUIuNmMFgRdt2S6duEtumsvED1dIvqoI701S05vVhVUOivIdJ0ymLrl\n",
       "+LHrI0RfltNKz+BmSFDp8FGmG7MD7lfWnSAzwxN54a9f2QlWf6X7QFhQ6VV+LaGTWQFobLATf68F\n",
       "vfhnimrm3GlgPnZtHG9pJ+/7gv7FHU2Ffsyv7+hM8xCfOvAT/Zy0q/q3iph/Af1WENxjsZVvOgSF\n",
       "PkO1Nv7aLU12hll9iFEQHXLX3Yl9K9CoBMvZ2iDepjoEhT6J5iX3h/JY7hrWZLccO+QyXrmPSqV3\n",
       "4x0QPSR00I0y5p0jf0OfW5MFmV42RLm34RA3e1/kdxW8zJBAeS8r9GEv71gzv2DLPZgtJfYjQR9k\n",
       "j4LYroG/q6oAHbu65NFfwT1xRkp+J6jo1TI0eD1l2j3BiWcb5FRDQoi+J9f79lXRU9iLEaWL9S7y\n",
       "Z60PweIMnQH8dEUQBWDb80Xb5kn6pPQZb2jvRSfwxpNw3wWpE8QPNufTCwnTKnGC2UyiB10M+3ts\n",
       "DFasdDuJXvf7OyT8m8x4qZZEx1dropOkD/73n8/M0n/1L/ZiubCtPWyQAAAAAElFTkSuQmCC\n",
       "\" style=\"display:inline;vertical-align:middle;\" /></a> <a class=\"ProveItLink\" href=\"__pv_it/72df73dc9628bf896c3ef0038ed9a1c19103931f0/proof.ipynb\" style=\"text-decoration: none\">&#x22A2;&nbsp;</a><a class=\"ProveItLink\" href=\"__pv_it/f27cf97edc719b4d6c20c9e3adda8325948bcfd10/expr.ipynb\"><img src=\"data:image/png;base64,iVBORw0KGgoAAAANSUhEUgAAABYAAAAOBAMAAADZH/H+AAAAMFBMVEX///+YmJiIiIi6urqqqqoy\n",
       "MjIQEBBERETu7u7MzMxUVFTc3Nx2dnYiIiJmZmYAAAAkdzffAAAAAXRSTlMAQObYZgAAAFlJREFU\n",
       "CNdjYICA9lwGBIhDYn9BMJl/INg8FxBs1kV6DjB2fwTHb4a3d4HgDoN/A8MniOguhqcMHH9g7DgG\n",
       "5i8w9kcGvh8w9meGNgEIm5NhIUMd3Pw+HQEGAC4WGbM+budoAAAAAElFTkSuQmCC\n",
       "\" style=\"display:inline;vertical-align:middle;\" /></a></span></td></tr>\n",
       "<tr><td>&nbsp;</td><td colspan=4 style=\"text-align:left\"><span style=\"font-size:20px;\"><a class=\"ProveItLink\" href=\"../../__pv_it/d3792d0d8642fdf1cd2a3a9b32c673ee13653de00/expr.ipynb\"><img src=\"data:image/png;base64,iVBORw0KGgoAAAANSUhEUgAAAA8AAAAOBAMAAAACpFvcAAAALVBMVEX///8iIiIQEBBERERUVFS6\n",
       "urqIiIjc3NxmZmaqqqru7u6YmJgyMjLMzMwAAACK9jtgAAAAAXRSTlMAQObYZgAAAFtJREFUCNdj\n",
       "YACBOwxQcA5Kc59bAGGs7CuAMDbkBYBp1gXzNoAZSxnuJYAZAQx1DSCa16PDzwCshIGB6QCIMYGB\n",
       "gVEBSLMDGTwPgIxCIGZ+zsCw+N0pBk67hw0AfpEVEQi8t+wAAAAASUVORK5CYII=\n",
       "\" style=\"display:inline;vertical-align:middle;\" /></a> : <a class=\"ProveItLink\" href=\"../../__pv_it/53e304ff98ebc000dbe3ef224f4637dbafd46ba70/expr.ipynb\"><img src=\"data:image/png;base64,iVBORw0KGgoAAAANSUhEUgAAAAkAAAAOBAMAAAAPuiubAAAALVBMVEX///+YmJjc3NyIiIhUVFR2\n",
       "dna6urqqqqpmZmYyMjIiIiIQEBBERETu7u4AAAALjtrwAAAAAXRSTlMAQObYZgAAAE9JREFUCNdj\n",
       "4D29gAEIOBtAJF8BiMy7ACKjQATDFON2BgbelxfuKTCwv2XgM2DgmMBwLwCkPK+AgU+Aoe8CA18C\n",
       "70YGBhYBHqARvM2BDAwAqXgQspq5HJAAAAAASUVORK5CYII=\n",
       "\" style=\"display:inline;vertical-align:middle;\" /></a></span></td></tr><tr><td><a name=\"0x3cd91f9720a24bfd_step1\">1</a></td><td>theorem</td><td></td><td><span style=\"font-size:20px;\"> <a class=\"ProveItLink\" href=\"../boolean/implication/_proofs_/denyViaContradiction.ipynb\" style=\"text-decoration: none\">&#x22A2;&nbsp;</a><a class=\"ProveItLink\" href=\"../boolean/implication/__pv_it/3446ff5c67d9e357e08dbbe83d8db76dcd59f7f70/expr.ipynb\"><img src=\"data:image/png;base64,iVBORw0KGgoAAAANSUhEUgAAAJ4AAAAWBAMAAADDSDj9AAAAMFBMVEX///8QEBCIiIhmZma6urrM\n",
       "zMxUVFQiIiJERETc3Nzu7u6qqqp2dnaYmJgyMjIAAAAcRTyBAAAAAXRSTlMAQObYZgAAAh1JREFU\n",
       "OMullEFoE0EUhn+TxmTT3dqDZxnqxVsDAQWpGPDQUyEnj7bQ9qAXCz0otIJ6miA1uYgiSBcUkYil\n",
       "UEqPDYRCW3vYe6lEowd7qQfBehB9b2anmQnG0vXB7L43b+fbN++9GSC5eFHXRH8NaLGyl4j3xrFu\n",
       "0LgJvGd9PxHvq2Md0FgCnnHg95PggoJjHYSALzDAr+UkvGzNtt5eJTM/iGC7Xn+aaLvuqmi4RM/P\n",
       "wKGU84l4522jL1znajeBaaCipirdC0pGqfyVt2AbrzAu6PUBuIa86pnge5zYT+1ZnU9TJePRctoo\n",
       "c0D6DktD/XuRy7NGaUVK9eXLX5zV5hWIxotVh6c8R5IzylnT1hNAZrJ4mz8fp+JGWTW9PUuRPHoe\n",
       "Qgj/ncNjD3d/1JvXB5xqaZ7Xus6zGSF57yRCjG3ZPOWB7n6bN2fxKEHZQdJHOdtTOi2X4sMniufK\n",
       "No89viT5WHJ4Cx2eR7yBb7oeWJnh2V0MI1/Q8aWf2Dz2xB1SsnlNo5RVK+Z+0mOExhkudL69Uw0z\n",
       "d6V8yPlLWTzl0Qtf37J5o52L4fc++qs/KJov3A78dTrEYhkTOj4/bfGUJ1UkuXjZ2a973vS/Z4w2\n",
       "RnFG2FC8hr9j8bSnTjLk1sO9D5T4wjTVIbzqPeQor8F8+3HU4cWeuI7YlA+kbPQ6NkvdExcof0fS\n",
       "dYt5/75Pex/MHrzj7/ug9l+8k0ohwZo//2aLn6xV0D0AAAAASUVORK5CYII=\n",
       "\" style=\"display:inline;vertical-align:middle;\" /></a></span></td></tr>\n",
       "<tr><td>&nbsp;</td><td colspan=4 style-\"text-align:left\"><a class=\"ProveItLink\" href=\"../boolean/implication/_proofs_/denyViaContradiction.ipynb\">proveit.logic.boolean.implication.denyViaContradiction</a></td></tr><tr><td><a name=\"0x3cd91f9720a24bfd_step2\">2</a></td><td>assumption</td><td></td><td><span style=\"font-size:20px;\"><a class=\"ProveItLink\" href=\"__pv_it/2f945d92b73be1e63e13952c3adf0926f90e0afc0/expr.ipynb\"><img src=\"data:image/png;base64,iVBORw0KGgoAAAANSUhEUgAAAEMAAAAVBAMAAADvM06qAAAAMFBMVEX///+IiIi6urrc3NxERETM\n",
       "zMwQEBCqqqpUVFQiIiJ2dnYyMjLu7u5mZmaYmJgAAABN0h6tAAAAAXRSTlMAQObYZgAAASpJREFU\n",
       "KM9jYGDgu8eAC7BePACieHYx4AZMqSCS7wNQmdsEVCnJFP9tMxSAjNsgHhdIlvsCmvYNgTw+IAes\n",
       "hCvhL0BT4qDHIMqCokT/AESGz3PmbJiSclQlK6E+cDyAMGXRERQlOwSvg9inDyAsYpraCqSXgTgc\n",
       "G4A++n3gvAGQ3Yxwi9r8byAfvQdxygIYGNj/MPALgCSQnbvuFdSrIZOBDN4NDOcXAJ2SvRsIYEpY\n",
       "mB4AGZ1ArWoBYLX6QG8zo5jCwtAAlGkAuQUozv+A4T7IpQnISjgYNkDdAvIRvwJPHoh9EcUUvgVQ\n",
       "H4GUcDxgAccAJzyQN0QxrLqBHC48F9eBJXhadNCiERF08MhfAo0AGIAoScCTXiBKQOkFNwCnFwa8\n",
       "qS4JTLETSLsAeXFVUxRKG28AAAAASUVORK5CYII=\n",
       "\" style=\"display:inline;vertical-align:middle;\" /></a> <a class=\"ProveItLink\" href=\"__pv_it/4b494f9cfec5d25044e56181882ccdbfbefd76890/proof.ipynb\" style=\"text-decoration: none\">&#x22A2;&nbsp;</a><a class=\"ProveItLink\" href=\"__pv_it/55fa58204534baab6ecd7c8709962eebd1f949ff0/expr.ipynb\"><img src=\"data:image/png;base64,iVBORw0KGgoAAAANSUhEUgAAAC8AAAAPBAMAAACGpYupAAAAMFBMVEX////MzMyYmJjc3NyIiIhU\n",
       "VFR2dna6urqqqqpmZmYyMjIiIiIQEBBERETu7u4AAACIO4EmAAAAAXRSTlMAQObYZgAAAMlJREFU\n",
       "GNNj4LuzgQEFeJ+9v2ZrAZDBNQFVgmGBCN+9SUCavwFN4kIRgyMvkK5/AOEz3d69CybRAZLIhogz\n",
       "XnmA0JH+FkgvdZkB4r56gDCKfWMgAwPfrwfvDYDcYIQdNfv/AF3F8Y+B3wHERbY8SY2BgXMBw/sE\n",
       "oBWnVgEBTIKXXQHkjXqgg5lRdPAyBDDwKzDMB9l7AFmClWEBA38B3yEQdwqKDqYEBlYFXnCYcMMD\n",
       "YIEYQ9pUoHOnJIG5fLF1aIEIA+y50CCBAADPFUJTsCu5JwAAAABJRU5ErkJggg==\n",
       "\" style=\"display:inline;vertical-align:middle;\" /></a></span></td></tr>\n",
       "<tr><td><a name=\"0x3cd91f9720a24bfd_step3\">3</a></td><td>hypothetical reasoning</td><td><a href=\"#0x3cd91f9720a24bfd_step4\">4</a></td><td><span style=\"font-size:20px;\"><a class=\"ProveItLink\" href=\"__pv_it/e93f0463a5043794b3884eb5c86ddf869e7b59b70/expr.ipynb\"><img src=\"data:image/png;base64,iVBORw0KGgoAAAANSUhEUgAAAIEAAAAVBAMAAACTeZA2AAAAMFBMVEX///+IiIi6urrc3NxERETM\n",
       "zMwQEBCqqqpUVFQiIiJ2dnYyMjLu7u5mZmaYmJgAAABN0h6tAAAAAXRSTlMAQObYZgAAAbNJREFU\n",
       "OMtjYGDgu8dAJmC9eABE8ezCqcIOj252AyDBlApi8n0AmuI2AYsiHgeGI5nYrC4Akc0g4jaI4AJp\n",
       "5r6ARSU30Jq92KwXAJGnQcRKuAn8BVhUvgXi7zhN4BJAMUH/AEKBM4wxGejRPzhN4ElAMWElkoIQ\n",
       "KM08ASqJ3QSGTSgm7BC8DlfABw0TRiDN3ShbgMuEtUC8DMTg2AB00e8D54HBxjsTDP5CFLI8YGA4\n",
       "v4fnM8iW3WBwAcWE10D8HsQoCwCK/WHgF0DYsR1McQJtrz/A8BGXGyqhcRgCDC8G3g0M5xcglJxO\n",
       "ApFsCqD45vmFy4R4ENEJZKsFgI3SR/iXucsAZsJeBqbv+EzgbgCFgwMwOTxguA+MT16Id3cbwH3x\n",
       "j4H3DyIcGlBM0ISFAygu+BV48uBWMG1AhOQnhmMPcLnhNSwuQCZwPGBBJOvT0NTFBRTqY/DFmR5u\n",
       "IacHnovrEApaYW4BSpyVQncCMManZc6cCfTQVpQUhQwMkFI1HsADT8tcCbjUvMVrAiJngcoH7IDF\n",
       "AJ8Jp+HlAwPOMgpYwuABoCzMlAQJ2nvklHJ8BtByEgCC2Xw7HWNakgAAAABJRU5ErkJggg==\n",
       "\" style=\"display:inline;vertical-align:middle;\" /></a> <a class=\"ProveItLink\" href=\"__pv_it/a973e92b04e8e34c0ded051d422be6bde4f4a7130/proof.ipynb\" style=\"text-decoration: none\">&#x22A2;&nbsp;</a><a class=\"ProveItLink\" href=\"__pv_it/b6a26ed9fe8952589921f8291efca06471dd99000/expr.ipynb\"><img src=\"data:image/png;base64,iVBORw0KGgoAAAANSUhEUgAAADgAAAAPBAMAAABD1xE4AAAAMFBMVEX////MzMyYmJjc3NyIiIhU\n",
       "VFR2dna6urqqqqpmZmYyMjIiIiIQEBBERETu7u4AAACIO4EmAAAAAXRSTlMAQObYZgAAAJhJREFU\n",
       "GNNj4LuzgQEbkACTXBOwSraASf4GPJL1DxAivAZoktlIyhkvoEkudZmBkNVEleT79eA9yLDZu0Fg\n",
       "/wQUSY5/DPwOCK1dDciSnAsY3icgJPnWFCBJAr1Zj+QZ02RknfwKDPNBnpm1CgwWo9jJX8B3CKGx\n",
       "CtW1rAq8iPDjW4fmlSlJCI2sAhAa6K8zu3dvRQ1QZlQuAIzoLir1hyZsAAAAAElFTkSuQmCC\n",
       "\" style=\"display:inline;vertical-align:middle;\" /></a></span></td></tr>\n",
       "<tr><td><a name=\"0x3cd91f9720a24bfd_step4\">4</a></td><td>instantiation</td><td><a href=\"#0x3cd91f9720a24bfd_step5\">5</a>, <a href=\"#0x3cd91f9720a24bfd_step8\">8</a>, <a href=\"#0x3cd91f9720a24bfd_step6\">6</a></td><td><span style=\"font-size:20px;\"><a class=\"ProveItLink\" href=\"__pv_it/7987fd8c6e1eb6e40998fa8fee35d6ebfc9aa0710/expr.ipynb\"><img src=\"data:image/png;base64,iVBORw0KGgoAAAANSUhEUgAAAJMAAAAVBAMAAACwIsHjAAAAMFBMVEX///+IiIi6urrc3NxERETM\n",
       "zMwQEBCqqqpUVFQiIiJ2dnYyMjLu7u5mZmaYmJgAAABN0h6tAAAAAXRSTlMAQObYZgAAAepJREFU\n",
       "OMulVL1LQlEUP6mVPZ8frUHgFDT5/oIQgragwT0RGlzCKQiCjGioIYQgEBqcAodCgigy4Q3RIqFO\n",
       "QYG5i/Q1CGXROe9++J54X4M/uOf+uPe83zv33HMPAISaMCrGGyZN+s3/rgsue5MGGs8a0dAbyi3l\n",
       "2LokDuhxuEsPCyZDdpfMMxmNPg7U+a4kdgTwx5VhAUXIVskUpVQ4w3clsaODo6uU0iIOqZjJdyVB\n",
       "LApyhMnoKaX0pEOqKHaLNs8En7057jVcCi4cUtfTj2xXEroQnrcxnAM7sxmV1BmOUyL+Esb4bdYM\n",
       "K1hGgnkLP+wLXwugdqt/0n/LFuoOqTaOVyIbK7jWg7C1LAlzvbKmKYxn24R3VVSb/OYTmFMIlqBW\n",
       "ADthqKbITkSpbvQvldQqmX3kcyuWZizDyyrWz4n3wBBSFfB03aQCWcpVHKupBS9WFXASZCkpG/KA\n",
       "vxDs9XOVdUjNi1zRDYaj+jqrUEEInlI/7R9w31JF1RY3SFL+lq8OtRInMlO8XDVcOoRlZV092etK\n",
       "b5zjOU44EdgT0aHHw8xgUFgwx+l8Hs966ShRC1sDzobt4bhAl89FS4q1gsq54yrVf87Ur5h6ROXs\n",
       "M9ykqrJfgeiiIfUR4m5S1EA8KXYPzZEacsjgvf0P2RSTJR/B0NcAAAAASUVORK5CYII=\n",
       "\" style=\"display:inline;vertical-align:middle;\" /></a> <a class=\"ProveItLink\" href=\"__pv_it/546765e5fe541ff37b967f6ff5356613c2e8c1980/proof.ipynb\" style=\"text-decoration: none\">&#x22A2;&nbsp;</a><a class=\"ProveItLink\" href=\"../boolean/__pv_it/83a1ddf0f64531c80e7f41ea6b904214668818b30/expr.ipynb\"><img src=\"data:image/png;base64,iVBORw0KGgoAAAANSUhEUgAAAA4AAAAOBAMAAADtZjDiAAAAG1BMVEX///9UVFQQEBAiIiJmZmaI\n",
       "iIiqqqrMzMwAAADC2JlRAAAAAXRSTlMAQObYZgAAABlJREFUCNdjYGBgKGOAgFRa0s7GxkrGxoYA\n",
       "QSUGlQeagkgAAAAASUVORK5CYII=\n",
       "\" style=\"display:inline;vertical-align:middle;\" /></a></span></td></tr>\n",
       "<tr><td>&nbsp;</td><td colspan=4 style=\"text-align:left\"><span style=\"font-size:20px;\"><a class=\"ProveItLink\" href=\"../../__pv_it/d3792d0d8642fdf1cd2a3a9b32c673ee13653de00/expr.ipynb\"><img src=\"data:image/png;base64,iVBORw0KGgoAAAANSUhEUgAAAA8AAAAOBAMAAAACpFvcAAAALVBMVEX///8iIiIQEBBERERUVFS6\n",
       "urqIiIjc3NxmZmaqqqru7u6YmJgyMjLMzMwAAACK9jtgAAAAAXRSTlMAQObYZgAAAFtJREFUCNdj\n",
       "YACBOwxQcA5Kc59bAGGs7CuAMDbkBYBp1gXzNoAZSxnuJYAZAQx1DSCa16PDzwCshIGB6QCIMYGB\n",
       "gVEBSLMDGTwPgIxCIGZ+zsCw+N0pBk67hw0AfpEVEQi8t+wAAAAASUVORK5CYII=\n",
       "\" style=\"display:inline;vertical-align:middle;\" /></a> : <a class=\"ProveItLink\" href=\"../../__pv_it/53e304ff98ebc000dbe3ef224f4637dbafd46ba70/expr.ipynb\"><img src=\"data:image/png;base64,iVBORw0KGgoAAAANSUhEUgAAAAkAAAAOBAMAAAAPuiubAAAALVBMVEX///+YmJjc3NyIiIhUVFR2\n",
       "dna6urqqqqpmZmYyMjIiIiIQEBBERETu7u4AAAALjtrwAAAAAXRSTlMAQObYZgAAAE9JREFUCNdj\n",
       "4D29gAEIOBtAJF8BiMy7ACKjQATDFON2BgbelxfuKTCwv2XgM2DgmMBwLwCkPK+AgU+Aoe8CA18C\n",
       "70YGBhYBHqARvM2BDAwAqXgQspq5HJAAAAAASUVORK5CYII=\n",
       "\" style=\"display:inline;vertical-align:middle;\" /></a></span></td></tr><tr><td><a name=\"0x3cd91f9720a24bfd_step5\">5</a></td><td>theorem</td><td></td><td><span style=\"font-size:20px;\"> <a class=\"ProveItLink\" href=\"_proofs_/contradictionViaFalsification.ipynb\" style=\"text-decoration: none\">&#x22A2;&nbsp;</a><a class=\"ProveItLink\" href=\"__pv_it/035c67f0c0c1f6d711f8c36a9b94cfb564be5b110/expr.ipynb\"><img src=\"data:image/png;base64,iVBORw0KGgoAAAANSUhEUgAAAHoAAAAWBAMAAAD9QZX2AAAAMFBMVEX///8QEBCIiIhmZma6urrM\n",
       "zMxUVFQiIiJERETc3Nzu7u6qqqp2dnaYmJgyMjIAAAAcRTyBAAAAAXRSTlMAQObYZgAAAT5JREFU\n",
       "OMtjYKAIPAARd8nQGA0iToOIV2To3gQiZgAxZwO5uvkWMDDwbCBXN++pVaumM5Crm+FHR0cN+bpT\n",
       "GRg6wQwIyQKT5ZgAZXTi0+3MwAWONd4vEE0w2fsOEBoqDgZsGLrZGZgugOjFf1F0c9lfgDCg4qhG\n",
       "w3XzXGAH06eKURTwLDdgQBbHoZvzQRiIYlXoQFEQxAFJBDBxHLoZOlMgXjJHUZDAXMAAE2frAIJe\n",
       "7Lo3g5XdZtBH1s27gekDA7I4Lrv5FUCB9PhM/wIkBetsTvxiQBZH1W1eXi5YXl4GsgYky7yAYX4A\n",
       "kgIrBs6vDDBxtndA8BbNbmTgC3TDBYRuFiD7L8OMBQhxDJcjAY4fDJz9tQgF/Q0MM75fCNyAEAeC\n",
       "Ex2NHR0H8CZfFONJznvIurknUKKbl+SMx0yKYgCRgVo2nnjVMAAAAABJRU5ErkJggg==\n",
       "\" style=\"display:inline;vertical-align:middle;\" /></a></span></td></tr>\n",
       "<tr><td>&nbsp;</td><td colspan=4 style-\"text-align:left\"><a class=\"ProveItLink\" href=\"_proofs_/contradictionViaFalsification.ipynb\">proveit.logic.equality.contradictionViaFalsification</a></td></tr><tr><td><a name=\"0x3cd91f9720a24bfd_step6\">6</a></td><td>modus ponens</td><td><a href=\"#0x3cd91f9720a24bfd_step7\">7</a>, <a href=\"#0x3cd91f9720a24bfd_step8\">8</a></td><td><span style=\"font-size:20px;\"><a class=\"ProveItLink\" href=\"__pv_it/2e6b675f3c325cb1423a6c7faae1cce1d5933bce0/expr.ipynb\"><img src=\"data:image/png;base64,iVBORw0KGgoAAAANSUhEUgAAAJYAAAAVBAMAAABWCwqnAAAAMFBMVEX///+IiIi6urrc3NxERETM\n",
       "zMwQEBCqqqpUVFQiIiJ2dnYyMjLu7u5mZmaYmJgAAABN0h6tAAAAAXRSTlMAQObYZgAAAepJREFU\n",
       "OMulVL9Lw0AUfqSVapqkuoqFTgWnZnUTCm6KQ8FJKB0EF6kIruLg4iCKg2aro4hScLBYCxFKQURa\n",
       "JxGhFvwHqg6CVvHu3eWS1FwEfXDv8pIvX3Lf+wEARhv+b/Nj1GvnsueRTsjLK31xepY4owtQXwyC\n",
       "10Gb2g64P0fdoOmEDKSXiVPpVS2I6xQg3gq4v4wMZREjCGnQvQW8YhBIoijjggMRI0hwKT0PNMv3\n",
       "IXKKjC3laogYQYJL9cqS4/sEWYcg5YqnnBhBgiu+niz6zkYtSVZl5E7GpQopEaTmaUKIiM0L7ZXm\n",
       "wkL7ZJAZIvCH3aT5OqpSq/m4DEd8BqLlAKukMNZseHa/GzvDbY9c9SAxLPmvmKMLB5Ev5XZJ+ADa\n",
       "uwd8XaC+gEXTLEm4Bro85KDBHVawNVA8VRHZNDkXqZxM8TcuDqpQvSYBvkCnVaFXmZnOGRMdeLSF\n",
       "XhUfl+KckYFQL5rHF2i4vaeUhfaJlLYky6PQnoEwj5RrC6Y9avH6PCb/3Im2ZFx6iaYQHJCor5tR\n",
       "z0jY4Ps4wd6e9BPdW9aCZe0TmehgsGwH5Paj10xPD4XYFdaD6DHGlZeAjVYoF/a2Cj4uoytDZ8Oo\n",
       "2My5FDHOL5DO1XoYVxQVcGVOY6vH2n+Z0U8/5/03esyX5F57yNQAAAAASUVORK5CYII=\n",
       "\" style=\"display:inline;vertical-align:middle;\" /></a> <a class=\"ProveItLink\" href=\"__pv_it/48b267c669a95d42b5cb8d11a03160f38eb00a400/proof.ipynb\" style=\"text-decoration: none\">&#x22A2;&nbsp;</a><a class=\"ProveItLink\" href=\"__pv_it/f0c473b37740471eb612378631aa56da77f21c070/expr.ipynb\"><img src=\"data:image/png;base64,iVBORw0KGgoAAAANSUhEUgAAADQAAAAOBAMAAACStyITAAAAMFBMVEX////MzMyYmJjc3NyIiIhU\n",
       "VFR2dna6urqqqqpmZmYyMjIiIiIQEBBERETu7u4AAACIO4EmAAAAAXRSTlMAQObYZgAAAHBJREFU\n",
       "GNNj4LuzgQETSIBJrglYpFrAJH8DTqn6BzilshlwSi11mYFDiu/Xg/cGQDprFQisRJbi+MfA74Bd\n",
       "F+cChvcJ2KWA3qpvwC7Fr8Aw/wHcrqUoUgV8h3C4kFWBdwIux09JQhefvXv3md27twIA10Um1Xfy\n",
       "AHEAAAAASUVORK5CYII=\n",
       "\" style=\"display:inline;vertical-align:middle;\" /></a></span></td></tr>\n",
       "<tr><td><a name=\"0x3cd91f9720a24bfd_step7\">7</a></td><td>assumption</td><td></td><td><span style=\"font-size:20px;\"><a class=\"ProveItLink\" href=\"__pv_it/e93f0463a5043794b3884eb5c86ddf869e7b59b70/expr.ipynb\"><img src=\"data:image/png;base64,iVBORw0KGgoAAAANSUhEUgAAAIEAAAAVBAMAAACTeZA2AAAAMFBMVEX///+IiIi6urrc3NxERETM\n",
       "zMwQEBCqqqpUVFQiIiJ2dnYyMjLu7u5mZmaYmJgAAABN0h6tAAAAAXRSTlMAQObYZgAAAbNJREFU\n",
       "OMtjYGDgu8dAJmC9eABE8ezCqcIOj252AyDBlApi8n0AmuI2AYsiHgeGI5nYrC4Akc0g4jaI4AJp\n",
       "5r6ARSU30Jq92KwXAJGnQcRKuAn8BVhUvgXi7zhN4BJAMUH/AEKBM4wxGejRPzhN4ElAMWElkoIQ\n",
       "KM08ASqJ3QSGTSgm7BC8DlfABw0TRiDN3ShbgMuEtUC8DMTg2AB00e8D54HBxjsTDP5CFLI8YGA4\n",
       "v4fnM8iW3WBwAcWE10D8HsQoCwCK/WHgF0DYsR1McQJtrz/A8BGXGyqhcRgCDC8G3g0M5xcglJxO\n",
       "ApFsCqD45vmFy4R4ENEJZKsFgI3SR/iXucsAZsJeBqbv+EzgbgCFgwMwOTxguA+MT16Id3cbwH3x\n",
       "j4H3DyIcGlBM0ISFAygu+BV48uBWMG1AhOQnhmMPcLnhNSwuQCZwPGBBJOvT0NTFBRTqY/DFmR5u\n",
       "IacHnovrEApaYW4BSpyVQncCMManZc6cCfTQVpQUhQwMkFI1HsADT8tcCbjUvMVrAiJngcoH7IDF\n",
       "AJ8Jp+HlAwPOMgpYwuABoCzMlAQJ2nvklHJ8BtByEgCC2Xw7HWNakgAAAABJRU5ErkJggg==\n",
       "\" style=\"display:inline;vertical-align:middle;\" /></a> <a class=\"ProveItLink\" href=\"__pv_it/7199c28f67290ef35fb86f216e2b9cfca368404e0/proof.ipynb\" style=\"text-decoration: none\">&#x22A2;&nbsp;</a><a class=\"ProveItLink\" href=\"__pv_it/dcce40c01dfbda94822b8af5f7acb9adcb70a6360/expr.ipynb\"><img src=\"data:image/png;base64,iVBORw0KGgoAAAANSUhEUgAAAGwAAAAUBAMAAACaOcVSAAAAMFBMVEX////MzMyYmJjc3NyIiIhU\n",
       "VFR2dna6urqqqqpmZmYyMjIiIiIQEBBERETu7u4AAACIO4EmAAAAAXRSTlMAQObYZgAAAVlJREFU\n",
       "OMtjYMAOjBhwAw4DBga+OxuwyPBdYHh7Gos4YwOIDAZirglYpLmABq7EZpEDiHwFxPwNWKQ1gfgH\n",
       "Tm1sQLL+AUL0MoyxmYGB/R9ObXwHGBiykURloTQz0L9sG3BqY1jOwLDUZQZclAnqTxYgzRXi2YBL\n",
       "WyYD368H74H+59wNBj8hsrwKDAzv1/F9BvljFRhMQNGmxcDxj4HfAWHaCjDFDbSn/wHDF1y2dTNw\n",
       "LmB4n4AQf3UcRPIUMDDMYuD7hkubPCja6hF+YA4zgGlbycD+A7c2fgWG+cAo4IR4YZUB3JGfGDj/\n",
       "IfwWgKKtmoG/gO8Q3DD2BYgg+c7wRgGXbVoMrAq8iNT1Chr1bEChIIabOONtGgPflCSEaCDMVmBU\n",
       "v3RDtwwYSXtO794NdO9CVAkDpMSFB/BtwCGhiVcbmwMOCV4DfNpe4XTGBXzaLuOUwVcoMBkwAACd\n",
       "SV2Pb+5cqAAAAABJRU5ErkJggg==\n",
       "\" style=\"display:inline;vertical-align:middle;\" /></a></span></td></tr>\n",
       "<tr><td><a name=\"0x3cd91f9720a24bfd_step8\">8</a></td><td>assumption</td><td></td><td><span style=\"font-size:20px;\"><a class=\"ProveItLink\" href=\"__pv_it/8dda6c9d1972613d0d1b1026a4576be0fca112610/expr.ipynb\"><img src=\"data:image/png;base64,iVBORw0KGgoAAAANSUhEUgAAABsAAAAVBAMAAABF8IgWAAAAMFBMVEX///+IiIi6urrc3NxERETM\n",
       "zMwQEBCqqqpUVFQiIiJ2dnYyMjLu7u5mZmaYmJgAAABN0h6tAAAAAXRSTlMAQObYZgAAAKpJREFU\n",
       "GNNjYGDgu8cAAqwXD4Aonl0MEMCUCiL5PjAwHMkEsW6DCK4JQGIviLUSzv2OwmX6g8IFq0BwuRtl\n",
       "CxgYloG4HBsYGM7v4fnMwPAexC0LYGCoP8DwEajmAgNDyGSwjTy/gFSnAAODWgDIWiagVdwNIL0O\n",
       "DAz/GHj/QPWCTP7EcOwB1GQQt4/BF9nes1IPUNzMgHBVAgoX5F8IAPuXAR4aSWCKHSmsAKIIM4eS\n",
       "pPa1AAAAAElFTkSuQmCC\n",
       "\" style=\"display:inline;vertical-align:middle;\" /></a> <a class=\"ProveItLink\" href=\"__pv_it/c59981489edd07c57c13c76c8cc6177b30b53a960/proof.ipynb\" style=\"text-decoration: none\">&#x22A2;&nbsp;</a><a class=\"ProveItLink\" href=\"../../__pv_it/53e304ff98ebc000dbe3ef224f4637dbafd46ba70/expr.ipynb\"><img src=\"data:image/png;base64,iVBORw0KGgoAAAANSUhEUgAAAAkAAAAOBAMAAAAPuiubAAAALVBMVEX///+YmJjc3NyIiIhUVFR2\n",
       "dna6urqqqqpmZmYyMjIiIiIQEBBERETu7u4AAAALjtrwAAAAAXRSTlMAQObYZgAAAE9JREFUCNdj\n",
       "4D29gAEIOBtAJF8BiMy7ACKjQATDFON2BgbelxfuKTCwv2XgM2DgmMBwLwCkPK+AgU+Aoe8CA18C\n",
       "70YGBhYBHqARvM2BDAwAqXgQspq5HJAAAAAASUVORK5CYII=\n",
       "\" style=\"display:inline;vertical-align:middle;\" /></a></span></td></tr>\n",
       "</table>"
      ],
      "text/plain": [
       "\tstep type\trequirements\tstatement\n",
       "0\tinstantiation\t1, 2, 3\t{b in BOOLEANS, b => (b = FALSE)} |- [not](b)\n",
       "\tA : b\n",
       "1\ttheorem\t\t|- forall_{A in BOOLEANS | A => FALSE} [not](A)\n",
       "\tproveit.logic.boolean.implication.denyViaContradiction\n",
       "2\tassumption\t\t{b in BOOLEANS} |- b in BOOLEANS\n",
       "3\thypothetical reasoning\t4\t{b => (b = FALSE)} |- b => FALSE\n",
       "4\tinstantiation\t5, 8, 6\t{b, b => (b = FALSE)} |- FALSE\n",
       "\tA : b\n",
       "5\ttheorem\t\t|- forall_{A | A, A = FALSE} FALSE\n",
       "\tproveit.logic.equality.contradictionViaFalsification\n",
       "6\tmodus ponens\t7, 8\t{b => (b = FALSE), b} |- b = FALSE\n",
       "7\tassumption\t\t{b => (b = FALSE)} |- b => (b = FALSE)\n",
       "8\tassumption\t\t{b} |- b"
      ]
     },
     "execution_count": 65,
     "metadata": {},
     "output_type": "execute_result"
    }
   ],
   "source": [
    "not_b__truth.proof()"
   ]
  },
  {
   "cell_type": "markdown",
   "metadata": {},
   "source": [
    "## Equality and sets"
   ]
  },
  {
   "cell_type": "markdown",
   "metadata": {},
   "source": [
    "All equality expressions are in the boolean set by the `equalityInBool` axiom.  That is, given any two mathematical objects, they are either equal or not (even nonsense is either the same nonsense or different nonsense)."
   ]
  },
  {
   "cell_type": "code",
   "execution_count": 66,
   "metadata": {},
   "outputs": [
    {
     "data": {
      "text/html": [
       "<strong id=\"eq_in_bool\">eq_in_bool:</strong> <span style=\"font-size:20px;\"> <a class=\"ProveItLink\" href=\"__pv_it/f4daacdd323e9d54545f001cd25582a1b4afb8950/proof.ipynb\" style=\"text-decoration: none\">&#x22A2;&nbsp;</a><a class=\"ProveItLink\" href=\"__pv_it/1c40094ec4e301f558c7a5e49bb275dbdd05fce90/expr.ipynb\"><img src=\"data:image/png;base64,iVBORw0KGgoAAAANSUhEUgAAAGQAAAAUBAMAAACJ7oWmAAAAMFBMVEX///9UVFTMzMx2dna6uroQ\n",
       "EBCqqqqIiIgiIiJmZmYyMjJERETu7u6YmJjc3NwAAAC+aOQFAAAAAXRSTlMAQObYZgAAAXhJREFU\n",
       "KM9jYOC7wIADsD3AIXEau2gEkJBDFWNv3f0rQgTIWIfdpJVAfApNjIup4PTJCwy8E7Br+QbEzAWo\n",
       "YtwsF9gVNjBwYHcwyx8gwRMA4fDu6OiCamFL2MDwArslzA0gcgmYzbT9ANwWZp8NDJVAJt/k6THo\n",
       "zhavTGBgsASzTx1AOMxDUYFhL5Dp+oDrA0jIahUIgDzOcH4Nzz8GhltglXIIv0T8D2FgaAM6OZaB\n",
       "cwOaLfkHGL4zMGSA2RuQvM9814ABqIvzDwMHWtgwzGLg+czAoA/2ShTIbqgWhg2+IC2sGxjOK2BE\n",
       "C8s3qBY+ZFsYNjCCHHbegCGfAeGXhSDmX5DdDB5g4QBkLQJcIO+fT2CQQk9PXxiOXoB5fzqKLZdB\n",
       "4chdwNvIjOYwWYadQHIymM2RAE8wBsyWAiC7ecSLHpagaTlZDErgi8BsHmkflGTJgSuFg9Q2QFOP\n",
       "NSTBQAGuZMmAJVnCwD7cWk6RlMXwmoY7I/Ni9yYAbzdp3GrY9iAAAAAASUVORK5CYII=\n",
       "\" style=\"display:inline;vertical-align:middle;\" /></a></span><br>"
      ],
      "text/plain": [
       "eq_in_bool: |- (a = b) in BOOLEANS"
      ]
     },
     "execution_count": 66,
     "metadata": {},
     "output_type": "execute_result"
    }
   ],
   "source": [
    "eq_in_bool = Equals(a, b).deduceInBool()"
   ]
  },
  {
   "cell_type": "markdown",
   "metadata": {},
   "source": [
    "A singleton is a set with one element.  If $x=c$, then $x$ is in the singleton set of $\\{c\\}$:"
   ]
  },
  {
   "cell_type": "code",
   "execution_count": 67,
   "metadata": {},
   "outputs": [
    {
     "data": {
      "text/html": [
       "<strong id=\"in_singleton_truth\">in_singleton_truth:</strong> <span style=\"font-size:20px;\"><a class=\"ProveItLink\" href=\"__pv_it/d5ad0b76fa60f65135d9750166faa7d6163b011c0/expr.ipynb\"><img src=\"data:image/png;base64,iVBORw0KGgoAAAANSUhEUgAAAEMAAAAVBAMAAADvM06qAAAAMFBMVEX///+IiIi6urrc3NxERETM\n",
       "zMwQEBCqqqpUVFQiIiJ2dnYyMjLu7u5mZmaYmJgAAABN0h6tAAAAAXRSTlMAQObYZgAAANtJREFU\n",
       "KM9jYGDgu8eAC7BePACieHYx4AZMqSCS7wMeJQy3QQTXBHxKVtJdCY9gs+JCdFkuQVEGhmUgFscG\n",
       "BoZTDC8FZoM4q3eDwF4Qk3k6gzcDw3sQsyyAgWENw/oDymiGcC5gaGdg4L7AwBAyGcg9wOCC4Yr7\n",
       "4IBl6BRgYFALALE+YihJAZPcDSC3OIAi4ytEHOKWHaB4+QUWeA/zUQ3jBwYZNFP+MTCwQ30EVML0\n",
       "neUD8wM0JTcYeK4iwoWnUUb2HUawrHtISugmEFRCRHphwJvqksAUO4G0CwCPX0EbfQ+BHgAAAABJ\n",
       "RU5ErkJggg==\n",
       "\" style=\"display:inline;vertical-align:middle;\" /></a> <a class=\"ProveItLink\" href=\"__pv_it/d4ceadf584ae549c91be61c5bdfcec46e1fc7e9b0/proof.ipynb\" style=\"text-decoration: none\">&#x22A2;&nbsp;</a><a class=\"ProveItLink\" href=\"__pv_it/0d30441dffb9d58f1685408b059dfae23594d6790/expr.ipynb\"><img src=\"data:image/png;base64,iVBORw0KGgoAAAANSUhEUgAAAEIAAAAVBAMAAAAA8SWUAAAAMFBMVEX///8QEBBmZmaqqqrMzMxE\n",
       "REQyMjIiIiKYmJh2dna6urrc3NxUVFSIiIju7u4AAAA6P00QAAAAAXRSTlMAQObYZgAAAPRJREFU\n",
       "KM9jYMAGODQgtNM9BuyALxPGWuiAXQXHBxiLKQG7Cs4CTBaRKjjCy8vwqmCJfYDdjLd3dt28AOI9\n",
       "e4Cqc+5dBwZOAaDPJnDUsoNdfBpuGg+Iv92ANQHsK84HnP+4NoDEA+AqDEGhUMnAY8DAkAQ0g4EV\n",
       "IsUilgYEIJZrNSgk/kGMqwUS/GBXMHAjzACFJCOEmwMi/KEhK4BwB1D2/QRY6DI/uM/AC/aFLkqI\n",
       "8TcwMBiA/bLeIJ5hB1ic3QBZBdMBhkcOYNabu281GiAxenQdcnjM7LiAEepcUwmEOlLMCRBSQTh9\n",
       "MCDS2AIcKpiR0ikArdU/FvOY1jkAAAAASUVORK5CYII=\n",
       "\" style=\"display:inline;vertical-align:middle;\" /></a></span><br>"
      ],
      "text/plain": [
       "in_singleton_truth: {x = c} |- x in {c}"
      ]
     },
     "execution_count": 67,
     "metadata": {},
     "output_type": "execute_result"
    }
   ],
   "source": [
    "in_singleton_truth = Equals(x, c).deriveIsInSingleton([Equals(x, c)])"
   ]
  },
  {
   "cell_type": "markdown",
   "metadata": {},
   "source": [
    "## Not equals\n",
    "\n",
    "The `NotEquals` operation is a more way of expressing that two mathematical objects are not equal to each other."
   ]
  },
  {
   "cell_type": "code",
   "execution_count": 68,
   "metadata": {},
   "outputs": [],
   "source": [
    "from proveit.logic import NotEquals"
   ]
  },
  {
   "cell_type": "code",
   "execution_count": 69,
   "metadata": {},
   "outputs": [
    {
     "data": {
      "text/html": [
       "<strong id=\"a_neq_b\">a_neq_b:</strong> <a class=\"ProveItLink\" href=\"__pv_it/2da46782069b8b4bc79b25fc9f81850eabe78fad0/expr.ipynb\"><img src=\"data:image/png;base64,iVBORw0KGgoAAAANSUhEUgAAADAAAAAUCAMAAAD84U6VAAAAOVBMVEX///8kJCQNDQ0oKChUVFSq\n",
       "qqrMzMwiIiJERESYmJgyMjK6urru7u4QEBCIiIh2dnZmZmbc3NwAAACwiO0fAAAAAXRSTlMAQObY\n",
       "ZgAAAMxJREFUKM+1ktEWgyAIhtmmZoqKvP/DjthZjdrydDEuPPyFfvwKwFk0hEvR05ZjLNNwg8uf\n",
       "KtEQEI1kPwSET5UZrwHaZqFTo1oO+6MBQHK1knaVSxfJ21FJ43Ff1tUockJZpBTLLJriAODVAlcp\n",
       "1Wyqu/rgrKakmAZQomZhD+hWa3NZrlY3CRCsh1t5OVk5rI3z4mNx7hJ4c2TaAYDz226U7ufJQTOv\n",
       "dBgDJ7VRv6Lcb+iu2rk5vApSbfPPR/Z0bay/AM7Dtz8DIJ/8ewK6EQfv9ZNvNwAAAABJRU5ErkJg\n",
       "gg==\n",
       "\" style=\"display:inline;vertical-align:middle;\" /></a><br>"
      ],
      "text/plain": [
       "a_neq_b: a != b"
      ]
     },
     "execution_count": 69,
     "metadata": {},
     "output_type": "execute_result"
    }
   ],
   "source": [
    "a_neq_b = NotEquals(a, b)"
   ]
  },
  {
   "cell_type": "code",
   "execution_count": 70,
   "metadata": {},
   "outputs": [
    {
     "data": {
      "text/html": [
       "<span style=\"font-size:20px;\"> <a class=\"ProveItLink\" href=\"__pv_it/1058a97fa00e7bb0a6e7faf7aa80f69709719f1e0/proof.ipynb\" style=\"text-decoration: none\">&#x22A2;&nbsp;</a><a class=\"ProveItLink\" href=\"__pv_it/137c9986a4ca4659c34fbd4c518761ca6addd4530/expr.ipynb\"><img src=\"data:image/png;base64,iVBORw0KGgoAAAANSUhEUgAAALkAAAAUCAMAAADm8WxeAAAAOVBMVEX///8kJCQNDQ0oKChUVFTM\n",
       "zMx2dna6uroQEBCqqqqIiIgiIiJmZmYyMjJERETu7u6YmJjc3NwAAABfYoQ1AAAAAXRSTlMAQObY\n",
       "ZgAAAgFJREFUSMfFl9t2hCAMRWmLilzF///YIogKSYyudrU8zBknTjaGkKAQQsRF3I4xwN/mKB4N\n",
       "0jcHxUaFVg2egbvze/DKlG/y0dRJ3xy0vbeH7uqYOcjpeuXs7s49gZK+XXwT7B5adLFMyNvorHPN\n",
       "Ic0TSd8ctBsAmtVwIR+uV9Nakz4onkj6Nq9CDqGbRvMq5ON5u5vY7WneGogSAaFJ9bFu0Y5Wq76O\n",
       "+KHNOKm1LWs3siuuLWfAmSDNITSpr9VpUmkF3Xo8p8vj63P7PGYQVhfSR17r5dyj+81lnNP1VOWr\n",
       "ho5J+MGgSc1cM2fzZv19yOeccWveJzO75Ltva44xNgaCCco4Ak2q9sSx2Wy6gjHI9tq6HIM8gWHl\n",
       "Zq76nRBlY8CZYGDQpNW78tk8dCGPSGGdSpH6+cxxJl7NO2jSunD5keYu5T5USbkj8utyhEpMBs9P\n",
       "2WcLnHkxACbhB4Mm3TdLyI8kXXsgAZ1unWp2NjuU2Yhg5sWAM5E+hECT1jLjU7YtRorx2gFAVZPp\n",
       "/37/1Y5sHQb/HxoDxsR6IQJNWsMfUs0cotTX1HSg0AarxxpIx+XnNZ9QA8bETlwIdFO6Ec+3rSY8\n",
       "6IO/1P0hNCt9+HG3ve0vT1wAWtQTzz/fpt+zUy7lmzaIJ9BdqUP+fcj9371ZQGhV4sXqdt8s//E2\n",
       "V6FZvwHJnByMvoW3UQAAAABJRU5ErkJggg==\n",
       "\" style=\"display:inline;vertical-align:middle;\" /></a></span>"
      ],
      "text/plain": [
       "|- (a != b) = [not](a = b)"
      ]
     },
     "execution_count": 70,
     "metadata": {},
     "output_type": "execute_result"
    }
   ],
   "source": [
    "a_neq_b.definition()"
   ]
  },
  {
   "cell_type": "markdown",
   "metadata": {},
   "source": [
    "From $\\lnot (a = b)$ one can derive $a \\neq b$ and vice-versa, folding and unfolding the `NotEquals`."
   ]
  },
  {
   "cell_type": "code",
   "execution_count": 71,
   "metadata": {},
   "outputs": [
    {
     "data": {
      "text/html": [
       "<span style=\"font-size:20px;\"><a class=\"ProveItLink\" href=\"__pv_it/fad26cca9dc4601b42c7280c753aa1ecd45ba2a30/expr.ipynb\"><img src=\"data:image/png;base64,iVBORw0KGgoAAAANSUhEUgAAAGMAAAAVBAMAAACgbk16AAAAMFBMVEX///+IiIi6urrc3NxERETM\n",
       "zMwQEBCqqqpUVFQiIiJ2dnYyMjLu7u5mZmaYmJgAAABN0h6tAAAAAXRSTlMAQObYZgAAAW5JREFU\n",
       "OMtjYGDgu8dALGC9eABE8exCEbXDpZzdAEgwpYKYfB+QJXgcsCk/kgkkmkGs2yCCawKyJLcBViv2\n",
       "AvFpEGMlppa32F31HaRQALuWyVh1MP0BuTkBqxbmCVi1QNRswqqF8QKQsF0rdgBVC3ejbAEDw1og\n",
       "axmIy7EBSY7lAdAVyQz7QezVu0EA5HGG83t4PjMwvAay3oO4ZQEMDDdnAsEsIIcTaNixBwxX0BxW\n",
       "f4DhIwNDJcg+oDNC4B62AGI2BQaG+wcYJqJpuc3A84uBIR7E7ASGm1oAmpYUBp6vGNHC9B2ihbsB\n",
       "5BcHJC1AhwHNY/+A8MsOEPMfAy8wmDVhfoGHmAXE+zzfgSFSjGrLJ5AHwd5fhqKFFcQB+s6R4WXD\n",
       "AlQtfQy+QPIW1nhhAnJOCAY3KqBqOSsFtIRhKykJBpLIJ8C1JBCRLBlQkiVqfmExwKnlNDy/MOwi\n",
       "nMXAwBnk1yRIDr1HVEbmM4DmfQBqAmgbhOSJDQAAAABJRU5ErkJggg==\n",
       "\" style=\"display:inline;vertical-align:middle;\" /></a> <a class=\"ProveItLink\" href=\"__pv_it/1da52697ec00f716e52f494dee7e5de6d6c233270/proof.ipynb\" style=\"text-decoration: none\">&#x22A2;&nbsp;</a><a class=\"ProveItLink\" href=\"__pv_it/2da46782069b8b4bc79b25fc9f81850eabe78fad0/expr.ipynb\"><img src=\"data:image/png;base64,iVBORw0KGgoAAAANSUhEUgAAADAAAAAUCAMAAAD84U6VAAAAOVBMVEX///8kJCQNDQ0oKChUVFSq\n",
       "qqrMzMwiIiJERESYmJgyMjK6urru7u4QEBCIiIh2dnZmZmbc3NwAAACwiO0fAAAAAXRSTlMAQObY\n",
       "ZgAAAMxJREFUKM+1ktEWgyAIhtmmZoqKvP/DjthZjdrydDEuPPyFfvwKwFk0hEvR05ZjLNNwg8uf\n",
       "KtEQEI1kPwSET5UZrwHaZqFTo1oO+6MBQHK1knaVSxfJ21FJ43Ff1tUockJZpBTLLJriAODVAlcp\n",
       "1Wyqu/rgrKakmAZQomZhD+hWa3NZrlY3CRCsh1t5OVk5rI3z4mNx7hJ4c2TaAYDz226U7ufJQTOv\n",
       "dBgDJ7VRv6Lcb+iu2rk5vApSbfPPR/Z0bay/AM7Dtz8DIJ/8ewK6EQfv9ZNvNwAAAABJRU5ErkJg\n",
       "gg==\n",
       "\" style=\"display:inline;vertical-align:middle;\" /></a></span>"
      ],
      "text/plain": [
       "{[not](a = b)} |- a != b"
      ]
     },
     "execution_count": 71,
     "metadata": {},
     "output_type": "execute_result"
    }
   ],
   "source": [
    "a_neq_b.prove([Not(a_eq_b)])"
   ]
  },
  {
   "cell_type": "code",
   "execution_count": 72,
   "metadata": {},
   "outputs": [
    {
     "data": {
      "text/html": [
       "<table><tr><th>&nbsp;</th><th>step type</th><th>requirements</th><th>statement</th></tr>\n",
       "<tr><td><a name=\"0x4c8b4330887f08fe_step0\">0</a></td><td>instantiation</td><td><a href=\"#0x4c8b4330887f08fe_step1\">1</a>, <a href=\"#0x4c8b4330887f08fe_step2\">2</a></td><td><span style=\"font-size:20px;\"><a class=\"ProveItLink\" href=\"__pv_it/fad26cca9dc4601b42c7280c753aa1ecd45ba2a30/expr.ipynb\"><img src=\"data:image/png;base64,iVBORw0KGgoAAAANSUhEUgAAAGMAAAAVBAMAAACgbk16AAAAMFBMVEX///+IiIi6urrc3NxERETM\n",
       "zMwQEBCqqqpUVFQiIiJ2dnYyMjLu7u5mZmaYmJgAAABN0h6tAAAAAXRSTlMAQObYZgAAAW5JREFU\n",
       "OMtjYGDgu8dALGC9eABE8exCEbXDpZzdAEgwpYKYfB+QJXgcsCk/kgkkmkGs2yCCawKyJLcBViv2\n",
       "AvFpEGMlppa32F31HaRQALuWyVh1MP0BuTkBqxbmCVi1QNRswqqF8QKQsF0rdgBVC3ejbAEDw1og\n",
       "axmIy7EBSY7lAdAVyQz7QezVu0EA5HGG83t4PjMwvAay3oO4ZQEMDDdnAsEsIIcTaNixBwxX0BxW\n",
       "f4DhIwNDJcg+oDNC4B62AGI2BQaG+wcYJqJpuc3A84uBIR7E7ASGm1oAmpYUBp6vGNHC9B2ihbsB\n",
       "5BcHJC1AhwHNY/+A8MsOEPMfAy8wmDVhfoGHmAXE+zzfgSFSjGrLJ5AHwd5fhqKFFcQB+s6R4WXD\n",
       "AlQtfQy+QPIW1nhhAnJOCAY3KqBqOSsFtIRhKykJBpLIJ8C1JBCRLBlQkiVqfmExwKnlNDy/MOwi\n",
       "nMXAwBnk1yRIDr1HVEbmM4DmfQBqAmgbhOSJDQAAAABJRU5ErkJggg==\n",
       "\" style=\"display:inline;vertical-align:middle;\" /></a> <a class=\"ProveItLink\" href=\"__pv_it/1da52697ec00f716e52f494dee7e5de6d6c233270/proof.ipynb\" style=\"text-decoration: none\">&#x22A2;&nbsp;</a><a class=\"ProveItLink\" href=\"__pv_it/2da46782069b8b4bc79b25fc9f81850eabe78fad0/expr.ipynb\"><img src=\"data:image/png;base64,iVBORw0KGgoAAAANSUhEUgAAADAAAAAUCAMAAAD84U6VAAAAOVBMVEX///8kJCQNDQ0oKChUVFSq\n",
       "qqrMzMwiIiJERESYmJgyMjK6urru7u4QEBCIiIh2dnZmZmbc3NwAAACwiO0fAAAAAXRSTlMAQObY\n",
       "ZgAAAMxJREFUKM+1ktEWgyAIhtmmZoqKvP/DjthZjdrydDEuPPyFfvwKwFk0hEvR05ZjLNNwg8uf\n",
       "KtEQEI1kPwSET5UZrwHaZqFTo1oO+6MBQHK1knaVSxfJ21FJ43Ff1tUockJZpBTLLJriAODVAlcp\n",
       "1Wyqu/rgrKakmAZQomZhD+hWa3NZrlY3CRCsh1t5OVk5rI3z4mNx7hJ4c2TaAYDz226U7ufJQTOv\n",
       "dBgDJ7VRv6Lcb+iu2rk5vApSbfPPR/Z0bay/AM7Dtz8DIJ/8ewK6EQfv9ZNvNwAAAABJRU5ErkJg\n",
       "gg==\n",
       "\" style=\"display:inline;vertical-align:middle;\" /></a></span></td></tr>\n",
       "<tr><td>&nbsp;</td><td colspan=4 style=\"text-align:left\"><span style=\"font-size:20px;\"><a class=\"ProveItLink\" href=\"../../__pv_it/72df168d2bfb4e0140af90912ebf83b13772060b0/expr.ipynb\"><img src=\"data:image/png;base64,iVBORw0KGgoAAAANSUhEUgAAAAsAAAAJBAMAAAAWSsseAAAALVBMVEX///9mZmaqqqrMzMxEREQy\n",
       "MjIiIiKYmJh2dna6urrc3NxUVFSIiIju7u4AAACJHQtQAAAAAXRSTlMAQObYZgAAAEJJREFUCNdj\n",
       "YLhzeuWJAwy8Dew5bAEMHBc43nIuYOBlYHFgAAG+A2DKzgBIMF04x8BzgWGegh/DcgaG22fuiBcw\n",
       "AAATyhBrnyPYZQAAAABJRU5ErkJggg==\n",
       "\" style=\"display:inline;vertical-align:middle;\" /></a> : <a class=\"ProveItLink\" href=\"../../__pv_it/a8d4b3a34d2189508f9082853fbac36935714f280/expr.ipynb\"><img src=\"data:image/png;base64,iVBORw0KGgoAAAANSUhEUgAAAAsAAAAJBAMAAAAWSsseAAAAMFBMVEX///9UVFSqqqrMzMwiIiJE\n",
       "RESYmJgyMjK6urru7u4QEBCIiIh2dnZmZmbc3NwAAABRgo0vAAAAAXRSTlMAQObYZgAAAEdJREFU\n",
       "CNdjYOC7c3slAwND1wP2DwwMnMsYeAMYGHh/MrBsYGDgCmCYb8DAMP8Agz5QxXwFBnGmBwysG9gc\n",
       "eYAqpTc/3MEAAP4BD32xAXDqAAAAAElFTkSuQmCC\n",
       "\" style=\"display:inline;vertical-align:middle;\" /></a>, <a class=\"ProveItLink\" href=\"../../__pv_it/c6e291955561f22a0e6708fd793ea93f1c7dbb5d0/expr.ipynb\"><img src=\"data:image/png;base64,iVBORw0KGgoAAAANSUhEUgAAAAsAAAANBAMAAACN24kIAAAAMFBMVEX///8iIiKYmJhUVFTMzMxE\n",
       "REQyMjKqqqq6urp2dnYQEBDc3NxmZmaIiIju7u4AAACH5sGpAAAAAXRSTlMAQObYZgAAAFlJREFU\n",
       "CNdj4LtzgWHXAwZOjgUM9xkYtvMkMIQyMDzgusDwl4GBof8ByxcgdYyBdwGQCmZgNQBShxn6FYDU\n",
       "47vnNzAwgGUZGJgT+H4AKUYF1gtAiuPuESAJAJGkFvXVdzA+AAAAAElFTkSuQmCC\n",
       "\" style=\"display:inline;vertical-align:middle;\" /></a> : <a class=\"ProveItLink\" href=\"../../__pv_it/53e304ff98ebc000dbe3ef224f4637dbafd46ba70/expr.ipynb\"><img src=\"data:image/png;base64,iVBORw0KGgoAAAANSUhEUgAAAAkAAAAOBAMAAAAPuiubAAAALVBMVEX///+YmJjc3NyIiIhUVFR2\n",
       "dna6urqqqqpmZmYyMjIiIiIQEBBERETu7u4AAAALjtrwAAAAAXRSTlMAQObYZgAAAE9JREFUCNdj\n",
       "4D29gAEIOBtAJF8BiMy7ACKjQATDFON2BgbelxfuKTCwv2XgM2DgmMBwLwCkPK+AgU+Aoe8CA18C\n",
       "70YGBhYBHqARvM2BDAwAqXgQspq5HJAAAAAASUVORK5CYII=\n",
       "\" style=\"display:inline;vertical-align:middle;\" /></a></span></td></tr><tr><td><a name=\"0x4c8b4330887f08fe_step1\">1</a></td><td>theorem</td><td></td><td><span style=\"font-size:20px;\"> <a class=\"ProveItLink\" href=\"_proofs_/foldNotEquals.ipynb\" style=\"text-decoration: none\">&#x22A2;&nbsp;</a><a class=\"ProveItLink\" href=\"__pv_it/b811cb9ab2158f7d6bce9c4e344e80782a9d137e0/expr.ipynb\"><img src=\"data:image/png;base64,iVBORw0KGgoAAAANSUhEUgAAALkAAAAWCAMAAACrOc1VAAAAOVBMVEX///8kJCQNDQ0oKCgQEBCI\n",
       "iIhmZma6urrMzMxUVFQiIiJERETc3Nzu7u6qqqp2dnaYmJgyMjIAAAD9T1yxAAAAAXRSTlMAQObY\n",
       "ZgAAAnFJREFUSMfFV+nS3SAIta2I+5L3f9hKjGYzmrnt3I8fmUkieIADImM/KjaO/wfX++otPVN7\n",
       "j/HrwJ2ZOJb63xVBD76+Jvd15MmO/yt88Jg8stVta74OPIpJyB8hBTiEeg/+10TPQi4facbJ8eBI\n",
       "rP5+eepPQ57jTTxaDIkO/wRiuqITPtjI4gCURVgZcBRz0nEgaIHlK0eCaDkx880ZPtJuruvvyqY0\n",
       "M5e1owamayMJaZU/v+kp9j2QKAJLKRFajKJW60yesqdeeM3EbZH2rWeHxTG0o5BbzwRhNAWEX5lG\n",
       "D4ifI5eviObU9QsvaXA7npPV8/q8ihNblsIpuYY+xIL+U+TPLWDcvPlOoAXum12XY85LRiwPyPNJ\n",
       "VR0MICRUJAj0VbsZct3RbdvtNm5p1a0PVzwHnv/ihe175FeyAN/s6s297bACx1RiGmtNZC8ln8V8\n",
       "a25NV5kq8WTDq36FelfKDtz4eDWqPmqFZl2hW+tKLTLWkWNgusjDBi4bQHPX7dnAq+NrZ8sk8Mws\n",
       "1+EL78erULR4WyXCjWbLwVf6rWAYc7Kmerp3G/LavkrGnQLIvfoy73WGKFoo6hZpo1d0O+MOhwbR\n",
       "hssZcmnOuipViScbqN6f/v5hohGb9+7SUeySq2M9V6whX7TM6WEz5MXKrntB12zE8H7i6oQ8FxFz\n",
       "Cx4mrlM+Igagk0Fyv0YJTBojt7Vz7LoXSjQbAuedr4a8c0LonEEDhyn3MV/5v231P+yKMJgyDzbS\n",
       "+5tF76qAmeVy4nG9MKk8KqQ3p/9gpttt+Pj+NoeTuX40bZBFjCG8QojPo0Oz4cRP3nfFKEMTgf99\n",
       "V/wLskgaj1Kxq7sAAAAASUVORK5CYII=\n",
       "\" style=\"display:inline;vertical-align:middle;\" /></a></span></td></tr>\n",
       "<tr><td>&nbsp;</td><td colspan=4 style-\"text-align:left\"><a class=\"ProveItLink\" href=\"_proofs_/foldNotEquals.ipynb\">proveit.logic.equality.foldNotEquals</a></td></tr><tr><td><a name=\"0x4c8b4330887f08fe_step2\">2</a></td><td>assumption</td><td></td><td><span style=\"font-size:20px;\"><a class=\"ProveItLink\" href=\"__pv_it/fad26cca9dc4601b42c7280c753aa1ecd45ba2a30/expr.ipynb\"><img src=\"data:image/png;base64,iVBORw0KGgoAAAANSUhEUgAAAGMAAAAVBAMAAACgbk16AAAAMFBMVEX///+IiIi6urrc3NxERETM\n",
       "zMwQEBCqqqpUVFQiIiJ2dnYyMjLu7u5mZmaYmJgAAABN0h6tAAAAAXRSTlMAQObYZgAAAW5JREFU\n",
       "OMtjYGDgu8dALGC9eABE8exCEbXDpZzdAEgwpYKYfB+QJXgcsCk/kgkkmkGs2yCCawKyJLcBViv2\n",
       "AvFpEGMlppa32F31HaRQALuWyVh1MP0BuTkBqxbmCVi1QNRswqqF8QKQsF0rdgBVC3ejbAEDw1og\n",
       "axmIy7EBSY7lAdAVyQz7QezVu0EA5HGG83t4PjMwvAay3oO4ZQEMDDdnAsEsIIcTaNixBwxX0BxW\n",
       "f4DhIwNDJcg+oDNC4B62AGI2BQaG+wcYJqJpuc3A84uBIR7E7ASGm1oAmpYUBp6vGNHC9B2ihbsB\n",
       "5BcHJC1AhwHNY/+A8MsOEPMfAy8wmDVhfoGHmAXE+zzfgSFSjGrLJ5AHwd5fhqKFFcQB+s6R4WXD\n",
       "AlQtfQy+QPIW1nhhAnJOCAY3KqBqOSsFtIRhKykJBpLIJ8C1JBCRLBlQkiVqfmExwKnlNDy/MOwi\n",
       "nMXAwBnk1yRIDr1HVEbmM4DmfQBqAmgbhOSJDQAAAABJRU5ErkJggg==\n",
       "\" style=\"display:inline;vertical-align:middle;\" /></a> <a class=\"ProveItLink\" href=\"__pv_it/ac1d1d9ee6f977bd2f655040f48ebf79558b735f0/proof.ipynb\" style=\"text-decoration: none\">&#x22A2;&nbsp;</a><a class=\"ProveItLink\" href=\"__pv_it/0c4d79e1aeef0268194f102869c4ffa71e2a015f0/expr.ipynb\"><img src=\"data:image/png;base64,iVBORw0KGgoAAAANSUhEUgAAAE4AAAAUBAMAAADRkRa/AAAAMFBMVEX///+6uroQEBCqqqqIiIgy\n",
       "MjJERETu7u6YmJjMzMxUVFTc3Nx2dnYiIiJmZmYAAAAutVgsAAAAAXRSTlMAQObYZgAAARZJREFU\n",
       "KM9jYECAHQw4APMGZB57AjY1ZbpAYjWyCOsGrIbFAXEpskAfdks/AzGPA5LAbazKGL+DnKSAEOC+\n",
       "gFUdD1g4ECHA8gBI7DvnVICqjnWJnwEDwzmEAFsD0BJthngQ+2goCIB8wFAfzv6bgaGV4e1dILgD\n",
       "FOAFaitqYHiGZq99AcMXBgZbCGcXEDMJMDC8L2C4gqbuKQP7HwaG+ajq1BjYf2IEH+NnFHVAe4E6\n",
       "mT8g3BcFYv5g4AOGjCxCHdAf7J8ZuAKsUc37CHI00B9gwAkKKGC4pDD0LjiAqm4FQx6QfIMU8MAA\n",
       "rXKZvUQAVV2dD9A4hkiC8QZJShcIpwMG9HTAtgGnulLC6RQMslF4ONM9xwYGADZYRSymyfx8AAAA\n",
       "AElFTkSuQmCC\n",
       "\" style=\"display:inline;vertical-align:middle;\" /></a></span></td></tr>\n",
       "</table>"
      ],
      "text/plain": [
       "\tstep type\trequirements\tstatement\n",
       "0\tinstantiation\t1, 2\t{[not](a = b)} |- a != b\n",
       "\tx : a, y : b\n",
       "1\ttheorem\t\t|- forall_{x, y | [not](x = y)} (x != y)\n",
       "\tproveit.logic.equality.foldNotEquals\n",
       "2\tassumption\t\t{[not](a = b)} |- [not](a = b)"
      ]
     },
     "execution_count": 72,
     "metadata": {},
     "output_type": "execute_result"
    }
   ],
   "source": [
    "a_neq_b.prove([Not(a_eq_b)]).proof()"
   ]
  },
  {
   "cell_type": "code",
   "execution_count": 73,
   "metadata": {},
   "outputs": [
    {
     "data": {
      "text/html": [
       "<span style=\"font-size:20px;\"><a class=\"ProveItLink\" href=\"__pv_it/279743e325407ab590fb78779ae0f09d1b6fbdfd0/expr.ipynb\"><img src=\"data:image/png;base64,iVBORw0KGgoAAAANSUhEUgAAAEIAAAAVCAMAAADFAciVAAAAOVBMVEX///8kJCQNDQ0oKCiIiIi6\n",
       "urrc3NxERETMzMwQEBCqqqpUVFQiIiJ2dnYyMjLu7u5mZmaYmJgAAACs2H6dAAAAAXRSTlMAQObY\n",
       "ZgAAASBJREFUOMuVVNmWBREMNDP2JQn//7GjNZpertseHEuUkiphbGuRInvdNHFsY4SwCg94tyqM\n",
       "rqOYVggSjjEq49uY2nrwKwgnxhkQO59cQkg1TZN9D+H0lIGEryFOJIbwK4SkQNxckq8mEgwc57S/\n",
       "JZjGE5pGMgcc8gQo7e9363sKMQHmTo5a2qoums1fpBYkbElF4oc4WnlZRS57np9N6OZ58QKm6kZX\n",
       "4pvHjCp7+kxCzvNysajCQsV3inVgOzi15OLH7BnpXFLsjA9f74pgAc6ptdO1cCLBkmhpGxSpoqr8\n",
       "qugdm/6coIvP8mlF977ArLeWjs//4eISJB7iC3da+lwDOoR5jAH8DuK5XthFLer1gj1WrQUJYcTw\n",
       "5PvaKb6pnf8IegzYBGi/fAAAAABJRU5ErkJggg==\n",
       "\" style=\"display:inline;vertical-align:middle;\" /></a> <a class=\"ProveItLink\" href=\"__pv_it/fd4fe14d7f7f24053fdfe5eec2c56236822050800/proof.ipynb\" style=\"text-decoration: none\">&#x22A2;&nbsp;</a><a class=\"ProveItLink\" href=\"__pv_it/0c4d79e1aeef0268194f102869c4ffa71e2a015f0/expr.ipynb\"><img src=\"data:image/png;base64,iVBORw0KGgoAAAANSUhEUgAAAE4AAAAUBAMAAADRkRa/AAAAMFBMVEX///+6uroQEBCqqqqIiIgy\n",
       "MjJERETu7u6YmJjMzMxUVFTc3Nx2dnYiIiJmZmYAAAAutVgsAAAAAXRSTlMAQObYZgAAARZJREFU\n",
       "KM9jYECAHQw4APMGZB57AjY1ZbpAYjWyCOsGrIbFAXEpskAfdks/AzGPA5LAbazKGL+DnKSAEOC+\n",
       "gFUdD1g4ECHA8gBI7DvnVICqjnWJnwEDwzmEAFsD0BJthngQ+2goCIB8wFAfzv6bgaGV4e1dILgD\n",
       "FOAFaitqYHiGZq99AcMXBgZbCGcXEDMJMDC8L2C4gqbuKQP7HwaG+ajq1BjYf2IEH+NnFHVAe4E6\n",
       "mT8g3BcFYv5g4AOGjCxCHdAf7J8ZuAKsUc37CHI00B9gwAkKKGC4pDD0LjiAqm4FQx6QfIMU8MAA\n",
       "rXKZvUQAVV2dD9A4hkiC8QZJShcIpwMG9HTAtgGnulLC6RQMslF4ONM9xwYGADZYRSymyfx8AAAA\n",
       "AElFTkSuQmCC\n",
       "\" style=\"display:inline;vertical-align:middle;\" /></a></span>"
      ],
      "text/plain": [
       "{a != b} |- [not](a = b)"
      ]
     },
     "execution_count": 73,
     "metadata": {},
     "output_type": "execute_result"
    }
   ],
   "source": [
    "Not(a_eq_b).prove([a_neq_b])"
   ]
  },
  {
   "cell_type": "code",
   "execution_count": 74,
   "metadata": {},
   "outputs": [
    {
     "data": {
      "text/html": [
       "<table><tr><th>&nbsp;</th><th>step type</th><th>requirements</th><th>statement</th></tr>\n",
       "<tr><td><a name=\"0xc457014abe493a0_step0\">0</a></td><td>instantiation</td><td><a href=\"#0xc457014abe493a0_step1\">1</a>, <a href=\"#0xc457014abe493a0_step2\">2</a></td><td><span style=\"font-size:20px;\"><a class=\"ProveItLink\" href=\"__pv_it/279743e325407ab590fb78779ae0f09d1b6fbdfd0/expr.ipynb\"><img src=\"data:image/png;base64,iVBORw0KGgoAAAANSUhEUgAAAEIAAAAVCAMAAADFAciVAAAAOVBMVEX///8kJCQNDQ0oKCiIiIi6\n",
       "urrc3NxERETMzMwQEBCqqqpUVFQiIiJ2dnYyMjLu7u5mZmaYmJgAAACs2H6dAAAAAXRSTlMAQObY\n",
       "ZgAAASBJREFUOMuVVNmWBREMNDP2JQn//7GjNZpertseHEuUkiphbGuRInvdNHFsY4SwCg94tyqM\n",
       "rqOYVggSjjEq49uY2nrwKwgnxhkQO59cQkg1TZN9D+H0lIGEryFOJIbwK4SkQNxckq8mEgwc57S/\n",
       "JZjGE5pGMgcc8gQo7e9363sKMQHmTo5a2qoums1fpBYkbElF4oc4WnlZRS57np9N6OZ58QKm6kZX\n",
       "4pvHjCp7+kxCzvNysajCQsV3inVgOzi15OLH7BnpXFLsjA9f74pgAc6ptdO1cCLBkmhpGxSpoqr8\n",
       "qugdm/6coIvP8mlF977ArLeWjs//4eISJB7iC3da+lwDOoR5jAH8DuK5XthFLer1gj1WrQUJYcTw\n",
       "5PvaKb6pnf8IegzYBGi/fAAAAABJRU5ErkJggg==\n",
       "\" style=\"display:inline;vertical-align:middle;\" /></a> <a class=\"ProveItLink\" href=\"__pv_it/fd4fe14d7f7f24053fdfe5eec2c56236822050800/proof.ipynb\" style=\"text-decoration: none\">&#x22A2;&nbsp;</a><a class=\"ProveItLink\" href=\"__pv_it/0c4d79e1aeef0268194f102869c4ffa71e2a015f0/expr.ipynb\"><img src=\"data:image/png;base64,iVBORw0KGgoAAAANSUhEUgAAAE4AAAAUBAMAAADRkRa/AAAAMFBMVEX///+6uroQEBCqqqqIiIgy\n",
       "MjJERETu7u6YmJjMzMxUVFTc3Nx2dnYiIiJmZmYAAAAutVgsAAAAAXRSTlMAQObYZgAAARZJREFU\n",
       "KM9jYECAHQw4APMGZB57AjY1ZbpAYjWyCOsGrIbFAXEpskAfdks/AzGPA5LAbazKGL+DnKSAEOC+\n",
       "gFUdD1g4ECHA8gBI7DvnVICqjnWJnwEDwzmEAFsD0BJthngQ+2goCIB8wFAfzv6bgaGV4e1dILgD\n",
       "FOAFaitqYHiGZq99AcMXBgZbCGcXEDMJMDC8L2C4gqbuKQP7HwaG+ajq1BjYf2IEH+NnFHVAe4E6\n",
       "mT8g3BcFYv5g4AOGjCxCHdAf7J8ZuAKsUc37CHI00B9gwAkKKGC4pDD0LjiAqm4FQx6QfIMU8MAA\n",
       "rXKZvUQAVV2dD9A4hkiC8QZJShcIpwMG9HTAtgGnulLC6RQMslF4ONM9xwYGADZYRSymyfx8AAAA\n",
       "AElFTkSuQmCC\n",
       "\" style=\"display:inline;vertical-align:middle;\" /></a></span></td></tr>\n",
       "<tr><td>&nbsp;</td><td colspan=4 style=\"text-align:left\"><span style=\"font-size:20px;\"><a class=\"ProveItLink\" href=\"../../__pv_it/72df168d2bfb4e0140af90912ebf83b13772060b0/expr.ipynb\"><img src=\"data:image/png;base64,iVBORw0KGgoAAAANSUhEUgAAAAsAAAAJBAMAAAAWSsseAAAALVBMVEX///9mZmaqqqrMzMxEREQy\n",
       "MjIiIiKYmJh2dna6urrc3NxUVFSIiIju7u4AAACJHQtQAAAAAXRSTlMAQObYZgAAAEJJREFUCNdj\n",
       "YLhzeuWJAwy8Dew5bAEMHBc43nIuYOBlYHFgAAG+A2DKzgBIMF04x8BzgWGegh/DcgaG22fuiBcw\n",
       "AAATyhBrnyPYZQAAAABJRU5ErkJggg==\n",
       "\" style=\"display:inline;vertical-align:middle;\" /></a> : <a class=\"ProveItLink\" href=\"../../__pv_it/a8d4b3a34d2189508f9082853fbac36935714f280/expr.ipynb\"><img src=\"data:image/png;base64,iVBORw0KGgoAAAANSUhEUgAAAAsAAAAJBAMAAAAWSsseAAAAMFBMVEX///9UVFSqqqrMzMwiIiJE\n",
       "RESYmJgyMjK6urru7u4QEBCIiIh2dnZmZmbc3NwAAABRgo0vAAAAAXRSTlMAQObYZgAAAEdJREFU\n",
       "CNdjYOC7c3slAwND1wP2DwwMnMsYeAMYGHh/MrBsYGDgCmCYb8DAMP8Agz5QxXwFBnGmBwysG9gc\n",
       "eYAqpTc/3MEAAP4BD32xAXDqAAAAAElFTkSuQmCC\n",
       "\" style=\"display:inline;vertical-align:middle;\" /></a>, <a class=\"ProveItLink\" href=\"../../__pv_it/c6e291955561f22a0e6708fd793ea93f1c7dbb5d0/expr.ipynb\"><img src=\"data:image/png;base64,iVBORw0KGgoAAAANSUhEUgAAAAsAAAANBAMAAACN24kIAAAAMFBMVEX///8iIiKYmJhUVFTMzMxE\n",
       "REQyMjKqqqq6urp2dnYQEBDc3NxmZmaIiIju7u4AAACH5sGpAAAAAXRSTlMAQObYZgAAAFlJREFU\n",
       "CNdj4LtzgWHXAwZOjgUM9xkYtvMkMIQyMDzgusDwl4GBof8ByxcgdYyBdwGQCmZgNQBShxn6FYDU\n",
       "47vnNzAwgGUZGJgT+H4AKUYF1gtAiuPuESAJAJGkFvXVdzA+AAAAAElFTkSuQmCC\n",
       "\" style=\"display:inline;vertical-align:middle;\" /></a> : <a class=\"ProveItLink\" href=\"../../__pv_it/53e304ff98ebc000dbe3ef224f4637dbafd46ba70/expr.ipynb\"><img src=\"data:image/png;base64,iVBORw0KGgoAAAANSUhEUgAAAAkAAAAOBAMAAAAPuiubAAAALVBMVEX///+YmJjc3NyIiIhUVFR2\n",
       "dna6urqqqqpmZmYyMjIiIiIQEBBERETu7u4AAAALjtrwAAAAAXRSTlMAQObYZgAAAE9JREFUCNdj\n",
       "4D29gAEIOBtAJF8BiMy7ACKjQATDFON2BgbelxfuKTCwv2XgM2DgmMBwLwCkPK+AgU+Aoe8CA18C\n",
       "70YGBhYBHqARvM2BDAwAqXgQspq5HJAAAAAASUVORK5CYII=\n",
       "\" style=\"display:inline;vertical-align:middle;\" /></a></span></td></tr><tr><td><a name=\"0xc457014abe493a0_step1\">1</a></td><td>theorem</td><td></td><td><span style=\"font-size:20px;\"> <a class=\"ProveItLink\" href=\"_proofs_/unfoldNotEquals.ipynb\" style=\"text-decoration: none\">&#x22A2;&nbsp;</a><a class=\"ProveItLink\" href=\"__pv_it/d8b3875553e1ba5a00e3208ff67f573c457304db0/expr.ipynb\"><img src=\"data:image/png;base64,iVBORw0KGgoAAAANSUhEUgAAAL8AAAAWCAMAAACmJ70SAAAAOVBMVEX///8oKCgUFBQNDQ0QEBCI\n",
       "iIhmZma6urrMzMxUVFQiIiJERETc3Nzu7u6qqqp2dnaYmJgyMjIAAAArQGDrAAAAAXRSTlMAQObY\n",
       "ZgAAAk9JREFUWMPNV4tyrCAMpb2GNwL+/8deojwVRdt1ppnppmOS3UNyEiIhr4t2Tw3XMuta+/zc\n",
       "uVfgG/XUMBKhK23n9NibV/B7/dQwzIivtE5Z0OoV+I4+NYzFQqVT2kshPipSPzXcKMBUaWcNipbv\n",
       "NK98arjFSVbpRaFI+wp+oAODARCaQaLEacqBooeeVrbYGLxqwfFfdaOc7PIXuk/V2VCLBhPS5iQQ\n",
       "meeg9ZXk01vCkCywbL0TvVfNaNXTl3LV4ZT3Wb51FZVZbGOw4dh2MYRdp0/PhCJCtUGYI/k2jR/g\n",
       "fodfi/7ziZ04RoMpoAbFnZA/y0YzvpUhauu2M/wGvzI/w08KqAF3Q5ECXt7Brz3hIk1UykFEKjDA\n",
       "p9J08TeehNl+RKLJEX8xJFA9/peqrvSBODiZbLTSYssGGCI8kSz1TDgzn7r5z55inV7/wp/rRBz7\n",
       "N+GPhtlsPQmjy1+J9LHv3/AlNJ4nJMLnH9QGjweqi7/xJDCfRORJ10QWA1tmopY7qxwV6B3dqG11\n",
       "xcClGgRoFnDG/+JZNrF9RK70kc+rwQiAMNpvrI7oSdNPet5qZwoZc4bISqSJn+CPniKw9PsLueo6\n",
       "EZ/dH2ha3GSrM2OW0D3I4rDM4YkkDyXrzp/i2c7OfcTH9rfQbMQsrLO/NTVyzAJeKXxCRjMBynfx\n",
       "F892du4jri529aQAMlRXQWd/Pn3LCXa9mx/9+T+XzekQ8bH3FxbYz3cHv0oAvpyJsHT48f1VuRwi\n",
       "3nh/dLrVfSc8s7N2fP+66oY6RPwtoX8P0n+B2Bt/1EqtEwAAAABJRU5ErkJggg==\n",
       "\" style=\"display:inline;vertical-align:middle;\" /></a></span></td></tr>\n",
       "<tr><td>&nbsp;</td><td colspan=4 style-\"text-align:left\"><a class=\"ProveItLink\" href=\"_proofs_/unfoldNotEquals.ipynb\">proveit.logic.equality.unfoldNotEquals</a></td></tr><tr><td><a name=\"0xc457014abe493a0_step2\">2</a></td><td>assumption</td><td></td><td><span style=\"font-size:20px;\"><a class=\"ProveItLink\" href=\"__pv_it/279743e325407ab590fb78779ae0f09d1b6fbdfd0/expr.ipynb\"><img src=\"data:image/png;base64,iVBORw0KGgoAAAANSUhEUgAAAEIAAAAVCAMAAADFAciVAAAAOVBMVEX///8kJCQNDQ0oKCiIiIi6\n",
       "urrc3NxERETMzMwQEBCqqqpUVFQiIiJ2dnYyMjLu7u5mZmaYmJgAAACs2H6dAAAAAXRSTlMAQObY\n",
       "ZgAAASBJREFUOMuVVNmWBREMNDP2JQn//7GjNZpertseHEuUkiphbGuRInvdNHFsY4SwCg94tyqM\n",
       "rqOYVggSjjEq49uY2nrwKwgnxhkQO59cQkg1TZN9D+H0lIGEryFOJIbwK4SkQNxckq8mEgwc57S/\n",
       "JZjGE5pGMgcc8gQo7e9363sKMQHmTo5a2qoums1fpBYkbElF4oc4WnlZRS57np9N6OZ58QKm6kZX\n",
       "4pvHjCp7+kxCzvNysajCQsV3inVgOzi15OLH7BnpXFLsjA9f74pgAc6ptdO1cCLBkmhpGxSpoqr8\n",
       "qugdm/6coIvP8mlF977ArLeWjs//4eISJB7iC3da+lwDOoR5jAH8DuK5XthFLer1gj1WrQUJYcTw\n",
       "5PvaKb6pnf8IegzYBGi/fAAAAABJRU5ErkJggg==\n",
       "\" style=\"display:inline;vertical-align:middle;\" /></a> <a class=\"ProveItLink\" href=\"__pv_it/411c0cca00588c291ed15f31e9c6d931e3dba3410/proof.ipynb\" style=\"text-decoration: none\">&#x22A2;&nbsp;</a><a class=\"ProveItLink\" href=\"__pv_it/2da46782069b8b4bc79b25fc9f81850eabe78fad0/expr.ipynb\"><img src=\"data:image/png;base64,iVBORw0KGgoAAAANSUhEUgAAADAAAAAUCAMAAAD84U6VAAAAOVBMVEX///8kJCQNDQ0oKChUVFSq\n",
       "qqrMzMwiIiJERESYmJgyMjK6urru7u4QEBCIiIh2dnZmZmbc3NwAAACwiO0fAAAAAXRSTlMAQObY\n",
       "ZgAAAMxJREFUKM+1ktEWgyAIhtmmZoqKvP/DjthZjdrydDEuPPyFfvwKwFk0hEvR05ZjLNNwg8uf\n",
       "KtEQEI1kPwSET5UZrwHaZqFTo1oO+6MBQHK1knaVSxfJ21FJ43Ff1tUockJZpBTLLJriAODVAlcp\n",
       "1Wyqu/rgrKakmAZQomZhD+hWa3NZrlY3CRCsh1t5OVk5rI3z4mNx7hJ4c2TaAYDz226U7ufJQTOv\n",
       "dBgDJ7VRv6Lcb+iu2rk5vApSbfPPR/Z0bay/AM7Dtz8DIJ/8ewK6EQfv9ZNvNwAAAABJRU5ErkJg\n",
       "gg==\n",
       "\" style=\"display:inline;vertical-align:middle;\" /></a></span></td></tr>\n",
       "</table>"
      ],
      "text/plain": [
       "\tstep type\trequirements\tstatement\n",
       "0\tinstantiation\t1, 2\t{a != b} |- [not](a = b)\n",
       "\tx : a, y : b\n",
       "1\ttheorem\t\t|- forall_{x, y | x != y} [not](x = y)\n",
       "\tproveit.logic.equality.unfoldNotEquals\n",
       "2\tassumption\t\t{a != b} |- a != b"
      ]
     },
     "execution_count": 74,
     "metadata": {},
     "output_type": "execute_result"
    }
   ],
   "source": [
    "Not(a_eq_b).prove([a_neq_b]).proof()"
   ]
  },
  {
   "cell_type": "markdown",
   "metadata": {},
   "source": [
    "`NotEquals` also has a symmetry property which can be applied directly.  It can be proven  through automation."
   ]
  },
  {
   "cell_type": "code",
   "execution_count": 75,
   "metadata": {},
   "outputs": [
    {
     "data": {
      "text/html": [
       "<span style=\"font-size:20px;\"><a class=\"ProveItLink\" href=\"__pv_it/279743e325407ab590fb78779ae0f09d1b6fbdfd0/expr.ipynb\"><img src=\"data:image/png;base64,iVBORw0KGgoAAAANSUhEUgAAAEIAAAAVCAMAAADFAciVAAAAOVBMVEX///8kJCQNDQ0oKCiIiIi6\n",
       "urrc3NxERETMzMwQEBCqqqpUVFQiIiJ2dnYyMjLu7u5mZmaYmJgAAACs2H6dAAAAAXRSTlMAQObY\n",
       "ZgAAASBJREFUOMuVVNmWBREMNDP2JQn//7GjNZpertseHEuUkiphbGuRInvdNHFsY4SwCg94tyqM\n",
       "rqOYVggSjjEq49uY2nrwKwgnxhkQO59cQkg1TZN9D+H0lIGEryFOJIbwK4SkQNxckq8mEgwc57S/\n",
       "JZjGE5pGMgcc8gQo7e9363sKMQHmTo5a2qoums1fpBYkbElF4oc4WnlZRS57np9N6OZ58QKm6kZX\n",
       "4pvHjCp7+kxCzvNysajCQsV3inVgOzi15OLH7BnpXFLsjA9f74pgAc6ptdO1cCLBkmhpGxSpoqr8\n",
       "qugdm/6coIvP8mlF977ArLeWjs//4eISJB7iC3da+lwDOoR5jAH8DuK5XthFLer1gj1WrQUJYcTw\n",
       "5PvaKb6pnf8IegzYBGi/fAAAAABJRU5ErkJggg==\n",
       "\" style=\"display:inline;vertical-align:middle;\" /></a> <a class=\"ProveItLink\" href=\"__pv_it/e5972ebcfa9c4af2d92fc674dc892ad17f83d76d0/proof.ipynb\" style=\"text-decoration: none\">&#x22A2;&nbsp;</a><a class=\"ProveItLink\" href=\"__pv_it/6cae7f45b893d6941485faac4615a25e21f2f8870/expr.ipynb\"><img src=\"data:image/png;base64,iVBORw0KGgoAAAANSUhEUgAAADAAAAAUCAMAAAD84U6VAAAAOVBMVEX///8kJCQNDQ0oKCjMzMyY\n",
       "mJjc3NyIiIhUVFR2dna6urqqqqpmZmYyMjIiIiIQEBBERETu7u4AAABpMeEWAAAAAXRSTlMAQObY\n",
       "ZgAAAM5JREFUKM+1UssSwyAItG1UVFDx/z+2SiZpNdqZHMqBcWRhl4dSa3M8/eac4jRgaFWJcPoN\n",
       "fpVQwpQgr/C+TLXCtuwt3iNQBNbiRVUeCAw6tKlp4UJcnTn4SOz1bP4zDZ8qgEp7Bmmh2J8EnHT1\n",
       "KDKRhMZ1gA36fJSq0Z5b8MNos+kTUpaqQlv0WeHs4ZH2Tg6eXUAo+9r8IfFrcAMBiwAgFWoAKjb3\n",
       "x+Evt5Kreh1BNSJG6/Swmcvque5qM2Dn5xVQ3TPie/jg/kyg/M/oG35JCDyhTAR0AAAAAElFTkSu\n",
       "QmCC\n",
       "\" style=\"display:inline;vertical-align:middle;\" /></a></span>"
      ],
      "text/plain": [
       "{a != b} |- b != a"
      ]
     },
     "execution_count": 75,
     "metadata": {},
     "output_type": "execute_result"
    }
   ],
   "source": [
    "NotEquals(b, a).prove([a_neq_b])"
   ]
  },
  {
   "cell_type": "markdown",
   "metadata": {},
   "source": [
    "Or explicitly via `deriveReversed`"
   ]
  },
  {
   "cell_type": "code",
   "execution_count": 76,
   "metadata": {},
   "outputs": [
    {
     "data": {
      "text/html": [
       "<span style=\"font-size:20px;\"><a class=\"ProveItLink\" href=\"__pv_it/279743e325407ab590fb78779ae0f09d1b6fbdfd0/expr.ipynb\"><img src=\"data:image/png;base64,iVBORw0KGgoAAAANSUhEUgAAAEIAAAAVCAMAAADFAciVAAAAOVBMVEX///8kJCQNDQ0oKCiIiIi6\n",
       "urrc3NxERETMzMwQEBCqqqpUVFQiIiJ2dnYyMjLu7u5mZmaYmJgAAACs2H6dAAAAAXRSTlMAQObY\n",
       "ZgAAASBJREFUOMuVVNmWBREMNDP2JQn//7GjNZpertseHEuUkiphbGuRInvdNHFsY4SwCg94tyqM\n",
       "rqOYVggSjjEq49uY2nrwKwgnxhkQO59cQkg1TZN9D+H0lIGEryFOJIbwK4SkQNxckq8mEgwc57S/\n",
       "JZjGE5pGMgcc8gQo7e9363sKMQHmTo5a2qoums1fpBYkbElF4oc4WnlZRS57np9N6OZ58QKm6kZX\n",
       "4pvHjCp7+kxCzvNysajCQsV3inVgOzi15OLH7BnpXFLsjA9f74pgAc6ptdO1cCLBkmhpGxSpoqr8\n",
       "qugdm/6coIvP8mlF977ArLeWjs//4eISJB7iC3da+lwDOoR5jAH8DuK5XthFLer1gj1WrQUJYcTw\n",
       "5PvaKb6pnf8IegzYBGi/fAAAAABJRU5ErkJggg==\n",
       "\" style=\"display:inline;vertical-align:middle;\" /></a> <a class=\"ProveItLink\" href=\"__pv_it/e5972ebcfa9c4af2d92fc674dc892ad17f83d76d0/proof.ipynb\" style=\"text-decoration: none\">&#x22A2;&nbsp;</a><a class=\"ProveItLink\" href=\"__pv_it/6cae7f45b893d6941485faac4615a25e21f2f8870/expr.ipynb\"><img src=\"data:image/png;base64,iVBORw0KGgoAAAANSUhEUgAAADAAAAAUCAMAAAD84U6VAAAAOVBMVEX///8kJCQNDQ0oKCjMzMyY\n",
       "mJjc3NyIiIhUVFR2dna6urqqqqpmZmYyMjIiIiIQEBBERETu7u4AAABpMeEWAAAAAXRSTlMAQObY\n",
       "ZgAAAM5JREFUKM+1UssSwyAItG1UVFDx/z+2SiZpNdqZHMqBcWRhl4dSa3M8/eac4jRgaFWJcPoN\n",
       "fpVQwpQgr/C+TLXCtuwt3iNQBNbiRVUeCAw6tKlp4UJcnTn4SOz1bP4zDZ8qgEp7Bmmh2J8EnHT1\n",
       "KDKRhMZ1gA36fJSq0Z5b8MNos+kTUpaqQlv0WeHs4ZH2Tg6eXUAo+9r8IfFrcAMBiwAgFWoAKjb3\n",
       "x+Evt5Kreh1BNSJG6/Swmcvque5qM2Dn5xVQ3TPie/jg/kyg/M/oG35JCDyhTAR0AAAAAElFTkSu\n",
       "QmCC\n",
       "\" style=\"display:inline;vertical-align:middle;\" /></a></span>"
      ],
      "text/plain": [
       "{a != b} |- b != a"
      ]
     },
     "execution_count": 76,
     "metadata": {},
     "output_type": "execute_result"
    }
   ],
   "source": [
    "a_neq_b.prove([a_neq_b]).deriveReversed()"
   ]
  },
  {
   "cell_type": "markdown",
   "metadata": {},
   "source": [
    "If two objects are both equal and not equal, there is a contradiction."
   ]
  },
  {
   "cell_type": "code",
   "execution_count": 77,
   "metadata": {},
   "outputs": [
    {
     "data": {
      "text/html": [
       "<strong id=\"neq_contradiction\">neq_contradiction:</strong> <span style=\"font-size:20px;\"><a class=\"ProveItLink\" href=\"__pv_it/b62b5780d02fc59901c33baeab4c7af2d188a9040/expr.ipynb\"><img src=\"data:image/png;base64,iVBORw0KGgoAAAANSUhEUgAAAHsAAAAVCAMAAABR52FnAAAAOVBMVEX///8kJCQNDQ0oKCiIiIi6\n",
       "urrc3NxERETMzMwQEBCqqqpUVFQiIiJ2dnYyMjLu7u5mZmaYmJgAAACs2H6dAAAAAXRSTlMAQObY\n",
       "ZgAAAWZJREFUSMe9ltlywyAMRd2WfZPg/z82BBuKM4hitykPGY/NibhIV7BtzxExbv83FDKozxD8\n",
       "2+J4GL3lWh1PMV35N5DaLU8WYQxife/dNS0Bl6daPgZbyKuxk1mWLQnwbmyeYFm2IsC7sdenv8ju\n",
       "wEFsgR6Z/kFWsIzhedsJTioK9LruTGilL/KMVvU+dKOVCaQA+UecLHPiKvj1SYLVWqaaDfSzw6Cc\n",
       "yzYla4l15iG4F9knsCxJSVclYPno2Dx2sSakrh0RnLIz0Jb5rcloWT6qBXfz3mcEJ8UEDMfCrDzy\n",
       "4cvObMN8NxEpNqnbmNvBDz0BWys96hzKknLhGTHtLLxmuMUeckFMwFbn1WMyZyA6u81PFptpiXvd\n",
       "TjiOJDjyN2T/KWEZn58lyPy+eOeA5gLQ4C/6+bdr6C5kcK03ts2/fDhP3ABrsa+d390m0p3A+IUm\n",
       "sS/y3r0l3pbNNe+y88f3Nb5yX3sAY9AUdNza6cUAAAAASUVORK5CYII=\n",
       "\" style=\"display:inline;vertical-align:middle;\" /></a> <a class=\"ProveItLink\" href=\"__pv_it/764acfca66ebb2c75c2a5a9f46f8951c9838c6400/proof.ipynb\" style=\"text-decoration: none\">&#x22A2;&nbsp;</a><a class=\"ProveItLink\" href=\"../boolean/__pv_it/83a1ddf0f64531c80e7f41ea6b904214668818b30/expr.ipynb\"><img src=\"data:image/png;base64,iVBORw0KGgoAAAANSUhEUgAAAA4AAAAOBAMAAADtZjDiAAAAG1BMVEX///9UVFQQEBAiIiJmZmaI\n",
       "iIiqqqrMzMwAAADC2JlRAAAAAXRSTlMAQObYZgAAABlJREFUCNdjYGBgKGOAgFRa0s7GxkrGxoYA\n",
       "QSUGlQeagkgAAAAASUVORK5CYII=\n",
       "\" style=\"display:inline;vertical-align:middle;\" /></a></span><br>"
      ],
      "text/plain": [
       "neq_contradiction: {a = b, a != b} |- FALSE"
      ]
     },
     "execution_count": 77,
     "metadata": {},
     "output_type": "execute_result"
    }
   ],
   "source": [
    "neq_contradiction = a_neq_b.deriveContradiction([a_neq_b, a_eq_b])"
   ]
  },
  {
   "cell_type": "code",
   "execution_count": 78,
   "metadata": {},
   "outputs": [
    {
     "data": {
      "text/html": [
       "<strong id=\"a_neq_a\">a_neq_a:</strong> <a class=\"ProveItLink\" href=\"__pv_it/bf9b8b5d1c0da68a91fc91954cc93d18149a3fa70/expr.ipynb\"><img src=\"data:image/png;base64,iVBORw0KGgoAAAANSUhEUgAAADIAAAAUCAMAAAD4FJ6oAAAAOVBMVEX///8kJCQNDQ0oKChUVFSq\n",
       "qqrMzMwiIiJERESYmJgyMjK6urru7u4QEBCIiIh2dnZmZmbc3NwAAACwiO0fAAAAAXRSTlMAQObY\n",
       "ZgAAAKlJREFUKM+9k9kOAiEMRasCw5St9P8/VtCoBXRME2MfmkBOuXQDOLISQWkVtRFgglrE60Xc\n",
       "L0UqFcppKY53H7GQKgDyq7J4s8u5e3peCyymvXnyX0QkRty1tjxFODOeJZZ6YOS5Or6OZ4FFLs1b\n",
       "hjGXU7pn9NCSWGTbW4Bgh2dxEhkw3763bwaKJAIt1RBYNDm7avIwT7h06S0mzJJ6ulC9J7b8QQSO\n",
       "N+sKsYgHhqxexXYAAAAASUVORK5CYII=\n",
       "\" style=\"display:inline;vertical-align:middle;\" /></a><br>"
      ],
      "text/plain": [
       "a_neq_a: a != a"
      ]
     },
     "execution_count": 78,
     "metadata": {},
     "output_type": "execute_result"
    }
   ],
   "source": [
    "a_neq_a = NotEquals(a, a)"
   ]
  },
  {
   "cell_type": "code",
   "execution_count": 79,
   "metadata": {},
   "outputs": [
    {
     "data": {
      "text/html": [
       "<strong id=\"b_from_contradiction\">b_from_contradiction:</strong> <span style=\"font-size:20px;\"><a class=\"ProveItLink\" href=\"__pv_it/e2bfe61e9ff2d619afc6dcaf02bfcc6d35ce022f0/expr.ipynb\"><img src=\"data:image/png;base64,iVBORw0KGgoAAAANSUhEUgAAANUAAAAVCAMAAADmdlsFAAAAOVBMVEX///8kJCQNDQ0oKCiIiIi6\n",
       "urrc3NxERETMzMwQEBCqqqpUVFQiIiJ2dnYyMjLu7u5mZmaYmJgAAACs2H6dAAAAAXRSTlMAQObY\n",
       "ZgAAArlJREFUWMPdWMeWGyEQxDY5NfD/H+sRO4QmiHmST+awmh1BFdWJRoS8RgyR/A9DBgrlGbz7\n",
       "HpDv7aL5P4HJw8F7Bqbk/RTTrU4o+xaSWiVE8soaNn4FgsyvCpx5LGsBg0X79fvGEMoMV7X4cGD1\n",
       "RNKLGqaI9auNFzjwT1X5g/7ZnCNDFdNUJX1gFYRdeqgkg03j0hwVztFnouLBqnzrysowq2JpiNoo\n",
       "7DX8qErrUZVd2bjBgVrbaFxlT66S29BVW1UOp5UUFJa+cmyIf77Mxw7OLyNHDrbh9lNXNYZZjDeU\n",
       "Bt1iFdYRyKwcjEaXkdPBufAk4ioMDy5QNdGLwVX9tMLgitPMHWKQLh2QONlXrkuVsimpwfRiVY97\n",
       "uNiiONhupLCCYepa5FNzus/jz+/X37YCTSsMpaDrUuJ1zoNEq4JdtXAx4hPO6nHDDsPpXWxprycY\n",
       "UC91QRxchadVhixbipqiudRDujcslS9jVFU+6hh9R7jBcDJt09y3xfdTyOawY92UBv+PpzUGk1/V\n",
       "4zirZKUc872vXm40R1U93FYVN46PMEpkc8hDxcTTKoO/d2bu/adYLZBX7VW99ryIQKyqh2MtAoNH\n",
       "g08wP+7VnR1yXv26Y8fUtEXTCkPJq1oDEyvB+kNP3/gKJ9ZULbKqDi6uuwvmF0UHsnuvEob7x7Ht\n",
       "GKYVBjceXOYCFeGNB3LHdMlxLpifIlcQpsItMVxw65zCxfuGEZc5ozUErWETBZ5WGKbzCgJ1vdHB\n",
       "CAbvultrAbsf77mD8/JJq3DDwHXOSW4oStb58MTTCsOupehpnMAd01iX4VmrA2uGadEeRh86RJgb\n",
       "JfXppco9bEu/7249kGcMVVVMH4oCum9U1/eE09jB6MO9tjHU+xX59C4cH173xNe3xpOrKgPrjk79\n",
       "/e8Wb67m8fsbPjuYl+PfLf4CNWAjiu2eONcAAAAASUVORK5CYII=\n",
       "\" style=\"display:inline;vertical-align:middle;\" /></a> <a class=\"ProveItLink\" href=\"__pv_it/c716dfcb892201a5a908fe86145111aad96400280/proof.ipynb\" style=\"text-decoration: none\">&#x22A2;&nbsp;</a><a class=\"ProveItLink\" href=\"../../__pv_it/53e304ff98ebc000dbe3ef224f4637dbafd46ba70/expr.ipynb\"><img src=\"data:image/png;base64,iVBORw0KGgoAAAANSUhEUgAAAAkAAAAOBAMAAAAPuiubAAAALVBMVEX///+YmJjc3NyIiIhUVFR2\n",
       "dna6urqqqqpmZmYyMjIiIiIQEBBERETu7u4AAAALjtrwAAAAAXRSTlMAQObYZgAAAE9JREFUCNdj\n",
       "4D29gAEIOBtAJF8BiMy7ACKjQATDFON2BgbelxfuKTCwv2XgM2DgmMBwLwCkPK+AgU+Aoe8CA18C\n",
       "70YGBhYBHqARvM2BDAwAqXgQspq5HJAAAAAASUVORK5CYII=\n",
       "\" style=\"display:inline;vertical-align:middle;\" /></a></span><br>"
      ],
      "text/plain": [
       "b_from_contradiction: {b in BOOLEANS, [not](b) => (a != a)} |- b"
      ]
     },
     "execution_count": 79,
     "metadata": {},
     "output_type": "execute_result"
    }
   ],
   "source": [
    "b_from_contradiction = a_neq_a.affirmViaContradiction(b, [Implies(Not(b), a_neq_a), inBool(b)])"
   ]
  },
  {
   "cell_type": "code",
   "execution_count": 80,
   "metadata": {},
   "outputs": [],
   "source": [
    "%end demonstrations"
   ]
  },
  {
   "cell_type": "code",
   "execution_count": null,
   "metadata": {},
   "outputs": [],
   "source": []
  }
 ],
 "metadata": {
  "kernelspec": {
   "display_name": "Python 3",
   "language": "python",
   "name": "python3"
  }
 },
 "nbformat": 4,
 "nbformat_minor": 0
}
