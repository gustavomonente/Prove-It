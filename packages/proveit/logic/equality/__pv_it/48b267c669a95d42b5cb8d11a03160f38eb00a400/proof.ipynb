{
 "cells": [
  {
   "cell_type": "markdown",
   "metadata": {},
   "source": [
    "Show the Proof\n",
    "========"
   ]
  },
  {
   "cell_type": "code",
   "execution_count": 1,
   "metadata": {},
   "outputs": [
    {
     "data": {
      "text/html": [
       "<table><tr><th>&nbsp;</th><th>step type</th><th>requirements</th><th>statement</th></tr>\n",
       "<tr><td><a name=\"proveit.logic.equality.48b267c669a95d42b5cb8d11a03160f38eb00a400_step0\">0</a></td><td>modus ponens</td><td><a href=\"#proveit.logic.equality.48b267c669a95d42b5cb8d11a03160f38eb00a400_step1\">1</a>, <a href=\"#proveit.logic.equality.48b267c669a95d42b5cb8d11a03160f38eb00a400_step2\">2</a></td><td><span style=\"font-size:20px;\"><a class=\"ProveItLink\" href=\"../2e6b675f3c325cb1423a6c7faae1cce1d5933bce0/expr.ipynb\"><img src=\"../2e6b675f3c325cb1423a6c7faae1cce1d5933bce0/expr.png\" style=\"display:inline;vertical-align:middle;\" /></a> <a class=\"ProveItLink\" href=\"proof.ipynb\" style=\"text-decoration: none\">&#x22A2;&nbsp;</a><a class=\"ProveItLink\" href=\"../f0c473b37740471eb612378631aa56da77f21c070/expr.ipynb\"><img src=\"../f0c473b37740471eb612378631aa56da77f21c070/expr.png\" style=\"display:inline;vertical-align:middle;\" /></a></span></td></tr>\n",
       "<tr><td><a name=\"proveit.logic.equality.48b267c669a95d42b5cb8d11a03160f38eb00a400_step1\">1</a></td><td>assumption</td><td></td><td><span style=\"font-size:20px;\"><a class=\"ProveItLink\" href=\"../e93f0463a5043794b3884eb5c86ddf869e7b59b70/expr.ipynb\"><img src=\"../e93f0463a5043794b3884eb5c86ddf869e7b59b70/expr.png\" style=\"display:inline;vertical-align:middle;\" /></a> <a class=\"ProveItLink\" href=\"../7199c28f67290ef35fb86f216e2b9cfca368404e0/proof.ipynb\" style=\"text-decoration: none\">&#x22A2;&nbsp;</a><a class=\"ProveItLink\" href=\"../dcce40c01dfbda94822b8af5f7acb9adcb70a6360/expr.ipynb\"><img src=\"../dcce40c01dfbda94822b8af5f7acb9adcb70a6360/expr.png\" style=\"display:inline;vertical-align:middle;\" /></a></span></td></tr>\n",
       "<tr><td><a name=\"proveit.logic.equality.48b267c669a95d42b5cb8d11a03160f38eb00a400_step2\">2</a></td><td>assumption</td><td></td><td><span style=\"font-size:20px;\"><a class=\"ProveItLink\" href=\"../8dda6c9d1972613d0d1b1026a4576be0fca112610/expr.ipynb\"><img src=\"../8dda6c9d1972613d0d1b1026a4576be0fca112610/expr.png\" style=\"display:inline;vertical-align:middle;\" /></a> <a class=\"ProveItLink\" href=\"../c59981489edd07c57c13c76c8cc6177b30b53a960/proof.ipynb\" style=\"text-decoration: none\">&#x22A2;&nbsp;</a><a class=\"ProveItLink\" href=\"../../../../__pv_it/53e304ff98ebc000dbe3ef224f4637dbafd46ba70/expr.ipynb\"><img src=\"../../../../__pv_it/53e304ff98ebc000dbe3ef224f4637dbafd46ba70/expr.png\" style=\"display:inline;vertical-align:middle;\" /></a></span></td></tr>\n",
       "</table>"
      ],
      "text/plain": [
       "<proveit._core_.proof._ShowProof at 0x7f5bb7b19080>"
      ]
     },
     "execution_count": 1,
     "metadata": {},
     "output_type": "execute_result"
    }
   ],
   "source": [
    "import proveit\n",
    "# Automation is not needed when only showing a stored proof:\n",
    "proveit.defaults.automation = False # This will speed things up.\n",
    "proveit.defaults.inline_pngs = False # Makes files smaller.\n",
    "%show_proof"
   ]
  },
  {
   "cell_type": "code",
   "execution_count": null,
   "metadata": {},
   "outputs": [],
   "source": []
  }
 ],
 "metadata": {
  "kernelspec": {
   "display_name": "Python 3",
   "language": "python",
   "name": "python3"
  },
  "language_info": {
   "codemirror_mode": {
    "name": "ipython",
    "version": 3
   },
   "file_extension": ".py",
   "mimetype": "text/x-python",
   "name": "python",
   "nbconvert_exporter": "python",
   "pygments_lexer": "ipython3",
   "version": "3.7.3"
  }
 },
 "nbformat": 4,
 "nbformat_minor": 1
}
