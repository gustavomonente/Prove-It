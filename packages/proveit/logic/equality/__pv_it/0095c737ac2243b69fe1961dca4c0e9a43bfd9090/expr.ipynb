{
 "cells": [
  {
   "cell_type": "markdown",
   "metadata": {},
   "source": [
    "Expression of type <a class=\"ProveItLink\" href=\"../../../../../../doc/html/api/proveit.logic.Forall.html\">Forall</a>\n",
    "=======================\n",
    "# from context <a class=\"ProveItLink\" href=\"../../_context_.ipynb\">proveit.logic.equality</a>"
   ]
  },
  {
   "cell_type": "code",
   "execution_count": 1,
   "metadata": {},
   "outputs": [],
   "source": [
    "import proveit\n",
    "# Automation is not needed when building an expression:\n",
    "proveit.defaults.automation = False # This will speed things up.\n",
    "proveit.defaults.inline_pngs = False # Makes files smaller.\n",
    "# import Expression classes needed to build the expression\n",
    "from proveit import ExprRange, IndexedVar\n",
    "from proveit._common_ import a, f, n, x, y\n",
    "from proveit.core_expr_types._common_ import f__x_1_to_n, f__y_1_to_n, x_1_to_n, y_1_to_n\n",
    "from proveit.logic import Equals, Forall\n",
    "from proveit.number import one"
   ]
  },
  {
   "cell_type": "code",
   "execution_count": 2,
   "metadata": {},
   "outputs": [
    {
     "data": {
      "text/html": [
       "<strong id=\"expr\">expr:</strong> <a class=\"ProveItLink\" href=\"expr.ipynb\"><img src=\"expr.png\" style=\"display:inline;vertical-align:middle;\" /></a><br>"
      ],
      "text/plain": [
       "expr: forall_{f, x_{1}, ..x_{_a}.., x_{n}, y_{1}, ..y_{_a}.., y_{n} | x_{1} = y_{1}, ..x_{a} = y_{a}.., x_{n} = y_{n}} (f(x_{1}, ..x_{_a}.., x_{n}) = f(y_{1}, ..y_{_a}.., y_{n}))"
      ]
     },
     "execution_count": 2,
     "metadata": {},
     "output_type": "execute_result"
    }
   ],
   "source": [
    "# build up the expression from sub-expressions\n",
    "expr = Forall([f, x_1_to_n, y_1_to_n], Equals(f__x_1_to_n, f__y_1_to_n), condition = ExprRange(a, Equals(IndexedVar(x, a), IndexedVar(y, a)), one, n))"
   ]
  },
  {
   "cell_type": "code",
   "execution_count": 3,
   "metadata": {},
   "outputs": [
    {
     "name": "stdout",
     "output_type": "stream",
     "text": [
      "Passed sanity check: built 'expr' is the same as the stored Expression.\n"
     ]
    }
   ],
   "source": [
    "# check that the built expression is the same as the stored expression\n",
    "%check_expr"
   ]
  },
  {
   "cell_type": "code",
   "execution_count": 4,
   "metadata": {},
   "outputs": [
    {
     "name": "stdout",
     "output_type": "stream",
     "text": [
      "\\forall_{f, x_{1}, \\ldots, x_{n}, y_{1}, \\ldots, y_{n}~|~x_{1} = y_{1}, \\ldots, x_{n} = y_{n}}~\\left(f(x_{1}, \\ldots, x_{n}) = f(y_{1}, \\ldots, y_{n})\\right)\n"
     ]
    }
   ],
   "source": [
    "# Show the LaTeX representation of the expression for convenience if you need it.\n",
    "print(expr.latex())"
   ]
  },
  {
   "cell_type": "code",
   "execution_count": 5,
   "metadata": {},
   "outputs": [
    {
     "data": {
      "text/html": [
       "<table><tr><th>&nbsp;</th><th>core type</th><th>sub-expressions</th><th>expression</th></tr>\n",
       "<tr><td>0</td><td>Operation</td><td>operator:&nbsp;1<br>operand:&nbsp;2<br></td><td><a class=\"ProveItLink\" href=\"expr.ipynb\"><img src=\"expr.png\" style=\"display:inline;vertical-align:middle;\" /></a></td></tr>\n",
       "<tr><td>1</td><td>Literal</td><td></td><td><a class=\"ProveItLink\" href=\"../../../boolean/quantification/universal/__pv_it/fd9c772d6675566ed52a6897806f45eb08a4ea910/expr.ipynb\"><img src=\"../../../boolean/quantification/universal/__pv_it/fd9c772d6675566ed52a6897806f45eb08a4ea910/expr.png\" style=\"display:inline;vertical-align:middle;\" /></a></td></tr>\n",
       "<tr><td>2</td><td>Lambda</td><td>parameters:&nbsp;3<br>body:&nbsp;4<br></td><td><a class=\"ProveItLink\" href=\"../295ef8abb820612b15de883ec8a8757386e6f2200/expr.ipynb\"><img src=\"../295ef8abb820612b15de883ec8a8757386e6f2200/expr.png\" style=\"display:inline;vertical-align:middle;\" /></a></td></tr>\n",
       "<tr><td>3</td><td>ExprTuple</td><td>14, 17, 18</td><td><a class=\"ProveItLink\" href=\"../f39357bc88c134591d53afa21f5aec54ce5b9c8c0/expr.ipynb\"><img src=\"../f39357bc88c134591d53afa21f5aec54ce5b9c8c0/expr.png\" style=\"display:inline;vertical-align:middle;\" /></a></td></tr>\n",
       "<tr><td>4</td><td>Conditional</td><td>value:&nbsp;5<br>condition:&nbsp;6<br></td><td><a class=\"ProveItLink\" href=\"../9b09f104f94342637e9c4601aa5eb52072f0dd830/expr.ipynb\"><img src=\"../9b09f104f94342637e9c4601aa5eb52072f0dd830/expr.png\" style=\"display:inline;vertical-align:middle;\" /></a></td></tr>\n",
       "<tr><td>5</td><td>Operation</td><td>operator:&nbsp;24<br>operands:&nbsp;7<br></td><td><a class=\"ProveItLink\" href=\"../3938cded6b64c82a88c14e4e8362dc917b6add8f0/expr.ipynb\"><img src=\"../3938cded6b64c82a88c14e4e8362dc917b6add8f0/expr.png\" style=\"display:inline;vertical-align:middle;\" /></a></td></tr>\n",
       "<tr><td>6</td><td>Operation</td><td>operator:&nbsp;8<br>operands:&nbsp;9<br></td><td><a class=\"ProveItLink\" href=\"../22fd6b6bdb20e1f3932680db49aba5c1602ed3ef0/expr.ipynb\"><img src=\"../22fd6b6bdb20e1f3932680db49aba5c1602ed3ef0/expr.png\" style=\"display:inline;vertical-align:middle;\" /></a></td></tr>\n",
       "<tr><td>7</td><td>ExprTuple</td><td>10, 11</td><td><a class=\"ProveItLink\" href=\"../01208dcf4e9ef899c92b59d3d7755bfcddb17c240/expr.ipynb\"><img src=\"../01208dcf4e9ef899c92b59d3d7755bfcddb17c240/expr.png\" style=\"display:inline;vertical-align:middle;\" /></a></td></tr>\n",
       "<tr><td>8</td><td>Literal</td><td></td><td><a class=\"ProveItLink\" href=\"../../../boolean/conjunction/__pv_it/f41cc6b553210927c09f19a8a39cdf860a5585930/expr.ipynb\"><img src=\"../../../boolean/conjunction/__pv_it/f41cc6b553210927c09f19a8a39cdf860a5585930/expr.png\" style=\"display:inline;vertical-align:middle;\" /></a></td></tr>\n",
       "<tr><td>9</td><td>ExprTuple</td><td>12</td><td><a class=\"ProveItLink\" href=\"../70774a32f420ba88bbe2bae61bef1cdf91cd0f820/expr.ipynb\"><img src=\"../70774a32f420ba88bbe2bae61bef1cdf91cd0f820/expr.png\" style=\"display:inline;vertical-align:middle;\" /></a></td></tr>\n",
       "<tr><td>10</td><td>Operation</td><td>operator:&nbsp;14<br>operands:&nbsp;13<br></td><td><a class=\"ProveItLink\" href=\"../../../../core_expr_types/__pv_it/795e94272efddfeb705f3e8655d543ea0413500b0/expr.ipynb\"><img src=\"../../../../core_expr_types/__pv_it/795e94272efddfeb705f3e8655d543ea0413500b0/expr.png\" style=\"display:inline;vertical-align:middle;\" /></a></td></tr>\n",
       "<tr><td>11</td><td>Operation</td><td>operator:&nbsp;14<br>operands:&nbsp;15<br></td><td><a class=\"ProveItLink\" href=\"../../../../core_expr_types/__pv_it/4fc7563cb0bab66cd60a1841ba18b391daca85c90/expr.ipynb\"><img src=\"../../../../core_expr_types/__pv_it/4fc7563cb0bab66cd60a1841ba18b391daca85c90/expr.png\" style=\"display:inline;vertical-align:middle;\" /></a></td></tr>\n",
       "<tr><td>12</td><td>ExprRange</td><td>lambda_map:&nbsp;16<br>start_index:&nbsp;22<br>end_index:&nbsp;23<br></td><td><a class=\"ProveItLink\" href=\"../8c40fe4fb396d425398be2b88a7358b31c0d0e070/expr.ipynb\"><img src=\"../8c40fe4fb396d425398be2b88a7358b31c0d0e070/expr.png\" style=\"display:inline;vertical-align:middle;\" /></a></td></tr>\n",
       "<tr><td>13</td><td>ExprTuple</td><td>17</td><td><a class=\"ProveItLink\" href=\"../../../../core_expr_types/__pv_it/8503dd75b8d2c0097310b10afd704e3f48409d280/expr.ipynb\"><img src=\"../../../../core_expr_types/__pv_it/8503dd75b8d2c0097310b10afd704e3f48409d280/expr.png\" style=\"display:inline;vertical-align:middle;\" /></a></td></tr>\n",
       "<tr><td>14</td><td>Variable</td><td></td><td><a class=\"ProveItLink\" href=\"../../../../__pv_it/d7bbb04e874e28c7cefb21d4eea40806ae52f1f70/expr.ipynb\"><img src=\"../../../../__pv_it/d7bbb04e874e28c7cefb21d4eea40806ae52f1f70/expr.png\" style=\"display:inline;vertical-align:middle;\" /></a></td></tr>\n",
       "<tr><td>15</td><td>ExprTuple</td><td>18</td><td><a class=\"ProveItLink\" href=\"../../../../core_expr_types/__pv_it/5cb6916d9e29d58052e5b13a8b89169f4eafca460/expr.ipynb\"><img src=\"../../../../core_expr_types/__pv_it/5cb6916d9e29d58052e5b13a8b89169f4eafca460/expr.png\" style=\"display:inline;vertical-align:middle;\" /></a></td></tr>\n",
       "<tr><td>16</td><td>Lambda</td><td>parameter:&nbsp;33<br>body:&nbsp;19<br></td><td><a class=\"ProveItLink\" href=\"../77ad38680e57c443957e1b580ef96a79bfa59d9f0/expr.ipynb\"><img src=\"../77ad38680e57c443957e1b580ef96a79bfa59d9f0/expr.png\" style=\"display:inline;vertical-align:middle;\" /></a></td></tr>\n",
       "<tr><td>17</td><td>ExprRange</td><td>lambda_map:&nbsp;20<br>start_index:&nbsp;22<br>end_index:&nbsp;23<br></td><td><a class=\"ProveItLink\" href=\"../../../../core_expr_types/__pv_it/36b186afc91ba7c57b358c8d856ab3c828e9e2c50/expr.ipynb\"><img src=\"../../../../core_expr_types/__pv_it/36b186afc91ba7c57b358c8d856ab3c828e9e2c50/expr.png\" style=\"display:inline;vertical-align:middle;\" /></a></td></tr>\n",
       "<tr><td>18</td><td>ExprRange</td><td>lambda_map:&nbsp;21<br>start_index:&nbsp;22<br>end_index:&nbsp;23<br></td><td><a class=\"ProveItLink\" href=\"../../../../core_expr_types/__pv_it/87b377c364a4602e9ce64fd43004741e2b6395d00/expr.ipynb\"><img src=\"../../../../core_expr_types/__pv_it/87b377c364a4602e9ce64fd43004741e2b6395d00/expr.png\" style=\"display:inline;vertical-align:middle;\" /></a></td></tr>\n",
       "<tr><td>19</td><td>Operation</td><td>operator:&nbsp;24<br>operands:&nbsp;25<br></td><td><a class=\"ProveItLink\" href=\"../c0312f75574af893031ea0d585010dc97ee40c810/expr.ipynb\"><img src=\"../c0312f75574af893031ea0d585010dc97ee40c810/expr.png\" style=\"display:inline;vertical-align:middle;\" /></a></td></tr>\n",
       "<tr><td>20</td><td>Lambda</td><td>parameter:&nbsp;30<br>body:&nbsp;26<br></td><td><a class=\"ProveItLink\" href=\"../../../../core_expr_types/__pv_it/15cc35ac7085d75649b82db6beead515f3030ef00/expr.ipynb\"><img src=\"../../../../core_expr_types/__pv_it/15cc35ac7085d75649b82db6beead515f3030ef00/expr.png\" style=\"display:inline;vertical-align:middle;\" /></a></td></tr>\n",
       "<tr><td>21</td><td>Lambda</td><td>parameter:&nbsp;30<br>body:&nbsp;27<br></td><td><a class=\"ProveItLink\" href=\"../../../../core_expr_types/__pv_it/4d6ce55953d3186b844d94fa964658034e386c2f0/expr.ipynb\"><img src=\"../../../../core_expr_types/__pv_it/4d6ce55953d3186b844d94fa964658034e386c2f0/expr.png\" style=\"display:inline;vertical-align:middle;\" /></a></td></tr>\n",
       "<tr><td>22</td><td>Literal</td><td></td><td><a class=\"ProveItLink\" href=\"../../../../number/numeral/__pv_it/f086f8c372bd40a2458306ddfdbb29f3dc6f63030/expr.ipynb\"><img src=\"../../../../number/numeral/__pv_it/f086f8c372bd40a2458306ddfdbb29f3dc6f63030/expr.png\" style=\"display:inline;vertical-align:middle;\" /></a></td></tr>\n",
       "<tr><td>23</td><td>Variable</td><td></td><td><a class=\"ProveItLink\" href=\"../../../../__pv_it/0c1c4cb515e0f4344b1ac06650f349123e526deb0/expr.ipynb\"><img src=\"../../../../__pv_it/0c1c4cb515e0f4344b1ac06650f349123e526deb0/expr.png\" style=\"display:inline;vertical-align:middle;\" /></a></td></tr>\n",
       "<tr><td>24</td><td>Literal</td><td></td><td><a class=\"ProveItLink\" href=\"../e16d2caa26a16688b658bdb9c422caf4b84579e10/expr.ipynb\"><img src=\"../e16d2caa26a16688b658bdb9c422caf4b84579e10/expr.png\" style=\"display:inline;vertical-align:middle;\" /></a></td></tr>\n",
       "<tr><td>25</td><td>ExprTuple</td><td>28, 29</td><td><a class=\"ProveItLink\" href=\"../cd3c7c9a9a6da06f55d82f8817a8129a0f2f41740/expr.ipynb\"><img src=\"../cd3c7c9a9a6da06f55d82f8817a8129a0f2f41740/expr.png\" style=\"display:inline;vertical-align:middle;\" /></a></td></tr>\n",
       "<tr><td>26</td><td>IndexedVar</td><td>variable:&nbsp;31<br>index:&nbsp;30<br></td><td><a class=\"ProveItLink\" href=\"../../../../core_expr_types/__pv_it/12d6cd514f4a6eb41d13ff30f08a9d01f2c4f4ba0/expr.ipynb\"><img src=\"../../../../core_expr_types/__pv_it/12d6cd514f4a6eb41d13ff30f08a9d01f2c4f4ba0/expr.png\" style=\"display:inline;vertical-align:middle;\" /></a></td></tr>\n",
       "<tr><td>27</td><td>IndexedVar</td><td>variable:&nbsp;32<br>index:&nbsp;30<br></td><td><a class=\"ProveItLink\" href=\"../../../../core_expr_types/__pv_it/cbc5b13c7440e4f3ed730e7f45cdfc50ebbcda220/expr.ipynb\"><img src=\"../../../../core_expr_types/__pv_it/cbc5b13c7440e4f3ed730e7f45cdfc50ebbcda220/expr.png\" style=\"display:inline;vertical-align:middle;\" /></a></td></tr>\n",
       "<tr><td>28</td><td>IndexedVar</td><td>variable:&nbsp;31<br>index:&nbsp;33<br></td><td><a class=\"ProveItLink\" href=\"../5874d522c01613ddd74e1460f6c97279952426360/expr.ipynb\"><img src=\"../5874d522c01613ddd74e1460f6c97279952426360/expr.png\" style=\"display:inline;vertical-align:middle;\" /></a></td></tr>\n",
       "<tr><td>29</td><td>IndexedVar</td><td>variable:&nbsp;32<br>index:&nbsp;33<br></td><td><a class=\"ProveItLink\" href=\"../a80a60bbfebfc387e81da212c6d67a93021ca9460/expr.ipynb\"><img src=\"../a80a60bbfebfc387e81da212c6d67a93021ca9460/expr.png\" style=\"display:inline;vertical-align:middle;\" /></a></td></tr>\n",
       "<tr><td>30</td><td>Variable</td><td></td><td><a class=\"ProveItLink\" href=\"../../../../core_expr_types/__pv_it/1e653f789234b245ee7fea7caad998c139d617410/expr.ipynb\"><img src=\"../../../../core_expr_types/__pv_it/1e653f789234b245ee7fea7caad998c139d617410/expr.png\" style=\"display:inline;vertical-align:middle;\" /></a></td></tr>\n",
       "<tr><td>31</td><td>Variable</td><td></td><td><a class=\"ProveItLink\" href=\"../../../../__pv_it/72df168d2bfb4e0140af90912ebf83b13772060b0/expr.ipynb\"><img src=\"../../../../__pv_it/72df168d2bfb4e0140af90912ebf83b13772060b0/expr.png\" style=\"display:inline;vertical-align:middle;\" /></a></td></tr>\n",
       "<tr><td>32</td><td>Variable</td><td></td><td><a class=\"ProveItLink\" href=\"../../../../__pv_it/c6e291955561f22a0e6708fd793ea93f1c7dbb5d0/expr.ipynb\"><img src=\"../../../../__pv_it/c6e291955561f22a0e6708fd793ea93f1c7dbb5d0/expr.png\" style=\"display:inline;vertical-align:middle;\" /></a></td></tr>\n",
       "<tr><td>33</td><td>Variable</td><td></td><td><a class=\"ProveItLink\" href=\"../../../../__pv_it/a8d4b3a34d2189508f9082853fbac36935714f280/expr.ipynb\"><img src=\"../../../../__pv_it/a8d4b3a34d2189508f9082853fbac36935714f280/expr.png\" style=\"display:inline;vertical-align:middle;\" /></a></td></tr>\n",
       "</table>\n"
      ],
      "text/plain": [
       "0. forall_{f, x_{1}, ..x_{_a}.., x_{n}, y_{1}, ..y_{_a}.., y_{n} | x_{1} = y_{1}, ..x_{a} = y_{a}.., x_{n} = y_{n}} (f(x_{1}, ..x_{_a}.., x_{n}) = f(y_{1}, ..y_{_a}.., y_{n}))\n",
       "   core type: Operation\n",
       "   operator: 1\n",
       "   operand: 2\n",
       "1. forall\n",
       "   core type: Literal\n",
       "   sub-expressions: \n",
       "2. (f, x_{1}, ..x_{_a}.., x_{n}, y_{1}, ..y_{_a}.., y_{n}) -> {f(x_{1}, ..x_{_a}.., x_{n}) = f(y_{1}, ..y_{_a}.., y_{n}) if (x_{1} = y_{1}) and ..(x_{a} = y_{a}).. and (x_{n} = y_{n}).\n",
       "   core type: Lambda\n",
       "   parameters: 3\\n   body: 4\n",
       "3. (f, x_{1}, ..x_{_a}.., x_{n}, y_{1}, ..y_{_a}.., y_{n})\n",
       "   core type: ExprTuple\n",
       "   sub-expressions: 14, 17, 18\n",
       "4. {f(x_{1}, ..x_{_a}.., x_{n}) = f(y_{1}, ..y_{_a}.., y_{n}) if (x_{1} = y_{1}) and ..(x_{a} = y_{a}).. and (x_{n} = y_{n}).\n",
       "   core type: Conditional\n",
       "   value: 5\n",
       "   condition: 6\n",
       "5. f(x_{1}, ..x_{_a}.., x_{n}) = f(y_{1}, ..y_{_a}.., y_{n})\n",
       "   core type: Operation\n",
       "   operator: 24\n",
       "   operands: 7\n",
       "6. (x_{1} = y_{1}) and ..(x_{a} = y_{a}).. and (x_{n} = y_{n})\n",
       "   core type: Operation\n",
       "   operator: 8\n",
       "   operands: 9\n",
       "7. (f(x_{1}, ..x_{_a}.., x_{n}), f(y_{1}, ..y_{_a}.., y_{n}))\n",
       "   core type: ExprTuple\n",
       "   sub-expressions: 10, 11\n",
       "8. and\n",
       "   core type: Literal\n",
       "   sub-expressions: \n",
       "9. (x_{1} = y_{1}, ..x_{a} = y_{a}.., x_{n} = y_{n})\n",
       "   core type: ExprTuple\n",
       "   sub-expressions: 12\n",
       "10. f(x_{1}, ..x_{_a}.., x_{n})\n",
       "    core type: Operation\n",
       "    operator: 14\n",
       "    operands: 13\n",
       "11. f(y_{1}, ..y_{_a}.., y_{n})\n",
       "    core type: Operation\n",
       "    operator: 14\n",
       "    operands: 15\n",
       "12. (x_{1} = y_{1}), ..(x_{a} = y_{a}).., (x_{n} = y_{n})\n",
       "    core type: ExprRange\n",
       "    lambda_map: 16\n",
       "    start_index: 22\n",
       "    end_index: 23\n",
       "13. (x_{1}, ..x_{_a}.., x_{n})\n",
       "    core type: ExprTuple\n",
       "    sub-expressions: 17\n",
       "14. f\n",
       "    core type: Variable\n",
       "    sub-expressions: \n",
       "15. (y_{1}, ..y_{_a}.., y_{n})\n",
       "    core type: ExprTuple\n",
       "    sub-expressions: 18\n",
       "16. a -> (x_{a} = y_{a})\n",
       "    core type: Lambda\n",
       "    parameter: 33\n",
       "    body: 19\n",
       "17. x_{1}, ..x_{_a}.., x_{n}\n",
       "    core type: ExprRange\n",
       "    lambda_map: 20\n",
       "    start_index: 22\n",
       "    end_index: 23\n",
       "18. y_{1}, ..y_{_a}.., y_{n}\n",
       "    core type: ExprRange\n",
       "    lambda_map: 21\n",
       "    start_index: 22\n",
       "    end_index: 23\n",
       "19. x_{a} = y_{a}\n",
       "    core type: Operation\n",
       "    operator: 24\n",
       "    operands: 25\n",
       "20. _a -> x_{_a}\n",
       "    core type: Lambda\n",
       "    parameter: 30\n",
       "    body: 26\n",
       "21. _a -> y_{_a}\n",
       "    core type: Lambda\n",
       "    parameter: 30\n",
       "    body: 27\n",
       "22. 1\n",
       "    core type: Literal\n",
       "    sub-expressions: \n",
       "23. n\n",
       "    core type: Variable\n",
       "    sub-expressions: \n",
       "24. =\n",
       "    core type: Literal\n",
       "    sub-expressions: \n",
       "25. (x_{a}, y_{a})\n",
       "    core type: ExprTuple\n",
       "    sub-expressions: 28, 29\n",
       "26. x_{_a}\n",
       "    core type: IndexedVar\n",
       "variable: 31\n",
       "index: 30\n",
       "27. y_{_a}\n",
       "    core type: IndexedVar\n",
       "variable: 32\n",
       "index: 30\n",
       "28. x_{a}\n",
       "    core type: IndexedVar\n",
       "variable: 31\n",
       "index: 33\n",
       "29. y_{a}\n",
       "    core type: IndexedVar\n",
       "variable: 32\n",
       "index: 33\n",
       "30. _a\n",
       "    core type: Variable\n",
       "    sub-expressions: \n",
       "31. x\n",
       "    core type: Variable\n",
       "    sub-expressions: \n",
       "32. y\n",
       "    core type: Variable\n",
       "    sub-expressions: \n",
       "33. a\n",
       "    core type: Variable\n",
       "    sub-expressions: "
      ]
     },
     "execution_count": 5,
     "metadata": {},
     "output_type": "execute_result"
    }
   ],
   "source": [
    "# display the expression information\n",
    "expr.exprInfo()"
   ]
  },
  {
   "cell_type": "code",
   "execution_count": null,
   "metadata": {},
   "outputs": [],
   "source": []
  }
 ],
 "metadata": {
  "kernelspec": {
   "display_name": "Python 3",
   "language": "python",
   "name": "python3"
  },
  "language_info": {
   "codemirror_mode": {
    "name": "ipython",
    "version": 3
   },
   "file_extension": ".py",
   "mimetype": "text/x-python",
   "name": "python",
   "nbconvert_exporter": "python",
   "pygments_lexer": "ipython3",
   "version": "3.7.3"
  }
 },
 "nbformat": 4,
 "nbformat_minor": 1
}
