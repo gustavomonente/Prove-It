{
 "cells": [
  {
   "cell_type": "markdown",
   "metadata": {},
   "source": [
    "Theorem Dependencies\n",
    "=======================\n",
    "\n",
    "## <a class=\"ProveItLink\" href=\"../../_context_.ipynb\">proveit.logic.equality</a>.<a class=\"ProveItLink\" href=\"../../_theorems_.ipynb#subRightSideInto\">subRightSideInto</a> \n",
    "***see <a class=\"ProveItLink\" href=\"../../_proofs_/subRightSideInto.ipynb\">proof</a>***"
   ]
  },
  {
   "cell_type": "code",
   "execution_count": 1,
   "metadata": {},
   "outputs": [],
   "source": [
    "import proveit\n",
    "# Automation is not needed when querying dependencies:\n",
    "proveit.defaults.automation = False # This will speed things up.\n",
    "proveit.defaults.inline_pngs = False # Makes files smaller.\n",
    "from proveit.logic.equality._theorems_ import subRightSideInto"
   ]
  },
  {
   "cell_type": "code",
   "execution_count": 2,
   "metadata": {},
   "outputs": [
    {
     "data": {
      "text/html": [
       "<h3>Axioms required (directly or indirectly) to prove subRightSideInto</h3>"
      ],
      "text/plain": [
       "<IPython.core.display.HTML object>"
      ]
     },
     "metadata": {},
     "output_type": "display_data"
    },
    {
     "data": {
      "text/html": [
       "<dl>"
      ],
      "text/plain": [
       "<IPython.core.display.HTML object>"
      ]
     },
     "metadata": {},
     "output_type": "display_data"
    },
    {
     "data": {
      "text/html": [
       "<dt><a class=\"ProveItLink\" href=\"../../../boolean/_axioms_.ipynb#eqTrueElim\">proveit.logic.boolean.eqTrueElim</a></dt><dd><a class=\"ProveItLink\" href=\"../../../boolean/__pv_it/6ff60b895e13190b9801f0a9e710e21dbccdfd7f0/expr.ipynb\"><img src=\"../../../boolean/__pv_it/6ff60b895e13190b9801f0a9e710e21dbccdfd7f0/expr.png\" style=\"display:inline;vertical-align:middle;\" /></a></dd>"
      ],
      "text/plain": [
       "<IPython.core.display.HTML object>"
      ]
     },
     "metadata": {},
     "output_type": "display_data"
    },
    {
     "data": {
      "text/html": [
       "<dt><a class=\"ProveItLink\" href=\"../../../boolean/_axioms_.ipynb#eqTrueIntro\">proveit.logic.boolean.eqTrueIntro</a></dt><dd><a class=\"ProveItLink\" href=\"../../../boolean/__pv_it/7bce5e3cff7f8036cee68d8befe33a38fe32f5c10/expr.ipynb\"><img src=\"../../../boolean/__pv_it/7bce5e3cff7f8036cee68d8befe33a38fe32f5c10/expr.png\" style=\"display:inline;vertical-align:middle;\" /></a></dd>"
      ],
      "text/plain": [
       "<IPython.core.display.HTML object>"
      ]
     },
     "metadata": {},
     "output_type": "display_data"
    },
    {
     "data": {
      "text/html": [
       "<dt><a class=\"ProveItLink\" href=\"../../_axioms_.ipynb#equalsSymmetry\">proveit.logic.equality.equalsSymmetry</a></dt><dd><a class=\"ProveItLink\" href=\"../31cdd49381a5bc0613437bed3e59e09327e2e73f0/expr.ipynb\"><img src=\"../31cdd49381a5bc0613437bed3e59e09327e2e73f0/expr.png\" style=\"display:inline;vertical-align:middle;\" /></a></dd>"
      ],
      "text/plain": [
       "<IPython.core.display.HTML object>"
      ]
     },
     "metadata": {},
     "output_type": "display_data"
    },
    {
     "data": {
      "text/html": [
       "<dt><a class=\"ProveItLink\" href=\"../../_axioms_.ipynb#equalsTransitivity\">proveit.logic.equality.equalsTransitivity</a></dt><dd><a class=\"ProveItLink\" href=\"../62a78d8298863a1032c900aff4af282587b901b20/expr.ipynb\"><img src=\"../62a78d8298863a1032c900aff4af282587b901b20/expr.png\" style=\"display:inline;vertical-align:middle;\" /></a></dd>"
      ],
      "text/plain": [
       "<IPython.core.display.HTML object>"
      ]
     },
     "metadata": {},
     "output_type": "display_data"
    },
    {
     "data": {
      "text/html": [
       "<dt><a class=\"ProveItLink\" href=\"../../_axioms_.ipynb#substitution\">proveit.logic.equality.substitution</a></dt><dd><a class=\"ProveItLink\" href=\"../227f37bc1ee52abe3a92ac5130dc32c91fd40c720/expr.ipynb\"><img src=\"../227f37bc1ee52abe3a92ac5130dc32c91fd40c720/expr.png\" style=\"display:inline;vertical-align:middle;\" /></a></dd>"
      ],
      "text/plain": [
       "<IPython.core.display.HTML object>"
      ]
     },
     "metadata": {},
     "output_type": "display_data"
    },
    {
     "data": {
      "text/html": [
       "</dl>"
      ],
      "text/plain": [
       "<IPython.core.display.HTML object>"
      ]
     },
     "metadata": {},
     "output_type": "display_data"
    },
    {
     "data": {
      "text/html": [
       "<h3>Theorems that depend directly on subRightSideInto</h3>"
      ],
      "text/plain": [
       "<IPython.core.display.HTML object>"
      ]
     },
     "metadata": {},
     "output_type": "display_data"
    },
    {
     "data": {
      "text/html": [
       "<dl>"
      ],
      "text/plain": [
       "<IPython.core.display.HTML object>"
      ]
     },
     "metadata": {},
     "output_type": "display_data"
    },
    {
     "data": {
      "text/html": [
       "<dt><a class=\"ProveItLink\" href=\"../../../../core_expr_types/tuples/_proofs_/tuple_eq_via_elem_eq.ipynb\">proveit.core_expr_types.tuples.tuple_eq_via_elem_eq</a></dt><dd><a class=\"ProveItLink\" href=\"../../../../core_expr_types/tuples/__pv_it/9f983d98baf96b4625eda17ab2804d5facc66fd40/expr.ipynb\"><img src=\"../../../../core_expr_types/tuples/__pv_it/9f983d98baf96b4625eda17ab2804d5facc66fd40/expr.png\" style=\"display:inline;vertical-align:middle;\" /></a></dd>"
      ],
      "text/plain": [
       "<IPython.core.display.HTML object>"
      ]
     },
     "metadata": {},
     "output_type": "display_data"
    },
    {
     "data": {
      "text/html": [
       "<dt><a class=\"ProveItLink\" href=\"../../../boolean/conjunction/_proofs_/unary_and_reduction.ipynb\">proveit.logic.boolean.conjunction.unary_and_reduction</a></dt><dd><a class=\"ProveItLink\" href=\"../../../boolean/conjunction/__pv_it/d12737b9a6d077d9d6ccdbdd33c0ad0b61e7d0180/expr.ipynb\"><img src=\"../../../boolean/conjunction/__pv_it/d12737b9a6d077d9d6ccdbdd33c0ad0b61e7d0180/expr.png\" style=\"display:inline;vertical-align:middle;\" /></a></dd>"
      ],
      "text/plain": [
       "<IPython.core.display.HTML object>"
      ]
     },
     "metadata": {},
     "output_type": "display_data"
    },
    {
     "data": {
      "text/html": [
       "<dt><a class=\"ProveItLink\" href=\"../../../boolean/implication/_proofs_/iffFT.ipynb\">proveit.logic.boolean.implication.iffFT</a></dt><dd><a class=\"ProveItLink\" href=\"../../../boolean/implication/__pv_it/ab1f2bd0369a382c84069ac1ddf30f5c10cdcc330/expr.ipynb\"><img src=\"../../../boolean/implication/__pv_it/ab1f2bd0369a382c84069ac1ddf30f5c10cdcc330/expr.png\" style=\"display:inline;vertical-align:middle;\" /></a></dd>"
      ],
      "text/plain": [
       "<IPython.core.display.HTML object>"
      ]
     },
     "metadata": {},
     "output_type": "display_data"
    },
    {
     "data": {
      "text/html": [
       "<dt><a class=\"ProveItLink\" href=\"../../../boolean/implication/_proofs_/iffTF.ipynb\">proveit.logic.boolean.implication.iffTF</a></dt><dd><a class=\"ProveItLink\" href=\"../../../boolean/implication/__pv_it/66800b56595dfb98cb6339580d262380e788d77a0/expr.ipynb\"><img src=\"../../../boolean/implication/__pv_it/66800b56595dfb98cb6339580d262380e788d77a0/expr.png\" style=\"display:inline;vertical-align:middle;\" /></a></dd>"
      ],
      "text/plain": [
       "<IPython.core.display.HTML object>"
      ]
     },
     "metadata": {},
     "output_type": "display_data"
    },
    {
     "data": {
      "text/html": [
       "<dt><a class=\"ProveItLink\" href=\"../../../boolean/_proofs_/unfoldInBoolExplicit.ipynb\">proveit.logic.boolean.unfoldInBoolExplicit</a></dt><dd><a class=\"ProveItLink\" href=\"../../../boolean/__pv_it/b0063e6cefff43b4c01f463be07b9b4645af3c4c0/expr.ipynb\"><img src=\"../../../boolean/__pv_it/b0063e6cefff43b4c01f463be07b9b4645af3c4c0/expr.png\" style=\"display:inline;vertical-align:middle;\" /></a></dd>"
      ],
      "text/plain": [
       "<IPython.core.display.HTML object>"
      ]
     },
     "metadata": {},
     "output_type": "display_data"
    },
    {
     "data": {
      "text/html": [
       "<dt><a class=\"ProveItLink\" href=\"../../_proofs_/rhsViaEquivalence.ipynb\">proveit.logic.equality.rhsViaEquivalence</a></dt><dd><a class=\"ProveItLink\" href=\"../ea3f0886e0e7f5db38be02c25ae4d3c5049183de0/expr.ipynb\"><img src=\"../ea3f0886e0e7f5db38be02c25ae4d3c5049183de0/expr.png\" style=\"display:inline;vertical-align:middle;\" /></a></dd>"
      ],
      "text/plain": [
       "<IPython.core.display.HTML object>"
      ]
     },
     "metadata": {},
     "output_type": "display_data"
    },
    {
     "data": {
      "text/html": [
       "<dt><a class=\"ProveItLink\" href=\"../../_proofs_/substituteInFalse.ipynb\">proveit.logic.equality.substituteInFalse</a></dt><dd><a class=\"ProveItLink\" href=\"../d69c5d88d63d8ecb0994298458b05ef020ba8f250/expr.ipynb\"><img src=\"../d69c5d88d63d8ecb0994298458b05ef020ba8f250/expr.png\" style=\"display:inline;vertical-align:middle;\" /></a></dd>"
      ],
      "text/plain": [
       "<IPython.core.display.HTML object>"
      ]
     },
     "metadata": {},
     "output_type": "display_data"
    },
    {
     "data": {
      "text/html": [
       "<dt><a class=\"ProveItLink\" href=\"../../_proofs_/substituteInTrue.ipynb\">proveit.logic.equality.substituteInTrue</a></dt><dd><a class=\"ProveItLink\" href=\"../9f7fa9efcb8d58e2840b52c11fad2d73f75e0efb0/expr.ipynb\"><img src=\"../9f7fa9efcb8d58e2840b52c11fad2d73f75e0efb0/expr.png\" style=\"display:inline;vertical-align:middle;\" /></a></dd>"
      ],
      "text/plain": [
       "<IPython.core.display.HTML object>"
      ]
     },
     "metadata": {},
     "output_type": "display_data"
    },
    {
     "data": {
      "text/html": [
       "<dt><a class=\"ProveItLink\" href=\"../../../../number/ordering/_proofs_/reverseGreaterEq.ipynb\">proveit.number.ordering.reverseGreaterEq</a></dt><dd><a class=\"ProveItLink\" href=\"../../../../number/ordering/__pv_it/e04a17858815b344c8197e331abc7c9a90444b630/expr.ipynb\"><img src=\"../../../../number/ordering/__pv_it/e04a17858815b344c8197e331abc7c9a90444b630/expr.png\" style=\"display:inline;vertical-align:middle;\" /></a></dd>"
      ],
      "text/plain": [
       "<IPython.core.display.HTML object>"
      ]
     },
     "metadata": {},
     "output_type": "display_data"
    },
    {
     "data": {
      "text/html": [
       "<dt><a class=\"ProveItLink\" href=\"../../../../number/ordering/_proofs_/transitivityGreaterGreaterEq.ipynb\">proveit.number.ordering.transitivityGreaterGreaterEq</a></dt><dd><a class=\"ProveItLink\" href=\"../../../../number/ordering/__pv_it/af2c29a6ea099eeaec32cfbaabedc932944a63f90/expr.ipynb\"><img src=\"../../../../number/ordering/__pv_it/af2c29a6ea099eeaec32cfbaabedc932944a63f90/expr.png\" style=\"display:inline;vertical-align:middle;\" /></a></dd>"
      ],
      "text/plain": [
       "<IPython.core.display.HTML object>"
      ]
     },
     "metadata": {},
     "output_type": "display_data"
    },
    {
     "data": {
      "text/html": [
       "<dt><a class=\"ProveItLink\" href=\"../../../../number/ordering/_proofs_/transitivityLessLessEq.ipynb\">proveit.number.ordering.transitivityLessLessEq</a></dt><dd><a class=\"ProveItLink\" href=\"../../../../number/ordering/__pv_it/b203f67ed4dfec6132a2387dce86c0f246fd5f4c0/expr.ipynb\"><img src=\"../../../../number/ordering/__pv_it/b203f67ed4dfec6132a2387dce86c0f246fd5f4c0/expr.png\" style=\"display:inline;vertical-align:middle;\" /></a></dd>"
      ],
      "text/plain": [
       "<IPython.core.display.HTML object>"
      ]
     },
     "metadata": {},
     "output_type": "display_data"
    },
    {
     "data": {
      "text/html": [
       "</dl>"
      ],
      "text/plain": [
       "<IPython.core.display.HTML object>"
      ]
     },
     "metadata": {},
     "output_type": "display_data"
    }
   ],
   "source": [
    "%dependencies subRightSideInto"
   ]
  }
 ],
 "metadata": {
  "kernelspec": {
   "display_name": "Python 3",
   "language": "python",
   "name": "python3"
  },
  "language_info": {
   "codemirror_mode": {
    "name": "ipython",
    "version": 3
   },
   "file_extension": ".py",
   "mimetype": "text/x-python",
   "name": "python",
   "nbconvert_exporter": "python",
   "pygments_lexer": "ipython3",
   "version": "3.7.3"
  }
 },
 "nbformat": 4,
 "nbformat_minor": 1
}
