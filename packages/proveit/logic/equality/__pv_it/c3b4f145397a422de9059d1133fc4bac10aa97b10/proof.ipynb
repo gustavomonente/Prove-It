{
 "cells": [
  {
   "cell_type": "markdown",
   "metadata": {},
   "source": [
    "Show the Proof\n",
    "========"
   ]
  },
  {
   "cell_type": "code",
   "execution_count": 1,
   "metadata": {},
   "outputs": [
    {
     "data": {
      "text/html": [
       "<table><tr><th>&nbsp;</th><th>step type</th><th>requirements</th><th>statement</th></tr>\n",
       "<tr><td><a name=\"proveit.logic.equality.c3b4f145397a422de9059d1133fc4bac10aa97b10_step0\">0</a></td><td>instantiation</td><td><a href=\"#proveit.logic.equality.c3b4f145397a422de9059d1133fc4bac10aa97b10_step1\">1</a>, <a href=\"#proveit.logic.equality.c3b4f145397a422de9059d1133fc4bac10aa97b10_step2\">2</a>, <a href=\"#proveit.logic.equality.c3b4f145397a422de9059d1133fc4bac10aa97b10_step3\">3</a></td><td><span style=\"font-size:20px;\"><a class=\"ProveItLink\" href=\"../b101ac93f8a41e9b9a35bdf1896ff54822dbf0470/expr.ipynb\"><img src=\"../b101ac93f8a41e9b9a35bdf1896ff54822dbf0470/expr.png\" style=\"display:inline;vertical-align:middle;\" /></a> <a class=\"ProveItLink\" href=\"proof.ipynb\" style=\"text-decoration: none\">&#x22A2;&nbsp;</a><a class=\"ProveItLink\" href=\"../3ea629d8d9561cdebe300eedc87683df20bb12a50/expr.ipynb\"><img src=\"../3ea629d8d9561cdebe300eedc87683df20bb12a50/expr.png\" style=\"display:inline;vertical-align:middle;\" /></a></span></td></tr>\n",
       "<tr><td>&nbsp;</td><td colspan=4 style=\"text-align:left\"><span style=\"font-size:20px;\"><a class=\"ProveItLink\" href=\"../0b28339a9470b3064675e3d630fe626bc057a2440/expr.ipynb\"><img src=\"../0b28339a9470b3064675e3d630fe626bc057a2440/expr.png\" style=\"display:inline;vertical-align:middle;\" /></a> : <a class=\"ProveItLink\" href=\"../c6980785d3ffd1268383d7a1b6ab270df1185ce00/expr.ipynb\"><img src=\"../c6980785d3ffd1268383d7a1b6ab270df1185ce00/expr.png\" style=\"display:inline;vertical-align:middle;\" /></a>, <a class=\"ProveItLink\" href=\"../../../../__pv_it/72df168d2bfb4e0140af90912ebf83b13772060b0/expr.ipynb\"><img src=\"../../../../__pv_it/72df168d2bfb4e0140af90912ebf83b13772060b0/expr.png\" style=\"display:inline;vertical-align:middle;\" /></a> : <a class=\"ProveItLink\" href=\"../../../../__pv_it/445e790c2b62732eb8597a2ddda4cbd1a8fb79140/expr.ipynb\"><img src=\"../../../../__pv_it/445e790c2b62732eb8597a2ddda4cbd1a8fb79140/expr.png\" style=\"display:inline;vertical-align:middle;\" /></a>, <a class=\"ProveItLink\" href=\"../../../../__pv_it/c6e291955561f22a0e6708fd793ea93f1c7dbb5d0/expr.ipynb\"><img src=\"../../../../__pv_it/c6e291955561f22a0e6708fd793ea93f1c7dbb5d0/expr.png\" style=\"display:inline;vertical-align:middle;\" /></a> : <a class=\"ProveItLink\" href=\"../../../../__pv_it/c6e291955561f22a0e6708fd793ea93f1c7dbb5d0/expr.ipynb\"><img src=\"../../../../__pv_it/c6e291955561f22a0e6708fd793ea93f1c7dbb5d0/expr.png\" style=\"display:inline;vertical-align:middle;\" /></a></span></td></tr><tr><td><a name=\"proveit.logic.equality.c3b4f145397a422de9059d1133fc4bac10aa97b10_step1\">1</a></td><td>theorem</td><td></td><td><span style=\"font-size:20px;\"> <a class=\"ProveItLink\" href=\"../../_proofs_/subRightSideInto.ipynb\" style=\"text-decoration: none\">&#x22A2;&nbsp;</a><a class=\"ProveItLink\" href=\"../19c030addf6d2b1fd70f425ed548586daa5d57ac0/expr.ipynb\"><img src=\"../19c030addf6d2b1fd70f425ed548586daa5d57ac0/expr.png\" style=\"display:inline;vertical-align:middle;\" /></a></span></td></tr>\n",
       "<tr><td>&nbsp;</td><td colspan=4 style-\"text-align:left\"><a class=\"ProveItLink\" href=\"../../_proofs_/subRightSideInto.ipynb\">proveit.logic.equality.subRightSideInto</a></td></tr><tr><td><a name=\"proveit.logic.equality.c3b4f145397a422de9059d1133fc4bac10aa97b10_step2\">2</a></td><td>assumption</td><td></td><td><span style=\"font-size:20px;\"><a class=\"ProveItLink\" href=\"../382c8c9c1d5077349f5b08852df38dc144d4479c0/expr.ipynb\"><img src=\"../382c8c9c1d5077349f5b08852df38dc144d4479c0/expr.png\" style=\"display:inline;vertical-align:middle;\" /></a> <a class=\"ProveItLink\" href=\"../1ee1962289ed5815e0349de8358d616b92d728b20/proof.ipynb\" style=\"text-decoration: none\">&#x22A2;&nbsp;</a><a class=\"ProveItLink\" href=\"../9b3700b33cda9d12547efd156dd7d932373a0fd50/expr.ipynb\"><img src=\"../9b3700b33cda9d12547efd156dd7d932373a0fd50/expr.png\" style=\"display:inline;vertical-align:middle;\" /></a></span></td></tr>\n",
       "<tr><td><a name=\"proveit.logic.equality.c3b4f145397a422de9059d1133fc4bac10aa97b10_step3\">3</a></td><td>assumption</td><td></td><td><span style=\"font-size:20px;\"><a class=\"ProveItLink\" href=\"../4e7cc4d2e67cf59f8565b46c31a53df1fffc98cf0/expr.ipynb\"><img src=\"../4e7cc4d2e67cf59f8565b46c31a53df1fffc98cf0/expr.png\" style=\"display:inline;vertical-align:middle;\" /></a> <a class=\"ProveItLink\" href=\"../79991304136a4364e75088554f31c867b1b21a550/proof.ipynb\" style=\"text-decoration: none\">&#x22A2;&nbsp;</a><a class=\"ProveItLink\" href=\"../ab3b4b00a84bcef8ed6caaaf62b6bcdd2ee714ef0/expr.ipynb\"><img src=\"../ab3b4b00a84bcef8ed6caaaf62b6bcdd2ee714ef0/expr.png\" style=\"display:inline;vertical-align:middle;\" /></a></span></td></tr>\n",
       "</table>"
      ],
      "text/plain": [
       "<proveit._core_.proof._ShowProof at 0x7f5b8db4a860>"
      ]
     },
     "execution_count": 1,
     "metadata": {},
     "output_type": "execute_result"
    }
   ],
   "source": [
    "import proveit\n",
    "# Automation is not needed when only showing a stored proof:\n",
    "proveit.defaults.automation = False # This will speed things up.\n",
    "proveit.defaults.inline_pngs = False # Makes files smaller.\n",
    "%show_proof"
   ]
  },
  {
   "cell_type": "code",
   "execution_count": null,
   "metadata": {},
   "outputs": [],
   "source": []
  }
 ],
 "metadata": {
  "kernelspec": {
   "display_name": "Python 3",
   "language": "python",
   "name": "python3"
  },
  "language_info": {
   "codemirror_mode": {
    "name": "ipython",
    "version": 3
   },
   "file_extension": ".py",
   "mimetype": "text/x-python",
   "name": "python",
   "nbconvert_exporter": "python",
   "pygments_lexer": "ipython3",
   "version": "3.7.3"
  }
 },
 "nbformat": 4,
 "nbformat_minor": 1
}
