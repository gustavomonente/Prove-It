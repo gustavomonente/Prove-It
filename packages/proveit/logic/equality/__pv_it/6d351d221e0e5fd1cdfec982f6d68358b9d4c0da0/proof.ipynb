{
 "cells": [
  {
   "cell_type": "markdown",
   "metadata": {},
   "source": [
    "Show the Proof\n",
    "========"
   ]
  },
  {
   "cell_type": "code",
   "execution_count": 1,
   "metadata": {},
   "outputs": [
    {
     "data": {
      "text/html": [
       "<table><tr><th>&nbsp;</th><th>step type</th><th>requirements</th><th>statement</th></tr>\n",
       "<tr><td><a name=\"proveit.logic.equality.6d351d221e0e5fd1cdfec982f6d68358b9d4c0da0_step0\">0</a></td><td>instantiation</td><td><a href=\"#proveit.logic.equality.6d351d221e0e5fd1cdfec982f6d68358b9d4c0da0_step1\">1</a>, <a href=\"#proveit.logic.equality.6d351d221e0e5fd1cdfec982f6d68358b9d4c0da0_step2\">2</a></td><td><span style=\"font-size:20px;\"><a class=\"ProveItLink\" href=\"../ba103ee1cdfdf8fce3b8e01372af7462332e5b2f0/expr.ipynb\"><img src=\"../ba103ee1cdfdf8fce3b8e01372af7462332e5b2f0/expr.png\" style=\"display:inline;vertical-align:middle;\" /></a> <a class=\"ProveItLink\" href=\"proof.ipynb\" style=\"text-decoration: none\">&#x22A2;&nbsp;</a><a class=\"ProveItLink\" href=\"../../../../__pv_it/2548a99d921e002e203801a4828f7377ced085bf0/expr.ipynb\"><img src=\"../../../../__pv_it/2548a99d921e002e203801a4828f7377ced085bf0/expr.png\" style=\"display:inline;vertical-align:middle;\" /></a></span></td></tr>\n",
       "<tr><td>&nbsp;</td><td colspan=4 style=\"text-align:left\"><span style=\"font-size:20px;\"><a class=\"ProveItLink\" href=\"../../../../__pv_it/d3792d0d8642fdf1cd2a3a9b32c673ee13653de00/expr.ipynb\"><img src=\"../../../../__pv_it/d3792d0d8642fdf1cd2a3a9b32c673ee13653de00/expr.png\" style=\"display:inline;vertical-align:middle;\" /></a> : <a class=\"ProveItLink\" href=\"../../../../__pv_it/2548a99d921e002e203801a4828f7377ced085bf0/expr.ipynb\"><img src=\"../../../../__pv_it/2548a99d921e002e203801a4828f7377ced085bf0/expr.png\" style=\"display:inline;vertical-align:middle;\" /></a></span></td></tr><tr><td><a name=\"proveit.logic.equality.6d351d221e0e5fd1cdfec982f6d68358b9d4c0da0_step1\">1</a></td><td>axiom</td><td></td><td><span style=\"font-size:20px;\"> <a class=\"ProveItLink\" href=\"../../../boolean/_axioms_.ipynb#eqTrueElim\" style=\"text-decoration: none\">&#x22A2;&nbsp;</a><a class=\"ProveItLink\" href=\"../db0e1d6b69dcb5bbba1c36b3545747f602b9a7b10/expr.ipynb\"><img src=\"../db0e1d6b69dcb5bbba1c36b3545747f602b9a7b10/expr.png\" style=\"display:inline;vertical-align:middle;\" /></a></span></td></tr>\n",
       "<tr><td>&nbsp;</td><td colspan=4 style-\"text-align:left\"><a class=\"ProveItLink\" href=\"../../../boolean/_axioms_.ipynb#eqTrueElim\">proveit.logic.boolean.eqTrueElim</a></td></tr><tr><td><a name=\"proveit.logic.equality.6d351d221e0e5fd1cdfec982f6d68358b9d4c0da0_step2\">2</a></td><td>instantiation</td><td><a href=\"#proveit.logic.equality.6d351d221e0e5fd1cdfec982f6d68358b9d4c0da0_step3\">3</a>, <a href=\"#proveit.logic.equality.6d351d221e0e5fd1cdfec982f6d68358b9d4c0da0_step4\">4</a>, <a href=\"#proveit.logic.equality.6d351d221e0e5fd1cdfec982f6d68358b9d4c0da0_step5\">5</a></td><td><span style=\"font-size:20px;\"><a class=\"ProveItLink\" href=\"../ba103ee1cdfdf8fce3b8e01372af7462332e5b2f0/expr.ipynb\"><img src=\"../ba103ee1cdfdf8fce3b8e01372af7462332e5b2f0/expr.png\" style=\"display:inline;vertical-align:middle;\" /></a> <a class=\"ProveItLink\" href=\"../0f157ab1c18718a8ea0b59c782eebc5bddc4bcc40/proof.ipynb\" style=\"text-decoration: none\">&#x22A2;&nbsp;</a><a class=\"ProveItLink\" href=\"../d3387b7528bd3fbbd9e72135573ad215cb22cce70/expr.ipynb\"><img src=\"../d3387b7528bd3fbbd9e72135573ad215cb22cce70/expr.png\" style=\"display:inline;vertical-align:middle;\" /></a></span></td></tr>\n",
       "<tr><td>&nbsp;</td><td colspan=4 style=\"text-align:left\"><span style=\"font-size:20px;\"><a class=\"ProveItLink\" href=\"../../../../__pv_it/72df168d2bfb4e0140af90912ebf83b13772060b0/expr.ipynb\"><img src=\"../../../../__pv_it/72df168d2bfb4e0140af90912ebf83b13772060b0/expr.png\" style=\"display:inline;vertical-align:middle;\" /></a> : <a class=\"ProveItLink\" href=\"../../../../__pv_it/2548a99d921e002e203801a4828f7377ced085bf0/expr.ipynb\"><img src=\"../../../../__pv_it/2548a99d921e002e203801a4828f7377ced085bf0/expr.png\" style=\"display:inline;vertical-align:middle;\" /></a>, <a class=\"ProveItLink\" href=\"../../../../__pv_it/c6e291955561f22a0e6708fd793ea93f1c7dbb5d0/expr.ipynb\"><img src=\"../../../../__pv_it/c6e291955561f22a0e6708fd793ea93f1c7dbb5d0/expr.png\" style=\"display:inline;vertical-align:middle;\" /></a> : <a class=\"ProveItLink\" href=\"../../../../__pv_it/48906551f53658ac26c160560a233587087698750/expr.ipynb\"><img src=\"../../../../__pv_it/48906551f53658ac26c160560a233587087698750/expr.png\" style=\"display:inline;vertical-align:middle;\" /></a>, <a class=\"ProveItLink\" href=\"../../../../__pv_it/0d889e00aed425c3081fbda3ac9194ae911895960/expr.ipynb\"><img src=\"../../../../__pv_it/0d889e00aed425c3081fbda3ac9194ae911895960/expr.png\" style=\"display:inline;vertical-align:middle;\" /></a> : <a class=\"ProveItLink\" href=\"../../../boolean/__pv_it/b5b8ce0f03ab68a7c7bb937dfeb4112a686e3cbb0/expr.ipynb\"><img src=\"../../../boolean/__pv_it/b5b8ce0f03ab68a7c7bb937dfeb4112a686e3cbb0/expr.png\" style=\"display:inline;vertical-align:middle;\" /></a></span></td></tr><tr><td><a name=\"proveit.logic.equality.6d351d221e0e5fd1cdfec982f6d68358b9d4c0da0_step3\">3</a></td><td>axiom</td><td></td><td><span style=\"font-size:20px;\"> <a class=\"ProveItLink\" href=\"../../_axioms_.ipynb#equalsTransitivity\" style=\"text-decoration: none\">&#x22A2;&nbsp;</a><a class=\"ProveItLink\" href=\"../62a78d8298863a1032c900aff4af282587b901b20/expr.ipynb\"><img src=\"../62a78d8298863a1032c900aff4af282587b901b20/expr.png\" style=\"display:inline;vertical-align:middle;\" /></a></span></td></tr>\n",
       "<tr><td>&nbsp;</td><td colspan=4 style-\"text-align:left\"><a class=\"ProveItLink\" href=\"../../_axioms_.ipynb#equalsTransitivity\">proveit.logic.equality.equalsTransitivity</a></td></tr><tr><td><a name=\"proveit.logic.equality.6d351d221e0e5fd1cdfec982f6d68358b9d4c0da0_step4\">4</a></td><td>instantiation</td><td><a href=\"#proveit.logic.equality.6d351d221e0e5fd1cdfec982f6d68358b9d4c0da0_step6\">6</a>, <a href=\"#proveit.logic.equality.6d351d221e0e5fd1cdfec982f6d68358b9d4c0da0_step7\">7</a></td><td><span style=\"font-size:20px;\"><a class=\"ProveItLink\" href=\"../bf812bed9f5c0f076712d78287e353918fea05f70/expr.ipynb\"><img src=\"../bf812bed9f5c0f076712d78287e353918fea05f70/expr.png\" style=\"display:inline;vertical-align:middle;\" /></a> <a class=\"ProveItLink\" href=\"../86624b9fc69e62362990445403349fcdb0d9a55e0/proof.ipynb\" style=\"text-decoration: none\">&#x22A2;&nbsp;</a><a class=\"ProveItLink\" href=\"../9ba0fd58beb82679092cc25171cf6922624598a50/expr.ipynb\"><img src=\"../9ba0fd58beb82679092cc25171cf6922624598a50/expr.png\" style=\"display:inline;vertical-align:middle;\" /></a></span></td></tr>\n",
       "<tr><td>&nbsp;</td><td colspan=4 style=\"text-align:left\"><span style=\"font-size:20px;\"><a class=\"ProveItLink\" href=\"../../../../__pv_it/d7bbb04e874e28c7cefb21d4eea40806ae52f1f70/expr.ipynb\"><img src=\"../../../../__pv_it/d7bbb04e874e28c7cefb21d4eea40806ae52f1f70/expr.png\" style=\"display:inline;vertical-align:middle;\" /></a> : <a class=\"ProveItLink\" href=\"../../../../__pv_it/390c91a44e60b16c95d2255652741252e8ec8d980/expr.ipynb\"><img src=\"../../../../__pv_it/390c91a44e60b16c95d2255652741252e8ec8d980/expr.png\" style=\"display:inline;vertical-align:middle;\" /></a>, <a class=\"ProveItLink\" href=\"../../../../__pv_it/72df168d2bfb4e0140af90912ebf83b13772060b0/expr.ipynb\"><img src=\"../../../../__pv_it/72df168d2bfb4e0140af90912ebf83b13772060b0/expr.png\" style=\"display:inline;vertical-align:middle;\" /></a> : <a class=\"ProveItLink\" href=\"../../../../__pv_it/72df168d2bfb4e0140af90912ebf83b13772060b0/expr.ipynb\"><img src=\"../../../../__pv_it/72df168d2bfb4e0140af90912ebf83b13772060b0/expr.png\" style=\"display:inline;vertical-align:middle;\" /></a>, <a class=\"ProveItLink\" href=\"../../../../__pv_it/c6e291955561f22a0e6708fd793ea93f1c7dbb5d0/expr.ipynb\"><img src=\"../../../../__pv_it/c6e291955561f22a0e6708fd793ea93f1c7dbb5d0/expr.png\" style=\"display:inline;vertical-align:middle;\" /></a> : <a class=\"ProveItLink\" href=\"../../../../__pv_it/c6e291955561f22a0e6708fd793ea93f1c7dbb5d0/expr.ipynb\"><img src=\"../../../../__pv_it/c6e291955561f22a0e6708fd793ea93f1c7dbb5d0/expr.png\" style=\"display:inline;vertical-align:middle;\" /></a></span></td></tr><tr><td><a name=\"proveit.logic.equality.6d351d221e0e5fd1cdfec982f6d68358b9d4c0da0_step5\">5</a></td><td>instantiation</td><td><a href=\"#proveit.logic.equality.6d351d221e0e5fd1cdfec982f6d68358b9d4c0da0_step8\">8</a>, <a href=\"#proveit.logic.equality.6d351d221e0e5fd1cdfec982f6d68358b9d4c0da0_step9\">9</a></td><td><span style=\"font-size:20px;\"><a class=\"ProveItLink\" href=\"../b1fd6d618e23239d19ebf2273712c9f3fab50f360/expr.ipynb\"><img src=\"../b1fd6d618e23239d19ebf2273712c9f3fab50f360/expr.png\" style=\"display:inline;vertical-align:middle;\" /></a> <a class=\"ProveItLink\" href=\"../59d658bc0b4a20c0baf3043096ebbba521716c140/proof.ipynb\" style=\"text-decoration: none\">&#x22A2;&nbsp;</a><a class=\"ProveItLink\" href=\"../1811daed521ae01fb9eaf98fc5af147bf291a5600/expr.ipynb\"><img src=\"../1811daed521ae01fb9eaf98fc5af147bf291a5600/expr.png\" style=\"display:inline;vertical-align:middle;\" /></a></span></td></tr>\n",
       "<tr><td>&nbsp;</td><td colspan=4 style=\"text-align:left\"><span style=\"font-size:20px;\"><a class=\"ProveItLink\" href=\"../../../../__pv_it/d3792d0d8642fdf1cd2a3a9b32c673ee13653de00/expr.ipynb\"><img src=\"../../../../__pv_it/d3792d0d8642fdf1cd2a3a9b32c673ee13653de00/expr.png\" style=\"display:inline;vertical-align:middle;\" /></a> : <a class=\"ProveItLink\" href=\"../../../../__pv_it/48906551f53658ac26c160560a233587087698750/expr.ipynb\"><img src=\"../../../../__pv_it/48906551f53658ac26c160560a233587087698750/expr.png\" style=\"display:inline;vertical-align:middle;\" /></a></span></td></tr><tr><td><a name=\"proveit.logic.equality.6d351d221e0e5fd1cdfec982f6d68358b9d4c0da0_step6\">6</a></td><td>axiom</td><td></td><td><span style=\"font-size:20px;\"> <a class=\"ProveItLink\" href=\"../../_axioms_.ipynb#substitution\" style=\"text-decoration: none\">&#x22A2;&nbsp;</a><a class=\"ProveItLink\" href=\"../227f37bc1ee52abe3a92ac5130dc32c91fd40c720/expr.ipynb\"><img src=\"../227f37bc1ee52abe3a92ac5130dc32c91fd40c720/expr.png\" style=\"display:inline;vertical-align:middle;\" /></a></span></td></tr>\n",
       "<tr><td>&nbsp;</td><td colspan=4 style-\"text-align:left\"><a class=\"ProveItLink\" href=\"../../_axioms_.ipynb#substitution\">proveit.logic.equality.substitution</a></td></tr><tr><td><a name=\"proveit.logic.equality.6d351d221e0e5fd1cdfec982f6d68358b9d4c0da0_step7\">7</a></td><td>assumption</td><td></td><td><span style=\"font-size:20px;\"><a class=\"ProveItLink\" href=\"../bf812bed9f5c0f076712d78287e353918fea05f70/expr.ipynb\"><img src=\"../bf812bed9f5c0f076712d78287e353918fea05f70/expr.png\" style=\"display:inline;vertical-align:middle;\" /></a> <a class=\"ProveItLink\" href=\"../1813602f1291cd61665b7c667e7533b0fa20c2070/proof.ipynb\" style=\"text-decoration: none\">&#x22A2;&nbsp;</a><a class=\"ProveItLink\" href=\"../15cf67b262ea41fe1f9014b9b0288f54a11851120/expr.ipynb\"><img src=\"../15cf67b262ea41fe1f9014b9b0288f54a11851120/expr.png\" style=\"display:inline;vertical-align:middle;\" /></a></span></td></tr>\n",
       "<tr><td><a name=\"proveit.logic.equality.6d351d221e0e5fd1cdfec982f6d68358b9d4c0da0_step8\">8</a></td><td>axiom</td><td></td><td><span style=\"font-size:20px;\"> <a class=\"ProveItLink\" href=\"../../../boolean/_axioms_.ipynb#eqTrueIntro\" style=\"text-decoration: none\">&#x22A2;&nbsp;</a><a class=\"ProveItLink\" href=\"../887e64e67deedd5bd54b0c6fa4a52e1f57719c000/expr.ipynb\"><img src=\"../887e64e67deedd5bd54b0c6fa4a52e1f57719c000/expr.png\" style=\"display:inline;vertical-align:middle;\" /></a></span></td></tr>\n",
       "<tr><td>&nbsp;</td><td colspan=4 style-\"text-align:left\"><a class=\"ProveItLink\" href=\"../../../boolean/_axioms_.ipynb#eqTrueIntro\">proveit.logic.boolean.eqTrueIntro</a></td></tr><tr><td><a name=\"proveit.logic.equality.6d351d221e0e5fd1cdfec982f6d68358b9d4c0da0_step9\">9</a></td><td>assumption</td><td></td><td><span style=\"font-size:20px;\"><a class=\"ProveItLink\" href=\"../b1fd6d618e23239d19ebf2273712c9f3fab50f360/expr.ipynb\"><img src=\"../b1fd6d618e23239d19ebf2273712c9f3fab50f360/expr.png\" style=\"display:inline;vertical-align:middle;\" /></a> <a class=\"ProveItLink\" href=\"../916d5fec38f8d8632140944909c1c7c5b17e49e90/proof.ipynb\" style=\"text-decoration: none\">&#x22A2;&nbsp;</a><a class=\"ProveItLink\" href=\"../../../../__pv_it/48906551f53658ac26c160560a233587087698750/expr.ipynb\"><img src=\"../../../../__pv_it/48906551f53658ac26c160560a233587087698750/expr.png\" style=\"display:inline;vertical-align:middle;\" /></a></span></td></tr>\n",
       "</table>"
      ],
      "text/plain": [
       "<proveit._core_.proof._ShowProof at 0x7f5b8d2e7fd0>"
      ]
     },
     "execution_count": 1,
     "metadata": {},
     "output_type": "execute_result"
    }
   ],
   "source": [
    "import proveit\n",
    "# Automation is not needed when only showing a stored proof:\n",
    "proveit.defaults.automation = False # This will speed things up.\n",
    "proveit.defaults.inline_pngs = False # Makes files smaller.\n",
    "%show_proof"
   ]
  },
  {
   "cell_type": "code",
   "execution_count": null,
   "metadata": {},
   "outputs": [],
   "source": []
  }
 ],
 "metadata": {
  "kernelspec": {
   "display_name": "Python 3",
   "language": "python",
   "name": "python3"
  },
  "language_info": {
   "codemirror_mode": {
    "name": "ipython",
    "version": 3
   },
   "file_extension": ".py",
   "mimetype": "text/x-python",
   "name": "python",
   "nbconvert_exporter": "python",
   "pygments_lexer": "ipython3",
   "version": "3.7.3"
  }
 },
 "nbformat": 4,
 "nbformat_minor": 1
}
