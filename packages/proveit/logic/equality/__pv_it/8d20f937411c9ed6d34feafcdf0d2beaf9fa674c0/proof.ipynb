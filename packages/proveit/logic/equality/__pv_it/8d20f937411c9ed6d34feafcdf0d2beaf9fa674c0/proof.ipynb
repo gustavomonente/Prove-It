{
 "cells": [
  {
   "cell_type": "markdown",
   "metadata": {},
   "source": [
    "Show the Proof\n",
    "========"
   ]
  },
  {
   "cell_type": "code",
   "execution_count": 1,
   "metadata": {},
   "outputs": [
    {
     "data": {
      "text/html": [
       "<table><tr><th>&nbsp;</th><th>step type</th><th>requirements</th><th>statement</th></tr>\n",
       "<tr><td><a name=\"proveit.logic.equality.8d20f937411c9ed6d34feafcdf0d2beaf9fa674c0_step0\">0</a></td><td>instantiation</td><td><a href=\"#proveit.logic.equality.8d20f937411c9ed6d34feafcdf0d2beaf9fa674c0_step1\">1</a>, <a href=\"#proveit.logic.equality.8d20f937411c9ed6d34feafcdf0d2beaf9fa674c0_step2\">2</a>, <a href=\"#proveit.logic.equality.8d20f937411c9ed6d34feafcdf0d2beaf9fa674c0_step3\">3</a></td><td><span style=\"font-size:20px;\"><a class=\"ProveItLink\" href=\"../3f6f4cc88008e35b2f2c65db5e3cd63219dae6340/expr.ipynb\"><img src=\"../3f6f4cc88008e35b2f2c65db5e3cd63219dae6340/expr.png\" style=\"display:inline;vertical-align:middle;\" /></a> <a class=\"ProveItLink\" href=\"proof.ipynb\" style=\"text-decoration: none\">&#x22A2;&nbsp;</a><a class=\"ProveItLink\" href=\"../b29ef15c9747596934c0a7e6d875a93b30d9ba640/expr.ipynb\"><img src=\"../b29ef15c9747596934c0a7e6d875a93b30d9ba640/expr.png\" style=\"display:inline;vertical-align:middle;\" /></a></span></td></tr>\n",
       "<tr><td>&nbsp;</td><td colspan=4 style=\"text-align:left\"><span style=\"font-size:20px;\"><a class=\"ProveItLink\" href=\"../../../../__pv_it/390c91a44e60b16c95d2255652741252e8ec8d980/expr.ipynb\"><img src=\"../../../../__pv_it/390c91a44e60b16c95d2255652741252e8ec8d980/expr.png\" style=\"display:inline;vertical-align:middle;\" /></a> : <a class=\"ProveItLink\" href=\"../60e397f5e8e9a9f7e36b3c8810b6c58840c880920/expr.ipynb\"><img src=\"../60e397f5e8e9a9f7e36b3c8810b6c58840c880920/expr.png\" style=\"display:inline;vertical-align:middle;\" /></a>, <a class=\"ProveItLink\" href=\"../../../../__pv_it/dbe7145e53d9411a5ba89652cbfea9d54e4b581a0/expr.ipynb\"><img src=\"../../../../__pv_it/dbe7145e53d9411a5ba89652cbfea9d54e4b581a0/expr.png\" style=\"display:inline;vertical-align:middle;\" /></a> : <a class=\"ProveItLink\" href=\"../b29ef15c9747596934c0a7e6d875a93b30d9ba640/expr.ipynb\"><img src=\"../b29ef15c9747596934c0a7e6d875a93b30d9ba640/expr.png\" style=\"display:inline;vertical-align:middle;\" /></a></span></td></tr><tr><td><a name=\"proveit.logic.equality.8d20f937411c9ed6d34feafcdf0d2beaf9fa674c0_step1\">1</a></td><td>theorem</td><td></td><td><span style=\"font-size:20px;\"> <a class=\"ProveItLink\" href=\"../../_proofs_/rhsViaEquivalence.ipynb\" style=\"text-decoration: none\">&#x22A2;&nbsp;</a><a class=\"ProveItLink\" href=\"../ea3f0886e0e7f5db38be02c25ae4d3c5049183de0/expr.ipynb\"><img src=\"../ea3f0886e0e7f5db38be02c25ae4d3c5049183de0/expr.png\" style=\"display:inline;vertical-align:middle;\" /></a></span></td></tr>\n",
       "<tr><td>&nbsp;</td><td colspan=4 style-\"text-align:left\"><a class=\"ProveItLink\" href=\"../../_proofs_/rhsViaEquivalence.ipynb\">proveit.logic.equality.rhsViaEquivalence</a></td></tr><tr><td><a name=\"proveit.logic.equality.8d20f937411c9ed6d34feafcdf0d2beaf9fa674c0_step2\">2</a></td><td>assumption</td><td></td><td><span style=\"font-size:20px;\"><a class=\"ProveItLink\" href=\"../3f6f4cc88008e35b2f2c65db5e3cd63219dae6340/expr.ipynb\"><img src=\"../3f6f4cc88008e35b2f2c65db5e3cd63219dae6340/expr.png\" style=\"display:inline;vertical-align:middle;\" /></a> <a class=\"ProveItLink\" href=\"../d48078a4f9590814687590b66182dc80f25aba5d0/proof.ipynb\" style=\"text-decoration: none\">&#x22A2;&nbsp;</a><a class=\"ProveItLink\" href=\"../60e397f5e8e9a9f7e36b3c8810b6c58840c880920/expr.ipynb\"><img src=\"../60e397f5e8e9a9f7e36b3c8810b6c58840c880920/expr.png\" style=\"display:inline;vertical-align:middle;\" /></a></span></td></tr>\n",
       "<tr><td><a name=\"proveit.logic.equality.8d20f937411c9ed6d34feafcdf0d2beaf9fa674c0_step3\">3</a></td><td>instantiation</td><td><a href=\"#proveit.logic.equality.8d20f937411c9ed6d34feafcdf0d2beaf9fa674c0_step4\">4</a></td><td><span style=\"font-size:20px;\"> <a class=\"ProveItLink\" href=\"../674c1cee9c73dbe4989843fec06c061009c9aace0/proof.ipynb\" style=\"text-decoration: none\">&#x22A2;&nbsp;</a><a class=\"ProveItLink\" href=\"../80de7cb569aa56ba87f6fe9fb6531c4ecf601ea10/expr.ipynb\"><img src=\"../80de7cb569aa56ba87f6fe9fb6531c4ecf601ea10/expr.png\" style=\"display:inline;vertical-align:middle;\" /></a></span></td></tr>\n",
       "<tr><td>&nbsp;</td><td colspan=4 style=\"text-align:left\"><span style=\"font-size:20px;\"><a class=\"ProveItLink\" href=\"../../../../__pv_it/72df168d2bfb4e0140af90912ebf83b13772060b0/expr.ipynb\"><img src=\"../../../../__pv_it/72df168d2bfb4e0140af90912ebf83b13772060b0/expr.png\" style=\"display:inline;vertical-align:middle;\" /></a> : <a class=\"ProveItLink\" href=\"../../../../__pv_it/72df168d2bfb4e0140af90912ebf83b13772060b0/expr.ipynb\"><img src=\"../../../../__pv_it/72df168d2bfb4e0140af90912ebf83b13772060b0/expr.png\" style=\"display:inline;vertical-align:middle;\" /></a>, <a class=\"ProveItLink\" href=\"../../../../__pv_it/c6e291955561f22a0e6708fd793ea93f1c7dbb5d0/expr.ipynb\"><img src=\"../../../../__pv_it/c6e291955561f22a0e6708fd793ea93f1c7dbb5d0/expr.png\" style=\"display:inline;vertical-align:middle;\" /></a> : <a class=\"ProveItLink\" href=\"../../../../__pv_it/c6e291955561f22a0e6708fd793ea93f1c7dbb5d0/expr.ipynb\"><img src=\"../../../../__pv_it/c6e291955561f22a0e6708fd793ea93f1c7dbb5d0/expr.png\" style=\"display:inline;vertical-align:middle;\" /></a></span></td></tr><tr><td><a name=\"proveit.logic.equality.8d20f937411c9ed6d34feafcdf0d2beaf9fa674c0_step4\">4</a></td><td>axiom</td><td></td><td><span style=\"font-size:20px;\"> <a class=\"ProveItLink\" href=\"../../_axioms_.ipynb#notEqualsDef\" style=\"text-decoration: none\">&#x22A2;&nbsp;</a><a class=\"ProveItLink\" href=\"../8dd1dbd692be5f2a0e8c5092f6a2e011859dc8f60/expr.ipynb\"><img src=\"../8dd1dbd692be5f2a0e8c5092f6a2e011859dc8f60/expr.png\" style=\"display:inline;vertical-align:middle;\" /></a></span></td></tr>\n",
       "<tr><td>&nbsp;</td><td colspan=4 style-\"text-align:left\"><a class=\"ProveItLink\" href=\"../../_axioms_.ipynb#notEqualsDef\">proveit.logic.equality.notEqualsDef</a></td></tr></table>"
      ],
      "text/plain": [
       "<proveit._core_.proof._ShowProof at 0x7f5b9944d048>"
      ]
     },
     "execution_count": 1,
     "metadata": {},
     "output_type": "execute_result"
    }
   ],
   "source": [
    "import proveit\n",
    "# Automation is not needed when only showing a stored proof:\n",
    "proveit.defaults.automation = False # This will speed things up.\n",
    "proveit.defaults.inline_pngs = False # Makes files smaller.\n",
    "%show_proof"
   ]
  },
  {
   "cell_type": "code",
   "execution_count": null,
   "metadata": {},
   "outputs": [],
   "source": []
  }
 ],
 "metadata": {
  "kernelspec": {
   "display_name": "Python 3",
   "language": "python",
   "name": "python3"
  },
  "language_info": {
   "codemirror_mode": {
    "name": "ipython",
    "version": 3
   },
   "file_extension": ".py",
   "mimetype": "text/x-python",
   "name": "python",
   "nbconvert_exporter": "python",
   "pygments_lexer": "ipython3",
   "version": "3.7.3"
  }
 },
 "nbformat": 4,
 "nbformat_minor": 1
}
