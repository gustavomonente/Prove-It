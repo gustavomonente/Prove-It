{
 "cells": [
  {
   "cell_type": "markdown",
   "metadata": {},
   "source": [
    "Theorem Dependencies\n",
    "=======================\n",
    "\n",
    "## <a class=\"ProveItLink\" href=\"../../_context_.ipynb\">proveit.logic.equality</a>.<a class=\"ProveItLink\" href=\"../../_theorems_.ipynb#rhsViaEquivalence\">rhsViaEquivalence</a> \n",
    "***see <a class=\"ProveItLink\" href=\"../../_proofs_/rhsViaEquivalence.ipynb\">proof</a>***"
   ]
  },
  {
   "cell_type": "code",
   "execution_count": 1,
   "metadata": {},
   "outputs": [],
   "source": [
    "import proveit\n",
    "# Automation is not needed when querying dependencies:\n",
    "proveit.defaults.automation = False # This will speed things up.\n",
    "proveit.defaults.inline_pngs = False # Makes files smaller.\n",
    "from proveit.logic.equality._theorems_ import rhsViaEquivalence"
   ]
  },
  {
   "cell_type": "code",
   "execution_count": 2,
   "metadata": {},
   "outputs": [
    {
     "data": {
      "text/html": [
       "<h3>Axioms required (directly or indirectly) to prove rhsViaEquivalence</h3>"
      ],
      "text/plain": [
       "<IPython.core.display.HTML object>"
      ]
     },
     "metadata": {},
     "output_type": "display_data"
    },
    {
     "data": {
      "text/html": [
       "<dl>"
      ],
      "text/plain": [
       "<IPython.core.display.HTML object>"
      ]
     },
     "metadata": {},
     "output_type": "display_data"
    },
    {
     "data": {
      "text/html": [
       "<dt><a class=\"ProveItLink\" href=\"../../../boolean/_axioms_.ipynb#eqTrueElim\">proveit.logic.boolean.eqTrueElim</a></dt><dd><a class=\"ProveItLink\" href=\"../../../boolean/__pv_it/6ff60b895e13190b9801f0a9e710e21dbccdfd7f0/expr.ipynb\"><img src=\"../../../boolean/__pv_it/6ff60b895e13190b9801f0a9e710e21dbccdfd7f0/expr.png\" style=\"display:inline;vertical-align:middle;\" /></a></dd>"
      ],
      "text/plain": [
       "<IPython.core.display.HTML object>"
      ]
     },
     "metadata": {},
     "output_type": "display_data"
    },
    {
     "data": {
      "text/html": [
       "<dt><a class=\"ProveItLink\" href=\"../../../boolean/_axioms_.ipynb#eqTrueIntro\">proveit.logic.boolean.eqTrueIntro</a></dt><dd><a class=\"ProveItLink\" href=\"../../../boolean/__pv_it/7bce5e3cff7f8036cee68d8befe33a38fe32f5c10/expr.ipynb\"><img src=\"../../../boolean/__pv_it/7bce5e3cff7f8036cee68d8befe33a38fe32f5c10/expr.png\" style=\"display:inline;vertical-align:middle;\" /></a></dd>"
      ],
      "text/plain": [
       "<IPython.core.display.HTML object>"
      ]
     },
     "metadata": {},
     "output_type": "display_data"
    },
    {
     "data": {
      "text/html": [
       "<dt><a class=\"ProveItLink\" href=\"../../_axioms_.ipynb#equalsSymmetry\">proveit.logic.equality.equalsSymmetry</a></dt><dd><a class=\"ProveItLink\" href=\"../31cdd49381a5bc0613437bed3e59e09327e2e73f0/expr.ipynb\"><img src=\"../31cdd49381a5bc0613437bed3e59e09327e2e73f0/expr.png\" style=\"display:inline;vertical-align:middle;\" /></a></dd>"
      ],
      "text/plain": [
       "<IPython.core.display.HTML object>"
      ]
     },
     "metadata": {},
     "output_type": "display_data"
    },
    {
     "data": {
      "text/html": [
       "<dt><a class=\"ProveItLink\" href=\"../../_axioms_.ipynb#equalsTransitivity\">proveit.logic.equality.equalsTransitivity</a></dt><dd><a class=\"ProveItLink\" href=\"../62a78d8298863a1032c900aff4af282587b901b20/expr.ipynb\"><img src=\"../62a78d8298863a1032c900aff4af282587b901b20/expr.png\" style=\"display:inline;vertical-align:middle;\" /></a></dd>"
      ],
      "text/plain": [
       "<IPython.core.display.HTML object>"
      ]
     },
     "metadata": {},
     "output_type": "display_data"
    },
    {
     "data": {
      "text/html": [
       "<dt><a class=\"ProveItLink\" href=\"../../_axioms_.ipynb#substitution\">proveit.logic.equality.substitution</a></dt><dd><a class=\"ProveItLink\" href=\"../227f37bc1ee52abe3a92ac5130dc32c91fd40c720/expr.ipynb\"><img src=\"../227f37bc1ee52abe3a92ac5130dc32c91fd40c720/expr.png\" style=\"display:inline;vertical-align:middle;\" /></a></dd>"
      ],
      "text/plain": [
       "<IPython.core.display.HTML object>"
      ]
     },
     "metadata": {},
     "output_type": "display_data"
    },
    {
     "data": {
      "text/html": [
       "</dl>"
      ],
      "text/plain": [
       "<IPython.core.display.HTML object>"
      ]
     },
     "metadata": {},
     "output_type": "display_data"
    },
    {
     "data": {
      "text/html": [
       "<h3>Theorems that depend directly on rhsViaEquivalence</h3>"
      ],
      "text/plain": [
       "<IPython.core.display.HTML object>"
      ]
     },
     "metadata": {},
     "output_type": "display_data"
    },
    {
     "data": {
      "text/html": [
       "<dl>"
      ],
      "text/plain": [
       "<IPython.core.display.HTML object>"
      ]
     },
     "metadata": {},
     "output_type": "display_data"
    },
    {
     "data": {
      "text/html": [
       "<dt><a class=\"ProveItLink\" href=\"../../../boolean/implication/_proofs_/affirmViaContradiction.ipynb\">proveit.logic.boolean.implication.affirmViaContradiction</a></dt><dd><a class=\"ProveItLink\" href=\"../../../boolean/implication/__pv_it/5665d4aae4cfdc48c82eb0428082c24badfa76ab0/expr.ipynb\"><img src=\"../../../boolean/implication/__pv_it/5665d4aae4cfdc48c82eb0428082c24badfa76ab0/expr.png\" style=\"display:inline;vertical-align:middle;\" /></a></dd>"
      ],
      "text/plain": [
       "<IPython.core.display.HTML object>"
      ]
     },
     "metadata": {},
     "output_type": "display_data"
    },
    {
     "data": {
      "text/html": [
       "<dt><a class=\"ProveItLink\" href=\"../../../boolean/implication/_proofs_/iffImpliesLeft.ipynb\">proveit.logic.boolean.implication.iffImpliesLeft</a></dt><dd><a class=\"ProveItLink\" href=\"../../../boolean/implication/__pv_it/81d0be00c6bed87e04a47496d253ccb34db87b310/expr.ipynb\"><img src=\"../../../boolean/implication/__pv_it/81d0be00c6bed87e04a47496d253ccb34db87b310/expr.png\" style=\"display:inline;vertical-align:middle;\" /></a></dd>"
      ],
      "text/plain": [
       "<IPython.core.display.HTML object>"
      ]
     },
     "metadata": {},
     "output_type": "display_data"
    },
    {
     "data": {
      "text/html": [
       "<dt><a class=\"ProveItLink\" href=\"../../../boolean/implication/_proofs_/iffImpliesRight.ipynb\">proveit.logic.boolean.implication.iffImpliesRight</a></dt><dd><a class=\"ProveItLink\" href=\"../../../boolean/implication/__pv_it/dfe86cf82d78281ed1e8b684f16e8a2847c2ccaf0/expr.ipynb\"><img src=\"../../../boolean/implication/__pv_it/dfe86cf82d78281ed1e8b684f16e8a2847c2ccaf0/expr.png\" style=\"display:inline;vertical-align:middle;\" /></a></dd>"
      ],
      "text/plain": [
       "<IPython.core.display.HTML object>"
      ]
     },
     "metadata": {},
     "output_type": "display_data"
    },
    {
     "data": {
      "text/html": [
       "<dt><a class=\"ProveItLink\" href=\"../../../boolean/negation/_proofs_/negationContradiction.ipynb\">proveit.logic.boolean.negation.negationContradiction</a></dt><dd><a class=\"ProveItLink\" href=\"../../../boolean/negation/__pv_it/d62721657704343d1012b5bf209a04c4abd01d450/expr.ipynb\"><img src=\"../../../boolean/negation/__pv_it/d62721657704343d1012b5bf209a04c4abd01d450/expr.png\" style=\"display:inline;vertical-align:middle;\" /></a></dd>"
      ],
      "text/plain": [
       "<IPython.core.display.HTML object>"
      ]
     },
     "metadata": {},
     "output_type": "display_data"
    },
    {
     "data": {
      "text/html": [
       "<dt><a class=\"ProveItLink\" href=\"../../../boolean/negation/_proofs_/notTimpliesF.ipynb\">proveit.logic.boolean.negation.notTimpliesF</a></dt><dd><a class=\"ProveItLink\" href=\"../../../boolean/negation/__pv_it/c4322cc6f7b83c7017d0a0400bc60365868d684b0/expr.ipynb\"><img src=\"../../../boolean/negation/__pv_it/c4322cc6f7b83c7017d0a0400bc60365868d684b0/expr.png\" style=\"display:inline;vertical-align:middle;\" /></a></dd>"
      ],
      "text/plain": [
       "<IPython.core.display.HTML object>"
      ]
     },
     "metadata": {},
     "output_type": "display_data"
    },
    {
     "data": {
      "text/html": [
       "<dt><a class=\"ProveItLink\" href=\"../../_proofs_/sub_in_right_operands.ipynb\">proveit.logic.equality.sub_in_right_operands</a></dt><dd><a class=\"ProveItLink\" href=\"../27cb4826e9e2f6162e3c1d20708c54631f5f79970/expr.ipynb\"><img src=\"../27cb4826e9e2f6162e3c1d20708c54631f5f79970/expr.png\" style=\"display:inline;vertical-align:middle;\" /></a></dd>"
      ],
      "text/plain": [
       "<IPython.core.display.HTML object>"
      ]
     },
     "metadata": {},
     "output_type": "display_data"
    },
    {
     "data": {
      "text/html": [
       "<dt><a class=\"ProveItLink\" href=\"../../_proofs_/unfoldNotEquals.ipynb\">proveit.logic.equality.unfoldNotEquals</a></dt><dd><a class=\"ProveItLink\" href=\"../d8b3875553e1ba5a00e3208ff67f573c457304db0/expr.ipynb\"><img src=\"../d8b3875553e1ba5a00e3208ff67f573c457304db0/expr.png\" style=\"display:inline;vertical-align:middle;\" /></a></dd>"
      ],
      "text/plain": [
       "<IPython.core.display.HTML object>"
      ]
     },
     "metadata": {},
     "output_type": "display_data"
    },
    {
     "data": {
      "text/html": [
       "<dt><a class=\"ProveItLink\" href=\"../../../set_theory/membership/_proofs_/unfoldNotInSet.ipynb\">proveit.logic.set_theory.membership.unfoldNotInSet</a></dt><dd><a class=\"ProveItLink\" href=\"../../../set_theory/membership/__pv_it/3b819d73e85d112487c00d1c1b7b2d7230c66fd40/expr.ipynb\"><img src=\"../../../set_theory/membership/__pv_it/3b819d73e85d112487c00d1c1b7b2d7230c66fd40/expr.png\" style=\"display:inline;vertical-align:middle;\" /></a></dd>"
      ],
      "text/plain": [
       "<IPython.core.display.HTML object>"
      ]
     },
     "metadata": {},
     "output_type": "display_data"
    },
    {
     "data": {
      "text/html": [
       "<dt><a class=\"ProveItLink\" href=\"../../../../number/ordering/_proofs_/reverseGreater.ipynb\">proveit.number.ordering.reverseGreater</a></dt><dd><a class=\"ProveItLink\" href=\"../../../../number/ordering/__pv_it/63c3cb8968d641c68321455abaab8bad76f396b70/expr.ipynb\"><img src=\"../../../../number/ordering/__pv_it/63c3cb8968d641c68321455abaab8bad76f396b70/expr.png\" style=\"display:inline;vertical-align:middle;\" /></a></dd>"
      ],
      "text/plain": [
       "<IPython.core.display.HTML object>"
      ]
     },
     "metadata": {},
     "output_type": "display_data"
    },
    {
     "data": {
      "text/html": [
       "<dt><a class=\"ProveItLink\" href=\"../../../../number/ordering/_proofs_/reverseGreaterEq.ipynb\">proveit.number.ordering.reverseGreaterEq</a></dt><dd><a class=\"ProveItLink\" href=\"../../../../number/ordering/__pv_it/e04a17858815b344c8197e331abc7c9a90444b630/expr.ipynb\"><img src=\"../../../../number/ordering/__pv_it/e04a17858815b344c8197e331abc7c9a90444b630/expr.png\" style=\"display:inline;vertical-align:middle;\" /></a></dd>"
      ],
      "text/plain": [
       "<IPython.core.display.HTML object>"
      ]
     },
     "metadata": {},
     "output_type": "display_data"
    },
    {
     "data": {
      "text/html": [
       "<dt><a class=\"ProveItLink\" href=\"../../../../number/ordering/_proofs_/reverseLessEq.ipynb\">proveit.number.ordering.reverseLessEq</a></dt><dd><a class=\"ProveItLink\" href=\"../../../../number/ordering/__pv_it/04aa4aae60dc6682dc8bd0f89c98bdd11642be470/expr.ipynb\"><img src=\"../../../../number/ordering/__pv_it/04aa4aae60dc6682dc8bd0f89c98bdd11642be470/expr.png\" style=\"display:inline;vertical-align:middle;\" /></a></dd>"
      ],
      "text/plain": [
       "<IPython.core.display.HTML object>"
      ]
     },
     "metadata": {},
     "output_type": "display_data"
    },
    {
     "data": {
      "text/html": [
       "<dt><a class=\"ProveItLink\" href=\"../../../../number/ordering/_proofs_/transitivityGreaterEqGreater.ipynb\">proveit.number.ordering.transitivityGreaterEqGreater</a></dt><dd><a class=\"ProveItLink\" href=\"../../../../number/ordering/__pv_it/e5521b171a8e9a7706737eef43f65a6528875a780/expr.ipynb\"><img src=\"../../../../number/ordering/__pv_it/e5521b171a8e9a7706737eef43f65a6528875a780/expr.png\" style=\"display:inline;vertical-align:middle;\" /></a></dd>"
      ],
      "text/plain": [
       "<IPython.core.display.HTML object>"
      ]
     },
     "metadata": {},
     "output_type": "display_data"
    },
    {
     "data": {
      "text/html": [
       "<dt><a class=\"ProveItLink\" href=\"../../../../number/ordering/_proofs_/transitivityGreaterEqGreaterEq.ipynb\">proveit.number.ordering.transitivityGreaterEqGreaterEq</a></dt><dd><a class=\"ProveItLink\" href=\"../../../../number/ordering/__pv_it/1092c6c36a3c8860303df28cf27766ca544b896b0/expr.ipynb\"><img src=\"../../../../number/ordering/__pv_it/1092c6c36a3c8860303df28cf27766ca544b896b0/expr.png\" style=\"display:inline;vertical-align:middle;\" /></a></dd>"
      ],
      "text/plain": [
       "<IPython.core.display.HTML object>"
      ]
     },
     "metadata": {},
     "output_type": "display_data"
    },
    {
     "data": {
      "text/html": [
       "<dt><a class=\"ProveItLink\" href=\"../../../../number/ordering/_proofs_/transitivityGreaterGreaterEq.ipynb\">proveit.number.ordering.transitivityGreaterGreaterEq</a></dt><dd><a class=\"ProveItLink\" href=\"../../../../number/ordering/__pv_it/af2c29a6ea099eeaec32cfbaabedc932944a63f90/expr.ipynb\"><img src=\"../../../../number/ordering/__pv_it/af2c29a6ea099eeaec32cfbaabedc932944a63f90/expr.png\" style=\"display:inline;vertical-align:middle;\" /></a></dd>"
      ],
      "text/plain": [
       "<IPython.core.display.HTML object>"
      ]
     },
     "metadata": {},
     "output_type": "display_data"
    },
    {
     "data": {
      "text/html": [
       "<dt><a class=\"ProveItLink\" href=\"../../../../number/ordering/_proofs_/transitivityLessEqLess.ipynb\">proveit.number.ordering.transitivityLessEqLess</a></dt><dd><a class=\"ProveItLink\" href=\"../../../../number/ordering/__pv_it/008ed3ba3fcbf9592e779e478e15b825af1c426c0/expr.ipynb\"><img src=\"../../../../number/ordering/__pv_it/008ed3ba3fcbf9592e779e478e15b825af1c426c0/expr.png\" style=\"display:inline;vertical-align:middle;\" /></a></dd>"
      ],
      "text/plain": [
       "<IPython.core.display.HTML object>"
      ]
     },
     "metadata": {},
     "output_type": "display_data"
    },
    {
     "data": {
      "text/html": [
       "<dt><a class=\"ProveItLink\" href=\"../../../../number/ordering/_proofs_/transitivityLessEqLessEq.ipynb\">proveit.number.ordering.transitivityLessEqLessEq</a></dt><dd><a class=\"ProveItLink\" href=\"../../../../number/ordering/__pv_it/ee2737016428dc24f2636d15b7c50eec71c5796e0/expr.ipynb\"><img src=\"../../../../number/ordering/__pv_it/ee2737016428dc24f2636d15b7c50eec71c5796e0/expr.png\" style=\"display:inline;vertical-align:middle;\" /></a></dd>"
      ],
      "text/plain": [
       "<IPython.core.display.HTML object>"
      ]
     },
     "metadata": {},
     "output_type": "display_data"
    },
    {
     "data": {
      "text/html": [
       "<dt><a class=\"ProveItLink\" href=\"../../../../number/ordering/_proofs_/transitivityLessLessEq.ipynb\">proveit.number.ordering.transitivityLessLessEq</a></dt><dd><a class=\"ProveItLink\" href=\"../../../../number/ordering/__pv_it/b203f67ed4dfec6132a2387dce86c0f246fd5f4c0/expr.ipynb\"><img src=\"../../../../number/ordering/__pv_it/b203f67ed4dfec6132a2387dce86c0f246fd5f4c0/expr.png\" style=\"display:inline;vertical-align:middle;\" /></a></dd>"
      ],
      "text/plain": [
       "<IPython.core.display.HTML object>"
      ]
     },
     "metadata": {},
     "output_type": "display_data"
    },
    {
     "data": {
      "text/html": [
       "<dt><a class=\"ProveItLink\" href=\"../../../../number/sets/integer/_proofs_/inductionLemma.ipynb\">proveit.number.sets.integer.inductionLemma</a></dt><dd><a class=\"ProveItLink\" href=\"../../../../number/sets/integer/__pv_it/e25abc3ecdcbbe98f7c6c90fc4921980c28e2c870/expr.ipynb\"><img src=\"../../../../number/sets/integer/__pv_it/e25abc3ecdcbbe98f7c6c90fc4921980c28e2c870/expr.png\" style=\"display:inline;vertical-align:middle;\" /></a></dd>"
      ],
      "text/plain": [
       "<IPython.core.display.HTML object>"
      ]
     },
     "metadata": {},
     "output_type": "display_data"
    },
    {
     "data": {
      "text/html": [
       "<dt><a class=\"ProveItLink\" href=\"../../../../number/sets/integer/_proofs_/successiveNats.ipynb\">proveit.number.sets.integer.successiveNats</a></dt><dd><a class=\"ProveItLink\" href=\"../../../../number/sets/integer/__pv_it/2cfad9111ab4685a99c6ef3bbf2e023c0bbe32030/expr.ipynb\"><img src=\"../../../../number/sets/integer/__pv_it/2cfad9111ab4685a99c6ef3bbf2e023c0bbe32030/expr.png\" style=\"display:inline;vertical-align:middle;\" /></a></dd>"
      ],
      "text/plain": [
       "<IPython.core.display.HTML object>"
      ]
     },
     "metadata": {},
     "output_type": "display_data"
    },
    {
     "data": {
      "text/html": [
       "</dl>"
      ],
      "text/plain": [
       "<IPython.core.display.HTML object>"
      ]
     },
     "metadata": {},
     "output_type": "display_data"
    }
   ],
   "source": [
    "%dependencies rhsViaEquivalence"
   ]
  }
 ],
 "metadata": {
  "kernelspec": {
   "display_name": "Python 3",
   "language": "python",
   "name": "python3"
  },
  "language_info": {
   "codemirror_mode": {
    "name": "ipython",
    "version": 3
   },
   "file_extension": ".py",
   "mimetype": "text/x-python",
   "name": "python",
   "nbconvert_exporter": "python",
   "pygments_lexer": "ipython3",
   "version": "3.7.3"
  }
 },
 "nbformat": 4,
 "nbformat_minor": 1
}
