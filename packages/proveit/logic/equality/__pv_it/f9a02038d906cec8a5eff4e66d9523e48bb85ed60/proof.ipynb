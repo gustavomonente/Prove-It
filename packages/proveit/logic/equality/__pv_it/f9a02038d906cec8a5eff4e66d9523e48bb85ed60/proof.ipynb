{
 "cells": [
  {
   "cell_type": "markdown",
   "metadata": {},
   "source": [
    "Show the Proof\n",
    "========"
   ]
  },
  {
   "cell_type": "code",
   "execution_count": 1,
   "metadata": {},
   "outputs": [
    {
     "data": {
      "text/html": [
       "<table><tr><th>&nbsp;</th><th>step type</th><th>requirements</th><th>statement</th></tr>\n",
       "<tr><td><a name=\"proveit.logic.equality.f9a02038d906cec8a5eff4e66d9523e48bb85ed60_step0\">0</a></td><td>instantiation</td><td><a href=\"#proveit.logic.equality.f9a02038d906cec8a5eff4e66d9523e48bb85ed60_step1\">1</a>, <a href=\"#proveit.logic.equality.f9a02038d906cec8a5eff4e66d9523e48bb85ed60_step2\">2</a>, <a href=\"#proveit.logic.equality.f9a02038d906cec8a5eff4e66d9523e48bb85ed60_step3\">3</a></td><td><span style=\"font-size:20px;\"><a class=\"ProveItLink\" href=\"../59575e79802140c06532f537ff2bde06b00600370/expr.ipynb\"><img src=\"../59575e79802140c06532f537ff2bde06b00600370/expr.png\" style=\"display:inline;vertical-align:middle;\" /></a> <a class=\"ProveItLink\" href=\"proof.ipynb\" style=\"text-decoration: none\">&#x22A2;&nbsp;</a><a class=\"ProveItLink\" href=\"../../../boolean/__pv_it/83a1ddf0f64531c80e7f41ea6b904214668818b30/expr.ipynb\"><img src=\"../../../boolean/__pv_it/83a1ddf0f64531c80e7f41ea6b904214668818b30/expr.png\" style=\"display:inline;vertical-align:middle;\" /></a></span></td></tr>\n",
       "<tr><td>&nbsp;</td><td colspan=4 style=\"text-align:left\"><span style=\"font-size:20px;\"><a class=\"ProveItLink\" href=\"../../../../__pv_it/72df168d2bfb4e0140af90912ebf83b13772060b0/expr.ipynb\"><img src=\"../../../../__pv_it/72df168d2bfb4e0140af90912ebf83b13772060b0/expr.png\" style=\"display:inline;vertical-align:middle;\" /></a> : <a class=\"ProveItLink\" href=\"../../../../__pv_it/a8d4b3a34d2189508f9082853fbac36935714f280/expr.ipynb\"><img src=\"../../../../__pv_it/a8d4b3a34d2189508f9082853fbac36935714f280/expr.png\" style=\"display:inline;vertical-align:middle;\" /></a>, <a class=\"ProveItLink\" href=\"../../../../__pv_it/c6e291955561f22a0e6708fd793ea93f1c7dbb5d0/expr.ipynb\"><img src=\"../../../../__pv_it/c6e291955561f22a0e6708fd793ea93f1c7dbb5d0/expr.png\" style=\"display:inline;vertical-align:middle;\" /></a> : <a class=\"ProveItLink\" href=\"../../../../__pv_it/a8d4b3a34d2189508f9082853fbac36935714f280/expr.ipynb\"><img src=\"../../../../__pv_it/a8d4b3a34d2189508f9082853fbac36935714f280/expr.png\" style=\"display:inline;vertical-align:middle;\" /></a></span></td></tr><tr><td><a name=\"proveit.logic.equality.f9a02038d906cec8a5eff4e66d9523e48bb85ed60_step1\">1</a></td><td>theorem</td><td></td><td><span style=\"font-size:20px;\"> <a class=\"ProveItLink\" href=\"../../_proofs_/notEqualsContradiction.ipynb\" style=\"text-decoration: none\">&#x22A2;&nbsp;</a><a class=\"ProveItLink\" href=\"../eca196bb926c80714b00c5a0f0732e147e929edf0/expr.ipynb\"><img src=\"../eca196bb926c80714b00c5a0f0732e147e929edf0/expr.png\" style=\"display:inline;vertical-align:middle;\" /></a></span></td></tr>\n",
       "<tr><td>&nbsp;</td><td colspan=4 style-\"text-align:left\"><a class=\"ProveItLink\" href=\"../../_proofs_/notEqualsContradiction.ipynb\">proveit.logic.equality.notEqualsContradiction</a></td></tr><tr><td><a name=\"proveit.logic.equality.f9a02038d906cec8a5eff4e66d9523e48bb85ed60_step2\">2</a></td><td>instantiation</td><td><a href=\"#proveit.logic.equality.f9a02038d906cec8a5eff4e66d9523e48bb85ed60_step4\">4</a></td><td><span style=\"font-size:20px;\"> <a class=\"ProveItLink\" href=\"../7c471c00c5e4d0b26cacdc6e1eaa19e783280a490/proof.ipynb\" style=\"text-decoration: none\">&#x22A2;&nbsp;</a><a class=\"ProveItLink\" href=\"../0a7d343fb4ecb543203c220cc94241948a4078540/expr.ipynb\"><img src=\"../0a7d343fb4ecb543203c220cc94241948a4078540/expr.png\" style=\"display:inline;vertical-align:middle;\" /></a></span></td></tr>\n",
       "<tr><td>&nbsp;</td><td colspan=4 style=\"text-align:left\"><span style=\"font-size:20px;\"><a class=\"ProveItLink\" href=\"../../../../__pv_it/72df168d2bfb4e0140af90912ebf83b13772060b0/expr.ipynb\"><img src=\"../../../../__pv_it/72df168d2bfb4e0140af90912ebf83b13772060b0/expr.png\" style=\"display:inline;vertical-align:middle;\" /></a> : <a class=\"ProveItLink\" href=\"../../../../__pv_it/a8d4b3a34d2189508f9082853fbac36935714f280/expr.ipynb\"><img src=\"../../../../__pv_it/a8d4b3a34d2189508f9082853fbac36935714f280/expr.png\" style=\"display:inline;vertical-align:middle;\" /></a></span></td></tr><tr><td><a name=\"proveit.logic.equality.f9a02038d906cec8a5eff4e66d9523e48bb85ed60_step3\">3</a></td><td>modus ponens</td><td><a href=\"#proveit.logic.equality.f9a02038d906cec8a5eff4e66d9523e48bb85ed60_step5\">5</a>, <a href=\"#proveit.logic.equality.f9a02038d906cec8a5eff4e66d9523e48bb85ed60_step6\">6</a></td><td><span style=\"font-size:20px;\"><a class=\"ProveItLink\" href=\"../59575e79802140c06532f537ff2bde06b00600370/expr.ipynb\"><img src=\"../59575e79802140c06532f537ff2bde06b00600370/expr.png\" style=\"display:inline;vertical-align:middle;\" /></a> <a class=\"ProveItLink\" href=\"../0c89533fdb73977c6d108a3dd80076383e77985e0/proof.ipynb\" style=\"text-decoration: none\">&#x22A2;&nbsp;</a><a class=\"ProveItLink\" href=\"../../../boolean/__pv_it/bc6f3e3402fd65a10d4fb440f2c47755f3b136200/expr.ipynb\"><img src=\"../../../boolean/__pv_it/bc6f3e3402fd65a10d4fb440f2c47755f3b136200/expr.png\" style=\"display:inline;vertical-align:middle;\" /></a></span></td></tr>\n",
       "<tr><td><a name=\"proveit.logic.equality.f9a02038d906cec8a5eff4e66d9523e48bb85ed60_step4\">4</a></td><td>axiom</td><td></td><td><span style=\"font-size:20px;\"> <a class=\"ProveItLink\" href=\"../../_axioms_.ipynb#equalsReflexivity\" style=\"text-decoration: none\">&#x22A2;&nbsp;</a><a class=\"ProveItLink\" href=\"../3580c570dea9cff591db97db2d7abd66a33477f40/expr.ipynb\"><img src=\"../3580c570dea9cff591db97db2d7abd66a33477f40/expr.png\" style=\"display:inline;vertical-align:middle;\" /></a></span></td></tr>\n",
       "<tr><td>&nbsp;</td><td colspan=4 style-\"text-align:left\"><a class=\"ProveItLink\" href=\"../../_axioms_.ipynb#equalsReflexivity\">proveit.logic.equality.equalsReflexivity</a></td></tr><tr><td><a name=\"proveit.logic.equality.f9a02038d906cec8a5eff4e66d9523e48bb85ed60_step5\">5</a></td><td>assumption</td><td></td><td><span style=\"font-size:20px;\"><a class=\"ProveItLink\" href=\"../dec4f13dcff194fac5892e1157a166cddcef9fb70/expr.ipynb\"><img src=\"../dec4f13dcff194fac5892e1157a166cddcef9fb70/expr.png\" style=\"display:inline;vertical-align:middle;\" /></a> <a class=\"ProveItLink\" href=\"../40497b829372c0f0c4fff2e981f1e6fef46d5f790/proof.ipynb\" style=\"text-decoration: none\">&#x22A2;&nbsp;</a><a class=\"ProveItLink\" href=\"../../../boolean/__pv_it/e41a8d45c515c284f8579553a9f5786b39fcca750/expr.ipynb\"><img src=\"../../../boolean/__pv_it/e41a8d45c515c284f8579553a9f5786b39fcca750/expr.png\" style=\"display:inline;vertical-align:middle;\" /></a></span></td></tr>\n",
       "<tr><td><a name=\"proveit.logic.equality.f9a02038d906cec8a5eff4e66d9523e48bb85ed60_step6\">6</a></td><td>assumption</td><td></td><td><span style=\"font-size:20px;\"><a class=\"ProveItLink\" href=\"../6ffef9231357b7e04d68eabf7e32bb193784e8680/expr.ipynb\"><img src=\"../6ffef9231357b7e04d68eabf7e32bb193784e8680/expr.png\" style=\"display:inline;vertical-align:middle;\" /></a> <a class=\"ProveItLink\" href=\"../11cb4d61da13df7c88b7e7c94ebbb21ad9e030c50/proof.ipynb\" style=\"text-decoration: none\">&#x22A2;&nbsp;</a><a class=\"ProveItLink\" href=\"../../../boolean/__pv_it/f27cf97edc719b4d6c20c9e3adda8325948bcfd10/expr.ipynb\"><img src=\"../../../boolean/__pv_it/f27cf97edc719b4d6c20c9e3adda8325948bcfd10/expr.png\" style=\"display:inline;vertical-align:middle;\" /></a></span></td></tr>\n",
       "</table>"
      ],
      "text/plain": [
       "<proveit._core_.proof._ShowProof at 0x7f5b99c0a518>"
      ]
     },
     "execution_count": 1,
     "metadata": {},
     "output_type": "execute_result"
    }
   ],
   "source": [
    "import proveit\n",
    "# Automation is not needed when only showing a stored proof:\n",
    "proveit.defaults.automation = False # This will speed things up.\n",
    "proveit.defaults.inline_pngs = False # Makes files smaller.\n",
    "%show_proof"
   ]
  },
  {
   "cell_type": "code",
   "execution_count": null,
   "metadata": {},
   "outputs": [],
   "source": []
  }
 ],
 "metadata": {
  "kernelspec": {
   "display_name": "Python 3",
   "language": "python",
   "name": "python3"
  },
  "language_info": {
   "codemirror_mode": {
    "name": "ipython",
    "version": 3
   },
   "file_extension": ".py",
   "mimetype": "text/x-python",
   "name": "python",
   "nbconvert_exporter": "python",
   "pygments_lexer": "ipython3",
   "version": "3.7.3"
  }
 },
 "nbformat": 4,
 "nbformat_minor": 1
}
