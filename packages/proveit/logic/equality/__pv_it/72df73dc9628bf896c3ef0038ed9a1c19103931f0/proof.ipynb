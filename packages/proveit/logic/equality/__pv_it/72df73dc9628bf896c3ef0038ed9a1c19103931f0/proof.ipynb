{
 "cells": [
  {
   "cell_type": "markdown",
   "metadata": {},
   "source": [
    "Show the Proof\n",
    "========"
   ]
  },
  {
   "cell_type": "code",
   "execution_count": 1,
   "metadata": {},
   "outputs": [
    {
     "data": {
      "text/html": [
       "<table><tr><th>&nbsp;</th><th>step type</th><th>requirements</th><th>statement</th></tr>\n",
       "<tr><td><a name=\"proveit.logic.equality.72df73dc9628bf896c3ef0038ed9a1c19103931f0_step0\">0</a></td><td>instantiation</td><td><a href=\"#proveit.logic.equality.72df73dc9628bf896c3ef0038ed9a1c19103931f0_step1\">1</a>, <a href=\"#proveit.logic.equality.72df73dc9628bf896c3ef0038ed9a1c19103931f0_step2\">2</a>, <a href=\"#proveit.logic.equality.72df73dc9628bf896c3ef0038ed9a1c19103931f0_step3\">3</a></td><td><span style=\"font-size:20px;\"><a class=\"ProveItLink\" href=\"../71f3a359eea391f5cba3f7f9435c3d5bbeeca3e50/expr.ipynb\"><img src=\"../71f3a359eea391f5cba3f7f9435c3d5bbeeca3e50/expr.png\" style=\"display:inline;vertical-align:middle;\" /></a> <a class=\"ProveItLink\" href=\"proof.ipynb\" style=\"text-decoration: none\">&#x22A2;&nbsp;</a><a class=\"ProveItLink\" href=\"../f27cf97edc719b4d6c20c9e3adda8325948bcfd10/expr.ipynb\"><img src=\"../f27cf97edc719b4d6c20c9e3adda8325948bcfd10/expr.png\" style=\"display:inline;vertical-align:middle;\" /></a></span></td></tr>\n",
       "<tr><td>&nbsp;</td><td colspan=4 style=\"text-align:left\"><span style=\"font-size:20px;\"><a class=\"ProveItLink\" href=\"../../../../__pv_it/d3792d0d8642fdf1cd2a3a9b32c673ee13653de00/expr.ipynb\"><img src=\"../../../../__pv_it/d3792d0d8642fdf1cd2a3a9b32c673ee13653de00/expr.png\" style=\"display:inline;vertical-align:middle;\" /></a> : <a class=\"ProveItLink\" href=\"../../../../__pv_it/53e304ff98ebc000dbe3ef224f4637dbafd46ba70/expr.ipynb\"><img src=\"../../../../__pv_it/53e304ff98ebc000dbe3ef224f4637dbafd46ba70/expr.png\" style=\"display:inline;vertical-align:middle;\" /></a></span></td></tr><tr><td><a name=\"proveit.logic.equality.72df73dc9628bf896c3ef0038ed9a1c19103931f0_step1\">1</a></td><td>theorem</td><td></td><td><span style=\"font-size:20px;\"> <a class=\"ProveItLink\" href=\"../../../boolean/implication/_proofs_/denyViaContradiction.ipynb\" style=\"text-decoration: none\">&#x22A2;&nbsp;</a><a class=\"ProveItLink\" href=\"../0fe0ee8dc5f754ef22f3ad1c267453737bdd50f30/expr.ipynb\"><img src=\"../0fe0ee8dc5f754ef22f3ad1c267453737bdd50f30/expr.png\" style=\"display:inline;vertical-align:middle;\" /></a></span></td></tr>\n",
       "<tr><td>&nbsp;</td><td colspan=4 style-\"text-align:left\"><a class=\"ProveItLink\" href=\"../../../boolean/implication/_proofs_/denyViaContradiction.ipynb\">proveit.logic.boolean.implication.denyViaContradiction</a></td></tr><tr><td><a name=\"proveit.logic.equality.72df73dc9628bf896c3ef0038ed9a1c19103931f0_step2\">2</a></td><td>assumption</td><td></td><td><span style=\"font-size:20px;\"><a class=\"ProveItLink\" href=\"../2f945d92b73be1e63e13952c3adf0926f90e0afc0/expr.ipynb\"><img src=\"../2f945d92b73be1e63e13952c3adf0926f90e0afc0/expr.png\" style=\"display:inline;vertical-align:middle;\" /></a> <a class=\"ProveItLink\" href=\"../4b494f9cfec5d25044e56181882ccdbfbefd76890/proof.ipynb\" style=\"text-decoration: none\">&#x22A2;&nbsp;</a><a class=\"ProveItLink\" href=\"../55fa58204534baab6ecd7c8709962eebd1f949ff0/expr.ipynb\"><img src=\"../55fa58204534baab6ecd7c8709962eebd1f949ff0/expr.png\" style=\"display:inline;vertical-align:middle;\" /></a></span></td></tr>\n",
       "<tr><td><a name=\"proveit.logic.equality.72df73dc9628bf896c3ef0038ed9a1c19103931f0_step3\">3</a></td><td>hypothetical reasoning</td><td><a href=\"#proveit.logic.equality.72df73dc9628bf896c3ef0038ed9a1c19103931f0_step4\">4</a></td><td><span style=\"font-size:20px;\"><a class=\"ProveItLink\" href=\"../c156b931b20de6b12378b7b9cad88f770ec162710/expr.ipynb\"><img src=\"../c156b931b20de6b12378b7b9cad88f770ec162710/expr.png\" style=\"display:inline;vertical-align:middle;\" /></a> <a class=\"ProveItLink\" href=\"../a973e92b04e8e34c0ded051d422be6bde4f4a7130/proof.ipynb\" style=\"text-decoration: none\">&#x22A2;&nbsp;</a><a class=\"ProveItLink\" href=\"../ecc3cc094e50230793e0aef5d67cfd454cba93ea0/expr.ipynb\"><img src=\"../ecc3cc094e50230793e0aef5d67cfd454cba93ea0/expr.png\" style=\"display:inline;vertical-align:middle;\" /></a></span></td></tr>\n",
       "<tr><td><a name=\"proveit.logic.equality.72df73dc9628bf896c3ef0038ed9a1c19103931f0_step4\">4</a></td><td>instantiation</td><td><a href=\"#proveit.logic.equality.72df73dc9628bf896c3ef0038ed9a1c19103931f0_step5\">5</a>, <a href=\"#proveit.logic.equality.72df73dc9628bf896c3ef0038ed9a1c19103931f0_step8\">8</a>, <a href=\"#proveit.logic.equality.72df73dc9628bf896c3ef0038ed9a1c19103931f0_step6\">6</a></td><td><span style=\"font-size:20px;\"><a class=\"ProveItLink\" href=\"../401b9a55d0dab3ad7f8de391d2eda6fc33c814440/expr.ipynb\"><img src=\"../401b9a55d0dab3ad7f8de391d2eda6fc33c814440/expr.png\" style=\"display:inline;vertical-align:middle;\" /></a> <a class=\"ProveItLink\" href=\"../546765e5fe541ff37b967f6ff5356613c2e8c1980/proof.ipynb\" style=\"text-decoration: none\">&#x22A2;&nbsp;</a><a class=\"ProveItLink\" href=\"../../../boolean/__pv_it/83a1ddf0f64531c80e7f41ea6b904214668818b30/expr.ipynb\"><img src=\"../../../boolean/__pv_it/83a1ddf0f64531c80e7f41ea6b904214668818b30/expr.png\" style=\"display:inline;vertical-align:middle;\" /></a></span></td></tr>\n",
       "<tr><td>&nbsp;</td><td colspan=4 style=\"text-align:left\"><span style=\"font-size:20px;\"><a class=\"ProveItLink\" href=\"../../../../__pv_it/d3792d0d8642fdf1cd2a3a9b32c673ee13653de00/expr.ipynb\"><img src=\"../../../../__pv_it/d3792d0d8642fdf1cd2a3a9b32c673ee13653de00/expr.png\" style=\"display:inline;vertical-align:middle;\" /></a> : <a class=\"ProveItLink\" href=\"../../../../__pv_it/53e304ff98ebc000dbe3ef224f4637dbafd46ba70/expr.ipynb\"><img src=\"../../../../__pv_it/53e304ff98ebc000dbe3ef224f4637dbafd46ba70/expr.png\" style=\"display:inline;vertical-align:middle;\" /></a></span></td></tr><tr><td><a name=\"proveit.logic.equality.72df73dc9628bf896c3ef0038ed9a1c19103931f0_step5\">5</a></td><td>theorem</td><td></td><td><span style=\"font-size:20px;\"> <a class=\"ProveItLink\" href=\"../../_proofs_/contradictionViaFalsification.ipynb\" style=\"text-decoration: none\">&#x22A2;&nbsp;</a><a class=\"ProveItLink\" href=\"../b467887e61897aa75c82999d6e068c52f4136db40/expr.ipynb\"><img src=\"../b467887e61897aa75c82999d6e068c52f4136db40/expr.png\" style=\"display:inline;vertical-align:middle;\" /></a></span></td></tr>\n",
       "<tr><td>&nbsp;</td><td colspan=4 style-\"text-align:left\"><a class=\"ProveItLink\" href=\"../../_proofs_/contradictionViaFalsification.ipynb\">proveit.logic.equality.contradictionViaFalsification</a></td></tr><tr><td><a name=\"proveit.logic.equality.72df73dc9628bf896c3ef0038ed9a1c19103931f0_step6\">6</a></td><td>modus ponens</td><td><a href=\"#proveit.logic.equality.72df73dc9628bf896c3ef0038ed9a1c19103931f0_step7\">7</a>, <a href=\"#proveit.logic.equality.72df73dc9628bf896c3ef0038ed9a1c19103931f0_step8\">8</a></td><td><span style=\"font-size:20px;\"><a class=\"ProveItLink\" href=\"../1b12723cf90d79b5c830e92accbd164bea0763a70/expr.ipynb\"><img src=\"../1b12723cf90d79b5c830e92accbd164bea0763a70/expr.png\" style=\"display:inline;vertical-align:middle;\" /></a> <a class=\"ProveItLink\" href=\"../48b267c669a95d42b5cb8d11a03160f38eb00a400/proof.ipynb\" style=\"text-decoration: none\">&#x22A2;&nbsp;</a><a class=\"ProveItLink\" href=\"../../../boolean/__pv_it/fbc867a9709ec3cdf19316a91234a0153d634f660/expr.ipynb\"><img src=\"../../../boolean/__pv_it/fbc867a9709ec3cdf19316a91234a0153d634f660/expr.png\" style=\"display:inline;vertical-align:middle;\" /></a></span></td></tr>\n",
       "<tr><td><a name=\"proveit.logic.equality.72df73dc9628bf896c3ef0038ed9a1c19103931f0_step7\">7</a></td><td>assumption</td><td></td><td><span style=\"font-size:20px;\"><a class=\"ProveItLink\" href=\"../c156b931b20de6b12378b7b9cad88f770ec162710/expr.ipynb\"><img src=\"../c156b931b20de6b12378b7b9cad88f770ec162710/expr.png\" style=\"display:inline;vertical-align:middle;\" /></a> <a class=\"ProveItLink\" href=\"../7199c28f67290ef35fb86f216e2b9cfca368404e0/proof.ipynb\" style=\"text-decoration: none\">&#x22A2;&nbsp;</a><a class=\"ProveItLink\" href=\"../../../boolean/__pv_it/de249489ac99d5f601a5fae894980cf89a503b200/expr.ipynb\"><img src=\"../../../boolean/__pv_it/de249489ac99d5f601a5fae894980cf89a503b200/expr.png\" style=\"display:inline;vertical-align:middle;\" /></a></span></td></tr>\n",
       "<tr><td><a name=\"proveit.logic.equality.72df73dc9628bf896c3ef0038ed9a1c19103931f0_step8\">8</a></td><td>assumption</td><td></td><td><span style=\"font-size:20px;\"><a class=\"ProveItLink\" href=\"../8dda6c9d1972613d0d1b1026a4576be0fca112610/expr.ipynb\"><img src=\"../8dda6c9d1972613d0d1b1026a4576be0fca112610/expr.png\" style=\"display:inline;vertical-align:middle;\" /></a> <a class=\"ProveItLink\" href=\"../c59981489edd07c57c13c76c8cc6177b30b53a960/proof.ipynb\" style=\"text-decoration: none\">&#x22A2;&nbsp;</a><a class=\"ProveItLink\" href=\"../../../../__pv_it/53e304ff98ebc000dbe3ef224f4637dbafd46ba70/expr.ipynb\"><img src=\"../../../../__pv_it/53e304ff98ebc000dbe3ef224f4637dbafd46ba70/expr.png\" style=\"display:inline;vertical-align:middle;\" /></a></span></td></tr>\n",
       "</table>"
      ],
      "text/plain": [
       "<proveit._core_.proof._ShowProof at 0x7f5b9925de10>"
      ]
     },
     "execution_count": 1,
     "metadata": {},
     "output_type": "execute_result"
    }
   ],
   "source": [
    "import proveit\n",
    "# Automation is not needed when only showing a stored proof:\n",
    "proveit.defaults.automation = False # This will speed things up.\n",
    "proveit.defaults.inline_pngs = False # Makes files smaller.\n",
    "%show_proof"
   ]
  },
  {
   "cell_type": "code",
   "execution_count": null,
   "metadata": {},
   "outputs": [],
   "source": []
  }
 ],
 "metadata": {
  "kernelspec": {
   "display_name": "Python 3",
   "language": "python",
   "name": "python3"
  },
  "language_info": {
   "codemirror_mode": {
    "name": "ipython",
    "version": 3
   },
   "file_extension": ".py",
   "mimetype": "text/x-python",
   "name": "python",
   "nbconvert_exporter": "python",
   "pygments_lexer": "ipython3",
   "version": "3.7.3"
  }
 },
 "nbformat": 4,
 "nbformat_minor": 1
}
