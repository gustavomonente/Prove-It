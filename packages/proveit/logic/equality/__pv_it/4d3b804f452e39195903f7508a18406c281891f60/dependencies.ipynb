{
 "cells": [
  {
   "cell_type": "markdown",
   "metadata": {},
   "source": [
    "Theorem Dependencies\n",
    "=======================\n",
    "\n",
    "## <a class=\"ProveItLink\" href=\"../../_context_.ipynb\">proveit.logic.equality</a>.<a class=\"ProveItLink\" href=\"../../_theorems_.ipynb#equalsReversal\">equalsReversal</a> \n",
    "***see <a class=\"ProveItLink\" href=\"../../_proofs_/equalsReversal.ipynb\">proof</a>***"
   ]
  },
  {
   "cell_type": "code",
   "execution_count": 1,
   "metadata": {},
   "outputs": [],
   "source": [
    "import proveit\n",
    "# Automation is not needed when querying dependencies:\n",
    "proveit.defaults.automation = False # This will speed things up.\n",
    "proveit.defaults.inline_pngs = False # Makes files smaller.\n",
    "from proveit.logic.equality._theorems_ import equalsReversal"
   ]
  },
  {
   "cell_type": "code",
   "execution_count": 2,
   "metadata": {},
   "outputs": [
    {
     "data": {
      "text/html": [
       "<h3>Axioms required (directly or indirectly) to prove equalsReversal</h3>"
      ],
      "text/plain": [
       "<IPython.core.display.HTML object>"
      ]
     },
     "metadata": {},
     "output_type": "display_data"
    },
    {
     "data": {
      "text/html": [
       "<dl>"
      ],
      "text/plain": [
       "<IPython.core.display.HTML object>"
      ]
     },
     "metadata": {},
     "output_type": "display_data"
    },
    {
     "data": {
      "text/html": [
       "<dt><a class=\"ProveItLink\" href=\"../../../boolean/_axioms_.ipynb#eqTrueElim\">proveit.logic.boolean.eqTrueElim</a></dt><dd><a class=\"ProveItLink\" href=\"../../../boolean/__pv_it/6ff60b895e13190b9801f0a9e710e21dbccdfd7f0/expr.ipynb\"><img src=\"../../../boolean/__pv_it/6ff60b895e13190b9801f0a9e710e21dbccdfd7f0/expr.png\" style=\"display:inline;vertical-align:middle;\" /></a></dd>"
      ],
      "text/plain": [
       "<IPython.core.display.HTML object>"
      ]
     },
     "metadata": {},
     "output_type": "display_data"
    },
    {
     "data": {
      "text/html": [
       "<dt><a class=\"ProveItLink\" href=\"../../../boolean/_axioms_.ipynb#eqTrueIntro\">proveit.logic.boolean.eqTrueIntro</a></dt><dd><a class=\"ProveItLink\" href=\"../../../boolean/__pv_it/7bce5e3cff7f8036cee68d8befe33a38fe32f5c10/expr.ipynb\"><img src=\"../../../boolean/__pv_it/7bce5e3cff7f8036cee68d8befe33a38fe32f5c10/expr.png\" style=\"display:inline;vertical-align:middle;\" /></a></dd>"
      ],
      "text/plain": [
       "<IPython.core.display.HTML object>"
      ]
     },
     "metadata": {},
     "output_type": "display_data"
    },
    {
     "data": {
      "text/html": [
       "<dt><a class=\"ProveItLink\" href=\"../../_axioms_.ipynb#equalsSymmetry\">proveit.logic.equality.equalsSymmetry</a></dt><dd><a class=\"ProveItLink\" href=\"../31cdd49381a5bc0613437bed3e59e09327e2e73f0/expr.ipynb\"><img src=\"../31cdd49381a5bc0613437bed3e59e09327e2e73f0/expr.png\" style=\"display:inline;vertical-align:middle;\" /></a></dd>"
      ],
      "text/plain": [
       "<IPython.core.display.HTML object>"
      ]
     },
     "metadata": {},
     "output_type": "display_data"
    },
    {
     "data": {
      "text/html": [
       "<dt><a class=\"ProveItLink\" href=\"../../_axioms_.ipynb#equalsTransitivity\">proveit.logic.equality.equalsTransitivity</a></dt><dd><a class=\"ProveItLink\" href=\"../62a78d8298863a1032c900aff4af282587b901b20/expr.ipynb\"><img src=\"../62a78d8298863a1032c900aff4af282587b901b20/expr.png\" style=\"display:inline;vertical-align:middle;\" /></a></dd>"
      ],
      "text/plain": [
       "<IPython.core.display.HTML object>"
      ]
     },
     "metadata": {},
     "output_type": "display_data"
    },
    {
     "data": {
      "text/html": [
       "<dt><a class=\"ProveItLink\" href=\"../../_axioms_.ipynb#substitution\">proveit.logic.equality.substitution</a></dt><dd><a class=\"ProveItLink\" href=\"../227f37bc1ee52abe3a92ac5130dc32c91fd40c720/expr.ipynb\"><img src=\"../227f37bc1ee52abe3a92ac5130dc32c91fd40c720/expr.png\" style=\"display:inline;vertical-align:middle;\" /></a></dd>"
      ],
      "text/plain": [
       "<IPython.core.display.HTML object>"
      ]
     },
     "metadata": {},
     "output_type": "display_data"
    },
    {
     "data": {
      "text/html": [
       "</dl>"
      ],
      "text/plain": [
       "<IPython.core.display.HTML object>"
      ]
     },
     "metadata": {},
     "output_type": "display_data"
    },
    {
     "data": {
      "text/html": [
       "<h3>Theorems that depend directly on equalsReversal</h3>"
      ],
      "text/plain": [
       "<IPython.core.display.HTML object>"
      ]
     },
     "metadata": {},
     "output_type": "display_data"
    },
    {
     "data": {
      "text/html": [
       "<dl>"
      ],
      "text/plain": [
       "<IPython.core.display.HTML object>"
      ]
     },
     "metadata": {},
     "output_type": "display_data"
    },
    {
     "data": {
      "text/html": [
       "<dt><a class=\"ProveItLink\" href=\"../../../boolean/conjunction/_proofs_/commutation.ipynb\">proveit.logic.boolean.conjunction.commutation</a></dt><dd><a class=\"ProveItLink\" href=\"../../../boolean/conjunction/__pv_it/6dd80a70bb7f373ba48ccb3bb5954eef35f6b9890/expr.ipynb\"><img src=\"../../../boolean/conjunction/__pv_it/6dd80a70bb7f373ba48ccb3bb5954eef35f6b9890/expr.png\" style=\"display:inline;vertical-align:middle;\" /></a></dd>"
      ],
      "text/plain": [
       "<IPython.core.display.HTML object>"
      ]
     },
     "metadata": {},
     "output_type": "display_data"
    },
    {
     "data": {
      "text/html": [
       "<dt><a class=\"ProveItLink\" href=\"../../../boolean/implication/_proofs_/eqFromIff.ipynb\">proveit.logic.boolean.implication.eqFromIff</a></dt><dd><a class=\"ProveItLink\" href=\"../../../boolean/implication/__pv_it/01bdd68577324f7cfbfe86b23025825aef6015950/expr.ipynb\"><img src=\"../../../boolean/implication/__pv_it/01bdd68577324f7cfbfe86b23025825aef6015950/expr.png\" style=\"display:inline;vertical-align:middle;\" /></a></dd>"
      ],
      "text/plain": [
       "<IPython.core.display.HTML object>"
      ]
     },
     "metadata": {},
     "output_type": "display_data"
    },
    {
     "data": {
      "text/html": [
       "<dt><a class=\"ProveItLink\" href=\"../../../boolean/implication/_proofs_/eqFromMutualImpl.ipynb\">proveit.logic.boolean.implication.eqFromMutualImpl</a></dt><dd><a class=\"ProveItLink\" href=\"../../../boolean/implication/__pv_it/3f276a98ff5d2c9b126b1bea3066e685e5174a470/expr.ipynb\"><img src=\"../../../boolean/implication/__pv_it/3f276a98ff5d2c9b126b1bea3066e685e5174a470/expr.png\" style=\"display:inline;vertical-align:middle;\" /></a></dd>"
      ],
      "text/plain": [
       "<IPython.core.display.HTML object>"
      ]
     },
     "metadata": {},
     "output_type": "display_data"
    },
    {
     "data": {
      "text/html": [
       "<dt><a class=\"ProveItLink\" href=\"../../_proofs_/subRightSideInto.ipynb\">proveit.logic.equality.subRightSideInto</a></dt><dd><a class=\"ProveItLink\" href=\"../19c030addf6d2b1fd70f425ed548586daa5d57ac0/expr.ipynb\"><img src=\"../19c030addf6d2b1fd70f425ed548586daa5d57ac0/expr.png\" style=\"display:inline;vertical-align:middle;\" /></a></dd>"
      ],
      "text/plain": [
       "<IPython.core.display.HTML object>"
      ]
     },
     "metadata": {},
     "output_type": "display_data"
    },
    {
     "data": {
      "text/html": [
       "</dl>"
      ],
      "text/plain": [
       "<IPython.core.display.HTML object>"
      ]
     },
     "metadata": {},
     "output_type": "display_data"
    }
   ],
   "source": [
    "%dependencies equalsReversal"
   ]
  }
 ],
 "metadata": {
  "kernelspec": {
   "display_name": "Python 3",
   "language": "python",
   "name": "python3"
  },
  "language_info": {
   "codemirror_mode": {
    "name": "ipython",
    "version": 3
   },
   "file_extension": ".py",
   "mimetype": "text/x-python",
   "name": "python",
   "nbconvert_exporter": "python",
   "pygments_lexer": "ipython3",
   "version": "3.7.3"
  }
 },
 "nbformat": 4,
 "nbformat_minor": 1
}
