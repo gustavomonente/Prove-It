{
 "cells": [
  {
   "cell_type": "markdown",
   "metadata": {},
   "source": [
    "Show the Proof\n",
    "========"
   ]
  },
  {
   "cell_type": "code",
   "execution_count": 1,
   "metadata": {},
   "outputs": [
    {
     "data": {
      "text/html": [
       "<table><tr><th>&nbsp;</th><th>step type</th><th>requirements</th><th>statement</th></tr>\n",
       "<tr><td><a name=\"proveit.logic.equality.3294102aec2ed4b15cf596417969c86b638212a20_step0\">0</a></td><td>instantiation</td><td><a href=\"#proveit.logic.equality.3294102aec2ed4b15cf596417969c86b638212a20_step1\">1</a>, <a href=\"#proveit.logic.equality.3294102aec2ed4b15cf596417969c86b638212a20_step2\">2</a>, <a href=\"#proveit.logic.equality.3294102aec2ed4b15cf596417969c86b638212a20_step3\">3</a></td><td><span style=\"font-size:20px;\"><a class=\"ProveItLink\" href=\"../f91b5551d06e1cf57088d397ef9b982c2f07b57f0/expr.ipynb\"><img src=\"../f91b5551d06e1cf57088d397ef9b982c2f07b57f0/expr.png\" style=\"display:inline;vertical-align:middle;\" /></a> <a class=\"ProveItLink\" href=\"proof.ipynb\" style=\"text-decoration: none\">&#x22A2;&nbsp;</a><a class=\"ProveItLink\" href=\"../../../boolean/__pv_it/36d3adf27012f2f3b2867a6e7960c7ab31c86c260/expr.ipynb\"><img src=\"../../../boolean/__pv_it/36d3adf27012f2f3b2867a6e7960c7ab31c86c260/expr.png\" style=\"display:inline;vertical-align:middle;\" /></a></span></td></tr>\n",
       "<tr><td>&nbsp;</td><td colspan=4 style=\"text-align:left\"><span style=\"font-size:20px;\"><a class=\"ProveItLink\" href=\"../../../../__pv_it/d3792d0d8642fdf1cd2a3a9b32c673ee13653de00/expr.ipynb\"><img src=\"../../../../__pv_it/d3792d0d8642fdf1cd2a3a9b32c673ee13653de00/expr.png\" style=\"display:inline;vertical-align:middle;\" /></a> : <a class=\"ProveItLink\" href=\"../../../boolean/__pv_it/36d3adf27012f2f3b2867a6e7960c7ab31c86c260/expr.ipynb\"><img src=\"../../../boolean/__pv_it/36d3adf27012f2f3b2867a6e7960c7ab31c86c260/expr.png\" style=\"display:inline;vertical-align:middle;\" /></a></span></td></tr><tr><td><a name=\"proveit.logic.equality.3294102aec2ed4b15cf596417969c86b638212a20_step1\">1</a></td><td>theorem</td><td></td><td><span style=\"font-size:20px;\"> <a class=\"ProveItLink\" href=\"../../../boolean/implication/_proofs_/affirmViaContradiction.ipynb\" style=\"text-decoration: none\">&#x22A2;&nbsp;</a><a class=\"ProveItLink\" href=\"../dffa74f3d9617e47d9874525d4531bc40c5c74f00/expr.ipynb\"><img src=\"../dffa74f3d9617e47d9874525d4531bc40c5c74f00/expr.png\" style=\"display:inline;vertical-align:middle;\" /></a></span></td></tr>\n",
       "<tr><td>&nbsp;</td><td colspan=4 style-\"text-align:left\"><a class=\"ProveItLink\" href=\"../../../boolean/implication/_proofs_/affirmViaContradiction.ipynb\">proveit.logic.boolean.implication.affirmViaContradiction</a></td></tr><tr><td><a name=\"proveit.logic.equality.3294102aec2ed4b15cf596417969c86b638212a20_step2\">2</a></td><td>instantiation</td><td><a href=\"#proveit.logic.equality.3294102aec2ed4b15cf596417969c86b638212a20_step4\">4</a>, <a href=\"#proveit.logic.equality.3294102aec2ed4b15cf596417969c86b638212a20_step5\">5</a></td><td><span style=\"font-size:20px;\"><a class=\"ProveItLink\" href=\"../ced160b8ec1550af3c749793382b87bdb07576700/expr.ipynb\"><img src=\"../ced160b8ec1550af3c749793382b87bdb07576700/expr.png\" style=\"display:inline;vertical-align:middle;\" /></a> <a class=\"ProveItLink\" href=\"../baf5374e87c7d3e1dfe89ac8d721edaaaa5458800/proof.ipynb\" style=\"text-decoration: none\">&#x22A2;&nbsp;</a><a class=\"ProveItLink\" href=\"../60a03505d4c8b1ecf7a2dcba1fd147ff452edebd0/expr.ipynb\"><img src=\"../60a03505d4c8b1ecf7a2dcba1fd147ff452edebd0/expr.png\" style=\"display:inline;vertical-align:middle;\" /></a></span></td></tr>\n",
       "<tr><td>&nbsp;</td><td colspan=4 style=\"text-align:left\"><span style=\"font-size:20px;\"><a class=\"ProveItLink\" href=\"../../../../__pv_it/d3792d0d8642fdf1cd2a3a9b32c673ee13653de00/expr.ipynb\"><img src=\"../../../../__pv_it/d3792d0d8642fdf1cd2a3a9b32c673ee13653de00/expr.png\" style=\"display:inline;vertical-align:middle;\" /></a> : <a class=\"ProveItLink\" href=\"../../../../__pv_it/a8d4b3a34d2189508f9082853fbac36935714f280/expr.ipynb\"><img src=\"../../../../__pv_it/a8d4b3a34d2189508f9082853fbac36935714f280/expr.png\" style=\"display:inline;vertical-align:middle;\" /></a></span></td></tr><tr><td><a name=\"proveit.logic.equality.3294102aec2ed4b15cf596417969c86b638212a20_step3\">3</a></td><td>hypothetical reasoning</td><td><a href=\"#proveit.logic.equality.3294102aec2ed4b15cf596417969c86b638212a20_step6\">6</a></td><td><span style=\"font-size:20px;\"><a class=\"ProveItLink\" href=\"../b43ca426a728cf8451b0d126ed524b19e22913770/expr.ipynb\"><img src=\"../b43ca426a728cf8451b0d126ed524b19e22913770/expr.png\" style=\"display:inline;vertical-align:middle;\" /></a> <a class=\"ProveItLink\" href=\"../7647045c1687301f7c5b9389b483ffe972a3c7340/proof.ipynb\" style=\"text-decoration: none\">&#x22A2;&nbsp;</a><a class=\"ProveItLink\" href=\"../6236853b871462278c35876acef4d7a53b2407730/expr.ipynb\"><img src=\"../6236853b871462278c35876acef4d7a53b2407730/expr.png\" style=\"display:inline;vertical-align:middle;\" /></a></span></td></tr>\n",
       "<tr><td><a name=\"proveit.logic.equality.3294102aec2ed4b15cf596417969c86b638212a20_step4\">4</a></td><td>theorem</td><td></td><td><span style=\"font-size:20px;\"> <a class=\"ProveItLink\" href=\"../../../boolean/negation/_proofs_/closure.ipynb\" style=\"text-decoration: none\">&#x22A2;&nbsp;</a><a class=\"ProveItLink\" href=\"../ef02158039faa5050b00ffacaa1112ca6bcfdd760/expr.ipynb\"><img src=\"../ef02158039faa5050b00ffacaa1112ca6bcfdd760/expr.png\" style=\"display:inline;vertical-align:middle;\" /></a></span></td></tr>\n",
       "<tr><td>&nbsp;</td><td colspan=4 style-\"text-align:left\"><a class=\"ProveItLink\" href=\"../../../boolean/negation/_proofs_/closure.ipynb\">proveit.logic.boolean.negation.closure</a></td></tr><tr><td><a name=\"proveit.logic.equality.3294102aec2ed4b15cf596417969c86b638212a20_step5\">5</a></td><td>assumption</td><td></td><td><span style=\"font-size:20px;\"><a class=\"ProveItLink\" href=\"../ced160b8ec1550af3c749793382b87bdb07576700/expr.ipynb\"><img src=\"../ced160b8ec1550af3c749793382b87bdb07576700/expr.png\" style=\"display:inline;vertical-align:middle;\" /></a> <a class=\"ProveItLink\" href=\"../1930112bc29cdc52b712ac1734d83845bfc832cb0/proof.ipynb\" style=\"text-decoration: none\">&#x22A2;&nbsp;</a><a class=\"ProveItLink\" href=\"../75e206cc70539c8c91f46d84f844660d716e4d3c0/expr.ipynb\"><img src=\"../75e206cc70539c8c91f46d84f844660d716e4d3c0/expr.png\" style=\"display:inline;vertical-align:middle;\" /></a></span></td></tr>\n",
       "<tr><td><a name=\"proveit.logic.equality.3294102aec2ed4b15cf596417969c86b638212a20_step6\">6</a></td><td>instantiation</td><td><a href=\"#proveit.logic.equality.3294102aec2ed4b15cf596417969c86b638212a20_step7\">7</a>, <a href=\"#proveit.logic.equality.3294102aec2ed4b15cf596417969c86b638212a20_step10\">10</a>, <a href=\"#proveit.logic.equality.3294102aec2ed4b15cf596417969c86b638212a20_step8\">8</a></td><td><span style=\"font-size:20px;\"><a class=\"ProveItLink\" href=\"../5404302a2323f10d45a258c0c807baab1417b20f0/expr.ipynb\"><img src=\"../5404302a2323f10d45a258c0c807baab1417b20f0/expr.png\" style=\"display:inline;vertical-align:middle;\" /></a> <a class=\"ProveItLink\" href=\"../5bc1b26c5581382f10535280907afad823c90b180/proof.ipynb\" style=\"text-decoration: none\">&#x22A2;&nbsp;</a><a class=\"ProveItLink\" href=\"../../../boolean/__pv_it/83a1ddf0f64531c80e7f41ea6b904214668818b30/expr.ipynb\"><img src=\"../../../boolean/__pv_it/83a1ddf0f64531c80e7f41ea6b904214668818b30/expr.png\" style=\"display:inline;vertical-align:middle;\" /></a></span></td></tr>\n",
       "<tr><td>&nbsp;</td><td colspan=4 style=\"text-align:left\"><span style=\"font-size:20px;\"><a class=\"ProveItLink\" href=\"../../../../__pv_it/d3792d0d8642fdf1cd2a3a9b32c673ee13653de00/expr.ipynb\"><img src=\"../../../../__pv_it/d3792d0d8642fdf1cd2a3a9b32c673ee13653de00/expr.png\" style=\"display:inline;vertical-align:middle;\" /></a> : <a class=\"ProveItLink\" href=\"../../../../__pv_it/a8d4b3a34d2189508f9082853fbac36935714f280/expr.ipynb\"><img src=\"../../../../__pv_it/a8d4b3a34d2189508f9082853fbac36935714f280/expr.png\" style=\"display:inline;vertical-align:middle;\" /></a></span></td></tr><tr><td><a name=\"proveit.logic.equality.3294102aec2ed4b15cf596417969c86b638212a20_step7\">7</a></td><td>theorem</td><td></td><td><span style=\"font-size:20px;\"> <a class=\"ProveItLink\" href=\"../../_proofs_/contradictionViaFalsification.ipynb\" style=\"text-decoration: none\">&#x22A2;&nbsp;</a><a class=\"ProveItLink\" href=\"../b467887e61897aa75c82999d6e068c52f4136db40/expr.ipynb\"><img src=\"../b467887e61897aa75c82999d6e068c52f4136db40/expr.png\" style=\"display:inline;vertical-align:middle;\" /></a></span></td></tr>\n",
       "<tr><td>&nbsp;</td><td colspan=4 style-\"text-align:left\"><a class=\"ProveItLink\" href=\"../../_proofs_/contradictionViaFalsification.ipynb\">proveit.logic.equality.contradictionViaFalsification</a></td></tr><tr><td><a name=\"proveit.logic.equality.3294102aec2ed4b15cf596417969c86b638212a20_step8\">8</a></td><td>modus ponens</td><td><a href=\"#proveit.logic.equality.3294102aec2ed4b15cf596417969c86b638212a20_step9\">9</a>, <a href=\"#proveit.logic.equality.3294102aec2ed4b15cf596417969c86b638212a20_step10\">10</a></td><td><span style=\"font-size:20px;\"><a class=\"ProveItLink\" href=\"../4e1b89776474e0a5d7dd404a16106b61a80ee7cd0/expr.ipynb\"><img src=\"../4e1b89776474e0a5d7dd404a16106b61a80ee7cd0/expr.png\" style=\"display:inline;vertical-align:middle;\" /></a> <a class=\"ProveItLink\" href=\"../58158c6ab037e8e1e05cc82b6f91ccc3687777490/proof.ipynb\" style=\"text-decoration: none\">&#x22A2;&nbsp;</a><a class=\"ProveItLink\" href=\"../../../boolean/__pv_it/cbaed1e9bf4dad882eaaad879a1e1579071af7800/expr.ipynb\"><img src=\"../../../boolean/__pv_it/cbaed1e9bf4dad882eaaad879a1e1579071af7800/expr.png\" style=\"display:inline;vertical-align:middle;\" /></a></span></td></tr>\n",
       "<tr><td><a name=\"proveit.logic.equality.3294102aec2ed4b15cf596417969c86b638212a20_step9\">9</a></td><td>assumption</td><td></td><td><span style=\"font-size:20px;\"><a class=\"ProveItLink\" href=\"../b43ca426a728cf8451b0d126ed524b19e22913770/expr.ipynb\"><img src=\"../b43ca426a728cf8451b0d126ed524b19e22913770/expr.png\" style=\"display:inline;vertical-align:middle;\" /></a> <a class=\"ProveItLink\" href=\"../602ac2371096920e83dc05e9adfcbdcf02bed3050/proof.ipynb\" style=\"text-decoration: none\">&#x22A2;&nbsp;</a><a class=\"ProveItLink\" href=\"../../../boolean/__pv_it/034cdf4d29af40099ce25a77b782c31bf3814b7b0/expr.ipynb\"><img src=\"../../../boolean/__pv_it/034cdf4d29af40099ce25a77b782c31bf3814b7b0/expr.png\" style=\"display:inline;vertical-align:middle;\" /></a></span></td></tr>\n",
       "<tr><td><a name=\"proveit.logic.equality.3294102aec2ed4b15cf596417969c86b638212a20_step10\">10</a></td><td>instantiation</td><td><a href=\"#proveit.logic.equality.3294102aec2ed4b15cf596417969c86b638212a20_step11\">11</a>, <a href=\"#proveit.logic.equality.3294102aec2ed4b15cf596417969c86b638212a20_step12\">12</a></td><td><span style=\"font-size:20px;\"><a class=\"ProveItLink\" href=\"../59f1f131a403fe6dee4f5757d9e28efeec7c292e0/expr.ipynb\"><img src=\"../59f1f131a403fe6dee4f5757d9e28efeec7c292e0/expr.png\" style=\"display:inline;vertical-align:middle;\" /></a> <a class=\"ProveItLink\" href=\"../d4fd466acdb8dd151f7034cbb70c21b34a51c8840/proof.ipynb\" style=\"text-decoration: none\">&#x22A2;&nbsp;</a><a class=\"ProveItLink\" href=\"../../../../__pv_it/a8d4b3a34d2189508f9082853fbac36935714f280/expr.ipynb\"><img src=\"../../../../__pv_it/a8d4b3a34d2189508f9082853fbac36935714f280/expr.png\" style=\"display:inline;vertical-align:middle;\" /></a></span></td></tr>\n",
       "<tr><td>&nbsp;</td><td colspan=4 style=\"text-align:left\"><span style=\"font-size:20px;\"><a class=\"ProveItLink\" href=\"../../../../__pv_it/d3792d0d8642fdf1cd2a3a9b32c673ee13653de00/expr.ipynb\"><img src=\"../../../../__pv_it/d3792d0d8642fdf1cd2a3a9b32c673ee13653de00/expr.png\" style=\"display:inline;vertical-align:middle;\" /></a> : <a class=\"ProveItLink\" href=\"../../../../__pv_it/a8d4b3a34d2189508f9082853fbac36935714f280/expr.ipynb\"><img src=\"../../../../__pv_it/a8d4b3a34d2189508f9082853fbac36935714f280/expr.png\" style=\"display:inline;vertical-align:middle;\" /></a></span></td></tr><tr><td><a name=\"proveit.logic.equality.3294102aec2ed4b15cf596417969c86b638212a20_step11\">11</a></td><td>axiom</td><td></td><td><span style=\"font-size:20px;\"> <a class=\"ProveItLink\" href=\"../../../boolean/negation/_axioms_.ipynb#doubleNegationElim\" style=\"text-decoration: none\">&#x22A2;&nbsp;</a><a class=\"ProveItLink\" href=\"../cae0fc0a347d98ab5e5bb400e2ea43ab0d21f5410/expr.ipynb\"><img src=\"../cae0fc0a347d98ab5e5bb400e2ea43ab0d21f5410/expr.png\" style=\"display:inline;vertical-align:middle;\" /></a></span></td></tr>\n",
       "<tr><td>&nbsp;</td><td colspan=4 style-\"text-align:left\"><a class=\"ProveItLink\" href=\"../../../boolean/negation/_axioms_.ipynb#doubleNegationElim\">proveit.logic.boolean.negation.doubleNegationElim</a></td></tr><tr><td><a name=\"proveit.logic.equality.3294102aec2ed4b15cf596417969c86b638212a20_step12\">12</a></td><td>assumption</td><td></td><td><span style=\"font-size:20px;\"><a class=\"ProveItLink\" href=\"../59f1f131a403fe6dee4f5757d9e28efeec7c292e0/expr.ipynb\"><img src=\"../59f1f131a403fe6dee4f5757d9e28efeec7c292e0/expr.png\" style=\"display:inline;vertical-align:middle;\" /></a> <a class=\"ProveItLink\" href=\"../d33ed28be602be03a8a1db3948e9aa5bff8cd6c30/proof.ipynb\" style=\"text-decoration: none\">&#x22A2;&nbsp;</a><a class=\"ProveItLink\" href=\"../../../boolean/__pv_it/042fe3505369203ea8b917f910bd10f30f035d610/expr.ipynb\"><img src=\"../../../boolean/__pv_it/042fe3505369203ea8b917f910bd10f30f035d610/expr.png\" style=\"display:inline;vertical-align:middle;\" /></a></span></td></tr>\n",
       "</table>"
      ],
      "text/plain": [
       "<proveit._core_.proof._ShowProof at 0x7f5b9a85ba58>"
      ]
     },
     "execution_count": 1,
     "metadata": {},
     "output_type": "execute_result"
    }
   ],
   "source": [
    "import proveit\n",
    "# Automation is not needed when only showing a stored proof:\n",
    "proveit.defaults.automation = False # This will speed things up.\n",
    "proveit.defaults.inline_pngs = False # Makes files smaller.\n",
    "%show_proof"
   ]
  },
  {
   "cell_type": "code",
   "execution_count": null,
   "metadata": {},
   "outputs": [],
   "source": []
  }
 ],
 "metadata": {
  "kernelspec": {
   "display_name": "Python 3",
   "language": "python",
   "name": "python3"
  },
  "language_info": {
   "codemirror_mode": {
    "name": "ipython",
    "version": 3
   },
   "file_extension": ".py",
   "mimetype": "text/x-python",
   "name": "python",
   "nbconvert_exporter": "python",
   "pygments_lexer": "ipython3",
   "version": "3.7.3"
  }
 },
 "nbformat": 4,
 "nbformat_minor": 1
}
