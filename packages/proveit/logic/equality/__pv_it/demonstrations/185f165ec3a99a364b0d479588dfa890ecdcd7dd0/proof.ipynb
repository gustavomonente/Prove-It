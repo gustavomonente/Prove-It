{
 "cells": [
  {
   "cell_type": "markdown",
   "metadata": {},
   "source": [
    "Show the Proof\n",
    "========"
   ]
  },
  {
   "cell_type": "code",
   "execution_count": 1,
   "metadata": {},
   "outputs": [
    {
     "data": {
      "text/html": [
       "<table><tr><th>&nbsp;</th><th>step type</th><th>requirements</th><th>statement</th></tr>\n",
       "<tr><td><a name=\"proveit.logic.equality.demonstrations.185f165ec3a99a364b0d479588dfa890ecdcd7dd0_step0\">0</a></td><td>modus ponens</td><td><a href=\"#proveit.logic.equality.demonstrations.185f165ec3a99a364b0d479588dfa890ecdcd7dd0_step1\">1</a>, <a href=\"#proveit.logic.equality.demonstrations.185f165ec3a99a364b0d479588dfa890ecdcd7dd0_step2\">2</a></td><td><span style=\"font-size:20px;\"><a class=\"ProveItLink\" href=\"../7fb256058400f7a60c3cd4e7ae266199aa2a6ef50/expr.ipynb\"><img src=\"../7fb256058400f7a60c3cd4e7ae266199aa2a6ef50/expr.png\" style=\"display:inline;vertical-align:middle;\" /></a>, <a class=\"ProveItLink\" href=\"../df63d8d3e9bc4afbb76b8affc27c6a8575cadc9f0/expr.ipynb\"><img src=\"../df63d8d3e9bc4afbb76b8affc27c6a8575cadc9f0/expr.png\" style=\"display:inline;vertical-align:middle;\" /></a> <a class=\"ProveItLink\" href=\"proof.ipynb\" style=\"text-decoration: none\">&nbsp;&#x22A2;&nbsp;&nbsp;</a><a class=\"ProveItLink\" href=\"../d1fe93bfc19aaa0754e55388ecf4a70c8f653eb20/expr.ipynb\"><img src=\"../d1fe93bfc19aaa0754e55388ecf4a70c8f653eb20/expr.png\" style=\"display:inline;vertical-align:middle;\" /></a></span></td></tr>\n",
       "<tr><td><a name=\"proveit.logic.equality.demonstrations.185f165ec3a99a364b0d479588dfa890ecdcd7dd0_step1\">1</a></td><td>assumption</td><td></td><td><span style=\"font-size:20px;\"><a class=\"ProveItLink\" href=\"../7fb256058400f7a60c3cd4e7ae266199aa2a6ef50/expr.ipynb\"><img src=\"../7fb256058400f7a60c3cd4e7ae266199aa2a6ef50/expr.png\" style=\"display:inline;vertical-align:middle;\" /></a> <a class=\"ProveItLink\" href=\"../e01ad73020aadf3268b19f90d63419265894ac240/proof.ipynb\" style=\"text-decoration: none\">&nbsp;&#x22A2;&nbsp;&nbsp;</a><a class=\"ProveItLink\" href=\"../7fb256058400f7a60c3cd4e7ae266199aa2a6ef50/expr.ipynb\"><img src=\"../7fb256058400f7a60c3cd4e7ae266199aa2a6ef50/expr.png\" style=\"display:inline;vertical-align:middle;\" /></a></span></td></tr>\n",
       "<tr><td><a name=\"proveit.logic.equality.demonstrations.185f165ec3a99a364b0d479588dfa890ecdcd7dd0_step2\">2</a></td><td>assumption</td><td></td><td><span style=\"font-size:20px;\"><a class=\"ProveItLink\" href=\"../df63d8d3e9bc4afbb76b8affc27c6a8575cadc9f0/expr.ipynb\"><img src=\"../df63d8d3e9bc4afbb76b8affc27c6a8575cadc9f0/expr.png\" style=\"display:inline;vertical-align:middle;\" /></a> <a class=\"ProveItLink\" href=\"../80ec11cd160b9c793a4cea35eb55767653a358390/proof.ipynb\" style=\"text-decoration: none\">&nbsp;&#x22A2;&nbsp;&nbsp;</a><a class=\"ProveItLink\" href=\"../df63d8d3e9bc4afbb76b8affc27c6a8575cadc9f0/expr.ipynb\"><img src=\"../df63d8d3e9bc4afbb76b8affc27c6a8575cadc9f0/expr.png\" style=\"display:inline;vertical-align:middle;\" /></a></span></td></tr>\n",
       "</table>"
      ],
      "text/plain": [
       "<proveit._core_.proof._ShowProof at 0x7f1cf5bd8cc0>"
      ]
     },
     "execution_count": 1,
     "metadata": {},
     "output_type": "execute_result"
    }
   ],
   "source": [
    "import proveit\n",
    "# Automation is not needed when only showing a stored proof:\n",
    "proveit.defaults.automation = False # This will speed things up.\n",
    "proveit.defaults.inline_pngs = False # Makes files smaller.\n",
    "%show_proof"
   ]
  },
  {
   "cell_type": "code",
   "execution_count": null,
   "metadata": {},
   "outputs": [],
   "source": []
  }
 ],
 "metadata": {
  "kernelspec": {
   "display_name": "Python 3",
   "language": "python",
   "name": "python3"
  }
 },
 "nbformat": 4,
 "nbformat_minor": 0
}