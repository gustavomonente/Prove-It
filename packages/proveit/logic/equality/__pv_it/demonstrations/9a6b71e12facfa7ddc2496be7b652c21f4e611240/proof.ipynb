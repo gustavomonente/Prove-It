{
 "cells": [
  {
   "cell_type": "markdown",
   "metadata": {},
   "source": [
    "Show the Proof\n",
    "========"
   ]
  },
  {
   "cell_type": "code",
   "execution_count": 1,
   "metadata": {},
   "outputs": [
    {
     "data": {
      "text/html": [
       "<table><tr><th>&nbsp;</th><th>step type</th><th>requirements</th><th>statement</th></tr>\n",
       "<tr><td><a name=\"proveit.logic.equality.demonstrations.9a6b71e12facfa7ddc2496be7b652c21f4e611240_step0\">0</a></td><td>instantiation</td><td><a href=\"#proveit.logic.equality.demonstrations.9a6b71e12facfa7ddc2496be7b652c21f4e611240_step1\">1</a>, <a href=\"#proveit.logic.equality.demonstrations.9a6b71e12facfa7ddc2496be7b652c21f4e611240_step2\">2</a>, <a href=\"#proveit.logic.equality.demonstrations.9a6b71e12facfa7ddc2496be7b652c21f4e611240_step3\">3</a></td><td><span style=\"font-size:20px;\"><a class=\"ProveItLink\" href=\"../f3ef1281ce14cb301bb153fbb23947aa0b41bdf50/expr.ipynb\"><img src=\"../f3ef1281ce14cb301bb153fbb23947aa0b41bdf50/expr.png\" style=\"display:inline;vertical-align:middle;\" /></a>, <a class=\"ProveItLink\" href=\"../23866f875c699ad1b7d838d989e159e8c6521e3f0/expr.ipynb\"><img src=\"../23866f875c699ad1b7d838d989e159e8c6521e3f0/expr.png\" style=\"display:inline;vertical-align:middle;\" /></a> <a class=\"ProveItLink\" href=\"proof.ipynb\" style=\"text-decoration: none\">&nbsp;&#x22A2;&nbsp;&nbsp;</a><a class=\"ProveItLink\" href=\"../df63d8d3e9bc4afbb76b8affc27c6a8575cadc9f0/expr.ipynb\"><img src=\"../df63d8d3e9bc4afbb76b8affc27c6a8575cadc9f0/expr.png\" style=\"display:inline;vertical-align:middle;\" /></a></span></td></tr>\n",
       "<tr><td>&nbsp;</td><td colspan=4 style=\"text-align:left\"><span style=\"font-size:20px;\"><a class=\"ProveItLink\" href=\"../../../../../__pv_it/common/09585084922504426caf1db2ff588a23a0932a960/expr.ipynb\"><img src=\"../../../../../__pv_it/common/09585084922504426caf1db2ff588a23a0932a960/expr.png\" style=\"display:inline;vertical-align:middle;\" /></a> : <a class=\"ProveItLink\" href=\"../../../../../__pv_it/common/195236b98c6c564a75b5dbada74b173bc52d5c3e0/expr.ipynb\"><img src=\"../../../../../__pv_it/common/195236b98c6c564a75b5dbada74b173bc52d5c3e0/expr.png\" style=\"display:inline;vertical-align:middle;\" /></a></span></td></tr><tr><td><a name=\"proveit.logic.equality.demonstrations.9a6b71e12facfa7ddc2496be7b652c21f4e611240_step1\">1</a></td><td>axiom</td><td></td><td><span style=\"font-size:20px;\"> <a class=\"ProveItLink\" href=\"../../../../booleans/implication/_theory_nbs_/axioms.ipynb#denial_via_contradiction\" style=\"text-decoration: none\">&nbsp;&#x22A2;&nbsp;&nbsp;</a><a class=\"ProveItLink\" href=\"../../../../booleans/implication/__pv_it/axioms/3ba42e63897df1b59e5482fb39e92b105a4e201b0/expr.ipynb\"><img src=\"../../../../booleans/implication/__pv_it/axioms/3ba42e63897df1b59e5482fb39e92b105a4e201b0/expr.png\" style=\"display:inline;vertical-align:middle;\" /></a></span></td></tr>\n",
       "<tr><td>&nbsp;</td><td colspan=4 style-\"text-align:left\"><a class=\"ProveItLink\" href=\"../../../../booleans/implication/_theory_nbs_/axioms.ipynb#denial_via_contradiction\">proveit.logic.booleans.implication.denial_via_contradiction</a></td></tr><tr><td><a name=\"proveit.logic.equality.demonstrations.9a6b71e12facfa7ddc2496be7b652c21f4e611240_step2\">2</a></td><td>assumption</td><td></td><td><span style=\"font-size:20px;\"><a class=\"ProveItLink\" href=\"../f3ef1281ce14cb301bb153fbb23947aa0b41bdf50/expr.ipynb\"><img src=\"../f3ef1281ce14cb301bb153fbb23947aa0b41bdf50/expr.png\" style=\"display:inline;vertical-align:middle;\" /></a> <a class=\"ProveItLink\" href=\"../28fae1fe96eb1c871bbb72e7877516141a8af6370/proof.ipynb\" style=\"text-decoration: none\">&nbsp;&#x22A2;&nbsp;&nbsp;</a><a class=\"ProveItLink\" href=\"../f3ef1281ce14cb301bb153fbb23947aa0b41bdf50/expr.ipynb\"><img src=\"../f3ef1281ce14cb301bb153fbb23947aa0b41bdf50/expr.png\" style=\"display:inline;vertical-align:middle;\" /></a></span></td></tr>\n",
       "<tr><td><a name=\"proveit.logic.equality.demonstrations.9a6b71e12facfa7ddc2496be7b652c21f4e611240_step3\">3</a></td><td>deduction</td><td><a href=\"#proveit.logic.equality.demonstrations.9a6b71e12facfa7ddc2496be7b652c21f4e611240_step4\">4</a></td><td><span style=\"font-size:20px;\"><a class=\"ProveItLink\" href=\"../23866f875c699ad1b7d838d989e159e8c6521e3f0/expr.ipynb\"><img src=\"../23866f875c699ad1b7d838d989e159e8c6521e3f0/expr.png\" style=\"display:inline;vertical-align:middle;\" /></a> <a class=\"ProveItLink\" href=\"../1b4e34ece53bc5304e3d2ddb6feaa71a91a411e40/proof.ipynb\" style=\"text-decoration: none\">&nbsp;&#x22A2;&nbsp;&nbsp;</a><a class=\"ProveItLink\" href=\"../07ca3828fd54b41a0f227eed12095adc2bf4a5ec0/expr.ipynb\"><img src=\"../07ca3828fd54b41a0f227eed12095adc2bf4a5ec0/expr.png\" style=\"display:inline;vertical-align:middle;\" /></a></span></td></tr>\n",
       "<tr><td><a name=\"proveit.logic.equality.demonstrations.9a6b71e12facfa7ddc2496be7b652c21f4e611240_step4\">4</a></td><td>instantiation</td><td><a href=\"#proveit.logic.equality.demonstrations.9a6b71e12facfa7ddc2496be7b652c21f4e611240_step5\">5</a>, <a href=\"#proveit.logic.equality.demonstrations.9a6b71e12facfa7ddc2496be7b652c21f4e611240_step8\">8</a>, <a href=\"#proveit.logic.equality.demonstrations.9a6b71e12facfa7ddc2496be7b652c21f4e611240_step6\">6</a></td><td><span style=\"font-size:20px;\"><a class=\"ProveItLink\" href=\"../../../../../__pv_it/common/195236b98c6c564a75b5dbada74b173bc52d5c3e0/expr.ipynb\"><img src=\"../../../../../__pv_it/common/195236b98c6c564a75b5dbada74b173bc52d5c3e0/expr.png\" style=\"display:inline;vertical-align:middle;\" /></a>, <a class=\"ProveItLink\" href=\"../23866f875c699ad1b7d838d989e159e8c6521e3f0/expr.ipynb\"><img src=\"../23866f875c699ad1b7d838d989e159e8c6521e3f0/expr.png\" style=\"display:inline;vertical-align:middle;\" /></a> <a class=\"ProveItLink\" href=\"../5ff6f672217b8af9b966db84b4374de0b16c5cb00/proof.ipynb\" style=\"text-decoration: none\">&nbsp;&#x22A2;&nbsp;&nbsp;</a><a class=\"ProveItLink\" href=\"../../../../booleans/__pv_it/common/e0f123f2e4f322e1eba7f861749cda9fd9d99a120/expr.ipynb\"><img src=\"../../../../booleans/__pv_it/common/e0f123f2e4f322e1eba7f861749cda9fd9d99a120/expr.png\" style=\"display:inline;vertical-align:middle;\" /></a></span></td></tr>\n",
       "<tr><td>&nbsp;</td><td colspan=4 style=\"text-align:left\"><span style=\"font-size:20px;\"><a class=\"ProveItLink\" href=\"../../../../../__pv_it/common/09585084922504426caf1db2ff588a23a0932a960/expr.ipynb\"><img src=\"../../../../../__pv_it/common/09585084922504426caf1db2ff588a23a0932a960/expr.png\" style=\"display:inline;vertical-align:middle;\" /></a> : <a class=\"ProveItLink\" href=\"../../../../../__pv_it/common/195236b98c6c564a75b5dbada74b173bc52d5c3e0/expr.ipynb\"><img src=\"../../../../../__pv_it/common/195236b98c6c564a75b5dbada74b173bc52d5c3e0/expr.png\" style=\"display:inline;vertical-align:middle;\" /></a></span></td></tr><tr><td><a name=\"proveit.logic.equality.demonstrations.9a6b71e12facfa7ddc2496be7b652c21f4e611240_step5\">5</a></td><td>theorem</td><td></td><td><span style=\"font-size:20px;\"> <a class=\"ProveItLink\" href=\"../../../_theory_nbs_/proofs/contradiction_via_falsification/thm_proof.ipynb\" style=\"text-decoration: none\">&nbsp;&#x22A2;&nbsp;&nbsp;</a><a class=\"ProveItLink\" href=\"../../theorems/f280c8f63b5f11e24d65ca602ca7ff41cecd2bcc0/expr.ipynb\"><img src=\"../../theorems/f280c8f63b5f11e24d65ca602ca7ff41cecd2bcc0/expr.png\" style=\"display:inline;vertical-align:middle;\" /></a></span></td></tr>\n",
       "<tr><td>&nbsp;</td><td colspan=4 style-\"text-align:left\"><a class=\"ProveItLink\" href=\"../../../_theory_nbs_/proofs/contradiction_via_falsification/thm_proof.ipynb\">proveit.logic.equality.contradiction_via_falsification</a></td></tr><tr><td><a name=\"proveit.logic.equality.demonstrations.9a6b71e12facfa7ddc2496be7b652c21f4e611240_step6\">6</a></td><td>modus ponens</td><td><a href=\"#proveit.logic.equality.demonstrations.9a6b71e12facfa7ddc2496be7b652c21f4e611240_step7\">7</a>, <a href=\"#proveit.logic.equality.demonstrations.9a6b71e12facfa7ddc2496be7b652c21f4e611240_step8\">8</a></td><td><span style=\"font-size:20px;\"><a class=\"ProveItLink\" href=\"../23866f875c699ad1b7d838d989e159e8c6521e3f0/expr.ipynb\"><img src=\"../23866f875c699ad1b7d838d989e159e8c6521e3f0/expr.png\" style=\"display:inline;vertical-align:middle;\" /></a>, <a class=\"ProveItLink\" href=\"../../../../../__pv_it/common/195236b98c6c564a75b5dbada74b173bc52d5c3e0/expr.ipynb\"><img src=\"../../../../../__pv_it/common/195236b98c6c564a75b5dbada74b173bc52d5c3e0/expr.png\" style=\"display:inline;vertical-align:middle;\" /></a> <a class=\"ProveItLink\" href=\"../c6fe3794d077d9274eaf4443c1437067c23dbf570/proof.ipynb\" style=\"text-decoration: none\">&nbsp;&#x22A2;&nbsp;&nbsp;</a><a class=\"ProveItLink\" href=\"../1eb7a015aa0093426bf6ecad35b762103912a8e20/expr.ipynb\"><img src=\"../1eb7a015aa0093426bf6ecad35b762103912a8e20/expr.png\" style=\"display:inline;vertical-align:middle;\" /></a></span></td></tr>\n",
       "<tr><td><a name=\"proveit.logic.equality.demonstrations.9a6b71e12facfa7ddc2496be7b652c21f4e611240_step7\">7</a></td><td>assumption</td><td></td><td><span style=\"font-size:20px;\"><a class=\"ProveItLink\" href=\"../23866f875c699ad1b7d838d989e159e8c6521e3f0/expr.ipynb\"><img src=\"../23866f875c699ad1b7d838d989e159e8c6521e3f0/expr.png\" style=\"display:inline;vertical-align:middle;\" /></a> <a class=\"ProveItLink\" href=\"../f56ba8d66991e55847edcc71d399d97478ce4abe0/proof.ipynb\" style=\"text-decoration: none\">&nbsp;&#x22A2;&nbsp;&nbsp;</a><a class=\"ProveItLink\" href=\"../23866f875c699ad1b7d838d989e159e8c6521e3f0/expr.ipynb\"><img src=\"../23866f875c699ad1b7d838d989e159e8c6521e3f0/expr.png\" style=\"display:inline;vertical-align:middle;\" /></a></span></td></tr>\n",
       "<tr><td><a name=\"proveit.logic.equality.demonstrations.9a6b71e12facfa7ddc2496be7b652c21f4e611240_step8\">8</a></td><td>assumption</td><td></td><td><span style=\"font-size:20px;\"><a class=\"ProveItLink\" href=\"../../../../../__pv_it/common/195236b98c6c564a75b5dbada74b173bc52d5c3e0/expr.ipynb\"><img src=\"../../../../../__pv_it/common/195236b98c6c564a75b5dbada74b173bc52d5c3e0/expr.png\" style=\"display:inline;vertical-align:middle;\" /></a> <a class=\"ProveItLink\" href=\"../fb80b87ac4513fee2d0ebc85a0630bcb52c436cb0/proof.ipynb\" style=\"text-decoration: none\">&nbsp;&#x22A2;&nbsp;&nbsp;</a><a class=\"ProveItLink\" href=\"../../../../../__pv_it/common/195236b98c6c564a75b5dbada74b173bc52d5c3e0/expr.ipynb\"><img src=\"../../../../../__pv_it/common/195236b98c6c564a75b5dbada74b173bc52d5c3e0/expr.png\" style=\"display:inline;vertical-align:middle;\" /></a></span></td></tr>\n",
       "</table>"
      ],
      "text/plain": [
       "<proveit._core_.proof._ShowProof at 0x7f9fc2daa5c0>"
      ]
     },
     "execution_count": 1,
     "metadata": {},
     "output_type": "execute_result"
    }
   ],
   "source": [
    "import proveit\n",
    "# Automation is not needed when only showing a stored proof:\n",
    "proveit.defaults.automation = False # This will speed things up.\n",
    "proveit.defaults.inline_pngs = False # Makes files smaller.\n",
    "%show_proof"
   ]
  },
  {
   "cell_type": "code",
   "execution_count": null,
   "metadata": {},
   "outputs": [],
   "source": []
  }
 ],
 "metadata": {
  "kernelspec": {
   "display_name": "Python 3",
   "language": "python",
   "name": "python3"
  }
 },
 "nbformat": 4,
 "nbformat_minor": 0
}