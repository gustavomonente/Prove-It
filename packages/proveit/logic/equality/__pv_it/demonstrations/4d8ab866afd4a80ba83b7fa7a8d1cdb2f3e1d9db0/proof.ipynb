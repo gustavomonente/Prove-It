{
 "cells": [
  {
   "cell_type": "markdown",
   "metadata": {},
   "source": [
    "Show the Proof\n",
    "========"
   ]
  },
  {
   "cell_type": "code",
   "execution_count": 1,
   "metadata": {},
   "outputs": [
    {
     "data": {
      "text/html": [
       "<table><tr><th>&nbsp;</th><th>step type</th><th>requirements</th><th>statement</th></tr>\n",
       "<tr><td><a name=\"proveit.logic.equality.demonstrations.4d8ab866afd4a80ba83b7fa7a8d1cdb2f3e1d9db0_step0\">0</a></td><td>instantiation</td><td><a href=\"#proveit.logic.equality.demonstrations.4d8ab866afd4a80ba83b7fa7a8d1cdb2f3e1d9db0_step1\">1</a>, <a href=\"#proveit.logic.equality.demonstrations.4d8ab866afd4a80ba83b7fa7a8d1cdb2f3e1d9db0_step2\">2</a>, <a href=\"#proveit.logic.equality.demonstrations.4d8ab866afd4a80ba83b7fa7a8d1cdb2f3e1d9db0_step3\">3</a></td><td><span style=\"font-size:20px;\"><a class=\"ProveItLink\" href=\"../be2b0514f2f025f3a8f9055b1a20b3d8f315b25b0/expr.ipynb\"><img src=\"../be2b0514f2f025f3a8f9055b1a20b3d8f315b25b0/expr.png\" style=\"display:inline;vertical-align:middle;\" /></a>, <a class=\"ProveItLink\" href=\"../17559f4712c24278bdce021f27931e93dfbb6f3a0/expr.ipynb\"><img src=\"../17559f4712c24278bdce021f27931e93dfbb6f3a0/expr.png\" style=\"display:inline;vertical-align:middle;\" /></a> <a class=\"ProveItLink\" href=\"proof.ipynb\" style=\"text-decoration: none\">&nbsp;&#x22A2;&nbsp;&nbsp;</a><a class=\"ProveItLink\" href=\"../../../../booleans/__pv_it/common/bc5c31e39ae582b67c89fb24025b57f5b995e8890/expr.ipynb\"><img src=\"../../../../booleans/__pv_it/common/bc5c31e39ae582b67c89fb24025b57f5b995e8890/expr.png\" style=\"display:inline;vertical-align:middle;\" /></a></span></td></tr>\n",
       "<tr><td>&nbsp;</td><td colspan=4 style=\"text-align:left\"><span style=\"font-size:20px;\"><a class=\"ProveItLink\" href=\"../../../../../__pv_it/common/e4aad701f7f5516d8e7f0d805d518bf02c13322a0/expr.ipynb\"><img src=\"../../../../../__pv_it/common/e4aad701f7f5516d8e7f0d805d518bf02c13322a0/expr.png\" style=\"display:inline;vertical-align:middle;\" /></a> : <a class=\"ProveItLink\" href=\"../../../../../__pv_it/common/66c90e66682f107a881f2d666959f64e2e72ad750/expr.ipynb\"><img src=\"../../../../../__pv_it/common/66c90e66682f107a881f2d666959f64e2e72ad750/expr.png\" style=\"display:inline;vertical-align:middle;\" /></a></span></td></tr><tr><td><a name=\"proveit.logic.equality.demonstrations.4d8ab866afd4a80ba83b7fa7a8d1cdb2f3e1d9db0_step1\">1</a></td><td>theorem</td><td></td><td><span style=\"font-size:20px;\"> <a class=\"ProveItLink\" href=\"../../../_theory_nbs_/proofs/contradiction_via_falsification/thm_proof.ipynb\" style=\"text-decoration: none\">&nbsp;&#x22A2;&nbsp;&nbsp;</a><a class=\"ProveItLink\" href=\"../../theorems/83c2be43b221dcec657c02259957f1e0ea734e5b0/expr.ipynb\"><img src=\"../../theorems/83c2be43b221dcec657c02259957f1e0ea734e5b0/expr.png\" style=\"display:inline;vertical-align:middle;\" /></a></span></td></tr>\n",
       "<tr><td>&nbsp;</td><td colspan=4 style-\"text-align:left\"><a class=\"ProveItLink\" href=\"../../../_theory_nbs_/proofs/contradiction_via_falsification/thm_proof.ipynb\">proveit.logic.equality.contradiction_via_falsification</a></td></tr><tr><td><a name=\"proveit.logic.equality.demonstrations.4d8ab866afd4a80ba83b7fa7a8d1cdb2f3e1d9db0_step2\">2</a></td><td><i>reference</i></td><td><a href=\"#proveit.logic.equality.demonstrations.4d8ab866afd4a80ba83b7fa7a8d1cdb2f3e1d9db0_step5\">5</a></td><td><span style=\"font-size:20px;\"><a class=\"ProveItLink\" href=\"../be2b0514f2f025f3a8f9055b1a20b3d8f315b25b0/expr.ipynb\"><img src=\"../be2b0514f2f025f3a8f9055b1a20b3d8f315b25b0/expr.png\" style=\"display:inline;vertical-align:middle;\" /></a> <a class=\"ProveItLink\" href=\"../19cf1b46fc1ac9a49806ba10e9e0e73e0acdb31f0/proof.ipynb\" style=\"text-decoration: none\">&nbsp;&#x22A2;&nbsp;&nbsp;</a><a class=\"ProveItLink\" href=\"../../../../../__pv_it/common/66c90e66682f107a881f2d666959f64e2e72ad750/expr.ipynb\"><img src=\"../../../../../__pv_it/common/66c90e66682f107a881f2d666959f64e2e72ad750/expr.png\" style=\"display:inline;vertical-align:middle;\" /></a></span></td></tr>\n",
       "<tr><td><a name=\"proveit.logic.equality.demonstrations.4d8ab866afd4a80ba83b7fa7a8d1cdb2f3e1d9db0_step3\">3</a></td><td>modus ponens</td><td><a href=\"#proveit.logic.equality.demonstrations.4d8ab866afd4a80ba83b7fa7a8d1cdb2f3e1d9db0_step4\">4</a>, <a href=\"#proveit.logic.equality.demonstrations.4d8ab866afd4a80ba83b7fa7a8d1cdb2f3e1d9db0_step5\">5</a></td><td><span style=\"font-size:20px;\"><a class=\"ProveItLink\" href=\"../17559f4712c24278bdce021f27931e93dfbb6f3a0/expr.ipynb\"><img src=\"../17559f4712c24278bdce021f27931e93dfbb6f3a0/expr.png\" style=\"display:inline;vertical-align:middle;\" /></a>, <a class=\"ProveItLink\" href=\"../be2b0514f2f025f3a8f9055b1a20b3d8f315b25b0/expr.ipynb\"><img src=\"../be2b0514f2f025f3a8f9055b1a20b3d8f315b25b0/expr.png\" style=\"display:inline;vertical-align:middle;\" /></a> <a class=\"ProveItLink\" href=\"../e63d82218e0f73f17ff332eccf8c47f09fcf058e0/proof.ipynb\" style=\"text-decoration: none\">&nbsp;&#x22A2;&nbsp;&nbsp;</a><a class=\"ProveItLink\" href=\"../09d1409b7722d37c24506454d6eef9c5a1be93d20/expr.ipynb\"><img src=\"../09d1409b7722d37c24506454d6eef9c5a1be93d20/expr.png\" style=\"display:inline;vertical-align:middle;\" /></a></span></td></tr>\n",
       "<tr><td><a name=\"proveit.logic.equality.demonstrations.4d8ab866afd4a80ba83b7fa7a8d1cdb2f3e1d9db0_step4\">4</a></td><td>assumption</td><td></td><td><span style=\"font-size:20px;\"><a class=\"ProveItLink\" href=\"../17559f4712c24278bdce021f27931e93dfbb6f3a0/expr.ipynb\"><img src=\"../17559f4712c24278bdce021f27931e93dfbb6f3a0/expr.png\" style=\"display:inline;vertical-align:middle;\" /></a> <a class=\"ProveItLink\" href=\"../de934b3a11b7625aeaed06a2dba5d9f71cd2b0240/proof.ipynb\" style=\"text-decoration: none\">&nbsp;&#x22A2;&nbsp;&nbsp;</a><a class=\"ProveItLink\" href=\"../17559f4712c24278bdce021f27931e93dfbb6f3a0/expr.ipynb\"><img src=\"../17559f4712c24278bdce021f27931e93dfbb6f3a0/expr.png\" style=\"display:inline;vertical-align:middle;\" /></a></span></td></tr>\n",
       "<tr><td><a name=\"proveit.logic.equality.demonstrations.4d8ab866afd4a80ba83b7fa7a8d1cdb2f3e1d9db0_step5\">5</a></td><td>instantiation</td><td><a href=\"#proveit.logic.equality.demonstrations.4d8ab866afd4a80ba83b7fa7a8d1cdb2f3e1d9db0_step6\">6</a>, <a href=\"#proveit.logic.equality.demonstrations.4d8ab866afd4a80ba83b7fa7a8d1cdb2f3e1d9db0_step7\">7</a></td><td><span style=\"font-size:20px;\"><a class=\"ProveItLink\" href=\"../be2b0514f2f025f3a8f9055b1a20b3d8f315b25b0/expr.ipynb\"><img src=\"../be2b0514f2f025f3a8f9055b1a20b3d8f315b25b0/expr.png\" style=\"display:inline;vertical-align:middle;\" /></a> <a class=\"ProveItLink\" href=\"../19cf1b46fc1ac9a49806ba10e9e0e73e0acdb31f0/proof.ipynb\" style=\"text-decoration: none\">&nbsp;&#x22A2;&nbsp;&nbsp;</a><a class=\"ProveItLink\" href=\"../../../../../__pv_it/common/66c90e66682f107a881f2d666959f64e2e72ad750/expr.ipynb\"><img src=\"../../../../../__pv_it/common/66c90e66682f107a881f2d666959f64e2e72ad750/expr.png\" style=\"display:inline;vertical-align:middle;\" /></a></span></td></tr>\n",
       "<tr><td>&nbsp;</td><td colspan=4 style=\"text-align:left\"><span style=\"font-size:20px;\"><a class=\"ProveItLink\" href=\"../../../../../__pv_it/common/e4aad701f7f5516d8e7f0d805d518bf02c13322a0/expr.ipynb\"><img src=\"../../../../../__pv_it/common/e4aad701f7f5516d8e7f0d805d518bf02c13322a0/expr.png\" style=\"display:inline;vertical-align:middle;\" /></a> : <a class=\"ProveItLink\" href=\"../../../../../__pv_it/common/66c90e66682f107a881f2d666959f64e2e72ad750/expr.ipynb\"><img src=\"../../../../../__pv_it/common/66c90e66682f107a881f2d666959f64e2e72ad750/expr.png\" style=\"display:inline;vertical-align:middle;\" /></a></span></td></tr><tr><td><a name=\"proveit.logic.equality.demonstrations.4d8ab866afd4a80ba83b7fa7a8d1cdb2f3e1d9db0_step6\">6</a></td><td>theorem</td><td></td><td><span style=\"font-size:20px;\"> <a class=\"ProveItLink\" href=\"../../../../booleans/negation/_theory_nbs_/proofs/double_negation_elim/thm_proof.ipynb\" style=\"text-decoration: none\">&nbsp;&#x22A2;&nbsp;&nbsp;</a><a class=\"ProveItLink\" href=\"../../../../booleans/negation/__pv_it/theorems/fcdeb2e5119825945eacabd6d9704764a7b138c20/expr.ipynb\"><img src=\"../../../../booleans/negation/__pv_it/theorems/fcdeb2e5119825945eacabd6d9704764a7b138c20/expr.png\" style=\"display:inline;vertical-align:middle;\" /></a></span></td></tr>\n",
       "<tr><td>&nbsp;</td><td colspan=4 style-\"text-align:left\"><a class=\"ProveItLink\" href=\"../../../../booleans/negation/_theory_nbs_/proofs/double_negation_elim/thm_proof.ipynb\">proveit.logic.booleans.negation.double_negation_elim</a></td></tr><tr><td><a name=\"proveit.logic.equality.demonstrations.4d8ab866afd4a80ba83b7fa7a8d1cdb2f3e1d9db0_step7\">7</a></td><td>assumption</td><td></td><td><span style=\"font-size:20px;\"><a class=\"ProveItLink\" href=\"../be2b0514f2f025f3a8f9055b1a20b3d8f315b25b0/expr.ipynb\"><img src=\"../be2b0514f2f025f3a8f9055b1a20b3d8f315b25b0/expr.png\" style=\"display:inline;vertical-align:middle;\" /></a> <a class=\"ProveItLink\" href=\"../4361718097cfcee90aa528609cfe2264a27d9e830/proof.ipynb\" style=\"text-decoration: none\">&nbsp;&#x22A2;&nbsp;&nbsp;</a><a class=\"ProveItLink\" href=\"../be2b0514f2f025f3a8f9055b1a20b3d8f315b25b0/expr.ipynb\"><img src=\"../be2b0514f2f025f3a8f9055b1a20b3d8f315b25b0/expr.png\" style=\"display:inline;vertical-align:middle;\" /></a></span></td></tr>\n",
       "</table>"
      ],
      "text/plain": [
       "<proveit._core_.proof._ShowProof at 0x7f869b9c37f0>"
      ]
     },
     "execution_count": 1,
     "metadata": {},
     "output_type": "execute_result"
    }
   ],
   "source": [
    "import proveit\n",
    "# Automation is not needed when only showing a stored proof:\n",
    "proveit.defaults.automation = False # This will speed things up.\n",
    "proveit.defaults.inline_pngs = False # Makes files smaller.\n",
    "%show_proof"
   ]
  },
  {
   "cell_type": "code",
   "execution_count": null,
   "metadata": {},
   "outputs": [],
   "source": []
  }
 ],
 "metadata": {
  "kernelspec": {
   "display_name": "Python 3",
   "language": "python",
   "name": "python3"
  },
  "language_info": {
   "codemirror_mode": {
    "name": "ipython",
    "version": 3
   },
   "file_extension": ".py",
   "mimetype": "text/x-python",
   "name": "python",
   "nbconvert_exporter": "python",
   "pygments_lexer": "ipython3",
   "version": "3.7.3"
  }
 },
 "nbformat": 4,
 "nbformat_minor": 1
}