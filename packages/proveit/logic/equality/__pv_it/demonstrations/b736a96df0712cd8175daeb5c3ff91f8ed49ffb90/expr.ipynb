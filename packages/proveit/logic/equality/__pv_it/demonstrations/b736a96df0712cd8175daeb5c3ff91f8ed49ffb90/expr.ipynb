{
 "cells": [
  {
   "cell_type": "markdown",
   "metadata": {},
   "source": [
    "Expression of type <a class=\"ProveItLink\" href=\"../../../../../../../doc/html/api/proveit.logic.Equals.html\">Equals</a>\n",
    "=======================\n",
    "# from the theory of <a class=\"ProveItLink\" href=\"../../../_theory_nbs_/theory.ipynb\">proveit.logic.equality</a>"
   ]
  },
  {
   "cell_type": "code",
   "execution_count": 1,
   "metadata": {},
   "outputs": [],
   "source": [
    "import proveit\n",
    "# Automation is not needed when building an expression:\n",
    "proveit.defaults.automation = False # This will speed things up.\n",
    "proveit.defaults.inline_pngs = False # Makes files smaller.\n",
    "%load_expr # Load the stored expression as 'stored_expr'\n",
    "# import Expression classes needed to build the expression\n",
    "from proveit import a, b, c, d, y\n",
    "from proveit.logic import Equals\n",
    "from proveit.numbers import Add, Exp, frac"
   ]
  },
  {
   "cell_type": "code",
   "execution_count": 2,
   "metadata": {},
   "outputs": [
    {
     "data": {
      "text/html": [
       "<strong id=\"expr\">expr:</strong> <a class=\"ProveItLink\" href=\"expr.ipynb\"><img src=\"expr.png\" style=\"display:inline;vertical-align:middle;\" /></a><br>"
      ],
      "text/plain": [
       "expr: (a = (b + (c / d) + c^{d})) = (a = (b + (c / y) + c^{y}))"
      ]
     },
     "execution_count": 2,
     "metadata": {},
     "output_type": "execute_result"
    }
   ],
   "source": [
    "# build up the expression from sub-expressions\n",
    "expr = Equals(Equals(a, Add(b, frac(c, d), Exp(c, d))), Equals(a, Add(b, frac(c, y), Exp(c, y))))"
   ]
  },
  {
   "cell_type": "code",
   "execution_count": 3,
   "metadata": {},
   "outputs": [
    {
     "name": "stdout",
     "output_type": "stream",
     "text": [
      "Passed sanity check: expr matches stored_expr\n"
     ]
    }
   ],
   "source": [
    "# check that the built expression is the same as the stored expression\n",
    "assert expr == stored_expr\n",
    "assert expr._style_id == stored_expr._style_id\n",
    "print(\"Passed sanity check: expr matches stored_expr\")"
   ]
  },
  {
   "cell_type": "code",
   "execution_count": 4,
   "metadata": {},
   "outputs": [
    {
     "name": "stdout",
     "output_type": "stream",
     "text": [
      "\\left(a = \\left(b + \\frac{c}{d} + c^{d}\\right)\\right) = \\left(a = \\left(b + \\frac{c}{y} + c^{y}\\right)\\right)\n"
     ]
    }
   ],
   "source": [
    "# Show the LaTeX representation of the expression for convenience if you need it.\n",
    "print(expr.latex())"
   ]
  },
  {
   "cell_type": "code",
   "execution_count": 5,
   "metadata": {},
   "outputs": [
    {
     "data": {
      "text/html": [
       "<table><tr><th>&nbsp;</th><th>core type</th><th>sub-expressions</th><th>expression</th></tr>\n",
       "<tr><td>0</td><td>Operation</td><td>operator:&nbsp;5<br>operands:&nbsp;1<br></td><td><a class=\"ProveItLink\" href=\"expr.ipynb\"><img src=\"expr.png\" style=\"display:inline;vertical-align:middle;\" /></a></td></tr>\n",
       "<tr><td>1</td><td>ExprTuple</td><td>2, 3</td><td><a class=\"ProveItLink\" href=\"../c4f7832ded49d532c310237ec5e50a6a3e89fecc0/expr.ipynb\"><img src=\"../c4f7832ded49d532c310237ec5e50a6a3e89fecc0/expr.png\" style=\"display:inline;vertical-align:middle;\" /></a></td></tr>\n",
       "<tr><td>2</td><td>Operation</td><td>operator:&nbsp;5<br>operands:&nbsp;4<br></td><td><a class=\"ProveItLink\" href=\"../a09700323ffb39afa983412aa22a9625e33039150/expr.ipynb\"><img src=\"../a09700323ffb39afa983412aa22a9625e33039150/expr.png\" style=\"display:inline;vertical-align:middle;\" /></a></td></tr>\n",
       "<tr><td>3</td><td>Operation</td><td>operator:&nbsp;5<br>operands:&nbsp;6<br></td><td><a class=\"ProveItLink\" href=\"../9dcfd5058340aef9851f35df5c73a723330df6550/expr.ipynb\"><img src=\"../9dcfd5058340aef9851f35df5c73a723330df6550/expr.png\" style=\"display:inline;vertical-align:middle;\" /></a></td></tr>\n",
       "<tr><td>4</td><td>ExprTuple</td><td>8, 7</td><td><a class=\"ProveItLink\" href=\"../574bd0f5d045caea80c7d1559e763f6f8f07d3300/expr.ipynb\"><img src=\"../574bd0f5d045caea80c7d1559e763f6f8f07d3300/expr.png\" style=\"display:inline;vertical-align:middle;\" /></a></td></tr>\n",
       "<tr><td>5</td><td>Literal</td><td></td><td><a class=\"ProveItLink\" href=\"../../common/fb96dc12b2aa8801dda64d0132b396c63d1502bb0/expr.ipynb\"><img src=\"../../common/fb96dc12b2aa8801dda64d0132b396c63d1502bb0/expr.png\" style=\"display:inline;vertical-align:middle;\" /></a></td></tr>\n",
       "<tr><td>6</td><td>ExprTuple</td><td>8, 9</td><td><a class=\"ProveItLink\" href=\"../f446ad670b37b5c1793dd4f787f8f056fc889a000/expr.ipynb\"><img src=\"../f446ad670b37b5c1793dd4f787f8f056fc889a000/expr.png\" style=\"display:inline;vertical-align:middle;\" /></a></td></tr>\n",
       "<tr><td>7</td><td>Operation</td><td>operator:&nbsp;11<br>operands:&nbsp;10<br></td><td><a class=\"ProveItLink\" href=\"../732cf9a8b62a3bb8848e991d3e01a0e1d7ca26d50/expr.ipynb\"><img src=\"../732cf9a8b62a3bb8848e991d3e01a0e1d7ca26d50/expr.png\" style=\"display:inline;vertical-align:middle;\" /></a></td></tr>\n",
       "<tr><td>8</td><td>Variable</td><td></td><td><a class=\"ProveItLink\" href=\"../../../../../__pv_it/common/c06c606ec12678c58933ac85412ecadc2ae28be60/expr.ipynb\"><img src=\"../../../../../__pv_it/common/c06c606ec12678c58933ac85412ecadc2ae28be60/expr.png\" style=\"display:inline;vertical-align:middle;\" /></a></td></tr>\n",
       "<tr><td>9</td><td>Operation</td><td>operator:&nbsp;11<br>operands:&nbsp;12<br></td><td><a class=\"ProveItLink\" href=\"../f85f904d43a5ce24371a9b461bec2e21861ab4d50/expr.ipynb\"><img src=\"../f85f904d43a5ce24371a9b461bec2e21861ab4d50/expr.png\" style=\"display:inline;vertical-align:middle;\" /></a></td></tr>\n",
       "<tr><td>10</td><td>ExprTuple</td><td>15, 13, 14</td><td><a class=\"ProveItLink\" href=\"../8d911a1ea104fd4ff57a9cbb4ba0dd90613d25600/expr.ipynb\"><img src=\"../8d911a1ea104fd4ff57a9cbb4ba0dd90613d25600/expr.png\" style=\"display:inline;vertical-align:middle;\" /></a></td></tr>\n",
       "<tr><td>11</td><td>Literal</td><td></td><td><a class=\"ProveItLink\" href=\"../../../../../numbers/addition/__pv_it/common/4b7effaab3619a1c2c38fe2dee8601df8ec714590/expr.ipynb\"><img src=\"../../../../../numbers/addition/__pv_it/common/4b7effaab3619a1c2c38fe2dee8601df8ec714590/expr.png\" style=\"display:inline;vertical-align:middle;\" /></a></td></tr>\n",
       "<tr><td>12</td><td>ExprTuple</td><td>15, 16, 17</td><td><a class=\"ProveItLink\" href=\"../15015bf893daf3393c09fd6e8d5ddd1bc719b7e60/expr.ipynb\"><img src=\"../15015bf893daf3393c09fd6e8d5ddd1bc719b7e60/expr.png\" style=\"display:inline;vertical-align:middle;\" /></a></td></tr>\n",
       "<tr><td>13</td><td>Operation</td><td>operator:&nbsp;19<br>operands:&nbsp;18<br></td><td><a class=\"ProveItLink\" href=\"../ebae05d9a322fd7b2c464768b28a2b9c6fef0dca0/expr.ipynb\"><img src=\"../ebae05d9a322fd7b2c464768b28a2b9c6fef0dca0/expr.png\" style=\"display:inline;vertical-align:middle;\" /></a></td></tr>\n",
       "<tr><td>14</td><td>Operation</td><td>operator:&nbsp;20<br>operands:&nbsp;18<br></td><td><a class=\"ProveItLink\" href=\"../05d903cfb28b8b4f439587e6164c42cf9f0a8e8d0/expr.ipynb\"><img src=\"../05d903cfb28b8b4f439587e6164c42cf9f0a8e8d0/expr.png\" style=\"display:inline;vertical-align:middle;\" /></a></td></tr>\n",
       "<tr><td>15</td><td>Variable</td><td></td><td><a class=\"ProveItLink\" href=\"../../../../../__pv_it/common/195236b98c6c564a75b5dbada74b173bc52d5c3e0/expr.ipynb\"><img src=\"../../../../../__pv_it/common/195236b98c6c564a75b5dbada74b173bc52d5c3e0/expr.png\" style=\"display:inline;vertical-align:middle;\" /></a></td></tr>\n",
       "<tr><td>16</td><td>Operation</td><td>operator:&nbsp;19<br>operands:&nbsp;21<br></td><td><a class=\"ProveItLink\" href=\"../b797a5b80ef4e88b3d56c3d82e902932635bf9820/expr.ipynb\"><img src=\"../b797a5b80ef4e88b3d56c3d82e902932635bf9820/expr.png\" style=\"display:inline;vertical-align:middle;\" /></a></td></tr>\n",
       "<tr><td>17</td><td>Operation</td><td>operator:&nbsp;20<br>operands:&nbsp;21<br></td><td><a class=\"ProveItLink\" href=\"../b8d58c708cf6c4c9c1dc420e075c8e99bbfe77fd0/expr.ipynb\"><img src=\"../b8d58c708cf6c4c9c1dc420e075c8e99bbfe77fd0/expr.png\" style=\"display:inline;vertical-align:middle;\" /></a></td></tr>\n",
       "<tr><td>18</td><td>ExprTuple</td><td>23, 22</td><td><a class=\"ProveItLink\" href=\"../cb24ff19613a54ab5448550a149ff0ffb2c03ad10/expr.ipynb\"><img src=\"../cb24ff19613a54ab5448550a149ff0ffb2c03ad10/expr.png\" style=\"display:inline;vertical-align:middle;\" /></a></td></tr>\n",
       "<tr><td>19</td><td>Literal</td><td></td><td><a class=\"ProveItLink\" href=\"../../../../../numbers/division/__pv_it/common/a2a633e1e3c749fb1f2692466b287b6348c5de840/expr.ipynb\"><img src=\"../../../../../numbers/division/__pv_it/common/a2a633e1e3c749fb1f2692466b287b6348c5de840/expr.png\" style=\"display:inline;vertical-align:middle;\" /></a></td></tr>\n",
       "<tr><td>20</td><td>Literal</td><td></td><td><a class=\"ProveItLink\" href=\"../../../../../numbers/exponentiation/__pv_it/common/0ac37aca1e54c35c5cda09672df32d4f69f1f3020/expr.ipynb\"><img src=\"../../../../../numbers/exponentiation/__pv_it/common/0ac37aca1e54c35c5cda09672df32d4f69f1f3020/expr.png\" style=\"display:inline;vertical-align:middle;\" /></a></td></tr>\n",
       "<tr><td>21</td><td>ExprTuple</td><td>23, 24</td><td><a class=\"ProveItLink\" href=\"../e880d49857e59054c5ed39d5b213806d77ff93e60/expr.ipynb\"><img src=\"../e880d49857e59054c5ed39d5b213806d77ff93e60/expr.png\" style=\"display:inline;vertical-align:middle;\" /></a></td></tr>\n",
       "<tr><td>22</td><td>Variable</td><td></td><td><a class=\"ProveItLink\" href=\"../../../../../__pv_it/common/4f5c524ffda87296de1c79b96880123fe2efedd50/expr.ipynb\"><img src=\"../../../../../__pv_it/common/4f5c524ffda87296de1c79b96880123fe2efedd50/expr.png\" style=\"display:inline;vertical-align:middle;\" /></a></td></tr>\n",
       "<tr><td>23</td><td>Variable</td><td></td><td><a class=\"ProveItLink\" href=\"../../../../../__pv_it/common/ceef4280a2f1cc604b455b54e735507244cc62cd0/expr.ipynb\"><img src=\"../../../../../__pv_it/common/ceef4280a2f1cc604b455b54e735507244cc62cd0/expr.png\" style=\"display:inline;vertical-align:middle;\" /></a></td></tr>\n",
       "<tr><td>24</td><td>Variable</td><td></td><td><a class=\"ProveItLink\" href=\"../../../../../__pv_it/common/ff7dba4ef0bbe791ab573bf2d9c220a304399ac80/expr.ipynb\"><img src=\"../../../../../__pv_it/common/ff7dba4ef0bbe791ab573bf2d9c220a304399ac80/expr.png\" style=\"display:inline;vertical-align:middle;\" /></a></td></tr>\n",
       "</table>\n"
      ],
      "text/plain": [
       "0. (a = (b + (c / d) + c^{d})) = (a = (b + (c / y) + c^{y}))\n",
       "   core type: Operation\n",
       "   operator: 5\n",
       "   operands: 1\n",
       "1. (a = (b + (c / d) + c^{d}), a = (b + (c / y) + c^{y}))\n",
       "   core type: ExprTuple\n",
       "   sub-expressions: 2, 3\n",
       "2. a = (b + (c / d) + c^{d})\n",
       "   core type: Operation\n",
       "   operator: 5\n",
       "   operands: 4\n",
       "3. a = (b + (c / y) + c^{y})\n",
       "   core type: Operation\n",
       "   operator: 5\n",
       "   operands: 6\n",
       "4. (a, b + (c / d) + c^{d})\n",
       "   core type: ExprTuple\n",
       "   sub-expressions: 8, 7\n",
       "5. =\n",
       "   core type: Literal\n",
       "   sub-expressions: \n",
       "6. (a, b + (c / y) + c^{y})\n",
       "   core type: ExprTuple\n",
       "   sub-expressions: 8, 9\n",
       "7. b + (c / d) + c^{d}\n",
       "   core type: Operation\n",
       "   operator: 11\n",
       "   operands: 10\n",
       "8. a\n",
       "   core type: Variable\n",
       "   sub-expressions: \n",
       "9. b + (c / y) + c^{y}\n",
       "   core type: Operation\n",
       "   operator: 11\n",
       "   operands: 12\n",
       "10. (b, c / d, c^{d})\n",
       "    core type: ExprTuple\n",
       "    sub-expressions: 15, 13, 14\n",
       "11. +\n",
       "    core type: Literal\n",
       "    sub-expressions: \n",
       "12. (b, c / y, c^{y})\n",
       "    core type: ExprTuple\n",
       "    sub-expressions: 15, 16, 17\n",
       "13. c / d\n",
       "    core type: Operation\n",
       "    operator: 19\n",
       "    operands: 18\n",
       "14. c^{d}\n",
       "    core type: Operation\n",
       "    operator: 20\n",
       "    operands: 18\n",
       "15. b\n",
       "    core type: Variable\n",
       "    sub-expressions: \n",
       "16. c / y\n",
       "    core type: Operation\n",
       "    operator: 19\n",
       "    operands: 21\n",
       "17. c^{y}\n",
       "    core type: Operation\n",
       "    operator: 20\n",
       "    operands: 21\n",
       "18. (c, d)\n",
       "    core type: ExprTuple\n",
       "    sub-expressions: 23, 22\n",
       "19. /\n",
       "    core type: Literal\n",
       "    sub-expressions: \n",
       "20. Exp\n",
       "    core type: Literal\n",
       "    sub-expressions: \n",
       "21. (c, y)\n",
       "    core type: ExprTuple\n",
       "    sub-expressions: 23, 24\n",
       "22. d\n",
       "    core type: Variable\n",
       "    sub-expressions: \n",
       "23. c\n",
       "    core type: Variable\n",
       "    sub-expressions: \n",
       "24. y\n",
       "    core type: Variable\n",
       "    sub-expressions: "
      ]
     },
     "execution_count": 5,
     "metadata": {},
     "output_type": "execute_result"
    }
   ],
   "source": [
    "# display the expression information\n",
    "expr.expr_info()"
   ]
  },
  {
   "cell_type": "code",
   "execution_count": null,
   "metadata": {},
   "outputs": [],
   "source": []
  }
 ],
 "metadata": {
  "kernelspec": {
   "display_name": "Python 3",
   "language": "python",
   "name": "python3"
  }
 },
 "nbformat": 4,
 "nbformat_minor": 0
}