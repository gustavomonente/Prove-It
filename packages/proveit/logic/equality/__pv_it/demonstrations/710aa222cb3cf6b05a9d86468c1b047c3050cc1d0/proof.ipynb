{
 "cells": [
  {
   "cell_type": "markdown",
   "metadata": {},
   "source": [
    "Show the Proof\n",
    "========"
   ]
  },
  {
   "cell_type": "code",
   "execution_count": 1,
   "metadata": {},
   "outputs": [
    {
     "data": {
      "text/html": [
       "<table><tr><th>&nbsp;</th><th>step type</th><th>requirements</th><th>statement</th></tr>\n",
       "<tr><td><a name=\"proveit.logic.equality.demonstrations.710aa222cb3cf6b05a9d86468c1b047c3050cc1d0_step0\">0</a></td><td>deduction</td><td><a href=\"#proveit.logic.equality.demonstrations.710aa222cb3cf6b05a9d86468c1b047c3050cc1d0_step1\">1</a></td><td><span style=\"font-size:20px;\"><a class=\"ProveItLink\" href=\"../5e7d4fd70a64c21adeb1e2ba94d6188be63e48500/expr.ipynb\"><img src=\"../5e7d4fd70a64c21adeb1e2ba94d6188be63e48500/expr.png\" style=\"display:inline;vertical-align:middle;\" /></a> <a class=\"ProveItLink\" href=\"proof.ipynb\" style=\"text-decoration: none\">&nbsp;&#x22A2;&nbsp;&nbsp;</a><a class=\"ProveItLink\" href=\"../f02c6b6d27440b484ea7b9c1548c60c41221681d0/expr.ipynb\"><img src=\"../f02c6b6d27440b484ea7b9c1548c60c41221681d0/expr.png\" style=\"display:inline;vertical-align:middle;\" /></a></span></td></tr>\n",
       "<tr><td><a name=\"proveit.logic.equality.demonstrations.710aa222cb3cf6b05a9d86468c1b047c3050cc1d0_step1\">1</a></td><td>instantiation</td><td><a href=\"#proveit.logic.equality.demonstrations.710aa222cb3cf6b05a9d86468c1b047c3050cc1d0_step2\">2</a>, <a href=\"#proveit.logic.equality.demonstrations.710aa222cb3cf6b05a9d86468c1b047c3050cc1d0_step5\">5</a>, <a href=\"#proveit.logic.equality.demonstrations.710aa222cb3cf6b05a9d86468c1b047c3050cc1d0_step3\">3</a></td><td><span style=\"font-size:20px;\"><a class=\"ProveItLink\" href=\"../744c77e3f4ef9fac94a5d157eb30d6cc46ff30300/expr.ipynb\"><img src=\"../744c77e3f4ef9fac94a5d157eb30d6cc46ff30300/expr.png\" style=\"display:inline;vertical-align:middle;\" /></a>, <a class=\"ProveItLink\" href=\"../5e7d4fd70a64c21adeb1e2ba94d6188be63e48500/expr.ipynb\"><img src=\"../5e7d4fd70a64c21adeb1e2ba94d6188be63e48500/expr.png\" style=\"display:inline;vertical-align:middle;\" /></a> <a class=\"ProveItLink\" href=\"../9f142e220f6bb996b2c01c3236404c7b35c4c7e90/proof.ipynb\" style=\"text-decoration: none\">&nbsp;&#x22A2;&nbsp;&nbsp;</a><a class=\"ProveItLink\" href=\"../../../../booleans/__pv_it/common/e0f123f2e4f322e1eba7f861749cda9fd9d99a120/expr.ipynb\"><img src=\"../../../../booleans/__pv_it/common/e0f123f2e4f322e1eba7f861749cda9fd9d99a120/expr.png\" style=\"display:inline;vertical-align:middle;\" /></a></span></td></tr>\n",
       "<tr><td>&nbsp;</td><td colspan=4 style=\"text-align:left\"><span style=\"font-size:20px;\"><a class=\"ProveItLink\" href=\"../../../../../__pv_it/common/09585084922504426caf1db2ff588a23a0932a960/expr.ipynb\"><img src=\"../../../../../__pv_it/common/09585084922504426caf1db2ff588a23a0932a960/expr.png\" style=\"display:inline;vertical-align:middle;\" /></a> : <a class=\"ProveItLink\" href=\"../../../../../__pv_it/common/c06c606ec12678c58933ac85412ecadc2ae28be60/expr.ipynb\"><img src=\"../../../../../__pv_it/common/c06c606ec12678c58933ac85412ecadc2ae28be60/expr.png\" style=\"display:inline;vertical-align:middle;\" /></a></span></td></tr><tr><td><a name=\"proveit.logic.equality.demonstrations.710aa222cb3cf6b05a9d86468c1b047c3050cc1d0_step2\">2</a></td><td>theorem</td><td></td><td><span style=\"font-size:20px;\"> <a class=\"ProveItLink\" href=\"../../../_theory_nbs_/proofs/contradiction_via_falsification/thm_proof.ipynb\" style=\"text-decoration: none\">&nbsp;&#x22A2;&nbsp;&nbsp;</a><a class=\"ProveItLink\" href=\"../../theorems/f280c8f63b5f11e24d65ca602ca7ff41cecd2bcc0/expr.ipynb\"><img src=\"../../theorems/f280c8f63b5f11e24d65ca602ca7ff41cecd2bcc0/expr.png\" style=\"display:inline;vertical-align:middle;\" /></a></span></td></tr>\n",
       "<tr><td>&nbsp;</td><td colspan=4 style-\"text-align:left\"><a class=\"ProveItLink\" href=\"../../../_theory_nbs_/proofs/contradiction_via_falsification/thm_proof.ipynb\">proveit.logic.equality.contradiction_via_falsification</a></td></tr><tr><td><a name=\"proveit.logic.equality.demonstrations.710aa222cb3cf6b05a9d86468c1b047c3050cc1d0_step3\">3</a></td><td>modus ponens</td><td><a href=\"#proveit.logic.equality.demonstrations.710aa222cb3cf6b05a9d86468c1b047c3050cc1d0_step4\">4</a>, <a href=\"#proveit.logic.equality.demonstrations.710aa222cb3cf6b05a9d86468c1b047c3050cc1d0_step5\">5</a></td><td><span style=\"font-size:20px;\"><a class=\"ProveItLink\" href=\"../5e7d4fd70a64c21adeb1e2ba94d6188be63e48500/expr.ipynb\"><img src=\"../5e7d4fd70a64c21adeb1e2ba94d6188be63e48500/expr.png\" style=\"display:inline;vertical-align:middle;\" /></a>, <a class=\"ProveItLink\" href=\"../744c77e3f4ef9fac94a5d157eb30d6cc46ff30300/expr.ipynb\"><img src=\"../744c77e3f4ef9fac94a5d157eb30d6cc46ff30300/expr.png\" style=\"display:inline;vertical-align:middle;\" /></a> <a class=\"ProveItLink\" href=\"../40b29edd17dac66c950927e9aa239ec2b9b76ce20/proof.ipynb\" style=\"text-decoration: none\">&nbsp;&#x22A2;&nbsp;&nbsp;</a><a class=\"ProveItLink\" href=\"../988c61548b8f78e8a113b0433c178ff3873e64bf0/expr.ipynb\"><img src=\"../988c61548b8f78e8a113b0433c178ff3873e64bf0/expr.png\" style=\"display:inline;vertical-align:middle;\" /></a></span></td></tr>\n",
       "<tr><td><a name=\"proveit.logic.equality.demonstrations.710aa222cb3cf6b05a9d86468c1b047c3050cc1d0_step4\">4</a></td><td>assumption</td><td></td><td><span style=\"font-size:20px;\"><a class=\"ProveItLink\" href=\"../5e7d4fd70a64c21adeb1e2ba94d6188be63e48500/expr.ipynb\"><img src=\"../5e7d4fd70a64c21adeb1e2ba94d6188be63e48500/expr.png\" style=\"display:inline;vertical-align:middle;\" /></a> <a class=\"ProveItLink\" href=\"../4c08ae15ed0ad0465102cc6705e7225236dbce9d0/proof.ipynb\" style=\"text-decoration: none\">&nbsp;&#x22A2;&nbsp;&nbsp;</a><a class=\"ProveItLink\" href=\"../5e7d4fd70a64c21adeb1e2ba94d6188be63e48500/expr.ipynb\"><img src=\"../5e7d4fd70a64c21adeb1e2ba94d6188be63e48500/expr.png\" style=\"display:inline;vertical-align:middle;\" /></a></span></td></tr>\n",
       "<tr><td><a name=\"proveit.logic.equality.demonstrations.710aa222cb3cf6b05a9d86468c1b047c3050cc1d0_step5\">5</a></td><td>instantiation</td><td><a href=\"#proveit.logic.equality.demonstrations.710aa222cb3cf6b05a9d86468c1b047c3050cc1d0_step6\">6</a>, <a href=\"#proveit.logic.equality.demonstrations.710aa222cb3cf6b05a9d86468c1b047c3050cc1d0_step7\">7</a></td><td><span style=\"font-size:20px;\"><a class=\"ProveItLink\" href=\"../744c77e3f4ef9fac94a5d157eb30d6cc46ff30300/expr.ipynb\"><img src=\"../744c77e3f4ef9fac94a5d157eb30d6cc46ff30300/expr.png\" style=\"display:inline;vertical-align:middle;\" /></a> <a class=\"ProveItLink\" href=\"../a9c2ebb42476b2359a86581c35cdf931a1f66d8e0/proof.ipynb\" style=\"text-decoration: none\">&nbsp;&#x22A2;&nbsp;&nbsp;</a><a class=\"ProveItLink\" href=\"../../../../../__pv_it/common/c06c606ec12678c58933ac85412ecadc2ae28be60/expr.ipynb\"><img src=\"../../../../../__pv_it/common/c06c606ec12678c58933ac85412ecadc2ae28be60/expr.png\" style=\"display:inline;vertical-align:middle;\" /></a></span></td></tr>\n",
       "<tr><td>&nbsp;</td><td colspan=4 style=\"text-align:left\"><span style=\"font-size:20px;\"><a class=\"ProveItLink\" href=\"../../../../../__pv_it/common/09585084922504426caf1db2ff588a23a0932a960/expr.ipynb\"><img src=\"../../../../../__pv_it/common/09585084922504426caf1db2ff588a23a0932a960/expr.png\" style=\"display:inline;vertical-align:middle;\" /></a> : <a class=\"ProveItLink\" href=\"../../../../../__pv_it/common/c06c606ec12678c58933ac85412ecadc2ae28be60/expr.ipynb\"><img src=\"../../../../../__pv_it/common/c06c606ec12678c58933ac85412ecadc2ae28be60/expr.png\" style=\"display:inline;vertical-align:middle;\" /></a></span></td></tr><tr><td><a name=\"proveit.logic.equality.demonstrations.710aa222cb3cf6b05a9d86468c1b047c3050cc1d0_step6\">6</a></td><td>theorem</td><td></td><td><span style=\"font-size:20px;\"> <a class=\"ProveItLink\" href=\"../../../../booleans/negation/_theory_nbs_/proofs/double_negation_elim/thm_proof.ipynb\" style=\"text-decoration: none\">&nbsp;&#x22A2;&nbsp;&nbsp;</a><a class=\"ProveItLink\" href=\"../../../../booleans/negation/__pv_it/theorems/5a36acb641a2621cb7630896c3c9d06b6e334b9f0/expr.ipynb\"><img src=\"../../../../booleans/negation/__pv_it/theorems/5a36acb641a2621cb7630896c3c9d06b6e334b9f0/expr.png\" style=\"display:inline;vertical-align:middle;\" /></a></span></td></tr>\n",
       "<tr><td>&nbsp;</td><td colspan=4 style-\"text-align:left\"><a class=\"ProveItLink\" href=\"../../../../booleans/negation/_theory_nbs_/proofs/double_negation_elim/thm_proof.ipynb\">proveit.logic.booleans.negation.double_negation_elim</a></td></tr><tr><td><a name=\"proveit.logic.equality.demonstrations.710aa222cb3cf6b05a9d86468c1b047c3050cc1d0_step7\">7</a></td><td>assumption</td><td></td><td><span style=\"font-size:20px;\"><a class=\"ProveItLink\" href=\"../744c77e3f4ef9fac94a5d157eb30d6cc46ff30300/expr.ipynb\"><img src=\"../744c77e3f4ef9fac94a5d157eb30d6cc46ff30300/expr.png\" style=\"display:inline;vertical-align:middle;\" /></a> <a class=\"ProveItLink\" href=\"../a9cc6717df17ccb7d3477a8b7a33d703e7fee87e0/proof.ipynb\" style=\"text-decoration: none\">&nbsp;&#x22A2;&nbsp;&nbsp;</a><a class=\"ProveItLink\" href=\"../744c77e3f4ef9fac94a5d157eb30d6cc46ff30300/expr.ipynb\"><img src=\"../744c77e3f4ef9fac94a5d157eb30d6cc46ff30300/expr.png\" style=\"display:inline;vertical-align:middle;\" /></a></span></td></tr>\n",
       "</table>"
      ],
      "text/plain": [
       "<proveit._core_.proof._ShowProof at 0x7f37f6cf7780>"
      ]
     },
     "execution_count": 1,
     "metadata": {},
     "output_type": "execute_result"
    }
   ],
   "source": [
    "import proveit\n",
    "# Automation is not needed when only showing a stored proof:\n",
    "proveit.defaults.automation = False # This will speed things up.\n",
    "proveit.defaults.inline_pngs = False # Makes files smaller.\n",
    "%show_proof"
   ]
  },
  {
   "cell_type": "code",
   "execution_count": null,
   "metadata": {},
   "outputs": [],
   "source": []
  }
 ],
 "metadata": {
  "kernelspec": {
   "display_name": "Python 3",
   "language": "python",
   "name": "python3"
  }
 },
 "nbformat": 4,
 "nbformat_minor": 0
}