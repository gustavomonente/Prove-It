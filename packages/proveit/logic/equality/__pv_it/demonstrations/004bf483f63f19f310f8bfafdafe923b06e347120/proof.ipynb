{
 "cells": [
  {
   "cell_type": "markdown",
   "metadata": {},
   "source": [
    "Show the Proof\n",
    "========"
   ]
  },
  {
   "cell_type": "code",
   "execution_count": 1,
   "metadata": {},
   "outputs": [
    {
     "data": {
      "text/html": [
       "<table><tr><th>&nbsp;</th><th>step type</th><th>requirements</th><th>statement</th></tr>\n",
       "<tr><td><a name=\"proveit.logic.equality.demonstrations.004bf483f63f19f310f8bfafdafe923b06e347120_step0\">0</a></td><td>instantiation</td><td><a href=\"#proveit.logic.equality.demonstrations.004bf483f63f19f310f8bfafdafe923b06e347120_step1\">1</a>, <a href=\"#proveit.logic.equality.demonstrations.004bf483f63f19f310f8bfafdafe923b06e347120_step2\">2</a></td><td><span style=\"font-size:20px;\"><a class=\"ProveItLink\" href=\"../0b02eabc51022e59901b6de541718a20a6079a350/expr.ipynb\"><img src=\"../0b02eabc51022e59901b6de541718a20a6079a350/expr.png\" style=\"display:inline;vertical-align:middle;\" /></a> <a class=\"ProveItLink\" href=\"proof.ipynb\" style=\"text-decoration: none\">&nbsp;&#x22A2;&nbsp;&nbsp;</a><a class=\"ProveItLink\" href=\"../49f8b9d16067590c78af804209c99e45481e8a7a0/expr.ipynb\"><img src=\"../49f8b9d16067590c78af804209c99e45481e8a7a0/expr.png\" style=\"display:inline;vertical-align:middle;\" /></a></span></td></tr>\n",
       "<tr><td>&nbsp;</td><td colspan=4 style=\"text-align:left\"><span style=\"font-size:20px;\"><a class=\"ProveItLink\" href=\"../../../../../__pv_it/common/e4aad701f7f5516d8e7f0d805d518bf02c13322a0/expr.ipynb\"><img src=\"../../../../../__pv_it/common/e4aad701f7f5516d8e7f0d805d518bf02c13322a0/expr.png\" style=\"display:inline;vertical-align:middle;\" /></a> : <a class=\"ProveItLink\" href=\"../../../../../__pv_it/common/9a9d28748f90dec84e90f2ace4610208194e524e0/expr.ipynb\"><img src=\"../../../../../__pv_it/common/9a9d28748f90dec84e90f2ace4610208194e524e0/expr.png\" style=\"display:inline;vertical-align:middle;\" /></a></span></td></tr><tr><td><a name=\"proveit.logic.equality.demonstrations.004bf483f63f19f310f8bfafdafe923b06e347120_step1\">1</a></td><td>axiom</td><td></td><td><span style=\"font-size:20px;\"> <a class=\"ProveItLink\" href=\"../../../../booleans/negation/_theory_nbs_/axioms.ipynb#negation_elim\" style=\"text-decoration: none\">&nbsp;&#x22A2;&nbsp;&nbsp;</a><a class=\"ProveItLink\" href=\"../../../../booleans/negation/__pv_it/axioms/8b230bef1238f6f2a4e697102186a20733df080f0/expr.ipynb\"><img src=\"../../../../booleans/negation/__pv_it/axioms/8b230bef1238f6f2a4e697102186a20733df080f0/expr.png\" style=\"display:inline;vertical-align:middle;\" /></a></span></td></tr>\n",
       "<tr><td>&nbsp;</td><td colspan=4 style-\"text-align:left\"><a class=\"ProveItLink\" href=\"../../../../booleans/negation/_theory_nbs_/axioms.ipynb#negation_elim\">proveit.logic.booleans.negation.negation_elim</a></td></tr><tr><td><a name=\"proveit.logic.equality.demonstrations.004bf483f63f19f310f8bfafdafe923b06e347120_step2\">2</a></td><td>assumption</td><td></td><td><span style=\"font-size:20px;\"><a class=\"ProveItLink\" href=\"../0b02eabc51022e59901b6de541718a20a6079a350/expr.ipynb\"><img src=\"../0b02eabc51022e59901b6de541718a20a6079a350/expr.png\" style=\"display:inline;vertical-align:middle;\" /></a> <a class=\"ProveItLink\" href=\"../411ed74006d3047cc8af7a22f61dd55d94ad74880/proof.ipynb\" style=\"text-decoration: none\">&nbsp;&#x22A2;&nbsp;&nbsp;</a><a class=\"ProveItLink\" href=\"../0b02eabc51022e59901b6de541718a20a6079a350/expr.ipynb\"><img src=\"../0b02eabc51022e59901b6de541718a20a6079a350/expr.png\" style=\"display:inline;vertical-align:middle;\" /></a></span></td></tr>\n",
       "</table>"
      ],
      "text/plain": [
       "<proveit._core_.proof._ShowProof at 0x7f25e92b4320>"
      ]
     },
     "execution_count": 1,
     "metadata": {},
     "output_type": "execute_result"
    }
   ],
   "source": [
    "import proveit\n",
    "# Automation is not needed when only showing a stored proof:\n",
    "proveit.defaults.automation = False # This will speed things up.\n",
    "proveit.defaults.inline_pngs = False # Makes files smaller.\n",
    "%show_proof"
   ]
  },
  {
   "cell_type": "code",
   "execution_count": null,
   "metadata": {},
   "outputs": [],
   "source": []
  }
 ],
 "metadata": {
  "kernelspec": {
   "display_name": "Python 3",
   "language": "python",
   "name": "python3"
  },
  "language_info": {
   "codemirror_mode": {
    "name": "ipython",
    "version": 3
   },
   "file_extension": ".py",
   "mimetype": "text/x-python",
   "name": "python",
   "nbconvert_exporter": "python",
   "pygments_lexer": "ipython3",
   "version": "3.7.3"
  }
 },
 "nbformat": 4,
 "nbformat_minor": 1
}