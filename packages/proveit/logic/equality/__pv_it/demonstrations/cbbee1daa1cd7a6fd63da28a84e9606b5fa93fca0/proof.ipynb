{
 "cells": [
  {
   "cell_type": "markdown",
   "metadata": {},
   "source": [
    "Show the Proof\n",
    "========"
   ]
  },
  {
   "cell_type": "code",
   "execution_count": 1,
   "metadata": {},
   "outputs": [
    {
     "data": {
      "text/html": [
       "<table><tr><th>&nbsp;</th><th>step type</th><th>requirements</th><th>statement</th></tr>\n",
       "<tr><td><a name=\"proveit.logic.equality.demonstrations.cbbee1daa1cd7a6fd63da28a84e9606b5fa93fca0_step0\">0</a></td><td>instantiation</td><td><a href=\"#proveit.logic.equality.demonstrations.cbbee1daa1cd7a6fd63da28a84e9606b5fa93fca0_step1\">1</a>, <a href=\"#proveit.logic.equality.demonstrations.cbbee1daa1cd7a6fd63da28a84e9606b5fa93fca0_step2\">2</a>, <a href=\"#proveit.logic.equality.demonstrations.cbbee1daa1cd7a6fd63da28a84e9606b5fa93fca0_step3\">3</a></td><td><span style=\"font-size:20px;\"><a class=\"ProveItLink\" href=\"../5466a3811e3b48496ffb165506b566148a0c53440/expr.ipynb\"><img src=\"../5466a3811e3b48496ffb165506b566148a0c53440/expr.png\" style=\"display:inline;vertical-align:middle;\" /></a>, <a class=\"ProveItLink\" href=\"../f2150d27dbf8c81d43464e2e294b2ee95b3d1f390/expr.ipynb\"><img src=\"../f2150d27dbf8c81d43464e2e294b2ee95b3d1f390/expr.png\" style=\"display:inline;vertical-align:middle;\" /></a> <a class=\"ProveItLink\" href=\"proof.ipynb\" style=\"text-decoration: none\">&nbsp;&#x22A2;&nbsp;&nbsp;</a><a class=\"ProveItLink\" href=\"../../../../../__pv_it/common/4a5db8cc5c67969ec864bd3ea598be37cb6f5e550/expr.ipynb\"><img src=\"../../../../../__pv_it/common/4a5db8cc5c67969ec864bd3ea598be37cb6f5e550/expr.png\" style=\"display:inline;vertical-align:middle;\" /></a></span></td></tr>\n",
       "<tr><td>&nbsp;</td><td colspan=4 style=\"text-align:left\"><span style=\"font-size:20px;\"><a class=\"ProveItLink\" href=\"../../../../../__pv_it/common/e4aad701f7f5516d8e7f0d805d518bf02c13322a0/expr.ipynb\"><img src=\"../../../../../__pv_it/common/e4aad701f7f5516d8e7f0d805d518bf02c13322a0/expr.png\" style=\"display:inline;vertical-align:middle;\" /></a> : <a class=\"ProveItLink\" href=\"../../../../../__pv_it/common/4a5db8cc5c67969ec864bd3ea598be37cb6f5e550/expr.ipynb\"><img src=\"../../../../../__pv_it/common/4a5db8cc5c67969ec864bd3ea598be37cb6f5e550/expr.png\" style=\"display:inline;vertical-align:middle;\" /></a></span></td></tr><tr><td><a name=\"proveit.logic.equality.demonstrations.cbbee1daa1cd7a6fd63da28a84e9606b5fa93fca0_step1\">1</a></td><td>axiom</td><td></td><td><span style=\"font-size:20px;\"> <a class=\"ProveItLink\" href=\"../../../../booleans/implication/_theory_nbs_/axioms.ipynb#affirmation_via_contradiction\" style=\"text-decoration: none\">&nbsp;&#x22A2;&nbsp;&nbsp;</a><a class=\"ProveItLink\" href=\"../../../../booleans/implication/__pv_it/axioms/9e7a6331c6ade13bf7d90f7a7ea3d6b56d49f7550/expr.ipynb\"><img src=\"../../../../booleans/implication/__pv_it/axioms/9e7a6331c6ade13bf7d90f7a7ea3d6b56d49f7550/expr.png\" style=\"display:inline;vertical-align:middle;\" /></a></span></td></tr>\n",
       "<tr><td>&nbsp;</td><td colspan=4 style-\"text-align:left\"><a class=\"ProveItLink\" href=\"../../../../booleans/implication/_theory_nbs_/axioms.ipynb#affirmation_via_contradiction\">proveit.logic.booleans.implication.affirmation_via_contradiction</a></td></tr><tr><td><a name=\"proveit.logic.equality.demonstrations.cbbee1daa1cd7a6fd63da28a84e9606b5fa93fca0_step2\">2</a></td><td>assumption</td><td></td><td><span style=\"font-size:20px;\"><a class=\"ProveItLink\" href=\"../5466a3811e3b48496ffb165506b566148a0c53440/expr.ipynb\"><img src=\"../5466a3811e3b48496ffb165506b566148a0c53440/expr.png\" style=\"display:inline;vertical-align:middle;\" /></a> <a class=\"ProveItLink\" href=\"../c4c31a40e3bd2e478bd0d534c0a46c2163bd36bb0/proof.ipynb\" style=\"text-decoration: none\">&nbsp;&#x22A2;&nbsp;&nbsp;</a><a class=\"ProveItLink\" href=\"../5466a3811e3b48496ffb165506b566148a0c53440/expr.ipynb\"><img src=\"../5466a3811e3b48496ffb165506b566148a0c53440/expr.png\" style=\"display:inline;vertical-align:middle;\" /></a></span></td></tr>\n",
       "<tr><td><a name=\"proveit.logic.equality.demonstrations.cbbee1daa1cd7a6fd63da28a84e9606b5fa93fca0_step3\">3</a></td><td>deduction</td><td><a href=\"#proveit.logic.equality.demonstrations.cbbee1daa1cd7a6fd63da28a84e9606b5fa93fca0_step4\">4</a></td><td><span style=\"font-size:20px;\"><a class=\"ProveItLink\" href=\"../f2150d27dbf8c81d43464e2e294b2ee95b3d1f390/expr.ipynb\"><img src=\"../f2150d27dbf8c81d43464e2e294b2ee95b3d1f390/expr.png\" style=\"display:inline;vertical-align:middle;\" /></a> <a class=\"ProveItLink\" href=\"../073184caeaf4d3ce7a7df524fd8fd952231cdd080/proof.ipynb\" style=\"text-decoration: none\">&nbsp;&#x22A2;&nbsp;&nbsp;</a><a class=\"ProveItLink\" href=\"../74512f1106a238b40e4fed5915c8c7380bb408c70/expr.ipynb\"><img src=\"../74512f1106a238b40e4fed5915c8c7380bb408c70/expr.png\" style=\"display:inline;vertical-align:middle;\" /></a></span></td></tr>\n",
       "<tr><td><a name=\"proveit.logic.equality.demonstrations.cbbee1daa1cd7a6fd63da28a84e9606b5fa93fca0_step4\">4</a></td><td>instantiation</td><td><a href=\"#proveit.logic.equality.demonstrations.cbbee1daa1cd7a6fd63da28a84e9606b5fa93fca0_step5\">5</a>, <a href=\"#proveit.logic.equality.demonstrations.cbbee1daa1cd7a6fd63da28a84e9606b5fa93fca0_step6\">6</a>, <a href=\"#proveit.logic.equality.demonstrations.cbbee1daa1cd7a6fd63da28a84e9606b5fa93fca0_step7\">7</a></td><td><span style=\"font-size:20px;\"><a class=\"ProveItLink\" href=\"../f2150d27dbf8c81d43464e2e294b2ee95b3d1f390/expr.ipynb\"><img src=\"../f2150d27dbf8c81d43464e2e294b2ee95b3d1f390/expr.png\" style=\"display:inline;vertical-align:middle;\" /></a>, <a class=\"ProveItLink\" href=\"../652d8b06abbad5b48c4169c3bb0a8506f8a8a84d0/expr.ipynb\"><img src=\"../652d8b06abbad5b48c4169c3bb0a8506f8a8a84d0/expr.png\" style=\"display:inline;vertical-align:middle;\" /></a> <a class=\"ProveItLink\" href=\"../12518df37c62a46e140e3361ca21058d9f282a1a0/proof.ipynb\" style=\"text-decoration: none\">&nbsp;&#x22A2;&nbsp;&nbsp;</a><a class=\"ProveItLink\" href=\"../../../../booleans/__pv_it/common/bc5c31e39ae582b67c89fb24025b57f5b995e8890/expr.ipynb\"><img src=\"../../../../booleans/__pv_it/common/bc5c31e39ae582b67c89fb24025b57f5b995e8890/expr.png\" style=\"display:inline;vertical-align:middle;\" /></a></span></td></tr>\n",
       "<tr><td>&nbsp;</td><td colspan=4 style=\"text-align:left\"><span style=\"font-size:20px;\"><a class=\"ProveItLink\" href=\"../../../../../__pv_it/common/a2581dc5df71d9a30bad37de14965fa5fec97a240/expr.ipynb\"><img src=\"../../../../../__pv_it/common/a2581dc5df71d9a30bad37de14965fa5fec97a240/expr.png\" style=\"display:inline;vertical-align:middle;\" /></a> : <a class=\"ProveItLink\" href=\"../../../../../__pv_it/common/66c90e66682f107a881f2d666959f64e2e72ad750/expr.ipynb\"><img src=\"../../../../../__pv_it/common/66c90e66682f107a881f2d666959f64e2e72ad750/expr.png\" style=\"display:inline;vertical-align:middle;\" /></a>, <a class=\"ProveItLink\" href=\"../../../../../__pv_it/common/0f21cbfd5644a1cae6781c1d58354abc2ffbc9000/expr.ipynb\"><img src=\"../../../../../__pv_it/common/0f21cbfd5644a1cae6781c1d58354abc2ffbc9000/expr.png\" style=\"display:inline;vertical-align:middle;\" /></a> : <a class=\"ProveItLink\" href=\"../../../../../__pv_it/common/66c90e66682f107a881f2d666959f64e2e72ad750/expr.ipynb\"><img src=\"../../../../../__pv_it/common/66c90e66682f107a881f2d666959f64e2e72ad750/expr.png\" style=\"display:inline;vertical-align:middle;\" /></a></span></td></tr><tr><td><a name=\"proveit.logic.equality.demonstrations.cbbee1daa1cd7a6fd63da28a84e9606b5fa93fca0_step5\">5</a></td><td>theorem</td><td></td><td><span style=\"font-size:20px;\"> <a class=\"ProveItLink\" href=\"../../../_theory_nbs_/proofs/not_equals_contradiction/thm_proof.ipynb\" style=\"text-decoration: none\">&nbsp;&#x22A2;&nbsp;&nbsp;</a><a class=\"ProveItLink\" href=\"../../theorems/050153c605819101e7e80eefe55a905e5fb3b3570/expr.ipynb\"><img src=\"../../theorems/050153c605819101e7e80eefe55a905e5fb3b3570/expr.png\" style=\"display:inline;vertical-align:middle;\" /></a></span></td></tr>\n",
       "<tr><td>&nbsp;</td><td colspan=4 style-\"text-align:left\"><a class=\"ProveItLink\" href=\"../../../_theory_nbs_/proofs/not_equals_contradiction/thm_proof.ipynb\">proveit.logic.equality.not_equals_contradiction</a></td></tr><tr><td><a name=\"proveit.logic.equality.demonstrations.cbbee1daa1cd7a6fd63da28a84e9606b5fa93fca0_step6\">6</a></td><td>instantiation</td><td><a href=\"#proveit.logic.equality.demonstrations.cbbee1daa1cd7a6fd63da28a84e9606b5fa93fca0_step8\">8</a></td><td><span style=\"font-size:20px;\"> <a class=\"ProveItLink\" href=\"../ec64417d1065f8a91b821b3069a4a633653de3ea0/proof.ipynb\" style=\"text-decoration: none\">&nbsp;&#x22A2;&nbsp;&nbsp;</a><a class=\"ProveItLink\" href=\"../a9ad32afd9da7c1f4d585c2a867ee72722e32b300/expr.ipynb\"><img src=\"../a9ad32afd9da7c1f4d585c2a867ee72722e32b300/expr.png\" style=\"display:inline;vertical-align:middle;\" /></a></span></td></tr>\n",
       "<tr><td>&nbsp;</td><td colspan=4 style=\"text-align:left\"><span style=\"font-size:20px;\"><a class=\"ProveItLink\" href=\"../../../../../__pv_it/common/a2581dc5df71d9a30bad37de14965fa5fec97a240/expr.ipynb\"><img src=\"../../../../../__pv_it/common/a2581dc5df71d9a30bad37de14965fa5fec97a240/expr.png\" style=\"display:inline;vertical-align:middle;\" /></a> : <a class=\"ProveItLink\" href=\"../../../../../__pv_it/common/66c90e66682f107a881f2d666959f64e2e72ad750/expr.ipynb\"><img src=\"../../../../../__pv_it/common/66c90e66682f107a881f2d666959f64e2e72ad750/expr.png\" style=\"display:inline;vertical-align:middle;\" /></a></span></td></tr><tr><td><a name=\"proveit.logic.equality.demonstrations.cbbee1daa1cd7a6fd63da28a84e9606b5fa93fca0_step7\">7</a></td><td>modus ponens</td><td><a href=\"#proveit.logic.equality.demonstrations.cbbee1daa1cd7a6fd63da28a84e9606b5fa93fca0_step9\">9</a>, <a href=\"#proveit.logic.equality.demonstrations.cbbee1daa1cd7a6fd63da28a84e9606b5fa93fca0_step10\">10</a></td><td><span style=\"font-size:20px;\"><a class=\"ProveItLink\" href=\"../f2150d27dbf8c81d43464e2e294b2ee95b3d1f390/expr.ipynb\"><img src=\"../f2150d27dbf8c81d43464e2e294b2ee95b3d1f390/expr.png\" style=\"display:inline;vertical-align:middle;\" /></a>, <a class=\"ProveItLink\" href=\"../652d8b06abbad5b48c4169c3bb0a8506f8a8a84d0/expr.ipynb\"><img src=\"../652d8b06abbad5b48c4169c3bb0a8506f8a8a84d0/expr.png\" style=\"display:inline;vertical-align:middle;\" /></a> <a class=\"ProveItLink\" href=\"../a4398e44b4c70f94eff74a1ff10c39d5d8313f350/proof.ipynb\" style=\"text-decoration: none\">&nbsp;&#x22A2;&nbsp;&nbsp;</a><a class=\"ProveItLink\" href=\"../5c207eb2a8208e45ef188c6010c8ebd1ec2376c40/expr.ipynb\"><img src=\"../5c207eb2a8208e45ef188c6010c8ebd1ec2376c40/expr.png\" style=\"display:inline;vertical-align:middle;\" /></a></span></td></tr>\n",
       "<tr><td><a name=\"proveit.logic.equality.demonstrations.cbbee1daa1cd7a6fd63da28a84e9606b5fa93fca0_step8\">8</a></td><td>axiom</td><td></td><td><span style=\"font-size:20px;\"> <a class=\"ProveItLink\" href=\"../../../_theory_nbs_/axioms.ipynb#equals_reflexivity\" style=\"text-decoration: none\">&nbsp;&#x22A2;&nbsp;&nbsp;</a><a class=\"ProveItLink\" href=\"../../axioms/1323d646948b67e1f22d6b53e3da8bd16e1229770/expr.ipynb\"><img src=\"../../axioms/1323d646948b67e1f22d6b53e3da8bd16e1229770/expr.png\" style=\"display:inline;vertical-align:middle;\" /></a></span></td></tr>\n",
       "<tr><td>&nbsp;</td><td colspan=4 style-\"text-align:left\"><a class=\"ProveItLink\" href=\"../../../_theory_nbs_/axioms.ipynb#equals_reflexivity\">proveit.logic.equality.equals_reflexivity</a></td></tr><tr><td><a name=\"proveit.logic.equality.demonstrations.cbbee1daa1cd7a6fd63da28a84e9606b5fa93fca0_step9\">9</a></td><td>assumption</td><td></td><td><span style=\"font-size:20px;\"><a class=\"ProveItLink\" href=\"../f2150d27dbf8c81d43464e2e294b2ee95b3d1f390/expr.ipynb\"><img src=\"../f2150d27dbf8c81d43464e2e294b2ee95b3d1f390/expr.png\" style=\"display:inline;vertical-align:middle;\" /></a> <a class=\"ProveItLink\" href=\"../4e1cfa6702257f0648697138cb8f8d1d6f8c68c10/proof.ipynb\" style=\"text-decoration: none\">&nbsp;&#x22A2;&nbsp;&nbsp;</a><a class=\"ProveItLink\" href=\"../f2150d27dbf8c81d43464e2e294b2ee95b3d1f390/expr.ipynb\"><img src=\"../f2150d27dbf8c81d43464e2e294b2ee95b3d1f390/expr.png\" style=\"display:inline;vertical-align:middle;\" /></a></span></td></tr>\n",
       "<tr><td><a name=\"proveit.logic.equality.demonstrations.cbbee1daa1cd7a6fd63da28a84e9606b5fa93fca0_step10\">10</a></td><td>assumption</td><td></td><td><span style=\"font-size:20px;\"><a class=\"ProveItLink\" href=\"../652d8b06abbad5b48c4169c3bb0a8506f8a8a84d0/expr.ipynb\"><img src=\"../652d8b06abbad5b48c4169c3bb0a8506f8a8a84d0/expr.png\" style=\"display:inline;vertical-align:middle;\" /></a> <a class=\"ProveItLink\" href=\"../f20547b2279cc36e3af9be32bc8da31dfe56849c0/proof.ipynb\" style=\"text-decoration: none\">&nbsp;&#x22A2;&nbsp;&nbsp;</a><a class=\"ProveItLink\" href=\"../652d8b06abbad5b48c4169c3bb0a8506f8a8a84d0/expr.ipynb\"><img src=\"../652d8b06abbad5b48c4169c3bb0a8506f8a8a84d0/expr.png\" style=\"display:inline;vertical-align:middle;\" /></a></span></td></tr>\n",
       "</table>"
      ],
      "text/plain": [
       "<proveit._core_.proof._ShowProof at 0x7f140e5fa898>"
      ]
     },
     "execution_count": 1,
     "metadata": {},
     "output_type": "execute_result"
    }
   ],
   "source": [
    "import proveit\n",
    "# Automation is not needed when only showing a stored proof:\n",
    "proveit.defaults.automation = False # This will speed things up.\n",
    "proveit.defaults.inline_pngs = False # Makes files smaller.\n",
    "%show_proof"
   ]
  },
  {
   "cell_type": "code",
   "execution_count": null,
   "metadata": {},
   "outputs": [],
   "source": []
  }
 ],
 "metadata": {
  "kernelspec": {
   "display_name": "Python 3",
   "language": "python",
   "name": "python3"
  },
  "language_info": {
   "codemirror_mode": {
    "name": "ipython",
    "version": 3
   },
   "file_extension": ".py",
   "mimetype": "text/x-python",
   "name": "python",
   "nbconvert_exporter": "python",
   "pygments_lexer": "ipython3",
   "version": "3.7.3"
  }
 },
 "nbformat": 4,
 "nbformat_minor": 1
}