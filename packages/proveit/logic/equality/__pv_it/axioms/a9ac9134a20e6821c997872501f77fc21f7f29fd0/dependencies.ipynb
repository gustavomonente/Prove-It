{
 "cells": [
  {
   "cell_type": "markdown",
   "metadata": {},
   "source": [
    "Axiom Dependencies\n",
    "=======================\n",
    "\n",
    "## <a class=\"ProveItLink\" href=\"../../../_theory_nbs_/theory.ipynb\">proveit.logic.equality</a>.<a class=\"ProveItLink\" href=\"../../../_axioms_.ipynb#equality_in_bool\">equality_in_bool</a> \n"
   ]
  },
  {
   "cell_type": "code",
   "execution_count": 1,
   "metadata": {},
   "outputs": [],
   "source": [
    "import proveit\n",
    "# Automation is not needed when querying dependencies:\n",
    "proveit.defaults.automation = False # This will speed things up.\n",
    "proveit.defaults.inline_pngs = False # Makes files smaller.\n",
    "from proveit.logic.equality import equality_in_bool"
   ]
  },
  {
   "cell_type": "code",
   "execution_count": 2,
   "metadata": {},
   "outputs": [
    {
     "data": {
      "text/html": [
       "<h3>Theorems/conjectures that depend directly on equality_in_bool</h3>"
      ],
      "text/plain": [
       "<IPython.core.display.HTML object>"
      ]
     },
     "metadata": {},
     "output_type": "display_data"
    },
    {
     "data": {
      "text/html": [
       "<dl>"
      ],
      "text/plain": [
       "<IPython.core.display.HTML object>"
      ]
     },
     "metadata": {},
     "output_type": "display_data"
    },
    {
     "data": {
      "text/html": [
       "<dt><a class=\"ProveItLink\" href=\"../../../../../core_expr_types/tuples/_theory_nbs_/proofs/tuple_eq_via_elem_eq/thm_proof.ipynb\">proveit.core_expr_types.tuples.tuple_eq_via_elem_eq</a></dt><dd><a class=\"ProveItLink\" href=\"../../../../../core_expr_types/tuples/__pv_it/theorems/dfbd4ebd2517106b9810d979f0677d5902666d5f0/expr.ipynb\"><img src=\"../../../../../core_expr_types/tuples/__pv_it/theorems/dfbd4ebd2517106b9810d979f0677d5902666d5f0/expr.png\" style=\"display:inline;vertical-align:middle;\" /></a></dd>"
      ],
      "text/plain": [
       "<IPython.core.display.HTML object>"
      ]
     },
     "metadata": {},
     "output_type": "display_data"
    },
    {
     "data": {
      "text/html": [
       "<dt><a class=\"ProveItLink\" href=\"../../../../booleans/disjunction/_theory_nbs_/proofs/or_if_left/thm_proof.ipynb\">proveit.logic.booleans.disjunction.or_if_left</a></dt><dd><a class=\"ProveItLink\" href=\"../../../../booleans/disjunction/__pv_it/theorems/ff95efc0fdcf1075ada556b1576ac72f6d2bad3a0/expr.ipynb\"><img src=\"../../../../booleans/disjunction/__pv_it/theorems/ff95efc0fdcf1075ada556b1576ac72f6d2bad3a0/expr.png\" style=\"display:inline;vertical-align:middle;\" /></a></dd>"
      ],
      "text/plain": [
       "<IPython.core.display.HTML object>"
      ]
     },
     "metadata": {},
     "output_type": "display_data"
    },
    {
     "data": {
      "text/html": [
       "<dt><a class=\"ProveItLink\" href=\"../../../../booleans/disjunction/_theory_nbs_/proofs/or_if_right/thm_proof.ipynb\">proveit.logic.booleans.disjunction.or_if_right</a></dt><dd><a class=\"ProveItLink\" href=\"../../../../booleans/disjunction/__pv_it/theorems/1eeb4b7a609d597da28984b66450563e25762c690/expr.ipynb\"><img src=\"../../../../booleans/disjunction/__pv_it/theorems/1eeb4b7a609d597da28984b66450563e25762c690/expr.png\" style=\"display:inline;vertical-align:middle;\" /></a></dd>"
      ],
      "text/plain": [
       "<IPython.core.display.HTML object>"
      ]
     },
     "metadata": {},
     "output_type": "display_data"
    },
    {
     "data": {
      "text/html": [
       "<dt><a class=\"ProveItLink\" href=\"../../../../booleans/disjunction/_theory_nbs_/proofs/singular_constructive_dilemma/thm_proof.ipynb\">proveit.logic.booleans.disjunction.singular_constructive_dilemma</a></dt><dd><a class=\"ProveItLink\" href=\"../../../../booleans/disjunction/__pv_it/theorems/a342d3aa1ba3fc6225e619eef0c8fb07cd1eaa860/expr.ipynb\"><img src=\"../../../../booleans/disjunction/__pv_it/theorems/a342d3aa1ba3fc6225e619eef0c8fb07cd1eaa860/expr.png\" style=\"display:inline;vertical-align:middle;\" /></a></dd>"
      ],
      "text/plain": [
       "<IPython.core.display.HTML object>"
      ]
     },
     "metadata": {},
     "output_type": "display_data"
    },
    {
     "data": {
      "text/html": [
       "<dt><a class=\"ProveItLink\" href=\"../../../../booleans/implication/_theory_nbs_/proofs/falsified_antecedent_implication/thm_proof.ipynb\">proveit.logic.booleans.implication.falsified_antecedent_implication</a></dt><dd><a class=\"ProveItLink\" href=\"../../../../booleans/implication/__pv_it/theorems/28678d7c577311412c516b86c45b9019a8ec85eb0/expr.ipynb\"><img src=\"../../../../booleans/implication/__pv_it/theorems/28678d7c577311412c516b86c45b9019a8ec85eb0/expr.png\" style=\"display:inline;vertical-align:middle;\" /></a></dd>"
      ],
      "text/plain": [
       "<IPython.core.display.HTML object>"
      ]
     },
     "metadata": {},
     "output_type": "display_data"
    },
    {
     "data": {
      "text/html": [
       "<dt><a class=\"ProveItLink\" href=\"../../../../booleans/implication/_theory_nbs_/proofs/not_true_via_contradiction/thm_proof.ipynb\">proveit.logic.booleans.implication.not_true_via_contradiction</a></dt><dd><a class=\"ProveItLink\" href=\"../../../../booleans/implication/__pv_it/theorems/bb8d8fa072a6abd7ccaa2558ea0bda92e1a58d970/expr.ipynb\"><img src=\"../../../../booleans/implication/__pv_it/theorems/bb8d8fa072a6abd7ccaa2558ea0bda92e1a58d970/expr.png\" style=\"display:inline;vertical-align:middle;\" /></a></dd>"
      ],
      "text/plain": [
       "<IPython.core.display.HTML object>"
      ]
     },
     "metadata": {},
     "output_type": "display_data"
    },
    {
     "data": {
      "text/html": [
       "<dt><a class=\"ProveItLink\" href=\"../../../../booleans/implication/_theory_nbs_/proofs/untrue_antecedent_implication/thm_proof.ipynb\">proveit.logic.booleans.implication.untrue_antecedent_implication</a></dt><dd><a class=\"ProveItLink\" href=\"../../../../booleans/implication/__pv_it/theorems/c449629c528ad428408063a39d6569e7a08c49720/expr.ipynb\"><img src=\"../../../../booleans/implication/__pv_it/theorems/c449629c528ad428408063a39d6569e7a08c49720/expr.png\" style=\"display:inline;vertical-align:middle;\" /></a></dd>"
      ],
      "text/plain": [
       "<IPython.core.display.HTML object>"
      ]
     },
     "metadata": {},
     "output_type": "display_data"
    },
    {
     "data": {
      "text/html": [
       "<dt><a class=\"ProveItLink\" href=\"../../../../booleans/_theory_nbs_/proofs/in_bool_is_bool/thm_proof.ipynb\">proveit.logic.booleans.in_bool_is_bool</a></dt><dd><a class=\"ProveItLink\" href=\"../../../../booleans/__pv_it/theorems/753e7e167ad8fa9d49d42912583bbcf6bdff90bc0/expr.ipynb\"><img src=\"../../../../booleans/__pv_it/theorems/753e7e167ad8fa9d49d42912583bbcf6bdff90bc0/expr.png\" style=\"display:inline;vertical-align:middle;\" /></a></dd>"
      ],
      "text/plain": [
       "<IPython.core.display.HTML object>"
      ]
     },
     "metadata": {},
     "output_type": "display_data"
    },
    {
     "data": {
      "text/html": [
       "<dt><a class=\"ProveItLink\" href=\"../../../../booleans/quantification/existence/_theory_nbs_/proofs/skolem_elim/thm_proof.ipynb\">proveit.logic.booleans.quantification.existence.skolem_elim</a></dt><dd><a class=\"ProveItLink\" href=\"../../../../booleans/quantification/existence/__pv_it/theorems/72ab57b0236c6441521ef1ae08d13b715e79796f0/expr.ipynb\"><img src=\"../../../../booleans/quantification/existence/__pv_it/theorems/72ab57b0236c6441521ef1ae08d13b715e79796f0/expr.png\" style=\"display:inline;vertical-align:middle;\" /></a></dd>"
      ],
      "text/plain": [
       "<IPython.core.display.HTML object>"
      ]
     },
     "metadata": {},
     "output_type": "display_data"
    },
    {
     "data": {
      "text/html": [
       "<dt><a class=\"ProveItLink\" href=\"../../../../booleans/quantification/existence/_theory_nbs_/proofs/skolem_elim_lemma/thm_proof.ipynb\">proveit.logic.booleans.quantification.existence.skolem_elim_lemma</a></dt><dd><a class=\"ProveItLink\" href=\"../../../../booleans/quantification/existence/__pv_it/theorems/351e3b3885d1de219e0eb51d65959515c4f9fad30/expr.ipynb\"><img src=\"../../../../booleans/quantification/existence/__pv_it/theorems/351e3b3885d1de219e0eb51d65959515c4f9fad30/expr.png\" style=\"display:inline;vertical-align:middle;\" /></a></dd>"
      ],
      "text/plain": [
       "<IPython.core.display.HTML object>"
      ]
     },
     "metadata": {},
     "output_type": "display_data"
    },
    {
     "data": {
      "text/html": [
       "<dt><a class=\"ProveItLink\" href=\"../../../_theory_nbs_/proofs/not_equals_is_bool/thm_proof.ipynb\">proveit.logic.equality.not_equals_is_bool</a></dt><dd><a class=\"ProveItLink\" href=\"../../theorems/e859bdb0cf9d766b43697094ba76b294eabde3d40/expr.ipynb\"><img src=\"../../theorems/e859bdb0cf9d766b43697094ba76b294eabde3d40/expr.png\" style=\"display:inline;vertical-align:middle;\" /></a></dd>"
      ],
      "text/plain": [
       "<IPython.core.display.HTML object>"
      ]
     },
     "metadata": {},
     "output_type": "display_data"
    },
    {
     "data": {
      "text/html": [
       "<dt><a class=\"ProveItLink\" href=\"../../../../sets/enumeration/_theory_nbs_/proofs/in_singleton_is_bool/thm_proof.ipynb\">proveit.logic.sets.enumeration.in_singleton_is_bool</a></dt><dd><a class=\"ProveItLink\" href=\"../../../../sets/enumeration/__pv_it/theorems/36f6e3507d0b58e81b3def84bf3cf1eb098554ed0/expr.ipynb\"><img src=\"../../../../sets/enumeration/__pv_it/theorems/36f6e3507d0b58e81b3def84bf3cf1eb098554ed0/expr.png\" style=\"display:inline;vertical-align:middle;\" /></a></dd>"
      ],
      "text/plain": [
       "<IPython.core.display.HTML object>"
      ]
     },
     "metadata": {},
     "output_type": "display_data"
    },
    {
     "data": {
      "text/html": [
       "<dt><a class=\"ProveItLink\" href=\"../../../../sets/enumeration/_theory_nbs_/proofs/singleton_def/thm_proof.ipynb\">proveit.logic.sets.enumeration.singleton_def</a></dt><dd><a class=\"ProveItLink\" href=\"../../../../sets/enumeration/__pv_it/theorems/84c6a5455435a3da8bb5a4fc9c1bc50e2bcca1330/expr.ipynb\"><img src=\"../../../../sets/enumeration/__pv_it/theorems/84c6a5455435a3da8bb5a4fc9c1bc50e2bcca1330/expr.png\" style=\"display:inline;vertical-align:middle;\" /></a></dd>"
      ],
      "text/plain": [
       "<IPython.core.display.HTML object>"
      ]
     },
     "metadata": {},
     "output_type": "display_data"
    },
    {
     "data": {
      "text/html": [
       "</dl>"
      ],
      "text/plain": [
       "<IPython.core.display.HTML object>"
      ]
     },
     "metadata": {},
     "output_type": "display_data"
    }
   ],
   "source": [
    "%dependencies equality_in_bool"
   ]
  }
 ],
 "metadata": {
  "kernelspec": {
   "display_name": "Python 3",
   "language": "python",
   "name": "python3"
  }
 },
 "nbformat": 4,
 "nbformat_minor": 0
}