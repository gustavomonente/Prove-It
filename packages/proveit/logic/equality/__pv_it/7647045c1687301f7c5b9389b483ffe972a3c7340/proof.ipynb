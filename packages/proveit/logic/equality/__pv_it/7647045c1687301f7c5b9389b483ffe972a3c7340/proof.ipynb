{
 "cells": [
  {
   "cell_type": "markdown",
   "metadata": {},
   "source": [
    "Show the Proof\n",
    "========"
   ]
  },
  {
   "cell_type": "code",
   "execution_count": 1,
   "metadata": {},
   "outputs": [
    {
     "data": {
      "text/html": [
       "<table><tr><th>&nbsp;</th><th>step type</th><th>requirements</th><th>statement</th></tr>\n",
       "<tr><td><a name=\"proveit.logic.equality.7647045c1687301f7c5b9389b483ffe972a3c7340_step0\">0</a></td><td>hypothetical reasoning</td><td><a href=\"#proveit.logic.equality.7647045c1687301f7c5b9389b483ffe972a3c7340_step1\">1</a></td><td><span style=\"font-size:20px;\"><a class=\"ProveItLink\" href=\"../b43ca426a728cf8451b0d126ed524b19e22913770/expr.ipynb\"><img src=\"../b43ca426a728cf8451b0d126ed524b19e22913770/expr.png\" style=\"display:inline;vertical-align:middle;\" /></a> <a class=\"ProveItLink\" href=\"proof.ipynb\" style=\"text-decoration: none\">&#x22A2;&nbsp;</a><a class=\"ProveItLink\" href=\"../6236853b871462278c35876acef4d7a53b2407730/expr.ipynb\"><img src=\"../6236853b871462278c35876acef4d7a53b2407730/expr.png\" style=\"display:inline;vertical-align:middle;\" /></a></span></td></tr>\n",
       "<tr><td><a name=\"proveit.logic.equality.7647045c1687301f7c5b9389b483ffe972a3c7340_step1\">1</a></td><td>instantiation</td><td><a href=\"#proveit.logic.equality.7647045c1687301f7c5b9389b483ffe972a3c7340_step2\">2</a>, <a href=\"#proveit.logic.equality.7647045c1687301f7c5b9389b483ffe972a3c7340_step5\">5</a>, <a href=\"#proveit.logic.equality.7647045c1687301f7c5b9389b483ffe972a3c7340_step3\">3</a></td><td><span style=\"font-size:20px;\"><a class=\"ProveItLink\" href=\"../5404302a2323f10d45a258c0c807baab1417b20f0/expr.ipynb\"><img src=\"../5404302a2323f10d45a258c0c807baab1417b20f0/expr.png\" style=\"display:inline;vertical-align:middle;\" /></a> <a class=\"ProveItLink\" href=\"../5bc1b26c5581382f10535280907afad823c90b180/proof.ipynb\" style=\"text-decoration: none\">&#x22A2;&nbsp;</a><a class=\"ProveItLink\" href=\"../../../boolean/__pv_it/83a1ddf0f64531c80e7f41ea6b904214668818b30/expr.ipynb\"><img src=\"../../../boolean/__pv_it/83a1ddf0f64531c80e7f41ea6b904214668818b30/expr.png\" style=\"display:inline;vertical-align:middle;\" /></a></span></td></tr>\n",
       "<tr><td>&nbsp;</td><td colspan=4 style=\"text-align:left\"><span style=\"font-size:20px;\"><a class=\"ProveItLink\" href=\"../../../../__pv_it/d3792d0d8642fdf1cd2a3a9b32c673ee13653de00/expr.ipynb\"><img src=\"../../../../__pv_it/d3792d0d8642fdf1cd2a3a9b32c673ee13653de00/expr.png\" style=\"display:inline;vertical-align:middle;\" /></a> : <a class=\"ProveItLink\" href=\"../../../../__pv_it/a8d4b3a34d2189508f9082853fbac36935714f280/expr.ipynb\"><img src=\"../../../../__pv_it/a8d4b3a34d2189508f9082853fbac36935714f280/expr.png\" style=\"display:inline;vertical-align:middle;\" /></a></span></td></tr><tr><td><a name=\"proveit.logic.equality.7647045c1687301f7c5b9389b483ffe972a3c7340_step2\">2</a></td><td>theorem</td><td></td><td><span style=\"font-size:20px;\"> <a class=\"ProveItLink\" href=\"../../_proofs_/contradictionViaFalsification.ipynb\" style=\"text-decoration: none\">&#x22A2;&nbsp;</a><a class=\"ProveItLink\" href=\"../035c67f0c0c1f6d711f8c36a9b94cfb564be5b110/expr.ipynb\"><img src=\"../035c67f0c0c1f6d711f8c36a9b94cfb564be5b110/expr.png\" style=\"display:inline;vertical-align:middle;\" /></a></span></td></tr>\n",
       "<tr><td>&nbsp;</td><td colspan=4 style-\"text-align:left\"><a class=\"ProveItLink\" href=\"../../_proofs_/contradictionViaFalsification.ipynb\">proveit.logic.equality.contradictionViaFalsification</a></td></tr><tr><td><a name=\"proveit.logic.equality.7647045c1687301f7c5b9389b483ffe972a3c7340_step3\">3</a></td><td>modus ponens</td><td><a href=\"#proveit.logic.equality.7647045c1687301f7c5b9389b483ffe972a3c7340_step4\">4</a>, <a href=\"#proveit.logic.equality.7647045c1687301f7c5b9389b483ffe972a3c7340_step5\">5</a></td><td><span style=\"font-size:20px;\"><a class=\"ProveItLink\" href=\"../4e1b89776474e0a5d7dd404a16106b61a80ee7cd0/expr.ipynb\"><img src=\"../4e1b89776474e0a5d7dd404a16106b61a80ee7cd0/expr.png\" style=\"display:inline;vertical-align:middle;\" /></a> <a class=\"ProveItLink\" href=\"../58158c6ab037e8e1e05cc82b6f91ccc3687777490/proof.ipynb\" style=\"text-decoration: none\">&#x22A2;&nbsp;</a><a class=\"ProveItLink\" href=\"../../../boolean/__pv_it/cbaed1e9bf4dad882eaaad879a1e1579071af7800/expr.ipynb\"><img src=\"../../../boolean/__pv_it/cbaed1e9bf4dad882eaaad879a1e1579071af7800/expr.png\" style=\"display:inline;vertical-align:middle;\" /></a></span></td></tr>\n",
       "<tr><td><a name=\"proveit.logic.equality.7647045c1687301f7c5b9389b483ffe972a3c7340_step4\">4</a></td><td>assumption</td><td></td><td><span style=\"font-size:20px;\"><a class=\"ProveItLink\" href=\"../b43ca426a728cf8451b0d126ed524b19e22913770/expr.ipynb\"><img src=\"../b43ca426a728cf8451b0d126ed524b19e22913770/expr.png\" style=\"display:inline;vertical-align:middle;\" /></a> <a class=\"ProveItLink\" href=\"../602ac2371096920e83dc05e9adfcbdcf02bed3050/proof.ipynb\" style=\"text-decoration: none\">&#x22A2;&nbsp;</a><a class=\"ProveItLink\" href=\"../../../boolean/__pv_it/034cdf4d29af40099ce25a77b782c31bf3814b7b0/expr.ipynb\"><img src=\"../../../boolean/__pv_it/034cdf4d29af40099ce25a77b782c31bf3814b7b0/expr.png\" style=\"display:inline;vertical-align:middle;\" /></a></span></td></tr>\n",
       "<tr><td><a name=\"proveit.logic.equality.7647045c1687301f7c5b9389b483ffe972a3c7340_step5\">5</a></td><td>instantiation</td><td><a href=\"#proveit.logic.equality.7647045c1687301f7c5b9389b483ffe972a3c7340_step6\">6</a>, <a href=\"#proveit.logic.equality.7647045c1687301f7c5b9389b483ffe972a3c7340_step7\">7</a></td><td><span style=\"font-size:20px;\"><a class=\"ProveItLink\" href=\"../59f1f131a403fe6dee4f5757d9e28efeec7c292e0/expr.ipynb\"><img src=\"../59f1f131a403fe6dee4f5757d9e28efeec7c292e0/expr.png\" style=\"display:inline;vertical-align:middle;\" /></a> <a class=\"ProveItLink\" href=\"../d4fd466acdb8dd151f7034cbb70c21b34a51c8840/proof.ipynb\" style=\"text-decoration: none\">&#x22A2;&nbsp;</a><a class=\"ProveItLink\" href=\"../../../../__pv_it/a8d4b3a34d2189508f9082853fbac36935714f280/expr.ipynb\"><img src=\"../../../../__pv_it/a8d4b3a34d2189508f9082853fbac36935714f280/expr.png\" style=\"display:inline;vertical-align:middle;\" /></a></span></td></tr>\n",
       "<tr><td>&nbsp;</td><td colspan=4 style=\"text-align:left\"><span style=\"font-size:20px;\"><a class=\"ProveItLink\" href=\"../../../../__pv_it/d3792d0d8642fdf1cd2a3a9b32c673ee13653de00/expr.ipynb\"><img src=\"../../../../__pv_it/d3792d0d8642fdf1cd2a3a9b32c673ee13653de00/expr.png\" style=\"display:inline;vertical-align:middle;\" /></a> : <a class=\"ProveItLink\" href=\"../../../../__pv_it/a8d4b3a34d2189508f9082853fbac36935714f280/expr.ipynb\"><img src=\"../../../../__pv_it/a8d4b3a34d2189508f9082853fbac36935714f280/expr.png\" style=\"display:inline;vertical-align:middle;\" /></a></span></td></tr><tr><td><a name=\"proveit.logic.equality.7647045c1687301f7c5b9389b483ffe972a3c7340_step6\">6</a></td><td>axiom</td><td></td><td><span style=\"font-size:20px;\"> <a class=\"ProveItLink\" href=\"../../../boolean/negation/_axioms_.ipynb#doubleNegationElim\" style=\"text-decoration: none\">&#x22A2;&nbsp;</a><a class=\"ProveItLink\" href=\"../669ce97e9639d92487f780b7ea4c77f12cb5f7930/expr.ipynb\"><img src=\"../669ce97e9639d92487f780b7ea4c77f12cb5f7930/expr.png\" style=\"display:inline;vertical-align:middle;\" /></a></span></td></tr>\n",
       "<tr><td>&nbsp;</td><td colspan=4 style-\"text-align:left\"><a class=\"ProveItLink\" href=\"../../../boolean/negation/_axioms_.ipynb#doubleNegationElim\">proveit.logic.boolean.negation.doubleNegationElim</a></td></tr><tr><td><a name=\"proveit.logic.equality.7647045c1687301f7c5b9389b483ffe972a3c7340_step7\">7</a></td><td>assumption</td><td></td><td><span style=\"font-size:20px;\"><a class=\"ProveItLink\" href=\"../59f1f131a403fe6dee4f5757d9e28efeec7c292e0/expr.ipynb\"><img src=\"../59f1f131a403fe6dee4f5757d9e28efeec7c292e0/expr.png\" style=\"display:inline;vertical-align:middle;\" /></a> <a class=\"ProveItLink\" href=\"../d33ed28be602be03a8a1db3948e9aa5bff8cd6c30/proof.ipynb\" style=\"text-decoration: none\">&#x22A2;&nbsp;</a><a class=\"ProveItLink\" href=\"../../../boolean/__pv_it/042fe3505369203ea8b917f910bd10f30f035d610/expr.ipynb\"><img src=\"../../../boolean/__pv_it/042fe3505369203ea8b917f910bd10f30f035d610/expr.png\" style=\"display:inline;vertical-align:middle;\" /></a></span></td></tr>\n",
       "</table>"
      ],
      "text/plain": [
       "<proveit._core_.proof._ShowProof at 0x7f5b8e8a77f0>"
      ]
     },
     "execution_count": 1,
     "metadata": {},
     "output_type": "execute_result"
    }
   ],
   "source": [
    "import proveit\n",
    "# Automation is not needed when only showing a stored proof:\n",
    "proveit.defaults.automation = False # This will speed things up.\n",
    "proveit.defaults.inline_pngs = False # Makes files smaller.\n",
    "%show_proof"
   ]
  },
  {
   "cell_type": "code",
   "execution_count": null,
   "metadata": {},
   "outputs": [],
   "source": []
  }
 ],
 "metadata": {
  "kernelspec": {
   "display_name": "Python 3",
   "language": "python",
   "name": "python3"
  },
  "language_info": {
   "codemirror_mode": {
    "name": "ipython",
    "version": 3
   },
   "file_extension": ".py",
   "mimetype": "text/x-python",
   "name": "python",
   "nbconvert_exporter": "python",
   "pygments_lexer": "ipython3",
   "version": "3.7.3"
  }
 },
 "nbformat": 4,
 "nbformat_minor": 1
}
