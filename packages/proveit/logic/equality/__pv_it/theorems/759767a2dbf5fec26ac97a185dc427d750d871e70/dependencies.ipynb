{
 "cells": [
  {
   "cell_type": "markdown",
   "metadata": {},
   "source": [
    "Theorem Dependencies\n",
    "=======================\n",
    "\n",
    "## <a class=\"ProveItLink\" href=\"../../../_theory_nbs_/theory.ipynb\">proveit.logic.equality</a>.<a class=\"ProveItLink\" href=\"../../../_theorems_.ipynb#sub_left_side_into\">sub_left_side_into</a> \n",
    "***see <a class=\"ProveItLink\" href=\"../../../_theory_nbs_/proofs/sub_left_side_into/thm_proof.ipynb\">proof</a>***"
   ]
  },
  {
   "cell_type": "code",
   "execution_count": 1,
   "metadata": {},
   "outputs": [],
   "source": [
    "import proveit\n",
    "# Automation is not needed when querying dependencies:\n",
    "proveit.defaults.automation = False # This will speed things up.\n",
    "proveit.defaults.inline_pngs = False # Makes files smaller.\n",
    "from proveit.logic.equality import sub_left_side_into"
   ]
  },
  {
   "cell_type": "code",
   "execution_count": 2,
   "metadata": {},
   "outputs": [
    {
     "data": {
      "text/html": [
       "<h3>Axioms required (directly or indirectly) to prove sub_left_side_into</h3>"
      ],
      "text/plain": [
       "<IPython.core.display.HTML object>"
      ]
     },
     "metadata": {},
     "output_type": "display_data"
    },
    {
     "data": {
      "text/html": [
       "<dl>"
      ],
      "text/plain": [
       "<IPython.core.display.HTML object>"
      ]
     },
     "metadata": {},
     "output_type": "display_data"
    },
    {
     "data": {
      "text/html": [
       "<dt><a class=\"ProveItLink\" href=\"../../../../booleans/_theory_nbs_/axioms.ipynb#eq_true_elim\">proveit.logic.booleans.eq_true_elim</a></dt><dd><a class=\"ProveItLink\" href=\"../../../../booleans/__pv_it/axioms/05a6b4904cc64664b923b0e52c73af64907ac3af0/expr.ipynb\"><img src=\"../../../../booleans/__pv_it/axioms/05a6b4904cc64664b923b0e52c73af64907ac3af0/expr.png\" style=\"display:inline;vertical-align:middle;\" /></a></dd>"
      ],
      "text/plain": [
       "<IPython.core.display.HTML object>"
      ]
     },
     "metadata": {},
     "output_type": "display_data"
    },
    {
     "data": {
      "text/html": [
       "<dt><a class=\"ProveItLink\" href=\"../../../../booleans/_theory_nbs_/axioms.ipynb#eq_true_intro\">proveit.logic.booleans.eq_true_intro</a></dt><dd><a class=\"ProveItLink\" href=\"../../../../booleans/__pv_it/axioms/654339f5fb5a65119fa860e26cec5f77107afe860/expr.ipynb\"><img src=\"../../../../booleans/__pv_it/axioms/654339f5fb5a65119fa860e26cec5f77107afe860/expr.png\" style=\"display:inline;vertical-align:middle;\" /></a></dd>"
      ],
      "text/plain": [
       "<IPython.core.display.HTML object>"
      ]
     },
     "metadata": {},
     "output_type": "display_data"
    },
    {
     "data": {
      "text/html": [
       "<dt><a class=\"ProveItLink\" href=\"../../../_theory_nbs_/axioms.ipynb#equals_transitivity\">proveit.logic.equality.equals_transitivity</a></dt><dd><a class=\"ProveItLink\" href=\"../../axioms/f827123c5f21af6ab6d517e6d3247a9ee44c13460/expr.ipynb\"><img src=\"../../axioms/f827123c5f21af6ab6d517e6d3247a9ee44c13460/expr.png\" style=\"display:inline;vertical-align:middle;\" /></a></dd>"
      ],
      "text/plain": [
       "<IPython.core.display.HTML object>"
      ]
     },
     "metadata": {},
     "output_type": "display_data"
    },
    {
     "data": {
      "text/html": [
       "<dt><a class=\"ProveItLink\" href=\"../../../_theory_nbs_/axioms.ipynb#substitution\">proveit.logic.equality.substitution</a></dt><dd><a class=\"ProveItLink\" href=\"../../axioms/326b89aaf9a595f74daee801075977039365c5540/expr.ipynb\"><img src=\"../../axioms/326b89aaf9a595f74daee801075977039365c5540/expr.png\" style=\"display:inline;vertical-align:middle;\" /></a></dd>"
      ],
      "text/plain": [
       "<IPython.core.display.HTML object>"
      ]
     },
     "metadata": {},
     "output_type": "display_data"
    },
    {
     "data": {
      "text/html": [
       "</dl>"
      ],
      "text/plain": [
       "<IPython.core.display.HTML object>"
      ]
     },
     "metadata": {},
     "output_type": "display_data"
    },
    {
     "data": {
      "text/html": [
       "<h3>Theorems/conjectures that depend directly on sub_left_side_into</h3>"
      ],
      "text/plain": [
       "<IPython.core.display.HTML object>"
      ]
     },
     "metadata": {},
     "output_type": "display_data"
    },
    {
     "data": {
      "text/html": [
       "<dl>"
      ],
      "text/plain": [
       "<IPython.core.display.HTML object>"
      ]
     },
     "metadata": {},
     "output_type": "display_data"
    },
    {
     "data": {
      "text/html": [
       "<dt><a class=\"ProveItLink\" href=\"../../../../../core_expr_types/tuples/_theory_nbs_/proofs/tuple_eq_via_elem_eq/thm_proof.ipynb\">proveit.core_expr_types.tuples.tuple_eq_via_elem_eq</a></dt><dd><a class=\"ProveItLink\" href=\"../../../../../core_expr_types/tuples/__pv_it/theorems/b236f0e28657e92c0fd2f0f7de81efb42f320fc60/expr.ipynb\"><img src=\"../../../../../core_expr_types/tuples/__pv_it/theorems/b236f0e28657e92c0fd2f0f7de81efb42f320fc60/expr.png\" style=\"display:inline;vertical-align:middle;\" /></a></dd>"
      ],
      "text/plain": [
       "<IPython.core.display.HTML object>"
      ]
     },
     "metadata": {},
     "output_type": "display_data"
    },
    {
     "data": {
      "text/html": [
       "<dt><a class=\"ProveItLink\" href=\"../../../../booleans/conjunction/_theory_nbs_/proofs/and_if_both/thm_proof.ipynb\">proveit.logic.booleans.conjunction.and_if_both</a></dt><dd><a class=\"ProveItLink\" href=\"../../../../booleans/conjunction/__pv_it/theorems/476a12431311272afdc4871f98066dc5006610aa0/expr.ipynb\"><img src=\"../../../../booleans/conjunction/__pv_it/theorems/476a12431311272afdc4871f98066dc5006610aa0/expr.png\" style=\"display:inline;vertical-align:middle;\" /></a></dd>"
      ],
      "text/plain": [
       "<IPython.core.display.HTML object>"
      ]
     },
     "metadata": {},
     "output_type": "display_data"
    },
    {
     "data": {
      "text/html": [
       "<dt><a class=\"ProveItLink\" href=\"../../../../booleans/conjunction/_theory_nbs_/proofs/nand_if_left_but_not_right/thm_proof.ipynb\">proveit.logic.booleans.conjunction.nand_if_left_but_not_right</a></dt><dd><a class=\"ProveItLink\" href=\"../../../../booleans/conjunction/__pv_it/theorems/a30cabccccf417b63570b317ea608093adb3db790/expr.ipynb\"><img src=\"../../../../booleans/conjunction/__pv_it/theorems/a30cabccccf417b63570b317ea608093adb3db790/expr.png\" style=\"display:inline;vertical-align:middle;\" /></a></dd>"
      ],
      "text/plain": [
       "<IPython.core.display.HTML object>"
      ]
     },
     "metadata": {},
     "output_type": "display_data"
    },
    {
     "data": {
      "text/html": [
       "<dt><a class=\"ProveItLink\" href=\"../../../../booleans/conjunction/_theory_nbs_/proofs/nand_if_neither/thm_proof.ipynb\">proveit.logic.booleans.conjunction.nand_if_neither</a></dt><dd><a class=\"ProveItLink\" href=\"../../../../booleans/conjunction/__pv_it/theorems/9e93b4fbf6c213f7832750a1aa672c684e842b550/expr.ipynb\"><img src=\"../../../../booleans/conjunction/__pv_it/theorems/9e93b4fbf6c213f7832750a1aa672c684e842b550/expr.png\" style=\"display:inline;vertical-align:middle;\" /></a></dd>"
      ],
      "text/plain": [
       "<IPython.core.display.HTML object>"
      ]
     },
     "metadata": {},
     "output_type": "display_data"
    },
    {
     "data": {
      "text/html": [
       "<dt><a class=\"ProveItLink\" href=\"../../../../booleans/conjunction/_theory_nbs_/proofs/nand_if_right_but_not_left/thm_proof.ipynb\">proveit.logic.booleans.conjunction.nand_if_right_but_not_left</a></dt><dd><a class=\"ProveItLink\" href=\"../../../../booleans/conjunction/__pv_it/theorems/cea4ee78dcdbb248426b2a4d83709b8dfd1d4e5c0/expr.ipynb\"><img src=\"../../../../booleans/conjunction/__pv_it/theorems/cea4ee78dcdbb248426b2a4d83709b8dfd1d4e5c0/expr.png\" style=\"display:inline;vertical-align:middle;\" /></a></dd>"
      ],
      "text/plain": [
       "<IPython.core.display.HTML object>"
      ]
     },
     "metadata": {},
     "output_type": "display_data"
    },
    {
     "data": {
      "text/html": [
       "<dt><a class=\"ProveItLink\" href=\"../../../../booleans/disjunction/_theory_nbs_/proofs/closure/thm_proof.ipynb\">proveit.logic.booleans.disjunction.closure</a></dt><dd><a class=\"ProveItLink\" href=\"../../../../booleans/disjunction/__pv_it/theorems/25de9e8a8e40144c752cc4b0632b599b0f8d7c170/expr.ipynb\"><img src=\"../../../../booleans/disjunction/__pv_it/theorems/25de9e8a8e40144c752cc4b0632b599b0f8d7c170/expr.png\" style=\"display:inline;vertical-align:middle;\" /></a></dd>"
      ],
      "text/plain": [
       "<IPython.core.display.HTML object>"
      ]
     },
     "metadata": {},
     "output_type": "display_data"
    },
    {
     "data": {
      "text/html": [
       "<dt><a class=\"ProveItLink\" href=\"../../../../booleans/disjunction/_theory_nbs_/proofs/neither_intro/thm_proof.ipynb\">proveit.logic.booleans.disjunction.neither_intro</a></dt><dd><a class=\"ProveItLink\" href=\"../../../../booleans/disjunction/__pv_it/theorems/195154fe6d607d53b49b0d087bcf9827e4c1fd510/expr.ipynb\"><img src=\"../../../../booleans/disjunction/__pv_it/theorems/195154fe6d607d53b49b0d087bcf9827e4c1fd510/expr.png\" style=\"display:inline;vertical-align:middle;\" /></a></dd>"
      ],
      "text/plain": [
       "<IPython.core.display.HTML object>"
      ]
     },
     "metadata": {},
     "output_type": "display_data"
    },
    {
     "data": {
      "text/html": [
       "<dt><a class=\"ProveItLink\" href=\"../../../../booleans/disjunction/_theory_nbs_/proofs/or_if_both/thm_proof.ipynb\">proveit.logic.booleans.disjunction.or_if_both</a></dt><dd><a class=\"ProveItLink\" href=\"../../../../booleans/disjunction/__pv_it/theorems/1820faa13a2210d5ef0e6e4a9e55a8a00c59fef60/expr.ipynb\"><img src=\"../../../../booleans/disjunction/__pv_it/theorems/1820faa13a2210d5ef0e6e4a9e55a8a00c59fef60/expr.png\" style=\"display:inline;vertical-align:middle;\" /></a></dd>"
      ],
      "text/plain": [
       "<IPython.core.display.HTML object>"
      ]
     },
     "metadata": {},
     "output_type": "display_data"
    },
    {
     "data": {
      "text/html": [
       "<dt><a class=\"ProveItLink\" href=\"../../../../booleans/disjunction/_theory_nbs_/proofs/or_if_only_left/thm_proof.ipynb\">proveit.logic.booleans.disjunction.or_if_only_left</a></dt><dd><a class=\"ProveItLink\" href=\"../../../../booleans/disjunction/__pv_it/theorems/889bfc0e1509011aab17d2eb775ff94fd3e9aa8b0/expr.ipynb\"><img src=\"../../../../booleans/disjunction/__pv_it/theorems/889bfc0e1509011aab17d2eb775ff94fd3e9aa8b0/expr.png\" style=\"display:inline;vertical-align:middle;\" /></a></dd>"
      ],
      "text/plain": [
       "<IPython.core.display.HTML object>"
      ]
     },
     "metadata": {},
     "output_type": "display_data"
    },
    {
     "data": {
      "text/html": [
       "<dt><a class=\"ProveItLink\" href=\"../../../../booleans/disjunction/_theory_nbs_/proofs/or_if_only_right/thm_proof.ipynb\">proveit.logic.booleans.disjunction.or_if_only_right</a></dt><dd><a class=\"ProveItLink\" href=\"../../../../booleans/disjunction/__pv_it/theorems/e12ec68e17cbe93c82ba53de97edea6f713984a30/expr.ipynb\"><img src=\"../../../../booleans/disjunction/__pv_it/theorems/e12ec68e17cbe93c82ba53de97edea6f713984a30/expr.png\" style=\"display:inline;vertical-align:middle;\" /></a></dd>"
      ],
      "text/plain": [
       "<IPython.core.display.HTML object>"
      ]
     },
     "metadata": {},
     "output_type": "display_data"
    },
    {
     "data": {
      "text/html": [
       "<dt><a class=\"ProveItLink\" href=\"../../../../booleans/disjunction/_theory_nbs_/proofs/unary_or_reduction/thm_proof.ipynb\">proveit.logic.booleans.disjunction.unary_or_reduction</a></dt><dd><a class=\"ProveItLink\" href=\"../../../../booleans/disjunction/__pv_it/theorems/3c68a1b115223e83f7611c5b5c01a0ca6031ff420/expr.ipynb\"><img src=\"../../../../booleans/disjunction/__pv_it/theorems/3c68a1b115223e83f7611c5b5c01a0ca6031ff420/expr.png\" style=\"display:inline;vertical-align:middle;\" /></a></dd>"
      ],
      "text/plain": [
       "<IPython.core.display.HTML object>"
      ]
     },
     "metadata": {},
     "output_type": "display_data"
    },
    {
     "data": {
      "text/html": [
       "<dt><a class=\"ProveItLink\" href=\"../../../../booleans/_theory_nbs_/proofs/fold_forall_over_bool/thm_proof.ipynb\">proveit.logic.booleans.fold_forall_over_bool</a></dt><dd><a class=\"ProveItLink\" href=\"../../../../booleans/__pv_it/theorems/941011f151bd62186581ef117fe0865b27e97ecc0/expr.ipynb\"><img src=\"../../../../booleans/__pv_it/theorems/941011f151bd62186581ef117fe0865b27e97ecc0/expr.png\" style=\"display:inline;vertical-align:middle;\" /></a></dd>"
      ],
      "text/plain": [
       "<IPython.core.display.HTML object>"
      ]
     },
     "metadata": {},
     "output_type": "display_data"
    },
    {
     "data": {
      "text/html": [
       "<dt><a class=\"ProveItLink\" href=\"../../../../booleans/_theory_nbs_/proofs/fold_is_bool/thm_proof.ipynb\">proveit.logic.booleans.fold_is_bool</a></dt><dd><a class=\"ProveItLink\" href=\"../../../../booleans/__pv_it/theorems/66ee3da68980508fb28ff4bb1ff9eb259adbbb280/expr.ipynb\"><img src=\"../../../../booleans/__pv_it/theorems/66ee3da68980508fb28ff4bb1ff9eb259adbbb280/expr.png\" style=\"display:inline;vertical-align:middle;\" /></a></dd>"
      ],
      "text/plain": [
       "<IPython.core.display.HTML object>"
      ]
     },
     "metadata": {},
     "output_type": "display_data"
    },
    {
     "data": {
      "text/html": [
       "<dt><a class=\"ProveItLink\" href=\"../../../../booleans/implication/_theory_nbs_/proofs/iff_intro/thm_proof.ipynb\">proveit.logic.booleans.implication.iff_intro</a></dt><dd><a class=\"ProveItLink\" href=\"../../../../booleans/implication/__pv_it/theorems/97c93ce3306a9d4fb93a71da92f46396f109bec30/expr.ipynb\"><img src=\"../../../../booleans/implication/__pv_it/theorems/97c93ce3306a9d4fb93a71da92f46396f109bec30/expr.png\" style=\"display:inline;vertical-align:middle;\" /></a></dd>"
      ],
      "text/plain": [
       "<IPython.core.display.HTML object>"
      ]
     },
     "metadata": {},
     "output_type": "display_data"
    },
    {
     "data": {
      "text/html": [
       "<dt><a class=\"ProveItLink\" href=\"../../../../booleans/implication/_theory_nbs_/proofs/not_iff_via_not_left_impl/thm_proof.ipynb\">proveit.logic.booleans.implication.not_iff_via_not_left_impl</a></dt><dd><a class=\"ProveItLink\" href=\"../../../../booleans/implication/__pv_it/theorems/d3b12ecb5a3e785e02f7ca95e404db1810c4e2b50/expr.ipynb\"><img src=\"../../../../booleans/implication/__pv_it/theorems/d3b12ecb5a3e785e02f7ca95e404db1810c4e2b50/expr.png\" style=\"display:inline;vertical-align:middle;\" /></a></dd>"
      ],
      "text/plain": [
       "<IPython.core.display.HTML object>"
      ]
     },
     "metadata": {},
     "output_type": "display_data"
    },
    {
     "data": {
      "text/html": [
       "<dt><a class=\"ProveItLink\" href=\"../../../../booleans/implication/_theory_nbs_/proofs/not_iff_via_not_right_impl/thm_proof.ipynb\">proveit.logic.booleans.implication.not_iff_via_not_right_impl</a></dt><dd><a class=\"ProveItLink\" href=\"../../../../booleans/implication/__pv_it/theorems/fd4d1255d3df18234f972e21ab9a2f801509dc070/expr.ipynb\"><img src=\"../../../../booleans/implication/__pv_it/theorems/fd4d1255d3df18234f972e21ab9a2f801509dc070/expr.png\" style=\"display:inline;vertical-align:middle;\" /></a></dd>"
      ],
      "text/plain": [
       "<IPython.core.display.HTML object>"
      ]
     },
     "metadata": {},
     "output_type": "display_data"
    },
    {
     "data": {
      "text/html": [
       "<dt><a class=\"ProveItLink\" href=\"../../../../booleans/_theory_nbs_/proofs/in_bool_def/thm_proof.ipynb\">proveit.logic.booleans.in_bool_def</a></dt><dd><a class=\"ProveItLink\" href=\"../../../../booleans/__pv_it/theorems/559b827ebfc7bf227a6df8a9c299bc1ccf0cb3fe0/expr.ipynb\"><img src=\"../../../../booleans/__pv_it/theorems/559b827ebfc7bf227a6df8a9c299bc1ccf0cb3fe0/expr.png\" style=\"display:inline;vertical-align:middle;\" /></a></dd>"
      ],
      "text/plain": [
       "<IPython.core.display.HTML object>"
      ]
     },
     "metadata": {},
     "output_type": "display_data"
    },
    {
     "data": {
      "text/html": [
       "<dt><a class=\"ProveItLink\" href=\"../../../../booleans/_theory_nbs_/proofs/in_bool_is_bool/thm_proof.ipynb\">proveit.logic.booleans.in_bool_is_bool</a></dt><dd><a class=\"ProveItLink\" href=\"../../../../booleans/__pv_it/theorems/28286a93b451968087b6e3d44f94ff2bc80767a80/expr.ipynb\"><img src=\"../../../../booleans/__pv_it/theorems/28286a93b451968087b6e3d44f94ff2bc80767a80/expr.png\" style=\"display:inline;vertical-align:middle;\" /></a></dd>"
      ],
      "text/plain": [
       "<IPython.core.display.HTML object>"
      ]
     },
     "metadata": {},
     "output_type": "display_data"
    },
    {
     "data": {
      "text/html": [
       "<dt><a class=\"ProveItLink\" href=\"../../../../booleans/negation/_theory_nbs_/proofs/closure/thm_proof.ipynb\">proveit.logic.booleans.negation.closure</a></dt><dd><a class=\"ProveItLink\" href=\"../../../../booleans/negation/__pv_it/theorems/3ce0df3c5132a3653fd6f1749f1a509d249414970/expr.ipynb\"><img src=\"../../../../booleans/negation/__pv_it/theorems/3ce0df3c5132a3653fd6f1749f1a509d249414970/expr.png\" style=\"display:inline;vertical-align:middle;\" /></a></dd>"
      ],
      "text/plain": [
       "<IPython.core.display.HTML object>"
      ]
     },
     "metadata": {},
     "output_type": "display_data"
    },
    {
     "data": {
      "text/html": [
       "<dt><a class=\"ProveItLink\" href=\"../../../../booleans/negation/_theory_nbs_/proofs/negation_intro/thm_proof.ipynb\">proveit.logic.booleans.negation.negation_intro</a></dt><dd><a class=\"ProveItLink\" href=\"../../../../booleans/negation/__pv_it/theorems/bd44e5e9811a0473cdf6881df0fcd94e9f27db200/expr.ipynb\"><img src=\"../../../../booleans/negation/__pv_it/theorems/bd44e5e9811a0473cdf6881df0fcd94e9f27db200/expr.png\" style=\"display:inline;vertical-align:middle;\" /></a></dd>"
      ],
      "text/plain": [
       "<IPython.core.display.HTML object>"
      ]
     },
     "metadata": {},
     "output_type": "display_data"
    },
    {
     "data": {
      "text/html": [
       "<dt><a class=\"ProveItLink\" href=\"../../../../booleans/negation/_theory_nbs_/proofs/untrue_from_negation/thm_proof.ipynb\">proveit.logic.booleans.negation.untrue_from_negation</a></dt><dd><a class=\"ProveItLink\" href=\"../../../../booleans/negation/__pv_it/theorems/5a55b7b37dfe2dd7661c6d6d9a5352f28639ee650/expr.ipynb\"><img src=\"../../../../booleans/negation/__pv_it/theorems/5a55b7b37dfe2dd7661c6d6d9a5352f28639ee650/expr.png\" style=\"display:inline;vertical-align:middle;\" /></a></dd>"
      ],
      "text/plain": [
       "<IPython.core.display.HTML object>"
      ]
     },
     "metadata": {},
     "output_type": "display_data"
    },
    {
     "data": {
      "text/html": [
       "<dt><a class=\"ProveItLink\" href=\"../../../_theory_nbs_/proofs/lhs_via_equality/thm_proof.ipynb\">proveit.logic.equality.lhs_via_equality</a></dt><dd><a class=\"ProveItLink\" href=\"../616d0b2f7e66734de9dc6e08a83e1658e87b5c020/expr.ipynb\"><img src=\"../616d0b2f7e66734de9dc6e08a83e1658e87b5c020/expr.png\" style=\"display:inline;vertical-align:middle;\" /></a></dd>"
      ],
      "text/plain": [
       "<IPython.core.display.HTML object>"
      ]
     },
     "metadata": {},
     "output_type": "display_data"
    },
    {
     "data": {
      "text/html": [
       "<dt><a class=\"ProveItLink\" href=\"../../../_theory_nbs_/proofs/not_equals_is_bool/thm_proof.ipynb\">proveit.logic.equality.not_equals_is_bool</a></dt><dd><a class=\"ProveItLink\" href=\"../a446950e969022a3ee550d1d71613c8997b960bf0/expr.ipynb\"><img src=\"../a446950e969022a3ee550d1d71613c8997b960bf0/expr.png\" style=\"display:inline;vertical-align:middle;\" /></a></dd>"
      ],
      "text/plain": [
       "<IPython.core.display.HTML object>"
      ]
     },
     "metadata": {},
     "output_type": "display_data"
    },
    {
     "data": {
      "text/html": [
       "<dt><a class=\"ProveItLink\" href=\"../../../_theory_nbs_/proofs/not_equals_symmetry/thm_proof.ipynb\">proveit.logic.equality.not_equals_symmetry</a></dt><dd><a class=\"ProveItLink\" href=\"../729d657cf405e7f6d6061c4386b28b14310996720/expr.ipynb\"><img src=\"../729d657cf405e7f6d6061c4386b28b14310996720/expr.png\" style=\"display:inline;vertical-align:middle;\" /></a></dd>"
      ],
      "text/plain": [
       "<IPython.core.display.HTML object>"
      ]
     },
     "metadata": {},
     "output_type": "display_data"
    },
    {
     "data": {
      "text/html": [
       "<dt><a class=\"ProveItLink\" href=\"../../../_theory_nbs_/proofs/sub_right_side_into/thm_proof.ipynb\">proveit.logic.equality.sub_right_side_into</a></dt><dd><a class=\"ProveItLink\" href=\"../7a9b2c4886327c7a880f6690c6b8bb5488c2412c0/expr.ipynb\"><img src=\"../7a9b2c4886327c7a880f6690c6b8bb5488c2412c0/expr.png\" style=\"display:inline;vertical-align:middle;\" /></a></dd>"
      ],
      "text/plain": [
       "<IPython.core.display.HTML object>"
      ]
     },
     "metadata": {},
     "output_type": "display_data"
    },
    {
     "data": {
      "text/html": [
       "<dt><a class=\"ProveItLink\" href=\"../../../_theory_nbs_/proofs/substitute_falsehood/thm_proof.ipynb\">proveit.logic.equality.substitute_falsehood</a></dt><dd><a class=\"ProveItLink\" href=\"../3235ff35dedbd71bd7db2ed5eb07aab3b6012de00/expr.ipynb\"><img src=\"../3235ff35dedbd71bd7db2ed5eb07aab3b6012de00/expr.png\" style=\"display:inline;vertical-align:middle;\" /></a></dd>"
      ],
      "text/plain": [
       "<IPython.core.display.HTML object>"
      ]
     },
     "metadata": {},
     "output_type": "display_data"
    },
    {
     "data": {
      "text/html": [
       "<dt><a class=\"ProveItLink\" href=\"../../../_theory_nbs_/proofs/substitute_truth/thm_proof.ipynb\">proveit.logic.equality.substitute_truth</a></dt><dd><a class=\"ProveItLink\" href=\"../a2fcccb6b9a54f83342381fbffc0c31590728d2e0/expr.ipynb\"><img src=\"../a2fcccb6b9a54f83342381fbffc0c31590728d2e0/expr.png\" style=\"display:inline;vertical-align:middle;\" /></a></dd>"
      ],
      "text/plain": [
       "<IPython.core.display.HTML object>"
      ]
     },
     "metadata": {},
     "output_type": "display_data"
    },
    {
     "data": {
      "text/html": [
       "<dt><a class=\"ProveItLink\" href=\"../../../../sets/enumeration/_theory_nbs_/proofs/in_singleton_eval_false/thm_proof.ipynb\">proveit.logic.sets.enumeration.in_singleton_eval_false</a></dt><dd><a class=\"ProveItLink\" href=\"../../../../sets/enumeration/__pv_it/theorems/34b5ed17d3a5c617bb0034ccfd3cad0b061000b50/expr.ipynb\"><img src=\"../../../../sets/enumeration/__pv_it/theorems/34b5ed17d3a5c617bb0034ccfd3cad0b061000b50/expr.png\" style=\"display:inline;vertical-align:middle;\" /></a></dd>"
      ],
      "text/plain": [
       "<IPython.core.display.HTML object>"
      ]
     },
     "metadata": {},
     "output_type": "display_data"
    },
    {
     "data": {
      "text/html": [
       "<dt><a class=\"ProveItLink\" href=\"../../../../sets/enumeration/_theory_nbs_/proofs/in_singleton_eval_true/thm_proof.ipynb\">proveit.logic.sets.enumeration.in_singleton_eval_true</a></dt><dd><a class=\"ProveItLink\" href=\"../../../../sets/enumeration/__pv_it/theorems/8f4cea3a2b47b2aa2662790c61aa148ed52b5afa0/expr.ipynb\"><img src=\"../../../../sets/enumeration/__pv_it/theorems/8f4cea3a2b47b2aa2662790c61aa148ed52b5afa0/expr.png\" style=\"display:inline;vertical-align:middle;\" /></a></dd>"
      ],
      "text/plain": [
       "<IPython.core.display.HTML object>"
      ]
     },
     "metadata": {},
     "output_type": "display_data"
    },
    {
     "data": {
      "text/html": [
       "<dt><a class=\"ProveItLink\" href=\"../../../../sets/enumeration/_theory_nbs_/proofs/in_singleton_is_bool/thm_proof.ipynb\">proveit.logic.sets.enumeration.in_singleton_is_bool</a></dt><dd><a class=\"ProveItLink\" href=\"../../../../sets/enumeration/__pv_it/theorems/247b12d9f21e0ecd0393627335b4e82f5db534b40/expr.ipynb\"><img src=\"../../../../sets/enumeration/__pv_it/theorems/247b12d9f21e0ecd0393627335b4e82f5db534b40/expr.png\" style=\"display:inline;vertical-align:middle;\" /></a></dd>"
      ],
      "text/plain": [
       "<IPython.core.display.HTML object>"
      ]
     },
     "metadata": {},
     "output_type": "display_data"
    },
    {
     "data": {
      "text/html": [
       "<dt><a class=\"ProveItLink\" href=\"../../../../sets/equivalence/_theory_nbs_/proofs/set_equiv_is_bool/thm_proof.ipynb\">proveit.logic.sets.equivalence.set_equiv_is_bool</a></dt><dd><a class=\"ProveItLink\" href=\"../../../../sets/equivalence/__pv_it/theorems/7ad729e926493c66c5164ae3c1736367a81bd1b40/expr.ipynb\"><img src=\"../../../../sets/equivalence/__pv_it/theorems/7ad729e926493c66c5164ae3c1736367a81bd1b40/expr.png\" style=\"display:inline;vertical-align:middle;\" /></a></dd>"
      ],
      "text/plain": [
       "<IPython.core.display.HTML object>"
      ]
     },
     "metadata": {},
     "output_type": "display_data"
    },
    {
     "data": {
      "text/html": [
       "<dt><a class=\"ProveItLink\" href=\"../../../../sets/equivalence/_theory_nbs_/proofs/set_not_equiv_is_bool/thm_proof.ipynb\">proveit.logic.sets.equivalence.set_not_equiv_is_bool</a></dt><dd><a class=\"ProveItLink\" href=\"../../../../sets/equivalence/__pv_it/theorems/8da08bf38e28934ee16ac37d67bbdb1079c22a730/expr.ipynb\"><img src=\"../../../../sets/equivalence/__pv_it/theorems/8da08bf38e28934ee16ac37d67bbdb1079c22a730/expr.png\" style=\"display:inline;vertical-align:middle;\" /></a></dd>"
      ],
      "text/plain": [
       "<IPython.core.display.HTML object>"
      ]
     },
     "metadata": {},
     "output_type": "display_data"
    },
    {
     "data": {
      "text/html": [
       "<dt><a class=\"ProveItLink\" href=\"../../../../sets/equivalence/_theory_nbs_/proofs/set_not_equiv_reversal/thm_proof.ipynb\">proveit.logic.sets.equivalence.set_not_equiv_reversal</a></dt><dd><a class=\"ProveItLink\" href=\"../../../../sets/equivalence/__pv_it/theorems/a389ba9aa36770c764310372d6e505ff845b519a0/expr.ipynb\"><img src=\"../../../../sets/equivalence/__pv_it/theorems/a389ba9aa36770c764310372d6e505ff845b519a0/expr.png\" style=\"display:inline;vertical-align:middle;\" /></a></dd>"
      ],
      "text/plain": [
       "<IPython.core.display.HTML object>"
      ]
     },
     "metadata": {},
     "output_type": "display_data"
    },
    {
     "data": {
      "text/html": [
       "<dt><a class=\"ProveItLink\" href=\"../../../../sets/inclusion/_theory_nbs_/proofs/reverse_not_subset_eq/thm_proof.ipynb\">proveit.logic.sets.inclusion.reverse_not_subset_eq</a></dt><dd><a class=\"ProveItLink\" href=\"../../../../sets/inclusion/__pv_it/theorems/04c882c1c9a9cbe892800ea418d6cca1fc657d020/expr.ipynb\"><img src=\"../../../../sets/inclusion/__pv_it/theorems/04c882c1c9a9cbe892800ea418d6cca1fc657d020/expr.png\" style=\"display:inline;vertical-align:middle;\" /></a></dd>"
      ],
      "text/plain": [
       "<IPython.core.display.HTML object>"
      ]
     },
     "metadata": {},
     "output_type": "display_data"
    },
    {
     "data": {
      "text/html": [
       "<dt><a class=\"ProveItLink\" href=\"../../../../sets/inclusion/_theory_nbs_/proofs/subset_eq_equals_superset_eq/thm_proof.ipynb\">proveit.logic.sets.inclusion.subset_eq_equals_superset_eq</a></dt><dd><a class=\"ProveItLink\" href=\"../../../../sets/inclusion/__pv_it/theorems/2abcda24fb0f76881050e3037d06774e692850950/expr.ipynb\"><img src=\"../../../../sets/inclusion/__pv_it/theorems/2abcda24fb0f76881050e3037d06774e692850950/expr.png\" style=\"display:inline;vertical-align:middle;\" /></a></dd>"
      ],
      "text/plain": [
       "<IPython.core.display.HTML object>"
      ]
     },
     "metadata": {},
     "output_type": "display_data"
    },
    {
     "data": {
      "text/html": [
       "<dt><a class=\"ProveItLink\" href=\"../../../../sets/membership/_theory_nbs_/proofs/not_in_set_is_bool/thm_proof.ipynb\">proveit.logic.sets.membership.not_in_set_is_bool</a></dt><dd><a class=\"ProveItLink\" href=\"../../../../sets/membership/__pv_it/theorems/d52f6d2100ee61b18642074498bf36b8c75445060/expr.ipynb\"><img src=\"../../../../sets/membership/__pv_it/theorems/d52f6d2100ee61b18642074498bf36b8c75445060/expr.png\" style=\"display:inline;vertical-align:middle;\" /></a></dd>"
      ],
      "text/plain": [
       "<IPython.core.display.HTML object>"
      ]
     },
     "metadata": {},
     "output_type": "display_data"
    },
    {
     "data": {
      "text/html": [
       "<dt><a class=\"ProveItLink\" href=\"../../../../../numbers/divisibility/_theory_nbs_/proofs/divides_is_bool/thm_proof.ipynb\">proveit.numbers.divisibility.divides_is_bool</a></dt><dd><a class=\"ProveItLink\" href=\"../../../../../numbers/divisibility/__pv_it/theorems/8f86534a0925123cb27dafc582f8ca797aad4dd20/expr.ipynb\"><img src=\"../../../../../numbers/divisibility/__pv_it/theorems/8f86534a0925123cb27dafc582f8ca797aad4dd20/expr.png\" style=\"display:inline;vertical-align:middle;\" /></a></dd>"
      ],
      "text/plain": [
       "<IPython.core.display.HTML object>"
      ]
     },
     "metadata": {},
     "output_type": "display_data"
    },
    {
     "data": {
      "text/html": [
       "<dt><a class=\"ProveItLink\" href=\"../../../../../numbers/divisibility/_theory_nbs_/proofs/non_zero_divides_zero/thm_proof.ipynb\">proveit.numbers.divisibility.non_zero_divides_zero</a></dt><dd><a class=\"ProveItLink\" href=\"../../../../../numbers/divisibility/__pv_it/theorems/bb1f82978ab982542f2091aaa9f99236ef33d7e80/expr.ipynb\"><img src=\"../../../../../numbers/divisibility/__pv_it/theorems/bb1f82978ab982542f2091aaa9f99236ef33d7e80/expr.png\" style=\"display:inline;vertical-align:middle;\" /></a></dd>"
      ],
      "text/plain": [
       "<IPython.core.display.HTML object>"
      ]
     },
     "metadata": {},
     "output_type": "display_data"
    },
    {
     "data": {
      "text/html": [
       "<dt><a class=\"ProveItLink\" href=\"../../../../../numbers/exponentiation/_theory_nbs_/proofs/sqrt2_is_not_rational/thm_proof.ipynb\">proveit.numbers.exponentiation.sqrt2_is_not_rational</a></dt><dd><a class=\"ProveItLink\" href=\"../../../../../numbers/exponentiation/__pv_it/theorems/7fae0196da015b8256d13b37a10b8319c493434a0/expr.ipynb\"><img src=\"../../../../../numbers/exponentiation/__pv_it/theorems/7fae0196da015b8256d13b37a10b8319c493434a0/expr.png\" style=\"display:inline;vertical-align:middle;\" /></a></dd>"
      ],
      "text/plain": [
       "<IPython.core.display.HTML object>"
      ]
     },
     "metadata": {},
     "output_type": "display_data"
    },
    {
     "data": {
      "text/html": [
       "<dt><a class=\"ProveItLink\" href=\"../../../../../numbers/numerals/decimals/_theory_nbs_/proofs/nat1/thm_proof.ipynb\">proveit.numbers.numerals.decimals.nat1</a></dt><dd><a class=\"ProveItLink\" href=\"../../../../../numbers/numerals/decimals/__pv_it/theorems/7fb9a05424b991456a1d535347793e2786ff41910/expr.ipynb\"><img src=\"../../../../../numbers/numerals/decimals/__pv_it/theorems/7fb9a05424b991456a1d535347793e2786ff41910/expr.png\" style=\"display:inline;vertical-align:middle;\" /></a></dd>"
      ],
      "text/plain": [
       "<IPython.core.display.HTML object>"
      ]
     },
     "metadata": {},
     "output_type": "display_data"
    },
    {
     "data": {
      "text/html": [
       "<dt><a class=\"ProveItLink\" href=\"../../../../../numbers/numerals/decimals/_theory_nbs_/proofs/nat2/thm_proof.ipynb\">proveit.numbers.numerals.decimals.nat2</a></dt><dd><a class=\"ProveItLink\" href=\"../../../../../numbers/numerals/decimals/__pv_it/theorems/f05a14f3b1e025929c966a4ccb020e28f34812b20/expr.ipynb\"><img src=\"../../../../../numbers/numerals/decimals/__pv_it/theorems/f05a14f3b1e025929c966a4ccb020e28f34812b20/expr.png\" style=\"display:inline;vertical-align:middle;\" /></a></dd>"
      ],
      "text/plain": [
       "<IPython.core.display.HTML object>"
      ]
     },
     "metadata": {},
     "output_type": "display_data"
    },
    {
     "data": {
      "text/html": [
       "<dt><a class=\"ProveItLink\" href=\"../../../../../numbers/ordering/_theory_nbs_/proofs/reverse_greater_eq/thm_proof.ipynb\">proveit.numbers.ordering.reverse_greater_eq</a></dt><dd><a class=\"ProveItLink\" href=\"../../../../../numbers/ordering/__pv_it/theorems/1d7a0657d7dede0a9fe982b7a65fc90c31658b040/expr.ipynb\"><img src=\"../../../../../numbers/ordering/__pv_it/theorems/1d7a0657d7dede0a9fe982b7a65fc90c31658b040/expr.png\" style=\"display:inline;vertical-align:middle;\" /></a></dd>"
      ],
      "text/plain": [
       "<IPython.core.display.HTML object>"
      ]
     },
     "metadata": {},
     "output_type": "display_data"
    },
    {
     "data": {
      "text/html": [
       "<dt><a class=\"ProveItLink\" href=\"../../../../../numbers/ordering/_theory_nbs_/proofs/reverse_less_eq/thm_proof.ipynb\">proveit.numbers.ordering.reverse_less_eq</a></dt><dd><a class=\"ProveItLink\" href=\"../../../../../numbers/ordering/__pv_it/theorems/d55857cf7f135545e7387e8c08328974beaa52330/expr.ipynb\"><img src=\"../../../../../numbers/ordering/__pv_it/theorems/d55857cf7f135545e7387e8c08328974beaa52330/expr.png\" style=\"display:inline;vertical-align:middle;\" /></a></dd>"
      ],
      "text/plain": [
       "<IPython.core.display.HTML object>"
      ]
     },
     "metadata": {},
     "output_type": "display_data"
    },
    {
     "data": {
      "text/html": [
       "<dt><a class=\"ProveItLink\" href=\"../../../../../numbers/ordering/_theory_nbs_/proofs/transitivity_greater_eq_greater/thm_proof.ipynb\">proveit.numbers.ordering.transitivity_greater_eq_greater</a></dt><dd><a class=\"ProveItLink\" href=\"../../../../../numbers/ordering/__pv_it/theorems/253e57dcc33067bdef055811e978562913e8eac60/expr.ipynb\"><img src=\"../../../../../numbers/ordering/__pv_it/theorems/253e57dcc33067bdef055811e978562913e8eac60/expr.png\" style=\"display:inline;vertical-align:middle;\" /></a></dd>"
      ],
      "text/plain": [
       "<IPython.core.display.HTML object>"
      ]
     },
     "metadata": {},
     "output_type": "display_data"
    },
    {
     "data": {
      "text/html": [
       "<dt><a class=\"ProveItLink\" href=\"../../../../../numbers/ordering/_theory_nbs_/proofs/transitivity_greater_eq_greater_eq/thm_proof.ipynb\">proveit.numbers.ordering.transitivity_greater_eq_greater_eq</a></dt><dd><a class=\"ProveItLink\" href=\"../../../../../numbers/ordering/__pv_it/theorems/f8d9b4d46d14c84f80d895c56947b99495d69aa20/expr.ipynb\"><img src=\"../../../../../numbers/ordering/__pv_it/theorems/f8d9b4d46d14c84f80d895c56947b99495d69aa20/expr.png\" style=\"display:inline;vertical-align:middle;\" /></a></dd>"
      ],
      "text/plain": [
       "<IPython.core.display.HTML object>"
      ]
     },
     "metadata": {},
     "output_type": "display_data"
    },
    {
     "data": {
      "text/html": [
       "<dt><a class=\"ProveItLink\" href=\"../../../../../numbers/ordering/_theory_nbs_/proofs/transitivity_less_eq_less/thm_proof.ipynb\">proveit.numbers.ordering.transitivity_less_eq_less</a></dt><dd><a class=\"ProveItLink\" href=\"../../../../../numbers/ordering/__pv_it/theorems/7fc80fd0eaf1ee875074c1b5925ff9bb287042be0/expr.ipynb\"><img src=\"../../../../../numbers/ordering/__pv_it/theorems/7fc80fd0eaf1ee875074c1b5925ff9bb287042be0/expr.png\" style=\"display:inline;vertical-align:middle;\" /></a></dd>"
      ],
      "text/plain": [
       "<IPython.core.display.HTML object>"
      ]
     },
     "metadata": {},
     "output_type": "display_data"
    },
    {
     "data": {
      "text/html": [
       "<dt><a class=\"ProveItLink\" href=\"../../../../../numbers/ordering/_theory_nbs_/proofs/transitivity_less_eq_less_eq/thm_proof.ipynb\">proveit.numbers.ordering.transitivity_less_eq_less_eq</a></dt><dd><a class=\"ProveItLink\" href=\"../../../../../numbers/ordering/__pv_it/theorems/a67d79a6901b2d9af4cde56e3eff617c916a5df70/expr.ipynb\"><img src=\"../../../../../numbers/ordering/__pv_it/theorems/a67d79a6901b2d9af4cde56e3eff617c916a5df70/expr.png\" style=\"display:inline;vertical-align:middle;\" /></a></dd>"
      ],
      "text/plain": [
       "<IPython.core.display.HTML object>"
      ]
     },
     "metadata": {},
     "output_type": "display_data"
    },
    {
     "data": {
      "text/html": [
       "<dt><a class=\"ProveItLink\" href=\"../../../../../physics/quantum/QPE/_theory_nbs_/proofs/mod_add_closure/thm_proof.ipynb\">proveit.physics.quantum.QPE.mod_add_closure</a></dt><dd><a class=\"ProveItLink\" href=\"../../../../../physics/quantum/QPE/__pv_it/theorems/1ec28ab4d6d27504775609cb7ca85457242a6d970/expr.ipynb\"><img src=\"../../../../../physics/quantum/QPE/__pv_it/theorems/1ec28ab4d6d27504775609cb7ca85457242a6d970/expr.png\" style=\"display:inline;vertical-align:middle;\" /></a></dd>"
      ],
      "text/plain": [
       "<IPython.core.display.HTML object>"
      ]
     },
     "metadata": {},
     "output_type": "display_data"
    },
    {
     "data": {
      "text/html": [
       "</dl>"
      ],
      "text/plain": [
       "<IPython.core.display.HTML object>"
      ]
     },
     "metadata": {},
     "output_type": "display_data"
    }
   ],
   "source": [
    "%dependencies sub_left_side_into"
   ]
  }
 ],
 "metadata": {
  "kernelspec": {
   "display_name": "Python 3",
   "language": "python",
   "name": "python3"
  }
 },
 "nbformat": 4,
 "nbformat_minor": 0
}