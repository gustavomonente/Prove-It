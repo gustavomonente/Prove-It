{
 "cells": [
  {
   "cell_type": "markdown",
   "metadata": {},
   "source": [
    "Theorem Dependencies\n",
    "=======================\n",
    "\n",
    "## <a class=\"ProveItLink\" href=\"../../../_theory_nbs_/theory.ipynb\">proveit.logic.equality</a>.<a class=\"ProveItLink\" href=\"../../../_theorems_.ipynb#sub_right_side_into\">sub_right_side_into</a> \n",
    "***see <a class=\"ProveItLink\" href=\"../../../_theory_nbs_/proofs/sub_right_side_into/thm_proof.ipynb\">proof</a>***"
   ]
  },
  {
   "cell_type": "code",
   "execution_count": 1,
   "metadata": {},
   "outputs": [],
   "source": [
    "import proveit\n",
    "# Automation is not needed when querying dependencies:\n",
    "proveit.defaults.automation = False # This will speed things up.\n",
    "proveit.defaults.inline_pngs = False # Makes files smaller.\n",
    "from proveit.logic.equality import sub_right_side_into"
   ]
  },
  {
   "cell_type": "code",
   "execution_count": 2,
   "metadata": {},
   "outputs": [
    {
     "data": {
      "text/html": [
       "<h3>Axioms required (directly or indirectly) to prove sub_right_side_into</h3>"
      ],
      "text/plain": [
       "<IPython.core.display.HTML object>"
      ]
     },
     "metadata": {},
     "output_type": "display_data"
    },
    {
     "data": {
      "text/html": [
       "<dl>"
      ],
      "text/plain": [
       "<IPython.core.display.HTML object>"
      ]
     },
     "metadata": {},
     "output_type": "display_data"
    },
    {
     "data": {
      "text/html": [
       "<dt><a class=\"ProveItLink\" href=\"../../../../booleans/_theory_nbs_/axioms.ipynb#eq_true_elim\">proveit.logic.booleans.eq_true_elim</a></dt><dd><a class=\"ProveItLink\" href=\"../../../../booleans/__pv_it/axioms/ed8b0a27c515b8c85261606f0835dadd8c8b34f70/expr.ipynb\"><img src=\"../../../../booleans/__pv_it/axioms/ed8b0a27c515b8c85261606f0835dadd8c8b34f70/expr.png\" style=\"display:inline;vertical-align:middle;\" /></a></dd>"
      ],
      "text/plain": [
       "<IPython.core.display.HTML object>"
      ]
     },
     "metadata": {},
     "output_type": "display_data"
    },
    {
     "data": {
      "text/html": [
       "<dt><a class=\"ProveItLink\" href=\"../../../../booleans/_theory_nbs_/axioms.ipynb#eq_true_intro\">proveit.logic.booleans.eq_true_intro</a></dt><dd><a class=\"ProveItLink\" href=\"../../../../booleans/__pv_it/axioms/3a99d3cb7c410f4636cdc59f7b36cdf6997b37680/expr.ipynb\"><img src=\"../../../../booleans/__pv_it/axioms/3a99d3cb7c410f4636cdc59f7b36cdf6997b37680/expr.png\" style=\"display:inline;vertical-align:middle;\" /></a></dd>"
      ],
      "text/plain": [
       "<IPython.core.display.HTML object>"
      ]
     },
     "metadata": {},
     "output_type": "display_data"
    },
    {
     "data": {
      "text/html": [
       "<dt><a class=\"ProveItLink\" href=\"../../../_theory_nbs_/axioms.ipynb#equals_symmetry\">proveit.logic.equality.equals_symmetry</a></dt><dd><a class=\"ProveItLink\" href=\"../../axioms/34996bbbceac0f69a08b78cc992f42a548486c1c0/expr.ipynb\"><img src=\"../../axioms/34996bbbceac0f69a08b78cc992f42a548486c1c0/expr.png\" style=\"display:inline;vertical-align:middle;\" /></a></dd>"
      ],
      "text/plain": [
       "<IPython.core.display.HTML object>"
      ]
     },
     "metadata": {},
     "output_type": "display_data"
    },
    {
     "data": {
      "text/html": [
       "<dt><a class=\"ProveItLink\" href=\"../../../_theory_nbs_/axioms.ipynb#equals_transitivity\">proveit.logic.equality.equals_transitivity</a></dt><dd><a class=\"ProveItLink\" href=\"../../axioms/fe5ecb4839370106d7aa598ff8e51b95c71757a70/expr.ipynb\"><img src=\"../../axioms/fe5ecb4839370106d7aa598ff8e51b95c71757a70/expr.png\" style=\"display:inline;vertical-align:middle;\" /></a></dd>"
      ],
      "text/plain": [
       "<IPython.core.display.HTML object>"
      ]
     },
     "metadata": {},
     "output_type": "display_data"
    },
    {
     "data": {
      "text/html": [
       "<dt><a class=\"ProveItLink\" href=\"../../../_theory_nbs_/axioms.ipynb#substitution\">proveit.logic.equality.substitution</a></dt><dd><a class=\"ProveItLink\" href=\"../../axioms/fb5aa0007e656f471030da411c3555b23b265d8f0/expr.ipynb\"><img src=\"../../axioms/fb5aa0007e656f471030da411c3555b23b265d8f0/expr.png\" style=\"display:inline;vertical-align:middle;\" /></a></dd>"
      ],
      "text/plain": [
       "<IPython.core.display.HTML object>"
      ]
     },
     "metadata": {},
     "output_type": "display_data"
    },
    {
     "data": {
      "text/html": [
       "</dl>"
      ],
      "text/plain": [
       "<IPython.core.display.HTML object>"
      ]
     },
     "metadata": {},
     "output_type": "display_data"
    },
    {
     "data": {
      "text/html": [
       "<h3>Theorems/conjectures that depend directly on sub_right_side_into</h3>"
      ],
      "text/plain": [
       "<IPython.core.display.HTML object>"
      ]
     },
     "metadata": {},
     "output_type": "display_data"
    },
    {
     "data": {
      "text/html": [
       "<dl>"
      ],
      "text/plain": [
       "<IPython.core.display.HTML object>"
      ]
     },
     "metadata": {},
     "output_type": "display_data"
    },
    {
     "data": {
      "text/html": [
       "<dt><a class=\"ProveItLink\" href=\"../../../../../core_expr_types/conditionals/_theory_nbs_/proofs/implication_from_conditional/thm_proof.ipynb\">proveit.core_expr_types.conditionals.implication_from_conditional</a></dt><dd><a class=\"ProveItLink\" href=\"../../../../../core_expr_types/conditionals/__pv_it/theorems/69243b2b9f91413c66b70954143e92ceeb03fc3c0/expr.ipynb\"><img src=\"../../../../../core_expr_types/conditionals/__pv_it/theorems/69243b2b9f91413c66b70954143e92ceeb03fc3c0/expr.png\" style=\"display:inline;vertical-align:middle;\" /></a></dd>"
      ],
      "text/plain": [
       "<IPython.core.display.HTML object>"
      ]
     },
     "metadata": {},
     "output_type": "display_data"
    },
    {
     "data": {
      "text/html": [
       "<dt><a class=\"ProveItLink\" href=\"../../../../../core_expr_types/tuples/_theory_nbs_/proofs/tuple_eq_via_elem_eq/thm_proof.ipynb\">proveit.core_expr_types.tuples.tuple_eq_via_elem_eq</a></dt><dd><a class=\"ProveItLink\" href=\"../../../../../core_expr_types/tuples/__pv_it/theorems/dfbd4ebd2517106b9810d979f0677d5902666d5f0/expr.ipynb\"><img src=\"../../../../../core_expr_types/tuples/__pv_it/theorems/dfbd4ebd2517106b9810d979f0677d5902666d5f0/expr.png\" style=\"display:inline;vertical-align:middle;\" /></a></dd>"
      ],
      "text/plain": [
       "<IPython.core.display.HTML object>"
      ]
     },
     "metadata": {},
     "output_type": "display_data"
    },
    {
     "data": {
      "text/html": [
       "<dt><a class=\"ProveItLink\" href=\"../../../../booleans/conjunction/_theory_nbs_/proofs/unary_and_reduction/thm_proof.ipynb\">proveit.logic.booleans.conjunction.unary_and_reduction</a></dt><dd><a class=\"ProveItLink\" href=\"../../../../booleans/conjunction/__pv_it/theorems/abed72f39aa443501ccaf5b97246efe9e72643db0/expr.ipynb\"><img src=\"../../../../booleans/conjunction/__pv_it/theorems/abed72f39aa443501ccaf5b97246efe9e72643db0/expr.png\" style=\"display:inline;vertical-align:middle;\" /></a></dd>"
      ],
      "text/plain": [
       "<IPython.core.display.HTML object>"
      ]
     },
     "metadata": {},
     "output_type": "display_data"
    },
    {
     "data": {
      "text/html": [
       "<dt><a class=\"ProveItLink\" href=\"../../../../booleans/negation/_theory_nbs_/proofs/negation_contradiction/thm_proof.ipynb\">proveit.logic.booleans.negation.negation_contradiction</a></dt><dd><a class=\"ProveItLink\" href=\"../../../../booleans/negation/__pv_it/theorems/c7513fda06010a7723fd74a5896c2aebcaad90630/expr.ipynb\"><img src=\"../../../../booleans/negation/__pv_it/theorems/c7513fda06010a7723fd74a5896c2aebcaad90630/expr.png\" style=\"display:inline;vertical-align:middle;\" /></a></dd>"
      ],
      "text/plain": [
       "<IPython.core.display.HTML object>"
      ]
     },
     "metadata": {},
     "output_type": "display_data"
    },
    {
     "data": {
      "text/html": [
       "<dt><a class=\"ProveItLink\" href=\"../../../../booleans/_theory_nbs_/proofs/unfold_is_bool_explicit/thm_proof.ipynb\">proveit.logic.booleans.unfold_is_bool_explicit</a></dt><dd><a class=\"ProveItLink\" href=\"../../../../booleans/__pv_it/theorems/9382897827adf7928ed0fbce0da4ae89cdc9f16e0/expr.ipynb\"><img src=\"../../../../booleans/__pv_it/theorems/9382897827adf7928ed0fbce0da4ae89cdc9f16e0/expr.png\" style=\"display:inline;vertical-align:middle;\" /></a></dd>"
      ],
      "text/plain": [
       "<IPython.core.display.HTML object>"
      ]
     },
     "metadata": {},
     "output_type": "display_data"
    },
    {
     "data": {
      "text/html": [
       "<dt><a class=\"ProveItLink\" href=\"../../../_theory_nbs_/proofs/rhs_via_equality/thm_proof.ipynb\">proveit.logic.equality.rhs_via_equality</a></dt><dd><a class=\"ProveItLink\" href=\"../05e66cbd347a7127d5119c3c454fa90d2e3f9bae0/expr.ipynb\"><img src=\"../05e66cbd347a7127d5119c3c454fa90d2e3f9bae0/expr.png\" style=\"display:inline;vertical-align:middle;\" /></a></dd>"
      ],
      "text/plain": [
       "<IPython.core.display.HTML object>"
      ]
     },
     "metadata": {},
     "output_type": "display_data"
    },
    {
     "data": {
      "text/html": [
       "<dt><a class=\"ProveItLink\" href=\"../../../_theory_nbs_/proofs/substitute_in_false/thm_proof.ipynb\">proveit.logic.equality.substitute_in_false</a></dt><dd><a class=\"ProveItLink\" href=\"../34e8089dd28190e8986545369c549ea85ee69c100/expr.ipynb\"><img src=\"../34e8089dd28190e8986545369c549ea85ee69c100/expr.png\" style=\"display:inline;vertical-align:middle;\" /></a></dd>"
      ],
      "text/plain": [
       "<IPython.core.display.HTML object>"
      ]
     },
     "metadata": {},
     "output_type": "display_data"
    },
    {
     "data": {
      "text/html": [
       "<dt><a class=\"ProveItLink\" href=\"../../../_theory_nbs_/proofs/substitute_in_true/thm_proof.ipynb\">proveit.logic.equality.substitute_in_true</a></dt><dd><a class=\"ProveItLink\" href=\"../b745dd49efcc59f25a6422c994174d6b024dd6270/expr.ipynb\"><img src=\"../b745dd49efcc59f25a6422c994174d6b024dd6270/expr.png\" style=\"display:inline;vertical-align:middle;\" /></a></dd>"
      ],
      "text/plain": [
       "<IPython.core.display.HTML object>"
      ]
     },
     "metadata": {},
     "output_type": "display_data"
    },
    {
     "data": {
      "text/html": [
       "<dt><a class=\"ProveItLink\" href=\"../../../../sets/inclusion/_theory_nbs_/proofs/subset_eq_via_equality/thm_proof.ipynb\">proveit.logic.sets.inclusion.subset_eq_via_equality</a></dt><dd><a class=\"ProveItLink\" href=\"../../../../sets/inclusion/__pv_it/theorems/51a8d52c4a1fe38dd6fba45265ee23babc4d36080/expr.ipynb\"><img src=\"../../../../sets/inclusion/__pv_it/theorems/51a8d52c4a1fe38dd6fba45265ee23babc4d36080/expr.png\" style=\"display:inline;vertical-align:middle;\" /></a></dd>"
      ],
      "text/plain": [
       "<IPython.core.display.HTML object>"
      ]
     },
     "metadata": {},
     "output_type": "display_data"
    },
    {
     "data": {
      "text/html": [
       "<dt><a class=\"ProveItLink\" href=\"../../../../../numbers/exponentiation/_theory_nbs_/proofs/sqrt2_is_not_rational/thm_proof.ipynb\">proveit.numbers.exponentiation.sqrt2_is_not_rational</a></dt><dd><a class=\"ProveItLink\" href=\"../../../../../numbers/exponentiation/__pv_it/theorems/9372fddc16eaf34233f04d96d6016085e1bb227a0/expr.ipynb\"><img src=\"../../../../../numbers/exponentiation/__pv_it/theorems/9372fddc16eaf34233f04d96d6016085e1bb227a0/expr.png\" style=\"display:inline;vertical-align:middle;\" /></a></dd>"
      ],
      "text/plain": [
       "<IPython.core.display.HTML object>"
      ]
     },
     "metadata": {},
     "output_type": "display_data"
    },
    {
     "data": {
      "text/html": [
       "<dt><a class=\"ProveItLink\" href=\"../../../../../numbers/ordering/_theory_nbs_/proofs/transitivity_less_less_eq/thm_proof.ipynb\">proveit.numbers.ordering.transitivity_less_less_eq</a></dt><dd><a class=\"ProveItLink\" href=\"../../../../../numbers/ordering/__pv_it/theorems/6927333a80bb6f8c61a2c0d484948fc9f06d9b1c0/expr.ipynb\"><img src=\"../../../../../numbers/ordering/__pv_it/theorems/6927333a80bb6f8c61a2c0d484948fc9f06d9b1c0/expr.png\" style=\"display:inline;vertical-align:middle;\" /></a></dd>"
      ],
      "text/plain": [
       "<IPython.core.display.HTML object>"
      ]
     },
     "metadata": {},
     "output_type": "display_data"
    },
    {
     "data": {
      "text/html": [
       "<dt><a class=\"ProveItLink\" href=\"../../../../../numbers/rounding/_theory_nbs_/proofs/real_minus_floor_lower_bound/thm_proof.ipynb\">proveit.numbers.rounding.real_minus_floor_lower_bound</a></dt><dd><a class=\"ProveItLink\" href=\"../../../../../numbers/rounding/__pv_it/theorems/155fe94f37bc1fcbc804f46f1de8366cb2217af40/expr.ipynb\"><img src=\"../../../../../numbers/rounding/__pv_it/theorems/155fe94f37bc1fcbc804f46f1de8366cb2217af40/expr.png\" style=\"display:inline;vertical-align:middle;\" /></a></dd>"
      ],
      "text/plain": [
       "<IPython.core.display.HTML object>"
      ]
     },
     "metadata": {},
     "output_type": "display_data"
    },
    {
     "data": {
      "text/html": [
       "<dt><a class=\"ProveItLink\" href=\"../../../../../physics/quantum/QPE/_theory_nbs_/proofs/scaled_delta_in_interval/thm_proof.ipynb\">proveit.physics.quantum.QPE.scaled_delta_in_interval</a></dt><dd><a class=\"ProveItLink\" href=\"../../../../../physics/quantum/QPE/__pv_it/theorems/c2d1bf1a1961ff085bafa1c9cf9a6b65c0d2030c0/expr.ipynb\"><img src=\"../../../../../physics/quantum/QPE/__pv_it/theorems/c2d1bf1a1961ff085bafa1c9cf9a6b65c0d2030c0/expr.png\" style=\"display:inline;vertical-align:middle;\" /></a></dd>"
      ],
      "text/plain": [
       "<IPython.core.display.HTML object>"
      ]
     },
     "metadata": {},
     "output_type": "display_data"
    },
    {
     "data": {
      "text/html": [
       "</dl>"
      ],
      "text/plain": [
       "<IPython.core.display.HTML object>"
      ]
     },
     "metadata": {},
     "output_type": "display_data"
    }
   ],
   "source": [
    "%dependencies sub_right_side_into"
   ]
  }
 ],
 "metadata": {
  "kernelspec": {
   "display_name": "Python 3",
   "language": "python",
   "name": "python3"
  }
 },
 "nbformat": 4,
 "nbformat_minor": 0
}