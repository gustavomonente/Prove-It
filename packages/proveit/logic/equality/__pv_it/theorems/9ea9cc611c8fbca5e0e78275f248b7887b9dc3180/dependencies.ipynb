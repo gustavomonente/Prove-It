{
 "cells": [
  {
   "cell_type": "markdown",
   "metadata": {},
   "source": [
    "Theorem Dependencies\n",
    "=======================\n",
    "\n",
    "## <a class=\"ProveItLink\" href=\"../../../_theory_nbs_/theory.ipynb\">proveit.logic.equality</a>.<a class=\"ProveItLink\" href=\"../../../_theorems_.ipynb#lhs_via_equality\">lhs_via_equality</a> \n",
    "***see <a class=\"ProveItLink\" href=\"../../../_theory_nbs_/proofs/lhs_via_equality/thm_proof.ipynb\">proof</a>***"
   ]
  },
  {
   "cell_type": "code",
   "execution_count": 1,
   "metadata": {},
   "outputs": [],
   "source": [
    "import proveit\n",
    "# Automation is not needed when querying dependencies:\n",
    "proveit.defaults.automation = False # This will speed things up.\n",
    "proveit.defaults.inline_pngs = False # Makes files smaller.\n",
    "from proveit.logic.equality import lhs_via_equality"
   ]
  },
  {
   "cell_type": "code",
   "execution_count": 2,
   "metadata": {},
   "outputs": [
    {
     "data": {
      "text/html": [
       "<h3>Axioms required (directly or indirectly) to prove lhs_via_equality</h3>"
      ],
      "text/plain": [
       "<IPython.core.display.HTML object>"
      ]
     },
     "metadata": {},
     "output_type": "display_data"
    },
    {
     "data": {
      "text/html": [
       "<dl>"
      ],
      "text/plain": [
       "<IPython.core.display.HTML object>"
      ]
     },
     "metadata": {},
     "output_type": "display_data"
    },
    {
     "data": {
      "text/html": [
       "<dt><a class=\"ProveItLink\" href=\"../../../../booleans/_theory_nbs_/axioms.ipynb#eq_true_elim\">proveit.logic.booleans.eq_true_elim</a></dt><dd><a class=\"ProveItLink\" href=\"../../../../booleans/__pv_it/axioms/05a6b4904cc64664b923b0e52c73af64907ac3af0/expr.ipynb\"><img src=\"../../../../booleans/__pv_it/axioms/05a6b4904cc64664b923b0e52c73af64907ac3af0/expr.png\" style=\"display:inline;vertical-align:middle;\" /></a></dd>"
      ],
      "text/plain": [
       "<IPython.core.display.HTML object>"
      ]
     },
     "metadata": {},
     "output_type": "display_data"
    },
    {
     "data": {
      "text/html": [
       "<dt><a class=\"ProveItLink\" href=\"../../../../booleans/_theory_nbs_/axioms.ipynb#eq_true_intro\">proveit.logic.booleans.eq_true_intro</a></dt><dd><a class=\"ProveItLink\" href=\"../../../../booleans/__pv_it/axioms/654339f5fb5a65119fa860e26cec5f77107afe860/expr.ipynb\"><img src=\"../../../../booleans/__pv_it/axioms/654339f5fb5a65119fa860e26cec5f77107afe860/expr.png\" style=\"display:inline;vertical-align:middle;\" /></a></dd>"
      ],
      "text/plain": [
       "<IPython.core.display.HTML object>"
      ]
     },
     "metadata": {},
     "output_type": "display_data"
    },
    {
     "data": {
      "text/html": [
       "<dt><a class=\"ProveItLink\" href=\"../../../_theory_nbs_/axioms.ipynb#equals_transitivity\">proveit.logic.equality.equals_transitivity</a></dt><dd><a class=\"ProveItLink\" href=\"../../axioms/f827123c5f21af6ab6d517e6d3247a9ee44c13460/expr.ipynb\"><img src=\"../../axioms/f827123c5f21af6ab6d517e6d3247a9ee44c13460/expr.png\" style=\"display:inline;vertical-align:middle;\" /></a></dd>"
      ],
      "text/plain": [
       "<IPython.core.display.HTML object>"
      ]
     },
     "metadata": {},
     "output_type": "display_data"
    },
    {
     "data": {
      "text/html": [
       "<dt><a class=\"ProveItLink\" href=\"../../../_theory_nbs_/axioms.ipynb#substitution\">proveit.logic.equality.substitution</a></dt><dd><a class=\"ProveItLink\" href=\"../../axioms/326b89aaf9a595f74daee801075977039365c5540/expr.ipynb\"><img src=\"../../axioms/326b89aaf9a595f74daee801075977039365c5540/expr.png\" style=\"display:inline;vertical-align:middle;\" /></a></dd>"
      ],
      "text/plain": [
       "<IPython.core.display.HTML object>"
      ]
     },
     "metadata": {},
     "output_type": "display_data"
    },
    {
     "data": {
      "text/html": [
       "</dl>"
      ],
      "text/plain": [
       "<IPython.core.display.HTML object>"
      ]
     },
     "metadata": {},
     "output_type": "display_data"
    },
    {
     "data": {
      "text/html": [
       "<h3>Theorems/conjectures that depend directly on lhs_via_equality</h3>"
      ],
      "text/plain": [
       "<IPython.core.display.HTML object>"
      ]
     },
     "metadata": {},
     "output_type": "display_data"
    },
    {
     "data": {
      "text/html": [
       "<dl>"
      ],
      "text/plain": [
       "<IPython.core.display.HTML object>"
      ]
     },
     "metadata": {},
     "output_type": "display_data"
    },
    {
     "data": {
      "text/html": [
       "<dt><a class=\"ProveItLink\" href=\"../../../../../core_expr_types/tuples/_theory_nbs_/proofs/tuple_eq_via_elem_eq/thm_proof.ipynb\">proveit.core_expr_types.tuples.tuple_eq_via_elem_eq</a></dt><dd><a class=\"ProveItLink\" href=\"../../../../../core_expr_types/tuples/__pv_it/theorems/b236f0e28657e92c0fd2f0f7de81efb42f320fc60/expr.ipynb\"><img src=\"../../../../../core_expr_types/tuples/__pv_it/theorems/b236f0e28657e92c0fd2f0f7de81efb42f320fc60/expr.png\" style=\"display:inline;vertical-align:middle;\" /></a></dd>"
      ],
      "text/plain": [
       "<IPython.core.display.HTML object>"
      ]
     },
     "metadata": {},
     "output_type": "display_data"
    },
    {
     "data": {
      "text/html": [
       "<dt><a class=\"ProveItLink\" href=\"../../../_theory_nbs_/proofs/equals_reversal/thm_proof.ipynb\">proveit.logic.equality.equals_reversal</a></dt><dd><a class=\"ProveItLink\" href=\"../848895161f9444b4baafff9a3748a1cbc7dadb400/expr.ipynb\"><img src=\"../848895161f9444b4baafff9a3748a1cbc7dadb400/expr.png\" style=\"display:inline;vertical-align:middle;\" /></a></dd>"
      ],
      "text/plain": [
       "<IPython.core.display.HTML object>"
      ]
     },
     "metadata": {},
     "output_type": "display_data"
    },
    {
     "data": {
      "text/html": [
       "<dt><a class=\"ProveItLink\" href=\"../../../_theory_nbs_/proofs/fold_not_equals/thm_proof.ipynb\">proveit.logic.equality.fold_not_equals</a></dt><dd><a class=\"ProveItLink\" href=\"../8bf6dafc1a0d68ec98c82bcd77d4d3f97148f7ce0/expr.ipynb\"><img src=\"../8bf6dafc1a0d68ec98c82bcd77d4d3f97148f7ce0/expr.png\" style=\"display:inline;vertical-align:middle;\" /></a></dd>"
      ],
      "text/plain": [
       "<IPython.core.display.HTML object>"
      ]
     },
     "metadata": {},
     "output_type": "display_data"
    },
    {
     "data": {
      "text/html": [
       "<dt><a class=\"ProveItLink\" href=\"../../../_theory_nbs_/proofs/sub_in_left_operands/thm_proof.ipynb\">proveit.logic.equality.sub_in_left_operands</a></dt><dd><a class=\"ProveItLink\" href=\"../3f460068d2c52329259cd9497c84313199790d8c0/expr.ipynb\"><img src=\"../3f460068d2c52329259cd9497c84313199790d8c0/expr.png\" style=\"display:inline;vertical-align:middle;\" /></a></dd>"
      ],
      "text/plain": [
       "<IPython.core.display.HTML object>"
      ]
     },
     "metadata": {},
     "output_type": "display_data"
    },
    {
     "data": {
      "text/html": [
       "<dt><a class=\"ProveItLink\" href=\"../../../../sets/equivalence/_theory_nbs_/proofs/fold_set_not_equiv/thm_proof.ipynb\">proveit.logic.sets.equivalence.fold_set_not_equiv</a></dt><dd><a class=\"ProveItLink\" href=\"../../../../sets/equivalence/__pv_it/theorems/05fd4670964aff5abb8be57c73d5cac16bf4600c0/expr.ipynb\"><img src=\"../../../../sets/equivalence/__pv_it/theorems/05fd4670964aff5abb8be57c73d5cac16bf4600c0/expr.png\" style=\"display:inline;vertical-align:middle;\" /></a></dd>"
      ],
      "text/plain": [
       "<IPython.core.display.HTML object>"
      ]
     },
     "metadata": {},
     "output_type": "display_data"
    },
    {
     "data": {
      "text/html": [
       "<dt><a class=\"ProveItLink\" href=\"../../../../sets/equivalence/_theory_nbs_/proofs/set_equiv_fold/thm_proof.ipynb\">proveit.logic.sets.equivalence.set_equiv_fold</a></dt><dd><a class=\"ProveItLink\" href=\"../../../../sets/equivalence/__pv_it/theorems/b49af776302237028a280e7699f05992facb7a600/expr.ipynb\"><img src=\"../../../../sets/equivalence/__pv_it/theorems/b49af776302237028a280e7699f05992facb7a600/expr.png\" style=\"display:inline;vertical-align:middle;\" /></a></dd>"
      ],
      "text/plain": [
       "<IPython.core.display.HTML object>"
      ]
     },
     "metadata": {},
     "output_type": "display_data"
    },
    {
     "data": {
      "text/html": [
       "<dt><a class=\"ProveItLink\" href=\"../../../../sets/inclusion/_theory_nbs_/proofs/fold_not_proper_subset/thm_proof.ipynb\">proveit.logic.sets.inclusion.fold_not_proper_subset</a></dt><dd><a class=\"ProveItLink\" href=\"../../../../sets/inclusion/__pv_it/theorems/6caa68c9c6a94aa13838140a821e9edccb061bc50/expr.ipynb\"><img src=\"../../../../sets/inclusion/__pv_it/theorems/6caa68c9c6a94aa13838140a821e9edccb061bc50/expr.png\" style=\"display:inline;vertical-align:middle;\" /></a></dd>"
      ],
      "text/plain": [
       "<IPython.core.display.HTML object>"
      ]
     },
     "metadata": {},
     "output_type": "display_data"
    },
    {
     "data": {
      "text/html": [
       "<dt><a class=\"ProveItLink\" href=\"../../../../sets/inclusion/_theory_nbs_/proofs/fold_not_subset_eq/thm_proof.ipynb\">proveit.logic.sets.inclusion.fold_not_subset_eq</a></dt><dd><a class=\"ProveItLink\" href=\"../../../../sets/inclusion/__pv_it/theorems/8143820b637fa0c3eb844f733863abcc60e893740/expr.ipynb\"><img src=\"../../../../sets/inclusion/__pv_it/theorems/8143820b637fa0c3eb844f733863abcc60e893740/expr.png\" style=\"display:inline;vertical-align:middle;\" /></a></dd>"
      ],
      "text/plain": [
       "<IPython.core.display.HTML object>"
      ]
     },
     "metadata": {},
     "output_type": "display_data"
    },
    {
     "data": {
      "text/html": [
       "<dt><a class=\"ProveItLink\" href=\"../../../../sets/inclusion/_theory_nbs_/proofs/fold_not_supset_eq/thm_proof.ipynb\">proveit.logic.sets.inclusion.fold_not_supset_eq</a></dt><dd><a class=\"ProveItLink\" href=\"../../../../sets/inclusion/__pv_it/theorems/01cd36d264648e616909c90cc1371f3f7e7135d90/expr.ipynb\"><img src=\"../../../../sets/inclusion/__pv_it/theorems/01cd36d264648e616909c90cc1371f3f7e7135d90/expr.png\" style=\"display:inline;vertical-align:middle;\" /></a></dd>"
      ],
      "text/plain": [
       "<IPython.core.display.HTML object>"
      ]
     },
     "metadata": {},
     "output_type": "display_data"
    },
    {
     "data": {
      "text/html": [
       "<dt><a class=\"ProveItLink\" href=\"../../../../sets/inclusion/_theory_nbs_/proofs/fold_proper_subset/thm_proof.ipynb\">proveit.logic.sets.inclusion.fold_proper_subset</a></dt><dd><a class=\"ProveItLink\" href=\"../../../../sets/inclusion/__pv_it/theorems/cbbc05c845a0af19bae77a2a8c26a710725cf9810/expr.ipynb\"><img src=\"../../../../sets/inclusion/__pv_it/theorems/cbbc05c845a0af19bae77a2a8c26a710725cf9810/expr.png\" style=\"display:inline;vertical-align:middle;\" /></a></dd>"
      ],
      "text/plain": [
       "<IPython.core.display.HTML object>"
      ]
     },
     "metadata": {},
     "output_type": "display_data"
    },
    {
     "data": {
      "text/html": [
       "<dt><a class=\"ProveItLink\" href=\"../../../../sets/inclusion/_theory_nbs_/proofs/fold_subset_eq/thm_proof.ipynb\">proveit.logic.sets.inclusion.fold_subset_eq</a></dt><dd><a class=\"ProveItLink\" href=\"../../../../sets/inclusion/__pv_it/theorems/b410f7e6f7fbf9c617ef0e33526c9102d576c3ba0/expr.ipynb\"><img src=\"../../../../sets/inclusion/__pv_it/theorems/b410f7e6f7fbf9c617ef0e33526c9102d576c3ba0/expr.png\" style=\"display:inline;vertical-align:middle;\" /></a></dd>"
      ],
      "text/plain": [
       "<IPython.core.display.HTML object>"
      ]
     },
     "metadata": {},
     "output_type": "display_data"
    },
    {
     "data": {
      "text/html": [
       "<dt><a class=\"ProveItLink\" href=\"../../../../sets/inclusion/_theory_nbs_/proofs/fold_supset_eq/thm_proof.ipynb\">proveit.logic.sets.inclusion.fold_supset_eq</a></dt><dd><a class=\"ProveItLink\" href=\"../../../../sets/inclusion/__pv_it/theorems/62daa790abccb5d81aac5d176d47fbcbdedfeb810/expr.ipynb\"><img src=\"../../../../sets/inclusion/__pv_it/theorems/62daa790abccb5d81aac5d176d47fbcbdedfeb810/expr.png\" style=\"display:inline;vertical-align:middle;\" /></a></dd>"
      ],
      "text/plain": [
       "<IPython.core.display.HTML object>"
      ]
     },
     "metadata": {},
     "output_type": "display_data"
    },
    {
     "data": {
      "text/html": [
       "<dt><a class=\"ProveItLink\" href=\"../../../../sets/inclusion/_theory_nbs_/proofs/transitivity_subset_eq_subset_eq/thm_proof.ipynb\">proveit.logic.sets.inclusion.transitivity_subset_eq_subset_eq</a></dt><dd><a class=\"ProveItLink\" href=\"../../../../sets/inclusion/__pv_it/theorems/ebd6274bb8413d83fd4ba6bedca9b5b35737ec490/expr.ipynb\"><img src=\"../../../../sets/inclusion/__pv_it/theorems/ebd6274bb8413d83fd4ba6bedca9b5b35737ec490/expr.png\" style=\"display:inline;vertical-align:middle;\" /></a></dd>"
      ],
      "text/plain": [
       "<IPython.core.display.HTML object>"
      ]
     },
     "metadata": {},
     "output_type": "display_data"
    },
    {
     "data": {
      "text/html": [
       "<dt><a class=\"ProveItLink\" href=\"../../../../sets/_theory_nbs_/proofs/intersection_is_subset_eq/thm_proof.ipynb\">proveit.logic.sets.intersection_is_subset_eq</a></dt><dd><a class=\"ProveItLink\" href=\"../../../../sets/__pv_it/theorems/ca52ede98bd03ad046dbf30402848564cf89ca1f0/expr.ipynb\"><img src=\"../../../../sets/__pv_it/theorems/ca52ede98bd03ad046dbf30402848564cf89ca1f0/expr.png\" style=\"display:inline;vertical-align:middle;\" /></a></dd>"
      ],
      "text/plain": [
       "<IPython.core.display.HTML object>"
      ]
     },
     "metadata": {},
     "output_type": "display_data"
    },
    {
     "data": {
      "text/html": [
       "<dt><a class=\"ProveItLink\" href=\"../../../../sets/_theory_nbs_/proofs/intersection_subset_eq_union/thm_proof.ipynb\">proveit.logic.sets.intersection_subset_eq_union</a></dt><dd><a class=\"ProveItLink\" href=\"../../../../sets/__pv_it/theorems/dcd6b40e9b9c8b91e000dccf2e696cffe8ec88bb0/expr.ipynb\"><img src=\"../../../../sets/__pv_it/theorems/dcd6b40e9b9c8b91e000dccf2e696cffe8ec88bb0/expr.png\" style=\"display:inline;vertical-align:middle;\" /></a></dd>"
      ],
      "text/plain": [
       "<IPython.core.display.HTML object>"
      ]
     },
     "metadata": {},
     "output_type": "display_data"
    },
    {
     "data": {
      "text/html": [
       "<dt><a class=\"ProveItLink\" href=\"../../../../sets/membership/_theory_nbs_/proofs/fold_not_in_set/thm_proof.ipynb\">proveit.logic.sets.membership.fold_not_in_set</a></dt><dd><a class=\"ProveItLink\" href=\"../../../../sets/membership/__pv_it/theorems/a00828ff4313c591529fb3b2ae2124c7a0c001c10/expr.ipynb\"><img src=\"../../../../sets/membership/__pv_it/theorems/a00828ff4313c591529fb3b2ae2124c7a0c001c10/expr.png\" style=\"display:inline;vertical-align:middle;\" /></a></dd>"
      ],
      "text/plain": [
       "<IPython.core.display.HTML object>"
      ]
     },
     "metadata": {},
     "output_type": "display_data"
    },
    {
     "data": {
      "text/html": [
       "<dt><a class=\"ProveItLink\" href=\"../../../../sets/_theory_nbs_/proofs/set_subset_eq_of_union_with_set/thm_proof.ipynb\">proveit.logic.sets.set_subset_eq_of_union_with_set</a></dt><dd><a class=\"ProveItLink\" href=\"../../../../sets/__pv_it/theorems/3c6fc612ce4ed3923410d046ed9fbb5a400725ff0/expr.ipynb\"><img src=\"../../../../sets/__pv_it/theorems/3c6fc612ce4ed3923410d046ed9fbb5a400725ff0/expr.png\" style=\"display:inline;vertical-align:middle;\" /></a></dd>"
      ],
      "text/plain": [
       "<IPython.core.display.HTML object>"
      ]
     },
     "metadata": {},
     "output_type": "display_data"
    },
    {
     "data": {
      "text/html": [
       "<dt><a class=\"ProveItLink\" href=\"../../../../../numbers/ordering/_theory_nbs_/proofs/reverse_less/thm_proof.ipynb\">proveit.numbers.ordering.reverse_less</a></dt><dd><a class=\"ProveItLink\" href=\"../../../../../numbers/ordering/__pv_it/theorems/f8eb895a9ef7319ce0025fb42eb8ef58af1596c20/expr.ipynb\"><img src=\"../../../../../numbers/ordering/__pv_it/theorems/f8eb895a9ef7319ce0025fb42eb8ef58af1596c20/expr.png\" style=\"display:inline;vertical-align:middle;\" /></a></dd>"
      ],
      "text/plain": [
       "<IPython.core.display.HTML object>"
      ]
     },
     "metadata": {},
     "output_type": "display_data"
    },
    {
     "data": {
      "text/html": [
       "</dl>"
      ],
      "text/plain": [
       "<IPython.core.display.HTML object>"
      ]
     },
     "metadata": {},
     "output_type": "display_data"
    }
   ],
   "source": [
    "%dependencies lhs_via_equality"
   ]
  }
 ],
 "metadata": {
  "kernelspec": {
   "display_name": "Python 3",
   "language": "python",
   "name": "python3"
  }
 },
 "nbformat": 4,
 "nbformat_minor": 0
}