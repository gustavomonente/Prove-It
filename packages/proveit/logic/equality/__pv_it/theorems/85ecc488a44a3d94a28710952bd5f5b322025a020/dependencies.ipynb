{
 "cells": [
  {
   "cell_type": "markdown",
   "metadata": {},
   "source": [
    "Theorem Dependencies\n",
    "=======================\n",
    "\n",
    "## <a class=\"ProveItLink\" href=\"../../../_theory_nbs_/theory.ipynb\">proveit.logic.equality</a>.<a class=\"ProveItLink\" href=\"../../../_theorems_.ipynb#lhs_via_equality\">lhs_via_equality</a> \n",
    "***see <a class=\"ProveItLink\" href=\"../../../_theory_nbs_/proofs/lhs_via_equality/thm_proof.ipynb\">proof</a>***"
   ]
  },
  {
   "cell_type": "code",
   "execution_count": 1,
   "metadata": {},
   "outputs": [],
   "source": [
    "import proveit\n",
    "# Automation is not needed when querying dependencies:\n",
    "proveit.defaults.automation = False # This will speed things up.\n",
    "proveit.defaults.inline_pngs = False # Makes files smaller.\n",
    "from proveit.logic.equality import lhs_via_equality"
   ]
  },
  {
   "cell_type": "code",
   "execution_count": 2,
   "metadata": {},
   "outputs": [
    {
     "data": {
      "text/html": [
       "<h3>Axioms required (directly or indirectly) to prove lhs_via_equality</h3>"
      ],
      "text/plain": [
       "<IPython.core.display.HTML object>"
      ]
     },
     "metadata": {},
     "output_type": "display_data"
    },
    {
     "data": {
      "text/html": [
       "<dl>"
      ],
      "text/plain": [
       "<IPython.core.display.HTML object>"
      ]
     },
     "metadata": {},
     "output_type": "display_data"
    },
    {
     "data": {
      "text/html": [
       "<dt><a class=\"ProveItLink\" href=\"../../../../booleans/_theory_nbs_/axioms.ipynb#eq_true_elim\">proveit.logic.booleans.eq_true_elim</a></dt><dd><a class=\"ProveItLink\" href=\"../../../../booleans/__pv_it/axioms/ed8b0a27c515b8c85261606f0835dadd8c8b34f70/expr.ipynb\"><img src=\"../../../../booleans/__pv_it/axioms/ed8b0a27c515b8c85261606f0835dadd8c8b34f70/expr.png\" style=\"display:inline;vertical-align:middle;\" /></a></dd>"
      ],
      "text/plain": [
       "<IPython.core.display.HTML object>"
      ]
     },
     "metadata": {},
     "output_type": "display_data"
    },
    {
     "data": {
      "text/html": [
       "<dt><a class=\"ProveItLink\" href=\"../../../../booleans/_theory_nbs_/axioms.ipynb#eq_true_intro\">proveit.logic.booleans.eq_true_intro</a></dt><dd><a class=\"ProveItLink\" href=\"../../../../booleans/__pv_it/axioms/3a99d3cb7c410f4636cdc59f7b36cdf6997b37680/expr.ipynb\"><img src=\"../../../../booleans/__pv_it/axioms/3a99d3cb7c410f4636cdc59f7b36cdf6997b37680/expr.png\" style=\"display:inline;vertical-align:middle;\" /></a></dd>"
      ],
      "text/plain": [
       "<IPython.core.display.HTML object>"
      ]
     },
     "metadata": {},
     "output_type": "display_data"
    },
    {
     "data": {
      "text/html": [
       "<dt><a class=\"ProveItLink\" href=\"../../../_theory_nbs_/axioms.ipynb#equals_transitivity\">proveit.logic.equality.equals_transitivity</a></dt><dd><a class=\"ProveItLink\" href=\"../../axioms/fe5ecb4839370106d7aa598ff8e51b95c71757a70/expr.ipynb\"><img src=\"../../axioms/fe5ecb4839370106d7aa598ff8e51b95c71757a70/expr.png\" style=\"display:inline;vertical-align:middle;\" /></a></dd>"
      ],
      "text/plain": [
       "<IPython.core.display.HTML object>"
      ]
     },
     "metadata": {},
     "output_type": "display_data"
    },
    {
     "data": {
      "text/html": [
       "<dt><a class=\"ProveItLink\" href=\"../../../_theory_nbs_/axioms.ipynb#substitution\">proveit.logic.equality.substitution</a></dt><dd><a class=\"ProveItLink\" href=\"../../axioms/fb5aa0007e656f471030da411c3555b23b265d8f0/expr.ipynb\"><img src=\"../../axioms/fb5aa0007e656f471030da411c3555b23b265d8f0/expr.png\" style=\"display:inline;vertical-align:middle;\" /></a></dd>"
      ],
      "text/plain": [
       "<IPython.core.display.HTML object>"
      ]
     },
     "metadata": {},
     "output_type": "display_data"
    },
    {
     "data": {
      "text/html": [
       "</dl>"
      ],
      "text/plain": [
       "<IPython.core.display.HTML object>"
      ]
     },
     "metadata": {},
     "output_type": "display_data"
    },
    {
     "data": {
      "text/html": [
       "<h3>Theorems/conjectures that depend directly on lhs_via_equality</h3>"
      ],
      "text/plain": [
       "<IPython.core.display.HTML object>"
      ]
     },
     "metadata": {},
     "output_type": "display_data"
    },
    {
     "data": {
      "text/html": [
       "<dl>"
      ],
      "text/plain": [
       "<IPython.core.display.HTML object>"
      ]
     },
     "metadata": {},
     "output_type": "display_data"
    },
    {
     "data": {
      "text/html": [
       "<dt><a class=\"ProveItLink\" href=\"../../../../../core_expr_types/tuples/_theory_nbs_/proofs/tuple_eq_via_elem_eq/thm_proof.ipynb\">proveit.core_expr_types.tuples.tuple_eq_via_elem_eq</a></dt><dd><a class=\"ProveItLink\" href=\"../../../../../core_expr_types/tuples/__pv_it/theorems/dfbd4ebd2517106b9810d979f0677d5902666d5f0/expr.ipynb\"><img src=\"../../../../../core_expr_types/tuples/__pv_it/theorems/dfbd4ebd2517106b9810d979f0677d5902666d5f0/expr.png\" style=\"display:inline;vertical-align:middle;\" /></a></dd>"
      ],
      "text/plain": [
       "<IPython.core.display.HTML object>"
      ]
     },
     "metadata": {},
     "output_type": "display_data"
    },
    {
     "data": {
      "text/html": [
       "<dt><a class=\"ProveItLink\" href=\"../../../_theory_nbs_/proofs/equals_reversal/thm_proof.ipynb\">proveit.logic.equality.equals_reversal</a></dt><dd><a class=\"ProveItLink\" href=\"../dc152814dc196fecb1397c6db676c4086227b8ad0/expr.ipynb\"><img src=\"../dc152814dc196fecb1397c6db676c4086227b8ad0/expr.png\" style=\"display:inline;vertical-align:middle;\" /></a></dd>"
      ],
      "text/plain": [
       "<IPython.core.display.HTML object>"
      ]
     },
     "metadata": {},
     "output_type": "display_data"
    },
    {
     "data": {
      "text/html": [
       "<dt><a class=\"ProveItLink\" href=\"../../../_theory_nbs_/proofs/fold_not_equals/thm_proof.ipynb\">proveit.logic.equality.fold_not_equals</a></dt><dd><a class=\"ProveItLink\" href=\"../9947de4646acc56fc2b15f600e9358ecec64346f0/expr.ipynb\"><img src=\"../9947de4646acc56fc2b15f600e9358ecec64346f0/expr.png\" style=\"display:inline;vertical-align:middle;\" /></a></dd>"
      ],
      "text/plain": [
       "<IPython.core.display.HTML object>"
      ]
     },
     "metadata": {},
     "output_type": "display_data"
    },
    {
     "data": {
      "text/html": [
       "<dt><a class=\"ProveItLink\" href=\"../../../_theory_nbs_/proofs/sub_in_left_operands/thm_proof.ipynb\">proveit.logic.equality.sub_in_left_operands</a></dt><dd><a class=\"ProveItLink\" href=\"../69afd75042bd1ee8bd0fc7ab3cf494dbabfc48970/expr.ipynb\"><img src=\"../69afd75042bd1ee8bd0fc7ab3cf494dbabfc48970/expr.png\" style=\"display:inline;vertical-align:middle;\" /></a></dd>"
      ],
      "text/plain": [
       "<IPython.core.display.HTML object>"
      ]
     },
     "metadata": {},
     "output_type": "display_data"
    },
    {
     "data": {
      "text/html": [
       "<dt><a class=\"ProveItLink\" href=\"../../../../sets/equivalence/_theory_nbs_/proofs/fold_set_not_equiv/thm_proof.ipynb\">proveit.logic.sets.equivalence.fold_set_not_equiv</a></dt><dd><a class=\"ProveItLink\" href=\"../../../../sets/equivalence/__pv_it/theorems/ceed43db02cbdb5aae0795d1144876c41d70ee0c0/expr.ipynb\"><img src=\"../../../../sets/equivalence/__pv_it/theorems/ceed43db02cbdb5aae0795d1144876c41d70ee0c0/expr.png\" style=\"display:inline;vertical-align:middle;\" /></a></dd>"
      ],
      "text/plain": [
       "<IPython.core.display.HTML object>"
      ]
     },
     "metadata": {},
     "output_type": "display_data"
    },
    {
     "data": {
      "text/html": [
       "<dt><a class=\"ProveItLink\" href=\"../../../../sets/equivalence/_theory_nbs_/proofs/set_equiv_fold/thm_proof.ipynb\">proveit.logic.sets.equivalence.set_equiv_fold</a></dt><dd><a class=\"ProveItLink\" href=\"../../../../sets/equivalence/__pv_it/theorems/03a99f67936f74839877367df9fe0513558edfba0/expr.ipynb\"><img src=\"../../../../sets/equivalence/__pv_it/theorems/03a99f67936f74839877367df9fe0513558edfba0/expr.png\" style=\"display:inline;vertical-align:middle;\" /></a></dd>"
      ],
      "text/plain": [
       "<IPython.core.display.HTML object>"
      ]
     },
     "metadata": {},
     "output_type": "display_data"
    },
    {
     "data": {
      "text/html": [
       "<dt><a class=\"ProveItLink\" href=\"../../../../sets/inclusion/_theory_nbs_/proofs/fold_not_proper_subset/thm_proof.ipynb\">proveit.logic.sets.inclusion.fold_not_proper_subset</a></dt><dd><a class=\"ProveItLink\" href=\"../../../../sets/inclusion/__pv_it/theorems/9ab9abec72e591bf6a0760fa1eb384a4ee8b906c0/expr.ipynb\"><img src=\"../../../../sets/inclusion/__pv_it/theorems/9ab9abec72e591bf6a0760fa1eb384a4ee8b906c0/expr.png\" style=\"display:inline;vertical-align:middle;\" /></a></dd>"
      ],
      "text/plain": [
       "<IPython.core.display.HTML object>"
      ]
     },
     "metadata": {},
     "output_type": "display_data"
    },
    {
     "data": {
      "text/html": [
       "<dt><a class=\"ProveItLink\" href=\"../../../../sets/inclusion/_theory_nbs_/proofs/fold_not_subset_eq/thm_proof.ipynb\">proveit.logic.sets.inclusion.fold_not_subset_eq</a></dt><dd><a class=\"ProveItLink\" href=\"../../../../sets/inclusion/__pv_it/theorems/8aac4a5dd15888a1fc2163ef8a5a1bc1d62575be0/expr.ipynb\"><img src=\"../../../../sets/inclusion/__pv_it/theorems/8aac4a5dd15888a1fc2163ef8a5a1bc1d62575be0/expr.png\" style=\"display:inline;vertical-align:middle;\" /></a></dd>"
      ],
      "text/plain": [
       "<IPython.core.display.HTML object>"
      ]
     },
     "metadata": {},
     "output_type": "display_data"
    },
    {
     "data": {
      "text/html": [
       "<dt><a class=\"ProveItLink\" href=\"../../../../sets/inclusion/_theory_nbs_/proofs/fold_proper_subset/thm_proof.ipynb\">proveit.logic.sets.inclusion.fold_proper_subset</a></dt><dd><a class=\"ProveItLink\" href=\"../../../../sets/inclusion/__pv_it/theorems/a2c031fa2b2b612e9a43a8a843e51ad4b5d36b1b0/expr.ipynb\"><img src=\"../../../../sets/inclusion/__pv_it/theorems/a2c031fa2b2b612e9a43a8a843e51ad4b5d36b1b0/expr.png\" style=\"display:inline;vertical-align:middle;\" /></a></dd>"
      ],
      "text/plain": [
       "<IPython.core.display.HTML object>"
      ]
     },
     "metadata": {},
     "output_type": "display_data"
    },
    {
     "data": {
      "text/html": [
       "<dt><a class=\"ProveItLink\" href=\"../../../../sets/inclusion/_theory_nbs_/proofs/fold_subset_eq/thm_proof.ipynb\">proveit.logic.sets.inclusion.fold_subset_eq</a></dt><dd><a class=\"ProveItLink\" href=\"../../../../sets/inclusion/__pv_it/theorems/8bd4129ceadc8fdcc2276cb35423983c6739f2e70/expr.ipynb\"><img src=\"../../../../sets/inclusion/__pv_it/theorems/8bd4129ceadc8fdcc2276cb35423983c6739f2e70/expr.png\" style=\"display:inline;vertical-align:middle;\" /></a></dd>"
      ],
      "text/plain": [
       "<IPython.core.display.HTML object>"
      ]
     },
     "metadata": {},
     "output_type": "display_data"
    },
    {
     "data": {
      "text/html": [
       "<dt><a class=\"ProveItLink\" href=\"../../../../sets/inclusion/_theory_nbs_/proofs/transitivity_subset_eq_subset_eq/thm_proof.ipynb\">proveit.logic.sets.inclusion.transitivity_subset_eq_subset_eq</a></dt><dd><a class=\"ProveItLink\" href=\"../../../../sets/inclusion/__pv_it/theorems/7320b877f2b3eba3f20e912f7aa2794da65cf6380/expr.ipynb\"><img src=\"../../../../sets/inclusion/__pv_it/theorems/7320b877f2b3eba3f20e912f7aa2794da65cf6380/expr.png\" style=\"display:inline;vertical-align:middle;\" /></a></dd>"
      ],
      "text/plain": [
       "<IPython.core.display.HTML object>"
      ]
     },
     "metadata": {},
     "output_type": "display_data"
    },
    {
     "data": {
      "text/html": [
       "<dt><a class=\"ProveItLink\" href=\"../../../../sets/_theory_nbs_/proofs/intersection_is_subset_eq/thm_proof.ipynb\">proveit.logic.sets.intersection_is_subset_eq</a></dt><dd><a class=\"ProveItLink\" href=\"../../../../sets/__pv_it/theorems/dfaab45b692b8e88040213f5ba384e11c91134cc0/expr.ipynb\"><img src=\"../../../../sets/__pv_it/theorems/dfaab45b692b8e88040213f5ba384e11c91134cc0/expr.png\" style=\"display:inline;vertical-align:middle;\" /></a></dd>"
      ],
      "text/plain": [
       "<IPython.core.display.HTML object>"
      ]
     },
     "metadata": {},
     "output_type": "display_data"
    },
    {
     "data": {
      "text/html": [
       "<dt><a class=\"ProveItLink\" href=\"../../../../sets/_theory_nbs_/proofs/intersection_subset_eq_union/thm_proof.ipynb\">proveit.logic.sets.intersection_subset_eq_union</a></dt><dd><a class=\"ProveItLink\" href=\"../../../../sets/__pv_it/theorems/fc845af627a98723f8948801d1cba29b2ebab3230/expr.ipynb\"><img src=\"../../../../sets/__pv_it/theorems/fc845af627a98723f8948801d1cba29b2ebab3230/expr.png\" style=\"display:inline;vertical-align:middle;\" /></a></dd>"
      ],
      "text/plain": [
       "<IPython.core.display.HTML object>"
      ]
     },
     "metadata": {},
     "output_type": "display_data"
    },
    {
     "data": {
      "text/html": [
       "<dt><a class=\"ProveItLink\" href=\"../../../../sets/membership/_theory_nbs_/proofs/fold_not_in_set/thm_proof.ipynb\">proveit.logic.sets.membership.fold_not_in_set</a></dt><dd><a class=\"ProveItLink\" href=\"../../../../sets/membership/__pv_it/theorems/bc4a23611a9c12641dd56ed5357e86d30d49cd5a0/expr.ipynb\"><img src=\"../../../../sets/membership/__pv_it/theorems/bc4a23611a9c12641dd56ed5357e86d30d49cd5a0/expr.png\" style=\"display:inline;vertical-align:middle;\" /></a></dd>"
      ],
      "text/plain": [
       "<IPython.core.display.HTML object>"
      ]
     },
     "metadata": {},
     "output_type": "display_data"
    },
    {
     "data": {
      "text/html": [
       "<dt><a class=\"ProveItLink\" href=\"../../../../sets/_theory_nbs_/proofs/set_subset_eq_of_union_with_set/thm_proof.ipynb\">proveit.logic.sets.set_subset_eq_of_union_with_set</a></dt><dd><a class=\"ProveItLink\" href=\"../../../../sets/__pv_it/theorems/ac75bb3b00de4d25b07232d5dcc2e8727911d7390/expr.ipynb\"><img src=\"../../../../sets/__pv_it/theorems/ac75bb3b00de4d25b07232d5dcc2e8727911d7390/expr.png\" style=\"display:inline;vertical-align:middle;\" /></a></dd>"
      ],
      "text/plain": [
       "<IPython.core.display.HTML object>"
      ]
     },
     "metadata": {},
     "output_type": "display_data"
    },
    {
     "data": {
      "text/html": [
       "</dl>"
      ],
      "text/plain": [
       "<IPython.core.display.HTML object>"
      ]
     },
     "metadata": {},
     "output_type": "display_data"
    }
   ],
   "source": [
    "%dependencies lhs_via_equality"
   ]
  }
 ],
 "metadata": {
  "kernelspec": {
   "display_name": "Python 3",
   "language": "python",
   "name": "python3"
  }
 },
 "nbformat": 4,
 "nbformat_minor": 0
}