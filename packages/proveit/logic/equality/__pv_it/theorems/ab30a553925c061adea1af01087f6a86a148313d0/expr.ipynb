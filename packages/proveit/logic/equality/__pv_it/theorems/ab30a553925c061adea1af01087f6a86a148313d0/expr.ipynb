{
 "cells": [
  {
   "cell_type": "markdown",
   "metadata": {},
   "source": [
    "Expression of type <a class=\"ProveItLink\" href=\"../../../../../../../doc/html/api/proveit.Lambda.html\">Lambda</a>\n",
    "=======================\n",
    "# from the theory of <a class=\"ProveItLink\" href=\"../../../_theory_nbs_/theory.ipynb\">proveit.logic.equality</a>"
   ]
  },
  {
   "cell_type": "code",
   "execution_count": 1,
   "metadata": {},
   "outputs": [],
   "source": [
    "import proveit\n",
    "# Automation is not needed when building an expression:\n",
    "proveit.defaults.automation = False # This will speed things up.\n",
    "proveit.defaults.inline_pngs = False # Makes files smaller.\n",
    "%load_expr # Load the stored expression as 'stored_expr'\n",
    "# import Expression classes needed to build the expression\n",
    "from proveit import Lambda, a, b, c, f, fab, fxy, x, y\n",
    "from proveit.logic import And, Equals, Implies"
   ]
  },
  {
   "cell_type": "code",
   "execution_count": 2,
   "metadata": {},
   "outputs": [
    {
     "data": {
      "text/html": [
       "<strong id=\"expr\">expr:</strong> <a class=\"ProveItLink\" href=\"expr.ipynb\"><img src=\"expr.png\" style=\"display:inline;vertical-align:middle;\" /></a><br>"
      ],
      "text/plain": [
       "expr: (f, x, y, a, b, c) -> (((x = a) and (y = b)) => ((f(a, b) = c) => (f(x, y) = c)))"
      ]
     },
     "execution_count": 2,
     "metadata": {},
     "output_type": "execute_result"
    }
   ],
   "source": [
    "# build up the expression from sub-expressions\n",
    "expr = Lambda([f, x, y, a, b, c], Implies(And(Equals(x, a), Equals(y, b)), Implies(Equals(fab, c), Equals(fxy, c))))"
   ]
  },
  {
   "cell_type": "code",
   "execution_count": 3,
   "metadata": {},
   "outputs": [
    {
     "name": "stdout",
     "output_type": "stream",
     "text": [
      "Passed sanity check: expr matches stored_expr\n"
     ]
    }
   ],
   "source": [
    "# check that the built expression is the same as the stored expression\n",
    "assert expr == stored_expr\n",
    "assert expr._style_id == stored_expr._style_id\n",
    "print(\"Passed sanity check: expr matches stored_expr\")"
   ]
  },
  {
   "cell_type": "code",
   "execution_count": 4,
   "metadata": {},
   "outputs": [
    {
     "name": "stdout",
     "output_type": "stream",
     "text": [
      "\\left(f, x, y, a, b, c\\right) \\mapsto \\left(\\left(\\left(x = a\\right) \\land \\left(y = b\\right)\\right) \\Rightarrow \\left(\\left(f(a, b) = c\\right) \\Rightarrow \\left(f(x, y) = c\\right)\\right)\\right)\n"
     ]
    }
   ],
   "source": [
    "# Show the LaTeX representation of the expression for convenience if you need it.\n",
    "print(expr.latex())"
   ]
  },
  {
   "cell_type": "code",
   "execution_count": 5,
   "metadata": {},
   "outputs": [
    {
     "data": {
      "text/html": [
       "no style options"
      ],
      "text/plain": [
       "no style options"
      ]
     },
     "execution_count": 5,
     "metadata": {},
     "output_type": "execute_result"
    }
   ],
   "source": [
    "expr.style_options()"
   ]
  },
  {
   "cell_type": "code",
   "execution_count": 6,
   "metadata": {},
   "outputs": [
    {
     "data": {
      "text/html": [
       "<table><tr><th>&nbsp;</th><th>core type</th><th>sub-expressions</th><th>expression</th></tr>\n",
       "<tr><td>0</td><td>Lambda</td><td>parameters:&nbsp;1<br>body:&nbsp;2<br></td><td><a class=\"ProveItLink\" href=\"expr.ipynb\"><img src=\"expr.png\" style=\"display:inline;vertical-align:middle;\" /></a></td></tr>\n",
       "<tr><td>1</td><td>ExprTuple</td><td>23, 27, 28, 25, 26, 21</td><td><a class=\"ProveItLink\" href=\"../d6f28e35a962179a04ce1109418e6db561c55aa00/expr.ipynb\"><img src=\"../d6f28e35a962179a04ce1109418e6db561c55aa00/expr.png\" style=\"display:inline;vertical-align:middle;\" /></a></td></tr>\n",
       "<tr><td>2</td><td>Operation</td><td>operator:&nbsp;8<br>operands:&nbsp;3<br></td><td><a class=\"ProveItLink\" href=\"../cbe0babd1116982e89d3a4455bff30106d5b8ebe0/expr.ipynb\"><img src=\"../cbe0babd1116982e89d3a4455bff30106d5b8ebe0/expr.png\" style=\"display:inline;vertical-align:middle;\" /></a></td></tr>\n",
       "<tr><td>3</td><td>ExprTuple</td><td>4, 5</td><td><a class=\"ProveItLink\" href=\"../f2f999ed1d089dfe8b0e04ce35bcc3c32dab779d0/expr.ipynb\"><img src=\"../f2f999ed1d089dfe8b0e04ce35bcc3c32dab779d0/expr.png\" style=\"display:inline;vertical-align:middle;\" /></a></td></tr>\n",
       "<tr><td>4</td><td>Operation</td><td>operator:&nbsp;6<br>operands:&nbsp;7<br></td><td><a class=\"ProveItLink\" href=\"../4c69d9cf29d36317d460efcfe8a9ff1c9db6dda10/expr.ipynb\"><img src=\"../4c69d9cf29d36317d460efcfe8a9ff1c9db6dda10/expr.png\" style=\"display:inline;vertical-align:middle;\" /></a></td></tr>\n",
       "<tr><td>5</td><td>Operation</td><td>operator:&nbsp;8<br>operands:&nbsp;9<br></td><td><a class=\"ProveItLink\" href=\"../2649cc0967a8cba65d470e195058d271c54380210/expr.ipynb\"><img src=\"../2649cc0967a8cba65d470e195058d271c54380210/expr.png\" style=\"display:inline;vertical-align:middle;\" /></a></td></tr>\n",
       "<tr><td>6</td><td>Literal</td><td></td><td><a class=\"ProveItLink\" href=\"../../../../booleans/conjunction/__pv_it/common/26b94b53e70b1d77b70f0d9d4236347db37731060/expr.ipynb\"><img src=\"../../../../booleans/conjunction/__pv_it/common/26b94b53e70b1d77b70f0d9d4236347db37731060/expr.png\" style=\"display:inline;vertical-align:middle;\" /></a></td></tr>\n",
       "<tr><td>7</td><td>ExprTuple</td><td>10, 11</td><td><a class=\"ProveItLink\" href=\"../bd197f0436d56cc55009e6eb975dabc4a936fd1f0/expr.ipynb\"><img src=\"../bd197f0436d56cc55009e6eb975dabc4a936fd1f0/expr.png\" style=\"display:inline;vertical-align:middle;\" /></a></td></tr>\n",
       "<tr><td>8</td><td>Literal</td><td></td><td><a class=\"ProveItLink\" href=\"../../../../booleans/implication/__pv_it/common/95a8cc69d34af52c7732e4a6fefbd5b63e8d31ba0/expr.ipynb\"><img src=\"../../../../booleans/implication/__pv_it/common/95a8cc69d34af52c7732e4a6fefbd5b63e8d31ba0/expr.png\" style=\"display:inline;vertical-align:middle;\" /></a></td></tr>\n",
       "<tr><td>9</td><td>ExprTuple</td><td>12, 13</td><td><a class=\"ProveItLink\" href=\"../1ad39dc869de1615afb720d13bbaecb9c3fb70060/expr.ipynb\"><img src=\"../1ad39dc869de1615afb720d13bbaecb9c3fb70060/expr.png\" style=\"display:inline;vertical-align:middle;\" /></a></td></tr>\n",
       "<tr><td>10</td><td>Operation</td><td>operator:&nbsp;17<br>operands:&nbsp;14<br></td><td><a class=\"ProveItLink\" href=\"../2f40b7ea9e7df157cbc02834593dde4bccea7a870/expr.ipynb\"><img src=\"../2f40b7ea9e7df157cbc02834593dde4bccea7a870/expr.png\" style=\"display:inline;vertical-align:middle;\" /></a></td></tr>\n",
       "<tr><td>11</td><td>Operation</td><td>operator:&nbsp;17<br>operands:&nbsp;15<br></td><td><a class=\"ProveItLink\" href=\"../52eb661be729b9ae01eb5322c9a426178b2109100/expr.ipynb\"><img src=\"../52eb661be729b9ae01eb5322c9a426178b2109100/expr.png\" style=\"display:inline;vertical-align:middle;\" /></a></td></tr>\n",
       "<tr><td>12</td><td>Operation</td><td>operator:&nbsp;17<br>operands:&nbsp;16<br></td><td><a class=\"ProveItLink\" href=\"../413c2f2d609866eff75d81a82a0d703df45a823c0/expr.ipynb\"><img src=\"../413c2f2d609866eff75d81a82a0d703df45a823c0/expr.png\" style=\"display:inline;vertical-align:middle;\" /></a></td></tr>\n",
       "<tr><td>13</td><td>Operation</td><td>operator:&nbsp;17<br>operands:&nbsp;18<br></td><td><a class=\"ProveItLink\" href=\"../9b678955eca470eea61b78ba67eebc212941b1e80/expr.ipynb\"><img src=\"../9b678955eca470eea61b78ba67eebc212941b1e80/expr.png\" style=\"display:inline;vertical-align:middle;\" /></a></td></tr>\n",
       "<tr><td>14</td><td>ExprTuple</td><td>27, 25</td><td><a class=\"ProveItLink\" href=\"../5d0cb3fd74ec3b46fd2c67bb60a87366ec15d14c0/expr.ipynb\"><img src=\"../5d0cb3fd74ec3b46fd2c67bb60a87366ec15d14c0/expr.png\" style=\"display:inline;vertical-align:middle;\" /></a></td></tr>\n",
       "<tr><td>15</td><td>ExprTuple</td><td>28, 26</td><td><a class=\"ProveItLink\" href=\"../4b358c6d0787182fc3ded0b6356975db840070c20/expr.ipynb\"><img src=\"../4b358c6d0787182fc3ded0b6356975db840070c20/expr.png\" style=\"display:inline;vertical-align:middle;\" /></a></td></tr>\n",
       "<tr><td>16</td><td>ExprTuple</td><td>19, 21</td><td><a class=\"ProveItLink\" href=\"../b9c02668d96c24bd438a92a6750f9737c3be116a0/expr.ipynb\"><img src=\"../b9c02668d96c24bd438a92a6750f9737c3be116a0/expr.png\" style=\"display:inline;vertical-align:middle;\" /></a></td></tr>\n",
       "<tr><td>17</td><td>Literal</td><td></td><td><a class=\"ProveItLink\" href=\"../../common/731dd3955b346c1320ed5c0ba7a618bcda61457d0/expr.ipynb\"><img src=\"../../common/731dd3955b346c1320ed5c0ba7a618bcda61457d0/expr.png\" style=\"display:inline;vertical-align:middle;\" /></a></td></tr>\n",
       "<tr><td>18</td><td>ExprTuple</td><td>20, 21</td><td><a class=\"ProveItLink\" href=\"../bfe76f54e9ed4351d0c700705a138af21b8ea1660/expr.ipynb\"><img src=\"../bfe76f54e9ed4351d0c700705a138af21b8ea1660/expr.png\" style=\"display:inline;vertical-align:middle;\" /></a></td></tr>\n",
       "<tr><td>19</td><td>Operation</td><td>operator:&nbsp;23<br>operands:&nbsp;22<br></td><td><a class=\"ProveItLink\" href=\"../../../../../__pv_it/common/ec12bae227206bcf580a0133a4e659196d167a9d0/expr.ipynb\"><img src=\"../../../../../__pv_it/common/ec12bae227206bcf580a0133a4e659196d167a9d0/expr.png\" style=\"display:inline;vertical-align:middle;\" /></a></td></tr>\n",
       "<tr><td>20</td><td>Operation</td><td>operator:&nbsp;23<br>operands:&nbsp;24<br></td><td><a class=\"ProveItLink\" href=\"../../../../../__pv_it/common/016bc6ef40c5540300f420f1caaf9d2b0e4a73620/expr.ipynb\"><img src=\"../../../../../__pv_it/common/016bc6ef40c5540300f420f1caaf9d2b0e4a73620/expr.png\" style=\"display:inline;vertical-align:middle;\" /></a></td></tr>\n",
       "<tr><td>21</td><td>Variable</td><td></td><td><a class=\"ProveItLink\" href=\"../../../../../__pv_it/common/9a9d28748f90dec84e90f2ace4610208194e524e0/expr.ipynb\"><img src=\"../../../../../__pv_it/common/9a9d28748f90dec84e90f2ace4610208194e524e0/expr.png\" style=\"display:inline;vertical-align:middle;\" /></a></td></tr>\n",
       "<tr><td>22</td><td>ExprTuple</td><td>25, 26</td><td><a class=\"ProveItLink\" href=\"../../../../../__pv_it/common/07f6bf0eb1db9b0ea23dfbeb13041c92e374e84d0/expr.ipynb\"><img src=\"../../../../../__pv_it/common/07f6bf0eb1db9b0ea23dfbeb13041c92e374e84d0/expr.png\" style=\"display:inline;vertical-align:middle;\" /></a></td></tr>\n",
       "<tr><td>23</td><td>Variable</td><td></td><td><a class=\"ProveItLink\" href=\"../../../../../__pv_it/common/c03f8781a34c741744d7dee8670bbb5419fe0ac50/expr.ipynb\"><img src=\"../../../../../__pv_it/common/c03f8781a34c741744d7dee8670bbb5419fe0ac50/expr.png\" style=\"display:inline;vertical-align:middle;\" /></a></td></tr>\n",
       "<tr><td>24</td><td>ExprTuple</td><td>27, 28</td><td><a class=\"ProveItLink\" href=\"../../../../../__pv_it/common/4abfcdcaafe6ad83c2ed27be2700d58c6f9aaa1b0/expr.ipynb\"><img src=\"../../../../../__pv_it/common/4abfcdcaafe6ad83c2ed27be2700d58c6f9aaa1b0/expr.png\" style=\"display:inline;vertical-align:middle;\" /></a></td></tr>\n",
       "<tr><td>25</td><td>Variable</td><td></td><td><a class=\"ProveItLink\" href=\"../../../../../__pv_it/common/66c90e66682f107a881f2d666959f64e2e72ad750/expr.ipynb\"><img src=\"../../../../../__pv_it/common/66c90e66682f107a881f2d666959f64e2e72ad750/expr.png\" style=\"display:inline;vertical-align:middle;\" /></a></td></tr>\n",
       "<tr><td>26</td><td>Variable</td><td></td><td><a class=\"ProveItLink\" href=\"../../../../../__pv_it/common/4a5db8cc5c67969ec864bd3ea598be37cb6f5e550/expr.ipynb\"><img src=\"../../../../../__pv_it/common/4a5db8cc5c67969ec864bd3ea598be37cb6f5e550/expr.png\" style=\"display:inline;vertical-align:middle;\" /></a></td></tr>\n",
       "<tr><td>27</td><td>Variable</td><td></td><td><a class=\"ProveItLink\" href=\"../../../../../__pv_it/common/a2581dc5df71d9a30bad37de14965fa5fec97a240/expr.ipynb\"><img src=\"../../../../../__pv_it/common/a2581dc5df71d9a30bad37de14965fa5fec97a240/expr.png\" style=\"display:inline;vertical-align:middle;\" /></a></td></tr>\n",
       "<tr><td>28</td><td>Variable</td><td></td><td><a class=\"ProveItLink\" href=\"../../../../../__pv_it/common/0f21cbfd5644a1cae6781c1d58354abc2ffbc9000/expr.ipynb\"><img src=\"../../../../../__pv_it/common/0f21cbfd5644a1cae6781c1d58354abc2ffbc9000/expr.png\" style=\"display:inline;vertical-align:middle;\" /></a></td></tr>\n",
       "</table>\n"
      ],
      "text/plain": [
       "0. (f, x, y, a, b, c) -> (((x = a) and (y = b)) => ((f(a, b) = c) => (f(x, y) = c)))\n",
       "   core type: Lambda\n",
       "   parameters: 1\\n   body: 2\n",
       "1. (f, x, y, a, b, c)\n",
       "   core type: ExprTuple\n",
       "   sub-expressions: 23, 27, 28, 25, 26, 21\n",
       "2. ((x = a) and (y = b)) => ((f(a, b) = c) => (f(x, y) = c))\n",
       "   core type: Operation\n",
       "   operator: 8\n",
       "   operands: 3\n",
       "3. ((x = a) and (y = b), (f(a, b) = c) => (f(x, y) = c))\n",
       "   core type: ExprTuple\n",
       "   sub-expressions: 4, 5\n",
       "4. (x = a) and (y = b)\n",
       "   core type: Operation\n",
       "   operator: 6\n",
       "   operands: 7\n",
       "5. (f(a, b) = c) => (f(x, y) = c)\n",
       "   core type: Operation\n",
       "   operator: 8\n",
       "   operands: 9\n",
       "6. and\n",
       "   core type: Literal\n",
       "   sub-expressions: \n",
       "7. (x = a, y = b)\n",
       "   core type: ExprTuple\n",
       "   sub-expressions: 10, 11\n",
       "8. =>\n",
       "   core type: Literal\n",
       "   sub-expressions: \n",
       "9. (f(a, b) = c, f(x, y) = c)\n",
       "   core type: ExprTuple\n",
       "   sub-expressions: 12, 13\n",
       "10. x = a\n",
       "    core type: Operation\n",
       "    operator: 17\n",
       "    operands: 14\n",
       "11. y = b\n",
       "    core type: Operation\n",
       "    operator: 17\n",
       "    operands: 15\n",
       "12. f(a, b) = c\n",
       "    core type: Operation\n",
       "    operator: 17\n",
       "    operands: 16\n",
       "13. f(x, y) = c\n",
       "    core type: Operation\n",
       "    operator: 17\n",
       "    operands: 18\n",
       "14. (x, a)\n",
       "    core type: ExprTuple\n",
       "    sub-expressions: 27, 25\n",
       "15. (y, b)\n",
       "    core type: ExprTuple\n",
       "    sub-expressions: 28, 26\n",
       "16. (f(a, b), c)\n",
       "    core type: ExprTuple\n",
       "    sub-expressions: 19, 21\n",
       "17. =\n",
       "    core type: Literal\n",
       "    sub-expressions: \n",
       "18. (f(x, y), c)\n",
       "    core type: ExprTuple\n",
       "    sub-expressions: 20, 21\n",
       "19. f(a, b)\n",
       "    core type: Operation\n",
       "    operator: 23\n",
       "    operands: 22\n",
       "20. f(x, y)\n",
       "    core type: Operation\n",
       "    operator: 23\n",
       "    operands: 24\n",
       "21. c\n",
       "    core type: Variable\n",
       "    sub-expressions: \n",
       "22. (a, b)\n",
       "    core type: ExprTuple\n",
       "    sub-expressions: 25, 26\n",
       "23. f\n",
       "    core type: Variable\n",
       "    sub-expressions: \n",
       "24. (x, y)\n",
       "    core type: ExprTuple\n",
       "    sub-expressions: 27, 28\n",
       "25. a\n",
       "    core type: Variable\n",
       "    sub-expressions: \n",
       "26. b\n",
       "    core type: Variable\n",
       "    sub-expressions: \n",
       "27. x\n",
       "    core type: Variable\n",
       "    sub-expressions: \n",
       "28. y\n",
       "    core type: Variable\n",
       "    sub-expressions: "
      ]
     },
     "execution_count": 6,
     "metadata": {},
     "output_type": "execute_result"
    }
   ],
   "source": [
    "# display the expression information\n",
    "expr.expr_info()"
   ]
  },
  {
   "cell_type": "code",
   "execution_count": null,
   "metadata": {},
   "outputs": [],
   "source": []
  }
 ],
 "metadata": {
  "kernelspec": {
   "display_name": "Python 3",
   "language": "python",
   "name": "python3"
  }
 },
 "nbformat": 4,
 "nbformat_minor": 0
}