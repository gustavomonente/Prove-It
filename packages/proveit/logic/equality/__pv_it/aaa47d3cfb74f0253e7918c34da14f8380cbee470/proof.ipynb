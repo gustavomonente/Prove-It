{
 "cells": [
  {
   "cell_type": "markdown",
   "metadata": {},
   "source": [
    "Show the Proof\n",
    "========"
   ]
  },
  {
   "cell_type": "code",
   "execution_count": 1,
   "metadata": {},
   "outputs": [
    {
     "data": {
      "text/html": [
       "<table><tr><th>&nbsp;</th><th>step type</th><th>requirements</th><th>statement</th></tr>\n",
       "<tr><td><a name=\"proveit.logic.equality.aaa47d3cfb74f0253e7918c34da14f8380cbee470_step0\">0</a></td><td>instantiation</td><td><a href=\"#proveit.logic.equality.aaa47d3cfb74f0253e7918c34da14f8380cbee470_step1\">1</a>, <a href=\"#proveit.logic.equality.aaa47d3cfb74f0253e7918c34da14f8380cbee470_step2\">2</a>, <a href=\"#proveit.logic.equality.aaa47d3cfb74f0253e7918c34da14f8380cbee470_step3\">3</a></td><td><span style=\"font-size:20px;\"><a class=\"ProveItLink\" href=\"../802c42ce6e7f621360a433cebb37d606a9b9d16b0/expr.ipynb\"><img src=\"../802c42ce6e7f621360a433cebb37d606a9b9d16b0/expr.png\" style=\"display:inline;vertical-align:middle;\" /></a> <a class=\"ProveItLink\" href=\"proof.ipynb\" style=\"text-decoration: none\">&#x22A2;&nbsp;</a><a class=\"ProveItLink\" href=\"../../../boolean/__pv_it/83a1ddf0f64531c80e7f41ea6b904214668818b30/expr.ipynb\"><img src=\"../../../boolean/__pv_it/83a1ddf0f64531c80e7f41ea6b904214668818b30/expr.png\" style=\"display:inline;vertical-align:middle;\" /></a></span></td></tr>\n",
       "<tr><td>&nbsp;</td><td colspan=4 style=\"text-align:left\"><span style=\"font-size:20px;\"><a class=\"ProveItLink\" href=\"../../../../__pv_it/d3792d0d8642fdf1cd2a3a9b32c673ee13653de00/expr.ipynb\"><img src=\"../../../../__pv_it/d3792d0d8642fdf1cd2a3a9b32c673ee13653de00/expr.png\" style=\"display:inline;vertical-align:middle;\" /></a> : <a class=\"ProveItLink\" href=\"../../../boolean/__pv_it/67fe26e9a363c5cce332bbfe877e3f89d271606e0/expr.ipynb\"><img src=\"../../../boolean/__pv_it/67fe26e9a363c5cce332bbfe877e3f89d271606e0/expr.png\" style=\"display:inline;vertical-align:middle;\" /></a></span></td></tr><tr><td><a name=\"proveit.logic.equality.aaa47d3cfb74f0253e7918c34da14f8380cbee470_step1\">1</a></td><td>theorem</td><td></td><td><span style=\"font-size:20px;\"> <a class=\"ProveItLink\" href=\"../../../boolean/negation/_proofs_/negationContradiction.ipynb\" style=\"text-decoration: none\">&#x22A2;&nbsp;</a><a class=\"ProveItLink\" href=\"../12116ee081673b8333efe726e5a8a104e4ca3e260/expr.ipynb\"><img src=\"../12116ee081673b8333efe726e5a8a104e4ca3e260/expr.png\" style=\"display:inline;vertical-align:middle;\" /></a></span></td></tr>\n",
       "<tr><td>&nbsp;</td><td colspan=4 style-\"text-align:left\"><a class=\"ProveItLink\" href=\"../../../boolean/negation/_proofs_/negationContradiction.ipynb\">proveit.logic.boolean.negation.negationContradiction</a></td></tr><tr><td><a name=\"proveit.logic.equality.aaa47d3cfb74f0253e7918c34da14f8380cbee470_step2\">2</a></td><td>assumption</td><td></td><td><span style=\"font-size:20px;\"><a class=\"ProveItLink\" href=\"../dc0d42bcb57a250e98b6e2b34ad690b0ea136da60/expr.ipynb\"><img src=\"../dc0d42bcb57a250e98b6e2b34ad690b0ea136da60/expr.png\" style=\"display:inline;vertical-align:middle;\" /></a> <a class=\"ProveItLink\" href=\"../1813602f1291cd61665b7c667e7533b0fa20c2070/proof.ipynb\" style=\"text-decoration: none\">&#x22A2;&nbsp;</a><a class=\"ProveItLink\" href=\"../../../boolean/__pv_it/67fe26e9a363c5cce332bbfe877e3f89d271606e0/expr.ipynb\"><img src=\"../../../boolean/__pv_it/67fe26e9a363c5cce332bbfe877e3f89d271606e0/expr.png\" style=\"display:inline;vertical-align:middle;\" /></a></span></td></tr>\n",
       "<tr><td><a name=\"proveit.logic.equality.aaa47d3cfb74f0253e7918c34da14f8380cbee470_step3\">3</a></td><td>instantiation</td><td><a href=\"#proveit.logic.equality.aaa47d3cfb74f0253e7918c34da14f8380cbee470_step4\">4</a>, <a href=\"#proveit.logic.equality.aaa47d3cfb74f0253e7918c34da14f8380cbee470_step5\">5</a></td><td><span style=\"font-size:20px;\"><a class=\"ProveItLink\" href=\"../567c70f976789d764e30828edbb8fe57534a69390/expr.ipynb\"><img src=\"../567c70f976789d764e30828edbb8fe57534a69390/expr.png\" style=\"display:inline;vertical-align:middle;\" /></a> <a class=\"ProveItLink\" href=\"../b70fbfc47cb54fd1ca806694a49a5aa62ed2cdf20/proof.ipynb\" style=\"text-decoration: none\">&#x22A2;&nbsp;</a><a class=\"ProveItLink\" href=\"../dfa669a71ebf63b7a35d3c3f9248d2a0083c3b130/expr.ipynb\"><img src=\"../dfa669a71ebf63b7a35d3c3f9248d2a0083c3b130/expr.png\" style=\"display:inline;vertical-align:middle;\" /></a></span></td></tr>\n",
       "<tr><td>&nbsp;</td><td colspan=4 style=\"text-align:left\"><span style=\"font-size:20px;\"><a class=\"ProveItLink\" href=\"../../../../__pv_it/72df168d2bfb4e0140af90912ebf83b13772060b0/expr.ipynb\"><img src=\"../../../../__pv_it/72df168d2bfb4e0140af90912ebf83b13772060b0/expr.png\" style=\"display:inline;vertical-align:middle;\" /></a> : <a class=\"ProveItLink\" href=\"../../../../__pv_it/72df168d2bfb4e0140af90912ebf83b13772060b0/expr.ipynb\"><img src=\"../../../../__pv_it/72df168d2bfb4e0140af90912ebf83b13772060b0/expr.png\" style=\"display:inline;vertical-align:middle;\" /></a>, <a class=\"ProveItLink\" href=\"../../../../__pv_it/c6e291955561f22a0e6708fd793ea93f1c7dbb5d0/expr.ipynb\"><img src=\"../../../../__pv_it/c6e291955561f22a0e6708fd793ea93f1c7dbb5d0/expr.png\" style=\"display:inline;vertical-align:middle;\" /></a> : <a class=\"ProveItLink\" href=\"../../../../__pv_it/c6e291955561f22a0e6708fd793ea93f1c7dbb5d0/expr.ipynb\"><img src=\"../../../../__pv_it/c6e291955561f22a0e6708fd793ea93f1c7dbb5d0/expr.png\" style=\"display:inline;vertical-align:middle;\" /></a></span></td></tr><tr><td><a name=\"proveit.logic.equality.aaa47d3cfb74f0253e7918c34da14f8380cbee470_step4\">4</a></td><td>theorem</td><td></td><td><span style=\"font-size:20px;\"> <a class=\"ProveItLink\" href=\"../../_proofs_/unfoldNotEquals.ipynb\" style=\"text-decoration: none\">&#x22A2;&nbsp;</a><a class=\"ProveItLink\" href=\"../29a4b1049e8c641082a90b4a4c6380d13aaf75880/expr.ipynb\"><img src=\"../29a4b1049e8c641082a90b4a4c6380d13aaf75880/expr.png\" style=\"display:inline;vertical-align:middle;\" /></a></span></td></tr>\n",
       "<tr><td>&nbsp;</td><td colspan=4 style-\"text-align:left\"><a class=\"ProveItLink\" href=\"../../_proofs_/unfoldNotEquals.ipynb\">proveit.logic.equality.unfoldNotEquals</a></td></tr><tr><td><a name=\"proveit.logic.equality.aaa47d3cfb74f0253e7918c34da14f8380cbee470_step5\">5</a></td><td>assumption</td><td></td><td><span style=\"font-size:20px;\"><a class=\"ProveItLink\" href=\"../567c70f976789d764e30828edbb8fe57534a69390/expr.ipynb\"><img src=\"../567c70f976789d764e30828edbb8fe57534a69390/expr.png\" style=\"display:inline;vertical-align:middle;\" /></a> <a class=\"ProveItLink\" href=\"../d48078a4f9590814687590b66182dc80f25aba5d0/proof.ipynb\" style=\"text-decoration: none\">&#x22A2;&nbsp;</a><a class=\"ProveItLink\" href=\"../../../boolean/__pv_it/91739890e6b95281778e0648d72a421a410205670/expr.ipynb\"><img src=\"../../../boolean/__pv_it/91739890e6b95281778e0648d72a421a410205670/expr.png\" style=\"display:inline;vertical-align:middle;\" /></a></span></td></tr>\n",
       "</table>"
      ],
      "text/plain": [
       "<proveit._core_.proof._ShowProof at 0x7f5b9b1c86d8>"
      ]
     },
     "execution_count": 1,
     "metadata": {},
     "output_type": "execute_result"
    }
   ],
   "source": [
    "import proveit\n",
    "# Automation is not needed when only showing a stored proof:\n",
    "proveit.defaults.automation = False # This will speed things up.\n",
    "proveit.defaults.inline_pngs = False # Makes files smaller.\n",
    "%show_proof"
   ]
  },
  {
   "cell_type": "code",
   "execution_count": null,
   "metadata": {},
   "outputs": [],
   "source": []
  }
 ],
 "metadata": {
  "kernelspec": {
   "display_name": "Python 3",
   "language": "python",
   "name": "python3"
  },
  "language_info": {
   "codemirror_mode": {
    "name": "ipython",
    "version": 3
   },
   "file_extension": ".py",
   "mimetype": "text/x-python",
   "name": "python",
   "nbconvert_exporter": "python",
   "pygments_lexer": "ipython3",
   "version": "3.7.3"
  }
 },
 "nbformat": 4,
 "nbformat_minor": 1
}
