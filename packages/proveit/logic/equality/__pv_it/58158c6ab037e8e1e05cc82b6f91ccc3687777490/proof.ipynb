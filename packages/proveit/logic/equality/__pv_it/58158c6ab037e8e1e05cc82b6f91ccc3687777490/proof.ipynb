{
 "cells": [
  {
   "cell_type": "markdown",
   "metadata": {},
   "source": [
    "Show the Proof\n",
    "========"
   ]
  },
  {
   "cell_type": "code",
   "execution_count": 1,
   "metadata": {},
   "outputs": [
    {
     "data": {
      "text/html": [
       "<table><tr><th>&nbsp;</th><th>step type</th><th>requirements</th><th>statement</th></tr>\n",
       "<tr><td><a name=\"proveit.logic.equality.58158c6ab037e8e1e05cc82b6f91ccc3687777490_step0\">0</a></td><td>modus ponens</td><td><a href=\"#proveit.logic.equality.58158c6ab037e8e1e05cc82b6f91ccc3687777490_step1\">1</a>, <a href=\"#proveit.logic.equality.58158c6ab037e8e1e05cc82b6f91ccc3687777490_step2\">2</a></td><td><span style=\"font-size:20px;\"><a class=\"ProveItLink\" href=\"../7aadb0ce7eabc4deb5289e9afef6a134e69eee5e0/expr.ipynb\"><img src=\"../7aadb0ce7eabc4deb5289e9afef6a134e69eee5e0/expr.png\" style=\"display:inline;vertical-align:middle;\" /></a> <a class=\"ProveItLink\" href=\"proof.ipynb\" style=\"text-decoration: none\">&#x22A2;&nbsp;</a><a class=\"ProveItLink\" href=\"../c96c5edb56cb6ff7bef12d450777ba400f0b0b070/expr.ipynb\"><img src=\"../c96c5edb56cb6ff7bef12d450777ba400f0b0b070/expr.png\" style=\"display:inline;vertical-align:middle;\" /></a></span></td></tr>\n",
       "<tr><td><a name=\"proveit.logic.equality.58158c6ab037e8e1e05cc82b6f91ccc3687777490_step1\">1</a></td><td>assumption</td><td></td><td><span style=\"font-size:20px;\"><a class=\"ProveItLink\" href=\"../2545a17b477c437a389dc03d23aa97f4260603280/expr.ipynb\"><img src=\"../2545a17b477c437a389dc03d23aa97f4260603280/expr.png\" style=\"display:inline;vertical-align:middle;\" /></a> <a class=\"ProveItLink\" href=\"../602ac2371096920e83dc05e9adfcbdcf02bed3050/proof.ipynb\" style=\"text-decoration: none\">&#x22A2;&nbsp;</a><a class=\"ProveItLink\" href=\"../ef637891484f167fa2bc77de150ea545565d42ee0/expr.ipynb\"><img src=\"../ef637891484f167fa2bc77de150ea545565d42ee0/expr.png\" style=\"display:inline;vertical-align:middle;\" /></a></span></td></tr>\n",
       "<tr><td><a name=\"proveit.logic.equality.58158c6ab037e8e1e05cc82b6f91ccc3687777490_step2\">2</a></td><td>instantiation</td><td><a href=\"#proveit.logic.equality.58158c6ab037e8e1e05cc82b6f91ccc3687777490_step3\">3</a>, <a href=\"#proveit.logic.equality.58158c6ab037e8e1e05cc82b6f91ccc3687777490_step4\">4</a></td><td><span style=\"font-size:20px;\"><a class=\"ProveItLink\" href=\"../9a122170f40b38a5928c518af271601ce91a9ec80/expr.ipynb\"><img src=\"../9a122170f40b38a5928c518af271601ce91a9ec80/expr.png\" style=\"display:inline;vertical-align:middle;\" /></a> <a class=\"ProveItLink\" href=\"../d4fd466acdb8dd151f7034cbb70c21b34a51c8840/proof.ipynb\" style=\"text-decoration: none\">&#x22A2;&nbsp;</a><a class=\"ProveItLink\" href=\"../../../../__pv_it/a8d4b3a34d2189508f9082853fbac36935714f280/expr.ipynb\"><img src=\"../../../../__pv_it/a8d4b3a34d2189508f9082853fbac36935714f280/expr.png\" style=\"display:inline;vertical-align:middle;\" /></a></span></td></tr>\n",
       "<tr><td>&nbsp;</td><td colspan=4 style=\"text-align:left\"><span style=\"font-size:20px;\"><a class=\"ProveItLink\" href=\"../../../../__pv_it/d3792d0d8642fdf1cd2a3a9b32c673ee13653de00/expr.ipynb\"><img src=\"../../../../__pv_it/d3792d0d8642fdf1cd2a3a9b32c673ee13653de00/expr.png\" style=\"display:inline;vertical-align:middle;\" /></a> : <a class=\"ProveItLink\" href=\"../../../../__pv_it/a8d4b3a34d2189508f9082853fbac36935714f280/expr.ipynb\"><img src=\"../../../../__pv_it/a8d4b3a34d2189508f9082853fbac36935714f280/expr.png\" style=\"display:inline;vertical-align:middle;\" /></a></span></td></tr><tr><td><a name=\"proveit.logic.equality.58158c6ab037e8e1e05cc82b6f91ccc3687777490_step3\">3</a></td><td>axiom</td><td></td><td><span style=\"font-size:20px;\"> <a class=\"ProveItLink\" href=\"../../../boolean/negation/_axioms_.ipynb#doubleNegationElim\" style=\"text-decoration: none\">&#x22A2;&nbsp;</a><a class=\"ProveItLink\" href=\"../669ce97e9639d92487f780b7ea4c77f12cb5f7930/expr.ipynb\"><img src=\"../669ce97e9639d92487f780b7ea4c77f12cb5f7930/expr.png\" style=\"display:inline;vertical-align:middle;\" /></a></span></td></tr>\n",
       "<tr><td>&nbsp;</td><td colspan=4 style-\"text-align:left\"><a class=\"ProveItLink\" href=\"../../../boolean/negation/_axioms_.ipynb#doubleNegationElim\">proveit.logic.boolean.negation.doubleNegationElim</a></td></tr><tr><td><a name=\"proveit.logic.equality.58158c6ab037e8e1e05cc82b6f91ccc3687777490_step4\">4</a></td><td>assumption</td><td></td><td><span style=\"font-size:20px;\"><a class=\"ProveItLink\" href=\"../9a122170f40b38a5928c518af271601ce91a9ec80/expr.ipynb\"><img src=\"../9a122170f40b38a5928c518af271601ce91a9ec80/expr.png\" style=\"display:inline;vertical-align:middle;\" /></a> <a class=\"ProveItLink\" href=\"../d33ed28be602be03a8a1db3948e9aa5bff8cd6c30/proof.ipynb\" style=\"text-decoration: none\">&#x22A2;&nbsp;</a><a class=\"ProveItLink\" href=\"../../../../__pv_it/14c2c2f5d5d2d0755c757c05c788f087c653b2d50/expr.ipynb\"><img src=\"../../../../__pv_it/14c2c2f5d5d2d0755c757c05c788f087c653b2d50/expr.png\" style=\"display:inline;vertical-align:middle;\" /></a></span></td></tr>\n",
       "</table>"
      ],
      "text/plain": [
       "<proveit._core_.proof._ShowProof at 0x7f5b8db2fe10>"
      ]
     },
     "execution_count": 1,
     "metadata": {},
     "output_type": "execute_result"
    }
   ],
   "source": [
    "import proveit\n",
    "# Automation is not needed when only showing a stored proof:\n",
    "proveit.defaults.automation = False # This will speed things up.\n",
    "proveit.defaults.inline_pngs = False # Makes files smaller.\n",
    "%show_proof"
   ]
  },
  {
   "cell_type": "code",
   "execution_count": null,
   "metadata": {},
   "outputs": [],
   "source": []
  }
 ],
 "metadata": {
  "kernelspec": {
   "display_name": "Python 3",
   "language": "python",
   "name": "python3"
  },
  "language_info": {
   "codemirror_mode": {
    "name": "ipython",
    "version": 3
   },
   "file_extension": ".py",
   "mimetype": "text/x-python",
   "name": "python",
   "nbconvert_exporter": "python",
   "pygments_lexer": "ipython3",
   "version": "3.7.3"
  }
 },
 "nbformat": 4,
 "nbformat_minor": 1
}
