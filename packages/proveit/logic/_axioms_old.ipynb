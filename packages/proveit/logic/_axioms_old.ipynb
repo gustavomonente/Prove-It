{
 "cells": [
  {
   "cell_type": "code",
   "execution_count": null,
   "metadata": {},
   "outputs": [],
   "source": [
    "import proveit.specialStatementMagic # for %begin_axioms and %end_axioms\n",
    "from proveit.basiclogic import OperationOverInstances, Forall, Equals, Implies, In\n",
    "from proveit.common import n, Qetc, xEtc, yEtc, zEtc, etc_QxEtc, etc_QyEtc, etc_QzEtc, f, g, fxEtc, fyEtc, gxEtc, gzEtc, Upsilon, S\n",
    "from proveit.numbers.common import Natural\n",
    "from proveit.basiclogic.common import n_of_xEtc, n_of_yEtc, n_of_zEtc"
   ]
  },
  {
   "cell_type": "code",
   "execution_count": null,
   "metadata": {},
   "outputs": [],
   "source": [
    "%begin_axioms"
   ]
  },
  {
   "cell_type": "markdown",
   "metadata": {},
   "source": [
    "instanceSubstition: For any OperationOverInstance operator $\\Upsilon$, such as $\\forall$ or $\\sum$ or $\\prod$, we may substitute an instance expression that is equivalent for all relevant instances with respect to the domain $S$ and conditions $..Q..$.  This could not be implemented with normal substitution in proveit.basiclogic.equals.axioms because that would violate scope restrictions with respect to the instance variables."
   ]
  },
  {
   "cell_type": "code",
   "execution_count": null,
   "metadata": {},
   "outputs": [],
   "source": [
    "instanceSubstitution = \\\n",
    "    Forall((Upsilon, Qetc, f, g, S), \n",
    "                     Implies(Forall(xEtc, Equals(fxEtc, gxEtc), domain=S, conditions=etc_QxEtc),\n",
    "                             Equals(OperationOverInstances(Upsilon, yEtc, fyEtc, domain=S, conditions=etc_QyEtc),\n",
    "                                    OperationOverInstances(Upsilon, zEtc, gzEtc, domain=S, conditions=etc_QzEtc))))\n",
    "instanceSubstitution"
   ]
  },
  {
   "cell_type": "code",
   "execution_count": null,
   "metadata": {},
   "outputs": [],
   "source": [
    "%end_axioms"
   ]
  },
  {
   "cell_type": "code",
   "execution_count": null,
   "metadata": {},
   "outputs": [],
   "source": []
  }
 ],
 "metadata": {
  "kernelspec": {
   "display_name": "Python 3",
   "language": "python",
   "name": "python3"
  }
 },
 "nbformat": 4,
 "nbformat_minor": 0
}
