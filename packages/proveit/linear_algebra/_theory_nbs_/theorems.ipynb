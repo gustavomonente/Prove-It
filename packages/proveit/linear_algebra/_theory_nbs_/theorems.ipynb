{
 "cells": [
  {
   "cell_type": "markdown",
   "metadata": {},
   "source": [
    "Theorems (or conjectures) for the theory of <a class=\"ProveItLink\" href=\"theory.ipynb\">proveit.linear_algebra</a>\n",
    "========"
   ]
  },
  {
   "cell_type": "code",
   "execution_count": null,
   "metadata": {},
   "outputs": [],
   "source": [
    "import proveit\n",
    "# Prepare this notebook for defining the theorems of a theory:\n",
    "%theorems_notebook # Keep this at the top following 'import proveit'.\n",
    "from proveit import (b, n, k, f, x, y, z, fx, fy, A, U, S, alpha, beta)\n",
    "# others to re-create from previous common imports: a_etc, x_etc, y_etc,z_etc\n",
    "from proveit.logic import Equals, Forall, Iff, InSet, Implies\n",
    "# from proveit.multi_expression import Multi_variable, Etcetera\n",
    "from proveit.numbers import Add, Mult, Exp, Sum\n",
    "from proveit.numbers import one\n",
    "from proveit.numbers import Complex, NaturalPos\n",
    "from proveit.linear_algebra import ScalarProd, TensorProd, MatrixProd, TensorExp, SU"
   ]
  },
  {
   "cell_type": "code",
   "execution_count": null,
   "metadata": {},
   "outputs": [],
   "source": [
    "%begin theorems"
   ]
  },
  {
   "cell_type": "code",
   "execution_count": null,
   "metadata": {},
   "outputs": [],
   "source": [
    "# factor_scalar_from_tensor_prod = Forall((x_etc, y, z_etc),\n",
    "#                                     Forall(alpha,\n",
    "#                                            Equals(TensorProd(x_etc, ScalarProd(alpha, y), z_etc),\n",
    "#                                                  ScalarProd(alpha, TensorProd(x_etc, y, z_etc)))))                             "
   ]
  },
  {
   "cell_type": "code",
   "execution_count": null,
   "metadata": {},
   "outputs": [],
   "source": [
    "doubly_scaled_as_singly_scaled = (\n",
    "    Forall(x,\n",
    "           Forall((alpha, beta),\n",
    "                  Equals(ScalarProd(alpha, ScalarProd(beta, x)), \n",
    "                         ScalarProd(Mult(alpha, beta), x)))\n",
    "          ))"
   ]
  },
  {
   "cell_type": "code",
   "execution_count": null,
   "metadata": {},
   "outputs": [],
   "source": [
    "# tensor_prod_equiv_by_elimination = Forall((a_etc, x, y, z_etc), Iff(Equals(TensorProd(a_etc, x, z_etc), TensorProd(a_etc, y, z_etc)),\n",
    "#                                                               Equals(x, y)))"
   ]
  },
  {
   "cell_type": "code",
   "execution_count": null,
   "metadata": {},
   "outputs": [],
   "source": [
    "int_pow_s_uclosure = (\n",
    "    Forall((n, k),\n",
    "           Forall(U, InSet(Exp(U, k), SU(n)), domain=SU(n)), \n",
    "           domain=NaturalPos))"
   ]
  },
  {
   "cell_type": "code",
   "execution_count": null,
   "metadata": {},
   "outputs": [],
   "source": [
    "eigen_pow = Forall(k, Forall(b, Forall((A, x), \n",
    "                            Implies(Equals(MatrixProd(A, x), ScalarProd(b, x)), \n",
    "                                    Equals(MatrixProd(Exp(A, k), x), ScalarProd(Exp(b, k), x)))),\n",
    "                  domain=Complex), domain=NaturalPos)"
   ]
  },
  {
   "cell_type": "code",
   "execution_count": null,
   "metadata": {},
   "outputs": [],
   "source": [
    "# distribute_tensor_prod_over_sum = Forall((x_etc, y_etc, z_etc), \n",
    "#                                      Equals(TensorProd(x_etc, Add(y_etc), z_etc),\n",
    "#                                             Add(Etcetera(TensorProd(x_etc, Multi_variable(y), z_etc)))))"
   ]
  },
  {
   "cell_type": "code",
   "execution_count": null,
   "metadata": {},
   "outputs": [],
   "source": [
    "# distribute_tensor_prod_over_summation = Forall((f, S, x_etc, z_etc), \n",
    "#                                            Equals(TensorProd(x_etc, Summation(y, fy, domain=S), z_etc),\n",
    "#                                                   Summation(y, TensorProd(x_etc, fy, z_etc), domain=S)))"
   ]
  },
  {
   "cell_type": "code",
   "execution_count": null,
   "metadata": {},
   "outputs": [],
   "source": [
    "%end theorems"
   ]
  }
 ],
 "metadata": {
  "kernelspec": {
   "display_name": "Python 3",
   "language": "python",
   "name": "python3"
  }
 },
 "nbformat": 4,
 "nbformat_minor": 0
}
