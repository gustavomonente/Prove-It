{
 "cells": [
  {
   "cell_type": "markdown",
   "metadata": {},
   "source": [
    "Theory of proveit\n",
    "========\n",
    "\n",
    "This is the top-level theory for general \"textbook\" mathematics."
   ]
  },
  {
   "cell_type": "code",
   "execution_count": null,
   "metadata": {},
   "outputs": [
    {
     "data": {
      "application/vnd.jupyter.widget-view+json": {
       "model_id": "e7f4dc70d44f4a99880b557a0cd93a02",
       "version_major": 2,
       "version_minor": 0
      },
      "text/plain": [
       "VBox(children=(HBox(children=(HTML(value='<a class=\"ProveItLink\" href=\"_common_.ipynb\">common expressions</a>'…"
      ]
     },
     "metadata": {},
     "output_type": "display_data"
    },
    {
     "data": {
      "text/html": [
       "<h3>Axioms contained (directly or indirectly) within this theory</h3>"
      ],
      "text/plain": [
       "<IPython.core.display.HTML object>"
      ]
     },
     "metadata": {},
     "output_type": "display_data"
    },
    {
     "data": {
      "text/html": [
       "<dt><a class=\"ProveItLink\" href=\"core_expr_types/operations/_axioms_.ipynb#operands_substitution\">proveit.core_expr_types.operations.operands_substitution</a></dt><dd><a class=\"ProveItLink\" href=\"core_expr_types/operations/__pv_it/axioms/dec935d22142078bcc7b635f08502c5f1fd9a5820/expr.ipynb\"><img src=\"data:image/png;base64,iVBORw0KGgoAAAANSUhEUgAAAl4AAAAyBAMAAAB/psi9AAAAMFBMVEX///8QEBCIiIhmZma6urrM\n",
       "zMxUVFQiIiJERETc3Nzu7u6qqqp2dnaYmJgyMjIAAAAcRTyBAAAAAXRSTlMAQObYZgAACCxJREFU\n",
       "aN7dW32IFGUYf253Zmd3dufuiErSqPUO7PCDuzQT0dNTQSPKWw3CPySXK6GibEvLMqulP+y0zO0D\n",
       "/AhxvOJKo+7KrlISN68w1LwBJQq0FvqAAmU9U/TU7P2Yj3dm3pm9lVXu5oWdefed3z4z85v3ed7n\n",
       "YxbAt91+5RIMt5ZoqbREOU33fVdOl0CO2rxl2PF1uPIi59Pdjs2flQDeNOzYglC68jKVgt5ZEDy+\n",
       "nFMgppX3+928wTcCy5d8I9OfOBXgozIFRHKcwe0tQeUr2sTc+qGLAH+XS3iBMxivDSpf+1Sr33Vv\n",
       "CyhN5UrYzxtcHVS+lrPcoY+UK1fCdu5jyAWTL+UC8+UA+mwsW0Q1z3+TmoLJl5S1+kdHTAKoR52O\n",
       "Me+OT/r+jEUkeBqsDASTryXs5OhHn/XIgueVZ6QCiFlvG08RrLN15BRuv5uI/mDydSfreZ1FmxfR\n",
       "hFETA0JOnJTxDqEIwlgLubhTweTrZtYJKKINcsdkiOKpJXjzpSNoE4s8SGMuiHyJl9lZk6F8AdQk\n",
       "/fnSEX58bdOCyFeIXR6jaaqPyKqlSvGFEUrzwnoTR+3XXyagKh1EvqK1zJeqJLX3cbURQqofXxSh\n",
       "zNKqckxwbZecCSJfVewa2IXXyl6A1u4NsJXOmy7MBd7I/7EdithyB9Sg6CCc5y4JRcoXIfOED1/+\n",
       "gCHWuljfqRVv5gF01nU0a5QvaRX20bBqPWd0Vqomog1mYX81xXWEz1K+DuHdPz58+QOGmvvFuqU/\n",
       "gC0eIvq4h6OLzN1OFwE+5K8k/ZSvTdhRyfrw5Q8YatF2t8VD+iSZF+aMI36VW9cSlr9WhBU9HvE2\n",
       "yGcoX9WI3kS3D1/+gCHWfrN0SVpH7fZag40p55Igu8OiDrMnpGG8xs/noHaO8qUc3Llzo5+99wcM\n",
       "sdZoZSOUetq35QsV90+c6deoR0LjvL4+nm9vX+27PvoCrrrFSgFSg8aKVrdPdZ+ozHz0Lx7jt+l8\n",
       "LbWmLJ8vAzBdqwhRAt3lS+G+sLolsHErxp6pXrOpO0Lna45dY8Xl38HoNMuXDkjU5Sty3ijZRkqm\n",
       "8cImoiR2qtl76tqp+tM6XxKEzInzcW8zfJ1QwyrLlw7gptGumq/FJXGy+dBKYjuvJ18JTTKt4etb\n",
       "VNibbErY9FEH1KiV5GtpaaBZqCiJrc5dB31cqfMVKzxohJpz8FBPz9t2vggAlA3NmLv6hZyr3z95\n",
       "jGGdhTEgua55dhpWOfjKeMhiBicYYxm+VGvQUpC+3DXjy7D3sPYRxAYJNYkd60l8stgeP2IAwM94\n",
       "MzZSWOFOCqjLJENZEzWqOybND4i1dr5iGQ9ZzOCX8Gg7ahrCcqVag3FTdRtTXre7tRxu4jmPzBo+\n",
       "4S507STUlIkr3AP5Xjtfu0hoPoks8tXoUUZU53p+0uxvmQcNTkDsg0woa+dLyHrIIoO03WPMoyxX\n",
       "Kh00EIa/yjGypGorlxehPOYeOmPwRVJlONQUn29vfxXxtVWy80VzaetpXi0H4rcu1WCyTtOhzQUI\n",
       "5yNJB19pL1k15qN9yHK7uVLxoP7AzAV+H4cvUrWtLk9RP3WzfsngS1GNUDNN55ew0M4XAeipnSXI\n",
       "j3SZErFouYwrENAJkFqqUna+SO2BK2uJ6ajOhWU4ZadhLE8qGTQZ1X/N8RFx1RaOlmesEkmveJsN\n",
       "Nb/H3WMAxzn5L3kAYutixSPIecQXvkmNrTM22xKFBBzdexyPwrNCEQOso2gjpVrpcZMvOQOmLBZK\n",
       "BpVpJ7CrZ1wFwhpSbafFgxSqmJ5hDacWhqu28EJ5fMm1LpN2keWLhppRFFYLL7dAhMOXkAFxlPzk\n",
       "feNVcuELusVbYEEOb7o7j+0/CJ9nJTwKcxsKGCCO0o/mUE9oe5Met9bHVWDKYqFkMN6Al0+4yzg1\n",
       "Wlt1qbbT4kEKDZtaKHGC5QP6+lJW+8M14y5w8qsNyH555FdxXiSuXxRWDCtjQXuR1CLcl3NRjQDi\n",
       "1pOBHcj40eMmX+PAksVCqcNF1NW89XFgSmVPSwYJtNqylO5aBanahtDVd0yE2Ei/OVWfhLcMne91\n",
       "WcEihy9u/Ehdwp9S5qtR5B5zjrVXggktqB/Jz6cA6zWq3fCEUKDHLb6iDF8slDpcIWQU4ppl8Uyp\n",
       "7GnJIIHutZ7qgPsesOFBzEJ+FoSKsMjbZgm10Gh8+dV5lGa6B81Xos5MfYiN09jEiGLEJN9oqC8c\n",
       "z1OAxiRM7j+sH7eYEhhZmiO3IqfjPwK8b5kCzZTKnhYPEqhsGS3xojs/gRPJUjfEumdANPvAFM97\n",
       "fS9cgHbjy1fOo9uSZfFVuRa2TSXvNhac086rhVSHV2k31FiRqlpAhhuwZzTPU4xalYR+a5nmZtYC\n",
       "V9+e6VazDOULhAFcZfTmC1pV8awnX69BIPlqdTmspGqL9BGQuo0GP75mQKhWr9m6YQF930RyOWBV\n",
       "Sd3eI+LW+PK1BkH0mq3L3ocC+j6Te4EkVVv8Tlc4LVwmfJESrb1gS+q4d0OrptdsUazlYD0dTL7g\n",
       "VpeG6t42yG31F+j8wiVaq2BLOjjf1Fk3M6fXbOFPZ5AQ0Pcxbe/7kkaqtjQeQhaM8BV3ZxX36BZM\n",
       "r9nKznhAf3EueHxV2w2YXrXF8fYyoprYsUq4f4Yi0EhB/teo2Trj7fjIoPIVs1+yUbWN5uAlQMHe\n",
       "O6+0sSVaMxZC/EhaNKkH0q58TnD/r+DwzI2qrZyF2fUpWxhhg2EbVzfZ/O6sMD4MgeUrnOYOl5WP\n",
       "VhzZRSU7SL6G4//52iovctD/5xuO/xcNt1Raovw43fddOf0/xkBX5RQO8K8AAAAASUVORK5CYII=\n",
       "\" style=\"display:inline;vertical-align:middle;\" /></a></dd>"
      ],
      "text/plain": [
       "<IPython.core.display.HTML object>"
      ]
     },
     "metadata": {},
     "output_type": "display_data"
    },
    {
     "data": {
      "text/html": [
       "<dt><a class=\"ProveItLink\" href=\"core_expr_types/conditionals/_axioms_.ipynb#condition__as__condition_eq_true\">proveit.core_expr_types.conditionals.condition__as__condition_eq_true</a></dt><dd><a class=\"ProveItLink\" href=\"core_expr_types/conditionals/__pv_it/axioms/c3716d6f4e9197ec1df5396741b3e0affb72e9d60/expr.ipynb\"><img src=\"data:image/png;base64,iVBORw0KGgoAAAANSUhEUgAAAO4AAAAyBAMAAACpPPpFAAAAMFBMVEX///8QEBCIiIhmZma6urrM\n",
       "zMxUVFQiIiJERETc3Nzu7u6qqqp2dnaYmJgyMjIAAAAcRTyBAAAAAXRSTlMAQObYZgAABJlJREFU\n",
       "WMO9WF1sFFUUPvsz293Zma2GIFLArBXQN9afEB9aCiEhvABLjBV92bUIMY2hRaVggrJKAm0CYRoC\n",
       "9K1bMCSSaFd58qmLNTEBtGt8MGpMIWAfCCkb+2Ndius9d3a6O+X+ZWg52Z25s+fO/faen++cGQCx\n",
       "fA8LLXpaYZKR56p+KXgE3q4wZy1X81Xe64bNG9Ip0Se4qtGacWQVQLAtY5vxuevNklVPSHEHNnJV\n",
       "P9SMtVmAnZ9P2r8nIZTxvGpFjoISLsqrFfMTI+orPVuxMqGkjrvbPt3MkkOHZN3DEn1dQg038rqD\n",
       "azzA44glXndIoh+1xLiRppcacNw3Da89+TKO+jvx2LLR+35QDgl0+8h3kxUr0osxgL10MBLH46mk\n",
       "JJNKQrU2KXD9UhI/qyBgh+4xB/cIRSzLKOtvoTrAjzvtOHFBoAR1cTduGcMqOi3Lk3Gh1idg0iDZ\n",
       "ry8Dg0k37n7qvpIMd50wsFIiBn4XYDAPQ+DGfZuuGpfh9hc8/ysSz4M52Be1XLip7Pk12oSUB33C\n",
       "mvQpiHHDcbPLoBfd9EPEHy8Yo3bF0P/j3xzuBFoc/mRqn5bg6m1rzq7GcWu5/Wz5JP35rfee7wHb\n",
       "6V2C8lqEa3i+w4z2CQkuW0JJ05KWwinoQ95hFhBNmGVXuDZMbJX6lywdIxln5JjUcF/IodysL0/J\n",
       "e50JMK9eunSOZwyBxHj9hrY/J+85CLPMdHez65L/X+Gtl732VygzAHsAemrAmoazTtCVYNHkGYDN\n",
       "oFcbrcht0BocRy0i7jLCpuCvWqyXpMB6JyGKi4dLeNwo1FWvPybfnx8PbuRGKxlcWPsXehcr3zqZ\n",
       "nc3mR8Y9SL4975CEOqAhSgz5eoMTV5x41u8uSFzBZdITBRIadkb1mJROF+rn5K9Za/9eEhtbXrDH\n",
       "55uG5+dW4CCVh8rPUwhGyqUv50edjwxNp8swOW2O0Vlbo/MkAXbQPs44QKvyQ7THqsZI/SZJ2EEr\n",
       "/Ds5hdJf5nqdZjCqgot7qjygYPMykFfC1WedQmyltkFfVl8a/+P2HOE9UMMN2V1prIGdAyzcuZIT\n",
       "bPumGXbm4MKJvWDVGkOGeybp4I4U2LHIwp1XcpDQWyNzsfGJAPf08LPIp5FTae3FJQgc+YfafFIJ\n",
       "1/33aK/Uf9PhZ2ipqn4aR7ll25XQanA53LOtmyZBQZeipgtjDhh08niCj+t2h0nv/LBaYrPM/X5N\n",
       "2piBQuUBMOzg1tGsq1fzr0/4pJpiFtJdH6EpsvC+G7eesttQWgm3P+6h29yUxJZPn5q3X5r2R7JK\n",
       "uOK+PVCc598x2zkZzL9o0Y0bQlw/dXLFv2k+7nEhiQYnefGs3yfR9a0LVyvpjclUQo2vxM9l8AE3\n",
       "jz6DX9OUmsIZ/KA0mvDjLPBxa/p4v6SjYAc04l5sfLMN+VTrmP6iY4ZmvHbxu0OWxrCawwddio8p\n",
       "RJ9X4cmq7IHflKqg7D0D+72KwX0sPhrMKOHe8jTB5PY/LeWkCmy0QTajl7kOt994Y4XSduXvzaJM\n",
       "V0Yfsb/aLZ+yfhF6SVMhCELxhcdVeQ8Mryw4rN6Ox/8BngI3ytgo6IUAAAAASUVORK5CYII=\n",
       "\" style=\"display:inline;vertical-align:middle;\" /></a></dd>"
      ],
      "text/plain": [
       "<IPython.core.display.HTML object>"
      ]
     },
     "metadata": {},
     "output_type": "display_data"
    },
    {
     "data": {
      "text/html": [
       "<dt><a class=\"ProveItLink\" href=\"core_expr_types/conditionals/_axioms_.ipynb#conditional_substitution\">proveit.core_expr_types.conditionals.conditional_substitution</a></dt><dd><a class=\"ProveItLink\" href=\"core_expr_types/conditionals/__pv_it/axioms/ee8ec4670f2e6e538b223f963e316117b9b2601c0/expr.ipynb\"><img src=\"data:image/png;base64,iVBORw0KGgoAAAANSUhEUgAAAScAAAAyBAMAAADsGADuAAAAMFBMVEX///8QEBCIiIhmZma6urrM\n",
       "zMxUVFQiIiJERETc3Nzu7u6qqqp2dnaYmJgyMjIAAAAcRTyBAAAAAXRSTlMAQObYZgAABYZJREFU\n",
       "WMO9mWtoHFUUgM8+Zh+zr4pWa62wJhjFB1lpkf5omwWh9I+4RUxRxF1TDUVqk6otpahdFewG1G4Q\n",
       "a/51TCTogmZrRegPyWqEig+y4g/rMymtghViSJPYJo3ruffO886dpKszXjaze4Z7Zr6559zzmAC4\n",
       "Pz7796rD4NGI1yzit/UmdIOTHkG1WaT3a00p/+INU2yVRZwwC/24altvZb8HN40J1jBS8wTqraxF\n",
       "PGUW8jWQ1t5HJ8T3Aeyya8vXeAL1EjhD4QgU2c2nCL9gWY57Yr2F5aFCGfqVXEt+T9v1w17YL5xZ\n",
       "BuqNnAY1TvwpfknwUJc8gJooC6BeH7tJwa/okYJ019WEKvoXNeWs4AJPewB1gJP3kOhzPfzJjFaA\n",
       "UIG6+QzdanOip1JcZ5K4h4+tJg5dh41sw2tQYYqTEvgUjKRdhwpYo5R0mFizQ4GnrFApuh1GC4Ir\n",
       "JN0P6j7uPkGyUmtAnuNWirIfElnK776n5/kojQFSvgyxaStUiED5Z0RXiC65DtXObT6y++RFCE2e\n",
       "tEBJC3JLLp8RXuJa16FeADsUvAjfFWhMjBTJh4yWBHx9mcX2vzmNwwDUrX52DWqNCGq45cEukvCk\n",
       "nvl3ey5SA0vDnx4oS3TGfk5jHOBL8n3eLSb5gghKPB6H78XhNwcDxLeKroUpm+9+4py5g+Lb5tOQ\n",
       "xG0Zr7qWjhdtz+04t6ORE54fyUDii0rlTddcKmFLHEnHrL/jBvH5FO7Pi6XSs65BCSLfiXqT10gV\n",
       "ib9BX5NqUU42zBBfcCEpYEC4B2Q92wSn1AfeNMYyQJaT2TBbhKh8aKQ+N6B6MQ2B31jgMbYS57CU\n",
       "pr+KnMyKR0vURpWAfkJUSzZdJmIKitfDxok/WNOBN7nbBGXIdDxsuQaqyAW3oaKTncYJ5qfP4d83\n",
       "JihD/phFPfMgKr+vaL4mWtIwmg/6HsPDUNuvNPa1oe/4SQpvN6BMMrVcrzYdNJU7dUd3qDuaaUmJ\n",
       "o8MJvIm8TyLP6D/oz9CiFWCLAaXKn5dKpdewLYv2sum7UC7VqcpHekiYc6jc8e+d65iD3oi7o0tt\n",
       "tFq/2iwuyVJYfwYyElm0SDqBmCnyWOsMKJMM/g2A2UGdDprKNj14zoqhaAY8y5YWi4Ptb7N5p7C7\n",
       "seWaFKloEmgxX9VP+HzZAH75kDKxyoAyySB3K8GCNh00lUf0NLMclJGCNqpGxRWQ19nSjGbqkXLk\n",
       "B2RLKT5Mg6HCe9X+rAGlyq3rcexUQCqy6XumcNSpylY9IS85QwWNTbCTfZ0hwa9HkJDV5y3n74UB\n",
       "JaycxqO8Ov3jOTCgVFmuVCqDqCD3sunqXkEV+Em/4gVnqDizePQBDSpOn2Ccr1VHtfIg2PXBZthe\n",
       "lXbX8AhDr3RD2RQSDPkoORxk09W1QRXYoF/xeWeoZFcrud3APNx/1Xpy8hil7MjyRZ6VsqofO6N1\n",
       "E5Qh0/m32+5pdEUdRhqcoiOjt6Qj52UaMH4D6GZ3p3Y6whcwVnvGyvrx2BnFAqXJbMPZqqj6Cv0t\n",
       "bUlHFaAl4Msa1CGK01i+ok4Yx8gzYIHSZGZrPjoPmbxUVC+ylnQL6bXMUA3yALF5vgSZWSm6ipug\n",
       "k5x8m3MzampJz0Jw0QK1l26UBe+b0cA051MFrSWFJTUz6lCP0kaRf3UQ6XUdKjjruPtmyYsOM1Re\n",
       "GbxZssWQlPsvOBxeLxGoJ9U3jyX6IYZK1+MTNb4jbXf/VZDD9iNQQ3fQhepsPHG08So9+9DuW/rU\n",
       "Wnq/h107enrNMfcJRiiXKP8PrxdjwjLPqSWNZLbxLVnGAyi1QLnCljTQ4Auw44oXUP2ivtepJZX2\n",
       "csHWo5f7MWGcudKWNOSJ9Sx9T/PjtDdMEPoP0c+zf62ZqqumxzB1838AHvGTItfdHA4AAAAASUVO\n",
       "RK5CYII=\n",
       "\" style=\"display:inline;vertical-align:middle;\" /></a></dd>"
      ],
      "text/plain": [
       "<IPython.core.display.HTML object>"
      ]
     },
     "metadata": {},
     "output_type": "display_data"
    },
    {
     "data": {
      "text/html": [
       "<dt><a class=\"ProveItLink\" href=\"core_expr_types/conditionals/_axioms_.ipynb#true_condition_reduction\">proveit.core_expr_types.conditionals.true_condition_reduction</a></dt><dd><a class=\"ProveItLink\" href=\"core_expr_types/conditionals/__pv_it/axioms/a2b80d992904e51d5aa91b165e15872c37700d590/expr.ipynb\"><img src=\"data:image/png;base64,iVBORw0KGgoAAAANSUhEUgAAAKAAAAAVBAMAAAAz5vjYAAAAMFBMVEX///8QEBCIiIhmZma6urrM\n",
       "zMxUVFQiIiJERETc3Nzu7u6qqqp2dnaYmJgyMjIAAAAcRTyBAAAAAXRSTlMAQObYZgAAAgJJREFU\n",
       "OMtjYMAOLl9goBrgBJq17gBZWrknMDA8ADHuIouuAOL7yBbIMjCwJDUAWeblIFCGx8RMBobTIPoV\n",
       "suBLID6OxGf9w8AQuOQLhLMJvxPXMTDMALmhAUmM1wDNQBCwgDEIGMijwMC3AEhtQBJjn4DFwGQi\n",
       "DeQSYOA9tWrVdGQxMAfZQM5Q4g1keMLA8KOjowZZSBlmIKeNkRSIPeMbQ7CgMUEDJx9WBHr2MAND\n",
       "KgNDJ7JEL4jIA2LHCXwfwCLPGBjSsLvw3DsQeAxiskgyvAdS9xgYnBm4HiArqgalJ1FgcMgyMEMi\n",
       "qw2ngUhg4QVwzG0HRgIDE0quEAEmlHZgxDD/YmBXIN5A+wUMRUAqHhjFF9gZ0AxkYAG6kLGBYX0A\n",
       "8QZKMHB9hRjI+SAMyFis9hTJywwZDAzrDzDsZyBgICQMn4HSyx8GblCIuwNxZwqQX8r6CzlSgLG8\n",
       "fgNDHihvEudCrt8MbA92giOFYXMBMMAMWAugUoehBnIo8JbxgEU6wAjVwPUP0ExsYrieACxRbIBM\n",
       "fmDQM25gSoDKuEMN5EpSnaYCYof9z5r2vxcq6wvLTwloBi5TikxyYGAABRwvMD2un8BxawGerEcs\n",
       "4IL5k3FCvC9y4XCQTAN5FKAMlqRNtjDBTrTykBSwDpsgqIDlI6/ERs3EyFUAw2ay6hTeCQwAbxaM\n",
       "TLGnqskAAAAASUVORK5CYII=\n",
       "\" style=\"display:inline;vertical-align:middle;\" /></a></dd>"
      ],
      "text/plain": [
       "<IPython.core.display.HTML object>"
      ]
     },
     "metadata": {},
     "output_type": "display_data"
    },
    {
     "data": {
      "text/html": [
       "<dt><a class=\"ProveItLink\" href=\"core_expr_types/lambda_maps/_axioms_.ipynb#lambda_substitution\">proveit.core_expr_types.lambda_maps.lambda_substitution</a></dt><dd><a class=\"ProveItLink\" href=\"core_expr_types/lambda_maps/__pv_it/axioms/f163a1bfd6920b0eddcda1d4ac522570da299bed0/expr.ipynb\"><img src=\"data:image/png;base64,iVBORw0KGgoAAAANSUhEUgAAAjwAAABMCAMAAABebJ1AAAAANlBMVEX///8oKCgNDQ0QEBCIiIhm\n",
       "Zma6urrMzMxUVFQiIiJERETc3Nzu7u6qqqp2dnaYmJgyMjIAAABRfbn9AAAAAXRSTlMAQObYZgAA\n",
       "DBZJREFUeNrtXYuurSgMdUYQVJ7//7PjCwUExSIektkk97pjhFNk0ZbSJU3zQiF6KTSrEUyaX6mx\n",
       "jKdx7dfxfqd5ojGaCs9pA6nfMFVaqPBuyHm06WvgGSto4lcKFdZ2gbu8HvD0wldEqowZG2XqzRcK\n",
       "H9+R70VRtqtUfZdcV7asZvCI3r8xde0wZPK1N8oG6zdGePRvvqzxxwz5yohiriIdPI2iFYNn1DIA\n",
       "HrE7UYq99QrVaNtyrrl/82WNrzLkKyOKuT4BT6dJveAZ2iYAntHMwvG16Six9TZ1xzr/5ttFILB8\n",
       "pUTZrk/A0yhVLXjISfGsXTMKR/C3XmA/BnrfF/TVWQuWr5Qo2zUMnmGMqB5eK3jOimftmhRsLmP/\n",
       "mrfcB/ys95oPztkOKl8xUdZrGDwkouRVXyl4Ri3C4Gn0MJdevPX6ELYMRNtj7NwcscCozXGvAi2I\n",
       "BEPEMUJ8+EyU9RoxWxHDKXVXJ3hwoPraNUouVClExdnmUSP3ZtdOf0fpywl441daLRgcyMNbEMoq\n",
       "1hiJYZ5A+DNR1qsFHtxbRQfRw/RQJ3h0YEmydq3DkBXLhUvBbX1HnJusnUcOz++IYAyxH1YLUxsm\n",
       "rnLbEtezflicim9EWa9Rh5mrkIs5+GNcB3i4RjHwNHM30XthMztUund+u4mXMexXWboepEGtFo53\n",
       "cyvUApKl7jeirNf4aoupQEj5NEp1gIeGam9dE3IFUAHw7HHJ7eYyhmxTR6ARc1pIBs+61ET9d6Lc\n",
       "gGekIjScuq8RPDq0mt26NqqGbNFNhhFN27KIP2mbrYE6N9nitZs3Ahkxu4UOmdatlhyfhx6u6Pzy\n",
       "BvydKJ1vtrBySngwlTfIVYCHBz0007VhpOsv1pNNtzf0ehViPakuHOYWOTfZ4nRQtW7+wEbsaEE0\n",
       "mp0c5lj/G+PyfCTKyWF2PO2YvMizW1WAB2t+AR5u/MV5WU3m30TcLGH3J6eX6LeKrffbuTeH6d3I\n",
       "njbCmqRs9+X3Xxc/jhZGtvvJWNwO9DibbpYqyvnHU1HWaxg8LLoTRLx1TRXg6TW7AM++oG4niG0K\n",
       "uL8Gj/XkaVods7jT3k1GESIjRZ39YL//rZ7Gf2wP2S0MZpreW9qOIrE5YEminAV4KMp6DYOHxsX1\n",
       "sr9qAA8LujxH1yQ75ucgGbsFz/EkR6dl3BH+F0Pg5hllPCVQd36IaUY2G5oWgMLfibJdw+C5GEjl\n",
       "+t81gKfTwyV4dn0yTn+mk4fmGQcW/m9/knc4Ej/ltFHyKqi6q/qk4LYIxEq2m/cbo8S2oV+IAtkY\n",
       "Xf0LWRt4hBZJ4JmUO0fYAg+ZzROZA6n2f9x+MqCD12h1PziRRz+EPeJe0+UVs5RN8cBDbFvu3gc4\n",
       "xWy1B/ydKJCUjM1jprWBZwj6y5ddM2YrVJE7y67m1MqabCW3LDDnZqgkxScvHrrfWenoJAz/UJRh\n",
       "BIKncyM9NYCn1UEXDfUxT5Mgvb7sUI6ne4+is5vwaRqqrCcN1YiyXdGTNFTjPOnawKM1dO9YQqfn\n",
       "r7wxVBWAZ3yL/vMrxUvrpGVUAJ5Ot7l//bHx/l8WRrObUM5yqwLwSJ2bcCHEDxlJ0zQ7s4U6C+MK\n",
       "wCN0ZnI7oj9cJM7TXPRgZ61eAXhwJsOdn6zeThcssW7h0I4WFCaZvzdk6mh3os/geYNZZ8ADaGvI\n",
       "A0+ACWtcoCViwoY2Kx3oVP8Ri29nFRYWJtHrC9OGn4BHeeB5g1lnwANoS+ksptKAo/7zlpaiMplQ\n",
       "Xv1HObE7q7CwMKlLBp63OEFOlHAGzxvMOgMeQFtK5+hSHggSbW/S7BLpTM6XX/8Bi29nFZYWJnm9\n",
       "mcdDkSfwvMGs232e5231WeDpcXTlvu1PdzqPqXyqH2XxofEM7V3OssIkg4dnpXxKJ6yy9O4FZt0O\n",
       "nudt9Rrl9Caa/WxEEJkZ0Of6MRYfx9G6pYVJj3T1OXaTOwHdLQMym1l3rLYet9XqjGVIH7KO65s0\n",
       "XCVFkb3v+NzLONW3shHdP++N7MEqLC5MOnhkju4LgSedWSduweO3hYUsBx6iuyh4tmxlpidLuqSH\n",
       "wchzVv0Ai8+FC/f/gHazpMsJY4EnRizcm8hQ9F0APA6zDl3pNXwLHo+lJxC6UUI6w4fEFzmIG09i\n",
       "I9QhKHlurx9k8XktosGZ1jursLgwDzZolMoCDzt5dDazjjgKiPR4Fgy19BI87Eh+dFl69yx/OsA/\n",
       "ANbSOHgMfU41hogCI88d9Y+Zsv/89x+Xs6IjO4elhXkAHpThMo+DrS/HdUYEmHWMCzwn402qWEzA\n",
       "wOxa81ipwU5b9xY2Q/OQsMVzwLNo7vX7IKDxsuoHwOMlU3dupPdwb0sL8wA8Y5ab4GietQsWs874\n",
       "VQMfl1xzLtEMGTG7ZpOunf7xS7PltCUHjXdR5WTCaAg84M5EJpFjtpbWV+4taLz2+kEWn9si8SKj\n",
       "w0FuKCxMzOehyeoaAp5tEu3Muk2qI3GcE05GZDzle5/HamtBzzHSNBgOznGYh3DExXGYZzuykv6B\n",
       "42XqB1l8bos+03JnFRYX5klSygAPF4QcZotZt0l1vB5OJrMlyQPwcMsXxPjQljMfhr8a52mHC/Bs\n",
       "C2oqd8xGyXNXfDpTP8zic3DvUzUOVmFxYZ6AR+iXwWMWlZtUDNvgmRBlQhsp4GksNBzsXtlHPCA4\n",
       "eFhkV0zYVDmGkQkWxMlzVzy+vf4ti8//gv3BKiwuzBPwSE1eBo80w7pIRfol1Df/nsEzSqOfk8Aj\n",
       "D4i0u5yCzryYkBMI3p4gEdi52xONP4JA8txTFp/DKiwtzBPwELiq787bEwGpqKN5mo5sf4+kgMdp\n",
       "rdmIeHxqkoZctQG8q84j6zRvY9RfHQDJcw9YfMvjDquwtDBPwMPgaQzyGjybVGJHiVy/NSvu0BwE\n",
       "zzq9FiJeM2lcJV8FT0z/Ht/XcJaomeS5dBbfqmpcVmFhYR5lccMTqM4pGUGpjGvb9WuYj4LAY+Yb\n",
       "942YHSQE9yUW7nKSwUJSJSEzulhJi7F5rMLCwjwDDzj15pwMFhmZzedJtaOBV6rkxvbl43LqDg/O\n",
       "WQzui4hEIHe6YInMT1lTGiqMv9eCNyjwKQ31jRIEjzDfqJBz6HCaiiysPwZwV1jzK4AIBzjQQx0X\n",
       "o4IEeA6m3tAfWxBUenAu6lAb9YaASX8/8HwNHuWsbysADwPTjX9mCwgesNlyv0lRx4cOgHXF72xA\n",
       "GAQUfJ5X9qGDptdAMhFKiLPXSAD8a/ofeFud1PeJFQrdVpcJqLuL+eQVCul1WVESIj4ZUVlVG3gQ\n",
       "tDP8AXjKnJ8HOhSjrCj34GHgzUThjlQN4CHQtTpJUFmxfa6Xini+x1hYlHvwwDdGvQ8AVvEdZvBy\n",
       "K0FlxXbY35rv6QTA3cUrK8o9eDg479f7YHYV4FHQyr1KBE+58/PSCYDGWy4syj14wItU/4PZVYBH\n",
       "QD1mrBPBc9CJBEIo57h2v34qAfB8lF8hUe7BA46tcm8LuwrwdNB99QT2o5PPPE37SWMPs76CnZ53\n",
       "1H9IADwf5VdKlHvwtNDVHvXsXR1HJrUa+ld5GnjMQUkLC5pyKOdur/+UAHg+yq+YKLfgGcH+sj9M\n",
       "dYAHQ7Nq78NdLgHw0FQZp+d5Hd9/XhAAY0f5FRDlFjxg0t/oG4g6wNNBIw/3To8DHkthw0/Pi4In\n",
       "TgCMHeVXQpRb8ICZN8jX85UcUNu2UNR1SeCxz8+Dj9hR/yEBMHaUXwlRbsEDtlqqbaoED4Jub91+\n",
       "bcYlAK4XMNt3r/+QAHg+yq+cKHfgQdBUhPFkHioBT1NsveUQAPH8V9hCrwKdnmfqPyUABo7yuxAl\n",
       "6UzBqCh34AHvip69rFrAI6DzoRUp4DGTWwgp3eOmH52ed9R/SAA8H+V3JUrKmYJRUW7Aw+ERQtpU\n",
       "Ch7wZh2/QV0tBMCLo/w+pf+Bv8YaWKTVAh64Kb55G1UQAK+P8vuS/sdbaPJlGziBsBbw3NqfqB/X\n",
       "kgTw/CkB8PIov0/pf/CPeIecy3rAw6Gqh/cp4PlLAmDiUX4f0P8o1GgFv2RYD3gaCqZvXa0faiQA\n",
       "/hn9T4JzGKlqqgbPvuvzvGeo+ZUUDQhminbB4X0PPEvJOoKEgJ05/DusLcX0UDBT6aTO+nW8XxIM\n",
       "LSVvELsfk6ZS2J1sglzHu/kPimevfflAHWYAAAAASUVORK5CYII=\n",
       "\" style=\"display:inline;vertical-align:middle;\" /></a></dd>"
      ],
      "text/plain": [
       "<IPython.core.display.HTML object>"
      ]
     },
     "metadata": {},
     "output_type": "display_data"
    },
    {
     "data": {
      "text/html": [
       "<dt><a class=\"ProveItLink\" href=\"core_expr_types/tuples/_axioms_.ipynb#empty_range_def\">proveit.core_expr_types.tuples.empty_range_def</a></dt><dd><a class=\"ProveItLink\" href=\"core_expr_types/tuples/__pv_it/axioms/76bdce3eab1184ed9ad2d35a921cfe00d0610de20/expr.ipynb\"><img src=\"data:image/png;base64,iVBORw0KGgoAAAANSUhEUgAAAUkAAAAWBAMAAAC/C3MNAAAAMFBMVEX///8QEBCIiIhmZma6urrM\n",
       "zMxUVFQiIiJERETc3Nzu7u6qqqp2dnaYmJgyMjIAAAAcRTyBAAAAAXRSTlMAQObYZgAAA79JREFU\n",
       "SMfNV0toE1EUPW2SSTOTSYrgpm5CC9JltAspVqkIfhbadCPuzKKCQpGA4A8XoYK0gjiuLAVpjKLY\n",
       "RRsQlArSoFBBQQYF0UUlUnXhohQpohXE9583nWRaiIgP7uPe3PNuzr3vO8BfaTeFeBYsZ2PDSJsV\n",
       "EnRLT42aC02SNItcgNtdDtOMIk6GDpFAWB0wSEKGUy+q9Lyk9tcmWaYcLsDwXIVphovp0CESCDsP\n",
       "k5TKrNWLKj3jxEwUm2T5RgjMlTtCA5KZsOprQOCpkGBU4UmVSLxKkyzPC4G1LDVCpD1khA4EbgkJ\n",
       "RhUe+8XU1I0mSSYKXEi+SiPtU8gQHxCpfi6BqMrzY3T0YiiHNcs6FkS0ZrnA3nY6y7TydmI9axxT\n",
       "AVHuppyzXAJRlec4MEZ/7HOlB/hMu6jImmaUkxSLsPr9cUhrc7kA6QzXqnuI8SEkdQlEtoX0do0L\n",
       "8GqJtkUZVXn28u2V7KxSFrxwbJ228Xj0QLEkyR4yC71eWUWZ4xUuwGSOaYnKbmI8CmEpgLCdNOmt\n",
       "AhdfYxGlJ45WF3WWhWAZqwrTYPUlA+4G/rKlnwswxy0T34hyLISlABLkANm+sWUugajKk3TjbApK\n",
       "9VkaOd2kLFNOY5bPhWWtrsNSArm2PstE7Qid/2u7KImt7Ajp0macplDeqbNkpYdC+2b8srDa8kTZ\n",
       "H8JSAoFFETZa8NblFzXjyjM2RH97x3YKq2gkWvNY0lMqe1hnaeVxYpQ0Nynr7+2eTcKaqVTDd48E\n",
       "wvwFfffoc6nvHjxgSfTQboIt+PvJvMfyAAnkzOsso/KmmpDbQx0k5oqwBhLkL/pg/qY/0m6mpika\n",
       "kK+NSJWL/0jN6p40u8muMs+Il4VguY87Ty19XFpyGcuYSnpETr2cluiysIwFfp6dpdU+Q6cvL5UL\n",
       "0IGIFMRJp047aFE9j83mbTNLcZVB047H8ijtfvpqmSecSXMFWrshk0VoNyRdHYE9icfwAeO0YveE\n",
       "BG9Iv8ckhR8vWbVq4gowqO1xCom1S5MeXbacGoL2vzYeplxpiddGMrgi6RgFjJXowbn+a0Mr72DF\n",
       "HHZiW4BujWWcVKO1KMzEju8ZROTJStByoTtMzk0rizRqlIOPIbq+FHCyeglo9HJrc9Z67Ky8ciy1\n",
       "OvktSM+VjHcVkWXS8BX8uldZ4PeuG7zBaaeARpfrJVknqt+TepuT3wCzxsEOjSWKGLpe0lk+2dgX\n",
       "hb3xL4r3QoJuvyfZKdOEa8w7OstDGGbfBgmZYRb/U4uIPbKmJq2lf0/lDyC3MFmw9lfxAAAAAElF\n",
       "TkSuQmCC\n",
       "\" style=\"display:inline;vertical-align:middle;\" /></a></dd>"
      ],
      "text/plain": [
       "<IPython.core.display.HTML object>"
      ]
     },
     "metadata": {},
     "output_type": "display_data"
    },
    {
     "data": {
      "text/html": [
       "<dt><a class=\"ProveItLink\" href=\"core_expr_types/tuples/_axioms_.ipynb#range_extension_def\">proveit.core_expr_types.tuples.range_extension_def</a></dt><dd><a class=\"ProveItLink\" href=\"core_expr_types/tuples/__pv_it/axioms/b532ee7781d33c936bc4afba4576399dde5f31d10/expr.ipynb\"><img src=\"data:image/png;base64,iVBORw0KGgoAAAANSUhEUgAAAdUAAAAyBAMAAAD4oVxKAAAAMFBMVEX///8QEBCIiIhmZma6urrM\n",
       "zMxUVFQiIiJERETc3Nzu7u6qqqp2dnaYmJgyMjIAAAAcRTyBAAAAAXRSTlMAQObYZgAACCpJREFU\n",
       "aN7NWn2IVFUUPztfb+e9ebMh2od9DS6EJOGoURhrTkRqQez4T/Yh7SQJCYoLQh/aH48C2zWi+W+l\n",
       "EEcNLf9wZymUjWKHBA2NfBjJCuUu2AcGLYsU1G5K95x73333fcwbI+atlzvvnbnnnPvu7737zj33\n",
       "NwMQX8mVYI7K4div+M1cQYXUZMwXTFR8Dfu8klFt3ce+Ju3oG+V/KWasI77vuoXHQ91VkjIWbIl0\n",
       "dwzBWBii3SI+TUpnI1ao+nxfQ56ew9axOkkZG45F+juGYPrnx0gNyPfYf7h4e0tn0dfwHQ3ij4+E\n",
       "xGJXIepWKYZi3nJzfev2GveN8h+JFetYzdfwBg142pHYqG+JcFcNPVgBJmrcN8pfi3US7/B9z/bT\n",
       "s+x3JFZ+ilqwVMMgVvKN8Df+jhGq6b9YAue0uWxHkaSDy9m3kxHujiEcXByK9WS0f+BWt7Nolv/9\n",
       "tfHYVeBS47EWK4NjCMUOOwzrJen/7RSWyz7/iVp8WPv8SZNWx+P+MknZ+qPsy4kIf2EIZrWrHob1\n",
       "RAv/4UJ8WJf5GzoI/BiXdLiK9yMqtAkXHXoRWm5q6td7pqYqEmtfC/98jKnTreFYTwvJmGkx1tMe\n",
       "l+BzbYU1EV9wSl+D0Dm8W0id+ITWRnSwW7pcDsW6Vvrz9/UXf9i/Fl8yHLitPDbNE9JwvREdmxxD\n",
       "0GchOjbd6MRqX9YUWOdzRcqGhNSbZTh6QL+OjXgYnlQExZDPdg/WpYi1R3yalncAqKcf2461wwrs\n",
       "szAxSE0LKYND+BngNRz3qzhfK46wE1RDSPb7sD5072WbfOnTtJwDOIvn39qOdbgYaMKEL2eBkiMy\n",
       "FEZwGfwcPIZa0f9cHV+9P2oEE2XYi++t1f7lNbi8sUT+eN6WuwCRvwddMZOVhukaLrQcnnpbWuX+\n",
       "NII8bhLq7c/8g5forMLrxxwJxJ7sYHCDgwik4f7G26H9t9jT8Zllnjl6dKj9sWmiHARhwfmVyq4d\n",
       "BtnHDmbCeJCGmW47tP9B8YlIMlkA+Gtg4M32Y11ajSJUSDL/BweDvi38u9gN3dzqhrD3WTmnw03o\n",
       "OmWq4VEwxtS7yUrAVpzHQad1p8d2NloieKfAOTaEusH0RinQC1PlyOkzwAqlkCutnnusLEprkECU\n",
       "uUWIKM3nAQWSThDHTJWr2ZnpVwaSAqbaQk7JKlYQUX1DTykhk5Xtcw0VNJbN5GyN9gGBpyGxbhTq\n",
       "jdQQ4JWZKs0ZDr2CFbHqX6ywDesMPHJzYc1OPkOvbq0p1s1CvVmh/9SXvgYZ8Zpeocqwjo8eBeN8\n",
       "Eho3zxzWMNMYfBkD2fur8OW8jx5Pt3cO9wt1P+kTvqCPKk04PUDVghQlri88V5BYz6l3KGt7pdHW\n",
       "IxUuAb47azdxGPX3i7EJPqXUapxePXq6Sf6TgIOVGK1xYrZQb1R8vTLVkHA6TtWCPI2rfOZ7iXWp\n",
       "GqA/pju6fCWXXqGA0LxIQySCFb4byXHZHijYp6ffjopgcgBW4OEDYjE+yVVUrCmLq9kZ9Sl/QslU\n",
       "64TTOqoWHOJYczmZBU+o4eAKDebsLJe2iYWgWZGGcMGTGyE5Ltu9pOFCoD49/XYRl0d35T1qeEvZ\n",
       "WkqsFa7GM9On/QNjqjXC6UWqFmwYGBgoGOWsLbPxMQWrSXdg+KmSkAC+ikzuFEMl5yVy3CyGkKiH\n",
       "T82IPtV+h+UcgwXkP0NTrauqYk1bXM3OqE/55zBTPSuc1lC1IMOfKzwhR9anvFda1SGQNDHJDkAL\n",
       "pskxVPhuIse1ahhhbM6IPg+E7j50pt5bMyYb2T0A6z1xmLZLM7RlYnow0WRvjQ5YUXUEuNMPVC3I\n",
       "4S0z2eNoeGaQKEOSQBpyl61opsnN2CXfjeQ4eDJ5L1bsU+3X3X3gNnh9Xd9aTd8JsNi75uwUu+Sd\n",
       "wPSQLDGT9dX0HezAXEil1bjTg1TZPHgX2R82LDkHNGXmd9P27LYVJOndBUE4NCmOIeiLLIXvJnJc\n",
       "aQ9gxT7Vft2VgCY+ITfkW+sclwj1Ev4MyMQpdVIl6txpkiq7dIK9r54RJ6c9LzgrV7mUS7FZaUYF\n",
       "J2EISbhb5ZQopLrtAazYp9qvzGbyF8rO4jWaeXKhF2snV4uGL9V1y6hylUVOho0Vwnb+5owr76KF\n",
       "8U8ufZhk4zEiGAXHEC7CrMp3057dbQ9gxT7Vfm93c1pnpwh25lTVizVlk5qdccYU1U2myT3haXI6\n",
       "RDUUa3rWlefL0MKkGj6f9HRzrI4h1FIeDnkMPO0qOU5YsU+l3+zVqPiXlMdRJRdJhCZ7fErcTxWK\n",
       "LSjL+TK0oIS/VUZhlYZc6lNDltIeeK4+rDFy4bDaN4eJ/N4lSO5UxByWhpAvqnz5bvC0B7Bin0q/\n",
       "nf3xYe0teWNThwgt+mwuOjY5hsiXq7FpHnjaW8WmrkKM2wx3ZtOyMVziUmp6H3tRGpzy9hLgnAV3\n",
       "DMUv84Iv5+S40q5iTSBW1id9VMI8pqIEYpqGvY60jUW6fJlT3i4BXpEsuDSEh0Hhy4kcV9oVrMmX\n",
       "rq+iPukTjBftL3d5c8SvQUnxjjiUdwgL7hruUPlyTo7L9gA5Tn0ecYNnnP8hUP4bwrIPo/K7uwvg\n",
       "OXojlAV3DZ+nhdbhywU5LtsD5Lgv988X48SqXG0QtD2TktYV+69CKAsuDbP/0J+GHL5ckOOyPejs\n",
       "3dONxMqLZBcoe3Wzu+ru2on3NyGUBXcNN61S+XJBjsv2sF8VnN8TIPb/cin/ZvBzMBdvmIMxb5iD\n",
       "uejpN1OMF2uyMnfE2njcF9w0Z1Bj/08t2/nOFdbDFJn+Be+odkxMlELlAAAAAElFTkSuQmCC\n",
       "\" style=\"display:inline;vertical-align:middle;\" /></a></dd>"
      ],
      "text/plain": [
       "<IPython.core.display.HTML object>"
      ]
     },
     "metadata": {},
     "output_type": "display_data"
    },
    {
     "data": {
      "text/html": [
       "<dt><a class=\"ProveItLink\" href=\"core_expr_types/tuples/_axioms_.ipynb#tuple_eq_def\">proveit.core_expr_types.tuples.tuple_eq_def</a></dt><dd><a class=\"ProveItLink\" href=\"core_expr_types/tuples/__pv_it/axioms/b709a84bed43a713ae0e766fff16a6efd1f0bdcb0/expr.ipynb\"><img src=\"data:image/png;base64,iVBORw0KGgoAAAANSUhEUgAAAnMAAAAyBAMAAADFBUDdAAAAMFBMVEX///8QEBCIiIhmZma6urrM\n",
       "zMxUVFQiIiJERETc3Nzu7u6qqqp2dnaYmJgyMjIAAAAcRTyBAAAAAXRSTlMAQObYZgAACWVJREFU\n",
       "aN7dW2uIHFUWPj09Nd1d/QpsfERXGHs2uuhKyogPMJpWwfzSTFaICSjTDPGH66tRfCVBx/jDGSVu\n",
       "Y8DEiFIxmMQJpttHmJ0FTe/MLrKaYKOCD9Q0GAUVNITs4swY431V1a26p+sRZyjGC7em6tY551Z9\n",
       "c+8995yvGqBzSZw82YQ5KrkyzMuySzz+yZML/MQS48+Zc/UIB+cnctDdZn/05573h65/zp6gqzJP\n",
       "oYMvxV8tLuhewxpfEDVyydZwY6diB7Mll3QzXuj0hVjjEK/Ryp4zyOF21FjEsuYPzM7t4R49LujS\n",
       "BtJYqPEasXxF6j7UWNQyw+zsCzdh4oLuAOZ+PhQ18gsTh9eLGYvqAaaZHdWWu6SasUJ3H9b4sKiR\n",
       "X5jMogWYsaj7pSqzoy8IWBCn4oQuP4U0Zqq8Rn9hUo4gxqKWgsHtHAn1f48JuhS2hncZvMKWyXP9\n",
       "t5OZZUvPcl54sK8BMIkYA5go+b+BfH/LxICwMxnw9IfNGKEbwEKJdIvX7kXwI3kyHw95Ta1wFKCP\n",
       "X9S/06fEbiv3AyuGMAZbG+k2rOlsh90XZkivfze5Ha8tb6n3xgjdxehQbPC6owVXgHZJ5xmnnwNJ\n",
       "Auxa2+McAxhDjMFG6GncdHnnx6D3LTOk16uB2xkLmtjtGKE7He2tzOtyE+4lo6AzdMlpSDle8GrQ\n",
       "fybjGDGWpA4EVvjZcQrpdSNwOwNBkdBUfNBpJ/ygOxP0//lClxiCer+0reuewaFLDPlDl5DXBNLr\n",
       "8ZDQZU7EB13XlM+EJWMoe9QXunoTDgBcK6LgE2z0rJDWp4owVm/6Q8fuCzOiVybttYVPmnigS6O9\n",
       "Cjehz0BPe9wXugbcna01xXQ7TpcpOyiXjRVJbfhAx+4LM6JXx034lSfigy6Bes+cwesm+LjSZNDp\n",
       "v1Cg2t6TdG/+gVxmb5Vf3QWPk+MyxFiyAjv7KXSqHXag99daZnivzM6yoOd/X0DH3MUXnaArsB1s\n",
       "a3ahqxtoWFDldVdp7WCZj7oHyXYhRefMAyBOaIs+uPjZPxEA+dXOv9Cn+xoxBge/6OXTT7WTWi/u\n",
       "W2Z4r8zO10HPf7ifQ/cevfiuE3Q56uQL5ixv6/Ao0RWIsXfPKh07LfWXpSu92jEQW4HagX9iZpgd\n",
       "vRrq+Ql026jPGOoEHbuzbbaD/wba7Ar/s/QFcuqsts/ezklXPuH/GGoHmpiZUOG/mDUEOjqkco2O\n",
       "ax0dj+/NMnSH8TU0XeOVbQAu/z95g5cUGadl13+lq32oMRZfPTqI2dF7MTOhkk7Ev1Q4dPl3R0e3\n",
       "dnYTn4+OvlKdZeiW4Lk0NdWprrEt/GrEP9Wp2snjRkdQWwp0Q8LD/jQ8vLEzdMXh4Seaswzd+x3W\n",
       "zlNOsOdnKcFO7eSDc6SJtoDuNgZ0l4FD19Nvj/3O5cZ2mAdb3u8EPfO6JKoCuutAJ2+ucXy0+/4N\n",
       "51Yk6LqNEJM/Z4Tak1gn98xv5CC1QECXgi4x2fdOXgX/yJlJU94SV+Gi4CRhI0yPb//uoMu1UmKm\n",
       "P7XdhLd6jZwrmjgEwV6iGIpDmYTfyYRNWRM2015N5uV5dOaSsn//M27oXtTI/NWX3q1uKHaeZ+27\n",
       "B0p/o38mSmo3dtvO0ve2m6jNb+hsNwEj68jQK5o8JNufe/UWF3TpZ0l8srt/wIQe92DR79dI6MyU\n",
       "zjdprjVVXuWVYW0FR1psTuR/Q6bl1LAFo5nD6zPt8fD6417xRMWC7g0y/raPgc7W+v3QnHRBl6Vp\n",
       "1kvgZtD+5YYlaWhEkbVtYtmGK0DzytA20IW0nWo4XJYk9kg1dEFo5j3RtHtqir7+GLI0aY8ZVNQl\n",
       "XjQs6Iq97O21h4aHNxHoXki5MyfHSD0byIROuWFJNOwPRxbCZUxIkWFtXmk4IEP3rVRDF8TpfxtN\n",
       "Wxf7qYykX8A2CsUGFdXb3kQfgy5PsxHT/VDho677r27oPiN3p2DzqBeWei39mfk6C2imGURTCHSk\n",
       "LVuypa2lUZobecOp4YsaZ0bRZ9oTYnNgOPpFbKOw0mSiE0j4L+Z/uwn/oScfkdhLzdct0o63KCyZ\n",
       "J2GbyQ7bzERt4AZ406Bt6/ND5HgEkgw6IZF5krdlr6NNRPpW14C3FsOaU8MXlWaOos+0d/DzNesd\n",
       "/ZWY53+Hi+7wpi9s6PQ7a5AmLd2PlKFHhe76C/sYdNrZsKqmLSKHVY3uwdevosEGaVt9kB63XHQB\n",
       "g25Vg0loi0TbbbSJSVuvKY3+rVKNUBSaeWtU7QJfNdaVHP13MNmvuGhBWmTYDsGdJf4zWet8ssQU\n",
       "lqx9xQf37m6rLWvLgD3uszwHVpaamMs46pz3SdVFTWPFEVBo5j6+E/LPa+dKi21tHgHp7ZSj/03p\n",
       "SqXDxTNO/tq1pY+SYNeWXCk5abE/6LnAahu3ZZytA78zaHp2E3mJxdssVU5N+3DODnet0MxUP4iy\n",
       "zmyAp1mwTrXzbOjnGiLhtpmm3816zW31mlp6movmpZlyZlTo3PmZvLethSR0WmiOB7QZ53yDUzk1\n",
       "7cM5S9y1QjNTG0GUdaoJd7BgfczKpZIoNNO29LPTfLPh7rDNRbPOxiVz7JSgm50iUdgLnSqoaV/O\n",
       "2eKuFa50YTBl7QSAVFtjq8YHLHMk9NuCf3R12OSimrPIxElhw3IUOkFN+3LOFneNQRdEWfOJ5oaO\n",
       "+NfVlj7Zp6xsKB2WFejS1RihW1nGJiynpv05Z4u7VmjmDcGUNf3AggXrTIbzRob1/ecGxsvScSlZ\n",
       "FU9kcXXW3qo3RuhSBuYmODXtB53DXSs08+ZgyhpOEKxosO64CQpb1nIzxTJZ25AOvW5iiRkjdJKL\n",
       "nXQqo6bB5pxV4tnmrhGaedJLWSO89WWgX7p9TGgn6RhdIyYt0+9peT9xFk9ERZNNz0od1wexf7TP\n",
       "VjiVU9M25+zwzexkvcxdqzQz1XJR1qo65A59QIN1rl2gL7eOqpaEvr70kHeK8yeiogUbi3g/iJU+\n",
       "w1YDsQDOmZHOKs1s6weo02Cdae+mV2zN1YICud2WuBz1xgWdk6NQw/8AzpmTzp3D/wB1GqzL4X+Y\n",
       "9IE7/H/NjBW6zGn26Qi46c8gzpmRzkjSaSScOg3W5aSTVx/zzK6kU9w/OZGiATTVGcA5Y++5J7w6\n",
       "1U7XQqdK5a8SiDMxYoYuWfktCfb8b0qwM+1Pw+t/6hL/BEJBN4c/6hyE+VnC/qhzDn9KnCzPT+h2\n",
       "8cFEf0r8Kww8GRlZFO+lAAAAAElFTkSuQmCC\n",
       "\" style=\"display:inline;vertical-align:middle;\" /></a></dd>"
      ],
      "text/plain": [
       "<IPython.core.display.HTML object>"
      ]
     },
     "metadata": {},
     "output_type": "display_data"
    },
    {
     "data": {
      "text/html": [
       "<dt><a class=\"ProveItLink\" href=\"core_expr_types/tuples/_axioms_.ipynb#tuple_len_0\">proveit.core_expr_types.tuples.tuple_len_0</a></dt><dd><a class=\"ProveItLink\" href=\"core_expr_types/tuples/__pv_it/axioms/bde05b1d4a41b82350f7aa6841d153d3b5cbcc080/expr.ipynb\"><img src=\"data:image/png;base64,iVBORw0KGgoAAAANSUhEUgAAAD8AAAAVBAMAAAADRiu8AAAAMFBMVEX///9UVFQQEBCqqqoiIiJm\n",
       "ZmYyMjJERESYmJjc3NyIiIi6urp2dnbu7u7MzMwAAAADGpxCAAAAAXRSTlMAQObYZgAAAN1JREFU\n",
       "KM9jeMsAB0hMJHAaiDkbmCdAmdgVXGdgkMSm4FTPA4hoJgPDNSwK2Ax4PcGiHAEMDDwLMBU0MTAc\n",
       "A4uyAB3Aq4CpoJCBwf4CSHQKiJeNqeAjA8N+A5DoUhDvKIYC3q9ABQtAohUgbhtUwbE0EEgFef4P\n",
       "A8N7sAJnkIQJhgmcQBPeHwCJaoO47/FYgUMByJH2BnArtqC4IRHELGdg6L+A4UhsAXUUxIvBVMBi\n",
       "wKsHFt0C4uVhKuA9tfABIqgd8EQ3rshCpIdK7NGNkmAqcSpYB05yHBOgTAwAAKtiVVg5HIChAAAA\n",
       "AElFTkSuQmCC\n",
       "\" style=\"display:inline;vertical-align:middle;\" /></a></dd>"
      ],
      "text/plain": [
       "<IPython.core.display.HTML object>"
      ]
     },
     "metadata": {},
     "output_type": "display_data"
    },
    {
     "data": {
      "text/html": [
       "<dt><a class=\"ProveItLink\" href=\"core_expr_types/tuples/_axioms_.ipynb#tuple_len_incr\">proveit.core_expr_types.tuples.tuple_len_incr</a></dt><dd><a class=\"ProveItLink\" href=\"core_expr_types/tuples/__pv_it/axioms/3f6ead8fb59dbe0692deea506cdaf402290739960/expr.ipynb\"><img src=\"data:image/png;base64,iVBORw0KGgoAAAANSUhEUgAAAYgAAAAWBAMAAAAodhaSAAAAMFBMVEX///8QEBCIiIhmZma6urrM\n",
       "zMxUVFQiIiJERETc3Nzu7u6qqqp2dnaYmJgyMjIAAAAcRTyBAAAAAXRSTlMAQObYZgAABGJJREFU\n",
       "WMPNV29oHEUUf8ndZu/29i5+EKQGMRoTC0oNKeiXtLQVzCcxreA/CglH/VBp64m11ih6tF9ySuGo\n",
       "YEKhMFrUkGJvrYSoYHtw64dWkAP9IGLbgzaFVghS+8Gmrfjezsze5HZmkyt+6IPZe3Pvvd33m/fm\n",
       "zRuA/5deuQveoNK6hXYt0nXwJdM+ZcrBjx8RHDXr0zi/Fxo0P6dT8mNkepqRLsy0C2DmPnzs1INw\n",
       "igBdRY3RTjF8+ImmV/UgzDI9XZEuXGk7DBdxnNCDyOFqd7WG9mvG9U8EFtMU/aIehFmmpeygcIGY\n",
       "NukmDrdXC+IXhT8pgrPrdcb1afiQo5mnB2GWackuCxfscrsYkkvk2j1aEO9EQQBcYFyfhg/Zs7Oz\n",
       "U6AHYZZpaUq6MNV2INwCPS/pQKQLJhCB/qXA4p/JyfcMIMwyLfVJF4hJDw/dH1/KVIVcvg8jXtOB\n",
       "6MTc/GxIC6LGB1q8ClDiqlEQXLZCJixK7pB0gZjN5dxfAC+Z7bhCH59Urjo3sFiGIH5eJKLdDinc\n",
       "09XNWhDn+UCLp8HBUmrxNLbe9OGh8RAEl61ANcm8K11AxnkAEkV4/imjFVeAl/nsNINrAPO6SNge\n",
       "pL2NWhDzfKCFDZ2ifh2vbYBvXZZgIYimLIb+lMy90gVkEktgY+EYMVoJBUEbwbkFMKYD0bEJHEIY\n",
       "hOeNxcXLTRBjfKCFW7dFhfzoCIMfegfdZjqFsji6oQPRUYTKaBwIoRAeE8mbZhCQWdJGogki3XgB\n",
       "E3uAcgdpbu6wAiKQwbGBaAPiDO0RLljXBlg0nSpVOA1xILjCFpG6tykyXFvZE5dFOkFqXAtihA+y\n",
       "KO3AJe9mvMmYc7/a3gQRyJy3LPzAa8t9+HJ0jEEuqB4TsiioG7viwR5sbGJABApVscTX4dO6urEV\n",
       "oo1d8arxGxu+wUJ8ZB6cwJU5qNYUECRLDFoF2N5SL9fDiwgv+EhvttHc4b5g8N99brBOzr/kckMw\n",
       "4SxQSB8v8H92w0F8DutAuOjXc7KjDEE8wYT+MLfopv11AKz9k5MHEMRRWwFBsg6vE6M5sfzVPTAQ\n",
       "5mxCBHtEukCu5/s/eYT/9TZ+zyaVfSAe9oRUSPVy+bHHycsFHYgkrmPXuZZ0evLBi3Wuv8AtsnSC\n",
       "L43COI9EcpsCgmSVcup31gICq/qh2czDxHazDs/YdhCIDIvk0vdhUn2uyJ3C6tsOqU9DWmQaVfiR\n",
       "mF8B/lBABEtdHnuWIpH+EKaZfKyxrtczWAqmmc1+MzeAVMnd6IaoSuaUq8hX0QDOLku0sAGUbWEZ\n",
       "Urigyfc3QVcLiGT+5AYCYfXA1rK1hh498MxjfXU60Ld61q7QpZI0ksf8xx/ksWeIlrbwgPjijCI3\n",
       "tOIpUzvZbMUVWot7YnnboRCmU6Z5qRLhxBLurXgpih6XWdDKS+ZLkZZKYvgxh9ij6umw7W8Pvgtn\n",
       "gsszeacMr6f9d349zfJX9a/2ekr6NNbtbecrdQ2XhbuA/gPNon1mxoL+PAAAAABJRU5ErkJggg==\n",
       "\" style=\"display:inline;vertical-align:middle;\" /></a></dd>"
      ],
      "text/plain": [
       "<IPython.core.display.HTML object>"
      ]
     },
     "metadata": {},
     "output_type": "display_data"
    },
    {
     "data": {
      "text/html": [
       "<dt><a class=\"ProveItLink\" href=\"logic.booleans/_axioms_.ipynb#bools_def\">proveit.logic.booleans.bools_def</a></dt><dd><a class=\"ProveItLink\" href=\"logic.booleans/__pv_it/axioms/c11e118294d06a757b7388ae4255b6e6a77576410/expr.ipynb\"><img src=\"data:image/png;base64,iVBORw0KGgoAAAANSUhEUgAAAGYAAAAVBAMAAABGR4Y+AAAAMFBMVEX////c3Nx2dnaqqqqYmJhm\n",
       "Zmbu7u7MzMy6urpUVFQyMjJEREQQEBAiIiKIiIgAAAAUQ1kVAAAAAXRSTlMAQObYZgAAAPdJREFU\n",
       "OMtjYMAOWEKwi5c+Y8AF2BbhkukpYGB4e3r/mpsNGNZ8YGBgvQsGE2BixWCSdQGQWFDHtg3DIUwX\n",
       "wBTzAyQxO4TMhhaG59yk6zEmQ49GNsl6OK5PJ0HPAZCenvt/wOGmtQoEloJlOBfg0gMKUZDbVJzQ\n",
       "7bEpwKWHYSlEDzeHA6qW6osMOPVw3oPoYZiAJbZx6FkJsYeTYQHcPyshhm0g5B9uFgXSwm1BEYNS\n",
       "JL6wZvuFHj/Y0yhUDyRs7iYwMMTevXvm7t2bcBksAEWGOQGXDKqeA8gcBqL0gEMHBvKQZVgX4Myo\n",
       "yPkUJcJ7GnDqYcZTHgAACIJoLluo+GYAAAAASUVORK5CYII=\n",
       "\" style=\"display:inline;vertical-align:middle;\" /></a></dd>"
      ],
      "text/plain": [
       "<IPython.core.display.HTML object>"
      ]
     },
     "metadata": {},
     "output_type": "display_data"
    },
    {
     "data": {
      "text/html": [
       "<dt><a class=\"ProveItLink\" href=\"logic.booleans/_axioms_.ipynb#eq_true_elim\">proveit.logic.booleans.eq_true_elim</a></dt><dd><a class=\"ProveItLink\" href=\"logic.booleans/__pv_it/axioms/127a6047a1b71d25ec7e501add2fb95b7102c13f0/expr.ipynb\"><img src=\"data:image/png;base64,iVBORw0KGgoAAAANSUhEUgAAAGgAAAAWBAMAAADeGsQjAAAAMFBMVEX///8QEBCIiIhmZma6urrM\n",
       "zMxUVFQiIiJERETc3Nzu7u6qqqp2dnaYmJgyMjIAAAAcRTyBAAAAAXRSTlMAQObYZgAAAUpJREFU\n",
       "OMtjYCAHPAARd0nQwArUcRrEeEWCJr4PDAwzgDRnAwma7v0CalzAwMCzgXg9XJt/MjDwnlq1ajoJ\n",
       "FvEyfQGSPzo6akjQ5MX9F0imMjB0grkQkgUmyzEBq+scWD8BKWcGLnCw836BqIVJ33eAMng6OiQ6\n",
       "eqAcFgbOz0CKnYHpAoi7+C+KJi77CwjzEaEbZmz2A2TQBXYw91Qxiiae5QbYNAGtlwNF0oMwcEQr\n",
       "dKBoCuJowKKJG4gLwQGQAiLZGMxRNCUwFzBkdADBBWRNs4H4PYixuQBE3mbQR9bEu4HpA6ZNnCCl\n",
       "/aBg5VcA+fvxmf4FSJrW2Zz4haGJq//fAoYd/0Ge5wUpZl7AMD8ASZMVA+dXhrx3QIDiPFTgC7Tx\n",
       "AkITC5D9F1voIQOOHwyc/bUITf0NDDO+IyIqgUDa4iAnJ9NPEzMRagC48VUODJp6sgAAAABJRU5E\n",
       "rkJggg==\n",
       "\" style=\"display:inline;vertical-align:middle;\" /></a></dd>"
      ],
      "text/plain": [
       "<IPython.core.display.HTML object>"
      ]
     },
     "metadata": {},
     "output_type": "display_data"
    },
    {
     "data": {
      "text/html": [
       "<dt><a class=\"ProveItLink\" href=\"logic.booleans/_axioms_.ipynb#eq_true_intro\">proveit.logic.booleans.eq_true_intro</a></dt><dd><a class=\"ProveItLink\" href=\"logic.booleans/__pv_it/axioms/f7f9f11b7dc109adde25b380f7a61e780fe078730/expr.ipynb\"><img src=\"data:image/png;base64,iVBORw0KGgoAAAANSUhEUgAAAIwAAAAWBAMAAADgE2koAAAAMFBMVEX///8QEBCIiIhmZma6urrM\n",
       "zMxUVFQiIiJERETc3Nzu7u6qqqp2dnaYmJgyMjIAAAAcRTyBAAAAAXRSTlMAQObYZgAAAaJJREFU\n",
       "OMtjYCAMOC/gl+eewMDwAMS4i1fZCggVhy7OXA4GCQyZDAynQQKv8BrzEkK9x+YQBRC5joFhBsjV\n",
       "DfhM4TWAUO8X4DKGR4GBDyjJswGfMewTwNRq+wm4jOESYOA9tWrVdLx+gspe0HfAZQzDEwaGHx0d\n",
       "NXiNUQaTLAv2X8BpzGEGhlQGhk4wG0KywFR0whi9YHIJQzwkHN6BgQGKMfcYGJwZuMCRzvsFLMIB\n",
       "C9gvMGOqwaQDw3wDnK7ZDgxBBiawaxf/RTEGygUCERDBmmyc34DTmHigKy+wg5mnilGMgXJhxgD9\n",
       "yvgAnzGcD8LA1il0IBsD48I8BUwS7AJIYZOAYow7KCxTQCw2BnNkY2BcaBBzAo3h+4DTNcAgZthc\n",
       "AGLdZtBHNgbGhcQmOO1w/MRpjA0Q84OYXI/P9C9AGAPnQly84v8rBu7+75hRxQJJS09BUQtSz7yA\n",
       "YX4Awhg4F5EZ8ACuAhjLF+iqCwhj4FxE1sQDeBSgDI4fDJz9tXBjEFyU9IwLrMMU4sBZbOEGnUQZ\n",
       "Q6gQ5Z1AlDHkAGaydAEA+qlrXgbLZpIAAAAASUVORK5CYII=\n",
       "\" style=\"display:inline;vertical-align:middle;\" /></a></dd>"
      ],
      "text/plain": [
       "<IPython.core.display.HTML object>"
      ]
     },
     "metadata": {},
     "output_type": "display_data"
    },
    {
     "data": {
      "text/html": [
       "<dt><a class=\"ProveItLink\" href=\"logic.booleans/_axioms_.ipynb#false_not_true\">proveit.logic.booleans.false_not_true</a></dt><dd><a class=\"ProveItLink\" href=\"logic.booleans/__pv_it/axioms/95ab7ee745441da86081b4d06b3ce994b4344e0a0/expr.ipynb\"><img src=\"data:image/png;base64,iVBORw0KGgoAAAANSUhEUgAAADoAAAAUCAMAAADrw95cAAAAOVBMVEX///+YmJgkJCQNDQ0oKChE\n",
       "RES6uroyMjLc3Nzu7u52dnZUVFQQEBAiIiJmZmaIiIiqqqrMzMwAAADQJR+6AAAAAXRSTlMAQObY\n",
       "ZgAAAIRJREFUOMvFk9sOgCAIQOmiqJjp//9sS9sqp6m8xINzwNkZGwC0wujvevC1isL777ZH0JX0\n",
       "ew0lmWey3iqqBHBRCly0IO1FRRhGDcZYl/N1HGtJ2ocGAi4qFAONs842TUzjVixKe1Dp4BtNK23t\n",
       "a6WTtHIycmodm3fADdRc0psfpCCbHQeFUAaWF4Tk8gAAAABJRU5ErkJggg==\n",
       "\" style=\"display:inline;vertical-align:middle;\" /></a></dd>"
      ],
      "text/plain": [
       "<IPython.core.display.HTML object>"
      ]
     },
     "metadata": {},
     "output_type": "display_data"
    },
    {
     "data": {
      "text/html": [
       "<dt><a class=\"ProveItLink\" href=\"logic.booleans/_axioms_.ipynb#true_axiom\">proveit.logic.booleans.true_axiom</a></dt><dd><a class=\"ProveItLink\" href=\"logic.booleans/__pv_it/common/a204b265452817816a5c7080d6294d70945a2eff0/expr.ipynb\"><img src=\"data:image/png;base64,iVBORw0KGgoAAAANSUhEUgAAAA4AAAAOBAMAAADtZjDiAAAAG1BMVEX///+YmJi6urqIiIiqqqpU\n",
       "VFQiIiJmZmYAAAD2GhH1AAAAAXRSTlMAQObYZgAAABhJREFUCNdjKEsDgVQGIHBmgABa0YpADADk\n",
       "ogYfXGfJdgAAAABJRU5ErkJggg==\n",
       "\" style=\"display:inline;vertical-align:middle;\" /></a></dd>"
      ],
      "text/plain": [
       "<IPython.core.display.HTML object>"
      ]
     },
     "metadata": {},
     "output_type": "display_data"
    },
    {
     "data": {
      "text/html": [
       "<dt><a class=\"ProveItLink\" href=\"logic.booleans/implication/_axioms_.ipynb#affirm_via_contradiction\">proveit.logic.booleans.implication.affirm_via_contradiction</a></dt><dd><a class=\"ProveItLink\" href=\"logic.booleans/implication/__pv_it/axioms/7a3b8ed4ef10d34e2b3e8e04e732dfff4dcfcd1b0/expr.ipynb\"><img src=\"data:image/png;base64,iVBORw0KGgoAAAANSUhEUgAAAJkAAAAWBAMAAAAhlCOEAAAAMFBMVEX///8QEBCIiIhmZma6urrM\n",
       "zMxUVFQiIiJERETc3Nzu7u6qqqp2dnaYmJgyMjIAAAAcRTyBAAAAAXRSTlMAQObYZgAAAidJREFU\n",
       "OMutlE9o1EAUxj832W6SZqsHD55kwIso0oUVBFG6IIiXwuLBk+hCrVcLvYhUWDxNsXRzUYsgDVZQ\n",
       "IkrBP+BBXBCh1h5yV7G4J3upB6VVEH1vZk0mi12wZGAyf/K9X2a+vBkg17LKj495kM5RfcedtTxo\n",
       "61TnqLrNHGDl9RAYouov5kB7OBIQcjmKbuWx0Xi4Rs9NKaf6ylxzUN9KZYevYmrGgWk1nu4V1HTT\n",
       "TiacAE+3ot3DeUHNCXgqS8rfum5+7kxqH/W/GQiSiE81WIGJaJifnq9QU0KBl4iFX2zl6+MQ7TvP\n",
       "DNrZJMAbieE1TFqaC8Wx6iUe+XFJjZcnaV3Xb4cQwn9kaMeTCP8+ff2L6r7spdnADt6iu3pGwYXk\n",
       "XVMRYvStoZ1IIk47NHPI3H5KI29Ku5T7F9R7HOkeM1HdW0+1bkprWNR/jiUp5ezuLM0l2tBX7j1R\n",
       "+vcYhlfRa7NupFq7CZ/DyYbFAulP6fDC4QyNM9b5wb2d/Ge9zkorLF6W8hr7VjBo2vYB4PGxpZ/6\n",
       "bLP+YmjQHvxew2BrgxdT5nkrxHxd/3GiWSmt2PxLOwr3O3AS+6pUxsKsb9kySmuM8UbR2v5KSvMm\n",
       "ujSb8oiS6AO8KIruCvShOZtwW1fhkJnlqc5sbGivdI9Xq4m5jRjKL9zkhJFyj5zpdyb3k289uXnw\n",
       "H7crgv+/FTTNycwNxtu9YzTNzsQvbPvGqujmhTl3oG/EH4NyiW+J0iaOAAAAAElFTkSuQmCC\n",
       "\" style=\"display:inline;vertical-align:middle;\" /></a></dd>"
      ],
      "text/plain": [
       "<IPython.core.display.HTML object>"
      ]
     },
     "metadata": {},
     "output_type": "display_data"
    },
    {
     "data": {
      "text/html": [
       "<dt><a class=\"ProveItLink\" href=\"logic.booleans/implication/_axioms_.ipynb#deny_via_contradiction\">proveit.logic.booleans.implication.deny_via_contradiction</a></dt><dd><a class=\"ProveItLink\" href=\"logic.booleans/implication/__pv_it/axioms/d6c330d0a1f485a7acaf840db460a7c1d07e44210/expr.ipynb\"><img src=\"data:image/png;base64,iVBORw0KGgoAAAANSUhEUgAAAJ4AAAAWBAMAAADDSDj9AAAAMFBMVEX///8QEBCIiIhmZma6urrM\n",
       "zMxUVFQiIiJERETc3Nzu7u6qqqp2dnaYmJgyMjIAAAAcRTyBAAAAAXRSTlMAQObYZgAAAh1JREFU\n",
       "OMullEFoE0EUhn+TxmTT3dqDZxnqxVsDAQWpGPDQUyEnj7bQ9qAXCz0otIJ6miA1uYgiSBcUkYil\n",
       "UEqPDYRCW3vYe6lEowd7qQfBehB9b2anmQnG0vXB7L43b+fbN++9GSC5eFHXRH8NaLGyl4j3xrFu\n",
       "0LgJvGd9PxHvq2Md0FgCnnHg95PggoJjHYSALzDAr+UkvGzNtt5eJTM/iGC7Xn+aaLvuqmi4RM/P\n",
       "wKGU84l4522jL1znajeBaaCipirdC0pGqfyVt2AbrzAu6PUBuIa86pnge5zYT+1ZnU9TJePRctoo\n",
       "c0D6DktD/XuRy7NGaUVK9eXLX5zV5hWIxotVh6c8R5IzylnT1hNAZrJ4mz8fp+JGWTW9PUuRPHoe\n",
       "Qgj/ncNjD3d/1JvXB5xqaZ7Xus6zGSF57yRCjG3ZPOWB7n6bN2fxKEHZQdJHOdtTOi2X4sMniufK\n",
       "No89viT5WHJ4Cx2eR7yBb7oeWJnh2V0MI1/Q8aWf2Dz2xB1SsnlNo5RVK+Z+0mOExhkudL69Uw0z\n",
       "d6V8yPlLWTzl0Qtf37J5o52L4fc++qs/KJov3A78dTrEYhkTOj4/bfGUJ1UkuXjZ2a973vS/Z4w2\n",
       "RnFG2FC8hr9j8bSnTjLk1sO9D5T4wjTVIbzqPeQor8F8+3HU4cWeuI7YlA+kbPQ6NkvdExcof0fS\n",
       "dYt5/75Pex/MHrzj7/ug9l+8k0ohwZo//2aLn6xV0D0AAAAASUVORK5CYII=\n",
       "\" style=\"display:inline;vertical-align:middle;\" /></a></dd>"
      ],
      "text/plain": [
       "<IPython.core.display.HTML object>"
      ]
     },
     "metadata": {},
     "output_type": "display_data"
    },
    {
     "data": {
      "text/html": [
       "<dt><a class=\"ProveItLink\" href=\"logic.booleans/implication/_axioms_.ipynb#iff_def\">proveit.logic.booleans.implication.iff_def</a></dt><dd><a class=\"ProveItLink\" href=\"logic.booleans/implication/__pv_it/axioms/a703db234e47a546f05c6e865bafe7b6b63601ab0/expr.ipynb\"><img src=\"data:image/png;base64,iVBORw0KGgoAAAANSUhEUgAAAXkAAAAVBAMAAABRbIObAAAAMFBMVEX///8QEBCIiIhmZma6urrM\n",
       "zMxUVFQiIiJERETc3Nzu7u6qqqp2dnaYmJgyMjIAAAAcRTyBAAAAAXRSTlMAQObYZgAAA8xJREFU\n",
       "SMfVl09oE0EUxj+TbNNNmrQHUUGRgAe9aAuFetOoB0VQ40U8aUALRRQrQgtWUU+2/iF7qoJgVxQs\n",
       "FarQi15U9CBakaCgFFEiHqQKtjRaa6XW+fdmk+0kTVsvfvC1Yd/8Zt/OvJnZBcrJzkrPovv/jqyQ\n",
       "Ief4hfclGvYqM+0zxd9MH2jqTKLK+WdkrxczyWLpcoY8yC9+KZH9sDLTiLHBMiD4A5HcgkmngFMx\n",
       "k+KjEAz5Cp+uM+bkYw3S/OeIaxqKKSCUBx4vmPzkcTpm0IdJSEY5zvquuWvOPuxIM93eqEYnzryH\n",
       "GgR+sRuOAdcrIbm6SpDWOVdzOqZU7fGRARYSjHLseV/f5RKFc1mZKVuvCnEt7y9FHdexPk6wR0pW\n",
       "QHLthZms2pzQnI7RNHmVEQt8h2TIE52dJ0tkv0qZTaT7MOt1FaF1UpuG1cYnr2F20qsMA9mPVs3p\n",
       "GOm1/rU9yopKMORmmk/5d1v+SQtN1SVl4Cb2y8HZvbSdaaXqe/+RV+d41cX44qv5JtRgJoPtQlTO\n",
       "RSTfOwb1HXUMWC+Y0/TIkaQ1phjyFrXwY9/l6NShpk617lAGkugRXQQOyRm4IBvUO4gsYf+jrb6x\n",
       "n0kqRb8ayVZc05yOaT1Q6zIEO68YchgBMbU3pkSLYBrRSUUtVoZ1oPGoKJk2WpWyFs/ye7GurVFf\n",
       "9jNIrf7FBjKWQFWKOB3zFutHuTr2NDZNQDLkmmxYhJ4fl3klEMz5cwgBi8TF7keyu8OywTi/T6Jc\n",
       "9pqks/SwYyDDLqy0zp5iWt3PoOYRK33Z2zmxAVqJTtHiTgrrXP/8s4EIy3J6K2r7c0pv2jjK+gy1\n",
       "enWfNpNBGf3mGEgM0DnVURgDNkhGHXtR5mOQDBldB8WehfWiya61a9LwrVr7rjzlaNOIDHubtjXh\n",
       "rT1PBlJWbs5IDqsnEIyOkXaq/1fVwV24ajEgHv8d6kWTl8Bqwp4o8124+pe8xh81qIoyzkZ103l+\n",
       "4ZEvexMpqt41kWIbDruK0TGqerU/2zzPjCMZMmp5iUU+vciIni8CPbRitkr3Tn9BNPOTdmb5dsGn\n",
       "a2S8sUXsPvGUL3sTydVsJKt4mQQSkvFiSnI9I5L54+Le9HHJkBHjWQdd9IhWv1nxODPPe2/ZMff5\n",
       "j7VbZd4UiuQYyZD4mYKZsU3MraK77mBzkLXPw56EvcLwrlVe5d7S5kRWzDwuZKsnYGdOWcvxNN/Y\n",
       "kix6qeqavTvDG/J8yQoZcpGipb8xyqm67NfJnMgKGXLZD7UKv++G5v1lODSPL8OhAhcpi/9LfwF9\n",
       "GoUpN6fzvwAAAABJRU5ErkJggg==\n",
       "\" style=\"display:inline;vertical-align:middle;\" /></a></dd>"
      ],
      "text/plain": [
       "<IPython.core.display.HTML object>"
      ]
     },
     "metadata": {},
     "output_type": "display_data"
    },
    {
     "data": {
      "text/html": [
       "<dt><a class=\"ProveItLink\" href=\"logic.booleans/implication/_axioms_.ipynb#implies_t_f\">proveit.logic.booleans.implication.implies_t_f</a></dt><dd><a class=\"ProveItLink\" href=\"logic.booleans/implication/__pv_it/axioms/64650f4dd0bf4d6c8ad2e5b24676d8febd78413b0/expr.ipynb\"><img src=\"data:image/png;base64,iVBORw0KGgoAAAANSUhEUgAAAHoAAAAUBAMAAACwiTT9AAAAMFBMVEX////MzMxUVFR2dna6uroQ\n",
       "EBCqqqqIiIgiIiJmZmYyMjJERETu7u6YmJjc3NwAAACgK8IjAAAAAXRSTlMAQObYZgAAAPBJREFU\n",
       "OMtjYOC7wEAI5OGWOs3AMKMDBJqwyYqBCKYHuGQY1oHJdBxmg8V5FuCS4Z1AWDeDOS4ZjgeYuveh\n",
       "6z6KS/cLBkzd0ui6uRxw6K7EohvqG4Q48wQcuvei6OYEh37HTzTdvOBgs1oFAiuRZdqw2M3AtgxV\n",
       "N1sDDrtDsOlmOBWCopvxAym6+ZQfEKcb1eWcqyDgAarLWRoQ/l6EO9QggGUB1lDDYrclFt2nDqDp\n",
       "5jTAodsDwvZFllCE0sDcEwrOPVwCaFphMhxY8g+G0AlcGZR3AgNhYI5TZh9hzVhzKLx0IAS4H+CU\n",
       "IqJkuodLAgBplkw0aZ95ggAAAABJRU5ErkJggg==\n",
       "\" style=\"display:inline;vertical-align:middle;\" /></a></dd>"
      ],
      "text/plain": [
       "<IPython.core.display.HTML object>"
      ]
     },
     "metadata": {},
     "output_type": "display_data"
    },
    {
     "data": {
      "text/html": [
       "<dt><a class=\"ProveItLink\" href=\"logic.booleans/negation/_axioms_.ipynb#negation_elim\">proveit.logic.booleans.negation.negation_elim</a></dt><dd><a class=\"ProveItLink\" href=\"logic.booleans/negation/__pv_it/axioms/9acf6e2cd1a677f5ef9ae8ca5835af8b275703d40/expr.ipynb\"><img src=\"data:image/png;base64,iVBORw0KGgoAAAANSUhEUgAAAJcAAAAWBAMAAAA/XRM3AAAAMFBMVEX///8QEBCIiIhmZma6urrM\n",
       "zMxUVFQiIiJERETc3Nzu7u6qqqp2dnaYmJgyMjIAAAAcRTyBAAAAAXRSTlMAQObYZgAAAbRJREFU\n",
       "OMtjYCAWcF7AL78TiB+AGHeJMGwFhIrDIhUNItgmMDCcBjFeEWHYSwj1HovUJhDBBXTWDJAPGgib\n",
       "xWsAod4vwGEYwyEGBj6gJM8GwoaxTwBTq+0n4DJsIdCqU6tWTSfCl1A1F/QdcBnGB5T50dFRQ4Rh\n",
       "ymCSZcH+C7gM4wEGRCoDQyeYAyFZUNV1whi9YHIJQ7wCiD73DgQeoxjGC4wBZ3A8ANlfwEIcqMH+\n",
       "BcaqBpMODPMNcLmMuwAYsgxMYJcv/ovFMKggEIiACNZk4/wGXIaxfgB69QI7mH2qGIthUEGYYcAw\n",
       "YHyAzzDOB2FgpkIHpmEwQZg3gUmIXQARZs9QDGMpAIVxCjg3MJhjGgYThEYAJ9Awvg+4XAaKAIbN\n",
       "IBMZbjPoIxl2oqOj4wFCEAgOQ9Max09chjEfABL8oMjmenymfwGqyxIQgkDgDszq/18xcPd/R4tO\n",
       "8/JywfLyMqCbA0DOA6lnXsAwPwDdMLggIjvhAcvhLF+gCy+gGwYXRGR0POAQjMHxg4GzvxbVsAkI\n",
       "QZS8gANwYUkzHAQKR5yAYwIJhhEqtm8ykGAYOYCZAr0AOed5gytoZ+0AAAAASUVORK5CYII=\n",
       "\" style=\"display:inline;vertical-align:middle;\" /></a></dd>"
      ],
      "text/plain": [
       "<IPython.core.display.HTML object>"
      ]
     },
     "metadata": {},
     "output_type": "display_data"
    },
    {
     "data": {
      "text/html": [
       "<dt><a class=\"ProveItLink\" href=\"logic.booleans/negation/_axioms_.ipynb#not_f\">proveit.logic.booleans.negation.not_f</a></dt><dd><a class=\"ProveItLink\" href=\"logic.booleans/negation/__pv_it/axioms/c302d5cda975ab15dae4d7a0a3dc1b4392689b0c0/expr.ipynb\"><img src=\"data:image/png;base64,iVBORw0KGgoAAAANSUhEUgAAAFcAAAAUBAMAAAAKKrydAAAAMFBMVEX////MzMxUVFR2dna6uroQ\n",
       "EBCqqqqIiIgiIiJmZmYyMjJERETu7u6YmJjc3NwAAACgK8IjAAAAAXRSTlMAQObYZgAAALdJREFU\n",
       "KM9jYOC7wIAK2B4w4ASnkdiMCSBSD10JZwcYKDAwrEM2tABEnsJiJESGdwKGEHMBLsUcDzCEeAJw\n",
       "KX6BKcSwBJfiSiyKLXEp3otF8S2wy1eBwQRkmTZYyBggFGfgMjkEyuNTQCiWp4riNiyKPZDcrIDN\n",
       "g8iKb+EyGR5MAgjFk3Ep9kBOLq0R4OSyEFMxywWM6IYAngZcKRQlIUEAtoQEBfswRE4Rl/hxaYcD\n",
       "jGzFizNbAQAjaDbIZxmznwAAAABJRU5ErkJggg==\n",
       "\" style=\"display:inline;vertical-align:middle;\" /></a></dd>"
      ],
      "text/plain": [
       "<IPython.core.display.HTML object>"
      ]
     },
     "metadata": {},
     "output_type": "display_data"
    },
    {
     "data": {
      "text/html": [
       "<dt><a class=\"ProveItLink\" href=\"logic.booleans/negation/_axioms_.ipynb#not_t\">proveit.logic.booleans.negation.not_t</a></dt><dd><a class=\"ProveItLink\" href=\"logic.booleans/negation/__pv_it/axioms/863b620eaac843cd026d0df40c6dd0a687339e310/expr.ipynb\"><img src=\"data:image/png;base64,iVBORw0KGgoAAAANSUhEUgAAAFcAAAAUBAMAAAAKKrydAAAAMFBMVEX////MzMxUVFR2dna6uroQ\n",
       "EBCqqqqIiIgiIiJmZmYyMjJERETu7u6YmJjc3NwAAACgK8IjAAAAAXRSTlMAQObYZgAAALhJREFU\n",
       "KM9jYOC7wIAK2B4w4ASnYQzODjBQYNDDoooxAUytQza0AESewqIYIsM7AUOIuQCXYo4HGEI8AbgU\n",
       "v8AUYliCS3ElFsWWuBTvxaL4Ftjlq8BgArJMGyzMDBCKM3CZHALl8SkgFMtTRXEbFsUeSG5WwOZB\n",
       "ZMW3cJkMDyYBhOLJuBR7IAuxQFLgQjSVwOBqjQAlMQ7MBMnTgCuFoiQkCMCWkKBgH4bIKSISPx7t\n",
       "cICRrXhxZisANEQ2yM1lgAMAAAAASUVORK5CYII=\n",
       "\" style=\"display:inline;vertical-align:middle;\" /></a></dd>"
      ],
      "text/plain": [
       "<IPython.core.display.HTML object>"
      ]
     },
     "metadata": {},
     "output_type": "display_data"
    },
    {
     "data": {
      "text/html": [
       "<dt><a class=\"ProveItLink\" href=\"logic.booleans/negation/_axioms_.ipynb#operand_is_bool\">proveit.logic.booleans.negation.operand_is_bool</a></dt><dd><a class=\"ProveItLink\" href=\"logic.booleans/negation/__pv_it/axioms/8ec0db5d36eccb17de50edc55d07ceccbaf891ad0/expr.ipynb\"><img src=\"data:image/png;base64,iVBORw0KGgoAAAANSUhEUgAAALUAAAAWBAMAAAB09cDaAAAAMFBMVEX///8QEBCIiIhmZma6urrM\n",
       "zMxUVFQiIiJERETc3Nzu7u6qqqp2dnaYmJgyMjIAAAAcRTyBAAAAAXRSTlMAQObYZgAAAqRJREFU\n",
       "OMutlU1oE0EUx5+T3SSb3Wx7KPQmAe822kMtHgwIVgqFnKonXbCCnqx48OAHwYtbRLI3vXUlYksE\n",
       "CXgqKC7tpcQie1NpKwHxYEHbg2A9aH3zZrI7W5KCiw8yM/vfyW/ex8wsQGozwoPeLuGvwwebadiL\n",
       "oruQVNl198/wDEDWA3jLha007K+i294n23ppsRFCAZ1+zKOrpUAXy6Lb9pN6XgtZFYHLuAy+slop\n",
       "2DmPuuenPLnW/Zt3JdtsIfsJSu1m81GalMg/hSMV6vV7fuS3NYlsG/Vd173d46+eMtZ7sY9Qq/lv\n",
       "xHZ54cc5mZiuYjIwZ5cB5kgUrSZmWDFkDsxKD/ZDap/CxRINrsb5Ht4b4jnCYp6mkuL4h3gFyamk\n",
       "j8vxp6NjJ7v6LWorMC9qWlNqaW0GAOYs1gQYRdX4rbD1IGJz/Rn2hVejIbOM9arUh2jepdFrRNUP\n",
       "f0eTbKhNobKD0Yc5mtu+obCz1YjNdRuz/2GpCYxBO1TZmMFDFLWh+g21rGAbnWlauOQq7FxcR65j\n",
       "ZBoPnTFtw1Nzgps3N0iPgyrbsXHZWV6rGfIUxhR2vCtJNx2w6UBnjn1Ra2kg296hx+MJvzdELeEl\n",
       "XwDWYURhnwVYdV23I3WtBg1iMxjvZmtFupD/JSJtRWc+sFYcgAwv2QDfRIXPa3U/Zp8R8xyp6x04\n",
       "h0uVkB2UJGMCb6u9LTDrP2mjFK5MJu4qsLkTRc7M+DBfjdnnu2yhaw7mRvgdlJNnPjJtVZz5ri1E\n",
       "I9w0A2HMXuiyhV4MwOIrMwvWguRd1deWowLsglG/o+wTcYI9qWfwYD7A5/fvTnxTzutBJg7kvitS\n",
       "ZC15M/JNwjDfvb4NfSzv9WND8kZ//e/ftI/Qlz2ViK8M/8UyojPVkJifCvUX2bqubQYQcrEAAAAA\n",
       "SUVORK5CYII=\n",
       "\" style=\"display:inline;vertical-align:middle;\" /></a></dd>"
      ],
      "text/plain": [
       "<IPython.core.display.HTML object>"
      ]
     },
     "metadata": {},
     "output_type": "display_data"
    },
    {
     "data": {
      "text/html": [
       "<dt><a class=\"ProveItLink\" href=\"logic.booleans/conjunction/_axioms_.ipynb#and_f_f\">proveit.logic.booleans.conjunction.and_f_f</a></dt><dd><a class=\"ProveItLink\" href=\"logic.booleans/conjunction/__pv_it/axioms/5b249dff55f30fb41ea27edde308da98d9334a610/expr.ipynb\"><img src=\"data:image/png;base64,iVBORw0KGgoAAAANSUhEUgAAAHAAAAAUBAMAAACnq6Q0AAAAMFBMVEX///9UVFTMzMx2dna6uroQ\n",
       "EBCqqqqIiIgiIiJmZmYyMjJERETu7u6YmJjc3NwAAAC+aOQFAAAAAXRSTlMAQObYZgAAAQtJREFU\n",
       "OMtjYOC7wIAH5OGWOg0imBIwJdRABOMDBhwyDOtABFsBTJAPLp0OIngWYNEIluGdgKqRawKKNIM5\n",
       "Lo0cD1A1avegajyKS+MLBlSNIuWoGrkccGisRNXIs4ADVSPzBBwa96JqZE5gTkDRyAsOHatVILAS\n",
       "WaYNVSMHA98CFI1sDThsDEHVeJ2BQQhFI9MH4jQCw1SROI2oTmUDBgXXA2SNLA0IPy7EHTggTWwT\n",
       "MAMHi42WKBq1oc5FaOQ0wKHRAyjX0dEa0dEhAIp+kBAoCczo6Ajt6GgEukEBTRdMhgMl+YOTCROy\n",
       "yAlcuYp3AgNeYI5TZh9efVizFVJGxgm4H+CUwl903MMlAQB8DUVyivSWHQAAAABJRU5ErkJggg==\n",
       "\" style=\"display:inline;vertical-align:middle;\" /></a></dd>"
      ],
      "text/plain": [
       "<IPython.core.display.HTML object>"
      ]
     },
     "metadata": {},
     "output_type": "display_data"
    },
    {
     "data": {
      "text/html": [
       "<dt><a class=\"ProveItLink\" href=\"logic.booleans/conjunction/_axioms_.ipynb#and_f_t\">proveit.logic.booleans.conjunction.and_f_t</a></dt><dd><a class=\"ProveItLink\" href=\"logic.booleans/conjunction/__pv_it/axioms/98c4b70bfe1fb39e62a42c62ddc575661dcc861e0/expr.ipynb\"><img src=\"data:image/png;base64,iVBORw0KGgoAAAANSUhEUgAAAHAAAAAUBAMAAACnq6Q0AAAAMFBMVEX///9UVFTMzMx2dna6uroQ\n",
       "EBCqqqqIiIgiIiJmZmYyMjJERETu7u6YmJjc3NwAAAC+aOQFAAAAAXRSTlMAQObYZgAAAQtJREFU\n",
       "OMtjYOC7wIAH5OGWOg0imBLQRGd0gEAjA+MDLFrUwOQ6EMFWABPkg0ungwieBVg0gmV4J6Bq5JqA\n",
       "Is1gjksjxwNUjdo9qBqP4tL4ggFVo0g5qkYuBxwaK1E18izgQNXIPAGHxr2oGpkTmBNQNPKCQ8dq\n",
       "FQisRJZpQ9XIwcC3AEUjWwMOG0NQNV5nYBBC0cj0gTiNwDBVJE4jqlPZgEHB9QBZI0sDwo8LcQcO\n",
       "SBPbBMzAwWKjJYpGbahzERo5DXBo9ADKdXS0RnR0CICiHyQETQK+EDcoYCb/UFDy50BJ/uBkwoQs\n",
       "cgJXruKdwIAXmOOU2YdXH9ZshZSRcQLuBzil8Bcd93BJAABbF0XMzCmSpgAAAABJRU5ErkJggg==\n",
       "\" style=\"display:inline;vertical-align:middle;\" /></a></dd>"
      ],
      "text/plain": [
       "<IPython.core.display.HTML object>"
      ]
     },
     "metadata": {},
     "output_type": "display_data"
    },
    {
     "data": {
      "text/html": [
       "<dt><a class=\"ProveItLink\" href=\"logic.booleans/conjunction/_axioms_.ipynb#and_t_f\">proveit.logic.booleans.conjunction.and_t_f</a></dt><dd><a class=\"ProveItLink\" href=\"logic.booleans/conjunction/__pv_it/axioms/0dcb20d2560e6c58c689366d496bb8892d991b260/expr.ipynb\"><img src=\"data:image/png;base64,iVBORw0KGgoAAAANSUhEUgAAAHAAAAAUBAMAAACnq6Q0AAAAMFBMVEX////MzMxUVFR2dna6uroQ\n",
       "EBCqqqqIiIgiIiJmZmYyMjJERETu7u6YmJjc3NwAAACgK8IjAAAAAXRSTlMAQObYZgAAAQhJREFU\n",
       "OMtjYOC7wIAH5OGWOs3A2QEGCmgSYiCC6QEWLWAZhnUggq0AJsgHl04HETwLsGgEy/BOQNXINQFF\n",
       "msEcl0aOB6gapXtQNR7FpfEFA6pGlXJUjVwOODRWomrkWcCBqpF5Ag6Ne1E1MicwJ6Bo5AWHjtUq\n",
       "EFiJLNOGqpGDgW8Bika2Bhw2hqBqvM7AoIiikfEDcRqBYSpEnEZUp7IBg4LrAbJGlgaEHxfhDhyQ\n",
       "JrYJmIGDxUZLFI3SUOciNHIa4NDoAXEQNIuogAhQEpjR0RHa0dEEdIMAmi6YDAdK8gcnE0ZkkRO4\n",
       "chXvBAa8wBynzD68+rBmK1hGxge4H+CUwl903MMlAQBm6kX4QLZagwAAAABJRU5ErkJggg==\n",
       "\" style=\"display:inline;vertical-align:middle;\" /></a></dd>"
      ],
      "text/plain": [
       "<IPython.core.display.HTML object>"
      ]
     },
     "metadata": {},
     "output_type": "display_data"
    },
    {
     "data": {
      "text/html": [
       "<dt><a class=\"ProveItLink\" href=\"logic.booleans/conjunction/_axioms_.ipynb#and_t_t\">proveit.logic.booleans.conjunction.and_t_t</a></dt><dd><a class=\"ProveItLink\" href=\"logic.booleans/conjunction/__pv_it/axioms/ff4885f5394cdd1c813d63ec86222c10bbd3c8440/expr.ipynb\"><img src=\"data:image/png;base64,iVBORw0KGgoAAAANSUhEUgAAAHAAAAAUBAMAAACnq6Q0AAAAMFBMVEX////MzMxUVFR2dna6uroQ\n",
       "EBCqqqqIiIgiIiJmZmYyMjJERETu7u6YmJjc3NwAAACgK8IjAAAAAXRSTlMAQObYZgAAAQRJREFU\n",
       "OMtjYOC7wIAH5OGWOs3A2QEGCsiiM8BCTQxMD9DVw2QY1oF4bAUwcT64inQQwbMAi11gGd4JqBq5\n",
       "JqBIM5jj0sjxAFWjdA+qxqO4NL5gQNWoUo6qkcsBh8ZKVI08CzhQNTJPwKFxL6pG5gTmBBSNvODQ\n",
       "sVoFAiuRZdpQNXIw8C1A0cjWgMPGEFSN1xkYFFE0Mn4gTiMwTIWI04jqVDZgUHA9QNbI0oDw4yLc\n",
       "gQPSxDYBM3Cw2GiJolEa6lyERk4DHBo9IA6CZhEVEAFNAr4QNwhgavRFJDkYACcTRmSRE7hyFe8E\n",
       "BrzAHKfMPrz6sGYrWEbGB7gf4JTCX3TcwyUBAKQERsxzlZRzAAAAAElFTkSuQmCC\n",
       "\" style=\"display:inline;vertical-align:middle;\" /></a></dd>"
      ],
      "text/plain": [
       "<IPython.core.display.HTML object>"
      ]
     },
     "metadata": {},
     "output_type": "display_data"
    },
    {
     "data": {
      "text/html": [
       "<dt><a class=\"ProveItLink\" href=\"logic.booleans/conjunction/_axioms_.ipynb#empty_conjunction\">proveit.logic.booleans.conjunction.empty_conjunction</a></dt><dd><a class=\"ProveItLink\" href=\"logic.booleans/conjunction/__pv_it/axioms/32a39055ca5b39240fbd0d62d8901d63a783e22e0/expr.ipynb\"><img src=\"data:image/png;base64,iVBORw0KGgoAAAANSUhEUgAAACkAAAAUBAMAAADiqgm2AAAAMFBMVEX///8QEBCYmJiqqqpUVFTu\n",
       "7u5ERERmZmbc3NwiIiK6urp2dnbMzMwyMjKIiIgAAADRdxPqAAAAAXRSTlMAQObYZgAAANFJREFU\n",
       "GNNjeHuHAQJ0Z4GpJgYLILmLAQbALNYEBpYGKLsBLsrbwMB6Acq+DhdVB+J9EDZPZgBMdAYQB0LY\n",
       "LOseQEU5JoBMWQBmxzJMgIryFQAJ7gIwezMQQkTZFIAE0wUwewJDL1SU0wBIME8AsZkeMLAcgIgy\n",
       "LgBZ/gHE5gxg4HHAEDUHsm4gmcAFNgEoApJBtY0ngQFsyi6IoxgY2DcA2Swgs/gegEW5wL44AGRz\n",
       "gUPsAMLHkRghiRQ6SKJsSCGJEupACYaXsBh6C4shDQYGAOiVQ+bRnGebAAAAAElFTkSuQmCC\n",
       "\" style=\"display:inline;vertical-align:middle;\" /></a></dd>"
      ],
      "text/plain": [
       "<IPython.core.display.HTML object>"
      ]
     },
     "metadata": {},
     "output_type": "display_data"
    },
    {
     "data": {
      "text/html": [
       "<dt><a class=\"ProveItLink\" href=\"logic.booleans/conjunction/_axioms_.ipynb#left_in_bool\">proveit.logic.booleans.conjunction.left_in_bool</a></dt><dd><a class=\"ProveItLink\" href=\"logic.booleans/conjunction/__pv_it/axioms/ab9e0fbe5d17e19a0db8ca6aef29db4a077c81bd0/expr.ipynb\"><img src=\"data:image/png;base64,iVBORw0KGgoAAAANSUhEUgAAANQAAAAWBAMAAABK0K+UAAAAMFBMVEX///8QEBCIiIhmZma6urrM\n",
       "zMxUVFQiIiJERETc3Nzu7u6qqqp2dnaYmJgyMjIAAAAcRTyBAAAAAXRSTlMAQObYZgAAA05JREFU\n",
       "SMetVl1IU2EYfjo7053tHN1lUMhuom6ylaBZVougRBDFwLoQ2kWBdmVFRZA5ImpasHWVEOEBIcML\n",
       "G3hRUtHCIDGLVRcFmi2qm6A/TTLD6v3eb/Oc/SgU++Dbe97v533e/29Awca15TY9USApPl4XAMkd\n",
       "YuJMZi6vXRl5eyIAtAGPBf+xAFAlUUm+Zq0nm9zd24BBoIc4LVQAqBeSTM1nrYfqscYF6D6UmERi\n",
       "BYA6Jd049FOyxoWTZ9JQdwjK7YUxNjBwpQBIWrtEUL7LkJ01Lase3iD6HpgLh08vJyOau+TMc0zx\n",
       "M6nzLDAdNC0HqscPER0BiHTxmvytnRlpZemqPKmLH1caT43UVHbBE8iFciXYfwHnNLNtVqx2dn4T\n",
       "56eAXXBzfhrScsML3ct3Yd15syj7GfAAqE5xU+VVW1OfxTGpnzYjAexp8WSS6C06A4UV6pOWO4Lw\n",
       "zFtQzrjQdYc44RN8JXDfxHWxeLcioejaRKOUuIK1aa6onONrZZ9ppKFcKt0/QB5KFPPS2DGpnQ+O\n",
       "pAVVJCTp/RQIZ4fgjwLbZQ29Gh6AomAsYYeinzJklo+AQpChtGQz6+EL887NRpSbFhSr0eSim65B\n",
       "YcosFKp38oMq0kBR1MmozYEemkeY9dqhikRP2iPS4SCrjyreaVi/LggLiusg6KBMbjFIf3X6+Xkh\n",
       "MogSTjvHxg/2tLhK8wuzmzKsMuKcFhjiipjABt55Sm3LBlUrMiWmULfpFqHWk1DouBpCH0MpqE7F\n",
       "SvenaisStbKEG1MLxinCqKFZKuLtfjceYb9dAnpjFtRuUSM1o/Nw+kkbuOLQfnFP3RcOh30EFfel\n",
       "yqAd7shvE7f/cMzdrXWZ7RbCfENAOEz0sn4kqCFqQe2nuQXaLIpMsVIag0qdRw2Sw6VVcX9GY1oc\n",
       "6miqMaUbf3v6q57EJLRuaPPQVtsc2E+XKAoL2CsciV4Tl8nv5HtdKKboGI9nttulhu5LB3UOWqTD\n",
       "uQqPZipaAzaoYhOREHp+JA6LCOudFZXnhA/oyEWiL59u/rTYLqLLQg1mv5X2TiNbWzq8ZmrKR0ns\n",
       "UKzyPI1Lja4sfjgHCnkF3PvnB9/ItjmRC1Wf7233o6DDYf3/yHkwzP8R+Be3SdbbBDyFcwAAAABJ\n",
       "RU5ErkJggg==\n",
       "\" style=\"display:inline;vertical-align:middle;\" /></a></dd>"
      ],
      "text/plain": [
       "<IPython.core.display.HTML object>"
      ]
     },
     "metadata": {},
     "output_type": "display_data"
    },
    {
     "data": {
      "text/html": [
       "<dt><a class=\"ProveItLink\" href=\"logic.booleans/conjunction/_axioms_.ipynb#multi_conjunctionDef\">proveit.logic.booleans.conjunction.multi_conjunctionDef</a></dt><dd><a class=\"ProveItLink\" href=\"logic.booleans/conjunction/__pv_it/axioms/5c215492bda01bf7df8e1c9f194fcc28cbb6201d0/expr.ipynb\"><img src=\"data:image/png;base64,iVBORw0KGgoAAAANSUhEUgAAAb0AAAAyBAMAAAA6kRjOAAAAMFBMVEX///8QEBCIiIhmZma6urrM\n",
       "zMxUVFQiIiJERETc3Nzu7u6qqqp2dnaYmJgyMjIAAAAcRTyBAAAAAXRSTlMAQObYZgAAB8pJREFU\n",
       "aN7NWm9sFEUUf7e9vevu3V77QQtKxAsY5FsvKakJVntotImJemBCNST2wp9EicohCSqgHJFIi5oe\n",
       "MZF/0R5ihGCCF/tBSTAU1MRUY85WDMYgZwAT+QCX0pa2UM6Z3ZnZmb25O0q5hWl2bzr73uz8Zt6+\n",
       "ee+3C1Ch3F+4BtMrP4DLRY9bv8FCob6i8Kzde6Z3t2Cf2/jgGYJz997K+O6e7s3m0YqWrQaWI5I2\n",
       "I0cqavXxBdgtDpJ75qbWwYsl2v8orGjujIIvJbn2gXv49kVp7T/rJ5TnrqbkShpXv+S4xlRmAtSM\n",
       "gJ4rc1MX8L3LjCZi/f49wV09K1cKRWxbu5QWr1EVdRLAexngRBmjqT6+AEPjtyZe7x23r6rb0lKt\n",
       "5zew6pet4hozFQX1YwyhtZJ1sMktfH62EjvJeijD9lXfY2Gp1so5rJptjAqXmEotGvs+NA+hqKSD\n",
       "YymX8J1hsz/X+nkqMGlfPQwJ6QaW89OqN31MdLtMpS4O6nq0lsFI6WmtPr43We1Da+hRdQgboNX2\n",
       "M/qTbZmZYIZUP4cOcYmZSserA9sybDP49SIu7HE2JtzBp9rGuNFaD9CQT3juIastAZ9KjRo06hWj\n",
       "0COuD1NpTIHegJ9wmQnoQ+7gq7FvcJd5XtrUPIZ+2qxZDoMvJtEaAFhF5mdF05qksHUzlS0YI1pA\n",
       "NS+78UV38HniDnzIGcxm+PxpUOMSLeQ1lpLHD3UhbHC2yijGFy6FrzHlCr6OrGifAXSsZfh67V1f\n",
       "2FOQRYYsv4TWx18PxiNL5irzYoIK3v5gDZoub8J+/v5lffRkXcHXmBL9y14SkLSxiKZXsrunLIwo\n",
       "jsmY8Y6xKOtZrcQFFbz9qWN8sCkxnKrj22JXv8fjxXPdnSL41KRlcKBfB3L6Kked6wa6Z9aOw54H\n",
       "oS5a08erQAgNfdF2/IhL85PaBMFnoj9dFl8lkTJlpl1FkPTu62n4trCO4PPhnVnB7n89kJMfT/tK\n",
       "/B/e4Q8WLkCg+0oElsNi8Gd4Fd+l0aaX3jdXOybdYvIEn7mbXCiLr5JImUzzMucZ+DirjTgPVIqH\n",
       "ZwYkqjiI+dCjylUOSO9sjBB8u7DZJMviqyRSZvsb4u7I72PfTKkbLY9W8FRQfvFEmTsjfCEc4mTK\n",
       "4qskUia6vsr902VXP9q8fCrdeOPIr3zcLzeRXBnLQfiM/kOHdpb3L5VEShfLSsT89haX2hIp5Cj1\n",
       "n2OdnZsq+M8KIqWLMs5bWVX4iT9LtI9RfKsEy5HiYyJdlafQ293SzMSCE3C7ymyK7/EiE25viSoN\n",
       "PD4qYgzLcyAhA/sN4DgLP28fvhkUnx8UznD0o03ZQLIfFvL4qMj+Semj3CoYXjPKLmlW7svfNnxr\n",
       "Kb5g1s81nzpyCAIDNdDH46Mi/eukW+kBIYN5HeBRuIPwaTkUq9MI1ouHGlj2QljAZ4og6XCnrKcl\n",
       "tfzeqI+AcuEOsM83WPzZheIhGsGGzF0r1n9SwGeKoNUAlJb6ihiheA2fYXqHBt6zl3ZckPyEHNNj\n",
       "rFI31M78C/Si4dEIdr+FL2iTGia+XhPBX9AI6nEnPiOj8FYYzIHC8CojwoOatA6YOsnLy7/sHMAa\n",
       "FIpudbY3MHx1OMIlEWx7Z2dnOBDTsgkBnymin/2lO20F7wLh0/ITb4W1faCxqEV0uDjvIXmdQPJq\n",
       "JUBxC8LLH3aqedCctcZYu1UuM3xG2o5gfdb6wRNhAZ8pUpOGnlgxvoWgjcDgd4PLfrRorQx4mVUG\n",
       "BHyD5HCSvKGIHB9H/vLywbBDDSfRz0ZYu2Ur14T8j0awQRyaG1Ew+orzv6fR4LMYn7YddqXpyYs6\n",
       "n4Svc57MURSJoylIww6mrAobylvkcJC8PJsrZXId8nq9Qw0n0WfCrF2Mrx0RLE6p2s4hp1GEr3YM\n",
       "tO63TQJkFixOqffg0yzoTsKuK1lf7AAsAFicCW5uat7qsBI6hwmS4DpIXp7NlTK5TvlzDjWUROsz\n",
       "0qydi+yL83cFPX9l83dsnwG7G8bo9UIiY/IlQnmH7zpiHU6Sl2Nz5UyuQ95kAng1FEq3r2btvOee\n",
       "Oj+hNj7Mv3OjtS/gAVieKvbdrbznyVqHk+Tl2Fw5k0vl2cMoqqmjp+dvtNv5yOIm+ZespGbZUVFo\n",
       "ynkjTDCYJIOD5OXYXDmTS+QdyTFTw0nKvrgjafYk3eEHuZXxRK3DQfJybC7ImVwqzzoV1fCLFuUq\n",
       "ayf8YNhtfpfDJ5C8HJsLciaXyov4mFodklKGHPhc4ndr8hL7FElejs0Vik3+EvnBk3Mic1ZRPVsN\n",
       "b3++YXu+zLINXMHnHZb4F5HktdlcsdjkL5H//T5oSM+jfsRWw0vVkXT4F5ferwCXUeGYFh8iyWuz\n",
       "uSa3i08m02szuURe+ywBw9CC6i2CGvyDpnFmmraTvcil92O8A8UvCtDhIHltNtfkds3Tep7JZfK+\n",
       "MBou3gjOC2qv4e8oTDd2vui5rz4+T58sPuNIXgmbC3Ly1xNTklo+BnpCrqZzaZpr76cDE9L4+iZI\n",
       "XuhBK2gk+8Q4Gorjbi40d+H7kLMiz8ZxbVMkeeFJ5FO0V9KOPKg4b8Kzeq9r+HbEZPntdEpX5XYX\n",
       "v+/hX4/fEn7CSFVuXwGu4cN8odvFSN44vml/H+kLu45vKt9HTv/71gVuw9NXE4daKNT/DzgRP+hd\n",
       "ttm+AAAAAElFTkSuQmCC\n",
       "\" style=\"display:inline;vertical-align:middle;\" /></a></dd>"
      ],
      "text/plain": [
       "<IPython.core.display.HTML object>"
      ]
     },
     "metadata": {},
     "output_type": "display_data"
    },
    {
     "data": {
      "text/html": [
       "<dt><a class=\"ProveItLink\" href=\"logic.booleans/conjunction/_axioms_.ipynb#right_in_bool\">proveit.logic.booleans.conjunction.right_in_bool</a></dt><dd><a class=\"ProveItLink\" href=\"logic.booleans/conjunction/__pv_it/axioms/99b36fab39a61eb54413f884ec2feb1fd30fcf220/expr.ipynb\"><img src=\"data:image/png;base64,iVBORw0KGgoAAAANSUhEUgAAANUAAAAWBAMAAAClEsSqAAAAMFBMVEX///8QEBCIiIhmZma6urrM\n",
       "zMxUVFQiIiJERETc3Nzu7u6qqqp2dnaYmJgyMjIAAAAcRTyBAAAAAXRSTlMAQObYZgAAAxtJREFU\n",
       "SMetVk1oE0EU/jrJJtlkk/YgVFAkN3uxjRasxYMFQUuhNCC03hqwQvTgDx5E/CGK4LYKza1epCsF\n",
       "Kz1owFNBYWkPSi1lwYNKG42IF0ERK6VWtL6Z2cxumhBQMrDDzPtm53vve29mF2hYu1cXnaWnxAfF\n",
       "BlBFc0D87Fpn9maFmZ03/7SOAKE88JIbPjeAK0GboYkID6Ur7Vry4ZSDKAV1l6Z6rgFcr3g37AAD\n",
       "qQp7JOiwNBHMEa0FGIUGcF3iXQcF9z4p5vFbF6+5XLECcd0n08LMzEQDqPRzvL9OeWu1+Ei7Yam4\n",
       "jD7iSvQA66Z5pd4m+WqTVmMZE8qtAUOnxfyR5Wl4dJBSaNCCk8CoMMq+d3U+K7YPyqWGDyvDsZ5q\n",
       "rojDnVgrtl2W81Nevlo3t3FNqTgOixKh8Q8pcwuMFrHG946LKbjbnb1r7zroDsM85+wn5SUj5jlf\n",
       "bRhFG4iRyGEw7hKmfgsokEFsw+PSbIUxD37Az9PTTocZ+rJb4U081gh5yX6J93Z9peZyIddPlm8k\n",
       "khMWixcuSP+SCJQ8rlBaYUOOgvlZejM7A8aw4Pi4mikm9h0Vx0hwhSSXXhoUjiRNAT1Oo93yuMIe\n",
       "NlZSMCkR5LXAWHAl79OQH6+Q1LvFz5VJUP55oY6OiADQJaCBPW1ScMk1oTDNLio4lkFCFF9g7yd/\n",
       "bfDjNSwj2lcR14qsDTwRJ2MZHQJaAnb7uHoVFrEiCg7mMCW4GLrdfPGSxgeCtltenPKOso158i/A\n",
       "M9/Mz3n04+K4WHQHmCx4XEcUdgzxQhnWShgyTTNJXLa8JYREZzZP7Dddjmi2r+LuRYI7FeccAQuT\n",
       "wkOqooG8x3VcYadFHUs4mCFdZVx2yn9H+Vrwhbyjym1ajagomx19DPoG9J0+DafLmJbiWrpw3IbB\n",
       "PWMGFm3/3VunzakErkMfv6rtwPPVzmyPjytsuVjI4iYXDtBzm9DXSwe+qC3y9T9vpS2GmP/SkXKX\n",
       "Uxx1H5lvjlC+tn4r67QqV2aruFBzh2f//g/wdqvBqebqr6VHCo1tAVfWGmlg1n/t+Bf/gNvfT2GJ\n",
       "ugAAAABJRU5ErkJggg==\n",
       "\" style=\"display:inline;vertical-align:middle;\" /></a></dd>"
      ],
      "text/plain": [
       "<IPython.core.display.HTML object>"
      ]
     },
     "metadata": {},
     "output_type": "display_data"
    },
    {
     "data": {
      "text/html": [
       "<dt><a class=\"ProveItLink\" href=\"logic.booleans/disjunction/_axioms_.ipynb#empty_disjunction\">proveit.logic.booleans.disjunction.empty_disjunction</a></dt><dd><a class=\"ProveItLink\" href=\"logic.booleans/disjunction/__pv_it/axioms/6bf5b2413b8d009beaab39e5c4e5812d2014f46c0/expr.ipynb\"><img src=\"data:image/png;base64,iVBORw0KGgoAAAANSUhEUgAAADsAAAAUBAMAAADB8VhjAAAAMFBMVEX///8QEBBERESqqqru7u6Y\n",
       "mJi6uroyMjKIiIjMzMxUVFTc3Nx2dnYiIiJmZmYAAAAK2EhgAAAAAXRSTlMAQObYZgAAAOhJREFU\n",
       "KM9jYICB9kooI/wamNrKYM2ABI6hslgUGLg2oEhzgukJEGn2DQwsBSjSXBOAFGsDRDoOiE+g6l4A\n",
       "pHgdINK3gdgR1e5qIJUHsZv7AsiCBBRpOyClDZHmeAAkeB6gSPMyMHAqQKSZAkDuKGB4excI7kCk\n",
       "ORoYuBIg0rwGQIL5AkTnLog0ywUGd6i/GUHWcn5AkWZ4zHAYn/R2hgsMSIazoRrOwDS1gQHVaWDA\n",
       "CRXkXOsAZYH9xHcALUrqYCywuewT0KS3wFmgQPXFHaGYUYLCYsKIUPTkwIScHHphiakdlpiiGRgA\n",
       "VudMfZzNtAQAAAAASUVORK5CYII=\n",
       "\" style=\"display:inline;vertical-align:middle;\" /></a></dd>"
      ],
      "text/plain": [
       "<IPython.core.display.HTML object>"
      ]
     },
     "metadata": {},
     "output_type": "display_data"
    },
    {
     "data": {
      "text/html": [
       "<dt><a class=\"ProveItLink\" href=\"logic.booleans/disjunction/_axioms_.ipynb#left_in_bool\">proveit.logic.booleans.disjunction.left_in_bool</a></dt><dd><a class=\"ProveItLink\" href=\"logic.booleans/disjunction/__pv_it/axioms/0624b112a266481218c9a55eb09351932b03b9450/expr.ipynb\"><img src=\"data:image/png;base64,iVBORw0KGgoAAAANSUhEUgAAANQAAAAWBAMAAABK0K+UAAAAMFBMVEX///8QEBCIiIhmZma6urrM\n",
       "zMxUVFQiIiJERETc3Nzu7u6qqqp2dnaYmJgyMjIAAAAcRTyBAAAAAXRSTlMAQObYZgAAA1BJREFU\n",
       "SMetVl9IU1EY/3Xvne7e3ekeg0L2UNRLthrMLKtFUCKI4oP1ELSHAn1bRUVQOSJqWrDbSwkRXhBS\n",
       "fLCBDyUVLRQSM1kFFWi2qF6CyjTJjP5855zNe/dHodiBs+9+58/3+/6fAUUbN5bbdBlAin28LgKS\n",
       "FuHEkcpeXrcy9vZEEGgFHjP+YxGgygxBpnPWU01ax3agH+gkTo0UAeq5IFMLOeuReqx1AroXZSaR\n",
       "eBGgTgk3DvwQrPviybMZqLsEpXngHu3ru1YEJDUsEKRvImTnTMuq4V6i74H5aPT0cjKM/CVHgWOS\n",
       "j5M61y9O+03Lgcrxw0SHACLtfE381s4OtXDpijipsx9nBk+J1QTa4QrmQzmT3H9BxwxnW61Y7Wr7\n",
       "ys5PAbuh8fx0C8vdHugefhfWnTeLsp8CD4HqNDdVWbUt/VkaF/qpswLAnhZPJonepjOQuELdwnI5\n",
       "BNeCBeVIMF13JsHO0AwAD0zcZIv3/ElJVycahcQVXJtmf2CeX6v4TCMD5VTo5kHyULKUL40eE9p5\n",
       "IacsqBImSe/xYQ1FPgQcBXaIGno12AdJwmjSDkU/FcguHwaFEIdSU81cD2+U79xqRKVpQXE1mpwR\n",
       "xsoGtDlIVO/kB4WlgSQpk4bNgS6aRzjrsUOVsJ60l6XDIa4+qvhOw4b1IVhQvA5Cchh6EFcpFjPP\n",
       "LjCRIZTxtJM3fbCnxXWaXzi7Ocsqd4KnBQZ4RUxgI98Zp7Zlg6plmRKXplmLo2TQU5DouBJBN4eS\n",
       "UJ2Ole5L11bMsLKEN6YDGKMIo4ZmuZcF+d1YjPvtMtAVt6D2sBqpGaFEGdbIWmcC6k/eU/dFo1Ev\n",
       "QSW86TIIQ4v9NnHnD4+51lKX3W7BzHczCNlEF9ePBDUYFtR+mluhzgG9Mu2Xx6FQ51FC5HBhVcKX\n",
       "1ZgWhzKSbkyZxh/OfNWTmKTaAXUB6mqbA3voEkWBCkF/QWyXiSvkd/K9zhSTdIwlstvtUkP3ZoI6\n",
       "DzV2xrEKj2b9LUEbVKmJWASd35Ms+aC3+QPnmQ/oyCWiL8e3fFpsF8ayUP25b6W904jWZjV90/Y2\n",
       "sR2KVYGncanRnsMP5kGhoID7//zgu3NtTuZD1Rd6230o6pCt/x95D4b5PwL/Av+C11/3FK8+AAAA\n",
       "AElFTkSuQmCC\n",
       "\" style=\"display:inline;vertical-align:middle;\" /></a></dd>"
      ],
      "text/plain": [
       "<IPython.core.display.HTML object>"
      ]
     },
     "metadata": {},
     "output_type": "display_data"
    },
    {
     "data": {
      "text/html": [
       "<dt><a class=\"ProveItLink\" href=\"logic.booleans/disjunction/_axioms_.ipynb#multi_disjunctionDef\">proveit.logic.booleans.disjunction.multi_disjunctionDef</a></dt><dd><a class=\"ProveItLink\" href=\"logic.booleans/disjunction/__pv_it/axioms/e9a3d5a95c4ed56fd1ae57ca10336006fc2dafb10/expr.ipynb\"><img src=\"data:image/png;base64,iVBORw0KGgoAAAANSUhEUgAAAb0AAAAyBAMAAAA6kRjOAAAAMFBMVEX///8QEBCIiIhmZma6urrM\n",
       "zMxUVFQiIiJERETc3Nzu7u6qqqp2dnaYmJgyMjIAAAAcRTyBAAAAAXRSTlMAQObYZgAAB8dJREFU\n",
       "aN7NWm9sFEUUf7e9vbu9f+0HLSgRL2CQb21SUhOo9ghREhP1wAQ0RHsBiUpUDklQAeWIKFfU9IiJ\n",
       "/It2EWNJTfBiPygJhoKamGrM2YrBGOAMYCIfoCltaQvlnNmdmZ3Znd5xlC5Msnt7s+/NzG/m7Zv3\n",
       "frsAZcr9xWswufIjuFyCSfM3XCzWlBWesWfv5HoLd7uND54kOPfsK4/v7sl2NodeaPmpwHJYUhcp\n",
       "kAt16vGFWBcHSZ+Fyhp4foL6P4urGjNx8GUl9z50D9/+OL36z/yJ9tMK1TgnHCoJ6yYql/hbvMp0\n",
       "gKohCBZKdOoCvneZ0dSbv6fHaI0PjzMSc6isxqdeqnZJ525xKuo4gPcywPESRjP1+EIMjd80pGDX\n",
       "KFsM7Of8ukNnGT5tJH++auYNkFNRUDuRAbRWsm43u4XPX0+vdpH1UAaBt9hFTp0oQuSlevm6OH/P\n",
       "Ugmgse9HsxCNS7o9mnUJ3xk2+7PNn8dD4+xmFzpaJWuOsAWInlc/KrhdS6U6CeoGtJLh+omnderx\n",
       "vcmuPjLNM64im4JnzFGgEaQlSikqAPAFtAgPqKXS8mrv9hzbDH67iMtZ9rCPuYNPtYxxk7keoCGf\n",
       "8PRDxh8lBj6Zdc0CeIFcxqFdWB9LpS4LwVq82ilZCDPgDr4qq4O7TN/R0DiCfhabo0jBIZlWB/P6\n",
       "6qqGtcIKWypbMUa0gGq/rImL7uDzJG340NzPZPhgAfwinZVcOEceP9SEuMExlWGMLzYRvrqsK/ha\n",
       "8qJ9htCxzsL3GciMC7SCn1whmP4aiDy8dLYyJyGo4O0P1qLp8qas5+9f1kR73hV8dVnRv+wjAQnB\n",
       "F3guJlV7j+zuWs6IdyIL8541SlJQwdufOsIHmxLDmXJ8W63LH/B48Vy3ZRk+9UVjqw5ep6evzcEu\n",
       "22jtmYFR2PsgVMerunkViKKhL9yBjVmanwRSBJ/R4KmS+MqJlCjTrUsEKdh2XYfviusZPiAOfQM9\n",
       "+c1Fipo+82DxAoTartTDSlgC/hyv4rs03PDSB4ZsQpqV9RN8xtN6oSS+ciIlMs3L3M7Fx1kU3wS5\n",
       "pabbBzEX2lW5Soe0hcgQwbcbN5cuia+cSIntb4Drkd/Hvq2oGa0freDJsPzm8RI9I3xRHOLkSuIr\n",
       "J1Iiur7K/eEisY+3rKykGW8SxZ2f9MhNpFDCchC+SE9n567S/qWcyMTFtBIxv73FJZCV1w9T/zmS\n",
       "yWwu4z/LiExclFHeyqaEn/hrgvoRim+1NIYX8DGR1vJT6G1ramRi4TG4XWUmxbfIYcLLm+JKLY+P\n",
       "ikQG5TmQECP/DnCMBVq3D980is8PCmc4wSMN+VC6B+bz+KjIgXHpo9wsGF4jyi6pe/f13zZ86yi+\n",
       "cN7PVZ883Amh3iro5vFRkZ710q20Q8hgXgd4BO4gfFphGbAI1qAFQiuejQn4DBEkHcvIWloa4PfG\n",
       "4BAoF+4A+3yDxZ+tKJekEWzU2LUSPScEfIYIWg1AaanPwQclq/gkwDvQ+761tKOC5KfkmBxjlb2h\n",
       "euZfoAsNj0awB0x8YYvUMPB1GQj+hjpQj9nxRXIKb4XhAigMrzIkPKhp84DKSV5e/mX7ANaiUHSb\n",
       "vb6W4avGCQeJYJdnMplYKKHlUwI+QyR49tc23cnnHWr6mbfCQDdoLGoRHS7mxaLmLFskr43NlTK5\n",
       "gjzJ3zk1D5qz5oSNCrjM8EV0K4L1mesHj8YEfIZIlQ7tCSe++aANQd/3fSt+MmmtHHiZVYYEfH3k\n",
       "EEhekc2VMrmiPIRjNjWcRD9VT+qprVwT8j8awYaNVuMQ6Xbmf0+gwecxPm0H7NbpyYsaH4dvCp7c\n",
       "ERSJoynQYSdTVoUN5S1yCCSvyOZKmVxRHoI1NjWcRJ+JkXp7fG2LYHFKtfgcchoOfIER0Nrexl2q\n",
       "M2BJVr0Hn2ZAWxp2X8n7Eh0wD2BJLryloXGbzUroHKZIgiuSvAKbK2VyRXmAczY1lEQHp+mkXojs\n",
       "nfm7gp6/kvk7ntKQ1QyjJbsglTP4EqG8wzddbx42kpdnc+VMrihvMgG8Ggqll6+h9YLnrpyfUOsW\n",
       "8O/c6NWX8ACszDp9dzPvefLmYSN5eTZXzuRSeVpOi2rq8Km5m6x6PrK4Sf4lL7ky7cgRmnLeCBMM\n",
       "JskgkLw8mytncom8LTlmajhJ2Z+0Jc2etDv8IGewnrh52Ehejs0FOZNL5Vmjohp+0aJcZfWEH4y5\n",
       "ze9y+ESS12JzQc7kUnkRH1OrRn0oAzZ8LvG7Vf0S+7SRvBabKxZG/hL5vhOz6metZnpMDW9/vkGO\n",
       "tMJlO7iCzzso8S82kpexufa0mZK/RP6P+6BWn2P5EaqGl6olbfMvLr1fAS6jwjEtPuwkL2VzDW4X\n",
       "nwym12Jyibz2eQoGoQldNwlq8A+axum6VW/4HJfej/EOFL8oQIeT5CVsrsHtGqcNPJPL5H0xNFy8\n",
       "EZwX1F7D31EYT+J5x3M/9fg83bL4TCR5NV2ua2NyPQklrfUnsGOVqgW5NM2199OhMWl8fRMkL7Sj\n",
       "FYyku8U4GuxxN7/0bnwfclbk2bhIrEKSFx5DMaf2ii5/JcryJnNW73UN386ELL+dTGktX+/i9z38\n",
       "6/Fbwk9EsuXrV4Fr+DBf6HaJpG8c36S/j/TFXMdXyfeRk/++dZ7b8IJriEMtFmv+B8M7QBtMY5aP\n",
       "AAAAAElFTkSuQmCC\n",
       "\" style=\"display:inline;vertical-align:middle;\" /></a></dd>"
      ],
      "text/plain": [
       "<IPython.core.display.HTML object>"
      ]
     },
     "metadata": {},
     "output_type": "display_data"
    },
    {
     "data": {
      "text/html": [
       "<dt><a class=\"ProveItLink\" href=\"logic.booleans/disjunction/_axioms_.ipynb#or_f_f\">proveit.logic.booleans.disjunction.or_f_f</a></dt><dd><a class=\"ProveItLink\" href=\"logic.booleans/disjunction/__pv_it/axioms/f32724625f475374a44f90c03ac544aef365a3ee0/expr.ipynb\"><img src=\"data:image/png;base64,iVBORw0KGgoAAAANSUhEUgAAAHAAAAAUBAMAAACnq6Q0AAAAMFBMVEX///9UVFTMzMx2dna6uroQ\n",
       "EBCqqqqIiIgiIiJmZmYyMjJERETu7u6YmJjc3NwAAAC+aOQFAAAAAXRSTlMAQObYZgAAARFJREFU\n",
       "OMtjYOC7wIAH5OGWOg0imBIwJdRABOMDBhwyDOtABFsBREgBbAqEnQ4ieBZg0QiW4Z2ArFEIRFxH\n",
       "kmYwx6WR4wGyRkUQ0YOs8SgujS8YkDVyAY1hmYCskcsBh8ZKFI1sQE3cD5A1Mk/AoXEvikaGBgYG\n",
       "bWRpBl5w6FitAoGVyDJtqBrLGRhEUDSyNeCwMQRV4wlEBEA0Mn0gTiNnAnMCcRrRnMq3gANFmoGl\n",
       "AeHHhXgCh2HTdQYsgYPFRks0jYo9qBo5DXBo9ADKdXS0RnR0CEAiHBJvMzo6Qjs6GoF8BTRdMBkO\n",
       "tOTPdwCVfwJXruKdwIAXmOOU2YdXH9ZshZSRcQLuBzil8Bcd93BJAABJLUe/77Ia5AAAAABJRU5E\n",
       "rkJggg==\n",
       "\" style=\"display:inline;vertical-align:middle;\" /></a></dd>"
      ],
      "text/plain": [
       "<IPython.core.display.HTML object>"
      ]
     },
     "metadata": {},
     "output_type": "display_data"
    },
    {
     "data": {
      "text/html": [
       "<dt><a class=\"ProveItLink\" href=\"logic.booleans/disjunction/_axioms_.ipynb#or_f_t\">proveit.logic.booleans.disjunction.or_f_t</a></dt><dd><a class=\"ProveItLink\" href=\"logic.booleans/disjunction/__pv_it/axioms/3aecc76d963a1f24eceeeff3d805271739cb05510/expr.ipynb\"><img src=\"data:image/png;base64,iVBORw0KGgoAAAANSUhEUgAAAHAAAAAUBAMAAACnq6Q0AAAAMFBMVEX///9UVFTMzMx2dna6uroQ\n",
       "EBCqqqqIiIgiIiJmZmYyMjJERETu7u6YmJjc3NwAAAC+aOQFAAAAAXRSTlMAQObYZgAAAQ1JREFU\n",
       "OMtjYOC7wIAH5OGWOg0imBLQRGd0gEAjA+MDBhwyDOtAPLYCiKgC2BQIOx1E8CzAYhdYhncCskYh\n",
       "EHEdSZrBHJdGjgfIGhVBRA+yxqO4NL5gQNbIBTSGZQKyRi4HHBorUTSyATVxP0DWyDwBh8a9KBoZ\n",
       "GhgYtJGlGXjBoWO1CgRWIsu0oWosZ2AQQdHI1oDDxhBUjScQEQDRyPSBOI2cCcwJxGlEcyrfAg4U\n",
       "aQaWBoQfF+IJHIZN1xmwBA4WGy3RNCr2oGrkNMCh0QMo19HRGtHRIQCJcHi8+UL4CpgafRFJDgH4\n",
       "DqDyT+DKVbwTGPACc5wy+/Dqw5qtkDIyTsD9AKcU/qLjHi4JAP4OSHMxpgrYAAAAAElFTkSuQmCC\n",
       "\" style=\"display:inline;vertical-align:middle;\" /></a></dd>"
      ],
      "text/plain": [
       "<IPython.core.display.HTML object>"
      ]
     },
     "metadata": {},
     "output_type": "display_data"
    },
    {
     "data": {
      "text/html": [
       "<dt><a class=\"ProveItLink\" href=\"logic.booleans/disjunction/_axioms_.ipynb#or_t_f\">proveit.logic.booleans.disjunction.or_t_f</a></dt><dd><a class=\"ProveItLink\" href=\"logic.booleans/disjunction/__pv_it/axioms/236999b3d2abfd3411245d9e66363035235c52680/expr.ipynb\"><img src=\"data:image/png;base64,iVBORw0KGgoAAAANSUhEUgAAAHAAAAAUBAMAAACnq6Q0AAAAMFBMVEX////MzMxUVFR2dna6uroQ\n",
       "EBCqqqqIiIgiIiJmZmYyMjJERETu7u6YmJjc3NwAAACgK8IjAAAAAXRSTlMAQObYZgAAAQ5JREFU\n",
       "OMtjYOC7wIAH5OGWOs3A2QEGCmgSYiCC6QG6+hlgxU0MDOtAPLYCiKgAiGCEsNNBBM8CLHaBZXgn\n",
       "IGtUBBHXkaQZzHFp5HiArFEIRPQgazyKS+MLBmSNXEBjWCYga+RywKGxEkUjG1AT9wNkjcwTcGjc\n",
       "i6KRoYGBQRpZmoEXHDpWq0BgJbJMG6rGcgYGFRSNbA04bAxB1XgCEQEQjYwfiNPImcCcQJxGNKfy\n",
       "LeBAkWZgaUD4cRGewGHYeJ0BS+BgsdESTaNQD6pGTgMcGj0gDoJnEa4JsKQcCk7KXAKYGn0RSQ4B\n",
       "+A6g8k/gylW8ExjwAnOcMvvw6sOarWAZGR/gfoBTCn/RcQ+XBAD2iEiPkqdDlgAAAABJRU5ErkJg\n",
       "gg==\n",
       "\" style=\"display:inline;vertical-align:middle;\" /></a></dd>"
      ],
      "text/plain": [
       "<IPython.core.display.HTML object>"
      ]
     },
     "metadata": {},
     "output_type": "display_data"
    },
    {
     "data": {
      "text/html": [
       "<dt><a class=\"ProveItLink\" href=\"logic.booleans/disjunction/_axioms_.ipynb#or_t_t\">proveit.logic.booleans.disjunction.or_t_t</a></dt><dd><a class=\"ProveItLink\" href=\"logic.booleans/disjunction/__pv_it/axioms/27d70c4dc9a93e805fda5ed83f78ec5b994f0ad70/expr.ipynb\"><img src=\"data:image/png;base64,iVBORw0KGgoAAAANSUhEUgAAAHAAAAAUBAMAAACnq6Q0AAAAMFBMVEX////MzMxUVFR2dna6uroQ\n",
       "EBCqqqqIiIgiIiJmZmYyMjJERETu7u6YmJjc3NwAAACgK8IjAAAAAXRSTlMAQObYZgAAAQpJREFU\n",
       "OMtjYOC7wIAH5OGWOs3A2QEGCsiiM8BCTQxMD9DVw2QY1oF4bAUQUQEQwQhhp4MIngVY7ALL8E5A\n",
       "1qgIIq4jSTOY49LI8QBZoxCI6EHWeBSXxhcMyBq5gMawTEDWyOWAQ2MlikY2oCbuB8gamSfg0LgX\n",
       "RSNDAwODNLI0Ay84dKxWgcBKZJk2VI3lDAwqKBrZGnDYGIKq8QQiAiAaGT8Qp5EzgTmBOI1oTuVb\n",
       "wIEizcDSgPDjIjyBw7DxOgOWwMFioyWaRqEeVI2cBjg0ekAcBM8iXPB484XwBTA1+iKSHALwHUDl\n",
       "n8CVq3gnMOAF5jhl9uHVhzVbwTIyPsD9AKcU/qLjHi4JABqGSPnwNDtcAAAAAElFTkSuQmCC\n",
       "\" style=\"display:inline;vertical-align:middle;\" /></a></dd>"
      ],
      "text/plain": [
       "<IPython.core.display.HTML object>"
      ]
     },
     "metadata": {},
     "output_type": "display_data"
    },
    {
     "data": {
      "text/html": [
       "<dt><a class=\"ProveItLink\" href=\"logic.booleans/disjunction/_axioms_.ipynb#right_in_bool\">proveit.logic.booleans.disjunction.right_in_bool</a></dt><dd><a class=\"ProveItLink\" href=\"logic.booleans/disjunction/__pv_it/axioms/bfb499217d1423124230fb33207570e6533348050/expr.ipynb\"><img src=\"data:image/png;base64,iVBORw0KGgoAAAANSUhEUgAAANUAAAAWBAMAAAClEsSqAAAAMFBMVEX///8QEBCIiIhmZma6urrM\n",
       "zMxUVFQiIiJERETc3Nzu7u6qqqp2dnaYmJgyMjIAAAAcRTyBAAAAAXRSTlMAQObYZgAAAx5JREFU\n",
       "SMetVktoU0EUPZ2XT1/yknQhVFAkO7uxrRatxYUBQUuhNKvWXQNWiC784ELED1EEX1VoVtaN9Emh\n",
       "LV1owVVBIbSCUmt54EKlrUbEjaCIlVIrWu/MvM+kCQElAxlm7pk3595z78wEqFm7VxWdpl+RD5Zr\n",
       "QBXJAbHTq23Z6yVmdtb80zgAhPLAC274XAOuOG2GOiI8mC61B5MTozYiFNRdmuq5GnC94l2/DfS0\n",
       "ltjrAzZLE8EM0VqAMVUDrgu8a6Hg3ifFPHbj/BWHKzpFXPfJNDc5OVwDKv0M769S3hotPgpes7y4\n",
       "jC7iiqeANdO8VG2TfLkpWGEZE8qtAn0nxfyB5Wt4pJdSaNCC48CgMMq+c2U2K7YPyKWGgrlwNFXO\n",
       "VW9zJ1aXmy7K+Qk/X40bW7imVByHRInQ+IeUuQFGg1ijfONgHtzhzN41tx9whmGec/aT8pIR85xS\n",
       "G8ZyAYiSyGEw7hJGfwtIyyC67nMFCw4W40QuPMbP0+M2mxn6olPhdTzWevKS/RLf7fhKzeFCrpss\n",
       "30gkOywWz52T/iWhFX2uUNrBGO11x4X5WXozPQnGMGcrXAmKiX1HyTESXCHJpRd7hSNJU0AP02i2\n",
       "fK6wh9HHHS5MSgR4LTAWWMorGvLjFZJ6N6hcmTjlnxfq4IAIAO0C6tnVJAWXXMMe9hR6xoWjGcRF\n",
       "8Wm7P6m1wY9Xv4xoT0lcS7I28EicjEW0CGgB2KlwdXrYBLS8CwdyGBVcDB1OvnhJ4wNBWy0/TnlH\n",
       "FYxZ8k/jmU/wcx75OD8kFt0GRqZ8rsMeZqTGPDhYRJ9pmkniKshbQkh0auPYPtPhiGS7Su5exLlT\n",
       "Mc6hWRgRHlIV9eR9rqMeFsnt9eBAhnSVcRVa1TtKaYHn8o5y27g3oqJM2PpN6OvQtysajrsY8JKE\n",
       "cOBYAQb3jBmYL6h3b5U24yVwDfrQ5eA2PFtpy6YUrrDlYKIEXVij3y1CXy/s/+Jtka/+vBU3GaLq\n",
       "pSPl9p+AiPImcYTytfmtrNLKXJku40LFHZ78+3+At5sNdjlXdyU9WlHbpjmyVkgDs/5rx7//6tso\n",
       "nVLfqQAAAABJRU5ErkJggg==\n",
       "\" style=\"display:inline;vertical-align:middle;\" /></a></dd>"
      ],
      "text/plain": [
       "<IPython.core.display.HTML object>"
      ]
     },
     "metadata": {},
     "output_type": "display_data"
    },
    {
     "data": {
      "text/html": [
       "<dt><a class=\"ProveItLink\" href=\"logic.booleans/quantification.universality/_axioms_.ipynb#forall_in_bool\">proveit.logic.booleans.quantification.universality.forall_in_bool</a></dt><dd><a class=\"ProveItLink\" href=\"logic.booleans/quantification.universality/__pv_it/axioms/db55de05a3dd24c662a734fde09e503eaf8343950/expr.ipynb\"><img src=\"data:image/png;base64,iVBORw0KGgoAAAANSUhEUgAAAX8AAAAVBAMAAABccvPcAAAAMFBMVEX///8QEBCIiIhmZma6urrM\n",
       "zMxUVFQiIiJERETc3Nzu7u6qqqp2dnaYmJgyMjIAAAAcRTyBAAAAAXRSTlMAQObYZgAABMBJREFU\n",
       "SMe1l21oHEUYx/+93N7L3u4lHyqlgnIm0Eho08MgBWnkqmC0It3mQ/FDIUdQMX5oT1uMqBxnBXtR\n",
       "pIeICYXaNUKtUdtDOarF4nFXQdJWFxoRJS33wVIUrIfB0LSSOjO7O/t6ex7qA7c3O7v/mec388zs\n",
       "M0BbC11TfGrjGgavoHMjuk4sUQIu7/d99AUgX82gQcuXgtqQMkn6Jzt7Pg6c/Qdi0+S915/ac5+u\n",
       "68gmQDtyDOizxdV1TwCREvUN52jdr8EAUpn8JVVH7S+03fZibt0E9hWV6TqyEx4AJIXU8fc1iA0G\n",
       "MEOntRAMwJ7POEc0TdttL+Y2VgW+SjFdRyalPACxsBZSSK81BkAHlo1wAAAb5HOOymiJtttezG1z\n",
       "hvyqTNeRiT0cQD44mTcAEmUC8B7zTZ6fm5tGG4DFubkPc47KaTaz7cXcDpHf3gymO171P5sAwgGV\n",
       "z4C0nQAkM9Q3XC8WX/bRVe0A3cXiwarjcZ8emi3EPrZKgm1J181ueHtjKnDUeyceqJk3dRPghGqF\n",
       "0MgusjNKaQbwJDDl00jaDhBRECNz//By/TWjlTd1gBZirwl/AaeqTCdW5eeiDQit187H+CGVN28u\n",
       "mwAT1hpYd2stDakGA3iQLedggHCa7QZyDyQjkl7SAVqIfT4my+frA7pOUqUb4ZIwlGv58jy+Ux8x\n",
       "b06ZAAXbIpYukcFI5BhAFCH7Di/sO4u7si4A5LCJlCJZhJp65VodwCVubbEbXCciRn0JtwZQUbRt\n",
       "XwaAcOc1YgYACo+RmibzTdKi/OWP6sP4XFK71PrQvqGyDeACaHdRTe/bArCLgz8DOUuH7lQwAPCH\n",
       "FyBunwEUIhwg3tjFN/c3Dqs4k0pL7hDCuwKZFJwsoV91hJAurt27wZttOCvH0pYOY0obAOFPcrn4\n",
       "fS8VjZgh1GMHyCZZC9Q3TJHPsjw82kcjmlil8pYXIPYOfXNH7bw5LcYiZuKQuieawTOuoGeVjs+A\n",
       "oUuom8nTIIDTJFAHsHAH1tsX8T2OGVjkixifkZbkbdqakp7aVKRPdnsAElto6Vurj7oBQMUCfgN2\n",
       "3+4aRFpp2e8q1+0oH8IRfQZOkh7FVegFfhe+GWvGtfhsDnThbDUBomWeSlSlOomIrqoOQCPycD+6\n",
       "VZE5XUG17gHQg/JVy6ERA4CFM1bI70X3OK7YyvffGue6Y72zw5oOEKWi56lzWfMyqUIcH+gjGWIk\n",
       "FaZRc8UEEJ/e7kjmkFR032Q6OOPYBuGFYvEAAThCF6biBPiJlm66UwlDLDQFLwCtvHhm0VVrpRIs\n",
       "hE5782eeM65RuqoKxBxPJcLfTObtr35g+MbsNmwVkNVnIDzqTiUMl1bcyZxuR6WGxABm1Pjr5oVV\n",
       "flpwb1JWMpfIOb73vDdeOoroo4pfMse3CZtv8Sb2V/A1LS4Ai/4Ag0u2TGzKavfYQm2eAewsC+ux\n",
       "s0QvZVYZUR5392p+uONbllMQvRnFLC89hNAF33TaTDgaNt/CWWwkmzxZJuE8yRz8AbwHGrvRELIS\n",
       "U70UxaaMV2ebD2+7mg+wP0Cs5PXtbrIGvFlAvsWRst9+pBxdKrPzn3USpHODL7V/d6SUSUOD/kfK\n",
       "H4lrVzP4L00OGtr/yf4GGa1t6rYvMiUAAAAASUVORK5CYII=\n",
       "\" style=\"display:inline;vertical-align:middle;\" /></a></dd>"
      ],
      "text/plain": [
       "<IPython.core.display.HTML object>"
      ]
     },
     "metadata": {},
     "output_type": "display_data"
    },
    {
     "data": {
      "text/html": [
       "<dt><a class=\"ProveItLink\" href=\"logic.booleans/quantification.existence/_axioms_.ipynb#exists_def\">proveit.logic.booleans.quantification.existence.exists_def</a></dt><dd><a class=\"ProveItLink\" href=\"logic.booleans/quantification.existence/__pv_it/axioms/b1158c982b19e0b500691ab2e2adc894a9b7e57a0/expr.ipynb\"><img src=\"data:image/png;base64,iVBORw0KGgoAAAANSUhEUgAAAlwAAAAzCAMAAAB1/yYkAAAAOVBMVEX///8kJCQNDQ0oKCgQEBCI\n",
       "iIhmZma6urrMzMxUVFQiIiJERETc3Nzu7u6qqqp2dnaYmJgyMjIAAAD9T1yxAAAAAXRSTlMAQObY\n",
       "ZgAACnVJREFUeNrtXYmWpSgMdWZkk039/48dEVSW4IL4ntVdnFOvq2xMQC4hJFxf0/z0wrquE81v\n",
       "KShkenT6JzS0Hadyv6WaXL2j+wXJjSJYHTkylKMNGtp64FJCCHkbW9fh+QuuN4CrIUOAtQkMqiK4\n",
       "aAUhqKCrFlxiKX/KoPdPSleiOriafogu0HeBqwjrFlyY2dLKH4mlno0jn5o/YNt+yR92VEV1cDVc\n",
       "vxlcsiXF4Eqe2k8ro5343M6O4eFuyKE+uOLhexe4OG7+WnBRtxlSIzKGDD+tT6Pq4IoXnleBS43y\n",
       "7wUXGon714Ds+diKbOuDqwnjGq8CV1c2Xf8McPHRtd+ATHxgBzyQ+uBSo3gpuPpR/MXgci6XGM0M\n",
       "Q26aSYSYIGhZwoosVE6ExvXBFdqHN4GrK9wgWXDpzpbxE+C6q4PmXC5lFxZu4xBy+qPvUNPNwKMl\n",
       "zycUAUQOAnDpwSu4yEDIV4KLjuQOuKpbrqg1CGvtwgTN7TyEIqnLxfSkAFkNnbJ6pAl1y4ZMfaIY\n",
       "l6yVvoioDd0DlkuO6JXgwqVNeQhcgZ0Qs4dCbZigggosEpfL38y4Pb25xNd2kBJwhSLCyfwAuJph\n",
       "eCW4WvZecInWSsWmjbRCqlfGnR2DXngBo80UkFIvf0SfAxfy3JL3gIuO/XvB1bm29eZxsRp5rihI\n",
       "SsfAw3HL4vwf9C64VhE97ila9gqLuLzPVYQ64Q3je8CFij1xAFwaYYrOgGCnogcu1K6N3DYQZ1XA\n",
       "VVEf9T7wwpxDr6TVaD2xInD5InrSTnKdEQYd+howYC8EFy9uSQqu6UmyoenMeLHduKxXcQ9c6yTG\n",
       "wxKDOq0io0SFYzqE8WMbJiCjmsNfLoftwCVd0AL4Jb3kixASGQmLJqwfARfvfHBtHljf3wdXsbSW\n",
       "3wPX4EIRxueeWjLM2qnez2OvFffBtR5Ta6dfCA/uPFKRUUL87uJhHJnvGFkcSYaQRHh5kIvl6jqn\n",
       "sFtwsf7iXbKVQhFGB1km8UAfAZcefXDpdX0f5H1wlUqTI65juRY8OOPfHbUiuxp7o98iz+Ui7KoK\n",
       "SAkd9vsEtGpdFtWZJwtVMkM0Gax5oKSTVhtc/eYkTuASy1MU9055WHCVSqMjqgkusxWiZ0beVeyx\n",
       "6nudAxdjjezVtGec4xH8ogpQCdkfUyhxrZaOntqtasjZNq0lyloB9Ay4vIE0PtdiYjajc8fnKpSm\n",
       "RlUNXNND1IN7vHbkBZfxx/yzVlSIx4I8cMmWoqZXNhs3T/lUBaRjR0l/gBAemy6BO7d0yjPTEKo0\n",
       "AxrpeYl84shNvAQZcPVamnI3WerAVSjNs6a3wSVZTzTScht52irzIbwPc8mrOG3movSK/5fEXE/m\n",
       "y6Z9jMhUBaRjRwk+SEfsHBY85cseVeLiIXA1Iwt2iyM35S4NZNktlkkrj0Tsn6Ff1izALqpICOpJ\n",
       "Dlzzo2Ju24YUrALSkVUyHAaMHj3m3D9wzHkBFw/AZUMw/OTo6gNwBdIIH5nGfNut+ym6cJMhHwAX\n",
       "RSOeh1elnQsumYi50v0euMQ4uH0hB1VAOrJK1KPQuRT1rA2udgjARbC/CB8VfACuUNq8wWr0sjXx\n",
       "U3Sh1BvgOsFb7AsWjjSC4ywb6U+vRBklEr8DWYa3WB1cXQCuee6j7MOmHTZkQuRir0fgCqUxZhc9\n",
       "iy0/RRcWNjYvKzvjr+6mmNDPZJGcm+ttCC5jqoHFRSqN8fRfis8nN9xqdgiuQJrNyrm8fJCiuw2u\n",
       "X6b1VyydvgguMRh3NTHpXAkpZwcBGUhpk5bAuJt+1B64fGly9tOR9XnDFN3tZfGXDPtKH62LlsXJ\n",
       "/WbEBe/WxDlZTZSiigq0ePKHlmuTZnJb0y58CXkFKbrEoRdXt01/BLhyvXtws5hd1LU8cY8DV94z\n",
       "iBz6qepyytFLnG8AUHTS29PT4FLbmUntwyhI0SWhCHo14NM1TbXE6LfK0ruPcmIzp5KEN1a48wpr\n",
       "ABJt9mhTyyJwLefJvMS5t6Ex+QK9HOg/AS7vdFrARAxSdPEanDvknGeHmpbWSox+q2y9+yAnNhMY\n",
       "YMkIKJTes4ArG10II/Tz2C5DsybOaTcHQzmy4JrMdHcaXKu0JkjqBCm6uB8ZcO2wQ+c0TKXE6JfK\n",
       "1ruPcmJBNhHwBD1wpbnIDCVJbm86Ss5zbYlzFliuhlAnjB6Da4tiLJ7UnGkLUnRJTXhZ29kPdr7B\n",
       "upkY/da2XWxuwQc5sRI6OwccfPTBlZBoJXwAL0pcB/DdEud6VWYzFkepVgBcaBgdE2FOvIUpuqw1\n",
       "DdrTHewWKyVGv+TNb63+LCcWmN+Q6ffBlZJoQSPhn0CIweUnzrlaghtWDLsMrkDpopHBO6EOXMMR\n",
       "PgpF1EmMfqd4vYM4sRJhM7qi/MU9OQk6faycHoArIdFqcGy8bf/uMWfkfK5zZR9c69Z1S9HFgS7o\n",
       "Nt4fgetaYvSWnbl3O93rHciJ1db7naOCRYzYQELg620z2XEy/vsX4MEG4ErO3PegOWDBSdRaZR9c\n",
       "G0g4fGS9B6Oojgbj7Yx1BK5ridHDQiLTUo8JmxJhPZIPxIkVygYEOS9lxHoSorZ0ZwxXCK6ERKvA\n",
       "JnnH1d9ELQPD/vGIeAHibvsHVQtyBWzFukzYhAjr9Q7ixEoXvJk95FJG7CYhfNjxBdDnCcCV8Bwp\n",
       "tNYIT9fbSbEnwJVJjN4HV20mbEKE9XoHc2KJgZylHRaSFj0Ju+CC3YoCcL2TFAs7XZ06BBecGK0A\n",
       "rupM2CQyuvYuw4md1zSbkS0E1yoBJMSuPtc/LciDVSkjyRsAsEkes+xN4CJQGDVx6FNwbalMMr+u\n",
       "9wQZZ6fiBi6ACXtaAVwzWbzX3sGc2Iaz5aMUXKsEkBCbh32xQ//SF5GA735Lt7s0AdeaytQmb2XP\n",
       "1sqDTdRScQdcABP2tAJYg2K53oGcWLsgExtdjhmxe9zYrdIqASbErlMhE/AJwJWQaLGGVsV3vkIJ\n",
       "3C+SoyCqN1uENLURP+SprhV3wZUyYU8ryGggHO5dhhNrKa3YOjEJIxagxMaM2EACRIhd51GmN8GR\n",
       "24REO9ADx/lVr60EDkscpn9mVEpvLs2jdLRyrRV3wAUxYU8rADWkRNhc77zr7njSDUaslQARYlfT\n",
       "f2Y7EpNoJTDv3/vaSvCFuweJ6+gKcc04GntXcZcKCzFhTysANaRE2Fzv7HU2mCWOhEGlS4zYTQJI\n",
       "iD0wXKHIM4nrMAr7rleFQ29K5OICuOjkYDTNDhXWfiwVd6mwKRM2UXBRA5CdzfVuvm62qzZDUsqI\n",
       "3SSAhFg3p8/g9dSRGxV6C+8ClwBk7B8WjHwEhviwjX2OprpV3KXCJkzYRMFFDQARNte7+TqZ/KX4\n",
       "gVxjxEISEkSfMlwJiRaYFu/+kgMwo3D+mLMUyy5+hwprrq0VD6mwIRM2VXBJA7R1/8Ix5z6CBbl0\n",
       "jwNXD5hcFi08LwMXRDo773Mxbb86a48KO19bKh5TYUMmbKLgkgb1Iw9iN/lAYwzAhKP+tq/EY6gc\n",
       "XKSPvlAvR1NNKmbBFTJh0/suaHgLEfYpcD37lXh1vswTn35hePcEbzGPgLtM2D+BCLvD0JZhXNl+\n",
       "mef/YRmHMU9p4loAAAAASUVORK5CYII=\n",
       "\" style=\"display:inline;vertical-align:middle;\" /></a></dd>"
      ],
      "text/plain": [
       "<IPython.core.display.HTML object>"
      ]
     },
     "metadata": {},
     "output_type": "display_data"
    },
    {
     "data": {
      "text/html": [
       "<dt><a class=\"ProveItLink\" href=\"logic.booleans/quantification.existence/_axioms_.ipynb#not_exists_def\">proveit.logic.booleans.quantification.existence.not_exists_def</a></dt><dd><a class=\"ProveItLink\" href=\"logic.booleans/quantification.existence/__pv_it/axioms/5be848f168290ebc7fe07208b0eceb0d22a415470/expr.ipynb\"><img src=\"data:image/png;base64,iVBORw0KGgoAAAANSUhEUgAAAh0AAAAzBAMAAADBd6e7AAAAMFBMVEX///8QEBCIiIhmZma6urrM\n",
       "zMxUVFQiIiJERETc3Nzu7u6qqqp2dnaYmJgyMjIAAAAcRTyBAAAAAXRSTlMAQObYZgAACnRJREFU\n",
       "aN7dm3+MFFcdwL+3O7M/ZmfvLqZYuapZuISSE7xLqaAt4IIJh9GW40ya/kG89ZQzmEoXwW6vpXDV\n",
       "BK5aZdGm5TCU4WqoRQsX9Wwhxa53VRN61DWgRgv2DFVjE9sNR5G7Us7ve2/em5k3Ozu3ZZaQvsvt\n",
       "zs77NfOZ7/u+749dgJoUxYD3b6mbni74tXmJH0Ryvfhaf53yaM+VuRMtw9716enGGfE4OuB3e7qY\n",
       "Jmp7vQ5LPFPm5J0ml4EfzYxHh2+TeWDjER8YeH7gWtxbsarmibwXj+S4eaAGxCPRaOcR7unZ9qUa\n",
       "Lpg/T+/oOYfj/6TKfhu8eMCjAfM4kAbnetkQq6UCuQIQawL4T5XdDnvy4NcfFI9vg8QjW0se6mWU\n",
       "yPOQbKuyn57y4sHlOyAeiSmJR7yvljxCF/D/MkTzVfbTGr14wNZAeUTbJB7JVC15xEq4rV+AJ6ru\n",
       "+LonjxfzQfJ4LS/xiHTUkkcDbgf726AZDwfnPbYgVVEm5m5YOcI/jHryMJ9oQDzuBwcPPbc9t716\n",
       "Hn7iL66iqwAJFPDv4d0Wkt+Ijlfq9DP4S2ob//B3weOVN0k5Z+24UwHyUC+AJB+HYUbyYWr10NJR\n",
       "bK37tf4lP2i9Z+wW7PAg9jH0KSUPap9npxPwB+Oz/MNznvKhnQ+QR7hR5vHCzHiw24i/DmoTsw4q\n",
       "T8MFaBcb+wa8DYjhGOqirGcnA/qtD12ePODNAHnUZWQeL1fDYzfe52JQfV0k7mbA/4DzQF1CtIeS\n",
       "rdDt/Ix4tOaD49FVlHm8UQ2Ph/D/j6iCfZub9pc6wd4fpHN3+PBQ37Z5c5L++JdVtb8YHI/WvMwj\n",
       "S3iMfGKeq6Pe3Lle4hEi19BK9bCjkhdrmIWW+UEK6tOE0QohoxKPY6EStMCpP81tc+hTDxkPhsfD\n",
       "IPHASWNGyNgYTcPXnE1bIuNbJB715EqWE2uCVkYkwWLD0PIr9lY/JXbPNUO7YB+TjyO4zWhoyNMD\n",
       "8Ul5J1ZCt+/0R2A2nl3qzSOWNXnQ3eqsH496uil5+JMfknjENt2Y22So8F+AdU3SnllflNdLA1Ec\n",
       "H4bVrFL9jcSDDsPKaqZW37qY4tJ/cO7gsiLjEX0AT91HLiDDX3IGaN0tzWchPpgFAvGf3jz0ksnj\n",
       "ZbbefXjoQ95BHm1Clg9TF0zi/wOyLZWXedTh3SUbYZVZGXVNMskPvijZUGIoul6Oud0IMVQkpeBK\n",
       "0LLePJJvmzz2UHfDjwdtscdDY52XeTCfTi2pbh5d0JG8/WzBxiOSeXZodxruZpVuHmSYU8fP4NEq\n",
       "6RbaHDzc+5Nuu4NwoaOCP8dvAnmQh06ffmX98QbdRct7c+/IPA5Tja2P65THHiP+HfqCf6VXoJCY\n",
       "D1kbD21W6lV0LJ4GWkl5iB74Qof5eR8Z9ow08SPiCnA8zW22D1q7B0Q/11HB3+dCjjySJw4desJf\n",
       "n545dOiZbCVRs/NQycHB0yMnKI+1Q+psWJtXZ6s3aV///AID1nN7kr099WgP2upRg1USHqIHHtFh\n",
       "Ih1EfG6VJubxoPgS1ChJ94VZqmoVhE4yfl484CLfXy7192/159HQ37/Tw2IKTco8bIWsFyF9CfaW\n",
       "DZ228wC4C7eAkNmKrhdLXofMQRfiHjN+dfHCZL4Sj0ucx3qb4NlKwckDVWQMx1t9cXQHXeDNY7eJ\n",
       "ZTrlzaNzYojFLWk5atqZiZNOHvv/YfAPauvtYOthHh2EF4qQqO72PWKuXjw+ynl8BrRyHmKbk4fS\n",
       "RpcfbgQ6WTZPpmEtV3zhCjzocykjwE4eMWKT3FGuh30VPAW15HEj5xGFkP061c0vwZyMiweqwIV0\n",
       "MwA0+CCO1k2YjxwpOXjQ/MvMiiPgl/Dz91sCwNGe8+KxifPQi9Yj/enoMnheN8KGm8dJuilEi9Sj\n",
       "xDciKuV42MtXc3m4Pos7LyV4xMfvEtL53b0GHE+16TC6aPOiIQePJ1VC9kgebkZYc4gaLZVdL/aS\n",
       "heu2uNZNTvgvj3wFSSzrbCaqBMvw8A90t/6A2OPEi1gzMkYwEccwzLWOPvl+4CH0KfwCLzu5oliX\n",
       "ZxvasP7sujI8Ekuon8zOXCZnucSFHPbHPiePASy1XzT7qmks8nRH7Wc/KHiQkMrem6HB0CiDYSiM\n",
       "luHB4ipmouUDNGTBV5k9XKj1OXks7unpaaoVhuS9l3o23iZN6l94ni5if1ATgkeSbJzdsALU+/v7\n",
       "v4U89kXL8fgbeTFN8x7t1fgNgredR33evV421EwuSKT9YcM5qX/hdrvdztAuO+Mfs2CpChkmH0qn\n",
       "PZptj3+oRFWgW3GgM/nrtDj5rm2uU3AteXThmn0x5ZzUvwi/bqSMP2eqlxJsGYbfksPTLsfJ4vHx\n",
       "CXwS6k2gffJ3mbhT1MzSe015tOJDaS1Ab3W9RJ7ugOyUCh5KBhagaYF7h7ItDZHK8THihqgZS4dt\n",
       "s6nt7DXlsQv/703Hq93HeJ6uPm3JzGS5eOF81B/+8UKil+NXLC35aZtv1xYEj3jlalUcXcG2E3TS\n",
       "wVsgXlFv2xvwPJ1uXW2k9N7jp9S832mxfc0K4cSKEo/f53K5Sf8pFPOduYkFnw2TT00S/c8V6KSF\n",
       "FcRAvNu7E2vACo8rJy2FWtcXXDy5y3LPo3i4BBHktlYnHzH2xtzEiN928SkujRfHRlvopPGh5ehI\n",
       "fGGJt8jRBuYHnqdLWAttfyo4HrZ8VB1/dI+/Fx6mm7jOr/VB3muKT6qhSYR2VLu3DmUNeNCS8VAt\n",
       "zyvIfFS4FBAP001c79ea2xsNWTGpMkVSU+0VVuQUy1158NgJwfFQLjjWSxkeKzOuwDIo82yxY8bD\n",
       "dBOzzjp3Bx6g6GoTk6I3NQcq8aANzLwUz9PZ8lhB5rNhs1ufOnkUpnAmKTWlNxhrJflgbiJun7RO\n",
       "zkxZHRIZy/wwJ41lYEdFHrSBmZdy69NQkN93sG0wYgdT7TziP86G+uTU1N52mC/xYG6i0kfrXJkp\n",
       "q4NiKsa3DDFpOKO8y3g4EnVWxo404HkpnqcLFyQVGBAP4epKmVT88G/ca5pw4kjKtWKWotPk5MHc\n",
       "RLQNaZ1rxYgOKnuuy6e7xaRad/Mk4+FM1N3Hz9AGLC8l8nT14saC/b6U7ft0vWXjH9E0jiHz2AKz\n",
       "RGoqZnMTSTYC69w8RAdFCl70mgqCrRd3ou4Y1yAsLyXydE+LFuY3hYL6vuW5iv4c8uhY40xN4Qt8\n",
       "UymJ1BTjwdxEcrlY58pMWR2SksGGk26EI2lqWJSz5sgZ2oDlpdz+XKIpWB67RYtYvhwPpfv7ztQU\n",
       "HsGq+eMiNcV4mG4iNiR1cmbK6hBOS7oyDw8Beho/3N5dLlFHz9AGLC/l9veD/j6uZejJ8SBWniFf\n",
       "1nCkpmBIy+O+wFNTMa6GiZv4MaB1cmbK6lAv33AfrGzmF+lO1NEzVgORp7Oe3ZchWB6w2CteyMo9\n",
       "yriUmkrkI4U7rdQU50HdxBiQOldmyupw/KrihSJP91dxpq86Hv6/94ikKsaT7xiTn10SlDMFl//C\n",
       "3ESlKOrKdtCq/aK2Xzy52t97zOD3QLeWO5mbcf4l7AooVCgh46pxOPJSmmkpkt8D/R+TwxRp4GTU\n",
       "hgAAAABJRU5ErkJggg==\n",
       "\" style=\"display:inline;vertical-align:middle;\" /></a></dd>"
      ],
      "text/plain": [
       "<IPython.core.display.HTML object>"
      ]
     },
     "metadata": {},
     "output_type": "display_data"
    },
    {
     "data": {
      "text/html": [
       "<dt><a class=\"ProveItLink\" href=\"logic/equality/_axioms_.ipynb#equality_in_bool\">proveit.logic.equality.equality_in_bool</a></dt><dd><a class=\"ProveItLink\" href=\"logic/equality/__pv_it/axioms/952c87f74bc585f0ebca28cd7a6f80bb546ceaa20/expr.ipynb\"><img src=\"data:image/png;base64,iVBORw0KGgoAAAANSUhEUgAAAKYAAAAVBAMAAAA++IifAAAAMFBMVEX///8QEBCIiIhmZma6urrM\n",
       "zMxUVFQiIiJERETc3Nzu7u6qqqp2dnaYmJgyMjIAAAAcRTyBAAAAAXRSTlMAQObYZgAAAkxJREFU\n",
       "OMulVT9oE1Ec/oyX3OVyZzMoOMmRYuwgVIR2aqsiGBA0rYOTYBAFXaSI1UGxoYMmgvQEoUURHx1C\n",
       "6SABBweX0DpIVbjBscoJOigoVRTUqe9f2t7LezTgD768u++997vf/wAmyUYCBsmFZj5mD+81m/MS\n",
       "JrmkvO/bPf3x2mHOv2bvXzV3vkiY5KlKxKfcu8Ocn2VuVjuv+AcEjOIFClE9gb0O53cQujQ7r9ih\n",
       "gFHcvPz4neu32jpfOJz3lxcWZjRXZiTM8on/pqfIhp0v5wX/p1a7qbnRKzFXfLBf8dLtDXCfYEmE\n",
       "lWz4bk1coCvl6VLX6Lwn4Lb8KzarDe87FxZhz8qjH/igpL96ZPIHzTvjj8KNNTpvCHjE+2cpYX20\n",
       "PUYNeC40bc7R2xVw3kZKV9k7BVw4HUVBtgX4CZzl4dzDrG/rdKyI815kw6wT6Ak69sok/VvqzCbs\n",
       "dFDhfDY+TYnFgeIoYBVhk4Tv9MioKEcRzwp7HkGKFlKJ8/nNOjOsLRlfPw+kyGWbxtfrIWPJHOVI\n",
       "P91U7LwNp9LO0cGEnX5L8M/GaVjwjdEPS+iTJ5YEys1pPFZ9H0SZxm1I9MZ6v8Rn8GYQghcB+8v5\n",
       "IZyTJ0oCjcLccEcKG4VDtBQ+i2K9eDw5QzjvM9fSq2m2cRW7uurNEapsXDxar2RvtjtC8njixR5m\n",
       "CSas1a1nSCZ2f2lmiDpbGu8WlzHWxLG+9fqvQ99g1PzICTSzTj8Dm27oRFvPZKswYPyeyufCTOtk\n",
       "t/8dftgV78NaaeH/ZQ3wb6WAciBaNgAAAABJRU5ErkJggg==\n",
       "\" style=\"display:inline;vertical-align:middle;\" /></a></dd>"
      ],
      "text/plain": [
       "<IPython.core.display.HTML object>"
      ]
     },
     "metadata": {},
     "output_type": "display_data"
    },
    {
     "data": {
      "text/html": [
       "<dt><a class=\"ProveItLink\" href=\"logic/equality/_axioms_.ipynb#equals_reflexivity\">proveit.logic.equality.equals_reflexivity</a></dt><dd><a class=\"ProveItLink\" href=\"logic/equality/__pv_it/axioms/c5ea3c76967d7af1bd2d3f2ac2682be6168eb9540/expr.ipynb\"><img src=\"data:image/png;base64,iVBORw0KGgoAAAANSUhEUgAAAGIAAAAUBAMAAACE8PXhAAAAMFBMVEX///8QEBCIiIhmZma6urrM\n",
       "zMxUVFQiIiJERETc3Nzu7u6qqqp2dnaYmJgyMjIAAAAcRTyBAAAAAXRSTlMAQObYZgAAAUFJREFU\n",
       "KM9jYMAAnBcYcALuCQwMD0CMu8iiKxjwgEwGhtMg+hWy4Et8OtYxMMwAuaMBSYzXAJ8OHgUGvgVA\n",
       "agOSGPsEfDq4BBh4T61aNR1ZbDoDXvCEgeFHR0cNspAyEC9Sm6KjgKYUKnaYgSGVgaETWaYXaPUB\n",
       "3iJ2UCDyvAMDkM9gYvcYGJwZuB4g66gGKlzA84sFzTswse1AnzIwoUSZCNA8Bo4GDC9DxeKBmi+w\n",
       "M6DpYGDgV8D0M0QMqIPzQRiQcchULQDuKqA4hAP1RwIDQswdiDtTGBiYFuSxO8B9zr1AHyiClqKg\n",
       "YkCfM2wuYGBgZXgLkwIGn/+Gfoa5aG6CidnA3fcTJgW0dpnSIlv0BAwTewpKSCD7WT+wEpdKCqCM\n",
       "+TwPeIhNiVA7rxw6BRPsJJDaMQHeHIXVOHy5lncCAwDGgVl+SYhJvAAAAABJRU5ErkJggg==\n",
       "\" style=\"display:inline;vertical-align:middle;\" /></a></dd>"
      ],
      "text/plain": [
       "<IPython.core.display.HTML object>"
      ]
     },
     "metadata": {},
     "output_type": "display_data"
    },
    {
     "data": {
      "text/html": [
       "<dt><a class=\"ProveItLink\" href=\"logic/equality/_axioms_.ipynb#equals_symmetry\">proveit.logic.equality.equals_symmetry</a></dt><dd><a class=\"ProveItLink\" href=\"logic/equality/__pv_it/axioms/dc5fd1b38839ee086acbd549e56c089ff0c30ea80/expr.ipynb\"><img src=\"data:image/png;base64,iVBORw0KGgoAAAANSUhEUgAAAN0AAAAVBAMAAAAwUfbwAAAAMFBMVEX///8QEBCIiIhmZma6urrM\n",
       "zMxUVFQiIiJERETc3Nzu7u6qqqp2dnaYmJgyMjIAAAAcRTyBAAAAAXRSTlMAQObYZgAAAmVJREFU\n",
       "SMe1VjFoFEEUfbns3W42e5cU2i93EEIa08RKzhDBYGOSxjoELWwkhRaiiJXcFcJaJSiSsYkSLA6s\n",
       "tDrO7gRdUJCAwoIgKBiOoKDYuH9ndr2Znbk7kXx4cPvf+3/m/vz9s4DJJkIOkz3X+B4OlhMievio\n",
       "ETwRMFkpyLnc24PlhFf08FUj+CJgMjfKuSrBYDlhm0qn2Vd5nsNsnZzn7TB5jAoDvFaetgMOsz3K\n",
       "ea4Pk8cod/f2tjT0loDZKotqh20OkxN+Nho3NXSNw635uMeUo6heXoor46nVLsxnnCTnKUhOuAQ0\n",
       "Nevd5fCsaZyg59cHZJ/o51O892/FlYkUvxNmHLzEfUBbEilITjij6zTgBseD8QgNheriDTsHTKrl\n",
       "s1sZ128iBckJNgq6t/oYBxvzcahQjO+g2FP8Y4sZJ8l5CpITvNCGeT2ssOKPHHloXA+53aUp0vUm\n",
       "ogv0ZizMrALWDGwm1RN1FKb/ntPnhOM7sDYVP9VTcOn5rSNLQfIkpHkxbi12xY53502xNblfcAfO\n",
       "urLfF4Ue5tJ+6TPqF8FJxlOk/YJn8aJFfCPm/jJmheilwEmsKMdr/XZ6NMjH20reuNtTTjKeguRJ\n",
       "yJRPzl8JdQobQrQssFs9rUwZd2OuRgO+sqrkjauVcpLxFCRPQsosOfwiUVdxPDfP6oaB8Xj0eVYX\n",
       "8ixkx4s8bDNcs3ryvC5F7vf/nNciRac/ZPddp4u1Fs7OZk3QTGCHjj/yfeRo5ztPkd5H/dZyAyeU\n",
       "71urumD4e86o9y1PQXIlZDIotc+P/D2x/2/fE/v5kDKsD20crf0BIWnW/FCMiDQAAAAASUVORK5C\n",
       "YII=\n",
       "\" style=\"display:inline;vertical-align:middle;\" /></a></dd>"
      ],
      "text/plain": [
       "<IPython.core.display.HTML object>"
      ]
     },
     "metadata": {},
     "output_type": "display_data"
    },
    {
     "data": {
      "text/html": [
       "<dt><a class=\"ProveItLink\" href=\"logic/equality/_axioms_.ipynb#equals_transitivity\">proveit.logic.equality.equals_transitivity</a></dt><dd><a class=\"ProveItLink\" href=\"logic/equality/__pv_it/axioms/3428c2b74ff8f10f4e2dd297fa42890d69d299280/expr.ipynb\"><img src=\"data:image/png;base64,iVBORw0KGgoAAAANSUhEUgAAANEAAAAWBAMAAACs+WTQAAAAMFBMVEX///8QEBCIiIhmZma6urrM\n",
       "zMxUVFQiIiJERETc3Nzu7u6qqqp2dnaYmJgyMjIAAAAcRTyBAAAAAXRSTlMAQObYZgAAAnJJREFU\n",
       "SMetVU1oE0EU/prsTzfZJB4UBEGCgVKCh1wEQQ+hgkXwZ+NBxYsl2INQJYd6UKTkmBYiudQWQVyh\n",
       "KK0eAoKgUFhyTKUGFVSIsKB4KFSCIPhz8c3sZrOu2djAPFi+mfeY+d6+980MIM7uhYee02ezwUcR\n",
       "RLFyeEypARtssCWCKVkbkAX90DKhVhbB9GZQsEGZmIBeF8F0Y1DwAZBorq0tiSDSSgNLmwd+VCq3\n",
       "RDBFctSOA1cmGsHA5G65BZ2i08B8yGJpGKbRFvAE79JzbLL5ldknLoZq5jCVjiRxjAuj/+JhmFRq\n",
       "dhOvzBNB2XHBxam2KiItEUwj1AkTlT6RCyQ6uUPCa6kQxQR869ODKThMmn2O6f3QmEHOMaiUAJa2\n",
       "FntMeubstLtoYgo3e8AVN7dq9KoH+bszcfr0hY+fcTqmzPnLJBzzmko56SmzwPxH2ukeU1axZ5UK\n",
       "WRXWL3kXeRi4nuh6w6eIF5EOsoFfiuegOIrAU6KTsc28dycxzsOPfdUzkt0+aiulSNkDt+HdU086\n",
       "ln6PdrRg08+3X38GohYNUzz/n9x9FEW+PO/vU8q70KKWku4BtxWvHSXEitnMP5d1LrGfdkuyGidM\n",
       "3jGZuWexh8EiLvqYLsFQWNm3oeZH2AoGrkczZHMnt9Gj7uC+butYNnFd6hBoM+tlj0nrbMLqnhnj\n",
       "DLQFDq7d2Xi/0xvWsYdvG00U6jg+bhMk5L2mxxS7evJgN22peBvyPg6utQoL3pn4z6vht3qsxhRU\n",
       "Dz1Pq6iSmBwY6iUMZBGvKdZpBqFMM5LNXmoOQ73uH/6eJiC1LQahTKdesoI5INSiIjf7A4jqrxun\n",
       "Ivq8AAAAAElFTkSuQmCC\n",
       "\" style=\"display:inline;vertical-align:middle;\" /></a></dd>"
      ],
      "text/plain": [
       "<IPython.core.display.HTML object>"
      ]
     },
     "metadata": {},
     "output_type": "display_data"
    },
    {
     "data": {
      "text/html": [
       "<dt><a class=\"ProveItLink\" href=\"logic/equality/_axioms_.ipynb#not_equalsDef\">proveit.logic.equality.not_equalsDef</a></dt><dd><a class=\"ProveItLink\" href=\"logic/equality/__pv_it/axioms/a3a7f51063b1d64eb6fa6e76b227e8b1a01690ba0/expr.ipynb\"><img src=\"data:image/png;base64,iVBORw0KGgoAAAANSUhEUgAAAP8AAAAVCAMAAAC+CcgcAAAAOVBMVEX///8kJCQNDQ0oKCgQEBCI\n",
       "iIhmZma6urrMzMxUVFQiIiJERETc3Nzu7u6qqqp2dnaYmJgyMjIAAAD9T1yxAAAAAXRSTlMAQObY\n",
       "ZgAAAqRJREFUWMPdWOvOpCAMZfeTOwj4/g+7oINOoUidTHaT7Q9PYgknvVJg7ANxEeJIgsf+ru4Z\n",
       "C11xL5UXYjr1kbqttxCHBiT8v3ZPWOiKmVRegGGt6uSJ+yQHccgnBwakJyx0xdSjCUFXvemobo0C\n",
       "4jD8ww0Dp7PQFXOpvABr2K9EmIhxEIfhV8NALHQWuoKQAAuCMfgizlCbn4H4PPzZ55LKQleQakoi\n",
       "uNkiJhD34AKi51w7ybuctiD8nouywC17tgVBZRkqRrRtyFFegEeeWmpa2QjQZ79Fw5mpTS2kXX5+\n",
       "l+9pRWCyJBvfjhq+OuBr+SGiYxnRd7SDjXBegFKQe/JefyvAcsaHzTPp7sLvViYKgz2KYjVEFmFO\n",
       "CSTatlpwXojlw8kzxSIB+mv3d1EapmFeX/JwO9JVbVSWyxJNoe3SH+eFGOLhg4/sZ9fuIPxtXGQO\n",
       "VuZTX7J/QNsLygsxz2k1XIELxevBJXn5a/xt/rNr97c6/LUcdXhlwZ6G/HXwSIPXv+5YOvtHtKON\n",
       "UN4GrXuNatwznZiRtXdk36nlvv+t/mgu3N/PaFbXD+x/ky7b2X9Li22E8Ta4ipc/skPTSex8cQ9v\n",
       "iwyeIXJbmd3aO4nsTy+hy+LXKjE9bPsTUs1pMUF5W3yrpO0tckWt2yKDueM15/mMbe5OyFWiLBR1\n",
       "86SmZWtuFTgt2gEx3hajv4rq9DTbC2FRz+ffdTC8iHrxIHTbb86/LW+LZ8ZvuYuUus/Da/GIUTl1\n",
       "Prj/IOHPbYX5Tf71+w/K2+KVK1EGXkYLtZQ2KzW3SKeqZ9toZFyR6jY5Uy1/cv8dDqT2SQJgvC3i\n",
       "RmS9w+fQ2fsH9pAgcxWqRwZ85/0D453Frz4O6Tw8pw/evyaXu/iP3r8qb4v44mJHDIH95/IH7kUm\n",
       "f7AhvMIAAAAASUVORK5CYII=\n",
       "\" style=\"display:inline;vertical-align:middle;\" /></a></dd>"
      ],
      "text/plain": [
       "<IPython.core.display.HTML object>"
      ]
     },
     "metadata": {},
     "output_type": "display_data"
    },
    {
     "data": {
      "text/html": [
       "<dt><a class=\"ProveItLink\" href=\"logic/equality/_axioms_.ipynb#substitution\">proveit.logic.equality.substitution</a></dt><dd><a class=\"ProveItLink\" href=\"logic/equality/__pv_it/axioms/072ef8b93fad514df831fd42d7491dfcac1089900/expr.ipynb\"><img src=\"data:image/png;base64,iVBORw0KGgoAAAANSUhEUgAAAOcAAAAWBAMAAADJFJavAAAAMFBMVEX///8QEBCIiIhmZma6urrM\n",
       "zMxUVFQiIiJERETc3Nzu7u6qqqp2dnaYmJgyMjIAAAAcRTyBAAAAAXRSTlMAQObYZgAAAuNJREFU\n",
       "SMe1Vk1oE1EQniSbbLLZ/BwUD70sCXiQQsWiINga9CCIkuDBa4PoQVBYxJN66EmSQG0EQUGEtYg/\n",
       "PdiCB/Fk0INiRQKC6EHZgx4UKkEsSLz45s28/XHTlgQ68L1M3nx5X/bNm3kLMKpluv972fZm3GcM\n",
       "F798HkH0IQ7Gnv3soZ0dQAsxUm3CCn75MYLod7nKyl/20B4PoIUYhku4hU8/O7xmbjeOS0cr7KGZ\n",
       "VpQXZrwg5B1BXh5eVJcJfO558kGKUV6YcZeQe7O4eHOE3aXfvPI8aV+jvDAjXyH8aTSujCBaxuH9\n",
       "jknyFnbeGBd7+zJCUwyjbMF1B0yx0YgzAE0MH+hGfqFtIDonx1/kGZ3cBV0ckC8ysz+lcR6ZYWpF\n",
       "mBD76hIOy/MEZqkTWTi9gehlWX9r5JmO2ddE4p5GK5QZtxMuNEQp2wQd4l3e7WFEt8l20CPPgLQs\n",
       "gJkITTGcmIUPnewRzK6O0YIzgqhpK69gDRb1GFUnueaLZtyTWHbzU0gpnxAphkN1uOSL8iQEAmp7\n",
       "03XlzdRwPBLIaR1CjGmIi4LSbAI0T2P0Iw67Uu5F8dHpJ4u+KE6mGsLmvIA6SDGLvKwzAXGHD1LI\n",
       "FAOuSn11kOAJKsMkDrU8pjdzz47P+qI0CcEAcHUsVcirLs/DHayAaENiBuyDqlgm0SFwOqgECrJ3\n",
       "JDopK5DTgtdQVEDtZJW9+6WFKfxn3yKiiiEoB8Uy+RoBcvIIbQc6CTijV2K1gKiYTGGWVr2Aam2v\n",
       "IdwG7YhogDEt8IDB/D5kWpneO+hkWqDXqv7plZNKiQPU8LP1Vb/1D2z4PiPlGr/9hq+ajw3JMeP8\n",
       "sXEnOQbaqWu+qJxULA6gNUFvueytd7X5DL2btvyrLXBTZfnvwSPOcKROVYAu8Vy57V/nIXVvVY+h\n",
       "lfbigm0Cd/8PNXqRkO8T5zR3sKgKDH5dyW36uvKJwdkoiYEjXTj+dp2OpAJbaYktWvcfpC3c9HKM\n",
       "He8AAAAASUVORK5CYII=\n",
       "\" style=\"display:inline;vertical-align:middle;\" /></a></dd>"
      ],
      "text/plain": [
       "<IPython.core.display.HTML object>"
      ]
     },
     "metadata": {},
     "output_type": "display_data"
    },
    {
     "data": {
      "text/html": [
       "<dt><a class=\"ProveItLink\" href=\"logic.sets/membership/_axioms_.ipynb#not_in_set_def\">proveit.logic.sets.membership.not_in_set_def</a></dt><dd><a class=\"ProveItLink\" href=\"logic.sets/membership/__pv_it/axioms/26c7be80039a2b937552b15c9a26df0b6424dd0a0/expr.ipynb\"><img src=\"data:image/png;base64,iVBORw0KGgoAAAANSUhEUgAAAQIAAAAWCAMAAAAcoWJbAAAAQlBMVEX///9jY2MJCQkNDQ0rKysP\n",
       "Dw8WFhYQEBCIiIhmZma6urrMzMxUVFQiIiJERETc3Nzu7u6qqqp2dnaYmJgyMjIAAADRR/RZAAAA\n",
       "AXRSTlMAQObYZgAAAt5JREFUWMPlWO2y1CAMRa9aoHwEKO//qlLa0gZIy65endH82DO7sBwIyYHA\n",
       "2CfazP5dswEjYZr43dnXaMYbHuwgxriU9jA8LhiMVBCoagLCe8+CZEzZV2jGG6iVN8QIvTs6LjA6\n",
       "5GIxEiYk+mpCnn1cP5dXaMYb+tYhRmgPj9ph1waBcSwPxNY7ZHLPx2nGG4id6BEjPDb/DIcn0xZj\n",
       "d5pG//iuL5sNcRNHmblhGqcZb9h4k12DrE+MMHhYzephLdQYeypgODCDZirjJjXzNqFFjtKMN+y8\n",
       "lRHECKNZTftRF3CBEThXVvJLbMMaWVW+Q4z+ckh6MUpDNhC8jXb2iRGq3MF0o2tOUurC3KrLiZB8\n",
       "FzRnl+jLOsurdOcxWTkKwtnbLxcTDU1f3Wje1mVdYoRSkBqdm1ysUtEh9MnzPgKTJ7/pHjAQ1BSn\n",
       "/Vf3mHf78EIX80O8nTjoEWNcP3jX5xo6I08S4drFoC7zlLbz28e6qY06x91/c3xywVSrhVUjvJux\n",
       "R2KMPlAXuZg97G5dkPuhoM/Ha3XA+CMxf5sLCN7aKGKMdikXOc/FzFXJ/WXykorQguswWC2m5lIA\n",
       "6ui5x6PUfS1QDU3jgnveOgko4gqNVdtK05GiFqbLskGkJJJ9OTrQQRKc7b8l6vimIpcr6j474Vs5\n",
       "vFe91gW3vM3dmCKu0AldSrsl1MR1juBjRaYIW++eqHLRTuH9ETp39mWTxeMZ3B6b8wBvowEUcY2X\n",
       "nIqnwMK8ZVF9TKAQAsU5cIFrLFBfJToQBJNKKHXOcHkspKW+bSB4DealiWsMcKbXWeY716v3hi7I\n",
       "4Ys31UUVp+jAXfStC7K85y3ENZagj0mbsohak5wiTK6w4I0yyTzUcn+yTOoS13jGUZCer3eOeUoR\n",
       "IGyqswXQCyQX+lTQjxXL5PDGvuuBbrFMPjP8ypMJD28u7nOeTOjNu5vI/dvW08PZwxTD33o4O4hr\n",
       "7Hdm/439BJP2M3paqy+JAAAAAElFTkSuQmCC\n",
       "\" style=\"display:inline;vertical-align:middle;\" /></a></dd>"
      ],
      "text/plain": [
       "<IPython.core.display.HTML object>"
      ]
     },
     "metadata": {},
     "output_type": "display_data"
    },
    {
     "data": {
      "text/html": [
       "<dt><a class=\"ProveItLink\" href=\"logic.sets/equivalence/_axioms_.ipynb#set_equiv_def\">proveit.logic.sets.equivalence.set_equiv_def</a></dt><dd><a class=\"ProveItLink\" href=\"logic.sets/equivalence/__pv_it/axioms/f1bd41b5fded4d2b281d2aedb03da28f991ef7710/expr.ipynb\"><img src=\"data:image/png;base64,iVBORw0KGgoAAAANSUhEUgAAAY4AAAAVBAMAAACj/BR7AAAAMFBMVEX///8QEBCIiIhmZma6urrM\n",
       "zMxUVFQiIiJERETc3Nzu7u6qqqp2dnaYmJgyMjIAAAAcRTyBAAAAAXRSTlMAQObYZgAABNlJREFU\n",
       "WMPVV11oHFUUPu7vzOxOkgfRglKGBrSEtlkM1BfFVR/UUsnqQ/Wti7WQCLGrDQatllYK2a3K7oPU\n",
       "gmgnFaoGiYE++PMU2wEl1XSpoFZtXakVFEmXxIaYUuO559zZ3dl7d7vtmwfOnNmZu9/c7/zNGYB2\n",
       "8o7UdvKZciU0n7kBKBUHzHKb9YkS6/lRMhVx7Zx+qbWPFSVa4UtzO/EQodPvVndszqchVmr+WzLd\n",
       "JYxd1kNpRKCrOPCBdrG9a2lg6ADAMLB6ZE6JW3/q4btKrOK0ymbkC9xdjG+vAQhfBqui8khOi7Wu\n",
       "Hkr3IERXceAP/eqb0B/3ZWAKT6eYB5rDIn4tHPWtVJTzK2TOgPUXwCF24lWMzCLACZUHAR5uAaUR\n",
       "Qldw7JR+9XZ05WAKkg6QemSE18h9GnlRKjrr+D9kswBGwbzIZYCX7AWACZUHBfiUHsqXH8bG/Agw\n",
       "uoITD8TPHh/by2f9eP0XB6weIPXI2LOTk2/paZg5VgES+pus8NDpVaZtIMbES5gUaZXHz5OTH+b0\n",
       "UFKe7GvYIqErOIFtRV+tpel+3Pit+Os3IPXYLOfzL+t5hFKsKFsSV+slK7tRdxaiL4hoplQe3fn8\n",
       "+IwGylo3/ADlj9VYkoyu4PSiHr3jzQ2O+DFVr7YlgCeeQXuS1WODDahAt/n48OLJIRlPo8yKT01H\n",
       "F9Q0HTkzLiJjU3rMzQu5IHnEMmA0ZoUP9RF871B2NHYniU44SYKZJ0pv4K0Z+/k44Q/XI7N0bv0e\n",
       "qipWj82DslPYnDl2DyR7ZH5Os4pGay5C025Fmlq3iEaeU+MRSVErqae6hJqF0+4jRKzhpkRXcHCz\n",
       "STe5EiHK9VYk6nICCxU+YfXYxCFEPn+PMyechcSK7G9pVoBtA5uXlXjsF1xwb9GqygNysDHQKiWU\n",
       "C3m+8Jjwh6xzia7g3IzxAEO+v9aKP9TqMnRFJASrxyZZjtPt2d3sOQfClWYeeFir8FgSPJwWPL6B\n",
       "nI4HgMzPxqYs0XU8sAodbhT1eGBdQmhB4WFWthFhhz31cQY2uU15lUB9TnkHi/jtwj1EcvWM+93n\n",
       "8W4Un5bsfXxnE1T0siTWMGBIdMKR9ZGVeYU7lF2lJ/D6iIkieIjVk6eFp6nw4G5aNbhxfbapOOFt\n",
       "1EvQtFuRptHlWp03xcM4hIe+WGU0CPV5qArUcMNObbmPruBgnSfcfgiRW++qXRavj+37lDqH4+TP\n",
       "n6Cfdwpwp7+fFCs1/mLzUNGFHrr/oNjSjIZHQngl01UOQkWuGFU5/O1pfLUQuoKDzXRwuiiny3jt\n",
       "Xf0rhm6N4HYPqydPKQOtC18XiffrAEfkX0SgUa3ivy58uro7+JDYJZzWXiNCGQ0ProNun7wP9VRf\n",
       "r5xJjx3g7K2jKziYLMfWHb2XeVtDW/jqs2I8pR1eZPXkqS0Awy4cIRxsBIOllsOETt4HHY8fKZUh\n",
       "0xJq6/hYpT1OcC6JfOXPJf5rJ8fqsWF5FJ1XNg+CuQLm7Z0Nd76c0PIQGVOdg5nOoTqeE/3HBOZE\n",
       "WYfLYBZfid4GXy4ODNXmHPFKNkrXoKGb2+Wdka0b3I6hNHN7oe2Dg3N78Bur5XdUazFKrXhcH5TR\n",
       "6XdUI8sC8yhc49uyk+/as+p8ufdGvmvPXud3rV1i3TRKJiBl+L/KfzsFnGr1z7ZrAAAAAElFTkSu\n",
       "QmCC\n",
       "\" style=\"display:inline;vertical-align:middle;\" /></a></dd>"
      ],
      "text/plain": [
       "<IPython.core.display.HTML object>"
      ]
     },
     "metadata": {},
     "output_type": "display_data"
    },
    {
     "data": {
      "text/html": [
       "<dt><a class=\"ProveItLink\" href=\"logic.sets/equivalence/_axioms_.ipynb#set_not_equiv_def\">proveit.logic.sets.equivalence.set_not_equiv_def</a></dt><dd><a class=\"ProveItLink\" href=\"logic.sets/equivalence/__pv_it/axioms/9a4011c3d6c6de4e23a183a867f0676c6b4bc0dd0/expr.ipynb\"><img src=\"data:image/png;base64,iVBORw0KGgoAAAANSUhEUgAAARkAAAAVBAMAAACAi4frAAAAMFBMVEX///8QEBCIiIhmZma6urrM\n",
       "zMxUVFQiIiJERETc3Nzu7u6qqqp2dnaYmJgyMjIAAAAcRTyBAAAAAXRSTlMAQObYZgAAA8ZJREFU\n",
       "SMfFVk1IVFEUPs74Znwz89SFlGDFQIvalAOCbQIngpRAnJW1agYqsKBUDIfSSCFwtGRmZxDlSEVi\n",
       "UEGLapXkQuiPoSCIskYqIRcpav6FTeeee+97zzdvJqNFH3zvPu7vd88599wLkA9qijMfvAn7cTqu\n",
       "5R8Pj01Ms4qJHB2HBRFHjFpNFM2LVU0XAU7Yj5PwdFGh0ELgmwrhN0j/bzNHq2NBcOF2JJ+z+ukc\n",
       "ar4JImaM2sOiLMB1akJw136cRDG3XfEsFVMftuI3wpvKAZw/wIM6Ja8ww3bZi9ECnOx3JsmKwgud\n",
       "uJaPN4fRHw0B8Pntxul4w4uPq9Tih7ujoHI1yhpOOA/wFHQW4yq++/Zq3AlOxJ0aKg89PlChBYQj\n",
       "KrHqkx88pXbjdJzl/nqwwgoXMpa4HqI6B1ZpcwBDoFN7NjIykMNRA4KIVCX5+iQKmqw/w+u6cZHN\n",
       "uJkvduP0gG7h5nIssMLJQifzkzcV4TaGzqFBggaXY7HOHGq2C6JBk0/omDCn9GzjQQiLKA3lwZjd\n",
       "OAkH99pB75pedUuUJRFQ2plrAgaPA/RSI//WzY81SUP3CwLchLCMDjUtfpTFiZ0dFBJ0WL4TAqCP\n",
       "EQagXXiCylzWZsOnXvewGNHSBvdTMOP/AjdpKfhkIHQIsiM5KCPTFZS7RrcPsXh8aF0GxzijDKMY\n",
       "QxSThaDOWzWzuPNsYhmrxaAbHCT/BjelMwLeVTFrmSAoR6uauyznm9zuYCEQtqopk2ZErQUkvrGq\n",
       "ejnLNt1MEYpVZg36Um5qe9bGz4MfnGmrmkKclSrHo9GlaLRduh0ccxtTg59tWWoWmRr/ejVqupG2\n",
       "749Rl3sh2J20ego34Bbu00Z1t6NJXcy9tSYfRED3LldDnvIiW61iWLqBZtRZ2GIQeo/xTLCH+jTs\n",
       "2hkBSxSr9/VcCm4pldJNuEtGsRn9JjUUxVdlMjdrZnGnLFuiGB5QRngPlTTDK4AdctYxQZY/ilZ4\n",
       "3Ut9zUncTTnTtteqRj/yIX5sKefErbdrMVp7Xx8L1VGDUMLOrufzizjt+jLAoEzNtZzDmWnwxpfY\n",
       "QRhvxbDhcXOa3XnU86tVTa3pH83vif9KwqNM2/pOrhm8dC+RrJBB0JgKZxIGKV/jIWlIZN8MYD3f\n",
       "pku6ZQM3Qz7cNpGjHm2UUvtAXQV1i82tKVGXPdnGbs08MN2aIncsgxo/r1TA+HxVk7H9Xj1F270V\n",
       "BGxeFOYxRYk/iDG/KNa/43K/tgSS+ZfO/drKDSZXMutR+LcvUe1fX6LvTFyHFPxf/AayoiqRoMJc\n",
       "BAAAAABJRU5ErkJggg==\n",
       "\" style=\"display:inline;vertical-align:middle;\" /></a></dd>"
      ],
      "text/plain": [
       "<IPython.core.display.HTML object>"
      ]
     },
     "metadata": {},
     "output_type": "display_data"
    },
    {
     "data": {
      "text/html": [
       "<dt><a class=\"ProveItLink\" href=\"logic.sets/enumeration/_axioms_.ipynb#empty_set_def\">proveit.logic.sets.enumeration.empty_set_def</a></dt><dd><a class=\"ProveItLink\" href=\"logic.sets/enumeration/__pv_it/axioms/d49d8d6ce72ec51024cd86f049c1e4240a53c86a0/expr.ipynb\"><img src=\"data:image/png;base64,iVBORw0KGgoAAAANSUhEUgAAADoAAAAVBAMAAADlb+D4AAAAMFBMVEX////MzMwQEBDu7u66urpm\n",
       "ZmaYmJhUVFQiIiLc3NwyMjKIiIh2dnaqqqpEREQAAABVi3StAAAAAXRSTlMAQObYZgAAANRJREFU\n",
       "KM9jYGBg4GPAAKkJDKKbQQze0+cwJK0OAAknASBxmmEXhmw+iGBdwMDA2cDwfAO67AkQwdPAwMAW\n",
       "wNDSgFOWbwNL8GecskwJrM4fccryX+Bg+IJdVgEkO4/hL4i9CgwCwLJVIILtA1A2YRtYFhnwKoKp\n",
       "pSB7F6ObzPhiAphm72bg2LyAGd1VLBC9y4EKzh5g/ICwtwAsXgezl+25ANsDnG5m6GDgcsDpX4Yb\n",
       "k08z4JY95jYBj+wFzLhnOASXxQbg8YsVcIHThgMOWYarkHQFANuAQxxgY/+kAAAAAElFTkSuQmCC\n",
       "\" style=\"display:inline;vertical-align:middle;\" /></a></dd>"
      ],
      "text/plain": [
       "<IPython.core.display.HTML object>"
      ]
     },
     "metadata": {},
     "output_type": "display_data"
    },
    {
     "data": {
      "text/html": [
       "<dt><a class=\"ProveItLink\" href=\"logic.sets/enumeration/_axioms_.ipynb#enum_set_def\">proveit.logic.sets.enumeration.enum_set_def</a></dt><dd><a class=\"ProveItLink\" href=\"logic.sets/enumeration/__pv_it/axioms/627fd5883c9d51da85ecadeb50771640d39845b30/expr.ipynb\"><img src=\"data:image/png;base64,iVBORw0KGgoAAAANSUhEUgAAAcsAAAAyBAMAAADBxu0RAAAAMFBMVEX///8QEBCIiIhmZma6urrM\n",
       "zMxUVFQiIiJERETc3Nzu7u6qqqp2dnaYmJgyMjIAAAAcRTyBAAAAAXRSTlMAQObYZgAAB3xJREFU\n",
       "aN7Vmn+IFGUYx5/dndnZnZ3VI+yHSrbewSVh3GJZf/jrTkGhSFeD8I/CxZR+EHKppZnJZaRnZa0R\n",
       "qCd24yF3ZqRbctBF0nYahP1gUftDMFwQBMNk0VN00673nZ/vO/u+M7Nr010v7O7szDPPvt+Z533e\n",
       "5/3sALi2B4ZvQX3tOIx0k7P6pzI83OBhOnF3V32/oRRqsU7Oqsn50w/5MltoyN29x0vm3fVeymb2\n",
       "7niRed0v1ei9LQMw4H3xSsaGGJTMBMfxAXZ/yjW6jyAB0Zyn2QdBy9zXyt5/kR3h7bUOCXSCXPLd\n",
       "i8BkvsMJo/S/JxMGfcdUUDITFfZ+iQq05NZ1m+5A5j5vu43BypTYdw12kl/Ezeod3c0xrZ523+UC\n",
       "lXmOkx6a0Kun+ZOpKfzlkEoNtaYU7FBdfPZMg/gE8wTcbyXt93IHJXM9Z/92JKeQXC1p2eMla3cU\n",
       "fVeEBmgBsYPrs9AG4TKZmvX54tfLuJ3n5IJKkDLFIc6BN5EcVakI2s22FX2JpsE9aJLoFB/hhm88\n",
       "Pxti1ilYVsI71OUrQcqM8NyOQ79sdlachG8D3lr6BnpTQym4AgK36zLcBWNT1v1fjRz4mG0vBykz\n",
       "lOXLBLOz8Q6qqIFFqnjNRSYIFViWMb9cAH8yW3IBylxW5ActWJ21fzuKFc+GcIObTBTUk+HUb41p\n",
       "c2zqtvrYvMA5qbsYoMyWHD8FJdQWCGsZdRo9P2yBWNZNJjq6BU7fD+PNTJss+Y2rgGS+zTtwDMVm\n",
       "/iPYq2f7PCXzMVhU1GQext3Hb/Lf5EYkK9yO97RDxTwh4mMRFGs3ZGqX5HcXme4GzHYf78ACgN7G\n",
       "nll6TMsvPkHK7G2ck9NkShvwNcC34XVzYx26/fLyppsQTQkNVnmQ8VFHlA2ZP+HPP1xkuhswk+JV\n",
       "7nRNRbPwI13szTbG2zfVxaNqjM5QJlLIGCf0+VnIXjNk7qKTXrVMdwPmtHmF+6uc0r0BlwjykDEX\n",
       "Vgejgl6r4HArdIP0ZMZ36W52Bckcgy6UkneR6W7ALNz/4h7axl1vSsVYCuKPX0+BnKou9NDrLdgM\n",
       "MB/CvxjrTR8LMTOwkMzkiYMHd7qlIHcDfqTUsKyGSyhcG6ebp1cfx4N5bpM9FttQ1R7L+enLdTPT\n",
       "3ujs3OiaaV0NWC18k3uIDUkgUQcLOuPL9IYpcyUvlEyZrgbMoVaBUdMmmTLn0VEurjkOk7OkzHn+\n",
       "hgFRr4wimfeaMiUIW5H0+bFZ8LWiRlRSJmngq0XLo0fmq6ZMpShZueP9LhWOptIKFbSEwf9YZrz0\n",
       "DObBS5pweKLW3/8xLVMzgMHpzSjTCc0gVS3x52Zhw2gN2nVWTbttBZLZVgzl9LquX/niWbqmxQZh\n",
       "dZWEsrgyVl0MUYfQQoWujZWbjtwa9wj6Ab+d9nKkeRpgpiA4gkqKrgdhrCprNUo/FI7RMrGBCH/i\n",
       "za4FMEX8npYZ398epqqk8DXHTHnAK8pzPmUeAB+eKG/3WDK1Ze5yaANxfWfnZiRzr0TL1NfB+i2a\n",
       "iSydYRspRKnCJUkykovAg9BEraKFkahtV9fjGfuglyPNEzUvXLVkJlVNz0wRsvrdFJbQMjUDsaz9\n",
       "0lq0yylTag1lTh09a0/2Q3QVm/REcFp5GsV6ktWV3kr8dtKlJHZ6Iopd+Ra13oyXYW0//IA3TwOc\n",
       "rV5vdislBXap8JpQxjLj76Ev5puUWQRfddghIN6m1ySSZ0xqZFnEV7k6wQFOgHqO83akedrHKN2N\n",
       "NVEWphYhhip0YVMrRKtl9p4ePAGL8zB/Sgl3RZwIi3PiePw2EYTlH6JbsdQRKXrbCQ4IzWw6Wb4I\n",
       "RrJ3HETihDT4cqR5Iji1vopw0oMpaGy60YO8nIsVtSuesD3BZ7Ad1RAP28432Wc0gQNCEwFlA2id\n",
       "LB9hL2ESabNO5ziiQHWa4tR60q8RkiRy0cJCEFtmkFl7AF4RStAL39rJfg5FfygIrWiE6jLuCAGg\n",
       "dayDwp6Jo1GiX2o6YzmiQHWJgkTRch0ykyCcLdhLI3PrqZ8dZ51TKZZHQWi7EQBaJ8vhFERbGZ1o\n",
       "BFhhOmM4okA19kRw6lBHkAAzT5FZEkITjQDQOnKV2+EQy12fOUewHVGgGnsiAG536r/B0eMcEJps\n",
       "NoA2OjZDB09VK568QS84jkhQ7ZAZKI6OlJ1Ba0FoY0hlgQLQBp79FJiYNl6Sqmk24YgE1dgTAXu3\n",
       "QoAyhSFnCrIhNNFsAG0kjdhzKaa/d08yaDYbVDtSUKB/FcEaEkDTEJpoFoA2ybL4gi6AYtG4QNjA\n",
       "oNlE8BCgGnuyOXU40D/+iFS7wAmhiWYBaIssG39T0iwaHU4zaDaRgwhQjT3ZnNpIEkHJDBX8FXsm\n",
       "gDbJMudZq7jKotnk/bRAdR/FqQP+U95+xMKldCcA9KA/txxHJKimS3cjOgJ7YOY8BaDZYJAA0H6R\n",
       "GtsRAarphVhiQsAyd2S8l9U2gI7d2bKaANXYk+0t8Mef7HrLDyQ549etJyQ5Q3l7HgKWiSaLkW/J\n",
       "Dr8y637QNJoaeZn+HzSt/7HhR0dcpfyyseYcHm74BwzjOMeoNQNOAAAAAElFTkSuQmCC\n",
       "\" style=\"display:inline;vertical-align:middle;\" /></a></dd>"
      ],
      "text/plain": [
       "<IPython.core.display.HTML object>"
      ]
     },
     "metadata": {},
     "output_type": "display_data"
    },
    {
     "data": {
      "text/html": [
       "<dt><a class=\"ProveItLink\" href=\"logic.sets.inclusion/_axioms_.ipynb#not_proper_subset_def\">proveit.logic.sets.inclusion.not_proper_subset_def</a></dt><dd><a class=\"ProveItLink\" href=\"logic.sets.inclusion/__pv_it/axioms/9d96ce2ddf38dd9fd09c521936c8a8303dbee5c50/expr.ipynb\"><img src=\"data:image/png;base64,iVBORw0KGgoAAAANSUhEUgAAARkAAAAVCAMAAABFe2rqAAAAPFBMVEX///9RUVGurq4bGxsLCwsQ\n",
       "EBCIiIhmZma6urrMzMxUVFQiIiJERETc3Nzu7u6qqqp2dnaYmJgyMjIAAADYQjYbAAAAAXRSTlMA\n",
       "QObYZgAAAx1JREFUWMPlWNkWnCAMtYuCEPb//9cKiBIWwemc04fmYa6KkjvZCCzL5yIMxifRsj+m\n",
       "xDt98wOTkghgtNe4eTm/BIxRdtvkjp8a5hwjhAFQf8vEG32DgTaBQjoEEGqV3rbynWWswHjeuda7\n",
       "jBYP1vhviNv9X7Nv9A0G2gQqaRJAKJLBBbwzjCEYzzvrGgau5t5dDFDqwtd6m9c3GGgTqKRDAGEK\n",
       "lTt45oQLjNHYijjsWgOc89+/ON/zp9v5lnGBilzn9T0PdAh4mSGA0GjpRfCX5ZdjPGkcKimqL1q0\n",
       "whHWkwCPfrF0Vt9goE2glh4BhA68cP3OMhvBGGNTLsqZyp+wl187FkKasxSwZFbf80CHQC09AghZ\n",
       "4A3ZFPk1BUf0UcRLDWAwBg9Qn8BZzSAhQ3eos5wZswFXd3W413ebCan01d4fE2iVmQ4BhJQUy4NB\n",
       "8WhC3OmyEqRJeabbfyZc5sMY6HXInFkuV5Y6imEun3oIv0RPE2gEWo8ARv+z3ZaXBMUjCR+rsuKv\n",
       "FKN3xNEhEObuCBExZFkvyw+CKvlwuMqWlUiwWQL9MlMTwKgNMq6WPE9dHoKT2GVomXi12qIFA9HJ\n",
       "ck9s+6ZlOgS6ZaZBAOPRoGZ+3bcFsgllaIW2qg2ssyk9WHEwU9ZtJhaW8pbydp1hlb7KMkMCD91M\n",
       "TaBAEFmPynwyZ6nrtqNUsW7huwqgUHUP6humRuuamon9Cnwz7IKrCpwsMyTQLzMNAgWqzBRG+Q+z\n",
       "ucMrW2X8cpm72grIOy2raGO1tdGrdIUUiWTYM9Tr+j5HoLmf6BIo8V7opCVaQ1ZuIbwiXKkBh50E\n",
       "50LCqeMiK1OSrT/LPGQ27ebuOe0+sgzljwN9Aoy+IVCiuT4mMtjhJhpNQp2Y2h3UG/wfGhrNeblb\n",
       "nmjA53YHjZryhkCJmQNi0voCJSAaKfyuenJHWcXt1Ab+izvKz6S5o0RlLlQkAY6bZV+PaNHc+RYB\n",
       "WtuatBrDg8/U1J5j7hSiqwfE3xqmeQrxlAmfnFx9EjLwzZOrT6R08oDQ8BBy4rSTzvAy//q0MxEo\n",
       "sfv+8l/LH6VVMR9UA1rdAAAAAElFTkSuQmCC\n",
       "\" style=\"display:inline;vertical-align:middle;\" /></a></dd>"
      ],
      "text/plain": [
       "<IPython.core.display.HTML object>"
      ]
     },
     "metadata": {},
     "output_type": "display_data"
    },
    {
     "data": {
      "text/html": [
       "<dt><a class=\"ProveItLink\" href=\"logic.sets.inclusion/_axioms_.ipynb#not_proper_superset_def\">proveit.logic.sets.inclusion.not_proper_superset_def</a></dt><dd><a class=\"ProveItLink\" href=\"logic.sets.inclusion/__pv_it/axioms/7ad71cb373097581ce9b45c4e8d8a8423f8fc8c90/expr.ipynb\"><img src=\"data:image/png;base64,iVBORw0KGgoAAAANSUhEUgAAARkAAAAVCAMAAABFe2rqAAAAPFBMVEX///8NDQ0WFhYfHx++vr4Q\n",
       "EBCIiIhmZma6urrMzMxUVFQiIiJERETc3Nzu7u6qqqp2dnaYmJgyMjIAAAAvkUTxAAAAAXRSTlMA\n",
       "QObYZgAAAwpJREFUWMPlWNeirCoM9RSlhf7//3qlKUWKM/s+nTxMdAyusEhCcNs+F65L3TX4VCQv\n",
       "9apDI1FiFc9c/+uX8xBQ6q5BEGIW3qmptRQhCoDdLY2uUv7GoREeN8t4SiYrI94xY3ipuwbxzi69\n",
       "dQ/TQ5a4ucZ5CPPGoREexct4PBHN4R0xGpW6axDvjF1hntgQudj60eqIOXCsOzTCayY5wkuhcgfP\n",
       "mjBe6q5BWAWJbHZPWBCoM/iIVtp6H8Ueh+/rDj3gXXCGvMDTSjjh7GX5ZaXuGsQlPH3AD0aqykXY\n",
       "o2csLJiJgwxedWiE9/dPnfpDPAtOmHrHzIFK3TUIwSo2afV8QpulYY1pimRU6rlDIzwg9UIO8aiP\n",
       "MMjIzK8xWKTO4l3nTMoD6O1o+QOBXUY/1wqJirSnWh/A5F0uSu2cNpmgN3gEKrgJHkZV9ddFHGof\n",
       "b6pO9PSyqBG7RJUGnl4XHLaz7KxNe7HTxBsr9aDMzPGAVHAzPPdz3IwLVMQh8oNkXel3XOo7PWjz\n",
       "gJwtA6K2s/nlzUpM+9NjmRa11IPtfopHaNMbTfCULphUguVsMx+UyGyfMxOu9k5TAqJOe+fp8QUz\n",
       "HbxQEXK4Gd7ZFxJ6M3tskLEtfAt0NG1glU0tM/eDZLlPsyl1FxtNCY1Zqes6Qx+yqYOHaZO8Uzzg\n",
       "WWtIXdHI3mePs0TRboFtKnBi5nrA5bAJPlTbXZArEx4q8Kzi9/DChp3DzfFkRoWWbkCWW97kaApg\n",
       "fzsl5YNrnwT71BPKfMomLDPer5BHqtSDo+IEz280JdwC3r3BCYOUgqzcgjfhtk6ahzB/MhBgrc9E\n",
       "eV6wmkWBKb2hqEnHuxssNa1N8/oa7/y3hFvC05c9Ep6H249ACW7X+93poI6r2K2ryYQFK/Xy6aCB\n",
       "+/1rAW6Ah0OyusLEIZDkf3f17YnyM/n8RNkcxMVXeOArEQfL9Eb2M1oUs641gKdTS2qLobdWwL8l\n",
       "5t1XiBGeVD+JJ3/0y9UnMiV/GW8tZBbxpt8Y//evnZqX+ouvnfgn8fT2T8t/90oxGkl1LAwAAAAA\n",
       "SUVORK5CYII=\n",
       "\" style=\"display:inline;vertical-align:middle;\" /></a></dd>"
      ],
      "text/plain": [
       "<IPython.core.display.HTML object>"
      ]
     },
     "metadata": {},
     "output_type": "display_data"
    },
    {
     "data": {
      "text/html": [
       "<dt><a class=\"ProveItLink\" href=\"logic.sets.inclusion/_axioms_.ipynb#not_subset_eq_def\">proveit.logic.sets.inclusion.not_subset_eq_def</a></dt><dd><a class=\"ProveItLink\" href=\"logic.sets.inclusion/__pv_it/axioms/d25f35fe924798ff181b5128ec362855efccbf1e0/expr.ipynb\"><img src=\"data:image/png;base64,iVBORw0KGgoAAAANSUhEUgAAARkAAAAYBAMAAAA8FZQ1AAAAMFBMVEX///8QEBCIiIhmZma6urrM\n",
       "zMxUVFQiIiJERETc3Nzu7u6qqqp2dnaYmJgyMjIAAAAcRTyBAAAAAXRSTlMAQObYZgAAA95JREFU\n",
       "SMfNV19IU1EY/9y809390QdJoYhBD/liCgt7KHDhgyGEe7K3FOyPBeVEbJRFCkWbJfMphSgnBYlB\n",
       "CT5UECT6YFnEKIiirEVFZJGitaZh9p1z7jn33O1OjYj64HfP3flzz+/7c77zDeD3JRv+J8n5R/va\n",
       "YwxGeWn45eg2Xyfk4gqb3JYQJx2TGSYOaEDZrfdOscbVlPA2ngI4YL6Oi9pOGyWeNuvpUkN5yAc2\n",
       "VIfjgfT9NPmoAWVa63oWbC5sZa9ZuE+FH66br+PiZrZzz2g67A8Gg372XgRg/QYq8uToJYZtNyfj\n",
       "KmMgr9NR2l66DzbtW1CH/qgpA6fHbJ2QJ6x5tcB8+Fl3rLKIJ2IOYBQE3LiLcyhDuHYzoFyroK2K\n",
       "WgtblGLXaw+o+WbrhBxl/hqely1FxYJdrlmAfhBwTQwO9mRwVI8GlFipjzQ25F3Chztwk0JU5p3Z\n",
       "OhHQAWYuy1fabpWGclGN/mPI0KcjGQodz8BmgwY0aPRujB/uAB9OAOw6iO2Y2TphAOa1ascibQPS\n",
       "UF49KEeIa8p07AUI00H23DE31sit2aUB4ArU0eg4jyd6hLs9MVncRkOCPJxfqJSBWKMZgGqh+pRZ\n",
       "aql6aaju0OMzJEZccR2VNJjxnZnSlQ9OHghtGgB80Ef36ZU8T9zeT75+M9U2uMYaJILEc4ZY+rbP\n",
       "ScddxJ26hmSsgI4csFD6l5kprfXgWNCmF2gApcHb1K55qld2u+UH0TGVTQGPGeSaReOt1lueTPNU\n",
       "B2GEZJUZHc4Yy/QTLew8eMAaT2WDN1MW7XTGYLPkdrDMro4NPtbTrlFpWoKw8RjZ2OO1VH1PiE65\n",
       "4YdN0VRPoQI5zH2fVKEdSTc24t4qKW7qQXiXsaGeciCa2QkfMqQbaEKe2QEdEN5Dzy5soXNqSopF\n",
       "pPEotg+JXDrQ4JHTTV07j2JZuiQ2NIoviGSu7quW042STIliGKbavoBSOucRwEY+f0wDyR+585pF\n",
       "PgSD7GZ4g9oUETNuS2UjjryfHVuacyIs+pV7/GZwo7W3d5JQHdEBeURb9e3DCHXQOYA+bs0qhoGl\n",
       "KXBEvrPEUcl3OkzuPDrzfSqbKrkYCoAa+RmFW0stxkm2abx0z1Jafh3gIiysUeijjPGQ1HSn3wxC\n",
       "TqflSDWwipthObkqgclOtFHM3gn2BbCvM7k1RaJPLwxWd2suI9KtqeWOJNgjJ5S1MD7nbfSJeWGR\n",
       "ovnOJ0lSazV8zKSikNfkGow7TrOi32BbqaIw1nGZq63MVWh4VdVWZiF0OdKKwuUr0TvpRdCfVqLP\n",
       "JRgktqKPO/+r/wvdf/XrvwBAgCVwL40pgQAAAABJRU5ErkJggg==\n",
       "\" style=\"display:inline;vertical-align:middle;\" /></a></dd>"
      ],
      "text/plain": [
       "<IPython.core.display.HTML object>"
      ]
     },
     "metadata": {},
     "output_type": "display_data"
    },
    {
     "data": {
      "text/html": [
       "<dt><a class=\"ProveItLink\" href=\"logic.sets.inclusion/_axioms_.ipynb#not_superset_eq_def\">proveit.logic.sets.inclusion.not_superset_eq_def</a></dt><dd><a class=\"ProveItLink\" href=\"logic.sets.inclusion/__pv_it/axioms/56e186c5fd033dc5b5174fe0d9150fe99e2677d70/expr.ipynb\"><img src=\"data:image/png;base64,iVBORw0KGgoAAAANSUhEUgAAARkAAAAYBAMAAAA8FZQ1AAAAMFBMVEX///8QEBCIiIhmZma6urrM\n",
       "zMxUVFQiIiJERETc3Nzu7u6qqqp2dnaYmJgyMjIAAAAcRTyBAAAAAXRSTlMAQObYZgAAA9hJREFU\n",
       "SMfNV21IU1EYft12p/vUH1JCEYN+JIRtMLCgwEU/jCAcBPovByZYUBqCMy00CNpM2X5lEOGkIDEo\n",
       "QegDgiSDQCOGQVChLTRCf6S4MjXM3vN577a7aUTkC8+9Z+fjnue873Pecwbw52aArWT3/9O8ljhD\n",
       "qpWl/LJF9cdJu7XBJE80SJCKySwdBzjQTqq1CfZyNC55G64AnNYfJ8zaSV9KIqPX2/W68pAPzLgc\n",
       "gXFSP5eFzSwH2jwLUjAYnPbw1jycp8KvF7hZTdnJfOdcoNS+BIOtLtFUAmD8DlbkKXCDOLZTn4zD\n",
       "w0CK8zEpmxleqMV4VHnA7tIbJ+0Ne02tSmdN+VhBWQMwJQGeg4QTZ7EP6bPJjzKg3auQ8rhe4GcF\n",
       "N1Z9dIG1SG+ctAuMwvCKGjvuOgNWORYB+kHCMTY42JslUL0caHG3T9S+4EqAy/jh7biYGb1xUtBN\n",
       "zF2Gb2od12ABLqO/DR3iU7EcCl3MwmY3Bzo09iyuipjrdgmg5gy+R/XGyeTEonbMtpYhpcIAKC0k\n",
       "NB4V9QBh2sieR5OjDcLRPRwAd6BWqMPhgr0s7EuTpe1UEuRh/0rNA3IMdwBdhdWnLKp1XBm1Zyeu\n",
       "kpIjoeIIFTOWmSsdRWAXQmjnAPBBn1AmCu2gDHt/AAuP0n2DY4xBYiOoITqzCSxJtd3oE7qzbiMZ\n",
       "q0lFPhgo/dvMlcYA2IT8izlAqfM2in1XLYRJwm74SdaYzqZYaAa55tGZq73ly5pISd2BG8kqCyrs\n",
       "8XzaNtbM9oMLjIl0Nib8qqisB1unCDsYFjfHBh+71PaHUnfgdqWysSSq6fJdIdrlgR/2xdIjhQvI\n",
       "5+HDsNbEZLoxk/BWanQTABldxoZGyoY4L8kobTLdQCPyNDWpgPAp0maG/bRPVVlpANJUbBkSuRRn\n",
       "fX8irKab2k6hYq31aNhQFd+UyZzsiANRqTtlOU3FMEwzwgdw0z6vAfaIcaMcJH8UrLCToaN1nLd+\n",
       "wtWUEDcdSmcjt7yfbVuacyJRfjJ081zrRG8f7iJSHVEBhWTvWqdfRWgAugH6RGquZBhYnwNb5Afb\n",
       "VE/FTOfImUd7fk5nU6kpo/utkV8xeLzenNrJPI+H7jVKy68CHISFMQZ9NOHjJqmKZp4MugciV1LT\n",
       "Jk6GXHZXA2bH0UdxSxdYVsGyU+fUlArMPGA3d2rmMM2pyTPmMlgil5Qd8DLpbZAnEk3P4ZRrXwdJ\n",
       "aoGNroLaMQVaRxHdBIMtqb7V3ChS73HZb1siCLmnzn7bym6ErkDGpTD3TXQi8xL0tzfRdxqkWHzD\n",
       "GM9tqf8L0X/69d8Ahyk2DGj2HgAAAABJRU5ErkJggg==\n",
       "\" style=\"display:inline;vertical-align:middle;\" /></a></dd>"
      ],
      "text/plain": [
       "<IPython.core.display.HTML object>"
      ]
     },
     "metadata": {},
     "output_type": "display_data"
    },
    {
     "data": {
      "text/html": [
       "<dt><a class=\"ProveItLink\" href=\"logic.sets.inclusion/_axioms_.ipynb#proper_subset_def\">proveit.logic.sets.inclusion.proper_subset_def</a></dt><dd><a class=\"ProveItLink\" href=\"logic.sets.inclusion/__pv_it/axioms/e6ad83c5cf7f0e1c22441ce75c0759d3119286dc0/expr.ipynb\"><img src=\"data:image/png;base64,iVBORw0KGgoAAAANSUhEUgAAAWsAAAAVBAMAAAByN9JOAAAAMFBMVEX///8QEBCIiIhmZma6urrM\n",
       "zMxUVFQiIiJERETc3Nzu7u6qqqp2dnaYmJgyMjIAAAAcRTyBAAAAAXRSTlMAQObYZgAAA/FJREFU\n",
       "SMfVV0toFEEQLfeT3Zn9mENAQdFFD3rRLCzEi5AFDxFBkpN6EBNRIXrQDSKLxs8KgokouwdRQTQr\n",
       "igYFXfCgngzmIH6QxYAf/K2oh0QwIQlJjMRY/Znpnp5PEvFiwZuZnao3W11VXd0N4CVamcFLIoV/\n",
       "xbvkTYAHEirkxQcXw24OlG02ZWzfWKr1BMDuf8TTc0JniDn0IPpZVRB4Rl4OuLjdz4EyaNfOw/+p\n",
       "b4Lbs+K9ymazBxx5Gr/HC0JnOJsznuJDOK6KwAVCzDl7HUsykMfBok3djLFoTEI0MQve5SeuvDiz\n",
       "hD5Jh9Iw3oMj6eGcj5N4eSQQx89GS85uhwoMKLfqeSm+EVGrxVefEqBXz4LXL6kV3pZD7H5Q0mGg\n",
       "289uL/XpPKD63Z94vSIQe3rz5nmXGjnPQYqsNm2L2nH83AIc9deZeX45MApv5zJWKxlZB1VFCB6t\n",
       "eZ3m+fONkrykBSY6Og67uL2cAyBQfFgWIeEyBrB5D957Z+aFwJWnV5jSl5R14EOE24yIbIhM4TWa\n",
       "FNgF0ElV7Lp+pLfVaE1nOACuQXNCjVpw7MPKdlp35BL9QSXpzDsHbjysUFaj4bKsY6k1m0w6OExi\n",
       "XhFYR2cmPo+ydFRD1CjWdg6ANHQl1aj5sNyutODDPTXadl63Oy8EGv3/UEnWsfIxHgKgjZBWnxEI\n",
       "gY/m8eoUtfC3QGSSW9dwQHBHal9OjVoYR+f7RWa/6radF3LnvaQJx9aXlnXW9rcpVTdBXgwJRMvs\n",
       "m0/3s8EnwF9R/z6AX62oUZuPUfENe7pt8uQmqfCwj2wy3TZ1EM1mj2HTauFJgyWK21qFsoKJDmpx\n",
       "pwlWF9VkY/5C1WrUSIutIpXVINV2izMPvrvxIkm+0NAiMXVE3pv7AEQbiUJGADppCVXBGmrSuGql\n",
       "WVvG1NJKbJmyRo202OacObUksfPg+s6iM4+4TFxnU9LU8TwwuchXW3lKwl3aMN9BLTV5AbDCMO/l\n",
       "ID04/FON2mcc9kLizFrVbQcebD1pLFNW3hbDQdLVhI68MDYktKPncUD+HgGYTyKof3mep+anAbqM\n",
       "LtfA0D09AJH8eNIatb3TO+o6qOU31W0HnhCFR1O9jFeA0GFtL82y2tbzv4twfxqnXrxJAGLEEX8R\n",
       "uugOBqdxY8G+SJsiomY21YzH4u4hjEeXwaC6klnanyk3JDDZiFEva6dAmwRtscOWyEM8t1Jz4PVZ\n",
       "fwbs+ztpK8V76QRo+SPBRfB4JNWaNu06zcXTQxw2rjZelCRcyZLKC1vzE7elS964Wk8c7tt9d+n0\n",
       "PCbMnqdbw6vbCGRcBmzHnrkermJ/eSiLzflQ9laCRcrwn8gfSH55F75O+poAAAAASUVORK5CYII=\n",
       "\" style=\"display:inline;vertical-align:middle;\" /></a></dd>"
      ],
      "text/plain": [
       "<IPython.core.display.HTML object>"
      ]
     },
     "metadata": {},
     "output_type": "display_data"
    },
    {
     "data": {
      "text/html": [
       "<dt><a class=\"ProveItLink\" href=\"logic.sets.inclusion/_axioms_.ipynb#proper_superset_def\">proveit.logic.sets.inclusion.proper_superset_def</a></dt><dd><a class=\"ProveItLink\" href=\"logic.sets.inclusion/__pv_it/axioms/1f7f947cab5c89f7b847cff44fed1852aecb4d6f0/expr.ipynb\"><img src=\"data:image/png;base64,iVBORw0KGgoAAAANSUhEUgAAAWsAAAAVBAMAAAByN9JOAAAAMFBMVEX///8QEBCIiIhmZma6urrM\n",
       "zMxUVFQiIiJERETc3Nzu7u6qqqp2dnaYmJgyMjIAAAAcRTyBAAAAAXRSTlMAQObYZgAABAZJREFU\n",
       "SMfVV01IVFEUPo2OM+/NTy6CgqLEFrUpByZsEzggZAShq2yVExpYi5poMZX9WLRwJJlZBAX9OFFQ\n",
       "GJXgotqUJBFUxJCLiLImskUuUlTUjLJz/96977cx2nTgu/fNO/ebd+455557L4CXaAUGLwnl/hXv\n",
       "ijcBHiookhcjLgNvcaDstikjB2fi7WcB9v0jnt4pdUKMqfvRzoqcxAvycszF7K8cKON27RL8Tl0T\n",
       "3C2BdzedTp9x4Wm8j+akThjbKZ6iEzivosRFQux0tjoSYyCP43mbugV90RiDcFVpvDujzrwoGwnD\n",
       "ig6lYXYQZzLIOR/msXkiEcW/Dfc7mx3IMaDcrqN9M3qtR6hr8NXHKtAr/8xjLs858nYdY/1RRYeO\n",
       "7ji/p39Y5w7VB75je00i8ryv74JLjlzgIElWkxBvL/Pww2n8u+U469HSeDQ/HXht1SxXUqoOKvLg\n",
       "P7nsDWdHfNMkLgmJua6u4y5mr+UAKM8/LpisIjKD3t+P/VCJPJHuZp5eDNDeF1N14EMEDwmPbA/9\n",
       "xDYck9gLkKEq1m6bGmoXce3hALgBLTKDQywZ/TMj6zto3pEm/I1KzIPHlr+FhxnKcjRYUHVUrhpF\n",
       "JuGfJD4vStTTlYnP0ywclRAWydrBAZCA3pj8fIq5B9PtWhIf7lu97cbb5MQLgEa/H+hXdSx9xEM5\n",
       "aFPEXymJAPhoHK//pCPKkhCa56OXcYC/NX5QqTas4gZxdr4fZPVbzXbjFZ14r2nAsfQlVJ25/O2M\n",
       "186RFxMS4QLLreeH2eSroKxo/Xw5/mtRfr6btkvRK75JT7PNvFDSiYd1ZKdhtqGDcDp9CstWkgcN\n",
       "VlvM1oqU5a/qoiPuNcHGvDXYGL9ApTVJSImtIJnVoOR20oPXnHfgkYVCNxqaJIaOyHtjvohDxAsp\n",
       "CcjQFKqAzXRI44b1Rm6JpaX1s22Ki2/QKL8tncbSUsSRp9dnwIFHTKZrnC5JQ8fjwOQS323VJQkD\n",
       "1HnvoIYOeQWwTgwf4iAVL/jdsOoR6z7htFcQB26xmm3n4eZ+5AU48XYJA0lVkzryQpROWtGzOKGy\n",
       "QQlYSkqU/vlllg4/B9ArNs0GhlsLYxDKzvKSoG+ldRUOLLTWdtGRX6xmO/KEWHg01NU8A6QOc3tN\n",
       "muW2nv2VhwcLuPSiTRIQIeaW5aGXnmBwGTfm7Ju0SE/02lPryS3lsbl7COPRbdBvbO6KtNkYNxUw\n",
       "2YFeL2jdoM2DtsrhSOQhnkepRfCGzT/L7ec75SjFJDgHWvaEfyU8m4q3y1NExtg8PcTh4GrjkYOr\n",
       "qGZuvKA5PlFbuNSDq/nG4X7cd5eM5zWhdJ5udq9uI5B5CdiuPYu9XEX+8lIWWfSl7K0CkxTgP5Hf\n",
       "45R7XTuou3MAAAAASUVORK5CYII=\n",
       "\" style=\"display:inline;vertical-align:middle;\" /></a></dd>"
      ],
      "text/plain": [
       "<IPython.core.display.HTML object>"
      ]
     },
     "metadata": {},
     "output_type": "display_data"
    },
    {
     "data": {
      "text/html": [
       "<dt><a class=\"ProveItLink\" href=\"logic.sets.inclusion/_axioms_.ipynb#subset_eqDef\">proveit.logic.sets.inclusion.subset_eqDef</a></dt><dd><a class=\"ProveItLink\" href=\"logic.sets.inclusion/__pv_it/axioms/1315aac99a753163c31e32f5caa9c224c1c3af170/expr.ipynb\"><img src=\"data:image/png;base64,iVBORw0KGgoAAAANSUhEUgAAATUAAAAVBAMAAADV6mS1AAAAMFBMVEX///8QEBCIiIhmZma6urrM\n",
       "zMxUVFQiIiJERETc3Nzu7u6qqqp2dnaYmJgyMjIAAAAcRTyBAAAAAXRSTlMAQObYZgAABCZJREFU\n",
       "SMfNVk1oXFUU/jp/mf90ISjoYjCLhmCbgYAFqWTQRRUqGbtQF2IG20Ja0A40ZZSojFLIxB8yqzYI\n",
       "Nk+UpqZSCy6kbgxNxDapdaDgT39HtAsj2KG16R+lnnPufTNv3n1vFN144Lzz7s/73nfuOfeeC3SS\n",
       "WE1pJ0lUja51lzp/8kGnwaOkF0bF1Ll93mfeQa0kLxiDqZ0rAyN7gO3GyEJaxv2cipc9uzVehH1d\n",
       "ELPE3cs+KL9pJbmsu74vlUq71esq+sdgHodNbskj9ExbPqjpqne/wovXhRubKQ6dtyNIZZXy62X1\n",
       "p/0nWsPDtDBDWSQzBjcBnPKL2mmffo13TLixYe/ETQ/pqiolOTRYba6kLf3UdTGD+GqDmwRiyY/b\n",
       "q22tH0ulehveh4obmdTi7Ow+H5B9Wklq/Tk2QacXb1Lq3Euu/WpyOzc7+0nRb4O1DTzX58ZL54Qb\n",
       "mxuVyms+KD1agZD1lWR2l3N4BXh2B9l5k1t3pTI+54MaoCyJP7j9sWOyL5YNvGRWuLHZBkzIkHo+\n",
       "cXV+xM7V97QCH2NYsmqv4x/hlfO9Y/xygR/JP0Syilskj6gr45vtKHn5KX7IvMGNSNXAS9WFG5vH\n",
       "ZUvQ+58q6VcjaSfQmFYgh+ksWgeK8v8mJUWBXr4w1y2UNbbvxZydxZQXi/jOelKImniJonBj04WA\n",
       "hOujOzIjWEDilp59j1aEtwzsLLtjGiUXArd5f5ncUMRau3Vo/lEO3qB93K0ikhYqqvE0L3a9DS/c\n",
       "EAQ2yZr64eIu5VUGwbqbW4gQpdN5XnSTj4ErPty+hZ3xqXfe5+MnOZN1cAOuqMaUiefgFqs/I0uT\n",
       "UZ58lsc6yx1TikKXCvTv7cdRhBNhoyPfCprb/jC9JXs2b6OcEdkcLTtiivA1TdTEC6mYssHEVklK\n",
       "rJcZQ2t7C3DthRihpRvSdWCr5Tzehsv2XnCtW3QvrU5fpD4KHYRCsOjYC18GGpDDI5iBG8+xF/C5\n",
       "fHQW/TLjFLDGnj2vlc+46E3V9/y4XbN+Jt/uY6YbPLgl2NN8uoa4ritHAg09SodD6Ha0oe8QY82v\n",
       "bLzgnCCwQTdTj/9yclJW5F1g2j5gNyo9eHcZicnr2XYCL9/d8nBFZl7y4KbyqbuK8CuVylvA4Q3H\n",
       "7R1GwYq/2Nej7xcH9lguvHRenb15dokHgxamuQHaKENVs2Z1kHjRi9sZSSHkoTLkEcSuedesTeN2\n",
       "zdIyoxBmmh1PkZO12NuI3ULsAY9a30E8ar0uTo1TmMPXslYUwDt/V+u1tGq9zs8biE2+Hr4f31wd\n",
       "GMk1p000y4XNo1Rq3ZG0eNyR9IK+tOkhC1GO02QZU9dr7grhHYbWHan9Dut/t/SXCT9uWno53/7B\n",
       "3dLJfMF04Oi/uJOnzFVY81/u5D/xpX5UTJvU8H+SvwBVZVBM8dnIYQAAAABJRU5ErkJggg==\n",
       "\" style=\"display:inline;vertical-align:middle;\" /></a></dd>"
      ],
      "text/plain": [
       "<IPython.core.display.HTML object>"
      ]
     },
     "metadata": {},
     "output_type": "display_data"
    },
    {
     "data": {
      "text/html": [
       "<dt><a class=\"ProveItLink\" href=\"logic.sets.inclusion/_axioms_.ipynb#superset_eq_def\">proveit.logic.sets.inclusion.superset_eq_def</a></dt><dd><a class=\"ProveItLink\" href=\"logic.sets.inclusion/__pv_it/axioms/d80c588b3401b63b4d60d4ad9c2158d233a28c320/expr.ipynb\"><img src=\"data:image/png;base64,iVBORw0KGgoAAAANSUhEUgAAATUAAAAVBAMAAADV6mS1AAAAMFBMVEX///8QEBCIiIhmZma6urrM\n",
       "zMxUVFQiIiJERETc3Nzu7u6qqqp2dnaYmJgyMjIAAAAcRTyBAAAAAXRSTlMAQObYZgAABBVJREFU\n",
       "SMfNVl1oXEUU/rzZm929ezftQ0FBkUUh6YMmwdX4EtuFPkQESZ7Mm7tQhehDGurDFmprLKXdVcum\n",
       "INQX2WuVGiKuAR9CQGhMBCURWYsPirSumFAM1IakTZsUqWfOzOy92ftTsS8eOPfOnTP3O9/MnDln\n",
       "gChJ1qVGSWrC19W9gnvCRuGlr+YwS82G+L4cMm5SKcnLPmP60GZ25CTwms/yTTSqhgwQ4YXw7Bza\n",
       "acpLoms1ZOifSkmu87NWLBZPaOsD48D+IdQCuEWiasgAEV5qzM2i6X0g1ng8eGS6V6poXnd07+fL\n",
       "qpGnrRnshZ3xc4tC1ZBBFuGF8Igb5oEO8TUdPDQ+IZXks/1uWNVUs4fev2Vg7fZzi0LVkJrP6eJx\n",
       "3WYvhCe4fUSmxampcyEg55SS1HtyzW6zId9vE86DRGLZzy0KFTsM5gnH/ZBelplbB+ntUunNEJDH\n",
       "lQIx52LdFy+bwPDr9F7wc4tCZcjzne8/wbFQ81BTXhaYm007/ypQZot8Pr+xMKLX/IxS4BPkPVG1\n",
       "JGe8eXnvUdG4Ih72Xyy9ilsTVbut9PeVXVhrLn04zsvvPeXKyxXmlibzAT4S1L4ht592WwfQUaVA\n",
       "DlVPAD/NT2OLgqJAjZmAddOoTfkR+NqFtR17O8ZL4D0wyssMc0uNUWTC4O36+G+2txWQ2lZj9yiF\n",
       "eTB7yAMivSZoCsYdcV4DuGlUEuurLDX7gItOE9ZCQuKZj4rVVqGnvOSZm7lGU6jH2bL4hjxEGbQ1\n",
       "WrnFKJm5y5Aq8GsXvYz1EG4aleTn2Sl6Hgb2eWCxS8aIN9FoLy63ZOMlJp0p8YAvhtDttO4pZYO4\n",
       "mymGnWZ6axeBMOCJt4LiJlHnn+kcinEwWDdhrHpgkR+SH54EpL0MMLfYmDgDrwhDO57lAYNP7i2g\n",
       "5Swk6a+ONb1FB8puesuP67PQsm6Majij8VyHXJP1S6c8sCmnh6zi4ym3ymov7lnAl4IgfkUPj/gB\n",
       "6NKjF5SKhJTYUjXryJKy/k4eHxL4/UHcBKqJaxTH3GU3YIy5sIPTFXwoY2jam/bYSz9za5vTO2/9\n",
       "8X2F5/EeUNXDB6RO3l1FqnKrpdKM3j3YV+KRK0HcZDyRq+FSqZRBYg7JOy7shcfOPyfPijXygroA\n",
       "NL2syNwrNj0tOLU5qHIEEMDghL9mRYg1FsSNUc01k4KFQ38asa3AmhX7zq1ZGk9w+7TZ8SL9Xk++\n",
       "g+Q2ko8E1PoICar1Uqp2w4bNU646ODt3z1qv8VStl5K4jWTlmPkwvt3IjriVs4yW9C7uSMViYQdW\n",
       "0B1JyoWf5heBd4W/t7J9J3fAhot7R9p55wy/W4ZLOZSbFEPE27+8Wyo84pZojaXZ/3AnT/sDsut+\n",
       "7uSEZ9Cd/JfW/jr+T/IPCOVB2Jvl8dIAAAAASUVORK5CYII=\n",
       "\" style=\"display:inline;vertical-align:middle;\" /></a></dd>"
      ],
      "text/plain": [
       "<IPython.core.display.HTML object>"
      ]
     },
     "metadata": {},
     "output_type": "display_data"
    },
    {
     "data": {
      "text/html": [
       "<dt><a class=\"ProveItLink\" href=\"logic.sets/unification/_axioms_.ipynb#intersect_all_def\">proveit.logic.sets.unification.intersect_all_def</a></dt><dd><a class=\"ProveItLink\" href=\"logic.sets/unification/__pv_it/axioms/725eea316a9a08cb0cccd7b71d954f40879bd5640/expr.ipynb\"><img src=\"data:image/png;base64,iVBORw0KGgoAAAANSUhEUgAAAt0AAABABAMAAAA0ftZ1AAAAMFBMVEX///8QEBCIiIhmZma6urrM\n",
       "zMxUVFQiIiJERETc3Nzu7u6qqqp2dnaYmJgyMjIAAAAcRTyBAAAAAXRSTlMAQObYZgAADSpJREFU\n",
       "eNrlnH9wFOUZx59c7kd270eCA7YErAeZoYzFckjrjwr00BnSKbU56ED9g2mutPxqa0mBNlKtifxR\n",
       "A1Y5tFZkxrKCRUpHOKspRaScg+04FeUQnHZGkDggjnaGYihIAiF9f+3u++6+u3shRzbEd+Yu+949\n",
       "+967n3v3eZ/nfb85AF/LUdmL6rBhBbhqy6RhtQBb+tFAsLf3Uhn78zZ3HOiQ8q6Bq7og3kHuwoIp\n",
       "drC2tzdfCu8Lu18qX2eiTVxluibl3XTV84ZxXH0V+ztz996SeJ8uZ2fWZTiwI2Co8k4Uzfozaf2o\n",
       "YuB5L+OOw9khy1up5QCO9I93jPfYjbkhyxsWci9M84/3xjRXOQlDl3cjNzXtyPvGu407VrqGMO9E\n",
       "krupa/ziHeURV3YMYd5xLqhVO/3inWjlKhVJZ94/JkehVt/hPd2n4ZQzeCv/414/oPnEu7HI+/KM\n",
       "M+/R5Ch+2i/M8aXnFrehzqp9+8aXGLzZFbArLfrEeylfOQaDlzdUt4JyLbohc306a7vJ+6f8bd3h\n",
       "D2/1HF+7ZTDzbkTObmkGDvUx3E0avCfy6xZd/vCO804N7rW8+VDzA4OH90Q0sFtysLKPA6rG4L2X\n",
       "uzPUi/7wrhKaOiO8F1qlDabx/SCa/c6D0tdQ6YTBu5Fn+74/vKuF2YdESZvG/XYCiVO2a4PKnyDP\n",
       "90IWAinUw5uE7NxeeIN9Bu8dfGhwIOML74YCf+/14KdCfFmkw5jaBw3v0Lm3l34V3ZAIWmE6BFz7\n",
       "wRu8Z/Cu5qPdhqQvvA/w2byCece0WHeQeLrWQcU70A3xjwEieVDy06CqFe52NGUGtOw0efNja0er\n",
       "L7z/q/FD6AJmq3c19IVTqAwa3lVo4kOTXEUa9fAaNFa/c4vzHEkM9LDG5J3ibCI1vvD+FKy8jftO\n",
       "GZDx7RFNmwlYdRaUc4Q3BLuhMQP1LoCIgSvvcJcfvJXzYPUnYHS1piTe8/bvyXj63v1vvGNUmAcL\n",
       "TNmH7q2Yx5kv8Ylw9AzxJ3iZZwy48aYGtNSb8yXvTwI9fvCOChEgWcWJahMhQLzMTaXwDqZgr+fH\n",
       "3AlR8zx62ygnIFTLz8kO5IzxPzEDsU7Q8HxZlYVfu/ImBofeGZsS5suNfHwSv+gH70CnUMV9aMiv\n",
       "ZUtCkbw7b/WVyUWIaFDl9gl/2jcV4Jf85EuP1iGQN0Oo4JWuZI2ZBg2FTiUfQwwrs8EeynsHCqTU\n",
       "S9YDanD4OsDbOFPk8XfwnM6bxGJHvXh7W5VSKi8I1WvRY8vYTVPpQFAXf5PjvZymx9yi5r93bUNO\n",
       "MQdRt/z14Q3oXkG+Mm/h/Sv0OAhhT1f0Efs7rfcegNfHQhB1RZ1f10V5R9A3Cb/AB1n9AL+CDZRN\n",
       "TdCNjj8weDcIsdglnfcb+O/HXry9rUopYSGdh0ctn/M6l88vous8rcFxeEyDripIjE7bm70ji4c0\n",
       "9SQkmXuNe5PwDtSQBY0Ibytt4EbrWyuZg6b+5GXbqS/rHjycDNawpXvK+xgfi8EnOu/1YmzgwNvb\n",
       "qpSSEDd0XnVZr2ogI7ShGKvWZkEYdT1B35r0SZpUhXyjO8TuA7oMt/n64RbeCTwep8GTzPZH4NTA\n",
       "X6x9OYQX+nakGW+7PyoAM6jIVBYy/HqVeHXX67wTeNrOe/H2tiqlVHQL1b2aM2/y1aifgw31MD70\n",
       "KjLczN78XROp8vfqs00BOhRUFoIpiyy8Se4xGr5BbedZsnOzAWRhnQtzyBetYomMmrR1NUmcFTLY\n",
       "CJGZGX49VtycvV5jvOP/3LbtSc/50tuqpOUTceYVVhgsvNUWdCUHR+IJaD7xKN9ta2tLqhlQTzMH\n",
       "w00LhTAFEbq3rW0V/AG1bOFdkSQbXDOYrdWjGA3A92x9aYU76pDbf7xlPmrCPmEQd4QNZkDgTYDV\n",
       "Bm+1RzBsyenxyfm2tvu94xNPq8vgXZV15g1be48/eB6BXQEjCOAwCSjzEMraeEfSFZlDe46gI9Lg\n",
       "boC5QOs673D2+fy6NM7Jsa2Nt9nADFtn+rSfFjf306JdDrwXsG9F4pg43sxKmm4I+QVNLNBZa3+w\n",
       "OOnOO17jwhvmfXgcf9TPg3RAx3ClshW2ariqrIH1mv4UyTTAn1vRZAh/xyfeCuoaVtd5qyOS754A\n",
       "eA6ILebt0MCRcoS9tfocy69kZHTed4LaITkpJfKmVvJ0g88vWGJBwi+43523esGNNyszxnfQAf0w\n",
       "vojH938NcDU0CmblQiPx0ygIzn8UhXp4QakKTzG34W+c1o14cPNvFqJcHp2IbTFvhwa+UjbeltRm\n",
       "rcE7AgHej4aWvwZjsjbe1EqebvD5BU0scLlZD+o4h20Z0F/25q3mqoqUdwD5b3b7o6oZhUfhj/AI\n",
       "6t+NOFIc38bEkaxu9myuUoRAntgSfyJvoKNsvMeIr61N67xjxYiQnv01plVqNt7USp5u8PkFTSxw\n",
       "WQZwjQfviown73Dh2xCaeLvgvnB1l1HdBT8JdsAWeEWYfY26znvj+xquYNvZZ/IODUSLZeN9nRNv\n",
       "pWOukJ7tSaZisG/y8sl5nje1kqYbfH7BEgsM7SxsxuMxVjd7gcHbsjIQ7/DkHTwiz8GL3NFd+10u\n",
       "XuddtQI93WXaShvYDOXibVW2m7xh9Q/RlU+dXcfSs/b2x2J2/02s5OkGn1+wxAKf1VlHZKE3hDtW\n",
       "OPhvUxnt4r/7W1LCgpnHeuwNZeO9zvJJ5nwJL6LLi08vVuSo92qPPT9PwvvFJod0Q8gvWGIBRAhL\n",
       "lugznBLaxvu5zBXn7UNBvNX7wJE3XvDf8EWo1mh61g6FfRLe2EqebvD5BUss8P1bYHqe6pwzb0Uq\n",
       "N1DPtyWvXtrj27rpvqcYf5u845jffJjO0rN2eDoi4Y2t5OkGn1+wxAKzzcMkui5p7ppY8nlUnpB2\n",
       "ec6c3NXL+4k56Hqftb5q5ju0jIApIZqetUNwNvBbS+b6tzzdMPOL9RpLLNZrWP+8KPTUGuX0W2bq\n",
       "FOl2WDdsXglDrtQ3F2TrVezGPg0r2ml6dtiaZXG8pemGmV/MyrPEYlY+1rIE7h4bGqXe860Jxv1Q\n",
       "dVbetQgMxaLwyxW9Iu9gFiYUSXoWfCBN1yokvOXpBpdf5FliYcTjUbf9hs8Qb/VTkCSdZnrmwtuW\n",
       "bpj5BQm3cGJhxF27hFMDPY68ladQ8Q+Ne57TZw04uX6ed+i8lLfz+qBLumFZncSJRVz2LurGRUfe\n",
       "lQsXLvy+5hfvrfLVvsvXgC+x8GY75QO8Xxw65+pPwr5FJR85rB9ftgZ8u4W3P3oIuDQ4ecdT8tcv\n",
       "XwOOHzzvyrO+8G4ZnLwjwgcbOvR+aMDxg+edOO0L769nBiVvYafQ1KH3RwN+QuRd3eQL773FgeSt\n",
       "eMwmxlEdSHXo/dGA7xN5N6Z84b3D7MJbWA576rjOO9bc3Nxi5S1s1DlR422COkCcl0nUC2K0lNaP\n",
       "HpHr0G0acGdNsk0D/p7Ie2LeF96Rpj6Nb0EI6FAEG7b59Ps0zNK8b5fb9IP75Dp0qwbcRZNs04Dv\n",
       "FHmz/8sbaN6xrlJ524WA9mK3obyVkVjTB/O8emP8CM9wuQ7dqgF30WzaNOCNIu/P+8Nb6SyRt0QI\n",
       "aI/i7DaUd6RIFoUXePXGiKvJdoldh94fDbjIO9jjD2/40OK/T4q8DbWgRAio90Y3kdlQ3nirFjnT\n",
       "Js6WK6ZY0NgnJ5sDdh16nzXgTJNcTx8c73C3T7yPZVzHt6EWJDMX3aiziP2ICSmcjcj7JLl+FMYZ\n",
       "zQkzmyEWjGbN+VKmQ++zBpxpku3zpf6/DgPOu7rgyltXC3JCQKvYD5tQlykRC1LeeJWmohBsNcWH\n",
       "vEszxYLBVjOAk+nQS9SAkydsoGuSp9AHx1sfZgPOO1brwDuB4sGfabpakBcCWsVn2IRMbBKxIOWN\n",
       "ZRgH8RKzIT4U7nxDLBjqYC/VS3XopWrAoVljBlSTTDTgHwi8T4FPvIVfTbCObzDVgqSrZKPOxhuZ\n",
       "xG8/WpCKBSnvheq7ynDyWx56c8KHGWLBYFaazxs6dL14acCjGjOgmmQiN23ieQfP+sb7mObKW1cL\n",
       "mkJAzNvcu1uvYZPoeDQZysSClPczs+N/S5NL1pszGhDEgvGCx3oVK4YGfCdIsygsHyEGVJNsX69K\n",
       "pHzjnSi48tbVgqYQEPOelad7dyPxjh02WYAHr0QsSHmrt/4jq5AT9eaMBgSxYKWRYK527bOuASea\n",
       "ZLsGHDYB04BTTbJ9PfYFzTfeoS433qZa0Nxpwv7E7GaemDQFDoNMLKiLG0NZNPd9iWvOaIAXCyaM\n",
       "Vre6L/gxDTi9F+zvY79vGpAvb7XA29C2+fD7g/9y4y1RC2KxnymLiuawiZqNvikmikwsqPNWLtXi\n",
       "itGc2QCvNtxjBi1l3E/DGvC4sJ9m/syiD7zDKRfeDmrBOHfkJCgUeMNDOCcsGrZxbiwaYkE1dWVX\n",
       "eQ3e5hArjXd5f6/3PxLe5dKfVAq1Xe7GAe2K4q5vZrwV/ec1S/y9XnV3OX+vF0fMn62i6M5s5u7d\n",
       "2v8BXoq8fO4ETf0AAAAASUVORK5CYII=\n",
       "\" style=\"display:inline;vertical-align:middle;\" /></a></dd>"
      ],
      "text/plain": [
       "<IPython.core.display.HTML object>"
      ]
     },
     "metadata": {},
     "output_type": "display_data"
    },
    {
     "data": {
      "text/html": [
       "<dt><a class=\"ProveItLink\" href=\"logic.sets/unification/_axioms_.ipynb#union_def\">proveit.logic.sets.unification.union_def</a></dt><dd><a class=\"ProveItLink\" href=\"logic.sets/unification/__pv_it/axioms/27626206f9e9a47c658942b46a67d3c49223c4d60/expr.ipynb\"><img src=\"data:image/png;base64,iVBORw0KGgoAAAANSUhEUgAAAfIAAAAyBAMAAABVIETjAAAAMFBMVEX///8QEBCIiIhmZma6urrM\n",
       "zMxUVFQiIiJERETc3Nzu7u6qqqp2dnaYmJgyMjIAAAAcRTyBAAAAAXRSTlMAQObYZgAACEJJREFU\n",
       "aN7NWmtoHFUUPtnd2cfMbpoftb6wLAlELWIWU1swiquiovjY+MMHogmtRSuiWwvGR5X1ReOLrCC2\n",
       "Kpq1lapVYiSIRgpdW39IFLpUxYpoF6qgBe22TTVJrfHOfczc1+zOGhz2wpmZPXv3znz3njn3nPMt\n",
       "gK/WNj9fhgW0z6E1mjlIznvmD/v8RdvkK6UF3DBZbhHkcB05vfvKh36R5xZ0v25F87q2X6KyUGST\n",
       "VLxaqkov+gNBbnUoVlfQdnyHnG5vbnij6l5Hi0Q82/OBIn8zK2va9Q/3GzkdchT4FTPVjoK+vcZN\n",
       "aZVIw2cJBvmTiuZrvSlmyOmQ41Mwhna1p6D/aY77ZheVRvYXCHJrTlE9JADeOPQYvogRS3jvYsci\n",
       "8litDsnrzYlZfk2peLYNASKPZRRPludf0yfYEm8ip0pPthnkqdA0/x5liXi2ncXgkO9XXuoQmguz\n",
       "c+2l2CzHHNvuwsdIaWelGeRXWyf4DTRDpNE6BIL8QUUTR9Deh+/S2MjXOuoX8PEtGEgjSyj4RG5m\n",
       "jSPStoW3ruQfuCmTkJoLDLkxrc77OMAU7CldZX9wN7hH8DELoxkwevM+kUcgcZR3Knki3mHckcCQ\n",
       "hzvU4bL2xjRMJmapvTT4cjH+vLr3PjQZEb/Ib+xdMcPPc42Id/sjMORtg1rkAGTyE+6aLyZrCG3V\n",
       "JpCjoZY2hbynGBTygYrW2sE4Rj50iNaOvop1MOR43x7z2M+x3kKyDgUI33ZmOtcA+R3+LX3P1Wkf\n",
       "rQSFvKeo9XCfhmqwzP5wnuDhEuMkKCPIl9uHCXVMV/8aifm+OQOWlLp5D9fABoNA/rgmd8tA5Hi8\n",
       "RhIUbAC47aZ7enyWIR9D940ctP3SP+jwQZVeuHocGYwUE1vyMA0X2l6lTMS7xfMEOZ6eH30g99dR\n",
       "005RVQiWuWpZFxnNvOtqqr4S5SzzB8Ea+StDkSd+/ejWu/B+/4A9R4P0wtGbI/+U4JP59RBNGx34\n",
       "bWnPEamTMtcI8i/t00EfyP111OwiRzVKIXqNfCFGr2xysMPqOk+b3Mj6tlyokKghxG8DkTqJ6jGC\n",
       "fLPoXr2R++uoecYjGmXdjMXZl5too2jVU4Vy44yFPVA/tCObSY77QO6voyZfOa571/RZ6jNuZL/y\n",
       "z3Qzd7kCJb6Je0qNs1RmhP2Qmtq+fZMfD+evo5dxNVWZWECzpzRerN/nT+rbZ4aHN/jy7b46qi00\n",
       "q9P+X9Wo76nUazMU+RreyAQfKCGXO+p/paiTc9BibSlFfpnXexGWkEsdU9N645bV4ZZDfjJFHoOQ\n",
       "ZGM3XZgNLVGRSx23ntAOq6ijtVZDvo4iT1b4jMDc0VuxClNwgYpc7AhT67XDKurWRZ6o3shp901u\n",
       "B2tvGMrJ3pW9fQJy0nHX+d04QjLSw9rNUlG3nrUPsbj9mTvQ23nRDV0hBClixxLWrbeky+qa446h\n",
       "0r0xnGJGYSU6lORRsVr0cLOyT3+90aNN+sXgZy+wikRUDwcTKFpKXVJpuzs0SAq5Vm7qWx1yu6MB\n",
       "vxPND9ADxmcKclst7WrHpH3c9AwEGcMQLfpE7rn/8+TDWqHihdoShnwRCpZePRMWZVGKs5UgT9o1\n",
       "PAX5IhxVkSU0D3w1UoKYjJyovZ29zTC0e+JiDAPZQwx8rSYfOffL37xG4smHMTnFP8qQp+xHXYUu\n",
       "Ubp40/DwcNrKJSp5DXLc0ajhm4ZLMJpTkWN1qu/H83c4T2xNS/H6157RnsMw4MA7iu+pxrB2/QH2\n",
       "ynG+2HjyIZkm4qzO30J+fhKcBaMGek3xmsPlaTatUn4+mqwmYXMJrkUmUMHIN5cSz7IDUVvnwumW\n",
       "kyIbJ6QcTcjTYN/QELNMl2HAVIFh56TK3AJgh/ywnNsJIwnkg9lBRM5YqKuooVXfl4QknucspMoe\n",
       "lYlt3+yagv7x+AwkRh7Fz9U/bpwK/UX7wNRrzHw4KxoXvU1eYhng5mXutcswEKrAtuXLNJaM8GJP\n",
       "DJu8RhLJh5+pCCkUQx4ZRPd5eQrgObtAgLoN1q3JsJQNr8i4os5bmZjlaB/jvF1GYhlMLuHnGAZC\n",
       "FUzoQ2Qrw5ISm5nY0v3SOWlpJIl82E1F2GyUalQIvecNq1FskzB6+vgdg12Zg6Fs9Gyn98Vi/U1g\n",
       "GXgvzjEMpJAWY3yDWni9mdXtzHLq/lhVGkkiH36iIoRW/60Ol9J/SOl/u78k1FwFliHO9eMYBlKW\n",
       "CKUhmtUM2AlwB6vVJkvJuUhRGkkiHz6mwrAUAqs6u6+DXWfnWQbotwvDxC/xDAMpmJt5XcHZLjbR\n",
       "1GmxzaHHC/JIMvkwQIU56XRQyDmmgSFnLAMucTkL5TIMlCroI8U/JYkcp7UhzEyQKIMfSSYfJOTB\n",
       "MQ3hmmLtDsvQJnhNh2Gg5cc3QFuMS1Rp6oSZiYGcPJJMPlxJhbaNEBTyyLTi4RyWIey4U4FhoFRB\n",
       "/DZ9Le7pvcA8nFXqQbmEMJJCPkgeLjhGEdy8lZLbLstA6VOQGAZKFRh3YueIyQWHarDf44ed7er6\n",
       "8RGaAT3CBw0C+cCE7l7Bscicc6ekl8sywLanyJciw8CoggPk9AA7xIjLaKdRKzLhbZ1bLqoII6nk\n",
       "wy9UBLcTCPK2cp3o9ZqNQ0IxDCNnVMGrHskpnUoxepVHYuQD2iKw0Bbkv0W4fwjVzVhI5zw0ogrc\n",
       "AKLev0Ic8kHKWKgdBfOvsAP+y+GYYWhAFTQs/5LGyAcxS7VOCxL5izl/lQl+fhZWmZCnx52iYP8J\n",
       "yHFkvqpR3/sd2E81KlUkQttqCBI5rGiZ6mOq0Czyhf3LO5puFeTN/8t7gf/sX94iwM27yXnP/OF/\n",
       "Af8+kJiV/IheAAAAAElFTkSuQmCC\n",
       "\" style=\"display:inline;vertical-align:middle;\" /></a></dd>"
      ],
      "text/plain": [
       "<IPython.core.display.HTML object>"
      ]
     },
     "metadata": {},
     "output_type": "display_data"
    },
    {
     "data": {
      "text/html": [
       "<dt><a class=\"ProveItLink\" href=\"logic.sets/intersection/_axioms_.ipynb#intersect_all_def\">proveit.logic.sets.intersection.intersect_all_def</a></dt><dd><a class=\"ProveItLink\" href=\"logic.sets/intersection/__pv_it/axioms/dda103bf99bf7ad3c35c024db62c42b5dc934e050/expr.ipynb\"><img src=\"data:image/png;base64,iVBORw0KGgoAAAANSUhEUgAAA8gAAABABAMAAAA0d0MZAAAAMFBMVEX///8QEBCIiIhmZma6urrM\n",
       "zMxUVFQiIiJERETc3Nzu7u6qqqp2dnaYmJgyMjIAAAAcRTyBAAAAAXRSTlMAQObYZgAADvpJREFU\n",
       "eNrlnX9wFOUZx5+77P3YvbskOuKMYOuZzFiKUk7TVq0Kh86g/aEcdKR2hilXLCBOrWdFY23VlD80\n",
       "aitHO0XBUhZoi6Xa3FjTNkaaQ2ynoyjnoG0dRc/WcWqnlQiEQhDT98fu+2N/3kHgkuw7c3e7d8/u\n",
       "u7uffZ/3fb/7PAlA8Moex283nnLm+D2lplNO0UHLH/sOlJGRj8Y711SaL4erzpDH9xmGdIBrhPUr\n",
       "jM/4yMiRWiAf6X9qvEP+vbA8W3c02TL+IYeFphw3bmulv78myIPj3kGrk/iyNgkmKmT4r3Cap7HF\n",
       "KcGAHBO8dTQ/cSGvFpzU7GLAIL8kLC8qTlzI4g3cVA0WZPWAsPIuTFzIkWHBXx8JFuR4lwD88ASG\n",
       "DP8QvtkeLMgDRScvNhEhvyx805MOFOR/iRcj7QU58fUPfjgW+pdKPdZ9HPKGLP86ORwkyJGjwsqG\n",
       "nAdkde/t7Xtva9yR/nVkaTe+yR6ra6tokUEOlYU75WiQIEfFE3gLPCCvRtdDuSfXuEM9hI4BjZDf\n",
       "q2sjrcogR8XO6P0gQe4RZ8YXekG+BV+pWGvjfM4+xGkIUpn6NnuWQQ6LrGYUAwT5LaGjgjvk31L3\n",
       "dd7NICcOmFe6QSWMhv6xwxAr1rfZRgY5Ic4desoBgrxKXNkvN52VutCS49TZPdS4uR5yIgNd8HCd\n",
       "mzVnTcgRUadubg0Q5EPiCmmmWtvyy7GPg9/ooruOUTe5q2FH2pKHxOkA7egI29OSSGkrmy4AdbI5\n",
       "js6YkDVxjJkcCg5k5UNxkEKuwuPwtzTx0sulPtkYm77VsENddNM5+9GwDw2wk0orzPAyLc/mHXCq\n",
       "akIGsatR9gUHclIUNem84nnYpX8eL3SNLcgzdHgTwfouwKNNVeiGSJfrTLo0kwt5iQKDLN3Qh4ID\n",
       "uXlY7IRJp6WjC0jWPv4+KmMH8veRx0bHcBo6wlAa9kU6Cq7TJjgVWkxdJzLIIEtDjluCA7mlYINs\n",
       "ujX1pLRk1WfexBcPAmzIE8gwV48MgVJwpzIMi3I+kG8uBgbyhi6bu4aIMSZprQlyZOcLr/pOcUUb\n",
       "xfhs3/k53H16b5lgMzwszQ1kiLuGmRBu9YKM3PnZrDrmrrUPJe9fCQzkAVFa0EgTfhqNWabhhQtq\n",
       "gnwFJHyvgWQTpx8/y8I8naqOXuViNk1Gt96utIYHXnAvxPNekNGv98LuV9sy0sBLPSoJBOXAQJ6R\n",
       "Ftfwra4ciQ/SZwCxkg/kX++4DOBOaYRmK3YbClk9AzW4PCz0O8BfstEDutID6UdhB1r+LMytEMg9\n",
       "ePKO37SPxIWmvHIUXvkYnIGXy47zZJibNyCT+f8eP8j+VmO3zCqJa6fj5rx4Wjs9Ge2GL3hCTj24\n",
       "Dl28wwAl9/072FDIMXQfpVphie/I0GjqTXsPViC5Mg1XYvJts4oEcuxOvCuM63ZzoVPH59B+WN1U\n",
       "ADyqbM6ZkJUDUkdVNSC/gD/+7QfZ32rslpuz4ppFzlL+IsiaDPLledwywQxsffs5h6tyDsR0NxsK\n",
       "GfeZqF8oCLZCYXVA2PpgkcqaM2lnC0/be3Hd6JWjaaWVHroBOTUsDTlbDciPWAaZzpD9rcZu2Sv1\n",
       "idvdzETI5eFIK9wIhgeDzWeh8e6Nltl3iz6PLgk2MuR3CQm1QG2jFsykDsosb/UNGYhWtQMGZPu4\n",
       "LYle34KeLIRyTeWc+IAiKT1cCQ0akJvRj8mSH2R/q7FbzpKu7oDuD1n9eSHctXAy8onGmE1dBgsn\n",
       "y+brroSp1ONzGwtk3P2HykoXsY1slysmdRgX2NZ67keuHgdOY5VDS9sOdRN63QUrkT+G2Bdz4qPG\n",
       "Zul+CQ0bkFPPb936sO/Ay99q7JYRaa2nUkNLbipH09iZRu7o7l4Jv0BbgelbWbkUFtN5j2AjQz4V\n",
       "cDyOkqe2VodN6qB7qFqP5TFQ2j6DboQLD6YhZT9UfAqXt6MmPAfCL6LaeNCAfHaxw+bo+lB39/f8\n",
       "R9e+VuMFcjxfA+RYNpQjVIlxP8ACO+QVMCl1yZ6yaLN72xsi5KXa6+ppRJpEtjbIuA66gWI7pPrC\n",
       "f14DBnmg6Ax5CfYO9lKWIbtYNa74TD5zbpBTre6Qk3SrL0MsN5dS/RNevwi0B8jqI7r6gPkGtymD\n",
       "ialoVCXYPNkVEyFvnJ/6YxY0ZIJsCWS2A/SB66AbpMqjcD0o5JnysH3IhHwF9enWkpEhG1YLd27L\n",
       "eYs94Ut30MH8qutvkHqT7CjRpRUkfayecoOsHXGHzE958UMUchyPQy4mNaLVeaXIGTCviN9KMGdq\n",
       "FZbgZsptornrRMjaRX/Oq2RDbIshsx1EppA66AZN2VGDLOsecQY5Jg/hI7c+B2fnbZCplZKBAW+x\n",
       "R30HInSI8jKA5ODJ6CLa3X3fcQrBtILlPmZNrKVrH8i/fKoGyL/CohPxz1NRf0sLXuVDz5JWjFeg\n",
       "EH5FtInB9KyoeEEkvx7gXCC2xF2zHSRIHXSDZhgtyGHZTcUPmJCTlZik3fwhqTfpNsjUCh1o3L5/\n",
       "UexZXcRiDRDJBpbZIGPOx3cytIKIn4fjubpWyKGcP+RvKlWYv1+aTeDVBLtzEsVo+RpUSeJFWbp6\n",
       "piJBVj+ajFewbWTGJSDsoI/UQTfYNmqQQxUXyGp1gaTdbEtnkrCj49aOkgiZWrUU0S1oK6LYcxeY\n",
       "Ed7fpsPL0YZMK4j6RlSygEdtxDIJrfpDvnqns7YlLClveNxnrCXchxqqUmG2KWGAzOrQMqMG2eKl\n",
       "OGS4/xuo9svmtxvaTW/vj5L2PplYQfOZTt2HIPYQf0EiGrQh2Iz75GT7/CWjCNmoICYqRo4y0nSX\n",
       "PhlgpT/k4y1N0lqfzynpowUZi+XOAy/4LRr+pWZXQkWq3fQmn1joABlbgXb+B1mbdCOKPWQyToZ4\n",
       "yr52UuW0aHUFhxzu6DjfsvX88871OX7RwqjgYeCqlLOM9DtXyFtyJxxyAwqGvKXkChkHGKz7BLTo\n",
       "1G/0QnmHA2QjDGFNwSrdSGIPjmsA8rc3klUa4pxrrojueutWS3aAWvYbREkWRgVXAVOlXGSkq1wh\n",
       "q99xrKane+X4RRzuXqWT2DB5Ks4hpzC0xTDb0G56YX3MATK20nKgDdpm9aLYE0qbM9F42Xia01J0\n",
       "7ZN3d2QgkfaaXNksjArmAFOlXGSkr7nImqj8xLGqyLVfHb+Q1WuvRXisF5KLIbRMgksjVLvpBWW+\n",
       "pCbw58mJEpoU2CCLYk80/0RpNamrpQTUMS8ydsUhP5mOE72fag8PfRKsPQAxIO6AWZjFqOA64KqU\n",
       "s4w0h313j0uft6yzCBOtKJ3itJU9oDDuhEFY0Uu1GzTze8Mua9J20gWP6RgyF37QGxd7HtG1SenX\n",
       "38ELsEiHZZG1D6iDLxniGYf8VGYB0fs30arfzFl7AGxACrPgUyNaAQ6SNlQp6Vi4jMTPYZXLSLwA\n",
       "E7GsEZZbZMhKHs6rEO1GuTtrGQALkH+MY5YQ5MgUQ/gpoiUu9swrweYfLIUiWkjesxyua4tM0W76\n",
       "0nm6RQxpKk0neK7qQM54LZ7zWpwDNiDtkVlQlZiM8kgFaANTlZKOhctIn2Z7m1UKKuSeAthlMEHf\n",
       "cYRsuEQdhNlyQhR78OVcgNX1kvyr2JLxc8v3CJ7H8coeCOfIfYN7CPKWIwakPTILqhLTgisIl7gq\n",
       "JR4Ll5H4bHhGZYxCXu/dzdado9xnhbyoywmys5+XIRPpps86CSTaDRF0Nrytc2Wnzwlyqq2V4Eni\n",
       "zvvFnc+R+2a1rhbQzEgtqJOJAWmP3GIJjzPHFaC9MVVKPBYmIyX4JRoou0Gu0nuoQUXrcvz62HOU\n",
       "ScSgCNkIYTzWQL6Kw5Ih6MRXCMpOxQny+kSZtkE8djadA2+PJWJA2yOzoCoxmBXA1VwxqjjJSJuF\n",
       "+znvBrmxQU3NLuO+Y85RJo+QRMgnPySXz8l+2gaWx7MWyNiA6cCGFC2rxIIK7FymCcOPqhvkxgY1\n",
       "7Xb++jhylJ+1QJ6VO9mQLSqWKP+THuCEldigG+TGBjVJmgzPkz6OHOWNFsh7obGQT2JpGnKD3NCg\n",
       "JlXK3uF50seRo4xfIuT/BQdy4qjr6PoEBDX5JD5xkSmccc6TriNHWTTAOcr4JUCO7A8OZO0gW0y+\n",
       "T0rGhOwU1FRL4pMcIWOoiTUlPvGQlXjFOU/amqPsnr4qJTHjJ6j4JUAOHwkOZOh0bclOoU+1JD7J\n",
       "ETKUQo2JTyxkBWfoOOVJW3KUPdJXjSRmw18V6EuAbP7Vo0BA3lV0g2wJfaol8Ul7pqNiiZAh5rUm\n",
       "PrGQlVDWOU/akqPslfRGDQwHNEhfAuRQV4Agb0i7QRZDn2pLfIK/9221RsiQa1lr4hOb/4aIl7fn\n",
       "SdeRo0wNXCHPrQQIcnPB0ifnTcgkqIllKrknPvGIE4X053KEDCHknfgkfDldcNcOedL15CgTAxrU\n",
       "Q8wU2V3frAcIcmrIrSWToCaWqUS7Z6fEJx5xQiMrSYSMDNk78YlnTrGQFTzwcsiTridHmRjQoB6n\n",
       "gZf5VweC8QdUP3SFjIOazEwlj8QnHnFiyqVrChbInolPPHOKh6yg+Y5TnnQ9OcrEgAT10Bxl/Fpj\n",
       "v7eDAXm77gaZBDUZmUpeiU8s4uQr3d3daRohI0P2TnximVM8ZAXBc8iTritHmRrgoB6ao4xfHHJz\n",
       "NVCQQ2U3yCT0ycxUIl21c+ITizghj9pJhAx/xE0geyc+8cwpHrIiyZo8T9qssaYcZWxAgnpIHOIW\n",
       "SdacmwsUZDk1W4RMipmpJCc+OUeckIAkEiHDH3ETyB6JT1LmFA9Z2e19zGaOcsI9R5kY0KAehwcU\n",
       "/4RAQYb/eEI2M5XkxCeXiJMHwYyQYY+4yYdH4pOUOcVDVuLeuomRo0zSV11ylIkBDeqxP2pMTA4Y\n",
       "ZMf/IGNC5plKcuKTc8RJGPXJxvbmI26DtXvik5Q5xSQ2rcvzmI0cZdqs7T/j8Ro3IHdMXAoa4Ckz\n",
       "AYGcKnhAZplKvLhHnIjSlfmI24DlnvgkZk4JISujGf7zmvHikJdCwCDD9R6Q3bKaHCNOnIrZIl0T\n",
       "n8TMqc0n+EzX2O/rmiBPgH/I2eygVHaOVty1FMPhk/gkhqycgKJ03m4srTZOrsZ/yKn1j/9/yKnl\n",
       "IGBlrYm9v//p/wNhuX1oYfHnRAAAAABJRU5ErkJggg==\n",
       "\" style=\"display:inline;vertical-align:middle;\" /></a></dd>"
      ],
      "text/plain": [
       "<IPython.core.display.HTML object>"
      ]
     },
     "metadata": {},
     "output_type": "display_data"
    },
    {
     "data": {
      "text/html": [
       "<dt><a class=\"ProveItLink\" href=\"logic.sets/intersection/_axioms_.ipynb#intersection_def\">proveit.logic.sets.intersection.intersection_def</a></dt><dd><a class=\"ProveItLink\" href=\"logic.sets/intersection/__pv_it/axioms/f7148b70f8b925fdde5e4c1a61aa20e7994e0fcc0/expr.ipynb\"><img src=\"data:image/png;base64,iVBORw0KGgoAAAANSUhEUgAAAfIAAAAyBAMAAABVIETjAAAAMFBMVEX///8QEBCIiIhmZma6urrM\n",
       "zMxUVFQiIiJERETc3Nzu7u6qqqp2dnaYmJgyMjIAAAAcRTyBAAAAAXRSTlMAQObYZgAACDRJREFU\n",
       "aN7NWm1sFEUYfu96e9fbvSv9gfgVyaUkqMTYixVIBMKJUZT4cfVHwZjYCx+JoNFDEouCpCpJC0p6\n",
       "JkaKRruCAUWDNfzQGhJO8IcpJlz4iBADXIL+gEQ4oGBbhDo7M7s3X9vbs3Fzk8zu3nuzs/vMvPPO\n",
       "+77PAngqgbGxPEyg/Ay1UfQMOR8eu+TxjsDANnMCD4zlawQ5PE1OX237zivy9ISeN12SfKpsFy1M\n",
       "FNkArW4lXqQXrb4gNxolretUNvySnF6ornutWL4O50h1Le/7ivzzlChpUL/cOXK6yI6Ryypj5A0l\n",
       "RlwkteK7+IP8XUlyVK2KSXK6WEb1+NqujaqmrPz0KPPHAVor6Z8vyI1RSfQGB7irYwO+iBBN+Hq+\n",
       "oxGxTQBtSYXJZOT63hF2Tml1Let9RB6RXj2aZZfpO/YUbyWnQnOK042XQK0zVB4PDrHrKEWqa9mf\n",
       "8w/5GWlRB9FY6E0rF2C13OPo9jR8DJn7HRO/2Tr0yl2y8kXGDVYbkqRWmgdfkK+VJPUI2jfwWwIr\n",
       "+UpHvAUfv4D2BNIEbP2xbkTkLhm5ntIuC9sW3rpiF3CRBiE+6htybUge936AQThsPmH9KG9w6/Ax\n",
       "BX1J0FqyHpGHIHqFNSpZUt3duMu+Ia9rlLtDC9GEbjIwU62pwZeT8e9lLa+iwQh5Rd7WMmuYHecS\n",
       "qe7lgm/IAxklcgAy+NHynE8mcwiBYhXIUVdTq0LenPMLeXtBqe2gXSU/GnltR39FGr0jN1BdjYz9\n",
       "8aZk0wog9+F76TqXh72v4Bfy5pzSwv0YLMEM68cDnIWL9hOnzCvyT4jPd+wumGJOZy1cBR30A/nb\n",
       "CkckCaHr9SUSoGAFwOUg3dPrRyTk+k10+LZIL8py7Bn05KLbszAEcy2rkifVvdRnCXI8PKc8IPfW\n",
       "UFFuk0UIlr50xjTSm/7iIipeiGKWsfNg9PydlOb8desiQy8cud5z04QfxtZAOKE14tXSkCZ1nJC5\n",
       "RJAfsk7nPSD31lCxi1xRCDnvNfQL773ag2O5c3gHlu+X5IF0sDNaQoh3AanjBKpXCfJe3ry6I/fW\n",
       "ULGdXwaoLmJx9uUqSh+a9XhnvnLEYr9QKzQg3zHW7wG5t4aKeOW6aq2po9RNZc9+9rVENU95DAW+\n",
       "0ZfNylGqrYStEB/cvXurFwvnraGbclWVmZhAsYa0Pjd+m2vUtg93d6/3ZNs9NZRLcEQl/b+yUSdp\n",
       "Ha8MU+QrWCXjbKCAXGyovksSx0ahxspUivwRt3VRJyAXGsaH1MotiutqDvmtFHkEgoKOLZ6bCk6R\n",
       "kQsNd9xQdiuJw6VaQ76aIo8VWO9Q39dSMDoH4SEZOd8QBtcou5XEtYs8WmxjpCcGdoNxpA7ysZbZ\n",
       "LXM45KThgZnTsYekJbqVm6Ukrj1t77D99k3L0eqc9+y0IIIUsnwJ4/nnEnl5znHDoPlKBIeYYZiN\n",
       "DqbYKxbzFm5EtOmfVnq1Aa8YvOwFRo5U2cLBXuQtxR8uBFYFM9CA26YHj6uQWw01+ItIfodm0H6S\n",
       "kFtiYVe7KuzjuqsjaDMM4ZxH5K77P0s+rOQyXqhMsZFPQs7Sx3fDpBQKcXYQ5DErhychn4S9KjKF\n",
       "+tlfe0yIiMiJ2N3YWwxDgysum2Fw9hCXllH74pxbTyz5sIdWp1yxkcetV12KLlG4uLi7uzthpKOF\n",
       "rAI5bqiVNLx6TehLy8ixOD7n1Mx9TrhkDAn++lFXb89hGGzH+6wLrqTs5/OFJR9iCVKd2fmHi89v\n",
       "gXugT0PLFM85PGplP1XxeV+sGINeE55CKlDAyHvN6Gb7QMTG/XCn4YTI2g0hRuPiNDjR0WHPcJlh\n",
       "oFSB1mUqcS15E6TYjuuJIx/0RlLFiIXqTwnN+okYxPDcpiCed8lM7Dx2YBBa++uHIdrzFkbe2q/d\n",
       "Dq0562CLV+jZuhSvXPQxWYFlgCUzmNDTYRgoVRBeoI5aljeR81a3nnjy4Q9auRDKRh7KoDXz0SDA\n",
       "e1aCADXLjJuTsUM2rO39kjhrJCOGI93AWLukwDLoTMDPMAyUKtgDylBVL1LHwmImtk//8L6E0JNA\n",
       "PhykldtspGxUEK3zitkoe5PQmuewO4Z9pWeCqfC9Tuv5fP6NYxlYK84wDDSRdoikQ6SAop9Gy1vQ\n",
       "s/Lx1yJFoSeBfDhNK+da/bc8XFz9I66+94zJ5Vw5lqGeaccwDDQtkYXPVB1GkFNl52pjZmw0lBN6\n",
       "EsiH72m1sXT6lnUuLwcrz86yDNBqJYYJDJZhIAnzeALCqucewXEj4Py8DvWdYk8i+dBOq22kE34h\n",
       "Z5gGG7nNMrBkIcswEOTIimgZRYfIsrfZyG0vg6MdUzz5ICD3j2moK0na7rAMAc5qOgwDST/uVfsq\n",
       "RtL2hjAz0Z4WexLJh4W00tIFfiEPDUkWzmEZ6hxzyjEMxMKdo+hFPyZH0GMLZ5jNKJbgepLIB8HC\n",
       "+ccoQjlupeR2mWWg9CkIDAOmCrCVt/ZNTC44VAMsoRqPt6pn+ntoBLSOdRo48sGudPfyj0VmjDsl\n",
       "vcosA+zcSP7kGQZMFYQtgxC0phKTCw7VsNz6hX0ZpMI7m7bPK3A9yeTDn7RyZscX5IH8ON7rk10d\n",
       "XDIMI99FTR4q8oOxhdRk71XsySYfdNSjXnaJ/PxahPlCaNyIhTTOQiWqoOxAjPdViEM+CBELjYL8\n",
       "+SrsrPd0OGYYKlAFFdO/pNjkAx+lGnf4ifyDtLfMBDs+E8tMiMNTHiJ/vwRkODJP2aiTXjv2ko2K\n",
       "50ilZRn4iRxm1Uz2Md5ZLfKJfeUdTtQK8uq/8p7gl/0P1ghwfRU5Hx679C8OpIs3afBCGAAAAABJ\n",
       "RU5ErkJggg==\n",
       "\" style=\"display:inline;vertical-align:middle;\" /></a></dd>"
      ],
      "text/plain": [
       "<IPython.core.display.HTML object>"
      ]
     },
     "metadata": {},
     "output_type": "display_data"
    },
    {
     "data": {
      "text/html": [
       "<dt><a class=\"ProveItLink\" href=\"logic.sets/subtraction/_axioms_.ipynb#difference_def\">proveit.logic.sets.subtraction.difference_def</a></dt><dd><a class=\"ProveItLink\" href=\"logic.sets/subtraction/__pv_it/axioms/121092968c3e11008ab8ff050da5d7cb39322b310/expr.ipynb\"><img src=\"data:image/png;base64,iVBORw0KGgoAAAANSUhEUgAAAZ8AAAAWCAMAAAAo9GECAAAAQlBMVEX///9jY2MJCQkNDQ0rKysP\n",
       "Dw8WFhYQEBCIiIhmZma6urrMzMxUVFQiIiJERETc3Nzu7u6qqqp2dnaYmJgyMjIAAADRR/RZAAAA\n",
       "AXRSTlMAQObYZgAABC1JREFUaN7tWcmipCAMdFYB2Zf//9URECWAIjr95jIcurptSaoEkoDT9L99\n",
       "ZVv+mWdhIA51etaUgPgRii2HzxWx+2oi2v1/8+pZSQ5xqNM2t2y3g6HOUYwp58T/pJsUKj5GEVLr\n",
       "OurYXuiAmoBapbutfDM+VkAc6rT9cje6zPEBYOcjhdwem7QfowipVY7EpaKqYTKgJqBIAy74m+Ex\n",
       "GOJQp+2Xdf0Zsri4yokLfTWKlxP+dYoltdKRxReKuuGtoyZgWjbHQnrSmIDYVMnZ2mzdKc4WhV1/\n",
       "YqPtHuOCBjlvnecPUSypFY4WzmTLx4nt37+g7Y6agEZL3wR7VRwwiK2Zz5Fsd9ror2xJ1xGfN+bb\n",
       "c7FbF0s+QrGmBh1RgtCpoto2F2NqAjruG9NvxgdhiBIhKgjKooGs0xvKgwGRk3L9CsWFBLswmlY9\n",
       "hviXKdbUgCOfIVjDx4ntKnv11ASkoSbnpysz/4dwh/VacJQ3cwNQroNtGJqy1dyofHg2HJL4aNzN\n",
       "IoujxiDO1JEZIHpRNmv4HcWamsmfsc8JeV7o2EZoUE1Agi8rIAOijgkrUpfhPrnYUK/zQa8plRyK\n",
       "G9UHy5R5H8L1F0EM2HJOdapiEC/SzxOKNTXgyH8XtvJxZrtcn101Ef0HOgstEoOog4MpVVZaMwHo\n",
       "/+VwbzPvU7rqFPYFeN0HOJ7Fg6wtZcBelak0BSFeFOZPKNbUckcmrAe6lD5ObP/8UdjuqomozcW+\n",
       "VkuWz2oWKGF7LT7EVrCYW9V7dnP8Ntt76ccrQi/H5x7FmlruKGb1bM95bbuqkLtqIq4rNPnQCC8o\n",
       "mxDTgsBMkGEjhapEWgSPYBoeNc1X8S31nrvpZ1vLNAVdwiCW+Ye+o1hTyxwpXO5Jr22zYTUbckHj\n",
       "DWsJSO3EsoSz6sOZXeLQmtDoaarfUMl1TkR7e2BE5/WBUDcPENJ+YdnDTaM+OCtznlCsqWWO0rgo\n",
       "XPho2yZ4WM2GKg3BOuYWJCKjpuhqn5vBcBUNYWFI1njKXXFWyNRZp33XwHsbVBtnMZl5Uo41xPP2\n",
       "iGJN7XC0cBjnerbpMqwmYRYswSOSFmvNs2KAhw7ClULggpQUIYkwPHCVlBPZ6CS5cyFeqvULu6rg\n",
       "qE3HiYf7VDvY7sH9A4otaocjuoeZvW6+tP0dyr+jJqGRU5b+DqlYhtE4LsSBIfU8v3N4QjS/ON95\n",
       "dmrOIL4936konjncC4cUd7q2zbee7UpNqUq4EMC0rzf8yJA4A3waixdEWEpi1p84H33Svuh8tHY4\n",
       "roiLYTWlM0kN0cjvrpZZ+ZjLQ2nomIkXNHN+L8DJhXs+sib4ywU09n7hEcW2w3FFN146Nd8vnDXV\n",
       "vdD2/+L93Hgbe+Iv3s/dnlCntpEZVnPlrHqT2321+w/ebxsBcfoExZbDB4r4sJpLZ6Z74X/7ivYH\n",
       "3sdS30T0azsAAAAASUVORK5CYII=\n",
       "\" style=\"display:inline;vertical-align:middle;\" /></a></dd>"
      ],
      "text/plain": [
       "<IPython.core.display.HTML object>"
      ]
     },
     "metadata": {},
     "output_type": "display_data"
    },
    {
     "data": {
      "text/html": [
       "<dt><a class=\"ProveItLink\" href=\"logic.sets/comprehension/_axioms_.ipynb#comprehension_def\">proveit.logic.sets.comprehension.comprehension_def</a></dt><dd><a class=\"ProveItLink\" href=\"logic.sets/comprehension/__pv_it/axioms/ea42a69f04ca00a716de68b60b45771ff24608160/expr.ipynb\"><img src=\"data:image/png;base64,iVBORw0KGgoAAAANSUhEUgAAAtgAAABABAMAAADSVx0xAAAAMFBMVEX///8QEBCIiIhmZma6urrM\n",
       "zMxUVFQiIiJERETc3Nzu7u6qqqp2dnaYmJgyMjIAAAAcRTyBAAAAAXRSTlMAQObYZgAADWVJREFU\n",
       "eNrlnHtsW9Udx3+x77Xj6+skmlptpSBMonUVg9U0Y6OjFBckMu1Vp3+UaqoWr1rDmBDzeCyFjjVi\n",
       "E6Swru42rV0n1tvHuq4TjRkLrA1dTcPGRFvV0LIVUVojlU1j0IXQB0kf2T2Pe885957rRxLsyBzJ\n",
       "9rm5xz/f8/G5v/P7nfONAapWIjmo1bJtzO9URkcvTdhlvMKqn6lZ1qDkWTVGXutHR8+X8s7z/X+a\n",
       "qKsIp5jZy2oXNsxg1Ydpd/v7S4I9OHEXsTZhVzclahh2A3ORm+JWbXqFYd/Dqp01zBpC7LZVplUJ\n",
       "ts58mTpcy7D5oTSvSrA3xtmNlqxp2B2GXe3NVAd2D8c9XdOwG6Lsdm6qCuzwsOTmcoXfN43zU74+\n",
       "3stUZxvjTyKa7Ko2VBXYDd2s/jGPNto73DRTVtqzi76+4JiryjISRjecMnX8M+RpVj9kVAN2B+t3\n",
       "6IzXkCCftqXF7PX2sqwH0iLszXMH0OeVZwTuLHjblV4u5zxmrhqwv+tiKglYSNpz115zWvlPWda1\n",
       "vABbvx/g21CuEdiJnl4cf1/v5m7ofBVga2dZ3Z8qCFs7vdX8QmLl2d/Hw9ZOoYQiW7YRPToxsGex\n",
       "qm+4CrAjnB8LdovnjnZ15TnYYfSZwTIDlk087AaUVgQGyzaiNU0M7L3sc7ULVYBdzxlqFAfc4qvF\n",
       "kY2f15U7/8Y52IeQo9SHyzYCJycGdkeG1d+sAuxGbjQ34jh084xfXIMq2tuiG4lcd6/5ZbSYJ1qi\n",
       "sLZQILZ5NkuN9RiDHTqHndXpkowIVgbMx/Pj72wvFwQdSlQe9oKs41q0bOSeYJ4LJFA1b38Xq01+\n",
       "ShPv/dwlOx981vVF8gy2joPb+jMlGRGsHDcfJyZgZEW5jkcrD/tQ3BEO6YY+oiDO9ezEU3gUbETP\n",
       "KwB+7c+baafa7RnOZuZBvXWWrt9i2EEcWjYOlmJEtPIsckix8cPmR1Z35WH/z3C4NM3qYvsps+Bx\n",
       "ufgBMr2gpykARl0UhtTWlOd0ZiZH9hhSBxnsxhFsJlmKEdFKB3q6Izpu2Nz3FWyqPOxz7vmDdnE9\n",
       "OzE/YQe6U9AdaKhnQPHmpIxAR0ICm/RvpVGSEcFKx8SskvGwA8MVhx36AFxZFe1iHXdheKw/AsSN\n",
       "mLmcr6kQJ9NDXGVfKOdGAgi2b6g0I4KVNrnPXnJgT9HdDvXA/ldt18G5Ed/FisMOv89P1mhIh41Z\n",
       "4EO+xR91JDV45WQ1pl6fLMTJPPsIHH61OeaYINURrTnRESvNiGDluDQaUWLEtRUst5L8QMjR8cx9\n",
       "oeKwfUPO+WNBZg08AdYg5mBrp60g7HOwIIc59ZokNbTxjJ/sI39SuQhHrgC0HeLPcnF2cwQOXnAa\n",
       "kRhAFcHKXGecrT3XmoOgwc/i7vKHgZsAHgTolsXZylkKG4+GN4rBLt6qePHzG551yCtua958ExkA\n",
       "235s8LDJ99uGm9ycxpyCZk/g+0CfgujtXeZ7tKUtw6HNKUDzYUOCg61u27c8rTqM4LcwA7iC7PJW\n",
       "3nLCPrprhzk40hAulBw/vsG0bLpmG/ECLvQKXaKw96OXt4vBLt6qhFW50/yNmxdPfuVRPl3X8QAh\n",
       "mfY86ox3u/2SQf1tIKogF/07xxLrMnjNaSTszm12g2BFSxHYygw0msHSIjRcHnf36JYkGszEgeBM\n",
       "kVvdPcF/0nsUNgoEQt3FYBdvVUI2ze866k1eC0HmiWfI5nQkZqY4yKNgTll3U7y41huHuoQ/m3As\n",
       "RJnlR0q304guSWhEK9ZClN5otEPAJNZAfMl178XxofDWEZV2gwyULVdOsc8Jbv9KCrvBNKBnisEu\n",
       "3qp4qRvhR+WI1w1pftrynaS+CoK5+ijJVjR35LvZfDyEdBkbIfjlhHOJFeDm0YTDCH6LI8aOilZ2\n",
       "0hthQxvMVJ83u72FNvxlCh/y4dXWlI8MQI3GeaE77JP/EmAbBHbkpR071hWdIIu3KiHy5Cda7aJX\n",
       "s3cAXplDqttBab7e7MLnz0Yh4m6Jhv8tLSbQ28B30PRMjs0DuH260wi4d22wXc7KKtTjKXiiXIod\n",
       "ye09PT1RzfwuB6lf4WahbIAMAXV5T8/D8FtzupX3b2WaRiMf9PT8oHg0UrRVmbBJJC2NENkeZHk7\n",
       "Wq/R1086wvuyjETS1h7kfTAV0w3gi8qAmnTBDsbrEof3HDNrOAnqB1gE5FjYbuVgLyPfpsyVcbBp\n",
       "K2loz8fy4Js7QC9pbq4Q7Jdhkpf7FTKUddRhfzdsN9Bh6DFYb1hPwcQC+GN30Dz/V/SOG0B7jB6j\n",
       "CZdfqEhQ2Lfazk4oMRE2aSUP7flYPnQSVLJYqTdnC8HuzUxy2LfNzJOh/Dhi9/MDXwB0qE6H9rQ6\n",
       "DT1NB2XpTyGQWIyCK9SbOWickWOoE7q3xoIdBB8/BNV7X4Crki7YpJU8tOdj+bVplENwS/kcXiEA\n",
       "8eUnN2stXZ8jsH2mz6Zuwzxk0XYYfm/mp0G4FnV0Zg8VUNLjqwRja+IUtp4LCnnQn3XDb7hgk1by\n",
       "0J6P5R+yPUSjURA2TJ3csAPZr4E660bBXaLDXfbhLrhLycM2eE5wl/T4CjnsUH6RkAfticZ0GGi9\n",
       "tzXDwyatpKE9H8v7EFC8UB9Zgye6fdfPsJx8r5j2H5/csJVjWenfc1ztqwc8lybyctiw6ltIhrSw\n",
       "heZBfX0/090+G7eSh/Z8LI/XJonq4ij+UOPuYFzqs6E+CrVb1orbzPYECU+b0X5kfq4uTfKgPv3J\n",
       "JRLYT6c8QnshlsfrS0Sf0orvPHjXY4IE7f7aZa2tAA/YaAF/w6dMH0vyoD7IDkhgo1by0J6P5eui\n",
       "tsxtte3Q5bBhXe1KK+sdUe9KG3YEwVsK82ke1AdPBCWwUSt5aM/H8oHkk5m1cW4CVAdVabqO7ofa\n",
       "/deDrY5jO6mxYoO5KsmD+kBZaL4kJOvZ8tCexfLrDW1q9PWTqALaCHrZqOfttZ+gx3JIoOuB2sPd\n",
       "1pWVLETRUTYI9/WRPOgIwDF3uk5gS0N7Fsu3Z2DLTzohjSpoka09s+3Ivpfse8tDSxmsycEdSnIH\n",
       "owJsJQnX5HAepPwwTpYDJLDloT0Xy6NocRFajMgQjZ2QRvnPf1Rha+cE2LTYeVAB2K7QnsXyWNy8\n",
       "8U3DrDT8I0HFziz2vOgJO/Qrs1SPS27sZ13LaGnabR62+oEMtveqX4HQ3rFcWX8fqujN1jG7jgue\n",
       "sP2dnZ3fNKoF21PBrc2eMyZ9950O2HSru5IbvurZgm4kULVI0FPBHdh/fkz67p0O2FWQMsClyQnb\n",
       "W8Hd+6X4mPTd6MHD9p+pPOyVkxO2t4J7L8CY9N3owcNuGKw87JsTkxK293bfiwBj03efFGE3pioP\n",
       "e2+ukrBDRc7b33wLMKG4UA5/vLU0kbjQYIA8eNgdscrD7mWfr5/CJUZh611dXSudsIXdNq/C79Mp\n",
       "Fj2UekmkD2Kxf2liNScU568LYAg4kXgBybEgAD9OHjzsWZnKww6myhrZ/G6b57Xx+3R0E+k3cWg3\n",
       "it8ofqvBCk4oLt4bZ4CJxAtJjokAnJZnyYOHTf9LrqKw9eFSYbuUc7J71yXBI7XQNKTdgyVFZzKL\n",
       "xhROKC4mBoPAROKFhJmkgeUzyIOH/YkqwA4NlQjbrZyTFLcEj8AO5vAq77KSw2u889EYlQyOFJQm\n",
       "EicNPGErF6sAG/7t9NlJAbYtr3Mr5+xrsZrIJHgENtpq9Q1CimsrNQDXMjdiC8X560JC4hL13agB\n",
       "2ewiSs42AXZgpBqwTyQKjmxbXpfHf8C7bd9xDDbUhMSuxBegfToRNtJ9+fOhFFPryQ3AM2yCtIXi\n",
       "QqmLQon6btSAbHbJJkjrnxAqC7sxWxC2Ja/jlHNLHD8khZqQGpPgOWCjFZi6rNLN1HpyA/BFFqsx\n",
       "obgQPcVBpu92K8VxA7zZBUTfPVeAbY2xysLWL/OA3WCGft8zLHkdr5x70NEYNcGFk+CJsNE/LbyM\n",
       "1oxttZ7cAHyDvrbxQnHBE1teQdR329Jupu/GDdBmFxB991sC7FNQDdj8TxW4RjYweR2+Trzb5oJt\n",
       "Nonc+EaWl+CRYxt2p/Z6aAqOii1zcgNwW7F0/e/sbFF99zy62YX13ejBYCtnqgP7hFEQtiWvY8o5\n",
       "BJvtwa03UJPwTHP24yR45NiGvWlh5C9x3F/LHNvB4w3Y+1EeS03h5Lv0LNF3h7313bgB2eySLETZ\n",
       "/1RZYdgN2YKwLXkdU84h2GwPrj2DmyzDyRyT4C2jyR2Brd3wt2QIv9Ey154hO3jTQDDwWetjV8kj\n",
       "0sfy9CzWdxPJsVzfjRuQzS7JEutTRnVgS3/yzIbN5HVsxwi5ERZJZ3CTlO8I8BI8csz+T1hNmpPd\n",
       "pzlzGamBvPVH+fZApCVNz2J9NylyfTfXAH9zqwTYthKt0r/r989CsCXyuoXvZ7g9uHAaNdGS4YNi\n",
       "KkiPLdihS5ehA9sc253jDYRtcBO5LYb03RFhWyyQrBbsQKwA7KLyuohnEwE2PGrGbErObhsBmYEt\n",
       "H+7CrQ2bja+SYE/kD9/+VwJ7onQjfuFoV5HWV3+orNu6KOwQ/cHKEn/4VuufuB++RdHzR6uEqA9T\n",
       "+vt3/x+FBYtgDJcCxAAAAABJRU5ErkJggg==\n",
       "\" style=\"display:inline;vertical-align:middle;\" /></a></dd>"
      ],
      "text/plain": [
       "<IPython.core.display.HTML object>"
      ]
     },
     "metadata": {},
     "output_type": "display_data"
    },
    {
     "data": {
      "text/html": [
       "<dt><a class=\"ProveItLink\" href=\"logic.sets/power_set/_axioms_.ipynb#power_set_def\">proveit.logic.sets.power_set.power_set_def</a></dt><dd><a class=\"ProveItLink\" href=\"logic.sets/power_set/__pv_it/axioms/7c7b3452b7e997fd566c2b3d2a030f3371a4d6bb0/expr.ipynb\"><img src=\"data:image/png;base64,iVBORw0KGgoAAAANSUhEUgAAAQAAAAAVBAMAAABbMC3JAAAAMFBMVEX///8QEBCIiIhmZma6urrM\n",
       "zMxUVFQiIiJERETc3Nzu7u6qqqp2dnaYmJgyMjIAAAAcRTyBAAAAAXRSTlMAQObYZgAAAyNJREFU\n",
       "SMfFVjFoFEEU/eR2c3dzu2cKKxE9FFIJOZU0GiGQQkjj2VgJBtRoGjm12EIJwcacoB4oJo24pogh\n",
       "xXGQQizEI6KGmOKKIIgYtlBBUTkLRSNJnJn/d2f2du+MlQ/e7dz8/2b//v93ZgFaIl1HtnWQyJSR\n",
       "LR3i8IiEnvjzNs5jhtgM+/z4utPrG+eWasswwgcj8SvEQog6yyh6KSY+xXl9JEaQMmudA3U0puow\n",
       "04AKH1XiV1Bxn3Ecp4ALCBHzUDQpUjUW96B5ZEwARt3IldC4nzt5YOVAMrqCKsdnVSMUzYMUZV1+\n",
       "qcbcJllGagtedUYpgHTtjTSy7wBGDlgXSEZXCJBVf0h0H6TIXpydnYh7zgliAPOKG2TA5IUXRmON\n",
       "z/O8vgNkZIUAB9WQRNl+FP0cH78cF8Bu4lT37T0yuxVXlSBTvyaNbOOZnHpKjKwQqItqnkRWHkWn\n",
       "AUrKeHzpMTYKXEeymn0hKV+VEa0HKisF6QA9Gz9EbleIYH2VyEOTOj2kRYYi20PRAMh+pOzk4QkN\n",
       "LyEt11o1ZP3GVACjH3LoAOzVzm388pAYgq5mep+jKFNEURI61H6RdCFFw61IBinUmjvEo1EGfAeO\n",
       "xG/+c4IYgq7WS0Ais4Eiq55Uhi1lyIQD4HP4fqW1DAQB1Pg92gUQqOVLRyCRH0DaOybsvd2i9tnt\n",
       "/RAuAfehpuhqCoAbGa+sucrHh4l+DwxBszobvOq+yCiSqHQKoMM9lxS3Znu/+RFQE2bcHm4VE/ua\n",
       "AhBGHlSipjehjpCaDQ/6JweJ/CaEOR6JCV/IfMcvFr1ZR6o34S72R1VtxeSQuAjwXIz7iCGE1GAu\n",
       "0Fbsi2TkfUGVfskwC8AaJKesTu+aOoRNys4O0mF0Y91FY8I4OSzDek8MIaTWGpBE2QKJbLGa2TBF\n",
       "dqpgDrXcio0F3IqjOy0rIttsxVE8AE10z/IsmHQTYzDj/vUwip41mziMoqDDCDG9PL8IR6uJW0sH\n",
       "AocShPbIKJSxxXGsq184TnAcY9a8qKi6qQ+SmO+NFrG2VafKEVHTV9XmP8nsMvKfPsleQ0Rkw3/A\n",
       "H0UhDH9st8JNAAAAAElFTkSuQmCC\n",
       "\" style=\"display:inline;vertical-align:middle;\" /></a></dd>"
      ],
      "text/plain": [
       "<IPython.core.display.HTML object>"
      ]
     },
     "metadata": {},
     "output_type": "display_data"
    },
    {
     "data": {
      "text/html": [
       "<dt><a class=\"ProveItLink\" href=\"logic.sets/disjointness/_axioms_.ipynb#disjoint_induction\">proveit.logic.sets.disjointness.disjoint_induction</a></dt><dd><a class=\"ProveItLink\" href=\"logic.sets/disjointness/__pv_it/axioms/a45b5627a9d059780b3a58654d0ffb2359851fc60/expr.ipynb\"><img src=\"data:image/png;base64,iVBORw0KGgoAAAANSUhEUgAAAucAAAAyBAMAAAANRWhOAAAAMFBMVEX///8QEBCIiIhmZma6urrM\n",
       "zMxUVFQiIiJERETc3Nzu7u6qqqp2dnaYmJgyMjIAAAAcRTyBAAAAAXRSTlMAQObYZgAADPFJREFU\n",
       "eNrtnH+MFOUZx5/b3dndmf1xJMqJXKtbVIqhetueQCNXb9U0JqaGPVRog2E3KNZetLctCVdQw0KN\n",
       "nDTtLRpPxNRbigK9Elh6fyAGywo2rfwo69FW2kJZa2MLaXp43C84cPv+mpl3ftzswc5Om5Q3ud2Z\n",
       "2Xdnnvcz7/u8z/udZw/AutxYuggVlWAMrhZctjAepdKkclXrX91Y2bUOX8VNi6dI3qRXXysLfXKF\n",
       "l3Il7TT8zfvLVPhpxZfYUzXqf2XvQtWh77LV7l8Ngvh5uvmbLHmTd2mR0rRZxfKnWqw/8MfSo7M7\n",
       "YuDNVAu6P+8QdOlaW+0WB0Fgc0wbhSMoUw6eO8L0YPhs+VP1G45MAXAPgVSsFnSZRdWh+6P2Gj44\n",
       "fpPwlY6xgXyh7IlC/VndEeES8rvnAPZXzb/scgj6vqxT0EMY+grKv/d82RP9olnvRlzoS6EBgE1s\n",
       "P4z+FthqvC/vDPRlYDd08WHqaB5iPv1h+fYi6GKK8ncNlj1RoUEfyvoRi00rEWz2wW34WNxO4wPn\n",
       "HYEeOm+n0dv33zIIG4ZBmNlXdHXmYPu09/Du4mvmT4+EmpfNBRd1ZvcHLpWN37L7CrpDtUkQlqM7\n",
       "GaQnEfCcLJ2xtcsscwS6L23nRFQPQdSFP4FtACmozQkrwB9Bu/CDiHgefIiVn4CUYgLyEvBNq3O9\n",
       "AYmI7lDiqb61OdxR6Ezacl07KjfY6h5PZZ2AnrBzOeov4ugFnoe7sxBB0JGLFIbQLqwGuESg+3Kk\n",
       "F4OI5sMH51idKwbd+im+IQNSHXYCxEe5Wmmv/JGd0HdGnID+ZVtNzoNEoPtGb0XeIJdAiC9i6D8B\n",
       "GCDQa8g9XtA4exS93WdxKuHRxjb9IFyNwaNTCjjelJZXY6yGi05Ar7MTOnIIFLr0u1IUQd+HEI9i\n",
       "6B1a6OjlhjLQPaiuPh4fxtAjDDp00UhDetLOFrjOOwBduGTz4KTQN0JokPX0cxx0F3UvAfT3vTLQ\n",
       "UT3fJAh9bf5NrulxztY2dMM8NAT68N+4/MPW8EW85AB0l63BSzjNfPo9AE8h6DVREAYV6OGkm06k\n",
       "r7HlpgV0MUdWraG7CzWtsjiEbRVG1YmUxP3SaXsj3joHoPsn2dpPrgX3AEaMJtIXcPQyGcJ5TJxA\n",
       "dxfdJNojsXpnhkCXPsMDpMht0JdXsG3nYeMXoTbmztNjYWTr3evQhptJJI/h7Zy90Ncy6OS+nrSC\n",
       "XqaGRalJ22ry5iO3fJpcUGr9Rt+JGIIOLx2+A9DugtLStz5NwuPvY88gdX6WhbdKy2hPb0cxmg93\n",
       "ZTwvkg0fWv5sK52BQOdIFJZAC3ZJ+Ji3f7jxCRKqhJlH2YH+Nti8tjvKoB/C72esoJepYeWFbVZe\n",
       "NGsZs064gtvG0APGMPttTeNmQLegPQZb5YGF/npsNvpUnELHN1NMW0EvU8M63qhS8RR2mk1xx7jt\n",
       "3egvaKyS5/zVWdTXjwc1x6opeDEgCHoYr3xzVtDL1LCSu3LVst5/drfpYVXFemnVEoCfGZe1XD/w\n",
       "JOE0dB3UHKuitCsPfQQ9dLCn5xXLibRMjXKjqSpF+Mp3TJUC3YAsGNUgM4VonPtWBZ+YZNHLaEfH\n",
       "M9bRi3UNi9JQzQaYlsof1/2pmubVphn0pYACMEvoSg3zepq+4elsmq1UO5qFq0UTzhUZ9HsNbmxh\n",
       "U8xVx0GXa4TMZepTGlXrA4B35e3mq9B10FMMug9cnOuT9jYWAumDcCcHXa6x2XRVLzVrPOds7nFR\n",
       "m9YPx5xr3bfbM/91wp525JRdmkO+SQx6sODjDh/f0wOBPrcSRWHoco2Dps+Bgls10fj3Ae4CU+gL\n",
       "HGxw6n+iY3eRCMkMulhENGTtx4MBBhZ9K8JDJzVQ5UiH2Znn+/mQQRoC1xlz93Lm/xE6HNFAl90L\n",
       "vPAYKNoPfhoLgfjBP/DQSQ20UoY56MXgppNuvoWegb7n1VUvP8bdOBqWHirj5sXClbRuT7WgX7G9\n",
       "e2TovqzZRAq9yEJZ+9lMoQeDUR56L2nDX6ABhHf1RoRyLj7LJFgEl9LiBj5O78bfDPTHYD21M7iS\n",
       "Hl+vMXsbfVs8ASBcHUOGUIp2n1ChQugTsvd46VnYUWLPmEJtw41PPEctwtBdvPOtkeN0qMVdkGk/\n",
       "Czs6OiKBuFhI8dBJDenjw51Z7Y0julDTb/ksE38exDHTuOYARR+DBB1FXqb7JuRB5cEvTEvtnwCQ\n",
       "fpNlZEaBTtbQ4YrDJwt7Y4q9bTkItfIqX3OcWNRFtQYuTo/K0ENZVfvx0p4OX4/w0EkNdxa640bo\n",
       "d4I4BMfeObbo17IO5VFU9H089Hr6+fghDB5lIdovjKlAJutIvo4smHysQCdqUeUq4fj2kuwmam+i\n",
       "yEUJCTQS5kWJRRg6PM3LAHng9HRZ+wlihxCKQUjj00l5AFlQwNDFdbAhK794Cvip8C+LNbm9qI1Z\n",
       "7ETW5/nrK87vQjnoWK3y0a5qTAUyFk0dliEkrM0qPh3P24eqCJ3wpvaGh8SkZhl+KkIsItC/aiJ4\n",
       "abUfwJ7pvr+j6VEP3T8KYuezGLpQDy0Z4Xr8Ug+dadgwUvDGt8IdAC254KrG2c9pR5Ns4yS5ES9T\n",
       "T/8yy8BluxA4B/TxApilAhmLpg7LEPLeE1Ggn+jp+XnKDujj2Iuzm5i9geEu9Rur0SC4LkssIke/\n",
       "oFcAjU+OXMin62UATdCTpU8hGSj5KPRCKkeePWoqc0tdN9qWDk9LxMTOJMx/53aYMQbS/i/hXeGj\n",
       "WdOWwLGRxhzcRLuAMRXIuPTQ1GET/w45bEFvtR0da/MVxi4W9pLsJmYv3LhO/dIwWtK3UosI9Hmc\n",
       "FyTh3GU/rhMa5vIBmry1BW6GJRkI6JyCm5tEcDS/KQdHYxBOSml0m2AMFmZgDdoF3xrozpD8px+T\n",
       "ujQVSEhbGaZNF2IPNg/JDgVB98YrVgwt7cXpB8xeOKqaIgyfnPE0s4hAT3AhHFktXtkz0sJ40qle\n",
       "Nw1xcQ2yFSeooGjAn/RMxcvjMXgGm+RP4mepaLpYpsw6JBVIaLR0Dtp0IZohhFi/rkBH6zz8xO3D\n",
       "kYx/VHZEjxQs1FtFpxNmsg1Lewl0Nku2qRzxA+5NSWpRF4t/lDLlyqFPuAhjnKuJgnQRzd+4EbBq\n",
       "DWr3GP64No8bUcRRKYZOUrhZKpDHCrouXYgmq4QiuH/Li6MUyQFFF1V+9iRONVHolB6iynle6pas\n",
       "7SXQacq5u0ttKH4Y7xqjFhHoO9WriQMOQOeTjcKo7w7Ijdjej2bNscAgVphxI9Ia6CwVyBK6Ll2I\n",
       "QsezfFKBfoQ6+Gb4PRPyIFA0UeiUiFWV82i9MvZy0GeR3A028yIDXAMcdK6nO5JshBqs9oAkSHIj\n",
       "xCzubbTnRDnoETpcaSqQNXRduhCt26usrvDu6/QGdM+MMSGPwdQpdHLh5DwG3dpenN1E7UUjaVWG\n",
       "D5O9g9Qi6tNVZ+ZPOQF9nnqXvcgZ/FP2kcgNFJCPvAanmCrQP4EomZhYKpAldH26EJ1ITzPwFLq/\n",
       "i1zdi1dlRMhjMLUKnTJWODmPQbe2F2c30Yn0ZuSxonyYnkhzEykXvZCVffVTpdU+5UKXWh+D5ggy\n",
       "GU1MaDIbg5Y4/Au3gEK/C0E/AEoqEIGuJAhp84b06UI0Q4iEO3TJjKEHaN4uSVYPczCJQteqN5XI\n",
       "eTrolvbi7CZirxc1svYCsxU+QoZPyVKLCPQP1Gs0ZJ2AzoUvHrQpNfUl6oS24TeO3PYejgbEpgMx\n",
       "tPtm2/CizjrwPpnBySpKKhCGjvOAdOlCOIFIny5EM4S8uGe7IorKSKYteHEtkxjYBEkUukem6k3F\n",
       "cp4Sn1/P3i3tffx9klyzuDQZhP6RJLX1u/g3ekT2iRtXpHSKq/rPXz6nbhp+ZzdmNjS4aI64l7eN\n",
       "wl9WYx5NF9qqKGYQV6D/mYDLYx9HhDzhh6pCt1K/DiJynlwWmq2qytlrzFki0P+mWu7Mz1/4H3o1\n",
       "aT95QBoaT9DgY29j6/kEIiVdaP+4evp2kmLuVXs6UegM0ImcF5p7ctbeuNrTL89eY84Shi5d4AM4\n",
       "R6CHVaNatJ90BlKWKxQQ5wxHtHlAtPAJREq6UHE86GgxGUC0iJBHfDVV6DB0VbXbkKVyXuB2qA/k\n",
       "VZ9+Wfaa5Cxh6CFVCtuVdQa6qH7fqxVmHpxuui7cZr3GBbMEIpM1pgxIalsJO0YiVMgjMKlCh6G3\n",
       "5Khqh15yTM5bKqXcMXPo5e015iyRJ0eKCuDYj3dht/FBwxU9/rIuhgyhlKmQx8FcCbw8J2+lAlFf\n",
       "wBz6ZdpLLMLQT6i9LuoUdLc6unrBuWIe4qsw55/LcfKcvCUlXTHvrZcF3bJ0aTJvj8NEoVf8r0eW\n",
       "qE2OOQe93TTvRTtBhsZ1Yt68HTZ42peTCVreZcvcCfzrkYr/yY7bQdRly4sTcl7CoWpcewvFj//J\n",
       "zn8AveAXk4wnvU0AAAAASUVORK5CYII=\n",
       "\" style=\"display:inline;vertical-align:middle;\" /></a></dd>"
      ],
      "text/plain": [
       "<IPython.core.display.HTML object>"
      ]
     },
     "metadata": {},
     "output_type": "display_data"
    },
    {
     "data": {
      "text/html": [
       "<dt><a class=\"ProveItLink\" href=\"logic.sets/disjointness/_axioms_.ipynb#disjoint_pair_def\">proveit.logic.sets.disjointness.disjoint_pair_def</a></dt><dd><a class=\"ProveItLink\" href=\"logic.sets/disjointness/__pv_it/axioms/b32dcd61c68d121c0e1d1a545037bbb7534f1bc20/expr.ipynb\"><img src=\"data:image/png;base64,iVBORw0KGgoAAAANSUhEUgAAAV8AAAAWBAMAAACVu4KiAAAAMFBMVEX///8QEBCIiIhmZma6urrM\n",
       "zMxUVFQiIiJERETc3Nzu7u6qqqp2dnaYmJgyMjIAAAAcRTyBAAAAAXRSTlMAQObYZgAABONJREFU\n",
       "SMfVV1toHFUY/rKzk81MdjYB6wVqy6DUK2kXIxVUcKsPlmDpKm0ezYJW0mppJNI2XiAFSXfrJQuC\n",
       "hkrpliJKKG6gD2l9sEsq9B6WFBTxwkK10j7YNrsJ29i4nv+cOXPZnckWX8QfZnfO+f/vnO+c/3LO\n",
       "AP8LabtNO63Ifr7oaWJ1wL/7eKDxgSWHa8S1T51Ge9ZSlajnlwDsV/TzbQXaCtE+lRPrWOE20of5\n",
       "n1qSHd/XXlmbTqA16zMiGTcAmuGmsBrYyl5IdY56rgYQvsLpVaDeEu0dYizZBBLsiYnO2HUbdg+g\n",
       "zEEv+YxIxnUAPdcEpw1gxMTXZMpUY9Qz7M/XiPO/SqD3dDK4KN5/XZC96iIQLtPGNMrFBsD63Xvf\n",
       "XxrHaLw1gKjJ9xoxtr7ohD+fSLYJYb6iIcH96E3ZG2JvxixwSO4qe3qt96F6QDTDlHFfnJ1xZvjJ\n",
       "Beid4Crj7Pj4ZwF8rH4Ww5uFbzZZMbzZMjgR5w7j3EP2utrY0IfeZkQTot1FfUnp3ToA3+7XfXFS\n",
       "WopKzxzwG4Sqmk6/G0D4fvYcmVpVwdg81EdnSqHRCRy57ztqvnzHSw+YxjODTyEktqenfVHCOlJQ\n",
       "d5LjhEalgNNFmpCxF7CPfsb8cLZ0TETIyychVFuADO8Xv+vLJ/tlmn7EJlqOKDO+TAVjgEHVIeYh\n",
       "1sRuU7uJCMO3FbmDE+qsnKBv+8xeCjJDZM+Ld+9ispI7h4y9AL7dER/c9J8klzjhMfzFYt5SPWel\n",
       "pSFcanQi2mnN/A4bvURVAiNYl4NJay1AnWNN7AEWOeEIT4AwtLIkvCYL/S4qn5xMaJvY5w84s4l6\n",
       "gIuwF+fa4WIXEZ60VBGE+JIPC5cqKbTLfF8G5AvQOeFI9WFaax+b7RYR/hiY5YRbeMT1dq+tygn2\n",
       "0OTMTqW6pe+UGUyRQcZegIuwB+eJ4asUEn0QqmhRmJ8dFOOaUEoO4T7TIqxP1+KM8AmKeiKc9hJm\n",
       "PyvlBPM0sSkn/rQgisIb8BCWABdhL85VrB4p6XMOYa3ES45qprk2n8TqnBMSeUl4P8WM2OGyi3BI\n",
       "eLidPW+6yjB2MEJh4dofeDD+kfSEhA1wCNfhRAxfpvPtXIGIPg9LlXmV9K14gg+/seuhFJykiw1b\n",
       "MfwssJ0RbolDrdiEYylF5NDn7LnmKsNq1Uk6Xqz1K/AknQ1wCNfjnGo/kjSGnaTDUY75CWu4dhp4\n",
       "UFqyQqItgzJL9FjSZahK3IlYgdhywkpJ4ZWGl9bRLPI0Xozl7DqqVooIBtCGKOJsImM3wE24AWfL\n",
       "Ll5/n5aqDjrz9EvnR3kkfAgclAcfOeHwhVU3Ur21bS/M/JxghPHJ+cfBmr21LcdupPDaGfKSPvp3\n",
       "Dsdqg4iwst96bb67n5eEmDgs+C1AVFruUjfARbgRZ8vkfjqtf5cqg4gqORzkdqx+bMx6j2Z3Cfc5\n",
       "XoZc79+4FV/Kywt7xhuOZkt4hTLgh7PlwgZGRB/wqDZQudP2QVuAdm/d5UdKuJhPBtxnpBS8t8Il\n",
       "Lz+B0oDj2yQvP9bxX4U2+p66HKfK3f3OUZ7xXkKuT/p+DTh+0E33Va4UYNyWXZKvLw729dJ7tfe7\n",
       "wNuiPrYVAXdy6ZKAhfhe4AM/h/zXk/FTHff7RGoqAV88P/7LTyR/nJH1U90Wv/9W/gEsVqIFAFbL\n",
       "0AAAAABJRU5ErkJggg==\n",
       "\" style=\"display:inline;vertical-align:middle;\" /></a></dd>"
      ],
      "text/plain": [
       "<IPython.core.display.HTML object>"
      ]
     },
     "metadata": {},
     "output_type": "display_data"
    },
    {
     "data": {
      "text/html": [
       "<dt><a class=\"ProveItLink\" href=\"logic.sets/disjointness/_axioms_.ipynb#distinct_def\">proveit.logic.sets.disjointness.distinct_def</a></dt><dd><a class=\"ProveItLink\" href=\"logic.sets/disjointness/__pv_it/axioms/b734cf7091c15b8e86f82b0baf35490975c10e950/expr.ipynb\"><img src=\"data:image/png;base64,iVBORw0KGgoAAAANSUhEUgAAAlYAAAAXBAMAAAA7EBzMAAAAMFBMVEX///8QEBCIiIhmZma6urrM\n",
       "zMxUVFQiIiJERETc3Nzu7u6qqqp2dnaYmJgyMjIAAAAcRTyBAAAAAXRSTlMAQObYZgAABlVJREFU\n",
       "WMPtWG9sFEUUf1zvute7vWsTKYl8OksChJR6kRA/2MpWPxBNjEcxSiLJXeo/MAYa2qBUA02/2Gq0\n",
       "V5VASAgrKjGIcKFpaoiNpXeGgH+4CIlfgJ4BjBqFxgqKZ4zvzezO7s7t7XUTPqkvmb252d/ub95v\n",
       "Z97MG4B/uZ0r2v6E7tF9oGH9Cr9sbVd9wfdjiTymzwPlw6LZyraaJA3o+NEpR1Ow2fMJCQ2dKU5N\n",
       "5VIflKjtotcLCvPA2DwYINeuazBqfaLRoivKj2120c8iUfvdiD7EMiM9dL8ni4yuKxnUm5kOX1Db\n",
       "T95a1cZYFmcj4IAGaeMbaSCqxrcVKB921KXNIqm/xVsEEXHAj1hOSc+c8mSR76o9BvVRpsNeGqwD\n",
       "3lrVxthmPLs2amIEJWXEewLlw9REZZtFAm4cseTt0YqoqRQgjpNezXlrVRtj2Q7JjVjSTc0dfrWK\n",
       "NPnSijiU7O3RiqipFCB25vDhPeCtVW2MFU97TDd2p1jtM9TKqBphZk6g/NgVV62MN+9+mLeYRMQB\n",
       "e+D2aMWor5AO8MfQ0Cs1tKqNERZAaSJftqS1hpEMdE22xdb03ofV0HerW7rxTns+d+73VTmGatn8\n",
       "wLTnuw4ufadVTL28PNBsJLC8DJHpVk0QEQcsMb23M52sqZWdVW0yqfNMh2cAhl0em7JrVQXjYmFc\n",
       "id7NwVkN4hlc7BRQUJZ4BpRBOJCF0VzoTujlqCPwbWKn57Sbim1TSua/S3T5+hrZZao6SKAMT2Rh\n",
       "0CJCDniDYFvAyTTj2fstEmts1qS+xHR4ECIll8eSdq2qYFxMwbD2JluiwpngYggwrcIZCDdBYxGu\n",
       "QbSZ/CDUGTirPwSwoXo419U/g2K9nJDuOkhQKxz36ZQgIq1epslI+yk7UzzptYtrllkvm9QTTAcF\n",
       "Ao6tbW8B7spIWkkYD1ugQeQvgGPkBuwazAqtStCYiFAYIT8QBToM0db43urjCsK2tTct3XSQQDlU\n",
       "xvg1ZRIxrRaiM6+S1w6m5xJVCRnayVq/zaBOMx3UoiJufZTvgE9UvU6XtLJjamoV+tV048j1OaHV\n",
       "ALpAd4RWAOzfWo+XNSaqauUkgXL0N4QPmESmVuY+3WLCWVrdONrO+j04tGooPS7W99f36TCZSKqQ\n",
       "X9W7KmdpZcPUnoMR040GHWY0JRkQWpnjKkFzEEI3ammVtq2fa614RQ44SYxxlbRplWBzEDaBk8k7\n",
       "Xm2SWHm8WssL6gDDT2NjR9cSCkto4+NvqXK8YhiYXr00VfF6qZGi9g9mKElAfTGeqRNaYbyCKH6r\n",
       "JKFOBGZhhZdWUf1uCOi8Z0Zst5mDBOPVHeikJoiQg8d2WtnsTDXXQQcrXwet2A5juImIdRYXZHne\n",
       "N65+vLFCK8IE9C2KBs9LewTWaAvI+NyoBmsS2GkMu+FsXamO+s9dwHztNKZkSUQFy+FZSm7Rg8jf\n",
       "+OCxknER/x7NjWCKzXsG0C655SBBrdal4GeLCDn4LgO9tzEZOyhB4WRmdx2sfH/VzkvBmJ/7lkGj\n",
       "ztORcZjKV2hFmBD8ArBxsRQ3qNE+5XtoF/VNelFo6833v1qJzz57GqsfbL355MgiiDzVmoX6F7KI\n",
       "inSvWHLRGOAvYnxUKJCwy3aqYDJ8qOVgR5H3DFvkww4nSRka2vOaRYQcQhs7k7HbFITbTVKl37jr\n",
       "YOVaXeWFdIhRV7qhE0IvDQ0Nolb7lQqtGAYoQ+2Xx+0ttxxnfpmQGQyilYcrJ0SNeoYOe+/0y26h\n",
       "U8pxbFpVIzwlsfIcp4eXgnmvGdpDkOHjKtiFPymHVnwMzYYqtaLGc5MXpNx5fhm26YHqtRVmPXPN\n",
       "nYU9Ernh0soy0ZOuWlUjPCmzOnNnI42bhb5x+Jyq5wEuyDkOPwJRSyrTaq/e8Jp5YY3HB6wtRXhe\n",
       "py1hxx7zYOXeSkjDe+Z6JiNsJOo66oad696EdX5VjXBGYmXnV9aZjBFmMtBahDAu5cGdGtS7anXo\n",
       "/PQZptU6ylTWZemSY431qQ0+T/EE6u1dmCZW7nNjVgBkPfNOsdYvdf1AdNYXFwOUMQUXsno1QoE2\n",
       "WDs1Q/Jh+/zithzjVYUtc4RVmoPW8QyvKbBS83k67PMMOeb3bNA8Q4YxX+ftY5Xn7URNpa3PL3/X\n",
       "XM52+G3UDsGnRfjfXD+yS+2/YP8Aj55K7WWCYHsAAAAASUVORK5CYII=\n",
       "\" style=\"display:inline;vertical-align:middle;\" /></a></dd>"
      ],
      "text/plain": [
       "<IPython.core.display.HTML object>"
      ]
     },
     "metadata": {},
     "output_type": "display_data"
    },
    {
     "data": {
      "text/html": [
       "<dt><a class=\"ProveItLink\" href=\"logic.sets/disjointness/_axioms_.ipynb#vacuously_disjoint\">proveit.logic.sets.disjointness.vacuously_disjoint</a></dt><dd><a class=\"ProveItLink\" href=\"logic.sets/disjointness/__pv_it/axioms/355ae6af6cd3d40092f79c46507fc0c1902dbd0d0/expr.ipynb\"><img src=\"data:image/png;base64,iVBORw0KGgoAAAANSUhEUgAAAFEAAAAUBAMAAAAHNMzaAAAAMFBMVEX///8iIiJUVFSYmJhmZmZE\n",
       "REQQEBCIiIh2dnbc3NwyMjKqqqq6urrMzMzu7u4AAAB+UOZAAAAAAXRSTlMAQObYZgAAAaBJREFU\n",
       "KM+NkrtLw1AUxr/YpG2iiRl06FZ0cvAxCNUtm4OCRVDQxUE3FYKLiAgRh6o4FNRVgn9BHBx00Umd\n",
       "pHQRRFFBxUVa1PqASD03N/FR4uPATe738eOec+49AHB3hN9jBdt8s+NCHuHbuQvvF0geWhpVWe67\n",
       "UF+42cqdQAJ7tJQsNJtL98e8mkGfdlqZv8gIIxO0bgJSPuN1nPp1nvnkLpGyziqgMm4zsy7W7qHO\n",
       "pOzYsIPbqWUmT0aPJ81Ib103YuzcuAFtDHHKvoFrQEetoyYgmSRRb8qvEIiS2lgZNiSb9Y4+7F/A\n",
       "JFKwoL6RxADw4JGCQ2S1joIFzSOF0jSIPCf/hZFDwLNHRtlNqUWcmz6pLZUNInfJLzGyv5IsBOQ6\n",
       "Iq5/5uMXMsaz1+hQ0n6dB0AjkVEDqvtBKknxoyN5HOIz86mjQdb7BBSLYR4p2iK7IEC0gKv52adk\n",
       "vtxymOrYIxKrCz0gmS83bz0l0bDIEtPN5yper9YJeVL2mpffrZq2Qi6E/DIhQUjFzbAxkT6nLgi1\n",
       "qyl09NIM/lesoBN4B5bmgniv4p3TAAAAAElFTkSuQmCC\n",
       "\" style=\"display:inline;vertical-align:middle;\" /></a></dd>"
      ],
      "text/plain": [
       "<IPython.core.display.HTML object>"
      ]
     },
     "metadata": {},
     "output_type": "display_data"
    },
    {
     "data": {
      "text/html": [
       "<dt><a class=\"ProveItLink\" href=\"logic.sets/cardinality/_axioms_.ipynb#card_induction\">proveit.logic.sets.cardinality.card_induction</a></dt><dd><a class=\"ProveItLink\" href=\"logic.sets/cardinality/__pv_it/axioms/ce1889370d1317d62871396cb5442747784fa3c60/expr.ipynb\"><img src=\"data:image/png;base64,iVBORw0KGgoAAAANSUhEUgAAAV4AAAAXCAMAAAB01dc4AAAAQlBMVEX///8SEhIoKCgtLS0/Pz96\n",
       "enovLy8QEBCIiIhmZma6urrMzMxUVFQiIiJERETc3Nzu7u6qqqp2dnaYmJgyMjIAAABQsGWnAAAA\n",
       "AXRSTlMAQObYZgAABBJJREFUWMPlWdm25CYM9GQyMftq/v9XY3ZhA206naTPGR7ulW1ZBWUhCfW2\n",
       "ffGgakndYnt5HyP1jrme4uJcvnxIz5QhC2+ow9xvkp3WiyfmhrhP56JlIxz149vvYVeJdkkaG2M2\n",
       "O1uidb27+FhiaIz7+FMzCQWj8/3ji9z/kM0yhQ1LTwSCeQLR8J4hePcBQ2Pcly/rXaVdVLaT3w0i\n",
       "bwvxPexa3PCB46VNEwcOeXyW3gnu5WWNWq9nhrn0rU1+FITstNWN///BJVymcjGAkjRvwBj/LL0T\n",
       "3Dm9ITglItW+AcEa5YfkX5TXeMMHcTErUPov0zvDfU7vdhAoOOEHN//x/p+sFeGt9SJn6NbltEOv\n",
       "QohJgtIWNfsCvTPcBXoNhgILJoTsVoBn4tS2rg1gkIsGWaNX9AFqRgFLQu4cJSMP6GUxDqvTTSxH\n",
       "Gz9u9URlyBxg4Ee4C/TmHBEFgmG+a8tG/0i7GylVrBptZqQc+wmhnQ32Ie4DRNL0hQ9l2e52NaNX\n",
       "pwrXnFrmXClJXwOw99J7Z7gL9GreCP4P6ha9XHU5BWLVSI+UNtifnrQIK8Wdas+r/PWrDxDGTjp8\n",
       "YKfH9FKRslIo1QQ0yDh6Su8Mt9yLns/38I/16KWuEYxtpgyGC3PWE3qrRry2QkvlcbRF2+k4nYge\n",
       "VP4cAHSWmUyoGb3t+cwB1wIMLNLb4i5474VeeWyU5VINU8TKRI/9YvVGb9UQZbNHfKqpRJXeYjmo\n",
       "UDMAuG9SxfJc1a3YhSGNlblRR7tnuUHsZY9wF+glvBWEZPFlpHyG4MWSwmfoITN6q4ZoV67pGRxs\n",
       "phFYDipYDgDuKUan3I/Ll8LgzHqrHLQ6M1IEXK4cZrhvpzY/y8T3+dWPSxCWjM/orRoisAXpPV23\n",
       "1CjFclQRI4CmsglLwjxcGQZ8NnknOW6HYnJuZX+IlfaNuneG+5JeVOgtjpAFEKxcLdAUjbFnTC/U\n",
       "EKFeCDW0QJHec438GsiDys8/vEoPoNldcZkbYZgxGJ/lITSlmgl1O0AohpBCuLSnluid4b6gF58l\n",
       "xpEaovnrF8GqDUTj/FQH05SN6YUa4RFrvHcjtM4iW/YqTI0AeofTXj2OMEZyeD77zKF41pC8e2/1\n",
       "Sn4Vsle4M+iHlCm9Y+DgoI2LXOiFGrGVR9tTmU22qmWvkrNGB6DbWnk0YJT9UEtnQq8atxfblk7T\n",
       "97HEIF+u0l37/IONaQvXK71AIz4SOu+zePJm0Va17FVsUuoAZONymd6P9HvHuI/n0jYkh+3L2VG2\n",
       "dxZI1yjF3okt9OOu8qKt/ahH3P21gvyjdvob9JbuQr/NkBiRb9L7wJbED5pmPksgutTG0C9+a3ti\n",
       "boj7dC5WXoWu1vY5eu27jvDbDdwVu9fjwX4fvv4GiltIZTzXl0IAAAAASUVORK5CYII=\n",
       "\" style=\"display:inline;vertical-align:middle;\" /></a></dd>"
      ],
      "text/plain": [
       "<IPython.core.display.HTML object>"
      ]
     },
     "metadata": {},
     "output_type": "display_data"
    },
    {
     "data": {
      "text/html": [
       "<dt><a class=\"ProveItLink\" href=\"logic.sets/cardinality/_axioms_.ipynb#empty_card\">proveit.logic.sets.cardinality.empty_card</a></dt><dd><a class=\"ProveItLink\" href=\"logic.sets/cardinality/__pv_it/axioms/6e6f8e6910c27995c013f62b17d8cba134b8cb310/expr.ipynb\"><img src=\"data:image/png;base64,iVBORw0KGgoAAAANSUhEUgAAADkAAAAVBAMAAAAOWFv7AAAAMFBMVEX///8QEBBmZmaYmJhUVFQi\n",
       "IiLc3NwyMjKqqqpERESIiIi6urp2dnbu7u7MzMwAAADii+d4AAAAAXRSTlMAQObYZgAAAN1JREFU\n",
       "KM9jeMsABJwMDGAaA5xmYOA4dRJMY5c9xbAci+wpmwcgUbYAhikLMGTZG3jDQLLMCgzRARiyhgwM\n",
       "x0GynAu4df9iyE5hYOi/ABRlNGDa+w9D9gsDw/4GoCh/AyvDb3RZ3k9A2QVg2UyGHxDZ4+UgUARk\n",
       "sf1hYHgPljVYDJNFADag3vcHwPbW4jGZdW0BL1ZX9YNcxXLiAN8HZHtLQMyZDAz2IB8xT3nAPAFn\n",
       "aDCEMrBvwJBlbeCVA8u25p7CjAXeU0vAscBweHMCnhhsgNLYZRnIlV2HRqMAAE/6Xh2wFdchAAAA\n",
       "AElFTkSuQmCC\n",
       "\" style=\"display:inline;vertical-align:middle;\" /></a></dd>"
      ],
      "text/plain": [
       "<IPython.core.display.HTML object>"
      ]
     },
     "metadata": {},
     "output_type": "display_data"
    },
    {
     "data": {
      "text/html": [
       "<dt><a class=\"ProveItLink\" href=\"number/sets/natural/_axioms_.ipynb#boolean_natural_membership\">proveit.numbers.number_sets.natural_numbers.boolean_natural_membership</a></dt><dd><a class=\"ProveItLink\" href=\"number/sets/natural/__pv_it/axioms/63a7578ec0e96253c6172a8876ea8d4806af0c4c0/expr.ipynb\"><img src=\"data:image/png;base64,iVBORw0KGgoAAAANSUhEUgAAAJoAAAAUBAMAAACHazmMAAAAMFBMVEX///8QEBCIiIhmZma6urrM\n",
       "zMxUVFQiIiJERETc3Nzu7u6qqqp2dnaYmJgyMjIAAAAcRTyBAAAAAXRSTlMAQObYZgAAAixJREFU\n",
       "OMuVlD1oFEEUx/85bj9uMxtTpEgVg8HYCIaAVkZOUkQEUVPERvAKA4mFBCFaKOawyZ0g2UJJGnFJ\n",
       "cYQUZ9DCIs2RpJCocIidH2xACwN+dWrlzLzZdWYvm+iDPzv3ezv/m7czb4CWKDRJWdEeZPNIDN7r\n",
       "dEkpHd63yjbY/i5MphKHuue2rhch+Avxe1tPflZqCbc5BjwG6ulENOrdHZJ8QdRW1lL+AKk17Olc\n",
       "L9oA1ptKlM/goCt5R8gfK1rKCUia/+yN29LtVDgOh5fcaXLhtupK7m8uL8/rc+eVkrDuhGptD0r1\n",
       "kLvho8mF28YS8Z+Vyi19cp/SYv/9w7KkejzJDp5YJeG2DoNzt/z0OHH+qOpu90hew7/myA1PttAO\n",
       "WPG1cPsAg6N8cuZHkfgwvEh3u0liIfudl5+v/NcNV+wLfPAMBheVvnpH3EHOOKpdJA8uvW71fOWh\n",
       "3GrY4oNLJhdubr4pOWs62MEN2EcHoaCvzWqcj90KxtpclCQvRPxMYu1o/zmjUp5ToFNzw1t+EjBi\n",
       "cuFmi6YSvHoZyIVXnaKxC+3hEU4FGEzcuD1bSHZh0Fib3yD+dIp/BHyJU+uksytzeEjHOT7bHWJw\n",
       "guu4yRFdxMtjitP3+RWnRki1A4tDtDvexGnajpluUJN+MnjS9ZL7oh7ru5XZWfnnqoPiy2Rqd45H\n",
       "LGJ7dn0cLV2f5rU3a5sxrCLVHemo/w/Pui2h/90/871ucj/I5H8AFOie/mc16OgAAAAASUVORK5C\n",
       "YII=\n",
       "\" style=\"display:inline;vertical-align:middle;\" /></a></dd>"
      ],
      "text/plain": [
       "<IPython.core.display.HTML object>"
      ]
     },
     "metadata": {},
     "output_type": "display_data"
    },
    {
     "data": {
      "text/html": [
       "<dt><a class=\"ProveItLink\" href=\"number/sets/natural/_axioms_.ipynb#induction\">proveit.numbers.number_sets.natural_numbers.induction</a></dt><dd><a class=\"ProveItLink\" href=\"number/sets/natural/__pv_it/axioms/e9867f682ff582b8cc269c12d0c42cd08a7e28240/expr.ipynb\"><img src=\"data:image/png;base64,iVBORw0KGgoAAAANSUhEUgAAAfEAAAAWBAMAAAAiKrjAAAAAMFBMVEX///8QEBCIiIhmZma6urrM\n",
       "zMxUVFQiIiJERETc3Nzu7u6qqqp2dnaYmJgyMjIAAAAcRTyBAAAAAXRSTlMAQObYZgAABZ5JREFU\n",
       "WMPlWF1oHFUUPu7ubHZnf5KH4oOoHVLwoaBdLQqWPiwRKfq0T4liwUUbtVB0xUKRSlgE7UaJDAi2\n",
       "LzZbRBNCWKN5kPqDazpKmwYNWn8Kti60BtrikkQq1SjxnnvunTsze2eypY89cJK959y53/fN3Dn3\n",
       "3gG4LksvKg+x44F2rF2KHPJd4VrL2OHx8/tD0hHkJEH0FjbOdat8Unn27q870rMLzTPJAJtsMRLC\n",
       "rJKH2F7QgvC4o00TQeqF8Et444vMG9feqsNXK0UkiH4a05e7VX5J+RWYCN7x1CJMLpst0bKl8kiI\n",
       "vE2usY/qjG5HlIPwuKNLC4LUi9nSr3ewv2X8OWaUwVwGJIh+BKdHtUvhuYLruT7ItgLp7SzTgjnR\n",
       "uiCVR0L8IFzZx2Iy7HuBKc9aoAXBuKNLE0HRi/2xoNGENFf+bKkfoA84QeZ5HH6mS+U9tuupMmT+\n",
       "IaRDB0aI61WAhAXHqK9xqC6UR0K8LLxDOcBv7DqzD7QgGHdUGm3UQ1L0YtOaec0+ykvNnjeSJagA\n",
       "J8g8Nz81dbjbyX5YeW8ZEmtc4at1kU38x1olyBd5KzlgCeVREOkKeZhyuAhaEIw7bprbYx6SshfE\n",
       "kcH6GtWMQfMyKkeC6NdqtVe6Vb5F+YcFSKxirFF3i9U6r3nZAm81oCKUR0HECuRm/96BOZ3yE6AF\n",
       "wbjjptUsFwRlL7L3RbXMWINICgmiD9M82b3wBZ8S9MDcpt/GlI83wVgNVN9t63/Z4v3C0nlaKh9W\n",
       "UzE4OqtE3KfhZ2tEp/w8aEEw7sh0/AC3PxVJ2SuwTjg5q0IE0R/ihS5RgC95mioRNadrtddhaGcx\n",
       "dqu49qDy8QIY/6oL6Hn8tPk2ttbSs67AUamcIJS5YOylnCGfh+/qj+iUfwJaEIw7blos8ldckrIX\n",
       "ZNvcCqQ8WR+uEEH0Hoixe95Th5QHgzeN1/h41XnYIcbepFzOduNOHFmCx9kbZfDVhBXVZEkoJwji\n",
       "/fn2RQUGcEuRvA413v623X6x3V5Syp8ELQjGHZmW1tgkScpegWdulvN9RBA9u9jDor02ZDzKeZPY\n",
       "Zb6PQ7NTOatwmTX/csV6ma5yps4oC+UEwe2X41MeMKUcYFVf4bi0ThCd8vQ+W5KUvYK7ot2GR3m6\n",
       "NYgbitvFC04YvPkZKX/icavZOdtTVcjxVc1dV0wm1GChBJ/ts2JLgcoJYu7+u0qJAnjB1GwH46pe\n",
       "+S7QgmDckek4Tem2LUm6vYLKczNVIshJju7BEe9dKXqU8+aDpLw0/2Ozs8K5O5n73NeM0Ys3ZYW7\n",
       "JNSjcg4Rqz/fU8yr0f0V7tPYMmwNr3AdIL4KJ6pHyyXp9pLvOZ99rNDCqaqqcDBLFemdiq+WsOYp\n",
       "oTwr1ilaQ6QfhGMl+dToxXoJ4BsQkEaVZjwpRwgD/gB4T40udni0wiTWUsvyoOEq34aX7wQtCMYd\n",
       "N+1b+U54evkMC2C8RQQ5yV624zBLuKN1lVNzQChPL0qeuzw+3T9MD/C5RwWpxNPPIME83pAkPtSY\n",
       "JZT38k3N3wBDtVrNUmDuzDOf2rrlXGC2P7D5ArsXv+tBMO6ATIN8pIKk28trQytV2rAjQU4yx+5V\n",
       "ZkbUI1JOzZRNyuFhq3P36pllJ8XGUtgED/KfJaEcIVhRMfhm0gMWvXvlkit6EIw7Ku05IfnJ6WxC\n",
       "kuS3sgqTdaWcmuYYjpErQq7ZeWIJt7ngKZX+j2dbWciWfGDaE8uU72pLD7LRiQU2IOiSjL+9sMNT\n",
       "20Uzc5LtZHZdFIc8eSoYheCWzH/gbumVf3Bmbh7gTR8YljgbxOTSWiMiHnZKHY0WLk+pQat2+2Ui\n",
       "zFK2XrnYp7P3/Hq+TIxGxJ2Q9GS08rB7Xb3Rr1Fng2eSkRv4GpWzw+P37A9Jb/A16qyGZED5EVaI\n",
       "a3DTWOFmEfo/xJoUqTe2m1wAAAAASUVORK5CYII=\n",
       "\" style=\"display:inline;vertical-align:middle;\" /></a></dd>"
      ],
      "text/plain": [
       "<IPython.core.display.HTML object>"
      ]
     },
     "metadata": {},
     "output_type": "display_data"
    },
    {
     "data": {
      "text/html": [
       "<dt><a class=\"ProveItLink\" href=\"number/sets/natural/_axioms_.ipynb#natural_pos_def\">proveit.numbers.number_sets.natural_numbers.natural_pos_def</a></dt><dd><a class=\"ProveItLink\" href=\"number/sets/natural/__pv_it/axioms/dd03707c4c5cebba330c31788d29dd7843e707d50/expr.ipynb\"><img src=\"data:image/png;base64,iVBORw0KGgoAAAANSUhEUgAAAIYAAAAXBAMAAAA8bSpEAAAAMFBMVEX///+IiIi6urrc3NxERETM\n",
       "zMwQEBCqqqpUVFQiIiJ2dnYyMjLu7u5mZmaYmJgAAABN0h6tAAAAAXRSTlMAQObYZgAAAcxJREFU\n",
       "OMullD9IAlEcx79oml7P84aKjAQnoSLKrUH6A0INDQpNUdjifkO2BGm4NvRvk+AUGsKExgiC2xqC\n",
       "cI4QaShySYoggqB3d3rvIZec9hse7/vu3efe+/2+9wMgVsFiHR1jY8xymVzzqtiZgXDcalVs2GQU\n",
       "6vR936XVI+HAHmNAJsftu20x7mrm9Bko9cQg51Jrugxk1F4YQOCiOfkCpuUOjIlcJChxDKaB10fj\n",
       "RD+UIUHYtGJ4aKaVmEQ+OAbTNHZy2uj8BpJSWxVbsR2HS87D+ckYnNZicl9j0HMkFeDGArFKC0bI\n",
       "e+sDOoPTOmOF3QWewz+c19/Qr2TehWnzLlpOMzJwZZmPBd19/prKGEybOUUMeFPb8uE6LWI4a9TF\n",
       "rdDaK4zBNKtt02OsLrflKrYE1acajPkQSmKcMUzNecwrkxTvJnEpqmJXqghNf4wDsy9cPkzNeZ0U\n",
       "RuLGbrGaCAJT2mI6HRG6+OeYI8VwzT0DPedp4X4NaHOeHUY0AL9KKjoDSrmb/tGqGLCHMFwnsdgi\n",
       "Zcx5teXu+liIDik8uJA1zuFI6Ibi++mQjX7qbOAojTNNPwF19BKOLEZr6KOmdeRD8OAfMUjzoccv\n",
       "2DCKfuWW7J0AAAAASUVORK5CYII=\n",
       "\" style=\"display:inline;vertical-align:middle;\" /></a></dd>"
      ],
      "text/plain": [
       "<IPython.core.display.HTML object>"
      ]
     },
     "metadata": {},
     "output_type": "display_data"
    },
    {
     "data": {
      "text/html": [
       "<dt><a class=\"ProveItLink\" href=\"number/sets/natural/_axioms_.ipynb#successor_in_nat\">proveit.numbers.number_sets.natural_numbers.successor_in_nat</a></dt><dd><a class=\"ProveItLink\" href=\"number/sets/natural/__pv_it/axioms/90d7655ce8ce72f5037e82c32c0ff0d481181d110/expr.ipynb\"><img src=\"data:image/png;base64,iVBORw0KGgoAAAANSUhEUgAAAK4AAAAUBAMAAADmcxvOAAAAMFBMVEX///8QEBCIiIhmZma6urrM\n",
       "zMxUVFQiIiJERETc3Nzu7u6qqqp2dnaYmJgyMjIAAAAcRTyBAAAAAXRSTlMAQObYZgAAAoRJREFU\n",
       "OMullc+L00AUx7/9kbRNk9aDgnjQyB4U8dA/YCtdPOhhD7t7UA+CUdzDehJUqrisIoIpXsKCWhYW\n",
       "46XCirUoRT2IZaseFCSoB2VVIihCD7UHBfUgvskktakZURz4NjMvk8+892beFPhjW/QV3e4K7FkL\n",
       "cFnnjWCCcppL0GRraPonswN1w2rMAE+YoSP4MGdxRfm0jjjukDHt7AJuAHWgSsOMyKXnvgZwOn/W\n",
       "Hn2n3+XhAI7FdcQAVUf_opkdDwD3h63cuNMa94g9elsue6/JOexopCmQVtMdLS5cE2MxhLiE3V/L6\n",
       "e7YE/l4w6jZx8R74apqzAm68wDU+Mz+iR3HVgrddnV8beVMyGLcNTAMVATftcLVMXfkWxdXc8LGQ\n",
       "LbX0jHHfAtvD2yodeYCNBu+nGp6kxhwyX6K4WS9J6cGDd0jeTZ3b9CHiTmC/1i7ijmonbD6MlTwp\n",
       "ymdoPRZ2t/txfbdr9LkSs2KySy3wvIZ31NlHk51UgNXOL9i4pxdUhLjI9iC7Uf5ybnXQX6k1ybkZ\n",
       "l86yVpwaYSmh1mzOB1w/D0i4yDt2BDfp5SEWKsAVlpYdpMpBmjXmxCxe0031+t6hfYu1cN9uCfct\n",
       "ofe5ExR/le8bbtGiC5uQtxXv1DTRavvT2DFiulzCU20izI0zboIvdrJf96zAtpFGSXk29QDGIB03\n",
       "zTPEXQwSzsJkoqguroTzm9j/o0gcvljtLE+SdGotvMsBH1gwzLgGoxIM7m9y6i/q2GtX/ef4uXLo\n",
       "ClKCIs30cLSJh6z7AngtvncUe3C0LCgoNVg9aWCrgzSlJzlXgtwvOItLdD27ghf1ofFmyu8/3OvC\n",
       "JSvA//wPvRLYNQs/AZLfsi9LVhx/AAAAAElFTkSuQmCC\n",
       "\" style=\"display:inline;vertical-align:middle;\" /></a></dd>"
      ],
      "text/plain": [
       "<IPython.core.display.HTML object>"
      ]
     },
     "metadata": {},
     "output_type": "display_data"
    },
    {
     "data": {
      "text/html": [
       "<dt><a class=\"ProveItLink\" href=\"number/sets/natural/_axioms_.ipynb#successor_is_injective\">proveit.numbers.number_sets.natural_numbers.successor_is_injective</a></dt><dd><a class=\"ProveItLink\" href=\"number/sets/natural/__pv_it/axioms/3841bd346a38626eb2dfbe6937ea52305924ef350/expr.ipynb\"><img src=\"data:image/png;base64,iVBORw0KGgoAAAANSUhEUgAAAQ8AAAAWBAMAAAAsrwTqAAAAMFBMVEX///8QEBCIiIhmZma6urrM\n",
       "zMxUVFQiIiJERETc3Nzu7u6qqqp2dnaYmJgyMjIAAAAcRTyBAAAAAXRSTlMAQObYZgAAAzxJREFU\n",
       "SMe9lk1oE0EUx//52KTJbqyXXiVSqMVWCCgUoZUtgnoQbCuIhyKhWFAPEtCDitTgKcVLqFBLoXRF\n",
       "UKiIgRo/DqXB6qVCWdCDRYWKIFR0KaKi4sE3s7szu5vaRDAOtHn73puZ37557+0A/2VMbWx+RH8r\n",
       "THjTYI5kfmN7rAg8Y8KHBoNsKtYApXBM0G8i32CQ57UcHhOsAWilBoOcr+VwHUgtzsxcazBHIlfz\n",
       "7HTge6Fwsc71qlXKRuY+VwhngIMnx1rTAQfStaUH2whCI49hYLQGgW7/VIIUeai6fPSbjwL3XLnJ\n",
       "JGshnfzBHpYsNt7xGaT7rKub6VwoW/fynF1nKGeeYGuWSXlRYz77Tor4bl8JynG4C4i4mngJSmkE\n",
       "ia+BBZjuF1JrgEpLxRE2qyluL/TgoWZEDAky6C189i9Ks28KlTRz+P1UlFlHEdKRTH7hO/qKlnTq\n",
       "T8RoeYVMmhmv5khdmTQwl85okCDDHnuTCyI7hDTnHRCsShCoa4gFI0+6SA6htA2SWDlCG/cMtIbb\n",
       "WHYxiZ0XjXJ5zAuS83gJEBnNnDPVA7JDHg0iK2g2DZEj75medPEKDhUNvhRGj9P2vWboVJiFkklF\n",
       "u/GXtTuDEoRqUHoJEDWLEwUapmMuekHue5I1VMG8EUh30t3VsSdR4smKWVpvchua9QjzY5KRzHAQ\n",
       "VBYkSDTv8RIgUbcpO2bDC3LAsbHinNaxlOrzg5BuHvhIYeeLNrPyHkI/jyCTeqGcKxQuE8hU3AOS\n",
       "FV6nrbeWZXIQxT1329yLmGVtsT7ZIMdcW44/j78K5Ajp6CxnlynVeFawt2hBO6Z5e2pBt2InfhnR\n",
       "AQlCXUN6yYhkCYuGaZu7FW9E9tXd4m+JrrhGr/NSw4RB0tkynjLlC+C1BEnmhJcDwoo/5R67baap\n",
       "jvsDuLPr/OiJwK5ifBH9JZI6TTTRKUVHdLtfOFVzQXjZIImub2lERGvl5k7Tcb96aQjYJaq9jmtA\n",
       "YLjf4XbKEX9jQEewj/CvlVB1BNzdS1c9F6NqUHVd9Lx/c688V60SIKpZ71Vxubqj4s8gUbP6S2vX\n",
       "ecDsvsyNf36fyMgrbmCEDf8N2De2/80evwFuC/AXsH+S+AAAAABJRU5ErkJggg==\n",
       "\" style=\"display:inline;vertical-align:middle;\" /></a></dd>"
      ],
      "text/plain": [
       "<IPython.core.display.HTML object>"
      ]
     },
     "metadata": {},
     "output_type": "display_data"
    },
    {
     "data": {
      "text/html": [
       "<dt><a class=\"ProveItLink\" href=\"number/sets/natural/_axioms_.ipynb#zero_in_nat\">proveit.numbers.number_sets.natural_numbers.zero_in_nat</a></dt><dd><a class=\"ProveItLink\" href=\"number/sets/natural/__pv_it/axioms/5e7897b61a74cb2895cac43804da4b0b088906c60/expr.ipynb\"><img src=\"data:image/png;base64,iVBORw0KGgoAAAANSUhEUgAAADMAAAAPBAMAAAC7N+rPAAAAMFBMVEX///9mZma6urpUVFREREQQ\n",
       "EBDc3NwiIiLu7u6qqqoyMjLMzMyYmJiIiIh2dnYAAADXmt2vAAAAAXRSTlMAQObYZgAAAONJREFU\n",
       "GNNjYOC785oBBXR98WpgePpVgYFhJUN7AqqcD7cBA8cHBgaeAAa+BahS5hvuMjAEMDCwGDBw/gCL\n",
       "8LiXV4EZRh7MGxgKGBj4DRiYfoIEuH0boLrMNnOsAEn1CzAw/QXbDpNhMOO8sBkklf+AgRssZQa3\n",
       "y4zhEc8FkJQAA/c/kIADkhRzgzWSgdxRq4AAKsVhwBUAdgYnyBlsyLoY9nGDHO/AwAN2fACyFM8E\n",
       "ByQvy8KlrIH4GciQSobWDSAB9gkwqZVAzAhS3nfXGizAYaIBkdn+FaiDAyXwmJ5AAwoKAGQvOOyD\n",
       "fUpGAAAAAElFTkSuQmCC\n",
       "\" style=\"display:inline;vertical-align:middle;\" /></a></dd>"
      ],
      "text/plain": [
       "<IPython.core.display.HTML object>"
      ]
     },
     "metadata": {},
     "output_type": "display_data"
    },
    {
     "data": {
      "text/html": [
       "<dt><a class=\"ProveItLink\" href=\"number/sets/natural/_axioms_.ipynb#zero_not_successor\">proveit.numbers.number_sets.natural_numbers.zero_not_successor</a></dt><dd><a class=\"ProveItLink\" href=\"number/sets/natural/__pv_it/axioms/90d6f66a643db8f3e687d59924b3019427d02de00/expr.ipynb\"><img src=\"data:image/png;base64,iVBORw0KGgoAAAANSUhEUgAAAKsAAAAUCAMAAADFqj2LAAAAOVBMVEX///8kJCQNDQ0oKCgQEBCI\n",
       "iIhmZma6urrMzMxUVFQiIiJERETc3Nzu7u6qqqp2dnaYmJgyMjIAAAD9T1yxAAAAAXRSTlMAQObY\n",
       "ZgAAAllJREFUSMe1V9lirCAMtb3sBBL4/48ti6hRx9G5LQ9mxp6Bk5OFdJr+YwFx+2RFePEHDC/R\n",
       "aflOT08Mnttny56ThcSIS0KzoDGO9yk8PC0BtzcFFf2ckM5d0NsTCrngYKBhiAJP1SHF7TkzyUNh\n",
       "0eYwNDuTdcuCRMOlBT3kXAW+uRxwe4drJTC4BnEmq9l88bZt0X7Q0IShLnBPC8tx+5jrlPS1rFNu\n",
       "XHWOCzr7uhw+5CoVsxotgJRK3ueKx+TxW1lDVp2rXNBddg8PuXpiFifvZd0fbnOltbowtfXvuz6H\n",
       "C5CbfqZzbWitXldlhTqFRX4p7C5d49aaOLlWqtnc5hrdpaxlL9W54oquD3lsriGiUuV19K0/q11L\n",
       "E3prQ1FUNyZcKieasWdcTd7LwuXgOdDRSJ3vzn8fIdRtI8lJ1SBfca3l2uo43c/XA9d9Hua5D8QV\n",
       "Xa6K2SNSZGQvFr0kfjTRgDxw5TlQdG8sM03hLlfteL5+9RisQfB+84MZ7WG+LUiLorEAdvdGU3KA\n",
       "DF7X1iRw7oX4QW2d33/bu2Cgo+qcIcj6oW4W1JZrOf/QYMaL2UJL17IvmWuucuGquPv62MJqzIIw\n",
       "DJ3HjrZ80KJVf+u6tQ1VrmWS2mf0iOBsuwFL8TJflRU5qR6KxFvGyTwSUMpxkw00DVj1oThQnpbp\n",
       "Omkjf+mOXYlw76O6Hur2WkGtNadb1BenqeUy4UezS3g9vO1mlzdj3mHS0VVNiS1EPo4Y93vbHm8u\n",
       "OG81N6dfXlkRn6APRTDn6x/N2jsP38j6mR6/9D8M7Q7X79E/LBUdTFd8/fwAAAAASUVORK5CYII=\n",
       "\" style=\"display:inline;vertical-align:middle;\" /></a></dd>"
      ],
      "text/plain": [
       "<IPython.core.display.HTML object>"
      ]
     },
     "metadata": {},
     "output_type": "display_data"
    },
    {
     "data": {
      "text/html": [
       "<dt><a class=\"ProveItLink\" href=\"number/sets/integer/_axioms_.ipynb#integerDef\">proveit.numbers.number_sets.integers.integerDef</a></dt><dd><a class=\"ProveItLink\" href=\"number/sets/integer/__pv_it/axioms/2fdd515e22afbf0cee72469e62fafc707e10e9190/expr.ipynb\"><img src=\"data:image/png;base64,iVBORw0KGgoAAAANSUhEUgAAAL8AAAAaBAMAAAAUFZBoAAAAMFBMVEX///9UVFTc3Nzu7u6qqqp2\n",
       "dnbMzMxmZmZERESIiIiYmJgyMjIQEBAiIiK6uroAAABqpg13AAAAAXRSTlMAQObYZgAAAtBJREFU\n",
       "SMe1lk2I00AUgF9+Jk3bbSgIi6wIXQ/irREPKj20CLoIgpUKgqhE6cHDlg3o0q2iBFaw4iU3WfDQ\n",
       "g1ZXRANFUHbRKipF0C0ingQrqHhQFHoTEd8k9ic/E7DFgUwy85L3zfubCQCjSR0Yu0XDhMfH1w9K\n",
       "MkTYCJ6OnfFaWlHZSg6zRREzcFq451/mc7aWBMKVd79WXq7WvKK0KjyqNoCsvXIb8MOv5WxIEHS8\n",
       "LmpgyT7RIQC5hnHI0oHtBIF2pO3XcpQN4HE9kTyQ3DGf6CkA9zZqwgQdWLSLjwCANwhQYVrSfegu\n",
       "Ar6ok5CgI1trYhTAgt0vyr5EiDURsDmZUccEXLWVmbf8SYRe4VJ7pWQIQDmwaamC9yMhgO906TsE\n",
       "wx6QFbvZ7pINCiCdZQ+AswYfE/kSZFMAd0MAcxp2k1zKJ4gnKQDWcSU3YJ82eKeYsCCN47jOBqRx\n",
       "w1H0TwEVotuArbDqApx8TfPVsVRTsx1n9RsDipI4N3wF0w/dUfBa4ACk/Kzbgq9DFsB+gA1/rfUH\n",
       "cWDBQYJdcxAD+3XZcRFck/t1kLFjYLhL+KfgjUFpvhN93AfMpYBPTuOw6VkAVcThaskWOjpPuxlf\n",
       "mj4DsUuGs0jYXa6JRgFO9QGYRbK6CMKU4d1EkBjP9TaaDKKUhhfA/wZi1Yfr4OaubSAuRyBPyufK\n",
       "p+nMbfTq5VZ1reVNBKUL0vtWzzH8/T3F9aqvDtrAT+UcwI36ko7pgk9i8YSZ71uwwMwv9yYqXak4\n",
       "qcyq5Dsv4ImzW4laoT4APGAC5oOnSTMQwO9sQxe2OwBC9B5A6DIBs4wDjXEecKbShFK1WjVFja+1\n",
       "e4AY+8zkcsHzASca9eaEFslrnGMBfMbCk5x61ZgAwQqeF4PP5DQkPmqEqot1IJbvCa+HbFMz//T/\n",
       "8AGieMBfwKdvDwF6juGNkE/EEf6LohgD136hwv9vfwAWGK90UNmFmAAAAABJRU5ErkJggg==\n",
       "\" style=\"display:inline;vertical-align:middle;\" /></a></dd>"
      ],
      "text/plain": [
       "<IPython.core.display.HTML object>"
      ]
     },
     "metadata": {},
     "output_type": "display_data"
    },
    {
     "data": {
      "text/html": [
       "<dt><a class=\"ProveItLink\" href=\"number/sets/rational/_axioms_.ipynb#rationals_def\">proveit.numbers.number_sets.rational_numbers.rationals_def</a></dt><dd><a class=\"ProveItLink\" href=\"number/sets/rational/__pv_it/axioms/01bb7410f4a481508c3c3ba12a0cfb430c19f2360/expr.ipynb\"><img src=\"data:image/png;base64,iVBORw0KGgoAAAANSUhEUgAAANkAAAAqCAMAAAAJZg7zAAAAOVBMVEX///8kJCQNDQ0oKCgQEBCq\n",
       "qqp2dnaYmJiIiIjc3NwiIiLu7u66urpUVFQyMjJERERmZmbMzMwAAABdFfPVAAAAAXRSTlMAQObY\n",
       "ZgAAA4BJREFUaN7dmdli4yAMRZkZdrH//8cO4A0c29gJbtLwlLZE9pEQulIRemYx69Edi2mF3rmE\n",
       "kfMLCEcdx9DLNA/6jWCA7fxZYYGQCR29hs37yFyABZKlX9iO1kkgbyMrQjZASt7TfHDvI9M1JAR/\n",
       "k/n3kUGg+fygLyRLOaENIuLLyJCNGcakRrT8u4cvIAPNuReaV/WVnqq2FH6CzDtrrTlb/1uPLsnA\n",
       "YrlT7ctvcEb9DWSgtYx5AkZb6E0Wy/j2JV660cRsBSn6k1nl/EDoDXQn2y68oijuDOdvme5knKHR\n",
       "qAV1xmq4QqbCprN0UQKtHrQH9CYzUdWOjAqdOY8tkVCRUdkK2egpNQXX9NJqQiPPRv+yM/daU9hV\n",
       "Nky8Pd3DF8omCAZPqTBqNBo6dQ6KIzI+2cePbHo9U6wqSLLl0+puDDF1IYja6r+/hVWRhQzyExng\n",
       "TsLR12QtoS3ah6UkG7In8P2QRTI3kE3lXshOaMVpJIg2ZBLBJXpY1g6ZM7O8LJxZ3RHr05gSHndR\n",
       "a7a8QVr3EmgrrsQsHzm1ysyViaBX6Us6BS3eG3a+9RnayrOSlwV1gSywqlXNVv/g2qq1g12YI9ar\n",
       "K6JLpT7jK9e6uyoyNTXeRRxXUV9VahVYv4mRG9SVO2USAj9PpqNJW/tLPbhPJnU1B8rKrtOwYMzp\n",
       "+QOmF259x+nKX48KDijniyjBPacq+W3IWVVTyp8tLX9c7Ym7YL4LGhXERAdfVsSPWv6YrCm6u3ee\n",
       "IvZoxqnLZI+H+JCMUPTTZE+28xta/pCs3Sd9CtmGludH5UihrmTKmLvItrX8fRMejS111s3JTV1j\n",
       "w7OPXmn5+8iAUJfqbaq8FDiUk4bDDc8+elvL9ydjlghIj4ognomlRE5O3d3w7KM3tXy/oZ/j2vi1\n",
       "bnHFeDN2dVzDwYZr4wXZ0PKvTdIWN4H08dUhTzSK8AmyXFFcAuLuYMNFKab2tHwPybAkbboGvMyx\n",
       "K8h5GZE8pDYHGy72qkuMtrT8i2BL/FOXy9PZ9NLmldKZ5umymAZd8flOH2y4GjU8FdwNLf/S6EJK\n",
       "X5zLGD3L0r2wpJ4ieQIw9f7ptCQH7G643q7CrpZ/iaxKECximuVmeJmNO5QzW6bJXnyHmGbM7mz4\n",
       "4KU0J3xoGu14RpnWmlIjY4x8ipWPP6GdDb9k8SmNSnXd2vBbV89/R37WauT3fyIlKrSih1qgAAAA\n",
       "AElFTkSuQmCC\n",
       "\" style=\"display:inline;vertical-align:middle;\" /></a></dd>"
      ],
      "text/plain": [
       "<IPython.core.display.HTML object>"
      ]
     },
     "metadata": {},
     "output_type": "display_data"
    },
    {
     "data": {
      "text/html": [
       "<dt><a class=\"ProveItLink\" href=\"number/sets/rational/_axioms_.ipynb#rationals_neg_def\">proveit.numbers.number_sets.rational_numbers.rationals_neg_def</a></dt><dd><a class=\"ProveItLink\" href=\"number/sets/rational/__pv_it/axioms/43d4797e138ff5348d2dcda4e90a40875d30d7c90/expr.ipynb\"><img src=\"data:image/png;base64,iVBORw0KGgoAAAANSUhEUgAAALoAAAAZBAMAAAB0qCmCAAAAMFBMVEX///8QEBCqqqp2dnaYmJiI\n",
       "iIjc3NwiIiLu7u66urpUVFQyMjJERERmZmbMzMwAAAC8H5PlAAAAAXRSTlMAQObYZgAAApFJREFU\n",
       "SMetlVFo00AYx780Sb2mbdiDzyOI+CKyCuukajXORxGDoFRRyIsiwlBw88lJUffgZDQKPop92UT0\n",
       "ofg4qSvCtLo8FFR8kyL4JKOFgeKG4HdJc4nmks7Rgzb55+5+d/fd/7sD6FOO6+xVLcc1XC3Bf5d7\n",
       "Of9dtGKb3m9zB7VXnkZ2OQGboeePIjlb49TMPjHJYhNSNpZmqHbfZuhpjVzH6qucqndfcITvUSHt\n",
       "Q0+8ov9HAA7w6bKOC8rcrW6JLk2b9PEeYKTMpaeTLRzCam6FLl9zl7wO8Fjj0i+raLmUXoihJ0dL\n",
       "ZwJ0T8LtKbcN+Y10A8ShcPeHCQ2dbOwMTPGlU1qOeEatZirdAN2Tc5O9Dsk1gI4BUjdM/+bSd/Cn\n",
       "nhjGqW0HpebTPam88Bolce4dzIt6uL/iREYb48LVt7hr2S4IOZ/uyVlG70UGlKkQIOPuaoRnUjh3\n",
       "oQFXLJ/O5IQXGbqrIxiBRU5/vUEdqYfi7o73HKBi9DLWpTPJdhVszOnyP3En+4sL+CjQbFqFaM9U\n",
       "NFgJ0j3pO7KXTcwzt4of4UIVRnE90meT1PUYetqQ1gJ0Jv1s2qaR4UCuSq8vleG0DjO7qNhY0iCG\n",
       "TuZP/grQmfRPApI/2+7R5049gEfUD19NkCVaWUhU4+jgRdTLVZ6xwaWTm+oPoH6V7mDgZOfz2O5P\n",
       "uQj6Xse1tb/oSi2Snm2pQ4TmoUzpovN9wq5bcee7a3dGF/hToee7oMlV9YZtLydoZMR+d1MaSeLS\n",
       "dJDuydDdhNUVM2MAjTNZwF0d73v17fHtJLf73quC2WnDISrPVyHfgMGW1PxhzE1qQfnnwXUYeDmG\n",
       "v3P2Ms1/a/D0D+zkfDN+cdDw7AbbnJli6Q/n/LicDCTAGwAAAABJRU5ErkJggg==\n",
       "\" style=\"display:inline;vertical-align:middle;\" /></a></dd>"
      ],
      "text/plain": [
       "<IPython.core.display.HTML object>"
      ]
     },
     "metadata": {},
     "output_type": "display_data"
    },
    {
     "data": {
      "text/html": [
       "<dt><a class=\"ProveItLink\" href=\"number/sets/rational/_axioms_.ipynb#rationals_non_neg_def\">proveit.numbers.number_sets.rational_numbers.rationals_non_neg_def</a></dt><dd><a class=\"ProveItLink\" href=\"number/sets/rational/__pv_it/axioms/68822442655b6c9952f83fc976917ab0bc3c5ec20/expr.ipynb\"><img src=\"data:image/png;base64,iVBORw0KGgoAAAANSUhEUgAAAMIAAAAdBAMAAAAKp674AAAAMFBMVEX///8QEBCqqqp2dnaYmJiI\n",
       "iIjc3NwiIiLu7u66urpUVFQyMjJERERmZmbMzMwAAAC8H5PlAAAAAXRSTlMAQObYZgAAAvZJREFU\n",
       "SMe1lk1oE0EUx1+S3WSaj20Pnssi4sEirdi0Rhtd24MHERdBjVphL4oIohcrgpagFtEqiYInEXNp\n",
       "RColeJJKaBCqiV2koFIPRYLgSUsCBT9aFN/sZj+S3WziYQeSnTezM7+d9/5v3wLUNzbaBy61jqxy\n",
       "GYEtbhHg3Az9vwydSfcQ7wDIX/DwrhHgegm4HxAQLBMHjCHO8YQriVaIF9wvCIiNw5Om4PvSjjvc\n",
       "K9uC5YWnau+EgGfwWAgHoR1CdAR3j+RsZm4/kchsETtklKdx6LTsMdiUcPOT3g3xZAynL9gQSp+R\n",
       "8i0JZCjdREvNCdCT1Xp7AXbZE1gBDxa+lSHLytqTNvngQICHM7XOW4DepC0h5F9ETLrIqTFity/+\n",
       "FwG+l9TrGsBj3pZwlkMpdggxB4FQgr8/ccxE0Ey6wXP6T/4gQQRfl3X5Ay9mGCduqh/1vVSaep5p\n",
       "KkMpWDURNFPJ1DGKXAWoiMBUrYSvKmGjV8ZWtDuCtxsfcQMEcwZBN2nbR5/Dj2eoYN7kreuDipf4\n",
       "gaY+4t5IqPMqePoMgm5iO7rD5CUIXrRsEFYjnXF46+IZPAU4nzYIuglkUNQj3YvemLVZLxSoWgXb\n",
       "OKjcZwApsZbZKkE3/UvaQhlzP9kQB7IzTvMlRjNuBZy1lOJhwUyomf5pviHjdC1di3+AUxnoxxuY\n",
       "JYnkhRaEkMismgiaecfIjgBPuk05zbw6k4QjAkxspsb6nHNJQAKZOvTbRNBNk0eix8s1wt3D9+ER\n",
       "1cgXCViGTsa8mVYE0Dys5bSd8EElkHF8Q1MtMzdQQ6wyPNDz0an+b1NUnasjBHNNCZFFrovQHGEp\n",
       "wadmpZx3KiyKbGr61wiqOXmJtnHjVlofPDyb4a7I8ryXesnXTnUN4W6+uatmgmZaahxOp6SwCNTv\n",
       "JIuRHm6rgG81pMaWW9Zpj1Qpw26lFGQgWnDjy2tqD+YwlSf7c2jNnY+W/fgblefpuyLtDuG91vG/\n",
       "Hj7tBiCyrgdrIp74BzeC0oE9I4RiAAAAAElFTkSuQmCC\n",
       "\" style=\"display:inline;vertical-align:middle;\" /></a></dd>"
      ],
      "text/plain": [
       "<IPython.core.display.HTML object>"
      ]
     },
     "metadata": {},
     "output_type": "display_data"
    },
    {
     "data": {
      "text/html": [
       "<dt><a class=\"ProveItLink\" href=\"number/sets/rational/_axioms_.ipynb#rationals_pos_def\">proveit.numbers.number_sets.rational_numbers.rationals_pos_def</a></dt><dd><a class=\"ProveItLink\" href=\"number/sets/rational/__pv_it/axioms/12916d3c554423eab1f358b7cc86f0631bcee89a0/expr.ipynb\"><img src=\"data:image/png;base64,iVBORw0KGgoAAAANSUhEUgAAALoAAAAcBAMAAAAkZbgxAAAAMFBMVEX///8QEBCqqqp2dnaYmJiI\n",
       "iIjc3NwiIiLu7u66urpUVFQyMjJERERmZmbMzMwAAAC8H5PlAAAAAXRSTlMAQObYZgAAArxJREFU\n",
       "SMdjYKAXWEBT0w/Q3XSWKwg2XwM+3W8jSDadYzMSh3kCXu0TH2C19MzplbhMZ/lAlOmmzkCTeTdg\n",
       "kelansCx6wQD1+7d0ru3oEsyFxBjOrcCRxmaWhg4eQ9ow+sG7G7HY3q3A5zpyMBgjd10Vgegh3g6\n",
       "F5BsOod5AIx5ioFBvwGr6dxsF4BWTDhBsukMDOEWUMYvBob5ClhNz+ID+pDTwRKP6WwmEZFIpie7\n",
       "tkKtcb8B8cVfoOkBDMwCmPqnMikAU3KACsJ05t1gcAHE5gKlg4kJXB8QpnOKMayHadZeBiLZPjMw\n",
       "vA9ATV9Q8BRiuhKQmYApqwhMaRwiEEugpjc6MKyGy89eATId6Pb3BgwMezH1c4FDRsEMa1J7A0xo\n",
       "DLwfGBgNEKbfZ2AQRph+AhEyDFylGAbwQGJ1Ae78x3iAIX8CwnQZBrafqCEDilV9YAjswtTP6XAA\n",
       "lCIdkGISEu5g+7iAkv0BDP6INMPxFRHA0FhlOMPA4N+AFu4cVrYgqy1BuektjlwISjP9CgynkUz/\n",
       "xMCzAS1FQnMTPM002V5hSF3AYAL0D8v1BI69DnhM5w5g+YyU3rcy+Bug5SZ2BQ45pLzBciijgSHM\n",
       "gaFVDcT5vV+BAY/pHEuDfiKZ3hWqPwGtJOAwjXoANb03dBLDXFBp/SiBgZUFJGnJtACf6fCSEpZX\n",
       "/fG4pI7vGwMo4FhagGmFFSxspn3VAIcOAXieQpi+GrfpvBf4BDhA+ZAVZDozWDz3zF4chSvE1ZDk\n",
       "DjddGLtaUPnOqMC6gK/mzJmjTKCQYSZUG4LqJub9tcimW3+/gD1vAKX7E3gCwLU/xzJgrDoRMp0J\n",
       "qV5lfUCwXmVMeP+AwQ7EjV3AYErtZgDnUntg3gQlQdbvNr+o37DwBuKYM0dB+X8C9U2/DGOwHXNK\n",
       "o7bhvL/hkdNqGwEAfXfFnFahWOgAAAAASUVORK5CYII=\n",
       "\" style=\"display:inline;vertical-align:middle;\" /></a></dd>"
      ],
      "text/plain": [
       "<IPython.core.display.HTML object>"
      ]
     },
     "metadata": {},
     "output_type": "display_data"
    },
    {
     "data": {
      "text/html": [
       "<dt><a class=\"ProveItLink\" href=\"number/sets/real/_axioms_.ipynb#in__interval_c_c_def\">proveit.numbers.number_sets.real_numbers.in__interval_c_c_def</a></dt><dd><a class=\"ProveItLink\" href=\"number/sets/real/__pv_it/axioms/a9d7906773381b2c8f95b41a45aeea22c595b0970/expr.ipynb\"><img src=\"data:image/png;base64,iVBORw0KGgoAAAANSUhEUgAAAcgAAAAVBAMAAAAwWGOcAAAAMFBMVEX///8QEBCIiIhmZma6urrM\n",
       "zMxUVFQiIiJERETc3Nzu7u6qqqp2dnaYmJgyMjIAAAAcRTyBAAAAAXRSTlMAQObYZgAABXRJREFU\n",
       "WMPdWF1oHFUUPpnsz+zsT3wQqm9jAqmEWBeq1IKtoYIiVN36oBGELtEKAStrTAiaWoJWMqmkLlbS\n",
       "vLSMCQQNNV3sQ6lIXeyCkGBcUEgJWlZjK40QQ1CwiRbvuf8zs9lN6psXvuzO5Hzn3O/ec8+cWYB6\n",
       "w1jOBG/Gygz1ra/2QjwftDvNsdEIck7DFgbSBcgMKnjvxxr2iY4UfiQ9kj7mqGKtW20jf0oA3QEz\n",
       "a5AhMJKvObd+GoEgp6p11UGjdmsowSzeX6opMlEgHylXv3mDo7ZIWGQipwNmqTxDcKSsbHjkuOLk\n",
       "NYZnbA8mmNEno05rKMEYJt9gTZH032Oe9U4z1BO5zkQmbL/ZdxzBYcaKMDiqOIsaQ9/YrwM+4WyP\n",
       "iop0gRLdIbpVG4ukGz2r34vmGdS40t9fCYgMrTGR1h1+p29wBB2gyN0pyQkPuYqh1YRdwYJw8i0t\n",
       "KtIFSpCcmZo6BbVF/jA19UlOv3eKQ47Otmo7mcgxkfCLv27lGKo4oCJNyYnssyVD478a3JbR3/So\n",
       "lM5BZvCX4xypI7LJcYaK+r0WjvHWD9txEtaSnq4nL9/Dlj/V1VKgIi/7D0+awWru3vcVeBygyOxj\n",
       "kjMNOcmQjsMnxFJKB9ApF5JGpXQOMoNDAMMyv5arioxkwPQk5wiDVUz2RDHJInnNOnQ3/M4uzi1Z\n",
       "N6nIq3g1t4yDnjGzzHAW5u2j4HFARMZfXxIcckrYOUFr6diRNUc6MN+Vk6NRKZ2DzOBRsCrSQCz5\n",
       "hXtf/FmbdtpXIAcYEm5iLYTTM/Ul+agMD7GLL11YpSIv+BYuWmCYgW/dJ8DjwIxt66eJxzg5OCMZ\n",
       "0vF2kdvKgdEjqz+NSukcZAZRMNQhRvfWFzvLRgJmbJWAObjPM8k7GSwwWV0+gHskCs8jLvAytxes\n",
       "v6nIgz6RDR0MLjjgc2DGSunjIDhJG9OIM5Tj+RnuSDqA5BGhkkaldA6s7+Woin4T69zFKSAiF8pK\n",
       "5DeQqyYSoImtxJi+k3eB9aco/6H1miIB19zrgKTrA51SZNSFcFYwlGO4tFvYr8omZzGvRfWJjFWe\n",
       "Jd8nWq/hiV5tdUN4xFFkUYk8g5ESLc8c8qYrccFOR4MmkixjfIVd/AONa1Tk4+pMXtfTFcJ81g26\n",
       "SPNTW3DOi6aDWGuOAZ7iUxEOsKBcz6iolM6BMxh+iSReXxifLsabRpo2cUTkzrQSaY6SP22RSq+3\n",
       "8MTd+8HALGm0NZHrEKlcpBd/4DGShUd/4vPC87mxAvR8KQdEZDj7oODc4ELRWnOM1fQY/pUOqGCn\n",
       "Q0b1FR44T1KxMR3GhDTtZGWCimx8uVd7KMR3kS+ZVFmvTwRPF97nffOAlq5vw3y2aN0iF4fhHRbi\n",
       "YX/FTlOE1s0V3uYPaG0dzOI5RE54kKUsY1DH6rlIbDQH9PFJt5dGpXSOEj9XDQUjSzO/Mfuc4zi2\n",
       "kfjge/3xTjO/SdZ5ngeTzeN7WIjJY660nmx+vqsD+smNifYyC3HNJzKUo7C62lr4u4FwgA16xjyx\n",
       "zjgRjG3YnMEce5o75UANGpXSOXAGSeL+XN5cIB9NbkMhwtI1/oKriVxgpSCzYVu3f8jX1sVFscO2\n",
       "Lle/rRMO5PyRE6JfM8G2ru5AukBJlLv8wSdhzI26VyCRYWdypuht1GIrc1DcfIOeACVyKw26dGQH\n",
       "GVsY3gad50/XZ3vgQCH8CpHxHj5C54oTe73Ttg7vb5cP3GHQ+qSqIsc1kcFXLWygzHytWU5XYYhd\n",
       "+rUfh+dVa5re6vPQ1auWPljXa5AzueHL06ZfmsuayOHNvzSDvoy399Ls2YVhv8h41aU1jm7p5w+/\n",
       "9Y5eSN7Gzx/J//bzB9IFdvR6/gP/0/EvKjHjCzqBee8AAAAASUVORK5CYII=\n",
       "\" style=\"display:inline;vertical-align:middle;\" /></a></dd>"
      ],
      "text/plain": [
       "<IPython.core.display.HTML object>"
      ]
     },
     "metadata": {},
     "output_type": "display_data"
    },
    {
     "data": {
      "text/html": [
       "<dt><a class=\"ProveItLink\" href=\"number/sets/real/_axioms_.ipynb#in__interval_c_o_def\">proveit.numbers.number_sets.real_numbers.in__interval_c_o_def</a></dt><dd><a class=\"ProveItLink\" href=\"number/sets/real/__pv_it/axioms/3aac6a05036260fe2e410839c443a033b7660e490/expr.ipynb\"><img src=\"data:image/png;base64,iVBORw0KGgoAAAANSUhEUgAAAcsAAAAVBAMAAADbb9ifAAAAMFBMVEX///8QEBCIiIhmZma6urrM\n",
       "zMxUVFQiIiJERETc3Nzu7u6qqqp2dnaYmJgyMjIAAAAcRTyBAAAAAXRSTlMAQObYZgAABTBJREFU\n",
       "WMPdWF1oHFUUPpndye7Ozm588CEKyrrVVIrokiIq2roaRBQk60uNIDTEVCxIkGAM1BrWgrhRpKuV\n",
       "tg8RJwmkJZTuoA8lInVJC5UVdSmFJIXCoLZFxTQECjaV4rlz79yfmdmf6JsHvu725pzv3G/uveee\n",
       "WYCW9uDl4FiiTtGG9wJD2wxSXCCifVsQSF3Ng0PGLjULOBvic5whzFuY8d6bAJ1lCp81ZFjqPrja\n",
       "XQ+JOd6uQiUtgZmH78kffm8uM+jzG0NzmZDOYVKHwmeNGZw5GFi2eExCjpBNG2s0YzktAco8SpiK\n",
       "zWUGfFI5ilYyu2z8Z5FBsSYMxSmIJwZ5TDonImQ7MRoSe7oQSLvoykxb+GE3lxnwiZUppGl/MD4R\n",
       "lNmPgTDNoFgTBpQZKTs8ZmCfiJDs0LthG/6xYNppV2aqNj9/BJrLDPgcYeCmH7DCVvOcuxx5CmiT\n",
       "wZVZ5DHDWREh7PAfITPdWgtJi0CZ8FeptL+FzIDPFoaZns8eyJCBk5bkfejMPey/V7KP47PMUUAY\n",
       "g5Hd+/SiyoAyO6ODXozhxERE4oneO+kS/8rrjUcAxrkMhKRFEJl7ACa9mOhquEzZh9jHFEY1NRpz\n",
       "K8VeyTt6B1xjU7hlVcqQQg8CMFddy0kMcAKWMhMqA8o8tdNiMXhY2HEh3k+V02vke/x9cUQ9AuMR\n",
       "78JR0yKIzD65Dp5hn6fuf/VnSWafr1a+Q2Fa5kbUPTJFSeZ0HR6l35Mb0JWBJJZ3AghhgBr8ZD2n\n",
       "MhQ/GZ8gymhMDBKOF2HcBRHXTxvla88JRnjxUNMiiMwYaOLeJTve+GZ7XTOhlhEyFR+02ykMiNPZ\n",
       "6XeTZWLeT1rAimDEgUoVdFwAfc0nkzGABSU/Q3GqL05U0Jjz7l6i3pENiNFZpfZ7Oj0CQ8hU0yKI\n",
       "TLMeE9lvIJYX5gFlXqwLmYqPNEny1EC9bc5CNxjX+V3QbzeXCbDuZyhORZ4pcplYZ3d5ER1FqBTY\n",
       "iv3CC+86u1/5plXTMpkJh9DM9pAmTV/vsaLk7BCZVSGT+iw+3FNQtxzsZgO3CZnG35BkorrqZGmj\n",
       "uHMIvLM5qDDo1/0MeDY/PA8sJomzSZdZBK7Rt7yMXGGpPQJRgtS0UbppYXIYXcb0DaJun5ZLA5W5\n",
       "PSddEcRHs0ZieaUEJa2HcJQM9Eoyb0KnQxvSrjyeJlGCQooYfK2twTaVAWXuihRYDJGY9IpWxYaR\n",
       "pLeKesmdDCcQF4qalpUg+AolR3I6eXbxTMqZdWVGXntL7muIjw5/ypUK0W8fhM/p3W0L7wOwNFg1\n",
       "buH3znocZxipUijGGKI342u0JRcM2OyZ9h4WM8A2ruuN03vbFK08ObOCQLQHalqEK5Ocrw5bI3up\n",
       "Ix8ZfKlUKmU089MLskx6Bm94Q89SzGVndtAUxuvPc++57MtDeRjHVTZ6fyALUqBQjDEYQ9u2XFIZ\n",
       "sHW/DKVrNo0ZJkNZ8LzvO3yvr03nBKLZU9MiXJkpnFClHL+IH11Wh91JN23yFbmvSdHSpzds1aLf\n",
       "+Zq9JC/5xxhaNHucQY4Dd2PqIc1eSzsmYHo9WEd59wtw1IpZy2AW6NmsVX3t2xemY7bfuovNtdnW\n",
       "XY7zRWzG1NadPcqhL3fAi7b+Bmr7iLQHP1Znd/omPndhseZxTIKvLwrInOHbKvxFrDGDFBeIYHZy\n",
       "nNhYq3DpRUw2WgU0PJsNX63afq3mZSFepmibQYr7d6/VStp42S8zGb77t27qR5KA9wrDZn8kWflv\n",
       "P5KsCGhXFZkp+N/aP0mw7Rua963xAAAAAElFTkSuQmCC\n",
       "\" style=\"display:inline;vertical-align:middle;\" /></a></dd>"
      ],
      "text/plain": [
       "<IPython.core.display.HTML object>"
      ]
     },
     "metadata": {},
     "output_type": "display_data"
    },
    {
     "data": {
      "text/html": [
       "<dt><a class=\"ProveItLink\" href=\"number/sets/real/_axioms_.ipynb#in__interval_o_c_def\">proveit.numbers.number_sets.real_numbers.in__interval_o_c_def</a></dt><dd><a class=\"ProveItLink\" href=\"number/sets/real/__pv_it/axioms/818857c3f82b363b3761a9fdf1232d7c26ce8e060/expr.ipynb\"><img src=\"data:image/png;base64,iVBORw0KGgoAAAANSUhEUgAAAcsAAAAVBAMAAADbb9ifAAAAMFBMVEX///8QEBCIiIhmZma6urrM\n",
       "zMxUVFQiIiJERETc3Nzu7u6qqqp2dnaYmJgyMjIAAAAcRTyBAAAAAXRSTlMAQObYZgAABSVJREFU\n",
       "WMPdWF1oHFUUPtnZ2Z/Z2Y0PPhRBWVJNJIguKSKiratBioJmfal5EBpqIhYkhPoTqG1YRXCjaNcf\n",
       "2j5EHBtISyjuoA8lRewShcqKupRCk0JhEGpQMYaAYCOI99yfuXdmbmab9s0Dh93ce853zjc599wz\n",
       "C9BR7r0aXcu2mYJ+S5X8ShkWtoTAZKETcLwsSMUMPFy7EufwrcbmFFeNqMvWGxMAdhlSda2ZFuHS\n",
       "tiOr2wijiM+p62VIo6K7UJLB97jxWzzNqM2vXDUSWC6UaBDL05rpEbw5GF5yfJ+sFngT6auIqOgu\n",
       "lGRwHJGq8TQjNvkSU40El7tdGgQWdWabIFRnIJMd8X0KJR0wkVzkMFnni35U6s6VZFBwyIcbTzNi\n",
       "k64zVdJ+e3LK35Iy5DCan4VBYxAITaPu+T7DB0EDTOxfDld19oG2jErduZIM8q35+WMQTzNic4yr\n",
       "L+abjrIl5TwwmoVyCDQGgdKs+j6jPTpgSBxywizHXSUqdeeKGfxdqx3qQDNis53rid6P76F18rmj\n",
       "bmUfHriN/fVLz0M0iB2uOIFg9ex/bDGIQGimkiPCx/LSOuDTB0ShCgDzff9RYlTqzhUzGAOYFvvJ\n",
       "VT1N1QblPaZWM38gTTvF/sDWo/XCGsvhX6dRxyB5tLJXqZQUBDgNl4pTQQRC88wuh/uQw8KPSwB4\n",
       "9rCw9gFqFf+IYlTqzhUzGFT74Df888zdz/+s0BwM9crXmdqOvZGkJ6Sqblm3g8EWchvQXcQguYnQ\n",
       "s+MI0IKfnCeCCNUPJqeQGfNJQ9aLAKd+9619gL5+vzdhVOrOFTNIQ0Leu+hufbWjnbChVZQ0AzZE\n",
       "bmVqQYZlZ96B/yaxZWxAmjkbHjSaGMRcC9HkCOBALYxQnRnMYAUznwu0lkLAc5KmACAXbot/oVGp\n",
       "O1d6bNppGf0a0aWFeSA0L7clzYCNkiQ+NQjeNmS5qwqNirgMhtxYmgDrYYTqjPF41adJ+uyeKPBH\n",
       "hyXUuvjy9YMgo4ZpZj2Eme3FW8hc73WSeHaQZlPSZDaL9/dWgiUHe/nCLWo1kkd5jl+bbXjEwSDJ\n",
       "CXk2RwII5l9hBHI237kA3CdHsinUI8CyBfkARJ4ek1GpO1fMAKZHSfm9am4gu4OJUgEYzR0lSZPa\n",
       "JJzxdDnQgnLOfWQVFwbUFtRwYTxHU+suk+PktyBNE4OziTXoDyIQmnuMCvdBirlSBFheKD4AvWPf\n",
       "8qOGWxB8SSgbJROfXaaY92YpiPHCK0oLojYm/KF2KqJD7hH4hN3drrJFUF6zoUFCpNoZ1s6NZogm\n",
       "R0j+k1ljI7lEIMOe7Y5xn2FeuApwYDyQAFSOYnXRqNSdK6WJ56vLTWAtdZWNkWdrtVoxYX94UaXJ\n",
       "zuA1sbSb6VzPiZ0shPXik3LL2nfX0TshTZKzBn7g40ElRHO3MO3ffiWIQEb3q1D702U+o7jUEwAO\n",
       "DHsSQJn5MCp150pp5sl/v1HPXCYf3U6Xm2JFm3vOUWjmWeszNx3Vkt9Fhr2z/BODnOw87PkIQqgP\n",
       "PSWmbtjrJCel2mJw6KrvfQqOO2lnCewKO5stpQVR+dT27K2M7k2F5lZGdyGLce8EnSU4uvNHue+L\n",
       "nfCMa75EcnsXx4Mfm7O7QjTnLi6Km4nORNN6eLFsFSVNzYtYDAL39zYB3sR8ZRKlororL2KqsC6Q\n",
       "IGczNOxd/0uxXM6DpJmpbwWBSeaGX6t9d6FBmjl99ffd3I8kiZUyLN/AjyTLN/cjybJUzECtfvjf\n",
       "yn+XddxXMjmr8wAAAABJRU5ErkJggg==\n",
       "\" style=\"display:inline;vertical-align:middle;\" /></a></dd>"
      ],
      "text/plain": [
       "<IPython.core.display.HTML object>"
      ]
     },
     "metadata": {},
     "output_type": "display_data"
    },
    {
     "data": {
      "text/html": [
       "<dt><a class=\"ProveItLink\" href=\"number/sets/real/_axioms_.ipynb#in__interval_o_o_def\">proveit.numbers.number_sets.real_numbers.in__interval_o_o_def</a></dt><dd><a class=\"ProveItLink\" href=\"number/sets/real/__pv_it/axioms/22fb4840b85d908ec2f1bff0853bdad7896d38aa0/expr.ipynb\"><img src=\"data:image/png;base64,iVBORw0KGgoAAAANSUhEUgAAAc0AAAAVBAMAAADWcajYAAAAMFBMVEX///8QEBCIiIhmZma6urrM\n",
       "zMxUVFQiIiJERETc3Nzu7u6qqqp2dnaYmJgyMjIAAAAcRTyBAAAAAXRSTlMAQObYZgAABRtJREFU\n",
       "WMPdWF1oHFUUPjs7s7OZndn44EMRlCXVVIrokiIi2ro2iChI1pfqg9AQbbEgYak/xdqG0ZduFOn4\n",
       "g+1D1GkDaQmlO9iHkiK6bIXKltZFC0kKhUVpSxVjCAg2gnju3Dtz752Z3W3smwe+bnrvOd+Zb/be\n",
       "c89dgJ724NX4WF+LApKnJJtjiNrnDJ1sridzV5vjsK6XoE3GrnQL+C7B5zhDgonDxrsVgIxDETHD\n",
       "pojZ/LqDS+taCTHHb1WilJbALMF5MvFrd51xnxsMCSYN54uYtU0RsbxDEbf2DLy44PIYJ4m5q4lp\n",
       "CVDnYbIg7O46Yz5WkSLB5OF+D/9pMMj2E0Pc7CnI9o3ymF+SmNFyCRvqm3IsbcPXmXfxw+uuM+aj\n",
       "OxSCvAN7JsIpbiMYCUcYZHubIU6BOtNOO4zRDrgJzOj/enw1zD8aT3vE12k1Z2cPQXedMZ9DDKFp\n",
       "77nCFLdz/ioqUchFpUKRQOHrtMOYzNZCAjMo+9zYo25oJqRFoE74q1rd10NnzGc9w9HBTx/wH+Kk\n",
       "K071PT50F/3ftYHH8G0WKeTHLFIYA7u2NmQK1JlRR8OYk1BJYD6xOyg6AQEY5wqQkBZBdO4AmAwy\n",
       "qEvJOkUfYh9SGHVrt+5Xi13S1JNOfplm/setOWChi+W7XVwi5u+3bIviBMwXJmQK1Hl6ixvEYBU8\n",
       "H2ee3h94hwTGI8G5I6dFEJ3DYjE8yz5P3//yz4LO4UjBfIfCdM1V1d8ktjhl3A1pOpBbhf4C5PD7\n",
       "yFUib0/3KJrwg/uMTGF/tGeCVAMWU4EvYsyZ30LvkGA8rCByWgTRqYPCz18Sbny9qaWY0CxwnZIP\n",
       "2p0UBmTp02n3kO8pmEqvgk6D022o1UHDr0BbjuhMlShcqEYp7KnhLFnENMYqQKYcZZ7hOgMCg+uU\n",
       "0yKITrOl8+w3EQtzs4A6L7e4TsmH6wTy2kA+dHA4ZUOtHJxjI153nQArUQp7Kv2UHerUXdBGY8yf\n",
       "7OdUK6yyhetWTst09rW3kfU+SA4jbWXQVcnuJzrrXCf1aTw8WJbWLcB2NnCHuG7xXX7Ljs8WPOGC\n",
       "iotHrfD9eU1ct6D9GaXA/fn+jxDEnAo6BImZ16GQgNchOa1K1y1MvoIub2qrRN5epZgHqnNTkev0\n",
       "fRR3XC9JdSjnPoSjZGBIrEM1D8Zz/rbtL+GOEuqQYEEdOqMsw0aZAnVuS5eDmBtMq8zMz5WQgJ8r\n",
       "clpWh+AUak4XNfLysgWrPe2TpHe+IdQh30eD38VyhRjxDrJOXPeEKWR5y4Qapsi0svi20nUKyVjF\n",
       "V//OLtP+nFNg32d6O1iMZtO1KzBLfQIn4H2CnBbh6yR7LOUpo/6mSY++UK1WC4r58SVRJ92HN4Oh\n",
       "pylmBo5upimMV5/lU8bYfZ/dC/pe/GvoAtkuZQrJ2IoyxjauvyJTYB9/Fap/eDQmQx5RKYjMUt/H\n",
       "CXjfJ6dF+DotfFk1J3sZP/rdlJeh6zb3kivotGj90zr2fer3sb7vTPDHMYYefV9IIcaB6v9ZTuj7\n",
       "etkxDjPoxlLO9ufgsKu7C2CW6f5sCnXIty/NtrmWPj5cqWvt48W4jjeE3ib38exdjn21GZ73tNfw\n",
       "4T4gfcLF+vSWiM6ZS41mwDEJkQ6JWzBsBOdvh3tZ1qHofItsd2C+xUuofC8TjVYCBfdnpO9LvEz3\n",
       "uGdbPQR1vGeLcf/tni2lzTpRnbnkt7vhNn83WWRY6+8mi7f3u8kih3Jd0mnB/9f+BbdS5pRTRqZz\n",
       "AAAAAElFTkSuQmCC\n",
       "\" style=\"display:inline;vertical-align:middle;\" /></a></dd>"
      ],
      "text/plain": [
       "<IPython.core.display.HTML object>"
      ]
     },
     "metadata": {},
     "output_type": "display_data"
    },
    {
     "data": {
      "text/html": [
       "<dt><a class=\"ProveItLink\" href=\"number/rounding/_axioms_.ipynb#ceil_is_an_int\">proveit.numbers.rounding.ceil_is_an_int</a></dt><dd><a class=\"ProveItLink\" href=\"number/rounding/__pv_it/axioms/3dcab0cfd181e083439e15a83e4bdb1f03bd0f1f0/expr.ipynb\"><img src=\"data:image/png;base64,iVBORw0KGgoAAAANSUhEUgAAAIoAAAAVBAMAAABrmWvBAAAAMFBMVEX///8QEBCIiIhmZma6urrM\n",
       "zMxUVFQiIiJERETc3Nzu7u6qqqp2dnaYmJgyMjIAAAAcRTyBAAAAAXRSTlMAQObYZgAAAi1JREFU\n",
       "OMudlD9oFEEUxj82t7nbzdx5hWCquCQgkuowpBOJsQhKiqu0CeRQI14RiSBYGIJo4V4k4bCIdi4E\n",
       "RA45AhaipFguFrIB3SKgCJEzaKHgcgqCYuPM7M7suu5eotPMm3+/mffeNw/YpenLXoUbmufZ+K+m\n",
       "udAqIbCduKmvDvCV7RTKQ0QpiFEyl796B967qAKbbPw5hfKpK0W5WUY7BzSBe+zh15Mh+VJXSo8N\n",
       "svYcIAYKFu3WkinZeiIlf+vqAqdYWFHpRXoReafRuJviEJv/m6LesOTMYo7ZH4AfpjmfQhkKKPpg\n",
       "dbwlKc0Qkjd4XjaAGaCWQlkKKI/w2liQlGokhzqP6DvgxJ86eHL43I6wrwUUB6+sk5ISScVMb52f\n",
       "oSGE4gpZrY+4CoFjBOP9AcWCGcZFHfBo8wVTmuT9NE2QmxXoN08boJS3bowCfAspEVkU2LscTtHa\n",
       "p+lEa/RQOVNiUqIUO+YR1O+RHBUlZZOM8eEEtWvn6VnrUnasAJ8yUopF95nSwbCkHJG/rLJCRVPk\n",
       "0cXjOXoZvgCrnNJz4YrYtuFTMr9yHc2VlKzQaM5ahD5LnTpKB/t4MH8CZ0zTNBRyZ0tQJnyKfnZ4\n",
       "aDv0SL94yl8+vtxvHuynD//IpMNUpHZU9Poe9U1Z3X9A5oX/A2TFmAuM+6RNQMp+XBx7b79RNCKU\n",
       "8WCrRTN2mynopb16TKzX9kRpxgoGjcs/VKnIXbtVTD1SbCvJVaiO30pZmvo6YvYwAAAAAElFTkSu\n",
       "QmCC\n",
       "\" style=\"display:inline;vertical-align:middle;\" /></a></dd>"
      ],
      "text/plain": [
       "<IPython.core.display.HTML object>"
      ]
     },
     "metadata": {},
     "output_type": "display_data"
    },
    {
     "data": {
      "text/html": [
       "<dt><a class=\"ProveItLink\" href=\"number/rounding/_axioms_.ipynb#ceil_of_x_greater_eq_x\">proveit.numbers.rounding.ceil_of_x_greater_eq_x</a></dt><dd><a class=\"ProveItLink\" href=\"number/rounding/__pv_it/axioms/714fcfa0ec5368e967e9672f6386e4b82b3f66b50/expr.ipynb\"><img src=\"data:image/png;base64,iVBORw0KGgoAAAANSUhEUgAAAIoAAAAVBAMAAABrmWvBAAAAMFBMVEX///8QEBCIiIhmZma6urrM\n",
       "zMxUVFQiIiJERETc3Nzu7u6qqqp2dnaYmJgyMjIAAAAcRTyBAAAAAXRSTlMAQObYZgAAAhlJREFU\n",
       "OMtjYCAAuPreJYAZnO/eHWAgC3BeYOBMQBj4AKsi7gkMDGCZuzhMWcGAbAoDdlMYMhkYToPoVzhM\n",
       "eYnFFK7iBWiq1jEwzAA5vAG7IbwG2NzC/WwCqjIeBQY+oMk8G7Cbwj4Bq49YngWgRoAAA++pVaum\n",
       "4/AQSBxbuLB2OKCoe8LA8KOjowaHKcpQU7iUMp0OIYcuZx7E9YvUpugoMDAcZmBIZWDoxGFKL9SU\n",
       "NQzXFepQ4ojTHBQ2XAd4i9iBgvcYGJxR08F2jeRHMHY11JRTDOcXeKKYwlsMDtYFPL9YgMZtBwYh\n",
       "A9MFWDDtMb7AxMNwSgHKF4GasoChAzW9MNWAY5uLgQMcu/FAAy+wwyRv7FzFADTl1gU0UxgYPqGY\n",
       "sqYIpoNfAWoK54MwIOOQqVoAiwHIGqApB9B8xMD6FdmUybVwn8WD49wdiDtTgHoX5LE78DFATDE2\n",
       "QAvdXUwfGLTgpkx7Dc9BC/SBOsGhy7C5AGgZw1sGhsVgU5jTSmCqDkNMYfnN8YHzAjwHtMBd4r+h\n",
       "n2EukLaB++0nA0N4R0eHAhPPpCswVe4QU7iStJTvYsuNy5QW2YJMfwqKNVB4s35gZWCD+Ig7ZgH+\n",
       "HIBRBBVAGfN5HvAw8ARAwuXUAby5EQPwwFLGsiuHTjEwdINS3bkDi+1g8p3YSobn5SAQgFIyIAMm\n",
       "YLiQUUp1Ei4xuZAK2wTspdAEBgA4hZXtUbDWswAAAABJRU5ErkJggg==\n",
       "\" style=\"display:inline;vertical-align:middle;\" /></a></dd>"
      ],
      "text/plain": [
       "<IPython.core.display.HTML object>"
      ]
     },
     "metadata": {},
     "output_type": "display_data"
    },
    {
     "data": {
      "text/html": [
       "<dt><a class=\"ProveItLink\" href=\"number/rounding/_axioms_.ipynb#ceil_of_x_less_eq\">proveit.numbers.rounding.ceil_of_x_less_eq</a></dt><dd><a class=\"ProveItLink\" href=\"number/rounding/__pv_it/axioms/b4117e872f05b21c683fc041e62fa5be03262a8c0/expr.ipynb\"><img src=\"data:image/png;base64,iVBORw0KGgoAAAANSUhEUgAAAN4AAAAXBAMAAACWruz4AAAAMFBMVEX///8QEBCIiIhmZma6urrM\n",
       "zMxUVFQiIiJERETc3Nzu7u6qqqp2dnaYmJgyMjIAAAAcRTyBAAAAAXRSTlMAQObYZgAAAylJREFU\n",
       "SMe1ll1IFFEUx/+Os+7O7KxK0Eu9bAmyRNCSFD6obAb6EOX20MdD4WYpBCIi2hcKIhZj9rFUWAjV\n",
       "oCFlYgsRJvQwKEFsIQv5kFExlPlQKT6WEHTvnZmdmW0Wo9UDy507c8757ZyvO8DaycOlBf3i3tIP\n",
       "rLfcBQas3birjj8OaPTiY844sdvBK3TXOg28puu3nHmF8Ww8rsPx2nfIInTnzHuLLLyxNpuWFESh\n",
       "QpZEzrzzWXg3uxxRL0YgOTp6O2ec0OrOG/ju1JsHfspyZ848LmzwhkpvbQ+meUfnTYWhnRA2AdNA\n",
       "I9D3b04j2R/5UjpPVANtXs3k+S6mFdQ94JaBT8BeiJrNciJ08rPT14kr5WXswqqqmngGz5vQeZIi\n",
       "rfBxk8e1KWa8E1XwEfsJogouZabzRVmKk5AMpv08nq4kpZDclsETdkedvLyI8X7MazqegU4DKGID\n",
       "iojbevKXUl7T6t3kKAjvvclHoH9QQcIzl8rgQSiPuvLAvFr14v9iRIJfQX2U8QTtMNlP7SqN8jTp\n",
       "lKeStTqGCyTWVPIlWDy+FF7yp8VXEd3IGU8wr7Z+4Bd0jXwNW8hSS359pwhFafFGmBLhlVGuuuIp\n",
       "1ocd5p7ZeFKRcpBFaEZhRs568Ss7iC97v3tkpuKL4RJYveAp6R0PFoFhxstvaqcBe9DKdYth5jmo\n",
       "2niDtQgxvUXdyBgcRj/UJa7TyW2fZ0Ije78Y/5ssFemI/wKOyLIc5KQbs0xBLQh6zslyDyRJERQr\n",
       "fxVooP3UbxgZYTP6fWTrUGXKbV6LDSVU+SstCurMs+xBgR5P/zF6wxvJiyJG7+w7Dilu8dqxkUzF\n",
       "XhhGq8wzS0gGIbYam/uSJkGK6vlLqsJleKN1wEv6LBxmaTZ5HfwyhnvTRqvNa0Na8CTC5rUuI7NT\n",
       "SYDGaGJGHa7ybAbfcI1kmZRdoKl55oyNVxPScMhmZBSM23k0fpYKO4+60PP3McyR/Bl9g0e4StaQ\n",
       "3GM9Zjwx7kv9x3lbXUKDl3VwTqKZ1zJvMl6BeiDb98SYtStw1QnEs/FS2P8Grjz+A+mO56SSZWW9\n",
       "P4nCa+DjD/XX1+GDzf64AAAAAElFTkSuQmCC\n",
       "\" style=\"display:inline;vertical-align:middle;\" /></a></dd>"
      ],
      "text/plain": [
       "<IPython.core.display.HTML object>"
      ]
     },
     "metadata": {},
     "output_type": "display_data"
    },
    {
     "data": {
      "text/html": [
       "<dt><a class=\"ProveItLink\" href=\"number/rounding/_axioms_.ipynb#floor_is_an_int\">proveit.numbers.rounding.floor_is_an_int</a></dt><dd><a class=\"ProveItLink\" href=\"number/rounding/__pv_it/axioms/f40e9ce7ea11e33941cf278fe058a12d91e060d50/expr.ipynb\"><img src=\"data:image/png;base64,iVBORw0KGgoAAAANSUhEUgAAAIoAAAAVBAMAAABrmWvBAAAAMFBMVEX///8QEBCIiIhmZma6urrM\n",
       "zMxUVFQiIiJERETc3Nzu7u6qqqp2dnaYmJgyMjIAAAAcRTyBAAAAAXRSTlMAQObYZgAAAilJREFU\n",
       "OMudlD1oFEEUx/9sbnO3k9nzikBS6WJAJNVhsBNJtAiKxVXaCAY14hVKBOEKJQQt3IskHBbRzoWA\n",
       "yCFHwEIUi+NiIRvQLQKKEDlFEQXDKQiKjfOxM7ucu5foNPPm6zfz3vvPA7ZoJIhsB//VrADWVDRs\n",
       "J24aqIUrGymU++hFyVz6tjn0LkAZWOPjLymUzz0pxvUS2jmgAdzhD59LhtjFnpS+JujKM4A6yHus\n",
       "W0mmZGuJFPtGZVZQPCyZ7CJSgO3X67dTHOLzf1PMa56emc9x+wPw03WvplBGQgrZXT7U0pRGBLEd\n",
       "kZdVYBqoplAWQsoDvHJmNaUcyyEREX0LHAaJR+3R3jPvlX0lpPh46R3RlFgqpvtr4gwLIQwlT/J0\n",
       "LDAofKXRwZDiwY3iYu7cZE0KpnhM9KdYgoKsQr9+XAejvAm6KMD3iBKTRZ6/yxcUq32cTbT27yll\n",
       "ilxKjNLs8gjmj1iOCpqyRsfFcJLZ1bPsrHcxO56HpIwVu6L7xOhgVFP26V82tcREUxDRxcMZdhm+\n",
       "AsuC0nfustq2KimZ37mOFWhKVmk0582DXGBOHWCDHSKYv4ATrus6Br21riiTkkJOj45sRB6R80fl\n",
       "8sTisLtrmD38I5cOV5HZMdEvPRo46fX+AZnn8gfoEjQTGndpm4KWZFz85vZ+o2pUKePeeotl7CZX\n",
       "0Ivm8kG1Xt0WpdFVMFhc/qFKxe7aqmKSoYrkWJ8qyWXIruEPWymZFEx3sUoAAAAASUVORK5CYII=\n",
       "\" style=\"display:inline;vertical-align:middle;\" /></a></dd>"
      ],
      "text/plain": [
       "<IPython.core.display.HTML object>"
      ]
     },
     "metadata": {},
     "output_type": "display_data"
    },
    {
     "data": {
      "text/html": [
       "<dt><a class=\"ProveItLink\" href=\"number/rounding/_axioms_.ipynb#floor_of_x_greater_eq\">proveit.numbers.rounding.floor_of_x_greater_eq</a></dt><dd><a class=\"ProveItLink\" href=\"number/rounding/__pv_it/axioms/78e7d2fed1d35733fc32059f0284fb4e316b793d0/expr.ipynb\"><img src=\"data:image/png;base64,iVBORw0KGgoAAAANSUhEUgAAAN4AAAAXBAMAAACWruz4AAAAMFBMVEX///8QEBCIiIhmZma6urrM\n",
       "zMxUVFQiIiJERETc3Nzu7u6qqqp2dnaYmJgyMjIAAAAcRTyBAAAAAXRSTlMAQObYZgAAAydJREFU\n",
       "SMe1ll1IFFEUx//uzro7s7MqQS/1MiXYElFLEkWobAb5EOn2Uj0UblaCICKhaVEgEjFmH0uFhVBN\n",
       "GlZmthChQsigRLCFDCSUUbJEvSTCPpYQdO+d2Z0ZnRVp9cJyv845v7nnnHvuAqvXXphDF9a63Qd6\n",
       "zFmBo4w/BiTp4FvOOKFjBTw0AO9p/ytnXkHMgfdk7yKpYeAe6fiOnHkf4XS+8Qa7lCihQCFdPGfe\n",
       "eUceqs/YvV6EQGJw8G7OOL7ZmYdjl21yP4DfsnwxZ54rZPD6Su5sk6z50jPHur6d4DcAkwA5cdfK\n",
       "jIazb/k0nSeogbPepC0/b1NXQ90HVwqYBfZDSFo0R4Knvtttnby2p5QN7Fk1ap144zpPVMQFLmbj\n",
       "faJH5+MV8BH9ESIKl5YO55tSzSUiIWWEn0+Wk1RIbF3KG5ess7ywcT5m1crbkmCWsQ6FRKOWfJLm\n",
       "Te99HhsE4X1J8xHo7lUQ98xoS3izGpx4YFZNnvDO+CxuAbURxuOTR8h8YldJhKMnpzyV9JVRXCC+\n",
       "ps0twuRxJfAq2M5wVMnuTzCrGR6/O/1Z7iQ2ka6K/LpOE4rS5A0zIcIrpVx1wVOkFzvMvLbwxELl\n",
       "MKrYhWVK9nzxKzvIcprHN2Uuti+KK2D5glfk7ngwD/QzI+76Fir6uNnVIYSYTyTVwuutQhBD7FYx\n",
       "JaNwGPehJn6TVm6D99TMaHeU+0u6sozH/wBHZVmWXOKtaSag5kuedlnuhCgqvGLGrwx1wFA3DCUj\n",
       "PMZ9H9jcV6451WuhrpgK/6RJQY15Uh7k6/70H6cL3nBeBFG6cvAExJjJa8F6KjZnKC1fzyyNRBBC\n",
       "szF5KCZFiBE9fgmVvwpvpAZ4S/dCIRbmNK+VS7HUndeVlq3XZmvCyzCr13obmJ4g94Q6aWRK7a/w\n",
       "bARXd4NEmcQ7UN84dc7COxDUs8iv6EpGPji9R8NttLXS4SV06u+RrQqS+BkvMZ7hOumDcqe5zXhC\n",
       "zKf9x3tbWUydl7VwjqGRSy5eZLx8tTrb/4lHbbof8KCt3VEmEMvG03DoAxx53FdyO0ZJJsvKWv8l\n",
       "Cq2CjX85A9Zc3R0oSwAAAABJRU5ErkJggg==\n",
       "\" style=\"display:inline;vertical-align:middle;\" /></a></dd>"
      ],
      "text/plain": [
       "<IPython.core.display.HTML object>"
      ]
     },
     "metadata": {},
     "output_type": "display_data"
    },
    {
     "data": {
      "text/html": [
       "<dt><a class=\"ProveItLink\" href=\"number/rounding/_axioms_.ipynb#floor_of_x_less_eq_x\">proveit.numbers.rounding.floor_of_x_less_eq_x</a></dt><dd><a class=\"ProveItLink\" href=\"number/rounding/__pv_it/axioms/c3df6eabb994b8c35f83c08c5a26fd60000d80e40/expr.ipynb\"><img src=\"data:image/png;base64,iVBORw0KGgoAAAANSUhEUgAAAIoAAAAVBAMAAABrmWvBAAAAMFBMVEX///8QEBCIiIhmZma6urrM\n",
       "zMxUVFQiIiJERETc3Nzu7u6qqqp2dnaYmJgyMjIAAAAcRTyBAAAAAXRSTlMAQObYZgAAAgxJREFU\n",
       "OMtjYCAAuC4g2AoMZAHOCwycCQjuA6yKuCdAZe7iMGUFAxGmMGQyMJwG0a9wmPISpynqAQj2OgaG\n",
       "GSCHN2A3hNcAhylcx5GDiEeBgW8BkNqA3RT2CdhN4TS/gBIBAgy8p1atmo7DQyBxLKZw5qHZ+oSB\n",
       "4UdHRw0OU5ShpnApZTodgpvC2ucAU7BIbYoO0G+HGRhSGRg6cZjSCzVlDcN1hTq4KR3wgOU6wFvE\n",
       "DhS8x8DgzMCFHIPbNZIfwdjVUFNOMZxf4Ak3RV0LHqwLeH6xAMNuOzAIGZhgYcW1x/gCEw/DKVgE\n",
       "iEBNWcDQgRwu10/B1DNwgGM3HmjgBXaY2Td2rmIAmnLrApopDAyfUOJonyVMB78C1BTOB2FAxiFT\n",
       "tQAWYPIAm3IAzUcMrF9R04tfKpQRDw4jdyDuTAHqXZDH7sDHADHF2AAtdHcxfWDQQkm7ES3gHLRA\n",
       "H6gTHLoMmwuAljG8ZWBYDDaFOa0EpvYwxBSW3xwfOC+g5oBpIEf4b+hnmAukbeB++8nAEN7R0aHA\n",
       "xDPpCkypO8QUriQt5bvYcuMypUW2INOfgnLLApDPP7AysEF8xB2zgEAOQC+CCqCM+TwPeBh4AiDh\n",
       "cuoAodyICnhgKWPZlUPARNANSnXnDiy2g8l3YjGF63k5CKCWDMiACRguZJRSnYRLTC7xcog5nM/L\n",
       "sRdDvBMYAEqLkjiuXC+sAAAAAElFTkSuQmCC\n",
       "\" style=\"display:inline;vertical-align:middle;\" /></a></dd>"
      ],
      "text/plain": [
       "<IPython.core.display.HTML object>"
      ]
     },
     "metadata": {},
     "output_type": "display_data"
    },
    {
     "data": {
      "text/html": [
       "<dt><a class=\"ProveItLink\" href=\"number/rounding/_axioms_.ipynb#round_is_an_int\">proveit.numbers.rounding.round_is_an_int</a></dt><dd><a class=\"ProveItLink\" href=\"number/rounding/__pv_it/axioms/72998b5bd330cc847aed5bbc057561cf3c1914110/expr.ipynb\"><img src=\"data:image/png;base64,iVBORw0KGgoAAAANSUhEUgAAAL8AAAAUBAMAAAAuH/EYAAAAMFBMVEX///8QEBCIiIhmZma6urrM\n",
       "zMxUVFQiIiJERETc3Nzu7u6qqqp2dnaYmJgyMjIAAAAcRTyBAAAAAXRSTlMAQObYZgAAAxxJREFU\n",
       "OMulVV1IFFEU/nZ31p2ZnV0leugha9nNEAnaEnsIkVWJCII2ggrqQewHDFp6CCUSWTNqNYqlB7UH\n",
       "cUTYQoJd6CGMoMGiYItaysiEaKyngsLEIpWgc+/OzOrmLEIX7tw535053z3fOXMGKDWkXMltDBnr\n",
       "uM0+w3V288HmgTv2vt3dYchxwyhLFu3u3bxppquS48+Z/dXGy5cSpy/PwG/6lfWizeo6+BHn+CBT\n",
       "Ir66D1+4BMEBFW8sY6Jos55OrkQ47lcBJbO6D0+yBMEz4IJljBjrVEcHD2Y3pJZDedyXHRsbsPEx\n",
       "UCrBnyGdswx/hC9HayxEVPsM/Hci0WnjI0Sz6UxTkEINReRQACOq8PRWcCeJWl+1BCcpKAfbmkgH\n",
       "hYspL8vlax+rQIafAnptCK7T1G5kujEQkRdcQgW2QxEvIZ1EY1JchEgu7uJdoIt00IuKSY7zCmR4\n",
       "88oauF994pN5f5GqMdOOPaAQO4dcOhI45tExHJUrQZaHUpfFK3Uf4OVqiQU3ZdE2tjDcA6f5OckP\n",
       "a3NOBdmAYa8nSJ4HXIvAL9URwDqo6Qg+MsCjwUECq0TKvopZdj34nUb+tM2CZuJKzmPSTo2PgQim\n",
       "cwUCeOkRRxzSHNWl+yfwCIgxgIgcPLNzBYLBQgQ6RaOoHJf0w6yQ67ZGBZYpRqAVJGJSIK1BWaC6\n",
       "dFYADcAfmQAiYhKBkQICl8hh+VcyT7jJ8d6T5FaNeSJ+5Alqw8uS7CC28hxbrkCMT2MjvItKOoOY\n",
       "N8mS/MA5ixozyS5TW/RLLcAOA79HLG58A0Y5gev0efOxxzSHo/RiC3qAXWgMa9I8FP2tGPC1K6wG\n",
       "hSVxlnVEl2aFzEefqCI1ZeDlnHcBOJJIJAJO5eak1bKMiRfbSO5UcLw1SjFLZzNya1X/Fha/3FoT\n",
       "Yp3SH+UvpC6rfBU2zCS6f/QYuE/lWXKjLC+R97i6llaB5a3itrHuv9qxou+ZOIYVnUKO5nOQ1dbS\n",
       "7GjYN7t/8NTkRBa4xj60l9pogwn3liYQbdu1De6kHKz1h5PvB8VMdif431/me5t9wv8C9Ljg3BmZ\n",
       "/+kAAAAASUVORK5CYII=\n",
       "\" style=\"display:inline;vertical-align:middle;\" /></a></dd>"
      ],
      "text/plain": [
       "<IPython.core.display.HTML object>"
      ]
     },
     "metadata": {},
     "output_type": "display_data"
    },
    {
     "data": {
      "text/html": [
       "<dt><a class=\"ProveItLink\" href=\"number/rounding/_axioms_.ipynb#round_is_closest_int\">proveit.numbers.rounding.round_is_closest_int</a></dt><dd><a class=\"ProveItLink\" href=\"number/rounding/__pv_it/axioms/88ba17fb83a35a89674c5bf8831c154ba2bb403e0/expr.ipynb\"><img src=\"data:image/png;base64,iVBORw0KGgoAAAANSUhEUgAAAUIAAAAWBAMAAABH64j6AAAAMFBMVEX///8QEBCIiIhmZma6urrM\n",
       "zMxUVFQiIiJERETc3Nzu7u6qqqp2dnaYmJgyMjIAAAAcRTyBAAAAAXRSTlMAQObYZgAABFpJREFU\n",
       "SMfNl2toHFUUx/87O5N57Oy6iN9UGDYmLaHQxdCq0MZt/VBENPNJxQeN0RYKNQSR+iqyVpGJ1bqK\n",
       "ND4onT6IGqVZKFIi0g5JtbCWOmClpqAOPhAVJYRWzBbBc+/M7O6syexU/eCFZeacmXvub+553LPA\n",
       "5Y578K+GZCe390+WUl2c7PDKvuA6vfRjvdSmiLF3EpkK4LHbr5ISvhNrUXqmCK0cCF2V/4AQ24BP\n",
       "2e3PSQl/irWIK6rIhWCa14lwhdmZ8AjwOvNdOSFgthhPOGjj84YwE0+onTIS7KFuIEeRq1cTEsqV\n",
       "eMJTwBMN4UAsoXqDm8TLWh7Z2uTkeFInj8dbxHdQRxtCrhRDqI5UE8Uhvgf+sKydSQm7+TSx93CB\n",
       "PDTTXdK6DRywxU/eKFxPi67ruQSB4kArbNtILtaL0cm+2ieU9pSaGMzKK9EidLD3tVUGJ5wFtgBj\n",
       "SQlf4hZ15Rclj/GStpgW81hN8i5MVbChotShkO/exznjaQratlTx1T6hZbZslM6tRD7GyT4ie5zw\n",
       "a+CWaNYdW/ngt1HLD7x4Y39w+xS3eK88JJqgjd+5L+3BItnDflO7FiTJ5LwaPrNvBTKjUTu+2idc\n",
       "0ddC+Ba3EgkFW6+LFU54jKIfghuif9TvCjpqRuPV92bXU+zXQntXcYv2FK2SrgO/2ykDV3L5G6aQ\n",
       "HaToke2vJ80zk7/xwbbMVwdxeK7WJGRWFujuCH/1BzYLSjmIw800xZXDl7+cngQRnncb1WX3mzaq\n",
       "0pwbIcQJuqTKUBeovEgXuTzCFESa4gALDcLIWGjJ5eM3NdPBtxKtrEaTUPXuZMVrTa8pstBmhA5d\n",
       "Nw7hSYoANtI6Il7GAF2mHOiLVF6EPJf/1EhBpMzL8NcTR9uPnIut9fCOLQ3CAW4lMjabAeEm+o09\n",
       "RFz2iFzKwSfsZ6ROXcr7RyLmPohmCq5hH+ki5eB5csd5kjN1faqKkUyFZcqHwjz6/p4pvrp5ptz9\n",
       "XEhIVoYir2bs1YQUZgqO0rdK+BU4xAnTWx9l9erwqFDWeL3QDCecOcstqmwv0kN4FliLDUVHvQDd\n",
       "+0Ixsjt0VmLES8o8dRhIO5FVA3XLqbc3PPXWYtCNnk3Vl1kHwgjXhS7HInCXZVmGoL96lrvW6TKk\n",
       "xy1rF3TdVoNqtcmvh9x9p1fRWhOF6WGTZPXhqjbcs/c69kwb7utmrUjOjFYQX71U5zBRuDnaZkwU\n",
       "Dq53fUKWOFmbh7WELt/LmfuYQi6lTPC9v+1+6JVkpx5aT723L6O3GVj21AuDeb/ukYdMPw5rjvoC\n",
       "ZHMQ+Jg9Kxb53iXpHGgk7hyaGF2ediGmcwi29ewMFajdrEKecQ4NSFdDHN4DKJSZ2a3bz+wI54x1\n",
       "JFSSdF/aj4+xEcSh7CpGTPfVOgSKwyCZ8C5P3JUUh8k7WA5WbkftuIdiYc2yncOyB/I0tove0v8C\n",
       "ehL+C5hb+rFgtili7PUgW1numYvbT+P/Mf4CzIpWGA6LuG4AAAAASUVORK5CYII=\n",
       "\" style=\"display:inline;vertical-align:middle;\" /></a></dd>"
      ],
      "text/plain": [
       "<IPython.core.display.HTML object>"
      ]
     },
     "metadata": {},
     "output_type": "display_data"
    },
    {
     "data": {
      "text/html": [
       "<dt><a class=\"ProveItLink\" href=\"number/rounding/_axioms_.ipynb#round_up\">proveit.numbers.rounding.round_up</a></dt><dd><a class=\"ProveItLink\" href=\"number/rounding/__pv_it/axioms/47f5f99797e6dd43e1938955283b9249a38d3ee30/expr.ipynb\"><img src=\"data:image/png;base64,iVBORw0KGgoAAAANSUhEUgAAAWkAAAAXBAMAAAA7CqN4AAAAMFBMVEX///8QEBCIiIhmZma6urrM\n",
       "zMxUVFQiIiJERETc3Nzu7u6qqqp2dnaYmJgyMjIAAAAcRTyBAAAAAXRSTlMAQObYZgAABGhJREFU\n",
       "WMPVl3+IG0UUx7/ZbJLNZpMe4p8KIbGHnCcNVgVBy1VBT1C6+IcKFhtOT+gfPYIUQS0SK5ScUgwi\n",
       "bf2jdtuTU47iBRTlRHGpUCHKGbCiFsVgofirx1FUvCuC781kdye97Obujwu4EPK+814yn51582YG\n",
       "+B887yxdlMabS38MuOt0K9p/vPO9sNZ1JDDflQFttn8cxICFuxIvlmBWOyJZj6LOyYAv2P5tANS/\n",
       "Rvi2NJDzYM12H2oOOMaTV9186GwpwrnLwde+ONOHmgNyDmA1Np86VY9wfg4864uT/agpINucmzs6\n",
       "gASJ7OMC0pUAbKwPNQf8U6sdiFz7YQ5bscMGMuFbRUAffquQpwkujpnFPE46+tk3CrdQB3duvQKN\n",
       "Esgs7L2bZt8q9aI+Nfz6aF5Sc8AkMN2zx84ru2qbphjvB80W8MshYR2rdfWZ8cftMEUZvxtDODpm\n",
       "rsT1IWwjfRDzdeysG6swqC6exrf5F2j2xXJcXOLngkdtutmnU21JzQH3dK/aD2984mdpVXsUIkMx\n",
       "4oFnrxcNxRDPHZ7xPPBYqqzboIk9cDzeRo10Gyds83qQStHSauIr535600qPsbYca1WvS2oOSEHz\n",
       "6r/58faWZqGZV7rfjTBqs+zngRtKPesZ1wLOPI18fBX424nlcY3QP3FDykWMXA69Cf/bcg9qE0bV\n",
       "y2sOsFopz/vdwhyI+nxL6X4ylDqowEk7lNovw0SNT+kTqyJ9mUpd4i+hp7iB6GMilS6HUlNNz6vU\n",
       "6fbDXANvG7Z1TkmmdpXuK9KnwArJxs1+VZPRVvGhSYVaSH8eKUOwgz7zLqwVKnXakND/mtRA9Jwh\n",
       "4DehRVsJ8vpiQL3H9qhFwPSTxOpMpcZykNTbSwE1VSThC6ilZOoPkKzRc1hUNYoeSbb3K9RCZsrB\n",
       "asR1PGQtxFwcogk/Tzqzas03MJWp82r8SFvGiLcarxrrjLONeg5WI96rcIW6BMwI6vhT+5Wp1qvS\n",
       "F1BLydTjXuu4jLZzLTVDhNQ9+RmNAA9lvIyXgNuxs+Sm/4TV/sbIZ5+xuJrpV4xlPmLF3R7Uuxqv\n",
       "ivMVU4sAmTArwCM0cHnNeu2cSl2WvnEeVUfm9UqH+nHvX+/tRG+pC0Pn2JelTHgDd5839V+O0sTN\n",
       "FhYmbNLpfQ1zYuuRG9hnTowU+RiXs3tQzxZO3dXydhkOyDoiwxNIygzJ7HYC6kRV+pS8FtIQsEnO\n",
       "vUt4tBO9B+qyFFIvr2dHh7qjv91vR/cDTlhtmiVb5nVTWY1mRfoCaimZ+ge1HyoNy4tQSqCUWXc9\n",
       "pyd6NnZ66pTVc2eawCu8yyy6MzuUGvJcx+dTS8nUt/o1xOFoc98Do05ALWXc3xyno6mNDZ1Uu/Zr\n",
       "yutAye5vCq/X/q+1Rni9Xs+tQMBWr8YPozYic63azbmGOtNSQ0OoP9nwDez7ta7TgZnsGbCGWm+F\n",
       "Uc8EzQ+GUZulQd+MSz1un8maqAnp2kHwhuAf7erwLxZdNwzN2RS0/wC1P1N75IyV8AAAAABJRU5E\n",
       "rkJggg==\n",
       "\" style=\"display:inline;vertical-align:middle;\" /></a></dd>"
      ],
      "text/plain": [
       "<IPython.core.display.HTML object>"
      ]
     },
     "metadata": {},
     "output_type": "display_data"
    },
    {
     "data": {
      "text/html": [
       "<dt><a class=\"ProveItLink\" href=\"number/absolute_value/_axioms_.ipynb#abs_val_def_sqrt\">proveit.numbers.absolute_value.abs_val_def_sqrt</a></dt><dd><a class=\"ProveItLink\" href=\"number/absolute_value/__pv_it/axioms/b697e5bea41c94a49b66b8c85028fdcabc0a1b540/expr.ipynb\"><img src=\"data:image/png;base64,iVBORw0KGgoAAAANSUhEUgAAALgAAAAmBAMAAACFcUzHAAAAMFBMVEX///8QEBCIiIhmZma6urrM\n",
       "zMxUVFQiIiJERETc3Nzu7u6qqqp2dnaYmJgyMjIAAAAcRTyBAAAAAXRSTlMAQObYZgAAAztJREFU\n",
       "SMelV01oE0EUftn8bHe7iTmoIF6C0uJBrVDEkyUi4kVsTgpFMKD2KCKCVj1UvaRKNYpSL9LYQlty\n",
       "sIUepCi4xp4ilBV6qKK4KAgqStEKpkmp87tp2t3OMA5smJn95pv3vnnvzQZA0D6AUjOzEiDNVSOH\n",
       "oxKYAwVFck1surkJVNsPISImIx2El9c2uCv0+WRehvyhml1fpBQ47TcZXRSsMioy3MbKiHp1g8vx\n",
       "SSQmXtbFR11BqHS9b+VjfKs3AvJQCv1M89F0AOoJtt6hfT0frcAU6Q6mwV0vDQczMuSv0TPG+nra\n",
       "WIAYCYOQTd7At4BlH0GC3MT2ffWGzYt0BpA+OIyM3gDyfTLkFlIkvscb6kjKEsnReUigw7UmAsgv\n",
       "yZDrROp6uKDnMXGhAvFysTgQdKC/Zch3oafOQHxI4PiJVgH+5nJXg8h/Mc6h1vs7U0Hk59CzHTjo\n",
       "CBxCUuAdzCWAMwB9QWVriZKbdvy87lLymZ+4faYAnC8aDtd+YKDo92c3kfkuM+0gO1zWnu445aWW\n",
       "wcitgrUYya+1fMBmksMVYKDQ8vI8kht7AzX8UnO4pc/bHc2CcoqXhyqzHJp6fTSPzCXR73vc3Qgc\n",
       "RBfOsxOzHJ3PzU0VAZG/c1aRA2xI+R1oBHt2mZEzUCO54R5DndLe1kwEHwMmt1fJgkqvl6pUc1Yt\n",
       "LyIFbCYLA9FdsSwmkgX6UMXUCmf1dAIoeTvPCJNFS3OhDSF8oqUtTfKEHCgD0Xh0uWmTaJsovpWG\n",
       "CXm4+4K3uEbJOyfuwCO/OB/PwiTPHAaiddLmolKpUOU+nsvlUpp1b9ZbvJmSj2wb2u/4kYcrrKgc\n",
       "Bg4iLYEFiixgHwrkCKIQo7I0n/Buv9uCDDVqkSyrtA3zo0QbfhUNWq4FVoZqXuYHCi9F6X+tKV9P\n",
       "+nojhctKstHIbKkMcAsn0Yw93MFBLwoC8s5u1ulbU4Qh0XhDa0jzxgNzBOT6H9YZWzlL3Rl31r/m\n",
       "mvDmLXzU4vNdxZPSWMn0lrot+CyJJ0G9dYi+5qr/Qb5VBNitzq0JvQ5llMlDjggRd5XJJZy+rspt\n",
       "bBFjRlV1GZ2QMKBHkbxfBvRA8Q8X/rj4BzLvA+8W7c1EAAAAAElFTkSuQmCC\n",
       "\" style=\"display:inline;vertical-align:middle;\" /></a></dd>"
      ],
      "text/plain": [
       "<IPython.core.display.HTML object>"
      ]
     },
     "metadata": {},
     "output_type": "display_data"
    },
    {
     "data": {
      "text/html": [
       "<dt><a class=\"ProveItLink\" href=\"number/numeral/deci/_axioms_.ipynb#N_leq_9_def\">proveit.numbers.numerals.decimals.N_leq_9_def</a></dt><dd><a class=\"ProveItLink\" href=\"number/numeral/deci/__pv_it/axioms/76706213bae37e67a87aefaeda010613f4a45d890/expr.ipynb\"><img src=\"data:image/png;base64,iVBORw0KGgoAAAANSUhEUgAAAVsAAAAcBAMAAAA9ywG+AAAAMFBMVEX///8QEBCIiIhmZma6urrM\n",
       "zMxUVFQiIiJERETc3Nzu7u6qqqp2dnaYmJgyMjIAAAAcRTyBAAAAAXRSTlMAQObYZgAABLJJREFU\n",
       "WMPVV09oHGUUf7vZmd2d3UlyUCgedNpSBBEbpAcPUbZ6qIdCp0XSHoSu2qCpB5faEKRV91DtRlEG\n",
       "xTYImvFSoYTtYhXrQd02UqjVZqsXpbWspgaaoE0hQlqx+N73b/7TDcqiP/jefrP7fvN+39v3vvkG\n",
       "4B/g+Dfwv8EJMMvpgf+CkseUScYXFqRK+RuQ7pqqpEhaWZpkXGoBTDqwBJlyt+QmRep1pUnEfagW\n",
       "jtnwJ8C3XUtvQqT7lUnCpgbZVEn7CyAbs673xEhCwYljJOAzSaBIbfrmJ//PWJDCRFBfftOFk9dK\n",
       "UwdY0Kq5hCUVbTejykf0h6u1eSjedRuMxDDi/AdPO6CTVCJQpLP09bzfpzggTRRvYEkbiwBTr9PV\n",
       "tnXXcWGL0Wpy+Igi1xrCIsJ1i2vHxwj21SjZD1r5O8CgjBKBIk3QZ2BtqYY0UTxtrwHop9st4Noh\n",
       "Q8R9Ea/vxYhCH03jjoLZsPj1rI/hx9Qe9vEEwFMAp0AQ9vGWKga0TbrSePhhbIxVza7XdBsqNDN/\n",
       "g5yVs3H2QETUC2JE+fqj7jBkcaX9fA866HoMH95+kX/eBJjBHIMgYCTz66NHDwd8zyujsOMeMRkZ\n",
       "Mua5XCi4mTVnaLI6rDZf4SOGr79TrrsoFy7zy4ctxfDh0IIo3WWA9Q70lgSBIi3XavsDzg9Js3nk\n",
       "rbXsdoaq7ZGCNQTBe8OW8NZALUEjhq87H2llkjvNW1fcK+ANOy5L9zsxuyXeR9Mi0jDAeCBaTZpm\n",
       "zTKu8yBKLnxlWiG5O6ki4NzvhFneT3zE8HWnWPqO5F5il2d5pwe9c6+oW2MlXG2B2RYEivQIbz0P\n",
       "c8JojZcg/we7AXhydXe4AidqCJnUyVIou9kGG3F8FL5b346TT9llBd6XDM87vUf9XTmrMNOAQkUQ\n",
       "KFIW0q1AtOeFMYwlMNkutZUS1+ZyjXJvf1DdsbDcVImNOD7KPQI/U6JYu1qg24LheYO5X+n9fN2M\n",
       "DdqiIFCkYisbjDYrTWERdBZkwpddeFwLyZ1MkBvHR7lac6uUi48pfjQJeON01tuGn3M9uRQp38ad\n",
       "23xw21rp8Ko0PW3oa9FCU365ZiP0BNrpeLU75yuGOD5V8QWqjU3svIzjimQobzrNzNm+0sxUBIFF\n",
       "Gt+FGja2UnJFz0iTasKXbpN0W5KMfQlnqrfYGWSrxfDpvy9OyFa7IiQHvdmGXGN/2XlXw+5TrcYi\n",
       "HUfx794NfTLqamkw9+dMtkz14FrgSY/u0+GnOI0Yfm9DbJKDpKkqzi0hb7YTD7ODn1vHhfQ0BYFF\n",
       "6qO1PwkbA9kig/k/dIF9deQAX8v2a3R4CcmNPNXoz6MR5WsvrxLP/18p1ZTBtAVhb9/CpzfQGm1B\n",
       "YJFMutXtMKj5OoUbD5sPjrWTDni/dPAQDvMNKscMm9oxD+EgPpQEFQkPO3s/EXOW+55mp4dm48YK\n",
       "jjgqbVaUkQh5xPEi4YvFvXL3ZRtVeLdKhhl9J8k5fCSjHsNQv40RRr18yAOkGf/286wynSBrd348\n",
       "Vxjv7HjuLWU8PpJaer1TuRdh5S8/5kpefn6UhIsJb1ID0nSAfLVbb5aJkT5W5tbocbslt3uR/jX8\n",
       "DfdKfctsT2wNAAAAAElFTkSuQmCC\n",
       "\" style=\"display:inline;vertical-align:middle;\" /></a></dd>"
      ],
      "text/plain": [
       "<IPython.core.display.HTML object>"
      ]
     },
     "metadata": {},
     "output_type": "display_data"
    }
   ],
   "source": [
    "import proveit\n",
    "%theory # toggles between interactive and static modes"
   ]
  },
  {
   "cell_type": "code",
   "execution_count": null,
   "metadata": {},
   "outputs": [],
   "source": []
  }
 ],
 "metadata": {
  "kernelspec": {
   "display_name": "Python 3",
   "language": "python",
   "name": "python3"
  },
  "language_info": {
   "codemirror_mode": {
    "name": "ipython",
    "version": 3
   },
   "file_extension": ".py",
   "mimetype": "text/x-python",
   "name": "python",
   "nbconvert_exporter": "python",
   "pygments_lexer": "ipython3",
   "version": "3.7.3"
  }
 },
 "nbformat": 4,
 "nbformat_minor": 1
}
