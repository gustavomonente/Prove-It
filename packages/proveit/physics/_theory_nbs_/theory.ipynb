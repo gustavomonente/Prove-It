{
 "cells": [
  {
   "cell_type": "markdown",
   "metadata": {},
   "source": [
    "Theory of <a class=\"ProveItLink\" href=\"../../_theory_nbs_/theory.ipynb\">proveit</a>.physics\n",
    "========\n",
    "\n",
    "Provide description here."
   ]
  },
  {
   "cell_type": "code",
   "execution_count": 1,
   "metadata": {},
   "outputs": [
    {
     "data": {
      "text/html": [
       "<h3>Local content of this theory</h3>"
      ],
      "text/plain": [
       "<IPython.core.display.HTML object>"
      ]
     },
     "metadata": {},
     "output_type": "display_data"
    },
    {
     "data": {
      "text/html": [
       "<table><tr>\n",
       "<th><a class=\"ProveItLink\" href=\"common.ipynb\">common expressions</a></th>\n",
       "<th><a class=\"ProveItLink\" href=\"axioms.ipynb\">axioms</a></th>\n",
       "<th><a class=\"ProveItLink\" href=\"theorems.ipynb\">theorems</a></th>\n",
       "<th><a class=\"ProveItLink\" href=\"demonstrations.ipynb\">demonstrations</a></th>\n",
       "</tr></table>\n",
       "<h3>Sub-theories</h3>\n",
       "<table>\n",
       "<tr><th><a class=\"ProveItLink\" href=\"../quantum/_theory_nbs_/theory.ipynb\">quantum</a></th><td>quantum topics include work on quantum phase estimation (QPE)</td></tr>\n",
       "</table>\n"
      ],
      "text/plain": [
       "<IPython.core.display.HTML object>"
      ]
     },
     "metadata": {},
     "output_type": "display_data"
    },
    {
     "data": {
      "text/html": [
       "<h3>All axioms contained within this theory</h3>"
      ],
      "text/plain": [
       "<IPython.core.display.HTML object>"
      ]
     },
     "metadata": {},
     "output_type": "display_data"
    },
    {
     "data": {
      "text/html": [
       "This theory contains no axioms directly."
      ],
      "text/plain": [
       "<IPython.core.display.HTML object>"
      ]
     },
     "metadata": {},
     "output_type": "display_data"
    },
    {
     "data": {
      "text/html": [
       "<h4>proveit.physics.quantum</h4>"
      ],
      "text/plain": [
       "<IPython.core.display.HTML object>"
      ]
     },
     "metadata": {},
     "output_type": "display_data"
    },
    {
     "data": {
      "text/html": [
       "<dt><a class=\"ProveItLink\" href=\"../quantum/_theory_nbs_/axioms.ipynb#ket_zero_in_qubit_space\">proveit.physics.quantum.ket_zero_in_qubit_space</a></dt><dd><a class=\"ProveItLink\" href=\"../quantum/__pv_it/axioms/c931595c6aa61a8366490585af9ac449fa6e58c50/expr.ipynb\"><img src=\"data:image/png;base64,iVBORw0KGgoAAAANSUhEUgAAAEYAAAAaBAMAAAD4TDc7AAAAMFBMVEX///9mZmZUVFREREQQEBDc\n",
       "3NwiIiKqqqoyMjKYmJiIiIi6urp2dnbu7u7MzMwAAAADxdujAAAAAXRSTlMAQObYZgAAAWdJREFU\n",
       "KM+F0z1Lw0AYB/C/SWsISc4biy4BcS0V0UEUOroZ8AOoCNqxm4tDtro4+AU0o1WQuopKxbEgEUQ7\n",
       "CFZnFQelWC31ci/YVpo8Qy65++XuuecSICEuJ8MkYnuan2SGPfKZaCrpb7yKe2OgMtqoibuhysCZ\n",
       "gsjY5WsQ99/gQeFjjbKNITIl3HlY6SdvTdx8UZg0MmYeto9yHzG1ANinOMMFM7ob5VVXYzPrhajd\n",
       "S7HaaZSUNueZGXFhNaF7nJBZWVa6xC5OkOp03pl5pLBaMKp8qC6J4z79rVvDchWkBZn0hOxOV097\n",
       "DAX5Acb4Y04Z2mPEWnjm6Sxss4jWyr10G5az0QS2+OtqHuxo3UbPwWwD0/wxr/p3uQmlETWUM4wq\n",
       "ox+xGlq+NNjAbQN2UZxgUaHMXHg/pebBw2GWDcq6jJ9LQzKLqw2Vj4gT2VpX4iy6Q5lszMcojeMn\n",
       "GzOIMcdyq4l/UXz8As67XmCaNjNWAAAAAElFTkSuQmCC\n",
       "\" style=\"display:inline;vertical-align:middle;\" /></a></dd>"
      ],
      "text/plain": [
       "<IPython.core.display.HTML object>"
      ]
     },
     "metadata": {},
     "output_type": "display_data"
    },
    {
     "data": {
      "text/html": [
       "<dt><a class=\"ProveItLink\" href=\"../quantum/_theory_nbs_/axioms.ipynb#ket_one_in_qubit_space\">proveit.physics.quantum.ket_one_in_qubit_space</a></dt><dd><a class=\"ProveItLink\" href=\"../quantum/__pv_it/axioms/5c7b9ac73d3cc9dd7323a3d61e08bd09ef9d2d930/expr.ipynb\"><img src=\"data:image/png;base64,iVBORw0KGgoAAAANSUhEUgAAAEYAAAAaBAMAAAD4TDc7AAAAMFBMVEX////c3NxEREQiIiIyMjJm\n",
       "ZmaYmJhUVFQQEBCqqqqIiIi6urp2dnbu7u7MzMwAAABqK0sxAAAAAXRSTlMAQObYZgAAATJJREFU\n",
       "KM9jYCAAjqpeIKSER4DdgZAaZgG+jwTVbGD8zfAWwubEqYrzL8NpCIt1A06TFsDU8BVgSC4x+WEU\n",
       "APQYA1jNDKD3DNCVvPvJcPVbAANbAEgNb009UM0yNCVs7AsYGPIDGPYw7AObkw9UcwUmp2xsAqLz\n",
       "OICC7AF8njN14WqYBCDu0oIGa4AQkOBdwPH//we4Gs4DYKkrUCW8BU8R9sLUQB1dCBVmPLALi5po\n",
       "MFcBpiYAm5rnYOe0uAAByC6FN1jUzAFrh5nD4MuORY0imNsAE08Fq7mAogZqQhRMDdNqYBhyO8DV\n",
       "rAeq4ZkAicEJMEUhOhduKsHNCe93TWBghoZL0V6oGr6QftMHCPeAwFYozX0IEhfIAKamDk9ihKrh\n",
       "dSCshm0BHjXroF4lmIvwAwAPuFooM6wTMgAAAABJRU5ErkJggg==\n",
       "\" style=\"display:inline;vertical-align:middle;\" /></a></dd>"
      ],
      "text/plain": [
       "<IPython.core.display.HTML object>"
      ]
     },
     "metadata": {},
     "output_type": "display_data"
    },
    {
     "data": {
      "text/html": [
       "<dt><a class=\"ProveItLink\" href=\"../quantum/_theory_nbs_/axioms.ipynb#single_qubit_register_zero\">proveit.physics.quantum.single_qubit_register_zero</a></dt><dd><a class=\"ProveItLink\" href=\"../quantum/__pv_it/axioms/4c691a9077d9a1b968b00d28f2e77f0c632a386e0/expr.ipynb\"><img src=\"data:image/png;base64,iVBORw0KGgoAAAANSUhEUgAAAFEAAAAWBAMAAABK/G3RAAAAMFBMVEX///9mZmZUVFREREQQEBDc\n",
       "3NwiIiKqqqoyMjKYmJiIiIi6urp2dnbu7u7MzMwAAAADxdujAAAAAXRSTlMAQObYZgAAAVFJREFU\n",
       "KM+V0rFKw0AYB/C/hjSmSc64uLjkCUpQHAWfQAo+gFnE9R5AaHXR0cFJBINbHUSfwGyWCpJBpIPg\n",
       "4S7FLoXSgvfdpXbwTvCDIyH5cbnvnw+fUOXBWKzUVy7Xk75duDPKsHq8pmXYeQZLrLJ3KfCh5Qle\n",
       "m8hscolH+6gp6W8jbKNjk+dAF/Uzkk4Cb4q+Ta4DrTJqk1xOEIzgNC1yCDxwbJJ8jxGM4RVmGX1J\n",
       "meOQ5F4BNga1xFL1untKdaSlOwEGObUkZQw2ocjYSvZ7T1fuOSgo79nXKbIgs35d5q068kagk5gk\n",
       "ddTi1IZMKYU/BXVXSX3O40puAFclRTNL3k0te6rksav+5gFeBEJukTUe7QCPSr7dNKD+rFFGvWuh\n",
       "MqymDvc2qSqI57JB42yVi+JH0gi4q8PcIvvzmffzP2f+Qq5bfeuURlkX+rqFf9Q3XldwHfwniO0A\n",
       "AAAASUVORK5CYII=\n",
       "\" style=\"display:inline;vertical-align:middle;\" /></a></dd>"
      ],
      "text/plain": [
       "<IPython.core.display.HTML object>"
      ]
     },
     "metadata": {},
     "output_type": "display_data"
    },
    {
     "data": {
      "text/html": [
       "<dt><a class=\"ProveItLink\" href=\"../quantum/_theory_nbs_/axioms.ipynb#single_qubit_register_one\">proveit.physics.quantum.single_qubit_register_one</a></dt><dd><a class=\"ProveItLink\" href=\"../quantum/__pv_it/axioms/70ac36fe543080faf6ab45b35ebc51f9f8137ee90/expr.ipynb\"><img src=\"data:image/png;base64,iVBORw0KGgoAAAANSUhEUgAAAFEAAAAWBAMAAABK/G3RAAAAMFBMVEX////c3NxEREQiIiIyMjJm\n",
       "ZmaYmJhUVFQQEBCqqqqIiIi6urp2dnbu7u7MzMwAAABqK0sxAAAAAXRSTlMAQObYZgAAAP9JREFU\n",
       "KM9jeMsABpwMWAHfBQg9AYhPQ5isG7Cq5IEKRyNU8hXgVfkcqnIG0A4DnCo5exkYmMEqeWvqgSqX\n",
       "4VJ5/fhfBgauBIiZ+UCVV3CayQZUyeuAUMkkgE8lgyJCJecBvCrnIFSCvMSnAJY+4gICrigqmZFU\n",
       "RjPwhRrgNBMY3nCVwCDjxq0SGN5wlXPwqgR6A65SEa4S4k53FJXAoIGpZFTAa6YQxEfrgSp5JuBS\n",
       "yQVSeRKsMrzfNQEcs1hVslZ8CQOHITQtMWzFpRIMuAMQKutAHsSpkv0BXCUoCTAGf1+AQ+UVREpm\n",
       "W4A3JWcB8ToIk+kCVpVcDyC0LgMJAACIYVz8eve+2wAAAABJRU5ErkJggg==\n",
       "\" style=\"display:inline;vertical-align:middle;\" /></a></dd>"
      ],
      "text/plain": [
       "<IPython.core.display.HTML object>"
      ]
     },
     "metadata": {},
     "output_type": "display_data"
    },
    {
     "data": {
      "text/html": [
       "<dt><a class=\"ProveItLink\" href=\"../quantum/_theory_nbs_/axioms.ipynb#expand_register_with_zero_ket\">proveit.physics.quantum.expand_register_with_zero_ket</a></dt><dd><a class=\"ProveItLink\" href=\"../quantum/__pv_it/axioms/3c7990361b536b3ca19a5100c0aa94bdcc8ca91a0/expr.ipynb\"><img src=\"data:image/png;base64,iVBORw0KGgoAAAANSUhEUgAAAY4AAAAZBAMAAADUPtQAAAAAMFBMVEX///8QEBCIiIhmZma6urrM\n",
       "zMxUVFQiIiJERETc3Nzu7u6qqqp2dnaYmJgyMjIAAAAcRTyBAAAAAXRSTlMAQObYZgAABTtJREFU\n",
       "WMPNmF1oHFUUgE+Tmf2ZnySIIkHUtaEYNYGRCDW1hS2CEX1wW6EGEbME+yCIhDY0lvqz9MVNizAq\n",
       "pKFgM0nAxmibRVnaYmsXN32oSWAx9UGtElAfqhhCiSKJUM85d2ZnJrObza5Se2F3fu7Zc8937/m5\n",
       "dwEqt9DAQbilmzTw+kbEwnDLt6GbxvG8fVWrE8+U61H/D45oAabt2/p4VeKPBDqnXT2qiTfnBMcC\n",
       "XX6owNFAF71QM8cEDz9xJ97KyarE95Ti0NovCT0vU/SazDFDfb9W4NBoeRusmjmuiWn8ie77qhIP\n",
       "l+L4DU6arOc0fpQF5himdUxV4GCB4ZoxdEMYtkoP7VWJ17lOMDY7G2MOvQm0Bdaj0YsvmYNmWctU\n",
       "ig9asJmaOcImGyatgD2HGxfn2RbJdRuixKknkgR1RaxFE36NMof+1eTksYpxfnVy8qO+mjmO2W7N\n",
       "GiJmVeKDztsT+DvlKPU0JkFaFXp+Jn+Pc776K50uVUVyPo7GdPrtXM0cLcKwBkOdN0HNVSV+3nlr\n",
       "dAKM11vYM2WAdF3oyZNzGcyx18PsaYaPI5Qg/rrbiu/kOYC2tuKj9ug236/lFMgPFZ/eEYZNZR54\n",
       "phAI9G6hYJGbERB3Al03603FUGLYM5ID+brQ8yP1LDDH4x4fLMshGeyP/cV371qg59RiDr0Mr/ow\n",
       "OnCQUHHiDwnDLo5ZpwIl4dmtgaF94k69qQfoHCezkMMA+W+h5wxVxD7mCHtzApqwfxruS67lQHjM\n",
       "DwoH6sf5HQBf4Os4rDgiB6HHnL9w1d3xoG61OD23C8MeFjrdksDT0BXg8Ik79UZDFIPc3fEr1tND\n",
       "EkvMoRXcHE0mntWseivfsb8j4+WYo2Uk60A/etxijqkE3OWI9MNI/NNUeH2OA62UJl2Ph9S6HELc\n",
       "CSdcj/FOsR4Y5+qq0OPhiC4UJ4hNvBAztIBfwQmaF83YnUQ/pIYcPSa84QpdtEKJ7jIcwlGU5eiy\n",
       "yED6jt0tazjs+EgGxDEs57/ZbCCHYmgmc0RSoK+IqO6yx6L91eBLYGtmE7PZ90pwRIbQTxu+f2pF\n",
       "bGSYw4J9rtA+FGuPl+YQgasvKasaF119Z2GTWX49fOJYfa/cDc0gxTE6LsuFYh3k2uyJc/gMxxSa\n",
       "eeCsduqFIIdK4diIuU0RHa/werj5C5Pfh3C+4OVQmp2nPBsWSsEfGhfd4/dDo1Wewyc+A9GxPgrE\n",
       "ThxY28MedwhGE6J4byePywmORnRD1ixMzEIuH+QADCzY1ZoB+bV0+jB0Gxwfy0WZefv6ZBqbJSLp\n",
       "OSdhdbFhkQy0PCi09cJOCC0u3rP4eykOnzglvpiEdfu0Vdx5fbJ5r23VL1QHE4JDt2zNwsQsfEAi\n",
       "iTUc3+GnVW4yRZKh9fDmKyknJXwnNN962BsN0ch574Dtcvn18IpjwodNifpcApTH0HU8PaRHoek6\n",
       "6T1/sOakWA9pd5nzx2G5LwaXnPioM9Rk9AgMW/j14udnfbth1RcfzsaPG05ldAn6sw7HmbL7RD5T\n",
       "4/SMQPhpvMizs3H3/EF6vPtE++TCmtnEK7ibKsNxDXoTtN6CA9ryIDfDLhO/7r1xw3cQ2vpnzMNB\n",
       "qcUZnoqulIS2gs3x/lu9ARCPOFXfJ6BuLnCO4uLt2bfby8eayUTpzTiE1j0PtqLzMUeF5uGYcA3T\n",
       "Y+CvH2XPUdy+LnceZD2Dzr5zqISJGzrXVseBB9Ut9m3EqszhET8S6Nzi6tEJ4dt/dT4frbj79uyv\n",
       "yjUT/qu2MY4S/19FKx7r5Bm4WU0aOPAPDq6pEqS3KnkAAAAASUVORK5CYII=\n",
       "\" style=\"display:inline;vertical-align:middle;\" /></a></dd>"
      ],
      "text/plain": [
       "<IPython.core.display.HTML object>"
      ]
     },
     "metadata": {},
     "output_type": "display_data"
    },
    {
     "data": {
      "text/html": [
       "<dt><a class=\"ProveItLink\" href=\"../quantum/_theory_nbs_/axioms.ipynb#expand_register_with_one_ket\">proveit.physics.quantum.expand_register_with_one_ket</a></dt><dd><a class=\"ProveItLink\" href=\"../quantum/__pv_it/axioms/58fad6e26c612f4cbc836cc51bdaf98508b6436b0/expr.ipynb\"><img src=\"data:image/png;base64,iVBORw0KGgoAAAANSUhEUgAAAb0AAAAZBAMAAABX+u07AAAAMFBMVEX///8QEBCIiIhmZma6urrM\n",
       "zMxUVFQiIiJERETc3Nzu7u6qqqp2dnaYmJgyMjIAAAAcRTyBAAAAAXRSTlMAQObYZgAABVpJREFU\n",
       "WMPVmG9oW1UUwE+TvPx5eWnnRGSILFOmIi0+jDg7N8gQ7Ac/+FZhFhk2FEWFssZtUAfq6j4l7Zfn\n",
       "H1gZ1D5b8EPFJW6GDWxnIJOxLUqw89t0lepAweiHMaUq9d573r/7/iVRqOzATcI9552c37v3nnvu\n",
       "BWgt0fEjcEvKwHi1HbMY3KqSyG0Yn6D5aZa/uUcGKHfkJelWPeeh2TC+GZCyfrord8MWgEc68hJ2\n",
       "eztvaZIqNsq3Qju/bcXXhlWQiBM0MvGtvLM/U1ASc3lYA9jXkRch58fHNK/ojfBdpp0/t+JrwypI\n",
       "ulX25rtlR/+HIN2AaDqyqa1JYveS9+T7REPNSb0Rvmn6NdGKrw2rIFkGFlmPuchO4ddOgNugSwlX\n",
       "FQg1OvLSZ3XP1etpxieOjmmokdLYCF836ZLKrfjasAqSIxjZ05qD706AMXUWYk8pIK505OWk2Rsh\n",
       "L2kui+N3TUONuAkb4UtdWlg43jK/tGEVlKbzGNkFcPD9qsGY8iSEviS/ix15iatG9/vklzhl8THN\n",
       "D9ho/vyjUHjdw1uVz58+Vu1JSMbIVmGpn+MjctQY08WOvCTN+GTicj6smXxMU8NG+V70fnUyz4dW\n",
       "29LmRkReeW+vaSI9tpN/fAhg0JzP8QaLTPwz9N7fDr7IXz67kICr/asmlVW3FyPBpNSwKspi2uRj\n",
       "mu+wUb4nvKe+gw+tYua287YGqWrSzNIX4QD39DM7yMeo6aDMIkuuPSg2HHwx0wW/pQkZV4bkvRj7\n",
       "ZRigf56Ga/JRzRlslC/Gpy7h0HnYlnPxoVWJPv9RbTfAOQa7Zi39YXV56aqt9ANmg9KVZZGFbwdj\n",
       "TF5tNq+z3xnrj03SKBtYFx/vxdgvJYIo0+Vk8lHNMDbKJzWsmUFDPytpYa2WOZQp2/nQikadmjqh\n",
       "sdhLCtxlmByG2eypiVgwX2zkmCO/sDWli7Wi4oF8updFa/zm+7nxW+T5Eitm6cBCX0rLknt+olVN\n",
       "uI/MVMDYh1V4wzL6XIsqQz58+swqZWezDr7TkDASIcl7WIlyfLj+rru9FCG1e/BeyifKkmrnK+p/\n",
       "P6DXn8UXQLdloVcq73jwMSv45dOStmLyaXDQMjpIzPqy3nx6ZrgGpXKV4xOqEDL4po1K1G/8OC+k\n",
       "2EjtaXSpEMmS1XdRaJh8rAyx5Rc4TTyhLQu9In2834OPWsFNsg+jYpSN32Yrgcqk2FpscHwfqJaS\n",
       "RvYy9Cg83/F67SXjicugV6J+fJwXUmycuB96CE8/7d6H+99DRhmyCxvj6yFJn9li6BWo1jz4qJWw\n",
       "eQqE1wqFYzAks/V3w147Yb4vEJlEPsHYMSO4M09B6GGN39/X1383PBAbVokeaH7fbDY8+DgvNKYR\n",
       "2EMrGeryJ8b36NbVBkb7IzbGl9J0Wwy9AjPURHHwUavQxN4E5Izxs+fPSDWi8Edn+/gZlRU46xd7\n",
       "9OSNYSXqN36cF7qU7oBdAqldHieTSzXPD0wj5rFZ5z9mm8Pxiwz6nP/i6WdD8IWx/kJyMpeYhGmN\n",
       "fDz/2Vn+/HrGvv6MytiSBfclCAHDShT5knm/+poJqTcSv8HhCp0m9XrWOh9Rjb2+1ms7ZstCvwJw\n",
       "1YevW41uh3hZ54PeGghbYK9KPraur3OPvHt0xM4XVwPOtyi0LNYrUcqX2HEz7UowlhdabERy0Ntw\n",
       "nf9YsWI7H+mzg9nS0CNvZnGD9T2/P0AmsS12fznnOJkGytc2jsDzLe5kab/zLdMU9ea8n2Cht3U/\n",
       "0RkfzEBICTaebM1n8xJ33+ZstzQpFdt/uH+xcoe/jP7b49RG35953H8m+lo+tr8M/7MMjOf+AcAi\n",
       "uX1q2ErRAAAAAElFTkSuQmCC\n",
       "\" style=\"display:inline;vertical-align:middle;\" /></a></dd>"
      ],
      "text/plain": [
       "<IPython.core.display.HTML object>"
      ]
     },
     "metadata": {},
     "output_type": "display_data"
    },
    {
     "data": {
      "text/html": [
       "<dt><a class=\"ProveItLink\" href=\"../quantum/_theory_nbs_/axioms.ipynb#ket_plus_def\">proveit.physics.quantum.ket_plus_def</a></dt><dd><a class=\"ProveItLink\" href=\"../quantum/__pv_it/axioms/c89f665506d7caa4cfd8a3cc1b0d131a48ccf3c40/expr.ipynb\"><img src=\"data:image/png;base64,iVBORw0KGgoAAAANSUhEUgAAAIUAAAAyBAMAAACAOwXCAAAAMFBMVEX////c3NxERESYmJhmZmZU\n",
       "VFQQEBAiIiIyMjKqqqqIiIi6urp2dnbu7u7MzMwAAAASOpYoAAAAAXRSTlMAQObYZgAAAjxJREFU\n",
       "SMellj1s00AYhl/3RyGOL0QsjG0qMSJlYkBIeGinqGo2hlZkK0ylXdgQHfjxguqhYkCVEqmCsc3Q\n",
       "nQwMbWHwghohIXnpWLWqQB0aFM6+2HFsX/3p/A75FF/85Pu592zgRpUdEe34wpkIRWTL6IhYjy98\n",
       "F2GqQ2McP3JxKmGUGyTGLZttoJDG+MgLXScxHgCH0GvDC59CBltpcsYuiXEPaDlsM8EAHnNGj8T4\n",
       "C3y1UZUwJioEBvvDGW3sSBjFLoGh9YHzdtjUOIPQVM7geZx3w42QYNTptfgb4dCyXlrW2zHGKbGn\n",
       "LTusO5HHDoUx5/846H+CUSXvMdyR9FSbHRlQ4kHOKNhsDThKYexzhmGPzCPxIGew48/uaIQRxsKL\n",
       "NzUx8xEjzYOB90tmSh6eDsYZadslYEy7wwu/Y4yn4Zdi2/vclTN6kvNDeDHC6MkZDyWMyXaMkeJB\n",
       "fVjD/fjCnggTToxB8GC6IgzRVMPyZSoy6sp58D9+/9yyGhQPZueR8ODtAUEXY4xqpB8NtTx8D+as\n",
       "xbDzMwqkG2b8JsgYByTGsiQP5oQezJK2KWFEPJilKfsmhvBglk7A5ufcVAOGHszSEX7CuEYesXUs\n",
       "Aqu5GEYNz4BmJQ/jBNhy0HTzMMSZ+9pRvL3UCY6pUl81hS98/+jCFA1FhPbrOrDUvPpYL4fPCN1U\n",
       "7+dSBa+8uA1NebYz5qT39Ch3oSszpv8VvJne/fHtiXIt5f62F7YGgyv1hrz7gNxqmfkZkhfr//y+\n",
       "5L+LdHLzAAAAAElFTkSuQmCC\n",
       "\" style=\"display:inline;vertical-align:middle;\" /></a></dd>"
      ],
      "text/plain": [
       "<IPython.core.display.HTML object>"
      ]
     },
     "metadata": {},
     "output_type": "display_data"
    },
    {
     "data": {
      "text/html": [
       "<dt><a class=\"ProveItLink\" href=\"../quantum/_theory_nbs_/axioms.ipynb#hadamard_on_zero\">proveit.physics.quantum.hadamard_on_zero</a></dt><dd><a class=\"ProveItLink\" href=\"../quantum/__pv_it/axioms/30ae0fc2ff49647195939a4184e98c25b5ba8fa30/expr.ipynb\"><img src=\"data:image/png;base64,iVBORw0KGgoAAAANSUhEUgAAAHQAAAAWBAMAAADjiKVFAAAAMFBMVEX////MzMxUVFR2dna6uroQ\n",
       "EBCqqqqIiIgiIiJmZmYyMjJERETu7u6YmJjc3NwAAACgK8IjAAAAAXRSTlMAQObYZgAAAbdJREFU\n",
       "OMulVD1PAkEQHXLkBI8DYk3i8QcMJjRWUkolhZWVCY3lURkLIhX1JdrQYWKMUAithXAJMVEpNJZW\n",
       "lHZ+YECFRGd2l/PgjrVwk83M7Htvd252bgGmR4IbFXxHwvEYIXrvBtPchDOI9jzStOMRAbo4H74v\n",
       "cNZsBirFVQgYuLoikTLCOXlfOD8EeArXPSihfyuREkG30AaHuM8nB/UcKFUooq+YvlKVLSMhRF+k\n",
       "vAIsDDioGaCO2YmRnESKhCeyiy8A2piDMQOCA9BoxxOJFAn7ZGNNnCUO3lmUv5rCYE0iRcIl2c1a\n",
       "pdJOcfA5BYEhKwM80opSZ8OakSKhTGY9DnCQEVILAn2AIwx2JaciYYtMA2fbdicMSxgse6WYw9l2\n",
       "vW4QgUlH4mpFmVQsdt5f+ntqniXMrrUvQK0JOha7hcGG61uNWWmLlYld6zu4WyLanJRpzqlIoAsI\n",
       "OddKYBmu4qDsYHAokSIBk7ppvJnh9sgUYGcvibtRcCyRhkQjehs8S41Ykkizov290uT89o/YE0LL\n",
       "Txqp/vHTMULXD9RNz6bTUkaYfmAK3GiYlO59YAqOp9nwj/EDBZl98TY8GnUAAAAASUVORK5CYII=\n",
       "\" style=\"display:inline;vertical-align:middle;\" /></a></dd>"
      ],
      "text/plain": [
       "<IPython.core.display.HTML object>"
      ]
     },
     "metadata": {},
     "output_type": "display_data"
    },
    {
     "data": {
      "text/html": [
       "<dt><a class=\"ProveItLink\" href=\"../quantum/_theory_nbs_/axioms.ipynb#empty_gate\">proveit.physics.quantum.empty_gate</a></dt><dd><a class=\"ProveItLink\" href=\"../quantum/__pv_it/axioms/0e26f79aa8fad6e973d7a25a37f5e5f2c03694f20/expr.ipynb\"><img src=\"data:image/png;base64,iVBORw0KGgoAAAANSUhEUgAAAMgAAAAiBAMAAADoqYtJAAAAKlBMVEX////u7u5ERETc3NxUVFRm\n",
       "ZmaYmJgiIiK6urp2dnbMzMwyMjKIiIgAAAAxYjEhAAAAAXRSTlMAQObYZgAAAKFJREFUSMdjYICD\n",
       "u0jgAgONwAUc7FFL6GAJcgzTzBIkE3iHrSU8u5dtb6C1JZwNIDRqCYYlR+5uNaC9T27TwSccN+lg\n",
       "CecNcizh3A0GAURawn2BDj7hVYBYglpRUWgJL1q113uADj6Zu4CCOHEg0pK99MiMl+hgCccdOljC\n",
       "eYsOlrBfoL0lInuvTBje9QlP9RraV7+jTaIBakEOZIObdp0gAD6ztsZy0hDXAAAAAElFTkSuQmCC\n",
       "\" style=\"display:inline;vertical-align:middle;\" /></a></dd>"
      ],
      "text/plain": [
       "<IPython.core.display.HTML object>"
      ]
     },
     "metadata": {},
     "output_type": "display_data"
    },
    {
     "data": {
      "text/html": [
       "<dt><a class=\"ProveItLink\" href=\"../quantum/_theory_nbs_/axioms.ipynb#substitution\">proveit.physics.quantum.substitution</a></dt><dd><a class=\"ProveItLink\" href=\"../quantum/__pv_it/axioms/54186868804ebab8ae0d95c53065988eda3f308e0/expr.ipynb\"><img src=\"data:image/png;base64,iVBORw0KGgoAAAANSUhEUgAAAOcAAAAWCAMAAAAM5HuuAAAAM1BMVEX///8/Pz8QEBCIiIhmZma6\n",
       "urrMzMxUVFQiIiJERETc3Nzu7u6qqqp2dnaYmJgyMjIAAAAtmB3VAAAAAXRSTlMAQObYZgAAAyFJ\n",
       "REFUWMPVWNly6yAM5SIwm1n+/2sLGAwCnDjpXM+Uh6qW0bGEVkLI80u797xd/xq3QhzUn3znnjHT\n",
       "qPYvA6YHXlkCG2q92Mq/fIC7xKgQmdq9sr15xk7fLBB2D/vAq+p7JCOcpcUPYrDmEqNCZKrrKWj1\n",
       "jJmONUUCN3zgNQ9CJwNZXZv1xHa+wqgQmVY3Nsf+3yXbse9h5jUDaOezgyilifYbzsIXGBUiU2dN\n",
       "Wlo+VIS671g587pYbYlYXWVDCIM7XmJUiEyDSkvaZ+wE1gKYSsZ6ngEQmkMJN7sIZrONSTBgGGBJ\n",
       "WlPTQ2R6FDJ1up3ZW4WXf2en6sADIJ6JR+0kEHnUD+fv4A0YlvAUpBAQRKacofJmAW659suyJVvc\n",
       "6bAhnjUpMg3hx5Hvsusq3UJuHjD0TpjPmYwgDpr+gFukxed2cnX0smtvUz6XkMIzTcG0tnBDiwEj\n",
       "QlBoXq4QB01x2s4umO/t5Iq742DtDTtrCel5AT6zc8LgSf+teBnbqT3ZalNyKjB3RjDboI4hHNIW\n",
       "aZZ21p05A1SMvxwek8gQt0pMvKpg/uKdDjBh5LAFiiEKVVqcJ+pO/cEQ4Yksb2xy9EaX/jx3lkJJ\n",
       "KVuKDHWIAubt5qgfYMY6hPITzQkjxmF4tR7VofgB1o6OnWkeT9afSmmTzgTU0s62U+Qepf6p+NlZ\n",
       "BHeLOMkgHo+tUYU2jrMb5XDEiFIiIQ0QlXZZ0dd9EroZI+0VcJWfYXW/GEVwNPKAeUYAxPZ3XieG\n",
       "wWfd3MKIm1BY1aZCVOpaDtEOPaXv+ZgCuH+J7EQ7yZUIns+sWs2CzVV30nONwTyGWECZXG61MrEz\n",
       "xbTIhTM9RZytOz1kZ9sZ07QutxDp5vhddEnxdo6/6CkLjFgnWjCjOX4VVhvdYwA4biH17vQU3whQ\n",
       "fmln2zmCDSJFMB28VOjipd7cy9YjxwJDRsMVLO5lF7cmPC3HJ6OH3H0/D00i3T3blcvxfPe+tHzW\n",
       "dYHBY3ZuA8QM5V1pl/hni/Qk4uToP5v7JpEPfjdxv//dpEIsoOJsW95hiXRQztoP59tJ5E8u9qe0\n",
       "/QEJ3SBw7/pMfQAAAABJRU5ErkJggg==\n",
       "\" style=\"display:inline;vertical-align:middle;\" /></a></dd>"
      ],
      "text/plain": [
       "<IPython.core.display.HTML object>"
      ]
     },
     "metadata": {},
     "output_type": "display_data"
    },
    {
     "data": {
      "text/html": [
       "<dt><a class=\"ProveItLink\" href=\"../quantum/QPE/_theory_nbs_/axioms.ipynb#n_in_nat_pos\">proveit.physics.quantum.QPE.n_in_nat_pos</a></dt><dd><a class=\"ProveItLink\" href=\"../quantum/QPE/__pv_it/axioms/4d078fa9dd6a0e25d1fac16bbada635a6ca7d6780/expr.ipynb\"><img src=\"data:image/png;base64,iVBORw0KGgoAAAANSUhEUgAAAEEAAAAUBAMAAAAgmk0yAAAAMFBMVEX///8QEBCYmJgyMjIiIiKq\n",
       "qqrMzMzu7u5ERERmZmaIiIjc3NxUVFR2dna6uroAAABXsXCEAAAAAXRSTlMAQObYZgAAAO5JREFU\n",
       "KM9jYKAM8BBUwUFDFcU/mgsYLn58gMeMJrYDDOwfGA4bGxobK2BVcSRhFQODADZbNFxcDED0uXae\n",
       "BAYHLCoylkMZp3PYzREq+O7sXjULLA4UhalgXZCDUMHL0cVQvwEcgBvgKhjuMS2Aq0hlMWDYn4Dq\n",
       "+dMMPAXHQCq4QbyC+gcM+mDxRGMgMICoYD/ALADXEM/AcBjM2IFkBkMuG0LFZAaGT+wgBiOyCqaA\n",
       "BjhXloH1Oy+IwbkAJnQMiG/DVXD/Y+A1UAMzXWFipiD1BjAenwMD96EAMLOmrwBMp3wE6mc3wBYf\n",
       "b1tcMMUBZP03a848vAYAAAAASUVORK5CYII=\n",
       "\" style=\"display:inline;vertical-align:middle;\" /></a></dd>"
      ],
      "text/plain": [
       "<IPython.core.display.HTML object>"
      ]
     },
     "metadata": {},
     "output_type": "display_data"
    },
    {
     "data": {
      "text/html": [
       "<dt><a class=\"ProveItLink\" href=\"../quantum/QPE/_theory_nbs_/axioms.ipynb#unitary_u\">proveit.physics.quantum.QPE.unitary_u</a></dt><dd><a class=\"ProveItLink\" href=\"../quantum/QPE/__pv_it/axioms/36a82cf03df6fa21d294df2123b90ba412b62c680/expr.ipynb\"><img src=\"data:image/png;base64,iVBORw0KGgoAAAANSUhEUgAAAGsAAAAVBAMAAACzuQ2OAAAAMFBMVEX///+YmJjMzMzu7u5mZma6\n",
       "urp2dnaIiIgyMjKqqqpEREQQEBAiIiJUVFTc3NwAAACfk0VHAAAAAXRSTlMAQObYZgAAAgBJREFU\n",
       "OMuVVDtII0EY/uImu3muIncgFrJcqYWx8QoNWVC8RjGVYqGJIAlYqGBhu6BwdklhJ2gsrji5w7v2\n",
       "FEkrBg1yzaHoWh2Iwaj4wAfrP7s7qwkKceDP/PM/Zr7vm9kA7xkf6mfU99QfW9PH39gElsgr7v7J\n",
       "YO12qqLO15N0jRzcf4ff+AoIWQjdq4r8OYdLIKRTwWQMkCq7sAJhDeIVeTNkXh0RtgpNeX7RJhqF\n",
       "0mTucEWXmyg0wFsit4txMqd1BBR3QgFSFLojC9nVjfm8ZjpRSg6iNktugWwH2ACO9DMEhyjTAXhu\n",
       "KNxudTVP89PidcAnxAm7kADkHIEK40gZhjTKMMcgXjCFzFph1gEZvVYYbfpxMeqW6ruciqgiSBxh\n",
       "hU2FrCEZxiGwzViS+etYzHPNsy4N0YKNn7IvNGnbvw8LjzbtYIaFggXndnJYpp1kS/+WeRoaz/Vn\n",
       "fOc0/ScLxFig29mzpmTiFy10J05cZPQyJu0J3iapZW3P+geceISsNSyWbPwmyAXInLuHQJI8h/Yd\n",
       "O29lkawHPv6QmCQ1CUj6syReFUXFXm7xtl4VIh0zB3nPFhynybED5w3RXY7/dQ6JfLNvRh3u+8fK\n",
       "f37hoJA2jAde51XKn+LAj7z22nezU77srPbzLF+mqmzz6y9XglZlm5B9e5Mq/hSs0QQ8AS/0eZK5\n",
       "gawlAAAAAElFTkSuQmCC\n",
       "\" style=\"display:inline;vertical-align:middle;\" /></a></dd>"
      ],
      "text/plain": [
       "<IPython.core.display.HTML object>"
      ]
     },
     "metadata": {},
     "output_type": "display_data"
    },
    {
     "data": {
      "text/html": [
       "<dt><a class=\"ProveItLink\" href=\"../quantum/QPE/_theory_nbs_/axioms.ipynb#u_ket_register\">proveit.physics.quantum.QPE.u_ket_register</a></dt><dd><a class=\"ProveItLink\" href=\"../quantum/QPE/__pv_it/axioms/8f129d9e5bc4c251c523b20b9796ab27b93e168a0/expr.ipynb\"><img src=\"data:image/png;base64,iVBORw0KGgoAAAANSUhEUgAAAHQAAAAeBAMAAAAP2ycoAAAAMFBMVEX///+qqqpUVFQiIiJEREQy\n",
       "MjKYmJjc3NwQEBBmZmaIiIi6urp2dnbu7u7MzMwAAAAIy0x7AAAAAXRSTlMAQObYZgAAAlhJREFU\n",
       "OMutlD1oFEEUx/93l+ztuh85KwslnBAQUoigKYIYjhgQReEULCyEw0oL9YogFkrS2KTQJRALTWRB\n",
       "FGMSDVanqBlQEE2EVQioiAY7P4mNCnLGN7uzHzebO3IhAzP73s78Zt78580ATZZ3cy+wumIxmM+a\n",
       "Ip7vdX3DGIM5B+Xyl/EVkkY5XfStKc19b5aUSkktNyS+BkambP2Gwy0H1xic89fR5jbcVz5Ep7N/\n",
       "cc9Hz7rUdKICfBe9qSTaGps4VYVR4miWvST0IkYtzIo+bTqBXonZGQp3F33bz0H7kMsuYmd7iEbR\n",
       "BSVb5e2Nrj87bJKYTC6qwYBR6HlMlkIU2xKyEoEfP/H2lw2F2wNUzVnoU2JAiN6UUTUHKGkK9LSN\n",
       "h3hMQdMP6JMTkNF58VV2b+/yjAFS6ZRKTdq2Dq4/QHIUaucO0Rb/jK19ga7Hqdr9PEhHXVpaBNYN\n",
       "yqg57uCNixTzFw9PZISg/OfYUL0qo5o+iLuhTlvCnj4SmT2Ip8g/GT2jFfkwXPX8aD+HCLXjKGWU\n",
       "hLqqgyGyPnkzXzhMxevppoAL32JDzQSKGdcLZZM3c7TqEapH0w1XxRNfuz2eH6nYS/WEhwrl6PbI\n",
       "aC9aCieD9aLE7eAnNkEpoRfrKYxhVGwGI+fneS7oueWd0H73VZ9YVUmcK17f3tC5gIzQouOR6Jnh\n",
       "hDVyqXshuFz1sul+cPBPRSKq8jVsdeqgW+X015j046O7PGoWE++LtDUcw/Ko4iReic2S3yP5d4KL\n",
       "k3zh5mtdha383U7ZNW5/M2/+xhpvDGtW/gOV0pxJGXesSwAAAABJRU5ErkJggg==\n",
       "\" style=\"display:inline;vertical-align:middle;\" /></a></dd>"
      ],
      "text/plain": [
       "<IPython.core.display.HTML object>"
      ]
     },
     "metadata": {},
     "output_type": "display_data"
    },
    {
     "data": {
      "text/html": [
       "<dt><a class=\"ProveItLink\" href=\"../quantum/QPE/_theory_nbs_/axioms.ipynb#phase_in_interval\">proveit.physics.quantum.QPE.phase_in_interval</a></dt><dd><a class=\"ProveItLink\" href=\"../quantum/QPE/__pv_it/axioms/e192f41cdf162a066477428eeee89b3ce297d2580/expr.ipynb\"><img src=\"data:image/png;base64,iVBORw0KGgoAAAANSUhEUgAAAFAAAAAUBAMAAADo9qfkAAAAMFBMVEX///8QEBAiIiKIiIjc3Nxm\n",
       "ZmZUVFSYmJh2dnbu7u5EREQyMjK6urrMzMyqqqoAAABb/SrcAAAAAXRSTlMAQObYZgAAAU5JREFU\n",
       "KM9jYMACrPeiCfA5MGAFPQwMHOa9yCIpOBXuY5gEM+XhBAaG2bgUsgswcGwAszkz8oEKOQxQFFQp\n",
       "KW2AKORKYOD7CRWtByrkFEBWd8sSbiJ/AgPPPySFDHsY+C4w8OxfCbZkJ8Lq+QEMPJ+RFbYycDAw\n",
       "3K5JBQmwOSAU+jcw8KIorGYoYWBIYGADCXAhecY/gIH3B7LCRwwBDOwTGFhBAhd3A8EGHFbfZ2hg\n",
       "YGZgmAwS8EIyEegZvn+oCgMYzjIwRIIEGJEUci1gYEcOHoZDDO1ApdMugARYDbAFONwz3Nv3PtWB\n",
       "iOghRaEew8QLnL/BPHuQwggGhqL/GlD5aWsmwBXOMM5lYFAC8cPktxYwMADTE2sB3G0nFsGiEJq6\n",
       "JsBkOBWAfriALfWAAQdcBJQozjPgVDgZLgJKZma4FSIctQR7ejRCzwrsDgwAoGNaF5LpImwAAAAA\n",
       "SUVORK5CYII=\n",
       "\" style=\"display:inline;vertical-align:middle;\" /></a></dd>"
      ],
      "text/plain": [
       "<IPython.core.display.HTML object>"
      ]
     },
     "metadata": {},
     "output_type": "display_data"
    },
    {
     "data": {
      "text/html": [
       "<dt><a class=\"ProveItLink\" href=\"../quantum/QPE/_theory_nbs_/axioms.ipynb#eigen_uu\">proveit.physics.quantum.QPE.eigen_uu</a></dt><dd><a class=\"ProveItLink\" href=\"../quantum/QPE/__pv_it/axioms/9fd17865e013ee27bd5f25ce86c875541c2562370/expr.ipynb\"><img src=\"data:image/png;base64,iVBORw0KGgoAAAANSUhEUgAAAL8AAAAcBAMAAADCTHN1AAAAMFBMVEX////MzMxUVFR2dna6uroQ\n",
       "EBCqqqqIiIgiIiJmZmYyMjJERETu7u6YmJjc3NwAAACgK8IjAAAAAXRSTlMAQObYZgAAAv9JREFU\n",
       "SMe1Vk1oE0EU/rZp/trNGsXiRWiKVgVB9uDBCmpUBD2loNCDIEFFPJV4KKUHtSAKgsL6R8V6iEUt\n",
       "etDQgyD+sAgFWwUDpQjFQw6CWrWNfwiSGt+b7Dab2TVNpL4wf/tmvm/mvTdvAvyTdDw0ywO/jsUW\n",
       "X64hXR4F44sIvVzUoZzyu4bJwfrxlViJIK59r2F2Y8z1aaXVBv6ypMk2faBA1XSxWIzSx6zYrXIr\n",
       "KSNs4UrLOgA2Wm2YzBrIuQkG7E4oRdWFFWMvYRF04+PSfgkBId7PC2jrfjxAc3HYoRam2ODC1wrz\n",
       "YQTVUHEiDIwRgWogRT9dRggaVN2joGCD9jpPAN7MuDt6DKsTMaAcADIfgJZcU5b6upqsIBAIWl5M\n",
       "RRO1uF5BcJzhUjKBP2l1dmI7r8/sgG2iWBCRpIyAMxxxwJIMz6gg4N2rnTLBrOVj5faRx2znbMs8\n",
       "wdTBt6tcCBgE3lOToK2qeoW6mT18UyaYZNr2U/AXi3nhQ+FFQdB4f3/cjdAD9FGzjWItYqnVvhRG\n",
       "TQR04UlJrlEZPd8T84rg13YcOhESJp5Qc5qPa6nDjZ04afloij9tvstyR6gfUWk3y7HklNXwQGiN\n",
       "shvUr9RtsNSfw2mBc5nKURlkiMpPiE255Bw8EGbj2Ec3ao667yy16U+hi3rLmF8GOUv+pdv7rUp6\n",
       "qER4JQh8X6i71b7JCVPh8SEvAjKUMjcz86kqgROBTkAm8uXtKGX1JgQ5PJ9S2V32wZBQj5RMhOoE\n",
       "DoTWHNuTE1dDzlaPoDnzhu6Q7WSnrKdyxYRWncCBQFHUIU6utc2rL2KXocPHt/KSvJrCGs/3TnRV\n",
       "J3AgTJbM4BsZKKuf9XavjSLEoxvy6gTfq6u/stUJHAiDpVThTtfYw3e235WLFn4cKxAwXEp2Huo2\n",
       "z2QX1msnYAS1YDnbpVbTnula6ayZQCBEYuLB8VBHUjJ1SdbUTCAQQlH5yTxmp0LyZsTjyRxfkMCJ\n",
       "gIm6/1UEjHpmi6tQpxyuZ3LYxP+XP+Tqz6Og0YdLAAAAAElFTkSuQmCC\n",
       "\" style=\"display:inline;vertical-align:middle;\" /></a></dd>"
      ],
      "text/plain": [
       "<IPython.core.display.HTML object>"
      ]
     },
     "metadata": {},
     "output_type": "display_data"
    },
    {
     "data": {
      "text/html": [
       "<dt><a class=\"ProveItLink\" href=\"../quantum/QPE/_theory_nbs_/axioms.ipynb#t_in_natural_pos\">proveit.physics.quantum.QPE.t_in_natural_pos</a></dt><dd><a class=\"ProveItLink\" href=\"../quantum/QPE/__pv_it/axioms/1a13c30d572c85563c805c8bd9d78589517d2c170/expr.ipynb\"><img src=\"data:image/png;base64,iVBORw0KGgoAAAANSUhEUgAAADwAAAAUBAMAAAAjLUMaAAAAMFBMVEX///8QEBCYmJhUVFTMzMzu\n",
       "7u6IiIhERES6urp2dnYyMjJmZmaqqqrc3NwiIiIAAACerFpgAAAAAXRSTlMAQObYZgAAANxJREFU\n",
       "KM9jYCAbGOCXLqC6NOv68qUMnPIScOm3qPLsCs4MDPEMzKtWSa1axMDA8wFVmvkJWwIDI9xw7gUQ\n",
       "YfV378As5vYAEwY+uDTfBLCseypM9xWDqAC4dHd9dQLIRUvhhl84xmKA0H0eKoiQ5mxQQ0jvgrgX\n",
       "4bQLDKbMfiAWWMdLsKDjKiBYAJUOZlgID4YfYOo6sm6WCY4wHscHhgAgxYgszaADt4tzAY8DyPcJ\n",
       "cGkglxNuGLdBGJh+AxPgOgB3LxDwFimA6eCKADDN8l4cSEZhRFVn3bsFGIIATsw2Igf3W/cAAAAA\n",
       "SUVORK5CYII=\n",
       "\" style=\"display:inline;vertical-align:middle;\" /></a></dd>"
      ],
      "text/plain": [
       "<IPython.core.display.HTML object>"
      ]
     },
     "metadata": {},
     "output_type": "display_data"
    },
    {
     "data": {
      "text/html": [
       "<dt><a class=\"ProveItLink\" href=\"../quantum/QPE/_theory_nbs_/axioms.ipynb#psi_kets_in_q_reg_space\">proveit.physics.quantum.QPE.psi_kets_in_q_reg_space</a></dt><dd><a class=\"ProveItLink\" href=\"../quantum/QPE/__pv_it/axioms/15cd824275614082634e3dae3fb2bbe52b0463b30/expr.ipynb\"><img src=\"data:image/png;base64,iVBORw0KGgoAAAANSUhEUgAAANgAAAAmBAMAAABUlki3AAAAMFBMVEX///8QEBCIiIhmZma6urrM\n",
       "zMxUVFQiIiJERETc3Nzu7u6qqqp2dnaYmJgyMjIAAAAcRTyBAAAAAXRSTlMAQObYZgAABE5JREFU\n",
       "WMOtV2uIVFUc/82989i5987usFCRfeguYahEDG6RbFHDiggROVvRaivtYClBEEMPJOzDYGGjJoz4\n",
       "QUFhbgUWy9YMtB+MBC8qhKvCpATSi/FBD6GS7OVm2Pmfe+/cxxmno7MH7pkz5/7P/3f+r985F5Bp\n",
       "mSZ6aMogoBWlxe9FT+1V9jwuKxxfcJMo2j0nTNbPkXmypr1buEmwtcB0FfESjX+WXLPhxiCMZSPu\n",
       "6IiFaRtG7glm1k5LanHiyo2BHcNLbmZYI5r9Efq/fpQ5Minnx345sae8weuYrCocDOpa1g2s51ue\n",
       "k9JSq0rZX/STr5aPFzlYegHrxhY1aPqcFNjD1D0Tmmp0sD8Qk0MWTnKwfYalYFEiS9v9QgpskLqj\n",
       "zvbdqftEqaWB8ctAimHra2yMTGBzomSSg/Jo0ctvu2Gl//DBDHfuaVGKF9MPv972JpPKsSF7cAJQ\n",
       "bfyEdVQ7MRvHSfJiV666JIKlxHxnyhOTDe2R08BpAqdV03mMtr2bbGEPvSh3A1NLPthej+4Esoyx\n",
       "MDbXsa1dRtyOM0s20ezo4bxPkZd4XI1GN7BU2Qf7yuOhljs4s3GjM6xZyBSI1p7Ds58dYEqXRfXo\n",
       "V5CZnZra3TU/BnI+mO1NbnV+Vi/xJliuqdxD7+HOa9fY75BQG/8Af1cqb3SgnACY6YBpd5mwlZIz\n",
       "edAx8GKwPvYncgENq6L0pP0LrG9vMxQof1hvOmCGnk03lDkMme0MSfrlXgH2xc2AhkmBvX8DlvMA\n",
       "DJnXBau5YHvVUsZCFimKucoD3+dLfQ/sCoHV8lGwq7RHSq2U92r8obxyawhssuGAWTGTOTeHutUm\n",
       "p7FfWHMS5BXgw4QdUF0XwC6z6DTJJVyDdnC4qZdnMWIMPzD8YBQMq6oGNBMreWpxvXt8TeeJsIpd\n",
       "LWNg6RbRAddw5tMp6KdUyrkObsTnmIBh4UjibuZAHq2YL7WFlViOwDRvj1H61q5SFj9PxxzTEKdk\n",
       "0ifWmGGwupuNrHKWYIYduTPMDY5Nqh+kF9izeTRw2RCyMc2yEZ9QNpOGfu6fwuyXYbABu+1GO8N8\n",
       "8yel2XHn3aa2FJWV+uOsdmCbX3hinTl1RBred8AMorkAWKzogunv7FjM1gxuZ3/dctv/lhU05Mmz\n",
       "f93vLRMYJP47Ea3lahivVCqmXkg3S/5ZQvnd8hgkQamilMfSjsepPfa2S1exaD4IZ2XGO6q5hqRj\n",
       "GVaEa87IemAK7b7PHFeQFCpWtSPpINwCHD2eBoM0sKhkwuv0OQ+Mc1h/NbkQH4u3gmzEjuJ1rzJc\n",
       "AygYKy8ARYHTXMvac6dEgnsxclYIttfDx5LCYtaB9rdQtzA0tU2Uihj7jSBwSOreJHdT0XOhoip3\n",
       "vjf9b6s3pMRmQvki3n/vkPvkaWEempKVk7tlPsBikt94380HmOw3Xp/ZO1b6dtlvutd6B/ugISu5\n",
       "u9oz2A55HxR6xdKIp/8DNvIKios0+BgAAAAASUVORK5CYII=\n",
       "\" style=\"display:inline;vertical-align:middle;\" /></a></dd>"
      ],
      "text/plain": [
       "<IPython.core.display.HTML object>"
      ]
     },
     "metadata": {},
     "output_type": "display_data"
    },
    {
     "data": {
      "text/html": [
       "<dt><a class=\"ProveItLink\" href=\"../quantum/QPE/_theory_nbs_/axioms.ipynb#PsiKetInQRegSpace\">proveit.physics.quantum.QPE.PsiKetInQRegSpace</a></dt><dd><a class=\"ProveItLink\" href=\"../quantum/QPE/__pv_it/axioms/671210829eb355e4a6081371e10e599a3bf30c070/expr.ipynb\"><img src=\"data:image/png;base64,iVBORw0KGgoAAAANSUhEUgAAAHQAAAAfBAMAAADEh/SNAAAAMFBMVEX///9ERESYmJjc3Nyqqqoi\n",
       "IiIQEBBUVFQyMjJmZmaIiIi6urp2dnbu7u7MzMwAAACxEeIOAAAAAXRSTlMAQObYZgAAAmxJREFU\n",
       "OMutlU1oE0EUx//ZzWSbJrukiAdFpTfxYpOLIBS6Bz0IfqwHJR6UHHoQVIx4Uyg5FPFSuseibVk8\n",
       "KbWSW6n4sSII2ooLFqkiNidFUJFGtBBjfbPf2U1tGxzYyX/mzW/mzXuPCdBh66p1AL2bf0H9Ugek\n",
       "YkJ+ChzcOPF8m+WI7ATkeewvTm6UzOaliqOm09Z7uRfD63pXdQXLK3UYXBmYNKmrr4d+8gSrig3M\n",
       "OOg+C4ZSAr76y5Jt0JFAJpvI9nJUNF/C6C6/xpxvS1djZNoINCN9mn6P9iP9QU0bpo3Ojq5cpXuV\n",
       "Y+gAj+rt4s/jOoWY5B0eMBMYh3Kl5pya0nivxTNC37cfeLusQ9D5VvTJc8hM21YSR8A0LKi4FUMH\n",
       "AUEiR/t0PMAjclqlyczdKbiofJKj1/JYdAFh64miLcQmsDdFTku6MnxgJ909F96YHH5VY5r8C0jk\n",
       "nVxut7w9KAN6gTtppFZXvwPdpQjaV2Wa+JvCb9ozi5Yf4Ark8ufQ4kwzgh5TmZZZ9uN02bclchDN\n",
       "++Hi+hNBB0ymCQ3SN+2Z4D5dZYh6GBUbEZRVmJYoeWWnnL1OzakCHXLuS2ixHEWVQaY95qV02N45\n",
       "dCrlckT616koPDu/i+st9kwQxQTV1x4bdSOn1KMo3lwInXfDt0k0kZiikshU1oiwV4hZ1bmh6tns\n",
       "NI7tsBZ6rCDRrejM6AoPLnNjcelhOI3K2MVT3usXqyavzXrEE7cQcS76ghproEOx8h+PjJes9qhc\n",
       "iaEfI+PdaI8KRgyV1NbxmZbRvSCLVgyNOCKYm3jqD7WMCpv5l0i2PHUT+E/tL8QHopuyyumiAAAA\n",
       "AElFTkSuQmCC\n",
       "\" style=\"display:inline;vertical-align:middle;\" /></a></dd>"
      ],
      "text/plain": [
       "<IPython.core.display.HTML object>"
      ]
     },
     "metadata": {},
     "output_type": "display_data"
    },
    {
     "data": {
      "text/html": [
       "<dt><a class=\"ProveItLink\" href=\"../quantum/QPE/_theory_nbs_/axioms.ipynb#first_q_p_e\">proveit.physics.quantum.QPE.first_q_p_e</a></dt><dd><a class=\"ProveItLink\" href=\"../quantum/QPE/__pv_it/axioms/3a52b2843ef7e7626f1815d826751be86ba874700/expr.ipynb\"><img src=\"data:image/png;base64,iVBORw0KGgoAAAANSUhEUgAAAMkAAABEBAMAAADZxgwwAAAAMFBMVEX///9mZmZUVFREREQQEBDc\n",
       "3NwiIiKqqqoyMjKYmJiIiIi6urp2dnbu7u7MzMwAAAADxdujAAAAAXRSTlMAQObYZgAAA6RJREFU\n",
       "WMPtmM9LVFEUx7/Pccb58d7MmCBiBNOizSxqUNwEotFOqEwX0W42redBP1aC/gXlopUlvSKKgnQC\n",
       "ceuAkOEQvqKFSNBki1bhlBRS6nTer/tsvO+Nb3ojEnNh3rx7hO9n7j33HO85gPOoVI0yGjHKNeZH\n",
       "jhJXjW/ZR4qlaSuLeeP9uI8UU7NkK2uW5fslrPtPKRizdcMSlqVrCDWMEjIsd4HXiE7yKZEzm8nI\n",
       "ma0T3ilB09WaMll6gHFVmnBYS4L+kMjWsZaIeQY0ZbJ8BxZk9DlQFhRgI1kHRbSmfZpF+qZLjTlQ\n",
       "VuiozMo8yttLtx0pa91EeWJMxzRLcJt+rMJxv6F6hz4DKo+Sq1TyTpTCDVzBrIrPhvuJQmvZKEDI\n",
       "8ymb9PnJO2MipbasAyUod2IarfjUSVNSZjsWT1XnSF01ttXe3rHNzZ6cUTYpEoboIAvAvJYKUqb3\n",
       "x2W0FbhrEXfpLP7mrSVMqjtOOxb7QZQ1g0LKZOkFHqgIDHMpYXoGdrzuGMRsXMYbg0LKVlRilO/9\n",
       "RMYIGb73S04UIRNV2/IGZVS3hGTpIrDEp+jhUuBShFwfnHdMxD0YlCXdIi0/ot+U5VP0cMnz81jC\n",
       "JSqvL04Nm5SsnfljST4lx8LFGwVf9Nd5Q9mitJR4FKmrkkZH5WwdlBf66y1D2aKs1pH5XSm6Ly/n\n",
       "0rqyRZnym6JYM005au5Uv4+U6F+73/+Pd5jEodyUfKHUvFv6Qqk5mpQmpUlpUpqUI0Cp+pfQIEr5\n",
       "UJbkmfLV/G7zkcK6CqxVUbQuvXn/KNbty25VWBSrSPKVsl5NQbYBlNA+yjOPlJHceRkDW4obhbUq\n",
       "GGXV61pWSCuquK6FtSoYZX/FV4OileiC6kphrYoipIcK3quc6rUGRSvRW5z8stYN6QJYq6IIITaI\n",
       "WW/u1yixX/T44ERJziFatt1fxFVhQiuTeX04N4pWouulI48SnOxCIGNHYRFqq4Ih+3BXDtg8CA3S\n",
       "Qy8TE/yuAsmyKCTvL6jxXYDT7nFdy0dNIOW0Y7EdbJTAnE2UV4gO7jkPB6SMUywEFSeKmMXjPQeX\n",
       "KD20hdMIZrxRtBJdHHaiBFLojaisVUGUY5hLFiDKHinWQeZShFTsnGi3Kojy7vnNdInXHnXfMQrI\n",
       "U44UKf10ZMaODhb7Lz1SwkmMlGpkS9aqYJTTXvPY4kmlVk5mrYpidWLzM/OvVmf+iNIACmtVzFgp\n",
       "WfWPwroK/f/jTelQ7pZ/AOy15uIplK+9AAAAAElFTkSuQmCC\n",
       "\" style=\"display:inline;vertical-align:middle;\" /></a></dd>"
      ],
      "text/plain": [
       "<IPython.core.display.HTML object>"
      ]
     },
     "metadata": {},
     "output_type": "display_data"
    },
    {
     "data": {
      "text/html": [
       "<dt><a class=\"ProveItLink\" href=\"../quantum/QPE/_theory_nbs_/axioms.ipynb#mid_q_p_e\">proveit.physics.quantum.QPE.mid_q_p_e</a></dt><dd><a class=\"ProveItLink\" href=\"../quantum/QPE/__pv_it/axioms/d650a05c72d187d0addd9f539ac2d5440d46e66e0/expr.ipynb\"><img src=\"data:image/png;base64,iVBORw0KGgoAAAANSUhEUgAAAZUAAABtBAMAAACbw+HIAAAAMFBMVEX///8QEBCIiIhmZma6urrM\n",
       "zMxUVFQiIiJERETc3Nzu7u6qqqp2dnaYmJgyMjIAAAAcRTyBAAAAAXRSTlMAQObYZgAABnpJREFU\n",
       "eNrtnG9oG2Ucx3+9JE2TuzRlgogg3CYVVMpOU2zdpGSUsTdK45sWtxcL1b4QZM1bUWhQkLQqy6s5\n",
       "LOJNQaGMtrC9GRYMtDLpXjQUBSkKUXy1YXeMbqvdaHyeJ3dprvdces/lklzPe6BHn1xIfp88z+/3\n",
       "/Pn+7gGwVs7qajwc5rJCriG1Fkg6+uHxsr4oNj+nhC9/WGQR1Foo7SzLvrpdllv4cpuRBTKuZLmM\n",
       "/iJZiyyzWrXPlSzdMvq5Fy2ybGjVeVeyxFbn5r6w6vsFrdqVdyMLbOdyHxpfFQws0WdFKHCqo/AF\n",
       "V7JMAEwbXw0YWAS+J7LI7cBR0XHnd4xlGKIoLlcsrMcyG8jEZOiBMBlb+l3JEgauCKqFqIy9luSe\n",
       "pLHIHSLqeBIsyLg+Wnm57ExxikUohtGVWBhdShT57CqcEBIDiZP7fX8kL0BUhDOkvuTKdomU8G9M\n",
       "LPztxhzw6wEcroztAjfhHAgyLIeeA6qLuYAFpt9BF2xhUMIR6txbIp1lEF6A6wD/XEdtaGF0bQvL\n",
       "NRyTsIXdJNqmVn+ls4zkCzHkVQ9SYGl0bQtLHIcwbOG3FRZBkKgs/GefP4+mlUc+JQHDnSwo0lYs\n",
       "HMvlciKfihQze7P72nE/hBuDy74ZwYHcnSygWdhZaRc4LdLnMByOdV3iGEcGWNeyEAsF7AnIJWIF\n",
       "OguZ13TnO3vJ6OpaFmIhYE848zdA2qRd9rql6GIWtachfzG51atvRtn1LO0qHmThJndf9Uy7xEve\n",
       "6WMjBe+wrCW9w3LXQ3Fs2zsswXveYRHue4elW/EOSzzrHZYR0TssaymXsJQb0INUlim3zC2VBua6\n",
       "hCV6ofyeV1haPudXJVi+bSxnzW6wb3JVZBia9toiFr0GXFP67bAIfT/RtNeWsgjGG6N2WO7A93mK\n",
       "/NJulrANllgPCCWK9kq+Pza5LcUmd080m2XWeAMLL6wsXWngdyjaq1Jd5cYzTW+XDeMN9i27FYin\n",
       "IfiIor0q1WnIeanpLAXKnWl2lgUJrzOM2qtSnYYcXzSzJ/rSbqphFp0GXFOW2Fm+LkDoHkV7Vaqr\n",
       "3IuymT3hcnmrYRa9BlwJ0Vk7zo9YJAg9poRzpbrKfWhqz1q5/LBhFr0GTFASGbCRb6T1MaP2Sr4/\n",
       "uJtIDD6mzjVZtNc679mvARNtIohZmPONiO/zjyi9U9FWudyW6W97F5kkN+z7Og24q8rCnD6BYnIW\n",
       "YjuUqKFoq9yuneb2Mb0GvMfCnNaijZVG7VXRVrnqRqqJ799vnKVWA65huWxjDvMBXElRtFelOrwU\n",
       "zO0Z2M6DA31sTwOuYbllg+XqsQlaAFSqw0uyjj2KA2NljQZ8YfPPzc1ihSVjg4WUYbqVU9XhpYks\n",
       "tRrwXruQ5ARbLBM0K6ND5XEYLH/UbJYaDbjCwiOWzpRNFspEztqc3xGWPQ24whIZeCDayDRUWSja\n",
       "a0Ms1vdw9Bqw2i64rDOzqBIsRXtthIXdACPLTMv3YRzfYYm0b0/pcOyuWtu3PMw7xT6Lz+Kz+Cw+\n",
       "i8/is/gsPovP4rOApRVwo0+3tpXFQ23ks/gs/1MWLRuFb4hlqD5LSFb/WWwqi7adzKQNGliu1WcR\n",
       "tA/vbwkLkzZoYDlpkWW0JSxMYoeOZfljGd5/Q7LEEm4NS59NFiHfWYJnvixaYmFPcbHFMm+TJZwP\n",
       "/Rv8S7LWxxx+Ks2MhUW01bEkI1uceHvREouzDwobWXA2yhWZSUzX+z6/E8j/njyA5ZuXIfq0ww9w\n",
       "G1kCwR44zub8mOXS1FOLcHFXRC0jHjRWIhbpFHBKk51/Bb4KlCDHFvtJu+DHdDiMsQwHs0SKQzgn\n",
       "wukjdfazyB0iHGGL/YQFJzAF0IAekyywRNFXoO9x+kgdg++PyCGcO6F2ZcuZOziBCefhvA6ntQ8z\n",
       "W52hPhbcgfMpp08IMbLcBK6HLcTgdiGP6VxFv/SdH2Ys+IuQgaPg9MktRpZPUE/eYDqLALOQx3R+\n",
       "AeioWRrXYelKQy4ms6e4MLK8AqekAtNZBJgljNtSsjbnRyyBdPAJwUaKCyPLd8dujKeYoiVmWcBe\n",
       "nLbMEh1/8VKv0ydQmY37w4wsP6KpVUS0zFIp7CkutlgmGFlwApOQZ2RhT3Gxw8I06yMsakhmYpmH\n",
       "VrAwnUVA+hgaJt9lZVlvKouWjcJ0FgFm6ZbgUsoiC6e9cQZcV8gc5ue3RX9PyWfxWXyWQ8vSKi3p\n",
       "P0IjVVOpJGKBAAAAAElFTkSuQmCC\n",
       "\" style=\"display:inline;vertical-align:middle;\" /></a></dd>"
      ],
      "text/plain": [
       "<IPython.core.display.HTML object>"
      ]
     },
     "metadata": {},
     "output_type": "display_data"
    },
    {
     "data": {
      "text/html": [
       "<dt><a class=\"ProveItLink\" href=\"../quantum/QPE/_theory_nbs_/axioms.ipynb#Psi_1_def\">proveit.physics.quantum.QPE.Psi_1_def</a></dt><dd><a class=\"ProveItLink\" href=\"../quantum/QPE/__pv_it/axioms/67143242e32925552509aa5a4c185bc0dbb776b60/expr.ipynb\"><img src=\"data:image/png;base64,iVBORw0KGgoAAAANSUhEUgAAAU8AAABLCAMAAADH9fViAAAAM1BMVEX///+wsLCIiIhERESYmJjM\n",
       "zMx2dnbc3Nzu7u6qqqoiIiIQEBBUVFQyMjJmZma6uroAAABSdj2uAAAAAXRSTlMAQObYZgAAB95J\n",
       "REFUeNrVXIeSnDAMJe7d/v+vDb24YIy9B2gmN7dKHjHPshpiu66FGPwU+M+FqrymVoB+CvyAKJLX\n",
       "1Al29CHwE8KkzWrqRJBm4PZnp70gybKaGiGiHRiBD1ioVnlNhYN2qB5MDDRsYNdELobhu/i0Dmc1\n",
       "9wXKejDpfaga4lLE1LEx4m0GqvOa+/EE1YMFnQITiy7Lvo1P63hW86R5dsIOR9923HToA3x2WuQ1\n",
       "dx0gaQTmjnXUAPoFPpGzWc3N4qYmfTyARTK0v49P5mBWc0+cbgQmpvsOnx0MzAg2qUu4A23AaE+n\n",
       "hYuwl/IZ3ncVE1vpWrMrO7DtHanF37HPzom85s5lZRMw1pxzmCra+Av51IEh6QYHnruo1+OX6tkd\n",
       "WLpBEkmAEU69rgwFwfEGDQ68iaSxTBHl2E3wZwQHgRi7+hpJxIlDl/gUjn2Xzy48TqkDVpKGye42\n",
       "n6zK977AgeKspryOhff5tA5+mU8T9C1MTSdjysETxeYlPokjX+YTOJXVlFcJ/D6f8MvhaDheIqsp\n",
       "FZnwGJf4lA5/mU8WhB9WHZBcgrdLfHpg7RKSy+rm1n50y5IeBcjqZDG8eVeZsNDUhlzh0wfznrqD\n",
       "wTJqkeoT/UwWsLb2Y6yle2iiur0mgw6drOzZ2dS9XuEzABsX8z9IhG4W75e9tPZLT2uhKYFIwoSy\n",
       "mjJBqYoAXFhtCBYuGiBNUIgo39BosWEkWyzYW/mymVaF3RyS1ZSmS9EM0vSnVBtUDMb9iY+h/Hkc\n",
       "zcJOwKyisxeeERrtzQtryTen22EQ2z3i7YxZPpMw3VQJjTX9MrQqPvymJuGKgFHPROzgHu/EhEdv\n",
       "be0bjAEzbCF85ZP3l6UQ49UqNeI2euYnPhmUwj8MguUMYqeRd1InWMNnDAxdPoWjIQtja5/1P/q/\n",
       "AbQbu1bDx5HP8Rcw/yHz586pRLK22Kdeel/rgoDx2dNdRGP5sD4xwBgvy7C1MzX1bwhmfTjPXTJ8\n",
       "LjK19rEcTRt2dPs48Dn+MvDIJz7Hz1gCyE/5XKMgQOtG+kFCdBENE3LhU0taSAmp4ZPEgr7LVU0y\n",
       "ePS9b+1TuI8c63lXk3milSTYU9rRNJ92PQXbSIDgnncSgb8So5XiiU9WenxFDZ9xMOnzTXbpuDMl\n",
       "x1GyY2u/D4NYhnwizRW121whBF3vS0Gaz91YFVxoN9BjTwZ8ym5+cjzwWfwoXdR0pBPgITKeplly\n",
       "cQ0CAan81v4QNLbAscV3q52EW8DVQxEAcJrPwX1yZAYqOVlrKr8ACdIMN/7kE592zlaO41dE78R4\n",
       "9UBF/poADy70bFuXbFQNZkyvZ+VXB/fm+N5zAuhMiFidEbvC52iWA5/TiEPB+FUhn+wSeKg7TzI3\n",
       "OG/2ZN3w8gLOs0Hm8dkntIB1DB1SUHysh23A56wReuJzGSa6/HjWFXXc2PEgJ8Hm1IXOk5Z4bpZc\n",
       "9lCCXVvaxKeRJqzHvCrMBu2PWYP7kNnzaZd/XsAnOHyKy3ZLKg326s40TcLMfCI6SKMnUNvSJj6F\n",
       "AnBd3uJA2ZHPfwGfi4ZCIiWBOFrbHvyn8vis8J9pMD1L6hcX7n70BHnkc2Bus8YlwHv2iQM+Nw2T\n",
       "uyNm2/jPzCh8GozO0mA4X9VMC6Y/4RO5KSSROaVd6KKX/Kdfb17m8zxfykTUJPh8dlrNd9eXIQQR\n",
       "CX7C5/if9MsY+SQ8Ht/TfFo1ZH1rJ6UNn/FR+DwYnwe5LQk0wmn0m/M+1qLAAHYo4JHsLtvnpd5g\n",
       "Wb0pboFZxuTsj4cg/H5dZ9dI79VHYTc90V+/PH4Fz5oXTN8C61w/pPG7U1k+t0aUBpfqTT+MXB+/\n",
       "OuUzPgqfA8PsjIMhf8rnZhZ+uzTRX6oQ5TVQmDFwzbrio/Bp8Ox0Y6f54FCx/FM+t6iK1KX+Z4WY\n",
       "Y4eaqfGa9hb4JFNCxwClfjoG4TdJtqFUgXM3YConiMARPz0Fl/IWOJ0pWVnmmH8kKHz6ZrKaMuFH\n",
       "+55y2GmIOyg2c+Cx/ohYHjPBIrl5gE4KwwBAspoywcd4pkeHrSYjw4RAWgAeMqVgNZQrf8phJNT+\n",
       "PZ/hCIoOtl9XTmRFB3bmKdl+O7EoAmu37xRoIWcTf+Hw/Fww46ymuKdBQx84WZkeGCsBm7vzSw8J\n",
       "C9ohrHZ+qbdFm+585eoC4Wz3YcHB4cTV83UqnNE1uzhMC8GfknBeCFW/kAD82Lt75s8UKwR/S0iw\n",
       "fFJ9Q/4rImMmQ+mU5zBGisAfk3C8usHA9dFj4JHAqcwU+cjsuZvEiCsg4JVz9uHbPg3e/zm8Y0cF\n",
       "IcQocQvcJUZch7KEv/BLb8K3fVq8/0P2MUUX5ovkGJDiI64jyS988YsH7Rzu6rfd1lzDA0fb2GxM\n",
       "keX73gRRgbNULd5Xka4ZODriOj0DE+/LrMIbl67BZU1NiXUEryOuav02AdTzOU5Tvq5GosHBpK6F\n",
       "l7c1LZUjODriOtmnfOHr2jyruWf3shE4PuI6+c/3VaZa5jU3N8q2AW8jrmrtMaG3xvdwtJO2ehu1\n",
       "ym3swIkR16GCfV/+aYIdNq32nNRcaAdOjbgCQl5X54eT3MypZtcmD4GfjEY0q6m4OHsI/FzyafKa\n",
       "iquTp8APSfh6KmppFrzmYvx7BsqCRzCs7UMZBZ8CP1O667ymTgR/CvyA2CD02NZfUY5rvt8ay2+d\n",
       "+LBNK5qXb5Y+Bf5778lPNf8Bht5ZQY6Z2zMAAAAASUVORK5CYII=\n",
       "\" style=\"display:inline;vertical-align:middle;\" /></a></dd>"
      ],
      "text/plain": [
       "<IPython.core.display.HTML object>"
      ]
     },
     "metadata": {},
     "output_type": "display_data"
    },
    {
     "data": {
      "text/html": [
       "<dt><a class=\"ProveItLink\" href=\"../quantum/QPE/_theory_nbs_/axioms.ipynb#m_def\">proveit.physics.quantum.QPE.m_def</a></dt><dd><a class=\"ProveItLink\" href=\"../quantum/QPE/__pv_it/axioms/240c9838111c4d35defa58d661e39ab7498d1fea0/expr.ipynb\"><img src=\"data:image/png;base64,iVBORw0KGgoAAAANSUhEUgAAAHMAAAAWBAMAAAABVL48AAAAMFBMVEX///9mZmaYmJgyMjIiIiIQ\n",
       "EBCqqqru7u5ERETMzMyIiIjc3NxUVFR2dna6uroAAAAPJcEmAAAAAXRSTlMAQObYZgAAAgFJREFU\n",
       "OMulkz9II0EUxr/8ud0kmyyLWmtstTCH2FkEzkbCwXFq4z/SnI1IAqd1bERQhG28ysJaQUL0jgML\n",
       "AzZiIVuJiJAUYmGjJyoYveS+mc0lq4FNwAezb5mZ37yZ770HtGjBdO032XSzNmx7gyOHSLG20Mkx\n",
       "64pG7qQLLwLqokT19sog3YaYzbqh4RfpCozqy1ajjoqPn0ONuaGeAfH1VqJANwR6lcYQ1BmEOINz\n",
       "NzRXEMpcFkwgIdH5L0R9E3bEBTd0O0Upg4kuChaXaOSJaCYPrHLVV4R+sb91HDw/aUTzGQvYM3nt\n",
       "kCFRb5noASfnhIgGIoEVZHbwTWraL82QpGr549CmMQIEohJVHoneRG2dvDH88MfESX0NQb2m5xk/\n",
       "k6DO/qREtb9E+6i0h0OJI50pIpXGUaPA0EvaV6h/gA9FieIT0SVRWXxv8BZIAR3AeAN6zSzuRaGV\n",
       "6uh6ckgvc0mxbLQd+Az9Wa2/NS/RZVYDD9TvaheGtjZ2xlQhwFLSqfoU1DI8sV9vXqpTrIVNRijV\n",
       "ZKJ0Y7IJftsyaWUot/BZ1ms09cBN4ibKvSES4SxEnAopLBGYaVPa3pTz7vT//pnMysvJ8j+sfBQn\n",
       "xEVJmK01awLOphNvwXyLfd79Cg2bzcrfYYGsE/3etOkcVm31qvVU89Oa5RCqy8KMoxfvsX858oYg\n",
       "hzN1TAAAAABJRU5ErkJggg==\n",
       "\" style=\"display:inline;vertical-align:middle;\" /></a></dd>"
      ],
      "text/plain": [
       "<IPython.core.display.HTML object>"
      ]
     },
     "metadata": {},
     "output_type": "display_data"
    },
    {
     "data": {
      "text/html": [
       "<dt><a class=\"ProveItLink\" href=\"../quantum/QPE/_theory_nbs_/axioms.ipynb#phase_m_def\">proveit.physics.quantum.QPE.phase_m_def</a></dt><dd><a class=\"ProveItLink\" href=\"../quantum/QPE/__pv_it/axioms/7d0a3fbeee273c38f8b0f2e12e58093b02865daf0/expr.ipynb\"><img src=\"data:image/png;base64,iVBORw0KGgoAAAANSUhEUgAAAE0AAAAlBAMAAAD1gHm0AAAAMFBMVEX///8QEBAiIiKIiIjc3Nxm\n",
       "ZmZUVFSYmJh2dnbu7u5EREQyMjK6urrMzMyqqqoAAABb/SrcAAAAAXRSTlMAQObYZgAAAWZJREFU\n",
       "OMvd0z9IAmEYx/GveeefTkUIqtEphCIEq6nBwdY8GvpLIEgQURBRm9FBUG0dWK0KTQ2BW0NUTm3h\n",
       "jUEQFDTr4CIYdiqBHOn7zv2Gh5f3/fBw7/G80C+Bk2Q8EzzeRhDf4DX5WT5E7n2gSMrgSOTMfImK\n",
       "yZbIUYEFGBK6NYgSqPlFbhR/A7U4L2BKg1AVzTAELhDBrRNaSvBvErIIPN2InQ/eshvdG/ft6A63\n",
       "D2k84n46XhO1x2HzN1UM3JCT6fcCKxwcxvX4Ttf3pR3u1JZXFtkRhs2ZPv20u4evCZRchAbLPYjV\n",
       "qnvNqF09sWCYyb9dvl3V3VZ1We6CUrWc5HL1Fj7piFZN2R29Bec8+tOcl+bG11vrcnvnGS2hbJoO\n",
       "p5q4wjy21/0u6YrgqVET/lytjufbvqBEBuru9IWEKxtqzJBwYwQzlpiputy4T0u+Cp2kjHuFKQmm\n",
       "RM8WIxJOs0e+434A2VZePFzNLUQAAAAASUVORK5CYII=\n",
       "\" style=\"display:inline;vertical-align:middle;\" /></a></dd>"
      ],
      "text/plain": [
       "<IPython.core.display.HTML object>"
      ]
     },
     "metadata": {},
     "output_type": "display_data"
    },
    {
     "data": {
      "text/html": [
       "<dt><a class=\"ProveItLink\" href=\"../quantum/QPE/_theory_nbs_/axioms.ipynb#best_def\">proveit.physics.quantum.QPE.best_def</a></dt><dd><a class=\"ProveItLink\" href=\"../quantum/QPE/__pv_it/axioms/266deeec3c8dbd23963ba269665d56ad7894726f0/expr.ipynb\"><img src=\"data:image/png;base64,iVBORw0KGgoAAAANSUhEUgAAAGIAAAAYBAMAAADzMjWaAAAAMFBMVEX////MzMyYmJjc3NyIiIhU\n",
       "VFR2dna6urqqqqpmZmYyMjIiIiIQEBBERETu7u4AAACIO4EmAAAAAXRSTlMAQObYZgAAAVBJREFU\n",
       "OMtjYCAecAkwkAjek6qBoRu31COsopa7JgJJFqxyptgNWgH2DAPfnQ1E6Hg59yIDw2eIDgauCYR1\n",
       "8AUw5BcwHoDq4G8grIPzAQPPAZaAxxAd9Q8I6+DZwMD6mdMhAaIjmwifc/1jYP3IGCIA0bHUZQY2\n",
       "HY0MDFV/kazn/gfVzMD368F7AyAraxUIrITrSGBgXFSKFCj1CTAdHP8Y+B0w7WAyYGBlYAgAcqD2\n",
       "bIU5kIFzAcP7BEwdnAwMegwMQDv4fkFCawJcBzA66hswdbAxMDgw8DnADfeEBwIDvwLD/AdwfyxF\n",
       "2MEuAIoGKOCYwGAM11HAdwhLWLEpcDLwBcJFxBgYnGE6WBV4J2AL3VVaErMLYALM29KmboCH7pQk\n",
       "rDHItP83IkC4/v//D9eBM7VPwpF1ces4SKoO9g+k6mAJIEXHm91bcZQAVrv3AgCw0VI/fCItEAAA\n",
       "AABJRU5ErkJggg==\n",
       "\" style=\"display:inline;vertical-align:middle;\" /></a></dd>"
      ],
      "text/plain": [
       "<IPython.core.display.HTML object>"
      ]
     },
     "metadata": {},
     "output_type": "display_data"
    },
    {
     "data": {
      "text/html": [
       "<dt><a class=\"ProveItLink\" href=\"../quantum/QPE/_theory_nbs_/axioms.ipynb#delta_def\">proveit.physics.quantum.QPE.delta_def</a></dt><dd><a class=\"ProveItLink\" href=\"../quantum/QPE/__pv_it/axioms/c043e869e38a5b7b1d2331dcace0926a638841770/expr.ipynb\"><img src=\"data:image/png;base64,iVBORw0KGgoAAAANSUhEUgAAAH0AAAAyBAMAAACDoMmvAAAAMFBMVEX///9mZmYQEBAiIiIyMjLc\n",
       "3Nx2dnbu7u5UVFRERESYmJjMzMyqqqqIiIi6uroAAABeGh1sAAAAAXRSTlMAQObYZgAAAqBJREFU\n",
       "SMell89r02AYx7/p0qZr0zYHwYmgBS+KIBHGmBeZIAhO8Ad478nDQJsNhXmQxqswrPMg6MHB9CCI\n",
       "y0G8ts4/wO6geFDcVTx0HrbCum4med+sXZLnSdH3kDfkeT/J+z7P836fNwDV7oBv87w5U0ngi1Os\n",
       "+RtpuX9C9K84XC/TtguiG+VmOLdO23ZEp51h+CfMwjvyZpWZfofxrClvRugFjBg0ry6sNcVHNskx\n",
       "K9dovnZJk+BZcsw5xjWfLfTkVyxiSH6X4Q9B25IzaRFDFCb6bviLMoIqlYIpm+G3ocjoFCgHNpYY\n",
       "fhdz0pzeJob8ZNyPR/3kOunn03cnPGSR2xqzX/dn99S7vP3VDQ85heFa1bvYCIdR+zMkv+LNfCYa\n",
       "/t6QfMNLgHbEWfrOkHzN2yaqGX6c6w7Jl9w80X5shR/LvNAdFK8+Y/k68N566e/qi37z921G5FfG\n",
       "Nb57yPGpKWinhRcPpL/gX3uxybK8CaWORpjPbvidgZwFxb25609t2nu2FzQhM2WkltCw4vkKCsAD\n",
       "7vsuX3OwPLB+e2D+Bn4Dh1neRMnB84hCCv/PuG+YdxL8l2kV65H4ifirl6c/no+XUKevE7fXIuac\n",
       "lK/lvQki74L4x8u0LnklRkZmj7wAPgXvia8AeakrqejiNRvV9evjRwf2T0yT+7cdo6wWUmVcCaS8\n",
       "Gc+PkzXczbjsJgLdrBI6d5wuXh1ku/lA3h9TumJxSdMp2Pd4nWs0Gb5dUVrC7+nev9SPSeQXHL5+\n",
       "KBs0rvRzZtSkjhhM/RxI1xJVP5nKrhu4uV+mSDfTAfgAfDlQvuIdSB1t0hO3xoJVM+cX8vykutIV\n",
       "8KqReEZk2yqTZTecRJw9P+pmIp81OOtYIv+Gf3vr/87vOJb0/+B77y+l9qNACslXcQAAAABJRU5E\n",
       "rkJggg==\n",
       "\" style=\"display:inline;vertical-align:middle;\" /></a></dd>"
      ],
      "text/plain": [
       "<IPython.core.display.HTML object>"
      ]
     },
     "metadata": {},
     "output_type": "display_data"
    },
    {
     "data": {
      "text/html": [
       "<dt><a class=\"ProveItLink\" href=\"../quantum/QPE/_theory_nbs_/axioms.ipynb#success_def\">proveit.physics.quantum.QPE.success_def</a></dt><dd><a class=\"ProveItLink\" href=\"../quantum/QPE/__pv_it/axioms/f83b2793ae90bff0587a8665bb30216311f93be10/expr.ipynb\"><img src=\"data:image/png;base64,iVBORw0KGgoAAAANSUhEUgAAAZIAAAAXBAMAAADTptQWAAAAMFBMVEX///8QEBCIiIhmZma6urrM\n",
       "zMxUVFQiIiJERETc3Nzu7u6qqqp2dnaYmJgyMjIAAAAcRTyBAAAAAXRSTlMAQObYZgAABWZJREFU\n",
       "WMPlV11sFFUU/ro7u92ZnaVKJDWIybqIJWTVTXkgqMUVY/QBYemD8S9pU4RorbCmRDA2prRoigTY\n",
       "8ICKgR0kxKakdA2pFVQ66VaNtTFr8QcjxTW1/tAoG9pUui3Wc2d2ujs77HTABx68yezc3nvm9Hzn\n",
       "fOfcc4HrNJ685s1rH3zCgtAB9XXCmsq7htFrtt97VQae2wx3BEiy+aCZYCs9302/vmFIKiwjNKpv\n",
       "Z8Sw5dl0acPGewyWFjK2tfSqkTDx54Av2fS8mdwf7OcfwDW/sMycDAIhadwrobVtklUkGLKIpCyU\n",
       "q+4Y8BbjT6PJF54A/TimAPfFwkKntUmPca9KBrq9lpFMWkIifO7VqRO9mEPeEmMm3xQzd9vG6Jkq\n",
       "LPSyNjlk3Ls7SI9sFQmXtoKEX5bQqxNugKevre1Ns4+UTVeKcmCssOLwDM2Chs099GwKWkUihi0g\n",
       "4TfG8gvEL8CllpYGo2zWhws1rkcDBTXb2NaZG7eTIUYhSjF+FCtrV/r0SLjP3vbVOHqeycu4moWx\n",
       "2ZA4ds84xrPt5qAiHgfWAzuMwlmDdmW47m4orNpFsbZ/i0dJs5LyX/3FxpD6b4mUXTLk3bFteiSi\n",
       "qwkdt+N9vaqO88LEbEhassleEeISivg54MErFpwsklcUrtf1l5sU4WIK9kPKzB02xGu8P74EjthL\n",
       "GYkZJE8VJxGV8ZNevFvCxdmQlC2ZyaqQxq4usgK2nOxx1PfitupcJDcpXJdMVRdRtI+2KkUuZYhX\n",
       "Wqk1wlh+nkgdQWb3s2zhmBLEYZqtgDCVj0TYn6fz+z5t52RzBkkVMTtRrAkcjVfgQ1GyS/Gl9Utj\n",
       "uUj+1r4MGbRqSNpUTxiQlKhRcqcMGd8NLAPm5h8n3GQ+EhurzPFmCfu0lVPLM/ZIyCLhk49p2bNz\n",
       "v4RPvAHRwC7HKJv5znpbU565EPuXoz8eOez32u7sYauMXYLKXS6czZNf1eNEVWUnCnsqKhfa7ghp\n",
       "SFYADeAmBJ3Vl2FPG9g1Qg6POJMYmFlZvV55HZmpXQ/Ts4NVj1NbApQxNDo794qGjGfHCTiZ9/Ip\n",
       "NKEOdU7ZKf+J51dhL1tlGe8mAyNaxucfJyxsVA09DySKam3VGpIFIMrZk+/oxMdwKGFAspMda44J\n",
       "sT6bB49vV6ylSEDLeBwnN7pjCKktWKfY/rQOSZyVRsZ1fvSkJKRQw9MfUQmOND6I3tvGVlnt5YfR\n",
       "ToS0y/lILqgpFiWk+8tQEmQSChJ+jFFujqz/4gU044pIgiSfW072MRIcDAk/quL3MSLTuW/zyxAC\n",
       "Kko5rkNCYbNfGGe9wSPTQYaEI8avIQdfHvRze8bYqsKp1aWvMcyhPCNWTNdoaoAarFXqnHqehNk5\n",
       "5K7QN52H/Qm2eXCer3aQ3O7zS/APjCiZljYWWe7nrSpZwaqFh5xmK/fCsbWlpYmQHGAVIKTvVpRk\n",
       "jrjDhKSJnyAPR5TcfgJdbDWnW3nPtMbNw2JEHeZ9l0p8fhK/U2V1xYQwBfEWxRCvO5Ao1AsLWrja\n",
       "2U+1GhOu0thBKj4JoBFpYQHW4V1nQPDuguc4XMqqaQeZ02RQRHFGtIJESFM6rmUVqalDwohKc748\n",
       "UgiJqDWUleAkfMpm3wBn9XJaB+Du8UdweuD+hEgBjPsg9sgf+75QVuEy6epzuFBNV4R9fZaQpBQq\n",
       "fg2sW6PUrqxHIfy2hY38rj7j+C0k7CIGc68G4TTetGZtsjP3AlfE6tXIGhIWk6gak1U5PYJRXV7D\n",
       "tZjy5L/dfn+wdskrG8Yis/1FKhGryLn8fKeXv5WydOSjNwrdpTfDY82D12O0jntKT+wJsBMY/QMv\n",
       "xlA0PZ3C/2P8C14Vv1HP+Cv7AAAAAElFTkSuQmCC\n",
       "\" style=\"display:inline;vertical-align:middle;\" /></a></dd>"
      ],
      "text/plain": [
       "<IPython.core.display.HTML object>"
      ]
     },
     "metadata": {},
     "output_type": "display_data"
    },
    {
     "data": {
      "text/html": [
       "<dt><a class=\"ProveItLink\" href=\"../quantum/QPE/_theory_nbs_/axioms.ipynb#fail_def\">proveit.physics.quantum.QPE.fail_def</a></dt><dd><a class=\"ProveItLink\" href=\"../quantum/QPE/__pv_it/axioms/5cb8d5d880c6e6ff8a592ed8392fe9ba496f4edc0/expr.ipynb\"><img src=\"data:image/png;base64,iVBORw0KGgoAAAANSUhEUgAAATgAAAAUBAMAAADrSDygAAAAMFBMVEX///8QEBCIiIhmZma6urrM\n",
       "zMxUVFQiIiJERETc3Nzu7u6qqqp2dnaYmJgyMjIAAAAcRTyBAAAAAXRSTlMAQObYZgAABAlJREFU\n",
       "SMetVl1oHFUUPu7O/s3OJLUULMWHMfqgsG2X9ElsSECKfbA65KEgCMbEFIuBLOShEUtJY5VEKR36\n",
       "ogTabFutS0KaQFl/isqw2xaqUUKjYukPqbWCFtOlCY2G2njOnZ2Zu3PvTlvogXPnzrlzz/nm/Nxz\n",
       "Ae5JqRmp+JDz+Kr+0gNS1U7a8nmOBJfDNhWQf1l5f8e1PC9VB5xn3BI2uEu1JKqQ2CHa6fP39P5X\n",
       "GLg/abgLkFzHSxuqoNQ5YQMtpdcJYkGFzA7SCZ8/JocOhOzRszjE7qC9W7x41p2UhB24dPzsclAq\n",
       "qpDYIdIMjxvQ09pUCLgEuSiyiHyHF7/tTo4IO2hJF8CJKiR2WCxWeax/Nzb2UVhU2WKygtm1yGdv\n",
       "zgtiWzCxc1JwggqZHUa/+/zP0NBu8VPbmz1JQyNm1miW9wO9/ProPnR7NuiirBScoCJAZEffuxZ/\n",
       "tQwedwMMi5/6WvbT8JoN6d2xLip2Pae+iX7AafRn2IbvrCJ+nCe6xlw0IwXHVIREiOy0mApuvgIe\n",
       "Py8rOA7cOzRs7Jluzic+wTQFpQNexgzBNN3inEu5YPJMScExFSHg0I5istkXPicgwp2ysb7T8EQH\n",
       "D24NDQdI7aQrwskj6P7xAivkSsAKLVXBqcyf86anIoTQjnrqXeZjn7WZhLs+Xm6BL7V8NF/e1Ldp\n",
       "ige35NelarngxpzfCQHH05JbjKY6Ug+cg58Dl5rb7p40H47k4RsjqwlhjS3Q0FpSfmiBQoXAYexU\n",
       "JwhKzs+5P+qHlamApktGoaKvBm36WZguW8cyBoki60vMzqfOpy9wPPwGDt/uymL2IRWLBzWhICKL\n",
       "TjQjRkObysBh1qcRnOUWBH9mSAuCqVDslJGqwCD0QE/cjtt/w1skehEOMjtFdBXUFAScxF9PT4Hp\n",
       "tNmiNvFqDTgq6oblaqq1bzAccHiApK7DBDopagdgsLMlEgTHVKQWTuVxf2cKX0bzEFuGz0k0+twY\n",
       "s3PYVC/iV5s5bsQajGRsUBmgItjlGnDo3OjN2wYDp30Qr4KjYL702Htk1QzAoKXo63dbaoRVFVtX\n",
       "yPOdCuYplrz+3+UMiZQDi8yOcrWflF3nWMc0jDQbEOsfGhpEcIeoQEyxrSCmRiv5lAPOb1+fSduX\n",
       "nGJWOof7B1P/oucsVkskeoWdGl77yvnMaIKGDsdzSru8ISOmSTPRVAUX3vjrUDoLA7CsPg5dcDSe\n",
       "VY39oJPoJCTljd+hdlDycIZmPwFcqtXo9g+1t1vvfOa34wtqL/5Gsv6VKWnVBVfKWDB7vnVGw0iV\n",
       "m0Ar2ST6uukcZ4e7MlXds+sGKsX0Vva0QVx+CZTfKJP3e9m8JxU4ZwyD0FSfxpx70Gv6hYd9Tdct\n",
       "j/8Hv3RSWCdOFVUAAAAASUVORK5CYII=\n",
       "\" style=\"display:inline;vertical-align:middle;\" /></a></dd>"
      ],
      "text/plain": [
       "<IPython.core.display.HTML object>"
      ]
     },
     "metadata": {},
     "output_type": "display_data"
    },
    {
     "data": {
      "text/html": [
       "<dt><a class=\"ProveItLink\" href=\"../quantum/QPE/_theory_nbs_/axioms.ipynb#mod_add_def\">proveit.physics.quantum.QPE.mod_add_def</a></dt><dd><a class=\"ProveItLink\" href=\"../quantum/QPE/__pv_it/axioms/1087947a5a49b6001afe2bba0535bcdd73c945fb0/expr.ipynb\"><img src=\"data:image/png;base64,iVBORw0KGgoAAAANSUhEUgAAAUUAAAAbBAMAAAAZqYBdAAAAMFBMVEX///8QEBCIiIhmZma6urrM\n",
       "zMxUVFQiIiJERETc3Nzu7u6qqqp2dnaYmJgyMjIAAAAcRTyBAAAAAXRSTlMAQObYZgAABOdJREFU\n",
       "WMPVV12IG1UU/jbJbHZm87NS0Soo2dYuPuxD2EWUstr4gz6J2VK2+FATFqvWql2UitaCawuSRZQR\n",
       "wRZl6bQLpexDE2xFC4UOzZM11qhYi6gEo63Wkl3DLrW7lfWcOzPJTDITE1DQQ+7MnTv3u/Odc885\n",
       "9wT4j8rPHc7fhH8b0CTKPBCju6/N+VK6ww90DGiW3gngQboH2lwqonX4gY4BTSLfWU4iVKTeZ+0B\n",
       "hhhU9FJYdQdgugOAub+b6rpFcnTZRS1IYyUe+b6lTkt0OeL25siNdNnmDlAm2wdY7OcSgupwJoko\n",
       "a7KWHTIOfMrDl1pxDNEs/Or6qkztqDsgorYPsOSA4HgYoQWMimdWmIJnP98nW3HsIrOH47aB8Ej5\n",
       "DqO3zIxibgB85bCQNccdYElUcFwPXIcBhXQM8kKvGP4dyrXieIBmBG1WkbZBNzgHxKb2uQHwshtH\n",
       "D4CTI/nDDnUoRD0/2+4uMsqZ2dl9LUPmC2r2GRsBHTNiUyf4+pMbQJ5w4+gBcHKc07AjObaOfZG1\n",
       "6af2RyazuyXHe0zvlUeGbubnOHOU+auR8bW0A3k3ALs63sn3aw6ODsBjqzYOxO67PQHl9CCRUwpr\n",
       "UglzhVe1utkfof5WYMpaPVBx4Zih9ia1e9XIPHujyhz5h+wl5SrwA086W2Ep1wA9lKsCN2HOaUcb\n",
       "gOSlmFxNhPuwWcUe4GAOn5scA9dMr1qkSyoJ3A+lVONj2aR7dX6vFSYXDMdVbjH8ww9B8AG6ndJQ\n",
       "BT5qVIoB7O4Hi+xMdo5OwGu0iZCuYrcg8pYV1wQ2Dxd5wQz2IHz1/Pwb+/TJ4WJQDR2yEuoL1K4n\n",
       "bksI8qe6C4XC5ULhtNhUhTRONXJkQBetvEHD8+yElcrFWyuVdBOAWF2DvChRsEd1fpE1OQ5bSZ05\n",
       "8mCoGKwvTzuB8ydm0Yst0/acRhy7JpFN1u04Ld4Ell04lk2Oq6EsOu3oBJBPVIljLzGJTkrVGkef\n",
       "tYM1O8qlMerNDHAxJFUHtIAxI65bn3zd2OusjlOoc/yabn+ycfFQ3R8v1AC012SZ3nknRxugzlHY\n",
       "Ma7UOR6DbKQ6iU2W4v7U42TVnRLHkG+XLx4x8vT7SYvjU0bMZHN4js/aQE5wZE0W2OVqIQA7gGJG\n",
       "WUZ36YSDoxNgcsQqIpLAL5Y/Sjp8qjOucYySlj8ucerqiYVLIvPhUKj2yX4jlujdi2LwaeYY5rT/\n",
       "LPbSdaSRY795Hu7BN2ndwdEJEBwpdkeTuAy8ncAGMW1fIf+keaD1mdkW0RgfX7608CJ/enMmk4lB\n",
       "P4P3zKVYEdoeZXzdu7fx84xGHE+K3mDRrWJmQIBUPrzm0fGEg6MDMLay9ePf02ev6PJInvPjyJep\n",
       "G0QOX1m5YsywzhliS0tm1Z5v6RbVunLdwsofFvGJdfwmnGchhlR9rJ4KlImm8zrhdRZ6ADzrUIb9\n",
       "WFtWTT2M/VpQO4+QCF6/sIShjd5QU8iDw7YDvrlEYICzplDsRa93TdEoWYIpS7UDZvyDuzGak56h\n",
       "5d+g53NPFC5aVbrEXjHluVBzqSUAPWr7AC85x7vc8GfBsI6P/dEu271qXCEu7Ld71bheAA/ZyUks\n",
       "2VYVf7TVf4Ww6mGp6Q4AHjPZZ75rGPOq4eOd/qnrFOAuf19+2+R4p6sf/0c4ruf40/C/kL8Ak11x\n",
       "pY/WtwkAAAAASUVORK5CYII=\n",
       "\" style=\"display:inline;vertical-align:middle;\" /></a></dd>"
      ],
      "text/plain": [
       "<IPython.core.display.HTML object>"
      ]
     },
     "metadata": {},
     "output_type": "display_data"
    },
    {
     "data": {
      "text/html": [
       "<dt><a class=\"ProveItLink\" href=\"../quantum/QPE/_theory_nbs_/axioms.ipynb#alpha_def\">proveit.physics.quantum.QPE.alpha_def</a></dt><dd><a class=\"ProveItLink\" href=\"../quantum/QPE/__pv_it/axioms/18ea63c93cf88554b3a09d3a2ea679b7ea32ea200/expr.ipynb\"><img src=\"data:image/png;base64,iVBORw0KGgoAAAANSUhEUgAAAMUAAAAWBAMAAACCvEVCAAAAMFBMVEX///8QEBCIiIhmZma6urrM\n",
       "zMxUVFQiIiJERETc3Nzu7u6qqqp2dnaYmJgyMjIAAAAcRTyBAAAAAXRSTlMAQObYZgAAA0hJREFU\n",
       "SMe9lU9o01AYwL82bddkSbsJojsIQfHPQaFsigfHDCgIelgVnCehBxX1oL0NQWRzl84/kNuGIosb\n",
       "ONhhC4iH4Q7ZJqgzuqAoehgbFCuISA8buCnO73svS7s0triDj5a8vLz3/b7/D2DjwwlcjRre1Kwt\n",
       "40H1z9FM4LKsedP9+B/H/wK9zAVtlrqqMwRN6s761nYvMUakbbWAjw5ciekAr+jT1yAZCb06ow63\n",
       "pHxrStG1Y4u7AyQ0oh+fYqDG72q4cgIg6Xpcac0f4LZ1EeOEAZ0gPYUwRWwKVcEQyYHBuVaD0QvQ\n",
       "zuMbvQSWwkwKqcQYbkBGoonZAA9RhZmRkb4gEWK2OkJEAc/59BSABUM0G0gTQ15CxliGqQEJ9N2P\n",
       "XO56kIwwU2xqh/YXhoyOKGw/RNMUMUQVZ/Msr5RFZAxYzJ0g49fzhJOuVsiIkzP7NKlJMh8VaeHN\n",
       "dxr5spBLv40xTAxFJwb94CJj1P9ERrvDg66gvUeY247xg7Gt0z1urtRRkNDCnrARqXDbZzoH9SuQ\n",
       "RO0FYICj+NjEGOIvZMxrlN64KUssCv80ajXR4tTp8qBbpyHaswLQJjNz15cOGoaJJCzAGAqP2bb9\n",
       "zbYxgaLLvAZvIKPbLdNokfxKFt0F+Dg+AvVwdq26iRHCpJ6c4W4rH6TbPlYe7aZnBx4MN3DGSbMz\n",
       "skj7LM4QF6gclyHClU1ZUPIVaTlrQlIvxaNAKXUwn4ZRLA8HDhse4z3GMGMwhnin8UWaYooHmaN7\n",
       "zyGsARK8mu6ny2KOQmAS1apoASY7n9SkbfgWMRkjRfstXudSI/N4vxtzeIygcBfPbxiUvdzEM0IG\n",
       "lNko7PEzyDD0Q8yJM+MvE0NBUvK4Wt5LWKMSyDGUGnEVzuRyORWsGbjH5TAb7TlHmIKbfgYzLAtS\n",
       "82v2OmQgY4L1FB6PyJXVvMa2oM3kGAXNCp2GGBP8xIGXFb1kc9rH2CXpvHO7o1m3OpzK3s5CPOwZ\n",
       "HwaZBAkCeMVQ6olF1cdoll1nr/WVvS1mwP0RS/Oe6N4FzwBu4/PDBfvL2tUT93p7q7+fdOwE3k2r\n",
       "31Gjbm8va1AUj3+4oxS1FuPtOk03cteu17Ckail4t/D/Cf7L+AO3Pt+wGGgXMwAAAABJRU5ErkJg\n",
       "gg==\n",
       "\" style=\"display:inline;vertical-align:middle;\" /></a></dd>"
      ],
      "text/plain": [
       "<IPython.core.display.HTML object>"
      ]
     },
     "metadata": {},
     "output_type": "display_data"
    }
   ],
   "source": [
    "import proveit\n",
    "%theory # toggles between interactive and static modes"
   ]
  },
  {
   "cell_type": "code",
   "execution_count": null,
   "metadata": {},
   "outputs": [],
   "source": []
  }
 ],
 "metadata": {
  "kernelspec": {
   "display_name": "Python 3",
   "language": "python",
   "name": "python3"
  }
 },
 "nbformat": 4,
 "nbformat_minor": 0
}