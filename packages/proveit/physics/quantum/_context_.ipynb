{
 "cells": [
  {
   "cell_type": "markdown",
   "metadata": {},
   "source": [
    "Context: <a class=\"ProveItLink\" href=\"../../_context_.ipynb\">proveit</a>.<a class=\"ProveItLink\" href=\"../_context_.ipynb\">physics</a>.quantum\n",
    "========\n",
    "\n",
    "Provide description here."
   ]
  },
  {
   "cell_type": "code",
   "execution_count": 1,
   "metadata": {},
   "outputs": [
    {
     "data": {
      "text/html": [
       "<table><tr>\n",
       "<th><a class=\"ProveItLink\" href=\"_common_.ipynb\">common expressions</a></th>\n",
       "<th><a class=\"ProveItLink\" href=\"_axioms_.ipynb\">axioms</a></th>\n",
       "<th><a class=\"ProveItLink\" href=\"_theorems_.ipynb\">theorems</a></th>\n",
       "<th><a class=\"ProveItLink\" href=\"_demonstrations_.ipynb\">demonstrations</a></th>\n",
       "</tr></table>\n",
       "<table>\n",
       "<tr><th><a class=\"ProveItLink\" href=\"QFT/_context_.ipynb\">QFT</a></th><td>For work related to Nielsen & Chuang's quantum fourier transform (QFT) alg'm</td></tr>\n",
       "<tr><th><a class=\"ProveItLink\" href=\"QPE/_context_.ipynb\">QPE</a></th><td>For work related to Nielsen & Chuang's quantum phase estimation (QPE) alg'm</td></tr>\n",
       "</table>\n"
      ],
      "text/plain": [
       "<IPython.core.display.HTML object>"
      ]
     },
     "metadata": {},
     "output_type": "display_data"
    }
   ],
   "source": [
    "import proveit\n",
    "%context # toggles between interactive and static modes"
   ]
  },
  {
   "cell_type": "code",
   "execution_count": null,
   "metadata": {},
   "outputs": [],
   "source": []
  }
 ],
 "metadata": {
  "kernelspec": {
   "display_name": "Python 3",
   "language": "python",
   "name": "python3"
  }
 },
 "nbformat": 4,
 "nbformat_minor": 0
}
