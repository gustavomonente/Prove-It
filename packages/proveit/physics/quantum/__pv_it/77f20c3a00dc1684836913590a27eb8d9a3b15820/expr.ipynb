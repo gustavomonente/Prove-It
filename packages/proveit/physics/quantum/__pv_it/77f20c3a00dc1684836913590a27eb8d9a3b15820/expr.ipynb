{
 "cells": [
  {
   "cell_type": "markdown",
   "metadata": {},
   "source": [
    "Expression of type <a class=\"ProveItLink\" href=\"../../../../../../doc/html/api/proveit.Conditional.html\">Conditional</a>\n",
    "=======================\n",
    "# from context <a class=\"ProveItLink\" href=\"../../_context_.ipynb\">proveit.physics.quantum</a>"
   ]
  },
  {
   "cell_type": "code",
   "execution_count": 1,
   "metadata": {},
   "outputs": [],
   "source": [
    "import proveit\n",
    "# Automation is not needed when building an expression:\n",
    "proveit.defaults.automation = False # This will speed things up.\n",
    "proveit.defaults.inline_pngs = False # Makes files smaller.\n",
    "# import Expression classes needed to build the expression\n",
    "from proveit import Conditional\n",
    "from proveit._common_ import Psi, k, n\n",
    "from proveit.linalg import MatrixProd, TensorExp\n",
    "from proveit.logic import Forall, InSet\n",
    "from proveit.number import Add, Complexes, Exp, Interval, Neg, one, two, zero\n",
    "from proveit.physics.quantum import Ket, RegisterBra"
   ]
  },
  {
   "cell_type": "code",
   "execution_count": 2,
   "metadata": {},
   "outputs": [
    {
     "data": {
      "text/html": [
       "<strong id=\"expr\">expr:</strong> <a class=\"ProveItLink\" href=\"expr.ipynb\"><img src=\"expr.png\" style=\"display:inline;vertical-align:middle;\" /></a><br>"
      ],
      "text/plain": [
       "expr: {forall_{Psi | |Psi〉 in (Complexes^{2})^{otimes n}} ({n}_〈k|Psi〉 in Complexes) if k in {0...2^{n} - 1}."
      ]
     },
     "execution_count": 2,
     "metadata": {},
     "output_type": "execute_result"
    }
   ],
   "source": [
    "# build up the expression from sub-expressions\n",
    "subExpr1 = Ket(Psi)\n",
    "expr = Conditional(Forall([Psi], InSet(MatrixProd(RegisterBra(k, n), subExpr1), Complexes), condition = InSet(subExpr1, TensorExp([Exp(Complexes, two)], n))), InSet(k, Interval(zero, Add(Exp(two, n), Neg(one)))))"
   ]
  },
  {
   "cell_type": "code",
   "execution_count": 3,
   "metadata": {},
   "outputs": [
    {
     "name": "stdout",
     "output_type": "stream",
     "text": [
      "Passed sanity check: built 'expr' is the same as the stored Expression.\n"
     ]
    }
   ],
   "source": [
    "# check that the built expression is the same as the stored expression\n",
    "%check_expr"
   ]
  },
  {
   "cell_type": "code",
   "execution_count": 4,
   "metadata": {},
   "outputs": [
    {
     "name": "stdout",
     "output_type": "stream",
     "text": [
      "\\left\\{\\forall_{\\Psi~|~\\lvert \\Psi \\rangle \\in \\left(\\mathbb{C}^{2}\\right)^{\\otimes n}}~\\left({_{n}}\\langle k \\rvert\\Psi \\rangle \\in \\mathbb{C}\\right) \\textrm{ if } k \\in \\{0 \\dots 2^{n} - 1\\}\\right..\n"
     ]
    }
   ],
   "source": [
    "# Show the LaTeX representation of the expression for convenience if you need it.\n",
    "print(expr.latex())"
   ]
  },
  {
   "cell_type": "code",
   "execution_count": 5,
   "metadata": {},
   "outputs": [
    {
     "data": {
      "text/html": [
       "<table><tr><th>&nbsp;</th><th>core type</th><th>sub-expressions</th><th>expression</th></tr>\n",
       "<tr><td>0</td><td>Conditional</td><td>value:&nbsp;1<br>condition:&nbsp;2<br></td><td><a class=\"ProveItLink\" href=\"expr.ipynb\"><img src=\"expr.png\" style=\"display:inline;vertical-align:middle;\" /></a></td></tr>\n",
       "<tr><td>1</td><td>Operation</td><td>operator:&nbsp;3<br>operand:&nbsp;4<br></td><td><a class=\"ProveItLink\" href=\"../94f335fcb85252dcc12830a43455a634f27469e70/expr.ipynb\"><img src=\"../94f335fcb85252dcc12830a43455a634f27469e70/expr.png\" style=\"display:inline;vertical-align:middle;\" /></a></td></tr>\n",
       "<tr><td>2</td><td>Operation</td><td>operator:&nbsp;13<br>operands:&nbsp;5<br></td><td><a class=\"ProveItLink\" href=\"../5aeef31afe4cf4712f894a3668329abb829b155c0/expr.ipynb\"><img src=\"../5aeef31afe4cf4712f894a3668329abb829b155c0/expr.png\" style=\"display:inline;vertical-align:middle;\" /></a></td></tr>\n",
       "<tr><td>3</td><td>Literal</td><td></td><td><a class=\"ProveItLink\" href=\"../../../../logic/boolean/quantification/universal/__pv_it/fd9c772d6675566ed52a6897806f45eb08a4ea910/expr.ipynb\"><img src=\"../../../../logic/boolean/quantification/universal/__pv_it/fd9c772d6675566ed52a6897806f45eb08a4ea910/expr.png\" style=\"display:inline;vertical-align:middle;\" /></a></td></tr>\n",
       "<tr><td>4</td><td>Lambda</td><td>parameter:&nbsp;36<br>body:&nbsp;6<br></td><td><a class=\"ProveItLink\" href=\"../94c9da03e7d5be1b6fb500c191d2a59b81c622190/expr.ipynb\"><img src=\"../94c9da03e7d5be1b6fb500c191d2a59b81c622190/expr.png\" style=\"display:inline;vertical-align:middle;\" /></a></td></tr>\n",
       "<tr><td>5</td><td>ExprTuple</td><td>38, 7</td><td><a class=\"ProveItLink\" href=\"../f2976f96ab3c486af84769f76afa09b07374f7590/expr.ipynb\"><img src=\"../f2976f96ab3c486af84769f76afa09b07374f7590/expr.png\" style=\"display:inline;vertical-align:middle;\" /></a></td></tr>\n",
       "<tr><td>6</td><td>Conditional</td><td>value:&nbsp;8<br>condition:&nbsp;9<br></td><td><a class=\"ProveItLink\" href=\"../ca280cb0054712c3581df6cbcd5bdf80dc8fa2040/expr.ipynb\"><img src=\"../ca280cb0054712c3581df6cbcd5bdf80dc8fa2040/expr.png\" style=\"display:inline;vertical-align:middle;\" /></a></td></tr>\n",
       "<tr><td>7</td><td>Operation</td><td>operator:&nbsp;10<br>operands:&nbsp;11<br></td><td><a class=\"ProveItLink\" href=\"../366d82b2c715330d5032a1968308e40f62ea96b20/expr.ipynb\"><img src=\"../366d82b2c715330d5032a1968308e40f62ea96b20/expr.png\" style=\"display:inline;vertical-align:middle;\" /></a></td></tr>\n",
       "<tr><td>8</td><td>Operation</td><td>operator:&nbsp;13<br>operands:&nbsp;12<br></td><td><a class=\"ProveItLink\" href=\"../e8c86fb9f4cb7a0fc93e795167820cfe05ee57ff0/expr.ipynb\"><img src=\"../e8c86fb9f4cb7a0fc93e795167820cfe05ee57ff0/expr.png\" style=\"display:inline;vertical-align:middle;\" /></a></td></tr>\n",
       "<tr><td>9</td><td>Operation</td><td>operator:&nbsp;13<br>operands:&nbsp;14<br></td><td><a class=\"ProveItLink\" href=\"../66029d7cddbfa9b269d2e3e253fc99bbaac8870c0/expr.ipynb\"><img src=\"../66029d7cddbfa9b269d2e3e253fc99bbaac8870c0/expr.png\" style=\"display:inline;vertical-align:middle;\" /></a></td></tr>\n",
       "<tr><td>10</td><td>Literal</td><td></td><td><a class=\"ProveItLink\" href=\"../../../../number/sets/integer/__pv_it/9c81416d3aeee14eb5f33b511a478176b3f50d040/expr.ipynb\"><img src=\"../../../../number/sets/integer/__pv_it/9c81416d3aeee14eb5f33b511a478176b3f50d040/expr.png\" style=\"display:inline;vertical-align:middle;\" /></a></td></tr>\n",
       "<tr><td>11</td><td>ExprTuple</td><td>15, 16</td><td><a class=\"ProveItLink\" href=\"../22c0b4d36de7fe2c8b65b54ca595fc51fb3fcbca0/expr.ipynb\"><img src=\"../22c0b4d36de7fe2c8b65b54ca595fc51fb3fcbca0/expr.png\" style=\"display:inline;vertical-align:middle;\" /></a></td></tr>\n",
       "<tr><td>12</td><td>ExprTuple</td><td>17, 42</td><td><a class=\"ProveItLink\" href=\"../d676d366328e53b1e09be22aaf06c58cb75725a50/expr.ipynb\"><img src=\"../d676d366328e53b1e09be22aaf06c58cb75725a50/expr.png\" style=\"display:inline;vertical-align:middle;\" /></a></td></tr>\n",
       "<tr><td>13</td><td>Literal</td><td></td><td><a class=\"ProveItLink\" href=\"../../../../logic/set_theory/membership/__pv_it/7776fc89cb67d0b5b1ec2c0c8e08da5587921ccf0/expr.ipynb\"><img src=\"../../../../logic/set_theory/membership/__pv_it/7776fc89cb67d0b5b1ec2c0c8e08da5587921ccf0/expr.png\" style=\"display:inline;vertical-align:middle;\" /></a></td></tr>\n",
       "<tr><td>14</td><td>ExprTuple</td><td>28, 18</td><td><a class=\"ProveItLink\" href=\"../83bb57d29d5dfdb69afb3ac8d33ce713ba0c75bf0/expr.ipynb\"><img src=\"../83bb57d29d5dfdb69afb3ac8d33ce713ba0c75bf0/expr.png\" style=\"display:inline;vertical-align:middle;\" /></a></td></tr>\n",
       "<tr><td>15</td><td>Literal</td><td></td><td><a class=\"ProveItLink\" href=\"../../../../number/numeral/__pv_it/bcb6bc33e5975ec2290a3272bf7802d26ab8421d0/expr.ipynb\"><img src=\"../../../../number/numeral/__pv_it/bcb6bc33e5975ec2290a3272bf7802d26ab8421d0/expr.png\" style=\"display:inline;vertical-align:middle;\" /></a></td></tr>\n",
       "<tr><td>16</td><td>Operation</td><td>operator:&nbsp;19<br>operands:&nbsp;20<br></td><td><a class=\"ProveItLink\" href=\"../6b85dbc93c03941d5854fe51c41d6295004065c00/expr.ipynb\"><img src=\"../6b85dbc93c03941d5854fe51c41d6295004065c00/expr.png\" style=\"display:inline;vertical-align:middle;\" /></a></td></tr>\n",
       "<tr><td>17</td><td>Operation</td><td>operator:&nbsp;21<br>operands:&nbsp;22<br></td><td><a class=\"ProveItLink\" href=\"../3bb13b96c25bdee0c34af11131d9d50fff65d0420/expr.ipynb\"><img src=\"../3bb13b96c25bdee0c34af11131d9d50fff65d0420/expr.png\" style=\"display:inline;vertical-align:middle;\" /></a></td></tr>\n",
       "<tr><td>18</td><td>Operation</td><td>operator:&nbsp;23<br>operands:&nbsp;24<br></td><td><a class=\"ProveItLink\" href=\"../0c92eeb8d0f65912bbd2b5a86bd978b0b123a29c0/expr.ipynb\"><img src=\"../0c92eeb8d0f65912bbd2b5a86bd978b0b123a29c0/expr.png\" style=\"display:inline;vertical-align:middle;\" /></a></td></tr>\n",
       "<tr><td>19</td><td>Literal</td><td></td><td><a class=\"ProveItLink\" href=\"../../../../number/addition/__pv_it/65ad7e8aee19b10110d590375ba95a879c4fb7ea0/expr.ipynb\"><img src=\"../../../../number/addition/__pv_it/65ad7e8aee19b10110d590375ba95a879c4fb7ea0/expr.png\" style=\"display:inline;vertical-align:middle;\" /></a></td></tr>\n",
       "<tr><td>20</td><td>ExprTuple</td><td>25, 26</td><td><a class=\"ProveItLink\" href=\"../682ce8e3a8832ab811ffc8bfb94201b355fe10790/expr.ipynb\"><img src=\"../682ce8e3a8832ab811ffc8bfb94201b355fe10790/expr.png\" style=\"display:inline;vertical-align:middle;\" /></a></td></tr>\n",
       "<tr><td>21</td><td>Literal</td><td></td><td><a class=\"ProveItLink\" href=\"../../../../linalg/__pv_it/d1db02c5be16952dc958ba9d03a61120dae3abaf0/expr.ipynb\"><img src=\"../../../../linalg/__pv_it/d1db02c5be16952dc958ba9d03a61120dae3abaf0/expr.png\" style=\"display:inline;vertical-align:middle;\" /></a></td></tr>\n",
       "<tr><td>22</td><td>ExprTuple</td><td>27, 28</td><td><a class=\"ProveItLink\" href=\"../18e2ded12a340b01a37e1ca9ed21eb1c0f5f35bb0/expr.ipynb\"><img src=\"../18e2ded12a340b01a37e1ca9ed21eb1c0f5f35bb0/expr.png\" style=\"display:inline;vertical-align:middle;\" /></a></td></tr>\n",
       "<tr><td>23</td><td>Literal</td><td></td><td><a class=\"ProveItLink\" href=\"../../../../linalg/__pv_it/230bb884f51269dda5f2c8bbaaa46c9631654f4f0/expr.ipynb\"><img src=\"../../../../linalg/__pv_it/230bb884f51269dda5f2c8bbaaa46c9631654f4f0/expr.png\" style=\"display:inline;vertical-align:middle;\" /></a></td></tr>\n",
       "<tr><td>24</td><td>ExprTuple</td><td>29, 39</td><td><a class=\"ProveItLink\" href=\"../870610418acde83f35b78e7559782a9952c1dd460/expr.ipynb\"><img src=\"../870610418acde83f35b78e7559782a9952c1dd460/expr.png\" style=\"display:inline;vertical-align:middle;\" /></a></td></tr>\n",
       "<tr><td>25</td><td>Operation</td><td>operator:&nbsp;40<br>operands:&nbsp;30<br></td><td><a class=\"ProveItLink\" href=\"../f206c3fa941e340adca6e5e04c111df1cd60a1990/expr.ipynb\"><img src=\"../f206c3fa941e340adca6e5e04c111df1cd60a1990/expr.png\" style=\"display:inline;vertical-align:middle;\" /></a></td></tr>\n",
       "<tr><td>26</td><td>Operation</td><td>operator:&nbsp;31<br>operand:&nbsp;32<br></td><td><a class=\"ProveItLink\" href=\"../01559348096b98a1dd2ebcf5c288189c829b18930/expr.ipynb\"><img src=\"../01559348096b98a1dd2ebcf5c288189c829b18930/expr.png\" style=\"display:inline;vertical-align:middle;\" /></a></td></tr>\n",
       "<tr><td>27</td><td>Operation</td><td>operator:&nbsp;33<br>operands:&nbsp;34<br></td><td><a class=\"ProveItLink\" href=\"../8b50496db05cf2d2ec339b906b3adb38827f16180/expr.ipynb\"><img src=\"../8b50496db05cf2d2ec339b906b3adb38827f16180/expr.png\" style=\"display:inline;vertical-align:middle;\" /></a></td></tr>\n",
       "<tr><td>28</td><td>Operation</td><td>operator:&nbsp;35<br>operand:&nbsp;36<br></td><td><a class=\"ProveItLink\" href=\"../1487d0df969d40b8b0ec82b60591d05557d2337a0/expr.ipynb\"><img src=\"../1487d0df969d40b8b0ec82b60591d05557d2337a0/expr.png\" style=\"display:inline;vertical-align:middle;\" /></a></td></tr>\n",
       "<tr><td>29</td><td>ExprTuple</td><td>37</td><td><a class=\"ProveItLink\" href=\"../bdbcc65598f921dbb6757fc76b47a72396765cdc0/expr.ipynb\"><img src=\"../bdbcc65598f921dbb6757fc76b47a72396765cdc0/expr.png\" style=\"display:inline;vertical-align:middle;\" /></a></td></tr>\n",
       "<tr><td>30</td><td>ExprTuple</td><td>43, 39</td><td><a class=\"ProveItLink\" href=\"../b88156840bda2ad241811d07ac6231d5d956e29c0/expr.ipynb\"><img src=\"../b88156840bda2ad241811d07ac6231d5d956e29c0/expr.png\" style=\"display:inline;vertical-align:middle;\" /></a></td></tr>\n",
       "<tr><td>31</td><td>Literal</td><td></td><td><a class=\"ProveItLink\" href=\"../../../../number/negation/__pv_it/2867787e35502987d81a45cac8e7f1c6996d6ff40/expr.ipynb\"><img src=\"../../../../number/negation/__pv_it/2867787e35502987d81a45cac8e7f1c6996d6ff40/expr.png\" style=\"display:inline;vertical-align:middle;\" /></a></td></tr>\n",
       "<tr><td>32</td><td>Literal</td><td></td><td><a class=\"ProveItLink\" href=\"../../../../number/numeral/__pv_it/f086f8c372bd40a2458306ddfdbb29f3dc6f63030/expr.ipynb\"><img src=\"../../../../number/numeral/__pv_it/f086f8c372bd40a2458306ddfdbb29f3dc6f63030/expr.png\" style=\"display:inline;vertical-align:middle;\" /></a></td></tr>\n",
       "<tr><td>33</td><td>Literal</td><td></td><td><a class=\"ProveItLink\" href=\"../a1cb21884852377c89d5e943c2d36374d05265870/expr.ipynb\"><img src=\"../a1cb21884852377c89d5e943c2d36374d05265870/expr.png\" style=\"display:inline;vertical-align:middle;\" /></a></td></tr>\n",
       "<tr><td>34</td><td>ExprTuple</td><td>38, 39</td><td><a class=\"ProveItLink\" href=\"../1f3375ebe309dfa0f8cda6e044a162ea7766e0ca0/expr.ipynb\"><img src=\"../1f3375ebe309dfa0f8cda6e044a162ea7766e0ca0/expr.png\" style=\"display:inline;vertical-align:middle;\" /></a></td></tr>\n",
       "<tr><td>35</td><td>Literal</td><td></td><td><a class=\"ProveItLink\" href=\"../8aef81a4e336b372b4f04cd37a0a7ab8466ca20c0/expr.ipynb\"><img src=\"../8aef81a4e336b372b4f04cd37a0a7ab8466ca20c0/expr.png\" style=\"display:inline;vertical-align:middle;\" /></a></td></tr>\n",
       "<tr><td>36</td><td>Variable</td><td></td><td><a class=\"ProveItLink\" href=\"../../../../__pv_it/6359968f57a65c00bc20fb395561c6d8924782720/expr.ipynb\"><img src=\"../../../../__pv_it/6359968f57a65c00bc20fb395561c6d8924782720/expr.png\" style=\"display:inline;vertical-align:middle;\" /></a></td></tr>\n",
       "<tr><td>37</td><td>Operation</td><td>operator:&nbsp;40<br>operands:&nbsp;41<br></td><td><a class=\"ProveItLink\" href=\"../e79e1533ca9493182a2c7c561c1c6239ee619b750/expr.ipynb\"><img src=\"../e79e1533ca9493182a2c7c561c1c6239ee619b750/expr.png\" style=\"display:inline;vertical-align:middle;\" /></a></td></tr>\n",
       "<tr><td>38</td><td>Variable</td><td></td><td><a class=\"ProveItLink\" href=\"../../../../__pv_it/273f49450ca25e1b56abbd98a7aef618f8f6c1360/expr.ipynb\"><img src=\"../../../../__pv_it/273f49450ca25e1b56abbd98a7aef618f8f6c1360/expr.png\" style=\"display:inline;vertical-align:middle;\" /></a></td></tr>\n",
       "<tr><td>39</td><td>Variable</td><td></td><td><a class=\"ProveItLink\" href=\"../../../../__pv_it/0c1c4cb515e0f4344b1ac06650f349123e526deb0/expr.ipynb\"><img src=\"../../../../__pv_it/0c1c4cb515e0f4344b1ac06650f349123e526deb0/expr.png\" style=\"display:inline;vertical-align:middle;\" /></a></td></tr>\n",
       "<tr><td>40</td><td>Literal</td><td></td><td><a class=\"ProveItLink\" href=\"../../../../number/exponentiation/__pv_it/fca8e4218e687a7bc372d4b4009101e95bae518f0/expr.ipynb\"><img src=\"../../../../number/exponentiation/__pv_it/fca8e4218e687a7bc372d4b4009101e95bae518f0/expr.png\" style=\"display:inline;vertical-align:middle;\" /></a></td></tr>\n",
       "<tr><td>41</td><td>ExprTuple</td><td>42, 43</td><td><a class=\"ProveItLink\" href=\"../d4fa085c028aa5a13bc16ef4af19f1a4367a869f0/expr.ipynb\"><img src=\"../d4fa085c028aa5a13bc16ef4af19f1a4367a869f0/expr.png\" style=\"display:inline;vertical-align:middle;\" /></a></td></tr>\n",
       "<tr><td>42</td><td>Literal</td><td></td><td><a class=\"ProveItLink\" href=\"../../../../number/sets/complex/__pv_it/8a5866946d766bfd951bcdff07a1a39af0935c430/expr.ipynb\"><img src=\"../../../../number/sets/complex/__pv_it/8a5866946d766bfd951bcdff07a1a39af0935c430/expr.png\" style=\"display:inline;vertical-align:middle;\" /></a></td></tr>\n",
       "<tr><td>43</td><td>Literal</td><td></td><td><a class=\"ProveItLink\" href=\"../../../../number/numeral/__pv_it/fb4ccffdbfd0f653ebaacb95e7ff4802fd48a6f20/expr.ipynb\"><img src=\"../../../../number/numeral/__pv_it/fb4ccffdbfd0f653ebaacb95e7ff4802fd48a6f20/expr.png\" style=\"display:inline;vertical-align:middle;\" /></a></td></tr>\n",
       "</table>\n"
      ],
      "text/plain": [
       "0. {forall_{Psi | |Psi〉 in (Complexes^{2})^{otimes n}} ({n}_〈k|Psi〉 in Complexes) if k in {0...2^{n} - 1}.\n",
       "   core type: Conditional\n",
       "   value: 1\n",
       "   condition: 2\n",
       "1. forall_{Psi | |Psi〉 in (Complexes^{2})^{otimes n}} ({n}_〈k|Psi〉 in Complexes)\n",
       "   core type: Operation\n",
       "   operator: 3\n",
       "   operand: 4\n",
       "2. k in {0...2^{n} - 1}\n",
       "   core type: Operation\n",
       "   operator: 13\n",
       "   operands: 5\n",
       "3. forall\n",
       "   core type: Literal\n",
       "   sub-expressions: \n",
       "4. Psi -> {{n}_〈k|Psi〉 in Complexes if |Psi〉 in (Complexes^{2})^{otimes n}.\n",
       "   core type: Lambda\n",
       "   parameter: 36\n",
       "   body: 6\n",
       "5. (k, {0...2^{n} - 1})\n",
       "   core type: ExprTuple\n",
       "   sub-expressions: 38, 7\n",
       "6. {{n}_〈k|Psi〉 in Complexes if |Psi〉 in (Complexes^{2})^{otimes n}.\n",
       "   core type: Conditional\n",
       "   value: 8\n",
       "   condition: 9\n",
       "7. {0...2^{n} - 1}\n",
       "   core type: Operation\n",
       "   operator: 10\n",
       "   operands: 11\n",
       "8. {n}_〈k|Psi〉 in Complexes\n",
       "   core type: Operation\n",
       "   operator: 13\n",
       "   operands: 12\n",
       "9. |Psi〉 in (Complexes^{2})^{otimes n}\n",
       "   core type: Operation\n",
       "   operator: 13\n",
       "   operands: 14\n",
       "10. Interval\n",
       "    core type: Literal\n",
       "    sub-expressions: \n",
       "11. (0, 2^{n} - 1)\n",
       "    core type: ExprTuple\n",
       "    sub-expressions: 15, 16\n",
       "12. ({n}_〈k|Psi〉, Complexes)\n",
       "    core type: ExprTuple\n",
       "    sub-expressions: 17, 42\n",
       "13. in\n",
       "    core type: Literal\n",
       "    sub-expressions: \n",
       "14. (|Psi〉, (Complexes^{2})^{otimes n})\n",
       "    core type: ExprTuple\n",
       "    sub-expressions: 28, 18\n",
       "15. 0\n",
       "    core type: Literal\n",
       "    sub-expressions: \n",
       "16. 2^{n} - 1\n",
       "    core type: Operation\n",
       "    operator: 19\n",
       "    operands: 20\n",
       "17. {n}_〈k| . |Psi〉\n",
       "    core type: Operation\n",
       "    operator: 21\n",
       "    operands: 22\n",
       "18. (Complexes^{2})^{otimes n}\n",
       "    core type: Operation\n",
       "    operator: 23\n",
       "    operands: 24\n",
       "19. +\n",
       "    core type: Literal\n",
       "    sub-expressions: \n",
       "20. (2^{n}, -1)\n",
       "    core type: ExprTuple\n",
       "    sub-expressions: 25, 26\n",
       "21. .\n",
       "    core type: Literal\n",
       "    sub-expressions: \n",
       "22. ({n}_〈k|, |Psi〉)\n",
       "    core type: ExprTuple\n",
       "    sub-expressions: 27, 28\n",
       "23. otimes\n",
       "    core type: Literal\n",
       "    sub-expressions: \n",
       "24. ((Complexes^{2}), n)\n",
       "    core type: ExprTuple\n",
       "    sub-expressions: 29, 39\n",
       "25. 2^{n}\n",
       "    core type: Operation\n",
       "    operator: 40\n",
       "    operands: 30\n",
       "26. -1\n",
       "    core type: Operation\n",
       "    operator: 31\n",
       "    operand: 32\n",
       "27. {n}_〈k|\n",
       "    core type: Operation\n",
       "    operator: 33\n",
       "    operands: 34\n",
       "28. |Psi〉\n",
       "    core type: Operation\n",
       "    operator: 35\n",
       "    operand: 36\n",
       "29. (Complexes^{2})\n",
       "    core type: ExprTuple\n",
       "    sub-expressions: 37\n",
       "30. (2, n)\n",
       "    core type: ExprTuple\n",
       "    sub-expressions: 43, 39\n",
       "31. -\n",
       "    core type: Literal\n",
       "    sub-expressions: \n",
       "32. 1\n",
       "    core type: Literal\n",
       "    sub-expressions: \n",
       "33. REGISTER_BRA\n",
       "    core type: Literal\n",
       "    sub-expressions: \n",
       "34. (k, n)\n",
       "    core type: ExprTuple\n",
       "    sub-expressions: 38, 39\n",
       "35. KET\n",
       "    core type: Literal\n",
       "    sub-expressions: \n",
       "36. Psi\n",
       "    core type: Variable\n",
       "    sub-expressions: \n",
       "37. Complexes^{2}\n",
       "    core type: Operation\n",
       "    operator: 40\n",
       "    operands: 41\n",
       "38. k\n",
       "    core type: Variable\n",
       "    sub-expressions: \n",
       "39. n\n",
       "    core type: Variable\n",
       "    sub-expressions: \n",
       "40. Exp\n",
       "    core type: Literal\n",
       "    sub-expressions: \n",
       "41. (Complexes, 2)\n",
       "    core type: ExprTuple\n",
       "    sub-expressions: 42, 43\n",
       "42. Complexes\n",
       "    core type: Literal\n",
       "    sub-expressions: \n",
       "43. 2\n",
       "    core type: Literal\n",
       "    sub-expressions: "
      ]
     },
     "execution_count": 5,
     "metadata": {},
     "output_type": "execute_result"
    }
   ],
   "source": [
    "# display the expression information\n",
    "expr.exprInfo()"
   ]
  },
  {
   "cell_type": "code",
   "execution_count": null,
   "metadata": {},
   "outputs": [],
   "source": []
  }
 ],
 "metadata": {
  "kernelspec": {
   "display_name": "Python 3",
   "language": "python",
   "name": "python3"
  },
  "language_info": {
   "codemirror_mode": {
    "name": "ipython",
    "version": 3
   },
   "file_extension": ".py",
   "mimetype": "text/x-python",
   "name": "python",
   "nbconvert_exporter": "python",
   "pygments_lexer": "ipython3",
   "version": "3.7.3"
  }
 },
 "nbformat": 4,
 "nbformat_minor": 1
}
