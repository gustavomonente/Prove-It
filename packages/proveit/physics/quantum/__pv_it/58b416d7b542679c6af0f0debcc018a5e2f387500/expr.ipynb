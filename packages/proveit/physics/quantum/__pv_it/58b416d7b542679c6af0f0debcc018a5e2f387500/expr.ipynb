{
 "cells": [
  {
   "cell_type": "markdown",
   "metadata": {},
   "source": [
    "Expression of type <a class=\"ProveItLink\" href=\"../../../../../../doc/html/api/proveit.Conditional.html\">Conditional</a>\n",
    "=======================\n",
    "# from context <a class=\"ProveItLink\" href=\"../../_context_.ipynb\">proveit.physics.quantum</a>"
   ]
  },
  {
   "cell_type": "code",
   "execution_count": 1,
   "metadata": {},
   "outputs": [],
   "source": [
    "import proveit\n",
    "# Automation is not needed when building an expression:\n",
    "proveit.defaults.automation = False # This will speed things up.\n",
    "proveit.defaults.inline_pngs = False # Makes files smaller.\n",
    "# import Expression classes needed to build the expression\n",
    "from proveit import Conditional\n",
    "from proveit._common_ import Psi, k, m, n\n",
    "from proveit.linalg import MatrixProd, TensorExp\n",
    "from proveit.logic import And, Equals, InSet\n",
    "from proveit.number import Abs, Complexes, Exp, two\n",
    "from proveit.physics.quantum import Ket, Meas, RegisterBra\n",
    "from proveit.statistics import Prob"
   ]
  },
  {
   "cell_type": "code",
   "execution_count": 2,
   "metadata": {},
   "outputs": [
    {
     "data": {
      "text/html": [
       "<strong id=\"expr\">expr:</strong> <a class=\"ProveItLink\" href=\"expr.ipynb\"><img src=\"expr.png\" style=\"display:inline;vertical-align:middle;\" /></a><br>"
      ],
      "text/plain": [
       "expr: {Pr_{m}[m = k] = |{n}_〈k| . |Psi〉|^{2} if |Psi〉 in (Complexes^{2})^{otimes n} ,  m = MEAS(|Psi〉)."
      ]
     },
     "execution_count": 2,
     "metadata": {},
     "output_type": "execute_result"
    }
   ],
   "source": [
    "# build up the expression from sub-expressions\n",
    "subExpr1 = Ket(Psi)\n",
    "expr = Conditional(Equals(Prob(Equals(m, k), m), Exp(Abs(MatrixProd(RegisterBra(k, n), subExpr1)), two)), And(InSet(subExpr1, TensorExp([Exp(Complexes, two)], n)), Equals(m, Meas(subExpr1))))"
   ]
  },
  {
   "cell_type": "code",
   "execution_count": 3,
   "metadata": {},
   "outputs": [
    {
     "name": "stdout",
     "output_type": "stream",
     "text": [
      "Passed sanity check: built 'expr' is the same as the stored Expression.\n"
     ]
    }
   ],
   "source": [
    "# check that the built expression is the same as the stored expression\n",
    "%check_expr"
   ]
  },
  {
   "cell_type": "code",
   "execution_count": 4,
   "metadata": {},
   "outputs": [
    {
     "name": "stdout",
     "output_type": "stream",
     "text": [
      "\\left\\{Pr_{m}[m = k] = \\left|{_{n}}\\langle k \\rvert \\thinspace \\lvert \\Psi \\rangle\\right|^{2} \\textrm{ if } \\lvert \\Psi \\rangle \\in \\left(\\mathbb{C}^{2}\\right)^{\\otimes n} ,  m = \\mathcal{M}(\\lvert \\Psi \\rangle)\\right..\n"
     ]
    }
   ],
   "source": [
    "# Show the LaTeX representation of the expression for convenience if you need it.\n",
    "print(expr.latex())"
   ]
  },
  {
   "cell_type": "code",
   "execution_count": 5,
   "metadata": {},
   "outputs": [
    {
     "data": {
      "text/html": [
       "<table><tr><th>&nbsp;</th><th>core type</th><th>sub-expressions</th><th>expression</th></tr>\n",
       "<tr><td>0</td><td>Conditional</td><td>value:&nbsp;1<br>condition:&nbsp;2<br></td><td><a class=\"ProveItLink\" href=\"expr.ipynb\"><img src=\"expr.png\" style=\"display:inline;vertical-align:middle;\" /></a></td></tr>\n",
       "<tr><td>1</td><td>Operation</td><td>operator:&nbsp;20<br>operands:&nbsp;3<br></td><td><a class=\"ProveItLink\" href=\"../79ce9539321dc03742b68c5d8e6a4a2dbd5030a70/expr.ipynb\"><img src=\"../79ce9539321dc03742b68c5d8e6a4a2dbd5030a70/expr.png\" style=\"display:inline;vertical-align:middle;\" /></a></td></tr>\n",
       "<tr><td>2</td><td>Operation</td><td>operator:&nbsp;4<br>operands:&nbsp;5<br></td><td><a class=\"ProveItLink\" href=\"../89dee1661b540a983cc2da42c8d099c5300498ce0/expr.ipynb\"><img src=\"../89dee1661b540a983cc2da42c8d099c5300498ce0/expr.png\" style=\"display:inline;vertical-align:middle;\" /></a></td></tr>\n",
       "<tr><td>3</td><td>ExprTuple</td><td>6, 7</td><td><a class=\"ProveItLink\" href=\"../e6f32a437eddb02ff4534f706f58c27e738b04c10/expr.ipynb\"><img src=\"../e6f32a437eddb02ff4534f706f58c27e738b04c10/expr.png\" style=\"display:inline;vertical-align:middle;\" /></a></td></tr>\n",
       "<tr><td>4</td><td>Literal</td><td></td><td><a class=\"ProveItLink\" href=\"../../../../logic/boolean/conjunction/__pv_it/f41cc6b553210927c09f19a8a39cdf860a5585930/expr.ipynb\"><img src=\"../../../../logic/boolean/conjunction/__pv_it/f41cc6b553210927c09f19a8a39cdf860a5585930/expr.png\" style=\"display:inline;vertical-align:middle;\" /></a></td></tr>\n",
       "<tr><td>5</td><td>ExprTuple</td><td>8, 9</td><td><a class=\"ProveItLink\" href=\"../3e71fb1f54f5f99767869daebef2db58f22da8640/expr.ipynb\"><img src=\"../3e71fb1f54f5f99767869daebef2db58f22da8640/expr.png\" style=\"display:inline;vertical-align:middle;\" /></a></td></tr>\n",
       "<tr><td>6</td><td>Operation</td><td>operator:&nbsp;10<br>operands:&nbsp;11<br></td><td><a class=\"ProveItLink\" href=\"../d9bbb8eebe51acb20027a74065d218d32b0565e70/expr.ipynb\"><img src=\"../d9bbb8eebe51acb20027a74065d218d32b0565e70/expr.png\" style=\"display:inline;vertical-align:middle;\" /></a></td></tr>\n",
       "<tr><td>7</td><td>Operation</td><td>operator:&nbsp;38<br>operands:&nbsp;12<br></td><td><a class=\"ProveItLink\" href=\"../9c2e4834d36642217f528a6fab9a62574f44fc470/expr.ipynb\"><img src=\"../9c2e4834d36642217f528a6fab9a62574f44fc470/expr.png\" style=\"display:inline;vertical-align:middle;\" /></a></td></tr>\n",
       "<tr><td>8</td><td>Operation</td><td>operator:&nbsp;13<br>operands:&nbsp;14<br></td><td><a class=\"ProveItLink\" href=\"../66029d7cddbfa9b269d2e3e253fc99bbaac8870c0/expr.ipynb\"><img src=\"../66029d7cddbfa9b269d2e3e253fc99bbaac8870c0/expr.png\" style=\"display:inline;vertical-align:middle;\" /></a></td></tr>\n",
       "<tr><td>9</td><td>Operation</td><td>operator:&nbsp;20<br>operands:&nbsp;15<br></td><td><a class=\"ProveItLink\" href=\"../1b9147e7e9f0dd6be62090a196627dafe4740f020/expr.ipynb\"><img src=\"../1b9147e7e9f0dd6be62090a196627dafe4740f020/expr.png\" style=\"display:inline;vertical-align:middle;\" /></a></td></tr>\n",
       "<tr><td>10</td><td>Literal</td><td></td><td><a class=\"ProveItLink\" href=\"../../../../statistics/__pv_it/f283c8b322f39cc53292c00d964cb7fdd93eb6460/expr.ipynb\"><img src=\"../../../../statistics/__pv_it/f283c8b322f39cc53292c00d964cb7fdd93eb6460/expr.png\" style=\"display:inline;vertical-align:middle;\" /></a></td></tr>\n",
       "<tr><td>11</td><td>ExprTuple</td><td>16, 27</td><td><a class=\"ProveItLink\" href=\"../1bf3cc6d0a68a0fddfccc8f5aebfcf874d6490f90/expr.ipynb\"><img src=\"../1bf3cc6d0a68a0fddfccc8f5aebfcf874d6490f90/expr.png\" style=\"display:inline;vertical-align:middle;\" /></a></td></tr>\n",
       "<tr><td>12</td><td>ExprTuple</td><td>17, 43</td><td><a class=\"ProveItLink\" href=\"../86c7b6223bb3b923a6b9451febb1dd5ebccbab390/expr.ipynb\"><img src=\"../86c7b6223bb3b923a6b9451febb1dd5ebccbab390/expr.png\" style=\"display:inline;vertical-align:middle;\" /></a></td></tr>\n",
       "<tr><td>13</td><td>Literal</td><td></td><td><a class=\"ProveItLink\" href=\"../../../../logic/set_theory/membership/__pv_it/7776fc89cb67d0b5b1ec2c0c8e08da5587921ccf0/expr.ipynb\"><img src=\"../../../../logic/set_theory/membership/__pv_it/7776fc89cb67d0b5b1ec2c0c8e08da5587921ccf0/expr.png\" style=\"display:inline;vertical-align:middle;\" /></a></td></tr>\n",
       "<tr><td>14</td><td>ExprTuple</td><td>32, 18</td><td><a class=\"ProveItLink\" href=\"../83bb57d29d5dfdb69afb3ac8d33ce713ba0c75bf0/expr.ipynb\"><img src=\"../83bb57d29d5dfdb69afb3ac8d33ce713ba0c75bf0/expr.png\" style=\"display:inline;vertical-align:middle;\" /></a></td></tr>\n",
       "<tr><td>15</td><td>ExprTuple</td><td>27, 19</td><td><a class=\"ProveItLink\" href=\"../257b45c97741e52c5bd73eafda69de954f884fc50/expr.ipynb\"><img src=\"../257b45c97741e52c5bd73eafda69de954f884fc50/expr.png\" style=\"display:inline;vertical-align:middle;\" /></a></td></tr>\n",
       "<tr><td>16</td><td>Operation</td><td>operator:&nbsp;20<br>operands:&nbsp;21<br></td><td><a class=\"ProveItLink\" href=\"../b433760bc04ad70f7cd7085251de35edaf1751660/expr.ipynb\"><img src=\"../b433760bc04ad70f7cd7085251de35edaf1751660/expr.png\" style=\"display:inline;vertical-align:middle;\" /></a></td></tr>\n",
       "<tr><td>17</td><td>Operation</td><td>operator:&nbsp;22<br>operand:&nbsp;23<br></td><td><a class=\"ProveItLink\" href=\"../211c18a6f239917589e955edb3d0e275f071ed020/expr.ipynb\"><img src=\"../211c18a6f239917589e955edb3d0e275f071ed020/expr.png\" style=\"display:inline;vertical-align:middle;\" /></a></td></tr>\n",
       "<tr><td>18</td><td>Operation</td><td>operator:&nbsp;24<br>operands:&nbsp;25<br></td><td><a class=\"ProveItLink\" href=\"../0c92eeb8d0f65912bbd2b5a86bd978b0b123a29c0/expr.ipynb\"><img src=\"../0c92eeb8d0f65912bbd2b5a86bd978b0b123a29c0/expr.png\" style=\"display:inline;vertical-align:middle;\" /></a></td></tr>\n",
       "<tr><td>19</td><td>Operation</td><td>operator:&nbsp;26<br>operand:&nbsp;32<br></td><td><a class=\"ProveItLink\" href=\"../1db9595421c855057402c4dc978f1968b2b095fd0/expr.ipynb\"><img src=\"../1db9595421c855057402c4dc978f1968b2b095fd0/expr.png\" style=\"display:inline;vertical-align:middle;\" /></a></td></tr>\n",
       "<tr><td>20</td><td>Literal</td><td></td><td><a class=\"ProveItLink\" href=\"../../../../logic/equality/__pv_it/e16d2caa26a16688b658bdb9c422caf4b84579e10/expr.ipynb\"><img src=\"../../../../logic/equality/__pv_it/e16d2caa26a16688b658bdb9c422caf4b84579e10/expr.png\" style=\"display:inline;vertical-align:middle;\" /></a></td></tr>\n",
       "<tr><td>21</td><td>ExprTuple</td><td>27, 40</td><td><a class=\"ProveItLink\" href=\"../ac0c4eb95de99c5bbdbc88b6d594ed8180a96c6e0/expr.ipynb\"><img src=\"../ac0c4eb95de99c5bbdbc88b6d594ed8180a96c6e0/expr.png\" style=\"display:inline;vertical-align:middle;\" /></a></td></tr>\n",
       "<tr><td>22</td><td>Literal</td><td></td><td><a class=\"ProveItLink\" href=\"../../../../number/absolute_value/__pv_it/7544068c562adda5a47015617159d2bf52fb23810/expr.ipynb\"><img src=\"../../../../number/absolute_value/__pv_it/7544068c562adda5a47015617159d2bf52fb23810/expr.png\" style=\"display:inline;vertical-align:middle;\" /></a></td></tr>\n",
       "<tr><td>23</td><td>Operation</td><td>operator:&nbsp;28<br>operands:&nbsp;29<br></td><td><a class=\"ProveItLink\" href=\"../3bb13b96c25bdee0c34af11131d9d50fff65d0420/expr.ipynb\"><img src=\"../3bb13b96c25bdee0c34af11131d9d50fff65d0420/expr.png\" style=\"display:inline;vertical-align:middle;\" /></a></td></tr>\n",
       "<tr><td>24</td><td>Literal</td><td></td><td><a class=\"ProveItLink\" href=\"../../../../linalg/__pv_it/230bb884f51269dda5f2c8bbaaa46c9631654f4f0/expr.ipynb\"><img src=\"../../../../linalg/__pv_it/230bb884f51269dda5f2c8bbaaa46c9631654f4f0/expr.png\" style=\"display:inline;vertical-align:middle;\" /></a></td></tr>\n",
       "<tr><td>25</td><td>ExprTuple</td><td>30, 41</td><td><a class=\"ProveItLink\" href=\"../870610418acde83f35b78e7559782a9952c1dd460/expr.ipynb\"><img src=\"../870610418acde83f35b78e7559782a9952c1dd460/expr.png\" style=\"display:inline;vertical-align:middle;\" /></a></td></tr>\n",
       "<tr><td>26</td><td>Literal</td><td></td><td><a class=\"ProveItLink\" href=\"../0df78bda8641877d4de4904ee873d3c620306fc70/expr.ipynb\"><img src=\"../0df78bda8641877d4de4904ee873d3c620306fc70/expr.png\" style=\"display:inline;vertical-align:middle;\" /></a></td></tr>\n",
       "<tr><td>27</td><td>Variable</td><td></td><td><a class=\"ProveItLink\" href=\"../../../../__pv_it/6e8a38e9a7e2b6af352562cd77e0eb4751f142620/expr.ipynb\"><img src=\"../../../../__pv_it/6e8a38e9a7e2b6af352562cd77e0eb4751f142620/expr.png\" style=\"display:inline;vertical-align:middle;\" /></a></td></tr>\n",
       "<tr><td>28</td><td>Literal</td><td></td><td><a class=\"ProveItLink\" href=\"../../../../linalg/__pv_it/d1db02c5be16952dc958ba9d03a61120dae3abaf0/expr.ipynb\"><img src=\"../../../../linalg/__pv_it/d1db02c5be16952dc958ba9d03a61120dae3abaf0/expr.png\" style=\"display:inline;vertical-align:middle;\" /></a></td></tr>\n",
       "<tr><td>29</td><td>ExprTuple</td><td>31, 32</td><td><a class=\"ProveItLink\" href=\"../18e2ded12a340b01a37e1ca9ed21eb1c0f5f35bb0/expr.ipynb\"><img src=\"../18e2ded12a340b01a37e1ca9ed21eb1c0f5f35bb0/expr.png\" style=\"display:inline;vertical-align:middle;\" /></a></td></tr>\n",
       "<tr><td>30</td><td>ExprTuple</td><td>33</td><td><a class=\"ProveItLink\" href=\"../bdbcc65598f921dbb6757fc76b47a72396765cdc0/expr.ipynb\"><img src=\"../bdbcc65598f921dbb6757fc76b47a72396765cdc0/expr.png\" style=\"display:inline;vertical-align:middle;\" /></a></td></tr>\n",
       "<tr><td>31</td><td>Operation</td><td>operator:&nbsp;34<br>operands:&nbsp;35<br></td><td><a class=\"ProveItLink\" href=\"../8b50496db05cf2d2ec339b906b3adb38827f16180/expr.ipynb\"><img src=\"../8b50496db05cf2d2ec339b906b3adb38827f16180/expr.png\" style=\"display:inline;vertical-align:middle;\" /></a></td></tr>\n",
       "<tr><td>32</td><td>Operation</td><td>operator:&nbsp;36<br>operand:&nbsp;37<br></td><td><a class=\"ProveItLink\" href=\"../1487d0df969d40b8b0ec82b60591d05557d2337a0/expr.ipynb\"><img src=\"../1487d0df969d40b8b0ec82b60591d05557d2337a0/expr.png\" style=\"display:inline;vertical-align:middle;\" /></a></td></tr>\n",
       "<tr><td>33</td><td>Operation</td><td>operator:&nbsp;38<br>operands:&nbsp;39<br></td><td><a class=\"ProveItLink\" href=\"../e79e1533ca9493182a2c7c561c1c6239ee619b750/expr.ipynb\"><img src=\"../e79e1533ca9493182a2c7c561c1c6239ee619b750/expr.png\" style=\"display:inline;vertical-align:middle;\" /></a></td></tr>\n",
       "<tr><td>34</td><td>Literal</td><td></td><td><a class=\"ProveItLink\" href=\"../a1cb21884852377c89d5e943c2d36374d05265870/expr.ipynb\"><img src=\"../a1cb21884852377c89d5e943c2d36374d05265870/expr.png\" style=\"display:inline;vertical-align:middle;\" /></a></td></tr>\n",
       "<tr><td>35</td><td>ExprTuple</td><td>40, 41</td><td><a class=\"ProveItLink\" href=\"../1f3375ebe309dfa0f8cda6e044a162ea7766e0ca0/expr.ipynb\"><img src=\"../1f3375ebe309dfa0f8cda6e044a162ea7766e0ca0/expr.png\" style=\"display:inline;vertical-align:middle;\" /></a></td></tr>\n",
       "<tr><td>36</td><td>Literal</td><td></td><td><a class=\"ProveItLink\" href=\"../8aef81a4e336b372b4f04cd37a0a7ab8466ca20c0/expr.ipynb\"><img src=\"../8aef81a4e336b372b4f04cd37a0a7ab8466ca20c0/expr.png\" style=\"display:inline;vertical-align:middle;\" /></a></td></tr>\n",
       "<tr><td>37</td><td>Variable</td><td></td><td><a class=\"ProveItLink\" href=\"../../../../__pv_it/6359968f57a65c00bc20fb395561c6d8924782720/expr.ipynb\"><img src=\"../../../../__pv_it/6359968f57a65c00bc20fb395561c6d8924782720/expr.png\" style=\"display:inline;vertical-align:middle;\" /></a></td></tr>\n",
       "<tr><td>38</td><td>Literal</td><td></td><td><a class=\"ProveItLink\" href=\"../../../../number/exponentiation/__pv_it/fca8e4218e687a7bc372d4b4009101e95bae518f0/expr.ipynb\"><img src=\"../../../../number/exponentiation/__pv_it/fca8e4218e687a7bc372d4b4009101e95bae518f0/expr.png\" style=\"display:inline;vertical-align:middle;\" /></a></td></tr>\n",
       "<tr><td>39</td><td>ExprTuple</td><td>42, 43</td><td><a class=\"ProveItLink\" href=\"../d4fa085c028aa5a13bc16ef4af19f1a4367a869f0/expr.ipynb\"><img src=\"../d4fa085c028aa5a13bc16ef4af19f1a4367a869f0/expr.png\" style=\"display:inline;vertical-align:middle;\" /></a></td></tr>\n",
       "<tr><td>40</td><td>Variable</td><td></td><td><a class=\"ProveItLink\" href=\"../../../../__pv_it/273f49450ca25e1b56abbd98a7aef618f8f6c1360/expr.ipynb\"><img src=\"../../../../__pv_it/273f49450ca25e1b56abbd98a7aef618f8f6c1360/expr.png\" style=\"display:inline;vertical-align:middle;\" /></a></td></tr>\n",
       "<tr><td>41</td><td>Variable</td><td></td><td><a class=\"ProveItLink\" href=\"../../../../__pv_it/0c1c4cb515e0f4344b1ac06650f349123e526deb0/expr.ipynb\"><img src=\"../../../../__pv_it/0c1c4cb515e0f4344b1ac06650f349123e526deb0/expr.png\" style=\"display:inline;vertical-align:middle;\" /></a></td></tr>\n",
       "<tr><td>42</td><td>Literal</td><td></td><td><a class=\"ProveItLink\" href=\"../../../../number/sets/complex/__pv_it/8a5866946d766bfd951bcdff07a1a39af0935c430/expr.ipynb\"><img src=\"../../../../number/sets/complex/__pv_it/8a5866946d766bfd951bcdff07a1a39af0935c430/expr.png\" style=\"display:inline;vertical-align:middle;\" /></a></td></tr>\n",
       "<tr><td>43</td><td>Literal</td><td></td><td><a class=\"ProveItLink\" href=\"../../../../number/numeral/__pv_it/fb4ccffdbfd0f653ebaacb95e7ff4802fd48a6f20/expr.ipynb\"><img src=\"../../../../number/numeral/__pv_it/fb4ccffdbfd0f653ebaacb95e7ff4802fd48a6f20/expr.png\" style=\"display:inline;vertical-align:middle;\" /></a></td></tr>\n",
       "</table>\n"
      ],
      "text/plain": [
       "0. {Pr_{m}[m = k] = |{n}_〈k| . |Psi〉|^{2} if |Psi〉 in (Complexes^{2})^{otimes n} ,  m = MEAS(|Psi〉).\n",
       "   core type: Conditional\n",
       "   value: 1\n",
       "   condition: 2\n",
       "1. Pr_{m}[m = k] = |{n}_〈k| . |Psi〉|^{2}\n",
       "   core type: Operation\n",
       "   operator: 20\n",
       "   operands: 3\n",
       "2. (|Psi〉 in (Complexes^{2})^{otimes n}) and (m = MEAS(|Psi〉))\n",
       "   core type: Operation\n",
       "   operator: 4\n",
       "   operands: 5\n",
       "3. (Pr_{m}[m = k], |{n}_〈k| . |Psi〉|^{2})\n",
       "   core type: ExprTuple\n",
       "   sub-expressions: 6, 7\n",
       "4. and\n",
       "   core type: Literal\n",
       "   sub-expressions: \n",
       "5. (|Psi〉 in (Complexes^{2})^{otimes n}, m = MEAS(|Psi〉))\n",
       "   core type: ExprTuple\n",
       "   sub-expressions: 8, 9\n",
       "6. Pr_{m}[m = k]\n",
       "   core type: Operation\n",
       "   operator: 10\n",
       "   operands: 11\n",
       "7. |{n}_〈k| . |Psi〉|^{2}\n",
       "   core type: Operation\n",
       "   operator: 38\n",
       "   operands: 12\n",
       "8. |Psi〉 in (Complexes^{2})^{otimes n}\n",
       "   core type: Operation\n",
       "   operator: 13\n",
       "   operands: 14\n",
       "9. m = MEAS(|Psi〉)\n",
       "   core type: Operation\n",
       "   operator: 20\n",
       "   operands: 15\n",
       "10. PROB\n",
       "    core type: Literal\n",
       "    sub-expressions: \n",
       "11. (m = k, m)\n",
       "    core type: ExprTuple\n",
       "    sub-expressions: 16, 27\n",
       "12. (|{n}_〈k| . |Psi〉|, 2)\n",
       "    core type: ExprTuple\n",
       "    sub-expressions: 17, 43\n",
       "13. in\n",
       "    core type: Literal\n",
       "    sub-expressions: \n",
       "14. (|Psi〉, (Complexes^{2})^{otimes n})\n",
       "    core type: ExprTuple\n",
       "    sub-expressions: 32, 18\n",
       "15. (m, MEAS(|Psi〉))\n",
       "    core type: ExprTuple\n",
       "    sub-expressions: 27, 19\n",
       "16. m = k\n",
       "    core type: Operation\n",
       "    operator: 20\n",
       "    operands: 21\n",
       "17. |{n}_〈k| . |Psi〉|\n",
       "    core type: Operation\n",
       "    operator: 22\n",
       "    operand: 23\n",
       "18. (Complexes^{2})^{otimes n}\n",
       "    core type: Operation\n",
       "    operator: 24\n",
       "    operands: 25\n",
       "19. MEAS(|Psi〉)\n",
       "    core type: Operation\n",
       "    operator: 26\n",
       "    operand: 32\n",
       "20. =\n",
       "    core type: Literal\n",
       "    sub-expressions: \n",
       "21. (m, k)\n",
       "    core type: ExprTuple\n",
       "    sub-expressions: 27, 40\n",
       "22. Abs\n",
       "    core type: Literal\n",
       "    sub-expressions: \n",
       "23. {n}_〈k| . |Psi〉\n",
       "    core type: Operation\n",
       "    operator: 28\n",
       "    operands: 29\n",
       "24. otimes\n",
       "    core type: Literal\n",
       "    sub-expressions: \n",
       "25. ((Complexes^{2}), n)\n",
       "    core type: ExprTuple\n",
       "    sub-expressions: 30, 41\n",
       "26. MEAS\n",
       "    core type: Literal\n",
       "    sub-expressions: \n",
       "27. m\n",
       "    core type: Variable\n",
       "    sub-expressions: \n",
       "28. .\n",
       "    core type: Literal\n",
       "    sub-expressions: \n",
       "29. ({n}_〈k|, |Psi〉)\n",
       "    core type: ExprTuple\n",
       "    sub-expressions: 31, 32\n",
       "30. (Complexes^{2})\n",
       "    core type: ExprTuple\n",
       "    sub-expressions: 33\n",
       "31. {n}_〈k|\n",
       "    core type: Operation\n",
       "    operator: 34\n",
       "    operands: 35\n",
       "32. |Psi〉\n",
       "    core type: Operation\n",
       "    operator: 36\n",
       "    operand: 37\n",
       "33. Complexes^{2}\n",
       "    core type: Operation\n",
       "    operator: 38\n",
       "    operands: 39\n",
       "34. REGISTER_BRA\n",
       "    core type: Literal\n",
       "    sub-expressions: \n",
       "35. (k, n)\n",
       "    core type: ExprTuple\n",
       "    sub-expressions: 40, 41\n",
       "36. KET\n",
       "    core type: Literal\n",
       "    sub-expressions: \n",
       "37. Psi\n",
       "    core type: Variable\n",
       "    sub-expressions: \n",
       "38. Exp\n",
       "    core type: Literal\n",
       "    sub-expressions: \n",
       "39. (Complexes, 2)\n",
       "    core type: ExprTuple\n",
       "    sub-expressions: 42, 43\n",
       "40. k\n",
       "    core type: Variable\n",
       "    sub-expressions: \n",
       "41. n\n",
       "    core type: Variable\n",
       "    sub-expressions: \n",
       "42. Complexes\n",
       "    core type: Literal\n",
       "    sub-expressions: \n",
       "43. 2\n",
       "    core type: Literal\n",
       "    sub-expressions: "
      ]
     },
     "execution_count": 5,
     "metadata": {},
     "output_type": "execute_result"
    }
   ],
   "source": [
    "# display the expression information\n",
    "expr.exprInfo()"
   ]
  },
  {
   "cell_type": "code",
   "execution_count": null,
   "metadata": {},
   "outputs": [],
   "source": []
  }
 ],
 "metadata": {
  "kernelspec": {
   "display_name": "Python 3",
   "language": "python",
   "name": "python3"
  },
  "language_info": {
   "codemirror_mode": {
    "name": "ipython",
    "version": 3
   },
   "file_extension": ".py",
   "mimetype": "text/x-python",
   "name": "python",
   "nbconvert_exporter": "python",
   "pygments_lexer": "ipython3",
   "version": "3.7.3"
  }
 },
 "nbformat": 4,
 "nbformat_minor": 1
}
