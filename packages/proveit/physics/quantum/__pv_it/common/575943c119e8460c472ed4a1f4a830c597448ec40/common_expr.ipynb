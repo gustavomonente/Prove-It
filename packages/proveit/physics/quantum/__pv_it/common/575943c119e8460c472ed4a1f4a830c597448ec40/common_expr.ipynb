{
 "cells": [
  {
   "cell_type": "markdown",
   "metadata": {},
   "source": [
    "Common <a class=\"ProveItLink\" href=\"../../../_common_.ipynb#ket_psi\">ket_psi</a> of type <a class=\"ProveItLink\" href=\"../../../../../../../doc/html/api/proveit.physics.quantum.Ket.html\">Ket</a>\n",
    "=======================\n",
    "# from the theory of <a class=\"ProveItLink\" href=\"../../../_theory_nbs_/theory.ipynb\">proveit.physics.quantum</a>"
   ]
  },
  {
   "cell_type": "code",
   "execution_count": 1,
   "metadata": {},
   "outputs": [],
   "source": [
    "import proveit\n",
    "# Automation is not needed when only building an expression:\n",
    "proveit.defaults.automation = False # This will speed things up.\n",
    "proveit.defaults.inline_pngs = False # Makes files smaller.\n",
    "%load_expr # Load the stored expression as 'stored_expr'\n",
    "# import the special expression\n",
    "from proveit.physics.quantum import ket_psi"
   ]
  },
  {
   "cell_type": "code",
   "execution_count": 2,
   "metadata": {},
   "outputs": [
    {
     "name": "stdout",
     "output_type": "stream",
     "text": [
      "Passed sanity check: ket_psi matches stored_expr\n"
     ]
    }
   ],
   "source": [
    "# check that the built expression is the same as the stored expression\n",
    "assert ket_psi == stored_expr\n",
    "assert ket_psi._style_id == stored_expr._style_id\n",
    "print(\"Passed sanity check: ket_psi matches stored_expr\")"
   ]
  },
  {
   "cell_type": "code",
   "execution_count": 3,
   "metadata": {},
   "outputs": [
    {
     "name": "stdout",
     "output_type": "stream",
     "text": [
      "\\lvert \\psi \\rangle\n"
     ]
    }
   ],
   "source": [
    "# Show the LaTeX representation of the expression for convenience if you need it.\n",
    "print(ket_psi.latex())"
   ]
  },
  {
   "cell_type": "code",
   "execution_count": 4,
   "metadata": {},
   "outputs": [
    {
     "data": {
      "text/html": [
       "<table><tr><th>&nbsp;</th><th>core type</th><th>sub-expressions</th><th>expression</th></tr>\n",
       "<tr><td>0</td><td>Operation</td><td>operator:&nbsp;1<br>operand:&nbsp;2<br></td><td><a class=\"ProveItLink\" href=\"expr.ipynb\"><img src=\"expr.png\" style=\"display:inline;vertical-align:middle;\" /></a></td></tr>\n",
       "<tr><td>1</td><td>Literal</td><td></td><td><a class=\"ProveItLink\" href=\"../211157ad123e11ebc76ee54e41be13705eefd6800/expr.ipynb\"><img src=\"../211157ad123e11ebc76ee54e41be13705eefd6800/expr.png\" style=\"display:inline;vertical-align:middle;\" /></a></td></tr>\n",
       "<tr><td>2</td><td>Literal</td><td></td><td><a class=\"ProveItLink\" href=\"../168c63082398497632cb4d5e531562201ffa1e3c0/expr.ipynb\"><img src=\"../168c63082398497632cb4d5e531562201ffa1e3c0/expr.png\" style=\"display:inline;vertical-align:middle;\" /></a></td></tr>\n",
       "</table>\n"
      ],
      "text/plain": [
       "0. |psi〉\n",
       "   core type: Operation\n",
       "   operator: 1\n",
       "   operand: 2\n",
       "1. KET\n",
       "   core type: Literal\n",
       "   sub-expressions: \n",
       "2. psi\n",
       "   core type: Literal\n",
       "   sub-expressions: "
      ]
     },
     "execution_count": 4,
     "metadata": {},
     "output_type": "execute_result"
    }
   ],
   "source": [
    "# display the expression information\n",
    "ket_psi.expr_info()"
   ]
  },
  {
   "cell_type": "code",
   "execution_count": null,
   "metadata": {},
   "outputs": [],
   "source": []
  }
 ],
 "metadata": {
  "kernelspec": {
   "display_name": "Python 3",
   "language": "python",
   "name": "python3"
  }
 },
 "nbformat": 4,
 "nbformat_minor": 0
}