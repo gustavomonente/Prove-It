{
 "cells": [
  {
   "cell_type": "markdown",
   "metadata": {},
   "source": [
    "Expression of type <a class=\"ProveItLink\" href=\"../../../../../../../doc/html/api/proveit.ExprTuple.html\">ExprTuple</a>\n",
    "=======================\n",
    "# from the theory of <a class=\"ProveItLink\" href=\"../../../_theory_nbs_/theory.ipynb\">proveit.physics.quantum</a>"
   ]
  },
  {
   "cell_type": "code",
   "execution_count": 1,
   "metadata": {},
   "outputs": [],
   "source": [
    "import proveit\n",
    "# Automation is not needed when building an expression:\n",
    "proveit.defaults.automation = False # This will speed things up.\n",
    "proveit.defaults.inline_pngs = False # Makes files smaller.\n",
    "%load_expr # Load the stored expression as 'stored_expr'\n",
    "# import Expression classes needed to build the expression\n",
    "from proveit import A, B, C, D, ExprRange, ExprTuple, IndexedVar, Q, R, Variable, k, m, n\n",
    "from proveit.core_expr_types.expr_arrays import S11_to_Smn\n",
    "from proveit.numbers import one"
   ]
  },
  {
   "cell_type": "code",
   "execution_count": 2,
   "metadata": {},
   "outputs": [
    {
     "data": {
      "text/html": [
       "<strong id=\"expr\">expr:</strong> <a class=\"ProveItLink\" href=\"expr.ipynb\"><img src=\"expr.png\" style=\"display:inline;vertical-align:middle;\" /></a><br>"
      ],
      "text/plain": [
       "expr: (A_{1, 1}, ..A_{1, _b}.., A_{1, n}, ....A_{_a, 1}, ..A_{_a, _b}.., A_{_a, n}...., A_{m, 1}, ..A_{m, _b}.., A_{m, n}, B_{1}, ..B_{_a}.., B_{n}, C_{1, 1}, ..C_{1, _b}.., C_{1, n}, ....C_{_a, 1}, ..C_{_a, _b}.., C_{_a, n}...., C_{k, 1}, ..C_{k, _b}.., C_{k, n}, D_{1}, ..D_{_a}.., D_{n}, S_{1, 1}, ..S_{1, _b}.., S_{1, n}, ....S_{_a, 1}, ..S_{_a, _b}.., S_{_a, n}...., S_{m, 1}, ..S_{m, _b}.., S_{m, n}, Q_{1}, ..Q_{_a}.., Q_{n}, R_{1, 1}, ..R_{1, _b}.., R_{1, n}, ....R_{_a, 1}, ..R_{_a, _b}.., R_{_a, n}...., R_{k, 1}, ..R_{k, _b}.., R_{k, n})"
      ]
     },
     "execution_count": 2,
     "metadata": {},
     "output_type": "execute_result"
    }
   ],
   "source": [
    "# build up the expression from sub-expressions\n",
    "sub_expr1 = Variable(\"_a\", latex_format = r\"{_{-}a}\")\n",
    "sub_expr2 = Variable(\"_b\", latex_format = r\"{_{-}b}\")\n",
    "sub_expr3 = [sub_expr1, sub_expr2]\n",
    "expr = ExprTuple(ExprRange(sub_expr1, ExprRange(sub_expr2, IndexedVar(A, sub_expr3), one, n), one, m), ExprRange(sub_expr1, IndexedVar(B, sub_expr1), one, n), ExprRange(sub_expr1, ExprRange(sub_expr2, IndexedVar(C, sub_expr3), one, n), one, k), ExprRange(sub_expr1, IndexedVar(D, sub_expr1), one, n), S11_to_Smn, ExprRange(sub_expr1, IndexedVar(Q, sub_expr1), one, n), ExprRange(sub_expr1, ExprRange(sub_expr2, IndexedVar(R, sub_expr3), one, n), one, k))"
   ]
  },
  {
   "cell_type": "code",
   "execution_count": 3,
   "metadata": {},
   "outputs": [
    {
     "name": "stdout",
     "output_type": "stream",
     "text": [
      "Passed sanity check: expr matches stored_expr\n"
     ]
    }
   ],
   "source": [
    "# check that the built expression is the same as the stored expression\n",
    "assert expr == stored_expr\n",
    "assert expr._style_id == stored_expr._style_id\n",
    "print(\"Passed sanity check: expr matches stored_expr\")"
   ]
  },
  {
   "cell_type": "code",
   "execution_count": 4,
   "metadata": {},
   "outputs": [
    {
     "name": "stdout",
     "output_type": "stream",
     "text": [
      "\\left(A_{1, 1}, \\ldots, A_{1, n}, \\ldots\\ldots, A_{m, 1}, \\ldots, A_{m, n}, B_{1}, \\ldots, B_{n}, C_{1, 1}, \\ldots, C_{1, n}, \\ldots\\ldots, C_{k, 1}, \\ldots, C_{k, n}, D_{1}, \\ldots, D_{n}, S_{1, 1}, \\ldots, S_{1, n}, \\ldots\\ldots, S_{m, 1}, \\ldots, S_{m, n}, Q_{1}, \\ldots, Q_{n}, R_{1, 1}, \\ldots, R_{1, n}, \\ldots\\ldots, R_{k, 1}, \\ldots, R_{k, n}\\right)\n"
     ]
    }
   ],
   "source": [
    "# Show the LaTeX representation of the expression for convenience if you need it.\n",
    "print(expr.latex())"
   ]
  },
  {
   "cell_type": "code",
   "execution_count": 5,
   "metadata": {},
   "outputs": [
    {
     "data": {
      "text/html": [
       "<table>\n",
       "<tr><th>name</th><th>description</th><th>default</th><th>current value</th><th>related methods</th></tr><tr><td>wrap_positions</td><td>position(s) at which wrapping is to occur; 'n' is after the nth comma.</td><td>()</td><td>()</td><td>('with_wrapping_at',)</td></tr>\n",
       "<tr><td>justification</td><td>if any wrap positions are set, justify to the 'left', 'center', or 'right'</td><td>left</td><td>left</td><td>('with_justification',)</td></tr>\n",
       "</table>\n"
      ],
      "text/plain": [
       "style name: wrap_positions\n",
       "description: position(s) at which wrapping is to occur; 'n' is after the nth comma.\n",
       "default: ()\n",
       "current value: ()\n",
       "related methods: ('with_wrapping_at',)\n",
       "style name: justification\n",
       "description: if any wrap positions are set, justify to the 'left', 'center', or 'right'\n",
       "default: left\n",
       "current value: left\n",
       "related methods: ('with_justification',)"
      ]
     },
     "execution_count": 5,
     "metadata": {},
     "output_type": "execute_result"
    }
   ],
   "source": [
    "expr.style_options()"
   ]
  },
  {
   "cell_type": "code",
   "execution_count": 6,
   "metadata": {},
   "outputs": [
    {
     "data": {
      "text/html": [
       "<table><tr><th>&nbsp;</th><th>core type</th><th>sub-expressions</th><th>expression</th></tr>\n",
       "<tr><td>0</td><td>ExprTuple</td><td>1, 2, 3, 4, 5, 6, 7</td><td><a class=\"ProveItLink\" href=\"expr.ipynb\"><img src=\"expr.png\" style=\"display:inline;vertical-align:middle;\" /></a></td></tr>\n",
       "<tr><td>1</td><td>ExprRange</td><td>lambda_map:&nbsp;8<br>start_index:&nbsp;32<br>end_index:&nbsp;13<br></td><td><a class=\"ProveItLink\" href=\"../b732da747c8948d60427a04211f9c2d3201006050/expr.ipynb\"><img src=\"../b732da747c8948d60427a04211f9c2d3201006050/expr.png\" style=\"display:inline;vertical-align:middle;\" /></a></td></tr>\n",
       "<tr><td>2</td><td>ExprRange</td><td>lambda_map:&nbsp;9<br>start_index:&nbsp;32<br>end_index:&nbsp;33<br></td><td><a class=\"ProveItLink\" href=\"../78eb97de37b0c8120ce753717a7291ea3ffce3ee0/expr.ipynb\"><img src=\"../78eb97de37b0c8120ce753717a7291ea3ffce3ee0/expr.png\" style=\"display:inline;vertical-align:middle;\" /></a></td></tr>\n",
       "<tr><td>3</td><td>ExprRange</td><td>lambda_map:&nbsp;10<br>start_index:&nbsp;32<br>end_index:&nbsp;16<br></td><td><a class=\"ProveItLink\" href=\"../d0939d4a909b8f47b52fb1142b31073eab2522d60/expr.ipynb\"><img src=\"../d0939d4a909b8f47b52fb1142b31073eab2522d60/expr.png\" style=\"display:inline;vertical-align:middle;\" /></a></td></tr>\n",
       "<tr><td>4</td><td>ExprRange</td><td>lambda_map:&nbsp;11<br>start_index:&nbsp;32<br>end_index:&nbsp;33<br></td><td><a class=\"ProveItLink\" href=\"../49d092c5ce05bbc02262745d4732ce1caa5198180/expr.ipynb\"><img src=\"../49d092c5ce05bbc02262745d4732ce1caa5198180/expr.png\" style=\"display:inline;vertical-align:middle;\" /></a></td></tr>\n",
       "<tr><td>5</td><td>ExprRange</td><td>lambda_map:&nbsp;12<br>start_index:&nbsp;32<br>end_index:&nbsp;13<br></td><td><a class=\"ProveItLink\" href=\"../../../../../core_expr_types/expr_arrays/__pv_it/common/2d30d49fe81bfd6efb00a7580ea34522551d91ac0/expr.ipynb\"><img src=\"../../../../../core_expr_types/expr_arrays/__pv_it/common/2d30d49fe81bfd6efb00a7580ea34522551d91ac0/expr.png\" style=\"display:inline;vertical-align:middle;\" /></a></td></tr>\n",
       "<tr><td>6</td><td>ExprRange</td><td>lambda_map:&nbsp;14<br>start_index:&nbsp;32<br>end_index:&nbsp;33<br></td><td><a class=\"ProveItLink\" href=\"../5449e3fd3dd28133704557ec2352ea597a5d8bca0/expr.ipynb\"><img src=\"../5449e3fd3dd28133704557ec2352ea597a5d8bca0/expr.png\" style=\"display:inline;vertical-align:middle;\" /></a></td></tr>\n",
       "<tr><td>7</td><td>ExprRange</td><td>lambda_map:&nbsp;15<br>start_index:&nbsp;32<br>end_index:&nbsp;16<br></td><td><a class=\"ProveItLink\" href=\"../59e334d2b6cf109c8aea9439c07b3358d56d2a2f0/expr.ipynb\"><img src=\"../59e334d2b6cf109c8aea9439c07b3358d56d2a2f0/expr.png\" style=\"display:inline;vertical-align:middle;\" /></a></td></tr>\n",
       "<tr><td>8</td><td>Lambda</td><td>parameter:&nbsp;43<br>body:&nbsp;17<br></td><td><a class=\"ProveItLink\" href=\"../73e1f0b7f7057afd4ce41d1a958b6422846a66590/expr.ipynb\"><img src=\"../73e1f0b7f7057afd4ce41d1a958b6422846a66590/expr.png\" style=\"display:inline;vertical-align:middle;\" /></a></td></tr>\n",
       "<tr><td>9</td><td>Lambda</td><td>parameter:&nbsp;43<br>body:&nbsp;18<br></td><td><a class=\"ProveItLink\" href=\"../dd2e66a304effeec6ed4be68dcc4469828141fe90/expr.ipynb\"><img src=\"../dd2e66a304effeec6ed4be68dcc4469828141fe90/expr.png\" style=\"display:inline;vertical-align:middle;\" /></a></td></tr>\n",
       "<tr><td>10</td><td>Lambda</td><td>parameter:&nbsp;43<br>body:&nbsp;19<br></td><td><a class=\"ProveItLink\" href=\"../152cbaec31cd1ae36398fe7b5525b633d70230be0/expr.ipynb\"><img src=\"../152cbaec31cd1ae36398fe7b5525b633d70230be0/expr.png\" style=\"display:inline;vertical-align:middle;\" /></a></td></tr>\n",
       "<tr><td>11</td><td>Lambda</td><td>parameter:&nbsp;43<br>body:&nbsp;20<br></td><td><a class=\"ProveItLink\" href=\"../67dd0ad07da9c8e05914708a1e2d02a6210d4bf20/expr.ipynb\"><img src=\"../67dd0ad07da9c8e05914708a1e2d02a6210d4bf20/expr.png\" style=\"display:inline;vertical-align:middle;\" /></a></td></tr>\n",
       "<tr><td>12</td><td>Lambda</td><td>parameter:&nbsp;43<br>body:&nbsp;21<br></td><td><a class=\"ProveItLink\" href=\"../../../../../core_expr_types/expr_arrays/__pv_it/common/8d7d7f7adb144f7fa4164ad070f0634b15580c7c0/expr.ipynb\"><img src=\"../../../../../core_expr_types/expr_arrays/__pv_it/common/8d7d7f7adb144f7fa4164ad070f0634b15580c7c0/expr.png\" style=\"display:inline;vertical-align:middle;\" /></a></td></tr>\n",
       "<tr><td>13</td><td>Variable</td><td></td><td><a class=\"ProveItLink\" href=\"../../../../../__pv_it/common/2dc4f15b3407a25e8d70754a86bf74f1871f92650/expr.ipynb\"><img src=\"../../../../../__pv_it/common/2dc4f15b3407a25e8d70754a86bf74f1871f92650/expr.png\" style=\"display:inline;vertical-align:middle;\" /></a></td></tr>\n",
       "<tr><td>14</td><td>Lambda</td><td>parameter:&nbsp;43<br>body:&nbsp;22<br></td><td><a class=\"ProveItLink\" href=\"../af53688c8fd979294071d6f24975d5964425324f0/expr.ipynb\"><img src=\"../af53688c8fd979294071d6f24975d5964425324f0/expr.png\" style=\"display:inline;vertical-align:middle;\" /></a></td></tr>\n",
       "<tr><td>15</td><td>Lambda</td><td>parameter:&nbsp;43<br>body:&nbsp;23<br></td><td><a class=\"ProveItLink\" href=\"../5e966a0e56a4e9a31f9155b21ceec9899ee896410/expr.ipynb\"><img src=\"../5e966a0e56a4e9a31f9155b21ceec9899ee896410/expr.png\" style=\"display:inline;vertical-align:middle;\" /></a></td></tr>\n",
       "<tr><td>16</td><td>Variable</td><td></td><td><a class=\"ProveItLink\" href=\"../../../../../__pv_it/common/b9fd37fc619babc74a6203459f110251586df6970/expr.ipynb\"><img src=\"../../../../../__pv_it/common/b9fd37fc619babc74a6203459f110251586df6970/expr.png\" style=\"display:inline;vertical-align:middle;\" /></a></td></tr>\n",
       "<tr><td>17</td><td>ExprRange</td><td>lambda_map:&nbsp;24<br>start_index:&nbsp;32<br>end_index:&nbsp;33<br></td><td><a class=\"ProveItLink\" href=\"../abd31c1ebf4f7f82e2e77a9c7dd04642b811109f0/expr.ipynb\"><img src=\"../abd31c1ebf4f7f82e2e77a9c7dd04642b811109f0/expr.png\" style=\"display:inline;vertical-align:middle;\" /></a></td></tr>\n",
       "<tr><td>18</td><td>IndexedVar</td><td>variable:&nbsp;25<br>index:&nbsp;43<br></td><td><a class=\"ProveItLink\" href=\"../6f014fe3c10348cdf0c5e9be2701d9daf7bcd5d70/expr.ipynb\"><img src=\"../6f014fe3c10348cdf0c5e9be2701d9daf7bcd5d70/expr.png\" style=\"display:inline;vertical-align:middle;\" /></a></td></tr>\n",
       "<tr><td>19</td><td>ExprRange</td><td>lambda_map:&nbsp;26<br>start_index:&nbsp;32<br>end_index:&nbsp;33<br></td><td><a class=\"ProveItLink\" href=\"../ae3f651705a00bbc66812fe6834af8be2ae6d7f80/expr.ipynb\"><img src=\"../ae3f651705a00bbc66812fe6834af8be2ae6d7f80/expr.png\" style=\"display:inline;vertical-align:middle;\" /></a></td></tr>\n",
       "<tr><td>20</td><td>IndexedVar</td><td>variable:&nbsp;27<br>index:&nbsp;43<br></td><td><a class=\"ProveItLink\" href=\"../87beb7c5f40c5797fca234c6036dc406618b86930/expr.ipynb\"><img src=\"../87beb7c5f40c5797fca234c6036dc406618b86930/expr.png\" style=\"display:inline;vertical-align:middle;\" /></a></td></tr>\n",
       "<tr><td>21</td><td>ExprRange</td><td>lambda_map:&nbsp;28<br>start_index:&nbsp;32<br>end_index:&nbsp;33<br></td><td><a class=\"ProveItLink\" href=\"../../../../../core_expr_types/expr_arrays/__pv_it/common/0492923078fecb237d5bcc24641a4e78ec8c656f0/expr.ipynb\"><img src=\"../../../../../core_expr_types/expr_arrays/__pv_it/common/0492923078fecb237d5bcc24641a4e78ec8c656f0/expr.png\" style=\"display:inline;vertical-align:middle;\" /></a></td></tr>\n",
       "<tr><td>22</td><td>IndexedVar</td><td>variable:&nbsp;29<br>index:&nbsp;43<br></td><td><a class=\"ProveItLink\" href=\"../a106f26a7477d9e13c4fe05ef99909f734d1b7c70/expr.ipynb\"><img src=\"../a106f26a7477d9e13c4fe05ef99909f734d1b7c70/expr.png\" style=\"display:inline;vertical-align:middle;\" /></a></td></tr>\n",
       "<tr><td>23</td><td>ExprRange</td><td>lambda_map:&nbsp;31<br>start_index:&nbsp;32<br>end_index:&nbsp;33<br></td><td><a class=\"ProveItLink\" href=\"../84e444270872f1b6252f214c8952e54920a5e2660/expr.ipynb\"><img src=\"../84e444270872f1b6252f214c8952e54920a5e2660/expr.png\" style=\"display:inline;vertical-align:middle;\" /></a></td></tr>\n",
       "<tr><td>24</td><td>Lambda</td><td>parameter:&nbsp;44<br>body:&nbsp;34<br></td><td><a class=\"ProveItLink\" href=\"../3605097dbbc661be8ac1330406eaca6af22a9ab60/expr.ipynb\"><img src=\"../3605097dbbc661be8ac1330406eaca6af22a9ab60/expr.png\" style=\"display:inline;vertical-align:middle;\" /></a></td></tr>\n",
       "<tr><td>25</td><td>Variable</td><td></td><td><a class=\"ProveItLink\" href=\"../../../../../__pv_it/common/4eca3b30dcf58a58494e201d1b7886d8643a617b0/expr.ipynb\"><img src=\"../../../../../__pv_it/common/4eca3b30dcf58a58494e201d1b7886d8643a617b0/expr.png\" style=\"display:inline;vertical-align:middle;\" /></a></td></tr>\n",
       "<tr><td>26</td><td>Lambda</td><td>parameter:&nbsp;44<br>body:&nbsp;35<br></td><td><a class=\"ProveItLink\" href=\"../1e0684adc89c06339a0dc17823d15f163549d5c90/expr.ipynb\"><img src=\"../1e0684adc89c06339a0dc17823d15f163549d5c90/expr.png\" style=\"display:inline;vertical-align:middle;\" /></a></td></tr>\n",
       "<tr><td>27</td><td>Variable</td><td></td><td><a class=\"ProveItLink\" href=\"../../../../../__pv_it/common/e5e296931d7f88d2c0ed4dd1b8498a680788952f0/expr.ipynb\"><img src=\"../../../../../__pv_it/common/e5e296931d7f88d2c0ed4dd1b8498a680788952f0/expr.png\" style=\"display:inline;vertical-align:middle;\" /></a></td></tr>\n",
       "<tr><td>28</td><td>Lambda</td><td>parameter:&nbsp;44<br>body:&nbsp;36<br></td><td><a class=\"ProveItLink\" href=\"../../../../../core_expr_types/expr_arrays/__pv_it/common/2c301d336e12e048acab3695ade47e8d005925070/expr.ipynb\"><img src=\"../../../../../core_expr_types/expr_arrays/__pv_it/common/2c301d336e12e048acab3695ade47e8d005925070/expr.png\" style=\"display:inline;vertical-align:middle;\" /></a></td></tr>\n",
       "<tr><td>29</td><td>Variable</td><td></td><td><a class=\"ProveItLink\" href=\"../../../../../__pv_it/common/50527aea954422d65ebe44b8de200683294751540/expr.ipynb\"><img src=\"../../../../../__pv_it/common/50527aea954422d65ebe44b8de200683294751540/expr.png\" style=\"display:inline;vertical-align:middle;\" /></a></td></tr>\n",
       "<tr><td>30</td><td>ExprTuple</td><td>43</td><td><a class=\"ProveItLink\" href=\"../../../../../core_expr_types/__pv_it/common/ecf50ade416ab41c42c9f4e777b4c862cd9469670/expr.ipynb\"><img src=\"../../../../../core_expr_types/__pv_it/common/ecf50ade416ab41c42c9f4e777b4c862cd9469670/expr.png\" style=\"display:inline;vertical-align:middle;\" /></a></td></tr>\n",
       "<tr><td>31</td><td>Lambda</td><td>parameter:&nbsp;44<br>body:&nbsp;37<br></td><td><a class=\"ProveItLink\" href=\"../01d8bd4a1fc5811ce6413c3b3e522aa8b789346a0/expr.ipynb\"><img src=\"../01d8bd4a1fc5811ce6413c3b3e522aa8b789346a0/expr.png\" style=\"display:inline;vertical-align:middle;\" /></a></td></tr>\n",
       "<tr><td>32</td><td>Literal</td><td></td><td><a class=\"ProveItLink\" href=\"../../../../../numbers/numerals/__pv_it/common/d278e359da0695d9652dd541d45264f93703e2e40/expr.ipynb\"><img src=\"../../../../../numbers/numerals/__pv_it/common/d278e359da0695d9652dd541d45264f93703e2e40/expr.png\" style=\"display:inline;vertical-align:middle;\" /></a></td></tr>\n",
       "<tr><td>33</td><td>Variable</td><td></td><td><a class=\"ProveItLink\" href=\"../../../../../__pv_it/common/6165c9bb82ce3c7097cdba4440a1aeeb6eaca8a40/expr.ipynb\"><img src=\"../../../../../__pv_it/common/6165c9bb82ce3c7097cdba4440a1aeeb6eaca8a40/expr.png\" style=\"display:inline;vertical-align:middle;\" /></a></td></tr>\n",
       "<tr><td>34</td><td>IndexedVar</td><td>variable:&nbsp;38<br>indices:&nbsp;42<br></td><td><a class=\"ProveItLink\" href=\"../baeb1de3dabac92caa3331816bf4855c3404ae270/expr.ipynb\"><img src=\"../baeb1de3dabac92caa3331816bf4855c3404ae270/expr.png\" style=\"display:inline;vertical-align:middle;\" /></a></td></tr>\n",
       "<tr><td>35</td><td>IndexedVar</td><td>variable:&nbsp;39<br>indices:&nbsp;42<br></td><td><a class=\"ProveItLink\" href=\"../2a78844e6231dc2ee9edf62d748a9463562a8a070/expr.ipynb\"><img src=\"../2a78844e6231dc2ee9edf62d748a9463562a8a070/expr.png\" style=\"display:inline;vertical-align:middle;\" /></a></td></tr>\n",
       "<tr><td>36</td><td>IndexedVar</td><td>variable:&nbsp;40<br>indices:&nbsp;42<br></td><td><a class=\"ProveItLink\" href=\"../../../../../core_expr_types/expr_arrays/__pv_it/common/3744f623723f0638aade3f43baec50cd90c78b970/expr.ipynb\"><img src=\"../../../../../core_expr_types/expr_arrays/__pv_it/common/3744f623723f0638aade3f43baec50cd90c78b970/expr.png\" style=\"display:inline;vertical-align:middle;\" /></a></td></tr>\n",
       "<tr><td>37</td><td>IndexedVar</td><td>variable:&nbsp;41<br>indices:&nbsp;42<br></td><td><a class=\"ProveItLink\" href=\"../eddc78e703d3dcbc0e69f82628b79ab29cb24b810/expr.ipynb\"><img src=\"../eddc78e703d3dcbc0e69f82628b79ab29cb24b810/expr.png\" style=\"display:inline;vertical-align:middle;\" /></a></td></tr>\n",
       "<tr><td>38</td><td>Variable</td><td></td><td><a class=\"ProveItLink\" href=\"../../../../../__pv_it/common/e4aad701f7f5516d8e7f0d805d518bf02c13322a0/expr.ipynb\"><img src=\"../../../../../__pv_it/common/e4aad701f7f5516d8e7f0d805d518bf02c13322a0/expr.png\" style=\"display:inline;vertical-align:middle;\" /></a></td></tr>\n",
       "<tr><td>39</td><td>Variable</td><td></td><td><a class=\"ProveItLink\" href=\"../../../../../__pv_it/common/c4a83a53f0ed6678b0c7a2d6d691a4b400f735c90/expr.ipynb\"><img src=\"../../../../../__pv_it/common/c4a83a53f0ed6678b0c7a2d6d691a4b400f735c90/expr.png\" style=\"display:inline;vertical-align:middle;\" /></a></td></tr>\n",
       "<tr><td>40</td><td>Variable</td><td></td><td><a class=\"ProveItLink\" href=\"../../../../../__pv_it/common/259d0846cd49c4882c35ec84d7a0b180713721cc0/expr.ipynb\"><img src=\"../../../../../__pv_it/common/259d0846cd49c4882c35ec84d7a0b180713721cc0/expr.png\" style=\"display:inline;vertical-align:middle;\" /></a></td></tr>\n",
       "<tr><td>41</td><td>Variable</td><td></td><td><a class=\"ProveItLink\" href=\"../../../../../__pv_it/common/75b77068be7a61a1f04d03fa34a8f6252f6605dd0/expr.ipynb\"><img src=\"../../../../../__pv_it/common/75b77068be7a61a1f04d03fa34a8f6252f6605dd0/expr.png\" style=\"display:inline;vertical-align:middle;\" /></a></td></tr>\n",
       "<tr><td>42</td><td>ExprTuple</td><td>43, 44</td><td><a class=\"ProveItLink\" href=\"../../../../../core_expr_types/expr_arrays/__pv_it/common/b25baa472cb24ec292287d9a1ca3579534a28ea50/expr.ipynb\"><img src=\"../../../../../core_expr_types/expr_arrays/__pv_it/common/b25baa472cb24ec292287d9a1ca3579534a28ea50/expr.png\" style=\"display:inline;vertical-align:middle;\" /></a></td></tr>\n",
       "<tr><td>43</td><td>Variable</td><td></td><td><a class=\"ProveItLink\" href=\"../../../../../core_expr_types/expr_arrays/__pv_it/common/9e6d9d5d7eeb0342cf5bca68def0eb165a1a9bb10/expr.ipynb\"><img src=\"../../../../../core_expr_types/expr_arrays/__pv_it/common/9e6d9d5d7eeb0342cf5bca68def0eb165a1a9bb10/expr.png\" style=\"display:inline;vertical-align:middle;\" /></a></td></tr>\n",
       "<tr><td>44</td><td>Variable</td><td></td><td><a class=\"ProveItLink\" href=\"../../../../../core_expr_types/expr_arrays/__pv_it/common/465e7a87c96d0d9e1e50914e195e170cf9dbf05f0/expr.ipynb\"><img src=\"../../../../../core_expr_types/expr_arrays/__pv_it/common/465e7a87c96d0d9e1e50914e195e170cf9dbf05f0/expr.png\" style=\"display:inline;vertical-align:middle;\" /></a></td></tr>\n",
       "</table>\n"
      ],
      "text/plain": [
       "0. (A_{1, 1}, ..A_{1, _b}.., A_{1, n}, ....A_{_a, 1}, ..A_{_a, _b}.., A_{_a, n}...., A_{m, 1}, ..A_{m, _b}.., A_{m, n}, B_{1}, ..B_{_a}.., B_{n}, C_{1, 1}, ..C_{1, _b}.., C_{1, n}, ....C_{_a, 1}, ..C_{_a, _b}.., C_{_a, n}...., C_{k, 1}, ..C_{k, _b}.., C_{k, n}, D_{1}, ..D_{_a}.., D_{n}, S_{1, 1}, ..S_{1, _b}.., S_{1, n}, ....S_{_a, 1}, ..S_{_a, _b}.., S_{_a, n}...., S_{m, 1}, ..S_{m, _b}.., S_{m, n}, Q_{1}, ..Q_{_a}.., Q_{n}, R_{1, 1}, ..R_{1, _b}.., R_{1, n}, ....R_{_a, 1}, ..R_{_a, _b}.., R_{_a, n}...., R_{k, 1}, ..R_{k, _b}.., R_{k, n})\n",
       "   core type: ExprTuple\n",
       "   sub-expressions: 1, 2, 3, 4, 5, 6, 7\n",
       "1. A_{1, 1}, ..A_{1, _b}.., A_{1, n}, ....A_{_a, 1}, ..A_{_a, _b}.., A_{_a, n}...., A_{m, 1}, ..A_{m, _b}.., A_{m, n}\n",
       "   core type: ExprRange\n",
       "   lambda_map: 8\n",
       "   start_index: 32\n",
       "   end_index: 13\n",
       "2. B_{1}, ..B_{_a}.., B_{n}\n",
       "   core type: ExprRange\n",
       "   lambda_map: 9\n",
       "   start_index: 32\n",
       "   end_index: 33\n",
       "3. C_{1, 1}, ..C_{1, _b}.., C_{1, n}, ....C_{_a, 1}, ..C_{_a, _b}.., C_{_a, n}...., C_{k, 1}, ..C_{k, _b}.., C_{k, n}\n",
       "   core type: ExprRange\n",
       "   lambda_map: 10\n",
       "   start_index: 32\n",
       "   end_index: 16\n",
       "4. D_{1}, ..D_{_a}.., D_{n}\n",
       "   core type: ExprRange\n",
       "   lambda_map: 11\n",
       "   start_index: 32\n",
       "   end_index: 33\n",
       "5. S_{1, 1}, ..S_{1, _b}.., S_{1, n}, ....S_{_a, 1}, ..S_{_a, _b}.., S_{_a, n}...., S_{m, 1}, ..S_{m, _b}.., S_{m, n}\n",
       "   core type: ExprRange\n",
       "   lambda_map: 12\n",
       "   start_index: 32\n",
       "   end_index: 13\n",
       "6. Q_{1}, ..Q_{_a}.., Q_{n}\n",
       "   core type: ExprRange\n",
       "   lambda_map: 14\n",
       "   start_index: 32\n",
       "   end_index: 33\n",
       "7. R_{1, 1}, ..R_{1, _b}.., R_{1, n}, ....R_{_a, 1}, ..R_{_a, _b}.., R_{_a, n}...., R_{k, 1}, ..R_{k, _b}.., R_{k, n}\n",
       "   core type: ExprRange\n",
       "   lambda_map: 15\n",
       "   start_index: 32\n",
       "   end_index: 16\n",
       "8. _a -> A_{_a, 1}, ..A_{_a, _b}.., A_{_a, n}\n",
       "   core type: Lambda\n",
       "   parameter: 43\n",
       "   body: 17\n",
       "9. _a -> B_{_a}\n",
       "   core type: Lambda\n",
       "   parameter: 43\n",
       "   body: 18\n",
       "10. _a -> C_{_a, 1}, ..C_{_a, _b}.., C_{_a, n}\n",
       "    core type: Lambda\n",
       "    parameter: 43\n",
       "    body: 19\n",
       "11. _a -> D_{_a}\n",
       "    core type: Lambda\n",
       "    parameter: 43\n",
       "    body: 20\n",
       "12. _a -> S_{_a, 1}, ..S_{_a, _b}.., S_{_a, n}\n",
       "    core type: Lambda\n",
       "    parameter: 43\n",
       "    body: 21\n",
       "13. m\n",
       "    core type: Variable\n",
       "    sub-expressions: \n",
       "14. _a -> Q_{_a}\n",
       "    core type: Lambda\n",
       "    parameter: 43\n",
       "    body: 22\n",
       "15. _a -> R_{_a, 1}, ..R_{_a, _b}.., R_{_a, n}\n",
       "    core type: Lambda\n",
       "    parameter: 43\n",
       "    body: 23\n",
       "16. k\n",
       "    core type: Variable\n",
       "    sub-expressions: \n",
       "17. A_{_a, 1}, ..A_{_a, _b}.., A_{_a, n}\n",
       "    core type: ExprRange\n",
       "    lambda_map: 24\n",
       "    start_index: 32\n",
       "    end_index: 33\n",
       "18. B_{_a}\n",
       "    core type: IndexedVar\n",
       "variable: 25\n",
       "index: 43\n",
       "19. C_{_a, 1}, ..C_{_a, _b}.., C_{_a, n}\n",
       "    core type: ExprRange\n",
       "    lambda_map: 26\n",
       "    start_index: 32\n",
       "    end_index: 33\n",
       "20. D_{_a}\n",
       "    core type: IndexedVar\n",
       "variable: 27\n",
       "index: 43\n",
       "21. S_{_a, 1}, ..S_{_a, _b}.., S_{_a, n}\n",
       "    core type: ExprRange\n",
       "    lambda_map: 28\n",
       "    start_index: 32\n",
       "    end_index: 33\n",
       "22. Q_{_a}\n",
       "    core type: IndexedVar\n",
       "variable: 29\n",
       "index: 43\n",
       "23. R_{_a, 1}, ..R_{_a, _b}.., R_{_a, n}\n",
       "    core type: ExprRange\n",
       "    lambda_map: 31\n",
       "    start_index: 32\n",
       "    end_index: 33\n",
       "24. _b -> A_{_a, _b}\n",
       "    core type: Lambda\n",
       "    parameter: 44\n",
       "    body: 34\n",
       "25. B\n",
       "    core type: Variable\n",
       "    sub-expressions: \n",
       "26. _b -> C_{_a, _b}\n",
       "    core type: Lambda\n",
       "    parameter: 44\n",
       "    body: 35\n",
       "27. D\n",
       "    core type: Variable\n",
       "    sub-expressions: \n",
       "28. _b -> S_{_a, _b}\n",
       "    core type: Lambda\n",
       "    parameter: 44\n",
       "    body: 36\n",
       "29. Q\n",
       "    core type: Variable\n",
       "    sub-expressions: \n",
       "30. (_a)\n",
       "    core type: ExprTuple\n",
       "    sub-expressions: 43\n",
       "31. _b -> R_{_a, _b}\n",
       "    core type: Lambda\n",
       "    parameter: 44\n",
       "    body: 37\n",
       "32. 1\n",
       "    core type: Literal\n",
       "    sub-expressions: \n",
       "33. n\n",
       "    core type: Variable\n",
       "    sub-expressions: \n",
       "34. A_{_a, _b}\n",
       "    core type: IndexedVar\n",
       "variable: 38\n",
       "indices: 42\n",
       "35. C_{_a, _b}\n",
       "    core type: IndexedVar\n",
       "variable: 39\n",
       "indices: 42\n",
       "36. S_{_a, _b}\n",
       "    core type: IndexedVar\n",
       "variable: 40\n",
       "indices: 42\n",
       "37. R_{_a, _b}\n",
       "    core type: IndexedVar\n",
       "variable: 41\n",
       "indices: 42\n",
       "38. A\n",
       "    core type: Variable\n",
       "    sub-expressions: \n",
       "39. C\n",
       "    core type: Variable\n",
       "    sub-expressions: \n",
       "40. S\n",
       "    core type: Variable\n",
       "    sub-expressions: \n",
       "41. R\n",
       "    core type: Variable\n",
       "    sub-expressions: \n",
       "42. (_a, _b)\n",
       "    core type: ExprTuple\n",
       "    sub-expressions: 43, 44\n",
       "43. _a\n",
       "    core type: Variable\n",
       "    sub-expressions: \n",
       "44. _b\n",
       "    core type: Variable\n",
       "    sub-expressions: "
      ]
     },
     "execution_count": 6,
     "metadata": {},
     "output_type": "execute_result"
    }
   ],
   "source": [
    "# display the expression information\n",
    "expr.expr_info()"
   ]
  },
  {
   "cell_type": "code",
   "execution_count": null,
   "metadata": {},
   "outputs": [],
   "source": []
  }
 ],
 "metadata": {
  "kernelspec": {
   "display_name": "Python 3",
   "language": "python",
   "name": "python3"
  }
 },
 "nbformat": 4,
 "nbformat_minor": 0
}