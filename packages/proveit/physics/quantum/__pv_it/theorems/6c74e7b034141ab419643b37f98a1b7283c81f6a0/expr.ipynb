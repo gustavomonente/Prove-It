{
 "cells": [
  {
   "cell_type": "markdown",
   "metadata": {},
   "source": [
    "Expression of type <a class=\"ProveItLink\" href=\"../../../../../../../doc/html/api/proveit.ExprTuple.html\">ExprTuple</a>\n",
    "=======================\n",
    "# from the theory of <a class=\"ProveItLink\" href=\"../../../_theory_nbs_/theory.ipynb\">proveit.physics.quantum</a>"
   ]
  },
  {
   "cell_type": "code",
   "execution_count": 1,
   "metadata": {},
   "outputs": [],
   "source": [
    "import proveit\n",
    "# Automation is not needed when building an expression:\n",
    "proveit.defaults.automation = False # This will speed things up.\n",
    "proveit.defaults.inline_pngs = False # Makes files smaller.\n",
    "%load_expr # Load the stored expression as 'stored_expr'\n",
    "# import Expression classes needed to build the expression\n",
    "from proveit import B, ExprArray, ExprRange, ExprTuple, IndexedVar, S, i, m\n",
    "from proveit.numbers import one\n",
    "from proveit.physics.quantum.circuit import MultiQubitGate"
   ]
  },
  {
   "cell_type": "code",
   "execution_count": 2,
   "metadata": {},
   "outputs": [
    {
     "data": {
      "text/html": [
       "<strong id=\"expr\">expr:</strong> <a class=\"ProveItLink\" href=\"expr.ipynb\"><img src=\"expr.png\" style=\"display:inline;vertical-align:middle;\" /></a><br>"
      ],
      "text/plain": [
       "expr: ((MultiQubitGate(B_{1}, S_{1})  \\\\ \n",
       "  \\colon  \\\\ \n",
       "  MultiQubitGate(B_{i}, S_{i})  \\\\ \n",
       "  \\colon  \\\\ \n",
       "  MultiQubitGate(B_{m}, S_{m})))"
      ]
     },
     "execution_count": 2,
     "metadata": {},
     "output_type": "execute_result"
    }
   ],
   "source": [
    "# build up the expression from sub-expressions\n",
    "expr = ExprTuple(ExprArray(ExprRange(i, [MultiQubitGate(IndexedVar(B, i), IndexedVar(S, i))], one, m)))"
   ]
  },
  {
   "cell_type": "code",
   "execution_count": 3,
   "metadata": {},
   "outputs": [
    {
     "name": "stdout",
     "output_type": "stream",
     "text": [
      "Passed sanity check: expr matches stored_expr\n"
     ]
    }
   ],
   "source": [
    "# check that the built expression is the same as the stored expression\n",
    "assert expr == stored_expr\n",
    "assert expr._style_id == stored_expr._style_id\n",
    "print(\"Passed sanity check: expr matches stored_expr\")"
   ]
  },
  {
   "cell_type": "code",
   "execution_count": 4,
   "metadata": {},
   "outputs": [
    {
     "name": "stdout",
     "output_type": "stream",
     "text": [
      "\\left(\\left(\\begin{array} {c} \n",
      " \\hspace{2em} \\Qcircuit@C=1em @R=.7em{\n",
      "& \\gate{B_{1}{\\Big \\{} S_{1}} \n",
      "} \\hspace{2em}  \\\\ \n",
      "  \\vdots  \\\\ \n",
      "  \\hspace{2em} \\Qcircuit@C=1em @R=.7em{\n",
      "& \\gate{B_{m}{\\Big \\{} S_{m}} \n",
      "} \\hspace{2em} \\end{array} \n",
      "\\right)\\right)\n"
     ]
    }
   ],
   "source": [
    "# Show the LaTeX representation of the expression for convenience if you need it.\n",
    "print(expr.latex())"
   ]
  },
  {
   "cell_type": "code",
   "execution_count": 5,
   "metadata": {},
   "outputs": [
    {
     "data": {
      "text/html": [
       "no style options"
      ],
      "text/plain": [
       "no style options"
      ]
     },
     "execution_count": 5,
     "metadata": {},
     "output_type": "execute_result"
    }
   ],
   "source": [
    "expr.style_options()"
   ]
  },
  {
   "cell_type": "code",
   "execution_count": 6,
   "metadata": {},
   "outputs": [
    {
     "data": {
      "text/html": [
       "<table><tr><th>&nbsp;</th><th>core type</th><th>sub-expressions</th><th>expression</th></tr>\n",
       "<tr><td>0</td><td>ExprTuple</td><td>1</td><td><a class=\"ProveItLink\" href=\"expr.ipynb\"><img src=\"expr.png\" style=\"display:inline;vertical-align:middle;\" /></a></td></tr>\n",
       "<tr><td>1</td><td>ExprTuple</td><td>2</td><td><a class=\"ProveItLink\" href=\"../b3acb6ba6c674ed2464e5cd1af65229c7d4f9cfe0/expr.ipynb\"><img src=\"../b3acb6ba6c674ed2464e5cd1af65229c7d4f9cfe0/expr.png\" style=\"display:inline;vertical-align:middle;\" /></a></td></tr>\n",
       "<tr><td>2</td><td>ExprRange</td><td>lambda_map:&nbsp;3<br>start_index:&nbsp;4<br>end_index:&nbsp;5<br></td><td><a class=\"ProveItLink\" href=\"../de601a75bbf4315b38d3dd48ad65b8fe50d51f3e0/expr.ipynb\"><img src=\"../de601a75bbf4315b38d3dd48ad65b8fe50d51f3e0/expr.png\" style=\"display:inline;vertical-align:middle;\" /></a></td></tr>\n",
       "<tr><td>3</td><td>Lambda</td><td>parameter:&nbsp;15<br>body:&nbsp;6<br></td><td><a class=\"ProveItLink\" href=\"../f15b814f4a9f748cd1e5936aeebfdcc0efd43d240/expr.ipynb\"><img src=\"../f15b814f4a9f748cd1e5936aeebfdcc0efd43d240/expr.png\" style=\"display:inline;vertical-align:middle;\" /></a></td></tr>\n",
       "<tr><td>4</td><td>Literal</td><td></td><td><a class=\"ProveItLink\" href=\"../../../../../numbers/numerals/__pv_it/common/d278e359da0695d9652dd541d45264f93703e2e40/expr.ipynb\"><img src=\"../../../../../numbers/numerals/__pv_it/common/d278e359da0695d9652dd541d45264f93703e2e40/expr.png\" style=\"display:inline;vertical-align:middle;\" /></a></td></tr>\n",
       "<tr><td>5</td><td>Variable</td><td></td><td><a class=\"ProveItLink\" href=\"../../../../../__pv_it/common/2dc4f15b3407a25e8d70754a86bf74f1871f92650/expr.ipynb\"><img src=\"../../../../../__pv_it/common/2dc4f15b3407a25e8d70754a86bf74f1871f92650/expr.png\" style=\"display:inline;vertical-align:middle;\" /></a></td></tr>\n",
       "<tr><td>6</td><td>ExprTuple</td><td>7</td><td><a class=\"ProveItLink\" href=\"../ff09335f5fc6a089063963f54347105f1d03e1ec0/expr.ipynb\"><img src=\"../ff09335f5fc6a089063963f54347105f1d03e1ec0/expr.png\" style=\"display:inline;vertical-align:middle;\" /></a></td></tr>\n",
       "<tr><td>7</td><td>Operation</td><td>operator:&nbsp;8<br>operands:&nbsp;9<br></td><td><a class=\"ProveItLink\" href=\"../60ff27d447296bb3def38c252e807d71f0eff25c0/expr.ipynb\"><img src=\"../60ff27d447296bb3def38c252e807d71f0eff25c0/expr.png\" style=\"display:inline;vertical-align:middle;\" /></a></td></tr>\n",
       "<tr><td>8</td><td>Literal</td><td></td><td><a class=\"ProveItLink\" href=\"../../common/38deceb0a69e80c36399d725649803706802a2a90/expr.ipynb\"><img src=\"../../common/38deceb0a69e80c36399d725649803706802a2a90/expr.png\" style=\"display:inline;vertical-align:middle;\" /></a></td></tr>\n",
       "<tr><td>9</td><td>ExprTuple</td><td>10, 11</td><td><a class=\"ProveItLink\" href=\"../48adaddb8132a0d440e24865e0de042ee564d9a00/expr.ipynb\"><img src=\"../48adaddb8132a0d440e24865e0de042ee564d9a00/expr.png\" style=\"display:inline;vertical-align:middle;\" /></a></td></tr>\n",
       "<tr><td>10</td><td>IndexedVar</td><td>variable:&nbsp;12<br>index:&nbsp;15<br></td><td><a class=\"ProveItLink\" href=\"../146a063dd1fc4d019c860952a873954c89c38a120/expr.ipynb\"><img src=\"../146a063dd1fc4d019c860952a873954c89c38a120/expr.png\" style=\"display:inline;vertical-align:middle;\" /></a></td></tr>\n",
       "<tr><td>11</td><td>IndexedVar</td><td>variable:&nbsp;13<br>index:&nbsp;15<br></td><td><a class=\"ProveItLink\" href=\"../0b829270f9d9f6fa6e68939ad39349c952af01040/expr.ipynb\"><img src=\"../0b829270f9d9f6fa6e68939ad39349c952af01040/expr.png\" style=\"display:inline;vertical-align:middle;\" /></a></td></tr>\n",
       "<tr><td>12</td><td>Variable</td><td></td><td><a class=\"ProveItLink\" href=\"../../../../../__pv_it/common/4eca3b30dcf58a58494e201d1b7886d8643a617b0/expr.ipynb\"><img src=\"../../../../../__pv_it/common/4eca3b30dcf58a58494e201d1b7886d8643a617b0/expr.png\" style=\"display:inline;vertical-align:middle;\" /></a></td></tr>\n",
       "<tr><td>13</td><td>Variable</td><td></td><td><a class=\"ProveItLink\" href=\"../../../../../__pv_it/common/259d0846cd49c4882c35ec84d7a0b180713721cc0/expr.ipynb\"><img src=\"../../../../../__pv_it/common/259d0846cd49c4882c35ec84d7a0b180713721cc0/expr.png\" style=\"display:inline;vertical-align:middle;\" /></a></td></tr>\n",
       "<tr><td>14</td><td>ExprTuple</td><td>15</td><td><a class=\"ProveItLink\" href=\"../6420c4d2520c27c1137ad22005291620057456040/expr.ipynb\"><img src=\"../6420c4d2520c27c1137ad22005291620057456040/expr.png\" style=\"display:inline;vertical-align:middle;\" /></a></td></tr>\n",
       "<tr><td>15</td><td>Variable</td><td></td><td><a class=\"ProveItLink\" href=\"../../../../../__pv_it/common/575a6156bb1c87c5beeaf38c302b5905ad57f5780/expr.ipynb\"><img src=\"../../../../../__pv_it/common/575a6156bb1c87c5beeaf38c302b5905ad57f5780/expr.png\" style=\"display:inline;vertical-align:middle;\" /></a></td></tr>\n",
       "</table>\n"
      ],
      "text/plain": [
       "0. ((MultiQubitGate(B_{1}, S_{1})  \\\\ \n",
       "  \\colon  \\\\ \n",
       "  MultiQubitGate(B_{i}, S_{i})  \\\\ \n",
       "  \\colon  \\\\ \n",
       "  MultiQubitGate(B_{m}, S_{m})))\n",
       "   core type: ExprTuple\n",
       "   sub-expressions: 1\n",
       "1. MultiQubitGate(B_{1}, S_{1})  \\\\ \n",
       "  \\colon  \\\\ \n",
       "  MultiQubitGate(B_{i}, S_{i})  \\\\ \n",
       "  \\colon  \\\\ \n",
       "  MultiQubitGate(B_{m}, S_{m})\n",
       "   core type: ExprTuple\n",
       "   sub-expressions: 2\n",
       "2. (MultiQubitGate(B_{1}, S_{1})), ..(MultiQubitGate(B_{i}, S_{i})).., (MultiQubitGate(B_{m}, S_{m}))\n",
       "   core type: ExprRange\n",
       "   lambda_map: 3\n",
       "   start_index: 4\n",
       "   end_index: 5\n",
       "3. i -> (MultiQubitGate(B_{i}, S_{i}))\n",
       "   core type: Lambda\n",
       "   parameter: 15\n",
       "   body: 6\n",
       "4. 1\n",
       "   core type: Literal\n",
       "   sub-expressions: \n",
       "5. m\n",
       "   core type: Variable\n",
       "   sub-expressions: \n",
       "6. (MultiQubitGate(B_{i}, S_{i}))\n",
       "   core type: ExprTuple\n",
       "   sub-expressions: 7\n",
       "7. MultiQubitGate(B_{i}, S_{i})\n",
       "   core type: Operation\n",
       "   operator: 8\n",
       "   operands: 9\n",
       "8. MULTI_QUBIT_GATE\n",
       "   core type: Literal\n",
       "   sub-expressions: \n",
       "9. (B_{i}, S_{i})\n",
       "   core type: ExprTuple\n",
       "   sub-expressions: 10, 11\n",
       "10. B_{i}\n",
       "    core type: IndexedVar\n",
       "variable: 12\n",
       "index: 15\n",
       "11. S_{i}\n",
       "    core type: IndexedVar\n",
       "variable: 13\n",
       "index: 15\n",
       "12. B\n",
       "    core type: Variable\n",
       "    sub-expressions: \n",
       "13. S\n",
       "    core type: Variable\n",
       "    sub-expressions: \n",
       "14. (i)\n",
       "    core type: ExprTuple\n",
       "    sub-expressions: 15\n",
       "15. i\n",
       "    core type: Variable\n",
       "    sub-expressions: "
      ]
     },
     "execution_count": 6,
     "metadata": {},
     "output_type": "execute_result"
    }
   ],
   "source": [
    "# display the expression information\n",
    "expr.expr_info()"
   ]
  },
  {
   "cell_type": "code",
   "execution_count": null,
   "metadata": {},
   "outputs": [],
   "source": []
  }
 ],
 "metadata": {
  "kernelspec": {
   "display_name": "Python 3",
   "language": "python",
   "name": "python3"
  }
 },
 "nbformat": 4,
 "nbformat_minor": 0
}