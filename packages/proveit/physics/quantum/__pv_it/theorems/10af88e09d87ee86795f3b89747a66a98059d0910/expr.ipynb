{
 "cells": [
  {
   "cell_type": "markdown",
   "metadata": {},
   "source": [
    "Expression of type <a class=\"ProveItLink\" href=\"../../../../../../../doc/html/api/proveit.ExprTuple.html\">ExprTuple</a>\n",
    "=======================\n",
    "# from the theory of <a class=\"ProveItLink\" href=\"../../../_theory_nbs_/theory.ipynb\">proveit.physics.quantum</a>"
   ]
  },
  {
   "cell_type": "code",
   "execution_count": 1,
   "metadata": {},
   "outputs": [],
   "source": [
    "import proveit\n",
    "# Automation is not needed when building an expression:\n",
    "proveit.defaults.automation = False # This will speed things up.\n",
    "proveit.defaults.inline_pngs = False # Makes files smaller.\n",
    "%load_expr # Load the stored expression as 'stored_expr'\n",
    "# import Expression classes needed to build the expression\n",
    "from proveit import ExprArray, ExprRange, ExprTuple, h, i, j, k, m, n\n",
    "from proveit.core_expr_types.expr_arrays import Aij, Cij, Dij, Qij, Rij, Sij\n",
    "from proveit.numbers import one\n",
    "from proveit.physics.quantum.circuit import MultiQubitGate"
   ]
  },
  {
   "cell_type": "code",
   "execution_count": 2,
   "metadata": {},
   "outputs": [
    {
     "data": {
      "text/html": [
       "<strong id=\"expr\">expr:</strong> <a class=\"ProveItLink\" href=\"expr.ipynb\"><img src=\"expr.png\" style=\"display:inline;vertical-align:middle;\" /></a><br>"
      ],
      "text/plain": [
       "expr: ((MultiQubitGate(A_{1, 1}, R_{1, 1}) & ..MultiQubitGate(A_{1, j}, R_{1, j}).. & MultiQubitGate(A_{1, k}, R_{1, k}) & MultiQubitGate(D_{1, 1}, S_{1, 1}) & ..MultiQubitGate(D_{1, j}, S_{1, j}).. & MultiQubitGate(D_{1, n}, S_{1, n}) & MultiQubitGate(C_{1, 1}, Q_{1, 1}) & ..MultiQubitGate(C_{1, j}, Q_{1, j}).. & MultiQubitGate(C_{1, h}, Q_{1, h})  \\\\ \n",
       "  \\colon & \\colon & \\colon & \\colon & \\colon & \\colon & \\colon & \\colon & \\colon  \\\\ \n",
       "  MultiQubitGate(A_{i, 1}, R_{i, 1}) & ..MultiQubitGate(A_{i, j}, R_{i, j}).. & MultiQubitGate(A_{i, k}, R_{i, k}) & MultiQubitGate(D_{i, 1}, S_{i, 1}) & ..MultiQubitGate(D_{i, j}, S_{i, j}).. & MultiQubitGate(D_{i, n}, S_{i, n}) & MultiQubitGate(C_{i, 1}, Q_{i, 1}) & ..MultiQubitGate(C_{i, j}, Q_{i, j}).. & MultiQubitGate(C_{i, h}, Q_{i, h})  \\\\ \n",
       "  \\colon & \\colon & \\colon & \\colon & \\colon & \\colon & \\colon & \\colon & \\colon  \\\\ \n",
       "  MultiQubitGate(A_{m, 1}, R_{m, 1}) & ..MultiQubitGate(A_{m, j}, R_{m, j}).. & MultiQubitGate(A_{m, k}, R_{m, k}) & MultiQubitGate(D_{m, 1}, S_{m, 1}) & ..MultiQubitGate(D_{m, j}, S_{m, j}).. & MultiQubitGate(D_{m, n}, S_{m, n}) & MultiQubitGate(C_{m, 1}, Q_{m, 1}) & ..MultiQubitGate(C_{m, j}, Q_{m, j}).. & MultiQubitGate(C_{m, h}, Q_{m, h})))"
      ]
     },
     "execution_count": 2,
     "metadata": {},
     "output_type": "execute_result"
    }
   ],
   "source": [
    "# build up the expression from sub-expressions\n",
    "expr = ExprTuple(ExprArray(ExprRange(i, [ExprRange(j, MultiQubitGate(Aij, Rij), one, k), ExprRange(j, MultiQubitGate(Dij, Sij), one, n), ExprRange(j, MultiQubitGate(Cij, Qij), one, h)], one, m)))"
   ]
  },
  {
   "cell_type": "code",
   "execution_count": 3,
   "metadata": {},
   "outputs": [
    {
     "name": "stdout",
     "output_type": "stream",
     "text": [
      "Passed sanity check: expr matches stored_expr\n"
     ]
    }
   ],
   "source": [
    "# check that the built expression is the same as the stored expression\n",
    "assert expr == stored_expr\n",
    "assert expr._style_id == stored_expr._style_id\n",
    "print(\"Passed sanity check: expr matches stored_expr\")"
   ]
  },
  {
   "cell_type": "code",
   "execution_count": 4,
   "metadata": {},
   "outputs": [
    {
     "name": "stdout",
     "output_type": "stream",
     "text": [
      "\\left(\\left(\\begin{array} {ccccccccc} \n",
      " \\hspace{2em} \\Qcircuit@C=1em @R=.7em{\n",
      "& \\gate{A_{1, 1}{\\Big \\{} R_{1, 1}} \n",
      "} \\hspace{2em} & \\cdots & \\hspace{2em} \\Qcircuit@C=1em @R=.7em{\n",
      "& \\gate{A_{1, k}{\\Big \\{} R_{1, k}} \n",
      "} \\hspace{2em} & \\hspace{2em} \\Qcircuit@C=1em @R=.7em{\n",
      "& \\gate{D_{1, 1}{\\Big \\{} S_{1, 1}} \n",
      "} \\hspace{2em} & \\cdots & \\hspace{2em} \\Qcircuit@C=1em @R=.7em{\n",
      "& \\gate{D_{1, n}{\\Big \\{} S_{1, n}} \n",
      "} \\hspace{2em} & \\hspace{2em} \\Qcircuit@C=1em @R=.7em{\n",
      "& \\gate{C_{1, 1}{\\Big \\{} Q_{1, 1}} \n",
      "} \\hspace{2em} & \\cdots & \\hspace{2em} \\Qcircuit@C=1em @R=.7em{\n",
      "& \\gate{C_{1, h}{\\Big \\{} Q_{1, h}} \n",
      "} \\hspace{2em}  \\\\ \n",
      "  \\vdots & \\hspace{2em} \\Qcircuit@C=1em @R=.7em{\n",
      "& \\gate{A_{i, j}{\\Big \\{} R_{i, j}} \n",
      "} \\hspace{2em} & \\vdots & \\vdots & \\hspace{2em} \\Qcircuit@C=1em @R=.7em{\n",
      "& \\gate{D_{i, j}{\\Big \\{} S_{i, j}} \n",
      "} \\hspace{2em} & \\vdots & \\vdots & \\hspace{2em} \\Qcircuit@C=1em @R=.7em{\n",
      "& \\gate{C_{i, j}{\\Big \\{} Q_{i, j}} \n",
      "} \\hspace{2em} & \\vdots  \\\\ \n",
      "  \\hspace{2em} \\Qcircuit@C=1em @R=.7em{\n",
      "& \\gate{A_{m, 1}{\\Big \\{} R_{m, 1}} \n",
      "} \\hspace{2em} & \\cdots & \\hspace{2em} \\Qcircuit@C=1em @R=.7em{\n",
      "& \\gate{A_{m, k}{\\Big \\{} R_{m, k}} \n",
      "} \\hspace{2em} & \\hspace{2em} \\Qcircuit@C=1em @R=.7em{\n",
      "& \\gate{D_{m, 1}{\\Big \\{} S_{m, 1}} \n",
      "} \\hspace{2em} & \\cdots & \\hspace{2em} \\Qcircuit@C=1em @R=.7em{\n",
      "& \\gate{D_{m, n}{\\Big \\{} S_{m, n}} \n",
      "} \\hspace{2em} & \\hspace{2em} \\Qcircuit@C=1em @R=.7em{\n",
      "& \\gate{C_{m, 1}{\\Big \\{} Q_{m, 1}} \n",
      "} \\hspace{2em} & \\cdots & \\hspace{2em} \\Qcircuit@C=1em @R=.7em{\n",
      "& \\gate{C_{m, h}{\\Big \\{} Q_{m, h}} \n",
      "} \\hspace{2em} \\end{array} \n",
      "\\right)\\right)\n"
     ]
    }
   ],
   "source": [
    "# Show the LaTeX representation of the expression for convenience if you need it.\n",
    "print(expr.latex())"
   ]
  },
  {
   "cell_type": "code",
   "execution_count": 5,
   "metadata": {},
   "outputs": [
    {
     "data": {
      "text/html": [
       "no style options"
      ],
      "text/plain": [
       "no style options"
      ]
     },
     "execution_count": 5,
     "metadata": {},
     "output_type": "execute_result"
    }
   ],
   "source": [
    "expr.style_options()"
   ]
  },
  {
   "cell_type": "code",
   "execution_count": 6,
   "metadata": {},
   "outputs": [
    {
     "data": {
      "text/html": [
       "<table><tr><th>&nbsp;</th><th>core type</th><th>sub-expressions</th><th>expression</th></tr>\n",
       "<tr><td>0</td><td>ExprTuple</td><td>1</td><td><a class=\"ProveItLink\" href=\"expr.ipynb\"><img src=\"expr.png\" style=\"display:inline;vertical-align:middle;\" /></a></td></tr>\n",
       "<tr><td>1</td><td>ExprTuple</td><td>2</td><td><a class=\"ProveItLink\" href=\"../88cebeb487e5c84821c33ea0c53d54ca64be8b450/expr.ipynb\"><img src=\"../88cebeb487e5c84821c33ea0c53d54ca64be8b450/expr.png\" style=\"display:inline;vertical-align:middle;\" /></a></td></tr>\n",
       "<tr><td>2</td><td>ExprRange</td><td>lambda_map:&nbsp;3<br>start_index:&nbsp;14<br>end_index:&nbsp;4<br></td><td><a class=\"ProveItLink\" href=\"../9cf31741f5249ef92015f0cb4669ab69d81c40b20/expr.ipynb\"><img src=\"../9cf31741f5249ef92015f0cb4669ab69d81c40b20/expr.png\" style=\"display:inline;vertical-align:middle;\" /></a></td></tr>\n",
       "<tr><td>3</td><td>Lambda</td><td>parameter:&nbsp;36<br>body:&nbsp;5<br></td><td><a class=\"ProveItLink\" href=\"../077ac808da7879c88f97bb70d80586453324260f0/expr.ipynb\"><img src=\"../077ac808da7879c88f97bb70d80586453324260f0/expr.png\" style=\"display:inline;vertical-align:middle;\" /></a></td></tr>\n",
       "<tr><td>4</td><td>Variable</td><td></td><td><a class=\"ProveItLink\" href=\"../../../../../__pv_it/common/2dc4f15b3407a25e8d70754a86bf74f1871f92650/expr.ipynb\"><img src=\"../../../../../__pv_it/common/2dc4f15b3407a25e8d70754a86bf74f1871f92650/expr.png\" style=\"display:inline;vertical-align:middle;\" /></a></td></tr>\n",
       "<tr><td>5</td><td>ExprTuple</td><td>6, 7, 8</td><td><a class=\"ProveItLink\" href=\"../76cd283322bf18b82ce8d9da89874d614300956a0/expr.ipynb\"><img src=\"../76cd283322bf18b82ce8d9da89874d614300956a0/expr.png\" style=\"display:inline;vertical-align:middle;\" /></a></td></tr>\n",
       "<tr><td>6</td><td>ExprRange</td><td>lambda_map:&nbsp;9<br>start_index:&nbsp;14<br>end_index:&nbsp;10<br></td><td><a class=\"ProveItLink\" href=\"../39c045dc40328257dbf919a43be0ce28228aecf50/expr.ipynb\"><img src=\"../39c045dc40328257dbf919a43be0ce28228aecf50/expr.png\" style=\"display:inline;vertical-align:middle;\" /></a></td></tr>\n",
       "<tr><td>7</td><td>ExprRange</td><td>lambda_map:&nbsp;11<br>start_index:&nbsp;14<br>end_index:&nbsp;12<br></td><td><a class=\"ProveItLink\" href=\"../277f70d5aaecff53aa9a1d424990a1058601283e0/expr.ipynb\"><img src=\"../277f70d5aaecff53aa9a1d424990a1058601283e0/expr.png\" style=\"display:inline;vertical-align:middle;\" /></a></td></tr>\n",
       "<tr><td>8</td><td>ExprRange</td><td>lambda_map:&nbsp;13<br>start_index:&nbsp;14<br>end_index:&nbsp;15<br></td><td><a class=\"ProveItLink\" href=\"../553fc548d380c4ca1310eec45cb00d66df330c720/expr.ipynb\"><img src=\"../553fc548d380c4ca1310eec45cb00d66df330c720/expr.png\" style=\"display:inline;vertical-align:middle;\" /></a></td></tr>\n",
       "<tr><td>9</td><td>Lambda</td><td>parameter:&nbsp;37<br>body:&nbsp;16<br></td><td><a class=\"ProveItLink\" href=\"../e63c6c8b3457921cabd84e0bad3e3170245b8fca0/expr.ipynb\"><img src=\"../e63c6c8b3457921cabd84e0bad3e3170245b8fca0/expr.png\" style=\"display:inline;vertical-align:middle;\" /></a></td></tr>\n",
       "<tr><td>10</td><td>Variable</td><td></td><td><a class=\"ProveItLink\" href=\"../../../../../__pv_it/common/b9fd37fc619babc74a6203459f110251586df6970/expr.ipynb\"><img src=\"../../../../../__pv_it/common/b9fd37fc619babc74a6203459f110251586df6970/expr.png\" style=\"display:inline;vertical-align:middle;\" /></a></td></tr>\n",
       "<tr><td>11</td><td>Lambda</td><td>parameter:&nbsp;37<br>body:&nbsp;17<br></td><td><a class=\"ProveItLink\" href=\"../b0bc6864cf39b42a65bdc58830db0f579f72c56a0/expr.ipynb\"><img src=\"../b0bc6864cf39b42a65bdc58830db0f579f72c56a0/expr.png\" style=\"display:inline;vertical-align:middle;\" /></a></td></tr>\n",
       "<tr><td>12</td><td>Variable</td><td></td><td><a class=\"ProveItLink\" href=\"../../../../../__pv_it/common/6165c9bb82ce3c7097cdba4440a1aeeb6eaca8a40/expr.ipynb\"><img src=\"../../../../../__pv_it/common/6165c9bb82ce3c7097cdba4440a1aeeb6eaca8a40/expr.png\" style=\"display:inline;vertical-align:middle;\" /></a></td></tr>\n",
       "<tr><td>13</td><td>Lambda</td><td>parameter:&nbsp;37<br>body:&nbsp;18<br></td><td><a class=\"ProveItLink\" href=\"../ac320b64f11e9d36d0d40061b2d5d7f51457c0c60/expr.ipynb\"><img src=\"../ac320b64f11e9d36d0d40061b2d5d7f51457c0c60/expr.png\" style=\"display:inline;vertical-align:middle;\" /></a></td></tr>\n",
       "<tr><td>14</td><td>Literal</td><td></td><td><a class=\"ProveItLink\" href=\"../../../../../numbers/numerals/__pv_it/common/d278e359da0695d9652dd541d45264f93703e2e40/expr.ipynb\"><img src=\"../../../../../numbers/numerals/__pv_it/common/d278e359da0695d9652dd541d45264f93703e2e40/expr.png\" style=\"display:inline;vertical-align:middle;\" /></a></td></tr>\n",
       "<tr><td>15</td><td>Variable</td><td></td><td><a class=\"ProveItLink\" href=\"../../../../../__pv_it/common/62ea6b8ef24fd0a4fd963fbed7985d4e9614e4f70/expr.ipynb\"><img src=\"../../../../../__pv_it/common/62ea6b8ef24fd0a4fd963fbed7985d4e9614e4f70/expr.png\" style=\"display:inline;vertical-align:middle;\" /></a></td></tr>\n",
       "<tr><td>16</td><td>Operation</td><td>operator:&nbsp;21<br>operands:&nbsp;19<br></td><td><a class=\"ProveItLink\" href=\"../605fa3c0dc36fbae4530cb24c937f0fc5a6519a80/expr.ipynb\"><img src=\"../605fa3c0dc36fbae4530cb24c937f0fc5a6519a80/expr.png\" style=\"display:inline;vertical-align:middle;\" /></a></td></tr>\n",
       "<tr><td>17</td><td>Operation</td><td>operator:&nbsp;21<br>operands:&nbsp;20<br></td><td><a class=\"ProveItLink\" href=\"../74da54f499813ff889b1f8b062ca147e55d533910/expr.ipynb\"><img src=\"../74da54f499813ff889b1f8b062ca147e55d533910/expr.png\" style=\"display:inline;vertical-align:middle;\" /></a></td></tr>\n",
       "<tr><td>18</td><td>Operation</td><td>operator:&nbsp;21<br>operands:&nbsp;22<br></td><td><a class=\"ProveItLink\" href=\"../59586fdf8fa4b3c1cb16340d83ffe0b51f73934d0/expr.ipynb\"><img src=\"../59586fdf8fa4b3c1cb16340d83ffe0b51f73934d0/expr.png\" style=\"display:inline;vertical-align:middle;\" /></a></td></tr>\n",
       "<tr><td>19</td><td>ExprTuple</td><td>23, 24</td><td><a class=\"ProveItLink\" href=\"../11d13fad526f872fae60c2a638686ef82dc3abfd0/expr.ipynb\"><img src=\"../11d13fad526f872fae60c2a638686ef82dc3abfd0/expr.png\" style=\"display:inline;vertical-align:middle;\" /></a></td></tr>\n",
       "<tr><td>20</td><td>ExprTuple</td><td>25, 26</td><td><a class=\"ProveItLink\" href=\"../19119213e8afd938aeccc2ec30c27f1a49cb4f550/expr.ipynb\"><img src=\"../19119213e8afd938aeccc2ec30c27f1a49cb4f550/expr.png\" style=\"display:inline;vertical-align:middle;\" /></a></td></tr>\n",
       "<tr><td>21</td><td>Literal</td><td></td><td><a class=\"ProveItLink\" href=\"../../common/38deceb0a69e80c36399d725649803706802a2a90/expr.ipynb\"><img src=\"../../common/38deceb0a69e80c36399d725649803706802a2a90/expr.png\" style=\"display:inline;vertical-align:middle;\" /></a></td></tr>\n",
       "<tr><td>22</td><td>ExprTuple</td><td>27, 28</td><td><a class=\"ProveItLink\" href=\"../fdc6f7da75fc017ef38bde26ff86d4f35de216160/expr.ipynb\"><img src=\"../fdc6f7da75fc017ef38bde26ff86d4f35de216160/expr.png\" style=\"display:inline;vertical-align:middle;\" /></a></td></tr>\n",
       "<tr><td>23</td><td>IndexedVar</td><td>variable:&nbsp;29<br>indices:&nbsp;35<br></td><td><a class=\"ProveItLink\" href=\"../../../../../core_expr_types/expr_arrays/__pv_it/common/2db546578cd7f487d81f6e5492015be24135205c0/expr.ipynb\"><img src=\"../../../../../core_expr_types/expr_arrays/__pv_it/common/2db546578cd7f487d81f6e5492015be24135205c0/expr.png\" style=\"display:inline;vertical-align:middle;\" /></a></td></tr>\n",
       "<tr><td>24</td><td>IndexedVar</td><td>variable:&nbsp;30<br>indices:&nbsp;35<br></td><td><a class=\"ProveItLink\" href=\"../../../../../core_expr_types/expr_arrays/__pv_it/common/5b641b71d66d043829a47456d8ebd2a5855c4d0d0/expr.ipynb\"><img src=\"../../../../../core_expr_types/expr_arrays/__pv_it/common/5b641b71d66d043829a47456d8ebd2a5855c4d0d0/expr.png\" style=\"display:inline;vertical-align:middle;\" /></a></td></tr>\n",
       "<tr><td>25</td><td>IndexedVar</td><td>variable:&nbsp;31<br>indices:&nbsp;35<br></td><td><a class=\"ProveItLink\" href=\"../../../../../core_expr_types/expr_arrays/__pv_it/common/8e122e0c03da99cf4e51461fcb2c93928f92cb550/expr.ipynb\"><img src=\"../../../../../core_expr_types/expr_arrays/__pv_it/common/8e122e0c03da99cf4e51461fcb2c93928f92cb550/expr.png\" style=\"display:inline;vertical-align:middle;\" /></a></td></tr>\n",
       "<tr><td>26</td><td>IndexedVar</td><td>variable:&nbsp;32<br>indices:&nbsp;35<br></td><td><a class=\"ProveItLink\" href=\"../../../../../core_expr_types/expr_arrays/__pv_it/common/29b2a42564e2bd68f988108464c87826d4366e390/expr.ipynb\"><img src=\"../../../../../core_expr_types/expr_arrays/__pv_it/common/29b2a42564e2bd68f988108464c87826d4366e390/expr.png\" style=\"display:inline;vertical-align:middle;\" /></a></td></tr>\n",
       "<tr><td>27</td><td>IndexedVar</td><td>variable:&nbsp;33<br>indices:&nbsp;35<br></td><td><a class=\"ProveItLink\" href=\"../../../../../core_expr_types/expr_arrays/__pv_it/common/cfc3f031aff613b33998523b9e88a4b21bb7543a0/expr.ipynb\"><img src=\"../../../../../core_expr_types/expr_arrays/__pv_it/common/cfc3f031aff613b33998523b9e88a4b21bb7543a0/expr.png\" style=\"display:inline;vertical-align:middle;\" /></a></td></tr>\n",
       "<tr><td>28</td><td>IndexedVar</td><td>variable:&nbsp;34<br>indices:&nbsp;35<br></td><td><a class=\"ProveItLink\" href=\"../../../../../core_expr_types/expr_arrays/__pv_it/common/ed3988807226b81aad9d5e0a856a4f513aa9298e0/expr.ipynb\"><img src=\"../../../../../core_expr_types/expr_arrays/__pv_it/common/ed3988807226b81aad9d5e0a856a4f513aa9298e0/expr.png\" style=\"display:inline;vertical-align:middle;\" /></a></td></tr>\n",
       "<tr><td>29</td><td>Variable</td><td></td><td><a class=\"ProveItLink\" href=\"../../../../../__pv_it/common/e4aad701f7f5516d8e7f0d805d518bf02c13322a0/expr.ipynb\"><img src=\"../../../../../__pv_it/common/e4aad701f7f5516d8e7f0d805d518bf02c13322a0/expr.png\" style=\"display:inline;vertical-align:middle;\" /></a></td></tr>\n",
       "<tr><td>30</td><td>Variable</td><td></td><td><a class=\"ProveItLink\" href=\"../../../../../__pv_it/common/75b77068be7a61a1f04d03fa34a8f6252f6605dd0/expr.ipynb\"><img src=\"../../../../../__pv_it/common/75b77068be7a61a1f04d03fa34a8f6252f6605dd0/expr.png\" style=\"display:inline;vertical-align:middle;\" /></a></td></tr>\n",
       "<tr><td>31</td><td>Variable</td><td></td><td><a class=\"ProveItLink\" href=\"../../../../../__pv_it/common/e5e296931d7f88d2c0ed4dd1b8498a680788952f0/expr.ipynb\"><img src=\"../../../../../__pv_it/common/e5e296931d7f88d2c0ed4dd1b8498a680788952f0/expr.png\" style=\"display:inline;vertical-align:middle;\" /></a></td></tr>\n",
       "<tr><td>32</td><td>Variable</td><td></td><td><a class=\"ProveItLink\" href=\"../../../../../__pv_it/common/259d0846cd49c4882c35ec84d7a0b180713721cc0/expr.ipynb\"><img src=\"../../../../../__pv_it/common/259d0846cd49c4882c35ec84d7a0b180713721cc0/expr.png\" style=\"display:inline;vertical-align:middle;\" /></a></td></tr>\n",
       "<tr><td>33</td><td>Variable</td><td></td><td><a class=\"ProveItLink\" href=\"../../../../../__pv_it/common/c4a83a53f0ed6678b0c7a2d6d691a4b400f735c90/expr.ipynb\"><img src=\"../../../../../__pv_it/common/c4a83a53f0ed6678b0c7a2d6d691a4b400f735c90/expr.png\" style=\"display:inline;vertical-align:middle;\" /></a></td></tr>\n",
       "<tr><td>34</td><td>Variable</td><td></td><td><a class=\"ProveItLink\" href=\"../../../../../__pv_it/common/50527aea954422d65ebe44b8de200683294751540/expr.ipynb\"><img src=\"../../../../../__pv_it/common/50527aea954422d65ebe44b8de200683294751540/expr.png\" style=\"display:inline;vertical-align:middle;\" /></a></td></tr>\n",
       "<tr><td>35</td><td>ExprTuple</td><td>36, 37</td><td><a class=\"ProveItLink\" href=\"../../../../../core_expr_types/expr_arrays/__pv_it/common/8cc0879db459b7e49bd46852f9da16970a0f1f110/expr.ipynb\"><img src=\"../../../../../core_expr_types/expr_arrays/__pv_it/common/8cc0879db459b7e49bd46852f9da16970a0f1f110/expr.png\" style=\"display:inline;vertical-align:middle;\" /></a></td></tr>\n",
       "<tr><td>36</td><td>Variable</td><td></td><td><a class=\"ProveItLink\" href=\"../../../../../__pv_it/common/575a6156bb1c87c5beeaf38c302b5905ad57f5780/expr.ipynb\"><img src=\"../../../../../__pv_it/common/575a6156bb1c87c5beeaf38c302b5905ad57f5780/expr.png\" style=\"display:inline;vertical-align:middle;\" /></a></td></tr>\n",
       "<tr><td>37</td><td>Variable</td><td></td><td><a class=\"ProveItLink\" href=\"../../../../../__pv_it/common/5514cc9a63b9c2ed9b63934dd5e088ab0d4f10080/expr.ipynb\"><img src=\"../../../../../__pv_it/common/5514cc9a63b9c2ed9b63934dd5e088ab0d4f10080/expr.png\" style=\"display:inline;vertical-align:middle;\" /></a></td></tr>\n",
       "</table>\n"
      ],
      "text/plain": [
       "0. ((MultiQubitGate(A_{1, 1}, R_{1, 1}) & ..MultiQubitGate(A_{1, j}, R_{1, j}).. & MultiQubitGate(A_{1, k}, R_{1, k}) & MultiQubitGate(D_{1, 1}, S_{1, 1}) & ..MultiQubitGate(D_{1, j}, S_{1, j}).. & MultiQubitGate(D_{1, n}, S_{1, n}) & MultiQubitGate(C_{1, 1}, Q_{1, 1}) & ..MultiQubitGate(C_{1, j}, Q_{1, j}).. & MultiQubitGate(C_{1, h}, Q_{1, h})  \\\\ \n",
       "  \\colon & \\colon & \\colon & \\colon & \\colon & \\colon & \\colon & \\colon & \\colon  \\\\ \n",
       "  MultiQubitGate(A_{i, 1}, R_{i, 1}) & ..MultiQubitGate(A_{i, j}, R_{i, j}).. & MultiQubitGate(A_{i, k}, R_{i, k}) & MultiQubitGate(D_{i, 1}, S_{i, 1}) & ..MultiQubitGate(D_{i, j}, S_{i, j}).. & MultiQubitGate(D_{i, n}, S_{i, n}) & MultiQubitGate(C_{i, 1}, Q_{i, 1}) & ..MultiQubitGate(C_{i, j}, Q_{i, j}).. & MultiQubitGate(C_{i, h}, Q_{i, h})  \\\\ \n",
       "  \\colon & \\colon & \\colon & \\colon & \\colon & \\colon & \\colon & \\colon & \\colon  \\\\ \n",
       "  MultiQubitGate(A_{m, 1}, R_{m, 1}) & ..MultiQubitGate(A_{m, j}, R_{m, j}).. & MultiQubitGate(A_{m, k}, R_{m, k}) & MultiQubitGate(D_{m, 1}, S_{m, 1}) & ..MultiQubitGate(D_{m, j}, S_{m, j}).. & MultiQubitGate(D_{m, n}, S_{m, n}) & MultiQubitGate(C_{m, 1}, Q_{m, 1}) & ..MultiQubitGate(C_{m, j}, Q_{m, j}).. & MultiQubitGate(C_{m, h}, Q_{m, h})))\n",
       "   core type: ExprTuple\n",
       "   sub-expressions: 1\n",
       "1. MultiQubitGate(A_{1, 1}, R_{1, 1}) & ..MultiQubitGate(A_{1, j}, R_{1, j}).. & MultiQubitGate(A_{1, k}, R_{1, k}) & MultiQubitGate(D_{1, 1}, S_{1, 1}) & ..MultiQubitGate(D_{1, j}, S_{1, j}).. & MultiQubitGate(D_{1, n}, S_{1, n}) & MultiQubitGate(C_{1, 1}, Q_{1, 1}) & ..MultiQubitGate(C_{1, j}, Q_{1, j}).. & MultiQubitGate(C_{1, h}, Q_{1, h})  \\\\ \n",
       "  \\colon & \\colon & \\colon & \\colon & \\colon & \\colon & \\colon & \\colon & \\colon  \\\\ \n",
       "  MultiQubitGate(A_{i, 1}, R_{i, 1}) & ..MultiQubitGate(A_{i, j}, R_{i, j}).. & MultiQubitGate(A_{i, k}, R_{i, k}) & MultiQubitGate(D_{i, 1}, S_{i, 1}) & ..MultiQubitGate(D_{i, j}, S_{i, j}).. & MultiQubitGate(D_{i, n}, S_{i, n}) & MultiQubitGate(C_{i, 1}, Q_{i, 1}) & ..MultiQubitGate(C_{i, j}, Q_{i, j}).. & MultiQubitGate(C_{i, h}, Q_{i, h})  \\\\ \n",
       "  \\colon & \\colon & \\colon & \\colon & \\colon & \\colon & \\colon & \\colon & \\colon  \\\\ \n",
       "  MultiQubitGate(A_{m, 1}, R_{m, 1}) & ..MultiQubitGate(A_{m, j}, R_{m, j}).. & MultiQubitGate(A_{m, k}, R_{m, k}) & MultiQubitGate(D_{m, 1}, S_{m, 1}) & ..MultiQubitGate(D_{m, j}, S_{m, j}).. & MultiQubitGate(D_{m, n}, S_{m, n}) & MultiQubitGate(C_{m, 1}, Q_{m, 1}) & ..MultiQubitGate(C_{m, j}, Q_{m, j}).. & MultiQubitGate(C_{m, h}, Q_{m, h})\n",
       "   core type: ExprTuple\n",
       "   sub-expressions: 2\n",
       "2. (MultiQubitGate(A_{1, 1}, R_{1, 1}), ..MultiQubitGate(A_{1, j}, R_{1, j}).., MultiQubitGate(A_{1, k}, R_{1, k}), MultiQubitGate(D_{1, 1}, S_{1, 1}), ..MultiQubitGate(D_{1, j}, S_{1, j}).., MultiQubitGate(D_{1, n}, S_{1, n}), MultiQubitGate(C_{1, 1}, Q_{1, 1}), ..MultiQubitGate(C_{1, j}, Q_{1, j}).., MultiQubitGate(C_{1, h}, Q_{1, h})), ..(MultiQubitGate(A_{i, 1}, R_{i, 1}), ..MultiQubitGate(A_{i, j}, R_{i, j}).., MultiQubitGate(A_{i, k}, R_{i, k}), MultiQubitGate(D_{i, 1}, S_{i, 1}), ..MultiQubitGate(D_{i, j}, S_{i, j}).., MultiQubitGate(D_{i, n}, S_{i, n}), MultiQubitGate(C_{i, 1}, Q_{i, 1}), ..MultiQubitGate(C_{i, j}, Q_{i, j}).., MultiQubitGate(C_{i, h}, Q_{i, h})).., (MultiQubitGate(A_{m, 1}, R_{m, 1}), ..MultiQubitGate(A_{m, j}, R_{m, j}).., MultiQubitGate(A_{m, k}, R_{m, k}), MultiQubitGate(D_{m, 1}, S_{m, 1}), ..MultiQubitGate(D_{m, j}, S_{m, j}).., MultiQubitGate(D_{m, n}, S_{m, n}), MultiQubitGate(C_{m, 1}, Q_{m, 1}), ..MultiQubitGate(C_{m, j}, Q_{m, j}).., MultiQubitGate(C_{m, h}, Q_{m, h}))\n",
       "   core type: ExprRange\n",
       "   lambda_map: 3\n",
       "   start_index: 14\n",
       "   end_index: 4\n",
       "3. i -> (MultiQubitGate(A_{i, 1}, R_{i, 1}), ..MultiQubitGate(A_{i, j}, R_{i, j}).., MultiQubitGate(A_{i, k}, R_{i, k}), MultiQubitGate(D_{i, 1}, S_{i, 1}), ..MultiQubitGate(D_{i, j}, S_{i, j}).., MultiQubitGate(D_{i, n}, S_{i, n}), MultiQubitGate(C_{i, 1}, Q_{i, 1}), ..MultiQubitGate(C_{i, j}, Q_{i, j}).., MultiQubitGate(C_{i, h}, Q_{i, h}))\n",
       "   core type: Lambda\n",
       "   parameter: 36\n",
       "   body: 5\n",
       "4. m\n",
       "   core type: Variable\n",
       "   sub-expressions: \n",
       "5. (MultiQubitGate(A_{i, 1}, R_{i, 1}), ..MultiQubitGate(A_{i, j}, R_{i, j}).., MultiQubitGate(A_{i, k}, R_{i, k}), MultiQubitGate(D_{i, 1}, S_{i, 1}), ..MultiQubitGate(D_{i, j}, S_{i, j}).., MultiQubitGate(D_{i, n}, S_{i, n}), MultiQubitGate(C_{i, 1}, Q_{i, 1}), ..MultiQubitGate(C_{i, j}, Q_{i, j}).., MultiQubitGate(C_{i, h}, Q_{i, h}))\n",
       "   core type: ExprTuple\n",
       "   sub-expressions: 6, 7, 8\n",
       "6. MultiQubitGate(A_{i, 1}, R_{i, 1}), ..MultiQubitGate(A_{i, j}, R_{i, j}).., MultiQubitGate(A_{i, k}, R_{i, k})\n",
       "   core type: ExprRange\n",
       "   lambda_map: 9\n",
       "   start_index: 14\n",
       "   end_index: 10\n",
       "7. MultiQubitGate(D_{i, 1}, S_{i, 1}), ..MultiQubitGate(D_{i, j}, S_{i, j}).., MultiQubitGate(D_{i, n}, S_{i, n})\n",
       "   core type: ExprRange\n",
       "   lambda_map: 11\n",
       "   start_index: 14\n",
       "   end_index: 12\n",
       "8. MultiQubitGate(C_{i, 1}, Q_{i, 1}), ..MultiQubitGate(C_{i, j}, Q_{i, j}).., MultiQubitGate(C_{i, h}, Q_{i, h})\n",
       "   core type: ExprRange\n",
       "   lambda_map: 13\n",
       "   start_index: 14\n",
       "   end_index: 15\n",
       "9. j -> MultiQubitGate(A_{i, j}, R_{i, j})\n",
       "   core type: Lambda\n",
       "   parameter: 37\n",
       "   body: 16\n",
       "10. k\n",
       "    core type: Variable\n",
       "    sub-expressions: \n",
       "11. j -> MultiQubitGate(D_{i, j}, S_{i, j})\n",
       "    core type: Lambda\n",
       "    parameter: 37\n",
       "    body: 17\n",
       "12. n\n",
       "    core type: Variable\n",
       "    sub-expressions: \n",
       "13. j -> MultiQubitGate(C_{i, j}, Q_{i, j})\n",
       "    core type: Lambda\n",
       "    parameter: 37\n",
       "    body: 18\n",
       "14. 1\n",
       "    core type: Literal\n",
       "    sub-expressions: \n",
       "15. h\n",
       "    core type: Variable\n",
       "    sub-expressions: \n",
       "16. MultiQubitGate(A_{i, j}, R_{i, j})\n",
       "    core type: Operation\n",
       "    operator: 21\n",
       "    operands: 19\n",
       "17. MultiQubitGate(D_{i, j}, S_{i, j})\n",
       "    core type: Operation\n",
       "    operator: 21\n",
       "    operands: 20\n",
       "18. MultiQubitGate(C_{i, j}, Q_{i, j})\n",
       "    core type: Operation\n",
       "    operator: 21\n",
       "    operands: 22\n",
       "19. (A_{i, j}, R_{i, j})\n",
       "    core type: ExprTuple\n",
       "    sub-expressions: 23, 24\n",
       "20. (D_{i, j}, S_{i, j})\n",
       "    core type: ExprTuple\n",
       "    sub-expressions: 25, 26\n",
       "21. MULTI_QUBIT_GATE\n",
       "    core type: Literal\n",
       "    sub-expressions: \n",
       "22. (C_{i, j}, Q_{i, j})\n",
       "    core type: ExprTuple\n",
       "    sub-expressions: 27, 28\n",
       "23. A_{i, j}\n",
       "    core type: IndexedVar\n",
       "variable: 29\n",
       "indices: 35\n",
       "24. R_{i, j}\n",
       "    core type: IndexedVar\n",
       "variable: 30\n",
       "indices: 35\n",
       "25. D_{i, j}\n",
       "    core type: IndexedVar\n",
       "variable: 31\n",
       "indices: 35\n",
       "26. S_{i, j}\n",
       "    core type: IndexedVar\n",
       "variable: 32\n",
       "indices: 35\n",
       "27. C_{i, j}\n",
       "    core type: IndexedVar\n",
       "variable: 33\n",
       "indices: 35\n",
       "28. Q_{i, j}\n",
       "    core type: IndexedVar\n",
       "variable: 34\n",
       "indices: 35\n",
       "29. A\n",
       "    core type: Variable\n",
       "    sub-expressions: \n",
       "30. R\n",
       "    core type: Variable\n",
       "    sub-expressions: \n",
       "31. D\n",
       "    core type: Variable\n",
       "    sub-expressions: \n",
       "32. S\n",
       "    core type: Variable\n",
       "    sub-expressions: \n",
       "33. C\n",
       "    core type: Variable\n",
       "    sub-expressions: \n",
       "34. Q\n",
       "    core type: Variable\n",
       "    sub-expressions: \n",
       "35. (i, j)\n",
       "    core type: ExprTuple\n",
       "    sub-expressions: 36, 37\n",
       "36. i\n",
       "    core type: Variable\n",
       "    sub-expressions: \n",
       "37. j\n",
       "    core type: Variable\n",
       "    sub-expressions: "
      ]
     },
     "execution_count": 6,
     "metadata": {},
     "output_type": "execute_result"
    }
   ],
   "source": [
    "# display the expression information\n",
    "expr.expr_info()"
   ]
  },
  {
   "cell_type": "code",
   "execution_count": null,
   "metadata": {},
   "outputs": [],
   "source": []
  }
 ],
 "metadata": {
  "kernelspec": {
   "display_name": "Python 3",
   "language": "python",
   "name": "python3"
  }
 },
 "nbformat": 4,
 "nbformat_minor": 0
}