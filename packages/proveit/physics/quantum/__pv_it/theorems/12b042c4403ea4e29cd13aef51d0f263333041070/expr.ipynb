{
 "cells": [
  {
   "cell_type": "markdown",
   "metadata": {},
   "source": [
    "Expression of type <a class=\"ProveItLink\" href=\"../../../../../../../doc/html/api/proveit.ExprRange.html\">ExprRange</a>\n",
    "=======================\n",
    "# from the theory of <a class=\"ProveItLink\" href=\"../../../_theory_nbs_/theory.ipynb\">proveit.physics.quantum</a>"
   ]
  },
  {
   "cell_type": "code",
   "execution_count": 1,
   "metadata": {},
   "outputs": [],
   "source": [
    "import proveit\n",
    "# Automation is not needed when building an expression:\n",
    "proveit.defaults.automation = False # This will speed things up.\n",
    "proveit.defaults.inline_pngs = False # Makes files smaller.\n",
    "%load_expr # Load the stored expression as 'stored_expr'\n",
    "# import Expression classes needed to build the expression\n",
    "from proveit import ExprRange, g, h, i, j, k, m\n",
    "from proveit.core_expr_types.expr_arrays import Aij, Bij, Cij, Pij, Qij, Rij\n",
    "from proveit.numbers import one\n",
    "from proveit.physics.quantum.circuit import MultiQubitGate"
   ]
  },
  {
   "cell_type": "code",
   "execution_count": 2,
   "metadata": {},
   "outputs": [
    {
     "data": {
      "text/html": [
       "<strong id=\"expr\">expr:</strong> <a class=\"ProveItLink\" href=\"expr.ipynb\"><img src=\"expr.png\" style=\"display:inline;vertical-align:middle;\" /></a><br>"
      ],
      "text/plain": [
       "expr: (MultiQubitGate(A_{1, 1}, P_{1, 1}), ..MultiQubitGate(A_{1, j}, P_{1, j}).., MultiQubitGate(A_{1, g}, P_{1, g}), MultiQubitGate(B_{1, 1}, Q_{1, 1}), ..MultiQubitGate(B_{1, j}, Q_{1, j}).., MultiQubitGate(B_{1, h}, Q_{1, h}), MultiQubitGate(C_{1, 1}, R_{1, 1}), ..MultiQubitGate(C_{1, j}, R_{1, j}).., MultiQubitGate(C_{1, k}, R_{1, k})), ..(MultiQubitGate(A_{i, 1}, P_{i, 1}), ..MultiQubitGate(A_{i, j}, P_{i, j}).., MultiQubitGate(A_{i, g}, P_{i, g}), MultiQubitGate(B_{i, 1}, Q_{i, 1}), ..MultiQubitGate(B_{i, j}, Q_{i, j}).., MultiQubitGate(B_{i, h}, Q_{i, h}), MultiQubitGate(C_{i, 1}, R_{i, 1}), ..MultiQubitGate(C_{i, j}, R_{i, j}).., MultiQubitGate(C_{i, k}, R_{i, k})).., (MultiQubitGate(A_{m, 1}, P_{m, 1}), ..MultiQubitGate(A_{m, j}, P_{m, j}).., MultiQubitGate(A_{m, g}, P_{m, g}), MultiQubitGate(B_{m, 1}, Q_{m, 1}), ..MultiQubitGate(B_{m, j}, Q_{m, j}).., MultiQubitGate(B_{m, h}, Q_{m, h}), MultiQubitGate(C_{m, 1}, R_{m, 1}), ..MultiQubitGate(C_{m, j}, R_{m, j}).., MultiQubitGate(C_{m, k}, R_{m, k}))"
      ]
     },
     "execution_count": 2,
     "metadata": {},
     "output_type": "execute_result"
    }
   ],
   "source": [
    "# build up the expression from sub-expressions\n",
    "expr = ExprRange(i, [ExprRange(j, MultiQubitGate(Aij, Pij), one, g), ExprRange(j, MultiQubitGate(Bij, Qij), one, h), ExprRange(j, MultiQubitGate(Cij, Rij), one, k)], one, m)"
   ]
  },
  {
   "cell_type": "code",
   "execution_count": 3,
   "metadata": {},
   "outputs": [
    {
     "name": "stdout",
     "output_type": "stream",
     "text": [
      "Passed sanity check: expr matches stored_expr\n"
     ]
    }
   ],
   "source": [
    "# check that the built expression is the same as the stored expression\n",
    "assert expr == stored_expr\n",
    "assert expr._style_id == stored_expr._style_id\n",
    "print(\"Passed sanity check: expr matches stored_expr\")"
   ]
  },
  {
   "cell_type": "code",
   "execution_count": 4,
   "metadata": {},
   "outputs": [
    {
     "name": "stdout",
     "output_type": "stream",
     "text": [
      "\\left(\\hspace{2em} \\Qcircuit@C=1em @R=.7em{\n",
      "& \\gate{A_{1, 1}{\\Big \\{} P_{1, 1}} \n",
      "} \\hspace{2em}, \\ldots, \\hspace{2em} \\Qcircuit@C=1em @R=.7em{\n",
      "& \\gate{A_{1, g}{\\Big \\{} P_{1, g}} \n",
      "} \\hspace{2em}, \\hspace{2em} \\Qcircuit@C=1em @R=.7em{\n",
      "& \\gate{B_{1, 1}{\\Big \\{} Q_{1, 1}} \n",
      "} \\hspace{2em}, \\ldots, \\hspace{2em} \\Qcircuit@C=1em @R=.7em{\n",
      "& \\gate{B_{1, h}{\\Big \\{} Q_{1, h}} \n",
      "} \\hspace{2em}, \\hspace{2em} \\Qcircuit@C=1em @R=.7em{\n",
      "& \\gate{C_{1, 1}{\\Big \\{} R_{1, 1}} \n",
      "} \\hspace{2em}, \\ldots, \\hspace{2em} \\Qcircuit@C=1em @R=.7em{\n",
      "& \\gate{C_{1, k}{\\Big \\{} R_{1, k}} \n",
      "} \\hspace{2em}\\right), \\ldots, \\left(\\hspace{2em} \\Qcircuit@C=1em @R=.7em{\n",
      "& \\gate{A_{m, 1}{\\Big \\{} P_{m, 1}} \n",
      "} \\hspace{2em}, \\ldots, \\hspace{2em} \\Qcircuit@C=1em @R=.7em{\n",
      "& \\gate{A_{m, g}{\\Big \\{} P_{m, g}} \n",
      "} \\hspace{2em}, \\hspace{2em} \\Qcircuit@C=1em @R=.7em{\n",
      "& \\gate{B_{m, 1}{\\Big \\{} Q_{m, 1}} \n",
      "} \\hspace{2em}, \\ldots, \\hspace{2em} \\Qcircuit@C=1em @R=.7em{\n",
      "& \\gate{B_{m, h}{\\Big \\{} Q_{m, h}} \n",
      "} \\hspace{2em}, \\hspace{2em} \\Qcircuit@C=1em @R=.7em{\n",
      "& \\gate{C_{m, 1}{\\Big \\{} R_{m, 1}} \n",
      "} \\hspace{2em}, \\ldots, \\hspace{2em} \\Qcircuit@C=1em @R=.7em{\n",
      "& \\gate{C_{m, k}{\\Big \\{} R_{m, k}} \n",
      "} \\hspace{2em}\\right)\n"
     ]
    }
   ],
   "source": [
    "# Show the LaTeX representation of the expression for convenience if you need it.\n",
    "print(expr.latex())"
   ]
  },
  {
   "cell_type": "code",
   "execution_count": 5,
   "metadata": {},
   "outputs": [
    {
     "data": {
      "text/html": [
       "<table>\n",
       "<tr><th>name</th><th>description</th><th>default</th><th>current value</th><th>related methods</th></tr><tr><td>parameterization</td><td>'implicit' (default for LaTeX formatting) hides the parameter the ExprRange so the parameterization may be ambiguous (e.g., x_{1+1}, ..., x_{n+1}); 'explicit' (default for string formatting) reveals the parameterization (e.g. x_{1+1}, ..x_{k+1}.., x_{n+1}).</td><td>None</td><td>None/False</td><td>('with_explicit_parameterization', 'with_implicit_parameterization', 'with_default_parameterization_style')</td></tr>\n",
       "</table>\n"
      ],
      "text/plain": [
       "style name: parameterization\n",
       "description: 'implicit' (default for LaTeX formatting) hides the parameter the ExprRange so the parameterization may be ambiguous (e.g., x_{1+1}, ..., x_{n+1}); 'explicit' (default for string formatting) reveals the parameterization (e.g. x_{1+1}, ..x_{k+1}.., x_{n+1}).\n",
       "default: None\n",
       "current value: None/False\n",
       "related methods: ('with_explicit_parameterization', 'with_implicit_parameterization', 'with_default_parameterization_style')"
      ]
     },
     "execution_count": 5,
     "metadata": {},
     "output_type": "execute_result"
    }
   ],
   "source": [
    "expr.style_options()"
   ]
  },
  {
   "cell_type": "code",
   "execution_count": 6,
   "metadata": {},
   "outputs": [
    {
     "data": {
      "text/html": [
       "<table><tr><th>&nbsp;</th><th>core type</th><th>sub-expressions</th><th>expression</th></tr>\n",
       "<tr><td>0</td><td>ExprRange</td><td>lambda_map:&nbsp;1<br>start_index:&nbsp;12<br>end_index:&nbsp;2<br></td><td><a class=\"ProveItLink\" href=\"expr.ipynb\"><img src=\"expr.png\" style=\"display:inline;vertical-align:middle;\" /></a></td></tr>\n",
       "<tr><td>1</td><td>Lambda</td><td>parameter:&nbsp;34<br>body:&nbsp;3<br></td><td><a class=\"ProveItLink\" href=\"../a3cbbeecc0610f54c8e15e1bae61a6b7f170d96f0/expr.ipynb\"><img src=\"../a3cbbeecc0610f54c8e15e1bae61a6b7f170d96f0/expr.png\" style=\"display:inline;vertical-align:middle;\" /></a></td></tr>\n",
       "<tr><td>2</td><td>Variable</td><td></td><td><a class=\"ProveItLink\" href=\"../../../../../__pv_it/common/2dc4f15b3407a25e8d70754a86bf74f1871f92650/expr.ipynb\"><img src=\"../../../../../__pv_it/common/2dc4f15b3407a25e8d70754a86bf74f1871f92650/expr.png\" style=\"display:inline;vertical-align:middle;\" /></a></td></tr>\n",
       "<tr><td>3</td><td>ExprTuple</td><td>4, 5, 6</td><td><a class=\"ProveItLink\" href=\"../9a34c8d0013e0e555498ea9c41920ed34b66e8f90/expr.ipynb\"><img src=\"../9a34c8d0013e0e555498ea9c41920ed34b66e8f90/expr.png\" style=\"display:inline;vertical-align:middle;\" /></a></td></tr>\n",
       "<tr><td>4</td><td>ExprRange</td><td>lambda_map:&nbsp;7<br>start_index:&nbsp;12<br>end_index:&nbsp;8<br></td><td><a class=\"ProveItLink\" href=\"../a95d2d49b2262adcccdc40f0ed0aa060cc330f240/expr.ipynb\"><img src=\"../a95d2d49b2262adcccdc40f0ed0aa060cc330f240/expr.png\" style=\"display:inline;vertical-align:middle;\" /></a></td></tr>\n",
       "<tr><td>5</td><td>ExprRange</td><td>lambda_map:&nbsp;9<br>start_index:&nbsp;12<br>end_index:&nbsp;10<br></td><td><a class=\"ProveItLink\" href=\"../bfc0f9300c97c461155435cdec9b4dda2567d56c0/expr.ipynb\"><img src=\"../bfc0f9300c97c461155435cdec9b4dda2567d56c0/expr.png\" style=\"display:inline;vertical-align:middle;\" /></a></td></tr>\n",
       "<tr><td>6</td><td>ExprRange</td><td>lambda_map:&nbsp;11<br>start_index:&nbsp;12<br>end_index:&nbsp;13<br></td><td><a class=\"ProveItLink\" href=\"../139c2ff76e395a2195314eb1a6f1a3f75cd2875e0/expr.ipynb\"><img src=\"../139c2ff76e395a2195314eb1a6f1a3f75cd2875e0/expr.png\" style=\"display:inline;vertical-align:middle;\" /></a></td></tr>\n",
       "<tr><td>7</td><td>Lambda</td><td>parameter:&nbsp;35<br>body:&nbsp;14<br></td><td><a class=\"ProveItLink\" href=\"../de5ee4dad1e076b0209d3b460783538e9a6630fd0/expr.ipynb\"><img src=\"../de5ee4dad1e076b0209d3b460783538e9a6630fd0/expr.png\" style=\"display:inline;vertical-align:middle;\" /></a></td></tr>\n",
       "<tr><td>8</td><td>Variable</td><td></td><td><a class=\"ProveItLink\" href=\"../../../../../__pv_it/common/17f4748b91b4dae722cf590e1dfa2fba4b7984ca0/expr.ipynb\"><img src=\"../../../../../__pv_it/common/17f4748b91b4dae722cf590e1dfa2fba4b7984ca0/expr.png\" style=\"display:inline;vertical-align:middle;\" /></a></td></tr>\n",
       "<tr><td>9</td><td>Lambda</td><td>parameter:&nbsp;35<br>body:&nbsp;15<br></td><td><a class=\"ProveItLink\" href=\"../3d22c3422dbde61d680727d8e7e4137336eeb07f0/expr.ipynb\"><img src=\"../3d22c3422dbde61d680727d8e7e4137336eeb07f0/expr.png\" style=\"display:inline;vertical-align:middle;\" /></a></td></tr>\n",
       "<tr><td>10</td><td>Variable</td><td></td><td><a class=\"ProveItLink\" href=\"../../../../../__pv_it/common/62ea6b8ef24fd0a4fd963fbed7985d4e9614e4f70/expr.ipynb\"><img src=\"../../../../../__pv_it/common/62ea6b8ef24fd0a4fd963fbed7985d4e9614e4f70/expr.png\" style=\"display:inline;vertical-align:middle;\" /></a></td></tr>\n",
       "<tr><td>11</td><td>Lambda</td><td>parameter:&nbsp;35<br>body:&nbsp;16<br></td><td><a class=\"ProveItLink\" href=\"../d402a22a264a550105af00f00bc2b3698708cc280/expr.ipynb\"><img src=\"../d402a22a264a550105af00f00bc2b3698708cc280/expr.png\" style=\"display:inline;vertical-align:middle;\" /></a></td></tr>\n",
       "<tr><td>12</td><td>Literal</td><td></td><td><a class=\"ProveItLink\" href=\"../../../../../numbers/numerals/__pv_it/common/d278e359da0695d9652dd541d45264f93703e2e40/expr.ipynb\"><img src=\"../../../../../numbers/numerals/__pv_it/common/d278e359da0695d9652dd541d45264f93703e2e40/expr.png\" style=\"display:inline;vertical-align:middle;\" /></a></td></tr>\n",
       "<tr><td>13</td><td>Variable</td><td></td><td><a class=\"ProveItLink\" href=\"../../../../../__pv_it/common/b9fd37fc619babc74a6203459f110251586df6970/expr.ipynb\"><img src=\"../../../../../__pv_it/common/b9fd37fc619babc74a6203459f110251586df6970/expr.png\" style=\"display:inline;vertical-align:middle;\" /></a></td></tr>\n",
       "<tr><td>14</td><td>Operation</td><td>operator:&nbsp;19<br>operands:&nbsp;17<br></td><td><a class=\"ProveItLink\" href=\"../9791091456d1d7333cc5bb7e440b7cf088d83b9d0/expr.ipynb\"><img src=\"../9791091456d1d7333cc5bb7e440b7cf088d83b9d0/expr.png\" style=\"display:inline;vertical-align:middle;\" /></a></td></tr>\n",
       "<tr><td>15</td><td>Operation</td><td>operator:&nbsp;19<br>operands:&nbsp;18<br></td><td><a class=\"ProveItLink\" href=\"../b1e78206ac1a7547999c7b9e46936148449f2a0e0/expr.ipynb\"><img src=\"../b1e78206ac1a7547999c7b9e46936148449f2a0e0/expr.png\" style=\"display:inline;vertical-align:middle;\" /></a></td></tr>\n",
       "<tr><td>16</td><td>Operation</td><td>operator:&nbsp;19<br>operands:&nbsp;20<br></td><td><a class=\"ProveItLink\" href=\"../ee5c099043be902960a8a3a3d227315e950854090/expr.ipynb\"><img src=\"../ee5c099043be902960a8a3a3d227315e950854090/expr.png\" style=\"display:inline;vertical-align:middle;\" /></a></td></tr>\n",
       "<tr><td>17</td><td>ExprTuple</td><td>21, 22</td><td><a class=\"ProveItLink\" href=\"../91747498cf11824a3fd82ea7bc6000cf4ef05c5d0/expr.ipynb\"><img src=\"../91747498cf11824a3fd82ea7bc6000cf4ef05c5d0/expr.png\" style=\"display:inline;vertical-align:middle;\" /></a></td></tr>\n",
       "<tr><td>18</td><td>ExprTuple</td><td>23, 24</td><td><a class=\"ProveItLink\" href=\"../d8222b7ebab80b62626b6fa908c1c1d4212d27430/expr.ipynb\"><img src=\"../d8222b7ebab80b62626b6fa908c1c1d4212d27430/expr.png\" style=\"display:inline;vertical-align:middle;\" /></a></td></tr>\n",
       "<tr><td>19</td><td>Literal</td><td></td><td><a class=\"ProveItLink\" href=\"../../common/38deceb0a69e80c36399d725649803706802a2a90/expr.ipynb\"><img src=\"../../common/38deceb0a69e80c36399d725649803706802a2a90/expr.png\" style=\"display:inline;vertical-align:middle;\" /></a></td></tr>\n",
       "<tr><td>20</td><td>ExprTuple</td><td>25, 26</td><td><a class=\"ProveItLink\" href=\"../b302acc89bf74cc58aaeedee14788bdccbe40fcb0/expr.ipynb\"><img src=\"../b302acc89bf74cc58aaeedee14788bdccbe40fcb0/expr.png\" style=\"display:inline;vertical-align:middle;\" /></a></td></tr>\n",
       "<tr><td>21</td><td>IndexedVar</td><td>variable:&nbsp;27<br>indices:&nbsp;33<br></td><td><a class=\"ProveItLink\" href=\"../../../../../core_expr_types/expr_arrays/__pv_it/common/2db546578cd7f487d81f6e5492015be24135205c0/expr.ipynb\"><img src=\"../../../../../core_expr_types/expr_arrays/__pv_it/common/2db546578cd7f487d81f6e5492015be24135205c0/expr.png\" style=\"display:inline;vertical-align:middle;\" /></a></td></tr>\n",
       "<tr><td>22</td><td>IndexedVar</td><td>variable:&nbsp;28<br>indices:&nbsp;33<br></td><td><a class=\"ProveItLink\" href=\"../../../../../core_expr_types/expr_arrays/__pv_it/common/da5e70c8a5ac12e898316a0e0213659f1f8f747b0/expr.ipynb\"><img src=\"../../../../../core_expr_types/expr_arrays/__pv_it/common/da5e70c8a5ac12e898316a0e0213659f1f8f747b0/expr.png\" style=\"display:inline;vertical-align:middle;\" /></a></td></tr>\n",
       "<tr><td>23</td><td>IndexedVar</td><td>variable:&nbsp;29<br>indices:&nbsp;33<br></td><td><a class=\"ProveItLink\" href=\"../../../../../core_expr_types/expr_arrays/__pv_it/common/c912acdcbf2a77f4b6227d5e6d9a04712546dd990/expr.ipynb\"><img src=\"../../../../../core_expr_types/expr_arrays/__pv_it/common/c912acdcbf2a77f4b6227d5e6d9a04712546dd990/expr.png\" style=\"display:inline;vertical-align:middle;\" /></a></td></tr>\n",
       "<tr><td>24</td><td>IndexedVar</td><td>variable:&nbsp;30<br>indices:&nbsp;33<br></td><td><a class=\"ProveItLink\" href=\"../../../../../core_expr_types/expr_arrays/__pv_it/common/ed3988807226b81aad9d5e0a856a4f513aa9298e0/expr.ipynb\"><img src=\"../../../../../core_expr_types/expr_arrays/__pv_it/common/ed3988807226b81aad9d5e0a856a4f513aa9298e0/expr.png\" style=\"display:inline;vertical-align:middle;\" /></a></td></tr>\n",
       "<tr><td>25</td><td>IndexedVar</td><td>variable:&nbsp;31<br>indices:&nbsp;33<br></td><td><a class=\"ProveItLink\" href=\"../../../../../core_expr_types/expr_arrays/__pv_it/common/cfc3f031aff613b33998523b9e88a4b21bb7543a0/expr.ipynb\"><img src=\"../../../../../core_expr_types/expr_arrays/__pv_it/common/cfc3f031aff613b33998523b9e88a4b21bb7543a0/expr.png\" style=\"display:inline;vertical-align:middle;\" /></a></td></tr>\n",
       "<tr><td>26</td><td>IndexedVar</td><td>variable:&nbsp;32<br>indices:&nbsp;33<br></td><td><a class=\"ProveItLink\" href=\"../../../../../core_expr_types/expr_arrays/__pv_it/common/5b641b71d66d043829a47456d8ebd2a5855c4d0d0/expr.ipynb\"><img src=\"../../../../../core_expr_types/expr_arrays/__pv_it/common/5b641b71d66d043829a47456d8ebd2a5855c4d0d0/expr.png\" style=\"display:inline;vertical-align:middle;\" /></a></td></tr>\n",
       "<tr><td>27</td><td>Variable</td><td></td><td><a class=\"ProveItLink\" href=\"../../../../../__pv_it/common/e4aad701f7f5516d8e7f0d805d518bf02c13322a0/expr.ipynb\"><img src=\"../../../../../__pv_it/common/e4aad701f7f5516d8e7f0d805d518bf02c13322a0/expr.png\" style=\"display:inline;vertical-align:middle;\" /></a></td></tr>\n",
       "<tr><td>28</td><td>Variable</td><td></td><td><a class=\"ProveItLink\" href=\"../../../../../__pv_it/common/d5fc3066299847984076662ce51556220bdb6cfb0/expr.ipynb\"><img src=\"../../../../../__pv_it/common/d5fc3066299847984076662ce51556220bdb6cfb0/expr.png\" style=\"display:inline;vertical-align:middle;\" /></a></td></tr>\n",
       "<tr><td>29</td><td>Variable</td><td></td><td><a class=\"ProveItLink\" href=\"../../../../../__pv_it/common/4eca3b30dcf58a58494e201d1b7886d8643a617b0/expr.ipynb\"><img src=\"../../../../../__pv_it/common/4eca3b30dcf58a58494e201d1b7886d8643a617b0/expr.png\" style=\"display:inline;vertical-align:middle;\" /></a></td></tr>\n",
       "<tr><td>30</td><td>Variable</td><td></td><td><a class=\"ProveItLink\" href=\"../../../../../__pv_it/common/50527aea954422d65ebe44b8de200683294751540/expr.ipynb\"><img src=\"../../../../../__pv_it/common/50527aea954422d65ebe44b8de200683294751540/expr.png\" style=\"display:inline;vertical-align:middle;\" /></a></td></tr>\n",
       "<tr><td>31</td><td>Variable</td><td></td><td><a class=\"ProveItLink\" href=\"../../../../../__pv_it/common/c4a83a53f0ed6678b0c7a2d6d691a4b400f735c90/expr.ipynb\"><img src=\"../../../../../__pv_it/common/c4a83a53f0ed6678b0c7a2d6d691a4b400f735c90/expr.png\" style=\"display:inline;vertical-align:middle;\" /></a></td></tr>\n",
       "<tr><td>32</td><td>Variable</td><td></td><td><a class=\"ProveItLink\" href=\"../../../../../__pv_it/common/75b77068be7a61a1f04d03fa34a8f6252f6605dd0/expr.ipynb\"><img src=\"../../../../../__pv_it/common/75b77068be7a61a1f04d03fa34a8f6252f6605dd0/expr.png\" style=\"display:inline;vertical-align:middle;\" /></a></td></tr>\n",
       "<tr><td>33</td><td>ExprTuple</td><td>34, 35</td><td><a class=\"ProveItLink\" href=\"../../../../../core_expr_types/expr_arrays/__pv_it/common/8cc0879db459b7e49bd46852f9da16970a0f1f110/expr.ipynb\"><img src=\"../../../../../core_expr_types/expr_arrays/__pv_it/common/8cc0879db459b7e49bd46852f9da16970a0f1f110/expr.png\" style=\"display:inline;vertical-align:middle;\" /></a></td></tr>\n",
       "<tr><td>34</td><td>Variable</td><td></td><td><a class=\"ProveItLink\" href=\"../../../../../__pv_it/common/575a6156bb1c87c5beeaf38c302b5905ad57f5780/expr.ipynb\"><img src=\"../../../../../__pv_it/common/575a6156bb1c87c5beeaf38c302b5905ad57f5780/expr.png\" style=\"display:inline;vertical-align:middle;\" /></a></td></tr>\n",
       "<tr><td>35</td><td>Variable</td><td></td><td><a class=\"ProveItLink\" href=\"../../../../../__pv_it/common/5514cc9a63b9c2ed9b63934dd5e088ab0d4f10080/expr.ipynb\"><img src=\"../../../../../__pv_it/common/5514cc9a63b9c2ed9b63934dd5e088ab0d4f10080/expr.png\" style=\"display:inline;vertical-align:middle;\" /></a></td></tr>\n",
       "</table>\n"
      ],
      "text/plain": [
       "0. (MultiQubitGate(A_{1, 1}, P_{1, 1}), ..MultiQubitGate(A_{1, j}, P_{1, j}).., MultiQubitGate(A_{1, g}, P_{1, g}), MultiQubitGate(B_{1, 1}, Q_{1, 1}), ..MultiQubitGate(B_{1, j}, Q_{1, j}).., MultiQubitGate(B_{1, h}, Q_{1, h}), MultiQubitGate(C_{1, 1}, R_{1, 1}), ..MultiQubitGate(C_{1, j}, R_{1, j}).., MultiQubitGate(C_{1, k}, R_{1, k})), ..(MultiQubitGate(A_{i, 1}, P_{i, 1}), ..MultiQubitGate(A_{i, j}, P_{i, j}).., MultiQubitGate(A_{i, g}, P_{i, g}), MultiQubitGate(B_{i, 1}, Q_{i, 1}), ..MultiQubitGate(B_{i, j}, Q_{i, j}).., MultiQubitGate(B_{i, h}, Q_{i, h}), MultiQubitGate(C_{i, 1}, R_{i, 1}), ..MultiQubitGate(C_{i, j}, R_{i, j}).., MultiQubitGate(C_{i, k}, R_{i, k})).., (MultiQubitGate(A_{m, 1}, P_{m, 1}), ..MultiQubitGate(A_{m, j}, P_{m, j}).., MultiQubitGate(A_{m, g}, P_{m, g}), MultiQubitGate(B_{m, 1}, Q_{m, 1}), ..MultiQubitGate(B_{m, j}, Q_{m, j}).., MultiQubitGate(B_{m, h}, Q_{m, h}), MultiQubitGate(C_{m, 1}, R_{m, 1}), ..MultiQubitGate(C_{m, j}, R_{m, j}).., MultiQubitGate(C_{m, k}, R_{m, k}))\n",
       "   core type: ExprRange\n",
       "   lambda_map: 1\n",
       "   start_index: 12\n",
       "   end_index: 2\n",
       "1. i -> (MultiQubitGate(A_{i, 1}, P_{i, 1}), ..MultiQubitGate(A_{i, j}, P_{i, j}).., MultiQubitGate(A_{i, g}, P_{i, g}), MultiQubitGate(B_{i, 1}, Q_{i, 1}), ..MultiQubitGate(B_{i, j}, Q_{i, j}).., MultiQubitGate(B_{i, h}, Q_{i, h}), MultiQubitGate(C_{i, 1}, R_{i, 1}), ..MultiQubitGate(C_{i, j}, R_{i, j}).., MultiQubitGate(C_{i, k}, R_{i, k}))\n",
       "   core type: Lambda\n",
       "   parameter: 34\n",
       "   body: 3\n",
       "2. m\n",
       "   core type: Variable\n",
       "   sub-expressions: \n",
       "3. (MultiQubitGate(A_{i, 1}, P_{i, 1}), ..MultiQubitGate(A_{i, j}, P_{i, j}).., MultiQubitGate(A_{i, g}, P_{i, g}), MultiQubitGate(B_{i, 1}, Q_{i, 1}), ..MultiQubitGate(B_{i, j}, Q_{i, j}).., MultiQubitGate(B_{i, h}, Q_{i, h}), MultiQubitGate(C_{i, 1}, R_{i, 1}), ..MultiQubitGate(C_{i, j}, R_{i, j}).., MultiQubitGate(C_{i, k}, R_{i, k}))\n",
       "   core type: ExprTuple\n",
       "   sub-expressions: 4, 5, 6\n",
       "4. MultiQubitGate(A_{i, 1}, P_{i, 1}), ..MultiQubitGate(A_{i, j}, P_{i, j}).., MultiQubitGate(A_{i, g}, P_{i, g})\n",
       "   core type: ExprRange\n",
       "   lambda_map: 7\n",
       "   start_index: 12\n",
       "   end_index: 8\n",
       "5. MultiQubitGate(B_{i, 1}, Q_{i, 1}), ..MultiQubitGate(B_{i, j}, Q_{i, j}).., MultiQubitGate(B_{i, h}, Q_{i, h})\n",
       "   core type: ExprRange\n",
       "   lambda_map: 9\n",
       "   start_index: 12\n",
       "   end_index: 10\n",
       "6. MultiQubitGate(C_{i, 1}, R_{i, 1}), ..MultiQubitGate(C_{i, j}, R_{i, j}).., MultiQubitGate(C_{i, k}, R_{i, k})\n",
       "   core type: ExprRange\n",
       "   lambda_map: 11\n",
       "   start_index: 12\n",
       "   end_index: 13\n",
       "7. j -> MultiQubitGate(A_{i, j}, P_{i, j})\n",
       "   core type: Lambda\n",
       "   parameter: 35\n",
       "   body: 14\n",
       "8. g\n",
       "   core type: Variable\n",
       "   sub-expressions: \n",
       "9. j -> MultiQubitGate(B_{i, j}, Q_{i, j})\n",
       "   core type: Lambda\n",
       "   parameter: 35\n",
       "   body: 15\n",
       "10. h\n",
       "    core type: Variable\n",
       "    sub-expressions: \n",
       "11. j -> MultiQubitGate(C_{i, j}, R_{i, j})\n",
       "    core type: Lambda\n",
       "    parameter: 35\n",
       "    body: 16\n",
       "12. 1\n",
       "    core type: Literal\n",
       "    sub-expressions: \n",
       "13. k\n",
       "    core type: Variable\n",
       "    sub-expressions: \n",
       "14. MultiQubitGate(A_{i, j}, P_{i, j})\n",
       "    core type: Operation\n",
       "    operator: 19\n",
       "    operands: 17\n",
       "15. MultiQubitGate(B_{i, j}, Q_{i, j})\n",
       "    core type: Operation\n",
       "    operator: 19\n",
       "    operands: 18\n",
       "16. MultiQubitGate(C_{i, j}, R_{i, j})\n",
       "    core type: Operation\n",
       "    operator: 19\n",
       "    operands: 20\n",
       "17. (A_{i, j}, P_{i, j})\n",
       "    core type: ExprTuple\n",
       "    sub-expressions: 21, 22\n",
       "18. (B_{i, j}, Q_{i, j})\n",
       "    core type: ExprTuple\n",
       "    sub-expressions: 23, 24\n",
       "19. MULTI_QUBIT_GATE\n",
       "    core type: Literal\n",
       "    sub-expressions: \n",
       "20. (C_{i, j}, R_{i, j})\n",
       "    core type: ExprTuple\n",
       "    sub-expressions: 25, 26\n",
       "21. A_{i, j}\n",
       "    core type: IndexedVar\n",
       "variable: 27\n",
       "indices: 33\n",
       "22. P_{i, j}\n",
       "    core type: IndexedVar\n",
       "variable: 28\n",
       "indices: 33\n",
       "23. B_{i, j}\n",
       "    core type: IndexedVar\n",
       "variable: 29\n",
       "indices: 33\n",
       "24. Q_{i, j}\n",
       "    core type: IndexedVar\n",
       "variable: 30\n",
       "indices: 33\n",
       "25. C_{i, j}\n",
       "    core type: IndexedVar\n",
       "variable: 31\n",
       "indices: 33\n",
       "26. R_{i, j}\n",
       "    core type: IndexedVar\n",
       "variable: 32\n",
       "indices: 33\n",
       "27. A\n",
       "    core type: Variable\n",
       "    sub-expressions: \n",
       "28. P\n",
       "    core type: Variable\n",
       "    sub-expressions: \n",
       "29. B\n",
       "    core type: Variable\n",
       "    sub-expressions: \n",
       "30. Q\n",
       "    core type: Variable\n",
       "    sub-expressions: \n",
       "31. C\n",
       "    core type: Variable\n",
       "    sub-expressions: \n",
       "32. R\n",
       "    core type: Variable\n",
       "    sub-expressions: \n",
       "33. (i, j)\n",
       "    core type: ExprTuple\n",
       "    sub-expressions: 34, 35\n",
       "34. i\n",
       "    core type: Variable\n",
       "    sub-expressions: \n",
       "35. j\n",
       "    core type: Variable\n",
       "    sub-expressions: "
      ]
     },
     "execution_count": 6,
     "metadata": {},
     "output_type": "execute_result"
    }
   ],
   "source": [
    "# display the expression information\n",
    "expr.expr_info()"
   ]
  },
  {
   "cell_type": "code",
   "execution_count": null,
   "metadata": {},
   "outputs": [],
   "source": []
  }
 ],
 "metadata": {
  "kernelspec": {
   "display_name": "Python 3",
   "language": "python",
   "name": "python3"
  }
 },
 "nbformat": 4,
 "nbformat_minor": 0
}