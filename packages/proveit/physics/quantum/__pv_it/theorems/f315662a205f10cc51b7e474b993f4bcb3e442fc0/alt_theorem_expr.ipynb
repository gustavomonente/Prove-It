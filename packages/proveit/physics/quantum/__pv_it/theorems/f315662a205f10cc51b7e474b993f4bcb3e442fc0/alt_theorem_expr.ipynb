{
 "cells": [
  {
   "cell_type": "markdown",
   "metadata": {},
   "source": [
    "Temporary notebook for <a class=\"ProveItLink\" href=\"../../../_theorems_.ipynb#single_space_equiv\">single_space_equiv</a> of type <a href=\"../../../../../../../doc/html/api/proveit.logic.Forall.html\">Forall</a>\n",
    "=======================\n",
    "# a not-yet-official theorem from the theory of <a class=\"ProveItLink\" href=\"../../../_theory_nbs_/theory.ipynb\">proveit.physics.quantum</a>"
   ]
  },
  {
   "cell_type": "code",
   "execution_count": null,
   "metadata": {},
   "outputs": [],
   "source": [
    "import proveit\n",
    "# Automation is not needed when building an expression:\n",
    "proveit.defaults.automation = False # This will speed things up\n",
    "proveit.defaults.inline_pngs = False # Makes files smaller.\n",
    "%load_theorem_expr # Load the stored theorem expression as 'stored_expr'\n",
    "# import Expression classes needed to build the expression\n",
    "from proveit import A, B, C, D, ExprArray, ExprRange, IndexedVar, Q, R, Variable, i, j, k, m, n\n",
    "from proveit.core_expr_types.expr_arrays import Aij, Cij, Rij, S11_to_Smn, Sij\n",
    "from proveit.logic import Forall, Implies\n",
    "from proveit.numbers import NaturalPos, one\n",
    "from proveit.physics.quantum import Gate\n",
    "from proveit.physics.quantum.circuit import Circuit, CircuitEquiv, MultiQubitGate"
   ]
  },
  {
   "cell_type": "code",
   "execution_count": null,
   "metadata": {},
   "outputs": [],
   "source": [
    "# build up the expression from sub-expressions\n",
    "sub_expr1 = Variable(\"_a\", latex_format = r\"{_{-}a}\")\n",
    "sub_expr2 = Variable(\"_b\", latex_format = r\"{_{-}b}\")\n",
    "sub_expr3 = [sub_expr1, sub_expr2]\n",
    "sub_expr4 = [ExprRange(j, Gate(IndexedVar(B, j)), one, n)]\n",
    "sub_expr5 = [ExprRange(j, Gate(IndexedVar(D, j)), one, n)]\n",
    "sub_expr6 = ExprRange(i, [ExprRange(j, MultiQubitGate(Aij, Sij), one, n)], one, m)\n",
    "sub_expr7 = ExprRange(i, [ExprRange(j, MultiQubitGate(Cij, Rij), one, n)], one, k)\n",
    "expr = Forall([k, m, n], Forall([ExprRange(sub_expr1, ExprRange(sub_expr2, IndexedVar(A, sub_expr3), one, n), one, m), ExprRange(sub_expr1, IndexedVar(B, sub_expr1), one, n), ExprRange(sub_expr1, ExprRange(sub_expr2, IndexedVar(C, sub_expr3), one, n), one, k), ExprRange(sub_expr1, IndexedVar(D, sub_expr1), one, n), S11_to_Smn, ExprRange(sub_expr1, IndexedVar(Q, sub_expr1), one, n), ExprRange(sub_expr1, ExprRange(sub_expr2, IndexedVar(R, sub_expr3), one, n), one, k)], Implies(CircuitEquiv(Circuit(ExprArray(sub_expr4)), Circuit(ExprArray(sub_expr5))), CircuitEquiv(Circuit(ExprArray(sub_expr6, sub_expr4, sub_expr7)), Circuit(ExprArray(sub_expr6, sub_expr5, sub_expr7)))).with_wrapping_at(2)).wrap_params(), domains = [NaturalPos, NaturalPos, NaturalPos])"
   ]
  },
  {
   "cell_type": "code",
   "execution_count": null,
   "metadata": {},
   "outputs": [],
   "source": [
    "# check that the built expression is the same as the stored expression\n",
    "assert expr == stored_expr\n",
    "assert expr._style_id == stored_expr._style_id\n",
    "print(\"Passed sanity check: single_space_equiv matches stored_expr\")"
   ]
  },
  {
   "cell_type": "code",
   "execution_count": null,
   "metadata": {},
   "outputs": [],
   "source": [
    "# Show the LaTeX representation of the expression for convenience if you need it.\n",
    "print(expr.latex())"
   ]
  },
  {
   "cell_type": "code",
   "execution_count": null,
   "metadata": {},
   "outputs": [],
   "source": [
    "expr.style_options()"
   ]
  },
  {
   "cell_type": "code",
   "execution_count": null,
   "metadata": {},
   "outputs": [],
   "source": [
    "# display the expression information\n",
    "expr.expr_info()"
   ]
  },
  {
   "cell_type": "code",
   "execution_count": null,
   "metadata": {},
   "outputs": [],
   "source": []
  }
 ],
 "metadata": {
  "kernelspec": {
   "display_name": "Python 3",
   "language": "python",
   "name": "python3"
  }
 },
 "nbformat": 4,
 "nbformat_minor": 0
}