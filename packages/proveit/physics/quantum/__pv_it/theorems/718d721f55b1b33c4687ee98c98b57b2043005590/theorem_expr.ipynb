{
 "cells": [
  {
   "cell_type": "markdown",
   "metadata": {},
   "source": [
    "Theorem <a class=\"ProveItLink\" href=\"../../../_theorems_.ipynb#unary_multi_qubit_gate_reduction\">unary_multi_qubit_gate_reduction</a> of type <a class=\"ProveItLink\" href=\"../../../../../../../doc/html/api/proveit.logic.Forall.html\">Forall</a>\n",
    "=======================\n",
    "# from the theory of <a class=\"ProveItLink\" href=\"../../../_theory_nbs_/theory.ipynb\">proveit.physics.quantum</a>\n",
    "*** see <a class=\"ProveItLink\" href=\"dependencies.ipynb\">dependencies</a> ***"
   ]
  },
  {
   "cell_type": "code",
   "execution_count": 1,
   "metadata": {},
   "outputs": [],
   "source": [
    "import proveit\n",
    "# Automation is not needed when only building an expression:\n",
    "proveit.defaults.automation = False # This will speed things up.\n",
    "proveit.defaults.inline_pngs = False # Makes files smaller.\n",
    "%load_theorem_expr # Load the stored theorem expression as 'stored_expr'\n",
    "# import the special expression\n",
    "from proveit.physics.quantum import unary_multi_qubit_gate_reduction"
   ]
  },
  {
   "cell_type": "code",
   "execution_count": 2,
   "metadata": {},
   "outputs": [
    {
     "name": "stdout",
     "output_type": "stream",
     "text": [
      "Passed sanity check: unary_multi_qubit_gate_reduction matches stored_expr\n"
     ]
    }
   ],
   "source": [
    "# check that the built expression is the same as the stored expression\n",
    "assert unary_multi_qubit_gate_reduction.expr == stored_expr\n",
    "assert unary_multi_qubit_gate_reduction.expr._style_id == stored_expr._style_id\n",
    "print(\"Passed sanity check: unary_multi_qubit_gate_reduction matches stored_expr\")"
   ]
  },
  {
   "cell_type": "code",
   "execution_count": 3,
   "metadata": {},
   "outputs": [
    {
     "name": "stdout",
     "output_type": "stream",
     "text": [
      "\\vdash \\forall_{U}~\\left[\\forall_{A \\in \\mathbb{N}^+}~\\left(\\hspace{2em} \\Qcircuit@C=1em @R=.7em{\n",
      "& \\gate{U{\\Big \\{} \\left\\{A\\right\\}} \n",
      "} \\hspace{2em} = \\hspace{2em} \\Qcircuit@C=1em @R=.7em{\n",
      "& \\gate{U} \n",
      "} \\hspace{2em}\\right)\\right]\n"
     ]
    }
   ],
   "source": [
    "# Show the LaTeX representation of the expression for convenience if you need it.\n",
    "print(unary_multi_qubit_gate_reduction.latex())"
   ]
  },
  {
   "cell_type": "code",
   "execution_count": 4,
   "metadata": {},
   "outputs": [
    {
     "data": {
      "text/html": [
       "<table>\n",
       "<tr><th>name</th><th>description</th><th>default</th><th>current value</th><th>related methods</th></tr><tr><td>with_wrapping</td><td>If 'True', wrap the Expression after the parameters</td><td>None</td><td>None/False</td><td>('with_wrapping',)</td></tr>\n",
       "<tr><td>wrap_params</td><td>If 'True', wraps every two parameters AND wraps the Expression after the parameters</td><td>None</td><td>None/False</td><td>('with_params',)</td></tr>\n",
       "<tr><td>justification</td><td>justify to the 'left', 'center', or 'right' in the array cells</td><td>center</td><td>center</td><td>('with_justification',)</td></tr>\n",
       "</table>\n"
      ],
      "text/plain": [
       "style name: with_wrapping\n",
       "description: If 'True', wrap the Expression after the parameters\n",
       "default: None\n",
       "current value: None/False\n",
       "related methods: ('with_wrapping',)\n",
       "style name: wrap_params\n",
       "description: If 'True', wraps every two parameters AND wraps the Expression after the parameters\n",
       "default: None\n",
       "current value: None/False\n",
       "related methods: ('with_params',)\n",
       "style name: justification\n",
       "description: justify to the 'left', 'center', or 'right' in the array cells\n",
       "default: center\n",
       "current value: center\n",
       "related methods: ('with_justification',)"
      ]
     },
     "execution_count": 4,
     "metadata": {},
     "output_type": "execute_result"
    }
   ],
   "source": [
    "unary_multi_qubit_gate_reduction.style_options()"
   ]
  },
  {
   "cell_type": "code",
   "execution_count": 5,
   "metadata": {},
   "outputs": [
    {
     "data": {
      "text/html": [
       "<table><tr><th>&nbsp;</th><th>core type</th><th>sub-expressions</th><th>expression</th></tr>\n",
       "<tr><td>0</td><td>Operation</td><td>operator:&nbsp;4<br>operand:&nbsp;2<br></td><td><a class=\"ProveItLink\" href=\"../eaf80e79d0c87755ede3753fc6dd1643c9e1c1ff0/expr.ipynb\"><img src=\"../eaf80e79d0c87755ede3753fc6dd1643c9e1c1ff0/expr.png\" style=\"display:inline;vertical-align:middle;\" /></a></td></tr>\n",
       "<tr><td>1</td><td>ExprTuple</td><td>2</td><td><a class=\"ProveItLink\" href=\"../f893d575dc1a183908ecbb5bec1944d72cb3226c0/expr.ipynb\"><img src=\"../f893d575dc1a183908ecbb5bec1944d72cb3226c0/expr.png\" style=\"display:inline;vertical-align:middle;\" /></a></td></tr>\n",
       "<tr><td>2</td><td>Lambda</td><td>parameter:&nbsp;22<br>body:&nbsp;3<br></td><td><a class=\"ProveItLink\" href=\"../2e785d63a718ec1baf2b2684f218f7f7f1c6f4080/expr.ipynb\"><img src=\"../2e785d63a718ec1baf2b2684f218f7f7f1c6f4080/expr.png\" style=\"display:inline;vertical-align:middle;\" /></a></td></tr>\n",
       "<tr><td>3</td><td>Operation</td><td>operator:&nbsp;4<br>operand:&nbsp;6<br></td><td><a class=\"ProveItLink\" href=\"../717c04e9a0bb50e75326e5785b5e94db0644066b0/expr.ipynb\"><img src=\"../717c04e9a0bb50e75326e5785b5e94db0644066b0/expr.png\" style=\"display:inline;vertical-align:middle;\" /></a></td></tr>\n",
       "<tr><td>4</td><td>Literal</td><td></td><td><a class=\"ProveItLink\" href=\"../../../../../logic/booleans/quantification/universality/__pv_it/common/684d35ba98fcbf8ca5011f865e530a51e77730630/expr.ipynb\"><img src=\"../../../../../logic/booleans/quantification/universality/__pv_it/common/684d35ba98fcbf8ca5011f865e530a51e77730630/expr.png\" style=\"display:inline;vertical-align:middle;\" /></a></td></tr>\n",
       "<tr><td>5</td><td>ExprTuple</td><td>6</td><td><a class=\"ProveItLink\" href=\"../05b17397a6921a0227ece9fe6fba7f5ab02a7d360/expr.ipynb\"><img src=\"../05b17397a6921a0227ece9fe6fba7f5ab02a7d360/expr.png\" style=\"display:inline;vertical-align:middle;\" /></a></td></tr>\n",
       "<tr><td>6</td><td>Lambda</td><td>parameter:&nbsp;25<br>body:&nbsp;7<br></td><td><a class=\"ProveItLink\" href=\"../36a64d0bf0b3dac6007e5e78056a3a49e0bb626e0/expr.ipynb\"><img src=\"../36a64d0bf0b3dac6007e5e78056a3a49e0bb626e0/expr.png\" style=\"display:inline;vertical-align:middle;\" /></a></td></tr>\n",
       "<tr><td>7</td><td>Conditional</td><td>value:&nbsp;8<br>condition:&nbsp;9<br></td><td><a class=\"ProveItLink\" href=\"../a59a1ac19c57727877469a63aa656e513efde91a0/expr.ipynb\"><img src=\"../a59a1ac19c57727877469a63aa656e513efde91a0/expr.png\" style=\"display:inline;vertical-align:middle;\" /></a></td></tr>\n",
       "<tr><td>8</td><td>Operation</td><td>operator:&nbsp;10<br>operands:&nbsp;11<br></td><td><a class=\"ProveItLink\" href=\"../04075f4df2d69bc6dcd317f99ce7192a508fe2980/expr.ipynb\"><img src=\"../04075f4df2d69bc6dcd317f99ce7192a508fe2980/expr.png\" style=\"display:inline;vertical-align:middle;\" /></a></td></tr>\n",
       "<tr><td>9</td><td>Operation</td><td>operator:&nbsp;12<br>operands:&nbsp;13<br></td><td><a class=\"ProveItLink\" href=\"../91c4962e87e08156f5a9e2fbf38af3ef001cdba00/expr.ipynb\"><img src=\"../91c4962e87e08156f5a9e2fbf38af3ef001cdba00/expr.png\" style=\"display:inline;vertical-align:middle;\" /></a></td></tr>\n",
       "<tr><td>10</td><td>Literal</td><td></td><td><a class=\"ProveItLink\" href=\"../../../../../logic/equality/__pv_it/common/731dd3955b346c1320ed5c0ba7a618bcda61457d0/expr.ipynb\"><img src=\"../../../../../logic/equality/__pv_it/common/731dd3955b346c1320ed5c0ba7a618bcda61457d0/expr.png\" style=\"display:inline;vertical-align:middle;\" /></a></td></tr>\n",
       "<tr><td>11</td><td>ExprTuple</td><td>14, 15</td><td><a class=\"ProveItLink\" href=\"../02f4493eaccc2a931cb7828a985848969ec6d4610/expr.ipynb\"><img src=\"../02f4493eaccc2a931cb7828a985848969ec6d4610/expr.png\" style=\"display:inline;vertical-align:middle;\" /></a></td></tr>\n",
       "<tr><td>12</td><td>Literal</td><td></td><td><a class=\"ProveItLink\" href=\"../../../../../logic/sets/membership/__pv_it/common/7171deca84f71f47a6ec7696972d1632274a12880/expr.ipynb\"><img src=\"../../../../../logic/sets/membership/__pv_it/common/7171deca84f71f47a6ec7696972d1632274a12880/expr.png\" style=\"display:inline;vertical-align:middle;\" /></a></td></tr>\n",
       "<tr><td>13</td><td>ExprTuple</td><td>25, 16</td><td><a class=\"ProveItLink\" href=\"../c6c2d17fd9c7d8ded42bc245edc75f72b97439f90/expr.ipynb\"><img src=\"../c6c2d17fd9c7d8ded42bc245edc75f72b97439f90/expr.png\" style=\"display:inline;vertical-align:middle;\" /></a></td></tr>\n",
       "<tr><td>14</td><td>Operation</td><td>operator:&nbsp;17<br>operands:&nbsp;18<br></td><td><a class=\"ProveItLink\" href=\"../eb4a68077af6112debae398e826de4aa74984c380/expr.ipynb\"><img src=\"../eb4a68077af6112debae398e826de4aa74984c380/expr.png\" style=\"display:inline;vertical-align:middle;\" /></a></td></tr>\n",
       "<tr><td>15</td><td>Operation</td><td>operator:&nbsp;19<br>operand:&nbsp;22<br></td><td><a class=\"ProveItLink\" href=\"../293d7309aef359e5ddf2948a1bc9c72ed0a342db0/expr.ipynb\"><img src=\"../293d7309aef359e5ddf2948a1bc9c72ed0a342db0/expr.png\" style=\"display:inline;vertical-align:middle;\" /></a></td></tr>\n",
       "<tr><td>16</td><td>Literal</td><td></td><td><a class=\"ProveItLink\" href=\"../../../../../numbers/number_sets/natural_numbers/__pv_it/common/a2a7252783c385c028dad802e97575c19e456b990/expr.ipynb\"><img src=\"../../../../../numbers/number_sets/natural_numbers/__pv_it/common/a2a7252783c385c028dad802e97575c19e456b990/expr.png\" style=\"display:inline;vertical-align:middle;\" /></a></td></tr>\n",
       "<tr><td>17</td><td>Literal</td><td></td><td><a class=\"ProveItLink\" href=\"../../common/38deceb0a69e80c36399d725649803706802a2a90/expr.ipynb\"><img src=\"../../common/38deceb0a69e80c36399d725649803706802a2a90/expr.png\" style=\"display:inline;vertical-align:middle;\" /></a></td></tr>\n",
       "<tr><td>18</td><td>ExprTuple</td><td>22, 21</td><td><a class=\"ProveItLink\" href=\"../cf8c466e69b56e5b4708085edbe540176d39cb950/expr.ipynb\"><img src=\"../cf8c466e69b56e5b4708085edbe540176d39cb950/expr.png\" style=\"display:inline;vertical-align:middle;\" /></a></td></tr>\n",
       "<tr><td>19</td><td>Literal</td><td></td><td><a class=\"ProveItLink\" href=\"../../common/44032ea2879a75be63dcfde93f5992fe3f6108fc0/expr.ipynb\"><img src=\"../../common/44032ea2879a75be63dcfde93f5992fe3f6108fc0/expr.png\" style=\"display:inline;vertical-align:middle;\" /></a></td></tr>\n",
       "<tr><td>20</td><td>ExprTuple</td><td>22</td><td><a class=\"ProveItLink\" href=\"../be93ba573e682e5a4eda7bec756f04e609735a160/expr.ipynb\"><img src=\"../be93ba573e682e5a4eda7bec756f04e609735a160/expr.png\" style=\"display:inline;vertical-align:middle;\" /></a></td></tr>\n",
       "<tr><td>21</td><td>Operation</td><td>operator:&nbsp;23<br>operand:&nbsp;25<br></td><td><a class=\"ProveItLink\" href=\"../aabdf91b30833368ad2d6a59053cbb02377f06c10/expr.ipynb\"><img src=\"../aabdf91b30833368ad2d6a59053cbb02377f06c10/expr.png\" style=\"display:inline;vertical-align:middle;\" /></a></td></tr>\n",
       "<tr><td>22</td><td>Variable</td><td></td><td><a class=\"ProveItLink\" href=\"../../../../../__pv_it/common/6ddf39b7b2366eff1df3a68b2f717158052394110/expr.ipynb\"><img src=\"../../../../../__pv_it/common/6ddf39b7b2366eff1df3a68b2f717158052394110/expr.png\" style=\"display:inline;vertical-align:middle;\" /></a></td></tr>\n",
       "<tr><td>23</td><td>Literal</td><td></td><td><a class=\"ProveItLink\" href=\"../../../../../logic/sets/enumeration/__pv_it/common/f7caf702081f903a6ea3d95d680568dd78698f5a0/expr.ipynb\"><img src=\"../../../../../logic/sets/enumeration/__pv_it/common/f7caf702081f903a6ea3d95d680568dd78698f5a0/expr.png\" style=\"display:inline;vertical-align:middle;\" /></a></td></tr>\n",
       "<tr><td>24</td><td>ExprTuple</td><td>25</td><td><a class=\"ProveItLink\" href=\"../0593fb3fd45e428ede78a1c9e57ad43924c1ecdd0/expr.ipynb\"><img src=\"../0593fb3fd45e428ede78a1c9e57ad43924c1ecdd0/expr.png\" style=\"display:inline;vertical-align:middle;\" /></a></td></tr>\n",
       "<tr><td>25</td><td>Variable</td><td></td><td><a class=\"ProveItLink\" href=\"../../../../../__pv_it/common/e4aad701f7f5516d8e7f0d805d518bf02c13322a0/expr.ipynb\"><img src=\"../../../../../__pv_it/common/e4aad701f7f5516d8e7f0d805d518bf02c13322a0/expr.png\" style=\"display:inline;vertical-align:middle;\" /></a></td></tr>\n",
       "</table>\n"
      ],
      "text/plain": [
       "0. forall_{U} [forall_{A in NaturalPos} (MultiQubitGate(U, {A}) = Gate(U))]\n",
       "   core type: Operation\n",
       "   operator: 4\n",
       "   operand: 2\n",
       "1. (U -> [forall_{A in NaturalPos} (MultiQubitGate(U, {A}) = Gate(U))])\n",
       "   core type: ExprTuple\n",
       "   sub-expressions: 2\n",
       "2. U -> [forall_{A in NaturalPos} (MultiQubitGate(U, {A}) = Gate(U))]\n",
       "   core type: Lambda\n",
       "   parameter: 22\n",
       "   body: 3\n",
       "3. forall_{A in NaturalPos} (MultiQubitGate(U, {A}) = Gate(U))\n",
       "   core type: Operation\n",
       "   operator: 4\n",
       "   operand: 6\n",
       "4. forall\n",
       "   core type: Literal\n",
       "   sub-expressions: \n",
       "5. (A -> {MultiQubitGate(U, {A}) = Gate(U) if A in NaturalPos.)\n",
       "   core type: ExprTuple\n",
       "   sub-expressions: 6\n",
       "6. A -> {MultiQubitGate(U, {A}) = Gate(U) if A in NaturalPos.\n",
       "   core type: Lambda\n",
       "   parameter: 25\n",
       "   body: 7\n",
       "7. {MultiQubitGate(U, {A}) = Gate(U) if A in NaturalPos.\n",
       "   core type: Conditional\n",
       "   value: 8\n",
       "   condition: 9\n",
       "8. MultiQubitGate(U, {A}) = Gate(U)\n",
       "   core type: Operation\n",
       "   operator: 10\n",
       "   operands: 11\n",
       "9. A in NaturalPos\n",
       "   core type: Operation\n",
       "   operator: 12\n",
       "   operands: 13\n",
       "10. =\n",
       "    core type: Literal\n",
       "    sub-expressions: \n",
       "11. (MultiQubitGate(U, {A}), Gate(U))\n",
       "    core type: ExprTuple\n",
       "    sub-expressions: 14, 15\n",
       "12. in\n",
       "    core type: Literal\n",
       "    sub-expressions: \n",
       "13. (A, NaturalPos)\n",
       "    core type: ExprTuple\n",
       "    sub-expressions: 25, 16\n",
       "14. MultiQubitGate(U, {A})\n",
       "    core type: Operation\n",
       "    operator: 17\n",
       "    operands: 18\n",
       "15. Gate(U)\n",
       "    core type: Operation\n",
       "    operator: 19\n",
       "    operand: 22\n",
       "16. NaturalPos\n",
       "    core type: Literal\n",
       "    sub-expressions: \n",
       "17. MULTI_QUBIT_GATE\n",
       "    core type: Literal\n",
       "    sub-expressions: \n",
       "18. (U, {A})\n",
       "    core type: ExprTuple\n",
       "    sub-expressions: 22, 21\n",
       "19. GATE\n",
       "    core type: Literal\n",
       "    sub-expressions: \n",
       "20. (U)\n",
       "    core type: ExprTuple\n",
       "    sub-expressions: 22\n",
       "21. {A}\n",
       "    core type: Operation\n",
       "    operator: 23\n",
       "    operand: 25\n",
       "22. U\n",
       "    core type: Variable\n",
       "    sub-expressions: \n",
       "23. Set\n",
       "    core type: Literal\n",
       "    sub-expressions: \n",
       "24. (A)\n",
       "    core type: ExprTuple\n",
       "    sub-expressions: 25\n",
       "25. A\n",
       "    core type: Variable\n",
       "    sub-expressions: "
      ]
     },
     "execution_count": 5,
     "metadata": {},
     "output_type": "execute_result"
    }
   ],
   "source": [
    "# display the expression information\n",
    "unary_multi_qubit_gate_reduction.expr_info()"
   ]
  },
  {
   "cell_type": "code",
   "execution_count": null,
   "metadata": {},
   "outputs": [],
   "source": []
  }
 ],
 "metadata": {
  "kernelspec": {
   "display_name": "Python 3",
   "language": "python",
   "name": "python3"
  }
 },
 "nbformat": 4,
 "nbformat_minor": 0
}