{
 "cells": [
  {
   "cell_type": "markdown",
   "metadata": {},
   "source": [
    "Theorem <a class=\"ProveItLink\" href=\"../../../_theorems_.ipynb#summed_qubit_state_in_qubit_space\">summed_qubit_state_in_qubit_space</a> of type <a class=\"ProveItLink\" href=\"../../../../../../../doc/html/api/proveit.logic.Forall.html\">Forall</a>\n",
    "=======================\n",
    "# from the theory of <a class=\"ProveItLink\" href=\"../../../_theory_nbs_/theory.ipynb\">proveit.physics.quantum</a>\n",
    "*** see <a class=\"ProveItLink\" href=\"dependencies.ipynb\">dependencies</a> ***"
   ]
  },
  {
   "cell_type": "code",
   "execution_count": 1,
   "metadata": {},
   "outputs": [],
   "source": [
    "import proveit\n",
    "# Automation is not needed when only building an expression:\n",
    "proveit.defaults.automation = False # This will speed things up.\n",
    "proveit.defaults.inline_pngs = False # Makes files smaller.\n",
    "%load_theorem_expr # Load the stored theorem expression as 'stored_expr'\n",
    "# import the special expression\n",
    "from proveit.physics.quantum import summed_qubit_state_in_qubit_space"
   ]
  },
  {
   "cell_type": "code",
   "execution_count": 2,
   "metadata": {},
   "outputs": [
    {
     "name": "stdout",
     "output_type": "stream",
     "text": [
      "Passed sanity check: summed_qubit_state_in_qubit_space matches stored_expr\n"
     ]
    }
   ],
   "source": [
    "# check that the built expression is the same as the stored expression\n",
    "assert summed_qubit_state_in_qubit_space.expr == stored_expr\n",
    "assert summed_qubit_state_in_qubit_space.expr._style_id == stored_expr._style_id\n",
    "print(\"Passed sanity check: summed_qubit_state_in_qubit_space matches stored_expr\")"
   ]
  },
  {
   "cell_type": "code",
   "execution_count": 3,
   "metadata": {},
   "outputs": [
    {
     "name": "stdout",
     "output_type": "stream",
     "text": [
      "\\vdash \\forall_{n \\in \\mathbb{N}^+}~\\left[\\forall_{x_{1}, \\ldots, x_{n} \\in \\mathbb{C}^{2}}~\\left(\\left(x_{1} + \\ldots + x_{n}\\right) \\in \\mathbb{C}^{2}\\right)\\right]\n"
     ]
    }
   ],
   "source": [
    "# Show the LaTeX representation of the expression for convenience if you need it.\n",
    "print(summed_qubit_state_in_qubit_space.latex())"
   ]
  },
  {
   "cell_type": "code",
   "execution_count": 4,
   "metadata": {},
   "outputs": [
    {
     "data": {
      "text/html": [
       "<table>\n",
       "<tr><th>name</th><th>description</th><th>default</th><th>current value</th><th>related methods</th></tr><tr><td>with_wrapping</td><td>If 'True', wrap the Expression after the parameters</td><td>None</td><td>None/False</td><td>('with_wrapping',)</td></tr>\n",
       "<tr><td>wrap_params</td><td>If 'True', wraps every two parameters AND wraps the Expression after the parameters</td><td>None</td><td>None/False</td><td>('with_params',)</td></tr>\n",
       "<tr><td>justification</td><td>justify to the 'left', 'center', or 'right' in the array cells</td><td>center</td><td>center</td><td>('with_justification',)</td></tr>\n",
       "</table>\n"
      ],
      "text/plain": [
       "style name: with_wrapping\n",
       "description: If 'True', wrap the Expression after the parameters\n",
       "default: None\n",
       "current value: None/False\n",
       "related methods: ('with_wrapping',)\n",
       "style name: wrap_params\n",
       "description: If 'True', wraps every two parameters AND wraps the Expression after the parameters\n",
       "default: None\n",
       "current value: None/False\n",
       "related methods: ('with_params',)\n",
       "style name: justification\n",
       "description: justify to the 'left', 'center', or 'right' in the array cells\n",
       "default: center\n",
       "current value: center\n",
       "related methods: ('with_justification',)"
      ]
     },
     "execution_count": 4,
     "metadata": {},
     "output_type": "execute_result"
    }
   ],
   "source": [
    "summed_qubit_state_in_qubit_space.style_options()"
   ]
  },
  {
   "cell_type": "code",
   "execution_count": 5,
   "metadata": {},
   "outputs": [
    {
     "data": {
      "text/html": [
       "<table><tr><th>&nbsp;</th><th>core type</th><th>sub-expressions</th><th>expression</th></tr>\n",
       "<tr><td>0</td><td>Operation</td><td>operator:&nbsp;6<br>operand:&nbsp;2<br></td><td><a class=\"ProveItLink\" href=\"../0326d9200018cddcb0b194e02e567c2779e3e7e40/expr.ipynb\"><img src=\"../0326d9200018cddcb0b194e02e567c2779e3e7e40/expr.png\" style=\"display:inline;vertical-align:middle;\" /></a></td></tr>\n",
       "<tr><td>1</td><td>ExprTuple</td><td>2</td><td><a class=\"ProveItLink\" href=\"../4342ad328d9de56cff474b9937a13fc521e41e2c0/expr.ipynb\"><img src=\"../4342ad328d9de56cff474b9937a13fc521e41e2c0/expr.png\" style=\"display:inline;vertical-align:middle;\" /></a></td></tr>\n",
       "<tr><td>2</td><td>Lambda</td><td>parameter:&nbsp;26<br>body:&nbsp;3<br></td><td><a class=\"ProveItLink\" href=\"../57623a4a7fa285c78511517a84a53584f865700b0/expr.ipynb\"><img src=\"../57623a4a7fa285c78511517a84a53584f865700b0/expr.png\" style=\"display:inline;vertical-align:middle;\" /></a></td></tr>\n",
       "<tr><td>3</td><td>Conditional</td><td>value:&nbsp;4<br>condition:&nbsp;5<br></td><td><a class=\"ProveItLink\" href=\"../16a54d4717a2bc8d9ae6910985bdb121a6eaedca0/expr.ipynb\"><img src=\"../16a54d4717a2bc8d9ae6910985bdb121a6eaedca0/expr.png\" style=\"display:inline;vertical-align:middle;\" /></a></td></tr>\n",
       "<tr><td>4</td><td>Operation</td><td>operator:&nbsp;6<br>operand:&nbsp;9<br></td><td><a class=\"ProveItLink\" href=\"../ff8d7a6095798156e52d3a484a5ed2d842243c520/expr.ipynb\"><img src=\"../ff8d7a6095798156e52d3a484a5ed2d842243c520/expr.png\" style=\"display:inline;vertical-align:middle;\" /></a></td></tr>\n",
       "<tr><td>5</td><td>Operation</td><td>operator:&nbsp;27<br>operands:&nbsp;8<br></td><td><a class=\"ProveItLink\" href=\"../ae59bd0f03e1fa8f7acebab16a13247bdc6eea470/expr.ipynb\"><img src=\"../ae59bd0f03e1fa8f7acebab16a13247bdc6eea470/expr.png\" style=\"display:inline;vertical-align:middle;\" /></a></td></tr>\n",
       "<tr><td>6</td><td>Literal</td><td></td><td><a class=\"ProveItLink\" href=\"../../../../../logic/booleans/quantification/universality/__pv_it/common/684d35ba98fcbf8ca5011f865e530a51e77730630/expr.ipynb\"><img src=\"../../../../../logic/booleans/quantification/universality/__pv_it/common/684d35ba98fcbf8ca5011f865e530a51e77730630/expr.png\" style=\"display:inline;vertical-align:middle;\" /></a></td></tr>\n",
       "<tr><td>7</td><td>ExprTuple</td><td>9</td><td><a class=\"ProveItLink\" href=\"../68d1422da058fb0b95320d800ad29c6b58e974da0/expr.ipynb\"><img src=\"../68d1422da058fb0b95320d800ad29c6b58e974da0/expr.png\" style=\"display:inline;vertical-align:middle;\" /></a></td></tr>\n",
       "<tr><td>8</td><td>ExprTuple</td><td>26, 10</td><td><a class=\"ProveItLink\" href=\"../080dd91cc3570be1095df8a1115684c8dda0284e0/expr.ipynb\"><img src=\"../080dd91cc3570be1095df8a1115684c8dda0284e0/expr.png\" style=\"display:inline;vertical-align:middle;\" /></a></td></tr>\n",
       "<tr><td>9</td><td>Lambda</td><td>parameters:&nbsp;20<br>body:&nbsp;11<br></td><td><a class=\"ProveItLink\" href=\"../9ecb5216288f7c5846300eec74dbc2baa82a52db0/expr.ipynb\"><img src=\"../9ecb5216288f7c5846300eec74dbc2baa82a52db0/expr.png\" style=\"display:inline;vertical-align:middle;\" /></a></td></tr>\n",
       "<tr><td>10</td><td>Literal</td><td></td><td><a class=\"ProveItLink\" href=\"../../../../../numbers/number_sets/natural_numbers/__pv_it/common/a2a7252783c385c028dad802e97575c19e456b990/expr.ipynb\"><img src=\"../../../../../numbers/number_sets/natural_numbers/__pv_it/common/a2a7252783c385c028dad802e97575c19e456b990/expr.png\" style=\"display:inline;vertical-align:middle;\" /></a></td></tr>\n",
       "<tr><td>11</td><td>Conditional</td><td>value:&nbsp;12<br>condition:&nbsp;13<br></td><td><a class=\"ProveItLink\" href=\"../9e6329fec334ad7fdee0242a869cb44eb5d6e4ac0/expr.ipynb\"><img src=\"../9e6329fec334ad7fdee0242a869cb44eb5d6e4ac0/expr.png\" style=\"display:inline;vertical-align:middle;\" /></a></td></tr>\n",
       "<tr><td>12</td><td>Operation</td><td>operator:&nbsp;27<br>operands:&nbsp;14<br></td><td><a class=\"ProveItLink\" href=\"../7c484bbe5720ffb8011b38a4e8bb92ea41ca00e70/expr.ipynb\"><img src=\"../7c484bbe5720ffb8011b38a4e8bb92ea41ca00e70/expr.png\" style=\"display:inline;vertical-align:middle;\" /></a></td></tr>\n",
       "<tr><td>13</td><td>Operation</td><td>operator:&nbsp;15<br>operands:&nbsp;16<br></td><td><a class=\"ProveItLink\" href=\"../a7e4516ab411d3290af57f24f23f83f3860a32250/expr.ipynb\"><img src=\"../a7e4516ab411d3290af57f24f23f83f3860a32250/expr.png\" style=\"display:inline;vertical-align:middle;\" /></a></td></tr>\n",
       "<tr><td>14</td><td>ExprTuple</td><td>17, 30</td><td><a class=\"ProveItLink\" href=\"../a9e05ca88239faa8bfe0524b155e33ef5645532f0/expr.ipynb\"><img src=\"../a9e05ca88239faa8bfe0524b155e33ef5645532f0/expr.png\" style=\"display:inline;vertical-align:middle;\" /></a></td></tr>\n",
       "<tr><td>15</td><td>Literal</td><td></td><td><a class=\"ProveItLink\" href=\"../../../../../logic/booleans/conjunction/__pv_it/common/26b94b53e70b1d77b70f0d9d4236347db37731060/expr.ipynb\"><img src=\"../../../../../logic/booleans/conjunction/__pv_it/common/26b94b53e70b1d77b70f0d9d4236347db37731060/expr.png\" style=\"display:inline;vertical-align:middle;\" /></a></td></tr>\n",
       "<tr><td>16</td><td>ExprTuple</td><td>18</td><td><a class=\"ProveItLink\" href=\"../52752334a3e3abb685e7b47dcc82a60114047dd80/expr.ipynb\"><img src=\"../52752334a3e3abb685e7b47dcc82a60114047dd80/expr.png\" style=\"display:inline;vertical-align:middle;\" /></a></td></tr>\n",
       "<tr><td>17</td><td>Operation</td><td>operator:&nbsp;19<br>operands:&nbsp;20<br></td><td><a class=\"ProveItLink\" href=\"../f02cba57ba3371e1042300d44d4b549b6e8173440/expr.ipynb\"><img src=\"../f02cba57ba3371e1042300d44d4b549b6e8173440/expr.png\" style=\"display:inline;vertical-align:middle;\" /></a></td></tr>\n",
       "<tr><td>18</td><td>ExprRange</td><td>lambda_map:&nbsp;21<br>start_index:&nbsp;25<br>end_index:&nbsp;26<br></td><td><a class=\"ProveItLink\" href=\"../0e51b132518b8a538163536e79f5c6dcdb3112800/expr.ipynb\"><img src=\"../0e51b132518b8a538163536e79f5c6dcdb3112800/expr.png\" style=\"display:inline;vertical-align:middle;\" /></a></td></tr>\n",
       "<tr><td>19</td><td>Literal</td><td></td><td><a class=\"ProveItLink\" href=\"../../../../../numbers/addition/__pv_it/common/1f38fe5cce441387feef296e2c0a2eac260bb4f30/expr.ipynb\"><img src=\"../../../../../numbers/addition/__pv_it/common/1f38fe5cce441387feef296e2c0a2eac260bb4f30/expr.png\" style=\"display:inline;vertical-align:middle;\" /></a></td></tr>\n",
       "<tr><td>20</td><td>ExprTuple</td><td>22</td><td><a class=\"ProveItLink\" href=\"../68879e82f57b50f8b10ac886a15df49e26599dca0/expr.ipynb\"><img src=\"../68879e82f57b50f8b10ac886a15df49e26599dca0/expr.png\" style=\"display:inline;vertical-align:middle;\" /></a></td></tr>\n",
       "<tr><td>21</td><td>Lambda</td><td>parameter:&nbsp;35<br>body:&nbsp;23<br></td><td><a class=\"ProveItLink\" href=\"../11c695c2428dc59668299d95de6f7e3da6ebe89b0/expr.ipynb\"><img src=\"../11c695c2428dc59668299d95de6f7e3da6ebe89b0/expr.png\" style=\"display:inline;vertical-align:middle;\" /></a></td></tr>\n",
       "<tr><td>22</td><td>ExprRange</td><td>lambda_map:&nbsp;24<br>start_index:&nbsp;25<br>end_index:&nbsp;26<br></td><td><a class=\"ProveItLink\" href=\"../../../../../core_expr_types/__pv_it/common/787727f81f9180661d3864875ecab8ab340921c50/expr.ipynb\"><img src=\"../../../../../core_expr_types/__pv_it/common/787727f81f9180661d3864875ecab8ab340921c50/expr.png\" style=\"display:inline;vertical-align:middle;\" /></a></td></tr>\n",
       "<tr><td>23</td><td>Operation</td><td>operator:&nbsp;27<br>operands:&nbsp;28<br></td><td><a class=\"ProveItLink\" href=\"../f4ffeba6e3a4e7c9abd3c1d61f1a32650fb26bda0/expr.ipynb\"><img src=\"../f4ffeba6e3a4e7c9abd3c1d61f1a32650fb26bda0/expr.png\" style=\"display:inline;vertical-align:middle;\" /></a></td></tr>\n",
       "<tr><td>24</td><td>Lambda</td><td>parameter:&nbsp;35<br>body:&nbsp;29<br></td><td><a class=\"ProveItLink\" href=\"../../../../../core_expr_types/__pv_it/common/9f9da64a6f3f7f4d7d39593366f06c70046127720/expr.ipynb\"><img src=\"../../../../../core_expr_types/__pv_it/common/9f9da64a6f3f7f4d7d39593366f06c70046127720/expr.png\" style=\"display:inline;vertical-align:middle;\" /></a></td></tr>\n",
       "<tr><td>25</td><td>Literal</td><td></td><td><a class=\"ProveItLink\" href=\"../../../../../numbers/numerals/__pv_it/common/d278e359da0695d9652dd541d45264f93703e2e40/expr.ipynb\"><img src=\"../../../../../numbers/numerals/__pv_it/common/d278e359da0695d9652dd541d45264f93703e2e40/expr.png\" style=\"display:inline;vertical-align:middle;\" /></a></td></tr>\n",
       "<tr><td>26</td><td>Variable</td><td></td><td><a class=\"ProveItLink\" href=\"../../../../../__pv_it/common/6165c9bb82ce3c7097cdba4440a1aeeb6eaca8a40/expr.ipynb\"><img src=\"../../../../../__pv_it/common/6165c9bb82ce3c7097cdba4440a1aeeb6eaca8a40/expr.png\" style=\"display:inline;vertical-align:middle;\" /></a></td></tr>\n",
       "<tr><td>27</td><td>Literal</td><td></td><td><a class=\"ProveItLink\" href=\"../../../../../logic/sets/membership/__pv_it/common/7171deca84f71f47a6ec7696972d1632274a12880/expr.ipynb\"><img src=\"../../../../../logic/sets/membership/__pv_it/common/7171deca84f71f47a6ec7696972d1632274a12880/expr.png\" style=\"display:inline;vertical-align:middle;\" /></a></td></tr>\n",
       "<tr><td>28</td><td>ExprTuple</td><td>29, 30</td><td><a class=\"ProveItLink\" href=\"../d73127bcb9ba50736e348910f1be69198bc0686d0/expr.ipynb\"><img src=\"../d73127bcb9ba50736e348910f1be69198bc0686d0/expr.png\" style=\"display:inline;vertical-align:middle;\" /></a></td></tr>\n",
       "<tr><td>29</td><td>IndexedVar</td><td>variable:&nbsp;31<br>index:&nbsp;35<br></td><td><a class=\"ProveItLink\" href=\"../../../../../core_expr_types/__pv_it/common/2b235eefbcbf7d9287528d44110903b9cfed0a2a0/expr.ipynb\"><img src=\"../../../../../core_expr_types/__pv_it/common/2b235eefbcbf7d9287528d44110903b9cfed0a2a0/expr.png\" style=\"display:inline;vertical-align:middle;\" /></a></td></tr>\n",
       "<tr><td>30</td><td>Operation</td><td>operator:&nbsp;33<br>operands:&nbsp;34<br></td><td><a class=\"ProveItLink\" href=\"../../common/bcc2ec3b41a8488455e0f3f0d58e9b2fb88b32f00/expr.ipynb\"><img src=\"../../common/bcc2ec3b41a8488455e0f3f0d58e9b2fb88b32f00/expr.png\" style=\"display:inline;vertical-align:middle;\" /></a></td></tr>\n",
       "<tr><td>31</td><td>Variable</td><td></td><td><a class=\"ProveItLink\" href=\"../../../../../__pv_it/common/a2581dc5df71d9a30bad37de14965fa5fec97a240/expr.ipynb\"><img src=\"../../../../../__pv_it/common/a2581dc5df71d9a30bad37de14965fa5fec97a240/expr.png\" style=\"display:inline;vertical-align:middle;\" /></a></td></tr>\n",
       "<tr><td>32</td><td>ExprTuple</td><td>35</td><td><a class=\"ProveItLink\" href=\"../../../../../core_expr_types/__pv_it/common/ecf50ade416ab41c42c9f4e777b4c862cd9469670/expr.ipynb\"><img src=\"../../../../../core_expr_types/__pv_it/common/ecf50ade416ab41c42c9f4e777b4c862cd9469670/expr.png\" style=\"display:inline;vertical-align:middle;\" /></a></td></tr>\n",
       "<tr><td>33</td><td>Literal</td><td></td><td><a class=\"ProveItLink\" href=\"../../../../../numbers/exponentiation/__pv_it/common/31d1b89e3c2fad7d997556c69b6be6425b6f59a40/expr.ipynb\"><img src=\"../../../../../numbers/exponentiation/__pv_it/common/31d1b89e3c2fad7d997556c69b6be6425b6f59a40/expr.png\" style=\"display:inline;vertical-align:middle;\" /></a></td></tr>\n",
       "<tr><td>34</td><td>ExprTuple</td><td>36, 37</td><td><a class=\"ProveItLink\" href=\"../../common/e92cd31e436e526f58bf99933bcf3768c6d89df40/expr.ipynb\"><img src=\"../../common/e92cd31e436e526f58bf99933bcf3768c6d89df40/expr.png\" style=\"display:inline;vertical-align:middle;\" /></a></td></tr>\n",
       "<tr><td>35</td><td>Variable</td><td></td><td><a class=\"ProveItLink\" href=\"../../../../../core_expr_types/__pv_it/common/9e6d9d5d7eeb0342cf5bca68def0eb165a1a9bb10/expr.ipynb\"><img src=\"../../../../../core_expr_types/__pv_it/common/9e6d9d5d7eeb0342cf5bca68def0eb165a1a9bb10/expr.png\" style=\"display:inline;vertical-align:middle;\" /></a></td></tr>\n",
       "<tr><td>36</td><td>Literal</td><td></td><td><a class=\"ProveItLink\" href=\"../../../../../numbers/number_sets/complex_numbers/__pv_it/common/fbfabc61f6f66350b130e5a55a72b80825c065f90/expr.ipynb\"><img src=\"../../../../../numbers/number_sets/complex_numbers/__pv_it/common/fbfabc61f6f66350b130e5a55a72b80825c065f90/expr.png\" style=\"display:inline;vertical-align:middle;\" /></a></td></tr>\n",
       "<tr><td>37</td><td>Literal</td><td></td><td><a class=\"ProveItLink\" href=\"../../../../../numbers/numerals/__pv_it/common/3829356ce3fdf8f35810c63c00bc1a19e838663e0/expr.ipynb\"><img src=\"../../../../../numbers/numerals/__pv_it/common/3829356ce3fdf8f35810c63c00bc1a19e838663e0/expr.png\" style=\"display:inline;vertical-align:middle;\" /></a></td></tr>\n",
       "</table>\n"
      ],
      "text/plain": [
       "0. forall_{n in NaturalPos} [forall_{x_{1}, ..x_{_a}.., x_{n} in Complex^{2}} ((x_{1} + ..x_{_a}.. + x_{n}) in Complex^{2})]\n",
       "   core type: Operation\n",
       "   operator: 6\n",
       "   operand: 2\n",
       "1. (n -> {forall_{x_{1}, ..x_{_a}.., x_{n} in Complex^{2}} ((x_{1} + ..x_{_a}.. + x_{n}) in Complex^{2}) if n in NaturalPos.)\n",
       "   core type: ExprTuple\n",
       "   sub-expressions: 2\n",
       "2. n -> {forall_{x_{1}, ..x_{_a}.., x_{n} in Complex^{2}} ((x_{1} + ..x_{_a}.. + x_{n}) in Complex^{2}) if n in NaturalPos.\n",
       "   core type: Lambda\n",
       "   parameter: 26\n",
       "   body: 3\n",
       "3. {forall_{x_{1}, ..x_{_a}.., x_{n} in Complex^{2}} ((x_{1} + ..x_{_a}.. + x_{n}) in Complex^{2}) if n in NaturalPos.\n",
       "   core type: Conditional\n",
       "   value: 4\n",
       "   condition: 5\n",
       "4. forall_{x_{1}, ..x_{_a}.., x_{n} in Complex^{2}} ((x_{1} + ..x_{_a}.. + x_{n}) in Complex^{2})\n",
       "   core type: Operation\n",
       "   operator: 6\n",
       "   operand: 9\n",
       "5. n in NaturalPos\n",
       "   core type: Operation\n",
       "   operator: 27\n",
       "   operands: 8\n",
       "6. forall\n",
       "   core type: Literal\n",
       "   sub-expressions: \n",
       "7. ((x_{1}, ..x_{_a}.., x_{n}) -> {(x_{1} + ..x_{_a}.. + x_{n}) in Complex^{2} if (x_{1} in Complex^{2}) and ..(x_{_a} in Complex^{2}).. and (x_{n} in Complex^{2}).)\n",
       "   core type: ExprTuple\n",
       "   sub-expressions: 9\n",
       "8. (n, NaturalPos)\n",
       "   core type: ExprTuple\n",
       "   sub-expressions: 26, 10\n",
       "9. (x_{1}, ..x_{_a}.., x_{n}) -> {(x_{1} + ..x_{_a}.. + x_{n}) in Complex^{2} if (x_{1} in Complex^{2}) and ..(x_{_a} in Complex^{2}).. and (x_{n} in Complex^{2}).\n",
       "   core type: Lambda\n",
       "   parameters: 20\\n   body: 11\n",
       "10. NaturalPos\n",
       "    core type: Literal\n",
       "    sub-expressions: \n",
       "11. {(x_{1} + ..x_{_a}.. + x_{n}) in Complex^{2} if (x_{1} in Complex^{2}) and ..(x_{_a} in Complex^{2}).. and (x_{n} in Complex^{2}).\n",
       "    core type: Conditional\n",
       "    value: 12\n",
       "    condition: 13\n",
       "12. (x_{1} + ..x_{_a}.. + x_{n}) in Complex^{2}\n",
       "    core type: Operation\n",
       "    operator: 27\n",
       "    operands: 14\n",
       "13. (x_{1} in Complex^{2}) and ..(x_{_a} in Complex^{2}).. and (x_{n} in Complex^{2})\n",
       "    core type: Operation\n",
       "    operator: 15\n",
       "    operands: 16\n",
       "14. (x_{1} + ..x_{_a}.. + x_{n}, Complex^{2})\n",
       "    core type: ExprTuple\n",
       "    sub-expressions: 17, 30\n",
       "15. and\n",
       "    core type: Literal\n",
       "    sub-expressions: \n",
       "16. (x_{1} in Complex^{2}, ..x_{_a} in Complex^{2}.., x_{n} in Complex^{2})\n",
       "    core type: ExprTuple\n",
       "    sub-expressions: 18\n",
       "17. x_{1} + ..x_{_a}.. + x_{n}\n",
       "    core type: Operation\n",
       "    operator: 19\n",
       "    operands: 20\n",
       "18. (x_{1} in Complex^{2}), ..(x_{_a} in Complex^{2}).., (x_{n} in Complex^{2})\n",
       "    core type: ExprRange\n",
       "    lambda_map: 21\n",
       "    start_index: 25\n",
       "    end_index: 26\n",
       "19. +\n",
       "    core type: Literal\n",
       "    sub-expressions: \n",
       "20. (x_{1}, ..x_{_a}.., x_{n})\n",
       "    core type: ExprTuple\n",
       "    sub-expressions: 22\n",
       "21. _a -> (x_{_a} in Complex^{2})\n",
       "    core type: Lambda\n",
       "    parameter: 35\n",
       "    body: 23\n",
       "22. x_{1}, ..x_{_a}.., x_{n}\n",
       "    core type: ExprRange\n",
       "    lambda_map: 24\n",
       "    start_index: 25\n",
       "    end_index: 26\n",
       "23. x_{_a} in Complex^{2}\n",
       "    core type: Operation\n",
       "    operator: 27\n",
       "    operands: 28\n",
       "24. _a -> x_{_a}\n",
       "    core type: Lambda\n",
       "    parameter: 35\n",
       "    body: 29\n",
       "25. 1\n",
       "    core type: Literal\n",
       "    sub-expressions: \n",
       "26. n\n",
       "    core type: Variable\n",
       "    sub-expressions: \n",
       "27. in\n",
       "    core type: Literal\n",
       "    sub-expressions: \n",
       "28. (x_{_a}, Complex^{2})\n",
       "    core type: ExprTuple\n",
       "    sub-expressions: 29, 30\n",
       "29. x_{_a}\n",
       "    core type: IndexedVar\n",
       "variable: 31\n",
       "index: 35\n",
       "30. Complex^{2}\n",
       "    core type: Operation\n",
       "    operator: 33\n",
       "    operands: 34\n",
       "31. x\n",
       "    core type: Variable\n",
       "    sub-expressions: \n",
       "32. (_a)\n",
       "    core type: ExprTuple\n",
       "    sub-expressions: 35\n",
       "33. Exp\n",
       "    core type: Literal\n",
       "    sub-expressions: \n",
       "34. (Complex, 2)\n",
       "    core type: ExprTuple\n",
       "    sub-expressions: 36, 37\n",
       "35. _a\n",
       "    core type: Variable\n",
       "    sub-expressions: \n",
       "36. Complex\n",
       "    core type: Literal\n",
       "    sub-expressions: \n",
       "37. 2\n",
       "    core type: Literal\n",
       "    sub-expressions: "
      ]
     },
     "execution_count": 5,
     "metadata": {},
     "output_type": "execute_result"
    }
   ],
   "source": [
    "# display the expression information\n",
    "summed_qubit_state_in_qubit_space.expr_info()"
   ]
  },
  {
   "cell_type": "code",
   "execution_count": null,
   "metadata": {},
   "outputs": [],
   "source": []
  }
 ],
 "metadata": {
  "kernelspec": {
   "display_name": "Python 3",
   "language": "python",
   "name": "python3"
  }
 },
 "nbformat": 4,
 "nbformat_minor": 0
}