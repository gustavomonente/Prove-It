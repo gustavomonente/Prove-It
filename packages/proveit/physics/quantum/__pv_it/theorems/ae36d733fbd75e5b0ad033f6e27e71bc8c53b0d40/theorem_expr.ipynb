{
 "cells": [
  {
   "cell_type": "markdown",
   "metadata": {},
   "source": [
    "Theorem <a class=\"ProveItLink\" href=\"../../../_theorems_.ipynb#output_gate_to_ket\">output_gate_to_ket</a> of type <a class=\"ProveItLink\" href=\"../../../../../../../doc/html/api/proveit.logic.Forall.html\">Forall</a>\n",
    "=======================\n",
    "# from the theory of <a class=\"ProveItLink\" href=\"../../../_theory_nbs_/theory.ipynb\">proveit.physics.quantum</a>\n",
    "*** see <a class=\"ProveItLink\" href=\"dependencies.ipynb\">dependencies</a> ***"
   ]
  },
  {
   "cell_type": "code",
   "execution_count": 1,
   "metadata": {},
   "outputs": [],
   "source": [
    "import proveit\n",
    "# Automation is not needed when only building an expression:\n",
    "proveit.defaults.automation = False # This will speed things up.\n",
    "proveit.defaults.inline_pngs = False # Makes files smaller.\n",
    "%load_theorem_expr # Load the stored theorem expression as 'stored_expr'\n",
    "# import the special expression\n",
    "from proveit.physics.quantum import output_gate_to_ket"
   ]
  },
  {
   "cell_type": "code",
   "execution_count": 2,
   "metadata": {},
   "outputs": [
    {
     "name": "stdout",
     "output_type": "stream",
     "text": [
      "Passed sanity check: output_gate_to_ket matches stored_expr\n"
     ]
    }
   ],
   "source": [
    "# check that the built expression is the same as the stored expression\n",
    "assert output_gate_to_ket.expr == stored_expr\n",
    "assert output_gate_to_ket.expr._style_id == stored_expr._style_id\n",
    "print(\"Passed sanity check: output_gate_to_ket matches stored_expr\")"
   ]
  },
  {
   "cell_type": "code",
   "execution_count": 3,
   "metadata": {},
   "outputs": [
    {
     "name": "stdout",
     "output_type": "stream",
     "text": [
      "\\vdash \\forall_{U}~\\left(\\hspace{2em} \\Qcircuit@C=1em @R=.7em{\n",
      "& \\gate{ Output(U)} \n",
      "} \\hspace{2em} = \\hspace{2em} \\Qcircuit@C=1em @R=.7em{\n",
      "& \\rstick{U} \\qw \n",
      "} \\hspace{2em}\\right)\n"
     ]
    }
   ],
   "source": [
    "# Show the LaTeX representation of the expression for convenience if you need it.\n",
    "print(output_gate_to_ket.latex())"
   ]
  },
  {
   "cell_type": "code",
   "execution_count": 4,
   "metadata": {},
   "outputs": [
    {
     "data": {
      "text/html": [
       "<table>\n",
       "<tr><th>name</th><th>description</th><th>default</th><th>current value</th><th>related methods</th></tr><tr><td>with_wrapping</td><td>If 'True', wrap the Expression after the parameters</td><td>None</td><td>None/False</td><td>('with_wrapping',)</td></tr>\n",
       "<tr><td>wrap_params</td><td>If 'True', wraps every two parameters AND wraps the Expression after the parameters</td><td>None</td><td>None/False</td><td>('with_params',)</td></tr>\n",
       "<tr><td>justification</td><td>justify to the 'left', 'center', or 'right' in the array cells</td><td>center</td><td>center</td><td>('with_justification',)</td></tr>\n",
       "</table>\n"
      ],
      "text/plain": [
       "style name: with_wrapping\n",
       "description: If 'True', wrap the Expression after the parameters\n",
       "default: None\n",
       "current value: None/False\n",
       "related methods: ('with_wrapping',)\n",
       "style name: wrap_params\n",
       "description: If 'True', wraps every two parameters AND wraps the Expression after the parameters\n",
       "default: None\n",
       "current value: None/False\n",
       "related methods: ('with_params',)\n",
       "style name: justification\n",
       "description: justify to the 'left', 'center', or 'right' in the array cells\n",
       "default: center\n",
       "current value: center\n",
       "related methods: ('with_justification',)"
      ]
     },
     "execution_count": 4,
     "metadata": {},
     "output_type": "execute_result"
    }
   ],
   "source": [
    "output_gate_to_ket.style_options()"
   ]
  },
  {
   "cell_type": "code",
   "execution_count": 5,
   "metadata": {},
   "outputs": [
    {
     "data": {
      "text/html": [
       "<table><tr><th>&nbsp;</th><th>core type</th><th>sub-expressions</th><th>expression</th></tr>\n",
       "<tr><td>0</td><td>Operation</td><td>operator:&nbsp;1<br>operand:&nbsp;3<br></td><td><a class=\"ProveItLink\" href=\"../dd00e53039de2d651fece50f00b02ee46edfcf080/expr.ipynb\"><img src=\"../dd00e53039de2d651fece50f00b02ee46edfcf080/expr.png\" style=\"display:inline;vertical-align:middle;\" /></a></td></tr>\n",
       "<tr><td>1</td><td>Literal</td><td></td><td><a class=\"ProveItLink\" href=\"../../../../../logic/booleans/quantification/universality/__pv_it/common/684d35ba98fcbf8ca5011f865e530a51e77730630/expr.ipynb\"><img src=\"../../../../../logic/booleans/quantification/universality/__pv_it/common/684d35ba98fcbf8ca5011f865e530a51e77730630/expr.png\" style=\"display:inline;vertical-align:middle;\" /></a></td></tr>\n",
       "<tr><td>2</td><td>ExprTuple</td><td>3</td><td><a class=\"ProveItLink\" href=\"../5ba50378520ccfa67ec577363f461b5bec2245c70/expr.ipynb\"><img src=\"../5ba50378520ccfa67ec577363f461b5bec2245c70/expr.png\" style=\"display:inline;vertical-align:middle;\" /></a></td></tr>\n",
       "<tr><td>3</td><td>Lambda</td><td>parameter:&nbsp;13<br>body:&nbsp;4<br></td><td><a class=\"ProveItLink\" href=\"../765ea0c6320b011640fc1c6c15e451c38e77c1bd0/expr.ipynb\"><img src=\"../765ea0c6320b011640fc1c6c15e451c38e77c1bd0/expr.png\" style=\"display:inline;vertical-align:middle;\" /></a></td></tr>\n",
       "<tr><td>4</td><td>Operation</td><td>operator:&nbsp;5<br>operands:&nbsp;6<br></td><td><a class=\"ProveItLink\" href=\"../a26778e1be99eb2ccf5317706527e7f696842da50/expr.ipynb\"><img src=\"../a26778e1be99eb2ccf5317706527e7f696842da50/expr.png\" style=\"display:inline;vertical-align:middle;\" /></a></td></tr>\n",
       "<tr><td>5</td><td>Literal</td><td></td><td><a class=\"ProveItLink\" href=\"../../../../../logic/equality/__pv_it/common/731dd3955b346c1320ed5c0ba7a618bcda61457d0/expr.ipynb\"><img src=\"../../../../../logic/equality/__pv_it/common/731dd3955b346c1320ed5c0ba7a618bcda61457d0/expr.png\" style=\"display:inline;vertical-align:middle;\" /></a></td></tr>\n",
       "<tr><td>6</td><td>ExprTuple</td><td>7, 10</td><td><a class=\"ProveItLink\" href=\"../4daa0b1228d556efaedde9c6f30c21a5a146be430/expr.ipynb\"><img src=\"../4daa0b1228d556efaedde9c6f30c21a5a146be430/expr.png\" style=\"display:inline;vertical-align:middle;\" /></a></td></tr>\n",
       "<tr><td>7</td><td>Operation</td><td>operator:&nbsp;8<br>operand:&nbsp;10<br></td><td><a class=\"ProveItLink\" href=\"../c8048e8a479741eb56c4e8a9953303f235f900eb0/expr.ipynb\"><img src=\"../c8048e8a479741eb56c4e8a9953303f235f900eb0/expr.png\" style=\"display:inline;vertical-align:middle;\" /></a></td></tr>\n",
       "<tr><td>8</td><td>Literal</td><td></td><td><a class=\"ProveItLink\" href=\"../../common/44032ea2879a75be63dcfde93f5992fe3f6108fc0/expr.ipynb\"><img src=\"../../common/44032ea2879a75be63dcfde93f5992fe3f6108fc0/expr.png\" style=\"display:inline;vertical-align:middle;\" /></a></td></tr>\n",
       "<tr><td>9</td><td>ExprTuple</td><td>10</td><td><a class=\"ProveItLink\" href=\"../c2afc07e84a2510ffcc59bc385d62457b25a93590/expr.ipynb\"><img src=\"../c2afc07e84a2510ffcc59bc385d62457b25a93590/expr.png\" style=\"display:inline;vertical-align:middle;\" /></a></td></tr>\n",
       "<tr><td>10</td><td>Operation</td><td>operator:&nbsp;11<br>operand:&nbsp;13<br></td><td><a class=\"ProveItLink\" href=\"../2aa0e5094febc490ec68687a0cf60e169630f89a0/expr.ipynb\"><img src=\"../2aa0e5094febc490ec68687a0cf60e169630f89a0/expr.png\" style=\"display:inline;vertical-align:middle;\" /></a></td></tr>\n",
       "<tr><td>11</td><td>Literal</td><td></td><td><a class=\"ProveItLink\" href=\"../../common/a31fa972f0ff74e32d7bde73a99a2ddf76467fac0/expr.ipynb\"><img src=\"../../common/a31fa972f0ff74e32d7bde73a99a2ddf76467fac0/expr.png\" style=\"display:inline;vertical-align:middle;\" /></a></td></tr>\n",
       "<tr><td>12</td><td>ExprTuple</td><td>13</td><td><a class=\"ProveItLink\" href=\"../be93ba573e682e5a4eda7bec756f04e609735a160/expr.ipynb\"><img src=\"../be93ba573e682e5a4eda7bec756f04e609735a160/expr.png\" style=\"display:inline;vertical-align:middle;\" /></a></td></tr>\n",
       "<tr><td>13</td><td>Variable</td><td></td><td><a class=\"ProveItLink\" href=\"../../../../../__pv_it/common/6ddf39b7b2366eff1df3a68b2f717158052394110/expr.ipynb\"><img src=\"../../../../../__pv_it/common/6ddf39b7b2366eff1df3a68b2f717158052394110/expr.png\" style=\"display:inline;vertical-align:middle;\" /></a></td></tr>\n",
       "</table>\n"
      ],
      "text/plain": [
       "0. forall_{U} (Gate(Output(U)) = Output(U))\n",
       "   core type: Operation\n",
       "   operator: 1\n",
       "   operand: 3\n",
       "1. forall\n",
       "   core type: Literal\n",
       "   sub-expressions: \n",
       "2. (U -> (Gate(Output(U)) = Output(U)))\n",
       "   core type: ExprTuple\n",
       "   sub-expressions: 3\n",
       "3. U -> (Gate(Output(U)) = Output(U))\n",
       "   core type: Lambda\n",
       "   parameter: 13\n",
       "   body: 4\n",
       "4. Gate(Output(U)) = Output(U)\n",
       "   core type: Operation\n",
       "   operator: 5\n",
       "   operands: 6\n",
       "5. =\n",
       "   core type: Literal\n",
       "   sub-expressions: \n",
       "6. (Gate(Output(U)), Output(U))\n",
       "   core type: ExprTuple\n",
       "   sub-expressions: 7, 10\n",
       "7. Gate(Output(U))\n",
       "   core type: Operation\n",
       "   operator: 8\n",
       "   operand: 10\n",
       "8. GATE\n",
       "   core type: Literal\n",
       "   sub-expressions: \n",
       "9. (Output(U))\n",
       "   core type: ExprTuple\n",
       "   sub-expressions: 10\n",
       "10. Output(U)\n",
       "    core type: Operation\n",
       "    operator: 11\n",
       "    operand: 13\n",
       "11. OUTPUT\n",
       "    core type: Literal\n",
       "    sub-expressions: \n",
       "12. (U)\n",
       "    core type: ExprTuple\n",
       "    sub-expressions: 13\n",
       "13. U\n",
       "    core type: Variable\n",
       "    sub-expressions: "
      ]
     },
     "execution_count": 5,
     "metadata": {},
     "output_type": "execute_result"
    }
   ],
   "source": [
    "# display the expression information\n",
    "output_gate_to_ket.expr_info()"
   ]
  },
  {
   "cell_type": "code",
   "execution_count": null,
   "metadata": {},
   "outputs": [],
   "source": []
  }
 ],
 "metadata": {
  "kernelspec": {
   "display_name": "Python 3",
   "language": "python",
   "name": "python3"
  }
 },
 "nbformat": 4,
 "nbformat_minor": 0
}