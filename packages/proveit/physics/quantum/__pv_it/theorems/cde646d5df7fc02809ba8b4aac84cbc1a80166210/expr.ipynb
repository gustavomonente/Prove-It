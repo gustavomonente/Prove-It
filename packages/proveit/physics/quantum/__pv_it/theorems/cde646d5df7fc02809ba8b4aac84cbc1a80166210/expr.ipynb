{
 "cells": [
  {
   "cell_type": "markdown",
   "metadata": {},
   "source": [
    "Expression of type <a class=\"ProveItLink\" href=\"../../../../../../../doc/html/api/proveit.physics.quantum.circuit.Circuit.html\">Circuit</a>\n",
    "=======================\n",
    "# from the theory of <a class=\"ProveItLink\" href=\"../../../_theory_nbs_/theory.ipynb\">proveit.physics.quantum</a>"
   ]
  },
  {
   "cell_type": "code",
   "execution_count": 1,
   "metadata": {},
   "outputs": [],
   "source": [
    "import proveit\n",
    "# Automation is not needed when building an expression:\n",
    "proveit.defaults.automation = False # This will speed things up.\n",
    "proveit.defaults.inline_pngs = False # Makes files smaller.\n",
    "%load_expr # Load the stored expression as 'stored_expr'\n",
    "# import Expression classes needed to build the expression\n",
    "from proveit import ExprArray, ExprRange, F, G, IndexedVar, j, k, m, n\n",
    "from proveit.logic import Set\n",
    "from proveit.numbers import Add, one, two\n",
    "from proveit.physics.quantum.circuit import Circuit, MultiQubitGate"
   ]
  },
  {
   "cell_type": "code",
   "execution_count": 2,
   "metadata": {},
   "outputs": [
    {
     "data": {
      "text/html": [
       "<strong id=\"expr\">expr:</strong> <a class=\"ProveItLink\" href=\"expr.ipynb\"><img src=\"expr.png\" style=\"display:inline;vertical-align:middle;\" /></a><br>"
      ],
      "text/plain": [
       "expr:  MultiQubitGate(F_{1}, {m + 1, m + k + 2})  & ..MultiQubitGate(F_{j}, {m + 1, m + k + 2})..  & MultiQubitGate(F_{n}, {m + 1, m + k + 2})   \\\\ \n",
       "   MultiQubitGate(G_{1}, {m + 1, m + k + 2})  & ..MultiQubitGate(G_{j}, {m + 1, m + k + 2})..  & MultiQubitGate(G_{n}, {m + 1, m + k + 2})"
      ]
     },
     "execution_count": 2,
     "metadata": {},
     "output_type": "execute_result"
    }
   ],
   "source": [
    "# build up the expression from sub-expressions\n",
    "sub_expr1 = Set(Add(m, one), Add(m, k, two))\n",
    "expr = Circuit(ExprArray([ExprRange(j, MultiQubitGate(IndexedVar(F, j), sub_expr1), one, n)], [ExprRange(j, MultiQubitGate(IndexedVar(G, j), sub_expr1), one, n)]))"
   ]
  },
  {
   "cell_type": "code",
   "execution_count": 3,
   "metadata": {},
   "outputs": [
    {
     "name": "stdout",
     "output_type": "stream",
     "text": [
      "Passed sanity check: expr matches stored_expr\n"
     ]
    }
   ],
   "source": [
    "# check that the built expression is the same as the stored expression\n",
    "assert expr == stored_expr\n",
    "assert expr._style_id == stored_expr._style_id\n",
    "print(\"Passed sanity check: expr matches stored_expr\")"
   ]
  },
  {
   "cell_type": "code",
   "execution_count": 4,
   "metadata": {},
   "outputs": [
    {
     "name": "stdout",
     "output_type": "stream",
     "text": [
      "\\hspace{2em} \\Qcircuit@C=1em @R=.7em{\n",
      "& \\gate{F_{1}{\\Big \\{} \\left\\{m + 1, m + k + 2\\right\\}} \\qwx[1] & \\gate{\\cdots} \\qwx[1] & \\gate{F_{n}{\\Big \\{} \\left\\{m + 1, m + k + 2\\right\\}} \\qwx[1]   \\\\ \n",
      "  & \\gate{G_{1}{\\Big \\{} \\left\\{m + 1, m + k + 2\\right\\}} & \\gate{\\cdots} & \\gate{G_{n}{\\Big \\{} \\left\\{m + 1, m + k + 2\\right\\}} \n",
      "} \\hspace{2em}\n"
     ]
    }
   ],
   "source": [
    "# Show the LaTeX representation of the expression for convenience if you need it.\n",
    "print(expr.latex())"
   ]
  },
  {
   "cell_type": "code",
   "execution_count": 5,
   "metadata": {},
   "outputs": [
    {
     "data": {
      "text/html": [
       "<table><tr><th>&nbsp;</th><th>core type</th><th>sub-expressions</th><th>expression</th></tr>\n",
       "<tr><td>0</td><td>Operation</td><td>operator:&nbsp;1<br>operand:&nbsp;3<br></td><td><a class=\"ProveItLink\" href=\"expr.ipynb\"><img src=\"expr.png\" style=\"display:inline;vertical-align:middle;\" /></a></td></tr>\n",
       "<tr><td>1</td><td>Literal</td><td></td><td><a class=\"ProveItLink\" href=\"../../common/409f940d39947a3c17092974bfa20c1d4da6996c0/expr.ipynb\"><img src=\"../../common/409f940d39947a3c17092974bfa20c1d4da6996c0/expr.png\" style=\"display:inline;vertical-align:middle;\" /></a></td></tr>\n",
       "<tr><td>2</td><td>ExprTuple</td><td>3</td><td><a class=\"ProveItLink\" href=\"../7deb307cbb61bbaa1e67f7e0a1164125d5622a660/expr.ipynb\"><img src=\"../7deb307cbb61bbaa1e67f7e0a1164125d5622a660/expr.png\" style=\"display:inline;vertical-align:middle;\" /></a></td></tr>\n",
       "<tr><td>3</td><td>ExprTuple</td><td>4, 5</td><td><a class=\"ProveItLink\" href=\"../19d744a01dca21777cda5e53e457871b0c53d13c0/expr.ipynb\"><img src=\"../19d744a01dca21777cda5e53e457871b0c53d13c0/expr.png\" style=\"display:inline;vertical-align:middle;\" /></a></td></tr>\n",
       "<tr><td>4</td><td>ExprTuple</td><td>6</td><td><a class=\"ProveItLink\" href=\"../b02efe79ecc9924e03563566ffcf4e5c8c6e97f80/expr.ipynb\"><img src=\"../b02efe79ecc9924e03563566ffcf4e5c8c6e97f80/expr.png\" style=\"display:inline;vertical-align:middle;\" /></a></td></tr>\n",
       "<tr><td>5</td><td>ExprTuple</td><td>7</td><td><a class=\"ProveItLink\" href=\"../ee5db840f5e79715c9d3830045fe0f14de0702860/expr.ipynb\"><img src=\"../ee5db840f5e79715c9d3830045fe0f14de0702860/expr.png\" style=\"display:inline;vertical-align:middle;\" /></a></td></tr>\n",
       "<tr><td>6</td><td>ExprRange</td><td>lambda_map:&nbsp;8<br>start_index:&nbsp;29<br>end_index:&nbsp;10<br></td><td><a class=\"ProveItLink\" href=\"../7750d090a3d75230b2cc235d07909a3036a58ef80/expr.ipynb\"><img src=\"../7750d090a3d75230b2cc235d07909a3036a58ef80/expr.png\" style=\"display:inline;vertical-align:middle;\" /></a></td></tr>\n",
       "<tr><td>7</td><td>ExprRange</td><td>lambda_map:&nbsp;9<br>start_index:&nbsp;29<br>end_index:&nbsp;10<br></td><td><a class=\"ProveItLink\" href=\"../f41f655df6b8a2d917bfacb7890699c257a488d20/expr.ipynb\"><img src=\"../f41f655df6b8a2d917bfacb7890699c257a488d20/expr.png\" style=\"display:inline;vertical-align:middle;\" /></a></td></tr>\n",
       "<tr><td>8</td><td>Lambda</td><td>parameter:&nbsp;21<br>body:&nbsp;11<br></td><td><a class=\"ProveItLink\" href=\"../1f981b0c569395c66b09cc259a7b174c327d13b00/expr.ipynb\"><img src=\"../1f981b0c569395c66b09cc259a7b174c327d13b00/expr.png\" style=\"display:inline;vertical-align:middle;\" /></a></td></tr>\n",
       "<tr><td>9</td><td>Lambda</td><td>parameter:&nbsp;21<br>body:&nbsp;12<br></td><td><a class=\"ProveItLink\" href=\"../82277bc2a1902c06a408bbfce03f269fc2dfead60/expr.ipynb\"><img src=\"../82277bc2a1902c06a408bbfce03f269fc2dfead60/expr.png\" style=\"display:inline;vertical-align:middle;\" /></a></td></tr>\n",
       "<tr><td>10</td><td>Variable</td><td></td><td><a class=\"ProveItLink\" href=\"../../../../../__pv_it/common/8968bb04eb3f7dfa02353397ce929b025bbd79c20/expr.ipynb\"><img src=\"../../../../../__pv_it/common/8968bb04eb3f7dfa02353397ce929b025bbd79c20/expr.png\" style=\"display:inline;vertical-align:middle;\" /></a></td></tr>\n",
       "<tr><td>11</td><td>Operation</td><td>operator:&nbsp;14<br>operands:&nbsp;13<br></td><td><a class=\"ProveItLink\" href=\"../1ed2daddfd36c80f45d55b2c1e9249f4c311a8e80/expr.ipynb\"><img src=\"../1ed2daddfd36c80f45d55b2c1e9249f4c311a8e80/expr.png\" style=\"display:inline;vertical-align:middle;\" /></a></td></tr>\n",
       "<tr><td>12</td><td>Operation</td><td>operator:&nbsp;14<br>operands:&nbsp;15<br></td><td><a class=\"ProveItLink\" href=\"../4d67eb58a6a41f328276d109e449ee62a5eb28c00/expr.ipynb\"><img src=\"../4d67eb58a6a41f328276d109e449ee62a5eb28c00/expr.png\" style=\"display:inline;vertical-align:middle;\" /></a></td></tr>\n",
       "<tr><td>13</td><td>ExprTuple</td><td>16, 18</td><td><a class=\"ProveItLink\" href=\"../79bc6e2a5d43fb73cb5467118ff3a11ccc4901390/expr.ipynb\"><img src=\"../79bc6e2a5d43fb73cb5467118ff3a11ccc4901390/expr.png\" style=\"display:inline;vertical-align:middle;\" /></a></td></tr>\n",
       "<tr><td>14</td><td>Literal</td><td></td><td><a class=\"ProveItLink\" href=\"../../common/7e400d333e3c53d1c3dd14244e4b33f4cea327190/expr.ipynb\"><img src=\"../../common/7e400d333e3c53d1c3dd14244e4b33f4cea327190/expr.png\" style=\"display:inline;vertical-align:middle;\" /></a></td></tr>\n",
       "<tr><td>15</td><td>ExprTuple</td><td>17, 18</td><td><a class=\"ProveItLink\" href=\"../112836ce0ba7d4a3d286e265885a363480b123430/expr.ipynb\"><img src=\"../112836ce0ba7d4a3d286e265885a363480b123430/expr.png\" style=\"display:inline;vertical-align:middle;\" /></a></td></tr>\n",
       "<tr><td>16</td><td>IndexedVar</td><td>variable:&nbsp;19<br>index:&nbsp;21<br></td><td><a class=\"ProveItLink\" href=\"../b6a8031c59074c12251874abaaeb36624ebd21860/expr.ipynb\"><img src=\"../b6a8031c59074c12251874abaaeb36624ebd21860/expr.png\" style=\"display:inline;vertical-align:middle;\" /></a></td></tr>\n",
       "<tr><td>17</td><td>IndexedVar</td><td>variable:&nbsp;20<br>index:&nbsp;21<br></td><td><a class=\"ProveItLink\" href=\"../9f0cf39f5d24e0f680bf704e02fccc5c912fca8b0/expr.ipynb\"><img src=\"../9f0cf39f5d24e0f680bf704e02fccc5c912fca8b0/expr.png\" style=\"display:inline;vertical-align:middle;\" /></a></td></tr>\n",
       "<tr><td>18</td><td>Operation</td><td>operator:&nbsp;22<br>operands:&nbsp;23<br></td><td><a class=\"ProveItLink\" href=\"../f04c6041b5d33e23f5e6bdc2a5dba8e7cd53c6ee0/expr.ipynb\"><img src=\"../f04c6041b5d33e23f5e6bdc2a5dba8e7cd53c6ee0/expr.png\" style=\"display:inline;vertical-align:middle;\" /></a></td></tr>\n",
       "<tr><td>19</td><td>Variable</td><td></td><td><a class=\"ProveItLink\" href=\"../../../../../__pv_it/common/9d1ffc79180dc7de30ad10ed4b26b62e9dcb5b670/expr.ipynb\"><img src=\"../../../../../__pv_it/common/9d1ffc79180dc7de30ad10ed4b26b62e9dcb5b670/expr.png\" style=\"display:inline;vertical-align:middle;\" /></a></td></tr>\n",
       "<tr><td>20</td><td>Variable</td><td></td><td><a class=\"ProveItLink\" href=\"../../../../../__pv_it/common/cd2bbe4a07ced9e6cf68e9cc62da3ac2ecc7137e0/expr.ipynb\"><img src=\"../../../../../__pv_it/common/cd2bbe4a07ced9e6cf68e9cc62da3ac2ecc7137e0/expr.png\" style=\"display:inline;vertical-align:middle;\" /></a></td></tr>\n",
       "<tr><td>21</td><td>Variable</td><td></td><td><a class=\"ProveItLink\" href=\"../../../../../__pv_it/common/1ed21df18baca2f42b561a7ffbf30a2743d594650/expr.ipynb\"><img src=\"../../../../../__pv_it/common/1ed21df18baca2f42b561a7ffbf30a2743d594650/expr.png\" style=\"display:inline;vertical-align:middle;\" /></a></td></tr>\n",
       "<tr><td>22</td><td>Literal</td><td></td><td><a class=\"ProveItLink\" href=\"../../../../../logic/sets/enumeration/__pv_it/common/0ead90ccbf4f17bc585a51f8aa904bb77916ae6e0/expr.ipynb\"><img src=\"../../../../../logic/sets/enumeration/__pv_it/common/0ead90ccbf4f17bc585a51f8aa904bb77916ae6e0/expr.png\" style=\"display:inline;vertical-align:middle;\" /></a></td></tr>\n",
       "<tr><td>23</td><td>ExprTuple</td><td>24, 25</td><td><a class=\"ProveItLink\" href=\"../e22a3b205a9ae5e11da289f9af15c9e1dc6c00710/expr.ipynb\"><img src=\"../e22a3b205a9ae5e11da289f9af15c9e1dc6c00710/expr.png\" style=\"display:inline;vertical-align:middle;\" /></a></td></tr>\n",
       "<tr><td>24</td><td>Operation</td><td>operator:&nbsp;27<br>operands:&nbsp;26<br></td><td><a class=\"ProveItLink\" href=\"../e4061993af513a849b79a657e87a3daf729860f60/expr.ipynb\"><img src=\"../e4061993af513a849b79a657e87a3daf729860f60/expr.png\" style=\"display:inline;vertical-align:middle;\" /></a></td></tr>\n",
       "<tr><td>25</td><td>Operation</td><td>operator:&nbsp;27<br>operands:&nbsp;28<br></td><td><a class=\"ProveItLink\" href=\"../bbaee0934b073a5ebd461c5f471458394a3e3b710/expr.ipynb\"><img src=\"../bbaee0934b073a5ebd461c5f471458394a3e3b710/expr.png\" style=\"display:inline;vertical-align:middle;\" /></a></td></tr>\n",
       "<tr><td>26</td><td>ExprTuple</td><td>30, 29</td><td><a class=\"ProveItLink\" href=\"../c75997494363a372da41f935d52adeefa2e242a80/expr.ipynb\"><img src=\"../c75997494363a372da41f935d52adeefa2e242a80/expr.png\" style=\"display:inline;vertical-align:middle;\" /></a></td></tr>\n",
       "<tr><td>27</td><td>Literal</td><td></td><td><a class=\"ProveItLink\" href=\"../../../../../numbers/addition/__pv_it/common/4b7effaab3619a1c2c38fe2dee8601df8ec714590/expr.ipynb\"><img src=\"../../../../../numbers/addition/__pv_it/common/4b7effaab3619a1c2c38fe2dee8601df8ec714590/expr.png\" style=\"display:inline;vertical-align:middle;\" /></a></td></tr>\n",
       "<tr><td>28</td><td>ExprTuple</td><td>30, 31, 32</td><td><a class=\"ProveItLink\" href=\"../a52363d0c4fa29e4540e654303861b45092c38910/expr.ipynb\"><img src=\"../a52363d0c4fa29e4540e654303861b45092c38910/expr.png\" style=\"display:inline;vertical-align:middle;\" /></a></td></tr>\n",
       "<tr><td>29</td><td>Literal</td><td></td><td><a class=\"ProveItLink\" href=\"../../../../../numbers/numerals/__pv_it/common/2778428c7f555b2bdc06aa0530bc142c6e6335100/expr.ipynb\"><img src=\"../../../../../numbers/numerals/__pv_it/common/2778428c7f555b2bdc06aa0530bc142c6e6335100/expr.png\" style=\"display:inline;vertical-align:middle;\" /></a></td></tr>\n",
       "<tr><td>30</td><td>Variable</td><td></td><td><a class=\"ProveItLink\" href=\"../../../../../__pv_it/common/674a03b9c3ca221b3aabd5636837b31528ff33830/expr.ipynb\"><img src=\"../../../../../__pv_it/common/674a03b9c3ca221b3aabd5636837b31528ff33830/expr.png\" style=\"display:inline;vertical-align:middle;\" /></a></td></tr>\n",
       "<tr><td>31</td><td>Variable</td><td></td><td><a class=\"ProveItLink\" href=\"../../../../../__pv_it/common/63b7c64bf9ec7a04ecc396c7a1670f3f12fb59490/expr.ipynb\"><img src=\"../../../../../__pv_it/common/63b7c64bf9ec7a04ecc396c7a1670f3f12fb59490/expr.png\" style=\"display:inline;vertical-align:middle;\" /></a></td></tr>\n",
       "<tr><td>32</td><td>Literal</td><td></td><td><a class=\"ProveItLink\" href=\"../../../../../numbers/numerals/__pv_it/common/ba3b059982e8b49413dc653e957beb11e974e4bc0/expr.ipynb\"><img src=\"../../../../../numbers/numerals/__pv_it/common/ba3b059982e8b49413dc653e957beb11e974e4bc0/expr.png\" style=\"display:inline;vertical-align:middle;\" /></a></td></tr>\n",
       "</table>\n"
      ],
      "text/plain": [
       "0.  MultiQubitGate(F_{1}, {m + 1, m + k + 2})  & ..MultiQubitGate(F_{j}, {m + 1, m + k + 2})..  & MultiQubitGate(F_{n}, {m + 1, m + k + 2})   \\\\ \n",
       "   MultiQubitGate(G_{1}, {m + 1, m + k + 2})  & ..MultiQubitGate(G_{j}, {m + 1, m + k + 2})..  & MultiQubitGate(G_{n}, {m + 1, m + k + 2})\n",
       "   core type: Operation\n",
       "   operator: 1\n",
       "   operand: 3\n",
       "1. CIRCUIT\n",
       "   core type: Literal\n",
       "   sub-expressions: \n",
       "2. ((MultiQubitGate(F_{1}, {m + 1, m + k + 2}) & ..MultiQubitGate(F_{j}, {m + 1, m + k + 2}).. & MultiQubitGate(F_{n}, {m + 1, m + k + 2})  \\\\ \n",
       "  MultiQubitGate(G_{1}, {m + 1, m + k + 2}) & ..MultiQubitGate(G_{j}, {m + 1, m + k + 2}).. & MultiQubitGate(G_{n}, {m + 1, m + k + 2})))\n",
       "   core type: ExprTuple\n",
       "   sub-expressions: 3\n",
       "3. MultiQubitGate(F_{1}, {m + 1, m + k + 2}) & ..MultiQubitGate(F_{j}, {m + 1, m + k + 2}).. & MultiQubitGate(F_{n}, {m + 1, m + k + 2})  \\\\ \n",
       "  MultiQubitGate(G_{1}, {m + 1, m + k + 2}) & ..MultiQubitGate(G_{j}, {m + 1, m + k + 2}).. & MultiQubitGate(G_{n}, {m + 1, m + k + 2})\n",
       "   core type: ExprTuple\n",
       "   sub-expressions: 4, 5\n",
       "4. (MultiQubitGate(F_{1}, {m + 1, m + k + 2}), ..MultiQubitGate(F_{j}, {m + 1, m + k + 2}).., MultiQubitGate(F_{n}, {m + 1, m + k + 2}))\n",
       "   core type: ExprTuple\n",
       "   sub-expressions: 6\n",
       "5. (MultiQubitGate(G_{1}, {m + 1, m + k + 2}), ..MultiQubitGate(G_{j}, {m + 1, m + k + 2}).., MultiQubitGate(G_{n}, {m + 1, m + k + 2}))\n",
       "   core type: ExprTuple\n",
       "   sub-expressions: 7\n",
       "6. MultiQubitGate(F_{1}, {m + 1, m + k + 2}), ..MultiQubitGate(F_{j}, {m + 1, m + k + 2}).., MultiQubitGate(F_{n}, {m + 1, m + k + 2})\n",
       "   core type: ExprRange\n",
       "   lambda_map: 8\n",
       "   start_index: 29\n",
       "   end_index: 10\n",
       "7. MultiQubitGate(G_{1}, {m + 1, m + k + 2}), ..MultiQubitGate(G_{j}, {m + 1, m + k + 2}).., MultiQubitGate(G_{n}, {m + 1, m + k + 2})\n",
       "   core type: ExprRange\n",
       "   lambda_map: 9\n",
       "   start_index: 29\n",
       "   end_index: 10\n",
       "8. j -> MultiQubitGate(F_{j}, {m + 1, m + k + 2})\n",
       "   core type: Lambda\n",
       "   parameter: 21\n",
       "   body: 11\n",
       "9. j -> MultiQubitGate(G_{j}, {m + 1, m + k + 2})\n",
       "   core type: Lambda\n",
       "   parameter: 21\n",
       "   body: 12\n",
       "10. n\n",
       "    core type: Variable\n",
       "    sub-expressions: \n",
       "11. MultiQubitGate(F_{j}, {m + 1, m + k + 2})\n",
       "    core type: Operation\n",
       "    operator: 14\n",
       "    operands: 13\n",
       "12. MultiQubitGate(G_{j}, {m + 1, m + k + 2})\n",
       "    core type: Operation\n",
       "    operator: 14\n",
       "    operands: 15\n",
       "13. (F_{j}, {m + 1, m + k + 2})\n",
       "    core type: ExprTuple\n",
       "    sub-expressions: 16, 18\n",
       "14. MULTI_QUBIT_GATE\n",
       "    core type: Literal\n",
       "    sub-expressions: \n",
       "15. (G_{j}, {m + 1, m + k + 2})\n",
       "    core type: ExprTuple\n",
       "    sub-expressions: 17, 18\n",
       "16. F_{j}\n",
       "    core type: IndexedVar\n",
       "variable: 19\n",
       "index: 21\n",
       "17. G_{j}\n",
       "    core type: IndexedVar\n",
       "variable: 20\n",
       "index: 21\n",
       "18. {m + 1, m + k + 2}\n",
       "    core type: Operation\n",
       "    operator: 22\n",
       "    operands: 23\n",
       "19. F\n",
       "    core type: Variable\n",
       "    sub-expressions: \n",
       "20. G\n",
       "    core type: Variable\n",
       "    sub-expressions: \n",
       "21. j\n",
       "    core type: Variable\n",
       "    sub-expressions: \n",
       "22. Set\n",
       "    core type: Literal\n",
       "    sub-expressions: \n",
       "23. (m + 1, m + k + 2)\n",
       "    core type: ExprTuple\n",
       "    sub-expressions: 24, 25\n",
       "24. m + 1\n",
       "    core type: Operation\n",
       "    operator: 27\n",
       "    operands: 26\n",
       "25. m + k + 2\n",
       "    core type: Operation\n",
       "    operator: 27\n",
       "    operands: 28\n",
       "26. (m, 1)\n",
       "    core type: ExprTuple\n",
       "    sub-expressions: 30, 29\n",
       "27. +\n",
       "    core type: Literal\n",
       "    sub-expressions: \n",
       "28. (m, k, 2)\n",
       "    core type: ExprTuple\n",
       "    sub-expressions: 30, 31, 32\n",
       "29. 1\n",
       "    core type: Literal\n",
       "    sub-expressions: \n",
       "30. m\n",
       "    core type: Variable\n",
       "    sub-expressions: \n",
       "31. k\n",
       "    core type: Variable\n",
       "    sub-expressions: \n",
       "32. 2\n",
       "    core type: Literal\n",
       "    sub-expressions: "
      ]
     },
     "execution_count": 5,
     "metadata": {},
     "output_type": "execute_result"
    }
   ],
   "source": [
    "# display the expression information\n",
    "expr.expr_info()"
   ]
  },
  {
   "cell_type": "code",
   "execution_count": null,
   "metadata": {},
   "outputs": [],
   "source": []
  }
 ],
 "metadata": {
  "kernelspec": {
   "display_name": "Python 3",
   "language": "python",
   "name": "python3"
  }
 },
 "nbformat": 4,
 "nbformat_minor": 0
}