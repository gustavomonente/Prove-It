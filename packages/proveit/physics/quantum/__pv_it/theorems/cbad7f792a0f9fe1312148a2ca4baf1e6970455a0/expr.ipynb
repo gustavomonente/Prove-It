{
 "cells": [
  {
   "cell_type": "markdown",
   "metadata": {},
   "source": [
    "Expression of type <a class=\"ProveItLink\" href=\"../../../../../../../doc/html/api/proveit.physics.quantum.circuit.Circuit.html\">Circuit</a>\n",
    "=======================\n",
    "# from the theory of <a class=\"ProveItLink\" href=\"../../../_theory_nbs_/theory.ipynb\">proveit.physics.quantum</a>"
   ]
  },
  {
   "cell_type": "code",
   "execution_count": 1,
   "metadata": {},
   "outputs": [],
   "source": [
    "import proveit\n",
    "# Automation is not needed when building an expression:\n",
    "proveit.defaults.automation = False # This will speed things up.\n",
    "proveit.defaults.inline_pngs = False # Makes files smaller.\n",
    "%load_expr # Load the stored expression as 'stored_expr'\n",
    "# import Expression classes needed to build the expression\n",
    "from proveit import ExprArray, ExprRange, g, h, i, j, k, m\n",
    "from proveit.core_expr_types.expr_arrays import Aij, Bij, Cij, Pij, Qij, Rij\n",
    "from proveit.numbers import one\n",
    "from proveit.physics.quantum.circuit import Circuit, MultiQubitGate"
   ]
  },
  {
   "cell_type": "code",
   "execution_count": 2,
   "metadata": {},
   "outputs": [
    {
     "data": {
      "text/html": [
       "<strong id=\"expr\">expr:</strong> <a class=\"ProveItLink\" href=\"expr.ipynb\"><img src=\"expr.png\" style=\"display:inline;vertical-align:middle;\" /></a><br>"
      ],
      "text/plain": [
       "expr:  MultiQubitGate(A_{1, 1}, P_{1, 1})  & ..MultiQubitGate(A_{1, j}, P_{1, j})..  & MultiQubitGate(A_{1, g}, P_{1, g})  & MultiQubitGate(B_{1, 1}, Q_{1, 1})  & ..MultiQubitGate(B_{1, j}, Q_{1, j})..  & MultiQubitGate(B_{1, h}, Q_{1, h})  & MultiQubitGate(C_{1, 1}, R_{1, 1})  & ..MultiQubitGate(C_{1, j}, R_{1, j})..  & MultiQubitGate(C_{1, k}, R_{1, k})   \\\\ \n",
       "   \\colon  & \\colon  & \\colon  & \\colon  & \\colon  & \\colon  & \\colon  & \\colon  & \\colon   \\\\ \n",
       "   MultiQubitGate(A_{i, 1}, P_{i, 1})  & ..MultiQubitGate(A_{i, j}, P_{i, j})..  & MultiQubitGate(A_{i, g}, P_{i, g})  & MultiQubitGate(B_{i, 1}, Q_{i, 1})  & ..MultiQubitGate(B_{i, j}, Q_{i, j})..  & MultiQubitGate(B_{i, h}, Q_{i, h})  & MultiQubitGate(C_{i, 1}, R_{i, 1})  & ..MultiQubitGate(C_{i, j}, R_{i, j})..  & MultiQubitGate(C_{i, k}, R_{i, k})   \\\\ \n",
       "   \\colon  & \\colon  & \\colon  & \\colon  & \\colon  & \\colon  & \\colon  & \\colon  & \\colon   \\\\ \n",
       "   MultiQubitGate(A_{m, 1}, P_{m, 1})  & ..MultiQubitGate(A_{m, j}, P_{m, j})..  & MultiQubitGate(A_{m, g}, P_{m, g})  & MultiQubitGate(B_{m, 1}, Q_{m, 1})  & ..MultiQubitGate(B_{m, j}, Q_{m, j})..  & MultiQubitGate(B_{m, h}, Q_{m, h})  & MultiQubitGate(C_{m, 1}, R_{m, 1})  & ..MultiQubitGate(C_{m, j}, R_{m, j})..  & MultiQubitGate(C_{m, k}, R_{m, k})"
      ]
     },
     "execution_count": 2,
     "metadata": {},
     "output_type": "execute_result"
    }
   ],
   "source": [
    "# build up the expression from sub-expressions\n",
    "expr = Circuit(ExprArray(ExprRange(i, [ExprRange(j, MultiQubitGate(Aij, Pij), one, g), ExprRange(j, MultiQubitGate(Bij, Qij), one, h), ExprRange(j, MultiQubitGate(Cij, Rij), one, k)], one, m)))"
   ]
  },
  {
   "cell_type": "code",
   "execution_count": 3,
   "metadata": {},
   "outputs": [
    {
     "name": "stdout",
     "output_type": "stream",
     "text": [
      "Passed sanity check: expr matches stored_expr\n"
     ]
    }
   ],
   "source": [
    "# check that the built expression is the same as the stored expression\n",
    "assert expr == stored_expr\n",
    "assert expr._style_id == stored_expr._style_id\n",
    "print(\"Passed sanity check: expr matches stored_expr\")"
   ]
  },
  {
   "cell_type": "code",
   "execution_count": 4,
   "metadata": {},
   "outputs": [
    {
     "name": "stdout",
     "output_type": "stream",
     "text": [
      "\\hspace{2em} \\Qcircuit@C=1em @R=.7em{\n",
      "& \\gate{A_{1, 1}{\\Big \\{} P_{1, 1}} \\qwx[1] & \\gate{\\cdots} \\qwx[1] & \\gate{A_{1, g}{\\Big \\{} P_{1, g}} \\qwx[1] & \\gate{B_{1, 1}{\\Big \\{} Q_{1, 1}} \\qwx[1] & \\gate{\\cdots} \\qwx[1] & \\gate{B_{1, h}{\\Big \\{} Q_{1, h}} \\qwx[1] & \\gate{C_{1, 1}{\\Big \\{} R_{1, 1}} \\qwx[1] & \\gate{\\cdots} \\qwx[1] & \\gate{C_{1, k}{\\Big \\{} R_{1, k}} \\qwx[1]   \\\\ \n",
      "  & \\gate{\\vdots} \\qwx[1] & \\gate{A_{i, j}{\\Big \\{} P_{i, j}} \\qwx[1] & \\gate{\\vdots} \\qwx[1] & \\gate{\\vdots} \\qwx[1] & \\gate{B_{i, j}{\\Big \\{} Q_{i, j}} \\qwx[1] & \\gate{\\vdots} \\qwx[1] & \\gate{\\vdots} \\qwx[1] & \\gate{C_{i, j}{\\Big \\{} R_{i, j}} \\qwx[1] & \\gate{\\vdots} \\qwx[1]   \\\\ \n",
      "  & \\gate{A_{m, 1}{\\Big \\{} P_{m, 1}} & \\gate{\\cdots} & \\gate{A_{m, g}{\\Big \\{} P_{m, g}} & \\gate{B_{m, 1}{\\Big \\{} Q_{m, 1}} & \\gate{\\cdots} & \\gate{B_{m, h}{\\Big \\{} Q_{m, h}} & \\gate{C_{m, 1}{\\Big \\{} R_{m, 1}} & \\gate{\\cdots} & \\gate{C_{m, k}{\\Big \\{} R_{m, k}} \n",
      "} \\hspace{2em}\n"
     ]
    }
   ],
   "source": [
    "# Show the LaTeX representation of the expression for convenience if you need it.\n",
    "print(expr.latex())"
   ]
  },
  {
   "cell_type": "code",
   "execution_count": 5,
   "metadata": {},
   "outputs": [
    {
     "data": {
      "text/html": [
       "<table><tr><th>&nbsp;</th><th>core type</th><th>sub-expressions</th><th>expression</th></tr>\n",
       "<tr><td>0</td><td>Operation</td><td>operator:&nbsp;1<br>operand:&nbsp;3<br></td><td><a class=\"ProveItLink\" href=\"expr.ipynb\"><img src=\"expr.png\" style=\"display:inline;vertical-align:middle;\" /></a></td></tr>\n",
       "<tr><td>1</td><td>Literal</td><td></td><td><a class=\"ProveItLink\" href=\"../../common/409f940d39947a3c17092974bfa20c1d4da6996c0/expr.ipynb\"><img src=\"../../common/409f940d39947a3c17092974bfa20c1d4da6996c0/expr.png\" style=\"display:inline;vertical-align:middle;\" /></a></td></tr>\n",
       "<tr><td>2</td><td>ExprTuple</td><td>3</td><td><a class=\"ProveItLink\" href=\"../89394fa9f23a2c914c73ca9df91377145fc4a5850/expr.ipynb\"><img src=\"../89394fa9f23a2c914c73ca9df91377145fc4a5850/expr.png\" style=\"display:inline;vertical-align:middle;\" /></a></td></tr>\n",
       "<tr><td>3</td><td>ExprTuple</td><td>4</td><td><a class=\"ProveItLink\" href=\"../a5e3d3b60c1180c7fd6137e0cee3eb1938d34d230/expr.ipynb\"><img src=\"../a5e3d3b60c1180c7fd6137e0cee3eb1938d34d230/expr.png\" style=\"display:inline;vertical-align:middle;\" /></a></td></tr>\n",
       "<tr><td>4</td><td>ExprRange</td><td>lambda_map:&nbsp;5<br>start_index:&nbsp;16<br>end_index:&nbsp;6<br></td><td><a class=\"ProveItLink\" href=\"../a7f2e66706a4186c96c7d867e2bd6493e52941620/expr.ipynb\"><img src=\"../a7f2e66706a4186c96c7d867e2bd6493e52941620/expr.png\" style=\"display:inline;vertical-align:middle;\" /></a></td></tr>\n",
       "<tr><td>5</td><td>Lambda</td><td>parameter:&nbsp;38<br>body:&nbsp;7<br></td><td><a class=\"ProveItLink\" href=\"../c78f6406b515f43105689634db87cc20f933d1d00/expr.ipynb\"><img src=\"../c78f6406b515f43105689634db87cc20f933d1d00/expr.png\" style=\"display:inline;vertical-align:middle;\" /></a></td></tr>\n",
       "<tr><td>6</td><td>Variable</td><td></td><td><a class=\"ProveItLink\" href=\"../../../../../__pv_it/common/674a03b9c3ca221b3aabd5636837b31528ff33830/expr.ipynb\"><img src=\"../../../../../__pv_it/common/674a03b9c3ca221b3aabd5636837b31528ff33830/expr.png\" style=\"display:inline;vertical-align:middle;\" /></a></td></tr>\n",
       "<tr><td>7</td><td>ExprTuple</td><td>8, 9, 10</td><td><a class=\"ProveItLink\" href=\"../a9700a1f7e2dee9b5aade1058eca59e9092903790/expr.ipynb\"><img src=\"../a9700a1f7e2dee9b5aade1058eca59e9092903790/expr.png\" style=\"display:inline;vertical-align:middle;\" /></a></td></tr>\n",
       "<tr><td>8</td><td>ExprRange</td><td>lambda_map:&nbsp;11<br>start_index:&nbsp;16<br>end_index:&nbsp;12<br></td><td><a class=\"ProveItLink\" href=\"../411afe64f58964f4eb6bfe059a506d151bb19f680/expr.ipynb\"><img src=\"../411afe64f58964f4eb6bfe059a506d151bb19f680/expr.png\" style=\"display:inline;vertical-align:middle;\" /></a></td></tr>\n",
       "<tr><td>9</td><td>ExprRange</td><td>lambda_map:&nbsp;13<br>start_index:&nbsp;16<br>end_index:&nbsp;14<br></td><td><a class=\"ProveItLink\" href=\"../b58a7d4fcad4c8607c12077ea32b26d6976cf5b00/expr.ipynb\"><img src=\"../b58a7d4fcad4c8607c12077ea32b26d6976cf5b00/expr.png\" style=\"display:inline;vertical-align:middle;\" /></a></td></tr>\n",
       "<tr><td>10</td><td>ExprRange</td><td>lambda_map:&nbsp;15<br>start_index:&nbsp;16<br>end_index:&nbsp;17<br></td><td><a class=\"ProveItLink\" href=\"../c9efef2d4ece5edaf1f4b1277c9dff0064922f840/expr.ipynb\"><img src=\"../c9efef2d4ece5edaf1f4b1277c9dff0064922f840/expr.png\" style=\"display:inline;vertical-align:middle;\" /></a></td></tr>\n",
       "<tr><td>11</td><td>Lambda</td><td>parameter:&nbsp;39<br>body:&nbsp;18<br></td><td><a class=\"ProveItLink\" href=\"../47b3cc7997f06424ab9a1dbc539ea5d4d2b964db0/expr.ipynb\"><img src=\"../47b3cc7997f06424ab9a1dbc539ea5d4d2b964db0/expr.png\" style=\"display:inline;vertical-align:middle;\" /></a></td></tr>\n",
       "<tr><td>12</td><td>Variable</td><td></td><td><a class=\"ProveItLink\" href=\"../../../../../__pv_it/common/96ac097ea7ee432328a5e933062d0ef407701bf40/expr.ipynb\"><img src=\"../../../../../__pv_it/common/96ac097ea7ee432328a5e933062d0ef407701bf40/expr.png\" style=\"display:inline;vertical-align:middle;\" /></a></td></tr>\n",
       "<tr><td>13</td><td>Lambda</td><td>parameter:&nbsp;39<br>body:&nbsp;19<br></td><td><a class=\"ProveItLink\" href=\"../979650bf52a6fe22fc98823611a926309a09e5020/expr.ipynb\"><img src=\"../979650bf52a6fe22fc98823611a926309a09e5020/expr.png\" style=\"display:inline;vertical-align:middle;\" /></a></td></tr>\n",
       "<tr><td>14</td><td>Variable</td><td></td><td><a class=\"ProveItLink\" href=\"../../../../../__pv_it/common/f13b5f19f59b59184c9a6a576c072499648aa8a80/expr.ipynb\"><img src=\"../../../../../__pv_it/common/f13b5f19f59b59184c9a6a576c072499648aa8a80/expr.png\" style=\"display:inline;vertical-align:middle;\" /></a></td></tr>\n",
       "<tr><td>15</td><td>Lambda</td><td>parameter:&nbsp;39<br>body:&nbsp;20<br></td><td><a class=\"ProveItLink\" href=\"../d138d855a461d9728bd03b7e60c7649da1973ab60/expr.ipynb\"><img src=\"../d138d855a461d9728bd03b7e60c7649da1973ab60/expr.png\" style=\"display:inline;vertical-align:middle;\" /></a></td></tr>\n",
       "<tr><td>16</td><td>Literal</td><td></td><td><a class=\"ProveItLink\" href=\"../../../../../numbers/numerals/__pv_it/common/2778428c7f555b2bdc06aa0530bc142c6e6335100/expr.ipynb\"><img src=\"../../../../../numbers/numerals/__pv_it/common/2778428c7f555b2bdc06aa0530bc142c6e6335100/expr.png\" style=\"display:inline;vertical-align:middle;\" /></a></td></tr>\n",
       "<tr><td>17</td><td>Variable</td><td></td><td><a class=\"ProveItLink\" href=\"../../../../../__pv_it/common/63b7c64bf9ec7a04ecc396c7a1670f3f12fb59490/expr.ipynb\"><img src=\"../../../../../__pv_it/common/63b7c64bf9ec7a04ecc396c7a1670f3f12fb59490/expr.png\" style=\"display:inline;vertical-align:middle;\" /></a></td></tr>\n",
       "<tr><td>18</td><td>Operation</td><td>operator:&nbsp;23<br>operands:&nbsp;21<br></td><td><a class=\"ProveItLink\" href=\"../26e99516e667e203496a5bf667486e35cf108c040/expr.ipynb\"><img src=\"../26e99516e667e203496a5bf667486e35cf108c040/expr.png\" style=\"display:inline;vertical-align:middle;\" /></a></td></tr>\n",
       "<tr><td>19</td><td>Operation</td><td>operator:&nbsp;23<br>operands:&nbsp;22<br></td><td><a class=\"ProveItLink\" href=\"../5fc0d0ab86a43e848aee7aea78ab8fb60a83b6740/expr.ipynb\"><img src=\"../5fc0d0ab86a43e848aee7aea78ab8fb60a83b6740/expr.png\" style=\"display:inline;vertical-align:middle;\" /></a></td></tr>\n",
       "<tr><td>20</td><td>Operation</td><td>operator:&nbsp;23<br>operands:&nbsp;24<br></td><td><a class=\"ProveItLink\" href=\"../a8ed2f4327ae36d694433845276d7d33174646c20/expr.ipynb\"><img src=\"../a8ed2f4327ae36d694433845276d7d33174646c20/expr.png\" style=\"display:inline;vertical-align:middle;\" /></a></td></tr>\n",
       "<tr><td>21</td><td>ExprTuple</td><td>25, 26</td><td><a class=\"ProveItLink\" href=\"../242237104543bf69d3e0faeeef00a444164263a60/expr.ipynb\"><img src=\"../242237104543bf69d3e0faeeef00a444164263a60/expr.png\" style=\"display:inline;vertical-align:middle;\" /></a></td></tr>\n",
       "<tr><td>22</td><td>ExprTuple</td><td>27, 28</td><td><a class=\"ProveItLink\" href=\"../39b588f1a727964c55be54926793e9422d3fc2eb0/expr.ipynb\"><img src=\"../39b588f1a727964c55be54926793e9422d3fc2eb0/expr.png\" style=\"display:inline;vertical-align:middle;\" /></a></td></tr>\n",
       "<tr><td>23</td><td>Literal</td><td></td><td><a class=\"ProveItLink\" href=\"../../common/7e400d333e3c53d1c3dd14244e4b33f4cea327190/expr.ipynb\"><img src=\"../../common/7e400d333e3c53d1c3dd14244e4b33f4cea327190/expr.png\" style=\"display:inline;vertical-align:middle;\" /></a></td></tr>\n",
       "<tr><td>24</td><td>ExprTuple</td><td>29, 30</td><td><a class=\"ProveItLink\" href=\"../5c06b8e54c784e25b3b2e166c980fe93af8eb2fd0/expr.ipynb\"><img src=\"../5c06b8e54c784e25b3b2e166c980fe93af8eb2fd0/expr.png\" style=\"display:inline;vertical-align:middle;\" /></a></td></tr>\n",
       "<tr><td>25</td><td>IndexedVar</td><td>variable:&nbsp;31<br>indices:&nbsp;37<br></td><td><a class=\"ProveItLink\" href=\"../../../../../core_expr_types/expr_arrays/__pv_it/common/bf871180f6c3ac509a4191f5fbec465b8d91a2170/expr.ipynb\"><img src=\"../../../../../core_expr_types/expr_arrays/__pv_it/common/bf871180f6c3ac509a4191f5fbec465b8d91a2170/expr.png\" style=\"display:inline;vertical-align:middle;\" /></a></td></tr>\n",
       "<tr><td>26</td><td>IndexedVar</td><td>variable:&nbsp;32<br>indices:&nbsp;37<br></td><td><a class=\"ProveItLink\" href=\"../../../../../core_expr_types/expr_arrays/__pv_it/common/b49c74ce7d6bce5d7cb998aa71b98200ae4857f90/expr.ipynb\"><img src=\"../../../../../core_expr_types/expr_arrays/__pv_it/common/b49c74ce7d6bce5d7cb998aa71b98200ae4857f90/expr.png\" style=\"display:inline;vertical-align:middle;\" /></a></td></tr>\n",
       "<tr><td>27</td><td>IndexedVar</td><td>variable:&nbsp;33<br>indices:&nbsp;37<br></td><td><a class=\"ProveItLink\" href=\"../../../../../core_expr_types/expr_arrays/__pv_it/common/55eb6de2b1eab7bb27324e48925d2b4e02ba7ec00/expr.ipynb\"><img src=\"../../../../../core_expr_types/expr_arrays/__pv_it/common/55eb6de2b1eab7bb27324e48925d2b4e02ba7ec00/expr.png\" style=\"display:inline;vertical-align:middle;\" /></a></td></tr>\n",
       "<tr><td>28</td><td>IndexedVar</td><td>variable:&nbsp;34<br>indices:&nbsp;37<br></td><td><a class=\"ProveItLink\" href=\"../../../../../core_expr_types/expr_arrays/__pv_it/common/9b3ea2d03b0fd20df88a03ba9f28bffc9dd7b1170/expr.ipynb\"><img src=\"../../../../../core_expr_types/expr_arrays/__pv_it/common/9b3ea2d03b0fd20df88a03ba9f28bffc9dd7b1170/expr.png\" style=\"display:inline;vertical-align:middle;\" /></a></td></tr>\n",
       "<tr><td>29</td><td>IndexedVar</td><td>variable:&nbsp;35<br>indices:&nbsp;37<br></td><td><a class=\"ProveItLink\" href=\"../../../../../core_expr_types/expr_arrays/__pv_it/common/7bec3d14c7dbc593c85701588c082b29f96381740/expr.ipynb\"><img src=\"../../../../../core_expr_types/expr_arrays/__pv_it/common/7bec3d14c7dbc593c85701588c082b29f96381740/expr.png\" style=\"display:inline;vertical-align:middle;\" /></a></td></tr>\n",
       "<tr><td>30</td><td>IndexedVar</td><td>variable:&nbsp;36<br>indices:&nbsp;37<br></td><td><a class=\"ProveItLink\" href=\"../../../../../core_expr_types/expr_arrays/__pv_it/common/d75300d9b5f2bcf2057b6b5617d214288f6ad31e0/expr.ipynb\"><img src=\"../../../../../core_expr_types/expr_arrays/__pv_it/common/d75300d9b5f2bcf2057b6b5617d214288f6ad31e0/expr.png\" style=\"display:inline;vertical-align:middle;\" /></a></td></tr>\n",
       "<tr><td>31</td><td>Variable</td><td></td><td><a class=\"ProveItLink\" href=\"../../../../../__pv_it/common/09585084922504426caf1db2ff588a23a0932a960/expr.ipynb\"><img src=\"../../../../../__pv_it/common/09585084922504426caf1db2ff588a23a0932a960/expr.png\" style=\"display:inline;vertical-align:middle;\" /></a></td></tr>\n",
       "<tr><td>32</td><td>Variable</td><td></td><td><a class=\"ProveItLink\" href=\"../../../../../__pv_it/common/de55da274ba0f49c86925fbf3828021c04d27faf0/expr.ipynb\"><img src=\"../../../../../__pv_it/common/de55da274ba0f49c86925fbf3828021c04d27faf0/expr.png\" style=\"display:inline;vertical-align:middle;\" /></a></td></tr>\n",
       "<tr><td>33</td><td>Variable</td><td></td><td><a class=\"ProveItLink\" href=\"../../../../../__pv_it/common/a9162d1c3cc0470c02e5daf414500903a7a419230/expr.ipynb\"><img src=\"../../../../../__pv_it/common/a9162d1c3cc0470c02e5daf414500903a7a419230/expr.png\" style=\"display:inline;vertical-align:middle;\" /></a></td></tr>\n",
       "<tr><td>34</td><td>Variable</td><td></td><td><a class=\"ProveItLink\" href=\"../../../../../__pv_it/common/d72bb8b07403efe79afab564c36a28e21330e5f90/expr.ipynb\"><img src=\"../../../../../__pv_it/common/d72bb8b07403efe79afab564c36a28e21330e5f90/expr.png\" style=\"display:inline;vertical-align:middle;\" /></a></td></tr>\n",
       "<tr><td>35</td><td>Variable</td><td></td><td><a class=\"ProveItLink\" href=\"../../../../../__pv_it/common/9fba9f29e823606ff4fdf2f1c6d5d08d906e850a0/expr.ipynb\"><img src=\"../../../../../__pv_it/common/9fba9f29e823606ff4fdf2f1c6d5d08d906e850a0/expr.png\" style=\"display:inline;vertical-align:middle;\" /></a></td></tr>\n",
       "<tr><td>36</td><td>Variable</td><td></td><td><a class=\"ProveItLink\" href=\"../../../../../__pv_it/common/647ca33d6b96e29d5aa85a15d2241c7ebd0c6e4b0/expr.ipynb\"><img src=\"../../../../../__pv_it/common/647ca33d6b96e29d5aa85a15d2241c7ebd0c6e4b0/expr.png\" style=\"display:inline;vertical-align:middle;\" /></a></td></tr>\n",
       "<tr><td>37</td><td>ExprTuple</td><td>38, 39</td><td><a class=\"ProveItLink\" href=\"../../../../../core_expr_types/expr_arrays/__pv_it/common/8089472df1a928dd45ace3fd9d98b01b2f1756ad0/expr.ipynb\"><img src=\"../../../../../core_expr_types/expr_arrays/__pv_it/common/8089472df1a928dd45ace3fd9d98b01b2f1756ad0/expr.png\" style=\"display:inline;vertical-align:middle;\" /></a></td></tr>\n",
       "<tr><td>38</td><td>Variable</td><td></td><td><a class=\"ProveItLink\" href=\"../../../../../__pv_it/common/ae955345c83abf786c3aff8681cd5465beae262d0/expr.ipynb\"><img src=\"../../../../../__pv_it/common/ae955345c83abf786c3aff8681cd5465beae262d0/expr.png\" style=\"display:inline;vertical-align:middle;\" /></a></td></tr>\n",
       "<tr><td>39</td><td>Variable</td><td></td><td><a class=\"ProveItLink\" href=\"../../../../../__pv_it/common/1ed21df18baca2f42b561a7ffbf30a2743d594650/expr.ipynb\"><img src=\"../../../../../__pv_it/common/1ed21df18baca2f42b561a7ffbf30a2743d594650/expr.png\" style=\"display:inline;vertical-align:middle;\" /></a></td></tr>\n",
       "</table>\n"
      ],
      "text/plain": [
       "0.  MultiQubitGate(A_{1, 1}, P_{1, 1})  & ..MultiQubitGate(A_{1, j}, P_{1, j})..  & MultiQubitGate(A_{1, g}, P_{1, g})  & MultiQubitGate(B_{1, 1}, Q_{1, 1})  & ..MultiQubitGate(B_{1, j}, Q_{1, j})..  & MultiQubitGate(B_{1, h}, Q_{1, h})  & MultiQubitGate(C_{1, 1}, R_{1, 1})  & ..MultiQubitGate(C_{1, j}, R_{1, j})..  & MultiQubitGate(C_{1, k}, R_{1, k})   \\\\ \n",
       "   \\colon  & \\colon  & \\colon  & \\colon  & \\colon  & \\colon  & \\colon  & \\colon  & \\colon   \\\\ \n",
       "   MultiQubitGate(A_{i, 1}, P_{i, 1})  & ..MultiQubitGate(A_{i, j}, P_{i, j})..  & MultiQubitGate(A_{i, g}, P_{i, g})  & MultiQubitGate(B_{i, 1}, Q_{i, 1})  & ..MultiQubitGate(B_{i, j}, Q_{i, j})..  & MultiQubitGate(B_{i, h}, Q_{i, h})  & MultiQubitGate(C_{i, 1}, R_{i, 1})  & ..MultiQubitGate(C_{i, j}, R_{i, j})..  & MultiQubitGate(C_{i, k}, R_{i, k})   \\\\ \n",
       "   \\colon  & \\colon  & \\colon  & \\colon  & \\colon  & \\colon  & \\colon  & \\colon  & \\colon   \\\\ \n",
       "   MultiQubitGate(A_{m, 1}, P_{m, 1})  & ..MultiQubitGate(A_{m, j}, P_{m, j})..  & MultiQubitGate(A_{m, g}, P_{m, g})  & MultiQubitGate(B_{m, 1}, Q_{m, 1})  & ..MultiQubitGate(B_{m, j}, Q_{m, j})..  & MultiQubitGate(B_{m, h}, Q_{m, h})  & MultiQubitGate(C_{m, 1}, R_{m, 1})  & ..MultiQubitGate(C_{m, j}, R_{m, j})..  & MultiQubitGate(C_{m, k}, R_{m, k})\n",
       "   core type: Operation\n",
       "   operator: 1\n",
       "   operand: 3\n",
       "1. CIRCUIT\n",
       "   core type: Literal\n",
       "   sub-expressions: \n",
       "2. ((MultiQubitGate(A_{1, 1}, P_{1, 1}) & ..MultiQubitGate(A_{1, j}, P_{1, j}).. & MultiQubitGate(A_{1, g}, P_{1, g}) & MultiQubitGate(B_{1, 1}, Q_{1, 1}) & ..MultiQubitGate(B_{1, j}, Q_{1, j}).. & MultiQubitGate(B_{1, h}, Q_{1, h}) & MultiQubitGate(C_{1, 1}, R_{1, 1}) & ..MultiQubitGate(C_{1, j}, R_{1, j}).. & MultiQubitGate(C_{1, k}, R_{1, k})  \\\\ \n",
       "  \\colon & \\colon & \\colon & \\colon & \\colon & \\colon & \\colon & \\colon & \\colon  \\\\ \n",
       "  MultiQubitGate(A_{i, 1}, P_{i, 1}) & ..MultiQubitGate(A_{i, j}, P_{i, j}).. & MultiQubitGate(A_{i, g}, P_{i, g}) & MultiQubitGate(B_{i, 1}, Q_{i, 1}) & ..MultiQubitGate(B_{i, j}, Q_{i, j}).. & MultiQubitGate(B_{i, h}, Q_{i, h}) & MultiQubitGate(C_{i, 1}, R_{i, 1}) & ..MultiQubitGate(C_{i, j}, R_{i, j}).. & MultiQubitGate(C_{i, k}, R_{i, k})  \\\\ \n",
       "  \\colon & \\colon & \\colon & \\colon & \\colon & \\colon & \\colon & \\colon & \\colon  \\\\ \n",
       "  MultiQubitGate(A_{m, 1}, P_{m, 1}) & ..MultiQubitGate(A_{m, j}, P_{m, j}).. & MultiQubitGate(A_{m, g}, P_{m, g}) & MultiQubitGate(B_{m, 1}, Q_{m, 1}) & ..MultiQubitGate(B_{m, j}, Q_{m, j}).. & MultiQubitGate(B_{m, h}, Q_{m, h}) & MultiQubitGate(C_{m, 1}, R_{m, 1}) & ..MultiQubitGate(C_{m, j}, R_{m, j}).. & MultiQubitGate(C_{m, k}, R_{m, k})))\n",
       "   core type: ExprTuple\n",
       "   sub-expressions: 3\n",
       "3. MultiQubitGate(A_{1, 1}, P_{1, 1}) & ..MultiQubitGate(A_{1, j}, P_{1, j}).. & MultiQubitGate(A_{1, g}, P_{1, g}) & MultiQubitGate(B_{1, 1}, Q_{1, 1}) & ..MultiQubitGate(B_{1, j}, Q_{1, j}).. & MultiQubitGate(B_{1, h}, Q_{1, h}) & MultiQubitGate(C_{1, 1}, R_{1, 1}) & ..MultiQubitGate(C_{1, j}, R_{1, j}).. & MultiQubitGate(C_{1, k}, R_{1, k})  \\\\ \n",
       "  \\colon & \\colon & \\colon & \\colon & \\colon & \\colon & \\colon & \\colon & \\colon  \\\\ \n",
       "  MultiQubitGate(A_{i, 1}, P_{i, 1}) & ..MultiQubitGate(A_{i, j}, P_{i, j}).. & MultiQubitGate(A_{i, g}, P_{i, g}) & MultiQubitGate(B_{i, 1}, Q_{i, 1}) & ..MultiQubitGate(B_{i, j}, Q_{i, j}).. & MultiQubitGate(B_{i, h}, Q_{i, h}) & MultiQubitGate(C_{i, 1}, R_{i, 1}) & ..MultiQubitGate(C_{i, j}, R_{i, j}).. & MultiQubitGate(C_{i, k}, R_{i, k})  \\\\ \n",
       "  \\colon & \\colon & \\colon & \\colon & \\colon & \\colon & \\colon & \\colon & \\colon  \\\\ \n",
       "  MultiQubitGate(A_{m, 1}, P_{m, 1}) & ..MultiQubitGate(A_{m, j}, P_{m, j}).. & MultiQubitGate(A_{m, g}, P_{m, g}) & MultiQubitGate(B_{m, 1}, Q_{m, 1}) & ..MultiQubitGate(B_{m, j}, Q_{m, j}).. & MultiQubitGate(B_{m, h}, Q_{m, h}) & MultiQubitGate(C_{m, 1}, R_{m, 1}) & ..MultiQubitGate(C_{m, j}, R_{m, j}).. & MultiQubitGate(C_{m, k}, R_{m, k})\n",
       "   core type: ExprTuple\n",
       "   sub-expressions: 4\n",
       "4. (MultiQubitGate(A_{1, 1}, P_{1, 1}), ..MultiQubitGate(A_{1, j}, P_{1, j}).., MultiQubitGate(A_{1, g}, P_{1, g}), MultiQubitGate(B_{1, 1}, Q_{1, 1}), ..MultiQubitGate(B_{1, j}, Q_{1, j}).., MultiQubitGate(B_{1, h}, Q_{1, h}), MultiQubitGate(C_{1, 1}, R_{1, 1}), ..MultiQubitGate(C_{1, j}, R_{1, j}).., MultiQubitGate(C_{1, k}, R_{1, k})), ..(MultiQubitGate(A_{i, 1}, P_{i, 1}), ..MultiQubitGate(A_{i, j}, P_{i, j}).., MultiQubitGate(A_{i, g}, P_{i, g}), MultiQubitGate(B_{i, 1}, Q_{i, 1}), ..MultiQubitGate(B_{i, j}, Q_{i, j}).., MultiQubitGate(B_{i, h}, Q_{i, h}), MultiQubitGate(C_{i, 1}, R_{i, 1}), ..MultiQubitGate(C_{i, j}, R_{i, j}).., MultiQubitGate(C_{i, k}, R_{i, k})).., (MultiQubitGate(A_{m, 1}, P_{m, 1}), ..MultiQubitGate(A_{m, j}, P_{m, j}).., MultiQubitGate(A_{m, g}, P_{m, g}), MultiQubitGate(B_{m, 1}, Q_{m, 1}), ..MultiQubitGate(B_{m, j}, Q_{m, j}).., MultiQubitGate(B_{m, h}, Q_{m, h}), MultiQubitGate(C_{m, 1}, R_{m, 1}), ..MultiQubitGate(C_{m, j}, R_{m, j}).., MultiQubitGate(C_{m, k}, R_{m, k}))\n",
       "   core type: ExprRange\n",
       "   lambda_map: 5\n",
       "   start_index: 16\n",
       "   end_index: 6\n",
       "5. i -> (MultiQubitGate(A_{i, 1}, P_{i, 1}), ..MultiQubitGate(A_{i, j}, P_{i, j}).., MultiQubitGate(A_{i, g}, P_{i, g}), MultiQubitGate(B_{i, 1}, Q_{i, 1}), ..MultiQubitGate(B_{i, j}, Q_{i, j}).., MultiQubitGate(B_{i, h}, Q_{i, h}), MultiQubitGate(C_{i, 1}, R_{i, 1}), ..MultiQubitGate(C_{i, j}, R_{i, j}).., MultiQubitGate(C_{i, k}, R_{i, k}))\n",
       "   core type: Lambda\n",
       "   parameter: 38\n",
       "   body: 7\n",
       "6. m\n",
       "   core type: Variable\n",
       "   sub-expressions: \n",
       "7. (MultiQubitGate(A_{i, 1}, P_{i, 1}), ..MultiQubitGate(A_{i, j}, P_{i, j}).., MultiQubitGate(A_{i, g}, P_{i, g}), MultiQubitGate(B_{i, 1}, Q_{i, 1}), ..MultiQubitGate(B_{i, j}, Q_{i, j}).., MultiQubitGate(B_{i, h}, Q_{i, h}), MultiQubitGate(C_{i, 1}, R_{i, 1}), ..MultiQubitGate(C_{i, j}, R_{i, j}).., MultiQubitGate(C_{i, k}, R_{i, k}))\n",
       "   core type: ExprTuple\n",
       "   sub-expressions: 8, 9, 10\n",
       "8. MultiQubitGate(A_{i, 1}, P_{i, 1}), ..MultiQubitGate(A_{i, j}, P_{i, j}).., MultiQubitGate(A_{i, g}, P_{i, g})\n",
       "   core type: ExprRange\n",
       "   lambda_map: 11\n",
       "   start_index: 16\n",
       "   end_index: 12\n",
       "9. MultiQubitGate(B_{i, 1}, Q_{i, 1}), ..MultiQubitGate(B_{i, j}, Q_{i, j}).., MultiQubitGate(B_{i, h}, Q_{i, h})\n",
       "   core type: ExprRange\n",
       "   lambda_map: 13\n",
       "   start_index: 16\n",
       "   end_index: 14\n",
       "10. MultiQubitGate(C_{i, 1}, R_{i, 1}), ..MultiQubitGate(C_{i, j}, R_{i, j}).., MultiQubitGate(C_{i, k}, R_{i, k})\n",
       "    core type: ExprRange\n",
       "    lambda_map: 15\n",
       "    start_index: 16\n",
       "    end_index: 17\n",
       "11. j -> MultiQubitGate(A_{i, j}, P_{i, j})\n",
       "    core type: Lambda\n",
       "    parameter: 39\n",
       "    body: 18\n",
       "12. g\n",
       "    core type: Variable\n",
       "    sub-expressions: \n",
       "13. j -> MultiQubitGate(B_{i, j}, Q_{i, j})\n",
       "    core type: Lambda\n",
       "    parameter: 39\n",
       "    body: 19\n",
       "14. h\n",
       "    core type: Variable\n",
       "    sub-expressions: \n",
       "15. j -> MultiQubitGate(C_{i, j}, R_{i, j})\n",
       "    core type: Lambda\n",
       "    parameter: 39\n",
       "    body: 20\n",
       "16. 1\n",
       "    core type: Literal\n",
       "    sub-expressions: \n",
       "17. k\n",
       "    core type: Variable\n",
       "    sub-expressions: \n",
       "18. MultiQubitGate(A_{i, j}, P_{i, j})\n",
       "    core type: Operation\n",
       "    operator: 23\n",
       "    operands: 21\n",
       "19. MultiQubitGate(B_{i, j}, Q_{i, j})\n",
       "    core type: Operation\n",
       "    operator: 23\n",
       "    operands: 22\n",
       "20. MultiQubitGate(C_{i, j}, R_{i, j})\n",
       "    core type: Operation\n",
       "    operator: 23\n",
       "    operands: 24\n",
       "21. (A_{i, j}, P_{i, j})\n",
       "    core type: ExprTuple\n",
       "    sub-expressions: 25, 26\n",
       "22. (B_{i, j}, Q_{i, j})\n",
       "    core type: ExprTuple\n",
       "    sub-expressions: 27, 28\n",
       "23. MULTI_QUBIT_GATE\n",
       "    core type: Literal\n",
       "    sub-expressions: \n",
       "24. (C_{i, j}, R_{i, j})\n",
       "    core type: ExprTuple\n",
       "    sub-expressions: 29, 30\n",
       "25. A_{i, j}\n",
       "    core type: IndexedVar\n",
       "variable: 31\n",
       "indices: 37\n",
       "26. P_{i, j}\n",
       "    core type: IndexedVar\n",
       "variable: 32\n",
       "indices: 37\n",
       "27. B_{i, j}\n",
       "    core type: IndexedVar\n",
       "variable: 33\n",
       "indices: 37\n",
       "28. Q_{i, j}\n",
       "    core type: IndexedVar\n",
       "variable: 34\n",
       "indices: 37\n",
       "29. C_{i, j}\n",
       "    core type: IndexedVar\n",
       "variable: 35\n",
       "indices: 37\n",
       "30. R_{i, j}\n",
       "    core type: IndexedVar\n",
       "variable: 36\n",
       "indices: 37\n",
       "31. A\n",
       "    core type: Variable\n",
       "    sub-expressions: \n",
       "32. P\n",
       "    core type: Variable\n",
       "    sub-expressions: \n",
       "33. B\n",
       "    core type: Variable\n",
       "    sub-expressions: \n",
       "34. Q\n",
       "    core type: Variable\n",
       "    sub-expressions: \n",
       "35. C\n",
       "    core type: Variable\n",
       "    sub-expressions: \n",
       "36. R\n",
       "    core type: Variable\n",
       "    sub-expressions: \n",
       "37. (i, j)\n",
       "    core type: ExprTuple\n",
       "    sub-expressions: 38, 39\n",
       "38. i\n",
       "    core type: Variable\n",
       "    sub-expressions: \n",
       "39. j\n",
       "    core type: Variable\n",
       "    sub-expressions: "
      ]
     },
     "execution_count": 5,
     "metadata": {},
     "output_type": "execute_result"
    }
   ],
   "source": [
    "# display the expression information\n",
    "expr.expr_info()"
   ]
  },
  {
   "cell_type": "code",
   "execution_count": null,
   "metadata": {},
   "outputs": [],
   "source": []
  }
 ],
 "metadata": {
  "kernelspec": {
   "display_name": "Python 3",
   "language": "python",
   "name": "python3"
  }
 },
 "nbformat": 4,
 "nbformat_minor": 0
}