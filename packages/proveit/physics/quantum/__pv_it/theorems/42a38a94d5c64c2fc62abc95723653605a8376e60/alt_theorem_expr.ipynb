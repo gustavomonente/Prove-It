{
 "cells": [
  {
   "cell_type": "markdown",
   "metadata": {},
   "source": [
    "Temporary notebook for <a class=\"ProveItLink\" href=\"../../../_theorems_.ipynb#double_space_equiv\">double_space_equiv</a> of type <a href=\"../../../../../../../doc/html/api/proveit.logic.Forall.html\">Forall</a>\n",
    "=======================\n",
    "# a not-yet-official theorem from the theory of <a class=\"ProveItLink\" href=\"../../../_theory_nbs_/theory.ipynb\">proveit.physics.quantum</a>"
   ]
  },
  {
   "cell_type": "code",
   "execution_count": null,
   "metadata": {},
   "outputs": [],
   "source": [
    "import proveit\n",
    "# Automation is not needed when building an expression:\n",
    "proveit.defaults.automation = False # This will speed things up\n",
    "proveit.defaults.inline_pngs = False # Makes files smaller.\n",
    "%load_theorem_expr # Load the stored theorem expression as 'stored_expr'\n",
    "# import Expression classes needed to build the expression\n",
    "from proveit import A, B, C, D, E, ExprArray, ExprRange, F, G, IndexedVar, Q, R, Variable, h, i, j, k, m, n\n",
    "from proveit.core_expr_types.expr_arrays import Aij, Cij, Eij, Qij, Rij, S11_to_Smn, Sij\n",
    "from proveit.logic import Forall, Implies, Set\n",
    "from proveit.numbers import Add, NaturalPos, one, two\n",
    "from proveit.physics.quantum.circuit import Circuit, CircuitEquiv, MultiQubitGate"
   ]
  },
  {
   "cell_type": "code",
   "execution_count": null,
   "metadata": {},
   "outputs": [],
   "source": [
    "# build up the expression from sub-expressions\n",
    "sub_expr1 = Variable(\"_a\", latex_format = r\"{_{-}a}\")\n",
    "sub_expr2 = Variable(\"_b\", latex_format = r\"{_{-}b}\")\n",
    "sub_expr3 = [sub_expr1, sub_expr2]\n",
    "sub_expr4 = Set(Add(m, one), Add(m, k, two))\n",
    "sub_expr5 = [ExprRange(j, MultiQubitGate(IndexedVar(B, j), sub_expr4), one, n)]\n",
    "sub_expr6 = [ExprRange(j, MultiQubitGate(IndexedVar(D, j), sub_expr4), one, n)]\n",
    "sub_expr7 = [ExprRange(j, MultiQubitGate(IndexedVar(F, j), sub_expr4), one, n)]\n",
    "sub_expr8 = [ExprRange(j, MultiQubitGate(IndexedVar(G, j), sub_expr4), one, n)]\n",
    "sub_expr9 = ExprRange(i, [ExprRange(j, MultiQubitGate(Aij, Sij), one, n)], one, m)\n",
    "sub_expr10 = ExprRange(i, [ExprRange(j, MultiQubitGate(Cij, Rij), one, n)], one, k)\n",
    "sub_expr11 = ExprRange(i, [ExprRange(j, MultiQubitGate(Eij, Qij), one, n)], one, h)\n",
    "expr = Forall([h, k, m, n], Forall([ExprRange(sub_expr1, ExprRange(sub_expr2, IndexedVar(A, sub_expr3), one, n), one, m), ExprRange(sub_expr1, IndexedVar(B, sub_expr1), one, n), ExprRange(sub_expr1, ExprRange(sub_expr2, IndexedVar(C, sub_expr3), one, n), one, k), ExprRange(sub_expr1, IndexedVar(D, sub_expr1), one, n), ExprRange(sub_expr1, ExprRange(sub_expr2, IndexedVar(E, sub_expr3), one, n), one, h), ExprRange(sub_expr1, IndexedVar(F, sub_expr1), one, n), ExprRange(sub_expr1, IndexedVar(G, sub_expr1), one, n), S11_to_Smn, ExprRange(sub_expr1, ExprRange(sub_expr2, IndexedVar(Q, sub_expr3), one, n), one, h), ExprRange(sub_expr1, ExprRange(sub_expr2, IndexedVar(R, sub_expr3), one, n), one, k)], Implies(CircuitEquiv(Circuit(ExprArray(sub_expr5, sub_expr6)), Circuit(ExprArray(sub_expr7, sub_expr8))), CircuitEquiv(Circuit(ExprArray(sub_expr9, sub_expr5, sub_expr10, sub_expr6, sub_expr11)), Circuit(ExprArray(sub_expr9, sub_expr7, sub_expr10, sub_expr8, sub_expr11)))).with_wrapping_at(2)).wrap_params(), domains = [NaturalPos, NaturalPos, NaturalPos, NaturalPos])"
   ]
  },
  {
   "cell_type": "code",
   "execution_count": null,
   "metadata": {},
   "outputs": [],
   "source": [
    "# check that the built expression is the same as the stored expression\n",
    "assert expr == stored_expr\n",
    "assert expr._style_id == stored_expr._style_id\n",
    "print(\"Passed sanity check: double_space_equiv matches stored_expr\")"
   ]
  },
  {
   "cell_type": "code",
   "execution_count": null,
   "metadata": {},
   "outputs": [],
   "source": [
    "# Show the LaTeX representation of the expression for convenience if you need it.\n",
    "print(expr.latex())"
   ]
  },
  {
   "cell_type": "code",
   "execution_count": null,
   "metadata": {},
   "outputs": [],
   "source": [
    "# display the expression information\n",
    "expr.expr_info()"
   ]
  },
  {
   "cell_type": "code",
   "execution_count": null,
   "metadata": {},
   "outputs": [],
   "source": []
  }
 ],
 "metadata": {
  "kernelspec": {
   "display_name": "Python 3",
   "language": "python",
   "name": "python3"
  }
 },
 "nbformat": 4,
 "nbformat_minor": 0
}