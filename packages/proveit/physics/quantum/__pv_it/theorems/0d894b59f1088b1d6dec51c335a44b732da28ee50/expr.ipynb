{
 "cells": [
  {
   "cell_type": "markdown",
   "metadata": {},
   "source": [
    "Expression of type <a class=\"ProveItLink\" href=\"../../../../../../../doc/html/api/proveit.ExprArray.html\">ExprArray</a>\n",
    "=======================\n",
    "# from the theory of <a class=\"ProveItLink\" href=\"../../../_theory_nbs_/theory.ipynb\">proveit.physics.quantum</a>"
   ]
  },
  {
   "cell_type": "code",
   "execution_count": 1,
   "metadata": {},
   "outputs": [],
   "source": [
    "import proveit\n",
    "# Automation is not needed when building an expression:\n",
    "proveit.defaults.automation = False # This will speed things up.\n",
    "proveit.defaults.inline_pngs = False # Makes files smaller.\n",
    "%load_expr # Load the stored expression as 'stored_expr'\n",
    "# import Expression classes needed to build the expression\n",
    "from proveit import B, D, ExprArray, ExprRange, IndexedVar, j, k, m, n\n",
    "from proveit.logic import Set\n",
    "from proveit.numbers import Add, one, two\n",
    "from proveit.physics.quantum.circuit import MultiQubitGate"
   ]
  },
  {
   "cell_type": "code",
   "execution_count": 2,
   "metadata": {},
   "outputs": [
    {
     "data": {
      "text/html": [
       "<strong id=\"expr\">expr:</strong> <a class=\"ProveItLink\" href=\"expr.ipynb\"><img src=\"expr.png\" style=\"display:inline;vertical-align:middle;\" /></a><br>"
      ],
      "text/plain": [
       "expr: MultiQubitGate(B_{1}, {m + 1, m + k + 2}) & ..MultiQubitGate(B_{j}, {m + 1, m + k + 2}).. & MultiQubitGate(B_{n}, {m + 1, m + k + 2})  \\\\ \n",
       "  MultiQubitGate(D_{1}, {m + 1, m + k + 2}) & ..MultiQubitGate(D_{j}, {m + 1, m + k + 2}).. & MultiQubitGate(D_{n}, {m + 1, m + k + 2})"
      ]
     },
     "execution_count": 2,
     "metadata": {},
     "output_type": "execute_result"
    }
   ],
   "source": [
    "# build up the expression from sub-expressions\n",
    "sub_expr1 = Set(Add(m, one), Add(m, k, two))\n",
    "expr = ExprArray([ExprRange(j, MultiQubitGate(IndexedVar(B, j), sub_expr1), one, n)], [ExprRange(j, MultiQubitGate(IndexedVar(D, j), sub_expr1), one, n)])"
   ]
  },
  {
   "cell_type": "code",
   "execution_count": 3,
   "metadata": {},
   "outputs": [
    {
     "name": "stdout",
     "output_type": "stream",
     "text": [
      "Passed sanity check: expr matches stored_expr\n"
     ]
    }
   ],
   "source": [
    "# check that the built expression is the same as the stored expression\n",
    "assert expr == stored_expr\n",
    "assert expr._style_id == stored_expr._style_id\n",
    "print(\"Passed sanity check: expr matches stored_expr\")"
   ]
  },
  {
   "cell_type": "code",
   "execution_count": 4,
   "metadata": {},
   "outputs": [
    {
     "name": "stdout",
     "output_type": "stream",
     "text": [
      "\\begin{array} {ccc} \n",
      " \\hspace{2em} \\Qcircuit@C=1em @R=.7em{\n",
      "& \\gate{B_{1}{\\Big \\{} \\left\\{m + 1, m + k + 2\\right\\}} \n",
      "} \\hspace{2em} & \\cdots & \\hspace{2em} \\Qcircuit@C=1em @R=.7em{\n",
      "& \\gate{B_{n}{\\Big \\{} \\left\\{m + 1, m + k + 2\\right\\}} \n",
      "} \\hspace{2em}  \\\\ \n",
      "  \\hspace{2em} \\Qcircuit@C=1em @R=.7em{\n",
      "& \\gate{D_{1}{\\Big \\{} \\left\\{m + 1, m + k + 2\\right\\}} \n",
      "} \\hspace{2em} & \\cdots & \\hspace{2em} \\Qcircuit@C=1em @R=.7em{\n",
      "& \\gate{D_{n}{\\Big \\{} \\left\\{m + 1, m + k + 2\\right\\}} \n",
      "} \\hspace{2em} \\end{array} \n",
      "\n"
     ]
    }
   ],
   "source": [
    "# Show the LaTeX representation of the expression for convenience if you need it.\n",
    "print(expr.latex())"
   ]
  },
  {
   "cell_type": "code",
   "execution_count": 5,
   "metadata": {},
   "outputs": [
    {
     "data": {
      "text/html": [
       "<table>\n",
       "<tr><th>name</th><th>description</th><th>default</th><th>current value</th><th>related methods</th></tr><tr><td>justification</td><td>justify to the 'left', 'center', or 'right' in the array cells</td><td>center</td><td>center</td><td>with_justification</td></tr>\n",
       "<tr><td>orientation</td><td>to be read from left to right then top to bottom ('horizontal') or to be read top to bottom then left to right ('vertical')</td><td>horizontal</td><td>horizontal</td><td>with_orientation</td></tr>\n",
       "<tr><td>parameterization</td><td>'implicit' (default for LaTeX formatting) hides the parameter the ExprRange so the parameterization may be ambiguous (e.g., x_{1+1}, ..., x_{n+1}); 'explicit' (default for string formatting) reveals the parameterization (e.g. x_{1+1}, ..x_{k+1}.., x_{n+1}).</td><td>None</td><td>None/False</td><td>('with_explicit_parameterization', 'with_implicit_parameterization', 'with_default_parameterization_style')</td></tr>\n",
       "</table>\n"
      ],
      "text/plain": [
       "style name: justification\n",
       "description: justify to the 'left', 'center', or 'right' in the array cells\n",
       "default: center\n",
       "current value: center\n",
       "related methods: with_justification\n",
       "style name: orientation\n",
       "description: to be read from left to right then top to bottom ('horizontal') or to be read top to bottom then left to right ('vertical')\n",
       "default: horizontal\n",
       "current value: horizontal\n",
       "related methods: with_orientation\n",
       "style name: parameterization\n",
       "description: 'implicit' (default for LaTeX formatting) hides the parameter the ExprRange so the parameterization may be ambiguous (e.g., x_{1+1}, ..., x_{n+1}); 'explicit' (default for string formatting) reveals the parameterization (e.g. x_{1+1}, ..x_{k+1}.., x_{n+1}).\n",
       "default: None\n",
       "current value: None/False\n",
       "related methods: ('with_explicit_parameterization', 'with_implicit_parameterization', 'with_default_parameterization_style')"
      ]
     },
     "execution_count": 5,
     "metadata": {},
     "output_type": "execute_result"
    }
   ],
   "source": [
    "expr.style_options()"
   ]
  },
  {
   "cell_type": "code",
   "execution_count": 6,
   "metadata": {},
   "outputs": [
    {
     "data": {
      "text/html": [
       "<table><tr><th>&nbsp;</th><th>core type</th><th>sub-expressions</th><th>expression</th></tr>\n",
       "<tr><td>0</td><td>ExprTuple</td><td>1, 2</td><td><a class=\"ProveItLink\" href=\"expr.ipynb\"><img src=\"expr.png\" style=\"display:inline;vertical-align:middle;\" /></a></td></tr>\n",
       "<tr><td>1</td><td>ExprTuple</td><td>3</td><td><a class=\"ProveItLink\" href=\"../81e032c64b6a3a3f206a36cfd794d971d7621c740/expr.ipynb\"><img src=\"../81e032c64b6a3a3f206a36cfd794d971d7621c740/expr.png\" style=\"display:inline;vertical-align:middle;\" /></a></td></tr>\n",
       "<tr><td>2</td><td>ExprTuple</td><td>4</td><td><a class=\"ProveItLink\" href=\"../c642f34c2117a8b3b6f1406c8e1c5820a2ddb1430/expr.ipynb\"><img src=\"../c642f34c2117a8b3b6f1406c8e1c5820a2ddb1430/expr.png\" style=\"display:inline;vertical-align:middle;\" /></a></td></tr>\n",
       "<tr><td>3</td><td>ExprRange</td><td>lambda_map:&nbsp;5<br>start_index:&nbsp;27<br>end_index:&nbsp;7<br></td><td><a class=\"ProveItLink\" href=\"../56739accabdd144dbb282cc14ec1e11baa15e82c0/expr.ipynb\"><img src=\"../56739accabdd144dbb282cc14ec1e11baa15e82c0/expr.png\" style=\"display:inline;vertical-align:middle;\" /></a></td></tr>\n",
       "<tr><td>4</td><td>ExprRange</td><td>lambda_map:&nbsp;6<br>start_index:&nbsp;27<br>end_index:&nbsp;7<br></td><td><a class=\"ProveItLink\" href=\"../af5f8081d8bfb99103e64471c07c7a8296e7a1240/expr.ipynb\"><img src=\"../af5f8081d8bfb99103e64471c07c7a8296e7a1240/expr.png\" style=\"display:inline;vertical-align:middle;\" /></a></td></tr>\n",
       "<tr><td>5</td><td>Lambda</td><td>parameter:&nbsp;21<br>body:&nbsp;8<br></td><td><a class=\"ProveItLink\" href=\"../a7881571926f063558d772a0c7e5016b0b30f83a0/expr.ipynb\"><img src=\"../a7881571926f063558d772a0c7e5016b0b30f83a0/expr.png\" style=\"display:inline;vertical-align:middle;\" /></a></td></tr>\n",
       "<tr><td>6</td><td>Lambda</td><td>parameter:&nbsp;21<br>body:&nbsp;9<br></td><td><a class=\"ProveItLink\" href=\"../f6dd33025229928ba4193e090d0e49ccf8e92c0b0/expr.ipynb\"><img src=\"../f6dd33025229928ba4193e090d0e49ccf8e92c0b0/expr.png\" style=\"display:inline;vertical-align:middle;\" /></a></td></tr>\n",
       "<tr><td>7</td><td>Variable</td><td></td><td><a class=\"ProveItLink\" href=\"../../../../../__pv_it/common/6165c9bb82ce3c7097cdba4440a1aeeb6eaca8a40/expr.ipynb\"><img src=\"../../../../../__pv_it/common/6165c9bb82ce3c7097cdba4440a1aeeb6eaca8a40/expr.png\" style=\"display:inline;vertical-align:middle;\" /></a></td></tr>\n",
       "<tr><td>8</td><td>Operation</td><td>operator:&nbsp;11<br>operands:&nbsp;10<br></td><td><a class=\"ProveItLink\" href=\"../13f94d21ee5ccc53a05ae8e5091e4c1b011721100/expr.ipynb\"><img src=\"../13f94d21ee5ccc53a05ae8e5091e4c1b011721100/expr.png\" style=\"display:inline;vertical-align:middle;\" /></a></td></tr>\n",
       "<tr><td>9</td><td>Operation</td><td>operator:&nbsp;11<br>operands:&nbsp;12<br></td><td><a class=\"ProveItLink\" href=\"../e7fafcb038af588db6b9db904508588bc5320d2e0/expr.ipynb\"><img src=\"../e7fafcb038af588db6b9db904508588bc5320d2e0/expr.png\" style=\"display:inline;vertical-align:middle;\" /></a></td></tr>\n",
       "<tr><td>10</td><td>ExprTuple</td><td>13, 15</td><td><a class=\"ProveItLink\" href=\"../1b4a7936dfada6bd9fc068b8fca8607d204c8e150/expr.ipynb\"><img src=\"../1b4a7936dfada6bd9fc068b8fca8607d204c8e150/expr.png\" style=\"display:inline;vertical-align:middle;\" /></a></td></tr>\n",
       "<tr><td>11</td><td>Literal</td><td></td><td><a class=\"ProveItLink\" href=\"../../common/38deceb0a69e80c36399d725649803706802a2a90/expr.ipynb\"><img src=\"../../common/38deceb0a69e80c36399d725649803706802a2a90/expr.png\" style=\"display:inline;vertical-align:middle;\" /></a></td></tr>\n",
       "<tr><td>12</td><td>ExprTuple</td><td>14, 15</td><td><a class=\"ProveItLink\" href=\"../defaa8aed8ea2eb838471d3ff6643cd6a9acc16b0/expr.ipynb\"><img src=\"../defaa8aed8ea2eb838471d3ff6643cd6a9acc16b0/expr.png\" style=\"display:inline;vertical-align:middle;\" /></a></td></tr>\n",
       "<tr><td>13</td><td>IndexedVar</td><td>variable:&nbsp;16<br>index:&nbsp;21<br></td><td><a class=\"ProveItLink\" href=\"../25f63bb5a4a10957e0917572f4d0428ceba68d330/expr.ipynb\"><img src=\"../25f63bb5a4a10957e0917572f4d0428ceba68d330/expr.png\" style=\"display:inline;vertical-align:middle;\" /></a></td></tr>\n",
       "<tr><td>14</td><td>IndexedVar</td><td>variable:&nbsp;17<br>index:&nbsp;21<br></td><td><a class=\"ProveItLink\" href=\"../3e714d90f08d6a4a3b665ae52234f06e0cb468370/expr.ipynb\"><img src=\"../3e714d90f08d6a4a3b665ae52234f06e0cb468370/expr.png\" style=\"display:inline;vertical-align:middle;\" /></a></td></tr>\n",
       "<tr><td>15</td><td>Operation</td><td>operator:&nbsp;19<br>operands:&nbsp;20<br></td><td><a class=\"ProveItLink\" href=\"../7e64d1f4d1c0f882866dc12da0fac095f5d4de3c0/expr.ipynb\"><img src=\"../7e64d1f4d1c0f882866dc12da0fac095f5d4de3c0/expr.png\" style=\"display:inline;vertical-align:middle;\" /></a></td></tr>\n",
       "<tr><td>16</td><td>Variable</td><td></td><td><a class=\"ProveItLink\" href=\"../../../../../__pv_it/common/4eca3b30dcf58a58494e201d1b7886d8643a617b0/expr.ipynb\"><img src=\"../../../../../__pv_it/common/4eca3b30dcf58a58494e201d1b7886d8643a617b0/expr.png\" style=\"display:inline;vertical-align:middle;\" /></a></td></tr>\n",
       "<tr><td>17</td><td>Variable</td><td></td><td><a class=\"ProveItLink\" href=\"../../../../../__pv_it/common/e5e296931d7f88d2c0ed4dd1b8498a680788952f0/expr.ipynb\"><img src=\"../../../../../__pv_it/common/e5e296931d7f88d2c0ed4dd1b8498a680788952f0/expr.png\" style=\"display:inline;vertical-align:middle;\" /></a></td></tr>\n",
       "<tr><td>18</td><td>ExprTuple</td><td>21</td><td><a class=\"ProveItLink\" href=\"../a9ba12b2160b99c6e4ef450a8a2fae56cdead2790/expr.ipynb\"><img src=\"../a9ba12b2160b99c6e4ef450a8a2fae56cdead2790/expr.png\" style=\"display:inline;vertical-align:middle;\" /></a></td></tr>\n",
       "<tr><td>19</td><td>Literal</td><td></td><td><a class=\"ProveItLink\" href=\"../../../../../logic/sets/enumeration/__pv_it/common/f7caf702081f903a6ea3d95d680568dd78698f5a0/expr.ipynb\"><img src=\"../../../../../logic/sets/enumeration/__pv_it/common/f7caf702081f903a6ea3d95d680568dd78698f5a0/expr.png\" style=\"display:inline;vertical-align:middle;\" /></a></td></tr>\n",
       "<tr><td>20</td><td>ExprTuple</td><td>22, 23</td><td><a class=\"ProveItLink\" href=\"../5bd2269c2d456e28228745e4604bf48d3033511c0/expr.ipynb\"><img src=\"../5bd2269c2d456e28228745e4604bf48d3033511c0/expr.png\" style=\"display:inline;vertical-align:middle;\" /></a></td></tr>\n",
       "<tr><td>21</td><td>Variable</td><td></td><td><a class=\"ProveItLink\" href=\"../../../../../__pv_it/common/5514cc9a63b9c2ed9b63934dd5e088ab0d4f10080/expr.ipynb\"><img src=\"../../../../../__pv_it/common/5514cc9a63b9c2ed9b63934dd5e088ab0d4f10080/expr.png\" style=\"display:inline;vertical-align:middle;\" /></a></td></tr>\n",
       "<tr><td>22</td><td>Operation</td><td>operator:&nbsp;25<br>operands:&nbsp;24<br></td><td><a class=\"ProveItLink\" href=\"../efd1d07d2fb8417de5db55be233e5799d8cec0b20/expr.ipynb\"><img src=\"../efd1d07d2fb8417de5db55be233e5799d8cec0b20/expr.png\" style=\"display:inline;vertical-align:middle;\" /></a></td></tr>\n",
       "<tr><td>23</td><td>Operation</td><td>operator:&nbsp;25<br>operands:&nbsp;26<br></td><td><a class=\"ProveItLink\" href=\"../70d09423c62071798e5bf4bfac1e43bd2d6d911c0/expr.ipynb\"><img src=\"../70d09423c62071798e5bf4bfac1e43bd2d6d911c0/expr.png\" style=\"display:inline;vertical-align:middle;\" /></a></td></tr>\n",
       "<tr><td>24</td><td>ExprTuple</td><td>28, 27</td><td><a class=\"ProveItLink\" href=\"../03a40d63027ce00fe578e986fa3bc5aefc3f8df10/expr.ipynb\"><img src=\"../03a40d63027ce00fe578e986fa3bc5aefc3f8df10/expr.png\" style=\"display:inline;vertical-align:middle;\" /></a></td></tr>\n",
       "<tr><td>25</td><td>Literal</td><td></td><td><a class=\"ProveItLink\" href=\"../../../../../numbers/addition/__pv_it/common/1f38fe5cce441387feef296e2c0a2eac260bb4f30/expr.ipynb\"><img src=\"../../../../../numbers/addition/__pv_it/common/1f38fe5cce441387feef296e2c0a2eac260bb4f30/expr.png\" style=\"display:inline;vertical-align:middle;\" /></a></td></tr>\n",
       "<tr><td>26</td><td>ExprTuple</td><td>28, 29, 30</td><td><a class=\"ProveItLink\" href=\"../bd66972a916efdd655d4f40eb455b6c62337f0180/expr.ipynb\"><img src=\"../bd66972a916efdd655d4f40eb455b6c62337f0180/expr.png\" style=\"display:inline;vertical-align:middle;\" /></a></td></tr>\n",
       "<tr><td>27</td><td>Literal</td><td></td><td><a class=\"ProveItLink\" href=\"../../../../../numbers/numerals/__pv_it/common/d278e359da0695d9652dd541d45264f93703e2e40/expr.ipynb\"><img src=\"../../../../../numbers/numerals/__pv_it/common/d278e359da0695d9652dd541d45264f93703e2e40/expr.png\" style=\"display:inline;vertical-align:middle;\" /></a></td></tr>\n",
       "<tr><td>28</td><td>Variable</td><td></td><td><a class=\"ProveItLink\" href=\"../../../../../__pv_it/common/2dc4f15b3407a25e8d70754a86bf74f1871f92650/expr.ipynb\"><img src=\"../../../../../__pv_it/common/2dc4f15b3407a25e8d70754a86bf74f1871f92650/expr.png\" style=\"display:inline;vertical-align:middle;\" /></a></td></tr>\n",
       "<tr><td>29</td><td>Variable</td><td></td><td><a class=\"ProveItLink\" href=\"../../../../../__pv_it/common/b9fd37fc619babc74a6203459f110251586df6970/expr.ipynb\"><img src=\"../../../../../__pv_it/common/b9fd37fc619babc74a6203459f110251586df6970/expr.png\" style=\"display:inline;vertical-align:middle;\" /></a></td></tr>\n",
       "<tr><td>30</td><td>Literal</td><td></td><td><a class=\"ProveItLink\" href=\"../../../../../numbers/numerals/__pv_it/common/3829356ce3fdf8f35810c63c00bc1a19e838663e0/expr.ipynb\"><img src=\"../../../../../numbers/numerals/__pv_it/common/3829356ce3fdf8f35810c63c00bc1a19e838663e0/expr.png\" style=\"display:inline;vertical-align:middle;\" /></a></td></tr>\n",
       "</table>\n"
      ],
      "text/plain": [
       "0. MultiQubitGate(B_{1}, {m + 1, m + k + 2}) & ..MultiQubitGate(B_{j}, {m + 1, m + k + 2}).. & MultiQubitGate(B_{n}, {m + 1, m + k + 2})  \\\\ \n",
       "  MultiQubitGate(D_{1}, {m + 1, m + k + 2}) & ..MultiQubitGate(D_{j}, {m + 1, m + k + 2}).. & MultiQubitGate(D_{n}, {m + 1, m + k + 2})\n",
       "   core type: ExprTuple\n",
       "   sub-expressions: 1, 2\n",
       "1. (MultiQubitGate(B_{1}, {m + 1, m + k + 2}), ..MultiQubitGate(B_{j}, {m + 1, m + k + 2}).., MultiQubitGate(B_{n}, {m + 1, m + k + 2}))\n",
       "   core type: ExprTuple\n",
       "   sub-expressions: 3\n",
       "2. (MultiQubitGate(D_{1}, {m + 1, m + k + 2}), ..MultiQubitGate(D_{j}, {m + 1, m + k + 2}).., MultiQubitGate(D_{n}, {m + 1, m + k + 2}))\n",
       "   core type: ExprTuple\n",
       "   sub-expressions: 4\n",
       "3. MultiQubitGate(B_{1}, {m + 1, m + k + 2}), ..MultiQubitGate(B_{j}, {m + 1, m + k + 2}).., MultiQubitGate(B_{n}, {m + 1, m + k + 2})\n",
       "   core type: ExprRange\n",
       "   lambda_map: 5\n",
       "   start_index: 27\n",
       "   end_index: 7\n",
       "4. MultiQubitGate(D_{1}, {m + 1, m + k + 2}), ..MultiQubitGate(D_{j}, {m + 1, m + k + 2}).., MultiQubitGate(D_{n}, {m + 1, m + k + 2})\n",
       "   core type: ExprRange\n",
       "   lambda_map: 6\n",
       "   start_index: 27\n",
       "   end_index: 7\n",
       "5. j -> MultiQubitGate(B_{j}, {m + 1, m + k + 2})\n",
       "   core type: Lambda\n",
       "   parameter: 21\n",
       "   body: 8\n",
       "6. j -> MultiQubitGate(D_{j}, {m + 1, m + k + 2})\n",
       "   core type: Lambda\n",
       "   parameter: 21\n",
       "   body: 9\n",
       "7. n\n",
       "   core type: Variable\n",
       "   sub-expressions: \n",
       "8. MultiQubitGate(B_{j}, {m + 1, m + k + 2})\n",
       "   core type: Operation\n",
       "   operator: 11\n",
       "   operands: 10\n",
       "9. MultiQubitGate(D_{j}, {m + 1, m + k + 2})\n",
       "   core type: Operation\n",
       "   operator: 11\n",
       "   operands: 12\n",
       "10. (B_{j}, {m + 1, m + k + 2})\n",
       "    core type: ExprTuple\n",
       "    sub-expressions: 13, 15\n",
       "11. MULTI_QUBIT_GATE\n",
       "    core type: Literal\n",
       "    sub-expressions: \n",
       "12. (D_{j}, {m + 1, m + k + 2})\n",
       "    core type: ExprTuple\n",
       "    sub-expressions: 14, 15\n",
       "13. B_{j}\n",
       "    core type: IndexedVar\n",
       "variable: 16\n",
       "index: 21\n",
       "14. D_{j}\n",
       "    core type: IndexedVar\n",
       "variable: 17\n",
       "index: 21\n",
       "15. {m + 1, m + k + 2}\n",
       "    core type: Operation\n",
       "    operator: 19\n",
       "    operands: 20\n",
       "16. B\n",
       "    core type: Variable\n",
       "    sub-expressions: \n",
       "17. D\n",
       "    core type: Variable\n",
       "    sub-expressions: \n",
       "18. (j)\n",
       "    core type: ExprTuple\n",
       "    sub-expressions: 21\n",
       "19. Set\n",
       "    core type: Literal\n",
       "    sub-expressions: \n",
       "20. (m + 1, m + k + 2)\n",
       "    core type: ExprTuple\n",
       "    sub-expressions: 22, 23\n",
       "21. j\n",
       "    core type: Variable\n",
       "    sub-expressions: \n",
       "22. m + 1\n",
       "    core type: Operation\n",
       "    operator: 25\n",
       "    operands: 24\n",
       "23. m + k + 2\n",
       "    core type: Operation\n",
       "    operator: 25\n",
       "    operands: 26\n",
       "24. (m, 1)\n",
       "    core type: ExprTuple\n",
       "    sub-expressions: 28, 27\n",
       "25. +\n",
       "    core type: Literal\n",
       "    sub-expressions: \n",
       "26. (m, k, 2)\n",
       "    core type: ExprTuple\n",
       "    sub-expressions: 28, 29, 30\n",
       "27. 1\n",
       "    core type: Literal\n",
       "    sub-expressions: \n",
       "28. m\n",
       "    core type: Variable\n",
       "    sub-expressions: \n",
       "29. k\n",
       "    core type: Variable\n",
       "    sub-expressions: \n",
       "30. 2\n",
       "    core type: Literal\n",
       "    sub-expressions: "
      ]
     },
     "execution_count": 6,
     "metadata": {},
     "output_type": "execute_result"
    }
   ],
   "source": [
    "# display the expression information\n",
    "expr.expr_info()"
   ]
  },
  {
   "cell_type": "code",
   "execution_count": null,
   "metadata": {},
   "outputs": [],
   "source": []
  }
 ],
 "metadata": {
  "kernelspec": {
   "display_name": "Python 3",
   "language": "python",
   "name": "python3"
  }
 },
 "nbformat": 4,
 "nbformat_minor": 0
}