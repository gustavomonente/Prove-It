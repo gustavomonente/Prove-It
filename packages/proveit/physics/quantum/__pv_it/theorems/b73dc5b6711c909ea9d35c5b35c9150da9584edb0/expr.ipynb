{
 "cells": [
  {
   "cell_type": "markdown",
   "metadata": {},
   "source": [
    "Expression of type <a class=\"ProveItLink\" href=\"../../../../../../../doc/html/api/proveit.physics.quantum.circuit.CircuitEquiv.html\">CircuitEquiv</a>\n",
    "=======================\n",
    "# from the theory of <a class=\"ProveItLink\" href=\"../../../_theory_nbs_/theory.ipynb\">proveit.physics.quantum</a>"
   ]
  },
  {
   "cell_type": "code",
   "execution_count": 1,
   "metadata": {},
   "outputs": [],
   "source": [
    "import proveit\n",
    "# Automation is not needed when building an expression:\n",
    "proveit.defaults.automation = False # This will speed things up.\n",
    "proveit.defaults.inline_pngs = False # Makes files smaller.\n",
    "%load_expr # Load the stored expression as 'stored_expr'\n",
    "# import Expression classes needed to build the expression\n",
    "from proveit import B, D, ExprArray, ExprRange, IndexedVar, S, i, m\n",
    "from proveit.numbers import one\n",
    "from proveit.physics.quantum.circuit import Circuit, CircuitEquiv, MultiQubitGate"
   ]
  },
  {
   "cell_type": "code",
   "execution_count": 2,
   "metadata": {},
   "outputs": [
    {
     "data": {
      "text/html": [
       "<strong id=\"expr\">expr:</strong> <a class=\"ProveItLink\" href=\"expr.ipynb\"><img src=\"expr.png\" style=\"display:inline;vertical-align:middle;\" /></a><br>"
      ],
      "text/plain": [
       "expr:  MultiQubitGate(B_{1}, S_{1})   \\\\ \n",
       "   \\colon   \\\\ \n",
       "   MultiQubitGate(B_{i}, S_{i})   \\\\ \n",
       "   \\colon   \\\\ \n",
       "   MultiQubitGate(B_{m}, S_{m}) equiv  MultiQubitGate(D_{1}, S_{1})   \\\\ \n",
       "   \\colon   \\\\ \n",
       "   MultiQubitGate(D_{i}, S_{i})   \\\\ \n",
       "   \\colon   \\\\ \n",
       "   MultiQubitGate(D_{m}, S_{m})"
      ]
     },
     "execution_count": 2,
     "metadata": {},
     "output_type": "execute_result"
    }
   ],
   "source": [
    "# build up the expression from sub-expressions\n",
    "sub_expr1 = IndexedVar(S, i)\n",
    "expr = CircuitEquiv(Circuit(ExprArray(ExprRange(i, [MultiQubitGate(IndexedVar(B, i), sub_expr1)], one, m))), Circuit(ExprArray(ExprRange(i, [MultiQubitGate(IndexedVar(D, i), sub_expr1)], one, m))))"
   ]
  },
  {
   "cell_type": "code",
   "execution_count": 3,
   "metadata": {},
   "outputs": [
    {
     "name": "stdout",
     "output_type": "stream",
     "text": [
      "Passed sanity check: expr matches stored_expr\n"
     ]
    }
   ],
   "source": [
    "# check that the built expression is the same as the stored expression\n",
    "assert expr == stored_expr\n",
    "assert expr._style_id == stored_expr._style_id\n",
    "print(\"Passed sanity check: expr matches stored_expr\")"
   ]
  },
  {
   "cell_type": "code",
   "execution_count": 4,
   "metadata": {},
   "outputs": [
    {
     "name": "stdout",
     "output_type": "stream",
     "text": [
      "\\hspace{2em} \\Qcircuit@C=1em @R=.7em{\n",
      "& \\gate{B_{1}{\\Big \\{} S_{1}} \\qwx[1]   \\\\ \n",
      "  & \\gate{\\vdots} \\qwx[1]   \\\\ \n",
      "  & \\gate{B_{m}{\\Big \\{} S_{m}} \n",
      "} \\hspace{2em} \\cong \\hspace{2em} \\Qcircuit@C=1em @R=.7em{\n",
      "& \\gate{D_{1}{\\Big \\{} S_{1}} \\qwx[1]   \\\\ \n",
      "  & \\gate{\\vdots} \\qwx[1]   \\\\ \n",
      "  & \\gate{D_{m}{\\Big \\{} S_{m}} \n",
      "} \\hspace{2em}\n"
     ]
    }
   ],
   "source": [
    "# Show the LaTeX representation of the expression for convenience if you need it.\n",
    "print(expr.latex())"
   ]
  },
  {
   "cell_type": "code",
   "execution_count": 5,
   "metadata": {},
   "outputs": [
    {
     "data": {
      "text/html": [
       "<table>\n",
       "<tr><th>name</th><th>description</th><th>default</th><th>current value</th><th>related methods</th></tr><tr><td>operation</td><td>'infix' or 'function' style formatting</td><td>infix</td><td>infix</td><td></td></tr>\n",
       "<tr><td>wrap_positions</td><td>position(s) at which wrapping is to occur; '2 n - 1' is after the nth operand, '2 n' is after the nth operation.</td><td>()</td><td>()</td><td>('with_wrapping_at', 'with_wrap_before_operator', 'with_wrap_after_operator', 'wrap_positions')</td></tr>\n",
       "<tr><td>justification</td><td>if any wrap positions are set, justify to the 'left', 'center', or 'right'</td><td>center</td><td>center</td><td>('with_justification',)</td></tr>\n",
       "<tr><td>direction</td><td>Direction of the relation (normal or reversed)</td><td>normal</td><td>normal</td><td>('with_direction_reversed', 'is_reversed')</td></tr>\n",
       "</table>\n"
      ],
      "text/plain": [
       "style name: operation\n",
       "description: 'infix' or 'function' style formatting\n",
       "default: infix\n",
       "current value: infix\n",
       "related methods: ()\n",
       "style name: wrap_positions\n",
       "description: position(s) at which wrapping is to occur; '2 n - 1' is after the nth operand, '2 n' is after the nth operation.\n",
       "default: ()\n",
       "current value: ()\n",
       "related methods: ('with_wrapping_at', 'with_wrap_before_operator', 'with_wrap_after_operator', 'wrap_positions')\n",
       "style name: justification\n",
       "description: if any wrap positions are set, justify to the 'left', 'center', or 'right'\n",
       "default: center\n",
       "current value: center\n",
       "related methods: ('with_justification',)\n",
       "style name: direction\n",
       "description: Direction of the relation (normal or reversed)\n",
       "default: normal\n",
       "current value: normal\n",
       "related methods: ('with_direction_reversed', 'is_reversed')"
      ]
     },
     "execution_count": 5,
     "metadata": {},
     "output_type": "execute_result"
    }
   ],
   "source": [
    "expr.style_options()"
   ]
  },
  {
   "cell_type": "code",
   "execution_count": 6,
   "metadata": {},
   "outputs": [
    {
     "data": {
      "text/html": [
       "<table><tr><th>&nbsp;</th><th>core type</th><th>sub-expressions</th><th>expression</th></tr>\n",
       "<tr><td>0</td><td>Operation</td><td>operator:&nbsp;1<br>operands:&nbsp;2<br></td><td><a class=\"ProveItLink\" href=\"expr.ipynb\"><img src=\"expr.png\" style=\"display:inline;vertical-align:middle;\" /></a></td></tr>\n",
       "<tr><td>1</td><td>Literal</td><td></td><td><a class=\"ProveItLink\" href=\"../../common/0b9aa3c8024dab4294c5a1714db64eed0eeab1cc0/expr.ipynb\"><img src=\"../../common/0b9aa3c8024dab4294c5a1714db64eed0eeab1cc0/expr.png\" style=\"display:inline;vertical-align:middle;\" /></a></td></tr>\n",
       "<tr><td>2</td><td>ExprTuple</td><td>3, 4</td><td><a class=\"ProveItLink\" href=\"../c0a85d8cf7e602fc62da094a6b49d63a59df44ad0/expr.ipynb\"><img src=\"../c0a85d8cf7e602fc62da094a6b49d63a59df44ad0/expr.png\" style=\"display:inline;vertical-align:middle;\" /></a></td></tr>\n",
       "<tr><td>3</td><td>Operation</td><td>operator:&nbsp;6<br>operand:&nbsp;8<br></td><td><a class=\"ProveItLink\" href=\"../940be5cda82a566993b794938117acc1aa2139e50/expr.ipynb\"><img src=\"../940be5cda82a566993b794938117acc1aa2139e50/expr.png\" style=\"display:inline;vertical-align:middle;\" /></a></td></tr>\n",
       "<tr><td>4</td><td>Operation</td><td>operator:&nbsp;6<br>operand:&nbsp;9<br></td><td><a class=\"ProveItLink\" href=\"../38a76501fd9e61c5e9b924d8b5214c984ae9b5940/expr.ipynb\"><img src=\"../38a76501fd9e61c5e9b924d8b5214c984ae9b5940/expr.png\" style=\"display:inline;vertical-align:middle;\" /></a></td></tr>\n",
       "<tr><td>5</td><td>ExprTuple</td><td>8</td><td><a class=\"ProveItLink\" href=\"../6c74e7b034141ab419643b37f98a1b7283c81f6a0/expr.ipynb\"><img src=\"../6c74e7b034141ab419643b37f98a1b7283c81f6a0/expr.png\" style=\"display:inline;vertical-align:middle;\" /></a></td></tr>\n",
       "<tr><td>6</td><td>Literal</td><td></td><td><a class=\"ProveItLink\" href=\"../../common/bfa5cfb2e03dde2ed2a79fcd50b6e0ef7e57c1b10/expr.ipynb\"><img src=\"../../common/bfa5cfb2e03dde2ed2a79fcd50b6e0ef7e57c1b10/expr.png\" style=\"display:inline;vertical-align:middle;\" /></a></td></tr>\n",
       "<tr><td>7</td><td>ExprTuple</td><td>9</td><td><a class=\"ProveItLink\" href=\"../0d71bbbb3d019987d68f94a5e4e8ac0f72134c990/expr.ipynb\"><img src=\"../0d71bbbb3d019987d68f94a5e4e8ac0f72134c990/expr.png\" style=\"display:inline;vertical-align:middle;\" /></a></td></tr>\n",
       "<tr><td>8</td><td>ExprTuple</td><td>10</td><td><a class=\"ProveItLink\" href=\"../b3acb6ba6c674ed2464e5cd1af65229c7d4f9cfe0/expr.ipynb\"><img src=\"../b3acb6ba6c674ed2464e5cd1af65229c7d4f9cfe0/expr.png\" style=\"display:inline;vertical-align:middle;\" /></a></td></tr>\n",
       "<tr><td>9</td><td>ExprTuple</td><td>11</td><td><a class=\"ProveItLink\" href=\"../f201607507e83433a2594ee3655072a42e5877920/expr.ipynb\"><img src=\"../f201607507e83433a2594ee3655072a42e5877920/expr.png\" style=\"display:inline;vertical-align:middle;\" /></a></td></tr>\n",
       "<tr><td>10</td><td>ExprRange</td><td>lambda_map:&nbsp;12<br>start_index:&nbsp;14<br>end_index:&nbsp;15<br></td><td><a class=\"ProveItLink\" href=\"../de601a75bbf4315b38d3dd48ad65b8fe50d51f3e0/expr.ipynb\"><img src=\"../de601a75bbf4315b38d3dd48ad65b8fe50d51f3e0/expr.png\" style=\"display:inline;vertical-align:middle;\" /></a></td></tr>\n",
       "<tr><td>11</td><td>ExprRange</td><td>lambda_map:&nbsp;13<br>start_index:&nbsp;14<br>end_index:&nbsp;15<br></td><td><a class=\"ProveItLink\" href=\"../2e62513e22a946c2394665bcff7bdb14eab3aa330/expr.ipynb\"><img src=\"../2e62513e22a946c2394665bcff7bdb14eab3aa330/expr.png\" style=\"display:inline;vertical-align:middle;\" /></a></td></tr>\n",
       "<tr><td>12</td><td>Lambda</td><td>parameter:&nbsp;30<br>body:&nbsp;16<br></td><td><a class=\"ProveItLink\" href=\"../f15b814f4a9f748cd1e5936aeebfdcc0efd43d240/expr.ipynb\"><img src=\"../f15b814f4a9f748cd1e5936aeebfdcc0efd43d240/expr.png\" style=\"display:inline;vertical-align:middle;\" /></a></td></tr>\n",
       "<tr><td>13</td><td>Lambda</td><td>parameter:&nbsp;30<br>body:&nbsp;17<br></td><td><a class=\"ProveItLink\" href=\"../26fc0bde4782f35554d93a6d96541c15b9405f050/expr.ipynb\"><img src=\"../26fc0bde4782f35554d93a6d96541c15b9405f050/expr.png\" style=\"display:inline;vertical-align:middle;\" /></a></td></tr>\n",
       "<tr><td>14</td><td>Literal</td><td></td><td><a class=\"ProveItLink\" href=\"../../../../../numbers/numerals/__pv_it/common/d278e359da0695d9652dd541d45264f93703e2e40/expr.ipynb\"><img src=\"../../../../../numbers/numerals/__pv_it/common/d278e359da0695d9652dd541d45264f93703e2e40/expr.png\" style=\"display:inline;vertical-align:middle;\" /></a></td></tr>\n",
       "<tr><td>15</td><td>Variable</td><td></td><td><a class=\"ProveItLink\" href=\"../../../../../__pv_it/common/2dc4f15b3407a25e8d70754a86bf74f1871f92650/expr.ipynb\"><img src=\"../../../../../__pv_it/common/2dc4f15b3407a25e8d70754a86bf74f1871f92650/expr.png\" style=\"display:inline;vertical-align:middle;\" /></a></td></tr>\n",
       "<tr><td>16</td><td>ExprTuple</td><td>18</td><td><a class=\"ProveItLink\" href=\"../ff09335f5fc6a089063963f54347105f1d03e1ec0/expr.ipynb\"><img src=\"../ff09335f5fc6a089063963f54347105f1d03e1ec0/expr.png\" style=\"display:inline;vertical-align:middle;\" /></a></td></tr>\n",
       "<tr><td>17</td><td>ExprTuple</td><td>19</td><td><a class=\"ProveItLink\" href=\"../217193dd050166b88928f42cd6d48243dff2a6bd0/expr.ipynb\"><img src=\"../217193dd050166b88928f42cd6d48243dff2a6bd0/expr.png\" style=\"display:inline;vertical-align:middle;\" /></a></td></tr>\n",
       "<tr><td>18</td><td>Operation</td><td>operator:&nbsp;21<br>operands:&nbsp;20<br></td><td><a class=\"ProveItLink\" href=\"../60ff27d447296bb3def38c252e807d71f0eff25c0/expr.ipynb\"><img src=\"../60ff27d447296bb3def38c252e807d71f0eff25c0/expr.png\" style=\"display:inline;vertical-align:middle;\" /></a></td></tr>\n",
       "<tr><td>19</td><td>Operation</td><td>operator:&nbsp;21<br>operands:&nbsp;22<br></td><td><a class=\"ProveItLink\" href=\"../47d8424cfd555bd6280fc9ee0b7c0e3eb2a383b40/expr.ipynb\"><img src=\"../47d8424cfd555bd6280fc9ee0b7c0e3eb2a383b40/expr.png\" style=\"display:inline;vertical-align:middle;\" /></a></td></tr>\n",
       "<tr><td>20</td><td>ExprTuple</td><td>23, 25</td><td><a class=\"ProveItLink\" href=\"../48adaddb8132a0d440e24865e0de042ee564d9a00/expr.ipynb\"><img src=\"../48adaddb8132a0d440e24865e0de042ee564d9a00/expr.png\" style=\"display:inline;vertical-align:middle;\" /></a></td></tr>\n",
       "<tr><td>21</td><td>Literal</td><td></td><td><a class=\"ProveItLink\" href=\"../../common/38deceb0a69e80c36399d725649803706802a2a90/expr.ipynb\"><img src=\"../../common/38deceb0a69e80c36399d725649803706802a2a90/expr.png\" style=\"display:inline;vertical-align:middle;\" /></a></td></tr>\n",
       "<tr><td>22</td><td>ExprTuple</td><td>24, 25</td><td><a class=\"ProveItLink\" href=\"../9df2f1d70417d8a6ffc8c15aca6f7b757fb2eb7d0/expr.ipynb\"><img src=\"../9df2f1d70417d8a6ffc8c15aca6f7b757fb2eb7d0/expr.png\" style=\"display:inline;vertical-align:middle;\" /></a></td></tr>\n",
       "<tr><td>23</td><td>IndexedVar</td><td>variable:&nbsp;26<br>index:&nbsp;30<br></td><td><a class=\"ProveItLink\" href=\"../146a063dd1fc4d019c860952a873954c89c38a120/expr.ipynb\"><img src=\"../146a063dd1fc4d019c860952a873954c89c38a120/expr.png\" style=\"display:inline;vertical-align:middle;\" /></a></td></tr>\n",
       "<tr><td>24</td><td>IndexedVar</td><td>variable:&nbsp;27<br>index:&nbsp;30<br></td><td><a class=\"ProveItLink\" href=\"../11759b83ca2a301f061095e6eab1c480da64d3580/expr.ipynb\"><img src=\"../11759b83ca2a301f061095e6eab1c480da64d3580/expr.png\" style=\"display:inline;vertical-align:middle;\" /></a></td></tr>\n",
       "<tr><td>25</td><td>IndexedVar</td><td>variable:&nbsp;28<br>index:&nbsp;30<br></td><td><a class=\"ProveItLink\" href=\"../0b829270f9d9f6fa6e68939ad39349c952af01040/expr.ipynb\"><img src=\"../0b829270f9d9f6fa6e68939ad39349c952af01040/expr.png\" style=\"display:inline;vertical-align:middle;\" /></a></td></tr>\n",
       "<tr><td>26</td><td>Variable</td><td></td><td><a class=\"ProveItLink\" href=\"../../../../../__pv_it/common/4eca3b30dcf58a58494e201d1b7886d8643a617b0/expr.ipynb\"><img src=\"../../../../../__pv_it/common/4eca3b30dcf58a58494e201d1b7886d8643a617b0/expr.png\" style=\"display:inline;vertical-align:middle;\" /></a></td></tr>\n",
       "<tr><td>27</td><td>Variable</td><td></td><td><a class=\"ProveItLink\" href=\"../../../../../__pv_it/common/e5e296931d7f88d2c0ed4dd1b8498a680788952f0/expr.ipynb\"><img src=\"../../../../../__pv_it/common/e5e296931d7f88d2c0ed4dd1b8498a680788952f0/expr.png\" style=\"display:inline;vertical-align:middle;\" /></a></td></tr>\n",
       "<tr><td>28</td><td>Variable</td><td></td><td><a class=\"ProveItLink\" href=\"../../../../../__pv_it/common/259d0846cd49c4882c35ec84d7a0b180713721cc0/expr.ipynb\"><img src=\"../../../../../__pv_it/common/259d0846cd49c4882c35ec84d7a0b180713721cc0/expr.png\" style=\"display:inline;vertical-align:middle;\" /></a></td></tr>\n",
       "<tr><td>29</td><td>ExprTuple</td><td>30</td><td><a class=\"ProveItLink\" href=\"../6420c4d2520c27c1137ad22005291620057456040/expr.ipynb\"><img src=\"../6420c4d2520c27c1137ad22005291620057456040/expr.png\" style=\"display:inline;vertical-align:middle;\" /></a></td></tr>\n",
       "<tr><td>30</td><td>Variable</td><td></td><td><a class=\"ProveItLink\" href=\"../../../../../__pv_it/common/575a6156bb1c87c5beeaf38c302b5905ad57f5780/expr.ipynb\"><img src=\"../../../../../__pv_it/common/575a6156bb1c87c5beeaf38c302b5905ad57f5780/expr.png\" style=\"display:inline;vertical-align:middle;\" /></a></td></tr>\n",
       "</table>\n"
      ],
      "text/plain": [
       "0.  MultiQubitGate(B_{1}, S_{1})   \\\\ \n",
       "   \\colon   \\\\ \n",
       "   MultiQubitGate(B_{i}, S_{i})   \\\\ \n",
       "   \\colon   \\\\ \n",
       "   MultiQubitGate(B_{m}, S_{m}) equiv  MultiQubitGate(D_{1}, S_{1})   \\\\ \n",
       "   \\colon   \\\\ \n",
       "   MultiQubitGate(D_{i}, S_{i})   \\\\ \n",
       "   \\colon   \\\\ \n",
       "   MultiQubitGate(D_{m}, S_{m})\n",
       "   core type: Operation\n",
       "   operator: 1\n",
       "   operands: 2\n",
       "1. equiv\n",
       "   core type: Literal\n",
       "   sub-expressions: \n",
       "2. ( MultiQubitGate(B_{1}, S_{1})   \\\\ \n",
       "   \\colon   \\\\ \n",
       "   MultiQubitGate(B_{i}, S_{i})   \\\\ \n",
       "   \\colon   \\\\ \n",
       "   MultiQubitGate(B_{m}, S_{m}),  MultiQubitGate(D_{1}, S_{1})   \\\\ \n",
       "   \\colon   \\\\ \n",
       "   MultiQubitGate(D_{i}, S_{i})   \\\\ \n",
       "   \\colon   \\\\ \n",
       "   MultiQubitGate(D_{m}, S_{m}))\n",
       "   core type: ExprTuple\n",
       "   sub-expressions: 3, 4\n",
       "3.  MultiQubitGate(B_{1}, S_{1})   \\\\ \n",
       "   \\colon   \\\\ \n",
       "   MultiQubitGate(B_{i}, S_{i})   \\\\ \n",
       "   \\colon   \\\\ \n",
       "   MultiQubitGate(B_{m}, S_{m})\n",
       "   core type: Operation\n",
       "   operator: 6\n",
       "   operand: 8\n",
       "4.  MultiQubitGate(D_{1}, S_{1})   \\\\ \n",
       "   \\colon   \\\\ \n",
       "   MultiQubitGate(D_{i}, S_{i})   \\\\ \n",
       "   \\colon   \\\\ \n",
       "   MultiQubitGate(D_{m}, S_{m})\n",
       "   core type: Operation\n",
       "   operator: 6\n",
       "   operand: 9\n",
       "5. ((MultiQubitGate(B_{1}, S_{1})  \\\\ \n",
       "  \\colon  \\\\ \n",
       "  MultiQubitGate(B_{i}, S_{i})  \\\\ \n",
       "  \\colon  \\\\ \n",
       "  MultiQubitGate(B_{m}, S_{m})))\n",
       "   core type: ExprTuple\n",
       "   sub-expressions: 8\n",
       "6. CIRCUIT\n",
       "   core type: Literal\n",
       "   sub-expressions: \n",
       "7. ((MultiQubitGate(D_{1}, S_{1})  \\\\ \n",
       "  \\colon  \\\\ \n",
       "  MultiQubitGate(D_{i}, S_{i})  \\\\ \n",
       "  \\colon  \\\\ \n",
       "  MultiQubitGate(D_{m}, S_{m})))\n",
       "   core type: ExprTuple\n",
       "   sub-expressions: 9\n",
       "8. MultiQubitGate(B_{1}, S_{1})  \\\\ \n",
       "  \\colon  \\\\ \n",
       "  MultiQubitGate(B_{i}, S_{i})  \\\\ \n",
       "  \\colon  \\\\ \n",
       "  MultiQubitGate(B_{m}, S_{m})\n",
       "   core type: ExprTuple\n",
       "   sub-expressions: 10\n",
       "9. MultiQubitGate(D_{1}, S_{1})  \\\\ \n",
       "  \\colon  \\\\ \n",
       "  MultiQubitGate(D_{i}, S_{i})  \\\\ \n",
       "  \\colon  \\\\ \n",
       "  MultiQubitGate(D_{m}, S_{m})\n",
       "   core type: ExprTuple\n",
       "   sub-expressions: 11\n",
       "10. (MultiQubitGate(B_{1}, S_{1})), ..(MultiQubitGate(B_{i}, S_{i})).., (MultiQubitGate(B_{m}, S_{m}))\n",
       "    core type: ExprRange\n",
       "    lambda_map: 12\n",
       "    start_index: 14\n",
       "    end_index: 15\n",
       "11. (MultiQubitGate(D_{1}, S_{1})), ..(MultiQubitGate(D_{i}, S_{i})).., (MultiQubitGate(D_{m}, S_{m}))\n",
       "    core type: ExprRange\n",
       "    lambda_map: 13\n",
       "    start_index: 14\n",
       "    end_index: 15\n",
       "12. i -> (MultiQubitGate(B_{i}, S_{i}))\n",
       "    core type: Lambda\n",
       "    parameter: 30\n",
       "    body: 16\n",
       "13. i -> (MultiQubitGate(D_{i}, S_{i}))\n",
       "    core type: Lambda\n",
       "    parameter: 30\n",
       "    body: 17\n",
       "14. 1\n",
       "    core type: Literal\n",
       "    sub-expressions: \n",
       "15. m\n",
       "    core type: Variable\n",
       "    sub-expressions: \n",
       "16. (MultiQubitGate(B_{i}, S_{i}))\n",
       "    core type: ExprTuple\n",
       "    sub-expressions: 18\n",
       "17. (MultiQubitGate(D_{i}, S_{i}))\n",
       "    core type: ExprTuple\n",
       "    sub-expressions: 19\n",
       "18. MultiQubitGate(B_{i}, S_{i})\n",
       "    core type: Operation\n",
       "    operator: 21\n",
       "    operands: 20\n",
       "19. MultiQubitGate(D_{i}, S_{i})\n",
       "    core type: Operation\n",
       "    operator: 21\n",
       "    operands: 22\n",
       "20. (B_{i}, S_{i})\n",
       "    core type: ExprTuple\n",
       "    sub-expressions: 23, 25\n",
       "21. MULTI_QUBIT_GATE\n",
       "    core type: Literal\n",
       "    sub-expressions: \n",
       "22. (D_{i}, S_{i})\n",
       "    core type: ExprTuple\n",
       "    sub-expressions: 24, 25\n",
       "23. B_{i}\n",
       "    core type: IndexedVar\n",
       "variable: 26\n",
       "index: 30\n",
       "24. D_{i}\n",
       "    core type: IndexedVar\n",
       "variable: 27\n",
       "index: 30\n",
       "25. S_{i}\n",
       "    core type: IndexedVar\n",
       "variable: 28\n",
       "index: 30\n",
       "26. B\n",
       "    core type: Variable\n",
       "    sub-expressions: \n",
       "27. D\n",
       "    core type: Variable\n",
       "    sub-expressions: \n",
       "28. S\n",
       "    core type: Variable\n",
       "    sub-expressions: \n",
       "29. (i)\n",
       "    core type: ExprTuple\n",
       "    sub-expressions: 30\n",
       "30. i\n",
       "    core type: Variable\n",
       "    sub-expressions: "
      ]
     },
     "execution_count": 6,
     "metadata": {},
     "output_type": "execute_result"
    }
   ],
   "source": [
    "# display the expression information\n",
    "expr.expr_info()"
   ]
  },
  {
   "cell_type": "code",
   "execution_count": null,
   "metadata": {},
   "outputs": [],
   "source": []
  }
 ],
 "metadata": {
  "kernelspec": {
   "display_name": "Python 3",
   "language": "python",
   "name": "python3"
  }
 },
 "nbformat": 4,
 "nbformat_minor": 0
}