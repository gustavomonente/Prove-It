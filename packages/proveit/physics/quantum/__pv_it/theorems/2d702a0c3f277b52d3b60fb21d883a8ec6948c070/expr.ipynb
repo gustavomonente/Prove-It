{
 "cells": [
  {
   "cell_type": "markdown",
   "metadata": {},
   "source": [
    "Expression of type <a class=\"ProveItLink\" href=\"../../../../../../../doc/html/api/proveit.physics.quantum.circuit.Circuit.html\">Circuit</a>\n",
    "=======================\n",
    "# from the theory of <a class=\"ProveItLink\" href=\"../../../_theory_nbs_/theory.ipynb\">proveit.physics.quantum</a>"
   ]
  },
  {
   "cell_type": "code",
   "execution_count": 1,
   "metadata": {},
   "outputs": [],
   "source": [
    "import proveit\n",
    "# Automation is not needed when building an expression:\n",
    "proveit.defaults.automation = False # This will speed things up.\n",
    "proveit.defaults.inline_pngs = False # Makes files smaller.\n",
    "%load_expr # Load the stored expression as 'stored_expr'\n",
    "# import Expression classes needed to build the expression\n",
    "from proveit import ExprArray, ExprRange, g, i, j, k, m, n\n",
    "from proveit.core_expr_types.expr_arrays import Aij, Cij, Dij, Pij, Rij, Sij\n",
    "from proveit.numbers import one\n",
    "from proveit.physics.quantum.circuit import Circuit, MultiQubitGate"
   ]
  },
  {
   "cell_type": "code",
   "execution_count": 2,
   "metadata": {},
   "outputs": [
    {
     "data": {
      "text/html": [
       "<strong id=\"expr\">expr:</strong> <a class=\"ProveItLink\" href=\"expr.ipynb\"><img src=\"expr.png\" style=\"display:inline;vertical-align:middle;\" /></a><br>"
      ],
      "text/plain": [
       "expr:  MultiQubitGate(A_{1, 1}, P_{1, 1})  & ..MultiQubitGate(A_{1, j}, P_{1, j})..  & MultiQubitGate(A_{1, g}, P_{1, g})  & MultiQubitGate(D_{1, 1}, S_{1, 1})  & ..MultiQubitGate(D_{1, j}, S_{1, j})..  & MultiQubitGate(D_{1, n}, S_{1, n})  & MultiQubitGate(C_{1, 1}, R_{1, 1})  & ..MultiQubitGate(C_{1, j}, R_{1, j})..  & MultiQubitGate(C_{1, k}, R_{1, k})   \\\\ \n",
       "   \\colon  & \\colon  & \\colon  & \\colon  & \\colon  & \\colon  & \\colon  & \\colon  & \\colon   \\\\ \n",
       "   MultiQubitGate(A_{i, 1}, P_{i, 1})  & ..MultiQubitGate(A_{i, j}, P_{i, j})..  & MultiQubitGate(A_{i, g}, P_{i, g})  & MultiQubitGate(D_{i, 1}, S_{i, 1})  & ..MultiQubitGate(D_{i, j}, S_{i, j})..  & MultiQubitGate(D_{i, n}, S_{i, n})  & MultiQubitGate(C_{i, 1}, R_{i, 1})  & ..MultiQubitGate(C_{i, j}, R_{i, j})..  & MultiQubitGate(C_{i, k}, R_{i, k})   \\\\ \n",
       "   \\colon  & \\colon  & \\colon  & \\colon  & \\colon  & \\colon  & \\colon  & \\colon  & \\colon   \\\\ \n",
       "   MultiQubitGate(A_{m, 1}, P_{m, 1})  & ..MultiQubitGate(A_{m, j}, P_{m, j})..  & MultiQubitGate(A_{m, g}, P_{m, g})  & MultiQubitGate(D_{m, 1}, S_{m, 1})  & ..MultiQubitGate(D_{m, j}, S_{m, j})..  & MultiQubitGate(D_{m, n}, S_{m, n})  & MultiQubitGate(C_{m, 1}, R_{m, 1})  & ..MultiQubitGate(C_{m, j}, R_{m, j})..  & MultiQubitGate(C_{m, k}, R_{m, k})"
      ]
     },
     "execution_count": 2,
     "metadata": {},
     "output_type": "execute_result"
    }
   ],
   "source": [
    "# build up the expression from sub-expressions\n",
    "expr = Circuit(ExprArray(ExprRange(i, [ExprRange(j, MultiQubitGate(Aij, Pij), one, g), ExprRange(j, MultiQubitGate(Dij, Sij), one, n), ExprRange(j, MultiQubitGate(Cij, Rij), one, k)], one, m)))"
   ]
  },
  {
   "cell_type": "code",
   "execution_count": 3,
   "metadata": {},
   "outputs": [
    {
     "name": "stdout",
     "output_type": "stream",
     "text": [
      "Passed sanity check: expr matches stored_expr\n"
     ]
    }
   ],
   "source": [
    "# check that the built expression is the same as the stored expression\n",
    "assert expr == stored_expr\n",
    "assert expr._style_id == stored_expr._style_id\n",
    "print(\"Passed sanity check: expr matches stored_expr\")"
   ]
  },
  {
   "cell_type": "code",
   "execution_count": 4,
   "metadata": {},
   "outputs": [
    {
     "name": "stdout",
     "output_type": "stream",
     "text": [
      "\\hspace{2em} \\Qcircuit@C=1em @R=.7em{\n",
      "& \\gate{A_{1, 1}{\\Big \\{} P_{1, 1}} \\qwx[1] & \\gate{\\cdots} \\qwx[1] & \\gate{A_{1, g}{\\Big \\{} P_{1, g}} \\qwx[1] & \\gate{D_{1, 1}{\\Big \\{} S_{1, 1}} \\qwx[1] & \\gate{\\cdots} \\qwx[1] & \\gate{D_{1, n}{\\Big \\{} S_{1, n}} \\qwx[1] & \\gate{C_{1, 1}{\\Big \\{} R_{1, 1}} \\qwx[1] & \\gate{\\cdots} \\qwx[1] & \\gate{C_{1, k}{\\Big \\{} R_{1, k}} \\qwx[1]   \\\\ \n",
      "  & \\gate{\\vdots} \\qwx[1] & \\gate{A_{i, j}{\\Big \\{} P_{i, j}} \\qwx[1] & \\gate{\\vdots} \\qwx[1] & \\gate{\\vdots} \\qwx[1] & \\gate{D_{i, j}{\\Big \\{} S_{i, j}} \\qwx[1] & \\gate{\\vdots} \\qwx[1] & \\gate{\\vdots} \\qwx[1] & \\gate{C_{i, j}{\\Big \\{} R_{i, j}} \\qwx[1] & \\gate{\\vdots} \\qwx[1]   \\\\ \n",
      "  & \\gate{A_{m, 1}{\\Big \\{} P_{m, 1}} & \\gate{\\cdots} & \\gate{A_{m, g}{\\Big \\{} P_{m, g}} & \\gate{D_{m, 1}{\\Big \\{} S_{m, 1}} & \\gate{\\cdots} & \\gate{D_{m, n}{\\Big \\{} S_{m, n}} & \\gate{C_{m, 1}{\\Big \\{} R_{m, 1}} & \\gate{\\cdots} & \\gate{C_{m, k}{\\Big \\{} R_{m, k}} \n",
      "} \\hspace{2em}\n"
     ]
    }
   ],
   "source": [
    "# Show the LaTeX representation of the expression for convenience if you need it.\n",
    "print(expr.latex())"
   ]
  },
  {
   "cell_type": "code",
   "execution_count": 5,
   "metadata": {},
   "outputs": [
    {
     "data": {
      "text/html": [
       "<table>\n",
       "<tr><th>name</th><th>description</th><th>default</th><th>current value</th><th>related methods</th></tr><tr><td>spacing</td><td>change the spacing of a circuit using the format '@C=1em @R=.7em' where C is the column spacing and R is the row spacing</td><td>@C=1em @R=.7em</td><td>@C=1em @R=.7em</td><td></td></tr>\n",
       "<tr><td>orientation</td><td>to be read from left to right then top to bottom ('horizontal') or to be read top to bottom then left to right ('vertical')</td><td>horizontal</td><td>horizontal</td><td>with_orientation</td></tr>\n",
       "</table>\n"
      ],
      "text/plain": [
       "style name: spacing\n",
       "description: change the spacing of a circuit using the format '@C=1em @R=.7em' where C is the column spacing and R is the row spacing\n",
       "default: @C=1em @R=.7em\n",
       "current value: @C=1em @R=.7em\n",
       "related methods: ()\n",
       "style name: orientation\n",
       "description: to be read from left to right then top to bottom ('horizontal') or to be read top to bottom then left to right ('vertical')\n",
       "default: horizontal\n",
       "current value: horizontal\n",
       "related methods: with_orientation"
      ]
     },
     "execution_count": 5,
     "metadata": {},
     "output_type": "execute_result"
    }
   ],
   "source": [
    "expr.style_options()"
   ]
  },
  {
   "cell_type": "code",
   "execution_count": 6,
   "metadata": {},
   "outputs": [
    {
     "data": {
      "text/html": [
       "<table><tr><th>&nbsp;</th><th>core type</th><th>sub-expressions</th><th>expression</th></tr>\n",
       "<tr><td>0</td><td>Operation</td><td>operator:&nbsp;1<br>operand:&nbsp;3<br></td><td><a class=\"ProveItLink\" href=\"expr.ipynb\"><img src=\"expr.png\" style=\"display:inline;vertical-align:middle;\" /></a></td></tr>\n",
       "<tr><td>1</td><td>Literal</td><td></td><td><a class=\"ProveItLink\" href=\"../../common/bfa5cfb2e03dde2ed2a79fcd50b6e0ef7e57c1b10/expr.ipynb\"><img src=\"../../common/bfa5cfb2e03dde2ed2a79fcd50b6e0ef7e57c1b10/expr.png\" style=\"display:inline;vertical-align:middle;\" /></a></td></tr>\n",
       "<tr><td>2</td><td>ExprTuple</td><td>3</td><td><a class=\"ProveItLink\" href=\"../8cd0c49b022a9929794161c714cc1aba1ecc40e70/expr.ipynb\"><img src=\"../8cd0c49b022a9929794161c714cc1aba1ecc40e70/expr.png\" style=\"display:inline;vertical-align:middle;\" /></a></td></tr>\n",
       "<tr><td>3</td><td>ExprTuple</td><td>4</td><td><a class=\"ProveItLink\" href=\"../a8c46419aeef5f6a0c52ef307e9d62fc74ac82370/expr.ipynb\"><img src=\"../a8c46419aeef5f6a0c52ef307e9d62fc74ac82370/expr.png\" style=\"display:inline;vertical-align:middle;\" /></a></td></tr>\n",
       "<tr><td>4</td><td>ExprRange</td><td>lambda_map:&nbsp;5<br>start_index:&nbsp;16<br>end_index:&nbsp;6<br></td><td><a class=\"ProveItLink\" href=\"../78cdb0c9ffb09f66fe29bb5feb206248586111fb0/expr.ipynb\"><img src=\"../78cdb0c9ffb09f66fe29bb5feb206248586111fb0/expr.png\" style=\"display:inline;vertical-align:middle;\" /></a></td></tr>\n",
       "<tr><td>5</td><td>Lambda</td><td>parameter:&nbsp;38<br>body:&nbsp;7<br></td><td><a class=\"ProveItLink\" href=\"../af19bd68006c0c88fc49f9721ce29a5256474f360/expr.ipynb\"><img src=\"../af19bd68006c0c88fc49f9721ce29a5256474f360/expr.png\" style=\"display:inline;vertical-align:middle;\" /></a></td></tr>\n",
       "<tr><td>6</td><td>Variable</td><td></td><td><a class=\"ProveItLink\" href=\"../../../../../__pv_it/common/2dc4f15b3407a25e8d70754a86bf74f1871f92650/expr.ipynb\"><img src=\"../../../../../__pv_it/common/2dc4f15b3407a25e8d70754a86bf74f1871f92650/expr.png\" style=\"display:inline;vertical-align:middle;\" /></a></td></tr>\n",
       "<tr><td>7</td><td>ExprTuple</td><td>8, 9, 10</td><td><a class=\"ProveItLink\" href=\"../768405653600a61293ee09e49c1c872ccbce3b280/expr.ipynb\"><img src=\"../768405653600a61293ee09e49c1c872ccbce3b280/expr.png\" style=\"display:inline;vertical-align:middle;\" /></a></td></tr>\n",
       "<tr><td>8</td><td>ExprRange</td><td>lambda_map:&nbsp;11<br>start_index:&nbsp;16<br>end_index:&nbsp;12<br></td><td><a class=\"ProveItLink\" href=\"../a95d2d49b2262adcccdc40f0ed0aa060cc330f240/expr.ipynb\"><img src=\"../a95d2d49b2262adcccdc40f0ed0aa060cc330f240/expr.png\" style=\"display:inline;vertical-align:middle;\" /></a></td></tr>\n",
       "<tr><td>9</td><td>ExprRange</td><td>lambda_map:&nbsp;13<br>start_index:&nbsp;16<br>end_index:&nbsp;14<br></td><td><a class=\"ProveItLink\" href=\"../277f70d5aaecff53aa9a1d424990a1058601283e0/expr.ipynb\"><img src=\"../277f70d5aaecff53aa9a1d424990a1058601283e0/expr.png\" style=\"display:inline;vertical-align:middle;\" /></a></td></tr>\n",
       "<tr><td>10</td><td>ExprRange</td><td>lambda_map:&nbsp;15<br>start_index:&nbsp;16<br>end_index:&nbsp;17<br></td><td><a class=\"ProveItLink\" href=\"../139c2ff76e395a2195314eb1a6f1a3f75cd2875e0/expr.ipynb\"><img src=\"../139c2ff76e395a2195314eb1a6f1a3f75cd2875e0/expr.png\" style=\"display:inline;vertical-align:middle;\" /></a></td></tr>\n",
       "<tr><td>11</td><td>Lambda</td><td>parameter:&nbsp;39<br>body:&nbsp;18<br></td><td><a class=\"ProveItLink\" href=\"../de5ee4dad1e076b0209d3b460783538e9a6630fd0/expr.ipynb\"><img src=\"../de5ee4dad1e076b0209d3b460783538e9a6630fd0/expr.png\" style=\"display:inline;vertical-align:middle;\" /></a></td></tr>\n",
       "<tr><td>12</td><td>Variable</td><td></td><td><a class=\"ProveItLink\" href=\"../../../../../__pv_it/common/17f4748b91b4dae722cf590e1dfa2fba4b7984ca0/expr.ipynb\"><img src=\"../../../../../__pv_it/common/17f4748b91b4dae722cf590e1dfa2fba4b7984ca0/expr.png\" style=\"display:inline;vertical-align:middle;\" /></a></td></tr>\n",
       "<tr><td>13</td><td>Lambda</td><td>parameter:&nbsp;39<br>body:&nbsp;19<br></td><td><a class=\"ProveItLink\" href=\"../b0bc6864cf39b42a65bdc58830db0f579f72c56a0/expr.ipynb\"><img src=\"../b0bc6864cf39b42a65bdc58830db0f579f72c56a0/expr.png\" style=\"display:inline;vertical-align:middle;\" /></a></td></tr>\n",
       "<tr><td>14</td><td>Variable</td><td></td><td><a class=\"ProveItLink\" href=\"../../../../../__pv_it/common/6165c9bb82ce3c7097cdba4440a1aeeb6eaca8a40/expr.ipynb\"><img src=\"../../../../../__pv_it/common/6165c9bb82ce3c7097cdba4440a1aeeb6eaca8a40/expr.png\" style=\"display:inline;vertical-align:middle;\" /></a></td></tr>\n",
       "<tr><td>15</td><td>Lambda</td><td>parameter:&nbsp;39<br>body:&nbsp;20<br></td><td><a class=\"ProveItLink\" href=\"../d402a22a264a550105af00f00bc2b3698708cc280/expr.ipynb\"><img src=\"../d402a22a264a550105af00f00bc2b3698708cc280/expr.png\" style=\"display:inline;vertical-align:middle;\" /></a></td></tr>\n",
       "<tr><td>16</td><td>Literal</td><td></td><td><a class=\"ProveItLink\" href=\"../../../../../numbers/numerals/__pv_it/common/d278e359da0695d9652dd541d45264f93703e2e40/expr.ipynb\"><img src=\"../../../../../numbers/numerals/__pv_it/common/d278e359da0695d9652dd541d45264f93703e2e40/expr.png\" style=\"display:inline;vertical-align:middle;\" /></a></td></tr>\n",
       "<tr><td>17</td><td>Variable</td><td></td><td><a class=\"ProveItLink\" href=\"../../../../../__pv_it/common/b9fd37fc619babc74a6203459f110251586df6970/expr.ipynb\"><img src=\"../../../../../__pv_it/common/b9fd37fc619babc74a6203459f110251586df6970/expr.png\" style=\"display:inline;vertical-align:middle;\" /></a></td></tr>\n",
       "<tr><td>18</td><td>Operation</td><td>operator:&nbsp;23<br>operands:&nbsp;21<br></td><td><a class=\"ProveItLink\" href=\"../9791091456d1d7333cc5bb7e440b7cf088d83b9d0/expr.ipynb\"><img src=\"../9791091456d1d7333cc5bb7e440b7cf088d83b9d0/expr.png\" style=\"display:inline;vertical-align:middle;\" /></a></td></tr>\n",
       "<tr><td>19</td><td>Operation</td><td>operator:&nbsp;23<br>operands:&nbsp;22<br></td><td><a class=\"ProveItLink\" href=\"../74da54f499813ff889b1f8b062ca147e55d533910/expr.ipynb\"><img src=\"../74da54f499813ff889b1f8b062ca147e55d533910/expr.png\" style=\"display:inline;vertical-align:middle;\" /></a></td></tr>\n",
       "<tr><td>20</td><td>Operation</td><td>operator:&nbsp;23<br>operands:&nbsp;24<br></td><td><a class=\"ProveItLink\" href=\"../ee5c099043be902960a8a3a3d227315e950854090/expr.ipynb\"><img src=\"../ee5c099043be902960a8a3a3d227315e950854090/expr.png\" style=\"display:inline;vertical-align:middle;\" /></a></td></tr>\n",
       "<tr><td>21</td><td>ExprTuple</td><td>25, 26</td><td><a class=\"ProveItLink\" href=\"../91747498cf11824a3fd82ea7bc6000cf4ef05c5d0/expr.ipynb\"><img src=\"../91747498cf11824a3fd82ea7bc6000cf4ef05c5d0/expr.png\" style=\"display:inline;vertical-align:middle;\" /></a></td></tr>\n",
       "<tr><td>22</td><td>ExprTuple</td><td>27, 28</td><td><a class=\"ProveItLink\" href=\"../19119213e8afd938aeccc2ec30c27f1a49cb4f550/expr.ipynb\"><img src=\"../19119213e8afd938aeccc2ec30c27f1a49cb4f550/expr.png\" style=\"display:inline;vertical-align:middle;\" /></a></td></tr>\n",
       "<tr><td>23</td><td>Literal</td><td></td><td><a class=\"ProveItLink\" href=\"../../common/38deceb0a69e80c36399d725649803706802a2a90/expr.ipynb\"><img src=\"../../common/38deceb0a69e80c36399d725649803706802a2a90/expr.png\" style=\"display:inline;vertical-align:middle;\" /></a></td></tr>\n",
       "<tr><td>24</td><td>ExprTuple</td><td>29, 30</td><td><a class=\"ProveItLink\" href=\"../b302acc89bf74cc58aaeedee14788bdccbe40fcb0/expr.ipynb\"><img src=\"../b302acc89bf74cc58aaeedee14788bdccbe40fcb0/expr.png\" style=\"display:inline;vertical-align:middle;\" /></a></td></tr>\n",
       "<tr><td>25</td><td>IndexedVar</td><td>variable:&nbsp;31<br>indices:&nbsp;37<br></td><td><a class=\"ProveItLink\" href=\"../../../../../core_expr_types/expr_arrays/__pv_it/common/2db546578cd7f487d81f6e5492015be24135205c0/expr.ipynb\"><img src=\"../../../../../core_expr_types/expr_arrays/__pv_it/common/2db546578cd7f487d81f6e5492015be24135205c0/expr.png\" style=\"display:inline;vertical-align:middle;\" /></a></td></tr>\n",
       "<tr><td>26</td><td>IndexedVar</td><td>variable:&nbsp;32<br>indices:&nbsp;37<br></td><td><a class=\"ProveItLink\" href=\"../../../../../core_expr_types/expr_arrays/__pv_it/common/da5e70c8a5ac12e898316a0e0213659f1f8f747b0/expr.ipynb\"><img src=\"../../../../../core_expr_types/expr_arrays/__pv_it/common/da5e70c8a5ac12e898316a0e0213659f1f8f747b0/expr.png\" style=\"display:inline;vertical-align:middle;\" /></a></td></tr>\n",
       "<tr><td>27</td><td>IndexedVar</td><td>variable:&nbsp;33<br>indices:&nbsp;37<br></td><td><a class=\"ProveItLink\" href=\"../../../../../core_expr_types/expr_arrays/__pv_it/common/8e122e0c03da99cf4e51461fcb2c93928f92cb550/expr.ipynb\"><img src=\"../../../../../core_expr_types/expr_arrays/__pv_it/common/8e122e0c03da99cf4e51461fcb2c93928f92cb550/expr.png\" style=\"display:inline;vertical-align:middle;\" /></a></td></tr>\n",
       "<tr><td>28</td><td>IndexedVar</td><td>variable:&nbsp;34<br>indices:&nbsp;37<br></td><td><a class=\"ProveItLink\" href=\"../../../../../core_expr_types/expr_arrays/__pv_it/common/29b2a42564e2bd68f988108464c87826d4366e390/expr.ipynb\"><img src=\"../../../../../core_expr_types/expr_arrays/__pv_it/common/29b2a42564e2bd68f988108464c87826d4366e390/expr.png\" style=\"display:inline;vertical-align:middle;\" /></a></td></tr>\n",
       "<tr><td>29</td><td>IndexedVar</td><td>variable:&nbsp;35<br>indices:&nbsp;37<br></td><td><a class=\"ProveItLink\" href=\"../../../../../core_expr_types/expr_arrays/__pv_it/common/cfc3f031aff613b33998523b9e88a4b21bb7543a0/expr.ipynb\"><img src=\"../../../../../core_expr_types/expr_arrays/__pv_it/common/cfc3f031aff613b33998523b9e88a4b21bb7543a0/expr.png\" style=\"display:inline;vertical-align:middle;\" /></a></td></tr>\n",
       "<tr><td>30</td><td>IndexedVar</td><td>variable:&nbsp;36<br>indices:&nbsp;37<br></td><td><a class=\"ProveItLink\" href=\"../../../../../core_expr_types/expr_arrays/__pv_it/common/5b641b71d66d043829a47456d8ebd2a5855c4d0d0/expr.ipynb\"><img src=\"../../../../../core_expr_types/expr_arrays/__pv_it/common/5b641b71d66d043829a47456d8ebd2a5855c4d0d0/expr.png\" style=\"display:inline;vertical-align:middle;\" /></a></td></tr>\n",
       "<tr><td>31</td><td>Variable</td><td></td><td><a class=\"ProveItLink\" href=\"../../../../../__pv_it/common/e4aad701f7f5516d8e7f0d805d518bf02c13322a0/expr.ipynb\"><img src=\"../../../../../__pv_it/common/e4aad701f7f5516d8e7f0d805d518bf02c13322a0/expr.png\" style=\"display:inline;vertical-align:middle;\" /></a></td></tr>\n",
       "<tr><td>32</td><td>Variable</td><td></td><td><a class=\"ProveItLink\" href=\"../../../../../__pv_it/common/d5fc3066299847984076662ce51556220bdb6cfb0/expr.ipynb\"><img src=\"../../../../../__pv_it/common/d5fc3066299847984076662ce51556220bdb6cfb0/expr.png\" style=\"display:inline;vertical-align:middle;\" /></a></td></tr>\n",
       "<tr><td>33</td><td>Variable</td><td></td><td><a class=\"ProveItLink\" href=\"../../../../../__pv_it/common/e5e296931d7f88d2c0ed4dd1b8498a680788952f0/expr.ipynb\"><img src=\"../../../../../__pv_it/common/e5e296931d7f88d2c0ed4dd1b8498a680788952f0/expr.png\" style=\"display:inline;vertical-align:middle;\" /></a></td></tr>\n",
       "<tr><td>34</td><td>Variable</td><td></td><td><a class=\"ProveItLink\" href=\"../../../../../__pv_it/common/259d0846cd49c4882c35ec84d7a0b180713721cc0/expr.ipynb\"><img src=\"../../../../../__pv_it/common/259d0846cd49c4882c35ec84d7a0b180713721cc0/expr.png\" style=\"display:inline;vertical-align:middle;\" /></a></td></tr>\n",
       "<tr><td>35</td><td>Variable</td><td></td><td><a class=\"ProveItLink\" href=\"../../../../../__pv_it/common/c4a83a53f0ed6678b0c7a2d6d691a4b400f735c90/expr.ipynb\"><img src=\"../../../../../__pv_it/common/c4a83a53f0ed6678b0c7a2d6d691a4b400f735c90/expr.png\" style=\"display:inline;vertical-align:middle;\" /></a></td></tr>\n",
       "<tr><td>36</td><td>Variable</td><td></td><td><a class=\"ProveItLink\" href=\"../../../../../__pv_it/common/75b77068be7a61a1f04d03fa34a8f6252f6605dd0/expr.ipynb\"><img src=\"../../../../../__pv_it/common/75b77068be7a61a1f04d03fa34a8f6252f6605dd0/expr.png\" style=\"display:inline;vertical-align:middle;\" /></a></td></tr>\n",
       "<tr><td>37</td><td>ExprTuple</td><td>38, 39</td><td><a class=\"ProveItLink\" href=\"../../../../../core_expr_types/expr_arrays/__pv_it/common/8cc0879db459b7e49bd46852f9da16970a0f1f110/expr.ipynb\"><img src=\"../../../../../core_expr_types/expr_arrays/__pv_it/common/8cc0879db459b7e49bd46852f9da16970a0f1f110/expr.png\" style=\"display:inline;vertical-align:middle;\" /></a></td></tr>\n",
       "<tr><td>38</td><td>Variable</td><td></td><td><a class=\"ProveItLink\" href=\"../../../../../__pv_it/common/575a6156bb1c87c5beeaf38c302b5905ad57f5780/expr.ipynb\"><img src=\"../../../../../__pv_it/common/575a6156bb1c87c5beeaf38c302b5905ad57f5780/expr.png\" style=\"display:inline;vertical-align:middle;\" /></a></td></tr>\n",
       "<tr><td>39</td><td>Variable</td><td></td><td><a class=\"ProveItLink\" href=\"../../../../../__pv_it/common/5514cc9a63b9c2ed9b63934dd5e088ab0d4f10080/expr.ipynb\"><img src=\"../../../../../__pv_it/common/5514cc9a63b9c2ed9b63934dd5e088ab0d4f10080/expr.png\" style=\"display:inline;vertical-align:middle;\" /></a></td></tr>\n",
       "</table>\n"
      ],
      "text/plain": [
       "0.  MultiQubitGate(A_{1, 1}, P_{1, 1})  & ..MultiQubitGate(A_{1, j}, P_{1, j})..  & MultiQubitGate(A_{1, g}, P_{1, g})  & MultiQubitGate(D_{1, 1}, S_{1, 1})  & ..MultiQubitGate(D_{1, j}, S_{1, j})..  & MultiQubitGate(D_{1, n}, S_{1, n})  & MultiQubitGate(C_{1, 1}, R_{1, 1})  & ..MultiQubitGate(C_{1, j}, R_{1, j})..  & MultiQubitGate(C_{1, k}, R_{1, k})   \\\\ \n",
       "   \\colon  & \\colon  & \\colon  & \\colon  & \\colon  & \\colon  & \\colon  & \\colon  & \\colon   \\\\ \n",
       "   MultiQubitGate(A_{i, 1}, P_{i, 1})  & ..MultiQubitGate(A_{i, j}, P_{i, j})..  & MultiQubitGate(A_{i, g}, P_{i, g})  & MultiQubitGate(D_{i, 1}, S_{i, 1})  & ..MultiQubitGate(D_{i, j}, S_{i, j})..  & MultiQubitGate(D_{i, n}, S_{i, n})  & MultiQubitGate(C_{i, 1}, R_{i, 1})  & ..MultiQubitGate(C_{i, j}, R_{i, j})..  & MultiQubitGate(C_{i, k}, R_{i, k})   \\\\ \n",
       "   \\colon  & \\colon  & \\colon  & \\colon  & \\colon  & \\colon  & \\colon  & \\colon  & \\colon   \\\\ \n",
       "   MultiQubitGate(A_{m, 1}, P_{m, 1})  & ..MultiQubitGate(A_{m, j}, P_{m, j})..  & MultiQubitGate(A_{m, g}, P_{m, g})  & MultiQubitGate(D_{m, 1}, S_{m, 1})  & ..MultiQubitGate(D_{m, j}, S_{m, j})..  & MultiQubitGate(D_{m, n}, S_{m, n})  & MultiQubitGate(C_{m, 1}, R_{m, 1})  & ..MultiQubitGate(C_{m, j}, R_{m, j})..  & MultiQubitGate(C_{m, k}, R_{m, k})\n",
       "   core type: Operation\n",
       "   operator: 1\n",
       "   operand: 3\n",
       "1. CIRCUIT\n",
       "   core type: Literal\n",
       "   sub-expressions: \n",
       "2. ((MultiQubitGate(A_{1, 1}, P_{1, 1}) & ..MultiQubitGate(A_{1, j}, P_{1, j}).. & MultiQubitGate(A_{1, g}, P_{1, g}) & MultiQubitGate(D_{1, 1}, S_{1, 1}) & ..MultiQubitGate(D_{1, j}, S_{1, j}).. & MultiQubitGate(D_{1, n}, S_{1, n}) & MultiQubitGate(C_{1, 1}, R_{1, 1}) & ..MultiQubitGate(C_{1, j}, R_{1, j}).. & MultiQubitGate(C_{1, k}, R_{1, k})  \\\\ \n",
       "  \\colon & \\colon & \\colon & \\colon & \\colon & \\colon & \\colon & \\colon & \\colon  \\\\ \n",
       "  MultiQubitGate(A_{i, 1}, P_{i, 1}) & ..MultiQubitGate(A_{i, j}, P_{i, j}).. & MultiQubitGate(A_{i, g}, P_{i, g}) & MultiQubitGate(D_{i, 1}, S_{i, 1}) & ..MultiQubitGate(D_{i, j}, S_{i, j}).. & MultiQubitGate(D_{i, n}, S_{i, n}) & MultiQubitGate(C_{i, 1}, R_{i, 1}) & ..MultiQubitGate(C_{i, j}, R_{i, j}).. & MultiQubitGate(C_{i, k}, R_{i, k})  \\\\ \n",
       "  \\colon & \\colon & \\colon & \\colon & \\colon & \\colon & \\colon & \\colon & \\colon  \\\\ \n",
       "  MultiQubitGate(A_{m, 1}, P_{m, 1}) & ..MultiQubitGate(A_{m, j}, P_{m, j}).. & MultiQubitGate(A_{m, g}, P_{m, g}) & MultiQubitGate(D_{m, 1}, S_{m, 1}) & ..MultiQubitGate(D_{m, j}, S_{m, j}).. & MultiQubitGate(D_{m, n}, S_{m, n}) & MultiQubitGate(C_{m, 1}, R_{m, 1}) & ..MultiQubitGate(C_{m, j}, R_{m, j}).. & MultiQubitGate(C_{m, k}, R_{m, k})))\n",
       "   core type: ExprTuple\n",
       "   sub-expressions: 3\n",
       "3. MultiQubitGate(A_{1, 1}, P_{1, 1}) & ..MultiQubitGate(A_{1, j}, P_{1, j}).. & MultiQubitGate(A_{1, g}, P_{1, g}) & MultiQubitGate(D_{1, 1}, S_{1, 1}) & ..MultiQubitGate(D_{1, j}, S_{1, j}).. & MultiQubitGate(D_{1, n}, S_{1, n}) & MultiQubitGate(C_{1, 1}, R_{1, 1}) & ..MultiQubitGate(C_{1, j}, R_{1, j}).. & MultiQubitGate(C_{1, k}, R_{1, k})  \\\\ \n",
       "  \\colon & \\colon & \\colon & \\colon & \\colon & \\colon & \\colon & \\colon & \\colon  \\\\ \n",
       "  MultiQubitGate(A_{i, 1}, P_{i, 1}) & ..MultiQubitGate(A_{i, j}, P_{i, j}).. & MultiQubitGate(A_{i, g}, P_{i, g}) & MultiQubitGate(D_{i, 1}, S_{i, 1}) & ..MultiQubitGate(D_{i, j}, S_{i, j}).. & MultiQubitGate(D_{i, n}, S_{i, n}) & MultiQubitGate(C_{i, 1}, R_{i, 1}) & ..MultiQubitGate(C_{i, j}, R_{i, j}).. & MultiQubitGate(C_{i, k}, R_{i, k})  \\\\ \n",
       "  \\colon & \\colon & \\colon & \\colon & \\colon & \\colon & \\colon & \\colon & \\colon  \\\\ \n",
       "  MultiQubitGate(A_{m, 1}, P_{m, 1}) & ..MultiQubitGate(A_{m, j}, P_{m, j}).. & MultiQubitGate(A_{m, g}, P_{m, g}) & MultiQubitGate(D_{m, 1}, S_{m, 1}) & ..MultiQubitGate(D_{m, j}, S_{m, j}).. & MultiQubitGate(D_{m, n}, S_{m, n}) & MultiQubitGate(C_{m, 1}, R_{m, 1}) & ..MultiQubitGate(C_{m, j}, R_{m, j}).. & MultiQubitGate(C_{m, k}, R_{m, k})\n",
       "   core type: ExprTuple\n",
       "   sub-expressions: 4\n",
       "4. (MultiQubitGate(A_{1, 1}, P_{1, 1}), ..MultiQubitGate(A_{1, j}, P_{1, j}).., MultiQubitGate(A_{1, g}, P_{1, g}), MultiQubitGate(D_{1, 1}, S_{1, 1}), ..MultiQubitGate(D_{1, j}, S_{1, j}).., MultiQubitGate(D_{1, n}, S_{1, n}), MultiQubitGate(C_{1, 1}, R_{1, 1}), ..MultiQubitGate(C_{1, j}, R_{1, j}).., MultiQubitGate(C_{1, k}, R_{1, k})), ..(MultiQubitGate(A_{i, 1}, P_{i, 1}), ..MultiQubitGate(A_{i, j}, P_{i, j}).., MultiQubitGate(A_{i, g}, P_{i, g}), MultiQubitGate(D_{i, 1}, S_{i, 1}), ..MultiQubitGate(D_{i, j}, S_{i, j}).., MultiQubitGate(D_{i, n}, S_{i, n}), MultiQubitGate(C_{i, 1}, R_{i, 1}), ..MultiQubitGate(C_{i, j}, R_{i, j}).., MultiQubitGate(C_{i, k}, R_{i, k})).., (MultiQubitGate(A_{m, 1}, P_{m, 1}), ..MultiQubitGate(A_{m, j}, P_{m, j}).., MultiQubitGate(A_{m, g}, P_{m, g}), MultiQubitGate(D_{m, 1}, S_{m, 1}), ..MultiQubitGate(D_{m, j}, S_{m, j}).., MultiQubitGate(D_{m, n}, S_{m, n}), MultiQubitGate(C_{m, 1}, R_{m, 1}), ..MultiQubitGate(C_{m, j}, R_{m, j}).., MultiQubitGate(C_{m, k}, R_{m, k}))\n",
       "   core type: ExprRange\n",
       "   lambda_map: 5\n",
       "   start_index: 16\n",
       "   end_index: 6\n",
       "5. i -> (MultiQubitGate(A_{i, 1}, P_{i, 1}), ..MultiQubitGate(A_{i, j}, P_{i, j}).., MultiQubitGate(A_{i, g}, P_{i, g}), MultiQubitGate(D_{i, 1}, S_{i, 1}), ..MultiQubitGate(D_{i, j}, S_{i, j}).., MultiQubitGate(D_{i, n}, S_{i, n}), MultiQubitGate(C_{i, 1}, R_{i, 1}), ..MultiQubitGate(C_{i, j}, R_{i, j}).., MultiQubitGate(C_{i, k}, R_{i, k}))\n",
       "   core type: Lambda\n",
       "   parameter: 38\n",
       "   body: 7\n",
       "6. m\n",
       "   core type: Variable\n",
       "   sub-expressions: \n",
       "7. (MultiQubitGate(A_{i, 1}, P_{i, 1}), ..MultiQubitGate(A_{i, j}, P_{i, j}).., MultiQubitGate(A_{i, g}, P_{i, g}), MultiQubitGate(D_{i, 1}, S_{i, 1}), ..MultiQubitGate(D_{i, j}, S_{i, j}).., MultiQubitGate(D_{i, n}, S_{i, n}), MultiQubitGate(C_{i, 1}, R_{i, 1}), ..MultiQubitGate(C_{i, j}, R_{i, j}).., MultiQubitGate(C_{i, k}, R_{i, k}))\n",
       "   core type: ExprTuple\n",
       "   sub-expressions: 8, 9, 10\n",
       "8. MultiQubitGate(A_{i, 1}, P_{i, 1}), ..MultiQubitGate(A_{i, j}, P_{i, j}).., MultiQubitGate(A_{i, g}, P_{i, g})\n",
       "   core type: ExprRange\n",
       "   lambda_map: 11\n",
       "   start_index: 16\n",
       "   end_index: 12\n",
       "9. MultiQubitGate(D_{i, 1}, S_{i, 1}), ..MultiQubitGate(D_{i, j}, S_{i, j}).., MultiQubitGate(D_{i, n}, S_{i, n})\n",
       "   core type: ExprRange\n",
       "   lambda_map: 13\n",
       "   start_index: 16\n",
       "   end_index: 14\n",
       "10. MultiQubitGate(C_{i, 1}, R_{i, 1}), ..MultiQubitGate(C_{i, j}, R_{i, j}).., MultiQubitGate(C_{i, k}, R_{i, k})\n",
       "    core type: ExprRange\n",
       "    lambda_map: 15\n",
       "    start_index: 16\n",
       "    end_index: 17\n",
       "11. j -> MultiQubitGate(A_{i, j}, P_{i, j})\n",
       "    core type: Lambda\n",
       "    parameter: 39\n",
       "    body: 18\n",
       "12. g\n",
       "    core type: Variable\n",
       "    sub-expressions: \n",
       "13. j -> MultiQubitGate(D_{i, j}, S_{i, j})\n",
       "    core type: Lambda\n",
       "    parameter: 39\n",
       "    body: 19\n",
       "14. n\n",
       "    core type: Variable\n",
       "    sub-expressions: \n",
       "15. j -> MultiQubitGate(C_{i, j}, R_{i, j})\n",
       "    core type: Lambda\n",
       "    parameter: 39\n",
       "    body: 20\n",
       "16. 1\n",
       "    core type: Literal\n",
       "    sub-expressions: \n",
       "17. k\n",
       "    core type: Variable\n",
       "    sub-expressions: \n",
       "18. MultiQubitGate(A_{i, j}, P_{i, j})\n",
       "    core type: Operation\n",
       "    operator: 23\n",
       "    operands: 21\n",
       "19. MultiQubitGate(D_{i, j}, S_{i, j})\n",
       "    core type: Operation\n",
       "    operator: 23\n",
       "    operands: 22\n",
       "20. MultiQubitGate(C_{i, j}, R_{i, j})\n",
       "    core type: Operation\n",
       "    operator: 23\n",
       "    operands: 24\n",
       "21. (A_{i, j}, P_{i, j})\n",
       "    core type: ExprTuple\n",
       "    sub-expressions: 25, 26\n",
       "22. (D_{i, j}, S_{i, j})\n",
       "    core type: ExprTuple\n",
       "    sub-expressions: 27, 28\n",
       "23. MULTI_QUBIT_GATE\n",
       "    core type: Literal\n",
       "    sub-expressions: \n",
       "24. (C_{i, j}, R_{i, j})\n",
       "    core type: ExprTuple\n",
       "    sub-expressions: 29, 30\n",
       "25. A_{i, j}\n",
       "    core type: IndexedVar\n",
       "variable: 31\n",
       "indices: 37\n",
       "26. P_{i, j}\n",
       "    core type: IndexedVar\n",
       "variable: 32\n",
       "indices: 37\n",
       "27. D_{i, j}\n",
       "    core type: IndexedVar\n",
       "variable: 33\n",
       "indices: 37\n",
       "28. S_{i, j}\n",
       "    core type: IndexedVar\n",
       "variable: 34\n",
       "indices: 37\n",
       "29. C_{i, j}\n",
       "    core type: IndexedVar\n",
       "variable: 35\n",
       "indices: 37\n",
       "30. R_{i, j}\n",
       "    core type: IndexedVar\n",
       "variable: 36\n",
       "indices: 37\n",
       "31. A\n",
       "    core type: Variable\n",
       "    sub-expressions: \n",
       "32. P\n",
       "    core type: Variable\n",
       "    sub-expressions: \n",
       "33. D\n",
       "    core type: Variable\n",
       "    sub-expressions: \n",
       "34. S\n",
       "    core type: Variable\n",
       "    sub-expressions: \n",
       "35. C\n",
       "    core type: Variable\n",
       "    sub-expressions: \n",
       "36. R\n",
       "    core type: Variable\n",
       "    sub-expressions: \n",
       "37. (i, j)\n",
       "    core type: ExprTuple\n",
       "    sub-expressions: 38, 39\n",
       "38. i\n",
       "    core type: Variable\n",
       "    sub-expressions: \n",
       "39. j\n",
       "    core type: Variable\n",
       "    sub-expressions: "
      ]
     },
     "execution_count": 6,
     "metadata": {},
     "output_type": "execute_result"
    }
   ],
   "source": [
    "# display the expression information\n",
    "expr.expr_info()"
   ]
  },
  {
   "cell_type": "code",
   "execution_count": null,
   "metadata": {},
   "outputs": [],
   "source": []
  }
 ],
 "metadata": {
  "kernelspec": {
   "display_name": "Python 3",
   "language": "python",
   "name": "python3"
  }
 },
 "nbformat": 4,
 "nbformat_minor": 0
}