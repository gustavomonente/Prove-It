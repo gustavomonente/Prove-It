{
 "cells": [
  {
   "cell_type": "markdown",
   "metadata": {},
   "source": [
    "Expression of type <a class=\"ProveItLink\" href=\"../../../../../../../doc/html/api/proveit.ExprTuple.html\">ExprTuple</a>\n",
    "=======================\n",
    "# from the theory of <a class=\"ProveItLink\" href=\"../../../_theory_nbs_/theory.ipynb\">proveit.physics.quantum</a>"
   ]
  },
  {
   "cell_type": "code",
   "execution_count": 1,
   "metadata": {},
   "outputs": [],
   "source": [
    "import proveit\n",
    "# Automation is not needed when building an expression:\n",
    "proveit.defaults.automation = False # This will speed things up.\n",
    "proveit.defaults.inline_pngs = False # Makes files smaller.\n",
    "%load_expr # Load the stored expression as 'stored_expr'\n",
    "# import Expression classes needed to build the expression\n",
    "from proveit import ExprTuple\n",
    "from proveit.linalg import ScalarProd\n",
    "from proveit.numbers import Add\n",
    "from proveit.physics.quantum import inv_root2, ket0, ket1, ket_plus"
   ]
  },
  {
   "cell_type": "code",
   "execution_count": 2,
   "metadata": {},
   "outputs": [
    {
     "data": {
      "text/html": [
       "<strong id=\"expr\">expr:</strong> <a class=\"ProveItLink\" href=\"expr.ipynb\"><img src=\"expr.png\" style=\"display:inline;vertical-align:middle;\" /></a><br>"
      ],
      "text/plain": [
       "expr: (|+〉, ((1 / sqrt(2)) * |0〉) + ((1 / sqrt(2)) * |1〉))"
      ]
     },
     "execution_count": 2,
     "metadata": {},
     "output_type": "execute_result"
    }
   ],
   "source": [
    "# build up the expression from sub-expressions\n",
    "expr = ExprTuple(ket_plus, Add(ScalarProd(inv_root2, ket0), ScalarProd(inv_root2, ket1)))"
   ]
  },
  {
   "cell_type": "code",
   "execution_count": 3,
   "metadata": {},
   "outputs": [
    {
     "name": "stdout",
     "output_type": "stream",
     "text": [
      "Passed sanity check: expr matches stored_expr\n"
     ]
    }
   ],
   "source": [
    "# check that the built expression is the same as the stored expression\n",
    "assert expr == stored_expr\n",
    "assert expr._style_id == stored_expr._style_id\n",
    "print(\"Passed sanity check: expr matches stored_expr\")"
   ]
  },
  {
   "cell_type": "code",
   "execution_count": 4,
   "metadata": {},
   "outputs": [
    {
     "name": "stdout",
     "output_type": "stream",
     "text": [
      "\\left(\\lvert + \\rangle, \\left(\\frac{1}{\\sqrt{2}} \\thinspace \\lvert 0 \\rangle\\right) + \\left(\\frac{1}{\\sqrt{2}} \\thinspace \\lvert 1 \\rangle\\right)\\right)\n"
     ]
    }
   ],
   "source": [
    "# Show the LaTeX representation of the expression for convenience if you need it.\n",
    "print(expr.latex())"
   ]
  },
  {
   "cell_type": "code",
   "execution_count": 5,
   "metadata": {},
   "outputs": [
    {
     "data": {
      "text/html": [
       "<table><tr><th>&nbsp;</th><th>core type</th><th>sub-expressions</th><th>expression</th></tr>\n",
       "<tr><td>0</td><td>ExprTuple</td><td>1, 2</td><td><a class=\"ProveItLink\" href=\"expr.ipynb\"><img src=\"expr.png\" style=\"display:inline;vertical-align:middle;\" /></a></td></tr>\n",
       "<tr><td>1</td><td>Operation</td><td>operator:&nbsp;16<br>operand:&nbsp;3<br></td><td><a class=\"ProveItLink\" href=\"../../common/795ed2018d67fa7c5482a82a7d659bed8245e1f30/expr.ipynb\"><img src=\"../../common/795ed2018d67fa7c5482a82a7d659bed8245e1f30/expr.png\" style=\"display:inline;vertical-align:middle;\" /></a></td></tr>\n",
       "<tr><td>2</td><td>Operation</td><td>operator:&nbsp;4<br>operands:&nbsp;5<br></td><td><a class=\"ProveItLink\" href=\"../fbfd199820b39e0aa18984b550fb22d3accbb8770/expr.ipynb\"><img src=\"../fbfd199820b39e0aa18984b550fb22d3accbb8770/expr.png\" style=\"display:inline;vertical-align:middle;\" /></a></td></tr>\n",
       "<tr><td>3</td><td>Literal</td><td></td><td><a class=\"ProveItLink\" href=\"../../common/af7474ecb679aafadbff60eb0f517b3d905ff7830/expr.ipynb\"><img src=\"../../common/af7474ecb679aafadbff60eb0f517b3d905ff7830/expr.png\" style=\"display:inline;vertical-align:middle;\" /></a></td></tr>\n",
       "<tr><td>4</td><td>Literal</td><td></td><td><a class=\"ProveItLink\" href=\"../../../../../numbers/addition/__pv_it/common/4b7effaab3619a1c2c38fe2dee8601df8ec714590/expr.ipynb\"><img src=\"../../../../../numbers/addition/__pv_it/common/4b7effaab3619a1c2c38fe2dee8601df8ec714590/expr.png\" style=\"display:inline;vertical-align:middle;\" /></a></td></tr>\n",
       "<tr><td>5</td><td>ExprTuple</td><td>6, 7</td><td><a class=\"ProveItLink\" href=\"../a1326368d9ffda858a4502ce77669e2dc57fbf750/expr.ipynb\"><img src=\"../a1326368d9ffda858a4502ce77669e2dc57fbf750/expr.png\" style=\"display:inline;vertical-align:middle;\" /></a></td></tr>\n",
       "<tr><td>6</td><td>Operation</td><td>operator:&nbsp;9<br>operands:&nbsp;8<br></td><td><a class=\"ProveItLink\" href=\"../1ad60a982020e46559661d86a548115abb836bd80/expr.ipynb\"><img src=\"../1ad60a982020e46559661d86a548115abb836bd80/expr.png\" style=\"display:inline;vertical-align:middle;\" /></a></td></tr>\n",
       "<tr><td>7</td><td>Operation</td><td>operator:&nbsp;9<br>operands:&nbsp;10<br></td><td><a class=\"ProveItLink\" href=\"../0a37b834bca1cd167c1f0f04670b7c7dd2315bf40/expr.ipynb\"><img src=\"../0a37b834bca1cd167c1f0f04670b7c7dd2315bf40/expr.png\" style=\"display:inline;vertical-align:middle;\" /></a></td></tr>\n",
       "<tr><td>8</td><td>ExprTuple</td><td>12, 11</td><td><a class=\"ProveItLink\" href=\"../0948487202758921b7387ca157c12151cda854380/expr.ipynb\"><img src=\"../0948487202758921b7387ca157c12151cda854380/expr.png\" style=\"display:inline;vertical-align:middle;\" /></a></td></tr>\n",
       "<tr><td>9</td><td>Literal</td><td></td><td><a class=\"ProveItLink\" href=\"../../../../../linalg/__pv_it/common/589d88ebd9de601fd7d02d4702c17228eb7e7c7b0/expr.ipynb\"><img src=\"../../../../../linalg/__pv_it/common/589d88ebd9de601fd7d02d4702c17228eb7e7c7b0/expr.png\" style=\"display:inline;vertical-align:middle;\" /></a></td></tr>\n",
       "<tr><td>10</td><td>ExprTuple</td><td>12, 13</td><td><a class=\"ProveItLink\" href=\"../9cfdd31d52b2f17a7ae933bfb8177a49298a158f0/expr.ipynb\"><img src=\"../9cfdd31d52b2f17a7ae933bfb8177a49298a158f0/expr.png\" style=\"display:inline;vertical-align:middle;\" /></a></td></tr>\n",
       "<tr><td>11</td><td>Operation</td><td>operator:&nbsp;16<br>operand:&nbsp;14<br></td><td><a class=\"ProveItLink\" href=\"../../common/5f63a03bfc82b7258c791cd7eef6d6305fc125e50/expr.ipynb\"><img src=\"../../common/5f63a03bfc82b7258c791cd7eef6d6305fc125e50/expr.png\" style=\"display:inline;vertical-align:middle;\" /></a></td></tr>\n",
       "<tr><td>12</td><td>Operation</td><td>operator:&nbsp;21<br>operands:&nbsp;15<br></td><td><a class=\"ProveItLink\" href=\"../../common/393e05867623ae7c157faf12be450543da0341dc0/expr.ipynb\"><img src=\"../../common/393e05867623ae7c157faf12be450543da0341dc0/expr.png\" style=\"display:inline;vertical-align:middle;\" /></a></td></tr>\n",
       "<tr><td>13</td><td>Operation</td><td>operator:&nbsp;16<br>operand:&nbsp;23<br></td><td><a class=\"ProveItLink\" href=\"../../common/ebfae6b74c0021e21daf83105eb14e31dba466620/expr.ipynb\"><img src=\"../../common/ebfae6b74c0021e21daf83105eb14e31dba466620/expr.png\" style=\"display:inline;vertical-align:middle;\" /></a></td></tr>\n",
       "<tr><td>14</td><td>Literal</td><td></td><td><a class=\"ProveItLink\" href=\"../../../../../numbers/numerals/__pv_it/common/7d0a36793ffe8d307a5c120ee5598162e8cd2db10/expr.ipynb\"><img src=\"../../../../../numbers/numerals/__pv_it/common/7d0a36793ffe8d307a5c120ee5598162e8cd2db10/expr.png\" style=\"display:inline;vertical-align:middle;\" /></a></td></tr>\n",
       "<tr><td>15</td><td>ExprTuple</td><td>23, 17</td><td><a class=\"ProveItLink\" href=\"../../common/9215d936bc2c93c9968457517c1f1b7b58c1e4600/expr.ipynb\"><img src=\"../../common/9215d936bc2c93c9968457517c1f1b7b58c1e4600/expr.png\" style=\"display:inline;vertical-align:middle;\" /></a></td></tr>\n",
       "<tr><td>16</td><td>Literal</td><td></td><td><a class=\"ProveItLink\" href=\"../../common/211157ad123e11ebc76ee54e41be13705eefd6800/expr.ipynb\"><img src=\"../../common/211157ad123e11ebc76ee54e41be13705eefd6800/expr.png\" style=\"display:inline;vertical-align:middle;\" /></a></td></tr>\n",
       "<tr><td>17</td><td>Operation</td><td>operator:&nbsp;18<br>operands:&nbsp;19<br></td><td><a class=\"ProveItLink\" href=\"../../common/94b65a39857ec59dcaab81c868f4f50c7c3a40550/expr.ipynb\"><img src=\"../../common/94b65a39857ec59dcaab81c868f4f50c7c3a40550/expr.png\" style=\"display:inline;vertical-align:middle;\" /></a></td></tr>\n",
       "<tr><td>18</td><td>Literal</td><td></td><td><a class=\"ProveItLink\" href=\"../../../../../numbers/exponentiation/__pv_it/common/0ac37aca1e54c35c5cda09672df32d4f69f1f3020/expr.ipynb\"><img src=\"../../../../../numbers/exponentiation/__pv_it/common/0ac37aca1e54c35c5cda09672df32d4f69f1f3020/expr.png\" style=\"display:inline;vertical-align:middle;\" /></a></td></tr>\n",
       "<tr><td>19</td><td>ExprTuple</td><td>24, 20</td><td><a class=\"ProveItLink\" href=\"../../common/9bf577fdb070ce87eef45dc2b2937ef381ba64a00/expr.ipynb\"><img src=\"../../common/9bf577fdb070ce87eef45dc2b2937ef381ba64a00/expr.png\" style=\"display:inline;vertical-align:middle;\" /></a></td></tr>\n",
       "<tr><td>20</td><td>Operation</td><td>operator:&nbsp;21<br>operands:&nbsp;22<br></td><td><a class=\"ProveItLink\" href=\"../../common/ed794d0dec5d34befefe372b8b03b9df7b69ac470/expr.ipynb\"><img src=\"../../common/ed794d0dec5d34befefe372b8b03b9df7b69ac470/expr.png\" style=\"display:inline;vertical-align:middle;\" /></a></td></tr>\n",
       "<tr><td>21</td><td>Literal</td><td></td><td><a class=\"ProveItLink\" href=\"../../../../../numbers/division/__pv_it/common/a2a633e1e3c749fb1f2692466b287b6348c5de840/expr.ipynb\"><img src=\"../../../../../numbers/division/__pv_it/common/a2a633e1e3c749fb1f2692466b287b6348c5de840/expr.png\" style=\"display:inline;vertical-align:middle;\" /></a></td></tr>\n",
       "<tr><td>22</td><td>ExprTuple</td><td>23, 24</td><td><a class=\"ProveItLink\" href=\"../../common/95fdce2c03f4c1a2c47c63453ccf25285abc1a5c0/expr.ipynb\"><img src=\"../../common/95fdce2c03f4c1a2c47c63453ccf25285abc1a5c0/expr.png\" style=\"display:inline;vertical-align:middle;\" /></a></td></tr>\n",
       "<tr><td>23</td><td>Literal</td><td></td><td><a class=\"ProveItLink\" href=\"../../../../../numbers/numerals/__pv_it/common/2778428c7f555b2bdc06aa0530bc142c6e6335100/expr.ipynb\"><img src=\"../../../../../numbers/numerals/__pv_it/common/2778428c7f555b2bdc06aa0530bc142c6e6335100/expr.png\" style=\"display:inline;vertical-align:middle;\" /></a></td></tr>\n",
       "<tr><td>24</td><td>Literal</td><td></td><td><a class=\"ProveItLink\" href=\"../../../../../numbers/numerals/__pv_it/common/ba3b059982e8b49413dc653e957beb11e974e4bc0/expr.ipynb\"><img src=\"../../../../../numbers/numerals/__pv_it/common/ba3b059982e8b49413dc653e957beb11e974e4bc0/expr.png\" style=\"display:inline;vertical-align:middle;\" /></a></td></tr>\n",
       "</table>\n"
      ],
      "text/plain": [
       "0. (|+〉, ((1 / sqrt(2)) * |0〉) + ((1 / sqrt(2)) * |1〉))\n",
       "   core type: ExprTuple\n",
       "   sub-expressions: 1, 2\n",
       "1. |+〉\n",
       "   core type: Operation\n",
       "   operator: 16\n",
       "   operand: 3\n",
       "2. ((1 / sqrt(2)) * |0〉) + ((1 / sqrt(2)) * |1〉)\n",
       "   core type: Operation\n",
       "   operator: 4\n",
       "   operands: 5\n",
       "3. +\n",
       "   core type: Literal\n",
       "   sub-expressions: \n",
       "4. +\n",
       "   core type: Literal\n",
       "   sub-expressions: \n",
       "5. ((1 / sqrt(2)) * |0〉, (1 / sqrt(2)) * |1〉)\n",
       "   core type: ExprTuple\n",
       "   sub-expressions: 6, 7\n",
       "6. (1 / sqrt(2)) * |0〉\n",
       "   core type: Operation\n",
       "   operator: 9\n",
       "   operands: 8\n",
       "7. (1 / sqrt(2)) * |1〉\n",
       "   core type: Operation\n",
       "   operator: 9\n",
       "   operands: 10\n",
       "8. (1 / sqrt(2), |0〉)\n",
       "   core type: ExprTuple\n",
       "   sub-expressions: 12, 11\n",
       "9. *\n",
       "   core type: Literal\n",
       "   sub-expressions: \n",
       "10. (1 / sqrt(2), |1〉)\n",
       "    core type: ExprTuple\n",
       "    sub-expressions: 12, 13\n",
       "11. |0〉\n",
       "    core type: Operation\n",
       "    operator: 16\n",
       "    operand: 14\n",
       "12. 1 / sqrt(2)\n",
       "    core type: Operation\n",
       "    operator: 21\n",
       "    operands: 15\n",
       "13. |1〉\n",
       "    core type: Operation\n",
       "    operator: 16\n",
       "    operand: 23\n",
       "14. 0\n",
       "    core type: Literal\n",
       "    sub-expressions: \n",
       "15. (1, sqrt(2))\n",
       "    core type: ExprTuple\n",
       "    sub-expressions: 23, 17\n",
       "16. KET\n",
       "    core type: Literal\n",
       "    sub-expressions: \n",
       "17. sqrt(2)\n",
       "    core type: Operation\n",
       "    operator: 18\n",
       "    operands: 19\n",
       "18. Exp\n",
       "    core type: Literal\n",
       "    sub-expressions: \n",
       "19. (2, 1 / 2)\n",
       "    core type: ExprTuple\n",
       "    sub-expressions: 24, 20\n",
       "20. 1 / 2\n",
       "    core type: Operation\n",
       "    operator: 21\n",
       "    operands: 22\n",
       "21. /\n",
       "    core type: Literal\n",
       "    sub-expressions: \n",
       "22. (1, 2)\n",
       "    core type: ExprTuple\n",
       "    sub-expressions: 23, 24\n",
       "23. 1\n",
       "    core type: Literal\n",
       "    sub-expressions: \n",
       "24. 2\n",
       "    core type: Literal\n",
       "    sub-expressions: "
      ]
     },
     "execution_count": 5,
     "metadata": {},
     "output_type": "execute_result"
    }
   ],
   "source": [
    "# display the expression information\n",
    "expr.expr_info()"
   ]
  },
  {
   "cell_type": "code",
   "execution_count": null,
   "metadata": {},
   "outputs": [],
   "source": []
  }
 ],
 "metadata": {
  "kernelspec": {
   "display_name": "Python 3",
   "language": "python",
   "name": "python3"
  }
 },
 "nbformat": 4,
 "nbformat_minor": 0
}