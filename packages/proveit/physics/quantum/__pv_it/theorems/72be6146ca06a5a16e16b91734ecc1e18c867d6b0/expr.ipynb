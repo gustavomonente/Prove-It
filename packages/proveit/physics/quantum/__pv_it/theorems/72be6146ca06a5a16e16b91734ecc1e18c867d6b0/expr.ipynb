{
 "cells": [
  {
   "cell_type": "markdown",
   "metadata": {},
   "source": [
    "Expression of type <a class=\"ProveItLink\" href=\"../../../../../../../doc/html/api/proveit.ExprTuple.html\">ExprTuple</a>\n",
    "=======================\n",
    "# from the theory of <a class=\"ProveItLink\" href=\"../../../_theory_nbs_/theory.ipynb\">proveit.physics.quantum</a>"
   ]
  },
  {
   "cell_type": "code",
   "execution_count": 1,
   "metadata": {},
   "outputs": [],
   "source": [
    "import proveit\n",
    "# Automation is not needed when building an expression:\n",
    "proveit.defaults.automation = False # This will speed things up.\n",
    "proveit.defaults.inline_pngs = False # Makes files smaller.\n",
    "%load_expr # Load the stored expression as 'stored_expr'\n",
    "# import Expression classes needed to build the expression\n",
    "from proveit import ExprArray, ExprRange, ExprTuple, i, j, m, n\n",
    "from proveit.core_expr_types.expr_arrays import Bij, Dij, Sij\n",
    "from proveit.numbers import one\n",
    "from proveit.physics.quantum.circuit import Circuit, MultiQubitGate"
   ]
  },
  {
   "cell_type": "code",
   "execution_count": 2,
   "metadata": {},
   "outputs": [
    {
     "data": {
      "text/html": [
       "<strong id=\"expr\">expr:</strong> <a class=\"ProveItLink\" href=\"expr.ipynb\"><img src=\"expr.png\" style=\"display:inline;vertical-align:middle;\" /></a><br>"
      ],
      "text/plain": [
       "expr: ( MultiQubitGate(B_{1, 1}, S_{1, 1})  & ..MultiQubitGate(B_{1, j}, S_{1, j})..  & MultiQubitGate(B_{1, n}, S_{1, n})   \\\\ \n",
       "   \\colon  & \\colon  & \\colon   \\\\ \n",
       "   MultiQubitGate(B_{i, 1}, S_{i, 1})  & ..MultiQubitGate(B_{i, j}, S_{i, j})..  & MultiQubitGate(B_{i, n}, S_{i, n})   \\\\ \n",
       "   \\colon  & \\colon  & \\colon   \\\\ \n",
       "   MultiQubitGate(B_{m, 1}, S_{m, 1})  & ..MultiQubitGate(B_{m, j}, S_{m, j})..  & MultiQubitGate(B_{m, n}, S_{m, n}),  MultiQubitGate(D_{1, 1}, S_{1, 1})  & ..MultiQubitGate(D_{1, j}, S_{1, j})..  & MultiQubitGate(D_{1, n}, S_{1, n})   \\\\ \n",
       "   \\colon  & \\colon  & \\colon   \\\\ \n",
       "   MultiQubitGate(D_{i, 1}, S_{i, 1})  & ..MultiQubitGate(D_{i, j}, S_{i, j})..  & MultiQubitGate(D_{i, n}, S_{i, n})   \\\\ \n",
       "   \\colon  & \\colon  & \\colon   \\\\ \n",
       "   MultiQubitGate(D_{m, 1}, S_{m, 1})  & ..MultiQubitGate(D_{m, j}, S_{m, j})..  & MultiQubitGate(D_{m, n}, S_{m, n}))"
      ]
     },
     "execution_count": 2,
     "metadata": {},
     "output_type": "execute_result"
    }
   ],
   "source": [
    "# build up the expression from sub-expressions\n",
    "expr = ExprTuple(Circuit(ExprArray(ExprRange(i, [ExprRange(j, MultiQubitGate(Bij, Sij), one, n)], one, m))), Circuit(ExprArray(ExprRange(i, [ExprRange(j, MultiQubitGate(Dij, Sij), one, n)], one, m))))"
   ]
  },
  {
   "cell_type": "code",
   "execution_count": 3,
   "metadata": {},
   "outputs": [
    {
     "name": "stdout",
     "output_type": "stream",
     "text": [
      "Passed sanity check: expr matches stored_expr\n"
     ]
    }
   ],
   "source": [
    "# check that the built expression is the same as the stored expression\n",
    "assert expr == stored_expr\n",
    "assert expr._style_id == stored_expr._style_id\n",
    "print(\"Passed sanity check: expr matches stored_expr\")"
   ]
  },
  {
   "cell_type": "code",
   "execution_count": 4,
   "metadata": {},
   "outputs": [
    {
     "name": "stdout",
     "output_type": "stream",
     "text": [
      "\\left(\\hspace{2em} \\Qcircuit@C=1em @R=.7em{\n",
      "& \\gate{B_{1, 1}{\\Big \\{} S_{1, 1}} \\qwx[1] & \\gate{\\cdots} \\qwx[1] & \\gate{B_{1, n}{\\Big \\{} S_{1, n}} \\qwx[1]   \\\\ \n",
      "  & \\gate{\\vdots} \\qwx[1] & \\gate{B_{i, j}{\\Big \\{} S_{i, j}} \\qwx[1] & \\gate{\\vdots} \\qwx[1]   \\\\ \n",
      "  & \\gate{B_{m, 1}{\\Big \\{} S_{m, 1}} & \\gate{\\cdots} & \\gate{B_{m, n}{\\Big \\{} S_{m, n}} \n",
      "} \\hspace{2em}, \\hspace{2em} \\Qcircuit@C=1em @R=.7em{\n",
      "& \\gate{D_{1, 1}{\\Big \\{} S_{1, 1}} \\qwx[1] & \\gate{\\cdots} \\qwx[1] & \\gate{D_{1, n}{\\Big \\{} S_{1, n}} \\qwx[1]   \\\\ \n",
      "  & \\gate{\\vdots} \\qwx[1] & \\gate{D_{i, j}{\\Big \\{} S_{i, j}} \\qwx[1] & \\gate{\\vdots} \\qwx[1]   \\\\ \n",
      "  & \\gate{D_{m, 1}{\\Big \\{} S_{m, 1}} & \\gate{\\cdots} & \\gate{D_{m, n}{\\Big \\{} S_{m, n}} \n",
      "} \\hspace{2em}\\right)\n"
     ]
    }
   ],
   "source": [
    "# Show the LaTeX representation of the expression for convenience if you need it.\n",
    "print(expr.latex())"
   ]
  },
  {
   "cell_type": "code",
   "execution_count": 5,
   "metadata": {},
   "outputs": [
    {
     "data": {
      "text/html": [
       "<table>\n",
       "<tr><th>name</th><th>description</th><th>default</th><th>current value</th><th>related methods</th></tr><tr><td>wrap_positions</td><td>position(s) at which wrapping is to occur; 'n' is after the nth comma.</td><td>()</td><td>()</td><td>('with_wrapping_at',)</td></tr>\n",
       "<tr><td>justification</td><td>if any wrap positions are set, justify to the 'left', 'center', or 'right'</td><td>left</td><td>left</td><td>('with_justification',)</td></tr>\n",
       "</table>\n"
      ],
      "text/plain": [
       "style name: wrap_positions\n",
       "description: position(s) at which wrapping is to occur; 'n' is after the nth comma.\n",
       "default: ()\n",
       "current value: ()\n",
       "related methods: ('with_wrapping_at',)\n",
       "style name: justification\n",
       "description: if any wrap positions are set, justify to the 'left', 'center', or 'right'\n",
       "default: left\n",
       "current value: left\n",
       "related methods: ('with_justification',)"
      ]
     },
     "execution_count": 5,
     "metadata": {},
     "output_type": "execute_result"
    }
   ],
   "source": [
    "expr.style_options()"
   ]
  },
  {
   "cell_type": "code",
   "execution_count": 6,
   "metadata": {},
   "outputs": [
    {
     "data": {
      "text/html": [
       "<table><tr><th>&nbsp;</th><th>core type</th><th>sub-expressions</th><th>expression</th></tr>\n",
       "<tr><td>0</td><td>ExprTuple</td><td>1, 2</td><td><a class=\"ProveItLink\" href=\"expr.ipynb\"><img src=\"expr.png\" style=\"display:inline;vertical-align:middle;\" /></a></td></tr>\n",
       "<tr><td>1</td><td>Operation</td><td>operator:&nbsp;4<br>operand:&nbsp;6<br></td><td><a class=\"ProveItLink\" href=\"../e8eb79e4ff225ba5c9160b52533fb5a1309f2e320/expr.ipynb\"><img src=\"../e8eb79e4ff225ba5c9160b52533fb5a1309f2e320/expr.png\" style=\"display:inline;vertical-align:middle;\" /></a></td></tr>\n",
       "<tr><td>2</td><td>Operation</td><td>operator:&nbsp;4<br>operand:&nbsp;7<br></td><td><a class=\"ProveItLink\" href=\"../b605be3b2f55cac3ae810caa0d688bd39d5c803d0/expr.ipynb\"><img src=\"../b605be3b2f55cac3ae810caa0d688bd39d5c803d0/expr.png\" style=\"display:inline;vertical-align:middle;\" /></a></td></tr>\n",
       "<tr><td>3</td><td>ExprTuple</td><td>6</td><td><a class=\"ProveItLink\" href=\"../6fb6a8229f4467108d59dd46cfdb95fb1b7da16c0/expr.ipynb\"><img src=\"../6fb6a8229f4467108d59dd46cfdb95fb1b7da16c0/expr.png\" style=\"display:inline;vertical-align:middle;\" /></a></td></tr>\n",
       "<tr><td>4</td><td>Literal</td><td></td><td><a class=\"ProveItLink\" href=\"../../common/bfa5cfb2e03dde2ed2a79fcd50b6e0ef7e57c1b10/expr.ipynb\"><img src=\"../../common/bfa5cfb2e03dde2ed2a79fcd50b6e0ef7e57c1b10/expr.png\" style=\"display:inline;vertical-align:middle;\" /></a></td></tr>\n",
       "<tr><td>5</td><td>ExprTuple</td><td>7</td><td><a class=\"ProveItLink\" href=\"../3152b066308ab74b9bc1282eff9bfcb8b091ae9f0/expr.ipynb\"><img src=\"../3152b066308ab74b9bc1282eff9bfcb8b091ae9f0/expr.png\" style=\"display:inline;vertical-align:middle;\" /></a></td></tr>\n",
       "<tr><td>6</td><td>ExprTuple</td><td>8</td><td><a class=\"ProveItLink\" href=\"../5356aa1250b00bb5ce171199fd1895aee616049f0/expr.ipynb\"><img src=\"../5356aa1250b00bb5ce171199fd1895aee616049f0/expr.png\" style=\"display:inline;vertical-align:middle;\" /></a></td></tr>\n",
       "<tr><td>7</td><td>ExprTuple</td><td>9</td><td><a class=\"ProveItLink\" href=\"../414b79d1aa4483ffee9a11385a66ed7501b2a5b30/expr.ipynb\"><img src=\"../414b79d1aa4483ffee9a11385a66ed7501b2a5b30/expr.png\" style=\"display:inline;vertical-align:middle;\" /></a></td></tr>\n",
       "<tr><td>8</td><td>ExprRange</td><td>lambda_map:&nbsp;10<br>start_index:&nbsp;19<br>end_index:&nbsp;12<br></td><td><a class=\"ProveItLink\" href=\"../f9ca2c1d9aad61a49998d0f5da572ee7266eb1390/expr.ipynb\"><img src=\"../f9ca2c1d9aad61a49998d0f5da572ee7266eb1390/expr.png\" style=\"display:inline;vertical-align:middle;\" /></a></td></tr>\n",
       "<tr><td>9</td><td>ExprRange</td><td>lambda_map:&nbsp;11<br>start_index:&nbsp;19<br>end_index:&nbsp;12<br></td><td><a class=\"ProveItLink\" href=\"../99a574ebf901ce9c952ee0586de7048546d0554d0/expr.ipynb\"><img src=\"../99a574ebf901ce9c952ee0586de7048546d0554d0/expr.png\" style=\"display:inline;vertical-align:middle;\" /></a></td></tr>\n",
       "<tr><td>10</td><td>Lambda</td><td>parameter:&nbsp;33<br>body:&nbsp;13<br></td><td><a class=\"ProveItLink\" href=\"../5477b00df71f7405515961678f51f82026df1aeb0/expr.ipynb\"><img src=\"../5477b00df71f7405515961678f51f82026df1aeb0/expr.png\" style=\"display:inline;vertical-align:middle;\" /></a></td></tr>\n",
       "<tr><td>11</td><td>Lambda</td><td>parameter:&nbsp;33<br>body:&nbsp;14<br></td><td><a class=\"ProveItLink\" href=\"../2402497c942d65b49b24b7d54cb31202fab9963b0/expr.ipynb\"><img src=\"../2402497c942d65b49b24b7d54cb31202fab9963b0/expr.png\" style=\"display:inline;vertical-align:middle;\" /></a></td></tr>\n",
       "<tr><td>12</td><td>Variable</td><td></td><td><a class=\"ProveItLink\" href=\"../../../../../__pv_it/common/2dc4f15b3407a25e8d70754a86bf74f1871f92650/expr.ipynb\"><img src=\"../../../../../__pv_it/common/2dc4f15b3407a25e8d70754a86bf74f1871f92650/expr.png\" style=\"display:inline;vertical-align:middle;\" /></a></td></tr>\n",
       "<tr><td>13</td><td>ExprTuple</td><td>15</td><td><a class=\"ProveItLink\" href=\"../ba2a261ab8a27629da0e69a6b1349a331be713900/expr.ipynb\"><img src=\"../ba2a261ab8a27629da0e69a6b1349a331be713900/expr.png\" style=\"display:inline;vertical-align:middle;\" /></a></td></tr>\n",
       "<tr><td>14</td><td>ExprTuple</td><td>16</td><td><a class=\"ProveItLink\" href=\"../c438e3bc24bbe0601cc2dfed01ae80bee49d19d10/expr.ipynb\"><img src=\"../c438e3bc24bbe0601cc2dfed01ae80bee49d19d10/expr.png\" style=\"display:inline;vertical-align:middle;\" /></a></td></tr>\n",
       "<tr><td>15</td><td>ExprRange</td><td>lambda_map:&nbsp;17<br>start_index:&nbsp;19<br>end_index:&nbsp;20<br></td><td><a class=\"ProveItLink\" href=\"../62b94239293affce18a0235d389feb7d518fc2ac0/expr.ipynb\"><img src=\"../62b94239293affce18a0235d389feb7d518fc2ac0/expr.png\" style=\"display:inline;vertical-align:middle;\" /></a></td></tr>\n",
       "<tr><td>16</td><td>ExprRange</td><td>lambda_map:&nbsp;18<br>start_index:&nbsp;19<br>end_index:&nbsp;20<br></td><td><a class=\"ProveItLink\" href=\"../277f70d5aaecff53aa9a1d424990a1058601283e0/expr.ipynb\"><img src=\"../277f70d5aaecff53aa9a1d424990a1058601283e0/expr.png\" style=\"display:inline;vertical-align:middle;\" /></a></td></tr>\n",
       "<tr><td>17</td><td>Lambda</td><td>parameter:&nbsp;34<br>body:&nbsp;21<br></td><td><a class=\"ProveItLink\" href=\"../aa7d6044d67a741f27b10314a1711f5c48b4c8740/expr.ipynb\"><img src=\"../aa7d6044d67a741f27b10314a1711f5c48b4c8740/expr.png\" style=\"display:inline;vertical-align:middle;\" /></a></td></tr>\n",
       "<tr><td>18</td><td>Lambda</td><td>parameter:&nbsp;34<br>body:&nbsp;22<br></td><td><a class=\"ProveItLink\" href=\"../b0bc6864cf39b42a65bdc58830db0f579f72c56a0/expr.ipynb\"><img src=\"../b0bc6864cf39b42a65bdc58830db0f579f72c56a0/expr.png\" style=\"display:inline;vertical-align:middle;\" /></a></td></tr>\n",
       "<tr><td>19</td><td>Literal</td><td></td><td><a class=\"ProveItLink\" href=\"../../../../../numbers/numerals/__pv_it/common/d278e359da0695d9652dd541d45264f93703e2e40/expr.ipynb\"><img src=\"../../../../../numbers/numerals/__pv_it/common/d278e359da0695d9652dd541d45264f93703e2e40/expr.png\" style=\"display:inline;vertical-align:middle;\" /></a></td></tr>\n",
       "<tr><td>20</td><td>Variable</td><td></td><td><a class=\"ProveItLink\" href=\"../../../../../__pv_it/common/6165c9bb82ce3c7097cdba4440a1aeeb6eaca8a40/expr.ipynb\"><img src=\"../../../../../__pv_it/common/6165c9bb82ce3c7097cdba4440a1aeeb6eaca8a40/expr.png\" style=\"display:inline;vertical-align:middle;\" /></a></td></tr>\n",
       "<tr><td>21</td><td>Operation</td><td>operator:&nbsp;24<br>operands:&nbsp;23<br></td><td><a class=\"ProveItLink\" href=\"../140c3e4880ae6cd5de902d447f6baa52656ac0b50/expr.ipynb\"><img src=\"../140c3e4880ae6cd5de902d447f6baa52656ac0b50/expr.png\" style=\"display:inline;vertical-align:middle;\" /></a></td></tr>\n",
       "<tr><td>22</td><td>Operation</td><td>operator:&nbsp;24<br>operands:&nbsp;25<br></td><td><a class=\"ProveItLink\" href=\"../74da54f499813ff889b1f8b062ca147e55d533910/expr.ipynb\"><img src=\"../74da54f499813ff889b1f8b062ca147e55d533910/expr.png\" style=\"display:inline;vertical-align:middle;\" /></a></td></tr>\n",
       "<tr><td>23</td><td>ExprTuple</td><td>26, 28</td><td><a class=\"ProveItLink\" href=\"../b12fbe4fb6189e123eb17851c31c5c11b0a1d0cb0/expr.ipynb\"><img src=\"../b12fbe4fb6189e123eb17851c31c5c11b0a1d0cb0/expr.png\" style=\"display:inline;vertical-align:middle;\" /></a></td></tr>\n",
       "<tr><td>24</td><td>Literal</td><td></td><td><a class=\"ProveItLink\" href=\"../../common/38deceb0a69e80c36399d725649803706802a2a90/expr.ipynb\"><img src=\"../../common/38deceb0a69e80c36399d725649803706802a2a90/expr.png\" style=\"display:inline;vertical-align:middle;\" /></a></td></tr>\n",
       "<tr><td>25</td><td>ExprTuple</td><td>27, 28</td><td><a class=\"ProveItLink\" href=\"../19119213e8afd938aeccc2ec30c27f1a49cb4f550/expr.ipynb\"><img src=\"../19119213e8afd938aeccc2ec30c27f1a49cb4f550/expr.png\" style=\"display:inline;vertical-align:middle;\" /></a></td></tr>\n",
       "<tr><td>26</td><td>IndexedVar</td><td>variable:&nbsp;29<br>indices:&nbsp;32<br></td><td><a class=\"ProveItLink\" href=\"../../../../../core_expr_types/expr_arrays/__pv_it/common/c912acdcbf2a77f4b6227d5e6d9a04712546dd990/expr.ipynb\"><img src=\"../../../../../core_expr_types/expr_arrays/__pv_it/common/c912acdcbf2a77f4b6227d5e6d9a04712546dd990/expr.png\" style=\"display:inline;vertical-align:middle;\" /></a></td></tr>\n",
       "<tr><td>27</td><td>IndexedVar</td><td>variable:&nbsp;30<br>indices:&nbsp;32<br></td><td><a class=\"ProveItLink\" href=\"../../../../../core_expr_types/expr_arrays/__pv_it/common/8e122e0c03da99cf4e51461fcb2c93928f92cb550/expr.ipynb\"><img src=\"../../../../../core_expr_types/expr_arrays/__pv_it/common/8e122e0c03da99cf4e51461fcb2c93928f92cb550/expr.png\" style=\"display:inline;vertical-align:middle;\" /></a></td></tr>\n",
       "<tr><td>28</td><td>IndexedVar</td><td>variable:&nbsp;31<br>indices:&nbsp;32<br></td><td><a class=\"ProveItLink\" href=\"../../../../../core_expr_types/expr_arrays/__pv_it/common/29b2a42564e2bd68f988108464c87826d4366e390/expr.ipynb\"><img src=\"../../../../../core_expr_types/expr_arrays/__pv_it/common/29b2a42564e2bd68f988108464c87826d4366e390/expr.png\" style=\"display:inline;vertical-align:middle;\" /></a></td></tr>\n",
       "<tr><td>29</td><td>Variable</td><td></td><td><a class=\"ProveItLink\" href=\"../../../../../__pv_it/common/4eca3b30dcf58a58494e201d1b7886d8643a617b0/expr.ipynb\"><img src=\"../../../../../__pv_it/common/4eca3b30dcf58a58494e201d1b7886d8643a617b0/expr.png\" style=\"display:inline;vertical-align:middle;\" /></a></td></tr>\n",
       "<tr><td>30</td><td>Variable</td><td></td><td><a class=\"ProveItLink\" href=\"../../../../../__pv_it/common/e5e296931d7f88d2c0ed4dd1b8498a680788952f0/expr.ipynb\"><img src=\"../../../../../__pv_it/common/e5e296931d7f88d2c0ed4dd1b8498a680788952f0/expr.png\" style=\"display:inline;vertical-align:middle;\" /></a></td></tr>\n",
       "<tr><td>31</td><td>Variable</td><td></td><td><a class=\"ProveItLink\" href=\"../../../../../__pv_it/common/259d0846cd49c4882c35ec84d7a0b180713721cc0/expr.ipynb\"><img src=\"../../../../../__pv_it/common/259d0846cd49c4882c35ec84d7a0b180713721cc0/expr.png\" style=\"display:inline;vertical-align:middle;\" /></a></td></tr>\n",
       "<tr><td>32</td><td>ExprTuple</td><td>33, 34</td><td><a class=\"ProveItLink\" href=\"../../../../../core_expr_types/expr_arrays/__pv_it/common/8cc0879db459b7e49bd46852f9da16970a0f1f110/expr.ipynb\"><img src=\"../../../../../core_expr_types/expr_arrays/__pv_it/common/8cc0879db459b7e49bd46852f9da16970a0f1f110/expr.png\" style=\"display:inline;vertical-align:middle;\" /></a></td></tr>\n",
       "<tr><td>33</td><td>Variable</td><td></td><td><a class=\"ProveItLink\" href=\"../../../../../__pv_it/common/575a6156bb1c87c5beeaf38c302b5905ad57f5780/expr.ipynb\"><img src=\"../../../../../__pv_it/common/575a6156bb1c87c5beeaf38c302b5905ad57f5780/expr.png\" style=\"display:inline;vertical-align:middle;\" /></a></td></tr>\n",
       "<tr><td>34</td><td>Variable</td><td></td><td><a class=\"ProveItLink\" href=\"../../../../../__pv_it/common/5514cc9a63b9c2ed9b63934dd5e088ab0d4f10080/expr.ipynb\"><img src=\"../../../../../__pv_it/common/5514cc9a63b9c2ed9b63934dd5e088ab0d4f10080/expr.png\" style=\"display:inline;vertical-align:middle;\" /></a></td></tr>\n",
       "</table>\n"
      ],
      "text/plain": [
       "0. ( MultiQubitGate(B_{1, 1}, S_{1, 1})  & ..MultiQubitGate(B_{1, j}, S_{1, j})..  & MultiQubitGate(B_{1, n}, S_{1, n})   \\\\ \n",
       "   \\colon  & \\colon  & \\colon   \\\\ \n",
       "   MultiQubitGate(B_{i, 1}, S_{i, 1})  & ..MultiQubitGate(B_{i, j}, S_{i, j})..  & MultiQubitGate(B_{i, n}, S_{i, n})   \\\\ \n",
       "   \\colon  & \\colon  & \\colon   \\\\ \n",
       "   MultiQubitGate(B_{m, 1}, S_{m, 1})  & ..MultiQubitGate(B_{m, j}, S_{m, j})..  & MultiQubitGate(B_{m, n}, S_{m, n}),  MultiQubitGate(D_{1, 1}, S_{1, 1})  & ..MultiQubitGate(D_{1, j}, S_{1, j})..  & MultiQubitGate(D_{1, n}, S_{1, n})   \\\\ \n",
       "   \\colon  & \\colon  & \\colon   \\\\ \n",
       "   MultiQubitGate(D_{i, 1}, S_{i, 1})  & ..MultiQubitGate(D_{i, j}, S_{i, j})..  & MultiQubitGate(D_{i, n}, S_{i, n})   \\\\ \n",
       "   \\colon  & \\colon  & \\colon   \\\\ \n",
       "   MultiQubitGate(D_{m, 1}, S_{m, 1})  & ..MultiQubitGate(D_{m, j}, S_{m, j})..  & MultiQubitGate(D_{m, n}, S_{m, n}))\n",
       "   core type: ExprTuple\n",
       "   sub-expressions: 1, 2\n",
       "1.  MultiQubitGate(B_{1, 1}, S_{1, 1})  & ..MultiQubitGate(B_{1, j}, S_{1, j})..  & MultiQubitGate(B_{1, n}, S_{1, n})   \\\\ \n",
       "   \\colon  & \\colon  & \\colon   \\\\ \n",
       "   MultiQubitGate(B_{i, 1}, S_{i, 1})  & ..MultiQubitGate(B_{i, j}, S_{i, j})..  & MultiQubitGate(B_{i, n}, S_{i, n})   \\\\ \n",
       "   \\colon  & \\colon  & \\colon   \\\\ \n",
       "   MultiQubitGate(B_{m, 1}, S_{m, 1})  & ..MultiQubitGate(B_{m, j}, S_{m, j})..  & MultiQubitGate(B_{m, n}, S_{m, n})\n",
       "   core type: Operation\n",
       "   operator: 4\n",
       "   operand: 6\n",
       "2.  MultiQubitGate(D_{1, 1}, S_{1, 1})  & ..MultiQubitGate(D_{1, j}, S_{1, j})..  & MultiQubitGate(D_{1, n}, S_{1, n})   \\\\ \n",
       "   \\colon  & \\colon  & \\colon   \\\\ \n",
       "   MultiQubitGate(D_{i, 1}, S_{i, 1})  & ..MultiQubitGate(D_{i, j}, S_{i, j})..  & MultiQubitGate(D_{i, n}, S_{i, n})   \\\\ \n",
       "   \\colon  & \\colon  & \\colon   \\\\ \n",
       "   MultiQubitGate(D_{m, 1}, S_{m, 1})  & ..MultiQubitGate(D_{m, j}, S_{m, j})..  & MultiQubitGate(D_{m, n}, S_{m, n})\n",
       "   core type: Operation\n",
       "   operator: 4\n",
       "   operand: 7\n",
       "3. ((MultiQubitGate(B_{1, 1}, S_{1, 1}) & ..MultiQubitGate(B_{1, j}, S_{1, j}).. & MultiQubitGate(B_{1, n}, S_{1, n})  \\\\ \n",
       "  \\colon & \\colon & \\colon  \\\\ \n",
       "  MultiQubitGate(B_{i, 1}, S_{i, 1}) & ..MultiQubitGate(B_{i, j}, S_{i, j}).. & MultiQubitGate(B_{i, n}, S_{i, n})  \\\\ \n",
       "  \\colon & \\colon & \\colon  \\\\ \n",
       "  MultiQubitGate(B_{m, 1}, S_{m, 1}) & ..MultiQubitGate(B_{m, j}, S_{m, j}).. & MultiQubitGate(B_{m, n}, S_{m, n})))\n",
       "   core type: ExprTuple\n",
       "   sub-expressions: 6\n",
       "4. CIRCUIT\n",
       "   core type: Literal\n",
       "   sub-expressions: \n",
       "5. ((MultiQubitGate(D_{1, 1}, S_{1, 1}) & ..MultiQubitGate(D_{1, j}, S_{1, j}).. & MultiQubitGate(D_{1, n}, S_{1, n})  \\\\ \n",
       "  \\colon & \\colon & \\colon  \\\\ \n",
       "  MultiQubitGate(D_{i, 1}, S_{i, 1}) & ..MultiQubitGate(D_{i, j}, S_{i, j}).. & MultiQubitGate(D_{i, n}, S_{i, n})  \\\\ \n",
       "  \\colon & \\colon & \\colon  \\\\ \n",
       "  MultiQubitGate(D_{m, 1}, S_{m, 1}) & ..MultiQubitGate(D_{m, j}, S_{m, j}).. & MultiQubitGate(D_{m, n}, S_{m, n})))\n",
       "   core type: ExprTuple\n",
       "   sub-expressions: 7\n",
       "6. MultiQubitGate(B_{1, 1}, S_{1, 1}) & ..MultiQubitGate(B_{1, j}, S_{1, j}).. & MultiQubitGate(B_{1, n}, S_{1, n})  \\\\ \n",
       "  \\colon & \\colon & \\colon  \\\\ \n",
       "  MultiQubitGate(B_{i, 1}, S_{i, 1}) & ..MultiQubitGate(B_{i, j}, S_{i, j}).. & MultiQubitGate(B_{i, n}, S_{i, n})  \\\\ \n",
       "  \\colon & \\colon & \\colon  \\\\ \n",
       "  MultiQubitGate(B_{m, 1}, S_{m, 1}) & ..MultiQubitGate(B_{m, j}, S_{m, j}).. & MultiQubitGate(B_{m, n}, S_{m, n})\n",
       "   core type: ExprTuple\n",
       "   sub-expressions: 8\n",
       "7. MultiQubitGate(D_{1, 1}, S_{1, 1}) & ..MultiQubitGate(D_{1, j}, S_{1, j}).. & MultiQubitGate(D_{1, n}, S_{1, n})  \\\\ \n",
       "  \\colon & \\colon & \\colon  \\\\ \n",
       "  MultiQubitGate(D_{i, 1}, S_{i, 1}) & ..MultiQubitGate(D_{i, j}, S_{i, j}).. & MultiQubitGate(D_{i, n}, S_{i, n})  \\\\ \n",
       "  \\colon & \\colon & \\colon  \\\\ \n",
       "  MultiQubitGate(D_{m, 1}, S_{m, 1}) & ..MultiQubitGate(D_{m, j}, S_{m, j}).. & MultiQubitGate(D_{m, n}, S_{m, n})\n",
       "   core type: ExprTuple\n",
       "   sub-expressions: 9\n",
       "8. (MultiQubitGate(B_{1, 1}, S_{1, 1}), ..MultiQubitGate(B_{1, j}, S_{1, j}).., MultiQubitGate(B_{1, n}, S_{1, n})), ..(MultiQubitGate(B_{i, 1}, S_{i, 1}), ..MultiQubitGate(B_{i, j}, S_{i, j}).., MultiQubitGate(B_{i, n}, S_{i, n})).., (MultiQubitGate(B_{m, 1}, S_{m, 1}), ..MultiQubitGate(B_{m, j}, S_{m, j}).., MultiQubitGate(B_{m, n}, S_{m, n}))\n",
       "   core type: ExprRange\n",
       "   lambda_map: 10\n",
       "   start_index: 19\n",
       "   end_index: 12\n",
       "9. (MultiQubitGate(D_{1, 1}, S_{1, 1}), ..MultiQubitGate(D_{1, j}, S_{1, j}).., MultiQubitGate(D_{1, n}, S_{1, n})), ..(MultiQubitGate(D_{i, 1}, S_{i, 1}), ..MultiQubitGate(D_{i, j}, S_{i, j}).., MultiQubitGate(D_{i, n}, S_{i, n})).., (MultiQubitGate(D_{m, 1}, S_{m, 1}), ..MultiQubitGate(D_{m, j}, S_{m, j}).., MultiQubitGate(D_{m, n}, S_{m, n}))\n",
       "   core type: ExprRange\n",
       "   lambda_map: 11\n",
       "   start_index: 19\n",
       "   end_index: 12\n",
       "10. i -> (MultiQubitGate(B_{i, 1}, S_{i, 1}), ..MultiQubitGate(B_{i, j}, S_{i, j}).., MultiQubitGate(B_{i, n}, S_{i, n}))\n",
       "    core type: Lambda\n",
       "    parameter: 33\n",
       "    body: 13\n",
       "11. i -> (MultiQubitGate(D_{i, 1}, S_{i, 1}), ..MultiQubitGate(D_{i, j}, S_{i, j}).., MultiQubitGate(D_{i, n}, S_{i, n}))\n",
       "    core type: Lambda\n",
       "    parameter: 33\n",
       "    body: 14\n",
       "12. m\n",
       "    core type: Variable\n",
       "    sub-expressions: \n",
       "13. (MultiQubitGate(B_{i, 1}, S_{i, 1}), ..MultiQubitGate(B_{i, j}, S_{i, j}).., MultiQubitGate(B_{i, n}, S_{i, n}))\n",
       "    core type: ExprTuple\n",
       "    sub-expressions: 15\n",
       "14. (MultiQubitGate(D_{i, 1}, S_{i, 1}), ..MultiQubitGate(D_{i, j}, S_{i, j}).., MultiQubitGate(D_{i, n}, S_{i, n}))\n",
       "    core type: ExprTuple\n",
       "    sub-expressions: 16\n",
       "15. MultiQubitGate(B_{i, 1}, S_{i, 1}), ..MultiQubitGate(B_{i, j}, S_{i, j}).., MultiQubitGate(B_{i, n}, S_{i, n})\n",
       "    core type: ExprRange\n",
       "    lambda_map: 17\n",
       "    start_index: 19\n",
       "    end_index: 20\n",
       "16. MultiQubitGate(D_{i, 1}, S_{i, 1}), ..MultiQubitGate(D_{i, j}, S_{i, j}).., MultiQubitGate(D_{i, n}, S_{i, n})\n",
       "    core type: ExprRange\n",
       "    lambda_map: 18\n",
       "    start_index: 19\n",
       "    end_index: 20\n",
       "17. j -> MultiQubitGate(B_{i, j}, S_{i, j})\n",
       "    core type: Lambda\n",
       "    parameter: 34\n",
       "    body: 21\n",
       "18. j -> MultiQubitGate(D_{i, j}, S_{i, j})\n",
       "    core type: Lambda\n",
       "    parameter: 34\n",
       "    body: 22\n",
       "19. 1\n",
       "    core type: Literal\n",
       "    sub-expressions: \n",
       "20. n\n",
       "    core type: Variable\n",
       "    sub-expressions: \n",
       "21. MultiQubitGate(B_{i, j}, S_{i, j})\n",
       "    core type: Operation\n",
       "    operator: 24\n",
       "    operands: 23\n",
       "22. MultiQubitGate(D_{i, j}, S_{i, j})\n",
       "    core type: Operation\n",
       "    operator: 24\n",
       "    operands: 25\n",
       "23. (B_{i, j}, S_{i, j})\n",
       "    core type: ExprTuple\n",
       "    sub-expressions: 26, 28\n",
       "24. MULTI_QUBIT_GATE\n",
       "    core type: Literal\n",
       "    sub-expressions: \n",
       "25. (D_{i, j}, S_{i, j})\n",
       "    core type: ExprTuple\n",
       "    sub-expressions: 27, 28\n",
       "26. B_{i, j}\n",
       "    core type: IndexedVar\n",
       "variable: 29\n",
       "indices: 32\n",
       "27. D_{i, j}\n",
       "    core type: IndexedVar\n",
       "variable: 30\n",
       "indices: 32\n",
       "28. S_{i, j}\n",
       "    core type: IndexedVar\n",
       "variable: 31\n",
       "indices: 32\n",
       "29. B\n",
       "    core type: Variable\n",
       "    sub-expressions: \n",
       "30. D\n",
       "    core type: Variable\n",
       "    sub-expressions: \n",
       "31. S\n",
       "    core type: Variable\n",
       "    sub-expressions: \n",
       "32. (i, j)\n",
       "    core type: ExprTuple\n",
       "    sub-expressions: 33, 34\n",
       "33. i\n",
       "    core type: Variable\n",
       "    sub-expressions: \n",
       "34. j\n",
       "    core type: Variable\n",
       "    sub-expressions: "
      ]
     },
     "execution_count": 6,
     "metadata": {},
     "output_type": "execute_result"
    }
   ],
   "source": [
    "# display the expression information\n",
    "expr.expr_info()"
   ]
  },
  {
   "cell_type": "code",
   "execution_count": null,
   "metadata": {},
   "outputs": [],
   "source": []
  }
 ],
 "metadata": {
  "kernelspec": {
   "display_name": "Python 3",
   "language": "python",
   "name": "python3"
  }
 },
 "nbformat": 4,
 "nbformat_minor": 0
}