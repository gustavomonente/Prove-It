{
 "cells": [
  {
   "cell_type": "markdown",
   "metadata": {},
   "source": [
    "Temporary notebook for <a class=\"ProveItLink\" href=\"../../../_theorems_.ipynb#temporal_circuit_substitution\">temporal_circuit_substitution</a> of type <a href=\"../../../../../../../doc/html/api/proveit.logic.Forall.html\">Forall</a>\n",
    "=======================\n",
    "# a not-yet-official theorem from the theory of <a class=\"ProveItLink\" href=\"../../../_theory_nbs_/theory.ipynb\">proveit.physics.quantum</a>"
   ]
  },
  {
   "cell_type": "code",
   "execution_count": null,
   "metadata": {},
   "outputs": [],
   "source": [
    "import proveit\n",
    "# Automation is not needed when building an expression:\n",
    "proveit.defaults.automation = False # This will speed things up\n",
    "proveit.defaults.inline_pngs = False # Makes files smaller.\n",
    "%load_theorem_expr # Load the stored theorem expression as 'stored_expr'\n",
    "# import Expression classes needed to build the expression\n",
    "from proveit import A, B, C, ExprArray, ExprRange, IndexedVar, P, Q, R, Variable, g, h, i, j, k, m, n\n",
    "from proveit.core_expr_types.expr_arrays import Aij, Bij, Cij, D11_to_Dmn, Dij, Pij, Qij, Rij, S11_to_Smn, Sij\n",
    "from proveit.logic import And, Forall, Implies\n",
    "from proveit.numbers import NaturalPos, one\n",
    "from proveit.physics.quantum.circuit import Circuit, CircuitEquiv, MultiQubitGate"
   ]
  },
  {
   "cell_type": "code",
   "execution_count": null,
   "metadata": {},
   "outputs": [],
   "source": [
    "# build up the expression from sub-expressions\n",
    "sub_expr1 = Variable(\"_a\", latex_format = r\"{_{-}a}\")\n",
    "sub_expr2 = Variable(\"_b\", latex_format = r\"{_{-}b}\")\n",
    "sub_expr3 = [sub_expr1, sub_expr2]\n",
    "sub_expr4 = ExprRange(j, MultiQubitGate(Bij, Qij), one, h)\n",
    "sub_expr5 = ExprRange(j, MultiQubitGate(Dij, Sij), one, n)\n",
    "sub_expr6 = ExprRange(j, MultiQubitGate(Aij, Pij), one, g)\n",
    "sub_expr7 = ExprRange(j, MultiQubitGate(Cij, Rij), one, k)\n",
    "expr = Forall([g, h, k, m, n], Forall([ExprRange(sub_expr1, ExprRange(sub_expr2, IndexedVar(A, sub_expr3), one, g), one, m), ExprRange(sub_expr1, ExprRange(sub_expr2, IndexedVar(B, sub_expr3), one, h), one, m), ExprRange(sub_expr1, ExprRange(sub_expr2, IndexedVar(C, sub_expr3), one, k), one, m), D11_to_Dmn, ExprRange(sub_expr1, ExprRange(sub_expr2, IndexedVar(P, sub_expr3), one, g), one, m), ExprRange(sub_expr1, ExprRange(sub_expr2, IndexedVar(Q, sub_expr3), one, h), one, m), ExprRange(sub_expr1, ExprRange(sub_expr2, IndexedVar(R, sub_expr3), one, k), one, m), S11_to_Smn], Implies(And(CircuitEquiv(Circuit(ExprArray(ExprRange(i, [sub_expr4], one, m))), Circuit(ExprArray(ExprRange(i, [sub_expr5], one, m)))), Circuit(ExprArray(ExprRange(i, [sub_expr6, sub_expr4, sub_expr7], one, m)))), Circuit(ExprArray(ExprRange(i, [sub_expr6, sub_expr5, sub_expr7], one, m)))).with_wrapping_at(2)).wrap_params(), domains = [NaturalPos, NaturalPos, NaturalPos, NaturalPos, NaturalPos])"
   ]
  },
  {
   "cell_type": "code",
   "execution_count": null,
   "metadata": {},
   "outputs": [],
   "source": [
    "# check that the built expression is the same as the stored expression\n",
    "assert expr == stored_expr\n",
    "assert expr._style_id == stored_expr._style_id\n",
    "print(\"Passed sanity check: temporal_circuit_substitution matches stored_expr\")"
   ]
  },
  {
   "cell_type": "code",
   "execution_count": null,
   "metadata": {},
   "outputs": [],
   "source": [
    "# Show the LaTeX representation of the expression for convenience if you need it.\n",
    "print(expr.latex())"
   ]
  },
  {
   "cell_type": "code",
   "execution_count": null,
   "metadata": {},
   "outputs": [],
   "source": [
    "# display the expression information\n",
    "expr.expr_info()"
   ]
  },
  {
   "cell_type": "code",
   "execution_count": null,
   "metadata": {},
   "outputs": [],
   "source": []
  }
 ],
 "metadata": {
  "kernelspec": {
   "display_name": "Python 3",
   "language": "python",
   "name": "python3"
  }
 },
 "nbformat": 4,
 "nbformat_minor": 0
}