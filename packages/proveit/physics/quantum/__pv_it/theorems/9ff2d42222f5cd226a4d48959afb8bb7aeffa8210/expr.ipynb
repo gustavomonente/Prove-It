{
 "cells": [
  {
   "cell_type": "markdown",
   "metadata": {},
   "source": [
    "Expression of type <a class=\"ProveItLink\" href=\"../../../../../../../doc/html/api/proveit.Conditional.html\">Conditional</a>\n",
    "=======================\n",
    "# from the theory of <a class=\"ProveItLink\" href=\"../../../_theory_nbs_/theory.ipynb\">proveit.physics.quantum</a>"
   ]
  },
  {
   "cell_type": "code",
   "execution_count": 1,
   "metadata": {},
   "outputs": [],
   "source": [
    "import proveit\n",
    "# Automation is not needed when building an expression:\n",
    "proveit.defaults.automation = False # This will speed things up.\n",
    "proveit.defaults.inline_pngs = False # Makes files smaller.\n",
    "%load_expr # Load the stored expression as 'stored_expr'\n",
    "# import Expression classes needed to build the expression\n",
    "from proveit import Conditional, U, x\n",
    "from proveit.linalg import MatrixProd, SU\n",
    "from proveit.logic import Forall, InSet\n",
    "from proveit.numbers import two\n",
    "from proveit.physics.quantum import QubitSpace"
   ]
  },
  {
   "cell_type": "code",
   "execution_count": 2,
   "metadata": {},
   "outputs": [
    {
     "data": {
      "text/html": [
       "<strong id=\"expr\">expr:</strong> <a class=\"ProveItLink\" href=\"expr.ipynb\"><img src=\"expr.png\" style=\"display:inline;vertical-align:middle;\" /></a><br>"
      ],
      "text/plain": [
       "expr: {forall_{U in SU(2)} ((U . x) in Complex^{2}) if x in Complex^{2}."
      ]
     },
     "execution_count": 2,
     "metadata": {},
     "output_type": "execute_result"
    }
   ],
   "source": [
    "# build up the expression from sub-expressions\n",
    "expr = Conditional(Forall([U], InSet(MatrixProd(U, x), QubitSpace), domains = [SU(two)]), InSet(x, QubitSpace))"
   ]
  },
  {
   "cell_type": "code",
   "execution_count": 3,
   "metadata": {},
   "outputs": [
    {
     "name": "stdout",
     "output_type": "stream",
     "text": [
      "Passed sanity check: expr matches stored_expr\n"
     ]
    }
   ],
   "source": [
    "# check that the built expression is the same as the stored expression\n",
    "assert expr == stored_expr\n",
    "assert expr._style_id == stored_expr._style_id\n",
    "print(\"Passed sanity check: expr matches stored_expr\")"
   ]
  },
  {
   "cell_type": "code",
   "execution_count": 4,
   "metadata": {},
   "outputs": [
    {
     "name": "stdout",
     "output_type": "stream",
     "text": [
      "\\left\\{\\forall_{U \\in SU(2)}~\\left(\\left(U \\thinspace x\\right) \\in \\mathbb{C}^{2}\\right) \\textrm{ if } x \\in \\mathbb{C}^{2}\\right..\n"
     ]
    }
   ],
   "source": [
    "# Show the LaTeX representation of the expression for convenience if you need it.\n",
    "print(expr.latex())"
   ]
  },
  {
   "cell_type": "code",
   "execution_count": 5,
   "metadata": {},
   "outputs": [
    {
     "data": {
      "text/html": [
       "<table>\n",
       "<tr><th>name</th><th>description</th><th>default</th><th>current value</th><th>related methods</th></tr><tr><td>condition_delimiter</td><td>'comma' or 'and'</td><td>comma</td><td>comma</td><td>('with_comma_delimiter', 'with_conjunction_delimiter')</td></tr>\n",
       "</table>\n"
      ],
      "text/plain": [
       "style name: condition_delimiter\n",
       "description: 'comma' or 'and'\n",
       "default: comma\n",
       "current value: comma\n",
       "related methods: ('with_comma_delimiter', 'with_conjunction_delimiter')"
      ]
     },
     "execution_count": 5,
     "metadata": {},
     "output_type": "execute_result"
    }
   ],
   "source": [
    "expr.style_options()"
   ]
  },
  {
   "cell_type": "code",
   "execution_count": 6,
   "metadata": {},
   "outputs": [
    {
     "data": {
      "text/html": [
       "<table><tr><th>&nbsp;</th><th>core type</th><th>sub-expressions</th><th>expression</th></tr>\n",
       "<tr><td>0</td><td>Conditional</td><td>value:&nbsp;1<br>condition:&nbsp;2<br></td><td><a class=\"ProveItLink\" href=\"expr.ipynb\"><img src=\"expr.png\" style=\"display:inline;vertical-align:middle;\" /></a></td></tr>\n",
       "<tr><td>1</td><td>Operation</td><td>operator:&nbsp;3<br>operand:&nbsp;6<br></td><td><a class=\"ProveItLink\" href=\"../f3576c9e6a63e6e19129c25fdee0aa853534b2880/expr.ipynb\"><img src=\"../f3576c9e6a63e6e19129c25fdee0aa853534b2880/expr.png\" style=\"display:inline;vertical-align:middle;\" /></a></td></tr>\n",
       "<tr><td>2</td><td>Operation</td><td>operator:&nbsp;11<br>operands:&nbsp;5<br></td><td><a class=\"ProveItLink\" href=\"../bcbb91359817e2a7b9d9ac3f646f98bc067046230/expr.ipynb\"><img src=\"../bcbb91359817e2a7b9d9ac3f646f98bc067046230/expr.png\" style=\"display:inline;vertical-align:middle;\" /></a></td></tr>\n",
       "<tr><td>3</td><td>Literal</td><td></td><td><a class=\"ProveItLink\" href=\"../../../../../logic/booleans/quantification/universality/__pv_it/common/684d35ba98fcbf8ca5011f865e530a51e77730630/expr.ipynb\"><img src=\"../../../../../logic/booleans/quantification/universality/__pv_it/common/684d35ba98fcbf8ca5011f865e530a51e77730630/expr.png\" style=\"display:inline;vertical-align:middle;\" /></a></td></tr>\n",
       "<tr><td>4</td><td>ExprTuple</td><td>6</td><td><a class=\"ProveItLink\" href=\"../cb0189274274bc144b83db76b3e194fd36bcc7e20/expr.ipynb\"><img src=\"../cb0189274274bc144b83db76b3e194fd36bcc7e20/expr.png\" style=\"display:inline;vertical-align:middle;\" /></a></td></tr>\n",
       "<tr><td>5</td><td>ExprTuple</td><td>23, 14</td><td><a class=\"ProveItLink\" href=\"../29d8d05c2fce423047106d214909580f7d74b17b0/expr.ipynb\"><img src=\"../29d8d05c2fce423047106d214909580f7d74b17b0/expr.png\" style=\"display:inline;vertical-align:middle;\" /></a></td></tr>\n",
       "<tr><td>6</td><td>Lambda</td><td>parameter:&nbsp;22<br>body:&nbsp;7<br></td><td><a class=\"ProveItLink\" href=\"../467e90091f1e046cf7edc4fd33396defe3edcc2f0/expr.ipynb\"><img src=\"../467e90091f1e046cf7edc4fd33396defe3edcc2f0/expr.png\" style=\"display:inline;vertical-align:middle;\" /></a></td></tr>\n",
       "<tr><td>7</td><td>Conditional</td><td>value:&nbsp;8<br>condition:&nbsp;9<br></td><td><a class=\"ProveItLink\" href=\"../4ab1f9b1e3761f21bf3818e33ac43e37838e59fe0/expr.ipynb\"><img src=\"../4ab1f9b1e3761f21bf3818e33ac43e37838e59fe0/expr.png\" style=\"display:inline;vertical-align:middle;\" /></a></td></tr>\n",
       "<tr><td>8</td><td>Operation</td><td>operator:&nbsp;11<br>operands:&nbsp;10<br></td><td><a class=\"ProveItLink\" href=\"../5398393c5e29f018a78af57eb4ba4d35d9b855fa0/expr.ipynb\"><img src=\"../5398393c5e29f018a78af57eb4ba4d35d9b855fa0/expr.png\" style=\"display:inline;vertical-align:middle;\" /></a></td></tr>\n",
       "<tr><td>9</td><td>Operation</td><td>operator:&nbsp;11<br>operands:&nbsp;12<br></td><td><a class=\"ProveItLink\" href=\"../c9647877d86917eaab1c600a47bcc76cfd68b2880/expr.ipynb\"><img src=\"../c9647877d86917eaab1c600a47bcc76cfd68b2880/expr.png\" style=\"display:inline;vertical-align:middle;\" /></a></td></tr>\n",
       "<tr><td>10</td><td>ExprTuple</td><td>13, 14</td><td><a class=\"ProveItLink\" href=\"../ab00f7c728f8cddb16c52c8a91499c4b3e06ebb10/expr.ipynb\"><img src=\"../ab00f7c728f8cddb16c52c8a91499c4b3e06ebb10/expr.png\" style=\"display:inline;vertical-align:middle;\" /></a></td></tr>\n",
       "<tr><td>11</td><td>Literal</td><td></td><td><a class=\"ProveItLink\" href=\"../../../../../logic/sets/membership/__pv_it/common/7171deca84f71f47a6ec7696972d1632274a12880/expr.ipynb\"><img src=\"../../../../../logic/sets/membership/__pv_it/common/7171deca84f71f47a6ec7696972d1632274a12880/expr.png\" style=\"display:inline;vertical-align:middle;\" /></a></td></tr>\n",
       "<tr><td>12</td><td>ExprTuple</td><td>22, 15</td><td><a class=\"ProveItLink\" href=\"../01c2265f56dd237e3cc38bde91db0dbedb15a53b0/expr.ipynb\"><img src=\"../01c2265f56dd237e3cc38bde91db0dbedb15a53b0/expr.png\" style=\"display:inline;vertical-align:middle;\" /></a></td></tr>\n",
       "<tr><td>13</td><td>Operation</td><td>operator:&nbsp;16<br>operands:&nbsp;17<br></td><td><a class=\"ProveItLink\" href=\"../1988c2c08e13739a78bf7860f6ae5917265d12c40/expr.ipynb\"><img src=\"../1988c2c08e13739a78bf7860f6ae5917265d12c40/expr.png\" style=\"display:inline;vertical-align:middle;\" /></a></td></tr>\n",
       "<tr><td>14</td><td>Operation</td><td>operator:&nbsp;18<br>operands:&nbsp;19<br></td><td><a class=\"ProveItLink\" href=\"../../common/bcc2ec3b41a8488455e0f3f0d58e9b2fb88b32f00/expr.ipynb\"><img src=\"../../common/bcc2ec3b41a8488455e0f3f0d58e9b2fb88b32f00/expr.png\" style=\"display:inline;vertical-align:middle;\" /></a></td></tr>\n",
       "<tr><td>15</td><td>Operation</td><td>operator:&nbsp;20<br>operand:&nbsp;25<br></td><td><a class=\"ProveItLink\" href=\"../bb90a3cee06f62e43da813f864af40f4ebf0697a0/expr.ipynb\"><img src=\"../bb90a3cee06f62e43da813f864af40f4ebf0697a0/expr.png\" style=\"display:inline;vertical-align:middle;\" /></a></td></tr>\n",
       "<tr><td>16</td><td>Literal</td><td></td><td><a class=\"ProveItLink\" href=\"../../../../../linalg/__pv_it/common/cedd15e03eb218ba0d47139c30dd28b5f58bcb880/expr.ipynb\"><img src=\"../../../../../linalg/__pv_it/common/cedd15e03eb218ba0d47139c30dd28b5f58bcb880/expr.png\" style=\"display:inline;vertical-align:middle;\" /></a></td></tr>\n",
       "<tr><td>17</td><td>ExprTuple</td><td>22, 23</td><td><a class=\"ProveItLink\" href=\"../cebcca705006c1890040ae95da3592fe4e45bef80/expr.ipynb\"><img src=\"../cebcca705006c1890040ae95da3592fe4e45bef80/expr.png\" style=\"display:inline;vertical-align:middle;\" /></a></td></tr>\n",
       "<tr><td>18</td><td>Literal</td><td></td><td><a class=\"ProveItLink\" href=\"../../../../../numbers/exponentiation/__pv_it/common/31d1b89e3c2fad7d997556c69b6be6425b6f59a40/expr.ipynb\"><img src=\"../../../../../numbers/exponentiation/__pv_it/common/31d1b89e3c2fad7d997556c69b6be6425b6f59a40/expr.png\" style=\"display:inline;vertical-align:middle;\" /></a></td></tr>\n",
       "<tr><td>19</td><td>ExprTuple</td><td>24, 25</td><td><a class=\"ProveItLink\" href=\"../../common/e92cd31e436e526f58bf99933bcf3768c6d89df40/expr.ipynb\"><img src=\"../../common/e92cd31e436e526f58bf99933bcf3768c6d89df40/expr.png\" style=\"display:inline;vertical-align:middle;\" /></a></td></tr>\n",
       "<tr><td>20</td><td>Literal</td><td></td><td><a class=\"ProveItLink\" href=\"../../../../../linalg/__pv_it/common/724831169fd6f671f86f127cecd34e6ec36b67550/expr.ipynb\"><img src=\"../../../../../linalg/__pv_it/common/724831169fd6f671f86f127cecd34e6ec36b67550/expr.png\" style=\"display:inline;vertical-align:middle;\" /></a></td></tr>\n",
       "<tr><td>21</td><td>ExprTuple</td><td>25</td><td><a class=\"ProveItLink\" href=\"../edbcbc917d0d4ded75b634f8dd6c41a04efbc0c40/expr.ipynb\"><img src=\"../edbcbc917d0d4ded75b634f8dd6c41a04efbc0c40/expr.png\" style=\"display:inline;vertical-align:middle;\" /></a></td></tr>\n",
       "<tr><td>22</td><td>Variable</td><td></td><td><a class=\"ProveItLink\" href=\"../../../../../__pv_it/common/6ddf39b7b2366eff1df3a68b2f717158052394110/expr.ipynb\"><img src=\"../../../../../__pv_it/common/6ddf39b7b2366eff1df3a68b2f717158052394110/expr.png\" style=\"display:inline;vertical-align:middle;\" /></a></td></tr>\n",
       "<tr><td>23</td><td>Variable</td><td></td><td><a class=\"ProveItLink\" href=\"../../../../../__pv_it/common/a2581dc5df71d9a30bad37de14965fa5fec97a240/expr.ipynb\"><img src=\"../../../../../__pv_it/common/a2581dc5df71d9a30bad37de14965fa5fec97a240/expr.png\" style=\"display:inline;vertical-align:middle;\" /></a></td></tr>\n",
       "<tr><td>24</td><td>Literal</td><td></td><td><a class=\"ProveItLink\" href=\"../../../../../numbers/number_sets/complex_numbers/__pv_it/common/fbfabc61f6f66350b130e5a55a72b80825c065f90/expr.ipynb\"><img src=\"../../../../../numbers/number_sets/complex_numbers/__pv_it/common/fbfabc61f6f66350b130e5a55a72b80825c065f90/expr.png\" style=\"display:inline;vertical-align:middle;\" /></a></td></tr>\n",
       "<tr><td>25</td><td>Literal</td><td></td><td><a class=\"ProveItLink\" href=\"../../../../../numbers/numerals/__pv_it/common/3829356ce3fdf8f35810c63c00bc1a19e838663e0/expr.ipynb\"><img src=\"../../../../../numbers/numerals/__pv_it/common/3829356ce3fdf8f35810c63c00bc1a19e838663e0/expr.png\" style=\"display:inline;vertical-align:middle;\" /></a></td></tr>\n",
       "</table>\n"
      ],
      "text/plain": [
       "0. {forall_{U in SU(2)} ((U . x) in Complex^{2}) if x in Complex^{2}.\n",
       "   core type: Conditional\n",
       "   value: 1\n",
       "   condition: 2\n",
       "1. forall_{U in SU(2)} ((U . x) in Complex^{2})\n",
       "   core type: Operation\n",
       "   operator: 3\n",
       "   operand: 6\n",
       "2. x in Complex^{2}\n",
       "   core type: Operation\n",
       "   operator: 11\n",
       "   operands: 5\n",
       "3. forall\n",
       "   core type: Literal\n",
       "   sub-expressions: \n",
       "4. (U -> {(U . x) in Complex^{2} if U in SU(2).)\n",
       "   core type: ExprTuple\n",
       "   sub-expressions: 6\n",
       "5. (x, Complex^{2})\n",
       "   core type: ExprTuple\n",
       "   sub-expressions: 23, 14\n",
       "6. U -> {(U . x) in Complex^{2} if U in SU(2).\n",
       "   core type: Lambda\n",
       "   parameter: 22\n",
       "   body: 7\n",
       "7. {(U . x) in Complex^{2} if U in SU(2).\n",
       "   core type: Conditional\n",
       "   value: 8\n",
       "   condition: 9\n",
       "8. (U . x) in Complex^{2}\n",
       "   core type: Operation\n",
       "   operator: 11\n",
       "   operands: 10\n",
       "9. U in SU(2)\n",
       "   core type: Operation\n",
       "   operator: 11\n",
       "   operands: 12\n",
       "10. (U . x, Complex^{2})\n",
       "    core type: ExprTuple\n",
       "    sub-expressions: 13, 14\n",
       "11. in\n",
       "    core type: Literal\n",
       "    sub-expressions: \n",
       "12. (U, SU(2))\n",
       "    core type: ExprTuple\n",
       "    sub-expressions: 22, 15\n",
       "13. U . x\n",
       "    core type: Operation\n",
       "    operator: 16\n",
       "    operands: 17\n",
       "14. Complex^{2}\n",
       "    core type: Operation\n",
       "    operator: 18\n",
       "    operands: 19\n",
       "15. SU(2)\n",
       "    core type: Operation\n",
       "    operator: 20\n",
       "    operand: 25\n",
       "16. .\n",
       "    core type: Literal\n",
       "    sub-expressions: \n",
       "17. (U, x)\n",
       "    core type: ExprTuple\n",
       "    sub-expressions: 22, 23\n",
       "18. Exp\n",
       "    core type: Literal\n",
       "    sub-expressions: \n",
       "19. (Complex, 2)\n",
       "    core type: ExprTuple\n",
       "    sub-expressions: 24, 25\n",
       "20. SU\n",
       "    core type: Literal\n",
       "    sub-expressions: \n",
       "21. (2)\n",
       "    core type: ExprTuple\n",
       "    sub-expressions: 25\n",
       "22. U\n",
       "    core type: Variable\n",
       "    sub-expressions: \n",
       "23. x\n",
       "    core type: Variable\n",
       "    sub-expressions: \n",
       "24. Complex\n",
       "    core type: Literal\n",
       "    sub-expressions: \n",
       "25. 2\n",
       "    core type: Literal\n",
       "    sub-expressions: "
      ]
     },
     "execution_count": 6,
     "metadata": {},
     "output_type": "execute_result"
    }
   ],
   "source": [
    "# display the expression information\n",
    "expr.expr_info()"
   ]
  },
  {
   "cell_type": "code",
   "execution_count": null,
   "metadata": {},
   "outputs": [],
   "source": []
  }
 ],
 "metadata": {
  "kernelspec": {
   "display_name": "Python 3",
   "language": "python",
   "name": "python3"
  }
 },
 "nbformat": 4,
 "nbformat_minor": 0
}