{
 "cells": [
  {
   "cell_type": "markdown",
   "metadata": {},
   "source": [
    "Expression of type <a class=\"ProveItLink\" href=\"../../../../../../../doc/html/api/proveit.Conditional.html\">Conditional</a>\n",
    "=======================\n",
    "# from the theory of <a class=\"ProveItLink\" href=\"../../../_theory_nbs_/theory.ipynb\">proveit.physics.quantum</a>"
   ]
  },
  {
   "cell_type": "code",
   "execution_count": 1,
   "metadata": {},
   "outputs": [],
   "source": [
    "import proveit\n",
    "# Automation is not needed when building an expression:\n",
    "proveit.defaults.automation = False # This will speed things up.\n",
    "proveit.defaults.inline_pngs = False # Makes files smaller.\n",
    "%load_expr # Load the stored expression as 'stored_expr'\n",
    "# import Expression classes needed to build the expression\n",
    "from proveit import Conditional, k, n\n",
    "from proveit.linalg import TensorProd\n",
    "from proveit.logic import Equals, InSet\n",
    "from proveit.numbers import Add, Exp, Interval, Neg, one, two, zero\n",
    "from proveit.physics.quantum import RegisterKet, ket0"
   ]
  },
  {
   "cell_type": "code",
   "execution_count": 2,
   "metadata": {},
   "outputs": [
    {
     "data": {
      "text/html": [
       "<strong id=\"expr\">expr:</strong> <a class=\"ProveItLink\" href=\"expr.ipynb\"><img src=\"expr.png\" style=\"display:inline;vertical-align:middle;\" /></a><br>"
      ],
      "text/plain": [
       "expr: {|k〉_{n + 1} = (|k〉_{n} otimes |0〉) if k in {0...2^{n} - 1}."
      ]
     },
     "execution_count": 2,
     "metadata": {},
     "output_type": "execute_result"
    }
   ],
   "source": [
    "# build up the expression from sub-expressions\n",
    "expr = Conditional(Equals(RegisterKet(k, Add(n, one)), TensorProd(RegisterKet(k, n), ket0)), InSet(k, Interval(zero, Add(Exp(two, n), Neg(one)))))"
   ]
  },
  {
   "cell_type": "code",
   "execution_count": 3,
   "metadata": {},
   "outputs": [
    {
     "name": "stdout",
     "output_type": "stream",
     "text": [
      "Passed sanity check: expr matches stored_expr\n"
     ]
    }
   ],
   "source": [
    "# check that the built expression is the same as the stored expression\n",
    "assert expr == stored_expr\n",
    "assert expr._style_id == stored_expr._style_id\n",
    "print(\"Passed sanity check: expr matches stored_expr\")"
   ]
  },
  {
   "cell_type": "code",
   "execution_count": 4,
   "metadata": {},
   "outputs": [
    {
     "name": "stdout",
     "output_type": "stream",
     "text": [
      "\\left\\{\\lvert k \\rangle_{n + 1} = \\left(\\lvert k \\rangle_{n} {\\otimes} \\lvert 0 \\rangle\\right) \\textrm{ if } k \\in \\{0 \\ldots 2^{n} - 1\\}\\right..\n"
     ]
    }
   ],
   "source": [
    "# Show the LaTeX representation of the expression for convenience if you need it.\n",
    "print(expr.latex())"
   ]
  },
  {
   "cell_type": "code",
   "execution_count": 5,
   "metadata": {},
   "outputs": [
    {
     "data": {
      "text/html": [
       "<table>\n",
       "<tr><th>name</th><th>description</th><th>default</th><th>current value</th><th>related methods</th></tr><tr><td>condition_delimiter</td><td>'comma' or 'and'</td><td>comma</td><td>comma</td><td>('with_comma_delimiter', 'with_conjunction_delimiter')</td></tr>\n",
       "</table>\n"
      ],
      "text/plain": [
       "style name: condition_delimiter\n",
       "description: 'comma' or 'and'\n",
       "default: comma\n",
       "current value: comma\n",
       "related methods: ('with_comma_delimiter', 'with_conjunction_delimiter')"
      ]
     },
     "execution_count": 5,
     "metadata": {},
     "output_type": "execute_result"
    }
   ],
   "source": [
    "expr.style_options()"
   ]
  },
  {
   "cell_type": "code",
   "execution_count": 6,
   "metadata": {},
   "outputs": [
    {
     "data": {
      "text/html": [
       "<table><tr><th>&nbsp;</th><th>core type</th><th>sub-expressions</th><th>expression</th></tr>\n",
       "<tr><td>0</td><td>Conditional</td><td>value:&nbsp;1<br>condition:&nbsp;2<br></td><td><a class=\"ProveItLink\" href=\"expr.ipynb\"><img src=\"expr.png\" style=\"display:inline;vertical-align:middle;\" /></a></td></tr>\n",
       "<tr><td>1</td><td>Operation</td><td>operator:&nbsp;3<br>operands:&nbsp;4<br></td><td><a class=\"ProveItLink\" href=\"../abad8e40392249210e3d35d4d1c20b7160fbe45e0/expr.ipynb\"><img src=\"../abad8e40392249210e3d35d4d1c20b7160fbe45e0/expr.png\" style=\"display:inline;vertical-align:middle;\" /></a></td></tr>\n",
       "<tr><td>2</td><td>Operation</td><td>operator:&nbsp;5<br>operands:&nbsp;6<br></td><td><a class=\"ProveItLink\" href=\"../4e19377df67560e067d221285c5d267309e0ba610/expr.ipynb\"><img src=\"../4e19377df67560e067d221285c5d267309e0ba610/expr.png\" style=\"display:inline;vertical-align:middle;\" /></a></td></tr>\n",
       "<tr><td>3</td><td>Literal</td><td></td><td><a class=\"ProveItLink\" href=\"../../../../../logic/equality/__pv_it/common/731dd3955b346c1320ed5c0ba7a618bcda61457d0/expr.ipynb\"><img src=\"../../../../../logic/equality/__pv_it/common/731dd3955b346c1320ed5c0ba7a618bcda61457d0/expr.png\" style=\"display:inline;vertical-align:middle;\" /></a></td></tr>\n",
       "<tr><td>4</td><td>ExprTuple</td><td>7, 8</td><td><a class=\"ProveItLink\" href=\"../45fcac8383252bbb92f7e2ae91be097324b93bbb0/expr.ipynb\"><img src=\"../45fcac8383252bbb92f7e2ae91be097324b93bbb0/expr.png\" style=\"display:inline;vertical-align:middle;\" /></a></td></tr>\n",
       "<tr><td>5</td><td>Literal</td><td></td><td><a class=\"ProveItLink\" href=\"../../../../../logic/sets/membership/__pv_it/common/7171deca84f71f47a6ec7696972d1632274a12880/expr.ipynb\"><img src=\"../../../../../logic/sets/membership/__pv_it/common/7171deca84f71f47a6ec7696972d1632274a12880/expr.png\" style=\"display:inline;vertical-align:middle;\" /></a></td></tr>\n",
       "<tr><td>6</td><td>ExprTuple</td><td>26, 9</td><td><a class=\"ProveItLink\" href=\"../1128c95c94cd159172db4f1a27f8b6ad4b6fcdf70/expr.ipynb\"><img src=\"../1128c95c94cd159172db4f1a27f8b6ad4b6fcdf70/expr.png\" style=\"display:inline;vertical-align:middle;\" /></a></td></tr>\n",
       "<tr><td>7</td><td>Operation</td><td>operator:&nbsp;20<br>operands:&nbsp;10<br></td><td><a class=\"ProveItLink\" href=\"../ea7d9196cd163c335c5826be0abc2539a4fc153f0/expr.ipynb\"><img src=\"../ea7d9196cd163c335c5826be0abc2539a4fc153f0/expr.png\" style=\"display:inline;vertical-align:middle;\" /></a></td></tr>\n",
       "<tr><td>8</td><td>Operation</td><td>operator:&nbsp;11<br>operands:&nbsp;12<br></td><td><a class=\"ProveItLink\" href=\"../9219c520af5a158de0e5121074195a8327f9e4710/expr.ipynb\"><img src=\"../9219c520af5a158de0e5121074195a8327f9e4710/expr.png\" style=\"display:inline;vertical-align:middle;\" /></a></td></tr>\n",
       "<tr><td>9</td><td>Operation</td><td>operator:&nbsp;13<br>operands:&nbsp;14<br></td><td><a class=\"ProveItLink\" href=\"../df1098366d1db284301d53f3f76f9697ca3411d40/expr.ipynb\"><img src=\"../df1098366d1db284301d53f3f76f9697ca3411d40/expr.png\" style=\"display:inline;vertical-align:middle;\" /></a></td></tr>\n",
       "<tr><td>10</td><td>ExprTuple</td><td>26, 15</td><td><a class=\"ProveItLink\" href=\"../b059028b97718d72551633d0f0f086d825fcde620/expr.ipynb\"><img src=\"../b059028b97718d72551633d0f0f086d825fcde620/expr.png\" style=\"display:inline;vertical-align:middle;\" /></a></td></tr>\n",
       "<tr><td>11</td><td>Literal</td><td></td><td><a class=\"ProveItLink\" href=\"../../../../../linalg/__pv_it/common/742629c2b72c605d9e279666109973bfa01090ff0/expr.ipynb\"><img src=\"../../../../../linalg/__pv_it/common/742629c2b72c605d9e279666109973bfa01090ff0/expr.png\" style=\"display:inline;vertical-align:middle;\" /></a></td></tr>\n",
       "<tr><td>12</td><td>ExprTuple</td><td>16, 17</td><td><a class=\"ProveItLink\" href=\"../78ac4e42479f4ecb7e5d7216091c8b9fd9cef12e0/expr.ipynb\"><img src=\"../78ac4e42479f4ecb7e5d7216091c8b9fd9cef12e0/expr.png\" style=\"display:inline;vertical-align:middle;\" /></a></td></tr>\n",
       "<tr><td>13</td><td>Literal</td><td></td><td><a class=\"ProveItLink\" href=\"../../../../../numbers/number_sets/integers/__pv_it/common/fcf0def17f5c3c84b64c959b39aed0e5dad7f3340/expr.ipynb\"><img src=\"../../../../../numbers/number_sets/integers/__pv_it/common/fcf0def17f5c3c84b64c959b39aed0e5dad7f3340/expr.png\" style=\"display:inline;vertical-align:middle;\" /></a></td></tr>\n",
       "<tr><td>14</td><td>ExprTuple</td><td>27, 18</td><td><a class=\"ProveItLink\" href=\"../d9a2a16ec346d3bbe846dac1ab2bfe66f65a0da70/expr.ipynb\"><img src=\"../d9a2a16ec346d3bbe846dac1ab2bfe66f65a0da70/expr.png\" style=\"display:inline;vertical-align:middle;\" /></a></td></tr>\n",
       "<tr><td>15</td><td>Operation</td><td>operator:&nbsp;24<br>operands:&nbsp;19<br></td><td><a class=\"ProveItLink\" href=\"../7cdcafe98ce391abaebe76dd85e27b57e107f85f0/expr.ipynb\"><img src=\"../7cdcafe98ce391abaebe76dd85e27b57e107f85f0/expr.png\" style=\"display:inline;vertical-align:middle;\" /></a></td></tr>\n",
       "<tr><td>16</td><td>Operation</td><td>operator:&nbsp;20<br>operands:&nbsp;21<br></td><td><a class=\"ProveItLink\" href=\"../61145b574bffbc7772323ca8597f9cbf4a63f7260/expr.ipynb\"><img src=\"../61145b574bffbc7772323ca8597f9cbf4a63f7260/expr.png\" style=\"display:inline;vertical-align:middle;\" /></a></td></tr>\n",
       "<tr><td>17</td><td>Operation</td><td>operator:&nbsp;22<br>operand:&nbsp;27<br></td><td><a class=\"ProveItLink\" href=\"../../common/ed60e75561684be6b18310df5c479706894f1f410/expr.ipynb\"><img src=\"../../common/ed60e75561684be6b18310df5c479706894f1f410/expr.png\" style=\"display:inline;vertical-align:middle;\" /></a></td></tr>\n",
       "<tr><td>18</td><td>Operation</td><td>operator:&nbsp;24<br>operands:&nbsp;25<br></td><td><a class=\"ProveItLink\" href=\"../0d29e1e2177575660da5f42e65d45024fb4091ae0/expr.ipynb\"><img src=\"../0d29e1e2177575660da5f42e65d45024fb4091ae0/expr.png\" style=\"display:inline;vertical-align:middle;\" /></a></td></tr>\n",
       "<tr><td>19</td><td>ExprTuple</td><td>35, 36</td><td><a class=\"ProveItLink\" href=\"../790f95d5aec463330ca0870954efe234cde60a330/expr.ipynb\"><img src=\"../790f95d5aec463330ca0870954efe234cde60a330/expr.png\" style=\"display:inline;vertical-align:middle;\" /></a></td></tr>\n",
       "<tr><td>20</td><td>Literal</td><td></td><td><a class=\"ProveItLink\" href=\"../../common/12a5a2a819253a812decfe77a49e3ce5023a808d0/expr.ipynb\"><img src=\"../../common/12a5a2a819253a812decfe77a49e3ce5023a808d0/expr.png\" style=\"display:inline;vertical-align:middle;\" /></a></td></tr>\n",
       "<tr><td>21</td><td>ExprTuple</td><td>26, 35</td><td><a class=\"ProveItLink\" href=\"../3fd3e384b35ddcc24e8bc7a28a73539b0f1407e10/expr.ipynb\"><img src=\"../3fd3e384b35ddcc24e8bc7a28a73539b0f1407e10/expr.png\" style=\"display:inline;vertical-align:middle;\" /></a></td></tr>\n",
       "<tr><td>22</td><td>Literal</td><td></td><td><a class=\"ProveItLink\" href=\"../../common/6e9e7d19bd9dfa08dee7501fca955461a19971770/expr.ipynb\"><img src=\"../../common/6e9e7d19bd9dfa08dee7501fca955461a19971770/expr.png\" style=\"display:inline;vertical-align:middle;\" /></a></td></tr>\n",
       "<tr><td>23</td><td>ExprTuple</td><td>27</td><td><a class=\"ProveItLink\" href=\"../../common/f243cd078d9a833f4a423d1194e14ef4aae6b6fe0/expr.ipynb\"><img src=\"../../common/f243cd078d9a833f4a423d1194e14ef4aae6b6fe0/expr.png\" style=\"display:inline;vertical-align:middle;\" /></a></td></tr>\n",
       "<tr><td>24</td><td>Literal</td><td></td><td><a class=\"ProveItLink\" href=\"../../../../../numbers/addition/__pv_it/common/1f38fe5cce441387feef296e2c0a2eac260bb4f30/expr.ipynb\"><img src=\"../../../../../numbers/addition/__pv_it/common/1f38fe5cce441387feef296e2c0a2eac260bb4f30/expr.png\" style=\"display:inline;vertical-align:middle;\" /></a></td></tr>\n",
       "<tr><td>25</td><td>ExprTuple</td><td>28, 29</td><td><a class=\"ProveItLink\" href=\"../46a9c6fa76bc60fb029eeac90ffaedf7dba3a2100/expr.ipynb\"><img src=\"../46a9c6fa76bc60fb029eeac90ffaedf7dba3a2100/expr.png\" style=\"display:inline;vertical-align:middle;\" /></a></td></tr>\n",
       "<tr><td>26</td><td>Variable</td><td></td><td><a class=\"ProveItLink\" href=\"../../../../../__pv_it/common/b9fd37fc619babc74a6203459f110251586df6970/expr.ipynb\"><img src=\"../../../../../__pv_it/common/b9fd37fc619babc74a6203459f110251586df6970/expr.png\" style=\"display:inline;vertical-align:middle;\" /></a></td></tr>\n",
       "<tr><td>27</td><td>Literal</td><td></td><td><a class=\"ProveItLink\" href=\"../../../../../numbers/numerals/__pv_it/common/c35fdf7268947ca3e24174d2909dc9d0a7f3aac60/expr.ipynb\"><img src=\"../../../../../numbers/numerals/__pv_it/common/c35fdf7268947ca3e24174d2909dc9d0a7f3aac60/expr.png\" style=\"display:inline;vertical-align:middle;\" /></a></td></tr>\n",
       "<tr><td>28</td><td>Operation</td><td>operator:&nbsp;30<br>operands:&nbsp;31<br></td><td><a class=\"ProveItLink\" href=\"../0e4ffb02b18e93efe7e72ed356c4fc2b1bce45d30/expr.ipynb\"><img src=\"../0e4ffb02b18e93efe7e72ed356c4fc2b1bce45d30/expr.png\" style=\"display:inline;vertical-align:middle;\" /></a></td></tr>\n",
       "<tr><td>29</td><td>Operation</td><td>operator:&nbsp;32<br>operand:&nbsp;36<br></td><td><a class=\"ProveItLink\" href=\"../c196abdabdd3d4060890e8f97b9c5701fdca8b8a0/expr.ipynb\"><img src=\"../c196abdabdd3d4060890e8f97b9c5701fdca8b8a0/expr.png\" style=\"display:inline;vertical-align:middle;\" /></a></td></tr>\n",
       "<tr><td>30</td><td>Literal</td><td></td><td><a class=\"ProveItLink\" href=\"../../../../../numbers/exponentiation/__pv_it/common/31d1b89e3c2fad7d997556c69b6be6425b6f59a40/expr.ipynb\"><img src=\"../../../../../numbers/exponentiation/__pv_it/common/31d1b89e3c2fad7d997556c69b6be6425b6f59a40/expr.png\" style=\"display:inline;vertical-align:middle;\" /></a></td></tr>\n",
       "<tr><td>31</td><td>ExprTuple</td><td>34, 35</td><td><a class=\"ProveItLink\" href=\"../441ca801bbb2ff9f212dcc9e5fc64b6d7c66e5720/expr.ipynb\"><img src=\"../441ca801bbb2ff9f212dcc9e5fc64b6d7c66e5720/expr.png\" style=\"display:inline;vertical-align:middle;\" /></a></td></tr>\n",
       "<tr><td>32</td><td>Literal</td><td></td><td><a class=\"ProveItLink\" href=\"../../../../../numbers/negation/__pv_it/common/31a69a5c76809537045e3884859f178d8d9c845c0/expr.ipynb\"><img src=\"../../../../../numbers/negation/__pv_it/common/31a69a5c76809537045e3884859f178d8d9c845c0/expr.png\" style=\"display:inline;vertical-align:middle;\" /></a></td></tr>\n",
       "<tr><td>33</td><td>ExprTuple</td><td>36</td><td><a class=\"ProveItLink\" href=\"../../common/983fb1abdb7789966ec8b7afe0d4f7ca8578c9e50/expr.ipynb\"><img src=\"../../common/983fb1abdb7789966ec8b7afe0d4f7ca8578c9e50/expr.png\" style=\"display:inline;vertical-align:middle;\" /></a></td></tr>\n",
       "<tr><td>34</td><td>Literal</td><td></td><td><a class=\"ProveItLink\" href=\"../../../../../numbers/numerals/__pv_it/common/3829356ce3fdf8f35810c63c00bc1a19e838663e0/expr.ipynb\"><img src=\"../../../../../numbers/numerals/__pv_it/common/3829356ce3fdf8f35810c63c00bc1a19e838663e0/expr.png\" style=\"display:inline;vertical-align:middle;\" /></a></td></tr>\n",
       "<tr><td>35</td><td>Variable</td><td></td><td><a class=\"ProveItLink\" href=\"../../../../../__pv_it/common/6165c9bb82ce3c7097cdba4440a1aeeb6eaca8a40/expr.ipynb\"><img src=\"../../../../../__pv_it/common/6165c9bb82ce3c7097cdba4440a1aeeb6eaca8a40/expr.png\" style=\"display:inline;vertical-align:middle;\" /></a></td></tr>\n",
       "<tr><td>36</td><td>Literal</td><td></td><td><a class=\"ProveItLink\" href=\"../../../../../numbers/numerals/__pv_it/common/d278e359da0695d9652dd541d45264f93703e2e40/expr.ipynb\"><img src=\"../../../../../numbers/numerals/__pv_it/common/d278e359da0695d9652dd541d45264f93703e2e40/expr.png\" style=\"display:inline;vertical-align:middle;\" /></a></td></tr>\n",
       "</table>\n"
      ],
      "text/plain": [
       "0. {|k〉_{n + 1} = (|k〉_{n} otimes |0〉) if k in {0...2^{n} - 1}.\n",
       "   core type: Conditional\n",
       "   value: 1\n",
       "   condition: 2\n",
       "1. |k〉_{n + 1} = (|k〉_{n} otimes |0〉)\n",
       "   core type: Operation\n",
       "   operator: 3\n",
       "   operands: 4\n",
       "2. k in {0...2^{n} - 1}\n",
       "   core type: Operation\n",
       "   operator: 5\n",
       "   operands: 6\n",
       "3. =\n",
       "   core type: Literal\n",
       "   sub-expressions: \n",
       "4. (|k〉_{n + 1}, |k〉_{n} otimes |0〉)\n",
       "   core type: ExprTuple\n",
       "   sub-expressions: 7, 8\n",
       "5. in\n",
       "   core type: Literal\n",
       "   sub-expressions: \n",
       "6. (k, {0...2^{n} - 1})\n",
       "   core type: ExprTuple\n",
       "   sub-expressions: 26, 9\n",
       "7. |k〉_{n + 1}\n",
       "   core type: Operation\n",
       "   operator: 20\n",
       "   operands: 10\n",
       "8. |k〉_{n} otimes |0〉\n",
       "   core type: Operation\n",
       "   operator: 11\n",
       "   operands: 12\n",
       "9. {0...2^{n} - 1}\n",
       "   core type: Operation\n",
       "   operator: 13\n",
       "   operands: 14\n",
       "10. (k, n + 1)\n",
       "    core type: ExprTuple\n",
       "    sub-expressions: 26, 15\n",
       "11. otimes\n",
       "    core type: Literal\n",
       "    sub-expressions: \n",
       "12. (|k〉_{n}, |0〉)\n",
       "    core type: ExprTuple\n",
       "    sub-expressions: 16, 17\n",
       "13. Interval\n",
       "    core type: Literal\n",
       "    sub-expressions: \n",
       "14. (0, 2^{n} - 1)\n",
       "    core type: ExprTuple\n",
       "    sub-expressions: 27, 18\n",
       "15. n + 1\n",
       "    core type: Operation\n",
       "    operator: 24\n",
       "    operands: 19\n",
       "16. |k〉_{n}\n",
       "    core type: Operation\n",
       "    operator: 20\n",
       "    operands: 21\n",
       "17. |0〉\n",
       "    core type: Operation\n",
       "    operator: 22\n",
       "    operand: 27\n",
       "18. 2^{n} - 1\n",
       "    core type: Operation\n",
       "    operator: 24\n",
       "    operands: 25\n",
       "19. (n, 1)\n",
       "    core type: ExprTuple\n",
       "    sub-expressions: 35, 36\n",
       "20. REGISTER_KET\n",
       "    core type: Literal\n",
       "    sub-expressions: \n",
       "21. (k, n)\n",
       "    core type: ExprTuple\n",
       "    sub-expressions: 26, 35\n",
       "22. KET\n",
       "    core type: Literal\n",
       "    sub-expressions: \n",
       "23. (0)\n",
       "    core type: ExprTuple\n",
       "    sub-expressions: 27\n",
       "24. +\n",
       "    core type: Literal\n",
       "    sub-expressions: \n",
       "25. (2^{n}, -1)\n",
       "    core type: ExprTuple\n",
       "    sub-expressions: 28, 29\n",
       "26. k\n",
       "    core type: Variable\n",
       "    sub-expressions: \n",
       "27. 0\n",
       "    core type: Literal\n",
       "    sub-expressions: \n",
       "28. 2^{n}\n",
       "    core type: Operation\n",
       "    operator: 30\n",
       "    operands: 31\n",
       "29. -1\n",
       "    core type: Operation\n",
       "    operator: 32\n",
       "    operand: 36\n",
       "30. Exp\n",
       "    core type: Literal\n",
       "    sub-expressions: \n",
       "31. (2, n)\n",
       "    core type: ExprTuple\n",
       "    sub-expressions: 34, 35\n",
       "32. -\n",
       "    core type: Literal\n",
       "    sub-expressions: \n",
       "33. (1)\n",
       "    core type: ExprTuple\n",
       "    sub-expressions: 36\n",
       "34. 2\n",
       "    core type: Literal\n",
       "    sub-expressions: \n",
       "35. n\n",
       "    core type: Variable\n",
       "    sub-expressions: \n",
       "36. 1\n",
       "    core type: Literal\n",
       "    sub-expressions: "
      ]
     },
     "execution_count": 6,
     "metadata": {},
     "output_type": "execute_result"
    }
   ],
   "source": [
    "# display the expression information\n",
    "expr.expr_info()"
   ]
  },
  {
   "cell_type": "code",
   "execution_count": null,
   "metadata": {},
   "outputs": [],
   "source": []
  }
 ],
 "metadata": {
  "kernelspec": {
   "display_name": "Python 3",
   "language": "python",
   "name": "python3"
  }
 },
 "nbformat": 4,
 "nbformat_minor": 0
}