{
 "cells": [
  {
   "cell_type": "markdown",
   "metadata": {},
   "source": [
    "Expression of type <a class=\"ProveItLink\" href=\"../../../../../../doc/html/api/proveit.Lambda.html\">Lambda</a>\n",
    "=======================\n",
    "# from context <a class=\"ProveItLink\" href=\"../../_context_.ipynb\">proveit.physics.quantum</a>"
   ]
  },
  {
   "cell_type": "code",
   "execution_count": 1,
   "metadata": {},
   "outputs": [],
   "source": [
    "import proveit\n",
    "# Automation is not needed when building an expression:\n",
    "proveit.defaults.automation = False # This will speed things up.\n",
    "proveit.defaults.inline_pngs = False # Makes files smaller.\n",
    "# import Expression classes needed to build the expression\n",
    "from proveit import Conditional, Lambda\n",
    "from proveit._common_ import alpha, n, x\n",
    "from proveit.linalg import ScalarProd, TensorExp\n",
    "from proveit.logic import Forall, InSet\n",
    "from proveit.number import Complexes, Exp, NaturalsPos, two"
   ]
  },
  {
   "cell_type": "code",
   "execution_count": 2,
   "metadata": {},
   "outputs": [
    {
     "data": {
      "text/html": [
       "<strong id=\"expr\">expr:</strong> <a class=\"ProveItLink\" href=\"expr.ipynb\"><img src=\"expr.png\" style=\"display:inline;vertical-align:middle;\" /></a><br>"
      ],
      "text/plain": [
       "expr: n -> {forall_{x in (Complexes^{2})^{otimes n}} [forall_{alpha in Complexes} ((alpha * x) in (Complexes^{2})^{otimes n})] if n in NaturalsPos."
      ]
     },
     "execution_count": 2,
     "metadata": {},
     "output_type": "execute_result"
    }
   ],
   "source": [
    "# build up the expression from sub-expressions\n",
    "subExpr1 = TensorExp([Exp(Complexes, two)], n)\n",
    "expr = Lambda(n, Conditional(Forall([x], Forall([alpha], InSet(ScalarProd(alpha, x), subExpr1), domain = Complexes), domain = subExpr1), InSet(n, NaturalsPos)))"
   ]
  },
  {
   "cell_type": "code",
   "execution_count": 3,
   "metadata": {},
   "outputs": [
    {
     "name": "stdout",
     "output_type": "stream",
     "text": [
      "Passed sanity check: built 'expr' is the same as the stored Expression.\n"
     ]
    }
   ],
   "source": [
    "# check that the built expression is the same as the stored expression\n",
    "%check_expr"
   ]
  },
  {
   "cell_type": "code",
   "execution_count": 4,
   "metadata": {},
   "outputs": [
    {
     "name": "stdout",
     "output_type": "stream",
     "text": [
      "n \\mapsto \\left\\{\\forall_{x \\in \\left(\\mathbb{C}^{2}\\right)^{\\otimes n}}~\\left[\\forall_{\\alpha \\in \\mathbb{C}}~\\left(\\left(\\alpha \\thinspace x\\right) \\in \\left(\\mathbb{C}^{2}\\right)^{\\otimes n}\\right)\\right] \\textrm{ if } n \\in \\mathbb{N}^+\\right..\n"
     ]
    }
   ],
   "source": [
    "# Show the LaTeX representation of the expression for convenience if you need it.\n",
    "print(expr.latex())"
   ]
  },
  {
   "cell_type": "code",
   "execution_count": 5,
   "metadata": {},
   "outputs": [
    {
     "data": {
      "text/html": [
       "<table><tr><th>&nbsp;</th><th>core type</th><th>sub-expressions</th><th>expression</th></tr>\n",
       "<tr><td>0</td><td>Lambda</td><td>parameter:&nbsp;28<br>body:&nbsp;1<br></td><td><a class=\"ProveItLink\" href=\"expr.ipynb\"><img src=\"expr.png\" style=\"display:inline;vertical-align:middle;\" /></a></td></tr>\n",
       "<tr><td>1</td><td>Conditional</td><td>value:&nbsp;2<br>condition:&nbsp;3<br></td><td><a class=\"ProveItLink\" href=\"../4ab7ec2b5fcf9ef6de192d6566d178162fc8ee6d0/expr.ipynb\"><img src=\"../4ab7ec2b5fcf9ef6de192d6566d178162fc8ee6d0/expr.png\" style=\"display:inline;vertical-align:middle;\" /></a></td></tr>\n",
       "<tr><td>2</td><td>Operation</td><td>operator:&nbsp;10<br>operand:&nbsp;4<br></td><td><a class=\"ProveItLink\" href=\"../5a5a14421039bbd2a3906bbea9d1de34e68d60f20/expr.ipynb\"><img src=\"../5a5a14421039bbd2a3906bbea9d1de34e68d60f20/expr.png\" style=\"display:inline;vertical-align:middle;\" /></a></td></tr>\n",
       "<tr><td>3</td><td>Operation</td><td>operator:&nbsp;17<br>operands:&nbsp;5<br></td><td><a class=\"ProveItLink\" href=\"../a720bba6cdd6f51499c0bd8820ee89528186f3d30/expr.ipynb\"><img src=\"../a720bba6cdd6f51499c0bd8820ee89528186f3d30/expr.png\" style=\"display:inline;vertical-align:middle;\" /></a></td></tr>\n",
       "<tr><td>4</td><td>Lambda</td><td>parameter:&nbsp;26<br>body:&nbsp;6<br></td><td><a class=\"ProveItLink\" href=\"../3240a98a62011c5e57c5b77474881d66f56588290/expr.ipynb\"><img src=\"../3240a98a62011c5e57c5b77474881d66f56588290/expr.png\" style=\"display:inline;vertical-align:middle;\" /></a></td></tr>\n",
       "<tr><td>5</td><td>ExprTuple</td><td>28, 7</td><td><a class=\"ProveItLink\" href=\"../e498da148cb0e1035a34d74f79377ecf4d06d21d0/expr.ipynb\"><img src=\"../e498da148cb0e1035a34d74f79377ecf4d06d21d0/expr.png\" style=\"display:inline;vertical-align:middle;\" /></a></td></tr>\n",
       "<tr><td>6</td><td>Conditional</td><td>value:&nbsp;8<br>condition:&nbsp;9<br></td><td><a class=\"ProveItLink\" href=\"../c97d6c7ef6ebe871a1bdd93f866576948252a1590/expr.ipynb\"><img src=\"../c97d6c7ef6ebe871a1bdd93f866576948252a1590/expr.png\" style=\"display:inline;vertical-align:middle;\" /></a></td></tr>\n",
       "<tr><td>7</td><td>Literal</td><td></td><td><a class=\"ProveItLink\" href=\"../../../../number/sets/integer/__pv_it/f6a9f4b6dec6ab4d2dcb6ba1b0ba3cceefc643530/expr.ipynb\"><img src=\"../../../../number/sets/integer/__pv_it/f6a9f4b6dec6ab4d2dcb6ba1b0ba3cceefc643530/expr.png\" style=\"display:inline;vertical-align:middle;\" /></a></td></tr>\n",
       "<tr><td>8</td><td>Operation</td><td>operator:&nbsp;10<br>operand:&nbsp;11<br></td><td><a class=\"ProveItLink\" href=\"../4413831bc2fd06287b915ea33cbf3890f960ad550/expr.ipynb\"><img src=\"../4413831bc2fd06287b915ea33cbf3890f960ad550/expr.png\" style=\"display:inline;vertical-align:middle;\" /></a></td></tr>\n",
       "<tr><td>9</td><td>Operation</td><td>operator:&nbsp;17<br>operands:&nbsp;12<br></td><td><a class=\"ProveItLink\" href=\"../a6057ac83bbdf0498d62748ab7780d74bf0df8f30/expr.ipynb\"><img src=\"../a6057ac83bbdf0498d62748ab7780d74bf0df8f30/expr.png\" style=\"display:inline;vertical-align:middle;\" /></a></td></tr>\n",
       "<tr><td>10</td><td>Literal</td><td></td><td><a class=\"ProveItLink\" href=\"../../../../logic/boolean/quantification/universal/__pv_it/fd9c772d6675566ed52a6897806f45eb08a4ea910/expr.ipynb\"><img src=\"../../../../logic/boolean/quantification/universal/__pv_it/fd9c772d6675566ed52a6897806f45eb08a4ea910/expr.png\" style=\"display:inline;vertical-align:middle;\" /></a></td></tr>\n",
       "<tr><td>11</td><td>Lambda</td><td>parameter:&nbsp;25<br>body:&nbsp;13<br></td><td><a class=\"ProveItLink\" href=\"../ee6ef866a440ae9a8401a75325f192e6a624146f0/expr.ipynb\"><img src=\"../ee6ef866a440ae9a8401a75325f192e6a624146f0/expr.png\" style=\"display:inline;vertical-align:middle;\" /></a></td></tr>\n",
       "<tr><td>12</td><td>ExprTuple</td><td>26, 20</td><td><a class=\"ProveItLink\" href=\"../b1d3caf3ac0dba7627d9c71b42798ad4110964410/expr.ipynb\"><img src=\"../b1d3caf3ac0dba7627d9c71b42798ad4110964410/expr.png\" style=\"display:inline;vertical-align:middle;\" /></a></td></tr>\n",
       "<tr><td>13</td><td>Conditional</td><td>value:&nbsp;14<br>condition:&nbsp;15<br></td><td><a class=\"ProveItLink\" href=\"../e7fbba4eac457bcffb42728cc808994cac71a3370/expr.ipynb\"><img src=\"../e7fbba4eac457bcffb42728cc808994cac71a3370/expr.png\" style=\"display:inline;vertical-align:middle;\" /></a></td></tr>\n",
       "<tr><td>14</td><td>Operation</td><td>operator:&nbsp;17<br>operands:&nbsp;16<br></td><td><a class=\"ProveItLink\" href=\"../7226b43b291cf5dd8875280e244b38f6d0f418720/expr.ipynb\"><img src=\"../7226b43b291cf5dd8875280e244b38f6d0f418720/expr.png\" style=\"display:inline;vertical-align:middle;\" /></a></td></tr>\n",
       "<tr><td>15</td><td>Operation</td><td>operator:&nbsp;17<br>operands:&nbsp;18<br></td><td><a class=\"ProveItLink\" href=\"../6811e9132e38669d255a5cc37ae962bcc3c4b0b00/expr.ipynb\"><img src=\"../6811e9132e38669d255a5cc37ae962bcc3c4b0b00/expr.png\" style=\"display:inline;vertical-align:middle;\" /></a></td></tr>\n",
       "<tr><td>16</td><td>ExprTuple</td><td>19, 20</td><td><a class=\"ProveItLink\" href=\"../df95919b415c3445ac09097fa33f93601b102f000/expr.ipynb\"><img src=\"../df95919b415c3445ac09097fa33f93601b102f000/expr.png\" style=\"display:inline;vertical-align:middle;\" /></a></td></tr>\n",
       "<tr><td>17</td><td>Literal</td><td></td><td><a class=\"ProveItLink\" href=\"../../../../logic/set_theory/membership/__pv_it/7776fc89cb67d0b5b1ec2c0c8e08da5587921ccf0/expr.ipynb\"><img src=\"../../../../logic/set_theory/membership/__pv_it/7776fc89cb67d0b5b1ec2c0c8e08da5587921ccf0/expr.png\" style=\"display:inline;vertical-align:middle;\" /></a></td></tr>\n",
       "<tr><td>18</td><td>ExprTuple</td><td>25, 32</td><td><a class=\"ProveItLink\" href=\"../2c405e13cabca877a555751d145e8d008543a6bd0/expr.ipynb\"><img src=\"../2c405e13cabca877a555751d145e8d008543a6bd0/expr.png\" style=\"display:inline;vertical-align:middle;\" /></a></td></tr>\n",
       "<tr><td>19</td><td>Operation</td><td>operator:&nbsp;21<br>operands:&nbsp;22<br></td><td><a class=\"ProveItLink\" href=\"../b5a85cd331fa3524c47e842617bfc52b6d68e6200/expr.ipynb\"><img src=\"../b5a85cd331fa3524c47e842617bfc52b6d68e6200/expr.png\" style=\"display:inline;vertical-align:middle;\" /></a></td></tr>\n",
       "<tr><td>20</td><td>Operation</td><td>operator:&nbsp;23<br>operands:&nbsp;24<br></td><td><a class=\"ProveItLink\" href=\"../0c92eeb8d0f65912bbd2b5a86bd978b0b123a29c0/expr.ipynb\"><img src=\"../0c92eeb8d0f65912bbd2b5a86bd978b0b123a29c0/expr.png\" style=\"display:inline;vertical-align:middle;\" /></a></td></tr>\n",
       "<tr><td>21</td><td>Literal</td><td></td><td><a class=\"ProveItLink\" href=\"../../../../linalg/__pv_it/817528a4fe4d1b3f9f028729262993ece5f16e630/expr.ipynb\"><img src=\"../../../../linalg/__pv_it/817528a4fe4d1b3f9f028729262993ece5f16e630/expr.png\" style=\"display:inline;vertical-align:middle;\" /></a></td></tr>\n",
       "<tr><td>22</td><td>ExprTuple</td><td>25, 26</td><td><a class=\"ProveItLink\" href=\"../12c544c790e9246d2147d390b17d7eaf836811690/expr.ipynb\"><img src=\"../12c544c790e9246d2147d390b17d7eaf836811690/expr.png\" style=\"display:inline;vertical-align:middle;\" /></a></td></tr>\n",
       "<tr><td>23</td><td>Literal</td><td></td><td><a class=\"ProveItLink\" href=\"../../../../linalg/__pv_it/230bb884f51269dda5f2c8bbaaa46c9631654f4f0/expr.ipynb\"><img src=\"../../../../linalg/__pv_it/230bb884f51269dda5f2c8bbaaa46c9631654f4f0/expr.png\" style=\"display:inline;vertical-align:middle;\" /></a></td></tr>\n",
       "<tr><td>24</td><td>ExprTuple</td><td>27, 28</td><td><a class=\"ProveItLink\" href=\"../870610418acde83f35b78e7559782a9952c1dd460/expr.ipynb\"><img src=\"../870610418acde83f35b78e7559782a9952c1dd460/expr.png\" style=\"display:inline;vertical-align:middle;\" /></a></td></tr>\n",
       "<tr><td>25</td><td>Variable</td><td></td><td><a class=\"ProveItLink\" href=\"../../../../__pv_it/186b4b5c9925c86cfc381a01181526b85fd087620/expr.ipynb\"><img src=\"../../../../__pv_it/186b4b5c9925c86cfc381a01181526b85fd087620/expr.png\" style=\"display:inline;vertical-align:middle;\" /></a></td></tr>\n",
       "<tr><td>26</td><td>Variable</td><td></td><td><a class=\"ProveItLink\" href=\"../../../../__pv_it/72df168d2bfb4e0140af90912ebf83b13772060b0/expr.ipynb\"><img src=\"../../../../__pv_it/72df168d2bfb4e0140af90912ebf83b13772060b0/expr.png\" style=\"display:inline;vertical-align:middle;\" /></a></td></tr>\n",
       "<tr><td>27</td><td>ExprTuple</td><td>29</td><td><a class=\"ProveItLink\" href=\"../bdbcc65598f921dbb6757fc76b47a72396765cdc0/expr.ipynb\"><img src=\"../bdbcc65598f921dbb6757fc76b47a72396765cdc0/expr.png\" style=\"display:inline;vertical-align:middle;\" /></a></td></tr>\n",
       "<tr><td>28</td><td>Variable</td><td></td><td><a class=\"ProveItLink\" href=\"../../../../__pv_it/0c1c4cb515e0f4344b1ac06650f349123e526deb0/expr.ipynb\"><img src=\"../../../../__pv_it/0c1c4cb515e0f4344b1ac06650f349123e526deb0/expr.png\" style=\"display:inline;vertical-align:middle;\" /></a></td></tr>\n",
       "<tr><td>29</td><td>Operation</td><td>operator:&nbsp;30<br>operands:&nbsp;31<br></td><td><a class=\"ProveItLink\" href=\"../e79e1533ca9493182a2c7c561c1c6239ee619b750/expr.ipynb\"><img src=\"../e79e1533ca9493182a2c7c561c1c6239ee619b750/expr.png\" style=\"display:inline;vertical-align:middle;\" /></a></td></tr>\n",
       "<tr><td>30</td><td>Literal</td><td></td><td><a class=\"ProveItLink\" href=\"../../../../number/exponentiation/__pv_it/fca8e4218e687a7bc372d4b4009101e95bae518f0/expr.ipynb\"><img src=\"../../../../number/exponentiation/__pv_it/fca8e4218e687a7bc372d4b4009101e95bae518f0/expr.png\" style=\"display:inline;vertical-align:middle;\" /></a></td></tr>\n",
       "<tr><td>31</td><td>ExprTuple</td><td>32, 33</td><td><a class=\"ProveItLink\" href=\"../d4fa085c028aa5a13bc16ef4af19f1a4367a869f0/expr.ipynb\"><img src=\"../d4fa085c028aa5a13bc16ef4af19f1a4367a869f0/expr.png\" style=\"display:inline;vertical-align:middle;\" /></a></td></tr>\n",
       "<tr><td>32</td><td>Literal</td><td></td><td><a class=\"ProveItLink\" href=\"../../../../number/sets/complex/__pv_it/8a5866946d766bfd951bcdff07a1a39af0935c430/expr.ipynb\"><img src=\"../../../../number/sets/complex/__pv_it/8a5866946d766bfd951bcdff07a1a39af0935c430/expr.png\" style=\"display:inline;vertical-align:middle;\" /></a></td></tr>\n",
       "<tr><td>33</td><td>Literal</td><td></td><td><a class=\"ProveItLink\" href=\"../../../../number/numeral/__pv_it/fb4ccffdbfd0f653ebaacb95e7ff4802fd48a6f20/expr.ipynb\"><img src=\"../../../../number/numeral/__pv_it/fb4ccffdbfd0f653ebaacb95e7ff4802fd48a6f20/expr.png\" style=\"display:inline;vertical-align:middle;\" /></a></td></tr>\n",
       "</table>\n"
      ],
      "text/plain": [
       "0. n -> {forall_{x in (Complexes^{2})^{otimes n}} [forall_{alpha in Complexes} ((alpha * x) in (Complexes^{2})^{otimes n})] if n in NaturalsPos.\n",
       "   core type: Lambda\n",
       "   parameter: 28\n",
       "   body: 1\n",
       "1. {forall_{x in (Complexes^{2})^{otimes n}} [forall_{alpha in Complexes} ((alpha * x) in (Complexes^{2})^{otimes n})] if n in NaturalsPos.\n",
       "   core type: Conditional\n",
       "   value: 2\n",
       "   condition: 3\n",
       "2. forall_{x in (Complexes^{2})^{otimes n}} [forall_{alpha in Complexes} ((alpha * x) in (Complexes^{2})^{otimes n})]\n",
       "   core type: Operation\n",
       "   operator: 10\n",
       "   operand: 4\n",
       "3. n in NaturalsPos\n",
       "   core type: Operation\n",
       "   operator: 17\n",
       "   operands: 5\n",
       "4. x -> {forall_{alpha in Complexes} ((alpha * x) in (Complexes^{2})^{otimes n}) if x in (Complexes^{2})^{otimes n}.\n",
       "   core type: Lambda\n",
       "   parameter: 26\n",
       "   body: 6\n",
       "5. (n, NaturalsPos)\n",
       "   core type: ExprTuple\n",
       "   sub-expressions: 28, 7\n",
       "6. {forall_{alpha in Complexes} ((alpha * x) in (Complexes^{2})^{otimes n}) if x in (Complexes^{2})^{otimes n}.\n",
       "   core type: Conditional\n",
       "   value: 8\n",
       "   condition: 9\n",
       "7. NaturalsPos\n",
       "   core type: Literal\n",
       "   sub-expressions: \n",
       "8. forall_{alpha in Complexes} ((alpha * x) in (Complexes^{2})^{otimes n})\n",
       "   core type: Operation\n",
       "   operator: 10\n",
       "   operand: 11\n",
       "9. x in (Complexes^{2})^{otimes n}\n",
       "   core type: Operation\n",
       "   operator: 17\n",
       "   operands: 12\n",
       "10. forall\n",
       "    core type: Literal\n",
       "    sub-expressions: \n",
       "11. alpha -> {(alpha * x) in (Complexes^{2})^{otimes n} if alpha in Complexes.\n",
       "    core type: Lambda\n",
       "    parameter: 25\n",
       "    body: 13\n",
       "12. (x, (Complexes^{2})^{otimes n})\n",
       "    core type: ExprTuple\n",
       "    sub-expressions: 26, 20\n",
       "13. {(alpha * x) in (Complexes^{2})^{otimes n} if alpha in Complexes.\n",
       "    core type: Conditional\n",
       "    value: 14\n",
       "    condition: 15\n",
       "14. (alpha * x) in (Complexes^{2})^{otimes n}\n",
       "    core type: Operation\n",
       "    operator: 17\n",
       "    operands: 16\n",
       "15. alpha in Complexes\n",
       "    core type: Operation\n",
       "    operator: 17\n",
       "    operands: 18\n",
       "16. (alpha * x, (Complexes^{2})^{otimes n})\n",
       "    core type: ExprTuple\n",
       "    sub-expressions: 19, 20\n",
       "17. in\n",
       "    core type: Literal\n",
       "    sub-expressions: \n",
       "18. (alpha, Complexes)\n",
       "    core type: ExprTuple\n",
       "    sub-expressions: 25, 32\n",
       "19. alpha * x\n",
       "    core type: Operation\n",
       "    operator: 21\n",
       "    operands: 22\n",
       "20. (Complexes^{2})^{otimes n}\n",
       "    core type: Operation\n",
       "    operator: 23\n",
       "    operands: 24\n",
       "21. *\n",
       "    core type: Literal\n",
       "    sub-expressions: \n",
       "22. (alpha, x)\n",
       "    core type: ExprTuple\n",
       "    sub-expressions: 25, 26\n",
       "23. otimes\n",
       "    core type: Literal\n",
       "    sub-expressions: \n",
       "24. ((Complexes^{2}), n)\n",
       "    core type: ExprTuple\n",
       "    sub-expressions: 27, 28\n",
       "25. alpha\n",
       "    core type: Variable\n",
       "    sub-expressions: \n",
       "26. x\n",
       "    core type: Variable\n",
       "    sub-expressions: \n",
       "27. (Complexes^{2})\n",
       "    core type: ExprTuple\n",
       "    sub-expressions: 29\n",
       "28. n\n",
       "    core type: Variable\n",
       "    sub-expressions: \n",
       "29. Complexes^{2}\n",
       "    core type: Operation\n",
       "    operator: 30\n",
       "    operands: 31\n",
       "30. Exp\n",
       "    core type: Literal\n",
       "    sub-expressions: \n",
       "31. (Complexes, 2)\n",
       "    core type: ExprTuple\n",
       "    sub-expressions: 32, 33\n",
       "32. Complexes\n",
       "    core type: Literal\n",
       "    sub-expressions: \n",
       "33. 2\n",
       "    core type: Literal\n",
       "    sub-expressions: "
      ]
     },
     "execution_count": 5,
     "metadata": {},
     "output_type": "execute_result"
    }
   ],
   "source": [
    "# display the expression information\n",
    "expr.exprInfo()"
   ]
  },
  {
   "cell_type": "code",
   "execution_count": null,
   "metadata": {},
   "outputs": [],
   "source": []
  }
 ],
 "metadata": {
  "kernelspec": {
   "display_name": "Python 3",
   "language": "python",
   "name": "python3"
  },
  "language_info": {
   "codemirror_mode": {
    "name": "ipython",
    "version": 3
   },
   "file_extension": ".py",
   "mimetype": "text/x-python",
   "name": "python",
   "nbconvert_exporter": "python",
   "pygments_lexer": "ipython3",
   "version": "3.7.3"
  }
 },
 "nbformat": 4,
 "nbformat_minor": 1
}
