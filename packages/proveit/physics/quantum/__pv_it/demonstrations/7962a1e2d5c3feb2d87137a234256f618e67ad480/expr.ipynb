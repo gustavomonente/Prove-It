{
 "cells": [
  {
   "cell_type": "markdown",
   "metadata": {},
   "source": [
    "Expression of type <a class=\"ProveItLink\" href=\"../../../../../../../doc/html/api/proveit.ExprTuple.html\">ExprTuple</a>\n",
    "=======================\n",
    "# from the theory of <a class=\"ProveItLink\" href=\"../../../_theory_nbs_/theory.ipynb\">proveit.physics.quantum</a>"
   ]
  },
  {
   "cell_type": "code",
   "execution_count": 1,
   "metadata": {},
   "outputs": [],
   "source": [
    "import proveit\n",
    "# Automation is not needed when building an expression:\n",
    "proveit.defaults.automation = False # This will speed things up.\n",
    "proveit.defaults.inline_pngs = False # Makes files smaller.\n",
    "%load_expr # Load the stored expression as 'stored_expr'\n",
    "# import Expression classes needed to build the expression\n",
    "from proveit import ExprTuple\n",
    "from proveit.logic import Set\n",
    "from proveit.numbers import four, three\n",
    "from proveit.physics.quantum import Input, Output, Z, ket1\n",
    "from proveit.physics.quantum.circuit import MultiQubitGate"
   ]
  },
  {
   "cell_type": "code",
   "execution_count": 2,
   "metadata": {},
   "outputs": [
    {
     "data": {
      "text/html": [
       "<strong id=\"expr\">expr:</strong> <a class=\"ProveItLink\" href=\"expr.ipynb\"><img src=\"expr.png\" style=\"display:inline;vertical-align:middle;\" /></a><br>"
      ],
      "text/plain": [
       "expr: (Input(|1〉), MultiQubitGate(Z, {3, 4}), Output(|1〉))"
      ]
     },
     "execution_count": 2,
     "metadata": {},
     "output_type": "execute_result"
    }
   ],
   "source": [
    "# build up the expression from sub-expressions\n",
    "expr = ExprTuple(Input(ket1), MultiQubitGate(Z, Set(three, four)), Output(ket1))"
   ]
  },
  {
   "cell_type": "code",
   "execution_count": 3,
   "metadata": {},
   "outputs": [
    {
     "name": "stdout",
     "output_type": "stream",
     "text": [
      "Passed sanity check: expr matches stored_expr\n"
     ]
    }
   ],
   "source": [
    "# check that the built expression is the same as the stored expression\n",
    "assert expr == stored_expr\n",
    "assert expr._style_id == stored_expr._style_id\n",
    "print(\"Passed sanity check: expr matches stored_expr\")"
   ]
  },
  {
   "cell_type": "code",
   "execution_count": 4,
   "metadata": {},
   "outputs": [
    {
     "name": "stdout",
     "output_type": "stream",
     "text": [
      "\\left(\\hspace{2em} \\Qcircuit@C=1em @R=.7em{\n",
      "& \\lstick{\\lvert 1 \\rangle} \n",
      "} \\hspace{2em}, \\hspace{2em} \\Qcircuit@C=1em @R=.7em{\n",
      "& Z \n",
      "} \\hspace{2em}, \\hspace{2em} \\Qcircuit@C=1em @R=.7em{\n",
      "& \\rstick{\\lvert 1 \\rangle} \\qw \n",
      "} \\hspace{2em}\\right)\n"
     ]
    }
   ],
   "source": [
    "# Show the LaTeX representation of the expression for convenience if you need it.\n",
    "print(expr.latex())"
   ]
  },
  {
   "cell_type": "code",
   "execution_count": 5,
   "metadata": {},
   "outputs": [
    {
     "data": {
      "text/html": [
       "<table>\n",
       "<tr><th>name</th><th>description</th><th>default</th><th>current value</th><th>related methods</th></tr><tr><td>wrap_positions</td><td>position(s) at which wrapping is to occur; 'n' is after the nth comma.</td><td>()</td><td>()</td><td>('with_wrapping_at',)</td></tr>\n",
       "<tr><td>justification</td><td>if any wrap positions are set, justify to the 'left', 'center', or 'right'</td><td>left</td><td>left</td><td>('with_justification',)</td></tr>\n",
       "</table>\n"
      ],
      "text/plain": [
       "style name: wrap_positions\n",
       "description: position(s) at which wrapping is to occur; 'n' is after the nth comma.\n",
       "default: ()\n",
       "current value: ()\n",
       "related methods: ('with_wrapping_at',)\n",
       "style name: justification\n",
       "description: if any wrap positions are set, justify to the 'left', 'center', or 'right'\n",
       "default: left\n",
       "current value: left\n",
       "related methods: ('with_justification',)"
      ]
     },
     "execution_count": 5,
     "metadata": {},
     "output_type": "execute_result"
    }
   ],
   "source": [
    "expr.style_options()"
   ]
  },
  {
   "cell_type": "code",
   "execution_count": 6,
   "metadata": {},
   "outputs": [
    {
     "data": {
      "text/html": [
       "<table><tr><th>&nbsp;</th><th>core type</th><th>sub-expressions</th><th>expression</th></tr>\n",
       "<tr><td>0</td><td>ExprTuple</td><td>1, 2, 3</td><td><a class=\"ProveItLink\" href=\"expr.ipynb\"><img src=\"expr.png\" style=\"display:inline;vertical-align:middle;\" /></a></td></tr>\n",
       "<tr><td>1</td><td>Operation</td><td>operator:&nbsp;4<br>operand:&nbsp;11<br></td><td><a class=\"ProveItLink\" href=\"../4122cc3d8a9e5b277b47d5e2616202b12aa223c70/expr.ipynb\"><img src=\"../4122cc3d8a9e5b277b47d5e2616202b12aa223c70/expr.png\" style=\"display:inline;vertical-align:middle;\" /></a></td></tr>\n",
       "<tr><td>2</td><td>Operation</td><td>operator:&nbsp;5<br>operands:&nbsp;6<br></td><td><a class=\"ProveItLink\" href=\"../d078ed5b4cd09f46165412ae28a347efa37c05c50/expr.ipynb\"><img src=\"../d078ed5b4cd09f46165412ae28a347efa37c05c50/expr.png\" style=\"display:inline;vertical-align:middle;\" /></a></td></tr>\n",
       "<tr><td>3</td><td>Operation</td><td>operator:&nbsp;7<br>operand:&nbsp;11<br></td><td><a class=\"ProveItLink\" href=\"../bf67f9f2a16b18f77fee1b4b30465374ab124c1e0/expr.ipynb\"><img src=\"../bf67f9f2a16b18f77fee1b4b30465374ab124c1e0/expr.png\" style=\"display:inline;vertical-align:middle;\" /></a></td></tr>\n",
       "<tr><td>4</td><td>Literal</td><td></td><td><a class=\"ProveItLink\" href=\"../../common/96232b9016d8d3baf1cf9772ef796ddaf8f7f4610/expr.ipynb\"><img src=\"../../common/96232b9016d8d3baf1cf9772ef796ddaf8f7f4610/expr.png\" style=\"display:inline;vertical-align:middle;\" /></a></td></tr>\n",
       "<tr><td>5</td><td>Literal</td><td></td><td><a class=\"ProveItLink\" href=\"../../common/38deceb0a69e80c36399d725649803706802a2a90/expr.ipynb\"><img src=\"../../common/38deceb0a69e80c36399d725649803706802a2a90/expr.png\" style=\"display:inline;vertical-align:middle;\" /></a></td></tr>\n",
       "<tr><td>6</td><td>ExprTuple</td><td>9, 10</td><td><a class=\"ProveItLink\" href=\"../81d566eeb0bc18296ad21ae9edb1683b0dbf84900/expr.ipynb\"><img src=\"../81d566eeb0bc18296ad21ae9edb1683b0dbf84900/expr.png\" style=\"display:inline;vertical-align:middle;\" /></a></td></tr>\n",
       "<tr><td>7</td><td>Literal</td><td></td><td><a class=\"ProveItLink\" href=\"../../common/a31fa972f0ff74e32d7bde73a99a2ddf76467fac0/expr.ipynb\"><img src=\"../../common/a31fa972f0ff74e32d7bde73a99a2ddf76467fac0/expr.png\" style=\"display:inline;vertical-align:middle;\" /></a></td></tr>\n",
       "<tr><td>8</td><td>ExprTuple</td><td>11</td><td><a class=\"ProveItLink\" href=\"../4d8b8c4d6a6654455ea78c868c1eabd1a7b225530/expr.ipynb\"><img src=\"../4d8b8c4d6a6654455ea78c868c1eabd1a7b225530/expr.png\" style=\"display:inline;vertical-align:middle;\" /></a></td></tr>\n",
       "<tr><td>9</td><td>Literal</td><td></td><td><a class=\"ProveItLink\" href=\"../../common/c9c8328efedcafef6f2fc9fe107a9c89fd772b250/expr.ipynb\"><img src=\"../../common/c9c8328efedcafef6f2fc9fe107a9c89fd772b250/expr.png\" style=\"display:inline;vertical-align:middle;\" /></a></td></tr>\n",
       "<tr><td>10</td><td>Operation</td><td>operator:&nbsp;12<br>operands:&nbsp;13<br></td><td><a class=\"ProveItLink\" href=\"../6cfcf995f91fc94e5142f84a5a4bb6b4500d55bd0/expr.ipynb\"><img src=\"../6cfcf995f91fc94e5142f84a5a4bb6b4500d55bd0/expr.png\" style=\"display:inline;vertical-align:middle;\" /></a></td></tr>\n",
       "<tr><td>11</td><td>Operation</td><td>operator:&nbsp;14<br>operand:&nbsp;18<br></td><td><a class=\"ProveItLink\" href=\"../../common/657153f886e06f25f3afe5329bbf35664d219ac40/expr.ipynb\"><img src=\"../../common/657153f886e06f25f3afe5329bbf35664d219ac40/expr.png\" style=\"display:inline;vertical-align:middle;\" /></a></td></tr>\n",
       "<tr><td>12</td><td>Literal</td><td></td><td><a class=\"ProveItLink\" href=\"../../../../../logic/sets/enumeration/__pv_it/common/f7caf702081f903a6ea3d95d680568dd78698f5a0/expr.ipynb\"><img src=\"../../../../../logic/sets/enumeration/__pv_it/common/f7caf702081f903a6ea3d95d680568dd78698f5a0/expr.png\" style=\"display:inline;vertical-align:middle;\" /></a></td></tr>\n",
       "<tr><td>13</td><td>ExprTuple</td><td>16, 17</td><td><a class=\"ProveItLink\" href=\"../../../../../numbers/numerals/decimals/__pv_it/theorems/597847cc5f00b6f9afa210fcfbb2e72452d288ad0/expr.ipynb\"><img src=\"../../../../../numbers/numerals/decimals/__pv_it/theorems/597847cc5f00b6f9afa210fcfbb2e72452d288ad0/expr.png\" style=\"display:inline;vertical-align:middle;\" /></a></td></tr>\n",
       "<tr><td>14</td><td>Literal</td><td></td><td><a class=\"ProveItLink\" href=\"../../common/6e9e7d19bd9dfa08dee7501fca955461a19971770/expr.ipynb\"><img src=\"../../common/6e9e7d19bd9dfa08dee7501fca955461a19971770/expr.png\" style=\"display:inline;vertical-align:middle;\" /></a></td></tr>\n",
       "<tr><td>15</td><td>ExprTuple</td><td>18</td><td><a class=\"ProveItLink\" href=\"../../common/983fb1abdb7789966ec8b7afe0d4f7ca8578c9e50/expr.ipynb\"><img src=\"../../common/983fb1abdb7789966ec8b7afe0d4f7ca8578c9e50/expr.png\" style=\"display:inline;vertical-align:middle;\" /></a></td></tr>\n",
       "<tr><td>16</td><td>Literal</td><td></td><td><a class=\"ProveItLink\" href=\"../../../../../numbers/numerals/__pv_it/common/1477ef887611bedb97dfb89bcacde217bb43e8ed0/expr.ipynb\"><img src=\"../../../../../numbers/numerals/__pv_it/common/1477ef887611bedb97dfb89bcacde217bb43e8ed0/expr.png\" style=\"display:inline;vertical-align:middle;\" /></a></td></tr>\n",
       "<tr><td>17</td><td>Literal</td><td></td><td><a class=\"ProveItLink\" href=\"../../../../../numbers/numerals/__pv_it/common/de8f3e06d530f467e73bdbc965d9d86fa0f1b0db0/expr.ipynb\"><img src=\"../../../../../numbers/numerals/__pv_it/common/de8f3e06d530f467e73bdbc965d9d86fa0f1b0db0/expr.png\" style=\"display:inline;vertical-align:middle;\" /></a></td></tr>\n",
       "<tr><td>18</td><td>Literal</td><td></td><td><a class=\"ProveItLink\" href=\"../../../../../numbers/numerals/__pv_it/common/d278e359da0695d9652dd541d45264f93703e2e40/expr.ipynb\"><img src=\"../../../../../numbers/numerals/__pv_it/common/d278e359da0695d9652dd541d45264f93703e2e40/expr.png\" style=\"display:inline;vertical-align:middle;\" /></a></td></tr>\n",
       "</table>\n"
      ],
      "text/plain": [
       "0. (Input(|1〉), MultiQubitGate(Z, {3, 4}), Output(|1〉))\n",
       "   core type: ExprTuple\n",
       "   sub-expressions: 1, 2, 3\n",
       "1. Input(|1〉)\n",
       "   core type: Operation\n",
       "   operator: 4\n",
       "   operand: 11\n",
       "2. MultiQubitGate(Z, {3, 4})\n",
       "   core type: Operation\n",
       "   operator: 5\n",
       "   operands: 6\n",
       "3. Output(|1〉)\n",
       "   core type: Operation\n",
       "   operator: 7\n",
       "   operand: 11\n",
       "4. INPUT\n",
       "   core type: Literal\n",
       "   sub-expressions: \n",
       "5. MULTI_QUBIT_GATE\n",
       "   core type: Literal\n",
       "   sub-expressions: \n",
       "6. (Z, {3, 4})\n",
       "   core type: ExprTuple\n",
       "   sub-expressions: 9, 10\n",
       "7. OUTPUT\n",
       "   core type: Literal\n",
       "   sub-expressions: \n",
       "8. (|1〉)\n",
       "   core type: ExprTuple\n",
       "   sub-expressions: 11\n",
       "9. Z\n",
       "   core type: Literal\n",
       "   sub-expressions: \n",
       "10. {3, 4}\n",
       "    core type: Operation\n",
       "    operator: 12\n",
       "    operands: 13\n",
       "11. |1〉\n",
       "    core type: Operation\n",
       "    operator: 14\n",
       "    operand: 18\n",
       "12. Set\n",
       "    core type: Literal\n",
       "    sub-expressions: \n",
       "13. (3, 4)\n",
       "    core type: ExprTuple\n",
       "    sub-expressions: 16, 17\n",
       "14. KET\n",
       "    core type: Literal\n",
       "    sub-expressions: \n",
       "15. (1)\n",
       "    core type: ExprTuple\n",
       "    sub-expressions: 18\n",
       "16. 3\n",
       "    core type: Literal\n",
       "    sub-expressions: \n",
       "17. 4\n",
       "    core type: Literal\n",
       "    sub-expressions: \n",
       "18. 1\n",
       "    core type: Literal\n",
       "    sub-expressions: "
      ]
     },
     "execution_count": 6,
     "metadata": {},
     "output_type": "execute_result"
    }
   ],
   "source": [
    "# display the expression information\n",
    "expr.expr_info()"
   ]
  },
  {
   "cell_type": "code",
   "execution_count": null,
   "metadata": {},
   "outputs": [],
   "source": []
  }
 ],
 "metadata": {
  "kernelspec": {
   "display_name": "Python 3",
   "language": "python",
   "name": "python3"
  }
 },
 "nbformat": 4,
 "nbformat_minor": 0
}