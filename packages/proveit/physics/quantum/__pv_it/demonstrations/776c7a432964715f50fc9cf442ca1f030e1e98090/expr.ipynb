{
 "cells": [
  {
   "cell_type": "markdown",
   "metadata": {},
   "source": [
    "Expression of type <a class=\"ProveItLink\" href=\"../../../../../../../doc/html/api/proveit.physics.quantum.circuit.Circuit.html\">Circuit</a>\n",
    "=======================\n",
    "# from the theory of <a class=\"ProveItLink\" href=\"../../../_theory_nbs_/theory.ipynb\">proveit.physics.quantum</a>"
   ]
  },
  {
   "cell_type": "code",
   "execution_count": 1,
   "metadata": {},
   "outputs": [],
   "source": [
    "import proveit\n",
    "# Automation is not needed when building an expression:\n",
    "proveit.defaults.automation = False # This will speed things up.\n",
    "proveit.defaults.inline_pngs = False # Makes files smaller.\n",
    "%load_expr # Load the stored expression as 'stored_expr'\n",
    "# import Expression classes needed to build the expression\n",
    "from proveit import ExprArray\n",
    "from proveit.logic import Set\n",
    "from proveit.numbers import four, one, seven, six, three, two\n",
    "from proveit.physics.quantum import CONTROL, Gate, I, Input, Output, X, Z, ket0, ket1\n",
    "from proveit.physics.quantum.circuit import Circuit, MultiQubitGate"
   ]
  },
  {
   "cell_type": "code",
   "execution_count": 2,
   "metadata": {},
   "outputs": [
    {
     "data": {
      "text/html": [
       "<strong id=\"expr\">expr:</strong> <a class=\"ProveItLink\" href=\"expr.ipynb\"><img src=\"expr.png\" style=\"display:inline;vertical-align:middle;\" /></a><br>"
      ],
      "text/plain": [
       "expr:  Input(|0〉)  & MultiQubitGate(CONTROL, {1, 2, 3, 4, 6, 7})  & Output(|0〉)   \\\\ \n",
       "   Input(|0〉)  & MultiQubitGate(CONTROL, {1, 2, 3, 4, 6, 7})  & Output(|0〉)   \\\\ \n",
       "   Input(|0〉)  & MultiQubitGate(Z, {1, 2, 3, 4, 6, 7})  & Output(|0〉)   \\\\ \n",
       "   Input(|1〉)  & MultiQubitGate(X, {1, 2, 3, 4, 6, 7})  & Output(|1〉)   \\\\ \n",
       "   Input(|0〉)  & Gate(I)  & Output(|0〉)   \\\\ \n",
       "   Input(|1〉)  & MultiQubitGate(X, {1, 2, 3, 4, 6, 7})  & Output(|1〉)   \\\\ \n",
       "   Input(|1〉)  & MultiQubitGate(Z, {1, 2, 3, 4, 6, 7})  & Output(|1〉)"
      ]
     },
     "execution_count": 2,
     "metadata": {},
     "output_type": "execute_result"
    }
   ],
   "source": [
    "# build up the expression from sub-expressions\n",
    "sub_expr1 = Set(one, two, three, four, six, seven)\n",
    "sub_expr2 = Input(ket0)\n",
    "sub_expr3 = Output(ket0)\n",
    "sub_expr4 = MultiQubitGate(Z, sub_expr1)\n",
    "sub_expr5 = Input(ket1)\n",
    "sub_expr6 = Output(ket1)\n",
    "sub_expr7 = [sub_expr2, MultiQubitGate(CONTROL, sub_expr1), sub_expr3]\n",
    "sub_expr8 = [sub_expr5, MultiQubitGate(X, sub_expr1), sub_expr6]\n",
    "expr = Circuit(ExprArray(sub_expr7, sub_expr7, [sub_expr2, sub_expr4, sub_expr3], sub_expr8, [sub_expr2, Gate(I), sub_expr3], sub_expr8, [sub_expr5, sub_expr4, sub_expr6]))"
   ]
  },
  {
   "cell_type": "code",
   "execution_count": 3,
   "metadata": {},
   "outputs": [
    {
     "name": "stdout",
     "output_type": "stream",
     "text": [
      "Passed sanity check: expr matches stored_expr\n"
     ]
    }
   ],
   "source": [
    "# check that the built expression is the same as the stored expression\n",
    "assert expr == stored_expr\n",
    "assert expr._style_id == stored_expr._style_id\n",
    "print(\"Passed sanity check: expr matches stored_expr\")"
   ]
  },
  {
   "cell_type": "code",
   "execution_count": 4,
   "metadata": {},
   "outputs": [
    {
     "name": "stdout",
     "output_type": "stream",
     "text": [
      "\\hspace{2em} \\Qcircuit@C=1em @R=.7em{\n",
      "& \\lstick{\\lvert 0 \\rangle} & \\control \\qw \\qwx[1] & \\rstick{\\lvert 0 \\rangle} \\qw   \\\\ \n",
      "  & \\lstick{\\lvert 0 \\rangle} & \\control \\qw \\qwx[1] & \\rstick{\\lvert 0 \\rangle} \\qw   \\\\ \n",
      "  & \\lstick{\\lvert 0 \\rangle} & \\gate{Z} \\qwx[1] & \\rstick{\\lvert 0 \\rangle} \\qw   \\\\ \n",
      "  & \\lstick{\\lvert 1 \\rangle} & \\gate{X} \\qwx[2] & \\rstick{\\lvert 1 \\rangle} \\qw   \\\\ \n",
      "  & \\lstick{\\lvert 0 \\rangle} & \\gate{I} & \\rstick{\\lvert 0 \\rangle} \\qw   \\\\ \n",
      "  & \\lstick{\\lvert 1 \\rangle} & \\gate{X} \\qwx[1] & \\rstick{\\lvert 1 \\rangle} \\qw   \\\\ \n",
      "  & \\lstick{\\lvert 1 \\rangle} & \\gate{Z} & \\rstick{\\lvert 1 \\rangle} \\qw \n",
      "} \\hspace{2em}\n"
     ]
    }
   ],
   "source": [
    "# Show the LaTeX representation of the expression for convenience if you need it.\n",
    "print(expr.latex())"
   ]
  },
  {
   "cell_type": "code",
   "execution_count": 5,
   "metadata": {},
   "outputs": [
    {
     "data": {
      "text/html": [
       "<table>\n",
       "<tr><th>name</th><th>description</th><th>default</th><th>current value</th><th>related methods</th></tr><tr><td>spacing</td><td>change the spacing of a circuit using the format '@C=1em @R=.7em' where C is the column spacing and R is the row spacing</td><td>@C=1em @R=.7em</td><td>@C=1em @R=.7em</td><td></td></tr>\n",
       "<tr><td>orientation</td><td>to be read from left to right then top to bottom ('horizontal') or to be read top to bottom then left to right ('vertical')</td><td>horizontal</td><td>horizontal</td><td>with_orientation</td></tr>\n",
       "</table>\n"
      ],
      "text/plain": [
       "style name: spacing\n",
       "description: change the spacing of a circuit using the format '@C=1em @R=.7em' where C is the column spacing and R is the row spacing\n",
       "default: @C=1em @R=.7em\n",
       "current value: @C=1em @R=.7em\n",
       "related methods: ()\n",
       "style name: orientation\n",
       "description: to be read from left to right then top to bottom ('horizontal') or to be read top to bottom then left to right ('vertical')\n",
       "default: horizontal\n",
       "current value: horizontal\n",
       "related methods: with_orientation"
      ]
     },
     "execution_count": 5,
     "metadata": {},
     "output_type": "execute_result"
    }
   ],
   "source": [
    "expr.style_options()"
   ]
  },
  {
   "cell_type": "code",
   "execution_count": 6,
   "metadata": {},
   "outputs": [
    {
     "data": {
      "text/html": [
       "<table><tr><th>&nbsp;</th><th>core type</th><th>sub-expressions</th><th>expression</th></tr>\n",
       "<tr><td>0</td><td>Operation</td><td>operator:&nbsp;1<br>operand:&nbsp;3<br></td><td><a class=\"ProveItLink\" href=\"expr.ipynb\"><img src=\"expr.png\" style=\"display:inline;vertical-align:middle;\" /></a></td></tr>\n",
       "<tr><td>1</td><td>Literal</td><td></td><td><a class=\"ProveItLink\" href=\"../../common/bfa5cfb2e03dde2ed2a79fcd50b6e0ef7e57c1b10/expr.ipynb\"><img src=\"../../common/bfa5cfb2e03dde2ed2a79fcd50b6e0ef7e57c1b10/expr.png\" style=\"display:inline;vertical-align:middle;\" /></a></td></tr>\n",
       "<tr><td>2</td><td>ExprTuple</td><td>3</td><td><a class=\"ProveItLink\" href=\"../aa375fa762d4af2385de48628243bf9a54015c6d0/expr.ipynb\"><img src=\"../aa375fa762d4af2385de48628243bf9a54015c6d0/expr.png\" style=\"display:inline;vertical-align:middle;\" /></a></td></tr>\n",
       "<tr><td>3</td><td>ExprTuple</td><td>4, 4, 5, 7, 6, 7, 8</td><td><a class=\"ProveItLink\" href=\"../55b7a60ad5e1c012395348e2e2f3fcd24ca989e60/expr.ipynb\"><img src=\"../55b7a60ad5e1c012395348e2e2f3fcd24ca989e60/expr.png\" style=\"display:inline;vertical-align:middle;\" /></a></td></tr>\n",
       "<tr><td>4</td><td>ExprTuple</td><td>10, 9, 12</td><td><a class=\"ProveItLink\" href=\"../64ba00cfa195e121f86b91c6a03f1fc23dd780c00/expr.ipynb\"><img src=\"../64ba00cfa195e121f86b91c6a03f1fc23dd780c00/expr.png\" style=\"display:inline;vertical-align:middle;\" /></a></td></tr>\n",
       "<tr><td>5</td><td>ExprTuple</td><td>10, 15, 12</td><td><a class=\"ProveItLink\" href=\"../b1f0222e2078f8dce0faa0a985aa9bf9cc63165a0/expr.ipynb\"><img src=\"../b1f0222e2078f8dce0faa0a985aa9bf9cc63165a0/expr.png\" style=\"display:inline;vertical-align:middle;\" /></a></td></tr>\n",
       "<tr><td>6</td><td>ExprTuple</td><td>10, 11, 12</td><td><a class=\"ProveItLink\" href=\"../279e73d34fc5ff6b4294e9a4a698182c2a2240130/expr.ipynb\"><img src=\"../279e73d34fc5ff6b4294e9a4a698182c2a2240130/expr.png\" style=\"display:inline;vertical-align:middle;\" /></a></td></tr>\n",
       "<tr><td>7</td><td>ExprTuple</td><td>14, 13, 16</td><td><a class=\"ProveItLink\" href=\"../9c76ea28fc793635206351dcf7c5042895920efa0/expr.ipynb\"><img src=\"../9c76ea28fc793635206351dcf7c5042895920efa0/expr.png\" style=\"display:inline;vertical-align:middle;\" /></a></td></tr>\n",
       "<tr><td>8</td><td>ExprTuple</td><td>14, 15, 16</td><td><a class=\"ProveItLink\" href=\"../2ff91aa4b1c7daf0db52a28037065de8c70ab9570/expr.ipynb\"><img src=\"../2ff91aa4b1c7daf0db52a28037065de8c70ab9570/expr.png\" style=\"display:inline;vertical-align:middle;\" /></a></td></tr>\n",
       "<tr><td>9</td><td>Operation</td><td>operator:&nbsp;23<br>operands:&nbsp;17<br></td><td><a class=\"ProveItLink\" href=\"../e9709afe617007b64ec54fcf7ae0f5cd83a4ad750/expr.ipynb\"><img src=\"../e9709afe617007b64ec54fcf7ae0f5cd83a4ad750/expr.png\" style=\"display:inline;vertical-align:middle;\" /></a></td></tr>\n",
       "<tr><td>10</td><td>Operation</td><td>operator:&nbsp;22<br>operand:&nbsp;29<br></td><td><a class=\"ProveItLink\" href=\"../271a5a18fe9fbd66bf7cebe896a864929c82c90a0/expr.ipynb\"><img src=\"../271a5a18fe9fbd66bf7cebe896a864929c82c90a0/expr.png\" style=\"display:inline;vertical-align:middle;\" /></a></td></tr>\n",
       "<tr><td>11</td><td>Operation</td><td>operator:&nbsp;18<br>operand:&nbsp;28<br></td><td><a class=\"ProveItLink\" href=\"../82ba5d0e0c2f03fa7362c3cf5c38aeff7f4872f20/expr.ipynb\"><img src=\"../82ba5d0e0c2f03fa7362c3cf5c38aeff7f4872f20/expr.png\" style=\"display:inline;vertical-align:middle;\" /></a></td></tr>\n",
       "<tr><td>12</td><td>Operation</td><td>operator:&nbsp;25<br>operand:&nbsp;29<br></td><td><a class=\"ProveItLink\" href=\"../00a4d237e323b639861f7961a6dc660830f20e420/expr.ipynb\"><img src=\"../00a4d237e323b639861f7961a6dc660830f20e420/expr.png\" style=\"display:inline;vertical-align:middle;\" /></a></td></tr>\n",
       "<tr><td>13</td><td>Operation</td><td>operator:&nbsp;23<br>operands:&nbsp;21<br></td><td><a class=\"ProveItLink\" href=\"../11d55fe7ad20afac80975a362dd372f371b1fa750/expr.ipynb\"><img src=\"../11d55fe7ad20afac80975a362dd372f371b1fa750/expr.png\" style=\"display:inline;vertical-align:middle;\" /></a></td></tr>\n",
       "<tr><td>14</td><td>Operation</td><td>operator:&nbsp;22<br>operand:&nbsp;33<br></td><td><a class=\"ProveItLink\" href=\"../4122cc3d8a9e5b277b47d5e2616202b12aa223c70/expr.ipynb\"><img src=\"../4122cc3d8a9e5b277b47d5e2616202b12aa223c70/expr.png\" style=\"display:inline;vertical-align:middle;\" /></a></td></tr>\n",
       "<tr><td>15</td><td>Operation</td><td>operator:&nbsp;23<br>operands:&nbsp;24<br></td><td><a class=\"ProveItLink\" href=\"../76244c1899366acaee3be4e3ee5b2ed7d7966a650/expr.ipynb\"><img src=\"../76244c1899366acaee3be4e3ee5b2ed7d7966a650/expr.png\" style=\"display:inline;vertical-align:middle;\" /></a></td></tr>\n",
       "<tr><td>16</td><td>Operation</td><td>operator:&nbsp;25<br>operand:&nbsp;33<br></td><td><a class=\"ProveItLink\" href=\"../bf67f9f2a16b18f77fee1b4b30465374ab124c1e0/expr.ipynb\"><img src=\"../bf67f9f2a16b18f77fee1b4b30465374ab124c1e0/expr.png\" style=\"display:inline;vertical-align:middle;\" /></a></td></tr>\n",
       "<tr><td>17</td><td>ExprTuple</td><td>27, 32</td><td><a class=\"ProveItLink\" href=\"../6d00963834050d8de75311b98be915b15f609e3f0/expr.ipynb\"><img src=\"../6d00963834050d8de75311b98be915b15f609e3f0/expr.png\" style=\"display:inline;vertical-align:middle;\" /></a></td></tr>\n",
       "<tr><td>18</td><td>Literal</td><td></td><td><a class=\"ProveItLink\" href=\"../../common/44032ea2879a75be63dcfde93f5992fe3f6108fc0/expr.ipynb\"><img src=\"../../common/44032ea2879a75be63dcfde93f5992fe3f6108fc0/expr.png\" style=\"display:inline;vertical-align:middle;\" /></a></td></tr>\n",
       "<tr><td>19</td><td>ExprTuple</td><td>28</td><td><a class=\"ProveItLink\" href=\"../5646fdbb74621b8a26dd0d2cdeb07ac823e044ab0/expr.ipynb\"><img src=\"../5646fdbb74621b8a26dd0d2cdeb07ac823e044ab0/expr.png\" style=\"display:inline;vertical-align:middle;\" /></a></td></tr>\n",
       "<tr><td>20</td><td>ExprTuple</td><td>29</td><td><a class=\"ProveItLink\" href=\"../2e08f8b9cff939b748ed0fc8eeba819770b042a90/expr.ipynb\"><img src=\"../2e08f8b9cff939b748ed0fc8eeba819770b042a90/expr.png\" style=\"display:inline;vertical-align:middle;\" /></a></td></tr>\n",
       "<tr><td>21</td><td>ExprTuple</td><td>30, 32</td><td><a class=\"ProveItLink\" href=\"../60e269dbbe8d31253fb89ec131840c01257bccd80/expr.ipynb\"><img src=\"../60e269dbbe8d31253fb89ec131840c01257bccd80/expr.png\" style=\"display:inline;vertical-align:middle;\" /></a></td></tr>\n",
       "<tr><td>22</td><td>Literal</td><td></td><td><a class=\"ProveItLink\" href=\"../../common/96232b9016d8d3baf1cf9772ef796ddaf8f7f4610/expr.ipynb\"><img src=\"../../common/96232b9016d8d3baf1cf9772ef796ddaf8f7f4610/expr.png\" style=\"display:inline;vertical-align:middle;\" /></a></td></tr>\n",
       "<tr><td>23</td><td>Literal</td><td></td><td><a class=\"ProveItLink\" href=\"../../common/38deceb0a69e80c36399d725649803706802a2a90/expr.ipynb\"><img src=\"../../common/38deceb0a69e80c36399d725649803706802a2a90/expr.png\" style=\"display:inline;vertical-align:middle;\" /></a></td></tr>\n",
       "<tr><td>24</td><td>ExprTuple</td><td>31, 32</td><td><a class=\"ProveItLink\" href=\"../f4112d8c96e3921b025ddb184976260bef1701430/expr.ipynb\"><img src=\"../f4112d8c96e3921b025ddb184976260bef1701430/expr.png\" style=\"display:inline;vertical-align:middle;\" /></a></td></tr>\n",
       "<tr><td>25</td><td>Literal</td><td></td><td><a class=\"ProveItLink\" href=\"../../common/a31fa972f0ff74e32d7bde73a99a2ddf76467fac0/expr.ipynb\"><img src=\"../../common/a31fa972f0ff74e32d7bde73a99a2ddf76467fac0/expr.png\" style=\"display:inline;vertical-align:middle;\" /></a></td></tr>\n",
       "<tr><td>26</td><td>ExprTuple</td><td>33</td><td><a class=\"ProveItLink\" href=\"../4d8b8c4d6a6654455ea78c868c1eabd1a7b225530/expr.ipynb\"><img src=\"../4d8b8c4d6a6654455ea78c868c1eabd1a7b225530/expr.png\" style=\"display:inline;vertical-align:middle;\" /></a></td></tr>\n",
       "<tr><td>27</td><td>Literal</td><td></td><td><a class=\"ProveItLink\" href=\"../../common/b1beec78d8cd5a1effa0b2b1f6910261ffe687cf0/expr.ipynb\"><img src=\"../../common/b1beec78d8cd5a1effa0b2b1f6910261ffe687cf0/expr.png\" style=\"display:inline;vertical-align:middle;\" /></a></td></tr>\n",
       "<tr><td>28</td><td>Literal</td><td></td><td><a class=\"ProveItLink\" href=\"../../common/1684671b210bf82fb5ddcb39adbc3acaab7ab55e0/expr.ipynb\"><img src=\"../../common/1684671b210bf82fb5ddcb39adbc3acaab7ab55e0/expr.png\" style=\"display:inline;vertical-align:middle;\" /></a></td></tr>\n",
       "<tr><td>29</td><td>Operation</td><td>operator:&nbsp;37<br>operand:&nbsp;39<br></td><td><a class=\"ProveItLink\" href=\"../../common/ed60e75561684be6b18310df5c479706894f1f410/expr.ipynb\"><img src=\"../../common/ed60e75561684be6b18310df5c479706894f1f410/expr.png\" style=\"display:inline;vertical-align:middle;\" /></a></td></tr>\n",
       "<tr><td>30</td><td>Literal</td><td></td><td><a class=\"ProveItLink\" href=\"../../common/94315bad5d6fa05ec6d0fac545cf2b5b7ed20d800/expr.ipynb\"><img src=\"../../common/94315bad5d6fa05ec6d0fac545cf2b5b7ed20d800/expr.png\" style=\"display:inline;vertical-align:middle;\" /></a></td></tr>\n",
       "<tr><td>31</td><td>Literal</td><td></td><td><a class=\"ProveItLink\" href=\"../../common/c9c8328efedcafef6f2fc9fe107a9c89fd772b250/expr.ipynb\"><img src=\"../../common/c9c8328efedcafef6f2fc9fe107a9c89fd772b250/expr.png\" style=\"display:inline;vertical-align:middle;\" /></a></td></tr>\n",
       "<tr><td>32</td><td>Operation</td><td>operator:&nbsp;35<br>operands:&nbsp;36<br></td><td><a class=\"ProveItLink\" href=\"../14c7223459bc6eee95870b1015043ceacb05612f0/expr.ipynb\"><img src=\"../14c7223459bc6eee95870b1015043ceacb05612f0/expr.png\" style=\"display:inline;vertical-align:middle;\" /></a></td></tr>\n",
       "<tr><td>33</td><td>Operation</td><td>operator:&nbsp;37<br>operand:&nbsp;45<br></td><td><a class=\"ProveItLink\" href=\"../../common/657153f886e06f25f3afe5329bbf35664d219ac40/expr.ipynb\"><img src=\"../../common/657153f886e06f25f3afe5329bbf35664d219ac40/expr.png\" style=\"display:inline;vertical-align:middle;\" /></a></td></tr>\n",
       "<tr><td>34</td><td>ExprTuple</td><td>39</td><td><a class=\"ProveItLink\" href=\"../../common/f243cd078d9a833f4a423d1194e14ef4aae6b6fe0/expr.ipynb\"><img src=\"../../common/f243cd078d9a833f4a423d1194e14ef4aae6b6fe0/expr.png\" style=\"display:inline;vertical-align:middle;\" /></a></td></tr>\n",
       "<tr><td>35</td><td>Literal</td><td></td><td><a class=\"ProveItLink\" href=\"../../../../../logic/sets/enumeration/__pv_it/common/f7caf702081f903a6ea3d95d680568dd78698f5a0/expr.ipynb\"><img src=\"../../../../../logic/sets/enumeration/__pv_it/common/f7caf702081f903a6ea3d95d680568dd78698f5a0/expr.png\" style=\"display:inline;vertical-align:middle;\" /></a></td></tr>\n",
       "<tr><td>36</td><td>ExprTuple</td><td>45, 40, 41, 42, 43, 44</td><td><a class=\"ProveItLink\" href=\"../a0c9bb6d700fa15e7b7e018e00ed750a701e181b0/expr.ipynb\"><img src=\"../a0c9bb6d700fa15e7b7e018e00ed750a701e181b0/expr.png\" style=\"display:inline;vertical-align:middle;\" /></a></td></tr>\n",
       "<tr><td>37</td><td>Literal</td><td></td><td><a class=\"ProveItLink\" href=\"../../common/6e9e7d19bd9dfa08dee7501fca955461a19971770/expr.ipynb\"><img src=\"../../common/6e9e7d19bd9dfa08dee7501fca955461a19971770/expr.png\" style=\"display:inline;vertical-align:middle;\" /></a></td></tr>\n",
       "<tr><td>38</td><td>ExprTuple</td><td>45</td><td><a class=\"ProveItLink\" href=\"../../common/983fb1abdb7789966ec8b7afe0d4f7ca8578c9e50/expr.ipynb\"><img src=\"../../common/983fb1abdb7789966ec8b7afe0d4f7ca8578c9e50/expr.png\" style=\"display:inline;vertical-align:middle;\" /></a></td></tr>\n",
       "<tr><td>39</td><td>Literal</td><td></td><td><a class=\"ProveItLink\" href=\"../../../../../numbers/numerals/__pv_it/common/c35fdf7268947ca3e24174d2909dc9d0a7f3aac60/expr.ipynb\"><img src=\"../../../../../numbers/numerals/__pv_it/common/c35fdf7268947ca3e24174d2909dc9d0a7f3aac60/expr.png\" style=\"display:inline;vertical-align:middle;\" /></a></td></tr>\n",
       "<tr><td>40</td><td>Literal</td><td></td><td><a class=\"ProveItLink\" href=\"../../../../../numbers/numerals/__pv_it/common/3829356ce3fdf8f35810c63c00bc1a19e838663e0/expr.ipynb\"><img src=\"../../../../../numbers/numerals/__pv_it/common/3829356ce3fdf8f35810c63c00bc1a19e838663e0/expr.png\" style=\"display:inline;vertical-align:middle;\" /></a></td></tr>\n",
       "<tr><td>41</td><td>Literal</td><td></td><td><a class=\"ProveItLink\" href=\"../../../../../numbers/numerals/__pv_it/common/1477ef887611bedb97dfb89bcacde217bb43e8ed0/expr.ipynb\"><img src=\"../../../../../numbers/numerals/__pv_it/common/1477ef887611bedb97dfb89bcacde217bb43e8ed0/expr.png\" style=\"display:inline;vertical-align:middle;\" /></a></td></tr>\n",
       "<tr><td>42</td><td>Literal</td><td></td><td><a class=\"ProveItLink\" href=\"../../../../../numbers/numerals/__pv_it/common/de8f3e06d530f467e73bdbc965d9d86fa0f1b0db0/expr.ipynb\"><img src=\"../../../../../numbers/numerals/__pv_it/common/de8f3e06d530f467e73bdbc965d9d86fa0f1b0db0/expr.png\" style=\"display:inline;vertical-align:middle;\" /></a></td></tr>\n",
       "<tr><td>43</td><td>Literal</td><td></td><td><a class=\"ProveItLink\" href=\"../../../../../numbers/numerals/__pv_it/common/e92f2eb8875f57bde12b9565488203e625f9ad050/expr.ipynb\"><img src=\"../../../../../numbers/numerals/__pv_it/common/e92f2eb8875f57bde12b9565488203e625f9ad050/expr.png\" style=\"display:inline;vertical-align:middle;\" /></a></td></tr>\n",
       "<tr><td>44</td><td>Literal</td><td></td><td><a class=\"ProveItLink\" href=\"../../../../../numbers/numerals/__pv_it/common/b95fab7ea5ddf539bf59447b56d437127ddf4e5f0/expr.ipynb\"><img src=\"../../../../../numbers/numerals/__pv_it/common/b95fab7ea5ddf539bf59447b56d437127ddf4e5f0/expr.png\" style=\"display:inline;vertical-align:middle;\" /></a></td></tr>\n",
       "<tr><td>45</td><td>Literal</td><td></td><td><a class=\"ProveItLink\" href=\"../../../../../numbers/numerals/__pv_it/common/d278e359da0695d9652dd541d45264f93703e2e40/expr.ipynb\"><img src=\"../../../../../numbers/numerals/__pv_it/common/d278e359da0695d9652dd541d45264f93703e2e40/expr.png\" style=\"display:inline;vertical-align:middle;\" /></a></td></tr>\n",
       "</table>\n"
      ],
      "text/plain": [
       "0.  Input(|0〉)  & MultiQubitGate(CONTROL, {1, 2, 3, 4, 6, 7})  & Output(|0〉)   \\\\ \n",
       "   Input(|0〉)  & MultiQubitGate(CONTROL, {1, 2, 3, 4, 6, 7})  & Output(|0〉)   \\\\ \n",
       "   Input(|0〉)  & MultiQubitGate(Z, {1, 2, 3, 4, 6, 7})  & Output(|0〉)   \\\\ \n",
       "   Input(|1〉)  & MultiQubitGate(X, {1, 2, 3, 4, 6, 7})  & Output(|1〉)   \\\\ \n",
       "   Input(|0〉)  & Gate(I)  & Output(|0〉)   \\\\ \n",
       "   Input(|1〉)  & MultiQubitGate(X, {1, 2, 3, 4, 6, 7})  & Output(|1〉)   \\\\ \n",
       "   Input(|1〉)  & MultiQubitGate(Z, {1, 2, 3, 4, 6, 7})  & Output(|1〉)\n",
       "   core type: Operation\n",
       "   operator: 1\n",
       "   operand: 3\n",
       "1. CIRCUIT\n",
       "   core type: Literal\n",
       "   sub-expressions: \n",
       "2. ((Input(|0〉) & MultiQubitGate(CONTROL, {1, 2, 3, 4, 6, 7}) & Output(|0〉)  \\\\ \n",
       "  Input(|0〉) & MultiQubitGate(CONTROL, {1, 2, 3, 4, 6, 7}) & Output(|0〉)  \\\\ \n",
       "  Input(|0〉) & MultiQubitGate(Z, {1, 2, 3, 4, 6, 7}) & Output(|0〉)  \\\\ \n",
       "  Input(|1〉) & MultiQubitGate(X, {1, 2, 3, 4, 6, 7}) & Output(|1〉)  \\\\ \n",
       "  Input(|0〉) & Gate(I) & Output(|0〉)  \\\\ \n",
       "  Input(|1〉) & MultiQubitGate(X, {1, 2, 3, 4, 6, 7}) & Output(|1〉)  \\\\ \n",
       "  Input(|1〉) & MultiQubitGate(Z, {1, 2, 3, 4, 6, 7}) & Output(|1〉)))\n",
       "   core type: ExprTuple\n",
       "   sub-expressions: 3\n",
       "3. Input(|0〉) & MultiQubitGate(CONTROL, {1, 2, 3, 4, 6, 7}) & Output(|0〉)  \\\\ \n",
       "  Input(|0〉) & MultiQubitGate(CONTROL, {1, 2, 3, 4, 6, 7}) & Output(|0〉)  \\\\ \n",
       "  Input(|0〉) & MultiQubitGate(Z, {1, 2, 3, 4, 6, 7}) & Output(|0〉)  \\\\ \n",
       "  Input(|1〉) & MultiQubitGate(X, {1, 2, 3, 4, 6, 7}) & Output(|1〉)  \\\\ \n",
       "  Input(|0〉) & Gate(I) & Output(|0〉)  \\\\ \n",
       "  Input(|1〉) & MultiQubitGate(X, {1, 2, 3, 4, 6, 7}) & Output(|1〉)  \\\\ \n",
       "  Input(|1〉) & MultiQubitGate(Z, {1, 2, 3, 4, 6, 7}) & Output(|1〉)\n",
       "   core type: ExprTuple\n",
       "   sub-expressions: 4, 4, 5, 7, 6, 7, 8\n",
       "4. (Input(|0〉), MultiQubitGate(CONTROL, {1, 2, 3, 4, 6, 7}), Output(|0〉))\n",
       "   core type: ExprTuple\n",
       "   sub-expressions: 10, 9, 12\n",
       "5. (Input(|0〉), MultiQubitGate(Z, {1, 2, 3, 4, 6, 7}), Output(|0〉))\n",
       "   core type: ExprTuple\n",
       "   sub-expressions: 10, 15, 12\n",
       "6. (Input(|0〉), Gate(I), Output(|0〉))\n",
       "   core type: ExprTuple\n",
       "   sub-expressions: 10, 11, 12\n",
       "7. (Input(|1〉), MultiQubitGate(X, {1, 2, 3, 4, 6, 7}), Output(|1〉))\n",
       "   core type: ExprTuple\n",
       "   sub-expressions: 14, 13, 16\n",
       "8. (Input(|1〉), MultiQubitGate(Z, {1, 2, 3, 4, 6, 7}), Output(|1〉))\n",
       "   core type: ExprTuple\n",
       "   sub-expressions: 14, 15, 16\n",
       "9. MultiQubitGate(CONTROL, {1, 2, 3, 4, 6, 7})\n",
       "   core type: Operation\n",
       "   operator: 23\n",
       "   operands: 17\n",
       "10. Input(|0〉)\n",
       "    core type: Operation\n",
       "    operator: 22\n",
       "    operand: 29\n",
       "11. Gate(I)\n",
       "    core type: Operation\n",
       "    operator: 18\n",
       "    operand: 28\n",
       "12. Output(|0〉)\n",
       "    core type: Operation\n",
       "    operator: 25\n",
       "    operand: 29\n",
       "13. MultiQubitGate(X, {1, 2, 3, 4, 6, 7})\n",
       "    core type: Operation\n",
       "    operator: 23\n",
       "    operands: 21\n",
       "14. Input(|1〉)\n",
       "    core type: Operation\n",
       "    operator: 22\n",
       "    operand: 33\n",
       "15. MultiQubitGate(Z, {1, 2, 3, 4, 6, 7})\n",
       "    core type: Operation\n",
       "    operator: 23\n",
       "    operands: 24\n",
       "16. Output(|1〉)\n",
       "    core type: Operation\n",
       "    operator: 25\n",
       "    operand: 33\n",
       "17. (CONTROL, {1, 2, 3, 4, 6, 7})\n",
       "    core type: ExprTuple\n",
       "    sub-expressions: 27, 32\n",
       "18. GATE\n",
       "    core type: Literal\n",
       "    sub-expressions: \n",
       "19. (--)\n",
       "    core type: ExprTuple\n",
       "    sub-expressions: 28\n",
       "20. (|0〉)\n",
       "    core type: ExprTuple\n",
       "    sub-expressions: 29\n",
       "21. (X, {1, 2, 3, 4, 6, 7})\n",
       "    core type: ExprTuple\n",
       "    sub-expressions: 30, 32\n",
       "22. INPUT\n",
       "    core type: Literal\n",
       "    sub-expressions: \n",
       "23. MULTI_QUBIT_GATE\n",
       "    core type: Literal\n",
       "    sub-expressions: \n",
       "24. (Z, {1, 2, 3, 4, 6, 7})\n",
       "    core type: ExprTuple\n",
       "    sub-expressions: 31, 32\n",
       "25. OUTPUT\n",
       "    core type: Literal\n",
       "    sub-expressions: \n",
       "26. (|1〉)\n",
       "    core type: ExprTuple\n",
       "    sub-expressions: 33\n",
       "27. CONTROL\n",
       "    core type: Literal\n",
       "    sub-expressions: \n",
       "28. --\n",
       "    core type: Literal\n",
       "    sub-expressions: \n",
       "29. |0〉\n",
       "    core type: Operation\n",
       "    operator: 37\n",
       "    operand: 39\n",
       "30. X\n",
       "    core type: Literal\n",
       "    sub-expressions: \n",
       "31. Z\n",
       "    core type: Literal\n",
       "    sub-expressions: \n",
       "32. {1, 2, 3, 4, 6, 7}\n",
       "    core type: Operation\n",
       "    operator: 35\n",
       "    operands: 36\n",
       "33. |1〉\n",
       "    core type: Operation\n",
       "    operator: 37\n",
       "    operand: 45\n",
       "34. (0)\n",
       "    core type: ExprTuple\n",
       "    sub-expressions: 39\n",
       "35. Set\n",
       "    core type: Literal\n",
       "    sub-expressions: \n",
       "36. (1, 2, 3, 4, 6, 7)\n",
       "    core type: ExprTuple\n",
       "    sub-expressions: 45, 40, 41, 42, 43, 44\n",
       "37. KET\n",
       "    core type: Literal\n",
       "    sub-expressions: \n",
       "38. (1)\n",
       "    core type: ExprTuple\n",
       "    sub-expressions: 45\n",
       "39. 0\n",
       "    core type: Literal\n",
       "    sub-expressions: \n",
       "40. 2\n",
       "    core type: Literal\n",
       "    sub-expressions: \n",
       "41. 3\n",
       "    core type: Literal\n",
       "    sub-expressions: \n",
       "42. 4\n",
       "    core type: Literal\n",
       "    sub-expressions: \n",
       "43. 6\n",
       "    core type: Literal\n",
       "    sub-expressions: \n",
       "44. 7\n",
       "    core type: Literal\n",
       "    sub-expressions: \n",
       "45. 1\n",
       "    core type: Literal\n",
       "    sub-expressions: "
      ]
     },
     "execution_count": 6,
     "metadata": {},
     "output_type": "execute_result"
    }
   ],
   "source": [
    "# display the expression information\n",
    "expr.expr_info()"
   ]
  },
  {
   "cell_type": "code",
   "execution_count": null,
   "metadata": {},
   "outputs": [],
   "source": []
  }
 ],
 "metadata": {
  "kernelspec": {
   "display_name": "Python 3",
   "language": "python",
   "name": "python3"
  }
 },
 "nbformat": 4,
 "nbformat_minor": 0
}