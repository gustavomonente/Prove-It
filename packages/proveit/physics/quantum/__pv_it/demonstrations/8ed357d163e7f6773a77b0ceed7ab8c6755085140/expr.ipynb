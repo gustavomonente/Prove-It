{
 "cells": [
  {
   "cell_type": "markdown",
   "metadata": {},
   "source": [
    "Expression of type <a class=\"ProveItLink\" href=\"../../../../../../../doc/html/api/proveit.physics.quantum.circuit.Circuit.html\">Circuit</a>\n",
    "=======================\n",
    "# from the theory of <a class=\"ProveItLink\" href=\"../../../_theory_nbs_/theory.ipynb\">proveit.physics.quantum</a>"
   ]
  },
  {
   "cell_type": "code",
   "execution_count": 1,
   "metadata": {},
   "outputs": [],
   "source": [
    "import proveit\n",
    "# Automation is not needed when building an expression:\n",
    "proveit.defaults.automation = False # This will speed things up.\n",
    "proveit.defaults.inline_pngs = False # Makes files smaller.\n",
    "%load_expr # Load the stored expression as 'stored_expr'\n",
    "# import Expression classes needed to build the expression\n",
    "from proveit import ExprArray\n",
    "from proveit.logic import Set\n",
    "from proveit.numbers import one, three, two\n",
    "from proveit.physics.quantum import Gate, H, Input, Output, X, ket0, ket1, ket_minus, ket_plus\n",
    "from proveit.physics.quantum.circuit import Circuit, MultiQubitGate"
   ]
  },
  {
   "cell_type": "code",
   "execution_count": 2,
   "metadata": {},
   "outputs": [
    {
     "data": {
      "text/html": [
       "<strong id=\"expr\">expr:</strong> <a class=\"ProveItLink\" href=\"expr.ipynb\"><img src=\"expr.png\" style=\"display:inline;vertical-align:middle;\" /></a><br>"
      ],
      "text/plain": [
       "expr:  Input(|0〉)  & Gate(H)  & MultiQubitGate(X, {1, 3})  & Gate(H)  & Output(|+〉)   \\\\ \n",
       "   Input(|1〉)  & MultiQubitGate(H, {2, 3})  & MultiQubitGate(H, {2})  & Gate(X)  & Output(|-〉)   \\\\ \n",
       "   Input(|1〉)  & MultiQubitGate(H, {2, 3})  & MultiQubitGate(X, {1, 3})  & Gate(X)  & Output(|-〉)"
      ]
     },
     "execution_count": 2,
     "metadata": {},
     "output_type": "execute_result"
    }
   ],
   "source": [
    "# build up the expression from sub-expressions\n",
    "sub_expr1 = Gate(H)\n",
    "sub_expr2 = Gate(X)\n",
    "sub_expr3 = Input(ket1)\n",
    "sub_expr4 = Output(ket_minus)\n",
    "sub_expr5 = MultiQubitGate(X, Set(one, three))\n",
    "sub_expr6 = MultiQubitGate(H, Set(two, three))\n",
    "expr = Circuit(ExprArray([Input(ket0), sub_expr1, sub_expr5, sub_expr1, Output(ket_plus)], [sub_expr3, sub_expr6, MultiQubitGate(H, Set(two)), sub_expr2, sub_expr4], [sub_expr3, sub_expr6, sub_expr5, sub_expr2, sub_expr4]))"
   ]
  },
  {
   "cell_type": "code",
   "execution_count": 3,
   "metadata": {},
   "outputs": [
    {
     "name": "stdout",
     "output_type": "stream",
     "text": [
      "Passed sanity check: expr matches stored_expr\n"
     ]
    }
   ],
   "source": [
    "# check that the built expression is the same as the stored expression\n",
    "assert expr == stored_expr\n",
    "assert expr._style_id == stored_expr._style_id\n",
    "print(\"Passed sanity check: expr matches stored_expr\")"
   ]
  },
  {
   "cell_type": "code",
   "execution_count": 4,
   "metadata": {},
   "outputs": [
    {
     "name": "stdout",
     "output_type": "stream",
     "text": [
      "\\hspace{2em} \\Qcircuit@C=1em @R=.7em{\n",
      "& \\lstick{\\lvert 0 \\rangle} & \\gate{H} & \\gate{X} \\qwx[2] & \\gate{H} & \\rstick{\\lvert + \\rangle} \\qw   \\\\ \n",
      "  & \\lstick{\\lvert 1 \\rangle} & \\multigate{1}{H} & \\gate{H{\\Big \\{} \\left\\{2\\right\\}} & \\gate{X} & \\rstick{\\lvert - \\rangle} \\qw   \\\\ \n",
      "  & \\lstick{\\lvert 1 \\rangle} & \\ghost{H} & \\gate{X} & \\gate{X} & \\rstick{\\lvert - \\rangle} \\qw \n",
      "} \\hspace{2em}\n"
     ]
    }
   ],
   "source": [
    "# Show the LaTeX representation of the expression for convenience if you need it.\n",
    "print(expr.latex())"
   ]
  },
  {
   "cell_type": "code",
   "execution_count": 5,
   "metadata": {},
   "outputs": [
    {
     "data": {
      "text/html": [
       "<table><tr><th>&nbsp;</th><th>core type</th><th>sub-expressions</th><th>expression</th></tr>\n",
       "<tr><td>0</td><td>Operation</td><td>operator:&nbsp;1<br>operand:&nbsp;3<br></td><td><a class=\"ProveItLink\" href=\"expr.ipynb\"><img src=\"expr.png\" style=\"display:inline;vertical-align:middle;\" /></a></td></tr>\n",
       "<tr><td>1</td><td>Literal</td><td></td><td><a class=\"ProveItLink\" href=\"../../common/409f940d39947a3c17092974bfa20c1d4da6996c0/expr.ipynb\"><img src=\"../../common/409f940d39947a3c17092974bfa20c1d4da6996c0/expr.png\" style=\"display:inline;vertical-align:middle;\" /></a></td></tr>\n",
       "<tr><td>2</td><td>ExprTuple</td><td>3</td><td><a class=\"ProveItLink\" href=\"../d061ef3c4a561843696aa9320b6f74762907c3850/expr.ipynb\"><img src=\"../d061ef3c4a561843696aa9320b6f74762907c3850/expr.png\" style=\"display:inline;vertical-align:middle;\" /></a></td></tr>\n",
       "<tr><td>3</td><td>ExprTuple</td><td>4, 5, 6</td><td><a class=\"ProveItLink\" href=\"../8c7aa9fd90cbf6380a0ea0c865f7f0417c0b3c490/expr.ipynb\"><img src=\"../8c7aa9fd90cbf6380a0ea0c865f7f0417c0b3c490/expr.png\" style=\"display:inline;vertical-align:middle;\" /></a></td></tr>\n",
       "<tr><td>4</td><td>ExprTuple</td><td>7, 8, 13, 8, 9</td><td><a class=\"ProveItLink\" href=\"../acd6308c699214fbf17173de89d0c63dde7fde320/expr.ipynb\"><img src=\"../acd6308c699214fbf17173de89d0c63dde7fde320/expr.png\" style=\"display:inline;vertical-align:middle;\" /></a></td></tr>\n",
       "<tr><td>5</td><td>ExprTuple</td><td>11, 12, 10, 14, 15</td><td><a class=\"ProveItLink\" href=\"../d986dc25c059c607633b099b84d4a9888d33c0c90/expr.ipynb\"><img src=\"../d986dc25c059c607633b099b84d4a9888d33c0c90/expr.png\" style=\"display:inline;vertical-align:middle;\" /></a></td></tr>\n",
       "<tr><td>6</td><td>ExprTuple</td><td>11, 12, 13, 14, 15</td><td><a class=\"ProveItLink\" href=\"../b94e1b846af16afa8b77d9a39ece45c93a39647c0/expr.ipynb\"><img src=\"../b94e1b846af16afa8b77d9a39ece45c93a39647c0/expr.png\" style=\"display:inline;vertical-align:middle;\" /></a></td></tr>\n",
       "<tr><td>7</td><td>Operation</td><td>operator:&nbsp;19<br>operand:&nbsp;16<br></td><td><a class=\"ProveItLink\" href=\"../2fc4327d42851bc04ea1e04bb5f79e63417e61780/expr.ipynb\"><img src=\"../2fc4327d42851bc04ea1e04bb5f79e63417e61780/expr.png\" style=\"display:inline;vertical-align:middle;\" /></a></td></tr>\n",
       "<tr><td>8</td><td>Operation</td><td>operator:&nbsp;24<br>operand:&nbsp;30<br></td><td><a class=\"ProveItLink\" href=\"../887f6fc2d6bd485e38da90a7997e8a5a329deae90/expr.ipynb\"><img src=\"../887f6fc2d6bd485e38da90a7997e8a5a329deae90/expr.png\" style=\"display:inline;vertical-align:middle;\" /></a></td></tr>\n",
       "<tr><td>9</td><td>Operation</td><td>operator:&nbsp;25<br>operand:&nbsp;17<br></td><td><a class=\"ProveItLink\" href=\"../2c5292539c03d53ebf711ec5fdef5d7d13014ed80/expr.ipynb\"><img src=\"../2c5292539c03d53ebf711ec5fdef5d7d13014ed80/expr.png\" style=\"display:inline;vertical-align:middle;\" /></a></td></tr>\n",
       "<tr><td>10</td><td>Operation</td><td>operator:&nbsp;22<br>operands:&nbsp;18<br></td><td><a class=\"ProveItLink\" href=\"../a1ba97fd1974890fb00f77febd2ba5b4d76e956e0/expr.ipynb\"><img src=\"../a1ba97fd1974890fb00f77febd2ba5b4d76e956e0/expr.png\" style=\"display:inline;vertical-align:middle;\" /></a></td></tr>\n",
       "<tr><td>11</td><td>Operation</td><td>operator:&nbsp;19<br>operand:&nbsp;20<br></td><td><a class=\"ProveItLink\" href=\"../5f3186ad8fe02adc257d00f2c4878165520392290/expr.ipynb\"><img src=\"../5f3186ad8fe02adc257d00f2c4878165520392290/expr.png\" style=\"display:inline;vertical-align:middle;\" /></a></td></tr>\n",
       "<tr><td>12</td><td>Operation</td><td>operator:&nbsp;22<br>operands:&nbsp;21<br></td><td><a class=\"ProveItLink\" href=\"../d9492db7b1c0c9835222fc71c4dce60abd15023e0/expr.ipynb\"><img src=\"../d9492db7b1c0c9835222fc71c4dce60abd15023e0/expr.png\" style=\"display:inline;vertical-align:middle;\" /></a></td></tr>\n",
       "<tr><td>13</td><td>Operation</td><td>operator:&nbsp;22<br>operands:&nbsp;23<br></td><td><a class=\"ProveItLink\" href=\"../8fd5cbe462808a7949ae8b24212e5eb0de50e15e0/expr.ipynb\"><img src=\"../8fd5cbe462808a7949ae8b24212e5eb0de50e15e0/expr.png\" style=\"display:inline;vertical-align:middle;\" /></a></td></tr>\n",
       "<tr><td>14</td><td>Operation</td><td>operator:&nbsp;24<br>operand:&nbsp;32<br></td><td><a class=\"ProveItLink\" href=\"../bb9145f0c2a6bfc1ff4de58db21d4004460850f70/expr.ipynb\"><img src=\"../bb9145f0c2a6bfc1ff4de58db21d4004460850f70/expr.png\" style=\"display:inline;vertical-align:middle;\" /></a></td></tr>\n",
       "<tr><td>15</td><td>Operation</td><td>operator:&nbsp;25<br>operand:&nbsp;26<br></td><td><a class=\"ProveItLink\" href=\"../fa7a235f24b99433f6fb2937f1adf3f23b714b3a0/expr.ipynb\"><img src=\"../fa7a235f24b99433f6fb2937f1adf3f23b714b3a0/expr.png\" style=\"display:inline;vertical-align:middle;\" /></a></td></tr>\n",
       "<tr><td>16</td><td>Operation</td><td>operator:&nbsp;34<br>operand:&nbsp;27<br></td><td><a class=\"ProveItLink\" href=\"../../common/5f63a03bfc82b7258c791cd7eef6d6305fc125e50/expr.ipynb\"><img src=\"../../common/5f63a03bfc82b7258c791cd7eef6d6305fc125e50/expr.png\" style=\"display:inline;vertical-align:middle;\" /></a></td></tr>\n",
       "<tr><td>17</td><td>Operation</td><td>operator:&nbsp;34<br>operand:&nbsp;28<br></td><td><a class=\"ProveItLink\" href=\"../../common/795ed2018d67fa7c5482a82a7d659bed8245e1f30/expr.ipynb\"><img src=\"../../common/795ed2018d67fa7c5482a82a7d659bed8245e1f30/expr.png\" style=\"display:inline;vertical-align:middle;\" /></a></td></tr>\n",
       "<tr><td>18</td><td>ExprTuple</td><td>30, 29</td><td><a class=\"ProveItLink\" href=\"../8f2860c76e1b34dfc2b01a919f69ea91a25889250/expr.ipynb\"><img src=\"../8f2860c76e1b34dfc2b01a919f69ea91a25889250/expr.png\" style=\"display:inline;vertical-align:middle;\" /></a></td></tr>\n",
       "<tr><td>19</td><td>Literal</td><td></td><td><a class=\"ProveItLink\" href=\"../../common/75fe2e9c3de87ae2358442c50cf12e606184c7e30/expr.ipynb\"><img src=\"../../common/75fe2e9c3de87ae2358442c50cf12e606184c7e30/expr.png\" style=\"display:inline;vertical-align:middle;\" /></a></td></tr>\n",
       "<tr><td>20</td><td>Operation</td><td>operator:&nbsp;34<br>operand:&nbsp;40<br></td><td><a class=\"ProveItLink\" href=\"../../common/ebfae6b74c0021e21daf83105eb14e31dba466620/expr.ipynb\"><img src=\"../../common/ebfae6b74c0021e21daf83105eb14e31dba466620/expr.png\" style=\"display:inline;vertical-align:middle;\" /></a></td></tr>\n",
       "<tr><td>21</td><td>ExprTuple</td><td>30, 31</td><td><a class=\"ProveItLink\" href=\"../7d9f8b11c0f088ba133477096842405bdfbcd1b80/expr.ipynb\"><img src=\"../7d9f8b11c0f088ba133477096842405bdfbcd1b80/expr.png\" style=\"display:inline;vertical-align:middle;\" /></a></td></tr>\n",
       "<tr><td>22</td><td>Literal</td><td></td><td><a class=\"ProveItLink\" href=\"../../common/7e400d333e3c53d1c3dd14244e4b33f4cea327190/expr.ipynb\"><img src=\"../../common/7e400d333e3c53d1c3dd14244e4b33f4cea327190/expr.png\" style=\"display:inline;vertical-align:middle;\" /></a></td></tr>\n",
       "<tr><td>23</td><td>ExprTuple</td><td>32, 33</td><td><a class=\"ProveItLink\" href=\"../08365bbdeef4f488885b0882a22221c8ce7708b30/expr.ipynb\"><img src=\"../08365bbdeef4f488885b0882a22221c8ce7708b30/expr.png\" style=\"display:inline;vertical-align:middle;\" /></a></td></tr>\n",
       "<tr><td>24</td><td>Literal</td><td></td><td><a class=\"ProveItLink\" href=\"../../common/0ea83cfe1adebd8ba4f03839c3c2a37c85d3772c0/expr.ipynb\"><img src=\"../../common/0ea83cfe1adebd8ba4f03839c3c2a37c85d3772c0/expr.png\" style=\"display:inline;vertical-align:middle;\" /></a></td></tr>\n",
       "<tr><td>25</td><td>Literal</td><td></td><td><a class=\"ProveItLink\" href=\"../../common/0f9100059d781d861feb56714a679b7a44ddec710/expr.ipynb\"><img src=\"../../common/0f9100059d781d861feb56714a679b7a44ddec710/expr.png\" style=\"display:inline;vertical-align:middle;\" /></a></td></tr>\n",
       "<tr><td>26</td><td>Operation</td><td>operator:&nbsp;34<br>operand:&nbsp;35<br></td><td><a class=\"ProveItLink\" href=\"../../common/6f0fcfe5282531498b597b3bc4732f1fb48b60e60/expr.ipynb\"><img src=\"../../common/6f0fcfe5282531498b597b3bc4732f1fb48b60e60/expr.png\" style=\"display:inline;vertical-align:middle;\" /></a></td></tr>\n",
       "<tr><td>27</td><td>Literal</td><td></td><td><a class=\"ProveItLink\" href=\"../../../../../numbers/numerals/__pv_it/common/7d0a36793ffe8d307a5c120ee5598162e8cd2db10/expr.ipynb\"><img src=\"../../../../../numbers/numerals/__pv_it/common/7d0a36793ffe8d307a5c120ee5598162e8cd2db10/expr.png\" style=\"display:inline;vertical-align:middle;\" /></a></td></tr>\n",
       "<tr><td>28</td><td>Literal</td><td></td><td><a class=\"ProveItLink\" href=\"../../common/af7474ecb679aafadbff60eb0f517b3d905ff7830/expr.ipynb\"><img src=\"../../common/af7474ecb679aafadbff60eb0f517b3d905ff7830/expr.png\" style=\"display:inline;vertical-align:middle;\" /></a></td></tr>\n",
       "<tr><td>29</td><td>Operation</td><td>operator:&nbsp;37<br>operand:&nbsp;39<br></td><td><a class=\"ProveItLink\" href=\"../a320ad8972833ce03b4c4b01e454fa44bfd958200/expr.ipynb\"><img src=\"../a320ad8972833ce03b4c4b01e454fa44bfd958200/expr.png\" style=\"display:inline;vertical-align:middle;\" /></a></td></tr>\n",
       "<tr><td>30</td><td>Literal</td><td></td><td><a class=\"ProveItLink\" href=\"../../common/e874333991a6db337cd004ff6daee55a9e80aa5b0/expr.ipynb\"><img src=\"../../common/e874333991a6db337cd004ff6daee55a9e80aa5b0/expr.png\" style=\"display:inline;vertical-align:middle;\" /></a></td></tr>\n",
       "<tr><td>31</td><td>Operation</td><td>operator:&nbsp;37<br>operands:&nbsp;36<br></td><td><a class=\"ProveItLink\" href=\"../624728df8870ad2244eff2319c8fada613864fe80/expr.ipynb\"><img src=\"../624728df8870ad2244eff2319c8fada613864fe80/expr.png\" style=\"display:inline;vertical-align:middle;\" /></a></td></tr>\n",
       "<tr><td>32</td><td>Literal</td><td></td><td><a class=\"ProveItLink\" href=\"../../common/d428480ac9882b1412f7ede37b71e3a30f3c2e9e0/expr.ipynb\"><img src=\"../../common/d428480ac9882b1412f7ede37b71e3a30f3c2e9e0/expr.png\" style=\"display:inline;vertical-align:middle;\" /></a></td></tr>\n",
       "<tr><td>33</td><td>Operation</td><td>operator:&nbsp;37<br>operands:&nbsp;38<br></td><td><a class=\"ProveItLink\" href=\"../583bab243b91edf95291b6b1e221b502ce15d4230/expr.ipynb\"><img src=\"../583bab243b91edf95291b6b1e221b502ce15d4230/expr.png\" style=\"display:inline;vertical-align:middle;\" /></a></td></tr>\n",
       "<tr><td>34</td><td>Literal</td><td></td><td><a class=\"ProveItLink\" href=\"../../common/211157ad123e11ebc76ee54e41be13705eefd6800/expr.ipynb\"><img src=\"../../common/211157ad123e11ebc76ee54e41be13705eefd6800/expr.png\" style=\"display:inline;vertical-align:middle;\" /></a></td></tr>\n",
       "<tr><td>35</td><td>Literal</td><td></td><td><a class=\"ProveItLink\" href=\"../../common/445fd3ac93cf9771d50d0b8d320bed4cbe73a7f80/expr.ipynb\"><img src=\"../../common/445fd3ac93cf9771d50d0b8d320bed4cbe73a7f80/expr.png\" style=\"display:inline;vertical-align:middle;\" /></a></td></tr>\n",
       "<tr><td>36</td><td>ExprTuple</td><td>39, 41</td><td><a class=\"ProveItLink\" href=\"../../../../../numbers/numerals/decimals/__pv_it/theorems/4ccef2d03fb90af885ea98a20b01fb871317993d0/expr.ipynb\"><img src=\"../../../../../numbers/numerals/decimals/__pv_it/theorems/4ccef2d03fb90af885ea98a20b01fb871317993d0/expr.png\" style=\"display:inline;vertical-align:middle;\" /></a></td></tr>\n",
       "<tr><td>37</td><td>Literal</td><td></td><td><a class=\"ProveItLink\" href=\"../../../../../logic/sets/enumeration/__pv_it/common/0ead90ccbf4f17bc585a51f8aa904bb77916ae6e0/expr.ipynb\"><img src=\"../../../../../logic/sets/enumeration/__pv_it/common/0ead90ccbf4f17bc585a51f8aa904bb77916ae6e0/expr.png\" style=\"display:inline;vertical-align:middle;\" /></a></td></tr>\n",
       "<tr><td>38</td><td>ExprTuple</td><td>40, 41</td><td><a class=\"ProveItLink\" href=\"../cb7b432f8fafd4a095119c6233763710271cdf9f0/expr.ipynb\"><img src=\"../cb7b432f8fafd4a095119c6233763710271cdf9f0/expr.png\" style=\"display:inline;vertical-align:middle;\" /></a></td></tr>\n",
       "<tr><td>39</td><td>Literal</td><td></td><td><a class=\"ProveItLink\" href=\"../../../../../numbers/numerals/__pv_it/common/ba3b059982e8b49413dc653e957beb11e974e4bc0/expr.ipynb\"><img src=\"../../../../../numbers/numerals/__pv_it/common/ba3b059982e8b49413dc653e957beb11e974e4bc0/expr.png\" style=\"display:inline;vertical-align:middle;\" /></a></td></tr>\n",
       "<tr><td>40</td><td>Literal</td><td></td><td><a class=\"ProveItLink\" href=\"../../../../../numbers/numerals/__pv_it/common/2778428c7f555b2bdc06aa0530bc142c6e6335100/expr.ipynb\"><img src=\"../../../../../numbers/numerals/__pv_it/common/2778428c7f555b2bdc06aa0530bc142c6e6335100/expr.png\" style=\"display:inline;vertical-align:middle;\" /></a></td></tr>\n",
       "<tr><td>41</td><td>Literal</td><td></td><td><a class=\"ProveItLink\" href=\"../../../../../numbers/numerals/__pv_it/common/0a19a501c0770212f27a044b71e9c626b8ca0bec0/expr.ipynb\"><img src=\"../../../../../numbers/numerals/__pv_it/common/0a19a501c0770212f27a044b71e9c626b8ca0bec0/expr.png\" style=\"display:inline;vertical-align:middle;\" /></a></td></tr>\n",
       "</table>\n"
      ],
      "text/plain": [
       "0.  Input(|0〉)  & Gate(H)  & MultiQubitGate(X, {1, 3})  & Gate(H)  & Output(|+〉)   \\\\ \n",
       "   Input(|1〉)  & MultiQubitGate(H, {2, 3})  & MultiQubitGate(H, {2})  & Gate(X)  & Output(|-〉)   \\\\ \n",
       "   Input(|1〉)  & MultiQubitGate(H, {2, 3})  & MultiQubitGate(X, {1, 3})  & Gate(X)  & Output(|-〉)\n",
       "   core type: Operation\n",
       "   operator: 1\n",
       "   operand: 3\n",
       "1. CIRCUIT\n",
       "   core type: Literal\n",
       "   sub-expressions: \n",
       "2. ((Input(|0〉) & Gate(H) & MultiQubitGate(X, {1, 3}) & Gate(H) & Output(|+〉)  \\\\ \n",
       "  Input(|1〉) & MultiQubitGate(H, {2, 3}) & MultiQubitGate(H, {2}) & Gate(X) & Output(|-〉)  \\\\ \n",
       "  Input(|1〉) & MultiQubitGate(H, {2, 3}) & MultiQubitGate(X, {1, 3}) & Gate(X) & Output(|-〉)))\n",
       "   core type: ExprTuple\n",
       "   sub-expressions: 3\n",
       "3. Input(|0〉) & Gate(H) & MultiQubitGate(X, {1, 3}) & Gate(H) & Output(|+〉)  \\\\ \n",
       "  Input(|1〉) & MultiQubitGate(H, {2, 3}) & MultiQubitGate(H, {2}) & Gate(X) & Output(|-〉)  \\\\ \n",
       "  Input(|1〉) & MultiQubitGate(H, {2, 3}) & MultiQubitGate(X, {1, 3}) & Gate(X) & Output(|-〉)\n",
       "   core type: ExprTuple\n",
       "   sub-expressions: 4, 5, 6\n",
       "4. (Input(|0〉), Gate(H), MultiQubitGate(X, {1, 3}), Gate(H), Output(|+〉))\n",
       "   core type: ExprTuple\n",
       "   sub-expressions: 7, 8, 13, 8, 9\n",
       "5. (Input(|1〉), MultiQubitGate(H, {2, 3}), MultiQubitGate(H, {2}), Gate(X), Output(|-〉))\n",
       "   core type: ExprTuple\n",
       "   sub-expressions: 11, 12, 10, 14, 15\n",
       "6. (Input(|1〉), MultiQubitGate(H, {2, 3}), MultiQubitGate(X, {1, 3}), Gate(X), Output(|-〉))\n",
       "   core type: ExprTuple\n",
       "   sub-expressions: 11, 12, 13, 14, 15\n",
       "7. [INPUT](|0〉)\n",
       "   core type: Operation\n",
       "   operator: 19\n",
       "   operand: 16\n",
       "8. Gate(H)\n",
       "   core type: Operation\n",
       "   operator: 24\n",
       "   operand: 30\n",
       "9. [OUTPUT](|+〉)\n",
       "   core type: Operation\n",
       "   operator: 25\n",
       "   operand: 17\n",
       "10. MultiQubitGate(H, {2})\n",
       "    core type: Operation\n",
       "    operator: 22\n",
       "    operands: 18\n",
       "11. [INPUT](|1〉)\n",
       "    core type: Operation\n",
       "    operator: 19\n",
       "    operand: 20\n",
       "12. MultiQubitGate(H, {2, 3})\n",
       "    core type: Operation\n",
       "    operator: 22\n",
       "    operands: 21\n",
       "13. MultiQubitGate(X, {1, 3})\n",
       "    core type: Operation\n",
       "    operator: 22\n",
       "    operands: 23\n",
       "14. Gate(X)\n",
       "    core type: Operation\n",
       "    operator: 24\n",
       "    operand: 32\n",
       "15. [OUTPUT](|-〉)\n",
       "    core type: Operation\n",
       "    operator: 25\n",
       "    operand: 26\n",
       "16. |0〉\n",
       "    core type: Operation\n",
       "    operator: 34\n",
       "    operand: 27\n",
       "17. |+〉\n",
       "    core type: Operation\n",
       "    operator: 34\n",
       "    operand: 28\n",
       "18. (H, {2})\n",
       "    core type: ExprTuple\n",
       "    sub-expressions: 30, 29\n",
       "19. INPUT\n",
       "    core type: Literal\n",
       "    sub-expressions: \n",
       "20. |1〉\n",
       "    core type: Operation\n",
       "    operator: 34\n",
       "    operand: 40\n",
       "21. (H, {2, 3})\n",
       "    core type: ExprTuple\n",
       "    sub-expressions: 30, 31\n",
       "22. MULTI_QUBIT_GATE\n",
       "    core type: Literal\n",
       "    sub-expressions: \n",
       "23. (X, {1, 3})\n",
       "    core type: ExprTuple\n",
       "    sub-expressions: 32, 33\n",
       "24. GATE\n",
       "    core type: Literal\n",
       "    sub-expressions: \n",
       "25. OUTPUT\n",
       "    core type: Literal\n",
       "    sub-expressions: \n",
       "26. |-〉\n",
       "    core type: Operation\n",
       "    operator: 34\n",
       "    operand: 35\n",
       "27. 0\n",
       "    core type: Literal\n",
       "    sub-expressions: \n",
       "28. +\n",
       "    core type: Literal\n",
       "    sub-expressions: \n",
       "29. {2}\n",
       "    core type: Operation\n",
       "    operator: 37\n",
       "    operand: 39\n",
       "30. H\n",
       "    core type: Literal\n",
       "    sub-expressions: \n",
       "31. {2, 3}\n",
       "    core type: Operation\n",
       "    operator: 37\n",
       "    operands: 36\n",
       "32. X\n",
       "    core type: Literal\n",
       "    sub-expressions: \n",
       "33. {1, 3}\n",
       "    core type: Operation\n",
       "    operator: 37\n",
       "    operands: 38\n",
       "34. KET\n",
       "    core type: Literal\n",
       "    sub-expressions: \n",
       "35. -\n",
       "    core type: Literal\n",
       "    sub-expressions: \n",
       "36. (2, 3)\n",
       "    core type: ExprTuple\n",
       "    sub-expressions: 39, 41\n",
       "37. Set\n",
       "    core type: Literal\n",
       "    sub-expressions: \n",
       "38. (1, 3)\n",
       "    core type: ExprTuple\n",
       "    sub-expressions: 40, 41\n",
       "39. 2\n",
       "    core type: Literal\n",
       "    sub-expressions: \n",
       "40. 1\n",
       "    core type: Literal\n",
       "    sub-expressions: \n",
       "41. 3\n",
       "    core type: Literal\n",
       "    sub-expressions: "
      ]
     },
     "execution_count": 5,
     "metadata": {},
     "output_type": "execute_result"
    }
   ],
   "source": [
    "# display the expression information\n",
    "expr.expr_info()"
   ]
  },
  {
   "cell_type": "code",
   "execution_count": null,
   "metadata": {},
   "outputs": [],
   "source": []
  }
 ],
 "metadata": {
  "kernelspec": {
   "display_name": "Python 3",
   "language": "python",
   "name": "python3"
  }
 },
 "nbformat": 4,
 "nbformat_minor": 0
}