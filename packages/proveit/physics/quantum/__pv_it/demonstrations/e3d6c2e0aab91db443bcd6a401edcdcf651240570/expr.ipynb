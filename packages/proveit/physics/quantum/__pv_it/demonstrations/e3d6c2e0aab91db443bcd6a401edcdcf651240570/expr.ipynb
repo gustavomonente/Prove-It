{
 "cells": [
  {
   "cell_type": "markdown",
   "metadata": {},
   "source": [
    "Expression of type <a class=\"ProveItLink\" href=\"../../../../../../../doc/html/api/proveit.ExprArray.html\">ExprArray</a>\n",
    "=======================\n",
    "# from the theory of <a class=\"ProveItLink\" href=\"../../../_theory_nbs_/theory.ipynb\">proveit.physics.quantum</a>"
   ]
  },
  {
   "cell_type": "code",
   "execution_count": 1,
   "metadata": {},
   "outputs": [],
   "source": [
    "import proveit\n",
    "# Automation is not needed when building an expression:\n",
    "proveit.defaults.automation = False # This will speed things up.\n",
    "proveit.defaults.inline_pngs = False # Makes files smaller.\n",
    "%load_expr # Load the stored expression as 'stored_expr'\n",
    "# import Expression classes needed to build the expression\n",
    "from proveit import ExprArray, Literal\n",
    "from proveit.numbers import DecimalSequence, Neg, one, zero\n",
    "from proveit.physics.quantum import Ket"
   ]
  },
  {
   "cell_type": "code",
   "execution_count": 2,
   "metadata": {},
   "outputs": [
    {
     "data": {
      "text/html": [
       "<strong id=\"expr\">expr:</strong> <a class=\"ProveItLink\" href=\"expr.ipynb\"><img src=\"expr.png\" style=\"display:inline;vertical-align:middle;\" /></a><br>"
      ],
      "text/plain": [
       "expr: ~ & |00〉 & |01〉 & |10〉 & |11〉  \\\\ \n",
       "  |00〉 & 1 & 0 & 0 & 0  \\\\ \n",
       "  |01〉 & 0 & 1 & 0 & 0  \\\\ \n",
       "  |10〉 & 0 & 0 & 1 & 0  \\\\ \n",
       "  |11〉 & 0 & 0 & 0 & -1"
      ]
     },
     "execution_count": 2,
     "metadata": {},
     "output_type": "execute_result"
    }
   ],
   "source": [
    "# build up the expression from sub-expressions\n",
    "sub_expr1 = Ket(DecimalSequence(zero, zero))\n",
    "sub_expr2 = Ket(DecimalSequence(zero, one))\n",
    "sub_expr3 = Ket(DecimalSequence(one, zero))\n",
    "sub_expr4 = Ket(DecimalSequence(one, one))\n",
    "expr = ExprArray([Literal(\"~\", theory = \"proveit.physics.quantum\"), sub_expr1, sub_expr2, sub_expr3, sub_expr4], [sub_expr1, one, zero, zero, zero], [sub_expr2, zero, one, zero, zero], [sub_expr3, zero, zero, one, zero], [sub_expr4, zero, zero, zero, Neg(one)])"
   ]
  },
  {
   "cell_type": "code",
   "execution_count": 3,
   "metadata": {},
   "outputs": [
    {
     "name": "stdout",
     "output_type": "stream",
     "text": [
      "Passed sanity check: expr matches stored_expr\n"
     ]
    }
   ],
   "source": [
    "# check that the built expression is the same as the stored expression\n",
    "assert expr == stored_expr\n",
    "assert expr._style_id == stored_expr._style_id\n",
    "print(\"Passed sanity check: expr matches stored_expr\")"
   ]
  },
  {
   "cell_type": "code",
   "execution_count": 4,
   "metadata": {},
   "outputs": [
    {
     "name": "stdout",
     "output_type": "stream",
     "text": [
      "\\begin{array} {ccccc} \n",
      " ~ & \\lvert 00 \\rangle & \\lvert 01 \\rangle & \\lvert 10 \\rangle & \\lvert 11 \\rangle  \\\\ \n",
      "  \\lvert 00 \\rangle & 1 & 0 & 0 & 0  \\\\ \n",
      "  \\lvert 01 \\rangle & 0 & 1 & 0 & 0  \\\\ \n",
      "  \\lvert 10 \\rangle & 0 & 0 & 1 & 0  \\\\ \n",
      "  \\lvert 11 \\rangle & 0 & 0 & 0 & -1 \\end{array} \n",
      "\n"
     ]
    }
   ],
   "source": [
    "# Show the LaTeX representation of the expression for convenience if you need it.\n",
    "print(expr.latex())"
   ]
  },
  {
   "cell_type": "code",
   "execution_count": 5,
   "metadata": {},
   "outputs": [
    {
     "data": {
      "text/html": [
       "<table>\n",
       "<tr><th>name</th><th>description</th><th>default</th><th>current value</th><th>related methods</th></tr><tr><td>justification</td><td>justify to the 'left', 'center', or 'right' in the array cells</td><td>center</td><td>center</td><td>with_justification</td></tr>\n",
       "<tr><td>orientation</td><td>to be read from left to right then top to bottom ('horizontal') or to be read top to bottom then left to right ('vertical')</td><td>horizontal</td><td>horizontal</td><td>with_orientation</td></tr>\n",
       "<tr><td>parameterization</td><td>'implicit' (default for LaTeX formatting) hides the parameter the ExprRange so the parameterization may be ambiguous (e.g., x_{1+1}, ..., x_{n+1}); 'explicit' (default for string formatting) reveals the parameterization (e.g. x_{1+1}, ..x_{k+1}.., x_{n+1}).</td><td>None</td><td>None/False</td><td>('with_explicit_parameterization', 'with_implicit_parameterization', 'with_default_parameterization_style')</td></tr>\n",
       "</table>\n"
      ],
      "text/plain": [
       "style name: justification\n",
       "description: justify to the 'left', 'center', or 'right' in the array cells\n",
       "default: center\n",
       "current value: center\n",
       "related methods: with_justification\n",
       "style name: orientation\n",
       "description: to be read from left to right then top to bottom ('horizontal') or to be read top to bottom then left to right ('vertical')\n",
       "default: horizontal\n",
       "current value: horizontal\n",
       "related methods: with_orientation\n",
       "style name: parameterization\n",
       "description: 'implicit' (default for LaTeX formatting) hides the parameter the ExprRange so the parameterization may be ambiguous (e.g., x_{1+1}, ..., x_{n+1}); 'explicit' (default for string formatting) reveals the parameterization (e.g. x_{1+1}, ..x_{k+1}.., x_{n+1}).\n",
       "default: None\n",
       "current value: None/False\n",
       "related methods: ('with_explicit_parameterization', 'with_implicit_parameterization', 'with_default_parameterization_style')"
      ]
     },
     "execution_count": 5,
     "metadata": {},
     "output_type": "execute_result"
    }
   ],
   "source": [
    "expr.style_options()"
   ]
  },
  {
   "cell_type": "code",
   "execution_count": 6,
   "metadata": {},
   "outputs": [
    {
     "data": {
      "text/html": [
       "<table><tr><th>&nbsp;</th><th>core type</th><th>sub-expressions</th><th>expression</th></tr>\n",
       "<tr><td>0</td><td>ExprTuple</td><td>1, 2, 3, 4, 5</td><td><a class=\"ProveItLink\" href=\"expr.ipynb\"><img src=\"expr.png\" style=\"display:inline;vertical-align:middle;\" /></a></td></tr>\n",
       "<tr><td>1</td><td>ExprTuple</td><td>6, 7, 8, 9, 10</td><td><a class=\"ProveItLink\" href=\"../0f6b7919452551377ec59388933b76ccf938a3420/expr.ipynb\"><img src=\"../0f6b7919452551377ec59388933b76ccf938a3420/expr.png\" style=\"display:inline;vertical-align:middle;\" /></a></td></tr>\n",
       "<tr><td>2</td><td>ExprTuple</td><td>7, 29, 28, 28, 28</td><td><a class=\"ProveItLink\" href=\"../7c299fef26ddce3ccd74d2cbb83a3e498e1d9ee10/expr.ipynb\"><img src=\"../7c299fef26ddce3ccd74d2cbb83a3e498e1d9ee10/expr.png\" style=\"display:inline;vertical-align:middle;\" /></a></td></tr>\n",
       "<tr><td>3</td><td>ExprTuple</td><td>8, 28, 29, 28, 28</td><td><a class=\"ProveItLink\" href=\"../9f327f5653a0b9c5df3d4ce6462ee013c5a65ec20/expr.ipynb\"><img src=\"../9f327f5653a0b9c5df3d4ce6462ee013c5a65ec20/expr.png\" style=\"display:inline;vertical-align:middle;\" /></a></td></tr>\n",
       "<tr><td>4</td><td>ExprTuple</td><td>9, 28, 28, 29, 28</td><td><a class=\"ProveItLink\" href=\"../2340c16a1cd5a60898001f1e4affc6177c2a81cf0/expr.ipynb\"><img src=\"../2340c16a1cd5a60898001f1e4affc6177c2a81cf0/expr.png\" style=\"display:inline;vertical-align:middle;\" /></a></td></tr>\n",
       "<tr><td>5</td><td>ExprTuple</td><td>10, 28, 28, 28, 11</td><td><a class=\"ProveItLink\" href=\"../caf55230f54ca1cca71661467535289cdef3dc4f0/expr.ipynb\"><img src=\"../caf55230f54ca1cca71661467535289cdef3dc4f0/expr.png\" style=\"display:inline;vertical-align:middle;\" /></a></td></tr>\n",
       "<tr><td>6</td><td>Literal</td><td></td><td><a class=\"ProveItLink\" href=\"../3151e597b5b479a065e65c29276d68bfb7ea5bde0/expr.ipynb\"><img src=\"../3151e597b5b479a065e65c29276d68bfb7ea5bde0/expr.png\" style=\"display:inline;vertical-align:middle;\" /></a></td></tr>\n",
       "<tr><td>7</td><td>Operation</td><td>operator:&nbsp;15<br>operand:&nbsp;19<br></td><td><a class=\"ProveItLink\" href=\"../089f74dc7a0fc9ad935a5699f5e95c92252281de0/expr.ipynb\"><img src=\"../089f74dc7a0fc9ad935a5699f5e95c92252281de0/expr.png\" style=\"display:inline;vertical-align:middle;\" /></a></td></tr>\n",
       "<tr><td>8</td><td>Operation</td><td>operator:&nbsp;15<br>operand:&nbsp;20<br></td><td><a class=\"ProveItLink\" href=\"../da7bfd809bae01d3751d1bb38f4874958e9b8c390/expr.ipynb\"><img src=\"../da7bfd809bae01d3751d1bb38f4874958e9b8c390/expr.png\" style=\"display:inline;vertical-align:middle;\" /></a></td></tr>\n",
       "<tr><td>9</td><td>Operation</td><td>operator:&nbsp;15<br>operand:&nbsp;21<br></td><td><a class=\"ProveItLink\" href=\"../aa2b58c4c03f36792bce4838eec74059fb04646f0/expr.ipynb\"><img src=\"../aa2b58c4c03f36792bce4838eec74059fb04646f0/expr.png\" style=\"display:inline;vertical-align:middle;\" /></a></td></tr>\n",
       "<tr><td>10</td><td>Operation</td><td>operator:&nbsp;15<br>operand:&nbsp;22<br></td><td><a class=\"ProveItLink\" href=\"../93c834ece78550c2a9061e03c0504f7ef0cf14550/expr.ipynb\"><img src=\"../93c834ece78550c2a9061e03c0504f7ef0cf14550/expr.png\" style=\"display:inline;vertical-align:middle;\" /></a></td></tr>\n",
       "<tr><td>11</td><td>Operation</td><td>operator:&nbsp;17<br>operand:&nbsp;29<br></td><td><a class=\"ProveItLink\" href=\"../c196abdabdd3d4060890e8f97b9c5701fdca8b8a0/expr.ipynb\"><img src=\"../c196abdabdd3d4060890e8f97b9c5701fdca8b8a0/expr.png\" style=\"display:inline;vertical-align:middle;\" /></a></td></tr>\n",
       "<tr><td>12</td><td>ExprTuple</td><td>19</td><td><a class=\"ProveItLink\" href=\"../737663a2421be530d6667e932be641361a1b9a270/expr.ipynb\"><img src=\"../737663a2421be530d6667e932be641361a1b9a270/expr.png\" style=\"display:inline;vertical-align:middle;\" /></a></td></tr>\n",
       "<tr><td>13</td><td>ExprTuple</td><td>20</td><td><a class=\"ProveItLink\" href=\"../7fc669f03ffe05a8fb7c1ac28e83630f08f298100/expr.ipynb\"><img src=\"../7fc669f03ffe05a8fb7c1ac28e83630f08f298100/expr.png\" style=\"display:inline;vertical-align:middle;\" /></a></td></tr>\n",
       "<tr><td>14</td><td>ExprTuple</td><td>21</td><td><a class=\"ProveItLink\" href=\"../f00cc3afdd44c38bbf12054eea9855b3b5623afd0/expr.ipynb\"><img src=\"../f00cc3afdd44c38bbf12054eea9855b3b5623afd0/expr.png\" style=\"display:inline;vertical-align:middle;\" /></a></td></tr>\n",
       "<tr><td>15</td><td>Literal</td><td></td><td><a class=\"ProveItLink\" href=\"../../common/6e9e7d19bd9dfa08dee7501fca955461a19971770/expr.ipynb\"><img src=\"../../common/6e9e7d19bd9dfa08dee7501fca955461a19971770/expr.png\" style=\"display:inline;vertical-align:middle;\" /></a></td></tr>\n",
       "<tr><td>16</td><td>ExprTuple</td><td>22</td><td><a class=\"ProveItLink\" href=\"../d9f9ab7d5cac636779255ff669e53834a25850b80/expr.ipynb\"><img src=\"../d9f9ab7d5cac636779255ff669e53834a25850b80/expr.png\" style=\"display:inline;vertical-align:middle;\" /></a></td></tr>\n",
       "<tr><td>17</td><td>Literal</td><td></td><td><a class=\"ProveItLink\" href=\"../../../../../numbers/negation/__pv_it/common/31a69a5c76809537045e3884859f178d8d9c845c0/expr.ipynb\"><img src=\"../../../../../numbers/negation/__pv_it/common/31a69a5c76809537045e3884859f178d8d9c845c0/expr.png\" style=\"display:inline;vertical-align:middle;\" /></a></td></tr>\n",
       "<tr><td>18</td><td>ExprTuple</td><td>29</td><td><a class=\"ProveItLink\" href=\"../../common/983fb1abdb7789966ec8b7afe0d4f7ca8578c9e50/expr.ipynb\"><img src=\"../../common/983fb1abdb7789966ec8b7afe0d4f7ca8578c9e50/expr.png\" style=\"display:inline;vertical-align:middle;\" /></a></td></tr>\n",
       "<tr><td>19</td><td>Operation</td><td>operator:&nbsp;26<br>operands:&nbsp;23<br></td><td><a class=\"ProveItLink\" href=\"../3fd5792b1ece96620187d8d779a570cd908ed76e0/expr.ipynb\"><img src=\"../3fd5792b1ece96620187d8d779a570cd908ed76e0/expr.png\" style=\"display:inline;vertical-align:middle;\" /></a></td></tr>\n",
       "<tr><td>20</td><td>Operation</td><td>operator:&nbsp;26<br>operands:&nbsp;24<br></td><td><a class=\"ProveItLink\" href=\"../320b45c31f4d52b794272b342e5fcb6d9faf63bf0/expr.ipynb\"><img src=\"../320b45c31f4d52b794272b342e5fcb6d9faf63bf0/expr.png\" style=\"display:inline;vertical-align:middle;\" /></a></td></tr>\n",
       "<tr><td>21</td><td>Operation</td><td>operator:&nbsp;26<br>operands:&nbsp;25<br></td><td><a class=\"ProveItLink\" href=\"../41b3dc34bffc2581b8cfe5546b6c373fdd21bf970/expr.ipynb\"><img src=\"../41b3dc34bffc2581b8cfe5546b6c373fdd21bf970/expr.png\" style=\"display:inline;vertical-align:middle;\" /></a></td></tr>\n",
       "<tr><td>22</td><td>Operation</td><td>operator:&nbsp;26<br>operands:&nbsp;27<br></td><td><a class=\"ProveItLink\" href=\"../dbf15a84a8eff68f50b52f1e62e855f09df262430/expr.ipynb\"><img src=\"../dbf15a84a8eff68f50b52f1e62e855f09df262430/expr.png\" style=\"display:inline;vertical-align:middle;\" /></a></td></tr>\n",
       "<tr><td>23</td><td>ExprTuple</td><td>28, 28</td><td><a class=\"ProveItLink\" href=\"../dd8d0285302ca7d17412bafd68b712a6d58c22fe0/expr.ipynb\"><img src=\"../dd8d0285302ca7d17412bafd68b712a6d58c22fe0/expr.png\" style=\"display:inline;vertical-align:middle;\" /></a></td></tr>\n",
       "<tr><td>24</td><td>ExprTuple</td><td>28, 29</td><td><a class=\"ProveItLink\" href=\"../../../../../numbers/numerals/decimals/__pv_it/theorems/dfdc473ae74fc650d7acd9311c3b7c5c6dac9ef30/expr.ipynb\"><img src=\"../../../../../numbers/numerals/decimals/__pv_it/theorems/dfdc473ae74fc650d7acd9311c3b7c5c6dac9ef30/expr.png\" style=\"display:inline;vertical-align:middle;\" /></a></td></tr>\n",
       "<tr><td>25</td><td>ExprTuple</td><td>29, 28</td><td><a class=\"ProveItLink\" href=\"../f2de5132b76497f01506b1ba04fad93bb23e41450/expr.ipynb\"><img src=\"../f2de5132b76497f01506b1ba04fad93bb23e41450/expr.png\" style=\"display:inline;vertical-align:middle;\" /></a></td></tr>\n",
       "<tr><td>26</td><td>Literal</td><td></td><td><a class=\"ProveItLink\" href=\"../../../../../numbers/numerals/decimals/__pv_it/common/5240e41c3d0dea6969958f3bb00472b80eafdb290/expr.ipynb\"><img src=\"../../../../../numbers/numerals/decimals/__pv_it/common/5240e41c3d0dea6969958f3bb00472b80eafdb290/expr.png\" style=\"display:inline;vertical-align:middle;\" /></a></td></tr>\n",
       "<tr><td>27</td><td>ExprTuple</td><td>29, 29</td><td><a class=\"ProveItLink\" href=\"../../../../../numbers/numerals/decimals/__pv_it/theorems/5681a3d69c0c630393ff32a4bd9b1951430c12350/expr.ipynb\"><img src=\"../../../../../numbers/numerals/decimals/__pv_it/theorems/5681a3d69c0c630393ff32a4bd9b1951430c12350/expr.png\" style=\"display:inline;vertical-align:middle;\" /></a></td></tr>\n",
       "<tr><td>28</td><td>Literal</td><td></td><td><a class=\"ProveItLink\" href=\"../../../../../numbers/numerals/__pv_it/common/c35fdf7268947ca3e24174d2909dc9d0a7f3aac60/expr.ipynb\"><img src=\"../../../../../numbers/numerals/__pv_it/common/c35fdf7268947ca3e24174d2909dc9d0a7f3aac60/expr.png\" style=\"display:inline;vertical-align:middle;\" /></a></td></tr>\n",
       "<tr><td>29</td><td>Literal</td><td></td><td><a class=\"ProveItLink\" href=\"../../../../../numbers/numerals/__pv_it/common/d278e359da0695d9652dd541d45264f93703e2e40/expr.ipynb\"><img src=\"../../../../../numbers/numerals/__pv_it/common/d278e359da0695d9652dd541d45264f93703e2e40/expr.png\" style=\"display:inline;vertical-align:middle;\" /></a></td></tr>\n",
       "</table>\n"
      ],
      "text/plain": [
       "0. ~ & |00〉 & |01〉 & |10〉 & |11〉  \\\\ \n",
       "  |00〉 & 1 & 0 & 0 & 0  \\\\ \n",
       "  |01〉 & 0 & 1 & 0 & 0  \\\\ \n",
       "  |10〉 & 0 & 0 & 1 & 0  \\\\ \n",
       "  |11〉 & 0 & 0 & 0 & -1\n",
       "   core type: ExprTuple\n",
       "   sub-expressions: 1, 2, 3, 4, 5\n",
       "1. (~, |00〉, |01〉, |10〉, |11〉)\n",
       "   core type: ExprTuple\n",
       "   sub-expressions: 6, 7, 8, 9, 10\n",
       "2. (|00〉, 1, 0, 0, 0)\n",
       "   core type: ExprTuple\n",
       "   sub-expressions: 7, 29, 28, 28, 28\n",
       "3. (|01〉, 0, 1, 0, 0)\n",
       "   core type: ExprTuple\n",
       "   sub-expressions: 8, 28, 29, 28, 28\n",
       "4. (|10〉, 0, 0, 1, 0)\n",
       "   core type: ExprTuple\n",
       "   sub-expressions: 9, 28, 28, 29, 28\n",
       "5. (|11〉, 0, 0, 0, -1)\n",
       "   core type: ExprTuple\n",
       "   sub-expressions: 10, 28, 28, 28, 11\n",
       "6. ~\n",
       "   core type: Literal\n",
       "   sub-expressions: \n",
       "7. |00〉\n",
       "   core type: Operation\n",
       "   operator: 15\n",
       "   operand: 19\n",
       "8. |01〉\n",
       "   core type: Operation\n",
       "   operator: 15\n",
       "   operand: 20\n",
       "9. |10〉\n",
       "   core type: Operation\n",
       "   operator: 15\n",
       "   operand: 21\n",
       "10. |11〉\n",
       "    core type: Operation\n",
       "    operator: 15\n",
       "    operand: 22\n",
       "11. -1\n",
       "    core type: Operation\n",
       "    operator: 17\n",
       "    operand: 29\n",
       "12. (00)\n",
       "    core type: ExprTuple\n",
       "    sub-expressions: 19\n",
       "13. (01)\n",
       "    core type: ExprTuple\n",
       "    sub-expressions: 20\n",
       "14. (10)\n",
       "    core type: ExprTuple\n",
       "    sub-expressions: 21\n",
       "15. KET\n",
       "    core type: Literal\n",
       "    sub-expressions: \n",
       "16. (11)\n",
       "    core type: ExprTuple\n",
       "    sub-expressions: 22\n",
       "17. -\n",
       "    core type: Literal\n",
       "    sub-expressions: \n",
       "18. (1)\n",
       "    core type: ExprTuple\n",
       "    sub-expressions: 29\n",
       "19. 00\n",
       "    core type: Operation\n",
       "    operator: 26\n",
       "    operands: 23\n",
       "20. 01\n",
       "    core type: Operation\n",
       "    operator: 26\n",
       "    operands: 24\n",
       "21. 10\n",
       "    core type: Operation\n",
       "    operator: 26\n",
       "    operands: 25\n",
       "22. 11\n",
       "    core type: Operation\n",
       "    operator: 26\n",
       "    operands: 27\n",
       "23. (0, 0)\n",
       "    core type: ExprTuple\n",
       "    sub-expressions: 28, 28\n",
       "24. (0, 1)\n",
       "    core type: ExprTuple\n",
       "    sub-expressions: 28, 29\n",
       "25. (1, 0)\n",
       "    core type: ExprTuple\n",
       "    sub-expressions: 29, 28\n",
       "26. Decimal\n",
       "    core type: Literal\n",
       "    sub-expressions: \n",
       "27. (1, 1)\n",
       "    core type: ExprTuple\n",
       "    sub-expressions: 29, 29\n",
       "28. 0\n",
       "    core type: Literal\n",
       "    sub-expressions: \n",
       "29. 1\n",
       "    core type: Literal\n",
       "    sub-expressions: "
      ]
     },
     "execution_count": 6,
     "metadata": {},
     "output_type": "execute_result"
    }
   ],
   "source": [
    "# display the expression information\n",
    "expr.expr_info()"
   ]
  },
  {
   "cell_type": "code",
   "execution_count": null,
   "metadata": {},
   "outputs": [],
   "source": []
  }
 ],
 "metadata": {
  "kernelspec": {
   "display_name": "Python 3",
   "language": "python",
   "name": "python3"
  }
 },
 "nbformat": 4,
 "nbformat_minor": 0
}