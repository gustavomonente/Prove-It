{
 "cells": [
  {
   "cell_type": "markdown",
   "metadata": {},
   "source": [
    "Expression of type <a class=\"ProveItLink\" href=\"../../../../../../../doc/html/api/proveit.logic.And.html\">And</a>\n",
    "=======================\n",
    "# from the theory of <a class=\"ProveItLink\" href=\"../../../_theory_nbs_/theory.ipynb\">proveit.physics.quantum</a>"
   ]
  },
  {
   "cell_type": "code",
   "execution_count": 1,
   "metadata": {},
   "outputs": [],
   "source": [
    "import proveit\n",
    "# Automation is not needed when building an expression:\n",
    "proveit.defaults.automation = False # This will speed things up.\n",
    "proveit.defaults.inline_pngs = False # Makes files smaller.\n",
    "%load_expr # Load the stored expression as 'stored_expr'\n",
    "# import Expression classes needed to build the expression\n",
    "from proveit import ExprArray\n",
    "from proveit.logic import And, Set\n",
    "from proveit.numbers import one\n",
    "from proveit.physics.quantum import H, Input, Output, ket_psi\n",
    "from proveit.physics.quantum.circuit import Circuit, CircuitEquiv, IdentityOp, MultiQubitGate"
   ]
  },
  {
   "cell_type": "code",
   "execution_count": 2,
   "metadata": {},
   "outputs": [
    {
     "data": {
      "text/html": [
       "<strong id=\"expr\">expr:</strong> <a class=\"ProveItLink\" href=\"expr.ipynb\"><img src=\"expr.png\" style=\"display:inline;vertical-align:middle;\" /></a><br>"
      ],
      "text/plain": [
       "expr: ( MultiQubitGate(H, {1})  & MultiQubitGate(H, {1}) equiv  MultiQubitGate(I, {1})) and  MultiQubitGate(Input(|psi〉), {1})  & MultiQubitGate(H, {1})  & MultiQubitGate(H, {1})  & MultiQubitGate(Output(|psi〉), {1})"
      ]
     },
     "execution_count": 2,
     "metadata": {},
     "output_type": "execute_result"
    }
   ],
   "source": [
    "# build up the expression from sub-expressions\n",
    "sub_expr1 = Set(one)\n",
    "sub_expr2 = MultiQubitGate(H, sub_expr1)\n",
    "expr = And(CircuitEquiv(Circuit(ExprArray([sub_expr2, sub_expr2])), Circuit(ExprArray([MultiQubitGate(IdentityOp(explicit = True), sub_expr1)]))), Circuit(ExprArray([MultiQubitGate(Input(ket_psi), sub_expr1), sub_expr2, sub_expr2, MultiQubitGate(Output(ket_psi), sub_expr1)])))"
   ]
  },
  {
   "cell_type": "code",
   "execution_count": 3,
   "metadata": {},
   "outputs": [
    {
     "name": "stdout",
     "output_type": "stream",
     "text": [
      "Passed sanity check: expr matches stored_expr\n"
     ]
    }
   ],
   "source": [
    "# check that the built expression is the same as the stored expression\n",
    "assert expr == stored_expr\n",
    "assert expr._style_id == stored_expr._style_id\n",
    "print(\"Passed sanity check: expr matches stored_expr\")"
   ]
  },
  {
   "cell_type": "code",
   "execution_count": 4,
   "metadata": {},
   "outputs": [
    {
     "name": "stdout",
     "output_type": "stream",
     "text": [
      "\\left(\\hspace{2em} \\Qcircuit@C=1em @R=.7em{\n",
      "& \\gate{H{\\Big \\{} \\left\\{1\\right\\}} & \\gate{H{\\Big \\{} \\left\\{1\\right\\}} \n",
      "} \\hspace{2em} \\cong \\hspace{2em} \\Qcircuit@C=1em @R=.7em{\n",
      "& \\gate{I{\\Big \\{} \\left\\{1\\right\\}} \n",
      "} \\hspace{2em}\\right) \\land \\hspace{2em} \\Qcircuit@C=1em @R=.7em{\n",
      "& \\gate{Input(\\lvert \\psi \\rangle){\\Big \\{} \\left\\{1\\right\\}} & \\gate{H{\\Big \\{} \\left\\{1\\right\\}} & \\gate{H{\\Big \\{} \\left\\{1\\right\\}} & \\gate{Output(\\lvert \\psi \\rangle){\\Big \\{} \\left\\{1\\right\\}} \n",
      "} \\hspace{2em}\n"
     ]
    }
   ],
   "source": [
    "# Show the LaTeX representation of the expression for convenience if you need it.\n",
    "print(expr.latex())"
   ]
  },
  {
   "cell_type": "code",
   "execution_count": 5,
   "metadata": {},
   "outputs": [
    {
     "data": {
      "text/html": [
       "<table>\n",
       "<tr><th>name</th><th>description</th><th>default</th><th>current value</th><th>related methods</th></tr><tr><td>operation</td><td>'infix' or 'function' style formatting</td><td>infix</td><td>infix</td><td></td></tr>\n",
       "<tr><td>wrap_positions</td><td>position(s) at which wrapping is to occur; '2 n - 1' is after the nth operand, '2 n' is after the nth operation.</td><td>()</td><td>()</td><td>('with_wrapping_at', 'with_wrap_before_operator', 'with_wrap_after_operator', 'wrap_positions')</td></tr>\n",
       "<tr><td>justification</td><td>if any wrap positions are set, justify to the 'left', 'center', or 'right'</td><td>center</td><td>center</td><td>('with_justification',)</td></tr>\n",
       "</table>\n"
      ],
      "text/plain": [
       "style name: operation\n",
       "description: 'infix' or 'function' style formatting\n",
       "default: infix\n",
       "current value: infix\n",
       "related methods: ()\n",
       "style name: wrap_positions\n",
       "description: position(s) at which wrapping is to occur; '2 n - 1' is after the nth operand, '2 n' is after the nth operation.\n",
       "default: ()\n",
       "current value: ()\n",
       "related methods: ('with_wrapping_at', 'with_wrap_before_operator', 'with_wrap_after_operator', 'wrap_positions')\n",
       "style name: justification\n",
       "description: if any wrap positions are set, justify to the 'left', 'center', or 'right'\n",
       "default: center\n",
       "current value: center\n",
       "related methods: ('with_justification',)"
      ]
     },
     "execution_count": 5,
     "metadata": {},
     "output_type": "execute_result"
    }
   ],
   "source": [
    "expr.style_options()"
   ]
  },
  {
   "cell_type": "code",
   "execution_count": 6,
   "metadata": {},
   "outputs": [
    {
     "data": {
      "text/html": [
       "<table><tr><th>&nbsp;</th><th>core type</th><th>sub-expressions</th><th>expression</th></tr>\n",
       "<tr><td>0</td><td>Operation</td><td>operator:&nbsp;1<br>operands:&nbsp;2<br></td><td><a class=\"ProveItLink\" href=\"expr.ipynb\"><img src=\"expr.png\" style=\"display:inline;vertical-align:middle;\" /></a></td></tr>\n",
       "<tr><td>1</td><td>Literal</td><td></td><td><a class=\"ProveItLink\" href=\"../../../../../logic/booleans/conjunction/__pv_it/common/26b94b53e70b1d77b70f0d9d4236347db37731060/expr.ipynb\"><img src=\"../../../../../logic/booleans/conjunction/__pv_it/common/26b94b53e70b1d77b70f0d9d4236347db37731060/expr.png\" style=\"display:inline;vertical-align:middle;\" /></a></td></tr>\n",
       "<tr><td>2</td><td>ExprTuple</td><td>3, 4</td><td><a class=\"ProveItLink\" href=\"../a9fc5cfc9206ffbac4de4a9e91ea25facb3791120/expr.ipynb\"><img src=\"../a9fc5cfc9206ffbac4de4a9e91ea25facb3791120/expr.png\" style=\"display:inline;vertical-align:middle;\" /></a></td></tr>\n",
       "<tr><td>3</td><td>Operation</td><td>operator:&nbsp;5<br>operands:&nbsp;6<br></td><td><a class=\"ProveItLink\" href=\"../bbb8c9749ff61fdca3a5b56b91da654eded5fcab0/expr.ipynb\"><img src=\"../bbb8c9749ff61fdca3a5b56b91da654eded5fcab0/expr.png\" style=\"display:inline;vertical-align:middle;\" /></a></td></tr>\n",
       "<tr><td>4</td><td>Operation</td><td>operator:&nbsp;12<br>operand:&nbsp;10<br></td><td><a class=\"ProveItLink\" href=\"../42f15ee11509fbe47cfdc9b645d7467ba66fcb0b0/expr.ipynb\"><img src=\"../42f15ee11509fbe47cfdc9b645d7467ba66fcb0b0/expr.png\" style=\"display:inline;vertical-align:middle;\" /></a></td></tr>\n",
       "<tr><td>5</td><td>Literal</td><td></td><td><a class=\"ProveItLink\" href=\"../../common/0b9aa3c8024dab4294c5a1714db64eed0eeab1cc0/expr.ipynb\"><img src=\"../../common/0b9aa3c8024dab4294c5a1714db64eed0eeab1cc0/expr.png\" style=\"display:inline;vertical-align:middle;\" /></a></td></tr>\n",
       "<tr><td>6</td><td>ExprTuple</td><td>8, 9</td><td><a class=\"ProveItLink\" href=\"../06d92bb9d57363ad761f3dd6a16b0384c31cf61e0/expr.ipynb\"><img src=\"../06d92bb9d57363ad761f3dd6a16b0384c31cf61e0/expr.png\" style=\"display:inline;vertical-align:middle;\" /></a></td></tr>\n",
       "<tr><td>7</td><td>ExprTuple</td><td>10</td><td><a class=\"ProveItLink\" href=\"../b6efcc6f37e008e2fd6e37882c38812f8e201c9d0/expr.ipynb\"><img src=\"../b6efcc6f37e008e2fd6e37882c38812f8e201c9d0/expr.png\" style=\"display:inline;vertical-align:middle;\" /></a></td></tr>\n",
       "<tr><td>8</td><td>Operation</td><td>operator:&nbsp;12<br>operand:&nbsp;15<br></td><td><a class=\"ProveItLink\" href=\"../1dd17c0ad074593fac36df638fd319948fc0037c0/expr.ipynb\"><img src=\"../1dd17c0ad074593fac36df638fd319948fc0037c0/expr.png\" style=\"display:inline;vertical-align:middle;\" /></a></td></tr>\n",
       "<tr><td>9</td><td>Operation</td><td>operator:&nbsp;12<br>operand:&nbsp;16<br></td><td><a class=\"ProveItLink\" href=\"../56dfab659f88b2a5c3015a5943788d499fcc377d0/expr.ipynb\"><img src=\"../56dfab659f88b2a5c3015a5943788d499fcc377d0/expr.png\" style=\"display:inline;vertical-align:middle;\" /></a></td></tr>\n",
       "<tr><td>10</td><td>ExprTuple</td><td>14</td><td><a class=\"ProveItLink\" href=\"../ead7fde7e06d890e8bdd36f8ec3697da58adca130/expr.ipynb\"><img src=\"../ead7fde7e06d890e8bdd36f8ec3697da58adca130/expr.png\" style=\"display:inline;vertical-align:middle;\" /></a></td></tr>\n",
       "<tr><td>11</td><td>ExprTuple</td><td>15</td><td><a class=\"ProveItLink\" href=\"../e42e084b3e40d01b505c20da4c87d9d528c4ed2d0/expr.ipynb\"><img src=\"../e42e084b3e40d01b505c20da4c87d9d528c4ed2d0/expr.png\" style=\"display:inline;vertical-align:middle;\" /></a></td></tr>\n",
       "<tr><td>12</td><td>Literal</td><td></td><td><a class=\"ProveItLink\" href=\"../../common/bfa5cfb2e03dde2ed2a79fcd50b6e0ef7e57c1b10/expr.ipynb\"><img src=\"../../common/bfa5cfb2e03dde2ed2a79fcd50b6e0ef7e57c1b10/expr.png\" style=\"display:inline;vertical-align:middle;\" /></a></td></tr>\n",
       "<tr><td>13</td><td>ExprTuple</td><td>16</td><td><a class=\"ProveItLink\" href=\"../6815c86d2dc0e07e71141ab9d70728c1c610e7b70/expr.ipynb\"><img src=\"../6815c86d2dc0e07e71141ab9d70728c1c610e7b70/expr.png\" style=\"display:inline;vertical-align:middle;\" /></a></td></tr>\n",
       "<tr><td>14</td><td>ExprTuple</td><td>17, 23, 23, 18</td><td><a class=\"ProveItLink\" href=\"../7081aa403bfe83db0625611b5f0210551ef2a8fc0/expr.ipynb\"><img src=\"../7081aa403bfe83db0625611b5f0210551ef2a8fc0/expr.png\" style=\"display:inline;vertical-align:middle;\" /></a></td></tr>\n",
       "<tr><td>15</td><td>ExprTuple</td><td>19</td><td><a class=\"ProveItLink\" href=\"../b72b9eac19daeddf8fce3298afa3c1ab8e6109470/expr.ipynb\"><img src=\"../b72b9eac19daeddf8fce3298afa3c1ab8e6109470/expr.png\" style=\"display:inline;vertical-align:middle;\" /></a></td></tr>\n",
       "<tr><td>16</td><td>ExprTuple</td><td>20</td><td><a class=\"ProveItLink\" href=\"../bd6b3581ffcc02c26bce32df6022557e7bc054ef0/expr.ipynb\"><img src=\"../bd6b3581ffcc02c26bce32df6022557e7bc054ef0/expr.png\" style=\"display:inline;vertical-align:middle;\" /></a></td></tr>\n",
       "<tr><td>17</td><td>Operation</td><td>operator:&nbsp;28<br>operands:&nbsp;21<br></td><td><a class=\"ProveItLink\" href=\"../13f49d01b74e569e227b7678ea0b2c84c44ce5980/expr.ipynb\"><img src=\"../13f49d01b74e569e227b7678ea0b2c84c44ce5980/expr.png\" style=\"display:inline;vertical-align:middle;\" /></a></td></tr>\n",
       "<tr><td>18</td><td>Operation</td><td>operator:&nbsp;28<br>operands:&nbsp;22<br></td><td><a class=\"ProveItLink\" href=\"../e52cba325dab75f4a6c7e970c8ccffc9ce3f0e480/expr.ipynb\"><img src=\"../e52cba325dab75f4a6c7e970c8ccffc9ce3f0e480/expr.png\" style=\"display:inline;vertical-align:middle;\" /></a></td></tr>\n",
       "<tr><td>19</td><td>ExprTuple</td><td>23, 23</td><td><a class=\"ProveItLink\" href=\"../f7dc663225d294f78d0bab402436a2cf798ada700/expr.ipynb\"><img src=\"../f7dc663225d294f78d0bab402436a2cf798ada700/expr.png\" style=\"display:inline;vertical-align:middle;\" /></a></td></tr>\n",
       "<tr><td>20</td><td>ExprTuple</td><td>24</td><td><a class=\"ProveItLink\" href=\"../a1462be57d7d79163b91386f484882d1d54496290/expr.ipynb\"><img src=\"../a1462be57d7d79163b91386f484882d1d54496290/expr.png\" style=\"display:inline;vertical-align:middle;\" /></a></td></tr>\n",
       "<tr><td>21</td><td>ExprTuple</td><td>25, 35</td><td><a class=\"ProveItLink\" href=\"../d33b95cda344717cab9daff9a7676da624c6917e0/expr.ipynb\"><img src=\"../d33b95cda344717cab9daff9a7676da624c6917e0/expr.png\" style=\"display:inline;vertical-align:middle;\" /></a></td></tr>\n",
       "<tr><td>22</td><td>ExprTuple</td><td>26, 35</td><td><a class=\"ProveItLink\" href=\"../43b4131e579976a530efe306bf9ec70f8777d7a40/expr.ipynb\"><img src=\"../43b4131e579976a530efe306bf9ec70f8777d7a40/expr.png\" style=\"display:inline;vertical-align:middle;\" /></a></td></tr>\n",
       "<tr><td>23</td><td>Operation</td><td>operator:&nbsp;28<br>operands:&nbsp;27<br></td><td><a class=\"ProveItLink\" href=\"../32966f3f8512c61441baf3b07832546c0ce467f70/expr.ipynb\"><img src=\"../32966f3f8512c61441baf3b07832546c0ce467f70/expr.png\" style=\"display:inline;vertical-align:middle;\" /></a></td></tr>\n",
       "<tr><td>24</td><td>Operation</td><td>operator:&nbsp;28<br>operands:&nbsp;29<br></td><td><a class=\"ProveItLink\" href=\"../2d033f9cb635e40684b52fca3a7ba88764c726cd0/expr.ipynb\"><img src=\"../2d033f9cb635e40684b52fca3a7ba88764c726cd0/expr.png\" style=\"display:inline;vertical-align:middle;\" /></a></td></tr>\n",
       "<tr><td>25</td><td>Operation</td><td>operator:&nbsp;30<br>operand:&nbsp;36<br></td><td><a class=\"ProveItLink\" href=\"../0a85cd42046905c00d72d2ca34893d3038820e630/expr.ipynb\"><img src=\"../0a85cd42046905c00d72d2ca34893d3038820e630/expr.png\" style=\"display:inline;vertical-align:middle;\" /></a></td></tr>\n",
       "<tr><td>26</td><td>Operation</td><td>operator:&nbsp;31<br>operand:&nbsp;36<br></td><td><a class=\"ProveItLink\" href=\"../77a1a33eeb22dbd103d56555a50599189cd75aab0/expr.ipynb\"><img src=\"../77a1a33eeb22dbd103d56555a50599189cd75aab0/expr.png\" style=\"display:inline;vertical-align:middle;\" /></a></td></tr>\n",
       "<tr><td>27</td><td>ExprTuple</td><td>33, 35</td><td><a class=\"ProveItLink\" href=\"../be7c5a372aba6ff81e16a9554d4ba3be08c850910/expr.ipynb\"><img src=\"../be7c5a372aba6ff81e16a9554d4ba3be08c850910/expr.png\" style=\"display:inline;vertical-align:middle;\" /></a></td></tr>\n",
       "<tr><td>28</td><td>Literal</td><td></td><td><a class=\"ProveItLink\" href=\"../../common/38deceb0a69e80c36399d725649803706802a2a90/expr.ipynb\"><img src=\"../../common/38deceb0a69e80c36399d725649803706802a2a90/expr.png\" style=\"display:inline;vertical-align:middle;\" /></a></td></tr>\n",
       "<tr><td>29</td><td>ExprTuple</td><td>34, 35</td><td><a class=\"ProveItLink\" href=\"../bcbe62f1fe5d616cefcf7839a3a676d2aae25de70/expr.ipynb\"><img src=\"../bcbe62f1fe5d616cefcf7839a3a676d2aae25de70/expr.png\" style=\"display:inline;vertical-align:middle;\" /></a></td></tr>\n",
       "<tr><td>30</td><td>Literal</td><td></td><td><a class=\"ProveItLink\" href=\"../../common/96232b9016d8d3baf1cf9772ef796ddaf8f7f4610/expr.ipynb\"><img src=\"../../common/96232b9016d8d3baf1cf9772ef796ddaf8f7f4610/expr.png\" style=\"display:inline;vertical-align:middle;\" /></a></td></tr>\n",
       "<tr><td>31</td><td>Literal</td><td></td><td><a class=\"ProveItLink\" href=\"../../common/a31fa972f0ff74e32d7bde73a99a2ddf76467fac0/expr.ipynb\"><img src=\"../../common/a31fa972f0ff74e32d7bde73a99a2ddf76467fac0/expr.png\" style=\"display:inline;vertical-align:middle;\" /></a></td></tr>\n",
       "<tr><td>32</td><td>ExprTuple</td><td>36</td><td><a class=\"ProveItLink\" href=\"../07b8da570d587b1b221aba34684585e765393d3d0/expr.ipynb\"><img src=\"../07b8da570d587b1b221aba34684585e765393d3d0/expr.png\" style=\"display:inline;vertical-align:middle;\" /></a></td></tr>\n",
       "<tr><td>33</td><td>Literal</td><td></td><td><a class=\"ProveItLink\" href=\"../../common/368cf31b7f078f904d5478ccb332c7d15763fe920/expr.ipynb\"><img src=\"../../common/368cf31b7f078f904d5478ccb332c7d15763fe920/expr.png\" style=\"display:inline;vertical-align:middle;\" /></a></td></tr>\n",
       "<tr><td>34</td><td>Literal</td><td></td><td><a class=\"ProveItLink\" href=\"../0514f662d73f535f49bf899158853ff0b3f8b8b10/expr.ipynb\"><img src=\"../0514f662d73f535f49bf899158853ff0b3f8b8b10/expr.png\" style=\"display:inline;vertical-align:middle;\" /></a></td></tr>\n",
       "<tr><td>35</td><td>Operation</td><td>operator:&nbsp;37<br>operand:&nbsp;41<br></td><td><a class=\"ProveItLink\" href=\"../985356546329e074f800c33c802daf78284f89ad0/expr.ipynb\"><img src=\"../985356546329e074f800c33c802daf78284f89ad0/expr.png\" style=\"display:inline;vertical-align:middle;\" /></a></td></tr>\n",
       "<tr><td>36</td><td>Operation</td><td>operator:&nbsp;39<br>operand:&nbsp;42<br></td><td><a class=\"ProveItLink\" href=\"../../common/61c7524fbf87b3fb3718ca1a2b7f14424b3b338a0/expr.ipynb\"><img src=\"../../common/61c7524fbf87b3fb3718ca1a2b7f14424b3b338a0/expr.png\" style=\"display:inline;vertical-align:middle;\" /></a></td></tr>\n",
       "<tr><td>37</td><td>Literal</td><td></td><td><a class=\"ProveItLink\" href=\"../../../../../logic/sets/enumeration/__pv_it/common/f7caf702081f903a6ea3d95d680568dd78698f5a0/expr.ipynb\"><img src=\"../../../../../logic/sets/enumeration/__pv_it/common/f7caf702081f903a6ea3d95d680568dd78698f5a0/expr.png\" style=\"display:inline;vertical-align:middle;\" /></a></td></tr>\n",
       "<tr><td>38</td><td>ExprTuple</td><td>41</td><td><a class=\"ProveItLink\" href=\"../../common/983fb1abdb7789966ec8b7afe0d4f7ca8578c9e50/expr.ipynb\"><img src=\"../../common/983fb1abdb7789966ec8b7afe0d4f7ca8578c9e50/expr.png\" style=\"display:inline;vertical-align:middle;\" /></a></td></tr>\n",
       "<tr><td>39</td><td>Literal</td><td></td><td><a class=\"ProveItLink\" href=\"../../common/6e9e7d19bd9dfa08dee7501fca955461a19971770/expr.ipynb\"><img src=\"../../common/6e9e7d19bd9dfa08dee7501fca955461a19971770/expr.png\" style=\"display:inline;vertical-align:middle;\" /></a></td></tr>\n",
       "<tr><td>40</td><td>ExprTuple</td><td>42</td><td><a class=\"ProveItLink\" href=\"../../common/76f9f31f8bf4c47669afa10d9f725c2a70b786610/expr.ipynb\"><img src=\"../../common/76f9f31f8bf4c47669afa10d9f725c2a70b786610/expr.png\" style=\"display:inline;vertical-align:middle;\" /></a></td></tr>\n",
       "<tr><td>41</td><td>Literal</td><td></td><td><a class=\"ProveItLink\" href=\"../../../../../numbers/numerals/__pv_it/common/d278e359da0695d9652dd541d45264f93703e2e40/expr.ipynb\"><img src=\"../../../../../numbers/numerals/__pv_it/common/d278e359da0695d9652dd541d45264f93703e2e40/expr.png\" style=\"display:inline;vertical-align:middle;\" /></a></td></tr>\n",
       "<tr><td>42</td><td>Literal</td><td></td><td><a class=\"ProveItLink\" href=\"../../common/11fa3af15bc9f82a2972f29fb6357a1d11f74d010/expr.ipynb\"><img src=\"../../common/11fa3af15bc9f82a2972f29fb6357a1d11f74d010/expr.png\" style=\"display:inline;vertical-align:middle;\" /></a></td></tr>\n",
       "</table>\n"
      ],
      "text/plain": [
       "0. ( MultiQubitGate(H, {1})  & MultiQubitGate(H, {1}) equiv  MultiQubitGate(I, {1})) and  MultiQubitGate(Input(|psi〉), {1})  & MultiQubitGate(H, {1})  & MultiQubitGate(H, {1})  & MultiQubitGate(Output(|psi〉), {1})\n",
       "   core type: Operation\n",
       "   operator: 1\n",
       "   operands: 2\n",
       "1. and\n",
       "   core type: Literal\n",
       "   sub-expressions: \n",
       "2. ( MultiQubitGate(H, {1})  & MultiQubitGate(H, {1}) equiv  MultiQubitGate(I, {1}),  MultiQubitGate(Input(|psi〉), {1})  & MultiQubitGate(H, {1})  & MultiQubitGate(H, {1})  & MultiQubitGate(Output(|psi〉), {1}))\n",
       "   core type: ExprTuple\n",
       "   sub-expressions: 3, 4\n",
       "3.  MultiQubitGate(H, {1})  & MultiQubitGate(H, {1}) equiv  MultiQubitGate(I, {1})\n",
       "   core type: Operation\n",
       "   operator: 5\n",
       "   operands: 6\n",
       "4.  MultiQubitGate(Input(|psi〉), {1})  & MultiQubitGate(H, {1})  & MultiQubitGate(H, {1})  & MultiQubitGate(Output(|psi〉), {1})\n",
       "   core type: Operation\n",
       "   operator: 12\n",
       "   operand: 10\n",
       "5. equiv\n",
       "   core type: Literal\n",
       "   sub-expressions: \n",
       "6. ( MultiQubitGate(H, {1})  & MultiQubitGate(H, {1}),  MultiQubitGate(I, {1}))\n",
       "   core type: ExprTuple\n",
       "   sub-expressions: 8, 9\n",
       "7. ((MultiQubitGate(Input(|psi〉), {1}) & MultiQubitGate(H, {1}) & MultiQubitGate(H, {1}) & MultiQubitGate(Output(|psi〉), {1})))\n",
       "   core type: ExprTuple\n",
       "   sub-expressions: 10\n",
       "8.  MultiQubitGate(H, {1})  & MultiQubitGate(H, {1})\n",
       "   core type: Operation\n",
       "   operator: 12\n",
       "   operand: 15\n",
       "9.  MultiQubitGate(I, {1})\n",
       "   core type: Operation\n",
       "   operator: 12\n",
       "   operand: 16\n",
       "10. MultiQubitGate(Input(|psi〉), {1}) & MultiQubitGate(H, {1}) & MultiQubitGate(H, {1}) & MultiQubitGate(Output(|psi〉), {1})\n",
       "    core type: ExprTuple\n",
       "    sub-expressions: 14\n",
       "11. ((MultiQubitGate(H, {1}) & MultiQubitGate(H, {1})))\n",
       "    core type: ExprTuple\n",
       "    sub-expressions: 15\n",
       "12. CIRCUIT\n",
       "    core type: Literal\n",
       "    sub-expressions: \n",
       "13. ((MultiQubitGate(I, {1})))\n",
       "    core type: ExprTuple\n",
       "    sub-expressions: 16\n",
       "14. (MultiQubitGate(Input(|psi〉), {1}), MultiQubitGate(H, {1}), MultiQubitGate(H, {1}), MultiQubitGate(Output(|psi〉), {1}))\n",
       "    core type: ExprTuple\n",
       "    sub-expressions: 17, 23, 23, 18\n",
       "15. MultiQubitGate(H, {1}) & MultiQubitGate(H, {1})\n",
       "    core type: ExprTuple\n",
       "    sub-expressions: 19\n",
       "16. MultiQubitGate(I, {1})\n",
       "    core type: ExprTuple\n",
       "    sub-expressions: 20\n",
       "17. MultiQubitGate(Input(|psi〉), {1})\n",
       "    core type: Operation\n",
       "    operator: 28\n",
       "    operands: 21\n",
       "18. MultiQubitGate(Output(|psi〉), {1})\n",
       "    core type: Operation\n",
       "    operator: 28\n",
       "    operands: 22\n",
       "19. (MultiQubitGate(H, {1}), MultiQubitGate(H, {1}))\n",
       "    core type: ExprTuple\n",
       "    sub-expressions: 23, 23\n",
       "20. (MultiQubitGate(I, {1}))\n",
       "    core type: ExprTuple\n",
       "    sub-expressions: 24\n",
       "21. (Input(|psi〉), {1})\n",
       "    core type: ExprTuple\n",
       "    sub-expressions: 25, 35\n",
       "22. (Output(|psi〉), {1})\n",
       "    core type: ExprTuple\n",
       "    sub-expressions: 26, 35\n",
       "23. MultiQubitGate(H, {1})\n",
       "    core type: Operation\n",
       "    operator: 28\n",
       "    operands: 27\n",
       "24. MultiQubitGate(I, {1})\n",
       "    core type: Operation\n",
       "    operator: 28\n",
       "    operands: 29\n",
       "25. Input(|psi〉)\n",
       "    core type: Operation\n",
       "    operator: 30\n",
       "    operand: 36\n",
       "26. Output(|psi〉)\n",
       "    core type: Operation\n",
       "    operator: 31\n",
       "    operand: 36\n",
       "27. (H, {1})\n",
       "    core type: ExprTuple\n",
       "    sub-expressions: 33, 35\n",
       "28. MULTI_QUBIT_GATE\n",
       "    core type: Literal\n",
       "    sub-expressions: \n",
       "29. ([I], {1})\n",
       "    core type: ExprTuple\n",
       "    sub-expressions: 34, 35\n",
       "30. INPUT\n",
       "    core type: Literal\n",
       "    sub-expressions: \n",
       "31. OUTPUT\n",
       "    core type: Literal\n",
       "    sub-expressions: \n",
       "32. (|psi〉)\n",
       "    core type: ExprTuple\n",
       "    sub-expressions: 36\n",
       "33. H\n",
       "    core type: Literal\n",
       "    sub-expressions: \n",
       "34. [I]\n",
       "    core type: Literal\n",
       "    sub-expressions: \n",
       "35. {1}\n",
       "    core type: Operation\n",
       "    operator: 37\n",
       "    operand: 41\n",
       "36. |psi〉\n",
       "    core type: Operation\n",
       "    operator: 39\n",
       "    operand: 42\n",
       "37. Set\n",
       "    core type: Literal\n",
       "    sub-expressions: \n",
       "38. (1)\n",
       "    core type: ExprTuple\n",
       "    sub-expressions: 41\n",
       "39. KET\n",
       "    core type: Literal\n",
       "    sub-expressions: \n",
       "40. (psi)\n",
       "    core type: ExprTuple\n",
       "    sub-expressions: 42\n",
       "41. 1\n",
       "    core type: Literal\n",
       "    sub-expressions: \n",
       "42. psi\n",
       "    core type: Literal\n",
       "    sub-expressions: "
      ]
     },
     "execution_count": 6,
     "metadata": {},
     "output_type": "execute_result"
    }
   ],
   "source": [
    "# display the expression information\n",
    "expr.expr_info()"
   ]
  },
  {
   "cell_type": "code",
   "execution_count": null,
   "metadata": {},
   "outputs": [],
   "source": []
  }
 ],
 "metadata": {
  "kernelspec": {
   "display_name": "Python 3",
   "language": "python",
   "name": "python3"
  }
 },
 "nbformat": 4,
 "nbformat_minor": 0
}