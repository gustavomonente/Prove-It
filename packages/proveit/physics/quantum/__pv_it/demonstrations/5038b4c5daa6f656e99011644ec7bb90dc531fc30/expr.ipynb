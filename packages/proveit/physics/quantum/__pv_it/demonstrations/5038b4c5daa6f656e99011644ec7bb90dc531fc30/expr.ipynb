{
 "cells": [
  {
   "cell_type": "markdown",
   "metadata": {},
   "source": [
    "Expression of type <a class=\"ProveItLink\" href=\"../../../../../../../doc/html/api/proveit.logic.And.html\">And</a>\n",
    "=======================\n",
    "# from the theory of <a class=\"ProveItLink\" href=\"../../../_theory_nbs_/theory.ipynb\">proveit.physics.quantum</a>"
   ]
  },
  {
   "cell_type": "code",
   "execution_count": 1,
   "metadata": {},
   "outputs": [],
   "source": [
    "import proveit\n",
    "# Automation is not needed when building an expression:\n",
    "proveit.defaults.automation = False # This will speed things up.\n",
    "proveit.defaults.inline_pngs = False # Makes files smaller.\n",
    "%load_expr # Load the stored expression as 'stored_expr'\n",
    "# import Expression classes needed to build the expression\n",
    "from proveit import ExprArray\n",
    "from proveit.logic import And, Set\n",
    "from proveit.numbers import one\n",
    "from proveit.physics.quantum import H, Input, Output, ket_psi\n",
    "from proveit.physics.quantum.circuit import Circuit, CircuitEquiv, IdentityOp, MultiQubitGate"
   ]
  },
  {
   "cell_type": "code",
   "execution_count": 2,
   "metadata": {},
   "outputs": [
    {
     "data": {
      "text/html": [
       "<strong id=\"expr\">expr:</strong> <a class=\"ProveItLink\" href=\"expr.ipynb\"><img src=\"expr.png\" style=\"display:inline;vertical-align:middle;\" /></a><br>"
      ],
      "text/plain": [
       "expr: ( MultiQubitGate(H, {1})  & MultiQubitGate(H, {1}) equiv  MultiQubitGate(I, {1})) and  MultiQubitGate(Input(|psi〉), {1})  & MultiQubitGate(H, {1})  & MultiQubitGate(H, {1})  & MultiQubitGate(Output(|psi〉), {1})"
      ]
     },
     "execution_count": 2,
     "metadata": {},
     "output_type": "execute_result"
    }
   ],
   "source": [
    "# build up the expression from sub-expressions\n",
    "sub_expr1 = Set(one)\n",
    "sub_expr2 = MultiQubitGate(H, sub_expr1)\n",
    "expr = And(CircuitEquiv(Circuit(ExprArray([sub_expr2, sub_expr2])), Circuit(ExprArray([MultiQubitGate(IdentityOp(explicit = True), sub_expr1)]))), Circuit(ExprArray([MultiQubitGate(Input(ket_psi), sub_expr1), sub_expr2, sub_expr2, MultiQubitGate(Output(ket_psi), sub_expr1)])))"
   ]
  },
  {
   "cell_type": "code",
   "execution_count": 3,
   "metadata": {},
   "outputs": [
    {
     "name": "stdout",
     "output_type": "stream",
     "text": [
      "Passed sanity check: expr matches stored_expr\n"
     ]
    }
   ],
   "source": [
    "# check that the built expression is the same as the stored expression\n",
    "assert expr == stored_expr\n",
    "assert expr._style_id == stored_expr._style_id\n",
    "print(\"Passed sanity check: expr matches stored_expr\")"
   ]
  },
  {
   "cell_type": "code",
   "execution_count": 4,
   "metadata": {},
   "outputs": [
    {
     "name": "stdout",
     "output_type": "stream",
     "text": [
      "\\left(\\hspace{2em} \\Qcircuit@C=1em @R=.7em{\n",
      "& \\gate{H{\\Big \\{} \\left\\{1\\right\\}} & \\gate{H{\\Big \\{} \\left\\{1\\right\\}} \n",
      "} \\hspace{2em} \\cong \\hspace{2em} \\Qcircuit@C=1em @R=.7em{\n",
      "& \\gate{I{\\Big \\{} \\left\\{1\\right\\}} \n",
      "} \\hspace{2em}\\right) \\land \\hspace{2em} \\Qcircuit@C=1em @R=.7em{\n",
      "& \\gate{Input(\\lvert \\psi \\rangle){\\Big \\{} \\left\\{1\\right\\}} & \\gate{H{\\Big \\{} \\left\\{1\\right\\}} & \\gate{H{\\Big \\{} \\left\\{1\\right\\}} & \\gate{Output(\\lvert \\psi \\rangle){\\Big \\{} \\left\\{1\\right\\}} \n",
      "} \\hspace{2em}\n"
     ]
    }
   ],
   "source": [
    "# Show the LaTeX representation of the expression for convenience if you need it.\n",
    "print(expr.latex())"
   ]
  },
  {
   "cell_type": "code",
   "execution_count": 5,
   "metadata": {},
   "outputs": [
    {
     "data": {
      "text/html": [
       "<table><tr><th>&nbsp;</th><th>core type</th><th>sub-expressions</th><th>expression</th></tr>\n",
       "<tr><td>0</td><td>Operation</td><td>operator:&nbsp;1<br>operands:&nbsp;2<br></td><td><a class=\"ProveItLink\" href=\"expr.ipynb\"><img src=\"expr.png\" style=\"display:inline;vertical-align:middle;\" /></a></td></tr>\n",
       "<tr><td>1</td><td>Literal</td><td></td><td><a class=\"ProveItLink\" href=\"../../../../../logic/booleans/conjunction/__pv_it/common/42118ff318bd65d98b1393f64ce7c2269feef76e0/expr.ipynb\"><img src=\"../../../../../logic/booleans/conjunction/__pv_it/common/42118ff318bd65d98b1393f64ce7c2269feef76e0/expr.png\" style=\"display:inline;vertical-align:middle;\" /></a></td></tr>\n",
       "<tr><td>2</td><td>ExprTuple</td><td>3, 4</td><td><a class=\"ProveItLink\" href=\"../f08754832c74af615427262dc07f79cac1a169c50/expr.ipynb\"><img src=\"../f08754832c74af615427262dc07f79cac1a169c50/expr.png\" style=\"display:inline;vertical-align:middle;\" /></a></td></tr>\n",
       "<tr><td>3</td><td>Operation</td><td>operator:&nbsp;5<br>operands:&nbsp;6<br></td><td><a class=\"ProveItLink\" href=\"../8a087169b1e018e7ad7be084019cae93c5e95ec20/expr.ipynb\"><img src=\"../8a087169b1e018e7ad7be084019cae93c5e95ec20/expr.png\" style=\"display:inline;vertical-align:middle;\" /></a></td></tr>\n",
       "<tr><td>4</td><td>Operation</td><td>operator:&nbsp;12<br>operand:&nbsp;10<br></td><td><a class=\"ProveItLink\" href=\"../b9070e3389d94a0af46331329381f8b3eb063add0/expr.ipynb\"><img src=\"../b9070e3389d94a0af46331329381f8b3eb063add0/expr.png\" style=\"display:inline;vertical-align:middle;\" /></a></td></tr>\n",
       "<tr><td>5</td><td>Literal</td><td></td><td><a class=\"ProveItLink\" href=\"../../common/b3520ccd5e28caaba55f0c0dd58050c7f0ca707d0/expr.ipynb\"><img src=\"../../common/b3520ccd5e28caaba55f0c0dd58050c7f0ca707d0/expr.png\" style=\"display:inline;vertical-align:middle;\" /></a></td></tr>\n",
       "<tr><td>6</td><td>ExprTuple</td><td>8, 9</td><td><a class=\"ProveItLink\" href=\"../652728b9fc01a099e1f69c7bf2bd402c9f480db10/expr.ipynb\"><img src=\"../652728b9fc01a099e1f69c7bf2bd402c9f480db10/expr.png\" style=\"display:inline;vertical-align:middle;\" /></a></td></tr>\n",
       "<tr><td>7</td><td>ExprTuple</td><td>10</td><td><a class=\"ProveItLink\" href=\"../897a951573b870817d6c6d8a3adeff77e25277290/expr.ipynb\"><img src=\"../897a951573b870817d6c6d8a3adeff77e25277290/expr.png\" style=\"display:inline;vertical-align:middle;\" /></a></td></tr>\n",
       "<tr><td>8</td><td>Operation</td><td>operator:&nbsp;12<br>operand:&nbsp;15<br></td><td><a class=\"ProveItLink\" href=\"../7b05c93276409d0d601a049a758baf4ffbd865ae0/expr.ipynb\"><img src=\"../7b05c93276409d0d601a049a758baf4ffbd865ae0/expr.png\" style=\"display:inline;vertical-align:middle;\" /></a></td></tr>\n",
       "<tr><td>9</td><td>Operation</td><td>operator:&nbsp;12<br>operand:&nbsp;16<br></td><td><a class=\"ProveItLink\" href=\"../ade72433461d0c1ff1187e34a14d49022736dd4c0/expr.ipynb\"><img src=\"../ade72433461d0c1ff1187e34a14d49022736dd4c0/expr.png\" style=\"display:inline;vertical-align:middle;\" /></a></td></tr>\n",
       "<tr><td>10</td><td>ExprTuple</td><td>14</td><td><a class=\"ProveItLink\" href=\"../27ea84d8bf7c66b325e8bc065cc05519276d94d20/expr.ipynb\"><img src=\"../27ea84d8bf7c66b325e8bc065cc05519276d94d20/expr.png\" style=\"display:inline;vertical-align:middle;\" /></a></td></tr>\n",
       "<tr><td>11</td><td>ExprTuple</td><td>15</td><td><a class=\"ProveItLink\" href=\"../d3a26707a71b36afe39985d28ee41c1178e961d40/expr.ipynb\"><img src=\"../d3a26707a71b36afe39985d28ee41c1178e961d40/expr.png\" style=\"display:inline;vertical-align:middle;\" /></a></td></tr>\n",
       "<tr><td>12</td><td>Literal</td><td></td><td><a class=\"ProveItLink\" href=\"../../common/409f940d39947a3c17092974bfa20c1d4da6996c0/expr.ipynb\"><img src=\"../../common/409f940d39947a3c17092974bfa20c1d4da6996c0/expr.png\" style=\"display:inline;vertical-align:middle;\" /></a></td></tr>\n",
       "<tr><td>13</td><td>ExprTuple</td><td>16</td><td><a class=\"ProveItLink\" href=\"../ea6a980a56445fe2e6615a8185c3da62cf99a5b00/expr.ipynb\"><img src=\"../ea6a980a56445fe2e6615a8185c3da62cf99a5b00/expr.png\" style=\"display:inline;vertical-align:middle;\" /></a></td></tr>\n",
       "<tr><td>14</td><td>ExprTuple</td><td>17, 23, 23, 18</td><td><a class=\"ProveItLink\" href=\"../e711a50929f5afb7e1719e75400b6e1fe3f187740/expr.ipynb\"><img src=\"../e711a50929f5afb7e1719e75400b6e1fe3f187740/expr.png\" style=\"display:inline;vertical-align:middle;\" /></a></td></tr>\n",
       "<tr><td>15</td><td>ExprTuple</td><td>19</td><td><a class=\"ProveItLink\" href=\"../5c4f9c168ca61c4a5d0627e307cb221f3d7ca3f40/expr.ipynb\"><img src=\"../5c4f9c168ca61c4a5d0627e307cb221f3d7ca3f40/expr.png\" style=\"display:inline;vertical-align:middle;\" /></a></td></tr>\n",
       "<tr><td>16</td><td>ExprTuple</td><td>20</td><td><a class=\"ProveItLink\" href=\"../96cc14d00f5dd77c21d29205734a34a0a61339a20/expr.ipynb\"><img src=\"../96cc14d00f5dd77c21d29205734a34a0a61339a20/expr.png\" style=\"display:inline;vertical-align:middle;\" /></a></td></tr>\n",
       "<tr><td>17</td><td>Operation</td><td>operator:&nbsp;28<br>operands:&nbsp;21<br></td><td><a class=\"ProveItLink\" href=\"../95cdf1a48c0666981685aa5b06faac8947be9cd00/expr.ipynb\"><img src=\"../95cdf1a48c0666981685aa5b06faac8947be9cd00/expr.png\" style=\"display:inline;vertical-align:middle;\" /></a></td></tr>\n",
       "<tr><td>18</td><td>Operation</td><td>operator:&nbsp;28<br>operands:&nbsp;22<br></td><td><a class=\"ProveItLink\" href=\"../f453571f093b0412ae875a487c0020003222de970/expr.ipynb\"><img src=\"../f453571f093b0412ae875a487c0020003222de970/expr.png\" style=\"display:inline;vertical-align:middle;\" /></a></td></tr>\n",
       "<tr><td>19</td><td>ExprTuple</td><td>23, 23</td><td><a class=\"ProveItLink\" href=\"../de6852c32fe44507d9b1540e28221378530898c20/expr.ipynb\"><img src=\"../de6852c32fe44507d9b1540e28221378530898c20/expr.png\" style=\"display:inline;vertical-align:middle;\" /></a></td></tr>\n",
       "<tr><td>20</td><td>ExprTuple</td><td>24</td><td><a class=\"ProveItLink\" href=\"../6680206e49031dc552aae8758aec526205dffaf30/expr.ipynb\"><img src=\"../6680206e49031dc552aae8758aec526205dffaf30/expr.png\" style=\"display:inline;vertical-align:middle;\" /></a></td></tr>\n",
       "<tr><td>21</td><td>ExprTuple</td><td>25, 35</td><td><a class=\"ProveItLink\" href=\"../9740ef00678f8a5e335ff9555085533eee65670c0/expr.ipynb\"><img src=\"../9740ef00678f8a5e335ff9555085533eee65670c0/expr.png\" style=\"display:inline;vertical-align:middle;\" /></a></td></tr>\n",
       "<tr><td>22</td><td>ExprTuple</td><td>26, 35</td><td><a class=\"ProveItLink\" href=\"../a8034adaafdc501030b130813f8348b57cd9262b0/expr.ipynb\"><img src=\"../a8034adaafdc501030b130813f8348b57cd9262b0/expr.png\" style=\"display:inline;vertical-align:middle;\" /></a></td></tr>\n",
       "<tr><td>23</td><td>Operation</td><td>operator:&nbsp;28<br>operands:&nbsp;27<br></td><td><a class=\"ProveItLink\" href=\"../6ab25901cb5672432315ad720e8944618fb015d50/expr.ipynb\"><img src=\"../6ab25901cb5672432315ad720e8944618fb015d50/expr.png\" style=\"display:inline;vertical-align:middle;\" /></a></td></tr>\n",
       "<tr><td>24</td><td>Operation</td><td>operator:&nbsp;28<br>operands:&nbsp;29<br></td><td><a class=\"ProveItLink\" href=\"../963e3d2b3861dff1424b6ec3748e055df68f8cba0/expr.ipynb\"><img src=\"../963e3d2b3861dff1424b6ec3748e055df68f8cba0/expr.png\" style=\"display:inline;vertical-align:middle;\" /></a></td></tr>\n",
       "<tr><td>25</td><td>Operation</td><td>operator:&nbsp;30<br>operand:&nbsp;32<br></td><td><a class=\"ProveItLink\" href=\"../8a325a80937b293bc72fdda1510ce9de301202330/expr.ipynb\"><img src=\"../8a325a80937b293bc72fdda1510ce9de301202330/expr.png\" style=\"display:inline;vertical-align:middle;\" /></a></td></tr>\n",
       "<tr><td>26</td><td>Operation</td><td>operator:&nbsp;31<br>operand:&nbsp;32<br></td><td><a class=\"ProveItLink\" href=\"../f2a16f7fa0ce8a9b9fb9c4433a884f0db7c072cf0/expr.ipynb\"><img src=\"../f2a16f7fa0ce8a9b9fb9c4433a884f0db7c072cf0/expr.png\" style=\"display:inline;vertical-align:middle;\" /></a></td></tr>\n",
       "<tr><td>27</td><td>ExprTuple</td><td>33, 35</td><td><a class=\"ProveItLink\" href=\"../51765debcc107111380aca56c119abe5e30662c30/expr.ipynb\"><img src=\"../51765debcc107111380aca56c119abe5e30662c30/expr.png\" style=\"display:inline;vertical-align:middle;\" /></a></td></tr>\n",
       "<tr><td>28</td><td>Literal</td><td></td><td><a class=\"ProveItLink\" href=\"../../common/7e400d333e3c53d1c3dd14244e4b33f4cea327190/expr.ipynb\"><img src=\"../../common/7e400d333e3c53d1c3dd14244e4b33f4cea327190/expr.png\" style=\"display:inline;vertical-align:middle;\" /></a></td></tr>\n",
       "<tr><td>29</td><td>ExprTuple</td><td>34, 35</td><td><a class=\"ProveItLink\" href=\"../3d4384af3c21cc4e33f29bf1c3f544653aecf1580/expr.ipynb\"><img src=\"../3d4384af3c21cc4e33f29bf1c3f544653aecf1580/expr.png\" style=\"display:inline;vertical-align:middle;\" /></a></td></tr>\n",
       "<tr><td>30</td><td>Literal</td><td></td><td><a class=\"ProveItLink\" href=\"../../common/75fe2e9c3de87ae2358442c50cf12e606184c7e30/expr.ipynb\"><img src=\"../../common/75fe2e9c3de87ae2358442c50cf12e606184c7e30/expr.png\" style=\"display:inline;vertical-align:middle;\" /></a></td></tr>\n",
       "<tr><td>31</td><td>Literal</td><td></td><td><a class=\"ProveItLink\" href=\"../../common/0f9100059d781d861feb56714a679b7a44ddec710/expr.ipynb\"><img src=\"../../common/0f9100059d781d861feb56714a679b7a44ddec710/expr.png\" style=\"display:inline;vertical-align:middle;\" /></a></td></tr>\n",
       "<tr><td>32</td><td>Operation</td><td>operator:&nbsp;36<br>operand:&nbsp;37<br></td><td><a class=\"ProveItLink\" href=\"../../common/575943c119e8460c472ed4a1f4a830c597448ec40/expr.ipynb\"><img src=\"../../common/575943c119e8460c472ed4a1f4a830c597448ec40/expr.png\" style=\"display:inline;vertical-align:middle;\" /></a></td></tr>\n",
       "<tr><td>33</td><td>Literal</td><td></td><td><a class=\"ProveItLink\" href=\"../../common/e874333991a6db337cd004ff6daee55a9e80aa5b0/expr.ipynb\"><img src=\"../../common/e874333991a6db337cd004ff6daee55a9e80aa5b0/expr.png\" style=\"display:inline;vertical-align:middle;\" /></a></td></tr>\n",
       "<tr><td>34</td><td>Literal</td><td></td><td><a class=\"ProveItLink\" href=\"../0514f662d73f535f49bf899158853ff0b3f8b8b10/expr.ipynb\"><img src=\"../0514f662d73f535f49bf899158853ff0b3f8b8b10/expr.png\" style=\"display:inline;vertical-align:middle;\" /></a></td></tr>\n",
       "<tr><td>35</td><td>Operation</td><td>operator:&nbsp;38<br>operand:&nbsp;39<br></td><td><a class=\"ProveItLink\" href=\"../794cea2888521553b40bae12ccfe7795c4ee57380/expr.ipynb\"><img src=\"../794cea2888521553b40bae12ccfe7795c4ee57380/expr.png\" style=\"display:inline;vertical-align:middle;\" /></a></td></tr>\n",
       "<tr><td>36</td><td>Literal</td><td></td><td><a class=\"ProveItLink\" href=\"../../common/211157ad123e11ebc76ee54e41be13705eefd6800/expr.ipynb\"><img src=\"../../common/211157ad123e11ebc76ee54e41be13705eefd6800/expr.png\" style=\"display:inline;vertical-align:middle;\" /></a></td></tr>\n",
       "<tr><td>37</td><td>Literal</td><td></td><td><a class=\"ProveItLink\" href=\"../../common/168c63082398497632cb4d5e531562201ffa1e3c0/expr.ipynb\"><img src=\"../../common/168c63082398497632cb4d5e531562201ffa1e3c0/expr.png\" style=\"display:inline;vertical-align:middle;\" /></a></td></tr>\n",
       "<tr><td>38</td><td>Literal</td><td></td><td><a class=\"ProveItLink\" href=\"../../../../../logic/sets/enumeration/__pv_it/common/0ead90ccbf4f17bc585a51f8aa904bb77916ae6e0/expr.ipynb\"><img src=\"../../../../../logic/sets/enumeration/__pv_it/common/0ead90ccbf4f17bc585a51f8aa904bb77916ae6e0/expr.png\" style=\"display:inline;vertical-align:middle;\" /></a></td></tr>\n",
       "<tr><td>39</td><td>Literal</td><td></td><td><a class=\"ProveItLink\" href=\"../../../../../numbers/numerals/__pv_it/common/2778428c7f555b2bdc06aa0530bc142c6e6335100/expr.ipynb\"><img src=\"../../../../../numbers/numerals/__pv_it/common/2778428c7f555b2bdc06aa0530bc142c6e6335100/expr.png\" style=\"display:inline;vertical-align:middle;\" /></a></td></tr>\n",
       "</table>\n"
      ],
      "text/plain": [
       "0. ( MultiQubitGate(H, {1})  & MultiQubitGate(H, {1}) equiv  MultiQubitGate(I, {1})) and  MultiQubitGate(Input(|psi〉), {1})  & MultiQubitGate(H, {1})  & MultiQubitGate(H, {1})  & MultiQubitGate(Output(|psi〉), {1})\n",
       "   core type: Operation\n",
       "   operator: 1\n",
       "   operands: 2\n",
       "1. and\n",
       "   core type: Literal\n",
       "   sub-expressions: \n",
       "2. ( MultiQubitGate(H, {1})  & MultiQubitGate(H, {1}) equiv  MultiQubitGate(I, {1}),  MultiQubitGate(Input(|psi〉), {1})  & MultiQubitGate(H, {1})  & MultiQubitGate(H, {1})  & MultiQubitGate(Output(|psi〉), {1}))\n",
       "   core type: ExprTuple\n",
       "   sub-expressions: 3, 4\n",
       "3.  MultiQubitGate(H, {1})  & MultiQubitGate(H, {1}) equiv  MultiQubitGate(I, {1})\n",
       "   core type: Operation\n",
       "   operator: 5\n",
       "   operands: 6\n",
       "4.  MultiQubitGate(Input(|psi〉), {1})  & MultiQubitGate(H, {1})  & MultiQubitGate(H, {1})  & MultiQubitGate(Output(|psi〉), {1})\n",
       "   core type: Operation\n",
       "   operator: 12\n",
       "   operand: 10\n",
       "5. equiv\n",
       "   core type: Literal\n",
       "   sub-expressions: \n",
       "6. ( MultiQubitGate(H, {1})  & MultiQubitGate(H, {1}),  MultiQubitGate(I, {1}))\n",
       "   core type: ExprTuple\n",
       "   sub-expressions: 8, 9\n",
       "7. ((MultiQubitGate(Input(|psi〉), {1}) & MultiQubitGate(H, {1}) & MultiQubitGate(H, {1}) & MultiQubitGate(Output(|psi〉), {1})))\n",
       "   core type: ExprTuple\n",
       "   sub-expressions: 10\n",
       "8.  MultiQubitGate(H, {1})  & MultiQubitGate(H, {1})\n",
       "   core type: Operation\n",
       "   operator: 12\n",
       "   operand: 15\n",
       "9.  MultiQubitGate(I, {1})\n",
       "   core type: Operation\n",
       "   operator: 12\n",
       "   operand: 16\n",
       "10. MultiQubitGate(Input(|psi〉), {1}) & MultiQubitGate(H, {1}) & MultiQubitGate(H, {1}) & MultiQubitGate(Output(|psi〉), {1})\n",
       "    core type: ExprTuple\n",
       "    sub-expressions: 14\n",
       "11. ((MultiQubitGate(H, {1}) & MultiQubitGate(H, {1})))\n",
       "    core type: ExprTuple\n",
       "    sub-expressions: 15\n",
       "12. CIRCUIT\n",
       "    core type: Literal\n",
       "    sub-expressions: \n",
       "13. ((MultiQubitGate(I, {1})))\n",
       "    core type: ExprTuple\n",
       "    sub-expressions: 16\n",
       "14. (MultiQubitGate(Input(|psi〉), {1}), MultiQubitGate(H, {1}), MultiQubitGate(H, {1}), MultiQubitGate(Output(|psi〉), {1}))\n",
       "    core type: ExprTuple\n",
       "    sub-expressions: 17, 23, 23, 18\n",
       "15. MultiQubitGate(H, {1}) & MultiQubitGate(H, {1})\n",
       "    core type: ExprTuple\n",
       "    sub-expressions: 19\n",
       "16. MultiQubitGate(I, {1})\n",
       "    core type: ExprTuple\n",
       "    sub-expressions: 20\n",
       "17. MultiQubitGate(Input(|psi〉), {1})\n",
       "    core type: Operation\n",
       "    operator: 28\n",
       "    operands: 21\n",
       "18. MultiQubitGate(Output(|psi〉), {1})\n",
       "    core type: Operation\n",
       "    operator: 28\n",
       "    operands: 22\n",
       "19. (MultiQubitGate(H, {1}), MultiQubitGate(H, {1}))\n",
       "    core type: ExprTuple\n",
       "    sub-expressions: 23, 23\n",
       "20. (MultiQubitGate(I, {1}))\n",
       "    core type: ExprTuple\n",
       "    sub-expressions: 24\n",
       "21. (Input(|psi〉), {1})\n",
       "    core type: ExprTuple\n",
       "    sub-expressions: 25, 35\n",
       "22. (Output(|psi〉), {1})\n",
       "    core type: ExprTuple\n",
       "    sub-expressions: 26, 35\n",
       "23. MultiQubitGate(H, {1})\n",
       "    core type: Operation\n",
       "    operator: 28\n",
       "    operands: 27\n",
       "24. MultiQubitGate(I, {1})\n",
       "    core type: Operation\n",
       "    operator: 28\n",
       "    operands: 29\n",
       "25. [INPUT](|psi〉)\n",
       "    core type: Operation\n",
       "    operator: 30\n",
       "    operand: 32\n",
       "26. [OUTPUT](|psi〉)\n",
       "    core type: Operation\n",
       "    operator: 31\n",
       "    operand: 32\n",
       "27. (H, {1})\n",
       "    core type: ExprTuple\n",
       "    sub-expressions: 33, 35\n",
       "28. MULTI_QUBIT_GATE\n",
       "    core type: Literal\n",
       "    sub-expressions: \n",
       "29. ([I], {1})\n",
       "    core type: ExprTuple\n",
       "    sub-expressions: 34, 35\n",
       "30. INPUT\n",
       "    core type: Literal\n",
       "    sub-expressions: \n",
       "31. OUTPUT\n",
       "    core type: Literal\n",
       "    sub-expressions: \n",
       "32. |psi〉\n",
       "    core type: Operation\n",
       "    operator: 36\n",
       "    operand: 37\n",
       "33. H\n",
       "    core type: Literal\n",
       "    sub-expressions: \n",
       "34. [I]\n",
       "    core type: Literal\n",
       "    sub-expressions: \n",
       "35. {1}\n",
       "    core type: Operation\n",
       "    operator: 38\n",
       "    operand: 39\n",
       "36. KET\n",
       "    core type: Literal\n",
       "    sub-expressions: \n",
       "37. psi\n",
       "    core type: Literal\n",
       "    sub-expressions: \n",
       "38. Set\n",
       "    core type: Literal\n",
       "    sub-expressions: \n",
       "39. 1\n",
       "    core type: Literal\n",
       "    sub-expressions: "
      ]
     },
     "execution_count": 5,
     "metadata": {},
     "output_type": "execute_result"
    }
   ],
   "source": [
    "# display the expression information\n",
    "expr.expr_info()"
   ]
  },
  {
   "cell_type": "code",
   "execution_count": null,
   "metadata": {},
   "outputs": [],
   "source": []
  }
 ],
 "metadata": {
  "kernelspec": {
   "display_name": "Python 3",
   "language": "python",
   "name": "python3"
  }
 },
 "nbformat": 4,
 "nbformat_minor": 0
}