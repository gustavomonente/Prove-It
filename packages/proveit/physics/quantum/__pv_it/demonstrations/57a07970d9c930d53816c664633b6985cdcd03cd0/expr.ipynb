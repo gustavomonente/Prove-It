{
 "cells": [
  {
   "cell_type": "markdown",
   "metadata": {},
   "source": [
    "Expression of type <a class=\"ProveItLink\" href=\"../../../../../../../doc/html/api/proveit.logic.Equals.html\">Equals</a>\n",
    "=======================\n",
    "# from the theory of <a class=\"ProveItLink\" href=\"../../../_theory_nbs_/theory.ipynb\">proveit.physics.quantum</a>"
   ]
  },
  {
   "cell_type": "code",
   "execution_count": 1,
   "metadata": {},
   "outputs": [],
   "source": [
    "import proveit\n",
    "# Automation is not needed when building an expression:\n",
    "proveit.defaults.automation = False # This will speed things up.\n",
    "proveit.defaults.inline_pngs = False # Makes files smaller.\n",
    "%load_expr # Load the stored expression as 'stored_expr'\n",
    "# import Expression classes needed to build the expression\n",
    "from proveit import ExprRange, Variable, k, x\n",
    "from proveit.core_expr_types import Len\n",
    "from proveit.logic import Equals\n",
    "from proveit.numbers import one, two"
   ]
  },
  {
   "cell_type": "code",
   "execution_count": 2,
   "metadata": {},
   "outputs": [
    {
     "data": {
      "text/html": [
       "<strong id=\"expr\">expr:</strong> <a class=\"ProveItLink\" href=\"expr.ipynb\"><img src=\"expr.png\" style=\"display:inline;vertical-align:middle;\" /></a><br>"
      ],
      "text/plain": [
       "expr: |((1, 1), ..(1, x).., (1, 2), ....(k, 1), ..(k, x).., (k, 2)...., (1, 1), ..(1, x).., (1, 2))| = _a"
      ]
     },
     "execution_count": 2,
     "metadata": {},
     "output_type": "execute_result"
    }
   ],
   "source": [
    "# build up the expression from sub-expressions\n",
    "expr = Equals(Len([ExprRange(k, ExprRange(x, [k, x], one, two), one, one)]), Variable(\"_a\", latex_format = r\"{_{-}a}\"))"
   ]
  },
  {
   "cell_type": "code",
   "execution_count": 3,
   "metadata": {},
   "outputs": [
    {
     "name": "stdout",
     "output_type": "stream",
     "text": [
      "Passed sanity check: expr matches stored_expr\n"
     ]
    }
   ],
   "source": [
    "# check that the built expression is the same as the stored expression\n",
    "assert expr == stored_expr\n",
    "assert expr._style_id == stored_expr._style_id\n",
    "print(\"Passed sanity check: expr matches stored_expr\")"
   ]
  },
  {
   "cell_type": "code",
   "execution_count": 4,
   "metadata": {},
   "outputs": [
    {
     "name": "stdout",
     "output_type": "stream",
     "text": [
      "|\\left(\\left(1, 1\\right), \\ldots, \\left(1, 2\\right), \\ldots\\ldots, \\left(1, 1\\right), \\ldots, \\left(1, 2\\right)\\right)| = {_{-}a}\n"
     ]
    }
   ],
   "source": [
    "# Show the LaTeX representation of the expression for convenience if you need it.\n",
    "print(expr.latex())"
   ]
  },
  {
   "cell_type": "code",
   "execution_count": 5,
   "metadata": {},
   "outputs": [
    {
     "data": {
      "text/html": [
       "<table><tr><th>&nbsp;</th><th>core type</th><th>sub-expressions</th><th>expression</th></tr>\n",
       "<tr><td>0</td><td>Operation</td><td>operator:&nbsp;1<br>operands:&nbsp;2<br></td><td><a class=\"ProveItLink\" href=\"expr.ipynb\"><img src=\"expr.png\" style=\"display:inline;vertical-align:middle;\" /></a></td></tr>\n",
       "<tr><td>1</td><td>Literal</td><td></td><td><a class=\"ProveItLink\" href=\"../../../../../logic/equality/__pv_it/common/fb96dc12b2aa8801dda64d0132b396c63d1502bb0/expr.ipynb\"><img src=\"../../../../../logic/equality/__pv_it/common/fb96dc12b2aa8801dda64d0132b396c63d1502bb0/expr.png\" style=\"display:inline;vertical-align:middle;\" /></a></td></tr>\n",
       "<tr><td>2</td><td>ExprTuple</td><td>3, 4</td><td><a class=\"ProveItLink\" href=\"../3fe3e26ccad965acf4dd2600c1e4494cc146e3fe0/expr.ipynb\"><img src=\"../3fe3e26ccad965acf4dd2600c1e4494cc146e3fe0/expr.png\" style=\"display:inline;vertical-align:middle;\" /></a></td></tr>\n",
       "<tr><td>3</td><td>Operation</td><td>operator:&nbsp;5<br>operand:&nbsp;7<br></td><td><a class=\"ProveItLink\" href=\"../db74072689af58cbbfc324e8511737638d65cd8d0/expr.ipynb\"><img src=\"../db74072689af58cbbfc324e8511737638d65cd8d0/expr.png\" style=\"display:inline;vertical-align:middle;\" /></a></td></tr>\n",
       "<tr><td>4</td><td>Variable</td><td></td><td><a class=\"ProveItLink\" href=\"../../../../../core_expr_types/expr_arrays/__pv_it/common/006c465e50948aa2b52285e2de47974f741255cc0/expr.ipynb\"><img src=\"../../../../../core_expr_types/expr_arrays/__pv_it/common/006c465e50948aa2b52285e2de47974f741255cc0/expr.png\" style=\"display:inline;vertical-align:middle;\" /></a></td></tr>\n",
       "<tr><td>5</td><td>Literal</td><td></td><td><a class=\"ProveItLink\" href=\"../../../../../core_expr_types/tuples/__pv_it/common/43df765abf1294d8f1fd177863f57f08bf5ad0080/expr.ipynb\"><img src=\"../../../../../core_expr_types/tuples/__pv_it/common/43df765abf1294d8f1fd177863f57f08bf5ad0080/expr.png\" style=\"display:inline;vertical-align:middle;\" /></a></td></tr>\n",
       "<tr><td>6</td><td>ExprTuple</td><td>7</td><td><a class=\"ProveItLink\" href=\"../9d9a08f6bd4a6ed25c2e271cb2de4d36040eda240/expr.ipynb\"><img src=\"../9d9a08f6bd4a6ed25c2e271cb2de4d36040eda240/expr.png\" style=\"display:inline;vertical-align:middle;\" /></a></td></tr>\n",
       "<tr><td>7</td><td>ExprTuple</td><td>8</td><td><a class=\"ProveItLink\" href=\"../912a0ae073f60797ed007a9f0e06ea7b9e1d0d970/expr.ipynb\"><img src=\"../912a0ae073f60797ed007a9f0e06ea7b9e1d0d970/expr.png\" style=\"display:inline;vertical-align:middle;\" /></a></td></tr>\n",
       "<tr><td>8</td><td>ExprRange</td><td>lambda_map:&nbsp;9<br>start_index:&nbsp;12<br>end_index:&nbsp;12<br></td><td><a class=\"ProveItLink\" href=\"../146bb4767642fd3fcc5555123091d355ee1bc7540/expr.ipynb\"><img src=\"../146bb4767642fd3fcc5555123091d355ee1bc7540/expr.png\" style=\"display:inline;vertical-align:middle;\" /></a></td></tr>\n",
       "<tr><td>9</td><td>Lambda</td><td>parameter:&nbsp;15<br>body:&nbsp;10<br></td><td><a class=\"ProveItLink\" href=\"../255cdf80340dec903cfa759238b1d33ad784e61b0/expr.ipynb\"><img src=\"../255cdf80340dec903cfa759238b1d33ad784e61b0/expr.png\" style=\"display:inline;vertical-align:middle;\" /></a></td></tr>\n",
       "<tr><td>10</td><td>ExprRange</td><td>lambda_map:&nbsp;11<br>start_index:&nbsp;12<br>end_index:&nbsp;13<br></td><td><a class=\"ProveItLink\" href=\"../0aacb2c42a81b43645f691ea7cfe64898f9ee50c0/expr.ipynb\"><img src=\"../0aacb2c42a81b43645f691ea7cfe64898f9ee50c0/expr.png\" style=\"display:inline;vertical-align:middle;\" /></a></td></tr>\n",
       "<tr><td>11</td><td>Lambda</td><td>parameter:&nbsp;16<br>body:&nbsp;14<br></td><td><a class=\"ProveItLink\" href=\"../2c876b7d261df93e8941c65130cd30a6953011170/expr.ipynb\"><img src=\"../2c876b7d261df93e8941c65130cd30a6953011170/expr.png\" style=\"display:inline;vertical-align:middle;\" /></a></td></tr>\n",
       "<tr><td>12</td><td>Literal</td><td></td><td><a class=\"ProveItLink\" href=\"../../../../../numbers/numerals/__pv_it/common/2778428c7f555b2bdc06aa0530bc142c6e6335100/expr.ipynb\"><img src=\"../../../../../numbers/numerals/__pv_it/common/2778428c7f555b2bdc06aa0530bc142c6e6335100/expr.png\" style=\"display:inline;vertical-align:middle;\" /></a></td></tr>\n",
       "<tr><td>13</td><td>Literal</td><td></td><td><a class=\"ProveItLink\" href=\"../../../../../numbers/numerals/__pv_it/common/ba3b059982e8b49413dc653e957beb11e974e4bc0/expr.ipynb\"><img src=\"../../../../../numbers/numerals/__pv_it/common/ba3b059982e8b49413dc653e957beb11e974e4bc0/expr.png\" style=\"display:inline;vertical-align:middle;\" /></a></td></tr>\n",
       "<tr><td>14</td><td>ExprTuple</td><td>15, 16</td><td><a class=\"ProveItLink\" href=\"../2b7523a7e95634a2705f4763e39a8879c8821e370/expr.ipynb\"><img src=\"../2b7523a7e95634a2705f4763e39a8879c8821e370/expr.png\" style=\"display:inline;vertical-align:middle;\" /></a></td></tr>\n",
       "<tr><td>15</td><td>Variable</td><td></td><td><a class=\"ProveItLink\" href=\"../../../../../__pv_it/common/63b7c64bf9ec7a04ecc396c7a1670f3f12fb59490/expr.ipynb\"><img src=\"../../../../../__pv_it/common/63b7c64bf9ec7a04ecc396c7a1670f3f12fb59490/expr.png\" style=\"display:inline;vertical-align:middle;\" /></a></td></tr>\n",
       "<tr><td>16</td><td>Variable</td><td></td><td><a class=\"ProveItLink\" href=\"../../../../../__pv_it/common/a0d9d672aa5e272d907247690c152cc2c6daafb70/expr.ipynb\"><img src=\"../../../../../__pv_it/common/a0d9d672aa5e272d907247690c152cc2c6daafb70/expr.png\" style=\"display:inline;vertical-align:middle;\" /></a></td></tr>\n",
       "</table>\n"
      ],
      "text/plain": [
       "0. |((1, 1), ..(1, x).., (1, 2), ....(k, 1), ..(k, x).., (k, 2)...., (1, 1), ..(1, x).., (1, 2))| = _a\n",
       "   core type: Operation\n",
       "   operator: 1\n",
       "   operands: 2\n",
       "1. =\n",
       "   core type: Literal\n",
       "   sub-expressions: \n",
       "2. (|((1, 1), ..(1, x).., (1, 2), ....(k, 1), ..(k, x).., (k, 2)...., (1, 1), ..(1, x).., (1, 2))|, _a)\n",
       "   core type: ExprTuple\n",
       "   sub-expressions: 3, 4\n",
       "3. |((1, 1), ..(1, x).., (1, 2), ....(k, 1), ..(k, x).., (k, 2)...., (1, 1), ..(1, x).., (1, 2))|\n",
       "   core type: Operation\n",
       "   operator: 5\n",
       "   operand: 7\n",
       "4. _a\n",
       "   core type: Variable\n",
       "   sub-expressions: \n",
       "5. length\n",
       "   core type: Literal\n",
       "   sub-expressions: \n",
       "6. (((1, 1), ..(1, x).., (1, 2), ....(k, 1), ..(k, x).., (k, 2)...., (1, 1), ..(1, x).., (1, 2)))\n",
       "   core type: ExprTuple\n",
       "   sub-expressions: 7\n",
       "7. ((1, 1), ..(1, x).., (1, 2), ....(k, 1), ..(k, x).., (k, 2)...., (1, 1), ..(1, x).., (1, 2))\n",
       "   core type: ExprTuple\n",
       "   sub-expressions: 8\n",
       "8. (1, 1), ..(1, x).., (1, 2), ....(k, 1), ..(k, x).., (k, 2)...., (1, 1), ..(1, x).., (1, 2)\n",
       "   core type: ExprRange\n",
       "   lambda_map: 9\n",
       "   start_index: 12\n",
       "   end_index: 12\n",
       "9. k -> (k, 1), ..(k, x).., (k, 2)\n",
       "   core type: Lambda\n",
       "   parameter: 15\n",
       "   body: 10\n",
       "10. (k, 1), ..(k, x).., (k, 2)\n",
       "    core type: ExprRange\n",
       "    lambda_map: 11\n",
       "    start_index: 12\n",
       "    end_index: 13\n",
       "11. x -> (k, x)\n",
       "    core type: Lambda\n",
       "    parameter: 16\n",
       "    body: 14\n",
       "12. 1\n",
       "    core type: Literal\n",
       "    sub-expressions: \n",
       "13. 2\n",
       "    core type: Literal\n",
       "    sub-expressions: \n",
       "14. (k, x)\n",
       "    core type: ExprTuple\n",
       "    sub-expressions: 15, 16\n",
       "15. k\n",
       "    core type: Variable\n",
       "    sub-expressions: \n",
       "16. x\n",
       "    core type: Variable\n",
       "    sub-expressions: "
      ]
     },
     "execution_count": 5,
     "metadata": {},
     "output_type": "execute_result"
    }
   ],
   "source": [
    "# display the expression information\n",
    "expr.expr_info()"
   ]
  },
  {
   "cell_type": "code",
   "execution_count": null,
   "metadata": {},
   "outputs": [],
   "source": []
  }
 ],
 "metadata": {
  "kernelspec": {
   "display_name": "Python 3",
   "language": "python",
   "name": "python3"
  }
 },
 "nbformat": 4,
 "nbformat_minor": 0
}