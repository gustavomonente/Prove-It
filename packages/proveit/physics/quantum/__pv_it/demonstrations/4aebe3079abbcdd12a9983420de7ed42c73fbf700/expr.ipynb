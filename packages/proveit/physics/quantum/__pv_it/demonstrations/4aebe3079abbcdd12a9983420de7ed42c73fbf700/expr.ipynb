{
 "cells": [
  {
   "cell_type": "markdown",
   "metadata": {},
   "source": [
    "Expression of type <a class=\"ProveItLink\" href=\"../../../../../../../doc/html/api/proveit.physics.quantum.circuit.Circuit.html\">Circuit</a>\n",
    "=======================\n",
    "# from the theory of <a class=\"ProveItLink\" href=\"../../../_theory_nbs_/theory.ipynb\">proveit.physics.quantum</a>"
   ]
  },
  {
   "cell_type": "code",
   "execution_count": 1,
   "metadata": {},
   "outputs": [],
   "source": [
    "import proveit\n",
    "# Automation is not needed when building an expression:\n",
    "proveit.defaults.automation = False # This will speed things up.\n",
    "proveit.defaults.inline_pngs = False # Makes files smaller.\n",
    "%load_expr # Load the stored expression as 'stored_expr'\n",
    "# import Expression classes needed to build the expression\n",
    "from proveit import A, ExprArray\n",
    "from proveit.logic import Set\n",
    "from proveit.numbers import four, one, three, two\n",
    "from proveit.physics.quantum import H, Z\n",
    "from proveit.physics.quantum.circuit import Circuit, MultiQubitGate"
   ]
  },
  {
   "cell_type": "code",
   "execution_count": 2,
   "metadata": {},
   "outputs": [
    {
     "data": {
      "text/html": [
       "<strong id=\"expr\">expr:</strong> <a class=\"ProveItLink\" href=\"expr.ipynb\"><img src=\"expr.png\" style=\"display:inline;vertical-align:middle;\" /></a><br>"
      ],
      "text/plain": [
       "expr:  MultiQubitGate(Z, {1, 4})   \\\\ \n",
       "   MultiQubitGate(H, {2, 3})   \\\\ \n",
       "   MultiQubitGate(A, {2, 3})   \\\\ \n",
       "   MultiQubitGate(A, {1, 4})"
      ]
     },
     "execution_count": 2,
     "metadata": {},
     "output_type": "execute_result"
    }
   ],
   "source": [
    "# build up the expression from sub-expressions\n",
    "sub_expr1 = Set(one, four)\n",
    "sub_expr2 = Set(two, three)\n",
    "expr = Circuit(ExprArray([MultiQubitGate(Z, sub_expr1)], [MultiQubitGate(H, sub_expr2)], [MultiQubitGate(A, sub_expr2)], [MultiQubitGate(A, sub_expr1)]))"
   ]
  },
  {
   "cell_type": "code",
   "execution_count": 3,
   "metadata": {},
   "outputs": [
    {
     "name": "stdout",
     "output_type": "stream",
     "text": [
      "Passed sanity check: expr matches stored_expr\n"
     ]
    }
   ],
   "source": [
    "# check that the built expression is the same as the stored expression\n",
    "assert expr == stored_expr\n",
    "assert expr._style_id == stored_expr._style_id\n",
    "print(\"Passed sanity check: expr matches stored_expr\")"
   ]
  },
  {
   "cell_type": "code",
   "execution_count": 4,
   "metadata": {},
   "outputs": [
    {
     "name": "stdout",
     "output_type": "stream",
     "text": [
      "\\hspace{2em} \\Qcircuit@C=1em @R=.7em{\n",
      "& \\gate{Z} \\qwx[3]   \\\\ \n",
      "  & \\gate{H} \\qwx[1]   \\\\ \n",
      "  & \\gate{A}   \\\\ \n",
      "  & \\gate{A} \n",
      "} \\hspace{2em}\n"
     ]
    }
   ],
   "source": [
    "# Show the LaTeX representation of the expression for convenience if you need it.\n",
    "print(expr.latex())"
   ]
  },
  {
   "cell_type": "code",
   "execution_count": 5,
   "metadata": {},
   "outputs": [
    {
     "data": {
      "text/html": [
       "<table><tr><th>&nbsp;</th><th>core type</th><th>sub-expressions</th><th>expression</th></tr>\n",
       "<tr><td>0</td><td>Operation</td><td>operator:&nbsp;1<br>operand:&nbsp;3<br></td><td><a class=\"ProveItLink\" href=\"expr.ipynb\"><img src=\"expr.png\" style=\"display:inline;vertical-align:middle;\" /></a></td></tr>\n",
       "<tr><td>1</td><td>Literal</td><td></td><td><a class=\"ProveItLink\" href=\"../../common/409f940d39947a3c17092974bfa20c1d4da6996c0/expr.ipynb\"><img src=\"../../common/409f940d39947a3c17092974bfa20c1d4da6996c0/expr.png\" style=\"display:inline;vertical-align:middle;\" /></a></td></tr>\n",
       "<tr><td>2</td><td>ExprTuple</td><td>3</td><td><a class=\"ProveItLink\" href=\"../cb3ae20c79672dea7b4045b3e568e2f1d3481ec80/expr.ipynb\"><img src=\"../cb3ae20c79672dea7b4045b3e568e2f1d3481ec80/expr.png\" style=\"display:inline;vertical-align:middle;\" /></a></td></tr>\n",
       "<tr><td>3</td><td>ExprTuple</td><td>4, 5, 6, 7</td><td><a class=\"ProveItLink\" href=\"../147f02936c847490a120d953721ae3647e342a350/expr.ipynb\"><img src=\"../147f02936c847490a120d953721ae3647e342a350/expr.png\" style=\"display:inline;vertical-align:middle;\" /></a></td></tr>\n",
       "<tr><td>4</td><td>ExprTuple</td><td>8</td><td><a class=\"ProveItLink\" href=\"../908dcd01a1ec33d117ed0c7d1456216c64c84ad50/expr.ipynb\"><img src=\"../908dcd01a1ec33d117ed0c7d1456216c64c84ad50/expr.png\" style=\"display:inline;vertical-align:middle;\" /></a></td></tr>\n",
       "<tr><td>5</td><td>ExprTuple</td><td>9</td><td><a class=\"ProveItLink\" href=\"../f3b81a5bc96f3be5dc5fa08468bebfaa992124770/expr.ipynb\"><img src=\"../f3b81a5bc96f3be5dc5fa08468bebfaa992124770/expr.png\" style=\"display:inline;vertical-align:middle;\" /></a></td></tr>\n",
       "<tr><td>6</td><td>ExprTuple</td><td>10</td><td><a class=\"ProveItLink\" href=\"../47866cf4adb3ecd79ec8161cebc6eaf01f12d3710/expr.ipynb\"><img src=\"../47866cf4adb3ecd79ec8161cebc6eaf01f12d3710/expr.png\" style=\"display:inline;vertical-align:middle;\" /></a></td></tr>\n",
       "<tr><td>7</td><td>ExprTuple</td><td>11</td><td><a class=\"ProveItLink\" href=\"../2a6f1b17fe9a089c347881f52c7c549cd90661970/expr.ipynb\"><img src=\"../2a6f1b17fe9a089c347881f52c7c549cd90661970/expr.png\" style=\"display:inline;vertical-align:middle;\" /></a></td></tr>\n",
       "<tr><td>8</td><td>Operation</td><td>operator:&nbsp;15<br>operands:&nbsp;12<br></td><td><a class=\"ProveItLink\" href=\"../06f639365f94b3c5d55c13f97550ba17234c84010/expr.ipynb\"><img src=\"../06f639365f94b3c5d55c13f97550ba17234c84010/expr.png\" style=\"display:inline;vertical-align:middle;\" /></a></td></tr>\n",
       "<tr><td>9</td><td>Operation</td><td>operator:&nbsp;15<br>operands:&nbsp;13<br></td><td><a class=\"ProveItLink\" href=\"../d9492db7b1c0c9835222fc71c4dce60abd15023e0/expr.ipynb\"><img src=\"../d9492db7b1c0c9835222fc71c4dce60abd15023e0/expr.png\" style=\"display:inline;vertical-align:middle;\" /></a></td></tr>\n",
       "<tr><td>10</td><td>Operation</td><td>operator:&nbsp;15<br>operands:&nbsp;14<br></td><td><a class=\"ProveItLink\" href=\"../241686b65fe5e2dde42eb9becb19f9ddfffe4e400/expr.ipynb\"><img src=\"../241686b65fe5e2dde42eb9becb19f9ddfffe4e400/expr.png\" style=\"display:inline;vertical-align:middle;\" /></a></td></tr>\n",
       "<tr><td>11</td><td>Operation</td><td>operator:&nbsp;15<br>operands:&nbsp;16<br></td><td><a class=\"ProveItLink\" href=\"../f1f4adf39f54562fa2ebf3a134aa951c5dd35a1f0/expr.ipynb\"><img src=\"../f1f4adf39f54562fa2ebf3a134aa951c5dd35a1f0/expr.png\" style=\"display:inline;vertical-align:middle;\" /></a></td></tr>\n",
       "<tr><td>12</td><td>ExprTuple</td><td>17, 21</td><td><a class=\"ProveItLink\" href=\"../d7ada9a5ffc2b66954118e78b836b5832488741b0/expr.ipynb\"><img src=\"../d7ada9a5ffc2b66954118e78b836b5832488741b0/expr.png\" style=\"display:inline;vertical-align:middle;\" /></a></td></tr>\n",
       "<tr><td>13</td><td>ExprTuple</td><td>18, 19</td><td><a class=\"ProveItLink\" href=\"../7d9f8b11c0f088ba133477096842405bdfbcd1b80/expr.ipynb\"><img src=\"../7d9f8b11c0f088ba133477096842405bdfbcd1b80/expr.png\" style=\"display:inline;vertical-align:middle;\" /></a></td></tr>\n",
       "<tr><td>14</td><td>ExprTuple</td><td>20, 19</td><td><a class=\"ProveItLink\" href=\"../21e66515b0847f49620788ea0eb3e3fda76cd70b0/expr.ipynb\"><img src=\"../21e66515b0847f49620788ea0eb3e3fda76cd70b0/expr.png\" style=\"display:inline;vertical-align:middle;\" /></a></td></tr>\n",
       "<tr><td>15</td><td>Literal</td><td></td><td><a class=\"ProveItLink\" href=\"../../common/7e400d333e3c53d1c3dd14244e4b33f4cea327190/expr.ipynb\"><img src=\"../../common/7e400d333e3c53d1c3dd14244e4b33f4cea327190/expr.png\" style=\"display:inline;vertical-align:middle;\" /></a></td></tr>\n",
       "<tr><td>16</td><td>ExprTuple</td><td>20, 21</td><td><a class=\"ProveItLink\" href=\"../169b1da7644077a54393ed8811f9ba9cb0c01f690/expr.ipynb\"><img src=\"../169b1da7644077a54393ed8811f9ba9cb0c01f690/expr.png\" style=\"display:inline;vertical-align:middle;\" /></a></td></tr>\n",
       "<tr><td>17</td><td>Literal</td><td></td><td><a class=\"ProveItLink\" href=\"../../common/2c528f33b8384666a054a8146aa84d2f45cc85490/expr.ipynb\"><img src=\"../../common/2c528f33b8384666a054a8146aa84d2f45cc85490/expr.png\" style=\"display:inline;vertical-align:middle;\" /></a></td></tr>\n",
       "<tr><td>18</td><td>Literal</td><td></td><td><a class=\"ProveItLink\" href=\"../../common/e874333991a6db337cd004ff6daee55a9e80aa5b0/expr.ipynb\"><img src=\"../../common/e874333991a6db337cd004ff6daee55a9e80aa5b0/expr.png\" style=\"display:inline;vertical-align:middle;\" /></a></td></tr>\n",
       "<tr><td>19</td><td>Operation</td><td>operator:&nbsp;23<br>operands:&nbsp;22<br></td><td><a class=\"ProveItLink\" href=\"../624728df8870ad2244eff2319c8fada613864fe80/expr.ipynb\"><img src=\"../624728df8870ad2244eff2319c8fada613864fe80/expr.png\" style=\"display:inline;vertical-align:middle;\" /></a></td></tr>\n",
       "<tr><td>20</td><td>Variable</td><td></td><td><a class=\"ProveItLink\" href=\"../../../../../__pv_it/common/09585084922504426caf1db2ff588a23a0932a960/expr.ipynb\"><img src=\"../../../../../__pv_it/common/09585084922504426caf1db2ff588a23a0932a960/expr.png\" style=\"display:inline;vertical-align:middle;\" /></a></td></tr>\n",
       "<tr><td>21</td><td>Operation</td><td>operator:&nbsp;23<br>operands:&nbsp;24<br></td><td><a class=\"ProveItLink\" href=\"../1a875225e63b1f2e0c19b060126c81b3ae9978ad0/expr.ipynb\"><img src=\"../1a875225e63b1f2e0c19b060126c81b3ae9978ad0/expr.png\" style=\"display:inline;vertical-align:middle;\" /></a></td></tr>\n",
       "<tr><td>22</td><td>ExprTuple</td><td>25, 26</td><td><a class=\"ProveItLink\" href=\"../../../../../numbers/numerals/decimals/__pv_it/theorems/4ccef2d03fb90af885ea98a20b01fb871317993d0/expr.ipynb\"><img src=\"../../../../../numbers/numerals/decimals/__pv_it/theorems/4ccef2d03fb90af885ea98a20b01fb871317993d0/expr.png\" style=\"display:inline;vertical-align:middle;\" /></a></td></tr>\n",
       "<tr><td>23</td><td>Literal</td><td></td><td><a class=\"ProveItLink\" href=\"../../../../../logic/sets/enumeration/__pv_it/common/0ead90ccbf4f17bc585a51f8aa904bb77916ae6e0/expr.ipynb\"><img src=\"../../../../../logic/sets/enumeration/__pv_it/common/0ead90ccbf4f17bc585a51f8aa904bb77916ae6e0/expr.png\" style=\"display:inline;vertical-align:middle;\" /></a></td></tr>\n",
       "<tr><td>24</td><td>ExprTuple</td><td>27, 28</td><td><a class=\"ProveItLink\" href=\"../0b267d9863f13d428272cb80a3c50e11b54a38d00/expr.ipynb\"><img src=\"../0b267d9863f13d428272cb80a3c50e11b54a38d00/expr.png\" style=\"display:inline;vertical-align:middle;\" /></a></td></tr>\n",
       "<tr><td>25</td><td>Literal</td><td></td><td><a class=\"ProveItLink\" href=\"../../../../../numbers/numerals/__pv_it/common/ba3b059982e8b49413dc653e957beb11e974e4bc0/expr.ipynb\"><img src=\"../../../../../numbers/numerals/__pv_it/common/ba3b059982e8b49413dc653e957beb11e974e4bc0/expr.png\" style=\"display:inline;vertical-align:middle;\" /></a></td></tr>\n",
       "<tr><td>26</td><td>Literal</td><td></td><td><a class=\"ProveItLink\" href=\"../../../../../numbers/numerals/__pv_it/common/0a19a501c0770212f27a044b71e9c626b8ca0bec0/expr.ipynb\"><img src=\"../../../../../numbers/numerals/__pv_it/common/0a19a501c0770212f27a044b71e9c626b8ca0bec0/expr.png\" style=\"display:inline;vertical-align:middle;\" /></a></td></tr>\n",
       "<tr><td>27</td><td>Literal</td><td></td><td><a class=\"ProveItLink\" href=\"../../../../../numbers/numerals/__pv_it/common/2778428c7f555b2bdc06aa0530bc142c6e6335100/expr.ipynb\"><img src=\"../../../../../numbers/numerals/__pv_it/common/2778428c7f555b2bdc06aa0530bc142c6e6335100/expr.png\" style=\"display:inline;vertical-align:middle;\" /></a></td></tr>\n",
       "<tr><td>28</td><td>Literal</td><td></td><td><a class=\"ProveItLink\" href=\"../../../../../numbers/numerals/__pv_it/common/705198ce7fd3ec620275e02d9e1fa1bcf7f141270/expr.ipynb\"><img src=\"../../../../../numbers/numerals/__pv_it/common/705198ce7fd3ec620275e02d9e1fa1bcf7f141270/expr.png\" style=\"display:inline;vertical-align:middle;\" /></a></td></tr>\n",
       "</table>\n"
      ],
      "text/plain": [
       "0.  MultiQubitGate(Z, {1, 4})   \\\\ \n",
       "   MultiQubitGate(H, {2, 3})   \\\\ \n",
       "   MultiQubitGate(A, {2, 3})   \\\\ \n",
       "   MultiQubitGate(A, {1, 4})\n",
       "   core type: Operation\n",
       "   operator: 1\n",
       "   operand: 3\n",
       "1. CIRCUIT\n",
       "   core type: Literal\n",
       "   sub-expressions: \n",
       "2. ((MultiQubitGate(Z, {1, 4})  \\\\ \n",
       "  MultiQubitGate(H, {2, 3})  \\\\ \n",
       "  MultiQubitGate(A, {2, 3})  \\\\ \n",
       "  MultiQubitGate(A, {1, 4})))\n",
       "   core type: ExprTuple\n",
       "   sub-expressions: 3\n",
       "3. MultiQubitGate(Z, {1, 4})  \\\\ \n",
       "  MultiQubitGate(H, {2, 3})  \\\\ \n",
       "  MultiQubitGate(A, {2, 3})  \\\\ \n",
       "  MultiQubitGate(A, {1, 4})\n",
       "   core type: ExprTuple\n",
       "   sub-expressions: 4, 5, 6, 7\n",
       "4. (MultiQubitGate(Z, {1, 4}))\n",
       "   core type: ExprTuple\n",
       "   sub-expressions: 8\n",
       "5. (MultiQubitGate(H, {2, 3}))\n",
       "   core type: ExprTuple\n",
       "   sub-expressions: 9\n",
       "6. (MultiQubitGate(A, {2, 3}))\n",
       "   core type: ExprTuple\n",
       "   sub-expressions: 10\n",
       "7. (MultiQubitGate(A, {1, 4}))\n",
       "   core type: ExprTuple\n",
       "   sub-expressions: 11\n",
       "8. MultiQubitGate(Z, {1, 4})\n",
       "   core type: Operation\n",
       "   operator: 15\n",
       "   operands: 12\n",
       "9. MultiQubitGate(H, {2, 3})\n",
       "   core type: Operation\n",
       "   operator: 15\n",
       "   operands: 13\n",
       "10. MultiQubitGate(A, {2, 3})\n",
       "    core type: Operation\n",
       "    operator: 15\n",
       "    operands: 14\n",
       "11. MultiQubitGate(A, {1, 4})\n",
       "    core type: Operation\n",
       "    operator: 15\n",
       "    operands: 16\n",
       "12. (Z, {1, 4})\n",
       "    core type: ExprTuple\n",
       "    sub-expressions: 17, 21\n",
       "13. (H, {2, 3})\n",
       "    core type: ExprTuple\n",
       "    sub-expressions: 18, 19\n",
       "14. (A, {2, 3})\n",
       "    core type: ExprTuple\n",
       "    sub-expressions: 20, 19\n",
       "15. MULTI_QUBIT_GATE\n",
       "    core type: Literal\n",
       "    sub-expressions: \n",
       "16. (A, {1, 4})\n",
       "    core type: ExprTuple\n",
       "    sub-expressions: 20, 21\n",
       "17. Z\n",
       "    core type: Literal\n",
       "    sub-expressions: \n",
       "18. H\n",
       "    core type: Literal\n",
       "    sub-expressions: \n",
       "19. {2, 3}\n",
       "    core type: Operation\n",
       "    operator: 23\n",
       "    operands: 22\n",
       "20. A\n",
       "    core type: Variable\n",
       "    sub-expressions: \n",
       "21. {1, 4}\n",
       "    core type: Operation\n",
       "    operator: 23\n",
       "    operands: 24\n",
       "22. (2, 3)\n",
       "    core type: ExprTuple\n",
       "    sub-expressions: 25, 26\n",
       "23. Set\n",
       "    core type: Literal\n",
       "    sub-expressions: \n",
       "24. (1, 4)\n",
       "    core type: ExprTuple\n",
       "    sub-expressions: 27, 28\n",
       "25. 2\n",
       "    core type: Literal\n",
       "    sub-expressions: \n",
       "26. 3\n",
       "    core type: Literal\n",
       "    sub-expressions: \n",
       "27. 1\n",
       "    core type: Literal\n",
       "    sub-expressions: \n",
       "28. 4\n",
       "    core type: Literal\n",
       "    sub-expressions: "
      ]
     },
     "execution_count": 5,
     "metadata": {},
     "output_type": "execute_result"
    }
   ],
   "source": [
    "# display the expression information\n",
    "expr.expr_info()"
   ]
  },
  {
   "cell_type": "code",
   "execution_count": null,
   "metadata": {},
   "outputs": [],
   "source": []
  }
 ],
 "metadata": {
  "kernelspec": {
   "display_name": "Python 3",
   "language": "python",
   "name": "python3"
  }
 },
 "nbformat": 4,
 "nbformat_minor": 0
}