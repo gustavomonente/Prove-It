{
 "cells": [
  {
   "cell_type": "markdown",
   "metadata": {},
   "source": [
    "Expression of type <a class=\"ProveItLink\" href=\"../../../../../../../doc/html/api/proveit.logic.Equals.html\">Equals</a>\n",
    "=======================\n",
    "# from the theory of <a class=\"ProveItLink\" href=\"../../../_theory_nbs_/theory.ipynb\">proveit.physics.quantum</a>"
   ]
  },
  {
   "cell_type": "code",
   "execution_count": 1,
   "metadata": {},
   "outputs": [],
   "source": [
    "import proveit\n",
    "# Automation is not needed when building an expression:\n",
    "proveit.defaults.automation = False # This will speed things up.\n",
    "proveit.defaults.inline_pngs = False # Makes files smaller.\n",
    "%load_expr # Load the stored expression as 'stored_expr'\n",
    "# import Expression classes needed to build the expression\n",
    "from proveit import A, ExprRange, IndexedVar, P, a, i\n",
    "from proveit.logic import Equals\n",
    "from proveit.numbers import one\n",
    "from proveit.physics.quantum.circuit import MultiQubitGate"
   ]
  },
  {
   "cell_type": "code",
   "execution_count": 2,
   "metadata": {},
   "outputs": [
    {
     "data": {
      "text/html": [
       "<strong id=\"expr\">expr:</strong> <a class=\"ProveItLink\" href=\"expr.ipynb\"><img src=\"expr.png\" style=\"display:inline;vertical-align:middle;\" /></a><br>"
      ],
      "text/plain": [
       "expr: (MultiQubitGate(A_{i, 1}, P_{i, 1}), ..MultiQubitGate(A_{i, a}, P_{i, a}).., MultiQubitGate(A_{i, 1}, P_{i, 1})) = (MultiQubitGate(A_{i, 1}, P_{i, 1}))"
      ]
     },
     "execution_count": 2,
     "metadata": {},
     "output_type": "execute_result"
    }
   ],
   "source": [
    "# build up the expression from sub-expressions\n",
    "sub_expr1 = [i, a]\n",
    "sub_expr2 = [i, one]\n",
    "expr = Equals([ExprRange(a, MultiQubitGate(IndexedVar(A, sub_expr1), IndexedVar(P, sub_expr1)), one, one)], [MultiQubitGate(IndexedVar(A, sub_expr2), IndexedVar(P, sub_expr2))])"
   ]
  },
  {
   "cell_type": "code",
   "execution_count": 3,
   "metadata": {},
   "outputs": [
    {
     "name": "stdout",
     "output_type": "stream",
     "text": [
      "Passed sanity check: expr matches stored_expr\n"
     ]
    }
   ],
   "source": [
    "# check that the built expression is the same as the stored expression\n",
    "assert expr == stored_expr\n",
    "assert expr._style_id == stored_expr._style_id\n",
    "print(\"Passed sanity check: expr matches stored_expr\")"
   ]
  },
  {
   "cell_type": "code",
   "execution_count": 4,
   "metadata": {},
   "outputs": [
    {
     "name": "stdout",
     "output_type": "stream",
     "text": [
      "\\left(\\hspace{2em} \\Qcircuit@C=1em @R=.7em{\n",
      "& \\gate{A_{i, 1}{\\Big \\{} P_{i, 1}} \n",
      "} \\hspace{2em}, \\ldots, \\hspace{2em} \\Qcircuit@C=1em @R=.7em{\n",
      "& \\gate{A_{i, 1}{\\Big \\{} P_{i, 1}} \n",
      "} \\hspace{2em}\\right) = \\left(\\hspace{2em} \\Qcircuit@C=1em @R=.7em{\n",
      "& \\gate{A_{i, 1}{\\Big \\{} P_{i, 1}} \n",
      "} \\hspace{2em}\\right)\n"
     ]
    }
   ],
   "source": [
    "# Show the LaTeX representation of the expression for convenience if you need it.\n",
    "print(expr.latex())"
   ]
  },
  {
   "cell_type": "code",
   "execution_count": 5,
   "metadata": {},
   "outputs": [
    {
     "data": {
      "text/html": [
       "<table><tr><th>&nbsp;</th><th>core type</th><th>sub-expressions</th><th>expression</th></tr>\n",
       "<tr><td>0</td><td>Operation</td><td>operator:&nbsp;1<br>operands:&nbsp;2<br></td><td><a class=\"ProveItLink\" href=\"expr.ipynb\"><img src=\"expr.png\" style=\"display:inline;vertical-align:middle;\" /></a></td></tr>\n",
       "<tr><td>1</td><td>Literal</td><td></td><td><a class=\"ProveItLink\" href=\"../../../../../logic/equality/__pv_it/common/fb96dc12b2aa8801dda64d0132b396c63d1502bb0/expr.ipynb\"><img src=\"../../../../../logic/equality/__pv_it/common/fb96dc12b2aa8801dda64d0132b396c63d1502bb0/expr.png\" style=\"display:inline;vertical-align:middle;\" /></a></td></tr>\n",
       "<tr><td>2</td><td>ExprTuple</td><td>3, 4</td><td><a class=\"ProveItLink\" href=\"../d5daed4f6f261be212f5abe55414b0ac708520b10/expr.ipynb\"><img src=\"../d5daed4f6f261be212f5abe55414b0ac708520b10/expr.png\" style=\"display:inline;vertical-align:middle;\" /></a></td></tr>\n",
       "<tr><td>3</td><td>ExprTuple</td><td>5</td><td><a class=\"ProveItLink\" href=\"../7e6acd0d985d1cde8226a9351a418274961f8b8b0/expr.ipynb\"><img src=\"../7e6acd0d985d1cde8226a9351a418274961f8b8b0/expr.png\" style=\"display:inline;vertical-align:middle;\" /></a></td></tr>\n",
       "<tr><td>4</td><td>ExprTuple</td><td>6</td><td><a class=\"ProveItLink\" href=\"../1f84b7ddd18a214ee9496d77eb44f107ab72f9f50/expr.ipynb\"><img src=\"../1f84b7ddd18a214ee9496d77eb44f107ab72f9f50/expr.png\" style=\"display:inline;vertical-align:middle;\" /></a></td></tr>\n",
       "<tr><td>5</td><td>ExprRange</td><td>lambda_map:&nbsp;7<br>start_index:&nbsp;17<br>end_index:&nbsp;17<br></td><td><a class=\"ProveItLink\" href=\"../d8255038f5a80aee013b86f7c6f92052231836530/expr.ipynb\"><img src=\"../d8255038f5a80aee013b86f7c6f92052231836530/expr.png\" style=\"display:inline;vertical-align:middle;\" /></a></td></tr>\n",
       "<tr><td>6</td><td>Operation</td><td>operator:&nbsp;12<br>operands:&nbsp;8<br></td><td><a class=\"ProveItLink\" href=\"../95ef7af19790b368252c4bf9ee924d45c736fcc90/expr.ipynb\"><img src=\"../95ef7af19790b368252c4bf9ee924d45c736fcc90/expr.png\" style=\"display:inline;vertical-align:middle;\" /></a></td></tr>\n",
       "<tr><td>7</td><td>Lambda</td><td>parameter:&nbsp;22<br>body:&nbsp;9<br></td><td><a class=\"ProveItLink\" href=\"../e1e69202c022e196130dc98fd98c57ca780a55110/expr.ipynb\"><img src=\"../e1e69202c022e196130dc98fd98c57ca780a55110/expr.png\" style=\"display:inline;vertical-align:middle;\" /></a></td></tr>\n",
       "<tr><td>8</td><td>ExprTuple</td><td>10, 11</td><td><a class=\"ProveItLink\" href=\"../03e9a5b684c01383b0137efd2daa36b7b46e96220/expr.ipynb\"><img src=\"../03e9a5b684c01383b0137efd2daa36b7b46e96220/expr.png\" style=\"display:inline;vertical-align:middle;\" /></a></td></tr>\n",
       "<tr><td>9</td><td>Operation</td><td>operator:&nbsp;12<br>operands:&nbsp;13<br></td><td><a class=\"ProveItLink\" href=\"../a99fdd6612222c3211a372472c7d1ec526656e1c0/expr.ipynb\"><img src=\"../a99fdd6612222c3211a372472c7d1ec526656e1c0/expr.png\" style=\"display:inline;vertical-align:middle;\" /></a></td></tr>\n",
       "<tr><td>10</td><td>IndexedVar</td><td>variable:&nbsp;18<br>indices:&nbsp;14<br></td><td><a class=\"ProveItLink\" href=\"../e968cc765b9b229fc1b935f1b7a8f2cffe431b8f0/expr.ipynb\"><img src=\"../e968cc765b9b229fc1b935f1b7a8f2cffe431b8f0/expr.png\" style=\"display:inline;vertical-align:middle;\" /></a></td></tr>\n",
       "<tr><td>11</td><td>IndexedVar</td><td>variable:&nbsp;19<br>indices:&nbsp;14<br></td><td><a class=\"ProveItLink\" href=\"../3fc713d5e223e24f07bb4261f17b8468362f1f810/expr.ipynb\"><img src=\"../3fc713d5e223e24f07bb4261f17b8468362f1f810/expr.png\" style=\"display:inline;vertical-align:middle;\" /></a></td></tr>\n",
       "<tr><td>12</td><td>Literal</td><td></td><td><a class=\"ProveItLink\" href=\"../../common/7e400d333e3c53d1c3dd14244e4b33f4cea327190/expr.ipynb\"><img src=\"../../common/7e400d333e3c53d1c3dd14244e4b33f4cea327190/expr.png\" style=\"display:inline;vertical-align:middle;\" /></a></td></tr>\n",
       "<tr><td>13</td><td>ExprTuple</td><td>15, 16</td><td><a class=\"ProveItLink\" href=\"../a7db31042ffeb75de604ac60a3071020f7e81daf0/expr.ipynb\"><img src=\"../a7db31042ffeb75de604ac60a3071020f7e81daf0/expr.png\" style=\"display:inline;vertical-align:middle;\" /></a></td></tr>\n",
       "<tr><td>14</td><td>ExprTuple</td><td>21, 17</td><td><a class=\"ProveItLink\" href=\"../a2a19b42b61471636f43bda6abf29d4d75e652000/expr.ipynb\"><img src=\"../a2a19b42b61471636f43bda6abf29d4d75e652000/expr.png\" style=\"display:inline;vertical-align:middle;\" /></a></td></tr>\n",
       "<tr><td>15</td><td>IndexedVar</td><td>variable:&nbsp;18<br>indices:&nbsp;20<br></td><td><a class=\"ProveItLink\" href=\"../de752ada8ef31b9f51657f1fa9888f6fa0248d460/expr.ipynb\"><img src=\"../de752ada8ef31b9f51657f1fa9888f6fa0248d460/expr.png\" style=\"display:inline;vertical-align:middle;\" /></a></td></tr>\n",
       "<tr><td>16</td><td>IndexedVar</td><td>variable:&nbsp;19<br>indices:&nbsp;20<br></td><td><a class=\"ProveItLink\" href=\"../486697fbe16bb2371fd210170f923cf6343c26ae0/expr.ipynb\"><img src=\"../486697fbe16bb2371fd210170f923cf6343c26ae0/expr.png\" style=\"display:inline;vertical-align:middle;\" /></a></td></tr>\n",
       "<tr><td>17</td><td>Literal</td><td></td><td><a class=\"ProveItLink\" href=\"../../../../../numbers/numerals/__pv_it/common/2778428c7f555b2bdc06aa0530bc142c6e6335100/expr.ipynb\"><img src=\"../../../../../numbers/numerals/__pv_it/common/2778428c7f555b2bdc06aa0530bc142c6e6335100/expr.png\" style=\"display:inline;vertical-align:middle;\" /></a></td></tr>\n",
       "<tr><td>18</td><td>Variable</td><td></td><td><a class=\"ProveItLink\" href=\"../../../../../__pv_it/common/09585084922504426caf1db2ff588a23a0932a960/expr.ipynb\"><img src=\"../../../../../__pv_it/common/09585084922504426caf1db2ff588a23a0932a960/expr.png\" style=\"display:inline;vertical-align:middle;\" /></a></td></tr>\n",
       "<tr><td>19</td><td>Variable</td><td></td><td><a class=\"ProveItLink\" href=\"../../../../../__pv_it/common/de55da274ba0f49c86925fbf3828021c04d27faf0/expr.ipynb\"><img src=\"../../../../../__pv_it/common/de55da274ba0f49c86925fbf3828021c04d27faf0/expr.png\" style=\"display:inline;vertical-align:middle;\" /></a></td></tr>\n",
       "<tr><td>20</td><td>ExprTuple</td><td>21, 22</td><td><a class=\"ProveItLink\" href=\"../e1b79e600e9113fb7a77b21a2b31ab6ab9d2855b0/expr.ipynb\"><img src=\"../e1b79e600e9113fb7a77b21a2b31ab6ab9d2855b0/expr.png\" style=\"display:inline;vertical-align:middle;\" /></a></td></tr>\n",
       "<tr><td>21</td><td>Variable</td><td></td><td><a class=\"ProveItLink\" href=\"../../../../../__pv_it/common/ae955345c83abf786c3aff8681cd5465beae262d0/expr.ipynb\"><img src=\"../../../../../__pv_it/common/ae955345c83abf786c3aff8681cd5465beae262d0/expr.png\" style=\"display:inline;vertical-align:middle;\" /></a></td></tr>\n",
       "<tr><td>22</td><td>Variable</td><td></td><td><a class=\"ProveItLink\" href=\"../../../../../__pv_it/common/c06c606ec12678c58933ac85412ecadc2ae28be60/expr.ipynb\"><img src=\"../../../../../__pv_it/common/c06c606ec12678c58933ac85412ecadc2ae28be60/expr.png\" style=\"display:inline;vertical-align:middle;\" /></a></td></tr>\n",
       "</table>\n"
      ],
      "text/plain": [
       "0. (MultiQubitGate(A_{i, 1}, P_{i, 1}), ..MultiQubitGate(A_{i, a}, P_{i, a}).., MultiQubitGate(A_{i, 1}, P_{i, 1})) = (MultiQubitGate(A_{i, 1}, P_{i, 1}))\n",
       "   core type: Operation\n",
       "   operator: 1\n",
       "   operands: 2\n",
       "1. =\n",
       "   core type: Literal\n",
       "   sub-expressions: \n",
       "2. ((MultiQubitGate(A_{i, 1}, P_{i, 1}), ..MultiQubitGate(A_{i, a}, P_{i, a}).., MultiQubitGate(A_{i, 1}, P_{i, 1})), (MultiQubitGate(A_{i, 1}, P_{i, 1})))\n",
       "   core type: ExprTuple\n",
       "   sub-expressions: 3, 4\n",
       "3. (MultiQubitGate(A_{i, 1}, P_{i, 1}), ..MultiQubitGate(A_{i, a}, P_{i, a}).., MultiQubitGate(A_{i, 1}, P_{i, 1}))\n",
       "   core type: ExprTuple\n",
       "   sub-expressions: 5\n",
       "4. (MultiQubitGate(A_{i, 1}, P_{i, 1}))\n",
       "   core type: ExprTuple\n",
       "   sub-expressions: 6\n",
       "5. MultiQubitGate(A_{i, 1}, P_{i, 1}), ..MultiQubitGate(A_{i, a}, P_{i, a}).., MultiQubitGate(A_{i, 1}, P_{i, 1})\n",
       "   core type: ExprRange\n",
       "   lambda_map: 7\n",
       "   start_index: 17\n",
       "   end_index: 17\n",
       "6. MultiQubitGate(A_{i, 1}, P_{i, 1})\n",
       "   core type: Operation\n",
       "   operator: 12\n",
       "   operands: 8\n",
       "7. a -> MultiQubitGate(A_{i, a}, P_{i, a})\n",
       "   core type: Lambda\n",
       "   parameter: 22\n",
       "   body: 9\n",
       "8. (A_{i, 1}, P_{i, 1})\n",
       "   core type: ExprTuple\n",
       "   sub-expressions: 10, 11\n",
       "9. MultiQubitGate(A_{i, a}, P_{i, a})\n",
       "   core type: Operation\n",
       "   operator: 12\n",
       "   operands: 13\n",
       "10. A_{i, 1}\n",
       "    core type: IndexedVar\n",
       "variable: 18\n",
       "indices: 14\n",
       "11. P_{i, 1}\n",
       "    core type: IndexedVar\n",
       "variable: 19\n",
       "indices: 14\n",
       "12. MULTI_QUBIT_GATE\n",
       "    core type: Literal\n",
       "    sub-expressions: \n",
       "13. (A_{i, a}, P_{i, a})\n",
       "    core type: ExprTuple\n",
       "    sub-expressions: 15, 16\n",
       "14. (i, 1)\n",
       "    core type: ExprTuple\n",
       "    sub-expressions: 21, 17\n",
       "15. A_{i, a}\n",
       "    core type: IndexedVar\n",
       "variable: 18\n",
       "indices: 20\n",
       "16. P_{i, a}\n",
       "    core type: IndexedVar\n",
       "variable: 19\n",
       "indices: 20\n",
       "17. 1\n",
       "    core type: Literal\n",
       "    sub-expressions: \n",
       "18. A\n",
       "    core type: Variable\n",
       "    sub-expressions: \n",
       "19. P\n",
       "    core type: Variable\n",
       "    sub-expressions: \n",
       "20. (i, a)\n",
       "    core type: ExprTuple\n",
       "    sub-expressions: 21, 22\n",
       "21. i\n",
       "    core type: Variable\n",
       "    sub-expressions: \n",
       "22. a\n",
       "    core type: Variable\n",
       "    sub-expressions: "
      ]
     },
     "execution_count": 5,
     "metadata": {},
     "output_type": "execute_result"
    }
   ],
   "source": [
    "# display the expression information\n",
    "expr.expr_info()"
   ]
  },
  {
   "cell_type": "code",
   "execution_count": null,
   "metadata": {},
   "outputs": [],
   "source": []
  }
 ],
 "metadata": {
  "kernelspec": {
   "display_name": "Python 3",
   "language": "python",
   "name": "python3"
  }
 },
 "nbformat": 4,
 "nbformat_minor": 0
}