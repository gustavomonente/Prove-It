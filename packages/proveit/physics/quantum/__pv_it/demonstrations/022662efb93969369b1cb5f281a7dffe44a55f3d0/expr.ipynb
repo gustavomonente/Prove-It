{
 "cells": [
  {
   "cell_type": "markdown",
   "metadata": {},
   "source": [
    "Expression of type <a class=\"ProveItLink\" href=\"../../../../../../../doc/html/api/proveit.ExprArray.html\">ExprArray</a>\n",
    "=======================\n",
    "# from the theory of <a class=\"ProveItLink\" href=\"../../../_theory_nbs_/theory.ipynb\">proveit.physics.quantum</a>"
   ]
  },
  {
   "cell_type": "code",
   "execution_count": 1,
   "metadata": {},
   "outputs": [],
   "source": [
    "import proveit\n",
    "# Automation is not needed when building an expression:\n",
    "proveit.defaults.automation = False # This will speed things up.\n",
    "proveit.defaults.inline_pngs = False # Makes files smaller.\n",
    "%load_expr # Load the stored expression as 'stored_expr'\n",
    "# import Expression classes needed to build the expression\n",
    "from proveit import B, ExprArray, ExprRange, IndexedVar, S, i, j, m, q, s\n",
    "from proveit.core_expr_types.expr_arrays import Aij, Cij, Sij\n",
    "from proveit.numbers import one\n",
    "from proveit.physics.quantum.circuit import MultiQubitGate"
   ]
  },
  {
   "cell_type": "code",
   "execution_count": 2,
   "metadata": {},
   "outputs": [
    {
     "data": {
      "text/html": [
       "<strong id=\"expr\">expr:</strong> <a class=\"ProveItLink\" href=\"expr.ipynb\"><img src=\"expr.png\" style=\"display:inline;vertical-align:middle;\" /></a><br>"
      ],
      "text/plain": [
       "expr: MultiQubitGate(A_{1, 1}, S_{1, 1}) & ..MultiQubitGate(A_{1, j}, S_{1, j}).. & MultiQubitGate(A_{1, m}, S_{1, m})  \\\\ \n",
       "  \\colon & \\colon & \\colon  \\\\ \n",
       "  MultiQubitGate(A_{i, 1}, S_{i, 1}) & ..MultiQubitGate(A_{i, j}, S_{i, j}).. & MultiQubitGate(A_{i, m}, S_{i, m})  \\\\ \n",
       "  \\colon & \\colon & \\colon  \\\\ \n",
       "  MultiQubitGate(A_{q, 1}, S_{q, 1}) & ..MultiQubitGate(A_{q, j}, S_{q, j}).. & MultiQubitGate(A_{q, m}, S_{q, m})  \\\\ \n",
       "  MultiQubitGate(B_{1}, S_{1}) & ..MultiQubitGate(B_{i}, S_{i}).. & MultiQubitGate(B_{m}, S_{m})  \\\\ \n",
       "  MultiQubitGate(C_{1, 1}, S_{1, 1}) & ..MultiQubitGate(C_{1, j}, S_{1, j}).. & MultiQubitGate(C_{1, m}, S_{1, m})  \\\\ \n",
       "  \\colon & \\colon & \\colon  \\\\ \n",
       "  MultiQubitGate(C_{i, 1}, S_{i, 1}) & ..MultiQubitGate(C_{i, j}, S_{i, j}).. & MultiQubitGate(C_{i, m}, S_{i, m})  \\\\ \n",
       "  \\colon & \\colon & \\colon  \\\\ \n",
       "  MultiQubitGate(C_{s, 1}, S_{s, 1}) & ..MultiQubitGate(C_{s, j}, S_{s, j}).. & MultiQubitGate(C_{s, m}, S_{s, m})"
      ]
     },
     "execution_count": 2,
     "metadata": {},
     "output_type": "execute_result"
    }
   ],
   "source": [
    "# build up the expression from sub-expressions\n",
    "expr = ExprArray(ExprRange(i, [ExprRange(j, MultiQubitGate(Aij, Sij), one, m)], one, q), [ExprRange(i, MultiQubitGate(IndexedVar(B, i), IndexedVar(S, i)), one, m)], ExprRange(i, [ExprRange(j, MultiQubitGate(Cij, Sij), one, m)], one, s))"
   ]
  },
  {
   "cell_type": "code",
   "execution_count": 3,
   "metadata": {},
   "outputs": [
    {
     "name": "stdout",
     "output_type": "stream",
     "text": [
      "Passed sanity check: expr matches stored_expr\n"
     ]
    }
   ],
   "source": [
    "# check that the built expression is the same as the stored expression\n",
    "assert expr == stored_expr\n",
    "assert expr._style_id == stored_expr._style_id\n",
    "print(\"Passed sanity check: expr matches stored_expr\")"
   ]
  },
  {
   "cell_type": "code",
   "execution_count": 4,
   "metadata": {},
   "outputs": [
    {
     "name": "stdout",
     "output_type": "stream",
     "text": [
      "\\begin{array} {ccc} \n",
      " \\hspace{2em} \\Qcircuit@C=1em @R=.7em{\n",
      "& \\gate{A_{1, 1}{\\Big \\{} S_{1, 1}} \n",
      "} \\hspace{2em} & \\cdots & \\hspace{2em} \\Qcircuit@C=1em @R=.7em{\n",
      "& \\gate{A_{1, m}{\\Big \\{} S_{1, m}} \n",
      "} \\hspace{2em}  \\\\ \n",
      "  \\vdots & \\hspace{2em} \\Qcircuit@C=1em @R=.7em{\n",
      "& \\gate{A_{i, j}{\\Big \\{} S_{i, j}} \n",
      "} \\hspace{2em} & \\vdots  \\\\ \n",
      "  \\hspace{2em} \\Qcircuit@C=1em @R=.7em{\n",
      "& \\gate{A_{q, 1}{\\Big \\{} S_{q, 1}} \n",
      "} \\hspace{2em} & \\cdots & \\hspace{2em} \\Qcircuit@C=1em @R=.7em{\n",
      "& \\gate{A_{q, m}{\\Big \\{} S_{q, m}} \n",
      "} \\hspace{2em}  \\\\ \n",
      "  \\hspace{2em} \\Qcircuit@C=1em @R=.7em{\n",
      "& \\gate{B_{1}{\\Big \\{} S_{1}} \n",
      "} \\hspace{2em} & \\cdots & \\hspace{2em} \\Qcircuit@C=1em @R=.7em{\n",
      "& \\gate{B_{m}{\\Big \\{} S_{m}} \n",
      "} \\hspace{2em}  \\\\ \n",
      "  \\hspace{2em} \\Qcircuit@C=1em @R=.7em{\n",
      "& \\gate{C_{1, 1}{\\Big \\{} S_{1, 1}} \n",
      "} \\hspace{2em} & \\cdots & \\hspace{2em} \\Qcircuit@C=1em @R=.7em{\n",
      "& \\gate{C_{1, m}{\\Big \\{} S_{1, m}} \n",
      "} \\hspace{2em}  \\\\ \n",
      "  \\vdots & \\hspace{2em} \\Qcircuit@C=1em @R=.7em{\n",
      "& \\gate{C_{i, j}{\\Big \\{} S_{i, j}} \n",
      "} \\hspace{2em} & \\vdots  \\\\ \n",
      "  \\hspace{2em} \\Qcircuit@C=1em @R=.7em{\n",
      "& \\gate{C_{s, 1}{\\Big \\{} S_{s, 1}} \n",
      "} \\hspace{2em} & \\cdots & \\hspace{2em} \\Qcircuit@C=1em @R=.7em{\n",
      "& \\gate{C_{s, m}{\\Big \\{} S_{s, m}} \n",
      "} \\hspace{2em} \\end{array} \n",
      "\n"
     ]
    }
   ],
   "source": [
    "# Show the LaTeX representation of the expression for convenience if you need it.\n",
    "print(expr.latex())"
   ]
  },
  {
   "cell_type": "code",
   "execution_count": 5,
   "metadata": {},
   "outputs": [
    {
     "data": {
      "text/html": [
       "<table>\n",
       "<tr><th>name</th><th>description</th><th>default</th><th>current value</th><th>related methods</th></tr><tr><td>justification</td><td>justify to the 'left', 'center', or 'right' in the array cells</td><td>center</td><td>center</td><td>with_justification</td></tr>\n",
       "<tr><td>orientation</td><td>to be read from left to right then top to bottom ('horizontal') or to be read top to bottom then left to right ('vertical')</td><td>horizontal</td><td>horizontal</td><td>with_orientation</td></tr>\n",
       "<tr><td>parameterization</td><td>'implicit' (default for LaTeX formatting) hides the parameter the ExprRange so the parameterization may be ambiguous (e.g., x_{1+1}, ..., x_{n+1}); 'explicit' (default for string formatting) reveals the parameterization (e.g. x_{1+1}, ..x_{k+1}.., x_{n+1}).</td><td>None</td><td>None/False</td><td>('with_explicit_parameterization', 'with_implicit_parameterization', 'with_default_parameterization_style')</td></tr>\n",
       "</table>\n"
      ],
      "text/plain": [
       "style name: justification\n",
       "description: justify to the 'left', 'center', or 'right' in the array cells\n",
       "default: center\n",
       "current value: center\n",
       "related methods: with_justification\n",
       "style name: orientation\n",
       "description: to be read from left to right then top to bottom ('horizontal') or to be read top to bottom then left to right ('vertical')\n",
       "default: horizontal\n",
       "current value: horizontal\n",
       "related methods: with_orientation\n",
       "style name: parameterization\n",
       "description: 'implicit' (default for LaTeX formatting) hides the parameter the ExprRange so the parameterization may be ambiguous (e.g., x_{1+1}, ..., x_{n+1}); 'explicit' (default for string formatting) reveals the parameterization (e.g. x_{1+1}, ..x_{k+1}.., x_{n+1}).\n",
       "default: None\n",
       "current value: None/False\n",
       "related methods: ('with_explicit_parameterization', 'with_implicit_parameterization', 'with_default_parameterization_style')"
      ]
     },
     "execution_count": 5,
     "metadata": {},
     "output_type": "execute_result"
    }
   ],
   "source": [
    "expr.style_options()"
   ]
  },
  {
   "cell_type": "code",
   "execution_count": 6,
   "metadata": {},
   "outputs": [
    {
     "data": {
      "text/html": [
       "<table><tr><th>&nbsp;</th><th>core type</th><th>sub-expressions</th><th>expression</th></tr>\n",
       "<tr><td>0</td><td>ExprTuple</td><td>1, 2, 3</td><td><a class=\"ProveItLink\" href=\"expr.ipynb\"><img src=\"expr.png\" style=\"display:inline;vertical-align:middle;\" /></a></td></tr>\n",
       "<tr><td>1</td><td>ExprRange</td><td>lambda_map:&nbsp;4<br>start_index:&nbsp;18<br>end_index:&nbsp;5<br></td><td><a class=\"ProveItLink\" href=\"../c09e33cb5f40576e3519fdacc2c2c1bbb0f46edd0/expr.ipynb\"><img src=\"../c09e33cb5f40576e3519fdacc2c2c1bbb0f46edd0/expr.png\" style=\"display:inline;vertical-align:middle;\" /></a></td></tr>\n",
       "<tr><td>2</td><td>ExprTuple</td><td>6</td><td><a class=\"ProveItLink\" href=\"../f8dc542253e07b8f4db2f2c3d41758eb686d14ea0/expr.ipynb\"><img src=\"../f8dc542253e07b8f4db2f2c3d41758eb686d14ea0/expr.png\" style=\"display:inline;vertical-align:middle;\" /></a></td></tr>\n",
       "<tr><td>3</td><td>ExprRange</td><td>lambda_map:&nbsp;7<br>start_index:&nbsp;18<br>end_index:&nbsp;8<br></td><td><a class=\"ProveItLink\" href=\"../a392324922f18831c615a48b454ae2ac6591b7cc0/expr.ipynb\"><img src=\"../a392324922f18831c615a48b454ae2ac6591b7cc0/expr.png\" style=\"display:inline;vertical-align:middle;\" /></a></td></tr>\n",
       "<tr><td>4</td><td>Lambda</td><td>parameter:&nbsp;36<br>body:&nbsp;9<br></td><td><a class=\"ProveItLink\" href=\"../55e265ee5ba7a097593409f8c558b0519adda1ca0/expr.ipynb\"><img src=\"../55e265ee5ba7a097593409f8c558b0519adda1ca0/expr.png\" style=\"display:inline;vertical-align:middle;\" /></a></td></tr>\n",
       "<tr><td>5</td><td>Variable</td><td></td><td><a class=\"ProveItLink\" href=\"../../../../../__pv_it/common/f2bd1b9e481507771e819bb7e823773346b8e1180/expr.ipynb\"><img src=\"../../../../../__pv_it/common/f2bd1b9e481507771e819bb7e823773346b8e1180/expr.png\" style=\"display:inline;vertical-align:middle;\" /></a></td></tr>\n",
       "<tr><td>6</td><td>ExprRange</td><td>lambda_map:&nbsp;10<br>start_index:&nbsp;18<br>end_index:&nbsp;19<br></td><td><a class=\"ProveItLink\" href=\"../b9bb7f95fa4f9e082ad4ca05c4a777396f42fbc90/expr.ipynb\"><img src=\"../b9bb7f95fa4f9e082ad4ca05c4a777396f42fbc90/expr.png\" style=\"display:inline;vertical-align:middle;\" /></a></td></tr>\n",
       "<tr><td>7</td><td>Lambda</td><td>parameter:&nbsp;36<br>body:&nbsp;11<br></td><td><a class=\"ProveItLink\" href=\"../c8933c05289d8391c802c9f5a0cd290e46f8beb00/expr.ipynb\"><img src=\"../c8933c05289d8391c802c9f5a0cd290e46f8beb00/expr.png\" style=\"display:inline;vertical-align:middle;\" /></a></td></tr>\n",
       "<tr><td>8</td><td>Variable</td><td></td><td><a class=\"ProveItLink\" href=\"../../../../../__pv_it/common/139acc5ad2408e62ab79deb85a9a93f78cd9f39a0/expr.ipynb\"><img src=\"../../../../../__pv_it/common/139acc5ad2408e62ab79deb85a9a93f78cd9f39a0/expr.png\" style=\"display:inline;vertical-align:middle;\" /></a></td></tr>\n",
       "<tr><td>9</td><td>ExprTuple</td><td>12</td><td><a class=\"ProveItLink\" href=\"../f4b90c765d12588a5eda4c581077ff66ec574f640/expr.ipynb\"><img src=\"../f4b90c765d12588a5eda4c581077ff66ec574f640/expr.png\" style=\"display:inline;vertical-align:middle;\" /></a></td></tr>\n",
       "<tr><td>10</td><td>Lambda</td><td>parameter:&nbsp;36<br>body:&nbsp;13<br></td><td><a class=\"ProveItLink\" href=\"../78076bc3779844852dca4385abfe2f5fdebd72a00/expr.ipynb\"><img src=\"../78076bc3779844852dca4385abfe2f5fdebd72a00/expr.png\" style=\"display:inline;vertical-align:middle;\" /></a></td></tr>\n",
       "<tr><td>11</td><td>ExprTuple</td><td>14</td><td><a class=\"ProveItLink\" href=\"../85a40a8b0ffcf8a4c5b5bb06a08674fd1cdd25a40/expr.ipynb\"><img src=\"../85a40a8b0ffcf8a4c5b5bb06a08674fd1cdd25a40/expr.png\" style=\"display:inline;vertical-align:middle;\" /></a></td></tr>\n",
       "<tr><td>12</td><td>ExprRange</td><td>lambda_map:&nbsp;15<br>start_index:&nbsp;18<br>end_index:&nbsp;19<br></td><td><a class=\"ProveItLink\" href=\"../3bebf192bb56b8f9612719f576c8b4c4d6c6ce5f0/expr.ipynb\"><img src=\"../3bebf192bb56b8f9612719f576c8b4c4d6c6ce5f0/expr.png\" style=\"display:inline;vertical-align:middle;\" /></a></td></tr>\n",
       "<tr><td>13</td><td>Operation</td><td>operator:&nbsp;27<br>operands:&nbsp;16<br></td><td><a class=\"ProveItLink\" href=\"../../theorems/60ff27d447296bb3def38c252e807d71f0eff25c0/expr.ipynb\"><img src=\"../../theorems/60ff27d447296bb3def38c252e807d71f0eff25c0/expr.png\" style=\"display:inline;vertical-align:middle;\" /></a></td></tr>\n",
       "<tr><td>14</td><td>ExprRange</td><td>lambda_map:&nbsp;17<br>start_index:&nbsp;18<br>end_index:&nbsp;19<br></td><td><a class=\"ProveItLink\" href=\"../991b00eae932daf21887113c02bc776d24ce30110/expr.ipynb\"><img src=\"../991b00eae932daf21887113c02bc776d24ce30110/expr.png\" style=\"display:inline;vertical-align:middle;\" /></a></td></tr>\n",
       "<tr><td>15</td><td>Lambda</td><td>parameter:&nbsp;37<br>body:&nbsp;20<br></td><td><a class=\"ProveItLink\" href=\"../fe496ad6fa466e0bf5adccd8807f4cebd287ffee0/expr.ipynb\"><img src=\"../fe496ad6fa466e0bf5adccd8807f4cebd287ffee0/expr.png\" style=\"display:inline;vertical-align:middle;\" /></a></td></tr>\n",
       "<tr><td>16</td><td>ExprTuple</td><td>21, 22</td><td><a class=\"ProveItLink\" href=\"../../theorems/48adaddb8132a0d440e24865e0de042ee564d9a00/expr.ipynb\"><img src=\"../../theorems/48adaddb8132a0d440e24865e0de042ee564d9a00/expr.png\" style=\"display:inline;vertical-align:middle;\" /></a></td></tr>\n",
       "<tr><td>17</td><td>Lambda</td><td>parameter:&nbsp;37<br>body:&nbsp;23<br></td><td><a class=\"ProveItLink\" href=\"../32fb5aabe3802d0635d38465f15cda037044081f0/expr.ipynb\"><img src=\"../32fb5aabe3802d0635d38465f15cda037044081f0/expr.png\" style=\"display:inline;vertical-align:middle;\" /></a></td></tr>\n",
       "<tr><td>18</td><td>Literal</td><td></td><td><a class=\"ProveItLink\" href=\"../../../../../numbers/numerals/__pv_it/common/d278e359da0695d9652dd541d45264f93703e2e40/expr.ipynb\"><img src=\"../../../../../numbers/numerals/__pv_it/common/d278e359da0695d9652dd541d45264f93703e2e40/expr.png\" style=\"display:inline;vertical-align:middle;\" /></a></td></tr>\n",
       "<tr><td>19</td><td>Variable</td><td></td><td><a class=\"ProveItLink\" href=\"../../../../../__pv_it/common/2dc4f15b3407a25e8d70754a86bf74f1871f92650/expr.ipynb\"><img src=\"../../../../../__pv_it/common/2dc4f15b3407a25e8d70754a86bf74f1871f92650/expr.png\" style=\"display:inline;vertical-align:middle;\" /></a></td></tr>\n",
       "<tr><td>20</td><td>Operation</td><td>operator:&nbsp;27<br>operands:&nbsp;24<br></td><td><a class=\"ProveItLink\" href=\"../453c4102dae56f6df73b871672c35a89b48a373e0/expr.ipynb\"><img src=\"../453c4102dae56f6df73b871672c35a89b48a373e0/expr.png\" style=\"display:inline;vertical-align:middle;\" /></a></td></tr>\n",
       "<tr><td>21</td><td>IndexedVar</td><td>variable:&nbsp;25<br>index:&nbsp;36<br></td><td><a class=\"ProveItLink\" href=\"../../theorems/146a063dd1fc4d019c860952a873954c89c38a120/expr.ipynb\"><img src=\"../../theorems/146a063dd1fc4d019c860952a873954c89c38a120/expr.png\" style=\"display:inline;vertical-align:middle;\" /></a></td></tr>\n",
       "<tr><td>22</td><td>IndexedVar</td><td>variable:&nbsp;34<br>index:&nbsp;36<br></td><td><a class=\"ProveItLink\" href=\"../../theorems/0b829270f9d9f6fa6e68939ad39349c952af01040/expr.ipynb\"><img src=\"../../theorems/0b829270f9d9f6fa6e68939ad39349c952af01040/expr.png\" style=\"display:inline;vertical-align:middle;\" /></a></td></tr>\n",
       "<tr><td>23</td><td>Operation</td><td>operator:&nbsp;27<br>operands:&nbsp;28<br></td><td><a class=\"ProveItLink\" href=\"../d71e1f1a6daa4ac64008be09a3e4fef0eeb3deda0/expr.ipynb\"><img src=\"../d71e1f1a6daa4ac64008be09a3e4fef0eeb3deda0/expr.png\" style=\"display:inline;vertical-align:middle;\" /></a></td></tr>\n",
       "<tr><td>24</td><td>ExprTuple</td><td>29, 31</td><td><a class=\"ProveItLink\" href=\"../a615be150040c4b375eae503bb8c491741eae6980/expr.ipynb\"><img src=\"../a615be150040c4b375eae503bb8c491741eae6980/expr.png\" style=\"display:inline;vertical-align:middle;\" /></a></td></tr>\n",
       "<tr><td>25</td><td>Variable</td><td></td><td><a class=\"ProveItLink\" href=\"../../../../../__pv_it/common/4eca3b30dcf58a58494e201d1b7886d8643a617b0/expr.ipynb\"><img src=\"../../../../../__pv_it/common/4eca3b30dcf58a58494e201d1b7886d8643a617b0/expr.png\" style=\"display:inline;vertical-align:middle;\" /></a></td></tr>\n",
       "<tr><td>26</td><td>ExprTuple</td><td>36</td><td><a class=\"ProveItLink\" href=\"../../theorems/6420c4d2520c27c1137ad22005291620057456040/expr.ipynb\"><img src=\"../../theorems/6420c4d2520c27c1137ad22005291620057456040/expr.png\" style=\"display:inline;vertical-align:middle;\" /></a></td></tr>\n",
       "<tr><td>27</td><td>Literal</td><td></td><td><a class=\"ProveItLink\" href=\"../../common/38deceb0a69e80c36399d725649803706802a2a90/expr.ipynb\"><img src=\"../../common/38deceb0a69e80c36399d725649803706802a2a90/expr.png\" style=\"display:inline;vertical-align:middle;\" /></a></td></tr>\n",
       "<tr><td>28</td><td>ExprTuple</td><td>30, 31</td><td><a class=\"ProveItLink\" href=\"../c090a89821c57cb7b76178be4deadf2f7931994a0/expr.ipynb\"><img src=\"../c090a89821c57cb7b76178be4deadf2f7931994a0/expr.png\" style=\"display:inline;vertical-align:middle;\" /></a></td></tr>\n",
       "<tr><td>29</td><td>IndexedVar</td><td>variable:&nbsp;32<br>indices:&nbsp;35<br></td><td><a class=\"ProveItLink\" href=\"../../../../../core_expr_types/expr_arrays/__pv_it/common/2db546578cd7f487d81f6e5492015be24135205c0/expr.ipynb\"><img src=\"../../../../../core_expr_types/expr_arrays/__pv_it/common/2db546578cd7f487d81f6e5492015be24135205c0/expr.png\" style=\"display:inline;vertical-align:middle;\" /></a></td></tr>\n",
       "<tr><td>30</td><td>IndexedVar</td><td>variable:&nbsp;33<br>indices:&nbsp;35<br></td><td><a class=\"ProveItLink\" href=\"../../../../../core_expr_types/expr_arrays/__pv_it/common/cfc3f031aff613b33998523b9e88a4b21bb7543a0/expr.ipynb\"><img src=\"../../../../../core_expr_types/expr_arrays/__pv_it/common/cfc3f031aff613b33998523b9e88a4b21bb7543a0/expr.png\" style=\"display:inline;vertical-align:middle;\" /></a></td></tr>\n",
       "<tr><td>31</td><td>IndexedVar</td><td>variable:&nbsp;34<br>indices:&nbsp;35<br></td><td><a class=\"ProveItLink\" href=\"../../../../../core_expr_types/expr_arrays/__pv_it/common/29b2a42564e2bd68f988108464c87826d4366e390/expr.ipynb\"><img src=\"../../../../../core_expr_types/expr_arrays/__pv_it/common/29b2a42564e2bd68f988108464c87826d4366e390/expr.png\" style=\"display:inline;vertical-align:middle;\" /></a></td></tr>\n",
       "<tr><td>32</td><td>Variable</td><td></td><td><a class=\"ProveItLink\" href=\"../../../../../__pv_it/common/e4aad701f7f5516d8e7f0d805d518bf02c13322a0/expr.ipynb\"><img src=\"../../../../../__pv_it/common/e4aad701f7f5516d8e7f0d805d518bf02c13322a0/expr.png\" style=\"display:inline;vertical-align:middle;\" /></a></td></tr>\n",
       "<tr><td>33</td><td>Variable</td><td></td><td><a class=\"ProveItLink\" href=\"../../../../../__pv_it/common/c4a83a53f0ed6678b0c7a2d6d691a4b400f735c90/expr.ipynb\"><img src=\"../../../../../__pv_it/common/c4a83a53f0ed6678b0c7a2d6d691a4b400f735c90/expr.png\" style=\"display:inline;vertical-align:middle;\" /></a></td></tr>\n",
       "<tr><td>34</td><td>Variable</td><td></td><td><a class=\"ProveItLink\" href=\"../../../../../__pv_it/common/259d0846cd49c4882c35ec84d7a0b180713721cc0/expr.ipynb\"><img src=\"../../../../../__pv_it/common/259d0846cd49c4882c35ec84d7a0b180713721cc0/expr.png\" style=\"display:inline;vertical-align:middle;\" /></a></td></tr>\n",
       "<tr><td>35</td><td>ExprTuple</td><td>36, 37</td><td><a class=\"ProveItLink\" href=\"../../../../../core_expr_types/expr_arrays/__pv_it/common/8cc0879db459b7e49bd46852f9da16970a0f1f110/expr.ipynb\"><img src=\"../../../../../core_expr_types/expr_arrays/__pv_it/common/8cc0879db459b7e49bd46852f9da16970a0f1f110/expr.png\" style=\"display:inline;vertical-align:middle;\" /></a></td></tr>\n",
       "<tr><td>36</td><td>Variable</td><td></td><td><a class=\"ProveItLink\" href=\"../../../../../__pv_it/common/575a6156bb1c87c5beeaf38c302b5905ad57f5780/expr.ipynb\"><img src=\"../../../../../__pv_it/common/575a6156bb1c87c5beeaf38c302b5905ad57f5780/expr.png\" style=\"display:inline;vertical-align:middle;\" /></a></td></tr>\n",
       "<tr><td>37</td><td>Variable</td><td></td><td><a class=\"ProveItLink\" href=\"../../../../../__pv_it/common/5514cc9a63b9c2ed9b63934dd5e088ab0d4f10080/expr.ipynb\"><img src=\"../../../../../__pv_it/common/5514cc9a63b9c2ed9b63934dd5e088ab0d4f10080/expr.png\" style=\"display:inline;vertical-align:middle;\" /></a></td></tr>\n",
       "</table>\n"
      ],
      "text/plain": [
       "0. MultiQubitGate(A_{1, 1}, S_{1, 1}) & ..MultiQubitGate(A_{1, j}, S_{1, j}).. & MultiQubitGate(A_{1, m}, S_{1, m})  \\\\ \n",
       "  \\colon & \\colon & \\colon  \\\\ \n",
       "  MultiQubitGate(A_{i, 1}, S_{i, 1}) & ..MultiQubitGate(A_{i, j}, S_{i, j}).. & MultiQubitGate(A_{i, m}, S_{i, m})  \\\\ \n",
       "  \\colon & \\colon & \\colon  \\\\ \n",
       "  MultiQubitGate(A_{q, 1}, S_{q, 1}) & ..MultiQubitGate(A_{q, j}, S_{q, j}).. & MultiQubitGate(A_{q, m}, S_{q, m})  \\\\ \n",
       "  MultiQubitGate(B_{1}, S_{1}) & ..MultiQubitGate(B_{i}, S_{i}).. & MultiQubitGate(B_{m}, S_{m})  \\\\ \n",
       "  MultiQubitGate(C_{1, 1}, S_{1, 1}) & ..MultiQubitGate(C_{1, j}, S_{1, j}).. & MultiQubitGate(C_{1, m}, S_{1, m})  \\\\ \n",
       "  \\colon & \\colon & \\colon  \\\\ \n",
       "  MultiQubitGate(C_{i, 1}, S_{i, 1}) & ..MultiQubitGate(C_{i, j}, S_{i, j}).. & MultiQubitGate(C_{i, m}, S_{i, m})  \\\\ \n",
       "  \\colon & \\colon & \\colon  \\\\ \n",
       "  MultiQubitGate(C_{s, 1}, S_{s, 1}) & ..MultiQubitGate(C_{s, j}, S_{s, j}).. & MultiQubitGate(C_{s, m}, S_{s, m})\n",
       "   core type: ExprTuple\n",
       "   sub-expressions: 1, 2, 3\n",
       "1. (MultiQubitGate(A_{1, 1}, S_{1, 1}), ..MultiQubitGate(A_{1, j}, S_{1, j}).., MultiQubitGate(A_{1, m}, S_{1, m})), ..(MultiQubitGate(A_{i, 1}, S_{i, 1}), ..MultiQubitGate(A_{i, j}, S_{i, j}).., MultiQubitGate(A_{i, m}, S_{i, m})).., (MultiQubitGate(A_{q, 1}, S_{q, 1}), ..MultiQubitGate(A_{q, j}, S_{q, j}).., MultiQubitGate(A_{q, m}, S_{q, m}))\n",
       "   core type: ExprRange\n",
       "   lambda_map: 4\n",
       "   start_index: 18\n",
       "   end_index: 5\n",
       "2. (MultiQubitGate(B_{1}, S_{1}), ..MultiQubitGate(B_{i}, S_{i}).., MultiQubitGate(B_{m}, S_{m}))\n",
       "   core type: ExprTuple\n",
       "   sub-expressions: 6\n",
       "3. (MultiQubitGate(C_{1, 1}, S_{1, 1}), ..MultiQubitGate(C_{1, j}, S_{1, j}).., MultiQubitGate(C_{1, m}, S_{1, m})), ..(MultiQubitGate(C_{i, 1}, S_{i, 1}), ..MultiQubitGate(C_{i, j}, S_{i, j}).., MultiQubitGate(C_{i, m}, S_{i, m})).., (MultiQubitGate(C_{s, 1}, S_{s, 1}), ..MultiQubitGate(C_{s, j}, S_{s, j}).., MultiQubitGate(C_{s, m}, S_{s, m}))\n",
       "   core type: ExprRange\n",
       "   lambda_map: 7\n",
       "   start_index: 18\n",
       "   end_index: 8\n",
       "4. i -> (MultiQubitGate(A_{i, 1}, S_{i, 1}), ..MultiQubitGate(A_{i, j}, S_{i, j}).., MultiQubitGate(A_{i, m}, S_{i, m}))\n",
       "   core type: Lambda\n",
       "   parameter: 36\n",
       "   body: 9\n",
       "5. q\n",
       "   core type: Variable\n",
       "   sub-expressions: \n",
       "6. MultiQubitGate(B_{1}, S_{1}), ..MultiQubitGate(B_{i}, S_{i}).., MultiQubitGate(B_{m}, S_{m})\n",
       "   core type: ExprRange\n",
       "   lambda_map: 10\n",
       "   start_index: 18\n",
       "   end_index: 19\n",
       "7. i -> (MultiQubitGate(C_{i, 1}, S_{i, 1}), ..MultiQubitGate(C_{i, j}, S_{i, j}).., MultiQubitGate(C_{i, m}, S_{i, m}))\n",
       "   core type: Lambda\n",
       "   parameter: 36\n",
       "   body: 11\n",
       "8. s\n",
       "   core type: Variable\n",
       "   sub-expressions: \n",
       "9. (MultiQubitGate(A_{i, 1}, S_{i, 1}), ..MultiQubitGate(A_{i, j}, S_{i, j}).., MultiQubitGate(A_{i, m}, S_{i, m}))\n",
       "   core type: ExprTuple\n",
       "   sub-expressions: 12\n",
       "10. i -> MultiQubitGate(B_{i}, S_{i})\n",
       "    core type: Lambda\n",
       "    parameter: 36\n",
       "    body: 13\n",
       "11. (MultiQubitGate(C_{i, 1}, S_{i, 1}), ..MultiQubitGate(C_{i, j}, S_{i, j}).., MultiQubitGate(C_{i, m}, S_{i, m}))\n",
       "    core type: ExprTuple\n",
       "    sub-expressions: 14\n",
       "12. MultiQubitGate(A_{i, 1}, S_{i, 1}), ..MultiQubitGate(A_{i, j}, S_{i, j}).., MultiQubitGate(A_{i, m}, S_{i, m})\n",
       "    core type: ExprRange\n",
       "    lambda_map: 15\n",
       "    start_index: 18\n",
       "    end_index: 19\n",
       "13. MultiQubitGate(B_{i}, S_{i})\n",
       "    core type: Operation\n",
       "    operator: 27\n",
       "    operands: 16\n",
       "14. MultiQubitGate(C_{i, 1}, S_{i, 1}), ..MultiQubitGate(C_{i, j}, S_{i, j}).., MultiQubitGate(C_{i, m}, S_{i, m})\n",
       "    core type: ExprRange\n",
       "    lambda_map: 17\n",
       "    start_index: 18\n",
       "    end_index: 19\n",
       "15. j -> MultiQubitGate(A_{i, j}, S_{i, j})\n",
       "    core type: Lambda\n",
       "    parameter: 37\n",
       "    body: 20\n",
       "16. (B_{i}, S_{i})\n",
       "    core type: ExprTuple\n",
       "    sub-expressions: 21, 22\n",
       "17. j -> MultiQubitGate(C_{i, j}, S_{i, j})\n",
       "    core type: Lambda\n",
       "    parameter: 37\n",
       "    body: 23\n",
       "18. 1\n",
       "    core type: Literal\n",
       "    sub-expressions: \n",
       "19. m\n",
       "    core type: Variable\n",
       "    sub-expressions: \n",
       "20. MultiQubitGate(A_{i, j}, S_{i, j})\n",
       "    core type: Operation\n",
       "    operator: 27\n",
       "    operands: 24\n",
       "21. B_{i}\n",
       "    core type: IndexedVar\n",
       "variable: 25\n",
       "index: 36\n",
       "22. S_{i}\n",
       "    core type: IndexedVar\n",
       "variable: 34\n",
       "index: 36\n",
       "23. MultiQubitGate(C_{i, j}, S_{i, j})\n",
       "    core type: Operation\n",
       "    operator: 27\n",
       "    operands: 28\n",
       "24. (A_{i, j}, S_{i, j})\n",
       "    core type: ExprTuple\n",
       "    sub-expressions: 29, 31\n",
       "25. B\n",
       "    core type: Variable\n",
       "    sub-expressions: \n",
       "26. (i)\n",
       "    core type: ExprTuple\n",
       "    sub-expressions: 36\n",
       "27. MULTI_QUBIT_GATE\n",
       "    core type: Literal\n",
       "    sub-expressions: \n",
       "28. (C_{i, j}, S_{i, j})\n",
       "    core type: ExprTuple\n",
       "    sub-expressions: 30, 31\n",
       "29. A_{i, j}\n",
       "    core type: IndexedVar\n",
       "variable: 32\n",
       "indices: 35\n",
       "30. C_{i, j}\n",
       "    core type: IndexedVar\n",
       "variable: 33\n",
       "indices: 35\n",
       "31. S_{i, j}\n",
       "    core type: IndexedVar\n",
       "variable: 34\n",
       "indices: 35\n",
       "32. A\n",
       "    core type: Variable\n",
       "    sub-expressions: \n",
       "33. C\n",
       "    core type: Variable\n",
       "    sub-expressions: \n",
       "34. S\n",
       "    core type: Variable\n",
       "    sub-expressions: \n",
       "35. (i, j)\n",
       "    core type: ExprTuple\n",
       "    sub-expressions: 36, 37\n",
       "36. i\n",
       "    core type: Variable\n",
       "    sub-expressions: \n",
       "37. j\n",
       "    core type: Variable\n",
       "    sub-expressions: "
      ]
     },
     "execution_count": 6,
     "metadata": {},
     "output_type": "execute_result"
    }
   ],
   "source": [
    "# display the expression information\n",
    "expr.expr_info()"
   ]
  },
  {
   "cell_type": "code",
   "execution_count": null,
   "metadata": {},
   "outputs": [],
   "source": []
  }
 ],
 "metadata": {
  "kernelspec": {
   "display_name": "Python 3",
   "language": "python",
   "name": "python3"
  }
 },
 "nbformat": 4,
 "nbformat_minor": 0
}