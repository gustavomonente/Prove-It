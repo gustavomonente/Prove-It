{
 "cells": [
  {
   "cell_type": "markdown",
   "metadata": {},
   "source": [
    "Expression of type <a class=\"ProveItLink\" href=\"../../../../../../../doc/html/api/proveit.physics.quantum.circuit.Circuit.html\">Circuit</a>\n",
    "=======================\n",
    "# from the theory of <a class=\"ProveItLink\" href=\"../../../_theory_nbs_/theory.ipynb\">proveit.physics.quantum</a>"
   ]
  },
  {
   "cell_type": "code",
   "execution_count": 1,
   "metadata": {},
   "outputs": [],
   "source": [
    "import proveit\n",
    "# Automation is not needed when building an expression:\n",
    "proveit.defaults.automation = False # This will speed things up.\n",
    "proveit.defaults.inline_pngs = False # Makes files smaller.\n",
    "%load_expr # Load the stored expression as 'stored_expr'\n",
    "# import Expression classes needed to build the expression\n",
    "from proveit import B, D, ExprArray, ExprRange, IndexedVar, j, k, m, n\n",
    "from proveit.logic import Set\n",
    "from proveit.numbers import Add, one, two\n",
    "from proveit.physics.quantum.circuit import Circuit, MultiQubitGate"
   ]
  },
  {
   "cell_type": "code",
   "execution_count": 2,
   "metadata": {},
   "outputs": [
    {
     "data": {
      "text/html": [
       "<strong id=\"expr\">expr:</strong> <a class=\"ProveItLink\" href=\"expr.ipynb\"><img src=\"expr.png\" style=\"display:inline;vertical-align:middle;\" /></a><br>"
      ],
      "text/plain": [
       "expr:  MultiQubitGate(B_{1}, {m + 1, m + k + 2})  & ..MultiQubitGate(B_{j}, {m + 1, m + k + 2})..  & MultiQubitGate(B_{n}, {m + 1, m + k + 2})   \\\\ \n",
       "   MultiQubitGate(D_{1}, {m + 1, m + k + 2})  & ..MultiQubitGate(D_{j}, {m + 1, m + k + 2})..  & MultiQubitGate(D_{n}, {m + 1, m + k + 2})"
      ]
     },
     "execution_count": 2,
     "metadata": {},
     "output_type": "execute_result"
    }
   ],
   "source": [
    "# build up the expression from sub-expressions\n",
    "sub_expr1 = Set(Add(m, one), Add(m, k, two))\n",
    "expr = Circuit(ExprArray([ExprRange(j, MultiQubitGate(IndexedVar(B, j), sub_expr1), one, n)], [ExprRange(j, MultiQubitGate(IndexedVar(D, j), sub_expr1), one, n)]))"
   ]
  },
  {
   "cell_type": "code",
   "execution_count": 3,
   "metadata": {},
   "outputs": [
    {
     "name": "stdout",
     "output_type": "stream",
     "text": [
      "Passed sanity check: expr matches stored_expr\n"
     ]
    }
   ],
   "source": [
    "# check that the built expression is the same as the stored expression\n",
    "assert expr == stored_expr\n",
    "assert expr._style_id == stored_expr._style_id\n",
    "print(\"Passed sanity check: expr matches stored_expr\")"
   ]
  },
  {
   "cell_type": "code",
   "execution_count": 4,
   "metadata": {},
   "outputs": [
    {
     "name": "stdout",
     "output_type": "stream",
     "text": [
      "\\hspace{2em} \\Qcircuit@C=1em @R=.7em{\n",
      "& \\gate{B_{1}{\\Big \\{} \\left\\{m + 1, m + k + 2\\right\\}} \\qwx[1] & \\gate{\\cdots} \\qwx[1] & \\gate{B_{n}{\\Big \\{} \\left\\{m + 1, m + k + 2\\right\\}} \\qwx[1]   \\\\ \n",
      "  & \\gate{D_{1}{\\Big \\{} \\left\\{m + 1, m + k + 2\\right\\}} & \\gate{\\cdots} & \\gate{D_{n}{\\Big \\{} \\left\\{m + 1, m + k + 2\\right\\}} \n",
      "} \\hspace{2em}\n"
     ]
    }
   ],
   "source": [
    "# Show the LaTeX representation of the expression for convenience if you need it.\n",
    "print(expr.latex())"
   ]
  },
  {
   "cell_type": "code",
   "execution_count": 5,
   "metadata": {},
   "outputs": [
    {
     "data": {
      "text/html": [
       "<table><tr><th>&nbsp;</th><th>core type</th><th>sub-expressions</th><th>expression</th></tr>\n",
       "<tr><td>0</td><td>Operation</td><td>operator:&nbsp;1<br>operand:&nbsp;3<br></td><td><a class=\"ProveItLink\" href=\"expr.ipynb\"><img src=\"expr.png\" style=\"display:inline;vertical-align:middle;\" /></a></td></tr>\n",
       "<tr><td>1</td><td>Literal</td><td></td><td><a class=\"ProveItLink\" href=\"../../common/409f940d39947a3c17092974bfa20c1d4da6996c0/expr.ipynb\"><img src=\"../../common/409f940d39947a3c17092974bfa20c1d4da6996c0/expr.png\" style=\"display:inline;vertical-align:middle;\" /></a></td></tr>\n",
       "<tr><td>2</td><td>ExprTuple</td><td>3</td><td><a class=\"ProveItLink\" href=\"../646ccc0d4b95cca2ff8366d96cee2547f6de5b1f0/expr.ipynb\"><img src=\"../646ccc0d4b95cca2ff8366d96cee2547f6de5b1f0/expr.png\" style=\"display:inline;vertical-align:middle;\" /></a></td></tr>\n",
       "<tr><td>3</td><td>ExprTuple</td><td>4, 5</td><td><a class=\"ProveItLink\" href=\"../db12abe94d29193b6d5e73ffefdfe58681a8cca70/expr.ipynb\"><img src=\"../db12abe94d29193b6d5e73ffefdfe58681a8cca70/expr.png\" style=\"display:inline;vertical-align:middle;\" /></a></td></tr>\n",
       "<tr><td>4</td><td>ExprTuple</td><td>6</td><td><a class=\"ProveItLink\" href=\"../8b64fa323a179a43af7790b77150b00c79825e1b0/expr.ipynb\"><img src=\"../8b64fa323a179a43af7790b77150b00c79825e1b0/expr.png\" style=\"display:inline;vertical-align:middle;\" /></a></td></tr>\n",
       "<tr><td>5</td><td>ExprTuple</td><td>7</td><td><a class=\"ProveItLink\" href=\"../0c6bf6458c3798daaece55ae37afa53bc656004a0/expr.ipynb\"><img src=\"../0c6bf6458c3798daaece55ae37afa53bc656004a0/expr.png\" style=\"display:inline;vertical-align:middle;\" /></a></td></tr>\n",
       "<tr><td>6</td><td>ExprRange</td><td>lambda_map:&nbsp;8<br>start_index:&nbsp;29<br>end_index:&nbsp;10<br></td><td><a class=\"ProveItLink\" href=\"../9200bfca3316bd58ab91be5590fbe9027d62fa090/expr.ipynb\"><img src=\"../9200bfca3316bd58ab91be5590fbe9027d62fa090/expr.png\" style=\"display:inline;vertical-align:middle;\" /></a></td></tr>\n",
       "<tr><td>7</td><td>ExprRange</td><td>lambda_map:&nbsp;9<br>start_index:&nbsp;29<br>end_index:&nbsp;10<br></td><td><a class=\"ProveItLink\" href=\"../64ba5280d8fb2a5ffa8c04a80e175d757a4c3cb50/expr.ipynb\"><img src=\"../64ba5280d8fb2a5ffa8c04a80e175d757a4c3cb50/expr.png\" style=\"display:inline;vertical-align:middle;\" /></a></td></tr>\n",
       "<tr><td>8</td><td>Lambda</td><td>parameter:&nbsp;21<br>body:&nbsp;11<br></td><td><a class=\"ProveItLink\" href=\"../0601146ea52af9995c494b62f8302d8731a1db310/expr.ipynb\"><img src=\"../0601146ea52af9995c494b62f8302d8731a1db310/expr.png\" style=\"display:inline;vertical-align:middle;\" /></a></td></tr>\n",
       "<tr><td>9</td><td>Lambda</td><td>parameter:&nbsp;21<br>body:&nbsp;12<br></td><td><a class=\"ProveItLink\" href=\"../3c1eb96722828d5a691211081582f2c1e7abb5870/expr.ipynb\"><img src=\"../3c1eb96722828d5a691211081582f2c1e7abb5870/expr.png\" style=\"display:inline;vertical-align:middle;\" /></a></td></tr>\n",
       "<tr><td>10</td><td>Variable</td><td></td><td><a class=\"ProveItLink\" href=\"../../../../../__pv_it/common/8968bb04eb3f7dfa02353397ce929b025bbd79c20/expr.ipynb\"><img src=\"../../../../../__pv_it/common/8968bb04eb3f7dfa02353397ce929b025bbd79c20/expr.png\" style=\"display:inline;vertical-align:middle;\" /></a></td></tr>\n",
       "<tr><td>11</td><td>Operation</td><td>operator:&nbsp;14<br>operands:&nbsp;13<br></td><td><a class=\"ProveItLink\" href=\"../11d24014f3b81aac25b9bc8300c36c987a7c423e0/expr.ipynb\"><img src=\"../11d24014f3b81aac25b9bc8300c36c987a7c423e0/expr.png\" style=\"display:inline;vertical-align:middle;\" /></a></td></tr>\n",
       "<tr><td>12</td><td>Operation</td><td>operator:&nbsp;14<br>operands:&nbsp;15<br></td><td><a class=\"ProveItLink\" href=\"../615cc678a5bab16b0d7d30965d8f38c3bd0d513e0/expr.ipynb\"><img src=\"../615cc678a5bab16b0d7d30965d8f38c3bd0d513e0/expr.png\" style=\"display:inline;vertical-align:middle;\" /></a></td></tr>\n",
       "<tr><td>13</td><td>ExprTuple</td><td>16, 18</td><td><a class=\"ProveItLink\" href=\"../6d1e48912803b7813d8dcdde5d239d46633956bf0/expr.ipynb\"><img src=\"../6d1e48912803b7813d8dcdde5d239d46633956bf0/expr.png\" style=\"display:inline;vertical-align:middle;\" /></a></td></tr>\n",
       "<tr><td>14</td><td>Literal</td><td></td><td><a class=\"ProveItLink\" href=\"../../common/7e400d333e3c53d1c3dd14244e4b33f4cea327190/expr.ipynb\"><img src=\"../../common/7e400d333e3c53d1c3dd14244e4b33f4cea327190/expr.png\" style=\"display:inline;vertical-align:middle;\" /></a></td></tr>\n",
       "<tr><td>15</td><td>ExprTuple</td><td>17, 18</td><td><a class=\"ProveItLink\" href=\"../5b545c675e38a1bd370db4ac30aceb92d63d7e5f0/expr.ipynb\"><img src=\"../5b545c675e38a1bd370db4ac30aceb92d63d7e5f0/expr.png\" style=\"display:inline;vertical-align:middle;\" /></a></td></tr>\n",
       "<tr><td>16</td><td>IndexedVar</td><td>variable:&nbsp;19<br>index:&nbsp;21<br></td><td><a class=\"ProveItLink\" href=\"../1c1c72ee3106038d890d043390be2a777f9c9e130/expr.ipynb\"><img src=\"../1c1c72ee3106038d890d043390be2a777f9c9e130/expr.png\" style=\"display:inline;vertical-align:middle;\" /></a></td></tr>\n",
       "<tr><td>17</td><td>IndexedVar</td><td>variable:&nbsp;20<br>index:&nbsp;21<br></td><td><a class=\"ProveItLink\" href=\"../518137d0039761dc544b2153c25c52de36e0ec900/expr.ipynb\"><img src=\"../518137d0039761dc544b2153c25c52de36e0ec900/expr.png\" style=\"display:inline;vertical-align:middle;\" /></a></td></tr>\n",
       "<tr><td>18</td><td>Operation</td><td>operator:&nbsp;22<br>operands:&nbsp;23<br></td><td><a class=\"ProveItLink\" href=\"../f04c6041b5d33e23f5e6bdc2a5dba8e7cd53c6ee0/expr.ipynb\"><img src=\"../f04c6041b5d33e23f5e6bdc2a5dba8e7cd53c6ee0/expr.png\" style=\"display:inline;vertical-align:middle;\" /></a></td></tr>\n",
       "<tr><td>19</td><td>Variable</td><td></td><td><a class=\"ProveItLink\" href=\"../../../../../__pv_it/common/a9162d1c3cc0470c02e5daf414500903a7a419230/expr.ipynb\"><img src=\"../../../../../__pv_it/common/a9162d1c3cc0470c02e5daf414500903a7a419230/expr.png\" style=\"display:inline;vertical-align:middle;\" /></a></td></tr>\n",
       "<tr><td>20</td><td>Variable</td><td></td><td><a class=\"ProveItLink\" href=\"../../../../../__pv_it/common/8d36d28f3636cdaa66f8b7d56eb3bbf0b50f70200/expr.ipynb\"><img src=\"../../../../../__pv_it/common/8d36d28f3636cdaa66f8b7d56eb3bbf0b50f70200/expr.png\" style=\"display:inline;vertical-align:middle;\" /></a></td></tr>\n",
       "<tr><td>21</td><td>Variable</td><td></td><td><a class=\"ProveItLink\" href=\"../../../../../__pv_it/common/1ed21df18baca2f42b561a7ffbf30a2743d594650/expr.ipynb\"><img src=\"../../../../../__pv_it/common/1ed21df18baca2f42b561a7ffbf30a2743d594650/expr.png\" style=\"display:inline;vertical-align:middle;\" /></a></td></tr>\n",
       "<tr><td>22</td><td>Literal</td><td></td><td><a class=\"ProveItLink\" href=\"../../../../../logic/sets/enumeration/__pv_it/common/0ead90ccbf4f17bc585a51f8aa904bb77916ae6e0/expr.ipynb\"><img src=\"../../../../../logic/sets/enumeration/__pv_it/common/0ead90ccbf4f17bc585a51f8aa904bb77916ae6e0/expr.png\" style=\"display:inline;vertical-align:middle;\" /></a></td></tr>\n",
       "<tr><td>23</td><td>ExprTuple</td><td>24, 25</td><td><a class=\"ProveItLink\" href=\"../e22a3b205a9ae5e11da289f9af15c9e1dc6c00710/expr.ipynb\"><img src=\"../e22a3b205a9ae5e11da289f9af15c9e1dc6c00710/expr.png\" style=\"display:inline;vertical-align:middle;\" /></a></td></tr>\n",
       "<tr><td>24</td><td>Operation</td><td>operator:&nbsp;27<br>operands:&nbsp;26<br></td><td><a class=\"ProveItLink\" href=\"../e4061993af513a849b79a657e87a3daf729860f60/expr.ipynb\"><img src=\"../e4061993af513a849b79a657e87a3daf729860f60/expr.png\" style=\"display:inline;vertical-align:middle;\" /></a></td></tr>\n",
       "<tr><td>25</td><td>Operation</td><td>operator:&nbsp;27<br>operands:&nbsp;28<br></td><td><a class=\"ProveItLink\" href=\"../bbaee0934b073a5ebd461c5f471458394a3e3b710/expr.ipynb\"><img src=\"../bbaee0934b073a5ebd461c5f471458394a3e3b710/expr.png\" style=\"display:inline;vertical-align:middle;\" /></a></td></tr>\n",
       "<tr><td>26</td><td>ExprTuple</td><td>30, 29</td><td><a class=\"ProveItLink\" href=\"../c75997494363a372da41f935d52adeefa2e242a80/expr.ipynb\"><img src=\"../c75997494363a372da41f935d52adeefa2e242a80/expr.png\" style=\"display:inline;vertical-align:middle;\" /></a></td></tr>\n",
       "<tr><td>27</td><td>Literal</td><td></td><td><a class=\"ProveItLink\" href=\"../../../../../numbers/addition/__pv_it/common/4b7effaab3619a1c2c38fe2dee8601df8ec714590/expr.ipynb\"><img src=\"../../../../../numbers/addition/__pv_it/common/4b7effaab3619a1c2c38fe2dee8601df8ec714590/expr.png\" style=\"display:inline;vertical-align:middle;\" /></a></td></tr>\n",
       "<tr><td>28</td><td>ExprTuple</td><td>30, 31, 32</td><td><a class=\"ProveItLink\" href=\"../a52363d0c4fa29e4540e654303861b45092c38910/expr.ipynb\"><img src=\"../a52363d0c4fa29e4540e654303861b45092c38910/expr.png\" style=\"display:inline;vertical-align:middle;\" /></a></td></tr>\n",
       "<tr><td>29</td><td>Literal</td><td></td><td><a class=\"ProveItLink\" href=\"../../../../../numbers/numerals/__pv_it/common/2778428c7f555b2bdc06aa0530bc142c6e6335100/expr.ipynb\"><img src=\"../../../../../numbers/numerals/__pv_it/common/2778428c7f555b2bdc06aa0530bc142c6e6335100/expr.png\" style=\"display:inline;vertical-align:middle;\" /></a></td></tr>\n",
       "<tr><td>30</td><td>Variable</td><td></td><td><a class=\"ProveItLink\" href=\"../../../../../__pv_it/common/674a03b9c3ca221b3aabd5636837b31528ff33830/expr.ipynb\"><img src=\"../../../../../__pv_it/common/674a03b9c3ca221b3aabd5636837b31528ff33830/expr.png\" style=\"display:inline;vertical-align:middle;\" /></a></td></tr>\n",
       "<tr><td>31</td><td>Variable</td><td></td><td><a class=\"ProveItLink\" href=\"../../../../../__pv_it/common/63b7c64bf9ec7a04ecc396c7a1670f3f12fb59490/expr.ipynb\"><img src=\"../../../../../__pv_it/common/63b7c64bf9ec7a04ecc396c7a1670f3f12fb59490/expr.png\" style=\"display:inline;vertical-align:middle;\" /></a></td></tr>\n",
       "<tr><td>32</td><td>Literal</td><td></td><td><a class=\"ProveItLink\" href=\"../../../../../numbers/numerals/__pv_it/common/ba3b059982e8b49413dc653e957beb11e974e4bc0/expr.ipynb\"><img src=\"../../../../../numbers/numerals/__pv_it/common/ba3b059982e8b49413dc653e957beb11e974e4bc0/expr.png\" style=\"display:inline;vertical-align:middle;\" /></a></td></tr>\n",
       "</table>\n"
      ],
      "text/plain": [
       "0.  MultiQubitGate(B_{1}, {m + 1, m + k + 2})  & ..MultiQubitGate(B_{j}, {m + 1, m + k + 2})..  & MultiQubitGate(B_{n}, {m + 1, m + k + 2})   \\\\ \n",
       "   MultiQubitGate(D_{1}, {m + 1, m + k + 2})  & ..MultiQubitGate(D_{j}, {m + 1, m + k + 2})..  & MultiQubitGate(D_{n}, {m + 1, m + k + 2})\n",
       "   core type: Operation\n",
       "   operator: 1\n",
       "   operand: 3\n",
       "1. CIRCUIT\n",
       "   core type: Literal\n",
       "   sub-expressions: \n",
       "2. ((MultiQubitGate(B_{1}, {m + 1, m + k + 2}) & ..MultiQubitGate(B_{j}, {m + 1, m + k + 2}).. & MultiQubitGate(B_{n}, {m + 1, m + k + 2})  \\\\ \n",
       "  MultiQubitGate(D_{1}, {m + 1, m + k + 2}) & ..MultiQubitGate(D_{j}, {m + 1, m + k + 2}).. & MultiQubitGate(D_{n}, {m + 1, m + k + 2})))\n",
       "   core type: ExprTuple\n",
       "   sub-expressions: 3\n",
       "3. MultiQubitGate(B_{1}, {m + 1, m + k + 2}) & ..MultiQubitGate(B_{j}, {m + 1, m + k + 2}).. & MultiQubitGate(B_{n}, {m + 1, m + k + 2})  \\\\ \n",
       "  MultiQubitGate(D_{1}, {m + 1, m + k + 2}) & ..MultiQubitGate(D_{j}, {m + 1, m + k + 2}).. & MultiQubitGate(D_{n}, {m + 1, m + k + 2})\n",
       "   core type: ExprTuple\n",
       "   sub-expressions: 4, 5\n",
       "4. (MultiQubitGate(B_{1}, {m + 1, m + k + 2}), ..MultiQubitGate(B_{j}, {m + 1, m + k + 2}).., MultiQubitGate(B_{n}, {m + 1, m + k + 2}))\n",
       "   core type: ExprTuple\n",
       "   sub-expressions: 6\n",
       "5. (MultiQubitGate(D_{1}, {m + 1, m + k + 2}), ..MultiQubitGate(D_{j}, {m + 1, m + k + 2}).., MultiQubitGate(D_{n}, {m + 1, m + k + 2}))\n",
       "   core type: ExprTuple\n",
       "   sub-expressions: 7\n",
       "6. MultiQubitGate(B_{1}, {m + 1, m + k + 2}), ..MultiQubitGate(B_{j}, {m + 1, m + k + 2}).., MultiQubitGate(B_{n}, {m + 1, m + k + 2})\n",
       "   core type: ExprRange\n",
       "   lambda_map: 8\n",
       "   start_index: 29\n",
       "   end_index: 10\n",
       "7. MultiQubitGate(D_{1}, {m + 1, m + k + 2}), ..MultiQubitGate(D_{j}, {m + 1, m + k + 2}).., MultiQubitGate(D_{n}, {m + 1, m + k + 2})\n",
       "   core type: ExprRange\n",
       "   lambda_map: 9\n",
       "   start_index: 29\n",
       "   end_index: 10\n",
       "8. j -> MultiQubitGate(B_{j}, {m + 1, m + k + 2})\n",
       "   core type: Lambda\n",
       "   parameter: 21\n",
       "   body: 11\n",
       "9. j -> MultiQubitGate(D_{j}, {m + 1, m + k + 2})\n",
       "   core type: Lambda\n",
       "   parameter: 21\n",
       "   body: 12\n",
       "10. n\n",
       "    core type: Variable\n",
       "    sub-expressions: \n",
       "11. MultiQubitGate(B_{j}, {m + 1, m + k + 2})\n",
       "    core type: Operation\n",
       "    operator: 14\n",
       "    operands: 13\n",
       "12. MultiQubitGate(D_{j}, {m + 1, m + k + 2})\n",
       "    core type: Operation\n",
       "    operator: 14\n",
       "    operands: 15\n",
       "13. (B_{j}, {m + 1, m + k + 2})\n",
       "    core type: ExprTuple\n",
       "    sub-expressions: 16, 18\n",
       "14. MULTI_QUBIT_GATE\n",
       "    core type: Literal\n",
       "    sub-expressions: \n",
       "15. (D_{j}, {m + 1, m + k + 2})\n",
       "    core type: ExprTuple\n",
       "    sub-expressions: 17, 18\n",
       "16. B_{j}\n",
       "    core type: IndexedVar\n",
       "variable: 19\n",
       "index: 21\n",
       "17. D_{j}\n",
       "    core type: IndexedVar\n",
       "variable: 20\n",
       "index: 21\n",
       "18. {m + 1, m + k + 2}\n",
       "    core type: Operation\n",
       "    operator: 22\n",
       "    operands: 23\n",
       "19. B\n",
       "    core type: Variable\n",
       "    sub-expressions: \n",
       "20. D\n",
       "    core type: Variable\n",
       "    sub-expressions: \n",
       "21. j\n",
       "    core type: Variable\n",
       "    sub-expressions: \n",
       "22. Set\n",
       "    core type: Literal\n",
       "    sub-expressions: \n",
       "23. (m + 1, m + k + 2)\n",
       "    core type: ExprTuple\n",
       "    sub-expressions: 24, 25\n",
       "24. m + 1\n",
       "    core type: Operation\n",
       "    operator: 27\n",
       "    operands: 26\n",
       "25. m + k + 2\n",
       "    core type: Operation\n",
       "    operator: 27\n",
       "    operands: 28\n",
       "26. (m, 1)\n",
       "    core type: ExprTuple\n",
       "    sub-expressions: 30, 29\n",
       "27. +\n",
       "    core type: Literal\n",
       "    sub-expressions: \n",
       "28. (m, k, 2)\n",
       "    core type: ExprTuple\n",
       "    sub-expressions: 30, 31, 32\n",
       "29. 1\n",
       "    core type: Literal\n",
       "    sub-expressions: \n",
       "30. m\n",
       "    core type: Variable\n",
       "    sub-expressions: \n",
       "31. k\n",
       "    core type: Variable\n",
       "    sub-expressions: \n",
       "32. 2\n",
       "    core type: Literal\n",
       "    sub-expressions: "
      ]
     },
     "execution_count": 5,
     "metadata": {},
     "output_type": "execute_result"
    }
   ],
   "source": [
    "# display the expression information\n",
    "expr.expr_info()"
   ]
  },
  {
   "cell_type": "code",
   "execution_count": null,
   "metadata": {},
   "outputs": [],
   "source": []
  }
 ],
 "metadata": {
  "kernelspec": {
   "display_name": "Python 3",
   "language": "python",
   "name": "python3"
  }
 },
 "nbformat": 4,
 "nbformat_minor": 0
}