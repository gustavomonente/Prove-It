{
 "cells": [
  {
   "cell_type": "markdown",
   "metadata": {},
   "source": [
    "Expression of type <a class=\"ProveItLink\" href=\"../../../../../../../doc/html/api/proveit.physics.quantum.circuit.CircuitEquiv.html\">CircuitEquiv</a>\n",
    "=======================\n",
    "# from the theory of <a class=\"ProveItLink\" href=\"../../../_theory_nbs_/theory.ipynb\">proveit.physics.quantum</a>"
   ]
  },
  {
   "cell_type": "code",
   "execution_count": 1,
   "metadata": {},
   "outputs": [],
   "source": [
    "import proveit\n",
    "# Automation is not needed when building an expression:\n",
    "proveit.defaults.automation = False # This will speed things up.\n",
    "proveit.defaults.inline_pngs = False # Makes files smaller.\n",
    "%load_expr # Load the stored expression as 'stored_expr'\n",
    "# import Expression classes needed to build the expression\n",
    "from proveit import ExprArray\n",
    "from proveit.logic import Set\n",
    "from proveit.numbers import one\n",
    "from proveit.physics.quantum import H, SPACE, X\n",
    "from proveit.physics.quantum.circuit import Circuit, CircuitEquiv, MultiQubitGate"
   ]
  },
  {
   "cell_type": "code",
   "execution_count": 2,
   "metadata": {},
   "outputs": [
    {
     "data": {
      "text/html": [
       "<strong id=\"expr\">expr:</strong> <a class=\"ProveItLink\" href=\"expr.ipynb\"><img src=\"expr.png\" style=\"display:inline;vertical-align:middle;\" /></a><br>"
      ],
      "text/plain": [
       "expr:  MultiQubitGate(H, {1})  & MultiQubitGate(X, {1})  & MultiQubitGate(H, {1}) equiv  MultiQubitGate(SPACE, {1})  & MultiQubitGate(X, {1})  & MultiQubitGate(SPACE, {1})"
      ]
     },
     "execution_count": 2,
     "metadata": {},
     "output_type": "execute_result"
    }
   ],
   "source": [
    "# build up the expression from sub-expressions\n",
    "sub_expr1 = Set(one)\n",
    "sub_expr2 = MultiQubitGate(H, sub_expr1)\n",
    "sub_expr3 = MultiQubitGate(X, sub_expr1)\n",
    "sub_expr4 = MultiQubitGate(SPACE, sub_expr1)\n",
    "expr = CircuitEquiv(Circuit(ExprArray([sub_expr2, sub_expr3, sub_expr2])), Circuit(ExprArray([sub_expr4, sub_expr3, sub_expr4])))"
   ]
  },
  {
   "cell_type": "code",
   "execution_count": 3,
   "metadata": {},
   "outputs": [
    {
     "name": "stdout",
     "output_type": "stream",
     "text": [
      "Passed sanity check: expr matches stored_expr\n"
     ]
    }
   ],
   "source": [
    "# check that the built expression is the same as the stored expression\n",
    "assert expr == stored_expr\n",
    "assert expr._style_id == stored_expr._style_id\n",
    "print(\"Passed sanity check: expr matches stored_expr\")"
   ]
  },
  {
   "cell_type": "code",
   "execution_count": 4,
   "metadata": {},
   "outputs": [
    {
     "name": "stdout",
     "output_type": "stream",
     "text": [
      "\\hspace{2em} \\Qcircuit@C=1em @R=.7em{\n",
      "& \\gate{H{\\Big \\{} \\left\\{1\\right\\}} & \\gate{X{\\Big \\{} \\left\\{1\\right\\}} & \\gate{H{\\Big \\{} \\left\\{1\\right\\}} \n",
      "} \\hspace{2em} \\cong \\hspace{2em} \\Qcircuit@C=1em @R=.7em{\n",
      "& \\gate{X{\\Big \\{} \\left\\{1\\right\\}} \n",
      "} \\hspace{2em}\n"
     ]
    }
   ],
   "source": [
    "# Show the LaTeX representation of the expression for convenience if you need it.\n",
    "print(expr.latex())"
   ]
  },
  {
   "cell_type": "code",
   "execution_count": 5,
   "metadata": {},
   "outputs": [
    {
     "data": {
      "text/html": [
       "<table><tr><th>&nbsp;</th><th>core type</th><th>sub-expressions</th><th>expression</th></tr>\n",
       "<tr><td>0</td><td>Operation</td><td>operator:&nbsp;1<br>operands:&nbsp;2<br></td><td><a class=\"ProveItLink\" href=\"expr.ipynb\"><img src=\"expr.png\" style=\"display:inline;vertical-align:middle;\" /></a></td></tr>\n",
       "<tr><td>1</td><td>Literal</td><td></td><td><a class=\"ProveItLink\" href=\"../../common/b3520ccd5e28caaba55f0c0dd58050c7f0ca707d0/expr.ipynb\"><img src=\"../../common/b3520ccd5e28caaba55f0c0dd58050c7f0ca707d0/expr.png\" style=\"display:inline;vertical-align:middle;\" /></a></td></tr>\n",
       "<tr><td>2</td><td>ExprTuple</td><td>3, 4</td><td><a class=\"ProveItLink\" href=\"../abc11fe3c6b69cf7d9c98d7220e3c68679ded5ab0/expr.ipynb\"><img src=\"../abc11fe3c6b69cf7d9c98d7220e3c68679ded5ab0/expr.png\" style=\"display:inline;vertical-align:middle;\" /></a></td></tr>\n",
       "<tr><td>3</td><td>Operation</td><td>operator:&nbsp;6<br>operand:&nbsp;8<br></td><td><a class=\"ProveItLink\" href=\"../d5351f21ba140301b03bbf360519577cf2aec7b00/expr.ipynb\"><img src=\"../d5351f21ba140301b03bbf360519577cf2aec7b00/expr.png\" style=\"display:inline;vertical-align:middle;\" /></a></td></tr>\n",
       "<tr><td>4</td><td>Operation</td><td>operator:&nbsp;6<br>operand:&nbsp;9<br></td><td><a class=\"ProveItLink\" href=\"../9b17580b8e261e5c5115e17dd9ce5433932ec94e0/expr.ipynb\"><img src=\"../9b17580b8e261e5c5115e17dd9ce5433932ec94e0/expr.png\" style=\"display:inline;vertical-align:middle;\" /></a></td></tr>\n",
       "<tr><td>5</td><td>ExprTuple</td><td>8</td><td><a class=\"ProveItLink\" href=\"../291c378a1c51bb4c46093b58a753daaa7c36b7690/expr.ipynb\"><img src=\"../291c378a1c51bb4c46093b58a753daaa7c36b7690/expr.png\" style=\"display:inline;vertical-align:middle;\" /></a></td></tr>\n",
       "<tr><td>6</td><td>Literal</td><td></td><td><a class=\"ProveItLink\" href=\"../../common/409f940d39947a3c17092974bfa20c1d4da6996c0/expr.ipynb\"><img src=\"../../common/409f940d39947a3c17092974bfa20c1d4da6996c0/expr.png\" style=\"display:inline;vertical-align:middle;\" /></a></td></tr>\n",
       "<tr><td>7</td><td>ExprTuple</td><td>9</td><td><a class=\"ProveItLink\" href=\"../cc2d2fa813698643d5727437945ce35d6a7d3c4d0/expr.ipynb\"><img src=\"../cc2d2fa813698643d5727437945ce35d6a7d3c4d0/expr.png\" style=\"display:inline;vertical-align:middle;\" /></a></td></tr>\n",
       "<tr><td>8</td><td>ExprTuple</td><td>10</td><td><a class=\"ProveItLink\" href=\"../6be887c3347931bd6169532f3173fa9bfe3e5b080/expr.ipynb\"><img src=\"../6be887c3347931bd6169532f3173fa9bfe3e5b080/expr.png\" style=\"display:inline;vertical-align:middle;\" /></a></td></tr>\n",
       "<tr><td>9</td><td>ExprTuple</td><td>11</td><td><a class=\"ProveItLink\" href=\"../0cec2a353f0d6833c4677ff5b3b23de341529c540/expr.ipynb\"><img src=\"../0cec2a353f0d6833c4677ff5b3b23de341529c540/expr.png\" style=\"display:inline;vertical-align:middle;\" /></a></td></tr>\n",
       "<tr><td>10</td><td>ExprTuple</td><td>12, 13, 12</td><td><a class=\"ProveItLink\" href=\"../45ea575e2092c82531b45579fc4761c6f19285750/expr.ipynb\"><img src=\"../45ea575e2092c82531b45579fc4761c6f19285750/expr.png\" style=\"display:inline;vertical-align:middle;\" /></a></td></tr>\n",
       "<tr><td>11</td><td>ExprTuple</td><td>14, 13, 14</td><td><a class=\"ProveItLink\" href=\"../b1ab0f529a5b7684f44092b3c6e3f99e4c71a55f0/expr.ipynb\"><img src=\"../b1ab0f529a5b7684f44092b3c6e3f99e4c71a55f0/expr.png\" style=\"display:inline;vertical-align:middle;\" /></a></td></tr>\n",
       "<tr><td>12</td><td>Operation</td><td>operator:&nbsp;17<br>operands:&nbsp;15<br></td><td><a class=\"ProveItLink\" href=\"../6ab25901cb5672432315ad720e8944618fb015d50/expr.ipynb\"><img src=\"../6ab25901cb5672432315ad720e8944618fb015d50/expr.png\" style=\"display:inline;vertical-align:middle;\" /></a></td></tr>\n",
       "<tr><td>13</td><td>Operation</td><td>operator:&nbsp;17<br>operands:&nbsp;16<br></td><td><a class=\"ProveItLink\" href=\"../7a079e72e5482733f485ce7a3c3f3c98a756444c0/expr.ipynb\"><img src=\"../7a079e72e5482733f485ce7a3c3f3c98a756444c0/expr.png\" style=\"display:inline;vertical-align:middle;\" /></a></td></tr>\n",
       "<tr><td>14</td><td>Operation</td><td>operator:&nbsp;17<br>operands:&nbsp;18<br></td><td><a class=\"ProveItLink\" href=\"../abdc154689200b039f9e7bccc3b93b5ec7cbd94d0/expr.ipynb\"><img src=\"../abdc154689200b039f9e7bccc3b93b5ec7cbd94d0/expr.png\" style=\"display:inline;vertical-align:middle;\" /></a></td></tr>\n",
       "<tr><td>15</td><td>ExprTuple</td><td>19, 22</td><td><a class=\"ProveItLink\" href=\"../51765debcc107111380aca56c119abe5e30662c30/expr.ipynb\"><img src=\"../51765debcc107111380aca56c119abe5e30662c30/expr.png\" style=\"display:inline;vertical-align:middle;\" /></a></td></tr>\n",
       "<tr><td>16</td><td>ExprTuple</td><td>20, 22</td><td><a class=\"ProveItLink\" href=\"../5c3596d077bdf059dfb13eb6936a326efee883520/expr.ipynb\"><img src=\"../5c3596d077bdf059dfb13eb6936a326efee883520/expr.png\" style=\"display:inline;vertical-align:middle;\" /></a></td></tr>\n",
       "<tr><td>17</td><td>Literal</td><td></td><td><a class=\"ProveItLink\" href=\"../../common/7e400d333e3c53d1c3dd14244e4b33f4cea327190/expr.ipynb\"><img src=\"../../common/7e400d333e3c53d1c3dd14244e4b33f4cea327190/expr.png\" style=\"display:inline;vertical-align:middle;\" /></a></td></tr>\n",
       "<tr><td>18</td><td>ExprTuple</td><td>21, 22</td><td><a class=\"ProveItLink\" href=\"../07134d1b50764529bc2f571bbb0a1a9987d7d47f0/expr.ipynb\"><img src=\"../07134d1b50764529bc2f571bbb0a1a9987d7d47f0/expr.png\" style=\"display:inline;vertical-align:middle;\" /></a></td></tr>\n",
       "<tr><td>19</td><td>Literal</td><td></td><td><a class=\"ProveItLink\" href=\"../../common/e874333991a6db337cd004ff6daee55a9e80aa5b0/expr.ipynb\"><img src=\"../../common/e874333991a6db337cd004ff6daee55a9e80aa5b0/expr.png\" style=\"display:inline;vertical-align:middle;\" /></a></td></tr>\n",
       "<tr><td>20</td><td>Literal</td><td></td><td><a class=\"ProveItLink\" href=\"../../common/d428480ac9882b1412f7ede37b71e3a30f3c2e9e0/expr.ipynb\"><img src=\"../../common/d428480ac9882b1412f7ede37b71e3a30f3c2e9e0/expr.png\" style=\"display:inline;vertical-align:middle;\" /></a></td></tr>\n",
       "<tr><td>21</td><td>Literal</td><td></td><td><a class=\"ProveItLink\" href=\"../../common/da64fd011a176dba524c15edb4c0c73d9ce4b38f0/expr.ipynb\"><img src=\"../../common/da64fd011a176dba524c15edb4c0c73d9ce4b38f0/expr.png\" style=\"display:inline;vertical-align:middle;\" /></a></td></tr>\n",
       "<tr><td>22</td><td>Operation</td><td>operator:&nbsp;23<br>operand:&nbsp;24<br></td><td><a class=\"ProveItLink\" href=\"../794cea2888521553b40bae12ccfe7795c4ee57380/expr.ipynb\"><img src=\"../794cea2888521553b40bae12ccfe7795c4ee57380/expr.png\" style=\"display:inline;vertical-align:middle;\" /></a></td></tr>\n",
       "<tr><td>23</td><td>Literal</td><td></td><td><a class=\"ProveItLink\" href=\"../../../../../logic/sets/enumeration/__pv_it/common/0ead90ccbf4f17bc585a51f8aa904bb77916ae6e0/expr.ipynb\"><img src=\"../../../../../logic/sets/enumeration/__pv_it/common/0ead90ccbf4f17bc585a51f8aa904bb77916ae6e0/expr.png\" style=\"display:inline;vertical-align:middle;\" /></a></td></tr>\n",
       "<tr><td>24</td><td>Literal</td><td></td><td><a class=\"ProveItLink\" href=\"../../../../../numbers/numerals/__pv_it/common/2778428c7f555b2bdc06aa0530bc142c6e6335100/expr.ipynb\"><img src=\"../../../../../numbers/numerals/__pv_it/common/2778428c7f555b2bdc06aa0530bc142c6e6335100/expr.png\" style=\"display:inline;vertical-align:middle;\" /></a></td></tr>\n",
       "</table>\n"
      ],
      "text/plain": [
       "0.  MultiQubitGate(H, {1})  & MultiQubitGate(X, {1})  & MultiQubitGate(H, {1}) equiv  MultiQubitGate(SPACE, {1})  & MultiQubitGate(X, {1})  & MultiQubitGate(SPACE, {1})\n",
       "   core type: Operation\n",
       "   operator: 1\n",
       "   operands: 2\n",
       "1. equiv\n",
       "   core type: Literal\n",
       "   sub-expressions: \n",
       "2. ( MultiQubitGate(H, {1})  & MultiQubitGate(X, {1})  & MultiQubitGate(H, {1}),  MultiQubitGate(SPACE, {1})  & MultiQubitGate(X, {1})  & MultiQubitGate(SPACE, {1}))\n",
       "   core type: ExprTuple\n",
       "   sub-expressions: 3, 4\n",
       "3.  MultiQubitGate(H, {1})  & MultiQubitGate(X, {1})  & MultiQubitGate(H, {1})\n",
       "   core type: Operation\n",
       "   operator: 6\n",
       "   operand: 8\n",
       "4.  MultiQubitGate(SPACE, {1})  & MultiQubitGate(X, {1})  & MultiQubitGate(SPACE, {1})\n",
       "   core type: Operation\n",
       "   operator: 6\n",
       "   operand: 9\n",
       "5. ((MultiQubitGate(H, {1}) & MultiQubitGate(X, {1}) & MultiQubitGate(H, {1})))\n",
       "   core type: ExprTuple\n",
       "   sub-expressions: 8\n",
       "6. CIRCUIT\n",
       "   core type: Literal\n",
       "   sub-expressions: \n",
       "7. ((MultiQubitGate(SPACE, {1}) & MultiQubitGate(X, {1}) & MultiQubitGate(SPACE, {1})))\n",
       "   core type: ExprTuple\n",
       "   sub-expressions: 9\n",
       "8. MultiQubitGate(H, {1}) & MultiQubitGate(X, {1}) & MultiQubitGate(H, {1})\n",
       "   core type: ExprTuple\n",
       "   sub-expressions: 10\n",
       "9. MultiQubitGate(SPACE, {1}) & MultiQubitGate(X, {1}) & MultiQubitGate(SPACE, {1})\n",
       "   core type: ExprTuple\n",
       "   sub-expressions: 11\n",
       "10. (MultiQubitGate(H, {1}), MultiQubitGate(X, {1}), MultiQubitGate(H, {1}))\n",
       "    core type: ExprTuple\n",
       "    sub-expressions: 12, 13, 12\n",
       "11. (MultiQubitGate(SPACE, {1}), MultiQubitGate(X, {1}), MultiQubitGate(SPACE, {1}))\n",
       "    core type: ExprTuple\n",
       "    sub-expressions: 14, 13, 14\n",
       "12. MultiQubitGate(H, {1})\n",
       "    core type: Operation\n",
       "    operator: 17\n",
       "    operands: 15\n",
       "13. MultiQubitGate(X, {1})\n",
       "    core type: Operation\n",
       "    operator: 17\n",
       "    operands: 16\n",
       "14. MultiQubitGate(SPACE, {1})\n",
       "    core type: Operation\n",
       "    operator: 17\n",
       "    operands: 18\n",
       "15. (H, {1})\n",
       "    core type: ExprTuple\n",
       "    sub-expressions: 19, 22\n",
       "16. (X, {1})\n",
       "    core type: ExprTuple\n",
       "    sub-expressions: 20, 22\n",
       "17. MULTI_QUBIT_GATE\n",
       "    core type: Literal\n",
       "    sub-expressions: \n",
       "18. (SPACE, {1})\n",
       "    core type: ExprTuple\n",
       "    sub-expressions: 21, 22\n",
       "19. H\n",
       "    core type: Literal\n",
       "    sub-expressions: \n",
       "20. X\n",
       "    core type: Literal\n",
       "    sub-expressions: \n",
       "21. SPACE\n",
       "    core type: Literal\n",
       "    sub-expressions: \n",
       "22. {1}\n",
       "    core type: Operation\n",
       "    operator: 23\n",
       "    operand: 24\n",
       "23. Set\n",
       "    core type: Literal\n",
       "    sub-expressions: \n",
       "24. 1\n",
       "    core type: Literal\n",
       "    sub-expressions: "
      ]
     },
     "execution_count": 5,
     "metadata": {},
     "output_type": "execute_result"
    }
   ],
   "source": [
    "# display the expression information\n",
    "expr.expr_info()"
   ]
  },
  {
   "cell_type": "code",
   "execution_count": null,
   "metadata": {},
   "outputs": [],
   "source": []
  }
 ],
 "metadata": {
  "kernelspec": {
   "display_name": "Python 3",
   "language": "python",
   "name": "python3"
  }
 },
 "nbformat": 4,
 "nbformat_minor": 0
}