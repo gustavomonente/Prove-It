{
 "cells": [
  {
   "cell_type": "markdown",
   "metadata": {},
   "source": [
    "Expression of type <a class=\"ProveItLink\" href=\"../../../../../../../doc/html/api/proveit.ExprTuple.html\">ExprTuple</a>\n",
    "=======================\n",
    "# from the theory of <a class=\"ProveItLink\" href=\"../../../_theory_nbs_/theory.ipynb\">proveit.physics.quantum</a>"
   ]
  },
  {
   "cell_type": "code",
   "execution_count": 1,
   "metadata": {},
   "outputs": [],
   "source": [
    "import proveit\n",
    "# Automation is not needed when building an expression:\n",
    "proveit.defaults.automation = False # This will speed things up.\n",
    "proveit.defaults.inline_pngs = False # Makes files smaller.\n",
    "%load_expr # Load the stored expression as 'stored_expr'\n",
    "# import Expression classes needed to build the expression\n",
    "from proveit import ExprArray, ExprRange, ExprTuple, i, j, m, q\n",
    "from proveit.core_expr_types.expr_arrays import Aij, Sij\n",
    "from proveit.numbers import one\n",
    "from proveit.physics.quantum.circuit import Circuit, MultiQubitGate"
   ]
  },
  {
   "cell_type": "code",
   "execution_count": 2,
   "metadata": {},
   "outputs": [
    {
     "data": {
      "text/html": [
       "<strong id=\"expr\">expr:</strong> <a class=\"ProveItLink\" href=\"expr.ipynb\"><img src=\"expr.png\" style=\"display:inline;vertical-align:middle;\" /></a><br>"
      ],
      "text/plain": [
       "expr: ( MultiQubitGate(A_{1, 1}, S_{1, 1})  & ..MultiQubitGate(A_{1, j}, S_{1, j})..  & MultiQubitGate(A_{1, m}, S_{1, m})   \\\\ \n",
       "   \\colon  & \\colon  & \\colon   \\\\ \n",
       "   MultiQubitGate(A_{i, 1}, S_{i, 1})  & ..MultiQubitGate(A_{i, j}, S_{i, j})..  & MultiQubitGate(A_{i, m}, S_{i, m})   \\\\ \n",
       "   \\colon  & \\colon  & \\colon   \\\\ \n",
       "   MultiQubitGate(A_{q, 1}, S_{q, 1})  & ..MultiQubitGate(A_{q, j}, S_{q, j})..  & MultiQubitGate(A_{q, m}, S_{q, m}),  MultiQubitGate(A_{1, 1}, S_{1, 1})  & ..MultiQubitGate(A_{1, j}, S_{1, j})..  & MultiQubitGate(A_{1, m}, S_{1, m})   \\\\ \n",
       "   \\colon  & \\colon  & \\colon   \\\\ \n",
       "   MultiQubitGate(A_{i, 1}, S_{i, 1})  & ..MultiQubitGate(A_{i, j}, S_{i, j})..  & MultiQubitGate(A_{i, m}, S_{i, m})   \\\\ \n",
       "   \\colon  & \\colon  & \\colon   \\\\ \n",
       "   MultiQubitGate(A_{q, 1}, S_{q, 1})  & ..MultiQubitGate(A_{q, j}, S_{q, j})..  & MultiQubitGate(A_{q, m}, S_{q, m}))"
      ]
     },
     "execution_count": 2,
     "metadata": {},
     "output_type": "execute_result"
    }
   ],
   "source": [
    "# build up the expression from sub-expressions\n",
    "sub_expr1 = Circuit(ExprArray(ExprRange(i, [ExprRange(j, MultiQubitGate(Aij, Sij), one, m)], one, q)))\n",
    "expr = ExprTuple(sub_expr1, sub_expr1)"
   ]
  },
  {
   "cell_type": "code",
   "execution_count": 3,
   "metadata": {},
   "outputs": [
    {
     "name": "stdout",
     "output_type": "stream",
     "text": [
      "Passed sanity check: expr matches stored_expr\n"
     ]
    }
   ],
   "source": [
    "# check that the built expression is the same as the stored expression\n",
    "assert expr == stored_expr\n",
    "assert expr._style_id == stored_expr._style_id\n",
    "print(\"Passed sanity check: expr matches stored_expr\")"
   ]
  },
  {
   "cell_type": "code",
   "execution_count": 4,
   "metadata": {},
   "outputs": [
    {
     "name": "stdout",
     "output_type": "stream",
     "text": [
      "\\left(\\hspace{2em} \\Qcircuit@C=1em @R=.7em{\n",
      "& \\gate{A_{1, 1}{\\Big \\{} S_{1, 1}} \\qwx[1] & \\gate{\\cdots} \\qwx[1] & \\gate{A_{1, m}{\\Big \\{} S_{1, m}} \\qwx[1]   \\\\ \n",
      "  & \\gate{\\vdots} \\qwx[1] & \\gate{A_{i, j}{\\Big \\{} S_{i, j}} \\qwx[1] & \\gate{\\vdots} \\qwx[1]   \\\\ \n",
      "  & \\gate{A_{q, 1}{\\Big \\{} S_{q, 1}} & \\gate{\\cdots} & \\gate{A_{q, m}{\\Big \\{} S_{q, m}} \n",
      "} \\hspace{2em}, \\hspace{2em} \\Qcircuit@C=1em @R=.7em{\n",
      "& \\gate{A_{1, 1}{\\Big \\{} S_{1, 1}} \\qwx[1] & \\gate{\\cdots} \\qwx[1] & \\gate{A_{1, m}{\\Big \\{} S_{1, m}} \\qwx[1]   \\\\ \n",
      "  & \\gate{\\vdots} \\qwx[1] & \\gate{A_{i, j}{\\Big \\{} S_{i, j}} \\qwx[1] & \\gate{\\vdots} \\qwx[1]   \\\\ \n",
      "  & \\gate{A_{q, 1}{\\Big \\{} S_{q, 1}} & \\gate{\\cdots} & \\gate{A_{q, m}{\\Big \\{} S_{q, m}} \n",
      "} \\hspace{2em}\\right)\n"
     ]
    }
   ],
   "source": [
    "# Show the LaTeX representation of the expression for convenience if you need it.\n",
    "print(expr.latex())"
   ]
  },
  {
   "cell_type": "code",
   "execution_count": 5,
   "metadata": {},
   "outputs": [
    {
     "data": {
      "text/html": [
       "<table><tr><th>&nbsp;</th><th>core type</th><th>sub-expressions</th><th>expression</th></tr>\n",
       "<tr><td>0</td><td>ExprTuple</td><td>1, 1</td><td><a class=\"ProveItLink\" href=\"expr.ipynb\"><img src=\"expr.png\" style=\"display:inline;vertical-align:middle;\" /></a></td></tr>\n",
       "<tr><td>1</td><td>Operation</td><td>operator:&nbsp;2<br>operand:&nbsp;4<br></td><td><a class=\"ProveItLink\" href=\"../2d2b6a4567b4a4ea4c3823a0bd7c12ae5deb8bc70/expr.ipynb\"><img src=\"../2d2b6a4567b4a4ea4c3823a0bd7c12ae5deb8bc70/expr.png\" style=\"display:inline;vertical-align:middle;\" /></a></td></tr>\n",
       "<tr><td>2</td><td>Literal</td><td></td><td><a class=\"ProveItLink\" href=\"../../common/409f940d39947a3c17092974bfa20c1d4da6996c0/expr.ipynb\"><img src=\"../../common/409f940d39947a3c17092974bfa20c1d4da6996c0/expr.png\" style=\"display:inline;vertical-align:middle;\" /></a></td></tr>\n",
       "<tr><td>3</td><td>ExprTuple</td><td>4</td><td><a class=\"ProveItLink\" href=\"../584b9ff894c693deb4c8ffbb54e0393dca16a5b20/expr.ipynb\"><img src=\"../584b9ff894c693deb4c8ffbb54e0393dca16a5b20/expr.png\" style=\"display:inline;vertical-align:middle;\" /></a></td></tr>\n",
       "<tr><td>4</td><td>ExprTuple</td><td>5</td><td><a class=\"ProveItLink\" href=\"../973aeccbe4821109e84d649c820ab98ccca9a1cc0/expr.ipynb\"><img src=\"../973aeccbe4821109e84d649c820ab98ccca9a1cc0/expr.png\" style=\"display:inline;vertical-align:middle;\" /></a></td></tr>\n",
       "<tr><td>5</td><td>ExprRange</td><td>lambda_map:&nbsp;6<br>start_index:&nbsp;11<br>end_index:&nbsp;7<br></td><td><a class=\"ProveItLink\" href=\"../03cbfef8b96a37d64e9f846ec198c799c7e176f80/expr.ipynb\"><img src=\"../03cbfef8b96a37d64e9f846ec198c799c7e176f80/expr.png\" style=\"display:inline;vertical-align:middle;\" /></a></td></tr>\n",
       "<tr><td>6</td><td>Lambda</td><td>parameter:&nbsp;21<br>body:&nbsp;8<br></td><td><a class=\"ProveItLink\" href=\"../0c1689d60da8d195916637a095fcf30eeef548af0/expr.ipynb\"><img src=\"../0c1689d60da8d195916637a095fcf30eeef548af0/expr.png\" style=\"display:inline;vertical-align:middle;\" /></a></td></tr>\n",
       "<tr><td>7</td><td>Variable</td><td></td><td><a class=\"ProveItLink\" href=\"../../../../../__pv_it/common/e94b28ab65b49707a4f3bf26580dfe7bba3eebd90/expr.ipynb\"><img src=\"../../../../../__pv_it/common/e94b28ab65b49707a4f3bf26580dfe7bba3eebd90/expr.png\" style=\"display:inline;vertical-align:middle;\" /></a></td></tr>\n",
       "<tr><td>8</td><td>ExprTuple</td><td>9</td><td><a class=\"ProveItLink\" href=\"../564e6b533701cce322b976d3f7763fe7a87de8f50/expr.ipynb\"><img src=\"../564e6b533701cce322b976d3f7763fe7a87de8f50/expr.png\" style=\"display:inline;vertical-align:middle;\" /></a></td></tr>\n",
       "<tr><td>9</td><td>ExprRange</td><td>lambda_map:&nbsp;10<br>start_index:&nbsp;11<br>end_index:&nbsp;12<br></td><td><a class=\"ProveItLink\" href=\"../7a2a5ff53ea4a823410ad0c532966befc54d2caa0/expr.ipynb\"><img src=\"../7a2a5ff53ea4a823410ad0c532966befc54d2caa0/expr.png\" style=\"display:inline;vertical-align:middle;\" /></a></td></tr>\n",
       "<tr><td>10</td><td>Lambda</td><td>parameter:&nbsp;22<br>body:&nbsp;13<br></td><td><a class=\"ProveItLink\" href=\"../1a27ec65aab36e0bf4c6730177097b35df3841b20/expr.ipynb\"><img src=\"../1a27ec65aab36e0bf4c6730177097b35df3841b20/expr.png\" style=\"display:inline;vertical-align:middle;\" /></a></td></tr>\n",
       "<tr><td>11</td><td>Literal</td><td></td><td><a class=\"ProveItLink\" href=\"../../../../../numbers/numerals/__pv_it/common/2778428c7f555b2bdc06aa0530bc142c6e6335100/expr.ipynb\"><img src=\"../../../../../numbers/numerals/__pv_it/common/2778428c7f555b2bdc06aa0530bc142c6e6335100/expr.png\" style=\"display:inline;vertical-align:middle;\" /></a></td></tr>\n",
       "<tr><td>12</td><td>Variable</td><td></td><td><a class=\"ProveItLink\" href=\"../../../../../__pv_it/common/674a03b9c3ca221b3aabd5636837b31528ff33830/expr.ipynb\"><img src=\"../../../../../__pv_it/common/674a03b9c3ca221b3aabd5636837b31528ff33830/expr.png\" style=\"display:inline;vertical-align:middle;\" /></a></td></tr>\n",
       "<tr><td>13</td><td>Operation</td><td>operator:&nbsp;14<br>operands:&nbsp;15<br></td><td><a class=\"ProveItLink\" href=\"../7afc8beabb93c914c2415c036ade5a09695fb9d40/expr.ipynb\"><img src=\"../7afc8beabb93c914c2415c036ade5a09695fb9d40/expr.png\" style=\"display:inline;vertical-align:middle;\" /></a></td></tr>\n",
       "<tr><td>14</td><td>Literal</td><td></td><td><a class=\"ProveItLink\" href=\"../../common/7e400d333e3c53d1c3dd14244e4b33f4cea327190/expr.ipynb\"><img src=\"../../common/7e400d333e3c53d1c3dd14244e4b33f4cea327190/expr.png\" style=\"display:inline;vertical-align:middle;\" /></a></td></tr>\n",
       "<tr><td>15</td><td>ExprTuple</td><td>16, 17</td><td><a class=\"ProveItLink\" href=\"../bd9f1a73ebb5ccf1bf64d4d0483e94a11a74486f0/expr.ipynb\"><img src=\"../bd9f1a73ebb5ccf1bf64d4d0483e94a11a74486f0/expr.png\" style=\"display:inline;vertical-align:middle;\" /></a></td></tr>\n",
       "<tr><td>16</td><td>IndexedVar</td><td>variable:&nbsp;18<br>indices:&nbsp;20<br></td><td><a class=\"ProveItLink\" href=\"../../../../../core_expr_types/expr_arrays/__pv_it/common/bf871180f6c3ac509a4191f5fbec465b8d91a2170/expr.ipynb\"><img src=\"../../../../../core_expr_types/expr_arrays/__pv_it/common/bf871180f6c3ac509a4191f5fbec465b8d91a2170/expr.png\" style=\"display:inline;vertical-align:middle;\" /></a></td></tr>\n",
       "<tr><td>17</td><td>IndexedVar</td><td>variable:&nbsp;19<br>indices:&nbsp;20<br></td><td><a class=\"ProveItLink\" href=\"../../../../../core_expr_types/expr_arrays/__pv_it/common/1411268a267850aa26fefb6da45cdf12e196f6f00/expr.ipynb\"><img src=\"../../../../../core_expr_types/expr_arrays/__pv_it/common/1411268a267850aa26fefb6da45cdf12e196f6f00/expr.png\" style=\"display:inline;vertical-align:middle;\" /></a></td></tr>\n",
       "<tr><td>18</td><td>Variable</td><td></td><td><a class=\"ProveItLink\" href=\"../../../../../__pv_it/common/09585084922504426caf1db2ff588a23a0932a960/expr.ipynb\"><img src=\"../../../../../__pv_it/common/09585084922504426caf1db2ff588a23a0932a960/expr.png\" style=\"display:inline;vertical-align:middle;\" /></a></td></tr>\n",
       "<tr><td>19</td><td>Variable</td><td></td><td><a class=\"ProveItLink\" href=\"../../../../../__pv_it/common/38f47c5670ea8c5b56253448e95d8afb56bc09b40/expr.ipynb\"><img src=\"../../../../../__pv_it/common/38f47c5670ea8c5b56253448e95d8afb56bc09b40/expr.png\" style=\"display:inline;vertical-align:middle;\" /></a></td></tr>\n",
       "<tr><td>20</td><td>ExprTuple</td><td>21, 22</td><td><a class=\"ProveItLink\" href=\"../../../../../core_expr_types/expr_arrays/__pv_it/common/8089472df1a928dd45ace3fd9d98b01b2f1756ad0/expr.ipynb\"><img src=\"../../../../../core_expr_types/expr_arrays/__pv_it/common/8089472df1a928dd45ace3fd9d98b01b2f1756ad0/expr.png\" style=\"display:inline;vertical-align:middle;\" /></a></td></tr>\n",
       "<tr><td>21</td><td>Variable</td><td></td><td><a class=\"ProveItLink\" href=\"../../../../../__pv_it/common/ae955345c83abf786c3aff8681cd5465beae262d0/expr.ipynb\"><img src=\"../../../../../__pv_it/common/ae955345c83abf786c3aff8681cd5465beae262d0/expr.png\" style=\"display:inline;vertical-align:middle;\" /></a></td></tr>\n",
       "<tr><td>22</td><td>Variable</td><td></td><td><a class=\"ProveItLink\" href=\"../../../../../__pv_it/common/1ed21df18baca2f42b561a7ffbf30a2743d594650/expr.ipynb\"><img src=\"../../../../../__pv_it/common/1ed21df18baca2f42b561a7ffbf30a2743d594650/expr.png\" style=\"display:inline;vertical-align:middle;\" /></a></td></tr>\n",
       "</table>\n"
      ],
      "text/plain": [
       "0. ( MultiQubitGate(A_{1, 1}, S_{1, 1})  & ..MultiQubitGate(A_{1, j}, S_{1, j})..  & MultiQubitGate(A_{1, m}, S_{1, m})   \\\\ \n",
       "   \\colon  & \\colon  & \\colon   \\\\ \n",
       "   MultiQubitGate(A_{i, 1}, S_{i, 1})  & ..MultiQubitGate(A_{i, j}, S_{i, j})..  & MultiQubitGate(A_{i, m}, S_{i, m})   \\\\ \n",
       "   \\colon  & \\colon  & \\colon   \\\\ \n",
       "   MultiQubitGate(A_{q, 1}, S_{q, 1})  & ..MultiQubitGate(A_{q, j}, S_{q, j})..  & MultiQubitGate(A_{q, m}, S_{q, m}),  MultiQubitGate(A_{1, 1}, S_{1, 1})  & ..MultiQubitGate(A_{1, j}, S_{1, j})..  & MultiQubitGate(A_{1, m}, S_{1, m})   \\\\ \n",
       "   \\colon  & \\colon  & \\colon   \\\\ \n",
       "   MultiQubitGate(A_{i, 1}, S_{i, 1})  & ..MultiQubitGate(A_{i, j}, S_{i, j})..  & MultiQubitGate(A_{i, m}, S_{i, m})   \\\\ \n",
       "   \\colon  & \\colon  & \\colon   \\\\ \n",
       "   MultiQubitGate(A_{q, 1}, S_{q, 1})  & ..MultiQubitGate(A_{q, j}, S_{q, j})..  & MultiQubitGate(A_{q, m}, S_{q, m}))\n",
       "   core type: ExprTuple\n",
       "   sub-expressions: 1, 1\n",
       "1.  MultiQubitGate(A_{1, 1}, S_{1, 1})  & ..MultiQubitGate(A_{1, j}, S_{1, j})..  & MultiQubitGate(A_{1, m}, S_{1, m})   \\\\ \n",
       "   \\colon  & \\colon  & \\colon   \\\\ \n",
       "   MultiQubitGate(A_{i, 1}, S_{i, 1})  & ..MultiQubitGate(A_{i, j}, S_{i, j})..  & MultiQubitGate(A_{i, m}, S_{i, m})   \\\\ \n",
       "   \\colon  & \\colon  & \\colon   \\\\ \n",
       "   MultiQubitGate(A_{q, 1}, S_{q, 1})  & ..MultiQubitGate(A_{q, j}, S_{q, j})..  & MultiQubitGate(A_{q, m}, S_{q, m})\n",
       "   core type: Operation\n",
       "   operator: 2\n",
       "   operand: 4\n",
       "2. CIRCUIT\n",
       "   core type: Literal\n",
       "   sub-expressions: \n",
       "3. ((MultiQubitGate(A_{1, 1}, S_{1, 1}) & ..MultiQubitGate(A_{1, j}, S_{1, j}).. & MultiQubitGate(A_{1, m}, S_{1, m})  \\\\ \n",
       "  \\colon & \\colon & \\colon  \\\\ \n",
       "  MultiQubitGate(A_{i, 1}, S_{i, 1}) & ..MultiQubitGate(A_{i, j}, S_{i, j}).. & MultiQubitGate(A_{i, m}, S_{i, m})  \\\\ \n",
       "  \\colon & \\colon & \\colon  \\\\ \n",
       "  MultiQubitGate(A_{q, 1}, S_{q, 1}) & ..MultiQubitGate(A_{q, j}, S_{q, j}).. & MultiQubitGate(A_{q, m}, S_{q, m})))\n",
       "   core type: ExprTuple\n",
       "   sub-expressions: 4\n",
       "4. MultiQubitGate(A_{1, 1}, S_{1, 1}) & ..MultiQubitGate(A_{1, j}, S_{1, j}).. & MultiQubitGate(A_{1, m}, S_{1, m})  \\\\ \n",
       "  \\colon & \\colon & \\colon  \\\\ \n",
       "  MultiQubitGate(A_{i, 1}, S_{i, 1}) & ..MultiQubitGate(A_{i, j}, S_{i, j}).. & MultiQubitGate(A_{i, m}, S_{i, m})  \\\\ \n",
       "  \\colon & \\colon & \\colon  \\\\ \n",
       "  MultiQubitGate(A_{q, 1}, S_{q, 1}) & ..MultiQubitGate(A_{q, j}, S_{q, j}).. & MultiQubitGate(A_{q, m}, S_{q, m})\n",
       "   core type: ExprTuple\n",
       "   sub-expressions: 5\n",
       "5. (MultiQubitGate(A_{1, 1}, S_{1, 1}), ..MultiQubitGate(A_{1, j}, S_{1, j}).., MultiQubitGate(A_{1, m}, S_{1, m})), ..(MultiQubitGate(A_{i, 1}, S_{i, 1}), ..MultiQubitGate(A_{i, j}, S_{i, j}).., MultiQubitGate(A_{i, m}, S_{i, m})).., (MultiQubitGate(A_{q, 1}, S_{q, 1}), ..MultiQubitGate(A_{q, j}, S_{q, j}).., MultiQubitGate(A_{q, m}, S_{q, m}))\n",
       "   core type: ExprRange\n",
       "   lambda_map: 6\n",
       "   start_index: 11\n",
       "   end_index: 7\n",
       "6. i -> (MultiQubitGate(A_{i, 1}, S_{i, 1}), ..MultiQubitGate(A_{i, j}, S_{i, j}).., MultiQubitGate(A_{i, m}, S_{i, m}))\n",
       "   core type: Lambda\n",
       "   parameter: 21\n",
       "   body: 8\n",
       "7. q\n",
       "   core type: Variable\n",
       "   sub-expressions: \n",
       "8. (MultiQubitGate(A_{i, 1}, S_{i, 1}), ..MultiQubitGate(A_{i, j}, S_{i, j}).., MultiQubitGate(A_{i, m}, S_{i, m}))\n",
       "   core type: ExprTuple\n",
       "   sub-expressions: 9\n",
       "9. MultiQubitGate(A_{i, 1}, S_{i, 1}), ..MultiQubitGate(A_{i, j}, S_{i, j}).., MultiQubitGate(A_{i, m}, S_{i, m})\n",
       "   core type: ExprRange\n",
       "   lambda_map: 10\n",
       "   start_index: 11\n",
       "   end_index: 12\n",
       "10. j -> MultiQubitGate(A_{i, j}, S_{i, j})\n",
       "    core type: Lambda\n",
       "    parameter: 22\n",
       "    body: 13\n",
       "11. 1\n",
       "    core type: Literal\n",
       "    sub-expressions: \n",
       "12. m\n",
       "    core type: Variable\n",
       "    sub-expressions: \n",
       "13. MultiQubitGate(A_{i, j}, S_{i, j})\n",
       "    core type: Operation\n",
       "    operator: 14\n",
       "    operands: 15\n",
       "14. MULTI_QUBIT_GATE\n",
       "    core type: Literal\n",
       "    sub-expressions: \n",
       "15. (A_{i, j}, S_{i, j})\n",
       "    core type: ExprTuple\n",
       "    sub-expressions: 16, 17\n",
       "16. A_{i, j}\n",
       "    core type: IndexedVar\n",
       "variable: 18\n",
       "indices: 20\n",
       "17. S_{i, j}\n",
       "    core type: IndexedVar\n",
       "variable: 19\n",
       "indices: 20\n",
       "18. A\n",
       "    core type: Variable\n",
       "    sub-expressions: \n",
       "19. S\n",
       "    core type: Variable\n",
       "    sub-expressions: \n",
       "20. (i, j)\n",
       "    core type: ExprTuple\n",
       "    sub-expressions: 21, 22\n",
       "21. i\n",
       "    core type: Variable\n",
       "    sub-expressions: \n",
       "22. j\n",
       "    core type: Variable\n",
       "    sub-expressions: "
      ]
     },
     "execution_count": 5,
     "metadata": {},
     "output_type": "execute_result"
    }
   ],
   "source": [
    "# display the expression information\n",
    "expr.expr_info()"
   ]
  },
  {
   "cell_type": "code",
   "execution_count": null,
   "metadata": {},
   "outputs": [],
   "source": []
  }
 ],
 "metadata": {
  "kernelspec": {
   "display_name": "Python 3",
   "language": "python",
   "name": "python3"
  }
 },
 "nbformat": 4,
 "nbformat_minor": 0
}