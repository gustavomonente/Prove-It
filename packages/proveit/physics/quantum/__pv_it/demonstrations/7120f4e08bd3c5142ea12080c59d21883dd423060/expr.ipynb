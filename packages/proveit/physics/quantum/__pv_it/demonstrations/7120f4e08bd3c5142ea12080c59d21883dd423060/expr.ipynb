{
 "cells": [
  {
   "cell_type": "markdown",
   "metadata": {},
   "source": [
    "Expression of type <a class=\"ProveItLink\" href=\"../../../../../../../doc/html/api/proveit.ExprTuple.html\">ExprTuple</a>\n",
    "=======================\n",
    "# from the theory of <a class=\"ProveItLink\" href=\"../../../_theory_nbs_/theory.ipynb\">proveit.physics.quantum</a>"
   ]
  },
  {
   "cell_type": "code",
   "execution_count": 1,
   "metadata": {},
   "outputs": [],
   "source": [
    "import proveit\n",
    "# Automation is not needed when building an expression:\n",
    "proveit.defaults.automation = False # This will speed things up.\n",
    "proveit.defaults.inline_pngs = False # Makes files smaller.\n",
    "%load_expr # Load the stored expression as 'stored_expr'\n",
    "# import Expression classes needed to build the expression\n",
    "from proveit import ExprArray, ExprTuple\n",
    "from proveit.logic import Set\n",
    "from proveit.numbers import one\n",
    "from proveit.physics.quantum import Z\n",
    "from proveit.physics.quantum.circuit import MultiQubitGate"
   ]
  },
  {
   "cell_type": "code",
   "execution_count": 2,
   "metadata": {},
   "outputs": [
    {
     "data": {
      "text/html": [
       "<strong id=\"expr\">expr:</strong> <a class=\"ProveItLink\" href=\"expr.ipynb\"><img src=\"expr.png\" style=\"display:inline;vertical-align:middle;\" /></a><br>"
      ],
      "text/plain": [
       "expr: ((MultiQubitGate(Z, {1})))"
      ]
     },
     "execution_count": 2,
     "metadata": {},
     "output_type": "execute_result"
    }
   ],
   "source": [
    "# build up the expression from sub-expressions\n",
    "expr = ExprTuple(ExprArray([MultiQubitGate(Z, Set(one))]))"
   ]
  },
  {
   "cell_type": "code",
   "execution_count": 3,
   "metadata": {},
   "outputs": [
    {
     "name": "stdout",
     "output_type": "stream",
     "text": [
      "Passed sanity check: expr matches stored_expr\n"
     ]
    }
   ],
   "source": [
    "# check that the built expression is the same as the stored expression\n",
    "assert expr == stored_expr\n",
    "assert expr._style_id == stored_expr._style_id\n",
    "print(\"Passed sanity check: expr matches stored_expr\")"
   ]
  },
  {
   "cell_type": "code",
   "execution_count": 4,
   "metadata": {},
   "outputs": [
    {
     "name": "stdout",
     "output_type": "stream",
     "text": [
      "\\left(\\left(\\begin{array} {c} \n",
      " \\hspace{2em} \\Qcircuit@C=1em @R=.7em{\n",
      "& \\gate{Z{\\Big \\{} \\left\\{1\\right\\}} \n",
      "} \\hspace{2em} \\end{array} \n",
      "\\right)\\right)\n"
     ]
    }
   ],
   "source": [
    "# Show the LaTeX representation of the expression for convenience if you need it.\n",
    "print(expr.latex())"
   ]
  },
  {
   "cell_type": "code",
   "execution_count": 5,
   "metadata": {},
   "outputs": [
    {
     "data": {
      "text/html": [
       "no style options"
      ],
      "text/plain": [
       "no style options"
      ]
     },
     "execution_count": 5,
     "metadata": {},
     "output_type": "execute_result"
    }
   ],
   "source": [
    "expr.style_options()"
   ]
  },
  {
   "cell_type": "code",
   "execution_count": 6,
   "metadata": {},
   "outputs": [
    {
     "data": {
      "text/html": [
       "<table><tr><th>&nbsp;</th><th>core type</th><th>sub-expressions</th><th>expression</th></tr>\n",
       "<tr><td>0</td><td>ExprTuple</td><td>1</td><td><a class=\"ProveItLink\" href=\"expr.ipynb\"><img src=\"expr.png\" style=\"display:inline;vertical-align:middle;\" /></a></td></tr>\n",
       "<tr><td>1</td><td>ExprTuple</td><td>2</td><td><a class=\"ProveItLink\" href=\"../215520f939ea3ce1ec76354da4d3719fed426ccb0/expr.ipynb\"><img src=\"../215520f939ea3ce1ec76354da4d3719fed426ccb0/expr.png\" style=\"display:inline;vertical-align:middle;\" /></a></td></tr>\n",
       "<tr><td>2</td><td>ExprTuple</td><td>3</td><td><a class=\"ProveItLink\" href=\"../94d27c0a9acaf866b2a14a1d4884cd8271f9f27e0/expr.ipynb\"><img src=\"../94d27c0a9acaf866b2a14a1d4884cd8271f9f27e0/expr.png\" style=\"display:inline;vertical-align:middle;\" /></a></td></tr>\n",
       "<tr><td>3</td><td>Operation</td><td>operator:&nbsp;4<br>operands:&nbsp;5<br></td><td><a class=\"ProveItLink\" href=\"../309349533d22a1521b1c40a4ceaee6a6f64c61180/expr.ipynb\"><img src=\"../309349533d22a1521b1c40a4ceaee6a6f64c61180/expr.png\" style=\"display:inline;vertical-align:middle;\" /></a></td></tr>\n",
       "<tr><td>4</td><td>Literal</td><td></td><td><a class=\"ProveItLink\" href=\"../../common/38deceb0a69e80c36399d725649803706802a2a90/expr.ipynb\"><img src=\"../../common/38deceb0a69e80c36399d725649803706802a2a90/expr.png\" style=\"display:inline;vertical-align:middle;\" /></a></td></tr>\n",
       "<tr><td>5</td><td>ExprTuple</td><td>6, 7</td><td><a class=\"ProveItLink\" href=\"../ef1ec221ad6f242f6f7e2ca6f8f1a81bef1261720/expr.ipynb\"><img src=\"../ef1ec221ad6f242f6f7e2ca6f8f1a81bef1261720/expr.png\" style=\"display:inline;vertical-align:middle;\" /></a></td></tr>\n",
       "<tr><td>6</td><td>Literal</td><td></td><td><a class=\"ProveItLink\" href=\"../../common/c9c8328efedcafef6f2fc9fe107a9c89fd772b250/expr.ipynb\"><img src=\"../../common/c9c8328efedcafef6f2fc9fe107a9c89fd772b250/expr.png\" style=\"display:inline;vertical-align:middle;\" /></a></td></tr>\n",
       "<tr><td>7</td><td>Operation</td><td>operator:&nbsp;8<br>operand:&nbsp;10<br></td><td><a class=\"ProveItLink\" href=\"../985356546329e074f800c33c802daf78284f89ad0/expr.ipynb\"><img src=\"../985356546329e074f800c33c802daf78284f89ad0/expr.png\" style=\"display:inline;vertical-align:middle;\" /></a></td></tr>\n",
       "<tr><td>8</td><td>Literal</td><td></td><td><a class=\"ProveItLink\" href=\"../../../../../logic/sets/enumeration/__pv_it/common/f7caf702081f903a6ea3d95d680568dd78698f5a0/expr.ipynb\"><img src=\"../../../../../logic/sets/enumeration/__pv_it/common/f7caf702081f903a6ea3d95d680568dd78698f5a0/expr.png\" style=\"display:inline;vertical-align:middle;\" /></a></td></tr>\n",
       "<tr><td>9</td><td>ExprTuple</td><td>10</td><td><a class=\"ProveItLink\" href=\"../../common/983fb1abdb7789966ec8b7afe0d4f7ca8578c9e50/expr.ipynb\"><img src=\"../../common/983fb1abdb7789966ec8b7afe0d4f7ca8578c9e50/expr.png\" style=\"display:inline;vertical-align:middle;\" /></a></td></tr>\n",
       "<tr><td>10</td><td>Literal</td><td></td><td><a class=\"ProveItLink\" href=\"../../../../../numbers/numerals/__pv_it/common/d278e359da0695d9652dd541d45264f93703e2e40/expr.ipynb\"><img src=\"../../../../../numbers/numerals/__pv_it/common/d278e359da0695d9652dd541d45264f93703e2e40/expr.png\" style=\"display:inline;vertical-align:middle;\" /></a></td></tr>\n",
       "</table>\n"
      ],
      "text/plain": [
       "0. ((MultiQubitGate(Z, {1})))\n",
       "   core type: ExprTuple\n",
       "   sub-expressions: 1\n",
       "1. MultiQubitGate(Z, {1})\n",
       "   core type: ExprTuple\n",
       "   sub-expressions: 2\n",
       "2. (MultiQubitGate(Z, {1}))\n",
       "   core type: ExprTuple\n",
       "   sub-expressions: 3\n",
       "3. MultiQubitGate(Z, {1})\n",
       "   core type: Operation\n",
       "   operator: 4\n",
       "   operands: 5\n",
       "4. MULTI_QUBIT_GATE\n",
       "   core type: Literal\n",
       "   sub-expressions: \n",
       "5. (Z, {1})\n",
       "   core type: ExprTuple\n",
       "   sub-expressions: 6, 7\n",
       "6. Z\n",
       "   core type: Literal\n",
       "   sub-expressions: \n",
       "7. {1}\n",
       "   core type: Operation\n",
       "   operator: 8\n",
       "   operand: 10\n",
       "8. Set\n",
       "   core type: Literal\n",
       "   sub-expressions: \n",
       "9. (1)\n",
       "   core type: ExprTuple\n",
       "   sub-expressions: 10\n",
       "10. 1\n",
       "    core type: Literal\n",
       "    sub-expressions: "
      ]
     },
     "execution_count": 6,
     "metadata": {},
     "output_type": "execute_result"
    }
   ],
   "source": [
    "# display the expression information\n",
    "expr.expr_info()"
   ]
  },
  {
   "cell_type": "code",
   "execution_count": null,
   "metadata": {},
   "outputs": [],
   "source": []
  }
 ],
 "metadata": {
  "kernelspec": {
   "display_name": "Python 3",
   "language": "python",
   "name": "python3"
  }
 },
 "nbformat": 4,
 "nbformat_minor": 0
}