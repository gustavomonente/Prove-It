{
 "cells": [
  {
   "cell_type": "markdown",
   "metadata": {},
   "source": [
    "Expression of type <a class=\"ProveItLink\" href=\"../../../../../../../doc/html/api/proveit.ExprTuple.html\">ExprTuple</a>\n",
    "=======================\n",
    "# from the theory of <a class=\"ProveItLink\" href=\"../../../_theory_nbs_/theory.ipynb\">proveit.physics.quantum</a>"
   ]
  },
  {
   "cell_type": "code",
   "execution_count": 1,
   "metadata": {},
   "outputs": [],
   "source": [
    "import proveit\n",
    "# Automation is not needed when building an expression:\n",
    "proveit.defaults.automation = False # This will speed things up.\n",
    "proveit.defaults.inline_pngs = False # Makes files smaller.\n",
    "%load_expr # Load the stored expression as 'stored_expr'\n",
    "# import Expression classes needed to build the expression\n",
    "from proveit import ExprArray, ExprTuple\n",
    "from proveit.logic import Set\n",
    "from proveit.numbers import one\n",
    "from proveit.physics.quantum import H, SPACE, X, Z\n",
    "from proveit.physics.quantum.circuit import Circuit, CircuitEquiv, MultiQubitGate"
   ]
  },
  {
   "cell_type": "code",
   "execution_count": 2,
   "metadata": {},
   "outputs": [
    {
     "data": {
      "text/html": [
       "<strong id=\"expr\">expr:</strong> <a class=\"ProveItLink\" href=\"expr.ipynb\"><img src=\"expr.png\" style=\"display:inline;vertical-align:middle;\" /></a><br>"
      ],
      "text/plain": [
       "expr: ( MultiQubitGate(H, {1})  & MultiQubitGate(X, {1})  & MultiQubitGate(H, {1}) equiv  MultiQubitGate(SPACE, {1})  & MultiQubitGate(X, {1})  & MultiQubitGate(SPACE, {1}),  MultiQubitGate(Z, {1})  & MultiQubitGate(H, {1})  & MultiQubitGate(X, {1})  & MultiQubitGate(H, {1})  & MultiQubitGate(Z, {1}) equiv  MultiQubitGate(Z, {1})  & MultiQubitGate(SPACE, {1})  & MultiQubitGate(X, {1})  & MultiQubitGate(SPACE, {1})  & MultiQubitGate(Z, {1}))"
      ]
     },
     "execution_count": 2,
     "metadata": {},
     "output_type": "execute_result"
    }
   ],
   "source": [
    "# build up the expression from sub-expressions\n",
    "sub_expr1 = Set(one)\n",
    "sub_expr2 = MultiQubitGate(H, sub_expr1)\n",
    "sub_expr3 = MultiQubitGate(X, sub_expr1)\n",
    "sub_expr4 = MultiQubitGate(SPACE, sub_expr1)\n",
    "sub_expr5 = MultiQubitGate(Z, sub_expr1)\n",
    "expr = ExprTuple(CircuitEquiv(Circuit(ExprArray([sub_expr2, sub_expr3, sub_expr2])), Circuit(ExprArray([sub_expr4, sub_expr3, sub_expr4]))), CircuitEquiv(Circuit(ExprArray([sub_expr5, sub_expr2, sub_expr3, sub_expr2, sub_expr5])), Circuit(ExprArray([sub_expr5, sub_expr4, sub_expr3, sub_expr4, sub_expr5]))))"
   ]
  },
  {
   "cell_type": "code",
   "execution_count": 3,
   "metadata": {},
   "outputs": [
    {
     "name": "stdout",
     "output_type": "stream",
     "text": [
      "Passed sanity check: expr matches stored_expr\n"
     ]
    }
   ],
   "source": [
    "# check that the built expression is the same as the stored expression\n",
    "assert expr == stored_expr\n",
    "assert expr._style_id == stored_expr._style_id\n",
    "print(\"Passed sanity check: expr matches stored_expr\")"
   ]
  },
  {
   "cell_type": "code",
   "execution_count": 4,
   "metadata": {},
   "outputs": [
    {
     "name": "stdout",
     "output_type": "stream",
     "text": [
      "\\left(\\hspace{2em} \\Qcircuit@C=1em @R=.7em{\n",
      "& \\gate{H{\\Big \\{} \\left\\{1\\right\\}} & \\gate{X{\\Big \\{} \\left\\{1\\right\\}} & \\gate{H{\\Big \\{} \\left\\{1\\right\\}} \n",
      "} \\hspace{2em} \\cong \\hspace{2em} \\Qcircuit@C=1em @R=.7em{\n",
      "& \\gate{X{\\Big \\{} \\left\\{1\\right\\}} \n",
      "} \\hspace{2em}, \\hspace{2em} \\Qcircuit@C=1em @R=.7em{\n",
      "& \\gate{Z{\\Big \\{} \\left\\{1\\right\\}} & \\gate{H{\\Big \\{} \\left\\{1\\right\\}} & \\gate{X{\\Big \\{} \\left\\{1\\right\\}} & \\gate{H{\\Big \\{} \\left\\{1\\right\\}} & \\gate{Z{\\Big \\{} \\left\\{1\\right\\}} \n",
      "} \\hspace{2em} \\cong \\hspace{2em} \\Qcircuit@C=1em @R=.7em{\n",
      "& \\gate{Z{\\Big \\{} \\left\\{1\\right\\}} & \\gate{X{\\Big \\{} \\left\\{1\\right\\}} & \\gate{Z{\\Big \\{} \\left\\{1\\right\\}} \n",
      "} \\hspace{2em}\\right)\n"
     ]
    }
   ],
   "source": [
    "# Show the LaTeX representation of the expression for convenience if you need it.\n",
    "print(expr.latex())"
   ]
  },
  {
   "cell_type": "code",
   "execution_count": 5,
   "metadata": {},
   "outputs": [
    {
     "data": {
      "text/html": [
       "<table>\n",
       "<tr><th>name</th><th>description</th><th>default</th><th>current value</th><th>related methods</th></tr><tr><td>wrap_positions</td><td>position(s) at which wrapping is to occur; 'n' is after the nth comma.</td><td>()</td><td>()</td><td>('with_wrapping_at',)</td></tr>\n",
       "<tr><td>justification</td><td>if any wrap positions are set, justify to the 'left', 'center', or 'right'</td><td>left</td><td>left</td><td>('with_justification',)</td></tr>\n",
       "</table>\n"
      ],
      "text/plain": [
       "style name: wrap_positions\n",
       "description: position(s) at which wrapping is to occur; 'n' is after the nth comma.\n",
       "default: ()\n",
       "current value: ()\n",
       "related methods: ('with_wrapping_at',)\n",
       "style name: justification\n",
       "description: if any wrap positions are set, justify to the 'left', 'center', or 'right'\n",
       "default: left\n",
       "current value: left\n",
       "related methods: ('with_justification',)"
      ]
     },
     "execution_count": 5,
     "metadata": {},
     "output_type": "execute_result"
    }
   ],
   "source": [
    "expr.style_options()"
   ]
  },
  {
   "cell_type": "code",
   "execution_count": 6,
   "metadata": {},
   "outputs": [
    {
     "data": {
      "text/html": [
       "<table><tr><th>&nbsp;</th><th>core type</th><th>sub-expressions</th><th>expression</th></tr>\n",
       "<tr><td>0</td><td>ExprTuple</td><td>1, 2</td><td><a class=\"ProveItLink\" href=\"expr.ipynb\"><img src=\"expr.png\" style=\"display:inline;vertical-align:middle;\" /></a></td></tr>\n",
       "<tr><td>1</td><td>Operation</td><td>operator:&nbsp;4<br>operands:&nbsp;3<br></td><td><a class=\"ProveItLink\" href=\"../ee1afa34259943a6c8a5cfcc60d0b1735d1851750/expr.ipynb\"><img src=\"../ee1afa34259943a6c8a5cfcc60d0b1735d1851750/expr.png\" style=\"display:inline;vertical-align:middle;\" /></a></td></tr>\n",
       "<tr><td>2</td><td>Operation</td><td>operator:&nbsp;4<br>operands:&nbsp;5<br></td><td><a class=\"ProveItLink\" href=\"../0b096b31d3327ec35ebf37c0b72afa80dd62d4750/expr.ipynb\"><img src=\"../0b096b31d3327ec35ebf37c0b72afa80dd62d4750/expr.png\" style=\"display:inline;vertical-align:middle;\" /></a></td></tr>\n",
       "<tr><td>3</td><td>ExprTuple</td><td>6, 7</td><td><a class=\"ProveItLink\" href=\"../feea5854a08e5736e671bbf4e359106b5b12ecbc0/expr.ipynb\"><img src=\"../feea5854a08e5736e671bbf4e359106b5b12ecbc0/expr.png\" style=\"display:inline;vertical-align:middle;\" /></a></td></tr>\n",
       "<tr><td>4</td><td>Literal</td><td></td><td><a class=\"ProveItLink\" href=\"../../common/0b9aa3c8024dab4294c5a1714db64eed0eeab1cc0/expr.ipynb\"><img src=\"../../common/0b9aa3c8024dab4294c5a1714db64eed0eeab1cc0/expr.png\" style=\"display:inline;vertical-align:middle;\" /></a></td></tr>\n",
       "<tr><td>5</td><td>ExprTuple</td><td>8, 9</td><td><a class=\"ProveItLink\" href=\"../e63aa97962d20a696c1581a48f6e8799f0ed9e8f0/expr.ipynb\"><img src=\"../e63aa97962d20a696c1581a48f6e8799f0ed9e8f0/expr.png\" style=\"display:inline;vertical-align:middle;\" /></a></td></tr>\n",
       "<tr><td>6</td><td>Operation</td><td>operator:&nbsp;13<br>operand:&nbsp;15<br></td><td><a class=\"ProveItLink\" href=\"../d1298da00b5ef7bff0fc964b25fd3b6332a34f520/expr.ipynb\"><img src=\"../d1298da00b5ef7bff0fc964b25fd3b6332a34f520/expr.png\" style=\"display:inline;vertical-align:middle;\" /></a></td></tr>\n",
       "<tr><td>7</td><td>Operation</td><td>operator:&nbsp;13<br>operand:&nbsp;16<br></td><td><a class=\"ProveItLink\" href=\"../2da6c9fa5f8933a901b28321ad1ced544055f5170/expr.ipynb\"><img src=\"../2da6c9fa5f8933a901b28321ad1ced544055f5170/expr.png\" style=\"display:inline;vertical-align:middle;\" /></a></td></tr>\n",
       "<tr><td>8</td><td>Operation</td><td>operator:&nbsp;13<br>operand:&nbsp;17<br></td><td><a class=\"ProveItLink\" href=\"../314a868d1039f8df8b9fca6a3da48f5d4f8158150/expr.ipynb\"><img src=\"../314a868d1039f8df8b9fca6a3da48f5d4f8158150/expr.png\" style=\"display:inline;vertical-align:middle;\" /></a></td></tr>\n",
       "<tr><td>9</td><td>Operation</td><td>operator:&nbsp;13<br>operand:&nbsp;18<br></td><td><a class=\"ProveItLink\" href=\"../3c75cdf4dc8f04e790199aafe075b27e970868010/expr.ipynb\"><img src=\"../3c75cdf4dc8f04e790199aafe075b27e970868010/expr.png\" style=\"display:inline;vertical-align:middle;\" /></a></td></tr>\n",
       "<tr><td>10</td><td>ExprTuple</td><td>15</td><td><a class=\"ProveItLink\" href=\"../290236e8ff8656a1f844f15f31400445183a78cb0/expr.ipynb\"><img src=\"../290236e8ff8656a1f844f15f31400445183a78cb0/expr.png\" style=\"display:inline;vertical-align:middle;\" /></a></td></tr>\n",
       "<tr><td>11</td><td>ExprTuple</td><td>16</td><td><a class=\"ProveItLink\" href=\"../c5293671545df20b629b2f76a2a6cc589026a7160/expr.ipynb\"><img src=\"../c5293671545df20b629b2f76a2a6cc589026a7160/expr.png\" style=\"display:inline;vertical-align:middle;\" /></a></td></tr>\n",
       "<tr><td>12</td><td>ExprTuple</td><td>17</td><td><a class=\"ProveItLink\" href=\"../e5a66f4fe383176e38ef79a2313d8feb8a43e1b70/expr.ipynb\"><img src=\"../e5a66f4fe383176e38ef79a2313d8feb8a43e1b70/expr.png\" style=\"display:inline;vertical-align:middle;\" /></a></td></tr>\n",
       "<tr><td>13</td><td>Literal</td><td></td><td><a class=\"ProveItLink\" href=\"../../common/bfa5cfb2e03dde2ed2a79fcd50b6e0ef7e57c1b10/expr.ipynb\"><img src=\"../../common/bfa5cfb2e03dde2ed2a79fcd50b6e0ef7e57c1b10/expr.png\" style=\"display:inline;vertical-align:middle;\" /></a></td></tr>\n",
       "<tr><td>14</td><td>ExprTuple</td><td>18</td><td><a class=\"ProveItLink\" href=\"../c97da8313def44c480659df14ed32ecbf0af8d330/expr.ipynb\"><img src=\"../c97da8313def44c480659df14ed32ecbf0af8d330/expr.png\" style=\"display:inline;vertical-align:middle;\" /></a></td></tr>\n",
       "<tr><td>15</td><td>ExprTuple</td><td>19</td><td><a class=\"ProveItLink\" href=\"../c4f5b202d5f78950b088cb4dcd050d486bf28c670/expr.ipynb\"><img src=\"../c4f5b202d5f78950b088cb4dcd050d486bf28c670/expr.png\" style=\"display:inline;vertical-align:middle;\" /></a></td></tr>\n",
       "<tr><td>16</td><td>ExprTuple</td><td>20</td><td><a class=\"ProveItLink\" href=\"../74fe330718afe735df3a9f746e4e21963d6d0d860/expr.ipynb\"><img src=\"../74fe330718afe735df3a9f746e4e21963d6d0d860/expr.png\" style=\"display:inline;vertical-align:middle;\" /></a></td></tr>\n",
       "<tr><td>17</td><td>ExprTuple</td><td>21</td><td><a class=\"ProveItLink\" href=\"../73f6e8c1fde60c327a53ec8f0e71e07f60abc3a10/expr.ipynb\"><img src=\"../73f6e8c1fde60c327a53ec8f0e71e07f60abc3a10/expr.png\" style=\"display:inline;vertical-align:middle;\" /></a></td></tr>\n",
       "<tr><td>18</td><td>ExprTuple</td><td>22</td><td><a class=\"ProveItLink\" href=\"../3eed189a406345c630960cc22fa644977c46a72b0/expr.ipynb\"><img src=\"../3eed189a406345c630960cc22fa644977c46a72b0/expr.png\" style=\"display:inline;vertical-align:middle;\" /></a></td></tr>\n",
       "<tr><td>19</td><td>ExprTuple</td><td>23, 24, 23</td><td><a class=\"ProveItLink\" href=\"../dc4b94721a398c9dcb1261d73a36369d74bb116c0/expr.ipynb\"><img src=\"../dc4b94721a398c9dcb1261d73a36369d74bb116c0/expr.png\" style=\"display:inline;vertical-align:middle;\" /></a></td></tr>\n",
       "<tr><td>20</td><td>ExprTuple</td><td>25, 24, 25</td><td><a class=\"ProveItLink\" href=\"../1a9dacab3e54754a7998fe7e1916ae28f85a8c2e0/expr.ipynb\"><img src=\"../1a9dacab3e54754a7998fe7e1916ae28f85a8c2e0/expr.png\" style=\"display:inline;vertical-align:middle;\" /></a></td></tr>\n",
       "<tr><td>21</td><td>ExprTuple</td><td>26, 23, 24, 23, 26</td><td><a class=\"ProveItLink\" href=\"../faa4810f4ee22fa9a585f2ba49dea67950e3a70b0/expr.ipynb\"><img src=\"../faa4810f4ee22fa9a585f2ba49dea67950e3a70b0/expr.png\" style=\"display:inline;vertical-align:middle;\" /></a></td></tr>\n",
       "<tr><td>22</td><td>ExprTuple</td><td>26, 25, 24, 25, 26</td><td><a class=\"ProveItLink\" href=\"../f000a70b8a355a77ba15b5c43201edc9de4136250/expr.ipynb\"><img src=\"../f000a70b8a355a77ba15b5c43201edc9de4136250/expr.png\" style=\"display:inline;vertical-align:middle;\" /></a></td></tr>\n",
       "<tr><td>23</td><td>Operation</td><td>operator:&nbsp;30<br>operands:&nbsp;27<br></td><td><a class=\"ProveItLink\" href=\"../32966f3f8512c61441baf3b07832546c0ce467f70/expr.ipynb\"><img src=\"../32966f3f8512c61441baf3b07832546c0ce467f70/expr.png\" style=\"display:inline;vertical-align:middle;\" /></a></td></tr>\n",
       "<tr><td>24</td><td>Operation</td><td>operator:&nbsp;30<br>operands:&nbsp;28<br></td><td><a class=\"ProveItLink\" href=\"../a2b143635ac1a3fbd97ddd4e04c9965dfea0adc60/expr.ipynb\"><img src=\"../a2b143635ac1a3fbd97ddd4e04c9965dfea0adc60/expr.png\" style=\"display:inline;vertical-align:middle;\" /></a></td></tr>\n",
       "<tr><td>25</td><td>Operation</td><td>operator:&nbsp;30<br>operands:&nbsp;29<br></td><td><a class=\"ProveItLink\" href=\"../87b3d11d2cf415a7e3fe14ca7aa2c2166e8c92760/expr.ipynb\"><img src=\"../87b3d11d2cf415a7e3fe14ca7aa2c2166e8c92760/expr.png\" style=\"display:inline;vertical-align:middle;\" /></a></td></tr>\n",
       "<tr><td>26</td><td>Operation</td><td>operator:&nbsp;30<br>operands:&nbsp;31<br></td><td><a class=\"ProveItLink\" href=\"../309349533d22a1521b1c40a4ceaee6a6f64c61180/expr.ipynb\"><img src=\"../309349533d22a1521b1c40a4ceaee6a6f64c61180/expr.png\" style=\"display:inline;vertical-align:middle;\" /></a></td></tr>\n",
       "<tr><td>27</td><td>ExprTuple</td><td>32, 36</td><td><a class=\"ProveItLink\" href=\"../be7c5a372aba6ff81e16a9554d4ba3be08c850910/expr.ipynb\"><img src=\"../be7c5a372aba6ff81e16a9554d4ba3be08c850910/expr.png\" style=\"display:inline;vertical-align:middle;\" /></a></td></tr>\n",
       "<tr><td>28</td><td>ExprTuple</td><td>33, 36</td><td><a class=\"ProveItLink\" href=\"../79cb2caf07ee4a5ab540b2c314c2aeb76e1e63210/expr.ipynb\"><img src=\"../79cb2caf07ee4a5ab540b2c314c2aeb76e1e63210/expr.png\" style=\"display:inline;vertical-align:middle;\" /></a></td></tr>\n",
       "<tr><td>29</td><td>ExprTuple</td><td>34, 36</td><td><a class=\"ProveItLink\" href=\"../ac17990d984faa1496e35e865e8009a89ab826d20/expr.ipynb\"><img src=\"../ac17990d984faa1496e35e865e8009a89ab826d20/expr.png\" style=\"display:inline;vertical-align:middle;\" /></a></td></tr>\n",
       "<tr><td>30</td><td>Literal</td><td></td><td><a class=\"ProveItLink\" href=\"../../common/38deceb0a69e80c36399d725649803706802a2a90/expr.ipynb\"><img src=\"../../common/38deceb0a69e80c36399d725649803706802a2a90/expr.png\" style=\"display:inline;vertical-align:middle;\" /></a></td></tr>\n",
       "<tr><td>31</td><td>ExprTuple</td><td>35, 36</td><td><a class=\"ProveItLink\" href=\"../ef1ec221ad6f242f6f7e2ca6f8f1a81bef1261720/expr.ipynb\"><img src=\"../ef1ec221ad6f242f6f7e2ca6f8f1a81bef1261720/expr.png\" style=\"display:inline;vertical-align:middle;\" /></a></td></tr>\n",
       "<tr><td>32</td><td>Literal</td><td></td><td><a class=\"ProveItLink\" href=\"../../common/368cf31b7f078f904d5478ccb332c7d15763fe920/expr.ipynb\"><img src=\"../../common/368cf31b7f078f904d5478ccb332c7d15763fe920/expr.png\" style=\"display:inline;vertical-align:middle;\" /></a></td></tr>\n",
       "<tr><td>33</td><td>Literal</td><td></td><td><a class=\"ProveItLink\" href=\"../../common/94315bad5d6fa05ec6d0fac545cf2b5b7ed20d800/expr.ipynb\"><img src=\"../../common/94315bad5d6fa05ec6d0fac545cf2b5b7ed20d800/expr.png\" style=\"display:inline;vertical-align:middle;\" /></a></td></tr>\n",
       "<tr><td>34</td><td>Literal</td><td></td><td><a class=\"ProveItLink\" href=\"../../common/6f3d5369d81d70e601a4fa4cd4f55fef8fbf88d60/expr.ipynb\"><img src=\"../../common/6f3d5369d81d70e601a4fa4cd4f55fef8fbf88d60/expr.png\" style=\"display:inline;vertical-align:middle;\" /></a></td></tr>\n",
       "<tr><td>35</td><td>Literal</td><td></td><td><a class=\"ProveItLink\" href=\"../../common/c9c8328efedcafef6f2fc9fe107a9c89fd772b250/expr.ipynb\"><img src=\"../../common/c9c8328efedcafef6f2fc9fe107a9c89fd772b250/expr.png\" style=\"display:inline;vertical-align:middle;\" /></a></td></tr>\n",
       "<tr><td>36</td><td>Operation</td><td>operator:&nbsp;37<br>operand:&nbsp;39<br></td><td><a class=\"ProveItLink\" href=\"../985356546329e074f800c33c802daf78284f89ad0/expr.ipynb\"><img src=\"../985356546329e074f800c33c802daf78284f89ad0/expr.png\" style=\"display:inline;vertical-align:middle;\" /></a></td></tr>\n",
       "<tr><td>37</td><td>Literal</td><td></td><td><a class=\"ProveItLink\" href=\"../../../../../logic/sets/enumeration/__pv_it/common/f7caf702081f903a6ea3d95d680568dd78698f5a0/expr.ipynb\"><img src=\"../../../../../logic/sets/enumeration/__pv_it/common/f7caf702081f903a6ea3d95d680568dd78698f5a0/expr.png\" style=\"display:inline;vertical-align:middle;\" /></a></td></tr>\n",
       "<tr><td>38</td><td>ExprTuple</td><td>39</td><td><a class=\"ProveItLink\" href=\"../../common/983fb1abdb7789966ec8b7afe0d4f7ca8578c9e50/expr.ipynb\"><img src=\"../../common/983fb1abdb7789966ec8b7afe0d4f7ca8578c9e50/expr.png\" style=\"display:inline;vertical-align:middle;\" /></a></td></tr>\n",
       "<tr><td>39</td><td>Literal</td><td></td><td><a class=\"ProveItLink\" href=\"../../../../../numbers/numerals/__pv_it/common/d278e359da0695d9652dd541d45264f93703e2e40/expr.ipynb\"><img src=\"../../../../../numbers/numerals/__pv_it/common/d278e359da0695d9652dd541d45264f93703e2e40/expr.png\" style=\"display:inline;vertical-align:middle;\" /></a></td></tr>\n",
       "</table>\n"
      ],
      "text/plain": [
       "0. ( MultiQubitGate(H, {1})  & MultiQubitGate(X, {1})  & MultiQubitGate(H, {1}) equiv  MultiQubitGate(SPACE, {1})  & MultiQubitGate(X, {1})  & MultiQubitGate(SPACE, {1}),  MultiQubitGate(Z, {1})  & MultiQubitGate(H, {1})  & MultiQubitGate(X, {1})  & MultiQubitGate(H, {1})  & MultiQubitGate(Z, {1}) equiv  MultiQubitGate(Z, {1})  & MultiQubitGate(SPACE, {1})  & MultiQubitGate(X, {1})  & MultiQubitGate(SPACE, {1})  & MultiQubitGate(Z, {1}))\n",
       "   core type: ExprTuple\n",
       "   sub-expressions: 1, 2\n",
       "1.  MultiQubitGate(H, {1})  & MultiQubitGate(X, {1})  & MultiQubitGate(H, {1}) equiv  MultiQubitGate(SPACE, {1})  & MultiQubitGate(X, {1})  & MultiQubitGate(SPACE, {1})\n",
       "   core type: Operation\n",
       "   operator: 4\n",
       "   operands: 3\n",
       "2.  MultiQubitGate(Z, {1})  & MultiQubitGate(H, {1})  & MultiQubitGate(X, {1})  & MultiQubitGate(H, {1})  & MultiQubitGate(Z, {1}) equiv  MultiQubitGate(Z, {1})  & MultiQubitGate(SPACE, {1})  & MultiQubitGate(X, {1})  & MultiQubitGate(SPACE, {1})  & MultiQubitGate(Z, {1})\n",
       "   core type: Operation\n",
       "   operator: 4\n",
       "   operands: 5\n",
       "3. ( MultiQubitGate(H, {1})  & MultiQubitGate(X, {1})  & MultiQubitGate(H, {1}),  MultiQubitGate(SPACE, {1})  & MultiQubitGate(X, {1})  & MultiQubitGate(SPACE, {1}))\n",
       "   core type: ExprTuple\n",
       "   sub-expressions: 6, 7\n",
       "4. equiv\n",
       "   core type: Literal\n",
       "   sub-expressions: \n",
       "5. ( MultiQubitGate(Z, {1})  & MultiQubitGate(H, {1})  & MultiQubitGate(X, {1})  & MultiQubitGate(H, {1})  & MultiQubitGate(Z, {1}),  MultiQubitGate(Z, {1})  & MultiQubitGate(SPACE, {1})  & MultiQubitGate(X, {1})  & MultiQubitGate(SPACE, {1})  & MultiQubitGate(Z, {1}))\n",
       "   core type: ExprTuple\n",
       "   sub-expressions: 8, 9\n",
       "6.  MultiQubitGate(H, {1})  & MultiQubitGate(X, {1})  & MultiQubitGate(H, {1})\n",
       "   core type: Operation\n",
       "   operator: 13\n",
       "   operand: 15\n",
       "7.  MultiQubitGate(SPACE, {1})  & MultiQubitGate(X, {1})  & MultiQubitGate(SPACE, {1})\n",
       "   core type: Operation\n",
       "   operator: 13\n",
       "   operand: 16\n",
       "8.  MultiQubitGate(Z, {1})  & MultiQubitGate(H, {1})  & MultiQubitGate(X, {1})  & MultiQubitGate(H, {1})  & MultiQubitGate(Z, {1})\n",
       "   core type: Operation\n",
       "   operator: 13\n",
       "   operand: 17\n",
       "9.  MultiQubitGate(Z, {1})  & MultiQubitGate(SPACE, {1})  & MultiQubitGate(X, {1})  & MultiQubitGate(SPACE, {1})  & MultiQubitGate(Z, {1})\n",
       "   core type: Operation\n",
       "   operator: 13\n",
       "   operand: 18\n",
       "10. ((MultiQubitGate(H, {1}) & MultiQubitGate(X, {1}) & MultiQubitGate(H, {1})))\n",
       "    core type: ExprTuple\n",
       "    sub-expressions: 15\n",
       "11. ((MultiQubitGate(SPACE, {1}) & MultiQubitGate(X, {1}) & MultiQubitGate(SPACE, {1})))\n",
       "    core type: ExprTuple\n",
       "    sub-expressions: 16\n",
       "12. ((MultiQubitGate(Z, {1}) & MultiQubitGate(H, {1}) & MultiQubitGate(X, {1}) & MultiQubitGate(H, {1}) & MultiQubitGate(Z, {1})))\n",
       "    core type: ExprTuple\n",
       "    sub-expressions: 17\n",
       "13. CIRCUIT\n",
       "    core type: Literal\n",
       "    sub-expressions: \n",
       "14. ((MultiQubitGate(Z, {1}) & MultiQubitGate(SPACE, {1}) & MultiQubitGate(X, {1}) & MultiQubitGate(SPACE, {1}) & MultiQubitGate(Z, {1})))\n",
       "    core type: ExprTuple\n",
       "    sub-expressions: 18\n",
       "15. MultiQubitGate(H, {1}) & MultiQubitGate(X, {1}) & MultiQubitGate(H, {1})\n",
       "    core type: ExprTuple\n",
       "    sub-expressions: 19\n",
       "16. MultiQubitGate(SPACE, {1}) & MultiQubitGate(X, {1}) & MultiQubitGate(SPACE, {1})\n",
       "    core type: ExprTuple\n",
       "    sub-expressions: 20\n",
       "17. MultiQubitGate(Z, {1}) & MultiQubitGate(H, {1}) & MultiQubitGate(X, {1}) & MultiQubitGate(H, {1}) & MultiQubitGate(Z, {1})\n",
       "    core type: ExprTuple\n",
       "    sub-expressions: 21\n",
       "18. MultiQubitGate(Z, {1}) & MultiQubitGate(SPACE, {1}) & MultiQubitGate(X, {1}) & MultiQubitGate(SPACE, {1}) & MultiQubitGate(Z, {1})\n",
       "    core type: ExprTuple\n",
       "    sub-expressions: 22\n",
       "19. (MultiQubitGate(H, {1}), MultiQubitGate(X, {1}), MultiQubitGate(H, {1}))\n",
       "    core type: ExprTuple\n",
       "    sub-expressions: 23, 24, 23\n",
       "20. (MultiQubitGate(SPACE, {1}), MultiQubitGate(X, {1}), MultiQubitGate(SPACE, {1}))\n",
       "    core type: ExprTuple\n",
       "    sub-expressions: 25, 24, 25\n",
       "21. (MultiQubitGate(Z, {1}), MultiQubitGate(H, {1}), MultiQubitGate(X, {1}), MultiQubitGate(H, {1}), MultiQubitGate(Z, {1}))\n",
       "    core type: ExprTuple\n",
       "    sub-expressions: 26, 23, 24, 23, 26\n",
       "22. (MultiQubitGate(Z, {1}), MultiQubitGate(SPACE, {1}), MultiQubitGate(X, {1}), MultiQubitGate(SPACE, {1}), MultiQubitGate(Z, {1}))\n",
       "    core type: ExprTuple\n",
       "    sub-expressions: 26, 25, 24, 25, 26\n",
       "23. MultiQubitGate(H, {1})\n",
       "    core type: Operation\n",
       "    operator: 30\n",
       "    operands: 27\n",
       "24. MultiQubitGate(X, {1})\n",
       "    core type: Operation\n",
       "    operator: 30\n",
       "    operands: 28\n",
       "25. MultiQubitGate(SPACE, {1})\n",
       "    core type: Operation\n",
       "    operator: 30\n",
       "    operands: 29\n",
       "26. MultiQubitGate(Z, {1})\n",
       "    core type: Operation\n",
       "    operator: 30\n",
       "    operands: 31\n",
       "27. (H, {1})\n",
       "    core type: ExprTuple\n",
       "    sub-expressions: 32, 36\n",
       "28. (X, {1})\n",
       "    core type: ExprTuple\n",
       "    sub-expressions: 33, 36\n",
       "29. (SPACE, {1})\n",
       "    core type: ExprTuple\n",
       "    sub-expressions: 34, 36\n",
       "30. MULTI_QUBIT_GATE\n",
       "    core type: Literal\n",
       "    sub-expressions: \n",
       "31. (Z, {1})\n",
       "    core type: ExprTuple\n",
       "    sub-expressions: 35, 36\n",
       "32. H\n",
       "    core type: Literal\n",
       "    sub-expressions: \n",
       "33. X\n",
       "    core type: Literal\n",
       "    sub-expressions: \n",
       "34. SPACE\n",
       "    core type: Literal\n",
       "    sub-expressions: \n",
       "35. Z\n",
       "    core type: Literal\n",
       "    sub-expressions: \n",
       "36. {1}\n",
       "    core type: Operation\n",
       "    operator: 37\n",
       "    operand: 39\n",
       "37. Set\n",
       "    core type: Literal\n",
       "    sub-expressions: \n",
       "38. (1)\n",
       "    core type: ExprTuple\n",
       "    sub-expressions: 39\n",
       "39. 1\n",
       "    core type: Literal\n",
       "    sub-expressions: "
      ]
     },
     "execution_count": 6,
     "metadata": {},
     "output_type": "execute_result"
    }
   ],
   "source": [
    "# display the expression information\n",
    "expr.expr_info()"
   ]
  },
  {
   "cell_type": "code",
   "execution_count": null,
   "metadata": {},
   "outputs": [],
   "source": []
  }
 ],
 "metadata": {
  "kernelspec": {
   "display_name": "Python 3",
   "language": "python",
   "name": "python3"
  }
 },
 "nbformat": 4,
 "nbformat_minor": 0
}