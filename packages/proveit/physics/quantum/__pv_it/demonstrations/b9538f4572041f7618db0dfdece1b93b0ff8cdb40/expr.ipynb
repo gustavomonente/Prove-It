{
 "cells": [
  {
   "cell_type": "markdown",
   "metadata": {},
   "source": [
    "Expression of type <a class=\"ProveItLink\" href=\"../../../../../../../doc/html/api/proveit.ExprTuple.html\">ExprTuple</a>\n",
    "=======================\n",
    "# from the theory of <a class=\"ProveItLink\" href=\"../../../_theory_nbs_/theory.ipynb\">proveit.physics.quantum</a>"
   ]
  },
  {
   "cell_type": "code",
   "execution_count": 1,
   "metadata": {},
   "outputs": [],
   "source": [
    "import proveit\n",
    "# Automation is not needed when building an expression:\n",
    "proveit.defaults.automation = False # This will speed things up.\n",
    "proveit.defaults.inline_pngs = False # Makes files smaller.\n",
    "%load_expr # Load the stored expression as 'stored_expr'\n",
    "# import Expression classes needed to build the expression\n",
    "from proveit import D, ExprRange, ExprTuple, IndexedVar, S, a, i\n",
    "from proveit.numbers import one\n",
    "from proveit.physics.quantum.circuit import MultiQubitGate"
   ]
  },
  {
   "cell_type": "code",
   "execution_count": 2,
   "metadata": {},
   "outputs": [
    {
     "data": {
      "text/html": [
       "<strong id=\"expr\">expr:</strong> <a class=\"ProveItLink\" href=\"expr.ipynb\"><img src=\"expr.png\" style=\"display:inline;vertical-align:middle;\" /></a><br>"
      ],
      "text/plain": [
       "expr: ((MultiQubitGate(D_{i, 1}, S_{i, 1}), ..MultiQubitGate(D_{i, a}, S_{i, a}).., MultiQubitGate(D_{i, 1}, S_{i, 1})), (MultiQubitGate(D_{i, 1}, S_{i, 1})))"
      ]
     },
     "execution_count": 2,
     "metadata": {},
     "output_type": "execute_result"
    }
   ],
   "source": [
    "# build up the expression from sub-expressions\n",
    "sub_expr1 = [i, a]\n",
    "sub_expr2 = [i, one]\n",
    "expr = ExprTuple([ExprRange(a, MultiQubitGate(IndexedVar(D, sub_expr1), IndexedVar(S, sub_expr1)), one, one)], [MultiQubitGate(IndexedVar(D, sub_expr2), IndexedVar(S, sub_expr2))])"
   ]
  },
  {
   "cell_type": "code",
   "execution_count": 3,
   "metadata": {},
   "outputs": [
    {
     "name": "stdout",
     "output_type": "stream",
     "text": [
      "Passed sanity check: expr matches stored_expr\n"
     ]
    }
   ],
   "source": [
    "# check that the built expression is the same as the stored expression\n",
    "assert expr == stored_expr\n",
    "assert expr._style_id == stored_expr._style_id\n",
    "print(\"Passed sanity check: expr matches stored_expr\")"
   ]
  },
  {
   "cell_type": "code",
   "execution_count": 4,
   "metadata": {},
   "outputs": [
    {
     "name": "stdout",
     "output_type": "stream",
     "text": [
      "\\left(\\left(\\hspace{2em} \\Qcircuit@C=1em @R=.7em{\n",
      "& \\gate{D_{i, 1}{\\Big \\{} S_{i, 1}} \n",
      "} \\hspace{2em}, \\ldots, \\hspace{2em} \\Qcircuit@C=1em @R=.7em{\n",
      "& \\gate{D_{i, 1}{\\Big \\{} S_{i, 1}} \n",
      "} \\hspace{2em}\\right), \\left(\\hspace{2em} \\Qcircuit@C=1em @R=.7em{\n",
      "& \\gate{D_{i, 1}{\\Big \\{} S_{i, 1}} \n",
      "} \\hspace{2em}\\right)\\right)\n"
     ]
    }
   ],
   "source": [
    "# Show the LaTeX representation of the expression for convenience if you need it.\n",
    "print(expr.latex())"
   ]
  },
  {
   "cell_type": "code",
   "execution_count": 5,
   "metadata": {},
   "outputs": [
    {
     "data": {
      "text/html": [
       "<table><tr><th>&nbsp;</th><th>core type</th><th>sub-expressions</th><th>expression</th></tr>\n",
       "<tr><td>0</td><td>ExprTuple</td><td>1, 2</td><td><a class=\"ProveItLink\" href=\"expr.ipynb\"><img src=\"expr.png\" style=\"display:inline;vertical-align:middle;\" /></a></td></tr>\n",
       "<tr><td>1</td><td>ExprTuple</td><td>3</td><td><a class=\"ProveItLink\" href=\"../b6c9da3e211c70eef1f397a4ecf5575421a908be0/expr.ipynb\"><img src=\"../b6c9da3e211c70eef1f397a4ecf5575421a908be0/expr.png\" style=\"display:inline;vertical-align:middle;\" /></a></td></tr>\n",
       "<tr><td>2</td><td>ExprTuple</td><td>4</td><td><a class=\"ProveItLink\" href=\"../4b3e7e8f282d98f2b6d21cf006a8ca77cbc063280/expr.ipynb\"><img src=\"../4b3e7e8f282d98f2b6d21cf006a8ca77cbc063280/expr.png\" style=\"display:inline;vertical-align:middle;\" /></a></td></tr>\n",
       "<tr><td>3</td><td>ExprRange</td><td>lambda_map:&nbsp;5<br>start_index:&nbsp;15<br>end_index:&nbsp;15<br></td><td><a class=\"ProveItLink\" href=\"../1ab5ad85b697dcdc7627c8c14da9c3af025fbd400/expr.ipynb\"><img src=\"../1ab5ad85b697dcdc7627c8c14da9c3af025fbd400/expr.png\" style=\"display:inline;vertical-align:middle;\" /></a></td></tr>\n",
       "<tr><td>4</td><td>Operation</td><td>operator:&nbsp;10<br>operands:&nbsp;6<br></td><td><a class=\"ProveItLink\" href=\"../a31c9891052a7ff9ca1fe4b3a8d4360d17f798cd0/expr.ipynb\"><img src=\"../a31c9891052a7ff9ca1fe4b3a8d4360d17f798cd0/expr.png\" style=\"display:inline;vertical-align:middle;\" /></a></td></tr>\n",
       "<tr><td>5</td><td>Lambda</td><td>parameter:&nbsp;20<br>body:&nbsp;7<br></td><td><a class=\"ProveItLink\" href=\"../9beb1368fba695bf8898a1e8fd2c24290a5995930/expr.ipynb\"><img src=\"../9beb1368fba695bf8898a1e8fd2c24290a5995930/expr.png\" style=\"display:inline;vertical-align:middle;\" /></a></td></tr>\n",
       "<tr><td>6</td><td>ExprTuple</td><td>8, 9</td><td><a class=\"ProveItLink\" href=\"../2f2e8851ead0880c89b5f65c584027441341b0bc0/expr.ipynb\"><img src=\"../2f2e8851ead0880c89b5f65c584027441341b0bc0/expr.png\" style=\"display:inline;vertical-align:middle;\" /></a></td></tr>\n",
       "<tr><td>7</td><td>Operation</td><td>operator:&nbsp;10<br>operands:&nbsp;11<br></td><td><a class=\"ProveItLink\" href=\"../aaf5341b339e22c434a6d719160f0552e727d3c60/expr.ipynb\"><img src=\"../aaf5341b339e22c434a6d719160f0552e727d3c60/expr.png\" style=\"display:inline;vertical-align:middle;\" /></a></td></tr>\n",
       "<tr><td>8</td><td>IndexedVar</td><td>variable:&nbsp;16<br>indices:&nbsp;12<br></td><td><a class=\"ProveItLink\" href=\"../0e0f9fb5ab80df0318293708e924d11e133447520/expr.ipynb\"><img src=\"../0e0f9fb5ab80df0318293708e924d11e133447520/expr.png\" style=\"display:inline;vertical-align:middle;\" /></a></td></tr>\n",
       "<tr><td>9</td><td>IndexedVar</td><td>variable:&nbsp;17<br>indices:&nbsp;12<br></td><td><a class=\"ProveItLink\" href=\"../8210075260189964d47ebb7bdab8405584095f780/expr.ipynb\"><img src=\"../8210075260189964d47ebb7bdab8405584095f780/expr.png\" style=\"display:inline;vertical-align:middle;\" /></a></td></tr>\n",
       "<tr><td>10</td><td>Literal</td><td></td><td><a class=\"ProveItLink\" href=\"../../common/7e400d333e3c53d1c3dd14244e4b33f4cea327190/expr.ipynb\"><img src=\"../../common/7e400d333e3c53d1c3dd14244e4b33f4cea327190/expr.png\" style=\"display:inline;vertical-align:middle;\" /></a></td></tr>\n",
       "<tr><td>11</td><td>ExprTuple</td><td>13, 14</td><td><a class=\"ProveItLink\" href=\"../31dbda7d8880b777ede1cb6a8db61fb7a83a0a830/expr.ipynb\"><img src=\"../31dbda7d8880b777ede1cb6a8db61fb7a83a0a830/expr.png\" style=\"display:inline;vertical-align:middle;\" /></a></td></tr>\n",
       "<tr><td>12</td><td>ExprTuple</td><td>19, 15</td><td><a class=\"ProveItLink\" href=\"../a2a19b42b61471636f43bda6abf29d4d75e652000/expr.ipynb\"><img src=\"../a2a19b42b61471636f43bda6abf29d4d75e652000/expr.png\" style=\"display:inline;vertical-align:middle;\" /></a></td></tr>\n",
       "<tr><td>13</td><td>IndexedVar</td><td>variable:&nbsp;16<br>indices:&nbsp;18<br></td><td><a class=\"ProveItLink\" href=\"../2578eedac9b26d884565ac8eaaa7c000a1f52c8e0/expr.ipynb\"><img src=\"../2578eedac9b26d884565ac8eaaa7c000a1f52c8e0/expr.png\" style=\"display:inline;vertical-align:middle;\" /></a></td></tr>\n",
       "<tr><td>14</td><td>IndexedVar</td><td>variable:&nbsp;17<br>indices:&nbsp;18<br></td><td><a class=\"ProveItLink\" href=\"../032c337f989069a351d10dc96d8bcd8447cef44f0/expr.ipynb\"><img src=\"../032c337f989069a351d10dc96d8bcd8447cef44f0/expr.png\" style=\"display:inline;vertical-align:middle;\" /></a></td></tr>\n",
       "<tr><td>15</td><td>Literal</td><td></td><td><a class=\"ProveItLink\" href=\"../../../../../numbers/numerals/__pv_it/common/2778428c7f555b2bdc06aa0530bc142c6e6335100/expr.ipynb\"><img src=\"../../../../../numbers/numerals/__pv_it/common/2778428c7f555b2bdc06aa0530bc142c6e6335100/expr.png\" style=\"display:inline;vertical-align:middle;\" /></a></td></tr>\n",
       "<tr><td>16</td><td>Variable</td><td></td><td><a class=\"ProveItLink\" href=\"../../../../../__pv_it/common/8d36d28f3636cdaa66f8b7d56eb3bbf0b50f70200/expr.ipynb\"><img src=\"../../../../../__pv_it/common/8d36d28f3636cdaa66f8b7d56eb3bbf0b50f70200/expr.png\" style=\"display:inline;vertical-align:middle;\" /></a></td></tr>\n",
       "<tr><td>17</td><td>Variable</td><td></td><td><a class=\"ProveItLink\" href=\"../../../../../__pv_it/common/38f47c5670ea8c5b56253448e95d8afb56bc09b40/expr.ipynb\"><img src=\"../../../../../__pv_it/common/38f47c5670ea8c5b56253448e95d8afb56bc09b40/expr.png\" style=\"display:inline;vertical-align:middle;\" /></a></td></tr>\n",
       "<tr><td>18</td><td>ExprTuple</td><td>19, 20</td><td><a class=\"ProveItLink\" href=\"../e1b79e600e9113fb7a77b21a2b31ab6ab9d2855b0/expr.ipynb\"><img src=\"../e1b79e600e9113fb7a77b21a2b31ab6ab9d2855b0/expr.png\" style=\"display:inline;vertical-align:middle;\" /></a></td></tr>\n",
       "<tr><td>19</td><td>Variable</td><td></td><td><a class=\"ProveItLink\" href=\"../../../../../__pv_it/common/ae955345c83abf786c3aff8681cd5465beae262d0/expr.ipynb\"><img src=\"../../../../../__pv_it/common/ae955345c83abf786c3aff8681cd5465beae262d0/expr.png\" style=\"display:inline;vertical-align:middle;\" /></a></td></tr>\n",
       "<tr><td>20</td><td>Variable</td><td></td><td><a class=\"ProveItLink\" href=\"../../../../../__pv_it/common/c06c606ec12678c58933ac85412ecadc2ae28be60/expr.ipynb\"><img src=\"../../../../../__pv_it/common/c06c606ec12678c58933ac85412ecadc2ae28be60/expr.png\" style=\"display:inline;vertical-align:middle;\" /></a></td></tr>\n",
       "</table>\n"
      ],
      "text/plain": [
       "0. ((MultiQubitGate(D_{i, 1}, S_{i, 1}), ..MultiQubitGate(D_{i, a}, S_{i, a}).., MultiQubitGate(D_{i, 1}, S_{i, 1})), (MultiQubitGate(D_{i, 1}, S_{i, 1})))\n",
       "   core type: ExprTuple\n",
       "   sub-expressions: 1, 2\n",
       "1. (MultiQubitGate(D_{i, 1}, S_{i, 1}), ..MultiQubitGate(D_{i, a}, S_{i, a}).., MultiQubitGate(D_{i, 1}, S_{i, 1}))\n",
       "   core type: ExprTuple\n",
       "   sub-expressions: 3\n",
       "2. (MultiQubitGate(D_{i, 1}, S_{i, 1}))\n",
       "   core type: ExprTuple\n",
       "   sub-expressions: 4\n",
       "3. MultiQubitGate(D_{i, 1}, S_{i, 1}), ..MultiQubitGate(D_{i, a}, S_{i, a}).., MultiQubitGate(D_{i, 1}, S_{i, 1})\n",
       "   core type: ExprRange\n",
       "   lambda_map: 5\n",
       "   start_index: 15\n",
       "   end_index: 15\n",
       "4. MultiQubitGate(D_{i, 1}, S_{i, 1})\n",
       "   core type: Operation\n",
       "   operator: 10\n",
       "   operands: 6\n",
       "5. a -> MultiQubitGate(D_{i, a}, S_{i, a})\n",
       "   core type: Lambda\n",
       "   parameter: 20\n",
       "   body: 7\n",
       "6. (D_{i, 1}, S_{i, 1})\n",
       "   core type: ExprTuple\n",
       "   sub-expressions: 8, 9\n",
       "7. MultiQubitGate(D_{i, a}, S_{i, a})\n",
       "   core type: Operation\n",
       "   operator: 10\n",
       "   operands: 11\n",
       "8. D_{i, 1}\n",
       "   core type: IndexedVar\n",
       "variable: 16\n",
       "indices: 12\n",
       "9. S_{i, 1}\n",
       "   core type: IndexedVar\n",
       "variable: 17\n",
       "indices: 12\n",
       "10. MULTI_QUBIT_GATE\n",
       "    core type: Literal\n",
       "    sub-expressions: \n",
       "11. (D_{i, a}, S_{i, a})\n",
       "    core type: ExprTuple\n",
       "    sub-expressions: 13, 14\n",
       "12. (i, 1)\n",
       "    core type: ExprTuple\n",
       "    sub-expressions: 19, 15\n",
       "13. D_{i, a}\n",
       "    core type: IndexedVar\n",
       "variable: 16\n",
       "indices: 18\n",
       "14. S_{i, a}\n",
       "    core type: IndexedVar\n",
       "variable: 17\n",
       "indices: 18\n",
       "15. 1\n",
       "    core type: Literal\n",
       "    sub-expressions: \n",
       "16. D\n",
       "    core type: Variable\n",
       "    sub-expressions: \n",
       "17. S\n",
       "    core type: Variable\n",
       "    sub-expressions: \n",
       "18. (i, a)\n",
       "    core type: ExprTuple\n",
       "    sub-expressions: 19, 20\n",
       "19. i\n",
       "    core type: Variable\n",
       "    sub-expressions: \n",
       "20. a\n",
       "    core type: Variable\n",
       "    sub-expressions: "
      ]
     },
     "execution_count": 5,
     "metadata": {},
     "output_type": "execute_result"
    }
   ],
   "source": [
    "# display the expression information\n",
    "expr.expr_info()"
   ]
  },
  {
   "cell_type": "code",
   "execution_count": null,
   "metadata": {},
   "outputs": [],
   "source": []
  }
 ],
 "metadata": {
  "kernelspec": {
   "display_name": "Python 3",
   "language": "python",
   "name": "python3"
  }
 },
 "nbformat": 4,
 "nbformat_minor": 0
}