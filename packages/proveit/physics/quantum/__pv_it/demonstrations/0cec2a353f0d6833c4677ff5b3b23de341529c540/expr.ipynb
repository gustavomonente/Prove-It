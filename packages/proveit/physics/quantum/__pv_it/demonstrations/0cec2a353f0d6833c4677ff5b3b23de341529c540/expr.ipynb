{
 "cells": [
  {
   "cell_type": "markdown",
   "metadata": {},
   "source": [
    "Expression of type <a class=\"ProveItLink\" href=\"../../../../../../../doc/html/api/proveit.ExprArray.html\">ExprArray</a>\n",
    "=======================\n",
    "# from the theory of <a class=\"ProveItLink\" href=\"../../../_theory_nbs_/theory.ipynb\">proveit.physics.quantum</a>"
   ]
  },
  {
   "cell_type": "code",
   "execution_count": 1,
   "metadata": {},
   "outputs": [],
   "source": [
    "import proveit\n",
    "# Automation is not needed when building an expression:\n",
    "proveit.defaults.automation = False # This will speed things up.\n",
    "proveit.defaults.inline_pngs = False # Makes files smaller.\n",
    "%load_expr # Load the stored expression as 'stored_expr'\n",
    "# import Expression classes needed to build the expression\n",
    "from proveit import ExprArray\n",
    "from proveit.logic import Set\n",
    "from proveit.numbers import one\n",
    "from proveit.physics.quantum import SPACE, X\n",
    "from proveit.physics.quantum.circuit import MultiQubitGate"
   ]
  },
  {
   "cell_type": "code",
   "execution_count": 2,
   "metadata": {},
   "outputs": [
    {
     "data": {
      "text/html": [
       "<strong id=\"expr\">expr:</strong> <a class=\"ProveItLink\" href=\"expr.ipynb\"><img src=\"expr.png\" style=\"display:inline;vertical-align:middle;\" /></a><br>"
      ],
      "text/plain": [
       "expr: MultiQubitGate(SPACE, {1}) & MultiQubitGate(X, {1}) & MultiQubitGate(SPACE, {1})"
      ]
     },
     "execution_count": 2,
     "metadata": {},
     "output_type": "execute_result"
    }
   ],
   "source": [
    "# build up the expression from sub-expressions\n",
    "sub_expr1 = Set(one)\n",
    "sub_expr2 = MultiQubitGate(SPACE, sub_expr1)\n",
    "expr = ExprArray([sub_expr2, MultiQubitGate(X, sub_expr1), sub_expr2])"
   ]
  },
  {
   "cell_type": "code",
   "execution_count": 3,
   "metadata": {},
   "outputs": [
    {
     "name": "stdout",
     "output_type": "stream",
     "text": [
      "Passed sanity check: expr matches stored_expr\n"
     ]
    }
   ],
   "source": [
    "# check that the built expression is the same as the stored expression\n",
    "assert expr == stored_expr\n",
    "assert expr._style_id == stored_expr._style_id\n",
    "print(\"Passed sanity check: expr matches stored_expr\")"
   ]
  },
  {
   "cell_type": "code",
   "execution_count": 4,
   "metadata": {},
   "outputs": [
    {
     "name": "stdout",
     "output_type": "stream",
     "text": [
      "\\begin{array} {ccc} \n",
      " \\hspace{2em} \\Qcircuit@C=1em @R=.7em{\n",
      "& SPACE \n",
      "} \\hspace{2em} & \\hspace{2em} \\Qcircuit@C=1em @R=.7em{\n",
      "& \\gate{X{\\Big \\{} \\left\\{1\\right\\}} \n",
      "} \\hspace{2em} & \\hspace{2em} \\Qcircuit@C=1em @R=.7em{\n",
      "& SPACE \n",
      "} \\hspace{2em} \\end{array} \n",
      "\n"
     ]
    }
   ],
   "source": [
    "# Show the LaTeX representation of the expression for convenience if you need it.\n",
    "print(expr.latex())"
   ]
  },
  {
   "cell_type": "code",
   "execution_count": 5,
   "metadata": {},
   "outputs": [
    {
     "data": {
      "text/html": [
       "<table><tr><th>&nbsp;</th><th>core type</th><th>sub-expressions</th><th>expression</th></tr>\n",
       "<tr><td>0</td><td>ExprTuple</td><td>1</td><td><a class=\"ProveItLink\" href=\"expr.ipynb\"><img src=\"expr.png\" style=\"display:inline;vertical-align:middle;\" /></a></td></tr>\n",
       "<tr><td>1</td><td>ExprTuple</td><td>3, 2, 3</td><td><a class=\"ProveItLink\" href=\"../b1ab0f529a5b7684f44092b3c6e3f99e4c71a55f0/expr.ipynb\"><img src=\"../b1ab0f529a5b7684f44092b3c6e3f99e4c71a55f0/expr.png\" style=\"display:inline;vertical-align:middle;\" /></a></td></tr>\n",
       "<tr><td>2</td><td>Operation</td><td>operator:&nbsp;5<br>operands:&nbsp;4<br></td><td><a class=\"ProveItLink\" href=\"../7a079e72e5482733f485ce7a3c3f3c98a756444c0/expr.ipynb\"><img src=\"../7a079e72e5482733f485ce7a3c3f3c98a756444c0/expr.png\" style=\"display:inline;vertical-align:middle;\" /></a></td></tr>\n",
       "<tr><td>3</td><td>Operation</td><td>operator:&nbsp;5<br>operands:&nbsp;6<br></td><td><a class=\"ProveItLink\" href=\"../abdc154689200b039f9e7bccc3b93b5ec7cbd94d0/expr.ipynb\"><img src=\"../abdc154689200b039f9e7bccc3b93b5ec7cbd94d0/expr.png\" style=\"display:inline;vertical-align:middle;\" /></a></td></tr>\n",
       "<tr><td>4</td><td>ExprTuple</td><td>7, 9</td><td><a class=\"ProveItLink\" href=\"../5c3596d077bdf059dfb13eb6936a326efee883520/expr.ipynb\"><img src=\"../5c3596d077bdf059dfb13eb6936a326efee883520/expr.png\" style=\"display:inline;vertical-align:middle;\" /></a></td></tr>\n",
       "<tr><td>5</td><td>Literal</td><td></td><td><a class=\"ProveItLink\" href=\"../../common/7e400d333e3c53d1c3dd14244e4b33f4cea327190/expr.ipynb\"><img src=\"../../common/7e400d333e3c53d1c3dd14244e4b33f4cea327190/expr.png\" style=\"display:inline;vertical-align:middle;\" /></a></td></tr>\n",
       "<tr><td>6</td><td>ExprTuple</td><td>8, 9</td><td><a class=\"ProveItLink\" href=\"../07134d1b50764529bc2f571bbb0a1a9987d7d47f0/expr.ipynb\"><img src=\"../07134d1b50764529bc2f571bbb0a1a9987d7d47f0/expr.png\" style=\"display:inline;vertical-align:middle;\" /></a></td></tr>\n",
       "<tr><td>7</td><td>Literal</td><td></td><td><a class=\"ProveItLink\" href=\"../../common/d428480ac9882b1412f7ede37b71e3a30f3c2e9e0/expr.ipynb\"><img src=\"../../common/d428480ac9882b1412f7ede37b71e3a30f3c2e9e0/expr.png\" style=\"display:inline;vertical-align:middle;\" /></a></td></tr>\n",
       "<tr><td>8</td><td>Literal</td><td></td><td><a class=\"ProveItLink\" href=\"../../common/da64fd011a176dba524c15edb4c0c73d9ce4b38f0/expr.ipynb\"><img src=\"../../common/da64fd011a176dba524c15edb4c0c73d9ce4b38f0/expr.png\" style=\"display:inline;vertical-align:middle;\" /></a></td></tr>\n",
       "<tr><td>9</td><td>Operation</td><td>operator:&nbsp;10<br>operand:&nbsp;11<br></td><td><a class=\"ProveItLink\" href=\"../794cea2888521553b40bae12ccfe7795c4ee57380/expr.ipynb\"><img src=\"../794cea2888521553b40bae12ccfe7795c4ee57380/expr.png\" style=\"display:inline;vertical-align:middle;\" /></a></td></tr>\n",
       "<tr><td>10</td><td>Literal</td><td></td><td><a class=\"ProveItLink\" href=\"../../../../../logic/sets/enumeration/__pv_it/common/0ead90ccbf4f17bc585a51f8aa904bb77916ae6e0/expr.ipynb\"><img src=\"../../../../../logic/sets/enumeration/__pv_it/common/0ead90ccbf4f17bc585a51f8aa904bb77916ae6e0/expr.png\" style=\"display:inline;vertical-align:middle;\" /></a></td></tr>\n",
       "<tr><td>11</td><td>Literal</td><td></td><td><a class=\"ProveItLink\" href=\"../../../../../numbers/numerals/__pv_it/common/2778428c7f555b2bdc06aa0530bc142c6e6335100/expr.ipynb\"><img src=\"../../../../../numbers/numerals/__pv_it/common/2778428c7f555b2bdc06aa0530bc142c6e6335100/expr.png\" style=\"display:inline;vertical-align:middle;\" /></a></td></tr>\n",
       "</table>\n"
      ],
      "text/plain": [
       "0. MultiQubitGate(SPACE, {1}) & MultiQubitGate(X, {1}) & MultiQubitGate(SPACE, {1})\n",
       "   core type: ExprTuple\n",
       "   sub-expressions: 1\n",
       "1. (MultiQubitGate(SPACE, {1}), MultiQubitGate(X, {1}), MultiQubitGate(SPACE, {1}))\n",
       "   core type: ExprTuple\n",
       "   sub-expressions: 3, 2, 3\n",
       "2. MultiQubitGate(X, {1})\n",
       "   core type: Operation\n",
       "   operator: 5\n",
       "   operands: 4\n",
       "3. MultiQubitGate(SPACE, {1})\n",
       "   core type: Operation\n",
       "   operator: 5\n",
       "   operands: 6\n",
       "4. (X, {1})\n",
       "   core type: ExprTuple\n",
       "   sub-expressions: 7, 9\n",
       "5. MULTI_QUBIT_GATE\n",
       "   core type: Literal\n",
       "   sub-expressions: \n",
       "6. (SPACE, {1})\n",
       "   core type: ExprTuple\n",
       "   sub-expressions: 8, 9\n",
       "7. X\n",
       "   core type: Literal\n",
       "   sub-expressions: \n",
       "8. SPACE\n",
       "   core type: Literal\n",
       "   sub-expressions: \n",
       "9. {1}\n",
       "   core type: Operation\n",
       "   operator: 10\n",
       "   operand: 11\n",
       "10. Set\n",
       "    core type: Literal\n",
       "    sub-expressions: \n",
       "11. 1\n",
       "    core type: Literal\n",
       "    sub-expressions: "
      ]
     },
     "execution_count": 5,
     "metadata": {},
     "output_type": "execute_result"
    }
   ],
   "source": [
    "# display the expression information\n",
    "expr.expr_info()"
   ]
  },
  {
   "cell_type": "code",
   "execution_count": null,
   "metadata": {},
   "outputs": [],
   "source": []
  }
 ],
 "metadata": {
  "kernelspec": {
   "display_name": "Python 3",
   "language": "python",
   "name": "python3"
  }
 },
 "nbformat": 4,
 "nbformat_minor": 0
}