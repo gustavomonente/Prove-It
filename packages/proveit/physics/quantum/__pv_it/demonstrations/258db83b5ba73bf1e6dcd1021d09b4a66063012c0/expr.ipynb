{
 "cells": [
  {
   "cell_type": "markdown",
   "metadata": {},
   "source": [
    "Expression of type <a class=\"ProveItLink\" href=\"../../../../../../../doc/html/api/proveit.logic.Equals.html\">Equals</a>\n",
    "=======================\n",
    "# from the theory of <a class=\"ProveItLink\" href=\"../../../_theory_nbs_/theory.ipynb\">proveit.physics.quantum</a>"
   ]
  },
  {
   "cell_type": "code",
   "execution_count": 1,
   "metadata": {},
   "outputs": [],
   "source": [
    "import proveit\n",
    "# Automation is not needed when building an expression:\n",
    "proveit.defaults.automation = False # This will speed things up.\n",
    "proveit.defaults.inline_pngs = False # Makes files smaller.\n",
    "%load_expr # Load the stored expression as 'stored_expr'\n",
    "# import Expression classes needed to build the expression\n",
    "from proveit import C, ExprRange, IndexedVar, Q, a, i\n",
    "from proveit.logic import Equals\n",
    "from proveit.numbers import one\n",
    "from proveit.physics.quantum.circuit import MultiQubitGate"
   ]
  },
  {
   "cell_type": "code",
   "execution_count": 2,
   "metadata": {},
   "outputs": [
    {
     "data": {
      "text/html": [
       "<strong id=\"expr\">expr:</strong> <a class=\"ProveItLink\" href=\"expr.ipynb\"><img src=\"expr.png\" style=\"display:inline;vertical-align:middle;\" /></a><br>"
      ],
      "text/plain": [
       "expr: (MultiQubitGate(C_{i, 1}, Q_{i, 1}), ..MultiQubitGate(C_{i, a}, Q_{i, a}).., MultiQubitGate(C_{i, 1}, Q_{i, 1})) = (MultiQubitGate(C_{i, 1}, Q_{i, 1}))"
      ]
     },
     "execution_count": 2,
     "metadata": {},
     "output_type": "execute_result"
    }
   ],
   "source": [
    "# build up the expression from sub-expressions\n",
    "sub_expr1 = [i, a]\n",
    "sub_expr2 = [i, one]\n",
    "expr = Equals([ExprRange(a, MultiQubitGate(IndexedVar(C, sub_expr1), IndexedVar(Q, sub_expr1)), one, one)], [MultiQubitGate(IndexedVar(C, sub_expr2), IndexedVar(Q, sub_expr2))])"
   ]
  },
  {
   "cell_type": "code",
   "execution_count": 3,
   "metadata": {},
   "outputs": [
    {
     "name": "stdout",
     "output_type": "stream",
     "text": [
      "Passed sanity check: expr matches stored_expr\n"
     ]
    }
   ],
   "source": [
    "# check that the built expression is the same as the stored expression\n",
    "assert expr == stored_expr\n",
    "assert expr._style_id == stored_expr._style_id\n",
    "print(\"Passed sanity check: expr matches stored_expr\")"
   ]
  },
  {
   "cell_type": "code",
   "execution_count": 4,
   "metadata": {},
   "outputs": [
    {
     "name": "stdout",
     "output_type": "stream",
     "text": [
      "\\left(\\hspace{2em} \\Qcircuit@C=1em @R=.7em{\n",
      "& \\gate{C_{i, 1}{\\Big \\{} Q_{i, 1}} \n",
      "} \\hspace{2em}, \\ldots, \\hspace{2em} \\Qcircuit@C=1em @R=.7em{\n",
      "& \\gate{C_{i, 1}{\\Big \\{} Q_{i, 1}} \n",
      "} \\hspace{2em}\\right) = \\left(\\hspace{2em} \\Qcircuit@C=1em @R=.7em{\n",
      "& \\gate{C_{i, 1}{\\Big \\{} Q_{i, 1}} \n",
      "} \\hspace{2em}\\right)\n"
     ]
    }
   ],
   "source": [
    "# Show the LaTeX representation of the expression for convenience if you need it.\n",
    "print(expr.latex())"
   ]
  },
  {
   "cell_type": "code",
   "execution_count": 5,
   "metadata": {},
   "outputs": [
    {
     "data": {
      "text/html": [
       "<table><tr><th>&nbsp;</th><th>core type</th><th>sub-expressions</th><th>expression</th></tr>\n",
       "<tr><td>0</td><td>Operation</td><td>operator:&nbsp;1<br>operands:&nbsp;2<br></td><td><a class=\"ProveItLink\" href=\"expr.ipynb\"><img src=\"expr.png\" style=\"display:inline;vertical-align:middle;\" /></a></td></tr>\n",
       "<tr><td>1</td><td>Literal</td><td></td><td><a class=\"ProveItLink\" href=\"../../../../../logic/equality/__pv_it/common/fb96dc12b2aa8801dda64d0132b396c63d1502bb0/expr.ipynb\"><img src=\"../../../../../logic/equality/__pv_it/common/fb96dc12b2aa8801dda64d0132b396c63d1502bb0/expr.png\" style=\"display:inline;vertical-align:middle;\" /></a></td></tr>\n",
       "<tr><td>2</td><td>ExprTuple</td><td>3, 4</td><td><a class=\"ProveItLink\" href=\"../963532f3374160fe4ae219b187c6560f345417bf0/expr.ipynb\"><img src=\"../963532f3374160fe4ae219b187c6560f345417bf0/expr.png\" style=\"display:inline;vertical-align:middle;\" /></a></td></tr>\n",
       "<tr><td>3</td><td>ExprTuple</td><td>5</td><td><a class=\"ProveItLink\" href=\"../ff7570e1d3498710883f205feef6f1931c567f8d0/expr.ipynb\"><img src=\"../ff7570e1d3498710883f205feef6f1931c567f8d0/expr.png\" style=\"display:inline;vertical-align:middle;\" /></a></td></tr>\n",
       "<tr><td>4</td><td>ExprTuple</td><td>6</td><td><a class=\"ProveItLink\" href=\"../906d3a7eca52bc36596d8bbfb10afd4689317a940/expr.ipynb\"><img src=\"../906d3a7eca52bc36596d8bbfb10afd4689317a940/expr.png\" style=\"display:inline;vertical-align:middle;\" /></a></td></tr>\n",
       "<tr><td>5</td><td>ExprRange</td><td>lambda_map:&nbsp;7<br>start_index:&nbsp;17<br>end_index:&nbsp;17<br></td><td><a class=\"ProveItLink\" href=\"../fdc00c07da2a7efa20713d9a618aaf31c8d74b3c0/expr.ipynb\"><img src=\"../fdc00c07da2a7efa20713d9a618aaf31c8d74b3c0/expr.png\" style=\"display:inline;vertical-align:middle;\" /></a></td></tr>\n",
       "<tr><td>6</td><td>Operation</td><td>operator:&nbsp;12<br>operands:&nbsp;8<br></td><td><a class=\"ProveItLink\" href=\"../4b426a2d57af7c359d63a23ffad38eae0a15765a0/expr.ipynb\"><img src=\"../4b426a2d57af7c359d63a23ffad38eae0a15765a0/expr.png\" style=\"display:inline;vertical-align:middle;\" /></a></td></tr>\n",
       "<tr><td>7</td><td>Lambda</td><td>parameter:&nbsp;22<br>body:&nbsp;9<br></td><td><a class=\"ProveItLink\" href=\"../eb02cbd22a607173f2584c6a0e0f9106525ca3e70/expr.ipynb\"><img src=\"../eb02cbd22a607173f2584c6a0e0f9106525ca3e70/expr.png\" style=\"display:inline;vertical-align:middle;\" /></a></td></tr>\n",
       "<tr><td>8</td><td>ExprTuple</td><td>10, 11</td><td><a class=\"ProveItLink\" href=\"../417e609528c7f5919039a9b79c73d76ee3a4a63e0/expr.ipynb\"><img src=\"../417e609528c7f5919039a9b79c73d76ee3a4a63e0/expr.png\" style=\"display:inline;vertical-align:middle;\" /></a></td></tr>\n",
       "<tr><td>9</td><td>Operation</td><td>operator:&nbsp;12<br>operands:&nbsp;13<br></td><td><a class=\"ProveItLink\" href=\"../990306a7104c67878f79fcdafaa292336b462d190/expr.ipynb\"><img src=\"../990306a7104c67878f79fcdafaa292336b462d190/expr.png\" style=\"display:inline;vertical-align:middle;\" /></a></td></tr>\n",
       "<tr><td>10</td><td>IndexedVar</td><td>variable:&nbsp;18<br>indices:&nbsp;14<br></td><td><a class=\"ProveItLink\" href=\"../f5dab5006de40aab34f39d034d42fef38bf92cac0/expr.ipynb\"><img src=\"../f5dab5006de40aab34f39d034d42fef38bf92cac0/expr.png\" style=\"display:inline;vertical-align:middle;\" /></a></td></tr>\n",
       "<tr><td>11</td><td>IndexedVar</td><td>variable:&nbsp;19<br>indices:&nbsp;14<br></td><td><a class=\"ProveItLink\" href=\"../83de35d3976fa54ddfe9bdeca4a754eef55d96670/expr.ipynb\"><img src=\"../83de35d3976fa54ddfe9bdeca4a754eef55d96670/expr.png\" style=\"display:inline;vertical-align:middle;\" /></a></td></tr>\n",
       "<tr><td>12</td><td>Literal</td><td></td><td><a class=\"ProveItLink\" href=\"../../common/7e400d333e3c53d1c3dd14244e4b33f4cea327190/expr.ipynb\"><img src=\"../../common/7e400d333e3c53d1c3dd14244e4b33f4cea327190/expr.png\" style=\"display:inline;vertical-align:middle;\" /></a></td></tr>\n",
       "<tr><td>13</td><td>ExprTuple</td><td>15, 16</td><td><a class=\"ProveItLink\" href=\"../72e8dd38f3af6b8d73a03b3fce40f2733b449a3d0/expr.ipynb\"><img src=\"../72e8dd38f3af6b8d73a03b3fce40f2733b449a3d0/expr.png\" style=\"display:inline;vertical-align:middle;\" /></a></td></tr>\n",
       "<tr><td>14</td><td>ExprTuple</td><td>21, 17</td><td><a class=\"ProveItLink\" href=\"../a2a19b42b61471636f43bda6abf29d4d75e652000/expr.ipynb\"><img src=\"../a2a19b42b61471636f43bda6abf29d4d75e652000/expr.png\" style=\"display:inline;vertical-align:middle;\" /></a></td></tr>\n",
       "<tr><td>15</td><td>IndexedVar</td><td>variable:&nbsp;18<br>indices:&nbsp;20<br></td><td><a class=\"ProveItLink\" href=\"../3eda17e1da01d2a6e3a634683039a146be3fe4170/expr.ipynb\"><img src=\"../3eda17e1da01d2a6e3a634683039a146be3fe4170/expr.png\" style=\"display:inline;vertical-align:middle;\" /></a></td></tr>\n",
       "<tr><td>16</td><td>IndexedVar</td><td>variable:&nbsp;19<br>indices:&nbsp;20<br></td><td><a class=\"ProveItLink\" href=\"../013ef31d5601585cf29d22a40d8ee74b2ef03fa70/expr.ipynb\"><img src=\"../013ef31d5601585cf29d22a40d8ee74b2ef03fa70/expr.png\" style=\"display:inline;vertical-align:middle;\" /></a></td></tr>\n",
       "<tr><td>17</td><td>Literal</td><td></td><td><a class=\"ProveItLink\" href=\"../../../../../numbers/numerals/__pv_it/common/2778428c7f555b2bdc06aa0530bc142c6e6335100/expr.ipynb\"><img src=\"../../../../../numbers/numerals/__pv_it/common/2778428c7f555b2bdc06aa0530bc142c6e6335100/expr.png\" style=\"display:inline;vertical-align:middle;\" /></a></td></tr>\n",
       "<tr><td>18</td><td>Variable</td><td></td><td><a class=\"ProveItLink\" href=\"../../../../../__pv_it/common/9fba9f29e823606ff4fdf2f1c6d5d08d906e850a0/expr.ipynb\"><img src=\"../../../../../__pv_it/common/9fba9f29e823606ff4fdf2f1c6d5d08d906e850a0/expr.png\" style=\"display:inline;vertical-align:middle;\" /></a></td></tr>\n",
       "<tr><td>19</td><td>Variable</td><td></td><td><a class=\"ProveItLink\" href=\"../../../../../__pv_it/common/d72bb8b07403efe79afab564c36a28e21330e5f90/expr.ipynb\"><img src=\"../../../../../__pv_it/common/d72bb8b07403efe79afab564c36a28e21330e5f90/expr.png\" style=\"display:inline;vertical-align:middle;\" /></a></td></tr>\n",
       "<tr><td>20</td><td>ExprTuple</td><td>21, 22</td><td><a class=\"ProveItLink\" href=\"../e1b79e600e9113fb7a77b21a2b31ab6ab9d2855b0/expr.ipynb\"><img src=\"../e1b79e600e9113fb7a77b21a2b31ab6ab9d2855b0/expr.png\" style=\"display:inline;vertical-align:middle;\" /></a></td></tr>\n",
       "<tr><td>21</td><td>Variable</td><td></td><td><a class=\"ProveItLink\" href=\"../../../../../__pv_it/common/ae955345c83abf786c3aff8681cd5465beae262d0/expr.ipynb\"><img src=\"../../../../../__pv_it/common/ae955345c83abf786c3aff8681cd5465beae262d0/expr.png\" style=\"display:inline;vertical-align:middle;\" /></a></td></tr>\n",
       "<tr><td>22</td><td>Variable</td><td></td><td><a class=\"ProveItLink\" href=\"../../../../../__pv_it/common/c06c606ec12678c58933ac85412ecadc2ae28be60/expr.ipynb\"><img src=\"../../../../../__pv_it/common/c06c606ec12678c58933ac85412ecadc2ae28be60/expr.png\" style=\"display:inline;vertical-align:middle;\" /></a></td></tr>\n",
       "</table>\n"
      ],
      "text/plain": [
       "0. (MultiQubitGate(C_{i, 1}, Q_{i, 1}), ..MultiQubitGate(C_{i, a}, Q_{i, a}).., MultiQubitGate(C_{i, 1}, Q_{i, 1})) = (MultiQubitGate(C_{i, 1}, Q_{i, 1}))\n",
       "   core type: Operation\n",
       "   operator: 1\n",
       "   operands: 2\n",
       "1. =\n",
       "   core type: Literal\n",
       "   sub-expressions: \n",
       "2. ((MultiQubitGate(C_{i, 1}, Q_{i, 1}), ..MultiQubitGate(C_{i, a}, Q_{i, a}).., MultiQubitGate(C_{i, 1}, Q_{i, 1})), (MultiQubitGate(C_{i, 1}, Q_{i, 1})))\n",
       "   core type: ExprTuple\n",
       "   sub-expressions: 3, 4\n",
       "3. (MultiQubitGate(C_{i, 1}, Q_{i, 1}), ..MultiQubitGate(C_{i, a}, Q_{i, a}).., MultiQubitGate(C_{i, 1}, Q_{i, 1}))\n",
       "   core type: ExprTuple\n",
       "   sub-expressions: 5\n",
       "4. (MultiQubitGate(C_{i, 1}, Q_{i, 1}))\n",
       "   core type: ExprTuple\n",
       "   sub-expressions: 6\n",
       "5. MultiQubitGate(C_{i, 1}, Q_{i, 1}), ..MultiQubitGate(C_{i, a}, Q_{i, a}).., MultiQubitGate(C_{i, 1}, Q_{i, 1})\n",
       "   core type: ExprRange\n",
       "   lambda_map: 7\n",
       "   start_index: 17\n",
       "   end_index: 17\n",
       "6. MultiQubitGate(C_{i, 1}, Q_{i, 1})\n",
       "   core type: Operation\n",
       "   operator: 12\n",
       "   operands: 8\n",
       "7. a -> MultiQubitGate(C_{i, a}, Q_{i, a})\n",
       "   core type: Lambda\n",
       "   parameter: 22\n",
       "   body: 9\n",
       "8. (C_{i, 1}, Q_{i, 1})\n",
       "   core type: ExprTuple\n",
       "   sub-expressions: 10, 11\n",
       "9. MultiQubitGate(C_{i, a}, Q_{i, a})\n",
       "   core type: Operation\n",
       "   operator: 12\n",
       "   operands: 13\n",
       "10. C_{i, 1}\n",
       "    core type: IndexedVar\n",
       "variable: 18\n",
       "indices: 14\n",
       "11. Q_{i, 1}\n",
       "    core type: IndexedVar\n",
       "variable: 19\n",
       "indices: 14\n",
       "12. MULTI_QUBIT_GATE\n",
       "    core type: Literal\n",
       "    sub-expressions: \n",
       "13. (C_{i, a}, Q_{i, a})\n",
       "    core type: ExprTuple\n",
       "    sub-expressions: 15, 16\n",
       "14. (i, 1)\n",
       "    core type: ExprTuple\n",
       "    sub-expressions: 21, 17\n",
       "15. C_{i, a}\n",
       "    core type: IndexedVar\n",
       "variable: 18\n",
       "indices: 20\n",
       "16. Q_{i, a}\n",
       "    core type: IndexedVar\n",
       "variable: 19\n",
       "indices: 20\n",
       "17. 1\n",
       "    core type: Literal\n",
       "    sub-expressions: \n",
       "18. C\n",
       "    core type: Variable\n",
       "    sub-expressions: \n",
       "19. Q\n",
       "    core type: Variable\n",
       "    sub-expressions: \n",
       "20. (i, a)\n",
       "    core type: ExprTuple\n",
       "    sub-expressions: 21, 22\n",
       "21. i\n",
       "    core type: Variable\n",
       "    sub-expressions: \n",
       "22. a\n",
       "    core type: Variable\n",
       "    sub-expressions: "
      ]
     },
     "execution_count": 5,
     "metadata": {},
     "output_type": "execute_result"
    }
   ],
   "source": [
    "# display the expression information\n",
    "expr.expr_info()"
   ]
  },
  {
   "cell_type": "code",
   "execution_count": null,
   "metadata": {},
   "outputs": [],
   "source": []
  }
 ],
 "metadata": {
  "kernelspec": {
   "display_name": "Python 3",
   "language": "python",
   "name": "python3"
  }
 },
 "nbformat": 4,
 "nbformat_minor": 0
}