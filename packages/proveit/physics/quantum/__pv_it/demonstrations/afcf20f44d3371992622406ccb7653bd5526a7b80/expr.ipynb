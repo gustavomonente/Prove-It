{
 "cells": [
  {
   "cell_type": "markdown",
   "metadata": {},
   "source": [
    "Expression of type <a class=\"ProveItLink\" href=\"../../../../../../../doc/html/api/proveit.ExprTuple.html\">ExprTuple</a>\n",
    "=======================\n",
    "# from the theory of <a class=\"ProveItLink\" href=\"../../../_theory_nbs_/theory.ipynb\">proveit.physics.quantum</a>"
   ]
  },
  {
   "cell_type": "code",
   "execution_count": 1,
   "metadata": {},
   "outputs": [],
   "source": [
    "import proveit\n",
    "# Automation is not needed when building an expression:\n",
    "proveit.defaults.automation = False # This will speed things up.\n",
    "proveit.defaults.inline_pngs = False # Makes files smaller.\n",
    "%load_expr # Load the stored expression as 'stored_expr'\n",
    "# import Expression classes needed to build the expression\n",
    "from proveit import ExprArray, ExprRange, ExprTuple, h, i, j, m, n\n",
    "from proveit.core_expr_types.expr_arrays import Bij, Dij, Qij, Sij\n",
    "from proveit.numbers import one\n",
    "from proveit.physics.quantum.circuit import Circuit, MultiQubitGate"
   ]
  },
  {
   "cell_type": "code",
   "execution_count": 2,
   "metadata": {},
   "outputs": [
    {
     "data": {
      "text/html": [
       "<strong id=\"expr\">expr:</strong> <a class=\"ProveItLink\" href=\"expr.ipynb\"><img src=\"expr.png\" style=\"display:inline;vertical-align:middle;\" /></a><br>"
      ],
      "text/plain": [
       "expr: ( MultiQubitGate(B_{1, 1}, Q_{1, 1})  & ..MultiQubitGate(B_{1, j}, Q_{1, j})..  & MultiQubitGate(B_{1, h}, Q_{1, h})   \\\\ \n",
       "   \\colon  & \\colon  & \\colon   \\\\ \n",
       "   MultiQubitGate(B_{i, 1}, Q_{i, 1})  & ..MultiQubitGate(B_{i, j}, Q_{i, j})..  & MultiQubitGate(B_{i, h}, Q_{i, h})   \\\\ \n",
       "   \\colon  & \\colon  & \\colon   \\\\ \n",
       "   MultiQubitGate(B_{m, 1}, Q_{m, 1})  & ..MultiQubitGate(B_{m, j}, Q_{m, j})..  & MultiQubitGate(B_{m, h}, Q_{m, h}),  MultiQubitGate(D_{1, 1}, S_{1, 1})  & ..MultiQubitGate(D_{1, j}, S_{1, j})..  & MultiQubitGate(D_{1, n}, S_{1, n})   \\\\ \n",
       "   \\colon  & \\colon  & \\colon   \\\\ \n",
       "   MultiQubitGate(D_{i, 1}, S_{i, 1})  & ..MultiQubitGate(D_{i, j}, S_{i, j})..  & MultiQubitGate(D_{i, n}, S_{i, n})   \\\\ \n",
       "   \\colon  & \\colon  & \\colon   \\\\ \n",
       "   MultiQubitGate(D_{m, 1}, S_{m, 1})  & ..MultiQubitGate(D_{m, j}, S_{m, j})..  & MultiQubitGate(D_{m, n}, S_{m, n}))"
      ]
     },
     "execution_count": 2,
     "metadata": {},
     "output_type": "execute_result"
    }
   ],
   "source": [
    "# build up the expression from sub-expressions\n",
    "expr = ExprTuple(Circuit(ExprArray(ExprRange(i, [ExprRange(j, MultiQubitGate(Bij, Qij), one, h)], one, m))), Circuit(ExprArray(ExprRange(i, [ExprRange(j, MultiQubitGate(Dij, Sij), one, n)], one, m))))"
   ]
  },
  {
   "cell_type": "code",
   "execution_count": 3,
   "metadata": {},
   "outputs": [
    {
     "name": "stdout",
     "output_type": "stream",
     "text": [
      "Passed sanity check: expr matches stored_expr\n"
     ]
    }
   ],
   "source": [
    "# check that the built expression is the same as the stored expression\n",
    "assert expr == stored_expr\n",
    "assert expr._style_id == stored_expr._style_id\n",
    "print(\"Passed sanity check: expr matches stored_expr\")"
   ]
  },
  {
   "cell_type": "code",
   "execution_count": 4,
   "metadata": {},
   "outputs": [
    {
     "name": "stdout",
     "output_type": "stream",
     "text": [
      "\\left(\\hspace{2em} \\Qcircuit@C=1em @R=.7em{\n",
      "& \\gate{B_{1, 1}{\\Big \\{} Q_{1, 1}} \\qwx[1] & \\gate{\\cdots} \\qwx[1] & \\gate{B_{1, h}{\\Big \\{} Q_{1, h}} \\qwx[1]   \\\\ \n",
      "  & \\gate{\\vdots} \\qwx[1] & \\gate{B_{i, j}{\\Big \\{} Q_{i, j}} \\qwx[1] & \\gate{\\vdots} \\qwx[1]   \\\\ \n",
      "  & \\gate{B_{m, 1}{\\Big \\{} Q_{m, 1}} & \\gate{\\cdots} & \\gate{B_{m, h}{\\Big \\{} Q_{m, h}} \n",
      "} \\hspace{2em}, \\hspace{2em} \\Qcircuit@C=1em @R=.7em{\n",
      "& \\gate{D_{1, 1}{\\Big \\{} S_{1, 1}} \\qwx[1] & \\gate{\\cdots} \\qwx[1] & \\gate{D_{1, n}{\\Big \\{} S_{1, n}} \\qwx[1]   \\\\ \n",
      "  & \\gate{\\vdots} \\qwx[1] & \\gate{D_{i, j}{\\Big \\{} S_{i, j}} \\qwx[1] & \\gate{\\vdots} \\qwx[1]   \\\\ \n",
      "  & \\gate{D_{m, 1}{\\Big \\{} S_{m, 1}} & \\gate{\\cdots} & \\gate{D_{m, n}{\\Big \\{} S_{m, n}} \n",
      "} \\hspace{2em}\\right)\n"
     ]
    }
   ],
   "source": [
    "# Show the LaTeX representation of the expression for convenience if you need it.\n",
    "print(expr.latex())"
   ]
  },
  {
   "cell_type": "code",
   "execution_count": 5,
   "metadata": {},
   "outputs": [
    {
     "data": {
      "text/html": [
       "<table>\n",
       "<tr><th>name</th><th>description</th><th>default</th><th>current value</th><th>related methods</th></tr><tr><td>wrap_positions</td><td>position(s) at which wrapping is to occur; 'n' is after the nth comma.</td><td>()</td><td>()</td><td>('with_wrapping_at',)</td></tr>\n",
       "<tr><td>justification</td><td>if any wrap positions are set, justify to the 'left', 'center', or 'right'</td><td>left</td><td>left</td><td>('with_justification',)</td></tr>\n",
       "</table>\n"
      ],
      "text/plain": [
       "style name: wrap_positions\n",
       "description: position(s) at which wrapping is to occur; 'n' is after the nth comma.\n",
       "default: ()\n",
       "current value: ()\n",
       "related methods: ('with_wrapping_at',)\n",
       "style name: justification\n",
       "description: if any wrap positions are set, justify to the 'left', 'center', or 'right'\n",
       "default: left\n",
       "current value: left\n",
       "related methods: ('with_justification',)"
      ]
     },
     "execution_count": 5,
     "metadata": {},
     "output_type": "execute_result"
    }
   ],
   "source": [
    "expr.style_options()"
   ]
  },
  {
   "cell_type": "code",
   "execution_count": 6,
   "metadata": {},
   "outputs": [
    {
     "data": {
      "text/html": [
       "<table><tr><th>&nbsp;</th><th>core type</th><th>sub-expressions</th><th>expression</th></tr>\n",
       "<tr><td>0</td><td>ExprTuple</td><td>1, 2</td><td><a class=\"ProveItLink\" href=\"expr.ipynb\"><img src=\"expr.png\" style=\"display:inline;vertical-align:middle;\" /></a></td></tr>\n",
       "<tr><td>1</td><td>Operation</td><td>operator:&nbsp;4<br>operand:&nbsp;6<br></td><td><a class=\"ProveItLink\" href=\"../ca24a888b2707223d93f635ee15b8969f01458f10/expr.ipynb\"><img src=\"../ca24a888b2707223d93f635ee15b8969f01458f10/expr.png\" style=\"display:inline;vertical-align:middle;\" /></a></td></tr>\n",
       "<tr><td>2</td><td>Operation</td><td>operator:&nbsp;4<br>operand:&nbsp;7<br></td><td><a class=\"ProveItLink\" href=\"../b605be3b2f55cac3ae810caa0d688bd39d5c803d0/expr.ipynb\"><img src=\"../b605be3b2f55cac3ae810caa0d688bd39d5c803d0/expr.png\" style=\"display:inline;vertical-align:middle;\" /></a></td></tr>\n",
       "<tr><td>3</td><td>ExprTuple</td><td>6</td><td><a class=\"ProveItLink\" href=\"../1526c18034a0c799b8d149d1725cae06874ff2a10/expr.ipynb\"><img src=\"../1526c18034a0c799b8d149d1725cae06874ff2a10/expr.png\" style=\"display:inline;vertical-align:middle;\" /></a></td></tr>\n",
       "<tr><td>4</td><td>Literal</td><td></td><td><a class=\"ProveItLink\" href=\"../../common/bfa5cfb2e03dde2ed2a79fcd50b6e0ef7e57c1b10/expr.ipynb\"><img src=\"../../common/bfa5cfb2e03dde2ed2a79fcd50b6e0ef7e57c1b10/expr.png\" style=\"display:inline;vertical-align:middle;\" /></a></td></tr>\n",
       "<tr><td>5</td><td>ExprTuple</td><td>7</td><td><a class=\"ProveItLink\" href=\"../3152b066308ab74b9bc1282eff9bfcb8b091ae9f0/expr.ipynb\"><img src=\"../3152b066308ab74b9bc1282eff9bfcb8b091ae9f0/expr.png\" style=\"display:inline;vertical-align:middle;\" /></a></td></tr>\n",
       "<tr><td>6</td><td>ExprTuple</td><td>8</td><td><a class=\"ProveItLink\" href=\"../6a87618823af6f3236d6846b606acc7b719b26270/expr.ipynb\"><img src=\"../6a87618823af6f3236d6846b606acc7b719b26270/expr.png\" style=\"display:inline;vertical-align:middle;\" /></a></td></tr>\n",
       "<tr><td>7</td><td>ExprTuple</td><td>9</td><td><a class=\"ProveItLink\" href=\"../414b79d1aa4483ffee9a11385a66ed7501b2a5b30/expr.ipynb\"><img src=\"../414b79d1aa4483ffee9a11385a66ed7501b2a5b30/expr.png\" style=\"display:inline;vertical-align:middle;\" /></a></td></tr>\n",
       "<tr><td>8</td><td>ExprRange</td><td>lambda_map:&nbsp;10<br>start_index:&nbsp;20<br>end_index:&nbsp;12<br></td><td><a class=\"ProveItLink\" href=\"../7414fc533830449f6eb14f57e87a726a7edf940b0/expr.ipynb\"><img src=\"../7414fc533830449f6eb14f57e87a726a7edf940b0/expr.png\" style=\"display:inline;vertical-align:middle;\" /></a></td></tr>\n",
       "<tr><td>9</td><td>ExprRange</td><td>lambda_map:&nbsp;11<br>start_index:&nbsp;20<br>end_index:&nbsp;12<br></td><td><a class=\"ProveItLink\" href=\"../99a574ebf901ce9c952ee0586de7048546d0554d0/expr.ipynb\"><img src=\"../99a574ebf901ce9c952ee0586de7048546d0554d0/expr.png\" style=\"display:inline;vertical-align:middle;\" /></a></td></tr>\n",
       "<tr><td>10</td><td>Lambda</td><td>parameter:&nbsp;36<br>body:&nbsp;13<br></td><td><a class=\"ProveItLink\" href=\"../c8412a78e276c829b542b77f36ddf76eb35a6a190/expr.ipynb\"><img src=\"../c8412a78e276c829b542b77f36ddf76eb35a6a190/expr.png\" style=\"display:inline;vertical-align:middle;\" /></a></td></tr>\n",
       "<tr><td>11</td><td>Lambda</td><td>parameter:&nbsp;36<br>body:&nbsp;14<br></td><td><a class=\"ProveItLink\" href=\"../2402497c942d65b49b24b7d54cb31202fab9963b0/expr.ipynb\"><img src=\"../2402497c942d65b49b24b7d54cb31202fab9963b0/expr.png\" style=\"display:inline;vertical-align:middle;\" /></a></td></tr>\n",
       "<tr><td>12</td><td>Variable</td><td></td><td><a class=\"ProveItLink\" href=\"../../../../../__pv_it/common/2dc4f15b3407a25e8d70754a86bf74f1871f92650/expr.ipynb\"><img src=\"../../../../../__pv_it/common/2dc4f15b3407a25e8d70754a86bf74f1871f92650/expr.png\" style=\"display:inline;vertical-align:middle;\" /></a></td></tr>\n",
       "<tr><td>13</td><td>ExprTuple</td><td>15</td><td><a class=\"ProveItLink\" href=\"../cfd4ce550c994232d102b9df372997a3a296d5070/expr.ipynb\"><img src=\"../cfd4ce550c994232d102b9df372997a3a296d5070/expr.png\" style=\"display:inline;vertical-align:middle;\" /></a></td></tr>\n",
       "<tr><td>14</td><td>ExprTuple</td><td>16</td><td><a class=\"ProveItLink\" href=\"../c438e3bc24bbe0601cc2dfed01ae80bee49d19d10/expr.ipynb\"><img src=\"../c438e3bc24bbe0601cc2dfed01ae80bee49d19d10/expr.png\" style=\"display:inline;vertical-align:middle;\" /></a></td></tr>\n",
       "<tr><td>15</td><td>ExprRange</td><td>lambda_map:&nbsp;17<br>start_index:&nbsp;20<br>end_index:&nbsp;18<br></td><td><a class=\"ProveItLink\" href=\"../bfc0f9300c97c461155435cdec9b4dda2567d56c0/expr.ipynb\"><img src=\"../bfc0f9300c97c461155435cdec9b4dda2567d56c0/expr.png\" style=\"display:inline;vertical-align:middle;\" /></a></td></tr>\n",
       "<tr><td>16</td><td>ExprRange</td><td>lambda_map:&nbsp;19<br>start_index:&nbsp;20<br>end_index:&nbsp;21<br></td><td><a class=\"ProveItLink\" href=\"../277f70d5aaecff53aa9a1d424990a1058601283e0/expr.ipynb\"><img src=\"../277f70d5aaecff53aa9a1d424990a1058601283e0/expr.png\" style=\"display:inline;vertical-align:middle;\" /></a></td></tr>\n",
       "<tr><td>17</td><td>Lambda</td><td>parameter:&nbsp;37<br>body:&nbsp;22<br></td><td><a class=\"ProveItLink\" href=\"../3d22c3422dbde61d680727d8e7e4137336eeb07f0/expr.ipynb\"><img src=\"../3d22c3422dbde61d680727d8e7e4137336eeb07f0/expr.png\" style=\"display:inline;vertical-align:middle;\" /></a></td></tr>\n",
       "<tr><td>18</td><td>Variable</td><td></td><td><a class=\"ProveItLink\" href=\"../../../../../__pv_it/common/62ea6b8ef24fd0a4fd963fbed7985d4e9614e4f70/expr.ipynb\"><img src=\"../../../../../__pv_it/common/62ea6b8ef24fd0a4fd963fbed7985d4e9614e4f70/expr.png\" style=\"display:inline;vertical-align:middle;\" /></a></td></tr>\n",
       "<tr><td>19</td><td>Lambda</td><td>parameter:&nbsp;37<br>body:&nbsp;23<br></td><td><a class=\"ProveItLink\" href=\"../b0bc6864cf39b42a65bdc58830db0f579f72c56a0/expr.ipynb\"><img src=\"../b0bc6864cf39b42a65bdc58830db0f579f72c56a0/expr.png\" style=\"display:inline;vertical-align:middle;\" /></a></td></tr>\n",
       "<tr><td>20</td><td>Literal</td><td></td><td><a class=\"ProveItLink\" href=\"../../../../../numbers/numerals/__pv_it/common/d278e359da0695d9652dd541d45264f93703e2e40/expr.ipynb\"><img src=\"../../../../../numbers/numerals/__pv_it/common/d278e359da0695d9652dd541d45264f93703e2e40/expr.png\" style=\"display:inline;vertical-align:middle;\" /></a></td></tr>\n",
       "<tr><td>21</td><td>Variable</td><td></td><td><a class=\"ProveItLink\" href=\"../../../../../__pv_it/common/6165c9bb82ce3c7097cdba4440a1aeeb6eaca8a40/expr.ipynb\"><img src=\"../../../../../__pv_it/common/6165c9bb82ce3c7097cdba4440a1aeeb6eaca8a40/expr.png\" style=\"display:inline;vertical-align:middle;\" /></a></td></tr>\n",
       "<tr><td>22</td><td>Operation</td><td>operator:&nbsp;25<br>operands:&nbsp;24<br></td><td><a class=\"ProveItLink\" href=\"../b1e78206ac1a7547999c7b9e46936148449f2a0e0/expr.ipynb\"><img src=\"../b1e78206ac1a7547999c7b9e46936148449f2a0e0/expr.png\" style=\"display:inline;vertical-align:middle;\" /></a></td></tr>\n",
       "<tr><td>23</td><td>Operation</td><td>operator:&nbsp;25<br>operands:&nbsp;26<br></td><td><a class=\"ProveItLink\" href=\"../74da54f499813ff889b1f8b062ca147e55d533910/expr.ipynb\"><img src=\"../74da54f499813ff889b1f8b062ca147e55d533910/expr.png\" style=\"display:inline;vertical-align:middle;\" /></a></td></tr>\n",
       "<tr><td>24</td><td>ExprTuple</td><td>27, 28</td><td><a class=\"ProveItLink\" href=\"../d8222b7ebab80b62626b6fa908c1c1d4212d27430/expr.ipynb\"><img src=\"../d8222b7ebab80b62626b6fa908c1c1d4212d27430/expr.png\" style=\"display:inline;vertical-align:middle;\" /></a></td></tr>\n",
       "<tr><td>25</td><td>Literal</td><td></td><td><a class=\"ProveItLink\" href=\"../../common/38deceb0a69e80c36399d725649803706802a2a90/expr.ipynb\"><img src=\"../../common/38deceb0a69e80c36399d725649803706802a2a90/expr.png\" style=\"display:inline;vertical-align:middle;\" /></a></td></tr>\n",
       "<tr><td>26</td><td>ExprTuple</td><td>29, 30</td><td><a class=\"ProveItLink\" href=\"../19119213e8afd938aeccc2ec30c27f1a49cb4f550/expr.ipynb\"><img src=\"../19119213e8afd938aeccc2ec30c27f1a49cb4f550/expr.png\" style=\"display:inline;vertical-align:middle;\" /></a></td></tr>\n",
       "<tr><td>27</td><td>IndexedVar</td><td>variable:&nbsp;31<br>indices:&nbsp;35<br></td><td><a class=\"ProveItLink\" href=\"../../../../../core_expr_types/expr_arrays/__pv_it/common/c912acdcbf2a77f4b6227d5e6d9a04712546dd990/expr.ipynb\"><img src=\"../../../../../core_expr_types/expr_arrays/__pv_it/common/c912acdcbf2a77f4b6227d5e6d9a04712546dd990/expr.png\" style=\"display:inline;vertical-align:middle;\" /></a></td></tr>\n",
       "<tr><td>28</td><td>IndexedVar</td><td>variable:&nbsp;32<br>indices:&nbsp;35<br></td><td><a class=\"ProveItLink\" href=\"../../../../../core_expr_types/expr_arrays/__pv_it/common/ed3988807226b81aad9d5e0a856a4f513aa9298e0/expr.ipynb\"><img src=\"../../../../../core_expr_types/expr_arrays/__pv_it/common/ed3988807226b81aad9d5e0a856a4f513aa9298e0/expr.png\" style=\"display:inline;vertical-align:middle;\" /></a></td></tr>\n",
       "<tr><td>29</td><td>IndexedVar</td><td>variable:&nbsp;33<br>indices:&nbsp;35<br></td><td><a class=\"ProveItLink\" href=\"../../../../../core_expr_types/expr_arrays/__pv_it/common/8e122e0c03da99cf4e51461fcb2c93928f92cb550/expr.ipynb\"><img src=\"../../../../../core_expr_types/expr_arrays/__pv_it/common/8e122e0c03da99cf4e51461fcb2c93928f92cb550/expr.png\" style=\"display:inline;vertical-align:middle;\" /></a></td></tr>\n",
       "<tr><td>30</td><td>IndexedVar</td><td>variable:&nbsp;34<br>indices:&nbsp;35<br></td><td><a class=\"ProveItLink\" href=\"../../../../../core_expr_types/expr_arrays/__pv_it/common/29b2a42564e2bd68f988108464c87826d4366e390/expr.ipynb\"><img src=\"../../../../../core_expr_types/expr_arrays/__pv_it/common/29b2a42564e2bd68f988108464c87826d4366e390/expr.png\" style=\"display:inline;vertical-align:middle;\" /></a></td></tr>\n",
       "<tr><td>31</td><td>Variable</td><td></td><td><a class=\"ProveItLink\" href=\"../../../../../__pv_it/common/4eca3b30dcf58a58494e201d1b7886d8643a617b0/expr.ipynb\"><img src=\"../../../../../__pv_it/common/4eca3b30dcf58a58494e201d1b7886d8643a617b0/expr.png\" style=\"display:inline;vertical-align:middle;\" /></a></td></tr>\n",
       "<tr><td>32</td><td>Variable</td><td></td><td><a class=\"ProveItLink\" href=\"../../../../../__pv_it/common/50527aea954422d65ebe44b8de200683294751540/expr.ipynb\"><img src=\"../../../../../__pv_it/common/50527aea954422d65ebe44b8de200683294751540/expr.png\" style=\"display:inline;vertical-align:middle;\" /></a></td></tr>\n",
       "<tr><td>33</td><td>Variable</td><td></td><td><a class=\"ProveItLink\" href=\"../../../../../__pv_it/common/e5e296931d7f88d2c0ed4dd1b8498a680788952f0/expr.ipynb\"><img src=\"../../../../../__pv_it/common/e5e296931d7f88d2c0ed4dd1b8498a680788952f0/expr.png\" style=\"display:inline;vertical-align:middle;\" /></a></td></tr>\n",
       "<tr><td>34</td><td>Variable</td><td></td><td><a class=\"ProveItLink\" href=\"../../../../../__pv_it/common/259d0846cd49c4882c35ec84d7a0b180713721cc0/expr.ipynb\"><img src=\"../../../../../__pv_it/common/259d0846cd49c4882c35ec84d7a0b180713721cc0/expr.png\" style=\"display:inline;vertical-align:middle;\" /></a></td></tr>\n",
       "<tr><td>35</td><td>ExprTuple</td><td>36, 37</td><td><a class=\"ProveItLink\" href=\"../../../../../core_expr_types/expr_arrays/__pv_it/common/8cc0879db459b7e49bd46852f9da16970a0f1f110/expr.ipynb\"><img src=\"../../../../../core_expr_types/expr_arrays/__pv_it/common/8cc0879db459b7e49bd46852f9da16970a0f1f110/expr.png\" style=\"display:inline;vertical-align:middle;\" /></a></td></tr>\n",
       "<tr><td>36</td><td>Variable</td><td></td><td><a class=\"ProveItLink\" href=\"../../../../../__pv_it/common/575a6156bb1c87c5beeaf38c302b5905ad57f5780/expr.ipynb\"><img src=\"../../../../../__pv_it/common/575a6156bb1c87c5beeaf38c302b5905ad57f5780/expr.png\" style=\"display:inline;vertical-align:middle;\" /></a></td></tr>\n",
       "<tr><td>37</td><td>Variable</td><td></td><td><a class=\"ProveItLink\" href=\"../../../../../__pv_it/common/5514cc9a63b9c2ed9b63934dd5e088ab0d4f10080/expr.ipynb\"><img src=\"../../../../../__pv_it/common/5514cc9a63b9c2ed9b63934dd5e088ab0d4f10080/expr.png\" style=\"display:inline;vertical-align:middle;\" /></a></td></tr>\n",
       "</table>\n"
      ],
      "text/plain": [
       "0. ( MultiQubitGate(B_{1, 1}, Q_{1, 1})  & ..MultiQubitGate(B_{1, j}, Q_{1, j})..  & MultiQubitGate(B_{1, h}, Q_{1, h})   \\\\ \n",
       "   \\colon  & \\colon  & \\colon   \\\\ \n",
       "   MultiQubitGate(B_{i, 1}, Q_{i, 1})  & ..MultiQubitGate(B_{i, j}, Q_{i, j})..  & MultiQubitGate(B_{i, h}, Q_{i, h})   \\\\ \n",
       "   \\colon  & \\colon  & \\colon   \\\\ \n",
       "   MultiQubitGate(B_{m, 1}, Q_{m, 1})  & ..MultiQubitGate(B_{m, j}, Q_{m, j})..  & MultiQubitGate(B_{m, h}, Q_{m, h}),  MultiQubitGate(D_{1, 1}, S_{1, 1})  & ..MultiQubitGate(D_{1, j}, S_{1, j})..  & MultiQubitGate(D_{1, n}, S_{1, n})   \\\\ \n",
       "   \\colon  & \\colon  & \\colon   \\\\ \n",
       "   MultiQubitGate(D_{i, 1}, S_{i, 1})  & ..MultiQubitGate(D_{i, j}, S_{i, j})..  & MultiQubitGate(D_{i, n}, S_{i, n})   \\\\ \n",
       "   \\colon  & \\colon  & \\colon   \\\\ \n",
       "   MultiQubitGate(D_{m, 1}, S_{m, 1})  & ..MultiQubitGate(D_{m, j}, S_{m, j})..  & MultiQubitGate(D_{m, n}, S_{m, n}))\n",
       "   core type: ExprTuple\n",
       "   sub-expressions: 1, 2\n",
       "1.  MultiQubitGate(B_{1, 1}, Q_{1, 1})  & ..MultiQubitGate(B_{1, j}, Q_{1, j})..  & MultiQubitGate(B_{1, h}, Q_{1, h})   \\\\ \n",
       "   \\colon  & \\colon  & \\colon   \\\\ \n",
       "   MultiQubitGate(B_{i, 1}, Q_{i, 1})  & ..MultiQubitGate(B_{i, j}, Q_{i, j})..  & MultiQubitGate(B_{i, h}, Q_{i, h})   \\\\ \n",
       "   \\colon  & \\colon  & \\colon   \\\\ \n",
       "   MultiQubitGate(B_{m, 1}, Q_{m, 1})  & ..MultiQubitGate(B_{m, j}, Q_{m, j})..  & MultiQubitGate(B_{m, h}, Q_{m, h})\n",
       "   core type: Operation\n",
       "   operator: 4\n",
       "   operand: 6\n",
       "2.  MultiQubitGate(D_{1, 1}, S_{1, 1})  & ..MultiQubitGate(D_{1, j}, S_{1, j})..  & MultiQubitGate(D_{1, n}, S_{1, n})   \\\\ \n",
       "   \\colon  & \\colon  & \\colon   \\\\ \n",
       "   MultiQubitGate(D_{i, 1}, S_{i, 1})  & ..MultiQubitGate(D_{i, j}, S_{i, j})..  & MultiQubitGate(D_{i, n}, S_{i, n})   \\\\ \n",
       "   \\colon  & \\colon  & \\colon   \\\\ \n",
       "   MultiQubitGate(D_{m, 1}, S_{m, 1})  & ..MultiQubitGate(D_{m, j}, S_{m, j})..  & MultiQubitGate(D_{m, n}, S_{m, n})\n",
       "   core type: Operation\n",
       "   operator: 4\n",
       "   operand: 7\n",
       "3. ((MultiQubitGate(B_{1, 1}, Q_{1, 1}) & ..MultiQubitGate(B_{1, j}, Q_{1, j}).. & MultiQubitGate(B_{1, h}, Q_{1, h})  \\\\ \n",
       "  \\colon & \\colon & \\colon  \\\\ \n",
       "  MultiQubitGate(B_{i, 1}, Q_{i, 1}) & ..MultiQubitGate(B_{i, j}, Q_{i, j}).. & MultiQubitGate(B_{i, h}, Q_{i, h})  \\\\ \n",
       "  \\colon & \\colon & \\colon  \\\\ \n",
       "  MultiQubitGate(B_{m, 1}, Q_{m, 1}) & ..MultiQubitGate(B_{m, j}, Q_{m, j}).. & MultiQubitGate(B_{m, h}, Q_{m, h})))\n",
       "   core type: ExprTuple\n",
       "   sub-expressions: 6\n",
       "4. CIRCUIT\n",
       "   core type: Literal\n",
       "   sub-expressions: \n",
       "5. ((MultiQubitGate(D_{1, 1}, S_{1, 1}) & ..MultiQubitGate(D_{1, j}, S_{1, j}).. & MultiQubitGate(D_{1, n}, S_{1, n})  \\\\ \n",
       "  \\colon & \\colon & \\colon  \\\\ \n",
       "  MultiQubitGate(D_{i, 1}, S_{i, 1}) & ..MultiQubitGate(D_{i, j}, S_{i, j}).. & MultiQubitGate(D_{i, n}, S_{i, n})  \\\\ \n",
       "  \\colon & \\colon & \\colon  \\\\ \n",
       "  MultiQubitGate(D_{m, 1}, S_{m, 1}) & ..MultiQubitGate(D_{m, j}, S_{m, j}).. & MultiQubitGate(D_{m, n}, S_{m, n})))\n",
       "   core type: ExprTuple\n",
       "   sub-expressions: 7\n",
       "6. MultiQubitGate(B_{1, 1}, Q_{1, 1}) & ..MultiQubitGate(B_{1, j}, Q_{1, j}).. & MultiQubitGate(B_{1, h}, Q_{1, h})  \\\\ \n",
       "  \\colon & \\colon & \\colon  \\\\ \n",
       "  MultiQubitGate(B_{i, 1}, Q_{i, 1}) & ..MultiQubitGate(B_{i, j}, Q_{i, j}).. & MultiQubitGate(B_{i, h}, Q_{i, h})  \\\\ \n",
       "  \\colon & \\colon & \\colon  \\\\ \n",
       "  MultiQubitGate(B_{m, 1}, Q_{m, 1}) & ..MultiQubitGate(B_{m, j}, Q_{m, j}).. & MultiQubitGate(B_{m, h}, Q_{m, h})\n",
       "   core type: ExprTuple\n",
       "   sub-expressions: 8\n",
       "7. MultiQubitGate(D_{1, 1}, S_{1, 1}) & ..MultiQubitGate(D_{1, j}, S_{1, j}).. & MultiQubitGate(D_{1, n}, S_{1, n})  \\\\ \n",
       "  \\colon & \\colon & \\colon  \\\\ \n",
       "  MultiQubitGate(D_{i, 1}, S_{i, 1}) & ..MultiQubitGate(D_{i, j}, S_{i, j}).. & MultiQubitGate(D_{i, n}, S_{i, n})  \\\\ \n",
       "  \\colon & \\colon & \\colon  \\\\ \n",
       "  MultiQubitGate(D_{m, 1}, S_{m, 1}) & ..MultiQubitGate(D_{m, j}, S_{m, j}).. & MultiQubitGate(D_{m, n}, S_{m, n})\n",
       "   core type: ExprTuple\n",
       "   sub-expressions: 9\n",
       "8. (MultiQubitGate(B_{1, 1}, Q_{1, 1}), ..MultiQubitGate(B_{1, j}, Q_{1, j}).., MultiQubitGate(B_{1, h}, Q_{1, h})), ..(MultiQubitGate(B_{i, 1}, Q_{i, 1}), ..MultiQubitGate(B_{i, j}, Q_{i, j}).., MultiQubitGate(B_{i, h}, Q_{i, h})).., (MultiQubitGate(B_{m, 1}, Q_{m, 1}), ..MultiQubitGate(B_{m, j}, Q_{m, j}).., MultiQubitGate(B_{m, h}, Q_{m, h}))\n",
       "   core type: ExprRange\n",
       "   lambda_map: 10\n",
       "   start_index: 20\n",
       "   end_index: 12\n",
       "9. (MultiQubitGate(D_{1, 1}, S_{1, 1}), ..MultiQubitGate(D_{1, j}, S_{1, j}).., MultiQubitGate(D_{1, n}, S_{1, n})), ..(MultiQubitGate(D_{i, 1}, S_{i, 1}), ..MultiQubitGate(D_{i, j}, S_{i, j}).., MultiQubitGate(D_{i, n}, S_{i, n})).., (MultiQubitGate(D_{m, 1}, S_{m, 1}), ..MultiQubitGate(D_{m, j}, S_{m, j}).., MultiQubitGate(D_{m, n}, S_{m, n}))\n",
       "   core type: ExprRange\n",
       "   lambda_map: 11\n",
       "   start_index: 20\n",
       "   end_index: 12\n",
       "10. i -> (MultiQubitGate(B_{i, 1}, Q_{i, 1}), ..MultiQubitGate(B_{i, j}, Q_{i, j}).., MultiQubitGate(B_{i, h}, Q_{i, h}))\n",
       "    core type: Lambda\n",
       "    parameter: 36\n",
       "    body: 13\n",
       "11. i -> (MultiQubitGate(D_{i, 1}, S_{i, 1}), ..MultiQubitGate(D_{i, j}, S_{i, j}).., MultiQubitGate(D_{i, n}, S_{i, n}))\n",
       "    core type: Lambda\n",
       "    parameter: 36\n",
       "    body: 14\n",
       "12. m\n",
       "    core type: Variable\n",
       "    sub-expressions: \n",
       "13. (MultiQubitGate(B_{i, 1}, Q_{i, 1}), ..MultiQubitGate(B_{i, j}, Q_{i, j}).., MultiQubitGate(B_{i, h}, Q_{i, h}))\n",
       "    core type: ExprTuple\n",
       "    sub-expressions: 15\n",
       "14. (MultiQubitGate(D_{i, 1}, S_{i, 1}), ..MultiQubitGate(D_{i, j}, S_{i, j}).., MultiQubitGate(D_{i, n}, S_{i, n}))\n",
       "    core type: ExprTuple\n",
       "    sub-expressions: 16\n",
       "15. MultiQubitGate(B_{i, 1}, Q_{i, 1}), ..MultiQubitGate(B_{i, j}, Q_{i, j}).., MultiQubitGate(B_{i, h}, Q_{i, h})\n",
       "    core type: ExprRange\n",
       "    lambda_map: 17\n",
       "    start_index: 20\n",
       "    end_index: 18\n",
       "16. MultiQubitGate(D_{i, 1}, S_{i, 1}), ..MultiQubitGate(D_{i, j}, S_{i, j}).., MultiQubitGate(D_{i, n}, S_{i, n})\n",
       "    core type: ExprRange\n",
       "    lambda_map: 19\n",
       "    start_index: 20\n",
       "    end_index: 21\n",
       "17. j -> MultiQubitGate(B_{i, j}, Q_{i, j})\n",
       "    core type: Lambda\n",
       "    parameter: 37\n",
       "    body: 22\n",
       "18. h\n",
       "    core type: Variable\n",
       "    sub-expressions: \n",
       "19. j -> MultiQubitGate(D_{i, j}, S_{i, j})\n",
       "    core type: Lambda\n",
       "    parameter: 37\n",
       "    body: 23\n",
       "20. 1\n",
       "    core type: Literal\n",
       "    sub-expressions: \n",
       "21. n\n",
       "    core type: Variable\n",
       "    sub-expressions: \n",
       "22. MultiQubitGate(B_{i, j}, Q_{i, j})\n",
       "    core type: Operation\n",
       "    operator: 25\n",
       "    operands: 24\n",
       "23. MultiQubitGate(D_{i, j}, S_{i, j})\n",
       "    core type: Operation\n",
       "    operator: 25\n",
       "    operands: 26\n",
       "24. (B_{i, j}, Q_{i, j})\n",
       "    core type: ExprTuple\n",
       "    sub-expressions: 27, 28\n",
       "25. MULTI_QUBIT_GATE\n",
       "    core type: Literal\n",
       "    sub-expressions: \n",
       "26. (D_{i, j}, S_{i, j})\n",
       "    core type: ExprTuple\n",
       "    sub-expressions: 29, 30\n",
       "27. B_{i, j}\n",
       "    core type: IndexedVar\n",
       "variable: 31\n",
       "indices: 35\n",
       "28. Q_{i, j}\n",
       "    core type: IndexedVar\n",
       "variable: 32\n",
       "indices: 35\n",
       "29. D_{i, j}\n",
       "    core type: IndexedVar\n",
       "variable: 33\n",
       "indices: 35\n",
       "30. S_{i, j}\n",
       "    core type: IndexedVar\n",
       "variable: 34\n",
       "indices: 35\n",
       "31. B\n",
       "    core type: Variable\n",
       "    sub-expressions: \n",
       "32. Q\n",
       "    core type: Variable\n",
       "    sub-expressions: \n",
       "33. D\n",
       "    core type: Variable\n",
       "    sub-expressions: \n",
       "34. S\n",
       "    core type: Variable\n",
       "    sub-expressions: \n",
       "35. (i, j)\n",
       "    core type: ExprTuple\n",
       "    sub-expressions: 36, 37\n",
       "36. i\n",
       "    core type: Variable\n",
       "    sub-expressions: \n",
       "37. j\n",
       "    core type: Variable\n",
       "    sub-expressions: "
      ]
     },
     "execution_count": 6,
     "metadata": {},
     "output_type": "execute_result"
    }
   ],
   "source": [
    "# display the expression information\n",
    "expr.expr_info()"
   ]
  },
  {
   "cell_type": "code",
   "execution_count": null,
   "metadata": {},
   "outputs": [],
   "source": []
  }
 ],
 "metadata": {
  "kernelspec": {
   "display_name": "Python 3",
   "language": "python",
   "name": "python3"
  }
 },
 "nbformat": 4,
 "nbformat_minor": 0
}