{
 "cells": [
  {
   "cell_type": "markdown",
   "metadata": {},
   "source": [
    "Expression of type <a class=\"ProveItLink\" href=\"../../../../../../../doc/html/api/proveit.ExprArray.html\">ExprArray</a>\n",
    "=======================\n",
    "# from the theory of <a class=\"ProveItLink\" href=\"../../../_theory_nbs_/theory.ipynb\">proveit.physics.quantum</a>"
   ]
  },
  {
   "cell_type": "code",
   "execution_count": 1,
   "metadata": {},
   "outputs": [],
   "source": [
    "import proveit\n",
    "# Automation is not needed when building an expression:\n",
    "proveit.defaults.automation = False # This will speed things up.\n",
    "proveit.defaults.inline_pngs = False # Makes files smaller.\n",
    "%load_expr # Load the stored expression as 'stored_expr'\n",
    "# import Expression classes needed to build the expression\n",
    "from proveit import ExprArray, Literal\n",
    "from proveit.numbers import DecimalSequence, Neg, one, zero\n",
    "from proveit.physics.quantum import Ket"
   ]
  },
  {
   "cell_type": "code",
   "execution_count": 2,
   "metadata": {},
   "outputs": [
    {
     "data": {
      "text/html": [
       "<strong id=\"expr\">expr:</strong> <a class=\"ProveItLink\" href=\"expr.ipynb\"><img src=\"expr.png\" style=\"display:inline;vertical-align:middle;\" /></a><br>"
      ],
      "text/plain": [
       "expr: ~ & |00〉 & |01〉 & |10〉 & |11〉  \\\\ \n",
       "  |00〉 & 1 & 0 & 0 & 0  \\\\ \n",
       "  |01〉 & 0 & 1 & 0 & 0  \\\\ \n",
       "  |10〉 & 0 & 0 & 1 & 0  \\\\ \n",
       "  |11〉 & 0 & 0 & 0 & -1"
      ]
     },
     "execution_count": 2,
     "metadata": {},
     "output_type": "execute_result"
    }
   ],
   "source": [
    "# build up the expression from sub-expressions\n",
    "sub_expr1 = Ket(DecimalSequence(zero, zero))\n",
    "sub_expr2 = Ket(DecimalSequence(zero, one))\n",
    "sub_expr3 = Ket(DecimalSequence(one, zero))\n",
    "sub_expr4 = Ket(DecimalSequence(one, one))\n",
    "expr = ExprArray([Literal(\"~\", theory = \"proveit.physics.quantum\"), sub_expr1, sub_expr2, sub_expr3, sub_expr4], [sub_expr1, one, zero, zero, zero], [sub_expr2, zero, one, zero, zero], [sub_expr3, zero, zero, one, zero], [sub_expr4, zero, zero, zero, Neg(one)])"
   ]
  },
  {
   "cell_type": "code",
   "execution_count": 3,
   "metadata": {},
   "outputs": [
    {
     "name": "stdout",
     "output_type": "stream",
     "text": [
      "Passed sanity check: expr matches stored_expr\n"
     ]
    }
   ],
   "source": [
    "# check that the built expression is the same as the stored expression\n",
    "assert expr == stored_expr\n",
    "assert expr._style_id == stored_expr._style_id\n",
    "print(\"Passed sanity check: expr matches stored_expr\")"
   ]
  },
  {
   "cell_type": "code",
   "execution_count": 4,
   "metadata": {},
   "outputs": [
    {
     "name": "stdout",
     "output_type": "stream",
     "text": [
      "\\begin{array} {ccccc} \n",
      " ~ & \\lvert 00 \\rangle & \\lvert 01 \\rangle & \\lvert 10 \\rangle & \\lvert 11 \\rangle  \\\\ \n",
      "  \\lvert 00 \\rangle & 1 & 0 & 0 & 0  \\\\ \n",
      "  \\lvert 01 \\rangle & 0 & 1 & 0 & 0  \\\\ \n",
      "  \\lvert 10 \\rangle & 0 & 0 & 1 & 0  \\\\ \n",
      "  \\lvert 11 \\rangle & 0 & 0 & 0 & -1 \\end{array} \n",
      "\n"
     ]
    }
   ],
   "source": [
    "# Show the LaTeX representation of the expression for convenience if you need it.\n",
    "print(expr.latex())"
   ]
  },
  {
   "cell_type": "code",
   "execution_count": 5,
   "metadata": {},
   "outputs": [
    {
     "data": {
      "text/html": [
       "<table><tr><th>&nbsp;</th><th>core type</th><th>sub-expressions</th><th>expression</th></tr>\n",
       "<tr><td>0</td><td>ExprTuple</td><td>1, 2, 3, 4, 5</td><td><a class=\"ProveItLink\" href=\"expr.ipynb\"><img src=\"expr.png\" style=\"display:inline;vertical-align:middle;\" /></a></td></tr>\n",
       "<tr><td>1</td><td>ExprTuple</td><td>6, 7, 8, 9, 10</td><td><a class=\"ProveItLink\" href=\"../b0d0252ac62c9348ed284a7d35d4104c136c49360/expr.ipynb\"><img src=\"../b0d0252ac62c9348ed284a7d35d4104c136c49360/expr.png\" style=\"display:inline;vertical-align:middle;\" /></a></td></tr>\n",
       "<tr><td>2</td><td>ExprTuple</td><td>7, 24, 23, 23, 23</td><td><a class=\"ProveItLink\" href=\"../70b18e3f5aed290d239c826f39c90a4d0093e7590/expr.ipynb\"><img src=\"../70b18e3f5aed290d239c826f39c90a4d0093e7590/expr.png\" style=\"display:inline;vertical-align:middle;\" /></a></td></tr>\n",
       "<tr><td>3</td><td>ExprTuple</td><td>8, 23, 24, 23, 23</td><td><a class=\"ProveItLink\" href=\"../9c591cfb7c754ad841337f9aff1f0a9da96166320/expr.ipynb\"><img src=\"../9c591cfb7c754ad841337f9aff1f0a9da96166320/expr.png\" style=\"display:inline;vertical-align:middle;\" /></a></td></tr>\n",
       "<tr><td>4</td><td>ExprTuple</td><td>9, 23, 23, 24, 23</td><td><a class=\"ProveItLink\" href=\"../0a38504e1b95ec1779e70d023d81a200b795ec470/expr.ipynb\"><img src=\"../0a38504e1b95ec1779e70d023d81a200b795ec470/expr.png\" style=\"display:inline;vertical-align:middle;\" /></a></td></tr>\n",
       "<tr><td>5</td><td>ExprTuple</td><td>10, 23, 23, 23, 11</td><td><a class=\"ProveItLink\" href=\"../479741b1ce4d85ef1200441c10a5263eb861fa220/expr.ipynb\"><img src=\"../479741b1ce4d85ef1200441c10a5263eb861fa220/expr.png\" style=\"display:inline;vertical-align:middle;\" /></a></td></tr>\n",
       "<tr><td>6</td><td>Literal</td><td></td><td><a class=\"ProveItLink\" href=\"../d9348aa05997b918a61eef4ea38eba3f69fbac8a0/expr.ipynb\"><img src=\"../d9348aa05997b918a61eef4ea38eba3f69fbac8a0/expr.png\" style=\"display:inline;vertical-align:middle;\" /></a></td></tr>\n",
       "<tr><td>7</td><td>Operation</td><td>operator:&nbsp;15<br>operand:&nbsp;12<br></td><td><a class=\"ProveItLink\" href=\"../d97c23a59fc395db636a9e626827f753b93a8b810/expr.ipynb\"><img src=\"../d97c23a59fc395db636a9e626827f753b93a8b810/expr.png\" style=\"display:inline;vertical-align:middle;\" /></a></td></tr>\n",
       "<tr><td>8</td><td>Operation</td><td>operator:&nbsp;15<br>operand:&nbsp;13<br></td><td><a class=\"ProveItLink\" href=\"../243bf7ec2989ab298d22e253fa3c63797184ea090/expr.ipynb\"><img src=\"../243bf7ec2989ab298d22e253fa3c63797184ea090/expr.png\" style=\"display:inline;vertical-align:middle;\" /></a></td></tr>\n",
       "<tr><td>9</td><td>Operation</td><td>operator:&nbsp;15<br>operand:&nbsp;14<br></td><td><a class=\"ProveItLink\" href=\"../972b10ee8df788628bd33b611a0630ac4135427e0/expr.ipynb\"><img src=\"../972b10ee8df788628bd33b611a0630ac4135427e0/expr.png\" style=\"display:inline;vertical-align:middle;\" /></a></td></tr>\n",
       "<tr><td>10</td><td>Operation</td><td>operator:&nbsp;15<br>operand:&nbsp;16<br></td><td><a class=\"ProveItLink\" href=\"../6c63f3b85d4425ac2e826d347848becf9d3b30f10/expr.ipynb\"><img src=\"../6c63f3b85d4425ac2e826d347848becf9d3b30f10/expr.png\" style=\"display:inline;vertical-align:middle;\" /></a></td></tr>\n",
       "<tr><td>11</td><td>Operation</td><td>operator:&nbsp;17<br>operand:&nbsp;24<br></td><td><a class=\"ProveItLink\" href=\"../44da79c41f096863320e2aca2d20b6c16cdd623b0/expr.ipynb\"><img src=\"../44da79c41f096863320e2aca2d20b6c16cdd623b0/expr.png\" style=\"display:inline;vertical-align:middle;\" /></a></td></tr>\n",
       "<tr><td>12</td><td>Operation</td><td>operator:&nbsp;21<br>operands:&nbsp;18<br></td><td><a class=\"ProveItLink\" href=\"../846d171b59df37f499714918aad852a3a363e7700/expr.ipynb\"><img src=\"../846d171b59df37f499714918aad852a3a363e7700/expr.png\" style=\"display:inline;vertical-align:middle;\" /></a></td></tr>\n",
       "<tr><td>13</td><td>Operation</td><td>operator:&nbsp;21<br>operands:&nbsp;19<br></td><td><a class=\"ProveItLink\" href=\"../cf8a9629b9b3d0b7f7ca277c8a772f43ecb56e550/expr.ipynb\"><img src=\"../cf8a9629b9b3d0b7f7ca277c8a772f43ecb56e550/expr.png\" style=\"display:inline;vertical-align:middle;\" /></a></td></tr>\n",
       "<tr><td>14</td><td>Operation</td><td>operator:&nbsp;21<br>operands:&nbsp;20<br></td><td><a class=\"ProveItLink\" href=\"../b0a49ac68afe3741fcc49d15f3d496eef1e6973a0/expr.ipynb\"><img src=\"../b0a49ac68afe3741fcc49d15f3d496eef1e6973a0/expr.png\" style=\"display:inline;vertical-align:middle;\" /></a></td></tr>\n",
       "<tr><td>15</td><td>Literal</td><td></td><td><a class=\"ProveItLink\" href=\"../../common/211157ad123e11ebc76ee54e41be13705eefd6800/expr.ipynb\"><img src=\"../../common/211157ad123e11ebc76ee54e41be13705eefd6800/expr.png\" style=\"display:inline;vertical-align:middle;\" /></a></td></tr>\n",
       "<tr><td>16</td><td>Operation</td><td>operator:&nbsp;21<br>operands:&nbsp;22<br></td><td><a class=\"ProveItLink\" href=\"../6e669c85e02130bc216203b5d6c5e866559915e00/expr.ipynb\"><img src=\"../6e669c85e02130bc216203b5d6c5e866559915e00/expr.png\" style=\"display:inline;vertical-align:middle;\" /></a></td></tr>\n",
       "<tr><td>17</td><td>Literal</td><td></td><td><a class=\"ProveItLink\" href=\"../../../../../numbers/negation/__pv_it/common/221b3c4d1770ee9051b7c044c3f9ec61196fc34b0/expr.ipynb\"><img src=\"../../../../../numbers/negation/__pv_it/common/221b3c4d1770ee9051b7c044c3f9ec61196fc34b0/expr.png\" style=\"display:inline;vertical-align:middle;\" /></a></td></tr>\n",
       "<tr><td>18</td><td>ExprTuple</td><td>23, 23</td><td><a class=\"ProveItLink\" href=\"../52ccdf0361b5796e7c477283f9d90c95d7d59fbd0/expr.ipynb\"><img src=\"../52ccdf0361b5796e7c477283f9d90c95d7d59fbd0/expr.png\" style=\"display:inline;vertical-align:middle;\" /></a></td></tr>\n",
       "<tr><td>19</td><td>ExprTuple</td><td>23, 24</td><td><a class=\"ProveItLink\" href=\"../../../../../numbers/numerals/decimals/__pv_it/theorems/1eddf9183d9c90932ef0a62a449e4f7b71e1dd570/expr.ipynb\"><img src=\"../../../../../numbers/numerals/decimals/__pv_it/theorems/1eddf9183d9c90932ef0a62a449e4f7b71e1dd570/expr.png\" style=\"display:inline;vertical-align:middle;\" /></a></td></tr>\n",
       "<tr><td>20</td><td>ExprTuple</td><td>24, 23</td><td><a class=\"ProveItLink\" href=\"../9cb9227d2b9d706fb915c13d96671d726f20e35a0/expr.ipynb\"><img src=\"../9cb9227d2b9d706fb915c13d96671d726f20e35a0/expr.png\" style=\"display:inline;vertical-align:middle;\" /></a></td></tr>\n",
       "<tr><td>21</td><td>Literal</td><td></td><td><a class=\"ProveItLink\" href=\"../../../../../numbers/numerals/decimals/__pv_it/common/1e4ac31e17772d15a8c2f39677f3067889fee3d20/expr.ipynb\"><img src=\"../../../../../numbers/numerals/decimals/__pv_it/common/1e4ac31e17772d15a8c2f39677f3067889fee3d20/expr.png\" style=\"display:inline;vertical-align:middle;\" /></a></td></tr>\n",
       "<tr><td>22</td><td>ExprTuple</td><td>24, 24</td><td><a class=\"ProveItLink\" href=\"../../../../../numbers/numerals/decimals/__pv_it/theorems/006ca7fac35fa78ab48746b6e8ae349de6de1e270/expr.ipynb\"><img src=\"../../../../../numbers/numerals/decimals/__pv_it/theorems/006ca7fac35fa78ab48746b6e8ae349de6de1e270/expr.png\" style=\"display:inline;vertical-align:middle;\" /></a></td></tr>\n",
       "<tr><td>23</td><td>Literal</td><td></td><td><a class=\"ProveItLink\" href=\"../../../../../numbers/numerals/__pv_it/common/7d0a36793ffe8d307a5c120ee5598162e8cd2db10/expr.ipynb\"><img src=\"../../../../../numbers/numerals/__pv_it/common/7d0a36793ffe8d307a5c120ee5598162e8cd2db10/expr.png\" style=\"display:inline;vertical-align:middle;\" /></a></td></tr>\n",
       "<tr><td>24</td><td>Literal</td><td></td><td><a class=\"ProveItLink\" href=\"../../../../../numbers/numerals/__pv_it/common/2778428c7f555b2bdc06aa0530bc142c6e6335100/expr.ipynb\"><img src=\"../../../../../numbers/numerals/__pv_it/common/2778428c7f555b2bdc06aa0530bc142c6e6335100/expr.png\" style=\"display:inline;vertical-align:middle;\" /></a></td></tr>\n",
       "</table>\n"
      ],
      "text/plain": [
       "0. ~ & |00〉 & |01〉 & |10〉 & |11〉  \\\\ \n",
       "  |00〉 & 1 & 0 & 0 & 0  \\\\ \n",
       "  |01〉 & 0 & 1 & 0 & 0  \\\\ \n",
       "  |10〉 & 0 & 0 & 1 & 0  \\\\ \n",
       "  |11〉 & 0 & 0 & 0 & -1\n",
       "   core type: ExprTuple\n",
       "   sub-expressions: 1, 2, 3, 4, 5\n",
       "1. (~, |00〉, |01〉, |10〉, |11〉)\n",
       "   core type: ExprTuple\n",
       "   sub-expressions: 6, 7, 8, 9, 10\n",
       "2. (|00〉, 1, 0, 0, 0)\n",
       "   core type: ExprTuple\n",
       "   sub-expressions: 7, 24, 23, 23, 23\n",
       "3. (|01〉, 0, 1, 0, 0)\n",
       "   core type: ExprTuple\n",
       "   sub-expressions: 8, 23, 24, 23, 23\n",
       "4. (|10〉, 0, 0, 1, 0)\n",
       "   core type: ExprTuple\n",
       "   sub-expressions: 9, 23, 23, 24, 23\n",
       "5. (|11〉, 0, 0, 0, -1)\n",
       "   core type: ExprTuple\n",
       "   sub-expressions: 10, 23, 23, 23, 11\n",
       "6. ~\n",
       "   core type: Literal\n",
       "   sub-expressions: \n",
       "7. |00〉\n",
       "   core type: Operation\n",
       "   operator: 15\n",
       "   operand: 12\n",
       "8. |01〉\n",
       "   core type: Operation\n",
       "   operator: 15\n",
       "   operand: 13\n",
       "9. |10〉\n",
       "   core type: Operation\n",
       "   operator: 15\n",
       "   operand: 14\n",
       "10. |11〉\n",
       "    core type: Operation\n",
       "    operator: 15\n",
       "    operand: 16\n",
       "11. -1\n",
       "    core type: Operation\n",
       "    operator: 17\n",
       "    operand: 24\n",
       "12. 00\n",
       "    core type: Operation\n",
       "    operator: 21\n",
       "    operands: 18\n",
       "13. 01\n",
       "    core type: Operation\n",
       "    operator: 21\n",
       "    operands: 19\n",
       "14. 10\n",
       "    core type: Operation\n",
       "    operator: 21\n",
       "    operands: 20\n",
       "15. KET\n",
       "    core type: Literal\n",
       "    sub-expressions: \n",
       "16. 11\n",
       "    core type: Operation\n",
       "    operator: 21\n",
       "    operands: 22\n",
       "17. -\n",
       "    core type: Literal\n",
       "    sub-expressions: \n",
       "18. (0, 0)\n",
       "    core type: ExprTuple\n",
       "    sub-expressions: 23, 23\n",
       "19. (0, 1)\n",
       "    core type: ExprTuple\n",
       "    sub-expressions: 23, 24\n",
       "20. (1, 0)\n",
       "    core type: ExprTuple\n",
       "    sub-expressions: 24, 23\n",
       "21. Decimal\n",
       "    core type: Literal\n",
       "    sub-expressions: \n",
       "22. (1, 1)\n",
       "    core type: ExprTuple\n",
       "    sub-expressions: 24, 24\n",
       "23. 0\n",
       "    core type: Literal\n",
       "    sub-expressions: \n",
       "24. 1\n",
       "    core type: Literal\n",
       "    sub-expressions: "
      ]
     },
     "execution_count": 5,
     "metadata": {},
     "output_type": "execute_result"
    }
   ],
   "source": [
    "# display the expression information\n",
    "expr.expr_info()"
   ]
  },
  {
   "cell_type": "code",
   "execution_count": null,
   "metadata": {},
   "outputs": [],
   "source": []
  }
 ],
 "metadata": {
  "kernelspec": {
   "display_name": "Python 3",
   "language": "python",
   "name": "python3"
  }
 },
 "nbformat": 4,
 "nbformat_minor": 0
}