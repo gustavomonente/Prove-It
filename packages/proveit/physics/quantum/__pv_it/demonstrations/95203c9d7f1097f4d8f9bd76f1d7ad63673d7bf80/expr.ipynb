{
 "cells": [
  {
   "cell_type": "markdown",
   "metadata": {},
   "source": [
    "Expression of type <a class=\"ProveItLink\" href=\"../../../../../../../doc/html/api/proveit.ExprArray.html\">ExprArray</a>\n",
    "=======================\n",
    "# from the theory of <a class=\"ProveItLink\" href=\"../../../_theory_nbs_/theory.ipynb\">proveit.physics.quantum</a>"
   ]
  },
  {
   "cell_type": "code",
   "execution_count": 1,
   "metadata": {},
   "outputs": [],
   "source": [
    "import proveit\n",
    "# Automation is not needed when building an expression:\n",
    "proveit.defaults.automation = False # This will speed things up.\n",
    "proveit.defaults.inline_pngs = False # Makes files smaller.\n",
    "%load_expr # Load the stored expression as 'stored_expr'\n",
    "# import Expression classes needed to build the expression\n",
    "from proveit import ExprArray\n",
    "from proveit.physics.quantum import Gate, H, Input, Output, ket0, ket1"
   ]
  },
  {
   "cell_type": "code",
   "execution_count": 2,
   "metadata": {},
   "outputs": [
    {
     "data": {
      "text/html": [
       "<strong id=\"expr\">expr:</strong> <a class=\"ProveItLink\" href=\"expr.ipynb\"><img src=\"expr.png\" style=\"display:inline;vertical-align:middle;\" /></a><br>"
      ],
      "text/plain": [
       "expr: Input(|0〉) & Gate(H) & Gate(H) & Output(|0〉)  \\\\ \n",
       "  Input(|1〉) & Gate(H) & Gate(H) & Output(|1〉)"
      ]
     },
     "execution_count": 2,
     "metadata": {},
     "output_type": "execute_result"
    }
   ],
   "source": [
    "# build up the expression from sub-expressions\n",
    "sub_expr1 = Gate(H)\n",
    "expr = ExprArray([Input(ket0), sub_expr1, sub_expr1, Output(ket0)], [Input(ket1), sub_expr1, sub_expr1, Output(ket1)])"
   ]
  },
  {
   "cell_type": "code",
   "execution_count": 3,
   "metadata": {},
   "outputs": [
    {
     "name": "stdout",
     "output_type": "stream",
     "text": [
      "Passed sanity check: expr matches stored_expr\n"
     ]
    }
   ],
   "source": [
    "# check that the built expression is the same as the stored expression\n",
    "assert expr == stored_expr\n",
    "assert expr._style_id == stored_expr._style_id\n",
    "print(\"Passed sanity check: expr matches stored_expr\")"
   ]
  },
  {
   "cell_type": "code",
   "execution_count": 4,
   "metadata": {},
   "outputs": [
    {
     "name": "stdout",
     "output_type": "stream",
     "text": [
      "\\begin{array} {cccc} \n",
      " \\hspace{2em} \\Qcircuit@C=1em @R=.7em{\n",
      "& \\lstick{\\lvert 0 \\rangle} \n",
      "} \\hspace{2em} & \\hspace{2em} \\Qcircuit@C=1em @R=.7em{\n",
      "& \\gate{H} \n",
      "} \\hspace{2em} & \\hspace{2em} \\Qcircuit@C=1em @R=.7em{\n",
      "& \\gate{H} \n",
      "} \\hspace{2em} & \\hspace{2em} \\Qcircuit@C=1em @R=.7em{\n",
      "& \\rstick{\\lvert 0 \\rangle} \\qw \n",
      "} \\hspace{2em}  \\\\ \n",
      "  \\hspace{2em} \\Qcircuit@C=1em @R=.7em{\n",
      "& \\lstick{\\lvert 1 \\rangle} \n",
      "} \\hspace{2em} & \\hspace{2em} \\Qcircuit@C=1em @R=.7em{\n",
      "& \\gate{H} \n",
      "} \\hspace{2em} & \\hspace{2em} \\Qcircuit@C=1em @R=.7em{\n",
      "& \\gate{H} \n",
      "} \\hspace{2em} & \\hspace{2em} \\Qcircuit@C=1em @R=.7em{\n",
      "& \\rstick{\\lvert 1 \\rangle} \\qw \n",
      "} \\hspace{2em} \\end{array} \n",
      "\n"
     ]
    }
   ],
   "source": [
    "# Show the LaTeX representation of the expression for convenience if you need it.\n",
    "print(expr.latex())"
   ]
  },
  {
   "cell_type": "code",
   "execution_count": 5,
   "metadata": {},
   "outputs": [
    {
     "data": {
      "text/html": [
       "<table><tr><th>&nbsp;</th><th>core type</th><th>sub-expressions</th><th>expression</th></tr>\n",
       "<tr><td>0</td><td>ExprTuple</td><td>1, 2</td><td><a class=\"ProveItLink\" href=\"expr.ipynb\"><img src=\"expr.png\" style=\"display:inline;vertical-align:middle;\" /></a></td></tr>\n",
       "<tr><td>1</td><td>ExprTuple</td><td>3, 6, 6, 4</td><td><a class=\"ProveItLink\" href=\"../ce9e9932f4bf9378bb71e37f406b86b82d6cefc50/expr.ipynb\"><img src=\"../ce9e9932f4bf9378bb71e37f406b86b82d6cefc50/expr.png\" style=\"display:inline;vertical-align:middle;\" /></a></td></tr>\n",
       "<tr><td>2</td><td>ExprTuple</td><td>5, 6, 6, 7</td><td><a class=\"ProveItLink\" href=\"../35bc5c6419dfcc1aa38d5fc44a2ed50f05ffbb190/expr.ipynb\"><img src=\"../35bc5c6419dfcc1aa38d5fc44a2ed50f05ffbb190/expr.png\" style=\"display:inline;vertical-align:middle;\" /></a></td></tr>\n",
       "<tr><td>3</td><td>Operation</td><td>operator:&nbsp;9<br>operand:&nbsp;8<br></td><td><a class=\"ProveItLink\" href=\"../2fc4327d42851bc04ea1e04bb5f79e63417e61780/expr.ipynb\"><img src=\"../2fc4327d42851bc04ea1e04bb5f79e63417e61780/expr.png\" style=\"display:inline;vertical-align:middle;\" /></a></td></tr>\n",
       "<tr><td>4</td><td>Operation</td><td>operator:&nbsp;12<br>operand:&nbsp;8<br></td><td><a class=\"ProveItLink\" href=\"../7255b3eab6f5cfb2e6cfacd027189d6604cf92c90/expr.ipynb\"><img src=\"../7255b3eab6f5cfb2e6cfacd027189d6604cf92c90/expr.png\" style=\"display:inline;vertical-align:middle;\" /></a></td></tr>\n",
       "<tr><td>5</td><td>Operation</td><td>operator:&nbsp;9<br>operand:&nbsp;13<br></td><td><a class=\"ProveItLink\" href=\"../5f3186ad8fe02adc257d00f2c4878165520392290/expr.ipynb\"><img src=\"../5f3186ad8fe02adc257d00f2c4878165520392290/expr.png\" style=\"display:inline;vertical-align:middle;\" /></a></td></tr>\n",
       "<tr><td>6</td><td>Operation</td><td>operator:&nbsp;10<br>operand:&nbsp;11<br></td><td><a class=\"ProveItLink\" href=\"../887f6fc2d6bd485e38da90a7997e8a5a329deae90/expr.ipynb\"><img src=\"../887f6fc2d6bd485e38da90a7997e8a5a329deae90/expr.png\" style=\"display:inline;vertical-align:middle;\" /></a></td></tr>\n",
       "<tr><td>7</td><td>Operation</td><td>operator:&nbsp;12<br>operand:&nbsp;13<br></td><td><a class=\"ProveItLink\" href=\"../d07c155e6ddddfb87a189260227b472792d3c7740/expr.ipynb\"><img src=\"../d07c155e6ddddfb87a189260227b472792d3c7740/expr.png\" style=\"display:inline;vertical-align:middle;\" /></a></td></tr>\n",
       "<tr><td>8</td><td>Operation</td><td>operator:&nbsp;15<br>operand:&nbsp;14<br></td><td><a class=\"ProveItLink\" href=\"../../common/5f63a03bfc82b7258c791cd7eef6d6305fc125e50/expr.ipynb\"><img src=\"../../common/5f63a03bfc82b7258c791cd7eef6d6305fc125e50/expr.png\" style=\"display:inline;vertical-align:middle;\" /></a></td></tr>\n",
       "<tr><td>9</td><td>Literal</td><td></td><td><a class=\"ProveItLink\" href=\"../../common/75fe2e9c3de87ae2358442c50cf12e606184c7e30/expr.ipynb\"><img src=\"../../common/75fe2e9c3de87ae2358442c50cf12e606184c7e30/expr.png\" style=\"display:inline;vertical-align:middle;\" /></a></td></tr>\n",
       "<tr><td>10</td><td>Literal</td><td></td><td><a class=\"ProveItLink\" href=\"../../common/0ea83cfe1adebd8ba4f03839c3c2a37c85d3772c0/expr.ipynb\"><img src=\"../../common/0ea83cfe1adebd8ba4f03839c3c2a37c85d3772c0/expr.png\" style=\"display:inline;vertical-align:middle;\" /></a></td></tr>\n",
       "<tr><td>11</td><td>Literal</td><td></td><td><a class=\"ProveItLink\" href=\"../../common/e874333991a6db337cd004ff6daee55a9e80aa5b0/expr.ipynb\"><img src=\"../../common/e874333991a6db337cd004ff6daee55a9e80aa5b0/expr.png\" style=\"display:inline;vertical-align:middle;\" /></a></td></tr>\n",
       "<tr><td>12</td><td>Literal</td><td></td><td><a class=\"ProveItLink\" href=\"../../common/0f9100059d781d861feb56714a679b7a44ddec710/expr.ipynb\"><img src=\"../../common/0f9100059d781d861feb56714a679b7a44ddec710/expr.png\" style=\"display:inline;vertical-align:middle;\" /></a></td></tr>\n",
       "<tr><td>13</td><td>Operation</td><td>operator:&nbsp;15<br>operand:&nbsp;16<br></td><td><a class=\"ProveItLink\" href=\"../../common/ebfae6b74c0021e21daf83105eb14e31dba466620/expr.ipynb\"><img src=\"../../common/ebfae6b74c0021e21daf83105eb14e31dba466620/expr.png\" style=\"display:inline;vertical-align:middle;\" /></a></td></tr>\n",
       "<tr><td>14</td><td>Literal</td><td></td><td><a class=\"ProveItLink\" href=\"../../../../../numbers/numerals/__pv_it/common/7d0a36793ffe8d307a5c120ee5598162e8cd2db10/expr.ipynb\"><img src=\"../../../../../numbers/numerals/__pv_it/common/7d0a36793ffe8d307a5c120ee5598162e8cd2db10/expr.png\" style=\"display:inline;vertical-align:middle;\" /></a></td></tr>\n",
       "<tr><td>15</td><td>Literal</td><td></td><td><a class=\"ProveItLink\" href=\"../../common/211157ad123e11ebc76ee54e41be13705eefd6800/expr.ipynb\"><img src=\"../../common/211157ad123e11ebc76ee54e41be13705eefd6800/expr.png\" style=\"display:inline;vertical-align:middle;\" /></a></td></tr>\n",
       "<tr><td>16</td><td>Literal</td><td></td><td><a class=\"ProveItLink\" href=\"../../../../../numbers/numerals/__pv_it/common/2778428c7f555b2bdc06aa0530bc142c6e6335100/expr.ipynb\"><img src=\"../../../../../numbers/numerals/__pv_it/common/2778428c7f555b2bdc06aa0530bc142c6e6335100/expr.png\" style=\"display:inline;vertical-align:middle;\" /></a></td></tr>\n",
       "</table>\n"
      ],
      "text/plain": [
       "0. Input(|0〉) & Gate(H) & Gate(H) & Output(|0〉)  \\\\ \n",
       "  Input(|1〉) & Gate(H) & Gate(H) & Output(|1〉)\n",
       "   core type: ExprTuple\n",
       "   sub-expressions: 1, 2\n",
       "1. (Input(|0〉), Gate(H), Gate(H), Output(|0〉))\n",
       "   core type: ExprTuple\n",
       "   sub-expressions: 3, 6, 6, 4\n",
       "2. (Input(|1〉), Gate(H), Gate(H), Output(|1〉))\n",
       "   core type: ExprTuple\n",
       "   sub-expressions: 5, 6, 6, 7\n",
       "3. [INPUT](|0〉)\n",
       "   core type: Operation\n",
       "   operator: 9\n",
       "   operand: 8\n",
       "4. [OUTPUT](|0〉)\n",
       "   core type: Operation\n",
       "   operator: 12\n",
       "   operand: 8\n",
       "5. [INPUT](|1〉)\n",
       "   core type: Operation\n",
       "   operator: 9\n",
       "   operand: 13\n",
       "6. Gate(H)\n",
       "   core type: Operation\n",
       "   operator: 10\n",
       "   operand: 11\n",
       "7. [OUTPUT](|1〉)\n",
       "   core type: Operation\n",
       "   operator: 12\n",
       "   operand: 13\n",
       "8. |0〉\n",
       "   core type: Operation\n",
       "   operator: 15\n",
       "   operand: 14\n",
       "9. INPUT\n",
       "   core type: Literal\n",
       "   sub-expressions: \n",
       "10. GATE\n",
       "    core type: Literal\n",
       "    sub-expressions: \n",
       "11. H\n",
       "    core type: Literal\n",
       "    sub-expressions: \n",
       "12. OUTPUT\n",
       "    core type: Literal\n",
       "    sub-expressions: \n",
       "13. |1〉\n",
       "    core type: Operation\n",
       "    operator: 15\n",
       "    operand: 16\n",
       "14. 0\n",
       "    core type: Literal\n",
       "    sub-expressions: \n",
       "15. KET\n",
       "    core type: Literal\n",
       "    sub-expressions: \n",
       "16. 1\n",
       "    core type: Literal\n",
       "    sub-expressions: "
      ]
     },
     "execution_count": 5,
     "metadata": {},
     "output_type": "execute_result"
    }
   ],
   "source": [
    "# display the expression information\n",
    "expr.expr_info()"
   ]
  },
  {
   "cell_type": "code",
   "execution_count": null,
   "metadata": {},
   "outputs": [],
   "source": []
  }
 ],
 "metadata": {
  "kernelspec": {
   "display_name": "Python 3",
   "language": "python",
   "name": "python3"
  }
 },
 "nbformat": 4,
 "nbformat_minor": 0
}