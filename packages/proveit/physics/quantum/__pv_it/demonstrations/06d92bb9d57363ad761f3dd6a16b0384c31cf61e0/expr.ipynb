{
 "cells": [
  {
   "cell_type": "markdown",
   "metadata": {},
   "source": [
    "Expression of type <a class=\"ProveItLink\" href=\"../../../../../../../doc/html/api/proveit.ExprTuple.html\">ExprTuple</a>\n",
    "=======================\n",
    "# from the theory of <a class=\"ProveItLink\" href=\"../../../_theory_nbs_/theory.ipynb\">proveit.physics.quantum</a>"
   ]
  },
  {
   "cell_type": "code",
   "execution_count": 1,
   "metadata": {},
   "outputs": [],
   "source": [
    "import proveit\n",
    "# Automation is not needed when building an expression:\n",
    "proveit.defaults.automation = False # This will speed things up.\n",
    "proveit.defaults.inline_pngs = False # Makes files smaller.\n",
    "%load_expr # Load the stored expression as 'stored_expr'\n",
    "# import Expression classes needed to build the expression\n",
    "from proveit import ExprArray, ExprTuple\n",
    "from proveit.logic import Set\n",
    "from proveit.numbers import one\n",
    "from proveit.physics.quantum import H\n",
    "from proveit.physics.quantum.circuit import Circuit, IdentityOp, MultiQubitGate"
   ]
  },
  {
   "cell_type": "code",
   "execution_count": 2,
   "metadata": {},
   "outputs": [
    {
     "data": {
      "text/html": [
       "<strong id=\"expr\">expr:</strong> <a class=\"ProveItLink\" href=\"expr.ipynb\"><img src=\"expr.png\" style=\"display:inline;vertical-align:middle;\" /></a><br>"
      ],
      "text/plain": [
       "expr: ( MultiQubitGate(H, {1})  & MultiQubitGate(H, {1}),  MultiQubitGate(I, {1}))"
      ]
     },
     "execution_count": 2,
     "metadata": {},
     "output_type": "execute_result"
    }
   ],
   "source": [
    "# build up the expression from sub-expressions\n",
    "sub_expr1 = Set(one)\n",
    "sub_expr2 = MultiQubitGate(H, sub_expr1)\n",
    "expr = ExprTuple(Circuit(ExprArray([sub_expr2, sub_expr2])), Circuit(ExprArray([MultiQubitGate(IdentityOp(explicit = True), sub_expr1)])))"
   ]
  },
  {
   "cell_type": "code",
   "execution_count": 3,
   "metadata": {},
   "outputs": [
    {
     "name": "stdout",
     "output_type": "stream",
     "text": [
      "Passed sanity check: expr matches stored_expr\n"
     ]
    }
   ],
   "source": [
    "# check that the built expression is the same as the stored expression\n",
    "assert expr == stored_expr\n",
    "assert expr._style_id == stored_expr._style_id\n",
    "print(\"Passed sanity check: expr matches stored_expr\")"
   ]
  },
  {
   "cell_type": "code",
   "execution_count": 4,
   "metadata": {},
   "outputs": [
    {
     "name": "stdout",
     "output_type": "stream",
     "text": [
      "\\left(\\hspace{2em} \\Qcircuit@C=1em @R=.7em{\n",
      "& \\gate{H{\\Big \\{} \\left\\{1\\right\\}} & \\gate{H{\\Big \\{} \\left\\{1\\right\\}} \n",
      "} \\hspace{2em}, \\hspace{2em} \\Qcircuit@C=1em @R=.7em{\n",
      "& \\gate{I{\\Big \\{} \\left\\{1\\right\\}} \n",
      "} \\hspace{2em}\\right)\n"
     ]
    }
   ],
   "source": [
    "# Show the LaTeX representation of the expression for convenience if you need it.\n",
    "print(expr.latex())"
   ]
  },
  {
   "cell_type": "code",
   "execution_count": 5,
   "metadata": {},
   "outputs": [
    {
     "data": {
      "text/html": [
       "<table>\n",
       "<tr><th>name</th><th>description</th><th>default</th><th>current value</th><th>related methods</th></tr><tr><td>wrap_positions</td><td>position(s) at which wrapping is to occur; 'n' is after the nth comma.</td><td>()</td><td>()</td><td>('with_wrapping_at',)</td></tr>\n",
       "<tr><td>justification</td><td>if any wrap positions are set, justify to the 'left', 'center', or 'right'</td><td>left</td><td>left</td><td>('with_justification',)</td></tr>\n",
       "</table>\n"
      ],
      "text/plain": [
       "style name: wrap_positions\n",
       "description: position(s) at which wrapping is to occur; 'n' is after the nth comma.\n",
       "default: ()\n",
       "current value: ()\n",
       "related methods: ('with_wrapping_at',)\n",
       "style name: justification\n",
       "description: if any wrap positions are set, justify to the 'left', 'center', or 'right'\n",
       "default: left\n",
       "current value: left\n",
       "related methods: ('with_justification',)"
      ]
     },
     "execution_count": 5,
     "metadata": {},
     "output_type": "execute_result"
    }
   ],
   "source": [
    "expr.style_options()"
   ]
  },
  {
   "cell_type": "code",
   "execution_count": 6,
   "metadata": {},
   "outputs": [
    {
     "data": {
      "text/html": [
       "<table><tr><th>&nbsp;</th><th>core type</th><th>sub-expressions</th><th>expression</th></tr>\n",
       "<tr><td>0</td><td>ExprTuple</td><td>1, 2</td><td><a class=\"ProveItLink\" href=\"expr.ipynb\"><img src=\"expr.png\" style=\"display:inline;vertical-align:middle;\" /></a></td></tr>\n",
       "<tr><td>1</td><td>Operation</td><td>operator:&nbsp;4<br>operand:&nbsp;6<br></td><td><a class=\"ProveItLink\" href=\"../1dd17c0ad074593fac36df638fd319948fc0037c0/expr.ipynb\"><img src=\"../1dd17c0ad074593fac36df638fd319948fc0037c0/expr.png\" style=\"display:inline;vertical-align:middle;\" /></a></td></tr>\n",
       "<tr><td>2</td><td>Operation</td><td>operator:&nbsp;4<br>operand:&nbsp;7<br></td><td><a class=\"ProveItLink\" href=\"../56dfab659f88b2a5c3015a5943788d499fcc377d0/expr.ipynb\"><img src=\"../56dfab659f88b2a5c3015a5943788d499fcc377d0/expr.png\" style=\"display:inline;vertical-align:middle;\" /></a></td></tr>\n",
       "<tr><td>3</td><td>ExprTuple</td><td>6</td><td><a class=\"ProveItLink\" href=\"../e42e084b3e40d01b505c20da4c87d9d528c4ed2d0/expr.ipynb\"><img src=\"../e42e084b3e40d01b505c20da4c87d9d528c4ed2d0/expr.png\" style=\"display:inline;vertical-align:middle;\" /></a></td></tr>\n",
       "<tr><td>4</td><td>Literal</td><td></td><td><a class=\"ProveItLink\" href=\"../../common/bfa5cfb2e03dde2ed2a79fcd50b6e0ef7e57c1b10/expr.ipynb\"><img src=\"../../common/bfa5cfb2e03dde2ed2a79fcd50b6e0ef7e57c1b10/expr.png\" style=\"display:inline;vertical-align:middle;\" /></a></td></tr>\n",
       "<tr><td>5</td><td>ExprTuple</td><td>7</td><td><a class=\"ProveItLink\" href=\"../6815c86d2dc0e07e71141ab9d70728c1c610e7b70/expr.ipynb\"><img src=\"../6815c86d2dc0e07e71141ab9d70728c1c610e7b70/expr.png\" style=\"display:inline;vertical-align:middle;\" /></a></td></tr>\n",
       "<tr><td>6</td><td>ExprTuple</td><td>8</td><td><a class=\"ProveItLink\" href=\"../b72b9eac19daeddf8fce3298afa3c1ab8e6109470/expr.ipynb\"><img src=\"../b72b9eac19daeddf8fce3298afa3c1ab8e6109470/expr.png\" style=\"display:inline;vertical-align:middle;\" /></a></td></tr>\n",
       "<tr><td>7</td><td>ExprTuple</td><td>9</td><td><a class=\"ProveItLink\" href=\"../bd6b3581ffcc02c26bce32df6022557e7bc054ef0/expr.ipynb\"><img src=\"../bd6b3581ffcc02c26bce32df6022557e7bc054ef0/expr.png\" style=\"display:inline;vertical-align:middle;\" /></a></td></tr>\n",
       "<tr><td>8</td><td>ExprTuple</td><td>10, 10</td><td><a class=\"ProveItLink\" href=\"../f7dc663225d294f78d0bab402436a2cf798ada700/expr.ipynb\"><img src=\"../f7dc663225d294f78d0bab402436a2cf798ada700/expr.png\" style=\"display:inline;vertical-align:middle;\" /></a></td></tr>\n",
       "<tr><td>9</td><td>ExprTuple</td><td>11</td><td><a class=\"ProveItLink\" href=\"../a1462be57d7d79163b91386f484882d1d54496290/expr.ipynb\"><img src=\"../a1462be57d7d79163b91386f484882d1d54496290/expr.png\" style=\"display:inline;vertical-align:middle;\" /></a></td></tr>\n",
       "<tr><td>10</td><td>Operation</td><td>operator:&nbsp;13<br>operands:&nbsp;12<br></td><td><a class=\"ProveItLink\" href=\"../32966f3f8512c61441baf3b07832546c0ce467f70/expr.ipynb\"><img src=\"../32966f3f8512c61441baf3b07832546c0ce467f70/expr.png\" style=\"display:inline;vertical-align:middle;\" /></a></td></tr>\n",
       "<tr><td>11</td><td>Operation</td><td>operator:&nbsp;13<br>operands:&nbsp;14<br></td><td><a class=\"ProveItLink\" href=\"../2d033f9cb635e40684b52fca3a7ba88764c726cd0/expr.ipynb\"><img src=\"../2d033f9cb635e40684b52fca3a7ba88764c726cd0/expr.png\" style=\"display:inline;vertical-align:middle;\" /></a></td></tr>\n",
       "<tr><td>12</td><td>ExprTuple</td><td>15, 17</td><td><a class=\"ProveItLink\" href=\"../be7c5a372aba6ff81e16a9554d4ba3be08c850910/expr.ipynb\"><img src=\"../be7c5a372aba6ff81e16a9554d4ba3be08c850910/expr.png\" style=\"display:inline;vertical-align:middle;\" /></a></td></tr>\n",
       "<tr><td>13</td><td>Literal</td><td></td><td><a class=\"ProveItLink\" href=\"../../common/38deceb0a69e80c36399d725649803706802a2a90/expr.ipynb\"><img src=\"../../common/38deceb0a69e80c36399d725649803706802a2a90/expr.png\" style=\"display:inline;vertical-align:middle;\" /></a></td></tr>\n",
       "<tr><td>14</td><td>ExprTuple</td><td>16, 17</td><td><a class=\"ProveItLink\" href=\"../bcbe62f1fe5d616cefcf7839a3a676d2aae25de70/expr.ipynb\"><img src=\"../bcbe62f1fe5d616cefcf7839a3a676d2aae25de70/expr.png\" style=\"display:inline;vertical-align:middle;\" /></a></td></tr>\n",
       "<tr><td>15</td><td>Literal</td><td></td><td><a class=\"ProveItLink\" href=\"../../common/368cf31b7f078f904d5478ccb332c7d15763fe920/expr.ipynb\"><img src=\"../../common/368cf31b7f078f904d5478ccb332c7d15763fe920/expr.png\" style=\"display:inline;vertical-align:middle;\" /></a></td></tr>\n",
       "<tr><td>16</td><td>Literal</td><td></td><td><a class=\"ProveItLink\" href=\"../0514f662d73f535f49bf899158853ff0b3f8b8b10/expr.ipynb\"><img src=\"../0514f662d73f535f49bf899158853ff0b3f8b8b10/expr.png\" style=\"display:inline;vertical-align:middle;\" /></a></td></tr>\n",
       "<tr><td>17</td><td>Operation</td><td>operator:&nbsp;18<br>operand:&nbsp;20<br></td><td><a class=\"ProveItLink\" href=\"../985356546329e074f800c33c802daf78284f89ad0/expr.ipynb\"><img src=\"../985356546329e074f800c33c802daf78284f89ad0/expr.png\" style=\"display:inline;vertical-align:middle;\" /></a></td></tr>\n",
       "<tr><td>18</td><td>Literal</td><td></td><td><a class=\"ProveItLink\" href=\"../../../../../logic/sets/enumeration/__pv_it/common/f7caf702081f903a6ea3d95d680568dd78698f5a0/expr.ipynb\"><img src=\"../../../../../logic/sets/enumeration/__pv_it/common/f7caf702081f903a6ea3d95d680568dd78698f5a0/expr.png\" style=\"display:inline;vertical-align:middle;\" /></a></td></tr>\n",
       "<tr><td>19</td><td>ExprTuple</td><td>20</td><td><a class=\"ProveItLink\" href=\"../../common/983fb1abdb7789966ec8b7afe0d4f7ca8578c9e50/expr.ipynb\"><img src=\"../../common/983fb1abdb7789966ec8b7afe0d4f7ca8578c9e50/expr.png\" style=\"display:inline;vertical-align:middle;\" /></a></td></tr>\n",
       "<tr><td>20</td><td>Literal</td><td></td><td><a class=\"ProveItLink\" href=\"../../../../../numbers/numerals/__pv_it/common/d278e359da0695d9652dd541d45264f93703e2e40/expr.ipynb\"><img src=\"../../../../../numbers/numerals/__pv_it/common/d278e359da0695d9652dd541d45264f93703e2e40/expr.png\" style=\"display:inline;vertical-align:middle;\" /></a></td></tr>\n",
       "</table>\n"
      ],
      "text/plain": [
       "0. ( MultiQubitGate(H, {1})  & MultiQubitGate(H, {1}),  MultiQubitGate(I, {1}))\n",
       "   core type: ExprTuple\n",
       "   sub-expressions: 1, 2\n",
       "1.  MultiQubitGate(H, {1})  & MultiQubitGate(H, {1})\n",
       "   core type: Operation\n",
       "   operator: 4\n",
       "   operand: 6\n",
       "2.  MultiQubitGate(I, {1})\n",
       "   core type: Operation\n",
       "   operator: 4\n",
       "   operand: 7\n",
       "3. ((MultiQubitGate(H, {1}) & MultiQubitGate(H, {1})))\n",
       "   core type: ExprTuple\n",
       "   sub-expressions: 6\n",
       "4. CIRCUIT\n",
       "   core type: Literal\n",
       "   sub-expressions: \n",
       "5. ((MultiQubitGate(I, {1})))\n",
       "   core type: ExprTuple\n",
       "   sub-expressions: 7\n",
       "6. MultiQubitGate(H, {1}) & MultiQubitGate(H, {1})\n",
       "   core type: ExprTuple\n",
       "   sub-expressions: 8\n",
       "7. MultiQubitGate(I, {1})\n",
       "   core type: ExprTuple\n",
       "   sub-expressions: 9\n",
       "8. (MultiQubitGate(H, {1}), MultiQubitGate(H, {1}))\n",
       "   core type: ExprTuple\n",
       "   sub-expressions: 10, 10\n",
       "9. (MultiQubitGate(I, {1}))\n",
       "   core type: ExprTuple\n",
       "   sub-expressions: 11\n",
       "10. MultiQubitGate(H, {1})\n",
       "    core type: Operation\n",
       "    operator: 13\n",
       "    operands: 12\n",
       "11. MultiQubitGate(I, {1})\n",
       "    core type: Operation\n",
       "    operator: 13\n",
       "    operands: 14\n",
       "12. (H, {1})\n",
       "    core type: ExprTuple\n",
       "    sub-expressions: 15, 17\n",
       "13. MULTI_QUBIT_GATE\n",
       "    core type: Literal\n",
       "    sub-expressions: \n",
       "14. ([I], {1})\n",
       "    core type: ExprTuple\n",
       "    sub-expressions: 16, 17\n",
       "15. H\n",
       "    core type: Literal\n",
       "    sub-expressions: \n",
       "16. [I]\n",
       "    core type: Literal\n",
       "    sub-expressions: \n",
       "17. {1}\n",
       "    core type: Operation\n",
       "    operator: 18\n",
       "    operand: 20\n",
       "18. Set\n",
       "    core type: Literal\n",
       "    sub-expressions: \n",
       "19. (1)\n",
       "    core type: ExprTuple\n",
       "    sub-expressions: 20\n",
       "20. 1\n",
       "    core type: Literal\n",
       "    sub-expressions: "
      ]
     },
     "execution_count": 6,
     "metadata": {},
     "output_type": "execute_result"
    }
   ],
   "source": [
    "# display the expression information\n",
    "expr.expr_info()"
   ]
  },
  {
   "cell_type": "code",
   "execution_count": null,
   "metadata": {},
   "outputs": [],
   "source": []
  }
 ],
 "metadata": {
  "kernelspec": {
   "display_name": "Python 3",
   "language": "python",
   "name": "python3"
  }
 },
 "nbformat": 4,
 "nbformat_minor": 0
}