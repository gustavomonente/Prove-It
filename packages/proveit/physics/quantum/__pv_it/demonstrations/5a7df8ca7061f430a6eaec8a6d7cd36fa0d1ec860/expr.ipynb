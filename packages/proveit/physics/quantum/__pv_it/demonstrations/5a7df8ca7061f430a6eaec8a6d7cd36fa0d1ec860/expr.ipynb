{
 "cells": [
  {
   "cell_type": "markdown",
   "metadata": {},
   "source": [
    "Expression of type <a class=\"ProveItLink\" href=\"../../../../../../../doc/html/api/proveit.ExprTuple.html\">ExprTuple</a>\n",
    "=======================\n",
    "# from the theory of <a class=\"ProveItLink\" href=\"../../../_theory_nbs_/theory.ipynb\">proveit.physics.quantum</a>"
   ]
  },
  {
   "cell_type": "code",
   "execution_count": 1,
   "metadata": {},
   "outputs": [],
   "source": [
    "import proveit\n",
    "# Automation is not needed when building an expression:\n",
    "proveit.defaults.automation = False # This will speed things up.\n",
    "proveit.defaults.inline_pngs = False # Makes files smaller.\n",
    "%load_expr # Load the stored expression as 'stored_expr'\n",
    "# import Expression classes needed to build the expression\n",
    "from proveit import ExprRange, ExprTuple, k, x\n",
    "from proveit.core_expr_types import Len\n",
    "from proveit.numbers import one, two\n",
    "from proveit.physics.quantum import H"
   ]
  },
  {
   "cell_type": "code",
   "execution_count": 2,
   "metadata": {},
   "outputs": [
    {
     "data": {
      "text/html": [
       "<strong id=\"expr\">expr:</strong> <a class=\"ProveItLink\" href=\"expr.ipynb\"><img src=\"expr.png\" style=\"display:inline;vertical-align:middle;\" /></a><br>"
      ],
      "text/plain": [
       "expr: (|(H, H)|, |((1, 1), ..(1, x).., (1, 2), ....(k, 1), ..(k, x).., (k, 2)...., (1, 1), ..(1, x).., (1, 2))|)"
      ]
     },
     "execution_count": 2,
     "metadata": {},
     "output_type": "execute_result"
    }
   ],
   "source": [
    "# build up the expression from sub-expressions\n",
    "expr = ExprTuple(Len([H, H]), Len([ExprRange(k, ExprRange(x, [k, x], one, two), one, one)]))"
   ]
  },
  {
   "cell_type": "code",
   "execution_count": 3,
   "metadata": {},
   "outputs": [
    {
     "name": "stdout",
     "output_type": "stream",
     "text": [
      "Passed sanity check: expr matches stored_expr\n"
     ]
    }
   ],
   "source": [
    "# check that the built expression is the same as the stored expression\n",
    "assert expr == stored_expr\n",
    "assert expr._style_id == stored_expr._style_id\n",
    "print(\"Passed sanity check: expr matches stored_expr\")"
   ]
  },
  {
   "cell_type": "code",
   "execution_count": 4,
   "metadata": {},
   "outputs": [
    {
     "name": "stdout",
     "output_type": "stream",
     "text": [
      "\\left(|\\left(H, H\\right)|, |\\left(\\left(1, 1\\right), \\ldots, \\left(1, 2\\right), \\ldots\\ldots, \\left(1, 1\\right), \\ldots, \\left(1, 2\\right)\\right)|\\right)\n"
     ]
    }
   ],
   "source": [
    "# Show the LaTeX representation of the expression for convenience if you need it.\n",
    "print(expr.latex())"
   ]
  },
  {
   "cell_type": "code",
   "execution_count": 5,
   "metadata": {},
   "outputs": [
    {
     "data": {
      "text/html": [
       "<table>\n",
       "<tr><th>name</th><th>description</th><th>default</th><th>current value</th><th>related methods</th></tr><tr><td>wrap_positions</td><td>position(s) at which wrapping is to occur; 'n' is after the nth comma.</td><td>()</td><td>()</td><td>('with_wrapping_at',)</td></tr>\n",
       "<tr><td>justification</td><td>if any wrap positions are set, justify to the 'left', 'center', or 'right'</td><td>left</td><td>left</td><td>('with_justification',)</td></tr>\n",
       "</table>\n"
      ],
      "text/plain": [
       "style name: wrap_positions\n",
       "description: position(s) at which wrapping is to occur; 'n' is after the nth comma.\n",
       "default: ()\n",
       "current value: ()\n",
       "related methods: ('with_wrapping_at',)\n",
       "style name: justification\n",
       "description: if any wrap positions are set, justify to the 'left', 'center', or 'right'\n",
       "default: left\n",
       "current value: left\n",
       "related methods: ('with_justification',)"
      ]
     },
     "execution_count": 5,
     "metadata": {},
     "output_type": "execute_result"
    }
   ],
   "source": [
    "expr.style_options()"
   ]
  },
  {
   "cell_type": "code",
   "execution_count": 6,
   "metadata": {},
   "outputs": [
    {
     "data": {
      "text/html": [
       "<table><tr><th>&nbsp;</th><th>core type</th><th>sub-expressions</th><th>expression</th></tr>\n",
       "<tr><td>0</td><td>ExprTuple</td><td>1, 2</td><td><a class=\"ProveItLink\" href=\"expr.ipynb\"><img src=\"expr.png\" style=\"display:inline;vertical-align:middle;\" /></a></td></tr>\n",
       "<tr><td>1</td><td>Operation</td><td>operator:&nbsp;4<br>operand:&nbsp;6<br></td><td><a class=\"ProveItLink\" href=\"../8f74814b3cbed784b86e80b9ea4fe9f26b963b970/expr.ipynb\"><img src=\"../8f74814b3cbed784b86e80b9ea4fe9f26b963b970/expr.png\" style=\"display:inline;vertical-align:middle;\" /></a></td></tr>\n",
       "<tr><td>2</td><td>Operation</td><td>operator:&nbsp;4<br>operand:&nbsp;7<br></td><td><a class=\"ProveItLink\" href=\"../49ea037f9fdb83d325262d89a282fdd091373d8a0/expr.ipynb\"><img src=\"../49ea037f9fdb83d325262d89a282fdd091373d8a0/expr.png\" style=\"display:inline;vertical-align:middle;\" /></a></td></tr>\n",
       "<tr><td>3</td><td>ExprTuple</td><td>6</td><td><a class=\"ProveItLink\" href=\"../34b03d459d289a831f7995346298edfdbd0955d20/expr.ipynb\"><img src=\"../34b03d459d289a831f7995346298edfdbd0955d20/expr.png\" style=\"display:inline;vertical-align:middle;\" /></a></td></tr>\n",
       "<tr><td>4</td><td>Literal</td><td></td><td><a class=\"ProveItLink\" href=\"../../../../../core_expr_types/tuples/__pv_it/common/29138a46bfd9f58652485fe2e3b1ee46d90d773e0/expr.ipynb\"><img src=\"../../../../../core_expr_types/tuples/__pv_it/common/29138a46bfd9f58652485fe2e3b1ee46d90d773e0/expr.png\" style=\"display:inline;vertical-align:middle;\" /></a></td></tr>\n",
       "<tr><td>5</td><td>ExprTuple</td><td>7</td><td><a class=\"ProveItLink\" href=\"../6902df5fc022f62c0333618adaff5724d7c0f3fd0/expr.ipynb\"><img src=\"../6902df5fc022f62c0333618adaff5724d7c0f3fd0/expr.png\" style=\"display:inline;vertical-align:middle;\" /></a></td></tr>\n",
       "<tr><td>6</td><td>ExprTuple</td><td>8, 8</td><td><a class=\"ProveItLink\" href=\"../aac6720e9ee04233a4438d30a1c046c77652c7b90/expr.ipynb\"><img src=\"../aac6720e9ee04233a4438d30a1c046c77652c7b90/expr.png\" style=\"display:inline;vertical-align:middle;\" /></a></td></tr>\n",
       "<tr><td>7</td><td>ExprTuple</td><td>9</td><td><a class=\"ProveItLink\" href=\"../b0a840773c057c27f2e07feb23eb5af7e9b52a790/expr.ipynb\"><img src=\"../b0a840773c057c27f2e07feb23eb5af7e9b52a790/expr.png\" style=\"display:inline;vertical-align:middle;\" /></a></td></tr>\n",
       "<tr><td>8</td><td>Literal</td><td></td><td><a class=\"ProveItLink\" href=\"../../common/368cf31b7f078f904d5478ccb332c7d15763fe920/expr.ipynb\"><img src=\"../../common/368cf31b7f078f904d5478ccb332c7d15763fe920/expr.png\" style=\"display:inline;vertical-align:middle;\" /></a></td></tr>\n",
       "<tr><td>9</td><td>ExprRange</td><td>lambda_map:&nbsp;10<br>start_index:&nbsp;13<br>end_index:&nbsp;13<br></td><td><a class=\"ProveItLink\" href=\"../c101d10bfdc90d37d0bd64b67f1584357b44fb5c0/expr.ipynb\"><img src=\"../c101d10bfdc90d37d0bd64b67f1584357b44fb5c0/expr.png\" style=\"display:inline;vertical-align:middle;\" /></a></td></tr>\n",
       "<tr><td>10</td><td>Lambda</td><td>parameter:&nbsp;16<br>body:&nbsp;11<br></td><td><a class=\"ProveItLink\" href=\"../4d63faecca8959f4a8cb8551d719f77307d464c20/expr.ipynb\"><img src=\"../4d63faecca8959f4a8cb8551d719f77307d464c20/expr.png\" style=\"display:inline;vertical-align:middle;\" /></a></td></tr>\n",
       "<tr><td>11</td><td>ExprRange</td><td>lambda_map:&nbsp;12<br>start_index:&nbsp;13<br>end_index:&nbsp;14<br></td><td><a class=\"ProveItLink\" href=\"../1fdff28f0b1130c7dc062e89048ebb7eafb4c6ad0/expr.ipynb\"><img src=\"../1fdff28f0b1130c7dc062e89048ebb7eafb4c6ad0/expr.png\" style=\"display:inline;vertical-align:middle;\" /></a></td></tr>\n",
       "<tr><td>12</td><td>Lambda</td><td>parameter:&nbsp;17<br>body:&nbsp;15<br></td><td><a class=\"ProveItLink\" href=\"../ac60ff11aa2e51ef147b2e4721cb150e5fb896140/expr.ipynb\"><img src=\"../ac60ff11aa2e51ef147b2e4721cb150e5fb896140/expr.png\" style=\"display:inline;vertical-align:middle;\" /></a></td></tr>\n",
       "<tr><td>13</td><td>Literal</td><td></td><td><a class=\"ProveItLink\" href=\"../../../../../numbers/numerals/__pv_it/common/d278e359da0695d9652dd541d45264f93703e2e40/expr.ipynb\"><img src=\"../../../../../numbers/numerals/__pv_it/common/d278e359da0695d9652dd541d45264f93703e2e40/expr.png\" style=\"display:inline;vertical-align:middle;\" /></a></td></tr>\n",
       "<tr><td>14</td><td>Literal</td><td></td><td><a class=\"ProveItLink\" href=\"../../../../../numbers/numerals/__pv_it/common/3829356ce3fdf8f35810c63c00bc1a19e838663e0/expr.ipynb\"><img src=\"../../../../../numbers/numerals/__pv_it/common/3829356ce3fdf8f35810c63c00bc1a19e838663e0/expr.png\" style=\"display:inline;vertical-align:middle;\" /></a></td></tr>\n",
       "<tr><td>15</td><td>ExprTuple</td><td>16, 17</td><td><a class=\"ProveItLink\" href=\"../25e863e51f168e263c6a3783497038034e668fab0/expr.ipynb\"><img src=\"../25e863e51f168e263c6a3783497038034e668fab0/expr.png\" style=\"display:inline;vertical-align:middle;\" /></a></td></tr>\n",
       "<tr><td>16</td><td>Variable</td><td></td><td><a class=\"ProveItLink\" href=\"../../../../../__pv_it/common/b9fd37fc619babc74a6203459f110251586df6970/expr.ipynb\"><img src=\"../../../../../__pv_it/common/b9fd37fc619babc74a6203459f110251586df6970/expr.png\" style=\"display:inline;vertical-align:middle;\" /></a></td></tr>\n",
       "<tr><td>17</td><td>Variable</td><td></td><td><a class=\"ProveItLink\" href=\"../../../../../__pv_it/common/a2581dc5df71d9a30bad37de14965fa5fec97a240/expr.ipynb\"><img src=\"../../../../../__pv_it/common/a2581dc5df71d9a30bad37de14965fa5fec97a240/expr.png\" style=\"display:inline;vertical-align:middle;\" /></a></td></tr>\n",
       "</table>\n"
      ],
      "text/plain": [
       "0. (|(H, H)|, |((1, 1), ..(1, x).., (1, 2), ....(k, 1), ..(k, x).., (k, 2)...., (1, 1), ..(1, x).., (1, 2))|)\n",
       "   core type: ExprTuple\n",
       "   sub-expressions: 1, 2\n",
       "1. |(H, H)|\n",
       "   core type: Operation\n",
       "   operator: 4\n",
       "   operand: 6\n",
       "2. |((1, 1), ..(1, x).., (1, 2), ....(k, 1), ..(k, x).., (k, 2)...., (1, 1), ..(1, x).., (1, 2))|\n",
       "   core type: Operation\n",
       "   operator: 4\n",
       "   operand: 7\n",
       "3. ((H, H))\n",
       "   core type: ExprTuple\n",
       "   sub-expressions: 6\n",
       "4. length\n",
       "   core type: Literal\n",
       "   sub-expressions: \n",
       "5. (((1, 1), ..(1, x).., (1, 2), ....(k, 1), ..(k, x).., (k, 2)...., (1, 1), ..(1, x).., (1, 2)))\n",
       "   core type: ExprTuple\n",
       "   sub-expressions: 7\n",
       "6. (H, H)\n",
       "   core type: ExprTuple\n",
       "   sub-expressions: 8, 8\n",
       "7. ((1, 1), ..(1, x).., (1, 2), ....(k, 1), ..(k, x).., (k, 2)...., (1, 1), ..(1, x).., (1, 2))\n",
       "   core type: ExprTuple\n",
       "   sub-expressions: 9\n",
       "8. H\n",
       "   core type: Literal\n",
       "   sub-expressions: \n",
       "9. (1, 1), ..(1, x).., (1, 2), ....(k, 1), ..(k, x).., (k, 2)...., (1, 1), ..(1, x).., (1, 2)\n",
       "   core type: ExprRange\n",
       "   lambda_map: 10\n",
       "   start_index: 13\n",
       "   end_index: 13\n",
       "10. k -> (k, 1), ..(k, x).., (k, 2)\n",
       "    core type: Lambda\n",
       "    parameter: 16\n",
       "    body: 11\n",
       "11. (k, 1), ..(k, x).., (k, 2)\n",
       "    core type: ExprRange\n",
       "    lambda_map: 12\n",
       "    start_index: 13\n",
       "    end_index: 14\n",
       "12. x -> (k, x)\n",
       "    core type: Lambda\n",
       "    parameter: 17\n",
       "    body: 15\n",
       "13. 1\n",
       "    core type: Literal\n",
       "    sub-expressions: \n",
       "14. 2\n",
       "    core type: Literal\n",
       "    sub-expressions: \n",
       "15. (k, x)\n",
       "    core type: ExprTuple\n",
       "    sub-expressions: 16, 17\n",
       "16. k\n",
       "    core type: Variable\n",
       "    sub-expressions: \n",
       "17. x\n",
       "    core type: Variable\n",
       "    sub-expressions: "
      ]
     },
     "execution_count": 6,
     "metadata": {},
     "output_type": "execute_result"
    }
   ],
   "source": [
    "# display the expression information\n",
    "expr.expr_info()"
   ]
  },
  {
   "cell_type": "code",
   "execution_count": null,
   "metadata": {},
   "outputs": [],
   "source": []
  }
 ],
 "metadata": {
  "kernelspec": {
   "display_name": "Python 3",
   "language": "python",
   "name": "python3"
  }
 },
 "nbformat": 4,
 "nbformat_minor": 0
}