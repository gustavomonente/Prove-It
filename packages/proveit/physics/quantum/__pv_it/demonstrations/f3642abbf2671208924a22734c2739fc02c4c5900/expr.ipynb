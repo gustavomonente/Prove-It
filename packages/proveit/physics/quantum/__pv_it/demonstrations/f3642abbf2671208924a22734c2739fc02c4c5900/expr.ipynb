{
 "cells": [
  {
   "cell_type": "markdown",
   "metadata": {},
   "source": [
    "Expression of type <a class=\"ProveItLink\" href=\"../../../../../../../doc/html/api/proveit.ExprTuple.html\">ExprTuple</a>\n",
    "=======================\n",
    "# from the theory of <a class=\"ProveItLink\" href=\"../../../_theory_nbs_/theory.ipynb\">proveit.physics.quantum</a>"
   ]
  },
  {
   "cell_type": "code",
   "execution_count": 1,
   "metadata": {},
   "outputs": [],
   "source": [
    "import proveit\n",
    "# Automation is not needed when building an expression:\n",
    "proveit.defaults.automation = False # This will speed things up.\n",
    "proveit.defaults.inline_pngs = False # Makes files smaller.\n",
    "%load_expr # Load the stored expression as 'stored_expr'\n",
    "# import Expression classes needed to build the expression\n",
    "from proveit import ExprTuple\n",
    "from proveit.logic import Set\n",
    "from proveit.numbers import four, three\n",
    "from proveit.physics.quantum import Gate, I, Input, Output, X, ket0, ket1\n",
    "from proveit.physics.quantum.circuit import MultiQubitGate"
   ]
  },
  {
   "cell_type": "code",
   "execution_count": 2,
   "metadata": {},
   "outputs": [
    {
     "data": {
      "text/html": [
       "<strong id=\"expr\">expr:</strong> <a class=\"ProveItLink\" href=\"expr.ipynb\"><img src=\"expr.png\" style=\"display:inline;vertical-align:middle;\" /></a><br>"
      ],
      "text/plain": [
       "expr: (Input(|0〉), Gate(I), MultiQubitGate(X, {3, 4}), Gate(I), Output(|1〉))"
      ]
     },
     "execution_count": 2,
     "metadata": {},
     "output_type": "execute_result"
    }
   ],
   "source": [
    "# build up the expression from sub-expressions\n",
    "sub_expr1 = Gate(I)\n",
    "expr = ExprTuple(Input(ket0), sub_expr1, MultiQubitGate(X, Set(three, four)), sub_expr1, Output(ket1))"
   ]
  },
  {
   "cell_type": "code",
   "execution_count": 3,
   "metadata": {},
   "outputs": [
    {
     "name": "stdout",
     "output_type": "stream",
     "text": [
      "Passed sanity check: expr matches stored_expr\n"
     ]
    }
   ],
   "source": [
    "# check that the built expression is the same as the stored expression\n",
    "assert expr == stored_expr\n",
    "assert expr._style_id == stored_expr._style_id\n",
    "print(\"Passed sanity check: expr matches stored_expr\")"
   ]
  },
  {
   "cell_type": "code",
   "execution_count": 4,
   "metadata": {},
   "outputs": [
    {
     "name": "stdout",
     "output_type": "stream",
     "text": [
      "\\left(\\hspace{2em} \\Qcircuit@C=1em @R=.7em{\n",
      "& \\lstick{\\lvert 0 \\rangle} \n",
      "} \\hspace{2em}, \\hspace{2em} \\Qcircuit@C=1em @R=.7em{\n",
      "& \\gate{I} \n",
      "} \\hspace{2em}, \\hspace{2em} \\Qcircuit@C=1em @R=.7em{\n",
      "& X \n",
      "} \\hspace{2em}, \\hspace{2em} \\Qcircuit@C=1em @R=.7em{\n",
      "& \\gate{I} \n",
      "} \\hspace{2em}, \\hspace{2em} \\Qcircuit@C=1em @R=.7em{\n",
      "& \\rstick{\\lvert 1 \\rangle} \\qw \n",
      "} \\hspace{2em}\\right)\n"
     ]
    }
   ],
   "source": [
    "# Show the LaTeX representation of the expression for convenience if you need it.\n",
    "print(expr.latex())"
   ]
  },
  {
   "cell_type": "code",
   "execution_count": 5,
   "metadata": {},
   "outputs": [
    {
     "data": {
      "text/html": [
       "<table><tr><th>&nbsp;</th><th>core type</th><th>sub-expressions</th><th>expression</th></tr>\n",
       "<tr><td>0</td><td>ExprTuple</td><td>1, 3, 2, 3, 4</td><td><a class=\"ProveItLink\" href=\"expr.ipynb\"><img src=\"expr.png\" style=\"display:inline;vertical-align:middle;\" /></a></td></tr>\n",
       "<tr><td>1</td><td>Operation</td><td>operator:&nbsp;5<br>operand:&nbsp;6<br></td><td><a class=\"ProveItLink\" href=\"../2fc4327d42851bc04ea1e04bb5f79e63417e61780/expr.ipynb\"><img src=\"../2fc4327d42851bc04ea1e04bb5f79e63417e61780/expr.png\" style=\"display:inline;vertical-align:middle;\" /></a></td></tr>\n",
       "<tr><td>2</td><td>Operation</td><td>operator:&nbsp;7<br>operands:&nbsp;8<br></td><td><a class=\"ProveItLink\" href=\"../46ac5f1a1f10b2caacef8819cb77ee47b1af427d0/expr.ipynb\"><img src=\"../46ac5f1a1f10b2caacef8819cb77ee47b1af427d0/expr.png\" style=\"display:inline;vertical-align:middle;\" /></a></td></tr>\n",
       "<tr><td>3</td><td>Operation</td><td>operator:&nbsp;9<br>operand:&nbsp;10<br></td><td><a class=\"ProveItLink\" href=\"../2138b6b6cfc252d595413dbe594805775b4b0fbb0/expr.ipynb\"><img src=\"../2138b6b6cfc252d595413dbe594805775b4b0fbb0/expr.png\" style=\"display:inline;vertical-align:middle;\" /></a></td></tr>\n",
       "<tr><td>4</td><td>Operation</td><td>operator:&nbsp;11<br>operand:&nbsp;12<br></td><td><a class=\"ProveItLink\" href=\"../d07c155e6ddddfb87a189260227b472792d3c7740/expr.ipynb\"><img src=\"../d07c155e6ddddfb87a189260227b472792d3c7740/expr.png\" style=\"display:inline;vertical-align:middle;\" /></a></td></tr>\n",
       "<tr><td>5</td><td>Literal</td><td></td><td><a class=\"ProveItLink\" href=\"../../common/75fe2e9c3de87ae2358442c50cf12e606184c7e30/expr.ipynb\"><img src=\"../../common/75fe2e9c3de87ae2358442c50cf12e606184c7e30/expr.png\" style=\"display:inline;vertical-align:middle;\" /></a></td></tr>\n",
       "<tr><td>6</td><td>Operation</td><td>operator:&nbsp;16<br>operand:&nbsp;13<br></td><td><a class=\"ProveItLink\" href=\"../../common/5f63a03bfc82b7258c791cd7eef6d6305fc125e50/expr.ipynb\"><img src=\"../../common/5f63a03bfc82b7258c791cd7eef6d6305fc125e50/expr.png\" style=\"display:inline;vertical-align:middle;\" /></a></td></tr>\n",
       "<tr><td>7</td><td>Literal</td><td></td><td><a class=\"ProveItLink\" href=\"../../common/7e400d333e3c53d1c3dd14244e4b33f4cea327190/expr.ipynb\"><img src=\"../../common/7e400d333e3c53d1c3dd14244e4b33f4cea327190/expr.png\" style=\"display:inline;vertical-align:middle;\" /></a></td></tr>\n",
       "<tr><td>8</td><td>ExprTuple</td><td>14, 15</td><td><a class=\"ProveItLink\" href=\"../7bd608facc72fed6d8ecbab26d9df2a5ce0c78bd0/expr.ipynb\"><img src=\"../7bd608facc72fed6d8ecbab26d9df2a5ce0c78bd0/expr.png\" style=\"display:inline;vertical-align:middle;\" /></a></td></tr>\n",
       "<tr><td>9</td><td>Literal</td><td></td><td><a class=\"ProveItLink\" href=\"../../common/0ea83cfe1adebd8ba4f03839c3c2a37c85d3772c0/expr.ipynb\"><img src=\"../../common/0ea83cfe1adebd8ba4f03839c3c2a37c85d3772c0/expr.png\" style=\"display:inline;vertical-align:middle;\" /></a></td></tr>\n",
       "<tr><td>10</td><td>Literal</td><td></td><td><a class=\"ProveItLink\" href=\"../../common/1684671b210bf82fb5ddcb39adbc3acaab7ab55e0/expr.ipynb\"><img src=\"../../common/1684671b210bf82fb5ddcb39adbc3acaab7ab55e0/expr.png\" style=\"display:inline;vertical-align:middle;\" /></a></td></tr>\n",
       "<tr><td>11</td><td>Literal</td><td></td><td><a class=\"ProveItLink\" href=\"../../common/0f9100059d781d861feb56714a679b7a44ddec710/expr.ipynb\"><img src=\"../../common/0f9100059d781d861feb56714a679b7a44ddec710/expr.png\" style=\"display:inline;vertical-align:middle;\" /></a></td></tr>\n",
       "<tr><td>12</td><td>Operation</td><td>operator:&nbsp;16<br>operand:&nbsp;17<br></td><td><a class=\"ProveItLink\" href=\"../../common/ebfae6b74c0021e21daf83105eb14e31dba466620/expr.ipynb\"><img src=\"../../common/ebfae6b74c0021e21daf83105eb14e31dba466620/expr.png\" style=\"display:inline;vertical-align:middle;\" /></a></td></tr>\n",
       "<tr><td>13</td><td>Literal</td><td></td><td><a class=\"ProveItLink\" href=\"../../../../../numbers/numerals/__pv_it/common/7d0a36793ffe8d307a5c120ee5598162e8cd2db10/expr.ipynb\"><img src=\"../../../../../numbers/numerals/__pv_it/common/7d0a36793ffe8d307a5c120ee5598162e8cd2db10/expr.png\" style=\"display:inline;vertical-align:middle;\" /></a></td></tr>\n",
       "<tr><td>14</td><td>Literal</td><td></td><td><a class=\"ProveItLink\" href=\"../../common/d428480ac9882b1412f7ede37b71e3a30f3c2e9e0/expr.ipynb\"><img src=\"../../common/d428480ac9882b1412f7ede37b71e3a30f3c2e9e0/expr.png\" style=\"display:inline;vertical-align:middle;\" /></a></td></tr>\n",
       "<tr><td>15</td><td>Operation</td><td>operator:&nbsp;18<br>operands:&nbsp;19<br></td><td><a class=\"ProveItLink\" href=\"../90ea414fa08ab4f2c59b595f423ad191279c7a500/expr.ipynb\"><img src=\"../90ea414fa08ab4f2c59b595f423ad191279c7a500/expr.png\" style=\"display:inline;vertical-align:middle;\" /></a></td></tr>\n",
       "<tr><td>16</td><td>Literal</td><td></td><td><a class=\"ProveItLink\" href=\"../../common/211157ad123e11ebc76ee54e41be13705eefd6800/expr.ipynb\"><img src=\"../../common/211157ad123e11ebc76ee54e41be13705eefd6800/expr.png\" style=\"display:inline;vertical-align:middle;\" /></a></td></tr>\n",
       "<tr><td>17</td><td>Literal</td><td></td><td><a class=\"ProveItLink\" href=\"../../../../../numbers/numerals/__pv_it/common/2778428c7f555b2bdc06aa0530bc142c6e6335100/expr.ipynb\"><img src=\"../../../../../numbers/numerals/__pv_it/common/2778428c7f555b2bdc06aa0530bc142c6e6335100/expr.png\" style=\"display:inline;vertical-align:middle;\" /></a></td></tr>\n",
       "<tr><td>18</td><td>Literal</td><td></td><td><a class=\"ProveItLink\" href=\"../../../../../logic/sets/enumeration/__pv_it/common/0ead90ccbf4f17bc585a51f8aa904bb77916ae6e0/expr.ipynb\"><img src=\"../../../../../logic/sets/enumeration/__pv_it/common/0ead90ccbf4f17bc585a51f8aa904bb77916ae6e0/expr.png\" style=\"display:inline;vertical-align:middle;\" /></a></td></tr>\n",
       "<tr><td>19</td><td>ExprTuple</td><td>20, 21</td><td><a class=\"ProveItLink\" href=\"../../../../../numbers/numerals/decimals/__pv_it/theorems/70c3e4143874f9f0f1f3d6a66c8e496179147e9d0/expr.ipynb\"><img src=\"../../../../../numbers/numerals/decimals/__pv_it/theorems/70c3e4143874f9f0f1f3d6a66c8e496179147e9d0/expr.png\" style=\"display:inline;vertical-align:middle;\" /></a></td></tr>\n",
       "<tr><td>20</td><td>Literal</td><td></td><td><a class=\"ProveItLink\" href=\"../../../../../numbers/numerals/__pv_it/common/0a19a501c0770212f27a044b71e9c626b8ca0bec0/expr.ipynb\"><img src=\"../../../../../numbers/numerals/__pv_it/common/0a19a501c0770212f27a044b71e9c626b8ca0bec0/expr.png\" style=\"display:inline;vertical-align:middle;\" /></a></td></tr>\n",
       "<tr><td>21</td><td>Literal</td><td></td><td><a class=\"ProveItLink\" href=\"../../../../../numbers/numerals/__pv_it/common/705198ce7fd3ec620275e02d9e1fa1bcf7f141270/expr.ipynb\"><img src=\"../../../../../numbers/numerals/__pv_it/common/705198ce7fd3ec620275e02d9e1fa1bcf7f141270/expr.png\" style=\"display:inline;vertical-align:middle;\" /></a></td></tr>\n",
       "</table>\n"
      ],
      "text/plain": [
       "0. (Input(|0〉), Gate(I), MultiQubitGate(X, {3, 4}), Gate(I), Output(|1〉))\n",
       "   core type: ExprTuple\n",
       "   sub-expressions: 1, 3, 2, 3, 4\n",
       "1. [INPUT](|0〉)\n",
       "   core type: Operation\n",
       "   operator: 5\n",
       "   operand: 6\n",
       "2. MultiQubitGate(X, {3, 4})\n",
       "   core type: Operation\n",
       "   operator: 7\n",
       "   operands: 8\n",
       "3. Gate(I)\n",
       "   core type: Operation\n",
       "   operator: 9\n",
       "   operand: 10\n",
       "4. [OUTPUT](|1〉)\n",
       "   core type: Operation\n",
       "   operator: 11\n",
       "   operand: 12\n",
       "5. INPUT\n",
       "   core type: Literal\n",
       "   sub-expressions: \n",
       "6. |0〉\n",
       "   core type: Operation\n",
       "   operator: 16\n",
       "   operand: 13\n",
       "7. MULTI_QUBIT_GATE\n",
       "   core type: Literal\n",
       "   sub-expressions: \n",
       "8. (X, {3, 4})\n",
       "   core type: ExprTuple\n",
       "   sub-expressions: 14, 15\n",
       "9. GATE\n",
       "   core type: Literal\n",
       "   sub-expressions: \n",
       "10. --\n",
       "    core type: Literal\n",
       "    sub-expressions: \n",
       "11. OUTPUT\n",
       "    core type: Literal\n",
       "    sub-expressions: \n",
       "12. |1〉\n",
       "    core type: Operation\n",
       "    operator: 16\n",
       "    operand: 17\n",
       "13. 0\n",
       "    core type: Literal\n",
       "    sub-expressions: \n",
       "14. X\n",
       "    core type: Literal\n",
       "    sub-expressions: \n",
       "15. {3, 4}\n",
       "    core type: Operation\n",
       "    operator: 18\n",
       "    operands: 19\n",
       "16. KET\n",
       "    core type: Literal\n",
       "    sub-expressions: \n",
       "17. 1\n",
       "    core type: Literal\n",
       "    sub-expressions: \n",
       "18. Set\n",
       "    core type: Literal\n",
       "    sub-expressions: \n",
       "19. (3, 4)\n",
       "    core type: ExprTuple\n",
       "    sub-expressions: 20, 21\n",
       "20. 3\n",
       "    core type: Literal\n",
       "    sub-expressions: \n",
       "21. 4\n",
       "    core type: Literal\n",
       "    sub-expressions: "
      ]
     },
     "execution_count": 5,
     "metadata": {},
     "output_type": "execute_result"
    }
   ],
   "source": [
    "# display the expression information\n",
    "expr.expr_info()"
   ]
  },
  {
   "cell_type": "code",
   "execution_count": null,
   "metadata": {},
   "outputs": [],
   "source": []
  }
 ],
 "metadata": {
  "kernelspec": {
   "display_name": "Python 3",
   "language": "python",
   "name": "python3"
  }
 },
 "nbformat": 4,
 "nbformat_minor": 0
}