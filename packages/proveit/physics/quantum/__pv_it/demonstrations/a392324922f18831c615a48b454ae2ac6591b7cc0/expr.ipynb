{
 "cells": [
  {
   "cell_type": "markdown",
   "metadata": {},
   "source": [
    "Expression of type <a class=\"ProveItLink\" href=\"../../../../../../../doc/html/api/proveit.ExprRange.html\">ExprRange</a>\n",
    "=======================\n",
    "# from the theory of <a class=\"ProveItLink\" href=\"../../../_theory_nbs_/theory.ipynb\">proveit.physics.quantum</a>"
   ]
  },
  {
   "cell_type": "code",
   "execution_count": 1,
   "metadata": {},
   "outputs": [],
   "source": [
    "import proveit\n",
    "# Automation is not needed when building an expression:\n",
    "proveit.defaults.automation = False # This will speed things up.\n",
    "proveit.defaults.inline_pngs = False # Makes files smaller.\n",
    "%load_expr # Load the stored expression as 'stored_expr'\n",
    "# import Expression classes needed to build the expression\n",
    "from proveit import ExprRange, i, j, m, s\n",
    "from proveit.core_expr_types.expr_arrays import Cij, Sij\n",
    "from proveit.numbers import one\n",
    "from proveit.physics.quantum.circuit import MultiQubitGate"
   ]
  },
  {
   "cell_type": "code",
   "execution_count": 2,
   "metadata": {},
   "outputs": [
    {
     "data": {
      "text/html": [
       "<strong id=\"expr\">expr:</strong> <a class=\"ProveItLink\" href=\"expr.ipynb\"><img src=\"expr.png\" style=\"display:inline;vertical-align:middle;\" /></a><br>"
      ],
      "text/plain": [
       "expr: (MultiQubitGate(C_{1, 1}, S_{1, 1}), ..MultiQubitGate(C_{1, j}, S_{1, j}).., MultiQubitGate(C_{1, m}, S_{1, m})), ..(MultiQubitGate(C_{i, 1}, S_{i, 1}), ..MultiQubitGate(C_{i, j}, S_{i, j}).., MultiQubitGate(C_{i, m}, S_{i, m})).., (MultiQubitGate(C_{s, 1}, S_{s, 1}), ..MultiQubitGate(C_{s, j}, S_{s, j}).., MultiQubitGate(C_{s, m}, S_{s, m}))"
      ]
     },
     "execution_count": 2,
     "metadata": {},
     "output_type": "execute_result"
    }
   ],
   "source": [
    "# build up the expression from sub-expressions\n",
    "expr = ExprRange(i, [ExprRange(j, MultiQubitGate(Cij, Sij), one, m)], one, s)"
   ]
  },
  {
   "cell_type": "code",
   "execution_count": 3,
   "metadata": {},
   "outputs": [
    {
     "name": "stdout",
     "output_type": "stream",
     "text": [
      "Passed sanity check: expr matches stored_expr\n"
     ]
    }
   ],
   "source": [
    "# check that the built expression is the same as the stored expression\n",
    "assert expr == stored_expr\n",
    "assert expr._style_id == stored_expr._style_id\n",
    "print(\"Passed sanity check: expr matches stored_expr\")"
   ]
  },
  {
   "cell_type": "code",
   "execution_count": 4,
   "metadata": {},
   "outputs": [
    {
     "name": "stdout",
     "output_type": "stream",
     "text": [
      "\\left(\\hspace{2em} \\Qcircuit@C=1em @R=.7em{\n",
      "& \\gate{C_{1, 1}{\\Big \\{} S_{1, 1}} \n",
      "} \\hspace{2em}, \\ldots, \\hspace{2em} \\Qcircuit@C=1em @R=.7em{\n",
      "& \\gate{C_{1, m}{\\Big \\{} S_{1, m}} \n",
      "} \\hspace{2em}\\right), \\ldots, \\left(\\hspace{2em} \\Qcircuit@C=1em @R=.7em{\n",
      "& \\gate{C_{s, 1}{\\Big \\{} S_{s, 1}} \n",
      "} \\hspace{2em}, \\ldots, \\hspace{2em} \\Qcircuit@C=1em @R=.7em{\n",
      "& \\gate{C_{s, m}{\\Big \\{} S_{s, m}} \n",
      "} \\hspace{2em}\\right)\n"
     ]
    }
   ],
   "source": [
    "# Show the LaTeX representation of the expression for convenience if you need it.\n",
    "print(expr.latex())"
   ]
  },
  {
   "cell_type": "code",
   "execution_count": 5,
   "metadata": {},
   "outputs": [
    {
     "data": {
      "text/html": [
       "<table>\n",
       "<tr><th>name</th><th>description</th><th>default</th><th>current value</th><th>related methods</th></tr><tr><td>parameterization</td><td>'implicit' (default for LaTeX formatting) hides the parameter the ExprRange so the parameterization may be ambiguous (e.g., x_{1+1}, ..., x_{n+1}); 'explicit' (default for string formatting) reveals the parameterization (e.g. x_{1+1}, ..x_{k+1}.., x_{n+1}).</td><td>None</td><td>None/False</td><td>('with_explicit_parameterization', 'with_implicit_parameterization', 'with_default_parameterization_style')</td></tr>\n",
       "</table>\n"
      ],
      "text/plain": [
       "style name: parameterization\n",
       "description: 'implicit' (default for LaTeX formatting) hides the parameter the ExprRange so the parameterization may be ambiguous (e.g., x_{1+1}, ..., x_{n+1}); 'explicit' (default for string formatting) reveals the parameterization (e.g. x_{1+1}, ..x_{k+1}.., x_{n+1}).\n",
       "default: None\n",
       "current value: None/False\n",
       "related methods: ('with_explicit_parameterization', 'with_implicit_parameterization', 'with_default_parameterization_style')"
      ]
     },
     "execution_count": 5,
     "metadata": {},
     "output_type": "execute_result"
    }
   ],
   "source": [
    "expr.style_options()"
   ]
  },
  {
   "cell_type": "code",
   "execution_count": 6,
   "metadata": {},
   "outputs": [
    {
     "data": {
      "text/html": [
       "<table><tr><th>&nbsp;</th><th>core type</th><th>sub-expressions</th><th>expression</th></tr>\n",
       "<tr><td>0</td><td>ExprRange</td><td>lambda_map:&nbsp;1<br>start_index:&nbsp;6<br>end_index:&nbsp;2<br></td><td><a class=\"ProveItLink\" href=\"expr.ipynb\"><img src=\"expr.png\" style=\"display:inline;vertical-align:middle;\" /></a></td></tr>\n",
       "<tr><td>1</td><td>Lambda</td><td>parameter:&nbsp;16<br>body:&nbsp;3<br></td><td><a class=\"ProveItLink\" href=\"../c8933c05289d8391c802c9f5a0cd290e46f8beb00/expr.ipynb\"><img src=\"../c8933c05289d8391c802c9f5a0cd290e46f8beb00/expr.png\" style=\"display:inline;vertical-align:middle;\" /></a></td></tr>\n",
       "<tr><td>2</td><td>Variable</td><td></td><td><a class=\"ProveItLink\" href=\"../../../../../__pv_it/common/139acc5ad2408e62ab79deb85a9a93f78cd9f39a0/expr.ipynb\"><img src=\"../../../../../__pv_it/common/139acc5ad2408e62ab79deb85a9a93f78cd9f39a0/expr.png\" style=\"display:inline;vertical-align:middle;\" /></a></td></tr>\n",
       "<tr><td>3</td><td>ExprTuple</td><td>4</td><td><a class=\"ProveItLink\" href=\"../85a40a8b0ffcf8a4c5b5bb06a08674fd1cdd25a40/expr.ipynb\"><img src=\"../85a40a8b0ffcf8a4c5b5bb06a08674fd1cdd25a40/expr.png\" style=\"display:inline;vertical-align:middle;\" /></a></td></tr>\n",
       "<tr><td>4</td><td>ExprRange</td><td>lambda_map:&nbsp;5<br>start_index:&nbsp;6<br>end_index:&nbsp;7<br></td><td><a class=\"ProveItLink\" href=\"../991b00eae932daf21887113c02bc776d24ce30110/expr.ipynb\"><img src=\"../991b00eae932daf21887113c02bc776d24ce30110/expr.png\" style=\"display:inline;vertical-align:middle;\" /></a></td></tr>\n",
       "<tr><td>5</td><td>Lambda</td><td>parameter:&nbsp;17<br>body:&nbsp;8<br></td><td><a class=\"ProveItLink\" href=\"../32fb5aabe3802d0635d38465f15cda037044081f0/expr.ipynb\"><img src=\"../32fb5aabe3802d0635d38465f15cda037044081f0/expr.png\" style=\"display:inline;vertical-align:middle;\" /></a></td></tr>\n",
       "<tr><td>6</td><td>Literal</td><td></td><td><a class=\"ProveItLink\" href=\"../../../../../numbers/numerals/__pv_it/common/d278e359da0695d9652dd541d45264f93703e2e40/expr.ipynb\"><img src=\"../../../../../numbers/numerals/__pv_it/common/d278e359da0695d9652dd541d45264f93703e2e40/expr.png\" style=\"display:inline;vertical-align:middle;\" /></a></td></tr>\n",
       "<tr><td>7</td><td>Variable</td><td></td><td><a class=\"ProveItLink\" href=\"../../../../../__pv_it/common/2dc4f15b3407a25e8d70754a86bf74f1871f92650/expr.ipynb\"><img src=\"../../../../../__pv_it/common/2dc4f15b3407a25e8d70754a86bf74f1871f92650/expr.png\" style=\"display:inline;vertical-align:middle;\" /></a></td></tr>\n",
       "<tr><td>8</td><td>Operation</td><td>operator:&nbsp;9<br>operands:&nbsp;10<br></td><td><a class=\"ProveItLink\" href=\"../d71e1f1a6daa4ac64008be09a3e4fef0eeb3deda0/expr.ipynb\"><img src=\"../d71e1f1a6daa4ac64008be09a3e4fef0eeb3deda0/expr.png\" style=\"display:inline;vertical-align:middle;\" /></a></td></tr>\n",
       "<tr><td>9</td><td>Literal</td><td></td><td><a class=\"ProveItLink\" href=\"../../common/38deceb0a69e80c36399d725649803706802a2a90/expr.ipynb\"><img src=\"../../common/38deceb0a69e80c36399d725649803706802a2a90/expr.png\" style=\"display:inline;vertical-align:middle;\" /></a></td></tr>\n",
       "<tr><td>10</td><td>ExprTuple</td><td>11, 12</td><td><a class=\"ProveItLink\" href=\"../c090a89821c57cb7b76178be4deadf2f7931994a0/expr.ipynb\"><img src=\"../c090a89821c57cb7b76178be4deadf2f7931994a0/expr.png\" style=\"display:inline;vertical-align:middle;\" /></a></td></tr>\n",
       "<tr><td>11</td><td>IndexedVar</td><td>variable:&nbsp;13<br>indices:&nbsp;15<br></td><td><a class=\"ProveItLink\" href=\"../../../../../core_expr_types/expr_arrays/__pv_it/common/cfc3f031aff613b33998523b9e88a4b21bb7543a0/expr.ipynb\"><img src=\"../../../../../core_expr_types/expr_arrays/__pv_it/common/cfc3f031aff613b33998523b9e88a4b21bb7543a0/expr.png\" style=\"display:inline;vertical-align:middle;\" /></a></td></tr>\n",
       "<tr><td>12</td><td>IndexedVar</td><td>variable:&nbsp;14<br>indices:&nbsp;15<br></td><td><a class=\"ProveItLink\" href=\"../../../../../core_expr_types/expr_arrays/__pv_it/common/29b2a42564e2bd68f988108464c87826d4366e390/expr.ipynb\"><img src=\"../../../../../core_expr_types/expr_arrays/__pv_it/common/29b2a42564e2bd68f988108464c87826d4366e390/expr.png\" style=\"display:inline;vertical-align:middle;\" /></a></td></tr>\n",
       "<tr><td>13</td><td>Variable</td><td></td><td><a class=\"ProveItLink\" href=\"../../../../../__pv_it/common/c4a83a53f0ed6678b0c7a2d6d691a4b400f735c90/expr.ipynb\"><img src=\"../../../../../__pv_it/common/c4a83a53f0ed6678b0c7a2d6d691a4b400f735c90/expr.png\" style=\"display:inline;vertical-align:middle;\" /></a></td></tr>\n",
       "<tr><td>14</td><td>Variable</td><td></td><td><a class=\"ProveItLink\" href=\"../../../../../__pv_it/common/259d0846cd49c4882c35ec84d7a0b180713721cc0/expr.ipynb\"><img src=\"../../../../../__pv_it/common/259d0846cd49c4882c35ec84d7a0b180713721cc0/expr.png\" style=\"display:inline;vertical-align:middle;\" /></a></td></tr>\n",
       "<tr><td>15</td><td>ExprTuple</td><td>16, 17</td><td><a class=\"ProveItLink\" href=\"../../../../../core_expr_types/expr_arrays/__pv_it/common/8cc0879db459b7e49bd46852f9da16970a0f1f110/expr.ipynb\"><img src=\"../../../../../core_expr_types/expr_arrays/__pv_it/common/8cc0879db459b7e49bd46852f9da16970a0f1f110/expr.png\" style=\"display:inline;vertical-align:middle;\" /></a></td></tr>\n",
       "<tr><td>16</td><td>Variable</td><td></td><td><a class=\"ProveItLink\" href=\"../../../../../__pv_it/common/575a6156bb1c87c5beeaf38c302b5905ad57f5780/expr.ipynb\"><img src=\"../../../../../__pv_it/common/575a6156bb1c87c5beeaf38c302b5905ad57f5780/expr.png\" style=\"display:inline;vertical-align:middle;\" /></a></td></tr>\n",
       "<tr><td>17</td><td>Variable</td><td></td><td><a class=\"ProveItLink\" href=\"../../../../../__pv_it/common/5514cc9a63b9c2ed9b63934dd5e088ab0d4f10080/expr.ipynb\"><img src=\"../../../../../__pv_it/common/5514cc9a63b9c2ed9b63934dd5e088ab0d4f10080/expr.png\" style=\"display:inline;vertical-align:middle;\" /></a></td></tr>\n",
       "</table>\n"
      ],
      "text/plain": [
       "0. (MultiQubitGate(C_{1, 1}, S_{1, 1}), ..MultiQubitGate(C_{1, j}, S_{1, j}).., MultiQubitGate(C_{1, m}, S_{1, m})), ..(MultiQubitGate(C_{i, 1}, S_{i, 1}), ..MultiQubitGate(C_{i, j}, S_{i, j}).., MultiQubitGate(C_{i, m}, S_{i, m})).., (MultiQubitGate(C_{s, 1}, S_{s, 1}), ..MultiQubitGate(C_{s, j}, S_{s, j}).., MultiQubitGate(C_{s, m}, S_{s, m}))\n",
       "   core type: ExprRange\n",
       "   lambda_map: 1\n",
       "   start_index: 6\n",
       "   end_index: 2\n",
       "1. i -> (MultiQubitGate(C_{i, 1}, S_{i, 1}), ..MultiQubitGate(C_{i, j}, S_{i, j}).., MultiQubitGate(C_{i, m}, S_{i, m}))\n",
       "   core type: Lambda\n",
       "   parameter: 16\n",
       "   body: 3\n",
       "2. s\n",
       "   core type: Variable\n",
       "   sub-expressions: \n",
       "3. (MultiQubitGate(C_{i, 1}, S_{i, 1}), ..MultiQubitGate(C_{i, j}, S_{i, j}).., MultiQubitGate(C_{i, m}, S_{i, m}))\n",
       "   core type: ExprTuple\n",
       "   sub-expressions: 4\n",
       "4. MultiQubitGate(C_{i, 1}, S_{i, 1}), ..MultiQubitGate(C_{i, j}, S_{i, j}).., MultiQubitGate(C_{i, m}, S_{i, m})\n",
       "   core type: ExprRange\n",
       "   lambda_map: 5\n",
       "   start_index: 6\n",
       "   end_index: 7\n",
       "5. j -> MultiQubitGate(C_{i, j}, S_{i, j})\n",
       "   core type: Lambda\n",
       "   parameter: 17\n",
       "   body: 8\n",
       "6. 1\n",
       "   core type: Literal\n",
       "   sub-expressions: \n",
       "7. m\n",
       "   core type: Variable\n",
       "   sub-expressions: \n",
       "8. MultiQubitGate(C_{i, j}, S_{i, j})\n",
       "   core type: Operation\n",
       "   operator: 9\n",
       "   operands: 10\n",
       "9. MULTI_QUBIT_GATE\n",
       "   core type: Literal\n",
       "   sub-expressions: \n",
       "10. (C_{i, j}, S_{i, j})\n",
       "    core type: ExprTuple\n",
       "    sub-expressions: 11, 12\n",
       "11. C_{i, j}\n",
       "    core type: IndexedVar\n",
       "variable: 13\n",
       "indices: 15\n",
       "12. S_{i, j}\n",
       "    core type: IndexedVar\n",
       "variable: 14\n",
       "indices: 15\n",
       "13. C\n",
       "    core type: Variable\n",
       "    sub-expressions: \n",
       "14. S\n",
       "    core type: Variable\n",
       "    sub-expressions: \n",
       "15. (i, j)\n",
       "    core type: ExprTuple\n",
       "    sub-expressions: 16, 17\n",
       "16. i\n",
       "    core type: Variable\n",
       "    sub-expressions: \n",
       "17. j\n",
       "    core type: Variable\n",
       "    sub-expressions: "
      ]
     },
     "execution_count": 6,
     "metadata": {},
     "output_type": "execute_result"
    }
   ],
   "source": [
    "# display the expression information\n",
    "expr.expr_info()"
   ]
  },
  {
   "cell_type": "code",
   "execution_count": null,
   "metadata": {},
   "outputs": [],
   "source": []
  }
 ],
 "metadata": {
  "kernelspec": {
   "display_name": "Python 3",
   "language": "python",
   "name": "python3"
  }
 },
 "nbformat": 4,
 "nbformat_minor": 0
}