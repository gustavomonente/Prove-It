{
 "cells": [
  {
   "cell_type": "markdown",
   "metadata": {},
   "source": [
    "Expression of type <a class=\"ProveItLink\" href=\"../../../../../../../doc/html/api/proveit.physics.quantum.circuit.Circuit.html\">Circuit</a>\n",
    "=======================\n",
    "# from the theory of <a class=\"ProveItLink\" href=\"../../../_theory_nbs_/theory.ipynb\">proveit.physics.quantum</a>"
   ]
  },
  {
   "cell_type": "code",
   "execution_count": 1,
   "metadata": {},
   "outputs": [],
   "source": [
    "import proveit\n",
    "# Automation is not needed when building an expression:\n",
    "proveit.defaults.automation = False # This will speed things up.\n",
    "proveit.defaults.inline_pngs = False # Makes files smaller.\n",
    "%load_expr # Load the stored expression as 'stored_expr'\n",
    "# import Expression classes needed to build the expression\n",
    "from proveit import ExprArray, ExprRange, i, j, k, n\n",
    "from proveit.core_expr_types.expr_arrays import Cij, Rij\n",
    "from proveit.numbers import one\n",
    "from proveit.physics.quantum.circuit import Circuit, MultiQubitGate"
   ]
  },
  {
   "cell_type": "code",
   "execution_count": 2,
   "metadata": {},
   "outputs": [
    {
     "data": {
      "text/html": [
       "<strong id=\"expr\">expr:</strong> <a class=\"ProveItLink\" href=\"expr.ipynb\"><img src=\"expr.png\" style=\"display:inline;vertical-align:middle;\" /></a><br>"
      ],
      "text/plain": [
       "expr:  MultiQubitGate(C_{1, 1}, R_{1, 1})  & ..MultiQubitGate(C_{1, j}, R_{1, j})..  & MultiQubitGate(C_{1, n}, R_{1, n})   \\\\ \n",
       "   \\colon  & \\colon  & \\colon   \\\\ \n",
       "   MultiQubitGate(C_{i, 1}, R_{i, 1})  & ..MultiQubitGate(C_{i, j}, R_{i, j})..  & MultiQubitGate(C_{i, n}, R_{i, n})   \\\\ \n",
       "   \\colon  & \\colon  & \\colon   \\\\ \n",
       "   MultiQubitGate(C_{k, 1}, R_{k, 1})  & ..MultiQubitGate(C_{k, j}, R_{k, j})..  & MultiQubitGate(C_{k, n}, R_{k, n})"
      ]
     },
     "execution_count": 2,
     "metadata": {},
     "output_type": "execute_result"
    }
   ],
   "source": [
    "# build up the expression from sub-expressions\n",
    "expr = Circuit(ExprArray(ExprRange(i, [ExprRange(j, MultiQubitGate(Cij, Rij), one, n)], one, k)))"
   ]
  },
  {
   "cell_type": "code",
   "execution_count": 3,
   "metadata": {},
   "outputs": [
    {
     "name": "stdout",
     "output_type": "stream",
     "text": [
      "Passed sanity check: expr matches stored_expr\n"
     ]
    }
   ],
   "source": [
    "# check that the built expression is the same as the stored expression\n",
    "assert expr == stored_expr\n",
    "assert expr._style_id == stored_expr._style_id\n",
    "print(\"Passed sanity check: expr matches stored_expr\")"
   ]
  },
  {
   "cell_type": "code",
   "execution_count": 4,
   "metadata": {},
   "outputs": [
    {
     "name": "stdout",
     "output_type": "stream",
     "text": [
      "\\hspace{2em} \\Qcircuit@C=1em @R=.7em{\n",
      "& \\gate{C_{1, 1}{\\Big \\{} R_{1, 1}} \\qwx[1] & \\gate{\\cdots} \\qwx[1] & \\gate{C_{1, n}{\\Big \\{} R_{1, n}} \\qwx[1]   \\\\ \n",
      "  & \\gate{\\vdots} \\qwx[1] & \\gate{C_{i, j}{\\Big \\{} R_{i, j}} \\qwx[1] & \\gate{\\vdots} \\qwx[1]   \\\\ \n",
      "  & \\gate{C_{k, 1}{\\Big \\{} R_{k, 1}} & \\gate{\\cdots} & \\gate{C_{k, n}{\\Big \\{} R_{k, n}} \n",
      "} \\hspace{2em}\n"
     ]
    }
   ],
   "source": [
    "# Show the LaTeX representation of the expression for convenience if you need it.\n",
    "print(expr.latex())"
   ]
  },
  {
   "cell_type": "code",
   "execution_count": 5,
   "metadata": {},
   "outputs": [
    {
     "data": {
      "text/html": [
       "<table><tr><th>&nbsp;</th><th>core type</th><th>sub-expressions</th><th>expression</th></tr>\n",
       "<tr><td>0</td><td>Operation</td><td>operator:&nbsp;1<br>operand:&nbsp;3<br></td><td><a class=\"ProveItLink\" href=\"expr.ipynb\"><img src=\"expr.png\" style=\"display:inline;vertical-align:middle;\" /></a></td></tr>\n",
       "<tr><td>1</td><td>Literal</td><td></td><td><a class=\"ProveItLink\" href=\"../../common/409f940d39947a3c17092974bfa20c1d4da6996c0/expr.ipynb\"><img src=\"../../common/409f940d39947a3c17092974bfa20c1d4da6996c0/expr.png\" style=\"display:inline;vertical-align:middle;\" /></a></td></tr>\n",
       "<tr><td>2</td><td>ExprTuple</td><td>3</td><td><a class=\"ProveItLink\" href=\"../4dafd4b4fdae9f2d725d2bfcabcd374a530a5c1e0/expr.ipynb\"><img src=\"../4dafd4b4fdae9f2d725d2bfcabcd374a530a5c1e0/expr.png\" style=\"display:inline;vertical-align:middle;\" /></a></td></tr>\n",
       "<tr><td>3</td><td>ExprTuple</td><td>4</td><td><a class=\"ProveItLink\" href=\"../fc415f9f94976b823501c70fa760a04d7342f9180/expr.ipynb\"><img src=\"../fc415f9f94976b823501c70fa760a04d7342f9180/expr.png\" style=\"display:inline;vertical-align:middle;\" /></a></td></tr>\n",
       "<tr><td>4</td><td>ExprRange</td><td>lambda_map:&nbsp;5<br>start_index:&nbsp;10<br>end_index:&nbsp;6<br></td><td><a class=\"ProveItLink\" href=\"../0c387ca2f7441870fb0733233719bcf262c398800/expr.ipynb\"><img src=\"../0c387ca2f7441870fb0733233719bcf262c398800/expr.png\" style=\"display:inline;vertical-align:middle;\" /></a></td></tr>\n",
       "<tr><td>5</td><td>Lambda</td><td>parameter:&nbsp;20<br>body:&nbsp;7<br></td><td><a class=\"ProveItLink\" href=\"../0db8e1376bc3e9737f6ad8cda76f428acf85a9810/expr.ipynb\"><img src=\"../0db8e1376bc3e9737f6ad8cda76f428acf85a9810/expr.png\" style=\"display:inline;vertical-align:middle;\" /></a></td></tr>\n",
       "<tr><td>6</td><td>Variable</td><td></td><td><a class=\"ProveItLink\" href=\"../../../../../__pv_it/common/63b7c64bf9ec7a04ecc396c7a1670f3f12fb59490/expr.ipynb\"><img src=\"../../../../../__pv_it/common/63b7c64bf9ec7a04ecc396c7a1670f3f12fb59490/expr.png\" style=\"display:inline;vertical-align:middle;\" /></a></td></tr>\n",
       "<tr><td>7</td><td>ExprTuple</td><td>8</td><td><a class=\"ProveItLink\" href=\"../faf9ea2e7be6501d3bf5460e3c518eccfdd208c40/expr.ipynb\"><img src=\"../faf9ea2e7be6501d3bf5460e3c518eccfdd208c40/expr.png\" style=\"display:inline;vertical-align:middle;\" /></a></td></tr>\n",
       "<tr><td>8</td><td>ExprRange</td><td>lambda_map:&nbsp;9<br>start_index:&nbsp;10<br>end_index:&nbsp;11<br></td><td><a class=\"ProveItLink\" href=\"../2f35c77cfaa55a810f6c44ddb3667d954e3e247a0/expr.ipynb\"><img src=\"../2f35c77cfaa55a810f6c44ddb3667d954e3e247a0/expr.png\" style=\"display:inline;vertical-align:middle;\" /></a></td></tr>\n",
       "<tr><td>9</td><td>Lambda</td><td>parameter:&nbsp;21<br>body:&nbsp;12<br></td><td><a class=\"ProveItLink\" href=\"../d138d855a461d9728bd03b7e60c7649da1973ab60/expr.ipynb\"><img src=\"../d138d855a461d9728bd03b7e60c7649da1973ab60/expr.png\" style=\"display:inline;vertical-align:middle;\" /></a></td></tr>\n",
       "<tr><td>10</td><td>Literal</td><td></td><td><a class=\"ProveItLink\" href=\"../../../../../numbers/numerals/__pv_it/common/2778428c7f555b2bdc06aa0530bc142c6e6335100/expr.ipynb\"><img src=\"../../../../../numbers/numerals/__pv_it/common/2778428c7f555b2bdc06aa0530bc142c6e6335100/expr.png\" style=\"display:inline;vertical-align:middle;\" /></a></td></tr>\n",
       "<tr><td>11</td><td>Variable</td><td></td><td><a class=\"ProveItLink\" href=\"../../../../../__pv_it/common/8968bb04eb3f7dfa02353397ce929b025bbd79c20/expr.ipynb\"><img src=\"../../../../../__pv_it/common/8968bb04eb3f7dfa02353397ce929b025bbd79c20/expr.png\" style=\"display:inline;vertical-align:middle;\" /></a></td></tr>\n",
       "<tr><td>12</td><td>Operation</td><td>operator:&nbsp;13<br>operands:&nbsp;14<br></td><td><a class=\"ProveItLink\" href=\"../a8ed2f4327ae36d694433845276d7d33174646c20/expr.ipynb\"><img src=\"../a8ed2f4327ae36d694433845276d7d33174646c20/expr.png\" style=\"display:inline;vertical-align:middle;\" /></a></td></tr>\n",
       "<tr><td>13</td><td>Literal</td><td></td><td><a class=\"ProveItLink\" href=\"../../common/7e400d333e3c53d1c3dd14244e4b33f4cea327190/expr.ipynb\"><img src=\"../../common/7e400d333e3c53d1c3dd14244e4b33f4cea327190/expr.png\" style=\"display:inline;vertical-align:middle;\" /></a></td></tr>\n",
       "<tr><td>14</td><td>ExprTuple</td><td>15, 16</td><td><a class=\"ProveItLink\" href=\"../5c06b8e54c784e25b3b2e166c980fe93af8eb2fd0/expr.ipynb\"><img src=\"../5c06b8e54c784e25b3b2e166c980fe93af8eb2fd0/expr.png\" style=\"display:inline;vertical-align:middle;\" /></a></td></tr>\n",
       "<tr><td>15</td><td>IndexedVar</td><td>variable:&nbsp;17<br>indices:&nbsp;19<br></td><td><a class=\"ProveItLink\" href=\"../../../../../core_expr_types/expr_arrays/__pv_it/common/7bec3d14c7dbc593c85701588c082b29f96381740/expr.ipynb\"><img src=\"../../../../../core_expr_types/expr_arrays/__pv_it/common/7bec3d14c7dbc593c85701588c082b29f96381740/expr.png\" style=\"display:inline;vertical-align:middle;\" /></a></td></tr>\n",
       "<tr><td>16</td><td>IndexedVar</td><td>variable:&nbsp;18<br>indices:&nbsp;19<br></td><td><a class=\"ProveItLink\" href=\"../../../../../core_expr_types/expr_arrays/__pv_it/common/d75300d9b5f2bcf2057b6b5617d214288f6ad31e0/expr.ipynb\"><img src=\"../../../../../core_expr_types/expr_arrays/__pv_it/common/d75300d9b5f2bcf2057b6b5617d214288f6ad31e0/expr.png\" style=\"display:inline;vertical-align:middle;\" /></a></td></tr>\n",
       "<tr><td>17</td><td>Variable</td><td></td><td><a class=\"ProveItLink\" href=\"../../../../../__pv_it/common/9fba9f29e823606ff4fdf2f1c6d5d08d906e850a0/expr.ipynb\"><img src=\"../../../../../__pv_it/common/9fba9f29e823606ff4fdf2f1c6d5d08d906e850a0/expr.png\" style=\"display:inline;vertical-align:middle;\" /></a></td></tr>\n",
       "<tr><td>18</td><td>Variable</td><td></td><td><a class=\"ProveItLink\" href=\"../../../../../__pv_it/common/647ca33d6b96e29d5aa85a15d2241c7ebd0c6e4b0/expr.ipynb\"><img src=\"../../../../../__pv_it/common/647ca33d6b96e29d5aa85a15d2241c7ebd0c6e4b0/expr.png\" style=\"display:inline;vertical-align:middle;\" /></a></td></tr>\n",
       "<tr><td>19</td><td>ExprTuple</td><td>20, 21</td><td><a class=\"ProveItLink\" href=\"../../../../../core_expr_types/expr_arrays/__pv_it/common/8089472df1a928dd45ace3fd9d98b01b2f1756ad0/expr.ipynb\"><img src=\"../../../../../core_expr_types/expr_arrays/__pv_it/common/8089472df1a928dd45ace3fd9d98b01b2f1756ad0/expr.png\" style=\"display:inline;vertical-align:middle;\" /></a></td></tr>\n",
       "<tr><td>20</td><td>Variable</td><td></td><td><a class=\"ProveItLink\" href=\"../../../../../__pv_it/common/ae955345c83abf786c3aff8681cd5465beae262d0/expr.ipynb\"><img src=\"../../../../../__pv_it/common/ae955345c83abf786c3aff8681cd5465beae262d0/expr.png\" style=\"display:inline;vertical-align:middle;\" /></a></td></tr>\n",
       "<tr><td>21</td><td>Variable</td><td></td><td><a class=\"ProveItLink\" href=\"../../../../../__pv_it/common/1ed21df18baca2f42b561a7ffbf30a2743d594650/expr.ipynb\"><img src=\"../../../../../__pv_it/common/1ed21df18baca2f42b561a7ffbf30a2743d594650/expr.png\" style=\"display:inline;vertical-align:middle;\" /></a></td></tr>\n",
       "</table>\n"
      ],
      "text/plain": [
       "0.  MultiQubitGate(C_{1, 1}, R_{1, 1})  & ..MultiQubitGate(C_{1, j}, R_{1, j})..  & MultiQubitGate(C_{1, n}, R_{1, n})   \\\\ \n",
       "   \\colon  & \\colon  & \\colon   \\\\ \n",
       "   MultiQubitGate(C_{i, 1}, R_{i, 1})  & ..MultiQubitGate(C_{i, j}, R_{i, j})..  & MultiQubitGate(C_{i, n}, R_{i, n})   \\\\ \n",
       "   \\colon  & \\colon  & \\colon   \\\\ \n",
       "   MultiQubitGate(C_{k, 1}, R_{k, 1})  & ..MultiQubitGate(C_{k, j}, R_{k, j})..  & MultiQubitGate(C_{k, n}, R_{k, n})\n",
       "   core type: Operation\n",
       "   operator: 1\n",
       "   operand: 3\n",
       "1. CIRCUIT\n",
       "   core type: Literal\n",
       "   sub-expressions: \n",
       "2. ((MultiQubitGate(C_{1, 1}, R_{1, 1}) & ..MultiQubitGate(C_{1, j}, R_{1, j}).. & MultiQubitGate(C_{1, n}, R_{1, n})  \\\\ \n",
       "  \\colon & \\colon & \\colon  \\\\ \n",
       "  MultiQubitGate(C_{i, 1}, R_{i, 1}) & ..MultiQubitGate(C_{i, j}, R_{i, j}).. & MultiQubitGate(C_{i, n}, R_{i, n})  \\\\ \n",
       "  \\colon & \\colon & \\colon  \\\\ \n",
       "  MultiQubitGate(C_{k, 1}, R_{k, 1}) & ..MultiQubitGate(C_{k, j}, R_{k, j}).. & MultiQubitGate(C_{k, n}, R_{k, n})))\n",
       "   core type: ExprTuple\n",
       "   sub-expressions: 3\n",
       "3. MultiQubitGate(C_{1, 1}, R_{1, 1}) & ..MultiQubitGate(C_{1, j}, R_{1, j}).. & MultiQubitGate(C_{1, n}, R_{1, n})  \\\\ \n",
       "  \\colon & \\colon & \\colon  \\\\ \n",
       "  MultiQubitGate(C_{i, 1}, R_{i, 1}) & ..MultiQubitGate(C_{i, j}, R_{i, j}).. & MultiQubitGate(C_{i, n}, R_{i, n})  \\\\ \n",
       "  \\colon & \\colon & \\colon  \\\\ \n",
       "  MultiQubitGate(C_{k, 1}, R_{k, 1}) & ..MultiQubitGate(C_{k, j}, R_{k, j}).. & MultiQubitGate(C_{k, n}, R_{k, n})\n",
       "   core type: ExprTuple\n",
       "   sub-expressions: 4\n",
       "4. (MultiQubitGate(C_{1, 1}, R_{1, 1}), ..MultiQubitGate(C_{1, j}, R_{1, j}).., MultiQubitGate(C_{1, n}, R_{1, n})), ..(MultiQubitGate(C_{i, 1}, R_{i, 1}), ..MultiQubitGate(C_{i, j}, R_{i, j}).., MultiQubitGate(C_{i, n}, R_{i, n})).., (MultiQubitGate(C_{k, 1}, R_{k, 1}), ..MultiQubitGate(C_{k, j}, R_{k, j}).., MultiQubitGate(C_{k, n}, R_{k, n}))\n",
       "   core type: ExprRange\n",
       "   lambda_map: 5\n",
       "   start_index: 10\n",
       "   end_index: 6\n",
       "5. i -> (MultiQubitGate(C_{i, 1}, R_{i, 1}), ..MultiQubitGate(C_{i, j}, R_{i, j}).., MultiQubitGate(C_{i, n}, R_{i, n}))\n",
       "   core type: Lambda\n",
       "   parameter: 20\n",
       "   body: 7\n",
       "6. k\n",
       "   core type: Variable\n",
       "   sub-expressions: \n",
       "7. (MultiQubitGate(C_{i, 1}, R_{i, 1}), ..MultiQubitGate(C_{i, j}, R_{i, j}).., MultiQubitGate(C_{i, n}, R_{i, n}))\n",
       "   core type: ExprTuple\n",
       "   sub-expressions: 8\n",
       "8. MultiQubitGate(C_{i, 1}, R_{i, 1}), ..MultiQubitGate(C_{i, j}, R_{i, j}).., MultiQubitGate(C_{i, n}, R_{i, n})\n",
       "   core type: ExprRange\n",
       "   lambda_map: 9\n",
       "   start_index: 10\n",
       "   end_index: 11\n",
       "9. j -> MultiQubitGate(C_{i, j}, R_{i, j})\n",
       "   core type: Lambda\n",
       "   parameter: 21\n",
       "   body: 12\n",
       "10. 1\n",
       "    core type: Literal\n",
       "    sub-expressions: \n",
       "11. n\n",
       "    core type: Variable\n",
       "    sub-expressions: \n",
       "12. MultiQubitGate(C_{i, j}, R_{i, j})\n",
       "    core type: Operation\n",
       "    operator: 13\n",
       "    operands: 14\n",
       "13. MULTI_QUBIT_GATE\n",
       "    core type: Literal\n",
       "    sub-expressions: \n",
       "14. (C_{i, j}, R_{i, j})\n",
       "    core type: ExprTuple\n",
       "    sub-expressions: 15, 16\n",
       "15. C_{i, j}\n",
       "    core type: IndexedVar\n",
       "variable: 17\n",
       "indices: 19\n",
       "16. R_{i, j}\n",
       "    core type: IndexedVar\n",
       "variable: 18\n",
       "indices: 19\n",
       "17. C\n",
       "    core type: Variable\n",
       "    sub-expressions: \n",
       "18. R\n",
       "    core type: Variable\n",
       "    sub-expressions: \n",
       "19. (i, j)\n",
       "    core type: ExprTuple\n",
       "    sub-expressions: 20, 21\n",
       "20. i\n",
       "    core type: Variable\n",
       "    sub-expressions: \n",
       "21. j\n",
       "    core type: Variable\n",
       "    sub-expressions: "
      ]
     },
     "execution_count": 5,
     "metadata": {},
     "output_type": "execute_result"
    }
   ],
   "source": [
    "# display the expression information\n",
    "expr.expr_info()"
   ]
  },
  {
   "cell_type": "code",
   "execution_count": null,
   "metadata": {},
   "outputs": [],
   "source": []
  }
 ],
 "metadata": {
  "kernelspec": {
   "display_name": "Python 3",
   "language": "python",
   "name": "python3"
  }
 },
 "nbformat": 4,
 "nbformat_minor": 0
}