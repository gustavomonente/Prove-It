{
 "cells": [
  {
   "cell_type": "markdown",
   "metadata": {},
   "source": [
    "Expression of type <a class=\"ProveItLink\" href=\"../../../../../../../doc/html/api/proveit.physics.quantum.circuit.Circuit.html\">Circuit</a>\n",
    "=======================\n",
    "# from the theory of <a class=\"ProveItLink\" href=\"../../../_theory_nbs_/theory.ipynb\">proveit.physics.quantum</a>"
   ]
  },
  {
   "cell_type": "code",
   "execution_count": 1,
   "metadata": {},
   "outputs": [],
   "source": [
    "import proveit\n",
    "# Automation is not needed when building an expression:\n",
    "proveit.defaults.automation = False # This will speed things up.\n",
    "proveit.defaults.inline_pngs = False # Makes files smaller.\n",
    "%load_expr # Load the stored expression as 'stored_expr'\n",
    "# import Expression classes needed to build the expression\n",
    "from proveit import B, ExprArray, ExprRange, IndexedVar, S, i, j, m, q, s\n",
    "from proveit.core_expr_types.expr_arrays import Aij, Cij, Sij\n",
    "from proveit.numbers import one\n",
    "from proveit.physics.quantum.circuit import Circuit, MultiQubitGate"
   ]
  },
  {
   "cell_type": "code",
   "execution_count": 2,
   "metadata": {},
   "outputs": [
    {
     "data": {
      "text/html": [
       "<strong id=\"expr\">expr:</strong> <a class=\"ProveItLink\" href=\"expr.ipynb\"><img src=\"expr.png\" style=\"display:inline;vertical-align:middle;\" /></a><br>"
      ],
      "text/plain": [
       "expr:  MultiQubitGate(A_{1, 1}, S_{1, 1})  & ..MultiQubitGate(A_{1, j}, S_{1, j})..  & MultiQubitGate(A_{1, m}, S_{1, m})   \\\\ \n",
       "   \\colon  & \\colon  & \\colon   \\\\ \n",
       "   MultiQubitGate(A_{i, 1}, S_{i, 1})  & ..MultiQubitGate(A_{i, j}, S_{i, j})..  & MultiQubitGate(A_{i, m}, S_{i, m})   \\\\ \n",
       "   \\colon  & \\colon  & \\colon   \\\\ \n",
       "   MultiQubitGate(A_{q, 1}, S_{q, 1})  & ..MultiQubitGate(A_{q, j}, S_{q, j})..  & MultiQubitGate(A_{q, m}, S_{q, m})   \\\\ \n",
       "   MultiQubitGate(B_{1}, S_{1})  & ..MultiQubitGate(B_{i}, S_{i})..  & MultiQubitGate(B_{m}, S_{m})   \\\\ \n",
       "   MultiQubitGate(C_{1, 1}, S_{1, 1})  & ..MultiQubitGate(C_{1, j}, S_{1, j})..  & MultiQubitGate(C_{1, m}, S_{1, m})   \\\\ \n",
       "   \\colon  & \\colon  & \\colon   \\\\ \n",
       "   MultiQubitGate(C_{i, 1}, S_{i, 1})  & ..MultiQubitGate(C_{i, j}, S_{i, j})..  & MultiQubitGate(C_{i, m}, S_{i, m})   \\\\ \n",
       "   \\colon  & \\colon  & \\colon   \\\\ \n",
       "   MultiQubitGate(C_{s, 1}, S_{s, 1})  & ..MultiQubitGate(C_{s, j}, S_{s, j})..  & MultiQubitGate(C_{s, m}, S_{s, m})"
      ]
     },
     "execution_count": 2,
     "metadata": {},
     "output_type": "execute_result"
    }
   ],
   "source": [
    "# build up the expression from sub-expressions\n",
    "expr = Circuit(ExprArray(ExprRange(i, [ExprRange(j, MultiQubitGate(Aij, Sij), one, m)], one, q), [ExprRange(i, MultiQubitGate(IndexedVar(B, i), IndexedVar(S, i)), one, m)], ExprRange(i, [ExprRange(j, MultiQubitGate(Cij, Sij), one, m)], one, s)))"
   ]
  },
  {
   "cell_type": "code",
   "execution_count": 3,
   "metadata": {},
   "outputs": [
    {
     "name": "stdout",
     "output_type": "stream",
     "text": [
      "Passed sanity check: expr matches stored_expr\n"
     ]
    }
   ],
   "source": [
    "# check that the built expression is the same as the stored expression\n",
    "assert expr == stored_expr\n",
    "assert expr._style_id == stored_expr._style_id\n",
    "print(\"Passed sanity check: expr matches stored_expr\")"
   ]
  },
  {
   "cell_type": "code",
   "execution_count": 4,
   "metadata": {},
   "outputs": [
    {
     "name": "stdout",
     "output_type": "stream",
     "text": [
      "\\hspace{2em} \\Qcircuit@C=1em @R=.7em{\n",
      "& \\gate{A_{1, 1}{\\Big \\{} S_{1, 1}} \\qwx[1] & \\gate{\\cdots} \\qwx[1] & \\gate{A_{1, m}{\\Big \\{} S_{1, m}} \\qwx[1]   \\\\ \n",
      "  & \\gate{\\vdots} \\qwx[1] & \\gate{A_{i, j}{\\Big \\{} S_{i, j}} \\qwx[1] & \\gate{\\vdots} \\qwx[1]   \\\\ \n",
      "  & \\gate{A_{q, 1}{\\Big \\{} S_{q, 1}} \\qwx[1] & \\gate{\\cdots} \\qwx[1] & \\gate{A_{q, m}{\\Big \\{} S_{q, m}} \\qwx[1]   \\\\ \n",
      "  & \\gate{B_{1}{\\Big \\{} S_{1}} \\qwx[1] & \\gate{\\cdots} \\qwx[1] & \\gate{B_{m}{\\Big \\{} S_{m}} \\qwx[1]   \\\\ \n",
      "  & \\gate{C_{1, 1}{\\Big \\{} S_{1, 1}} \\qwx[1] & \\gate{\\cdots} \\qwx[1] & \\gate{C_{1, m}{\\Big \\{} S_{1, m}} \\qwx[1]   \\\\ \n",
      "  & \\gate{\\vdots} \\qwx[1] & \\gate{C_{i, j}{\\Big \\{} S_{i, j}} \\qwx[1] & \\gate{\\vdots} \\qwx[1]   \\\\ \n",
      "  & \\gate{C_{s, 1}{\\Big \\{} S_{s, 1}} & \\gate{\\cdots} & \\gate{C_{s, m}{\\Big \\{} S_{s, m}} \n",
      "} \\hspace{2em}\n"
     ]
    }
   ],
   "source": [
    "# Show the LaTeX representation of the expression for convenience if you need it.\n",
    "print(expr.latex())"
   ]
  },
  {
   "cell_type": "code",
   "execution_count": 5,
   "metadata": {},
   "outputs": [
    {
     "data": {
      "text/html": [
       "<table>\n",
       "<tr><th>name</th><th>description</th><th>default</th><th>current value</th><th>related methods</th></tr><tr><td>spacing</td><td>change the spacing of a circuit using the format '@C=1em @R=.7em' where C is the column spacing and R is the row spacing</td><td>@C=1em @R=.7em</td><td>@C=1em @R=.7em</td><td></td></tr>\n",
       "<tr><td>orientation</td><td>to be read from left to right then top to bottom ('horizontal') or to be read top to bottom then left to right ('vertical')</td><td>horizontal</td><td>horizontal</td><td>with_orientation</td></tr>\n",
       "</table>\n"
      ],
      "text/plain": [
       "style name: spacing\n",
       "description: change the spacing of a circuit using the format '@C=1em @R=.7em' where C is the column spacing and R is the row spacing\n",
       "default: @C=1em @R=.7em\n",
       "current value: @C=1em @R=.7em\n",
       "related methods: ()\n",
       "style name: orientation\n",
       "description: to be read from left to right then top to bottom ('horizontal') or to be read top to bottom then left to right ('vertical')\n",
       "default: horizontal\n",
       "current value: horizontal\n",
       "related methods: with_orientation"
      ]
     },
     "execution_count": 5,
     "metadata": {},
     "output_type": "execute_result"
    }
   ],
   "source": [
    "expr.style_options()"
   ]
  },
  {
   "cell_type": "code",
   "execution_count": 6,
   "metadata": {},
   "outputs": [
    {
     "data": {
      "text/html": [
       "<table><tr><th>&nbsp;</th><th>core type</th><th>sub-expressions</th><th>expression</th></tr>\n",
       "<tr><td>0</td><td>Operation</td><td>operator:&nbsp;1<br>operand:&nbsp;3<br></td><td><a class=\"ProveItLink\" href=\"expr.ipynb\"><img src=\"expr.png\" style=\"display:inline;vertical-align:middle;\" /></a></td></tr>\n",
       "<tr><td>1</td><td>Literal</td><td></td><td><a class=\"ProveItLink\" href=\"../../common/bfa5cfb2e03dde2ed2a79fcd50b6e0ef7e57c1b10/expr.ipynb\"><img src=\"../../common/bfa5cfb2e03dde2ed2a79fcd50b6e0ef7e57c1b10/expr.png\" style=\"display:inline;vertical-align:middle;\" /></a></td></tr>\n",
       "<tr><td>2</td><td>ExprTuple</td><td>3</td><td><a class=\"ProveItLink\" href=\"../2c1ea06bc64822994a988b4cfa5df108096a501e0/expr.ipynb\"><img src=\"../2c1ea06bc64822994a988b4cfa5df108096a501e0/expr.png\" style=\"display:inline;vertical-align:middle;\" /></a></td></tr>\n",
       "<tr><td>3</td><td>ExprTuple</td><td>4, 5, 6</td><td><a class=\"ProveItLink\" href=\"../022662efb93969369b1cb5f281a7dffe44a55f3d0/expr.ipynb\"><img src=\"../022662efb93969369b1cb5f281a7dffe44a55f3d0/expr.png\" style=\"display:inline;vertical-align:middle;\" /></a></td></tr>\n",
       "<tr><td>4</td><td>ExprRange</td><td>lambda_map:&nbsp;7<br>start_index:&nbsp;21<br>end_index:&nbsp;8<br></td><td><a class=\"ProveItLink\" href=\"../c09e33cb5f40576e3519fdacc2c2c1bbb0f46edd0/expr.ipynb\"><img src=\"../c09e33cb5f40576e3519fdacc2c2c1bbb0f46edd0/expr.png\" style=\"display:inline;vertical-align:middle;\" /></a></td></tr>\n",
       "<tr><td>5</td><td>ExprTuple</td><td>9</td><td><a class=\"ProveItLink\" href=\"../f8dc542253e07b8f4db2f2c3d41758eb686d14ea0/expr.ipynb\"><img src=\"../f8dc542253e07b8f4db2f2c3d41758eb686d14ea0/expr.png\" style=\"display:inline;vertical-align:middle;\" /></a></td></tr>\n",
       "<tr><td>6</td><td>ExprRange</td><td>lambda_map:&nbsp;10<br>start_index:&nbsp;21<br>end_index:&nbsp;11<br></td><td><a class=\"ProveItLink\" href=\"../a392324922f18831c615a48b454ae2ac6591b7cc0/expr.ipynb\"><img src=\"../a392324922f18831c615a48b454ae2ac6591b7cc0/expr.png\" style=\"display:inline;vertical-align:middle;\" /></a></td></tr>\n",
       "<tr><td>7</td><td>Lambda</td><td>parameter:&nbsp;39<br>body:&nbsp;12<br></td><td><a class=\"ProveItLink\" href=\"../55e265ee5ba7a097593409f8c558b0519adda1ca0/expr.ipynb\"><img src=\"../55e265ee5ba7a097593409f8c558b0519adda1ca0/expr.png\" style=\"display:inline;vertical-align:middle;\" /></a></td></tr>\n",
       "<tr><td>8</td><td>Variable</td><td></td><td><a class=\"ProveItLink\" href=\"../../../../../__pv_it/common/f2bd1b9e481507771e819bb7e823773346b8e1180/expr.ipynb\"><img src=\"../../../../../__pv_it/common/f2bd1b9e481507771e819bb7e823773346b8e1180/expr.png\" style=\"display:inline;vertical-align:middle;\" /></a></td></tr>\n",
       "<tr><td>9</td><td>ExprRange</td><td>lambda_map:&nbsp;13<br>start_index:&nbsp;21<br>end_index:&nbsp;22<br></td><td><a class=\"ProveItLink\" href=\"../b9bb7f95fa4f9e082ad4ca05c4a777396f42fbc90/expr.ipynb\"><img src=\"../b9bb7f95fa4f9e082ad4ca05c4a777396f42fbc90/expr.png\" style=\"display:inline;vertical-align:middle;\" /></a></td></tr>\n",
       "<tr><td>10</td><td>Lambda</td><td>parameter:&nbsp;39<br>body:&nbsp;14<br></td><td><a class=\"ProveItLink\" href=\"../c8933c05289d8391c802c9f5a0cd290e46f8beb00/expr.ipynb\"><img src=\"../c8933c05289d8391c802c9f5a0cd290e46f8beb00/expr.png\" style=\"display:inline;vertical-align:middle;\" /></a></td></tr>\n",
       "<tr><td>11</td><td>Variable</td><td></td><td><a class=\"ProveItLink\" href=\"../../../../../__pv_it/common/139acc5ad2408e62ab79deb85a9a93f78cd9f39a0/expr.ipynb\"><img src=\"../../../../../__pv_it/common/139acc5ad2408e62ab79deb85a9a93f78cd9f39a0/expr.png\" style=\"display:inline;vertical-align:middle;\" /></a></td></tr>\n",
       "<tr><td>12</td><td>ExprTuple</td><td>15</td><td><a class=\"ProveItLink\" href=\"../f4b90c765d12588a5eda4c581077ff66ec574f640/expr.ipynb\"><img src=\"../f4b90c765d12588a5eda4c581077ff66ec574f640/expr.png\" style=\"display:inline;vertical-align:middle;\" /></a></td></tr>\n",
       "<tr><td>13</td><td>Lambda</td><td>parameter:&nbsp;39<br>body:&nbsp;16<br></td><td><a class=\"ProveItLink\" href=\"../78076bc3779844852dca4385abfe2f5fdebd72a00/expr.ipynb\"><img src=\"../78076bc3779844852dca4385abfe2f5fdebd72a00/expr.png\" style=\"display:inline;vertical-align:middle;\" /></a></td></tr>\n",
       "<tr><td>14</td><td>ExprTuple</td><td>17</td><td><a class=\"ProveItLink\" href=\"../85a40a8b0ffcf8a4c5b5bb06a08674fd1cdd25a40/expr.ipynb\"><img src=\"../85a40a8b0ffcf8a4c5b5bb06a08674fd1cdd25a40/expr.png\" style=\"display:inline;vertical-align:middle;\" /></a></td></tr>\n",
       "<tr><td>15</td><td>ExprRange</td><td>lambda_map:&nbsp;18<br>start_index:&nbsp;21<br>end_index:&nbsp;22<br></td><td><a class=\"ProveItLink\" href=\"../3bebf192bb56b8f9612719f576c8b4c4d6c6ce5f0/expr.ipynb\"><img src=\"../3bebf192bb56b8f9612719f576c8b4c4d6c6ce5f0/expr.png\" style=\"display:inline;vertical-align:middle;\" /></a></td></tr>\n",
       "<tr><td>16</td><td>Operation</td><td>operator:&nbsp;30<br>operands:&nbsp;19<br></td><td><a class=\"ProveItLink\" href=\"../../theorems/60ff27d447296bb3def38c252e807d71f0eff25c0/expr.ipynb\"><img src=\"../../theorems/60ff27d447296bb3def38c252e807d71f0eff25c0/expr.png\" style=\"display:inline;vertical-align:middle;\" /></a></td></tr>\n",
       "<tr><td>17</td><td>ExprRange</td><td>lambda_map:&nbsp;20<br>start_index:&nbsp;21<br>end_index:&nbsp;22<br></td><td><a class=\"ProveItLink\" href=\"../991b00eae932daf21887113c02bc776d24ce30110/expr.ipynb\"><img src=\"../991b00eae932daf21887113c02bc776d24ce30110/expr.png\" style=\"display:inline;vertical-align:middle;\" /></a></td></tr>\n",
       "<tr><td>18</td><td>Lambda</td><td>parameter:&nbsp;40<br>body:&nbsp;23<br></td><td><a class=\"ProveItLink\" href=\"../fe496ad6fa466e0bf5adccd8807f4cebd287ffee0/expr.ipynb\"><img src=\"../fe496ad6fa466e0bf5adccd8807f4cebd287ffee0/expr.png\" style=\"display:inline;vertical-align:middle;\" /></a></td></tr>\n",
       "<tr><td>19</td><td>ExprTuple</td><td>24, 25</td><td><a class=\"ProveItLink\" href=\"../../theorems/48adaddb8132a0d440e24865e0de042ee564d9a00/expr.ipynb\"><img src=\"../../theorems/48adaddb8132a0d440e24865e0de042ee564d9a00/expr.png\" style=\"display:inline;vertical-align:middle;\" /></a></td></tr>\n",
       "<tr><td>20</td><td>Lambda</td><td>parameter:&nbsp;40<br>body:&nbsp;26<br></td><td><a class=\"ProveItLink\" href=\"../32fb5aabe3802d0635d38465f15cda037044081f0/expr.ipynb\"><img src=\"../32fb5aabe3802d0635d38465f15cda037044081f0/expr.png\" style=\"display:inline;vertical-align:middle;\" /></a></td></tr>\n",
       "<tr><td>21</td><td>Literal</td><td></td><td><a class=\"ProveItLink\" href=\"../../../../../numbers/numerals/__pv_it/common/d278e359da0695d9652dd541d45264f93703e2e40/expr.ipynb\"><img src=\"../../../../../numbers/numerals/__pv_it/common/d278e359da0695d9652dd541d45264f93703e2e40/expr.png\" style=\"display:inline;vertical-align:middle;\" /></a></td></tr>\n",
       "<tr><td>22</td><td>Variable</td><td></td><td><a class=\"ProveItLink\" href=\"../../../../../__pv_it/common/2dc4f15b3407a25e8d70754a86bf74f1871f92650/expr.ipynb\"><img src=\"../../../../../__pv_it/common/2dc4f15b3407a25e8d70754a86bf74f1871f92650/expr.png\" style=\"display:inline;vertical-align:middle;\" /></a></td></tr>\n",
       "<tr><td>23</td><td>Operation</td><td>operator:&nbsp;30<br>operands:&nbsp;27<br></td><td><a class=\"ProveItLink\" href=\"../453c4102dae56f6df73b871672c35a89b48a373e0/expr.ipynb\"><img src=\"../453c4102dae56f6df73b871672c35a89b48a373e0/expr.png\" style=\"display:inline;vertical-align:middle;\" /></a></td></tr>\n",
       "<tr><td>24</td><td>IndexedVar</td><td>variable:&nbsp;28<br>index:&nbsp;39<br></td><td><a class=\"ProveItLink\" href=\"../../theorems/146a063dd1fc4d019c860952a873954c89c38a120/expr.ipynb\"><img src=\"../../theorems/146a063dd1fc4d019c860952a873954c89c38a120/expr.png\" style=\"display:inline;vertical-align:middle;\" /></a></td></tr>\n",
       "<tr><td>25</td><td>IndexedVar</td><td>variable:&nbsp;37<br>index:&nbsp;39<br></td><td><a class=\"ProveItLink\" href=\"../../theorems/0b829270f9d9f6fa6e68939ad39349c952af01040/expr.ipynb\"><img src=\"../../theorems/0b829270f9d9f6fa6e68939ad39349c952af01040/expr.png\" style=\"display:inline;vertical-align:middle;\" /></a></td></tr>\n",
       "<tr><td>26</td><td>Operation</td><td>operator:&nbsp;30<br>operands:&nbsp;31<br></td><td><a class=\"ProveItLink\" href=\"../d71e1f1a6daa4ac64008be09a3e4fef0eeb3deda0/expr.ipynb\"><img src=\"../d71e1f1a6daa4ac64008be09a3e4fef0eeb3deda0/expr.png\" style=\"display:inline;vertical-align:middle;\" /></a></td></tr>\n",
       "<tr><td>27</td><td>ExprTuple</td><td>32, 34</td><td><a class=\"ProveItLink\" href=\"../a615be150040c4b375eae503bb8c491741eae6980/expr.ipynb\"><img src=\"../a615be150040c4b375eae503bb8c491741eae6980/expr.png\" style=\"display:inline;vertical-align:middle;\" /></a></td></tr>\n",
       "<tr><td>28</td><td>Variable</td><td></td><td><a class=\"ProveItLink\" href=\"../../../../../__pv_it/common/4eca3b30dcf58a58494e201d1b7886d8643a617b0/expr.ipynb\"><img src=\"../../../../../__pv_it/common/4eca3b30dcf58a58494e201d1b7886d8643a617b0/expr.png\" style=\"display:inline;vertical-align:middle;\" /></a></td></tr>\n",
       "<tr><td>29</td><td>ExprTuple</td><td>39</td><td><a class=\"ProveItLink\" href=\"../../theorems/6420c4d2520c27c1137ad22005291620057456040/expr.ipynb\"><img src=\"../../theorems/6420c4d2520c27c1137ad22005291620057456040/expr.png\" style=\"display:inline;vertical-align:middle;\" /></a></td></tr>\n",
       "<tr><td>30</td><td>Literal</td><td></td><td><a class=\"ProveItLink\" href=\"../../common/38deceb0a69e80c36399d725649803706802a2a90/expr.ipynb\"><img src=\"../../common/38deceb0a69e80c36399d725649803706802a2a90/expr.png\" style=\"display:inline;vertical-align:middle;\" /></a></td></tr>\n",
       "<tr><td>31</td><td>ExprTuple</td><td>33, 34</td><td><a class=\"ProveItLink\" href=\"../c090a89821c57cb7b76178be4deadf2f7931994a0/expr.ipynb\"><img src=\"../c090a89821c57cb7b76178be4deadf2f7931994a0/expr.png\" style=\"display:inline;vertical-align:middle;\" /></a></td></tr>\n",
       "<tr><td>32</td><td>IndexedVar</td><td>variable:&nbsp;35<br>indices:&nbsp;38<br></td><td><a class=\"ProveItLink\" href=\"../../../../../core_expr_types/expr_arrays/__pv_it/common/2db546578cd7f487d81f6e5492015be24135205c0/expr.ipynb\"><img src=\"../../../../../core_expr_types/expr_arrays/__pv_it/common/2db546578cd7f487d81f6e5492015be24135205c0/expr.png\" style=\"display:inline;vertical-align:middle;\" /></a></td></tr>\n",
       "<tr><td>33</td><td>IndexedVar</td><td>variable:&nbsp;36<br>indices:&nbsp;38<br></td><td><a class=\"ProveItLink\" href=\"../../../../../core_expr_types/expr_arrays/__pv_it/common/cfc3f031aff613b33998523b9e88a4b21bb7543a0/expr.ipynb\"><img src=\"../../../../../core_expr_types/expr_arrays/__pv_it/common/cfc3f031aff613b33998523b9e88a4b21bb7543a0/expr.png\" style=\"display:inline;vertical-align:middle;\" /></a></td></tr>\n",
       "<tr><td>34</td><td>IndexedVar</td><td>variable:&nbsp;37<br>indices:&nbsp;38<br></td><td><a class=\"ProveItLink\" href=\"../../../../../core_expr_types/expr_arrays/__pv_it/common/29b2a42564e2bd68f988108464c87826d4366e390/expr.ipynb\"><img src=\"../../../../../core_expr_types/expr_arrays/__pv_it/common/29b2a42564e2bd68f988108464c87826d4366e390/expr.png\" style=\"display:inline;vertical-align:middle;\" /></a></td></tr>\n",
       "<tr><td>35</td><td>Variable</td><td></td><td><a class=\"ProveItLink\" href=\"../../../../../__pv_it/common/e4aad701f7f5516d8e7f0d805d518bf02c13322a0/expr.ipynb\"><img src=\"../../../../../__pv_it/common/e4aad701f7f5516d8e7f0d805d518bf02c13322a0/expr.png\" style=\"display:inline;vertical-align:middle;\" /></a></td></tr>\n",
       "<tr><td>36</td><td>Variable</td><td></td><td><a class=\"ProveItLink\" href=\"../../../../../__pv_it/common/c4a83a53f0ed6678b0c7a2d6d691a4b400f735c90/expr.ipynb\"><img src=\"../../../../../__pv_it/common/c4a83a53f0ed6678b0c7a2d6d691a4b400f735c90/expr.png\" style=\"display:inline;vertical-align:middle;\" /></a></td></tr>\n",
       "<tr><td>37</td><td>Variable</td><td></td><td><a class=\"ProveItLink\" href=\"../../../../../__pv_it/common/259d0846cd49c4882c35ec84d7a0b180713721cc0/expr.ipynb\"><img src=\"../../../../../__pv_it/common/259d0846cd49c4882c35ec84d7a0b180713721cc0/expr.png\" style=\"display:inline;vertical-align:middle;\" /></a></td></tr>\n",
       "<tr><td>38</td><td>ExprTuple</td><td>39, 40</td><td><a class=\"ProveItLink\" href=\"../../../../../core_expr_types/expr_arrays/__pv_it/common/8cc0879db459b7e49bd46852f9da16970a0f1f110/expr.ipynb\"><img src=\"../../../../../core_expr_types/expr_arrays/__pv_it/common/8cc0879db459b7e49bd46852f9da16970a0f1f110/expr.png\" style=\"display:inline;vertical-align:middle;\" /></a></td></tr>\n",
       "<tr><td>39</td><td>Variable</td><td></td><td><a class=\"ProveItLink\" href=\"../../../../../__pv_it/common/575a6156bb1c87c5beeaf38c302b5905ad57f5780/expr.ipynb\"><img src=\"../../../../../__pv_it/common/575a6156bb1c87c5beeaf38c302b5905ad57f5780/expr.png\" style=\"display:inline;vertical-align:middle;\" /></a></td></tr>\n",
       "<tr><td>40</td><td>Variable</td><td></td><td><a class=\"ProveItLink\" href=\"../../../../../__pv_it/common/5514cc9a63b9c2ed9b63934dd5e088ab0d4f10080/expr.ipynb\"><img src=\"../../../../../__pv_it/common/5514cc9a63b9c2ed9b63934dd5e088ab0d4f10080/expr.png\" style=\"display:inline;vertical-align:middle;\" /></a></td></tr>\n",
       "</table>\n"
      ],
      "text/plain": [
       "0.  MultiQubitGate(A_{1, 1}, S_{1, 1})  & ..MultiQubitGate(A_{1, j}, S_{1, j})..  & MultiQubitGate(A_{1, m}, S_{1, m})   \\\\ \n",
       "   \\colon  & \\colon  & \\colon   \\\\ \n",
       "   MultiQubitGate(A_{i, 1}, S_{i, 1})  & ..MultiQubitGate(A_{i, j}, S_{i, j})..  & MultiQubitGate(A_{i, m}, S_{i, m})   \\\\ \n",
       "   \\colon  & \\colon  & \\colon   \\\\ \n",
       "   MultiQubitGate(A_{q, 1}, S_{q, 1})  & ..MultiQubitGate(A_{q, j}, S_{q, j})..  & MultiQubitGate(A_{q, m}, S_{q, m})   \\\\ \n",
       "   MultiQubitGate(B_{1}, S_{1})  & ..MultiQubitGate(B_{i}, S_{i})..  & MultiQubitGate(B_{m}, S_{m})   \\\\ \n",
       "   MultiQubitGate(C_{1, 1}, S_{1, 1})  & ..MultiQubitGate(C_{1, j}, S_{1, j})..  & MultiQubitGate(C_{1, m}, S_{1, m})   \\\\ \n",
       "   \\colon  & \\colon  & \\colon   \\\\ \n",
       "   MultiQubitGate(C_{i, 1}, S_{i, 1})  & ..MultiQubitGate(C_{i, j}, S_{i, j})..  & MultiQubitGate(C_{i, m}, S_{i, m})   \\\\ \n",
       "   \\colon  & \\colon  & \\colon   \\\\ \n",
       "   MultiQubitGate(C_{s, 1}, S_{s, 1})  & ..MultiQubitGate(C_{s, j}, S_{s, j})..  & MultiQubitGate(C_{s, m}, S_{s, m})\n",
       "   core type: Operation\n",
       "   operator: 1\n",
       "   operand: 3\n",
       "1. CIRCUIT\n",
       "   core type: Literal\n",
       "   sub-expressions: \n",
       "2. ((MultiQubitGate(A_{1, 1}, S_{1, 1}) & ..MultiQubitGate(A_{1, j}, S_{1, j}).. & MultiQubitGate(A_{1, m}, S_{1, m})  \\\\ \n",
       "  \\colon & \\colon & \\colon  \\\\ \n",
       "  MultiQubitGate(A_{i, 1}, S_{i, 1}) & ..MultiQubitGate(A_{i, j}, S_{i, j}).. & MultiQubitGate(A_{i, m}, S_{i, m})  \\\\ \n",
       "  \\colon & \\colon & \\colon  \\\\ \n",
       "  MultiQubitGate(A_{q, 1}, S_{q, 1}) & ..MultiQubitGate(A_{q, j}, S_{q, j}).. & MultiQubitGate(A_{q, m}, S_{q, m})  \\\\ \n",
       "  MultiQubitGate(B_{1}, S_{1}) & ..MultiQubitGate(B_{i}, S_{i}).. & MultiQubitGate(B_{m}, S_{m})  \\\\ \n",
       "  MultiQubitGate(C_{1, 1}, S_{1, 1}) & ..MultiQubitGate(C_{1, j}, S_{1, j}).. & MultiQubitGate(C_{1, m}, S_{1, m})  \\\\ \n",
       "  \\colon & \\colon & \\colon  \\\\ \n",
       "  MultiQubitGate(C_{i, 1}, S_{i, 1}) & ..MultiQubitGate(C_{i, j}, S_{i, j}).. & MultiQubitGate(C_{i, m}, S_{i, m})  \\\\ \n",
       "  \\colon & \\colon & \\colon  \\\\ \n",
       "  MultiQubitGate(C_{s, 1}, S_{s, 1}) & ..MultiQubitGate(C_{s, j}, S_{s, j}).. & MultiQubitGate(C_{s, m}, S_{s, m})))\n",
       "   core type: ExprTuple\n",
       "   sub-expressions: 3\n",
       "3. MultiQubitGate(A_{1, 1}, S_{1, 1}) & ..MultiQubitGate(A_{1, j}, S_{1, j}).. & MultiQubitGate(A_{1, m}, S_{1, m})  \\\\ \n",
       "  \\colon & \\colon & \\colon  \\\\ \n",
       "  MultiQubitGate(A_{i, 1}, S_{i, 1}) & ..MultiQubitGate(A_{i, j}, S_{i, j}).. & MultiQubitGate(A_{i, m}, S_{i, m})  \\\\ \n",
       "  \\colon & \\colon & \\colon  \\\\ \n",
       "  MultiQubitGate(A_{q, 1}, S_{q, 1}) & ..MultiQubitGate(A_{q, j}, S_{q, j}).. & MultiQubitGate(A_{q, m}, S_{q, m})  \\\\ \n",
       "  MultiQubitGate(B_{1}, S_{1}) & ..MultiQubitGate(B_{i}, S_{i}).. & MultiQubitGate(B_{m}, S_{m})  \\\\ \n",
       "  MultiQubitGate(C_{1, 1}, S_{1, 1}) & ..MultiQubitGate(C_{1, j}, S_{1, j}).. & MultiQubitGate(C_{1, m}, S_{1, m})  \\\\ \n",
       "  \\colon & \\colon & \\colon  \\\\ \n",
       "  MultiQubitGate(C_{i, 1}, S_{i, 1}) & ..MultiQubitGate(C_{i, j}, S_{i, j}).. & MultiQubitGate(C_{i, m}, S_{i, m})  \\\\ \n",
       "  \\colon & \\colon & \\colon  \\\\ \n",
       "  MultiQubitGate(C_{s, 1}, S_{s, 1}) & ..MultiQubitGate(C_{s, j}, S_{s, j}).. & MultiQubitGate(C_{s, m}, S_{s, m})\n",
       "   core type: ExprTuple\n",
       "   sub-expressions: 4, 5, 6\n",
       "4. (MultiQubitGate(A_{1, 1}, S_{1, 1}), ..MultiQubitGate(A_{1, j}, S_{1, j}).., MultiQubitGate(A_{1, m}, S_{1, m})), ..(MultiQubitGate(A_{i, 1}, S_{i, 1}), ..MultiQubitGate(A_{i, j}, S_{i, j}).., MultiQubitGate(A_{i, m}, S_{i, m})).., (MultiQubitGate(A_{q, 1}, S_{q, 1}), ..MultiQubitGate(A_{q, j}, S_{q, j}).., MultiQubitGate(A_{q, m}, S_{q, m}))\n",
       "   core type: ExprRange\n",
       "   lambda_map: 7\n",
       "   start_index: 21\n",
       "   end_index: 8\n",
       "5. (MultiQubitGate(B_{1}, S_{1}), ..MultiQubitGate(B_{i}, S_{i}).., MultiQubitGate(B_{m}, S_{m}))\n",
       "   core type: ExprTuple\n",
       "   sub-expressions: 9\n",
       "6. (MultiQubitGate(C_{1, 1}, S_{1, 1}), ..MultiQubitGate(C_{1, j}, S_{1, j}).., MultiQubitGate(C_{1, m}, S_{1, m})), ..(MultiQubitGate(C_{i, 1}, S_{i, 1}), ..MultiQubitGate(C_{i, j}, S_{i, j}).., MultiQubitGate(C_{i, m}, S_{i, m})).., (MultiQubitGate(C_{s, 1}, S_{s, 1}), ..MultiQubitGate(C_{s, j}, S_{s, j}).., MultiQubitGate(C_{s, m}, S_{s, m}))\n",
       "   core type: ExprRange\n",
       "   lambda_map: 10\n",
       "   start_index: 21\n",
       "   end_index: 11\n",
       "7. i -> (MultiQubitGate(A_{i, 1}, S_{i, 1}), ..MultiQubitGate(A_{i, j}, S_{i, j}).., MultiQubitGate(A_{i, m}, S_{i, m}))\n",
       "   core type: Lambda\n",
       "   parameter: 39\n",
       "   body: 12\n",
       "8. q\n",
       "   core type: Variable\n",
       "   sub-expressions: \n",
       "9. MultiQubitGate(B_{1}, S_{1}), ..MultiQubitGate(B_{i}, S_{i}).., MultiQubitGate(B_{m}, S_{m})\n",
       "   core type: ExprRange\n",
       "   lambda_map: 13\n",
       "   start_index: 21\n",
       "   end_index: 22\n",
       "10. i -> (MultiQubitGate(C_{i, 1}, S_{i, 1}), ..MultiQubitGate(C_{i, j}, S_{i, j}).., MultiQubitGate(C_{i, m}, S_{i, m}))\n",
       "    core type: Lambda\n",
       "    parameter: 39\n",
       "    body: 14\n",
       "11. s\n",
       "    core type: Variable\n",
       "    sub-expressions: \n",
       "12. (MultiQubitGate(A_{i, 1}, S_{i, 1}), ..MultiQubitGate(A_{i, j}, S_{i, j}).., MultiQubitGate(A_{i, m}, S_{i, m}))\n",
       "    core type: ExprTuple\n",
       "    sub-expressions: 15\n",
       "13. i -> MultiQubitGate(B_{i}, S_{i})\n",
       "    core type: Lambda\n",
       "    parameter: 39\n",
       "    body: 16\n",
       "14. (MultiQubitGate(C_{i, 1}, S_{i, 1}), ..MultiQubitGate(C_{i, j}, S_{i, j}).., MultiQubitGate(C_{i, m}, S_{i, m}))\n",
       "    core type: ExprTuple\n",
       "    sub-expressions: 17\n",
       "15. MultiQubitGate(A_{i, 1}, S_{i, 1}), ..MultiQubitGate(A_{i, j}, S_{i, j}).., MultiQubitGate(A_{i, m}, S_{i, m})\n",
       "    core type: ExprRange\n",
       "    lambda_map: 18\n",
       "    start_index: 21\n",
       "    end_index: 22\n",
       "16. MultiQubitGate(B_{i}, S_{i})\n",
       "    core type: Operation\n",
       "    operator: 30\n",
       "    operands: 19\n",
       "17. MultiQubitGate(C_{i, 1}, S_{i, 1}), ..MultiQubitGate(C_{i, j}, S_{i, j}).., MultiQubitGate(C_{i, m}, S_{i, m})\n",
       "    core type: ExprRange\n",
       "    lambda_map: 20\n",
       "    start_index: 21\n",
       "    end_index: 22\n",
       "18. j -> MultiQubitGate(A_{i, j}, S_{i, j})\n",
       "    core type: Lambda\n",
       "    parameter: 40\n",
       "    body: 23\n",
       "19. (B_{i}, S_{i})\n",
       "    core type: ExprTuple\n",
       "    sub-expressions: 24, 25\n",
       "20. j -> MultiQubitGate(C_{i, j}, S_{i, j})\n",
       "    core type: Lambda\n",
       "    parameter: 40\n",
       "    body: 26\n",
       "21. 1\n",
       "    core type: Literal\n",
       "    sub-expressions: \n",
       "22. m\n",
       "    core type: Variable\n",
       "    sub-expressions: \n",
       "23. MultiQubitGate(A_{i, j}, S_{i, j})\n",
       "    core type: Operation\n",
       "    operator: 30\n",
       "    operands: 27\n",
       "24. B_{i}\n",
       "    core type: IndexedVar\n",
       "variable: 28\n",
       "index: 39\n",
       "25. S_{i}\n",
       "    core type: IndexedVar\n",
       "variable: 37\n",
       "index: 39\n",
       "26. MultiQubitGate(C_{i, j}, S_{i, j})\n",
       "    core type: Operation\n",
       "    operator: 30\n",
       "    operands: 31\n",
       "27. (A_{i, j}, S_{i, j})\n",
       "    core type: ExprTuple\n",
       "    sub-expressions: 32, 34\n",
       "28. B\n",
       "    core type: Variable\n",
       "    sub-expressions: \n",
       "29. (i)\n",
       "    core type: ExprTuple\n",
       "    sub-expressions: 39\n",
       "30. MULTI_QUBIT_GATE\n",
       "    core type: Literal\n",
       "    sub-expressions: \n",
       "31. (C_{i, j}, S_{i, j})\n",
       "    core type: ExprTuple\n",
       "    sub-expressions: 33, 34\n",
       "32. A_{i, j}\n",
       "    core type: IndexedVar\n",
       "variable: 35\n",
       "indices: 38\n",
       "33. C_{i, j}\n",
       "    core type: IndexedVar\n",
       "variable: 36\n",
       "indices: 38\n",
       "34. S_{i, j}\n",
       "    core type: IndexedVar\n",
       "variable: 37\n",
       "indices: 38\n",
       "35. A\n",
       "    core type: Variable\n",
       "    sub-expressions: \n",
       "36. C\n",
       "    core type: Variable\n",
       "    sub-expressions: \n",
       "37. S\n",
       "    core type: Variable\n",
       "    sub-expressions: \n",
       "38. (i, j)\n",
       "    core type: ExprTuple\n",
       "    sub-expressions: 39, 40\n",
       "39. i\n",
       "    core type: Variable\n",
       "    sub-expressions: \n",
       "40. j\n",
       "    core type: Variable\n",
       "    sub-expressions: "
      ]
     },
     "execution_count": 6,
     "metadata": {},
     "output_type": "execute_result"
    }
   ],
   "source": [
    "# display the expression information\n",
    "expr.expr_info()"
   ]
  },
  {
   "cell_type": "code",
   "execution_count": null,
   "metadata": {},
   "outputs": [],
   "source": []
  }
 ],
 "metadata": {
  "kernelspec": {
   "display_name": "Python 3",
   "language": "python",
   "name": "python3"
  }
 },
 "nbformat": 4,
 "nbformat_minor": 0
}