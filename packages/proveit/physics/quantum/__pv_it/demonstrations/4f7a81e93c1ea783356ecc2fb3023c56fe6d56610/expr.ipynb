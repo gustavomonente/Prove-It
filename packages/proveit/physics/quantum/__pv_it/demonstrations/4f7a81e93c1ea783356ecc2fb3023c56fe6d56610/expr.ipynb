{
 "cells": [
  {
   "cell_type": "markdown",
   "metadata": {},
   "source": [
    "Expression of type <a class=\"ProveItLink\" href=\"../../../../../../../doc/html/api/proveit.physics.quantum.circuit.Circuit.html\">Circuit</a>\n",
    "=======================\n",
    "# from the theory of <a class=\"ProveItLink\" href=\"../../../_theory_nbs_/theory.ipynb\">proveit.physics.quantum</a>"
   ]
  },
  {
   "cell_type": "code",
   "execution_count": 1,
   "metadata": {},
   "outputs": [],
   "source": [
    "import proveit\n",
    "# Automation is not needed when building an expression:\n",
    "proveit.defaults.automation = False # This will speed things up.\n",
    "proveit.defaults.inline_pngs = False # Makes files smaller.\n",
    "%load_expr # Load the stored expression as 'stored_expr'\n",
    "# import Expression classes needed to build the expression\n",
    "from proveit import ExprArray\n",
    "from proveit.logic import Set\n",
    "from proveit.numbers import Neg, four, one, three, two\n",
    "from proveit.physics.quantum import CONTROL, Input, Output, Z, ket0, ket1\n",
    "from proveit.physics.quantum.circuit import Circuit, MultiQubitGate"
   ]
  },
  {
   "cell_type": "code",
   "execution_count": 2,
   "metadata": {},
   "outputs": [
    {
     "data": {
      "text/html": [
       "<strong id=\"expr\">expr:</strong> <a class=\"ProveItLink\" href=\"expr.ipynb\"><img src=\"expr.png\" style=\"display:inline;vertical-align:middle;\" /></a><br>"
      ],
      "text/plain": [
       "expr:  Input(|1〉)  & MultiQubitGate(CONTROL, {1, 2})  & Output(|1〉)   \\\\ \n",
       "   Input(|0〉)  & MultiQubitGate(Z, {1, 2})  & Output(|0〉)   \\\\ \n",
       "   Input(|1〉)  & MultiQubitGate(CONTROL, {3, 4})  & Output(|1〉)   \\\\ \n",
       "   Input(|1〉)  & MultiQubitGate(Z, {3, 4})  & Output(-|1〉)"
      ]
     },
     "execution_count": 2,
     "metadata": {},
     "output_type": "execute_result"
    }
   ],
   "source": [
    "# build up the expression from sub-expressions\n",
    "sub_expr1 = Set(one, two)\n",
    "sub_expr2 = Set(three, four)\n",
    "sub_expr3 = Input(ket1)\n",
    "sub_expr4 = Output(ket1)\n",
    "expr = Circuit(ExprArray([sub_expr3, MultiQubitGate(CONTROL, sub_expr1), sub_expr4], [Input(ket0), MultiQubitGate(Z, sub_expr1), Output(ket0)], [sub_expr3, MultiQubitGate(CONTROL, sub_expr2), sub_expr4], [sub_expr3, MultiQubitGate(Z, sub_expr2), Output(Neg(ket1))]))"
   ]
  },
  {
   "cell_type": "code",
   "execution_count": 3,
   "metadata": {},
   "outputs": [
    {
     "name": "stdout",
     "output_type": "stream",
     "text": [
      "Passed sanity check: expr matches stored_expr\n"
     ]
    }
   ],
   "source": [
    "# check that the built expression is the same as the stored expression\n",
    "assert expr == stored_expr\n",
    "assert expr._style_id == stored_expr._style_id\n",
    "print(\"Passed sanity check: expr matches stored_expr\")"
   ]
  },
  {
   "cell_type": "code",
   "execution_count": 4,
   "metadata": {},
   "outputs": [
    {
     "name": "stdout",
     "output_type": "stream",
     "text": [
      "\\hspace{2em} \\Qcircuit@C=1em @R=.7em{\n",
      "& \\lstick{\\lvert 1 \\rangle} & \\control \\qw \\qwx[1] & \\rstick{\\lvert 1 \\rangle} \\qw   \\\\ \n",
      "  & \\lstick{\\lvert 0 \\rangle} & \\gate{Z} & \\rstick{\\lvert 0 \\rangle} \\qw   \\\\ \n",
      "  & \\lstick{\\lvert 1 \\rangle} & \\control \\qw \\qwx[1] & \\rstick{\\lvert 1 \\rangle} \\qw   \\\\ \n",
      "  & \\lstick{\\lvert 1 \\rangle} & \\gate{Z} & \\rstick{-\\lvert 1 \\rangle} \\qw \n",
      "} \\hspace{2em}\n"
     ]
    }
   ],
   "source": [
    "# Show the LaTeX representation of the expression for convenience if you need it.\n",
    "print(expr.latex())"
   ]
  },
  {
   "cell_type": "code",
   "execution_count": 5,
   "metadata": {},
   "outputs": [
    {
     "data": {
      "text/html": [
       "<table>\n",
       "<tr><th>name</th><th>description</th><th>default</th><th>current value</th><th>related methods</th></tr><tr><td>spacing</td><td>change the spacing of a circuit using the format '@C=1em @R=.7em' where C is the column spacing and R is the row spacing</td><td>@C=1em @R=.7em</td><td>@C=1em @R=.7em</td><td></td></tr>\n",
       "<tr><td>orientation</td><td>to be read from left to right then top to bottom ('horizontal') or to be read top to bottom then left to right ('vertical')</td><td>horizontal</td><td>horizontal</td><td>with_orientation</td></tr>\n",
       "</table>\n"
      ],
      "text/plain": [
       "style name: spacing\n",
       "description: change the spacing of a circuit using the format '@C=1em @R=.7em' where C is the column spacing and R is the row spacing\n",
       "default: @C=1em @R=.7em\n",
       "current value: @C=1em @R=.7em\n",
       "related methods: ()\n",
       "style name: orientation\n",
       "description: to be read from left to right then top to bottom ('horizontal') or to be read top to bottom then left to right ('vertical')\n",
       "default: horizontal\n",
       "current value: horizontal\n",
       "related methods: with_orientation"
      ]
     },
     "execution_count": 5,
     "metadata": {},
     "output_type": "execute_result"
    }
   ],
   "source": [
    "expr.style_options()"
   ]
  },
  {
   "cell_type": "code",
   "execution_count": 6,
   "metadata": {},
   "outputs": [
    {
     "data": {
      "text/html": [
       "<table><tr><th>&nbsp;</th><th>core type</th><th>sub-expressions</th><th>expression</th></tr>\n",
       "<tr><td>0</td><td>Operation</td><td>operator:&nbsp;1<br>operand:&nbsp;3<br></td><td><a class=\"ProveItLink\" href=\"expr.ipynb\"><img src=\"expr.png\" style=\"display:inline;vertical-align:middle;\" /></a></td></tr>\n",
       "<tr><td>1</td><td>Literal</td><td></td><td><a class=\"ProveItLink\" href=\"../../common/bfa5cfb2e03dde2ed2a79fcd50b6e0ef7e57c1b10/expr.ipynb\"><img src=\"../../common/bfa5cfb2e03dde2ed2a79fcd50b6e0ef7e57c1b10/expr.png\" style=\"display:inline;vertical-align:middle;\" /></a></td></tr>\n",
       "<tr><td>2</td><td>ExprTuple</td><td>3</td><td><a class=\"ProveItLink\" href=\"../293ed1cbd6d4886dbf83a6dff8287d04c932482e0/expr.ipynb\"><img src=\"../293ed1cbd6d4886dbf83a6dff8287d04c932482e0/expr.png\" style=\"display:inline;vertical-align:middle;\" /></a></td></tr>\n",
       "<tr><td>3</td><td>ExprTuple</td><td>4, 5, 6, 7</td><td><a class=\"ProveItLink\" href=\"../b67fbec640de2fd68c649445dc84b9df0e69097a0/expr.ipynb\"><img src=\"../b67fbec640de2fd68c649445dc84b9df0e69097a0/expr.png\" style=\"display:inline;vertical-align:middle;\" /></a></td></tr>\n",
       "<tr><td>4</td><td>ExprTuple</td><td>14, 8, 13</td><td><a class=\"ProveItLink\" href=\"../f769332b796049bdbefa6d19ac803e58836eb6710/expr.ipynb\"><img src=\"../f769332b796049bdbefa6d19ac803e58836eb6710/expr.png\" style=\"display:inline;vertical-align:middle;\" /></a></td></tr>\n",
       "<tr><td>5</td><td>ExprTuple</td><td>9, 10, 11</td><td><a class=\"ProveItLink\" href=\"../434d44819d7d5e7f97e40e787917f2a25957e7ec0/expr.ipynb\"><img src=\"../434d44819d7d5e7f97e40e787917f2a25957e7ec0/expr.png\" style=\"display:inline;vertical-align:middle;\" /></a></td></tr>\n",
       "<tr><td>6</td><td>ExprTuple</td><td>14, 12, 13</td><td><a class=\"ProveItLink\" href=\"../ab709bb393f914f59dc0a033331bba294eaa70a20/expr.ipynb\"><img src=\"../ab709bb393f914f59dc0a033331bba294eaa70a20/expr.png\" style=\"display:inline;vertical-align:middle;\" /></a></td></tr>\n",
       "<tr><td>7</td><td>ExprTuple</td><td>14, 15, 16</td><td><a class=\"ProveItLink\" href=\"../832500ac28ec0b14f99043a9c2be56c9025f36f30/expr.ipynb\"><img src=\"../832500ac28ec0b14f99043a9c2be56c9025f36f30/expr.png\" style=\"display:inline;vertical-align:middle;\" /></a></td></tr>\n",
       "<tr><td>8</td><td>Operation</td><td>operator:&nbsp;22<br>operands:&nbsp;17<br></td><td><a class=\"ProveItLink\" href=\"../37bc1b4ee6b0ad61db7402d5f5d887594b1901d60/expr.ipynb\"><img src=\"../37bc1b4ee6b0ad61db7402d5f5d887594b1901d60/expr.png\" style=\"display:inline;vertical-align:middle;\" /></a></td></tr>\n",
       "<tr><td>9</td><td>Operation</td><td>operator:&nbsp;21<br>operand:&nbsp;27<br></td><td><a class=\"ProveItLink\" href=\"../271a5a18fe9fbd66bf7cebe896a864929c82c90a0/expr.ipynb\"><img src=\"../271a5a18fe9fbd66bf7cebe896a864929c82c90a0/expr.png\" style=\"display:inline;vertical-align:middle;\" /></a></td></tr>\n",
       "<tr><td>10</td><td>Operation</td><td>operator:&nbsp;22<br>operands:&nbsp;18<br></td><td><a class=\"ProveItLink\" href=\"../cb837516b2dd801ab3837c6891cbc01f4f1dabd10/expr.ipynb\"><img src=\"../cb837516b2dd801ab3837c6891cbc01f4f1dabd10/expr.png\" style=\"display:inline;vertical-align:middle;\" /></a></td></tr>\n",
       "<tr><td>11</td><td>Operation</td><td>operator:&nbsp;24<br>operand:&nbsp;27<br></td><td><a class=\"ProveItLink\" href=\"../00a4d237e323b639861f7961a6dc660830f20e420/expr.ipynb\"><img src=\"../00a4d237e323b639861f7961a6dc660830f20e420/expr.png\" style=\"display:inline;vertical-align:middle;\" /></a></td></tr>\n",
       "<tr><td>12</td><td>Operation</td><td>operator:&nbsp;22<br>operands:&nbsp;20<br></td><td><a class=\"ProveItLink\" href=\"../1f00de320c38380cfd1a35292f827a66a110b7a60/expr.ipynb\"><img src=\"../1f00de320c38380cfd1a35292f827a66a110b7a60/expr.png\" style=\"display:inline;vertical-align:middle;\" /></a></td></tr>\n",
       "<tr><td>13</td><td>Operation</td><td>operator:&nbsp;24<br>operand:&nbsp;42<br></td><td><a class=\"ProveItLink\" href=\"../bf67f9f2a16b18f77fee1b4b30465374ab124c1e0/expr.ipynb\"><img src=\"../bf67f9f2a16b18f77fee1b4b30465374ab124c1e0/expr.png\" style=\"display:inline;vertical-align:middle;\" /></a></td></tr>\n",
       "<tr><td>14</td><td>Operation</td><td>operator:&nbsp;21<br>operand:&nbsp;42<br></td><td><a class=\"ProveItLink\" href=\"../4122cc3d8a9e5b277b47d5e2616202b12aa223c70/expr.ipynb\"><img src=\"../4122cc3d8a9e5b277b47d5e2616202b12aa223c70/expr.png\" style=\"display:inline;vertical-align:middle;\" /></a></td></tr>\n",
       "<tr><td>15</td><td>Operation</td><td>operator:&nbsp;22<br>operands:&nbsp;23<br></td><td><a class=\"ProveItLink\" href=\"../d078ed5b4cd09f46165412ae28a347efa37c05c50/expr.ipynb\"><img src=\"../d078ed5b4cd09f46165412ae28a347efa37c05c50/expr.png\" style=\"display:inline;vertical-align:middle;\" /></a></td></tr>\n",
       "<tr><td>16</td><td>Operation</td><td>operator:&nbsp;24<br>operand:&nbsp;31<br></td><td><a class=\"ProveItLink\" href=\"../11fb34efc3cceaa3639eaa8b9a34bf08d954b5e10/expr.ipynb\"><img src=\"../11fb34efc3cceaa3639eaa8b9a34bf08d954b5e10/expr.png\" style=\"display:inline;vertical-align:middle;\" /></a></td></tr>\n",
       "<tr><td>17</td><td>ExprTuple</td><td>28, 26</td><td><a class=\"ProveItLink\" href=\"../c9f0179d12bca7a5e95c8388779f275d595765770/expr.ipynb\"><img src=\"../c9f0179d12bca7a5e95c8388779f275d595765770/expr.png\" style=\"display:inline;vertical-align:middle;\" /></a></td></tr>\n",
       "<tr><td>18</td><td>ExprTuple</td><td>29, 26</td><td><a class=\"ProveItLink\" href=\"../9c54f9c1414714f02c46b017ac48bccc687f38320/expr.ipynb\"><img src=\"../9c54f9c1414714f02c46b017ac48bccc687f38320/expr.png\" style=\"display:inline;vertical-align:middle;\" /></a></td></tr>\n",
       "<tr><td>19</td><td>ExprTuple</td><td>27</td><td><a class=\"ProveItLink\" href=\"../2e08f8b9cff939b748ed0fc8eeba819770b042a90/expr.ipynb\"><img src=\"../2e08f8b9cff939b748ed0fc8eeba819770b042a90/expr.png\" style=\"display:inline;vertical-align:middle;\" /></a></td></tr>\n",
       "<tr><td>20</td><td>ExprTuple</td><td>28, 30</td><td><a class=\"ProveItLink\" href=\"../7179f503f6fde55211fa84ac1b4edb5bf297afbc0/expr.ipynb\"><img src=\"../7179f503f6fde55211fa84ac1b4edb5bf297afbc0/expr.png\" style=\"display:inline;vertical-align:middle;\" /></a></td></tr>\n",
       "<tr><td>21</td><td>Literal</td><td></td><td><a class=\"ProveItLink\" href=\"../../common/96232b9016d8d3baf1cf9772ef796ddaf8f7f4610/expr.ipynb\"><img src=\"../../common/96232b9016d8d3baf1cf9772ef796ddaf8f7f4610/expr.png\" style=\"display:inline;vertical-align:middle;\" /></a></td></tr>\n",
       "<tr><td>22</td><td>Literal</td><td></td><td><a class=\"ProveItLink\" href=\"../../common/38deceb0a69e80c36399d725649803706802a2a90/expr.ipynb\"><img src=\"../../common/38deceb0a69e80c36399d725649803706802a2a90/expr.png\" style=\"display:inline;vertical-align:middle;\" /></a></td></tr>\n",
       "<tr><td>23</td><td>ExprTuple</td><td>29, 30</td><td><a class=\"ProveItLink\" href=\"../81d566eeb0bc18296ad21ae9edb1683b0dbf84900/expr.ipynb\"><img src=\"../81d566eeb0bc18296ad21ae9edb1683b0dbf84900/expr.png\" style=\"display:inline;vertical-align:middle;\" /></a></td></tr>\n",
       "<tr><td>24</td><td>Literal</td><td></td><td><a class=\"ProveItLink\" href=\"../../common/a31fa972f0ff74e32d7bde73a99a2ddf76467fac0/expr.ipynb\"><img src=\"../../common/a31fa972f0ff74e32d7bde73a99a2ddf76467fac0/expr.png\" style=\"display:inline;vertical-align:middle;\" /></a></td></tr>\n",
       "<tr><td>25</td><td>ExprTuple</td><td>31</td><td><a class=\"ProveItLink\" href=\"../51c3f2029d3985869f2cb2b7b4dd3701e55785110/expr.ipynb\"><img src=\"../51c3f2029d3985869f2cb2b7b4dd3701e55785110/expr.png\" style=\"display:inline;vertical-align:middle;\" /></a></td></tr>\n",
       "<tr><td>26</td><td>Operation</td><td>operator:&nbsp;34<br>operands:&nbsp;32<br></td><td><a class=\"ProveItLink\" href=\"../1abc48c53e8e6b6fc6bd4d100acb9a3c28e8f2c70/expr.ipynb\"><img src=\"../1abc48c53e8e6b6fc6bd4d100acb9a3c28e8f2c70/expr.png\" style=\"display:inline;vertical-align:middle;\" /></a></td></tr>\n",
       "<tr><td>27</td><td>Operation</td><td>operator:&nbsp;43<br>operand:&nbsp;39<br></td><td><a class=\"ProveItLink\" href=\"../../common/ed60e75561684be6b18310df5c479706894f1f410/expr.ipynb\"><img src=\"../../common/ed60e75561684be6b18310df5c479706894f1f410/expr.png\" style=\"display:inline;vertical-align:middle;\" /></a></td></tr>\n",
       "<tr><td>28</td><td>Literal</td><td></td><td><a class=\"ProveItLink\" href=\"../../common/b1beec78d8cd5a1effa0b2b1f6910261ffe687cf0/expr.ipynb\"><img src=\"../../common/b1beec78d8cd5a1effa0b2b1f6910261ffe687cf0/expr.png\" style=\"display:inline;vertical-align:middle;\" /></a></td></tr>\n",
       "<tr><td>29</td><td>Literal</td><td></td><td><a class=\"ProveItLink\" href=\"../../common/c9c8328efedcafef6f2fc9fe107a9c89fd772b250/expr.ipynb\"><img src=\"../../common/c9c8328efedcafef6f2fc9fe107a9c89fd772b250/expr.png\" style=\"display:inline;vertical-align:middle;\" /></a></td></tr>\n",
       "<tr><td>30</td><td>Operation</td><td>operator:&nbsp;34<br>operands:&nbsp;35<br></td><td><a class=\"ProveItLink\" href=\"../6cfcf995f91fc94e5142f84a5a4bb6b4500d55bd0/expr.ipynb\"><img src=\"../6cfcf995f91fc94e5142f84a5a4bb6b4500d55bd0/expr.png\" style=\"display:inline;vertical-align:middle;\" /></a></td></tr>\n",
       "<tr><td>31</td><td>Operation</td><td>operator:&nbsp;36<br>operand:&nbsp;42<br></td><td><a class=\"ProveItLink\" href=\"../f1d8459f7e478ee31dbdda29791c45f5cec5ae070/expr.ipynb\"><img src=\"../f1d8459f7e478ee31dbdda29791c45f5cec5ae070/expr.png\" style=\"display:inline;vertical-align:middle;\" /></a></td></tr>\n",
       "<tr><td>32</td><td>ExprTuple</td><td>45, 38</td><td><a class=\"ProveItLink\" href=\"../../../../../numbers/numerals/decimals/__pv_it/theorems/b6dda0abe24a4592fb130c02ca5a89c1328050430/expr.ipynb\"><img src=\"../../../../../numbers/numerals/decimals/__pv_it/theorems/b6dda0abe24a4592fb130c02ca5a89c1328050430/expr.png\" style=\"display:inline;vertical-align:middle;\" /></a></td></tr>\n",
       "<tr><td>33</td><td>ExprTuple</td><td>39</td><td><a class=\"ProveItLink\" href=\"../../common/f243cd078d9a833f4a423d1194e14ef4aae6b6fe0/expr.ipynb\"><img src=\"../../common/f243cd078d9a833f4a423d1194e14ef4aae6b6fe0/expr.png\" style=\"display:inline;vertical-align:middle;\" /></a></td></tr>\n",
       "<tr><td>34</td><td>Literal</td><td></td><td><a class=\"ProveItLink\" href=\"../../../../../logic/sets/enumeration/__pv_it/common/f7caf702081f903a6ea3d95d680568dd78698f5a0/expr.ipynb\"><img src=\"../../../../../logic/sets/enumeration/__pv_it/common/f7caf702081f903a6ea3d95d680568dd78698f5a0/expr.png\" style=\"display:inline;vertical-align:middle;\" /></a></td></tr>\n",
       "<tr><td>35</td><td>ExprTuple</td><td>40, 41</td><td><a class=\"ProveItLink\" href=\"../../../../../numbers/numerals/decimals/__pv_it/theorems/597847cc5f00b6f9afa210fcfbb2e72452d288ad0/expr.ipynb\"><img src=\"../../../../../numbers/numerals/decimals/__pv_it/theorems/597847cc5f00b6f9afa210fcfbb2e72452d288ad0/expr.png\" style=\"display:inline;vertical-align:middle;\" /></a></td></tr>\n",
       "<tr><td>36</td><td>Literal</td><td></td><td><a class=\"ProveItLink\" href=\"../../../../../numbers/negation/__pv_it/common/31a69a5c76809537045e3884859f178d8d9c845c0/expr.ipynb\"><img src=\"../../../../../numbers/negation/__pv_it/common/31a69a5c76809537045e3884859f178d8d9c845c0/expr.png\" style=\"display:inline;vertical-align:middle;\" /></a></td></tr>\n",
       "<tr><td>37</td><td>ExprTuple</td><td>42</td><td><a class=\"ProveItLink\" href=\"../4d8b8c4d6a6654455ea78c868c1eabd1a7b225530/expr.ipynb\"><img src=\"../4d8b8c4d6a6654455ea78c868c1eabd1a7b225530/expr.png\" style=\"display:inline;vertical-align:middle;\" /></a></td></tr>\n",
       "<tr><td>38</td><td>Literal</td><td></td><td><a class=\"ProveItLink\" href=\"../../../../../numbers/numerals/__pv_it/common/3829356ce3fdf8f35810c63c00bc1a19e838663e0/expr.ipynb\"><img src=\"../../../../../numbers/numerals/__pv_it/common/3829356ce3fdf8f35810c63c00bc1a19e838663e0/expr.png\" style=\"display:inline;vertical-align:middle;\" /></a></td></tr>\n",
       "<tr><td>39</td><td>Literal</td><td></td><td><a class=\"ProveItLink\" href=\"../../../../../numbers/numerals/__pv_it/common/c35fdf7268947ca3e24174d2909dc9d0a7f3aac60/expr.ipynb\"><img src=\"../../../../../numbers/numerals/__pv_it/common/c35fdf7268947ca3e24174d2909dc9d0a7f3aac60/expr.png\" style=\"display:inline;vertical-align:middle;\" /></a></td></tr>\n",
       "<tr><td>40</td><td>Literal</td><td></td><td><a class=\"ProveItLink\" href=\"../../../../../numbers/numerals/__pv_it/common/1477ef887611bedb97dfb89bcacde217bb43e8ed0/expr.ipynb\"><img src=\"../../../../../numbers/numerals/__pv_it/common/1477ef887611bedb97dfb89bcacde217bb43e8ed0/expr.png\" style=\"display:inline;vertical-align:middle;\" /></a></td></tr>\n",
       "<tr><td>41</td><td>Literal</td><td></td><td><a class=\"ProveItLink\" href=\"../../../../../numbers/numerals/__pv_it/common/de8f3e06d530f467e73bdbc965d9d86fa0f1b0db0/expr.ipynb\"><img src=\"../../../../../numbers/numerals/__pv_it/common/de8f3e06d530f467e73bdbc965d9d86fa0f1b0db0/expr.png\" style=\"display:inline;vertical-align:middle;\" /></a></td></tr>\n",
       "<tr><td>42</td><td>Operation</td><td>operator:&nbsp;43<br>operand:&nbsp;45<br></td><td><a class=\"ProveItLink\" href=\"../../common/657153f886e06f25f3afe5329bbf35664d219ac40/expr.ipynb\"><img src=\"../../common/657153f886e06f25f3afe5329bbf35664d219ac40/expr.png\" style=\"display:inline;vertical-align:middle;\" /></a></td></tr>\n",
       "<tr><td>43</td><td>Literal</td><td></td><td><a class=\"ProveItLink\" href=\"../../common/6e9e7d19bd9dfa08dee7501fca955461a19971770/expr.ipynb\"><img src=\"../../common/6e9e7d19bd9dfa08dee7501fca955461a19971770/expr.png\" style=\"display:inline;vertical-align:middle;\" /></a></td></tr>\n",
       "<tr><td>44</td><td>ExprTuple</td><td>45</td><td><a class=\"ProveItLink\" href=\"../../common/983fb1abdb7789966ec8b7afe0d4f7ca8578c9e50/expr.ipynb\"><img src=\"../../common/983fb1abdb7789966ec8b7afe0d4f7ca8578c9e50/expr.png\" style=\"display:inline;vertical-align:middle;\" /></a></td></tr>\n",
       "<tr><td>45</td><td>Literal</td><td></td><td><a class=\"ProveItLink\" href=\"../../../../../numbers/numerals/__pv_it/common/d278e359da0695d9652dd541d45264f93703e2e40/expr.ipynb\"><img src=\"../../../../../numbers/numerals/__pv_it/common/d278e359da0695d9652dd541d45264f93703e2e40/expr.png\" style=\"display:inline;vertical-align:middle;\" /></a></td></tr>\n",
       "</table>\n"
      ],
      "text/plain": [
       "0.  Input(|1〉)  & MultiQubitGate(CONTROL, {1, 2})  & Output(|1〉)   \\\\ \n",
       "   Input(|0〉)  & MultiQubitGate(Z, {1, 2})  & Output(|0〉)   \\\\ \n",
       "   Input(|1〉)  & MultiQubitGate(CONTROL, {3, 4})  & Output(|1〉)   \\\\ \n",
       "   Input(|1〉)  & MultiQubitGate(Z, {3, 4})  & Output(-|1〉)\n",
       "   core type: Operation\n",
       "   operator: 1\n",
       "   operand: 3\n",
       "1. CIRCUIT\n",
       "   core type: Literal\n",
       "   sub-expressions: \n",
       "2. ((Input(|1〉) & MultiQubitGate(CONTROL, {1, 2}) & Output(|1〉)  \\\\ \n",
       "  Input(|0〉) & MultiQubitGate(Z, {1, 2}) & Output(|0〉)  \\\\ \n",
       "  Input(|1〉) & MultiQubitGate(CONTROL, {3, 4}) & Output(|1〉)  \\\\ \n",
       "  Input(|1〉) & MultiQubitGate(Z, {3, 4}) & Output(-|1〉)))\n",
       "   core type: ExprTuple\n",
       "   sub-expressions: 3\n",
       "3. Input(|1〉) & MultiQubitGate(CONTROL, {1, 2}) & Output(|1〉)  \\\\ \n",
       "  Input(|0〉) & MultiQubitGate(Z, {1, 2}) & Output(|0〉)  \\\\ \n",
       "  Input(|1〉) & MultiQubitGate(CONTROL, {3, 4}) & Output(|1〉)  \\\\ \n",
       "  Input(|1〉) & MultiQubitGate(Z, {3, 4}) & Output(-|1〉)\n",
       "   core type: ExprTuple\n",
       "   sub-expressions: 4, 5, 6, 7\n",
       "4. (Input(|1〉), MultiQubitGate(CONTROL, {1, 2}), Output(|1〉))\n",
       "   core type: ExprTuple\n",
       "   sub-expressions: 14, 8, 13\n",
       "5. (Input(|0〉), MultiQubitGate(Z, {1, 2}), Output(|0〉))\n",
       "   core type: ExprTuple\n",
       "   sub-expressions: 9, 10, 11\n",
       "6. (Input(|1〉), MultiQubitGate(CONTROL, {3, 4}), Output(|1〉))\n",
       "   core type: ExprTuple\n",
       "   sub-expressions: 14, 12, 13\n",
       "7. (Input(|1〉), MultiQubitGate(Z, {3, 4}), Output(-|1〉))\n",
       "   core type: ExprTuple\n",
       "   sub-expressions: 14, 15, 16\n",
       "8. MultiQubitGate(CONTROL, {1, 2})\n",
       "   core type: Operation\n",
       "   operator: 22\n",
       "   operands: 17\n",
       "9. Input(|0〉)\n",
       "   core type: Operation\n",
       "   operator: 21\n",
       "   operand: 27\n",
       "10. MultiQubitGate(Z, {1, 2})\n",
       "    core type: Operation\n",
       "    operator: 22\n",
       "    operands: 18\n",
       "11. Output(|0〉)\n",
       "    core type: Operation\n",
       "    operator: 24\n",
       "    operand: 27\n",
       "12. MultiQubitGate(CONTROL, {3, 4})\n",
       "    core type: Operation\n",
       "    operator: 22\n",
       "    operands: 20\n",
       "13. Output(|1〉)\n",
       "    core type: Operation\n",
       "    operator: 24\n",
       "    operand: 42\n",
       "14. Input(|1〉)\n",
       "    core type: Operation\n",
       "    operator: 21\n",
       "    operand: 42\n",
       "15. MultiQubitGate(Z, {3, 4})\n",
       "    core type: Operation\n",
       "    operator: 22\n",
       "    operands: 23\n",
       "16. Output(-|1〉)\n",
       "    core type: Operation\n",
       "    operator: 24\n",
       "    operand: 31\n",
       "17. (CONTROL, {1, 2})\n",
       "    core type: ExprTuple\n",
       "    sub-expressions: 28, 26\n",
       "18. (Z, {1, 2})\n",
       "    core type: ExprTuple\n",
       "    sub-expressions: 29, 26\n",
       "19. (|0〉)\n",
       "    core type: ExprTuple\n",
       "    sub-expressions: 27\n",
       "20. (CONTROL, {3, 4})\n",
       "    core type: ExprTuple\n",
       "    sub-expressions: 28, 30\n",
       "21. INPUT\n",
       "    core type: Literal\n",
       "    sub-expressions: \n",
       "22. MULTI_QUBIT_GATE\n",
       "    core type: Literal\n",
       "    sub-expressions: \n",
       "23. (Z, {3, 4})\n",
       "    core type: ExprTuple\n",
       "    sub-expressions: 29, 30\n",
       "24. OUTPUT\n",
       "    core type: Literal\n",
       "    sub-expressions: \n",
       "25. (-|1〉)\n",
       "    core type: ExprTuple\n",
       "    sub-expressions: 31\n",
       "26. {1, 2}\n",
       "    core type: Operation\n",
       "    operator: 34\n",
       "    operands: 32\n",
       "27. |0〉\n",
       "    core type: Operation\n",
       "    operator: 43\n",
       "    operand: 39\n",
       "28. CONTROL\n",
       "    core type: Literal\n",
       "    sub-expressions: \n",
       "29. Z\n",
       "    core type: Literal\n",
       "    sub-expressions: \n",
       "30. {3, 4}\n",
       "    core type: Operation\n",
       "    operator: 34\n",
       "    operands: 35\n",
       "31. -|1〉\n",
       "    core type: Operation\n",
       "    operator: 36\n",
       "    operand: 42\n",
       "32. (1, 2)\n",
       "    core type: ExprTuple\n",
       "    sub-expressions: 45, 38\n",
       "33. (0)\n",
       "    core type: ExprTuple\n",
       "    sub-expressions: 39\n",
       "34. Set\n",
       "    core type: Literal\n",
       "    sub-expressions: \n",
       "35. (3, 4)\n",
       "    core type: ExprTuple\n",
       "    sub-expressions: 40, 41\n",
       "36. -\n",
       "    core type: Literal\n",
       "    sub-expressions: \n",
       "37. (|1〉)\n",
       "    core type: ExprTuple\n",
       "    sub-expressions: 42\n",
       "38. 2\n",
       "    core type: Literal\n",
       "    sub-expressions: \n",
       "39. 0\n",
       "    core type: Literal\n",
       "    sub-expressions: \n",
       "40. 3\n",
       "    core type: Literal\n",
       "    sub-expressions: \n",
       "41. 4\n",
       "    core type: Literal\n",
       "    sub-expressions: \n",
       "42. |1〉\n",
       "    core type: Operation\n",
       "    operator: 43\n",
       "    operand: 45\n",
       "43. KET\n",
       "    core type: Literal\n",
       "    sub-expressions: \n",
       "44. (1)\n",
       "    core type: ExprTuple\n",
       "    sub-expressions: 45\n",
       "45. 1\n",
       "    core type: Literal\n",
       "    sub-expressions: "
      ]
     },
     "execution_count": 6,
     "metadata": {},
     "output_type": "execute_result"
    }
   ],
   "source": [
    "# display the expression information\n",
    "expr.expr_info()"
   ]
  },
  {
   "cell_type": "code",
   "execution_count": null,
   "metadata": {},
   "outputs": [],
   "source": []
  }
 ],
 "metadata": {
  "kernelspec": {
   "display_name": "Python 3",
   "language": "python",
   "name": "python3"
  }
 },
 "nbformat": 4,
 "nbformat_minor": 0
}