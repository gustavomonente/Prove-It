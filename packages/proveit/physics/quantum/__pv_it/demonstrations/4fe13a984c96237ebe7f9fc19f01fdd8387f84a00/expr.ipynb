{
 "cells": [
  {
   "cell_type": "markdown",
   "metadata": {},
   "source": [
    "Expression of type <a class=\"ProveItLink\" href=\"../../../../../../../doc/html/api/proveit.ExprTuple.html\">ExprTuple</a>\n",
    "=======================\n",
    "# from the theory of <a class=\"ProveItLink\" href=\"../../../_theory_nbs_/theory.ipynb\">proveit.physics.quantum</a>"
   ]
  },
  {
   "cell_type": "code",
   "execution_count": 1,
   "metadata": {},
   "outputs": [],
   "source": [
    "import proveit\n",
    "# Automation is not needed when building an expression:\n",
    "proveit.defaults.automation = False # This will speed things up.\n",
    "proveit.defaults.inline_pngs = False # Makes files smaller.\n",
    "%load_expr # Load the stored expression as 'stored_expr'\n",
    "# import Expression classes needed to build the expression\n",
    "from proveit import ExprArray, ExprTuple\n",
    "from proveit.logic import Set\n",
    "from proveit.numbers import one\n",
    "from proveit.physics.quantum import H, SPACE, X, Z\n",
    "from proveit.physics.quantum.circuit import Circuit, CircuitEquiv, MultiQubitGate"
   ]
  },
  {
   "cell_type": "code",
   "execution_count": 2,
   "metadata": {},
   "outputs": [
    {
     "data": {
      "text/html": [
       "<strong id=\"expr\">expr:</strong> <a class=\"ProveItLink\" href=\"expr.ipynb\"><img src=\"expr.png\" style=\"display:inline;vertical-align:middle;\" /></a><br>"
      ],
      "text/plain": [
       "expr: ( MultiQubitGate(H, {1})  & MultiQubitGate(X, {1})  & MultiQubitGate(H, {1}) equiv  MultiQubitGate(SPACE, {1})  & MultiQubitGate(X, {1})  & MultiQubitGate(SPACE, {1}),  MultiQubitGate(Z, {1})  & MultiQubitGate(H, {1})  & MultiQubitGate(X, {1})  & MultiQubitGate(H, {1})  & MultiQubitGate(Z, {1}) equiv  MultiQubitGate(Z, {1})  & MultiQubitGate(SPACE, {1})  & MultiQubitGate(X, {1})  & MultiQubitGate(SPACE, {1})  & MultiQubitGate(Z, {1}))"
      ]
     },
     "execution_count": 2,
     "metadata": {},
     "output_type": "execute_result"
    }
   ],
   "source": [
    "# build up the expression from sub-expressions\n",
    "sub_expr1 = Set(one)\n",
    "sub_expr2 = MultiQubitGate(H, sub_expr1)\n",
    "sub_expr3 = MultiQubitGate(X, sub_expr1)\n",
    "sub_expr4 = MultiQubitGate(SPACE, sub_expr1)\n",
    "sub_expr5 = MultiQubitGate(Z, sub_expr1)\n",
    "expr = ExprTuple(CircuitEquiv(Circuit(ExprArray([sub_expr2, sub_expr3, sub_expr2])), Circuit(ExprArray([sub_expr4, sub_expr3, sub_expr4]))), CircuitEquiv(Circuit(ExprArray([sub_expr5, sub_expr2, sub_expr3, sub_expr2, sub_expr5])), Circuit(ExprArray([sub_expr5, sub_expr4, sub_expr3, sub_expr4, sub_expr5]))))"
   ]
  },
  {
   "cell_type": "code",
   "execution_count": 3,
   "metadata": {},
   "outputs": [
    {
     "name": "stdout",
     "output_type": "stream",
     "text": [
      "Passed sanity check: expr matches stored_expr\n"
     ]
    }
   ],
   "source": [
    "# check that the built expression is the same as the stored expression\n",
    "assert expr == stored_expr\n",
    "assert expr._style_id == stored_expr._style_id\n",
    "print(\"Passed sanity check: expr matches stored_expr\")"
   ]
  },
  {
   "cell_type": "code",
   "execution_count": 4,
   "metadata": {},
   "outputs": [
    {
     "name": "stdout",
     "output_type": "stream",
     "text": [
      "\\left(\\hspace{2em} \\Qcircuit@C=1em @R=.7em{\n",
      "& \\gate{H{\\Big \\{} \\left\\{1\\right\\}} & \\gate{X{\\Big \\{} \\left\\{1\\right\\}} & \\gate{H{\\Big \\{} \\left\\{1\\right\\}} \n",
      "} \\hspace{2em} \\cong \\hspace{2em} \\Qcircuit@C=1em @R=.7em{\n",
      "& \\gate{X{\\Big \\{} \\left\\{1\\right\\}} \n",
      "} \\hspace{2em}, \\hspace{2em} \\Qcircuit@C=1em @R=.7em{\n",
      "& \\gate{Z{\\Big \\{} \\left\\{1\\right\\}} & \\gate{H{\\Big \\{} \\left\\{1\\right\\}} & \\gate{X{\\Big \\{} \\left\\{1\\right\\}} & \\gate{H{\\Big \\{} \\left\\{1\\right\\}} & \\gate{Z{\\Big \\{} \\left\\{1\\right\\}} \n",
      "} \\hspace{2em} \\cong \\hspace{2em} \\Qcircuit@C=1em @R=.7em{\n",
      "& \\gate{Z{\\Big \\{} \\left\\{1\\right\\}} & \\gate{X{\\Big \\{} \\left\\{1\\right\\}} & \\gate{Z{\\Big \\{} \\left\\{1\\right\\}} \n",
      "} \\hspace{2em}\\right)\n"
     ]
    }
   ],
   "source": [
    "# Show the LaTeX representation of the expression for convenience if you need it.\n",
    "print(expr.latex())"
   ]
  },
  {
   "cell_type": "code",
   "execution_count": 5,
   "metadata": {},
   "outputs": [
    {
     "data": {
      "text/html": [
       "<table><tr><th>&nbsp;</th><th>core type</th><th>sub-expressions</th><th>expression</th></tr>\n",
       "<tr><td>0</td><td>ExprTuple</td><td>1, 2</td><td><a class=\"ProveItLink\" href=\"expr.ipynb\"><img src=\"expr.png\" style=\"display:inline;vertical-align:middle;\" /></a></td></tr>\n",
       "<tr><td>1</td><td>Operation</td><td>operator:&nbsp;4<br>operands:&nbsp;3<br></td><td><a class=\"ProveItLink\" href=\"../420ef538b0f5d6bd0f5c6fe7488c7406afe4c38c0/expr.ipynb\"><img src=\"../420ef538b0f5d6bd0f5c6fe7488c7406afe4c38c0/expr.png\" style=\"display:inline;vertical-align:middle;\" /></a></td></tr>\n",
       "<tr><td>2</td><td>Operation</td><td>operator:&nbsp;4<br>operands:&nbsp;5<br></td><td><a class=\"ProveItLink\" href=\"../e10ff741d8018f0253daac86c349ac4e13a4da380/expr.ipynb\"><img src=\"../e10ff741d8018f0253daac86c349ac4e13a4da380/expr.png\" style=\"display:inline;vertical-align:middle;\" /></a></td></tr>\n",
       "<tr><td>3</td><td>ExprTuple</td><td>6, 7</td><td><a class=\"ProveItLink\" href=\"../abc11fe3c6b69cf7d9c98d7220e3c68679ded5ab0/expr.ipynb\"><img src=\"../abc11fe3c6b69cf7d9c98d7220e3c68679ded5ab0/expr.png\" style=\"display:inline;vertical-align:middle;\" /></a></td></tr>\n",
       "<tr><td>4</td><td>Literal</td><td></td><td><a class=\"ProveItLink\" href=\"../../common/b3520ccd5e28caaba55f0c0dd58050c7f0ca707d0/expr.ipynb\"><img src=\"../../common/b3520ccd5e28caaba55f0c0dd58050c7f0ca707d0/expr.png\" style=\"display:inline;vertical-align:middle;\" /></a></td></tr>\n",
       "<tr><td>5</td><td>ExprTuple</td><td>8, 9</td><td><a class=\"ProveItLink\" href=\"../1da4d2d550b4787bac131b82c39bfc91f3ed7a500/expr.ipynb\"><img src=\"../1da4d2d550b4787bac131b82c39bfc91f3ed7a500/expr.png\" style=\"display:inline;vertical-align:middle;\" /></a></td></tr>\n",
       "<tr><td>6</td><td>Operation</td><td>operator:&nbsp;13<br>operand:&nbsp;15<br></td><td><a class=\"ProveItLink\" href=\"../d5351f21ba140301b03bbf360519577cf2aec7b00/expr.ipynb\"><img src=\"../d5351f21ba140301b03bbf360519577cf2aec7b00/expr.png\" style=\"display:inline;vertical-align:middle;\" /></a></td></tr>\n",
       "<tr><td>7</td><td>Operation</td><td>operator:&nbsp;13<br>operand:&nbsp;16<br></td><td><a class=\"ProveItLink\" href=\"../9b17580b8e261e5c5115e17dd9ce5433932ec94e0/expr.ipynb\"><img src=\"../9b17580b8e261e5c5115e17dd9ce5433932ec94e0/expr.png\" style=\"display:inline;vertical-align:middle;\" /></a></td></tr>\n",
       "<tr><td>8</td><td>Operation</td><td>operator:&nbsp;13<br>operand:&nbsp;17<br></td><td><a class=\"ProveItLink\" href=\"../f23969e17290215616acb81bc36d94cc4367f3270/expr.ipynb\"><img src=\"../f23969e17290215616acb81bc36d94cc4367f3270/expr.png\" style=\"display:inline;vertical-align:middle;\" /></a></td></tr>\n",
       "<tr><td>9</td><td>Operation</td><td>operator:&nbsp;13<br>operand:&nbsp;18<br></td><td><a class=\"ProveItLink\" href=\"../45218012b3225d3c06aef5d85bf591920225805c0/expr.ipynb\"><img src=\"../45218012b3225d3c06aef5d85bf591920225805c0/expr.png\" style=\"display:inline;vertical-align:middle;\" /></a></td></tr>\n",
       "<tr><td>10</td><td>ExprTuple</td><td>15</td><td><a class=\"ProveItLink\" href=\"../291c378a1c51bb4c46093b58a753daaa7c36b7690/expr.ipynb\"><img src=\"../291c378a1c51bb4c46093b58a753daaa7c36b7690/expr.png\" style=\"display:inline;vertical-align:middle;\" /></a></td></tr>\n",
       "<tr><td>11</td><td>ExprTuple</td><td>16</td><td><a class=\"ProveItLink\" href=\"../cc2d2fa813698643d5727437945ce35d6a7d3c4d0/expr.ipynb\"><img src=\"../cc2d2fa813698643d5727437945ce35d6a7d3c4d0/expr.png\" style=\"display:inline;vertical-align:middle;\" /></a></td></tr>\n",
       "<tr><td>12</td><td>ExprTuple</td><td>17</td><td><a class=\"ProveItLink\" href=\"../4b86bd6df3ab9e92a5bead45ad869cf9492ee9030/expr.ipynb\"><img src=\"../4b86bd6df3ab9e92a5bead45ad869cf9492ee9030/expr.png\" style=\"display:inline;vertical-align:middle;\" /></a></td></tr>\n",
       "<tr><td>13</td><td>Literal</td><td></td><td><a class=\"ProveItLink\" href=\"../../common/409f940d39947a3c17092974bfa20c1d4da6996c0/expr.ipynb\"><img src=\"../../common/409f940d39947a3c17092974bfa20c1d4da6996c0/expr.png\" style=\"display:inline;vertical-align:middle;\" /></a></td></tr>\n",
       "<tr><td>14</td><td>ExprTuple</td><td>18</td><td><a class=\"ProveItLink\" href=\"../312e60e35dc116a945cbf91d2a42726306fde76c0/expr.ipynb\"><img src=\"../312e60e35dc116a945cbf91d2a42726306fde76c0/expr.png\" style=\"display:inline;vertical-align:middle;\" /></a></td></tr>\n",
       "<tr><td>15</td><td>ExprTuple</td><td>19</td><td><a class=\"ProveItLink\" href=\"../6be887c3347931bd6169532f3173fa9bfe3e5b080/expr.ipynb\"><img src=\"../6be887c3347931bd6169532f3173fa9bfe3e5b080/expr.png\" style=\"display:inline;vertical-align:middle;\" /></a></td></tr>\n",
       "<tr><td>16</td><td>ExprTuple</td><td>20</td><td><a class=\"ProveItLink\" href=\"../0cec2a353f0d6833c4677ff5b3b23de341529c540/expr.ipynb\"><img src=\"../0cec2a353f0d6833c4677ff5b3b23de341529c540/expr.png\" style=\"display:inline;vertical-align:middle;\" /></a></td></tr>\n",
       "<tr><td>17</td><td>ExprTuple</td><td>21</td><td><a class=\"ProveItLink\" href=\"../deea6ca2b6856236564d18616ebcd1981666f31a0/expr.ipynb\"><img src=\"../deea6ca2b6856236564d18616ebcd1981666f31a0/expr.png\" style=\"display:inline;vertical-align:middle;\" /></a></td></tr>\n",
       "<tr><td>18</td><td>ExprTuple</td><td>22</td><td><a class=\"ProveItLink\" href=\"../ae9e01f821c13354f944991cbefc2368004eccae0/expr.ipynb\"><img src=\"../ae9e01f821c13354f944991cbefc2368004eccae0/expr.png\" style=\"display:inline;vertical-align:middle;\" /></a></td></tr>\n",
       "<tr><td>19</td><td>ExprTuple</td><td>23, 24, 23</td><td><a class=\"ProveItLink\" href=\"../45ea575e2092c82531b45579fc4761c6f19285750/expr.ipynb\"><img src=\"../45ea575e2092c82531b45579fc4761c6f19285750/expr.png\" style=\"display:inline;vertical-align:middle;\" /></a></td></tr>\n",
       "<tr><td>20</td><td>ExprTuple</td><td>25, 24, 25</td><td><a class=\"ProveItLink\" href=\"../b1ab0f529a5b7684f44092b3c6e3f99e4c71a55f0/expr.ipynb\"><img src=\"../b1ab0f529a5b7684f44092b3c6e3f99e4c71a55f0/expr.png\" style=\"display:inline;vertical-align:middle;\" /></a></td></tr>\n",
       "<tr><td>21</td><td>ExprTuple</td><td>26, 23, 24, 23, 26</td><td><a class=\"ProveItLink\" href=\"../80c80dc1c7485585ce1c71949459bdb25fef7bb30/expr.ipynb\"><img src=\"../80c80dc1c7485585ce1c71949459bdb25fef7bb30/expr.png\" style=\"display:inline;vertical-align:middle;\" /></a></td></tr>\n",
       "<tr><td>22</td><td>ExprTuple</td><td>26, 25, 24, 25, 26</td><td><a class=\"ProveItLink\" href=\"../03362dbc8dea5fdac01f7857e1151f84f330990f0/expr.ipynb\"><img src=\"../03362dbc8dea5fdac01f7857e1151f84f330990f0/expr.png\" style=\"display:inline;vertical-align:middle;\" /></a></td></tr>\n",
       "<tr><td>23</td><td>Operation</td><td>operator:&nbsp;30<br>operands:&nbsp;27<br></td><td><a class=\"ProveItLink\" href=\"../6ab25901cb5672432315ad720e8944618fb015d50/expr.ipynb\"><img src=\"../6ab25901cb5672432315ad720e8944618fb015d50/expr.png\" style=\"display:inline;vertical-align:middle;\" /></a></td></tr>\n",
       "<tr><td>24</td><td>Operation</td><td>operator:&nbsp;30<br>operands:&nbsp;28<br></td><td><a class=\"ProveItLink\" href=\"../7a079e72e5482733f485ce7a3c3f3c98a756444c0/expr.ipynb\"><img src=\"../7a079e72e5482733f485ce7a3c3f3c98a756444c0/expr.png\" style=\"display:inline;vertical-align:middle;\" /></a></td></tr>\n",
       "<tr><td>25</td><td>Operation</td><td>operator:&nbsp;30<br>operands:&nbsp;29<br></td><td><a class=\"ProveItLink\" href=\"../abdc154689200b039f9e7bccc3b93b5ec7cbd94d0/expr.ipynb\"><img src=\"../abdc154689200b039f9e7bccc3b93b5ec7cbd94d0/expr.png\" style=\"display:inline;vertical-align:middle;\" /></a></td></tr>\n",
       "<tr><td>26</td><td>Operation</td><td>operator:&nbsp;30<br>operands:&nbsp;31<br></td><td><a class=\"ProveItLink\" href=\"../fe75da39b62858956e40d76c60aad7b5fbc195200/expr.ipynb\"><img src=\"../fe75da39b62858956e40d76c60aad7b5fbc195200/expr.png\" style=\"display:inline;vertical-align:middle;\" /></a></td></tr>\n",
       "<tr><td>27</td><td>ExprTuple</td><td>32, 36</td><td><a class=\"ProveItLink\" href=\"../51765debcc107111380aca56c119abe5e30662c30/expr.ipynb\"><img src=\"../51765debcc107111380aca56c119abe5e30662c30/expr.png\" style=\"display:inline;vertical-align:middle;\" /></a></td></tr>\n",
       "<tr><td>28</td><td>ExprTuple</td><td>33, 36</td><td><a class=\"ProveItLink\" href=\"../5c3596d077bdf059dfb13eb6936a326efee883520/expr.ipynb\"><img src=\"../5c3596d077bdf059dfb13eb6936a326efee883520/expr.png\" style=\"display:inline;vertical-align:middle;\" /></a></td></tr>\n",
       "<tr><td>29</td><td>ExprTuple</td><td>34, 36</td><td><a class=\"ProveItLink\" href=\"../07134d1b50764529bc2f571bbb0a1a9987d7d47f0/expr.ipynb\"><img src=\"../07134d1b50764529bc2f571bbb0a1a9987d7d47f0/expr.png\" style=\"display:inline;vertical-align:middle;\" /></a></td></tr>\n",
       "<tr><td>30</td><td>Literal</td><td></td><td><a class=\"ProveItLink\" href=\"../../common/7e400d333e3c53d1c3dd14244e4b33f4cea327190/expr.ipynb\"><img src=\"../../common/7e400d333e3c53d1c3dd14244e4b33f4cea327190/expr.png\" style=\"display:inline;vertical-align:middle;\" /></a></td></tr>\n",
       "<tr><td>31</td><td>ExprTuple</td><td>35, 36</td><td><a class=\"ProveItLink\" href=\"../190aeaa3b082503d669c0387a46af898151b95a30/expr.ipynb\"><img src=\"../190aeaa3b082503d669c0387a46af898151b95a30/expr.png\" style=\"display:inline;vertical-align:middle;\" /></a></td></tr>\n",
       "<tr><td>32</td><td>Literal</td><td></td><td><a class=\"ProveItLink\" href=\"../../common/e874333991a6db337cd004ff6daee55a9e80aa5b0/expr.ipynb\"><img src=\"../../common/e874333991a6db337cd004ff6daee55a9e80aa5b0/expr.png\" style=\"display:inline;vertical-align:middle;\" /></a></td></tr>\n",
       "<tr><td>33</td><td>Literal</td><td></td><td><a class=\"ProveItLink\" href=\"../../common/d428480ac9882b1412f7ede37b71e3a30f3c2e9e0/expr.ipynb\"><img src=\"../../common/d428480ac9882b1412f7ede37b71e3a30f3c2e9e0/expr.png\" style=\"display:inline;vertical-align:middle;\" /></a></td></tr>\n",
       "<tr><td>34</td><td>Literal</td><td></td><td><a class=\"ProveItLink\" href=\"../../common/da64fd011a176dba524c15edb4c0c73d9ce4b38f0/expr.ipynb\"><img src=\"../../common/da64fd011a176dba524c15edb4c0c73d9ce4b38f0/expr.png\" style=\"display:inline;vertical-align:middle;\" /></a></td></tr>\n",
       "<tr><td>35</td><td>Literal</td><td></td><td><a class=\"ProveItLink\" href=\"../../common/2c528f33b8384666a054a8146aa84d2f45cc85490/expr.ipynb\"><img src=\"../../common/2c528f33b8384666a054a8146aa84d2f45cc85490/expr.png\" style=\"display:inline;vertical-align:middle;\" /></a></td></tr>\n",
       "<tr><td>36</td><td>Operation</td><td>operator:&nbsp;37<br>operand:&nbsp;38<br></td><td><a class=\"ProveItLink\" href=\"../794cea2888521553b40bae12ccfe7795c4ee57380/expr.ipynb\"><img src=\"../794cea2888521553b40bae12ccfe7795c4ee57380/expr.png\" style=\"display:inline;vertical-align:middle;\" /></a></td></tr>\n",
       "<tr><td>37</td><td>Literal</td><td></td><td><a class=\"ProveItLink\" href=\"../../../../../logic/sets/enumeration/__pv_it/common/0ead90ccbf4f17bc585a51f8aa904bb77916ae6e0/expr.ipynb\"><img src=\"../../../../../logic/sets/enumeration/__pv_it/common/0ead90ccbf4f17bc585a51f8aa904bb77916ae6e0/expr.png\" style=\"display:inline;vertical-align:middle;\" /></a></td></tr>\n",
       "<tr><td>38</td><td>Literal</td><td></td><td><a class=\"ProveItLink\" href=\"../../../../../numbers/numerals/__pv_it/common/2778428c7f555b2bdc06aa0530bc142c6e6335100/expr.ipynb\"><img src=\"../../../../../numbers/numerals/__pv_it/common/2778428c7f555b2bdc06aa0530bc142c6e6335100/expr.png\" style=\"display:inline;vertical-align:middle;\" /></a></td></tr>\n",
       "</table>\n"
      ],
      "text/plain": [
       "0. ( MultiQubitGate(H, {1})  & MultiQubitGate(X, {1})  & MultiQubitGate(H, {1}) equiv  MultiQubitGate(SPACE, {1})  & MultiQubitGate(X, {1})  & MultiQubitGate(SPACE, {1}),  MultiQubitGate(Z, {1})  & MultiQubitGate(H, {1})  & MultiQubitGate(X, {1})  & MultiQubitGate(H, {1})  & MultiQubitGate(Z, {1}) equiv  MultiQubitGate(Z, {1})  & MultiQubitGate(SPACE, {1})  & MultiQubitGate(X, {1})  & MultiQubitGate(SPACE, {1})  & MultiQubitGate(Z, {1}))\n",
       "   core type: ExprTuple\n",
       "   sub-expressions: 1, 2\n",
       "1.  MultiQubitGate(H, {1})  & MultiQubitGate(X, {1})  & MultiQubitGate(H, {1}) equiv  MultiQubitGate(SPACE, {1})  & MultiQubitGate(X, {1})  & MultiQubitGate(SPACE, {1})\n",
       "   core type: Operation\n",
       "   operator: 4\n",
       "   operands: 3\n",
       "2.  MultiQubitGate(Z, {1})  & MultiQubitGate(H, {1})  & MultiQubitGate(X, {1})  & MultiQubitGate(H, {1})  & MultiQubitGate(Z, {1}) equiv  MultiQubitGate(Z, {1})  & MultiQubitGate(SPACE, {1})  & MultiQubitGate(X, {1})  & MultiQubitGate(SPACE, {1})  & MultiQubitGate(Z, {1})\n",
       "   core type: Operation\n",
       "   operator: 4\n",
       "   operands: 5\n",
       "3. ( MultiQubitGate(H, {1})  & MultiQubitGate(X, {1})  & MultiQubitGate(H, {1}),  MultiQubitGate(SPACE, {1})  & MultiQubitGate(X, {1})  & MultiQubitGate(SPACE, {1}))\n",
       "   core type: ExprTuple\n",
       "   sub-expressions: 6, 7\n",
       "4. equiv\n",
       "   core type: Literal\n",
       "   sub-expressions: \n",
       "5. ( MultiQubitGate(Z, {1})  & MultiQubitGate(H, {1})  & MultiQubitGate(X, {1})  & MultiQubitGate(H, {1})  & MultiQubitGate(Z, {1}),  MultiQubitGate(Z, {1})  & MultiQubitGate(SPACE, {1})  & MultiQubitGate(X, {1})  & MultiQubitGate(SPACE, {1})  & MultiQubitGate(Z, {1}))\n",
       "   core type: ExprTuple\n",
       "   sub-expressions: 8, 9\n",
       "6.  MultiQubitGate(H, {1})  & MultiQubitGate(X, {1})  & MultiQubitGate(H, {1})\n",
       "   core type: Operation\n",
       "   operator: 13\n",
       "   operand: 15\n",
       "7.  MultiQubitGate(SPACE, {1})  & MultiQubitGate(X, {1})  & MultiQubitGate(SPACE, {1})\n",
       "   core type: Operation\n",
       "   operator: 13\n",
       "   operand: 16\n",
       "8.  MultiQubitGate(Z, {1})  & MultiQubitGate(H, {1})  & MultiQubitGate(X, {1})  & MultiQubitGate(H, {1})  & MultiQubitGate(Z, {1})\n",
       "   core type: Operation\n",
       "   operator: 13\n",
       "   operand: 17\n",
       "9.  MultiQubitGate(Z, {1})  & MultiQubitGate(SPACE, {1})  & MultiQubitGate(X, {1})  & MultiQubitGate(SPACE, {1})  & MultiQubitGate(Z, {1})\n",
       "   core type: Operation\n",
       "   operator: 13\n",
       "   operand: 18\n",
       "10. ((MultiQubitGate(H, {1}) & MultiQubitGate(X, {1}) & MultiQubitGate(H, {1})))\n",
       "    core type: ExprTuple\n",
       "    sub-expressions: 15\n",
       "11. ((MultiQubitGate(SPACE, {1}) & MultiQubitGate(X, {1}) & MultiQubitGate(SPACE, {1})))\n",
       "    core type: ExprTuple\n",
       "    sub-expressions: 16\n",
       "12. ((MultiQubitGate(Z, {1}) & MultiQubitGate(H, {1}) & MultiQubitGate(X, {1}) & MultiQubitGate(H, {1}) & MultiQubitGate(Z, {1})))\n",
       "    core type: ExprTuple\n",
       "    sub-expressions: 17\n",
       "13. CIRCUIT\n",
       "    core type: Literal\n",
       "    sub-expressions: \n",
       "14. ((MultiQubitGate(Z, {1}) & MultiQubitGate(SPACE, {1}) & MultiQubitGate(X, {1}) & MultiQubitGate(SPACE, {1}) & MultiQubitGate(Z, {1})))\n",
       "    core type: ExprTuple\n",
       "    sub-expressions: 18\n",
       "15. MultiQubitGate(H, {1}) & MultiQubitGate(X, {1}) & MultiQubitGate(H, {1})\n",
       "    core type: ExprTuple\n",
       "    sub-expressions: 19\n",
       "16. MultiQubitGate(SPACE, {1}) & MultiQubitGate(X, {1}) & MultiQubitGate(SPACE, {1})\n",
       "    core type: ExprTuple\n",
       "    sub-expressions: 20\n",
       "17. MultiQubitGate(Z, {1}) & MultiQubitGate(H, {1}) & MultiQubitGate(X, {1}) & MultiQubitGate(H, {1}) & MultiQubitGate(Z, {1})\n",
       "    core type: ExprTuple\n",
       "    sub-expressions: 21\n",
       "18. MultiQubitGate(Z, {1}) & MultiQubitGate(SPACE, {1}) & MultiQubitGate(X, {1}) & MultiQubitGate(SPACE, {1}) & MultiQubitGate(Z, {1})\n",
       "    core type: ExprTuple\n",
       "    sub-expressions: 22\n",
       "19. (MultiQubitGate(H, {1}), MultiQubitGate(X, {1}), MultiQubitGate(H, {1}))\n",
       "    core type: ExprTuple\n",
       "    sub-expressions: 23, 24, 23\n",
       "20. (MultiQubitGate(SPACE, {1}), MultiQubitGate(X, {1}), MultiQubitGate(SPACE, {1}))\n",
       "    core type: ExprTuple\n",
       "    sub-expressions: 25, 24, 25\n",
       "21. (MultiQubitGate(Z, {1}), MultiQubitGate(H, {1}), MultiQubitGate(X, {1}), MultiQubitGate(H, {1}), MultiQubitGate(Z, {1}))\n",
       "    core type: ExprTuple\n",
       "    sub-expressions: 26, 23, 24, 23, 26\n",
       "22. (MultiQubitGate(Z, {1}), MultiQubitGate(SPACE, {1}), MultiQubitGate(X, {1}), MultiQubitGate(SPACE, {1}), MultiQubitGate(Z, {1}))\n",
       "    core type: ExprTuple\n",
       "    sub-expressions: 26, 25, 24, 25, 26\n",
       "23. MultiQubitGate(H, {1})\n",
       "    core type: Operation\n",
       "    operator: 30\n",
       "    operands: 27\n",
       "24. MultiQubitGate(X, {1})\n",
       "    core type: Operation\n",
       "    operator: 30\n",
       "    operands: 28\n",
       "25. MultiQubitGate(SPACE, {1})\n",
       "    core type: Operation\n",
       "    operator: 30\n",
       "    operands: 29\n",
       "26. MultiQubitGate(Z, {1})\n",
       "    core type: Operation\n",
       "    operator: 30\n",
       "    operands: 31\n",
       "27. (H, {1})\n",
       "    core type: ExprTuple\n",
       "    sub-expressions: 32, 36\n",
       "28. (X, {1})\n",
       "    core type: ExprTuple\n",
       "    sub-expressions: 33, 36\n",
       "29. (SPACE, {1})\n",
       "    core type: ExprTuple\n",
       "    sub-expressions: 34, 36\n",
       "30. MULTI_QUBIT_GATE\n",
       "    core type: Literal\n",
       "    sub-expressions: \n",
       "31. (Z, {1})\n",
       "    core type: ExprTuple\n",
       "    sub-expressions: 35, 36\n",
       "32. H\n",
       "    core type: Literal\n",
       "    sub-expressions: \n",
       "33. X\n",
       "    core type: Literal\n",
       "    sub-expressions: \n",
       "34. SPACE\n",
       "    core type: Literal\n",
       "    sub-expressions: \n",
       "35. Z\n",
       "    core type: Literal\n",
       "    sub-expressions: \n",
       "36. {1}\n",
       "    core type: Operation\n",
       "    operator: 37\n",
       "    operand: 38\n",
       "37. Set\n",
       "    core type: Literal\n",
       "    sub-expressions: \n",
       "38. 1\n",
       "    core type: Literal\n",
       "    sub-expressions: "
      ]
     },
     "execution_count": 5,
     "metadata": {},
     "output_type": "execute_result"
    }
   ],
   "source": [
    "# display the expression information\n",
    "expr.expr_info()"
   ]
  },
  {
   "cell_type": "code",
   "execution_count": null,
   "metadata": {},
   "outputs": [],
   "source": []
  }
 ],
 "metadata": {
  "kernelspec": {
   "display_name": "Python 3",
   "language": "python",
   "name": "python3"
  }
 },
 "nbformat": 4,
 "nbformat_minor": 0
}