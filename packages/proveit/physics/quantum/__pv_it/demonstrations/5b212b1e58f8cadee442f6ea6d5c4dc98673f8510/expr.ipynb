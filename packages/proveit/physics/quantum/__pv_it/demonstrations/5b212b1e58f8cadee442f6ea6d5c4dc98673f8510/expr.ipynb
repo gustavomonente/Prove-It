{
 "cells": [
  {
   "cell_type": "markdown",
   "metadata": {},
   "source": [
    "Expression of type <a class=\"ProveItLink\" href=\"../../../../../../../doc/html/api/proveit.ExprArray.html\">ExprArray</a>\n",
    "=======================\n",
    "# from the theory of <a class=\"ProveItLink\" href=\"../../../_theory_nbs_/theory.ipynb\">proveit.physics.quantum</a>"
   ]
  },
  {
   "cell_type": "code",
   "execution_count": 1,
   "metadata": {},
   "outputs": [],
   "source": [
    "import proveit\n",
    "# Automation is not needed when building an expression:\n",
    "proveit.defaults.automation = False # This will speed things up.\n",
    "proveit.defaults.inline_pngs = False # Makes files smaller.\n",
    "%load_expr # Load the stored expression as 'stored_expr'\n",
    "# import Expression classes needed to build the expression\n",
    "from proveit import ExprArray\n",
    "from proveit.physics.quantum import CONTROL, Gate, H, Z"
   ]
  },
  {
   "cell_type": "code",
   "execution_count": 2,
   "metadata": {},
   "outputs": [
    {
     "data": {
      "text/html": [
       "<strong id=\"expr\">expr:</strong> <a class=\"ProveItLink\" href=\"expr.ipynb\"><img src=\"expr.png\" style=\"display:inline;vertical-align:middle;\" /></a><br>"
      ],
      "text/plain": [
       "expr: Gate(H)  \\\\ \n",
       "  Gate(Z)  \\\\ \n",
       "  Gate(CONTROL)"
      ]
     },
     "execution_count": 2,
     "metadata": {},
     "output_type": "execute_result"
    }
   ],
   "source": [
    "# build up the expression from sub-expressions\n",
    "expr = ExprArray([Gate(H)], [Gate(Z)], [Gate(CONTROL)])"
   ]
  },
  {
   "cell_type": "code",
   "execution_count": 3,
   "metadata": {},
   "outputs": [
    {
     "name": "stdout",
     "output_type": "stream",
     "text": [
      "Passed sanity check: expr matches stored_expr\n"
     ]
    }
   ],
   "source": [
    "# check that the built expression is the same as the stored expression\n",
    "assert expr == stored_expr\n",
    "assert expr._style_id == stored_expr._style_id\n",
    "print(\"Passed sanity check: expr matches stored_expr\")"
   ]
  },
  {
   "cell_type": "code",
   "execution_count": 4,
   "metadata": {},
   "outputs": [
    {
     "name": "stdout",
     "output_type": "stream",
     "text": [
      "\\begin{array} {c} \n",
      " \\hspace{2em} \\Qcircuit@C=1em @R=.7em{\n",
      "& \\gate{H} \n",
      "} \\hspace{2em}  \\\\ \n",
      "  \\hspace{2em} \\Qcircuit@C=1em @R=.7em{\n",
      "& \\gate{Z} \n",
      "} \\hspace{2em}  \\\\ \n",
      "  \\hspace{2em} \\Qcircuit@C=1em @R=.7em{\n",
      "& \\gate{CONTROL} \n",
      "} \\hspace{2em} \\end{array} \n",
      "\n"
     ]
    }
   ],
   "source": [
    "# Show the LaTeX representation of the expression for convenience if you need it.\n",
    "print(expr.latex())"
   ]
  },
  {
   "cell_type": "code",
   "execution_count": 5,
   "metadata": {},
   "outputs": [
    {
     "data": {
      "text/html": [
       "<table>\n",
       "<tr><th>name</th><th>description</th><th>default</th><th>current value</th><th>related methods</th></tr><tr><td>justification</td><td>justify to the 'left', 'center', or 'right' in the array cells</td><td>center</td><td>center</td><td>with_justification</td></tr>\n",
       "<tr><td>orientation</td><td>to be read from left to right then top to bottom ('horizontal') or to be read top to bottom then left to right ('vertical')</td><td>horizontal</td><td>horizontal</td><td>with_orientation</td></tr>\n",
       "<tr><td>parameterization</td><td>'implicit' (default for LaTeX formatting) hides the parameter the ExprRange so the parameterization may be ambiguous (e.g., x_{1+1}, ..., x_{n+1}); 'explicit' (default for string formatting) reveals the parameterization (e.g. x_{1+1}, ..x_{k+1}.., x_{n+1}).</td><td>None</td><td>None/False</td><td>('with_explicit_parameterization', 'with_implicit_parameterization', 'with_default_parameterization_style')</td></tr>\n",
       "</table>\n"
      ],
      "text/plain": [
       "style name: justification\n",
       "description: justify to the 'left', 'center', or 'right' in the array cells\n",
       "default: center\n",
       "current value: center\n",
       "related methods: with_justification\n",
       "style name: orientation\n",
       "description: to be read from left to right then top to bottom ('horizontal') or to be read top to bottom then left to right ('vertical')\n",
       "default: horizontal\n",
       "current value: horizontal\n",
       "related methods: with_orientation\n",
       "style name: parameterization\n",
       "description: 'implicit' (default for LaTeX formatting) hides the parameter the ExprRange so the parameterization may be ambiguous (e.g., x_{1+1}, ..., x_{n+1}); 'explicit' (default for string formatting) reveals the parameterization (e.g. x_{1+1}, ..x_{k+1}.., x_{n+1}).\n",
       "default: None\n",
       "current value: None/False\n",
       "related methods: ('with_explicit_parameterization', 'with_implicit_parameterization', 'with_default_parameterization_style')"
      ]
     },
     "execution_count": 5,
     "metadata": {},
     "output_type": "execute_result"
    }
   ],
   "source": [
    "expr.style_options()"
   ]
  },
  {
   "cell_type": "code",
   "execution_count": 6,
   "metadata": {},
   "outputs": [
    {
     "data": {
      "text/html": [
       "<table><tr><th>&nbsp;</th><th>core type</th><th>sub-expressions</th><th>expression</th></tr>\n",
       "<tr><td>0</td><td>ExprTuple</td><td>1, 2, 3</td><td><a class=\"ProveItLink\" href=\"expr.ipynb\"><img src=\"expr.png\" style=\"display:inline;vertical-align:middle;\" /></a></td></tr>\n",
       "<tr><td>1</td><td>ExprTuple</td><td>4</td><td><a class=\"ProveItLink\" href=\"../6c9ef5041faf1d7ddd8b5646740f5b12a9c7457b0/expr.ipynb\"><img src=\"../6c9ef5041faf1d7ddd8b5646740f5b12a9c7457b0/expr.png\" style=\"display:inline;vertical-align:middle;\" /></a></td></tr>\n",
       "<tr><td>2</td><td>ExprTuple</td><td>5</td><td><a class=\"ProveItLink\" href=\"../5cfe53c22ce65d80537c6070e3f7ee6161adb4bc0/expr.ipynb\"><img src=\"../5cfe53c22ce65d80537c6070e3f7ee6161adb4bc0/expr.png\" style=\"display:inline;vertical-align:middle;\" /></a></td></tr>\n",
       "<tr><td>3</td><td>ExprTuple</td><td>6</td><td><a class=\"ProveItLink\" href=\"../848701ef5fcde97fdff1efb3410a08164c9ad21d0/expr.ipynb\"><img src=\"../848701ef5fcde97fdff1efb3410a08164c9ad21d0/expr.png\" style=\"display:inline;vertical-align:middle;\" /></a></td></tr>\n",
       "<tr><td>4</td><td>Operation</td><td>operator:&nbsp;9<br>operand:&nbsp;11<br></td><td><a class=\"ProveItLink\" href=\"../1e637d6dfa672aaca79e059d8b20023dc3ee84910/expr.ipynb\"><img src=\"../1e637d6dfa672aaca79e059d8b20023dc3ee84910/expr.png\" style=\"display:inline;vertical-align:middle;\" /></a></td></tr>\n",
       "<tr><td>5</td><td>Operation</td><td>operator:&nbsp;9<br>operand:&nbsp;12<br></td><td><a class=\"ProveItLink\" href=\"../71fd0cfc58e2b75293685a7d73d8fe13b3d71ca70/expr.ipynb\"><img src=\"../71fd0cfc58e2b75293685a7d73d8fe13b3d71ca70/expr.png\" style=\"display:inline;vertical-align:middle;\" /></a></td></tr>\n",
       "<tr><td>6</td><td>Operation</td><td>operator:&nbsp;9<br>operand:&nbsp;13<br></td><td><a class=\"ProveItLink\" href=\"../303880570e883590a09bdde9cca5f0d66a96f9e00/expr.ipynb\"><img src=\"../303880570e883590a09bdde9cca5f0d66a96f9e00/expr.png\" style=\"display:inline;vertical-align:middle;\" /></a></td></tr>\n",
       "<tr><td>7</td><td>ExprTuple</td><td>11</td><td><a class=\"ProveItLink\" href=\"../305f4dde1b23f618d8c3b6406524ca18970907570/expr.ipynb\"><img src=\"../305f4dde1b23f618d8c3b6406524ca18970907570/expr.png\" style=\"display:inline;vertical-align:middle;\" /></a></td></tr>\n",
       "<tr><td>8</td><td>ExprTuple</td><td>12</td><td><a class=\"ProveItLink\" href=\"../c0105363c02768e974112ee627a260dc904888f80/expr.ipynb\"><img src=\"../c0105363c02768e974112ee627a260dc904888f80/expr.png\" style=\"display:inline;vertical-align:middle;\" /></a></td></tr>\n",
       "<tr><td>9</td><td>Literal</td><td></td><td><a class=\"ProveItLink\" href=\"../../common/44032ea2879a75be63dcfde93f5992fe3f6108fc0/expr.ipynb\"><img src=\"../../common/44032ea2879a75be63dcfde93f5992fe3f6108fc0/expr.png\" style=\"display:inline;vertical-align:middle;\" /></a></td></tr>\n",
       "<tr><td>10</td><td>ExprTuple</td><td>13</td><td><a class=\"ProveItLink\" href=\"../5186257a8e3b44b33d73b1bc9eeae9b06b53079c0/expr.ipynb\"><img src=\"../5186257a8e3b44b33d73b1bc9eeae9b06b53079c0/expr.png\" style=\"display:inline;vertical-align:middle;\" /></a></td></tr>\n",
       "<tr><td>11</td><td>Literal</td><td></td><td><a class=\"ProveItLink\" href=\"../../common/368cf31b7f078f904d5478ccb332c7d15763fe920/expr.ipynb\"><img src=\"../../common/368cf31b7f078f904d5478ccb332c7d15763fe920/expr.png\" style=\"display:inline;vertical-align:middle;\" /></a></td></tr>\n",
       "<tr><td>12</td><td>Literal</td><td></td><td><a class=\"ProveItLink\" href=\"../../common/c9c8328efedcafef6f2fc9fe107a9c89fd772b250/expr.ipynb\"><img src=\"../../common/c9c8328efedcafef6f2fc9fe107a9c89fd772b250/expr.png\" style=\"display:inline;vertical-align:middle;\" /></a></td></tr>\n",
       "<tr><td>13</td><td>Literal</td><td></td><td><a class=\"ProveItLink\" href=\"../../common/b1beec78d8cd5a1effa0b2b1f6910261ffe687cf0/expr.ipynb\"><img src=\"../../common/b1beec78d8cd5a1effa0b2b1f6910261ffe687cf0/expr.png\" style=\"display:inline;vertical-align:middle;\" /></a></td></tr>\n",
       "</table>\n"
      ],
      "text/plain": [
       "0. Gate(H)  \\\\ \n",
       "  Gate(Z)  \\\\ \n",
       "  Gate(CONTROL)\n",
       "   core type: ExprTuple\n",
       "   sub-expressions: 1, 2, 3\n",
       "1. (Gate(H))\n",
       "   core type: ExprTuple\n",
       "   sub-expressions: 4\n",
       "2. (Gate(Z))\n",
       "   core type: ExprTuple\n",
       "   sub-expressions: 5\n",
       "3. (Gate(CONTROL))\n",
       "   core type: ExprTuple\n",
       "   sub-expressions: 6\n",
       "4. Gate(H)\n",
       "   core type: Operation\n",
       "   operator: 9\n",
       "   operand: 11\n",
       "5. Gate(Z)\n",
       "   core type: Operation\n",
       "   operator: 9\n",
       "   operand: 12\n",
       "6. Gate(CONTROL)\n",
       "   core type: Operation\n",
       "   operator: 9\n",
       "   operand: 13\n",
       "7. (H)\n",
       "   core type: ExprTuple\n",
       "   sub-expressions: 11\n",
       "8. (Z)\n",
       "   core type: ExprTuple\n",
       "   sub-expressions: 12\n",
       "9. GATE\n",
       "   core type: Literal\n",
       "   sub-expressions: \n",
       "10. (CONTROL)\n",
       "    core type: ExprTuple\n",
       "    sub-expressions: 13\n",
       "11. H\n",
       "    core type: Literal\n",
       "    sub-expressions: \n",
       "12. Z\n",
       "    core type: Literal\n",
       "    sub-expressions: \n",
       "13. CONTROL\n",
       "    core type: Literal\n",
       "    sub-expressions: "
      ]
     },
     "execution_count": 6,
     "metadata": {},
     "output_type": "execute_result"
    }
   ],
   "source": [
    "# display the expression information\n",
    "expr.expr_info()"
   ]
  },
  {
   "cell_type": "code",
   "execution_count": null,
   "metadata": {},
   "outputs": [],
   "source": []
  }
 ],
 "metadata": {
  "kernelspec": {
   "display_name": "Python 3",
   "language": "python",
   "name": "python3"
  }
 },
 "nbformat": 4,
 "nbformat_minor": 0
}