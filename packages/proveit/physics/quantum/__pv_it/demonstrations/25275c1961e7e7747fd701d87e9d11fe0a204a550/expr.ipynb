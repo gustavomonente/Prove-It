{
 "cells": [
  {
   "cell_type": "markdown",
   "metadata": {},
   "source": [
    "Expression of type <a class=\"ProveItLink\" href=\"../../../../../../../doc/html/api/proveit.physics.quantum.circuit.Circuit.html\">Circuit</a>\n",
    "=======================\n",
    "# from the theory of <a class=\"ProveItLink\" href=\"../../../_theory_nbs_/theory.ipynb\">proveit.physics.quantum</a>"
   ]
  },
  {
   "cell_type": "code",
   "execution_count": 1,
   "metadata": {},
   "outputs": [],
   "source": [
    "import proveit\n",
    "# Automation is not needed when building an expression:\n",
    "proveit.defaults.automation = False # This will speed things up.\n",
    "proveit.defaults.inline_pngs = False # Makes files smaller.\n",
    "%load_expr # Load the stored expression as 'stored_expr'\n",
    "# import Expression classes needed to build the expression\n",
    "from proveit import ExprArray\n",
    "from proveit.physics.quantum import Gate, Input, Output, X, Z, ket_psi\n",
    "from proveit.physics.quantum.circuit import Circuit"
   ]
  },
  {
   "cell_type": "code",
   "execution_count": 2,
   "metadata": {},
   "outputs": [
    {
     "data": {
      "text/html": [
       "<strong id=\"expr\">expr:</strong> <a class=\"ProveItLink\" href=\"expr.ipynb\"><img src=\"expr.png\" style=\"display:inline;vertical-align:middle;\" /></a><br>"
      ],
      "text/plain": [
       "expr:  Input(|psi〉)  & Gate(Z)  & Gate(Z)  & Output(|psi〉)   \\\\ \n",
       "   Input(|psi〉)  & Gate(X)  & Gate(X)  & Output(|psi〉)"
      ]
     },
     "execution_count": 2,
     "metadata": {},
     "output_type": "execute_result"
    }
   ],
   "source": [
    "# build up the expression from sub-expressions\n",
    "sub_expr1 = Gate(Z)\n",
    "sub_expr2 = Gate(X)\n",
    "sub_expr3 = Input(ket_psi)\n",
    "sub_expr4 = Output(ket_psi)\n",
    "expr = Circuit(ExprArray([sub_expr3, sub_expr1, sub_expr1, sub_expr4], [sub_expr3, sub_expr2, sub_expr2, sub_expr4]))"
   ]
  },
  {
   "cell_type": "code",
   "execution_count": 3,
   "metadata": {},
   "outputs": [
    {
     "name": "stdout",
     "output_type": "stream",
     "text": [
      "Passed sanity check: expr matches stored_expr\n"
     ]
    }
   ],
   "source": [
    "# check that the built expression is the same as the stored expression\n",
    "assert expr == stored_expr\n",
    "assert expr._style_id == stored_expr._style_id\n",
    "print(\"Passed sanity check: expr matches stored_expr\")"
   ]
  },
  {
   "cell_type": "code",
   "execution_count": 4,
   "metadata": {},
   "outputs": [
    {
     "name": "stdout",
     "output_type": "stream",
     "text": [
      "\\hspace{2em} \\Qcircuit@C=1em @R=.7em{\n",
      "& \\lstick{\\lvert \\psi \\rangle} & \\gate{Z} & \\gate{Z} & \\rstick{\\lvert \\psi \\rangle} \\qw   \\\\ \n",
      "  & \\lstick{\\lvert \\psi \\rangle} & \\gate{X} & \\gate{X} & \\rstick{\\lvert \\psi \\rangle} \\qw \n",
      "} \\hspace{2em}\n"
     ]
    }
   ],
   "source": [
    "# Show the LaTeX representation of the expression for convenience if you need it.\n",
    "print(expr.latex())"
   ]
  },
  {
   "cell_type": "code",
   "execution_count": 5,
   "metadata": {},
   "outputs": [
    {
     "data": {
      "text/html": [
       "<table>\n",
       "<tr><th>name</th><th>description</th><th>default</th><th>current value</th><th>related methods</th></tr><tr><td>spacing</td><td>change the spacing of a circuit using the format '@C=1em @R=.7em' where C is the column spacing and R is the row spacing</td><td>@C=1em @R=.7em</td><td>@C=1em @R=.7em</td><td></td></tr>\n",
       "<tr><td>orientation</td><td>to be read from left to right then top to bottom ('horizontal') or to be read top to bottom then left to right ('vertical')</td><td>horizontal</td><td>horizontal</td><td>with_orientation</td></tr>\n",
       "</table>\n"
      ],
      "text/plain": [
       "style name: spacing\n",
       "description: change the spacing of a circuit using the format '@C=1em @R=.7em' where C is the column spacing and R is the row spacing\n",
       "default: @C=1em @R=.7em\n",
       "current value: @C=1em @R=.7em\n",
       "related methods: ()\n",
       "style name: orientation\n",
       "description: to be read from left to right then top to bottom ('horizontal') or to be read top to bottom then left to right ('vertical')\n",
       "default: horizontal\n",
       "current value: horizontal\n",
       "related methods: with_orientation"
      ]
     },
     "execution_count": 5,
     "metadata": {},
     "output_type": "execute_result"
    }
   ],
   "source": [
    "expr.style_options()"
   ]
  },
  {
   "cell_type": "code",
   "execution_count": 6,
   "metadata": {},
   "outputs": [
    {
     "data": {
      "text/html": [
       "<table><tr><th>&nbsp;</th><th>core type</th><th>sub-expressions</th><th>expression</th></tr>\n",
       "<tr><td>0</td><td>Operation</td><td>operator:&nbsp;1<br>operand:&nbsp;3<br></td><td><a class=\"ProveItLink\" href=\"expr.ipynb\"><img src=\"expr.png\" style=\"display:inline;vertical-align:middle;\" /></a></td></tr>\n",
       "<tr><td>1</td><td>Literal</td><td></td><td><a class=\"ProveItLink\" href=\"../../common/bfa5cfb2e03dde2ed2a79fcd50b6e0ef7e57c1b10/expr.ipynb\"><img src=\"../../common/bfa5cfb2e03dde2ed2a79fcd50b6e0ef7e57c1b10/expr.png\" style=\"display:inline;vertical-align:middle;\" /></a></td></tr>\n",
       "<tr><td>2</td><td>ExprTuple</td><td>3</td><td><a class=\"ProveItLink\" href=\"../6b9471f03afe070e500a4daecf5aa4bb872f791b0/expr.ipynb\"><img src=\"../6b9471f03afe070e500a4daecf5aa4bb872f791b0/expr.png\" style=\"display:inline;vertical-align:middle;\" /></a></td></tr>\n",
       "<tr><td>3</td><td>ExprTuple</td><td>4, 5</td><td><a class=\"ProveItLink\" href=\"../4b8d54c3f5f5ba847f7aa4e7bd38ad1cb1b87a850/expr.ipynb\"><img src=\"../4b8d54c3f5f5ba847f7aa4e7bd38ad1cb1b87a850/expr.png\" style=\"display:inline;vertical-align:middle;\" /></a></td></tr>\n",
       "<tr><td>4</td><td>ExprTuple</td><td>7, 6, 6, 9</td><td><a class=\"ProveItLink\" href=\"../16e37b9f21e0d2efdfd58c3f63cb31fb88a00c590/expr.ipynb\"><img src=\"../16e37b9f21e0d2efdfd58c3f63cb31fb88a00c590/expr.png\" style=\"display:inline;vertical-align:middle;\" /></a></td></tr>\n",
       "<tr><td>5</td><td>ExprTuple</td><td>7, 8, 8, 9</td><td><a class=\"ProveItLink\" href=\"../dd6bb53d7954ce481601d23950f294bec604253a0/expr.ipynb\"><img src=\"../dd6bb53d7954ce481601d23950f294bec604253a0/expr.png\" style=\"display:inline;vertical-align:middle;\" /></a></td></tr>\n",
       "<tr><td>6</td><td>Operation</td><td>operator:&nbsp;12<br>operand:&nbsp;16<br></td><td><a class=\"ProveItLink\" href=\"../71fd0cfc58e2b75293685a7d73d8fe13b3d71ca70/expr.ipynb\"><img src=\"../71fd0cfc58e2b75293685a7d73d8fe13b3d71ca70/expr.png\" style=\"display:inline;vertical-align:middle;\" /></a></td></tr>\n",
       "<tr><td>7</td><td>Operation</td><td>operator:&nbsp;11<br>operand:&nbsp;18<br></td><td><a class=\"ProveItLink\" href=\"../0a85cd42046905c00d72d2ca34893d3038820e630/expr.ipynb\"><img src=\"../0a85cd42046905c00d72d2ca34893d3038820e630/expr.png\" style=\"display:inline;vertical-align:middle;\" /></a></td></tr>\n",
       "<tr><td>8</td><td>Operation</td><td>operator:&nbsp;12<br>operand:&nbsp;17<br></td><td><a class=\"ProveItLink\" href=\"../350791414447e1b0b2ab22a04505f79c86873bbe0/expr.ipynb\"><img src=\"../350791414447e1b0b2ab22a04505f79c86873bbe0/expr.png\" style=\"display:inline;vertical-align:middle;\" /></a></td></tr>\n",
       "<tr><td>9</td><td>Operation</td><td>operator:&nbsp;14<br>operand:&nbsp;18<br></td><td><a class=\"ProveItLink\" href=\"../77a1a33eeb22dbd103d56555a50599189cd75aab0/expr.ipynb\"><img src=\"../77a1a33eeb22dbd103d56555a50599189cd75aab0/expr.png\" style=\"display:inline;vertical-align:middle;\" /></a></td></tr>\n",
       "<tr><td>10</td><td>ExprTuple</td><td>16</td><td><a class=\"ProveItLink\" href=\"../c0105363c02768e974112ee627a260dc904888f80/expr.ipynb\"><img src=\"../c0105363c02768e974112ee627a260dc904888f80/expr.png\" style=\"display:inline;vertical-align:middle;\" /></a></td></tr>\n",
       "<tr><td>11</td><td>Literal</td><td></td><td><a class=\"ProveItLink\" href=\"../../common/96232b9016d8d3baf1cf9772ef796ddaf8f7f4610/expr.ipynb\"><img src=\"../../common/96232b9016d8d3baf1cf9772ef796ddaf8f7f4610/expr.png\" style=\"display:inline;vertical-align:middle;\" /></a></td></tr>\n",
       "<tr><td>12</td><td>Literal</td><td></td><td><a class=\"ProveItLink\" href=\"../../common/44032ea2879a75be63dcfde93f5992fe3f6108fc0/expr.ipynb\"><img src=\"../../common/44032ea2879a75be63dcfde93f5992fe3f6108fc0/expr.png\" style=\"display:inline;vertical-align:middle;\" /></a></td></tr>\n",
       "<tr><td>13</td><td>ExprTuple</td><td>17</td><td><a class=\"ProveItLink\" href=\"../69c34dcfd0a394a30596030b438462e220d678350/expr.ipynb\"><img src=\"../69c34dcfd0a394a30596030b438462e220d678350/expr.png\" style=\"display:inline;vertical-align:middle;\" /></a></td></tr>\n",
       "<tr><td>14</td><td>Literal</td><td></td><td><a class=\"ProveItLink\" href=\"../../common/a31fa972f0ff74e32d7bde73a99a2ddf76467fac0/expr.ipynb\"><img src=\"../../common/a31fa972f0ff74e32d7bde73a99a2ddf76467fac0/expr.png\" style=\"display:inline;vertical-align:middle;\" /></a></td></tr>\n",
       "<tr><td>15</td><td>ExprTuple</td><td>18</td><td><a class=\"ProveItLink\" href=\"../07b8da570d587b1b221aba34684585e765393d3d0/expr.ipynb\"><img src=\"../07b8da570d587b1b221aba34684585e765393d3d0/expr.png\" style=\"display:inline;vertical-align:middle;\" /></a></td></tr>\n",
       "<tr><td>16</td><td>Literal</td><td></td><td><a class=\"ProveItLink\" href=\"../../common/c9c8328efedcafef6f2fc9fe107a9c89fd772b250/expr.ipynb\"><img src=\"../../common/c9c8328efedcafef6f2fc9fe107a9c89fd772b250/expr.png\" style=\"display:inline;vertical-align:middle;\" /></a></td></tr>\n",
       "<tr><td>17</td><td>Literal</td><td></td><td><a class=\"ProveItLink\" href=\"../../common/94315bad5d6fa05ec6d0fac545cf2b5b7ed20d800/expr.ipynb\"><img src=\"../../common/94315bad5d6fa05ec6d0fac545cf2b5b7ed20d800/expr.png\" style=\"display:inline;vertical-align:middle;\" /></a></td></tr>\n",
       "<tr><td>18</td><td>Operation</td><td>operator:&nbsp;19<br>operand:&nbsp;21<br></td><td><a class=\"ProveItLink\" href=\"../../common/61c7524fbf87b3fb3718ca1a2b7f14424b3b338a0/expr.ipynb\"><img src=\"../../common/61c7524fbf87b3fb3718ca1a2b7f14424b3b338a0/expr.png\" style=\"display:inline;vertical-align:middle;\" /></a></td></tr>\n",
       "<tr><td>19</td><td>Literal</td><td></td><td><a class=\"ProveItLink\" href=\"../../common/6e9e7d19bd9dfa08dee7501fca955461a19971770/expr.ipynb\"><img src=\"../../common/6e9e7d19bd9dfa08dee7501fca955461a19971770/expr.png\" style=\"display:inline;vertical-align:middle;\" /></a></td></tr>\n",
       "<tr><td>20</td><td>ExprTuple</td><td>21</td><td><a class=\"ProveItLink\" href=\"../../common/76f9f31f8bf4c47669afa10d9f725c2a70b786610/expr.ipynb\"><img src=\"../../common/76f9f31f8bf4c47669afa10d9f725c2a70b786610/expr.png\" style=\"display:inline;vertical-align:middle;\" /></a></td></tr>\n",
       "<tr><td>21</td><td>Literal</td><td></td><td><a class=\"ProveItLink\" href=\"../../common/11fa3af15bc9f82a2972f29fb6357a1d11f74d010/expr.ipynb\"><img src=\"../../common/11fa3af15bc9f82a2972f29fb6357a1d11f74d010/expr.png\" style=\"display:inline;vertical-align:middle;\" /></a></td></tr>\n",
       "</table>\n"
      ],
      "text/plain": [
       "0.  Input(|psi〉)  & Gate(Z)  & Gate(Z)  & Output(|psi〉)   \\\\ \n",
       "   Input(|psi〉)  & Gate(X)  & Gate(X)  & Output(|psi〉)\n",
       "   core type: Operation\n",
       "   operator: 1\n",
       "   operand: 3\n",
       "1. CIRCUIT\n",
       "   core type: Literal\n",
       "   sub-expressions: \n",
       "2. ((Input(|psi〉) & Gate(Z) & Gate(Z) & Output(|psi〉)  \\\\ \n",
       "  Input(|psi〉) & Gate(X) & Gate(X) & Output(|psi〉)))\n",
       "   core type: ExprTuple\n",
       "   sub-expressions: 3\n",
       "3. Input(|psi〉) & Gate(Z) & Gate(Z) & Output(|psi〉)  \\\\ \n",
       "  Input(|psi〉) & Gate(X) & Gate(X) & Output(|psi〉)\n",
       "   core type: ExprTuple\n",
       "   sub-expressions: 4, 5\n",
       "4. (Input(|psi〉), Gate(Z), Gate(Z), Output(|psi〉))\n",
       "   core type: ExprTuple\n",
       "   sub-expressions: 7, 6, 6, 9\n",
       "5. (Input(|psi〉), Gate(X), Gate(X), Output(|psi〉))\n",
       "   core type: ExprTuple\n",
       "   sub-expressions: 7, 8, 8, 9\n",
       "6. Gate(Z)\n",
       "   core type: Operation\n",
       "   operator: 12\n",
       "   operand: 16\n",
       "7. Input(|psi〉)\n",
       "   core type: Operation\n",
       "   operator: 11\n",
       "   operand: 18\n",
       "8. Gate(X)\n",
       "   core type: Operation\n",
       "   operator: 12\n",
       "   operand: 17\n",
       "9. Output(|psi〉)\n",
       "   core type: Operation\n",
       "   operator: 14\n",
       "   operand: 18\n",
       "10. (Z)\n",
       "    core type: ExprTuple\n",
       "    sub-expressions: 16\n",
       "11. INPUT\n",
       "    core type: Literal\n",
       "    sub-expressions: \n",
       "12. GATE\n",
       "    core type: Literal\n",
       "    sub-expressions: \n",
       "13. (X)\n",
       "    core type: ExprTuple\n",
       "    sub-expressions: 17\n",
       "14. OUTPUT\n",
       "    core type: Literal\n",
       "    sub-expressions: \n",
       "15. (|psi〉)\n",
       "    core type: ExprTuple\n",
       "    sub-expressions: 18\n",
       "16. Z\n",
       "    core type: Literal\n",
       "    sub-expressions: \n",
       "17. X\n",
       "    core type: Literal\n",
       "    sub-expressions: \n",
       "18. |psi〉\n",
       "    core type: Operation\n",
       "    operator: 19\n",
       "    operand: 21\n",
       "19. KET\n",
       "    core type: Literal\n",
       "    sub-expressions: \n",
       "20. (psi)\n",
       "    core type: ExprTuple\n",
       "    sub-expressions: 21\n",
       "21. psi\n",
       "    core type: Literal\n",
       "    sub-expressions: "
      ]
     },
     "execution_count": 6,
     "metadata": {},
     "output_type": "execute_result"
    }
   ],
   "source": [
    "# display the expression information\n",
    "expr.expr_info()"
   ]
  },
  {
   "cell_type": "code",
   "execution_count": null,
   "metadata": {},
   "outputs": [],
   "source": []
  }
 ],
 "metadata": {
  "kernelspec": {
   "display_name": "Python 3",
   "language": "python",
   "name": "python3"
  }
 },
 "nbformat": 4,
 "nbformat_minor": 0
}