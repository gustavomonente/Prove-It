{
 "cells": [
  {
   "cell_type": "markdown",
   "metadata": {},
   "source": [
    "Expression of type <a class=\"ProveItLink\" href=\"../../../../../../../doc/html/api/proveit.physics.quantum.circuit.Circuit.html\">Circuit</a>\n",
    "=======================\n",
    "# from the theory of <a class=\"ProveItLink\" href=\"../../../_theory_nbs_/theory.ipynb\">proveit.physics.quantum</a>"
   ]
  },
  {
   "cell_type": "code",
   "execution_count": 1,
   "metadata": {},
   "outputs": [],
   "source": [
    "import proveit\n",
    "# Automation is not needed when building an expression:\n",
    "proveit.defaults.automation = False # This will speed things up.\n",
    "proveit.defaults.inline_pngs = False # Makes files smaller.\n",
    "%load_expr # Load the stored expression as 'stored_expr'\n",
    "# import Expression classes needed to build the expression\n",
    "from proveit import A, ExprArray\n",
    "from proveit.logic import Set\n",
    "from proveit.numbers import four, one, three, two\n",
    "from proveit.physics.quantum import H, Z\n",
    "from proveit.physics.quantum.circuit import Circuit, MultiQubitGate"
   ]
  },
  {
   "cell_type": "code",
   "execution_count": 2,
   "metadata": {},
   "outputs": [
    {
     "data": {
      "text/html": [
       "<strong id=\"expr\">expr:</strong> <a class=\"ProveItLink\" href=\"expr.ipynb\"><img src=\"expr.png\" style=\"display:inline;vertical-align:middle;\" /></a><br>"
      ],
      "text/plain": [
       "expr:  MultiQubitGate(Z, {1, 2})   \\\\ \n",
       "   MultiQubitGate(Z, {1, 2})   \\\\ \n",
       "   MultiQubitGate(H, {3, 4})   \\\\ \n",
       "   MultiQubitGate(A, {3, 4})"
      ]
     },
     "execution_count": 2,
     "metadata": {},
     "output_type": "execute_result"
    }
   ],
   "source": [
    "# build up the expression from sub-expressions\n",
    "sub_expr1 = Set(three, four)\n",
    "sub_expr2 = [MultiQubitGate(Z, Set(one, two))]\n",
    "expr = Circuit(ExprArray(sub_expr2, sub_expr2, [MultiQubitGate(H, sub_expr1)], [MultiQubitGate(A, sub_expr1)]))"
   ]
  },
  {
   "cell_type": "code",
   "execution_count": 3,
   "metadata": {},
   "outputs": [
    {
     "name": "stdout",
     "output_type": "stream",
     "text": [
      "Passed sanity check: expr matches stored_expr\n"
     ]
    }
   ],
   "source": [
    "# check that the built expression is the same as the stored expression\n",
    "assert expr == stored_expr\n",
    "assert expr._style_id == stored_expr._style_id\n",
    "print(\"Passed sanity check: expr matches stored_expr\")"
   ]
  },
  {
   "cell_type": "code",
   "execution_count": 4,
   "metadata": {},
   "outputs": [
    {
     "name": "stdout",
     "output_type": "stream",
     "text": [
      "\\hspace{2em} \\Qcircuit@C=1em @R=.7em{\n",
      "& \\multigate{1}{Z}   \\\\ \n",
      "  & \\ghost{Z}   \\\\ \n",
      "  & \\gate{H} \\qwx[1]   \\\\ \n",
      "  & \\gate{A} \n",
      "} \\hspace{2em}\n"
     ]
    }
   ],
   "source": [
    "# Show the LaTeX representation of the expression for convenience if you need it.\n",
    "print(expr.latex())"
   ]
  },
  {
   "cell_type": "code",
   "execution_count": 5,
   "metadata": {},
   "outputs": [
    {
     "data": {
      "text/html": [
       "<table><tr><th>&nbsp;</th><th>core type</th><th>sub-expressions</th><th>expression</th></tr>\n",
       "<tr><td>0</td><td>Operation</td><td>operator:&nbsp;1<br>operand:&nbsp;3<br></td><td><a class=\"ProveItLink\" href=\"expr.ipynb\"><img src=\"expr.png\" style=\"display:inline;vertical-align:middle;\" /></a></td></tr>\n",
       "<tr><td>1</td><td>Literal</td><td></td><td><a class=\"ProveItLink\" href=\"../../common/409f940d39947a3c17092974bfa20c1d4da6996c0/expr.ipynb\"><img src=\"../../common/409f940d39947a3c17092974bfa20c1d4da6996c0/expr.png\" style=\"display:inline;vertical-align:middle;\" /></a></td></tr>\n",
       "<tr><td>2</td><td>ExprTuple</td><td>3</td><td><a class=\"ProveItLink\" href=\"../e6c6042db4b372744c248a518f07ad8122fd87c90/expr.ipynb\"><img src=\"../e6c6042db4b372744c248a518f07ad8122fd87c90/expr.png\" style=\"display:inline;vertical-align:middle;\" /></a></td></tr>\n",
       "<tr><td>3</td><td>ExprTuple</td><td>4, 4, 5, 6</td><td><a class=\"ProveItLink\" href=\"../2298012884da0374db0ae01f5a0b63d01c86ab390/expr.ipynb\"><img src=\"../2298012884da0374db0ae01f5a0b63d01c86ab390/expr.png\" style=\"display:inline;vertical-align:middle;\" /></a></td></tr>\n",
       "<tr><td>4</td><td>ExprTuple</td><td>7</td><td><a class=\"ProveItLink\" href=\"../64693f62920282c8f78a593092e93815f5c7e5b20/expr.ipynb\"><img src=\"../64693f62920282c8f78a593092e93815f5c7e5b20/expr.png\" style=\"display:inline;vertical-align:middle;\" /></a></td></tr>\n",
       "<tr><td>5</td><td>ExprTuple</td><td>8</td><td><a class=\"ProveItLink\" href=\"../3c24c1653c36489cfd7669688188cc6471918b840/expr.ipynb\"><img src=\"../3c24c1653c36489cfd7669688188cc6471918b840/expr.png\" style=\"display:inline;vertical-align:middle;\" /></a></td></tr>\n",
       "<tr><td>6</td><td>ExprTuple</td><td>9</td><td><a class=\"ProveItLink\" href=\"../84d41e8257ba074e44d82d75ad9bfc32ccb6bdb00/expr.ipynb\"><img src=\"../84d41e8257ba074e44d82d75ad9bfc32ccb6bdb00/expr.png\" style=\"display:inline;vertical-align:middle;\" /></a></td></tr>\n",
       "<tr><td>7</td><td>Operation</td><td>operator:&nbsp;12<br>operands:&nbsp;10<br></td><td><a class=\"ProveItLink\" href=\"../efb4ac8694eae124ac63c6c76baa2bd6284317510/expr.ipynb\"><img src=\"../efb4ac8694eae124ac63c6c76baa2bd6284317510/expr.png\" style=\"display:inline;vertical-align:middle;\" /></a></td></tr>\n",
       "<tr><td>8</td><td>Operation</td><td>operator:&nbsp;12<br>operands:&nbsp;11<br></td><td><a class=\"ProveItLink\" href=\"../952637bc3b1a6c26f82db8ba12cdcbff354dff0d0/expr.ipynb\"><img src=\"../952637bc3b1a6c26f82db8ba12cdcbff354dff0d0/expr.png\" style=\"display:inline;vertical-align:middle;\" /></a></td></tr>\n",
       "<tr><td>9</td><td>Operation</td><td>operator:&nbsp;12<br>operands:&nbsp;13<br></td><td><a class=\"ProveItLink\" href=\"../a1522385bd5cf9b193869e52e5775d63bf42ae910/expr.ipynb\"><img src=\"../a1522385bd5cf9b193869e52e5775d63bf42ae910/expr.png\" style=\"display:inline;vertical-align:middle;\" /></a></td></tr>\n",
       "<tr><td>10</td><td>ExprTuple</td><td>14, 15</td><td><a class=\"ProveItLink\" href=\"../94cb6759d079fdab5767d473628284ffbe2182fd0/expr.ipynb\"><img src=\"../94cb6759d079fdab5767d473628284ffbe2182fd0/expr.png\" style=\"display:inline;vertical-align:middle;\" /></a></td></tr>\n",
       "<tr><td>11</td><td>ExprTuple</td><td>16, 18</td><td><a class=\"ProveItLink\" href=\"../5c072abd863ead7a696991144a182e7adbeeaa5f0/expr.ipynb\"><img src=\"../5c072abd863ead7a696991144a182e7adbeeaa5f0/expr.png\" style=\"display:inline;vertical-align:middle;\" /></a></td></tr>\n",
       "<tr><td>12</td><td>Literal</td><td></td><td><a class=\"ProveItLink\" href=\"../../common/7e400d333e3c53d1c3dd14244e4b33f4cea327190/expr.ipynb\"><img src=\"../../common/7e400d333e3c53d1c3dd14244e4b33f4cea327190/expr.png\" style=\"display:inline;vertical-align:middle;\" /></a></td></tr>\n",
       "<tr><td>13</td><td>ExprTuple</td><td>17, 18</td><td><a class=\"ProveItLink\" href=\"../73d0fd08b9d4dec9f3d450e25d27b714ec23856c0/expr.ipynb\"><img src=\"../73d0fd08b9d4dec9f3d450e25d27b714ec23856c0/expr.png\" style=\"display:inline;vertical-align:middle;\" /></a></td></tr>\n",
       "<tr><td>14</td><td>Literal</td><td></td><td><a class=\"ProveItLink\" href=\"../../common/2c528f33b8384666a054a8146aa84d2f45cc85490/expr.ipynb\"><img src=\"../../common/2c528f33b8384666a054a8146aa84d2f45cc85490/expr.png\" style=\"display:inline;vertical-align:middle;\" /></a></td></tr>\n",
       "<tr><td>15</td><td>Operation</td><td>operator:&nbsp;20<br>operands:&nbsp;19<br></td><td><a class=\"ProveItLink\" href=\"../6d2e6228174cb3bf8cf9e7f15237d2afe8f4e6700/expr.ipynb\"><img src=\"../6d2e6228174cb3bf8cf9e7f15237d2afe8f4e6700/expr.png\" style=\"display:inline;vertical-align:middle;\" /></a></td></tr>\n",
       "<tr><td>16</td><td>Literal</td><td></td><td><a class=\"ProveItLink\" href=\"../../common/e874333991a6db337cd004ff6daee55a9e80aa5b0/expr.ipynb\"><img src=\"../../common/e874333991a6db337cd004ff6daee55a9e80aa5b0/expr.png\" style=\"display:inline;vertical-align:middle;\" /></a></td></tr>\n",
       "<tr><td>17</td><td>Variable</td><td></td><td><a class=\"ProveItLink\" href=\"../../../../../__pv_it/common/09585084922504426caf1db2ff588a23a0932a960/expr.ipynb\"><img src=\"../../../../../__pv_it/common/09585084922504426caf1db2ff588a23a0932a960/expr.png\" style=\"display:inline;vertical-align:middle;\" /></a></td></tr>\n",
       "<tr><td>18</td><td>Operation</td><td>operator:&nbsp;20<br>operands:&nbsp;21<br></td><td><a class=\"ProveItLink\" href=\"../90ea414fa08ab4f2c59b595f423ad191279c7a500/expr.ipynb\"><img src=\"../90ea414fa08ab4f2c59b595f423ad191279c7a500/expr.png\" style=\"display:inline;vertical-align:middle;\" /></a></td></tr>\n",
       "<tr><td>19</td><td>ExprTuple</td><td>22, 23</td><td><a class=\"ProveItLink\" href=\"../../../../../numbers/numerals/decimals/__pv_it/theorems/95fdce2c03f4c1a2c47c63453ccf25285abc1a5c0/expr.ipynb\"><img src=\"../../../../../numbers/numerals/decimals/__pv_it/theorems/95fdce2c03f4c1a2c47c63453ccf25285abc1a5c0/expr.png\" style=\"display:inline;vertical-align:middle;\" /></a></td></tr>\n",
       "<tr><td>20</td><td>Literal</td><td></td><td><a class=\"ProveItLink\" href=\"../../../../../logic/sets/enumeration/__pv_it/common/0ead90ccbf4f17bc585a51f8aa904bb77916ae6e0/expr.ipynb\"><img src=\"../../../../../logic/sets/enumeration/__pv_it/common/0ead90ccbf4f17bc585a51f8aa904bb77916ae6e0/expr.png\" style=\"display:inline;vertical-align:middle;\" /></a></td></tr>\n",
       "<tr><td>21</td><td>ExprTuple</td><td>24, 25</td><td><a class=\"ProveItLink\" href=\"../../../../../numbers/numerals/decimals/__pv_it/theorems/70c3e4143874f9f0f1f3d6a66c8e496179147e9d0/expr.ipynb\"><img src=\"../../../../../numbers/numerals/decimals/__pv_it/theorems/70c3e4143874f9f0f1f3d6a66c8e496179147e9d0/expr.png\" style=\"display:inline;vertical-align:middle;\" /></a></td></tr>\n",
       "<tr><td>22</td><td>Literal</td><td></td><td><a class=\"ProveItLink\" href=\"../../../../../numbers/numerals/__pv_it/common/2778428c7f555b2bdc06aa0530bc142c6e6335100/expr.ipynb\"><img src=\"../../../../../numbers/numerals/__pv_it/common/2778428c7f555b2bdc06aa0530bc142c6e6335100/expr.png\" style=\"display:inline;vertical-align:middle;\" /></a></td></tr>\n",
       "<tr><td>23</td><td>Literal</td><td></td><td><a class=\"ProveItLink\" href=\"../../../../../numbers/numerals/__pv_it/common/ba3b059982e8b49413dc653e957beb11e974e4bc0/expr.ipynb\"><img src=\"../../../../../numbers/numerals/__pv_it/common/ba3b059982e8b49413dc653e957beb11e974e4bc0/expr.png\" style=\"display:inline;vertical-align:middle;\" /></a></td></tr>\n",
       "<tr><td>24</td><td>Literal</td><td></td><td><a class=\"ProveItLink\" href=\"../../../../../numbers/numerals/__pv_it/common/0a19a501c0770212f27a044b71e9c626b8ca0bec0/expr.ipynb\"><img src=\"../../../../../numbers/numerals/__pv_it/common/0a19a501c0770212f27a044b71e9c626b8ca0bec0/expr.png\" style=\"display:inline;vertical-align:middle;\" /></a></td></tr>\n",
       "<tr><td>25</td><td>Literal</td><td></td><td><a class=\"ProveItLink\" href=\"../../../../../numbers/numerals/__pv_it/common/705198ce7fd3ec620275e02d9e1fa1bcf7f141270/expr.ipynb\"><img src=\"../../../../../numbers/numerals/__pv_it/common/705198ce7fd3ec620275e02d9e1fa1bcf7f141270/expr.png\" style=\"display:inline;vertical-align:middle;\" /></a></td></tr>\n",
       "</table>\n"
      ],
      "text/plain": [
       "0.  MultiQubitGate(Z, {1, 2})   \\\\ \n",
       "   MultiQubitGate(Z, {1, 2})   \\\\ \n",
       "   MultiQubitGate(H, {3, 4})   \\\\ \n",
       "   MultiQubitGate(A, {3, 4})\n",
       "   core type: Operation\n",
       "   operator: 1\n",
       "   operand: 3\n",
       "1. CIRCUIT\n",
       "   core type: Literal\n",
       "   sub-expressions: \n",
       "2. ((MultiQubitGate(Z, {1, 2})  \\\\ \n",
       "  MultiQubitGate(Z, {1, 2})  \\\\ \n",
       "  MultiQubitGate(H, {3, 4})  \\\\ \n",
       "  MultiQubitGate(A, {3, 4})))\n",
       "   core type: ExprTuple\n",
       "   sub-expressions: 3\n",
       "3. MultiQubitGate(Z, {1, 2})  \\\\ \n",
       "  MultiQubitGate(Z, {1, 2})  \\\\ \n",
       "  MultiQubitGate(H, {3, 4})  \\\\ \n",
       "  MultiQubitGate(A, {3, 4})\n",
       "   core type: ExprTuple\n",
       "   sub-expressions: 4, 4, 5, 6\n",
       "4. (MultiQubitGate(Z, {1, 2}))\n",
       "   core type: ExprTuple\n",
       "   sub-expressions: 7\n",
       "5. (MultiQubitGate(H, {3, 4}))\n",
       "   core type: ExprTuple\n",
       "   sub-expressions: 8\n",
       "6. (MultiQubitGate(A, {3, 4}))\n",
       "   core type: ExprTuple\n",
       "   sub-expressions: 9\n",
       "7. MultiQubitGate(Z, {1, 2})\n",
       "   core type: Operation\n",
       "   operator: 12\n",
       "   operands: 10\n",
       "8. MultiQubitGate(H, {3, 4})\n",
       "   core type: Operation\n",
       "   operator: 12\n",
       "   operands: 11\n",
       "9. MultiQubitGate(A, {3, 4})\n",
       "   core type: Operation\n",
       "   operator: 12\n",
       "   operands: 13\n",
       "10. (Z, {1, 2})\n",
       "    core type: ExprTuple\n",
       "    sub-expressions: 14, 15\n",
       "11. (H, {3, 4})\n",
       "    core type: ExprTuple\n",
       "    sub-expressions: 16, 18\n",
       "12. MULTI_QUBIT_GATE\n",
       "    core type: Literal\n",
       "    sub-expressions: \n",
       "13. (A, {3, 4})\n",
       "    core type: ExprTuple\n",
       "    sub-expressions: 17, 18\n",
       "14. Z\n",
       "    core type: Literal\n",
       "    sub-expressions: \n",
       "15. {1, 2}\n",
       "    core type: Operation\n",
       "    operator: 20\n",
       "    operands: 19\n",
       "16. H\n",
       "    core type: Literal\n",
       "    sub-expressions: \n",
       "17. A\n",
       "    core type: Variable\n",
       "    sub-expressions: \n",
       "18. {3, 4}\n",
       "    core type: Operation\n",
       "    operator: 20\n",
       "    operands: 21\n",
       "19. (1, 2)\n",
       "    core type: ExprTuple\n",
       "    sub-expressions: 22, 23\n",
       "20. Set\n",
       "    core type: Literal\n",
       "    sub-expressions: \n",
       "21. (3, 4)\n",
       "    core type: ExprTuple\n",
       "    sub-expressions: 24, 25\n",
       "22. 1\n",
       "    core type: Literal\n",
       "    sub-expressions: \n",
       "23. 2\n",
       "    core type: Literal\n",
       "    sub-expressions: \n",
       "24. 3\n",
       "    core type: Literal\n",
       "    sub-expressions: \n",
       "25. 4\n",
       "    core type: Literal\n",
       "    sub-expressions: "
      ]
     },
     "execution_count": 5,
     "metadata": {},
     "output_type": "execute_result"
    }
   ],
   "source": [
    "# display the expression information\n",
    "expr.expr_info()"
   ]
  },
  {
   "cell_type": "code",
   "execution_count": null,
   "metadata": {},
   "outputs": [],
   "source": []
  }
 ],
 "metadata": {
  "kernelspec": {
   "display_name": "Python 3",
   "language": "python",
   "name": "python3"
  }
 },
 "nbformat": 4,
 "nbformat_minor": 0
}