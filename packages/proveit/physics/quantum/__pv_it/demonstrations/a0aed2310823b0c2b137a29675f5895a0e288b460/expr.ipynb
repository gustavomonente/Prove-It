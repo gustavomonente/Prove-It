{
 "cells": [
  {
   "cell_type": "markdown",
   "metadata": {},
   "source": [
    "Expression of type <a class=\"ProveItLink\" href=\"../../../../../../../doc/html/api/proveit.ExprTuple.html\">ExprTuple</a>\n",
    "=======================\n",
    "# from the theory of <a class=\"ProveItLink\" href=\"../../../_theory_nbs_/theory.ipynb\">proveit.physics.quantum</a>"
   ]
  },
  {
   "cell_type": "code",
   "execution_count": 1,
   "metadata": {},
   "outputs": [],
   "source": [
    "import proveit\n",
    "# Automation is not needed when building an expression:\n",
    "proveit.defaults.automation = False # This will speed things up.\n",
    "proveit.defaults.inline_pngs = False # Makes files smaller.\n",
    "%load_expr # Load the stored expression as 'stored_expr'\n",
    "# import Expression classes needed to build the expression\n",
    "from proveit import ExprTuple\n",
    "from proveit.logic import Set\n",
    "from proveit.numbers import one\n",
    "from proveit.physics.quantum import Input, Output, ket_psi\n",
    "from proveit.physics.quantum.circuit import IdentityOp, MultiQubitGate"
   ]
  },
  {
   "cell_type": "code",
   "execution_count": 2,
   "metadata": {},
   "outputs": [
    {
     "data": {
      "text/html": [
       "<strong id=\"expr\">expr:</strong> <a class=\"ProveItLink\" href=\"expr.ipynb\"><img src=\"expr.png\" style=\"display:inline;vertical-align:middle;\" /></a><br>"
      ],
      "text/plain": [
       "expr: (MultiQubitGate(Input(|psi〉), {1}), MultiQubitGate(I, {1}), MultiQubitGate(Output(|psi〉), {1}))"
      ]
     },
     "execution_count": 2,
     "metadata": {},
     "output_type": "execute_result"
    }
   ],
   "source": [
    "# build up the expression from sub-expressions\n",
    "sub_expr1 = Set(one)\n",
    "expr = ExprTuple(MultiQubitGate(Input(ket_psi), sub_expr1), MultiQubitGate(IdentityOp(explicit = True), sub_expr1), MultiQubitGate(Output(ket_psi), sub_expr1))"
   ]
  },
  {
   "cell_type": "code",
   "execution_count": 3,
   "metadata": {},
   "outputs": [
    {
     "name": "stdout",
     "output_type": "stream",
     "text": [
      "Passed sanity check: expr matches stored_expr\n"
     ]
    }
   ],
   "source": [
    "# check that the built expression is the same as the stored expression\n",
    "assert expr == stored_expr\n",
    "assert expr._style_id == stored_expr._style_id\n",
    "print(\"Passed sanity check: expr matches stored_expr\")"
   ]
  },
  {
   "cell_type": "code",
   "execution_count": 4,
   "metadata": {},
   "outputs": [
    {
     "name": "stdout",
     "output_type": "stream",
     "text": [
      "\\left(\\hspace{2em} \\Qcircuit@C=1em @R=.7em{\n",
      "& \\gate{Input(\\lvert \\psi \\rangle){\\Big \\{} \\left\\{1\\right\\}} \n",
      "} \\hspace{2em}, \\hspace{2em} \\Qcircuit@C=1em @R=.7em{\n",
      "& \\gate{I{\\Big \\{} \\left\\{1\\right\\}} \n",
      "} \\hspace{2em}, \\hspace{2em} \\Qcircuit@C=1em @R=.7em{\n",
      "& \\gate{Output(\\lvert \\psi \\rangle){\\Big \\{} \\left\\{1\\right\\}} \n",
      "} \\hspace{2em}\\right)\n"
     ]
    }
   ],
   "source": [
    "# Show the LaTeX representation of the expression for convenience if you need it.\n",
    "print(expr.latex())"
   ]
  },
  {
   "cell_type": "code",
   "execution_count": 5,
   "metadata": {},
   "outputs": [
    {
     "data": {
      "text/html": [
       "<table><tr><th>&nbsp;</th><th>core type</th><th>sub-expressions</th><th>expression</th></tr>\n",
       "<tr><td>0</td><td>ExprTuple</td><td>1, 2, 3</td><td><a class=\"ProveItLink\" href=\"expr.ipynb\"><img src=\"expr.png\" style=\"display:inline;vertical-align:middle;\" /></a></td></tr>\n",
       "<tr><td>1</td><td>Operation</td><td>operator:&nbsp;6<br>operands:&nbsp;4<br></td><td><a class=\"ProveItLink\" href=\"../95cdf1a48c0666981685aa5b06faac8947be9cd00/expr.ipynb\"><img src=\"../95cdf1a48c0666981685aa5b06faac8947be9cd00/expr.png\" style=\"display:inline;vertical-align:middle;\" /></a></td></tr>\n",
       "<tr><td>2</td><td>Operation</td><td>operator:&nbsp;6<br>operands:&nbsp;5<br></td><td><a class=\"ProveItLink\" href=\"../963e3d2b3861dff1424b6ec3748e055df68f8cba0/expr.ipynb\"><img src=\"../963e3d2b3861dff1424b6ec3748e055df68f8cba0/expr.png\" style=\"display:inline;vertical-align:middle;\" /></a></td></tr>\n",
       "<tr><td>3</td><td>Operation</td><td>operator:&nbsp;6<br>operands:&nbsp;7<br></td><td><a class=\"ProveItLink\" href=\"../f453571f093b0412ae875a487c0020003222de970/expr.ipynb\"><img src=\"../f453571f093b0412ae875a487c0020003222de970/expr.png\" style=\"display:inline;vertical-align:middle;\" /></a></td></tr>\n",
       "<tr><td>4</td><td>ExprTuple</td><td>8, 11</td><td><a class=\"ProveItLink\" href=\"../9740ef00678f8a5e335ff9555085533eee65670c0/expr.ipynb\"><img src=\"../9740ef00678f8a5e335ff9555085533eee65670c0/expr.png\" style=\"display:inline;vertical-align:middle;\" /></a></td></tr>\n",
       "<tr><td>5</td><td>ExprTuple</td><td>9, 11</td><td><a class=\"ProveItLink\" href=\"../3d4384af3c21cc4e33f29bf1c3f544653aecf1580/expr.ipynb\"><img src=\"../3d4384af3c21cc4e33f29bf1c3f544653aecf1580/expr.png\" style=\"display:inline;vertical-align:middle;\" /></a></td></tr>\n",
       "<tr><td>6</td><td>Literal</td><td></td><td><a class=\"ProveItLink\" href=\"../../common/7e400d333e3c53d1c3dd14244e4b33f4cea327190/expr.ipynb\"><img src=\"../../common/7e400d333e3c53d1c3dd14244e4b33f4cea327190/expr.png\" style=\"display:inline;vertical-align:middle;\" /></a></td></tr>\n",
       "<tr><td>7</td><td>ExprTuple</td><td>10, 11</td><td><a class=\"ProveItLink\" href=\"../a8034adaafdc501030b130813f8348b57cd9262b0/expr.ipynb\"><img src=\"../a8034adaafdc501030b130813f8348b57cd9262b0/expr.png\" style=\"display:inline;vertical-align:middle;\" /></a></td></tr>\n",
       "<tr><td>8</td><td>Operation</td><td>operator:&nbsp;12<br>operand:&nbsp;14<br></td><td><a class=\"ProveItLink\" href=\"../8a325a80937b293bc72fdda1510ce9de301202330/expr.ipynb\"><img src=\"../8a325a80937b293bc72fdda1510ce9de301202330/expr.png\" style=\"display:inline;vertical-align:middle;\" /></a></td></tr>\n",
       "<tr><td>9</td><td>Literal</td><td></td><td><a class=\"ProveItLink\" href=\"../0514f662d73f535f49bf899158853ff0b3f8b8b10/expr.ipynb\"><img src=\"../0514f662d73f535f49bf899158853ff0b3f8b8b10/expr.png\" style=\"display:inline;vertical-align:middle;\" /></a></td></tr>\n",
       "<tr><td>10</td><td>Operation</td><td>operator:&nbsp;13<br>operand:&nbsp;14<br></td><td><a class=\"ProveItLink\" href=\"../f2a16f7fa0ce8a9b9fb9c4433a884f0db7c072cf0/expr.ipynb\"><img src=\"../f2a16f7fa0ce8a9b9fb9c4433a884f0db7c072cf0/expr.png\" style=\"display:inline;vertical-align:middle;\" /></a></td></tr>\n",
       "<tr><td>11</td><td>Operation</td><td>operator:&nbsp;15<br>operand:&nbsp;16<br></td><td><a class=\"ProveItLink\" href=\"../794cea2888521553b40bae12ccfe7795c4ee57380/expr.ipynb\"><img src=\"../794cea2888521553b40bae12ccfe7795c4ee57380/expr.png\" style=\"display:inline;vertical-align:middle;\" /></a></td></tr>\n",
       "<tr><td>12</td><td>Literal</td><td></td><td><a class=\"ProveItLink\" href=\"../../common/75fe2e9c3de87ae2358442c50cf12e606184c7e30/expr.ipynb\"><img src=\"../../common/75fe2e9c3de87ae2358442c50cf12e606184c7e30/expr.png\" style=\"display:inline;vertical-align:middle;\" /></a></td></tr>\n",
       "<tr><td>13</td><td>Literal</td><td></td><td><a class=\"ProveItLink\" href=\"../../common/0f9100059d781d861feb56714a679b7a44ddec710/expr.ipynb\"><img src=\"../../common/0f9100059d781d861feb56714a679b7a44ddec710/expr.png\" style=\"display:inline;vertical-align:middle;\" /></a></td></tr>\n",
       "<tr><td>14</td><td>Operation</td><td>operator:&nbsp;17<br>operand:&nbsp;18<br></td><td><a class=\"ProveItLink\" href=\"../../common/575943c119e8460c472ed4a1f4a830c597448ec40/expr.ipynb\"><img src=\"../../common/575943c119e8460c472ed4a1f4a830c597448ec40/expr.png\" style=\"display:inline;vertical-align:middle;\" /></a></td></tr>\n",
       "<tr><td>15</td><td>Literal</td><td></td><td><a class=\"ProveItLink\" href=\"../../../../../logic/sets/enumeration/__pv_it/common/0ead90ccbf4f17bc585a51f8aa904bb77916ae6e0/expr.ipynb\"><img src=\"../../../../../logic/sets/enumeration/__pv_it/common/0ead90ccbf4f17bc585a51f8aa904bb77916ae6e0/expr.png\" style=\"display:inline;vertical-align:middle;\" /></a></td></tr>\n",
       "<tr><td>16</td><td>Literal</td><td></td><td><a class=\"ProveItLink\" href=\"../../../../../numbers/numerals/__pv_it/common/2778428c7f555b2bdc06aa0530bc142c6e6335100/expr.ipynb\"><img src=\"../../../../../numbers/numerals/__pv_it/common/2778428c7f555b2bdc06aa0530bc142c6e6335100/expr.png\" style=\"display:inline;vertical-align:middle;\" /></a></td></tr>\n",
       "<tr><td>17</td><td>Literal</td><td></td><td><a class=\"ProveItLink\" href=\"../../common/211157ad123e11ebc76ee54e41be13705eefd6800/expr.ipynb\"><img src=\"../../common/211157ad123e11ebc76ee54e41be13705eefd6800/expr.png\" style=\"display:inline;vertical-align:middle;\" /></a></td></tr>\n",
       "<tr><td>18</td><td>Literal</td><td></td><td><a class=\"ProveItLink\" href=\"../../common/168c63082398497632cb4d5e531562201ffa1e3c0/expr.ipynb\"><img src=\"../../common/168c63082398497632cb4d5e531562201ffa1e3c0/expr.png\" style=\"display:inline;vertical-align:middle;\" /></a></td></tr>\n",
       "</table>\n"
      ],
      "text/plain": [
       "0. (MultiQubitGate(Input(|psi〉), {1}), MultiQubitGate(I, {1}), MultiQubitGate(Output(|psi〉), {1}))\n",
       "   core type: ExprTuple\n",
       "   sub-expressions: 1, 2, 3\n",
       "1. MultiQubitGate(Input(|psi〉), {1})\n",
       "   core type: Operation\n",
       "   operator: 6\n",
       "   operands: 4\n",
       "2. MultiQubitGate(I, {1})\n",
       "   core type: Operation\n",
       "   operator: 6\n",
       "   operands: 5\n",
       "3. MultiQubitGate(Output(|psi〉), {1})\n",
       "   core type: Operation\n",
       "   operator: 6\n",
       "   operands: 7\n",
       "4. (Input(|psi〉), {1})\n",
       "   core type: ExprTuple\n",
       "   sub-expressions: 8, 11\n",
       "5. ([I], {1})\n",
       "   core type: ExprTuple\n",
       "   sub-expressions: 9, 11\n",
       "6. MULTI_QUBIT_GATE\n",
       "   core type: Literal\n",
       "   sub-expressions: \n",
       "7. (Output(|psi〉), {1})\n",
       "   core type: ExprTuple\n",
       "   sub-expressions: 10, 11\n",
       "8. [INPUT](|psi〉)\n",
       "   core type: Operation\n",
       "   operator: 12\n",
       "   operand: 14\n",
       "9. [I]\n",
       "   core type: Literal\n",
       "   sub-expressions: \n",
       "10. [OUTPUT](|psi〉)\n",
       "    core type: Operation\n",
       "    operator: 13\n",
       "    operand: 14\n",
       "11. {1}\n",
       "    core type: Operation\n",
       "    operator: 15\n",
       "    operand: 16\n",
       "12. INPUT\n",
       "    core type: Literal\n",
       "    sub-expressions: \n",
       "13. OUTPUT\n",
       "    core type: Literal\n",
       "    sub-expressions: \n",
       "14. |psi〉\n",
       "    core type: Operation\n",
       "    operator: 17\n",
       "    operand: 18\n",
       "15. Set\n",
       "    core type: Literal\n",
       "    sub-expressions: \n",
       "16. 1\n",
       "    core type: Literal\n",
       "    sub-expressions: \n",
       "17. KET\n",
       "    core type: Literal\n",
       "    sub-expressions: \n",
       "18. psi\n",
       "    core type: Literal\n",
       "    sub-expressions: "
      ]
     },
     "execution_count": 5,
     "metadata": {},
     "output_type": "execute_result"
    }
   ],
   "source": [
    "# display the expression information\n",
    "expr.expr_info()"
   ]
  },
  {
   "cell_type": "code",
   "execution_count": null,
   "metadata": {},
   "outputs": [],
   "source": []
  }
 ],
 "metadata": {
  "kernelspec": {
   "display_name": "Python 3",
   "language": "python",
   "name": "python3"
  }
 },
 "nbformat": 4,
 "nbformat_minor": 0
}