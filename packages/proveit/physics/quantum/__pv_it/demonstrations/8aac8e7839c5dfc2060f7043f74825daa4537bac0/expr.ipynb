{
 "cells": [
  {
   "cell_type": "markdown",
   "metadata": {},
   "source": [
    "Expression of type <a class=\"ProveItLink\" href=\"../../../../../../../doc/html/api/proveit.ExprArray.html\">ExprArray</a>\n",
    "=======================\n",
    "# from the theory of <a class=\"ProveItLink\" href=\"../../../_theory_nbs_/theory.ipynb\">proveit.physics.quantum</a>"
   ]
  },
  {
   "cell_type": "code",
   "execution_count": 1,
   "metadata": {},
   "outputs": [],
   "source": [
    "import proveit\n",
    "# Automation is not needed when building an expression:\n",
    "proveit.defaults.automation = False # This will speed things up.\n",
    "proveit.defaults.inline_pngs = False # Makes files smaller.\n",
    "%load_expr # Load the stored expression as 'stored_expr'\n",
    "# import Expression classes needed to build the expression\n",
    "from proveit import ExprArray\n",
    "from proveit.logic import Set\n",
    "from proveit.numbers import four, one, three, two\n",
    "from proveit.physics.quantum import CONTROL, Gate, H, X, Z\n",
    "from proveit.physics.quantum.circuit import MultiQubitGate"
   ]
  },
  {
   "cell_type": "code",
   "execution_count": 2,
   "metadata": {},
   "outputs": [
    {
     "data": {
      "text/html": [
       "<strong id=\"expr\">expr:</strong> <a class=\"ProveItLink\" href=\"expr.ipynb\"><img src=\"expr.png\" style=\"display:inline;vertical-align:middle;\" /></a><br>"
      ],
      "text/plain": [
       "expr: Gate(H) & MultiQubitGate(CONTROL, {1, 2}) & Gate(X)  \\\\ \n",
       "  Gate(H) & MultiQubitGate(Z, {1, 2}) & Gate(X)  \\\\ \n",
       "  Gate(H) & MultiQubitGate(CONTROL, {3, 4}) & Gate(X)  \\\\ \n",
       "  Gate(H) & MultiQubitGate(Z, {3, 4}) & Gate(X)"
      ]
     },
     "execution_count": 2,
     "metadata": {},
     "output_type": "execute_result"
    }
   ],
   "source": [
    "# build up the expression from sub-expressions\n",
    "sub_expr1 = Gate(H)\n",
    "sub_expr2 = Set(one, two)\n",
    "sub_expr3 = Gate(X)\n",
    "sub_expr4 = Set(three, four)\n",
    "expr = ExprArray([sub_expr1, MultiQubitGate(CONTROL, sub_expr2), sub_expr3], [sub_expr1, MultiQubitGate(Z, sub_expr2), sub_expr3], [sub_expr1, MultiQubitGate(CONTROL, sub_expr4), sub_expr3], [sub_expr1, MultiQubitGate(Z, sub_expr4), sub_expr3])"
   ]
  },
  {
   "cell_type": "code",
   "execution_count": 3,
   "metadata": {},
   "outputs": [
    {
     "name": "stdout",
     "output_type": "stream",
     "text": [
      "Passed sanity check: expr matches stored_expr\n"
     ]
    }
   ],
   "source": [
    "# check that the built expression is the same as the stored expression\n",
    "assert expr == stored_expr\n",
    "assert expr._style_id == stored_expr._style_id\n",
    "print(\"Passed sanity check: expr matches stored_expr\")"
   ]
  },
  {
   "cell_type": "code",
   "execution_count": 4,
   "metadata": {},
   "outputs": [
    {
     "name": "stdout",
     "output_type": "stream",
     "text": [
      "\\begin{array} {ccc} \n",
      " \\hspace{2em} \\Qcircuit@C=1em @R=.7em{\n",
      "& \\gate{H} \n",
      "} \\hspace{2em} & \\hspace{2em} \\Qcircuit@C=1em @R=.7em{\n",
      "& \\control \\qw \n",
      "} \\hspace{2em} & \\hspace{2em} \\Qcircuit@C=1em @R=.7em{\n",
      "& \\gate{X} \n",
      "} \\hspace{2em}  \\\\ \n",
      "  \\hspace{2em} \\Qcircuit@C=1em @R=.7em{\n",
      "& \\gate{H} \n",
      "} \\hspace{2em} & \\hspace{2em} \\Qcircuit@C=1em @R=.7em{\n",
      "& Z \n",
      "} \\hspace{2em} & \\hspace{2em} \\Qcircuit@C=1em @R=.7em{\n",
      "& \\gate{X} \n",
      "} \\hspace{2em}  \\\\ \n",
      "  \\hspace{2em} \\Qcircuit@C=1em @R=.7em{\n",
      "& \\gate{H} \n",
      "} \\hspace{2em} & \\hspace{2em} \\Qcircuit@C=1em @R=.7em{\n",
      "& \\control \\qw \n",
      "} \\hspace{2em} & \\hspace{2em} \\Qcircuit@C=1em @R=.7em{\n",
      "& \\gate{X} \n",
      "} \\hspace{2em}  \\\\ \n",
      "  \\hspace{2em} \\Qcircuit@C=1em @R=.7em{\n",
      "& \\gate{H} \n",
      "} \\hspace{2em} & \\hspace{2em} \\Qcircuit@C=1em @R=.7em{\n",
      "& Z \n",
      "} \\hspace{2em} & \\hspace{2em} \\Qcircuit@C=1em @R=.7em{\n",
      "& \\gate{X} \n",
      "} \\hspace{2em} \\end{array} \n",
      "\n"
     ]
    }
   ],
   "source": [
    "# Show the LaTeX representation of the expression for convenience if you need it.\n",
    "print(expr.latex())"
   ]
  },
  {
   "cell_type": "code",
   "execution_count": 5,
   "metadata": {},
   "outputs": [
    {
     "data": {
      "text/html": [
       "<table>\n",
       "<tr><th>name</th><th>description</th><th>default</th><th>current value</th><th>related methods</th></tr><tr><td>justification</td><td>justify to the 'left', 'center', or 'right' in the array cells</td><td>center</td><td>center</td><td>with_justification</td></tr>\n",
       "<tr><td>orientation</td><td>to be read from left to right then top to bottom ('horizontal') or to be read top to bottom then left to right ('vertical')</td><td>horizontal</td><td>horizontal</td><td>with_orientation</td></tr>\n",
       "<tr><td>parameterization</td><td>'implicit' (default for LaTeX formatting) hides the parameter the ExprRange so the parameterization may be ambiguous (e.g., x_{1+1}, ..., x_{n+1}); 'explicit' (default for string formatting) reveals the parameterization (e.g. x_{1+1}, ..x_{k+1}.., x_{n+1}).</td><td>None</td><td>None/False</td><td>('with_explicit_parameterization', 'with_implicit_parameterization', 'with_default_parameterization_style')</td></tr>\n",
       "</table>\n"
      ],
      "text/plain": [
       "style name: justification\n",
       "description: justify to the 'left', 'center', or 'right' in the array cells\n",
       "default: center\n",
       "current value: center\n",
       "related methods: with_justification\n",
       "style name: orientation\n",
       "description: to be read from left to right then top to bottom ('horizontal') or to be read top to bottom then left to right ('vertical')\n",
       "default: horizontal\n",
       "current value: horizontal\n",
       "related methods: with_orientation\n",
       "style name: parameterization\n",
       "description: 'implicit' (default for LaTeX formatting) hides the parameter the ExprRange so the parameterization may be ambiguous (e.g., x_{1+1}, ..., x_{n+1}); 'explicit' (default for string formatting) reveals the parameterization (e.g. x_{1+1}, ..x_{k+1}.., x_{n+1}).\n",
       "default: None\n",
       "current value: None/False\n",
       "related methods: ('with_explicit_parameterization', 'with_implicit_parameterization', 'with_default_parameterization_style')"
      ]
     },
     "execution_count": 5,
     "metadata": {},
     "output_type": "execute_result"
    }
   ],
   "source": [
    "expr.style_options()"
   ]
  },
  {
   "cell_type": "code",
   "execution_count": 6,
   "metadata": {},
   "outputs": [
    {
     "data": {
      "text/html": [
       "<table><tr><th>&nbsp;</th><th>core type</th><th>sub-expressions</th><th>expression</th></tr>\n",
       "<tr><td>0</td><td>ExprTuple</td><td>1, 2, 3, 4</td><td><a class=\"ProveItLink\" href=\"expr.ipynb\"><img src=\"expr.png\" style=\"display:inline;vertical-align:middle;\" /></a></td></tr>\n",
       "<tr><td>1</td><td>ExprTuple</td><td>8, 5, 10</td><td><a class=\"ProveItLink\" href=\"../635607af9299f8e9357adb5e2871fde8ac7977a00/expr.ipynb\"><img src=\"../635607af9299f8e9357adb5e2871fde8ac7977a00/expr.png\" style=\"display:inline;vertical-align:middle;\" /></a></td></tr>\n",
       "<tr><td>2</td><td>ExprTuple</td><td>8, 6, 10</td><td><a class=\"ProveItLink\" href=\"../1d9268b793be2b77c922b423cfc1377ad15b12390/expr.ipynb\"><img src=\"../1d9268b793be2b77c922b423cfc1377ad15b12390/expr.png\" style=\"display:inline;vertical-align:middle;\" /></a></td></tr>\n",
       "<tr><td>3</td><td>ExprTuple</td><td>8, 7, 10</td><td><a class=\"ProveItLink\" href=\"../f6439566b4e3bd387d6e3986f7ae82ee804f08660/expr.ipynb\"><img src=\"../f6439566b4e3bd387d6e3986f7ae82ee804f08660/expr.png\" style=\"display:inline;vertical-align:middle;\" /></a></td></tr>\n",
       "<tr><td>4</td><td>ExprTuple</td><td>8, 9, 10</td><td><a class=\"ProveItLink\" href=\"../52e931da28e79d0344bb3a84f0f6a65c80945bd40/expr.ipynb\"><img src=\"../52e931da28e79d0344bb3a84f0f6a65c80945bd40/expr.png\" style=\"display:inline;vertical-align:middle;\" /></a></td></tr>\n",
       "<tr><td>5</td><td>Operation</td><td>operator:&nbsp;15<br>operands:&nbsp;11<br></td><td><a class=\"ProveItLink\" href=\"../37bc1b4ee6b0ad61db7402d5f5d887594b1901d60/expr.ipynb\"><img src=\"../37bc1b4ee6b0ad61db7402d5f5d887594b1901d60/expr.png\" style=\"display:inline;vertical-align:middle;\" /></a></td></tr>\n",
       "<tr><td>6</td><td>Operation</td><td>operator:&nbsp;15<br>operands:&nbsp;12<br></td><td><a class=\"ProveItLink\" href=\"../cb837516b2dd801ab3837c6891cbc01f4f1dabd10/expr.ipynb\"><img src=\"../cb837516b2dd801ab3837c6891cbc01f4f1dabd10/expr.png\" style=\"display:inline;vertical-align:middle;\" /></a></td></tr>\n",
       "<tr><td>7</td><td>Operation</td><td>operator:&nbsp;15<br>operands:&nbsp;13<br></td><td><a class=\"ProveItLink\" href=\"../1f00de320c38380cfd1a35292f827a66a110b7a60/expr.ipynb\"><img src=\"../1f00de320c38380cfd1a35292f827a66a110b7a60/expr.png\" style=\"display:inline;vertical-align:middle;\" /></a></td></tr>\n",
       "<tr><td>8</td><td>Operation</td><td>operator:&nbsp;17<br>operand:&nbsp;21<br></td><td><a class=\"ProveItLink\" href=\"../1e637d6dfa672aaca79e059d8b20023dc3ee84910/expr.ipynb\"><img src=\"../1e637d6dfa672aaca79e059d8b20023dc3ee84910/expr.png\" style=\"display:inline;vertical-align:middle;\" /></a></td></tr>\n",
       "<tr><td>9</td><td>Operation</td><td>operator:&nbsp;15<br>operands:&nbsp;16<br></td><td><a class=\"ProveItLink\" href=\"../d078ed5b4cd09f46165412ae28a347efa37c05c50/expr.ipynb\"><img src=\"../d078ed5b4cd09f46165412ae28a347efa37c05c50/expr.png\" style=\"display:inline;vertical-align:middle;\" /></a></td></tr>\n",
       "<tr><td>10</td><td>Operation</td><td>operator:&nbsp;17<br>operand:&nbsp;24<br></td><td><a class=\"ProveItLink\" href=\"../350791414447e1b0b2ab22a04505f79c86873bbe0/expr.ipynb\"><img src=\"../350791414447e1b0b2ab22a04505f79c86873bbe0/expr.png\" style=\"display:inline;vertical-align:middle;\" /></a></td></tr>\n",
       "<tr><td>11</td><td>ExprTuple</td><td>20, 19</td><td><a class=\"ProveItLink\" href=\"../c9f0179d12bca7a5e95c8388779f275d595765770/expr.ipynb\"><img src=\"../c9f0179d12bca7a5e95c8388779f275d595765770/expr.png\" style=\"display:inline;vertical-align:middle;\" /></a></td></tr>\n",
       "<tr><td>12</td><td>ExprTuple</td><td>22, 19</td><td><a class=\"ProveItLink\" href=\"../9c54f9c1414714f02c46b017ac48bccc687f38320/expr.ipynb\"><img src=\"../9c54f9c1414714f02c46b017ac48bccc687f38320/expr.png\" style=\"display:inline;vertical-align:middle;\" /></a></td></tr>\n",
       "<tr><td>13</td><td>ExprTuple</td><td>20, 23</td><td><a class=\"ProveItLink\" href=\"../7179f503f6fde55211fa84ac1b4edb5bf297afbc0/expr.ipynb\"><img src=\"../7179f503f6fde55211fa84ac1b4edb5bf297afbc0/expr.png\" style=\"display:inline;vertical-align:middle;\" /></a></td></tr>\n",
       "<tr><td>14</td><td>ExprTuple</td><td>21</td><td><a class=\"ProveItLink\" href=\"../305f4dde1b23f618d8c3b6406524ca18970907570/expr.ipynb\"><img src=\"../305f4dde1b23f618d8c3b6406524ca18970907570/expr.png\" style=\"display:inline;vertical-align:middle;\" /></a></td></tr>\n",
       "<tr><td>15</td><td>Literal</td><td></td><td><a class=\"ProveItLink\" href=\"../../common/38deceb0a69e80c36399d725649803706802a2a90/expr.ipynb\"><img src=\"../../common/38deceb0a69e80c36399d725649803706802a2a90/expr.png\" style=\"display:inline;vertical-align:middle;\" /></a></td></tr>\n",
       "<tr><td>16</td><td>ExprTuple</td><td>22, 23</td><td><a class=\"ProveItLink\" href=\"../81d566eeb0bc18296ad21ae9edb1683b0dbf84900/expr.ipynb\"><img src=\"../81d566eeb0bc18296ad21ae9edb1683b0dbf84900/expr.png\" style=\"display:inline;vertical-align:middle;\" /></a></td></tr>\n",
       "<tr><td>17</td><td>Literal</td><td></td><td><a class=\"ProveItLink\" href=\"../../common/44032ea2879a75be63dcfde93f5992fe3f6108fc0/expr.ipynb\"><img src=\"../../common/44032ea2879a75be63dcfde93f5992fe3f6108fc0/expr.png\" style=\"display:inline;vertical-align:middle;\" /></a></td></tr>\n",
       "<tr><td>18</td><td>ExprTuple</td><td>24</td><td><a class=\"ProveItLink\" href=\"../69c34dcfd0a394a30596030b438462e220d678350/expr.ipynb\"><img src=\"../69c34dcfd0a394a30596030b438462e220d678350/expr.png\" style=\"display:inline;vertical-align:middle;\" /></a></td></tr>\n",
       "<tr><td>19</td><td>Operation</td><td>operator:&nbsp;26<br>operands:&nbsp;25<br></td><td><a class=\"ProveItLink\" href=\"../1abc48c53e8e6b6fc6bd4d100acb9a3c28e8f2c70/expr.ipynb\"><img src=\"../1abc48c53e8e6b6fc6bd4d100acb9a3c28e8f2c70/expr.png\" style=\"display:inline;vertical-align:middle;\" /></a></td></tr>\n",
       "<tr><td>20</td><td>Literal</td><td></td><td><a class=\"ProveItLink\" href=\"../../common/b1beec78d8cd5a1effa0b2b1f6910261ffe687cf0/expr.ipynb\"><img src=\"../../common/b1beec78d8cd5a1effa0b2b1f6910261ffe687cf0/expr.png\" style=\"display:inline;vertical-align:middle;\" /></a></td></tr>\n",
       "<tr><td>21</td><td>Literal</td><td></td><td><a class=\"ProveItLink\" href=\"../../common/368cf31b7f078f904d5478ccb332c7d15763fe920/expr.ipynb\"><img src=\"../../common/368cf31b7f078f904d5478ccb332c7d15763fe920/expr.png\" style=\"display:inline;vertical-align:middle;\" /></a></td></tr>\n",
       "<tr><td>22</td><td>Literal</td><td></td><td><a class=\"ProveItLink\" href=\"../../common/c9c8328efedcafef6f2fc9fe107a9c89fd772b250/expr.ipynb\"><img src=\"../../common/c9c8328efedcafef6f2fc9fe107a9c89fd772b250/expr.png\" style=\"display:inline;vertical-align:middle;\" /></a></td></tr>\n",
       "<tr><td>23</td><td>Operation</td><td>operator:&nbsp;26<br>operands:&nbsp;27<br></td><td><a class=\"ProveItLink\" href=\"../6cfcf995f91fc94e5142f84a5a4bb6b4500d55bd0/expr.ipynb\"><img src=\"../6cfcf995f91fc94e5142f84a5a4bb6b4500d55bd0/expr.png\" style=\"display:inline;vertical-align:middle;\" /></a></td></tr>\n",
       "<tr><td>24</td><td>Literal</td><td></td><td><a class=\"ProveItLink\" href=\"../../common/94315bad5d6fa05ec6d0fac545cf2b5b7ed20d800/expr.ipynb\"><img src=\"../../common/94315bad5d6fa05ec6d0fac545cf2b5b7ed20d800/expr.png\" style=\"display:inline;vertical-align:middle;\" /></a></td></tr>\n",
       "<tr><td>25</td><td>ExprTuple</td><td>28, 29</td><td><a class=\"ProveItLink\" href=\"../../../../../numbers/numerals/decimals/__pv_it/theorems/b6dda0abe24a4592fb130c02ca5a89c1328050430/expr.ipynb\"><img src=\"../../../../../numbers/numerals/decimals/__pv_it/theorems/b6dda0abe24a4592fb130c02ca5a89c1328050430/expr.png\" style=\"display:inline;vertical-align:middle;\" /></a></td></tr>\n",
       "<tr><td>26</td><td>Literal</td><td></td><td><a class=\"ProveItLink\" href=\"../../../../../logic/sets/enumeration/__pv_it/common/f7caf702081f903a6ea3d95d680568dd78698f5a0/expr.ipynb\"><img src=\"../../../../../logic/sets/enumeration/__pv_it/common/f7caf702081f903a6ea3d95d680568dd78698f5a0/expr.png\" style=\"display:inline;vertical-align:middle;\" /></a></td></tr>\n",
       "<tr><td>27</td><td>ExprTuple</td><td>30, 31</td><td><a class=\"ProveItLink\" href=\"../../../../../numbers/numerals/decimals/__pv_it/theorems/597847cc5f00b6f9afa210fcfbb2e72452d288ad0/expr.ipynb\"><img src=\"../../../../../numbers/numerals/decimals/__pv_it/theorems/597847cc5f00b6f9afa210fcfbb2e72452d288ad0/expr.png\" style=\"display:inline;vertical-align:middle;\" /></a></td></tr>\n",
       "<tr><td>28</td><td>Literal</td><td></td><td><a class=\"ProveItLink\" href=\"../../../../../numbers/numerals/__pv_it/common/d278e359da0695d9652dd541d45264f93703e2e40/expr.ipynb\"><img src=\"../../../../../numbers/numerals/__pv_it/common/d278e359da0695d9652dd541d45264f93703e2e40/expr.png\" style=\"display:inline;vertical-align:middle;\" /></a></td></tr>\n",
       "<tr><td>29</td><td>Literal</td><td></td><td><a class=\"ProveItLink\" href=\"../../../../../numbers/numerals/__pv_it/common/3829356ce3fdf8f35810c63c00bc1a19e838663e0/expr.ipynb\"><img src=\"../../../../../numbers/numerals/__pv_it/common/3829356ce3fdf8f35810c63c00bc1a19e838663e0/expr.png\" style=\"display:inline;vertical-align:middle;\" /></a></td></tr>\n",
       "<tr><td>30</td><td>Literal</td><td></td><td><a class=\"ProveItLink\" href=\"../../../../../numbers/numerals/__pv_it/common/1477ef887611bedb97dfb89bcacde217bb43e8ed0/expr.ipynb\"><img src=\"../../../../../numbers/numerals/__pv_it/common/1477ef887611bedb97dfb89bcacde217bb43e8ed0/expr.png\" style=\"display:inline;vertical-align:middle;\" /></a></td></tr>\n",
       "<tr><td>31</td><td>Literal</td><td></td><td><a class=\"ProveItLink\" href=\"../../../../../numbers/numerals/__pv_it/common/de8f3e06d530f467e73bdbc965d9d86fa0f1b0db0/expr.ipynb\"><img src=\"../../../../../numbers/numerals/__pv_it/common/de8f3e06d530f467e73bdbc965d9d86fa0f1b0db0/expr.png\" style=\"display:inline;vertical-align:middle;\" /></a></td></tr>\n",
       "</table>\n"
      ],
      "text/plain": [
       "0. Gate(H) & MultiQubitGate(CONTROL, {1, 2}) & Gate(X)  \\\\ \n",
       "  Gate(H) & MultiQubitGate(Z, {1, 2}) & Gate(X)  \\\\ \n",
       "  Gate(H) & MultiQubitGate(CONTROL, {3, 4}) & Gate(X)  \\\\ \n",
       "  Gate(H) & MultiQubitGate(Z, {3, 4}) & Gate(X)\n",
       "   core type: ExprTuple\n",
       "   sub-expressions: 1, 2, 3, 4\n",
       "1. (Gate(H), MultiQubitGate(CONTROL, {1, 2}), Gate(X))\n",
       "   core type: ExprTuple\n",
       "   sub-expressions: 8, 5, 10\n",
       "2. (Gate(H), MultiQubitGate(Z, {1, 2}), Gate(X))\n",
       "   core type: ExprTuple\n",
       "   sub-expressions: 8, 6, 10\n",
       "3. (Gate(H), MultiQubitGate(CONTROL, {3, 4}), Gate(X))\n",
       "   core type: ExprTuple\n",
       "   sub-expressions: 8, 7, 10\n",
       "4. (Gate(H), MultiQubitGate(Z, {3, 4}), Gate(X))\n",
       "   core type: ExprTuple\n",
       "   sub-expressions: 8, 9, 10\n",
       "5. MultiQubitGate(CONTROL, {1, 2})\n",
       "   core type: Operation\n",
       "   operator: 15\n",
       "   operands: 11\n",
       "6. MultiQubitGate(Z, {1, 2})\n",
       "   core type: Operation\n",
       "   operator: 15\n",
       "   operands: 12\n",
       "7. MultiQubitGate(CONTROL, {3, 4})\n",
       "   core type: Operation\n",
       "   operator: 15\n",
       "   operands: 13\n",
       "8. Gate(H)\n",
       "   core type: Operation\n",
       "   operator: 17\n",
       "   operand: 21\n",
       "9. MultiQubitGate(Z, {3, 4})\n",
       "   core type: Operation\n",
       "   operator: 15\n",
       "   operands: 16\n",
       "10. Gate(X)\n",
       "    core type: Operation\n",
       "    operator: 17\n",
       "    operand: 24\n",
       "11. (CONTROL, {1, 2})\n",
       "    core type: ExprTuple\n",
       "    sub-expressions: 20, 19\n",
       "12. (Z, {1, 2})\n",
       "    core type: ExprTuple\n",
       "    sub-expressions: 22, 19\n",
       "13. (CONTROL, {3, 4})\n",
       "    core type: ExprTuple\n",
       "    sub-expressions: 20, 23\n",
       "14. (H)\n",
       "    core type: ExprTuple\n",
       "    sub-expressions: 21\n",
       "15. MULTI_QUBIT_GATE\n",
       "    core type: Literal\n",
       "    sub-expressions: \n",
       "16. (Z, {3, 4})\n",
       "    core type: ExprTuple\n",
       "    sub-expressions: 22, 23\n",
       "17. GATE\n",
       "    core type: Literal\n",
       "    sub-expressions: \n",
       "18. (X)\n",
       "    core type: ExprTuple\n",
       "    sub-expressions: 24\n",
       "19. {1, 2}\n",
       "    core type: Operation\n",
       "    operator: 26\n",
       "    operands: 25\n",
       "20. CONTROL\n",
       "    core type: Literal\n",
       "    sub-expressions: \n",
       "21. H\n",
       "    core type: Literal\n",
       "    sub-expressions: \n",
       "22. Z\n",
       "    core type: Literal\n",
       "    sub-expressions: \n",
       "23. {3, 4}\n",
       "    core type: Operation\n",
       "    operator: 26\n",
       "    operands: 27\n",
       "24. X\n",
       "    core type: Literal\n",
       "    sub-expressions: \n",
       "25. (1, 2)\n",
       "    core type: ExprTuple\n",
       "    sub-expressions: 28, 29\n",
       "26. Set\n",
       "    core type: Literal\n",
       "    sub-expressions: \n",
       "27. (3, 4)\n",
       "    core type: ExprTuple\n",
       "    sub-expressions: 30, 31\n",
       "28. 1\n",
       "    core type: Literal\n",
       "    sub-expressions: \n",
       "29. 2\n",
       "    core type: Literal\n",
       "    sub-expressions: \n",
       "30. 3\n",
       "    core type: Literal\n",
       "    sub-expressions: \n",
       "31. 4\n",
       "    core type: Literal\n",
       "    sub-expressions: "
      ]
     },
     "execution_count": 6,
     "metadata": {},
     "output_type": "execute_result"
    }
   ],
   "source": [
    "# display the expression information\n",
    "expr.expr_info()"
   ]
  },
  {
   "cell_type": "code",
   "execution_count": null,
   "metadata": {},
   "outputs": [],
   "source": []
  }
 ],
 "metadata": {
  "kernelspec": {
   "display_name": "Python 3",
   "language": "python",
   "name": "python3"
  }
 },
 "nbformat": 4,
 "nbformat_minor": 0
}