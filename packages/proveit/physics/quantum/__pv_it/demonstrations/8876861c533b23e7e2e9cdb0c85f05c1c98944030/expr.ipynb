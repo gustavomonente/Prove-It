{
 "cells": [
  {
   "cell_type": "markdown",
   "metadata": {},
   "source": [
    "Expression of type <a class=\"ProveItLink\" href=\"../../../../../../../doc/html/api/proveit.physics.quantum.circuit.Circuit.html\">Circuit</a>\n",
    "=======================\n",
    "# from the theory of <a class=\"ProveItLink\" href=\"../../../_theory_nbs_/theory.ipynb\">proveit.physics.quantum</a>"
   ]
  },
  {
   "cell_type": "code",
   "execution_count": 1,
   "metadata": {},
   "outputs": [],
   "source": [
    "import proveit\n",
    "# Automation is not needed when building an expression:\n",
    "proveit.defaults.automation = False # This will speed things up.\n",
    "proveit.defaults.inline_pngs = False # Makes files smaller.\n",
    "%load_expr # Load the stored expression as 'stored_expr'\n",
    "# import Expression classes needed to build the expression\n",
    "from proveit import ExprArray\n",
    "from proveit.logic import Set\n",
    "from proveit.numbers import four, one, three, two\n",
    "from proveit.physics.quantum import CONTROL, Gate, H, X, Z\n",
    "from proveit.physics.quantum.circuit import Circuit, MultiQubitGate"
   ]
  },
  {
   "cell_type": "code",
   "execution_count": 2,
   "metadata": {},
   "outputs": [
    {
     "data": {
      "text/html": [
       "<strong id=\"expr\">expr:</strong> <a class=\"ProveItLink\" href=\"expr.ipynb\"><img src=\"expr.png\" style=\"display:inline;vertical-align:middle;\" /></a><br>"
      ],
      "text/plain": [
       "expr:  Gate(H)  & MultiQubitGate(CONTROL, {1, 2})  & Gate(X)   \\\\ \n",
       "   Gate(H)  & MultiQubitGate(Z, {1, 2})  & Gate(X)   \\\\ \n",
       "   Gate(H)  & MultiQubitGate(CONTROL, {3, 4})  & Gate(X)   \\\\ \n",
       "   Gate(H)  & MultiQubitGate(Z, {3, 4})  & Gate(X)"
      ]
     },
     "execution_count": 2,
     "metadata": {},
     "output_type": "execute_result"
    }
   ],
   "source": [
    "# build up the expression from sub-expressions\n",
    "sub_expr1 = Gate(H)\n",
    "sub_expr2 = Set(one, two)\n",
    "sub_expr3 = Gate(X)\n",
    "sub_expr4 = Set(three, four)\n",
    "expr = Circuit(ExprArray([sub_expr1, MultiQubitGate(CONTROL, sub_expr2), sub_expr3], [sub_expr1, MultiQubitGate(Z, sub_expr2), sub_expr3], [sub_expr1, MultiQubitGate(CONTROL, sub_expr4), sub_expr3], [sub_expr1, MultiQubitGate(Z, sub_expr4), sub_expr3]))"
   ]
  },
  {
   "cell_type": "code",
   "execution_count": 3,
   "metadata": {},
   "outputs": [
    {
     "name": "stdout",
     "output_type": "stream",
     "text": [
      "Passed sanity check: expr matches stored_expr\n"
     ]
    }
   ],
   "source": [
    "# check that the built expression is the same as the stored expression\n",
    "assert expr == stored_expr\n",
    "assert expr._style_id == stored_expr._style_id\n",
    "print(\"Passed sanity check: expr matches stored_expr\")"
   ]
  },
  {
   "cell_type": "code",
   "execution_count": 4,
   "metadata": {},
   "outputs": [
    {
     "name": "stdout",
     "output_type": "stream",
     "text": [
      "\\hspace{2em} \\Qcircuit@C=1em @R=.7em{\n",
      "& \\gate{H} & \\control \\qw \\qwx[1] & \\gate{X}   \\\\ \n",
      "  & \\gate{H} & \\gate{Z} & \\gate{X}   \\\\ \n",
      "  & \\gate{H} & \\control \\qw \\qwx[1] & \\gate{X}   \\\\ \n",
      "  & \\gate{H} & \\gate{Z} & \\gate{X} \n",
      "} \\hspace{2em}\n"
     ]
    }
   ],
   "source": [
    "# Show the LaTeX representation of the expression for convenience if you need it.\n",
    "print(expr.latex())"
   ]
  },
  {
   "cell_type": "code",
   "execution_count": 5,
   "metadata": {},
   "outputs": [
    {
     "data": {
      "text/html": [
       "<table>\n",
       "<tr><th>name</th><th>description</th><th>default</th><th>current value</th><th>related methods</th></tr><tr><td>spacing</td><td>change the spacing of a circuit using the format '@C=1em @R=.7em' where C is the column spacing and R is the row spacing</td><td>@C=1em @R=.7em</td><td>@C=1em @R=.7em</td><td></td></tr>\n",
       "<tr><td>orientation</td><td>to be read from left to right then top to bottom ('horizontal') or to be read top to bottom then left to right ('vertical')</td><td>horizontal</td><td>horizontal</td><td>with_orientation</td></tr>\n",
       "</table>\n"
      ],
      "text/plain": [
       "style name: spacing\n",
       "description: change the spacing of a circuit using the format '@C=1em @R=.7em' where C is the column spacing and R is the row spacing\n",
       "default: @C=1em @R=.7em\n",
       "current value: @C=1em @R=.7em\n",
       "related methods: ()\n",
       "style name: orientation\n",
       "description: to be read from left to right then top to bottom ('horizontal') or to be read top to bottom then left to right ('vertical')\n",
       "default: horizontal\n",
       "current value: horizontal\n",
       "related methods: with_orientation"
      ]
     },
     "execution_count": 5,
     "metadata": {},
     "output_type": "execute_result"
    }
   ],
   "source": [
    "expr.style_options()"
   ]
  },
  {
   "cell_type": "code",
   "execution_count": 6,
   "metadata": {},
   "outputs": [
    {
     "data": {
      "text/html": [
       "<table><tr><th>&nbsp;</th><th>core type</th><th>sub-expressions</th><th>expression</th></tr>\n",
       "<tr><td>0</td><td>Operation</td><td>operator:&nbsp;1<br>operand:&nbsp;3<br></td><td><a class=\"ProveItLink\" href=\"expr.ipynb\"><img src=\"expr.png\" style=\"display:inline;vertical-align:middle;\" /></a></td></tr>\n",
       "<tr><td>1</td><td>Literal</td><td></td><td><a class=\"ProveItLink\" href=\"../../common/bfa5cfb2e03dde2ed2a79fcd50b6e0ef7e57c1b10/expr.ipynb\"><img src=\"../../common/bfa5cfb2e03dde2ed2a79fcd50b6e0ef7e57c1b10/expr.png\" style=\"display:inline;vertical-align:middle;\" /></a></td></tr>\n",
       "<tr><td>2</td><td>ExprTuple</td><td>3</td><td><a class=\"ProveItLink\" href=\"../41adcbda394b5385a54b629dd8607d3a05e079ac0/expr.ipynb\"><img src=\"../41adcbda394b5385a54b629dd8607d3a05e079ac0/expr.png\" style=\"display:inline;vertical-align:middle;\" /></a></td></tr>\n",
       "<tr><td>3</td><td>ExprTuple</td><td>4, 5, 6, 7</td><td><a class=\"ProveItLink\" href=\"../8aac8e7839c5dfc2060f7043f74825daa4537bac0/expr.ipynb\"><img src=\"../8aac8e7839c5dfc2060f7043f74825daa4537bac0/expr.png\" style=\"display:inline;vertical-align:middle;\" /></a></td></tr>\n",
       "<tr><td>4</td><td>ExprTuple</td><td>11, 8, 13</td><td><a class=\"ProveItLink\" href=\"../635607af9299f8e9357adb5e2871fde8ac7977a00/expr.ipynb\"><img src=\"../635607af9299f8e9357adb5e2871fde8ac7977a00/expr.png\" style=\"display:inline;vertical-align:middle;\" /></a></td></tr>\n",
       "<tr><td>5</td><td>ExprTuple</td><td>11, 9, 13</td><td><a class=\"ProveItLink\" href=\"../1d9268b793be2b77c922b423cfc1377ad15b12390/expr.ipynb\"><img src=\"../1d9268b793be2b77c922b423cfc1377ad15b12390/expr.png\" style=\"display:inline;vertical-align:middle;\" /></a></td></tr>\n",
       "<tr><td>6</td><td>ExprTuple</td><td>11, 10, 13</td><td><a class=\"ProveItLink\" href=\"../f6439566b4e3bd387d6e3986f7ae82ee804f08660/expr.ipynb\"><img src=\"../f6439566b4e3bd387d6e3986f7ae82ee804f08660/expr.png\" style=\"display:inline;vertical-align:middle;\" /></a></td></tr>\n",
       "<tr><td>7</td><td>ExprTuple</td><td>11, 12, 13</td><td><a class=\"ProveItLink\" href=\"../52e931da28e79d0344bb3a84f0f6a65c80945bd40/expr.ipynb\"><img src=\"../52e931da28e79d0344bb3a84f0f6a65c80945bd40/expr.png\" style=\"display:inline;vertical-align:middle;\" /></a></td></tr>\n",
       "<tr><td>8</td><td>Operation</td><td>operator:&nbsp;18<br>operands:&nbsp;14<br></td><td><a class=\"ProveItLink\" href=\"../37bc1b4ee6b0ad61db7402d5f5d887594b1901d60/expr.ipynb\"><img src=\"../37bc1b4ee6b0ad61db7402d5f5d887594b1901d60/expr.png\" style=\"display:inline;vertical-align:middle;\" /></a></td></tr>\n",
       "<tr><td>9</td><td>Operation</td><td>operator:&nbsp;18<br>operands:&nbsp;15<br></td><td><a class=\"ProveItLink\" href=\"../cb837516b2dd801ab3837c6891cbc01f4f1dabd10/expr.ipynb\"><img src=\"../cb837516b2dd801ab3837c6891cbc01f4f1dabd10/expr.png\" style=\"display:inline;vertical-align:middle;\" /></a></td></tr>\n",
       "<tr><td>10</td><td>Operation</td><td>operator:&nbsp;18<br>operands:&nbsp;16<br></td><td><a class=\"ProveItLink\" href=\"../1f00de320c38380cfd1a35292f827a66a110b7a60/expr.ipynb\"><img src=\"../1f00de320c38380cfd1a35292f827a66a110b7a60/expr.png\" style=\"display:inline;vertical-align:middle;\" /></a></td></tr>\n",
       "<tr><td>11</td><td>Operation</td><td>operator:&nbsp;20<br>operand:&nbsp;24<br></td><td><a class=\"ProveItLink\" href=\"../1e637d6dfa672aaca79e059d8b20023dc3ee84910/expr.ipynb\"><img src=\"../1e637d6dfa672aaca79e059d8b20023dc3ee84910/expr.png\" style=\"display:inline;vertical-align:middle;\" /></a></td></tr>\n",
       "<tr><td>12</td><td>Operation</td><td>operator:&nbsp;18<br>operands:&nbsp;19<br></td><td><a class=\"ProveItLink\" href=\"../d078ed5b4cd09f46165412ae28a347efa37c05c50/expr.ipynb\"><img src=\"../d078ed5b4cd09f46165412ae28a347efa37c05c50/expr.png\" style=\"display:inline;vertical-align:middle;\" /></a></td></tr>\n",
       "<tr><td>13</td><td>Operation</td><td>operator:&nbsp;20<br>operand:&nbsp;27<br></td><td><a class=\"ProveItLink\" href=\"../350791414447e1b0b2ab22a04505f79c86873bbe0/expr.ipynb\"><img src=\"../350791414447e1b0b2ab22a04505f79c86873bbe0/expr.png\" style=\"display:inline;vertical-align:middle;\" /></a></td></tr>\n",
       "<tr><td>14</td><td>ExprTuple</td><td>23, 22</td><td><a class=\"ProveItLink\" href=\"../c9f0179d12bca7a5e95c8388779f275d595765770/expr.ipynb\"><img src=\"../c9f0179d12bca7a5e95c8388779f275d595765770/expr.png\" style=\"display:inline;vertical-align:middle;\" /></a></td></tr>\n",
       "<tr><td>15</td><td>ExprTuple</td><td>25, 22</td><td><a class=\"ProveItLink\" href=\"../9c54f9c1414714f02c46b017ac48bccc687f38320/expr.ipynb\"><img src=\"../9c54f9c1414714f02c46b017ac48bccc687f38320/expr.png\" style=\"display:inline;vertical-align:middle;\" /></a></td></tr>\n",
       "<tr><td>16</td><td>ExprTuple</td><td>23, 26</td><td><a class=\"ProveItLink\" href=\"../7179f503f6fde55211fa84ac1b4edb5bf297afbc0/expr.ipynb\"><img src=\"../7179f503f6fde55211fa84ac1b4edb5bf297afbc0/expr.png\" style=\"display:inline;vertical-align:middle;\" /></a></td></tr>\n",
       "<tr><td>17</td><td>ExprTuple</td><td>24</td><td><a class=\"ProveItLink\" href=\"../305f4dde1b23f618d8c3b6406524ca18970907570/expr.ipynb\"><img src=\"../305f4dde1b23f618d8c3b6406524ca18970907570/expr.png\" style=\"display:inline;vertical-align:middle;\" /></a></td></tr>\n",
       "<tr><td>18</td><td>Literal</td><td></td><td><a class=\"ProveItLink\" href=\"../../common/38deceb0a69e80c36399d725649803706802a2a90/expr.ipynb\"><img src=\"../../common/38deceb0a69e80c36399d725649803706802a2a90/expr.png\" style=\"display:inline;vertical-align:middle;\" /></a></td></tr>\n",
       "<tr><td>19</td><td>ExprTuple</td><td>25, 26</td><td><a class=\"ProveItLink\" href=\"../81d566eeb0bc18296ad21ae9edb1683b0dbf84900/expr.ipynb\"><img src=\"../81d566eeb0bc18296ad21ae9edb1683b0dbf84900/expr.png\" style=\"display:inline;vertical-align:middle;\" /></a></td></tr>\n",
       "<tr><td>20</td><td>Literal</td><td></td><td><a class=\"ProveItLink\" href=\"../../common/44032ea2879a75be63dcfde93f5992fe3f6108fc0/expr.ipynb\"><img src=\"../../common/44032ea2879a75be63dcfde93f5992fe3f6108fc0/expr.png\" style=\"display:inline;vertical-align:middle;\" /></a></td></tr>\n",
       "<tr><td>21</td><td>ExprTuple</td><td>27</td><td><a class=\"ProveItLink\" href=\"../69c34dcfd0a394a30596030b438462e220d678350/expr.ipynb\"><img src=\"../69c34dcfd0a394a30596030b438462e220d678350/expr.png\" style=\"display:inline;vertical-align:middle;\" /></a></td></tr>\n",
       "<tr><td>22</td><td>Operation</td><td>operator:&nbsp;29<br>operands:&nbsp;28<br></td><td><a class=\"ProveItLink\" href=\"../1abc48c53e8e6b6fc6bd4d100acb9a3c28e8f2c70/expr.ipynb\"><img src=\"../1abc48c53e8e6b6fc6bd4d100acb9a3c28e8f2c70/expr.png\" style=\"display:inline;vertical-align:middle;\" /></a></td></tr>\n",
       "<tr><td>23</td><td>Literal</td><td></td><td><a class=\"ProveItLink\" href=\"../../common/b1beec78d8cd5a1effa0b2b1f6910261ffe687cf0/expr.ipynb\"><img src=\"../../common/b1beec78d8cd5a1effa0b2b1f6910261ffe687cf0/expr.png\" style=\"display:inline;vertical-align:middle;\" /></a></td></tr>\n",
       "<tr><td>24</td><td>Literal</td><td></td><td><a class=\"ProveItLink\" href=\"../../common/368cf31b7f078f904d5478ccb332c7d15763fe920/expr.ipynb\"><img src=\"../../common/368cf31b7f078f904d5478ccb332c7d15763fe920/expr.png\" style=\"display:inline;vertical-align:middle;\" /></a></td></tr>\n",
       "<tr><td>25</td><td>Literal</td><td></td><td><a class=\"ProveItLink\" href=\"../../common/c9c8328efedcafef6f2fc9fe107a9c89fd772b250/expr.ipynb\"><img src=\"../../common/c9c8328efedcafef6f2fc9fe107a9c89fd772b250/expr.png\" style=\"display:inline;vertical-align:middle;\" /></a></td></tr>\n",
       "<tr><td>26</td><td>Operation</td><td>operator:&nbsp;29<br>operands:&nbsp;30<br></td><td><a class=\"ProveItLink\" href=\"../6cfcf995f91fc94e5142f84a5a4bb6b4500d55bd0/expr.ipynb\"><img src=\"../6cfcf995f91fc94e5142f84a5a4bb6b4500d55bd0/expr.png\" style=\"display:inline;vertical-align:middle;\" /></a></td></tr>\n",
       "<tr><td>27</td><td>Literal</td><td></td><td><a class=\"ProveItLink\" href=\"../../common/94315bad5d6fa05ec6d0fac545cf2b5b7ed20d800/expr.ipynb\"><img src=\"../../common/94315bad5d6fa05ec6d0fac545cf2b5b7ed20d800/expr.png\" style=\"display:inline;vertical-align:middle;\" /></a></td></tr>\n",
       "<tr><td>28</td><td>ExprTuple</td><td>31, 32</td><td><a class=\"ProveItLink\" href=\"../../../../../numbers/numerals/decimals/__pv_it/theorems/b6dda0abe24a4592fb130c02ca5a89c1328050430/expr.ipynb\"><img src=\"../../../../../numbers/numerals/decimals/__pv_it/theorems/b6dda0abe24a4592fb130c02ca5a89c1328050430/expr.png\" style=\"display:inline;vertical-align:middle;\" /></a></td></tr>\n",
       "<tr><td>29</td><td>Literal</td><td></td><td><a class=\"ProveItLink\" href=\"../../../../../logic/sets/enumeration/__pv_it/common/f7caf702081f903a6ea3d95d680568dd78698f5a0/expr.ipynb\"><img src=\"../../../../../logic/sets/enumeration/__pv_it/common/f7caf702081f903a6ea3d95d680568dd78698f5a0/expr.png\" style=\"display:inline;vertical-align:middle;\" /></a></td></tr>\n",
       "<tr><td>30</td><td>ExprTuple</td><td>33, 34</td><td><a class=\"ProveItLink\" href=\"../../../../../numbers/numerals/decimals/__pv_it/theorems/597847cc5f00b6f9afa210fcfbb2e72452d288ad0/expr.ipynb\"><img src=\"../../../../../numbers/numerals/decimals/__pv_it/theorems/597847cc5f00b6f9afa210fcfbb2e72452d288ad0/expr.png\" style=\"display:inline;vertical-align:middle;\" /></a></td></tr>\n",
       "<tr><td>31</td><td>Literal</td><td></td><td><a class=\"ProveItLink\" href=\"../../../../../numbers/numerals/__pv_it/common/d278e359da0695d9652dd541d45264f93703e2e40/expr.ipynb\"><img src=\"../../../../../numbers/numerals/__pv_it/common/d278e359da0695d9652dd541d45264f93703e2e40/expr.png\" style=\"display:inline;vertical-align:middle;\" /></a></td></tr>\n",
       "<tr><td>32</td><td>Literal</td><td></td><td><a class=\"ProveItLink\" href=\"../../../../../numbers/numerals/__pv_it/common/3829356ce3fdf8f35810c63c00bc1a19e838663e0/expr.ipynb\"><img src=\"../../../../../numbers/numerals/__pv_it/common/3829356ce3fdf8f35810c63c00bc1a19e838663e0/expr.png\" style=\"display:inline;vertical-align:middle;\" /></a></td></tr>\n",
       "<tr><td>33</td><td>Literal</td><td></td><td><a class=\"ProveItLink\" href=\"../../../../../numbers/numerals/__pv_it/common/1477ef887611bedb97dfb89bcacde217bb43e8ed0/expr.ipynb\"><img src=\"../../../../../numbers/numerals/__pv_it/common/1477ef887611bedb97dfb89bcacde217bb43e8ed0/expr.png\" style=\"display:inline;vertical-align:middle;\" /></a></td></tr>\n",
       "<tr><td>34</td><td>Literal</td><td></td><td><a class=\"ProveItLink\" href=\"../../../../../numbers/numerals/__pv_it/common/de8f3e06d530f467e73bdbc965d9d86fa0f1b0db0/expr.ipynb\"><img src=\"../../../../../numbers/numerals/__pv_it/common/de8f3e06d530f467e73bdbc965d9d86fa0f1b0db0/expr.png\" style=\"display:inline;vertical-align:middle;\" /></a></td></tr>\n",
       "</table>\n"
      ],
      "text/plain": [
       "0.  Gate(H)  & MultiQubitGate(CONTROL, {1, 2})  & Gate(X)   \\\\ \n",
       "   Gate(H)  & MultiQubitGate(Z, {1, 2})  & Gate(X)   \\\\ \n",
       "   Gate(H)  & MultiQubitGate(CONTROL, {3, 4})  & Gate(X)   \\\\ \n",
       "   Gate(H)  & MultiQubitGate(Z, {3, 4})  & Gate(X)\n",
       "   core type: Operation\n",
       "   operator: 1\n",
       "   operand: 3\n",
       "1. CIRCUIT\n",
       "   core type: Literal\n",
       "   sub-expressions: \n",
       "2. ((Gate(H) & MultiQubitGate(CONTROL, {1, 2}) & Gate(X)  \\\\ \n",
       "  Gate(H) & MultiQubitGate(Z, {1, 2}) & Gate(X)  \\\\ \n",
       "  Gate(H) & MultiQubitGate(CONTROL, {3, 4}) & Gate(X)  \\\\ \n",
       "  Gate(H) & MultiQubitGate(Z, {3, 4}) & Gate(X)))\n",
       "   core type: ExprTuple\n",
       "   sub-expressions: 3\n",
       "3. Gate(H) & MultiQubitGate(CONTROL, {1, 2}) & Gate(X)  \\\\ \n",
       "  Gate(H) & MultiQubitGate(Z, {1, 2}) & Gate(X)  \\\\ \n",
       "  Gate(H) & MultiQubitGate(CONTROL, {3, 4}) & Gate(X)  \\\\ \n",
       "  Gate(H) & MultiQubitGate(Z, {3, 4}) & Gate(X)\n",
       "   core type: ExprTuple\n",
       "   sub-expressions: 4, 5, 6, 7\n",
       "4. (Gate(H), MultiQubitGate(CONTROL, {1, 2}), Gate(X))\n",
       "   core type: ExprTuple\n",
       "   sub-expressions: 11, 8, 13\n",
       "5. (Gate(H), MultiQubitGate(Z, {1, 2}), Gate(X))\n",
       "   core type: ExprTuple\n",
       "   sub-expressions: 11, 9, 13\n",
       "6. (Gate(H), MultiQubitGate(CONTROL, {3, 4}), Gate(X))\n",
       "   core type: ExprTuple\n",
       "   sub-expressions: 11, 10, 13\n",
       "7. (Gate(H), MultiQubitGate(Z, {3, 4}), Gate(X))\n",
       "   core type: ExprTuple\n",
       "   sub-expressions: 11, 12, 13\n",
       "8. MultiQubitGate(CONTROL, {1, 2})\n",
       "   core type: Operation\n",
       "   operator: 18\n",
       "   operands: 14\n",
       "9. MultiQubitGate(Z, {1, 2})\n",
       "   core type: Operation\n",
       "   operator: 18\n",
       "   operands: 15\n",
       "10. MultiQubitGate(CONTROL, {3, 4})\n",
       "    core type: Operation\n",
       "    operator: 18\n",
       "    operands: 16\n",
       "11. Gate(H)\n",
       "    core type: Operation\n",
       "    operator: 20\n",
       "    operand: 24\n",
       "12. MultiQubitGate(Z, {3, 4})\n",
       "    core type: Operation\n",
       "    operator: 18\n",
       "    operands: 19\n",
       "13. Gate(X)\n",
       "    core type: Operation\n",
       "    operator: 20\n",
       "    operand: 27\n",
       "14. (CONTROL, {1, 2})\n",
       "    core type: ExprTuple\n",
       "    sub-expressions: 23, 22\n",
       "15. (Z, {1, 2})\n",
       "    core type: ExprTuple\n",
       "    sub-expressions: 25, 22\n",
       "16. (CONTROL, {3, 4})\n",
       "    core type: ExprTuple\n",
       "    sub-expressions: 23, 26\n",
       "17. (H)\n",
       "    core type: ExprTuple\n",
       "    sub-expressions: 24\n",
       "18. MULTI_QUBIT_GATE\n",
       "    core type: Literal\n",
       "    sub-expressions: \n",
       "19. (Z, {3, 4})\n",
       "    core type: ExprTuple\n",
       "    sub-expressions: 25, 26\n",
       "20. GATE\n",
       "    core type: Literal\n",
       "    sub-expressions: \n",
       "21. (X)\n",
       "    core type: ExprTuple\n",
       "    sub-expressions: 27\n",
       "22. {1, 2}\n",
       "    core type: Operation\n",
       "    operator: 29\n",
       "    operands: 28\n",
       "23. CONTROL\n",
       "    core type: Literal\n",
       "    sub-expressions: \n",
       "24. H\n",
       "    core type: Literal\n",
       "    sub-expressions: \n",
       "25. Z\n",
       "    core type: Literal\n",
       "    sub-expressions: \n",
       "26. {3, 4}\n",
       "    core type: Operation\n",
       "    operator: 29\n",
       "    operands: 30\n",
       "27. X\n",
       "    core type: Literal\n",
       "    sub-expressions: \n",
       "28. (1, 2)\n",
       "    core type: ExprTuple\n",
       "    sub-expressions: 31, 32\n",
       "29. Set\n",
       "    core type: Literal\n",
       "    sub-expressions: \n",
       "30. (3, 4)\n",
       "    core type: ExprTuple\n",
       "    sub-expressions: 33, 34\n",
       "31. 1\n",
       "    core type: Literal\n",
       "    sub-expressions: \n",
       "32. 2\n",
       "    core type: Literal\n",
       "    sub-expressions: \n",
       "33. 3\n",
       "    core type: Literal\n",
       "    sub-expressions: \n",
       "34. 4\n",
       "    core type: Literal\n",
       "    sub-expressions: "
      ]
     },
     "execution_count": 6,
     "metadata": {},
     "output_type": "execute_result"
    }
   ],
   "source": [
    "# display the expression information\n",
    "expr.expr_info()"
   ]
  },
  {
   "cell_type": "code",
   "execution_count": null,
   "metadata": {},
   "outputs": [],
   "source": []
  }
 ],
 "metadata": {
  "kernelspec": {
   "display_name": "Python 3",
   "language": "python",
   "name": "python3"
  }
 },
 "nbformat": 4,
 "nbformat_minor": 0
}