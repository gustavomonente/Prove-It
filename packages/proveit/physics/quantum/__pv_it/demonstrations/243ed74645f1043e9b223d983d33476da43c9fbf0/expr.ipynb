{
 "cells": [
  {
   "cell_type": "markdown",
   "metadata": {},
   "source": [
    "Expression of type <a class=\"ProveItLink\" href=\"../../../../../../../doc/html/api/proveit.physics.quantum.circuit.CircuitEquiv.html\">CircuitEquiv</a>\n",
    "=======================\n",
    "# from the theory of <a class=\"ProveItLink\" href=\"../../../_theory_nbs_/theory.ipynb\">proveit.physics.quantum</a>"
   ]
  },
  {
   "cell_type": "code",
   "execution_count": 1,
   "metadata": {},
   "outputs": [],
   "source": [
    "import proveit\n",
    "# Automation is not needed when building an expression:\n",
    "proveit.defaults.automation = False # This will speed things up.\n",
    "proveit.defaults.inline_pngs = False # Makes files smaller.\n",
    "%load_expr # Load the stored expression as 'stored_expr'\n",
    "# import Expression classes needed to build the expression\n",
    "from proveit import B, D, ExprArray, ExprRange, IndexedVar, j, n\n",
    "from proveit.numbers import one\n",
    "from proveit.physics.quantum import Gate\n",
    "from proveit.physics.quantum.circuit import Circuit, CircuitEquiv"
   ]
  },
  {
   "cell_type": "code",
   "execution_count": 2,
   "metadata": {},
   "outputs": [
    {
     "data": {
      "text/html": [
       "<strong id=\"expr\">expr:</strong> <a class=\"ProveItLink\" href=\"expr.ipynb\"><img src=\"expr.png\" style=\"display:inline;vertical-align:middle;\" /></a><br>"
      ],
      "text/plain": [
       "expr:  Gate(B_{1})  & ..Gate(B_{j})..  & Gate(B_{n}) equiv  Gate(D_{1})  & ..Gate(D_{j})..  & Gate(D_{n})"
      ]
     },
     "execution_count": 2,
     "metadata": {},
     "output_type": "execute_result"
    }
   ],
   "source": [
    "# build up the expression from sub-expressions\n",
    "expr = CircuitEquiv(Circuit(ExprArray([ExprRange(j, Gate(IndexedVar(B, j)), one, n)])), Circuit(ExprArray([ExprRange(j, Gate(IndexedVar(D, j)), one, n)])))"
   ]
  },
  {
   "cell_type": "code",
   "execution_count": 3,
   "metadata": {},
   "outputs": [
    {
     "name": "stdout",
     "output_type": "stream",
     "text": [
      "Passed sanity check: expr matches stored_expr\n"
     ]
    }
   ],
   "source": [
    "# check that the built expression is the same as the stored expression\n",
    "assert expr == stored_expr\n",
    "assert expr._style_id == stored_expr._style_id\n",
    "print(\"Passed sanity check: expr matches stored_expr\")"
   ]
  },
  {
   "cell_type": "code",
   "execution_count": 4,
   "metadata": {},
   "outputs": [
    {
     "name": "stdout",
     "output_type": "stream",
     "text": [
      "\\hspace{2em} \\Qcircuit@C=1em @R=.7em{\n",
      "& \\gate{B_{1}} & \\gate{\\cdots} & \\gate{B_{n}} \n",
      "} \\hspace{2em} \\cong \\hspace{2em} \\Qcircuit@C=1em @R=.7em{\n",
      "& \\gate{D_{1}} & \\gate{\\cdots} & \\gate{D_{n}} \n",
      "} \\hspace{2em}\n"
     ]
    }
   ],
   "source": [
    "# Show the LaTeX representation of the expression for convenience if you need it.\n",
    "print(expr.latex())"
   ]
  },
  {
   "cell_type": "code",
   "execution_count": 5,
   "metadata": {},
   "outputs": [
    {
     "data": {
      "text/html": [
       "<table>\n",
       "<tr><th>name</th><th>description</th><th>default</th><th>current value</th><th>related methods</th></tr><tr><td>operation</td><td>'infix' or 'function' style formatting</td><td>infix</td><td>infix</td><td></td></tr>\n",
       "<tr><td>wrap_positions</td><td>position(s) at which wrapping is to occur; '2 n - 1' is after the nth operand, '2 n' is after the nth operation.</td><td>()</td><td>()</td><td>('with_wrapping_at', 'with_wrap_before_operator', 'with_wrap_after_operator', 'wrap_positions')</td></tr>\n",
       "<tr><td>justification</td><td>if any wrap positions are set, justify to the 'left', 'center', or 'right'</td><td>center</td><td>center</td><td>('with_justification',)</td></tr>\n",
       "<tr><td>direction</td><td>Direction of the relation (normal or reversed)</td><td>normal</td><td>normal</td><td>('with_direction_reversed', 'is_reversed')</td></tr>\n",
       "</table>\n"
      ],
      "text/plain": [
       "style name: operation\n",
       "description: 'infix' or 'function' style formatting\n",
       "default: infix\n",
       "current value: infix\n",
       "related methods: ()\n",
       "style name: wrap_positions\n",
       "description: position(s) at which wrapping is to occur; '2 n - 1' is after the nth operand, '2 n' is after the nth operation.\n",
       "default: ()\n",
       "current value: ()\n",
       "related methods: ('with_wrapping_at', 'with_wrap_before_operator', 'with_wrap_after_operator', 'wrap_positions')\n",
       "style name: justification\n",
       "description: if any wrap positions are set, justify to the 'left', 'center', or 'right'\n",
       "default: center\n",
       "current value: center\n",
       "related methods: ('with_justification',)\n",
       "style name: direction\n",
       "description: Direction of the relation (normal or reversed)\n",
       "default: normal\n",
       "current value: normal\n",
       "related methods: ('with_direction_reversed', 'is_reversed')"
      ]
     },
     "execution_count": 5,
     "metadata": {},
     "output_type": "execute_result"
    }
   ],
   "source": [
    "expr.style_options()"
   ]
  },
  {
   "cell_type": "code",
   "execution_count": 6,
   "metadata": {},
   "outputs": [
    {
     "data": {
      "text/html": [
       "<table><tr><th>&nbsp;</th><th>core type</th><th>sub-expressions</th><th>expression</th></tr>\n",
       "<tr><td>0</td><td>Operation</td><td>operator:&nbsp;1<br>operands:&nbsp;2<br></td><td><a class=\"ProveItLink\" href=\"expr.ipynb\"><img src=\"expr.png\" style=\"display:inline;vertical-align:middle;\" /></a></td></tr>\n",
       "<tr><td>1</td><td>Literal</td><td></td><td><a class=\"ProveItLink\" href=\"../../common/0b9aa3c8024dab4294c5a1714db64eed0eeab1cc0/expr.ipynb\"><img src=\"../../common/0b9aa3c8024dab4294c5a1714db64eed0eeab1cc0/expr.png\" style=\"display:inline;vertical-align:middle;\" /></a></td></tr>\n",
       "<tr><td>2</td><td>ExprTuple</td><td>3, 4</td><td><a class=\"ProveItLink\" href=\"../7a4232d329264ed0856d92c497546d99ee5ae1240/expr.ipynb\"><img src=\"../7a4232d329264ed0856d92c497546d99ee5ae1240/expr.png\" style=\"display:inline;vertical-align:middle;\" /></a></td></tr>\n",
       "<tr><td>3</td><td>Operation</td><td>operator:&nbsp;6<br>operand:&nbsp;8<br></td><td><a class=\"ProveItLink\" href=\"../ce368723f861ce9d903cf843ae175ce0d86402440/expr.ipynb\"><img src=\"../ce368723f861ce9d903cf843ae175ce0d86402440/expr.png\" style=\"display:inline;vertical-align:middle;\" /></a></td></tr>\n",
       "<tr><td>4</td><td>Operation</td><td>operator:&nbsp;6<br>operand:&nbsp;9<br></td><td><a class=\"ProveItLink\" href=\"../5db060c90c86cadb9abe0bb834275d786c16f1170/expr.ipynb\"><img src=\"../5db060c90c86cadb9abe0bb834275d786c16f1170/expr.png\" style=\"display:inline;vertical-align:middle;\" /></a></td></tr>\n",
       "<tr><td>5</td><td>ExprTuple</td><td>8</td><td><a class=\"ProveItLink\" href=\"../561e03a1307ecce7db8dc3cd3d46a5315c87b7f40/expr.ipynb\"><img src=\"../561e03a1307ecce7db8dc3cd3d46a5315c87b7f40/expr.png\" style=\"display:inline;vertical-align:middle;\" /></a></td></tr>\n",
       "<tr><td>6</td><td>Literal</td><td></td><td><a class=\"ProveItLink\" href=\"../../common/bfa5cfb2e03dde2ed2a79fcd50b6e0ef7e57c1b10/expr.ipynb\"><img src=\"../../common/bfa5cfb2e03dde2ed2a79fcd50b6e0ef7e57c1b10/expr.png\" style=\"display:inline;vertical-align:middle;\" /></a></td></tr>\n",
       "<tr><td>7</td><td>ExprTuple</td><td>9</td><td><a class=\"ProveItLink\" href=\"../8f9d4ee4fcf80dc226804505f269cc5ebacec4c10/expr.ipynb\"><img src=\"../8f9d4ee4fcf80dc226804505f269cc5ebacec4c10/expr.png\" style=\"display:inline;vertical-align:middle;\" /></a></td></tr>\n",
       "<tr><td>8</td><td>ExprTuple</td><td>10</td><td><a class=\"ProveItLink\" href=\"../e4e26ac9640471071e0c1ba4efc0574ad77277010/expr.ipynb\"><img src=\"../e4e26ac9640471071e0c1ba4efc0574ad77277010/expr.png\" style=\"display:inline;vertical-align:middle;\" /></a></td></tr>\n",
       "<tr><td>9</td><td>ExprTuple</td><td>11</td><td><a class=\"ProveItLink\" href=\"../df91cc6e48c391f2f8fbabab6c19f8383c5f95af0/expr.ipynb\"><img src=\"../df91cc6e48c391f2f8fbabab6c19f8383c5f95af0/expr.png\" style=\"display:inline;vertical-align:middle;\" /></a></td></tr>\n",
       "<tr><td>10</td><td>ExprTuple</td><td>12</td><td><a class=\"ProveItLink\" href=\"../a1e1f2c36dd119b25cce2988a2ad55e812fea6d90/expr.ipynb\"><img src=\"../a1e1f2c36dd119b25cce2988a2ad55e812fea6d90/expr.png\" style=\"display:inline;vertical-align:middle;\" /></a></td></tr>\n",
       "<tr><td>11</td><td>ExprTuple</td><td>13</td><td><a class=\"ProveItLink\" href=\"../235893d69e3997f7798b56ceda1f5a910d5dc2bd0/expr.ipynb\"><img src=\"../235893d69e3997f7798b56ceda1f5a910d5dc2bd0/expr.png\" style=\"display:inline;vertical-align:middle;\" /></a></td></tr>\n",
       "<tr><td>12</td><td>ExprRange</td><td>lambda_map:&nbsp;14<br>start_index:&nbsp;16<br>end_index:&nbsp;17<br></td><td><a class=\"ProveItLink\" href=\"../52470bea9956e65d8b518ffd5cd69b4d497a71260/expr.ipynb\"><img src=\"../52470bea9956e65d8b518ffd5cd69b4d497a71260/expr.png\" style=\"display:inline;vertical-align:middle;\" /></a></td></tr>\n",
       "<tr><td>13</td><td>ExprRange</td><td>lambda_map:&nbsp;15<br>start_index:&nbsp;16<br>end_index:&nbsp;17<br></td><td><a class=\"ProveItLink\" href=\"../cf57429aa77bf6a8d5df0b8c74cf5dd63e22f1560/expr.ipynb\"><img src=\"../cf57429aa77bf6a8d5df0b8c74cf5dd63e22f1560/expr.png\" style=\"display:inline;vertical-align:middle;\" /></a></td></tr>\n",
       "<tr><td>14</td><td>Lambda</td><td>parameter:&nbsp;28<br>body:&nbsp;18<br></td><td><a class=\"ProveItLink\" href=\"../9825dd28f64cf491c8c974a985e5c2082634a5400/expr.ipynb\"><img src=\"../9825dd28f64cf491c8c974a985e5c2082634a5400/expr.png\" style=\"display:inline;vertical-align:middle;\" /></a></td></tr>\n",
       "<tr><td>15</td><td>Lambda</td><td>parameter:&nbsp;28<br>body:&nbsp;19<br></td><td><a class=\"ProveItLink\" href=\"../5fcc9ba7b25751677e7121660589348722360fa80/expr.ipynb\"><img src=\"../5fcc9ba7b25751677e7121660589348722360fa80/expr.png\" style=\"display:inline;vertical-align:middle;\" /></a></td></tr>\n",
       "<tr><td>16</td><td>Literal</td><td></td><td><a class=\"ProveItLink\" href=\"../../../../../numbers/numerals/__pv_it/common/d278e359da0695d9652dd541d45264f93703e2e40/expr.ipynb\"><img src=\"../../../../../numbers/numerals/__pv_it/common/d278e359da0695d9652dd541d45264f93703e2e40/expr.png\" style=\"display:inline;vertical-align:middle;\" /></a></td></tr>\n",
       "<tr><td>17</td><td>Variable</td><td></td><td><a class=\"ProveItLink\" href=\"../../../../../__pv_it/common/6165c9bb82ce3c7097cdba4440a1aeeb6eaca8a40/expr.ipynb\"><img src=\"../../../../../__pv_it/common/6165c9bb82ce3c7097cdba4440a1aeeb6eaca8a40/expr.png\" style=\"display:inline;vertical-align:middle;\" /></a></td></tr>\n",
       "<tr><td>18</td><td>Operation</td><td>operator:&nbsp;21<br>operand:&nbsp;23<br></td><td><a class=\"ProveItLink\" href=\"../2bb7982b82a2f8e2b2e5dc66261b292307cbf5760/expr.ipynb\"><img src=\"../2bb7982b82a2f8e2b2e5dc66261b292307cbf5760/expr.png\" style=\"display:inline;vertical-align:middle;\" /></a></td></tr>\n",
       "<tr><td>19</td><td>Operation</td><td>operator:&nbsp;21<br>operand:&nbsp;24<br></td><td><a class=\"ProveItLink\" href=\"../d076b6a5155f671913e50d9ba45d4bbdc32c9dc80/expr.ipynb\"><img src=\"../d076b6a5155f671913e50d9ba45d4bbdc32c9dc80/expr.png\" style=\"display:inline;vertical-align:middle;\" /></a></td></tr>\n",
       "<tr><td>20</td><td>ExprTuple</td><td>23</td><td><a class=\"ProveItLink\" href=\"../96d6b1155c6a5e7b7124ff83a4acd7051222f2ce0/expr.ipynb\"><img src=\"../96d6b1155c6a5e7b7124ff83a4acd7051222f2ce0/expr.png\" style=\"display:inline;vertical-align:middle;\" /></a></td></tr>\n",
       "<tr><td>21</td><td>Literal</td><td></td><td><a class=\"ProveItLink\" href=\"../../common/44032ea2879a75be63dcfde93f5992fe3f6108fc0/expr.ipynb\"><img src=\"../../common/44032ea2879a75be63dcfde93f5992fe3f6108fc0/expr.png\" style=\"display:inline;vertical-align:middle;\" /></a></td></tr>\n",
       "<tr><td>22</td><td>ExprTuple</td><td>24</td><td><a class=\"ProveItLink\" href=\"../2bf0c506c34e3e29996858dd69e6ec633021d42c0/expr.ipynb\"><img src=\"../2bf0c506c34e3e29996858dd69e6ec633021d42c0/expr.png\" style=\"display:inline;vertical-align:middle;\" /></a></td></tr>\n",
       "<tr><td>23</td><td>IndexedVar</td><td>variable:&nbsp;25<br>index:&nbsp;28<br></td><td><a class=\"ProveItLink\" href=\"../25f63bb5a4a10957e0917572f4d0428ceba68d330/expr.ipynb\"><img src=\"../25f63bb5a4a10957e0917572f4d0428ceba68d330/expr.png\" style=\"display:inline;vertical-align:middle;\" /></a></td></tr>\n",
       "<tr><td>24</td><td>IndexedVar</td><td>variable:&nbsp;26<br>index:&nbsp;28<br></td><td><a class=\"ProveItLink\" href=\"../3e714d90f08d6a4a3b665ae52234f06e0cb468370/expr.ipynb\"><img src=\"../3e714d90f08d6a4a3b665ae52234f06e0cb468370/expr.png\" style=\"display:inline;vertical-align:middle;\" /></a></td></tr>\n",
       "<tr><td>25</td><td>Variable</td><td></td><td><a class=\"ProveItLink\" href=\"../../../../../__pv_it/common/4eca3b30dcf58a58494e201d1b7886d8643a617b0/expr.ipynb\"><img src=\"../../../../../__pv_it/common/4eca3b30dcf58a58494e201d1b7886d8643a617b0/expr.png\" style=\"display:inline;vertical-align:middle;\" /></a></td></tr>\n",
       "<tr><td>26</td><td>Variable</td><td></td><td><a class=\"ProveItLink\" href=\"../../../../../__pv_it/common/e5e296931d7f88d2c0ed4dd1b8498a680788952f0/expr.ipynb\"><img src=\"../../../../../__pv_it/common/e5e296931d7f88d2c0ed4dd1b8498a680788952f0/expr.png\" style=\"display:inline;vertical-align:middle;\" /></a></td></tr>\n",
       "<tr><td>27</td><td>ExprTuple</td><td>28</td><td><a class=\"ProveItLink\" href=\"../a9ba12b2160b99c6e4ef450a8a2fae56cdead2790/expr.ipynb\"><img src=\"../a9ba12b2160b99c6e4ef450a8a2fae56cdead2790/expr.png\" style=\"display:inline;vertical-align:middle;\" /></a></td></tr>\n",
       "<tr><td>28</td><td>Variable</td><td></td><td><a class=\"ProveItLink\" href=\"../../../../../__pv_it/common/5514cc9a63b9c2ed9b63934dd5e088ab0d4f10080/expr.ipynb\"><img src=\"../../../../../__pv_it/common/5514cc9a63b9c2ed9b63934dd5e088ab0d4f10080/expr.png\" style=\"display:inline;vertical-align:middle;\" /></a></td></tr>\n",
       "</table>\n"
      ],
      "text/plain": [
       "0.  Gate(B_{1})  & ..Gate(B_{j})..  & Gate(B_{n}) equiv  Gate(D_{1})  & ..Gate(D_{j})..  & Gate(D_{n})\n",
       "   core type: Operation\n",
       "   operator: 1\n",
       "   operands: 2\n",
       "1. equiv\n",
       "   core type: Literal\n",
       "   sub-expressions: \n",
       "2. ( Gate(B_{1})  & ..Gate(B_{j})..  & Gate(B_{n}),  Gate(D_{1})  & ..Gate(D_{j})..  & Gate(D_{n}))\n",
       "   core type: ExprTuple\n",
       "   sub-expressions: 3, 4\n",
       "3.  Gate(B_{1})  & ..Gate(B_{j})..  & Gate(B_{n})\n",
       "   core type: Operation\n",
       "   operator: 6\n",
       "   operand: 8\n",
       "4.  Gate(D_{1})  & ..Gate(D_{j})..  & Gate(D_{n})\n",
       "   core type: Operation\n",
       "   operator: 6\n",
       "   operand: 9\n",
       "5. ((Gate(B_{1}) & ..Gate(B_{j}).. & Gate(B_{n})))\n",
       "   core type: ExprTuple\n",
       "   sub-expressions: 8\n",
       "6. CIRCUIT\n",
       "   core type: Literal\n",
       "   sub-expressions: \n",
       "7. ((Gate(D_{1}) & ..Gate(D_{j}).. & Gate(D_{n})))\n",
       "   core type: ExprTuple\n",
       "   sub-expressions: 9\n",
       "8. Gate(B_{1}) & ..Gate(B_{j}).. & Gate(B_{n})\n",
       "   core type: ExprTuple\n",
       "   sub-expressions: 10\n",
       "9. Gate(D_{1}) & ..Gate(D_{j}).. & Gate(D_{n})\n",
       "   core type: ExprTuple\n",
       "   sub-expressions: 11\n",
       "10. (Gate(B_{1}), ..Gate(B_{j}).., Gate(B_{n}))\n",
       "    core type: ExprTuple\n",
       "    sub-expressions: 12\n",
       "11. (Gate(D_{1}), ..Gate(D_{j}).., Gate(D_{n}))\n",
       "    core type: ExprTuple\n",
       "    sub-expressions: 13\n",
       "12. Gate(B_{1}), ..Gate(B_{j}).., Gate(B_{n})\n",
       "    core type: ExprRange\n",
       "    lambda_map: 14\n",
       "    start_index: 16\n",
       "    end_index: 17\n",
       "13. Gate(D_{1}), ..Gate(D_{j}).., Gate(D_{n})\n",
       "    core type: ExprRange\n",
       "    lambda_map: 15\n",
       "    start_index: 16\n",
       "    end_index: 17\n",
       "14. j -> Gate(B_{j})\n",
       "    core type: Lambda\n",
       "    parameter: 28\n",
       "    body: 18\n",
       "15. j -> Gate(D_{j})\n",
       "    core type: Lambda\n",
       "    parameter: 28\n",
       "    body: 19\n",
       "16. 1\n",
       "    core type: Literal\n",
       "    sub-expressions: \n",
       "17. n\n",
       "    core type: Variable\n",
       "    sub-expressions: \n",
       "18. Gate(B_{j})\n",
       "    core type: Operation\n",
       "    operator: 21\n",
       "    operand: 23\n",
       "19. Gate(D_{j})\n",
       "    core type: Operation\n",
       "    operator: 21\n",
       "    operand: 24\n",
       "20. (B_{j})\n",
       "    core type: ExprTuple\n",
       "    sub-expressions: 23\n",
       "21. GATE\n",
       "    core type: Literal\n",
       "    sub-expressions: \n",
       "22. (D_{j})\n",
       "    core type: ExprTuple\n",
       "    sub-expressions: 24\n",
       "23. B_{j}\n",
       "    core type: IndexedVar\n",
       "variable: 25\n",
       "index: 28\n",
       "24. D_{j}\n",
       "    core type: IndexedVar\n",
       "variable: 26\n",
       "index: 28\n",
       "25. B\n",
       "    core type: Variable\n",
       "    sub-expressions: \n",
       "26. D\n",
       "    core type: Variable\n",
       "    sub-expressions: \n",
       "27. (j)\n",
       "    core type: ExprTuple\n",
       "    sub-expressions: 28\n",
       "28. j\n",
       "    core type: Variable\n",
       "    sub-expressions: "
      ]
     },
     "execution_count": 6,
     "metadata": {},
     "output_type": "execute_result"
    }
   ],
   "source": [
    "# display the expression information\n",
    "expr.expr_info()"
   ]
  },
  {
   "cell_type": "code",
   "execution_count": null,
   "metadata": {},
   "outputs": [],
   "source": []
  }
 ],
 "metadata": {
  "kernelspec": {
   "display_name": "Python 3",
   "language": "python",
   "name": "python3"
  }
 },
 "nbformat": 4,
 "nbformat_minor": 0
}