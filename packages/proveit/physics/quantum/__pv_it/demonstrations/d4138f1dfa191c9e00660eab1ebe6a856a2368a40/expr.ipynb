{
 "cells": [
  {
   "cell_type": "markdown",
   "metadata": {},
   "source": [
    "Expression of type <a class=\"ProveItLink\" href=\"../../../../../../../doc/html/api/proveit.ExprTuple.html\">ExprTuple</a>\n",
    "=======================\n",
    "# from the theory of <a class=\"ProveItLink\" href=\"../../../_theory_nbs_/theory.ipynb\">proveit.physics.quantum</a>"
   ]
  },
  {
   "cell_type": "code",
   "execution_count": 1,
   "metadata": {},
   "outputs": [],
   "source": [
    "import proveit\n",
    "# Automation is not needed when building an expression:\n",
    "proveit.defaults.automation = False # This will speed things up.\n",
    "proveit.defaults.inline_pngs = False # Makes files smaller.\n",
    "%load_expr # Load the stored expression as 'stored_expr'\n",
    "# import Expression classes needed to build the expression\n",
    "from proveit import ExprTuple\n",
    "from proveit.logic import Set\n",
    "from proveit.numbers import one, three, two\n",
    "from proveit.physics.quantum import CLASSICAL_CONTROL, CONTROL, Gate, H, I, Input, MEAS, SPACE, ket_psi\n",
    "from proveit.physics.quantum.circuit import MultiQubitGate"
   ]
  },
  {
   "cell_type": "code",
   "execution_count": 2,
   "metadata": {},
   "outputs": [
    {
     "data": {
      "text/html": [
       "<strong id=\"expr\">expr:</strong> <a class=\"ProveItLink\" href=\"expr.ipynb\"><img src=\"expr.png\" style=\"display:inline;vertical-align:middle;\" /></a><br>"
      ],
      "text/plain": [
       "expr: (Input(|psi〉), --, --, MultiQubitGate(CONTROL, {1, 2}), Gate(H), Gate(MES), MultiQubitGate(CLASSICAL\\_CONTROL, {1, 3}), SPACE)"
      ]
     },
     "execution_count": 2,
     "metadata": {},
     "output_type": "execute_result"
    }
   ],
   "source": [
    "# build up the expression from sub-expressions\n",
    "expr = ExprTuple(Input(ket_psi), I, I, MultiQubitGate(CONTROL, Set(one, two)), Gate(H), MEAS, MultiQubitGate(CLASSICAL_CONTROL, Set(one, three)), SPACE)"
   ]
  },
  {
   "cell_type": "code",
   "execution_count": 3,
   "metadata": {},
   "outputs": [
    {
     "name": "stdout",
     "output_type": "stream",
     "text": [
      "Passed sanity check: expr matches stored_expr\n"
     ]
    }
   ],
   "source": [
    "# check that the built expression is the same as the stored expression\n",
    "assert expr == stored_expr\n",
    "assert expr._style_id == stored_expr._style_id\n",
    "print(\"Passed sanity check: expr matches stored_expr\")"
   ]
  },
  {
   "cell_type": "code",
   "execution_count": 4,
   "metadata": {},
   "outputs": [
    {
     "name": "stdout",
     "output_type": "stream",
     "text": [
      "\\left(\\hspace{2em} \\Qcircuit@C=1em @R=.7em{\n",
      "& \\lstick{\\lvert \\psi \\rangle} \n",
      "} \\hspace{2em}, \\hspace{2em} \\Qcircuit@C=1em @R=.7em{\n",
      "& \\qw \n",
      "} \\hspace{2em}, \\hspace{2em} \\Qcircuit@C=1em @R=.7em{\n",
      "& \\qw \n",
      "} \\hspace{2em}, \\hspace{2em} \\Qcircuit@C=1em @R=.7em{\n",
      "& \\control \\qw \n",
      "} \\hspace{2em}, \\hspace{2em} \\Qcircuit@C=1em @R=.7em{\n",
      "& \\gate{H} \n",
      "} \\hspace{2em}, \\hspace{2em} \\Qcircuit@C=1em @R=.7em{\n",
      "& \\meter \n",
      "} \\hspace{2em}, \\hspace{2em} \\Qcircuit@C=1em @R=.7em{\n",
      "& \\control \\cw \n",
      "} \\hspace{2em}, SPACE\\right)\n"
     ]
    }
   ],
   "source": [
    "# Show the LaTeX representation of the expression for convenience if you need it.\n",
    "print(expr.latex())"
   ]
  },
  {
   "cell_type": "code",
   "execution_count": 5,
   "metadata": {},
   "outputs": [
    {
     "data": {
      "text/html": [
       "<table>\n",
       "<tr><th>name</th><th>description</th><th>default</th><th>current value</th><th>related methods</th></tr><tr><td>wrap_positions</td><td>position(s) at which wrapping is to occur; 'n' is after the nth comma.</td><td>()</td><td>()</td><td>('with_wrapping_at',)</td></tr>\n",
       "<tr><td>justification</td><td>if any wrap positions are set, justify to the 'left', 'center', or 'right'</td><td>left</td><td>left</td><td>('with_justification',)</td></tr>\n",
       "</table>\n"
      ],
      "text/plain": [
       "style name: wrap_positions\n",
       "description: position(s) at which wrapping is to occur; 'n' is after the nth comma.\n",
       "default: ()\n",
       "current value: ()\n",
       "related methods: ('with_wrapping_at',)\n",
       "style name: justification\n",
       "description: if any wrap positions are set, justify to the 'left', 'center', or 'right'\n",
       "default: left\n",
       "current value: left\n",
       "related methods: ('with_justification',)"
      ]
     },
     "execution_count": 5,
     "metadata": {},
     "output_type": "execute_result"
    }
   ],
   "source": [
    "expr.style_options()"
   ]
  },
  {
   "cell_type": "code",
   "execution_count": 6,
   "metadata": {},
   "outputs": [
    {
     "data": {
      "text/html": [
       "<table><tr><th>&nbsp;</th><th>core type</th><th>sub-expressions</th><th>expression</th></tr>\n",
       "<tr><td>0</td><td>ExprTuple</td><td>1, 2, 2, 3, 4, 5, 6, 7</td><td><a class=\"ProveItLink\" href=\"expr.ipynb\"><img src=\"expr.png\" style=\"display:inline;vertical-align:middle;\" /></a></td></tr>\n",
       "<tr><td>1</td><td>Operation</td><td>operator:&nbsp;8<br>operand:&nbsp;16<br></td><td><a class=\"ProveItLink\" href=\"../0a85cd42046905c00d72d2ca34893d3038820e630/expr.ipynb\"><img src=\"../0a85cd42046905c00d72d2ca34893d3038820e630/expr.png\" style=\"display:inline;vertical-align:middle;\" /></a></td></tr>\n",
       "<tr><td>2</td><td>Literal</td><td></td><td><a class=\"ProveItLink\" href=\"../../common/1684671b210bf82fb5ddcb39adbc3acaab7ab55e0/expr.ipynb\"><img src=\"../../common/1684671b210bf82fb5ddcb39adbc3acaab7ab55e0/expr.png\" style=\"display:inline;vertical-align:middle;\" /></a></td></tr>\n",
       "<tr><td>3</td><td>Operation</td><td>operator:&nbsp;14<br>operands:&nbsp;10<br></td><td><a class=\"ProveItLink\" href=\"../37bc1b4ee6b0ad61db7402d5f5d887594b1901d60/expr.ipynb\"><img src=\"../37bc1b4ee6b0ad61db7402d5f5d887594b1901d60/expr.png\" style=\"display:inline;vertical-align:middle;\" /></a></td></tr>\n",
       "<tr><td>4</td><td>Operation</td><td>operator:&nbsp;12<br>operand:&nbsp;19<br></td><td><a class=\"ProveItLink\" href=\"../1e637d6dfa672aaca79e059d8b20023dc3ee84910/expr.ipynb\"><img src=\"../1e637d6dfa672aaca79e059d8b20023dc3ee84910/expr.png\" style=\"display:inline;vertical-align:middle;\" /></a></td></tr>\n",
       "<tr><td>5</td><td>Operation</td><td>operator:&nbsp;12<br>operand:&nbsp;20<br></td><td><a class=\"ProveItLink\" href=\"../../common/617317658a8d02fa1c1e5f3428f5f4109f4fa6ce0/expr.ipynb\"><img src=\"../../common/617317658a8d02fa1c1e5f3428f5f4109f4fa6ce0/expr.png\" style=\"display:inline;vertical-align:middle;\" /></a></td></tr>\n",
       "<tr><td>6</td><td>Operation</td><td>operator:&nbsp;14<br>operands:&nbsp;15<br></td><td><a class=\"ProveItLink\" href=\"../c394f233a56d229a632c42901d393ec84173d0610/expr.ipynb\"><img src=\"../c394f233a56d229a632c42901d393ec84173d0610/expr.png\" style=\"display:inline;vertical-align:middle;\" /></a></td></tr>\n",
       "<tr><td>7</td><td>Literal</td><td></td><td><a class=\"ProveItLink\" href=\"../../common/6f3d5369d81d70e601a4fa4cd4f55fef8fbf88d60/expr.ipynb\"><img src=\"../../common/6f3d5369d81d70e601a4fa4cd4f55fef8fbf88d60/expr.png\" style=\"display:inline;vertical-align:middle;\" /></a></td></tr>\n",
       "<tr><td>8</td><td>Literal</td><td></td><td><a class=\"ProveItLink\" href=\"../../common/96232b9016d8d3baf1cf9772ef796ddaf8f7f4610/expr.ipynb\"><img src=\"../../common/96232b9016d8d3baf1cf9772ef796ddaf8f7f4610/expr.png\" style=\"display:inline;vertical-align:middle;\" /></a></td></tr>\n",
       "<tr><td>9</td><td>ExprTuple</td><td>16</td><td><a class=\"ProveItLink\" href=\"../07b8da570d587b1b221aba34684585e765393d3d0/expr.ipynb\"><img src=\"../07b8da570d587b1b221aba34684585e765393d3d0/expr.png\" style=\"display:inline;vertical-align:middle;\" /></a></td></tr>\n",
       "<tr><td>10</td><td>ExprTuple</td><td>17, 18</td><td><a class=\"ProveItLink\" href=\"../c9f0179d12bca7a5e95c8388779f275d595765770/expr.ipynb\"><img src=\"../c9f0179d12bca7a5e95c8388779f275d595765770/expr.png\" style=\"display:inline;vertical-align:middle;\" /></a></td></tr>\n",
       "<tr><td>11</td><td>ExprTuple</td><td>19</td><td><a class=\"ProveItLink\" href=\"../305f4dde1b23f618d8c3b6406524ca18970907570/expr.ipynb\"><img src=\"../305f4dde1b23f618d8c3b6406524ca18970907570/expr.png\" style=\"display:inline;vertical-align:middle;\" /></a></td></tr>\n",
       "<tr><td>12</td><td>Literal</td><td></td><td><a class=\"ProveItLink\" href=\"../../common/44032ea2879a75be63dcfde93f5992fe3f6108fc0/expr.ipynb\"><img src=\"../../common/44032ea2879a75be63dcfde93f5992fe3f6108fc0/expr.png\" style=\"display:inline;vertical-align:middle;\" /></a></td></tr>\n",
       "<tr><td>13</td><td>ExprTuple</td><td>20</td><td><a class=\"ProveItLink\" href=\"../../common/8a390197abaaa27bca47927d9ccfc86b1d40b8110/expr.ipynb\"><img src=\"../../common/8a390197abaaa27bca47927d9ccfc86b1d40b8110/expr.png\" style=\"display:inline;vertical-align:middle;\" /></a></td></tr>\n",
       "<tr><td>14</td><td>Literal</td><td></td><td><a class=\"ProveItLink\" href=\"../../common/38deceb0a69e80c36399d725649803706802a2a90/expr.ipynb\"><img src=\"../../common/38deceb0a69e80c36399d725649803706802a2a90/expr.png\" style=\"display:inline;vertical-align:middle;\" /></a></td></tr>\n",
       "<tr><td>15</td><td>ExprTuple</td><td>21, 22</td><td><a class=\"ProveItLink\" href=\"../d55636f3d01d2d94b3aea9df1cfae22adee5b9300/expr.ipynb\"><img src=\"../d55636f3d01d2d94b3aea9df1cfae22adee5b9300/expr.png\" style=\"display:inline;vertical-align:middle;\" /></a></td></tr>\n",
       "<tr><td>16</td><td>Operation</td><td>operator:&nbsp;23<br>operand:&nbsp;28<br></td><td><a class=\"ProveItLink\" href=\"../../common/61c7524fbf87b3fb3718ca1a2b7f14424b3b338a0/expr.ipynb\"><img src=\"../../common/61c7524fbf87b3fb3718ca1a2b7f14424b3b338a0/expr.png\" style=\"display:inline;vertical-align:middle;\" /></a></td></tr>\n",
       "<tr><td>17</td><td>Literal</td><td></td><td><a class=\"ProveItLink\" href=\"../../common/b1beec78d8cd5a1effa0b2b1f6910261ffe687cf0/expr.ipynb\"><img src=\"../../common/b1beec78d8cd5a1effa0b2b1f6910261ffe687cf0/expr.png\" style=\"display:inline;vertical-align:middle;\" /></a></td></tr>\n",
       "<tr><td>18</td><td>Operation</td><td>operator:&nbsp;26<br>operands:&nbsp;25<br></td><td><a class=\"ProveItLink\" href=\"../1abc48c53e8e6b6fc6bd4d100acb9a3c28e8f2c70/expr.ipynb\"><img src=\"../1abc48c53e8e6b6fc6bd4d100acb9a3c28e8f2c70/expr.png\" style=\"display:inline;vertical-align:middle;\" /></a></td></tr>\n",
       "<tr><td>19</td><td>Literal</td><td></td><td><a class=\"ProveItLink\" href=\"../../common/368cf31b7f078f904d5478ccb332c7d15763fe920/expr.ipynb\"><img src=\"../../common/368cf31b7f078f904d5478ccb332c7d15763fe920/expr.png\" style=\"display:inline;vertical-align:middle;\" /></a></td></tr>\n",
       "<tr><td>20</td><td>Literal</td><td></td><td><a class=\"ProveItLink\" href=\"../../common/32385ac609f53b086b8bb7f660f9c0a585d10dd70/expr.ipynb\"><img src=\"../../common/32385ac609f53b086b8bb7f660f9c0a585d10dd70/expr.png\" style=\"display:inline;vertical-align:middle;\" /></a></td></tr>\n",
       "<tr><td>21</td><td>Literal</td><td></td><td><a class=\"ProveItLink\" href=\"../../common/23325ca85d580877e52663e05aaa56aea2535e640/expr.ipynb\"><img src=\"../../common/23325ca85d580877e52663e05aaa56aea2535e640/expr.png\" style=\"display:inline;vertical-align:middle;\" /></a></td></tr>\n",
       "<tr><td>22</td><td>Operation</td><td>operator:&nbsp;26<br>operands:&nbsp;27<br></td><td><a class=\"ProveItLink\" href=\"../cb80eab4f77c4894372ddb061034a6145d0c25980/expr.ipynb\"><img src=\"../cb80eab4f77c4894372ddb061034a6145d0c25980/expr.png\" style=\"display:inline;vertical-align:middle;\" /></a></td></tr>\n",
       "<tr><td>23</td><td>Literal</td><td></td><td><a class=\"ProveItLink\" href=\"../../common/6e9e7d19bd9dfa08dee7501fca955461a19971770/expr.ipynb\"><img src=\"../../common/6e9e7d19bd9dfa08dee7501fca955461a19971770/expr.png\" style=\"display:inline;vertical-align:middle;\" /></a></td></tr>\n",
       "<tr><td>24</td><td>ExprTuple</td><td>28</td><td><a class=\"ProveItLink\" href=\"../../common/76f9f31f8bf4c47669afa10d9f725c2a70b786610/expr.ipynb\"><img src=\"../../common/76f9f31f8bf4c47669afa10d9f725c2a70b786610/expr.png\" style=\"display:inline;vertical-align:middle;\" /></a></td></tr>\n",
       "<tr><td>25</td><td>ExprTuple</td><td>30, 29</td><td><a class=\"ProveItLink\" href=\"../../../../../numbers/numerals/decimals/__pv_it/theorems/b6dda0abe24a4592fb130c02ca5a89c1328050430/expr.ipynb\"><img src=\"../../../../../numbers/numerals/decimals/__pv_it/theorems/b6dda0abe24a4592fb130c02ca5a89c1328050430/expr.png\" style=\"display:inline;vertical-align:middle;\" /></a></td></tr>\n",
       "<tr><td>26</td><td>Literal</td><td></td><td><a class=\"ProveItLink\" href=\"../../../../../logic/sets/enumeration/__pv_it/common/f7caf702081f903a6ea3d95d680568dd78698f5a0/expr.ipynb\"><img src=\"../../../../../logic/sets/enumeration/__pv_it/common/f7caf702081f903a6ea3d95d680568dd78698f5a0/expr.png\" style=\"display:inline;vertical-align:middle;\" /></a></td></tr>\n",
       "<tr><td>27</td><td>ExprTuple</td><td>30, 31</td><td><a class=\"ProveItLink\" href=\"../d90afbe65d25cee91fba86f995ecd9f23f296e880/expr.ipynb\"><img src=\"../d90afbe65d25cee91fba86f995ecd9f23f296e880/expr.png\" style=\"display:inline;vertical-align:middle;\" /></a></td></tr>\n",
       "<tr><td>28</td><td>Literal</td><td></td><td><a class=\"ProveItLink\" href=\"../../common/11fa3af15bc9f82a2972f29fb6357a1d11f74d010/expr.ipynb\"><img src=\"../../common/11fa3af15bc9f82a2972f29fb6357a1d11f74d010/expr.png\" style=\"display:inline;vertical-align:middle;\" /></a></td></tr>\n",
       "<tr><td>29</td><td>Literal</td><td></td><td><a class=\"ProveItLink\" href=\"../../../../../numbers/numerals/__pv_it/common/3829356ce3fdf8f35810c63c00bc1a19e838663e0/expr.ipynb\"><img src=\"../../../../../numbers/numerals/__pv_it/common/3829356ce3fdf8f35810c63c00bc1a19e838663e0/expr.png\" style=\"display:inline;vertical-align:middle;\" /></a></td></tr>\n",
       "<tr><td>30</td><td>Literal</td><td></td><td><a class=\"ProveItLink\" href=\"../../../../../numbers/numerals/__pv_it/common/d278e359da0695d9652dd541d45264f93703e2e40/expr.ipynb\"><img src=\"../../../../../numbers/numerals/__pv_it/common/d278e359da0695d9652dd541d45264f93703e2e40/expr.png\" style=\"display:inline;vertical-align:middle;\" /></a></td></tr>\n",
       "<tr><td>31</td><td>Literal</td><td></td><td><a class=\"ProveItLink\" href=\"../../../../../numbers/numerals/__pv_it/common/1477ef887611bedb97dfb89bcacde217bb43e8ed0/expr.ipynb\"><img src=\"../../../../../numbers/numerals/__pv_it/common/1477ef887611bedb97dfb89bcacde217bb43e8ed0/expr.png\" style=\"display:inline;vertical-align:middle;\" /></a></td></tr>\n",
       "</table>\n"
      ],
      "text/plain": [
       "0. (Input(|psi〉), --, --, MultiQubitGate(CONTROL, {1, 2}), Gate(H), Gate(MES), MultiQubitGate(CLASSICAL\\_CONTROL, {1, 3}), SPACE)\n",
       "   core type: ExprTuple\n",
       "   sub-expressions: 1, 2, 2, 3, 4, 5, 6, 7\n",
       "1. Input(|psi〉)\n",
       "   core type: Operation\n",
       "   operator: 8\n",
       "   operand: 16\n",
       "2. --\n",
       "   core type: Literal\n",
       "   sub-expressions: \n",
       "3. MultiQubitGate(CONTROL, {1, 2})\n",
       "   core type: Operation\n",
       "   operator: 14\n",
       "   operands: 10\n",
       "4. Gate(H)\n",
       "   core type: Operation\n",
       "   operator: 12\n",
       "   operand: 19\n",
       "5. Gate(MES)\n",
       "   core type: Operation\n",
       "   operator: 12\n",
       "   operand: 20\n",
       "6. MultiQubitGate(CLASSICAL\\_CONTROL, {1, 3})\n",
       "   core type: Operation\n",
       "   operator: 14\n",
       "   operands: 15\n",
       "7. SPACE\n",
       "   core type: Literal\n",
       "   sub-expressions: \n",
       "8. INPUT\n",
       "   core type: Literal\n",
       "   sub-expressions: \n",
       "9. (|psi〉)\n",
       "   core type: ExprTuple\n",
       "   sub-expressions: 16\n",
       "10. (CONTROL, {1, 2})\n",
       "    core type: ExprTuple\n",
       "    sub-expressions: 17, 18\n",
       "11. (H)\n",
       "    core type: ExprTuple\n",
       "    sub-expressions: 19\n",
       "12. GATE\n",
       "    core type: Literal\n",
       "    sub-expressions: \n",
       "13. (MES)\n",
       "    core type: ExprTuple\n",
       "    sub-expressions: 20\n",
       "14. MULTI_QUBIT_GATE\n",
       "    core type: Literal\n",
       "    sub-expressions: \n",
       "15. (CLASSICAL\\_CONTROL, {1, 3})\n",
       "    core type: ExprTuple\n",
       "    sub-expressions: 21, 22\n",
       "16. |psi〉\n",
       "    core type: Operation\n",
       "    operator: 23\n",
       "    operand: 28\n",
       "17. CONTROL\n",
       "    core type: Literal\n",
       "    sub-expressions: \n",
       "18. {1, 2}\n",
       "    core type: Operation\n",
       "    operator: 26\n",
       "    operands: 25\n",
       "19. H\n",
       "    core type: Literal\n",
       "    sub-expressions: \n",
       "20. MES\n",
       "    core type: Literal\n",
       "    sub-expressions: \n",
       "21. CLASSICAL\\_CONTROL\n",
       "    core type: Literal\n",
       "    sub-expressions: \n",
       "22. {1, 3}\n",
       "    core type: Operation\n",
       "    operator: 26\n",
       "    operands: 27\n",
       "23. KET\n",
       "    core type: Literal\n",
       "    sub-expressions: \n",
       "24. (psi)\n",
       "    core type: ExprTuple\n",
       "    sub-expressions: 28\n",
       "25. (1, 2)\n",
       "    core type: ExprTuple\n",
       "    sub-expressions: 30, 29\n",
       "26. Set\n",
       "    core type: Literal\n",
       "    sub-expressions: \n",
       "27. (1, 3)\n",
       "    core type: ExprTuple\n",
       "    sub-expressions: 30, 31\n",
       "28. psi\n",
       "    core type: Literal\n",
       "    sub-expressions: \n",
       "29. 2\n",
       "    core type: Literal\n",
       "    sub-expressions: \n",
       "30. 1\n",
       "    core type: Literal\n",
       "    sub-expressions: \n",
       "31. 3\n",
       "    core type: Literal\n",
       "    sub-expressions: "
      ]
     },
     "execution_count": 6,
     "metadata": {},
     "output_type": "execute_result"
    }
   ],
   "source": [
    "# display the expression information\n",
    "expr.expr_info()"
   ]
  },
  {
   "cell_type": "code",
   "execution_count": null,
   "metadata": {},
   "outputs": [],
   "source": []
  }
 ],
 "metadata": {
  "kernelspec": {
   "display_name": "Python 3",
   "language": "python",
   "name": "python3"
  }
 },
 "nbformat": 4,
 "nbformat_minor": 0
}