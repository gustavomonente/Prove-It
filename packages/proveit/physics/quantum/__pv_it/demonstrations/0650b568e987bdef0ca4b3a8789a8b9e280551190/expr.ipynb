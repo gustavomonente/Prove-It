{
 "cells": [
  {
   "cell_type": "markdown",
   "metadata": {},
   "source": [
    "Expression of type <a class=\"ProveItLink\" href=\"../../../../../../../doc/html/api/proveit.ExprTuple.html\">ExprTuple</a>\n",
    "=======================\n",
    "# from the theory of <a class=\"ProveItLink\" href=\"../../../_theory_nbs_/theory.ipynb\">proveit.physics.quantum</a>"
   ]
  },
  {
   "cell_type": "code",
   "execution_count": 1,
   "metadata": {},
   "outputs": [],
   "source": [
    "import proveit\n",
    "# Automation is not needed when building an expression:\n",
    "proveit.defaults.automation = False # This will speed things up.\n",
    "proveit.defaults.inline_pngs = False # Makes files smaller.\n",
    "%load_expr # Load the stored expression as 'stored_expr'\n",
    "# import Expression classes needed to build the expression\n",
    "from proveit import ExprArray, ExprTuple\n",
    "from proveit.logic import Set\n",
    "from proveit.numbers import four, one, three, two\n",
    "from proveit.physics.quantum import CONTROL, Input, Output, X, ket0, ket1\n",
    "from proveit.physics.quantum.circuit import MultiQubitGate"
   ]
  },
  {
   "cell_type": "code",
   "execution_count": 2,
   "metadata": {},
   "outputs": [
    {
     "data": {
      "text/html": [
       "<strong id=\"expr\">expr:</strong> <a class=\"ProveItLink\" href=\"expr.ipynb\"><img src=\"expr.png\" style=\"display:inline;vertical-align:middle;\" /></a><br>"
      ],
      "text/plain": [
       "expr: ((Input(|1〉) & MultiQubitGate(CONTROL, {1, 2}) & Output(|1〉)  \\\\ \n",
       "  Input(|0〉) & MultiQubitGate(X, {1, 2}) & Output(|1〉)  \\\\ \n",
       "  Input(|1〉) & MultiQubitGate(CONTROL, {3, 4}) & Output(|1〉)  \\\\ \n",
       "  Input(|1〉) & MultiQubitGate(X, {3, 4}) & Output(|0〉)))"
      ]
     },
     "execution_count": 2,
     "metadata": {},
     "output_type": "execute_result"
    }
   ],
   "source": [
    "# build up the expression from sub-expressions\n",
    "sub_expr1 = Set(one, two)\n",
    "sub_expr2 = Set(three, four)\n",
    "sub_expr3 = Input(ket1)\n",
    "sub_expr4 = Output(ket1)\n",
    "expr = ExprTuple(ExprArray([sub_expr3, MultiQubitGate(CONTROL, sub_expr1), sub_expr4], [Input(ket0), MultiQubitGate(X, sub_expr1).with_styles(representation='implicit'), sub_expr4], [sub_expr3, MultiQubitGate(CONTROL, sub_expr2), sub_expr4], [sub_expr3, MultiQubitGate(X, sub_expr2), Output(ket0)]))"
   ]
  },
  {
   "cell_type": "code",
   "execution_count": 3,
   "metadata": {},
   "outputs": [
    {
     "name": "stdout",
     "output_type": "stream",
     "text": [
      "Passed sanity check: expr matches stored_expr\n"
     ]
    }
   ],
   "source": [
    "# check that the built expression is the same as the stored expression\n",
    "assert expr == stored_expr\n",
    "assert expr._style_id == stored_expr._style_id\n",
    "print(\"Passed sanity check: expr matches stored_expr\")"
   ]
  },
  {
   "cell_type": "code",
   "execution_count": 4,
   "metadata": {},
   "outputs": [
    {
     "name": "stdout",
     "output_type": "stream",
     "text": [
      "\\left(\\left(\\begin{array} {ccc} \n",
      " \\hspace{2em} \\Qcircuit@C=1em @R=.7em{\n",
      "& \\lstick{\\lvert 1 \\rangle} \n",
      "} \\hspace{2em} & \\hspace{2em} \\Qcircuit@C=1em @R=.7em{\n",
      "& \\control \\qw \n",
      "} \\hspace{2em} & \\hspace{2em} \\Qcircuit@C=1em @R=.7em{\n",
      "& \\rstick{\\lvert 1 \\rangle} \\qw \n",
      "} \\hspace{2em}  \\\\ \n",
      "  \\hspace{2em} \\Qcircuit@C=1em @R=.7em{\n",
      "& \\lstick{\\lvert 0 \\rangle} \n",
      "} \\hspace{2em} & \\hspace{2em} \\Qcircuit@C=1em @R=.7em{\n",
      "& \\targ \n",
      "} \\hspace{2em} & \\hspace{2em} \\Qcircuit@C=1em @R=.7em{\n",
      "& \\rstick{\\lvert 1 \\rangle} \\qw \n",
      "} \\hspace{2em}  \\\\ \n",
      "  \\hspace{2em} \\Qcircuit@C=1em @R=.7em{\n",
      "& \\lstick{\\lvert 1 \\rangle} \n",
      "} \\hspace{2em} & \\hspace{2em} \\Qcircuit@C=1em @R=.7em{\n",
      "& \\control \\qw \n",
      "} \\hspace{2em} & \\hspace{2em} \\Qcircuit@C=1em @R=.7em{\n",
      "& \\rstick{\\lvert 1 \\rangle} \\qw \n",
      "} \\hspace{2em}  \\\\ \n",
      "  \\hspace{2em} \\Qcircuit@C=1em @R=.7em{\n",
      "& \\lstick{\\lvert 1 \\rangle} \n",
      "} \\hspace{2em} & \\hspace{2em} \\Qcircuit@C=1em @R=.7em{\n",
      "& X \n",
      "} \\hspace{2em} & \\hspace{2em} \\Qcircuit@C=1em @R=.7em{\n",
      "& \\rstick{\\lvert 0 \\rangle} \\qw \n",
      "} \\hspace{2em} \\end{array} \n",
      "\\right)\\right)\n"
     ]
    }
   ],
   "source": [
    "# Show the LaTeX representation of the expression for convenience if you need it.\n",
    "print(expr.latex())"
   ]
  },
  {
   "cell_type": "code",
   "execution_count": 5,
   "metadata": {},
   "outputs": [
    {
     "data": {
      "text/html": [
       "no style options"
      ],
      "text/plain": [
       "no style options"
      ]
     },
     "execution_count": 5,
     "metadata": {},
     "output_type": "execute_result"
    }
   ],
   "source": [
    "expr.style_options()"
   ]
  },
  {
   "cell_type": "code",
   "execution_count": 6,
   "metadata": {},
   "outputs": [
    {
     "data": {
      "text/html": [
       "<table><tr><th>&nbsp;</th><th>core type</th><th>sub-expressions</th><th>expression</th></tr>\n",
       "<tr><td>0</td><td>ExprTuple</td><td>1</td><td><a class=\"ProveItLink\" href=\"expr.ipynb\"><img src=\"expr.png\" style=\"display:inline;vertical-align:middle;\" /></a></td></tr>\n",
       "<tr><td>1</td><td>ExprTuple</td><td>2, 3, 4, 5</td><td><a class=\"ProveItLink\" href=\"../6b10b65494ecd08b246425711a74d638cc9128000/expr.ipynb\"><img src=\"../6b10b65494ecd08b246425711a74d638cc9128000/expr.png\" style=\"display:inline;vertical-align:middle;\" /></a></td></tr>\n",
       "<tr><td>2</td><td>ExprTuple</td><td>11, 6, 10</td><td><a class=\"ProveItLink\" href=\"../f769332b796049bdbefa6d19ac803e58836eb6710/expr.ipynb\"><img src=\"../f769332b796049bdbefa6d19ac803e58836eb6710/expr.png\" style=\"display:inline;vertical-align:middle;\" /></a></td></tr>\n",
       "<tr><td>3</td><td>ExprTuple</td><td>7, 8, 10</td><td><a class=\"ProveItLink\" href=\"../bdabfcbd667659199ebe3d99eb236f49afa41ba10/expr.ipynb\"><img src=\"../bdabfcbd667659199ebe3d99eb236f49afa41ba10/expr.png\" style=\"display:inline;vertical-align:middle;\" /></a></td></tr>\n",
       "<tr><td>4</td><td>ExprTuple</td><td>11, 9, 10</td><td><a class=\"ProveItLink\" href=\"../ab709bb393f914f59dc0a033331bba294eaa70a20/expr.ipynb\"><img src=\"../ab709bb393f914f59dc0a033331bba294eaa70a20/expr.png\" style=\"display:inline;vertical-align:middle;\" /></a></td></tr>\n",
       "<tr><td>5</td><td>ExprTuple</td><td>11, 12, 13</td><td><a class=\"ProveItLink\" href=\"../8e6da01654406ba5e47bb1f70b3c773b5cf90b8a0/expr.ipynb\"><img src=\"../8e6da01654406ba5e47bb1f70b3c773b5cf90b8a0/expr.png\" style=\"display:inline;vertical-align:middle;\" /></a></td></tr>\n",
       "<tr><td>6</td><td>Operation</td><td>operator:&nbsp;19<br>operands:&nbsp;14<br></td><td><a class=\"ProveItLink\" href=\"../37bc1b4ee6b0ad61db7402d5f5d887594b1901d60/expr.ipynb\"><img src=\"../37bc1b4ee6b0ad61db7402d5f5d887594b1901d60/expr.png\" style=\"display:inline;vertical-align:middle;\" /></a></td></tr>\n",
       "<tr><td>7</td><td>Operation</td><td>operator:&nbsp;17<br>operand:&nbsp;28<br></td><td><a class=\"ProveItLink\" href=\"../271a5a18fe9fbd66bf7cebe896a864929c82c90a0/expr.ipynb\"><img src=\"../271a5a18fe9fbd66bf7cebe896a864929c82c90a0/expr.png\" style=\"display:inline;vertical-align:middle;\" /></a></td></tr>\n",
       "<tr><td>8</td><td>Operation</td><td>operator:&nbsp;19<br>operands:&nbsp;15<br></td><td><a class=\"ProveItLink\" href=\"../9ee4fa4b5be9ae33492411985cdcdf69a7e960320/expr.ipynb\"><img src=\"../9ee4fa4b5be9ae33492411985cdcdf69a7e960320/expr.png\" style=\"display:inline;vertical-align:middle;\" /></a></td></tr>\n",
       "<tr><td>9</td><td>Operation</td><td>operator:&nbsp;19<br>operands:&nbsp;16<br></td><td><a class=\"ProveItLink\" href=\"../1f00de320c38380cfd1a35292f827a66a110b7a60/expr.ipynb\"><img src=\"../1f00de320c38380cfd1a35292f827a66a110b7a60/expr.png\" style=\"display:inline;vertical-align:middle;\" /></a></td></tr>\n",
       "<tr><td>10</td><td>Operation</td><td>operator:&nbsp;21<br>operand:&nbsp;25<br></td><td><a class=\"ProveItLink\" href=\"../bf67f9f2a16b18f77fee1b4b30465374ab124c1e0/expr.ipynb\"><img src=\"../bf67f9f2a16b18f77fee1b4b30465374ab124c1e0/expr.png\" style=\"display:inline;vertical-align:middle;\" /></a></td></tr>\n",
       "<tr><td>11</td><td>Operation</td><td>operator:&nbsp;17<br>operand:&nbsp;25<br></td><td><a class=\"ProveItLink\" href=\"../4122cc3d8a9e5b277b47d5e2616202b12aa223c70/expr.ipynb\"><img src=\"../4122cc3d8a9e5b277b47d5e2616202b12aa223c70/expr.png\" style=\"display:inline;vertical-align:middle;\" /></a></td></tr>\n",
       "<tr><td>12</td><td>Operation</td><td>operator:&nbsp;19<br>operands:&nbsp;20<br></td><td><a class=\"ProveItLink\" href=\"../584c0de9dba222ef0e5e7cba8a552b638fefccf60/expr.ipynb\"><img src=\"../584c0de9dba222ef0e5e7cba8a552b638fefccf60/expr.png\" style=\"display:inline;vertical-align:middle;\" /></a></td></tr>\n",
       "<tr><td>13</td><td>Operation</td><td>operator:&nbsp;21<br>operand:&nbsp;28<br></td><td><a class=\"ProveItLink\" href=\"../00a4d237e323b639861f7961a6dc660830f20e420/expr.ipynb\"><img src=\"../00a4d237e323b639861f7961a6dc660830f20e420/expr.png\" style=\"display:inline;vertical-align:middle;\" /></a></td></tr>\n",
       "<tr><td>14</td><td>ExprTuple</td><td>24, 23</td><td><a class=\"ProveItLink\" href=\"../c9f0179d12bca7a5e95c8388779f275d595765770/expr.ipynb\"><img src=\"../c9f0179d12bca7a5e95c8388779f275d595765770/expr.png\" style=\"display:inline;vertical-align:middle;\" /></a></td></tr>\n",
       "<tr><td>15</td><td>ExprTuple</td><td>26, 23</td><td><a class=\"ProveItLink\" href=\"../a0547b36b0f95a4698df94116e907d0ca56428570/expr.ipynb\"><img src=\"../a0547b36b0f95a4698df94116e907d0ca56428570/expr.png\" style=\"display:inline;vertical-align:middle;\" /></a></td></tr>\n",
       "<tr><td>16</td><td>ExprTuple</td><td>24, 27</td><td><a class=\"ProveItLink\" href=\"../7179f503f6fde55211fa84ac1b4edb5bf297afbc0/expr.ipynb\"><img src=\"../7179f503f6fde55211fa84ac1b4edb5bf297afbc0/expr.png\" style=\"display:inline;vertical-align:middle;\" /></a></td></tr>\n",
       "<tr><td>17</td><td>Literal</td><td></td><td><a class=\"ProveItLink\" href=\"../../common/96232b9016d8d3baf1cf9772ef796ddaf8f7f4610/expr.ipynb\"><img src=\"../../common/96232b9016d8d3baf1cf9772ef796ddaf8f7f4610/expr.png\" style=\"display:inline;vertical-align:middle;\" /></a></td></tr>\n",
       "<tr><td>18</td><td>ExprTuple</td><td>25</td><td><a class=\"ProveItLink\" href=\"../4d8b8c4d6a6654455ea78c868c1eabd1a7b225530/expr.ipynb\"><img src=\"../4d8b8c4d6a6654455ea78c868c1eabd1a7b225530/expr.png\" style=\"display:inline;vertical-align:middle;\" /></a></td></tr>\n",
       "<tr><td>19</td><td>Literal</td><td></td><td><a class=\"ProveItLink\" href=\"../../common/38deceb0a69e80c36399d725649803706802a2a90/expr.ipynb\"><img src=\"../../common/38deceb0a69e80c36399d725649803706802a2a90/expr.png\" style=\"display:inline;vertical-align:middle;\" /></a></td></tr>\n",
       "<tr><td>20</td><td>ExprTuple</td><td>26, 27</td><td><a class=\"ProveItLink\" href=\"../582feef52a843b06abb959e1a70c77111b59cec70/expr.ipynb\"><img src=\"../582feef52a843b06abb959e1a70c77111b59cec70/expr.png\" style=\"display:inline;vertical-align:middle;\" /></a></td></tr>\n",
       "<tr><td>21</td><td>Literal</td><td></td><td><a class=\"ProveItLink\" href=\"../../common/a31fa972f0ff74e32d7bde73a99a2ddf76467fac0/expr.ipynb\"><img src=\"../../common/a31fa972f0ff74e32d7bde73a99a2ddf76467fac0/expr.png\" style=\"display:inline;vertical-align:middle;\" /></a></td></tr>\n",
       "<tr><td>22</td><td>ExprTuple</td><td>28</td><td><a class=\"ProveItLink\" href=\"../2e08f8b9cff939b748ed0fc8eeba819770b042a90/expr.ipynb\"><img src=\"../2e08f8b9cff939b748ed0fc8eeba819770b042a90/expr.png\" style=\"display:inline;vertical-align:middle;\" /></a></td></tr>\n",
       "<tr><td>23</td><td>Operation</td><td>operator:&nbsp;31<br>operands:&nbsp;29<br></td><td><a class=\"ProveItLink\" href=\"../1abc48c53e8e6b6fc6bd4d100acb9a3c28e8f2c70/expr.ipynb\"><img src=\"../1abc48c53e8e6b6fc6bd4d100acb9a3c28e8f2c70/expr.png\" style=\"display:inline;vertical-align:middle;\" /></a></td></tr>\n",
       "<tr><td>24</td><td>Literal</td><td></td><td><a class=\"ProveItLink\" href=\"../../common/b1beec78d8cd5a1effa0b2b1f6910261ffe687cf0/expr.ipynb\"><img src=\"../../common/b1beec78d8cd5a1effa0b2b1f6910261ffe687cf0/expr.png\" style=\"display:inline;vertical-align:middle;\" /></a></td></tr>\n",
       "<tr><td>25</td><td>Operation</td><td>operator:&nbsp;33<br>operand:&nbsp;36<br></td><td><a class=\"ProveItLink\" href=\"../../common/657153f886e06f25f3afe5329bbf35664d219ac40/expr.ipynb\"><img src=\"../../common/657153f886e06f25f3afe5329bbf35664d219ac40/expr.png\" style=\"display:inline;vertical-align:middle;\" /></a></td></tr>\n",
       "<tr><td>26</td><td>Literal</td><td></td><td><a class=\"ProveItLink\" href=\"../../common/94315bad5d6fa05ec6d0fac545cf2b5b7ed20d800/expr.ipynb\"><img src=\"../../common/94315bad5d6fa05ec6d0fac545cf2b5b7ed20d800/expr.png\" style=\"display:inline;vertical-align:middle;\" /></a></td></tr>\n",
       "<tr><td>27</td><td>Operation</td><td>operator:&nbsp;31<br>operands:&nbsp;32<br></td><td><a class=\"ProveItLink\" href=\"../6cfcf995f91fc94e5142f84a5a4bb6b4500d55bd0/expr.ipynb\"><img src=\"../6cfcf995f91fc94e5142f84a5a4bb6b4500d55bd0/expr.png\" style=\"display:inline;vertical-align:middle;\" /></a></td></tr>\n",
       "<tr><td>28</td><td>Operation</td><td>operator:&nbsp;33<br>operand:&nbsp;39<br></td><td><a class=\"ProveItLink\" href=\"../../common/ed60e75561684be6b18310df5c479706894f1f410/expr.ipynb\"><img src=\"../../common/ed60e75561684be6b18310df5c479706894f1f410/expr.png\" style=\"display:inline;vertical-align:middle;\" /></a></td></tr>\n",
       "<tr><td>29</td><td>ExprTuple</td><td>36, 35</td><td><a class=\"ProveItLink\" href=\"../../../../../numbers/numerals/decimals/__pv_it/theorems/b6dda0abe24a4592fb130c02ca5a89c1328050430/expr.ipynb\"><img src=\"../../../../../numbers/numerals/decimals/__pv_it/theorems/b6dda0abe24a4592fb130c02ca5a89c1328050430/expr.png\" style=\"display:inline;vertical-align:middle;\" /></a></td></tr>\n",
       "<tr><td>30</td><td>ExprTuple</td><td>36</td><td><a class=\"ProveItLink\" href=\"../../common/983fb1abdb7789966ec8b7afe0d4f7ca8578c9e50/expr.ipynb\"><img src=\"../../common/983fb1abdb7789966ec8b7afe0d4f7ca8578c9e50/expr.png\" style=\"display:inline;vertical-align:middle;\" /></a></td></tr>\n",
       "<tr><td>31</td><td>Literal</td><td></td><td><a class=\"ProveItLink\" href=\"../../../../../logic/sets/enumeration/__pv_it/common/f7caf702081f903a6ea3d95d680568dd78698f5a0/expr.ipynb\"><img src=\"../../../../../logic/sets/enumeration/__pv_it/common/f7caf702081f903a6ea3d95d680568dd78698f5a0/expr.png\" style=\"display:inline;vertical-align:middle;\" /></a></td></tr>\n",
       "<tr><td>32</td><td>ExprTuple</td><td>37, 38</td><td><a class=\"ProveItLink\" href=\"../../../../../numbers/numerals/decimals/__pv_it/theorems/597847cc5f00b6f9afa210fcfbb2e72452d288ad0/expr.ipynb\"><img src=\"../../../../../numbers/numerals/decimals/__pv_it/theorems/597847cc5f00b6f9afa210fcfbb2e72452d288ad0/expr.png\" style=\"display:inline;vertical-align:middle;\" /></a></td></tr>\n",
       "<tr><td>33</td><td>Literal</td><td></td><td><a class=\"ProveItLink\" href=\"../../common/6e9e7d19bd9dfa08dee7501fca955461a19971770/expr.ipynb\"><img src=\"../../common/6e9e7d19bd9dfa08dee7501fca955461a19971770/expr.png\" style=\"display:inline;vertical-align:middle;\" /></a></td></tr>\n",
       "<tr><td>34</td><td>ExprTuple</td><td>39</td><td><a class=\"ProveItLink\" href=\"../../common/f243cd078d9a833f4a423d1194e14ef4aae6b6fe0/expr.ipynb\"><img src=\"../../common/f243cd078d9a833f4a423d1194e14ef4aae6b6fe0/expr.png\" style=\"display:inline;vertical-align:middle;\" /></a></td></tr>\n",
       "<tr><td>35</td><td>Literal</td><td></td><td><a class=\"ProveItLink\" href=\"../../../../../numbers/numerals/__pv_it/common/3829356ce3fdf8f35810c63c00bc1a19e838663e0/expr.ipynb\"><img src=\"../../../../../numbers/numerals/__pv_it/common/3829356ce3fdf8f35810c63c00bc1a19e838663e0/expr.png\" style=\"display:inline;vertical-align:middle;\" /></a></td></tr>\n",
       "<tr><td>36</td><td>Literal</td><td></td><td><a class=\"ProveItLink\" href=\"../../../../../numbers/numerals/__pv_it/common/d278e359da0695d9652dd541d45264f93703e2e40/expr.ipynb\"><img src=\"../../../../../numbers/numerals/__pv_it/common/d278e359da0695d9652dd541d45264f93703e2e40/expr.png\" style=\"display:inline;vertical-align:middle;\" /></a></td></tr>\n",
       "<tr><td>37</td><td>Literal</td><td></td><td><a class=\"ProveItLink\" href=\"../../../../../numbers/numerals/__pv_it/common/1477ef887611bedb97dfb89bcacde217bb43e8ed0/expr.ipynb\"><img src=\"../../../../../numbers/numerals/__pv_it/common/1477ef887611bedb97dfb89bcacde217bb43e8ed0/expr.png\" style=\"display:inline;vertical-align:middle;\" /></a></td></tr>\n",
       "<tr><td>38</td><td>Literal</td><td></td><td><a class=\"ProveItLink\" href=\"../../../../../numbers/numerals/__pv_it/common/de8f3e06d530f467e73bdbc965d9d86fa0f1b0db0/expr.ipynb\"><img src=\"../../../../../numbers/numerals/__pv_it/common/de8f3e06d530f467e73bdbc965d9d86fa0f1b0db0/expr.png\" style=\"display:inline;vertical-align:middle;\" /></a></td></tr>\n",
       "<tr><td>39</td><td>Literal</td><td></td><td><a class=\"ProveItLink\" href=\"../../../../../numbers/numerals/__pv_it/common/c35fdf7268947ca3e24174d2909dc9d0a7f3aac60/expr.ipynb\"><img src=\"../../../../../numbers/numerals/__pv_it/common/c35fdf7268947ca3e24174d2909dc9d0a7f3aac60/expr.png\" style=\"display:inline;vertical-align:middle;\" /></a></td></tr>\n",
       "</table>\n"
      ],
      "text/plain": [
       "0. ((Input(|1〉) & MultiQubitGate(CONTROL, {1, 2}) & Output(|1〉)  \\\\ \n",
       "  Input(|0〉) & MultiQubitGate(X, {1, 2}) & Output(|1〉)  \\\\ \n",
       "  Input(|1〉) & MultiQubitGate(CONTROL, {3, 4}) & Output(|1〉)  \\\\ \n",
       "  Input(|1〉) & MultiQubitGate(X, {3, 4}) & Output(|0〉)))\n",
       "   core type: ExprTuple\n",
       "   sub-expressions: 1\n",
       "1. Input(|1〉) & MultiQubitGate(CONTROL, {1, 2}) & Output(|1〉)  \\\\ \n",
       "  Input(|0〉) & MultiQubitGate(X, {1, 2}) & Output(|1〉)  \\\\ \n",
       "  Input(|1〉) & MultiQubitGate(CONTROL, {3, 4}) & Output(|1〉)  \\\\ \n",
       "  Input(|1〉) & MultiQubitGate(X, {3, 4}) & Output(|0〉)\n",
       "   core type: ExprTuple\n",
       "   sub-expressions: 2, 3, 4, 5\n",
       "2. (Input(|1〉), MultiQubitGate(CONTROL, {1, 2}), Output(|1〉))\n",
       "   core type: ExprTuple\n",
       "   sub-expressions: 11, 6, 10\n",
       "3. (Input(|0〉), MultiQubitGate(X, {1, 2}), Output(|1〉))\n",
       "   core type: ExprTuple\n",
       "   sub-expressions: 7, 8, 10\n",
       "4. (Input(|1〉), MultiQubitGate(CONTROL, {3, 4}), Output(|1〉))\n",
       "   core type: ExprTuple\n",
       "   sub-expressions: 11, 9, 10\n",
       "5. (Input(|1〉), MultiQubitGate(X, {3, 4}), Output(|0〉))\n",
       "   core type: ExprTuple\n",
       "   sub-expressions: 11, 12, 13\n",
       "6. MultiQubitGate(CONTROL, {1, 2})\n",
       "   core type: Operation\n",
       "   operator: 19\n",
       "   operands: 14\n",
       "7. Input(|0〉)\n",
       "   core type: Operation\n",
       "   operator: 17\n",
       "   operand: 28\n",
       "8. MultiQubitGate(X, {1, 2})\n",
       "   core type: Operation\n",
       "   operator: 19\n",
       "   operands: 15\n",
       "9. MultiQubitGate(CONTROL, {3, 4})\n",
       "   core type: Operation\n",
       "   operator: 19\n",
       "   operands: 16\n",
       "10. Output(|1〉)\n",
       "    core type: Operation\n",
       "    operator: 21\n",
       "    operand: 25\n",
       "11. Input(|1〉)\n",
       "    core type: Operation\n",
       "    operator: 17\n",
       "    operand: 25\n",
       "12. MultiQubitGate(X, {3, 4})\n",
       "    core type: Operation\n",
       "    operator: 19\n",
       "    operands: 20\n",
       "13. Output(|0〉)\n",
       "    core type: Operation\n",
       "    operator: 21\n",
       "    operand: 28\n",
       "14. (CONTROL, {1, 2})\n",
       "    core type: ExprTuple\n",
       "    sub-expressions: 24, 23\n",
       "15. (X, {1, 2})\n",
       "    core type: ExprTuple\n",
       "    sub-expressions: 26, 23\n",
       "16. (CONTROL, {3, 4})\n",
       "    core type: ExprTuple\n",
       "    sub-expressions: 24, 27\n",
       "17. INPUT\n",
       "    core type: Literal\n",
       "    sub-expressions: \n",
       "18. (|1〉)\n",
       "    core type: ExprTuple\n",
       "    sub-expressions: 25\n",
       "19. MULTI_QUBIT_GATE\n",
       "    core type: Literal\n",
       "    sub-expressions: \n",
       "20. (X, {3, 4})\n",
       "    core type: ExprTuple\n",
       "    sub-expressions: 26, 27\n",
       "21. OUTPUT\n",
       "    core type: Literal\n",
       "    sub-expressions: \n",
       "22. (|0〉)\n",
       "    core type: ExprTuple\n",
       "    sub-expressions: 28\n",
       "23. {1, 2}\n",
       "    core type: Operation\n",
       "    operator: 31\n",
       "    operands: 29\n",
       "24. CONTROL\n",
       "    core type: Literal\n",
       "    sub-expressions: \n",
       "25. |1〉\n",
       "    core type: Operation\n",
       "    operator: 33\n",
       "    operand: 36\n",
       "26. X\n",
       "    core type: Literal\n",
       "    sub-expressions: \n",
       "27. {3, 4}\n",
       "    core type: Operation\n",
       "    operator: 31\n",
       "    operands: 32\n",
       "28. |0〉\n",
       "    core type: Operation\n",
       "    operator: 33\n",
       "    operand: 39\n",
       "29. (1, 2)\n",
       "    core type: ExprTuple\n",
       "    sub-expressions: 36, 35\n",
       "30. (1)\n",
       "    core type: ExprTuple\n",
       "    sub-expressions: 36\n",
       "31. Set\n",
       "    core type: Literal\n",
       "    sub-expressions: \n",
       "32. (3, 4)\n",
       "    core type: ExprTuple\n",
       "    sub-expressions: 37, 38\n",
       "33. KET\n",
       "    core type: Literal\n",
       "    sub-expressions: \n",
       "34. (0)\n",
       "    core type: ExprTuple\n",
       "    sub-expressions: 39\n",
       "35. 2\n",
       "    core type: Literal\n",
       "    sub-expressions: \n",
       "36. 1\n",
       "    core type: Literal\n",
       "    sub-expressions: \n",
       "37. 3\n",
       "    core type: Literal\n",
       "    sub-expressions: \n",
       "38. 4\n",
       "    core type: Literal\n",
       "    sub-expressions: \n",
       "39. 0\n",
       "    core type: Literal\n",
       "    sub-expressions: "
      ]
     },
     "execution_count": 6,
     "metadata": {},
     "output_type": "execute_result"
    }
   ],
   "source": [
    "# display the expression information\n",
    "expr.expr_info()"
   ]
  },
  {
   "cell_type": "code",
   "execution_count": null,
   "metadata": {},
   "outputs": [],
   "source": []
  }
 ],
 "metadata": {
  "kernelspec": {
   "display_name": "Python 3",
   "language": "python",
   "name": "python3"
  }
 },
 "nbformat": 4,
 "nbformat_minor": 0
}