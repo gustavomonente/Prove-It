{
 "cells": [
  {
   "cell_type": "markdown",
   "metadata": {},
   "source": [
    "Expression of type <a class=\"ProveItLink\" href=\"../../../../../../../doc/html/api/proveit.physics.quantum.circuit.Circuit.html\">Circuit</a>\n",
    "=======================\n",
    "# from the theory of <a class=\"ProveItLink\" href=\"../../../_theory_nbs_/theory.ipynb\">proveit.physics.quantum</a>"
   ]
  },
  {
   "cell_type": "code",
   "execution_count": 1,
   "metadata": {},
   "outputs": [],
   "source": [
    "import proveit\n",
    "# Automation is not needed when building an expression:\n",
    "proveit.defaults.automation = False # This will speed things up.\n",
    "proveit.defaults.inline_pngs = False # Makes files smaller.\n",
    "%load_expr # Load the stored expression as 'stored_expr'\n",
    "# import Expression classes needed to build the expression\n",
    "from proveit import ExprArray\n",
    "from proveit.physics.quantum import Gate, H, Input, Output, ket0, ket1, ket_minus, ket_plus\n",
    "from proveit.physics.quantum.circuit import Circuit"
   ]
  },
  {
   "cell_type": "code",
   "execution_count": 2,
   "metadata": {},
   "outputs": [
    {
     "data": {
      "text/html": [
       "<strong id=\"expr\">expr:</strong> <a class=\"ProveItLink\" href=\"expr.ipynb\"><img src=\"expr.png\" style=\"display:inline;vertical-align:middle;\" /></a><br>"
      ],
      "text/plain": [
       "expr:  Input(|0〉)  & Gate(H)  & Output(|+〉)   \\\\ \n",
       "   Input(|1〉)  & Gate(H)  & Output(|-〉)"
      ]
     },
     "execution_count": 2,
     "metadata": {},
     "output_type": "execute_result"
    }
   ],
   "source": [
    "# build up the expression from sub-expressions\n",
    "sub_expr1 = Gate(H)\n",
    "expr = Circuit(ExprArray([Input(ket0), sub_expr1, Output(ket_plus)], [Input(ket1), sub_expr1, Output(ket_minus)]))"
   ]
  },
  {
   "cell_type": "code",
   "execution_count": 3,
   "metadata": {},
   "outputs": [
    {
     "name": "stdout",
     "output_type": "stream",
     "text": [
      "Passed sanity check: expr matches stored_expr\n"
     ]
    }
   ],
   "source": [
    "# check that the built expression is the same as the stored expression\n",
    "assert expr == stored_expr\n",
    "assert expr._style_id == stored_expr._style_id\n",
    "print(\"Passed sanity check: expr matches stored_expr\")"
   ]
  },
  {
   "cell_type": "code",
   "execution_count": 4,
   "metadata": {},
   "outputs": [
    {
     "name": "stdout",
     "output_type": "stream",
     "text": [
      "\\hspace{2em} \\Qcircuit@C=1em @R=.7em{\n",
      "& \\lstick{\\lvert 0 \\rangle} & \\gate{H} & \\rstick{\\lvert + \\rangle} \\qw   \\\\ \n",
      "  & \\lstick{\\lvert 1 \\rangle} & \\gate{H} & \\rstick{\\lvert - \\rangle} \\qw \n",
      "} \\hspace{2em}\n"
     ]
    }
   ],
   "source": [
    "# Show the LaTeX representation of the expression for convenience if you need it.\n",
    "print(expr.latex())"
   ]
  },
  {
   "cell_type": "code",
   "execution_count": 5,
   "metadata": {},
   "outputs": [
    {
     "data": {
      "text/html": [
       "<table>\n",
       "<tr><th>name</th><th>description</th><th>default</th><th>current value</th><th>related methods</th></tr><tr><td>spacing</td><td>change the spacing of a circuit using the format '@C=1em @R=.7em' where C is the column spacing and R is the row spacing</td><td>@C=1em @R=.7em</td><td>@C=1em @R=.7em</td><td></td></tr>\n",
       "<tr><td>orientation</td><td>to be read from left to right then top to bottom ('horizontal') or to be read top to bottom then left to right ('vertical')</td><td>horizontal</td><td>horizontal</td><td>with_orientation</td></tr>\n",
       "</table>\n"
      ],
      "text/plain": [
       "style name: spacing\n",
       "description: change the spacing of a circuit using the format '@C=1em @R=.7em' where C is the column spacing and R is the row spacing\n",
       "default: @C=1em @R=.7em\n",
       "current value: @C=1em @R=.7em\n",
       "related methods: ()\n",
       "style name: orientation\n",
       "description: to be read from left to right then top to bottom ('horizontal') or to be read top to bottom then left to right ('vertical')\n",
       "default: horizontal\n",
       "current value: horizontal\n",
       "related methods: with_orientation"
      ]
     },
     "execution_count": 5,
     "metadata": {},
     "output_type": "execute_result"
    }
   ],
   "source": [
    "expr.style_options()"
   ]
  },
  {
   "cell_type": "code",
   "execution_count": 6,
   "metadata": {},
   "outputs": [
    {
     "data": {
      "text/html": [
       "<table><tr><th>&nbsp;</th><th>core type</th><th>sub-expressions</th><th>expression</th></tr>\n",
       "<tr><td>0</td><td>Operation</td><td>operator:&nbsp;1<br>operand:&nbsp;3<br></td><td><a class=\"ProveItLink\" href=\"expr.ipynb\"><img src=\"expr.png\" style=\"display:inline;vertical-align:middle;\" /></a></td></tr>\n",
       "<tr><td>1</td><td>Literal</td><td></td><td><a class=\"ProveItLink\" href=\"../../common/bfa5cfb2e03dde2ed2a79fcd50b6e0ef7e57c1b10/expr.ipynb\"><img src=\"../../common/bfa5cfb2e03dde2ed2a79fcd50b6e0ef7e57c1b10/expr.png\" style=\"display:inline;vertical-align:middle;\" /></a></td></tr>\n",
       "<tr><td>2</td><td>ExprTuple</td><td>3</td><td><a class=\"ProveItLink\" href=\"../7fb0e54f8fd2edf1758a9d32483b24c07956277d0/expr.ipynb\"><img src=\"../7fb0e54f8fd2edf1758a9d32483b24c07956277d0/expr.png\" style=\"display:inline;vertical-align:middle;\" /></a></td></tr>\n",
       "<tr><td>3</td><td>ExprTuple</td><td>4, 5</td><td><a class=\"ProveItLink\" href=\"../c5fc7404dca54f7616c443ffbff6dbd23144124c0/expr.ipynb\"><img src=\"../c5fc7404dca54f7616c443ffbff6dbd23144124c0/expr.png\" style=\"display:inline;vertical-align:middle;\" /></a></td></tr>\n",
       "<tr><td>4</td><td>ExprTuple</td><td>6, 9, 7</td><td><a class=\"ProveItLink\" href=\"../26000083813c135b612446616cae6fae7c052a4e0/expr.ipynb\"><img src=\"../26000083813c135b612446616cae6fae7c052a4e0/expr.png\" style=\"display:inline;vertical-align:middle;\" /></a></td></tr>\n",
       "<tr><td>5</td><td>ExprTuple</td><td>8, 9, 10</td><td><a class=\"ProveItLink\" href=\"../5c5c3b49f326ffcf420816894a24d2ea20fa6faf0/expr.ipynb\"><img src=\"../5c5c3b49f326ffcf420816894a24d2ea20fa6faf0/expr.png\" style=\"display:inline;vertical-align:middle;\" /></a></td></tr>\n",
       "<tr><td>6</td><td>Operation</td><td>operator:&nbsp;13<br>operand:&nbsp;19<br></td><td><a class=\"ProveItLink\" href=\"../271a5a18fe9fbd66bf7cebe896a864929c82c90a0/expr.ipynb\"><img src=\"../271a5a18fe9fbd66bf7cebe896a864929c82c90a0/expr.png\" style=\"display:inline;vertical-align:middle;\" /></a></td></tr>\n",
       "<tr><td>7</td><td>Operation</td><td>operator:&nbsp;17<br>operand:&nbsp;20<br></td><td><a class=\"ProveItLink\" href=\"../e33d7e6483dbfbd008b6ec14991aa3b957370fb90/expr.ipynb\"><img src=\"../e33d7e6483dbfbd008b6ec14991aa3b957370fb90/expr.png\" style=\"display:inline;vertical-align:middle;\" /></a></td></tr>\n",
       "<tr><td>8</td><td>Operation</td><td>operator:&nbsp;13<br>operand:&nbsp;21<br></td><td><a class=\"ProveItLink\" href=\"../4122cc3d8a9e5b277b47d5e2616202b12aa223c70/expr.ipynb\"><img src=\"../4122cc3d8a9e5b277b47d5e2616202b12aa223c70/expr.png\" style=\"display:inline;vertical-align:middle;\" /></a></td></tr>\n",
       "<tr><td>9</td><td>Operation</td><td>operator:&nbsp;15<br>operand:&nbsp;22<br></td><td><a class=\"ProveItLink\" href=\"../1e637d6dfa672aaca79e059d8b20023dc3ee84910/expr.ipynb\"><img src=\"../1e637d6dfa672aaca79e059d8b20023dc3ee84910/expr.png\" style=\"display:inline;vertical-align:middle;\" /></a></td></tr>\n",
       "<tr><td>10</td><td>Operation</td><td>operator:&nbsp;17<br>operand:&nbsp;23<br></td><td><a class=\"ProveItLink\" href=\"../05ee36b06ce52d7b4d726106d848e336228bb2930/expr.ipynb\"><img src=\"../05ee36b06ce52d7b4d726106d848e336228bb2930/expr.png\" style=\"display:inline;vertical-align:middle;\" /></a></td></tr>\n",
       "<tr><td>11</td><td>ExprTuple</td><td>19</td><td><a class=\"ProveItLink\" href=\"../2e08f8b9cff939b748ed0fc8eeba819770b042a90/expr.ipynb\"><img src=\"../2e08f8b9cff939b748ed0fc8eeba819770b042a90/expr.png\" style=\"display:inline;vertical-align:middle;\" /></a></td></tr>\n",
       "<tr><td>12</td><td>ExprTuple</td><td>20</td><td><a class=\"ProveItLink\" href=\"../b3bcfb24185639d82faf84a0b07bb6f638e252c10/expr.ipynb\"><img src=\"../b3bcfb24185639d82faf84a0b07bb6f638e252c10/expr.png\" style=\"display:inline;vertical-align:middle;\" /></a></td></tr>\n",
       "<tr><td>13</td><td>Literal</td><td></td><td><a class=\"ProveItLink\" href=\"../../common/96232b9016d8d3baf1cf9772ef796ddaf8f7f4610/expr.ipynb\"><img src=\"../../common/96232b9016d8d3baf1cf9772ef796ddaf8f7f4610/expr.png\" style=\"display:inline;vertical-align:middle;\" /></a></td></tr>\n",
       "<tr><td>14</td><td>ExprTuple</td><td>21</td><td><a class=\"ProveItLink\" href=\"../4d8b8c4d6a6654455ea78c868c1eabd1a7b225530/expr.ipynb\"><img src=\"../4d8b8c4d6a6654455ea78c868c1eabd1a7b225530/expr.png\" style=\"display:inline;vertical-align:middle;\" /></a></td></tr>\n",
       "<tr><td>15</td><td>Literal</td><td></td><td><a class=\"ProveItLink\" href=\"../../common/44032ea2879a75be63dcfde93f5992fe3f6108fc0/expr.ipynb\"><img src=\"../../common/44032ea2879a75be63dcfde93f5992fe3f6108fc0/expr.png\" style=\"display:inline;vertical-align:middle;\" /></a></td></tr>\n",
       "<tr><td>16</td><td>ExprTuple</td><td>22</td><td><a class=\"ProveItLink\" href=\"../305f4dde1b23f618d8c3b6406524ca18970907570/expr.ipynb\"><img src=\"../305f4dde1b23f618d8c3b6406524ca18970907570/expr.png\" style=\"display:inline;vertical-align:middle;\" /></a></td></tr>\n",
       "<tr><td>17</td><td>Literal</td><td></td><td><a class=\"ProveItLink\" href=\"../../common/a31fa972f0ff74e32d7bde73a99a2ddf76467fac0/expr.ipynb\"><img src=\"../../common/a31fa972f0ff74e32d7bde73a99a2ddf76467fac0/expr.png\" style=\"display:inline;vertical-align:middle;\" /></a></td></tr>\n",
       "<tr><td>18</td><td>ExprTuple</td><td>23</td><td><a class=\"ProveItLink\" href=\"../3b1584579f3bfaf29b8243d89b10132ff909ed8e0/expr.ipynb\"><img src=\"../3b1584579f3bfaf29b8243d89b10132ff909ed8e0/expr.png\" style=\"display:inline;vertical-align:middle;\" /></a></td></tr>\n",
       "<tr><td>19</td><td>Operation</td><td>operator:&nbsp;27<br>operand:&nbsp;29<br></td><td><a class=\"ProveItLink\" href=\"../../common/ed60e75561684be6b18310df5c479706894f1f410/expr.ipynb\"><img src=\"../../common/ed60e75561684be6b18310df5c479706894f1f410/expr.png\" style=\"display:inline;vertical-align:middle;\" /></a></td></tr>\n",
       "<tr><td>20</td><td>Operation</td><td>operator:&nbsp;27<br>operand:&nbsp;30<br></td><td><a class=\"ProveItLink\" href=\"../../common/239737a06a466610bb3286735d2b6643e40cdb4c0/expr.ipynb\"><img src=\"../../common/239737a06a466610bb3286735d2b6643e40cdb4c0/expr.png\" style=\"display:inline;vertical-align:middle;\" /></a></td></tr>\n",
       "<tr><td>21</td><td>Operation</td><td>operator:&nbsp;27<br>operand:&nbsp;31<br></td><td><a class=\"ProveItLink\" href=\"../../common/657153f886e06f25f3afe5329bbf35664d219ac40/expr.ipynb\"><img src=\"../../common/657153f886e06f25f3afe5329bbf35664d219ac40/expr.png\" style=\"display:inline;vertical-align:middle;\" /></a></td></tr>\n",
       "<tr><td>22</td><td>Literal</td><td></td><td><a class=\"ProveItLink\" href=\"../../common/368cf31b7f078f904d5478ccb332c7d15763fe920/expr.ipynb\"><img src=\"../../common/368cf31b7f078f904d5478ccb332c7d15763fe920/expr.png\" style=\"display:inline;vertical-align:middle;\" /></a></td></tr>\n",
       "<tr><td>23</td><td>Operation</td><td>operator:&nbsp;27<br>operand:&nbsp;32<br></td><td><a class=\"ProveItLink\" href=\"../../common/7551611690734748d53b6eb0f690239d2d68f2f10/expr.ipynb\"><img src=\"../../common/7551611690734748d53b6eb0f690239d2d68f2f10/expr.png\" style=\"display:inline;vertical-align:middle;\" /></a></td></tr>\n",
       "<tr><td>24</td><td>ExprTuple</td><td>29</td><td><a class=\"ProveItLink\" href=\"../../common/f243cd078d9a833f4a423d1194e14ef4aae6b6fe0/expr.ipynb\"><img src=\"../../common/f243cd078d9a833f4a423d1194e14ef4aae6b6fe0/expr.png\" style=\"display:inline;vertical-align:middle;\" /></a></td></tr>\n",
       "<tr><td>25</td><td>ExprTuple</td><td>30</td><td><a class=\"ProveItLink\" href=\"../../common/af1dd5a06e84bf9eb12f2a55bd6fcd3edfa0db0f0/expr.ipynb\"><img src=\"../../common/af1dd5a06e84bf9eb12f2a55bd6fcd3edfa0db0f0/expr.png\" style=\"display:inline;vertical-align:middle;\" /></a></td></tr>\n",
       "<tr><td>26</td><td>ExprTuple</td><td>31</td><td><a class=\"ProveItLink\" href=\"../../common/983fb1abdb7789966ec8b7afe0d4f7ca8578c9e50/expr.ipynb\"><img src=\"../../common/983fb1abdb7789966ec8b7afe0d4f7ca8578c9e50/expr.png\" style=\"display:inline;vertical-align:middle;\" /></a></td></tr>\n",
       "<tr><td>27</td><td>Literal</td><td></td><td><a class=\"ProveItLink\" href=\"../../common/6e9e7d19bd9dfa08dee7501fca955461a19971770/expr.ipynb\"><img src=\"../../common/6e9e7d19bd9dfa08dee7501fca955461a19971770/expr.png\" style=\"display:inline;vertical-align:middle;\" /></a></td></tr>\n",
       "<tr><td>28</td><td>ExprTuple</td><td>32</td><td><a class=\"ProveItLink\" href=\"../../common/5723286c24e553579807b79eeaab979160da3fc40/expr.ipynb\"><img src=\"../../common/5723286c24e553579807b79eeaab979160da3fc40/expr.png\" style=\"display:inline;vertical-align:middle;\" /></a></td></tr>\n",
       "<tr><td>29</td><td>Literal</td><td></td><td><a class=\"ProveItLink\" href=\"../../../../../numbers/numerals/__pv_it/common/c35fdf7268947ca3e24174d2909dc9d0a7f3aac60/expr.ipynb\"><img src=\"../../../../../numbers/numerals/__pv_it/common/c35fdf7268947ca3e24174d2909dc9d0a7f3aac60/expr.png\" style=\"display:inline;vertical-align:middle;\" /></a></td></tr>\n",
       "<tr><td>30</td><td>Literal</td><td></td><td><a class=\"ProveItLink\" href=\"../../common/d7fa6152f19068ab3f253d475eb693f72e459db90/expr.ipynb\"><img src=\"../../common/d7fa6152f19068ab3f253d475eb693f72e459db90/expr.png\" style=\"display:inline;vertical-align:middle;\" /></a></td></tr>\n",
       "<tr><td>31</td><td>Literal</td><td></td><td><a class=\"ProveItLink\" href=\"../../../../../numbers/numerals/__pv_it/common/d278e359da0695d9652dd541d45264f93703e2e40/expr.ipynb\"><img src=\"../../../../../numbers/numerals/__pv_it/common/d278e359da0695d9652dd541d45264f93703e2e40/expr.png\" style=\"display:inline;vertical-align:middle;\" /></a></td></tr>\n",
       "<tr><td>32</td><td>Literal</td><td></td><td><a class=\"ProveItLink\" href=\"../../common/b131abdc2fb4be43e157d102d1d50518fed957890/expr.ipynb\"><img src=\"../../common/b131abdc2fb4be43e157d102d1d50518fed957890/expr.png\" style=\"display:inline;vertical-align:middle;\" /></a></td></tr>\n",
       "</table>\n"
      ],
      "text/plain": [
       "0.  Input(|0〉)  & Gate(H)  & Output(|+〉)   \\\\ \n",
       "   Input(|1〉)  & Gate(H)  & Output(|-〉)\n",
       "   core type: Operation\n",
       "   operator: 1\n",
       "   operand: 3\n",
       "1. CIRCUIT\n",
       "   core type: Literal\n",
       "   sub-expressions: \n",
       "2. ((Input(|0〉) & Gate(H) & Output(|+〉)  \\\\ \n",
       "  Input(|1〉) & Gate(H) & Output(|-〉)))\n",
       "   core type: ExprTuple\n",
       "   sub-expressions: 3\n",
       "3. Input(|0〉) & Gate(H) & Output(|+〉)  \\\\ \n",
       "  Input(|1〉) & Gate(H) & Output(|-〉)\n",
       "   core type: ExprTuple\n",
       "   sub-expressions: 4, 5\n",
       "4. (Input(|0〉), Gate(H), Output(|+〉))\n",
       "   core type: ExprTuple\n",
       "   sub-expressions: 6, 9, 7\n",
       "5. (Input(|1〉), Gate(H), Output(|-〉))\n",
       "   core type: ExprTuple\n",
       "   sub-expressions: 8, 9, 10\n",
       "6. Input(|0〉)\n",
       "   core type: Operation\n",
       "   operator: 13\n",
       "   operand: 19\n",
       "7. Output(|+〉)\n",
       "   core type: Operation\n",
       "   operator: 17\n",
       "   operand: 20\n",
       "8. Input(|1〉)\n",
       "   core type: Operation\n",
       "   operator: 13\n",
       "   operand: 21\n",
       "9. Gate(H)\n",
       "   core type: Operation\n",
       "   operator: 15\n",
       "   operand: 22\n",
       "10. Output(|-〉)\n",
       "    core type: Operation\n",
       "    operator: 17\n",
       "    operand: 23\n",
       "11. (|0〉)\n",
       "    core type: ExprTuple\n",
       "    sub-expressions: 19\n",
       "12. (|+〉)\n",
       "    core type: ExprTuple\n",
       "    sub-expressions: 20\n",
       "13. INPUT\n",
       "    core type: Literal\n",
       "    sub-expressions: \n",
       "14. (|1〉)\n",
       "    core type: ExprTuple\n",
       "    sub-expressions: 21\n",
       "15. GATE\n",
       "    core type: Literal\n",
       "    sub-expressions: \n",
       "16. (H)\n",
       "    core type: ExprTuple\n",
       "    sub-expressions: 22\n",
       "17. OUTPUT\n",
       "    core type: Literal\n",
       "    sub-expressions: \n",
       "18. (|-〉)\n",
       "    core type: ExprTuple\n",
       "    sub-expressions: 23\n",
       "19. |0〉\n",
       "    core type: Operation\n",
       "    operator: 27\n",
       "    operand: 29\n",
       "20. |+〉\n",
       "    core type: Operation\n",
       "    operator: 27\n",
       "    operand: 30\n",
       "21. |1〉\n",
       "    core type: Operation\n",
       "    operator: 27\n",
       "    operand: 31\n",
       "22. H\n",
       "    core type: Literal\n",
       "    sub-expressions: \n",
       "23. |-〉\n",
       "    core type: Operation\n",
       "    operator: 27\n",
       "    operand: 32\n",
       "24. (0)\n",
       "    core type: ExprTuple\n",
       "    sub-expressions: 29\n",
       "25. (+)\n",
       "    core type: ExprTuple\n",
       "    sub-expressions: 30\n",
       "26. (1)\n",
       "    core type: ExprTuple\n",
       "    sub-expressions: 31\n",
       "27. KET\n",
       "    core type: Literal\n",
       "    sub-expressions: \n",
       "28. (-)\n",
       "    core type: ExprTuple\n",
       "    sub-expressions: 32\n",
       "29. 0\n",
       "    core type: Literal\n",
       "    sub-expressions: \n",
       "30. +\n",
       "    core type: Literal\n",
       "    sub-expressions: \n",
       "31. 1\n",
       "    core type: Literal\n",
       "    sub-expressions: \n",
       "32. -\n",
       "    core type: Literal\n",
       "    sub-expressions: "
      ]
     },
     "execution_count": 6,
     "metadata": {},
     "output_type": "execute_result"
    }
   ],
   "source": [
    "# display the expression information\n",
    "expr.expr_info()"
   ]
  },
  {
   "cell_type": "code",
   "execution_count": null,
   "metadata": {},
   "outputs": [],
   "source": []
  }
 ],
 "metadata": {
  "kernelspec": {
   "display_name": "Python 3",
   "language": "python",
   "name": "python3"
  }
 },
 "nbformat": 4,
 "nbformat_minor": 0
}