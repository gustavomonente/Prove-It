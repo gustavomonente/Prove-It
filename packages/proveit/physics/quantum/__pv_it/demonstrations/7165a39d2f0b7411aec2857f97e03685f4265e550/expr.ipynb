{
 "cells": [
  {
   "cell_type": "markdown",
   "metadata": {},
   "source": [
    "Expression of type <a class=\"ProveItLink\" href=\"../../../../../../../doc/html/api/proveit.ExprTuple.html\">ExprTuple</a>\n",
    "=======================\n",
    "# from the theory of <a class=\"ProveItLink\" href=\"../../../_theory_nbs_/theory.ipynb\">proveit.physics.quantum</a>"
   ]
  },
  {
   "cell_type": "code",
   "execution_count": 1,
   "metadata": {},
   "outputs": [],
   "source": [
    "import proveit\n",
    "# Automation is not needed when building an expression:\n",
    "proveit.defaults.automation = False # This will speed things up.\n",
    "proveit.defaults.inline_pngs = False # Makes files smaller.\n",
    "%load_expr # Load the stored expression as 'stored_expr'\n",
    "# import Expression classes needed to build the expression\n",
    "from proveit import ExprRange, ExprTuple, k, x\n",
    "from proveit.core_expr_types import Len\n",
    "from proveit.numbers import one\n",
    "from proveit.physics.quantum import X"
   ]
  },
  {
   "cell_type": "code",
   "execution_count": 2,
   "metadata": {},
   "outputs": [
    {
     "data": {
      "text/html": [
       "<strong id=\"expr\">expr:</strong> <a class=\"ProveItLink\" href=\"expr.ipynb\"><img src=\"expr.png\" style=\"display:inline;vertical-align:middle;\" /></a><br>"
      ],
      "text/plain": [
       "expr: (|(X)|, |((1, 1), ..(1, x).., (1, 1), ....(k, 1), ..(k, x).., (k, 1)...., (1, 1), ..(1, x).., (1, 1))|)"
      ]
     },
     "execution_count": 2,
     "metadata": {},
     "output_type": "execute_result"
    }
   ],
   "source": [
    "# build up the expression from sub-expressions\n",
    "expr = ExprTuple(Len([X]), Len([ExprRange(k, ExprRange(x, [k, x], one, one), one, one)]))"
   ]
  },
  {
   "cell_type": "code",
   "execution_count": 3,
   "metadata": {},
   "outputs": [
    {
     "name": "stdout",
     "output_type": "stream",
     "text": [
      "Passed sanity check: expr matches stored_expr\n"
     ]
    }
   ],
   "source": [
    "# check that the built expression is the same as the stored expression\n",
    "assert expr == stored_expr\n",
    "assert expr._style_id == stored_expr._style_id\n",
    "print(\"Passed sanity check: expr matches stored_expr\")"
   ]
  },
  {
   "cell_type": "code",
   "execution_count": 4,
   "metadata": {},
   "outputs": [
    {
     "name": "stdout",
     "output_type": "stream",
     "text": [
      "\\left(|\\left(X\\right)|, |\\left(\\left(1, 1\\right), \\ldots, \\left(1, 1\\right), \\ldots\\ldots, \\left(1, 1\\right), \\ldots, \\left(1, 1\\right)\\right)|\\right)\n"
     ]
    }
   ],
   "source": [
    "# Show the LaTeX representation of the expression for convenience if you need it.\n",
    "print(expr.latex())"
   ]
  },
  {
   "cell_type": "code",
   "execution_count": 5,
   "metadata": {},
   "outputs": [
    {
     "data": {
      "text/html": [
       "<table><tr><th>&nbsp;</th><th>core type</th><th>sub-expressions</th><th>expression</th></tr>\n",
       "<tr><td>0</td><td>ExprTuple</td><td>1, 2</td><td><a class=\"ProveItLink\" href=\"expr.ipynb\"><img src=\"expr.png\" style=\"display:inline;vertical-align:middle;\" /></a></td></tr>\n",
       "<tr><td>1</td><td>Operation</td><td>operator:&nbsp;4<br>operand:&nbsp;6<br></td><td><a class=\"ProveItLink\" href=\"../32956fdc97dc7c80a2f0e1b561e25296ae76d0d50/expr.ipynb\"><img src=\"../32956fdc97dc7c80a2f0e1b561e25296ae76d0d50/expr.png\" style=\"display:inline;vertical-align:middle;\" /></a></td></tr>\n",
       "<tr><td>2</td><td>Operation</td><td>operator:&nbsp;4<br>operand:&nbsp;7<br></td><td><a class=\"ProveItLink\" href=\"../03b9de14910c637c7e346fffd2a600cb2e5770720/expr.ipynb\"><img src=\"../03b9de14910c637c7e346fffd2a600cb2e5770720/expr.png\" style=\"display:inline;vertical-align:middle;\" /></a></td></tr>\n",
       "<tr><td>3</td><td>ExprTuple</td><td>6</td><td><a class=\"ProveItLink\" href=\"../53d2cd3966f84e8d189e43e16aa366925f882b4e0/expr.ipynb\"><img src=\"../53d2cd3966f84e8d189e43e16aa366925f882b4e0/expr.png\" style=\"display:inline;vertical-align:middle;\" /></a></td></tr>\n",
       "<tr><td>4</td><td>Literal</td><td></td><td><a class=\"ProveItLink\" href=\"../../../../../core_expr_types/tuples/__pv_it/common/43df765abf1294d8f1fd177863f57f08bf5ad0080/expr.ipynb\"><img src=\"../../../../../core_expr_types/tuples/__pv_it/common/43df765abf1294d8f1fd177863f57f08bf5ad0080/expr.png\" style=\"display:inline;vertical-align:middle;\" /></a></td></tr>\n",
       "<tr><td>5</td><td>ExprTuple</td><td>7</td><td><a class=\"ProveItLink\" href=\"../9030b7b4fd31444bb3c0e68363ea04ab875e3fa50/expr.ipynb\"><img src=\"../9030b7b4fd31444bb3c0e68363ea04ab875e3fa50/expr.png\" style=\"display:inline;vertical-align:middle;\" /></a></td></tr>\n",
       "<tr><td>6</td><td>ExprTuple</td><td>8</td><td><a class=\"ProveItLink\" href=\"../8c211487d87429890e972660106a188b6984b3e80/expr.ipynb\"><img src=\"../8c211487d87429890e972660106a188b6984b3e80/expr.png\" style=\"display:inline;vertical-align:middle;\" /></a></td></tr>\n",
       "<tr><td>7</td><td>ExprTuple</td><td>9</td><td><a class=\"ProveItLink\" href=\"../b762e2d5405ca431aa959ec0ac59b4632526dd330/expr.ipynb\"><img src=\"../b762e2d5405ca431aa959ec0ac59b4632526dd330/expr.png\" style=\"display:inline;vertical-align:middle;\" /></a></td></tr>\n",
       "<tr><td>8</td><td>Literal</td><td></td><td><a class=\"ProveItLink\" href=\"../../common/d428480ac9882b1412f7ede37b71e3a30f3c2e9e0/expr.ipynb\"><img src=\"../../common/d428480ac9882b1412f7ede37b71e3a30f3c2e9e0/expr.png\" style=\"display:inline;vertical-align:middle;\" /></a></td></tr>\n",
       "<tr><td>9</td><td>ExprRange</td><td>lambda_map:&nbsp;10<br>start_index:&nbsp;13<br>end_index:&nbsp;13<br></td><td><a class=\"ProveItLink\" href=\"../ddb6d7d06d0b552f42e80b89ea876cd1efc799ef0/expr.ipynb\"><img src=\"../ddb6d7d06d0b552f42e80b89ea876cd1efc799ef0/expr.png\" style=\"display:inline;vertical-align:middle;\" /></a></td></tr>\n",
       "<tr><td>10</td><td>Lambda</td><td>parameter:&nbsp;15<br>body:&nbsp;11<br></td><td><a class=\"ProveItLink\" href=\"../729a036a0dbc2d42170a635a9ac14388456610f60/expr.ipynb\"><img src=\"../729a036a0dbc2d42170a635a9ac14388456610f60/expr.png\" style=\"display:inline;vertical-align:middle;\" /></a></td></tr>\n",
       "<tr><td>11</td><td>ExprRange</td><td>lambda_map:&nbsp;12<br>start_index:&nbsp;13<br>end_index:&nbsp;13<br></td><td><a class=\"ProveItLink\" href=\"../88b6b5718bbb18afbc5ab0d410d031decb8613ea0/expr.ipynb\"><img src=\"../88b6b5718bbb18afbc5ab0d410d031decb8613ea0/expr.png\" style=\"display:inline;vertical-align:middle;\" /></a></td></tr>\n",
       "<tr><td>12</td><td>Lambda</td><td>parameter:&nbsp;16<br>body:&nbsp;14<br></td><td><a class=\"ProveItLink\" href=\"../2c876b7d261df93e8941c65130cd30a6953011170/expr.ipynb\"><img src=\"../2c876b7d261df93e8941c65130cd30a6953011170/expr.png\" style=\"display:inline;vertical-align:middle;\" /></a></td></tr>\n",
       "<tr><td>13</td><td>Literal</td><td></td><td><a class=\"ProveItLink\" href=\"../../../../../numbers/numerals/__pv_it/common/2778428c7f555b2bdc06aa0530bc142c6e6335100/expr.ipynb\"><img src=\"../../../../../numbers/numerals/__pv_it/common/2778428c7f555b2bdc06aa0530bc142c6e6335100/expr.png\" style=\"display:inline;vertical-align:middle;\" /></a></td></tr>\n",
       "<tr><td>14</td><td>ExprTuple</td><td>15, 16</td><td><a class=\"ProveItLink\" href=\"../2b7523a7e95634a2705f4763e39a8879c8821e370/expr.ipynb\"><img src=\"../2b7523a7e95634a2705f4763e39a8879c8821e370/expr.png\" style=\"display:inline;vertical-align:middle;\" /></a></td></tr>\n",
       "<tr><td>15</td><td>Variable</td><td></td><td><a class=\"ProveItLink\" href=\"../../../../../__pv_it/common/63b7c64bf9ec7a04ecc396c7a1670f3f12fb59490/expr.ipynb\"><img src=\"../../../../../__pv_it/common/63b7c64bf9ec7a04ecc396c7a1670f3f12fb59490/expr.png\" style=\"display:inline;vertical-align:middle;\" /></a></td></tr>\n",
       "<tr><td>16</td><td>Variable</td><td></td><td><a class=\"ProveItLink\" href=\"../../../../../__pv_it/common/a0d9d672aa5e272d907247690c152cc2c6daafb70/expr.ipynb\"><img src=\"../../../../../__pv_it/common/a0d9d672aa5e272d907247690c152cc2c6daafb70/expr.png\" style=\"display:inline;vertical-align:middle;\" /></a></td></tr>\n",
       "</table>\n"
      ],
      "text/plain": [
       "0. (|(X)|, |((1, 1), ..(1, x).., (1, 1), ....(k, 1), ..(k, x).., (k, 1)...., (1, 1), ..(1, x).., (1, 1))|)\n",
       "   core type: ExprTuple\n",
       "   sub-expressions: 1, 2\n",
       "1. |(X)|\n",
       "   core type: Operation\n",
       "   operator: 4\n",
       "   operand: 6\n",
       "2. |((1, 1), ..(1, x).., (1, 1), ....(k, 1), ..(k, x).., (k, 1)...., (1, 1), ..(1, x).., (1, 1))|\n",
       "   core type: Operation\n",
       "   operator: 4\n",
       "   operand: 7\n",
       "3. ((X))\n",
       "   core type: ExprTuple\n",
       "   sub-expressions: 6\n",
       "4. length\n",
       "   core type: Literal\n",
       "   sub-expressions: \n",
       "5. (((1, 1), ..(1, x).., (1, 1), ....(k, 1), ..(k, x).., (k, 1)...., (1, 1), ..(1, x).., (1, 1)))\n",
       "   core type: ExprTuple\n",
       "   sub-expressions: 7\n",
       "6. (X)\n",
       "   core type: ExprTuple\n",
       "   sub-expressions: 8\n",
       "7. ((1, 1), ..(1, x).., (1, 1), ....(k, 1), ..(k, x).., (k, 1)...., (1, 1), ..(1, x).., (1, 1))\n",
       "   core type: ExprTuple\n",
       "   sub-expressions: 9\n",
       "8. X\n",
       "   core type: Literal\n",
       "   sub-expressions: \n",
       "9. (1, 1), ..(1, x).., (1, 1), ....(k, 1), ..(k, x).., (k, 1)...., (1, 1), ..(1, x).., (1, 1)\n",
       "   core type: ExprRange\n",
       "   lambda_map: 10\n",
       "   start_index: 13\n",
       "   end_index: 13\n",
       "10. k -> (k, 1), ..(k, x).., (k, 1)\n",
       "    core type: Lambda\n",
       "    parameter: 15\n",
       "    body: 11\n",
       "11. (k, 1), ..(k, x).., (k, 1)\n",
       "    core type: ExprRange\n",
       "    lambda_map: 12\n",
       "    start_index: 13\n",
       "    end_index: 13\n",
       "12. x -> (k, x)\n",
       "    core type: Lambda\n",
       "    parameter: 16\n",
       "    body: 14\n",
       "13. 1\n",
       "    core type: Literal\n",
       "    sub-expressions: \n",
       "14. (k, x)\n",
       "    core type: ExprTuple\n",
       "    sub-expressions: 15, 16\n",
       "15. k\n",
       "    core type: Variable\n",
       "    sub-expressions: \n",
       "16. x\n",
       "    core type: Variable\n",
       "    sub-expressions: "
      ]
     },
     "execution_count": 5,
     "metadata": {},
     "output_type": "execute_result"
    }
   ],
   "source": [
    "# display the expression information\n",
    "expr.expr_info()"
   ]
  },
  {
   "cell_type": "code",
   "execution_count": null,
   "metadata": {},
   "outputs": [],
   "source": []
  }
 ],
 "metadata": {
  "kernelspec": {
   "display_name": "Python 3",
   "language": "python",
   "name": "python3"
  }
 },
 "nbformat": 4,
 "nbformat_minor": 0
}