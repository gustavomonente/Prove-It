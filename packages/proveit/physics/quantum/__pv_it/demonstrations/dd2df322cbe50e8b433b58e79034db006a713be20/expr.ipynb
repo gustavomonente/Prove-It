{
 "cells": [
  {
   "cell_type": "markdown",
   "metadata": {},
   "source": [
    "Expression of type <a class=\"ProveItLink\" href=\"../../../../../../../doc/html/api/proveit.ExprTuple.html\">ExprTuple</a>\n",
    "=======================\n",
    "# from the theory of <a class=\"ProveItLink\" href=\"../../../_theory_nbs_/theory.ipynb\">proveit.physics.quantum</a>"
   ]
  },
  {
   "cell_type": "code",
   "execution_count": 1,
   "metadata": {},
   "outputs": [],
   "source": [
    "import proveit\n",
    "# Automation is not needed when building an expression:\n",
    "proveit.defaults.automation = False # This will speed things up.\n",
    "proveit.defaults.inline_pngs = False # Makes files smaller.\n",
    "%load_expr # Load the stored expression as 'stored_expr'\n",
    "# import Expression classes needed to build the expression\n",
    "from proveit import ExprArray, ExprTuple\n",
    "from proveit.logic import Set\n",
    "from proveit.numbers import one\n",
    "from proveit.physics.quantum import H, X, Z\n",
    "from proveit.physics.quantum.circuit import Circuit, CircuitEquiv, MultiQubitGate"
   ]
  },
  {
   "cell_type": "code",
   "execution_count": 2,
   "metadata": {},
   "outputs": [
    {
     "data": {
      "text/html": [
       "<strong id=\"expr\">expr:</strong> <a class=\"ProveItLink\" href=\"expr.ipynb\"><img src=\"expr.png\" style=\"display:inline;vertical-align:middle;\" /></a><br>"
      ],
      "text/plain": [
       "expr: ( MultiQubitGate(Z, {1}) equiv  MultiQubitGate(Z, {1}),  MultiQubitGate(H, {1})  & MultiQubitGate(Z, {1})  & MultiQubitGate(X, {1}) equiv  MultiQubitGate(H, {1})  & MultiQubitGate(Z, {1})  & MultiQubitGate(X, {1}))"
      ]
     },
     "execution_count": 2,
     "metadata": {},
     "output_type": "execute_result"
    }
   ],
   "source": [
    "# build up the expression from sub-expressions\n",
    "sub_expr1 = Set(one)\n",
    "sub_expr2 = MultiQubitGate(Z, sub_expr1)\n",
    "sub_expr3 = Circuit(ExprArray([sub_expr2]))\n",
    "sub_expr4 = Circuit(ExprArray([MultiQubitGate(H, sub_expr1), sub_expr2, MultiQubitGate(X, sub_expr1)]))\n",
    "expr = ExprTuple(CircuitEquiv(sub_expr3, sub_expr3), CircuitEquiv(sub_expr4, sub_expr4))"
   ]
  },
  {
   "cell_type": "code",
   "execution_count": 3,
   "metadata": {},
   "outputs": [
    {
     "name": "stdout",
     "output_type": "stream",
     "text": [
      "Passed sanity check: expr matches stored_expr\n"
     ]
    }
   ],
   "source": [
    "# check that the built expression is the same as the stored expression\n",
    "assert expr == stored_expr\n",
    "assert expr._style_id == stored_expr._style_id\n",
    "print(\"Passed sanity check: expr matches stored_expr\")"
   ]
  },
  {
   "cell_type": "code",
   "execution_count": 4,
   "metadata": {},
   "outputs": [
    {
     "name": "stdout",
     "output_type": "stream",
     "text": [
      "\\left(\\hspace{2em} \\Qcircuit@C=1em @R=.7em{\n",
      "& \\gate{Z{\\Big \\{} \\left\\{1\\right\\}} \n",
      "} \\hspace{2em} \\cong \\hspace{2em} \\Qcircuit@C=1em @R=.7em{\n",
      "& \\gate{Z{\\Big \\{} \\left\\{1\\right\\}} \n",
      "} \\hspace{2em}, \\hspace{2em} \\Qcircuit@C=1em @R=.7em{\n",
      "& \\gate{H{\\Big \\{} \\left\\{1\\right\\}} & \\gate{Z{\\Big \\{} \\left\\{1\\right\\}} & \\gate{X{\\Big \\{} \\left\\{1\\right\\}} \n",
      "} \\hspace{2em} \\cong \\hspace{2em} \\Qcircuit@C=1em @R=.7em{\n",
      "& \\gate{H{\\Big \\{} \\left\\{1\\right\\}} & \\gate{Z{\\Big \\{} \\left\\{1\\right\\}} & \\gate{X{\\Big \\{} \\left\\{1\\right\\}} \n",
      "} \\hspace{2em}\\right)\n"
     ]
    }
   ],
   "source": [
    "# Show the LaTeX representation of the expression for convenience if you need it.\n",
    "print(expr.latex())"
   ]
  },
  {
   "cell_type": "code",
   "execution_count": 5,
   "metadata": {},
   "outputs": [
    {
     "data": {
      "text/html": [
       "<table><tr><th>&nbsp;</th><th>core type</th><th>sub-expressions</th><th>expression</th></tr>\n",
       "<tr><td>0</td><td>ExprTuple</td><td>1, 2</td><td><a class=\"ProveItLink\" href=\"expr.ipynb\"><img src=\"expr.png\" style=\"display:inline;vertical-align:middle;\" /></a></td></tr>\n",
       "<tr><td>1</td><td>Operation</td><td>operator:&nbsp;4<br>operands:&nbsp;3<br></td><td><a class=\"ProveItLink\" href=\"../202a8e06a7fe028b67a5bc9b1a1305cdbcf1ed650/expr.ipynb\"><img src=\"../202a8e06a7fe028b67a5bc9b1a1305cdbcf1ed650/expr.png\" style=\"display:inline;vertical-align:middle;\" /></a></td></tr>\n",
       "<tr><td>2</td><td>Operation</td><td>operator:&nbsp;4<br>operands:&nbsp;5<br></td><td><a class=\"ProveItLink\" href=\"../3e88cc174e2db16af760c108243ce8d6f3d9bcda0/expr.ipynb\"><img src=\"../3e88cc174e2db16af760c108243ce8d6f3d9bcda0/expr.png\" style=\"display:inline;vertical-align:middle;\" /></a></td></tr>\n",
       "<tr><td>3</td><td>ExprTuple</td><td>6, 6</td><td><a class=\"ProveItLink\" href=\"../25e8374d276c68877326218e5699b6bfe9a4e5960/expr.ipynb\"><img src=\"../25e8374d276c68877326218e5699b6bfe9a4e5960/expr.png\" style=\"display:inline;vertical-align:middle;\" /></a></td></tr>\n",
       "<tr><td>4</td><td>Literal</td><td></td><td><a class=\"ProveItLink\" href=\"../../common/b3520ccd5e28caaba55f0c0dd58050c7f0ca707d0/expr.ipynb\"><img src=\"../../common/b3520ccd5e28caaba55f0c0dd58050c7f0ca707d0/expr.png\" style=\"display:inline;vertical-align:middle;\" /></a></td></tr>\n",
       "<tr><td>5</td><td>ExprTuple</td><td>7, 7</td><td><a class=\"ProveItLink\" href=\"../80e35dcd0970f7943ad4ffe007d5b87344ac4dbb0/expr.ipynb\"><img src=\"../80e35dcd0970f7943ad4ffe007d5b87344ac4dbb0/expr.png\" style=\"display:inline;vertical-align:middle;\" /></a></td></tr>\n",
       "<tr><td>6</td><td>Operation</td><td>operator:&nbsp;9<br>operand:&nbsp;11<br></td><td><a class=\"ProveItLink\" href=\"../f2c8523e4281c7632279c645715fce0fcdcccdb00/expr.ipynb\"><img src=\"../f2c8523e4281c7632279c645715fce0fcdcccdb00/expr.png\" style=\"display:inline;vertical-align:middle;\" /></a></td></tr>\n",
       "<tr><td>7</td><td>Operation</td><td>operator:&nbsp;9<br>operand:&nbsp;12<br></td><td><a class=\"ProveItLink\" href=\"../0cca04fcc73088b3aca5c76d5cca7acec9491f720/expr.ipynb\"><img src=\"../0cca04fcc73088b3aca5c76d5cca7acec9491f720/expr.png\" style=\"display:inline;vertical-align:middle;\" /></a></td></tr>\n",
       "<tr><td>8</td><td>ExprTuple</td><td>11</td><td><a class=\"ProveItLink\" href=\"../1c7cecdab341d5ed0719fbf7b11c2290ea5d76900/expr.ipynb\"><img src=\"../1c7cecdab341d5ed0719fbf7b11c2290ea5d76900/expr.png\" style=\"display:inline;vertical-align:middle;\" /></a></td></tr>\n",
       "<tr><td>9</td><td>Literal</td><td></td><td><a class=\"ProveItLink\" href=\"../../common/409f940d39947a3c17092974bfa20c1d4da6996c0/expr.ipynb\"><img src=\"../../common/409f940d39947a3c17092974bfa20c1d4da6996c0/expr.png\" style=\"display:inline;vertical-align:middle;\" /></a></td></tr>\n",
       "<tr><td>10</td><td>ExprTuple</td><td>12</td><td><a class=\"ProveItLink\" href=\"../c4a0c63e197e162a1be5ff90914c5f2d264974d80/expr.ipynb\"><img src=\"../c4a0c63e197e162a1be5ff90914c5f2d264974d80/expr.png\" style=\"display:inline;vertical-align:middle;\" /></a></td></tr>\n",
       "<tr><td>11</td><td>ExprTuple</td><td>13</td><td><a class=\"ProveItLink\" href=\"../1b9178efa64cf4ba197a98fdb46c27a8422c93c80/expr.ipynb\"><img src=\"../1b9178efa64cf4ba197a98fdb46c27a8422c93c80/expr.png\" style=\"display:inline;vertical-align:middle;\" /></a></td></tr>\n",
       "<tr><td>12</td><td>ExprTuple</td><td>14</td><td><a class=\"ProveItLink\" href=\"../d3a3c672e394ad3153401eae1d0b08a88f5aa80f0/expr.ipynb\"><img src=\"../d3a3c672e394ad3153401eae1d0b08a88f5aa80f0/expr.png\" style=\"display:inline;vertical-align:middle;\" /></a></td></tr>\n",
       "<tr><td>13</td><td>ExprTuple</td><td>16</td><td><a class=\"ProveItLink\" href=\"../88c8b743a4b5ec009313db8acd65edf1a2a11e470/expr.ipynb\"><img src=\"../88c8b743a4b5ec009313db8acd65edf1a2a11e470/expr.png\" style=\"display:inline;vertical-align:middle;\" /></a></td></tr>\n",
       "<tr><td>14</td><td>ExprTuple</td><td>15, 16, 17</td><td><a class=\"ProveItLink\" href=\"../c9fd9eab6e54ed8a797436e88279df24a1d18f240/expr.ipynb\"><img src=\"../c9fd9eab6e54ed8a797436e88279df24a1d18f240/expr.png\" style=\"display:inline;vertical-align:middle;\" /></a></td></tr>\n",
       "<tr><td>15</td><td>Operation</td><td>operator:&nbsp;20<br>operands:&nbsp;18<br></td><td><a class=\"ProveItLink\" href=\"../6ab25901cb5672432315ad720e8944618fb015d50/expr.ipynb\"><img src=\"../6ab25901cb5672432315ad720e8944618fb015d50/expr.png\" style=\"display:inline;vertical-align:middle;\" /></a></td></tr>\n",
       "<tr><td>16</td><td>Operation</td><td>operator:&nbsp;20<br>operands:&nbsp;19<br></td><td><a class=\"ProveItLink\" href=\"../fe75da39b62858956e40d76c60aad7b5fbc195200/expr.ipynb\"><img src=\"../fe75da39b62858956e40d76c60aad7b5fbc195200/expr.png\" style=\"display:inline;vertical-align:middle;\" /></a></td></tr>\n",
       "<tr><td>17</td><td>Operation</td><td>operator:&nbsp;20<br>operands:&nbsp;21<br></td><td><a class=\"ProveItLink\" href=\"../7a079e72e5482733f485ce7a3c3f3c98a756444c0/expr.ipynb\"><img src=\"../7a079e72e5482733f485ce7a3c3f3c98a756444c0/expr.png\" style=\"display:inline;vertical-align:middle;\" /></a></td></tr>\n",
       "<tr><td>18</td><td>ExprTuple</td><td>22, 25</td><td><a class=\"ProveItLink\" href=\"../51765debcc107111380aca56c119abe5e30662c30/expr.ipynb\"><img src=\"../51765debcc107111380aca56c119abe5e30662c30/expr.png\" style=\"display:inline;vertical-align:middle;\" /></a></td></tr>\n",
       "<tr><td>19</td><td>ExprTuple</td><td>23, 25</td><td><a class=\"ProveItLink\" href=\"../190aeaa3b082503d669c0387a46af898151b95a30/expr.ipynb\"><img src=\"../190aeaa3b082503d669c0387a46af898151b95a30/expr.png\" style=\"display:inline;vertical-align:middle;\" /></a></td></tr>\n",
       "<tr><td>20</td><td>Literal</td><td></td><td><a class=\"ProveItLink\" href=\"../../common/7e400d333e3c53d1c3dd14244e4b33f4cea327190/expr.ipynb\"><img src=\"../../common/7e400d333e3c53d1c3dd14244e4b33f4cea327190/expr.png\" style=\"display:inline;vertical-align:middle;\" /></a></td></tr>\n",
       "<tr><td>21</td><td>ExprTuple</td><td>24, 25</td><td><a class=\"ProveItLink\" href=\"../5c3596d077bdf059dfb13eb6936a326efee883520/expr.ipynb\"><img src=\"../5c3596d077bdf059dfb13eb6936a326efee883520/expr.png\" style=\"display:inline;vertical-align:middle;\" /></a></td></tr>\n",
       "<tr><td>22</td><td>Literal</td><td></td><td><a class=\"ProveItLink\" href=\"../../common/e874333991a6db337cd004ff6daee55a9e80aa5b0/expr.ipynb\"><img src=\"../../common/e874333991a6db337cd004ff6daee55a9e80aa5b0/expr.png\" style=\"display:inline;vertical-align:middle;\" /></a></td></tr>\n",
       "<tr><td>23</td><td>Literal</td><td></td><td><a class=\"ProveItLink\" href=\"../../common/2c528f33b8384666a054a8146aa84d2f45cc85490/expr.ipynb\"><img src=\"../../common/2c528f33b8384666a054a8146aa84d2f45cc85490/expr.png\" style=\"display:inline;vertical-align:middle;\" /></a></td></tr>\n",
       "<tr><td>24</td><td>Literal</td><td></td><td><a class=\"ProveItLink\" href=\"../../common/d428480ac9882b1412f7ede37b71e3a30f3c2e9e0/expr.ipynb\"><img src=\"../../common/d428480ac9882b1412f7ede37b71e3a30f3c2e9e0/expr.png\" style=\"display:inline;vertical-align:middle;\" /></a></td></tr>\n",
       "<tr><td>25</td><td>Operation</td><td>operator:&nbsp;26<br>operand:&nbsp;27<br></td><td><a class=\"ProveItLink\" href=\"../794cea2888521553b40bae12ccfe7795c4ee57380/expr.ipynb\"><img src=\"../794cea2888521553b40bae12ccfe7795c4ee57380/expr.png\" style=\"display:inline;vertical-align:middle;\" /></a></td></tr>\n",
       "<tr><td>26</td><td>Literal</td><td></td><td><a class=\"ProveItLink\" href=\"../../../../../logic/sets/enumeration/__pv_it/common/0ead90ccbf4f17bc585a51f8aa904bb77916ae6e0/expr.ipynb\"><img src=\"../../../../../logic/sets/enumeration/__pv_it/common/0ead90ccbf4f17bc585a51f8aa904bb77916ae6e0/expr.png\" style=\"display:inline;vertical-align:middle;\" /></a></td></tr>\n",
       "<tr><td>27</td><td>Literal</td><td></td><td><a class=\"ProveItLink\" href=\"../../../../../numbers/numerals/__pv_it/common/2778428c7f555b2bdc06aa0530bc142c6e6335100/expr.ipynb\"><img src=\"../../../../../numbers/numerals/__pv_it/common/2778428c7f555b2bdc06aa0530bc142c6e6335100/expr.png\" style=\"display:inline;vertical-align:middle;\" /></a></td></tr>\n",
       "</table>\n"
      ],
      "text/plain": [
       "0. ( MultiQubitGate(Z, {1}) equiv  MultiQubitGate(Z, {1}),  MultiQubitGate(H, {1})  & MultiQubitGate(Z, {1})  & MultiQubitGate(X, {1}) equiv  MultiQubitGate(H, {1})  & MultiQubitGate(Z, {1})  & MultiQubitGate(X, {1}))\n",
       "   core type: ExprTuple\n",
       "   sub-expressions: 1, 2\n",
       "1.  MultiQubitGate(Z, {1}) equiv  MultiQubitGate(Z, {1})\n",
       "   core type: Operation\n",
       "   operator: 4\n",
       "   operands: 3\n",
       "2.  MultiQubitGate(H, {1})  & MultiQubitGate(Z, {1})  & MultiQubitGate(X, {1}) equiv  MultiQubitGate(H, {1})  & MultiQubitGate(Z, {1})  & MultiQubitGate(X, {1})\n",
       "   core type: Operation\n",
       "   operator: 4\n",
       "   operands: 5\n",
       "3. ( MultiQubitGate(Z, {1}),  MultiQubitGate(Z, {1}))\n",
       "   core type: ExprTuple\n",
       "   sub-expressions: 6, 6\n",
       "4. equiv\n",
       "   core type: Literal\n",
       "   sub-expressions: \n",
       "5. ( MultiQubitGate(H, {1})  & MultiQubitGate(Z, {1})  & MultiQubitGate(X, {1}),  MultiQubitGate(H, {1})  & MultiQubitGate(Z, {1})  & MultiQubitGate(X, {1}))\n",
       "   core type: ExprTuple\n",
       "   sub-expressions: 7, 7\n",
       "6.  MultiQubitGate(Z, {1})\n",
       "   core type: Operation\n",
       "   operator: 9\n",
       "   operand: 11\n",
       "7.  MultiQubitGate(H, {1})  & MultiQubitGate(Z, {1})  & MultiQubitGate(X, {1})\n",
       "   core type: Operation\n",
       "   operator: 9\n",
       "   operand: 12\n",
       "8. ((MultiQubitGate(Z, {1})))\n",
       "   core type: ExprTuple\n",
       "   sub-expressions: 11\n",
       "9. CIRCUIT\n",
       "   core type: Literal\n",
       "   sub-expressions: \n",
       "10. ((MultiQubitGate(H, {1}) & MultiQubitGate(Z, {1}) & MultiQubitGate(X, {1})))\n",
       "    core type: ExprTuple\n",
       "    sub-expressions: 12\n",
       "11. MultiQubitGate(Z, {1})\n",
       "    core type: ExprTuple\n",
       "    sub-expressions: 13\n",
       "12. MultiQubitGate(H, {1}) & MultiQubitGate(Z, {1}) & MultiQubitGate(X, {1})\n",
       "    core type: ExprTuple\n",
       "    sub-expressions: 14\n",
       "13. (MultiQubitGate(Z, {1}))\n",
       "    core type: ExprTuple\n",
       "    sub-expressions: 16\n",
       "14. (MultiQubitGate(H, {1}), MultiQubitGate(Z, {1}), MultiQubitGate(X, {1}))\n",
       "    core type: ExprTuple\n",
       "    sub-expressions: 15, 16, 17\n",
       "15. MultiQubitGate(H, {1})\n",
       "    core type: Operation\n",
       "    operator: 20\n",
       "    operands: 18\n",
       "16. MultiQubitGate(Z, {1})\n",
       "    core type: Operation\n",
       "    operator: 20\n",
       "    operands: 19\n",
       "17. MultiQubitGate(X, {1})\n",
       "    core type: Operation\n",
       "    operator: 20\n",
       "    operands: 21\n",
       "18. (H, {1})\n",
       "    core type: ExprTuple\n",
       "    sub-expressions: 22, 25\n",
       "19. (Z, {1})\n",
       "    core type: ExprTuple\n",
       "    sub-expressions: 23, 25\n",
       "20. MULTI_QUBIT_GATE\n",
       "    core type: Literal\n",
       "    sub-expressions: \n",
       "21. (X, {1})\n",
       "    core type: ExprTuple\n",
       "    sub-expressions: 24, 25\n",
       "22. H\n",
       "    core type: Literal\n",
       "    sub-expressions: \n",
       "23. Z\n",
       "    core type: Literal\n",
       "    sub-expressions: \n",
       "24. X\n",
       "    core type: Literal\n",
       "    sub-expressions: \n",
       "25. {1}\n",
       "    core type: Operation\n",
       "    operator: 26\n",
       "    operand: 27\n",
       "26. Set\n",
       "    core type: Literal\n",
       "    sub-expressions: \n",
       "27. 1\n",
       "    core type: Literal\n",
       "    sub-expressions: "
      ]
     },
     "execution_count": 5,
     "metadata": {},
     "output_type": "execute_result"
    }
   ],
   "source": [
    "# display the expression information\n",
    "expr.expr_info()"
   ]
  },
  {
   "cell_type": "code",
   "execution_count": null,
   "metadata": {},
   "outputs": [],
   "source": []
  }
 ],
 "metadata": {
  "kernelspec": {
   "display_name": "Python 3",
   "language": "python",
   "name": "python3"
  }
 },
 "nbformat": 4,
 "nbformat_minor": 0
}