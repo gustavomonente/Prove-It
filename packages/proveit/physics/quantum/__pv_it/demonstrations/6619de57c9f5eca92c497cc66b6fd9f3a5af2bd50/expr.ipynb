{
 "cells": [
  {
   "cell_type": "markdown",
   "metadata": {},
   "source": [
    "Expression of type <a class=\"ProveItLink\" href=\"../../../../../../../doc/html/api/proveit.logic.Equals.html\">Equals</a>\n",
    "=======================\n",
    "# from the theory of <a class=\"ProveItLink\" href=\"../../../_theory_nbs_/theory.ipynb\">proveit.physics.quantum</a>"
   ]
  },
  {
   "cell_type": "code",
   "execution_count": 1,
   "metadata": {},
   "outputs": [],
   "source": [
    "import proveit\n",
    "# Automation is not needed when building an expression:\n",
    "proveit.defaults.automation = False # This will speed things up.\n",
    "proveit.defaults.inline_pngs = False # Makes files smaller.\n",
    "%load_expr # Load the stored expression as 'stored_expr'\n",
    "# import Expression classes needed to build the expression\n",
    "from proveit import A, ExprRange, IndexedVar, R, a, i\n",
    "from proveit.logic import Equals\n",
    "from proveit.numbers import one\n",
    "from proveit.physics.quantum.circuit import MultiQubitGate"
   ]
  },
  {
   "cell_type": "code",
   "execution_count": 2,
   "metadata": {},
   "outputs": [
    {
     "data": {
      "text/html": [
       "<strong id=\"expr\">expr:</strong> <a class=\"ProveItLink\" href=\"expr.ipynb\"><img src=\"expr.png\" style=\"display:inline;vertical-align:middle;\" /></a><br>"
      ],
      "text/plain": [
       "expr: (MultiQubitGate(A_{i, 1}, R_{i, 1}), ..MultiQubitGate(A_{i, a}, R_{i, a}).., MultiQubitGate(A_{i, 1}, R_{i, 1})) = (MultiQubitGate(A_{i, 1}, R_{i, 1}))"
      ]
     },
     "execution_count": 2,
     "metadata": {},
     "output_type": "execute_result"
    }
   ],
   "source": [
    "# build up the expression from sub-expressions\n",
    "sub_expr1 = [i, a]\n",
    "sub_expr2 = [i, one]\n",
    "expr = Equals([ExprRange(a, MultiQubitGate(IndexedVar(A, sub_expr1), IndexedVar(R, sub_expr1)), one, one)], [MultiQubitGate(IndexedVar(A, sub_expr2), IndexedVar(R, sub_expr2))])"
   ]
  },
  {
   "cell_type": "code",
   "execution_count": 3,
   "metadata": {},
   "outputs": [
    {
     "name": "stdout",
     "output_type": "stream",
     "text": [
      "Passed sanity check: expr matches stored_expr\n"
     ]
    }
   ],
   "source": [
    "# check that the built expression is the same as the stored expression\n",
    "assert expr == stored_expr\n",
    "assert expr._style_id == stored_expr._style_id\n",
    "print(\"Passed sanity check: expr matches stored_expr\")"
   ]
  },
  {
   "cell_type": "code",
   "execution_count": 4,
   "metadata": {},
   "outputs": [
    {
     "name": "stdout",
     "output_type": "stream",
     "text": [
      "\\left(\\hspace{2em} \\Qcircuit@C=1em @R=.7em{\n",
      "& \\gate{A_{i, 1}{\\Big \\{} R_{i, 1}} \n",
      "} \\hspace{2em}, \\ldots, \\hspace{2em} \\Qcircuit@C=1em @R=.7em{\n",
      "& \\gate{A_{i, 1}{\\Big \\{} R_{i, 1}} \n",
      "} \\hspace{2em}\\right) = \\left(\\hspace{2em} \\Qcircuit@C=1em @R=.7em{\n",
      "& \\gate{A_{i, 1}{\\Big \\{} R_{i, 1}} \n",
      "} \\hspace{2em}\\right)\n"
     ]
    }
   ],
   "source": [
    "# Show the LaTeX representation of the expression for convenience if you need it.\n",
    "print(expr.latex())"
   ]
  },
  {
   "cell_type": "code",
   "execution_count": 5,
   "metadata": {},
   "outputs": [
    {
     "data": {
      "text/html": [
       "<table>\n",
       "<tr><th>name</th><th>description</th><th>default</th><th>current value</th><th>related methods</th></tr><tr><td>operation</td><td>'infix' or 'function' style formatting</td><td>infix</td><td>infix</td><td></td></tr>\n",
       "<tr><td>wrap_positions</td><td>position(s) at which wrapping is to occur; '2 n - 1' is after the nth operand, '2 n' is after the nth operation.</td><td>()</td><td>()</td><td>('with_wrapping_at', 'with_wrap_before_operator', 'with_wrap_after_operator', 'wrap_positions')</td></tr>\n",
       "<tr><td>justification</td><td>if any wrap positions are set, justify to the 'left', 'center', or 'right'</td><td>center</td><td>center</td><td>('with_justification',)</td></tr>\n",
       "<tr><td>direction</td><td>Direction of the relation (normal or reversed)</td><td>normal</td><td>normal</td><td>('with_direction_reversed', 'is_reversed')</td></tr>\n",
       "</table>\n"
      ],
      "text/plain": [
       "style name: operation\n",
       "description: 'infix' or 'function' style formatting\n",
       "default: infix\n",
       "current value: infix\n",
       "related methods: ()\n",
       "style name: wrap_positions\n",
       "description: position(s) at which wrapping is to occur; '2 n - 1' is after the nth operand, '2 n' is after the nth operation.\n",
       "default: ()\n",
       "current value: ()\n",
       "related methods: ('with_wrapping_at', 'with_wrap_before_operator', 'with_wrap_after_operator', 'wrap_positions')\n",
       "style name: justification\n",
       "description: if any wrap positions are set, justify to the 'left', 'center', or 'right'\n",
       "default: center\n",
       "current value: center\n",
       "related methods: ('with_justification',)\n",
       "style name: direction\n",
       "description: Direction of the relation (normal or reversed)\n",
       "default: normal\n",
       "current value: normal\n",
       "related methods: ('with_direction_reversed', 'is_reversed')"
      ]
     },
     "execution_count": 5,
     "metadata": {},
     "output_type": "execute_result"
    }
   ],
   "source": [
    "expr.style_options()"
   ]
  },
  {
   "cell_type": "code",
   "execution_count": 6,
   "metadata": {},
   "outputs": [
    {
     "data": {
      "text/html": [
       "<table><tr><th>&nbsp;</th><th>core type</th><th>sub-expressions</th><th>expression</th></tr>\n",
       "<tr><td>0</td><td>Operation</td><td>operator:&nbsp;1<br>operands:&nbsp;2<br></td><td><a class=\"ProveItLink\" href=\"expr.ipynb\"><img src=\"expr.png\" style=\"display:inline;vertical-align:middle;\" /></a></td></tr>\n",
       "<tr><td>1</td><td>Literal</td><td></td><td><a class=\"ProveItLink\" href=\"../../../../../logic/equality/__pv_it/common/731dd3955b346c1320ed5c0ba7a618bcda61457d0/expr.ipynb\"><img src=\"../../../../../logic/equality/__pv_it/common/731dd3955b346c1320ed5c0ba7a618bcda61457d0/expr.png\" style=\"display:inline;vertical-align:middle;\" /></a></td></tr>\n",
       "<tr><td>2</td><td>ExprTuple</td><td>3, 4</td><td><a class=\"ProveItLink\" href=\"../c4eaf6edf86783ebd847f2e962aa3df3f7bb6f4b0/expr.ipynb\"><img src=\"../c4eaf6edf86783ebd847f2e962aa3df3f7bb6f4b0/expr.png\" style=\"display:inline;vertical-align:middle;\" /></a></td></tr>\n",
       "<tr><td>3</td><td>ExprTuple</td><td>5</td><td><a class=\"ProveItLink\" href=\"../1076738d25d39ed96908d33563f028783079c0570/expr.ipynb\"><img src=\"../1076738d25d39ed96908d33563f028783079c0570/expr.png\" style=\"display:inline;vertical-align:middle;\" /></a></td></tr>\n",
       "<tr><td>4</td><td>ExprTuple</td><td>6</td><td><a class=\"ProveItLink\" href=\"../8df173abf465d5e53354074ddcdfce7e75e169270/expr.ipynb\"><img src=\"../8df173abf465d5e53354074ddcdfce7e75e169270/expr.png\" style=\"display:inline;vertical-align:middle;\" /></a></td></tr>\n",
       "<tr><td>5</td><td>ExprRange</td><td>lambda_map:&nbsp;7<br>start_index:&nbsp;17<br>end_index:&nbsp;17<br></td><td><a class=\"ProveItLink\" href=\"../c18340fd56465db5234727e25c4e3839fe07439b0/expr.ipynb\"><img src=\"../c18340fd56465db5234727e25c4e3839fe07439b0/expr.png\" style=\"display:inline;vertical-align:middle;\" /></a></td></tr>\n",
       "<tr><td>6</td><td>Operation</td><td>operator:&nbsp;12<br>operands:&nbsp;8<br></td><td><a class=\"ProveItLink\" href=\"../e55485bf32a418dc07fb29606910ac8c47095b1a0/expr.ipynb\"><img src=\"../e55485bf32a418dc07fb29606910ac8c47095b1a0/expr.png\" style=\"display:inline;vertical-align:middle;\" /></a></td></tr>\n",
       "<tr><td>7</td><td>Lambda</td><td>parameter:&nbsp;22<br>body:&nbsp;9<br></td><td><a class=\"ProveItLink\" href=\"../ba53409d54492f140de338b1c8108f27e326fd4d0/expr.ipynb\"><img src=\"../ba53409d54492f140de338b1c8108f27e326fd4d0/expr.png\" style=\"display:inline;vertical-align:middle;\" /></a></td></tr>\n",
       "<tr><td>8</td><td>ExprTuple</td><td>10, 11</td><td><a class=\"ProveItLink\" href=\"../c5be5e589cbf5fe5621b12c69f1f83f4e05020110/expr.ipynb\"><img src=\"../c5be5e589cbf5fe5621b12c69f1f83f4e05020110/expr.png\" style=\"display:inline;vertical-align:middle;\" /></a></td></tr>\n",
       "<tr><td>9</td><td>Operation</td><td>operator:&nbsp;12<br>operands:&nbsp;13<br></td><td><a class=\"ProveItLink\" href=\"../247768e2da8b01a194b426ff7b44929b6e39aa180/expr.ipynb\"><img src=\"../247768e2da8b01a194b426ff7b44929b6e39aa180/expr.png\" style=\"display:inline;vertical-align:middle;\" /></a></td></tr>\n",
       "<tr><td>10</td><td>IndexedVar</td><td>variable:&nbsp;18<br>indices:&nbsp;14<br></td><td><a class=\"ProveItLink\" href=\"../1cf313353db058c0d8623cd8a7e773deb28197050/expr.ipynb\"><img src=\"../1cf313353db058c0d8623cd8a7e773deb28197050/expr.png\" style=\"display:inline;vertical-align:middle;\" /></a></td></tr>\n",
       "<tr><td>11</td><td>IndexedVar</td><td>variable:&nbsp;19<br>indices:&nbsp;14<br></td><td><a class=\"ProveItLink\" href=\"../82a4c4adebcc3b4a495aa6c7a572295709794b4c0/expr.ipynb\"><img src=\"../82a4c4adebcc3b4a495aa6c7a572295709794b4c0/expr.png\" style=\"display:inline;vertical-align:middle;\" /></a></td></tr>\n",
       "<tr><td>12</td><td>Literal</td><td></td><td><a class=\"ProveItLink\" href=\"../../common/38deceb0a69e80c36399d725649803706802a2a90/expr.ipynb\"><img src=\"../../common/38deceb0a69e80c36399d725649803706802a2a90/expr.png\" style=\"display:inline;vertical-align:middle;\" /></a></td></tr>\n",
       "<tr><td>13</td><td>ExprTuple</td><td>15, 16</td><td><a class=\"ProveItLink\" href=\"../a92bf8f2064f9f4d1bf71082e61581c1005e61ec0/expr.ipynb\"><img src=\"../a92bf8f2064f9f4d1bf71082e61581c1005e61ec0/expr.png\" style=\"display:inline;vertical-align:middle;\" /></a></td></tr>\n",
       "<tr><td>14</td><td>ExprTuple</td><td>21, 17</td><td><a class=\"ProveItLink\" href=\"../4dc57ed8a5593745150fa9c618de997a7d96544f0/expr.ipynb\"><img src=\"../4dc57ed8a5593745150fa9c618de997a7d96544f0/expr.png\" style=\"display:inline;vertical-align:middle;\" /></a></td></tr>\n",
       "<tr><td>15</td><td>IndexedVar</td><td>variable:&nbsp;18<br>indices:&nbsp;20<br></td><td><a class=\"ProveItLink\" href=\"../85d7a5893ac66cb3d2daf8479d6734f24e40781b0/expr.ipynb\"><img src=\"../85d7a5893ac66cb3d2daf8479d6734f24e40781b0/expr.png\" style=\"display:inline;vertical-align:middle;\" /></a></td></tr>\n",
       "<tr><td>16</td><td>IndexedVar</td><td>variable:&nbsp;19<br>indices:&nbsp;20<br></td><td><a class=\"ProveItLink\" href=\"../1b9925c1c524cd4866b0ee0d990fbb698a9955c50/expr.ipynb\"><img src=\"../1b9925c1c524cd4866b0ee0d990fbb698a9955c50/expr.png\" style=\"display:inline;vertical-align:middle;\" /></a></td></tr>\n",
       "<tr><td>17</td><td>Literal</td><td></td><td><a class=\"ProveItLink\" href=\"../../../../../numbers/numerals/__pv_it/common/d278e359da0695d9652dd541d45264f93703e2e40/expr.ipynb\"><img src=\"../../../../../numbers/numerals/__pv_it/common/d278e359da0695d9652dd541d45264f93703e2e40/expr.png\" style=\"display:inline;vertical-align:middle;\" /></a></td></tr>\n",
       "<tr><td>18</td><td>Variable</td><td></td><td><a class=\"ProveItLink\" href=\"../../../../../__pv_it/common/e4aad701f7f5516d8e7f0d805d518bf02c13322a0/expr.ipynb\"><img src=\"../../../../../__pv_it/common/e4aad701f7f5516d8e7f0d805d518bf02c13322a0/expr.png\" style=\"display:inline;vertical-align:middle;\" /></a></td></tr>\n",
       "<tr><td>19</td><td>Variable</td><td></td><td><a class=\"ProveItLink\" href=\"../../../../../__pv_it/common/75b77068be7a61a1f04d03fa34a8f6252f6605dd0/expr.ipynb\"><img src=\"../../../../../__pv_it/common/75b77068be7a61a1f04d03fa34a8f6252f6605dd0/expr.png\" style=\"display:inline;vertical-align:middle;\" /></a></td></tr>\n",
       "<tr><td>20</td><td>ExprTuple</td><td>21, 22</td><td><a class=\"ProveItLink\" href=\"../8c4a5b190222c17a313c9fecbb541f74b17675580/expr.ipynb\"><img src=\"../8c4a5b190222c17a313c9fecbb541f74b17675580/expr.png\" style=\"display:inline;vertical-align:middle;\" /></a></td></tr>\n",
       "<tr><td>21</td><td>Variable</td><td></td><td><a class=\"ProveItLink\" href=\"../../../../../__pv_it/common/575a6156bb1c87c5beeaf38c302b5905ad57f5780/expr.ipynb\"><img src=\"../../../../../__pv_it/common/575a6156bb1c87c5beeaf38c302b5905ad57f5780/expr.png\" style=\"display:inline;vertical-align:middle;\" /></a></td></tr>\n",
       "<tr><td>22</td><td>Variable</td><td></td><td><a class=\"ProveItLink\" href=\"../../../../../__pv_it/common/66c90e66682f107a881f2d666959f64e2e72ad750/expr.ipynb\"><img src=\"../../../../../__pv_it/common/66c90e66682f107a881f2d666959f64e2e72ad750/expr.png\" style=\"display:inline;vertical-align:middle;\" /></a></td></tr>\n",
       "</table>\n"
      ],
      "text/plain": [
       "0. (MultiQubitGate(A_{i, 1}, R_{i, 1}), ..MultiQubitGate(A_{i, a}, R_{i, a}).., MultiQubitGate(A_{i, 1}, R_{i, 1})) = (MultiQubitGate(A_{i, 1}, R_{i, 1}))\n",
       "   core type: Operation\n",
       "   operator: 1\n",
       "   operands: 2\n",
       "1. =\n",
       "   core type: Literal\n",
       "   sub-expressions: \n",
       "2. ((MultiQubitGate(A_{i, 1}, R_{i, 1}), ..MultiQubitGate(A_{i, a}, R_{i, a}).., MultiQubitGate(A_{i, 1}, R_{i, 1})), (MultiQubitGate(A_{i, 1}, R_{i, 1})))\n",
       "   core type: ExprTuple\n",
       "   sub-expressions: 3, 4\n",
       "3. (MultiQubitGate(A_{i, 1}, R_{i, 1}), ..MultiQubitGate(A_{i, a}, R_{i, a}).., MultiQubitGate(A_{i, 1}, R_{i, 1}))\n",
       "   core type: ExprTuple\n",
       "   sub-expressions: 5\n",
       "4. (MultiQubitGate(A_{i, 1}, R_{i, 1}))\n",
       "   core type: ExprTuple\n",
       "   sub-expressions: 6\n",
       "5. MultiQubitGate(A_{i, 1}, R_{i, 1}), ..MultiQubitGate(A_{i, a}, R_{i, a}).., MultiQubitGate(A_{i, 1}, R_{i, 1})\n",
       "   core type: ExprRange\n",
       "   lambda_map: 7\n",
       "   start_index: 17\n",
       "   end_index: 17\n",
       "6. MultiQubitGate(A_{i, 1}, R_{i, 1})\n",
       "   core type: Operation\n",
       "   operator: 12\n",
       "   operands: 8\n",
       "7. a -> MultiQubitGate(A_{i, a}, R_{i, a})\n",
       "   core type: Lambda\n",
       "   parameter: 22\n",
       "   body: 9\n",
       "8. (A_{i, 1}, R_{i, 1})\n",
       "   core type: ExprTuple\n",
       "   sub-expressions: 10, 11\n",
       "9. MultiQubitGate(A_{i, a}, R_{i, a})\n",
       "   core type: Operation\n",
       "   operator: 12\n",
       "   operands: 13\n",
       "10. A_{i, 1}\n",
       "    core type: IndexedVar\n",
       "variable: 18\n",
       "indices: 14\n",
       "11. R_{i, 1}\n",
       "    core type: IndexedVar\n",
       "variable: 19\n",
       "indices: 14\n",
       "12. MULTI_QUBIT_GATE\n",
       "    core type: Literal\n",
       "    sub-expressions: \n",
       "13. (A_{i, a}, R_{i, a})\n",
       "    core type: ExprTuple\n",
       "    sub-expressions: 15, 16\n",
       "14. (i, 1)\n",
       "    core type: ExprTuple\n",
       "    sub-expressions: 21, 17\n",
       "15. A_{i, a}\n",
       "    core type: IndexedVar\n",
       "variable: 18\n",
       "indices: 20\n",
       "16. R_{i, a}\n",
       "    core type: IndexedVar\n",
       "variable: 19\n",
       "indices: 20\n",
       "17. 1\n",
       "    core type: Literal\n",
       "    sub-expressions: \n",
       "18. A\n",
       "    core type: Variable\n",
       "    sub-expressions: \n",
       "19. R\n",
       "    core type: Variable\n",
       "    sub-expressions: \n",
       "20. (i, a)\n",
       "    core type: ExprTuple\n",
       "    sub-expressions: 21, 22\n",
       "21. i\n",
       "    core type: Variable\n",
       "    sub-expressions: \n",
       "22. a\n",
       "    core type: Variable\n",
       "    sub-expressions: "
      ]
     },
     "execution_count": 6,
     "metadata": {},
     "output_type": "execute_result"
    }
   ],
   "source": [
    "# display the expression information\n",
    "expr.expr_info()"
   ]
  },
  {
   "cell_type": "code",
   "execution_count": null,
   "metadata": {},
   "outputs": [],
   "source": []
  }
 ],
 "metadata": {
  "kernelspec": {
   "display_name": "Python 3",
   "language": "python",
   "name": "python3"
  }
 },
 "nbformat": 4,
 "nbformat_minor": 0
}