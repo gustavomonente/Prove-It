{
 "cells": [
  {
   "cell_type": "markdown",
   "metadata": {},
   "source": [
    "Expression of type <a class=\"ProveItLink\" href=\"../../../../../../../doc/html/api/proveit.physics.quantum.circuit.CircuitEquiv.html\">CircuitEquiv</a>\n",
    "=======================\n",
    "# from the theory of <a class=\"ProveItLink\" href=\"../../../_theory_nbs_/theory.ipynb\">proveit.physics.quantum</a>"
   ]
  },
  {
   "cell_type": "code",
   "execution_count": 1,
   "metadata": {},
   "outputs": [],
   "source": [
    "import proveit\n",
    "# Automation is not needed when building an expression:\n",
    "proveit.defaults.automation = False # This will speed things up.\n",
    "proveit.defaults.inline_pngs = False # Makes files smaller.\n",
    "%load_expr # Load the stored expression as 'stored_expr'\n",
    "# import Expression classes needed to build the expression\n",
    "from proveit import ExprArray, ExprRange, i, j, m, q\n",
    "from proveit.core_expr_types.expr_arrays import Aij, Sij\n",
    "from proveit.numbers import one\n",
    "from proveit.physics.quantum.circuit import Circuit, CircuitEquiv, MultiQubitGate"
   ]
  },
  {
   "cell_type": "code",
   "execution_count": 2,
   "metadata": {},
   "outputs": [
    {
     "data": {
      "text/html": [
       "<strong id=\"expr\">expr:</strong> <a class=\"ProveItLink\" href=\"expr.ipynb\"><img src=\"expr.png\" style=\"display:inline;vertical-align:middle;\" /></a><br>"
      ],
      "text/plain": [
       "expr:  MultiQubitGate(A_{1, 1}, S_{1, 1})  & ..MultiQubitGate(A_{1, j}, S_{1, j})..  & MultiQubitGate(A_{1, m}, S_{1, m})   \\\\ \n",
       "   \\colon  & \\colon  & \\colon   \\\\ \n",
       "   MultiQubitGate(A_{i, 1}, S_{i, 1})  & ..MultiQubitGate(A_{i, j}, S_{i, j})..  & MultiQubitGate(A_{i, m}, S_{i, m})   \\\\ \n",
       "   \\colon  & \\colon  & \\colon   \\\\ \n",
       "   MultiQubitGate(A_{q, 1}, S_{q, 1})  & ..MultiQubitGate(A_{q, j}, S_{q, j})..  & MultiQubitGate(A_{q, m}, S_{q, m}) equiv  MultiQubitGate(A_{1, 1}, S_{1, 1})  & ..MultiQubitGate(A_{1, j}, S_{1, j})..  & MultiQubitGate(A_{1, m}, S_{1, m})   \\\\ \n",
       "   \\colon  & \\colon  & \\colon   \\\\ \n",
       "   MultiQubitGate(A_{i, 1}, S_{i, 1})  & ..MultiQubitGate(A_{i, j}, S_{i, j})..  & MultiQubitGate(A_{i, m}, S_{i, m})   \\\\ \n",
       "   \\colon  & \\colon  & \\colon   \\\\ \n",
       "   MultiQubitGate(A_{q, 1}, S_{q, 1})  & ..MultiQubitGate(A_{q, j}, S_{q, j})..  & MultiQubitGate(A_{q, m}, S_{q, m})"
      ]
     },
     "execution_count": 2,
     "metadata": {},
     "output_type": "execute_result"
    }
   ],
   "source": [
    "# build up the expression from sub-expressions\n",
    "sub_expr1 = Circuit(ExprArray(ExprRange(i, [ExprRange(j, MultiQubitGate(Aij, Sij), one, m)], one, q)))\n",
    "expr = CircuitEquiv(sub_expr1, sub_expr1)"
   ]
  },
  {
   "cell_type": "code",
   "execution_count": 3,
   "metadata": {},
   "outputs": [
    {
     "name": "stdout",
     "output_type": "stream",
     "text": [
      "Passed sanity check: expr matches stored_expr\n"
     ]
    }
   ],
   "source": [
    "# check that the built expression is the same as the stored expression\n",
    "assert expr == stored_expr\n",
    "assert expr._style_id == stored_expr._style_id\n",
    "print(\"Passed sanity check: expr matches stored_expr\")"
   ]
  },
  {
   "cell_type": "code",
   "execution_count": 4,
   "metadata": {},
   "outputs": [
    {
     "name": "stdout",
     "output_type": "stream",
     "text": [
      "\\hspace{2em} \\Qcircuit@C=1em @R=.7em{\n",
      "& \\gate{A_{1, 1}{\\Big \\{} S_{1, 1}} \\qwx[1] & \\gate{\\cdots} \\qwx[1] & \\gate{A_{1, m}{\\Big \\{} S_{1, m}} \\qwx[1]   \\\\ \n",
      "  & \\gate{\\vdots} \\qwx[1] & \\gate{A_{i, j}{\\Big \\{} S_{i, j}} \\qwx[1] & \\gate{\\vdots} \\qwx[1]   \\\\ \n",
      "  & \\gate{A_{q, 1}{\\Big \\{} S_{q, 1}} & \\gate{\\cdots} & \\gate{A_{q, m}{\\Big \\{} S_{q, m}} \n",
      "} \\hspace{2em} \\cong \\hspace{2em} \\Qcircuit@C=1em @R=.7em{\n",
      "& \\gate{A_{1, 1}{\\Big \\{} S_{1, 1}} \\qwx[1] & \\gate{\\cdots} \\qwx[1] & \\gate{A_{1, m}{\\Big \\{} S_{1, m}} \\qwx[1]   \\\\ \n",
      "  & \\gate{\\vdots} \\qwx[1] & \\gate{A_{i, j}{\\Big \\{} S_{i, j}} \\qwx[1] & \\gate{\\vdots} \\qwx[1]   \\\\ \n",
      "  & \\gate{A_{q, 1}{\\Big \\{} S_{q, 1}} & \\gate{\\cdots} & \\gate{A_{q, m}{\\Big \\{} S_{q, m}} \n",
      "} \\hspace{2em}\n"
     ]
    }
   ],
   "source": [
    "# Show the LaTeX representation of the expression for convenience if you need it.\n",
    "print(expr.latex())"
   ]
  },
  {
   "cell_type": "code",
   "execution_count": 5,
   "metadata": {},
   "outputs": [
    {
     "data": {
      "text/html": [
       "<table>\n",
       "<tr><th>name</th><th>description</th><th>default</th><th>current value</th><th>related methods</th></tr><tr><td>operation</td><td>'infix' or 'function' style formatting</td><td>infix</td><td>infix</td><td></td></tr>\n",
       "<tr><td>wrap_positions</td><td>position(s) at which wrapping is to occur; '2 n - 1' is after the nth operand, '2 n' is after the nth operation.</td><td>()</td><td>()</td><td>('with_wrapping_at', 'with_wrap_before_operator', 'with_wrap_after_operator', 'wrap_positions')</td></tr>\n",
       "<tr><td>justification</td><td>if any wrap positions are set, justify to the 'left', 'center', or 'right'</td><td>center</td><td>center</td><td>('with_justification',)</td></tr>\n",
       "<tr><td>direction</td><td>Direction of the relation (normal or reversed)</td><td>normal</td><td>normal</td><td>('with_direction_reversed', 'is_reversed')</td></tr>\n",
       "</table>\n"
      ],
      "text/plain": [
       "style name: operation\n",
       "description: 'infix' or 'function' style formatting\n",
       "default: infix\n",
       "current value: infix\n",
       "related methods: ()\n",
       "style name: wrap_positions\n",
       "description: position(s) at which wrapping is to occur; '2 n - 1' is after the nth operand, '2 n' is after the nth operation.\n",
       "default: ()\n",
       "current value: ()\n",
       "related methods: ('with_wrapping_at', 'with_wrap_before_operator', 'with_wrap_after_operator', 'wrap_positions')\n",
       "style name: justification\n",
       "description: if any wrap positions are set, justify to the 'left', 'center', or 'right'\n",
       "default: center\n",
       "current value: center\n",
       "related methods: ('with_justification',)\n",
       "style name: direction\n",
       "description: Direction of the relation (normal or reversed)\n",
       "default: normal\n",
       "current value: normal\n",
       "related methods: ('with_direction_reversed', 'is_reversed')"
      ]
     },
     "execution_count": 5,
     "metadata": {},
     "output_type": "execute_result"
    }
   ],
   "source": [
    "expr.style_options()"
   ]
  },
  {
   "cell_type": "code",
   "execution_count": 6,
   "metadata": {},
   "outputs": [
    {
     "data": {
      "text/html": [
       "<table><tr><th>&nbsp;</th><th>core type</th><th>sub-expressions</th><th>expression</th></tr>\n",
       "<tr><td>0</td><td>Operation</td><td>operator:&nbsp;1<br>operands:&nbsp;2<br></td><td><a class=\"ProveItLink\" href=\"expr.ipynb\"><img src=\"expr.png\" style=\"display:inline;vertical-align:middle;\" /></a></td></tr>\n",
       "<tr><td>1</td><td>Literal</td><td></td><td><a class=\"ProveItLink\" href=\"../../common/0b9aa3c8024dab4294c5a1714db64eed0eeab1cc0/expr.ipynb\"><img src=\"../../common/0b9aa3c8024dab4294c5a1714db64eed0eeab1cc0/expr.png\" style=\"display:inline;vertical-align:middle;\" /></a></td></tr>\n",
       "<tr><td>2</td><td>ExprTuple</td><td>3, 3</td><td><a class=\"ProveItLink\" href=\"../c5ab965cc1d8ecfdce4c1ada5a02919e3ae7f25b0/expr.ipynb\"><img src=\"../c5ab965cc1d8ecfdce4c1ada5a02919e3ae7f25b0/expr.png\" style=\"display:inline;vertical-align:middle;\" /></a></td></tr>\n",
       "<tr><td>3</td><td>Operation</td><td>operator:&nbsp;4<br>operand:&nbsp;6<br></td><td><a class=\"ProveItLink\" href=\"../e073e9ca30951a5dcc7ec8be4fb07cc0a78afae50/expr.ipynb\"><img src=\"../e073e9ca30951a5dcc7ec8be4fb07cc0a78afae50/expr.png\" style=\"display:inline;vertical-align:middle;\" /></a></td></tr>\n",
       "<tr><td>4</td><td>Literal</td><td></td><td><a class=\"ProveItLink\" href=\"../../common/bfa5cfb2e03dde2ed2a79fcd50b6e0ef7e57c1b10/expr.ipynb\"><img src=\"../../common/bfa5cfb2e03dde2ed2a79fcd50b6e0ef7e57c1b10/expr.png\" style=\"display:inline;vertical-align:middle;\" /></a></td></tr>\n",
       "<tr><td>5</td><td>ExprTuple</td><td>6</td><td><a class=\"ProveItLink\" href=\"../431cf93ce8cba29bf02f6cac5c64594f977d3add0/expr.ipynb\"><img src=\"../431cf93ce8cba29bf02f6cac5c64594f977d3add0/expr.png\" style=\"display:inline;vertical-align:middle;\" /></a></td></tr>\n",
       "<tr><td>6</td><td>ExprTuple</td><td>7</td><td><a class=\"ProveItLink\" href=\"../06ba0e1b1f7a9141e1a4e5290cb11e7546445c9a0/expr.ipynb\"><img src=\"../06ba0e1b1f7a9141e1a4e5290cb11e7546445c9a0/expr.png\" style=\"display:inline;vertical-align:middle;\" /></a></td></tr>\n",
       "<tr><td>7</td><td>ExprRange</td><td>lambda_map:&nbsp;8<br>start_index:&nbsp;13<br>end_index:&nbsp;9<br></td><td><a class=\"ProveItLink\" href=\"../c09e33cb5f40576e3519fdacc2c2c1bbb0f46edd0/expr.ipynb\"><img src=\"../c09e33cb5f40576e3519fdacc2c2c1bbb0f46edd0/expr.png\" style=\"display:inline;vertical-align:middle;\" /></a></td></tr>\n",
       "<tr><td>8</td><td>Lambda</td><td>parameter:&nbsp;23<br>body:&nbsp;10<br></td><td><a class=\"ProveItLink\" href=\"../55e265ee5ba7a097593409f8c558b0519adda1ca0/expr.ipynb\"><img src=\"../55e265ee5ba7a097593409f8c558b0519adda1ca0/expr.png\" style=\"display:inline;vertical-align:middle;\" /></a></td></tr>\n",
       "<tr><td>9</td><td>Variable</td><td></td><td><a class=\"ProveItLink\" href=\"../../../../../__pv_it/common/f2bd1b9e481507771e819bb7e823773346b8e1180/expr.ipynb\"><img src=\"../../../../../__pv_it/common/f2bd1b9e481507771e819bb7e823773346b8e1180/expr.png\" style=\"display:inline;vertical-align:middle;\" /></a></td></tr>\n",
       "<tr><td>10</td><td>ExprTuple</td><td>11</td><td><a class=\"ProveItLink\" href=\"../f4b90c765d12588a5eda4c581077ff66ec574f640/expr.ipynb\"><img src=\"../f4b90c765d12588a5eda4c581077ff66ec574f640/expr.png\" style=\"display:inline;vertical-align:middle;\" /></a></td></tr>\n",
       "<tr><td>11</td><td>ExprRange</td><td>lambda_map:&nbsp;12<br>start_index:&nbsp;13<br>end_index:&nbsp;14<br></td><td><a class=\"ProveItLink\" href=\"../3bebf192bb56b8f9612719f576c8b4c4d6c6ce5f0/expr.ipynb\"><img src=\"../3bebf192bb56b8f9612719f576c8b4c4d6c6ce5f0/expr.png\" style=\"display:inline;vertical-align:middle;\" /></a></td></tr>\n",
       "<tr><td>12</td><td>Lambda</td><td>parameter:&nbsp;24<br>body:&nbsp;15<br></td><td><a class=\"ProveItLink\" href=\"../fe496ad6fa466e0bf5adccd8807f4cebd287ffee0/expr.ipynb\"><img src=\"../fe496ad6fa466e0bf5adccd8807f4cebd287ffee0/expr.png\" style=\"display:inline;vertical-align:middle;\" /></a></td></tr>\n",
       "<tr><td>13</td><td>Literal</td><td></td><td><a class=\"ProveItLink\" href=\"../../../../../numbers/numerals/__pv_it/common/d278e359da0695d9652dd541d45264f93703e2e40/expr.ipynb\"><img src=\"../../../../../numbers/numerals/__pv_it/common/d278e359da0695d9652dd541d45264f93703e2e40/expr.png\" style=\"display:inline;vertical-align:middle;\" /></a></td></tr>\n",
       "<tr><td>14</td><td>Variable</td><td></td><td><a class=\"ProveItLink\" href=\"../../../../../__pv_it/common/2dc4f15b3407a25e8d70754a86bf74f1871f92650/expr.ipynb\"><img src=\"../../../../../__pv_it/common/2dc4f15b3407a25e8d70754a86bf74f1871f92650/expr.png\" style=\"display:inline;vertical-align:middle;\" /></a></td></tr>\n",
       "<tr><td>15</td><td>Operation</td><td>operator:&nbsp;16<br>operands:&nbsp;17<br></td><td><a class=\"ProveItLink\" href=\"../453c4102dae56f6df73b871672c35a89b48a373e0/expr.ipynb\"><img src=\"../453c4102dae56f6df73b871672c35a89b48a373e0/expr.png\" style=\"display:inline;vertical-align:middle;\" /></a></td></tr>\n",
       "<tr><td>16</td><td>Literal</td><td></td><td><a class=\"ProveItLink\" href=\"../../common/38deceb0a69e80c36399d725649803706802a2a90/expr.ipynb\"><img src=\"../../common/38deceb0a69e80c36399d725649803706802a2a90/expr.png\" style=\"display:inline;vertical-align:middle;\" /></a></td></tr>\n",
       "<tr><td>17</td><td>ExprTuple</td><td>18, 19</td><td><a class=\"ProveItLink\" href=\"../a615be150040c4b375eae503bb8c491741eae6980/expr.ipynb\"><img src=\"../a615be150040c4b375eae503bb8c491741eae6980/expr.png\" style=\"display:inline;vertical-align:middle;\" /></a></td></tr>\n",
       "<tr><td>18</td><td>IndexedVar</td><td>variable:&nbsp;20<br>indices:&nbsp;22<br></td><td><a class=\"ProveItLink\" href=\"../../../../../core_expr_types/expr_arrays/__pv_it/common/2db546578cd7f487d81f6e5492015be24135205c0/expr.ipynb\"><img src=\"../../../../../core_expr_types/expr_arrays/__pv_it/common/2db546578cd7f487d81f6e5492015be24135205c0/expr.png\" style=\"display:inline;vertical-align:middle;\" /></a></td></tr>\n",
       "<tr><td>19</td><td>IndexedVar</td><td>variable:&nbsp;21<br>indices:&nbsp;22<br></td><td><a class=\"ProveItLink\" href=\"../../../../../core_expr_types/expr_arrays/__pv_it/common/29b2a42564e2bd68f988108464c87826d4366e390/expr.ipynb\"><img src=\"../../../../../core_expr_types/expr_arrays/__pv_it/common/29b2a42564e2bd68f988108464c87826d4366e390/expr.png\" style=\"display:inline;vertical-align:middle;\" /></a></td></tr>\n",
       "<tr><td>20</td><td>Variable</td><td></td><td><a class=\"ProveItLink\" href=\"../../../../../__pv_it/common/e4aad701f7f5516d8e7f0d805d518bf02c13322a0/expr.ipynb\"><img src=\"../../../../../__pv_it/common/e4aad701f7f5516d8e7f0d805d518bf02c13322a0/expr.png\" style=\"display:inline;vertical-align:middle;\" /></a></td></tr>\n",
       "<tr><td>21</td><td>Variable</td><td></td><td><a class=\"ProveItLink\" href=\"../../../../../__pv_it/common/259d0846cd49c4882c35ec84d7a0b180713721cc0/expr.ipynb\"><img src=\"../../../../../__pv_it/common/259d0846cd49c4882c35ec84d7a0b180713721cc0/expr.png\" style=\"display:inline;vertical-align:middle;\" /></a></td></tr>\n",
       "<tr><td>22</td><td>ExprTuple</td><td>23, 24</td><td><a class=\"ProveItLink\" href=\"../../../../../core_expr_types/expr_arrays/__pv_it/common/8cc0879db459b7e49bd46852f9da16970a0f1f110/expr.ipynb\"><img src=\"../../../../../core_expr_types/expr_arrays/__pv_it/common/8cc0879db459b7e49bd46852f9da16970a0f1f110/expr.png\" style=\"display:inline;vertical-align:middle;\" /></a></td></tr>\n",
       "<tr><td>23</td><td>Variable</td><td></td><td><a class=\"ProveItLink\" href=\"../../../../../__pv_it/common/575a6156bb1c87c5beeaf38c302b5905ad57f5780/expr.ipynb\"><img src=\"../../../../../__pv_it/common/575a6156bb1c87c5beeaf38c302b5905ad57f5780/expr.png\" style=\"display:inline;vertical-align:middle;\" /></a></td></tr>\n",
       "<tr><td>24</td><td>Variable</td><td></td><td><a class=\"ProveItLink\" href=\"../../../../../__pv_it/common/5514cc9a63b9c2ed9b63934dd5e088ab0d4f10080/expr.ipynb\"><img src=\"../../../../../__pv_it/common/5514cc9a63b9c2ed9b63934dd5e088ab0d4f10080/expr.png\" style=\"display:inline;vertical-align:middle;\" /></a></td></tr>\n",
       "</table>\n"
      ],
      "text/plain": [
       "0.  MultiQubitGate(A_{1, 1}, S_{1, 1})  & ..MultiQubitGate(A_{1, j}, S_{1, j})..  & MultiQubitGate(A_{1, m}, S_{1, m})   \\\\ \n",
       "   \\colon  & \\colon  & \\colon   \\\\ \n",
       "   MultiQubitGate(A_{i, 1}, S_{i, 1})  & ..MultiQubitGate(A_{i, j}, S_{i, j})..  & MultiQubitGate(A_{i, m}, S_{i, m})   \\\\ \n",
       "   \\colon  & \\colon  & \\colon   \\\\ \n",
       "   MultiQubitGate(A_{q, 1}, S_{q, 1})  & ..MultiQubitGate(A_{q, j}, S_{q, j})..  & MultiQubitGate(A_{q, m}, S_{q, m}) equiv  MultiQubitGate(A_{1, 1}, S_{1, 1})  & ..MultiQubitGate(A_{1, j}, S_{1, j})..  & MultiQubitGate(A_{1, m}, S_{1, m})   \\\\ \n",
       "   \\colon  & \\colon  & \\colon   \\\\ \n",
       "   MultiQubitGate(A_{i, 1}, S_{i, 1})  & ..MultiQubitGate(A_{i, j}, S_{i, j})..  & MultiQubitGate(A_{i, m}, S_{i, m})   \\\\ \n",
       "   \\colon  & \\colon  & \\colon   \\\\ \n",
       "   MultiQubitGate(A_{q, 1}, S_{q, 1})  & ..MultiQubitGate(A_{q, j}, S_{q, j})..  & MultiQubitGate(A_{q, m}, S_{q, m})\n",
       "   core type: Operation\n",
       "   operator: 1\n",
       "   operands: 2\n",
       "1. equiv\n",
       "   core type: Literal\n",
       "   sub-expressions: \n",
       "2. ( MultiQubitGate(A_{1, 1}, S_{1, 1})  & ..MultiQubitGate(A_{1, j}, S_{1, j})..  & MultiQubitGate(A_{1, m}, S_{1, m})   \\\\ \n",
       "   \\colon  & \\colon  & \\colon   \\\\ \n",
       "   MultiQubitGate(A_{i, 1}, S_{i, 1})  & ..MultiQubitGate(A_{i, j}, S_{i, j})..  & MultiQubitGate(A_{i, m}, S_{i, m})   \\\\ \n",
       "   \\colon  & \\colon  & \\colon   \\\\ \n",
       "   MultiQubitGate(A_{q, 1}, S_{q, 1})  & ..MultiQubitGate(A_{q, j}, S_{q, j})..  & MultiQubitGate(A_{q, m}, S_{q, m}),  MultiQubitGate(A_{1, 1}, S_{1, 1})  & ..MultiQubitGate(A_{1, j}, S_{1, j})..  & MultiQubitGate(A_{1, m}, S_{1, m})   \\\\ \n",
       "   \\colon  & \\colon  & \\colon   \\\\ \n",
       "   MultiQubitGate(A_{i, 1}, S_{i, 1})  & ..MultiQubitGate(A_{i, j}, S_{i, j})..  & MultiQubitGate(A_{i, m}, S_{i, m})   \\\\ \n",
       "   \\colon  & \\colon  & \\colon   \\\\ \n",
       "   MultiQubitGate(A_{q, 1}, S_{q, 1})  & ..MultiQubitGate(A_{q, j}, S_{q, j})..  & MultiQubitGate(A_{q, m}, S_{q, m}))\n",
       "   core type: ExprTuple\n",
       "   sub-expressions: 3, 3\n",
       "3.  MultiQubitGate(A_{1, 1}, S_{1, 1})  & ..MultiQubitGate(A_{1, j}, S_{1, j})..  & MultiQubitGate(A_{1, m}, S_{1, m})   \\\\ \n",
       "   \\colon  & \\colon  & \\colon   \\\\ \n",
       "   MultiQubitGate(A_{i, 1}, S_{i, 1})  & ..MultiQubitGate(A_{i, j}, S_{i, j})..  & MultiQubitGate(A_{i, m}, S_{i, m})   \\\\ \n",
       "   \\colon  & \\colon  & \\colon   \\\\ \n",
       "   MultiQubitGate(A_{q, 1}, S_{q, 1})  & ..MultiQubitGate(A_{q, j}, S_{q, j})..  & MultiQubitGate(A_{q, m}, S_{q, m})\n",
       "   core type: Operation\n",
       "   operator: 4\n",
       "   operand: 6\n",
       "4. CIRCUIT\n",
       "   core type: Literal\n",
       "   sub-expressions: \n",
       "5. ((MultiQubitGate(A_{1, 1}, S_{1, 1}) & ..MultiQubitGate(A_{1, j}, S_{1, j}).. & MultiQubitGate(A_{1, m}, S_{1, m})  \\\\ \n",
       "  \\colon & \\colon & \\colon  \\\\ \n",
       "  MultiQubitGate(A_{i, 1}, S_{i, 1}) & ..MultiQubitGate(A_{i, j}, S_{i, j}).. & MultiQubitGate(A_{i, m}, S_{i, m})  \\\\ \n",
       "  \\colon & \\colon & \\colon  \\\\ \n",
       "  MultiQubitGate(A_{q, 1}, S_{q, 1}) & ..MultiQubitGate(A_{q, j}, S_{q, j}).. & MultiQubitGate(A_{q, m}, S_{q, m})))\n",
       "   core type: ExprTuple\n",
       "   sub-expressions: 6\n",
       "6. MultiQubitGate(A_{1, 1}, S_{1, 1}) & ..MultiQubitGate(A_{1, j}, S_{1, j}).. & MultiQubitGate(A_{1, m}, S_{1, m})  \\\\ \n",
       "  \\colon & \\colon & \\colon  \\\\ \n",
       "  MultiQubitGate(A_{i, 1}, S_{i, 1}) & ..MultiQubitGate(A_{i, j}, S_{i, j}).. & MultiQubitGate(A_{i, m}, S_{i, m})  \\\\ \n",
       "  \\colon & \\colon & \\colon  \\\\ \n",
       "  MultiQubitGate(A_{q, 1}, S_{q, 1}) & ..MultiQubitGate(A_{q, j}, S_{q, j}).. & MultiQubitGate(A_{q, m}, S_{q, m})\n",
       "   core type: ExprTuple\n",
       "   sub-expressions: 7\n",
       "7. (MultiQubitGate(A_{1, 1}, S_{1, 1}), ..MultiQubitGate(A_{1, j}, S_{1, j}).., MultiQubitGate(A_{1, m}, S_{1, m})), ..(MultiQubitGate(A_{i, 1}, S_{i, 1}), ..MultiQubitGate(A_{i, j}, S_{i, j}).., MultiQubitGate(A_{i, m}, S_{i, m})).., (MultiQubitGate(A_{q, 1}, S_{q, 1}), ..MultiQubitGate(A_{q, j}, S_{q, j}).., MultiQubitGate(A_{q, m}, S_{q, m}))\n",
       "   core type: ExprRange\n",
       "   lambda_map: 8\n",
       "   start_index: 13\n",
       "   end_index: 9\n",
       "8. i -> (MultiQubitGate(A_{i, 1}, S_{i, 1}), ..MultiQubitGate(A_{i, j}, S_{i, j}).., MultiQubitGate(A_{i, m}, S_{i, m}))\n",
       "   core type: Lambda\n",
       "   parameter: 23\n",
       "   body: 10\n",
       "9. q\n",
       "   core type: Variable\n",
       "   sub-expressions: \n",
       "10. (MultiQubitGate(A_{i, 1}, S_{i, 1}), ..MultiQubitGate(A_{i, j}, S_{i, j}).., MultiQubitGate(A_{i, m}, S_{i, m}))\n",
       "    core type: ExprTuple\n",
       "    sub-expressions: 11\n",
       "11. MultiQubitGate(A_{i, 1}, S_{i, 1}), ..MultiQubitGate(A_{i, j}, S_{i, j}).., MultiQubitGate(A_{i, m}, S_{i, m})\n",
       "    core type: ExprRange\n",
       "    lambda_map: 12\n",
       "    start_index: 13\n",
       "    end_index: 14\n",
       "12. j -> MultiQubitGate(A_{i, j}, S_{i, j})\n",
       "    core type: Lambda\n",
       "    parameter: 24\n",
       "    body: 15\n",
       "13. 1\n",
       "    core type: Literal\n",
       "    sub-expressions: \n",
       "14. m\n",
       "    core type: Variable\n",
       "    sub-expressions: \n",
       "15. MultiQubitGate(A_{i, j}, S_{i, j})\n",
       "    core type: Operation\n",
       "    operator: 16\n",
       "    operands: 17\n",
       "16. MULTI_QUBIT_GATE\n",
       "    core type: Literal\n",
       "    sub-expressions: \n",
       "17. (A_{i, j}, S_{i, j})\n",
       "    core type: ExprTuple\n",
       "    sub-expressions: 18, 19\n",
       "18. A_{i, j}\n",
       "    core type: IndexedVar\n",
       "variable: 20\n",
       "indices: 22\n",
       "19. S_{i, j}\n",
       "    core type: IndexedVar\n",
       "variable: 21\n",
       "indices: 22\n",
       "20. A\n",
       "    core type: Variable\n",
       "    sub-expressions: \n",
       "21. S\n",
       "    core type: Variable\n",
       "    sub-expressions: \n",
       "22. (i, j)\n",
       "    core type: ExprTuple\n",
       "    sub-expressions: 23, 24\n",
       "23. i\n",
       "    core type: Variable\n",
       "    sub-expressions: \n",
       "24. j\n",
       "    core type: Variable\n",
       "    sub-expressions: "
      ]
     },
     "execution_count": 6,
     "metadata": {},
     "output_type": "execute_result"
    }
   ],
   "source": [
    "# display the expression information\n",
    "expr.expr_info()"
   ]
  },
  {
   "cell_type": "code",
   "execution_count": null,
   "metadata": {},
   "outputs": [],
   "source": []
  }
 ],
 "metadata": {
  "kernelspec": {
   "display_name": "Python 3",
   "language": "python",
   "name": "python3"
  }
 },
 "nbformat": 4,
 "nbformat_minor": 0
}