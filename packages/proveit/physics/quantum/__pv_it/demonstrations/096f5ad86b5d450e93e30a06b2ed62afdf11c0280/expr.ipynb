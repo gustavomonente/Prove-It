{
 "cells": [
  {
   "cell_type": "markdown",
   "metadata": {},
   "source": [
    "Expression of type <a class=\"ProveItLink\" href=\"../../../../../../../doc/html/api/proveit.ExprTuple.html\">ExprTuple</a>\n",
    "=======================\n",
    "# from the theory of <a class=\"ProveItLink\" href=\"../../../_theory_nbs_/theory.ipynb\">proveit.physics.quantum</a>"
   ]
  },
  {
   "cell_type": "code",
   "execution_count": 1,
   "metadata": {},
   "outputs": [],
   "source": [
    "import proveit\n",
    "# Automation is not needed when building an expression:\n",
    "proveit.defaults.automation = False # This will speed things up.\n",
    "proveit.defaults.inline_pngs = False # Makes files smaller.\n",
    "%load_expr # Load the stored expression as 'stored_expr'\n",
    "# import Expression classes needed to build the expression\n",
    "from proveit import B, ExprArray, ExprRange, ExprTuple, IndexedVar, j, n\n",
    "from proveit.numbers import one\n",
    "from proveit.physics.quantum import Gate"
   ]
  },
  {
   "cell_type": "code",
   "execution_count": 2,
   "metadata": {},
   "outputs": [
    {
     "data": {
      "text/html": [
       "<strong id=\"expr\">expr:</strong> <a class=\"ProveItLink\" href=\"expr.ipynb\"><img src=\"expr.png\" style=\"display:inline;vertical-align:middle;\" /></a><br>"
      ],
      "text/plain": [
       "expr: ((Gate(B_{1}) & ..Gate(B_{j}).. & Gate(B_{n})))"
      ]
     },
     "execution_count": 2,
     "metadata": {},
     "output_type": "execute_result"
    }
   ],
   "source": [
    "# build up the expression from sub-expressions\n",
    "expr = ExprTuple(ExprArray([ExprRange(j, Gate(IndexedVar(B, j)), one, n)]))"
   ]
  },
  {
   "cell_type": "code",
   "execution_count": 3,
   "metadata": {},
   "outputs": [
    {
     "name": "stdout",
     "output_type": "stream",
     "text": [
      "Passed sanity check: expr matches stored_expr\n"
     ]
    }
   ],
   "source": [
    "# check that the built expression is the same as the stored expression\n",
    "assert expr == stored_expr\n",
    "assert expr._style_id == stored_expr._style_id\n",
    "print(\"Passed sanity check: expr matches stored_expr\")"
   ]
  },
  {
   "cell_type": "code",
   "execution_count": 4,
   "metadata": {},
   "outputs": [
    {
     "name": "stdout",
     "output_type": "stream",
     "text": [
      "\\left(\\left(\\begin{array} {ccc} \n",
      " \\hspace{2em} \\Qcircuit@C=1em @R=.7em{\n",
      "& \\gate{B_{1}} \n",
      "} \\hspace{2em} & \\cdots & \\hspace{2em} \\Qcircuit@C=1em @R=.7em{\n",
      "& \\gate{B_{n}} \n",
      "} \\hspace{2em} \\end{array} \n",
      "\\right)\\right)\n"
     ]
    }
   ],
   "source": [
    "# Show the LaTeX representation of the expression for convenience if you need it.\n",
    "print(expr.latex())"
   ]
  },
  {
   "cell_type": "code",
   "execution_count": 5,
   "metadata": {},
   "outputs": [
    {
     "data": {
      "text/html": [
       "<table><tr><th>&nbsp;</th><th>core type</th><th>sub-expressions</th><th>expression</th></tr>\n",
       "<tr><td>0</td><td>ExprTuple</td><td>1</td><td><a class=\"ProveItLink\" href=\"expr.ipynb\"><img src=\"expr.png\" style=\"display:inline;vertical-align:middle;\" /></a></td></tr>\n",
       "<tr><td>1</td><td>ExprTuple</td><td>2</td><td><a class=\"ProveItLink\" href=\"../edd74e39adbd720ddf7489d2cae1e03beadee2960/expr.ipynb\"><img src=\"../edd74e39adbd720ddf7489d2cae1e03beadee2960/expr.png\" style=\"display:inline;vertical-align:middle;\" /></a></td></tr>\n",
       "<tr><td>2</td><td>ExprTuple</td><td>3</td><td><a class=\"ProveItLink\" href=\"../b00842c952cc62e93ad25d2edcb5036aebde64cd0/expr.ipynb\"><img src=\"../b00842c952cc62e93ad25d2edcb5036aebde64cd0/expr.png\" style=\"display:inline;vertical-align:middle;\" /></a></td></tr>\n",
       "<tr><td>3</td><td>ExprRange</td><td>lambda_map:&nbsp;4<br>start_index:&nbsp;5<br>end_index:&nbsp;6<br></td><td><a class=\"ProveItLink\" href=\"../46285c65db0a57dcda5721a3e91b6117db6ff6520/expr.ipynb\"><img src=\"../46285c65db0a57dcda5721a3e91b6117db6ff6520/expr.png\" style=\"display:inline;vertical-align:middle;\" /></a></td></tr>\n",
       "<tr><td>4</td><td>Lambda</td><td>parameter:&nbsp;11<br>body:&nbsp;7<br></td><td><a class=\"ProveItLink\" href=\"../6a3288f4c13d40741d0c8cf584b0c0ff063dd0030/expr.ipynb\"><img src=\"../6a3288f4c13d40741d0c8cf584b0c0ff063dd0030/expr.png\" style=\"display:inline;vertical-align:middle;\" /></a></td></tr>\n",
       "<tr><td>5</td><td>Literal</td><td></td><td><a class=\"ProveItLink\" href=\"../../../../../numbers/numerals/__pv_it/common/2778428c7f555b2bdc06aa0530bc142c6e6335100/expr.ipynb\"><img src=\"../../../../../numbers/numerals/__pv_it/common/2778428c7f555b2bdc06aa0530bc142c6e6335100/expr.png\" style=\"display:inline;vertical-align:middle;\" /></a></td></tr>\n",
       "<tr><td>6</td><td>Variable</td><td></td><td><a class=\"ProveItLink\" href=\"../../../../../__pv_it/common/8968bb04eb3f7dfa02353397ce929b025bbd79c20/expr.ipynb\"><img src=\"../../../../../__pv_it/common/8968bb04eb3f7dfa02353397ce929b025bbd79c20/expr.png\" style=\"display:inline;vertical-align:middle;\" /></a></td></tr>\n",
       "<tr><td>7</td><td>Operation</td><td>operator:&nbsp;8<br>operand:&nbsp;9<br></td><td><a class=\"ProveItLink\" href=\"../cc258f9fe9248073f459d9591a2e3a6551d38d920/expr.ipynb\"><img src=\"../cc258f9fe9248073f459d9591a2e3a6551d38d920/expr.png\" style=\"display:inline;vertical-align:middle;\" /></a></td></tr>\n",
       "<tr><td>8</td><td>Literal</td><td></td><td><a class=\"ProveItLink\" href=\"../../common/0ea83cfe1adebd8ba4f03839c3c2a37c85d3772c0/expr.ipynb\"><img src=\"../../common/0ea83cfe1adebd8ba4f03839c3c2a37c85d3772c0/expr.png\" style=\"display:inline;vertical-align:middle;\" /></a></td></tr>\n",
       "<tr><td>9</td><td>IndexedVar</td><td>variable:&nbsp;10<br>index:&nbsp;11<br></td><td><a class=\"ProveItLink\" href=\"../1c1c72ee3106038d890d043390be2a777f9c9e130/expr.ipynb\"><img src=\"../1c1c72ee3106038d890d043390be2a777f9c9e130/expr.png\" style=\"display:inline;vertical-align:middle;\" /></a></td></tr>\n",
       "<tr><td>10</td><td>Variable</td><td></td><td><a class=\"ProveItLink\" href=\"../../../../../__pv_it/common/a9162d1c3cc0470c02e5daf414500903a7a419230/expr.ipynb\"><img src=\"../../../../../__pv_it/common/a9162d1c3cc0470c02e5daf414500903a7a419230/expr.png\" style=\"display:inline;vertical-align:middle;\" /></a></td></tr>\n",
       "<tr><td>11</td><td>Variable</td><td></td><td><a class=\"ProveItLink\" href=\"../../../../../__pv_it/common/1ed21df18baca2f42b561a7ffbf30a2743d594650/expr.ipynb\"><img src=\"../../../../../__pv_it/common/1ed21df18baca2f42b561a7ffbf30a2743d594650/expr.png\" style=\"display:inline;vertical-align:middle;\" /></a></td></tr>\n",
       "</table>\n"
      ],
      "text/plain": [
       "0. ((Gate(B_{1}) & ..Gate(B_{j}).. & Gate(B_{n})))\n",
       "   core type: ExprTuple\n",
       "   sub-expressions: 1\n",
       "1. Gate(B_{1}) & ..Gate(B_{j}).. & Gate(B_{n})\n",
       "   core type: ExprTuple\n",
       "   sub-expressions: 2\n",
       "2. (Gate(B_{1}), ..Gate(B_{j}).., Gate(B_{n}))\n",
       "   core type: ExprTuple\n",
       "   sub-expressions: 3\n",
       "3. Gate(B_{1}), ..Gate(B_{j}).., Gate(B_{n})\n",
       "   core type: ExprRange\n",
       "   lambda_map: 4\n",
       "   start_index: 5\n",
       "   end_index: 6\n",
       "4. j -> Gate(B_{j})\n",
       "   core type: Lambda\n",
       "   parameter: 11\n",
       "   body: 7\n",
       "5. 1\n",
       "   core type: Literal\n",
       "   sub-expressions: \n",
       "6. n\n",
       "   core type: Variable\n",
       "   sub-expressions: \n",
       "7. Gate(B_{j})\n",
       "   core type: Operation\n",
       "   operator: 8\n",
       "   operand: 9\n",
       "8. GATE\n",
       "   core type: Literal\n",
       "   sub-expressions: \n",
       "9. B_{j}\n",
       "   core type: IndexedVar\n",
       "variable: 10\n",
       "index: 11\n",
       "10. B\n",
       "    core type: Variable\n",
       "    sub-expressions: \n",
       "11. j\n",
       "    core type: Variable\n",
       "    sub-expressions: "
      ]
     },
     "execution_count": 5,
     "metadata": {},
     "output_type": "execute_result"
    }
   ],
   "source": [
    "# display the expression information\n",
    "expr.expr_info()"
   ]
  },
  {
   "cell_type": "code",
   "execution_count": null,
   "metadata": {},
   "outputs": [],
   "source": []
  }
 ],
 "metadata": {
  "kernelspec": {
   "display_name": "Python 3",
   "language": "python",
   "name": "python3"
  }
 },
 "nbformat": 4,
 "nbformat_minor": 0
}