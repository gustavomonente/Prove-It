{
 "cells": [
  {
   "cell_type": "markdown",
   "metadata": {},
   "source": [
    "Expression of type <a class=\"ProveItLink\" href=\"../../../../../../../doc/html/api/proveit.ExprArray.html\">ExprArray</a>\n",
    "=======================\n",
    "# from the theory of <a class=\"ProveItLink\" href=\"../../../_theory_nbs_/theory.ipynb\">proveit.physics.quantum</a>"
   ]
  },
  {
   "cell_type": "code",
   "execution_count": 1,
   "metadata": {},
   "outputs": [],
   "source": [
    "import proveit\n",
    "# Automation is not needed when building an expression:\n",
    "proveit.defaults.automation = False # This will speed things up.\n",
    "proveit.defaults.inline_pngs = False # Makes files smaller.\n",
    "%load_expr # Load the stored expression as 'stored_expr'\n",
    "# import Expression classes needed to build the expression\n",
    "from proveit import B, D, ExprArray, ExprRange, IndexedVar, j, k, m, n\n",
    "from proveit.logic import Set\n",
    "from proveit.numbers import Add, one, two\n",
    "from proveit.physics.quantum.circuit import MultiQubitGate"
   ]
  },
  {
   "cell_type": "code",
   "execution_count": 2,
   "metadata": {},
   "outputs": [
    {
     "data": {
      "text/html": [
       "<strong id=\"expr\">expr:</strong> <a class=\"ProveItLink\" href=\"expr.ipynb\"><img src=\"expr.png\" style=\"display:inline;vertical-align:middle;\" /></a><br>"
      ],
      "text/plain": [
       "expr: MultiQubitGate(B_{1}, {m + 1, m + k + 2}) & ..MultiQubitGate(B_{j}, {m + 1, m + k + 2}).. & MultiQubitGate(B_{n}, {m + 1, m + k + 2})  \\\\ \n",
       "  MultiQubitGate(D_{1}, {m + 1, m + k + 2}) & ..MultiQubitGate(D_{j}, {m + 1, m + k + 2}).. & MultiQubitGate(D_{n}, {m + 1, m + k + 2})"
      ]
     },
     "execution_count": 2,
     "metadata": {},
     "output_type": "execute_result"
    }
   ],
   "source": [
    "# build up the expression from sub-expressions\n",
    "sub_expr1 = Set(Add(m, one), Add(m, k, two))\n",
    "expr = ExprArray([ExprRange(j, MultiQubitGate(IndexedVar(B, j), sub_expr1), one, n)], [ExprRange(j, MultiQubitGate(IndexedVar(D, j), sub_expr1), one, n)])"
   ]
  },
  {
   "cell_type": "code",
   "execution_count": 3,
   "metadata": {},
   "outputs": [
    {
     "name": "stdout",
     "output_type": "stream",
     "text": [
      "Passed sanity check: expr matches stored_expr\n"
     ]
    }
   ],
   "source": [
    "# check that the built expression is the same as the stored expression\n",
    "assert expr == stored_expr\n",
    "assert expr._style_id == stored_expr._style_id\n",
    "print(\"Passed sanity check: expr matches stored_expr\")"
   ]
  },
  {
   "cell_type": "code",
   "execution_count": 4,
   "metadata": {},
   "outputs": [
    {
     "name": "stdout",
     "output_type": "stream",
     "text": [
      "\\begin{array} {ccc} \n",
      " \\hspace{2em} \\Qcircuit@C=1em @R=.7em{\n",
      "& \\gate{B_{1}{\\Big \\{} \\left\\{m + 1, m + k + 2\\right\\}} \n",
      "} \\hspace{2em} & \\cdots & \\hspace{2em} \\Qcircuit@C=1em @R=.7em{\n",
      "& \\gate{B_{n}{\\Big \\{} \\left\\{m + 1, m + k + 2\\right\\}} \n",
      "} \\hspace{2em}  \\\\ \n",
      "  \\hspace{2em} \\Qcircuit@C=1em @R=.7em{\n",
      "& \\gate{D_{1}{\\Big \\{} \\left\\{m + 1, m + k + 2\\right\\}} \n",
      "} \\hspace{2em} & \\cdots & \\hspace{2em} \\Qcircuit@C=1em @R=.7em{\n",
      "& \\gate{D_{n}{\\Big \\{} \\left\\{m + 1, m + k + 2\\right\\}} \n",
      "} \\hspace{2em} \\end{array} \n",
      "\n"
     ]
    }
   ],
   "source": [
    "# Show the LaTeX representation of the expression for convenience if you need it.\n",
    "print(expr.latex())"
   ]
  },
  {
   "cell_type": "code",
   "execution_count": 5,
   "metadata": {},
   "outputs": [
    {
     "data": {
      "text/html": [
       "<table><tr><th>&nbsp;</th><th>core type</th><th>sub-expressions</th><th>expression</th></tr>\n",
       "<tr><td>0</td><td>ExprTuple</td><td>1, 2</td><td><a class=\"ProveItLink\" href=\"expr.ipynb\"><img src=\"expr.png\" style=\"display:inline;vertical-align:middle;\" /></a></td></tr>\n",
       "<tr><td>1</td><td>ExprTuple</td><td>3</td><td><a class=\"ProveItLink\" href=\"../8b64fa323a179a43af7790b77150b00c79825e1b0/expr.ipynb\"><img src=\"../8b64fa323a179a43af7790b77150b00c79825e1b0/expr.png\" style=\"display:inline;vertical-align:middle;\" /></a></td></tr>\n",
       "<tr><td>2</td><td>ExprTuple</td><td>4</td><td><a class=\"ProveItLink\" href=\"../0c6bf6458c3798daaece55ae37afa53bc656004a0/expr.ipynb\"><img src=\"../0c6bf6458c3798daaece55ae37afa53bc656004a0/expr.png\" style=\"display:inline;vertical-align:middle;\" /></a></td></tr>\n",
       "<tr><td>3</td><td>ExprRange</td><td>lambda_map:&nbsp;5<br>start_index:&nbsp;26<br>end_index:&nbsp;7<br></td><td><a class=\"ProveItLink\" href=\"../9200bfca3316bd58ab91be5590fbe9027d62fa090/expr.ipynb\"><img src=\"../9200bfca3316bd58ab91be5590fbe9027d62fa090/expr.png\" style=\"display:inline;vertical-align:middle;\" /></a></td></tr>\n",
       "<tr><td>4</td><td>ExprRange</td><td>lambda_map:&nbsp;6<br>start_index:&nbsp;26<br>end_index:&nbsp;7<br></td><td><a class=\"ProveItLink\" href=\"../64ba5280d8fb2a5ffa8c04a80e175d757a4c3cb50/expr.ipynb\"><img src=\"../64ba5280d8fb2a5ffa8c04a80e175d757a4c3cb50/expr.png\" style=\"display:inline;vertical-align:middle;\" /></a></td></tr>\n",
       "<tr><td>5</td><td>Lambda</td><td>parameter:&nbsp;18<br>body:&nbsp;8<br></td><td><a class=\"ProveItLink\" href=\"../0601146ea52af9995c494b62f8302d8731a1db310/expr.ipynb\"><img src=\"../0601146ea52af9995c494b62f8302d8731a1db310/expr.png\" style=\"display:inline;vertical-align:middle;\" /></a></td></tr>\n",
       "<tr><td>6</td><td>Lambda</td><td>parameter:&nbsp;18<br>body:&nbsp;9<br></td><td><a class=\"ProveItLink\" href=\"../3c1eb96722828d5a691211081582f2c1e7abb5870/expr.ipynb\"><img src=\"../3c1eb96722828d5a691211081582f2c1e7abb5870/expr.png\" style=\"display:inline;vertical-align:middle;\" /></a></td></tr>\n",
       "<tr><td>7</td><td>Variable</td><td></td><td><a class=\"ProveItLink\" href=\"../../../../../__pv_it/common/8968bb04eb3f7dfa02353397ce929b025bbd79c20/expr.ipynb\"><img src=\"../../../../../__pv_it/common/8968bb04eb3f7dfa02353397ce929b025bbd79c20/expr.png\" style=\"display:inline;vertical-align:middle;\" /></a></td></tr>\n",
       "<tr><td>8</td><td>Operation</td><td>operator:&nbsp;11<br>operands:&nbsp;10<br></td><td><a class=\"ProveItLink\" href=\"../11d24014f3b81aac25b9bc8300c36c987a7c423e0/expr.ipynb\"><img src=\"../11d24014f3b81aac25b9bc8300c36c987a7c423e0/expr.png\" style=\"display:inline;vertical-align:middle;\" /></a></td></tr>\n",
       "<tr><td>9</td><td>Operation</td><td>operator:&nbsp;11<br>operands:&nbsp;12<br></td><td><a class=\"ProveItLink\" href=\"../615cc678a5bab16b0d7d30965d8f38c3bd0d513e0/expr.ipynb\"><img src=\"../615cc678a5bab16b0d7d30965d8f38c3bd0d513e0/expr.png\" style=\"display:inline;vertical-align:middle;\" /></a></td></tr>\n",
       "<tr><td>10</td><td>ExprTuple</td><td>13, 15</td><td><a class=\"ProveItLink\" href=\"../6d1e48912803b7813d8dcdde5d239d46633956bf0/expr.ipynb\"><img src=\"../6d1e48912803b7813d8dcdde5d239d46633956bf0/expr.png\" style=\"display:inline;vertical-align:middle;\" /></a></td></tr>\n",
       "<tr><td>11</td><td>Literal</td><td></td><td><a class=\"ProveItLink\" href=\"../../common/7e400d333e3c53d1c3dd14244e4b33f4cea327190/expr.ipynb\"><img src=\"../../common/7e400d333e3c53d1c3dd14244e4b33f4cea327190/expr.png\" style=\"display:inline;vertical-align:middle;\" /></a></td></tr>\n",
       "<tr><td>12</td><td>ExprTuple</td><td>14, 15</td><td><a class=\"ProveItLink\" href=\"../5b545c675e38a1bd370db4ac30aceb92d63d7e5f0/expr.ipynb\"><img src=\"../5b545c675e38a1bd370db4ac30aceb92d63d7e5f0/expr.png\" style=\"display:inline;vertical-align:middle;\" /></a></td></tr>\n",
       "<tr><td>13</td><td>IndexedVar</td><td>variable:&nbsp;16<br>index:&nbsp;18<br></td><td><a class=\"ProveItLink\" href=\"../1c1c72ee3106038d890d043390be2a777f9c9e130/expr.ipynb\"><img src=\"../1c1c72ee3106038d890d043390be2a777f9c9e130/expr.png\" style=\"display:inline;vertical-align:middle;\" /></a></td></tr>\n",
       "<tr><td>14</td><td>IndexedVar</td><td>variable:&nbsp;17<br>index:&nbsp;18<br></td><td><a class=\"ProveItLink\" href=\"../518137d0039761dc544b2153c25c52de36e0ec900/expr.ipynb\"><img src=\"../518137d0039761dc544b2153c25c52de36e0ec900/expr.png\" style=\"display:inline;vertical-align:middle;\" /></a></td></tr>\n",
       "<tr><td>15</td><td>Operation</td><td>operator:&nbsp;19<br>operands:&nbsp;20<br></td><td><a class=\"ProveItLink\" href=\"../f04c6041b5d33e23f5e6bdc2a5dba8e7cd53c6ee0/expr.ipynb\"><img src=\"../f04c6041b5d33e23f5e6bdc2a5dba8e7cd53c6ee0/expr.png\" style=\"display:inline;vertical-align:middle;\" /></a></td></tr>\n",
       "<tr><td>16</td><td>Variable</td><td></td><td><a class=\"ProveItLink\" href=\"../../../../../__pv_it/common/a9162d1c3cc0470c02e5daf414500903a7a419230/expr.ipynb\"><img src=\"../../../../../__pv_it/common/a9162d1c3cc0470c02e5daf414500903a7a419230/expr.png\" style=\"display:inline;vertical-align:middle;\" /></a></td></tr>\n",
       "<tr><td>17</td><td>Variable</td><td></td><td><a class=\"ProveItLink\" href=\"../../../../../__pv_it/common/8d36d28f3636cdaa66f8b7d56eb3bbf0b50f70200/expr.ipynb\"><img src=\"../../../../../__pv_it/common/8d36d28f3636cdaa66f8b7d56eb3bbf0b50f70200/expr.png\" style=\"display:inline;vertical-align:middle;\" /></a></td></tr>\n",
       "<tr><td>18</td><td>Variable</td><td></td><td><a class=\"ProveItLink\" href=\"../../../../../__pv_it/common/1ed21df18baca2f42b561a7ffbf30a2743d594650/expr.ipynb\"><img src=\"../../../../../__pv_it/common/1ed21df18baca2f42b561a7ffbf30a2743d594650/expr.png\" style=\"display:inline;vertical-align:middle;\" /></a></td></tr>\n",
       "<tr><td>19</td><td>Literal</td><td></td><td><a class=\"ProveItLink\" href=\"../../../../../logic/sets/enumeration/__pv_it/common/0ead90ccbf4f17bc585a51f8aa904bb77916ae6e0/expr.ipynb\"><img src=\"../../../../../logic/sets/enumeration/__pv_it/common/0ead90ccbf4f17bc585a51f8aa904bb77916ae6e0/expr.png\" style=\"display:inline;vertical-align:middle;\" /></a></td></tr>\n",
       "<tr><td>20</td><td>ExprTuple</td><td>21, 22</td><td><a class=\"ProveItLink\" href=\"../e22a3b205a9ae5e11da289f9af15c9e1dc6c00710/expr.ipynb\"><img src=\"../e22a3b205a9ae5e11da289f9af15c9e1dc6c00710/expr.png\" style=\"display:inline;vertical-align:middle;\" /></a></td></tr>\n",
       "<tr><td>21</td><td>Operation</td><td>operator:&nbsp;24<br>operands:&nbsp;23<br></td><td><a class=\"ProveItLink\" href=\"../e4061993af513a849b79a657e87a3daf729860f60/expr.ipynb\"><img src=\"../e4061993af513a849b79a657e87a3daf729860f60/expr.png\" style=\"display:inline;vertical-align:middle;\" /></a></td></tr>\n",
       "<tr><td>22</td><td>Operation</td><td>operator:&nbsp;24<br>operands:&nbsp;25<br></td><td><a class=\"ProveItLink\" href=\"../bbaee0934b073a5ebd461c5f471458394a3e3b710/expr.ipynb\"><img src=\"../bbaee0934b073a5ebd461c5f471458394a3e3b710/expr.png\" style=\"display:inline;vertical-align:middle;\" /></a></td></tr>\n",
       "<tr><td>23</td><td>ExprTuple</td><td>27, 26</td><td><a class=\"ProveItLink\" href=\"../c75997494363a372da41f935d52adeefa2e242a80/expr.ipynb\"><img src=\"../c75997494363a372da41f935d52adeefa2e242a80/expr.png\" style=\"display:inline;vertical-align:middle;\" /></a></td></tr>\n",
       "<tr><td>24</td><td>Literal</td><td></td><td><a class=\"ProveItLink\" href=\"../../../../../numbers/addition/__pv_it/common/4b7effaab3619a1c2c38fe2dee8601df8ec714590/expr.ipynb\"><img src=\"../../../../../numbers/addition/__pv_it/common/4b7effaab3619a1c2c38fe2dee8601df8ec714590/expr.png\" style=\"display:inline;vertical-align:middle;\" /></a></td></tr>\n",
       "<tr><td>25</td><td>ExprTuple</td><td>27, 28, 29</td><td><a class=\"ProveItLink\" href=\"../a52363d0c4fa29e4540e654303861b45092c38910/expr.ipynb\"><img src=\"../a52363d0c4fa29e4540e654303861b45092c38910/expr.png\" style=\"display:inline;vertical-align:middle;\" /></a></td></tr>\n",
       "<tr><td>26</td><td>Literal</td><td></td><td><a class=\"ProveItLink\" href=\"../../../../../numbers/numerals/__pv_it/common/2778428c7f555b2bdc06aa0530bc142c6e6335100/expr.ipynb\"><img src=\"../../../../../numbers/numerals/__pv_it/common/2778428c7f555b2bdc06aa0530bc142c6e6335100/expr.png\" style=\"display:inline;vertical-align:middle;\" /></a></td></tr>\n",
       "<tr><td>27</td><td>Variable</td><td></td><td><a class=\"ProveItLink\" href=\"../../../../../__pv_it/common/674a03b9c3ca221b3aabd5636837b31528ff33830/expr.ipynb\"><img src=\"../../../../../__pv_it/common/674a03b9c3ca221b3aabd5636837b31528ff33830/expr.png\" style=\"display:inline;vertical-align:middle;\" /></a></td></tr>\n",
       "<tr><td>28</td><td>Variable</td><td></td><td><a class=\"ProveItLink\" href=\"../../../../../__pv_it/common/63b7c64bf9ec7a04ecc396c7a1670f3f12fb59490/expr.ipynb\"><img src=\"../../../../../__pv_it/common/63b7c64bf9ec7a04ecc396c7a1670f3f12fb59490/expr.png\" style=\"display:inline;vertical-align:middle;\" /></a></td></tr>\n",
       "<tr><td>29</td><td>Literal</td><td></td><td><a class=\"ProveItLink\" href=\"../../../../../numbers/numerals/__pv_it/common/ba3b059982e8b49413dc653e957beb11e974e4bc0/expr.ipynb\"><img src=\"../../../../../numbers/numerals/__pv_it/common/ba3b059982e8b49413dc653e957beb11e974e4bc0/expr.png\" style=\"display:inline;vertical-align:middle;\" /></a></td></tr>\n",
       "</table>\n"
      ],
      "text/plain": [
       "0. MultiQubitGate(B_{1}, {m + 1, m + k + 2}) & ..MultiQubitGate(B_{j}, {m + 1, m + k + 2}).. & MultiQubitGate(B_{n}, {m + 1, m + k + 2})  \\\\ \n",
       "  MultiQubitGate(D_{1}, {m + 1, m + k + 2}) & ..MultiQubitGate(D_{j}, {m + 1, m + k + 2}).. & MultiQubitGate(D_{n}, {m + 1, m + k + 2})\n",
       "   core type: ExprTuple\n",
       "   sub-expressions: 1, 2\n",
       "1. (MultiQubitGate(B_{1}, {m + 1, m + k + 2}), ..MultiQubitGate(B_{j}, {m + 1, m + k + 2}).., MultiQubitGate(B_{n}, {m + 1, m + k + 2}))\n",
       "   core type: ExprTuple\n",
       "   sub-expressions: 3\n",
       "2. (MultiQubitGate(D_{1}, {m + 1, m + k + 2}), ..MultiQubitGate(D_{j}, {m + 1, m + k + 2}).., MultiQubitGate(D_{n}, {m + 1, m + k + 2}))\n",
       "   core type: ExprTuple\n",
       "   sub-expressions: 4\n",
       "3. MultiQubitGate(B_{1}, {m + 1, m + k + 2}), ..MultiQubitGate(B_{j}, {m + 1, m + k + 2}).., MultiQubitGate(B_{n}, {m + 1, m + k + 2})\n",
       "   core type: ExprRange\n",
       "   lambda_map: 5\n",
       "   start_index: 26\n",
       "   end_index: 7\n",
       "4. MultiQubitGate(D_{1}, {m + 1, m + k + 2}), ..MultiQubitGate(D_{j}, {m + 1, m + k + 2}).., MultiQubitGate(D_{n}, {m + 1, m + k + 2})\n",
       "   core type: ExprRange\n",
       "   lambda_map: 6\n",
       "   start_index: 26\n",
       "   end_index: 7\n",
       "5. j -> MultiQubitGate(B_{j}, {m + 1, m + k + 2})\n",
       "   core type: Lambda\n",
       "   parameter: 18\n",
       "   body: 8\n",
       "6. j -> MultiQubitGate(D_{j}, {m + 1, m + k + 2})\n",
       "   core type: Lambda\n",
       "   parameter: 18\n",
       "   body: 9\n",
       "7. n\n",
       "   core type: Variable\n",
       "   sub-expressions: \n",
       "8. MultiQubitGate(B_{j}, {m + 1, m + k + 2})\n",
       "   core type: Operation\n",
       "   operator: 11\n",
       "   operands: 10\n",
       "9. MultiQubitGate(D_{j}, {m + 1, m + k + 2})\n",
       "   core type: Operation\n",
       "   operator: 11\n",
       "   operands: 12\n",
       "10. (B_{j}, {m + 1, m + k + 2})\n",
       "    core type: ExprTuple\n",
       "    sub-expressions: 13, 15\n",
       "11. MULTI_QUBIT_GATE\n",
       "    core type: Literal\n",
       "    sub-expressions: \n",
       "12. (D_{j}, {m + 1, m + k + 2})\n",
       "    core type: ExprTuple\n",
       "    sub-expressions: 14, 15\n",
       "13. B_{j}\n",
       "    core type: IndexedVar\n",
       "variable: 16\n",
       "index: 18\n",
       "14. D_{j}\n",
       "    core type: IndexedVar\n",
       "variable: 17\n",
       "index: 18\n",
       "15. {m + 1, m + k + 2}\n",
       "    core type: Operation\n",
       "    operator: 19\n",
       "    operands: 20\n",
       "16. B\n",
       "    core type: Variable\n",
       "    sub-expressions: \n",
       "17. D\n",
       "    core type: Variable\n",
       "    sub-expressions: \n",
       "18. j\n",
       "    core type: Variable\n",
       "    sub-expressions: \n",
       "19. Set\n",
       "    core type: Literal\n",
       "    sub-expressions: \n",
       "20. (m + 1, m + k + 2)\n",
       "    core type: ExprTuple\n",
       "    sub-expressions: 21, 22\n",
       "21. m + 1\n",
       "    core type: Operation\n",
       "    operator: 24\n",
       "    operands: 23\n",
       "22. m + k + 2\n",
       "    core type: Operation\n",
       "    operator: 24\n",
       "    operands: 25\n",
       "23. (m, 1)\n",
       "    core type: ExprTuple\n",
       "    sub-expressions: 27, 26\n",
       "24. +\n",
       "    core type: Literal\n",
       "    sub-expressions: \n",
       "25. (m, k, 2)\n",
       "    core type: ExprTuple\n",
       "    sub-expressions: 27, 28, 29\n",
       "26. 1\n",
       "    core type: Literal\n",
       "    sub-expressions: \n",
       "27. m\n",
       "    core type: Variable\n",
       "    sub-expressions: \n",
       "28. k\n",
       "    core type: Variable\n",
       "    sub-expressions: \n",
       "29. 2\n",
       "    core type: Literal\n",
       "    sub-expressions: "
      ]
     },
     "execution_count": 5,
     "metadata": {},
     "output_type": "execute_result"
    }
   ],
   "source": [
    "# display the expression information\n",
    "expr.expr_info()"
   ]
  },
  {
   "cell_type": "code",
   "execution_count": null,
   "metadata": {},
   "outputs": [],
   "source": []
  }
 ],
 "metadata": {
  "kernelspec": {
   "display_name": "Python 3",
   "language": "python",
   "name": "python3"
  }
 },
 "nbformat": 4,
 "nbformat_minor": 0
}