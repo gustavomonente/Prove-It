{
 "cells": [
  {
   "cell_type": "markdown",
   "metadata": {},
   "source": [
    "Expression of type <a class=\"ProveItLink\" href=\"../../../../../../../doc/html/api/proveit.Lambda.html\">Lambda</a>\n",
    "=======================\n",
    "# from the theory of <a class=\"ProveItLink\" href=\"../../../_theory_nbs_/theory.ipynb\">proveit.physics.quantum</a>"
   ]
  },
  {
   "cell_type": "code",
   "execution_count": 1,
   "metadata": {},
   "outputs": [],
   "source": [
    "import proveit\n",
    "# Automation is not needed when building an expression:\n",
    "proveit.defaults.automation = False # This will speed things up.\n",
    "proveit.defaults.inline_pngs = False # Makes files smaller.\n",
    "%load_expr # Load the stored expression as 'stored_expr'\n",
    "# import Expression classes needed to build the expression\n",
    "from proveit import ExprRange, Lambda, g, h, i, j, k\n",
    "from proveit.core_expr_types.expr_arrays import Aij, Bij, Cij, Pij, Qij, Rij\n",
    "from proveit.numbers import one\n",
    "from proveit.physics.quantum.circuit import MultiQubitGate"
   ]
  },
  {
   "cell_type": "code",
   "execution_count": 2,
   "metadata": {},
   "outputs": [
    {
     "data": {
      "text/html": [
       "<strong id=\"expr\">expr:</strong> <a class=\"ProveItLink\" href=\"expr.ipynb\"><img src=\"expr.png\" style=\"display:inline;vertical-align:middle;\" /></a><br>"
      ],
      "text/plain": [
       "expr: i -> (MultiQubitGate(A_{i, 1}, P_{i, 1}), ..MultiQubitGate(A_{i, j}, P_{i, j}).., MultiQubitGate(A_{i, g}, P_{i, g}), MultiQubitGate(B_{i, 1}, Q_{i, 1}), ..MultiQubitGate(B_{i, j}, Q_{i, j}).., MultiQubitGate(B_{i, h}, Q_{i, h}), MultiQubitGate(C_{i, 1}, R_{i, 1}), ..MultiQubitGate(C_{i, j}, R_{i, j}).., MultiQubitGate(C_{i, k}, R_{i, k}))"
      ]
     },
     "execution_count": 2,
     "metadata": {},
     "output_type": "execute_result"
    }
   ],
   "source": [
    "# build up the expression from sub-expressions\n",
    "expr = Lambda(i, [ExprRange(j, MultiQubitGate(Aij, Pij), one, g), ExprRange(j, MultiQubitGate(Bij, Qij), one, h), ExprRange(j, MultiQubitGate(Cij, Rij), one, k)])"
   ]
  },
  {
   "cell_type": "code",
   "execution_count": 3,
   "metadata": {},
   "outputs": [
    {
     "name": "stdout",
     "output_type": "stream",
     "text": [
      "Passed sanity check: expr matches stored_expr\n"
     ]
    }
   ],
   "source": [
    "# check that the built expression is the same as the stored expression\n",
    "assert expr == stored_expr\n",
    "assert expr._style_id == stored_expr._style_id\n",
    "print(\"Passed sanity check: expr matches stored_expr\")"
   ]
  },
  {
   "cell_type": "code",
   "execution_count": 4,
   "metadata": {},
   "outputs": [
    {
     "name": "stdout",
     "output_type": "stream",
     "text": [
      "i \\mapsto \\left(\\hspace{2em} \\Qcircuit@C=1em @R=.7em{\n",
      "& \\gate{A_{i, 1}{\\Big \\{} P_{i, 1}} \n",
      "} \\hspace{2em}, \\ldots, \\hspace{2em} \\Qcircuit@C=1em @R=.7em{\n",
      "& \\gate{A_{i, g}{\\Big \\{} P_{i, g}} \n",
      "} \\hspace{2em}, \\hspace{2em} \\Qcircuit@C=1em @R=.7em{\n",
      "& \\gate{B_{i, 1}{\\Big \\{} Q_{i, 1}} \n",
      "} \\hspace{2em}, \\ldots, \\hspace{2em} \\Qcircuit@C=1em @R=.7em{\n",
      "& \\gate{B_{i, h}{\\Big \\{} Q_{i, h}} \n",
      "} \\hspace{2em}, \\hspace{2em} \\Qcircuit@C=1em @R=.7em{\n",
      "& \\gate{C_{i, 1}{\\Big \\{} R_{i, 1}} \n",
      "} \\hspace{2em}, \\ldots, \\hspace{2em} \\Qcircuit@C=1em @R=.7em{\n",
      "& \\gate{C_{i, k}{\\Big \\{} R_{i, k}} \n",
      "} \\hspace{2em}\\right)\n"
     ]
    }
   ],
   "source": [
    "# Show the LaTeX representation of the expression for convenience if you need it.\n",
    "print(expr.latex())"
   ]
  },
  {
   "cell_type": "code",
   "execution_count": 5,
   "metadata": {},
   "outputs": [
    {
     "data": {
      "text/html": [
       "<table><tr><th>&nbsp;</th><th>core type</th><th>sub-expressions</th><th>expression</th></tr>\n",
       "<tr><td>0</td><td>Lambda</td><td>parameter:&nbsp;32<br>body:&nbsp;1<br></td><td><a class=\"ProveItLink\" href=\"expr.ipynb\"><img src=\"expr.png\" style=\"display:inline;vertical-align:middle;\" /></a></td></tr>\n",
       "<tr><td>1</td><td>ExprTuple</td><td>2, 3, 4</td><td><a class=\"ProveItLink\" href=\"../a9700a1f7e2dee9b5aade1058eca59e9092903790/expr.ipynb\"><img src=\"../a9700a1f7e2dee9b5aade1058eca59e9092903790/expr.png\" style=\"display:inline;vertical-align:middle;\" /></a></td></tr>\n",
       "<tr><td>2</td><td>ExprRange</td><td>lambda_map:&nbsp;5<br>start_index:&nbsp;10<br>end_index:&nbsp;6<br></td><td><a class=\"ProveItLink\" href=\"../411afe64f58964f4eb6bfe059a506d151bb19f680/expr.ipynb\"><img src=\"../411afe64f58964f4eb6bfe059a506d151bb19f680/expr.png\" style=\"display:inline;vertical-align:middle;\" /></a></td></tr>\n",
       "<tr><td>3</td><td>ExprRange</td><td>lambda_map:&nbsp;7<br>start_index:&nbsp;10<br>end_index:&nbsp;8<br></td><td><a class=\"ProveItLink\" href=\"../b58a7d4fcad4c8607c12077ea32b26d6976cf5b00/expr.ipynb\"><img src=\"../b58a7d4fcad4c8607c12077ea32b26d6976cf5b00/expr.png\" style=\"display:inline;vertical-align:middle;\" /></a></td></tr>\n",
       "<tr><td>4</td><td>ExprRange</td><td>lambda_map:&nbsp;9<br>start_index:&nbsp;10<br>end_index:&nbsp;11<br></td><td><a class=\"ProveItLink\" href=\"../c9efef2d4ece5edaf1f4b1277c9dff0064922f840/expr.ipynb\"><img src=\"../c9efef2d4ece5edaf1f4b1277c9dff0064922f840/expr.png\" style=\"display:inline;vertical-align:middle;\" /></a></td></tr>\n",
       "<tr><td>5</td><td>Lambda</td><td>parameter:&nbsp;33<br>body:&nbsp;12<br></td><td><a class=\"ProveItLink\" href=\"../47b3cc7997f06424ab9a1dbc539ea5d4d2b964db0/expr.ipynb\"><img src=\"../47b3cc7997f06424ab9a1dbc539ea5d4d2b964db0/expr.png\" style=\"display:inline;vertical-align:middle;\" /></a></td></tr>\n",
       "<tr><td>6</td><td>Variable</td><td></td><td><a class=\"ProveItLink\" href=\"../../../../../__pv_it/common/96ac097ea7ee432328a5e933062d0ef407701bf40/expr.ipynb\"><img src=\"../../../../../__pv_it/common/96ac097ea7ee432328a5e933062d0ef407701bf40/expr.png\" style=\"display:inline;vertical-align:middle;\" /></a></td></tr>\n",
       "<tr><td>7</td><td>Lambda</td><td>parameter:&nbsp;33<br>body:&nbsp;13<br></td><td><a class=\"ProveItLink\" href=\"../979650bf52a6fe22fc98823611a926309a09e5020/expr.ipynb\"><img src=\"../979650bf52a6fe22fc98823611a926309a09e5020/expr.png\" style=\"display:inline;vertical-align:middle;\" /></a></td></tr>\n",
       "<tr><td>8</td><td>Variable</td><td></td><td><a class=\"ProveItLink\" href=\"../../../../../__pv_it/common/f13b5f19f59b59184c9a6a576c072499648aa8a80/expr.ipynb\"><img src=\"../../../../../__pv_it/common/f13b5f19f59b59184c9a6a576c072499648aa8a80/expr.png\" style=\"display:inline;vertical-align:middle;\" /></a></td></tr>\n",
       "<tr><td>9</td><td>Lambda</td><td>parameter:&nbsp;33<br>body:&nbsp;14<br></td><td><a class=\"ProveItLink\" href=\"../d138d855a461d9728bd03b7e60c7649da1973ab60/expr.ipynb\"><img src=\"../d138d855a461d9728bd03b7e60c7649da1973ab60/expr.png\" style=\"display:inline;vertical-align:middle;\" /></a></td></tr>\n",
       "<tr><td>10</td><td>Literal</td><td></td><td><a class=\"ProveItLink\" href=\"../../../../../numbers/numerals/__pv_it/common/2778428c7f555b2bdc06aa0530bc142c6e6335100/expr.ipynb\"><img src=\"../../../../../numbers/numerals/__pv_it/common/2778428c7f555b2bdc06aa0530bc142c6e6335100/expr.png\" style=\"display:inline;vertical-align:middle;\" /></a></td></tr>\n",
       "<tr><td>11</td><td>Variable</td><td></td><td><a class=\"ProveItLink\" href=\"../../../../../__pv_it/common/63b7c64bf9ec7a04ecc396c7a1670f3f12fb59490/expr.ipynb\"><img src=\"../../../../../__pv_it/common/63b7c64bf9ec7a04ecc396c7a1670f3f12fb59490/expr.png\" style=\"display:inline;vertical-align:middle;\" /></a></td></tr>\n",
       "<tr><td>12</td><td>Operation</td><td>operator:&nbsp;17<br>operands:&nbsp;15<br></td><td><a class=\"ProveItLink\" href=\"../26e99516e667e203496a5bf667486e35cf108c040/expr.ipynb\"><img src=\"../26e99516e667e203496a5bf667486e35cf108c040/expr.png\" style=\"display:inline;vertical-align:middle;\" /></a></td></tr>\n",
       "<tr><td>13</td><td>Operation</td><td>operator:&nbsp;17<br>operands:&nbsp;16<br></td><td><a class=\"ProveItLink\" href=\"../5fc0d0ab86a43e848aee7aea78ab8fb60a83b6740/expr.ipynb\"><img src=\"../5fc0d0ab86a43e848aee7aea78ab8fb60a83b6740/expr.png\" style=\"display:inline;vertical-align:middle;\" /></a></td></tr>\n",
       "<tr><td>14</td><td>Operation</td><td>operator:&nbsp;17<br>operands:&nbsp;18<br></td><td><a class=\"ProveItLink\" href=\"../a8ed2f4327ae36d694433845276d7d33174646c20/expr.ipynb\"><img src=\"../a8ed2f4327ae36d694433845276d7d33174646c20/expr.png\" style=\"display:inline;vertical-align:middle;\" /></a></td></tr>\n",
       "<tr><td>15</td><td>ExprTuple</td><td>19, 20</td><td><a class=\"ProveItLink\" href=\"../242237104543bf69d3e0faeeef00a444164263a60/expr.ipynb\"><img src=\"../242237104543bf69d3e0faeeef00a444164263a60/expr.png\" style=\"display:inline;vertical-align:middle;\" /></a></td></tr>\n",
       "<tr><td>16</td><td>ExprTuple</td><td>21, 22</td><td><a class=\"ProveItLink\" href=\"../39b588f1a727964c55be54926793e9422d3fc2eb0/expr.ipynb\"><img src=\"../39b588f1a727964c55be54926793e9422d3fc2eb0/expr.png\" style=\"display:inline;vertical-align:middle;\" /></a></td></tr>\n",
       "<tr><td>17</td><td>Literal</td><td></td><td><a class=\"ProveItLink\" href=\"../../common/7e400d333e3c53d1c3dd14244e4b33f4cea327190/expr.ipynb\"><img src=\"../../common/7e400d333e3c53d1c3dd14244e4b33f4cea327190/expr.png\" style=\"display:inline;vertical-align:middle;\" /></a></td></tr>\n",
       "<tr><td>18</td><td>ExprTuple</td><td>23, 24</td><td><a class=\"ProveItLink\" href=\"../5c06b8e54c784e25b3b2e166c980fe93af8eb2fd0/expr.ipynb\"><img src=\"../5c06b8e54c784e25b3b2e166c980fe93af8eb2fd0/expr.png\" style=\"display:inline;vertical-align:middle;\" /></a></td></tr>\n",
       "<tr><td>19</td><td>IndexedVar</td><td>variable:&nbsp;25<br>indices:&nbsp;31<br></td><td><a class=\"ProveItLink\" href=\"../../../../../core_expr_types/expr_arrays/__pv_it/common/bf871180f6c3ac509a4191f5fbec465b8d91a2170/expr.ipynb\"><img src=\"../../../../../core_expr_types/expr_arrays/__pv_it/common/bf871180f6c3ac509a4191f5fbec465b8d91a2170/expr.png\" style=\"display:inline;vertical-align:middle;\" /></a></td></tr>\n",
       "<tr><td>20</td><td>IndexedVar</td><td>variable:&nbsp;26<br>indices:&nbsp;31<br></td><td><a class=\"ProveItLink\" href=\"../../../../../core_expr_types/expr_arrays/__pv_it/common/b49c74ce7d6bce5d7cb998aa71b98200ae4857f90/expr.ipynb\"><img src=\"../../../../../core_expr_types/expr_arrays/__pv_it/common/b49c74ce7d6bce5d7cb998aa71b98200ae4857f90/expr.png\" style=\"display:inline;vertical-align:middle;\" /></a></td></tr>\n",
       "<tr><td>21</td><td>IndexedVar</td><td>variable:&nbsp;27<br>indices:&nbsp;31<br></td><td><a class=\"ProveItLink\" href=\"../../../../../core_expr_types/expr_arrays/__pv_it/common/55eb6de2b1eab7bb27324e48925d2b4e02ba7ec00/expr.ipynb\"><img src=\"../../../../../core_expr_types/expr_arrays/__pv_it/common/55eb6de2b1eab7bb27324e48925d2b4e02ba7ec00/expr.png\" style=\"display:inline;vertical-align:middle;\" /></a></td></tr>\n",
       "<tr><td>22</td><td>IndexedVar</td><td>variable:&nbsp;28<br>indices:&nbsp;31<br></td><td><a class=\"ProveItLink\" href=\"../../../../../core_expr_types/expr_arrays/__pv_it/common/9b3ea2d03b0fd20df88a03ba9f28bffc9dd7b1170/expr.ipynb\"><img src=\"../../../../../core_expr_types/expr_arrays/__pv_it/common/9b3ea2d03b0fd20df88a03ba9f28bffc9dd7b1170/expr.png\" style=\"display:inline;vertical-align:middle;\" /></a></td></tr>\n",
       "<tr><td>23</td><td>IndexedVar</td><td>variable:&nbsp;29<br>indices:&nbsp;31<br></td><td><a class=\"ProveItLink\" href=\"../../../../../core_expr_types/expr_arrays/__pv_it/common/7bec3d14c7dbc593c85701588c082b29f96381740/expr.ipynb\"><img src=\"../../../../../core_expr_types/expr_arrays/__pv_it/common/7bec3d14c7dbc593c85701588c082b29f96381740/expr.png\" style=\"display:inline;vertical-align:middle;\" /></a></td></tr>\n",
       "<tr><td>24</td><td>IndexedVar</td><td>variable:&nbsp;30<br>indices:&nbsp;31<br></td><td><a class=\"ProveItLink\" href=\"../../../../../core_expr_types/expr_arrays/__pv_it/common/d75300d9b5f2bcf2057b6b5617d214288f6ad31e0/expr.ipynb\"><img src=\"../../../../../core_expr_types/expr_arrays/__pv_it/common/d75300d9b5f2bcf2057b6b5617d214288f6ad31e0/expr.png\" style=\"display:inline;vertical-align:middle;\" /></a></td></tr>\n",
       "<tr><td>25</td><td>Variable</td><td></td><td><a class=\"ProveItLink\" href=\"../../../../../__pv_it/common/09585084922504426caf1db2ff588a23a0932a960/expr.ipynb\"><img src=\"../../../../../__pv_it/common/09585084922504426caf1db2ff588a23a0932a960/expr.png\" style=\"display:inline;vertical-align:middle;\" /></a></td></tr>\n",
       "<tr><td>26</td><td>Variable</td><td></td><td><a class=\"ProveItLink\" href=\"../../../../../__pv_it/common/de55da274ba0f49c86925fbf3828021c04d27faf0/expr.ipynb\"><img src=\"../../../../../__pv_it/common/de55da274ba0f49c86925fbf3828021c04d27faf0/expr.png\" style=\"display:inline;vertical-align:middle;\" /></a></td></tr>\n",
       "<tr><td>27</td><td>Variable</td><td></td><td><a class=\"ProveItLink\" href=\"../../../../../__pv_it/common/a9162d1c3cc0470c02e5daf414500903a7a419230/expr.ipynb\"><img src=\"../../../../../__pv_it/common/a9162d1c3cc0470c02e5daf414500903a7a419230/expr.png\" style=\"display:inline;vertical-align:middle;\" /></a></td></tr>\n",
       "<tr><td>28</td><td>Variable</td><td></td><td><a class=\"ProveItLink\" href=\"../../../../../__pv_it/common/d72bb8b07403efe79afab564c36a28e21330e5f90/expr.ipynb\"><img src=\"../../../../../__pv_it/common/d72bb8b07403efe79afab564c36a28e21330e5f90/expr.png\" style=\"display:inline;vertical-align:middle;\" /></a></td></tr>\n",
       "<tr><td>29</td><td>Variable</td><td></td><td><a class=\"ProveItLink\" href=\"../../../../../__pv_it/common/9fba9f29e823606ff4fdf2f1c6d5d08d906e850a0/expr.ipynb\"><img src=\"../../../../../__pv_it/common/9fba9f29e823606ff4fdf2f1c6d5d08d906e850a0/expr.png\" style=\"display:inline;vertical-align:middle;\" /></a></td></tr>\n",
       "<tr><td>30</td><td>Variable</td><td></td><td><a class=\"ProveItLink\" href=\"../../../../../__pv_it/common/647ca33d6b96e29d5aa85a15d2241c7ebd0c6e4b0/expr.ipynb\"><img src=\"../../../../../__pv_it/common/647ca33d6b96e29d5aa85a15d2241c7ebd0c6e4b0/expr.png\" style=\"display:inline;vertical-align:middle;\" /></a></td></tr>\n",
       "<tr><td>31</td><td>ExprTuple</td><td>32, 33</td><td><a class=\"ProveItLink\" href=\"../../../../../core_expr_types/expr_arrays/__pv_it/common/8089472df1a928dd45ace3fd9d98b01b2f1756ad0/expr.ipynb\"><img src=\"../../../../../core_expr_types/expr_arrays/__pv_it/common/8089472df1a928dd45ace3fd9d98b01b2f1756ad0/expr.png\" style=\"display:inline;vertical-align:middle;\" /></a></td></tr>\n",
       "<tr><td>32</td><td>Variable</td><td></td><td><a class=\"ProveItLink\" href=\"../../../../../__pv_it/common/ae955345c83abf786c3aff8681cd5465beae262d0/expr.ipynb\"><img src=\"../../../../../__pv_it/common/ae955345c83abf786c3aff8681cd5465beae262d0/expr.png\" style=\"display:inline;vertical-align:middle;\" /></a></td></tr>\n",
       "<tr><td>33</td><td>Variable</td><td></td><td><a class=\"ProveItLink\" href=\"../../../../../__pv_it/common/1ed21df18baca2f42b561a7ffbf30a2743d594650/expr.ipynb\"><img src=\"../../../../../__pv_it/common/1ed21df18baca2f42b561a7ffbf30a2743d594650/expr.png\" style=\"display:inline;vertical-align:middle;\" /></a></td></tr>\n",
       "</table>\n"
      ],
      "text/plain": [
       "0. i -> (MultiQubitGate(A_{i, 1}, P_{i, 1}), ..MultiQubitGate(A_{i, j}, P_{i, j}).., MultiQubitGate(A_{i, g}, P_{i, g}), MultiQubitGate(B_{i, 1}, Q_{i, 1}), ..MultiQubitGate(B_{i, j}, Q_{i, j}).., MultiQubitGate(B_{i, h}, Q_{i, h}), MultiQubitGate(C_{i, 1}, R_{i, 1}), ..MultiQubitGate(C_{i, j}, R_{i, j}).., MultiQubitGate(C_{i, k}, R_{i, k}))\n",
       "   core type: Lambda\n",
       "   parameter: 32\n",
       "   body: 1\n",
       "1. (MultiQubitGate(A_{i, 1}, P_{i, 1}), ..MultiQubitGate(A_{i, j}, P_{i, j}).., MultiQubitGate(A_{i, g}, P_{i, g}), MultiQubitGate(B_{i, 1}, Q_{i, 1}), ..MultiQubitGate(B_{i, j}, Q_{i, j}).., MultiQubitGate(B_{i, h}, Q_{i, h}), MultiQubitGate(C_{i, 1}, R_{i, 1}), ..MultiQubitGate(C_{i, j}, R_{i, j}).., MultiQubitGate(C_{i, k}, R_{i, k}))\n",
       "   core type: ExprTuple\n",
       "   sub-expressions: 2, 3, 4\n",
       "2. MultiQubitGate(A_{i, 1}, P_{i, 1}), ..MultiQubitGate(A_{i, j}, P_{i, j}).., MultiQubitGate(A_{i, g}, P_{i, g})\n",
       "   core type: ExprRange\n",
       "   lambda_map: 5\n",
       "   start_index: 10\n",
       "   end_index: 6\n",
       "3. MultiQubitGate(B_{i, 1}, Q_{i, 1}), ..MultiQubitGate(B_{i, j}, Q_{i, j}).., MultiQubitGate(B_{i, h}, Q_{i, h})\n",
       "   core type: ExprRange\n",
       "   lambda_map: 7\n",
       "   start_index: 10\n",
       "   end_index: 8\n",
       "4. MultiQubitGate(C_{i, 1}, R_{i, 1}), ..MultiQubitGate(C_{i, j}, R_{i, j}).., MultiQubitGate(C_{i, k}, R_{i, k})\n",
       "   core type: ExprRange\n",
       "   lambda_map: 9\n",
       "   start_index: 10\n",
       "   end_index: 11\n",
       "5. j -> MultiQubitGate(A_{i, j}, P_{i, j})\n",
       "   core type: Lambda\n",
       "   parameter: 33\n",
       "   body: 12\n",
       "6. g\n",
       "   core type: Variable\n",
       "   sub-expressions: \n",
       "7. j -> MultiQubitGate(B_{i, j}, Q_{i, j})\n",
       "   core type: Lambda\n",
       "   parameter: 33\n",
       "   body: 13\n",
       "8. h\n",
       "   core type: Variable\n",
       "   sub-expressions: \n",
       "9. j -> MultiQubitGate(C_{i, j}, R_{i, j})\n",
       "   core type: Lambda\n",
       "   parameter: 33\n",
       "   body: 14\n",
       "10. 1\n",
       "    core type: Literal\n",
       "    sub-expressions: \n",
       "11. k\n",
       "    core type: Variable\n",
       "    sub-expressions: \n",
       "12. MultiQubitGate(A_{i, j}, P_{i, j})\n",
       "    core type: Operation\n",
       "    operator: 17\n",
       "    operands: 15\n",
       "13. MultiQubitGate(B_{i, j}, Q_{i, j})\n",
       "    core type: Operation\n",
       "    operator: 17\n",
       "    operands: 16\n",
       "14. MultiQubitGate(C_{i, j}, R_{i, j})\n",
       "    core type: Operation\n",
       "    operator: 17\n",
       "    operands: 18\n",
       "15. (A_{i, j}, P_{i, j})\n",
       "    core type: ExprTuple\n",
       "    sub-expressions: 19, 20\n",
       "16. (B_{i, j}, Q_{i, j})\n",
       "    core type: ExprTuple\n",
       "    sub-expressions: 21, 22\n",
       "17. MULTI_QUBIT_GATE\n",
       "    core type: Literal\n",
       "    sub-expressions: \n",
       "18. (C_{i, j}, R_{i, j})\n",
       "    core type: ExprTuple\n",
       "    sub-expressions: 23, 24\n",
       "19. A_{i, j}\n",
       "    core type: IndexedVar\n",
       "variable: 25\n",
       "indices: 31\n",
       "20. P_{i, j}\n",
       "    core type: IndexedVar\n",
       "variable: 26\n",
       "indices: 31\n",
       "21. B_{i, j}\n",
       "    core type: IndexedVar\n",
       "variable: 27\n",
       "indices: 31\n",
       "22. Q_{i, j}\n",
       "    core type: IndexedVar\n",
       "variable: 28\n",
       "indices: 31\n",
       "23. C_{i, j}\n",
       "    core type: IndexedVar\n",
       "variable: 29\n",
       "indices: 31\n",
       "24. R_{i, j}\n",
       "    core type: IndexedVar\n",
       "variable: 30\n",
       "indices: 31\n",
       "25. A\n",
       "    core type: Variable\n",
       "    sub-expressions: \n",
       "26. P\n",
       "    core type: Variable\n",
       "    sub-expressions: \n",
       "27. B\n",
       "    core type: Variable\n",
       "    sub-expressions: \n",
       "28. Q\n",
       "    core type: Variable\n",
       "    sub-expressions: \n",
       "29. C\n",
       "    core type: Variable\n",
       "    sub-expressions: \n",
       "30. R\n",
       "    core type: Variable\n",
       "    sub-expressions: \n",
       "31. (i, j)\n",
       "    core type: ExprTuple\n",
       "    sub-expressions: 32, 33\n",
       "32. i\n",
       "    core type: Variable\n",
       "    sub-expressions: \n",
       "33. j\n",
       "    core type: Variable\n",
       "    sub-expressions: "
      ]
     },
     "execution_count": 5,
     "metadata": {},
     "output_type": "execute_result"
    }
   ],
   "source": [
    "# display the expression information\n",
    "expr.expr_info()"
   ]
  },
  {
   "cell_type": "code",
   "execution_count": null,
   "metadata": {},
   "outputs": [],
   "source": []
  }
 ],
 "metadata": {
  "kernelspec": {
   "display_name": "Python 3",
   "language": "python",
   "name": "python3"
  }
 },
 "nbformat": 4,
 "nbformat_minor": 0
}