{
 "cells": [
  {
   "cell_type": "markdown",
   "metadata": {},
   "source": [
    "Expression of type <a class=\"ProveItLink\" href=\"../../../../../../../doc/html/api/proveit.ExprArray.html\">ExprArray</a>\n",
    "=======================\n",
    "# from the theory of <a class=\"ProveItLink\" href=\"../../../_theory_nbs_/theory.ipynb\">proveit.physics.quantum</a>"
   ]
  },
  {
   "cell_type": "code",
   "execution_count": 1,
   "metadata": {},
   "outputs": [],
   "source": [
    "import proveit\n",
    "# Automation is not needed when building an expression:\n",
    "proveit.defaults.automation = False # This will speed things up.\n",
    "proveit.defaults.inline_pngs = False # Makes files smaller.\n",
    "%load_expr # Load the stored expression as 'stored_expr'\n",
    "# import Expression classes needed to build the expression\n",
    "from proveit import ExprArray\n",
    "from proveit.logic import Set\n",
    "from proveit.numbers import four, one, three, two\n",
    "from proveit.physics.quantum import CLASSICAL_CONTROL, Input, Output, SPACE, X, ket0, ket1\n",
    "from proveit.physics.quantum.circuit import MultiQubitGate"
   ]
  },
  {
   "cell_type": "code",
   "execution_count": 2,
   "metadata": {},
   "outputs": [
    {
     "data": {
      "text/html": [
       "<strong id=\"expr\">expr:</strong> <a class=\"ProveItLink\" href=\"expr.ipynb\"><img src=\"expr.png\" style=\"display:inline;vertical-align:middle;\" /></a><br>"
      ],
      "text/plain": [
       "expr: Input(1) & MultiQubitGate(CLASSICAL\\_CONTROL, {1, 2}) & SPACE  \\\\ \n",
       "  Input(|0〉) & MultiQubitGate(X, {1, 2}) & Output(|1〉)  \\\\ \n",
       "  Input(1) & MultiQubitGate(CLASSICAL\\_CONTROL, {3, 4}) & SPACE  \\\\ \n",
       "  Input(|1〉) & MultiQubitGate(X, {3, 4}) & Output(|0〉)"
      ]
     },
     "execution_count": 2,
     "metadata": {},
     "output_type": "execute_result"
    }
   ],
   "source": [
    "# build up the expression from sub-expressions\n",
    "sub_expr1 = Input(one)\n",
    "sub_expr2 = Set(one, two)\n",
    "sub_expr3 = Set(three, four)\n",
    "expr = ExprArray([sub_expr1, MultiQubitGate(CLASSICAL_CONTROL, sub_expr2), SPACE], [Input(ket0), MultiQubitGate(X, sub_expr2), Output(ket1)], [sub_expr1, MultiQubitGate(CLASSICAL_CONTROL, sub_expr3), SPACE], [Input(ket1), MultiQubitGate(X, sub_expr3), Output(ket0)])"
   ]
  },
  {
   "cell_type": "code",
   "execution_count": 3,
   "metadata": {},
   "outputs": [
    {
     "name": "stdout",
     "output_type": "stream",
     "text": [
      "Passed sanity check: expr matches stored_expr\n"
     ]
    }
   ],
   "source": [
    "# check that the built expression is the same as the stored expression\n",
    "assert expr == stored_expr\n",
    "assert expr._style_id == stored_expr._style_id\n",
    "print(\"Passed sanity check: expr matches stored_expr\")"
   ]
  },
  {
   "cell_type": "code",
   "execution_count": 4,
   "metadata": {},
   "outputs": [
    {
     "name": "stdout",
     "output_type": "stream",
     "text": [
      "\\begin{array} {ccc} \n",
      " \\hspace{2em} \\Qcircuit@C=1em @R=.7em{\n",
      "& \\lstick{1} \n",
      "} \\hspace{2em} & \\hspace{2em} \\Qcircuit@C=1em @R=.7em{\n",
      "& \\control \\cw \n",
      "} \\hspace{2em} & SPACE  \\\\ \n",
      "  \\hspace{2em} \\Qcircuit@C=1em @R=.7em{\n",
      "& \\lstick{\\lvert 0 \\rangle} \n",
      "} \\hspace{2em} & \\hspace{2em} \\Qcircuit@C=1em @R=.7em{\n",
      "& X \n",
      "} \\hspace{2em} & \\hspace{2em} \\Qcircuit@C=1em @R=.7em{\n",
      "& \\rstick{\\lvert 1 \\rangle} \\qw \n",
      "} \\hspace{2em}  \\\\ \n",
      "  \\hspace{2em} \\Qcircuit@C=1em @R=.7em{\n",
      "& \\lstick{1} \n",
      "} \\hspace{2em} & \\hspace{2em} \\Qcircuit@C=1em @R=.7em{\n",
      "& \\control \\cw \n",
      "} \\hspace{2em} & SPACE  \\\\ \n",
      "  \\hspace{2em} \\Qcircuit@C=1em @R=.7em{\n",
      "& \\lstick{\\lvert 1 \\rangle} \n",
      "} \\hspace{2em} & \\hspace{2em} \\Qcircuit@C=1em @R=.7em{\n",
      "& X \n",
      "} \\hspace{2em} & \\hspace{2em} \\Qcircuit@C=1em @R=.7em{\n",
      "& \\rstick{\\lvert 0 \\rangle} \\qw \n",
      "} \\hspace{2em} \\end{array} \n",
      "\n"
     ]
    }
   ],
   "source": [
    "# Show the LaTeX representation of the expression for convenience if you need it.\n",
    "print(expr.latex())"
   ]
  },
  {
   "cell_type": "code",
   "execution_count": 5,
   "metadata": {},
   "outputs": [
    {
     "data": {
      "text/html": [
       "<table><tr><th>&nbsp;</th><th>core type</th><th>sub-expressions</th><th>expression</th></tr>\n",
       "<tr><td>0</td><td>ExprTuple</td><td>1, 2, 3, 4</td><td><a class=\"ProveItLink\" href=\"expr.ipynb\"><img src=\"expr.png\" style=\"display:inline;vertical-align:middle;\" /></a></td></tr>\n",
       "<tr><td>1</td><td>ExprTuple</td><td>9, 5, 11</td><td><a class=\"ProveItLink\" href=\"../4a7450a8e05271182837c36cf49bfd6df41ca5c50/expr.ipynb\"><img src=\"../4a7450a8e05271182837c36cf49bfd6df41ca5c50/expr.png\" style=\"display:inline;vertical-align:middle;\" /></a></td></tr>\n",
       "<tr><td>2</td><td>ExprTuple</td><td>6, 7, 8</td><td><a class=\"ProveItLink\" href=\"../ad76e62f09740f82bea8b2c365901777bd0002a80/expr.ipynb\"><img src=\"../ad76e62f09740f82bea8b2c365901777bd0002a80/expr.png\" style=\"display:inline;vertical-align:middle;\" /></a></td></tr>\n",
       "<tr><td>3</td><td>ExprTuple</td><td>9, 10, 11</td><td><a class=\"ProveItLink\" href=\"../2881f1949daef654918a4b5e2f67d2453b55d1820/expr.ipynb\"><img src=\"../2881f1949daef654918a4b5e2f67d2453b55d1820/expr.png\" style=\"display:inline;vertical-align:middle;\" /></a></td></tr>\n",
       "<tr><td>4</td><td>ExprTuple</td><td>12, 13, 14</td><td><a class=\"ProveItLink\" href=\"../65ab74f658658c0e3a91e46d27d7e6bc6ee21fe50/expr.ipynb\"><img src=\"../65ab74f658658c0e3a91e46d27d7e6bc6ee21fe50/expr.png\" style=\"display:inline;vertical-align:middle;\" /></a></td></tr>\n",
       "<tr><td>5</td><td>Operation</td><td>operator:&nbsp;20<br>operands:&nbsp;15<br></td><td><a class=\"ProveItLink\" href=\"../30675b7ed4c49802814df930f13411a0c62d69ec0/expr.ipynb\"><img src=\"../30675b7ed4c49802814df930f13411a0c62d69ec0/expr.png\" style=\"display:inline;vertical-align:middle;\" /></a></td></tr>\n",
       "<tr><td>6</td><td>Operation</td><td>operator:&nbsp;18<br>operand:&nbsp;23<br></td><td><a class=\"ProveItLink\" href=\"../2fc4327d42851bc04ea1e04bb5f79e63417e61780/expr.ipynb\"><img src=\"../2fc4327d42851bc04ea1e04bb5f79e63417e61780/expr.png\" style=\"display:inline;vertical-align:middle;\" /></a></td></tr>\n",
       "<tr><td>7</td><td>Operation</td><td>operator:&nbsp;20<br>operands:&nbsp;16<br></td><td><a class=\"ProveItLink\" href=\"../aabc4f8ec10c1c6954e10e74cce18529971a988b0/expr.ipynb\"><img src=\"../aabc4f8ec10c1c6954e10e74cce18529971a988b0/expr.png\" style=\"display:inline;vertical-align:middle;\" /></a></td></tr>\n",
       "<tr><td>8</td><td>Operation</td><td>operator:&nbsp;22<br>operand:&nbsp;19<br></td><td><a class=\"ProveItLink\" href=\"../d07c155e6ddddfb87a189260227b472792d3c7740/expr.ipynb\"><img src=\"../d07c155e6ddddfb87a189260227b472792d3c7740/expr.png\" style=\"display:inline;vertical-align:middle;\" /></a></td></tr>\n",
       "<tr><td>9</td><td>Operation</td><td>operator:&nbsp;18<br>operand:&nbsp;33<br></td><td><a class=\"ProveItLink\" href=\"../3fd7cfff65a21b5f539c14696ab09137f33bdca90/expr.ipynb\"><img src=\"../3fd7cfff65a21b5f539c14696ab09137f33bdca90/expr.png\" style=\"display:inline;vertical-align:middle;\" /></a></td></tr>\n",
       "<tr><td>10</td><td>Operation</td><td>operator:&nbsp;20<br>operands:&nbsp;17<br></td><td><a class=\"ProveItLink\" href=\"../b57f13323d6279dae7176f946c4752a9d067c42d0/expr.ipynb\"><img src=\"../b57f13323d6279dae7176f946c4752a9d067c42d0/expr.png\" style=\"display:inline;vertical-align:middle;\" /></a></td></tr>\n",
       "<tr><td>11</td><td>Literal</td><td></td><td><a class=\"ProveItLink\" href=\"../../common/da64fd011a176dba524c15edb4c0c73d9ce4b38f0/expr.ipynb\"><img src=\"../../common/da64fd011a176dba524c15edb4c0c73d9ce4b38f0/expr.png\" style=\"display:inline;vertical-align:middle;\" /></a></td></tr>\n",
       "<tr><td>12</td><td>Operation</td><td>operator:&nbsp;18<br>operand:&nbsp;19<br></td><td><a class=\"ProveItLink\" href=\"../5f3186ad8fe02adc257d00f2c4878165520392290/expr.ipynb\"><img src=\"../5f3186ad8fe02adc257d00f2c4878165520392290/expr.png\" style=\"display:inline;vertical-align:middle;\" /></a></td></tr>\n",
       "<tr><td>13</td><td>Operation</td><td>operator:&nbsp;20<br>operands:&nbsp;21<br></td><td><a class=\"ProveItLink\" href=\"../46ac5f1a1f10b2caacef8819cb77ee47b1af427d0/expr.ipynb\"><img src=\"../46ac5f1a1f10b2caacef8819cb77ee47b1af427d0/expr.png\" style=\"display:inline;vertical-align:middle;\" /></a></td></tr>\n",
       "<tr><td>14</td><td>Operation</td><td>operator:&nbsp;22<br>operand:&nbsp;23<br></td><td><a class=\"ProveItLink\" href=\"../7255b3eab6f5cfb2e6cfacd027189d6604cf92c90/expr.ipynb\"><img src=\"../7255b3eab6f5cfb2e6cfacd027189d6604cf92c90/expr.png\" style=\"display:inline;vertical-align:middle;\" /></a></td></tr>\n",
       "<tr><td>15</td><td>ExprTuple</td><td>25, 24</td><td><a class=\"ProveItLink\" href=\"../81bb34554d2a41a476328393589dc29ea244c16d0/expr.ipynb\"><img src=\"../81bb34554d2a41a476328393589dc29ea244c16d0/expr.png\" style=\"display:inline;vertical-align:middle;\" /></a></td></tr>\n",
       "<tr><td>16</td><td>ExprTuple</td><td>26, 24</td><td><a class=\"ProveItLink\" href=\"../2b73e136bdc954c7876b994972acf2d56f6ac3ed0/expr.ipynb\"><img src=\"../2b73e136bdc954c7876b994972acf2d56f6ac3ed0/expr.png\" style=\"display:inline;vertical-align:middle;\" /></a></td></tr>\n",
       "<tr><td>17</td><td>ExprTuple</td><td>25, 27</td><td><a class=\"ProveItLink\" href=\"../40678cb29d0adac7bf3eb753e6b00ec90b0c9c960/expr.ipynb\"><img src=\"../40678cb29d0adac7bf3eb753e6b00ec90b0c9c960/expr.png\" style=\"display:inline;vertical-align:middle;\" /></a></td></tr>\n",
       "<tr><td>18</td><td>Literal</td><td></td><td><a class=\"ProveItLink\" href=\"../../common/75fe2e9c3de87ae2358442c50cf12e606184c7e30/expr.ipynb\"><img src=\"../../common/75fe2e9c3de87ae2358442c50cf12e606184c7e30/expr.png\" style=\"display:inline;vertical-align:middle;\" /></a></td></tr>\n",
       "<tr><td>19</td><td>Operation</td><td>operator:&nbsp;28<br>operand:&nbsp;33<br></td><td><a class=\"ProveItLink\" href=\"../../common/ebfae6b74c0021e21daf83105eb14e31dba466620/expr.ipynb\"><img src=\"../../common/ebfae6b74c0021e21daf83105eb14e31dba466620/expr.png\" style=\"display:inline;vertical-align:middle;\" /></a></td></tr>\n",
       "<tr><td>20</td><td>Literal</td><td></td><td><a class=\"ProveItLink\" href=\"../../common/7e400d333e3c53d1c3dd14244e4b33f4cea327190/expr.ipynb\"><img src=\"../../common/7e400d333e3c53d1c3dd14244e4b33f4cea327190/expr.png\" style=\"display:inline;vertical-align:middle;\" /></a></td></tr>\n",
       "<tr><td>21</td><td>ExprTuple</td><td>26, 27</td><td><a class=\"ProveItLink\" href=\"../7bd608facc72fed6d8ecbab26d9df2a5ce0c78bd0/expr.ipynb\"><img src=\"../7bd608facc72fed6d8ecbab26d9df2a5ce0c78bd0/expr.png\" style=\"display:inline;vertical-align:middle;\" /></a></td></tr>\n",
       "<tr><td>22</td><td>Literal</td><td></td><td><a class=\"ProveItLink\" href=\"../../common/0f9100059d781d861feb56714a679b7a44ddec710/expr.ipynb\"><img src=\"../../common/0f9100059d781d861feb56714a679b7a44ddec710/expr.png\" style=\"display:inline;vertical-align:middle;\" /></a></td></tr>\n",
       "<tr><td>23</td><td>Operation</td><td>operator:&nbsp;28<br>operand:&nbsp;29<br></td><td><a class=\"ProveItLink\" href=\"../../common/5f63a03bfc82b7258c791cd7eef6d6305fc125e50/expr.ipynb\"><img src=\"../../common/5f63a03bfc82b7258c791cd7eef6d6305fc125e50/expr.png\" style=\"display:inline;vertical-align:middle;\" /></a></td></tr>\n",
       "<tr><td>24</td><td>Operation</td><td>operator:&nbsp;31<br>operands:&nbsp;30<br></td><td><a class=\"ProveItLink\" href=\"../6d2e6228174cb3bf8cf9e7f15237d2afe8f4e6700/expr.ipynb\"><img src=\"../6d2e6228174cb3bf8cf9e7f15237d2afe8f4e6700/expr.png\" style=\"display:inline;vertical-align:middle;\" /></a></td></tr>\n",
       "<tr><td>25</td><td>Literal</td><td></td><td><a class=\"ProveItLink\" href=\"../../common/a2476a354616e7dd3d0a3ab483bda8f7bd0ec7210/expr.ipynb\"><img src=\"../../common/a2476a354616e7dd3d0a3ab483bda8f7bd0ec7210/expr.png\" style=\"display:inline;vertical-align:middle;\" /></a></td></tr>\n",
       "<tr><td>26</td><td>Literal</td><td></td><td><a class=\"ProveItLink\" href=\"../../common/d428480ac9882b1412f7ede37b71e3a30f3c2e9e0/expr.ipynb\"><img src=\"../../common/d428480ac9882b1412f7ede37b71e3a30f3c2e9e0/expr.png\" style=\"display:inline;vertical-align:middle;\" /></a></td></tr>\n",
       "<tr><td>27</td><td>Operation</td><td>operator:&nbsp;31<br>operands:&nbsp;32<br></td><td><a class=\"ProveItLink\" href=\"../90ea414fa08ab4f2c59b595f423ad191279c7a500/expr.ipynb\"><img src=\"../90ea414fa08ab4f2c59b595f423ad191279c7a500/expr.png\" style=\"display:inline;vertical-align:middle;\" /></a></td></tr>\n",
       "<tr><td>28</td><td>Literal</td><td></td><td><a class=\"ProveItLink\" href=\"../../common/211157ad123e11ebc76ee54e41be13705eefd6800/expr.ipynb\"><img src=\"../../common/211157ad123e11ebc76ee54e41be13705eefd6800/expr.png\" style=\"display:inline;vertical-align:middle;\" /></a></td></tr>\n",
       "<tr><td>29</td><td>Literal</td><td></td><td><a class=\"ProveItLink\" href=\"../../../../../numbers/numerals/__pv_it/common/7d0a36793ffe8d307a5c120ee5598162e8cd2db10/expr.ipynb\"><img src=\"../../../../../numbers/numerals/__pv_it/common/7d0a36793ffe8d307a5c120ee5598162e8cd2db10/expr.png\" style=\"display:inline;vertical-align:middle;\" /></a></td></tr>\n",
       "<tr><td>30</td><td>ExprTuple</td><td>33, 34</td><td><a class=\"ProveItLink\" href=\"../../../../../numbers/numerals/decimals/__pv_it/theorems/95fdce2c03f4c1a2c47c63453ccf25285abc1a5c0/expr.ipynb\"><img src=\"../../../../../numbers/numerals/decimals/__pv_it/theorems/95fdce2c03f4c1a2c47c63453ccf25285abc1a5c0/expr.png\" style=\"display:inline;vertical-align:middle;\" /></a></td></tr>\n",
       "<tr><td>31</td><td>Literal</td><td></td><td><a class=\"ProveItLink\" href=\"../../../../../logic/sets/enumeration/__pv_it/common/0ead90ccbf4f17bc585a51f8aa904bb77916ae6e0/expr.ipynb\"><img src=\"../../../../../logic/sets/enumeration/__pv_it/common/0ead90ccbf4f17bc585a51f8aa904bb77916ae6e0/expr.png\" style=\"display:inline;vertical-align:middle;\" /></a></td></tr>\n",
       "<tr><td>32</td><td>ExprTuple</td><td>35, 36</td><td><a class=\"ProveItLink\" href=\"../../../../../numbers/numerals/decimals/__pv_it/theorems/70c3e4143874f9f0f1f3d6a66c8e496179147e9d0/expr.ipynb\"><img src=\"../../../../../numbers/numerals/decimals/__pv_it/theorems/70c3e4143874f9f0f1f3d6a66c8e496179147e9d0/expr.png\" style=\"display:inline;vertical-align:middle;\" /></a></td></tr>\n",
       "<tr><td>33</td><td>Literal</td><td></td><td><a class=\"ProveItLink\" href=\"../../../../../numbers/numerals/__pv_it/common/2778428c7f555b2bdc06aa0530bc142c6e6335100/expr.ipynb\"><img src=\"../../../../../numbers/numerals/__pv_it/common/2778428c7f555b2bdc06aa0530bc142c6e6335100/expr.png\" style=\"display:inline;vertical-align:middle;\" /></a></td></tr>\n",
       "<tr><td>34</td><td>Literal</td><td></td><td><a class=\"ProveItLink\" href=\"../../../../../numbers/numerals/__pv_it/common/ba3b059982e8b49413dc653e957beb11e974e4bc0/expr.ipynb\"><img src=\"../../../../../numbers/numerals/__pv_it/common/ba3b059982e8b49413dc653e957beb11e974e4bc0/expr.png\" style=\"display:inline;vertical-align:middle;\" /></a></td></tr>\n",
       "<tr><td>35</td><td>Literal</td><td></td><td><a class=\"ProveItLink\" href=\"../../../../../numbers/numerals/__pv_it/common/0a19a501c0770212f27a044b71e9c626b8ca0bec0/expr.ipynb\"><img src=\"../../../../../numbers/numerals/__pv_it/common/0a19a501c0770212f27a044b71e9c626b8ca0bec0/expr.png\" style=\"display:inline;vertical-align:middle;\" /></a></td></tr>\n",
       "<tr><td>36</td><td>Literal</td><td></td><td><a class=\"ProveItLink\" href=\"../../../../../numbers/numerals/__pv_it/common/705198ce7fd3ec620275e02d9e1fa1bcf7f141270/expr.ipynb\"><img src=\"../../../../../numbers/numerals/__pv_it/common/705198ce7fd3ec620275e02d9e1fa1bcf7f141270/expr.png\" style=\"display:inline;vertical-align:middle;\" /></a></td></tr>\n",
       "</table>\n"
      ],
      "text/plain": [
       "0. Input(1) & MultiQubitGate(CLASSICAL\\_CONTROL, {1, 2}) & SPACE  \\\\ \n",
       "  Input(|0〉) & MultiQubitGate(X, {1, 2}) & Output(|1〉)  \\\\ \n",
       "  Input(1) & MultiQubitGate(CLASSICAL\\_CONTROL, {3, 4}) & SPACE  \\\\ \n",
       "  Input(|1〉) & MultiQubitGate(X, {3, 4}) & Output(|0〉)\n",
       "   core type: ExprTuple\n",
       "   sub-expressions: 1, 2, 3, 4\n",
       "1. (Input(1), MultiQubitGate(CLASSICAL\\_CONTROL, {1, 2}), SPACE)\n",
       "   core type: ExprTuple\n",
       "   sub-expressions: 9, 5, 11\n",
       "2. (Input(|0〉), MultiQubitGate(X, {1, 2}), Output(|1〉))\n",
       "   core type: ExprTuple\n",
       "   sub-expressions: 6, 7, 8\n",
       "3. (Input(1), MultiQubitGate(CLASSICAL\\_CONTROL, {3, 4}), SPACE)\n",
       "   core type: ExprTuple\n",
       "   sub-expressions: 9, 10, 11\n",
       "4. (Input(|1〉), MultiQubitGate(X, {3, 4}), Output(|0〉))\n",
       "   core type: ExprTuple\n",
       "   sub-expressions: 12, 13, 14\n",
       "5. MultiQubitGate(CLASSICAL\\_CONTROL, {1, 2})\n",
       "   core type: Operation\n",
       "   operator: 20\n",
       "   operands: 15\n",
       "6. [INPUT](|0〉)\n",
       "   core type: Operation\n",
       "   operator: 18\n",
       "   operand: 23\n",
       "7. MultiQubitGate(X, {1, 2})\n",
       "   core type: Operation\n",
       "   operator: 20\n",
       "   operands: 16\n",
       "8. [OUTPUT](|1〉)\n",
       "   core type: Operation\n",
       "   operator: 22\n",
       "   operand: 19\n",
       "9. [INPUT](1)\n",
       "   core type: Operation\n",
       "   operator: 18\n",
       "   operand: 33\n",
       "10. MultiQubitGate(CLASSICAL\\_CONTROL, {3, 4})\n",
       "    core type: Operation\n",
       "    operator: 20\n",
       "    operands: 17\n",
       "11. SPACE\n",
       "    core type: Literal\n",
       "    sub-expressions: \n",
       "12. [INPUT](|1〉)\n",
       "    core type: Operation\n",
       "    operator: 18\n",
       "    operand: 19\n",
       "13. MultiQubitGate(X, {3, 4})\n",
       "    core type: Operation\n",
       "    operator: 20\n",
       "    operands: 21\n",
       "14. [OUTPUT](|0〉)\n",
       "    core type: Operation\n",
       "    operator: 22\n",
       "    operand: 23\n",
       "15. (CLASSICAL\\_CONTROL, {1, 2})\n",
       "    core type: ExprTuple\n",
       "    sub-expressions: 25, 24\n",
       "16. (X, {1, 2})\n",
       "    core type: ExprTuple\n",
       "    sub-expressions: 26, 24\n",
       "17. (CLASSICAL\\_CONTROL, {3, 4})\n",
       "    core type: ExprTuple\n",
       "    sub-expressions: 25, 27\n",
       "18. INPUT\n",
       "    core type: Literal\n",
       "    sub-expressions: \n",
       "19. |1〉\n",
       "    core type: Operation\n",
       "    operator: 28\n",
       "    operand: 33\n",
       "20. MULTI_QUBIT_GATE\n",
       "    core type: Literal\n",
       "    sub-expressions: \n",
       "21. (X, {3, 4})\n",
       "    core type: ExprTuple\n",
       "    sub-expressions: 26, 27\n",
       "22. OUTPUT\n",
       "    core type: Literal\n",
       "    sub-expressions: \n",
       "23. |0〉\n",
       "    core type: Operation\n",
       "    operator: 28\n",
       "    operand: 29\n",
       "24. {1, 2}\n",
       "    core type: Operation\n",
       "    operator: 31\n",
       "    operands: 30\n",
       "25. CLASSICAL\\_CONTROL\n",
       "    core type: Literal\n",
       "    sub-expressions: \n",
       "26. X\n",
       "    core type: Literal\n",
       "    sub-expressions: \n",
       "27. {3, 4}\n",
       "    core type: Operation\n",
       "    operator: 31\n",
       "    operands: 32\n",
       "28. KET\n",
       "    core type: Literal\n",
       "    sub-expressions: \n",
       "29. 0\n",
       "    core type: Literal\n",
       "    sub-expressions: \n",
       "30. (1, 2)\n",
       "    core type: ExprTuple\n",
       "    sub-expressions: 33, 34\n",
       "31. Set\n",
       "    core type: Literal\n",
       "    sub-expressions: \n",
       "32. (3, 4)\n",
       "    core type: ExprTuple\n",
       "    sub-expressions: 35, 36\n",
       "33. 1\n",
       "    core type: Literal\n",
       "    sub-expressions: \n",
       "34. 2\n",
       "    core type: Literal\n",
       "    sub-expressions: \n",
       "35. 3\n",
       "    core type: Literal\n",
       "    sub-expressions: \n",
       "36. 4\n",
       "    core type: Literal\n",
       "    sub-expressions: "
      ]
     },
     "execution_count": 5,
     "metadata": {},
     "output_type": "execute_result"
    }
   ],
   "source": [
    "# display the expression information\n",
    "expr.expr_info()"
   ]
  },
  {
   "cell_type": "code",
   "execution_count": null,
   "metadata": {},
   "outputs": [],
   "source": []
  }
 ],
 "metadata": {
  "kernelspec": {
   "display_name": "Python 3",
   "language": "python",
   "name": "python3"
  }
 },
 "nbformat": 4,
 "nbformat_minor": 0
}