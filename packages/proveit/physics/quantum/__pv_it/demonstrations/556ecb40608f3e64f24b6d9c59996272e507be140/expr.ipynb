{
 "cells": [
  {
   "cell_type": "markdown",
   "metadata": {},
   "source": [
    "Expression of type <a class=\"ProveItLink\" href=\"../../../../../../../doc/html/api/proveit.ExprArray.html\">ExprArray</a>\n",
    "=======================\n",
    "# from the theory of <a class=\"ProveItLink\" href=\"../../../_theory_nbs_/theory.ipynb\">proveit.physics.quantum</a>"
   ]
  },
  {
   "cell_type": "code",
   "execution_count": 1,
   "metadata": {},
   "outputs": [],
   "source": [
    "import proveit\n",
    "# Automation is not needed when building an expression:\n",
    "proveit.defaults.automation = False # This will speed things up.\n",
    "proveit.defaults.inline_pngs = False # Makes files smaller.\n",
    "%load_expr # Load the stored expression as 'stored_expr'\n",
    "# import Expression classes needed to build the expression\n",
    "from proveit import ExprArray\n",
    "from proveit.logic import Set\n",
    "from proveit.numbers import four, one, three, two\n",
    "from proveit.physics.quantum import CONTROL, Z\n",
    "from proveit.physics.quantum.circuit import MultiQubitGate"
   ]
  },
  {
   "cell_type": "code",
   "execution_count": 2,
   "metadata": {},
   "outputs": [
    {
     "data": {
      "text/html": [
       "<strong id=\"expr\">expr:</strong> <a class=\"ProveItLink\" href=\"expr.ipynb\"><img src=\"expr.png\" style=\"display:inline;vertical-align:middle;\" /></a><br>"
      ],
      "text/plain": [
       "expr: MultiQubitGate(CONTROL, {1, 2})  \\\\ \n",
       "  MultiQubitGate(Z, {1, 2})  \\\\ \n",
       "  MultiQubitGate(CONTROL, {3, 4})  \\\\ \n",
       "  MultiQubitGate(Z, {3, 4})"
      ]
     },
     "execution_count": 2,
     "metadata": {},
     "output_type": "execute_result"
    }
   ],
   "source": [
    "# build up the expression from sub-expressions\n",
    "sub_expr1 = Set(one, two)\n",
    "sub_expr2 = Set(three, four)\n",
    "expr = ExprArray([MultiQubitGate(CONTROL, sub_expr1)], [MultiQubitGate(Z, sub_expr1)], [MultiQubitGate(CONTROL, sub_expr2)], [MultiQubitGate(Z, sub_expr2)])"
   ]
  },
  {
   "cell_type": "code",
   "execution_count": 3,
   "metadata": {},
   "outputs": [
    {
     "name": "stdout",
     "output_type": "stream",
     "text": [
      "Passed sanity check: expr matches stored_expr\n"
     ]
    }
   ],
   "source": [
    "# check that the built expression is the same as the stored expression\n",
    "assert expr == stored_expr\n",
    "assert expr._style_id == stored_expr._style_id\n",
    "print(\"Passed sanity check: expr matches stored_expr\")"
   ]
  },
  {
   "cell_type": "code",
   "execution_count": 4,
   "metadata": {},
   "outputs": [
    {
     "name": "stdout",
     "output_type": "stream",
     "text": [
      "\\begin{array} {c} \n",
      " \\hspace{2em} \\Qcircuit@C=1em @R=.7em{\n",
      "& \\control \\qw \n",
      "} \\hspace{2em}  \\\\ \n",
      "  \\hspace{2em} \\Qcircuit@C=1em @R=.7em{\n",
      "& Z \n",
      "} \\hspace{2em}  \\\\ \n",
      "  \\hspace{2em} \\Qcircuit@C=1em @R=.7em{\n",
      "& \\control \\qw \n",
      "} \\hspace{2em}  \\\\ \n",
      "  \\hspace{2em} \\Qcircuit@C=1em @R=.7em{\n",
      "& Z \n",
      "} \\hspace{2em} \\end{array} \n",
      "\n"
     ]
    }
   ],
   "source": [
    "# Show the LaTeX representation of the expression for convenience if you need it.\n",
    "print(expr.latex())"
   ]
  },
  {
   "cell_type": "code",
   "execution_count": 5,
   "metadata": {},
   "outputs": [
    {
     "data": {
      "text/html": [
       "<table><tr><th>&nbsp;</th><th>core type</th><th>sub-expressions</th><th>expression</th></tr>\n",
       "<tr><td>0</td><td>ExprTuple</td><td>1, 2, 3, 4</td><td><a class=\"ProveItLink\" href=\"expr.ipynb\"><img src=\"expr.png\" style=\"display:inline;vertical-align:middle;\" /></a></td></tr>\n",
       "<tr><td>1</td><td>ExprTuple</td><td>5</td><td><a class=\"ProveItLink\" href=\"../aabc3161f7fbfa35424ebbc3f8bcc4627c16a5050/expr.ipynb\"><img src=\"../aabc3161f7fbfa35424ebbc3f8bcc4627c16a5050/expr.png\" style=\"display:inline;vertical-align:middle;\" /></a></td></tr>\n",
       "<tr><td>2</td><td>ExprTuple</td><td>6</td><td><a class=\"ProveItLink\" href=\"../64693f62920282c8f78a593092e93815f5c7e5b20/expr.ipynb\"><img src=\"../64693f62920282c8f78a593092e93815f5c7e5b20/expr.png\" style=\"display:inline;vertical-align:middle;\" /></a></td></tr>\n",
       "<tr><td>3</td><td>ExprTuple</td><td>7</td><td><a class=\"ProveItLink\" href=\"../e727457091a9d8ad8ffe776b3567ce0f3580946f0/expr.ipynb\"><img src=\"../e727457091a9d8ad8ffe776b3567ce0f3580946f0/expr.png\" style=\"display:inline;vertical-align:middle;\" /></a></td></tr>\n",
       "<tr><td>4</td><td>ExprTuple</td><td>8</td><td><a class=\"ProveItLink\" href=\"../3d069c871b5a9644be937eb2c859b4ac685dc9700/expr.ipynb\"><img src=\"../3d069c871b5a9644be937eb2c859b4ac685dc9700/expr.png\" style=\"display:inline;vertical-align:middle;\" /></a></td></tr>\n",
       "<tr><td>5</td><td>Operation</td><td>operator:&nbsp;12<br>operands:&nbsp;9<br></td><td><a class=\"ProveItLink\" href=\"../6faddc56821e3102837b2abb2ed4c44419dc894f0/expr.ipynb\"><img src=\"../6faddc56821e3102837b2abb2ed4c44419dc894f0/expr.png\" style=\"display:inline;vertical-align:middle;\" /></a></td></tr>\n",
       "<tr><td>6</td><td>Operation</td><td>operator:&nbsp;12<br>operands:&nbsp;10<br></td><td><a class=\"ProveItLink\" href=\"../efb4ac8694eae124ac63c6c76baa2bd6284317510/expr.ipynb\"><img src=\"../efb4ac8694eae124ac63c6c76baa2bd6284317510/expr.png\" style=\"display:inline;vertical-align:middle;\" /></a></td></tr>\n",
       "<tr><td>7</td><td>Operation</td><td>operator:&nbsp;12<br>operands:&nbsp;11<br></td><td><a class=\"ProveItLink\" href=\"../c1791b403b311ebeee344b0229c7bd19f7f82bbc0/expr.ipynb\"><img src=\"../c1791b403b311ebeee344b0229c7bd19f7f82bbc0/expr.png\" style=\"display:inline;vertical-align:middle;\" /></a></td></tr>\n",
       "<tr><td>8</td><td>Operation</td><td>operator:&nbsp;12<br>operands:&nbsp;13<br></td><td><a class=\"ProveItLink\" href=\"../4c8267e1de6c29c846ae2a406d3811fa5fda90420/expr.ipynb\"><img src=\"../4c8267e1de6c29c846ae2a406d3811fa5fda90420/expr.png\" style=\"display:inline;vertical-align:middle;\" /></a></td></tr>\n",
       "<tr><td>9</td><td>ExprTuple</td><td>15, 14</td><td><a class=\"ProveItLink\" href=\"../db02a7050128bf5aab4ae8a53a774304b894c2010/expr.ipynb\"><img src=\"../db02a7050128bf5aab4ae8a53a774304b894c2010/expr.png\" style=\"display:inline;vertical-align:middle;\" /></a></td></tr>\n",
       "<tr><td>10</td><td>ExprTuple</td><td>16, 14</td><td><a class=\"ProveItLink\" href=\"../94cb6759d079fdab5767d473628284ffbe2182fd0/expr.ipynb\"><img src=\"../94cb6759d079fdab5767d473628284ffbe2182fd0/expr.png\" style=\"display:inline;vertical-align:middle;\" /></a></td></tr>\n",
       "<tr><td>11</td><td>ExprTuple</td><td>15, 17</td><td><a class=\"ProveItLink\" href=\"../36dbaea7c408d07f368d23eda1df9eb3e02bfb3d0/expr.ipynb\"><img src=\"../36dbaea7c408d07f368d23eda1df9eb3e02bfb3d0/expr.png\" style=\"display:inline;vertical-align:middle;\" /></a></td></tr>\n",
       "<tr><td>12</td><td>Literal</td><td></td><td><a class=\"ProveItLink\" href=\"../../common/7e400d333e3c53d1c3dd14244e4b33f4cea327190/expr.ipynb\"><img src=\"../../common/7e400d333e3c53d1c3dd14244e4b33f4cea327190/expr.png\" style=\"display:inline;vertical-align:middle;\" /></a></td></tr>\n",
       "<tr><td>13</td><td>ExprTuple</td><td>16, 17</td><td><a class=\"ProveItLink\" href=\"../89f7fd6ab32ffec66f7dd9a90c5ab99194bc4c420/expr.ipynb\"><img src=\"../89f7fd6ab32ffec66f7dd9a90c5ab99194bc4c420/expr.png\" style=\"display:inline;vertical-align:middle;\" /></a></td></tr>\n",
       "<tr><td>14</td><td>Operation</td><td>operator:&nbsp;19<br>operands:&nbsp;18<br></td><td><a class=\"ProveItLink\" href=\"../6d2e6228174cb3bf8cf9e7f15237d2afe8f4e6700/expr.ipynb\"><img src=\"../6d2e6228174cb3bf8cf9e7f15237d2afe8f4e6700/expr.png\" style=\"display:inline;vertical-align:middle;\" /></a></td></tr>\n",
       "<tr><td>15</td><td>Literal</td><td></td><td><a class=\"ProveItLink\" href=\"../../common/f3dc5d2a12aa7d8cdfd8981d2c35970c615f6b8e0/expr.ipynb\"><img src=\"../../common/f3dc5d2a12aa7d8cdfd8981d2c35970c615f6b8e0/expr.png\" style=\"display:inline;vertical-align:middle;\" /></a></td></tr>\n",
       "<tr><td>16</td><td>Literal</td><td></td><td><a class=\"ProveItLink\" href=\"../../common/2c528f33b8384666a054a8146aa84d2f45cc85490/expr.ipynb\"><img src=\"../../common/2c528f33b8384666a054a8146aa84d2f45cc85490/expr.png\" style=\"display:inline;vertical-align:middle;\" /></a></td></tr>\n",
       "<tr><td>17</td><td>Operation</td><td>operator:&nbsp;19<br>operands:&nbsp;20<br></td><td><a class=\"ProveItLink\" href=\"../90ea414fa08ab4f2c59b595f423ad191279c7a500/expr.ipynb\"><img src=\"../90ea414fa08ab4f2c59b595f423ad191279c7a500/expr.png\" style=\"display:inline;vertical-align:middle;\" /></a></td></tr>\n",
       "<tr><td>18</td><td>ExprTuple</td><td>21, 22</td><td><a class=\"ProveItLink\" href=\"../../../../../numbers/numerals/decimals/__pv_it/theorems/95fdce2c03f4c1a2c47c63453ccf25285abc1a5c0/expr.ipynb\"><img src=\"../../../../../numbers/numerals/decimals/__pv_it/theorems/95fdce2c03f4c1a2c47c63453ccf25285abc1a5c0/expr.png\" style=\"display:inline;vertical-align:middle;\" /></a></td></tr>\n",
       "<tr><td>19</td><td>Literal</td><td></td><td><a class=\"ProveItLink\" href=\"../../../../../logic/sets/enumeration/__pv_it/common/0ead90ccbf4f17bc585a51f8aa904bb77916ae6e0/expr.ipynb\"><img src=\"../../../../../logic/sets/enumeration/__pv_it/common/0ead90ccbf4f17bc585a51f8aa904bb77916ae6e0/expr.png\" style=\"display:inline;vertical-align:middle;\" /></a></td></tr>\n",
       "<tr><td>20</td><td>ExprTuple</td><td>23, 24</td><td><a class=\"ProveItLink\" href=\"../../../../../numbers/numerals/decimals/__pv_it/theorems/70c3e4143874f9f0f1f3d6a66c8e496179147e9d0/expr.ipynb\"><img src=\"../../../../../numbers/numerals/decimals/__pv_it/theorems/70c3e4143874f9f0f1f3d6a66c8e496179147e9d0/expr.png\" style=\"display:inline;vertical-align:middle;\" /></a></td></tr>\n",
       "<tr><td>21</td><td>Literal</td><td></td><td><a class=\"ProveItLink\" href=\"../../../../../numbers/numerals/__pv_it/common/2778428c7f555b2bdc06aa0530bc142c6e6335100/expr.ipynb\"><img src=\"../../../../../numbers/numerals/__pv_it/common/2778428c7f555b2bdc06aa0530bc142c6e6335100/expr.png\" style=\"display:inline;vertical-align:middle;\" /></a></td></tr>\n",
       "<tr><td>22</td><td>Literal</td><td></td><td><a class=\"ProveItLink\" href=\"../../../../../numbers/numerals/__pv_it/common/ba3b059982e8b49413dc653e957beb11e974e4bc0/expr.ipynb\"><img src=\"../../../../../numbers/numerals/__pv_it/common/ba3b059982e8b49413dc653e957beb11e974e4bc0/expr.png\" style=\"display:inline;vertical-align:middle;\" /></a></td></tr>\n",
       "<tr><td>23</td><td>Literal</td><td></td><td><a class=\"ProveItLink\" href=\"../../../../../numbers/numerals/__pv_it/common/0a19a501c0770212f27a044b71e9c626b8ca0bec0/expr.ipynb\"><img src=\"../../../../../numbers/numerals/__pv_it/common/0a19a501c0770212f27a044b71e9c626b8ca0bec0/expr.png\" style=\"display:inline;vertical-align:middle;\" /></a></td></tr>\n",
       "<tr><td>24</td><td>Literal</td><td></td><td><a class=\"ProveItLink\" href=\"../../../../../numbers/numerals/__pv_it/common/705198ce7fd3ec620275e02d9e1fa1bcf7f141270/expr.ipynb\"><img src=\"../../../../../numbers/numerals/__pv_it/common/705198ce7fd3ec620275e02d9e1fa1bcf7f141270/expr.png\" style=\"display:inline;vertical-align:middle;\" /></a></td></tr>\n",
       "</table>\n"
      ],
      "text/plain": [
       "0. MultiQubitGate(CONTROL, {1, 2})  \\\\ \n",
       "  MultiQubitGate(Z, {1, 2})  \\\\ \n",
       "  MultiQubitGate(CONTROL, {3, 4})  \\\\ \n",
       "  MultiQubitGate(Z, {3, 4})\n",
       "   core type: ExprTuple\n",
       "   sub-expressions: 1, 2, 3, 4\n",
       "1. (MultiQubitGate(CONTROL, {1, 2}))\n",
       "   core type: ExprTuple\n",
       "   sub-expressions: 5\n",
       "2. (MultiQubitGate(Z, {1, 2}))\n",
       "   core type: ExprTuple\n",
       "   sub-expressions: 6\n",
       "3. (MultiQubitGate(CONTROL, {3, 4}))\n",
       "   core type: ExprTuple\n",
       "   sub-expressions: 7\n",
       "4. (MultiQubitGate(Z, {3, 4}))\n",
       "   core type: ExprTuple\n",
       "   sub-expressions: 8\n",
       "5. MultiQubitGate(CONTROL, {1, 2})\n",
       "   core type: Operation\n",
       "   operator: 12\n",
       "   operands: 9\n",
       "6. MultiQubitGate(Z, {1, 2})\n",
       "   core type: Operation\n",
       "   operator: 12\n",
       "   operands: 10\n",
       "7. MultiQubitGate(CONTROL, {3, 4})\n",
       "   core type: Operation\n",
       "   operator: 12\n",
       "   operands: 11\n",
       "8. MultiQubitGate(Z, {3, 4})\n",
       "   core type: Operation\n",
       "   operator: 12\n",
       "   operands: 13\n",
       "9. (CONTROL, {1, 2})\n",
       "   core type: ExprTuple\n",
       "   sub-expressions: 15, 14\n",
       "10. (Z, {1, 2})\n",
       "    core type: ExprTuple\n",
       "    sub-expressions: 16, 14\n",
       "11. (CONTROL, {3, 4})\n",
       "    core type: ExprTuple\n",
       "    sub-expressions: 15, 17\n",
       "12. MULTI_QUBIT_GATE\n",
       "    core type: Literal\n",
       "    sub-expressions: \n",
       "13. (Z, {3, 4})\n",
       "    core type: ExprTuple\n",
       "    sub-expressions: 16, 17\n",
       "14. {1, 2}\n",
       "    core type: Operation\n",
       "    operator: 19\n",
       "    operands: 18\n",
       "15. CONTROL\n",
       "    core type: Literal\n",
       "    sub-expressions: \n",
       "16. Z\n",
       "    core type: Literal\n",
       "    sub-expressions: \n",
       "17. {3, 4}\n",
       "    core type: Operation\n",
       "    operator: 19\n",
       "    operands: 20\n",
       "18. (1, 2)\n",
       "    core type: ExprTuple\n",
       "    sub-expressions: 21, 22\n",
       "19. Set\n",
       "    core type: Literal\n",
       "    sub-expressions: \n",
       "20. (3, 4)\n",
       "    core type: ExprTuple\n",
       "    sub-expressions: 23, 24\n",
       "21. 1\n",
       "    core type: Literal\n",
       "    sub-expressions: \n",
       "22. 2\n",
       "    core type: Literal\n",
       "    sub-expressions: \n",
       "23. 3\n",
       "    core type: Literal\n",
       "    sub-expressions: \n",
       "24. 4\n",
       "    core type: Literal\n",
       "    sub-expressions: "
      ]
     },
     "execution_count": 5,
     "metadata": {},
     "output_type": "execute_result"
    }
   ],
   "source": [
    "# display the expression information\n",
    "expr.expr_info()"
   ]
  },
  {
   "cell_type": "code",
   "execution_count": null,
   "metadata": {},
   "outputs": [],
   "source": []
  }
 ],
 "metadata": {
  "kernelspec": {
   "display_name": "Python 3",
   "language": "python",
   "name": "python3"
  }
 },
 "nbformat": 4,
 "nbformat_minor": 0
}