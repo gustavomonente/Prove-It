{
 "cells": [
  {
   "cell_type": "markdown",
   "metadata": {},
   "source": [
    "Demonstrations for the theory of <a class=\"ProveItLink\" href=\"_theory_.ipynb\">proveit.physics.quantum</a>\n",
    "========"
   ]
  },
  {
   "cell_type": "code",
   "execution_count": 1,
   "metadata": {},
   "outputs": [],
   "source": [
    "import proveit\n",
    "#proveit.defaults.automation = False # prevents proveit from calling automations that are currently broken\n",
    "from proveit import ExprArray, ExprTuple, ExprRange, IndexedVar, var_range, Literal\n",
    "from proveit import A, B, C, D, E, F, G, K, M, P, Q, R, S, U, a, b, f, g, h, i, j, k, m, n, p, q, r, s, t, u, x, y \n",
    "from proveit.core_expr_types import Len\n",
    "from proveit.core_expr_types.expr_arrays import Aij, Bij, Cij, Dij, Eij, Pij, Qij, Rij, Sij, D11_to_Dmn, S11_to_Smn\n",
    "from proveit.logic import Equals, Implies, InSet, Forall, And\n",
    "from proveit.logic.sets import Set\n",
    "\n",
    "from proveit.numbers import (Add, Neg, zero, one, two, three, four, five, six, seven, eight, nine, Natural, \n",
    "                            NaturalPos, Complex)\n",
    "from proveit.numbers.numerals.decimals import DecimalSequence\n",
    "from proveit.numbers.numerals.decimals import posnat1, posnat4\n",
    "from proveit.physics.quantum.circuit import Gate, Target, Circuit, Input, Output, MultiQubitGate, IdentityOp, CircuitEquiv\n",
    "from proveit.physics.quantum import (H, X, Z, I, ket1, ket0, ket_plus, ket_minus, ket_psi, SPACE, CONTROL, \n",
    "                                              CLASSICAL_CONTROL, MEAS)\n",
    "#from proveit.physics.quantum import single_time_equiv, time_equiv\n",
    "from proveit.physics.quantum.quantum_ops import Ket\n",
    "%begin demonstrations"
   ]
  },
  {
   "cell_type": "code",
   "execution_count": 2,
   "metadata": {},
   "outputs": [
    {
     "data": {
      "text/plain": [
       "'\\\\forall_{g, h, k, m, n \\\\in \\\\mathbb{N}^+}~\\\\left[\\\\forall_{ \\\\scriptsize \\\\begin{array}{c}\\nA_{1, 1}, \\\\ldots, A_{1, g}, \\\\ldots\\\\ldots, A_{m, 1}, \\\\ldots, A_{m, g}, B_{1, 1}, \\\\ldots, B_{1, h}, \\\\ldots\\\\ldots, B_{m, 1}, \\\\ldots, B_{m, h}, \\\\\\\\\\nC_{1, 1}, \\\\ldots, C_{1, k}, \\\\ldots\\\\ldots, C_{m, 1}, \\\\ldots, C_{m, k}, D_{1, 1}, \\\\ldots, D_{1, n}, \\\\ldots\\\\ldots, D_{m, 1}, \\\\ldots, D_{m, n}, \\\\\\\\\\nP_{1, 1}, \\\\ldots, P_{1, g}, \\\\ldots\\\\ldots, P_{m, 1}, \\\\ldots, P_{m, g}, Q_{1, 1}, \\\\ldots, Q_{1, h}, \\\\ldots\\\\ldots, Q_{m, 1}, \\\\ldots, Q_{m, h}, \\\\\\\\\\nR_{1, 1}, \\\\ldots, R_{1, k}, \\\\ldots\\\\ldots, R_{m, 1}, \\\\ldots, R_{m, k}, S_{1, 1}, \\\\ldots, S_{1, n}, \\\\ldots\\\\ldots, S_{m, 1}, \\\\ldots, S_{m, n}\\\\end{array}\\n}~  \\\\\\\\\\n\\\\left(\\\\begin{array}{c} \\\\left(\\\\left(\\\\hspace{2em} \\\\Qcircuit@C=1em @R=.7em{\\n& \\\\gate{B_{1, 1}{\\\\Big \\\\{} Q_{1, 1}} \\\\qwx[1] & \\\\gate{\\\\cdots} \\\\qwx[1] & \\\\gate{B_{1, h}{\\\\Big \\\\{} Q_{1, h}} \\\\qwx[1]   \\\\\\\\ \\n  & \\\\gate{\\\\vdots} \\\\qwx[1] & \\\\gate{B_{i, j}{\\\\Big \\\\{} Q_{i, j}} \\\\qwx[1] & \\\\gate{\\\\vdots} \\\\qwx[1]   \\\\\\\\ \\n  & \\\\gate{B_{m, 1}{\\\\Big \\\\{} Q_{m, 1}} & \\\\gate{\\\\cdots} & \\\\gate{B_{m, h}{\\\\Big \\\\{} Q_{m, h}} \\n} \\\\hspace{2em} \\\\cong \\\\hspace{2em} \\\\Qcircuit@C=1em @R=.7em{\\n& \\\\gate{D_{1, 1}{\\\\Big \\\\{} S_{1, 1}} \\\\qwx[1] & \\\\gate{\\\\cdots} \\\\qwx[1] & \\\\gate{D_{1, n}{\\\\Big \\\\{} S_{1, n}} \\\\qwx[1]   \\\\\\\\ \\n  & \\\\gate{\\\\vdots} \\\\qwx[1] & \\\\gate{D_{i, j}{\\\\Big \\\\{} S_{i, j}} \\\\qwx[1] & \\\\gate{\\\\vdots} \\\\qwx[1]   \\\\\\\\ \\n  & \\\\gate{D_{m, 1}{\\\\Big \\\\{} S_{m, 1}} & \\\\gate{\\\\cdots} & \\\\gate{D_{m, n}{\\\\Big \\\\{} S_{m, n}} \\n} \\\\hspace{2em}\\\\right) \\\\land \\\\hspace{2em} \\\\Qcircuit@C=1em @R=.7em{\\n& \\\\gate{A_{1, 1}{\\\\Big \\\\{} P_{1, 1}} \\\\qwx[1] & \\\\gate{\\\\cdots} \\\\qwx[1] & \\\\gate{A_{1, g}{\\\\Big \\\\{} P_{1, g}} \\\\qwx[1] & \\\\gate{B_{1, 1}{\\\\Big \\\\{} Q_{1, 1}} \\\\qwx[1] & \\\\gate{\\\\cdots} \\\\qwx[1] & \\\\gate{B_{1, h}{\\\\Big \\\\{} Q_{1, h}} \\\\qwx[1] & \\\\gate{C_{1, 1}{\\\\Big \\\\{} R_{1, 1}} \\\\qwx[1] & \\\\gate{\\\\cdots} \\\\qwx[1] & \\\\gate{C_{1, k}{\\\\Big \\\\{} R_{1, k}} \\\\qwx[1]   \\\\\\\\ \\n  & \\\\gate{\\\\vdots} \\\\qwx[1] & \\\\gate{A_{i, j}{\\\\Big \\\\{} P_{i, j}} \\\\qwx[1] & \\\\gate{\\\\vdots} \\\\qwx[1] & \\\\gate{\\\\vdots} \\\\qwx[1] & \\\\gate{B_{i, j}{\\\\Big \\\\{} Q_{i, j}} \\\\qwx[1] & \\\\gate{\\\\vdots} \\\\qwx[1] & \\\\gate{\\\\vdots} \\\\qwx[1] & \\\\gate{C_{i, j}{\\\\Big \\\\{} R_{i, j}} \\\\qwx[1] & \\\\gate{\\\\vdots} \\\\qwx[1]   \\\\\\\\ \\n  & \\\\gate{A_{m, 1}{\\\\Big \\\\{} P_{m, 1}} & \\\\gate{\\\\cdots} & \\\\gate{A_{m, g}{\\\\Big \\\\{} P_{m, g}} & \\\\gate{B_{m, 1}{\\\\Big \\\\{} Q_{m, 1}} & \\\\gate{\\\\cdots} & \\\\gate{B_{m, h}{\\\\Big \\\\{} Q_{m, h}} & \\\\gate{C_{m, 1}{\\\\Big \\\\{} R_{m, 1}} & \\\\gate{\\\\cdots} & \\\\gate{C_{m, k}{\\\\Big \\\\{} R_{m, k}} \\n} \\\\hspace{2em}\\\\right) \\\\Rightarrow  \\\\\\\\ \\\\hspace{2em} \\\\Qcircuit@C=1em @R=.7em{\\n& \\\\gate{A_{1, 1}{\\\\Big \\\\{} P_{1, 1}} \\\\qwx[1] & \\\\gate{\\\\cdots} \\\\qwx[1] & \\\\gate{A_{1, g}{\\\\Big \\\\{} P_{1, g}} \\\\qwx[1] & \\\\gate{D_{1, 1}{\\\\Big \\\\{} S_{1, 1}} \\\\qwx[1] & \\\\gate{\\\\cdots} \\\\qwx[1] & \\\\gate{D_{1, n}{\\\\Big \\\\{} S_{1, n}} \\\\qwx[1] & \\\\gate{C_{1, 1}{\\\\Big \\\\{} R_{1, 1}} \\\\qwx[1] & \\\\gate{\\\\cdots} \\\\qwx[1] & \\\\gate{C_{1, k}{\\\\Big \\\\{} R_{1, k}} \\\\qwx[1]   \\\\\\\\ \\n  & \\\\gate{\\\\vdots} \\\\qwx[1] & \\\\gate{A_{i, j}{\\\\Big \\\\{} P_{i, j}} \\\\qwx[1] & \\\\gate{\\\\vdots} \\\\qwx[1] & \\\\gate{\\\\vdots} \\\\qwx[1] & \\\\gate{D_{i, j}{\\\\Big \\\\{} S_{i, j}} \\\\qwx[1] & \\\\gate{\\\\vdots} \\\\qwx[1] & \\\\gate{\\\\vdots} \\\\qwx[1] & \\\\gate{C_{i, j}{\\\\Big \\\\{} R_{i, j}} \\\\qwx[1] & \\\\gate{\\\\vdots} \\\\qwx[1]   \\\\\\\\ \\n  & \\\\gate{A_{m, 1}{\\\\Big \\\\{} P_{m, 1}} & \\\\gate{\\\\cdots} & \\\\gate{A_{m, g}{\\\\Big \\\\{} P_{m, g}} & \\\\gate{D_{m, 1}{\\\\Big \\\\{} S_{m, 1}} & \\\\gate{\\\\cdots} & \\\\gate{D_{m, n}{\\\\Big \\\\{} S_{m, n}} & \\\\gate{C_{m, 1}{\\\\Big \\\\{} R_{m, 1}} & \\\\gate{\\\\cdots} & \\\\gate{C_{m, k}{\\\\Big \\\\{} R_{m, k}} \\n} \\\\hspace{2em} \\\\end{array}\\\\right)\\\\right]'"
      ]
     },
     "execution_count": 2,
     "metadata": {},
     "output_type": "execute_result"
    }
   ],
   "source": [
    "from proveit.logic import Forall\n",
    "Forall ((g, h, k, m, n), \n",
    "                                        Forall((var_range(A, [one, one], [m, g]), var_range(B, [one, one], [m, h]), \n",
    "                                                var_range(C, [one, one], [m, k]), D11_to_Dmn,\n",
    "                                                                 \n",
    "                                                var_range(P, [one, one], [m, g]), var_range(Q, [one, one], [m, h]), \n",
    "                                                var_range(R, [one, one], [m, k]), S11_to_Smn), \n",
    "        Implies(\n",
    "            And(CircuitEquiv(\n",
    "                        Circuit(ExprArray(ExprRange(i, ExprTuple(ExprRange(j, MultiQubitGate(Bij, Qij), one, h)), one, m))),\n",
    "                        Circuit(ExprArray(ExprRange(i, ExprTuple(ExprRange(j, MultiQubitGate(Dij, Sij), one, n)), one, m)))\n",
    "                            ),\n",
    "                Circuit(ExprArray(ExprRange(i, ExprTuple(ExprRange(j, MultiQubitGate(Aij, Pij), one, g), \n",
    "                                  ExprRange(j, MultiQubitGate(Bij, Qij), one, h),\n",
    "                                  ExprRange(j, MultiQubitGate(Cij, Rij), one, k)), \n",
    "                                            one, m)))),\n",
    "        \n",
    "            Circuit(ExprArray(ExprRange(i, ExprTuple(ExprRange(j, MultiQubitGate(Aij, Pij), one, g), \n",
    "                                ExprRange(j, MultiQubitGate(Dij, Sij), one, n),\n",
    "                                ExprRange(j, MultiQubitGate(Cij, Rij), one, k)), \n",
    "                        one, m)))\n",
    "            \n",
    "        ).with_wrappingAt(2)\n",
    "    ).wrap_params(), domain=NaturalPos)"
   ]
  },
  {
   "cell_type": "code",
   "execution_count": 3,
   "metadata": {},
   "outputs": [
    {
     "data": {
      "text/html": [
       "<a class=\"ProveItLink\" href=\"__pv_it/demonstrations/4aebe3079abbcdd12a9983420de7ed42c73fbf700/expr.ipynb\"><img src=\"data:image/png;base64,iVBORw0KGgoAAAANSUhEUgAAADQAAACXBAMAAACo3mWYAAAAMFBMVEX///+IiIiYmJh2dnbMzMzc\n",
       "3NwiIiLu7u6qqqq6uroyMjJmZmZUVFREREQQEBAAAAB0/5/PAAAAAXRSTlMAQObYZgAAAZ1JREFU\n",
       "SMftl79OwlAUxj8rgqBQ3oA+gm9AZ5cyueoTaCejgwlvAG9ANyelm0Zi1FkTcDUmdRFHj6jIH7He\n",
       "CIlSz8HJeE04y8nNr+fm3Oa7X0+BzwjHgr4QjC2gLcq8XdcCj0WVIhLrLosOgdQtv+EpENg8srHQ\n",
       "FTvMW6PVtxdqPIjnKvkSSr4CBR456rg+i+aaqtBi0eYdEHdZtF9AbI9tY7F9cXXf0lYAE9TLFk/R\n",
       "76MwEszTo2xqioz6gIx674CrMj2CucZuWMkSHJ9FeZuQK7KoqnLgsmigcnvYYUTkyV6tf/zINj/7\n",
       "BJrpsihFoPQLi8wGyPRYVMmCnCUW5W1QrsyiDZU/jhVFiaPwDIPwUlMBTFDv9Jr/Gfp5SiH5w6EL\n",
       "WpZRVUStqiuhzklB3HB4KxmUpJIlTCnb5GSFqjKt8vMGYuf9ekMYYEAZj0dFUPyGH2AUShGLVlRK\n",
       "P3NoJ9xFJ2j7mgtgOsD8K0vR/cdHhWwpkC3FkC1lS7YUS7YUV7YUyJYC2VJqsqVAthTIlgLZUiBb\n",
       "yrxsKRprIyLsd2dzAtxGIIY/AAAAAElFTkSuQmCC\n",
       "\" style=\"display:inline;vertical-align:middle;\" /></a>"
      ],
      "text/plain": [
       " MultiQubitGate(Z, {1, 4})   \\\\ \n",
       "   MultiQubitGate(H, {2, 3})   \\\\ \n",
       "   MultiQubitGate(A, {2, 3})   \\\\ \n",
       "   MultiQubitGate(A, {1, 4})"
      ]
     },
     "execution_count": 3,
     "metadata": {},
     "output_type": "execute_result"
    }
   ],
   "source": [
    "Circuit(ExprArray(ExprTuple(MultiQubitGate(Z, Set(one, four))),\n",
    "                  ExprTuple(MultiQubitGate(H, Set(two, three))),\n",
    "                  ExprTuple(MultiQubitGate(A, Set(two, three))),\n",
    "                  ExprTuple(MultiQubitGate(A, Set(one, four)))\n",
    "                 )\n",
    "                   )"
   ]
  },
  {
   "cell_type": "code",
   "execution_count": 4,
   "metadata": {},
   "outputs": [
    {
     "data": {
      "text/html": [
       "<a class=\"ProveItLink\" href=\"__pv_it/demonstrations/0be97f1d396450b7a00c199598520d1e1cc86c0c0/expr.ipynb\"><img src=\"data:image/png;base64,iVBORw0KGgoAAAANSUhEUgAAADoAAACHBAMAAAC1wVewAAAAMFBMVEX///+IiIiYmJh2dnbMzMzc\n",
       "3NwiIiLu7u6qqqq6uroyMjJmZmZUVFREREQQEBAAAAB0/5/PAAAAAXRSTlMAQObYZgAAAW9JREFU\n",
       "SMft1b1Kw1AUB/CjTUyaWJI30FkEfQOdxaGjk3RzUEomFxd3EYKLY90L7QNE0V1Ed4dMIgjStH60\n",
       "NoZ4W2MLSf4HB5FGc+AOyY+b3JPccy7RKMJkjJE8iofxB3Wc+v/I92e19Xh51kda7BHt3iPV94ka\n",
       "ZaSzRKVn+F6J6Nxm1lzocBktmYyqPpdv7YJkvCrxJXSomxWiI6RK1SLaQqrdEa3dIL3euWqE8/me\n",
       "zKv7+8p3/jwyEEbs/3nwZye3wyTrYngrRt0CcwenzSuaW2yLLuwjLYgDZaqHVBM3S12khmi/RiXS\n",
       "RNnU6o7jLqO5K6tEczbSphiuhTSIUk7VYbpPSIfpviGdGaWbonvNd1N3AzNbOwcqWynoGbn+qhrs\n",
       "aWSwj5hslU441TxOF7qMKgcvjE5/1j7QY7XzdZX87oottfHcIsk+1nXnNMAquuADVFWMKtSNqFem\n",
       "qjxozW45XRW3b9FhuJ25nQM0XikfLsgrLZ6CugEAAAAASUVORK5CYII=\n",
       "\" style=\"display:inline;vertical-align:middle;\" /></a>"
      ],
      "text/plain": [
       " MultiQubitGate(Z, {1, 2})   \\\\ \n",
       "   MultiQubitGate(Z, {1, 2})   \\\\ \n",
       "   MultiQubitGate(H, {3, 4})   \\\\ \n",
       "   MultiQubitGate(A, {3, 4})"
      ]
     },
     "execution_count": 4,
     "metadata": {},
     "output_type": "execute_result"
    }
   ],
   "source": [
    "Circuit(ExprArray(ExprTuple(MultiQubitGate(Z, Set(one, two))),\n",
    "                  ExprTuple(MultiQubitGate(Z, Set(one, two))),\n",
    "                  ExprTuple(MultiQubitGate(H, Set(three, four))),\n",
    "                  ExprTuple(MultiQubitGate(A, Set(three, four))),\n",
    "                  \n",
    "                 )\n",
    "                   )"
   ]
  },
  {
   "cell_type": "code",
   "execution_count": 5,
   "metadata": {},
   "outputs": [
    {
     "name": "stdout",
     "output_type": "stream",
     "text": [
      "\\hspace{2em} \\Qcircuit@C=1em @R=.7em{\n",
      "& \\gate{H}   \\\\ \n",
      "  & \\gate{Z}   \\\\ \n",
      "  & \\gate{CONTROL} \n",
      "} \\hspace{2em}\n"
     ]
    }
   ],
   "source": [
    "Circuit(ExprArray(ExprTuple(Gate(H)),\n",
    "                  ExprTuple(Gate(Z)),\n",
    "                  ExprTuple(Gate(CONTROL))\n",
    "                 )\n",
    "                   )"
   ]
  },
  {
   "cell_type": "code",
   "execution_count": 6,
   "metadata": {},
   "outputs": [
    {
     "data": {
      "text/html": [
       "<a class=\"ProveItLink\" href=\"__pv_it/demonstrations/15a838fb8c1711357b6b39871b05e53d8bcb8cab0/expr.ipynb\"><img src=\"data:image/png;base64,iVBORw0KGgoAAAANSUhEUgAAAYYAAAAmCAMAAAD3NcyNAAAAM1BMVEX////f398QEBCIiIhmZma6\n",
       "urrMzMxUVFQiIiJERETc3Nzu7u6qqqp2dnaYmJgyMjIAAADXgvoBAAAAAXRSTlMAQObYZgAAA91J\n",
       "REFUaN7tW9mWoyAQZWTf+f+vHVZjd0gUxHE8h3qyuw1C3bq3FtMANJkxYNo4k7TrY9CefK673h6F\n",
       "A+5xKF7kWRguP9izYACwnQ9yIWDCMNhss8xTCiYMo020KgxxYsIw3lqD21IwYRhvxDXRQQwgw4Sh\n",
       "Ft6w5W5kwYThCjNLy90LvN9JolpWKPFoGITDnhIHO2ThyFAYIHXOojadkzzuhDK3cOWvuF8iBAcV\n",
       "T4YBLBoArVaN+poqjBstGe64yrHkZ5vdrUP8RCwTQ6V9NAzUb1/wEu78e2pgg2HATh/9lEofM6gE\n",
       "TFkG5cjR8AYY3lnZ20m7DQletKgHJB8MwxrSh6sDVrTHlb3Qtb+/hQ2/WdlpKtSgRstgYifaHRoM\n",
       "gz3uMBZ5s+4Qu3xqufLJ4jtgeGNlb+egYmwFYzsS4eBgGHJIY02FgBDBeM0FgZBKINMvpO/0MeKO\n",
       "h58gWoMwVwtmdb5Gd8Dwxso+ky4URzQeigfGEx5FjlhHq7cOhKGEtAacw7C+CNeU+cDQHCCAl6Ka\n",
       "JTXwsgNWJOhFUGO7YdB2Y02Ur7Cy0ysxBtGr2MCps8bqvV4dDEMOaaIAs7keFioNTIzz/UHMB5xv\n",
       "U4MqEUHfglCxG9hQYWWnVyKM4QgweVmn40BZ16+mtb+/lMm66vUn5rlQD/uHxqdo9yd3i6llzHq5\n",
       "4JLRckQIuNneDTBUWNkJQ1xAmwRFCD+UleI8DDtsWHU1SQ61LzLyJV+RGG4y1yMFhjUItbgVhhor\n",
       "z8AgLCB5pRxoGlwtSquuZsnxy8tMRhl2Fa/gkm6NrFlFSbv30+N+UfqRG1ocWmNlJ57J31xQnINK\n",
       "fBjdyMGV0hrSsZX3R5IB+5giTXgRwmlKDcb/3uOkyCtFqzwZ3o4wTqTo86lBnxw9lxBXpUVO4QeM\n",
       "+JRGhsHA3HawFVxtSFIqEl+1IhpefaOAjb+UcFuURrAE3c64kL4DhkGatAp+CXXEP2iSD1o6DgZJ\n",
       "rXNUb+REUKOC/GDfQYh0C4RKUEjClCUNHV/CozlFP8lpyb+HocbKLsOlGTdloBF9TWppgNuhbKjH\n",
       "Fzsy4KupK7tjmFFhZZeZ3+/fSDgOqcqPXq6HYad7Mh//fMtor8bKvmXeXIup1uYrBS+EQe4VxfwD\n",
       "HR4+6G6pz8ZMM745SbG9cbHk+/A8D4Y2z3J6NRsOlHbVDZtnvwRVTd+1MMv9MPwXTxhtbd+1kCPG\n",
       "GROGSivQ5ldoJwwXGGxVmfPfJJ4wVLzaWvoYO2EYT4Z2p/LTvcr8N5Pftd/SPgqRjIBpQ3sG1lP3\n",
       "CCam60Ya7+uJxaTDUDKUl9h/AfJBMOmfVWoJAAAAAElFTkSuQmCC\n",
       "\" style=\"display:inline;vertical-align:middle;\" /></a>"
      ],
      "text/plain": [
       "forall_{U} (Gate(Input(U)) = Input(U))"
      ]
     },
     "execution_count": 6,
     "metadata": {},
     "output_type": "execute_result"
    }
   ],
   "source": [
    "Forall(U, Equals(Gate(Input(U)), Input(U)))"
   ]
  },
  {
   "cell_type": "code",
   "execution_count": 7,
   "metadata": {},
   "outputs": [
    {
     "data": {
      "text/html": [
       "<a class=\"ProveItLink\" href=\"__pv_it/demonstrations/2fc4327d42851bc04ea1e04bb5f79e63417e61780/expr.ipynb\"><img src=\"data:image/png;base64,iVBORw0KGgoAAAANSUhEUgAAAIEAAAAWBAMAAAAV7eKYAAAAMFBMVEX///+YmJgQEBCqqqru7u5E\n",
       "RETc3NxmZmZUVFQiIiK6urp2dnbMzMwyMjKIiIgAAAApH37OAAAAAXRSTlMAQObYZgAAAndJREFU\n",
       "OMutlD1s00AUx/+pP5LYjRsxUCQkurAgMXhCQgy1mGBAivhStoSBlXpgYqg6MBQBasTQhQFLbCyx\n",
       "RMUAIjUbWzMgBSREMpYBSENCkhYa3nuXOsmWSD3p7t6zfb93793/DMzc5j01u0P/x9fp1iW+BDLf\n",
       "ga0MPKB+gfpb6ruDWhFOYR+42HoInBrk12ue+ah1A8bgm9nKb3TW66FaqOeEUDkd4SO5qaIi4B8P\n",
       "RoeGT0PXOAubiPgJO8RcCcmsImSKTMi4+ibSDKwqgnXAL18WCBhyouRqh8g0yb6PFLDiIxEowiKY\n",
       "cAJ4DydLfkURJBq2yj4sLo9DrnOAhRzZa/gALLlwPEXYFEIeWPY4Pi4rgkSDn27C5job5Kb2UW7Q\n",
       "LkNEwIYHSxXQLAmhB5Rd3OalgRAkGvzEHpJsLFRl49u0NiGBz/EgBMdnQ++C+Zf4qS8EjsYJ9GHz\n",
       "tzshtOfAMzKFaHZjgpFlw6RC7TSklImqEDgaJ7AdvOJvfz1+t+pB7/FpiRR+x4S0K4SuhEnSE60k\n",
       "hDpUuJUcHwUKIjptj4Z7bKXaMWEuGMtifo3OrSmEjnxBe/zjs9UXydl/aXjDFslhksCVXHahhUcE\n",
       "61DkQEZX5NBVhKYcJqSqk1ngFp2wB4P0Y0kWEg1b1F8EQzlwFm0lWpHDZCWVonA3rmRa5MBbXRLh\n",
       "ttXNqcF8glFdhGDLadJW9PPAa65eSIQr9V4I/Xo/q0qfrPcaKo38qkxPB58bRwRLKUqv7EYqZiZS\n",
       "N2uaNq5qaRaX5ypmJSyOCKlodLNmIBjFmHBt7HbPQBj+YbidUUB8n/Iv58R/OSdST25SP4ljaP8B\n",
       "QtnNqzGmTRIAAAAASUVORK5CYII=\n",
       "\" style=\"display:inline;vertical-align:middle;\" /></a>"
      ],
      "text/plain": [
       "[INPUT](|0〉)"
      ]
     },
     "execution_count": 7,
     "metadata": {},
     "output_type": "execute_result"
    }
   ],
   "source": [
    "Input(ket0)"
   ]
  },
  {
   "cell_type": "code",
   "execution_count": 8,
   "metadata": {},
   "outputs": [
    {
     "data": {
      "text/html": [
       "<a class=\"ProveItLink\" href=\"__pv_it/demonstrations/99564c32dbee64fa292cee457dc8482740c5ba440/expr.ipynb\"><img src=\"data:image/png;base64,iVBORw0KGgoAAAANSUhEUgAAAJQAAAAzCAMAAABG+9GwAAAAM1BMVEX////f398QEBCYmJiqqqru\n",
       "7u4iIiLMzMxERER2dna6urrc3NxmZmYyMjJUVFSIiIgAAADA5S9GAAAAAXRSTlMAQObYZgAAAqFJ\n",
       "REFUWMPtmNeW2yAQhglNwAzl/Z82Q1WxV5KzmyPlRFzYWJbFxz8VM/ZmpIsHewvFLh0P1AP1QP3d\n",
       "Icx0Nyjw2t1NKcXN/cyHSd0Pak+o66DCA/VAfZSExJuLEn4MKoaUPMJnSSiHFgSduJE0M/SESO8B\n",
       "9qAm/4lSyZ+F0W1VX99tajk7xsrq96B8+gDKJXuSSbafCdwsgy1R2vg1lPBzOj2GGvs9ztJ+LVjq\n",
       "CTKM2jKvsIFSEhOch/KnvV5XSUF3iZswakjtx/4SboRicd78MVTdr7MBIEaMZW5gijEopuoFxRVz\n",
       "aJIpnyJ2iVtrIsZqFoel5WpBp+iSOA3V9muZMTRRWWPLgqZnWsOQuWyRmJYuZdrDdTcWLhyni7ou\n",
       "fYqwpxRPQ9X9TpLp/ECgTyCZzx4hEqWj4kfGrFyqiqCG28zuI3XrpTbl2JVH47z8wWmwuhRZqphc\n",
       "pDxnRXybflEU5e2Vl+5SjLtmoaYYzDE3VUm53KSogIhhxMWxUv3Wapzgq0lz9BreZlMRU3VHbVDD\n",
       "pSxsoFQw8CIU/c6fhRohVI1DuycKqwsEtlnk9c6i6DCfTS/WY64FplilGbnxwUOosV9ui1yK3Jz5\n",
       "bH1BIcdMqC4l6DpRy2l2dNmS4bK4DEdfNp4gt7nnCEq3KZS90cJiqiadeAZAgnIcMylNVVzGfUGH\n",
       "sDyyYM9Yag61ntaoRMIZKBV8SsHOwkMQMhvKUcaCekeMEkKklcEIsbIR5YyAcV3fBiG3vXZTtc6q\n",
       "SZpo/PPWxepzdfm1e9B/r5/yeHDK/Or7vYL8TSi1KRGvw7yXar91+RaU1LVlO2ry9lnv0g6Ln2uH\n",
       "n9PMA/WPQHl9Qyixdxy57J+8sJOCr/vPU3CvbgdVjjD3g7qh+R6o/wzq4vEbOIUs8JReWXQAAAAA\n",
       "SUVORK5CYII=\n",
       "\" style=\"display:inline;vertical-align:middle;\" /></a>"
      ],
      "text/plain": [
       "MultiQubitGate(Input(U), A)"
      ]
     },
     "execution_count": 8,
     "metadata": {},
     "output_type": "execute_result"
    }
   ],
   "source": [
    "MultiQubitGate(Input(U), A)"
   ]
  },
  {
   "cell_type": "code",
   "execution_count": 9,
   "metadata": {},
   "outputs": [
    {
     "data": {
      "text/html": [
       "<strong id=\"assumptions\">assumptions:</strong> <a class=\"ProveItLink\" href=\"__pv_it/demonstrations/0d745fd162c28f02ab689f4ea11f563390dc9b2e0/expr.ipynb\"><img src=\"data:image/png;base64,iVBORw0KGgoAAAANSUhEUgAAARgAAAAbBAMAAABVQ42lAAAAMFBMVEX////c3NwQEBCqqqp2dnbM\n",
       "zMyIiIi6uroiIiLu7u4yMjJmZmZERERUVFSYmJgAAACvsp00AAAAAXRSTlMAQObYZgAAAWdJREFU\n",
       "SMdjYICD/2jgAxEyZAJ+ZNOwqviAk/+BgErSHUPQsFHHjBTHeF0FEuyDwzFc95weMDDwUs0xfPf/\n",
       "bOC7/2snpmOwyqCCZwycSxgYZIl1TO7/1QL4Q4Z/ARA3YAsZbDKo4AIDA89BxqVEh8wvQtFUn8DA\n",
       "EL8Bm2OwyaACkKT/fwNiHcP+hZBj/AMYGPINsDkGmwwm4AwgOjexfCfkmPVAfH4CNsdgk6Eoa3N9\n",
       "IOSYP0D8A2tuwiaDlrNXgcBqYh3DfwDdMLTqj/3X7t17vhCQITNk+NEqR1AiRKmF0UOG5SsDA9t3\n",
       "bCGDVYaiaPIPIBBNoHjk+YnNMVhlKHLMekKFHigeQQUKpmOwymBLM2uJdcwfQo4BFyYO2ByDVYaS\n",
       "kGH/Rsgx4MKkAJtjsMpQ4hhQIsTvmH54YYLuGKwylDiG4wN+x3Du+n+NYc//Y5iOwSFDgWPmrv/r\n",
       "MNrSG3XMMHXMwPcoAYMoXX8wC1XgAAAAAElFTkSuQmCC\n",
       "\" style=\"display:inline;vertical-align:middle;\" /></a><br>"
      ],
      "text/plain": [
       "assumptions:  Gate(H)  & Gate(H) equiv  [I]  & --"
      ]
     },
     "execution_count": 9,
     "metadata": {},
     "output_type": "execute_result"
    }
   ],
   "source": [
    "# Defining assumptions\n",
    "assumptions= CircuitEquiv(\n",
    "                    Circuit(ExprArray(ExprTuple(Gate(H), Gate(H)))),\n",
    "                    Circuit(ExprArray(ExprTuple(IdentityOp().with_styles(gate='explicit'), IdentityOp()))))"
   ]
  },
  {
   "cell_type": "code",
   "execution_count": 10,
   "metadata": {},
   "outputs": [],
   "source": [
    "from proveit.physics.quantum import temporal_circuit_substitution"
   ]
  },
  {
   "cell_type": "code",
   "execution_count": 11,
   "metadata": {},
   "outputs": [
    {
     "data": {
      "text/html": [
       "<span style=\"font-size:20px;\"> <a class=\"ProveItLink\" href=\"_proofs_/temporal_circuit_substitution/thm_proof.ipynb\" style=\"text-decoration: none\">&nbsp;&#x22A2;&nbsp;&nbsp;</a><a class=\"ProveItLink\" href=\"__pv_it/theorems/6d84f62b5fddad502dd79f4646cd23b23b1bb2c10/expr.ipynb\"><img src=\"data:image/png;base64,iVBORw0KGgoAAAANSUhEUgAADHAAAAHjCAMAAADGofnnAAAAS1BMVEX///+Tk5OwsLA6OjpOTk5I\n",
       "SEhfX18SEhLOzs6/v78QEBCIiIhmZma6urrMzMxUVFQiIiJERETc3Nzu7u6qqqp2dnaYmJgyMjIA\n",
       "AADsNVCvAAAAAXRSTlMAQObYZgAAIABJREFUeNrtnYmaoziXKOk7Uz1d7Dt6/ye9xsY2YAOSkITA\n",
       "Ed/M35muRNbRgYOCNQgAQII43f4EAM5NmTEGAADUQoBjiLrtTwDg7GQNYwAAQC0EOIJUlJufAMDp\n",
       "qcKEQQAAaiG1EOAA8mb7EwA4P21YMQgAQC2kFgI4p8m3PwGAK9Bx6TIAwCVrYSruUOXhYJZuAy9F\n",
       "u/kJAFyCRPA4CAAAnVr45V7z/DHH90U44uhGTXbhUBZvAy/C7U8A4Bp0PA8CAECrFn7ea972M/zM\n",
       "G+Hg9lvweD1MP05npJzgALgqieDoFwCATi1cuNe8RjgAXizeBs4JDoBfouMOLQAArVr4/V5zhAPg\n",
       "xeJt4KVoNj8BgMvQCh4HCQCgVQu/3muOcAC8JWLpKqn4Y/2MWWMBrkslCgYBAKiFOrXw673mCAfA\n",
       "k+WrpES3/QkAXKgasE8CANCrhd/uNUc4AF4r4dIJjlpEm58AwIVgEwcA0KyF3+41RzgAnhq/eIIj\n",
       "+1g9M1ZYgEsjuG0cAECvFn651xzhAHiwchu4CLc/AYAr0bFTAgDQq4Vf7jVHOAAeLN8GXot48xMA\n",
       "uBQR11QBAOjVwi/3miMcAA+WbwOPPy5GjHktGMC1SXkwBACAZi38vNcc4QAYNoVFh89FtfkJAFwL\n",
       "IRgDAACtWvjtYTsIB0Cwdht49XHDRsUtHABXp/v2JHkAAGqhjKbkCAfA121j0SGSj0sRE14KBnB1\n",
       "4sXnZAMAUAu3NKVEOAA+WbkNvPl4fFWz/EArALgGkcgYBACgFmrVwo97zREOgIfBL94GXnz8U8E9\n",
       "4wBXJ+FNHAAAmrXw415zhAOgZ+U28PDj8sWQi7sBrk7FXeMAALq1cL4UwgEQrN8GLj5cRPCQKoDL\n",
       "w3YOAKBbC+f3miMcAMHqbeDlh9uXHPkEuD7h56tyAQCohVLM7zVHOACC1dvAk4+THwlPxQW4Ph2P\n",
       "qQIA0KyF83vNEQ6AYPU28PbjJZstryAGuD4ZT6MDANCshfN7zREOgGD1NvDm42qrhtdwAFyfmOfi\n",
       "AgBo1sL5veYIB0CwekvU55bGPATgB+DIAgCAdi2cTawQDoD128CLD70oEA6AX9jJcu0kAIBmLZzd\n",
       "a45wAKzfBt59vIO8W34rOQBchYg3/wEA6NbC2b3mCAfA+m3g3cfdUh33kgL8QllAOAAANGvh7F5z\n",
       "hANg/QLF/EMvcoQD4Bd2sjz/GgBAsxbO7ndFOADWbwPPRbT5CQBcjpo3fAIA6NbC2aFchANg/Tbw\n",
       "8OONNyHvAwNgJwsAQC1cEY4O4QCYsnYbOMIB8JMkCAcAgG4tnN1rjnAArN8GLj5eQi6WX0sOABfa\n",
       "yVaMAgBQC7VqYYtwAMxZuw38f/8n3fwEAC5H+T//wyAAALVQrxbO7jVHOADWbwPnDAfAT5JyhgMA\n",
       "QLcWzm79QDgA1u/KQDgA2MkCAFALEQ4AhAMAEA4AAC9qYYJwAGxLBcIBwE4W4QAAaqG2cFQeCsdf\n",
       "8R8phQOFg3s4AADhAAAwUwv/33SxfzjDAcAZDgBAOAAAjNXC1M8zHAgHIBwAgHAAACAcCAcgHAgH\n",
       "ADtZAABqIcIBgHAAAMIBAIBwIByAcAAAwgEAgHAgHIBwIBwA7GQBAKiFCAcAwgEACAcAAMKBcMCZ\n",
       "hCPa/AQALsdfhAMAQLcWIhwAisLBGQ6AH4QzHAAAnOEAQDgAAOEAAEA4EA5AOAAA4QAAQDiOpooo\n",
       "7HAc//5JEQ4AQDgAAIzUwurPn/GvZeRLNJzhgOPgDAcAIBwAAKZqIZdUASAcAIBwAAAgHAAIBwAg\n",
       "HAAACAfCAQgHALCTBQCgFiIcAAgHACAcAAAIBwDCAQAIBwAAwoFwAMIBAOxkAQCohQgHwE7h+HxH\n",
       "x9pbOwDgIsweIg8AQC1EOAAsCQdnOAB+Es5wAABwhgMA4QAAhAMAAOFAOADhAACEAwAA4UA4AOFA\n",
       "OAAA4QAAuKxw/BX/kVI4UDgihAMAEA4AACO18O90sX84wwHAGQ4AQDgAAIzVQi6pAkA4AADhAABA\n",
       "OAAQDgBAOAAAEA6EAxAOAGAnCwBALUQ4ABAOAEA4AAAQDgCEAwAQDgAAhAPhAIQDANjJAgBQCxEO\n",
       "gN3CEW1+AgCX4y/CAQCgWwsRDgBF4eAMB8APwhkOAADOcAAgHACAcAAAIBwIByAcAIBwAAAgHEfz\n",
       "V/xHSuFA4YgQDgBAOAAAjNTC2a0f/3CGA4AzHACAcAAAGKuFXFIFgHAAAMIBAIBwACAcAIBwAAAg\n",
       "HAgHIBwAwE4WAIBaiHAAIBwAgHAAACAcAAgHACAcAAAIB8IBCAcAsJMFAKAWIhwAO4Xj3z/p5icA\n",
       "cDmqP38YBACgFurVQoQDQEk4OMMB8JNwhgMAgDMcAAgHACAcAAAIB8IBCAcAIBwAAAjH0VQRhR2O\n",
       "Y+2uDIQDgJ0sAAC1UGlmP731o4x8iYYzHHAcnOEAAIQDAMBULeSSKgCEAwAQDgAAhAMA4QAAhAMA\n",
       "AOFAOADhAAB2sgAA1EKEAwDhAACEAwAA4QBAOAAA4QAAQDgQDkA4AICdLAAAtRDhAEA4AADhAABA\n",
       "OBAO8Fc4os1PAOBy/EU4AAB0ayHCAaAoHJzhAPhBOMMBAMAZDgCEAwAQDgAAhAPhAIQDABAOAACE\n",
       "42j+iv9IKRwoHBHCAQAIBwCAkVo4u/XjH85wAHCGAwAQDgAAY7WQS6oAEA4AQDgAABAOAIQDABAO\n",
       "AACEA+EAhAMA2MkCAFALEQ4AhAMAEA4AAIQDAOEAAIQDAADhQDgA4QAAdrIAANRChANgp3D8+yfd\n",
       "/AQALkf15w+DAADUQr1aiHAAKAkHZzgAfhLOcAAAcIYDAOEAAIQDAADhQDgA4QAAhAMAAOE4miqi\n",
       "sMNxrN2VgXAAsJMFAKAWKs3sp7d+lJEv0XCGA46DMxwAgHAAAJiqhVxSBYBwAADCAQCAcAAgHACA\n",
       "cAAAIBwIByAcAMBOFgCAWohwACAcAIBwAAAgHAAIBwAgHAAACAfCAQgHALCTBQCgFiIcAAgHACAc\n",
       "AAAIB8IB/gpHtPnJ7q93g7ej746fDP3Hs67dxb8OhONnVwBPck/t9WYEBNXQ3+j/IhwAToTD+hkO\n",
       "R1uhtzu9S36VP/0Rv511/S9ycYZD/OoK4MmqT+315pvED2dC+P49nOEAQDjY6SEc7GIRDoQD4UA4\n",
       "qIYIB8IBCAc7PYQD4UA4EA6EA+FAOBCOY/kr/mPWCwcKR4RwIBwIB8KBcCAc1F6EA+EwUgtnt378\n",
       "wxkOAM5wIBwIB8KBcCAc1F6EA+EwVgu5pArgGsLRFulv7/SUB+AywqEW+cV2sappv6JwXGAFcFL0\n",
       "LM1y1SvPxWqvldLrJhVXqoYO10OEA+CHhaPs8uSnd3oaA3AR4VCN/FLCoZ726wnHJVYAJ0XPyixX\n",
       "p/JcqvZaKr1uUnGdauh0PUQ4AH5XOKqwOP1se1e/dAbgGsKhHPmVhEMj7ZcTjmusAE6Kno1Zrlbl\n",
       "uVLttVV63aTiMtXQ7XqIcAD8rnDEGpv/pYQj1qp/VxAO5civJBwaab+ccFxjBXBS9GzMcrUqz5Vq\n",
       "r63S6yYVl6mGbtdDhAPgd4Xj14+yaQ3ANYTDwmHe8wiH00OangrHNVYAJ0XPxiz3EqdWnRYgr1Jx\n",
       "mWrodj1EOAB+WDiyXxeOzNlX+ba/zy6Rd03hyBzm3FfhuMQK4KToWZnlZs7W9osUIK9ScR3hcLoe\n",
       "IhwALoTj3z/p5icIB8KBcFxOOKo/fy4x00A4EA6EA+HYE71mLUQ4AJSEgzMcCAfC8ZPCwRkOhAPh\n",
       "QDgQDs5wACAcrkqtkALhuJhw+Jd1hMPlCmB1s0c4PNgIEY7zVkOEA+EAhOOSwmG3kiMcngqHd1lH\n",
       "OJwKx+GNIxx2N0KE47zVEOHQp4qqAOAo1u7KcCscbSZEFsdZUSQK1aaK4qaJ2/MLh2z4swGQi99v\n",
       "4ehDL7Jb5FmpsqOpb5E3QZuceRcrHbpG8KcTjrRTGYNh6LIurs4uHBYCV5rl2iy9ZxAO6dqrNQCq\n",
       "wlFFRRZnbVA2CitEX0OK9vTCIRW7VvDOhWN260cZ+bHf5QwHHDrv8+gMx/C0u1ik0kW/ye9/mxWn\n",
       "Fw7Z8KcDIBn/nj42XfbsUGIr8+Ix42o3Vq9J6u97mKoQJ9/FSoauEbxh4TC+n/roXbfZ3+mEbxi6\n",
       "IqxOLhwWAlec5dorvec4wyFZe7UGQDEVUdg+jiiErfwKce9DuXHk3/9qKBe7VvCc4UA4AOGYbAqP\n",
       "KpOIWLLaVN1waLAKm9MLh2T44wGQjn9HH7usbZ7lP7OW+eHwTxxK7+/jxyi13bl3sbKhawRvWDi6\n",
       "2LJwtN3mjn0yqUhFM+zKo3MLh43A1Wa5FkvvKYRDtvZqDYBSKqoiH9aFeHVmOFshHitCtu5LvldD\n",
       "2di1gkc4EA5AOMaHN4ZNoRWrZx/Fu9p0r0N8mTi9cEiGPx4A6fj1+9hG953rfZ9aZtYyP+wrEtFK\n",
       "pr4aFkmicwuHbOgawZsVjvQ1G7AkHFUdb+4LRTYZumT4b3Nq4bASuJpwWCy9pxAO2dqrNQBKqXg3\n",
       "m4QKK8Sj+/n6euR7NZSNXSt4K8JRlAgHwDmFo3hUmSpcn9m8D0I17zlaY6nUOhQOyfBHAyAfv34f\n",
       "h9Je3Epr2aW2Mv/8pRSNXOpf8/P01Mf05EPXCN6scGRJFNnb9vvJ3msiLTUG76HLVhY7g3BYCVxN\n",
       "OCyW3lMIh2zt1RoAlVTE7x1sGsuvEOEwpy3sFyx7jUvHrhW8FeFIC4QD4JzC8ThukebZatGvX10o\n",
       "RR68i1VyduGQC380AArx6/fxLTeGcz8JvXjNpDOp1PcH+UWTukmM3azLha4TvFHhqLogyG0KR1Ld\n",
       "QmwD6TF43clQrl0GcwLhsBO4mnBYLL2nEA7J2qs3AAqpGDdblfIrxL37tbW7GJxUQ+nY9YK3c0lV\n",
       "GyMcAGcUjlRkbRsVef3l4MHol/z1YzM6/13cLzJZWuYMwrESfhSOjy2/BmA9/ulC+59SVaUWM//s\n",
       "6uMike3U3//0xvBsJ/N5F86yvhL6BLngrQlHUz/+35ZwVMloMKRWgOFOhjpvLKwA7oRjOfCl5C8G\n",
       "ri0cNkvvGYRDtvbKDsCs9sqnoplf0iW5JWRtlIk4Dc5cDVdjX0jDevDTNBgTjjgfsSz9CAeAx8Ix\n",
       "XItZ3Q9VpHH8Pt4x+qXsRkV3dJdY/96hpWXM7Jaq5R+MVPLl8G+Rvg+hjQZgNf7JQjv62HQjYluZ\n",
       "fwbSXyQik/r7SLVZKPqrfm3kXXzk+DPtwm7oE+SCtygc+b0T9oSjX1mHQ/aSK0AksqZp4qiysQJY\n",
       "3eylAl9O/kLgO4TDZuk1UHutbITqtVd6AOa1Vz4V+fTGZ+ktoR+OtqvWlvG+Gq7FvpSG1eBnabB0\n",
       "03jd1QgHgEfCIfd+0uFazFsFuX9HMq4cz1/qsB43W7235mxxma0eyL1AtRLd0g97mpcKvxoFOhqA\n",
       "9firWZUUx6xdUqG/fhahXOpfB5tW1hUTiXnn+EvajWR9LfTR3ko2eFvCcX92QJClltaAIM3iOM6e\n",
       "15dJrQDFqIf2VwCjm71c4EvJXwxceuDn3bBZevfXXksboWrtVRiAWe2V70soZnN6uS3h0f3nTWAn\n",
       "rYarsS+kYT34aRpsPaWq6sIE4QAwIBzR5ifmjnI+r2GPHt/xtWxW2ei5EHk4OuBUrZfa/R3Ms8Uf\n",
       "jBzrXgl/9PN4ANbjn09FPH7x3+s+hvZxLft26oPmuUup7eRdfOT4M+3CdujB17SvBm8q539nO9nH\n",
       "zbRpZmkNGN7wEnYrU6bpGNwWX1rZE5NnOGxs9pKBf0/+SuCKuRdOSq+B2mtlI1SuvQoDMMuKyhmO\n",
       "9wQ1ld8S7t0vn1GctBquxr6QhvXgp2kQpmrhlDJrShlPQTgAPLqk6vko9OezVxbKZvu+Qy97Ff1h\n",
       "R2FVOHb/kX74Tda2r4PL7wFYj3+ykNfC8bqCvRpev7Wd+ip7LmpJNIWrrC+H3sZtGkWxSvDTRQye\n",
       "4aiHNrvSyhoQ1NNp3PYK0PcwdiEcNlYAycDbJooylcDfC6gJh9XSe4J7OGRrr/QAzGqvfCpGz0du\n",
       "FLaEx9vynuvFSavhauxNHKTPdVs6+PFCJu/h6CaUkiUU4QDwRziej9NOxeqs81aXquA94aqiKH3v\n",
       "gk8sHGvhd10VvAvnawDW458uZOYejsxS5h/75tertLZTXw/7+7g58y52PfQ26d+3GJYKwc8WMScc\n",
       "z71qbecunnKoKs83bm+vAMH0UbJnFY61wPuNt4gVAh8voCQcVkvvCYRDuvbKDsCs9qo8pep5BUFT\n",
       "KWwJ9yJyv+m6Om81XI29a+vkdYWUbPCThexcUpV00sdsEA4Af4Sje0yjkrBYL7XV+6quKApu86um\n",
       "fb3B4MTCsRZ+P8OIm88BWI1/upDPZziG2VaSxxtpfEceP/62sX4Rge2sL4deVlH/82unJRH8fBFj\n",
       "wvF+9IvJl/+9elc+IyiGnaHEth9M3s59UuFYC7zsPypq+cAnCygJh9XSewLhkK69sgMwq70KqRge\n",
       "kFzHVaCwJQyLRg+BPWs1XItdjE/WywY/WciKcFRddTbh+Cv+Y9YLBwpH5INwZJ0QWRxnxWuPuVg2\n",
       "w3clT6usifL+ms703MKxGn7a7w/z+ssArMQ/X8hb4XiEnmVFXAbSqY+DpF9mc13xexe7EXoWTV65\n",
       "KxP8bBFTwpElo3mW6TWgKoS477fr2w8Pl5JYAfqhi84tHOuBtxN3lAi8VZVN4aT0ei8cKrVXbgDm\n",
       "tVfldpoqLrIsThRKYd/9+0y9KaLo1IdflmNPw6ioVYOfLWRDONaeojG79eMfznAA+PTivynLpTb7\n",
       "3Ojb8tzCsRp+VPSHL4N0YQC+xz9fyOebxrVTb22+6e7FfyuRhOn9OGmqEPxsEVPCMb5m2qtt/9TC\n",
       "sR5HfwIrDRUCny6g9uI/i6X3FC/+k629cgMwr70uUnHBajgd0duqXaoFP1vIhnCU8otxSRWAx8JR\n",
       "3ytH+TjLXa+U2iIOkmJjmfMJxyiUIrrt1YqgWRiA7/HPFzqTcEinfnOB0wnHKJKy/7M8qVP54OeL\n",
       "GHwPh9M14PgV4CDhGMVR30LNMoXApwvsmeUaLb0nFI7lMio3APPa6yIVF6yG0xFN8yBSC362kHBc\n",
       "CxEOgLMIRxnn9ysH0v6p289fvlebWIjHjWMry5xNOCah9HfslllTLQzA9/jnC51HOBRSv7nAyXax\n",
       "k0iSPtioaRWCny9yTuHwYQU4RDgmcQRx1HQqyZ8uoD/LNVx6Tycca2VUbgDmtddFKi5XDT9GNItS\n",
       "teBnCyEcCAcgHFt8fOG82qT5x1vRahfHwaxOPZdD+RgAmfiDU53hkE59YC3v4tisS6RdZpGznuE4\n",
       "fgU46AzHLI4wVQw81HkWq93Se8IzHMuxaA2Ak1RcuBpup0FqIYQD4QCEY6twlOrV5nOZ0wpHXarP\n",
       "PL8udELhUE69wbwfLBwaaf+2yMmF48AV4FjhuMVR3iKtO4XAZwsYmOWaKb3nFY4vsWgNgDepOGc1\n",
       "NJUGhAPhAIRjg1aj2rQmd0tSOAxfYgBas3vmo4RDOfUG835s1nXS3hrNuRfCceAKYHWzlwm87Noo\n",
       "rhQCny1gYJZrpvTarr0uVz+9AfAmFeeshqbSgHAgHIBwKBNmTr7G37bC7OhuHxW6cuTCy7TrNaWR\n",
       "9rNfUnXRFcBJ0RMWuqFVea5Ue22VXjepuEw1dLseIhwAboQj2vwE4UA4EI7LCcdfhAPhQDgQDoRD\n",
       "txYiHACKwsEZDoQD4fhB4eAMB8KBcCAcCAdnOAB+WTi6/MeFQ2cAriEcypFfSTg00n454bjGCuCk\n",
       "6NmY5WpVnivVXlul100qLlMN3a6HCAfA7wpHK5LfFg6dAbiGcChHfiXh0Ej75YTjGiuAk6JnY5ar\n",
       "VXmuVHttlV43qbhMNXS7Hl5LOKqoCgCO4t8/6cmEI8jUO3Ep4dAZgGsIh3LkVxIOjbRfTjiusQI4\n",
       "KXo2ZrlaledStddS6XWTiutUQ6froWYtrP78Gf9aGr77VT8aznDAgfO+053hCII27CoHX+NvW+oD\n",
       "cBHhUI38UsKhnvbrCcclVgAnRc/KLFen8lyr9topvW5ScaFq6HI95JIqgF8WjiBIfls41AfgKsKh\n",
       "GPm1hEM57RcUjiusAE6KnrDUjeS3hcNO6XWTiktVwwThQDgA4fByGix+oK0fEY7f3cW6/CKPheP8\n",
       "WfNk1af2erMZirNl4oTVEOFAOADhYKeHcLCLRTgQDoQD4aAaIhwIByAcCAfCgXAgHAgHwkHtRTgQ\n",
       "DoQDAOFgp4dwsItFOBAOai/CQTVEOBAOQDjY6SEc7GIRDoQD4UA4EA6EA+GAHxeOz3d0rL21Q/Pr\n",
       "3eDrTs8h3q145wpanDHr2l2cPUT+vGuAl8LhR+TUXm9GQFAN/Y1esxYiHABKwuHgDIffh6Z8/Hr/\n",
       "zlX8RuDip4J3cYaDFeB0m7z48e/3qPaKXx4Hp1/PGQ4AhIOdHsLBXAvhQDjYCBAO9sEIB8IBCAfF\n",
       "DuFgvolwsAIgHNRehAPhQDgA4UA42OkhHMy1EA6Eg40A4WAffFHh+Cv+Y9YLBwpHhHCw00M4mGsh\n",
       "HAgHGwHCwT7YSC38O13sH85wAHCGg50ewsFcC+FAONgIEA72wcZqIZdUASAc7PQQDuZaCAfCwUaA\n",
       "cLAPRjgAEA6KHcLBfBPhYAVAOKi9CAfCgXAAwkGxQziYbyIcrAAIB7UX4UA4EA4AhIOdHsLBXAvh\n",
       "QDjYCBAO9sEIBwDCQbFDOJhvIhysAAgHtRfhQDgQDkA4KHbs9JhvIhysAAgHtRfhQDgQDoDdwhFt\n",
       "fkKxQziYb17u+/8iHAgHwoFwsA/WrYUIB4CicHCGg50e880fnGtxhgPhQDgQDvbBnOEAQDhMjoBt\n",
       "EA4PAyfrPy4cZ8r/RYVDUHs96cnJ8oBwIByAcJxzr3e2wzEIxxlGEeH47RUA4fAhLITjktUQ4dCm\n",
       "ijws7PAz/PsnRTjY6SEcZB3hQDgQDoSDFcdILaz+/Bn/WkZ+rDec4YBD69ZpznDYOk97FuFwcMGA\n",
       "r6uojbjPsYs9KuleCccpVwBxoU3eVj9OIxz+lN6TZkKcOA1cUgXwg8Jhq4qdZad3xA7bi1XUzmTu\n",
       "HLvYg5Lul3CccQUQF9rkT1t67dVecalt4bTVEOFAOADhYK+HcCAcCAfCgXAgHAgHwoFwACAcCAfC\n",
       "gXAgHAgHwoFwIBwIBwDC4dlery1ShOMX55sKiUc4rrcCqGz3CIcHpRfhsDZOR+wDEQ6EAxCOH9vr\n",
       "lV2eeLHTQzjcTnaUEo9wXG0FUNvuEQ4PSi/CYWmcjtkHIhwIByAcv7XXq8LC+tQW4fBQONQSj3Bc\n",
       "bAVQ3O4RDg9KL8JhZ5wO2gciHAgHXFc4Pt/RsfbWjl/Z68Wq5QfhuIZwqCX+3MIxe4g8K4Dydo9w\n",
       "eFB6EQ4743TQPvCYNGjWQoQDQEk4OMPxDX+OsiEcToXD/RFuznB4tAIobvcIhwelF+GwM04H7QM5\n",
       "w4FwAMLxY3u9DOH4TeHI3Gcd4fBHODLnWz3CsbP0IhyWhOOYfSDCgXAAwsFeD+FAOBAOhAPhQDgQ\n",
       "DoQD4QBAOBAOhAPhQDgQDoQD4UA4flE4/or/mPXCgcIRIRwIB8KBcCAcCAfCgXAgHEZq4d/pYv9w\n",
       "hgOAMxwIB8KBcCAcCAfCgXAgHMZqIZdUASAcK620mRBZHGdFkcgW2yqKmyZuEY4zzzf7vBfZLe1Z\n",
       "Kb+XrW+Jb4I2QTiuIhxpJz3JGtaYrIsrhMPYNrhZe6db4KG198rCUUVFFmdtUDay20JfPIsW4UA4\n",
       "ABAO6XaHx/3FIpXb6zX5/Q+zAuE49XxTPOaa7erqPZnu3HevVSGc72IRDluz+U5IC8drjSnCCuEw\n",
       "065E7Z2k4Njae2HhiML2cUQlbCW3hXsKyrXTHggHwgGAcExaScWjxCYilpl4VN1wTLQKG4TjxPPN\n",
       "9HkjUxxKzjjjxwrSdgjHVYSj7dZDnsynUtEM04gI4TC0DW7X3lEKjq69lxWOqsiHzSBenprOtoXH\n",
       "NpCtqCLCgXAAIByTVqJhY2xX7qQPxKvYdq/Dm5lAOE4834yeu8pEtDKJD6phgSRCOC4iHFUdr++K\n",
       "RTZZY5Lhvw3CYWgb3K69oxQcXXsvKxzvgU1C2W3hkbl8ZftBOBAOAIRj0krxKLFVmK9UmNcRuOY9\n",
       "O23WtmKEw/f55uvKqFI0Eol/i0nq/pgewmFnNt++JGI7/e81JltcBuFQ3AYlau87BYfX3qsKR/ze\n",
       "w6ex5LYQDjPqwnYeEA6EAxAOp6W2CjtrVexx4CbNs5UCUz+HoBR58C7TibOdnvEBOIlwGI573MZr\n",
       "V5mIbDvxfV+EaFLlyeKJku6lcLwHwfxsPqluCV677bWelL7hFo5y+fofcaFN3k4CZtvgdu19p+D4\n",
       "2nuwcJheI8SXga1KyW3hnrl69clV4sRpQDgA3AhHtPmJ+71entkSjlRkbRsV+TAi0Xgy0T3nl/lz\n",
       "ctqMxqK4X2LzfQHjR9lMD8BJhMNw3JNbd56ZfFwhs5H4xx/eGB5q9f3PxamT/tfLMxyvQTAuHFUy\n",
       "Wg2+JnSS/uEWjjpvrG71vmzydhIw2wa3a+87BcfX3qPPcBheI8SXgZXeFrI2ykScBgdUQxdp+Itw\n",
       "ADgRjt+6pGq4GLUajtWk4y3zeVqje9XafHSPnBBLCwRcUuVn4ie37jwz+bhCZiPxjxlqm4Xicbnz\n",
       "97RzSdV5VoAg6NP+Ol3xJaGz9Ecia5omjiq7W/0PXVK1XXvHKTi+9l70kqp8fuO3zLbQbwVtVy0u\n",
       "EHBJFcIB4Eo4hBmstztcjHoroUtR1uFoX/auJ7XI7Icv/NnrOc68nWbfzb0fbitCicS/iNe2Bls5\n",
       "P5lw+Lzlj8LN4jjOli9Cn6e/2B4dW9k/BPtr92btnaTAee31JA/Wt4VwtGJXktvCI3Nrd79ZnAIg\n",
       "HAgHIBynPMz23HWHiRPcAAAgAElEQVRFixeOVVnx2lzzcHTArVI7Tnnmw50XSfz41p3nRLNdvIp/\n",
       "nPggGPat1apwnDrpP3aG43EXQLj4kONp+m/L5jqZO+0m7+AMx2btnaTg+Np72TMc7xlyKrkt3DNX\n",
       "rnofZzi8EY6/4j9mvXCgcEQIx7NCDNPN+4U1STR6CmoU16856fMWxey103vsJBcWQDh8n2++rt2v\n",
       "7u8e20z8bZf7XLBaTjvCcR7hqMfT2O8Jbce3Jqfve8WtbvW/IxwytXeUguNr70WFY/Ro6EZ2W3i8\n",
       "JvCxSbiuhh4Lx+zWj384wwHAGY53K8/niaf3I95N8K4XcZC8Dn7Gz4/76WYVRelz+rG0AMLh+Xzz\n",
       "eQvH8C6xzcQH9TDdiZuVP0c4TrMClENRe7xqfCGh8WhARg/QtbrV/45wSNXedwqOr70XFY7ydfyx\n",
       "qWS3hXv1vN9tXjmvhpzhQDgA4TjlXq97zCOTsLgVirKqX5dNVGXQvF8v/n6kURS0t0rbPq5eXVwA\n",
       "4fB8vvmYZwZJHq/m8Z34+PGX939a/HOE4ywrQPlMYNHvi5cSWo1OBb/fSW53q/8d4ZCqvaMUHF57\n",
       "r/oejuHZ0HVcBbLbwrBcdBN359UQ4UA4AOE44V4v64TI4jgriiHEYnytWfG+uD983R2XVlkT5f0V\n",
       "renaAgiHz/PNR96zrIifhXgz8XGQ9EusrycIxzlWgKoQ4v6Enfr2w90kFxL6Tn+/xrz+xuZW/yvC\n",
       "IVt736X38Np72TeNV3GRZXESyCXivi3cP26KKHJfDREOhAMQDoul1uaL/8ZUohrdNTfaSmcvOMpu\n",
       "f9WWawvw4j8fE7/YhmziN/6cF/8Zn2TZfPHfdkLV0s+L/xyk4MDae9EX/+3aFg6ohggHwgEIh829\n",
       "Xm7/qpV7gej62+bK4vGqhdHjUmfFtoiDpFhdgBf/+Zj4xTZkE7/x5+d+8V/6Yy/+k0ioWvp58Z+D\n",
       "FBxYey/64r9d28IB1RDhQDgA4bC617NVxaZUWdOfr388dDwqFuedsRCP2+YWF+CSKh8Tv3yGQzLx\n",
       "G3/OJVUnXQGWEqqWfi6pcpCCA2vvZS+p2rEtHFANEQ6EAxCOK+z1noWi/5/xlamzYpvmsxchfSyA\n",
       "cJxKOGQTv/HnCMfJV4B5QtXSj3A4SMGBtfc3hENvW3BYDREOhAOuIhz//kk3P7n6Xq8ugywpw0p2\n",
       "3vllAYTjlPNNtcR//Pm5haP68+fHV4CPhKqlH+FwnQK3tfenhGN/Is4sHJq1EOEAUBIOznAE/cMX\n",
       "syYbb6MbxfZzAYTjjMKhmPiPP+cMx7lXgI+EqqUf4XCdAre196eEY38iOMOBcAAgHOqtbJ5OtlQU\n",
       "EQ6nwrE38QjHxVYAxe0e4fCg9CIcdsbpoH0gwoFwAMLBXg/hQDgQDoQD4UA4EA6Ew2PhqCJ/Cjv8\n",
       "Hmt3Zfz0ezi8FQ7ew/GDwsF7OAJX7+HwUDh+7T0c3grHr72Hw1PhOMV7OGa3fpSRH8WUMxxw6M6c\n",
       "93Ao/n2XH7vT4z0cBwmHWuJ5D4fxFcDNezgMbfe8h8OD0st7OOyM00H7QN7DgXAAwuF4r2eriknS\n",
       "iuTYnZ7xlk8iHJYmc5YSzyVVF1sBFLd7LqnyoPRySZWdcTpoH8glVQgHIBy/tdcLMsVBQDiuIRxq\n",
       "iUc4rrYCqG33CIcHpRfhsDROx+wDEQ6EAxCOH9vrBW3YVVa/AOHwUjiUEo9wXG4FUNruEQ4PSi/C\n",
       "YWucDtkHnl04uvfwtUcLhw99AYQD4ZAhQTh+UThUEo9wXHAFSBCOU5VehMPeOCUIh6pwNK/ZU3dY\n",
       "dX0Khw99AYQD4XDQcYTjrMJx/C4W4TjHCoBweFB6EY6LV8NzCUdZDL+8fjhOOHzoCyAcCAfCgXAg\n",
       "HAgHwoFwIBwIh8l7OJ4nE5rjplGvezg86AsgHB4Lxyc/JRzWBsD/VdRG3OfYxR6VdL+E44wrgLjS\n",
       "Jm+pH+cRDm9K70kzIU6cBoPC0TZVT5kHh/ESDg/6AgjH9N+izU+O6LLXzdn/AvGz6+qZRvHcWf/r\n",
       "k3CccgUQV9zkz1Z6L1x7xaniEidOw1+DT6kSRU/euOh3sy4cTvsCICMcPp3hQDgQDoTDESnCgXAg\n",
       "HAgHwmH0sbhZ2v9v8flk2iiMVn7VIt4QjsW+ACAc9oqXdRAOL/exZP2nhSM4Uf4vKhzU3p/ZCyIc\n",
       "9z4nvQVU3Zc/z5O1X+W+MY+bpJeVTEo4lvtiUEQs+4zR5qUbSwoRN3G298sNNePmC0y1hXCcbp+D\n",
       "cPziqCMcP7wCCBJA7fWpJ7+0Dzb64r/+jonoy4svqul3VEpfWdVNHN8arYuguS0XVyvC8Vf895Ka\n",
       "hb70KL9L3mozTppXaKwN+/9twr3faKYZN19gqK21uzIQDnZ6zDcRDlYAhAPhQDgQDhVmt3788+hz\n",
       "0z4m+nOSfO3XjalgUZdV/111G/Wa0dz+L47j/Pb/9ZdoXseol/rSK0wsTLwO0FAzTppXaSzOHg65\n",
       "cx9pqBk3X2CoLc5wsNNDOJhrIRwIBxsBwsE+2FQt/H6Go+yCNHuKQhNFz5+brG0fN1U8fo2D9PVv\n",
       "bdymURQHt79+/cXzs2C4NOrxHWmdltHzbvGtS6omfZnRVHlsYOgMNeOkeZXG8vtR+rjb+ZWGmnHz\n",
       "BYbaQjjY6SEczLUQDoSDjQDhYB9sVziCosyGK3d6oSiec9yuq4LoPfvv2jp5XVbVJmEbBGE2/ovh\n",
       "s14e3lPAOr1Nm9tUVjhGfZn/URQUBt4HaKgZJ82rNFaJXvyiva9oN9SMmy8w1RbCwU4P4WCuhXAg\n",
       "HGwECAf7YMvCUcfDVUxlP/MvnvOp/v6B+P2EWjE621FWUT7/i+dnVX8p0Fg4gqY/OyIpHK++zLl5\n",
       "zfBP2SiGTHUYvjdjjHfzX/6tMtjYnEREbVRkwc4RWmrG2CmPyRfsHKP1tuS7jHCw00M4mGshHAgH\n",
       "GwHCwT7YsnAEz5tm26cx3P+4vxc3f02u0jAqRjOtLPr4i/tnSf9Zmt/fp1FED+Eo2+d9GdvCESzc\n",
       "wNvevibq+5s24SuG8c9yfG3GHK/mvwSp31cZmvv0+q58e0ZooZmbBxoaodEX7B6j1bYUuoxwsNND\n",
       "OJhrIRwIBxsBwsE+2LZwtMOnTTZYxH0iV/SnPIL0/evtn15mEKYff3H/LG76399HnXvhCJJ0sIh0\n",
       "Wzjar4FVXdw0xaP3+egvcrVhWGrGEOPmP9nR122K+4mm8jEZ1h+hpWZiU5PsyRfsHKP1tuS7jHCw\n",
       "00M4mGshHAgHGwHCwT7YtnC8PriJQnb7/7K4/Vl/fqIt+tu9n7+meRANv5X9otn0L+6f5cn9Iqr3\n",
       "neT3OzLaZr1bm29SuD9Wt7xfs79HOBaaKZu2iQyk5d18G9dtG6d1kxro65fGPnr8mAUnj5HUH6Gl\n",
       "ZvJbB4y8m2P0BbvHaL0t+S4jHOz0EA7mWggHwsFGgHCwD3YlHEEcNV3bn+W4zam622ytzPqXaLx+\n",
       "zaJ0+C3pz2HM/uL+WdTcH+T6vPoqybu7cWT7hCN5PB328ZDYz+n03Xfe/539+vrvYjO3H5t6e/mN\n",
       "rxk3X0ddENwGpW4M9PVLY0OPX39d3hNbhk2wOkKbkS01c/Oe++tRFIfkI6rxFyyOkUZnv7Q177Ke\n",
       "cPz7J938hGKHcDDfvNz3V3/+sAIgHAgHwvHz+2DNWrgpHMHjuqjbP00/rFd++/5ZNNzDIdetDeEo\n",
       "RHGfOYq8/TqdvvvO/b/l6D+j/9arzfQndu6z0uEPP5f/+t/V5rM0qPKbwSUm+vrR2LPHz79uchHH\n",
       "cVYkwYJwbEZWrzaTFMNLz2e9Xx6S71FNv2BpjHQ6+9HWR5f1hIMzHOz0mG/+5FyLMxwIB8KBcLAP\n",
       "tnWGo7xNY+v7jbj11ACmv9Zf9KAud0WjtPQwhZ7MiTfmgPVqM3Vzn6xKtCPffP64azm//9vevn40\n",
       "9u5x7WSEovb57Zoj9L39xTEyMEQKXUY42OkhHMy1EA6Eg40A4WAf7Eo4uja63zkQzN5v3a78tvyZ\n",
       "HeFII9HfDlz2zzMaft70nS//PG4miNvHO6s1venLUtWtvSjpL0Ir9/f1s7FXj781ZmGE4vv1dJW+\n",
       "WX5bbHmMTAyRQpcRDnZ6CAdzLYQD4WAjQDjYBzsSjqOoIo1gagXfadeb6R8/W+/wptZRX7/0uHUz\n",
       "QrvNslXKZ2tyvLf/fO2uDKvCIY7An2InDsKHXeUpoxYnzrpvwvGzK4AngVN7vRmBX07EtWvh7NaP\n",
       "Mgq8QPGSqm+TSm36Zoq2bqwGWJtuTKrHtYedd/M1tepGf8wZjkNmvj7t9H73CJ045TeK8w6/f8Lx\n",
       "qyuAH4GL027016u95yyG562G7mqhp2c4tIQDwNQGiHAgHAgHwoFwIBwIB8KBcCAcAAgHwoFwIBwI\n",
       "B8KBcCAcCAfCYUs42iKLmyDaKSZmWnHTvEpjSSGyJs6Kvd9sqh1X32CoNYSDnR7CgXAgHAgHwoFw\n",
       "IBy/Lhxl199tUhXhrq8x04qb5hUba+9/93xRxQ7LMdSOq28w0xrCwU4P4UA4EA6EA+FAOBCOHxeO\n",
       "Ujxe59YWu+bwRlpx07xqY8NTfbNs5/eaasfVN5hpDeFgp4dwIBwIB8KBcCAcCMePC0c+PJEp3fVU\n",
       "LTOtuGletbH88XdRvvd7DbXj6hvMtHZK4WiL9LeFQ3cAzi8cWpFfRTg0034p4Tj1CuBH4ML9Kngd\n",
       "4dAuvcZz4a4aeNiIw/Xwp4Qjena62lP/zbTipnnVxirxWPOanZdzmWrH1TcYau2EwlF2eXLeSaOB\n",
       "VvQH4OzCoRn5NYRDO+0XEo6TrwB+BC7cr4JXEY4dpddwLlxWA+8acboe/pRw5JPrirLq+89bLLYS\n",
       "dyZiyDcuflLp6lZjHz1OhkRm3Z4RWmvHFNNv2DlMm60ZEY5o8xP3xaYKC/df6tNOb8cAnFw4dCO/\n",
       "hHDop13jW//6KRxnXwH8CFy4XwUvIhx7Sq/ZXDitBr414nY9/PtLwiFG77hLm7D69rPEKC+0EtSx\n",
       "kRVn9UV8al3daOyzx80w4Q6bPSO03I45xt+we5g2WjMkHO3mJ+4rVqw/FbqGcOwYgJMLh27klxAO\n",
       "/bRf5wzH2VcAPwIX7lfBiwjHntJrNhdOq4FvjbhdD3/rDMcwnazuE718FEGucoZjqZXYyBUy0+a/\n",
       "/HtlrrGPHhePv6/DYM8IrbVjiuk37BymzdYMCEf4oRehB8Jx9PH9w3edxo+ynUY4dCO/hHA4PaqX\n",
       "COHjGnD2FcCPwIX7VfAiwrGn9JrNxRVO859kPdSshecUjngY2mbXdHqxlbxM2v0nOcbNt3HdtnFa\n",
       "N6nmTHqjsY8ePybMVZjsFI6ldu59aIxsX6Nv2D1MG61J93pNOPKPC6hyDy6pCrMDvtQr4ciO7vzZ\n",
       "Un8N4cgcfquvwnHyFcCPwIX7VfAqwpGZ/lpxhmrgnXA4XQ+vJRx/xX+r/573h5Srpvw+nS6Lxydb\n",
       "/11qJWzL+5mEheU2mn3+Om6+jrpbs3VQN/OZtFybW40NPX79dXrPatklgdYIbbdTRzcDytUH5SOu\n",
       "yTcsDpOh1l69fi2wKBwRwoFwIBwIB8KBcCAcCAfCYaQWzm79+OcsL/5rsriJqoXpdBo+jk8/X//2\n",
       "+d96rZWki+LJ382WX262nLQ+bj5Lg+o2042TuXAMf73Z1dXGnj1+/nWTiziOs7gK9EZIop1bH9JC\n",
       "KoByLa7ZNywN06y/2q09e/0e1iXhWP737uN+mk40htb7swiHkAHhuJpwWEr7iYQj9HENOPsKgHCc\n",
       "u/b+qHD4Vg1dC4dWLTzrm8bHDDP38ZR46yaMeq2VKAq6qpZqR771x43d+f3fJl3d+g6Zxt49rg2N\n",
       "0GY7tz5EbWJ2kNaGqTbS2rvX+sJRiHjzk8sLx5HtIhyHzTe9y7rbKUb748IhjlutEA7LGyHCcfZq\n",
       "6HY9bH9VONJI9LdMl/3TjIafg3pj6c9/H7cSl0HbJIFEO7KtB9VtXYhuTWZROevq1ndINfbq8dfG\n",
       "NEZos52+D3XTGh2ktWHS6e9na+9eb7SHcCAcCAfCMSMSuY9rAMKBcCAcCIfT9VCzFl7hDMfQ9bF9\n",
       "bdmZVCvb7ai2/u1LWmeN1Ya+tQ5cDJK5/mpkdk04MpFtfmJgw28zIbI4zooiUa82VRQ3TdxaqzYO\n",
       "hEMx/ukAKMXvm3D0kRfZLfCsVI88qG+RN0Gb2Ija+i5WNXT94LU62ojOyRow7AQ7jTEYRjDr4sr8\n",
       "CDgSjmMC1649bkuvA+HYVXqN1F4xaa/I4qwNykZ9hehLSdEGtsuWtWZVYt8RvMNaeE3h0Kd2EV19\n",
       "TGO1j9139j1Kra0JRyyKzU+MzDmGx9zFIlUt+k1+XyQr1L/UG+FQjH8yAGrx+3eGY6jlrdwb7Cep\n",
       "v+9hqsLOztDBLlYtdP3gtTpqbkOX6VAn28PphG8YwWL7BUa+CscxgWvXHrel18kZDv3Sa6b2jj6M\n",
       "wsd1FHHYKq8Q9z6UUkf+vRQOpdh3BO+wFl5HOADM7ftX5jvRx5YWWRGOdHi7RyJ1wdaosFTdcOyh\n",
       "knv9oafCoRb/aABU4/dOONLnU8/iUC3y2xKPsWo7K1Hb38Uqhq4fvFZHM2PXTkp0qO1k36w1mVSk\n",
       "wxMs6u1H53kqHAcFrl173JZeF8KhXXpN1d7Xh1XxvNU1lpkSzlaIaNhqU9tly0qzirHvCN5hLTyz\n",
       "cCSFyJq4yPa9jc5MK/YbV2vqflrTwLeaasfNFxhrbE046o9zibWxKy3ERGMe20Ar9dDd0VVd3esQ\n",
       "X3bovRbCZfyjAVCN3zvhiJ47iUTqjZKj1FfDkklkJWoHx/TUQtcPXqujhbHH0W13qKpj2aNukys6\n",
       "I5EM/22Mj4AT4TgqcO3a47b0uhAO7dJrqvaKz/aSUH2FGF54ILM6eSgcirHvCN5hLTz1GY72nodm\n",
       "5418Zlqx37hCU48XUaTh3rm3qXbcfIHBxtaEI/14PENq7OE1482vCIdDRVKvPnwfb2jeU7XGVrVx\n",
       "IRxq8b8HQDl+74TjdU1QKVXUR4eantP01M5hLfvCoRi6fvBaHe1E7WYN6Mv9awatMgbvEcy2l/ZT\n",
       "OI4KXLv2uC29LoRDt/Qaq73PD+P3BpfGyitEOMxpC+tly0azqrHvCN5hLTy1cGTZw+X2fZeZVuw3\n",
       "Lt9UObyeIt55L7Opdtx8gcnG1oSj+ni4dmXsfWDi44BFmkud06pfHS5HT4+IpfbcngqHUvzvAVCP\n",
       "3zvheO0kEpmnEdSjdfW2Jjap0SQ6Fg610HcEr9XRUKRu1oBb/NUtNrmTPPWkWA1nW0uJKx68FI7D\n",
       "AtetPY5Lrwvh0Cy95mqv+GyvKpVXiHsUtbW7GOxWQ9XY9wTvsBaeWjjub98Oip0X0JtpxX7j8k3l\n",
       "Q71uQxPfuL8dN19gsrE14bj9Y7n5yf45Ryqyto2KfKUj6XtdyIv3kaX3afBisSiMFt13nenyD7uv\n",
       "5t+KPwpHJ/xfAyAV/2RR34TjdR/DytUhX1N/X+LGyiOe9uVdfOT4M+3CdujTjV4l+L072UqIyska\n",
       "cPuqZDwYCivAcCdDnTcWVgBLm71S4EvJ3wpcRTiUaq/j0mtrI5xshXql11ztFZ/taWwJWRtlIk6l\n",
       "FhXeJEIh9oU0SAU/WdZdLTyzcFT3P4ryfTsBM63Yb1y+qSh87YB3faOpdtx8gdHGVoUj/zh2k8te\n",
       "A6CwJxwuwqwWj1Gkcfw8BlJ2o6I7KvRLZ15Gi+6stc+7Vz5/2H81/0b8t1Bfoz4aAJn4x4v6Jxyv\n",
       "+xgWrw5ZSP19vNosFEtXFe7Nu5jn+Evahd3QJygFv184UiHcrAFB0Ae/cqx+eQWIRNY0TRxVNlYA\n",
       "S5u9QuDLyV8PXE04FGqv89JrayOcbIV6pddc7RWf7WlsCf2q0HaVxKJ7ypalapjLnEH4ngaZ4Kdp\n",
       "cFcLPRWOSqZuJKKJmuY+Mxyf+1O8Q3uhFTOMGv9E7etWm5rQPetE3O0am+V2YjM3Sc++YN8IbTWm\n",
       "1Od//6xs7dnHGf9MaLyMRHzj/c/DRZi30rGY82Sol3VYj5ut3ltztrXoYkc2eFWtbPGHXe3KxF+9\n",
       "Ih0PgFT81fTwjOOqtxH6+7Guy/cGfU39a1XfXmU08/OR48+078q6TOijvZVi8HuFozX3cIiNlT/N\n",
       "4jjO1q6/XloBio0Dj/tWAEubvUrgS8kvFI64CmO194DSa2sjFLtLr17tXelLKL6cPZDeEh5RrJ0p\n",
       "HaVC+FYNZWJfSINU8JM0uKuF1Z8/k6MGUeAFUmc4mmfIafM+qjX+WYqvrZiiWc6K6tc10gl+rWX9\n",
       "k+l2jM1iO0Ft5umQky/YO0Ibjan1efUMR/RxAC4y9bjMj+to+7ajrXpZZcV7c8nD0QGnzSq97yiM\n",
       "6RmdWvzvGMYDIBV/ku/tqXkLef9UvIp6q5T6oHnuS2o7ebd+D4dM6KOdl2LwezvaWH0q7rhDj4OP\n",
       "Ybc9V5qOwa2RjYeKJCbOcBgeV6XAvyd/O/DNLmrVXvel18E9HLql11ztfR3lf+++U+Ut4R5FuXYv\n",
       "WJKbKVs2qqFM7AtpkAp+kgZ3tfDMl1QV75DHFxopXr+00IoZirWsqH1dIZ3g58V5w80M2mOz3E5s\n",
       "5mEtsy/YN0JbjSn1eVU40g+5T00d+hxfRzvMuO7XlrRxm0ZRHERRln6rGe37ApQsfGtQPyRbi3oq\n",
       "HBLxN1nbPn99D4BU/ONFfROO1xXs1f31Wwqpr7JnC5WdvNsWDonQn5+pBz9dUqejhdWHVI06VI/n\n",
       "bworQB99PI/X4ApgXTgkAm+b2+8agb+X2xQOpdrruvTaFw7t0muu9g4fjp6P3KhvCY+X5j3Wi81U\n",
       "eCccMrE3cZA+V2rV4MfLOqyFZxaOUcg7hON7K2VzK1AG9iH1qwjWbRun9fgxKmodXWtq2tssC6q2\n",
       "Dsow2Tc2y+3ktw4YuE168gV7R2irMaU+rwrHl8tTTV3c/XEd7W1LuE+9kv5do2FWBVH2tV7Gr824\n",
       "n3BVUZQ+d8Gbi/opHBLxd93o19cASMU/WdQz4XjexzC8Q0sh9fWwv48bS3m3LRwSoQ+flerBz5bU\n",
       "6Ghu9Z7xd4fKofg83ritsAIE4yfKWlgBbAuHROD9j89jbyqBj5fbEg612uu49NoXDu3Sa672vp7U\n",
       "9JzVNJX6lnCvJfd7r6vtRT18StV27F1bJ69LoxSDnyzrrhaeWDjGf/M5qS6Lx0fDf2e/vv671Mrt\n",
       "x/5+iY2l5Ruvo9suNKyDupl11EhTj94+/7YK0yho6y6RHJulPiy3c1udo1ai1xv/PPkC2RGS6u2X\n",
       "xp59fo2ovnB0H2tnZ+gxVe/Nr3vMn5Kw725ZRX1p7PepcfO1Xlbvs9/RbRhutaZ9XGO2vaifwiER\n",
       "/+TX9wDIxD//1SfheMy2bhmK5fL3jjx+LNJktvJu/VVXm6E/P6uUg58vqd7RSoRO1oAyfx1FLBW3\n",
       "/eD9km4bK4Bl4ZAIvOz/paiVA58styUcarXXcem1Lxz6pddY7RWv+ejjSP39bb6qW8LQQnTz2O1F\n",
       "/XsPh0TsYny6RjH4ybLuauF5hSPqxPuI9eekOh3uokkfh7SG/4z+W6+1UvfHQ6rXn30uXao2fktv\n",
       "dUt7nMw6qtHPj6aG3j7/Nqjiounf2lHKjc1nOBvtJMXt+8Z/qjk+0y+QHCG53n409upzGkqcC1wX\n",
       "jubjAvNG567xlWKTdUJkcZwVz31kFvU974ek/r7rGt25klZZE+V9sKnUoh4Kh0z8s1/fA7Ad/3w4\n",
       "PBKOR+RZVrw3d+nUx0HSLyq7yvgmHHKh95+N3ryrEPxsSeWO1iJzsAZUhRD3h8vUtx/uEqWwAvQj\n",
       "GAWBrRXAqnBIBd5OpFE+8OlywmjtdVt6bQvHrtJrqva+n78cF1n22osrbgn3fXJTRJHEoh6+aXwz\n",
       "9jSMiloz+Omy7mrhqd/D8TGRnkyMN+aV9VordXOfr263It14/rhtOb//06Sj9e6mXr0d/W2aBWVr\n",
       "YGy+tdOfKciHP9o9Pq8vMDFCy42N+rxbOD5fSpYYmossbn7hLYao6I/UBen3UjvrQH/8oi2lFvX0\n",
       "xX9b8c9+nQ3Aavzz4fDsxX87Uy+7nI8v/tsOof8sbpbSrrCkckczu7dwLHbInxXAyZvGVwPoT2Cl\n",
       "oXrg0+WE0Q3Qbel18eK/faXXQO0VZrcEiUU9FA6ZNNzW6VIr+Omy7mrhJYQjjUR/S3DZP9Ro+PkW\n",
       "ynoLn/88biWI28cLq2utS2U+l+pvaYyS3jXLWUeV+/nZ1LO3478tRXf/p71j862d/ghk9nhw8f7x\n",
       "eX6BkRFabuzdZ5kurwtHEIrtT4zOOUoxHKdoi/4WsuGysHql1Bbx/aSOzKInEI5vQRSvX78NwGr8\n",
       "s0W9Fg711Msu571wfAvh/lme1Kly8PMllTsaikPWAI9WALfC8S2A/mR+lqkHPl1OGN0A3ZZe18Kh\n",
       "XnoN1F5hdEuQWdR34VgYyjQPIq3gp8u6q4UXOcMx9H78y8Y1Lu1qK7f/j2qJVpQb/+xou7+pZ28n\n",
       "f1tM36+jPTZr7RgZn9kX7BuhzcbkurwhHPHHS3limdf06NenpK8lXS9PWfO80q+M89FlBPNqEwvx\n",
       "6NL2oicQjm9BvH/9NgCr8c8W9Vo41FMvu5z3wvEthPtnUdOqBz9fUrWjpeUrqpY65NEK4FY4vgUQ\n",
       "xFHTaSR/upwwugG6Lb2uhUO99BqovcLoliCzqO/CsTSUWZRqBT9d1l0tvK5waNO3UrR1YzG82mxT\n",
       "Mr2t/eu6s69Rb2xDOJKPF+okwsj6IrRDmlebNF+6V6W2OEV00u73lM4GQCF+zy+pUk59YC3vwrus\n",
       "awev3tHI8hVV0h06bgVwfEnVQgBhqhd4qHUZz/Y4ui29zi+pUi69BmqvsLslfFnU+0uq1NNgsRLo\n",
       "18JLCQeAoX3/xgYVhtufWJ1zlNrV5nPREwrHl8viZAfg2xV1ZxIO3dSbyLvwLuvawat3tAv9WAMO\n",
       "XAGOFY5bADl0kbwAACAASURBVOUt0rpTD3y2nDC6FrotvUcLx47SK78ZCqtbwrdFzyYcZtPgrhYi\n",
       "HADKwhGJZPMTm7POVr/atEaKohQu45cegNbQ/vko4dBNvYm8+5d17eCVwy9F48cacOAKYGmzlw+8\n",
       "7NoortQDny0njK6FbkuvrY1Qf/XbMwC7cmFyLyi8SYQ4IA3uauHZhSMp+icpFnvf0WeoGSfNqzaW\n",
       "Nk1TtztvMTDSiIvWzTS1JRzB5zWMRq7w1t/8wuyALz1s1m12AM51SZWxyMUFsr4j7YrfGtt969+e\n",
       "YTj7CuBH4ML9KuhT6T1m32M4F86qwZW2Bqe10FPh+Cv+k7W1+8mdfO/RJ0PNOGlerbEkNpBXI424\n",
       "aN1QU0Js+Fzzsck1JiYkCAfCgXD4OMWobN8yjnAgHAgHwnGC9XBPLfw7FY5/TndJ1ePptVm+8wsN\n",
       "NeOkebXGHu+yKPZ9pZFGXLRuqKnNMxzVx0nFysQlFwgHwoFw+DjFiOxf5ItwIBwIB8Lh/Xq4pxae\n",
       "/h6O/H4oOtx7tZKhZpw0r9bYYyR3PmDFSCMuWjfU1KZw3Da6avMTl2Wvyw/4Up+mnjsG4OTCoRv5\n",
       "JYRDP+1q3xrG/g7D2VcAPwIX7lfBiwjHntJrNheuqsGltgantfDswlH1D3yu4r0zeUPNOGlesbEu\n",
       "bPbfzmykERetG2pqWziCsNn+xGHZa/VvWr+GcOwYgJMLh27klxAO/bQLta+p/B2Gs68AfgQu3K+C\n",
       "FxGOPaXXbC4cVYNrbQ1Oa+HpbxoXURSHwx9no1AypUFZaibujIQzaf6THX394KPHVRyKMNk3PAuN\n",
       "GPOxV+t7x2a1KbPCUX9sdvX+ScmOzS/TfjT2NYRjxwCcXDh0I7+EcOinXeVbKxH5PAwnXwH8CFy4\n",
       "XwUvIhx7Sq/hXDipBhfbGpzWwrMLR9PPr+P7uaS0CV+hjH/e0UxQmzmRPmr+S6z6ff02D/7S47K/\n",
       "32PP8HxtxCjl91tStDtqXziCrNj+xGXZa8Oucv6lPk09tQfg7MKhGfk1hEM77SrfmnV+D8O5VwA/\n",
       "AhfuV8GrCMeO0ms6Fy6qwcW2Bqe18OzCUfSXsbRDr/NRKLnSyC81E5u5bWHS/Cc7+vrBrMdV+pDS\n",
       "XcOz1IgZxq3vHJv1pgwLR5DX2584LXvJbwuH9gCcXjj0Ir+IcOimXeFbEyevhRK/ugL4Ebhwvwpe\n",
       "Rjj0S6/5XCS/Kxwu1sOdtfDswnGfGMbhXuFYaiYvk9bASY5R821ct22c1k1qoK9fGpv1uL5PgdNs\n",
       "1/B8b+T+5QaezPRufffYrDWl1F0p4Ug/zr6ke8//HLL5XUc4zjwC4nfzLnz/1jy55DCIX82/8GU0\n",
       "riMcZ8+F+Ok8uKuFJxeO9N77LA/S8tuMuiwen8z+O/94uZmwLat2sZ2l9ub/HTdfR92t2Tqom/mk\n",
       "2kxjsx7H/VU+1eOXT+GQjOt7I3V0+zhXaGbhv+/WN8dGvqOfTb27a0o4gqTc/gThQDgQjnMLR1Vf\n",
       "cxgQDoQD4UA4XNbCcwtHk4vs9odpEUVfZ9Rp+BiedLjHevjv+9d6vZmki+JguZ3P9ub/rT+bz9Kg\n",
       "us1742Q+qR7+el9j8x7HZdw0cRV8F47NuFYbuX15WuwfnlHrW2Oj0NHPpl7dNSYcFyl7CAfCgXAw\n",
       "70Y4EA6EA+GwPLM/+Xs4xgyT0/HEeGPeWK83c5vUdw+l05x/flksf9zYnd//bdJXjc5+NLbW4y/D\n",
       "o/6Vo0ZuXx61SWBweAyOzWdTo+4iHAgHwoFwIBwEjnAgHAgHwqEuHGkk+jumy/46+uHnoF5v5ts/\n",
       "j5uJy6C9v9eh1rtU5stiVXab996azKJy1leNzn42ttzjb8Oj/JXjRvovr5s2MDc8Bsfms6lRdxEO\n",
       "hAPhQDgQDgJHOBAOhOPnhaOK9O++HU8VN+aXrWQzQavXl_valr3s6q9CYka+sFbumE5HBsVG2h3//\n",
       "pMcUm0PwaKcnfnYEfjj1XibdfSe8GQHXPRCH4+cG6LYPPtXeX94JXns/UP35M/61jPwY9HTHs7cM\n",
       "HZt2coi7dt9YfZbBqQ9s6qgzHAAujzqJXw18+0vEdWL1t1NkwYNueRo9XJFL3cMBYOooA8IBCAfC\n",
       "QQLIAsIBgHAAIByAcDDfZaqLcCAcCAcgHAgHIBwACAfCQQLIAsIBCAfCAYBwAMKBcCAcCAfCAYBw\n",
       "ACAcgHAw32Wqi3AgHAgHIBwIByAcAE7nAW2RWv+OCwRub6r7swnQSIKlLKj24lLCoRw8wgEIB8IB\n",
       "CAcgHEqUXZ6cfq7hInBbwvGzCdBKgpUsqPfiQsKhETzCAQgHwgEIByAcKlRhcYG5hovALQnHzyZA\n",
       "Lwk2sqDRi+sIh07wCAcgHAgHIByAcKgQT4r5D813lQO3JBw/mwC9JNjIgkYvriMcOsEjHIBwIByA\n",
       "cADCoYL54/xXDdyScPxsAvSSYCMLFzrG7yZ4hAMQDoQDEA5AOJTmG9mvCkdm/Ev0hONXE6CXBCvC\n",
       "kTkL2EPhyILLRA8IhzP+iv/IDRwoHBGDAAgHwkECEA6EA8DQzH4iHP9whgOAMxyAcKxuHzIgHD+T\n",
       "gB8VDqtpQDjgcnBJFQDCAQiH6eUQjt9JwK8Kx/GtIxyAcCAcgHAAIBwIB8KBcCAcAAgHAMIBZxCO\n",
       "tFOZb7SZEEWWZV1cnX2+ayFwpanu0GJRZKVCP25707hpmqBNTiwc8qFrBK8qHFVUZHHWBmWjsCr0\n",
       "nS/a0wuHVOxawSMcgHAgHIBwAMLxptssztMpn3jM04uwOrlwWAhccao7tNhulYVJP+4zvaoQTsbI\n",
       "WuOyoWsEr5iFKGwfJhO28qvC/Tmx5caRf/+FQy52reARDkA4EA5AOADheNF2m2/1mkwtUtEMNT06\n",
       "t3DYCFxtqps+W4pD+X7E8dD7UwuHdOgawStloSryYS2IVycHs1Xh0ftMpGcWDtnYtYJHOADhQDgA\n",
       "4QCE4zXpqOPNoijG841IJMN/m1MLh5XAFY+tP6dsiWhl+1ENyyTRqYVDOnSN4JWy0L3OVyWhwqrw\n",
       "WHPy9TXId+GQjV0reIQDEA6EAxAOQDietK+J9Moi8eiX5+Us2cpiZxAOK4GrCcfryqBSNLL9eE7Q\n",
       "09TBGNlrXDp0jeBVshC/K3Iay68K4TCtKSwrgdXWpWPXCh7hAIQD4QCEAxCO5xSuuhXnjWPM9WSt\n",
       "HS6+L0V84vmurcDVhOM1ZUtEJtuPSogmdSVl9hqXDV0neIUslCJ/N17Krwr3PtfW7mJwIhzSsesF\n",
       "j3AAwoFwAMIBCMcw0UhGl9On40OWo1/yyeePI9J13iwvsH9KWi3/YGYyvRz4CLnAtYXj9f3DVVqL\n",
       "wznpR9S/8214uNNpE7Aa+koSFoPXzEIzvx9HchvI2igTcRrYyYLdNDwXXI09CqNAOfjJQggHIBwI\n",
       "ByAcgHA86C8OGg7Zp3H8PuI5+qXsJhO7SGRN08RRtbiAgSlpNZxN+PKDIeFYCnyEXOA7hON1H8P9\n",
       "Kq3F4Zz1I6jaLBT91fcnTsBK6KtJWAheOwv59MZn6W2gn9y0XbW2jAnhsJKG54Jrsd/+NQlUgx8v\n",
       "hHAAwhFUUUVu4DD+/ZMyCODCbJcZl+ksjuPseXlLMp47PH+pw6kjF6PC/nWBra9f5zlzyRZ/CPa2\n",
       "vRH4a58lG7j0wM978X64qwiXh3PejzvD5ffmExC4ScBq6CtJWAxeMwvhKKmV/DbwuIvhefeJvc3A\n",
       "ThqEROzV6x8Vgq8mkz6EA9zN7P/8mRyniHzxIM5wwJHzQM5wwMHr4Hh29Jh5dCsTpyorJjVzdOH3\n",
       "ykzLQN/2/ZF+4K9dmGzgap0b/cHrPob2cTPJ9+Gc9qN5Tu3qUydgNfTFJKwEr5mF/P2XdSq/Ddwn\n",
       "/eXz7hPjWXBzD8dq7O+fFYKfZgThAIczey6pAkA4wF/hGFbGPFydOLXjpzKl41umTzvfXQu8baIo\n",
       "Uwn8vYCacLzuY6jCYnU4R/2osuey1ZkTsBZ6G7dpFMVKwc+Wkc/C6MnIjcI28Hhb3nONOKlwrMbe\n",
       "xEH6XKulgx8vhHAAwoFwAMIBCEdPOayMzzduL02c4lEtnzxK9qzz3bXA+wlTESsEPl5ASTie9zFU\n",
       "XbcxnPHo+pbhk+bUCVgLvU36t16HpUrw82UUnlL1vPaiqRS2gXvv7zddV+cVjtXYu7ZOXldIyQY/\n",
       "WQjhAIQD4QCEAxCO24TjOVUohqq4NHGqRo+zmbyd+6Tz3bXAy/6jopYPfLKA2ivnxNBWvDWc737E\n",
       "jz9uslMnYC30sor6n9+jLRH8xzLyWRgejVzHVaCwDQyLRg91PalwrMYusjRQDn6yEMIBCAfCAQgH\n",
       "IBxVIcT9STP17YfHTG5x4hQ+380Wd0Jk0bmFYz3wdjJzlQi81ZzqZn2LcZYVcbk5nKN+BEm/UH1q\n",
       "49sIvR/n8ZuvZYKfLaOgfVVcZFmcbOZguircZ+pNEUVWsuDqTePLsadhVNSqwc8WQjgA4UA4AOGA\n",
       "nxeOLyxPtjLFBc7wpvHvXe8Pn6ehQuDTBdRe/Cc7nJdPwHRtS+9XTaUqwc+W0c+C8jZwZuFYjiMq\n",
       "+pW6VAt+thDCAQgHwgEIByAcn9T3uUNZVO9f1ucbiwucbL47iqO+hZplCoFPF9glHIvDefkEjAMp\n",
       "+z/LkzpVCH6+jH4WlLcBG1k4SDhGcRRRkOZBpBb8bCGEAxAOhAMQDkA45pRxfr9qKO2fu//8ZW2+\n",
       "sbLAqea7kziCOGq6ViHw6QI7prorw3nxBEwDSfpYo6ZVCX6+jG4WlLcBO1k4RDgmcXRlf5laqhb8\n",
       "bCGEAxAOhAMQDkA4lvlYR1cOcH5f4GwH2KdxhKli4O8Fdp3hWBzOn0lA8K08KgdvIgvK24DJLBx0\n",
       "hkN//fu6EMIBCAfCAQgHIBzLU4dScb7xucA557u3OMpbpHWnEPhsARPC8Tmcv5KAb6FrBG8gC8rb\n",
       "gNEsHCsc6uvf94UQDkA4EA5AOADhWKRVnW+0BudCMlgMvOzaKK4UAp8tYEI42uBXE/AtdI3gDWRB\n",
       "eRs4TxY2u6W+/n1fCOEAhAPhAIQDEA4FJK6osDbXEKcK3MglVSRgZxJsZEGjF35mwVXwCAf8vHD8\n",
       "Ff+RGzhQOCIGARAOhIMEIBwIB4Chmf1EOP7hDAcAZzgA4UA4SADCgXAAGJzZc0kVAMIB5xeOLv/R\n",
       "+a5y4JaE42cToJcEG1nQ6MV1hEMneIQDEA6EAxAOQDhUaEXym/Nd5cAtCcfPJkAvCTayoNGL6wiH\n",
       "TvAIByAcCAcgHIBwKJEprreXme+qBm5JOH43AVpJsJIF9V5cRzh0gkc4AOFAOADhAIRDjTbsqp+c\n",
       "7yoGbks4fjcBOkmwkwXlXlxIODSCRzgA4UA4AOEAhEOV5Ffnu4kXwvHDCVBPgq0sJL8rHOrBIxyA\n",
       "cCAcgHAAwnGW7xCnCtyicJAAsnCqPCAcgHAgHIBwAMLBfJepLsKBcCAcgHAgHIBwACAcCAcJIAsI\n",
       "BwDCAYBwAMLBfJepLsKBcCAcgHAgHIBwACAcTHURDoQD4QCEwzZ/xX/kBg4UjohBgIPXQQd4Od/1\n",
       "I3DxswlwFLpU+D+chcCbJAAYm9lPhOMfznAAcIYDzrjW/uqXC8b/8EEQbAVkAWBrZs8lVQAIByAc\n",
       "CAdTXYSDLAAgHAAIBwDCgXAw1SULCAcgHAgHIBwACAfCwVSXLCAcAAgHAMIBCAfCwVQX4SALAAgH\n",
       "AMIBgHAgHEx1yQLCAQgHwgEIBwDCgXAw1SULCAcAwgGAcADCgXAw1UU4yAIAwoFwAMIBgHAgHEx1\n",
       "yQLCAQgHwgEIBwDCgXAw1SULZAEA4QBAOADhQDiY6iIcZAEA4RiooorcwGH8+ydlEADhQDiY6iIc\n",
       "ZAHAzMz+z5/xr2XkiwdxhgMOrNuc4QCEA+FgqotwkAUAYzN7LqkCQDgA4ZhtA1ZBOI4df+F18P50\n",
       "5FxpQDgA4UA4AOEAONFUS9DXg4XjVPPyqwqHOFVvEQ5AOBAOQDgAEA6EA+EgCwgHIBwIBwDCAadb\n",
       "WW1cp3GG+a79C4UO7MU5hMOPFJx2M7heGgAQDgCEA665slqZxZxgvitcd9ppN04iHH7k4KxZMNS+\n",
       "CHxJAwDCAYBwAMKBcDDVRTgQDgCEA+EAhAMA4UA4EA6EA+EAhAPhAIQDAOGY0BapzeYRDpMZQDgs\n",
       "DZPKVoBwAMKBcADCwSAAwqFA2eWJ24kWwrEjAwiHlWFS2woQDkA4EA5AOBgEQDjkqcLC9UQL4diR\n",
       "AYTDxjApbgUIByAcCAcgHAwCIBzyxJMdCcLhXjjUMoBw2Bgmxa0A4QCEwwP+iv/IDRwoHBGDAAiH\n",
       "PIqHdhEO4yPk/hQTwrFzK0A44Lf4OxWOfzjDAcAZDkA4FKdaGcJxsHBkrhOAcOzcChAO+C24pAoA\n",
       "4QCEA+FAOBAOhAMA4QBAOAAQDoQD4UA4EA5AOBAOQDgAEA6EA+FAOBAOAIQDAOEAhAPhQDgQDoQD\n",
       "AOEAQDgADheOtJOearWZEEWWZV1cIRwGmh3GsyiyUnqyW8dN0wRtgnCYa7aKiizO2qBsZLeCPmlF\n",
       "i3AAIBwACAcgHDKtdkJaOG5LP+ykCCuEw0Szw3i2a3VpkoH7LLcqhOWZ7k8JRxS2D5ULW8mt4P6Q\n",
       "3HLttAfCAQgHwgEIBwDC8aTt1t9pNplVpaIZ9icRwmGg2fQ5jnEol4E4HpKGcJhqtiryYQOIl2cn\n",
       "s63gkbVMpAgHAMIBgHAAwrHVRlXH6zVZjKdakUiG/zYIh4Fmo+eUNRGtTAaq4e+TCOEw1Wz3OluX\n",
       "hLJbwWOLyVe2HIQDEA6EAxAOAIRjoH1JxNLfx6NfnpfyZIvLIBwqzb4ujSoXDW6SgaeXpLYPrf+O\n",
       "cMTvXUIaS24F4TCpKgLLaUA4AOFAOADhADi/cCTVbd+wdvNrPdlihlsOShHbnGj9jnC8pqyJyGQy\n",
       "UAnRpMpzVIRjudlS5O/RLSW3gnuu6tUnVyEcgHAcThVV5AYO498/KYMA5xKOKuxszearZHQfQTS2\n",
       "iG7YUPJisle5H4ev82bhr8120WzgvnRDjMfzeWnU4xq17QxE4sbwTKvvGRBeB+9dFpr53UgyW0HW\n",
       "RpmI08B6Gj6DRzjAR6o/f8a/lpEvHsQZDjhwDscZDjibcAR5Zks4+gujXqcr0nFtfmwnZTe5aiQS\n",
       "WdM08f2o0Ze/Nt5Fo4H70g0xHs/n/PRxjdp2BoKqzULxuOvgewaE18F7l4V8fuO3zFbQD3/bVYsL\n",
       "GBeOd/AIB/gIl1QBIBxw1IpmADutjo+wZ3EcZ8uXotfhdHMpRHXmwL0b//fTbUUol4E78VoV8zx4\n",
       "Az0x2mw4WqUrya3gkauVu25Md3LxgAEAwoFwAMIBsHNltTLZGLfxuPM7XHzGapUVk3o9ut5dvtO+\n",
       "BO5LN0aNvFSvXbqPZpqBYYpbrQqH18F7l4X83VqdSm4F97MNpchsbwfcwwEIB8IBCAfA6YVj2Bby\n",
       "+xHbJBo9fTWK6+dMOBlX79fl6t//GuFQavZ1C0cVFjIZqLLnctVyBhAOpWZHD4VuZLeCx2sCHxuD\n",
       "3TQgHIBwIByAcACcWzjKYVt4vGq8Cd57jDhIuteE7L0fGT1Ad+GvEQ6VZp+3cFRdJ5WBerjuKm5W\n",
       "MoBwKDVbvm4abyrZreCetfvd5pXlNCAcgHAgHIBwAJxaOMrn9VFFX5TLqn5dL1WVQfM8bluNnuLz\n",
       "fif50l8jHCrNPkwvSPJ4bUzfGYgff3j/l8UMIBxqzQ5Pha7jKpDdCoblopuyW04DwgEIB8IBCAfA\n",
       "iYWjKoS4P2envv1wn8gW4ycZFq97CsLnvbFxJ0T2+puFv0Y4pJvN+vGMs6yIy/UxfWcgSPoF6tW/\n",
       "RjgUm63iIsviRDYHfdbuHzdFFNlOA8IBCAfCAQgHgJuplsX3cIyoRDW6afZdp7+/3mzpr3kPh3YC\n",
       "DGWA93DsyYJaDqyngfdwAMKBcADCAeBmqmXxPRzjXUTX3zVbFo9XPLyf0vp9qrX017yHQ184zGSA\n",
       "93DsyYJaDqyngfdwAMKBcADCAeBoqmVnNj+jypqynzLdN5Co2JhqLf01l1TpC4eZDHBJ1Z4sqOXA\n",
       "ehq4pAoQDoQDEA6AKwnHa1fR/8/owvQwU/lrhGN3AnZmAOEwkQW1HFhLA8IBCAfCAQgHwAWFoy6D\n",
       "LCnDSm6q9fHXCMd+49uXAYTDQBbUcmAvDQgHIBw7+Cv+IzdwoHBEDAIgHIu0QZA12eiw0OpU6+Ov\n",
       "EY7dwrEzAwiHgSyo5cBeGhAOOAd/p8LxD2c4ADjDAQiHGpsXk7jo4k9dUrUvAwiHjWFS3AoQDvgt\n",
       "uKQKAOEAhAPhQDgQDoQDAOEAQDgAFqcWbt7D4aFw/Nh7OLwUjh97D4enwsF7OADhQDgA4QCwO9Vy\n",
       "8x6OJbr8MOH4sfdwmMkA7+GwMUyKWwHv4QCEA+EAhINBgJMJh53ZvCStSA4TDtOzaC+6odyIWga4\n",
       "pMrGMCluBVxSBQgHwgEIB4MACIcCmdI2g3CYHyGlDCAcVoYpU9xzIByAcCAcgHAAIBzytGFXIRwH\n",
       "CodSBhAOO8OktBUgHIBwIByAcDAIgHCokSAchwqHSgYQDlvDlCAcAAgHAMIBCIfDCSnCceEEIBye\n",
       "tI9wAMKBcADCAYBwIBwIB1lAOADhQDgAEA447cr6wY8Ih53I/Rj/swiHFymwtzKcRDi8SQPACYWj\n",
       "iipyA4fx75+UQYCzmYe3jZ27r8d040wJCDw6on6qLJhuH80Ar6n+/Bn/Wka+eBBnOODAnRZnOADh\n",
       "oK8IB8KBcAAYm9lzSRUAwgEIx3QTsAvCcaEEXFg4zpUGhAMQDoQDEA6AM021TvTlgvE/fBAEWwFZ\n",
       "AEA4ABAOQDgQDqa6CAdZAEA4EA5AOAAQDoSDqS5ZQDgA4UA4AOEAQDgQDqa6CAdZAEA4ABAOQDgQ\n",
       "Dqa6CAdZAEA4EA5AOAAQDoSDqS5ZQDgA4UA4AOEAQDgQDqa6CAdZAEA4ABAOQDgQDqa6CAdZAEA4\n",
       "EA5AOAAQDoSDqS5ZQDgA4UA4AOEAQDgQDqa6CAdZALiacPwV/5EbOFA4IgYBEA6Eg6kuwkEWAAzN\n",
       "7CfC8Q9nOAA4wwEIB8LBVBfhIAsABmf2XFIFgHAAwoFwMNVFOMgCAMIBgHAAIBwIB1NdsoBwAMKB\n",
       "cADCAbBj7XONH1Md4Ufg4pTjb2SuKY7Bl674MuP3JwsACAcAwgGXXfvO+IXihHF//0ZxzoSLM655\n",
       "PmXBnxEU3mQBAOEAQDgA4UA4EA6EA+FAOADhQDgA4QBAOBAOhAPhQDgA4UA4ABAOQDgQDoQD4UA4\n",
       "ABAOAIQDEA6EA+FAOBAOhAMQDoQDEA6AI3b9bZH+pnCYC3xfJDr9uIxwaCXBeBb0enER4dANHuEA\n",
       "hAMA4QCEQ46yy5PzzrR2NGEy8D2R6PXjIsKhmQTDWdDtxSWEQz94hAN+Vzj+/t9/5AYOFI6IQYCz\n",
       "CUcVFmeeaek3YTTwHZFo9uMawqGbBLNZ0O7FFYRjR/AIB7iY2U+F45//88WDOMMBRwpHyyDA2YQj\n",
       "nhTzHxIOo4HviESzH9cQDt0kmM2Cdi+uIBw7gkc4wMnMnkuqAGaECAecTziMHmI+k3B4cWxdvx/X\n",
       "EA7to+tGs3DwMX5xygKAcIAbkukb7REOgCDIuaQKTigc2a8Kh8nA9whHdtj4eyAcWeBBFrR7cQnh\n",
       "yA7uOQDCAYBwAMKBcCAcCAfCgXAAwoFwgCd0omEQAOFAOBAOhAPhADAkHCHCATClEDGDAAjH0gJS\n",
       "IBzWAreTAITj5GlAOMBvWoQDAOEAhMPwAgiHxZnugc0iHN6mAeEAv4lEjnAATMlExiCAJ8KRdhrz\n",
       "jTYTosiyrIsr5S/0RTiOCVx8tFUUWancj9veNG6aJmgT8yPlYKarGrp28BLCUUVFFmdtUDbqq0If\n",
       "QtEG1sfLWrOOgkc4wAGN6BAOgCmxKBgE8EQ4OtmqPJ3yDaW9CCvVL/RFOI4JXHxpqxW1cj/uM72q\n",
       "EBZGyslMVy107eC3sxCF7UNhwlZ5VbjX8VLuyL+XaXAVPMIB7mdWCAdAf+IP4QBPhKPtZF/nNZla\n",
       "pMODD+rtJ655KhwHBS4mbQ1txKFqP+J4COKkM13F0LWD38pCVeTVc7JSKq8KjxgykZ5TONwFj3CA\n",
       "A7LpxeoIB0C/HXQMAnghHFUdy1bDyYWAkUiG/zZqX+iLcBwV+OT48nOylki9CnTUj2pYMoksjJST\n",
       "Q+tqoWsHv5WF7nWiKgnVV4XHCpRLrUgepsFd8AgHOKCYFmWEA6Bf/0IGAbwQjvY1g95eMJ6U9sd/\n",
       "s+2l/RSOowIXX9oKSqkHZY/68Zymp6mFkXIhHIqhawe/kYX4fUVXGiuvCuEwrSnsj5eNZh0Gj3CA\n",
       "A7rpBZoIB0B/hI7yC14IR1LdqrLcIeZ6UsyHk3SlxAPXvBSOwwIff/iarCUyj5EY9+NWQprU5HC6\n",
       "Fg610PWDX89COXqqTVUqrwr3ntfW7mKwnAaXwSMc4IBwen0fwgHQV19WQPBBOKpkdDX9BnkxKaH3\n",
       "49J13qh9oS/CcVzgYtzWswORzGH+ST+i/hUMmaWrWewLh2Lo+sGvZ6GRXAUWVoWsjTIRpwYH1WUa\n",
       "XAaPcIB9KjG9LQ/hAOhLt+zFHAA2haNfDVeP1afPSUbZTS6diETWNE0cVVvL7VKDavmHncKxGfgL\n",
       "xcBVhON1H8PK9VlLCQiqNgvF8pOyRgnYMdM1mgDV0JeTsBW8dBZymTuel7eBvgNtV0ks6mMaZIKP\n",
       "wkg3+PeiCAc4mthPVzOEA+C+k20ZBDhcONIsjuNs+SrsNI6Hqy7qcPr00mL1CU/v5XapQfV8uMLn\n",
       "DzuFYyvw0T5LKXA14Xg/1nXppq7lBNyJl54pO0mA/pTUbALUQl9LwnrwClkIR9mslLeBR8+Xz9Ds\n",
       "3Axsp0Ei+JuVJJrBvxdFOMAN7expPAgHQNAfHuJV4+DALb7y/vfHjCBceWZaMsyYqqyY1MzpG12X\n",
       "l1vueQDBWwAABk5JREFUxRqvKUu2+MOOVqUCf83EFANXGf6X8LTLByC+J6B5zjtriQQIoT1WZhOg\n",
       "GPpSEraDl85C/u5SnSpvA/ehKNfuQdm3GVjaDt5nOLaDr55Soh58NVFzhAOs08zmVQgHwH0F5Lm4\n",
       "cJSFvOvxMPEIZWZM7fjSl3TLmBMTZzj2/9HCAhKBv1ELfLOLYtTWcM1JFRZqCaiyZwuVjHAEfiRA\n",
       "NfSFJEgEL52F0ZORG/Vt4PHOvLU1IskDf9MgE/woANXgk3xfNwEUKWbHIBAOgHv5pf7C0cJRDtX5\n",
       "8cbtNm7TKIqDKMrSr7OGeDTBGz1RdnM5/4RDJvC2uf2uEfhouS3heN7HUHWdYgLqwZTiRmY5D4VD\n",
       "IvTnZ+rBz5Zcf0rV8z6DplLfBu5/c7/1urKxGdh/StV28E0cpN+3g83gx4siHOCAfHYMAuEAeEx1\n",
       "WAPhWOEon5Oh4r4ytknY9i8TroIo+zpjqkYPtRm9pHtzOe+EQybw/sciVg98vNyWcDx85zZUsdxA\n",
       "vvsRPxZpMqnlfHzj3Hbow2elevCzJVezMDwauY6rQH0bGFqIeoO1sBlYT4NE8F1bJ89roxSDHy+K\n",
       "cIB9qvn9YAgHwH1vyV3jcKhwVIUQ90fM1LcfblO4sor6yVF/AD9uvs+YwufncSdENkw+JJbzSzik\n",
       "Ai/7PURRKwc+XW51qpv1bcVZVsSl7EC++xEk/aK13HLezXRlQn9+VikHP19yXfuquMiyOFFPQR/D\n",
       "vYg3RRRZ2Qzse9928GJ8vkYt+MmiCAdYp57fUYRwANx3RCJjEOBA4fikn0mn/SGivF6YbGV6y/n5\n",
       "pvHVANrJlFU+8FZhqussAV6++G87hP6zJNQJfrqkShZ0U2BlM3Cdhi8RpGFU1HrBTxdFOMA62fwx\n",
       "EggHwKN2U4DBL+EI0yCIiv4ofZCqTLY2l/NdOL4E0F+vk4bqgU+XUxQOWwk4gXB8C6H/LG5evysE\n",
       "P11SJQu6KbCyGbhOw5cIbr/eVudSJ/jpoggHuJ9UIRwAd2KRMgjgkXCU/ef9kcq26B9aUxb34/T1\n",
       "5mRreznPheNbAPUt1CxTD3y6nJpwWEuA/8LxLYT7Z3lSp8rBz5ZUyIJuCuxsBo7T8C2CIgrSPIh0\n",
       "gp8uinCAbT6f0YxwANxJ1t6YBOBcOJK+Wne3wlhm/UNr0v5FX2Wcv+5ZWJpvbC/nuXB8CyCIo6Zr\n",
       "1QOfLqcmHNYS4L9wfAvh/lnUaCRhtqRCFnRTYGczcJyGbxH0v2ZRqhP8dFGEA2wTfbyYB+EAGIp3\n",
       "yBiAR8Lxwcdr1cJMbznfL6laCCBM9QIPUz3hsJaAE1xStRm6/tq3Kwu6KTCyGRydBpPBIxxgm+5j\n",
       "SoVwADx1PGEQwF/hqEu9+cbncupqoPricLPzrDIob5HWnXrgs+X2CYexBGhMSa0kYE/o+mvfnizo\n",
       "psDMZnBwGowGj3CAZcrPi0YQDoBnBeY5VeCxcLSaU77W17mGbDduAZRdG8WVeuCz5fYJh7EEiJOt\n",
       "ed9C11/79mRBNwU+bwbWC4BCFgCMEc/e+odwALxpPrcPAI+mfdrzjXMLh+XAd4yGZj/E6de8PUkw\n",
       "m4UwOyb6UxcAhAOsU305gotwALw2EG4bB4QD4UA4EA6EA2AP0ZdJPcIB8N5COMUBJ5pvdPmPCofR\n",
       "wHeMhmY/riEcukkwmwXtXlwhDTuCRzjALmEcIBwAK5sIpzjgRPONVvM5B6cXDqOB7xgNzX5cQzh0\n",
       "k2A2C63+sz7EzxYAhANs0347fItwAIw2B05xwImmfZmof1I4jAa+ZzT0+nEN4dBNguEs6PbiEmnQ\n",
       "Dx7hAJtUIgoQDoDV+l0wBnCiaV8bdpXTL/Rlumsw8H2H+XX6cRHh0EyC6Sxo9uIaadAOHuEAq1Op\n",
       "LkA4ANbJa8YAzjTtS35TOAwGvnM0kt8VDr0kmM9C8rvCoR08wgEWSb7P6P0Rjju8CAEOXhFDLqqC\n",
       "s037flI4jH2jCH50/I/qiCdZ+PE0IBxgj/zj5qJc862YVqiiO7zqGY42c061AcKBcDDTRTgQDgCt\n",
       "Cf3nlSLtY47P2AAAIBwIBzNdhAPhAAAAAIQD4UA4EA7SgHAAAAAAwoFwMNNFOBAOAAAAQDgQDma6\n",
       "CAfCAQAAAJcWDucQ+KG9EL+75pEFb/JA4YUD+P8TUpGga/iONgAAAABJRU5ErkJggg==\n",
       "\" style=\"display:inline;vertical-align:middle;\" /></a></span>"
      ],
      "text/plain": [
       "|- forall_{g, h, k, m, n in NaturalPos} [forall_{A_{1, 1}, ..A_{1, _b}.., A_{1, g}, ....A_{_a, 1}, ..A_{_a, _b}.., A_{_a, g}...., A_{m, 1}, ..A_{m, _b}.., A_{m, g}, B_{1, 1}, ..B_{1, _b}.., B_{1, h}, ....B_{_a, 1}, ..B_{_a, _b}.., B_{_a, h}...., B_{m, 1}, ..B_{m, _b}.., B_{m, h}, C_{1, 1}, ..C_{1, _b}.., C_{1, k}, ....C_{_a, 1}, ..C_{_a, _b}.., C_{_a, k}...., C_{m, 1}, ..C_{m, _b}.., C_{m, k}, D_{1, 1}, ..D_{1, _b}.., D_{1, n}, ....D_{_a, 1}, ..D_{_a, _b}.., D_{_a, n}...., D_{m, 1}, ..D_{m, _b}.., D_{m, n}, P_{1, 1}, ..P_{1, _b}.., P_{1, g}, ....P_{_a, 1}, ..P_{_a, _b}.., P_{_a, g}...., P_{m, 1}, ..P_{m, _b}.., P_{m, g}, Q_{1, 1}, ..Q_{1, _b}.., Q_{1, h}, ....Q_{_a, 1}, ..Q_{_a, _b}.., Q_{_a, h}...., Q_{m, 1}, ..Q_{m, _b}.., Q_{m, h}, R_{1, 1}, ..R_{1, _b}.., R_{1, k}, ....R_{_a, 1}, ..R_{_a, _b}.., R_{_a, k}...., R_{m, 1}, ..R_{m, _b}.., R_{m, k}, S_{1, 1}, ..S_{1, _b}.., S_{1, n}, ....S_{_a, 1}, ..S_{_a, _b}.., S_{_a, n}...., S_{m, 1}, ..S_{m, _b}.., S_{m, n}} ((( MultiQubitGate(B_{1, 1}, Q_{1, 1})  & ..MultiQubitGate(B_{1, j}, Q_{1, j})..  & MultiQubitGate(B_{1, h}, Q_{1, h})   \\\\ \n",
       "   \\colon  & \\colon  & \\colon   \\\\ \n",
       "   MultiQubitGate(B_{i, 1}, Q_{i, 1})  & ..MultiQubitGate(B_{i, j}, Q_{i, j})..  & MultiQubitGate(B_{i, h}, Q_{i, h})   \\\\ \n",
       "   \\colon  & \\colon  & \\colon   \\\\ \n",
       "   MultiQubitGate(B_{m, 1}, Q_{m, 1})  & ..MultiQubitGate(B_{m, j}, Q_{m, j})..  & MultiQubitGate(B_{m, h}, Q_{m, h}) equiv  MultiQubitGate(D_{1, 1}, S_{1, 1})  & ..MultiQubitGate(D_{1, j}, S_{1, j})..  & MultiQubitGate(D_{1, n}, S_{1, n})   \\\\ \n",
       "   \\colon  & \\colon  & \\colon   \\\\ \n",
       "   MultiQubitGate(D_{i, 1}, S_{i, 1})  & ..MultiQubitGate(D_{i, j}, S_{i, j})..  & MultiQubitGate(D_{i, n}, S_{i, n})   \\\\ \n",
       "   \\colon  & \\colon  & \\colon   \\\\ \n",
       "   MultiQubitGate(D_{m, 1}, S_{m, 1})  & ..MultiQubitGate(D_{m, j}, S_{m, j})..  & MultiQubitGate(D_{m, n}, S_{m, n})) and  MultiQubitGate(A_{1, 1}, P_{1, 1})  & ..MultiQubitGate(A_{1, j}, P_{1, j})..  & MultiQubitGate(A_{1, g}, P_{1, g})  & MultiQubitGate(B_{1, 1}, Q_{1, 1})  & ..MultiQubitGate(B_{1, j}, Q_{1, j})..  & MultiQubitGate(B_{1, h}, Q_{1, h})  & MultiQubitGate(C_{1, 1}, R_{1, 1})  & ..MultiQubitGate(C_{1, j}, R_{1, j})..  & MultiQubitGate(C_{1, k}, R_{1, k})   \\\\ \n",
       "   \\colon  & \\colon  & \\colon  & \\colon  & \\colon  & \\colon  & \\colon  & \\colon  & \\colon   \\\\ \n",
       "   MultiQubitGate(A_{i, 1}, P_{i, 1})  & ..MultiQubitGate(A_{i, j}, P_{i, j})..  & MultiQubitGate(A_{i, g}, P_{i, g})  & MultiQubitGate(B_{i, 1}, Q_{i, 1})  & ..MultiQubitGate(B_{i, j}, Q_{i, j})..  & MultiQubitGate(B_{i, h}, Q_{i, h})  & MultiQubitGate(C_{i, 1}, R_{i, 1})  & ..MultiQubitGate(C_{i, j}, R_{i, j})..  & MultiQubitGate(C_{i, k}, R_{i, k})   \\\\ \n",
       "   \\colon  & \\colon  & \\colon  & \\colon  & \\colon  & \\colon  & \\colon  & \\colon  & \\colon   \\\\ \n",
       "   MultiQubitGate(A_{m, 1}, P_{m, 1})  & ..MultiQubitGate(A_{m, j}, P_{m, j})..  & MultiQubitGate(A_{m, g}, P_{m, g})  & MultiQubitGate(B_{m, 1}, Q_{m, 1})  & ..MultiQubitGate(B_{m, j}, Q_{m, j})..  & MultiQubitGate(B_{m, h}, Q_{m, h})  & MultiQubitGate(C_{m, 1}, R_{m, 1})  & ..MultiQubitGate(C_{m, j}, R_{m, j})..  & MultiQubitGate(C_{m, k}, R_{m, k})) =>  \\\\  MultiQubitGate(A_{1, 1}, P_{1, 1})  & ..MultiQubitGate(A_{1, j}, P_{1, j})..  & MultiQubitGate(A_{1, g}, P_{1, g})  & MultiQubitGate(D_{1, 1}, S_{1, 1})  & ..MultiQubitGate(D_{1, j}, S_{1, j})..  & MultiQubitGate(D_{1, n}, S_{1, n})  & MultiQubitGate(C_{1, 1}, R_{1, 1})  & ..MultiQubitGate(C_{1, j}, R_{1, j})..  & MultiQubitGate(C_{1, k}, R_{1, k})   \\\\ \n",
       "   \\colon  & \\colon  & \\colon  & \\colon  & \\colon  & \\colon  & \\colon  & \\colon  & \\colon   \\\\ \n",
       "   MultiQubitGate(A_{i, 1}, P_{i, 1})  & ..MultiQubitGate(A_{i, j}, P_{i, j})..  & MultiQubitGate(A_{i, g}, P_{i, g})  & MultiQubitGate(D_{i, 1}, S_{i, 1})  & ..MultiQubitGate(D_{i, j}, S_{i, j})..  & MultiQubitGate(D_{i, n}, S_{i, n})  & MultiQubitGate(C_{i, 1}, R_{i, 1})  & ..MultiQubitGate(C_{i, j}, R_{i, j})..  & MultiQubitGate(C_{i, k}, R_{i, k})   \\\\ \n",
       "   \\colon  & \\colon  & \\colon  & \\colon  & \\colon  & \\colon  & \\colon  & \\colon  & \\colon   \\\\ \n",
       "   MultiQubitGate(A_{m, 1}, P_{m, 1})  & ..MultiQubitGate(A_{m, j}, P_{m, j})..  & MultiQubitGate(A_{m, g}, P_{m, g})  & MultiQubitGate(D_{m, 1}, S_{m, 1})  & ..MultiQubitGate(D_{m, j}, S_{m, j})..  & MultiQubitGate(D_{m, n}, S_{m, n})  & MultiQubitGate(C_{m, 1}, R_{m, 1})  & ..MultiQubitGate(C_{m, j}, R_{m, j})..  & MultiQubitGate(C_{m, k}, R_{m, k}))]"
      ]
     },
     "execution_count": 11,
     "metadata": {},
     "output_type": "execute_result"
    }
   ],
   "source": [
    "temporal_circuit_substitution"
   ]
  },
  {
   "cell_type": "code",
   "execution_count": 12,
   "metadata": {},
   "outputs": [
    {
     "data": {
      "text/html": [
       "<span style=\"font-size:20px;\"> <a class=\"ProveItLink\" href=\"__pv_it/demonstrations/cc9396400970554427493948cda805e838c9c6130/proof.ipynb\" style=\"text-decoration: none\">&nbsp;&#x22A2;&nbsp;&nbsp;</a><a class=\"ProveItLink\" href=\"__pv_it/demonstrations/9c54e321c7a6380057aa4c10d851a28c667e923f0/expr.ipynb\"><img src=\"data:image/png;base64,iVBORw0KGgoAAAANSUhEUgAABOAAAABlCAMAAADTV2w6AAAAM1BMVEX////f398yMjLMzMzc3NyY\n",
       "mJgiIiJmZmZERETu7u4QEBCqqqpUVFSIiIi6urp2dnYAAACKXO0kAAAAAXRSTlMAQObYZgAAEFFJ\n",
       "REFUeNrtXYm2q6gWtHFAFIT//9p2Fg0SjYBwbtVar1+8yQH2VG62CFm2QHaZjsPlbSjXeK2TsAgv\n",
       "CuMJSeUHf8aBE9R9KKeV0nb5g0u7DpHXOglMcOHb6UgyUgUcXYoOrNLTfSinFdx2CYL7ywSXlSQV\n",
       "qUBwILifnLZtbJcguL9NcFktE5EKBAeC+8VpWdNZLkFwf53gXBgcBAeCi9Zpa2q7BMH9dYJzkbKD\n",
       "4EBwsTptq5jlEgT39wkuq2QSUoHgQHA/OG1FbZfexlrWuX/bPe8kGhv7FKVVxZ8iuER8S8UhSCR2\n",
       "8OW05f53pRNf/zrWglRd5tt2LjqJhOA8i+LkrhaLYpPxLRWDINHYwZfTVrXt0pNLs6Z+3l6QTuIg\n",
       "ON+ilC7qEpEoNh3fUhEIEo8dPDltrjrLpS+XpjcDSr3WSRwE51sUpsSfIbh0fEtFIEg8dvDktLSx\n",
       "XfpyaSfkHqSTOAjOuyiEvCCVH6TjWyoCQeKxgyenbbjt0hvB8RBOyGOOw3sE51sU4fMxQ2CCS8a3\n",
       "VASCxGMHP06bq9JyCYL7VwiucGR4EBwILhjBXXHaAwm6upGD4BIjOFepOwgOBBeM4K50UTe2y3AE\n",
       "V9I9GedUMOdOeOjk0EdSBOdclLqKnOByQ8m6Tdu3VARBEtAOrzjtoRLY1GFc+iA8I5+rkrsmd+uE\n",
       "hk52fSREcB5EkSq8VJenIkNc7LYonGWl87+1RZK+pSIIkmB2eMdpmaKWSycuXXKlhtdbh/8nlBmF\n",
       "L00DpeS67X7tRO/jF1+QhC8mcr28RoyiFKFEKVUeguB2Ul0EG++6u8CaQyVf1MKL08CK2LdU2CDp\n",
       "NSmolPTXauszO7zjtPl+KUnuajnUbqxqlkJVZ8LL7Zu2YZ//eMF2dzox9/GDggkvZTP7C/emtyCi\n",
       "fJq+8EFwO6m+oJpHQIqzwMqqNTvIEvQtFThIJBn5gJNzXdsM8cwOYZz2Y/KsWsulG5fu5lHkWnp4\n",
       "YjvGJVc/2e56J6d93FdwKbbMu+Du9SbDiWJI3gn1QXC6VN98c6ncZMfAKhY3FUs2IkWCvqWCBgkj\n",
       "S/2poWe6thnioR3COO2XHM/ZPGV335gbFRp7qtObU/mbE97qpHSk4Ln9ui6yguTu9daFE+Wjiyyv\n",
       "K5b58Iarc/ll+jLnD3pgleyYMbAmQd9SQYOErD/lyjpVPPnyoR2COO2CeklIPa0S2Y2VzBe19urG\n",
       "gXmfO+GtTlwpmK7eqRylviaRgojS/8nh+RLvhMgyr1J9maFOqV4xy6UHlvz0ZNKl51sqZJBodxb5\n",
       "kcdYtx6avnxqhyBOu92dV1F3d2np6p1rZRiEVl04ToXNtmvulDDudGLu48EDJ5Zn/vQWSJRmfxMf\n",
       "7smVN6k6yYtCCCrGz3WRC8HZUAMfJ/0Nyzpaq3q8ElQLrPkXfWCJaXDtEmOSpudbKmCQFFrtk/Zc\n",
       "Z9C13RBP7RDCabXcki6i7hiNeiC4ThE6oNaKL8ctS7Sy5ya8/tRFOe3E3Edky0Q6rYAaQpRmT2ey\n",
       "nf7nRyrZz+vFUEMphs+8Gjqr+4y4a8Z5hF4WqkstsOS4ketQ+hGz4Muo11NIEvItFTBIpLbqn/Rq\n",
       "N+jaboindvDvtLTSMOePh9k497Cj7FZdWJLXghxkb7XlMNoeKFqVWzntxNzHfQVLooF60lsYUXqH\n",
       "3K/xrsaOPXlD3mYVGdOKfIgSwkdJinIq99T1rgTXboHV/5ZWc+lnHu66BKtKz7dUwCCptmkpU01m\n",
       "0PUXQzy0QxCn3fVHWkcE9+UM14/qQtu0x2q2VvnTN3nilbD18XMn5j5CZ3AXRQolyt5XxgfEGc/9\n",
       "SNVPgsZIHm7g/fjHyYxU//XRMnQ7/mctCy2HiwyBxaYvpVYAXZZg5Spu37J34j9I1PYnok8T2aeu\n",
       "vxjikR3COO2hbkT6IQeYoq7VhfVBC68PjzK6k5sTv1/CuNSJuY/IpqhrCS6QKNVuijo9Qc25L6mm\n",
       "ec80a+lGGYa3BMdP+ZhrsCWX0QNr+EUxBRab42Ip/kyBlZZvqYBBUq3fsqZZtb7XtdUQD+0Qwml3\n",
       "KLgchrh/bCrdP0XdFvhIzT6HpQK8flYnudlJCjU4vQQXRJRdvbad78uk8CTVNO9R5ZAMjNXncUnT\n",
       "+EnM8TclFbup0fSLfMwzZrmXQOqq9HxLBQySbe0ZnyarBl1bDfHUDv6dlpIdiilb3U1ChPt1cJ/V\n",
       "BUOm+PRJ181OXD3F2dXguB+9BRLlsC5zIbaWepKqkdl0gJuc6zDlsLq95lPlp+z/vXfdNj8WtzPa\n",
       "R8nwinY7G7qoj8XthHxLBQySdSO0ZbmIQddWQzy1g3+n3eWLxMizpepcE1xlWODzsdmwZjvxy1ql\n",
       "m50IZ+tw/GVwlT6aEKLoy5bWZUSZk8W+n1IVo6P1sVPm0/wsHycwlA9TGTqwXv9xmv1Iepwa9d+W\n",
       "i5+uD3qpTM+3VMggEaOGWb3cuwy6thriqR28O+2+/rbUMveM1jomOEaJUlwMhK9UrQncSLPslDeK\n",
       "zG8DX7Xd3U7O+oiI4BgfRJIhRWH6K1R8dQMni30/pZomMgUv2yFWOiGm9+8ZF6ItuMiHlKAsd3Oe\n",
       "eYFpW8u6FOvMeRV6e5MkHd9S4YJkLKhSSelq2U9d2w3x1A7enXY3Hc6Piavx0klZ+UpqKU21wnsv\n",
       "RP/WSbwZXGhRdu8ta7e53Ls3yC/riY+vCOXaA7puuYOzKkHfUhEEyXVDPLSDd6fVUZzleB62S7pk\n",
       "uyaEEzZ/h+Dci+Jsn4Xbhvq2gvD4kre+S+J6p7a8bB+vb6kIguS6IR7a4SWnrYjtMhTBOdjq6rdO\n",
       "nu4H9xLBeRBFejx1RtmnGd+ctN5v0yP1UsvxQ1K+pSIIkhuGeGaHl5yWKttlKILLjJuVdm6dMDPt\n",
       "KNolSXAeROEv7ejbVop8qfMdNlrUfl2KXeyl5lsqgiC5YYiHdnjHaQ+nQ7s64fz2lvZtiH3z279z\n",
       "JoNzUVxtVv9wmmSuqAyyCkM1sJ6FLoskfUtFECQB7fCK0+b7vDT3sO3PJdv90h5O1XInSuHzaHuc\n",
       "qoVTtV5zWhz8DILLcPAzCC5BgrvktH6KcCC4xAjO56mBIDgQ3HtO2+3X9naqC+HSILjICM7nDBUE\n",
       "B4J70Wkrarv05NKkCmA7J53EQXC+RRGutpGJQLHp+JaKQJB47ODLab08R1VfO+38285JJ3EQnG9R\n",
       "HJVeo1BsOr6lIhAkHjt4c9rDO2ONDOHS/N7jWvVaJ3EQnGdRWp+PGIIrNhnfUjEIEo0dvDltu8/Z\n",
       "Whcp3IUFeA1h3m3noJNICM6vKO6OQI1Csan4lopCkFjs4M9pD7904e1XxtqFsF33VwjOpyjbSeN/\n",
       "g+BS8S0ViSBx2MGf0xZNbrmMwqXVa53EQ3De2mFNl4ZUAUeXogOr9HQfyGnbynYJgvvjBMdpIlKB\n",
       "4EBwvzkt5bZLENyfJriyTkUqEBwI7ken5cJ2CYL7wwTXkWSkAsGB4H51WtrZLkFwf5bgGGfJSAWC\n",
       "A8EFc9pvg3WMt/pIXW/+kPTgY9BWIAdOXUnAH8U/nPYknoogUAEABAeCAwAQHAgOBAcAIDgQHCwH\n",
       "AAgTEBwIDgD+tTAp6/zh6NRLjaegGwAAXgyTglTd09GpVxpPQzcAALwXJuzmsYG3OMhr44noBgCA\n",
       "98KE3twF8BYHeW08Ed0AAPBemNw99/kWB3ltPBHdAADwIsH5PMHpHzseCgQHACA4EBwAgOBAcCA4\n",
       "AADBmZAbyuPtpSAuablviQrmjOAOjR/aDkRwYXUDAIDLgC6GIJT6+q15reqy119bnAcxI5+HR3b6\n",
       "WR1PCM7Q+K5t/wT3gm4AADgJaMGVIvTe0aVsfPS3C+I5LvMlXnlxGsSlKUgpuc5BuyFfaFxv+zvB\n",
       "MUGlPKRRkesGAIDTjEVd36K5mkKTFGdBnFVrKnIaxHI7d2g7nk37xwtJljbk08bNbX9tXJIxX+Lk\n",
       "XPzodAMAwBlbdEpe/bN2+rtyOnRID+JiKTCJJfWR4lsQMy65+ong9CGbGz9t+0vjjCzr0hp6Jn58\n",
       "ugEA4IwtpLr8LuQ8V5pzFT2IS3bMTliz9XaapZS/EZw+5NPGy18Ijqw/5co+1Y1JNwAAnLEFuR4z\n",
       "1Zg4FXO86UG8ZVT1Mo0j69eKOiY4fcinjf9CcBpzSpWbxY9QNwAAnLGFmiZlneRFIQQV4+e6yIXg\n",
       "bKi4izHlYFlHa1UPV4JqQTz/oA9iMYVhu8SzpOvkrb0QxM0NglO1NjNsvxNcc5HgCq22RweuM4gf\n",
       "o24AADhhi06JOc+o6/4TU8XwmVd94Mk6o1k3RJdQUzROeUipBbHM2mYqM4k5IJcQLReyqA6vW2r1\n",
       "+y2I9ceH6uKQ7Y2b27Y2LlWpZYm9Igzix6gbAABO2GKeiuVtVpExicmHkCR8DKyinGpLda2Xmdot\n",
       "iPuf0mouM815xrrca4rmghxiuNWWdW1BnBF6meC22aOtcXPb1sarbVrKVDMuaTuKH6VuAAA4YYu5\n",
       "ntXPuMb605At9IE1zpyk+q8PzSFbGv+z1KCabgtiNn03fjFH4bLcK58ym2Y/B8trfa2FFsR9YiQu\n",
       "EtxagrM2bm7b2rja/kQMD2rZp/hR6gYA/mEysx+Du9azpknWNEfqxuCqm/lTPmY2bK7A60E8/KCY\n",
       "gpjNMbgUmqYgZrw+LB7rTrIUbh+xacjWxs1tWxuvtuUiTZOtitiL/7Ju4NAAcD2D2+pZ0yRLlUPm\n",
       "Mda62fCEb/wkmumnUwajT8OmH+RjTjPH4xK0XbUE6mEZCq+f1eD0Epyl8R9qcNvSMz5PVg3iR6gb\n",
       "AADMbLHVsxo5pnFsSDnGok85LKWv+VRmKvt/7xmwzQ+F9Iz2ITm8Dt7OoVosIboW0o+b1j59irpb\n",
       "wHHe+A9PUfPlIcO6XMQgfoS6AQDAzBbrrKwYY7oP1DKfJoH5OF2ifJg40YH1+o/jVEvS4zSs/7Jc\n",
       "UhG51JXosiaCaRnXIYjFL+vgqt2bo6eNix/WwYlRZlaTZepoED9C3QAAYAhoxolSXGqzpoKX7RCY\n",
       "nRDT2+yMC9EWXORD/lGW+vxqXsza1rIuxVpMWoORrHlWI81BTHmjyPxa+1WC04dsa/ys7S/smXMq\n",
       "Kd3mjZ/ix6gbAACy7HKY7BjhE8fXkXLtYWC3rGhgWxvnL5Sb//HJdkmmxm+9bP8NMeoGAIAbAU2o\n",
       "9evjC+X6jox8yU0sL5Q3Pgmu8UxwMeoGAIDrAc1Ua//zer8lkDbL2t4nP98S6PF+cDaCe74fXJae\n",
       "bgAAuBzQbaWIsEf5flNH7cel2MW5MYgz4661nRuCy0w7+nbOCC5O3QAA8OOUzIhxW26RG/KXeUZW\n",
       "Wrbl7mnC55kM7ctnMrygGwAAstfCBKdqedYNAAAgOBAcAIDgQHAgOAAAwYHgQHAA8M8THKk8cpDX\n",
       "xhPRDQAA74VJef1Ym/sc5LXxRHQDAMCLYcK/rY59wkFeG09DNwAAvBkmZUOYNw7y2ngSugEA4N0w\n",
       "6XxyUJcywTkYPgAA6YSJVw5S6ekDBAcAIDgQHAAAIDgQHACA4EBwsBwAgOBAcLAcACBMQHAgOAAI\n",
       "ESdxw+eQE1THt+EDb+B/oAKd5wFbL/0AAAAASUVORK5CYII=\n",
       "\" style=\"display:inline;vertical-align:middle;\" /></a></span>"
      ],
      "text/plain": [
       "|- (( MultiQubitGate(H, {1})  & MultiQubitGate(H, {1}) equiv  MultiQubitGate(I, {1})) and  MultiQubitGate(Input(|psi〉), {1})  & MultiQubitGate(H, {1})  & MultiQubitGate(H, {1})  & MultiQubitGate(Output(|psi〉), {1})) =>  \\\\  MultiQubitGate(Input(|psi〉), {1})  & MultiQubitGate(I, {1})  & MultiQubitGate(Output(|psi〉), {1})"
      ]
     },
     "execution_count": 12,
     "metadata": {},
     "output_type": "execute_result"
    }
   ],
   "source": [
    "temporal_circuit_substitution.instantiate({\n",
    "                                  g:one, h:two, k:one, m:one, n:one, \n",
    "                                  A:ExprTuple(Input(ket_psi)), B:ExprTuple(H, H), \n",
    "                                  C:ExprTuple(Output(ket_psi)), D:ExprTuple(IdentityOp().with_styles(gate='explicit')), \n",
    "                                  P:ExprTuple(Set(one)), Q:ExprTuple(Set(one), Set(one)), \n",
    "                                  R:ExprTuple(Set(one)), S:ExprTuple(Set(one))}, assumptions=[])"
   ]
  },
  {
   "cell_type": "code",
   "execution_count": 13,
   "metadata": {},
   "outputs": [],
   "source": [
    "from proveit.core_expr_types.tuples import singular_range_reduction\n",
    "from proveit import Function"
   ]
  },
  {
   "cell_type": "code",
   "execution_count": 14,
   "metadata": {},
   "outputs": [
    {
     "data": {
      "text/html": [
       "<a class=\"ProveItLink\" href=\"__pv_it/demonstrations/cdcd9e3a9a3eafb8c1e9b16d89cb9c0f7d12b7830/expr.ipynb\"><img src=\"data:image/png;base64,iVBORw0KGgoAAAANSUhEUgAAAHYAAAAzBAMAAACwHOH9AAAAMFBMVEX////MzMy6uroyMjIiIiKq\n",
       "qqoQEBB2dnbc3NyYmJhmZmZUVFRERESIiIju7u4AAACOKgoaAAAAAXRSTlMAQObYZgAAAgJJREFU\n",
       "SMdjYIAD/v8kAoRWhg8MpAH+Ub3U1TtHgGy9zU5k28uXQ76buf6Rr5ftAAV6N4zqxaGX786unRwF\n",
       "mHr5bpWvJKT32gQG1mUTMPWWCDBwH8Cv940fkFjfgKH3sQHQ6nT8es0eAAk1FCUb4OL78erl+gpi\n",
       "SaEoWQAk2H+CmPUN+PT2O4BYL5CVxAfAxdcr4NNbfwHC5l0ApgyB2IcBLn5egOEWWJxZAItef2g2\n",
       "Z4S4DmhlMzhwIeLAElkCLM4KsRdRVIP05oOChOEBwkDWVDD1HyTE+htvWPmD1SOVMXx7wC5wAxEs\n",
       "//DqBccsOwPTbUhSArqZ8xOIuQ1E3L/AoAuOsLdLsYYzKEzqGNj5QW7kYjIAGQdiyj94e5HxFwND\n",
       "AdjqBcrY9LIC4zHqAUNfCDiq2EG2vAcZx3thAvv8AgaOp6C44muoxpquXp3eBYrEs2ARHlC6ZgNn\n",
       "DLntV04wCDDwQOLwJJ48yPcPHFz8DUh5kFuAs4Hh/UMw+wcevawGBRznGBjEkPMvzwIdBoZgdoae\n",
       "BwyMCfjs3d7ACIzYO8h6uf5/ZGB4XcEgFsDAe4BAucEK9TVML6NbAAM0sUF8jUdvBLdGHrYyh7Vh\n",
       "U9sDAnoncFc3YNPLybB9x3Aun5kdyNcLyUhk1vv7A8jXy5n8gPy2ChMFekfbhBh6SW22/wcATLYb\n",
       "cxzdCEAAAAAASUVORK5CYII=\n",
       "\" style=\"display:inline;vertical-align:middle;\" /></a>"
      ],
      "text/plain": [
       "MultiQubitGate(C_{i, j}, Q_{i, j})"
      ]
     },
     "execution_count": 14,
     "metadata": {},
     "output_type": "execute_result"
    }
   ],
   "source": [
    "MultiQubitGate(IndexedVar(C, [i,j]), IndexedVar(Q,[i,j]))"
   ]
  },
  {
   "cell_type": "code",
   "execution_count": 15,
   "metadata": {},
   "outputs": [
    {
     "data": {
      "text/html": [
       "<a class=\"ProveItLink\" href=\"__pv_it/demonstrations/6ad7714e0b5e840d693f403878211e37d14f36360/expr.ipynb\"><img src=\"data:image/png;base64,iVBORw0KGgoAAAANSUhEUgAAAXIAAAC0BAMAAAB7zLonAAAAMFBMVEX////MzMy6uroyMjIiIiKq\n",
       "qqoQEBB2dnbc3NyYmJhmZmZUVFRERESIiIju7u4AAACOKgoaAAAAAXRSTlMAQObYZgAAB/pJREFU\n",
       "eNrtnF9oHEUcx393ucvdJb3be5A8lJb2oRZBKBWCKEgb+loxVyml9CWVErQkrXn1D3pQVBBpTkUf\n",
       "/INRi+If7Pkk/UdOUFH6hxNKhSal9xRELbmqxdprE3d3di47szOze7c72Tk785Db5Lc3+7nZ3/zb\n",
       "++YLsFKWOy8QRTG6uPBy011BF9eMhLwZ9k2aXJNr8h4lf68YE3nu23DkR3bE1ObZ4Y2hyAuTcWXL\n",
       "Qi1ctgwsxUV+vBGOvL8WF/lkyB7aX42LfEKTd0BudLCuVIu8Gercu4382tkvKq8wyHOzrdPnKvLI\n",
       "C/MnT2SnWOTvLp8695M/ef4gwL6DrDY3apCdkEd+qQLpTyrMNr8N8HLVj7zwnTn4D9xkkW+oA8wW\n",
       "ZZH/8Zg185RZ5Ik7AIPX/cj7Dps/kvvJayLyq2a1o2VZ5A9a0+VmKtJCaWA2ZOqmH/nxkvUhZ8hr\n",
       "ol9/AEjflpUtAzeso7VU5Jb9c43ZkGM1H/Ls33bKkC07VsINsKcqi3x6xDr6lQykb+B7np7w66GZ\n",
       "O84v61CG2Z/0UXTcen/2QyoipilYBw18ID73xTq46nVKCv2y4cTcrSIV8pCnnI6w9phdzedWSxxB\n",
       "78gvQW4bGfGhWdxqQv/lHPicO4q6vlOvszp/BL1ebcCbDTJkvYmcnvvtBa3ZRpvscNI8OT0O7Wz7\n",
       "B9wR0TMeiyZl5dZOfCA+9+kGukFJF94elKVWBzOmgAgx2tz+wy43X+F0GWdbtkWTR5bno3ZeFwm8\n",
       "339sjzDTVT9yNJJPEXy5P1G2mTPFLWnk9kiewfW+8/oVazz7wN7LJf41B4kZKuQdW6wemmmQfGhn\n",
       "crVo9d+GJPJpq4e+gOt94yA81d6M5a9bHbhAhrzj+ZjZsl9RLbto9/vt5t28ky1JIk+bDbuv4dSb\n",
       "vTYCFnTBHun6zPhY/SUyxJj9vzz1EVDk/dY66OPlEwDPX5GVLfDb2ZMb2/UO1tE0/qTV8NtbFcic\n",
       "r1Mh7iqXIK/yItGvcp0rFgemivQqlwxxyXcDvNaANIPcHYme3Kw3ewGmIXWvh5wM8chfHT0DQ6Xs\n",
       "sVadJicikZNb9SbG4X7IP0PvLKiQcE9U4u6JSlL3RGn+nigdaDeXLvPI2xE55Hv55HsDkee4+9Cc\n",
       "P81yiL1/hU9eWcXnLQFOUfRJkSbvirxvJC7y4ZDkzmIxBnK0WOyeHGZLMZEP3ghJnjvQiIcc3t4W\n",
       "jhyScZHDlpDkceU5hOyhmlyT/5/IpWiKApAvh9UURdwo3d/JiN6syTW5JtfkmlyTa3JNrslVITdk\n",
       "iO5Xh1xGc96d5EbQuxs5edh/5jCCXily8mbI8eFuJudIyNUn50nI1SdfqPVqtvAk5OqTT/ZsD53Q\n",
       "5JpckytD7hWR8yTkqpF7ReQ8Cbli5AwROU9Crhg5Q0TOk5CrRc4SkfMk5GqRM0TkXAn5qpAXDgQk\n",
       "xyLy/Iz98gDQEnJXIBD5wtaQbb4zILkjIocE6qMlWkLuCgQjt+XfTd+NqvixiBHgRCwiXymUhLyT\n",
       "5zOrmudYRL5SKAm5sj3UEZEn5+zp9LLV3oSE3B1QbGxBIvKMYSXMQNLqXoSE3B1Qi9wRkR/dbQ+O\n",
       "GSs9CAm5O6DYHOqIyM+j2cdevxAScldArfHcKYUlu5MaZXqV6w6oNZ7jeXPrVPYCwJBnfe4OhB/P\n",
       "JewsCt+UE+MA8x5yd0DZPVEaZzu9J8IBZcn3Dt53mEmOA8qSVwafKzPJcUDvoDW5YuSdzkREGQ5D\n",
       "vtozEVF4EnIlZyKi8CTkPfA9EUdC3gvfzW3pWXLQ5B1eoGe/PQ/8qbXWIgbynlXmSLm4JtfkmlyT\n",
       "a3JNrsk1uSZXhFzO/zr6X7wr43ZildyUcjcMSXfF0OSaXJP3PjnPuV06Od+5PRg517ldNrnAuT0Q\n",
       "Od+5XTb5Qi1ctvCd22WTC5zbA5H31+IinwzZQ/neULLJJzR5B+QdPAJVjLwDxzxNzjBQ5zu3R0nu\n",
       "dYwXOrd7yRkG6nzn9gjJGY7xQud2DznLQJ3v3B4dOcsxXujc7iFnGajzndujI2c5xgud22lypoE6\n",
       "37k9OnKWY7zQuZ0mZxqo853bIyNnOsYLndtpcqx9v4ReGc7t+UPojHX+5AGd292O8bh2VEjZvcPE\n",
       "Icfa95S9LmY5twNaqyMDdzF5QOd2t2M8uHcClOw+tZF8F9tAfREtL5MjHuf2grPk3SR+utSJczus\n",
       "OMYX3AtqSna/2BC2uZ1eRYfLJqec25MjbvKo8hw7xuPa7ULJ7jcJ8xwbqD+bmMPklHN7ZmZ9NXpy\n",
       "7Bjv1M50bkdMuc/WX2aOLY6B+sOP2/cGNQHh3N731pal6MmxY7xTO9O5HTHlNlf6ywxybKDeKraz\n",
       "hXJuN76WkS3YMR7VznZuR0xHL4L9nwOeORRp3xOHvneRE87tQ/MlGeSOY7xTO8u5HTOdQVM8Z5Wb\n",
       "rw1lXeTu+Wc+sb8sgZysneXcjpmegE8TfPI19XvyHOf284mRuiV/3y2F3Kmd5dzuMGWbsGMXn7yv\n",
       "PPgzx7n9IThTTIzbBu4SyJ3aWc7tDlOyCr9U/PZEfOf2tNQ9kcC5vc0kJOc7t68YqEshFzi3t5mE\n",
       "5Hzn9hUDdS65EWLvL3Buz63i85bOnier9KRIk3dFzndul00+HJKc79wum1zg3B7sOwuuc7tscoFz\n",
       "ezByrnO7bHKBc3vAb7iScZHzndvlf6sYkhw0uSbX5NzlXUT+6T6lO03Rf0KoHvpzSODsAAAAAElF\n",
       "TkSuQmCC\n",
       "\" style=\"display:inline;vertical-align:middle;\" /></a>"
      ],
      "text/plain": [
       " MultiQubitGate(C_{1, 1}, R_{1, 1})  & ..MultiQubitGate(C_{1, j}, R_{1, j})..  & MultiQubitGate(C_{1, n}, R_{1, n})   \\\\ \n",
       "   \\colon  & \\colon  & \\colon   \\\\ \n",
       "   MultiQubitGate(C_{i, 1}, R_{i, 1})  & ..MultiQubitGate(C_{i, j}, R_{i, j})..  & MultiQubitGate(C_{i, n}, R_{i, n})   \\\\ \n",
       "   \\colon  & \\colon  & \\colon   \\\\ \n",
       "   MultiQubitGate(C_{k, 1}, R_{k, 1})  & ..MultiQubitGate(C_{k, j}, R_{k, j})..  & MultiQubitGate(C_{k, n}, R_{k, n})"
      ]
     },
     "execution_count": 15,
     "metadata": {},
     "output_type": "execute_result"
    }
   ],
   "source": [
    "Circuit(ExprArray(ExprRange(i, ExprTuple(ExprRange(j, MultiQubitGate(Cij, Rij), one, n)), one, k)))"
   ]
  },
  {
   "cell_type": "code",
   "execution_count": 16,
   "metadata": {},
   "outputs": [
    {
     "data": {
      "text/html": [
       "<a class=\"ProveItLink\" href=\"__pv_it/common/1684671b210bf82fb5ddcb39adbc3acaab7ab55e0/expr.ipynb\"><img src=\"data:image/png;base64,iVBORw0KGgoAAAANSUhEUgAAABUAAAABAQMAAAALnndYAAAABlBMVEX///8AAABVwtN+AAAAAXRS\n",
       "TlMAQObYZgAAAAxJREFUCNdj+P//BwAF9wL3QuhfDAAAAABJRU5ErkJggg==\n",
       "\" style=\"display:inline;vertical-align:middle;\" /></a>"
      ],
      "text/plain": [
       "--"
      ]
     },
     "execution_count": 16,
     "metadata": {},
     "output_type": "execute_result"
    }
   ],
   "source": [
    "IdentityOp()"
   ]
  },
  {
   "cell_type": "code",
   "execution_count": 17,
   "metadata": {},
   "outputs": [
    {
     "data": {
      "text/html": [
       "<a class=\"ProveItLink\" href=\"__pv_it/demonstrations/52cd6c59c8b5c92ea305153b6a1a9d6ed794fd960/expr.ipynb\"><img src=\"data:image/png;base64,iVBORw0KGgoAAAANSUhEUgAAARIAAAAbBAMAAABCYR1sAAAAMFBMVEX///8iIiJERESYmJiqqqoQ\n",
       "EBDc3NxmZmYyMjJUVFSIiIi6urp2dnbu7u7MzMwAAAATB9G5AAAAAXRSTlMAQObYZgAAAVNJREFU\n",
       "SMdjYCAO8P9HgA8MtASvCbkEiU1dlyxA5fJNGDCX7IQx3oJJjgsD5hIeA6g7ToPpKoYBcwmDLJg8\n",
       "DXEJ298BdMlyZJfwFAygS/KRXcLqQJRLuOb/KKO+SxgdkFySf4G4MOFvoEGYsCsgucSUgTiX7D9A\n",
       "A5dwBSC5pIJIl5zfQAOXcP9FcokSkS7pp0WK5fuH5JJOIl3yiRYuYfuN5BJxHIqQqj1wOP4iwyUE\n",
       "a05eZJe0ExcmPP9oHiaaxLmE4wNN0sk3JJdMIs4l/AoMtM47S4lzyf4FuF3C+4NclzAjlyf7iStj\n",
       "zz/AEyaCF8h0CUoZy7qBKJfI46sBWch1CccCJJewHyDCJbwz/s/B4xIecmPn/gUkl/AFUN4quEWu\n",
       "SyyRWwUMUyh3iQG5LpGDumQdmL4xcC0lZkjKWAdLbgUD5pIkNL73gLmklkT1tO8DAgDT55nSWjap\n",
       "DAAAAABJRU5ErkJggg==\n",
       "\" style=\"display:inline;vertical-align:middle;\" /></a>"
      ],
      "text/plain": [
       "|([I], --)|"
      ]
     },
     "execution_count": 17,
     "metadata": {},
     "output_type": "execute_result"
    }
   ],
   "source": [
    "Len(ExprTuple(IdentityOp().with_styles(gate='explicit'), IdentityOp()))"
   ]
  },
  {
   "cell_type": "code",
   "execution_count": 18,
   "metadata": {},
   "outputs": [
    {
     "data": {
      "text/html": [
       "<a class=\"ProveItLink\" href=\"__pv_it/demonstrations/2138b6b6cfc252d595413dbe594805775b4b0fbb0/expr.ipynb\"><img src=\"data:image/png;base64,iVBORw0KGgoAAAANSUhEUgAAACwAAAAbBAMAAAD11XAnAAAAJ1BMVEX////u7u4iIiLMzMxERER2\n",
       "dna6urrc3NxmZmYyMjJUVFSIiIgAAAD6sHTBAAAAAXRSTlMAQObYZgAAAF1JREFUKM9jYICDM0gA\n",
       "IcpwAMHkGQTC3GtOtmNTzTMBqyE5AViFYxKwCs/B7pIjEGFE8ICF2U5jVc16GKsw5wGswjwOWIVz\n",
       "NmAVjjHAKqyDLagYV55ZOggiDTlVAQDqZTsdJjXhVgAAAABJRU5ErkJggg==\n",
       "\" style=\"display:inline;vertical-align:middle;\" /></a>"
      ],
      "text/plain": [
       "Gate(I)"
      ]
     },
     "execution_count": 18,
     "metadata": {},
     "output_type": "execute_result"
    }
   ],
   "source": [
    "Gate(IdentityOp())"
   ]
  },
  {
   "cell_type": "code",
   "execution_count": 19,
   "metadata": {},
   "outputs": [
    {
     "data": {
      "text/html": [
       "<a class=\"ProveItLink\" href=\"__pv_it/demonstrations/177e0566559b95f7d32b04b007734633a18a3fa00/expr.ipynb\"><img src=\"data:image/png;base64,iVBORw0KGgoAAAANSUhEUgAAAFwAAAAzBAMAAADoY3LkAAAAMFBMVEX///+qqqoQEBCYmJju7u4i\n",
       "IiLMzMxERER2dna6urrc3NxmZmYyMjJUVFSIiIgAAAAnOzgWAAAAAXRSTlMAQObYZgAAATJJREFU\n",
       "SMdjYICD/0QAhGqGDwwEAf+ocgbzBFKUr4kkxXQWdZIcw/2FJOVMBaQpvzAYlTNvhtDZT4hRznIC\n",
       "JjIpAavyt/9PL0AoZ4YbwX0Au+l/kE3nCAASjCowFqZyzh/oyn17v+BWzvETLIxsOjMe5Txgkn8D\n",
       "kcr5wdEvL4ChXAGr8vkPQGQ4VIj3AEw5JIwwlPeDwncNLIUJJcCUM5yGKEcUOWDl50EhpwhVnR7F\n",
       "AFfOG4fN9O+guLy+ADkuIcrPYnMM5z+weT9hbi/A73aOb2DmfgfiQoYVkhL8HyAp58MZ7r7n/zaA\n",
       "E0EDQjn3pT+bcUYTagKGKGJgIFa5AknKCad31MyHyE0TiFHOSFJeHYrFEk8AScrhSZLI2uO+AEnK\n",
       "mXUcSKrKOElTPrwreWJaSwBM6dfLT9NHbQAAAABJRU5ErkJggg==\n",
       "\" style=\"display:inline;vertical-align:middle;\" /></a>"
      ],
      "text/plain": [
       "MultiQubitGate(I, {1})"
      ]
     },
     "execution_count": 19,
     "metadata": {},
     "output_type": "execute_result"
    }
   ],
   "source": [
    "MultiQubitGate(IdentityOp(), Set(one))"
   ]
  },
  {
   "cell_type": "code",
   "execution_count": 20,
   "metadata": {},
   "outputs": [
    {
     "data": {
      "text/html": [
       "<span style=\"font-size:20px;\"> <a class=\"ProveItLink\" href=\"__pv_it/demonstrations/cc9396400970554427493948cda805e838c9c6130/proof.ipynb\" style=\"text-decoration: none\">&nbsp;&#x22A2;&nbsp;&nbsp;</a><a class=\"ProveItLink\" href=\"__pv_it/demonstrations/9c54e321c7a6380057aa4c10d851a28c667e923f0/expr.ipynb\"><img src=\"data:image/png;base64,iVBORw0KGgoAAAANSUhEUgAABOAAAABlCAMAAADTV2w6AAAAM1BMVEX////f398yMjLMzMzc3NyY\n",
       "mJgiIiJmZmZERETu7u4QEBCqqqpUVFSIiIi6urp2dnYAAACKXO0kAAAAAXRSTlMAQObYZgAAEFFJ\n",
       "REFUeNrtXYm2q6gWtHFAFIT//9p2Fg0SjYBwbtVar1+8yQH2VG62CFm2QHaZjsPlbSjXeK2TsAgv\n",
       "CuMJSeUHf8aBE9R9KKeV0nb5g0u7DpHXOglMcOHb6UgyUgUcXYoOrNLTfSinFdx2CYL7ywSXlSQV\n",
       "qUBwILifnLZtbJcguL9NcFktE5EKBAeC+8VpWdNZLkFwf53gXBgcBAeCi9Zpa2q7BMH9dYJzkbKD\n",
       "4EBwsTptq5jlEgT39wkuq2QSUoHgQHA/OG1FbZfexlrWuX/bPe8kGhv7FKVVxZ8iuER8S8UhSCR2\n",
       "8OW05f53pRNf/zrWglRd5tt2LjqJhOA8i+LkrhaLYpPxLRWDINHYwZfTVrXt0pNLs6Z+3l6QTuIg\n",
       "ON+ilC7qEpEoNh3fUhEIEo8dPDltrjrLpS+XpjcDSr3WSRwE51sUpsSfIbh0fEtFIEg8dvDktLSx\n",
       "XfpyaSfkHqSTOAjOuyiEvCCVH6TjWyoCQeKxgyenbbjt0hvB8RBOyGOOw3sE51sU4fMxQ2CCS8a3\n",
       "VASCxGMHP06bq9JyCYL7VwiucGR4EBwILhjBXXHaAwm6upGD4BIjOFepOwgOBBeM4K50UTe2y3AE\n",
       "V9I9GedUMOdOeOjk0EdSBOdclLqKnOByQ8m6Tdu3VARBEtAOrzjtoRLY1GFc+iA8I5+rkrsmd+uE\n",
       "hk52fSREcB5EkSq8VJenIkNc7LYonGWl87+1RZK+pSIIkmB2eMdpmaKWSycuXXKlhtdbh/8nlBmF\n",
       "L00DpeS67X7tRO/jF1+QhC8mcr28RoyiFKFEKVUeguB2Ul0EG++6u8CaQyVf1MKL08CK2LdU2CDp\n",
       "NSmolPTXauszO7zjtPl+KUnuajnUbqxqlkJVZ8LL7Zu2YZ//eMF2dzox9/GDggkvZTP7C/emtyCi\n",
       "fJq+8EFwO6m+oJpHQIqzwMqqNTvIEvQtFThIJBn5gJNzXdsM8cwOYZz2Y/KsWsulG5fu5lHkWnp4\n",
       "YjvGJVc/2e56J6d93FdwKbbMu+Du9SbDiWJI3gn1QXC6VN98c6ncZMfAKhY3FUs2IkWCvqWCBgkj\n",
       "S/2poWe6thnioR3COO2XHM/ZPGV335gbFRp7qtObU/mbE97qpHSk4Ln9ui6yguTu9daFE+Wjiyyv\n",
       "K5b58Iarc/ll+jLnD3pgleyYMbAmQd9SQYOErD/lyjpVPPnyoR2COO2CeklIPa0S2Y2VzBe19urG\n",
       "gXmfO+GtTlwpmK7eqRylviaRgojS/8nh+RLvhMgyr1J9maFOqV4xy6UHlvz0ZNKl51sqZJBodxb5\n",
       "kcdYtx6avnxqhyBOu92dV1F3d2np6p1rZRiEVl04ToXNtmvulDDudGLu48EDJ5Zn/vQWSJRmfxMf\n",
       "7smVN6k6yYtCCCrGz3WRC8HZUAMfJ/0Nyzpaq3q8ElQLrPkXfWCJaXDtEmOSpudbKmCQFFrtk/Zc\n",
       "Z9C13RBP7RDCabXcki6i7hiNeiC4ThE6oNaKL8ctS7Sy5ya8/tRFOe3E3Edky0Q6rYAaQpRmT2ey\n",
       "nf7nRyrZz+vFUEMphs+8Gjqr+4y4a8Z5hF4WqkstsOS4ketQ+hGz4Muo11NIEvItFTBIpLbqn/Rq\n",
       "N+jaboindvDvtLTSMOePh9k497Cj7FZdWJLXghxkb7XlMNoeKFqVWzntxNzHfQVLooF60lsYUXqH\n",
       "3K/xrsaOPXlD3mYVGdOKfIgSwkdJinIq99T1rgTXboHV/5ZWc+lnHu66BKtKz7dUwCCptmkpU01m\n",
       "0PUXQzy0QxCn3fVHWkcE9+UM14/qQtu0x2q2VvnTN3nilbD18XMn5j5CZ3AXRQolyt5XxgfEGc/9\n",
       "SNVPgsZIHm7g/fjHyYxU//XRMnQ7/mctCy2HiwyBxaYvpVYAXZZg5Spu37J34j9I1PYnok8T2aeu\n",
       "vxjikR3COO2hbkT6IQeYoq7VhfVBC68PjzK6k5sTv1/CuNSJuY/IpqhrCS6QKNVuijo9Qc25L6mm\n",
       "ec80a+lGGYa3BMdP+ZhrsCWX0QNr+EUxBRab42Ip/kyBlZZvqYBBUq3fsqZZtb7XtdUQD+0Qwml3\n",
       "KLgchrh/bCrdP0XdFvhIzT6HpQK8flYnudlJCjU4vQQXRJRdvbad78uk8CTVNO9R5ZAMjNXncUnT\n",
       "+EnM8TclFbup0fSLfMwzZrmXQOqq9HxLBQySbe0ZnyarBl1bDfHUDv6dlpIdiilb3U1ChPt1cJ/V\n",
       "BUOm+PRJ181OXD3F2dXguB+9BRLlsC5zIbaWepKqkdl0gJuc6zDlsLq95lPlp+z/vXfdNj8WtzPa\n",
       "R8nwinY7G7qoj8XthHxLBQySdSO0ZbmIQddWQzy1g3+n3eWLxMizpepcE1xlWODzsdmwZjvxy1ql\n",
       "m50IZ+tw/GVwlT6aEKLoy5bWZUSZk8W+n1IVo6P1sVPm0/wsHycwlA9TGTqwXv9xmv1Iepwa9d+W\n",
       "i5+uD3qpTM+3VMggEaOGWb3cuwy6thriqR28O+2+/rbUMveM1jomOEaJUlwMhK9UrQncSLPslDeK\n",
       "zG8DX7Xd3U7O+oiI4BgfRJIhRWH6K1R8dQMni30/pZomMgUv2yFWOiGm9+8ZF6ItuMiHlKAsd3Oe\n",
       "eYFpW8u6FOvMeRV6e5MkHd9S4YJkLKhSSelq2U9d2w3x1A7enXY3Hc6Piavx0klZ+UpqKU21wnsv\n",
       "RP/WSbwZXGhRdu8ta7e53Ls3yC/riY+vCOXaA7puuYOzKkHfUhEEyXVDPLSDd6fVUZzleB62S7pk\n",
       "uyaEEzZ/h+Dci+Jsn4Xbhvq2gvD4kre+S+J6p7a8bB+vb6kIguS6IR7a4SWnrYjtMhTBOdjq6rdO\n",
       "nu4H9xLBeRBFejx1RtmnGd+ctN5v0yP1UsvxQ1K+pSIIkhuGeGaHl5yWKttlKILLjJuVdm6dMDPt\n",
       "KNolSXAeROEv7ejbVop8qfMdNlrUfl2KXeyl5lsqgiC5YYiHdnjHaQ+nQ7s64fz2lvZtiH3z279z\n",
       "JoNzUVxtVv9wmmSuqAyyCkM1sJ6FLoskfUtFECQB7fCK0+b7vDT3sO3PJdv90h5O1XInSuHzaHuc\n",
       "qoVTtV5zWhz8DILLcPAzCC5BgrvktH6KcCC4xAjO56mBIDgQ3HtO2+3X9naqC+HSILjICM7nDBUE\n",
       "B4J70Wkrarv05NKkCmA7J53EQXC+RRGutpGJQLHp+JaKQJB47ODLab08R1VfO+38285JJ3EQnG9R\n",
       "HJVeo1BsOr6lIhAkHjt4c9rDO2ONDOHS/N7jWvVaJ3EQnGdRWp+PGIIrNhnfUjEIEo0dvDltu8/Z\n",
       "Whcp3IUFeA1h3m3noJNICM6vKO6OQI1Csan4lopCkFjs4M9pD7904e1XxtqFsF33VwjOpyjbSeN/\n",
       "g+BS8S0ViSBx2MGf0xZNbrmMwqXVa53EQ3De2mFNl4ZUAUeXogOr9HQfyGnbynYJgvvjBMdpIlKB\n",
       "4EBwvzkt5bZLENyfJriyTkUqEBwI7ken5cJ2CYL7wwTXkWSkAsGB4H51WtrZLkFwf5bgGGfJSAWC\n",
       "A8EFc9pvg3WMt/pIXW/+kPTgY9BWIAdOXUnAH8U/nPYknoogUAEABAeCAwAQHAgOBAcAIDgQHCwH\n",
       "AAgTEBwIDgD+tTAp6/zh6NRLjaegGwAAXgyTglTd09GpVxpPQzcAALwXJuzmsYG3OMhr44noBgCA\n",
       "98KE3twF8BYHeW08Ed0AAPBemNw99/kWB3ltPBHdAADwIsH5PMHpHzseCgQHACA4EBwAgOBAcCA4\n",
       "AADBmZAbyuPtpSAuablviQrmjOAOjR/aDkRwYXUDAIDLgC6GIJT6+q15reqy119bnAcxI5+HR3b6\n",
       "WR1PCM7Q+K5t/wT3gm4AADgJaMGVIvTe0aVsfPS3C+I5LvMlXnlxGsSlKUgpuc5BuyFfaFxv+zvB\n",
       "MUGlPKRRkesGAIDTjEVd36K5mkKTFGdBnFVrKnIaxHI7d2g7nk37xwtJljbk08bNbX9tXJIxX+Lk\n",
       "XPzodAMAwBlbdEpe/bN2+rtyOnRID+JiKTCJJfWR4lsQMy65+ong9CGbGz9t+0vjjCzr0hp6Jn58\n",
       "ugEA4IwtpLr8LuQ8V5pzFT2IS3bMTliz9XaapZS/EZw+5NPGy18Ijqw/5co+1Y1JNwAAnLEFuR4z\n",
       "1Zg4FXO86UG8ZVT1Mo0j69eKOiY4fcinjf9CcBpzSpWbxY9QNwAAnLGFmiZlneRFIQQV4+e6yIXg\n",
       "bKi4izHlYFlHa1UPV4JqQTz/oA9iMYVhu8SzpOvkrb0QxM0NglO1NjNsvxNcc5HgCq22RweuM4gf\n",
       "o24AADhhi06JOc+o6/4TU8XwmVd94Mk6o1k3RJdQUzROeUipBbHM2mYqM4k5IJcQLReyqA6vW2r1\n",
       "+y2I9ceH6uKQ7Y2b27Y2LlWpZYm9Igzix6gbAABO2GKeiuVtVpExicmHkCR8DKyinGpLda2Xmdot\n",
       "iPuf0mouM815xrrca4rmghxiuNWWdW1BnBF6meC22aOtcXPb1sarbVrKVDMuaTuKH6VuAAA4YYu5\n",
       "ntXPuMb605At9IE1zpyk+q8PzSFbGv+z1KCabgtiNn03fjFH4bLcK58ym2Y/B8trfa2FFsR9YiQu\n",
       "EtxagrM2bm7b2rja/kQMD2rZp/hR6gYA/mEysx+Du9azpknWNEfqxuCqm/lTPmY2bK7A60E8/KCY\n",
       "gpjNMbgUmqYgZrw+LB7rTrIUbh+xacjWxs1tWxuvtuUiTZOtitiL/7Ju4NAAcD2D2+pZ0yRLlUPm\n",
       "Mda62fCEb/wkmumnUwajT8OmH+RjTjPH4xK0XbUE6mEZCq+f1eD0Epyl8R9qcNvSMz5PVg3iR6gb\n",
       "AADMbLHVsxo5pnFsSDnGok85LKWv+VRmKvt/7xmwzQ+F9Iz2ITm8Dt7OoVosIboW0o+b1j59irpb\n",
       "wHHe+A9PUfPlIcO6XMQgfoS6AQDAzBbrrKwYY7oP1DKfJoH5OF2ifJg40YH1+o/jVEvS4zSs/7Jc\n",
       "UhG51JXosiaCaRnXIYjFL+vgqt2bo6eNix/WwYlRZlaTZepoED9C3QAAYAhoxolSXGqzpoKX7RCY\n",
       "nRDT2+yMC9EWXORD/lGW+vxqXsza1rIuxVpMWoORrHlWI81BTHmjyPxa+1WC04dsa/ys7S/smXMq\n",
       "Kd3mjZ/ix6gbAACy7HKY7BjhE8fXkXLtYWC3rGhgWxvnL5Sb//HJdkmmxm+9bP8NMeoGAIAbAU2o\n",
       "9evjC+X6jox8yU0sL5Q3Pgmu8UxwMeoGAIDrAc1Ua//zer8lkDbL2t4nP98S6PF+cDaCe74fXJae\n",
       "bgAAuBzQbaWIsEf5flNH7cel2MW5MYgz4661nRuCy0w7+nbOCC5O3QAA8OOUzIhxW26RG/KXeUZW\n",
       "Wrbl7mnC55kM7ctnMrygGwAAstfCBKdqedYNAAAgOBAcAIDgQHAgOAAAwYHgQHAA8M8THKk8cpDX\n",
       "xhPRDQAA74VJef1Ym/sc5LXxRHQDAMCLYcK/rY59wkFeG09DNwAAvBkmZUOYNw7y2ngSugEA4N0w\n",
       "6XxyUJcywTkYPgAA6YSJVw5S6ekDBAcAIDgQHAAAIDgQHACA4EBwsBwAgOBAcLAcACBMQHAgOAAI\n",
       "ESdxw+eQE1THt+EDb+B/oAKd5wFbL/0AAAAASUVORK5CYII=\n",
       "\" style=\"display:inline;vertical-align:middle;\" /></a></span>"
      ],
      "text/plain": [
       "|- (( MultiQubitGate(H, {1})  & MultiQubitGate(H, {1}) equiv  MultiQubitGate(I, {1})) and  MultiQubitGate(Input(|psi〉), {1})  & MultiQubitGate(H, {1})  & MultiQubitGate(H, {1})  & MultiQubitGate(Output(|psi〉), {1})) =>  \\\\  MultiQubitGate(Input(|psi〉), {1})  & MultiQubitGate(I, {1})  & MultiQubitGate(Output(|psi〉), {1})"
      ]
     },
     "execution_count": 20,
     "metadata": {},
     "output_type": "execute_result"
    }
   ],
   "source": [
    "temporal_circuit_substitution.instantiate({\n",
    "                                  g:one, h:two, k:one, m:one, n:one, \n",
    "                                  A:ExprTuple(Input(ket_psi)), B:ExprTuple(H, H), \n",
    "                                  C:ExprTuple(Output(ket_psi)), D:ExprTuple(IdentityOp().with_styles(gate='explicit')), \n",
    "                                  P:ExprTuple(Set(one)), Q:ExprTuple(Set(one), Set(one)), \n",
    "                                  R:ExprTuple(Set(one)), S:ExprTuple(Set(one))}, assumptions=[])"
   ]
  },
  {
   "cell_type": "code",
   "execution_count": null,
   "metadata": {},
   "outputs": [],
   "source": [
    "temporal_circuit_substitution.instantiate({\n",
    "                                  g:one, h:two, k:one, m:one, n:one, \n",
    "                                  A:ExprTuple(Input(ket_psi)), B:ExprTuple(H, H), \n",
    "                                  C:ExprTuple(Output(ket_psi)), D:ExprTuple(IdentityOp().with_styles(gate='explicit')), \n",
    "                                  P:ExprTuple(Set(one)), Q:ExprTuple(Set(one), Set(one)), \n",
    "                                  R:ExprTuple(Set(one)), S:ExprTuple(Set(one))}, assumptions=[]).proof()"
   ]
  },
  {
   "cell_type": "code",
   "execution_count": null,
   "metadata": {},
   "outputs": [],
   "source": [
    "ExprArray(ExprTuple(Literal('~', '~'), Ket(DecimalSequence(zero, zero)), Ket(DecimalSequence(zero, one)), \n",
    "                    Ket(DecimalSequence(one, zero)), Ket(DecimalSequence(one, one))),\n",
    "         ExprTuple(Ket(DecimalSequence(zero, zero)), one, zero, zero, zero),\n",
    "         ExprTuple(Ket(DecimalSequence(zero, one)), zero, one, zero, zero),\n",
    "         ExprTuple(Ket(DecimalSequence(one, zero)), zero, zero, one, zero),\n",
    "         ExprTuple(Ket(DecimalSequence(one, one)), zero, zero, zero, Neg(one)))"
   ]
  },
  {
   "cell_type": "code",
   "execution_count": null,
   "metadata": {},
   "outputs": [],
   "source": [
    "ControlZ = Circuit(\n",
    "        ExprArray(\n",
    "            ExprTuple(MultiQubitGate(CONTROL, Set(one, two)), IdentityOp()), \n",
    "            ExprTuple(MultiQubitGate(Z, Set(one, two)), IdentityOp())))"
   ]
  },
  {
   "cell_type": "code",
   "execution_count": null,
   "metadata": {},
   "outputs": [],
   "source": [
    "Reversed = Circuit(\n",
    "        ExprArray(\n",
    "            ExprTuple(MultiQubitGate(Z, Set(one, two)), IdentityOp()), \n",
    "            ExprTuple(MultiQubitGate(CONTROL, Set(one, two)), IdentityOp())))"
   ]
  },
  {
   "cell_type": "code",
   "execution_count": null,
   "metadata": {},
   "outputs": [],
   "source": [
    "CircuitEquiv(\n",
    "    ControlZ,\n",
    "    Reversed\n",
    ")"
   ]
  },
  {
   "cell_type": "code",
   "execution_count": null,
   "metadata": {},
   "outputs": [],
   "source": [
    "# Null control\n",
    "Circuit(\n",
    "    ExprArray(\n",
    "        ExprTuple(Input(ket0), \n",
    "                  MultiQubitGate(CONTROL, \n",
    "                                 Set(one, two)), \n",
    "                  Output(ket0)), \n",
    "        ExprTuple(Input(ket_psi), \n",
    "                  MultiQubitGate(U, Set(one, two)), \n",
    "                  Output(ket_psi))))"
   ]
  },
  {
   "cell_type": "code",
   "execution_count": null,
   "metadata": {},
   "outputs": [],
   "source": [
    "# Null Gates\n",
    "Circuit(\n",
    "    ExprArray(\n",
    "        ExprTuple(Input(ket_psi), Gate(Z), \n",
    "                  Gate(Z), Output(ket_psi)), \n",
    "        ExprTuple(Input(ket_psi), Gate(X), \n",
    "                  Gate(X), Output(ket_psi))))"
   ]
  },
  {
   "cell_type": "code",
   "execution_count": null,
   "metadata": {},
   "outputs": [],
   "source": [
    "Circuit(ExprArray(ExprTuple(Input(ket_psi), IdentityOp(), IdentityOp(), MultiQubitGate(CONTROL, Set(one, two)), \n",
    "                            Gate(H), MEAS, MultiQubitGate(CLASSICAL_CONTROL, Set(one, three)), SPACE),\n",
    "                 ExprTuple(Input(ket0), IdentityOp(), MultiQubitGate(X, Set(two, three)).with_styles(\n",
    "                                                                                             representation='implicit'),\n",
    "                           MultiQubitGate(X, Set(one, two)).with_styles(representation='implicit'), \n",
    "                           IdentityOp(), MultiQubitGate(Literal('MEAS'), Set(two, three)), SPACE, SPACE),\n",
    "                 ExprTuple(Input(ket0), Gate(H), MultiQubitGate(CONTROL, Set(two, three)), IdentityOp(), IdentityOp(), \n",
    "                           MultiQubitGate(X, Set(two, three)), MultiQubitGate(Z, Set(one, three)), Output(ket_psi)))\n",
    "       ).with_styles(spacing='@C=3em @R=2.5em')"
   ]
  },
  {
   "cell_type": "code",
   "execution_count": null,
   "metadata": {},
   "outputs": [],
   "source": [
    "from proveit.physics.quantum import single_time_equiv, temporal_circuit_equiv"
   ]
  },
  {
   "cell_type": "code",
   "execution_count": null,
   "metadata": {},
   "outputs": [],
   "source": [
    "# 3 by 1 array, subbing Gate(z) - UNFLATTENED\n",
    "single_time_equiv.instantiate({h: one, k: one, m: one,  \n",
    "                              A: ExprTuple(H), \n",
    "                              B: ExprTuple(Z), \n",
    "                              C: ExprTuple(X), \n",
    "                              D: ExprTuple(Z), \n",
    "                              S: ExprTuple(Set(one)), \n",
    "                              R: ExprTuple(Set(one)),\n",
    "                              Q: ExprTuple(Set(one)),\n",
    "                             }, \n",
    "                             \n",
    "                             assumptions=[CircuitEquiv(Circuit(ExprArray(ExprTuple(Gate(Z)))), \n",
    "                                                       Circuit(ExprArray(ExprTuple(Gate(Z))))),\n",
    "                                         ]).proof()"
   ]
  },
  {
   "cell_type": "code",
   "execution_count": null,
   "metadata": {},
   "outputs": [],
   "source": [
    "temporal_circuit_equiv"
   ]
  },
  {
   "cell_type": "code",
   "execution_count": null,
   "metadata": {},
   "outputs": [],
   "source": [
    "temporal_circuit_equiv.instantiate({h:one, k:one, m:one, n:three, A:ExprTuple(Z), \n",
    "                        B: ExprTuple(H, X, H), C: ExprTuple(Z), D:ExprTuple(SPACE, X, SPACE), \n",
    "                        S:ExprTuple(Set(one), Set(one), Set(one)), R:ExprTuple(Set(one)), Q:ExprTuple(Set(one))}).proof()"
   ]
  },
  {
   "cell_type": "code",
   "execution_count": null,
   "metadata": {},
   "outputs": [],
   "source": [
    "# single_time_equiv.instantiate({h: one, k: one, m: one,  \n",
    "#                               A: ExprTuple(Gate(H)), \n",
    "#                               B: ExprTuple(Gate(Z)), \n",
    "#                               C: ExprTuple(Gate(X)), \n",
    "#                               D: ExprTuple(Gate(Z)), \n",
    "#                               S: ExprTuple(Set(one)), \n",
    "#                               R: ExprTuple(Set(one)),\n",
    "#                               Q: ExprTuple(Set(one)),\n",
    "#                              }, \n",
    "                             \n",
    "#                              assumptions=[CircuitEquiv(Circuit(ExprArray(ExprTuple(Gate(Z)))), \n",
    "#                                                        Circuit(ExprArray(ExprTuple(Gate(Z))))),\n",
    "#                                          ])"
   ]
  },
  {
   "cell_type": "code",
   "execution_count": null,
   "metadata": {},
   "outputs": [],
   "source": [
    "MultiQubitGate(Gate(Z), Set(one)).latex()"
   ]
  },
  {
   "cell_type": "code",
   "execution_count": null,
   "metadata": {},
   "outputs": [],
   "source": [
    "MultiQubitGate(Z, Set(one))"
   ]
  },
  {
   "cell_type": "code",
   "execution_count": null,
   "metadata": {},
   "outputs": [],
   "source": [
    "# 3 by 1 array, subbing Gate(z) - UNFLATTENED\n",
    "single_time_equiv.instantiate({h: one, k: one, m: one,  \n",
    "                              A: ExprTuple(Gate(H)), \n",
    "                              B: ExprTuple(Gate(Z)), \n",
    "                              C: ExprTuple(Gate(X)), \n",
    "                              D: ExprTuple(Gate(Z)), \n",
    "                              S: ExprTuple(Set()), \n",
    "                              R: ExprTuple(Set()),\n",
    "                              Q: ExprTuple(Set()),\n",
    "                             }, \n",
    "                             \n",
    "                             assumptions=[CircuitEquiv(Circuit(ExprArray(ExprTuple(Gate(Z)))), \n",
    "                                                       Circuit(ExprArray(ExprTuple(Gate(Z))))),\n",
    "                                         ]).latex()"
   ]
  },
  {
   "cell_type": "code",
   "execution_count": null,
   "metadata": {},
   "outputs": [],
   "source": [
    "lhs = Circuit(ExprArray(ExprTuple(MultiQubitGate(CONTROL, Set(one, two))), \n",
    "        ExprTuple(MultiQubitGate(Z, Set(one, two))), \n",
    "        ExprTuple(MultiQubitGate(CONTROL, Set(three, four))), \n",
    "        ExprTuple(MultiQubitGate(Z, Set(three, four)))))"
   ]
  },
  {
   "cell_type": "code",
   "execution_count": null,
   "metadata": {},
   "outputs": [],
   "source": [
    "rhs = Circuit(ExprArray(ExprTuple(MultiQubitGate(CONTROL, Set(one, two))), \n",
    "        ExprTuple(MultiQubitGate(Z, Set(one, two))), \n",
    "        ExprTuple(MultiQubitGate(CONTROL, Set(three, four))), \n",
    "        ExprTuple(MultiQubitGate(Z, Set(three, four)))))"
   ]
  },
  {
   "cell_type": "code",
   "execution_count": null,
   "metadata": {},
   "outputs": [],
   "source": [
    "#CircuitEquiv(lhs, rhs).prove(assumptions=[CircuitEquiv(lhs, rhs)])"
   ]
  },
  {
   "cell_type": "code",
   "execution_count": null,
   "metadata": {},
   "outputs": [],
   "source": [
    "big = Circuit(ExprArray(ExprTuple(Gate(H), MultiQubitGate(CONTROL, Set(one, two)), Gate(X)), \n",
    "        ExprTuple(Gate(H), MultiQubitGate(Z, Set(one, two)), \n",
    "                  Gate(X)), \n",
    "        ExprTuple(Gate(H), MultiQubitGate(CONTROL, Set(three, four)), Gate(X)), \n",
    "        ExprTuple(Gate(H), MultiQubitGate(Z, Set(three, four)), \n",
    "                  Gate(X))))"
   ]
  },
  {
   "cell_type": "code",
   "execution_count": null,
   "metadata": {},
   "outputs": [],
   "source": [
    "big_left = Circuit(ExprArray(ExprTuple(Gate(H)), \n",
    "        ExprTuple(Gate(H)), \n",
    "        ExprTuple(Gate(H)), \n",
    "        ExprTuple(Gate(H))))\n"
   ]
  },
  {
   "cell_type": "code",
   "execution_count": null,
   "metadata": {},
   "outputs": [],
   "source": [
    "big_right = Circuit(ExprArray(ExprTuple(Gate(X)), \n",
    "        ExprTuple(Gate(X)), \n",
    "        ExprTuple(Gate(X)), \n",
    "        ExprTuple(Gate(X))))"
   ]
  },
  {
   "cell_type": "code",
   "execution_count": null,
   "metadata": {},
   "outputs": [],
   "source": [
    "# # single variables, no ExprTuple, unflattened\n",
    "# single_time_equiv.instantiate({h: one, k: one, m: four, A: big_left, B: lhs, C: big_right, D: rhs, \n",
    "#                               R: [Set(), Set(), Set(), Set()], S:[Set(one, two), Set(one, two), Set(three, four), \n",
    "#                                                                   Set(three, four)], \n",
    "#                               Q: [Set(), Set(), Set(), Set()]}, assumptions=[CircuitEquiv(lhs, rhs)])"
   ]
  },
  {
   "cell_type": "code",
   "execution_count": null,
   "metadata": {},
   "outputs": [],
   "source": [
    "# # single variables, but flattened\n",
    "# single_time_equiv.instantiate({h: one, k: one, m: four, A: ExprTuple(Gate(H), Gate(H), Gate(H), Gate(H)), \n",
    "#                               B: ExprTuple(MultiQubitGate(CONTROL, Set(one, two)), MultiQubitGate(Z, Set(one, two)), \n",
    "#                                            MultiQubitGate(CONTROL, Set(three, four)), MultiQubitGate(Z, Set(three, four))), \n",
    "#                               C: ExprTuple(Gate(X), Gate(X), Gate(X), Gate(X)), \n",
    "#                               D: ExprTuple(MultiQubitGate(CONTROL, Set(one, two)), MultiQubitGate(Z, Set(one, two)), \n",
    "#                                            MultiQubitGate(CONTROL, Set(three, four)), MultiQubitGate(Z, Set(three, four))), \n",
    "#                               R: ExprTuple(Set(one), Set(two), Set(three), Set(four)), S:ExprTuple(Set(one, two), Set(one, two), \n",
    "#                                                                                     Set(three, four), Set(three, four)), \n",
    "#                               Q: ExprTuple(Set(one), Set(two), Set(three), Set(four))}, assumptions=[CircuitEquiv(lhs, rhs)])"
   ]
  },
  {
   "cell_type": "code",
   "execution_count": null,
   "metadata": {},
   "outputs": [],
   "source": [
    "# 3 by 4, subbing two controlled z gates\n",
    "# single_time_equiv.instantiate({h: one, k: one, m: four, \n",
    "#                               ExprTuple(ExprRange(i, ExprRange(j, Aij, one, k), one, m)): ExprTuple(Gate(H), Gate(H), \n",
    "#                                                                                                     Gate(H), Gate(H)), \n",
    "#                               ExprTuple(var_range(B, one, m)): ExprTuple(MultiQubitGate(CONTROL, Set(one, two)), \n",
    "#                                                                         MultiQubitGate(Z, Set(one, two)),\n",
    "#                                                                         MultiQubitGate(CONTROL, Set(three, four)), \n",
    "#                                                                         MultiQubitGate(Z, Set(three, four))), \n",
    "#                               ExprTuple(var_range(C, [one, one], [m, h])): ExprTuple(Gate(X), Gate(X), Gate(X), Gate(X)), \n",
    "#                               ExprTuple(var_range(D, one, m)): ExprTuple(MultiQubitGate(CONTROL, Set(one, two)), \n",
    "#                                                                         MultiQubitGate(Z, Set(one, two)), \n",
    "#                                            MultiQubitGate(CONTROL, Set(three, four)), MultiQubitGate(Z, Set(three, four))), \n",
    "#                               ExprTuple(var_range(S, one, m)): ExprTuple(Set(one, two), Set(one, two), \n",
    "#                                                                         Set(three, four), Set(three, four)), \n",
    "#                               ExprTuple(var_range(R, [one, one], [m, k])): ExprTuple(Set(), Set(), Set(), Set()), \n",
    "#                               ExprTuple(var_range(Q, [one, one], [m, h])): ExprTuple(Set(), Set(), Set(), Set())}, \n",
    "#                              assumptions=[CircuitEquiv(lhs, rhs)])\n",
    "\n",
    "# COUNTING TO 10 ERROR"
   ]
  },
  {
   "cell_type": "code",
   "execution_count": null,
   "metadata": {},
   "outputs": [],
   "source": [
    "from proveit.core_expr_types.tuples import singular_range_reduction\n",
    "singular_range_reduction"
   ]
  },
  {
   "cell_type": "code",
   "execution_count": null,
   "metadata": {},
   "outputs": [],
   "source": [
    "single_time_equiv"
   ]
  },
  {
   "cell_type": "code",
   "execution_count": null,
   "metadata": {},
   "outputs": [],
   "source": [
    "CircuitEquiv(\n",
    "                    Circuit(ExprArray(ExprTuple(ExprRange(j, MultiQubitGate(IndexedVar(B, j), Set(Add(m, one), Add(m, k, two))), one, n)),\n",
    "                            ExprTuple(ExprRange(j, MultiQubitGate(IndexedVar(D, j), Set(Add(m, one), Add(m, k, two))), one, n)))),\n",
    "                    Circuit(ExprArray(ExprTuple(ExprRange(j, MultiQubitGate(IndexedVar(F, j), Set(Add(m, one), Add(m, k, two))), one, n)),\n",
    "                            ExprTuple(ExprRange(j, MultiQubitGate(IndexedVar(G, j), Set(Add(m, one), Add(m, k, two))), one, n))))\n",
    "            ).lhs"
   ]
  },
  {
   "cell_type": "code",
   "execution_count": null,
   "metadata": {},
   "outputs": [],
   "source": [
    "ExprRange(i, ExprTuple(ExprRange(j, MultiQubitGate(Aij, Sij), one, n)), one, m).first().entries[0].first()"
   ]
  },
  {
   "cell_type": "code",
   "execution_count": null,
   "metadata": {},
   "outputs": [],
   "source": [
    "# ExprArray(ExprRange(i, ExprTuple(ExprRange(j, Gate(Aij), one, n)), one, m),\n",
    "#                      ExprTuple(ExprRange(j, MultiQubitGate(IndexedVar(B, j), Set(Add(m, one), Add(m, k, two))), one, n)),\n",
    "#         ExprRange(i, ExprTuple(ExprRange(j, MultiQubitGate(Cij, Rij), one, n)), one, k),\n",
    "#                      ExprTuple(ExprRange(j, MultiQubitGate(IndexedVar(D, j), Set(Add(m, one), Add(m, k, two))), one, n)),\n",
    "#         ExprRange(i, ExprTuple(ExprRange(j, Gate(Eij), one, n)), one, p))"
   ]
  },
  {
   "cell_type": "code",
   "execution_count": null,
   "metadata": {},
   "outputs": [],
   "source": [
    "Circuit(ExprArray(ExprRange(i, ExprTuple(ExprRange(j, Gate(Aij), one, n)), one, m),\n",
    "                     ExprTuple(ExprRange(j, MultiQubitGate(IndexedVar(B, j), Set(Add(m, one), Add(m, k, two))), one, n)),\n",
    "        ExprRange(i, ExprTuple(ExprRange(j, MultiQubitGate(Cij, Rij), one, n)), one, k),\n",
    "                     ExprTuple(ExprRange(j, MultiQubitGate(IndexedVar(D, j), Set(Add(m, one), Add(m, k, two))), one, n)),\n",
    "        ExprRange(i, ExprTuple(ExprRange(j, Gate(Eij), one, n)), one, p)))"
   ]
  },
  {
   "cell_type": "code",
   "execution_count": null,
   "metadata": {},
   "outputs": [],
   "source": [
    "Circuit(ExprArray(ExprRange(i, ExprTuple(ExprRange(j, MultiQubitGate(Aij, Sij), one, n)), one, m),\n",
    "                     ExprTuple(ExprRange(j, MultiQubitGate(IndexedVar(B, j), Set(Add(m, one), Add(m, k, two))), one, n)),\n",
    "        ExprRange(i, ExprTuple(ExprRange(j, MultiQubitGate(Cij, Rij), one, n)), one, k),\n",
    "                     ExprTuple(ExprRange(j, MultiQubitGate(IndexedVar(D, j), Set(Add(m, one), Add(m, k, two))), one, n)),\n",
    "        ExprRange(i, ExprTuple(ExprRange(j, MultiQubitGate(Eij, Qij), one, n)), one, p)))"
   ]
  },
  {
   "cell_type": "code",
   "execution_count": null,
   "metadata": {},
   "outputs": [],
   "source": [
    "Circuit(ExprArray(ExprRange(i, ExprTuple(ExprRange(j, MultiQubitGate(Aij, Sij), one, n)), one, m),\n",
    "                     ExprTuple(ExprRange(j, MultiQubitGate(IndexedVar(B, j), Set(two, four)), one, n)),\n",
    "        ExprRange(i, ExprTuple(ExprRange(j, MultiQubitGate(Cij, Rij), one, n)), one, k),\n",
    "                     ExprTuple(ExprRange(j, MultiQubitGate(IndexedVar(D, j), Set(two, five)), one, n)),\n",
    "        ExprRange(i, ExprTuple(ExprRange(j, MultiQubitGate(Eij, Qij), one, n)), one, p)))"
   ]
  },
  {
   "cell_type": "code",
   "execution_count": null,
   "metadata": {},
   "outputs": [],
   "source": [
    "\n",
    "#         Implies(\n",
    "#             CircuitEquiv(\n",
    "#                     Circuit(ExprArray(ExprTuple(ExprRange(j, MultiQubitGate(IndexedVar(B, j), Set(Add(m, one), Add(m, k, two))), one, n)),\n",
    "#                             ExprTuple(ExprRange(j, MultiQubitGate(IndexedVar(D, j), Set(Add(m, one), Add(m, k, two))), one, n)))),\n",
    "#                     Circuit(ExprArray(ExprTuple(ExprRange(j, MultiQubitGate(IndexedVar(F, j), Set(Add(m, one), Add(m, k, two))), one, n)),\n",
    "#                             ExprTuple(ExprRange(j, MultiQubitGate(IndexedVar(G, j), Set(Add(m, one), Add(m, k, two))), one, n))))\n",
    "#             ),\n",
    "#             CircuitEquiv(\n",
    "#                     Circuit(ExprArray(ExprRange(i, ExprTuple(ExprRange(j, MultiQubitGate(Aij, Sij), one, n)), one, m),\n",
    "#                             ExprTuple(ExprRange(j, MultiQubitGate(IndexedVar(B, j), Set(Add(m, one), Add(m, k, two))), one, n)),\n",
    "#                             ExprRange(i, ExprTuple(ExprRange(j, MultiQubitGate(Cij, Rij), one, n)), one, k),\n",
    "#                             ExprTuple(ExprRange(j, MultiQubitGate(IndexedVar(D, j), Set(Add(m, one), Add(m, k, two))), one, n)),\n",
    "#                             ExprRange(i, ExprTuple(ExprRange(j, MultiQubitGate(Eij, Qij), one, n)), one, p))),\n",
    "#                     Circuit(ExprArray(ExprRange(i, ExprTuple(ExprRange(j, MultiQubitGate(Aij, Sij), one, n)), one, m),\n",
    "#                             ExprTuple(ExprRange(j, MultiQubitGate(IndexedVar(F, j), Set(Add(m, one), Add(m, k, two))), one, n)),\n",
    "#                             ExprRange(i, ExprTuple(ExprRange(j, MultiQubitGate(Cij, Rij), one, n)), one, k),\n",
    "#                             ExprTuple(ExprRange(j, MultiQubitGate(IndexedVar(G, j), Set(Add(m, one), Add(m, k, two))), one, n)),\n",
    "#                             ExprRange(i, ExprTuple(ExprRange(j, MultiQubitGate(Eij, Qij), one, n)), one, p))))\n",
    "#             )\n",
    "        \n"
   ]
  },
  {
   "cell_type": "code",
   "execution_count": null,
   "metadata": {},
   "outputs": [],
   "source": [
    "Circuit(ExprArray(ExprTuple(Gate(X), Output(ket0), Input(ket0), Gate(H)))).latex()"
   ]
  },
  {
   "cell_type": "code",
   "execution_count": null,
   "metadata": {},
   "outputs": [],
   "source": [
    "Circuit(ExprArray(ExprTuple(Input(ket0), Gate(H), MultiQubitGate(X, Set(one, three)), Gate(H), Output(ket_plus)), \n",
    "        ExprTuple(Input(ket1), MultiQubitGate(H, Set(two, three)), MultiQubitGate(H, Set(two)), Gate(X), Output(ket_minus)),\n",
    "       ExprTuple(Input(ket1), MultiQubitGate(H, Set(two, three)), MultiQubitGate(X, Set(one, three)), Gate(X), Output(ket_minus))))"
   ]
  },
  {
   "cell_type": "code",
   "execution_count": null,
   "metadata": {},
   "outputs": [],
   "source": [
    "Circuit(ExprArray(ExprTuple(ExprRange(j, Gate(IndexedVar(B, j)), one, n))))"
   ]
  },
  {
   "cell_type": "code",
   "execution_count": null,
   "metadata": {},
   "outputs": [],
   "source": [
    "CircuitEquiv(\n",
    "                    Circuit(ExprArray(ExprTuple(ExprRange(j, Gate(IndexedVar(B, j)), one, n)))),\n",
    "                    Circuit(ExprArray(ExprTuple(ExprRange(j, Gate(IndexedVar(D, j)), one, n)))))"
   ]
  },
  {
   "cell_type": "code",
   "execution_count": null,
   "metadata": {},
   "outputs": [],
   "source": [
    "Circuit(ExprArray(ExprRange(i, ExprTuple(ExprRange(j, MultiQubitGate(Aij, Sij), one, n)), one, m),\n",
    "                            ExprTuple(ExprRange(j, Gate(IndexedVar(B, j)), one, n)),\n",
    "                            ExprRange(i, ExprTuple(ExprRange(j, MultiQubitGate(Cij, Rij), one, n)), one, k)))"
   ]
  },
  {
   "cell_type": "code",
   "execution_count": null,
   "metadata": {},
   "outputs": [],
   "source": [
    "CircuitEquiv(\n",
    "                    Circuit(ExprArray(ExprRange(i, ExprTuple(ExprRange(j, MultiQubitGate(Aij, Sij), one, n)), one, m),\n",
    "                            ExprTuple(ExprRange(j, Gate(IndexedVar(B, j)), one, n)),\n",
    "                            ExprRange(i, ExprTuple(ExprRange(j, MultiQubitGate(Cij, Rij), one, n)), one, k))),\n",
    "                    Circuit(ExprArray(ExprRange(i, ExprTuple(ExprRange(j, MultiQubitGate(Aij, Sij), one, n)), one, m),\n",
    "                            ExprTuple(ExprRange(j, Gate(IndexedVar(D, j)), one, n)),\n",
    "                            ExprRange(i, ExprTuple(ExprRange(j, MultiQubitGate(Cij, Rij), one, n)), one, k)))\n",
    "            )"
   ]
  },
  {
   "cell_type": "code",
   "execution_count": null,
   "metadata": {},
   "outputs": [],
   "source": [
    "Circuit(ExprArray(ExprRange(i, ExprTuple(ExprRange(j, MultiQubitGate(Aij, Rij), one, k), \n",
    "                                            MultiQubitGate(IndexedVar(B, i), IndexedVar(S, i)),\n",
    "                               ExprRange(j, MultiQubitGate(Cij, Qij), one, h)), \n",
    "                                    one, m)))"
   ]
  },
  {
   "cell_type": "code",
   "execution_count": null,
   "metadata": {},
   "outputs": [],
   "source": [
    "# print(Implies(\n",
    "#             CircuitEquiv(\n",
    "#                         Circuit(ExprArray(ExprRange(i, ExprTuple(MultiQubitGate(IndexedVar(B, i), IndexedVar(S, i))), one, m))),\n",
    "#                         Circuit(ExprArray(ExprRange(i, ExprTuple(MultiQubitGate(IndexedVar(D, i), IndexedVar(S, i))), one, m)))\n",
    "#             ),\n",
    "#             CircuitEquiv(\n",
    "#                         Circuit(ExprArray(ExprRange(i, ExprTuple(ExprRange(j, MultiQubitGate(Aij, Rij), one, k), \n",
    "#                                             MultiQubitGate(IndexedVar(B, i), IndexedVar(S, i)),\n",
    "#                                             ExprRange(j, MultiQubitGate(Cij, Qij), one, h)), \n",
    "#                                     one, m))),\n",
    "#                         Circuit(ExprArray(ExprRange(i, ExprTuple(ExprRange(j, MultiQubitGate(Aij, Rij), one, k), \n",
    "#                                             MultiQubitGate(IndexedVar(D, i), IndexedVar(S, i)),\n",
    "#                                             ExprRange(j, MultiQubitGate(Cij, Qij), one, h)), \n",
    "#                                     one, m)))\n",
    "#             )\n",
    "#         ).with_wrappingAt(1).latex())"
   ]
  },
  {
   "cell_type": "code",
   "execution_count": null,
   "metadata": {},
   "outputs": [],
   "source": [
    "Implies(\n",
    "            CircuitEquiv(\n",
    "                        Circuit(ExprArray(ExprRange(i, ExprTuple(MultiQubitGate(IndexedVar(B, i), IndexedVar(S, i))), one, m))),\n",
    "                        Circuit(ExprArray(ExprRange(i, ExprTuple(MultiQubitGate(IndexedVar(D, i), IndexedVar(S, i))), one, m)))\n",
    "            ),\n",
    "            CircuitEquiv(\n",
    "                        Circuit(ExprArray(ExprRange(i, ExprTuple(ExprRange(j, MultiQubitGate(Aij, Rij), one, k), \n",
    "                                            MultiQubitGate(IndexedVar(B, i), IndexedVar(S, i)),\n",
    "                                            ExprRange(j, MultiQubitGate(Cij, Qij), one, h)), \n",
    "                                    one, m))),\n",
    "                        Circuit(ExprArray(ExprRange(i, ExprTuple(ExprRange(j, MultiQubitGate(Aij, Rij), one, k), \n",
    "                                            MultiQubitGate(IndexedVar(D, i), IndexedVar(S, i)),\n",
    "                                            ExprRange(j, MultiQubitGate(Cij, Qij), one, h)), \n",
    "                                    one, m)))\n",
    "            )\n",
    "        ).with_wrappingAt(1)"
   ]
  },
  {
   "cell_type": "code",
   "execution_count": null,
   "metadata": {},
   "outputs": [],
   "source": [
    "CircuitEquiv(Circuit(ExprArray(ExprRange(i, ExprTuple(ExprRange(j, MultiQubitGate(Aij, Sij), one, m)), one, q))),\n",
    "                     Circuit(ExprArray(ExprRange(i, ExprTuple(ExprRange(j, MultiQubitGate(Aij, Sij), one, m)), one, q))))"
   ]
  },
  {
   "cell_type": "code",
   "execution_count": null,
   "metadata": {},
   "outputs": [],
   "source": [
    "Circuit(ExprArray(ExprRange(i, ExprTuple(ExprRange(j, MultiQubitGate(Aij, Sij), one, m)), one, q),\n",
    "        ExprTuple(ExprRange(i, MultiQubitGate(IndexedVar(B, i), IndexedVar(S, i)), one, m)),\n",
    "        ExprRange(i, ExprTuple(ExprRange(j, MultiQubitGate(Cij, Sij), one, m)), one, s)))"
   ]
  },
  {
   "cell_type": "code",
   "execution_count": null,
   "metadata": {},
   "outputs": [],
   "source": [
    "Circuit(ExprArray(ExprRange(i, ExprTuple(ExprRange(j, MultiQubitGate(Bij, Sij), one, n)), one, m)))"
   ]
  },
  {
   "cell_type": "code",
   "execution_count": null,
   "metadata": {},
   "outputs": [],
   "source": [
    "Circuit(ExprArray(ExprTuple(Input(ket0), Gate(H), Output(ket_plus)), \n",
    "        ExprTuple(Input(ket1), MultiQubitGate(H, Set(two)), Output(ket_minus))))\n",
    "# MultiQubitGate of a single gate - automatic equality reductions. "
   ]
  },
  {
   "cell_type": "code",
   "execution_count": null,
   "metadata": {},
   "outputs": [],
   "source": [
    "# Circuit(ExprArray(ExprTuple(Input(ket0), Gate(IdentityOp()), Output(ket_plus)), \n",
    "#         ExprTuple(Input(ket1), Gate(), Output(ket_minus))))\n",
    "# # Empty gate reduction"
   ]
  },
  {
   "cell_type": "code",
   "execution_count": null,
   "metadata": {},
   "outputs": [],
   "source": [
    "# multigate block test\n",
    "Circuit(ExprArray(ExprTuple(Input(ket0), MultiQubitGate(CONTROL, Set(one, two, three, four, six, seven)), Output(ket0)), \n",
    "        ExprTuple(Input(ket0), MultiQubitGate(CONTROL, Set(one, two, three, four, six, seven)), \n",
    "                  Output(ket0)), \n",
    "        ExprTuple(Input(ket0), MultiQubitGate(Z, Set(one, two, three, four, six, seven)), Output(ket0)), \n",
    "        ExprTuple(Input(ket1), MultiQubitGate(X, Set(one, two, three, four, six, seven)), \n",
    "                  Output(ket1)),\n",
    "        ExprTuple(Input(ket0), Gate(IdentityOp()), Output(ket0)), \n",
    "        ExprTuple(Input(ket1), MultiQubitGate(X, Set(one, two, three, four, six, seven)), \n",
    "                  Output(ket1)),\n",
    "        ExprTuple(Input(ket1), MultiQubitGate(Z, Set(one, two, three, four, six, seven)), \n",
    "                  Output(ket1))))"
   ]
  },
  {
   "cell_type": "code",
   "execution_count": null,
   "metadata": {},
   "outputs": [],
   "source": [
    "# multigate block test\n",
    "Circuit(ExprArray(ExprTuple(Input(ket0), MultiQubitGate(CONTROL, Set(one, two, three, four)), Output(ket0)), \n",
    "        ExprTuple(Input(ket0), MultiQubitGate(Z, Set(one, two, three, four)), \n",
    "                  Output(ket0)), \n",
    "        ExprTuple(Input(ket0), MultiQubitGate(Z, Set(one, two, three, four)), Output(ket0)), \n",
    "        ExprTuple(Input(ket1), MultiQubitGate(Z, Set(one, two, three, four)), \n",
    "                  Output(ket1))))"
   ]
  },
  {
   "cell_type": "code",
   "execution_count": null,
   "metadata": {},
   "outputs": [],
   "source": [
    "# Single Qubit Gates"
   ]
  },
  {
   "cell_type": "code",
   "execution_count": null,
   "metadata": {},
   "outputs": [],
   "source": [
    "Circuit(ExprArray(ExprTuple(Input(ket0), Gate(H), Output(ket_plus)), \n",
    "        ExprTuple(Input(ket1), Gate(H), Output(ket_minus))))\n",
    "# H gate (both inputs)"
   ]
  },
  {
   "cell_type": "code",
   "execution_count": null,
   "metadata": {},
   "outputs": [],
   "source": [
    "Circuit(ExprArray(ExprTuple(Input(ket0), Gate(X), Output(ket1)), \n",
    "        ExprTuple(Input(ket1), Gate(X), Output(ket0))))\n",
    "# X gate (both inputs)"
   ]
  },
  {
   "cell_type": "code",
   "execution_count": null,
   "metadata": {},
   "outputs": [],
   "source": [
    "Circuit(ExprArray(ExprTuple(Input(ket0), Gate(Z), Output(ket0)), \n",
    "        ExprTuple(Input(ket1), Gate(Z), Output(Neg(ket1)))))\n",
    "# Z gate (both inputs)"
   ]
  },
  {
   "cell_type": "code",
   "execution_count": null,
   "metadata": {},
   "outputs": [],
   "source": [
    "#Two Qubit Gates"
   ]
  },
  {
   "cell_type": "code",
   "execution_count": null,
   "metadata": {},
   "outputs": [],
   "source": [
    "Circuit(ExprArray(ExprTuple(Input(ket0), MultiQubitGate(CONTROL, Set(one, two)), Output(ket0)), \n",
    "        ExprTuple(Input(ket0), MultiQubitGate(Z, Set(one, two)), \n",
    "                  Output(ket0)), \n",
    "        ExprTuple(Input(ket0), MultiQubitGate(CONTROL, Set(three, four)), Output(ket0)), \n",
    "        ExprTuple(Input(ket1), MultiQubitGate(Z, Set(three, four)), \n",
    "                  Output(ket1))))\n",
    "#CZ gate - 0 qubit control for 1 and 0 qubit inputs"
   ]
  },
  {
   "cell_type": "code",
   "execution_count": null,
   "metadata": {},
   "outputs": [],
   "source": [
    "Circuit(ExprArray(ExprTuple(Input(ket1), MultiQubitGate(CONTROL, Set(one, two)), Output(ket1)), \n",
    "        ExprTuple(Input(ket0), MultiQubitGate(Z, Set(one, two)), \n",
    "                  Output(ket0)), \n",
    "        ExprTuple(Input(ket1), MultiQubitGate(CONTROL, Set(three, four)), Output(ket1)), \n",
    "        ExprTuple(Input(ket1), MultiQubitGate(Z, Set(three, four)), \n",
    "                  Output(Neg(ket1))))) \n",
    "#CZ gate - 1 qubit control for 1 and 0 qubit inputs"
   ]
  },
  {
   "cell_type": "code",
   "execution_count": null,
   "metadata": {},
   "outputs": [],
   "source": [
    "Circuit(ExprArray(ExprTuple(Input(ket0), MultiQubitGate(CONTROL, Set(one, two)), Output(ket0)), \n",
    "        ExprTuple(Input(ket0), MultiQubitGate(X, Set(one, two)), Output(ket0)), \n",
    "        ExprTuple(Input(ket0), MultiQubitGate(CONTROL, Set(three, four)), Output(ket0)), \n",
    "        ExprTuple(Input(ket1), MultiQubitGate(X, Set(three, four)), Output(ket1)))) \n",
    "#CX gate - 0 qubit control for 1 and 0 qubit inputs"
   ]
  },
  {
   "cell_type": "code",
   "execution_count": null,
   "metadata": {},
   "outputs": [],
   "source": [
    "Circuit(ExprArray(ExprTuple(Input(ket1), MultiQubitGate(CONTROL, Set(one, two)), Output(ket1)), \n",
    "        ExprTuple(Input(ket0), MultiQubitGate(X, Set(one, two)), Output(ket1)), \n",
    "        ExprTuple(Input(ket1), MultiQubitGate(CONTROL, Set(three, four)), Output(ket1)), \n",
    "        ExprTuple(Input(ket1), MultiQubitGate(X, Set(three, four)), Output(ket0)))) \n",
    "#CX gate - 1 qubit control for 1 and 0 qubit inputs"
   ]
  },
  {
   "cell_type": "code",
   "execution_count": null,
   "metadata": {},
   "outputs": [],
   "source": [
    "Circuit(ExprArray(ExprTuple(Input(zero), MultiQubitGate(CLASSICAL_CONTROL, Set(one, two)), SPACE), \n",
    "        ExprTuple(Input(ket0), MultiQubitGate(Z, Set(one, two)), \n",
    "                  Output(ket0)), \n",
    "        ExprTuple(Input(zero), MultiQubitGate(CLASSICAL_CONTROL, Set(three, four)), SPACE), \n",
    "        ExprTuple(Input(ket1), MultiQubitGate(Z, Set(three, four)), \n",
    "                  Output(ket1)))) \n",
    "#cZ gate - 0 classical bit control for 1 and 0 qubit inputs"
   ]
  },
  {
   "cell_type": "code",
   "execution_count": null,
   "metadata": {},
   "outputs": [],
   "source": [
    "Circuit(ExprArray(ExprTuple(Input(one), MultiQubitGate(CLASSICAL_CONTROL, Set(one, two)), SPACE), \n",
    "        ExprTuple(Input(ket0), MultiQubitGate(Z, Set(one, two)), \n",
    "                  Output(ket0)), \n",
    "        ExprTuple(Input(one), MultiQubitGate(CLASSICAL_CONTROL, Set(three, four)), SPACE), \n",
    "        ExprTuple(Input(ket1), MultiQubitGate(Z, Set(three, four)), \n",
    "                  Output(Neg(ket1)))))\n",
    "#cZ gate - 1 classical bit control for 1 and 0 qubit inputs"
   ]
  },
  {
   "cell_type": "code",
   "execution_count": null,
   "metadata": {},
   "outputs": [],
   "source": [
    "Circuit(ExprArray(ExprTuple(Input(zero), MultiQubitGate(CLASSICAL_CONTROL, Set(one, two)), SPACE), \n",
    "        ExprTuple(Input(ket0), MultiQubitGate(X, Set(one, two)), \n",
    "                  Output(ket0)), \n",
    "        ExprTuple(Input(zero), MultiQubitGate(CLASSICAL_CONTROL, Set(three, four)), SPACE), \n",
    "        ExprTuple(Input(ket1), MultiQubitGate(X, Set(three, four)), \n",
    "                  Output(ket1)))) \n",
    "#cX gate - 0 classical bit control for 1 and 0 qubit inputs"
   ]
  },
  {
   "cell_type": "code",
   "execution_count": null,
   "metadata": {},
   "outputs": [],
   "source": [
    "Circuit(ExprArray(ExprTuple(Input(one), MultiQubitGate(CLASSICAL_CONTROL, Set(one, two)), SPACE), \n",
    "        ExprTuple(Input(ket0), MultiQubitGate(X, Set(one, two)), \n",
    "                  Output(ket1)), \n",
    "        ExprTuple(Input(one), MultiQubitGate(CLASSICAL_CONTROL, Set(three, four)), SPACE), \n",
    "        ExprTuple(Input(ket1), MultiQubitGate(X, Set(three, four)), \n",
    "                  Output(ket0))))\n",
    "#cX gate - 1 classical bit control for 1 and 0 qubit inputs"
   ]
  },
  {
   "cell_type": "code",
   "execution_count": null,
   "metadata": {},
   "outputs": [],
   "source": [
    "#NULL GATES"
   ]
  },
  {
   "cell_type": "code",
   "execution_count": null,
   "metadata": {},
   "outputs": [],
   "source": [
    "Circuit(ExprArray(ExprTuple(Input(ket0), Gate(H), Gate(H), Output(ket0)), \n",
    "        ExprTuple(Input(ket1), Gate(H), Gate(H), Output(ket1))))"
   ]
  },
  {
   "cell_type": "code",
   "execution_count": null,
   "metadata": {},
   "outputs": [],
   "source": [
    "Circuit(ExprArray(ExprTuple(Input(ket0), Gate(X), Gate(X), Output(ket0)), \n",
    "        ExprTuple(Input(ket1), Gate(X), Gate(X), Output(ket1))))"
   ]
  },
  {
   "cell_type": "code",
   "execution_count": null,
   "metadata": {},
   "outputs": [],
   "source": [
    "Circuit(ExprArray(ExprTuple(Input(ket0), Gate(Z), Gate(Z), Output(ket0)), \n",
    "        ExprTuple(Input(ket1), Gate(Z), Gate(Z), Output(ket1))))"
   ]
  },
  {
   "cell_type": "code",
   "execution_count": null,
   "metadata": {},
   "outputs": [],
   "source": [
    "Circuit(ExprArray(ExprTuple(Input(ket0), MultiQubitGate(CONTROL, Set(one, two)), MultiQubitGate(CONTROL, Set(one, two)), \n",
    "                  Output(ket0)), \n",
    "        ExprTuple(Input(ket0), MultiQubitGate(Z, Set(one, two)), MultiQubitGate(Z, Set(one, two)), Output(ket0)), \n",
    "        ExprTuple(Input(ket0), MultiQubitGate(CONTROL, Set(three, four)), MultiQubitGate(CONTROL, Set(three, four)), \n",
    "                  Output(ket0)), \n",
    "        ExprTuple(Input(ket1), MultiQubitGate(Z, Set(three, four)), MultiQubitGate(Z, Set(three, four)), \n",
    "                  Output(ket1)),\n",
    "        ExprTuple(Input(ket1), MultiQubitGate(CONTROL, Set(five, six)), MultiQubitGate(CONTROL, Set(five, six)),\n",
    "                  Output(ket1)),\n",
    "        ExprTuple(Input(ket0), MultiQubitGate(Z, Set(five, six)), MultiQubitGate(Z, Set(five, six)),\n",
    "                  Output(ket0)),\n",
    "        ExprTuple(Input(ket1), MultiQubitGate(CONTROL, Set(seven, eight)), MultiQubitGate(CONTROL, Set(seven, eight)), \n",
    "                  Output(ket1)), \n",
    "        ExprTuple(Input(ket1), MultiQubitGate(Z, Set(seven, eight)), MultiQubitGate(Z, Set(seven, eight)), \n",
    "                  Output(ket1)))) \n",
    "# Double CZ gate"
   ]
  },
  {
   "cell_type": "code",
   "execution_count": null,
   "metadata": {},
   "outputs": [],
   "source": [
    "Circuit(ExprArray(ExprTuple(Input(ket0), MultiQubitGate(CONTROL, Set(one, two)), MultiQubitGate(CONTROL, Set(one, two)), \n",
    "                  Output(ket0)), \n",
    "        ExprTuple(Input(ket0), MultiQubitGate(X, Set(one, two)), MultiQubitGate(X, Set(one, two)), Output(ket0)), \n",
    "        ExprTuple(Input(ket0), MultiQubitGate(CONTROL, Set(three, four)), MultiQubitGate(CONTROL, Set(three, four)), \n",
    "                  Output(ket0)), \n",
    "        ExprTuple(Input(ket1), MultiQubitGate(X, Set(three, four)), MultiQubitGate(X, Set(three, four)), \n",
    "                  Output(ket1)),\n",
    "        ExprTuple(Input(ket1), MultiQubitGate(CONTROL, Set(five, six)), MultiQubitGate(CONTROL, Set(five, six)),\n",
    "                  Output(ket1)),\n",
    "        ExprTuple(Input(ket0), MultiQubitGate(X, Set(five, six)), MultiQubitGate(X, Set(five, six)),\n",
    "                  Output(ket0)),\n",
    "        ExprTuple(Input(ket1), MultiQubitGate(CONTROL, Set(seven, eight)), MultiQubitGate(CONTROL, Set(seven, eight)), \n",
    "                  Output(ket1)), \n",
    "        ExprTuple(Input(ket1), MultiQubitGate(X, Set(seven, eight)), MultiQubitGate(X, Set(seven, eight)), \n",
    "                  Output(ket1)))) \n",
    "# Double CX gate"
   ]
  },
  {
   "cell_type": "code",
   "execution_count": null,
   "metadata": {},
   "outputs": [],
   "source": [
    "Circuit(ExprArray(ExprTuple(Input(ket0), MultiQubitGate(CONTROL, Set(one, two)), Output(ket0)), \n",
    "        ExprTuple(Input(ket0), MultiQubitGate(U, Set(one, two)), \n",
    "                  Output(ket0)), \n",
    "        ExprTuple(Input(ket0), MultiQubitGate(CONTROL, Set(three, four)), Output(ket0)), \n",
    "        ExprTuple(Input(ket1), MultiQubitGate(U, Set(three, four)), \n",
    "                  Output(ket1)))) \n",
    "#CU gate - 0 classical bit control for 1 and 0 qubit inputs (Always null regardless of what U is)"
   ]
  },
  {
   "cell_type": "code",
   "execution_count": null,
   "metadata": {},
   "outputs": [],
   "source": [
    "# CONGRUENCIES"
   ]
  },
  {
   "cell_type": "code",
   "execution_count": null,
   "metadata": {},
   "outputs": [],
   "source": [
    "Circuit(ExprArray(\n",
    "    ExprTuple(Input(ket0), MultiQubitGate(Z, Set(one, two)), Output(ket0)), \n",
    "    ExprTuple(Input(ket0), MultiQubitGate(CONTROL, Set(one, two)), \n",
    "              Output(ket0)), \n",
    "    ExprTuple(Input(ket0), MultiQubitGate(Z, Set(three, four)), Output(ket0)), \n",
    "    ExprTuple(Input(ket1), MultiQubitGate(CONTROL, Set(three, four)), \n",
    "                Output(ket1)),\n",
    "    ExprTuple(Input(ket1), MultiQubitGate(Z, Set(five, six)), Output(ket1)), \n",
    "    ExprTuple(Input(ket0), MultiQubitGate(CONTROL, Set(five, six)), \n",
    "              Output(ket0)), \n",
    "    ExprTuple(Input(ket1), MultiQubitGate(Z, Set(seven, eight)), Output(Neg(ket1))), \n",
    "    ExprTuple(Input(ket1), MultiQubitGate(CONTROL, Set(seven, eight)), \n",
    "              Output(ket1))))\n",
    "\n",
    "#Congruent to a regular CZ gate"
   ]
  },
  {
   "cell_type": "code",
   "execution_count": null,
   "metadata": {},
   "outputs": [],
   "source": [
    "Circuit(ExprArray(\n",
    "        ExprTuple(Input(ket0), Gate(IdentityOp()), MultiQubitGate(CONTROL, Set(one, two)), Gate(IdentityOp()), Output(ket0)), \n",
    "        ExprTuple(Input(ket0), Gate(H), MultiQubitGate(Z, Set(one, two)), Gate(H), Output(ket0)),\n",
    "        ExprTuple(Input(ket0), Gate(IdentityOp()), MultiQubitGate(CONTROL, Set(three, four)), Gate(IdentityOp()), Output(ket0)), \n",
    "        ExprTuple(Input(ket1), Gate(H), MultiQubitGate(Z, Set(three, four)), Gate(H), Output(ket1)),\n",
    "        ExprTuple(Input(ket1), Gate(IdentityOp()), MultiQubitGate(CONTROL, Set(five, six)), Gate(IdentityOp()), Output(ket1)), \n",
    "        ExprTuple(Input(ket0), Gate(H), MultiQubitGate(Z, Set(five, six)), Gate(H), Output(ket1)),\n",
    "        ExprTuple(Input(ket1), Gate(IdentityOp()), MultiQubitGate(CONTROL, Set(seven, eight)), Gate(IdentityOp()), Output(ket1)), \n",
    "        ExprTuple(Input(ket1), Gate(H), MultiQubitGate(Z, Set(seven, eight)), Gate(H), Output(ket0))))\n",
    "# Congruent to a CX gate"
   ]
  },
  {
   "cell_type": "code",
   "execution_count": null,
   "metadata": {},
   "outputs": [],
   "source": [
    "Circuit(ExprArray(ExprTuple(Input(ket0), Gate(H), MultiQubitGate(CONTROL, Set(one, two)), Gate(H), Output(ket0)), \n",
    "        ExprTuple(Input(ket0), Gate(H), MultiQubitGate(Z, Set(one, two)), Gate(H), Output(ket0)),\n",
    "        ExprTuple(Input(ket0), Gate(H), MultiQubitGate(CONTROL, Set(three, four)), Gate(H), Output(ket0)), \n",
    "        ExprTuple(Input(ket1), Gate(H), MultiQubitGate(Z, Set(three, four)), Gate(H), Output(ket1)),\n",
    "        ExprTuple(Input(ket1), Gate(H), MultiQubitGate(CONTROL, Set(five, six)), Gate(H), Output(ket1)), \n",
    "        ExprTuple(Input(ket0), Gate(H), MultiQubitGate(Z, Set(five, six)), Gate(H), Output(ket1)),\n",
    "        ExprTuple(Input(ket1), Gate(H), MultiQubitGate(CONTROL, Set(seven, eight)), Gate(H), Output(ket1)), \n",
    "        ExprTuple(Input(ket1), Gate(H), MultiQubitGate(Z, Set(seven, eight)), Gate(H), Output(ket0))))\n",
    "# Intermediate step to show the congruence of a switched CX gate"
   ]
  },
  {
   "cell_type": "code",
   "execution_count": null,
   "metadata": {},
   "outputs": [],
   "source": [
    "Circuit(ExprArray(ExprTuple(Input(ket0), Gate(H), MultiQubitGate(Z, Set(one, two)), Gate(H), Output(ket0)), \n",
    "        ExprTuple(Input(ket0), Gate(H), MultiQubitGate(CONTROL, Set(one, two)), Gate(H), Output(ket0)),\n",
    "        ExprTuple(Input(ket0), Gate(H), MultiQubitGate(Z, Set(three, four)), Gate(H), Output(ket1)), \n",
    "        ExprTuple(Input(ket1), Gate(H), MultiQubitGate(CONTROL, Set(three, four)), Gate(H), Output(ket1)),\n",
    "        ExprTuple(Input(ket1), Gate(H), MultiQubitGate(Z, Set(five, six)), Gate(H), Output(ket1)), \n",
    "        ExprTuple(Input(ket0), Gate(H), MultiQubitGate(CONTROL, Set(five, six)), Gate(H), Output(ket0)),\n",
    "        ExprTuple(Input(ket1), Gate(H), MultiQubitGate(Z, Set(seven, eight)), Gate(H), Output(ket0)), \n",
    "        ExprTuple(Input(ket1), Gate(H), MultiQubitGate(CONTROL, Set(seven, eight)), Gate(H), Output(ket1))))\n",
    "# using cell 24 we can show that this is equivalent to cell 26"
   ]
  },
  {
   "cell_type": "code",
   "execution_count": null,
   "metadata": {},
   "outputs": [],
   "source": [
    "Circuit(ExprArray(ExprTuple(Input(ket0), Gate(H), MultiQubitGate(CONTROL, Set(one, two)), Gate(H), Output(ket0)), \n",
    "        ExprTuple(Input(ket0), Gate(IdentityOp()), MultiQubitGate(X, Set(one, two)), Gate(IdentityOp()), Output(ket0)),\n",
    "        ExprTuple(Input(ket0), Gate(H), MultiQubitGate(CONTROL, Set(three, four)), Gate(H), Output(ket0)), \n",
    "        ExprTuple(Input(ket1), Gate(IdentityOp()), MultiQubitGate(X, Set(three, four)), Gate(IdentityOp()), Output(ket1)),\n",
    "        ExprTuple(Input(ket1), Gate(H), MultiQubitGate(CONTROL, Set(five, six)), Gate(H), Output(ket1)), \n",
    "        ExprTuple(Input(ket0), Gate(IdentityOp()), MultiQubitGate(X, Set(five, six)), Gate(IdentityOp()), Output(ket1)),\n",
    "        ExprTuple(Input(ket1), Gate(H), MultiQubitGate(CONTROL, Set(seven, eight)), Gate(H), Output(ket1)), \n",
    "        ExprTuple(Input(ket1), Gate(IdentityOp()), MultiQubitGate(X, Set(seven, eight)), Gate(IdentityOp()), Output(ket0))))\n",
    "# using cell 26, we apply instantiation to return to the X gates"
   ]
  },
  {
   "cell_type": "code",
   "execution_count": null,
   "metadata": {},
   "outputs": [],
   "source": [
    "Circuit(ExprArray(ExprTuple(Input(ket0), Gate(IdentityOp()), MultiQubitGate(X, Set(one, two)), Gate(IdentityOp()), Output(ket0)), \n",
    "        ExprTuple(Input(ket0), Gate(H), MultiQubitGate(CONTROL, Set(one, two)), Gate(H), Output(ket0)),\n",
    "        ExprTuple(Input(ket0), Gate(IdentityOp()), MultiQubitGate(X, Set(three, four)), Gate(IdentityOp()), Output(ket1)), \n",
    "        ExprTuple(Input(ket1), Gate(H), MultiQubitGate(CONTROL, Set(three, four)), Gate(H), Output(ket1)),\n",
    "        ExprTuple(Input(ket1), Gate(IdentityOp()), MultiQubitGate(X, Set(five, six)), Gate(IdentityOp()), Output(ket1)), \n",
    "        ExprTuple(Input(ket0), Gate(H), MultiQubitGate(CONTROL, Set(five, six)), Gate(H), Output(ket0)),\n",
    "        ExprTuple(Input(ket1), Gate(IdentityOp()), MultiQubitGate(X, Set(seven, eight)), Gate(IdentityOp()), Output(ket0)), \n",
    "        ExprTuple(Input(ket1), Gate(H), MultiQubitGate(CONTROL, Set(seven, eight)), Gate(H), Output(ket1))))\n",
    "# using cell 27 we can show that cell 28 is congruent to this cell "
   ]
  },
  {
   "cell_type": "code",
   "execution_count": null,
   "metadata": {},
   "outputs": [],
   "source": [
    "# try:\n",
    "#     Circuit(ExprArray(ExprRange(i, ExprTuple(ExprRange(j, Aij, one, m)), one, q),\n",
    "#          ExprTuple(ExprRange(j, Bij, one, m)),\n",
    "#          ExprRange(i, ExprTuple(ExprRange(j, Cij, one, m)), one, s))).latex()\n",
    "#     assert False, \"Expected a TypeError error.\"\n",
    "# except TypeError as e:\n",
    "#     print(\"Expected error:\", e)"
   ]
  },
  {
   "cell_type": "code",
   "execution_count": null,
   "metadata": {},
   "outputs": [],
   "source": [
    "%end demonstrations"
   ]
  },
  {
   "cell_type": "code",
   "execution_count": null,
   "metadata": {},
   "outputs": [],
   "source": []
  }
 ],
 "metadata": {
  "kernelspec": {
   "display_name": "Python 3",
   "language": "python",
   "name": "python3"
  },
  "language_info": {
   "codemirror_mode": {
    "name": "ipython",
    "version": 3
   },
   "file_extension": ".py",
   "mimetype": "text/x-python",
   "name": "python",
   "nbconvert_exporter": "python",
   "pygments_lexer": "ipython3",
   "version": "3.7.3"
  }
 },
 "nbformat": 4,
 "nbformat_minor": 1
}
