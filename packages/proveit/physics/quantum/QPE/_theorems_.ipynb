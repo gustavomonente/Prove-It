{
 "cells": [
  {
   "cell_type": "markdown",
   "metadata": {},
   "source": [
    "Theorems (or conjectures) for the theory of <a class=\"ProveItLink\" href=\"_theory_.ipynb\">proveit.physics.quantum.QPE</a>\n",
    "========"
   ]
  },
  {
   "cell_type": "code",
   "execution_count": null,
   "metadata": {},
   "outputs": [],
   "source": [
    "import proveit\n",
    "# 72 cols ==============================================================\n",
    "# Prepare this notebook for defining the theorems of a theory:\n",
    "%theorems_notebook # Keep this at the top following 'import proveit'.\n",
    "from proveit._common_ import a, b, k, l, t, eps\n",
    "from proveit._core_.expression import Lambda\n",
    "from proveit.logic import And, Equals, Forall, InSet, NotEquals, NotInSet\n",
    "from proveit.number import Abs, Add, Exp, frac, Mult, Neg, sqrt, subtract, Sum\n",
    "from proveit.number import Greater, GreaterEq, Less, LessEq, Mod\n",
    "from proveit.statistics import Prob\n",
    "from proveit.number.numeral._common_ import zero, one, two, three, four\n",
    "from proveit.number.sets import Interval, IntervalCC, IntervalCO, IntervalOO\n",
    "from proveit.number.sets.integer._common_ import Integer\n",
    "from proveit.number.sets.natural._common_ import Natural, NaturalPos\n",
    "from proveit.number.sets.complex._common_ import i, Complex\n",
    "from proveit.number.sets.real._common_ import e, pi, Real\n",
    "from proveit.physics.quantum import Bra, Ket\n",
    "from proveit.physics.quantum._common_ import ket0, ket1, CTRL_DN, invRoot2\n",
    "from proveit.physics.quantum.QPE._common_ import (u_, n_, t_, phase_, m_,\n",
    "        b_, delta_, two_pow_t, two_pow_t_minus_one, alpha_l, alpha_l_sqrd,\n",
    "        fullDomain, negDomain, posDomain, epsDomain, U_pow_two_pow_k)\n",
    "from proveit.physics.quantum.QPE.phaseEstOps import Psuccess, Pfail, ModAdd\n",
    "from IPython.display import display"
   ]
  },
  {
   "cell_type": "code",
   "execution_count": null,
   "metadata": {},
   "outputs": [],
   "source": [
    "%begin theorems"
   ]
  },
  {
   "cell_type": "markdown",
   "metadata": {},
   "source": [
    "#### Some convenience methods for building expressions:"
   ]
  },
  {
   "cell_type": "code",
   "execution_count": null,
   "metadata": {},
   "outputs": [],
   "source": [
    "def exp2pi_i(*exp_factors):\n",
    "    return Exp(e, Mult(*((two, pi, i) + exp_factors)))\n",
    "\n",
    "def exp2pi_i_on_two_pow_t(*exp_factors):\n",
    "    return Exp(e, frac(Mult(*((two, pi, i) + exp_factors)), two_pow_t))\n",
    "\n",
    "def expNeg2pi_i_on_two_pow_t(*exp_factors):\n",
    "    return Exp(e, frac(Neg(Mult(*((two, pi, i) + exp_factors))), two_pow_t))\n",
    "\n",
    "display(exp2pi_i(a, b))\n",
    "display(exp2pi_i_on_two_pow_t(a, b))\n",
    "display(expNeg2pi_i_on_two_pow_t(a, b))"
   ]
  },
  {
   "cell_type": "code",
   "execution_count": null,
   "metadata": {},
   "outputs": [],
   "source": []
  },
  {
   "cell_type": "markdown",
   "metadata": {},
   "source": [
    "#### Take care of number domain issues:"
   ]
  },
  {
   "cell_type": "code",
   "execution_count": null,
   "metadata": {},
   "outputs": [],
   "source": [
    "# PROVEN\n",
    "# t (represented by the Literal t_) denotes\n",
    "# the number of Qbits in the input register\n",
    "two_pow_t_in_posnat = InSet(two_pow_t, NaturalPos)"
   ]
  },
  {
   "cell_type": "code",
   "execution_count": null,
   "metadata": {},
   "outputs": [],
   "source": [
    "# PROVEN\n",
    "# t (represented by the Literal t_) denotes\n",
    "# the number of Qbits in the input register\n",
    "two_pow_tMinusOne_in_posnat = InSet(Exp(two, subtract(t_, one)), NaturalPos)"
   ]
  },
  {
   "cell_type": "code",
   "execution_count": null,
   "metadata": {},
   "outputs": [],
   "source": [
    "# PROVEN\n",
    "# t (represented by the Literal t_) denotes\n",
    "# the number of Qbits in the input register\n",
    "two_pow_t_less_one_in_posnat = InSet(subtract(two_pow_t, one), NaturalPos)"
   ]
  },
  {
   "cell_type": "code",
   "execution_count": null,
   "metadata": {},
   "outputs": [],
   "source": [
    "# PROVEN\n",
    "# t (represented by the Literal t_) denotes\n",
    "# the number of Qbits in the input register\n",
    "two_pow_t_not_zero = NotEquals(two_pow_t, zero)"
   ]
  },
  {
   "cell_type": "code",
   "execution_count": null,
   "metadata": {},
   "outputs": [],
   "source": [
    "# PROVEN\n",
    "# The o-plus addition denotes addition modulo 2^t, resulting in an integer\n",
    "modAddClosure = Forall((a, b), InSet(ModAdd(a, b), Integer), domain=Integer)"
   ]
  },
  {
   "cell_type": "code",
   "execution_count": null,
   "metadata": {},
   "outputs": [],
   "source": [
    "phaseInReal = InSet(phase_, Real)"
   ]
  },
  {
   "cell_type": "code",
   "execution_count": null,
   "metadata": {},
   "outputs": [],
   "source": [
    "bestInInt = InSet(b_, Integer)"
   ]
  },
  {
   "cell_type": "code",
   "execution_count": null,
   "metadata": {},
   "outputs": [],
   "source": [
    "posDomainInFullDomain = Forall(\n",
    "        eps, Forall(l, InSet(l, fullDomain), domain=posDomain),\n",
    "        domain=NaturalPos)"
   ]
  },
  {
   "cell_type": "code",
   "execution_count": null,
   "metadata": {},
   "outputs": [],
   "source": [
    "negDomainInFullDomain = Forall(\n",
    "        eps, Forall(l, InSet(l, fullDomain), domain=negDomain),\n",
    "        domain=NaturalPos)"
   ]
  },
  {
   "cell_type": "markdown",
   "metadata": {},
   "source": [
    "#### This derives from $\\delta$ being the difference between $\\delta$ and its best $t$-bit estimate (without going over):"
   ]
  },
  {
   "cell_type": "code",
   "execution_count": null,
   "metadata": {},
   "outputs": [],
   "source": [
    "scaledDeltaInInterval = InSet(Mult(two_pow_t, delta_), IntervalCO(zero, one))"
   ]
  },
  {
   "cell_type": "code",
   "execution_count": null,
   "metadata": {},
   "outputs": [],
   "source": [
    "deltaInReal = InSet(delta_, Real)"
   ]
  },
  {
   "cell_type": "code",
   "execution_count": null,
   "metadata": {},
   "outputs": [],
   "source": [
    "Equals(delta_, one)"
   ]
  },
  {
   "cell_type": "code",
   "execution_count": null,
   "metadata": {},
   "outputs": [],
   "source": [
    "successProbInReal = Forall(eps, InSet(Psuccess(eps), Real), domain=NaturalPos)"
   ]
  },
  {
   "cell_type": "code",
   "execution_count": null,
   "metadata": {},
   "outputs": [],
   "source": [
    "all_alpha_l_in_complex = Forall(l, InSet(alpha_l, Complex), domain=Integer)"
   ]
  },
  {
   "cell_type": "code",
   "execution_count": null,
   "metadata": {},
   "outputs": [],
   "source": [
    "all_abs_alpha_l_nonneg = Forall(\n",
    "    l,\n",
    "    And(InSet(Abs(alpha_l), Real),\n",
    "        GreaterEq(Abs(alpha_l), zero)),\n",
    "    domain=Integer)"
   ]
  },
  {
   "cell_type": "markdown",
   "metadata": {},
   "source": [
    "#### Follows from scaledDeltaInInterval:"
   ]
  },
  {
   "cell_type": "code",
   "execution_count": null,
   "metadata": {},
   "outputs": [],
   "source": [
    "scaledDelta_notEq_nonzeroInt = Forall(\n",
    "        l, NotEquals(Mult(two_pow_t, delta_), l),\n",
    "        domain=Integer, conditions = [NotEquals(l, zero)])"
   ]
  },
  {
   "cell_type": "code",
   "execution_count": null,
   "metadata": {},
   "outputs": [],
   "source": [
    "delta_notEq_scaledNonzeroInt = Forall(\n",
    "        l, NotEquals(delta_, frac(l, two_pow_t)),\n",
    "        domain=Integer, conditions = [NotEquals(l, zero)])"
   ]
  },
  {
   "cell_type": "code",
   "execution_count": null,
   "metadata": {},
   "outputs": [],
   "source": [
    "deltaDiffInInterval = Forall(\n",
    "        l,\n",
    "        InSet(subtract(delta_, frac(l, two_pow_t)),\n",
    "              IntervalCO(Neg(frac(one, two)), frac(one, two))),\n",
    "        domain=fullDomain)"
   ]
  },
  {
   "cell_type": "code",
   "execution_count": null,
   "metadata": {},
   "outputs": [],
   "source": [
    "scaledDeltaDiffInInterval = Forall(\n",
    "        l,\n",
    "        InSet(Mult(two, pi, subtract(delta_, frac(l, two_pow_t))),\n",
    "              IntervalCC(Neg(pi), pi)),\n",
    "        domain=fullDomain)"
   ]
  },
  {
   "cell_type": "code",
   "execution_count": null,
   "metadata": {},
   "outputs": [],
   "source": [
    "nonIntDeltaDiff = Forall(\n",
    "        l,\n",
    "        NotInSet(subtract(delta_, frac(l, two_pow_t)),\n",
    "                Integer), \n",
    "        domain=fullDomain,\n",
    "        conditions = [NotEquals(l, zero)])"
   ]
  },
  {
   "cell_type": "markdown",
   "metadata": {},
   "source": [
    "#### *Success probability as sum of individual success event probabilities:*"
   ]
  },
  {
   "cell_type": "code",
   "execution_count": null,
   "metadata": {},
   "outputs": [],
   "source": [
    "success_sum = Forall(\n",
    "        eps,\n",
    "        GreaterEq(Psuccess(eps),\n",
    "                  Sum(l, Prob(Equals(m_, ModAdd(b_, l)), m_), \n",
    "                      domain=Interval(Neg(eps), eps))),\n",
    "        domain=NaturalPos)"
   ]
  },
  {
   "cell_type": "markdown",
   "metadata": {},
   "source": [
    "#### *Failure probability as sum of individual failure event probabilities in terms of $\\alpha_l$, amplitude of $\\lvert \\Psi \\rangle$ for a state specified relative to $b$ (the best outcome state):*"
   ]
  },
  {
   "cell_type": "code",
   "execution_count": null,
   "metadata": {},
   "outputs": [],
   "source": [
    "fail_sum = Forall(\n",
    "        eps,\n",
    "        LessEq(Pfail(eps),\n",
    "               Add(Sum(l, alpha_l_sqrd, domain=negDomain),\n",
    "                   Sum(l, alpha_l_sqrd, domain=posDomain))),\n",
    "        domain=epsDomain)"
   ]
  },
  {
   "cell_type": "markdown",
   "metadata": {},
   "source": [
    "#### *Modulo addition may be converted to regular addition within $2 \\pi i$ exponentiation:*"
   ]
  },
  {
   "cell_type": "code",
   "execution_count": null,
   "metadata": {},
   "outputs": [],
   "source": [
    "exp2pi_i_modadd = Forall(\n",
    "        (a, b),\n",
    "        Equals(exp2pi_i_on_two_pow_t(ModAdd(a, b)), \n",
    "               exp2pi_i_on_two_pow_t(Add(a, b))),\n",
    "        domain=Integer)"
   ]
  },
  {
   "cell_type": "markdown",
   "metadata": {},
   "source": [
    "#### *Direct evaluation of $\\alpha_l$ (via an intermediate step first):*"
   ]
  },
  {
   "cell_type": "code",
   "execution_count": null,
   "metadata": {},
   "outputs": [],
   "source": [
    "# REQUIRES a Gate class — still needing updated\n",
    "# from proveit.expression import LATEX\n",
    "# intermediateQPE = Forall(\n",
    "#     k, \n",
    "#     Circuit([[Input(ket0), Hgate, CTRL_DN, \n",
    "#               Output(Add(ScalarProd(invRoot2, ket0), \n",
    "#                          ScalarProd(frac(exp2pi_i(phase_, Exponentiate(two, k)), \n",
    "#                                          sqrt(two)), \n",
    "#                                     ket1)))],\n",
    "#              [Input(Ket(u_)), MultiWire(n_), Gate(U_pow_two_pow_k), Output(Ket(u_))]]),\n",
    "#     domain=Natural)\n",
    "# print(intermediateQPE.formatted(LATEX))"
   ]
  },
  {
   "cell_type": "code",
   "execution_count": null,
   "metadata": {},
   "outputs": [],
   "source": [
    "alpha_l_eval = Forall(\n",
    "        l,\n",
    "        Equals(alpha_l,\n",
    "               Mult(frac(one, two_pow_t),\n",
    "                   Sum(k, Mult(expNeg2pi_i_on_two_pow_t(k, ModAdd(b_, l)),\n",
    "                               exp2pi_i(phase_, k)),\n",
    "                       domain=Interval(zero, subtract(two_pow_t, one))))),\n",
    "        domain=Integer)"
   ]
  },
  {
   "cell_type": "markdown",
   "metadata": {},
   "source": [
    "#### *Evaluation of $\\alpha_l$ after performing the geometric series summation in terms of $\\delta$:*"
   ]
  },
  {
   "cell_type": "code",
   "execution_count": null,
   "metadata": {},
   "outputs": [],
   "source": [
    "phaseFromBest = Equals(phase_, Add(frac(b_, two_pow_t), delta_))"
   ]
  },
  {
   "cell_type": "code",
   "execution_count": null,
   "metadata": {},
   "outputs": [],
   "source": [
    "alpha_l_summed = Forall(\n",
    "    l,\n",
    "    Equals(alpha_l,\n",
    "           Mult(frac(one, two_pow_t),\n",
    "                    frac(subtract(one, exp2pi_i(subtract(Mult(two_pow_t, delta_), l))),\n",
    "                         subtract(one, exp2pi_i(subtract(delta_, frac(l, two_pow_t))))))),\n",
    "    domain=Integer)"
   ]
  },
  {
   "cell_type": "code",
   "execution_count": null,
   "metadata": {},
   "outputs": [],
   "source": [
    "alpha_l_summed_abs = Forall(\n",
    "    l,\n",
    "    Equals(Abs(alpha_l),\n",
    "           frac(Abs(subtract(one,\n",
    "                             Exp(e, Mult(two,pi,i,\n",
    "                                         subtract(Mult(Exp(two,t_),delta_),l)))\n",
    "                            )),\n",
    "                Mult(Exp(two,t_),\n",
    "                     Abs(subtract(one, Exp(e, Mult(two,\n",
    "                                                   pi,\n",
    "                                                   i,\n",
    "                                                   subtract(delta_,\n",
    "                                                            frac(l,Exp(two,t_)))\n",
    "                                                  )\n",
    "                                          )\n",
    "                                 )\n",
    "                        )\n",
    "                    )\n",
    "               )\n",
    "          ),\n",
    "    domain=Integer)"
   ]
  },
  {
   "cell_type": "markdown",
   "metadata": {},
   "source": [
    "#### *$| \\alpha_l |^2$ inequality to bound the failure probability:*"
   ]
  },
  {
   "cell_type": "code",
   "execution_count": null,
   "metadata": {},
   "outputs": [],
   "source": [
    "alpha_l_sqrd_ineq = Forall(\n",
    "    l,\n",
    "    LessEq(alpha_l_sqrd,\n",
    "           frac(one,\n",
    "                Mult(four, Exp(subtract(l, Mult(two_pow_t, delta_)), two)))),\n",
    "    domain=fullDomain,\n",
    "    conditions=[NotEquals(l, zero)])"
   ]
  },
  {
   "cell_type": "markdown",
   "metadata": {},
   "source": [
    "#### *A bound on the failure probability:*"
   ]
  },
  {
   "cell_type": "code",
   "execution_count": null,
   "metadata": {},
   "outputs": [],
   "source": [
    "fail_ineq = Forall(\n",
    "    eps,\n",
    "    LessEq(Pfail(eps), Mult(frac(one,two), Add(frac(one,eps),\n",
    "                                               frac(one, Exp(eps, two))))), \n",
    "    domain=epsDomain)"
   ]
  },
  {
   "cell_type": "code",
   "execution_count": null,
   "metadata": {},
   "outputs": [],
   "source": [
    "%end theorems"
   ]
  },
  {
   "cell_type": "code",
   "execution_count": null,
   "metadata": {},
   "outputs": [],
   "source": []
  }
 ],
 "metadata": {
  "kernelspec": {
   "display_name": "Python 3",
   "language": "python",
   "name": "python3"
  }
 },
 "nbformat": 4,
 "nbformat_minor": 0
}
