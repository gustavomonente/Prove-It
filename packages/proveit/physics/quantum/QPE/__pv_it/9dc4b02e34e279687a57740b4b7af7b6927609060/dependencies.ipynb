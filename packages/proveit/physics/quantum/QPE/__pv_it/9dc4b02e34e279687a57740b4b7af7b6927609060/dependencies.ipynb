{
 "cells": [
  {
   "cell_type": "markdown",
   "metadata": {},
   "source": [
    "Theorem Dependencies\n",
    "=======================\n",
    "\n",
    "## <a class=\"ProveItLink\" href=\"../../_context_.ipynb\">proveit.physics.quantum.QPE</a>.<a class=\"ProveItLink\" href=\"../../_theorems_.ipynb#modAddClosure\">modAddClosure</a> \n",
    "***see <a class=\"ProveItLink\" href=\"../../_proofs_/modAddClosure.ipynb\">proof</a>***"
   ]
  },
  {
   "cell_type": "code",
   "execution_count": 1,
   "metadata": {},
   "outputs": [],
   "source": [
    "import proveit\n",
    "# Automation is not needed when querying dependencies:\n",
    "proveit.defaults.automation = False # This will speed things up.\n",
    "proveit.defaults.inline_pngs = False # Makes files smaller.\n",
    "from proveit.physics.quantum.QPE._theorems_ import modAddClosure"
   ]
  },
  {
   "cell_type": "code",
   "execution_count": 2,
   "metadata": {},
   "outputs": [
    {
     "data": {
      "text/html": [
       "<h3>Unproven theorems required (directly or indirectly) to prove modAddClosure</h3>"
      ],
      "text/plain": [
       "<IPython.core.display.HTML object>"
      ]
     },
     "metadata": {},
     "output_type": "display_data"
    },
    {
     "data": {
      "text/html": [
       "<dl>"
      ],
      "text/plain": [
       "<IPython.core.display.HTML object>"
      ]
     },
     "metadata": {},
     "output_type": "display_data"
    },
    {
     "data": {
      "text/html": [
       "<dt><a class=\"ProveItLink\" href=\"../../../../../logic/set_theory/containment/_proofs_/relaxSubset.ipynb\">proveit.logic.set_theory.containment.relaxSubset</a></dt><dd><a class=\"ProveItLink\" href=\"../../../../../logic/set_theory/containment/__pv_it/67d69fc4067f328a5c2eb0f4e944b9678d50896a0/expr.ipynb\"><img src=\"../../../../../logic/set_theory/containment/__pv_it/67d69fc4067f328a5c2eb0f4e944b9678d50896a0/expr.png\" style=\"display:inline;vertical-align:middle;\" /></a></dd>"
      ],
      "text/plain": [
       "<IPython.core.display.HTML object>"
      ]
     },
     "metadata": {},
     "output_type": "display_data"
    },
    {
     "data": {
      "text/html": [
       "<dt><a class=\"ProveItLink\" href=\"../../../../../logic/set_theory/containment/_proofs_/supersetMembershipFromSubset.ipynb\">proveit.logic.set_theory.containment.supersetMembershipFromSubset</a></dt><dd><a class=\"ProveItLink\" href=\"../../../../../logic/set_theory/containment/__pv_it/43b1ed545df7df7ce7e5573b70bfdd048b1a5d550/expr.ipynb\"><img src=\"../../../../../logic/set_theory/containment/__pv_it/43b1ed545df7df7ce7e5573b70bfdd048b1a5d550/expr.png\" style=\"display:inline;vertical-align:middle;\" /></a></dd>"
      ],
      "text/plain": [
       "<IPython.core.display.HTML object>"
      ]
     },
     "metadata": {},
     "output_type": "display_data"
    },
    {
     "data": {
      "text/html": [
       "<dt><a class=\"ProveItLink\" href=\"../../../../../logic/set_theory/containment/_proofs_/unfoldSubsetEq.ipynb\">proveit.logic.set_theory.containment.unfoldSubsetEq</a></dt><dd><a class=\"ProveItLink\" href=\"../../../../../logic/set_theory/containment/__pv_it/50809a187bf396541dec7084ad3e3605c6a1b8c80/expr.ipynb\"><img src=\"../../../../../logic/set_theory/containment/__pv_it/50809a187bf396541dec7084ad3e3605c6a1b8c80/expr.png\" style=\"display:inline;vertical-align:middle;\" /></a></dd>"
      ],
      "text/plain": [
       "<IPython.core.display.HTML object>"
      ]
     },
     "metadata": {},
     "output_type": "display_data"
    },
    {
     "data": {
      "text/html": [
       "<dt><a class=\"ProveItLink\" href=\"../../../../../number/addition/_proofs_/addIntClosureBin.ipynb\">proveit.number.addition.addIntClosureBin</a></dt><dd><a class=\"ProveItLink\" href=\"../../../../../number/addition/__pv_it/a2069402c88510dae8d7eebbfe384e3dc8a06def0/expr.ipynb\"><img src=\"../../../../../number/addition/__pv_it/a2069402c88510dae8d7eebbfe384e3dc8a06def0/expr.png\" style=\"display:inline;vertical-align:middle;\" /></a></dd>"
      ],
      "text/plain": [
       "<IPython.core.display.HTML object>"
      ]
     },
     "metadata": {},
     "output_type": "display_data"
    },
    {
     "data": {
      "text/html": [
       "<dt><a class=\"ProveItLink\" href=\"../../../../../number/exponentiation/_proofs_/expNatClosure.ipynb\">proveit.number.exponentiation.expNatClosure</a></dt><dd><a class=\"ProveItLink\" href=\"../../../../../number/exponentiation/__pv_it/27ec504a39cc77956001efe249ef6ac727e58bb30/expr.ipynb\"><img src=\"../../../../../number/exponentiation/__pv_it/27ec504a39cc77956001efe249ef6ac727e58bb30/expr.png\" style=\"display:inline;vertical-align:middle;\" /></a></dd>"
      ],
      "text/plain": [
       "<IPython.core.display.HTML object>"
      ]
     },
     "metadata": {},
     "output_type": "display_data"
    },
    {
     "data": {
      "text/html": [
       "<dt><a class=\"ProveItLink\" href=\"../../../../../number/exponentiation/_proofs_/expNotEqZero.ipynb\">proveit.number.exponentiation.expNotEqZero</a></dt><dd><a class=\"ProveItLink\" href=\"../../../../../number/exponentiation/__pv_it/0167e7a9b0ff224aee6b48a02f41148ef9862e8c0/expr.ipynb\"><img src=\"../../../../../number/exponentiation/__pv_it/0167e7a9b0ff224aee6b48a02f41148ef9862e8c0/expr.png\" style=\"display:inline;vertical-align:middle;\" /></a></dd>"
      ],
      "text/plain": [
       "<IPython.core.display.HTML object>"
      ]
     },
     "metadata": {},
     "output_type": "display_data"
    },
    {
     "data": {
      "text/html": [
       "<dt><a class=\"ProveItLink\" href=\"../../../../../number/modular/_proofs_/modIntClosure.ipynb\">proveit.number.modular.modIntClosure</a></dt><dd><a class=\"ProveItLink\" href=\"../../../../../number/modular/__pv_it/d0f4f1b8ce9d0770832fb99cb76a2141aa465e800/expr.ipynb\"><img src=\"../../../../../number/modular/__pv_it/d0f4f1b8ce9d0770832fb99cb76a2141aa465e800/expr.png\" style=\"display:inline;vertical-align:middle;\" /></a></dd>"
      ],
      "text/plain": [
       "<IPython.core.display.HTML object>"
      ]
     },
     "metadata": {},
     "output_type": "display_data"
    },
    {
     "data": {
      "text/html": [
       "<dt><a class=\"ProveItLink\" href=\"../../../../../number/numeral/deci/_proofs_/less_0_1.ipynb\">proveit.number.numeral.deci.less_0_1</a></dt><dd><a class=\"ProveItLink\" href=\"../../../../../number/numeral/deci/__pv_it/1385ced8aafde3581828d490b54df4fc421cc0870/expr.ipynb\"><img src=\"../../../../../number/numeral/deci/__pv_it/1385ced8aafde3581828d490b54df4fc421cc0870/expr.png\" style=\"display:inline;vertical-align:middle;\" /></a></dd>"
      ],
      "text/plain": [
       "<IPython.core.display.HTML object>"
      ]
     },
     "metadata": {},
     "output_type": "display_data"
    },
    {
     "data": {
      "text/html": [
       "<dt><a class=\"ProveItLink\" href=\"../../../../../number/numeral/deci/_proofs_/less_1_2.ipynb\">proveit.number.numeral.deci.less_1_2</a></dt><dd><a class=\"ProveItLink\" href=\"../../../../../number/numeral/deci/__pv_it/e448213290777cdec65fe1e8f61100e2e14beb980/expr.ipynb\"><img src=\"../../../../../number/numeral/deci/__pv_it/e448213290777cdec65fe1e8f61100e2e14beb980/expr.png\" style=\"display:inline;vertical-align:middle;\" /></a></dd>"
      ],
      "text/plain": [
       "<IPython.core.display.HTML object>"
      ]
     },
     "metadata": {},
     "output_type": "display_data"
    },
    {
     "data": {
      "text/html": [
       "<dt><a class=\"ProveItLink\" href=\"../../../../../number/numeral/deci/_proofs_/nat2.ipynb\">proveit.number.numeral.deci.nat2</a></dt><dd><a class=\"ProveItLink\" href=\"../../../../../number/numeral/deci/__pv_it/e1be5cc0ffa039746758df99e3fd79595c567a170/expr.ipynb\"><img src=\"../../../../../number/numeral/deci/__pv_it/e1be5cc0ffa039746758df99e3fd79595c567a170/expr.png\" style=\"display:inline;vertical-align:middle;\" /></a></dd>"
      ],
      "text/plain": [
       "<IPython.core.display.HTML object>"
      ]
     },
     "metadata": {},
     "output_type": "display_data"
    },
    {
     "data": {
      "text/html": [
       "<dt><a class=\"ProveItLink\" href=\"../../../../../number/numeral/deci/_proofs_/posnat2.ipynb\">proveit.number.numeral.deci.posnat2</a></dt><dd><a class=\"ProveItLink\" href=\"../../../../../number/numeral/deci/__pv_it/319c208c2bec11a651b142d0da30b2d2b2954dcb0/expr.ipynb\"><img src=\"../../../../../number/numeral/deci/__pv_it/319c208c2bec11a651b142d0da30b2d2b2954dcb0/expr.png\" style=\"display:inline;vertical-align:middle;\" /></a></dd>"
      ],
      "text/plain": [
       "<IPython.core.display.HTML object>"
      ]
     },
     "metadata": {},
     "output_type": "display_data"
    },
    {
     "data": {
      "text/html": [
       "<dt><a class=\"ProveItLink\" href=\"../../../../../number/ordering/_proofs_/gtrIsNotEq.ipynb\">proveit.number.ordering.gtrIsNotEq</a></dt><dd><a class=\"ProveItLink\" href=\"../../../../../number/ordering/__pv_it/2723399e2e58098b5f4b2f4ffd1d6454a419244d0/expr.ipynb\"><img src=\"../../../../../number/ordering/__pv_it/2723399e2e58098b5f4b2f4ffd1d6454a419244d0/expr.png\" style=\"display:inline;vertical-align:middle;\" /></a></dd>"
      ],
      "text/plain": [
       "<IPython.core.display.HTML object>"
      ]
     },
     "metadata": {},
     "output_type": "display_data"
    },
    {
     "data": {
      "text/html": [
       "<dt><a class=\"ProveItLink\" href=\"../../../../../number/sets/complex/_proofs_/natsInComplexes.ipynb\">proveit.number.sets.complex.natsInComplexes</a></dt><dd><a class=\"ProveItLink\" href=\"../../../../../number/sets/complex/__pv_it/6f0eee484941948da5bf1cf073438d55efdf1ace0/expr.ipynb\"><img src=\"../../../../../number/sets/complex/__pv_it/6f0eee484941948da5bf1cf073438d55efdf1ace0/expr.png\" style=\"display:inline;vertical-align:middle;\" /></a></dd>"
      ],
      "text/plain": [
       "<IPython.core.display.HTML object>"
      ]
     },
     "metadata": {},
     "output_type": "display_data"
    },
    {
     "data": {
      "text/html": [
       "<dt><a class=\"ProveItLink\" href=\"../../../../../number/sets/integer/_proofs_/natsPosInInts.ipynb\">proveit.number.sets.integer.natsPosInInts</a></dt><dd><a class=\"ProveItLink\" href=\"../../../../../number/sets/integer/__pv_it/05eeeee1799f76c2c676a55c15bd52969828ec2d0/expr.ipynb\"><img src=\"../../../../../number/sets/integer/__pv_it/05eeeee1799f76c2c676a55c15bd52969828ec2d0/expr.png\" style=\"display:inline;vertical-align:middle;\" /></a></dd>"
      ],
      "text/plain": [
       "<IPython.core.display.HTML object>"
      ]
     },
     "metadata": {},
     "output_type": "display_data"
    },
    {
     "data": {
      "text/html": [
       "<dt><a class=\"ProveItLink\" href=\"../../../../../number/sets/integer/_proofs_/natsPosInNats.ipynb\">proveit.number.sets.integer.natsPosInNats</a></dt><dd><a class=\"ProveItLink\" href=\"../../../../../number/sets/integer/__pv_it/c0b7a97eea33ce9f41807cb7d0db1c4818e32ed80/expr.ipynb\"><img src=\"../../../../../number/sets/integer/__pv_it/c0b7a97eea33ce9f41807cb7d0db1c4818e32ed80/expr.png\" style=\"display:inline;vertical-align:middle;\" /></a></dd>"
      ],
      "text/plain": [
       "<IPython.core.display.HTML object>"
      ]
     },
     "metadata": {},
     "output_type": "display_data"
    },
    {
     "data": {
      "text/html": [
       "<dt><a class=\"ProveItLink\" href=\"../../../../../number/sets/real/_proofs_/natsInReals.ipynb\">proveit.number.sets.real.natsInReals</a></dt><dd><a class=\"ProveItLink\" href=\"../../../../../number/sets/real/__pv_it/6098108b1d877967cea5274a6774d2bf310a01e40/expr.ipynb\"><img src=\"../../../../../number/sets/real/__pv_it/6098108b1d877967cea5274a6774d2bf310a01e40/expr.png\" style=\"display:inline;vertical-align:middle;\" /></a></dd>"
      ],
      "text/plain": [
       "<IPython.core.display.HTML object>"
      ]
     },
     "metadata": {},
     "output_type": "display_data"
    },
    {
     "data": {
      "text/html": [
       "</dl>"
      ],
      "text/plain": [
       "<IPython.core.display.HTML object>"
      ]
     },
     "metadata": {},
     "output_type": "display_data"
    },
    {
     "data": {
      "text/html": [
       "<h3>Axioms required (directly or indirectly) to prove modAddClosure</h3>"
      ],
      "text/plain": [
       "<IPython.core.display.HTML object>"
      ]
     },
     "metadata": {},
     "output_type": "display_data"
    },
    {
     "data": {
      "text/html": [
       "<dl>"
      ],
      "text/plain": [
       "<IPython.core.display.HTML object>"
      ]
     },
     "metadata": {},
     "output_type": "display_data"
    },
    {
     "data": {
      "text/html": [
       "<dt><a class=\"ProveItLink\" href=\"../../../../../logic/boolean/_axioms_.ipynb#eqTrueElim\">proveit.logic.boolean.eqTrueElim</a></dt><dd><a class=\"ProveItLink\" href=\"../../../../../logic/boolean/__pv_it/6ff60b895e13190b9801f0a9e710e21dbccdfd7f0/expr.ipynb\"><img src=\"../../../../../logic/boolean/__pv_it/6ff60b895e13190b9801f0a9e710e21dbccdfd7f0/expr.png\" style=\"display:inline;vertical-align:middle;\" /></a></dd>"
      ],
      "text/plain": [
       "<IPython.core.display.HTML object>"
      ]
     },
     "metadata": {},
     "output_type": "display_data"
    },
    {
     "data": {
      "text/html": [
       "<dt><a class=\"ProveItLink\" href=\"../../../../../logic/boolean/_axioms_.ipynb#eqTrueIntro\">proveit.logic.boolean.eqTrueIntro</a></dt><dd><a class=\"ProveItLink\" href=\"../../../../../logic/boolean/__pv_it/7bce5e3cff7f8036cee68d8befe33a38fe32f5c10/expr.ipynb\"><img src=\"../../../../../logic/boolean/__pv_it/7bce5e3cff7f8036cee68d8befe33a38fe32f5c10/expr.png\" style=\"display:inline;vertical-align:middle;\" /></a></dd>"
      ],
      "text/plain": [
       "<IPython.core.display.HTML object>"
      ]
     },
     "metadata": {},
     "output_type": "display_data"
    },
    {
     "data": {
      "text/html": [
       "<dt><a class=\"ProveItLink\" href=\"../../../../../logic/equality/_axioms_.ipynb#equalsTransitivity\">proveit.logic.equality.equalsTransitivity</a></dt><dd><a class=\"ProveItLink\" href=\"../../../../../logic/equality/__pv_it/62a78d8298863a1032c900aff4af282587b901b20/expr.ipynb\"><img src=\"../../../../../logic/equality/__pv_it/62a78d8298863a1032c900aff4af282587b901b20/expr.png\" style=\"display:inline;vertical-align:middle;\" /></a></dd>"
      ],
      "text/plain": [
       "<IPython.core.display.HTML object>"
      ]
     },
     "metadata": {},
     "output_type": "display_data"
    },
    {
     "data": {
      "text/html": [
       "<dt><a class=\"ProveItLink\" href=\"../../../../../logic/equality/_axioms_.ipynb#substitution\">proveit.logic.equality.substitution</a></dt><dd><a class=\"ProveItLink\" href=\"../../../../../logic/equality/__pv_it/227f37bc1ee52abe3a92ac5130dc32c91fd40c720/expr.ipynb\"><img src=\"../../../../../logic/equality/__pv_it/227f37bc1ee52abe3a92ac5130dc32c91fd40c720/expr.png\" style=\"display:inline;vertical-align:middle;\" /></a></dd>"
      ],
      "text/plain": [
       "<IPython.core.display.HTML object>"
      ]
     },
     "metadata": {},
     "output_type": "display_data"
    },
    {
     "data": {
      "text/html": [
       "<dt><a class=\"ProveItLink\" href=\"../../../../../number/ordering/_axioms_.ipynb#reverseRelation\">proveit.number.ordering.reverseRelation</a></dt><dd><a class=\"ProveItLink\" href=\"../../../../../number/ordering/__pv_it/cfb65c97cd4f40f04a9c7439778049611e73609f0/expr.ipynb\"><img src=\"../../../../../number/ordering/__pv_it/cfb65c97cd4f40f04a9c7439778049611e73609f0/expr.png\" style=\"display:inline;vertical-align:middle;\" /></a></dd>"
      ],
      "text/plain": [
       "<IPython.core.display.HTML object>"
      ]
     },
     "metadata": {},
     "output_type": "display_data"
    },
    {
     "data": {
      "text/html": [
       "<dt><a class=\"ProveItLink\" href=\"../../../../../number/ordering/_axioms_.ipynb#transitivityLessLess\">proveit.number.ordering.transitivityLessLess</a></dt><dd><a class=\"ProveItLink\" href=\"../../../../../number/ordering/__pv_it/fe53b4de391a0db3f72844db747e8f5d50f56f650/expr.ipynb\"><img src=\"../../../../../number/ordering/__pv_it/fe53b4de391a0db3f72844db747e8f5d50f56f650/expr.png\" style=\"display:inline;vertical-align:middle;\" /></a></dd>"
      ],
      "text/plain": [
       "<IPython.core.display.HTML object>"
      ]
     },
     "metadata": {},
     "output_type": "display_data"
    },
    {
     "data": {
      "text/html": [
       "<dt><a class=\"ProveItLink\" href=\"../../../../../number/sets/integer/_axioms_.ipynb#naturalsDef\">proveit.number.sets.integer.naturalsDef</a></dt><dd><a class=\"ProveItLink\" href=\"../../../../../number/sets/integer/__pv_it/2f8ebe7099bcc3d0e37c1a3a498f9bb28202ab910/expr.ipynb\"><img src=\"../../../../../number/sets/integer/__pv_it/2f8ebe7099bcc3d0e37c1a3a498f9bb28202ab910/expr.png\" style=\"display:inline;vertical-align:middle;\" /></a></dd>"
      ],
      "text/plain": [
       "<IPython.core.display.HTML object>"
      ]
     },
     "metadata": {},
     "output_type": "display_data"
    },
    {
     "data": {
      "text/html": [
       "<dt><a class=\"ProveItLink\" href=\"../../_axioms_.ipynb#modAddDef\">proveit.physics.quantum.QPE.modAddDef</a></dt><dd><a class=\"ProveItLink\" href=\"../adbfcc28f55e1549b802ef5bccc2d5633ed46a620/expr.ipynb\"><img src=\"../adbfcc28f55e1549b802ef5bccc2d5633ed46a620/expr.png\" style=\"display:inline;vertical-align:middle;\" /></a></dd>"
      ],
      "text/plain": [
       "<IPython.core.display.HTML object>"
      ]
     },
     "metadata": {},
     "output_type": "display_data"
    },
    {
     "data": {
      "text/html": [
       "<dt><a class=\"ProveItLink\" href=\"../../_axioms_.ipynb#tInNaturalsPos\">proveit.physics.quantum.QPE.tInNaturalsPos</a></dt><dd><a class=\"ProveItLink\" href=\"../b52cbbcffe0021136ee97c6798a3a899ed80d05e0/expr.ipynb\"><img src=\"../b52cbbcffe0021136ee97c6798a3a899ed80d05e0/expr.png\" style=\"display:inline;vertical-align:middle;\" /></a></dd>"
      ],
      "text/plain": [
       "<IPython.core.display.HTML object>"
      ]
     },
     "metadata": {},
     "output_type": "display_data"
    },
    {
     "data": {
      "text/html": [
       "</dl>"
      ],
      "text/plain": [
       "<IPython.core.display.HTML object>"
      ]
     },
     "metadata": {},
     "output_type": "display_data"
    },
    {
     "data": {
      "text/html": [
       "<h3>No theorems depend upon modAddClosure</h3>"
      ],
      "text/plain": [
       "<IPython.core.display.HTML object>"
      ]
     },
     "metadata": {},
     "output_type": "display_data"
    }
   ],
   "source": [
    "%dependencies modAddClosure"
   ]
  }
 ],
 "metadata": {
  "kernelspec": {
   "display_name": "Python 3",
   "language": "python",
   "name": "python3"
  },
  "language_info": {
   "codemirror_mode": {
    "name": "ipython",
    "version": 3
   },
   "file_extension": ".py",
   "mimetype": "text/x-python",
   "name": "python",
   "nbconvert_exporter": "python",
   "pygments_lexer": "ipython3",
   "version": "3.7.3"
  }
 },
 "nbformat": 4,
 "nbformat_minor": 1
}
