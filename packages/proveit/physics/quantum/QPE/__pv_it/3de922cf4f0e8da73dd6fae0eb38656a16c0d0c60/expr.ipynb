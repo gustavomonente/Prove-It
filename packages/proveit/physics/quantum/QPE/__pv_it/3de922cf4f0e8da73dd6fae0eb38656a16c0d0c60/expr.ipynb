{
 "cells": [
  {
   "cell_type": "markdown",
   "metadata": {},
   "source": [
    "Expression of type <a class=\"ProveItLink\" href=\"../../../../../../../doc/html/api/proveit.number.Mult.html\">Mult</a>\n",
    "=======================\n",
    "# from context <a class=\"ProveItLink\" href=\"../../_context_.ipynb\">proveit.physics.quantum.QPE</a>"
   ]
  },
  {
   "cell_type": "code",
   "execution_count": 1,
   "metadata": {},
   "outputs": [],
   "source": [
    "import proveit\n",
    "# Automation is not needed when building an expression:\n",
    "proveit.defaults.automation = False # This will speed things up.\n",
    "proveit.defaults.inline_pngs = False # Makes files smaller.\n",
    "# import Expression classes needed to build the expression\n",
    "from proveit import Literal\n",
    "from proveit._common_ import l\n",
    "from proveit.number import Add, Exp, Mult, Neg, e, frac, i, one, pi, two"
   ]
  },
  {
   "cell_type": "code",
   "execution_count": 2,
   "metadata": {},
   "outputs": [
    {
     "data": {
      "text/html": [
       "<strong id=\"expr\">expr:</strong> <a class=\"ProveItLink\" href=\"expr.ipynb\"><img src=\"expr.png\" style=\"display:inline;vertical-align:middle;\" /></a><br>"
      ],
      "text/plain": [
       "expr: (1 / 2^{t}) * ((1 - e^{2 * pi * i * ((2^{t} * delta) - l)}) / (1 - e^{2 * pi * i * (delta - (l / 2^{t}))}))"
      ]
     },
     "execution_count": 2,
     "metadata": {},
     "output_type": "execute_result"
    }
   ],
   "source": [
    "# build up the expression from sub-expressions\n",
    "subExpr1 = Exp(two, Literal(\"t\", context = \"proveit.physics.quantum.QPE\"))\n",
    "expr = Mult(frac(one, subExpr1), frac(Add(one, Neg(Exp(e, Mult(two, pi, i, Add(Mult(subExpr1, Literal(\"delta\", latexFormat = r\"\\delta\", context = \"proveit.physics.quantum.QPE\")), Neg(l)))))), Add(one, Neg(Exp(e, Mult(two, pi, i, Add(Literal(\"delta\", latexFormat = r\"\\delta\", context = \"proveit.physics.quantum.QPE\"), Neg(frac(l, subExpr1)))))))))"
   ]
  },
  {
   "cell_type": "code",
   "execution_count": 3,
   "metadata": {},
   "outputs": [
    {
     "name": "stdout",
     "output_type": "stream",
     "text": [
      "Passed sanity check: built 'expr' is the same as the stored Expression.\n"
     ]
    }
   ],
   "source": [
    "# check that the built expression is the same as the stored expression\n",
    "%check_expr"
   ]
  },
  {
   "cell_type": "code",
   "execution_count": 4,
   "metadata": {},
   "outputs": [
    {
     "name": "stdout",
     "output_type": "stream",
     "text": [
      "\\frac{1}{2^{t}} \\cdot \\frac{1 - e^{2 \\cdot \\pi \\cdot i \\cdot \\left(\\left(2^{t} \\cdot \\delta\\right) - l\\right)}}{1 - e^{2 \\cdot \\pi \\cdot i \\cdot \\left(\\delta - \\frac{l}{2^{t}}\\right)}}\n"
     ]
    }
   ],
   "source": [
    "# Show the LaTeX representation of the expression for convenience if you need it.\n",
    "print(expr.latex())"
   ]
  },
  {
   "cell_type": "code",
   "execution_count": 5,
   "metadata": {},
   "outputs": [
    {
     "data": {
      "text/html": [
       "<table><tr><th>&nbsp;</th><th>core type</th><th>sub-expressions</th><th>expression</th></tr>\n",
       "<tr><td>0</td><td>Operation</td><td>operator:&nbsp;32<br>operands:&nbsp;1<br></td><td><a class=\"ProveItLink\" href=\"expr.ipynb\"><img src=\"expr.png\" style=\"display:inline;vertical-align:middle;\" /></a></td></tr>\n",
       "<tr><td>1</td><td>ExprTuple</td><td>2, 3</td><td><a class=\"ProveItLink\" href=\"../85021cc0ab76d674f632f7c7431e4e5d55d4f7480/expr.ipynb\"><img src=\"../85021cc0ab76d674f632f7c7431e4e5d55d4f7480/expr.png\" style=\"display:inline;vertical-align:middle;\" /></a></td></tr>\n",
       "<tr><td>2</td><td>Operation</td><td>operator:&nbsp;37<br>operands:&nbsp;4<br></td><td><a class=\"ProveItLink\" href=\"../6e2c94638f4d243f62c244d4024ae32007501e9d0/expr.ipynb\"><img src=\"../6e2c94638f4d243f62c244d4024ae32007501e9d0/expr.png\" style=\"display:inline;vertical-align:middle;\" /></a></td></tr>\n",
       "<tr><td>3</td><td>Operation</td><td>operator:&nbsp;37<br>operands:&nbsp;5<br></td><td><a class=\"ProveItLink\" href=\"../d5426c3dae9d44c479e174727b2b242362c17b0c0/expr.ipynb\"><img src=\"../d5426c3dae9d44c479e174727b2b242362c17b0c0/expr.png\" style=\"display:inline;vertical-align:middle;\" /></a></td></tr>\n",
       "<tr><td>4</td><td>ExprTuple</td><td>11, 40</td><td><a class=\"ProveItLink\" href=\"../a888c54d29dded58457184e0b30037ce364125150/expr.ipynb\"><img src=\"../a888c54d29dded58457184e0b30037ce364125150/expr.png\" style=\"display:inline;vertical-align:middle;\" /></a></td></tr>\n",
       "<tr><td>5</td><td>ExprTuple</td><td>6, 7</td><td><a class=\"ProveItLink\" href=\"../3cfc96db0b65fdae0ec41dcbbd36d70ee7b798410/expr.ipynb\"><img src=\"../3cfc96db0b65fdae0ec41dcbbd36d70ee7b798410/expr.png\" style=\"display:inline;vertical-align:middle;\" /></a></td></tr>\n",
       "<tr><td>6</td><td>Operation</td><td>operator:&nbsp;27<br>operands:&nbsp;8<br></td><td><a class=\"ProveItLink\" href=\"../bb95ce8f65e2cff999827b3ee9a61eea69af623b0/expr.ipynb\"><img src=\"../bb95ce8f65e2cff999827b3ee9a61eea69af623b0/expr.png\" style=\"display:inline;vertical-align:middle;\" /></a></td></tr>\n",
       "<tr><td>7</td><td>Operation</td><td>operator:&nbsp;27<br>operands:&nbsp;9<br></td><td><a class=\"ProveItLink\" href=\"../0c196d667d5ecaed8fe50f18f4f4fe806d1582b90/expr.ipynb\"><img src=\"../0c196d667d5ecaed8fe50f18f4f4fe806d1582b90/expr.png\" style=\"display:inline;vertical-align:middle;\" /></a></td></tr>\n",
       "<tr><td>8</td><td>ExprTuple</td><td>11, 10</td><td><a class=\"ProveItLink\" href=\"../afd74351872bc36dc80171987f7cbcf1af2cd7690/expr.ipynb\"><img src=\"../afd74351872bc36dc80171987f7cbcf1af2cd7690/expr.png\" style=\"display:inline;vertical-align:middle;\" /></a></td></tr>\n",
       "<tr><td>9</td><td>ExprTuple</td><td>11, 12</td><td><a class=\"ProveItLink\" href=\"../19db768fcd954280c1dd7113c41fb594ef97f33b0/expr.ipynb\"><img src=\"../19db768fcd954280c1dd7113c41fb594ef97f33b0/expr.png\" style=\"display:inline;vertical-align:middle;\" /></a></td></tr>\n",
       "<tr><td>10</td><td>Operation</td><td>operator:&nbsp;34<br>operand:&nbsp;13<br></td><td><a class=\"ProveItLink\" href=\"../30db08578546d6a9dc9d654ae5cdac11781c13c90/expr.ipynb\"><img src=\"../30db08578546d6a9dc9d654ae5cdac11781c13c90/expr.png\" style=\"display:inline;vertical-align:middle;\" /></a></td></tr>\n",
       "<tr><td>11</td><td>Literal</td><td></td><td><a class=\"ProveItLink\" href=\"../../../../../number/numeral/__pv_it/f086f8c372bd40a2458306ddfdbb29f3dc6f63030/expr.ipynb\"><img src=\"../../../../../number/numeral/__pv_it/f086f8c372bd40a2458306ddfdbb29f3dc6f63030/expr.png\" style=\"display:inline;vertical-align:middle;\" /></a></td></tr>\n",
       "<tr><td>12</td><td>Operation</td><td>operator:&nbsp;34<br>operand:&nbsp;14<br></td><td><a class=\"ProveItLink\" href=\"../b61ab804df6f8150bc8a606a95ccc9df3ccc8bab0/expr.ipynb\"><img src=\"../b61ab804df6f8150bc8a606a95ccc9df3ccc8bab0/expr.png\" style=\"display:inline;vertical-align:middle;\" /></a></td></tr>\n",
       "<tr><td>13</td><td>Operation</td><td>operator:&nbsp;41<br>operands:&nbsp;15<br></td><td><a class=\"ProveItLink\" href=\"../445f50c72c606ae03663abd559f65472d057b9f80/expr.ipynb\"><img src=\"../445f50c72c606ae03663abd559f65472d057b9f80/expr.png\" style=\"display:inline;vertical-align:middle;\" /></a></td></tr>\n",
       "<tr><td>14</td><td>Operation</td><td>operator:&nbsp;41<br>operands:&nbsp;16<br></td><td><a class=\"ProveItLink\" href=\"../2774b4a4b209762402ce389ee54bd042c7edc9510/expr.ipynb\"><img src=\"../2774b4a4b209762402ce389ee54bd042c7edc9510/expr.png\" style=\"display:inline;vertical-align:middle;\" /></a></td></tr>\n",
       "<tr><td>15</td><td>ExprTuple</td><td>18, 17</td><td><a class=\"ProveItLink\" href=\"../b631aaacb3cd7278bac5619e9c74d5a047a770b80/expr.ipynb\"><img src=\"../b631aaacb3cd7278bac5619e9c74d5a047a770b80/expr.png\" style=\"display:inline;vertical-align:middle;\" /></a></td></tr>\n",
       "<tr><td>16</td><td>ExprTuple</td><td>18, 19</td><td><a class=\"ProveItLink\" href=\"../3b79469e57ce94beec6b5d1027c250aee9454fe10/expr.ipynb\"><img src=\"../3b79469e57ce94beec6b5d1027c250aee9454fe10/expr.png\" style=\"display:inline;vertical-align:middle;\" /></a></td></tr>\n",
       "<tr><td>17</td><td>Operation</td><td>operator:&nbsp;32<br>operands:&nbsp;20<br></td><td><a class=\"ProveItLink\" href=\"../58283c84119af6a5b651073c5fe19fea8b64ffff0/expr.ipynb\"><img src=\"../58283c84119af6a5b651073c5fe19fea8b64ffff0/expr.png\" style=\"display:inline;vertical-align:middle;\" /></a></td></tr>\n",
       "<tr><td>18</td><td>Literal</td><td></td><td><a class=\"ProveItLink\" href=\"../../../../../number/sets/real/__pv_it/2da8b15c54030215c8a4e24fc5dad394d038890a0/expr.ipynb\"><img src=\"../../../../../number/sets/real/__pv_it/2da8b15c54030215c8a4e24fc5dad394d038890a0/expr.png\" style=\"display:inline;vertical-align:middle;\" /></a></td></tr>\n",
       "<tr><td>19</td><td>Operation</td><td>operator:&nbsp;32<br>operands:&nbsp;21<br></td><td><a class=\"ProveItLink\" href=\"../ff878ffb7541e61305f434e4a0daef564d4375250/expr.ipynb\"><img src=\"../ff878ffb7541e61305f434e4a0daef564d4375250/expr.png\" style=\"display:inline;vertical-align:middle;\" /></a></td></tr>\n",
       "<tr><td>20</td><td>ExprTuple</td><td>43, 23, 24, 22</td><td><a class=\"ProveItLink\" href=\"../643dd5fb73aa687ccbb7b8fe0b16b7d20166b9600/expr.ipynb\"><img src=\"../643dd5fb73aa687ccbb7b8fe0b16b7d20166b9600/expr.png\" style=\"display:inline;vertical-align:middle;\" /></a></td></tr>\n",
       "<tr><td>21</td><td>ExprTuple</td><td>43, 23, 24, 25</td><td><a class=\"ProveItLink\" href=\"../e976fcb7d8738bbcc0b94a0e033927b2c39f7e290/expr.ipynb\"><img src=\"../e976fcb7d8738bbcc0b94a0e033927b2c39f7e290/expr.png\" style=\"display:inline;vertical-align:middle;\" /></a></td></tr>\n",
       "<tr><td>22</td><td>Operation</td><td>operator:&nbsp;27<br>operands:&nbsp;26<br></td><td><a class=\"ProveItLink\" href=\"../07001095b1562b391d9c15b0e12c6ae911c99b430/expr.ipynb\"><img src=\"../07001095b1562b391d9c15b0e12c6ae911c99b430/expr.png\" style=\"display:inline;vertical-align:middle;\" /></a></td></tr>\n",
       "<tr><td>23</td><td>Literal</td><td></td><td><a class=\"ProveItLink\" href=\"../../../../../number/sets/real/__pv_it/55b5998cc1eb0bfddda5f6659b80f98cb2e83cc10/expr.ipynb\"><img src=\"../../../../../number/sets/real/__pv_it/55b5998cc1eb0bfddda5f6659b80f98cb2e83cc10/expr.png\" style=\"display:inline;vertical-align:middle;\" /></a></td></tr>\n",
       "<tr><td>24</td><td>Literal</td><td></td><td><a class=\"ProveItLink\" href=\"../../../../../number/sets/complex/__pv_it/2eee945873616fb29c0de5c0ddf0e4fdff4b9b3b0/expr.ipynb\"><img src=\"../../../../../number/sets/complex/__pv_it/2eee945873616fb29c0de5c0ddf0e4fdff4b9b3b0/expr.png\" style=\"display:inline;vertical-align:middle;\" /></a></td></tr>\n",
       "<tr><td>25</td><td>Operation</td><td>operator:&nbsp;27<br>operands:&nbsp;28<br></td><td><a class=\"ProveItLink\" href=\"../00e2693e28c03439b6b1d5d38ae84621924e9d6f0/expr.ipynb\"><img src=\"../00e2693e28c03439b6b1d5d38ae84621924e9d6f0/expr.png\" style=\"display:inline;vertical-align:middle;\" /></a></td></tr>\n",
       "<tr><td>26</td><td>ExprTuple</td><td>29, 30</td><td><a class=\"ProveItLink\" href=\"../5c09e6eba73dcf46497bac52432b0699b60c9f300/expr.ipynb\"><img src=\"../5c09e6eba73dcf46497bac52432b0699b60c9f300/expr.png\" style=\"display:inline;vertical-align:middle;\" /></a></td></tr>\n",
       "<tr><td>27</td><td>Literal</td><td></td><td><a class=\"ProveItLink\" href=\"../../../../../number/addition/__pv_it/65ad7e8aee19b10110d590375ba95a879c4fb7ea0/expr.ipynb\"><img src=\"../../../../../number/addition/__pv_it/65ad7e8aee19b10110d590375ba95a879c4fb7ea0/expr.png\" style=\"display:inline;vertical-align:middle;\" /></a></td></tr>\n",
       "<tr><td>28</td><td>ExprTuple</td><td>36, 31</td><td><a class=\"ProveItLink\" href=\"../5a80982c6eae2324c070b980767d1a1acdfb27b80/expr.ipynb\"><img src=\"../5a80982c6eae2324c070b980767d1a1acdfb27b80/expr.png\" style=\"display:inline;vertical-align:middle;\" /></a></td></tr>\n",
       "<tr><td>29</td><td>Operation</td><td>operator:&nbsp;32<br>operands:&nbsp;33<br></td><td><a class=\"ProveItLink\" href=\"../fac80eec6d444d96b4c208466ff16fbe39c9b1610/expr.ipynb\"><img src=\"../fac80eec6d444d96b4c208466ff16fbe39c9b1610/expr.png\" style=\"display:inline;vertical-align:middle;\" /></a></td></tr>\n",
       "<tr><td>30</td><td>Operation</td><td>operator:&nbsp;34<br>operand:&nbsp;39<br></td><td><a class=\"ProveItLink\" href=\"../1da281fc5412f4ef62510e03eac77b92ec28f77a0/expr.ipynb\"><img src=\"../1da281fc5412f4ef62510e03eac77b92ec28f77a0/expr.png\" style=\"display:inline;vertical-align:middle;\" /></a></td></tr>\n",
       "<tr><td>31</td><td>Operation</td><td>operator:&nbsp;34<br>operand:&nbsp;35<br></td><td><a class=\"ProveItLink\" href=\"../e8f916372988be842d4b2f979590d8d6a66ce28c0/expr.ipynb\"><img src=\"../e8f916372988be842d4b2f979590d8d6a66ce28c0/expr.png\" style=\"display:inline;vertical-align:middle;\" /></a></td></tr>\n",
       "<tr><td>32</td><td>Literal</td><td></td><td><a class=\"ProveItLink\" href=\"../../../../../number/multiplication/__pv_it/f7a1ed7c35c8c884cf4c236d27cb79bf85638cad0/expr.ipynb\"><img src=\"../../../../../number/multiplication/__pv_it/f7a1ed7c35c8c884cf4c236d27cb79bf85638cad0/expr.png\" style=\"display:inline;vertical-align:middle;\" /></a></td></tr>\n",
       "<tr><td>33</td><td>ExprTuple</td><td>40, 36</td><td><a class=\"ProveItLink\" href=\"../ecee1d60413204898410937f2e9a0019a317fa490/expr.ipynb\"><img src=\"../ecee1d60413204898410937f2e9a0019a317fa490/expr.png\" style=\"display:inline;vertical-align:middle;\" /></a></td></tr>\n",
       "<tr><td>34</td><td>Literal</td><td></td><td><a class=\"ProveItLink\" href=\"../../../../../number/negation/__pv_it/2867787e35502987d81a45cac8e7f1c6996d6ff40/expr.ipynb\"><img src=\"../../../../../number/negation/__pv_it/2867787e35502987d81a45cac8e7f1c6996d6ff40/expr.png\" style=\"display:inline;vertical-align:middle;\" /></a></td></tr>\n",
       "<tr><td>35</td><td>Operation</td><td>operator:&nbsp;37<br>operands:&nbsp;38<br></td><td><a class=\"ProveItLink\" href=\"../85c7624598739304a5cbd08845d9ae800200a6fa0/expr.ipynb\"><img src=\"../85c7624598739304a5cbd08845d9ae800200a6fa0/expr.png\" style=\"display:inline;vertical-align:middle;\" /></a></td></tr>\n",
       "<tr><td>36</td><td>Literal</td><td></td><td><a class=\"ProveItLink\" href=\"../7b94d0b5a6203ca5ebef473f179513660f922b3d0/expr.ipynb\"><img src=\"../7b94d0b5a6203ca5ebef473f179513660f922b3d0/expr.png\" style=\"display:inline;vertical-align:middle;\" /></a></td></tr>\n",
       "<tr><td>37</td><td>Literal</td><td></td><td><a class=\"ProveItLink\" href=\"../../../../../number/division/__pv_it/7a11ad25d6e61156459ac6819a1cec8fded2dde30/expr.ipynb\"><img src=\"../../../../../number/division/__pv_it/7a11ad25d6e61156459ac6819a1cec8fded2dde30/expr.png\" style=\"display:inline;vertical-align:middle;\" /></a></td></tr>\n",
       "<tr><td>38</td><td>ExprTuple</td><td>39, 40</td><td><a class=\"ProveItLink\" href=\"../6dab4435e84be7b5e380c1bc71fde4ed22d05fbe0/expr.ipynb\"><img src=\"../6dab4435e84be7b5e380c1bc71fde4ed22d05fbe0/expr.png\" style=\"display:inline;vertical-align:middle;\" /></a></td></tr>\n",
       "<tr><td>39</td><td>Variable</td><td></td><td><a class=\"ProveItLink\" href=\"../../../../../__pv_it/146a2ac733407ae00030c58af25a3e0f465a566a0/expr.ipynb\"><img src=\"../../../../../__pv_it/146a2ac733407ae00030c58af25a3e0f465a566a0/expr.png\" style=\"display:inline;vertical-align:middle;\" /></a></td></tr>\n",
       "<tr><td>40</td><td>Operation</td><td>operator:&nbsp;41<br>operands:&nbsp;42<br></td><td><a class=\"ProveItLink\" href=\"../64a58e3f39a33f21e5e35d3f8a5b3f786c42467c0/expr.ipynb\"><img src=\"../64a58e3f39a33f21e5e35d3f8a5b3f786c42467c0/expr.png\" style=\"display:inline;vertical-align:middle;\" /></a></td></tr>\n",
       "<tr><td>41</td><td>Literal</td><td></td><td><a class=\"ProveItLink\" href=\"../../../../../number/exponentiation/__pv_it/fca8e4218e687a7bc372d4b4009101e95bae518f0/expr.ipynb\"><img src=\"../../../../../number/exponentiation/__pv_it/fca8e4218e687a7bc372d4b4009101e95bae518f0/expr.png\" style=\"display:inline;vertical-align:middle;\" /></a></td></tr>\n",
       "<tr><td>42</td><td>ExprTuple</td><td>43, 44</td><td><a class=\"ProveItLink\" href=\"../9d0bc158759d7456120c36cdb596192fce0182ba0/expr.ipynb\"><img src=\"../9d0bc158759d7456120c36cdb596192fce0182ba0/expr.png\" style=\"display:inline;vertical-align:middle;\" /></a></td></tr>\n",
       "<tr><td>43</td><td>Literal</td><td></td><td><a class=\"ProveItLink\" href=\"../../../../../number/numeral/__pv_it/fb4ccffdbfd0f653ebaacb95e7ff4802fd48a6f20/expr.ipynb\"><img src=\"../../../../../number/numeral/__pv_it/fb4ccffdbfd0f653ebaacb95e7ff4802fd48a6f20/expr.png\" style=\"display:inline;vertical-align:middle;\" /></a></td></tr>\n",
       "<tr><td>44</td><td>Literal</td><td></td><td><a class=\"ProveItLink\" href=\"../96bcbff08fa521257bc78a97fedf1068dcbd0e2d0/expr.ipynb\"><img src=\"../96bcbff08fa521257bc78a97fedf1068dcbd0e2d0/expr.png\" style=\"display:inline;vertical-align:middle;\" /></a></td></tr>\n",
       "</table>\n"
      ],
      "text/plain": [
       "0. (1 / 2^{t}) * ((1 - e^{2 * pi * i * ((2^{t} * delta) - l)}) / (1 - e^{2 * pi * i * (delta - (l / 2^{t}))}))\n",
       "   core type: Operation\n",
       "   operator: 32\n",
       "   operands: 1\n",
       "1. (1 / 2^{t}, (1 - e^{2 * pi * i * ((2^{t} * delta) - l)}) / (1 - e^{2 * pi * i * (delta - (l / 2^{t}))}))\n",
       "   core type: ExprTuple\n",
       "   sub-expressions: 2, 3\n",
       "2. 1 / 2^{t}\n",
       "   core type: Operation\n",
       "   operator: 37\n",
       "   operands: 4\n",
       "3. (1 - e^{2 * pi * i * ((2^{t} * delta) - l)}) / (1 - e^{2 * pi * i * (delta - (l / 2^{t}))})\n",
       "   core type: Operation\n",
       "   operator: 37\n",
       "   operands: 5\n",
       "4. (1, 2^{t})\n",
       "   core type: ExprTuple\n",
       "   sub-expressions: 11, 40\n",
       "5. (1 - e^{2 * pi * i * ((2^{t} * delta) - l)}, 1 - e^{2 * pi * i * (delta - (l / 2^{t}))})\n",
       "   core type: ExprTuple\n",
       "   sub-expressions: 6, 7\n",
       "6. 1 - e^{2 * pi * i * ((2^{t} * delta) - l)}\n",
       "   core type: Operation\n",
       "   operator: 27\n",
       "   operands: 8\n",
       "7. 1 - e^{2 * pi * i * (delta - (l / 2^{t}))}\n",
       "   core type: Operation\n",
       "   operator: 27\n",
       "   operands: 9\n",
       "8. (1, -e^{2 * pi * i * ((2^{t} * delta) - l)})\n",
       "   core type: ExprTuple\n",
       "   sub-expressions: 11, 10\n",
       "9. (1, -e^{2 * pi * i * (delta - (l / 2^{t}))})\n",
       "   core type: ExprTuple\n",
       "   sub-expressions: 11, 12\n",
       "10. -e^{2 * pi * i * ((2^{t} * delta) - l)}\n",
       "    core type: Operation\n",
       "    operator: 34\n",
       "    operand: 13\n",
       "11. 1\n",
       "    core type: Literal\n",
       "    sub-expressions: \n",
       "12. -e^{2 * pi * i * (delta - (l / 2^{t}))}\n",
       "    core type: Operation\n",
       "    operator: 34\n",
       "    operand: 14\n",
       "13. e^{2 * pi * i * ((2^{t} * delta) - l)}\n",
       "    core type: Operation\n",
       "    operator: 41\n",
       "    operands: 15\n",
       "14. e^{2 * pi * i * (delta - (l / 2^{t}))}\n",
       "    core type: Operation\n",
       "    operator: 41\n",
       "    operands: 16\n",
       "15. (e, 2 * pi * i * ((2^{t} * delta) - l))\n",
       "    core type: ExprTuple\n",
       "    sub-expressions: 18, 17\n",
       "16. (e, 2 * pi * i * (delta - (l / 2^{t})))\n",
       "    core type: ExprTuple\n",
       "    sub-expressions: 18, 19\n",
       "17. 2 * pi * i * ((2^{t} * delta) - l)\n",
       "    core type: Operation\n",
       "    operator: 32\n",
       "    operands: 20\n",
       "18. e\n",
       "    core type: Literal\n",
       "    sub-expressions: \n",
       "19. 2 * pi * i * (delta - (l / 2^{t}))\n",
       "    core type: Operation\n",
       "    operator: 32\n",
       "    operands: 21\n",
       "20. (2, pi, i, (2^{t} * delta) - l)\n",
       "    core type: ExprTuple\n",
       "    sub-expressions: 43, 23, 24, 22\n",
       "21. (2, pi, i, delta - (l / 2^{t}))\n",
       "    core type: ExprTuple\n",
       "    sub-expressions: 43, 23, 24, 25\n",
       "22. (2^{t} * delta) - l\n",
       "    core type: Operation\n",
       "    operator: 27\n",
       "    operands: 26\n",
       "23. pi\n",
       "    core type: Literal\n",
       "    sub-expressions: \n",
       "24. i\n",
       "    core type: Literal\n",
       "    sub-expressions: \n",
       "25. delta - (l / 2^{t})\n",
       "    core type: Operation\n",
       "    operator: 27\n",
       "    operands: 28\n",
       "26. (2^{t} * delta, -l)\n",
       "    core type: ExprTuple\n",
       "    sub-expressions: 29, 30\n",
       "27. +\n",
       "    core type: Literal\n",
       "    sub-expressions: \n",
       "28. (delta, -(l / 2^{t}))\n",
       "    core type: ExprTuple\n",
       "    sub-expressions: 36, 31\n",
       "29. 2^{t} * delta\n",
       "    core type: Operation\n",
       "    operator: 32\n",
       "    operands: 33\n",
       "30. -l\n",
       "    core type: Operation\n",
       "    operator: 34\n",
       "    operand: 39\n",
       "31. -(l / 2^{t})\n",
       "    core type: Operation\n",
       "    operator: 34\n",
       "    operand: 35\n",
       "32. *\n",
       "    core type: Literal\n",
       "    sub-expressions: \n",
       "33. (2^{t}, delta)\n",
       "    core type: ExprTuple\n",
       "    sub-expressions: 40, 36\n",
       "34. -\n",
       "    core type: Literal\n",
       "    sub-expressions: \n",
       "35. l / 2^{t}\n",
       "    core type: Operation\n",
       "    operator: 37\n",
       "    operands: 38\n",
       "36. delta\n",
       "    core type: Literal\n",
       "    sub-expressions: \n",
       "37. /\n",
       "    core type: Literal\n",
       "    sub-expressions: \n",
       "38. (l, 2^{t})\n",
       "    core type: ExprTuple\n",
       "    sub-expressions: 39, 40\n",
       "39. l\n",
       "    core type: Variable\n",
       "    sub-expressions: \n",
       "40. 2^{t}\n",
       "    core type: Operation\n",
       "    operator: 41\n",
       "    operands: 42\n",
       "41. Exp\n",
       "    core type: Literal\n",
       "    sub-expressions: \n",
       "42. (2, t)\n",
       "    core type: ExprTuple\n",
       "    sub-expressions: 43, 44\n",
       "43. 2\n",
       "    core type: Literal\n",
       "    sub-expressions: \n",
       "44. t\n",
       "    core type: Literal\n",
       "    sub-expressions: "
      ]
     },
     "execution_count": 5,
     "metadata": {},
     "output_type": "execute_result"
    }
   ],
   "source": [
    "# display the expression information\n",
    "expr.exprInfo()"
   ]
  },
  {
   "cell_type": "code",
   "execution_count": null,
   "metadata": {},
   "outputs": [],
   "source": []
  }
 ],
 "metadata": {
  "kernelspec": {
   "display_name": "Python 3",
   "language": "python",
   "name": "python3"
  },
  "language_info": {
   "codemirror_mode": {
    "name": "ipython",
    "version": 3
   },
   "file_extension": ".py",
   "mimetype": "text/x-python",
   "name": "python",
   "nbconvert_exporter": "python",
   "pygments_lexer": "ipython3",
   "version": "3.7.3"
  }
 },
 "nbformat": 4,
 "nbformat_minor": 1
}
