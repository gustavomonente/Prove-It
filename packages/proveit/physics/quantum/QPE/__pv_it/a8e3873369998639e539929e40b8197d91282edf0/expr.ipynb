{
 "cells": [
  {
   "cell_type": "markdown",
   "metadata": {},
   "source": [
    "Axiom <a class=\"ProveItLink\" href=\"../../_axioms_.ipynb#failDef\">failDef</a> of type <a class=\"ProveItLink\" href=\"../../../../../../../doc/html/api/proveit.logic.Forall.html\">Forall</a>\n",
    "=======================\n",
    "# from context <a class=\"ProveItLink\" href=\"../../_context_.ipynb\">proveit.physics.quantum.QPE</a>\n",
    "*** see <a class=\"ProveItLink\" href=\"dependencies.ipynb\">dependencies</a> ***"
   ]
  },
  {
   "cell_type": "code",
   "execution_count": 1,
   "metadata": {},
   "outputs": [],
   "source": [
    "import proveit\n",
    "# Automation is not needed when only building an expression:\n",
    "proveit.defaults.automation = False # This will speed things up.\n",
    "proveit.defaults.inline_pngs = False # Makes files smaller.\n",
    "# import the special expression\n",
    "from proveit.physics.quantum.QPE._axioms_ import failDef"
   ]
  },
  {
   "cell_type": "code",
   "execution_count": 2,
   "metadata": {},
   "outputs": [
    {
     "name": "stdout",
     "output_type": "stream",
     "text": [
      "Passed sanity check: built 'failDef' is the same as the stored Expression.\n"
     ]
    }
   ],
   "source": [
    "# check that the built expression is the same as the stored expression\n",
    "%check_expr failDef"
   ]
  },
  {
   "cell_type": "code",
   "execution_count": 3,
   "metadata": {},
   "outputs": [
    {
     "name": "stdout",
     "output_type": "stream",
     "text": [
      "\\vdash \\forall_{\\varepsilon \\in \\mathbb{N}^+}~\\left(\\left[P_{\\rm fail}\\right]\\left(\\varepsilon\\right) = \\left(1 - \\left[P_{\\rm success}\\right]\\left(\\varepsilon\\right)\\right)\\right)\n"
     ]
    }
   ],
   "source": [
    "# Show the LaTeX representation of the expression for convenience if you need it.\n",
    "print(failDef.latex())"
   ]
  },
  {
   "cell_type": "code",
   "execution_count": 4,
   "metadata": {},
   "outputs": [
    {
     "data": {
      "text/html": [
       "<table><tr><th>&nbsp;</th><th>core type</th><th>sub-expressions</th><th>expression</th></tr>\n",
       "<tr><td>0</td><td>Operation</td><td>operator:&nbsp;1<br>operand:&nbsp;2<br></td><td><a class=\"ProveItLink\" href=\"expr.ipynb\"><img src=\"expr.png\" style=\"display:inline;vertical-align:middle;\" /></a></td></tr>\n",
       "<tr><td>1</td><td>Literal</td><td></td><td><a class=\"ProveItLink\" href=\"../../../../../logic/boolean/quantification/universal/__pv_it/fd9c772d6675566ed52a6897806f45eb08a4ea910/expr.ipynb\"><img src=\"../../../../../logic/boolean/quantification/universal/__pv_it/fd9c772d6675566ed52a6897806f45eb08a4ea910/expr.png\" style=\"display:inline;vertical-align:middle;\" /></a></td></tr>\n",
       "<tr><td>2</td><td>Lambda</td><td>parameter:&nbsp;21<br>body:&nbsp;3<br></td><td><a class=\"ProveItLink\" href=\"../1d7ce3e44e4c832185a253b618f5cf7caf0be4ed0/expr.ipynb\"><img src=\"../1d7ce3e44e4c832185a253b618f5cf7caf0be4ed0/expr.png\" style=\"display:inline;vertical-align:middle;\" /></a></td></tr>\n",
       "<tr><td>3</td><td>Conditional</td><td>value:&nbsp;4<br>condition:&nbsp;5<br></td><td><a class=\"ProveItLink\" href=\"../de7da7f02370a6f9ca069bc2f96edb7c47dc92640/expr.ipynb\"><img src=\"../de7da7f02370a6f9ca069bc2f96edb7c47dc92640/expr.png\" style=\"display:inline;vertical-align:middle;\" /></a></td></tr>\n",
       "<tr><td>4</td><td>Operation</td><td>operator:&nbsp;6<br>operands:&nbsp;7<br></td><td><a class=\"ProveItLink\" href=\"../7f27a48cab376aa79267016d7ad63660b7035b670/expr.ipynb\"><img src=\"../7f27a48cab376aa79267016d7ad63660b7035b670/expr.png\" style=\"display:inline;vertical-align:middle;\" /></a></td></tr>\n",
       "<tr><td>5</td><td>Operation</td><td>operator:&nbsp;8<br>operands:&nbsp;9<br></td><td><a class=\"ProveItLink\" href=\"../43cc16dd49781000cb1d3d637bc6312fda8579000/expr.ipynb\"><img src=\"../43cc16dd49781000cb1d3d637bc6312fda8579000/expr.png\" style=\"display:inline;vertical-align:middle;\" /></a></td></tr>\n",
       "<tr><td>6</td><td>Literal</td><td></td><td><a class=\"ProveItLink\" href=\"../../../../../logic/equality/__pv_it/e16d2caa26a16688b658bdb9c422caf4b84579e10/expr.ipynb\"><img src=\"../../../../../logic/equality/__pv_it/e16d2caa26a16688b658bdb9c422caf4b84579e10/expr.png\" style=\"display:inline;vertical-align:middle;\" /></a></td></tr>\n",
       "<tr><td>7</td><td>ExprTuple</td><td>10, 11</td><td><a class=\"ProveItLink\" href=\"../9b912505e12a2499b3f336685f36a673bb0486ec0/expr.ipynb\"><img src=\"../9b912505e12a2499b3f336685f36a673bb0486ec0/expr.png\" style=\"display:inline;vertical-align:middle;\" /></a></td></tr>\n",
       "<tr><td>8</td><td>Literal</td><td></td><td><a class=\"ProveItLink\" href=\"../../../../../logic/set_theory/membership/__pv_it/7776fc89cb67d0b5b1ec2c0c8e08da5587921ccf0/expr.ipynb\"><img src=\"../../../../../logic/set_theory/membership/__pv_it/7776fc89cb67d0b5b1ec2c0c8e08da5587921ccf0/expr.png\" style=\"display:inline;vertical-align:middle;\" /></a></td></tr>\n",
       "<tr><td>9</td><td>ExprTuple</td><td>21, 12</td><td><a class=\"ProveItLink\" href=\"../a78ff2228d3d7466826f519ae6022ee576d71d900/expr.ipynb\"><img src=\"../a78ff2228d3d7466826f519ae6022ee576d71d900/expr.png\" style=\"display:inline;vertical-align:middle;\" /></a></td></tr>\n",
       "<tr><td>10</td><td>Operation</td><td>operator:&nbsp;13<br>operand:&nbsp;21<br></td><td><a class=\"ProveItLink\" href=\"../82d1f2447cdd544c160aeebe9d174bfb6837a0ac0/expr.ipynb\"><img src=\"../82d1f2447cdd544c160aeebe9d174bfb6837a0ac0/expr.png\" style=\"display:inline;vertical-align:middle;\" /></a></td></tr>\n",
       "<tr><td>11</td><td>Operation</td><td>operator:&nbsp;14<br>operands:&nbsp;15<br></td><td><a class=\"ProveItLink\" href=\"../a8cdbe4b9578ee1ea54f8e88ec5a7ca147ae5ba70/expr.ipynb\"><img src=\"../a8cdbe4b9578ee1ea54f8e88ec5a7ca147ae5ba70/expr.png\" style=\"display:inline;vertical-align:middle;\" /></a></td></tr>\n",
       "<tr><td>12</td><td>Literal</td><td></td><td><a class=\"ProveItLink\" href=\"../../../../../number/sets/integer/__pv_it/f6a9f4b6dec6ab4d2dcb6ba1b0ba3cceefc643530/expr.ipynb\"><img src=\"../../../../../number/sets/integer/__pv_it/f6a9f4b6dec6ab4d2dcb6ba1b0ba3cceefc643530/expr.png\" style=\"display:inline;vertical-align:middle;\" /></a></td></tr>\n",
       "<tr><td>13</td><td>Literal</td><td></td><td><a class=\"ProveItLink\" href=\"../04470383214b11c684279e24003e70f34ba0038f0/expr.ipynb\"><img src=\"../04470383214b11c684279e24003e70f34ba0038f0/expr.png\" style=\"display:inline;vertical-align:middle;\" /></a></td></tr>\n",
       "<tr><td>14</td><td>Literal</td><td></td><td><a class=\"ProveItLink\" href=\"../../../../../number/addition/__pv_it/65ad7e8aee19b10110d590375ba95a879c4fb7ea0/expr.ipynb\"><img src=\"../../../../../number/addition/__pv_it/65ad7e8aee19b10110d590375ba95a879c4fb7ea0/expr.png\" style=\"display:inline;vertical-align:middle;\" /></a></td></tr>\n",
       "<tr><td>15</td><td>ExprTuple</td><td>16, 17</td><td><a class=\"ProveItLink\" href=\"../d6085ee9db32addb113569a5d7d1eff3cbb7bd480/expr.ipynb\"><img src=\"../d6085ee9db32addb113569a5d7d1eff3cbb7bd480/expr.png\" style=\"display:inline;vertical-align:middle;\" /></a></td></tr>\n",
       "<tr><td>16</td><td>Literal</td><td></td><td><a class=\"ProveItLink\" href=\"../../../../../number/numeral/__pv_it/f086f8c372bd40a2458306ddfdbb29f3dc6f63030/expr.ipynb\"><img src=\"../../../../../number/numeral/__pv_it/f086f8c372bd40a2458306ddfdbb29f3dc6f63030/expr.png\" style=\"display:inline;vertical-align:middle;\" /></a></td></tr>\n",
       "<tr><td>17</td><td>Operation</td><td>operator:&nbsp;18<br>operand:&nbsp;19<br></td><td><a class=\"ProveItLink\" href=\"../7224587fed0a8549c9ecf4dfa1c50d3948abd4750/expr.ipynb\"><img src=\"../7224587fed0a8549c9ecf4dfa1c50d3948abd4750/expr.png\" style=\"display:inline;vertical-align:middle;\" /></a></td></tr>\n",
       "<tr><td>18</td><td>Literal</td><td></td><td><a class=\"ProveItLink\" href=\"../../../../../number/negation/__pv_it/2867787e35502987d81a45cac8e7f1c6996d6ff40/expr.ipynb\"><img src=\"../../../../../number/negation/__pv_it/2867787e35502987d81a45cac8e7f1c6996d6ff40/expr.png\" style=\"display:inline;vertical-align:middle;\" /></a></td></tr>\n",
       "<tr><td>19</td><td>Operation</td><td>operator:&nbsp;20<br>operand:&nbsp;21<br></td><td><a class=\"ProveItLink\" href=\"../dfa302b38677234804c222e139014284484caecd0/expr.ipynb\"><img src=\"../dfa302b38677234804c222e139014284484caecd0/expr.png\" style=\"display:inline;vertical-align:middle;\" /></a></td></tr>\n",
       "<tr><td>20</td><td>Literal</td><td></td><td><a class=\"ProveItLink\" href=\"../886cbd97584bb4d1b8479715484957ae0ccddc510/expr.ipynb\"><img src=\"../886cbd97584bb4d1b8479715484957ae0ccddc510/expr.png\" style=\"display:inline;vertical-align:middle;\" /></a></td></tr>\n",
       "<tr><td>21</td><td>Variable</td><td></td><td><a class=\"ProveItLink\" href=\"../../../../../__pv_it/a07b94578bb51fd99b91f6ecc814e1e1925ccfd30/expr.ipynb\"><img src=\"../../../../../__pv_it/a07b94578bb51fd99b91f6ecc814e1e1925ccfd30/expr.png\" style=\"display:inline;vertical-align:middle;\" /></a></td></tr>\n",
       "</table>\n"
      ],
      "text/plain": [
       "0. forall_{eps in NaturalsPos} ([Pfail](eps) = (1 - [Psuccess](eps)))\n",
       "   core type: Operation\n",
       "   operator: 1\n",
       "   operand: 2\n",
       "1. forall\n",
       "   core type: Literal\n",
       "   sub-expressions: \n",
       "2. eps -> {[Pfail](eps) = (1 - [Psuccess](eps)) if eps in NaturalsPos.\n",
       "   core type: Lambda\n",
       "   parameter: 21\n",
       "   body: 3\n",
       "3. {[Pfail](eps) = (1 - [Psuccess](eps)) if eps in NaturalsPos.\n",
       "   core type: Conditional\n",
       "   value: 4\n",
       "   condition: 5\n",
       "4. [Pfail](eps) = (1 - [Psuccess](eps))\n",
       "   core type: Operation\n",
       "   operator: 6\n",
       "   operands: 7\n",
       "5. eps in NaturalsPos\n",
       "   core type: Operation\n",
       "   operator: 8\n",
       "   operands: 9\n",
       "6. =\n",
       "   core type: Literal\n",
       "   sub-expressions: \n",
       "7. ([Pfail](eps), 1 - [Psuccess](eps))\n",
       "   core type: ExprTuple\n",
       "   sub-expressions: 10, 11\n",
       "8. in\n",
       "   core type: Literal\n",
       "   sub-expressions: \n",
       "9. (eps, NaturalsPos)\n",
       "   core type: ExprTuple\n",
       "   sub-expressions: 21, 12\n",
       "10. [Pfail](eps)\n",
       "    core type: Operation\n",
       "    operator: 13\n",
       "    operand: 21\n",
       "11. 1 - [Psuccess](eps)\n",
       "    core type: Operation\n",
       "    operator: 14\n",
       "    operands: 15\n",
       "12. NaturalsPos\n",
       "    core type: Literal\n",
       "    sub-expressions: \n",
       "13. Pfail\n",
       "    core type: Literal\n",
       "    sub-expressions: \n",
       "14. +\n",
       "    core type: Literal\n",
       "    sub-expressions: \n",
       "15. (1, -[Psuccess](eps))\n",
       "    core type: ExprTuple\n",
       "    sub-expressions: 16, 17\n",
       "16. 1\n",
       "    core type: Literal\n",
       "    sub-expressions: \n",
       "17. -[Psuccess](eps)\n",
       "    core type: Operation\n",
       "    operator: 18\n",
       "    operand: 19\n",
       "18. -\n",
       "    core type: Literal\n",
       "    sub-expressions: \n",
       "19. [Psuccess](eps)\n",
       "    core type: Operation\n",
       "    operator: 20\n",
       "    operand: 21\n",
       "20. Psuccess\n",
       "    core type: Literal\n",
       "    sub-expressions: \n",
       "21. eps\n",
       "    core type: Variable\n",
       "    sub-expressions: "
      ]
     },
     "execution_count": 4,
     "metadata": {},
     "output_type": "execute_result"
    }
   ],
   "source": [
    "# display the expression information\n",
    "failDef.exprInfo()"
   ]
  },
  {
   "cell_type": "code",
   "execution_count": null,
   "metadata": {},
   "outputs": [],
   "source": []
  }
 ],
 "metadata": {
  "kernelspec": {
   "display_name": "Python 3",
   "language": "python",
   "name": "python3"
  },
  "language_info": {
   "codemirror_mode": {
    "name": "ipython",
    "version": 3
   },
   "file_extension": ".py",
   "mimetype": "text/x-python",
   "name": "python",
   "nbconvert_exporter": "python",
   "pygments_lexer": "ipython3",
   "version": "3.7.3"
  }
 },
 "nbformat": 4,
 "nbformat_minor": 1
}
