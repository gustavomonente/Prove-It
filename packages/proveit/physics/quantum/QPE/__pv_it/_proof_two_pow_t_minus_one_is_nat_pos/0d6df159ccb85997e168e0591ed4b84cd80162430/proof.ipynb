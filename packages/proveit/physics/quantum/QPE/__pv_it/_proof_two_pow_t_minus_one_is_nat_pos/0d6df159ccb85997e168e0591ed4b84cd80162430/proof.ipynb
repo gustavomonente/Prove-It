{
 "cells": [
  {
   "cell_type": "markdown",
   "metadata": {},
   "source": [
    "Show the Proof\n",
    "========"
   ]
  },
  {
   "cell_type": "code",
   "execution_count": 1,
   "metadata": {},
   "outputs": [
    {
     "data": {
      "text/html": [
       "<table><tr><th>&nbsp;</th><th>step type</th><th>requirements</th><th>statement</th></tr>\n",
       "<tr><td><a name=\"proveit.physics.quantum.QPE._proof_two_pow_t_minus_one_is_nat_pos.0d6df159ccb85997e168e0591ed4b84cd80162430_step0\">0</a></td><td>instantiation</td><td><a href=\"#proveit.physics.quantum.QPE._proof_two_pow_t_minus_one_is_nat_pos.0d6df159ccb85997e168e0591ed4b84cd80162430_step1\">1</a>, <a href=\"#proveit.physics.quantum.QPE._proof_two_pow_t_minus_one_is_nat_pos.0d6df159ccb85997e168e0591ed4b84cd80162430_step2\">2</a></td><td><span style=\"font-size:20px;\"> <a class=\"ProveItLink\" href=\"proof.ipynb\" style=\"text-decoration: none\">&nbsp;&#x22A2;&nbsp;&nbsp;</a><a class=\"ProveItLink\" href=\"../a8dd0a94027333b155870b0d6bd4b59319a44e240/expr.ipynb\"><img src=\"../a8dd0a94027333b155870b0d6bd4b59319a44e240/expr.png\" style=\"display:inline;vertical-align:middle;\" /></a></span></td></tr>\n",
       "<tr><td>&nbsp;</td><td colspan=4 style=\"text-align:left\"><span style=\"font-size:20px;\"><a class=\"ProveItLink\" href=\"../../../../../../__pv_it/common/6165c9bb82ce3c7097cdba4440a1aeeb6eaca8a40/expr.ipynb\"><img src=\"../../../../../../__pv_it/common/6165c9bb82ce3c7097cdba4440a1aeeb6eaca8a40/expr.png\" style=\"display:inline;vertical-align:middle;\" /></a> : <a class=\"ProveItLink\" href=\"../../common/39c1d684e38b5dd4cd200cf6f134282993af2c0b0/expr.ipynb\"><img src=\"../../common/39c1d684e38b5dd4cd200cf6f134282993af2c0b0/expr.png\" style=\"display:inline;vertical-align:middle;\" /></a></span></td></tr><tr><td><a name=\"proveit.physics.quantum.QPE._proof_two_pow_t_minus_one_is_nat_pos.0d6df159ccb85997e168e0591ed4b84cd80162430_step1\">1</a></td><td>theorem</td><td></td><td><span style=\"font-size:20px;\"> <a class=\"ProveItLink\" href=\"../../../../../../numbers/number_sets/natural_numbers/_theory_nbs_/proofs/natural_pos_lower_bound/thm_proof.ipynb\" style=\"text-decoration: none\">&nbsp;&#x22A2;&nbsp;&nbsp;</a><a class=\"ProveItLink\" href=\"../../../../../../numbers/number_sets/natural_numbers/__pv_it/theorems/8e7f99c139c9e11ee9aaa50a14da9b46d27e39b60/expr.ipynb\"><img src=\"../../../../../../numbers/number_sets/natural_numbers/__pv_it/theorems/8e7f99c139c9e11ee9aaa50a14da9b46d27e39b60/expr.png\" style=\"display:inline;vertical-align:middle;\" /></a></span></td></tr>\n",
       "<tr><td>&nbsp;</td><td colspan=4 style-\"text-align:left\"><a class=\"ProveItLink\" href=\"../../../../../../numbers/number_sets/natural_numbers/_theory_nbs_/proofs/natural_pos_lower_bound/thm_proof.ipynb\">proveit.numbers.number_sets.natural_numbers.natural_pos_lower_bound</a></td></tr><tr><td><a name=\"proveit.physics.quantum.QPE._proof_two_pow_t_minus_one_is_nat_pos.0d6df159ccb85997e168e0591ed4b84cd80162430_step2\">2</a></td><td>axiom</td><td></td><td><span style=\"font-size:20px;\"> <a class=\"ProveItLink\" href=\"../../../_theory_nbs_/axioms.ipynb#t_in_natural_pos\" style=\"text-decoration: none\">&nbsp;&#x22A2;&nbsp;&nbsp;</a><a class=\"ProveItLink\" href=\"../../axioms/1a13c30d572c85563c805c8bd9d78589517d2c170/expr.ipynb\"><img src=\"../../axioms/1a13c30d572c85563c805c8bd9d78589517d2c170/expr.png\" style=\"display:inline;vertical-align:middle;\" /></a></span></td></tr>\n",
       "<tr><td>&nbsp;</td><td colspan=4 style-\"text-align:left\"><a class=\"ProveItLink\" href=\"../../../_theory_nbs_/axioms.ipynb#t_in_natural_pos\">proveit.physics.quantum.QPE.t_in_natural_pos</a></td></tr></table>"
      ],
      "text/plain": [
       "<proveit._core_.proof._ShowProof at 0x7f9ef863c898>"
      ]
     },
     "execution_count": 1,
     "metadata": {},
     "output_type": "execute_result"
    }
   ],
   "source": [
    "import proveit\n",
    "# Automation is not needed when only showing a stored proof:\n",
    "proveit.defaults.automation = False # This will speed things up.\n",
    "proveit.defaults.inline_pngs = False # Makes files smaller.\n",
    "%show_proof"
   ]
  },
  {
   "cell_type": "code",
   "execution_count": null,
   "metadata": {},
   "outputs": [],
   "source": []
  }
 ],
 "metadata": {
  "kernelspec": {
   "display_name": "Python 3",
   "language": "python",
   "name": "python3"
  },
  "language_info": {
   "codemirror_mode": {
    "name": "ipython",
    "version": 3
   },
   "file_extension": ".py",
   "mimetype": "text/x-python",
   "name": "python",
   "nbconvert_exporter": "python",
   "pygments_lexer": "ipython3",
   "version": "3.7.3"
  }
 },
 "nbformat": 4,
 "nbformat_minor": 1
}