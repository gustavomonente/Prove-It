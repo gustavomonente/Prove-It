{
 "cells": [
  {
   "cell_type": "markdown",
   "metadata": {},
   "source": [
    "Expression of type <a class=\"ProveItLink\" href=\"../../../../../../../doc/html/api/proveit.linalg.MatrixProd.html\">MatrixProd</a>\n",
    "=======================\n",
    "# from context <a class=\"ProveItLink\" href=\"../../_context_.ipynb\">proveit.physics.quantum.QPE</a>"
   ]
  },
  {
   "cell_type": "code",
   "execution_count": 1,
   "metadata": {},
   "outputs": [],
   "source": [
    "import proveit\n",
    "# Automation is not needed when building an expression:\n",
    "proveit.defaults.automation = False # This will speed things up.\n",
    "proveit.defaults.inline_pngs = False # Makes files smaller.\n",
    "# import Expression classes needed to build the expression\n",
    "from proveit import Literal\n",
    "from proveit._common_ import l\n",
    "from proveit.linalg import MatrixProd\n",
    "from proveit.physics.quantum import Ket, RegisterBra\n",
    "from proveit.physics.quantum.QPE import ModAdd"
   ]
  },
  {
   "cell_type": "code",
   "execution_count": 2,
   "metadata": {},
   "outputs": [
    {
     "data": {
      "text/html": [
       "<strong id=\"expr\">expr:</strong> <a class=\"ProveItLink\" href=\"expr.ipynb\"><img src=\"expr.png\" style=\"display:inline;vertical-align:middle;\" /></a><br>"
      ],
      "text/plain": [
       "expr: {t}_〈b MOD_ADD l| . |Psi〉"
      ]
     },
     "execution_count": 2,
     "metadata": {},
     "output_type": "execute_result"
    }
   ],
   "source": [
    "# build up the expression from sub-expressions\n",
    "expr = MatrixProd(RegisterBra(ModAdd(Literal(\"b\", context = \"proveit.physics.quantum.QPE\"), l), Literal(\"t\", context = \"proveit.physics.quantum.QPE\")), Ket(Literal(\"Psi\", latexFormat = r\"\\Psi\", context = \"proveit.physics.quantum.QPE\")))"
   ]
  },
  {
   "cell_type": "code",
   "execution_count": 3,
   "metadata": {},
   "outputs": [
    {
     "name": "stdout",
     "output_type": "stream",
     "text": [
      "Passed sanity check: built 'expr' is the same as the stored Expression.\n"
     ]
    }
   ],
   "source": [
    "# check that the built expression is the same as the stored expression\n",
    "%check_expr"
   ]
  },
  {
   "cell_type": "code",
   "execution_count": 4,
   "metadata": {},
   "outputs": [
    {
     "name": "stdout",
     "output_type": "stream",
     "text": [
      "{_{t}}\\langle b \\oplus l \\rvert \\thinspace \\lvert \\Psi \\rangle\n"
     ]
    }
   ],
   "source": [
    "# Show the LaTeX representation of the expression for convenience if you need it.\n",
    "print(expr.latex())"
   ]
  },
  {
   "cell_type": "code",
   "execution_count": 5,
   "metadata": {},
   "outputs": [
    {
     "data": {
      "text/html": [
       "<table><tr><th>&nbsp;</th><th>core type</th><th>sub-expressions</th><th>expression</th></tr>\n",
       "<tr><td>0</td><td>Operation</td><td>operator:&nbsp;1<br>operands:&nbsp;2<br></td><td><a class=\"ProveItLink\" href=\"expr.ipynb\"><img src=\"expr.png\" style=\"display:inline;vertical-align:middle;\" /></a></td></tr>\n",
       "<tr><td>1</td><td>Literal</td><td></td><td><a class=\"ProveItLink\" href=\"../../../../../linalg/__pv_it/d1db02c5be16952dc958ba9d03a61120dae3abaf0/expr.ipynb\"><img src=\"../../../../../linalg/__pv_it/d1db02c5be16952dc958ba9d03a61120dae3abaf0/expr.png\" style=\"display:inline;vertical-align:middle;\" /></a></td></tr>\n",
       "<tr><td>2</td><td>ExprTuple</td><td>3, 4</td><td><a class=\"ProveItLink\" href=\"../a70b598182e4aee3b3a2ab3aa38bc4616b960bcc0/expr.ipynb\"><img src=\"../a70b598182e4aee3b3a2ab3aa38bc4616b960bcc0/expr.png\" style=\"display:inline;vertical-align:middle;\" /></a></td></tr>\n",
       "<tr><td>3</td><td>Operation</td><td>operator:&nbsp;5<br>operands:&nbsp;6<br></td><td><a class=\"ProveItLink\" href=\"../fd422ffeb676abf87336bf0d8c5976c97edadfdb0/expr.ipynb\"><img src=\"../fd422ffeb676abf87336bf0d8c5976c97edadfdb0/expr.png\" style=\"display:inline;vertical-align:middle;\" /></a></td></tr>\n",
       "<tr><td>4</td><td>Operation</td><td>operator:&nbsp;7<br>operand:&nbsp;8<br></td><td><a class=\"ProveItLink\" href=\"../d73ec8e8995a75d0f87afbc346f4f521f57113310/expr.ipynb\"><img src=\"../d73ec8e8995a75d0f87afbc346f4f521f57113310/expr.png\" style=\"display:inline;vertical-align:middle;\" /></a></td></tr>\n",
       "<tr><td>5</td><td>Literal</td><td></td><td><a class=\"ProveItLink\" href=\"../../../__pv_it/a1cb21884852377c89d5e943c2d36374d05265870/expr.ipynb\"><img src=\"../../../__pv_it/a1cb21884852377c89d5e943c2d36374d05265870/expr.png\" style=\"display:inline;vertical-align:middle;\" /></a></td></tr>\n",
       "<tr><td>6</td><td>ExprTuple</td><td>9, 10</td><td><a class=\"ProveItLink\" href=\"../19fc92d2334556744607e5c1eb0dc8e84617e2760/expr.ipynb\"><img src=\"../19fc92d2334556744607e5c1eb0dc8e84617e2760/expr.png\" style=\"display:inline;vertical-align:middle;\" /></a></td></tr>\n",
       "<tr><td>7</td><td>Literal</td><td></td><td><a class=\"ProveItLink\" href=\"../../../__pv_it/8aef81a4e336b372b4f04cd37a0a7ab8466ca20c0/expr.ipynb\"><img src=\"../../../__pv_it/8aef81a4e336b372b4f04cd37a0a7ab8466ca20c0/expr.png\" style=\"display:inline;vertical-align:middle;\" /></a></td></tr>\n",
       "<tr><td>8</td><td>Literal</td><td></td><td><a class=\"ProveItLink\" href=\"../17aac6efea534d3e001f12ad2d7dcb4750263c8c0/expr.ipynb\"><img src=\"../17aac6efea534d3e001f12ad2d7dcb4750263c8c0/expr.png\" style=\"display:inline;vertical-align:middle;\" /></a></td></tr>\n",
       "<tr><td>9</td><td>Operation</td><td>operator:&nbsp;11<br>operands:&nbsp;12<br></td><td><a class=\"ProveItLink\" href=\"../4bcd0233d3e654affa9c50cd0aa76c29b76a1c260/expr.ipynb\"><img src=\"../4bcd0233d3e654affa9c50cd0aa76c29b76a1c260/expr.png\" style=\"display:inline;vertical-align:middle;\" /></a></td></tr>\n",
       "<tr><td>10</td><td>Literal</td><td></td><td><a class=\"ProveItLink\" href=\"../96bcbff08fa521257bc78a97fedf1068dcbd0e2d0/expr.ipynb\"><img src=\"../96bcbff08fa521257bc78a97fedf1068dcbd0e2d0/expr.png\" style=\"display:inline;vertical-align:middle;\" /></a></td></tr>\n",
       "<tr><td>11</td><td>Literal</td><td></td><td><a class=\"ProveItLink\" href=\"../b41e4c06c72e23a6fc942ed38e78f285ec857cde0/expr.ipynb\"><img src=\"../b41e4c06c72e23a6fc942ed38e78f285ec857cde0/expr.png\" style=\"display:inline;vertical-align:middle;\" /></a></td></tr>\n",
       "<tr><td>12</td><td>ExprTuple</td><td>13, 14</td><td><a class=\"ProveItLink\" href=\"../7130ed3afc90084a90bd738aeb9e69b9d3b08e8f0/expr.ipynb\"><img src=\"../7130ed3afc90084a90bd738aeb9e69b9d3b08e8f0/expr.png\" style=\"display:inline;vertical-align:middle;\" /></a></td></tr>\n",
       "<tr><td>13</td><td>Literal</td><td></td><td><a class=\"ProveItLink\" href=\"../d81916b660589842e9907c923ca7448ed0c092520/expr.ipynb\"><img src=\"../d81916b660589842e9907c923ca7448ed0c092520/expr.png\" style=\"display:inline;vertical-align:middle;\" /></a></td></tr>\n",
       "<tr><td>14</td><td>Variable</td><td></td><td><a class=\"ProveItLink\" href=\"../../../../../__pv_it/146a2ac733407ae00030c58af25a3e0f465a566a0/expr.ipynb\"><img src=\"../../../../../__pv_it/146a2ac733407ae00030c58af25a3e0f465a566a0/expr.png\" style=\"display:inline;vertical-align:middle;\" /></a></td></tr>\n",
       "</table>\n"
      ],
      "text/plain": [
       "0. {t}_〈b MOD_ADD l| . |Psi〉\n",
       "   core type: Operation\n",
       "   operator: 1\n",
       "   operands: 2\n",
       "1. .\n",
       "   core type: Literal\n",
       "   sub-expressions: \n",
       "2. ({t}_〈b MOD_ADD l|, |Psi〉)\n",
       "   core type: ExprTuple\n",
       "   sub-expressions: 3, 4\n",
       "3. {t}_〈b MOD_ADD l|\n",
       "   core type: Operation\n",
       "   operator: 5\n",
       "   operands: 6\n",
       "4. |Psi〉\n",
       "   core type: Operation\n",
       "   operator: 7\n",
       "   operand: 8\n",
       "5. REGISTER_BRA\n",
       "   core type: Literal\n",
       "   sub-expressions: \n",
       "6. (b MOD_ADD l, t)\n",
       "   core type: ExprTuple\n",
       "   sub-expressions: 9, 10\n",
       "7. KET\n",
       "   core type: Literal\n",
       "   sub-expressions: \n",
       "8. Psi\n",
       "   core type: Literal\n",
       "   sub-expressions: \n",
       "9. b MOD_ADD l\n",
       "   core type: Operation\n",
       "   operator: 11\n",
       "   operands: 12\n",
       "10. t\n",
       "    core type: Literal\n",
       "    sub-expressions: \n",
       "11. MOD_ADD\n",
       "    core type: Literal\n",
       "    sub-expressions: \n",
       "12. (b, l)\n",
       "    core type: ExprTuple\n",
       "    sub-expressions: 13, 14\n",
       "13. b\n",
       "    core type: Literal\n",
       "    sub-expressions: \n",
       "14. l\n",
       "    core type: Variable\n",
       "    sub-expressions: "
      ]
     },
     "execution_count": 5,
     "metadata": {},
     "output_type": "execute_result"
    }
   ],
   "source": [
    "# display the expression information\n",
    "expr.exprInfo()"
   ]
  },
  {
   "cell_type": "code",
   "execution_count": null,
   "metadata": {},
   "outputs": [],
   "source": []
  }
 ],
 "metadata": {
  "kernelspec": {
   "display_name": "Python 3",
   "language": "python",
   "name": "python3"
  },
  "language_info": {
   "codemirror_mode": {
    "name": "ipython",
    "version": 3
   },
   "file_extension": ".py",
   "mimetype": "text/x-python",
   "name": "python",
   "nbconvert_exporter": "python",
   "pygments_lexer": "ipython3",
   "version": "3.7.3"
  }
 },
 "nbformat": 4,
 "nbformat_minor": 1
}
