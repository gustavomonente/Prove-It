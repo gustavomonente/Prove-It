{
 "cells": [
  {
   "cell_type": "markdown",
   "metadata": {},
   "source": [
    "Expression of type <a class=\"ProveItLink\" href=\"../../../../../../../../doc/html/api/proveit.ExprTuple.html\">ExprTuple</a>\n",
    "=======================\n",
    "# from the theory of <a class=\"ProveItLink\" href=\"../../../_theory_nbs_/theory.ipynb\">proveit.physics.quantum.QPE</a>"
   ]
  },
  {
   "cell_type": "code",
   "execution_count": 1,
   "metadata": {},
   "outputs": [],
   "source": [
    "import proveit\n",
    "# Automation is not needed when building an expression:\n",
    "proveit.defaults.automation = False # This will speed things up.\n",
    "proveit.defaults.inline_pngs = False # Makes files smaller.\n",
    "%load_expr # Load the stored expression as 'stored_expr'\n",
    "# import Expression classes needed to build the expression\n",
    "from proveit import ExprTuple, eps, l\n",
    "from proveit.logic import Equals\n",
    "from proveit.numbers import Interval, Neg, Sum\n",
    "from proveit.physics.quantum.QPE import ModAdd, Psuccess, b_, m_\n",
    "from proveit.statistics import Prob"
   ]
  },
  {
   "cell_type": "code",
   "execution_count": 2,
   "metadata": {},
   "outputs": [
    {
     "data": {
      "text/html": [
       "<strong id=\"expr\">expr:</strong> <a class=\"ProveItLink\" href=\"expr.ipynb\"><img src=\"expr.png\" style=\"display:inline;vertical-align:middle;\" /></a><br>"
      ],
      "text/plain": [
       "expr: ([Psuccess](eps), Sum_{l=-eps}^{eps} Pr_{m}[m = (b MOD_ADD l)])"
      ]
     },
     "execution_count": 2,
     "metadata": {},
     "output_type": "execute_result"
    }
   ],
   "source": [
    "# build up the expression from sub-expressions\n",
    "expr = ExprTuple(Psuccess(eps), Sum([l], Prob(Equals(m_, ModAdd(b_, l)), m_), domains = [Interval(Neg(eps), eps)]))"
   ]
  },
  {
   "cell_type": "code",
   "execution_count": 3,
   "metadata": {},
   "outputs": [
    {
     "name": "stdout",
     "output_type": "stream",
     "text": [
      "Passed sanity check: expr matches stored_expr\n"
     ]
    }
   ],
   "source": [
    "# check that the built expression is the same as the stored expression\n",
    "assert expr == stored_expr\n",
    "assert expr._style_id == stored_expr._style_id\n",
    "print(\"Passed sanity check: expr matches stored_expr\")"
   ]
  },
  {
   "cell_type": "code",
   "execution_count": 4,
   "metadata": {},
   "outputs": [
    {
     "name": "stdout",
     "output_type": "stream",
     "text": [
      "\\left(\\left[P_{\\rm success}\\right]\\left(\\varepsilon\\right), \\sum_{l=-\\varepsilon}^{\\varepsilon} Pr_{m}[m = \\left(b \\oplus l\\right)]\\right)\n"
     ]
    }
   ],
   "source": [
    "# Show the LaTeX representation of the expression for convenience if you need it.\n",
    "print(expr.latex())"
   ]
  },
  {
   "cell_type": "code",
   "execution_count": 5,
   "metadata": {},
   "outputs": [
    {
     "data": {
      "text/html": [
       "<table><tr><th>&nbsp;</th><th>core type</th><th>sub-expressions</th><th>expression</th></tr>\n",
       "<tr><td>0</td><td>ExprTuple</td><td>1, 2</td><td><a class=\"ProveItLink\" href=\"expr.ipynb\"><img src=\"expr.png\" style=\"display:inline;vertical-align:middle;\" /></a></td></tr>\n",
       "<tr><td>1</td><td>Operation</td><td>operator:&nbsp;3<br>operand:&nbsp;25<br></td><td><a class=\"ProveItLink\" href=\"../e1309bcff375adc6c3a7de7618a52b498ff2f3ed0/expr.ipynb\"><img src=\"../e1309bcff375adc6c3a7de7618a52b498ff2f3ed0/expr.png\" style=\"display:inline;vertical-align:middle;\" /></a></td></tr>\n",
       "<tr><td>2</td><td>Operation</td><td>operator:&nbsp;4<br>operand:&nbsp;5<br></td><td><a class=\"ProveItLink\" href=\"../1d0e113827f9a5879c2aae035de83e6e916058810/expr.ipynb\"><img src=\"../1d0e113827f9a5879c2aae035de83e6e916058810/expr.png\" style=\"display:inline;vertical-align:middle;\" /></a></td></tr>\n",
       "<tr><td>3</td><td>Literal</td><td></td><td><a class=\"ProveItLink\" href=\"../../common/82dcc5880b402b429a17682b33d89b598b383f720/expr.ipynb\"><img src=\"../../common/82dcc5880b402b429a17682b33d89b598b383f720/expr.png\" style=\"display:inline;vertical-align:middle;\" /></a></td></tr>\n",
       "<tr><td>4</td><td>Literal</td><td></td><td><a class=\"ProveItLink\" href=\"../../../../../../numbers/summation/__pv_it/common/14fe61cccc388f91dfd83d3ca31cf27448cc070a0/expr.ipynb\"><img src=\"../../../../../../numbers/summation/__pv_it/common/14fe61cccc388f91dfd83d3ca31cf27448cc070a0/expr.png\" style=\"display:inline;vertical-align:middle;\" /></a></td></tr>\n",
       "<tr><td>5</td><td>Lambda</td><td>parameter:&nbsp;27<br>body:&nbsp;6<br></td><td><a class=\"ProveItLink\" href=\"../f25ead892ec29f5ca8253ba059cc6116237277580/expr.ipynb\"><img src=\"../f25ead892ec29f5ca8253ba059cc6116237277580/expr.png\" style=\"display:inline;vertical-align:middle;\" /></a></td></tr>\n",
       "<tr><td>6</td><td>Conditional</td><td>value:&nbsp;7<br>condition:&nbsp;8<br></td><td><a class=\"ProveItLink\" href=\"../dedacdc3d165d1f347e9045836140f00f614c01f0/expr.ipynb\"><img src=\"../dedacdc3d165d1f347e9045836140f00f614c01f0/expr.png\" style=\"display:inline;vertical-align:middle;\" /></a></td></tr>\n",
       "<tr><td>7</td><td>Operation</td><td>operator:&nbsp;9<br>operands:&nbsp;10<br></td><td><a class=\"ProveItLink\" href=\"../1cb9d513709586195854168609f7728f05f29e9f0/expr.ipynb\"><img src=\"../1cb9d513709586195854168609f7728f05f29e9f0/expr.png\" style=\"display:inline;vertical-align:middle;\" /></a></td></tr>\n",
       "<tr><td>8</td><td>Operation</td><td>operator:&nbsp;11<br>operands:&nbsp;12<br></td><td><a class=\"ProveItLink\" href=\"../e2415aff0bfd152af332c1cce6eb5c3eb33f06a50/expr.ipynb\"><img src=\"../e2415aff0bfd152af332c1cce6eb5c3eb33f06a50/expr.png\" style=\"display:inline;vertical-align:middle;\" /></a></td></tr>\n",
       "<tr><td>9</td><td>Literal</td><td></td><td><a class=\"ProveItLink\" href=\"../../../../../../statistics/__pv_it/common/49129544cc02d9b56f20e46edf1a8bda4b285b220/expr.ipynb\"><img src=\"../../../../../../statistics/__pv_it/common/49129544cc02d9b56f20e46edf1a8bda4b285b220/expr.png\" style=\"display:inline;vertical-align:middle;\" /></a></td></tr>\n",
       "<tr><td>10</td><td>ExprTuple</td><td>13, 19</td><td><a class=\"ProveItLink\" href=\"../ac9ccfb1d7a2105ec61572e89d9bd7ddefbcdb3b0/expr.ipynb\"><img src=\"../ac9ccfb1d7a2105ec61572e89d9bd7ddefbcdb3b0/expr.png\" style=\"display:inline;vertical-align:middle;\" /></a></td></tr>\n",
       "<tr><td>11</td><td>Literal</td><td></td><td><a class=\"ProveItLink\" href=\"../../../../../../logic/sets/membership/__pv_it/common/477487d8796864d23d5810f83761435f25167f690/expr.ipynb\"><img src=\"../../../../../../logic/sets/membership/__pv_it/common/477487d8796864d23d5810f83761435f25167f690/expr.png\" style=\"display:inline;vertical-align:middle;\" /></a></td></tr>\n",
       "<tr><td>12</td><td>ExprTuple</td><td>27, 14</td><td><a class=\"ProveItLink\" href=\"../79a22bd43b21d681c1da328d21801b84066dabae0/expr.ipynb\"><img src=\"../79a22bd43b21d681c1da328d21801b84066dabae0/expr.png\" style=\"display:inline;vertical-align:middle;\" /></a></td></tr>\n",
       "<tr><td>13</td><td>Operation</td><td>operator:&nbsp;15<br>operands:&nbsp;16<br></td><td><a class=\"ProveItLink\" href=\"../05854e67dcbbec3c7d041f8b2c6fd6292c1cb6020/expr.ipynb\"><img src=\"../05854e67dcbbec3c7d041f8b2c6fd6292c1cb6020/expr.png\" style=\"display:inline;vertical-align:middle;\" /></a></td></tr>\n",
       "<tr><td>14</td><td>Operation</td><td>operator:&nbsp;17<br>operands:&nbsp;18<br></td><td><a class=\"ProveItLink\" href=\"../b0a58c8da12c83b37080036ccd14b0b8dd8c45080/expr.ipynb\"><img src=\"../b0a58c8da12c83b37080036ccd14b0b8dd8c45080/expr.png\" style=\"display:inline;vertical-align:middle;\" /></a></td></tr>\n",
       "<tr><td>15</td><td>Literal</td><td></td><td><a class=\"ProveItLink\" href=\"../../../../../../logic/equality/__pv_it/common/fb96dc12b2aa8801dda64d0132b396c63d1502bb0/expr.ipynb\"><img src=\"../../../../../../logic/equality/__pv_it/common/fb96dc12b2aa8801dda64d0132b396c63d1502bb0/expr.png\" style=\"display:inline;vertical-align:middle;\" /></a></td></tr>\n",
       "<tr><td>16</td><td>ExprTuple</td><td>19, 20</td><td><a class=\"ProveItLink\" href=\"../f35d7731df775569c322aa43c97dd56bc41469bf0/expr.ipynb\"><img src=\"../f35d7731df775569c322aa43c97dd56bc41469bf0/expr.png\" style=\"display:inline;vertical-align:middle;\" /></a></td></tr>\n",
       "<tr><td>17</td><td>Literal</td><td></td><td><a class=\"ProveItLink\" href=\"../../../../../../numbers/number_sets/integers/__pv_it/common/92f3a0a77e3c3ea8e4a5c8674edadc54e4f57d550/expr.ipynb\"><img src=\"../../../../../../numbers/number_sets/integers/__pv_it/common/92f3a0a77e3c3ea8e4a5c8674edadc54e4f57d550/expr.png\" style=\"display:inline;vertical-align:middle;\" /></a></td></tr>\n",
       "<tr><td>18</td><td>ExprTuple</td><td>21, 25</td><td><a class=\"ProveItLink\" href=\"../31c23efaf7b3067b59b7da953fef269a15cd03330/expr.ipynb\"><img src=\"../31c23efaf7b3067b59b7da953fef269a15cd03330/expr.png\" style=\"display:inline;vertical-align:middle;\" /></a></td></tr>\n",
       "<tr><td>19</td><td>Literal</td><td></td><td><a class=\"ProveItLink\" href=\"../../common/e097c22fce1538921545f46791cd58610a5211030/expr.ipynb\"><img src=\"../../common/e097c22fce1538921545f46791cd58610a5211030/expr.png\" style=\"display:inline;vertical-align:middle;\" /></a></td></tr>\n",
       "<tr><td>20</td><td>Operation</td><td>operator:&nbsp;22<br>operands:&nbsp;23<br></td><td><a class=\"ProveItLink\" href=\"../f896ddfcb9c23bd2ce77f32411c87b86342e5b730/expr.ipynb\"><img src=\"../f896ddfcb9c23bd2ce77f32411c87b86342e5b730/expr.png\" style=\"display:inline;vertical-align:middle;\" /></a></td></tr>\n",
       "<tr><td>21</td><td>Operation</td><td>operator:&nbsp;24<br>operand:&nbsp;25<br></td><td><a class=\"ProveItLink\" href=\"../d46f6b1502b306d7de9ac82396b4a557e3a61d1d0/expr.ipynb\"><img src=\"../d46f6b1502b306d7de9ac82396b4a557e3a61d1d0/expr.png\" style=\"display:inline;vertical-align:middle;\" /></a></td></tr>\n",
       "<tr><td>22</td><td>Literal</td><td></td><td><a class=\"ProveItLink\" href=\"../../common/46fa490f6e465244392ed9302eb003eb013bfffe0/expr.ipynb\"><img src=\"../../common/46fa490f6e465244392ed9302eb003eb013bfffe0/expr.png\" style=\"display:inline;vertical-align:middle;\" /></a></td></tr>\n",
       "<tr><td>23</td><td>ExprTuple</td><td>26, 27</td><td><a class=\"ProveItLink\" href=\"../f64fa611e8a0edbc83107cec52603d8c6d22308b0/expr.ipynb\"><img src=\"../f64fa611e8a0edbc83107cec52603d8c6d22308b0/expr.png\" style=\"display:inline;vertical-align:middle;\" /></a></td></tr>\n",
       "<tr><td>24</td><td>Literal</td><td></td><td><a class=\"ProveItLink\" href=\"../../../../../../numbers/negation/__pv_it/common/221b3c4d1770ee9051b7c044c3f9ec61196fc34b0/expr.ipynb\"><img src=\"../../../../../../numbers/negation/__pv_it/common/221b3c4d1770ee9051b7c044c3f9ec61196fc34b0/expr.png\" style=\"display:inline;vertical-align:middle;\" /></a></td></tr>\n",
       "<tr><td>25</td><td>Variable</td><td></td><td><a class=\"ProveItLink\" href=\"../../../../../../__pv_it/common/59f31a8342922b276a7a786e52f38b7bb6b875550/expr.ipynb\"><img src=\"../../../../../../__pv_it/common/59f31a8342922b276a7a786e52f38b7bb6b875550/expr.png\" style=\"display:inline;vertical-align:middle;\" /></a></td></tr>\n",
       "<tr><td>26</td><td>Literal</td><td></td><td><a class=\"ProveItLink\" href=\"../../common/87526152547440e0f166da3fc5e89091dc5afc6b0/expr.ipynb\"><img src=\"../../common/87526152547440e0f166da3fc5e89091dc5afc6b0/expr.png\" style=\"display:inline;vertical-align:middle;\" /></a></td></tr>\n",
       "<tr><td>27</td><td>Variable</td><td></td><td><a class=\"ProveItLink\" href=\"../../../../../../__pv_it/common/27cc275d44b4f4499fb9ccfb3fab1a98165d2fa60/expr.ipynb\"><img src=\"../../../../../../__pv_it/common/27cc275d44b4f4499fb9ccfb3fab1a98165d2fa60/expr.png\" style=\"display:inline;vertical-align:middle;\" /></a></td></tr>\n",
       "</table>\n"
      ],
      "text/plain": [
       "0. ([Psuccess](eps), Sum_{l=-eps}^{eps} Pr_{m}[m = (b MOD_ADD l)])\n",
       "   core type: ExprTuple\n",
       "   sub-expressions: 1, 2\n",
       "1. [Psuccess](eps)\n",
       "   core type: Operation\n",
       "   operator: 3\n",
       "   operand: 25\n",
       "2. Sum_{l=-eps}^{eps} Pr_{m}[m = (b MOD_ADD l)]\n",
       "   core type: Operation\n",
       "   operator: 4\n",
       "   operand: 5\n",
       "3. Psuccess\n",
       "   core type: Literal\n",
       "   sub-expressions: \n",
       "4. Sum\n",
       "   core type: Literal\n",
       "   sub-expressions: \n",
       "5. l -> {Pr_{m}[m = (b MOD_ADD l)] if l in {-eps...eps}.\n",
       "   core type: Lambda\n",
       "   parameter: 27\n",
       "   body: 6\n",
       "6. {Pr_{m}[m = (b MOD_ADD l)] if l in {-eps...eps}.\n",
       "   core type: Conditional\n",
       "   value: 7\n",
       "   condition: 8\n",
       "7. Pr_{m}[m = (b MOD_ADD l)]\n",
       "   core type: Operation\n",
       "   operator: 9\n",
       "   operands: 10\n",
       "8. l in {-eps...eps}\n",
       "   core type: Operation\n",
       "   operator: 11\n",
       "   operands: 12\n",
       "9. PROB\n",
       "   core type: Literal\n",
       "   sub-expressions: \n",
       "10. (m = (b MOD_ADD l), m)\n",
       "    core type: ExprTuple\n",
       "    sub-expressions: 13, 19\n",
       "11. in\n",
       "    core type: Literal\n",
       "    sub-expressions: \n",
       "12. (l, {-eps...eps})\n",
       "    core type: ExprTuple\n",
       "    sub-expressions: 27, 14\n",
       "13. m = (b MOD_ADD l)\n",
       "    core type: Operation\n",
       "    operator: 15\n",
       "    operands: 16\n",
       "14. {-eps...eps}\n",
       "    core type: Operation\n",
       "    operator: 17\n",
       "    operands: 18\n",
       "15. =\n",
       "    core type: Literal\n",
       "    sub-expressions: \n",
       "16. (m, b MOD_ADD l)\n",
       "    core type: ExprTuple\n",
       "    sub-expressions: 19, 20\n",
       "17. Interval\n",
       "    core type: Literal\n",
       "    sub-expressions: \n",
       "18. (-eps, eps)\n",
       "    core type: ExprTuple\n",
       "    sub-expressions: 21, 25\n",
       "19. m\n",
       "    core type: Literal\n",
       "    sub-expressions: \n",
       "20. b MOD_ADD l\n",
       "    core type: Operation\n",
       "    operator: 22\n",
       "    operands: 23\n",
       "21. -eps\n",
       "    core type: Operation\n",
       "    operator: 24\n",
       "    operand: 25\n",
       "22. MOD_ADD\n",
       "    core type: Literal\n",
       "    sub-expressions: \n",
       "23. (b, l)\n",
       "    core type: ExprTuple\n",
       "    sub-expressions: 26, 27\n",
       "24. -\n",
       "    core type: Literal\n",
       "    sub-expressions: \n",
       "25. eps\n",
       "    core type: Variable\n",
       "    sub-expressions: \n",
       "26. b\n",
       "    core type: Literal\n",
       "    sub-expressions: \n",
       "27. l\n",
       "    core type: Variable\n",
       "    sub-expressions: "
      ]
     },
     "execution_count": 5,
     "metadata": {},
     "output_type": "execute_result"
    }
   ],
   "source": [
    "# display the expression information\n",
    "expr.expr_info()"
   ]
  },
  {
   "cell_type": "code",
   "execution_count": null,
   "metadata": {},
   "outputs": [],
   "source": []
  }
 ],
 "metadata": {
  "kernelspec": {
   "display_name": "Python 3",
   "language": "python",
   "name": "python3"
  }
 },
 "nbformat": 4,
 "nbformat_minor": 0
}