{
 "cells": [
  {
   "cell_type": "markdown",
   "metadata": {},
   "source": [
    "Theorem <a class=\"ProveItLink\" href=\"../../../_theorems_.ipynb#pos_domain_in_full_domain\">pos_domain_in_full_domain</a> of type <a class=\"ProveItLink\" href=\"../../../../../../../../doc/html/api/proveit.logic.Forall.html\">Forall</a>\n",
    "=======================\n",
    "# from the theory of <a class=\"ProveItLink\" href=\"../../../_theory_nbs_/theory.ipynb\">proveit.physics.quantum.QPE</a>\n",
    "*** see <a class=\"ProveItLink\" href=\"dependencies.ipynb\">dependencies</a> ***"
   ]
  },
  {
   "cell_type": "code",
   "execution_count": 1,
   "metadata": {},
   "outputs": [],
   "source": [
    "import proveit\n",
    "# Automation is not needed when only building an expression:\n",
    "proveit.defaults.automation = False # This will speed things up.\n",
    "proveit.defaults.inline_pngs = False # Makes files smaller.\n",
    "%load_theorem_expr # Load the stored theorem expression as 'stored_expr'\n",
    "# import the special expression\n",
    "from proveit.physics.quantum.QPE import pos_domain_in_full_domain"
   ]
  },
  {
   "cell_type": "code",
   "execution_count": 2,
   "metadata": {},
   "outputs": [
    {
     "name": "stdout",
     "output_type": "stream",
     "text": [
      "Passed sanity check: pos_domain_in_full_domain matches stored_expr\n"
     ]
    }
   ],
   "source": [
    "# check that the built expression is the same as the stored expression\n",
    "assert pos_domain_in_full_domain.expr == stored_expr\n",
    "assert pos_domain_in_full_domain.expr._style_id == stored_expr._style_id\n",
    "print(\"Passed sanity check: pos_domain_in_full_domain matches stored_expr\")"
   ]
  },
  {
   "cell_type": "code",
   "execution_count": 3,
   "metadata": {},
   "outputs": [
    {
     "name": "stdout",
     "output_type": "stream",
     "text": [
      "\\vdash \\forall_{\\varepsilon \\in \\mathbb{N}^+}~\\left(\\{\\varepsilon + 1 \\ldots 2^{t - 1}\\} \\subseteq \\{-2^{t - 1} + 1 \\ldots 2^{t - 1}\\}\\right)\n"
     ]
    }
   ],
   "source": [
    "# Show the LaTeX representation of the expression for convenience if you need it.\n",
    "print(pos_domain_in_full_domain.latex())"
   ]
  },
  {
   "cell_type": "code",
   "execution_count": 4,
   "metadata": {},
   "outputs": [
    {
     "data": {
      "text/html": [
       "<table>\n",
       "<tr><th>name</th><th>description</th><th>default</th><th>current value</th><th>related methods</th></tr><tr><td>with_wrapping</td><td>If 'True', wrap the Expression after the parameters</td><td>None</td><td>None/False</td><td>('with_wrapping',)</td></tr>\n",
       "<tr><td>wrap_params</td><td>If 'True', wraps every two parameters AND wraps the Expression after the parameters</td><td>None</td><td>None/False</td><td>('with_params',)</td></tr>\n",
       "<tr><td>justification</td><td>justify to the 'left', 'center', or 'right' in the array cells</td><td>center</td><td>center</td><td>('with_justification',)</td></tr>\n",
       "</table>\n"
      ],
      "text/plain": [
       "style name: with_wrapping\n",
       "description: If 'True', wrap the Expression after the parameters\n",
       "default: None\n",
       "current value: None/False\n",
       "related methods: ('with_wrapping',)\n",
       "style name: wrap_params\n",
       "description: If 'True', wraps every two parameters AND wraps the Expression after the parameters\n",
       "default: None\n",
       "current value: None/False\n",
       "related methods: ('with_params',)\n",
       "style name: justification\n",
       "description: justify to the 'left', 'center', or 'right' in the array cells\n",
       "default: center\n",
       "current value: center\n",
       "related methods: ('with_justification',)"
      ]
     },
     "execution_count": 4,
     "metadata": {},
     "output_type": "execute_result"
    }
   ],
   "source": [
    "pos_domain_in_full_domain.style_options()"
   ]
  },
  {
   "cell_type": "code",
   "execution_count": 5,
   "metadata": {},
   "outputs": [
    {
     "data": {
      "text/html": [
       "<table><tr><th>&nbsp;</th><th>core type</th><th>sub-expressions</th><th>expression</th></tr>\n",
       "<tr><td>0</td><td>Operation</td><td>operator:&nbsp;1<br>operand:&nbsp;3<br></td><td><a class=\"ProveItLink\" href=\"../95c64e72b7fc7a877c8d073863cf72ef26b09efe0/expr.ipynb\"><img src=\"../95c64e72b7fc7a877c8d073863cf72ef26b09efe0/expr.png\" style=\"display:inline;vertical-align:middle;\" /></a></td></tr>\n",
       "<tr><td>1</td><td>Literal</td><td></td><td><a class=\"ProveItLink\" href=\"../../../../../../logic/booleans/quantification/universality/__pv_it/common/684d35ba98fcbf8ca5011f865e530a51e77730630/expr.ipynb\"><img src=\"../../../../../../logic/booleans/quantification/universality/__pv_it/common/684d35ba98fcbf8ca5011f865e530a51e77730630/expr.png\" style=\"display:inline;vertical-align:middle;\" /></a></td></tr>\n",
       "<tr><td>2</td><td>ExprTuple</td><td>3</td><td><a class=\"ProveItLink\" href=\"../7dda982cd922ac72d6d8fc87afc731d54a01eb570/expr.ipynb\"><img src=\"../7dda982cd922ac72d6d8fc87afc731d54a01eb570/expr.png\" style=\"display:inline;vertical-align:middle;\" /></a></td></tr>\n",
       "<tr><td>3</td><td>Lambda</td><td>parameter:&nbsp;21<br>body:&nbsp;4<br></td><td><a class=\"ProveItLink\" href=\"../23474d85d86a8ef0c94276ba842459ae33555ead0/expr.ipynb\"><img src=\"../23474d85d86a8ef0c94276ba842459ae33555ead0/expr.png\" style=\"display:inline;vertical-align:middle;\" /></a></td></tr>\n",
       "<tr><td>4</td><td>Conditional</td><td>value:&nbsp;5<br>condition:&nbsp;6<br></td><td><a class=\"ProveItLink\" href=\"../a3086189e0f9bddf86df19796664e27a8c0000b90/expr.ipynb\"><img src=\"../a3086189e0f9bddf86df19796664e27a8c0000b90/expr.png\" style=\"display:inline;vertical-align:middle;\" /></a></td></tr>\n",
       "<tr><td>5</td><td>Operation</td><td>operator:&nbsp;7<br>operands:&nbsp;8<br></td><td><a class=\"ProveItLink\" href=\"../f693b8495f62e232691513a6b7703c4e6a6b96060/expr.ipynb\"><img src=\"../f693b8495f62e232691513a6b7703c4e6a6b96060/expr.png\" style=\"display:inline;vertical-align:middle;\" /></a></td></tr>\n",
       "<tr><td>6</td><td>Operation</td><td>operator:&nbsp;9<br>operands:&nbsp;10<br></td><td><a class=\"ProveItLink\" href=\"../5a06e26211c3ac03e3ce9ae7886401eb2ae444110/expr.ipynb\"><img src=\"../5a06e26211c3ac03e3ce9ae7886401eb2ae444110/expr.png\" style=\"display:inline;vertical-align:middle;\" /></a></td></tr>\n",
       "<tr><td>7</td><td>Literal</td><td></td><td><a class=\"ProveItLink\" href=\"../../../../../../logic/sets/inclusion/__pv_it/common/cf84c19b596da29088866bd9d56a4b5a100c324f0/expr.ipynb\"><img src=\"../../../../../../logic/sets/inclusion/__pv_it/common/cf84c19b596da29088866bd9d56a4b5a100c324f0/expr.png\" style=\"display:inline;vertical-align:middle;\" /></a></td></tr>\n",
       "<tr><td>8</td><td>ExprTuple</td><td>11, 12</td><td><a class=\"ProveItLink\" href=\"../53ee66eedd991f23216f1d862e8e6faf485ac18b0/expr.ipynb\"><img src=\"../53ee66eedd991f23216f1d862e8e6faf485ac18b0/expr.png\" style=\"display:inline;vertical-align:middle;\" /></a></td></tr>\n",
       "<tr><td>9</td><td>Literal</td><td></td><td><a class=\"ProveItLink\" href=\"../../../../../../logic/sets/membership/__pv_it/common/7171deca84f71f47a6ec7696972d1632274a12880/expr.ipynb\"><img src=\"../../../../../../logic/sets/membership/__pv_it/common/7171deca84f71f47a6ec7696972d1632274a12880/expr.png\" style=\"display:inline;vertical-align:middle;\" /></a></td></tr>\n",
       "<tr><td>10</td><td>ExprTuple</td><td>21, 13</td><td><a class=\"ProveItLink\" href=\"../1198a4717f4783ad8e1554ee730955f9670f987c0/expr.ipynb\"><img src=\"../1198a4717f4783ad8e1554ee730955f9670f987c0/expr.png\" style=\"display:inline;vertical-align:middle;\" /></a></td></tr>\n",
       "<tr><td>11</td><td>Operation</td><td>operator:&nbsp;15<br>operands:&nbsp;14<br></td><td><a class=\"ProveItLink\" href=\"../../common/e03ed56555b1a3a38c157310f9668aeba82693910/expr.ipynb\"><img src=\"../../common/e03ed56555b1a3a38c157310f9668aeba82693910/expr.png\" style=\"display:inline;vertical-align:middle;\" /></a></td></tr>\n",
       "<tr><td>12</td><td>Operation</td><td>operator:&nbsp;15<br>operands:&nbsp;16<br></td><td><a class=\"ProveItLink\" href=\"../../common/72e38e6f3ce32eff5feb1e6c559186b7d361dfbc0/expr.ipynb\"><img src=\"../../common/72e38e6f3ce32eff5feb1e6c559186b7d361dfbc0/expr.png\" style=\"display:inline;vertical-align:middle;\" /></a></td></tr>\n",
       "<tr><td>13</td><td>Literal</td><td></td><td><a class=\"ProveItLink\" href=\"../../../../../../numbers/number_sets/natural_numbers/__pv_it/common/a2a7252783c385c028dad802e97575c19e456b990/expr.ipynb\"><img src=\"../../../../../../numbers/number_sets/natural_numbers/__pv_it/common/a2a7252783c385c028dad802e97575c19e456b990/expr.png\" style=\"display:inline;vertical-align:middle;\" /></a></td></tr>\n",
       "<tr><td>14</td><td>ExprTuple</td><td>17, 24</td><td><a class=\"ProveItLink\" href=\"../../common/a96539741093877ddd56debce8fb07198a57128b0/expr.ipynb\"><img src=\"../../common/a96539741093877ddd56debce8fb07198a57128b0/expr.png\" style=\"display:inline;vertical-align:middle;\" /></a></td></tr>\n",
       "<tr><td>15</td><td>Literal</td><td></td><td><a class=\"ProveItLink\" href=\"../../../../../../numbers/number_sets/integers/__pv_it/common/fcf0def17f5c3c84b64c959b39aed0e5dad7f3340/expr.ipynb\"><img src=\"../../../../../../numbers/number_sets/integers/__pv_it/common/fcf0def17f5c3c84b64c959b39aed0e5dad7f3340/expr.png\" style=\"display:inline;vertical-align:middle;\" /></a></td></tr>\n",
       "<tr><td>16</td><td>ExprTuple</td><td>18, 24</td><td><a class=\"ProveItLink\" href=\"../../common/52fff4702739576e7dd937ebea31e84deb843d4a0/expr.ipynb\"><img src=\"../../common/52fff4702739576e7dd937ebea31e84deb843d4a0/expr.png\" style=\"display:inline;vertical-align:middle;\" /></a></td></tr>\n",
       "<tr><td>17</td><td>Operation</td><td>operator:&nbsp;29<br>operands:&nbsp;19<br></td><td><a class=\"ProveItLink\" href=\"../../common/ee4a676a4be42364242a9905ef40ee55a69e2c2f0/expr.ipynb\"><img src=\"../../common/ee4a676a4be42364242a9905ef40ee55a69e2c2f0/expr.png\" style=\"display:inline;vertical-align:middle;\" /></a></td></tr>\n",
       "<tr><td>18</td><td>Operation</td><td>operator:&nbsp;29<br>operands:&nbsp;20<br></td><td><a class=\"ProveItLink\" href=\"../../common/23454c9d18a86cc328c1e64d5450b9b741ba17e20/expr.ipynb\"><img src=\"../../common/23454c9d18a86cc328c1e64d5450b9b741ba17e20/expr.png\" style=\"display:inline;vertical-align:middle;\" /></a></td></tr>\n",
       "<tr><td>19</td><td>ExprTuple</td><td>21, 35</td><td><a class=\"ProveItLink\" href=\"../../common/94bbb187e0fef07aa0a5eee9dbcfd444be86b2f80/expr.ipynb\"><img src=\"../../common/94bbb187e0fef07aa0a5eee9dbcfd444be86b2f80/expr.png\" style=\"display:inline;vertical-align:middle;\" /></a></td></tr>\n",
       "<tr><td>20</td><td>ExprTuple</td><td>22, 35</td><td><a class=\"ProveItLink\" href=\"../../common/d473ebf4b0efe9db202f06279632c83cd6a4ed090/expr.ipynb\"><img src=\"../../common/d473ebf4b0efe9db202f06279632c83cd6a4ed090/expr.png\" style=\"display:inline;vertical-align:middle;\" /></a></td></tr>\n",
       "<tr><td>21</td><td>Variable</td><td></td><td><a class=\"ProveItLink\" href=\"../../../../../../__pv_it/common/6ccbd8f7424e34c92aa1208d7ccef106f5849c250/expr.ipynb\"><img src=\"../../../../../../__pv_it/common/6ccbd8f7424e34c92aa1208d7ccef106f5849c250/expr.png\" style=\"display:inline;vertical-align:middle;\" /></a></td></tr>\n",
       "<tr><td>22</td><td>Operation</td><td>operator:&nbsp;33<br>operand:&nbsp;24<br></td><td><a class=\"ProveItLink\" href=\"../../common/97f4bed0136aaed595b0c2707f8b733a3e18c7b10/expr.ipynb\"><img src=\"../../common/97f4bed0136aaed595b0c2707f8b733a3e18c7b10/expr.png\" style=\"display:inline;vertical-align:middle;\" /></a></td></tr>\n",
       "<tr><td>23</td><td>ExprTuple</td><td>24</td><td><a class=\"ProveItLink\" href=\"../../common/b0ba8ab219ddbdc9f910b2a6d05b9f4036a8538e0/expr.ipynb\"><img src=\"../../common/b0ba8ab219ddbdc9f910b2a6d05b9f4036a8538e0/expr.png\" style=\"display:inline;vertical-align:middle;\" /></a></td></tr>\n",
       "<tr><td>24</td><td>Operation</td><td>operator:&nbsp;25<br>operands:&nbsp;26<br></td><td><a class=\"ProveItLink\" href=\"../../common/0792a1d5c4681297bfa0e77c90b2569914aae74f0/expr.ipynb\"><img src=\"../../common/0792a1d5c4681297bfa0e77c90b2569914aae74f0/expr.png\" style=\"display:inline;vertical-align:middle;\" /></a></td></tr>\n",
       "<tr><td>25</td><td>Literal</td><td></td><td><a class=\"ProveItLink\" href=\"../../../../../../numbers/exponentiation/__pv_it/common/31d1b89e3c2fad7d997556c69b6be6425b6f59a40/expr.ipynb\"><img src=\"../../../../../../numbers/exponentiation/__pv_it/common/31d1b89e3c2fad7d997556c69b6be6425b6f59a40/expr.png\" style=\"display:inline;vertical-align:middle;\" /></a></td></tr>\n",
       "<tr><td>26</td><td>ExprTuple</td><td>27, 28</td><td><a class=\"ProveItLink\" href=\"../../common/4f96f4a928cdb57c599341d749f9e84260c40fdd0/expr.ipynb\"><img src=\"../../common/4f96f4a928cdb57c599341d749f9e84260c40fdd0/expr.png\" style=\"display:inline;vertical-align:middle;\" /></a></td></tr>\n",
       "<tr><td>27</td><td>Literal</td><td></td><td><a class=\"ProveItLink\" href=\"../../../../../../numbers/numerals/__pv_it/common/3829356ce3fdf8f35810c63c00bc1a19e838663e0/expr.ipynb\"><img src=\"../../../../../../numbers/numerals/__pv_it/common/3829356ce3fdf8f35810c63c00bc1a19e838663e0/expr.png\" style=\"display:inline;vertical-align:middle;\" /></a></td></tr>\n",
       "<tr><td>28</td><td>Operation</td><td>operator:&nbsp;29<br>operands:&nbsp;30<br></td><td><a class=\"ProveItLink\" href=\"../../common/2bd9790a8ceb0cbaa297908b29d1d26135fb49df0/expr.ipynb\"><img src=\"../../common/2bd9790a8ceb0cbaa297908b29d1d26135fb49df0/expr.png\" style=\"display:inline;vertical-align:middle;\" /></a></td></tr>\n",
       "<tr><td>29</td><td>Literal</td><td></td><td><a class=\"ProveItLink\" href=\"../../../../../../numbers/addition/__pv_it/common/1f38fe5cce441387feef296e2c0a2eac260bb4f30/expr.ipynb\"><img src=\"../../../../../../numbers/addition/__pv_it/common/1f38fe5cce441387feef296e2c0a2eac260bb4f30/expr.png\" style=\"display:inline;vertical-align:middle;\" /></a></td></tr>\n",
       "<tr><td>30</td><td>ExprTuple</td><td>31, 32</td><td><a class=\"ProveItLink\" href=\"../../common/228a84a9850aca6e9a3f2ee00bbfb728e8599f670/expr.ipynb\"><img src=\"../../common/228a84a9850aca6e9a3f2ee00bbfb728e8599f670/expr.png\" style=\"display:inline;vertical-align:middle;\" /></a></td></tr>\n",
       "<tr><td>31</td><td>Literal</td><td></td><td><a class=\"ProveItLink\" href=\"../../common/39c1d684e38b5dd4cd200cf6f134282993af2c0b0/expr.ipynb\"><img src=\"../../common/39c1d684e38b5dd4cd200cf6f134282993af2c0b0/expr.png\" style=\"display:inline;vertical-align:middle;\" /></a></td></tr>\n",
       "<tr><td>32</td><td>Operation</td><td>operator:&nbsp;33<br>operand:&nbsp;35<br></td><td><a class=\"ProveItLink\" href=\"../../common/194689aa2092eb5e83b339e69e1c112868251dd50/expr.ipynb\"><img src=\"../../common/194689aa2092eb5e83b339e69e1c112868251dd50/expr.png\" style=\"display:inline;vertical-align:middle;\" /></a></td></tr>\n",
       "<tr><td>33</td><td>Literal</td><td></td><td><a class=\"ProveItLink\" href=\"../../../../../../numbers/negation/__pv_it/common/31a69a5c76809537045e3884859f178d8d9c845c0/expr.ipynb\"><img src=\"../../../../../../numbers/negation/__pv_it/common/31a69a5c76809537045e3884859f178d8d9c845c0/expr.png\" style=\"display:inline;vertical-align:middle;\" /></a></td></tr>\n",
       "<tr><td>34</td><td>ExprTuple</td><td>35</td><td><a class=\"ProveItLink\" href=\"../../common/983fb1abdb7789966ec8b7afe0d4f7ca8578c9e50/expr.ipynb\"><img src=\"../../common/983fb1abdb7789966ec8b7afe0d4f7ca8578c9e50/expr.png\" style=\"display:inline;vertical-align:middle;\" /></a></td></tr>\n",
       "<tr><td>35</td><td>Literal</td><td></td><td><a class=\"ProveItLink\" href=\"../../../../../../numbers/numerals/__pv_it/common/d278e359da0695d9652dd541d45264f93703e2e40/expr.ipynb\"><img src=\"../../../../../../numbers/numerals/__pv_it/common/d278e359da0695d9652dd541d45264f93703e2e40/expr.png\" style=\"display:inline;vertical-align:middle;\" /></a></td></tr>\n",
       "</table>\n"
      ],
      "text/plain": [
       "0. forall_{eps in NaturalPos} ({eps + 1...2^{t - 1}} subset_eq {-2^{t - 1} + 1...2^{t - 1}})\n",
       "   core type: Operation\n",
       "   operator: 1\n",
       "   operand: 3\n",
       "1. forall\n",
       "   core type: Literal\n",
       "   sub-expressions: \n",
       "2. (eps -> {{eps + 1...2^{t - 1}} subset_eq {-2^{t - 1} + 1...2^{t - 1}} if eps in NaturalPos.)\n",
       "   core type: ExprTuple\n",
       "   sub-expressions: 3\n",
       "3. eps -> {{eps + 1...2^{t - 1}} subset_eq {-2^{t - 1} + 1...2^{t - 1}} if eps in NaturalPos.\n",
       "   core type: Lambda\n",
       "   parameter: 21\n",
       "   body: 4\n",
       "4. {{eps + 1...2^{t - 1}} subset_eq {-2^{t - 1} + 1...2^{t - 1}} if eps in NaturalPos.\n",
       "   core type: Conditional\n",
       "   value: 5\n",
       "   condition: 6\n",
       "5. {eps + 1...2^{t - 1}} subset_eq {-2^{t - 1} + 1...2^{t - 1}}\n",
       "   core type: Operation\n",
       "   operator: 7\n",
       "   operands: 8\n",
       "6. eps in NaturalPos\n",
       "   core type: Operation\n",
       "   operator: 9\n",
       "   operands: 10\n",
       "7. subset_eq\n",
       "   core type: Literal\n",
       "   sub-expressions: \n",
       "8. ({eps + 1...2^{t - 1}}, {-2^{t - 1} + 1...2^{t - 1}})\n",
       "   core type: ExprTuple\n",
       "   sub-expressions: 11, 12\n",
       "9. in\n",
       "   core type: Literal\n",
       "   sub-expressions: \n",
       "10. (eps, NaturalPos)\n",
       "    core type: ExprTuple\n",
       "    sub-expressions: 21, 13\n",
       "11. {eps + 1...2^{t - 1}}\n",
       "    core type: Operation\n",
       "    operator: 15\n",
       "    operands: 14\n",
       "12. {-2^{t - 1} + 1...2^{t - 1}}\n",
       "    core type: Operation\n",
       "    operator: 15\n",
       "    operands: 16\n",
       "13. NaturalPos\n",
       "    core type: Literal\n",
       "    sub-expressions: \n",
       "14. (eps + 1, 2^{t - 1})\n",
       "    core type: ExprTuple\n",
       "    sub-expressions: 17, 24\n",
       "15. Interval\n",
       "    core type: Literal\n",
       "    sub-expressions: \n",
       "16. (-2^{t - 1} + 1, 2^{t - 1})\n",
       "    core type: ExprTuple\n",
       "    sub-expressions: 18, 24\n",
       "17. eps + 1\n",
       "    core type: Operation\n",
       "    operator: 29\n",
       "    operands: 19\n",
       "18. -2^{t - 1} + 1\n",
       "    core type: Operation\n",
       "    operator: 29\n",
       "    operands: 20\n",
       "19. (eps, 1)\n",
       "    core type: ExprTuple\n",
       "    sub-expressions: 21, 35\n",
       "20. (-2^{t - 1}, 1)\n",
       "    core type: ExprTuple\n",
       "    sub-expressions: 22, 35\n",
       "21. eps\n",
       "    core type: Variable\n",
       "    sub-expressions: \n",
       "22. -2^{t - 1}\n",
       "    core type: Operation\n",
       "    operator: 33\n",
       "    operand: 24\n",
       "23. (2^{t - 1})\n",
       "    core type: ExprTuple\n",
       "    sub-expressions: 24\n",
       "24. 2^{t - 1}\n",
       "    core type: Operation\n",
       "    operator: 25\n",
       "    operands: 26\n",
       "25. Exp\n",
       "    core type: Literal\n",
       "    sub-expressions: \n",
       "26. (2, t - 1)\n",
       "    core type: ExprTuple\n",
       "    sub-expressions: 27, 28\n",
       "27. 2\n",
       "    core type: Literal\n",
       "    sub-expressions: \n",
       "28. t - 1\n",
       "    core type: Operation\n",
       "    operator: 29\n",
       "    operands: 30\n",
       "29. +\n",
       "    core type: Literal\n",
       "    sub-expressions: \n",
       "30. (t, -1)\n",
       "    core type: ExprTuple\n",
       "    sub-expressions: 31, 32\n",
       "31. t\n",
       "    core type: Literal\n",
       "    sub-expressions: \n",
       "32. -1\n",
       "    core type: Operation\n",
       "    operator: 33\n",
       "    operand: 35\n",
       "33. -\n",
       "    core type: Literal\n",
       "    sub-expressions: \n",
       "34. (1)\n",
       "    core type: ExprTuple\n",
       "    sub-expressions: 35\n",
       "35. 1\n",
       "    core type: Literal\n",
       "    sub-expressions: "
      ]
     },
     "execution_count": 5,
     "metadata": {},
     "output_type": "execute_result"
    }
   ],
   "source": [
    "# display the expression information\n",
    "pos_domain_in_full_domain.expr_info()"
   ]
  },
  {
   "cell_type": "code",
   "execution_count": null,
   "metadata": {},
   "outputs": [],
   "source": []
  }
 ],
 "metadata": {
  "kernelspec": {
   "display_name": "Python 3",
   "language": "python",
   "name": "python3"
  }
 },
 "nbformat": 4,
 "nbformat_minor": 0
}