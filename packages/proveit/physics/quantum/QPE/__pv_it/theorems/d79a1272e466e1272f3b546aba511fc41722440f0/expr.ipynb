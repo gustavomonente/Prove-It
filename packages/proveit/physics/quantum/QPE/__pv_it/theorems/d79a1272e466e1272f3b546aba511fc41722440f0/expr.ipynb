{
 "cells": [
  {
   "cell_type": "markdown",
   "metadata": {},
   "source": [
    "Expression of type <a class=\"ProveItLink\" href=\"../../../../../../../../doc/html/api/proveit.Lambda.html\">Lambda</a>\n",
    "=======================\n",
    "# from the theory of <a class=\"ProveItLink\" href=\"../../../_theory_nbs_/theory.ipynb\">proveit.physics.quantum.QPE</a>"
   ]
  },
  {
   "cell_type": "code",
   "execution_count": 1,
   "metadata": {},
   "outputs": [],
   "source": [
    "import proveit\n",
    "# Automation is not needed when building an expression:\n",
    "proveit.defaults.automation = False # This will speed things up.\n",
    "proveit.defaults.inline_pngs = False # Makes files smaller.\n",
    "%load_expr # Load the stored expression as 'stored_expr'\n",
    "# import Expression classes needed to build the expression\n",
    "from proveit import Conditional, Lambda, l\n",
    "from proveit.logic import And, InSet, NotEquals, NotInSet\n",
    "from proveit.numbers import Add, Integer, Neg, frac, zero\n",
    "from proveit.physics.quantum.QPE import delta_, full_domain, two_pow_t"
   ]
  },
  {
   "cell_type": "code",
   "execution_count": 2,
   "metadata": {},
   "outputs": [
    {
     "data": {
      "text/html": [
       "<strong id=\"expr\">expr:</strong> <a class=\"ProveItLink\" href=\"expr.ipynb\"><img src=\"expr.png\" style=\"display:inline;vertical-align:middle;\" /></a><br>"
      ],
      "text/plain": [
       "expr: l -> {(delta - (l / 2^{t})) not-in Integer if l in {-2^{t - 1} + 1...2^{t - 1}} ,  l != 0."
      ]
     },
     "execution_count": 2,
     "metadata": {},
     "output_type": "execute_result"
    }
   ],
   "source": [
    "# build up the expression from sub-expressions\n",
    "expr = Lambda(l, Conditional(NotInSet(Add(delta_, Neg(frac(l, two_pow_t))), Integer), And(InSet(l, full_domain), NotEquals(l, zero))))"
   ]
  },
  {
   "cell_type": "code",
   "execution_count": 3,
   "metadata": {},
   "outputs": [
    {
     "name": "stdout",
     "output_type": "stream",
     "text": [
      "Passed sanity check: expr matches stored_expr\n"
     ]
    }
   ],
   "source": [
    "# check that the built expression is the same as the stored expression\n",
    "assert expr == stored_expr\n",
    "assert expr._style_id == stored_expr._style_id\n",
    "print(\"Passed sanity check: expr matches stored_expr\")"
   ]
  },
  {
   "cell_type": "code",
   "execution_count": 4,
   "metadata": {},
   "outputs": [
    {
     "name": "stdout",
     "output_type": "stream",
     "text": [
      "l \\mapsto \\left\\{\\left(\\delta - \\frac{l}{2^{t}}\\right) \\notin \\mathbb{Z} \\textrm{ if } l \\in \\{-2^{t - 1} + 1 \\dots 2^{t - 1}\\} ,  l \\neq 0\\right..\n"
     ]
    }
   ],
   "source": [
    "# Show the LaTeX representation of the expression for convenience if you need it.\n",
    "print(expr.latex())"
   ]
  },
  {
   "cell_type": "code",
   "execution_count": 5,
   "metadata": {},
   "outputs": [
    {
     "data": {
      "text/html": [
       "<table><tr><th>&nbsp;</th><th>core type</th><th>sub-expressions</th><th>expression</th></tr>\n",
       "<tr><td>0</td><td>Lambda</td><td>parameter:&nbsp;27<br>body:&nbsp;1<br></td><td><a class=\"ProveItLink\" href=\"expr.ipynb\"><img src=\"expr.png\" style=\"display:inline;vertical-align:middle;\" /></a></td></tr>\n",
       "<tr><td>1</td><td>Conditional</td><td>value:&nbsp;2<br>condition:&nbsp;3<br></td><td><a class=\"ProveItLink\" href=\"../24bb28dc525997aec90cd181d60928a5e817c0910/expr.ipynb\"><img src=\"../24bb28dc525997aec90cd181d60928a5e817c0910/expr.png\" style=\"display:inline;vertical-align:middle;\" /></a></td></tr>\n",
       "<tr><td>2</td><td>Operation</td><td>operator:&nbsp;4<br>operands:&nbsp;5<br></td><td><a class=\"ProveItLink\" href=\"../0f088835c31643ca322c6edff81554c3151acf090/expr.ipynb\"><img src=\"../0f088835c31643ca322c6edff81554c3151acf090/expr.png\" style=\"display:inline;vertical-align:middle;\" /></a></td></tr>\n",
       "<tr><td>3</td><td>Operation</td><td>operator:&nbsp;6<br>operands:&nbsp;7<br></td><td><a class=\"ProveItLink\" href=\"../07320cb5490463fe9d1b4e978be38d36ce8eb6900/expr.ipynb\"><img src=\"../07320cb5490463fe9d1b4e978be38d36ce8eb6900/expr.png\" style=\"display:inline;vertical-align:middle;\" /></a></td></tr>\n",
       "<tr><td>4</td><td>Literal</td><td></td><td><a class=\"ProveItLink\" href=\"../../../../../../logic/sets/membership/__pv_it/common/f4affea88ec78899b0259567586c16d1e6a484950/expr.ipynb\"><img src=\"../../../../../../logic/sets/membership/__pv_it/common/f4affea88ec78899b0259567586c16d1e6a484950/expr.png\" style=\"display:inline;vertical-align:middle;\" /></a></td></tr>\n",
       "<tr><td>5</td><td>ExprTuple</td><td>8, 9</td><td><a class=\"ProveItLink\" href=\"../22791eeb7b37392d80d20862cffbf2784ff6a7b70/expr.ipynb\"><img src=\"../22791eeb7b37392d80d20862cffbf2784ff6a7b70/expr.png\" style=\"display:inline;vertical-align:middle;\" /></a></td></tr>\n",
       "<tr><td>6</td><td>Literal</td><td></td><td><a class=\"ProveItLink\" href=\"../../../../../../logic/booleans/conjunction/__pv_it/common/42118ff318bd65d98b1393f64ce7c2269feef76e0/expr.ipynb\"><img src=\"../../../../../../logic/booleans/conjunction/__pv_it/common/42118ff318bd65d98b1393f64ce7c2269feef76e0/expr.png\" style=\"display:inline;vertical-align:middle;\" /></a></td></tr>\n",
       "<tr><td>7</td><td>ExprTuple</td><td>10, 11</td><td><a class=\"ProveItLink\" href=\"../249434564408690c82d371f225aac87c25f39f150/expr.ipynb\"><img src=\"../249434564408690c82d371f225aac87c25f39f150/expr.png\" style=\"display:inline;vertical-align:middle;\" /></a></td></tr>\n",
       "<tr><td>8</td><td>Operation</td><td>operator:&nbsp;37<br>operands:&nbsp;12<br></td><td><a class=\"ProveItLink\" href=\"../8db8dc47ffbe3a942dc8a39c1e1998e91b23c78b0/expr.ipynb\"><img src=\"../8db8dc47ffbe3a942dc8a39c1e1998e91b23c78b0/expr.png\" style=\"display:inline;vertical-align:middle;\" /></a></td></tr>\n",
       "<tr><td>9</td><td>Literal</td><td></td><td><a class=\"ProveItLink\" href=\"../../../../../../numbers/number_sets/integers/__pv_it/common/e6b4e90f9467053e055a4fd2f735c0bb79cb79300/expr.ipynb\"><img src=\"../../../../../../numbers/number_sets/integers/__pv_it/common/e6b4e90f9467053e055a4fd2f735c0bb79cb79300/expr.png\" style=\"display:inline;vertical-align:middle;\" /></a></td></tr>\n",
       "<tr><td>10</td><td>Operation</td><td>operator:&nbsp;13<br>operands:&nbsp;14<br></td><td><a class=\"ProveItLink\" href=\"../ff08ccef19d68f479f767c5a4c96ac1da6d149770/expr.ipynb\"><img src=\"../ff08ccef19d68f479f767c5a4c96ac1da6d149770/expr.png\" style=\"display:inline;vertical-align:middle;\" /></a></td></tr>\n",
       "<tr><td>11</td><td>Operation</td><td>operator:&nbsp;15<br>operands:&nbsp;16<br></td><td><a class=\"ProveItLink\" href=\"../1a91a1d24cf1f7cc317cda9fbcc8cd586d5793360/expr.ipynb\"><img src=\"../1a91a1d24cf1f7cc317cda9fbcc8cd586d5793360/expr.png\" style=\"display:inline;vertical-align:middle;\" /></a></td></tr>\n",
       "<tr><td>12</td><td>ExprTuple</td><td>17, 18</td><td><a class=\"ProveItLink\" href=\"../e6b0d4b8e79a7046dfe7be83d948a79cb13f88780/expr.ipynb\"><img src=\"../e6b0d4b8e79a7046dfe7be83d948a79cb13f88780/expr.png\" style=\"display:inline;vertical-align:middle;\" /></a></td></tr>\n",
       "<tr><td>13</td><td>Literal</td><td></td><td><a class=\"ProveItLink\" href=\"../../../../../../logic/sets/membership/__pv_it/common/477487d8796864d23d5810f83761435f25167f690/expr.ipynb\"><img src=\"../../../../../../logic/sets/membership/__pv_it/common/477487d8796864d23d5810f83761435f25167f690/expr.png\" style=\"display:inline;vertical-align:middle;\" /></a></td></tr>\n",
       "<tr><td>14</td><td>ExprTuple</td><td>27, 19</td><td><a class=\"ProveItLink\" href=\"../9ab0c570ec1282d26bb8fd68e3f9e9bd1cfe80df0/expr.ipynb\"><img src=\"../9ab0c570ec1282d26bb8fd68e3f9e9bd1cfe80df0/expr.png\" style=\"display:inline;vertical-align:middle;\" /></a></td></tr>\n",
       "<tr><td>15</td><td>Literal</td><td></td><td><a class=\"ProveItLink\" href=\"../../../../../../logic/equality/__pv_it/common/d96270bc9bb1bad54f773b1c04bfb343a739642c0/expr.ipynb\"><img src=\"../../../../../../logic/equality/__pv_it/common/d96270bc9bb1bad54f773b1c04bfb343a739642c0/expr.png\" style=\"display:inline;vertical-align:middle;\" /></a></td></tr>\n",
       "<tr><td>16</td><td>ExprTuple</td><td>27, 20</td><td><a class=\"ProveItLink\" href=\"../3e1c9951e41734f0da9be86211e91844b3c3573c0/expr.ipynb\"><img src=\"../3e1c9951e41734f0da9be86211e91844b3c3573c0/expr.png\" style=\"display:inline;vertical-align:middle;\" /></a></td></tr>\n",
       "<tr><td>17</td><td>Literal</td><td></td><td><a class=\"ProveItLink\" href=\"../../common/d6b97444617188a78c398568a10ac4dbe1ffa6590/expr.ipynb\"><img src=\"../../common/d6b97444617188a78c398568a10ac4dbe1ffa6590/expr.png\" style=\"display:inline;vertical-align:middle;\" /></a></td></tr>\n",
       "<tr><td>18</td><td>Operation</td><td>operator:&nbsp;41<br>operand:&nbsp;21<br></td><td><a class=\"ProveItLink\" href=\"../285bf2ba315a369055c7fb6080bbd7eeb96a3f5d0/expr.ipynb\"><img src=\"../285bf2ba315a369055c7fb6080bbd7eeb96a3f5d0/expr.png\" style=\"display:inline;vertical-align:middle;\" /></a></td></tr>\n",
       "<tr><td>19</td><td>Operation</td><td>operator:&nbsp;22<br>operands:&nbsp;23<br></td><td><a class=\"ProveItLink\" href=\"../../common/18ae072ebc2a3e8487e4ef5d9e6a89774a98bb920/expr.ipynb\"><img src=\"../../common/18ae072ebc2a3e8487e4ef5d9e6a89774a98bb920/expr.png\" style=\"display:inline;vertical-align:middle;\" /></a></td></tr>\n",
       "<tr><td>20</td><td>Literal</td><td></td><td><a class=\"ProveItLink\" href=\"../../../../../../numbers/numerals/__pv_it/common/7d0a36793ffe8d307a5c120ee5598162e8cd2db10/expr.ipynb\"><img src=\"../../../../../../numbers/numerals/__pv_it/common/7d0a36793ffe8d307a5c120ee5598162e8cd2db10/expr.png\" style=\"display:inline;vertical-align:middle;\" /></a></td></tr>\n",
       "<tr><td>21</td><td>Operation</td><td>operator:&nbsp;24<br>operands:&nbsp;25<br></td><td><a class=\"ProveItLink\" href=\"../c031e4ddff7194f9c5fccd18c500ff84be0f940b0/expr.ipynb\"><img src=\"../c031e4ddff7194f9c5fccd18c500ff84be0f940b0/expr.png\" style=\"display:inline;vertical-align:middle;\" /></a></td></tr>\n",
       "<tr><td>22</td><td>Literal</td><td></td><td><a class=\"ProveItLink\" href=\"../../../../../../numbers/number_sets/integers/__pv_it/common/92f3a0a77e3c3ea8e4a5c8674edadc54e4f57d550/expr.ipynb\"><img src=\"../../../../../../numbers/number_sets/integers/__pv_it/common/92f3a0a77e3c3ea8e4a5c8674edadc54e4f57d550/expr.png\" style=\"display:inline;vertical-align:middle;\" /></a></td></tr>\n",
       "<tr><td>23</td><td>ExprTuple</td><td>26, 32</td><td><a class=\"ProveItLink\" href=\"../../common/82bb6ee1834fffdae1e5ee29e2de6031b7f287860/expr.ipynb\"><img src=\"../../common/82bb6ee1834fffdae1e5ee29e2de6031b7f287860/expr.png\" style=\"display:inline;vertical-align:middle;\" /></a></td></tr>\n",
       "<tr><td>24</td><td>Literal</td><td></td><td><a class=\"ProveItLink\" href=\"../../../../../../numbers/division/__pv_it/common/a2a633e1e3c749fb1f2692466b287b6348c5de840/expr.ipynb\"><img src=\"../../../../../../numbers/division/__pv_it/common/a2a633e1e3c749fb1f2692466b287b6348c5de840/expr.png\" style=\"display:inline;vertical-align:middle;\" /></a></td></tr>\n",
       "<tr><td>25</td><td>ExprTuple</td><td>27, 28</td><td><a class=\"ProveItLink\" href=\"../d6c514143de3b0fff78f418286832204fd5506730/expr.ipynb\"><img src=\"../d6c514143de3b0fff78f418286832204fd5506730/expr.png\" style=\"display:inline;vertical-align:middle;\" /></a></td></tr>\n",
       "<tr><td>26</td><td>Operation</td><td>operator:&nbsp;37<br>operands:&nbsp;29<br></td><td><a class=\"ProveItLink\" href=\"../../common/ace05707b4298fa0f8aaeadabba27a5ec7e6571f0/expr.ipynb\"><img src=\"../../common/ace05707b4298fa0f8aaeadabba27a5ec7e6571f0/expr.png\" style=\"display:inline;vertical-align:middle;\" /></a></td></tr>\n",
       "<tr><td>27</td><td>Variable</td><td></td><td><a class=\"ProveItLink\" href=\"../../../../../../__pv_it/common/27cc275d44b4f4499fb9ccfb3fab1a98165d2fa60/expr.ipynb\"><img src=\"../../../../../../__pv_it/common/27cc275d44b4f4499fb9ccfb3fab1a98165d2fa60/expr.png\" style=\"display:inline;vertical-align:middle;\" /></a></td></tr>\n",
       "<tr><td>28</td><td>Operation</td><td>operator:&nbsp;33<br>operands:&nbsp;30<br></td><td><a class=\"ProveItLink\" href=\"../../common/ffe778243736806f1127a291e1939ca0eecb77070/expr.ipynb\"><img src=\"../../common/ffe778243736806f1127a291e1939ca0eecb77070/expr.png\" style=\"display:inline;vertical-align:middle;\" /></a></td></tr>\n",
       "<tr><td>29</td><td>ExprTuple</td><td>31, 42</td><td><a class=\"ProveItLink\" href=\"../../common/e0bf004b1715aa0468a9182625cca625ce6b7d420/expr.ipynb\"><img src=\"../../common/e0bf004b1715aa0468a9182625cca625ce6b7d420/expr.png\" style=\"display:inline;vertical-align:middle;\" /></a></td></tr>\n",
       "<tr><td>30</td><td>ExprTuple</td><td>35, 39</td><td><a class=\"ProveItLink\" href=\"../../common/bec7807dfd3317c3712da91239c210c00ddabc8c0/expr.ipynb\"><img src=\"../../common/bec7807dfd3317c3712da91239c210c00ddabc8c0/expr.png\" style=\"display:inline;vertical-align:middle;\" /></a></td></tr>\n",
       "<tr><td>31</td><td>Operation</td><td>operator:&nbsp;41<br>operand:&nbsp;32<br></td><td><a class=\"ProveItLink\" href=\"../../common/0e6b783865a31b51b199d4c09e027626a8e249bd0/expr.ipynb\"><img src=\"../../common/0e6b783865a31b51b199d4c09e027626a8e249bd0/expr.png\" style=\"display:inline;vertical-align:middle;\" /></a></td></tr>\n",
       "<tr><td>32</td><td>Operation</td><td>operator:&nbsp;33<br>operands:&nbsp;34<br></td><td><a class=\"ProveItLink\" href=\"../../common/1c3f5ab7d3aa21e21d9d800ffeb2976af952a5420/expr.ipynb\"><img src=\"../../common/1c3f5ab7d3aa21e21d9d800ffeb2976af952a5420/expr.png\" style=\"display:inline;vertical-align:middle;\" /></a></td></tr>\n",
       "<tr><td>33</td><td>Literal</td><td></td><td><a class=\"ProveItLink\" href=\"../../../../../../numbers/exponentiation/__pv_it/common/0ac37aca1e54c35c5cda09672df32d4f69f1f3020/expr.ipynb\"><img src=\"../../../../../../numbers/exponentiation/__pv_it/common/0ac37aca1e54c35c5cda09672df32d4f69f1f3020/expr.png\" style=\"display:inline;vertical-align:middle;\" /></a></td></tr>\n",
       "<tr><td>34</td><td>ExprTuple</td><td>35, 36</td><td><a class=\"ProveItLink\" href=\"../../common/da2a63dc064d881c4fcc84f96f8f2f1bec9a92720/expr.ipynb\"><img src=\"../../common/da2a63dc064d881c4fcc84f96f8f2f1bec9a92720/expr.png\" style=\"display:inline;vertical-align:middle;\" /></a></td></tr>\n",
       "<tr><td>35</td><td>Literal</td><td></td><td><a class=\"ProveItLink\" href=\"../../../../../../numbers/numerals/__pv_it/common/ba3b059982e8b49413dc653e957beb11e974e4bc0/expr.ipynb\"><img src=\"../../../../../../numbers/numerals/__pv_it/common/ba3b059982e8b49413dc653e957beb11e974e4bc0/expr.png\" style=\"display:inline;vertical-align:middle;\" /></a></td></tr>\n",
       "<tr><td>36</td><td>Operation</td><td>operator:&nbsp;37<br>operands:&nbsp;38<br></td><td><a class=\"ProveItLink\" href=\"../../common/1cf4fca3016d3b77588ab16096826a8df615159d0/expr.ipynb\"><img src=\"../../common/1cf4fca3016d3b77588ab16096826a8df615159d0/expr.png\" style=\"display:inline;vertical-align:middle;\" /></a></td></tr>\n",
       "<tr><td>37</td><td>Literal</td><td></td><td><a class=\"ProveItLink\" href=\"../../../../../../numbers/addition/__pv_it/common/4b7effaab3619a1c2c38fe2dee8601df8ec714590/expr.ipynb\"><img src=\"../../../../../../numbers/addition/__pv_it/common/4b7effaab3619a1c2c38fe2dee8601df8ec714590/expr.png\" style=\"display:inline;vertical-align:middle;\" /></a></td></tr>\n",
       "<tr><td>38</td><td>ExprTuple</td><td>39, 40</td><td><a class=\"ProveItLink\" href=\"../../common/0c0259ca7e5009feddf37042e6a9c6312cdd312c0/expr.ipynb\"><img src=\"../../common/0c0259ca7e5009feddf37042e6a9c6312cdd312c0/expr.png\" style=\"display:inline;vertical-align:middle;\" /></a></td></tr>\n",
       "<tr><td>39</td><td>Literal</td><td></td><td><a class=\"ProveItLink\" href=\"../../common/977cc67717328e22c93f8ab84e6a45e8cadce7790/expr.ipynb\"><img src=\"../../common/977cc67717328e22c93f8ab84e6a45e8cadce7790/expr.png\" style=\"display:inline;vertical-align:middle;\" /></a></td></tr>\n",
       "<tr><td>40</td><td>Operation</td><td>operator:&nbsp;41<br>operand:&nbsp;42<br></td><td><a class=\"ProveItLink\" href=\"../../common/44da79c41f096863320e2aca2d20b6c16cdd623b0/expr.ipynb\"><img src=\"../../common/44da79c41f096863320e2aca2d20b6c16cdd623b0/expr.png\" style=\"display:inline;vertical-align:middle;\" /></a></td></tr>\n",
       "<tr><td>41</td><td>Literal</td><td></td><td><a class=\"ProveItLink\" href=\"../../../../../../numbers/negation/__pv_it/common/221b3c4d1770ee9051b7c044c3f9ec61196fc34b0/expr.ipynb\"><img src=\"../../../../../../numbers/negation/__pv_it/common/221b3c4d1770ee9051b7c044c3f9ec61196fc34b0/expr.png\" style=\"display:inline;vertical-align:middle;\" /></a></td></tr>\n",
       "<tr><td>42</td><td>Literal</td><td></td><td><a class=\"ProveItLink\" href=\"../../../../../../numbers/numerals/__pv_it/common/2778428c7f555b2bdc06aa0530bc142c6e6335100/expr.ipynb\"><img src=\"../../../../../../numbers/numerals/__pv_it/common/2778428c7f555b2bdc06aa0530bc142c6e6335100/expr.png\" style=\"display:inline;vertical-align:middle;\" /></a></td></tr>\n",
       "</table>\n"
      ],
      "text/plain": [
       "0. l -> {(delta - (l / 2^{t})) not-in Integer if l in {-2^{t - 1} + 1...2^{t - 1}} ,  l != 0.\n",
       "   core type: Lambda\n",
       "   parameter: 27\n",
       "   body: 1\n",
       "1. {(delta - (l / 2^{t})) not-in Integer if l in {-2^{t - 1} + 1...2^{t - 1}} ,  l != 0.\n",
       "   core type: Conditional\n",
       "   value: 2\n",
       "   condition: 3\n",
       "2. (delta - (l / 2^{t})) not-in Integer\n",
       "   core type: Operation\n",
       "   operator: 4\n",
       "   operands: 5\n",
       "3. (l in {-2^{t - 1} + 1...2^{t - 1}}) and (l != 0)\n",
       "   core type: Operation\n",
       "   operator: 6\n",
       "   operands: 7\n",
       "4. not-in\n",
       "   core type: Literal\n",
       "   sub-expressions: \n",
       "5. (delta - (l / 2^{t}), Integer)\n",
       "   core type: ExprTuple\n",
       "   sub-expressions: 8, 9\n",
       "6. and\n",
       "   core type: Literal\n",
       "   sub-expressions: \n",
       "7. (l in {-2^{t - 1} + 1...2^{t - 1}}, l != 0)\n",
       "   core type: ExprTuple\n",
       "   sub-expressions: 10, 11\n",
       "8. delta - (l / 2^{t})\n",
       "   core type: Operation\n",
       "   operator: 37\n",
       "   operands: 12\n",
       "9. Integer\n",
       "   core type: Literal\n",
       "   sub-expressions: \n",
       "10. l in {-2^{t - 1} + 1...2^{t - 1}}\n",
       "    core type: Operation\n",
       "    operator: 13\n",
       "    operands: 14\n",
       "11. l != 0\n",
       "    core type: Operation\n",
       "    operator: 15\n",
       "    operands: 16\n",
       "12. (delta, -(l / 2^{t}))\n",
       "    core type: ExprTuple\n",
       "    sub-expressions: 17, 18\n",
       "13. in\n",
       "    core type: Literal\n",
       "    sub-expressions: \n",
       "14. (l, {-2^{t - 1} + 1...2^{t - 1}})\n",
       "    core type: ExprTuple\n",
       "    sub-expressions: 27, 19\n",
       "15. !=\n",
       "    core type: Literal\n",
       "    sub-expressions: \n",
       "16. (l, 0)\n",
       "    core type: ExprTuple\n",
       "    sub-expressions: 27, 20\n",
       "17. delta\n",
       "    core type: Literal\n",
       "    sub-expressions: \n",
       "18. -(l / 2^{t})\n",
       "    core type: Operation\n",
       "    operator: 41\n",
       "    operand: 21\n",
       "19. {-2^{t - 1} + 1...2^{t - 1}}\n",
       "    core type: Operation\n",
       "    operator: 22\n",
       "    operands: 23\n",
       "20. 0\n",
       "    core type: Literal\n",
       "    sub-expressions: \n",
       "21. l / 2^{t}\n",
       "    core type: Operation\n",
       "    operator: 24\n",
       "    operands: 25\n",
       "22. Interval\n",
       "    core type: Literal\n",
       "    sub-expressions: \n",
       "23. (-2^{t - 1} + 1, 2^{t - 1})\n",
       "    core type: ExprTuple\n",
       "    sub-expressions: 26, 32\n",
       "24. /\n",
       "    core type: Literal\n",
       "    sub-expressions: \n",
       "25. (l, 2^{t})\n",
       "    core type: ExprTuple\n",
       "    sub-expressions: 27, 28\n",
       "26. -2^{t - 1} + 1\n",
       "    core type: Operation\n",
       "    operator: 37\n",
       "    operands: 29\n",
       "27. l\n",
       "    core type: Variable\n",
       "    sub-expressions: \n",
       "28. 2^{t}\n",
       "    core type: Operation\n",
       "    operator: 33\n",
       "    operands: 30\n",
       "29. (-2^{t - 1}, 1)\n",
       "    core type: ExprTuple\n",
       "    sub-expressions: 31, 42\n",
       "30. (2, t)\n",
       "    core type: ExprTuple\n",
       "    sub-expressions: 35, 39\n",
       "31. -2^{t - 1}\n",
       "    core type: Operation\n",
       "    operator: 41\n",
       "    operand: 32\n",
       "32. 2^{t - 1}\n",
       "    core type: Operation\n",
       "    operator: 33\n",
       "    operands: 34\n",
       "33. Exp\n",
       "    core type: Literal\n",
       "    sub-expressions: \n",
       "34. (2, t - 1)\n",
       "    core type: ExprTuple\n",
       "    sub-expressions: 35, 36\n",
       "35. 2\n",
       "    core type: Literal\n",
       "    sub-expressions: \n",
       "36. t - 1\n",
       "    core type: Operation\n",
       "    operator: 37\n",
       "    operands: 38\n",
       "37. +\n",
       "    core type: Literal\n",
       "    sub-expressions: \n",
       "38. (t, -1)\n",
       "    core type: ExprTuple\n",
       "    sub-expressions: 39, 40\n",
       "39. t\n",
       "    core type: Literal\n",
       "    sub-expressions: \n",
       "40. -1\n",
       "    core type: Operation\n",
       "    operator: 41\n",
       "    operand: 42\n",
       "41. -\n",
       "    core type: Literal\n",
       "    sub-expressions: \n",
       "42. 1\n",
       "    core type: Literal\n",
       "    sub-expressions: "
      ]
     },
     "execution_count": 5,
     "metadata": {},
     "output_type": "execute_result"
    }
   ],
   "source": [
    "# display the expression information\n",
    "expr.expr_info()"
   ]
  },
  {
   "cell_type": "code",
   "execution_count": null,
   "metadata": {},
   "outputs": [],
   "source": []
  }
 ],
 "metadata": {
  "kernelspec": {
   "display_name": "Python 3",
   "language": "python",
   "name": "python3"
  }
 },
 "nbformat": 4,
 "nbformat_minor": 0
}