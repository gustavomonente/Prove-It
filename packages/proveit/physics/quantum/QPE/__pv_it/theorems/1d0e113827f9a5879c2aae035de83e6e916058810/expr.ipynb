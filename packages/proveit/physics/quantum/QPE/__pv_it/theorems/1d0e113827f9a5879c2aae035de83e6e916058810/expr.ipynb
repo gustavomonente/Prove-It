{
 "cells": [
  {
   "cell_type": "markdown",
   "metadata": {},
   "source": [
    "Expression of type <a class=\"ProveItLink\" href=\"../../../../../../../../doc/html/api/proveit.numbers.Sum.html\">Sum</a>\n",
    "=======================\n",
    "# from the theory of <a class=\"ProveItLink\" href=\"../../../_theory_nbs_/theory.ipynb\">proveit.physics.quantum.QPE</a>"
   ]
  },
  {
   "cell_type": "code",
   "execution_count": 1,
   "metadata": {},
   "outputs": [],
   "source": [
    "import proveit\n",
    "# Automation is not needed when building an expression:\n",
    "proveit.defaults.automation = False # This will speed things up.\n",
    "proveit.defaults.inline_pngs = False # Makes files smaller.\n",
    "%load_expr # Load the stored expression as 'stored_expr'\n",
    "# import Expression classes needed to build the expression\n",
    "from proveit import eps, l\n",
    "from proveit.logic import Equals\n",
    "from proveit.numbers import Interval, Neg, Sum\n",
    "from proveit.physics.quantum.QPE import ModAdd, b_, m_\n",
    "from proveit.statistics import Prob"
   ]
  },
  {
   "cell_type": "code",
   "execution_count": 2,
   "metadata": {},
   "outputs": [
    {
     "data": {
      "text/html": [
       "<strong id=\"expr\">expr:</strong> <a class=\"ProveItLink\" href=\"expr.ipynb\"><img src=\"expr.png\" style=\"display:inline;vertical-align:middle;\" /></a><br>"
      ],
      "text/plain": [
       "expr: Sum_{l=-eps}^{eps} Pr_{m}[m = (b MOD_ADD l)]"
      ]
     },
     "execution_count": 2,
     "metadata": {},
     "output_type": "execute_result"
    }
   ],
   "source": [
    "# build up the expression from sub-expressions\n",
    "expr = Sum([l], Prob(Equals(m_, ModAdd(b_, l)), m_), domains = [Interval(Neg(eps), eps)])"
   ]
  },
  {
   "cell_type": "code",
   "execution_count": 3,
   "metadata": {},
   "outputs": [
    {
     "name": "stdout",
     "output_type": "stream",
     "text": [
      "Passed sanity check: expr matches stored_expr\n"
     ]
    }
   ],
   "source": [
    "# check that the built expression is the same as the stored expression\n",
    "assert expr == stored_expr\n",
    "assert expr._style_id == stored_expr._style_id\n",
    "print(\"Passed sanity check: expr matches stored_expr\")"
   ]
  },
  {
   "cell_type": "code",
   "execution_count": 4,
   "metadata": {},
   "outputs": [
    {
     "name": "stdout",
     "output_type": "stream",
     "text": [
      "\\sum_{l=-\\varepsilon}^{\\varepsilon} Pr_{m}[m = \\left(b \\oplus l\\right)]\n"
     ]
    }
   ],
   "source": [
    "# Show the LaTeX representation of the expression for convenience if you need it.\n",
    "print(expr.latex())"
   ]
  },
  {
   "cell_type": "code",
   "execution_count": 5,
   "metadata": {},
   "outputs": [
    {
     "data": {
      "text/html": [
       "<table><tr><th>&nbsp;</th><th>core type</th><th>sub-expressions</th><th>expression</th></tr>\n",
       "<tr><td>0</td><td>Operation</td><td>operator:&nbsp;1<br>operand:&nbsp;2<br></td><td><a class=\"ProveItLink\" href=\"expr.ipynb\"><img src=\"expr.png\" style=\"display:inline;vertical-align:middle;\" /></a></td></tr>\n",
       "<tr><td>1</td><td>Literal</td><td></td><td><a class=\"ProveItLink\" href=\"../../../../../../numbers/summation/__pv_it/common/14fe61cccc388f91dfd83d3ca31cf27448cc070a0/expr.ipynb\"><img src=\"../../../../../../numbers/summation/__pv_it/common/14fe61cccc388f91dfd83d3ca31cf27448cc070a0/expr.png\" style=\"display:inline;vertical-align:middle;\" /></a></td></tr>\n",
       "<tr><td>2</td><td>Lambda</td><td>parameter:&nbsp;24<br>body:&nbsp;3<br></td><td><a class=\"ProveItLink\" href=\"../f25ead892ec29f5ca8253ba059cc6116237277580/expr.ipynb\"><img src=\"../f25ead892ec29f5ca8253ba059cc6116237277580/expr.png\" style=\"display:inline;vertical-align:middle;\" /></a></td></tr>\n",
       "<tr><td>3</td><td>Conditional</td><td>value:&nbsp;4<br>condition:&nbsp;5<br></td><td><a class=\"ProveItLink\" href=\"../dedacdc3d165d1f347e9045836140f00f614c01f0/expr.ipynb\"><img src=\"../dedacdc3d165d1f347e9045836140f00f614c01f0/expr.png\" style=\"display:inline;vertical-align:middle;\" /></a></td></tr>\n",
       "<tr><td>4</td><td>Operation</td><td>operator:&nbsp;6<br>operands:&nbsp;7<br></td><td><a class=\"ProveItLink\" href=\"../1cb9d513709586195854168609f7728f05f29e9f0/expr.ipynb\"><img src=\"../1cb9d513709586195854168609f7728f05f29e9f0/expr.png\" style=\"display:inline;vertical-align:middle;\" /></a></td></tr>\n",
       "<tr><td>5</td><td>Operation</td><td>operator:&nbsp;8<br>operands:&nbsp;9<br></td><td><a class=\"ProveItLink\" href=\"../e2415aff0bfd152af332c1cce6eb5c3eb33f06a50/expr.ipynb\"><img src=\"../e2415aff0bfd152af332c1cce6eb5c3eb33f06a50/expr.png\" style=\"display:inline;vertical-align:middle;\" /></a></td></tr>\n",
       "<tr><td>6</td><td>Literal</td><td></td><td><a class=\"ProveItLink\" href=\"../../../../../../statistics/__pv_it/common/49129544cc02d9b56f20e46edf1a8bda4b285b220/expr.ipynb\"><img src=\"../../../../../../statistics/__pv_it/common/49129544cc02d9b56f20e46edf1a8bda4b285b220/expr.png\" style=\"display:inline;vertical-align:middle;\" /></a></td></tr>\n",
       "<tr><td>7</td><td>ExprTuple</td><td>10, 16</td><td><a class=\"ProveItLink\" href=\"../ac9ccfb1d7a2105ec61572e89d9bd7ddefbcdb3b0/expr.ipynb\"><img src=\"../ac9ccfb1d7a2105ec61572e89d9bd7ddefbcdb3b0/expr.png\" style=\"display:inline;vertical-align:middle;\" /></a></td></tr>\n",
       "<tr><td>8</td><td>Literal</td><td></td><td><a class=\"ProveItLink\" href=\"../../../../../../logic/sets/membership/__pv_it/common/477487d8796864d23d5810f83761435f25167f690/expr.ipynb\"><img src=\"../../../../../../logic/sets/membership/__pv_it/common/477487d8796864d23d5810f83761435f25167f690/expr.png\" style=\"display:inline;vertical-align:middle;\" /></a></td></tr>\n",
       "<tr><td>9</td><td>ExprTuple</td><td>24, 11</td><td><a class=\"ProveItLink\" href=\"../79a22bd43b21d681c1da328d21801b84066dabae0/expr.ipynb\"><img src=\"../79a22bd43b21d681c1da328d21801b84066dabae0/expr.png\" style=\"display:inline;vertical-align:middle;\" /></a></td></tr>\n",
       "<tr><td>10</td><td>Operation</td><td>operator:&nbsp;12<br>operands:&nbsp;13<br></td><td><a class=\"ProveItLink\" href=\"../05854e67dcbbec3c7d041f8b2c6fd6292c1cb6020/expr.ipynb\"><img src=\"../05854e67dcbbec3c7d041f8b2c6fd6292c1cb6020/expr.png\" style=\"display:inline;vertical-align:middle;\" /></a></td></tr>\n",
       "<tr><td>11</td><td>Operation</td><td>operator:&nbsp;14<br>operands:&nbsp;15<br></td><td><a class=\"ProveItLink\" href=\"../b0a58c8da12c83b37080036ccd14b0b8dd8c45080/expr.ipynb\"><img src=\"../b0a58c8da12c83b37080036ccd14b0b8dd8c45080/expr.png\" style=\"display:inline;vertical-align:middle;\" /></a></td></tr>\n",
       "<tr><td>12</td><td>Literal</td><td></td><td><a class=\"ProveItLink\" href=\"../../../../../../logic/equality/__pv_it/common/fb96dc12b2aa8801dda64d0132b396c63d1502bb0/expr.ipynb\"><img src=\"../../../../../../logic/equality/__pv_it/common/fb96dc12b2aa8801dda64d0132b396c63d1502bb0/expr.png\" style=\"display:inline;vertical-align:middle;\" /></a></td></tr>\n",
       "<tr><td>13</td><td>ExprTuple</td><td>16, 17</td><td><a class=\"ProveItLink\" href=\"../f35d7731df775569c322aa43c97dd56bc41469bf0/expr.ipynb\"><img src=\"../f35d7731df775569c322aa43c97dd56bc41469bf0/expr.png\" style=\"display:inline;vertical-align:middle;\" /></a></td></tr>\n",
       "<tr><td>14</td><td>Literal</td><td></td><td><a class=\"ProveItLink\" href=\"../../../../../../numbers/number_sets/integers/__pv_it/common/92f3a0a77e3c3ea8e4a5c8674edadc54e4f57d550/expr.ipynb\"><img src=\"../../../../../../numbers/number_sets/integers/__pv_it/common/92f3a0a77e3c3ea8e4a5c8674edadc54e4f57d550/expr.png\" style=\"display:inline;vertical-align:middle;\" /></a></td></tr>\n",
       "<tr><td>15</td><td>ExprTuple</td><td>18, 22</td><td><a class=\"ProveItLink\" href=\"../31c23efaf7b3067b59b7da953fef269a15cd03330/expr.ipynb\"><img src=\"../31c23efaf7b3067b59b7da953fef269a15cd03330/expr.png\" style=\"display:inline;vertical-align:middle;\" /></a></td></tr>\n",
       "<tr><td>16</td><td>Literal</td><td></td><td><a class=\"ProveItLink\" href=\"../../common/e097c22fce1538921545f46791cd58610a5211030/expr.ipynb\"><img src=\"../../common/e097c22fce1538921545f46791cd58610a5211030/expr.png\" style=\"display:inline;vertical-align:middle;\" /></a></td></tr>\n",
       "<tr><td>17</td><td>Operation</td><td>operator:&nbsp;19<br>operands:&nbsp;20<br></td><td><a class=\"ProveItLink\" href=\"../f896ddfcb9c23bd2ce77f32411c87b86342e5b730/expr.ipynb\"><img src=\"../f896ddfcb9c23bd2ce77f32411c87b86342e5b730/expr.png\" style=\"display:inline;vertical-align:middle;\" /></a></td></tr>\n",
       "<tr><td>18</td><td>Operation</td><td>operator:&nbsp;21<br>operand:&nbsp;22<br></td><td><a class=\"ProveItLink\" href=\"../d46f6b1502b306d7de9ac82396b4a557e3a61d1d0/expr.ipynb\"><img src=\"../d46f6b1502b306d7de9ac82396b4a557e3a61d1d0/expr.png\" style=\"display:inline;vertical-align:middle;\" /></a></td></tr>\n",
       "<tr><td>19</td><td>Literal</td><td></td><td><a class=\"ProveItLink\" href=\"../../common/46fa490f6e465244392ed9302eb003eb013bfffe0/expr.ipynb\"><img src=\"../../common/46fa490f6e465244392ed9302eb003eb013bfffe0/expr.png\" style=\"display:inline;vertical-align:middle;\" /></a></td></tr>\n",
       "<tr><td>20</td><td>ExprTuple</td><td>23, 24</td><td><a class=\"ProveItLink\" href=\"../f64fa611e8a0edbc83107cec52603d8c6d22308b0/expr.ipynb\"><img src=\"../f64fa611e8a0edbc83107cec52603d8c6d22308b0/expr.png\" style=\"display:inline;vertical-align:middle;\" /></a></td></tr>\n",
       "<tr><td>21</td><td>Literal</td><td></td><td><a class=\"ProveItLink\" href=\"../../../../../../numbers/negation/__pv_it/common/221b3c4d1770ee9051b7c044c3f9ec61196fc34b0/expr.ipynb\"><img src=\"../../../../../../numbers/negation/__pv_it/common/221b3c4d1770ee9051b7c044c3f9ec61196fc34b0/expr.png\" style=\"display:inline;vertical-align:middle;\" /></a></td></tr>\n",
       "<tr><td>22</td><td>Variable</td><td></td><td><a class=\"ProveItLink\" href=\"../../../../../../__pv_it/common/59f31a8342922b276a7a786e52f38b7bb6b875550/expr.ipynb\"><img src=\"../../../../../../__pv_it/common/59f31a8342922b276a7a786e52f38b7bb6b875550/expr.png\" style=\"display:inline;vertical-align:middle;\" /></a></td></tr>\n",
       "<tr><td>23</td><td>Literal</td><td></td><td><a class=\"ProveItLink\" href=\"../../common/87526152547440e0f166da3fc5e89091dc5afc6b0/expr.ipynb\"><img src=\"../../common/87526152547440e0f166da3fc5e89091dc5afc6b0/expr.png\" style=\"display:inline;vertical-align:middle;\" /></a></td></tr>\n",
       "<tr><td>24</td><td>Variable</td><td></td><td><a class=\"ProveItLink\" href=\"../../../../../../__pv_it/common/27cc275d44b4f4499fb9ccfb3fab1a98165d2fa60/expr.ipynb\"><img src=\"../../../../../../__pv_it/common/27cc275d44b4f4499fb9ccfb3fab1a98165d2fa60/expr.png\" style=\"display:inline;vertical-align:middle;\" /></a></td></tr>\n",
       "</table>\n"
      ],
      "text/plain": [
       "0. Sum_{l=-eps}^{eps} Pr_{m}[m = (b MOD_ADD l)]\n",
       "   core type: Operation\n",
       "   operator: 1\n",
       "   operand: 2\n",
       "1. Sum\n",
       "   core type: Literal\n",
       "   sub-expressions: \n",
       "2. l -> {Pr_{m}[m = (b MOD_ADD l)] if l in {-eps...eps}.\n",
       "   core type: Lambda\n",
       "   parameter: 24\n",
       "   body: 3\n",
       "3. {Pr_{m}[m = (b MOD_ADD l)] if l in {-eps...eps}.\n",
       "   core type: Conditional\n",
       "   value: 4\n",
       "   condition: 5\n",
       "4. Pr_{m}[m = (b MOD_ADD l)]\n",
       "   core type: Operation\n",
       "   operator: 6\n",
       "   operands: 7\n",
       "5. l in {-eps...eps}\n",
       "   core type: Operation\n",
       "   operator: 8\n",
       "   operands: 9\n",
       "6. PROB\n",
       "   core type: Literal\n",
       "   sub-expressions: \n",
       "7. (m = (b MOD_ADD l), m)\n",
       "   core type: ExprTuple\n",
       "   sub-expressions: 10, 16\n",
       "8. in\n",
       "   core type: Literal\n",
       "   sub-expressions: \n",
       "9. (l, {-eps...eps})\n",
       "   core type: ExprTuple\n",
       "   sub-expressions: 24, 11\n",
       "10. m = (b MOD_ADD l)\n",
       "    core type: Operation\n",
       "    operator: 12\n",
       "    operands: 13\n",
       "11. {-eps...eps}\n",
       "    core type: Operation\n",
       "    operator: 14\n",
       "    operands: 15\n",
       "12. =\n",
       "    core type: Literal\n",
       "    sub-expressions: \n",
       "13. (m, b MOD_ADD l)\n",
       "    core type: ExprTuple\n",
       "    sub-expressions: 16, 17\n",
       "14. Interval\n",
       "    core type: Literal\n",
       "    sub-expressions: \n",
       "15. (-eps, eps)\n",
       "    core type: ExprTuple\n",
       "    sub-expressions: 18, 22\n",
       "16. m\n",
       "    core type: Literal\n",
       "    sub-expressions: \n",
       "17. b MOD_ADD l\n",
       "    core type: Operation\n",
       "    operator: 19\n",
       "    operands: 20\n",
       "18. -eps\n",
       "    core type: Operation\n",
       "    operator: 21\n",
       "    operand: 22\n",
       "19. MOD_ADD\n",
       "    core type: Literal\n",
       "    sub-expressions: \n",
       "20. (b, l)\n",
       "    core type: ExprTuple\n",
       "    sub-expressions: 23, 24\n",
       "21. -\n",
       "    core type: Literal\n",
       "    sub-expressions: \n",
       "22. eps\n",
       "    core type: Variable\n",
       "    sub-expressions: \n",
       "23. b\n",
       "    core type: Literal\n",
       "    sub-expressions: \n",
       "24. l\n",
       "    core type: Variable\n",
       "    sub-expressions: "
      ]
     },
     "execution_count": 5,
     "metadata": {},
     "output_type": "execute_result"
    }
   ],
   "source": [
    "# display the expression information\n",
    "expr.expr_info()"
   ]
  },
  {
   "cell_type": "code",
   "execution_count": null,
   "metadata": {},
   "outputs": [],
   "source": []
  }
 ],
 "metadata": {
  "kernelspec": {
   "display_name": "Python 3",
   "language": "python",
   "name": "python3"
  }
 },
 "nbformat": 4,
 "nbformat_minor": 0
}