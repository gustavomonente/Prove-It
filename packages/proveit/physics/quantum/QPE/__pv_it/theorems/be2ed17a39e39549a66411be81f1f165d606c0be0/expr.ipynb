{
 "cells": [
  {
   "cell_type": "markdown",
   "metadata": {},
   "source": [
    "Expression of type <a class=\"ProveItLink\" href=\"../../../../../../../../doc/html/api/proveit.Lambda.html\">Lambda</a>\n",
    "=======================\n",
    "# from the theory of <a class=\"ProveItLink\" href=\"../../../_theory_nbs_/theory.ipynb\">proveit.physics.quantum.QPE</a>"
   ]
  },
  {
   "cell_type": "code",
   "execution_count": 1,
   "metadata": {},
   "outputs": [],
   "source": [
    "import proveit\n",
    "# Automation is not needed when building an expression:\n",
    "proveit.defaults.automation = False # This will speed things up.\n",
    "proveit.defaults.inline_pngs = False # Makes files smaller.\n",
    "%load_expr # Load the stored expression as 'stored_expr'\n",
    "# import Expression classes needed to build the expression\n",
    "from proveit import Conditional, Lambda, l\n",
    "from proveit.logic import InSet\n",
    "from proveit.numbers import Add, IntervalCO, Neg, frac, one, two\n",
    "from proveit.physics.quantum.QPE import delta_, full_domain, two_pow_t"
   ]
  },
  {
   "cell_type": "code",
   "execution_count": 2,
   "metadata": {},
   "outputs": [
    {
     "data": {
      "text/html": [
       "<strong id=\"expr\">expr:</strong> <a class=\"ProveItLink\" href=\"expr.ipynb\"><img src=\"expr.png\" style=\"display:inline;vertical-align:middle;\" /></a><br>"
      ],
      "text/plain": [
       "expr: l -> {(delta - (l / 2^{t})) in [-(1 / 2),1 / 2) if l in {-2^{t - 1} + 1...2^{t - 1}}."
      ]
     },
     "execution_count": 2,
     "metadata": {},
     "output_type": "execute_result"
    }
   ],
   "source": [
    "# build up the expression from sub-expressions\n",
    "sub_expr1 = frac(one, two)\n",
    "expr = Lambda(l, Conditional(InSet(Add(delta_, Neg(frac(l, two_pow_t))), IntervalCO(Neg(sub_expr1), sub_expr1)), InSet(l, full_domain)))"
   ]
  },
  {
   "cell_type": "code",
   "execution_count": 3,
   "metadata": {},
   "outputs": [
    {
     "name": "stdout",
     "output_type": "stream",
     "text": [
      "Passed sanity check: expr matches stored_expr\n"
     ]
    }
   ],
   "source": [
    "# check that the built expression is the same as the stored expression\n",
    "assert expr == stored_expr\n",
    "assert expr._style_id == stored_expr._style_id\n",
    "print(\"Passed sanity check: expr matches stored_expr\")"
   ]
  },
  {
   "cell_type": "code",
   "execution_count": 4,
   "metadata": {},
   "outputs": [
    {
     "name": "stdout",
     "output_type": "stream",
     "text": [
      "l \\mapsto \\left\\{\\left(\\delta - \\frac{l}{2^{t}}\\right) \\in \\left[-\\frac{1}{2},\\frac{1}{2}\\right) \\textrm{ if } l \\in \\{-2^{t - 1} + 1 \\ldots 2^{t - 1}\\}\\right..\n"
     ]
    }
   ],
   "source": [
    "# Show the LaTeX representation of the expression for convenience if you need it.\n",
    "print(expr.latex())"
   ]
  },
  {
   "cell_type": "code",
   "execution_count": 5,
   "metadata": {},
   "outputs": [
    {
     "data": {
      "text/html": [
       "no style options"
      ],
      "text/plain": [
       "no style options"
      ]
     },
     "execution_count": 5,
     "metadata": {},
     "output_type": "execute_result"
    }
   ],
   "source": [
    "expr.style_options()"
   ]
  },
  {
   "cell_type": "code",
   "execution_count": 6,
   "metadata": {},
   "outputs": [
    {
     "data": {
      "text/html": [
       "<table><tr><th>&nbsp;</th><th>core type</th><th>sub-expressions</th><th>expression</th></tr>\n",
       "<tr><td>0</td><td>Lambda</td><td>parameter:&nbsp;29<br>body:&nbsp;1<br></td><td><a class=\"ProveItLink\" href=\"expr.ipynb\"><img src=\"expr.png\" style=\"display:inline;vertical-align:middle;\" /></a></td></tr>\n",
       "<tr><td>1</td><td>Conditional</td><td>value:&nbsp;2<br>condition:&nbsp;3<br></td><td><a class=\"ProveItLink\" href=\"../7410b74228c6ad14a6364ab67045a4497a2fd4160/expr.ipynb\"><img src=\"../7410b74228c6ad14a6364ab67045a4497a2fd4160/expr.png\" style=\"display:inline;vertical-align:middle;\" /></a></td></tr>\n",
       "<tr><td>2</td><td>Operation</td><td>operator:&nbsp;5<br>operands:&nbsp;4<br></td><td><a class=\"ProveItLink\" href=\"../92c2adb9606aefdbd8ab3d8c0007a0b76bc6a13e0/expr.ipynb\"><img src=\"../92c2adb9606aefdbd8ab3d8c0007a0b76bc6a13e0/expr.png\" style=\"display:inline;vertical-align:middle;\" /></a></td></tr>\n",
       "<tr><td>3</td><td>Operation</td><td>operator:&nbsp;5<br>operands:&nbsp;6<br></td><td><a class=\"ProveItLink\" href=\"../d49f05c6f9663f40a429c12be7c853e706eed4e00/expr.ipynb\"><img src=\"../d49f05c6f9663f40a429c12be7c853e706eed4e00/expr.png\" style=\"display:inline;vertical-align:middle;\" /></a></td></tr>\n",
       "<tr><td>4</td><td>ExprTuple</td><td>7, 8</td><td><a class=\"ProveItLink\" href=\"../9d326df9b46f92f4e5613a8a01b0e3bf3d070e9c0/expr.ipynb\"><img src=\"../9d326df9b46f92f4e5613a8a01b0e3bf3d070e9c0/expr.png\" style=\"display:inline;vertical-align:middle;\" /></a></td></tr>\n",
       "<tr><td>5</td><td>Literal</td><td></td><td><a class=\"ProveItLink\" href=\"../../../../../../logic/sets/membership/__pv_it/common/7171deca84f71f47a6ec7696972d1632274a12880/expr.ipynb\"><img src=\"../../../../../../logic/sets/membership/__pv_it/common/7171deca84f71f47a6ec7696972d1632274a12880/expr.png\" style=\"display:inline;vertical-align:middle;\" /></a></td></tr>\n",
       "<tr><td>6</td><td>ExprTuple</td><td>29, 9</td><td><a class=\"ProveItLink\" href=\"../f57448764eceaed4aee93335dd396fdaf9194fee0/expr.ipynb\"><img src=\"../f57448764eceaed4aee93335dd396fdaf9194fee0/expr.png\" style=\"display:inline;vertical-align:middle;\" /></a></td></tr>\n",
       "<tr><td>7</td><td>Operation</td><td>operator:&nbsp;37<br>operands:&nbsp;10<br></td><td><a class=\"ProveItLink\" href=\"../faa39ef3bc30d29f6bf8cfe58fb66a34d48cb2a30/expr.ipynb\"><img src=\"../faa39ef3bc30d29f6bf8cfe58fb66a34d48cb2a30/expr.png\" style=\"display:inline;vertical-align:middle;\" /></a></td></tr>\n",
       "<tr><td>8</td><td>Operation</td><td>operator:&nbsp;11<br>operands:&nbsp;12<br></td><td><a class=\"ProveItLink\" href=\"../2d0b4705c58552166f798e6bbf833ed41ea72fcb0/expr.ipynb\"><img src=\"../2d0b4705c58552166f798e6bbf833ed41ea72fcb0/expr.png\" style=\"display:inline;vertical-align:middle;\" /></a></td></tr>\n",
       "<tr><td>9</td><td>Operation</td><td>operator:&nbsp;13<br>operands:&nbsp;14<br></td><td><a class=\"ProveItLink\" href=\"../../common/72e38e6f3ce32eff5feb1e6c559186b7d361dfbc0/expr.ipynb\"><img src=\"../../common/72e38e6f3ce32eff5feb1e6c559186b7d361dfbc0/expr.png\" style=\"display:inline;vertical-align:middle;\" /></a></td></tr>\n",
       "<tr><td>10</td><td>ExprTuple</td><td>15, 16</td><td><a class=\"ProveItLink\" href=\"../8ca3b74e23e678f7fd22d1905f370b62a023374b0/expr.ipynb\"><img src=\"../8ca3b74e23e678f7fd22d1905f370b62a023374b0/expr.png\" style=\"display:inline;vertical-align:middle;\" /></a></td></tr>\n",
       "<tr><td>11</td><td>Literal</td><td></td><td><a class=\"ProveItLink\" href=\"../../../../../../numbers/number_sets/real_numbers/__pv_it/common/c0e95df33c639e1a17c8abed40ec175e8dfbe9210/expr.ipynb\"><img src=\"../../../../../../numbers/number_sets/real_numbers/__pv_it/common/c0e95df33c639e1a17c8abed40ec175e8dfbe9210/expr.png\" style=\"display:inline;vertical-align:middle;\" /></a></td></tr>\n",
       "<tr><td>12</td><td>ExprTuple</td><td>17, 23</td><td><a class=\"ProveItLink\" href=\"../35d63cec0a327374ab9070530b8354ccf509ec5d0/expr.ipynb\"><img src=\"../35d63cec0a327374ab9070530b8354ccf509ec5d0/expr.png\" style=\"display:inline;vertical-align:middle;\" /></a></td></tr>\n",
       "<tr><td>13</td><td>Literal</td><td></td><td><a class=\"ProveItLink\" href=\"../../../../../../numbers/number_sets/integers/__pv_it/common/fcf0def17f5c3c84b64c959b39aed0e5dad7f3340/expr.ipynb\"><img src=\"../../../../../../numbers/number_sets/integers/__pv_it/common/fcf0def17f5c3c84b64c959b39aed0e5dad7f3340/expr.png\" style=\"display:inline;vertical-align:middle;\" /></a></td></tr>\n",
       "<tr><td>14</td><td>ExprTuple</td><td>18, 31</td><td><a class=\"ProveItLink\" href=\"../../common/52fff4702739576e7dd937ebea31e84deb843d4a0/expr.ipynb\"><img src=\"../../common/52fff4702739576e7dd937ebea31e84deb843d4a0/expr.png\" style=\"display:inline;vertical-align:middle;\" /></a></td></tr>\n",
       "<tr><td>15</td><td>Literal</td><td></td><td><a class=\"ProveItLink\" href=\"../../common/e91e9cfa9469f3503bad3b38ab53238166f5c5230/expr.ipynb\"><img src=\"../../common/e91e9cfa9469f3503bad3b38ab53238166f5c5230/expr.png\" style=\"display:inline;vertical-align:middle;\" /></a></td></tr>\n",
       "<tr><td>16</td><td>Operation</td><td>operator:&nbsp;41<br>operand:&nbsp;22<br></td><td><a class=\"ProveItLink\" href=\"../0bf3f8702674321c31f7e19fbb99f6c4850702e60/expr.ipynb\"><img src=\"../0bf3f8702674321c31f7e19fbb99f6c4850702e60/expr.png\" style=\"display:inline;vertical-align:middle;\" /></a></td></tr>\n",
       "<tr><td>17</td><td>Operation</td><td>operator:&nbsp;41<br>operand:&nbsp;23<br></td><td><a class=\"ProveItLink\" href=\"../6c4e4052c6a3a83913f3a7112e6e7a2bb6b5dbef0/expr.ipynb\"><img src=\"../6c4e4052c6a3a83913f3a7112e6e7a2bb6b5dbef0/expr.png\" style=\"display:inline;vertical-align:middle;\" /></a></td></tr>\n",
       "<tr><td>18</td><td>Operation</td><td>operator:&nbsp;37<br>operands:&nbsp;21<br></td><td><a class=\"ProveItLink\" href=\"../../common/23454c9d18a86cc328c1e64d5450b9b741ba17e20/expr.ipynb\"><img src=\"../../common/23454c9d18a86cc328c1e64d5450b9b741ba17e20/expr.png\" style=\"display:inline;vertical-align:middle;\" /></a></td></tr>\n",
       "<tr><td>19</td><td>ExprTuple</td><td>22</td><td><a class=\"ProveItLink\" href=\"../0109f0907169b9064fa87f92bcc9a90f2462fef50/expr.ipynb\"><img src=\"../0109f0907169b9064fa87f92bcc9a90f2462fef50/expr.png\" style=\"display:inline;vertical-align:middle;\" /></a></td></tr>\n",
       "<tr><td>20</td><td>ExprTuple</td><td>23</td><td><a class=\"ProveItLink\" href=\"../d32b3bf2e5fb4760f5408c60ce4954f390dca1880/expr.ipynb\"><img src=\"../d32b3bf2e5fb4760f5408c60ce4954f390dca1880/expr.png\" style=\"display:inline;vertical-align:middle;\" /></a></td></tr>\n",
       "<tr><td>21</td><td>ExprTuple</td><td>24, 43</td><td><a class=\"ProveItLink\" href=\"../../common/d473ebf4b0efe9db202f06279632c83cd6a4ed090/expr.ipynb\"><img src=\"../../common/d473ebf4b0efe9db202f06279632c83cd6a4ed090/expr.png\" style=\"display:inline;vertical-align:middle;\" /></a></td></tr>\n",
       "<tr><td>22</td><td>Operation</td><td>operator:&nbsp;26<br>operands:&nbsp;25<br></td><td><a class=\"ProveItLink\" href=\"../ee6cb56528a1f78efc7f28ea45bb26f1219185da0/expr.ipynb\"><img src=\"../ee6cb56528a1f78efc7f28ea45bb26f1219185da0/expr.png\" style=\"display:inline;vertical-align:middle;\" /></a></td></tr>\n",
       "<tr><td>23</td><td>Operation</td><td>operator:&nbsp;26<br>operands:&nbsp;27<br></td><td><a class=\"ProveItLink\" href=\"../../../../__pv_it/common/aa547f88216e68e08c946bb8fdc4d68b926388850/expr.ipynb\"><img src=\"../../../../__pv_it/common/aa547f88216e68e08c946bb8fdc4d68b926388850/expr.png\" style=\"display:inline;vertical-align:middle;\" /></a></td></tr>\n",
       "<tr><td>24</td><td>Operation</td><td>operator:&nbsp;41<br>operand:&nbsp;31<br></td><td><a class=\"ProveItLink\" href=\"../../common/97f4bed0136aaed595b0c2707f8b733a3e18c7b10/expr.ipynb\"><img src=\"../../common/97f4bed0136aaed595b0c2707f8b733a3e18c7b10/expr.png\" style=\"display:inline;vertical-align:middle;\" /></a></td></tr>\n",
       "<tr><td>25</td><td>ExprTuple</td><td>29, 30</td><td><a class=\"ProveItLink\" href=\"../7df35fb4622c7c2639a882dc6cdad42a5ed5b7450/expr.ipynb\"><img src=\"../7df35fb4622c7c2639a882dc6cdad42a5ed5b7450/expr.png\" style=\"display:inline;vertical-align:middle;\" /></a></td></tr>\n",
       "<tr><td>26</td><td>Literal</td><td></td><td><a class=\"ProveItLink\" href=\"../../../../../../numbers/division/__pv_it/common/9ecc1ae47b83f7ed759e5ea63a2023a8f2ab04800/expr.ipynb\"><img src=\"../../../../../../numbers/division/__pv_it/common/9ecc1ae47b83f7ed759e5ea63a2023a8f2ab04800/expr.png\" style=\"display:inline;vertical-align:middle;\" /></a></td></tr>\n",
       "<tr><td>27</td><td>ExprTuple</td><td>43, 35</td><td><a class=\"ProveItLink\" href=\"../../../../__pv_it/common/b6dda0abe24a4592fb130c02ca5a89c1328050430/expr.ipynb\"><img src=\"../../../../__pv_it/common/b6dda0abe24a4592fb130c02ca5a89c1328050430/expr.png\" style=\"display:inline;vertical-align:middle;\" /></a></td></tr>\n",
       "<tr><td>28</td><td>ExprTuple</td><td>31</td><td><a class=\"ProveItLink\" href=\"../../common/b0ba8ab219ddbdc9f910b2a6d05b9f4036a8538e0/expr.ipynb\"><img src=\"../../common/b0ba8ab219ddbdc9f910b2a6d05b9f4036a8538e0/expr.png\" style=\"display:inline;vertical-align:middle;\" /></a></td></tr>\n",
       "<tr><td>29</td><td>Variable</td><td></td><td><a class=\"ProveItLink\" href=\"../../../../../../__pv_it/common/5f60d32873626c7ce57e35d1d9e427fb112cfe7a0/expr.ipynb\"><img src=\"../../../../../../__pv_it/common/5f60d32873626c7ce57e35d1d9e427fb112cfe7a0/expr.png\" style=\"display:inline;vertical-align:middle;\" /></a></td></tr>\n",
       "<tr><td>30</td><td>Operation</td><td>operator:&nbsp;33<br>operands:&nbsp;32<br></td><td><a class=\"ProveItLink\" href=\"../../common/457b0dff65b633b4c78260366925739952a96c890/expr.ipynb\"><img src=\"../../common/457b0dff65b633b4c78260366925739952a96c890/expr.png\" style=\"display:inline;vertical-align:middle;\" /></a></td></tr>\n",
       "<tr><td>31</td><td>Operation</td><td>operator:&nbsp;33<br>operands:&nbsp;34<br></td><td><a class=\"ProveItLink\" href=\"../../common/0792a1d5c4681297bfa0e77c90b2569914aae74f0/expr.ipynb\"><img src=\"../../common/0792a1d5c4681297bfa0e77c90b2569914aae74f0/expr.png\" style=\"display:inline;vertical-align:middle;\" /></a></td></tr>\n",
       "<tr><td>32</td><td>ExprTuple</td><td>35, 39</td><td><a class=\"ProveItLink\" href=\"../../common/dfb548d7806faf732c1098b1ba9dc3cc77d363740/expr.ipynb\"><img src=\"../../common/dfb548d7806faf732c1098b1ba9dc3cc77d363740/expr.png\" style=\"display:inline;vertical-align:middle;\" /></a></td></tr>\n",
       "<tr><td>33</td><td>Literal</td><td></td><td><a class=\"ProveItLink\" href=\"../../../../../../numbers/exponentiation/__pv_it/common/31d1b89e3c2fad7d997556c69b6be6425b6f59a40/expr.ipynb\"><img src=\"../../../../../../numbers/exponentiation/__pv_it/common/31d1b89e3c2fad7d997556c69b6be6425b6f59a40/expr.png\" style=\"display:inline;vertical-align:middle;\" /></a></td></tr>\n",
       "<tr><td>34</td><td>ExprTuple</td><td>35, 36</td><td><a class=\"ProveItLink\" href=\"../../common/4f96f4a928cdb57c599341d749f9e84260c40fdd0/expr.ipynb\"><img src=\"../../common/4f96f4a928cdb57c599341d749f9e84260c40fdd0/expr.png\" style=\"display:inline;vertical-align:middle;\" /></a></td></tr>\n",
       "<tr><td>35</td><td>Literal</td><td></td><td><a class=\"ProveItLink\" href=\"../../../../../../numbers/numerals/__pv_it/common/3829356ce3fdf8f35810c63c00bc1a19e838663e0/expr.ipynb\"><img src=\"../../../../../../numbers/numerals/__pv_it/common/3829356ce3fdf8f35810c63c00bc1a19e838663e0/expr.png\" style=\"display:inline;vertical-align:middle;\" /></a></td></tr>\n",
       "<tr><td>36</td><td>Operation</td><td>operator:&nbsp;37<br>operands:&nbsp;38<br></td><td><a class=\"ProveItLink\" href=\"../../common/2bd9790a8ceb0cbaa297908b29d1d26135fb49df0/expr.ipynb\"><img src=\"../../common/2bd9790a8ceb0cbaa297908b29d1d26135fb49df0/expr.png\" style=\"display:inline;vertical-align:middle;\" /></a></td></tr>\n",
       "<tr><td>37</td><td>Literal</td><td></td><td><a class=\"ProveItLink\" href=\"../../../../../../numbers/addition/__pv_it/common/1f38fe5cce441387feef296e2c0a2eac260bb4f30/expr.ipynb\"><img src=\"../../../../../../numbers/addition/__pv_it/common/1f38fe5cce441387feef296e2c0a2eac260bb4f30/expr.png\" style=\"display:inline;vertical-align:middle;\" /></a></td></tr>\n",
       "<tr><td>38</td><td>ExprTuple</td><td>39, 40</td><td><a class=\"ProveItLink\" href=\"../../common/228a84a9850aca6e9a3f2ee00bbfb728e8599f670/expr.ipynb\"><img src=\"../../common/228a84a9850aca6e9a3f2ee00bbfb728e8599f670/expr.png\" style=\"display:inline;vertical-align:middle;\" /></a></td></tr>\n",
       "<tr><td>39</td><td>Literal</td><td></td><td><a class=\"ProveItLink\" href=\"../../common/39c1d684e38b5dd4cd200cf6f134282993af2c0b0/expr.ipynb\"><img src=\"../../common/39c1d684e38b5dd4cd200cf6f134282993af2c0b0/expr.png\" style=\"display:inline;vertical-align:middle;\" /></a></td></tr>\n",
       "<tr><td>40</td><td>Operation</td><td>operator:&nbsp;41<br>operand:&nbsp;43<br></td><td><a class=\"ProveItLink\" href=\"../../common/194689aa2092eb5e83b339e69e1c112868251dd50/expr.ipynb\"><img src=\"../../common/194689aa2092eb5e83b339e69e1c112868251dd50/expr.png\" style=\"display:inline;vertical-align:middle;\" /></a></td></tr>\n",
       "<tr><td>41</td><td>Literal</td><td></td><td><a class=\"ProveItLink\" href=\"../../../../../../numbers/negation/__pv_it/common/31a69a5c76809537045e3884859f178d8d9c845c0/expr.ipynb\"><img src=\"../../../../../../numbers/negation/__pv_it/common/31a69a5c76809537045e3884859f178d8d9c845c0/expr.png\" style=\"display:inline;vertical-align:middle;\" /></a></td></tr>\n",
       "<tr><td>42</td><td>ExprTuple</td><td>43</td><td><a class=\"ProveItLink\" href=\"../../common/983fb1abdb7789966ec8b7afe0d4f7ca8578c9e50/expr.ipynb\"><img src=\"../../common/983fb1abdb7789966ec8b7afe0d4f7ca8578c9e50/expr.png\" style=\"display:inline;vertical-align:middle;\" /></a></td></tr>\n",
       "<tr><td>43</td><td>Literal</td><td></td><td><a class=\"ProveItLink\" href=\"../../../../../../numbers/numerals/__pv_it/common/d278e359da0695d9652dd541d45264f93703e2e40/expr.ipynb\"><img src=\"../../../../../../numbers/numerals/__pv_it/common/d278e359da0695d9652dd541d45264f93703e2e40/expr.png\" style=\"display:inline;vertical-align:middle;\" /></a></td></tr>\n",
       "</table>\n"
      ],
      "text/plain": [
       "0. l -> {(delta - (l / 2^{t})) in [-(1 / 2),1 / 2) if l in {-2^{t - 1} + 1...2^{t - 1}}.\n",
       "   core type: Lambda\n",
       "   parameter: 29\n",
       "   body: 1\n",
       "1. {(delta - (l / 2^{t})) in [-(1 / 2),1 / 2) if l in {-2^{t - 1} + 1...2^{t - 1}}.\n",
       "   core type: Conditional\n",
       "   value: 2\n",
       "   condition: 3\n",
       "2. (delta - (l / 2^{t})) in [-(1 / 2),1 / 2)\n",
       "   core type: Operation\n",
       "   operator: 5\n",
       "   operands: 4\n",
       "3. l in {-2^{t - 1} + 1...2^{t - 1}}\n",
       "   core type: Operation\n",
       "   operator: 5\n",
       "   operands: 6\n",
       "4. (delta - (l / 2^{t}), [-(1 / 2),1 / 2))\n",
       "   core type: ExprTuple\n",
       "   sub-expressions: 7, 8\n",
       "5. in\n",
       "   core type: Literal\n",
       "   sub-expressions: \n",
       "6. (l, {-2^{t - 1} + 1...2^{t - 1}})\n",
       "   core type: ExprTuple\n",
       "   sub-expressions: 29, 9\n",
       "7. delta - (l / 2^{t})\n",
       "   core type: Operation\n",
       "   operator: 37\n",
       "   operands: 10\n",
       "8. [-(1 / 2),1 / 2)\n",
       "   core type: Operation\n",
       "   operator: 11\n",
       "   operands: 12\n",
       "9. {-2^{t - 1} + 1...2^{t - 1}}\n",
       "   core type: Operation\n",
       "   operator: 13\n",
       "   operands: 14\n",
       "10. (delta, -(l / 2^{t}))\n",
       "    core type: ExprTuple\n",
       "    sub-expressions: 15, 16\n",
       "11. IntervalCO\n",
       "    core type: Literal\n",
       "    sub-expressions: \n",
       "12. (-(1 / 2), 1 / 2)\n",
       "    core type: ExprTuple\n",
       "    sub-expressions: 17, 23\n",
       "13. Interval\n",
       "    core type: Literal\n",
       "    sub-expressions: \n",
       "14. (-2^{t - 1} + 1, 2^{t - 1})\n",
       "    core type: ExprTuple\n",
       "    sub-expressions: 18, 31\n",
       "15. delta\n",
       "    core type: Literal\n",
       "    sub-expressions: \n",
       "16. -(l / 2^{t})\n",
       "    core type: Operation\n",
       "    operator: 41\n",
       "    operand: 22\n",
       "17. -(1 / 2)\n",
       "    core type: Operation\n",
       "    operator: 41\n",
       "    operand: 23\n",
       "18. -2^{t - 1} + 1\n",
       "    core type: Operation\n",
       "    operator: 37\n",
       "    operands: 21\n",
       "19. (l / 2^{t})\n",
       "    core type: ExprTuple\n",
       "    sub-expressions: 22\n",
       "20. (1 / 2)\n",
       "    core type: ExprTuple\n",
       "    sub-expressions: 23\n",
       "21. (-2^{t - 1}, 1)\n",
       "    core type: ExprTuple\n",
       "    sub-expressions: 24, 43\n",
       "22. l / 2^{t}\n",
       "    core type: Operation\n",
       "    operator: 26\n",
       "    operands: 25\n",
       "23. 1 / 2\n",
       "    core type: Operation\n",
       "    operator: 26\n",
       "    operands: 27\n",
       "24. -2^{t - 1}\n",
       "    core type: Operation\n",
       "    operator: 41\n",
       "    operand: 31\n",
       "25. (l, 2^{t})\n",
       "    core type: ExprTuple\n",
       "    sub-expressions: 29, 30\n",
       "26. /\n",
       "    core type: Literal\n",
       "    sub-expressions: \n",
       "27. (1, 2)\n",
       "    core type: ExprTuple\n",
       "    sub-expressions: 43, 35\n",
       "28. (2^{t - 1})\n",
       "    core type: ExprTuple\n",
       "    sub-expressions: 31\n",
       "29. l\n",
       "    core type: Variable\n",
       "    sub-expressions: \n",
       "30. 2^{t}\n",
       "    core type: Operation\n",
       "    operator: 33\n",
       "    operands: 32\n",
       "31. 2^{t - 1}\n",
       "    core type: Operation\n",
       "    operator: 33\n",
       "    operands: 34\n",
       "32. (2, t)\n",
       "    core type: ExprTuple\n",
       "    sub-expressions: 35, 39\n",
       "33. Exp\n",
       "    core type: Literal\n",
       "    sub-expressions: \n",
       "34. (2, t - 1)\n",
       "    core type: ExprTuple\n",
       "    sub-expressions: 35, 36\n",
       "35. 2\n",
       "    core type: Literal\n",
       "    sub-expressions: \n",
       "36. t - 1\n",
       "    core type: Operation\n",
       "    operator: 37\n",
       "    operands: 38\n",
       "37. +\n",
       "    core type: Literal\n",
       "    sub-expressions: \n",
       "38. (t, -1)\n",
       "    core type: ExprTuple\n",
       "    sub-expressions: 39, 40\n",
       "39. t\n",
       "    core type: Literal\n",
       "    sub-expressions: \n",
       "40. -1\n",
       "    core type: Operation\n",
       "    operator: 41\n",
       "    operand: 43\n",
       "41. -\n",
       "    core type: Literal\n",
       "    sub-expressions: \n",
       "42. (1)\n",
       "    core type: ExprTuple\n",
       "    sub-expressions: 43\n",
       "43. 1\n",
       "    core type: Literal\n",
       "    sub-expressions: "
      ]
     },
     "execution_count": 6,
     "metadata": {},
     "output_type": "execute_result"
    }
   ],
   "source": [
    "# display the expression information\n",
    "expr.expr_info()"
   ]
  },
  {
   "cell_type": "code",
   "execution_count": null,
   "metadata": {},
   "outputs": [],
   "source": []
  }
 ],
 "metadata": {
  "kernelspec": {
   "display_name": "Python 3",
   "language": "python",
   "name": "python3"
  }
 },
 "nbformat": 4,
 "nbformat_minor": 0
}