{
 "cells": [
  {
   "cell_type": "markdown",
   "metadata": {},
   "source": [
    "Expression of type <a class=\"ProveItLink\" href=\"../../../../../../../../doc/html/api/proveit.numbers.LessEq.html\">LessEq</a>\n",
    "=======================\n",
    "# from the theory of <a class=\"ProveItLink\" href=\"../../../_theory_nbs_/theory.ipynb\">proveit.physics.quantum.QPE</a>"
   ]
  },
  {
   "cell_type": "code",
   "execution_count": 1,
   "metadata": {},
   "outputs": [],
   "source": [
    "import proveit\n",
    "# Automation is not needed when building an expression:\n",
    "proveit.defaults.automation = False # This will speed things up.\n",
    "proveit.defaults.inline_pngs = False # Makes files smaller.\n",
    "%load_expr # Load the stored expression as 'stored_expr'\n",
    "# import Expression classes needed to build the expression\n",
    "from proveit.numbers import Exp, LessEq, Mult, four, frac, one, two\n",
    "from proveit.physics.quantum.QPE import alpha_l_sqrd, diff_l_scaled_delta"
   ]
  },
  {
   "cell_type": "code",
   "execution_count": 2,
   "metadata": {},
   "outputs": [
    {
     "data": {
      "text/html": [
       "<strong id=\"expr\">expr:</strong> <a class=\"ProveItLink\" href=\"expr.ipynb\"><img src=\"expr.png\" style=\"display:inline;vertical-align:middle;\" /></a><br>"
      ],
      "text/plain": [
       "expr: |alpha_{l}|^{2} <= (1 / (4 * (l - (2^{t} * delta))^{2}))"
      ]
     },
     "execution_count": 2,
     "metadata": {},
     "output_type": "execute_result"
    }
   ],
   "source": [
    "# build up the expression from sub-expressions\n",
    "expr = LessEq(alpha_l_sqrd, frac(one, Mult(four, Exp(diff_l_scaled_delta, two))))"
   ]
  },
  {
   "cell_type": "code",
   "execution_count": 3,
   "metadata": {},
   "outputs": [
    {
     "name": "stdout",
     "output_type": "stream",
     "text": [
      "Passed sanity check: expr matches stored_expr\n"
     ]
    }
   ],
   "source": [
    "# check that the built expression is the same as the stored expression\n",
    "assert expr == stored_expr\n",
    "assert expr._style_id == stored_expr._style_id\n",
    "print(\"Passed sanity check: expr matches stored_expr\")"
   ]
  },
  {
   "cell_type": "code",
   "execution_count": 4,
   "metadata": {},
   "outputs": [
    {
     "name": "stdout",
     "output_type": "stream",
     "text": [
      "\\left|\\alpha_{l}\\right|^{2} \\leq \\frac{1}{4 \\cdot \\left(l - \\left(2^{t} \\cdot \\delta\\right)\\right)^{2}}\n"
     ]
    }
   ],
   "source": [
    "# Show the LaTeX representation of the expression for convenience if you need it.\n",
    "print(expr.latex())"
   ]
  },
  {
   "cell_type": "code",
   "execution_count": 5,
   "metadata": {},
   "outputs": [
    {
     "data": {
      "text/html": [
       "<table>\n",
       "<tr><th>name</th><th>description</th><th>default</th><th>current value</th><th>related methods</th></tr><tr><td>operation</td><td>'infix' or 'function' style formatting</td><td>infix</td><td>infix</td><td></td></tr>\n",
       "<tr><td>wrap_positions</td><td>position(s) at which wrapping is to occur; '2 n - 1' is after the nth operand, '2 n' is after the nth operation.</td><td>()</td><td>()</td><td>('with_wrapping_at', 'with_wrap_before_operator', 'with_wrap_after_operator', 'wrap_positions')</td></tr>\n",
       "<tr><td>justification</td><td>if any wrap positions are set, justify to the 'left', 'center', or 'right'</td><td>center</td><td>center</td><td>('with_justification',)</td></tr>\n",
       "<tr><td>direction</td><td>Direction of the relation (normal or reversed)</td><td>normal</td><td>normal</td><td>('with_direction_reversed', 'is_reversed')</td></tr>\n",
       "</table>\n"
      ],
      "text/plain": [
       "style name: operation\n",
       "description: 'infix' or 'function' style formatting\n",
       "default: infix\n",
       "current value: infix\n",
       "related methods: ()\n",
       "style name: wrap_positions\n",
       "description: position(s) at which wrapping is to occur; '2 n - 1' is after the nth operand, '2 n' is after the nth operation.\n",
       "default: ()\n",
       "current value: ()\n",
       "related methods: ('with_wrapping_at', 'with_wrap_before_operator', 'with_wrap_after_operator', 'wrap_positions')\n",
       "style name: justification\n",
       "description: if any wrap positions are set, justify to the 'left', 'center', or 'right'\n",
       "default: center\n",
       "current value: center\n",
       "related methods: ('with_justification',)\n",
       "style name: direction\n",
       "description: Direction of the relation (normal or reversed)\n",
       "default: normal\n",
       "current value: normal\n",
       "related methods: ('with_direction_reversed', 'is_reversed')"
      ]
     },
     "execution_count": 5,
     "metadata": {},
     "output_type": "execute_result"
    }
   ],
   "source": [
    "expr.style_options()"
   ]
  },
  {
   "cell_type": "code",
   "execution_count": 6,
   "metadata": {},
   "outputs": [
    {
     "data": {
      "text/html": [
       "<table><tr><th>&nbsp;</th><th>core type</th><th>sub-expressions</th><th>expression</th></tr>\n",
       "<tr><td>0</td><td>Operation</td><td>operator:&nbsp;1<br>operands:&nbsp;2<br></td><td><a class=\"ProveItLink\" href=\"expr.ipynb\"><img src=\"expr.png\" style=\"display:inline;vertical-align:middle;\" /></a></td></tr>\n",
       "<tr><td>1</td><td>Literal</td><td></td><td><a class=\"ProveItLink\" href=\"../../../../../../numbers/ordering/__pv_it/common/b7491c9b87613cffc9e4ec0625a0f1afacbe2cbd0/expr.ipynb\"><img src=\"../../../../../../numbers/ordering/__pv_it/common/b7491c9b87613cffc9e4ec0625a0f1afacbe2cbd0/expr.png\" style=\"display:inline;vertical-align:middle;\" /></a></td></tr>\n",
       "<tr><td>2</td><td>ExprTuple</td><td>3, 4</td><td><a class=\"ProveItLink\" href=\"../45ff166fcf4db7ac6139614f2b3cdac559dd4e3c0/expr.ipynb\"><img src=\"../45ff166fcf4db7ac6139614f2b3cdac559dd4e3c0/expr.png\" style=\"display:inline;vertical-align:middle;\" /></a></td></tr>\n",
       "<tr><td>3</td><td>Operation</td><td>operator:&nbsp;33<br>operands:&nbsp;5<br></td><td><a class=\"ProveItLink\" href=\"../../common/5bd448a11909ad59da0b9be207fcde8c4ebfaf2c0/expr.ipynb\"><img src=\"../../common/5bd448a11909ad59da0b9be207fcde8c4ebfaf2c0/expr.png\" style=\"display:inline;vertical-align:middle;\" /></a></td></tr>\n",
       "<tr><td>4</td><td>Operation</td><td>operator:&nbsp;6<br>operands:&nbsp;7<br></td><td><a class=\"ProveItLink\" href=\"../ff184c294b4d00bac7717d9672ea857cf6cd58020/expr.ipynb\"><img src=\"../ff184c294b4d00bac7717d9672ea857cf6cd58020/expr.png\" style=\"display:inline;vertical-align:middle;\" /></a></td></tr>\n",
       "<tr><td>5</td><td>ExprTuple</td><td>8, 35</td><td><a class=\"ProveItLink\" href=\"../../common/c5966987279cc51483c7bc3e8995e392228db7510/expr.ipynb\"><img src=\"../../common/c5966987279cc51483c7bc3e8995e392228db7510/expr.png\" style=\"display:inline;vertical-align:middle;\" /></a></td></tr>\n",
       "<tr><td>6</td><td>Literal</td><td></td><td><a class=\"ProveItLink\" href=\"../../../../../../numbers/division/__pv_it/common/9ecc1ae47b83f7ed759e5ea63a2023a8f2ab04800/expr.ipynb\"><img src=\"../../../../../../numbers/division/__pv_it/common/9ecc1ae47b83f7ed759e5ea63a2023a8f2ab04800/expr.png\" style=\"display:inline;vertical-align:middle;\" /></a></td></tr>\n",
       "<tr><td>7</td><td>ExprTuple</td><td>9, 10</td><td><a class=\"ProveItLink\" href=\"../760745b44c2e6254f52d0c3214ce3063232717450/expr.ipynb\"><img src=\"../760745b44c2e6254f52d0c3214ce3063232717450/expr.png\" style=\"display:inline;vertical-align:middle;\" /></a></td></tr>\n",
       "<tr><td>8</td><td>Operation</td><td>operator:&nbsp;11<br>operand:&nbsp;14<br></td><td><a class=\"ProveItLink\" href=\"../../common/e076726c4694107586863837dea7ffa3c5c671440/expr.ipynb\"><img src=\"../../common/e076726c4694107586863837dea7ffa3c5c671440/expr.png\" style=\"display:inline;vertical-align:middle;\" /></a></td></tr>\n",
       "<tr><td>9</td><td>Literal</td><td></td><td><a class=\"ProveItLink\" href=\"../../../../../../numbers/numerals/__pv_it/common/d278e359da0695d9652dd541d45264f93703e2e40/expr.ipynb\"><img src=\"../../../../../../numbers/numerals/__pv_it/common/d278e359da0695d9652dd541d45264f93703e2e40/expr.png\" style=\"display:inline;vertical-align:middle;\" /></a></td></tr>\n",
       "<tr><td>10</td><td>Operation</td><td>operator:&nbsp;29<br>operands:&nbsp;13<br></td><td><a class=\"ProveItLink\" href=\"../01b90a811e57163b8df0f905ea661a8fc70243d40/expr.ipynb\"><img src=\"../01b90a811e57163b8df0f905ea661a8fc70243d40/expr.png\" style=\"display:inline;vertical-align:middle;\" /></a></td></tr>\n",
       "<tr><td>11</td><td>Literal</td><td></td><td><a class=\"ProveItLink\" href=\"../../../../../../numbers/absolute_value/__pv_it/common/6430f141f5f0b9665d136ab5dd21c24f48b3a19c0/expr.ipynb\"><img src=\"../../../../../../numbers/absolute_value/__pv_it/common/6430f141f5f0b9665d136ab5dd21c24f48b3a19c0/expr.png\" style=\"display:inline;vertical-align:middle;\" /></a></td></tr>\n",
       "<tr><td>12</td><td>ExprTuple</td><td>14</td><td><a class=\"ProveItLink\" href=\"../../common/6cdd4b022c583118eb1bae82ab918d0c32c4ea470/expr.ipynb\"><img src=\"../../common/6cdd4b022c583118eb1bae82ab918d0c32c4ea470/expr.png\" style=\"display:inline;vertical-align:middle;\" /></a></td></tr>\n",
       "<tr><td>13</td><td>ExprTuple</td><td>15, 16</td><td><a class=\"ProveItLink\" href=\"../d348f67aa7bffb1d75a56f91b9395010dad5901a0/expr.ipynb\"><img src=\"../d348f67aa7bffb1d75a56f91b9395010dad5901a0/expr.png\" style=\"display:inline;vertical-align:middle;\" /></a></td></tr>\n",
       "<tr><td>14</td><td>Operation</td><td>operator:&nbsp;17<br>operands:&nbsp;18<br></td><td><a class=\"ProveItLink\" href=\"../../common/6b6693d7e7da3a9b576b0b96afc4cef1f41a7eaa0/expr.ipynb\"><img src=\"../../common/6b6693d7e7da3a9b576b0b96afc4cef1f41a7eaa0/expr.png\" style=\"display:inline;vertical-align:middle;\" /></a></td></tr>\n",
       "<tr><td>15</td><td>Literal</td><td></td><td><a class=\"ProveItLink\" href=\"../../../../../../numbers/numerals/__pv_it/common/de8f3e06d530f467e73bdbc965d9d86fa0f1b0db0/expr.ipynb\"><img src=\"../../../../../../numbers/numerals/__pv_it/common/de8f3e06d530f467e73bdbc965d9d86fa0f1b0db0/expr.png\" style=\"display:inline;vertical-align:middle;\" /></a></td></tr>\n",
       "<tr><td>16</td><td>Operation</td><td>operator:&nbsp;33<br>operands:&nbsp;19<br></td><td><a class=\"ProveItLink\" href=\"../c5419db7230afcd4b7c934a367ae86f5a53491ce0/expr.ipynb\"><img src=\"../c5419db7230afcd4b7c934a367ae86f5a53491ce0/expr.png\" style=\"display:inline;vertical-align:middle;\" /></a></td></tr>\n",
       "<tr><td>17</td><td>Literal</td><td></td><td><a class=\"ProveItLink\" href=\"../../common/fa834395d810710d865bb8379bdb0806d419db9b0/expr.ipynb\"><img src=\"../../common/fa834395d810710d865bb8379bdb0806d419db9b0/expr.png\" style=\"display:inline;vertical-align:middle;\" /></a></td></tr>\n",
       "<tr><td>18</td><td>ExprTuple</td><td>20, 24</td><td><a class=\"ProveItLink\" href=\"../../common/5f9bd56a9598af524f3e0df967b7d94242573db80/expr.ipynb\"><img src=\"../../common/5f9bd56a9598af524f3e0df967b7d94242573db80/expr.png\" style=\"display:inline;vertical-align:middle;\" /></a></td></tr>\n",
       "<tr><td>19</td><td>ExprTuple</td><td>21, 35</td><td><a class=\"ProveItLink\" href=\"../960870ed5b3e88f628763915888cec407454327a0/expr.ipynb\"><img src=\"../960870ed5b3e88f628763915888cec407454327a0/expr.png\" style=\"display:inline;vertical-align:middle;\" /></a></td></tr>\n",
       "<tr><td>20</td><td>Literal</td><td></td><td><a class=\"ProveItLink\" href=\"../../common/7e436a3cff4097047049586cee08457d5f001a270/expr.ipynb\"><img src=\"../../common/7e436a3cff4097047049586cee08457d5f001a270/expr.png\" style=\"display:inline;vertical-align:middle;\" /></a></td></tr>\n",
       "<tr><td>21</td><td>Operation</td><td>operator:&nbsp;22<br>operands:&nbsp;23<br></td><td><a class=\"ProveItLink\" href=\"../../common/661f28f85b0635e7e7acaccaa1d5deeda1b8e4e10/expr.ipynb\"><img src=\"../../common/661f28f85b0635e7e7acaccaa1d5deeda1b8e4e10/expr.png\" style=\"display:inline;vertical-align:middle;\" /></a></td></tr>\n",
       "<tr><td>22</td><td>Literal</td><td></td><td><a class=\"ProveItLink\" href=\"../../../../../../numbers/addition/__pv_it/common/1f38fe5cce441387feef296e2c0a2eac260bb4f30/expr.ipynb\"><img src=\"../../../../../../numbers/addition/__pv_it/common/1f38fe5cce441387feef296e2c0a2eac260bb4f30/expr.png\" style=\"display:inline;vertical-align:middle;\" /></a></td></tr>\n",
       "<tr><td>23</td><td>ExprTuple</td><td>24, 25</td><td><a class=\"ProveItLink\" href=\"../../common/b20258319b01aadb5c36c4970bb9e60a55026acc0/expr.ipynb\"><img src=\"../../common/b20258319b01aadb5c36c4970bb9e60a55026acc0/expr.png\" style=\"display:inline;vertical-align:middle;\" /></a></td></tr>\n",
       "<tr><td>24</td><td>Variable</td><td></td><td><a class=\"ProveItLink\" href=\"../../../../../../__pv_it/common/5f60d32873626c7ce57e35d1d9e427fb112cfe7a0/expr.ipynb\"><img src=\"../../../../../../__pv_it/common/5f60d32873626c7ce57e35d1d9e427fb112cfe7a0/expr.png\" style=\"display:inline;vertical-align:middle;\" /></a></td></tr>\n",
       "<tr><td>25</td><td>Operation</td><td>operator:&nbsp;26<br>operand:&nbsp;28<br></td><td><a class=\"ProveItLink\" href=\"../../common/e34e0462b50501af8a9a9d4d289c877867141e210/expr.ipynb\"><img src=\"../../common/e34e0462b50501af8a9a9d4d289c877867141e210/expr.png\" style=\"display:inline;vertical-align:middle;\" /></a></td></tr>\n",
       "<tr><td>26</td><td>Literal</td><td></td><td><a class=\"ProveItLink\" href=\"../../../../../../numbers/negation/__pv_it/common/31a69a5c76809537045e3884859f178d8d9c845c0/expr.ipynb\"><img src=\"../../../../../../numbers/negation/__pv_it/common/31a69a5c76809537045e3884859f178d8d9c845c0/expr.png\" style=\"display:inline;vertical-align:middle;\" /></a></td></tr>\n",
       "<tr><td>27</td><td>ExprTuple</td><td>28</td><td><a class=\"ProveItLink\" href=\"../../common/914a95db840b48d227ee446e19cf9e548078bd900/expr.ipynb\"><img src=\"../../common/914a95db840b48d227ee446e19cf9e548078bd900/expr.png\" style=\"display:inline;vertical-align:middle;\" /></a></td></tr>\n",
       "<tr><td>28</td><td>Operation</td><td>operator:&nbsp;29<br>operands:&nbsp;30<br></td><td><a class=\"ProveItLink\" href=\"../../common/43922168e5cf4a7393bb1b1baec670c5676677c80/expr.ipynb\"><img src=\"../../common/43922168e5cf4a7393bb1b1baec670c5676677c80/expr.png\" style=\"display:inline;vertical-align:middle;\" /></a></td></tr>\n",
       "<tr><td>29</td><td>Literal</td><td></td><td><a class=\"ProveItLink\" href=\"../../../../../../numbers/multiplication/__pv_it/common/c57d60974865e78d434abd3ff22c405685c80ade0/expr.ipynb\"><img src=\"../../../../../../numbers/multiplication/__pv_it/common/c57d60974865e78d434abd3ff22c405685c80ade0/expr.png\" style=\"display:inline;vertical-align:middle;\" /></a></td></tr>\n",
       "<tr><td>30</td><td>ExprTuple</td><td>31, 32</td><td><a class=\"ProveItLink\" href=\"../../common/9edcdabdc62ca9442a03b509ca93d8cd9f5933610/expr.ipynb\"><img src=\"../../common/9edcdabdc62ca9442a03b509ca93d8cd9f5933610/expr.png\" style=\"display:inline;vertical-align:middle;\" /></a></td></tr>\n",
       "<tr><td>31</td><td>Operation</td><td>operator:&nbsp;33<br>operands:&nbsp;34<br></td><td><a class=\"ProveItLink\" href=\"../../common/457b0dff65b633b4c78260366925739952a96c890/expr.ipynb\"><img src=\"../../common/457b0dff65b633b4c78260366925739952a96c890/expr.png\" style=\"display:inline;vertical-align:middle;\" /></a></td></tr>\n",
       "<tr><td>32</td><td>Literal</td><td></td><td><a class=\"ProveItLink\" href=\"../../common/e91e9cfa9469f3503bad3b38ab53238166f5c5230/expr.ipynb\"><img src=\"../../common/e91e9cfa9469f3503bad3b38ab53238166f5c5230/expr.png\" style=\"display:inline;vertical-align:middle;\" /></a></td></tr>\n",
       "<tr><td>33</td><td>Literal</td><td></td><td><a class=\"ProveItLink\" href=\"../../../../../../numbers/exponentiation/__pv_it/common/31d1b89e3c2fad7d997556c69b6be6425b6f59a40/expr.ipynb\"><img src=\"../../../../../../numbers/exponentiation/__pv_it/common/31d1b89e3c2fad7d997556c69b6be6425b6f59a40/expr.png\" style=\"display:inline;vertical-align:middle;\" /></a></td></tr>\n",
       "<tr><td>34</td><td>ExprTuple</td><td>35, 36</td><td><a class=\"ProveItLink\" href=\"../../common/dfb548d7806faf732c1098b1ba9dc3cc77d363740/expr.ipynb\"><img src=\"../../common/dfb548d7806faf732c1098b1ba9dc3cc77d363740/expr.png\" style=\"display:inline;vertical-align:middle;\" /></a></td></tr>\n",
       "<tr><td>35</td><td>Literal</td><td></td><td><a class=\"ProveItLink\" href=\"../../../../../../numbers/numerals/__pv_it/common/3829356ce3fdf8f35810c63c00bc1a19e838663e0/expr.ipynb\"><img src=\"../../../../../../numbers/numerals/__pv_it/common/3829356ce3fdf8f35810c63c00bc1a19e838663e0/expr.png\" style=\"display:inline;vertical-align:middle;\" /></a></td></tr>\n",
       "<tr><td>36</td><td>Literal</td><td></td><td><a class=\"ProveItLink\" href=\"../../common/39c1d684e38b5dd4cd200cf6f134282993af2c0b0/expr.ipynb\"><img src=\"../../common/39c1d684e38b5dd4cd200cf6f134282993af2c0b0/expr.png\" style=\"display:inline;vertical-align:middle;\" /></a></td></tr>\n",
       "</table>\n"
      ],
      "text/plain": [
       "0. |alpha_{l}|^{2} <= (1 / (4 * (l - (2^{t} * delta))^{2}))\n",
       "   core type: Operation\n",
       "   operator: 1\n",
       "   operands: 2\n",
       "1. <=\n",
       "   core type: Literal\n",
       "   sub-expressions: \n",
       "2. (|alpha_{l}|^{2}, 1 / (4 * (l - (2^{t} * delta))^{2}))\n",
       "   core type: ExprTuple\n",
       "   sub-expressions: 3, 4\n",
       "3. |alpha_{l}|^{2}\n",
       "   core type: Operation\n",
       "   operator: 33\n",
       "   operands: 5\n",
       "4. 1 / (4 * (l - (2^{t} * delta))^{2})\n",
       "   core type: Operation\n",
       "   operator: 6\n",
       "   operands: 7\n",
       "5. (|alpha_{l}|, 2)\n",
       "   core type: ExprTuple\n",
       "   sub-expressions: 8, 35\n",
       "6. /\n",
       "   core type: Literal\n",
       "   sub-expressions: \n",
       "7. (1, 4 * (l - (2^{t} * delta))^{2})\n",
       "   core type: ExprTuple\n",
       "   sub-expressions: 9, 10\n",
       "8. |alpha_{l}|\n",
       "   core type: Operation\n",
       "   operator: 11\n",
       "   operand: 14\n",
       "9. 1\n",
       "   core type: Literal\n",
       "   sub-expressions: \n",
       "10. 4 * (l - (2^{t} * delta))^{2}\n",
       "    core type: Operation\n",
       "    operator: 29\n",
       "    operands: 13\n",
       "11. Abs\n",
       "    core type: Literal\n",
       "    sub-expressions: \n",
       "12. (alpha_{l})\n",
       "    core type: ExprTuple\n",
       "    sub-expressions: 14\n",
       "13. (4, (l - (2^{t} * delta))^{2})\n",
       "    core type: ExprTuple\n",
       "    sub-expressions: 15, 16\n",
       "14. alpha_{l}\n",
       "    core type: Operation\n",
       "    operator: 17\n",
       "    operands: 18\n",
       "15. 4\n",
       "    core type: Literal\n",
       "    sub-expressions: \n",
       "16. (l - (2^{t} * delta))^{2}\n",
       "    core type: Operation\n",
       "    operator: 33\n",
       "    operands: 19\n",
       "17. SUB_INDEXED\n",
       "    core type: Literal\n",
       "    sub-expressions: \n",
       "18. (alpha, l)\n",
       "    core type: ExprTuple\n",
       "    sub-expressions: 20, 24\n",
       "19. (l - (2^{t} * delta), 2)\n",
       "    core type: ExprTuple\n",
       "    sub-expressions: 21, 35\n",
       "20. alpha\n",
       "    core type: Literal\n",
       "    sub-expressions: \n",
       "21. l - (2^{t} * delta)\n",
       "    core type: Operation\n",
       "    operator: 22\n",
       "    operands: 23\n",
       "22. +\n",
       "    core type: Literal\n",
       "    sub-expressions: \n",
       "23. (l, -(2^{t} * delta))\n",
       "    core type: ExprTuple\n",
       "    sub-expressions: 24, 25\n",
       "24. l\n",
       "    core type: Variable\n",
       "    sub-expressions: \n",
       "25. -(2^{t} * delta)\n",
       "    core type: Operation\n",
       "    operator: 26\n",
       "    operand: 28\n",
       "26. -\n",
       "    core type: Literal\n",
       "    sub-expressions: \n",
       "27. (2^{t} * delta)\n",
       "    core type: ExprTuple\n",
       "    sub-expressions: 28\n",
       "28. 2^{t} * delta\n",
       "    core type: Operation\n",
       "    operator: 29\n",
       "    operands: 30\n",
       "29. *\n",
       "    core type: Literal\n",
       "    sub-expressions: \n",
       "30. (2^{t}, delta)\n",
       "    core type: ExprTuple\n",
       "    sub-expressions: 31, 32\n",
       "31. 2^{t}\n",
       "    core type: Operation\n",
       "    operator: 33\n",
       "    operands: 34\n",
       "32. delta\n",
       "    core type: Literal\n",
       "    sub-expressions: \n",
       "33. Exp\n",
       "    core type: Literal\n",
       "    sub-expressions: \n",
       "34. (2, t)\n",
       "    core type: ExprTuple\n",
       "    sub-expressions: 35, 36\n",
       "35. 2\n",
       "    core type: Literal\n",
       "    sub-expressions: \n",
       "36. t\n",
       "    core type: Literal\n",
       "    sub-expressions: "
      ]
     },
     "execution_count": 6,
     "metadata": {},
     "output_type": "execute_result"
    }
   ],
   "source": [
    "# display the expression information\n",
    "expr.expr_info()"
   ]
  },
  {
   "cell_type": "code",
   "execution_count": null,
   "metadata": {},
   "outputs": [],
   "source": []
  }
 ],
 "metadata": {
  "kernelspec": {
   "display_name": "Python 3",
   "language": "python",
   "name": "python3"
  }
 },
 "nbformat": 4,
 "nbformat_minor": 0
}