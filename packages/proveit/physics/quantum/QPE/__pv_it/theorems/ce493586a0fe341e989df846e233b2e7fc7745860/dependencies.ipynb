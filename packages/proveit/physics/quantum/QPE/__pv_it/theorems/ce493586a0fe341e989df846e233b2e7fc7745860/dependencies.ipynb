{
 "cells": [
  {
   "cell_type": "markdown",
   "metadata": {},
   "source": [
    "Theorem Dependencies\n",
    "=======================\n",
    "\n",
    "## <a class=\"ProveItLink\" href=\"../../../_theory_nbs_/theory.ipynb\">proveit.physics.quantum.QPE</a>.<a class=\"ProveItLink\" href=\"../../../_theorems_.ipynb#two_pow_t_not_zero\">two_pow_t_not_zero</a> \n",
    "***see <a class=\"ProveItLink\" href=\"../../../_theory_nbs_/proofs/two_pow_t_not_zero/thm_proof.ipynb\">proof</a>***"
   ]
  },
  {
   "cell_type": "code",
   "execution_count": 1,
   "metadata": {},
   "outputs": [],
   "source": [
    "import proveit\n",
    "# Automation is not needed when querying dependencies:\n",
    "proveit.defaults.automation = False # This will speed things up.\n",
    "proveit.defaults.inline_pngs = False # Makes files smaller.\n",
    "from proveit.physics.quantum.QPE import two_pow_t_not_zero"
   ]
  },
  {
   "cell_type": "code",
   "execution_count": 2,
   "metadata": {},
   "outputs": [
    {
     "data": {
      "text/html": [
       "<h3>Unproven conjectures required (directly or indirectly) to prove two_pow_t_not_zero</h3>"
      ],
      "text/plain": [
       "<IPython.core.display.HTML object>"
      ]
     },
     "metadata": {},
     "output_type": "display_data"
    },
    {
     "data": {
      "text/html": [
       "<dl>"
      ],
      "text/plain": [
       "<IPython.core.display.HTML object>"
      ]
     },
     "metadata": {},
     "output_type": "display_data"
    },
    {
     "data": {
      "text/html": [
       "<dt><a class=\"ProveItLink\" href=\"../../../../../../numbers/exponentiation/_theory_nbs_/proofs/exp_not_eq_zero/thm_proof.ipynb\">proveit.numbers.exponentiation.exp_not_eq_zero</a></dt><dd><a class=\"ProveItLink\" href=\"../../../../../../numbers/exponentiation/__pv_it/theorems/5072e2f80eddb26107988824763feae9195c29650/expr.ipynb\"><img src=\"../../../../../../numbers/exponentiation/__pv_it/theorems/5072e2f80eddb26107988824763feae9195c29650/expr.png\" style=\"display:inline;vertical-align:middle;\" /></a></dd>"
      ],
      "text/plain": [
       "<IPython.core.display.HTML object>"
      ]
     },
     "metadata": {},
     "output_type": "display_data"
    },
    {
     "data": {
      "text/html": [
       "<dt><a class=\"ProveItLink\" href=\"../../../../../../numbers/number_sets/complex_numbers/_theory_nbs_/proofs/real_within_complex/thm_proof.ipynb\">proveit.numbers.number_sets.complex_numbers.real_within_complex</a></dt><dd><a class=\"ProveItLink\" href=\"../../../../../../numbers/number_sets/complex_numbers/__pv_it/theorems/386e88cbf0fbcb095235f30f44b7c344a8a5a9bc0/expr.ipynb\"><img src=\"../../../../../../numbers/number_sets/complex_numbers/__pv_it/theorems/386e88cbf0fbcb095235f30f44b7c344a8a5a9bc0/expr.png\" style=\"display:inline;vertical-align:middle;\" /></a></dd>"
      ],
      "text/plain": [
       "<IPython.core.display.HTML object>"
      ]
     },
     "metadata": {},
     "output_type": "display_data"
    },
    {
     "data": {
      "text/html": [
       "<dt><a class=\"ProveItLink\" href=\"../../../../../../numbers/number_sets/integers/_theory_nbs_/proofs/nat_within_int/thm_proof.ipynb\">proveit.numbers.number_sets.integers.nat_within_int</a></dt><dd><a class=\"ProveItLink\" href=\"../../../../../../numbers/number_sets/integers/__pv_it/theorems/dd89a0f842c9f2861f516e9a182b2db243ae58e90/expr.ipynb\"><img src=\"../../../../../../numbers/number_sets/integers/__pv_it/theorems/dd89a0f842c9f2861f516e9a182b2db243ae58e90/expr.png\" style=\"display:inline;vertical-align:middle;\" /></a></dd>"
      ],
      "text/plain": [
       "<IPython.core.display.HTML object>"
      ]
     },
     "metadata": {},
     "output_type": "display_data"
    },
    {
     "data": {
      "text/html": [
       "<dt><a class=\"ProveItLink\" href=\"../../../../../../numbers/number_sets/natural_numbers/_theory_nbs_/proofs/nat_pos_within_nat/thm_proof.ipynb\">proveit.numbers.number_sets.natural_numbers.nat_pos_within_nat</a></dt><dd><a class=\"ProveItLink\" href=\"../../../../../../numbers/number_sets/natural_numbers/__pv_it/theorems/fdbeacd6e3559bfdc8c640c55cdefc0b472546c00/expr.ipynb\"><img src=\"../../../../../../numbers/number_sets/natural_numbers/__pv_it/theorems/fdbeacd6e3559bfdc8c640c55cdefc0b472546c00/expr.png\" style=\"display:inline;vertical-align:middle;\" /></a></dd>"
      ],
      "text/plain": [
       "<IPython.core.display.HTML object>"
      ]
     },
     "metadata": {},
     "output_type": "display_data"
    },
    {
     "data": {
      "text/html": [
       "<dt><a class=\"ProveItLink\" href=\"../../../../../../numbers/number_sets/rational_numbers/_theory_nbs_/proofs/int_within_rational/thm_proof.ipynb\">proveit.numbers.number_sets.rational_numbers.int_within_rational</a></dt><dd><a class=\"ProveItLink\" href=\"../../../../../../numbers/number_sets/rational_numbers/__pv_it/theorems/09e572cd1e3856733f9bd61848db8bff15c8e4260/expr.ipynb\"><img src=\"../../../../../../numbers/number_sets/rational_numbers/__pv_it/theorems/09e572cd1e3856733f9bd61848db8bff15c8e4260/expr.png\" style=\"display:inline;vertical-align:middle;\" /></a></dd>"
      ],
      "text/plain": [
       "<IPython.core.display.HTML object>"
      ]
     },
     "metadata": {},
     "output_type": "display_data"
    },
    {
     "data": {
      "text/html": [
       "<dt><a class=\"ProveItLink\" href=\"../../../../../../numbers/number_sets/rational_numbers/_theory_nbs_/proofs/zero_is_rational/thm_proof.ipynb\">proveit.numbers.number_sets.rational_numbers.zero_is_rational</a></dt><dd><a class=\"ProveItLink\" href=\"../../../../../../numbers/number_sets/rational_numbers/__pv_it/theorems/93fd2316b3658ee876c06b14a9f64eb8499621810/expr.ipynb\"><img src=\"../../../../../../numbers/number_sets/rational_numbers/__pv_it/theorems/93fd2316b3658ee876c06b14a9f64eb8499621810/expr.png\" style=\"display:inline;vertical-align:middle;\" /></a></dd>"
      ],
      "text/plain": [
       "<IPython.core.display.HTML object>"
      ]
     },
     "metadata": {},
     "output_type": "display_data"
    },
    {
     "data": {
      "text/html": [
       "<dt><a class=\"ProveItLink\" href=\"../../../../../../numbers/number_sets/real_numbers/_theory_nbs_/proofs/nat_pos_within_real_pos/thm_proof.ipynb\">proveit.numbers.number_sets.real_numbers.nat_pos_within_real_pos</a></dt><dd><a class=\"ProveItLink\" href=\"../../../../../../numbers/number_sets/real_numbers/__pv_it/theorems/77dfb1aba260e7db4c014d254feb15519844c04e0/expr.ipynb\"><img src=\"../../../../../../numbers/number_sets/real_numbers/__pv_it/theorems/77dfb1aba260e7db4c014d254feb15519844c04e0/expr.png\" style=\"display:inline;vertical-align:middle;\" /></a></dd>"
      ],
      "text/plain": [
       "<IPython.core.display.HTML object>"
      ]
     },
     "metadata": {},
     "output_type": "display_data"
    },
    {
     "data": {
      "text/html": [
       "<dt><a class=\"ProveItLink\" href=\"../../../../../../numbers/number_sets/real_numbers/_theory_nbs_/proofs/rational_within_real/thm_proof.ipynb\">proveit.numbers.number_sets.real_numbers.rational_within_real</a></dt><dd><a class=\"ProveItLink\" href=\"../../../../../../numbers/number_sets/real_numbers/__pv_it/theorems/85bdd7b2985ab2cf6bbf95f9b1dbf16c5f73731f0/expr.ipynb\"><img src=\"../../../../../../numbers/number_sets/real_numbers/__pv_it/theorems/85bdd7b2985ab2cf6bbf95f9b1dbf16c5f73731f0/expr.png\" style=\"display:inline;vertical-align:middle;\" /></a></dd>"
      ],
      "text/plain": [
       "<IPython.core.display.HTML object>"
      ]
     },
     "metadata": {},
     "output_type": "display_data"
    },
    {
     "data": {
      "text/html": [
       "<dt><a class=\"ProveItLink\" href=\"../../../../../../numbers/number_sets/real_numbers/_theory_nbs_/proofs/real_pos_within_real/thm_proof.ipynb\">proveit.numbers.number_sets.real_numbers.real_pos_within_real</a></dt><dd><a class=\"ProveItLink\" href=\"../../../../../../numbers/number_sets/real_numbers/__pv_it/theorems/efffa4c2fbda03b8f58a882317c91113fb86f8ba0/expr.ipynb\"><img src=\"../../../../../../numbers/number_sets/real_numbers/__pv_it/theorems/efffa4c2fbda03b8f58a882317c91113fb86f8ba0/expr.png\" style=\"display:inline;vertical-align:middle;\" /></a></dd>"
      ],
      "text/plain": [
       "<IPython.core.display.HTML object>"
      ]
     },
     "metadata": {},
     "output_type": "display_data"
    },
    {
     "data": {
      "text/html": [
       "<dt><a class=\"ProveItLink\" href=\"../../../../../../numbers/numerals/decimals/_theory_nbs_/proofs/posnat2/thm_proof.ipynb\">proveit.numbers.numerals.decimals.posnat2</a></dt><dd><a class=\"ProveItLink\" href=\"../../../../../../numbers/numerals/decimals/__pv_it/theorems/93960371d3014f11077b11b089e2a3a6f3652d8a0/expr.ipynb\"><img src=\"../../../../../../numbers/numerals/decimals/__pv_it/theorems/93960371d3014f11077b11b089e2a3a6f3652d8a0/expr.png\" style=\"display:inline;vertical-align:middle;\" /></a></dd>"
      ],
      "text/plain": [
       "<IPython.core.display.HTML object>"
      ]
     },
     "metadata": {},
     "output_type": "display_data"
    },
    {
     "data": {
      "text/html": [
       "<dt><a class=\"ProveItLink\" href=\"../../../../../../numbers/ordering/_theory_nbs_/proofs/less_is_not_eq/thm_proof.ipynb\">proveit.numbers.ordering.less_is_not_eq</a></dt><dd><a class=\"ProveItLink\" href=\"../../../../../../numbers/ordering/__pv_it/theorems/8199e4865514206e73185f50fdfeab2e27bb9a6c0/expr.ipynb\"><img src=\"../../../../../../numbers/ordering/__pv_it/theorems/8199e4865514206e73185f50fdfeab2e27bb9a6c0/expr.png\" style=\"display:inline;vertical-align:middle;\" /></a></dd>"
      ],
      "text/plain": [
       "<IPython.core.display.HTML object>"
      ]
     },
     "metadata": {},
     "output_type": "display_data"
    },
    {
     "data": {
      "text/html": [
       "<dt><a class=\"ProveItLink\" href=\"../../../../../../numbers/ordering/_theory_nbs_/proofs/positive_if_real_pos/thm_proof.ipynb\">proveit.numbers.ordering.positive_if_real_pos</a></dt><dd><a class=\"ProveItLink\" href=\"../../../../../../numbers/ordering/__pv_it/theorems/0b7dfe14c2a9a8793a25a98bd2cdb19adfd942130/expr.ipynb\"><img src=\"../../../../../../numbers/ordering/__pv_it/theorems/0b7dfe14c2a9a8793a25a98bd2cdb19adfd942130/expr.png\" style=\"display:inline;vertical-align:middle;\" /></a></dd>"
      ],
      "text/plain": [
       "<IPython.core.display.HTML object>"
      ]
     },
     "metadata": {},
     "output_type": "display_data"
    },
    {
     "data": {
      "text/html": [
       "</dl>"
      ],
      "text/plain": [
       "<IPython.core.display.HTML object>"
      ]
     },
     "metadata": {},
     "output_type": "display_data"
    },
    {
     "data": {
      "text/html": [
       "<h3>Axioms required (directly or indirectly) to prove two_pow_t_not_zero</h3>"
      ],
      "text/plain": [
       "<IPython.core.display.HTML object>"
      ]
     },
     "metadata": {},
     "output_type": "display_data"
    },
    {
     "data": {
      "text/html": [
       "<dl>"
      ],
      "text/plain": [
       "<IPython.core.display.HTML object>"
      ]
     },
     "metadata": {},
     "output_type": "display_data"
    },
    {
     "data": {
      "text/html": [
       "<dt><a class=\"ProveItLink\" href=\"../../../../../../logic/booleans/_theory_nbs_/axioms.ipynb#eq_true_elim\">proveit.logic.booleans.eq_true_elim</a></dt><dd><a class=\"ProveItLink\" href=\"../../../../../../logic/booleans/__pv_it/axioms/ed8b0a27c515b8c85261606f0835dadd8c8b34f70/expr.ipynb\"><img src=\"../../../../../../logic/booleans/__pv_it/axioms/ed8b0a27c515b8c85261606f0835dadd8c8b34f70/expr.png\" style=\"display:inline;vertical-align:middle;\" /></a></dd>"
      ],
      "text/plain": [
       "<IPython.core.display.HTML object>"
      ]
     },
     "metadata": {},
     "output_type": "display_data"
    },
    {
     "data": {
      "text/html": [
       "<dt><a class=\"ProveItLink\" href=\"../../../../../../logic/booleans/_theory_nbs_/axioms.ipynb#eq_true_intro\">proveit.logic.booleans.eq_true_intro</a></dt><dd><a class=\"ProveItLink\" href=\"../../../../../../logic/booleans/__pv_it/axioms/3a99d3cb7c410f4636cdc59f7b36cdf6997b37680/expr.ipynb\"><img src=\"../../../../../../logic/booleans/__pv_it/axioms/3a99d3cb7c410f4636cdc59f7b36cdf6997b37680/expr.png\" style=\"display:inline;vertical-align:middle;\" /></a></dd>"
      ],
      "text/plain": [
       "<IPython.core.display.HTML object>"
      ]
     },
     "metadata": {},
     "output_type": "display_data"
    },
    {
     "data": {
      "text/html": [
       "<dt><a class=\"ProveItLink\" href=\"../../../../../../logic/equality/_theory_nbs_/axioms.ipynb#equals_symmetry\">proveit.logic.equality.equals_symmetry</a></dt><dd><a class=\"ProveItLink\" href=\"../../../../../../logic/equality/__pv_it/axioms/34996bbbceac0f69a08b78cc992f42a548486c1c0/expr.ipynb\"><img src=\"../../../../../../logic/equality/__pv_it/axioms/34996bbbceac0f69a08b78cc992f42a548486c1c0/expr.png\" style=\"display:inline;vertical-align:middle;\" /></a></dd>"
      ],
      "text/plain": [
       "<IPython.core.display.HTML object>"
      ]
     },
     "metadata": {},
     "output_type": "display_data"
    },
    {
     "data": {
      "text/html": [
       "<dt><a class=\"ProveItLink\" href=\"../../../../../../logic/equality/_theory_nbs_/axioms.ipynb#equals_transitivity\">proveit.logic.equality.equals_transitivity</a></dt><dd><a class=\"ProveItLink\" href=\"../../../../../../logic/equality/__pv_it/axioms/fe5ecb4839370106d7aa598ff8e51b95c71757a70/expr.ipynb\"><img src=\"../../../../../../logic/equality/__pv_it/axioms/fe5ecb4839370106d7aa598ff8e51b95c71757a70/expr.png\" style=\"display:inline;vertical-align:middle;\" /></a></dd>"
      ],
      "text/plain": [
       "<IPython.core.display.HTML object>"
      ]
     },
     "metadata": {},
     "output_type": "display_data"
    },
    {
     "data": {
      "text/html": [
       "<dt><a class=\"ProveItLink\" href=\"../../../../../../logic/equality/_theory_nbs_/axioms.ipynb#not_equals_def\">proveit.logic.equality.not_equals_def</a></dt><dd><a class=\"ProveItLink\" href=\"../../../../../../logic/equality/__pv_it/axioms/15f4bc0dbe6f9cb8363f313a4b59eb995eddacaf0/expr.ipynb\"><img src=\"../../../../../../logic/equality/__pv_it/axioms/15f4bc0dbe6f9cb8363f313a4b59eb995eddacaf0/expr.png\" style=\"display:inline;vertical-align:middle;\" /></a></dd>"
      ],
      "text/plain": [
       "<IPython.core.display.HTML object>"
      ]
     },
     "metadata": {},
     "output_type": "display_data"
    },
    {
     "data": {
      "text/html": [
       "<dt><a class=\"ProveItLink\" href=\"../../../../../../logic/equality/_theory_nbs_/axioms.ipynb#substitution\">proveit.logic.equality.substitution</a></dt><dd><a class=\"ProveItLink\" href=\"../../../../../../logic/equality/__pv_it/axioms/fb5aa0007e656f471030da411c3555b23b265d8f0/expr.ipynb\"><img src=\"../../../../../../logic/equality/__pv_it/axioms/fb5aa0007e656f471030da411c3555b23b265d8f0/expr.png\" style=\"display:inline;vertical-align:middle;\" /></a></dd>"
      ],
      "text/plain": [
       "<IPython.core.display.HTML object>"
      ]
     },
     "metadata": {},
     "output_type": "display_data"
    },
    {
     "data": {
      "text/html": [
       "<dt><a class=\"ProveItLink\" href=\"../../../../../../logic/sets/inclusion/_theory_nbs_/axioms.ipynb#proper_subset_def\">proveit.logic.sets.inclusion.proper_subset_def</a></dt><dd><a class=\"ProveItLink\" href=\"../../../../../../logic/sets/inclusion/__pv_it/axioms/e95bfa29563f2d409f4f144fe6c68968590429550/expr.ipynb\"><img src=\"../../../../../../logic/sets/inclusion/__pv_it/axioms/e95bfa29563f2d409f4f144fe6c68968590429550/expr.png\" style=\"display:inline;vertical-align:middle;\" /></a></dd>"
      ],
      "text/plain": [
       "<IPython.core.display.HTML object>"
      ]
     },
     "metadata": {},
     "output_type": "display_data"
    },
    {
     "data": {
      "text/html": [
       "<dt><a class=\"ProveItLink\" href=\"../../../../../../logic/sets/inclusion/_theory_nbs_/axioms.ipynb#subset_eq_def\">proveit.logic.sets.inclusion.subset_eq_def</a></dt><dd><a class=\"ProveItLink\" href=\"../../../../../../logic/sets/inclusion/__pv_it/axioms/d7449297494a795000bc445b03cbe0385e2bd3490/expr.ipynb\"><img src=\"../../../../../../logic/sets/inclusion/__pv_it/axioms/d7449297494a795000bc445b03cbe0385e2bd3490/expr.png\" style=\"display:inline;vertical-align:middle;\" /></a></dd>"
      ],
      "text/plain": [
       "<IPython.core.display.HTML object>"
      ]
     },
     "metadata": {},
     "output_type": "display_data"
    },
    {
     "data": {
      "text/html": [
       "<dt><a class=\"ProveItLink\" href=\"../../../../../../numbers/number_sets/natural_numbers/_theory_nbs_/axioms.ipynb#successor_in_nats\">proveit.numbers.number_sets.natural_numbers.successor_in_nats</a></dt><dd><a class=\"ProveItLink\" href=\"../../../../../../numbers/number_sets/natural_numbers/__pv_it/axioms/2db81787f6a0f99da3aba01d94e3b9282244bf690/expr.ipynb\"><img src=\"../../../../../../numbers/number_sets/natural_numbers/__pv_it/axioms/2db81787f6a0f99da3aba01d94e3b9282244bf690/expr.png\" style=\"display:inline;vertical-align:middle;\" /></a></dd>"
      ],
      "text/plain": [
       "<IPython.core.display.HTML object>"
      ]
     },
     "metadata": {},
     "output_type": "display_data"
    },
    {
     "data": {
      "text/html": [
       "<dt><a class=\"ProveItLink\" href=\"../../../../../../numbers/number_sets/natural_numbers/_theory_nbs_/axioms.ipynb#zero_in_nats\">proveit.numbers.number_sets.natural_numbers.zero_in_nats</a></dt><dd><a class=\"ProveItLink\" href=\"../../../../../../numbers/number_sets/natural_numbers/__pv_it/axioms/0b15b4387138326157a681ee81e504aafbe547fc0/expr.ipynb\"><img src=\"../../../../../../numbers/number_sets/natural_numbers/__pv_it/axioms/0b15b4387138326157a681ee81e504aafbe547fc0/expr.png\" style=\"display:inline;vertical-align:middle;\" /></a></dd>"
      ],
      "text/plain": [
       "<IPython.core.display.HTML object>"
      ]
     },
     "metadata": {},
     "output_type": "display_data"
    },
    {
     "data": {
      "text/html": [
       "<dt><a class=\"ProveItLink\" href=\"../../../../../../numbers/numerals/decimals/_theory_nbs_/axioms.ipynb#one_def\">proveit.numbers.numerals.decimals.one_def</a></dt><dd><a class=\"ProveItLink\" href=\"../../../../../../numbers/numerals/decimals/__pv_it/axioms/3b8a0fdd6ab23c4e3ffec5a1eaca45ba8800b76d0/expr.ipynb\"><img src=\"../../../../../../numbers/numerals/decimals/__pv_it/axioms/3b8a0fdd6ab23c4e3ffec5a1eaca45ba8800b76d0/expr.png\" style=\"display:inline;vertical-align:middle;\" /></a></dd>"
      ],
      "text/plain": [
       "<IPython.core.display.HTML object>"
      ]
     },
     "metadata": {},
     "output_type": "display_data"
    },
    {
     "data": {
      "text/html": [
       "<dt><a class=\"ProveItLink\" href=\"../../../../../../numbers/numerals/decimals/_theory_nbs_/axioms.ipynb#two_def\">proveit.numbers.numerals.decimals.two_def</a></dt><dd><a class=\"ProveItLink\" href=\"../../../../../../numbers/numerals/decimals/__pv_it/axioms/e98b085de1ec8e054620f1fe3934bd43118538d00/expr.ipynb\"><img src=\"../../../../../../numbers/numerals/decimals/__pv_it/axioms/e98b085de1ec8e054620f1fe3934bd43118538d00/expr.png\" style=\"display:inline;vertical-align:middle;\" /></a></dd>"
      ],
      "text/plain": [
       "<IPython.core.display.HTML object>"
      ]
     },
     "metadata": {},
     "output_type": "display_data"
    },
    {
     "data": {
      "text/html": [
       "<dt><a class=\"ProveItLink\" href=\"../../../_theory_nbs_/axioms.ipynb#t_in_natural_pos\">proveit.physics.quantum.QPE.t_in_natural_pos</a></dt><dd><a class=\"ProveItLink\" href=\"../../axioms/1a13c30d572c85563c805c8bd9d78589517d2c170/expr.ipynb\"><img src=\"../../axioms/1a13c30d572c85563c805c8bd9d78589517d2c170/expr.png\" style=\"display:inline;vertical-align:middle;\" /></a></dd>"
      ],
      "text/plain": [
       "<IPython.core.display.HTML object>"
      ]
     },
     "metadata": {},
     "output_type": "display_data"
    },
    {
     "data": {
      "text/html": [
       "</dl>"
      ],
      "text/plain": [
       "<IPython.core.display.HTML object>"
      ]
     },
     "metadata": {},
     "output_type": "display_data"
    },
    {
     "data": {
      "text/html": [
       "<h3>No theorems/conjectures depend upon two_pow_t_not_zero</h3>"
      ],
      "text/plain": [
       "<IPython.core.display.HTML object>"
      ]
     },
     "metadata": {},
     "output_type": "display_data"
    }
   ],
   "source": [
    "%dependencies two_pow_t_not_zero"
   ]
  }
 ],
 "metadata": {
  "kernelspec": {
   "display_name": "Python 3",
   "language": "python",
   "name": "python3"
  }
 },
 "nbformat": 4,
 "nbformat_minor": 0
}