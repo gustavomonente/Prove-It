{
 "cells": [
  {
   "cell_type": "markdown",
   "metadata": {},
   "source": [
    "Expression of type <a class=\"ProveItLink\" href=\"../../../../../../../../doc/html/api/proveit.ExprTuple.html\">ExprTuple</a>\n",
    "=======================\n",
    "# from the theory of <a class=\"ProveItLink\" href=\"../../../_theory_nbs_/theory.ipynb\">proveit.physics.quantum.QPE</a>"
   ]
  },
  {
   "cell_type": "code",
   "execution_count": 1,
   "metadata": {},
   "outputs": [],
   "source": [
    "import proveit\n",
    "# Automation is not needed when building an expression:\n",
    "proveit.defaults.automation = False # This will speed things up.\n",
    "proveit.defaults.inline_pngs = False # Makes files smaller.\n",
    "%load_expr # Load the stored expression as 'stored_expr'\n",
    "# import Expression classes needed to build the expression\n",
    "from proveit import ExprTuple, l\n",
    "from proveit.numbers import Abs, Add, Exp, Mult, Neg, e, frac, i, one, pi, two\n",
    "from proveit.physics.quantum.QPE import delta_, two_pow_t"
   ]
  },
  {
   "cell_type": "code",
   "execution_count": 2,
   "metadata": {},
   "outputs": [
    {
     "data": {
      "text/html": [
       "<strong id=\"expr\">expr:</strong> <a class=\"ProveItLink\" href=\"expr.ipynb\"><img src=\"expr.png\" style=\"display:inline;vertical-align:middle;\" /></a><br>"
      ],
      "text/plain": [
       "expr: (|1 - e^{2 * pi * i * ((2^{t} * delta) - l)}|, 2^{t} * |1 - e^{2 * pi * i * (delta - (l / 2^{t}))}|)"
      ]
     },
     "execution_count": 2,
     "metadata": {},
     "output_type": "execute_result"
    }
   ],
   "source": [
    "# build up the expression from sub-expressions\n",
    "expr = ExprTuple(Abs(Add(one, Neg(Exp(e, Mult(two, pi, i, Add(Mult(two_pow_t, delta_), Neg(l))))))), Mult(two_pow_t, Abs(Add(one, Neg(Exp(e, Mult(two, pi, i, Add(delta_, Neg(frac(l, two_pow_t))))))))))"
   ]
  },
  {
   "cell_type": "code",
   "execution_count": 3,
   "metadata": {},
   "outputs": [
    {
     "name": "stdout",
     "output_type": "stream",
     "text": [
      "Passed sanity check: expr matches stored_expr\n"
     ]
    }
   ],
   "source": [
    "# check that the built expression is the same as the stored expression\n",
    "assert expr == stored_expr\n",
    "assert expr._style_id == stored_expr._style_id\n",
    "print(\"Passed sanity check: expr matches stored_expr\")"
   ]
  },
  {
   "cell_type": "code",
   "execution_count": 4,
   "metadata": {},
   "outputs": [
    {
     "name": "stdout",
     "output_type": "stream",
     "text": [
      "\\left(\\left|1 - \\mathsf{e}^{2 \\cdot \\pi \\cdot \\mathsf{i} \\cdot \\left(\\left(2^{t} \\cdot \\delta\\right) - l\\right)}\\right|, 2^{t} \\cdot \\left|1 - \\mathsf{e}^{2 \\cdot \\pi \\cdot \\mathsf{i} \\cdot \\left(\\delta - \\frac{l}{2^{t}}\\right)}\\right|\\right)\n"
     ]
    }
   ],
   "source": [
    "# Show the LaTeX representation of the expression for convenience if you need it.\n",
    "print(expr.latex())"
   ]
  },
  {
   "cell_type": "code",
   "execution_count": 5,
   "metadata": {},
   "outputs": [
    {
     "data": {
      "text/html": [
       "<table>\n",
       "<tr><th>name</th><th>description</th><th>default</th><th>current value</th><th>related methods</th></tr><tr><td>wrap_positions</td><td>position(s) at which wrapping is to occur; 'n' is after the nth comma.</td><td>()</td><td>()</td><td>('with_wrapping_at',)</td></tr>\n",
       "<tr><td>justification</td><td>if any wrap positions are set, justify to the 'left', 'center', or 'right'</td><td>left</td><td>left</td><td>('with_justification',)</td></tr>\n",
       "</table>\n"
      ],
      "text/plain": [
       "style name: wrap_positions\n",
       "description: position(s) at which wrapping is to occur; 'n' is after the nth comma.\n",
       "default: ()\n",
       "current value: ()\n",
       "related methods: ('with_wrapping_at',)\n",
       "style name: justification\n",
       "description: if any wrap positions are set, justify to the 'left', 'center', or 'right'\n",
       "default: left\n",
       "current value: left\n",
       "related methods: ('with_justification',)"
      ]
     },
     "execution_count": 5,
     "metadata": {},
     "output_type": "execute_result"
    }
   ],
   "source": [
    "expr.style_options()"
   ]
  },
  {
   "cell_type": "code",
   "execution_count": 6,
   "metadata": {},
   "outputs": [
    {
     "data": {
      "text/html": [
       "<table><tr><th>&nbsp;</th><th>core type</th><th>sub-expressions</th><th>expression</th></tr>\n",
       "<tr><td>0</td><td>ExprTuple</td><td>1, 2</td><td><a class=\"ProveItLink\" href=\"expr.ipynb\"><img src=\"expr.png\" style=\"display:inline;vertical-align:middle;\" /></a></td></tr>\n",
       "<tr><td>1</td><td>Operation</td><td>operator:&nbsp;8<br>operand:&nbsp;5<br></td><td><a class=\"ProveItLink\" href=\"../73d24368e1fbd1393398573fedba684ec915e7070/expr.ipynb\"><img src=\"../73d24368e1fbd1393398573fedba684ec915e7070/expr.png\" style=\"display:inline;vertical-align:middle;\" /></a></td></tr>\n",
       "<tr><td>2</td><td>Operation</td><td>operator:&nbsp;33<br>operands:&nbsp;4<br></td><td><a class=\"ProveItLink\" href=\"../34c62a47fbb921c014f5e77aedd4bf01eff950690/expr.ipynb\"><img src=\"../34c62a47fbb921c014f5e77aedd4bf01eff950690/expr.png\" style=\"display:inline;vertical-align:middle;\" /></a></td></tr>\n",
       "<tr><td>3</td><td>ExprTuple</td><td>5</td><td><a class=\"ProveItLink\" href=\"../708190c97db4552375909261aa07d7c116ba505c0/expr.ipynb\"><img src=\"../708190c97db4552375909261aa07d7c116ba505c0/expr.png\" style=\"display:inline;vertical-align:middle;\" /></a></td></tr>\n",
       "<tr><td>4</td><td>ExprTuple</td><td>46, 6</td><td><a class=\"ProveItLink\" href=\"../8ae800a33a53a794a8888585d18fabca56a8f6b70/expr.ipynb\"><img src=\"../8ae800a33a53a794a8888585d18fabca56a8f6b70/expr.png\" style=\"display:inline;vertical-align:middle;\" /></a></td></tr>\n",
       "<tr><td>5</td><td>Operation</td><td>operator:&nbsp;36<br>operands:&nbsp;7<br></td><td><a class=\"ProveItLink\" href=\"../94e3553fcb3a7ad082da002a84aef4d389c7e75e0/expr.ipynb\"><img src=\"../94e3553fcb3a7ad082da002a84aef4d389c7e75e0/expr.png\" style=\"display:inline;vertical-align:middle;\" /></a></td></tr>\n",
       "<tr><td>6</td><td>Operation</td><td>operator:&nbsp;8<br>operand:&nbsp;11<br></td><td><a class=\"ProveItLink\" href=\"../b9ca514a7a76c94f4555a9fa4d372bc717410e5a0/expr.ipynb\"><img src=\"../b9ca514a7a76c94f4555a9fa4d372bc717410e5a0/expr.png\" style=\"display:inline;vertical-align:middle;\" /></a></td></tr>\n",
       "<tr><td>7</td><td>ExprTuple</td><td>15, 10</td><td><a class=\"ProveItLink\" href=\"../7928c37facbc3b911cb70c6b4c750609c3987a1b0/expr.ipynb\"><img src=\"../7928c37facbc3b911cb70c6b4c750609c3987a1b0/expr.png\" style=\"display:inline;vertical-align:middle;\" /></a></td></tr>\n",
       "<tr><td>8</td><td>Literal</td><td></td><td><a class=\"ProveItLink\" href=\"../../../../../../numbers/absolute_value/__pv_it/common/6430f141f5f0b9665d136ab5dd21c24f48b3a19c0/expr.ipynb\"><img src=\"../../../../../../numbers/absolute_value/__pv_it/common/6430f141f5f0b9665d136ab5dd21c24f48b3a19c0/expr.png\" style=\"display:inline;vertical-align:middle;\" /></a></td></tr>\n",
       "<tr><td>9</td><td>ExprTuple</td><td>11</td><td><a class=\"ProveItLink\" href=\"../da27666cb8829a6def34c49f64babb191b1efff60/expr.ipynb\"><img src=\"../da27666cb8829a6def34c49f64babb191b1efff60/expr.png\" style=\"display:inline;vertical-align:middle;\" /></a></td></tr>\n",
       "<tr><td>10</td><td>Operation</td><td>operator:&nbsp;40<br>operand:&nbsp;14<br></td><td><a class=\"ProveItLink\" href=\"../b7f0f9d4a4fc1b55bc8d647fcfc09fcb706386980/expr.ipynb\"><img src=\"../b7f0f9d4a4fc1b55bc8d647fcfc09fcb706386980/expr.png\" style=\"display:inline;vertical-align:middle;\" /></a></td></tr>\n",
       "<tr><td>11</td><td>Operation</td><td>operator:&nbsp;36<br>operands:&nbsp;13<br></td><td><a class=\"ProveItLink\" href=\"../05e13e695712ab5627c8e242170c4f6b614b71810/expr.ipynb\"><img src=\"../05e13e695712ab5627c8e242170c4f6b614b71810/expr.png\" style=\"display:inline;vertical-align:middle;\" /></a></td></tr>\n",
       "<tr><td>12</td><td>ExprTuple</td><td>14</td><td><a class=\"ProveItLink\" href=\"../ce068e8ea5cc52ca827a6bbe6280801a8ba822330/expr.ipynb\"><img src=\"../ce068e8ea5cc52ca827a6bbe6280801a8ba822330/expr.png\" style=\"display:inline;vertical-align:middle;\" /></a></td></tr>\n",
       "<tr><td>13</td><td>ExprTuple</td><td>15, 16</td><td><a class=\"ProveItLink\" href=\"../13bc538cfe5431c62613bb9467cf73f63f1b3b060/expr.ipynb\"><img src=\"../13bc538cfe5431c62613bb9467cf73f63f1b3b060/expr.png\" style=\"display:inline;vertical-align:middle;\" /></a></td></tr>\n",
       "<tr><td>14</td><td>Operation</td><td>operator:&nbsp;47<br>operands:&nbsp;17<br></td><td><a class=\"ProveItLink\" href=\"../a615e6f4ce1ce68daa8985f0e24c5d1e4f0c3ed40/expr.ipynb\"><img src=\"../a615e6f4ce1ce68daa8985f0e24c5d1e4f0c3ed40/expr.png\" style=\"display:inline;vertical-align:middle;\" /></a></td></tr>\n",
       "<tr><td>15</td><td>Literal</td><td></td><td><a class=\"ProveItLink\" href=\"../../../../../../numbers/numerals/__pv_it/common/d278e359da0695d9652dd541d45264f93703e2e40/expr.ipynb\"><img src=\"../../../../../../numbers/numerals/__pv_it/common/d278e359da0695d9652dd541d45264f93703e2e40/expr.png\" style=\"display:inline;vertical-align:middle;\" /></a></td></tr>\n",
       "<tr><td>16</td><td>Operation</td><td>operator:&nbsp;40<br>operand:&nbsp;20<br></td><td><a class=\"ProveItLink\" href=\"../bbee477132e1dbd4928f739d62381d8bdd6fd5a10/expr.ipynb\"><img src=\"../bbee477132e1dbd4928f739d62381d8bdd6fd5a10/expr.png\" style=\"display:inline;vertical-align:middle;\" /></a></td></tr>\n",
       "<tr><td>17</td><td>ExprTuple</td><td>24, 19</td><td><a class=\"ProveItLink\" href=\"../b915a9df2b0ccdfde034902b57c6480d6192e5720/expr.ipynb\"><img src=\"../b915a9df2b0ccdfde034902b57c6480d6192e5720/expr.png\" style=\"display:inline;vertical-align:middle;\" /></a></td></tr>\n",
       "<tr><td>18</td><td>ExprTuple</td><td>20</td><td><a class=\"ProveItLink\" href=\"../2f21db1408be003fdc59cd0e4362fc22c1b29d290/expr.ipynb\"><img src=\"../2f21db1408be003fdc59cd0e4362fc22c1b29d290/expr.png\" style=\"display:inline;vertical-align:middle;\" /></a></td></tr>\n",
       "<tr><td>19</td><td>Operation</td><td>operator:&nbsp;33<br>operands:&nbsp;21<br></td><td><a class=\"ProveItLink\" href=\"../e37b0b50dd1ea58dd34d395d50f3da573259a81e0/expr.ipynb\"><img src=\"../e37b0b50dd1ea58dd34d395d50f3da573259a81e0/expr.png\" style=\"display:inline;vertical-align:middle;\" /></a></td></tr>\n",
       "<tr><td>20</td><td>Operation</td><td>operator:&nbsp;47<br>operands:&nbsp;22<br></td><td><a class=\"ProveItLink\" href=\"../d5c13c8a2933ca94f98593a813d9ff5a2b3f67d20/expr.ipynb\"><img src=\"../d5c13c8a2933ca94f98593a813d9ff5a2b3f67d20/expr.png\" style=\"display:inline;vertical-align:middle;\" /></a></td></tr>\n",
       "<tr><td>21</td><td>ExprTuple</td><td>49, 30, 31, 23</td><td><a class=\"ProveItLink\" href=\"../b634d65fac7a29889b6237c238fdd97298e9148c0/expr.ipynb\"><img src=\"../b634d65fac7a29889b6237c238fdd97298e9148c0/expr.png\" style=\"display:inline;vertical-align:middle;\" /></a></td></tr>\n",
       "<tr><td>22</td><td>ExprTuple</td><td>24, 25</td><td><a class=\"ProveItLink\" href=\"../60e54c73e4032c4a03641e5131ea30a73d6509f20/expr.ipynb\"><img src=\"../60e54c73e4032c4a03641e5131ea30a73d6509f20/expr.png\" style=\"display:inline;vertical-align:middle;\" /></a></td></tr>\n",
       "<tr><td>23</td><td>Operation</td><td>operator:&nbsp;36<br>operands:&nbsp;26<br></td><td><a class=\"ProveItLink\" href=\"../cd9b23faa29c78664d9d2345fc4012d3c60fde050/expr.ipynb\"><img src=\"../cd9b23faa29c78664d9d2345fc4012d3c60fde050/expr.png\" style=\"display:inline;vertical-align:middle;\" /></a></td></tr>\n",
       "<tr><td>24</td><td>Literal</td><td></td><td><a class=\"ProveItLink\" href=\"../../../../../../numbers/number_sets/real_numbers/__pv_it/common/61928b6859b4e923494b47f6609839733495864a0/expr.ipynb\"><img src=\"../../../../../../numbers/number_sets/real_numbers/__pv_it/common/61928b6859b4e923494b47f6609839733495864a0/expr.png\" style=\"display:inline;vertical-align:middle;\" /></a></td></tr>\n",
       "<tr><td>25</td><td>Operation</td><td>operator:&nbsp;33<br>operands:&nbsp;27<br></td><td><a class=\"ProveItLink\" href=\"../4dd8e7ee08af52769ce97b13a9bb1ac856f2a7e50/expr.ipynb\"><img src=\"../4dd8e7ee08af52769ce97b13a9bb1ac856f2a7e50/expr.png\" style=\"display:inline;vertical-align:middle;\" /></a></td></tr>\n",
       "<tr><td>26</td><td>ExprTuple</td><td>28, 29</td><td><a class=\"ProveItLink\" href=\"../0eff6501906c4a1fa28347e3a20089ef8bd256050/expr.ipynb\"><img src=\"../0eff6501906c4a1fa28347e3a20089ef8bd256050/expr.png\" style=\"display:inline;vertical-align:middle;\" /></a></td></tr>\n",
       "<tr><td>27</td><td>ExprTuple</td><td>49, 30, 31, 32</td><td><a class=\"ProveItLink\" href=\"../6cf8d0000816677d32f869f53b1e23b096644da30/expr.ipynb\"><img src=\"../6cf8d0000816677d32f869f53b1e23b096644da30/expr.png\" style=\"display:inline;vertical-align:middle;\" /></a></td></tr>\n",
       "<tr><td>28</td><td>Operation</td><td>operator:&nbsp;33<br>operands:&nbsp;34<br></td><td><a class=\"ProveItLink\" href=\"../../common/43922168e5cf4a7393bb1b1baec670c5676677c80/expr.ipynb\"><img src=\"../../common/43922168e5cf4a7393bb1b1baec670c5676677c80/expr.png\" style=\"display:inline;vertical-align:middle;\" /></a></td></tr>\n",
       "<tr><td>29</td><td>Operation</td><td>operator:&nbsp;40<br>operand:&nbsp;45<br></td><td><a class=\"ProveItLink\" href=\"../cb7f3a17416d3422816dde22ee552d285d94843f0/expr.ipynb\"><img src=\"../cb7f3a17416d3422816dde22ee552d285d94843f0/expr.png\" style=\"display:inline;vertical-align:middle;\" /></a></td></tr>\n",
       "<tr><td>30</td><td>Literal</td><td></td><td><a class=\"ProveItLink\" href=\"../../../../../../numbers/number_sets/real_numbers/__pv_it/common/b8a78fd5d53d1da6d41bbb9f4c711797b8f347830/expr.ipynb\"><img src=\"../../../../../../numbers/number_sets/real_numbers/__pv_it/common/b8a78fd5d53d1da6d41bbb9f4c711797b8f347830/expr.png\" style=\"display:inline;vertical-align:middle;\" /></a></td></tr>\n",
       "<tr><td>31</td><td>Literal</td><td></td><td><a class=\"ProveItLink\" href=\"../../../../../../numbers/number_sets/complex_numbers/__pv_it/common/bc076884d4b2fd41fe46d8d3716817413e0e52920/expr.ipynb\"><img src=\"../../../../../../numbers/number_sets/complex_numbers/__pv_it/common/bc076884d4b2fd41fe46d8d3716817413e0e52920/expr.png\" style=\"display:inline;vertical-align:middle;\" /></a></td></tr>\n",
       "<tr><td>32</td><td>Operation</td><td>operator:&nbsp;36<br>operands:&nbsp;37<br></td><td><a class=\"ProveItLink\" href=\"../faa39ef3bc30d29f6bf8cfe58fb66a34d48cb2a30/expr.ipynb\"><img src=\"../faa39ef3bc30d29f6bf8cfe58fb66a34d48cb2a30/expr.png\" style=\"display:inline;vertical-align:middle;\" /></a></td></tr>\n",
       "<tr><td>33</td><td>Literal</td><td></td><td><a class=\"ProveItLink\" href=\"../../../../../../numbers/multiplication/__pv_it/common/c57d60974865e78d434abd3ff22c405685c80ade0/expr.ipynb\"><img src=\"../../../../../../numbers/multiplication/__pv_it/common/c57d60974865e78d434abd3ff22c405685c80ade0/expr.png\" style=\"display:inline;vertical-align:middle;\" /></a></td></tr>\n",
       "<tr><td>34</td><td>ExprTuple</td><td>46, 38</td><td><a class=\"ProveItLink\" href=\"../../common/9edcdabdc62ca9442a03b509ca93d8cd9f5933610/expr.ipynb\"><img src=\"../../common/9edcdabdc62ca9442a03b509ca93d8cd9f5933610/expr.png\" style=\"display:inline;vertical-align:middle;\" /></a></td></tr>\n",
       "<tr><td>35</td><td>ExprTuple</td><td>45</td><td><a class=\"ProveItLink\" href=\"../795abb8339bd06268827dd98897deb76bd829b2e0/expr.ipynb\"><img src=\"../795abb8339bd06268827dd98897deb76bd829b2e0/expr.png\" style=\"display:inline;vertical-align:middle;\" /></a></td></tr>\n",
       "<tr><td>36</td><td>Literal</td><td></td><td><a class=\"ProveItLink\" href=\"../../../../../../numbers/addition/__pv_it/common/1f38fe5cce441387feef296e2c0a2eac260bb4f30/expr.ipynb\"><img src=\"../../../../../../numbers/addition/__pv_it/common/1f38fe5cce441387feef296e2c0a2eac260bb4f30/expr.png\" style=\"display:inline;vertical-align:middle;\" /></a></td></tr>\n",
       "<tr><td>37</td><td>ExprTuple</td><td>38, 39</td><td><a class=\"ProveItLink\" href=\"../8ca3b74e23e678f7fd22d1905f370b62a023374b0/expr.ipynb\"><img src=\"../8ca3b74e23e678f7fd22d1905f370b62a023374b0/expr.png\" style=\"display:inline;vertical-align:middle;\" /></a></td></tr>\n",
       "<tr><td>38</td><td>Literal</td><td></td><td><a class=\"ProveItLink\" href=\"../../common/e91e9cfa9469f3503bad3b38ab53238166f5c5230/expr.ipynb\"><img src=\"../../common/e91e9cfa9469f3503bad3b38ab53238166f5c5230/expr.png\" style=\"display:inline;vertical-align:middle;\" /></a></td></tr>\n",
       "<tr><td>39</td><td>Operation</td><td>operator:&nbsp;40<br>operand:&nbsp;42<br></td><td><a class=\"ProveItLink\" href=\"../0bf3f8702674321c31f7e19fbb99f6c4850702e60/expr.ipynb\"><img src=\"../0bf3f8702674321c31f7e19fbb99f6c4850702e60/expr.png\" style=\"display:inline;vertical-align:middle;\" /></a></td></tr>\n",
       "<tr><td>40</td><td>Literal</td><td></td><td><a class=\"ProveItLink\" href=\"../../../../../../numbers/negation/__pv_it/common/31a69a5c76809537045e3884859f178d8d9c845c0/expr.ipynb\"><img src=\"../../../../../../numbers/negation/__pv_it/common/31a69a5c76809537045e3884859f178d8d9c845c0/expr.png\" style=\"display:inline;vertical-align:middle;\" /></a></td></tr>\n",
       "<tr><td>41</td><td>ExprTuple</td><td>42</td><td><a class=\"ProveItLink\" href=\"../0109f0907169b9064fa87f92bcc9a90f2462fef50/expr.ipynb\"><img src=\"../0109f0907169b9064fa87f92bcc9a90f2462fef50/expr.png\" style=\"display:inline;vertical-align:middle;\" /></a></td></tr>\n",
       "<tr><td>42</td><td>Operation</td><td>operator:&nbsp;43<br>operands:&nbsp;44<br></td><td><a class=\"ProveItLink\" href=\"../ee6cb56528a1f78efc7f28ea45bb26f1219185da0/expr.ipynb\"><img src=\"../ee6cb56528a1f78efc7f28ea45bb26f1219185da0/expr.png\" style=\"display:inline;vertical-align:middle;\" /></a></td></tr>\n",
       "<tr><td>43</td><td>Literal</td><td></td><td><a class=\"ProveItLink\" href=\"../../../../../../numbers/division/__pv_it/common/9ecc1ae47b83f7ed759e5ea63a2023a8f2ab04800/expr.ipynb\"><img src=\"../../../../../../numbers/division/__pv_it/common/9ecc1ae47b83f7ed759e5ea63a2023a8f2ab04800/expr.png\" style=\"display:inline;vertical-align:middle;\" /></a></td></tr>\n",
       "<tr><td>44</td><td>ExprTuple</td><td>45, 46</td><td><a class=\"ProveItLink\" href=\"../7df35fb4622c7c2639a882dc6cdad42a5ed5b7450/expr.ipynb\"><img src=\"../7df35fb4622c7c2639a882dc6cdad42a5ed5b7450/expr.png\" style=\"display:inline;vertical-align:middle;\" /></a></td></tr>\n",
       "<tr><td>45</td><td>Variable</td><td></td><td><a class=\"ProveItLink\" href=\"../../../../../../__pv_it/common/5f60d32873626c7ce57e35d1d9e427fb112cfe7a0/expr.ipynb\"><img src=\"../../../../../../__pv_it/common/5f60d32873626c7ce57e35d1d9e427fb112cfe7a0/expr.png\" style=\"display:inline;vertical-align:middle;\" /></a></td></tr>\n",
       "<tr><td>46</td><td>Operation</td><td>operator:&nbsp;47<br>operands:&nbsp;48<br></td><td><a class=\"ProveItLink\" href=\"../../common/457b0dff65b633b4c78260366925739952a96c890/expr.ipynb\"><img src=\"../../common/457b0dff65b633b4c78260366925739952a96c890/expr.png\" style=\"display:inline;vertical-align:middle;\" /></a></td></tr>\n",
       "<tr><td>47</td><td>Literal</td><td></td><td><a class=\"ProveItLink\" href=\"../../../../../../numbers/exponentiation/__pv_it/common/31d1b89e3c2fad7d997556c69b6be6425b6f59a40/expr.ipynb\"><img src=\"../../../../../../numbers/exponentiation/__pv_it/common/31d1b89e3c2fad7d997556c69b6be6425b6f59a40/expr.png\" style=\"display:inline;vertical-align:middle;\" /></a></td></tr>\n",
       "<tr><td>48</td><td>ExprTuple</td><td>49, 50</td><td><a class=\"ProveItLink\" href=\"../../common/dfb548d7806faf732c1098b1ba9dc3cc77d363740/expr.ipynb\"><img src=\"../../common/dfb548d7806faf732c1098b1ba9dc3cc77d363740/expr.png\" style=\"display:inline;vertical-align:middle;\" /></a></td></tr>\n",
       "<tr><td>49</td><td>Literal</td><td></td><td><a class=\"ProveItLink\" href=\"../../../../../../numbers/numerals/__pv_it/common/3829356ce3fdf8f35810c63c00bc1a19e838663e0/expr.ipynb\"><img src=\"../../../../../../numbers/numerals/__pv_it/common/3829356ce3fdf8f35810c63c00bc1a19e838663e0/expr.png\" style=\"display:inline;vertical-align:middle;\" /></a></td></tr>\n",
       "<tr><td>50</td><td>Literal</td><td></td><td><a class=\"ProveItLink\" href=\"../../common/39c1d684e38b5dd4cd200cf6f134282993af2c0b0/expr.ipynb\"><img src=\"../../common/39c1d684e38b5dd4cd200cf6f134282993af2c0b0/expr.png\" style=\"display:inline;vertical-align:middle;\" /></a></td></tr>\n",
       "</table>\n"
      ],
      "text/plain": [
       "0. (|1 - e^{2 * pi * i * ((2^{t} * delta) - l)}|, 2^{t} * |1 - e^{2 * pi * i * (delta - (l / 2^{t}))}|)\n",
       "   core type: ExprTuple\n",
       "   sub-expressions: 1, 2\n",
       "1. |1 - e^{2 * pi * i * ((2^{t} * delta) - l)}|\n",
       "   core type: Operation\n",
       "   operator: 8\n",
       "   operand: 5\n",
       "2. 2^{t} * |1 - e^{2 * pi * i * (delta - (l / 2^{t}))}|\n",
       "   core type: Operation\n",
       "   operator: 33\n",
       "   operands: 4\n",
       "3. (1 - e^{2 * pi * i * ((2^{t} * delta) - l)})\n",
       "   core type: ExprTuple\n",
       "   sub-expressions: 5\n",
       "4. (2^{t}, |1 - e^{2 * pi * i * (delta - (l / 2^{t}))}|)\n",
       "   core type: ExprTuple\n",
       "   sub-expressions: 46, 6\n",
       "5. 1 - e^{2 * pi * i * ((2^{t} * delta) - l)}\n",
       "   core type: Operation\n",
       "   operator: 36\n",
       "   operands: 7\n",
       "6. |1 - e^{2 * pi * i * (delta - (l / 2^{t}))}|\n",
       "   core type: Operation\n",
       "   operator: 8\n",
       "   operand: 11\n",
       "7. (1, -e^{2 * pi * i * ((2^{t} * delta) - l)})\n",
       "   core type: ExprTuple\n",
       "   sub-expressions: 15, 10\n",
       "8. Abs\n",
       "   core type: Literal\n",
       "   sub-expressions: \n",
       "9. (1 - e^{2 * pi * i * (delta - (l / 2^{t}))})\n",
       "   core type: ExprTuple\n",
       "   sub-expressions: 11\n",
       "10. -e^{2 * pi * i * ((2^{t} * delta) - l)}\n",
       "    core type: Operation\n",
       "    operator: 40\n",
       "    operand: 14\n",
       "11. 1 - e^{2 * pi * i * (delta - (l / 2^{t}))}\n",
       "    core type: Operation\n",
       "    operator: 36\n",
       "    operands: 13\n",
       "12. (e^{2 * pi * i * ((2^{t} * delta) - l)})\n",
       "    core type: ExprTuple\n",
       "    sub-expressions: 14\n",
       "13. (1, -e^{2 * pi * i * (delta - (l / 2^{t}))})\n",
       "    core type: ExprTuple\n",
       "    sub-expressions: 15, 16\n",
       "14. e^{2 * pi * i * ((2^{t} * delta) - l)}\n",
       "    core type: Operation\n",
       "    operator: 47\n",
       "    operands: 17\n",
       "15. 1\n",
       "    core type: Literal\n",
       "    sub-expressions: \n",
       "16. -e^{2 * pi * i * (delta - (l / 2^{t}))}\n",
       "    core type: Operation\n",
       "    operator: 40\n",
       "    operand: 20\n",
       "17. (e, 2 * pi * i * ((2^{t} * delta) - l))\n",
       "    core type: ExprTuple\n",
       "    sub-expressions: 24, 19\n",
       "18. (e^{2 * pi * i * (delta - (l / 2^{t}))})\n",
       "    core type: ExprTuple\n",
       "    sub-expressions: 20\n",
       "19. 2 * pi * i * ((2^{t} * delta) - l)\n",
       "    core type: Operation\n",
       "    operator: 33\n",
       "    operands: 21\n",
       "20. e^{2 * pi * i * (delta - (l / 2^{t}))}\n",
       "    core type: Operation\n",
       "    operator: 47\n",
       "    operands: 22\n",
       "21. (2, pi, i, (2^{t} * delta) - l)\n",
       "    core type: ExprTuple\n",
       "    sub-expressions: 49, 30, 31, 23\n",
       "22. (e, 2 * pi * i * (delta - (l / 2^{t})))\n",
       "    core type: ExprTuple\n",
       "    sub-expressions: 24, 25\n",
       "23. (2^{t} * delta) - l\n",
       "    core type: Operation\n",
       "    operator: 36\n",
       "    operands: 26\n",
       "24. e\n",
       "    core type: Literal\n",
       "    sub-expressions: \n",
       "25. 2 * pi * i * (delta - (l / 2^{t}))\n",
       "    core type: Operation\n",
       "    operator: 33\n",
       "    operands: 27\n",
       "26. (2^{t} * delta, -l)\n",
       "    core type: ExprTuple\n",
       "    sub-expressions: 28, 29\n",
       "27. (2, pi, i, delta - (l / 2^{t}))\n",
       "    core type: ExprTuple\n",
       "    sub-expressions: 49, 30, 31, 32\n",
       "28. 2^{t} * delta\n",
       "    core type: Operation\n",
       "    operator: 33\n",
       "    operands: 34\n",
       "29. -l\n",
       "    core type: Operation\n",
       "    operator: 40\n",
       "    operand: 45\n",
       "30. pi\n",
       "    core type: Literal\n",
       "    sub-expressions: \n",
       "31. i\n",
       "    core type: Literal\n",
       "    sub-expressions: \n",
       "32. delta - (l / 2^{t})\n",
       "    core type: Operation\n",
       "    operator: 36\n",
       "    operands: 37\n",
       "33. *\n",
       "    core type: Literal\n",
       "    sub-expressions: \n",
       "34. (2^{t}, delta)\n",
       "    core type: ExprTuple\n",
       "    sub-expressions: 46, 38\n",
       "35. (l)\n",
       "    core type: ExprTuple\n",
       "    sub-expressions: 45\n",
       "36. +\n",
       "    core type: Literal\n",
       "    sub-expressions: \n",
       "37. (delta, -(l / 2^{t}))\n",
       "    core type: ExprTuple\n",
       "    sub-expressions: 38, 39\n",
       "38. delta\n",
       "    core type: Literal\n",
       "    sub-expressions: \n",
       "39. -(l / 2^{t})\n",
       "    core type: Operation\n",
       "    operator: 40\n",
       "    operand: 42\n",
       "40. -\n",
       "    core type: Literal\n",
       "    sub-expressions: \n",
       "41. (l / 2^{t})\n",
       "    core type: ExprTuple\n",
       "    sub-expressions: 42\n",
       "42. l / 2^{t}\n",
       "    core type: Operation\n",
       "    operator: 43\n",
       "    operands: 44\n",
       "43. /\n",
       "    core type: Literal\n",
       "    sub-expressions: \n",
       "44. (l, 2^{t})\n",
       "    core type: ExprTuple\n",
       "    sub-expressions: 45, 46\n",
       "45. l\n",
       "    core type: Variable\n",
       "    sub-expressions: \n",
       "46. 2^{t}\n",
       "    core type: Operation\n",
       "    operator: 47\n",
       "    operands: 48\n",
       "47. Exp\n",
       "    core type: Literal\n",
       "    sub-expressions: \n",
       "48. (2, t)\n",
       "    core type: ExprTuple\n",
       "    sub-expressions: 49, 50\n",
       "49. 2\n",
       "    core type: Literal\n",
       "    sub-expressions: \n",
       "50. t\n",
       "    core type: Literal\n",
       "    sub-expressions: "
      ]
     },
     "execution_count": 6,
     "metadata": {},
     "output_type": "execute_result"
    }
   ],
   "source": [
    "# display the expression information\n",
    "expr.expr_info()"
   ]
  },
  {
   "cell_type": "code",
   "execution_count": null,
   "metadata": {},
   "outputs": [],
   "source": []
  }
 ],
 "metadata": {
  "kernelspec": {
   "display_name": "Python 3",
   "language": "python",
   "name": "python3"
  }
 },
 "nbformat": 4,
 "nbformat_minor": 0
}