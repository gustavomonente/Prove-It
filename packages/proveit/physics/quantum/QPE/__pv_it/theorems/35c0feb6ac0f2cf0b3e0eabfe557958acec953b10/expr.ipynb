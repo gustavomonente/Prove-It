{
 "cells": [
  {
   "cell_type": "markdown",
   "metadata": {},
   "source": [
    "Expression of type <a class=\"ProveItLink\" href=\"../../../../../../../../doc/html/api/proveit.Conditional.html\">Conditional</a>\n",
    "=======================\n",
    "# from the theory of <a class=\"ProveItLink\" href=\"../../../_theory_nbs_/theory.ipynb\">proveit.physics.quantum.QPE</a>"
   ]
  },
  {
   "cell_type": "code",
   "execution_count": 1,
   "metadata": {},
   "outputs": [],
   "source": [
    "import proveit\n",
    "# Automation is not needed when building an expression:\n",
    "proveit.defaults.automation = False # This will speed things up.\n",
    "proveit.defaults.inline_pngs = False # Makes files smaller.\n",
    "%load_expr # Load the stored expression as 'stored_expr'\n",
    "# import Expression classes needed to build the expression\n",
    "from proveit import Conditional, k, l\n",
    "from proveit.logic import InSet\n",
    "from proveit.numbers import Add, Exp, Interval, Mult, Neg, e, frac, i, one, pi, two, zero\n",
    "from proveit.physics.quantum.QPE import ModAdd, b_, phase_, two_pow_t"
   ]
  },
  {
   "cell_type": "code",
   "execution_count": 2,
   "metadata": {},
   "outputs": [
    {
     "data": {
      "text/html": [
       "<strong id=\"expr\">expr:</strong> <a class=\"ProveItLink\" href=\"expr.ipynb\"><img src=\"expr.png\" style=\"display:inline;vertical-align:middle;\" /></a><br>"
      ],
      "text/plain": [
       "expr: {e^{(-(2 * pi * i * k * (b MOD_ADD l))) / 2^{t}} * e^{2 * pi * i * phase * k} if k in {0...2^{t} - 1}."
      ]
     },
     "execution_count": 2,
     "metadata": {},
     "output_type": "execute_result"
    }
   ],
   "source": [
    "# build up the expression from sub-expressions\n",
    "expr = Conditional(Mult(Exp(e, frac(Neg(Mult(two, pi, i, k, ModAdd(b_, l))), two_pow_t)), Exp(e, Mult(two, pi, i, phase_, k))), InSet(k, Interval(zero, Add(two_pow_t, Neg(one)))))"
   ]
  },
  {
   "cell_type": "code",
   "execution_count": 3,
   "metadata": {},
   "outputs": [
    {
     "name": "stdout",
     "output_type": "stream",
     "text": [
      "Passed sanity check: expr matches stored_expr\n"
     ]
    }
   ],
   "source": [
    "# check that the built expression is the same as the stored expression\n",
    "assert expr == stored_expr\n",
    "assert expr._style_id == stored_expr._style_id\n",
    "print(\"Passed sanity check: expr matches stored_expr\")"
   ]
  },
  {
   "cell_type": "code",
   "execution_count": 4,
   "metadata": {},
   "outputs": [
    {
     "name": "stdout",
     "output_type": "stream",
     "text": [
      "\\left\\{\\mathsf{e}^{\\frac{-\\left(2 \\cdot \\pi \\cdot \\mathsf{i} \\cdot k \\cdot \\left(b \\oplus l\\right)\\right)}{2^{t}}} \\cdot \\mathsf{e}^{2 \\cdot \\pi \\cdot \\mathsf{i} \\cdot \\varphi \\cdot k} \\textrm{ if } k \\in \\{0 \\ldots 2^{t} - 1\\}\\right..\n"
     ]
    }
   ],
   "source": [
    "# Show the LaTeX representation of the expression for convenience if you need it.\n",
    "print(expr.latex())"
   ]
  },
  {
   "cell_type": "code",
   "execution_count": 5,
   "metadata": {},
   "outputs": [
    {
     "data": {
      "text/html": [
       "<table>\n",
       "<tr><th>name</th><th>description</th><th>default</th><th>current value</th><th>related methods</th></tr><tr><td>condition_delimiter</td><td>'comma' or 'and'</td><td>comma</td><td>comma</td><td>('with_comma_delimiter', 'with_conjunction_delimiter')</td></tr>\n",
       "</table>\n"
      ],
      "text/plain": [
       "style name: condition_delimiter\n",
       "description: 'comma' or 'and'\n",
       "default: comma\n",
       "current value: comma\n",
       "related methods: ('with_comma_delimiter', 'with_conjunction_delimiter')"
      ]
     },
     "execution_count": 5,
     "metadata": {},
     "output_type": "execute_result"
    }
   ],
   "source": [
    "expr.style_options()"
   ]
  },
  {
   "cell_type": "code",
   "execution_count": 6,
   "metadata": {},
   "outputs": [
    {
     "data": {
      "text/html": [
       "<table><tr><th>&nbsp;</th><th>core type</th><th>sub-expressions</th><th>expression</th></tr>\n",
       "<tr><td>0</td><td>Conditional</td><td>value:&nbsp;1<br>condition:&nbsp;2<br></td><td><a class=\"ProveItLink\" href=\"expr.ipynb\"><img src=\"expr.png\" style=\"display:inline;vertical-align:middle;\" /></a></td></tr>\n",
       "<tr><td>1</td><td>Operation</td><td>operator:&nbsp;35<br>operands:&nbsp;3<br></td><td><a class=\"ProveItLink\" href=\"../391ef856b1717002df3a9308098db39418340b630/expr.ipynb\"><img src=\"../391ef856b1717002df3a9308098db39418340b630/expr.png\" style=\"display:inline;vertical-align:middle;\" /></a></td></tr>\n",
       "<tr><td>2</td><td>Operation</td><td>operator:&nbsp;4<br>operands:&nbsp;5<br></td><td><a class=\"ProveItLink\" href=\"../a5a210123abc356c297093beca9dbb2ee3a011ee0/expr.ipynb\"><img src=\"../a5a210123abc356c297093beca9dbb2ee3a011ee0/expr.png\" style=\"display:inline;vertical-align:middle;\" /></a></td></tr>\n",
       "<tr><td>3</td><td>ExprTuple</td><td>6, 7</td><td><a class=\"ProveItLink\" href=\"../6621540732e5f93257a80d62cbf334701b4e07f80/expr.ipynb\"><img src=\"../6621540732e5f93257a80d62cbf334701b4e07f80/expr.png\" style=\"display:inline;vertical-align:middle;\" /></a></td></tr>\n",
       "<tr><td>4</td><td>Literal</td><td></td><td><a class=\"ProveItLink\" href=\"../../../../../../logic/sets/membership/__pv_it/common/7171deca84f71f47a6ec7696972d1632274a12880/expr.ipynb\"><img src=\"../../../../../../logic/sets/membership/__pv_it/common/7171deca84f71f47a6ec7696972d1632274a12880/expr.png\" style=\"display:inline;vertical-align:middle;\" /></a></td></tr>\n",
       "<tr><td>5</td><td>ExprTuple</td><td>40, 8</td><td><a class=\"ProveItLink\" href=\"../afd0ab7e3308a7b1acf9a1a7bf0bb90c767bd2820/expr.ipynb\"><img src=\"../afd0ab7e3308a7b1acf9a1a7bf0bb90c767bd2820/expr.png\" style=\"display:inline;vertical-align:middle;\" /></a></td></tr>\n",
       "<tr><td>6</td><td>Operation</td><td>operator:&nbsp;28<br>operands:&nbsp;9<br></td><td><a class=\"ProveItLink\" href=\"../37016b0128ac4701384f3d0afb87e600bb86f5e80/expr.ipynb\"><img src=\"../37016b0128ac4701384f3d0afb87e600bb86f5e80/expr.png\" style=\"display:inline;vertical-align:middle;\" /></a></td></tr>\n",
       "<tr><td>7</td><td>Operation</td><td>operator:&nbsp;28<br>operands:&nbsp;10<br></td><td><a class=\"ProveItLink\" href=\"../165932aa5b9ed36b45e23a0d9c003fdebc8126120/expr.ipynb\"><img src=\"../165932aa5b9ed36b45e23a0d9c003fdebc8126120/expr.png\" style=\"display:inline;vertical-align:middle;\" /></a></td></tr>\n",
       "<tr><td>8</td><td>Operation</td><td>operator:&nbsp;11<br>operands:&nbsp;12<br></td><td><a class=\"ProveItLink\" href=\"../11a5fff46032757c29d0cbf48196f875b07bd7510/expr.ipynb\"><img src=\"../11a5fff46032757c29d0cbf48196f875b07bd7510/expr.png\" style=\"display:inline;vertical-align:middle;\" /></a></td></tr>\n",
       "<tr><td>9</td><td>ExprTuple</td><td>14, 13</td><td><a class=\"ProveItLink\" href=\"../57731007cb40f9f21946309c21eb9467612d573d0/expr.ipynb\"><img src=\"../57731007cb40f9f21946309c21eb9467612d573d0/expr.png\" style=\"display:inline;vertical-align:middle;\" /></a></td></tr>\n",
       "<tr><td>10</td><td>ExprTuple</td><td>14, 15</td><td><a class=\"ProveItLink\" href=\"../0190070762518ffaa9e5bce01b78c800aafcee600/expr.ipynb\"><img src=\"../0190070762518ffaa9e5bce01b78c800aafcee600/expr.png\" style=\"display:inline;vertical-align:middle;\" /></a></td></tr>\n",
       "<tr><td>11</td><td>Literal</td><td></td><td><a class=\"ProveItLink\" href=\"../../../../../../numbers/number_sets/integers/__pv_it/common/fcf0def17f5c3c84b64c959b39aed0e5dad7f3340/expr.ipynb\"><img src=\"../../../../../../numbers/number_sets/integers/__pv_it/common/fcf0def17f5c3c84b64c959b39aed0e5dad7f3340/expr.png\" style=\"display:inline;vertical-align:middle;\" /></a></td></tr>\n",
       "<tr><td>12</td><td>ExprTuple</td><td>16, 17</td><td><a class=\"ProveItLink\" href=\"../fc6eaf273217cbecaede67bf3453b2626df082030/expr.ipynb\"><img src=\"../fc6eaf273217cbecaede67bf3453b2626df082030/expr.png\" style=\"display:inline;vertical-align:middle;\" /></a></td></tr>\n",
       "<tr><td>13</td><td>Operation</td><td>operator:&nbsp;18<br>operands:&nbsp;19<br></td><td><a class=\"ProveItLink\" href=\"../b8a5241f82f9b2d238319a071f6ea086d69170c60/expr.ipynb\"><img src=\"../b8a5241f82f9b2d238319a071f6ea086d69170c60/expr.png\" style=\"display:inline;vertical-align:middle;\" /></a></td></tr>\n",
       "<tr><td>14</td><td>Literal</td><td></td><td><a class=\"ProveItLink\" href=\"../../../../../../numbers/number_sets/real_numbers/__pv_it/common/61928b6859b4e923494b47f6609839733495864a0/expr.ipynb\"><img src=\"../../../../../../numbers/number_sets/real_numbers/__pv_it/common/61928b6859b4e923494b47f6609839733495864a0/expr.png\" style=\"display:inline;vertical-align:middle;\" /></a></td></tr>\n",
       "<tr><td>15</td><td>Operation</td><td>operator:&nbsp;35<br>operands:&nbsp;20<br></td><td><a class=\"ProveItLink\" href=\"../ab3cb3c365f4e22302d196534abf5ef92c5ed29b0/expr.ipynb\"><img src=\"../ab3cb3c365f4e22302d196534abf5ef92c5ed29b0/expr.png\" style=\"display:inline;vertical-align:middle;\" /></a></td></tr>\n",
       "<tr><td>16</td><td>Literal</td><td></td><td><a class=\"ProveItLink\" href=\"../../../../../../numbers/numerals/__pv_it/common/c35fdf7268947ca3e24174d2909dc9d0a7f3aac60/expr.ipynb\"><img src=\"../../../../../../numbers/numerals/__pv_it/common/c35fdf7268947ca3e24174d2909dc9d0a7f3aac60/expr.png\" style=\"display:inline;vertical-align:middle;\" /></a></td></tr>\n",
       "<tr><td>17</td><td>Operation</td><td>operator:&nbsp;21<br>operands:&nbsp;22<br></td><td><a class=\"ProveItLink\" href=\"../a581ebe4a84f1401530668786462019666408e9c0/expr.ipynb\"><img src=\"../a581ebe4a84f1401530668786462019666408e9c0/expr.png\" style=\"display:inline;vertical-align:middle;\" /></a></td></tr>\n",
       "<tr><td>18</td><td>Literal</td><td></td><td><a class=\"ProveItLink\" href=\"../../../../../../numbers/division/__pv_it/common/9ecc1ae47b83f7ed759e5ea63a2023a8f2ab04800/expr.ipynb\"><img src=\"../../../../../../numbers/division/__pv_it/common/9ecc1ae47b83f7ed759e5ea63a2023a8f2ab04800/expr.png\" style=\"display:inline;vertical-align:middle;\" /></a></td></tr>\n",
       "<tr><td>19</td><td>ExprTuple</td><td>23, 25</td><td><a class=\"ProveItLink\" href=\"../64e5326d0ed020110d82ef83280ed64b882665770/expr.ipynb\"><img src=\"../64e5326d0ed020110d82ef83280ed64b882665770/expr.png\" style=\"display:inline;vertical-align:middle;\" /></a></td></tr>\n",
       "<tr><td>20</td><td>ExprTuple</td><td>37, 38, 39, 24, 40</td><td><a class=\"ProveItLink\" href=\"../769b64e42d70d765f4f37529942497278a33e3a50/expr.ipynb\"><img src=\"../769b64e42d70d765f4f37529942497278a33e3a50/expr.png\" style=\"display:inline;vertical-align:middle;\" /></a></td></tr>\n",
       "<tr><td>21</td><td>Literal</td><td></td><td><a class=\"ProveItLink\" href=\"../../../../../../numbers/addition/__pv_it/common/1f38fe5cce441387feef296e2c0a2eac260bb4f30/expr.ipynb\"><img src=\"../../../../../../numbers/addition/__pv_it/common/1f38fe5cce441387feef296e2c0a2eac260bb4f30/expr.png\" style=\"display:inline;vertical-align:middle;\" /></a></td></tr>\n",
       "<tr><td>22</td><td>ExprTuple</td><td>25, 26</td><td><a class=\"ProveItLink\" href=\"../89bf674f58d987d2b00dee4ad19681e0d6357d550/expr.ipynb\"><img src=\"../89bf674f58d987d2b00dee4ad19681e0d6357d550/expr.png\" style=\"display:inline;vertical-align:middle;\" /></a></td></tr>\n",
       "<tr><td>23</td><td>Operation</td><td>operator:&nbsp;30<br>operand:&nbsp;32<br></td><td><a class=\"ProveItLink\" href=\"../e195917aa1016118adfa10d65a6c05e616b89d3f0/expr.ipynb\"><img src=\"../e195917aa1016118adfa10d65a6c05e616b89d3f0/expr.png\" style=\"display:inline;vertical-align:middle;\" /></a></td></tr>\n",
       "<tr><td>24</td><td>Literal</td><td></td><td><a class=\"ProveItLink\" href=\"../../common/d2fec64d2d217ad30006a635f6f5795c7c131fbe0/expr.ipynb\"><img src=\"../../common/d2fec64d2d217ad30006a635f6f5795c7c131fbe0/expr.png\" style=\"display:inline;vertical-align:middle;\" /></a></td></tr>\n",
       "<tr><td>25</td><td>Operation</td><td>operator:&nbsp;28<br>operands:&nbsp;29<br></td><td><a class=\"ProveItLink\" href=\"../../common/457b0dff65b633b4c78260366925739952a96c890/expr.ipynb\"><img src=\"../../common/457b0dff65b633b4c78260366925739952a96c890/expr.png\" style=\"display:inline;vertical-align:middle;\" /></a></td></tr>\n",
       "<tr><td>26</td><td>Operation</td><td>operator:&nbsp;30<br>operand:&nbsp;34<br></td><td><a class=\"ProveItLink\" href=\"../../common/194689aa2092eb5e83b339e69e1c112868251dd50/expr.ipynb\"><img src=\"../../common/194689aa2092eb5e83b339e69e1c112868251dd50/expr.png\" style=\"display:inline;vertical-align:middle;\" /></a></td></tr>\n",
       "<tr><td>27</td><td>ExprTuple</td><td>32</td><td><a class=\"ProveItLink\" href=\"../04a6c638f07ca1b12c98cda3293ac02132b9d95a0/expr.ipynb\"><img src=\"../04a6c638f07ca1b12c98cda3293ac02132b9d95a0/expr.png\" style=\"display:inline;vertical-align:middle;\" /></a></td></tr>\n",
       "<tr><td>28</td><td>Literal</td><td></td><td><a class=\"ProveItLink\" href=\"../../../../../../numbers/exponentiation/__pv_it/common/31d1b89e3c2fad7d997556c69b6be6425b6f59a40/expr.ipynb\"><img src=\"../../../../../../numbers/exponentiation/__pv_it/common/31d1b89e3c2fad7d997556c69b6be6425b6f59a40/expr.png\" style=\"display:inline;vertical-align:middle;\" /></a></td></tr>\n",
       "<tr><td>29</td><td>ExprTuple</td><td>37, 33</td><td><a class=\"ProveItLink\" href=\"../../common/dfb548d7806faf732c1098b1ba9dc3cc77d363740/expr.ipynb\"><img src=\"../../common/dfb548d7806faf732c1098b1ba9dc3cc77d363740/expr.png\" style=\"display:inline;vertical-align:middle;\" /></a></td></tr>\n",
       "<tr><td>30</td><td>Literal</td><td></td><td><a class=\"ProveItLink\" href=\"../../../../../../numbers/negation/__pv_it/common/31a69a5c76809537045e3884859f178d8d9c845c0/expr.ipynb\"><img src=\"../../../../../../numbers/negation/__pv_it/common/31a69a5c76809537045e3884859f178d8d9c845c0/expr.png\" style=\"display:inline;vertical-align:middle;\" /></a></td></tr>\n",
       "<tr><td>31</td><td>ExprTuple</td><td>34</td><td><a class=\"ProveItLink\" href=\"../../common/983fb1abdb7789966ec8b7afe0d4f7ca8578c9e50/expr.ipynb\"><img src=\"../../common/983fb1abdb7789966ec8b7afe0d4f7ca8578c9e50/expr.png\" style=\"display:inline;vertical-align:middle;\" /></a></td></tr>\n",
       "<tr><td>32</td><td>Operation</td><td>operator:&nbsp;35<br>operands:&nbsp;36<br></td><td><a class=\"ProveItLink\" href=\"../4cf6b53cad0a3595c7b378d59c8f52f1551456830/expr.ipynb\"><img src=\"../4cf6b53cad0a3595c7b378d59c8f52f1551456830/expr.png\" style=\"display:inline;vertical-align:middle;\" /></a></td></tr>\n",
       "<tr><td>33</td><td>Literal</td><td></td><td><a class=\"ProveItLink\" href=\"../../common/39c1d684e38b5dd4cd200cf6f134282993af2c0b0/expr.ipynb\"><img src=\"../../common/39c1d684e38b5dd4cd200cf6f134282993af2c0b0/expr.png\" style=\"display:inline;vertical-align:middle;\" /></a></td></tr>\n",
       "<tr><td>34</td><td>Literal</td><td></td><td><a class=\"ProveItLink\" href=\"../../../../../../numbers/numerals/__pv_it/common/d278e359da0695d9652dd541d45264f93703e2e40/expr.ipynb\"><img src=\"../../../../../../numbers/numerals/__pv_it/common/d278e359da0695d9652dd541d45264f93703e2e40/expr.png\" style=\"display:inline;vertical-align:middle;\" /></a></td></tr>\n",
       "<tr><td>35</td><td>Literal</td><td></td><td><a class=\"ProveItLink\" href=\"../../../../../../numbers/multiplication/__pv_it/common/c57d60974865e78d434abd3ff22c405685c80ade0/expr.ipynb\"><img src=\"../../../../../../numbers/multiplication/__pv_it/common/c57d60974865e78d434abd3ff22c405685c80ade0/expr.png\" style=\"display:inline;vertical-align:middle;\" /></a></td></tr>\n",
       "<tr><td>36</td><td>ExprTuple</td><td>37, 38, 39, 40, 41</td><td><a class=\"ProveItLink\" href=\"../5bed5c7ab39217e987a52b6ce5d6f80c4e767dc50/expr.ipynb\"><img src=\"../5bed5c7ab39217e987a52b6ce5d6f80c4e767dc50/expr.png\" style=\"display:inline;vertical-align:middle;\" /></a></td></tr>\n",
       "<tr><td>37</td><td>Literal</td><td></td><td><a class=\"ProveItLink\" href=\"../../../../../../numbers/numerals/__pv_it/common/3829356ce3fdf8f35810c63c00bc1a19e838663e0/expr.ipynb\"><img src=\"../../../../../../numbers/numerals/__pv_it/common/3829356ce3fdf8f35810c63c00bc1a19e838663e0/expr.png\" style=\"display:inline;vertical-align:middle;\" /></a></td></tr>\n",
       "<tr><td>38</td><td>Literal</td><td></td><td><a class=\"ProveItLink\" href=\"../../../../../../numbers/number_sets/real_numbers/__pv_it/common/b8a78fd5d53d1da6d41bbb9f4c711797b8f347830/expr.ipynb\"><img src=\"../../../../../../numbers/number_sets/real_numbers/__pv_it/common/b8a78fd5d53d1da6d41bbb9f4c711797b8f347830/expr.png\" style=\"display:inline;vertical-align:middle;\" /></a></td></tr>\n",
       "<tr><td>39</td><td>Literal</td><td></td><td><a class=\"ProveItLink\" href=\"../../../../../../numbers/number_sets/complex_numbers/__pv_it/common/bc076884d4b2fd41fe46d8d3716817413e0e52920/expr.ipynb\"><img src=\"../../../../../../numbers/number_sets/complex_numbers/__pv_it/common/bc076884d4b2fd41fe46d8d3716817413e0e52920/expr.png\" style=\"display:inline;vertical-align:middle;\" /></a></td></tr>\n",
       "<tr><td>40</td><td>Variable</td><td></td><td><a class=\"ProveItLink\" href=\"../../../../../../__pv_it/common/b9fd37fc619babc74a6203459f110251586df6970/expr.ipynb\"><img src=\"../../../../../../__pv_it/common/b9fd37fc619babc74a6203459f110251586df6970/expr.png\" style=\"display:inline;vertical-align:middle;\" /></a></td></tr>\n",
       "<tr><td>41</td><td>Operation</td><td>operator:&nbsp;42<br>operands:&nbsp;43<br></td><td><a class=\"ProveItLink\" href=\"../fe0814a11713b87c3f39c25be8af4dda33a614af0/expr.ipynb\"><img src=\"../fe0814a11713b87c3f39c25be8af4dda33a614af0/expr.png\" style=\"display:inline;vertical-align:middle;\" /></a></td></tr>\n",
       "<tr><td>42</td><td>Literal</td><td></td><td><a class=\"ProveItLink\" href=\"../../common/6e5dbc42e5663f90b99f3fe4119e87bcc81251ac0/expr.ipynb\"><img src=\"../../common/6e5dbc42e5663f90b99f3fe4119e87bcc81251ac0/expr.png\" style=\"display:inline;vertical-align:middle;\" /></a></td></tr>\n",
       "<tr><td>43</td><td>ExprTuple</td><td>44, 45</td><td><a class=\"ProveItLink\" href=\"../c598e315bb829f353ecfec00a7987602e905e44d0/expr.ipynb\"><img src=\"../c598e315bb829f353ecfec00a7987602e905e44d0/expr.png\" style=\"display:inline;vertical-align:middle;\" /></a></td></tr>\n",
       "<tr><td>44</td><td>Literal</td><td></td><td><a class=\"ProveItLink\" href=\"../../common/5e50c5d70951d830477d02ce423fc5d8f80be26e0/expr.ipynb\"><img src=\"../../common/5e50c5d70951d830477d02ce423fc5d8f80be26e0/expr.png\" style=\"display:inline;vertical-align:middle;\" /></a></td></tr>\n",
       "<tr><td>45</td><td>Variable</td><td></td><td><a class=\"ProveItLink\" href=\"../../../../../../__pv_it/common/5f60d32873626c7ce57e35d1d9e427fb112cfe7a0/expr.ipynb\"><img src=\"../../../../../../__pv_it/common/5f60d32873626c7ce57e35d1d9e427fb112cfe7a0/expr.png\" style=\"display:inline;vertical-align:middle;\" /></a></td></tr>\n",
       "</table>\n"
      ],
      "text/plain": [
       "0. {e^{(-(2 * pi * i * k * (b MOD_ADD l))) / 2^{t}} * e^{2 * pi * i * phase * k} if k in {0...2^{t} - 1}.\n",
       "   core type: Conditional\n",
       "   value: 1\n",
       "   condition: 2\n",
       "1. e^{(-(2 * pi * i * k * (b MOD_ADD l))) / 2^{t}} * e^{2 * pi * i * phase * k}\n",
       "   core type: Operation\n",
       "   operator: 35\n",
       "   operands: 3\n",
       "2. k in {0...2^{t} - 1}\n",
       "   core type: Operation\n",
       "   operator: 4\n",
       "   operands: 5\n",
       "3. (e^{(-(2 * pi * i * k * (b MOD_ADD l))) / 2^{t}}, e^{2 * pi * i * phase * k})\n",
       "   core type: ExprTuple\n",
       "   sub-expressions: 6, 7\n",
       "4. in\n",
       "   core type: Literal\n",
       "   sub-expressions: \n",
       "5. (k, {0...2^{t} - 1})\n",
       "   core type: ExprTuple\n",
       "   sub-expressions: 40, 8\n",
       "6. e^{(-(2 * pi * i * k * (b MOD_ADD l))) / 2^{t}}\n",
       "   core type: Operation\n",
       "   operator: 28\n",
       "   operands: 9\n",
       "7. e^{2 * pi * i * phase * k}\n",
       "   core type: Operation\n",
       "   operator: 28\n",
       "   operands: 10\n",
       "8. {0...2^{t} - 1}\n",
       "   core type: Operation\n",
       "   operator: 11\n",
       "   operands: 12\n",
       "9. (e, (-(2 * pi * i * k * (b MOD_ADD l))) / 2^{t})\n",
       "   core type: ExprTuple\n",
       "   sub-expressions: 14, 13\n",
       "10. (e, 2 * pi * i * phase * k)\n",
       "    core type: ExprTuple\n",
       "    sub-expressions: 14, 15\n",
       "11. Interval\n",
       "    core type: Literal\n",
       "    sub-expressions: \n",
       "12. (0, 2^{t} - 1)\n",
       "    core type: ExprTuple\n",
       "    sub-expressions: 16, 17\n",
       "13. (-(2 * pi * i * k * (b MOD_ADD l))) / 2^{t}\n",
       "    core type: Operation\n",
       "    operator: 18\n",
       "    operands: 19\n",
       "14. e\n",
       "    core type: Literal\n",
       "    sub-expressions: \n",
       "15. 2 * pi * i * phase * k\n",
       "    core type: Operation\n",
       "    operator: 35\n",
       "    operands: 20\n",
       "16. 0\n",
       "    core type: Literal\n",
       "    sub-expressions: \n",
       "17. 2^{t} - 1\n",
       "    core type: Operation\n",
       "    operator: 21\n",
       "    operands: 22\n",
       "18. /\n",
       "    core type: Literal\n",
       "    sub-expressions: \n",
       "19. (-(2 * pi * i * k * (b MOD_ADD l)), 2^{t})\n",
       "    core type: ExprTuple\n",
       "    sub-expressions: 23, 25\n",
       "20. (2, pi, i, phase, k)\n",
       "    core type: ExprTuple\n",
       "    sub-expressions: 37, 38, 39, 24, 40\n",
       "21. +\n",
       "    core type: Literal\n",
       "    sub-expressions: \n",
       "22. (2^{t}, -1)\n",
       "    core type: ExprTuple\n",
       "    sub-expressions: 25, 26\n",
       "23. -(2 * pi * i * k * (b MOD_ADD l))\n",
       "    core type: Operation\n",
       "    operator: 30\n",
       "    operand: 32\n",
       "24. phase\n",
       "    core type: Literal\n",
       "    sub-expressions: \n",
       "25. 2^{t}\n",
       "    core type: Operation\n",
       "    operator: 28\n",
       "    operands: 29\n",
       "26. -1\n",
       "    core type: Operation\n",
       "    operator: 30\n",
       "    operand: 34\n",
       "27. (2 * pi * i * k * (b MOD_ADD l))\n",
       "    core type: ExprTuple\n",
       "    sub-expressions: 32\n",
       "28. Exp\n",
       "    core type: Literal\n",
       "    sub-expressions: \n",
       "29. (2, t)\n",
       "    core type: ExprTuple\n",
       "    sub-expressions: 37, 33\n",
       "30. -\n",
       "    core type: Literal\n",
       "    sub-expressions: \n",
       "31. (1)\n",
       "    core type: ExprTuple\n",
       "    sub-expressions: 34\n",
       "32. 2 * pi * i * k * (b MOD_ADD l)\n",
       "    core type: Operation\n",
       "    operator: 35\n",
       "    operands: 36\n",
       "33. t\n",
       "    core type: Literal\n",
       "    sub-expressions: \n",
       "34. 1\n",
       "    core type: Literal\n",
       "    sub-expressions: \n",
       "35. *\n",
       "    core type: Literal\n",
       "    sub-expressions: \n",
       "36. (2, pi, i, k, b MOD_ADD l)\n",
       "    core type: ExprTuple\n",
       "    sub-expressions: 37, 38, 39, 40, 41\n",
       "37. 2\n",
       "    core type: Literal\n",
       "    sub-expressions: \n",
       "38. pi\n",
       "    core type: Literal\n",
       "    sub-expressions: \n",
       "39. i\n",
       "    core type: Literal\n",
       "    sub-expressions: \n",
       "40. k\n",
       "    core type: Variable\n",
       "    sub-expressions: \n",
       "41. b MOD_ADD l\n",
       "    core type: Operation\n",
       "    operator: 42\n",
       "    operands: 43\n",
       "42. MOD_ADD\n",
       "    core type: Literal\n",
       "    sub-expressions: \n",
       "43. (b, l)\n",
       "    core type: ExprTuple\n",
       "    sub-expressions: 44, 45\n",
       "44. b\n",
       "    core type: Literal\n",
       "    sub-expressions: \n",
       "45. l\n",
       "    core type: Variable\n",
       "    sub-expressions: "
      ]
     },
     "execution_count": 6,
     "metadata": {},
     "output_type": "execute_result"
    }
   ],
   "source": [
    "# display the expression information\n",
    "expr.expr_info()"
   ]
  },
  {
   "cell_type": "code",
   "execution_count": null,
   "metadata": {},
   "outputs": [],
   "source": []
  }
 ],
 "metadata": {
  "kernelspec": {
   "display_name": "Python 3",
   "language": "python",
   "name": "python3"
  }
 },
 "nbformat": 4,
 "nbformat_minor": 0
}