{
 "cells": [
  {
   "cell_type": "markdown",
   "metadata": {},
   "source": [
    "Expression of type <a class=\"ProveItLink\" href=\"../../../../../../../../doc/html/api/proveit.Lambda.html\">Lambda</a>\n",
    "=======================\n",
    "# from the theory of <a class=\"ProveItLink\" href=\"../../../_theory_nbs_/theory.ipynb\">proveit.physics.quantum.QPE</a>"
   ]
  },
  {
   "cell_type": "code",
   "execution_count": 1,
   "metadata": {},
   "outputs": [],
   "source": [
    "import proveit\n",
    "# Automation is not needed when building an expression:\n",
    "proveit.defaults.automation = False # This will speed things up.\n",
    "proveit.defaults.inline_pngs = False # Makes files smaller.\n",
    "%load_expr # Load the stored expression as 'stored_expr'\n",
    "# import Expression classes needed to build the expression\n",
    "from proveit import Conditional, Lambda, l\n",
    "from proveit.logic import InSet\n",
    "from proveit.physics.quantum.QPE import alpha_l_sqrd, neg_domain"
   ]
  },
  {
   "cell_type": "code",
   "execution_count": 2,
   "metadata": {},
   "outputs": [
    {
     "data": {
      "text/html": [
       "<strong id=\"expr\">expr:</strong> <a class=\"ProveItLink\" href=\"expr.ipynb\"><img src=\"expr.png\" style=\"display:inline;vertical-align:middle;\" /></a><br>"
      ],
      "text/plain": [
       "expr: l -> {|alpha_{l}|^{2} if l in {-2^{t - 1} + 1...-(eps + 1)}."
      ]
     },
     "execution_count": 2,
     "metadata": {},
     "output_type": "execute_result"
    }
   ],
   "source": [
    "# build up the expression from sub-expressions\n",
    "expr = Lambda(l, Conditional(alpha_l_sqrd, InSet(l, neg_domain)))"
   ]
  },
  {
   "cell_type": "code",
   "execution_count": 3,
   "metadata": {},
   "outputs": [
    {
     "name": "stdout",
     "output_type": "stream",
     "text": [
      "Passed sanity check: expr matches stored_expr\n"
     ]
    }
   ],
   "source": [
    "# check that the built expression is the same as the stored expression\n",
    "assert expr == stored_expr\n",
    "assert expr._style_id == stored_expr._style_id\n",
    "print(\"Passed sanity check: expr matches stored_expr\")"
   ]
  },
  {
   "cell_type": "code",
   "execution_count": 4,
   "metadata": {},
   "outputs": [
    {
     "name": "stdout",
     "output_type": "stream",
     "text": [
      "l \\mapsto \\left\\{\\left|\\alpha_{l}\\right|^{2} \\textrm{ if } l \\in \\{-2^{t - 1} + 1 \\ldots -\\left(\\varepsilon + 1\\right)\\}\\right..\n"
     ]
    }
   ],
   "source": [
    "# Show the LaTeX representation of the expression for convenience if you need it.\n",
    "print(expr.latex())"
   ]
  },
  {
   "cell_type": "code",
   "execution_count": 5,
   "metadata": {},
   "outputs": [
    {
     "data": {
      "text/html": [
       "no style options"
      ],
      "text/plain": [
       "no style options"
      ]
     },
     "execution_count": 5,
     "metadata": {},
     "output_type": "execute_result"
    }
   ],
   "source": [
    "expr.style_options()"
   ]
  },
  {
   "cell_type": "code",
   "execution_count": 6,
   "metadata": {},
   "outputs": [
    {
     "data": {
      "text/html": [
       "<table><tr><th>&nbsp;</th><th>core type</th><th>sub-expressions</th><th>expression</th></tr>\n",
       "<tr><td>0</td><td>Lambda</td><td>parameter:&nbsp;21<br>body:&nbsp;1<br></td><td><a class=\"ProveItLink\" href=\"expr.ipynb\"><img src=\"expr.png\" style=\"display:inline;vertical-align:middle;\" /></a></td></tr>\n",
       "<tr><td>1</td><td>Conditional</td><td>value:&nbsp;2<br>condition:&nbsp;3<br></td><td><a class=\"ProveItLink\" href=\"../4fbc2ce14e8c958ee263b90beb0a7ae2612d9dd60/expr.ipynb\"><img src=\"../4fbc2ce14e8c958ee263b90beb0a7ae2612d9dd60/expr.png\" style=\"display:inline;vertical-align:middle;\" /></a></td></tr>\n",
       "<tr><td>2</td><td>Operation</td><td>operator:&nbsp;28<br>operands:&nbsp;4<br></td><td><a class=\"ProveItLink\" href=\"../../common/5bd448a11909ad59da0b9be207fcde8c4ebfaf2c0/expr.ipynb\"><img src=\"../../common/5bd448a11909ad59da0b9be207fcde8c4ebfaf2c0/expr.png\" style=\"display:inline;vertical-align:middle;\" /></a></td></tr>\n",
       "<tr><td>3</td><td>Operation</td><td>operator:&nbsp;5<br>operands:&nbsp;6<br></td><td><a class=\"ProveItLink\" href=\"../43d1b921afe0a4ffd2799b97124b1c908922a0040/expr.ipynb\"><img src=\"../43d1b921afe0a4ffd2799b97124b1c908922a0040/expr.png\" style=\"display:inline;vertical-align:middle;\" /></a></td></tr>\n",
       "<tr><td>4</td><td>ExprTuple</td><td>7, 30</td><td><a class=\"ProveItLink\" href=\"../../common/c5966987279cc51483c7bc3e8995e392228db7510/expr.ipynb\"><img src=\"../../common/c5966987279cc51483c7bc3e8995e392228db7510/expr.png\" style=\"display:inline;vertical-align:middle;\" /></a></td></tr>\n",
       "<tr><td>5</td><td>Literal</td><td></td><td><a class=\"ProveItLink\" href=\"../../../../../../logic/sets/membership/__pv_it/common/7171deca84f71f47a6ec7696972d1632274a12880/expr.ipynb\"><img src=\"../../../../../../logic/sets/membership/__pv_it/common/7171deca84f71f47a6ec7696972d1632274a12880/expr.png\" style=\"display:inline;vertical-align:middle;\" /></a></td></tr>\n",
       "<tr><td>6</td><td>ExprTuple</td><td>21, 8</td><td><a class=\"ProveItLink\" href=\"../493458871319f9997dc02b0cd834e7711799f1f20/expr.ipynb\"><img src=\"../493458871319f9997dc02b0cd834e7711799f1f20/expr.png\" style=\"display:inline;vertical-align:middle;\" /></a></td></tr>\n",
       "<tr><td>7</td><td>Operation</td><td>operator:&nbsp;9<br>operand:&nbsp;13<br></td><td><a class=\"ProveItLink\" href=\"../../common/e076726c4694107586863837dea7ffa3c5c671440/expr.ipynb\"><img src=\"../../common/e076726c4694107586863837dea7ffa3c5c671440/expr.png\" style=\"display:inline;vertical-align:middle;\" /></a></td></tr>\n",
       "<tr><td>8</td><td>Operation</td><td>operator:&nbsp;11<br>operands:&nbsp;12<br></td><td><a class=\"ProveItLink\" href=\"../../common/ed11d4e511a617cc6aa5107abd185735c5ad306d0/expr.ipynb\"><img src=\"../../common/ed11d4e511a617cc6aa5107abd185735c5ad306d0/expr.png\" style=\"display:inline;vertical-align:middle;\" /></a></td></tr>\n",
       "<tr><td>9</td><td>Literal</td><td></td><td><a class=\"ProveItLink\" href=\"../../../../../../numbers/absolute_value/__pv_it/common/6430f141f5f0b9665d136ab5dd21c24f48b3a19c0/expr.ipynb\"><img src=\"../../../../../../numbers/absolute_value/__pv_it/common/6430f141f5f0b9665d136ab5dd21c24f48b3a19c0/expr.png\" style=\"display:inline;vertical-align:middle;\" /></a></td></tr>\n",
       "<tr><td>10</td><td>ExprTuple</td><td>13</td><td><a class=\"ProveItLink\" href=\"../../common/6cdd4b022c583118eb1bae82ab918d0c32c4ea470/expr.ipynb\"><img src=\"../../common/6cdd4b022c583118eb1bae82ab918d0c32c4ea470/expr.png\" style=\"display:inline;vertical-align:middle;\" /></a></td></tr>\n",
       "<tr><td>11</td><td>Literal</td><td></td><td><a class=\"ProveItLink\" href=\"../../../../../../numbers/number_sets/integers/__pv_it/common/fcf0def17f5c3c84b64c959b39aed0e5dad7f3340/expr.ipynb\"><img src=\"../../../../../../numbers/number_sets/integers/__pv_it/common/fcf0def17f5c3c84b64c959b39aed0e5dad7f3340/expr.png\" style=\"display:inline;vertical-align:middle;\" /></a></td></tr>\n",
       "<tr><td>12</td><td>ExprTuple</td><td>14, 15</td><td><a class=\"ProveItLink\" href=\"../../common/8010fa7d78c1dcbc9a5687727dc21588af6016dd0/expr.ipynb\"><img src=\"../../common/8010fa7d78c1dcbc9a5687727dc21588af6016dd0/expr.png\" style=\"display:inline;vertical-align:middle;\" /></a></td></tr>\n",
       "<tr><td>13</td><td>Operation</td><td>operator:&nbsp;16<br>operands:&nbsp;17<br></td><td><a class=\"ProveItLink\" href=\"../../common/6b6693d7e7da3a9b576b0b96afc4cef1f41a7eaa0/expr.ipynb\"><img src=\"../../common/6b6693d7e7da3a9b576b0b96afc4cef1f41a7eaa0/expr.png\" style=\"display:inline;vertical-align:middle;\" /></a></td></tr>\n",
       "<tr><td>14</td><td>Operation</td><td>operator:&nbsp;32<br>operands:&nbsp;18<br></td><td><a class=\"ProveItLink\" href=\"../../common/23454c9d18a86cc328c1e64d5450b9b741ba17e20/expr.ipynb\"><img src=\"../../common/23454c9d18a86cc328c1e64d5450b9b741ba17e20/expr.png\" style=\"display:inline;vertical-align:middle;\" /></a></td></tr>\n",
       "<tr><td>15</td><td>Operation</td><td>operator:&nbsp;36<br>operand:&nbsp;23<br></td><td><a class=\"ProveItLink\" href=\"../../common/c9e7b204821b586f2bb88a11a7795117bce664260/expr.ipynb\"><img src=\"../../common/c9e7b204821b586f2bb88a11a7795117bce664260/expr.png\" style=\"display:inline;vertical-align:middle;\" /></a></td></tr>\n",
       "<tr><td>16</td><td>Literal</td><td></td><td><a class=\"ProveItLink\" href=\"../../common/fa834395d810710d865bb8379bdb0806d419db9b0/expr.ipynb\"><img src=\"../../common/fa834395d810710d865bb8379bdb0806d419db9b0/expr.png\" style=\"display:inline;vertical-align:middle;\" /></a></td></tr>\n",
       "<tr><td>17</td><td>ExprTuple</td><td>20, 21</td><td><a class=\"ProveItLink\" href=\"../../common/5f9bd56a9598af524f3e0df967b7d94242573db80/expr.ipynb\"><img src=\"../../common/5f9bd56a9598af524f3e0df967b7d94242573db80/expr.png\" style=\"display:inline;vertical-align:middle;\" /></a></td></tr>\n",
       "<tr><td>18</td><td>ExprTuple</td><td>22, 38</td><td><a class=\"ProveItLink\" href=\"../../common/d473ebf4b0efe9db202f06279632c83cd6a4ed090/expr.ipynb\"><img src=\"../../common/d473ebf4b0efe9db202f06279632c83cd6a4ed090/expr.png\" style=\"display:inline;vertical-align:middle;\" /></a></td></tr>\n",
       "<tr><td>19</td><td>ExprTuple</td><td>23</td><td><a class=\"ProveItLink\" href=\"../../common/de580d927663dc854c2d99970c1ff16521fb64900/expr.ipynb\"><img src=\"../../common/de580d927663dc854c2d99970c1ff16521fb64900/expr.png\" style=\"display:inline;vertical-align:middle;\" /></a></td></tr>\n",
       "<tr><td>20</td><td>Literal</td><td></td><td><a class=\"ProveItLink\" href=\"../../common/7e436a3cff4097047049586cee08457d5f001a270/expr.ipynb\"><img src=\"../../common/7e436a3cff4097047049586cee08457d5f001a270/expr.png\" style=\"display:inline;vertical-align:middle;\" /></a></td></tr>\n",
       "<tr><td>21</td><td>Variable</td><td></td><td><a class=\"ProveItLink\" href=\"../../../../../../__pv_it/common/5f60d32873626c7ce57e35d1d9e427fb112cfe7a0/expr.ipynb\"><img src=\"../../../../../../__pv_it/common/5f60d32873626c7ce57e35d1d9e427fb112cfe7a0/expr.png\" style=\"display:inline;vertical-align:middle;\" /></a></td></tr>\n",
       "<tr><td>22</td><td>Operation</td><td>operator:&nbsp;36<br>operand:&nbsp;26<br></td><td><a class=\"ProveItLink\" href=\"../../common/97f4bed0136aaed595b0c2707f8b733a3e18c7b10/expr.ipynb\"><img src=\"../../common/97f4bed0136aaed595b0c2707f8b733a3e18c7b10/expr.png\" style=\"display:inline;vertical-align:middle;\" /></a></td></tr>\n",
       "<tr><td>23</td><td>Operation</td><td>operator:&nbsp;32<br>operands:&nbsp;25<br></td><td><a class=\"ProveItLink\" href=\"../../common/ee4a676a4be42364242a9905ef40ee55a69e2c2f0/expr.ipynb\"><img src=\"../../common/ee4a676a4be42364242a9905ef40ee55a69e2c2f0/expr.png\" style=\"display:inline;vertical-align:middle;\" /></a></td></tr>\n",
       "<tr><td>24</td><td>ExprTuple</td><td>26</td><td><a class=\"ProveItLink\" href=\"../../common/b0ba8ab219ddbdc9f910b2a6d05b9f4036a8538e0/expr.ipynb\"><img src=\"../../common/b0ba8ab219ddbdc9f910b2a6d05b9f4036a8538e0/expr.png\" style=\"display:inline;vertical-align:middle;\" /></a></td></tr>\n",
       "<tr><td>25</td><td>ExprTuple</td><td>27, 38</td><td><a class=\"ProveItLink\" href=\"../../common/94bbb187e0fef07aa0a5eee9dbcfd444be86b2f80/expr.ipynb\"><img src=\"../../common/94bbb187e0fef07aa0a5eee9dbcfd444be86b2f80/expr.png\" style=\"display:inline;vertical-align:middle;\" /></a></td></tr>\n",
       "<tr><td>26</td><td>Operation</td><td>operator:&nbsp;28<br>operands:&nbsp;29<br></td><td><a class=\"ProveItLink\" href=\"../../common/0792a1d5c4681297bfa0e77c90b2569914aae74f0/expr.ipynb\"><img src=\"../../common/0792a1d5c4681297bfa0e77c90b2569914aae74f0/expr.png\" style=\"display:inline;vertical-align:middle;\" /></a></td></tr>\n",
       "<tr><td>27</td><td>Variable</td><td></td><td><a class=\"ProveItLink\" href=\"../../../../../../__pv_it/common/6ccbd8f7424e34c92aa1208d7ccef106f5849c250/expr.ipynb\"><img src=\"../../../../../../__pv_it/common/6ccbd8f7424e34c92aa1208d7ccef106f5849c250/expr.png\" style=\"display:inline;vertical-align:middle;\" /></a></td></tr>\n",
       "<tr><td>28</td><td>Literal</td><td></td><td><a class=\"ProveItLink\" href=\"../../../../../../numbers/exponentiation/__pv_it/common/31d1b89e3c2fad7d997556c69b6be6425b6f59a40/expr.ipynb\"><img src=\"../../../../../../numbers/exponentiation/__pv_it/common/31d1b89e3c2fad7d997556c69b6be6425b6f59a40/expr.png\" style=\"display:inline;vertical-align:middle;\" /></a></td></tr>\n",
       "<tr><td>29</td><td>ExprTuple</td><td>30, 31</td><td><a class=\"ProveItLink\" href=\"../../common/4f96f4a928cdb57c599341d749f9e84260c40fdd0/expr.ipynb\"><img src=\"../../common/4f96f4a928cdb57c599341d749f9e84260c40fdd0/expr.png\" style=\"display:inline;vertical-align:middle;\" /></a></td></tr>\n",
       "<tr><td>30</td><td>Literal</td><td></td><td><a class=\"ProveItLink\" href=\"../../../../../../numbers/numerals/__pv_it/common/3829356ce3fdf8f35810c63c00bc1a19e838663e0/expr.ipynb\"><img src=\"../../../../../../numbers/numerals/__pv_it/common/3829356ce3fdf8f35810c63c00bc1a19e838663e0/expr.png\" style=\"display:inline;vertical-align:middle;\" /></a></td></tr>\n",
       "<tr><td>31</td><td>Operation</td><td>operator:&nbsp;32<br>operands:&nbsp;33<br></td><td><a class=\"ProveItLink\" href=\"../../common/2bd9790a8ceb0cbaa297908b29d1d26135fb49df0/expr.ipynb\"><img src=\"../../common/2bd9790a8ceb0cbaa297908b29d1d26135fb49df0/expr.png\" style=\"display:inline;vertical-align:middle;\" /></a></td></tr>\n",
       "<tr><td>32</td><td>Literal</td><td></td><td><a class=\"ProveItLink\" href=\"../../../../../../numbers/addition/__pv_it/common/1f38fe5cce441387feef296e2c0a2eac260bb4f30/expr.ipynb\"><img src=\"../../../../../../numbers/addition/__pv_it/common/1f38fe5cce441387feef296e2c0a2eac260bb4f30/expr.png\" style=\"display:inline;vertical-align:middle;\" /></a></td></tr>\n",
       "<tr><td>33</td><td>ExprTuple</td><td>34, 35</td><td><a class=\"ProveItLink\" href=\"../../common/228a84a9850aca6e9a3f2ee00bbfb728e8599f670/expr.ipynb\"><img src=\"../../common/228a84a9850aca6e9a3f2ee00bbfb728e8599f670/expr.png\" style=\"display:inline;vertical-align:middle;\" /></a></td></tr>\n",
       "<tr><td>34</td><td>Literal</td><td></td><td><a class=\"ProveItLink\" href=\"../../common/39c1d684e38b5dd4cd200cf6f134282993af2c0b0/expr.ipynb\"><img src=\"../../common/39c1d684e38b5dd4cd200cf6f134282993af2c0b0/expr.png\" style=\"display:inline;vertical-align:middle;\" /></a></td></tr>\n",
       "<tr><td>35</td><td>Operation</td><td>operator:&nbsp;36<br>operand:&nbsp;38<br></td><td><a class=\"ProveItLink\" href=\"../../common/194689aa2092eb5e83b339e69e1c112868251dd50/expr.ipynb\"><img src=\"../../common/194689aa2092eb5e83b339e69e1c112868251dd50/expr.png\" style=\"display:inline;vertical-align:middle;\" /></a></td></tr>\n",
       "<tr><td>36</td><td>Literal</td><td></td><td><a class=\"ProveItLink\" href=\"../../../../../../numbers/negation/__pv_it/common/31a69a5c76809537045e3884859f178d8d9c845c0/expr.ipynb\"><img src=\"../../../../../../numbers/negation/__pv_it/common/31a69a5c76809537045e3884859f178d8d9c845c0/expr.png\" style=\"display:inline;vertical-align:middle;\" /></a></td></tr>\n",
       "<tr><td>37</td><td>ExprTuple</td><td>38</td><td><a class=\"ProveItLink\" href=\"../../common/983fb1abdb7789966ec8b7afe0d4f7ca8578c9e50/expr.ipynb\"><img src=\"../../common/983fb1abdb7789966ec8b7afe0d4f7ca8578c9e50/expr.png\" style=\"display:inline;vertical-align:middle;\" /></a></td></tr>\n",
       "<tr><td>38</td><td>Literal</td><td></td><td><a class=\"ProveItLink\" href=\"../../../../../../numbers/numerals/__pv_it/common/d278e359da0695d9652dd541d45264f93703e2e40/expr.ipynb\"><img src=\"../../../../../../numbers/numerals/__pv_it/common/d278e359da0695d9652dd541d45264f93703e2e40/expr.png\" style=\"display:inline;vertical-align:middle;\" /></a></td></tr>\n",
       "</table>\n"
      ],
      "text/plain": [
       "0. l -> {|alpha_{l}|^{2} if l in {-2^{t - 1} + 1...-(eps + 1)}.\n",
       "   core type: Lambda\n",
       "   parameter: 21\n",
       "   body: 1\n",
       "1. {|alpha_{l}|^{2} if l in {-2^{t - 1} + 1...-(eps + 1)}.\n",
       "   core type: Conditional\n",
       "   value: 2\n",
       "   condition: 3\n",
       "2. |alpha_{l}|^{2}\n",
       "   core type: Operation\n",
       "   operator: 28\n",
       "   operands: 4\n",
       "3. l in {-2^{t - 1} + 1...-(eps + 1)}\n",
       "   core type: Operation\n",
       "   operator: 5\n",
       "   operands: 6\n",
       "4. (|alpha_{l}|, 2)\n",
       "   core type: ExprTuple\n",
       "   sub-expressions: 7, 30\n",
       "5. in\n",
       "   core type: Literal\n",
       "   sub-expressions: \n",
       "6. (l, {-2^{t - 1} + 1...-(eps + 1)})\n",
       "   core type: ExprTuple\n",
       "   sub-expressions: 21, 8\n",
       "7. |alpha_{l}|\n",
       "   core type: Operation\n",
       "   operator: 9\n",
       "   operand: 13\n",
       "8. {-2^{t - 1} + 1...-(eps + 1)}\n",
       "   core type: Operation\n",
       "   operator: 11\n",
       "   operands: 12\n",
       "9. Abs\n",
       "   core type: Literal\n",
       "   sub-expressions: \n",
       "10. (alpha_{l})\n",
       "    core type: ExprTuple\n",
       "    sub-expressions: 13\n",
       "11. Interval\n",
       "    core type: Literal\n",
       "    sub-expressions: \n",
       "12. (-2^{t - 1} + 1, -(eps + 1))\n",
       "    core type: ExprTuple\n",
       "    sub-expressions: 14, 15\n",
       "13. alpha_{l}\n",
       "    core type: Operation\n",
       "    operator: 16\n",
       "    operands: 17\n",
       "14. -2^{t - 1} + 1\n",
       "    core type: Operation\n",
       "    operator: 32\n",
       "    operands: 18\n",
       "15. -(eps + 1)\n",
       "    core type: Operation\n",
       "    operator: 36\n",
       "    operand: 23\n",
       "16. SUB_INDEXED\n",
       "    core type: Literal\n",
       "    sub-expressions: \n",
       "17. (alpha, l)\n",
       "    core type: ExprTuple\n",
       "    sub-expressions: 20, 21\n",
       "18. (-2^{t - 1}, 1)\n",
       "    core type: ExprTuple\n",
       "    sub-expressions: 22, 38\n",
       "19. (eps + 1)\n",
       "    core type: ExprTuple\n",
       "    sub-expressions: 23\n",
       "20. alpha\n",
       "    core type: Literal\n",
       "    sub-expressions: \n",
       "21. l\n",
       "    core type: Variable\n",
       "    sub-expressions: \n",
       "22. -2^{t - 1}\n",
       "    core type: Operation\n",
       "    operator: 36\n",
       "    operand: 26\n",
       "23. eps + 1\n",
       "    core type: Operation\n",
       "    operator: 32\n",
       "    operands: 25\n",
       "24. (2^{t - 1})\n",
       "    core type: ExprTuple\n",
       "    sub-expressions: 26\n",
       "25. (eps, 1)\n",
       "    core type: ExprTuple\n",
       "    sub-expressions: 27, 38\n",
       "26. 2^{t - 1}\n",
       "    core type: Operation\n",
       "    operator: 28\n",
       "    operands: 29\n",
       "27. eps\n",
       "    core type: Variable\n",
       "    sub-expressions: \n",
       "28. Exp\n",
       "    core type: Literal\n",
       "    sub-expressions: \n",
       "29. (2, t - 1)\n",
       "    core type: ExprTuple\n",
       "    sub-expressions: 30, 31\n",
       "30. 2\n",
       "    core type: Literal\n",
       "    sub-expressions: \n",
       "31. t - 1\n",
       "    core type: Operation\n",
       "    operator: 32\n",
       "    operands: 33\n",
       "32. +\n",
       "    core type: Literal\n",
       "    sub-expressions: \n",
       "33. (t, -1)\n",
       "    core type: ExprTuple\n",
       "    sub-expressions: 34, 35\n",
       "34. t\n",
       "    core type: Literal\n",
       "    sub-expressions: \n",
       "35. -1\n",
       "    core type: Operation\n",
       "    operator: 36\n",
       "    operand: 38\n",
       "36. -\n",
       "    core type: Literal\n",
       "    sub-expressions: \n",
       "37. (1)\n",
       "    core type: ExprTuple\n",
       "    sub-expressions: 38\n",
       "38. 1\n",
       "    core type: Literal\n",
       "    sub-expressions: "
      ]
     },
     "execution_count": 6,
     "metadata": {},
     "output_type": "execute_result"
    }
   ],
   "source": [
    "# display the expression information\n",
    "expr.expr_info()"
   ]
  },
  {
   "cell_type": "code",
   "execution_count": null,
   "metadata": {},
   "outputs": [],
   "source": []
  }
 ],
 "metadata": {
  "kernelspec": {
   "display_name": "Python 3",
   "language": "python",
   "name": "python3"
  }
 },
 "nbformat": 4,
 "nbformat_minor": 0
}