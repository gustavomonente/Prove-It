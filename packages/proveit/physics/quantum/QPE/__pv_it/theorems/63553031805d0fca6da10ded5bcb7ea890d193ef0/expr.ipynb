{
 "cells": [
  {
   "cell_type": "markdown",
   "metadata": {},
   "source": [
    "Expression of type <a class=\"ProveItLink\" href=\"../../../../../../../../doc/html/api/proveit.ExprTuple.html\">ExprTuple</a>\n",
    "=======================\n",
    "# from the theory of <a class=\"ProveItLink\" href=\"../../../_theory_nbs_/theory.ipynb\">proveit.physics.quantum.QPE</a>"
   ]
  },
  {
   "cell_type": "code",
   "execution_count": 1,
   "metadata": {},
   "outputs": [],
   "source": [
    "import proveit\n",
    "# Automation is not needed when building an expression:\n",
    "proveit.defaults.automation = False # This will speed things up.\n",
    "proveit.defaults.inline_pngs = False # Makes files smaller.\n",
    "%load_expr # Load the stored expression as 'stored_expr'\n",
    "# import Expression classes needed to build the expression\n",
    "from proveit import Conditional, ExprTuple, Lambda, eps\n",
    "from proveit.logic import InSet\n",
    "from proveit.numbers import Add, Exp, LessEq, Mult, frac, one, two\n",
    "from proveit.physics.quantum.QPE import Pfail, eps_domain"
   ]
  },
  {
   "cell_type": "code",
   "execution_count": 2,
   "metadata": {},
   "outputs": [
    {
     "data": {
      "text/html": [
       "<strong id=\"expr\">expr:</strong> <a class=\"ProveItLink\" href=\"expr.ipynb\"><img src=\"expr.png\" style=\"display:inline;vertical-align:middle;\" /></a><br>"
      ],
      "text/plain": [
       "expr: (eps -> {Pfail(eps) <= ((1 / 2) * ((1 / eps) + (1 / eps^{2}))) if eps in {1...2^{t - 1} - 2}.)"
      ]
     },
     "execution_count": 2,
     "metadata": {},
     "output_type": "execute_result"
    }
   ],
   "source": [
    "# build up the expression from sub-expressions\n",
    "expr = ExprTuple(Lambda(eps, Conditional(LessEq(Pfail(eps), Mult(frac(one, two), Add(frac(one, eps), frac(one, Exp(eps, two))))), InSet(eps, eps_domain))))"
   ]
  },
  {
   "cell_type": "code",
   "execution_count": 3,
   "metadata": {},
   "outputs": [
    {
     "name": "stdout",
     "output_type": "stream",
     "text": [
      "Passed sanity check: expr matches stored_expr\n"
     ]
    }
   ],
   "source": [
    "# check that the built expression is the same as the stored expression\n",
    "assert expr == stored_expr\n",
    "assert expr._style_id == stored_expr._style_id\n",
    "print(\"Passed sanity check: expr matches stored_expr\")"
   ]
  },
  {
   "cell_type": "code",
   "execution_count": 4,
   "metadata": {},
   "outputs": [
    {
     "name": "stdout",
     "output_type": "stream",
     "text": [
      "\\left(\\varepsilon \\mapsto \\left\\{P_{\\rm fail}(\\varepsilon) \\leq \\left(\\frac{1}{2} \\cdot \\left(\\frac{1}{\\varepsilon} + \\frac{1}{\\varepsilon^{2}}\\right)\\right) \\textrm{ if } \\varepsilon \\in \\{1 \\ldots 2^{t - 1} - 2\\}\\right..\\right)\n"
     ]
    }
   ],
   "source": [
    "# Show the LaTeX representation of the expression for convenience if you need it.\n",
    "print(expr.latex())"
   ]
  },
  {
   "cell_type": "code",
   "execution_count": 5,
   "metadata": {},
   "outputs": [
    {
     "data": {
      "text/html": [
       "no style options"
      ],
      "text/plain": [
       "no style options"
      ]
     },
     "execution_count": 5,
     "metadata": {},
     "output_type": "execute_result"
    }
   ],
   "source": [
    "expr.style_options()"
   ]
  },
  {
   "cell_type": "code",
   "execution_count": 6,
   "metadata": {},
   "outputs": [
    {
     "data": {
      "text/html": [
       "<table><tr><th>&nbsp;</th><th>core type</th><th>sub-expressions</th><th>expression</th></tr>\n",
       "<tr><td>0</td><td>ExprTuple</td><td>1</td><td><a class=\"ProveItLink\" href=\"expr.ipynb\"><img src=\"expr.png\" style=\"display:inline;vertical-align:middle;\" /></a></td></tr>\n",
       "<tr><td>1</td><td>Lambda</td><td>parameter:&nbsp;39<br>body:&nbsp;2<br></td><td><a class=\"ProveItLink\" href=\"../3ab0a902d6a53c8ccd0ecfde7fa444b55c0194a80/expr.ipynb\"><img src=\"../3ab0a902d6a53c8ccd0ecfde7fa444b55c0194a80/expr.png\" style=\"display:inline;vertical-align:middle;\" /></a></td></tr>\n",
       "<tr><td>2</td><td>Conditional</td><td>value:&nbsp;3<br>condition:&nbsp;4<br></td><td><a class=\"ProveItLink\" href=\"../41e92b919f81dbe354fcbc99a918ad8b1a0c8c4a0/expr.ipynb\"><img src=\"../41e92b919f81dbe354fcbc99a918ad8b1a0c8c4a0/expr.png\" style=\"display:inline;vertical-align:middle;\" /></a></td></tr>\n",
       "<tr><td>3</td><td>Operation</td><td>operator:&nbsp;5<br>operands:&nbsp;6<br></td><td><a class=\"ProveItLink\" href=\"../6709aee84d9a0adfd427ccb5914194ffa2eaeceb0/expr.ipynb\"><img src=\"../6709aee84d9a0adfd427ccb5914194ffa2eaeceb0/expr.png\" style=\"display:inline;vertical-align:middle;\" /></a></td></tr>\n",
       "<tr><td>4</td><td>Operation</td><td>operator:&nbsp;7<br>operands:&nbsp;8<br></td><td><a class=\"ProveItLink\" href=\"../e43ddd3286788e9f0d072354a6e39dc9d2c56cf30/expr.ipynb\"><img src=\"../e43ddd3286788e9f0d072354a6e39dc9d2c56cf30/expr.png\" style=\"display:inline;vertical-align:middle;\" /></a></td></tr>\n",
       "<tr><td>5</td><td>Literal</td><td></td><td><a class=\"ProveItLink\" href=\"../../../../../../numbers/ordering/__pv_it/common/b7491c9b87613cffc9e4ec0625a0f1afacbe2cbd0/expr.ipynb\"><img src=\"../../../../../../numbers/ordering/__pv_it/common/b7491c9b87613cffc9e4ec0625a0f1afacbe2cbd0/expr.png\" style=\"display:inline;vertical-align:middle;\" /></a></td></tr>\n",
       "<tr><td>6</td><td>ExprTuple</td><td>9, 10</td><td><a class=\"ProveItLink\" href=\"../eb56ac8596f68642ad729b570a3722acd59e3e910/expr.ipynb\"><img src=\"../eb56ac8596f68642ad729b570a3722acd59e3e910/expr.png\" style=\"display:inline;vertical-align:middle;\" /></a></td></tr>\n",
       "<tr><td>7</td><td>Literal</td><td></td><td><a class=\"ProveItLink\" href=\"../../../../../../logic/sets/membership/__pv_it/common/7171deca84f71f47a6ec7696972d1632274a12880/expr.ipynb\"><img src=\"../../../../../../logic/sets/membership/__pv_it/common/7171deca84f71f47a6ec7696972d1632274a12880/expr.png\" style=\"display:inline;vertical-align:middle;\" /></a></td></tr>\n",
       "<tr><td>8</td><td>ExprTuple</td><td>39, 11</td><td><a class=\"ProveItLink\" href=\"../5bad5d6dd734fcb7ba50eb93344fab6194125a230/expr.ipynb\"><img src=\"../5bad5d6dd734fcb7ba50eb93344fab6194125a230/expr.png\" style=\"display:inline;vertical-align:middle;\" /></a></td></tr>\n",
       "<tr><td>9</td><td>Operation</td><td>operator:&nbsp;12<br>operand:&nbsp;39<br></td><td><a class=\"ProveItLink\" href=\"../506f9510a53991904f7b92a59d186e955a46b2900/expr.ipynb\"><img src=\"../506f9510a53991904f7b92a59d186e955a46b2900/expr.png\" style=\"display:inline;vertical-align:middle;\" /></a></td></tr>\n",
       "<tr><td>10</td><td>Operation</td><td>operator:&nbsp;14<br>operands:&nbsp;15<br></td><td><a class=\"ProveItLink\" href=\"../001b93aba2043699ffd56100a1ab0bed59dba59b0/expr.ipynb\"><img src=\"../001b93aba2043699ffd56100a1ab0bed59dba59b0/expr.png\" style=\"display:inline;vertical-align:middle;\" /></a></td></tr>\n",
       "<tr><td>11</td><td>Operation</td><td>operator:&nbsp;16<br>operands:&nbsp;17<br></td><td><a class=\"ProveItLink\" href=\"../../common/639fba96032e41fef5770dd9a6df92904c8a8ab50/expr.ipynb\"><img src=\"../../common/639fba96032e41fef5770dd9a6df92904c8a8ab50/expr.png\" style=\"display:inline;vertical-align:middle;\" /></a></td></tr>\n",
       "<tr><td>12</td><td>Literal</td><td></td><td><a class=\"ProveItLink\" href=\"../../common/9b97168300212c55493a84dbc3c662c9b02206980/expr.ipynb\"><img src=\"../../common/9b97168300212c55493a84dbc3c662c9b02206980/expr.png\" style=\"display:inline;vertical-align:middle;\" /></a></td></tr>\n",
       "<tr><td>13</td><td>ExprTuple</td><td>39</td><td><a class=\"ProveItLink\" href=\"../e084e739886f271e32b52d081c7e6ea398fdb12e0/expr.ipynb\"><img src=\"../e084e739886f271e32b52d081c7e6ea398fdb12e0/expr.png\" style=\"display:inline;vertical-align:middle;\" /></a></td></tr>\n",
       "<tr><td>14</td><td>Literal</td><td></td><td><a class=\"ProveItLink\" href=\"../../../../../../numbers/multiplication/__pv_it/common/c57d60974865e78d434abd3ff22c405685c80ade0/expr.ipynb\"><img src=\"../../../../../../numbers/multiplication/__pv_it/common/c57d60974865e78d434abd3ff22c405685c80ade0/expr.png\" style=\"display:inline;vertical-align:middle;\" /></a></td></tr>\n",
       "<tr><td>15</td><td>ExprTuple</td><td>18, 19</td><td><a class=\"ProveItLink\" href=\"../60a54c5bbd2977e4eda1bf6c160f964b279b10cf0/expr.ipynb\"><img src=\"../60a54c5bbd2977e4eda1bf6c160f964b279b10cf0/expr.png\" style=\"display:inline;vertical-align:middle;\" /></a></td></tr>\n",
       "<tr><td>16</td><td>Literal</td><td></td><td><a class=\"ProveItLink\" href=\"../../../../../../numbers/number_sets/integers/__pv_it/common/fcf0def17f5c3c84b64c959b39aed0e5dad7f3340/expr.ipynb\"><img src=\"../../../../../../numbers/number_sets/integers/__pv_it/common/fcf0def17f5c3c84b64c959b39aed0e5dad7f3340/expr.png\" style=\"display:inline;vertical-align:middle;\" /></a></td></tr>\n",
       "<tr><td>17</td><td>ExprTuple</td><td>45, 20</td><td><a class=\"ProveItLink\" href=\"../../common/aa4fefeb123d23a071bd69f9dc8cac18c42a09510/expr.ipynb\"><img src=\"../../common/aa4fefeb123d23a071bd69f9dc8cac18c42a09510/expr.png\" style=\"display:inline;vertical-align:middle;\" /></a></td></tr>\n",
       "<tr><td>18</td><td>Operation</td><td>operator:&nbsp;29<br>operands:&nbsp;21<br></td><td><a class=\"ProveItLink\" href=\"../../../../__pv_it/common/aa547f88216e68e08c946bb8fdc4d68b926388850/expr.ipynb\"><img src=\"../../../../__pv_it/common/aa547f88216e68e08c946bb8fdc4d68b926388850/expr.png\" style=\"display:inline;vertical-align:middle;\" /></a></td></tr>\n",
       "<tr><td>19</td><td>Operation</td><td>operator:&nbsp;37<br>operands:&nbsp;22<br></td><td><a class=\"ProveItLink\" href=\"../c35557e681428e33d65d129dd96808e4d93841790/expr.ipynb\"><img src=\"../c35557e681428e33d65d129dd96808e4d93841790/expr.png\" style=\"display:inline;vertical-align:middle;\" /></a></td></tr>\n",
       "<tr><td>20</td><td>Operation</td><td>operator:&nbsp;37<br>operands:&nbsp;23<br></td><td><a class=\"ProveItLink\" href=\"../../common/c98a2927a7984c764f3a6c8247d8c968acde13270/expr.ipynb\"><img src=\"../../common/c98a2927a7984c764f3a6c8247d8c968acde13270/expr.png\" style=\"display:inline;vertical-align:middle;\" /></a></td></tr>\n",
       "<tr><td>21</td><td>ExprTuple</td><td>45, 40</td><td><a class=\"ProveItLink\" href=\"../../../../__pv_it/common/b6dda0abe24a4592fb130c02ca5a89c1328050430/expr.ipynb\"><img src=\"../../../../__pv_it/common/b6dda0abe24a4592fb130c02ca5a89c1328050430/expr.png\" style=\"display:inline;vertical-align:middle;\" /></a></td></tr>\n",
       "<tr><td>22</td><td>ExprTuple</td><td>24, 25</td><td><a class=\"ProveItLink\" href=\"../1d41d063917399cf220aaf44c57123dca83fcfd00/expr.ipynb\"><img src=\"../1d41d063917399cf220aaf44c57123dca83fcfd00/expr.png\" style=\"display:inline;vertical-align:middle;\" /></a></td></tr>\n",
       "<tr><td>23</td><td>ExprTuple</td><td>26, 27</td><td><a class=\"ProveItLink\" href=\"../../common/c7351973c66b5bb56840e890c66d439d3624e3fa0/expr.ipynb\"><img src=\"../../common/c7351973c66b5bb56840e890c66d439d3624e3fa0/expr.png\" style=\"display:inline;vertical-align:middle;\" /></a></td></tr>\n",
       "<tr><td>24</td><td>Operation</td><td>operator:&nbsp;29<br>operands:&nbsp;28<br></td><td><a class=\"ProveItLink\" href=\"../6a6dfeb00ebd369f80f074f4d6b592ec9c9672c20/expr.ipynb\"><img src=\"../6a6dfeb00ebd369f80f074f4d6b592ec9c9672c20/expr.png\" style=\"display:inline;vertical-align:middle;\" /></a></td></tr>\n",
       "<tr><td>25</td><td>Operation</td><td>operator:&nbsp;29<br>operands:&nbsp;30<br></td><td><a class=\"ProveItLink\" href=\"../f11ba72a968c3c4d4af8894d23a8cdaa7f2cb4490/expr.ipynb\"><img src=\"../f11ba72a968c3c4d4af8894d23a8cdaa7f2cb4490/expr.png\" style=\"display:inline;vertical-align:middle;\" /></a></td></tr>\n",
       "<tr><td>26</td><td>Operation</td><td>operator:&nbsp;35<br>operands:&nbsp;31<br></td><td><a class=\"ProveItLink\" href=\"../../common/0792a1d5c4681297bfa0e77c90b2569914aae74f0/expr.ipynb\"><img src=\"../../common/0792a1d5c4681297bfa0e77c90b2569914aae74f0/expr.png\" style=\"display:inline;vertical-align:middle;\" /></a></td></tr>\n",
       "<tr><td>27</td><td>Operation</td><td>operator:&nbsp;43<br>operand:&nbsp;40<br></td><td><a class=\"ProveItLink\" href=\"../../common/2fbb45f6a170048264fa22e4ed78d6b07832f8a40/expr.ipynb\"><img src=\"../../common/2fbb45f6a170048264fa22e4ed78d6b07832f8a40/expr.png\" style=\"display:inline;vertical-align:middle;\" /></a></td></tr>\n",
       "<tr><td>28</td><td>ExprTuple</td><td>45, 39</td><td><a class=\"ProveItLink\" href=\"../f2252b915bc34066b60329409109eaf8771da1170/expr.ipynb\"><img src=\"../f2252b915bc34066b60329409109eaf8771da1170/expr.png\" style=\"display:inline;vertical-align:middle;\" /></a></td></tr>\n",
       "<tr><td>29</td><td>Literal</td><td></td><td><a class=\"ProveItLink\" href=\"../../../../../../numbers/division/__pv_it/common/9ecc1ae47b83f7ed759e5ea63a2023a8f2ab04800/expr.ipynb\"><img src=\"../../../../../../numbers/division/__pv_it/common/9ecc1ae47b83f7ed759e5ea63a2023a8f2ab04800/expr.png\" style=\"display:inline;vertical-align:middle;\" /></a></td></tr>\n",
       "<tr><td>30</td><td>ExprTuple</td><td>45, 33</td><td><a class=\"ProveItLink\" href=\"../4f16711614b40a638bb03586b972dae16a19adcf0/expr.ipynb\"><img src=\"../4f16711614b40a638bb03586b972dae16a19adcf0/expr.png\" style=\"display:inline;vertical-align:middle;\" /></a></td></tr>\n",
       "<tr><td>31</td><td>ExprTuple</td><td>40, 34</td><td><a class=\"ProveItLink\" href=\"../../common/4f96f4a928cdb57c599341d749f9e84260c40fdd0/expr.ipynb\"><img src=\"../../common/4f96f4a928cdb57c599341d749f9e84260c40fdd0/expr.png\" style=\"display:inline;vertical-align:middle;\" /></a></td></tr>\n",
       "<tr><td>32</td><td>ExprTuple</td><td>40</td><td><a class=\"ProveItLink\" href=\"../../common/edbcbc917d0d4ded75b634f8dd6c41a04efbc0c40/expr.ipynb\"><img src=\"../../common/edbcbc917d0d4ded75b634f8dd6c41a04efbc0c40/expr.png\" style=\"display:inline;vertical-align:middle;\" /></a></td></tr>\n",
       "<tr><td>33</td><td>Operation</td><td>operator:&nbsp;35<br>operands:&nbsp;36<br></td><td><a class=\"ProveItLink\" href=\"../e862d8d92a4c3bb3bc7ba2395462aed1c2c922750/expr.ipynb\"><img src=\"../e862d8d92a4c3bb3bc7ba2395462aed1c2c922750/expr.png\" style=\"display:inline;vertical-align:middle;\" /></a></td></tr>\n",
       "<tr><td>34</td><td>Operation</td><td>operator:&nbsp;37<br>operands:&nbsp;38<br></td><td><a class=\"ProveItLink\" href=\"../../common/2bd9790a8ceb0cbaa297908b29d1d26135fb49df0/expr.ipynb\"><img src=\"../../common/2bd9790a8ceb0cbaa297908b29d1d26135fb49df0/expr.png\" style=\"display:inline;vertical-align:middle;\" /></a></td></tr>\n",
       "<tr><td>35</td><td>Literal</td><td></td><td><a class=\"ProveItLink\" href=\"../../../../../../numbers/exponentiation/__pv_it/common/31d1b89e3c2fad7d997556c69b6be6425b6f59a40/expr.ipynb\"><img src=\"../../../../../../numbers/exponentiation/__pv_it/common/31d1b89e3c2fad7d997556c69b6be6425b6f59a40/expr.png\" style=\"display:inline;vertical-align:middle;\" /></a></td></tr>\n",
       "<tr><td>36</td><td>ExprTuple</td><td>39, 40</td><td><a class=\"ProveItLink\" href=\"../d280c6355c177734382ae2064a7ad3ebcbe30df30/expr.ipynb\"><img src=\"../d280c6355c177734382ae2064a7ad3ebcbe30df30/expr.png\" style=\"display:inline;vertical-align:middle;\" /></a></td></tr>\n",
       "<tr><td>37</td><td>Literal</td><td></td><td><a class=\"ProveItLink\" href=\"../../../../../../numbers/addition/__pv_it/common/1f38fe5cce441387feef296e2c0a2eac260bb4f30/expr.ipynb\"><img src=\"../../../../../../numbers/addition/__pv_it/common/1f38fe5cce441387feef296e2c0a2eac260bb4f30/expr.png\" style=\"display:inline;vertical-align:middle;\" /></a></td></tr>\n",
       "<tr><td>38</td><td>ExprTuple</td><td>41, 42</td><td><a class=\"ProveItLink\" href=\"../../common/228a84a9850aca6e9a3f2ee00bbfb728e8599f670/expr.ipynb\"><img src=\"../../common/228a84a9850aca6e9a3f2ee00bbfb728e8599f670/expr.png\" style=\"display:inline;vertical-align:middle;\" /></a></td></tr>\n",
       "<tr><td>39</td><td>Variable</td><td></td><td><a class=\"ProveItLink\" href=\"../../../../../../__pv_it/common/6ccbd8f7424e34c92aa1208d7ccef106f5849c250/expr.ipynb\"><img src=\"../../../../../../__pv_it/common/6ccbd8f7424e34c92aa1208d7ccef106f5849c250/expr.png\" style=\"display:inline;vertical-align:middle;\" /></a></td></tr>\n",
       "<tr><td>40</td><td>Literal</td><td></td><td><a class=\"ProveItLink\" href=\"../../../../../../numbers/numerals/__pv_it/common/3829356ce3fdf8f35810c63c00bc1a19e838663e0/expr.ipynb\"><img src=\"../../../../../../numbers/numerals/__pv_it/common/3829356ce3fdf8f35810c63c00bc1a19e838663e0/expr.png\" style=\"display:inline;vertical-align:middle;\" /></a></td></tr>\n",
       "<tr><td>41</td><td>Literal</td><td></td><td><a class=\"ProveItLink\" href=\"../../common/39c1d684e38b5dd4cd200cf6f134282993af2c0b0/expr.ipynb\"><img src=\"../../common/39c1d684e38b5dd4cd200cf6f134282993af2c0b0/expr.png\" style=\"display:inline;vertical-align:middle;\" /></a></td></tr>\n",
       "<tr><td>42</td><td>Operation</td><td>operator:&nbsp;43<br>operand:&nbsp;45<br></td><td><a class=\"ProveItLink\" href=\"../../common/194689aa2092eb5e83b339e69e1c112868251dd50/expr.ipynb\"><img src=\"../../common/194689aa2092eb5e83b339e69e1c112868251dd50/expr.png\" style=\"display:inline;vertical-align:middle;\" /></a></td></tr>\n",
       "<tr><td>43</td><td>Literal</td><td></td><td><a class=\"ProveItLink\" href=\"../../../../../../numbers/negation/__pv_it/common/31a69a5c76809537045e3884859f178d8d9c845c0/expr.ipynb\"><img src=\"../../../../../../numbers/negation/__pv_it/common/31a69a5c76809537045e3884859f178d8d9c845c0/expr.png\" style=\"display:inline;vertical-align:middle;\" /></a></td></tr>\n",
       "<tr><td>44</td><td>ExprTuple</td><td>45</td><td><a class=\"ProveItLink\" href=\"../../common/983fb1abdb7789966ec8b7afe0d4f7ca8578c9e50/expr.ipynb\"><img src=\"../../common/983fb1abdb7789966ec8b7afe0d4f7ca8578c9e50/expr.png\" style=\"display:inline;vertical-align:middle;\" /></a></td></tr>\n",
       "<tr><td>45</td><td>Literal</td><td></td><td><a class=\"ProveItLink\" href=\"../../../../../../numbers/numerals/__pv_it/common/d278e359da0695d9652dd541d45264f93703e2e40/expr.ipynb\"><img src=\"../../../../../../numbers/numerals/__pv_it/common/d278e359da0695d9652dd541d45264f93703e2e40/expr.png\" style=\"display:inline;vertical-align:middle;\" /></a></td></tr>\n",
       "</table>\n"
      ],
      "text/plain": [
       "0. (eps -> {Pfail(eps) <= ((1 / 2) * ((1 / eps) + (1 / eps^{2}))) if eps in {1...2^{t - 1} - 2}.)\n",
       "   core type: ExprTuple\n",
       "   sub-expressions: 1\n",
       "1. eps -> {Pfail(eps) <= ((1 / 2) * ((1 / eps) + (1 / eps^{2}))) if eps in {1...2^{t - 1} - 2}.\n",
       "   core type: Lambda\n",
       "   parameter: 39\n",
       "   body: 2\n",
       "2. {Pfail(eps) <= ((1 / 2) * ((1 / eps) + (1 / eps^{2}))) if eps in {1...2^{t - 1} - 2}.\n",
       "   core type: Conditional\n",
       "   value: 3\n",
       "   condition: 4\n",
       "3. Pfail(eps) <= ((1 / 2) * ((1 / eps) + (1 / eps^{2})))\n",
       "   core type: Operation\n",
       "   operator: 5\n",
       "   operands: 6\n",
       "4. eps in {1...2^{t - 1} - 2}\n",
       "   core type: Operation\n",
       "   operator: 7\n",
       "   operands: 8\n",
       "5. <=\n",
       "   core type: Literal\n",
       "   sub-expressions: \n",
       "6. (Pfail(eps), (1 / 2) * ((1 / eps) + (1 / eps^{2})))\n",
       "   core type: ExprTuple\n",
       "   sub-expressions: 9, 10\n",
       "7. in\n",
       "   core type: Literal\n",
       "   sub-expressions: \n",
       "8. (eps, {1...2^{t - 1} - 2})\n",
       "   core type: ExprTuple\n",
       "   sub-expressions: 39, 11\n",
       "9. Pfail(eps)\n",
       "   core type: Operation\n",
       "   operator: 12\n",
       "   operand: 39\n",
       "10. (1 / 2) * ((1 / eps) + (1 / eps^{2}))\n",
       "    core type: Operation\n",
       "    operator: 14\n",
       "    operands: 15\n",
       "11. {1...2^{t - 1} - 2}\n",
       "    core type: Operation\n",
       "    operator: 16\n",
       "    operands: 17\n",
       "12. Pfail\n",
       "    core type: Literal\n",
       "    sub-expressions: \n",
       "13. (eps)\n",
       "    core type: ExprTuple\n",
       "    sub-expressions: 39\n",
       "14. *\n",
       "    core type: Literal\n",
       "    sub-expressions: \n",
       "15. (1 / 2, (1 / eps) + (1 / eps^{2}))\n",
       "    core type: ExprTuple\n",
       "    sub-expressions: 18, 19\n",
       "16. Interval\n",
       "    core type: Literal\n",
       "    sub-expressions: \n",
       "17. (1, 2^{t - 1} - 2)\n",
       "    core type: ExprTuple\n",
       "    sub-expressions: 45, 20\n",
       "18. 1 / 2\n",
       "    core type: Operation\n",
       "    operator: 29\n",
       "    operands: 21\n",
       "19. (1 / eps) + (1 / eps^{2})\n",
       "    core type: Operation\n",
       "    operator: 37\n",
       "    operands: 22\n",
       "20. 2^{t - 1} - 2\n",
       "    core type: Operation\n",
       "    operator: 37\n",
       "    operands: 23\n",
       "21. (1, 2)\n",
       "    core type: ExprTuple\n",
       "    sub-expressions: 45, 40\n",
       "22. (1 / eps, 1 / eps^{2})\n",
       "    core type: ExprTuple\n",
       "    sub-expressions: 24, 25\n",
       "23. (2^{t - 1}, -2)\n",
       "    core type: ExprTuple\n",
       "    sub-expressions: 26, 27\n",
       "24. 1 / eps\n",
       "    core type: Operation\n",
       "    operator: 29\n",
       "    operands: 28\n",
       "25. 1 / eps^{2}\n",
       "    core type: Operation\n",
       "    operator: 29\n",
       "    operands: 30\n",
       "26. 2^{t - 1}\n",
       "    core type: Operation\n",
       "    operator: 35\n",
       "    operands: 31\n",
       "27. -2\n",
       "    core type: Operation\n",
       "    operator: 43\n",
       "    operand: 40\n",
       "28. (1, eps)\n",
       "    core type: ExprTuple\n",
       "    sub-expressions: 45, 39\n",
       "29. /\n",
       "    core type: Literal\n",
       "    sub-expressions: \n",
       "30. (1, eps^{2})\n",
       "    core type: ExprTuple\n",
       "    sub-expressions: 45, 33\n",
       "31. (2, t - 1)\n",
       "    core type: ExprTuple\n",
       "    sub-expressions: 40, 34\n",
       "32. (2)\n",
       "    core type: ExprTuple\n",
       "    sub-expressions: 40\n",
       "33. eps^{2}\n",
       "    core type: Operation\n",
       "    operator: 35\n",
       "    operands: 36\n",
       "34. t - 1\n",
       "    core type: Operation\n",
       "    operator: 37\n",
       "    operands: 38\n",
       "35. Exp\n",
       "    core type: Literal\n",
       "    sub-expressions: \n",
       "36. (eps, 2)\n",
       "    core type: ExprTuple\n",
       "    sub-expressions: 39, 40\n",
       "37. +\n",
       "    core type: Literal\n",
       "    sub-expressions: \n",
       "38. (t, -1)\n",
       "    core type: ExprTuple\n",
       "    sub-expressions: 41, 42\n",
       "39. eps\n",
       "    core type: Variable\n",
       "    sub-expressions: \n",
       "40. 2\n",
       "    core type: Literal\n",
       "    sub-expressions: \n",
       "41. t\n",
       "    core type: Literal\n",
       "    sub-expressions: \n",
       "42. -1\n",
       "    core type: Operation\n",
       "    operator: 43\n",
       "    operand: 45\n",
       "43. -\n",
       "    core type: Literal\n",
       "    sub-expressions: \n",
       "44. (1)\n",
       "    core type: ExprTuple\n",
       "    sub-expressions: 45\n",
       "45. 1\n",
       "    core type: Literal\n",
       "    sub-expressions: "
      ]
     },
     "execution_count": 6,
     "metadata": {},
     "output_type": "execute_result"
    }
   ],
   "source": [
    "# display the expression information\n",
    "expr.expr_info()"
   ]
  },
  {
   "cell_type": "code",
   "execution_count": null,
   "metadata": {},
   "outputs": [],
   "source": []
  }
 ],
 "metadata": {
  "kernelspec": {
   "display_name": "Python 3",
   "language": "python",
   "name": "python3"
  }
 },
 "nbformat": 4,
 "nbformat_minor": 0
}