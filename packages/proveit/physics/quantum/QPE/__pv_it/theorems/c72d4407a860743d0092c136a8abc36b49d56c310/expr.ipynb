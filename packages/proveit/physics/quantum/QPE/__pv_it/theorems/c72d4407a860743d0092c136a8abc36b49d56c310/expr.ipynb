{
 "cells": [
  {
   "cell_type": "markdown",
   "metadata": {},
   "source": [
    "Expression of type <a class=\"ProveItLink\" href=\"../../../../../../../../doc/html/api/proveit.ExprTuple.html\">ExprTuple</a>\n",
    "=======================\n",
    "# from the theory of <a class=\"ProveItLink\" href=\"../../../_theory_nbs_/theory.ipynb\">proveit.physics.quantum.QPE</a>"
   ]
  },
  {
   "cell_type": "code",
   "execution_count": 1,
   "metadata": {},
   "outputs": [],
   "source": [
    "import proveit\n",
    "# Automation is not needed when building an expression:\n",
    "proveit.defaults.automation = False # This will speed things up.\n",
    "proveit.defaults.inline_pngs = False # Makes files smaller.\n",
    "%load_expr # Load the stored expression as 'stored_expr'\n",
    "# import Expression classes needed to build the expression\n",
    "from proveit import ExprTuple, l\n",
    "from proveit.numbers import Abs, Add, Exp, Mult, Neg, e, frac, i, one, pi, two\n",
    "from proveit.physics.quantum.QPE import delta_, two_pow_t"
   ]
  },
  {
   "cell_type": "code",
   "execution_count": 2,
   "metadata": {},
   "outputs": [
    {
     "data": {
      "text/html": [
       "<strong id=\"expr\">expr:</strong> <a class=\"ProveItLink\" href=\"expr.ipynb\"><img src=\"expr.png\" style=\"display:inline;vertical-align:middle;\" /></a><br>"
      ],
      "text/plain": [
       "expr: (2^{t}, |1 - e^{2 * pi * i * (delta - (l / 2^{t}))}|)"
      ]
     },
     "execution_count": 2,
     "metadata": {},
     "output_type": "execute_result"
    }
   ],
   "source": [
    "# build up the expression from sub-expressions\n",
    "expr = ExprTuple(two_pow_t, Abs(Add(one, Neg(Exp(e, Mult(two, pi, i, Add(delta_, Neg(frac(l, two_pow_t)))))))))"
   ]
  },
  {
   "cell_type": "code",
   "execution_count": 3,
   "metadata": {},
   "outputs": [
    {
     "name": "stdout",
     "output_type": "stream",
     "text": [
      "Passed sanity check: expr matches stored_expr\n"
     ]
    }
   ],
   "source": [
    "# check that the built expression is the same as the stored expression\n",
    "assert expr == stored_expr\n",
    "assert expr._style_id == stored_expr._style_id\n",
    "print(\"Passed sanity check: expr matches stored_expr\")"
   ]
  },
  {
   "cell_type": "code",
   "execution_count": 4,
   "metadata": {},
   "outputs": [
    {
     "name": "stdout",
     "output_type": "stream",
     "text": [
      "\\left(2^{t}, \\left|1 - \\mathsf{e}^{2 \\cdot \\pi \\cdot \\mathsf{i} \\cdot \\left(\\delta - \\frac{l}{2^{t}}\\right)}\\right|\\right)\n"
     ]
    }
   ],
   "source": [
    "# Show the LaTeX representation of the expression for convenience if you need it.\n",
    "print(expr.latex())"
   ]
  },
  {
   "cell_type": "code",
   "execution_count": 5,
   "metadata": {},
   "outputs": [
    {
     "data": {
      "text/html": [
       "<table><tr><th>&nbsp;</th><th>core type</th><th>sub-expressions</th><th>expression</th></tr>\n",
       "<tr><td>0</td><td>ExprTuple</td><td>25, 1</td><td><a class=\"ProveItLink\" href=\"expr.ipynb\"><img src=\"expr.png\" style=\"display:inline;vertical-align:middle;\" /></a></td></tr>\n",
       "<tr><td>1</td><td>Operation</td><td>operator:&nbsp;2<br>operand:&nbsp;3<br></td><td><a class=\"ProveItLink\" href=\"../e8c9c3625f4c3c5267f0df1c499c40395b650e580/expr.ipynb\"><img src=\"../e8c9c3625f4c3c5267f0df1c499c40395b650e580/expr.png\" style=\"display:inline;vertical-align:middle;\" /></a></td></tr>\n",
       "<tr><td>2</td><td>Literal</td><td></td><td><a class=\"ProveItLink\" href=\"../../../../../../numbers/absolute_value/__pv_it/common/eea56c667bc0aad2dc76ed04b44c2bd98b94005f0/expr.ipynb\"><img src=\"../../../../../../numbers/absolute_value/__pv_it/common/eea56c667bc0aad2dc76ed04b44c2bd98b94005f0/expr.png\" style=\"display:inline;vertical-align:middle;\" /></a></td></tr>\n",
       "<tr><td>3</td><td>Operation</td><td>operator:&nbsp;16<br>operands:&nbsp;4<br></td><td><a class=\"ProveItLink\" href=\"../2cec86e599ec7b08fe535689daecb73c453427160/expr.ipynb\"><img src=\"../2cec86e599ec7b08fe535689daecb73c453427160/expr.png\" style=\"display:inline;vertical-align:middle;\" /></a></td></tr>\n",
       "<tr><td>4</td><td>ExprTuple</td><td>5, 6</td><td><a class=\"ProveItLink\" href=\"../df16774aaabeb6ba6fcc99811dbc85ab2a6ec3750/expr.ipynb\"><img src=\"../df16774aaabeb6ba6fcc99811dbc85ab2a6ec3750/expr.png\" style=\"display:inline;vertical-align:middle;\" /></a></td></tr>\n",
       "<tr><td>5</td><td>Literal</td><td></td><td><a class=\"ProveItLink\" href=\"../../../../../../numbers/numerals/__pv_it/common/2778428c7f555b2bdc06aa0530bc142c6e6335100/expr.ipynb\"><img src=\"../../../../../../numbers/numerals/__pv_it/common/2778428c7f555b2bdc06aa0530bc142c6e6335100/expr.png\" style=\"display:inline;vertical-align:middle;\" /></a></td></tr>\n",
       "<tr><td>6</td><td>Operation</td><td>operator:&nbsp;20<br>operand:&nbsp;7<br></td><td><a class=\"ProveItLink\" href=\"../b0e53c76bf89cd17105032eebe4564299f1b99b80/expr.ipynb\"><img src=\"../b0e53c76bf89cd17105032eebe4564299f1b99b80/expr.png\" style=\"display:inline;vertical-align:middle;\" /></a></td></tr>\n",
       "<tr><td>7</td><td>Operation</td><td>operator:&nbsp;26<br>operands:&nbsp;8<br></td><td><a class=\"ProveItLink\" href=\"../71d54a343f252bbc5842a07e6914e653fc632af80/expr.ipynb\"><img src=\"../71d54a343f252bbc5842a07e6914e653fc632af80/expr.png\" style=\"display:inline;vertical-align:middle;\" /></a></td></tr>\n",
       "<tr><td>8</td><td>ExprTuple</td><td>9, 10</td><td><a class=\"ProveItLink\" href=\"../7b6ecf46ded8cce6dfc4ad741ab2bda2e6e6d0d50/expr.ipynb\"><img src=\"../7b6ecf46ded8cce6dfc4ad741ab2bda2e6e6d0d50/expr.png\" style=\"display:inline;vertical-align:middle;\" /></a></td></tr>\n",
       "<tr><td>9</td><td>Literal</td><td></td><td><a class=\"ProveItLink\" href=\"../../../../../../numbers/number_sets/real_numbers/__pv_it/common/e531ffa54fd897084533764a4a14f19f590674f80/expr.ipynb\"><img src=\"../../../../../../numbers/number_sets/real_numbers/__pv_it/common/e531ffa54fd897084533764a4a14f19f590674f80/expr.png\" style=\"display:inline;vertical-align:middle;\" /></a></td></tr>\n",
       "<tr><td>10</td><td>Operation</td><td>operator:&nbsp;11<br>operands:&nbsp;12<br></td><td><a class=\"ProveItLink\" href=\"../6675b92692c48fc80fa12c2185d2e109f20219ea0/expr.ipynb\"><img src=\"../6675b92692c48fc80fa12c2185d2e109f20219ea0/expr.png\" style=\"display:inline;vertical-align:middle;\" /></a></td></tr>\n",
       "<tr><td>11</td><td>Literal</td><td></td><td><a class=\"ProveItLink\" href=\"../../../../../../numbers/multiplication/__pv_it/common/ed719cef37831779c16481533a4d380a2f95ab270/expr.ipynb\"><img src=\"../../../../../../numbers/multiplication/__pv_it/common/ed719cef37831779c16481533a4d380a2f95ab270/expr.png\" style=\"display:inline;vertical-align:middle;\" /></a></td></tr>\n",
       "<tr><td>12</td><td>ExprTuple</td><td>28, 13, 14, 15</td><td><a class=\"ProveItLink\" href=\"../06aa3914525b2ed3b5c3b49db5943565f5a896ce0/expr.ipynb\"><img src=\"../06aa3914525b2ed3b5c3b49db5943565f5a896ce0/expr.png\" style=\"display:inline;vertical-align:middle;\" /></a></td></tr>\n",
       "<tr><td>13</td><td>Literal</td><td></td><td><a class=\"ProveItLink\" href=\"../../../../../../numbers/number_sets/real_numbers/__pv_it/common/246c206266ac5b48800e508d580f91767b24c2df0/expr.ipynb\"><img src=\"../../../../../../numbers/number_sets/real_numbers/__pv_it/common/246c206266ac5b48800e508d580f91767b24c2df0/expr.png\" style=\"display:inline;vertical-align:middle;\" /></a></td></tr>\n",
       "<tr><td>14</td><td>Literal</td><td></td><td><a class=\"ProveItLink\" href=\"../../../../../../numbers/number_sets/complex_numbers/__pv_it/common/6c9cc69d472f352324c298b2318df233e9a7e0250/expr.ipynb\"><img src=\"../../../../../../numbers/number_sets/complex_numbers/__pv_it/common/6c9cc69d472f352324c298b2318df233e9a7e0250/expr.png\" style=\"display:inline;vertical-align:middle;\" /></a></td></tr>\n",
       "<tr><td>15</td><td>Operation</td><td>operator:&nbsp;16<br>operands:&nbsp;17<br></td><td><a class=\"ProveItLink\" href=\"../8db8dc47ffbe3a942dc8a39c1e1998e91b23c78b0/expr.ipynb\"><img src=\"../8db8dc47ffbe3a942dc8a39c1e1998e91b23c78b0/expr.png\" style=\"display:inline;vertical-align:middle;\" /></a></td></tr>\n",
       "<tr><td>16</td><td>Literal</td><td></td><td><a class=\"ProveItLink\" href=\"../../../../../../numbers/addition/__pv_it/common/4b7effaab3619a1c2c38fe2dee8601df8ec714590/expr.ipynb\"><img src=\"../../../../../../numbers/addition/__pv_it/common/4b7effaab3619a1c2c38fe2dee8601df8ec714590/expr.png\" style=\"display:inline;vertical-align:middle;\" /></a></td></tr>\n",
       "<tr><td>17</td><td>ExprTuple</td><td>18, 19</td><td><a class=\"ProveItLink\" href=\"../e6b0d4b8e79a7046dfe7be83d948a79cb13f88780/expr.ipynb\"><img src=\"../e6b0d4b8e79a7046dfe7be83d948a79cb13f88780/expr.png\" style=\"display:inline;vertical-align:middle;\" /></a></td></tr>\n",
       "<tr><td>18</td><td>Literal</td><td></td><td><a class=\"ProveItLink\" href=\"../../common/d6b97444617188a78c398568a10ac4dbe1ffa6590/expr.ipynb\"><img src=\"../../common/d6b97444617188a78c398568a10ac4dbe1ffa6590/expr.png\" style=\"display:inline;vertical-align:middle;\" /></a></td></tr>\n",
       "<tr><td>19</td><td>Operation</td><td>operator:&nbsp;20<br>operand:&nbsp;21<br></td><td><a class=\"ProveItLink\" href=\"../285bf2ba315a369055c7fb6080bbd7eeb96a3f5d0/expr.ipynb\"><img src=\"../285bf2ba315a369055c7fb6080bbd7eeb96a3f5d0/expr.png\" style=\"display:inline;vertical-align:middle;\" /></a></td></tr>\n",
       "<tr><td>20</td><td>Literal</td><td></td><td><a class=\"ProveItLink\" href=\"../../../../../../numbers/negation/__pv_it/common/221b3c4d1770ee9051b7c044c3f9ec61196fc34b0/expr.ipynb\"><img src=\"../../../../../../numbers/negation/__pv_it/common/221b3c4d1770ee9051b7c044c3f9ec61196fc34b0/expr.png\" style=\"display:inline;vertical-align:middle;\" /></a></td></tr>\n",
       "<tr><td>21</td><td>Operation</td><td>operator:&nbsp;22<br>operands:&nbsp;23<br></td><td><a class=\"ProveItLink\" href=\"../c031e4ddff7194f9c5fccd18c500ff84be0f940b0/expr.ipynb\"><img src=\"../c031e4ddff7194f9c5fccd18c500ff84be0f940b0/expr.png\" style=\"display:inline;vertical-align:middle;\" /></a></td></tr>\n",
       "<tr><td>22</td><td>Literal</td><td></td><td><a class=\"ProveItLink\" href=\"../../../../../../numbers/division/__pv_it/common/a2a633e1e3c749fb1f2692466b287b6348c5de840/expr.ipynb\"><img src=\"../../../../../../numbers/division/__pv_it/common/a2a633e1e3c749fb1f2692466b287b6348c5de840/expr.png\" style=\"display:inline;vertical-align:middle;\" /></a></td></tr>\n",
       "<tr><td>23</td><td>ExprTuple</td><td>24, 25</td><td><a class=\"ProveItLink\" href=\"../d6c514143de3b0fff78f418286832204fd5506730/expr.ipynb\"><img src=\"../d6c514143de3b0fff78f418286832204fd5506730/expr.png\" style=\"display:inline;vertical-align:middle;\" /></a></td></tr>\n",
       "<tr><td>24</td><td>Variable</td><td></td><td><a class=\"ProveItLink\" href=\"../../../../../../__pv_it/common/27cc275d44b4f4499fb9ccfb3fab1a98165d2fa60/expr.ipynb\"><img src=\"../../../../../../__pv_it/common/27cc275d44b4f4499fb9ccfb3fab1a98165d2fa60/expr.png\" style=\"display:inline;vertical-align:middle;\" /></a></td></tr>\n",
       "<tr><td>25</td><td>Operation</td><td>operator:&nbsp;26<br>operands:&nbsp;27<br></td><td><a class=\"ProveItLink\" href=\"../../common/ffe778243736806f1127a291e1939ca0eecb77070/expr.ipynb\"><img src=\"../../common/ffe778243736806f1127a291e1939ca0eecb77070/expr.png\" style=\"display:inline;vertical-align:middle;\" /></a></td></tr>\n",
       "<tr><td>26</td><td>Literal</td><td></td><td><a class=\"ProveItLink\" href=\"../../../../../../numbers/exponentiation/__pv_it/common/0ac37aca1e54c35c5cda09672df32d4f69f1f3020/expr.ipynb\"><img src=\"../../../../../../numbers/exponentiation/__pv_it/common/0ac37aca1e54c35c5cda09672df32d4f69f1f3020/expr.png\" style=\"display:inline;vertical-align:middle;\" /></a></td></tr>\n",
       "<tr><td>27</td><td>ExprTuple</td><td>28, 29</td><td><a class=\"ProveItLink\" href=\"../../common/bec7807dfd3317c3712da91239c210c00ddabc8c0/expr.ipynb\"><img src=\"../../common/bec7807dfd3317c3712da91239c210c00ddabc8c0/expr.png\" style=\"display:inline;vertical-align:middle;\" /></a></td></tr>\n",
       "<tr><td>28</td><td>Literal</td><td></td><td><a class=\"ProveItLink\" href=\"../../../../../../numbers/numerals/__pv_it/common/ba3b059982e8b49413dc653e957beb11e974e4bc0/expr.ipynb\"><img src=\"../../../../../../numbers/numerals/__pv_it/common/ba3b059982e8b49413dc653e957beb11e974e4bc0/expr.png\" style=\"display:inline;vertical-align:middle;\" /></a></td></tr>\n",
       "<tr><td>29</td><td>Literal</td><td></td><td><a class=\"ProveItLink\" href=\"../../common/977cc67717328e22c93f8ab84e6a45e8cadce7790/expr.ipynb\"><img src=\"../../common/977cc67717328e22c93f8ab84e6a45e8cadce7790/expr.png\" style=\"display:inline;vertical-align:middle;\" /></a></td></tr>\n",
       "</table>\n"
      ],
      "text/plain": [
       "0. (2^{t}, |1 - e^{2 * pi * i * (delta - (l / 2^{t}))}|)\n",
       "   core type: ExprTuple\n",
       "   sub-expressions: 25, 1\n",
       "1. |1 - e^{2 * pi * i * (delta - (l / 2^{t}))}|\n",
       "   core type: Operation\n",
       "   operator: 2\n",
       "   operand: 3\n",
       "2. Abs\n",
       "   core type: Literal\n",
       "   sub-expressions: \n",
       "3. 1 - e^{2 * pi * i * (delta - (l / 2^{t}))}\n",
       "   core type: Operation\n",
       "   operator: 16\n",
       "   operands: 4\n",
       "4. (1, -e^{2 * pi * i * (delta - (l / 2^{t}))})\n",
       "   core type: ExprTuple\n",
       "   sub-expressions: 5, 6\n",
       "5. 1\n",
       "   core type: Literal\n",
       "   sub-expressions: \n",
       "6. -e^{2 * pi * i * (delta - (l / 2^{t}))}\n",
       "   core type: Operation\n",
       "   operator: 20\n",
       "   operand: 7\n",
       "7. e^{2 * pi * i * (delta - (l / 2^{t}))}\n",
       "   core type: Operation\n",
       "   operator: 26\n",
       "   operands: 8\n",
       "8. (e, 2 * pi * i * (delta - (l / 2^{t})))\n",
       "   core type: ExprTuple\n",
       "   sub-expressions: 9, 10\n",
       "9. e\n",
       "   core type: Literal\n",
       "   sub-expressions: \n",
       "10. 2 * pi * i * (delta - (l / 2^{t}))\n",
       "    core type: Operation\n",
       "    operator: 11\n",
       "    operands: 12\n",
       "11. *\n",
       "    core type: Literal\n",
       "    sub-expressions: \n",
       "12. (2, pi, i, delta - (l / 2^{t}))\n",
       "    core type: ExprTuple\n",
       "    sub-expressions: 28, 13, 14, 15\n",
       "13. pi\n",
       "    core type: Literal\n",
       "    sub-expressions: \n",
       "14. i\n",
       "    core type: Literal\n",
       "    sub-expressions: \n",
       "15. delta - (l / 2^{t})\n",
       "    core type: Operation\n",
       "    operator: 16\n",
       "    operands: 17\n",
       "16. +\n",
       "    core type: Literal\n",
       "    sub-expressions: \n",
       "17. (delta, -(l / 2^{t}))\n",
       "    core type: ExprTuple\n",
       "    sub-expressions: 18, 19\n",
       "18. delta\n",
       "    core type: Literal\n",
       "    sub-expressions: \n",
       "19. -(l / 2^{t})\n",
       "    core type: Operation\n",
       "    operator: 20\n",
       "    operand: 21\n",
       "20. -\n",
       "    core type: Literal\n",
       "    sub-expressions: \n",
       "21. l / 2^{t}\n",
       "    core type: Operation\n",
       "    operator: 22\n",
       "    operands: 23\n",
       "22. /\n",
       "    core type: Literal\n",
       "    sub-expressions: \n",
       "23. (l, 2^{t})\n",
       "    core type: ExprTuple\n",
       "    sub-expressions: 24, 25\n",
       "24. l\n",
       "    core type: Variable\n",
       "    sub-expressions: \n",
       "25. 2^{t}\n",
       "    core type: Operation\n",
       "    operator: 26\n",
       "    operands: 27\n",
       "26. Exp\n",
       "    core type: Literal\n",
       "    sub-expressions: \n",
       "27. (2, t)\n",
       "    core type: ExprTuple\n",
       "    sub-expressions: 28, 29\n",
       "28. 2\n",
       "    core type: Literal\n",
       "    sub-expressions: \n",
       "29. t\n",
       "    core type: Literal\n",
       "    sub-expressions: "
      ]
     },
     "execution_count": 5,
     "metadata": {},
     "output_type": "execute_result"
    }
   ],
   "source": [
    "# display the expression information\n",
    "expr.expr_info()"
   ]
  },
  {
   "cell_type": "code",
   "execution_count": null,
   "metadata": {},
   "outputs": [],
   "source": []
  }
 ],
 "metadata": {
  "kernelspec": {
   "display_name": "Python 3",
   "language": "python",
   "name": "python3"
  }
 },
 "nbformat": 4,
 "nbformat_minor": 0
}