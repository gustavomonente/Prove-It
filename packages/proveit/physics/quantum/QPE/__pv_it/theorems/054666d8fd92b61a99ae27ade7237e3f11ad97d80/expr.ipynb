{
 "cells": [
  {
   "cell_type": "markdown",
   "metadata": {},
   "source": [
    "Expression of type <a class=\"ProveItLink\" href=\"../../../../../../../../doc/html/api/proveit.logic.Forall.html\">Forall</a>\n",
    "=======================\n",
    "# from the theory of <a class=\"ProveItLink\" href=\"../../../_theory_nbs_/theory.ipynb\">proveit.physics.quantum.QPE</a>"
   ]
  },
  {
   "cell_type": "code",
   "execution_count": 1,
   "metadata": {},
   "outputs": [],
   "source": [
    "import proveit\n",
    "# Automation is not needed when building an expression:\n",
    "proveit.defaults.automation = False # This will speed things up.\n",
    "proveit.defaults.inline_pngs = False # Makes files smaller.\n",
    "%load_expr # Load the stored expression as 'stored_expr'\n",
    "# import Expression classes needed to build the expression\n",
    "from proveit import eps\n",
    "from proveit.logic import Forall, SubsetEq\n",
    "from proveit.numbers import Integer\n",
    "from proveit.physics.quantum.QPE import eps_domain, neg_domain"
   ]
  },
  {
   "cell_type": "code",
   "execution_count": 2,
   "metadata": {},
   "outputs": [
    {
     "data": {
      "text/html": [
       "<strong id=\"expr\">expr:</strong> <a class=\"ProveItLink\" href=\"expr.ipynb\"><img src=\"expr.png\" style=\"display:inline;vertical-align:middle;\" /></a><br>"
      ],
      "text/plain": [
       "expr: forall_{eps in {1...2^{t - 1} - 2}} ({-2^{t - 1} + 1...-(eps + 1)} subset_eq Integer)"
      ]
     },
     "execution_count": 2,
     "metadata": {},
     "output_type": "execute_result"
    }
   ],
   "source": [
    "# build up the expression from sub-expressions\n",
    "expr = Forall([eps], SubsetEq(neg_domain, Integer), domains = [eps_domain])"
   ]
  },
  {
   "cell_type": "code",
   "execution_count": 3,
   "metadata": {},
   "outputs": [
    {
     "name": "stdout",
     "output_type": "stream",
     "text": [
      "Passed sanity check: expr matches stored_expr\n"
     ]
    }
   ],
   "source": [
    "# check that the built expression is the same as the stored expression\n",
    "assert expr == stored_expr\n",
    "assert expr._style_id == stored_expr._style_id\n",
    "print(\"Passed sanity check: expr matches stored_expr\")"
   ]
  },
  {
   "cell_type": "code",
   "execution_count": 4,
   "metadata": {},
   "outputs": [
    {
     "name": "stdout",
     "output_type": "stream",
     "text": [
      "\\forall_{\\varepsilon \\in \\{1 \\ldots 2^{t - 1} - 2\\}}~\\left(\\{-2^{t - 1} + 1 \\ldots -\\left(\\varepsilon + 1\\right)\\} \\subseteq \\mathbb{Z}\\right)\n"
     ]
    }
   ],
   "source": [
    "# Show the LaTeX representation of the expression for convenience if you need it.\n",
    "print(expr.latex())"
   ]
  },
  {
   "cell_type": "code",
   "execution_count": 5,
   "metadata": {},
   "outputs": [
    {
     "data": {
      "text/html": [
       "<table>\n",
       "<tr><th>name</th><th>description</th><th>default</th><th>current value</th><th>related methods</th></tr><tr><td>with_wrapping</td><td>If 'True', wrap the Expression after the parameters</td><td>None</td><td>None/False</td><td>('with_wrapping',)</td></tr>\n",
       "<tr><td>wrap_params</td><td>If 'True', wraps every two parameters AND wraps the Expression after the parameters</td><td>None</td><td>None/False</td><td>('with_params',)</td></tr>\n",
       "<tr><td>justification</td><td>justify to the 'left', 'center', or 'right' in the array cells</td><td>center</td><td>center</td><td>('with_justification',)</td></tr>\n",
       "</table>\n"
      ],
      "text/plain": [
       "style name: with_wrapping\n",
       "description: If 'True', wrap the Expression after the parameters\n",
       "default: None\n",
       "current value: None/False\n",
       "related methods: ('with_wrapping',)\n",
       "style name: wrap_params\n",
       "description: If 'True', wraps every two parameters AND wraps the Expression after the parameters\n",
       "default: None\n",
       "current value: None/False\n",
       "related methods: ('with_params',)\n",
       "style name: justification\n",
       "description: justify to the 'left', 'center', or 'right' in the array cells\n",
       "default: center\n",
       "current value: center\n",
       "related methods: ('with_justification',)"
      ]
     },
     "execution_count": 5,
     "metadata": {},
     "output_type": "execute_result"
    }
   ],
   "source": [
    "expr.style_options()"
   ]
  },
  {
   "cell_type": "code",
   "execution_count": 6,
   "metadata": {},
   "outputs": [
    {
     "data": {
      "text/html": [
       "<table><tr><th>&nbsp;</th><th>core type</th><th>sub-expressions</th><th>expression</th></tr>\n",
       "<tr><td>0</td><td>Operation</td><td>operator:&nbsp;1<br>operand:&nbsp;3<br></td><td><a class=\"ProveItLink\" href=\"expr.ipynb\"><img src=\"expr.png\" style=\"display:inline;vertical-align:middle;\" /></a></td></tr>\n",
       "<tr><td>1</td><td>Literal</td><td></td><td><a class=\"ProveItLink\" href=\"../../../../../../logic/booleans/quantification/universality/__pv_it/common/684d35ba98fcbf8ca5011f865e530a51e77730630/expr.ipynb\"><img src=\"../../../../../../logic/booleans/quantification/universality/__pv_it/common/684d35ba98fcbf8ca5011f865e530a51e77730630/expr.png\" style=\"display:inline;vertical-align:middle;\" /></a></td></tr>\n",
       "<tr><td>2</td><td>ExprTuple</td><td>3</td><td><a class=\"ProveItLink\" href=\"../2a09069fd1fe256c812dc107704818a67feb1d640/expr.ipynb\"><img src=\"../2a09069fd1fe256c812dc107704818a67feb1d640/expr.png\" style=\"display:inline;vertical-align:middle;\" /></a></td></tr>\n",
       "<tr><td>3</td><td>Lambda</td><td>parameter:&nbsp;30<br>body:&nbsp;4<br></td><td><a class=\"ProveItLink\" href=\"../8b668173b859637c78f1e66ee07d9d6ebf7dfaaa0/expr.ipynb\"><img src=\"../8b668173b859637c78f1e66ee07d9d6ebf7dfaaa0/expr.png\" style=\"display:inline;vertical-align:middle;\" /></a></td></tr>\n",
       "<tr><td>4</td><td>Conditional</td><td>value:&nbsp;5<br>condition:&nbsp;6<br></td><td><a class=\"ProveItLink\" href=\"../28ff89182a180ece4ce7280e1c0e0b107564dc980/expr.ipynb\"><img src=\"../28ff89182a180ece4ce7280e1c0e0b107564dc980/expr.png\" style=\"display:inline;vertical-align:middle;\" /></a></td></tr>\n",
       "<tr><td>5</td><td>Operation</td><td>operator:&nbsp;7<br>operands:&nbsp;8<br></td><td><a class=\"ProveItLink\" href=\"../3079415f6355ca0d12ce77142425201ba0e453290/expr.ipynb\"><img src=\"../3079415f6355ca0d12ce77142425201ba0e453290/expr.png\" style=\"display:inline;vertical-align:middle;\" /></a></td></tr>\n",
       "<tr><td>6</td><td>Operation</td><td>operator:&nbsp;9<br>operands:&nbsp;10<br></td><td><a class=\"ProveItLink\" href=\"../e43ddd3286788e9f0d072354a6e39dc9d2c56cf30/expr.ipynb\"><img src=\"../e43ddd3286788e9f0d072354a6e39dc9d2c56cf30/expr.png\" style=\"display:inline;vertical-align:middle;\" /></a></td></tr>\n",
       "<tr><td>7</td><td>Literal</td><td></td><td><a class=\"ProveItLink\" href=\"../../../../../../logic/sets/inclusion/__pv_it/common/cf84c19b596da29088866bd9d56a4b5a100c324f0/expr.ipynb\"><img src=\"../../../../../../logic/sets/inclusion/__pv_it/common/cf84c19b596da29088866bd9d56a4b5a100c324f0/expr.png\" style=\"display:inline;vertical-align:middle;\" /></a></td></tr>\n",
       "<tr><td>8</td><td>ExprTuple</td><td>11, 12</td><td><a class=\"ProveItLink\" href=\"../1f9d5cc96baa602873a33304139f8f59e5d5557e0/expr.ipynb\"><img src=\"../1f9d5cc96baa602873a33304139f8f59e5d5557e0/expr.png\" style=\"display:inline;vertical-align:middle;\" /></a></td></tr>\n",
       "<tr><td>9</td><td>Literal</td><td></td><td><a class=\"ProveItLink\" href=\"../../../../../../logic/sets/membership/__pv_it/common/7171deca84f71f47a6ec7696972d1632274a12880/expr.ipynb\"><img src=\"../../../../../../logic/sets/membership/__pv_it/common/7171deca84f71f47a6ec7696972d1632274a12880/expr.png\" style=\"display:inline;vertical-align:middle;\" /></a></td></tr>\n",
       "<tr><td>10</td><td>ExprTuple</td><td>30, 13</td><td><a class=\"ProveItLink\" href=\"../5bad5d6dd734fcb7ba50eb93344fab6194125a230/expr.ipynb\"><img src=\"../5bad5d6dd734fcb7ba50eb93344fab6194125a230/expr.png\" style=\"display:inline;vertical-align:middle;\" /></a></td></tr>\n",
       "<tr><td>11</td><td>Operation</td><td>operator:&nbsp;15<br>operands:&nbsp;14<br></td><td><a class=\"ProveItLink\" href=\"../../common/ed11d4e511a617cc6aa5107abd185735c5ad306d0/expr.ipynb\"><img src=\"../../common/ed11d4e511a617cc6aa5107abd185735c5ad306d0/expr.png\" style=\"display:inline;vertical-align:middle;\" /></a></td></tr>\n",
       "<tr><td>12</td><td>Literal</td><td></td><td><a class=\"ProveItLink\" href=\"../../../../../../numbers/number_sets/integers/__pv_it/common/21b035fc94b1f20bfb5161d2c7bd6eb2042cc5670/expr.ipynb\"><img src=\"../../../../../../numbers/number_sets/integers/__pv_it/common/21b035fc94b1f20bfb5161d2c7bd6eb2042cc5670/expr.png\" style=\"display:inline;vertical-align:middle;\" /></a></td></tr>\n",
       "<tr><td>13</td><td>Operation</td><td>operator:&nbsp;15<br>operands:&nbsp;16<br></td><td><a class=\"ProveItLink\" href=\"../../common/639fba96032e41fef5770dd9a6df92904c8a8ab50/expr.ipynb\"><img src=\"../../common/639fba96032e41fef5770dd9a6df92904c8a8ab50/expr.png\" style=\"display:inline;vertical-align:middle;\" /></a></td></tr>\n",
       "<tr><td>14</td><td>ExprTuple</td><td>17, 18</td><td><a class=\"ProveItLink\" href=\"../../common/8010fa7d78c1dcbc9a5687727dc21588af6016dd0/expr.ipynb\"><img src=\"../../common/8010fa7d78c1dcbc9a5687727dc21588af6016dd0/expr.png\" style=\"display:inline;vertical-align:middle;\" /></a></td></tr>\n",
       "<tr><td>15</td><td>Literal</td><td></td><td><a class=\"ProveItLink\" href=\"../../../../../../numbers/number_sets/integers/__pv_it/common/fcf0def17f5c3c84b64c959b39aed0e5dad7f3340/expr.ipynb\"><img src=\"../../../../../../numbers/number_sets/integers/__pv_it/common/fcf0def17f5c3c84b64c959b39aed0e5dad7f3340/expr.png\" style=\"display:inline;vertical-align:middle;\" /></a></td></tr>\n",
       "<tr><td>16</td><td>ExprTuple</td><td>41, 19</td><td><a class=\"ProveItLink\" href=\"../../common/aa4fefeb123d23a071bd69f9dc8cac18c42a09510/expr.ipynb\"><img src=\"../../common/aa4fefeb123d23a071bd69f9dc8cac18c42a09510/expr.png\" style=\"display:inline;vertical-align:middle;\" /></a></td></tr>\n",
       "<tr><td>17</td><td>Operation</td><td>operator:&nbsp;35<br>operands:&nbsp;20<br></td><td><a class=\"ProveItLink\" href=\"../../common/23454c9d18a86cc328c1e64d5450b9b741ba17e20/expr.ipynb\"><img src=\"../../common/23454c9d18a86cc328c1e64d5450b9b741ba17e20/expr.png\" style=\"display:inline;vertical-align:middle;\" /></a></td></tr>\n",
       "<tr><td>18</td><td>Operation</td><td>operator:&nbsp;39<br>operand:&nbsp;24<br></td><td><a class=\"ProveItLink\" href=\"../../common/c9e7b204821b586f2bb88a11a7795117bce664260/expr.ipynb\"><img src=\"../../common/c9e7b204821b586f2bb88a11a7795117bce664260/expr.png\" style=\"display:inline;vertical-align:middle;\" /></a></td></tr>\n",
       "<tr><td>19</td><td>Operation</td><td>operator:&nbsp;35<br>operands:&nbsp;22<br></td><td><a class=\"ProveItLink\" href=\"../../common/c98a2927a7984c764f3a6c8247d8c968acde13270/expr.ipynb\"><img src=\"../../common/c98a2927a7984c764f3a6c8247d8c968acde13270/expr.png\" style=\"display:inline;vertical-align:middle;\" /></a></td></tr>\n",
       "<tr><td>20</td><td>ExprTuple</td><td>23, 41</td><td><a class=\"ProveItLink\" href=\"../../common/d473ebf4b0efe9db202f06279632c83cd6a4ed090/expr.ipynb\"><img src=\"../../common/d473ebf4b0efe9db202f06279632c83cd6a4ed090/expr.png\" style=\"display:inline;vertical-align:middle;\" /></a></td></tr>\n",
       "<tr><td>21</td><td>ExprTuple</td><td>24</td><td><a class=\"ProveItLink\" href=\"../../common/de580d927663dc854c2d99970c1ff16521fb64900/expr.ipynb\"><img src=\"../../common/de580d927663dc854c2d99970c1ff16521fb64900/expr.png\" style=\"display:inline;vertical-align:middle;\" /></a></td></tr>\n",
       "<tr><td>22</td><td>ExprTuple</td><td>29, 25</td><td><a class=\"ProveItLink\" href=\"../../common/c7351973c66b5bb56840e890c66d439d3624e3fa0/expr.ipynb\"><img src=\"../../common/c7351973c66b5bb56840e890c66d439d3624e3fa0/expr.png\" style=\"display:inline;vertical-align:middle;\" /></a></td></tr>\n",
       "<tr><td>23</td><td>Operation</td><td>operator:&nbsp;39<br>operand:&nbsp;29<br></td><td><a class=\"ProveItLink\" href=\"../../common/97f4bed0136aaed595b0c2707f8b733a3e18c7b10/expr.ipynb\"><img src=\"../../common/97f4bed0136aaed595b0c2707f8b733a3e18c7b10/expr.png\" style=\"display:inline;vertical-align:middle;\" /></a></td></tr>\n",
       "<tr><td>24</td><td>Operation</td><td>operator:&nbsp;35<br>operands:&nbsp;27<br></td><td><a class=\"ProveItLink\" href=\"../../common/ee4a676a4be42364242a9905ef40ee55a69e2c2f0/expr.ipynb\"><img src=\"../../common/ee4a676a4be42364242a9905ef40ee55a69e2c2f0/expr.png\" style=\"display:inline;vertical-align:middle;\" /></a></td></tr>\n",
       "<tr><td>25</td><td>Operation</td><td>operator:&nbsp;39<br>operand:&nbsp;33<br></td><td><a class=\"ProveItLink\" href=\"../../common/2fbb45f6a170048264fa22e4ed78d6b07832f8a40/expr.ipynb\"><img src=\"../../common/2fbb45f6a170048264fa22e4ed78d6b07832f8a40/expr.png\" style=\"display:inline;vertical-align:middle;\" /></a></td></tr>\n",
       "<tr><td>26</td><td>ExprTuple</td><td>29</td><td><a class=\"ProveItLink\" href=\"../../common/b0ba8ab219ddbdc9f910b2a6d05b9f4036a8538e0/expr.ipynb\"><img src=\"../../common/b0ba8ab219ddbdc9f910b2a6d05b9f4036a8538e0/expr.png\" style=\"display:inline;vertical-align:middle;\" /></a></td></tr>\n",
       "<tr><td>27</td><td>ExprTuple</td><td>30, 41</td><td><a class=\"ProveItLink\" href=\"../../common/94bbb187e0fef07aa0a5eee9dbcfd444be86b2f80/expr.ipynb\"><img src=\"../../common/94bbb187e0fef07aa0a5eee9dbcfd444be86b2f80/expr.png\" style=\"display:inline;vertical-align:middle;\" /></a></td></tr>\n",
       "<tr><td>28</td><td>ExprTuple</td><td>33</td><td><a class=\"ProveItLink\" href=\"../../common/edbcbc917d0d4ded75b634f8dd6c41a04efbc0c40/expr.ipynb\"><img src=\"../../common/edbcbc917d0d4ded75b634f8dd6c41a04efbc0c40/expr.png\" style=\"display:inline;vertical-align:middle;\" /></a></td></tr>\n",
       "<tr><td>29</td><td>Operation</td><td>operator:&nbsp;31<br>operands:&nbsp;32<br></td><td><a class=\"ProveItLink\" href=\"../../common/0792a1d5c4681297bfa0e77c90b2569914aae74f0/expr.ipynb\"><img src=\"../../common/0792a1d5c4681297bfa0e77c90b2569914aae74f0/expr.png\" style=\"display:inline;vertical-align:middle;\" /></a></td></tr>\n",
       "<tr><td>30</td><td>Variable</td><td></td><td><a class=\"ProveItLink\" href=\"../../../../../../__pv_it/common/6ccbd8f7424e34c92aa1208d7ccef106f5849c250/expr.ipynb\"><img src=\"../../../../../../__pv_it/common/6ccbd8f7424e34c92aa1208d7ccef106f5849c250/expr.png\" style=\"display:inline;vertical-align:middle;\" /></a></td></tr>\n",
       "<tr><td>31</td><td>Literal</td><td></td><td><a class=\"ProveItLink\" href=\"../../../../../../numbers/exponentiation/__pv_it/common/31d1b89e3c2fad7d997556c69b6be6425b6f59a40/expr.ipynb\"><img src=\"../../../../../../numbers/exponentiation/__pv_it/common/31d1b89e3c2fad7d997556c69b6be6425b6f59a40/expr.png\" style=\"display:inline;vertical-align:middle;\" /></a></td></tr>\n",
       "<tr><td>32</td><td>ExprTuple</td><td>33, 34</td><td><a class=\"ProveItLink\" href=\"../../common/4f96f4a928cdb57c599341d749f9e84260c40fdd0/expr.ipynb\"><img src=\"../../common/4f96f4a928cdb57c599341d749f9e84260c40fdd0/expr.png\" style=\"display:inline;vertical-align:middle;\" /></a></td></tr>\n",
       "<tr><td>33</td><td>Literal</td><td></td><td><a class=\"ProveItLink\" href=\"../../../../../../numbers/numerals/__pv_it/common/3829356ce3fdf8f35810c63c00bc1a19e838663e0/expr.ipynb\"><img src=\"../../../../../../numbers/numerals/__pv_it/common/3829356ce3fdf8f35810c63c00bc1a19e838663e0/expr.png\" style=\"display:inline;vertical-align:middle;\" /></a></td></tr>\n",
       "<tr><td>34</td><td>Operation</td><td>operator:&nbsp;35<br>operands:&nbsp;36<br></td><td><a class=\"ProveItLink\" href=\"../../common/2bd9790a8ceb0cbaa297908b29d1d26135fb49df0/expr.ipynb\"><img src=\"../../common/2bd9790a8ceb0cbaa297908b29d1d26135fb49df0/expr.png\" style=\"display:inline;vertical-align:middle;\" /></a></td></tr>\n",
       "<tr><td>35</td><td>Literal</td><td></td><td><a class=\"ProveItLink\" href=\"../../../../../../numbers/addition/__pv_it/common/1f38fe5cce441387feef296e2c0a2eac260bb4f30/expr.ipynb\"><img src=\"../../../../../../numbers/addition/__pv_it/common/1f38fe5cce441387feef296e2c0a2eac260bb4f30/expr.png\" style=\"display:inline;vertical-align:middle;\" /></a></td></tr>\n",
       "<tr><td>36</td><td>ExprTuple</td><td>37, 38</td><td><a class=\"ProveItLink\" href=\"../../common/228a84a9850aca6e9a3f2ee00bbfb728e8599f670/expr.ipynb\"><img src=\"../../common/228a84a9850aca6e9a3f2ee00bbfb728e8599f670/expr.png\" style=\"display:inline;vertical-align:middle;\" /></a></td></tr>\n",
       "<tr><td>37</td><td>Literal</td><td></td><td><a class=\"ProveItLink\" href=\"../../common/39c1d684e38b5dd4cd200cf6f134282993af2c0b0/expr.ipynb\"><img src=\"../../common/39c1d684e38b5dd4cd200cf6f134282993af2c0b0/expr.png\" style=\"display:inline;vertical-align:middle;\" /></a></td></tr>\n",
       "<tr><td>38</td><td>Operation</td><td>operator:&nbsp;39<br>operand:&nbsp;41<br></td><td><a class=\"ProveItLink\" href=\"../../common/194689aa2092eb5e83b339e69e1c112868251dd50/expr.ipynb\"><img src=\"../../common/194689aa2092eb5e83b339e69e1c112868251dd50/expr.png\" style=\"display:inline;vertical-align:middle;\" /></a></td></tr>\n",
       "<tr><td>39</td><td>Literal</td><td></td><td><a class=\"ProveItLink\" href=\"../../../../../../numbers/negation/__pv_it/common/31a69a5c76809537045e3884859f178d8d9c845c0/expr.ipynb\"><img src=\"../../../../../../numbers/negation/__pv_it/common/31a69a5c76809537045e3884859f178d8d9c845c0/expr.png\" style=\"display:inline;vertical-align:middle;\" /></a></td></tr>\n",
       "<tr><td>40</td><td>ExprTuple</td><td>41</td><td><a class=\"ProveItLink\" href=\"../../common/983fb1abdb7789966ec8b7afe0d4f7ca8578c9e50/expr.ipynb\"><img src=\"../../common/983fb1abdb7789966ec8b7afe0d4f7ca8578c9e50/expr.png\" style=\"display:inline;vertical-align:middle;\" /></a></td></tr>\n",
       "<tr><td>41</td><td>Literal</td><td></td><td><a class=\"ProveItLink\" href=\"../../../../../../numbers/numerals/__pv_it/common/d278e359da0695d9652dd541d45264f93703e2e40/expr.ipynb\"><img src=\"../../../../../../numbers/numerals/__pv_it/common/d278e359da0695d9652dd541d45264f93703e2e40/expr.png\" style=\"display:inline;vertical-align:middle;\" /></a></td></tr>\n",
       "</table>\n"
      ],
      "text/plain": [
       "0. forall_{eps in {1...2^{t - 1} - 2}} ({-2^{t - 1} + 1...-(eps + 1)} subset_eq Integer)\n",
       "   core type: Operation\n",
       "   operator: 1\n",
       "   operand: 3\n",
       "1. forall\n",
       "   core type: Literal\n",
       "   sub-expressions: \n",
       "2. (eps -> {{-2^{t - 1} + 1...-(eps + 1)} subset_eq Integer if eps in {1...2^{t - 1} - 2}.)\n",
       "   core type: ExprTuple\n",
       "   sub-expressions: 3\n",
       "3. eps -> {{-2^{t - 1} + 1...-(eps + 1)} subset_eq Integer if eps in {1...2^{t - 1} - 2}.\n",
       "   core type: Lambda\n",
       "   parameter: 30\n",
       "   body: 4\n",
       "4. {{-2^{t - 1} + 1...-(eps + 1)} subset_eq Integer if eps in {1...2^{t - 1} - 2}.\n",
       "   core type: Conditional\n",
       "   value: 5\n",
       "   condition: 6\n",
       "5. {-2^{t - 1} + 1...-(eps + 1)} subset_eq Integer\n",
       "   core type: Operation\n",
       "   operator: 7\n",
       "   operands: 8\n",
       "6. eps in {1...2^{t - 1} - 2}\n",
       "   core type: Operation\n",
       "   operator: 9\n",
       "   operands: 10\n",
       "7. subset_eq\n",
       "   core type: Literal\n",
       "   sub-expressions: \n",
       "8. ({-2^{t - 1} + 1...-(eps + 1)}, Integer)\n",
       "   core type: ExprTuple\n",
       "   sub-expressions: 11, 12\n",
       "9. in\n",
       "   core type: Literal\n",
       "   sub-expressions: \n",
       "10. (eps, {1...2^{t - 1} - 2})\n",
       "    core type: ExprTuple\n",
       "    sub-expressions: 30, 13\n",
       "11. {-2^{t - 1} + 1...-(eps + 1)}\n",
       "    core type: Operation\n",
       "    operator: 15\n",
       "    operands: 14\n",
       "12. Integer\n",
       "    core type: Literal\n",
       "    sub-expressions: \n",
       "13. {1...2^{t - 1} - 2}\n",
       "    core type: Operation\n",
       "    operator: 15\n",
       "    operands: 16\n",
       "14. (-2^{t - 1} + 1, -(eps + 1))\n",
       "    core type: ExprTuple\n",
       "    sub-expressions: 17, 18\n",
       "15. Interval\n",
       "    core type: Literal\n",
       "    sub-expressions: \n",
       "16. (1, 2^{t - 1} - 2)\n",
       "    core type: ExprTuple\n",
       "    sub-expressions: 41, 19\n",
       "17. -2^{t - 1} + 1\n",
       "    core type: Operation\n",
       "    operator: 35\n",
       "    operands: 20\n",
       "18. -(eps + 1)\n",
       "    core type: Operation\n",
       "    operator: 39\n",
       "    operand: 24\n",
       "19. 2^{t - 1} - 2\n",
       "    core type: Operation\n",
       "    operator: 35\n",
       "    operands: 22\n",
       "20. (-2^{t - 1}, 1)\n",
       "    core type: ExprTuple\n",
       "    sub-expressions: 23, 41\n",
       "21. (eps + 1)\n",
       "    core type: ExprTuple\n",
       "    sub-expressions: 24\n",
       "22. (2^{t - 1}, -2)\n",
       "    core type: ExprTuple\n",
       "    sub-expressions: 29, 25\n",
       "23. -2^{t - 1}\n",
       "    core type: Operation\n",
       "    operator: 39\n",
       "    operand: 29\n",
       "24. eps + 1\n",
       "    core type: Operation\n",
       "    operator: 35\n",
       "    operands: 27\n",
       "25. -2\n",
       "    core type: Operation\n",
       "    operator: 39\n",
       "    operand: 33\n",
       "26. (2^{t - 1})\n",
       "    core type: ExprTuple\n",
       "    sub-expressions: 29\n",
       "27. (eps, 1)\n",
       "    core type: ExprTuple\n",
       "    sub-expressions: 30, 41\n",
       "28. (2)\n",
       "    core type: ExprTuple\n",
       "    sub-expressions: 33\n",
       "29. 2^{t - 1}\n",
       "    core type: Operation\n",
       "    operator: 31\n",
       "    operands: 32\n",
       "30. eps\n",
       "    core type: Variable\n",
       "    sub-expressions: \n",
       "31. Exp\n",
       "    core type: Literal\n",
       "    sub-expressions: \n",
       "32. (2, t - 1)\n",
       "    core type: ExprTuple\n",
       "    sub-expressions: 33, 34\n",
       "33. 2\n",
       "    core type: Literal\n",
       "    sub-expressions: \n",
       "34. t - 1\n",
       "    core type: Operation\n",
       "    operator: 35\n",
       "    operands: 36\n",
       "35. +\n",
       "    core type: Literal\n",
       "    sub-expressions: \n",
       "36. (t, -1)\n",
       "    core type: ExprTuple\n",
       "    sub-expressions: 37, 38\n",
       "37. t\n",
       "    core type: Literal\n",
       "    sub-expressions: \n",
       "38. -1\n",
       "    core type: Operation\n",
       "    operator: 39\n",
       "    operand: 41\n",
       "39. -\n",
       "    core type: Literal\n",
       "    sub-expressions: \n",
       "40. (1)\n",
       "    core type: ExprTuple\n",
       "    sub-expressions: 41\n",
       "41. 1\n",
       "    core type: Literal\n",
       "    sub-expressions: "
      ]
     },
     "execution_count": 6,
     "metadata": {},
     "output_type": "execute_result"
    }
   ],
   "source": [
    "# display the expression information\n",
    "expr.expr_info()"
   ]
  },
  {
   "cell_type": "code",
   "execution_count": null,
   "metadata": {},
   "outputs": [],
   "source": []
  }
 ],
 "metadata": {
  "kernelspec": {
   "display_name": "Python 3",
   "language": "python",
   "name": "python3"
  }
 },
 "nbformat": 4,
 "nbformat_minor": 0
}