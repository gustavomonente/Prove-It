{
 "cells": [
  {
   "cell_type": "markdown",
   "metadata": {},
   "source": [
    "Expression of type <a class=\"ProveItLink\" href=\"../../../../../../../../doc/html/api/proveit.numbers.LessEq.html\">LessEq</a>\n",
    "=======================\n",
    "# from the theory of <a class=\"ProveItLink\" href=\"../../../_theory_nbs_/theory.ipynb\">proveit.physics.quantum.QPE</a>"
   ]
  },
  {
   "cell_type": "code",
   "execution_count": 1,
   "metadata": {},
   "outputs": [],
   "source": [
    "import proveit\n",
    "# Automation is not needed when building an expression:\n",
    "proveit.defaults.automation = False # This will speed things up.\n",
    "proveit.defaults.inline_pngs = False # Makes files smaller.\n",
    "%load_expr # Load the stored expression as 'stored_expr'\n",
    "# import Expression classes needed to build the expression\n",
    "from proveit import eps, l\n",
    "from proveit.logic import Equals\n",
    "from proveit.numbers import Interval, Neg, Sum, greater_eq\n",
    "from proveit.physics.quantum.QPE import ModAdd, Psuccess, b_, m_\n",
    "from proveit.statistics import Prob"
   ]
  },
  {
   "cell_type": "code",
   "execution_count": 2,
   "metadata": {},
   "outputs": [
    {
     "data": {
      "text/html": [
       "<strong id=\"expr\">expr:</strong> <a class=\"ProveItLink\" href=\"expr.ipynb\"><img src=\"expr.png\" style=\"display:inline;vertical-align:middle;\" /></a><br>"
      ],
      "text/plain": [
       "expr: Psuccess(eps) >= (Sum_{l=-eps}^{eps} Pr_{m}[m = (b MOD_ADD l)])"
      ]
     },
     "execution_count": 2,
     "metadata": {},
     "output_type": "execute_result"
    }
   ],
   "source": [
    "# build up the expression from sub-expressions\n",
    "expr = greater_eq(Psuccess(eps), Sum([l], Prob(Equals(m_, ModAdd(b_, l)), m_), domains = [Interval(Neg(eps), eps)]))"
   ]
  },
  {
   "cell_type": "code",
   "execution_count": 3,
   "metadata": {},
   "outputs": [
    {
     "name": "stdout",
     "output_type": "stream",
     "text": [
      "Passed sanity check: expr matches stored_expr\n"
     ]
    }
   ],
   "source": [
    "# check that the built expression is the same as the stored expression\n",
    "assert expr == stored_expr\n",
    "assert expr._style_id == stored_expr._style_id\n",
    "print(\"Passed sanity check: expr matches stored_expr\")"
   ]
  },
  {
   "cell_type": "code",
   "execution_count": 4,
   "metadata": {},
   "outputs": [
    {
     "name": "stdout",
     "output_type": "stream",
     "text": [
      "P_{\\rm success}(\\varepsilon) \\geq \\left(\\sum_{l=-\\varepsilon}^{\\varepsilon} Pr_{m}[m = \\left(b \\oplus l\\right)]\\right)\n"
     ]
    }
   ],
   "source": [
    "# Show the LaTeX representation of the expression for convenience if you need it.\n",
    "print(expr.latex())"
   ]
  },
  {
   "cell_type": "code",
   "execution_count": 5,
   "metadata": {},
   "outputs": [
    {
     "data": {
      "text/html": [
       "<table>\n",
       "<tr><th>name</th><th>description</th><th>default</th><th>current value</th><th>related methods</th></tr><tr><td>operation</td><td>'infix' or 'function' style formatting</td><td>infix</td><td>infix</td><td></td></tr>\n",
       "<tr><td>wrap_positions</td><td>position(s) at which wrapping is to occur; '2 n - 1' is after the nth operand, '2 n' is after the nth operation.</td><td>()</td><td>()</td><td>('with_wrapping_at', 'with_wrap_before_operator', 'with_wrap_after_operator', 'wrap_positions')</td></tr>\n",
       "<tr><td>justification</td><td>if any wrap positions are set, justify to the 'left', 'center', or 'right'</td><td>center</td><td>center</td><td>('with_justification',)</td></tr>\n",
       "<tr><td>direction</td><td>Direction of the relation (normal or reversed)</td><td>normal</td><td>reversed</td><td>('with_direction_reversed', 'is_reversed')</td></tr>\n",
       "</table>\n"
      ],
      "text/plain": [
       "style name: operation\n",
       "description: 'infix' or 'function' style formatting\n",
       "default: infix\n",
       "current value: infix\n",
       "related methods: ()\n",
       "style name: wrap_positions\n",
       "description: position(s) at which wrapping is to occur; '2 n - 1' is after the nth operand, '2 n' is after the nth operation.\n",
       "default: ()\n",
       "current value: ()\n",
       "related methods: ('with_wrapping_at', 'with_wrap_before_operator', 'with_wrap_after_operator', 'wrap_positions')\n",
       "style name: justification\n",
       "description: if any wrap positions are set, justify to the 'left', 'center', or 'right'\n",
       "default: center\n",
       "current value: center\n",
       "related methods: ('with_justification',)\n",
       "style name: direction\n",
       "description: Direction of the relation (normal or reversed)\n",
       "default: normal\n",
       "current value: reversed\n",
       "related methods: ('with_direction_reversed', 'is_reversed')"
      ]
     },
     "execution_count": 5,
     "metadata": {},
     "output_type": "execute_result"
    }
   ],
   "source": [
    "expr.style_options()"
   ]
  },
  {
   "cell_type": "code",
   "execution_count": 6,
   "metadata": {},
   "outputs": [
    {
     "data": {
      "text/html": [
       "<table><tr><th>&nbsp;</th><th>core type</th><th>sub-expressions</th><th>expression</th></tr>\n",
       "<tr><td>0</td><td>Operation</td><td>operator:&nbsp;1<br>operands:&nbsp;2<br></td><td><a class=\"ProveItLink\" href=\"expr.ipynb\"><img src=\"expr.png\" style=\"display:inline;vertical-align:middle;\" /></a></td></tr>\n",
       "<tr><td>1</td><td>Literal</td><td></td><td><a class=\"ProveItLink\" href=\"../../../../../../numbers/ordering/__pv_it/common/b7491c9b87613cffc9e4ec0625a0f1afacbe2cbd0/expr.ipynb\"><img src=\"../../../../../../numbers/ordering/__pv_it/common/b7491c9b87613cffc9e4ec0625a0f1afacbe2cbd0/expr.png\" style=\"display:inline;vertical-align:middle;\" /></a></td></tr>\n",
       "<tr><td>2</td><td>ExprTuple</td><td>3, 4</td><td><a class=\"ProveItLink\" href=\"../756d94268260ae9d66f6c3651fec2d18208004db0/expr.ipynb\"><img src=\"../756d94268260ae9d66f6c3651fec2d18208004db0/expr.png\" style=\"display:inline;vertical-align:middle;\" /></a></td></tr>\n",
       "<tr><td>3</td><td>Operation</td><td>operator:&nbsp;5<br>operand:&nbsp;8<br></td><td><a class=\"ProveItLink\" href=\"../32bb4e97febb9d800430f46a3ee5cfdadd555f8a0/expr.ipynb\"><img src=\"../32bb4e97febb9d800430f46a3ee5cfdadd555f8a0/expr.png\" style=\"display:inline;vertical-align:middle;\" /></a></td></tr>\n",
       "<tr><td>4</td><td>Operation</td><td>operator:&nbsp;7<br>operand:&nbsp;31<br></td><td><a class=\"ProveItLink\" href=\"../4ffc3a009d18711cf872906878503fe87f3f30270/expr.ipynb\"><img src=\"../4ffc3a009d18711cf872906878503fe87f3f30270/expr.png\" style=\"display:inline;vertical-align:middle;\" /></a></td></tr>\n",
       "<tr><td>5</td><td>Literal</td><td></td><td><a class=\"ProveItLink\" href=\"../../../../../../numbers/summation/__pv_it/common/7101522f5ec444406c864c64c7848ef7ed7131f10/expr.ipynb\"><img src=\"../../../../../../numbers/summation/__pv_it/common/7101522f5ec444406c864c64c7848ef7ed7131f10/expr.png\" style=\"display:inline;vertical-align:middle;\" /></a></td></tr>\n",
       "<tr><td>6</td><td>ExprTuple</td><td>8</td><td><a class=\"ProveItLink\" href=\"../a06bbd3191ab1f78eaa1381bd47a7057fd429ca60/expr.ipynb\"><img src=\"../a06bbd3191ab1f78eaa1381bd47a7057fd429ca60/expr.png\" style=\"display:inline;vertical-align:middle;\" /></a></td></tr>\n",
       "<tr><td>7</td><td>Literal</td><td></td><td><a class=\"ProveItLink\" href=\"../../common/b64d28e0ba4b72ace3d8cd844b01f64a917571090/expr.ipynb\"><img src=\"../../common/b64d28e0ba4b72ace3d8cd844b01f64a917571090/expr.png\" style=\"display:inline;vertical-align:middle;\" /></a></td></tr>\n",
       "<tr><td>8</td><td>Lambda</td><td>parameter:&nbsp;30<br>body:&nbsp;9<br></td><td><a class=\"ProveItLink\" href=\"../0f8ed6f33c98ba4928cebed2fea5b11b30028ae80/expr.ipynb\"><img src=\"../0f8ed6f33c98ba4928cebed2fea5b11b30028ae80/expr.png\" style=\"display:inline;vertical-align:middle;\" /></a></td></tr>\n",
       "<tr><td>9</td><td>Conditional</td><td>value:&nbsp;10<br>condition:&nbsp;11<br></td><td><a class=\"ProveItLink\" href=\"../711b69087ec5f09207d52de49ac9dcae13233c5e0/expr.ipynb\"><img src=\"../711b69087ec5f09207d52de49ac9dcae13233c5e0/expr.png\" style=\"display:inline;vertical-align:middle;\" /></a></td></tr>\n",
       "<tr><td>10</td><td>Operation</td><td>operator:&nbsp;12<br>operands:&nbsp;13<br></td><td><a class=\"ProveItLink\" href=\"../d2e6b1554850b17c646a1912ed92be66a9f949790/expr.ipynb\"><img src=\"../d2e6b1554850b17c646a1912ed92be66a9f949790/expr.png\" style=\"display:inline;vertical-align:middle;\" /></a></td></tr>\n",
       "<tr><td>11</td><td>Operation</td><td>operator:&nbsp;14<br>operands:&nbsp;15<br></td><td><a class=\"ProveItLink\" href=\"../6fb1b6c97b09c43f36005efeb7ab8fade8368eee0/expr.ipynb\"><img src=\"../6fb1b6c97b09c43f36005efeb7ab8fade8368eee0/expr.png\" style=\"display:inline;vertical-align:middle;\" /></a></td></tr>\n",
       "<tr><td>12</td><td>Literal</td><td></td><td><a class=\"ProveItLink\" href=\"../../../../../../statistics/__pv_it/common/37e2c1aaff04fdc03492a799672eb59c4469aecc0/expr.ipynb\"><img src=\"../../../../../../statistics/__pv_it/common/37e2c1aaff04fdc03492a799672eb59c4469aecc0/expr.png\" style=\"display:inline;vertical-align:middle;\" /></a></td></tr>\n",
       "<tr><td>13</td><td>ExprTuple</td><td>16, 22</td><td><a class=\"ProveItLink\" href=\"../bd2d61edeed8481a4d7834cbb6acd73ebb5ba1330/expr.ipynb\"><img src=\"../bd2d61edeed8481a4d7834cbb6acd73ebb5ba1330/expr.png\" style=\"display:inline;vertical-align:middle;\" /></a></td></tr>\n",
       "<tr><td>14</td><td>Literal</td><td></td><td><a class=\"ProveItLink\" href=\"../../../../../../logic/sets/membership/__pv_it/common/7171deca84f71f47a6ec7696972d1632274a12880/expr.ipynb\"><img src=\"../../../../../../logic/sets/membership/__pv_it/common/7171deca84f71f47a6ec7696972d1632274a12880/expr.png\" style=\"display:inline;vertical-align:middle;\" /></a></td></tr>\n",
       "<tr><td>15</td><td>ExprTuple</td><td>30, 17</td><td><a class=\"ProveItLink\" href=\"../1a57ffe5e5fbfefd333c880329e2b633fd8875ee0/expr.ipynb\"><img src=\"../1a57ffe5e5fbfefd333c880329e2b633fd8875ee0/expr.png\" style=\"display:inline;vertical-align:middle;\" /></a></td></tr>\n",
       "<tr><td>16</td><td>Operation</td><td>operator:&nbsp;18<br>operands:&nbsp;19<br></td><td><a class=\"ProveItLink\" href=\"../bbc6aaddfb63fab478bd6434bf408d63be926e2e0/expr.ipynb\"><img src=\"../bbc6aaddfb63fab478bd6434bf408d63be926e2e0/expr.png\" style=\"display:inline;vertical-align:middle;\" /></a></td></tr>\n",
       "<tr><td>17</td><td>Operation</td><td>operator:&nbsp;20<br>operands:&nbsp;21<br></td><td><a class=\"ProveItLink\" href=\"../e110025b38342468d2741d0daf50c990f159b16e0/expr.ipynb\"><img src=\"../e110025b38342468d2741d0daf50c990f159b16e0/expr.png\" style=\"display:inline;vertical-align:middle;\" /></a></td></tr>\n",
       "<tr><td>18</td><td>Literal</td><td></td><td><a class=\"ProveItLink\" href=\"../../../../../../logic/equality/__pv_it/common/731dd3955b346c1320ed5c0ba7a618bcda61457d0/expr.ipynb\"><img src=\"../../../../../../logic/equality/__pv_it/common/731dd3955b346c1320ed5c0ba7a618bcda61457d0/expr.png\" style=\"display:inline;vertical-align:middle;\" /></a></td></tr>\n",
       "<tr><td>19</td><td>ExprTuple</td><td>22, 23</td><td><a class=\"ProveItLink\" href=\"../fadff188d26234299caa9edadb79f2815559ee670/expr.ipynb\"><img src=\"../fadff188d26234299caa9edadb79f2815559ee670/expr.png\" style=\"display:inline;vertical-align:middle;\" /></a></td></tr>\n",
       "<tr><td>20</td><td>Literal</td><td></td><td><a class=\"ProveItLink\" href=\"../../../../../../numbers/number_sets/integers/__pv_it/common/fcf0def17f5c3c84b64c959b39aed0e5dad7f3340/expr.ipynb\"><img src=\"../../../../../../numbers/number_sets/integers/__pv_it/common/fcf0def17f5c3c84b64c959b39aed0e5dad7f3340/expr.png\" style=\"display:inline;vertical-align:middle;\" /></a></td></tr>\n",
       "<tr><td>21</td><td>ExprTuple</td><td>24, 31</td><td><a class=\"ProveItLink\" href=\"../5276b1ab84eff32e2e8207a788840de2d6ff6efc0/expr.ipynb\"><img src=\"../5276b1ab84eff32e2e8207a788840de2d6ff6efc0/expr.png\" style=\"display:inline;vertical-align:middle;\" /></a></td></tr>\n",
       "<tr><td>22</td><td>Literal</td><td></td><td><a class=\"ProveItLink\" href=\"../../common/9a0340d3febe353ce54980e38a8eb5fb771a38530/expr.ipynb\"><img src=\"../../common/9a0340d3febe353ce54980e38a8eb5fb771a38530/expr.png\" style=\"display:inline;vertical-align:middle;\" /></a></td></tr>\n",
       "<tr><td>23</td><td>Operation</td><td>operator:&nbsp;25<br>operands:&nbsp;26<br></td><td><a class=\"ProveItLink\" href=\"../fe0814a11713b87c3f39c25be8af4dda33a614af0/expr.ipynb\"><img src=\"../fe0814a11713b87c3f39c25be8af4dda33a614af0/expr.png\" style=\"display:inline;vertical-align:middle;\" /></a></td></tr>\n",
       "<tr><td>24</td><td>Operation</td><td>operator:&nbsp;27<br>operand:&nbsp;31<br></td><td><a class=\"ProveItLink\" href=\"../8a40679d204e80b62f1c3576692a3dd9d8dcbd460/expr.ipynb\"><img src=\"../8a40679d204e80b62f1c3576692a3dd9d8dcbd460/expr.png\" style=\"display:inline;vertical-align:middle;\" /></a></td></tr>\n",
       "<tr><td>25</td><td>Literal</td><td></td><td><a class=\"ProveItLink\" href=\"../../common/6e5dbc42e5663f90b99f3fe4119e87bcc81251ac0/expr.ipynb\"><img src=\"../../common/6e5dbc42e5663f90b99f3fe4119e87bcc81251ac0/expr.png\" style=\"display:inline;vertical-align:middle;\" /></a></td></tr>\n",
       "<tr><td>26</td><td>ExprTuple</td><td>29, 30</td><td><a class=\"ProveItLink\" href=\"../c598e315bb829f353ecfec00a7987602e905e44d0/expr.ipynb\"><img src=\"../c598e315bb829f353ecfec00a7987602e905e44d0/expr.png\" style=\"display:inline;vertical-align:middle;\" /></a></td></tr>\n",
       "<tr><td>27</td><td>Literal</td><td></td><td><a class=\"ProveItLink\" href=\"../../../../../../numbers/negation/__pv_it/common/31a69a5c76809537045e3884859f178d8d9c845c0/expr.ipynb\"><img src=\"../../../../../../numbers/negation/__pv_it/common/31a69a5c76809537045e3884859f178d8d9c845c0/expr.png\" style=\"display:inline;vertical-align:middle;\" /></a></td></tr>\n",
       "<tr><td>28</td><td>ExprTuple</td><td>31</td><td><a class=\"ProveItLink\" href=\"../e084e739886f271e32b52d081c7e6ea398fdb12e0/expr.ipynb\"><img src=\"../e084e739886f271e32b52d081c7e6ea398fdb12e0/expr.png\" style=\"display:inline;vertical-align:middle;\" /></a></td></tr>\n",
       "<tr><td>29</td><td>Literal</td><td></td><td><a class=\"ProveItLink\" href=\"../../common/5e50c5d70951d830477d02ce423fc5d8f80be26e0/expr.ipynb\"><img src=\"../../common/5e50c5d70951d830477d02ce423fc5d8f80be26e0/expr.png\" style=\"display:inline;vertical-align:middle;\" /></a></td></tr>\n",
       "<tr><td>30</td><td>Variable</td><td></td><td><a class=\"ProveItLink\" href=\"../../../../../../__pv_it/common/5f60d32873626c7ce57e35d1d9e427fb112cfe7a0/expr.ipynb\"><img src=\"../../../../../../__pv_it/common/5f60d32873626c7ce57e35d1d9e427fb112cfe7a0/expr.png\" style=\"display:inline;vertical-align:middle;\" /></a></td></tr>\n",
       "<tr><td>31</td><td>Variable</td><td></td><td><a class=\"ProveItLink\" href=\"../../../../../../__pv_it/common/6ccbd8f7424e34c92aa1208d7ccef106f5849c250/expr.ipynb\"><img src=\"../../../../../../__pv_it/common/6ccbd8f7424e34c92aa1208d7ccef106f5849c250/expr.png\" style=\"display:inline;vertical-align:middle;\" /></a></td></tr>\n",
       "</table>\n"
      ],
      "text/plain": [
       "0. Psuccess(eps) >= (Sum_{l=-eps}^{eps} Pr_{m}[m = (b MOD_ADD l)])\n",
       "   core type: Operation\n",
       "   operator: 1\n",
       "   operands: 2\n",
       "1. <=\n",
       "   core type: Literal\n",
       "   sub-expressions: \n",
       "2. (Sum_{l=-eps}^{eps} Pr_{m}[m = (b MOD_ADD l)], Psuccess(eps))\n",
       "   core type: ExprTuple\n",
       "   sub-expressions: 3, 4\n",
       "3. Sum_{l=-eps}^{eps} Pr_{m}[m = (b MOD_ADD l)]\n",
       "   core type: Operation\n",
       "   operator: 5\n",
       "   operand: 8\n",
       "4. Psuccess(eps)\n",
       "   core type: Operation\n",
       "   operator: 7\n",
       "   operand: 31\n",
       "5. Sum\n",
       "   core type: Literal\n",
       "   sub-expressions: \n",
       "6. (l -> {Pr_{m}[m = (b MOD_ADD l)] if l in {-eps...eps}.)\n",
       "   core type: ExprTuple\n",
       "   sub-expressions: 8\n",
       "7. Psuccess\n",
       "   core type: Literal\n",
       "   sub-expressions: \n",
       "8. l -> {Pr_{m}[m = (b MOD_ADD l)] if l in {-eps...eps}.\n",
       "   core type: Lambda\n",
       "   parameter: 30\n",
       "   body: 9\n",
       "9. {Pr_{m}[m = (b MOD_ADD l)] if l in {-eps...eps}.\n",
       "   core type: Conditional\n",
       "   value: 10\n",
       "   condition: 11\n",
       "10. Pr_{m}[m = (b MOD_ADD l)]\n",
       "    core type: Operation\n",
       "    operator: 12\n",
       "    operands: 13\n",
       "11. l in {-eps...eps}\n",
       "    core type: Operation\n",
       "    operator: 14\n",
       "    operands: 15\n",
       "12. PROB\n",
       "    core type: Literal\n",
       "    sub-expressions: \n",
       "13. (m = (b MOD_ADD l), m)\n",
       "    core type: ExprTuple\n",
       "    sub-expressions: 16, 22\n",
       "14. in\n",
       "    core type: Literal\n",
       "    sub-expressions: \n",
       "15. (l, {-eps...eps})\n",
       "    core type: ExprTuple\n",
       "    sub-expressions: 30, 17\n",
       "16. m = (b MOD_ADD l)\n",
       "    core type: Operation\n",
       "    operator: 18\n",
       "    operands: 19\n",
       "17. {-eps...eps}\n",
       "    core type: Operation\n",
       "    operator: 20\n",
       "    operands: 21\n",
       "18. =\n",
       "    core type: Literal\n",
       "    sub-expressions: \n",
       "19. (m, b MOD_ADD l)\n",
       "    core type: ExprTuple\n",
       "    sub-expressions: 22, 23\n",
       "20. Interval\n",
       "    core type: Literal\n",
       "    sub-expressions: \n",
       "21. (-eps, eps)\n",
       "    core type: ExprTuple\n",
       "    sub-expressions: 24, 31\n",
       "22. m\n",
       "    core type: Literal\n",
       "    sub-expressions: \n",
       "23. b MOD_ADD l\n",
       "    core type: Operation\n",
       "    operator: 25\n",
       "    operands: 26\n",
       "24. -eps\n",
       "    core type: Operation\n",
       "    operator: 27\n",
       "    operand: 31\n",
       "25. MOD_ADD\n",
       "    core type: Literal\n",
       "    sub-expressions: \n",
       "26. (b, l)\n",
       "    core type: ExprTuple\n",
       "    sub-expressions: 29, 30\n",
       "27. -\n",
       "    core type: Literal\n",
       "    sub-expressions: \n",
       "28. (eps)\n",
       "    core type: ExprTuple\n",
       "    sub-expressions: 31\n",
       "29. b\n",
       "    core type: Literal\n",
       "    sub-expressions: \n",
       "30. l\n",
       "    core type: Variable\n",
       "    sub-expressions: \n",
       "31. eps\n",
       "    core type: Variable\n",
       "    sub-expressions: "
      ]
     },
     "execution_count": 6,
     "metadata": {},
     "output_type": "execute_result"
    }
   ],
   "source": [
    "# display the expression information\n",
    "expr.expr_info()"
   ]
  },
  {
   "cell_type": "code",
   "execution_count": null,
   "metadata": {},
   "outputs": [],
   "source": []
  }
 ],
 "metadata": {
  "kernelspec": {
   "display_name": "Python 3",
   "language": "python",
   "name": "python3"
  }
 },
 "nbformat": 4,
 "nbformat_minor": 0
}