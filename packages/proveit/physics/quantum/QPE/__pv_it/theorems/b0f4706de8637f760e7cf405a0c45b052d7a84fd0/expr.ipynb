{
 "cells": [
  {
   "cell_type": "markdown",
   "metadata": {},
   "source": [
    "Expression of type <a class=\"ProveItLink\" href=\"../../../../../../../../doc/html/api/proveit.ExprTuple.html\">ExprTuple</a>\n",
    "=======================\n",
    "# from the theory of <a class=\"ProveItLink\" href=\"../../../_theory_nbs_/theory.ipynb\">proveit.physics.quantum.QPE</a>"
   ]
  },
  {
   "cell_type": "code",
   "execution_count": 1,
   "metadata": {},
   "outputs": [],
   "source": [
    "import proveit\n",
    "# Automation is not needed when building an expression:\n",
    "proveit.defaults.automation = False # This will speed things up.\n",
    "proveit.defaults.inline_pngs = False # Makes files smaller.\n",
    "%load_expr # Load the stored expression as 'stored_expr'\n",
    "# import Expression classes needed to build the expression\n",
    "from proveit import ExprTuple, l\n",
    "from proveit.numbers import Sum\n",
    "from proveit.physics.quantum.QPE import alpha_l_sqrd, neg_domain, pos_domain"
   ]
  },
  {
   "cell_type": "code",
   "execution_count": 2,
   "metadata": {},
   "outputs": [
    {
     "data": {
      "text/html": [
       "<strong id=\"expr\">expr:</strong> <a class=\"ProveItLink\" href=\"expr.ipynb\"><img src=\"expr.png\" style=\"display:inline;vertical-align:middle;\" /></a><br>"
      ],
      "text/plain": [
       "expr: (Sum_{l=-2^{t - 1} + 1}^{-(eps + 1)} |alpha_{l}|^{2}, Sum_{l=eps + 1}^{2^{t - 1}} |alpha_{l}|^{2})"
      ]
     },
     "execution_count": 2,
     "metadata": {},
     "output_type": "execute_result"
    }
   ],
   "source": [
    "# build up the expression from sub-expressions\n",
    "sub_expr1 = [l]\n",
    "expr = ExprTuple(Sum(sub_expr1, alpha_l_sqrd, domains = [neg_domain]), Sum(sub_expr1, alpha_l_sqrd, domains = [pos_domain]))"
   ]
  },
  {
   "cell_type": "code",
   "execution_count": 3,
   "metadata": {},
   "outputs": [
    {
     "name": "stdout",
     "output_type": "stream",
     "text": [
      "Passed sanity check: expr matches stored_expr\n"
     ]
    }
   ],
   "source": [
    "# check that the built expression is the same as the stored expression\n",
    "assert expr == stored_expr\n",
    "assert expr._style_id == stored_expr._style_id\n",
    "print(\"Passed sanity check: expr matches stored_expr\")"
   ]
  },
  {
   "cell_type": "code",
   "execution_count": 4,
   "metadata": {},
   "outputs": [
    {
     "name": "stdout",
     "output_type": "stream",
     "text": [
      "\\left(\\sum_{l=-2^{t - 1} + 1}^{-\\left(\\varepsilon + 1\\right)} \\left|\\alpha_{l}\\right|^{2}, \\sum_{l=\\varepsilon + 1}^{2^{t - 1}} \\left|\\alpha_{l}\\right|^{2}\\right)\n"
     ]
    }
   ],
   "source": [
    "# Show the LaTeX representation of the expression for convenience if you need it.\n",
    "print(expr.latex())"
   ]
  },
  {
   "cell_type": "code",
   "execution_count": 5,
   "metadata": {},
   "outputs": [
    {
     "data": {
      "text/html": [
       "<table>\n",
       "<tr><th>name</th><th>description</th><th>default</th><th>current value</th><th>related methods</th></tr><tr><td>wrap_positions</td><td>position(s) at which wrapping is to occur; 'n' is after the nth comma.</td><td>()</td><td>()</td><td>('with_wrapping_at',)</td></tr>\n",
       "<tr><td>justification</td><td>if any wrap positions are set, justify to the 'left', 'center', or 'right'</td><td>left</td><td>left</td><td>('with_justification',)</td></tr>\n",
       "</table>\n"
      ],
      "text/plain": [
       "style name: wrap_positions\n",
       "description: position(s) at which wrapping is to occur; 'n' is after the nth comma.\n",
       "default: ()\n",
       "current value: ()\n",
       "related methods: ('with_wrapping_at',)\n",
       "style name: justification\n",
       "description: if any wrap positions are set, justify to the 'left', 'center', or 'right'\n",
       "default: left\n",
       "current value: left\n",
       "related methods: ('with_justification',)"
      ]
     },
     "execution_count": 5,
     "metadata": {},
     "output_type": "execute_result"
    }
   ],
   "source": [
    "expr.style_options()"
   ]
  },
  {
   "cell_type": "code",
   "execution_count": 6,
   "metadata": {},
   "outputs": [
    {
     "data": {
      "text/html": [
       "<table><tr><th>&nbsp;</th><th>core type</th><th>sub-expressions</th><th>expression</th></tr>\n",
       "<tr><td>0</td><td>ExprTuple</td><td>1, 2</td><td><a class=\"ProveItLink\" href=\"expr.ipynb\"><img src=\"expr.png\" style=\"display:inline;vertical-align:middle;\" /></a></td></tr>\n",
       "<tr><td>1</td><td>Operation</td><td>operator:&nbsp;4<br>operand:&nbsp;6<br></td><td><a class=\"ProveItLink\" href=\"../dd5eb99fd4b3b3e6522e5aa09203bcc3b4bd21d60/expr.ipynb\"><img src=\"../dd5eb99fd4b3b3e6522e5aa09203bcc3b4bd21d60/expr.png\" style=\"display:inline;vertical-align:middle;\" /></a></td></tr>\n",
       "<tr><td>2</td><td>Operation</td><td>operator:&nbsp;4<br>operand:&nbsp;7<br></td><td><a class=\"ProveItLink\" href=\"../769c4821066053bbbc108a558930e7181ccf7ac00/expr.ipynb\"><img src=\"../769c4821066053bbbc108a558930e7181ccf7ac00/expr.png\" style=\"display:inline;vertical-align:middle;\" /></a></td></tr>\n",
       "<tr><td>3</td><td>ExprTuple</td><td>6</td><td><a class=\"ProveItLink\" href=\"../823715e23593bd8de3b30bf88da9cfbf6bb767b40/expr.ipynb\"><img src=\"../823715e23593bd8de3b30bf88da9cfbf6bb767b40/expr.png\" style=\"display:inline;vertical-align:middle;\" /></a></td></tr>\n",
       "<tr><td>4</td><td>Literal</td><td></td><td><a class=\"ProveItLink\" href=\"../../../../../../numbers/summation/__pv_it/common/7101522f5ec444406c864c64c7848ef7ed7131f10/expr.ipynb\"><img src=\"../../../../../../numbers/summation/__pv_it/common/7101522f5ec444406c864c64c7848ef7ed7131f10/expr.png\" style=\"display:inline;vertical-align:middle;\" /></a></td></tr>\n",
       "<tr><td>5</td><td>ExprTuple</td><td>7</td><td><a class=\"ProveItLink\" href=\"../d3d9d16a339385783808de8535fc46f043c96f950/expr.ipynb\"><img src=\"../d3d9d16a339385783808de8535fc46f043c96f950/expr.png\" style=\"display:inline;vertical-align:middle;\" /></a></td></tr>\n",
       "<tr><td>6</td><td>Lambda</td><td>parameter:&nbsp;35<br>body:&nbsp;8<br></td><td><a class=\"ProveItLink\" href=\"../57373c1158e7cb7e5936d98f4bfce3d9f0b230400/expr.ipynb\"><img src=\"../57373c1158e7cb7e5936d98f4bfce3d9f0b230400/expr.png\" style=\"display:inline;vertical-align:middle;\" /></a></td></tr>\n",
       "<tr><td>7</td><td>Lambda</td><td>parameter:&nbsp;35<br>body:&nbsp;9<br></td><td><a class=\"ProveItLink\" href=\"../7158a9dce356a5bb0ad7f551edfe3a18176e81f80/expr.ipynb\"><img src=\"../7158a9dce356a5bb0ad7f551edfe3a18176e81f80/expr.png\" style=\"display:inline;vertical-align:middle;\" /></a></td></tr>\n",
       "<tr><td>8</td><td>Conditional</td><td>value:&nbsp;11<br>condition:&nbsp;10<br></td><td><a class=\"ProveItLink\" href=\"../4fbc2ce14e8c958ee263b90beb0a7ae2612d9dd60/expr.ipynb\"><img src=\"../4fbc2ce14e8c958ee263b90beb0a7ae2612d9dd60/expr.png\" style=\"display:inline;vertical-align:middle;\" /></a></td></tr>\n",
       "<tr><td>9</td><td>Conditional</td><td>value:&nbsp;11<br>condition:&nbsp;12<br></td><td><a class=\"ProveItLink\" href=\"../3dcc390f8d11af7b7e2e4f875d171ba0d3c6dda10/expr.ipynb\"><img src=\"../3dcc390f8d11af7b7e2e4f875d171ba0d3c6dda10/expr.png\" style=\"display:inline;vertical-align:middle;\" /></a></td></tr>\n",
       "<tr><td>10</td><td>Operation</td><td>operator:&nbsp;15<br>operands:&nbsp;13<br></td><td><a class=\"ProveItLink\" href=\"../43d1b921afe0a4ffd2799b97124b1c908922a0040/expr.ipynb\"><img src=\"../43d1b921afe0a4ffd2799b97124b1c908922a0040/expr.png\" style=\"display:inline;vertical-align:middle;\" /></a></td></tr>\n",
       "<tr><td>11</td><td>Operation</td><td>operator:&nbsp;40<br>operands:&nbsp;14<br></td><td><a class=\"ProveItLink\" href=\"../../common/5bd448a11909ad59da0b9be207fcde8c4ebfaf2c0/expr.ipynb\"><img src=\"../../common/5bd448a11909ad59da0b9be207fcde8c4ebfaf2c0/expr.png\" style=\"display:inline;vertical-align:middle;\" /></a></td></tr>\n",
       "<tr><td>12</td><td>Operation</td><td>operator:&nbsp;15<br>operands:&nbsp;16<br></td><td><a class=\"ProveItLink\" href=\"../7480b0adad06eda713b39ab86880141a306152840/expr.ipynb\"><img src=\"../7480b0adad06eda713b39ab86880141a306152840/expr.png\" style=\"display:inline;vertical-align:middle;\" /></a></td></tr>\n",
       "<tr><td>13</td><td>ExprTuple</td><td>35, 17</td><td><a class=\"ProveItLink\" href=\"../493458871319f9997dc02b0cd834e7711799f1f20/expr.ipynb\"><img src=\"../493458871319f9997dc02b0cd834e7711799f1f20/expr.png\" style=\"display:inline;vertical-align:middle;\" /></a></td></tr>\n",
       "<tr><td>14</td><td>ExprTuple</td><td>18, 42</td><td><a class=\"ProveItLink\" href=\"../../common/c5966987279cc51483c7bc3e8995e392228db7510/expr.ipynb\"><img src=\"../../common/c5966987279cc51483c7bc3e8995e392228db7510/expr.png\" style=\"display:inline;vertical-align:middle;\" /></a></td></tr>\n",
       "<tr><td>15</td><td>Literal</td><td></td><td><a class=\"ProveItLink\" href=\"../../../../../../logic/sets/membership/__pv_it/common/7171deca84f71f47a6ec7696972d1632274a12880/expr.ipynb\"><img src=\"../../../../../../logic/sets/membership/__pv_it/common/7171deca84f71f47a6ec7696972d1632274a12880/expr.png\" style=\"display:inline;vertical-align:middle;\" /></a></td></tr>\n",
       "<tr><td>16</td><td>ExprTuple</td><td>35, 19</td><td><a class=\"ProveItLink\" href=\"../166eea9734f6353f664ed34cedfb108562b222940/expr.ipynb\"><img src=\"../166eea9734f6353f664ed34cedfb108562b222940/expr.png\" style=\"display:inline;vertical-align:middle;\" /></a></td></tr>\n",
       "<tr><td>17</td><td>Operation</td><td>operator:&nbsp;23<br>operands:&nbsp;20<br></td><td><a class=\"ProveItLink\" href=\"../../common/ed11d4e511a617cc6aa5107abd185735c5ad306d0/expr.ipynb\"><img src=\"../../common/ed11d4e511a617cc6aa5107abd185735c5ad306d0/expr.png\" style=\"display:inline;vertical-align:middle;\" /></a></td></tr>\n",
       "<tr><td>18</td><td>Operation</td><td>operator:&nbsp;21<br>operand:&nbsp;27<br></td><td><a class=\"ProveItLink\" href=\"../../common/e076726c4694107586863837dea7ffa3c5c671440/expr.ipynb\"><img src=\"../../common/e076726c4694107586863837dea7ffa3c5c671440/expr.png\" style=\"display:inline;vertical-align:middle;\" /></a></td></tr>\n",
       "<tr><td>19</td><td>Operation</td><td>operator:&nbsp;23<br>operands:&nbsp;24<br></td><td><a class=\"ProveItLink\" href=\"../../common/e03ed56555b1a3a38c157310f9668aeba82693910/expr.ipynb\"><img src=\"../../common/e03ed56555b1a3a38c157310f9668aeba82693910/expr.png\" style=\"display:inline;vertical-align:middle;\" /></a></td></tr>\n",
       "<tr><td>20</td><td>ExprTuple</td><td>25, 26</td><td><a class=\"ProveItLink\" href=\"../../common/8010fa7d78c1dcbc9a5687727dc21588af6016dd0/expr.ipynb\"><img src=\"../../common/8010fa7d78c1dcbc9a5687727dc21588af6016dd0/expr.png\" style=\"display:inline;vertical-align:middle;\" /></a></td></tr>\n",
       "<tr><td>21</td><td>Literal</td><td></td><td><a class=\"ProveItLink\" href=\"../../../../../../numbers/absolute_value/__pv_it/common/6430f141f5f0b9665d136ab5dd21c24f48b3a19c0/expr.ipynb\"><img src=\"../../../../../../numbers/absolute_value/__pv_it/common/6430f141f5f0b9665d136ab5dd21c24f48b3a19c0/expr.png\" style=\"display:inline;vertical-align:middle;\" /></a></td></tr>\n",
       "<tr><td>22</td><td>ExprTuple</td><td>27</td><td><a class=\"ProveItLink\" href=\"../../common/6cdd4b022c583118eb1bae82ab918d0c32c4ea470/expr.ipynb\"><img src=\"../../common/6cdd4b022c583118eb1bae82ab918d0c32c4ea470/expr.png\" style=\"display:inline;vertical-align:middle;\" /></a></td></tr>\n",
       "<tr><td>23</td><td>Literal</td><td></td><td><a class=\"ProveItLink\" href=\"../../../../../../numbers/number_sets/integers/__pv_it/common/fcf0def17f5c3c84b64c959b39aed0e5dad7f3340/expr.ipynb\"><img src=\"../../../../../../numbers/number_sets/integers/__pv_it/common/fcf0def17f5c3c84b64c959b39aed0e5dad7f3340/expr.png\" style=\"display:inline;vertical-align:middle;\" /></a></td></tr>\n",
       "<tr><td>24</td><td>ExprTuple</td><td>33, 38</td><td><a class=\"ProveItLink\" href=\"../../common/a96539741093877ddd56debce8fb07198a57128b0/expr.ipynb\"><img src=\"../../common/a96539741093877ddd56debce8fb07198a57128b0/expr.png\" style=\"display:inline;vertical-align:middle;\" /></a></td></tr>\n",
       "<tr><td>25</td><td>Operation</td><td>operator:&nbsp;44<br>operands:&nbsp;28<br></td><td><a class=\"ProveItLink\" href=\"../../common/23454c9d18a86cc328c1e64d5450b9b741ba17e20/expr.ipynb\"><img src=\"../../common/23454c9d18a86cc328c1e64d5450b9b741ba17e20/expr.png\" style=\"display:inline;vertical-align:middle;\" /></a></td></tr>\n",
       "<tr><td>26</td><td>Operation</td><td>operator:&nbsp;48<br>operand:&nbsp;33<br></td><td><a class=\"ProveItLink\" href=\"../../common/c9e7b204821b586f2bb88a11a7795117bce664260/expr.ipynb\"><img src=\"../../common/c9e7b204821b586f2bb88a11a7795117bce664260/expr.png\" style=\"display:inline;vertical-align:middle;\" /></a></td></tr>\n",
       "<tr><td>27</td><td>Operation</td><td>operator:&nbsp;30<br>operands:&nbsp;31<br></td><td><a class=\"ProveItLink\" href=\"../../common/6b6693d7e7da3a9b576b0b96afc4cef1f41a7eaa0/expr.ipynb\"><img src=\"../../common/6b6693d7e7da3a9b576b0b96afc4cef1f41a7eaa0/expr.png\" style=\"display:inline;vertical-align:middle;\" /></a></td></tr>\n",
       "<tr><td>28</td><td>ExprTuple</td><td>32, 50</td><td><a class=\"ProveItLink\" href=\"../../common/d473ebf4b0efe9db202f06279632c83cd6a4ed090/expr.ipynb\"><img src=\"../../common/d473ebf4b0efe9db202f06279632c83cd6a4ed090/expr.png\" style=\"display:inline;vertical-align:middle;\" /></a></td></tr>\n",
       "<tr><td>29</td><td>ExprTuple</td><td>33</td><td><a class=\"ProveItLink\" href=\"../../common/de580d927663dc854c2d99970c1ff16521fb64900/expr.ipynb\"><img src=\"../../common/de580d927663dc854c2d99970c1ff16521fb64900/expr.png\" style=\"display:inline;vertical-align:middle;\" /></a></td></tr>\n",
       "<tr><td>30</td><td>Literal</td><td></td><td><a class=\"ProveItLink\" href=\"../../common/fa834395d810710d865bb8379bdb0806d419db9b0/expr.ipynb\"><img src=\"../../common/fa834395d810710d865bb8379bdb0806d419db9b0/expr.png\" style=\"display:inline;vertical-align:middle;\" /></a></td></tr>\n",
       "<tr><td>31</td><td>ExprTuple</td><td>34, 35</td><td><a class=\"ProveItLink\" href=\"../../common/5f9bd56a9598af524f3e0df967b7d94242573db80/expr.ipynb\"><img src=\"../../common/5f9bd56a9598af524f3e0df967b7d94242573db80/expr.png\" style=\"display:inline;vertical-align:middle;\" /></a></td></tr>\n",
       "<tr><td>32</td><td>Operation</td><td>operator:&nbsp;48<br>operand:&nbsp;38<br></td><td><a class=\"ProveItLink\" href=\"../../common/97f4bed0136aaed595b0c2707f8b733a3e18c7b10/expr.ipynb\"><img src=\"../../common/97f4bed0136aaed595b0c2707f8b733a3e18c7b10/expr.png\" style=\"display:inline;vertical-align:middle;\" /></a></td></tr>\n",
       "<tr><td>33</td><td>Operation</td><td>operator:&nbsp;44<br>operands:&nbsp;37<br></td><td><a class=\"ProveItLink\" href=\"../../common/ee4a676a4be42364242a9905ef40ee55a69e2c2f0/expr.ipynb\"><img src=\"../../common/ee4a676a4be42364242a9905ef40ee55a69e2c2f0/expr.png\" style=\"display:inline;vertical-align:middle;\" /></a></td></tr>\n",
       "<tr><td>34</td><td>Literal</td><td></td><td><a class=\"ProveItLink\" href=\"../../common/7e436a3cff4097047049586cee08457d5f001a270/expr.ipynb\"><img src=\"../../common/7e436a3cff4097047049586cee08457d5f001a270/expr.png\" style=\"display:inline;vertical-align:middle;\" /></a></td></tr>\n",
       "<tr><td>35</td><td>Variable</td><td></td><td><a class=\"ProveItLink\" href=\"../../../../../../__pv_it/common/5f60d32873626c7ce57e35d1d9e427fb112cfe7a0/expr.ipynb\"><img src=\"../../../../../../__pv_it/common/5f60d32873626c7ce57e35d1d9e427fb112cfe7a0/expr.png\" style=\"display:inline;vertical-align:middle;\" /></a></td></tr>\n",
       "<tr><td>36</td><td>ExprTuple</td><td>38</td><td><a class=\"ProveItLink\" href=\"../../common/b0ba8ab219ddbdc9f910b2a6d05b9f4036a8538e0/expr.ipynb\"><img src=\"../../common/b0ba8ab219ddbdc9f910b2a6d05b9f4036a8538e0/expr.png\" style=\"display:inline;vertical-align:middle;\" /></a></td></tr>\n",
       "<tr><td>37</td><td>ExprTuple</td><td>39, 50</td><td><a class=\"ProveItLink\" href=\"../../common/94bbb187e0fef07aa0a5eee9dbcfd444be86b2f80/expr.ipynb\"><img src=\"../../common/94bbb187e0fef07aa0a5eee9dbcfd444be86b2f80/expr.png\" style=\"display:inline;vertical-align:middle;\" /></a></td></tr>\n",
       "<tr><td>38</td><td>Operation</td><td>operator:&nbsp;40<br>operands:&nbsp;41<br></td><td><a class=\"ProveItLink\" href=\"../../common/0792a1d5c4681297bfa0e77c90b2569914aae74f0/expr.ipynb\"><img src=\"../../common/0792a1d5c4681297bfa0e77c90b2569914aae74f0/expr.png\" style=\"display:inline;vertical-align:middle;\" /></a></td></tr>\n",
       "<tr><td>39</td><td>Variable</td><td></td><td><a class=\"ProveItLink\" href=\"../../../../../../__pv_it/common/6ccbd8f7424e34c92aa1208d7ccef106f5849c250/expr.ipynb\"><img src=\"../../../../../../__pv_it/common/6ccbd8f7424e34c92aa1208d7ccef106f5849c250/expr.png\" style=\"display:inline;vertical-align:middle;\" /></a></td></tr>\n",
       "<tr><td>40</td><td>Literal</td><td></td><td><a class=\"ProveItLink\" href=\"../../../../../../numbers/exponentiation/__pv_it/common/31d1b89e3c2fad7d997556c69b6be6425b6f59a40/expr.ipynb\"><img src=\"../../../../../../numbers/exponentiation/__pv_it/common/31d1b89e3c2fad7d997556c69b6be6425b6f59a40/expr.png\" style=\"display:inline;vertical-align:middle;\" /></a></td></tr>\n",
       "<tr><td>41</td><td>ExprTuple</td><td>42, 43</td><td><a class=\"ProveItLink\" href=\"../../common/4f96f4a928cdb57c599341d749f9e84260c40fdd0/expr.ipynb\"><img src=\"../../common/4f96f4a928cdb57c599341d749f9e84260c40fdd0/expr.png\" style=\"display:inline;vertical-align:middle;\" /></a></td></tr>\n",
       "<tr><td>42</td><td>Literal</td><td></td><td><a class=\"ProveItLink\" href=\"../../../../../../numbers/numerals/__pv_it/common/3829356ce3fdf8f35810c63c00bc1a19e838663e0/expr.ipynb\"><img src=\"../../../../../../numbers/numerals/__pv_it/common/3829356ce3fdf8f35810c63c00bc1a19e838663e0/expr.png\" style=\"display:inline;vertical-align:middle;\" /></a></td></tr>\n",
       "<tr><td>43</td><td>Operation</td><td>operator:&nbsp;44<br>operands:&nbsp;45<br></td><td><a class=\"ProveItLink\" href=\"../../common/2bd9790a8ceb0cbaa297908b29d1d26135fb49df0/expr.ipynb\"><img src=\"../../common/2bd9790a8ceb0cbaa297908b29d1d26135fb49df0/expr.png\" style=\"display:inline;vertical-align:middle;\" /></a></td></tr>\n",
       "<tr><td>44</td><td>Literal</td><td></td><td><a class=\"ProveItLink\" href=\"../../../../../../numbers/addition/__pv_it/common/1f38fe5cce441387feef296e2c0a2eac260bb4f30/expr.ipynb\"><img src=\"../../../../../../numbers/addition/__pv_it/common/1f38fe5cce441387feef296e2c0a2eac260bb4f30/expr.png\" style=\"display:inline;vertical-align:middle;\" /></a></td></tr>\n",
       "<tr><td>45</td><td>ExprTuple</td><td>46, 47</td><td><a class=\"ProveItLink\" href=\"../../common/228a84a9850aca6e9a3f2ee00bbfb728e8599f670/expr.ipynb\"><img src=\"../../common/228a84a9850aca6e9a3f2ee00bbfb728e8599f670/expr.png\" style=\"display:inline;vertical-align:middle;\" /></a></td></tr>\n",
       "<tr><td>46</td><td>Literal</td><td></td><td><a class=\"ProveItLink\" href=\"../../common/39c1d684e38b5dd4cd200cf6f134282993af2c0b0/expr.ipynb\"><img src=\"../../common/39c1d684e38b5dd4cd200cf6f134282993af2c0b0/expr.png\" style=\"display:inline;vertical-align:middle;\" /></a></td></tr>\n",
       "<tr><td>47</td><td>Operation</td><td>operator:&nbsp;48<br>operand:&nbsp;50<br></td><td><a class=\"ProveItLink\" href=\"../../common/194689aa2092eb5e83b339e69e1c112868251dd50/expr.ipynb\"><img src=\"../../common/194689aa2092eb5e83b339e69e1c112868251dd50/expr.png\" style=\"display:inline;vertical-align:middle;\" /></a></td></tr>\n",
       "<tr><td>48</td><td>Literal</td><td></td><td><a class=\"ProveItLink\" href=\"../../../../../../numbers/negation/__pv_it/common/31a69a5c76809537045e3884859f178d8d9c845c0/expr.ipynb\"><img src=\"../../../../../../numbers/negation/__pv_it/common/31a69a5c76809537045e3884859f178d8d9c845c0/expr.png\" style=\"display:inline;vertical-align:middle;\" /></a></td></tr>\n",
       "<tr><td>49</td><td>ExprTuple</td><td>50</td><td><a class=\"ProveItLink\" href=\"../../common/983fb1abdb7789966ec8b7afe0d4f7ca8578c9e50/expr.ipynb\"><img src=\"../../common/983fb1abdb7789966ec8b7afe0d4f7ca8578c9e50/expr.png\" style=\"display:inline;vertical-align:middle;\" /></a></td></tr>\n",
       "<tr><td>50</td><td>Literal</td><td></td><td><a class=\"ProveItLink\" href=\"../../../../../../numbers/numerals/__pv_it/common/d278e359da0695d9652dd541d45264f93703e2e40/expr.ipynb\"><img src=\"../../../../../../numbers/numerals/__pv_it/common/d278e359da0695d9652dd541d45264f93703e2e40/expr.png\" style=\"display:inline;vertical-align:middle;\" /></a></td></tr>\n",
       "</table>\n"
      ],
      "text/plain": [
       "0. (Sum_{l=-2^{t - 1} + 1}^{-(eps + 1)} |alpha_{l}|^{2}, Sum_{l=eps + 1}^{2^{t - 1}} |alpha_{l}|^{2})\n",
       "   core type: ExprTuple\n",
       "   sub-expressions: 1, 2\n",
       "1. Sum_{l=-2^{t - 1} + 1}^{-(eps + 1)} |alpha_{l}|^{2}\n",
       "   core type: Operation\n",
       "   operator: 4\n",
       "   operand: 6\n",
       "2. Sum_{l=eps + 1}^{2^{t - 1}} |alpha_{l}|^{2}\n",
       "   core type: Operation\n",
       "   operator: 4\n",
       "   operand: 7\n",
       "3. (l -> {|alpha_{l}|^{2} if l in {-2^{t - 1} + 1...-(eps + 1)}.)\n",
       "   core type: ExprTuple\n",
       "   sub-expressions: 6\n",
       "4. Sum\n",
       "   core type: Literal\n",
       "   sub-expressions: \n",
       "5. (l -> {|alpha_{l}|^{2} if l in {eps + 1...2^{t - 1}}.)\n",
       "   core type: ExprTuple\n",
       "   sub-expressions: 7\n",
       "6. l -> {|alpha_{l}|^{2} if l in {-2^{t - 1} + 1...-(eps + 1)}.\n",
       "   core type: Lambda\n",
       "   parameter: 35\n",
       "   body: 8\n",
       "7. l -> {|alpha_{l}|^{2} if l in {eps + 1...2^{t - 1}}.\n",
       "   core type: Lambda\n",
       "   parameter: 35\n",
       "   body: 9\n",
       "8. {|alpha_{l}|^{2} if l in {-2^{t - 1} + 1...-(eps + 1)}.\n",
       "   core type: Conditional\n",
       "   value: 11\n",
       "   condition: 10\n",
       "9. {|alpha_{l}|^{2} if l in {eps + 1...2^{t - 1}}.\n",
       "   core type: Conditional\n",
       "   value: 11\n",
       "   condition: 12\n",
       "10. l in {-2^{t - 1} + 1...-(eps + 1)}\n",
       "    core type: Operation\n",
       "    operator: 15\n",
       "    operands: 13\n",
       "11. |alpha_{l}|^{2}\n",
       "    core type: Operation\n",
       "    operator: 40\n",
       "    operands: 14\n",
       "12. l in {eps + 1...2^{t - 1}}\n",
       "    core type: Operation\n",
       "    operator: 15\n",
       "    operands: 16\n",
       "13. (l, {-2^{t - 1} + 1...-(eps + 1)})\n",
       "    core type: ExprTuple\n",
       "    sub-expressions: 35, 17\n",
       "14. (|alpha_{l}|, 2)\n",
       "    core type: ExprTuple\n",
       "    sub-expressions: 18, 42\n",
       "15. in\n",
       "    core type: Literal\n",
       "    sub-expressions: \n",
       "16. (l, {eps + 1...2^{t - 1}})\n",
       "    core type: ExprTuple\n",
       "    sub-expressions: 35, 19\n",
       "17. {-2^{t - 1} + 1...-(eps + 1)}\n",
       "    core type: Operation\n",
       "    operator: 23\n",
       "    operands: 20\n",
       "18. |alpha_{l}|\n",
       "    core type: Operation\n",
       "    operator: 21\n",
       "    operand: 27\n",
       "19. {eps + 1...2^{t - 1}}\n",
       "    core type: Operation\n",
       "    operator: 23\n",
       "    operands: 24\n",
       "20. (-2^{t - 1} + 1, -(eps + 1))\n",
       "    core type: ExprTuple\n",
       "    sub-expressions: 25, 26\n",
       "21. Abs\n",
       "    core type: Literal\n",
       "    sub-expressions: \n",
       "22. (alpha_{l})\n",
       "    core type: ExprTuple\n",
       "    sub-expressions: 27\n",
       "23. Interval\n",
       "    core type: Literal\n",
       "    sub-expressions: \n",
       "24. (eps + 1, 2^{t - 1})\n",
       "    core type: ExprTuple\n",
       "    sub-expressions: 33, 38\n",
       "25. -2^{t - 1} + 1\n",
       "    core type: Operation\n",
       "    operator: 44\n",
       "    operands: 28\n",
       "26. -(eps + 1)\n",
       "    core type: Operation\n",
       "    operator: 48\n",
       "    operand: 33\n",
       "27. alpha_{l}\n",
       "    core type: Operation\n",
       "    operator: 30\n",
       "    operands: 31\n",
       "28. (-2^{t - 1}, 1)\n",
       "    core type: ExprTuple\n",
       "    sub-expressions: 32, 50\n",
       "29. (eps + 1)\n",
       "    core type: ExprTuple\n",
       "    sub-expressions: 33\n",
       "30. SUB_INDEXED\n",
       "    core type: Literal\n",
       "    sub-expressions: \n",
       "31. (alpha, l)\n",
       "    core type: ExprTuple\n",
       "    sub-expressions: 34, 35\n",
       "32. -2^{t - 1}\n",
       "    core type: Operation\n",
       "    operator: 48\n",
       "    operand: 38\n",
       "33. eps + 1\n",
       "    core type: Operation\n",
       "    operator: 44\n",
       "    operands: 37\n",
       "34. alpha\n",
       "    core type: Literal\n",
       "    sub-expressions: \n",
       "35. l\n",
       "    core type: Variable\n",
       "    sub-expressions: \n",
       "36. (2^{t - 1})\n",
       "    core type: ExprTuple\n",
       "    sub-expressions: 38\n",
       "37. (eps, 1)\n",
       "    core type: ExprTuple\n",
       "    sub-expressions: 39, 50\n",
       "38. 2^{t - 1}\n",
       "    core type: Operation\n",
       "    operator: 40\n",
       "    operands: 41\n",
       "39. eps\n",
       "    core type: Variable\n",
       "    sub-expressions: \n",
       "40. Exp\n",
       "    core type: Literal\n",
       "    sub-expressions: \n",
       "41. (2, t - 1)\n",
       "    core type: ExprTuple\n",
       "    sub-expressions: 42, 43\n",
       "42. 2\n",
       "    core type: Literal\n",
       "    sub-expressions: \n",
       "43. t - 1\n",
       "    core type: Operation\n",
       "    operator: 44\n",
       "    operands: 45\n",
       "44. +\n",
       "    core type: Literal\n",
       "    sub-expressions: \n",
       "45. (t, -1)\n",
       "    core type: ExprTuple\n",
       "    sub-expressions: 46, 47\n",
       "46. t\n",
       "    core type: Literal\n",
       "    sub-expressions: \n",
       "47. -1\n",
       "    core type: Operation\n",
       "    operator: 48\n",
       "    operand: 50\n",
       "48. -\n",
       "    core type: Literal\n",
       "    sub-expressions: \n",
       "49. (1)\n",
       "    core type: ExprTuple\n",
       "    sub-expressions: 50\n",
       "50. 1\n",
       "    core type: Literal\n",
       "    sub-expressions: "
      ]
     },
     "execution_count": 6,
     "metadata": {},
     "output_type": "execute_result"
    }
   ],
   "source": [
    "# display the expression information\n",
    "expr.expr_info()"
   ]
  },
  {
   "cell_type": "code",
   "execution_count": null,
   "metadata": {},
   "outputs": [],
   "source": []
  }
 ],
 "metadata": {
  "kernelspec": {
   "display_name": "Python 3",
   "language": "python",
   "name": "python3"
  }
 },
 "nbformat": 4,
 "nbformat_minor": 0
}