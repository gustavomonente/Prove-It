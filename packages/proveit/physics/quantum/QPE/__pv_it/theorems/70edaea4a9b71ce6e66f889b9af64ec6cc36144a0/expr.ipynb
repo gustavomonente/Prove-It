{
 "cells": [
  {
   "cell_type": "markdown",
   "metadata": {},
   "source": [
    "Expression of type <a class=\"ProveItLink\" href=\"../../../../../../../../doc/html/api/proveit.Lambda.html\">Lambda</a>\n",
    "=======================\n",
    "# from the theory of <a class=\"ProveItLink\" href=\"../../../_theory_nbs_/theory.ipynb\">proveit.physics.quantum.QPE</a>"
   ]
  },
  {
   "cell_type": "code",
   "execution_count": 1,
   "metadata": {},
   "outputs": [],
   "source": [
    "import proveit\n",
    "# Automation is not needed when building an expression:\n",
    "proveit.defaults.automation = False # This will speed things up.\n",
    "proveit.defaults.inline_pngs = False # Makes files smaller.\n",
    "%load_expr # Load the stored expression as 'stored_expr'\n",
    "# import Expression classes needed to build the expression\n",
    "from proveit import Conditional, Lambda, l\n",
    "from proveit.logic import InSet\n",
    "from proveit.numbers import frac, one\n",
    "from proveit.physics.quantum.QPE import diff_l_scaled_delta, pos_domain"
   ]
  },
  {
   "cell_type": "code",
   "execution_count": 2,
   "metadata": {},
   "outputs": [
    {
     "data": {
      "text/html": [
       "<strong id=\"expr\">expr:</strong> <a class=\"ProveItLink\" href=\"expr.ipynb\"><img src=\"expr.png\" style=\"display:inline;vertical-align:middle;\" /></a><br>"
      ],
      "text/plain": [
       "expr: l -> {1 / (l - (2^{t} * delta)) if l in {eps + 1...2^{t - 1}}."
      ]
     },
     "execution_count": 2,
     "metadata": {},
     "output_type": "execute_result"
    }
   ],
   "source": [
    "# build up the expression from sub-expressions\n",
    "expr = Lambda(l, Conditional(frac(one, diff_l_scaled_delta), InSet(l, pos_domain)))"
   ]
  },
  {
   "cell_type": "code",
   "execution_count": 3,
   "metadata": {},
   "outputs": [
    {
     "name": "stdout",
     "output_type": "stream",
     "text": [
      "Passed sanity check: expr matches stored_expr\n"
     ]
    }
   ],
   "source": [
    "# check that the built expression is the same as the stored expression\n",
    "assert expr == stored_expr\n",
    "assert expr._style_id == stored_expr._style_id\n",
    "print(\"Passed sanity check: expr matches stored_expr\")"
   ]
  },
  {
   "cell_type": "code",
   "execution_count": 4,
   "metadata": {},
   "outputs": [
    {
     "name": "stdout",
     "output_type": "stream",
     "text": [
      "l \\mapsto \\left\\{\\frac{1}{l - \\left(2^{t} \\cdot \\delta\\right)} \\textrm{ if } l \\in \\{\\varepsilon + 1 \\ldots 2^{t - 1}\\}\\right..\n"
     ]
    }
   ],
   "source": [
    "# Show the LaTeX representation of the expression for convenience if you need it.\n",
    "print(expr.latex())"
   ]
  },
  {
   "cell_type": "code",
   "execution_count": 5,
   "metadata": {},
   "outputs": [
    {
     "data": {
      "text/html": [
       "no style options"
      ],
      "text/plain": [
       "no style options"
      ]
     },
     "execution_count": 5,
     "metadata": {},
     "output_type": "execute_result"
    }
   ],
   "source": [
    "expr.style_options()"
   ]
  },
  {
   "cell_type": "code",
   "execution_count": 6,
   "metadata": {},
   "outputs": [
    {
     "data": {
      "text/html": [
       "<table><tr><th>&nbsp;</th><th>core type</th><th>sub-expressions</th><th>expression</th></tr>\n",
       "<tr><td>0</td><td>Lambda</td><td>parameter:&nbsp;13<br>body:&nbsp;1<br></td><td><a class=\"ProveItLink\" href=\"expr.ipynb\"><img src=\"expr.png\" style=\"display:inline;vertical-align:middle;\" /></a></td></tr>\n",
       "<tr><td>1</td><td>Conditional</td><td>value:&nbsp;2<br>condition:&nbsp;3<br></td><td><a class=\"ProveItLink\" href=\"../eb7402ee6dc1b526af3717e45d04e3c5d08e9f6f0/expr.ipynb\"><img src=\"../eb7402ee6dc1b526af3717e45d04e3c5d08e9f6f0/expr.png\" style=\"display:inline;vertical-align:middle;\" /></a></td></tr>\n",
       "<tr><td>2</td><td>Operation</td><td>operator:&nbsp;4<br>operands:&nbsp;5<br></td><td><a class=\"ProveItLink\" href=\"../bdf7bf46621c1ae769789f9fa8f2b7a5afead70b0/expr.ipynb\"><img src=\"../bdf7bf46621c1ae769789f9fa8f2b7a5afead70b0/expr.png\" style=\"display:inline;vertical-align:middle;\" /></a></td></tr>\n",
       "<tr><td>3</td><td>Operation</td><td>operator:&nbsp;6<br>operands:&nbsp;7<br></td><td><a class=\"ProveItLink\" href=\"../7480b0adad06eda713b39ab86880141a306152840/expr.ipynb\"><img src=\"../7480b0adad06eda713b39ab86880141a306152840/expr.png\" style=\"display:inline;vertical-align:middle;\" /></a></td></tr>\n",
       "<tr><td>4</td><td>Literal</td><td></td><td><a class=\"ProveItLink\" href=\"../../../../../../numbers/division/__pv_it/common/9ecc1ae47b83f7ed759e5ea63a2023a8f2ab04800/expr.ipynb\"><img src=\"../../../../../../numbers/division/__pv_it/common/9ecc1ae47b83f7ed759e5ea63a2023a8f2ab04800/expr.png\" style=\"display:inline;vertical-align:middle;\" /></a></td></tr>\n",
       "<tr><td>5</td><td>ExprTuple</td><td>36, 8</td><td><a class=\"ProveItLink\" href=\"../26e0a44b98e6af5b8af687f9b6bee933f0b7d5360/expr.ipynb\"><img src=\"../26e0a44b98e6af5b8af687f9b6bee933f0b7d5360/expr.png\" style=\"display:inline;vertical-align:middle;\" /></a></td></tr>\n",
       "<tr><td>6</td><td>Literal</td><td></td><td><a class=\"ProveItLink\" href=\"../../../../../../logic/sets/membership/__pv_it/common/7171deca84f71f47a6ec7696972d1632274a12880/expr.ipynb\"><img src=\"../../../../../../logic/sets/membership/__pv_it/common/7171deca84f71f47a6ec7696972d1632274a12880/expr.png\" style=\"display:inline;vertical-align:middle;\" /></a></td></tr>\n",
       "<tr><td>7</td><td>ExprTuple</td><td>13, 9</td><td><a class=\"ProveItLink\" href=\"../166eea9734f6353f664ed34cedfb108562b222940/expr.ipynb\"><img src=\"../166eea9734f6353f664ed34cedfb108562b222940/expr.png\" style=\"display:inline;vertical-align:middle;\" /></a></td></tr>\n",
       "<tr><td>8</td><td>Operation</td><td>operator:&nbsp;25<br>operands:&nbsp;10<br></td><td><a class=\"ProveItLink\" href=\"../../common/661f28f85b0635e7e7acaccaa1d5deeda1b8e4e10/expr.ipynb\"><img src=\"../../common/661f28f85b0635e7e7acaccaa1d5deeda1b8e4e10/expr.png\" style=\"display:inline;vertical-align:middle;\" /></a></td></tr>\n",
       "<tr><td>9</td><td>Operation</td><td>operator:&nbsp;11<br>operands:&nbsp;12<br></td><td><a class=\"ProveItLink\" href=\"../../common/e03ed56555b1a3a38c157310f9668aeba82693910/expr.ipynb\"><img src=\"../../common/e03ed56555b1a3a38c157310f9668aeba82693910/expr.png\" style=\"display:inline;vertical-align:middle;\" /></a></td></tr>\n",
       "<tr><td>10</td><td>ExprTuple</td><td>13, 14</td><td><a class=\"ProveItLink\" href=\"../../common/b20258319b01aadb5c36c4970bb9e60a55026acc0/expr.ipynb\"><img src=\"../../common/b20258319b01aadb5c36c4970bb9e60a55026acc0/expr.png\" style=\"display:inline;vertical-align:middle;\" /></a></td></tr>\n",
       "<tr><td>11</td><td>Literal</td><td></td><td><a class=\"ProveItLink\" href=\"../../../../../../numbers/number_sets/integers/__pv_it/common/fcf0def17f5c3c84b64c959b39aed0e5dad7f3340/expr.ipynb\"><img src=\"../../../../../../numbers/number_sets/integers/__pv_it/common/fcf0def17f5c3c84b64c959b39aed0e5dad7f3340/expr.png\" style=\"display:inline;vertical-align:middle;\" /></a></td></tr>\n",
       "<tr><td>12</td><td>ExprTuple</td><td>15, 16</td><td><a class=\"ProveItLink\" href=\"../../common/a96539741093877ddd56debce8fb07198a57128b0/expr.ipynb\"><img src=\"../../common/a96539741093877ddd56debce8fb07198a57128b0/expr.png\" style=\"display:inline;vertical-align:middle;\" /></a></td></tr>\n",
       "<tr><td>13</td><td>Variable</td><td></td><td><a class=\"ProveItLink\" href=\"../../../../../../__pv_it/common/5f60d32873626c7ce57e35d1d9e427fb112cfe7a0/expr.ipynb\"><img src=\"../../../../../../__pv_it/common/5f60d32873626c7ce57e35d1d9e427fb112cfe7a0/expr.png\" style=\"display:inline;vertical-align:middle;\" /></a></td></tr>\n",
       "<tr><td>14</td><td>Operation</td><td>operator:&nbsp;32<br>operand:&nbsp;20<br></td><td><a class=\"ProveItLink\" href=\"../../common/e34e0462b50501af8a9a9d4d289c877867141e210/expr.ipynb\"><img src=\"../../common/e34e0462b50501af8a9a9d4d289c877867141e210/expr.png\" style=\"display:inline;vertical-align:middle;\" /></a></td></tr>\n",
       "<tr><td>15</td><td>Operation</td><td>operator:&nbsp;25<br>operands:&nbsp;18<br></td><td><a class=\"ProveItLink\" href=\"../../common/ee4a676a4be42364242a9905ef40ee55a69e2c2f0/expr.ipynb\"><img src=\"../../common/ee4a676a4be42364242a9905ef40ee55a69e2c2f0/expr.png\" style=\"display:inline;vertical-align:middle;\" /></a></td></tr>\n",
       "<tr><td>16</td><td>Operation</td><td>operator:&nbsp;30<br>operands:&nbsp;19<br></td><td><a class=\"ProveItLink\" href=\"../../common/0792a1d5c4681297bfa0e77c90b2569914aae74f0/expr.ipynb\"><img src=\"../../common/0792a1d5c4681297bfa0e77c90b2569914aae74f0/expr.png\" style=\"display:inline;vertical-align:middle;\" /></a></td></tr>\n",
       "<tr><td>17</td><td>ExprTuple</td><td>20</td><td><a class=\"ProveItLink\" href=\"../../common/914a95db840b48d227ee446e19cf9e548078bd900/expr.ipynb\"><img src=\"../../common/914a95db840b48d227ee446e19cf9e548078bd900/expr.png\" style=\"display:inline;vertical-align:middle;\" /></a></td></tr>\n",
       "<tr><td>18</td><td>ExprTuple</td><td>21, 36</td><td><a class=\"ProveItLink\" href=\"../../common/94bbb187e0fef07aa0a5eee9dbcfd444be86b2f80/expr.ipynb\"><img src=\"../../common/94bbb187e0fef07aa0a5eee9dbcfd444be86b2f80/expr.png\" style=\"display:inline;vertical-align:middle;\" /></a></td></tr>\n",
       "<tr><td>19</td><td>ExprTuple</td><td>34, 22</td><td><a class=\"ProveItLink\" href=\"../../common/4f96f4a928cdb57c599341d749f9e84260c40fdd0/expr.ipynb\"><img src=\"../../common/4f96f4a928cdb57c599341d749f9e84260c40fdd0/expr.png\" style=\"display:inline;vertical-align:middle;\" /></a></td></tr>\n",
       "<tr><td>20</td><td>Operation</td><td>operator:&nbsp;23<br>operands:&nbsp;24<br></td><td><a class=\"ProveItLink\" href=\"../../common/43922168e5cf4a7393bb1b1baec670c5676677c80/expr.ipynb\"><img src=\"../../common/43922168e5cf4a7393bb1b1baec670c5676677c80/expr.png\" style=\"display:inline;vertical-align:middle;\" /></a></td></tr>\n",
       "<tr><td>21</td><td>Variable</td><td></td><td><a class=\"ProveItLink\" href=\"../../../../../../__pv_it/common/6ccbd8f7424e34c92aa1208d7ccef106f5849c250/expr.ipynb\"><img src=\"../../../../../../__pv_it/common/6ccbd8f7424e34c92aa1208d7ccef106f5849c250/expr.png\" style=\"display:inline;vertical-align:middle;\" /></a></td></tr>\n",
       "<tr><td>22</td><td>Operation</td><td>operator:&nbsp;25<br>operands:&nbsp;26<br></td><td><a class=\"ProveItLink\" href=\"../../common/2bd9790a8ceb0cbaa297908b29d1d26135fb49df0/expr.ipynb\"><img src=\"../../common/2bd9790a8ceb0cbaa297908b29d1d26135fb49df0/expr.png\" style=\"display:inline;vertical-align:middle;\" /></a></td></tr>\n",
       "<tr><td>23</td><td>Literal</td><td></td><td><a class=\"ProveItLink\" href=\"../../../../../../numbers/multiplication/__pv_it/common/c57d60974865e78d434abd3ff22c405685c80ade0/expr.ipynb\"><img src=\"../../../../../../numbers/multiplication/__pv_it/common/c57d60974865e78d434abd3ff22c405685c80ade0/expr.png\" style=\"display:inline;vertical-align:middle;\" /></a></td></tr>\n",
       "<tr><td>24</td><td>ExprTuple</td><td>27, 28</td><td><a class=\"ProveItLink\" href=\"../../common/9edcdabdc62ca9442a03b509ca93d8cd9f5933610/expr.ipynb\"><img src=\"../../common/9edcdabdc62ca9442a03b509ca93d8cd9f5933610/expr.png\" style=\"display:inline;vertical-align:middle;\" /></a></td></tr>\n",
       "<tr><td>25</td><td>Literal</td><td></td><td><a class=\"ProveItLink\" href=\"../../../../../../numbers/addition/__pv_it/common/1f38fe5cce441387feef296e2c0a2eac260bb4f30/expr.ipynb\"><img src=\"../../../../../../numbers/addition/__pv_it/common/1f38fe5cce441387feef296e2c0a2eac260bb4f30/expr.png\" style=\"display:inline;vertical-align:middle;\" /></a></td></tr>\n",
       "<tr><td>26</td><td>ExprTuple</td><td>35, 29</td><td><a class=\"ProveItLink\" href=\"../../common/228a84a9850aca6e9a3f2ee00bbfb728e8599f670/expr.ipynb\"><img src=\"../../common/228a84a9850aca6e9a3f2ee00bbfb728e8599f670/expr.png\" style=\"display:inline;vertical-align:middle;\" /></a></td></tr>\n",
       "<tr><td>27</td><td>Operation</td><td>operator:&nbsp;30<br>operands:&nbsp;31<br></td><td><a class=\"ProveItLink\" href=\"../../common/457b0dff65b633b4c78260366925739952a96c890/expr.ipynb\"><img src=\"../../common/457b0dff65b633b4c78260366925739952a96c890/expr.png\" style=\"display:inline;vertical-align:middle;\" /></a></td></tr>\n",
       "<tr><td>28</td><td>Literal</td><td></td><td><a class=\"ProveItLink\" href=\"../../common/e91e9cfa9469f3503bad3b38ab53238166f5c5230/expr.ipynb\"><img src=\"../../common/e91e9cfa9469f3503bad3b38ab53238166f5c5230/expr.png\" style=\"display:inline;vertical-align:middle;\" /></a></td></tr>\n",
       "<tr><td>29</td><td>Operation</td><td>operator:&nbsp;32<br>operand:&nbsp;36<br></td><td><a class=\"ProveItLink\" href=\"../../common/194689aa2092eb5e83b339e69e1c112868251dd50/expr.ipynb\"><img src=\"../../common/194689aa2092eb5e83b339e69e1c112868251dd50/expr.png\" style=\"display:inline;vertical-align:middle;\" /></a></td></tr>\n",
       "<tr><td>30</td><td>Literal</td><td></td><td><a class=\"ProveItLink\" href=\"../../../../../../numbers/exponentiation/__pv_it/common/31d1b89e3c2fad7d997556c69b6be6425b6f59a40/expr.ipynb\"><img src=\"../../../../../../numbers/exponentiation/__pv_it/common/31d1b89e3c2fad7d997556c69b6be6425b6f59a40/expr.png\" style=\"display:inline;vertical-align:middle;\" /></a></td></tr>\n",
       "<tr><td>31</td><td>ExprTuple</td><td>34, 35</td><td><a class=\"ProveItLink\" href=\"../../common/dfb548d7806faf732c1098b1ba9dc3cc77d363740/expr.ipynb\"><img src=\"../../common/dfb548d7806faf732c1098b1ba9dc3cc77d363740/expr.png\" style=\"display:inline;vertical-align:middle;\" /></a></td></tr>\n",
       "<tr><td>32</td><td>Literal</td><td></td><td><a class=\"ProveItLink\" href=\"../../../../../../numbers/negation/__pv_it/common/31a69a5c76809537045e3884859f178d8d9c845c0/expr.ipynb\"><img src=\"../../../../../../numbers/negation/__pv_it/common/31a69a5c76809537045e3884859f178d8d9c845c0/expr.png\" style=\"display:inline;vertical-align:middle;\" /></a></td></tr>\n",
       "<tr><td>33</td><td>ExprTuple</td><td>36</td><td><a class=\"ProveItLink\" href=\"../../common/983fb1abdb7789966ec8b7afe0d4f7ca8578c9e50/expr.ipynb\"><img src=\"../../common/983fb1abdb7789966ec8b7afe0d4f7ca8578c9e50/expr.png\" style=\"display:inline;vertical-align:middle;\" /></a></td></tr>\n",
       "<tr><td>34</td><td>Literal</td><td></td><td><a class=\"ProveItLink\" href=\"../../../../../../numbers/numerals/__pv_it/common/3829356ce3fdf8f35810c63c00bc1a19e838663e0/expr.ipynb\"><img src=\"../../../../../../numbers/numerals/__pv_it/common/3829356ce3fdf8f35810c63c00bc1a19e838663e0/expr.png\" style=\"display:inline;vertical-align:middle;\" /></a></td></tr>\n",
       "<tr><td>35</td><td>Literal</td><td></td><td><a class=\"ProveItLink\" href=\"../../common/39c1d684e38b5dd4cd200cf6f134282993af2c0b0/expr.ipynb\"><img src=\"../../common/39c1d684e38b5dd4cd200cf6f134282993af2c0b0/expr.png\" style=\"display:inline;vertical-align:middle;\" /></a></td></tr>\n",
       "<tr><td>36</td><td>Literal</td><td></td><td><a class=\"ProveItLink\" href=\"../../../../../../numbers/numerals/__pv_it/common/d278e359da0695d9652dd541d45264f93703e2e40/expr.ipynb\"><img src=\"../../../../../../numbers/numerals/__pv_it/common/d278e359da0695d9652dd541d45264f93703e2e40/expr.png\" style=\"display:inline;vertical-align:middle;\" /></a></td></tr>\n",
       "</table>\n"
      ],
      "text/plain": [
       "0. l -> {1 / (l - (2^{t} * delta)) if l in {eps + 1...2^{t - 1}}.\n",
       "   core type: Lambda\n",
       "   parameter: 13\n",
       "   body: 1\n",
       "1. {1 / (l - (2^{t} * delta)) if l in {eps + 1...2^{t - 1}}.\n",
       "   core type: Conditional\n",
       "   value: 2\n",
       "   condition: 3\n",
       "2. 1 / (l - (2^{t} * delta))\n",
       "   core type: Operation\n",
       "   operator: 4\n",
       "   operands: 5\n",
       "3. l in {eps + 1...2^{t - 1}}\n",
       "   core type: Operation\n",
       "   operator: 6\n",
       "   operands: 7\n",
       "4. /\n",
       "   core type: Literal\n",
       "   sub-expressions: \n",
       "5. (1, l - (2^{t} * delta))\n",
       "   core type: ExprTuple\n",
       "   sub-expressions: 36, 8\n",
       "6. in\n",
       "   core type: Literal\n",
       "   sub-expressions: \n",
       "7. (l, {eps + 1...2^{t - 1}})\n",
       "   core type: ExprTuple\n",
       "   sub-expressions: 13, 9\n",
       "8. l - (2^{t} * delta)\n",
       "   core type: Operation\n",
       "   operator: 25\n",
       "   operands: 10\n",
       "9. {eps + 1...2^{t - 1}}\n",
       "   core type: Operation\n",
       "   operator: 11\n",
       "   operands: 12\n",
       "10. (l, -(2^{t} * delta))\n",
       "    core type: ExprTuple\n",
       "    sub-expressions: 13, 14\n",
       "11. Interval\n",
       "    core type: Literal\n",
       "    sub-expressions: \n",
       "12. (eps + 1, 2^{t - 1})\n",
       "    core type: ExprTuple\n",
       "    sub-expressions: 15, 16\n",
       "13. l\n",
       "    core type: Variable\n",
       "    sub-expressions: \n",
       "14. -(2^{t} * delta)\n",
       "    core type: Operation\n",
       "    operator: 32\n",
       "    operand: 20\n",
       "15. eps + 1\n",
       "    core type: Operation\n",
       "    operator: 25\n",
       "    operands: 18\n",
       "16. 2^{t - 1}\n",
       "    core type: Operation\n",
       "    operator: 30\n",
       "    operands: 19\n",
       "17. (2^{t} * delta)\n",
       "    core type: ExprTuple\n",
       "    sub-expressions: 20\n",
       "18. (eps, 1)\n",
       "    core type: ExprTuple\n",
       "    sub-expressions: 21, 36\n",
       "19. (2, t - 1)\n",
       "    core type: ExprTuple\n",
       "    sub-expressions: 34, 22\n",
       "20. 2^{t} * delta\n",
       "    core type: Operation\n",
       "    operator: 23\n",
       "    operands: 24\n",
       "21. eps\n",
       "    core type: Variable\n",
       "    sub-expressions: \n",
       "22. t - 1\n",
       "    core type: Operation\n",
       "    operator: 25\n",
       "    operands: 26\n",
       "23. *\n",
       "    core type: Literal\n",
       "    sub-expressions: \n",
       "24. (2^{t}, delta)\n",
       "    core type: ExprTuple\n",
       "    sub-expressions: 27, 28\n",
       "25. +\n",
       "    core type: Literal\n",
       "    sub-expressions: \n",
       "26. (t, -1)\n",
       "    core type: ExprTuple\n",
       "    sub-expressions: 35, 29\n",
       "27. 2^{t}\n",
       "    core type: Operation\n",
       "    operator: 30\n",
       "    operands: 31\n",
       "28. delta\n",
       "    core type: Literal\n",
       "    sub-expressions: \n",
       "29. -1\n",
       "    core type: Operation\n",
       "    operator: 32\n",
       "    operand: 36\n",
       "30. Exp\n",
       "    core type: Literal\n",
       "    sub-expressions: \n",
       "31. (2, t)\n",
       "    core type: ExprTuple\n",
       "    sub-expressions: 34, 35\n",
       "32. -\n",
       "    core type: Literal\n",
       "    sub-expressions: \n",
       "33. (1)\n",
       "    core type: ExprTuple\n",
       "    sub-expressions: 36\n",
       "34. 2\n",
       "    core type: Literal\n",
       "    sub-expressions: \n",
       "35. t\n",
       "    core type: Literal\n",
       "    sub-expressions: \n",
       "36. 1\n",
       "    core type: Literal\n",
       "    sub-expressions: "
      ]
     },
     "execution_count": 6,
     "metadata": {},
     "output_type": "execute_result"
    }
   ],
   "source": [
    "# display the expression information\n",
    "expr.expr_info()"
   ]
  },
  {
   "cell_type": "code",
   "execution_count": null,
   "metadata": {},
   "outputs": [],
   "source": []
  }
 ],
 "metadata": {
  "kernelspec": {
   "display_name": "Python 3",
   "language": "python",
   "name": "python3"
  }
 },
 "nbformat": 4,
 "nbformat_minor": 0
}