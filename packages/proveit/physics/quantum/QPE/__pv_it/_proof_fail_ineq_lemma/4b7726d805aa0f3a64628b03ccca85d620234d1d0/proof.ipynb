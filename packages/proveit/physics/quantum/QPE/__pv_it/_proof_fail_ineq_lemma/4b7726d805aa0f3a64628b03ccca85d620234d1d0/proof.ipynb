{
 "cells": [
  {
   "cell_type": "markdown",
   "metadata": {},
   "source": [
    "Show the Proof\n",
    "========"
   ]
  },
  {
   "cell_type": "code",
   "execution_count": 1,
   "metadata": {},
   "outputs": [
    {
     "data": {
      "text/html": [
       "<table><tr><th>&nbsp;</th><th>step type</th><th>requirements</th><th>statement</th></tr>\n",
       "<tr><td><a name=\"proveit.physics.quantum.QPE._proof_fail_ineq_lemma.4b7726d805aa0f3a64628b03ccca85d620234d1d0_step0\">0</a></td><td>modus ponens</td><td><a href=\"#proveit.physics.quantum.QPE._proof_fail_ineq_lemma.4b7726d805aa0f3a64628b03ccca85d620234d1d0_step1\">1</a>, <a href=\"#proveit.physics.quantum.QPE._proof_fail_ineq_lemma.4b7726d805aa0f3a64628b03ccca85d620234d1d0_step2\">2</a></td><td><span style=\"font-size:20px;\"><a class=\"ProveItLink\" href=\"../../theorems/e43ddd3286788e9f0d072354a6e39dc9d2c56cf30/expr.ipynb\"><img src=\"../../theorems/e43ddd3286788e9f0d072354a6e39dc9d2c56cf30/expr.png\" style=\"display:inline;vertical-align:middle;\" /></a> <a class=\"ProveItLink\" href=\"proof.ipynb\" style=\"text-decoration: none\">&nbsp;&#x22A2;&nbsp;&nbsp;</a><a class=\"ProveItLink\" href=\"../4fbd1564ba4a9d65301951221d19e39ae5373cc60/expr.ipynb\"><img src=\"../4fbd1564ba4a9d65301951221d19e39ae5373cc60/expr.png\" style=\"display:inline;vertical-align:middle;\" /></a></span></td></tr>\n",
       "<tr><td><a name=\"proveit.physics.quantum.QPE._proof_fail_ineq_lemma.4b7726d805aa0f3a64628b03ccca85d620234d1d0_step1\">1</a></td><td>instantiation</td><td><a href=\"#proveit.physics.quantum.QPE._proof_fail_ineq_lemma.4b7726d805aa0f3a64628b03ccca85d620234d1d0_step3\">3</a></td><td><span style=\"font-size:20px;\"> <a class=\"ProveItLink\" href=\"../4263638395c920e8fbd2b585f40277e1062494270/proof.ipynb\" style=\"text-decoration: none\">&nbsp;&#x22A2;&nbsp;&nbsp;</a><a class=\"ProveItLink\" href=\"../2f6a1bda25ab6e9b1dc0b8b611a9aeec27737c2e0/expr.ipynb\"><img src=\"../2f6a1bda25ab6e9b1dc0b8b611a9aeec27737c2e0/expr.png\" style=\"display:inline;vertical-align:middle;\" /></a></span></td></tr>\n",
       "<tr><td>&nbsp;</td><td colspan=4 style=\"text-align:left\"><span style=\"font-size:20px;\"><a class=\"ProveItLink\" href=\"../../../../../../numbers/summation/__pv_it/common/c805528dd6eb4447137929f0be9f02b51ee5b4f60/expr.ipynb\"><img src=\"../../../../../../numbers/summation/__pv_it/common/c805528dd6eb4447137929f0be9f02b51ee5b4f60/expr.png\" style=\"display:inline;vertical-align:middle;\" /></a> : <a class=\"ProveItLink\" href=\"../../common/5bd448a11909ad59da0b9be207fcde8c4ebfaf2c0/expr.ipynb\"><img src=\"../../common/5bd448a11909ad59da0b9be207fcde8c4ebfaf2c0/expr.png\" style=\"display:inline;vertical-align:middle;\" /></a>, <a class=\"ProveItLink\" href=\"../../../../../../numbers/summation/__pv_it/common/8f6fbe105a59d4ecd3e51d0d53d42be2455341620/expr.ipynb\"><img src=\"../../../../../../numbers/summation/__pv_it/common/8f6fbe105a59d4ecd3e51d0d53d42be2455341620/expr.png\" style=\"display:inline;vertical-align:middle;\" /></a> : <a class=\"ProveItLink\" href=\"../../theorems/ff184c294b4d00bac7717d9672ea857cf6cd58020/expr.ipynb\"><img src=\"../../theorems/ff184c294b4d00bac7717d9672ea857cf6cd58020/expr.png\" style=\"display:inline;vertical-align:middle;\" /></a>, <a class=\"ProveItLink\" href=\"../../../../../../__pv_it/common/259d0846cd49c4882c35ec84d7a0b180713721cc0/expr.ipynb\"><img src=\"../../../../../../__pv_it/common/259d0846cd49c4882c35ec84d7a0b180713721cc0/expr.png\" style=\"display:inline;vertical-align:middle;\" /></a> : <a class=\"ProveItLink\" href=\"../../common/e03ed56555b1a3a38c157310f9668aeba82693910/expr.ipynb\"><img src=\"../../common/e03ed56555b1a3a38c157310f9668aeba82693910/expr.png\" style=\"display:inline;vertical-align:middle;\" /></a></span></td></tr><tr><td><a name=\"proveit.physics.quantum.QPE._proof_fail_ineq_lemma.4b7726d805aa0f3a64628b03ccca85d620234d1d0_step2\">2</a></td><td>modus ponens</td><td><a href=\"#proveit.physics.quantum.QPE._proof_fail_ineq_lemma.4b7726d805aa0f3a64628b03ccca85d620234d1d0_step4\">4</a>, <a href=\"#proveit.physics.quantum.QPE._proof_fail_ineq_lemma.4b7726d805aa0f3a64628b03ccca85d620234d1d0_step5\">5</a></td><td><span style=\"font-size:20px;\"><a class=\"ProveItLink\" href=\"../../theorems/e43ddd3286788e9f0d072354a6e39dc9d2c56cf30/expr.ipynb\"><img src=\"../../theorems/e43ddd3286788e9f0d072354a6e39dc9d2c56cf30/expr.png\" style=\"display:inline;vertical-align:middle;\" /></a> <a class=\"ProveItLink\" href=\"../5163a56e07697159643d4986329cef87d9a234980/proof.ipynb\" style=\"text-decoration: none\">&nbsp;&#x22A2;&nbsp;&nbsp;</a><a class=\"ProveItLink\" href=\"../091561bf699fe0996d2ee934c3f48aa8fa6939780/expr.ipynb\"><img src=\"../091561bf699fe0996d2ee934c3f48aa8fa6939780/expr.png\" style=\"display:inline;vertical-align:middle;\" /></a></span></td></tr>\n",
       "<tr><td><a name=\"proveit.physics.quantum.QPE._proof_fail_ineq_lemma.4b7726d805aa0f3a64628b03ccca85d620234d1d0_step3\">3</a></td><td>theorem</td><td></td><td><span style=\"font-size:20px;\"> <a class=\"ProveItLink\" href=\"../../../../../../numbers/summation/_theory_nbs_/proofs/weak_summation_from_summands_bound/thm_proof.ipynb\" style=\"text-decoration: none\">&nbsp;&#x22A2;&nbsp;&nbsp;</a><a class=\"ProveItLink\" href=\"../../../../../../numbers/summation/__pv_it/theorems/d472ca157f4d09025a1657290ffc45b64ff3f9870/expr.ipynb\"><img src=\"../../../../../../numbers/summation/__pv_it/theorems/d472ca157f4d09025a1657290ffc45b64ff3f9870/expr.png\" style=\"display:inline;vertical-align:middle;\" /></a></span></td></tr>\n",
       "<tr><td>&nbsp;</td><td colspan=4 style-\"text-align:left\"><a class=\"ProveItLink\" href=\"../../../../../../numbers/summation/_theory_nbs_/proofs/weak_summation_from_summands_bound/thm_proof.ipynb\">proveit.numbers.summation.weak_summation_from_summands_bound</a></td></tr><tr><td><a name=\"proveit.physics.quantum.QPE._proof_fail_ineq_lemma.4b7726d805aa0f3a64628b03ccca85d620234d1d0_step4\">4</a></td><td>instantiation</td><td><a href=\"#proveit.physics.quantum.QPE._proof_fail_ineq_lemma.4b7726d805aa0f3a64628b03ccca85d620234d1d0_step6\">6</a>, <a href=\"#proveit.physics.quantum.QPE._proof_fail_ineq_lemma.4b7726d805aa0f3a64628b03ccca85d620234d1d0_step7\">7</a></td><td><span style=\"font-size:20px;\"><a class=\"ProveItLink\" href=\"../../theorems/e43ddd3286788e9f0d072354a6e39dc9d2c56cf30/expr.ipynb\"><img src=\"../../theorems/e43ddd3286788e9f0d072354a6e39dc9d2c56cf30/expr.png\" style=\"display:inline;vertical-align:middle;\" /></a> <a class=\"ProveItLink\" href=\"../5b206a8c61ac40f14c0e29877c28bf2bd2f62acd0/proof.ipynb\" style=\"text-decoration: none\">&nbsp;&#x22A2;&nbsp;&nbsp;</a><a class=\"ProveItLink\" href=\"../984dd8a8ae015a25cf1c9158d31ea9bff970d2ec0/expr.ipynb\"><img src=\"../984dd8a8ae015a25cf1c9158d31ea9bff970d2ec0/expr.png\" style=\"display:inline;vertical-align:middle;\" /></a></span></td></tr>\n",
       "<tr><td>&nbsp;</td><td colspan=4 style=\"text-align:left\"><span style=\"font-size:20px;\"><a class=\"ProveItLink\" href=\"../../../../../../__pv_it/common/e4aad701f7f5516d8e7f0d805d518bf02c13322a0/expr.ipynb\"><img src=\"../../../../../../__pv_it/common/e4aad701f7f5516d8e7f0d805d518bf02c13322a0/expr.png\" style=\"display:inline;vertical-align:middle;\" /></a> : <a class=\"ProveItLink\" href=\"../../common/8d787ea610209e2a4a4e08614cbc25afe03401530/expr.ipynb\"><img src=\"../../common/8d787ea610209e2a4a4e08614cbc25afe03401530/expr.png\" style=\"display:inline;vertical-align:middle;\" /></a>, <a class=\"ProveItLink\" href=\"../../../../../../__pv_it/common/4eca3b30dcf58a58494e201d1b7886d8643a617b0/expr.ipynb\"><img src=\"../../../../../../__pv_it/common/4eca3b30dcf58a58494e201d1b7886d8643a617b0/expr.png\" style=\"display:inline;vertical-align:middle;\" /></a> : <a class=\"ProveItLink\" href=\"../../common/e03ed56555b1a3a38c157310f9668aeba82693910/expr.ipynb\"><img src=\"../../common/e03ed56555b1a3a38c157310f9668aeba82693910/expr.png\" style=\"display:inline;vertical-align:middle;\" /></a>, <a class=\"ProveItLink\" href=\"../00a8bcc4090212062c1b1992af4057e41576acc50/expr.ipynb\"><img src=\"../00a8bcc4090212062c1b1992af4057e41576acc50/expr.png\" style=\"display:inline;vertical-align:middle;\" /></a> : <a class=\"ProveItLink\" href=\"../c0c41f95b74d9843d8011b4bf377d3ad41d791150/expr.ipynb\"><img src=\"../c0c41f95b74d9843d8011b4bf377d3ad41d791150/expr.png\" style=\"display:inline;vertical-align:middle;\" /></a>, <a class=\"ProveItLink\" href=\"../../../../../../__pv_it/common/a2581dc5df71d9a30bad37de14965fa5fec97a240/expr.ipynb\"><img src=\"../../../../../../__pv_it/common/a2581dc5df71d9a30bad37de14965fa5fec97a240/expr.png\" style=\"display:inline;vertical-align:middle;\" /></a> : <a class=\"ProveItLink\" href=\"../../../../../../__pv_it/common/b9fd37fc619babc74a6203459f110251586df6970/expr.ipynb\"><img src=\"../../../../../../__pv_it/common/b9fd37fc619babc74a6203459f110251586df6970/expr.png\" style=\"display:inline;vertical-align:middle;\" /></a></span></td></tr><tr><td><a name=\"proveit.physics.quantum.QPE._proof_fail_ineq_lemma.4b7726d805aa0f3a64628b03ccca85d620234d1d0_step5\">5</a></td><td>theorem</td><td></td><td><span style=\"font-size:20px;\"> <a class=\"ProveItLink\" href=\"../../../_theory_nbs_/proofs/alpha_l_sqrd_ineq/thm_proof.ipynb\" style=\"text-decoration: none\">&nbsp;&#x22A2;&nbsp;&nbsp;</a><a class=\"ProveItLink\" href=\"../../theorems/9f743f92f8370e4a37572464aececf142e1b21290/expr.ipynb\"><img src=\"../../theorems/9f743f92f8370e4a37572464aececf142e1b21290/expr.png\" style=\"display:inline;vertical-align:middle;\" /></a></span></td></tr>\n",
       "<tr><td>&nbsp;</td><td colspan=4 style-\"text-align:left\"><a class=\"ProveItLink\" href=\"../../../_theory_nbs_/proofs/alpha_l_sqrd_ineq/thm_proof.ipynb\">proveit.physics.quantum.QPE.alpha_l_sqrd_ineq</a></td></tr><tr><td><a name=\"proveit.physics.quantum.QPE._proof_fail_ineq_lemma.4b7726d805aa0f3a64628b03ccca85d620234d1d0_step6\">6</a></td><td>theorem</td><td></td><td><span style=\"font-size:20px;\"> <a class=\"ProveItLink\" href=\"../../../../../../logic/sets/inclusion/_theory_nbs_/proofs/inclusive_universal_quantification/thm_proof.ipynb\" style=\"text-decoration: none\">&nbsp;&#x22A2;&nbsp;&nbsp;</a><a class=\"ProveItLink\" href=\"../../../../../../logic/sets/inclusion/__pv_it/theorems/3a2fa9aef225134247afbd28da63330404d4e3e50/expr.ipynb\"><img src=\"../../../../../../logic/sets/inclusion/__pv_it/theorems/3a2fa9aef225134247afbd28da63330404d4e3e50/expr.png\" style=\"display:inline;vertical-align:middle;\" /></a></span></td></tr>\n",
       "<tr><td>&nbsp;</td><td colspan=4 style-\"text-align:left\"><a class=\"ProveItLink\" href=\"../../../../../../logic/sets/inclusion/_theory_nbs_/proofs/inclusive_universal_quantification/thm_proof.ipynb\">proveit.logic.sets.inclusion.inclusive_universal_quantification</a></td></tr><tr><td><a name=\"proveit.physics.quantum.QPE._proof_fail_ineq_lemma.4b7726d805aa0f3a64628b03ccca85d620234d1d0_step7\">7</a></td><td>instantiation</td><td><a href=\"#proveit.physics.quantum.QPE._proof_fail_ineq_lemma.4b7726d805aa0f3a64628b03ccca85d620234d1d0_step8\">8</a>, <a href=\"#proveit.physics.quantum.QPE._proof_fail_ineq_lemma.4b7726d805aa0f3a64628b03ccca85d620234d1d0_step9\">9</a></td><td><span style=\"font-size:20px;\"><a class=\"ProveItLink\" href=\"../../theorems/e43ddd3286788e9f0d072354a6e39dc9d2c56cf30/expr.ipynb\"><img src=\"../../theorems/e43ddd3286788e9f0d072354a6e39dc9d2c56cf30/expr.png\" style=\"display:inline;vertical-align:middle;\" /></a> <a class=\"ProveItLink\" href=\"../f45c3da29c1c30d49ca2e04c776dd6f41181ee850/proof.ipynb\" style=\"text-decoration: none\">&nbsp;&#x22A2;&nbsp;&nbsp;</a><a class=\"ProveItLink\" href=\"../../theorems/970b5a99c57a1466a4a13b8d55ac821e8d30641a0/expr.ipynb\"><img src=\"../../theorems/970b5a99c57a1466a4a13b8d55ac821e8d30641a0/expr.png\" style=\"display:inline;vertical-align:middle;\" /></a></span></td></tr>\n",
       "<tr><td>&nbsp;</td><td colspan=4 style=\"text-align:left\"><span style=\"font-size:20px;\"><a class=\"ProveItLink\" href=\"../../../../../../__pv_it/common/6ccbd8f7424e34c92aa1208d7ccef106f5849c250/expr.ipynb\"><img src=\"../../../../../../__pv_it/common/6ccbd8f7424e34c92aa1208d7ccef106f5849c250/expr.png\" style=\"display:inline;vertical-align:middle;\" /></a> : <a class=\"ProveItLink\" href=\"../../../../../../__pv_it/common/6ccbd8f7424e34c92aa1208d7ccef106f5849c250/expr.ipynb\"><img src=\"../../../../../../__pv_it/common/6ccbd8f7424e34c92aa1208d7ccef106f5849c250/expr.png\" style=\"display:inline;vertical-align:middle;\" /></a></span></td></tr><tr><td><a name=\"proveit.physics.quantum.QPE._proof_fail_ineq_lemma.4b7726d805aa0f3a64628b03ccca85d620234d1d0_step8\">8</a></td><td>theorem</td><td></td><td><span style=\"font-size:20px;\"> <a class=\"ProveItLink\" href=\"../../../_theory_nbs_/proofs/pos_domain_in_full_domain_sans_zero/thm_proof.ipynb\" style=\"text-decoration: none\">&nbsp;&#x22A2;&nbsp;&nbsp;</a><a class=\"ProveItLink\" href=\"../../theorems/1bcb691c3582f8bbfd8c69bc8bbf5499ad9a67f00/expr.ipynb\"><img src=\"../../theorems/1bcb691c3582f8bbfd8c69bc8bbf5499ad9a67f00/expr.png\" style=\"display:inline;vertical-align:middle;\" /></a></span></td></tr>\n",
       "<tr><td>&nbsp;</td><td colspan=4 style-\"text-align:left\"><a class=\"ProveItLink\" href=\"../../../_theory_nbs_/proofs/pos_domain_in_full_domain_sans_zero/thm_proof.ipynb\">proveit.physics.quantum.QPE.pos_domain_in_full_domain_sans_zero</a></td></tr><tr><td><a name=\"proveit.physics.quantum.QPE._proof_fail_ineq_lemma.4b7726d805aa0f3a64628b03ccca85d620234d1d0_step9\">9</a></td><td>assumption</td><td></td><td><span style=\"font-size:20px;\"><a class=\"ProveItLink\" href=\"../../theorems/e43ddd3286788e9f0d072354a6e39dc9d2c56cf30/expr.ipynb\"><img src=\"../../theorems/e43ddd3286788e9f0d072354a6e39dc9d2c56cf30/expr.png\" style=\"display:inline;vertical-align:middle;\" /></a> <a class=\"ProveItLink\" href=\"../4a8606fae96c1faabac4a0743e2833b8987e53a80/proof.ipynb\" style=\"text-decoration: none\">&nbsp;&#x22A2;&nbsp;&nbsp;</a><a class=\"ProveItLink\" href=\"../../theorems/e43ddd3286788e9f0d072354a6e39dc9d2c56cf30/expr.ipynb\"><img src=\"../../theorems/e43ddd3286788e9f0d072354a6e39dc9d2c56cf30/expr.png\" style=\"display:inline;vertical-align:middle;\" /></a></span></td></tr>\n",
       "</table>"
      ],
      "text/plain": [
       "<proveit._core_.proof._ShowProof at 0x7f4e830f6358>"
      ]
     },
     "execution_count": 1,
     "metadata": {},
     "output_type": "execute_result"
    }
   ],
   "source": [
    "import proveit\n",
    "# Automation is not needed when only showing a stored proof:\n",
    "proveit.defaults.automation = False # This will speed things up.\n",
    "proveit.defaults.inline_pngs = False # Makes files smaller.\n",
    "%show_proof"
   ]
  },
  {
   "cell_type": "code",
   "execution_count": null,
   "metadata": {},
   "outputs": [],
   "source": []
  }
 ],
 "metadata": {
  "kernelspec": {
   "display_name": "Python 3",
   "language": "python",
   "name": "python3"
  },
  "language_info": {
   "codemirror_mode": {
    "name": "ipython",
    "version": 3
   },
   "file_extension": ".py",
   "mimetype": "text/x-python",
   "name": "python",
   "nbconvert_exporter": "python",
   "pygments_lexer": "ipython3",
   "version": "3.7.3"
  }
 },
 "nbformat": 4,
 "nbformat_minor": 1
}