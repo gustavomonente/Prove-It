{
 "cells": [
  {
   "cell_type": "markdown",
   "metadata": {},
   "source": [
    "Show the Proof\n",
    "========"
   ]
  },
  {
   "cell_type": "code",
   "execution_count": 1,
   "metadata": {},
   "outputs": [
    {
     "data": {
      "text/html": [
       "<table><tr><th>&nbsp;</th><th>step type</th><th>requirements</th><th>statement</th></tr>\n",
       "<tr><td><a name=\"proveit.physics.quantum.QPE._proof_fail_ineq_lemma.87123fff584138b823420b945d299282d8b76df80_step0\">0</a></td><td>instantiation</td><td><a href=\"#proveit.physics.quantum.QPE._proof_fail_ineq_lemma.87123fff584138b823420b945d299282d8b76df80_step1\">1</a>, <a href=\"#proveit.physics.quantum.QPE._proof_fail_ineq_lemma.87123fff584138b823420b945d299282d8b76df80_step2\">2</a></td><td><span style=\"font-size:20px;\"><a class=\"ProveItLink\" href=\"../../theorems/e43ddd3286788e9f0d072354a6e39dc9d2c56cf30/expr.ipynb\"><img src=\"../../theorems/e43ddd3286788e9f0d072354a6e39dc9d2c56cf30/expr.png\" style=\"display:inline;vertical-align:middle;\" /></a> <a class=\"ProveItLink\" href=\"proof.ipynb\" style=\"text-decoration: none\">&nbsp;&#x22A2;&nbsp;&nbsp;</a><a class=\"ProveItLink\" href=\"../../theorems/a4ac438aff55f11f3954e37fe94e762cdd2733a00/expr.ipynb\"><img src=\"../../theorems/a4ac438aff55f11f3954e37fe94e762cdd2733a00/expr.png\" style=\"display:inline;vertical-align:middle;\" /></a></span></td></tr>\n",
       "<tr><td>&nbsp;</td><td colspan=4 style=\"text-align:left\"><span style=\"font-size:20px;\"><a class=\"ProveItLink\" href=\"../../../../../../__pv_it/common/6ccbd8f7424e34c92aa1208d7ccef106f5849c250/expr.ipynb\"><img src=\"../../../../../../__pv_it/common/6ccbd8f7424e34c92aa1208d7ccef106f5849c250/expr.png\" style=\"display:inline;vertical-align:middle;\" /></a> : <a class=\"ProveItLink\" href=\"../../../../../../__pv_it/common/6ccbd8f7424e34c92aa1208d7ccef106f5849c250/expr.ipynb\"><img src=\"../../../../../../__pv_it/common/6ccbd8f7424e34c92aa1208d7ccef106f5849c250/expr.png\" style=\"display:inline;vertical-align:middle;\" /></a></span></td></tr><tr><td><a name=\"proveit.physics.quantum.QPE._proof_fail_ineq_lemma.87123fff584138b823420b945d299282d8b76df80_step1\">1</a></td><td>theorem</td><td></td><td><span style=\"font-size:20px;\"> <a class=\"ProveItLink\" href=\"../../../_theory_nbs_/proofs/fail_sum/thm_proof.ipynb\" style=\"text-decoration: none\">&nbsp;&#x22A2;&nbsp;&nbsp;</a><a class=\"ProveItLink\" href=\"../../theorems/cdb0c2ad3f86a7478489a7f15240096bcba88b080/expr.ipynb\"><img src=\"../../theorems/cdb0c2ad3f86a7478489a7f15240096bcba88b080/expr.png\" style=\"display:inline;vertical-align:middle;\" /></a></span></td></tr>\n",
       "<tr><td>&nbsp;</td><td colspan=4 style-\"text-align:left\"><a class=\"ProveItLink\" href=\"../../../_theory_nbs_/proofs/fail_sum/thm_proof.ipynb\">proveit.physics.quantum.QPE.fail_sum</a></td></tr><tr><td><a name=\"proveit.physics.quantum.QPE._proof_fail_ineq_lemma.87123fff584138b823420b945d299282d8b76df80_step2\">2</a></td><td>assumption</td><td></td><td><span style=\"font-size:20px;\"><a class=\"ProveItLink\" href=\"../../theorems/e43ddd3286788e9f0d072354a6e39dc9d2c56cf30/expr.ipynb\"><img src=\"../../theorems/e43ddd3286788e9f0d072354a6e39dc9d2c56cf30/expr.png\" style=\"display:inline;vertical-align:middle;\" /></a> <a class=\"ProveItLink\" href=\"../4a8606fae96c1faabac4a0743e2833b8987e53a80/proof.ipynb\" style=\"text-decoration: none\">&nbsp;&#x22A2;&nbsp;&nbsp;</a><a class=\"ProveItLink\" href=\"../../theorems/e43ddd3286788e9f0d072354a6e39dc9d2c56cf30/expr.ipynb\"><img src=\"../../theorems/e43ddd3286788e9f0d072354a6e39dc9d2c56cf30/expr.png\" style=\"display:inline;vertical-align:middle;\" /></a></span></td></tr>\n",
       "</table>"
      ],
      "text/plain": [
       "<proveit._core_.proof._ShowProof at 0x7f8db6ff7390>"
      ]
     },
     "execution_count": 1,
     "metadata": {},
     "output_type": "execute_result"
    }
   ],
   "source": [
    "import proveit\n",
    "# Automation is not needed when only showing a stored proof:\n",
    "proveit.defaults.automation = False # This will speed things up.\n",
    "proveit.defaults.inline_pngs = False # Makes files smaller.\n",
    "%show_proof"
   ]
  },
  {
   "cell_type": "code",
   "execution_count": null,
   "metadata": {},
   "outputs": [],
   "source": []
  }
 ],
 "metadata": {
  "kernelspec": {
   "display_name": "Python 3",
   "language": "python",
   "name": "python3"
  },
  "language_info": {
   "codemirror_mode": {
    "name": "ipython",
    "version": 3
   },
   "file_extension": ".py",
   "mimetype": "text/x-python",
   "name": "python",
   "nbconvert_exporter": "python",
   "pygments_lexer": "ipython3",
   "version": "3.7.3"
  }
 },
 "nbformat": 4,
 "nbformat_minor": 1
}