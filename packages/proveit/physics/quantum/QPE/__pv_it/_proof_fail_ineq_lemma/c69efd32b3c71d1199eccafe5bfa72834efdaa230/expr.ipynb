{
 "cells": [
  {
   "cell_type": "markdown",
   "metadata": {},
   "source": [
    "Expression of type <a class=\"ProveItLink\" href=\"../../../../../../../../doc/html/api/proveit.Lambda.html\">Lambda</a>\n",
    "=======================\n",
    "# from the theory of <a class=\"ProveItLink\" href=\"../../../_theory_nbs_/theory.ipynb\">proveit.physics.quantum.QPE</a>"
   ]
  },
  {
   "cell_type": "code",
   "execution_count": 1,
   "metadata": {},
   "outputs": [],
   "source": [
    "import proveit\n",
    "# Automation is not needed when building an expression:\n",
    "proveit.defaults.automation = False # This will speed things up.\n",
    "proveit.defaults.inline_pngs = False # Makes files smaller.\n",
    "%load_expr # Load the stored expression as 'stored_expr'\n",
    "# import Expression classes needed to build the expression\n",
    "from proveit import Conditional, Lambda, y\n",
    "from proveit.logic import InSet\n",
    "from proveit.numbers import Abs, Add, Exp, LessEq, Mult, Neg, four, frac, one, two\n",
    "from proveit.physics.quantum.QPE import SubIndexed, alpha_, delta_, pos_domain, two_pow_t"
   ]
  },
  {
   "cell_type": "code",
   "execution_count": 2,
   "metadata": {},
   "outputs": [
    {
     "data": {
      "text/html": [
       "<strong id=\"expr\">expr:</strong> <a class=\"ProveItLink\" href=\"expr.ipynb\"><img src=\"expr.png\" style=\"display:inline;vertical-align:middle;\" /></a><br>"
      ],
      "text/plain": [
       "expr: y -> {|alpha_{y}|^{2} <= (1 / (4 * (y - (2^{t} * delta))^{2})) if y in {eps + 1...2^{t - 1}}."
      ]
     },
     "execution_count": 2,
     "metadata": {},
     "output_type": "execute_result"
    }
   ],
   "source": [
    "# build up the expression from sub-expressions\n",
    "expr = Lambda(y, Conditional(LessEq(Exp(Abs(SubIndexed(alpha_, y)), two), frac(one, Mult(four, Exp(Add(y, Neg(Mult(two_pow_t, delta_))), two)))), InSet(y, pos_domain)))"
   ]
  },
  {
   "cell_type": "code",
   "execution_count": 3,
   "metadata": {},
   "outputs": [
    {
     "name": "stdout",
     "output_type": "stream",
     "text": [
      "Passed sanity check: expr matches stored_expr\n"
     ]
    }
   ],
   "source": [
    "# check that the built expression is the same as the stored expression\n",
    "assert expr == stored_expr\n",
    "assert expr._style_id == stored_expr._style_id\n",
    "print(\"Passed sanity check: expr matches stored_expr\")"
   ]
  },
  {
   "cell_type": "code",
   "execution_count": 4,
   "metadata": {},
   "outputs": [
    {
     "name": "stdout",
     "output_type": "stream",
     "text": [
      "y \\mapsto \\left\\{\\left|\\alpha_{y}\\right|^{2} \\leq \\frac{1}{4 \\cdot \\left(y - \\left(2^{t} \\cdot \\delta\\right)\\right)^{2}} \\textrm{ if } y \\in \\{\\varepsilon + 1 \\ldots 2^{t - 1}\\}\\right..\n"
     ]
    }
   ],
   "source": [
    "# Show the LaTeX representation of the expression for convenience if you need it.\n",
    "print(expr.latex())"
   ]
  },
  {
   "cell_type": "code",
   "execution_count": 5,
   "metadata": {},
   "outputs": [
    {
     "data": {
      "text/html": [
       "no style options"
      ],
      "text/plain": [
       "no style options"
      ]
     },
     "execution_count": 5,
     "metadata": {},
     "output_type": "execute_result"
    }
   ],
   "source": [
    "expr.style_options()"
   ]
  },
  {
   "cell_type": "code",
   "execution_count": 6,
   "metadata": {},
   "outputs": [
    {
     "data": {
      "text/html": [
       "<table><tr><th>&nbsp;</th><th>core type</th><th>sub-expressions</th><th>expression</th></tr>\n",
       "<tr><td>0</td><td>Lambda</td><td>parameter:&nbsp;40<br>body:&nbsp;1<br></td><td><a class=\"ProveItLink\" href=\"expr.ipynb\"><img src=\"expr.png\" style=\"display:inline;vertical-align:middle;\" /></a></td></tr>\n",
       "<tr><td>1</td><td>Conditional</td><td>value:&nbsp;2<br>condition:&nbsp;3<br></td><td><a class=\"ProveItLink\" href=\"../30c37402ff1240217fcd067f3130e45d5fad583f0/expr.ipynb\"><img src=\"../30c37402ff1240217fcd067f3130e45d5fad583f0/expr.png\" style=\"display:inline;vertical-align:middle;\" /></a></td></tr>\n",
       "<tr><td>2</td><td>Operation</td><td>operator:&nbsp;4<br>operands:&nbsp;5<br></td><td><a class=\"ProveItLink\" href=\"../cb2fc5374ac1526117f5ed01b35b03f64aa9e26e0/expr.ipynb\"><img src=\"../cb2fc5374ac1526117f5ed01b35b03f64aa9e26e0/expr.png\" style=\"display:inline;vertical-align:middle;\" /></a></td></tr>\n",
       "<tr><td>3</td><td>Operation</td><td>operator:&nbsp;6<br>operands:&nbsp;7<br></td><td><a class=\"ProveItLink\" href=\"../1cdea8da8f20bcf1c5a486b6ef70c7d45419d92e0/expr.ipynb\"><img src=\"../1cdea8da8f20bcf1c5a486b6ef70c7d45419d92e0/expr.png\" style=\"display:inline;vertical-align:middle;\" /></a></td></tr>\n",
       "<tr><td>4</td><td>Literal</td><td></td><td><a class=\"ProveItLink\" href=\"../../../../../../numbers/ordering/__pv_it/common/b7491c9b87613cffc9e4ec0625a0f1afacbe2cbd0/expr.ipynb\"><img src=\"../../../../../../numbers/ordering/__pv_it/common/b7491c9b87613cffc9e4ec0625a0f1afacbe2cbd0/expr.png\" style=\"display:inline;vertical-align:middle;\" /></a></td></tr>\n",
       "<tr><td>5</td><td>ExprTuple</td><td>8, 9</td><td><a class=\"ProveItLink\" href=\"../bf56fb0653ec39a80695b411b2455a290f5ea9740/expr.ipynb\"><img src=\"../bf56fb0653ec39a80695b411b2455a290f5ea9740/expr.png\" style=\"display:inline;vertical-align:middle;\" /></a></td></tr>\n",
       "<tr><td>6</td><td>Literal</td><td></td><td><a class=\"ProveItLink\" href=\"../../../../../../logic/sets/membership/__pv_it/common/7171deca84f71f47a6ec7696972d1632274a12880/expr.ipynb\"><img src=\"../../../../../../logic/sets/membership/__pv_it/common/7171deca84f71f47a6ec7696972d1632274a12880/expr.png\" style=\"display:inline;vertical-align:middle;\" /></a></td></tr>\n",
       "<tr><td>7</td><td>ExprTuple</td><td>40, 10</td><td><a class=\"ProveItLink\" href=\"../75e5a9d2063ed515376a25dd23c0d95865edd76e0/expr.ipynb\"><img src=\"../75e5a9d2063ed515376a25dd23c0d95865edd76e0/expr.png\" style=\"display:inline;vertical-align:middle;\" /></a></td></tr>\n",
       "<tr><td>8</td><td>Operation</td><td>operator:&nbsp;50<br>operands:&nbsp;11<br></td><td><a class=\"ProveItLink\" href=\"../ed259b7b578b5950baa9631e89da518b2fb10d390/expr.ipynb\"><img src=\"../ed259b7b578b5950baa9631e89da518b2fb10d390/expr.png\" style=\"display:inline;vertical-align:middle;\" /></a></td></tr>\n",
       "<tr><td>9</td><td>Operation</td><td>operator:&nbsp;12<br>operands:&nbsp;13<br></td><td><a class=\"ProveItLink\" href=\"../df69775bc61a6e4ad8bdfbbb52a272e934febb980/expr.ipynb\"><img src=\"../df69775bc61a6e4ad8bdfbbb52a272e934febb980/expr.png\" style=\"display:inline;vertical-align:middle;\" /></a></td></tr>\n",
       "<tr><td>10</td><td>Operation</td><td>operator:&nbsp;14<br>operands:&nbsp;15<br></td><td><a class=\"ProveItLink\" href=\"../../common/e03ed56555b1a3a38c157310f9668aeba82693910/expr.ipynb\"><img src=\"../../common/e03ed56555b1a3a38c157310f9668aeba82693910/expr.png\" style=\"display:inline;vertical-align:middle;\" /></a></td></tr>\n",
       "<tr><td>11</td><td>ExprTuple</td><td>16, 52</td><td><a class=\"ProveItLink\" href=\"../b16235ca74a1a23ec8a118d4dfb3bbe4f6cc94030/expr.ipynb\"><img src=\"../b16235ca74a1a23ec8a118d4dfb3bbe4f6cc94030/expr.png\" style=\"display:inline;vertical-align:middle;\" /></a></td></tr>\n",
       "<tr><td>12</td><td>Literal</td><td></td><td><a class=\"ProveItLink\" href=\"../../../../../../numbers/division/__pv_it/common/9ecc1ae47b83f7ed759e5ea63a2023a8f2ab04800/expr.ipynb\"><img src=\"../../../../../../numbers/division/__pv_it/common/9ecc1ae47b83f7ed759e5ea63a2023a8f2ab04800/expr.png\" style=\"display:inline;vertical-align:middle;\" /></a></td></tr>\n",
       "<tr><td>13</td><td>ExprTuple</td><td>42, 17</td><td><a class=\"ProveItLink\" href=\"../b7d74eabb18ed4055c5f3b0dce30dcdf9d15b2cf0/expr.ipynb\"><img src=\"../b7d74eabb18ed4055c5f3b0dce30dcdf9d15b2cf0/expr.png\" style=\"display:inline;vertical-align:middle;\" /></a></td></tr>\n",
       "<tr><td>14</td><td>Literal</td><td></td><td><a class=\"ProveItLink\" href=\"../../../../../../numbers/number_sets/integers/__pv_it/common/fcf0def17f5c3c84b64c959b39aed0e5dad7f3340/expr.ipynb\"><img src=\"../../../../../../numbers/number_sets/integers/__pv_it/common/fcf0def17f5c3c84b64c959b39aed0e5dad7f3340/expr.png\" style=\"display:inline;vertical-align:middle;\" /></a></td></tr>\n",
       "<tr><td>15</td><td>ExprTuple</td><td>18, 19</td><td><a class=\"ProveItLink\" href=\"../../common/a96539741093877ddd56debce8fb07198a57128b0/expr.ipynb\"><img src=\"../../common/a96539741093877ddd56debce8fb07198a57128b0/expr.png\" style=\"display:inline;vertical-align:middle;\" /></a></td></tr>\n",
       "<tr><td>16</td><td>Operation</td><td>operator:&nbsp;20<br>operand:&nbsp;25<br></td><td><a class=\"ProveItLink\" href=\"../23759dec0f2073d56576920f18b9e720370733f20/expr.ipynb\"><img src=\"../23759dec0f2073d56576920f18b9e720370733f20/expr.png\" style=\"display:inline;vertical-align:middle;\" /></a></td></tr>\n",
       "<tr><td>17</td><td>Operation</td><td>operator:&nbsp;46<br>operands:&nbsp;22<br></td><td><a class=\"ProveItLink\" href=\"../fef6e1021d06bc7c4ca6f7fdcb14a8ed5f59f2f60/expr.ipynb\"><img src=\"../fef6e1021d06bc7c4ca6f7fdcb14a8ed5f59f2f60/expr.png\" style=\"display:inline;vertical-align:middle;\" /></a></td></tr>\n",
       "<tr><td>18</td><td>Operation</td><td>operator:&nbsp;37<br>operands:&nbsp;23<br></td><td><a class=\"ProveItLink\" href=\"../../common/ee4a676a4be42364242a9905ef40ee55a69e2c2f0/expr.ipynb\"><img src=\"../../common/ee4a676a4be42364242a9905ef40ee55a69e2c2f0/expr.png\" style=\"display:inline;vertical-align:middle;\" /></a></td></tr>\n",
       "<tr><td>19</td><td>Operation</td><td>operator:&nbsp;50<br>operands:&nbsp;24<br></td><td><a class=\"ProveItLink\" href=\"../../common/0792a1d5c4681297bfa0e77c90b2569914aae74f0/expr.ipynb\"><img src=\"../../common/0792a1d5c4681297bfa0e77c90b2569914aae74f0/expr.png\" style=\"display:inline;vertical-align:middle;\" /></a></td></tr>\n",
       "<tr><td>20</td><td>Literal</td><td></td><td><a class=\"ProveItLink\" href=\"../../../../../../numbers/absolute_value/__pv_it/common/6430f141f5f0b9665d136ab5dd21c24f48b3a19c0/expr.ipynb\"><img src=\"../../../../../../numbers/absolute_value/__pv_it/common/6430f141f5f0b9665d136ab5dd21c24f48b3a19c0/expr.png\" style=\"display:inline;vertical-align:middle;\" /></a></td></tr>\n",
       "<tr><td>21</td><td>ExprTuple</td><td>25</td><td><a class=\"ProveItLink\" href=\"../0d3161f86354e68c1085acb2acf9bf5d3230c0650/expr.ipynb\"><img src=\"../0d3161f86354e68c1085acb2acf9bf5d3230c0650/expr.png\" style=\"display:inline;vertical-align:middle;\" /></a></td></tr>\n",
       "<tr><td>22</td><td>ExprTuple</td><td>26, 27</td><td><a class=\"ProveItLink\" href=\"../5085a51cb0379e4d1afdd23f598a34117d6b0e330/expr.ipynb\"><img src=\"../5085a51cb0379e4d1afdd23f598a34117d6b0e330/expr.png\" style=\"display:inline;vertical-align:middle;\" /></a></td></tr>\n",
       "<tr><td>23</td><td>ExprTuple</td><td>28, 42</td><td><a class=\"ProveItLink\" href=\"../../common/94bbb187e0fef07aa0a5eee9dbcfd444be86b2f80/expr.ipynb\"><img src=\"../../common/94bbb187e0fef07aa0a5eee9dbcfd444be86b2f80/expr.png\" style=\"display:inline;vertical-align:middle;\" /></a></td></tr>\n",
       "<tr><td>24</td><td>ExprTuple</td><td>52, 29</td><td><a class=\"ProveItLink\" href=\"../../common/4f96f4a928cdb57c599341d749f9e84260c40fdd0/expr.ipynb\"><img src=\"../../common/4f96f4a928cdb57c599341d749f9e84260c40fdd0/expr.png\" style=\"display:inline;vertical-align:middle;\" /></a></td></tr>\n",
       "<tr><td>25</td><td>Operation</td><td>operator:&nbsp;30<br>operands:&nbsp;31<br></td><td><a class=\"ProveItLink\" href=\"../005cc2ca9f774ce07a44759b8b710dd41c474dd30/expr.ipynb\"><img src=\"../005cc2ca9f774ce07a44759b8b710dd41c474dd30/expr.png\" style=\"display:inline;vertical-align:middle;\" /></a></td></tr>\n",
       "<tr><td>26</td><td>Literal</td><td></td><td><a class=\"ProveItLink\" href=\"../../../../../../numbers/numerals/__pv_it/common/de8f3e06d530f467e73bdbc965d9d86fa0f1b0db0/expr.ipynb\"><img src=\"../../../../../../numbers/numerals/__pv_it/common/de8f3e06d530f467e73bdbc965d9d86fa0f1b0db0/expr.png\" style=\"display:inline;vertical-align:middle;\" /></a></td></tr>\n",
       "<tr><td>27</td><td>Operation</td><td>operator:&nbsp;50<br>operands:&nbsp;32<br></td><td><a class=\"ProveItLink\" href=\"../7dcc4b3cc575105c3b3bf5cb146c88c569f52b2e0/expr.ipynb\"><img src=\"../7dcc4b3cc575105c3b3bf5cb146c88c569f52b2e0/expr.png\" style=\"display:inline;vertical-align:middle;\" /></a></td></tr>\n",
       "<tr><td>28</td><td>Variable</td><td></td><td><a class=\"ProveItLink\" href=\"../../../../../../__pv_it/common/6ccbd8f7424e34c92aa1208d7ccef106f5849c250/expr.ipynb\"><img src=\"../../../../../../__pv_it/common/6ccbd8f7424e34c92aa1208d7ccef106f5849c250/expr.png\" style=\"display:inline;vertical-align:middle;\" /></a></td></tr>\n",
       "<tr><td>29</td><td>Operation</td><td>operator:&nbsp;37<br>operands:&nbsp;33<br></td><td><a class=\"ProveItLink\" href=\"../../common/2bd9790a8ceb0cbaa297908b29d1d26135fb49df0/expr.ipynb\"><img src=\"../../common/2bd9790a8ceb0cbaa297908b29d1d26135fb49df0/expr.png\" style=\"display:inline;vertical-align:middle;\" /></a></td></tr>\n",
       "<tr><td>30</td><td>Literal</td><td></td><td><a class=\"ProveItLink\" href=\"../../common/fa834395d810710d865bb8379bdb0806d419db9b0/expr.ipynb\"><img src=\"../../common/fa834395d810710d865bb8379bdb0806d419db9b0/expr.png\" style=\"display:inline;vertical-align:middle;\" /></a></td></tr>\n",
       "<tr><td>31</td><td>ExprTuple</td><td>34, 40</td><td><a class=\"ProveItLink\" href=\"../805a81dcfe423ebe0dbddfeaa2500c3d80e4277c0/expr.ipynb\"><img src=\"../805a81dcfe423ebe0dbddfeaa2500c3d80e4277c0/expr.png\" style=\"display:inline;vertical-align:middle;\" /></a></td></tr>\n",
       "<tr><td>32</td><td>ExprTuple</td><td>35, 52</td><td><a class=\"ProveItLink\" href=\"../204f93955d385051fc8a92f2b8cbe83d71a9d5680/expr.ipynb\"><img src=\"../204f93955d385051fc8a92f2b8cbe83d71a9d5680/expr.png\" style=\"display:inline;vertical-align:middle;\" /></a></td></tr>\n",
       "<tr><td>33</td><td>ExprTuple</td><td>53, 36</td><td><a class=\"ProveItLink\" href=\"../../common/228a84a9850aca6e9a3f2ee00bbfb728e8599f670/expr.ipynb\"><img src=\"../../common/228a84a9850aca6e9a3f2ee00bbfb728e8599f670/expr.png\" style=\"display:inline;vertical-align:middle;\" /></a></td></tr>\n",
       "<tr><td>34</td><td>Literal</td><td></td><td><a class=\"ProveItLink\" href=\"../../common/7e436a3cff4097047049586cee08457d5f001a270/expr.ipynb\"><img src=\"../../common/7e436a3cff4097047049586cee08457d5f001a270/expr.png\" style=\"display:inline;vertical-align:middle;\" /></a></td></tr>\n",
       "<tr><td>35</td><td>Operation</td><td>operator:&nbsp;37<br>operands:&nbsp;38<br></td><td><a class=\"ProveItLink\" href=\"../d4de0e5765094d1f7acd245847b83a87e5e0134b0/expr.ipynb\"><img src=\"../d4de0e5765094d1f7acd245847b83a87e5e0134b0/expr.png\" style=\"display:inline;vertical-align:middle;\" /></a></td></tr>\n",
       "<tr><td>36</td><td>Operation</td><td>operator:&nbsp;43<br>operand:&nbsp;42<br></td><td><a class=\"ProveItLink\" href=\"../../common/194689aa2092eb5e83b339e69e1c112868251dd50/expr.ipynb\"><img src=\"../../common/194689aa2092eb5e83b339e69e1c112868251dd50/expr.png\" style=\"display:inline;vertical-align:middle;\" /></a></td></tr>\n",
       "<tr><td>37</td><td>Literal</td><td></td><td><a class=\"ProveItLink\" href=\"../../../../../../numbers/addition/__pv_it/common/1f38fe5cce441387feef296e2c0a2eac260bb4f30/expr.ipynb\"><img src=\"../../../../../../numbers/addition/__pv_it/common/1f38fe5cce441387feef296e2c0a2eac260bb4f30/expr.png\" style=\"display:inline;vertical-align:middle;\" /></a></td></tr>\n",
       "<tr><td>38</td><td>ExprTuple</td><td>40, 41</td><td><a class=\"ProveItLink\" href=\"../5dfc800b78b7dd9ce6b76f5c91ff7c3d5757395c0/expr.ipynb\"><img src=\"../5dfc800b78b7dd9ce6b76f5c91ff7c3d5757395c0/expr.png\" style=\"display:inline;vertical-align:middle;\" /></a></td></tr>\n",
       "<tr><td>39</td><td>ExprTuple</td><td>42</td><td><a class=\"ProveItLink\" href=\"../../common/983fb1abdb7789966ec8b7afe0d4f7ca8578c9e50/expr.ipynb\"><img src=\"../../common/983fb1abdb7789966ec8b7afe0d4f7ca8578c9e50/expr.png\" style=\"display:inline;vertical-align:middle;\" /></a></td></tr>\n",
       "<tr><td>40</td><td>Variable</td><td></td><td><a class=\"ProveItLink\" href=\"../../../../../../__pv_it/common/0f21cbfd5644a1cae6781c1d58354abc2ffbc9000/expr.ipynb\"><img src=\"../../../../../../__pv_it/common/0f21cbfd5644a1cae6781c1d58354abc2ffbc9000/expr.png\" style=\"display:inline;vertical-align:middle;\" /></a></td></tr>\n",
       "<tr><td>41</td><td>Operation</td><td>operator:&nbsp;43<br>operand:&nbsp;45<br></td><td><a class=\"ProveItLink\" href=\"../../common/e34e0462b50501af8a9a9d4d289c877867141e210/expr.ipynb\"><img src=\"../../common/e34e0462b50501af8a9a9d4d289c877867141e210/expr.png\" style=\"display:inline;vertical-align:middle;\" /></a></td></tr>\n",
       "<tr><td>42</td><td>Literal</td><td></td><td><a class=\"ProveItLink\" href=\"../../../../../../numbers/numerals/__pv_it/common/d278e359da0695d9652dd541d45264f93703e2e40/expr.ipynb\"><img src=\"../../../../../../numbers/numerals/__pv_it/common/d278e359da0695d9652dd541d45264f93703e2e40/expr.png\" style=\"display:inline;vertical-align:middle;\" /></a></td></tr>\n",
       "<tr><td>43</td><td>Literal</td><td></td><td><a class=\"ProveItLink\" href=\"../../../../../../numbers/negation/__pv_it/common/31a69a5c76809537045e3884859f178d8d9c845c0/expr.ipynb\"><img src=\"../../../../../../numbers/negation/__pv_it/common/31a69a5c76809537045e3884859f178d8d9c845c0/expr.png\" style=\"display:inline;vertical-align:middle;\" /></a></td></tr>\n",
       "<tr><td>44</td><td>ExprTuple</td><td>45</td><td><a class=\"ProveItLink\" href=\"../../common/914a95db840b48d227ee446e19cf9e548078bd900/expr.ipynb\"><img src=\"../../common/914a95db840b48d227ee446e19cf9e548078bd900/expr.png\" style=\"display:inline;vertical-align:middle;\" /></a></td></tr>\n",
       "<tr><td>45</td><td>Operation</td><td>operator:&nbsp;46<br>operands:&nbsp;47<br></td><td><a class=\"ProveItLink\" href=\"../../common/43922168e5cf4a7393bb1b1baec670c5676677c80/expr.ipynb\"><img src=\"../../common/43922168e5cf4a7393bb1b1baec670c5676677c80/expr.png\" style=\"display:inline;vertical-align:middle;\" /></a></td></tr>\n",
       "<tr><td>46</td><td>Literal</td><td></td><td><a class=\"ProveItLink\" href=\"../../../../../../numbers/multiplication/__pv_it/common/c57d60974865e78d434abd3ff22c405685c80ade0/expr.ipynb\"><img src=\"../../../../../../numbers/multiplication/__pv_it/common/c57d60974865e78d434abd3ff22c405685c80ade0/expr.png\" style=\"display:inline;vertical-align:middle;\" /></a></td></tr>\n",
       "<tr><td>47</td><td>ExprTuple</td><td>48, 49</td><td><a class=\"ProveItLink\" href=\"../../common/9edcdabdc62ca9442a03b509ca93d8cd9f5933610/expr.ipynb\"><img src=\"../../common/9edcdabdc62ca9442a03b509ca93d8cd9f5933610/expr.png\" style=\"display:inline;vertical-align:middle;\" /></a></td></tr>\n",
       "<tr><td>48</td><td>Operation</td><td>operator:&nbsp;50<br>operands:&nbsp;51<br></td><td><a class=\"ProveItLink\" href=\"../../common/457b0dff65b633b4c78260366925739952a96c890/expr.ipynb\"><img src=\"../../common/457b0dff65b633b4c78260366925739952a96c890/expr.png\" style=\"display:inline;vertical-align:middle;\" /></a></td></tr>\n",
       "<tr><td>49</td><td>Literal</td><td></td><td><a class=\"ProveItLink\" href=\"../../common/e91e9cfa9469f3503bad3b38ab53238166f5c5230/expr.ipynb\"><img src=\"../../common/e91e9cfa9469f3503bad3b38ab53238166f5c5230/expr.png\" style=\"display:inline;vertical-align:middle;\" /></a></td></tr>\n",
       "<tr><td>50</td><td>Literal</td><td></td><td><a class=\"ProveItLink\" href=\"../../../../../../numbers/exponentiation/__pv_it/common/31d1b89e3c2fad7d997556c69b6be6425b6f59a40/expr.ipynb\"><img src=\"../../../../../../numbers/exponentiation/__pv_it/common/31d1b89e3c2fad7d997556c69b6be6425b6f59a40/expr.png\" style=\"display:inline;vertical-align:middle;\" /></a></td></tr>\n",
       "<tr><td>51</td><td>ExprTuple</td><td>52, 53</td><td><a class=\"ProveItLink\" href=\"../../common/dfb548d7806faf732c1098b1ba9dc3cc77d363740/expr.ipynb\"><img src=\"../../common/dfb548d7806faf732c1098b1ba9dc3cc77d363740/expr.png\" style=\"display:inline;vertical-align:middle;\" /></a></td></tr>\n",
       "<tr><td>52</td><td>Literal</td><td></td><td><a class=\"ProveItLink\" href=\"../../../../../../numbers/numerals/__pv_it/common/3829356ce3fdf8f35810c63c00bc1a19e838663e0/expr.ipynb\"><img src=\"../../../../../../numbers/numerals/__pv_it/common/3829356ce3fdf8f35810c63c00bc1a19e838663e0/expr.png\" style=\"display:inline;vertical-align:middle;\" /></a></td></tr>\n",
       "<tr><td>53</td><td>Literal</td><td></td><td><a class=\"ProveItLink\" href=\"../../common/39c1d684e38b5dd4cd200cf6f134282993af2c0b0/expr.ipynb\"><img src=\"../../common/39c1d684e38b5dd4cd200cf6f134282993af2c0b0/expr.png\" style=\"display:inline;vertical-align:middle;\" /></a></td></tr>\n",
       "</table>\n"
      ],
      "text/plain": [
       "0. y -> {|alpha_{y}|^{2} <= (1 / (4 * (y - (2^{t} * delta))^{2})) if y in {eps + 1...2^{t - 1}}.\n",
       "   core type: Lambda\n",
       "   parameter: 40\n",
       "   body: 1\n",
       "1. {|alpha_{y}|^{2} <= (1 / (4 * (y - (2^{t} * delta))^{2})) if y in {eps + 1...2^{t - 1}}.\n",
       "   core type: Conditional\n",
       "   value: 2\n",
       "   condition: 3\n",
       "2. |alpha_{y}|^{2} <= (1 / (4 * (y - (2^{t} * delta))^{2}))\n",
       "   core type: Operation\n",
       "   operator: 4\n",
       "   operands: 5\n",
       "3. y in {eps + 1...2^{t - 1}}\n",
       "   core type: Operation\n",
       "   operator: 6\n",
       "   operands: 7\n",
       "4. <=\n",
       "   core type: Literal\n",
       "   sub-expressions: \n",
       "5. (|alpha_{y}|^{2}, 1 / (4 * (y - (2^{t} * delta))^{2}))\n",
       "   core type: ExprTuple\n",
       "   sub-expressions: 8, 9\n",
       "6. in\n",
       "   core type: Literal\n",
       "   sub-expressions: \n",
       "7. (y, {eps + 1...2^{t - 1}})\n",
       "   core type: ExprTuple\n",
       "   sub-expressions: 40, 10\n",
       "8. |alpha_{y}|^{2}\n",
       "   core type: Operation\n",
       "   operator: 50\n",
       "   operands: 11\n",
       "9. 1 / (4 * (y - (2^{t} * delta))^{2})\n",
       "   core type: Operation\n",
       "   operator: 12\n",
       "   operands: 13\n",
       "10. {eps + 1...2^{t - 1}}\n",
       "    core type: Operation\n",
       "    operator: 14\n",
       "    operands: 15\n",
       "11. (|alpha_{y}|, 2)\n",
       "    core type: ExprTuple\n",
       "    sub-expressions: 16, 52\n",
       "12. /\n",
       "    core type: Literal\n",
       "    sub-expressions: \n",
       "13. (1, 4 * (y - (2^{t} * delta))^{2})\n",
       "    core type: ExprTuple\n",
       "    sub-expressions: 42, 17\n",
       "14. Interval\n",
       "    core type: Literal\n",
       "    sub-expressions: \n",
       "15. (eps + 1, 2^{t - 1})\n",
       "    core type: ExprTuple\n",
       "    sub-expressions: 18, 19\n",
       "16. |alpha_{y}|\n",
       "    core type: Operation\n",
       "    operator: 20\n",
       "    operand: 25\n",
       "17. 4 * (y - (2^{t} * delta))^{2}\n",
       "    core type: Operation\n",
       "    operator: 46\n",
       "    operands: 22\n",
       "18. eps + 1\n",
       "    core type: Operation\n",
       "    operator: 37\n",
       "    operands: 23\n",
       "19. 2^{t - 1}\n",
       "    core type: Operation\n",
       "    operator: 50\n",
       "    operands: 24\n",
       "20. Abs\n",
       "    core type: Literal\n",
       "    sub-expressions: \n",
       "21. (alpha_{y})\n",
       "    core type: ExprTuple\n",
       "    sub-expressions: 25\n",
       "22. (4, (y - (2^{t} * delta))^{2})\n",
       "    core type: ExprTuple\n",
       "    sub-expressions: 26, 27\n",
       "23. (eps, 1)\n",
       "    core type: ExprTuple\n",
       "    sub-expressions: 28, 42\n",
       "24. (2, t - 1)\n",
       "    core type: ExprTuple\n",
       "    sub-expressions: 52, 29\n",
       "25. alpha_{y}\n",
       "    core type: Operation\n",
       "    operator: 30\n",
       "    operands: 31\n",
       "26. 4\n",
       "    core type: Literal\n",
       "    sub-expressions: \n",
       "27. (y - (2^{t} * delta))^{2}\n",
       "    core type: Operation\n",
       "    operator: 50\n",
       "    operands: 32\n",
       "28. eps\n",
       "    core type: Variable\n",
       "    sub-expressions: \n",
       "29. t - 1\n",
       "    core type: Operation\n",
       "    operator: 37\n",
       "    operands: 33\n",
       "30. SUB_INDEXED\n",
       "    core type: Literal\n",
       "    sub-expressions: \n",
       "31. (alpha, y)\n",
       "    core type: ExprTuple\n",
       "    sub-expressions: 34, 40\n",
       "32. (y - (2^{t} * delta), 2)\n",
       "    core type: ExprTuple\n",
       "    sub-expressions: 35, 52\n",
       "33. (t, -1)\n",
       "    core type: ExprTuple\n",
       "    sub-expressions: 53, 36\n",
       "34. alpha\n",
       "    core type: Literal\n",
       "    sub-expressions: \n",
       "35. y - (2^{t} * delta)\n",
       "    core type: Operation\n",
       "    operator: 37\n",
       "    operands: 38\n",
       "36. -1\n",
       "    core type: Operation\n",
       "    operator: 43\n",
       "    operand: 42\n",
       "37. +\n",
       "    core type: Literal\n",
       "    sub-expressions: \n",
       "38. (y, -(2^{t} * delta))\n",
       "    core type: ExprTuple\n",
       "    sub-expressions: 40, 41\n",
       "39. (1)\n",
       "    core type: ExprTuple\n",
       "    sub-expressions: 42\n",
       "40. y\n",
       "    core type: Variable\n",
       "    sub-expressions: \n",
       "41. -(2^{t} * delta)\n",
       "    core type: Operation\n",
       "    operator: 43\n",
       "    operand: 45\n",
       "42. 1\n",
       "    core type: Literal\n",
       "    sub-expressions: \n",
       "43. -\n",
       "    core type: Literal\n",
       "    sub-expressions: \n",
       "44. (2^{t} * delta)\n",
       "    core type: ExprTuple\n",
       "    sub-expressions: 45\n",
       "45. 2^{t} * delta\n",
       "    core type: Operation\n",
       "    operator: 46\n",
       "    operands: 47\n",
       "46. *\n",
       "    core type: Literal\n",
       "    sub-expressions: \n",
       "47. (2^{t}, delta)\n",
       "    core type: ExprTuple\n",
       "    sub-expressions: 48, 49\n",
       "48. 2^{t}\n",
       "    core type: Operation\n",
       "    operator: 50\n",
       "    operands: 51\n",
       "49. delta\n",
       "    core type: Literal\n",
       "    sub-expressions: \n",
       "50. Exp\n",
       "    core type: Literal\n",
       "    sub-expressions: \n",
       "51. (2, t)\n",
       "    core type: ExprTuple\n",
       "    sub-expressions: 52, 53\n",
       "52. 2\n",
       "    core type: Literal\n",
       "    sub-expressions: \n",
       "53. t\n",
       "    core type: Literal\n",
       "    sub-expressions: "
      ]
     },
     "execution_count": 6,
     "metadata": {},
     "output_type": "execute_result"
    }
   ],
   "source": [
    "# display the expression information\n",
    "expr.expr_info()"
   ]
  },
  {
   "cell_type": "code",
   "execution_count": null,
   "metadata": {},
   "outputs": [],
   "source": []
  }
 ],
 "metadata": {
  "kernelspec": {
   "display_name": "Python 3",
   "language": "python",
   "name": "python3"
  }
 },
 "nbformat": 4,
 "nbformat_minor": 0
}