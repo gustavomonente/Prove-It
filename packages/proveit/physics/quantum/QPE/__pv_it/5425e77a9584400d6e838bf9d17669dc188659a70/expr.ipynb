{
 "cells": [
  {
   "cell_type": "markdown",
   "metadata": {},
   "source": [
    "Expression of type <a class=\"ProveItLink\" href=\"../../../../../../../doc/html/api/proveit.Lambda.html\">Lambda</a>\n",
    "=======================\n",
    "# from context <a class=\"ProveItLink\" href=\"../../_context_.ipynb\">proveit.physics.quantum.QPE</a>"
   ]
  },
  {
   "cell_type": "code",
   "execution_count": 1,
   "metadata": {},
   "outputs": [],
   "source": [
    "import proveit\n",
    "# Automation is not needed when building an expression:\n",
    "proveit.defaults.automation = False # This will speed things up.\n",
    "proveit.defaults.inline_pngs = False # Makes files smaller.\n",
    "# import Expression classes needed to build the expression\n",
    "from proveit import Conditional, Lambda, Literal\n",
    "from proveit._common_ import l\n",
    "from proveit.logic import InSet\n",
    "from proveit.number import Add, Exp, Interval, IntervalCC, Mult, Neg, frac, one, pi, two"
   ]
  },
  {
   "cell_type": "code",
   "execution_count": 2,
   "metadata": {},
   "outputs": [
    {
     "data": {
      "text/html": [
       "<strong id=\"expr\">expr:</strong> <a class=\"ProveItLink\" href=\"expr.ipynb\"><img src=\"expr.png\" style=\"display:inline;vertical-align:middle;\" /></a><br>"
      ],
      "text/plain": [
       "expr: l -> {(2 * pi * (delta - (l / 2^{t}))) in [-pi,pi] if l in {-2^{t - 1} + 1...2^{t - 1}}."
      ]
     },
     "execution_count": 2,
     "metadata": {},
     "output_type": "execute_result"
    }
   ],
   "source": [
    "# build up the expression from sub-expressions\n",
    "subExpr1 = Exp(two, Add(Literal(\"t\", context = \"proveit.physics.quantum.QPE\"), Neg(one)))\n",
    "expr = Lambda(l, Conditional(InSet(Mult(two, pi, Add(Literal(\"delta\", latexFormat = r\"\\delta\", context = \"proveit.physics.quantum.QPE\"), Neg(frac(l, Exp(two, Literal(\"t\", context = \"proveit.physics.quantum.QPE\")))))), IntervalCC(Neg(pi), pi)), InSet(l, Interval(Add(Neg(subExpr1), one), subExpr1))))"
   ]
  },
  {
   "cell_type": "code",
   "execution_count": 3,
   "metadata": {},
   "outputs": [
    {
     "name": "stdout",
     "output_type": "stream",
     "text": [
      "Passed sanity check: built 'expr' is the same as the stored Expression.\n"
     ]
    }
   ],
   "source": [
    "# check that the built expression is the same as the stored expression\n",
    "%check_expr"
   ]
  },
  {
   "cell_type": "code",
   "execution_count": 4,
   "metadata": {},
   "outputs": [
    {
     "name": "stdout",
     "output_type": "stream",
     "text": [
      "l \\mapsto \\left\\{\\left(2 \\cdot \\pi \\cdot \\left(\\delta - \\frac{l}{2^{t}}\\right)\\right) \\in \\left[-\\pi,\\pi\\right] \\textrm{ if } l \\in \\{-2^{t - 1} + 1 \\dots 2^{t - 1}\\}\\right..\n"
     ]
    }
   ],
   "source": [
    "# Show the LaTeX representation of the expression for convenience if you need it.\n",
    "print(expr.latex())"
   ]
  },
  {
   "cell_type": "code",
   "execution_count": 5,
   "metadata": {},
   "outputs": [
    {
     "data": {
      "text/html": [
       "<table><tr><th>&nbsp;</th><th>core type</th><th>sub-expressions</th><th>expression</th></tr>\n",
       "<tr><td>0</td><td>Lambda</td><td>parameter:&nbsp;30<br>body:&nbsp;1<br></td><td><a class=\"ProveItLink\" href=\"expr.ipynb\"><img src=\"expr.png\" style=\"display:inline;vertical-align:middle;\" /></a></td></tr>\n",
       "<tr><td>1</td><td>Conditional</td><td>value:&nbsp;2<br>condition:&nbsp;3<br></td><td><a class=\"ProveItLink\" href=\"../57a94870a1d82198dc2831a2e55064ca1e0ad7ab0/expr.ipynb\"><img src=\"../57a94870a1d82198dc2831a2e55064ca1e0ad7ab0/expr.png\" style=\"display:inline;vertical-align:middle;\" /></a></td></tr>\n",
       "<tr><td>2</td><td>Operation</td><td>operator:&nbsp;5<br>operands:&nbsp;4<br></td><td><a class=\"ProveItLink\" href=\"../94dbcef6767cef2964c2c14f776bfbbf601535f90/expr.ipynb\"><img src=\"../94dbcef6767cef2964c2c14f776bfbbf601535f90/expr.png\" style=\"display:inline;vertical-align:middle;\" /></a></td></tr>\n",
       "<tr><td>3</td><td>Operation</td><td>operator:&nbsp;5<br>operands:&nbsp;6<br></td><td><a class=\"ProveItLink\" href=\"../160c5bb4ad7ee30dff5e104be55dfdfc201d3b0f0/expr.ipynb\"><img src=\"../160c5bb4ad7ee30dff5e104be55dfdfc201d3b0f0/expr.png\" style=\"display:inline;vertical-align:middle;\" /></a></td></tr>\n",
       "<tr><td>4</td><td>ExprTuple</td><td>7, 8</td><td><a class=\"ProveItLink\" href=\"../9656a403e793ec82f09363aa682e1054609dbb830/expr.ipynb\"><img src=\"../9656a403e793ec82f09363aa682e1054609dbb830/expr.png\" style=\"display:inline;vertical-align:middle;\" /></a></td></tr>\n",
       "<tr><td>5</td><td>Literal</td><td></td><td><a class=\"ProveItLink\" href=\"../../../../../logic/set_theory/membership/__pv_it/7776fc89cb67d0b5b1ec2c0c8e08da5587921ccf0/expr.ipynb\"><img src=\"../../../../../logic/set_theory/membership/__pv_it/7776fc89cb67d0b5b1ec2c0c8e08da5587921ccf0/expr.png\" style=\"display:inline;vertical-align:middle;\" /></a></td></tr>\n",
       "<tr><td>6</td><td>ExprTuple</td><td>30, 9</td><td><a class=\"ProveItLink\" href=\"../257c9580fbd4d6afdbfa49fe3f5eb7b8f3499e670/expr.ipynb\"><img src=\"../257c9580fbd4d6afdbfa49fe3f5eb7b8f3499e670/expr.png\" style=\"display:inline;vertical-align:middle;\" /></a></td></tr>\n",
       "<tr><td>7</td><td>Operation</td><td>operator:&nbsp;10<br>operands:&nbsp;11<br></td><td><a class=\"ProveItLink\" href=\"../097733023efb0e02f55f84fa67bad6f296a530cf0/expr.ipynb\"><img src=\"../097733023efb0e02f55f84fa67bad6f296a530cf0/expr.png\" style=\"display:inline;vertical-align:middle;\" /></a></td></tr>\n",
       "<tr><td>8</td><td>Operation</td><td>operator:&nbsp;12<br>operands:&nbsp;13<br></td><td><a class=\"ProveItLink\" href=\"../5766bdd9f72958cc2763a1d5215dc12c492656a00/expr.ipynb\"><img src=\"../5766bdd9f72958cc2763a1d5215dc12c492656a00/expr.png\" style=\"display:inline;vertical-align:middle;\" /></a></td></tr>\n",
       "<tr><td>9</td><td>Operation</td><td>operator:&nbsp;14<br>operands:&nbsp;15<br></td><td><a class=\"ProveItLink\" href=\"../4e345dcae140b7f3f13d3bada7a3c2251b6aa9ff0/expr.ipynb\"><img src=\"../4e345dcae140b7f3f13d3bada7a3c2251b6aa9ff0/expr.png\" style=\"display:inline;vertical-align:middle;\" /></a></td></tr>\n",
       "<tr><td>10</td><td>Literal</td><td></td><td><a class=\"ProveItLink\" href=\"../../../../../number/multiplication/__pv_it/f7a1ed7c35c8c884cf4c236d27cb79bf85638cad0/expr.ipynb\"><img src=\"../../../../../number/multiplication/__pv_it/f7a1ed7c35c8c884cf4c236d27cb79bf85638cad0/expr.png\" style=\"display:inline;vertical-align:middle;\" /></a></td></tr>\n",
       "<tr><td>11</td><td>ExprTuple</td><td>37, 20, 16</td><td><a class=\"ProveItLink\" href=\"../e8c1e4d2f8a99af6bba444c86c4f536352f81be70/expr.ipynb\"><img src=\"../e8c1e4d2f8a99af6bba444c86c4f536352f81be70/expr.png\" style=\"display:inline;vertical-align:middle;\" /></a></td></tr>\n",
       "<tr><td>12</td><td>Literal</td><td></td><td><a class=\"ProveItLink\" href=\"../../../../../number/sets/real/__pv_it/1d1fa14ae7b51d26c1457e4c6d08fda5e82d607d0/expr.ipynb\"><img src=\"../../../../../number/sets/real/__pv_it/1d1fa14ae7b51d26c1457e4c6d08fda5e82d607d0/expr.png\" style=\"display:inline;vertical-align:middle;\" /></a></td></tr>\n",
       "<tr><td>13</td><td>ExprTuple</td><td>17, 20</td><td><a class=\"ProveItLink\" href=\"../3931fca825af1cbdb76f5b6a9bd8400ad4dfd3400/expr.ipynb\"><img src=\"../3931fca825af1cbdb76f5b6a9bd8400ad4dfd3400/expr.png\" style=\"display:inline;vertical-align:middle;\" /></a></td></tr>\n",
       "<tr><td>14</td><td>Literal</td><td></td><td><a class=\"ProveItLink\" href=\"../../../../../number/sets/integer/__pv_it/9c81416d3aeee14eb5f33b511a478176b3f50d040/expr.ipynb\"><img src=\"../../../../../number/sets/integer/__pv_it/9c81416d3aeee14eb5f33b511a478176b3f50d040/expr.png\" style=\"display:inline;vertical-align:middle;\" /></a></td></tr>\n",
       "<tr><td>15</td><td>ExprTuple</td><td>18, 26</td><td><a class=\"ProveItLink\" href=\"../32512628d7c5ed23adbce2eaf7fe8883ab886ef70/expr.ipynb\"><img src=\"../32512628d7c5ed23adbce2eaf7fe8883ab886ef70/expr.png\" style=\"display:inline;vertical-align:middle;\" /></a></td></tr>\n",
       "<tr><td>16</td><td>Operation</td><td>operator:&nbsp;35<br>operands:&nbsp;19<br></td><td><a class=\"ProveItLink\" href=\"../00e2693e28c03439b6b1d5d38ae84621924e9d6f0/expr.ipynb\"><img src=\"../00e2693e28c03439b6b1d5d38ae84621924e9d6f0/expr.png\" style=\"display:inline;vertical-align:middle;\" /></a></td></tr>\n",
       "<tr><td>17</td><td>Operation</td><td>operator:&nbsp;40<br>operand:&nbsp;20<br></td><td><a class=\"ProveItLink\" href=\"../37a856e48ebd2981fcceee2ac36b96e37fcbf0e90/expr.ipynb\"><img src=\"../37a856e48ebd2981fcceee2ac36b96e37fcbf0e90/expr.png\" style=\"display:inline;vertical-align:middle;\" /></a></td></tr>\n",
       "<tr><td>18</td><td>Operation</td><td>operator:&nbsp;35<br>operands:&nbsp;21<br></td><td><a class=\"ProveItLink\" href=\"../5eb31d563f88f61f668ffd333a25345d061770b70/expr.ipynb\"><img src=\"../5eb31d563f88f61f668ffd333a25345d061770b70/expr.png\" style=\"display:inline;vertical-align:middle;\" /></a></td></tr>\n",
       "<tr><td>19</td><td>ExprTuple</td><td>22, 23</td><td><a class=\"ProveItLink\" href=\"../5a80982c6eae2324c070b980767d1a1acdfb27b80/expr.ipynb\"><img src=\"../5a80982c6eae2324c070b980767d1a1acdfb27b80/expr.png\" style=\"display:inline;vertical-align:middle;\" /></a></td></tr>\n",
       "<tr><td>20</td><td>Literal</td><td></td><td><a class=\"ProveItLink\" href=\"../../../../../number/sets/real/__pv_it/55b5998cc1eb0bfddda5f6659b80f98cb2e83cc10/expr.ipynb\"><img src=\"../../../../../number/sets/real/__pv_it/55b5998cc1eb0bfddda5f6659b80f98cb2e83cc10/expr.png\" style=\"display:inline;vertical-align:middle;\" /></a></td></tr>\n",
       "<tr><td>21</td><td>ExprTuple</td><td>24, 41</td><td><a class=\"ProveItLink\" href=\"../6de02cb629cfbc925cbf6260fb80ae67b6fbf9fc0/expr.ipynb\"><img src=\"../6de02cb629cfbc925cbf6260fb80ae67b6fbf9fc0/expr.png\" style=\"display:inline;vertical-align:middle;\" /></a></td></tr>\n",
       "<tr><td>22</td><td>Literal</td><td></td><td><a class=\"ProveItLink\" href=\"../7b94d0b5a6203ca5ebef473f179513660f922b3d0/expr.ipynb\"><img src=\"../7b94d0b5a6203ca5ebef473f179513660f922b3d0/expr.png\" style=\"display:inline;vertical-align:middle;\" /></a></td></tr>\n",
       "<tr><td>23</td><td>Operation</td><td>operator:&nbsp;40<br>operand:&nbsp;25<br></td><td><a class=\"ProveItLink\" href=\"../e8f916372988be842d4b2f979590d8d6a66ce28c0/expr.ipynb\"><img src=\"../e8f916372988be842d4b2f979590d8d6a66ce28c0/expr.png\" style=\"display:inline;vertical-align:middle;\" /></a></td></tr>\n",
       "<tr><td>24</td><td>Operation</td><td>operator:&nbsp;40<br>operand:&nbsp;26<br></td><td><a class=\"ProveItLink\" href=\"../85fec0678e8d4832a26b7925ab0e1e41a8bd90a50/expr.ipynb\"><img src=\"../85fec0678e8d4832a26b7925ab0e1e41a8bd90a50/expr.png\" style=\"display:inline;vertical-align:middle;\" /></a></td></tr>\n",
       "<tr><td>25</td><td>Operation</td><td>operator:&nbsp;27<br>operands:&nbsp;28<br></td><td><a class=\"ProveItLink\" href=\"../85c7624598739304a5cbd08845d9ae800200a6fa0/expr.ipynb\"><img src=\"../85c7624598739304a5cbd08845d9ae800200a6fa0/expr.png\" style=\"display:inline;vertical-align:middle;\" /></a></td></tr>\n",
       "<tr><td>26</td><td>Operation</td><td>operator:&nbsp;33<br>operands:&nbsp;29<br></td><td><a class=\"ProveItLink\" href=\"../53e7167cb7a3e2024f061806596ebd273cf217740/expr.ipynb\"><img src=\"../53e7167cb7a3e2024f061806596ebd273cf217740/expr.png\" style=\"display:inline;vertical-align:middle;\" /></a></td></tr>\n",
       "<tr><td>27</td><td>Literal</td><td></td><td><a class=\"ProveItLink\" href=\"../../../../../number/division/__pv_it/7a11ad25d6e61156459ac6819a1cec8fded2dde30/expr.ipynb\"><img src=\"../../../../../number/division/__pv_it/7a11ad25d6e61156459ac6819a1cec8fded2dde30/expr.png\" style=\"display:inline;vertical-align:middle;\" /></a></td></tr>\n",
       "<tr><td>28</td><td>ExprTuple</td><td>30, 31</td><td><a class=\"ProveItLink\" href=\"../6dab4435e84be7b5e380c1bc71fde4ed22d05fbe0/expr.ipynb\"><img src=\"../6dab4435e84be7b5e380c1bc71fde4ed22d05fbe0/expr.png\" style=\"display:inline;vertical-align:middle;\" /></a></td></tr>\n",
       "<tr><td>29</td><td>ExprTuple</td><td>37, 32</td><td><a class=\"ProveItLink\" href=\"../bc224616db1239eb42b32d1ac5c3bd8125aa650f0/expr.ipynb\"><img src=\"../bc224616db1239eb42b32d1ac5c3bd8125aa650f0/expr.png\" style=\"display:inline;vertical-align:middle;\" /></a></td></tr>\n",
       "<tr><td>30</td><td>Variable</td><td></td><td><a class=\"ProveItLink\" href=\"../../../../../__pv_it/146a2ac733407ae00030c58af25a3e0f465a566a0/expr.ipynb\"><img src=\"../../../../../__pv_it/146a2ac733407ae00030c58af25a3e0f465a566a0/expr.png\" style=\"display:inline;vertical-align:middle;\" /></a></td></tr>\n",
       "<tr><td>31</td><td>Operation</td><td>operator:&nbsp;33<br>operands:&nbsp;34<br></td><td><a class=\"ProveItLink\" href=\"../64a58e3f39a33f21e5e35d3f8a5b3f786c42467c0/expr.ipynb\"><img src=\"../64a58e3f39a33f21e5e35d3f8a5b3f786c42467c0/expr.png\" style=\"display:inline;vertical-align:middle;\" /></a></td></tr>\n",
       "<tr><td>32</td><td>Operation</td><td>operator:&nbsp;35<br>operands:&nbsp;36<br></td><td><a class=\"ProveItLink\" href=\"../a00fc0239269d4df989d382c1d9a5f0580a00ba30/expr.ipynb\"><img src=\"../a00fc0239269d4df989d382c1d9a5f0580a00ba30/expr.png\" style=\"display:inline;vertical-align:middle;\" /></a></td></tr>\n",
       "<tr><td>33</td><td>Literal</td><td></td><td><a class=\"ProveItLink\" href=\"../../../../../number/exponentiation/__pv_it/fca8e4218e687a7bc372d4b4009101e95bae518f0/expr.ipynb\"><img src=\"../../../../../number/exponentiation/__pv_it/fca8e4218e687a7bc372d4b4009101e95bae518f0/expr.png\" style=\"display:inline;vertical-align:middle;\" /></a></td></tr>\n",
       "<tr><td>34</td><td>ExprTuple</td><td>37, 38</td><td><a class=\"ProveItLink\" href=\"../9d0bc158759d7456120c36cdb596192fce0182ba0/expr.ipynb\"><img src=\"../9d0bc158759d7456120c36cdb596192fce0182ba0/expr.png\" style=\"display:inline;vertical-align:middle;\" /></a></td></tr>\n",
       "<tr><td>35</td><td>Literal</td><td></td><td><a class=\"ProveItLink\" href=\"../../../../../number/addition/__pv_it/65ad7e8aee19b10110d590375ba95a879c4fb7ea0/expr.ipynb\"><img src=\"../../../../../number/addition/__pv_it/65ad7e8aee19b10110d590375ba95a879c4fb7ea0/expr.png\" style=\"display:inline;vertical-align:middle;\" /></a></td></tr>\n",
       "<tr><td>36</td><td>ExprTuple</td><td>38, 39</td><td><a class=\"ProveItLink\" href=\"../d9c809c246c1743a958617867411d5180042db1e0/expr.ipynb\"><img src=\"../d9c809c246c1743a958617867411d5180042db1e0/expr.png\" style=\"display:inline;vertical-align:middle;\" /></a></td></tr>\n",
       "<tr><td>37</td><td>Literal</td><td></td><td><a class=\"ProveItLink\" href=\"../../../../../number/numeral/__pv_it/fb4ccffdbfd0f653ebaacb95e7ff4802fd48a6f20/expr.ipynb\"><img src=\"../../../../../number/numeral/__pv_it/fb4ccffdbfd0f653ebaacb95e7ff4802fd48a6f20/expr.png\" style=\"display:inline;vertical-align:middle;\" /></a></td></tr>\n",
       "<tr><td>38</td><td>Literal</td><td></td><td><a class=\"ProveItLink\" href=\"../96bcbff08fa521257bc78a97fedf1068dcbd0e2d0/expr.ipynb\"><img src=\"../96bcbff08fa521257bc78a97fedf1068dcbd0e2d0/expr.png\" style=\"display:inline;vertical-align:middle;\" /></a></td></tr>\n",
       "<tr><td>39</td><td>Operation</td><td>operator:&nbsp;40<br>operand:&nbsp;41<br></td><td><a class=\"ProveItLink\" href=\"../01559348096b98a1dd2ebcf5c288189c829b18930/expr.ipynb\"><img src=\"../01559348096b98a1dd2ebcf5c288189c829b18930/expr.png\" style=\"display:inline;vertical-align:middle;\" /></a></td></tr>\n",
       "<tr><td>40</td><td>Literal</td><td></td><td><a class=\"ProveItLink\" href=\"../../../../../number/negation/__pv_it/2867787e35502987d81a45cac8e7f1c6996d6ff40/expr.ipynb\"><img src=\"../../../../../number/negation/__pv_it/2867787e35502987d81a45cac8e7f1c6996d6ff40/expr.png\" style=\"display:inline;vertical-align:middle;\" /></a></td></tr>\n",
       "<tr><td>41</td><td>Literal</td><td></td><td><a class=\"ProveItLink\" href=\"../../../../../number/numeral/__pv_it/f086f8c372bd40a2458306ddfdbb29f3dc6f63030/expr.ipynb\"><img src=\"../../../../../number/numeral/__pv_it/f086f8c372bd40a2458306ddfdbb29f3dc6f63030/expr.png\" style=\"display:inline;vertical-align:middle;\" /></a></td></tr>\n",
       "</table>\n"
      ],
      "text/plain": [
       "0. l -> {(2 * pi * (delta - (l / 2^{t}))) in [-pi,pi] if l in {-2^{t - 1} + 1...2^{t - 1}}.\n",
       "   core type: Lambda\n",
       "   parameter: 30\n",
       "   body: 1\n",
       "1. {(2 * pi * (delta - (l / 2^{t}))) in [-pi,pi] if l in {-2^{t - 1} + 1...2^{t - 1}}.\n",
       "   core type: Conditional\n",
       "   value: 2\n",
       "   condition: 3\n",
       "2. (2 * pi * (delta - (l / 2^{t}))) in [-pi,pi]\n",
       "   core type: Operation\n",
       "   operator: 5\n",
       "   operands: 4\n",
       "3. l in {-2^{t - 1} + 1...2^{t - 1}}\n",
       "   core type: Operation\n",
       "   operator: 5\n",
       "   operands: 6\n",
       "4. (2 * pi * (delta - (l / 2^{t})), [-pi,pi])\n",
       "   core type: ExprTuple\n",
       "   sub-expressions: 7, 8\n",
       "5. in\n",
       "   core type: Literal\n",
       "   sub-expressions: \n",
       "6. (l, {-2^{t - 1} + 1...2^{t - 1}})\n",
       "   core type: ExprTuple\n",
       "   sub-expressions: 30, 9\n",
       "7. 2 * pi * (delta - (l / 2^{t}))\n",
       "   core type: Operation\n",
       "   operator: 10\n",
       "   operands: 11\n",
       "8. [-pi,pi]\n",
       "   core type: Operation\n",
       "   operator: 12\n",
       "   operands: 13\n",
       "9. {-2^{t - 1} + 1...2^{t - 1}}\n",
       "   core type: Operation\n",
       "   operator: 14\n",
       "   operands: 15\n",
       "10. *\n",
       "    core type: Literal\n",
       "    sub-expressions: \n",
       "11. (2, pi, delta - (l / 2^{t}))\n",
       "    core type: ExprTuple\n",
       "    sub-expressions: 37, 20, 16\n",
       "12. IntervalCC\n",
       "    core type: Literal\n",
       "    sub-expressions: \n",
       "13. (-pi, pi)\n",
       "    core type: ExprTuple\n",
       "    sub-expressions: 17, 20\n",
       "14. Interval\n",
       "    core type: Literal\n",
       "    sub-expressions: \n",
       "15. (-2^{t - 1} + 1, 2^{t - 1})\n",
       "    core type: ExprTuple\n",
       "    sub-expressions: 18, 26\n",
       "16. delta - (l / 2^{t})\n",
       "    core type: Operation\n",
       "    operator: 35\n",
       "    operands: 19\n",
       "17. -pi\n",
       "    core type: Operation\n",
       "    operator: 40\n",
       "    operand: 20\n",
       "18. -2^{t - 1} + 1\n",
       "    core type: Operation\n",
       "    operator: 35\n",
       "    operands: 21\n",
       "19. (delta, -(l / 2^{t}))\n",
       "    core type: ExprTuple\n",
       "    sub-expressions: 22, 23\n",
       "20. pi\n",
       "    core type: Literal\n",
       "    sub-expressions: \n",
       "21. (-2^{t - 1}, 1)\n",
       "    core type: ExprTuple\n",
       "    sub-expressions: 24, 41\n",
       "22. delta\n",
       "    core type: Literal\n",
       "    sub-expressions: \n",
       "23. -(l / 2^{t})\n",
       "    core type: Operation\n",
       "    operator: 40\n",
       "    operand: 25\n",
       "24. -2^{t - 1}\n",
       "    core type: Operation\n",
       "    operator: 40\n",
       "    operand: 26\n",
       "25. l / 2^{t}\n",
       "    core type: Operation\n",
       "    operator: 27\n",
       "    operands: 28\n",
       "26. 2^{t - 1}\n",
       "    core type: Operation\n",
       "    operator: 33\n",
       "    operands: 29\n",
       "27. /\n",
       "    core type: Literal\n",
       "    sub-expressions: \n",
       "28. (l, 2^{t})\n",
       "    core type: ExprTuple\n",
       "    sub-expressions: 30, 31\n",
       "29. (2, t - 1)\n",
       "    core type: ExprTuple\n",
       "    sub-expressions: 37, 32\n",
       "30. l\n",
       "    core type: Variable\n",
       "    sub-expressions: \n",
       "31. 2^{t}\n",
       "    core type: Operation\n",
       "    operator: 33\n",
       "    operands: 34\n",
       "32. t - 1\n",
       "    core type: Operation\n",
       "    operator: 35\n",
       "    operands: 36\n",
       "33. Exp\n",
       "    core type: Literal\n",
       "    sub-expressions: \n",
       "34. (2, t)\n",
       "    core type: ExprTuple\n",
       "    sub-expressions: 37, 38\n",
       "35. +\n",
       "    core type: Literal\n",
       "    sub-expressions: \n",
       "36. (t, -1)\n",
       "    core type: ExprTuple\n",
       "    sub-expressions: 38, 39\n",
       "37. 2\n",
       "    core type: Literal\n",
       "    sub-expressions: \n",
       "38. t\n",
       "    core type: Literal\n",
       "    sub-expressions: \n",
       "39. -1\n",
       "    core type: Operation\n",
       "    operator: 40\n",
       "    operand: 41\n",
       "40. -\n",
       "    core type: Literal\n",
       "    sub-expressions: \n",
       "41. 1\n",
       "    core type: Literal\n",
       "    sub-expressions: "
      ]
     },
     "execution_count": 5,
     "metadata": {},
     "output_type": "execute_result"
    }
   ],
   "source": [
    "# display the expression information\n",
    "expr.exprInfo()"
   ]
  },
  {
   "cell_type": "code",
   "execution_count": null,
   "metadata": {},
   "outputs": [],
   "source": []
  }
 ],
 "metadata": {
  "kernelspec": {
   "display_name": "Python 3",
   "language": "python",
   "name": "python3"
  },
  "language_info": {
   "codemirror_mode": {
    "name": "ipython",
    "version": 3
   },
   "file_extension": ".py",
   "mimetype": "text/x-python",
   "name": "python",
   "nbconvert_exporter": "python",
   "pygments_lexer": "ipython3",
   "version": "3.7.3"
  }
 },
 "nbformat": 4,
 "nbformat_minor": 1
}
