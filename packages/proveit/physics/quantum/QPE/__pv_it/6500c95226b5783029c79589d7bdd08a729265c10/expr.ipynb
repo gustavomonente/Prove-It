{
 "cells": [
  {
   "cell_type": "markdown",
   "metadata": {},
   "source": [
    "Axiom <a class=\"ProveItLink\" href=\"../../_axioms_.ipynb#alphaDef\">alphaDef</a> of type <a class=\"ProveItLink\" href=\"../../../../../../../doc/html/api/proveit.logic.Forall.html\">Forall</a>\n",
    "=======================\n",
    "# from context <a class=\"ProveItLink\" href=\"../../_context_.ipynb\">proveit.physics.quantum.QPE</a>\n",
    "*** see <a class=\"ProveItLink\" href=\"dependencies.ipynb\">dependencies</a> ***"
   ]
  },
  {
   "cell_type": "code",
   "execution_count": 1,
   "metadata": {},
   "outputs": [],
   "source": [
    "import proveit\n",
    "# Automation is not needed when only building an expression:\n",
    "proveit.defaults.automation = False # This will speed things up.\n",
    "proveit.defaults.inline_pngs = False # Makes files smaller.\n",
    "# import the special expression\n",
    "from proveit.physics.quantum.QPE._axioms_ import alphaDef"
   ]
  },
  {
   "cell_type": "code",
   "execution_count": 2,
   "metadata": {},
   "outputs": [
    {
     "name": "stdout",
     "output_type": "stream",
     "text": [
      "Passed sanity check: built 'alphaDef' is the same as the stored Expression.\n"
     ]
    }
   ],
   "source": [
    "# check that the built expression is the same as the stored expression\n",
    "%check_expr alphaDef"
   ]
  },
  {
   "cell_type": "code",
   "execution_count": 3,
   "metadata": {},
   "outputs": [
    {
     "name": "stdout",
     "output_type": "stream",
     "text": [
      "\\vdash \\forall_{l \\in \\mathbb{Z}}~\\left(\\alpha_{l} = {_{t}}\\langle b \\oplus l \\rvert\\Psi \\rangle\\right)\n"
     ]
    }
   ],
   "source": [
    "# Show the LaTeX representation of the expression for convenience if you need it.\n",
    "print(alphaDef.latex())"
   ]
  },
  {
   "cell_type": "code",
   "execution_count": 4,
   "metadata": {},
   "outputs": [
    {
     "data": {
      "text/html": [
       "<table><tr><th>&nbsp;</th><th>core type</th><th>sub-expressions</th><th>expression</th></tr>\n",
       "<tr><td>0</td><td>Operation</td><td>operator:&nbsp;1<br>operand:&nbsp;2<br></td><td><a class=\"ProveItLink\" href=\"expr.ipynb\"><img src=\"expr.png\" style=\"display:inline;vertical-align:middle;\" /></a></td></tr>\n",
       "<tr><td>1</td><td>Literal</td><td></td><td><a class=\"ProveItLink\" href=\"../../../../../logic/boolean/quantification/universal/__pv_it/fd9c772d6675566ed52a6897806f45eb08a4ea910/expr.ipynb\"><img src=\"../../../../../logic/boolean/quantification/universal/__pv_it/fd9c772d6675566ed52a6897806f45eb08a4ea910/expr.png\" style=\"display:inline;vertical-align:middle;\" /></a></td></tr>\n",
       "<tr><td>2</td><td>Lambda</td><td>parameter:&nbsp;29<br>body:&nbsp;3<br></td><td><a class=\"ProveItLink\" href=\"../26cd38bbbef1dd250634c033782c3c6d4a6894b40/expr.ipynb\"><img src=\"../26cd38bbbef1dd250634c033782c3c6d4a6894b40/expr.png\" style=\"display:inline;vertical-align:middle;\" /></a></td></tr>\n",
       "<tr><td>3</td><td>Conditional</td><td>value:&nbsp;4<br>condition:&nbsp;5<br></td><td><a class=\"ProveItLink\" href=\"../4bb5f6dfccd32c3b28bfd9ae9e4ef46e1e85a8840/expr.ipynb\"><img src=\"../4bb5f6dfccd32c3b28bfd9ae9e4ef46e1e85a8840/expr.png\" style=\"display:inline;vertical-align:middle;\" /></a></td></tr>\n",
       "<tr><td>4</td><td>Operation</td><td>operator:&nbsp;6<br>operands:&nbsp;7<br></td><td><a class=\"ProveItLink\" href=\"../f48fa2ab4462e6aa799bdf0e388330a0ca681e4b0/expr.ipynb\"><img src=\"../f48fa2ab4462e6aa799bdf0e388330a0ca681e4b0/expr.png\" style=\"display:inline;vertical-align:middle;\" /></a></td></tr>\n",
       "<tr><td>5</td><td>Operation</td><td>operator:&nbsp;8<br>operands:&nbsp;9<br></td><td><a class=\"ProveItLink\" href=\"../e6852049027637430b19409c2bcd6914300cfae50/expr.ipynb\"><img src=\"../e6852049027637430b19409c2bcd6914300cfae50/expr.png\" style=\"display:inline;vertical-align:middle;\" /></a></td></tr>\n",
       "<tr><td>6</td><td>Literal</td><td></td><td><a class=\"ProveItLink\" href=\"../../../../../logic/equality/__pv_it/e16d2caa26a16688b658bdb9c422caf4b84579e10/expr.ipynb\"><img src=\"../../../../../logic/equality/__pv_it/e16d2caa26a16688b658bdb9c422caf4b84579e10/expr.png\" style=\"display:inline;vertical-align:middle;\" /></a></td></tr>\n",
       "<tr><td>7</td><td>ExprTuple</td><td>10, 11</td><td><a class=\"ProveItLink\" href=\"../94ee36e7c5cdb03b3aa14c58ec362bdb6e01c2370/expr.ipynb\"><img src=\"../94ee36e7c5cdb03b3aa14c58ec362bdb6e01c2370/expr.png\" style=\"display:inline;vertical-align:middle;\" /></a></td></tr>\n",
       "<tr><td>8</td><td>Literal</td><td></td><td><a class=\"ProveItLink\" href=\"../../../../../logic/set_theory/membership/__pv_it/7776fc89cb67d0b5b1ec2c0c8e08da5587921ccf0/expr.ipynb\"><img src=\"../../../../../logic/set_theory/membership/__pv_it/7776fc89cb67d0b5b1ec2c0c8e08da5587921ccf0/expr.png\" style=\"display:inline;vertical-align:middle;\" /></a></td></tr>\n",
       "<tr><td>9</td><td>ExprTuple</td><td>29, 12</td><td><a class=\"ProveItLink\" href=\"../ac58a74f0272c5aeab9db1257ea07c482a9441990/expr.ipynb\"><img src=\"../ac58a74f0272c5aeab9db1257ea07c482a9441990/expr.png\" style=\"display:inline;vertical-align:middle;\" /></a></td></tr>\n",
       "<tr><td>10</td><td>Operation</td><td>operator:&nbsp;13<br>operands:&nbsp;14<br></td><td><a class=\"ProveItLink\" href=\"../40f73a212793a21152593147730680e3bec3a4730/expr.ipynb\"><img src=\"../40f73a212793a21152593147730680e3bec3a4730/expr.png\" style=\"display:inline;vertical-align:middle;\" /></a></td></tr>\n",
       "<tr><td>11</td><td>Operation</td><td>operator:&nbsp;15<br>operands:&nbsp;16<br></td><td><a class=\"ProveItLink\" href=\"../9ef6799b87c52ae04fef04324a8e019eb1530af10/expr.ipynb\"><img src=\"../9ef6799b87c52ae04fef04324a8e019eb1530af10/expr.png\" style=\"display:inline;vertical-align:middle;\" /></a></td></tr>\n",
       "<tr><td>12</td><td>Literal</td><td></td><td><a class=\"ProveItLink\" href=\"../../../../../number/sets/integer/__pv_it/4b6f17dbfe8c62b413ab248a9ec52df6403e103e0/expr.ipynb\"><img src=\"../../../../../number/sets/integer/__pv_it/4b6f17dbfe8c62b413ab248a9ec52df6403e103e0/expr.png\" style=\"display:inline;vertical-align:middle;\" /></a></td></tr>\n",
       "<tr><td>13</td><td>Literal</td><td></td><td><a class=\"ProveItLink\" href=\"../4245e19675e8e106fac0be5b4e4a7e60c8936e2a0/expr.ipynb\"><img src=\"../4245e19675e8e106fac0be5b4e4a7e60c8936e2a0/expr.png\" style=\"display:inline;vertical-align:middle;\" /></a></td></tr>\n",
       "<tr><td>14</td><td>ExprTuple</td><td>17, 29</td><td><a class=\"ProveItLink\" href=\"../22227bb5dd2317d5a46d74f611b452ae937cc9ef0/expr.ipynb\"><img src=\"../22227bb5dd2317d5a46d74f611b452ae937cc9ef0/expr.png\" style=\"display:inline;vertical-align:middle;\" /></a></td></tr>\n",
       "<tr><td>15</td><td>Literal</td><td></td><td><a class=\"ProveItLink\" href=\"../../../../../linalg/__pv_it/d1db02c5be16952dc958ba9d03a61120dae3abaf0/expr.ipynb\"><img src=\"../../../../../linalg/__pv_it/d1db02c5be16952dc958ba9d03a61120dae3abaf0/expr.png\" style=\"display:inline;vertical-align:middle;\" /></a></td></tr>\n",
       "<tr><td>16</td><td>ExprTuple</td><td>18, 19</td><td><a class=\"ProveItLink\" href=\"../a70b598182e4aee3b3a2ab3aa38bc4616b960bcc0/expr.ipynb\"><img src=\"../a70b598182e4aee3b3a2ab3aa38bc4616b960bcc0/expr.png\" style=\"display:inline;vertical-align:middle;\" /></a></td></tr>\n",
       "<tr><td>17</td><td>Literal</td><td></td><td><a class=\"ProveItLink\" href=\"../4903bb42f96dff4fe91c5765eb2ff8ac910c41990/expr.ipynb\"><img src=\"../4903bb42f96dff4fe91c5765eb2ff8ac910c41990/expr.png\" style=\"display:inline;vertical-align:middle;\" /></a></td></tr>\n",
       "<tr><td>18</td><td>Operation</td><td>operator:&nbsp;20<br>operands:&nbsp;21<br></td><td><a class=\"ProveItLink\" href=\"../fd422ffeb676abf87336bf0d8c5976c97edadfdb0/expr.ipynb\"><img src=\"../fd422ffeb676abf87336bf0d8c5976c97edadfdb0/expr.png\" style=\"display:inline;vertical-align:middle;\" /></a></td></tr>\n",
       "<tr><td>19</td><td>Operation</td><td>operator:&nbsp;22<br>operand:&nbsp;23<br></td><td><a class=\"ProveItLink\" href=\"../d73ec8e8995a75d0f87afbc346f4f521f57113310/expr.ipynb\"><img src=\"../d73ec8e8995a75d0f87afbc346f4f521f57113310/expr.png\" style=\"display:inline;vertical-align:middle;\" /></a></td></tr>\n",
       "<tr><td>20</td><td>Literal</td><td></td><td><a class=\"ProveItLink\" href=\"../../../__pv_it/a1cb21884852377c89d5e943c2d36374d05265870/expr.ipynb\"><img src=\"../../../__pv_it/a1cb21884852377c89d5e943c2d36374d05265870/expr.png\" style=\"display:inline;vertical-align:middle;\" /></a></td></tr>\n",
       "<tr><td>21</td><td>ExprTuple</td><td>24, 25</td><td><a class=\"ProveItLink\" href=\"../19fc92d2334556744607e5c1eb0dc8e84617e2760/expr.ipynb\"><img src=\"../19fc92d2334556744607e5c1eb0dc8e84617e2760/expr.png\" style=\"display:inline;vertical-align:middle;\" /></a></td></tr>\n",
       "<tr><td>22</td><td>Literal</td><td></td><td><a class=\"ProveItLink\" href=\"../../../__pv_it/8aef81a4e336b372b4f04cd37a0a7ab8466ca20c0/expr.ipynb\"><img src=\"../../../__pv_it/8aef81a4e336b372b4f04cd37a0a7ab8466ca20c0/expr.png\" style=\"display:inline;vertical-align:middle;\" /></a></td></tr>\n",
       "<tr><td>23</td><td>Literal</td><td></td><td><a class=\"ProveItLink\" href=\"../17aac6efea534d3e001f12ad2d7dcb4750263c8c0/expr.ipynb\"><img src=\"../17aac6efea534d3e001f12ad2d7dcb4750263c8c0/expr.png\" style=\"display:inline;vertical-align:middle;\" /></a></td></tr>\n",
       "<tr><td>24</td><td>Operation</td><td>operator:&nbsp;26<br>operands:&nbsp;27<br></td><td><a class=\"ProveItLink\" href=\"../4bcd0233d3e654affa9c50cd0aa76c29b76a1c260/expr.ipynb\"><img src=\"../4bcd0233d3e654affa9c50cd0aa76c29b76a1c260/expr.png\" style=\"display:inline;vertical-align:middle;\" /></a></td></tr>\n",
       "<tr><td>25</td><td>Literal</td><td></td><td><a class=\"ProveItLink\" href=\"../96bcbff08fa521257bc78a97fedf1068dcbd0e2d0/expr.ipynb\"><img src=\"../96bcbff08fa521257bc78a97fedf1068dcbd0e2d0/expr.png\" style=\"display:inline;vertical-align:middle;\" /></a></td></tr>\n",
       "<tr><td>26</td><td>Literal</td><td></td><td><a class=\"ProveItLink\" href=\"../b41e4c06c72e23a6fc942ed38e78f285ec857cde0/expr.ipynb\"><img src=\"../b41e4c06c72e23a6fc942ed38e78f285ec857cde0/expr.png\" style=\"display:inline;vertical-align:middle;\" /></a></td></tr>\n",
       "<tr><td>27</td><td>ExprTuple</td><td>28, 29</td><td><a class=\"ProveItLink\" href=\"../7130ed3afc90084a90bd738aeb9e69b9d3b08e8f0/expr.ipynb\"><img src=\"../7130ed3afc90084a90bd738aeb9e69b9d3b08e8f0/expr.png\" style=\"display:inline;vertical-align:middle;\" /></a></td></tr>\n",
       "<tr><td>28</td><td>Literal</td><td></td><td><a class=\"ProveItLink\" href=\"../d81916b660589842e9907c923ca7448ed0c092520/expr.ipynb\"><img src=\"../d81916b660589842e9907c923ca7448ed0c092520/expr.png\" style=\"display:inline;vertical-align:middle;\" /></a></td></tr>\n",
       "<tr><td>29</td><td>Variable</td><td></td><td><a class=\"ProveItLink\" href=\"../../../../../__pv_it/146a2ac733407ae00030c58af25a3e0f465a566a0/expr.ipynb\"><img src=\"../../../../../__pv_it/146a2ac733407ae00030c58af25a3e0f465a566a0/expr.png\" style=\"display:inline;vertical-align:middle;\" /></a></td></tr>\n",
       "</table>\n"
      ],
      "text/plain": [
       "0. forall_{l in Integers} (alpha_{l} = {t}_〈b MOD_ADD l|Psi〉)\n",
       "   core type: Operation\n",
       "   operator: 1\n",
       "   operand: 2\n",
       "1. forall\n",
       "   core type: Literal\n",
       "   sub-expressions: \n",
       "2. l -> {alpha_{l} = {t}_〈b MOD_ADD l|Psi〉 if l in Integers.\n",
       "   core type: Lambda\n",
       "   parameter: 29\n",
       "   body: 3\n",
       "3. {alpha_{l} = {t}_〈b MOD_ADD l|Psi〉 if l in Integers.\n",
       "   core type: Conditional\n",
       "   value: 4\n",
       "   condition: 5\n",
       "4. alpha_{l} = {t}_〈b MOD_ADD l|Psi〉\n",
       "   core type: Operation\n",
       "   operator: 6\n",
       "   operands: 7\n",
       "5. l in Integers\n",
       "   core type: Operation\n",
       "   operator: 8\n",
       "   operands: 9\n",
       "6. =\n",
       "   core type: Literal\n",
       "   sub-expressions: \n",
       "7. (alpha_{l}, {t}_〈b MOD_ADD l|Psi〉)\n",
       "   core type: ExprTuple\n",
       "   sub-expressions: 10, 11\n",
       "8. in\n",
       "   core type: Literal\n",
       "   sub-expressions: \n",
       "9. (l, Integers)\n",
       "   core type: ExprTuple\n",
       "   sub-expressions: 29, 12\n",
       "10. alpha_{l}\n",
       "    core type: Operation\n",
       "    operator: 13\n",
       "    operands: 14\n",
       "11. {t}_〈b MOD_ADD l| . |Psi〉\n",
       "    core type: Operation\n",
       "    operator: 15\n",
       "    operands: 16\n",
       "12. Integers\n",
       "    core type: Literal\n",
       "    sub-expressions: \n",
       "13. SUB_INDEXED\n",
       "    core type: Literal\n",
       "    sub-expressions: \n",
       "14. (alpha, l)\n",
       "    core type: ExprTuple\n",
       "    sub-expressions: 17, 29\n",
       "15. .\n",
       "    core type: Literal\n",
       "    sub-expressions: \n",
       "16. ({t}_〈b MOD_ADD l|, |Psi〉)\n",
       "    core type: ExprTuple\n",
       "    sub-expressions: 18, 19\n",
       "17. alpha\n",
       "    core type: Literal\n",
       "    sub-expressions: \n",
       "18. {t}_〈b MOD_ADD l|\n",
       "    core type: Operation\n",
       "    operator: 20\n",
       "    operands: 21\n",
       "19. |Psi〉\n",
       "    core type: Operation\n",
       "    operator: 22\n",
       "    operand: 23\n",
       "20. REGISTER_BRA\n",
       "    core type: Literal\n",
       "    sub-expressions: \n",
       "21. (b MOD_ADD l, t)\n",
       "    core type: ExprTuple\n",
       "    sub-expressions: 24, 25\n",
       "22. KET\n",
       "    core type: Literal\n",
       "    sub-expressions: \n",
       "23. Psi\n",
       "    core type: Literal\n",
       "    sub-expressions: \n",
       "24. b MOD_ADD l\n",
       "    core type: Operation\n",
       "    operator: 26\n",
       "    operands: 27\n",
       "25. t\n",
       "    core type: Literal\n",
       "    sub-expressions: \n",
       "26. MOD_ADD\n",
       "    core type: Literal\n",
       "    sub-expressions: \n",
       "27. (b, l)\n",
       "    core type: ExprTuple\n",
       "    sub-expressions: 28, 29\n",
       "28. b\n",
       "    core type: Literal\n",
       "    sub-expressions: \n",
       "29. l\n",
       "    core type: Variable\n",
       "    sub-expressions: "
      ]
     },
     "execution_count": 4,
     "metadata": {},
     "output_type": "execute_result"
    }
   ],
   "source": [
    "# display the expression information\n",
    "alphaDef.exprInfo()"
   ]
  },
  {
   "cell_type": "code",
   "execution_count": null,
   "metadata": {},
   "outputs": [],
   "source": []
  }
 ],
 "metadata": {
  "kernelspec": {
   "display_name": "Python 3",
   "language": "python",
   "name": "python3"
  },
  "language_info": {
   "codemirror_mode": {
    "name": "ipython",
    "version": 3
   },
   "file_extension": ".py",
   "mimetype": "text/x-python",
   "name": "python",
   "nbconvert_exporter": "python",
   "pygments_lexer": "ipython3",
   "version": "3.7.3"
  }
 },
 "nbformat": 4,
 "nbformat_minor": 1
}
