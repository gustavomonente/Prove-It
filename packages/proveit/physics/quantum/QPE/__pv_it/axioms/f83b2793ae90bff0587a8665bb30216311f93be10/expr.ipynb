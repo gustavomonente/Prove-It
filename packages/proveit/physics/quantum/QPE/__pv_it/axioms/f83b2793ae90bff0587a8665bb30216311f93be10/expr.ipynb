{
 "cells": [
  {
   "cell_type": "markdown",
   "metadata": {},
   "source": [
    "Expression of type <a class=\"ProveItLink\" href=\"../../../../../../../../doc/html/api/proveit.logic.Forall.html\">Forall</a>\n",
    "=======================\n",
    "# from the theory of <a class=\"ProveItLink\" href=\"../../../_theory_nbs_/theory.ipynb\">proveit.physics.quantum.QPE</a>"
   ]
  },
  {
   "cell_type": "code",
   "execution_count": 1,
   "metadata": {},
   "outputs": [],
   "source": [
    "import proveit\n",
    "# Automation is not needed when building an expression:\n",
    "proveit.defaults.automation = False # This will speed things up.\n",
    "proveit.defaults.inline_pngs = False # Makes files smaller.\n",
    "%load_expr # Load the stored expression as 'stored_expr'\n",
    "# import Expression classes needed to build the expression\n",
    "from proveit import eps\n",
    "from proveit.logic import Equals, Forall\n",
    "from proveit.numbers import Add, LessEq, ModAbs, NaturalPos, Neg\n",
    "from proveit.physics.quantum.QPE import Psuccess, b_, m_, two_pow_t\n",
    "from proveit.statistics import Prob"
   ]
  },
  {
   "cell_type": "code",
   "execution_count": 2,
   "metadata": {},
   "outputs": [
    {
     "data": {
      "text/html": [
       "<strong id=\"expr\">expr:</strong> <a class=\"ProveItLink\" href=\"expr.ipynb\"><img src=\"expr.png\" style=\"display:inline;vertical-align:middle;\" /></a><br>"
      ],
      "text/plain": [
       "expr: forall_{eps in NaturalPos} (Psuccess(eps) = Pr_{m}[|m - b|_{mod 2^{t}} <= eps])"
      ]
     },
     "execution_count": 2,
     "metadata": {},
     "output_type": "execute_result"
    }
   ],
   "source": [
    "# build up the expression from sub-expressions\n",
    "expr = Forall([eps], Equals(Psuccess(eps), Prob(LessEq(ModAbs(Add(m_, Neg(b_)), two_pow_t), eps), m_)), domains = [NaturalPos])"
   ]
  },
  {
   "cell_type": "code",
   "execution_count": 3,
   "metadata": {},
   "outputs": [
    {
     "name": "stdout",
     "output_type": "stream",
     "text": [
      "Passed sanity check: expr matches stored_expr\n"
     ]
    }
   ],
   "source": [
    "# check that the built expression is the same as the stored expression\n",
    "assert expr == stored_expr\n",
    "assert expr._style_id == stored_expr._style_id\n",
    "print(\"Passed sanity check: expr matches stored_expr\")"
   ]
  },
  {
   "cell_type": "code",
   "execution_count": 4,
   "metadata": {},
   "outputs": [
    {
     "name": "stdout",
     "output_type": "stream",
     "text": [
      "\\forall_{\\varepsilon \\in \\mathbb{N}^+}~\\left(P_{\\rm success}(\\varepsilon) = Pr_{m}[\\left|m - b\\right|_{\\textup{mod}\\thinspace 2^{t}} \\leq \\varepsilon]\\right)\n"
     ]
    }
   ],
   "source": [
    "# Show the LaTeX representation of the expression for convenience if you need it.\n",
    "print(expr.latex())"
   ]
  },
  {
   "cell_type": "code",
   "execution_count": 5,
   "metadata": {},
   "outputs": [
    {
     "data": {
      "text/html": [
       "<table>\n",
       "<tr><th>name</th><th>description</th><th>default</th><th>current value</th><th>related methods</th></tr><tr><td>with_wrapping</td><td>If 'True', wrap the Expression after the parameters</td><td>None</td><td>None/False</td><td>('with_wrapping',)</td></tr>\n",
       "<tr><td>wrap_params</td><td>If 'True', wraps every two parameters AND wraps the Expression after the parameters</td><td>None</td><td>None/False</td><td>('with_params',)</td></tr>\n",
       "<tr><td>justification</td><td>justify to the 'left', 'center', or 'right' in the array cells</td><td>center</td><td>center</td><td>('with_justification',)</td></tr>\n",
       "</table>\n"
      ],
      "text/plain": [
       "style name: with_wrapping\n",
       "description: If 'True', wrap the Expression after the parameters\n",
       "default: None\n",
       "current value: None/False\n",
       "related methods: ('with_wrapping',)\n",
       "style name: wrap_params\n",
       "description: If 'True', wraps every two parameters AND wraps the Expression after the parameters\n",
       "default: None\n",
       "current value: None/False\n",
       "related methods: ('with_params',)\n",
       "style name: justification\n",
       "description: justify to the 'left', 'center', or 'right' in the array cells\n",
       "default: center\n",
       "current value: center\n",
       "related methods: ('with_justification',)"
      ]
     },
     "execution_count": 5,
     "metadata": {},
     "output_type": "execute_result"
    }
   ],
   "source": [
    "expr.style_options()"
   ]
  },
  {
   "cell_type": "code",
   "execution_count": 6,
   "metadata": {},
   "outputs": [
    {
     "data": {
      "text/html": [
       "<table><tr><th>&nbsp;</th><th>core type</th><th>sub-expressions</th><th>expression</th></tr>\n",
       "<tr><td>0</td><td>Operation</td><td>operator:&nbsp;1<br>operand:&nbsp;3<br></td><td><a class=\"ProveItLink\" href=\"expr.ipynb\"><img src=\"expr.png\" style=\"display:inline;vertical-align:middle;\" /></a></td></tr>\n",
       "<tr><td>1</td><td>Literal</td><td></td><td><a class=\"ProveItLink\" href=\"../../../../../../logic/booleans/quantification/universality/__pv_it/common/684d35ba98fcbf8ca5011f865e530a51e77730630/expr.ipynb\"><img src=\"../../../../../../logic/booleans/quantification/universality/__pv_it/common/684d35ba98fcbf8ca5011f865e530a51e77730630/expr.png\" style=\"display:inline;vertical-align:middle;\" /></a></td></tr>\n",
       "<tr><td>2</td><td>ExprTuple</td><td>3</td><td><a class=\"ProveItLink\" href=\"../477a70f9b280525ea2eadf41dcbec8b2eea4ff420/expr.ipynb\"><img src=\"../477a70f9b280525ea2eadf41dcbec8b2eea4ff420/expr.png\" style=\"display:inline;vertical-align:middle;\" /></a></td></tr>\n",
       "<tr><td>3</td><td>Lambda</td><td>parameter:&nbsp;22<br>body:&nbsp;4<br></td><td><a class=\"ProveItLink\" href=\"../400237d7ca762cdb4ac321031fa4a2a8692447d30/expr.ipynb\"><img src=\"../400237d7ca762cdb4ac321031fa4a2a8692447d30/expr.png\" style=\"display:inline;vertical-align:middle;\" /></a></td></tr>\n",
       "<tr><td>4</td><td>Conditional</td><td>value:&nbsp;5<br>condition:&nbsp;6<br></td><td><a class=\"ProveItLink\" href=\"../28e9f9840ce76a1019590dc847d1f74ca8ea0c4c0/expr.ipynb\"><img src=\"../28e9f9840ce76a1019590dc847d1f74ca8ea0c4c0/expr.png\" style=\"display:inline;vertical-align:middle;\" /></a></td></tr>\n",
       "<tr><td>5</td><td>Operation</td><td>operator:&nbsp;7<br>operands:&nbsp;8<br></td><td><a class=\"ProveItLink\" href=\"../69cc6601f72879adc81833f11dfd7fe94304fdee0/expr.ipynb\"><img src=\"../69cc6601f72879adc81833f11dfd7fe94304fdee0/expr.png\" style=\"display:inline;vertical-align:middle;\" /></a></td></tr>\n",
       "<tr><td>6</td><td>Operation</td><td>operator:&nbsp;9<br>operands:&nbsp;10<br></td><td><a class=\"ProveItLink\" href=\"../5a06e26211c3ac03e3ce9ae7886401eb2ae444110/expr.ipynb\"><img src=\"../5a06e26211c3ac03e3ce9ae7886401eb2ae444110/expr.png\" style=\"display:inline;vertical-align:middle;\" /></a></td></tr>\n",
       "<tr><td>7</td><td>Literal</td><td></td><td><a class=\"ProveItLink\" href=\"../../../../../../logic/equality/__pv_it/common/731dd3955b346c1320ed5c0ba7a618bcda61457d0/expr.ipynb\"><img src=\"../../../../../../logic/equality/__pv_it/common/731dd3955b346c1320ed5c0ba7a618bcda61457d0/expr.png\" style=\"display:inline;vertical-align:middle;\" /></a></td></tr>\n",
       "<tr><td>8</td><td>ExprTuple</td><td>11, 12</td><td><a class=\"ProveItLink\" href=\"../fd8d8bbd3d61f2e172f1bd4d5326b8bc961a8de10/expr.ipynb\"><img src=\"../fd8d8bbd3d61f2e172f1bd4d5326b8bc961a8de10/expr.png\" style=\"display:inline;vertical-align:middle;\" /></a></td></tr>\n",
       "<tr><td>9</td><td>Literal</td><td></td><td><a class=\"ProveItLink\" href=\"../../../../../../logic/sets/membership/__pv_it/common/7171deca84f71f47a6ec7696972d1632274a12880/expr.ipynb\"><img src=\"../../../../../../logic/sets/membership/__pv_it/common/7171deca84f71f47a6ec7696972d1632274a12880/expr.png\" style=\"display:inline;vertical-align:middle;\" /></a></td></tr>\n",
       "<tr><td>10</td><td>ExprTuple</td><td>22, 13</td><td><a class=\"ProveItLink\" href=\"../1198a4717f4783ad8e1554ee730955f9670f987c0/expr.ipynb\"><img src=\"../1198a4717f4783ad8e1554ee730955f9670f987c0/expr.png\" style=\"display:inline;vertical-align:middle;\" /></a></td></tr>\n",
       "<tr><td>11</td><td>Operation</td><td>operator:&nbsp;14<br>operand:&nbsp;22<br></td><td><a class=\"ProveItLink\" href=\"../4ffc3a009d18711cf872906878503fe87f3f30270/expr.ipynb\"><img src=\"../4ffc3a009d18711cf872906878503fe87f3f30270/expr.png\" style=\"display:inline;vertical-align:middle;\" /></a></td></tr>\n",
       "<tr><td>12</td><td>Operation</td><td>operator:&nbsp;16<br>operands:&nbsp;17<br></td><td><a class=\"ProveItLink\" href=\"../5b3e06a738b5ba08921dd0849056df37bf3159e20/expr.ipynb\"><img src=\"../5b3e06a738b5ba08921dd0849056df37bf3159e20/expr.png\" style=\"display:inline;vertical-align:middle;\" /></a></td></tr>\n",
       "<tr><td>13</td><td>Literal</td><td></td><td><a class=\"ProveItLink\" href=\"../../../../../../numbers/number_sets/natural_numbers/__pv_it/common/a2a7252783c385c028dad802e97575c19e456b990/expr.ipynb\"><img src=\"../../../../../../numbers/number_sets/natural_numbers/__pv_it/common/a2a7252783c385c028dad802e97575c19e456b990/expr.png\" style=\"display:inline;vertical-align:middle;\" /></a></td></tr>\n",
       "<tr><td>14</td><td>Literal</td><td></td><td><a class=\"ProveItLink\" href=\"../../common/b64d28e0ba4b72ace3d8cd844b01f64a917571090/expr.ipynb\"><img src=\"../../common/b64d28e0ba4b72ace3d8cd844b01f64a917571090/expr.png\" style=\"display:inline;vertical-align:middle;\" /></a></td></tr>\n",
       "<tr><td>15</td><td>ExprTuple</td><td>22</td><td><a class=\"ProveItLink\" href=\"../e084e739886f271e32b52d081c7e6ea398fdb12e0/expr.ipynb\"><img src=\"../e084e739886f271e32b52d081c7e6ea398fdb12e0/expr.png\" style=\"display:inline;vertical-align:middle;\" /></a></td></tr>\n",
       "<tr><td>16</td><td>Literal</td><td></td><td><a class=\"ProveItLink\" href=\"../../../../../../statistics/__pv_it/common/37e2c1aaff04fdc03492a799672eb59c4469aecc0/expr.ipynb\"><img src=\"../../../../../../statistics/__pv_it/common/37e2c1aaff04fdc03492a799672eb59c4469aecc0/expr.png\" style=\"display:inline;vertical-align:middle;\" /></a></td></tr>\n",
       "<tr><td>17</td><td>ExprTuple</td><td>18, 31</td><td><a class=\"ProveItLink\" href=\"../961d7dc4f01affe905310fd8441d40a7fa55a3fb0/expr.ipynb\"><img src=\"../961d7dc4f01affe905310fd8441d40a7fa55a3fb0/expr.png\" style=\"display:inline;vertical-align:middle;\" /></a></td></tr>\n",
       "<tr><td>18</td><td>Operation</td><td>operator:&nbsp;19<br>operands:&nbsp;20<br></td><td><a class=\"ProveItLink\" href=\"../2e28d3398caaf79b4a83df1e193d70dc532efb920/expr.ipynb\"><img src=\"../2e28d3398caaf79b4a83df1e193d70dc532efb920/expr.png\" style=\"display:inline;vertical-align:middle;\" /></a></td></tr>\n",
       "<tr><td>19</td><td>Literal</td><td></td><td><a class=\"ProveItLink\" href=\"../../../../../../numbers/ordering/__pv_it/common/b7491c9b87613cffc9e4ec0625a0f1afacbe2cbd0/expr.ipynb\"><img src=\"../../../../../../numbers/ordering/__pv_it/common/b7491c9b87613cffc9e4ec0625a0f1afacbe2cbd0/expr.png\" style=\"display:inline;vertical-align:middle;\" /></a></td></tr>\n",
       "<tr><td>20</td><td>ExprTuple</td><td>21, 22</td><td><a class=\"ProveItLink\" href=\"../a99a953e2968bacbb96e1ab1d4f07512fb7a06ed0/expr.ipynb\"><img src=\"../a99a953e2968bacbb96e1ab1d4f07512fb7a06ed0/expr.png\" style=\"display:inline;vertical-align:middle;\" /></a></td></tr>\n",
       "<tr><td>21</td><td>Operation</td><td>operator:&nbsp;23<br>operands:&nbsp;24<br></td><td><a class=\"ProveItLink\" href=\"../e4a4a2a1d6b43eb67625bbcd18fe5c019838e8ab0/expr.ipynb\"><img src=\"../e4a4a2a1d6b43eb67625bbcd18fe5c019838e8ab0/expr.png\" style=\"display:inline;vertical-align:middle;\" /></a></td></tr>\n",
       "<tr><td>22</td><td>Variable</td><td></td><td><a class=\"ProveItLink\" href=\"../../../../../../__pv_it/common/6ccbd8f7424e34c92aa1208d7ccef106f5849c250/expr.ipynb\"><img src=\"../../../../../../__pv_it/common/6ccbd8f7424e34c92aa1208d7ccef106f5849c250/expr.png\" style=\"display:inline;vertical-align:middle;\" /></a></td></tr>\n",
       "<tr><td>23</td><td>Literal</td><td></td><td><a class=\"ProveItLink\" href=\"../../../../../../numbers/modular/__pv_it/common/d72011aab1870abcc7b54d70aa7412339eecb4df0/expr.ipynb\"><img src=\"../../../../../../numbers/modular/__pv_it/common/d72011aab1870abcc7b54d70aa7412339eecb4df0/expr.png\" style=\"display:inline;vertical-align:middle;\" /></a></td></tr>\n",
       "<tr><td>24</td><td>ExprTuple</td><td>25, 26</td><td><a class=\"ProveItLink\" href=\"../f98898f7d094aa8449578e25333a51627a24dcea0/expr.ipynb\"><img src=\"../f98898f7d094aa8449578e25333a51627a24dcea0/expr.png\" style=\"display:inline;vertical-align:middle;\" /></a></td></tr>\n",
       "<tr><td>25</td><td>Operation</td><td>operator:&nbsp;27<br>operands:&nbsp;28<br></td><td><a class=\"ProveItLink\" href=\"../228a1ebd7a39adaff3f5469b579f200bee6014fe0/expr.ipynb\"><img src=\"../228a1ebd7a39adaff3f5469b579f200bee6014fe0/expr.png\" style=\"display:inline;vertical-align:middle;\" /></a></td></tr>\n",
       "<tr><td>26</td><td>Operation</td><td>operator:&nbsp;29<br>operands:&nbsp;30<br></td><td><a class=\"ProveItLink\" href=\"../../common/457b0dff65b633b4c78260366925739952a96c890/expr.ipynb\"><img src=\"../../common/457b0dff65b633b4c78260366925739952a96c890/expr.png\" style=\"display:inline;vertical-align:middle;\" /></a></td></tr>\n",
       "<tr><td>27</td><td>Literal</td><td></td><td><a class=\"ProveItLink\" href=\"../../../../../../numbers/addition/__pv_it/common/1f38fe5cce441387feef296e2c0a2eac260bb4f30/expr.ipynb\"><img src=\"../../../../../../numbers/addition/__pv_it/common/1f38fe5cce441387feef296e2c0a2eac260bb4f30/expr.png\" style=\"display:inline;vertical-align:middle;\" /></a></td></tr>\n",
       "<tr><td>28</td><td>ExprTuple</td><td>31, 32</td><td><a class=\"ProveItLink\" href=\"../4be90ae30e83f3c6cb83abe20075b7d9292227680/expr.ipynb\"><img src=\"../4be90ae30e83f3c6cb83abe20075b7d9292227680/expr.png\" style=\"display:inline;vertical-align:middle;\" /></a></td></tr>\n",
       "<tr><td>29</td><td>Literal</td><td></td><td><a class=\"ProveItLink\" href=\"../../../../../../numbers/exponentiation/__pv_it/common/31d1b89e3c2fad7d997556c69b6be6425b6f59a40/expr.ipynb\"><img src=\"../../../../../../numbers/exponentiation/__pv_it/common/31d1b89e3c2fad7d997556c69b6be6425b6f59a40/expr.png\" style=\"display:inline;vertical-align:middle;\" /></a></td></tr>\n",
       "<tr><td>30</td><td>ExprTuple</td><td>33, 34</td><td><a class=\"ProveItLink\" href=\"../../common/dfb548d7806faf732c1098b1ba9dc3cc77d363740/expr.ipynb\"><img src=\"../../common/dfb548d7806faf732c1098b1ba9dc3cc77d363740/expr.png\" style=\"display:inline;vertical-align:middle;\" /></a></td></tr>\n",
       "<tr><td>31</td><td>Literal</td><td></td><td><a class=\"ProveItLink\" href=\"../../common/9a0340d3febe353ce54980e38a8eb5fb771a38530/expr.ipynb\"><img src=\"../../common/9a0340d3febe353ce54980e38a8eb5fb771a38530/expr.png\" style=\"display:inline;vertical-align:middle;\" /></a></td></tr>\n",
       "<tr><td>32</td><td>Operation</td><td>operator:&nbsp;35<br>operand:&nbsp;37<br></td><td><a class=\"ProveItLink\" href=\"../f4d73769f6608f7b202f1ad501c85ae62743dad70/expr.ipynb\"><img src=\"../f4d73769f6608f7b202f1ad501c85ae62743dad70/expr.png\" style=\"display:inline;vertical-align:middle;\" /></a></td></tr>\n",
       "<tr><td>33</td><td>Literal</td><td></td><td><a class=\"ProveItLink\" href=\"../../../../../../numbers/numerals/__pv_it/common/3829356ce3fdf8f35810c63c00bc1a19e838663e0/expr.ipynb\"><img src=\"../../../../../../numbers/numerals/__pv_it/common/3829356ce3fdf8f35810c63c00bc1a19e838663e0/expr.png\" style=\"display:inline;vertical-align:middle;\" /></a></td></tr>\n",
       "<tr><td>34</td><td>Literal</td><td></td><td><a class=\"ProveItLink\" href=\"../../common/39c1d684e38b5dd4cd200cf6f134282993af2c0b0/expr.ipynb\"><img src=\"../../common/39c1d684e38b5dd4cd200cf6f134282993af2c0b0/expr.png\" style=\"display:inline;vertical-align:middle;\" /></a></td></tr>\n",
       "<tr><td>35</td><td>Literal</td><td></td><td><a class=\"ProveItLink\" href=\"../../../../../../numbers/negation/__pv_it/common/31a69a5c76809537045e3884859f178d8d9c845c0/expr.ipynb\"><img src=\"../../../../../../numbers/negation/__pv_it/common/31a69a5c76809537045e3884859f178d8d9c845c0/expr.png\" style=\"display:inline;vertical-align:middle;\" /></a></td></tr>\n",
       "<tr><td>36</td><td>ExprTuple</td><td>37</td><td><a class=\"ProveItLink\" href=\"../a628dbc77591ad8d6afcf900c7fdffee075b48030/expr.ipynb\"><img src=\"../a628dbc77591ad8d6afcf900c7fdffee075b48030/expr.png\" style=\"display:inline;vertical-align:middle;\" /></a></td></tr>\n",
       "<tr><td>37</td><td>Literal</td><td></td><td><a class=\"ProveItLink\" href=\"../../common/5e50c5d70951d830477d02ce423fc5d8f80be26e0/expr.ipynb\"><img src=\"../../common/5e50c5d70951d830477d02ce423fc5d8f80be26e0/expr.png\" style=\"display:inline;vertical-align:middle;\" /></a></td></tr>\n",
       "</table>\n"
      ],
      "text/plain": [
       "0. forall_{eps in NaturalPos} (Psuccess(eps) = Pr_{m}[|m - b|_{mod 2^{t}} <= eps])\n",
       "   core type: Operation\n",
       "   operator: 1\n",
       "   operand: 3\n",
       "1. forall\n",
       "   core type: Literal\n",
       "   sub-expressions: \n",
       "2. (eps -> {Psuccess(eps) = Pr_{m}[|m - b|_{mod 2^{t}} <= eps] if eps in NaturalPos.)\n",
       "   core type: ExprTuple\n",
       "   sub-expressions: 3\n",
       "3. eps -> {Psuccess(eps) = Pr_{m}[|m - b|_{mod 2^{t}} <= eps] if eps in NaturalPos.\n",
       "   core type: Lambda\n",
       "   parameter: 22\n",
       "   body: 4\n",
       "4. {Psuccess(eps) = Pr_{m}[|m - b|_{mod 2^{t}} <= eps] if eps in NaturalPos.\n",
       "   core type: Conditional\n",
       "   value: 5\n",
       "   condition: 6\n",
       "5. Psuccess(eps) = Pr_{m}[|m - b|_{mod 2^{t}} <= eps]\n",
       "   core type: Operation\n",
       "   operator: 7\n",
       "   operands: 8\n",
       "6. eps in NaturalPos\n",
       "   core type: Operation\n",
       "   operator: 9\n",
       "   operands: 10\n",
       "7. =\n",
       "   core type: Literal\n",
       "   sub-expressions: \n",
       "8. (Psuccess(eps), Pr_{m}[|m - b|_{mod 2^{t}} <= eps])\n",
       "   core type: ExprTuple\n",
       "   sub-expressions: 11, 12\n",
       "9. in\n",
       "   core type: Literal\n",
       "   sub-expressions: \n",
       "10. (eps, NaturalPos)\n",
       "    core type: ExprTuple\n",
       "    sub-expressions: 22, 13\n",
       "11. Psuccess(eps)\n",
       "    core type: Operation\n",
       "    operator: 14\n",
       "    operand: 22\n",
       "12. Pr_{m}[|m - b|_{mod 2^{t}} <= eps]\n",
       "    core type: Operation\n",
       "    operator: 16\n",
       "    operands: 17\n",
       "13. NaturalPos\n",
       "    core type: Literal\n",
       "    sub-expressions: \n",
       "14. Psuccess\n",
       "    core type: Literal\n",
       "    sub-expressions: \n",
       "15. (eps)\n",
       "    core type: ExprTuple\n",
       "    sub-expressions: 22\n",
       "16. PROB\n",
       "    core type: Literal\n",
       "    sub-expressions: \n",
       "17. (|m - b|_{mod 2^{t}} <= eps, m)\n",
       "    core type: ExprTuple\n",
       "    sub-expressions: 18, 31\n",
       "18. |m - b|_{mod 2^{t}} <= eps\n",
       "    core type: Operation\n",
       "    operator: 19\n",
       "    operands: 20\n",
       "19. <=\n",
       "    core type: Literal\n",
       "    sub-expressions: \n",
       "20. (|m - b|_{mod 2^{t}}, eps)\n",
       "    core type: ExprTuple\n",
       "    sub-expressions: 21, 22\n",
       "21. |m - b|_{mod 2^{t}}\n",
       "    core type: Operation\n",
       "    operator: 23\n",
       "    operands: 24\n",
       "22. eps\n",
       "    core type: Variable\n",
       "    sub-expressions: \n",
       "23. ModAbs\n",
       "    core type: Literal\n",
       "    sub-expressions: \n",
       "24. (m - b, 2^{t})\n",
       "    core type: ExprTuple\n",
       "    sub-expressions: 25, 26\n",
       "25. m - b\n",
       "    core type: Operation\n",
       "    operator: 27\n",
       "    operands: 28\n",
       "26. 2^{t}\n",
       "    core type: Operation\n",
       "    operator: 29\n",
       "    operands: 30\n",
       "27. +\n",
       "    core type: Literal\n",
       "    sub-expressions: \n",
       "28. (m, -b)\n",
       "    core type: ExprTuple\n",
       "    sub-expressions: 31, 32\n",
       "29. Exp\n",
       "    core type: Literal\n",
       "    sub-expressions: \n",
       "30. (2, t)\n",
       "    core type: ExprTuple\n",
       "    sub-expressions: 33, 34\n",
       "31. m\n",
       "    core type: Literal\n",
       "    sub-expressions: \n",
       "32. -b\n",
       "    core type: Operation\n",
       "    operator: 35\n",
       "    operand: 37\n",
       "33. 2\n",
       "    core type: Literal\n",
       "    sub-expressions: \n",
       "34. t\n",
       "    core type: Literal\n",
       "    sub-expressions: \n",
       "35. -\n",
       "    core type: Literal\n",
       "    sub-expressions: \n",
       "36. (b)\n",
       "    core type: ExprTuple\n",
       "    sub-expressions: 37\n",
       "37. b\n",
       "    core type: Literal\n",
       "    sub-expressions: "
      ]
     },
     "execution_count": 6,
     "metadata": {},
     "output_type": "execute_result"
    }
   ],
   "source": [
    "# display the expression information\n",
    "expr.expr_info()"
   ]
  },
  {
   "cell_type": "code",
   "execution_count": null,
   "metadata": {},
   "outputs": [],
   "source": []
  }
 ],
 "metadata": {
  "kernelspec": {
   "display_name": "Python 3",
   "language": "python",
   "name": "python3"
  }
 },
 "nbformat": 4,
 "nbformat_minor": 0
}