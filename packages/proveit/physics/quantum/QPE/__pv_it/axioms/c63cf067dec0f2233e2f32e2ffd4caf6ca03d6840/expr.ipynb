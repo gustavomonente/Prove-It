{
 "cells": [
  {
   "cell_type": "markdown",
   "metadata": {},
   "source": [
    "Expression of type <a class=\"ProveItLink\" href=\"../../../../../../../../doc/html/api/proveit.ExprTuple.html\">ExprTuple</a>\n",
    "=======================\n",
    "# from the theory of <a class=\"ProveItLink\" href=\"../../../_theory_nbs_/theory.ipynb\">proveit.physics.quantum.QPE</a>"
   ]
  },
  {
   "cell_type": "code",
   "execution_count": 1,
   "metadata": {},
   "outputs": [],
   "source": [
    "import proveit\n",
    "# Automation is not needed when building an expression:\n",
    "proveit.defaults.automation = False # This will speed things up.\n",
    "proveit.defaults.inline_pngs = False # Makes files smaller.\n",
    "%load_expr # Load the stored expression as 'stored_expr'\n",
    "# import Expression classes needed to build the expression\n",
    "from proveit import ExprTuple, eps\n",
    "from proveit.numbers import Add, Neg, one\n",
    "from proveit.physics.quantum.QPE import Pfail, Psuccess"
   ]
  },
  {
   "cell_type": "code",
   "execution_count": 2,
   "metadata": {},
   "outputs": [
    {
     "data": {
      "text/html": [
       "<strong id=\"expr\">expr:</strong> <a class=\"ProveItLink\" href=\"expr.ipynb\"><img src=\"expr.png\" style=\"display:inline;vertical-align:middle;\" /></a><br>"
      ],
      "text/plain": [
       "expr: ([Pfail](eps), 1 - [Psuccess](eps))"
      ]
     },
     "execution_count": 2,
     "metadata": {},
     "output_type": "execute_result"
    }
   ],
   "source": [
    "# build up the expression from sub-expressions\n",
    "expr = ExprTuple(Pfail(eps), Add(one, Neg(Psuccess(eps))))"
   ]
  },
  {
   "cell_type": "code",
   "execution_count": 3,
   "metadata": {},
   "outputs": [
    {
     "name": "stdout",
     "output_type": "stream",
     "text": [
      "Passed sanity check: expr matches stored_expr\n"
     ]
    }
   ],
   "source": [
    "# check that the built expression is the same as the stored expression\n",
    "assert expr == stored_expr\n",
    "assert expr._style_id == stored_expr._style_id\n",
    "print(\"Passed sanity check: expr matches stored_expr\")"
   ]
  },
  {
   "cell_type": "code",
   "execution_count": 4,
   "metadata": {},
   "outputs": [
    {
     "name": "stdout",
     "output_type": "stream",
     "text": [
      "\\left(\\left[P_{\\rm fail}\\right]\\left(\\varepsilon\\right), 1 - \\left[P_{\\rm success}\\right]\\left(\\varepsilon\\right)\\right)\n"
     ]
    }
   ],
   "source": [
    "# Show the LaTeX representation of the expression for convenience if you need it.\n",
    "print(expr.latex())"
   ]
  },
  {
   "cell_type": "code",
   "execution_count": 5,
   "metadata": {},
   "outputs": [
    {
     "data": {
      "text/html": [
       "<table><tr><th>&nbsp;</th><th>core type</th><th>sub-expressions</th><th>expression</th></tr>\n",
       "<tr><td>0</td><td>ExprTuple</td><td>1, 2</td><td><a class=\"ProveItLink\" href=\"expr.ipynb\"><img src=\"expr.png\" style=\"display:inline;vertical-align:middle;\" /></a></td></tr>\n",
       "<tr><td>1</td><td>Operation</td><td>operator:&nbsp;3<br>operand:&nbsp;11<br></td><td><a class=\"ProveItLink\" href=\"../bbea5b92afef391111af4b7ee6c9466298feb4a40/expr.ipynb\"><img src=\"../bbea5b92afef391111af4b7ee6c9466298feb4a40/expr.png\" style=\"display:inline;vertical-align:middle;\" /></a></td></tr>\n",
       "<tr><td>2</td><td>Operation</td><td>operator:&nbsp;4<br>operands:&nbsp;5<br></td><td><a class=\"ProveItLink\" href=\"../42e0896ada24e9f5bbdff5e9b6909cf8a1e7ffad0/expr.ipynb\"><img src=\"../42e0896ada24e9f5bbdff5e9b6909cf8a1e7ffad0/expr.png\" style=\"display:inline;vertical-align:middle;\" /></a></td></tr>\n",
       "<tr><td>3</td><td>Literal</td><td></td><td><a class=\"ProveItLink\" href=\"../../common/e25b61f666a353ac0e2fac3d8aa685edd840888c0/expr.ipynb\"><img src=\"../../common/e25b61f666a353ac0e2fac3d8aa685edd840888c0/expr.png\" style=\"display:inline;vertical-align:middle;\" /></a></td></tr>\n",
       "<tr><td>4</td><td>Literal</td><td></td><td><a class=\"ProveItLink\" href=\"../../../../../../numbers/addition/__pv_it/common/4b7effaab3619a1c2c38fe2dee8601df8ec714590/expr.ipynb\"><img src=\"../../../../../../numbers/addition/__pv_it/common/4b7effaab3619a1c2c38fe2dee8601df8ec714590/expr.png\" style=\"display:inline;vertical-align:middle;\" /></a></td></tr>\n",
       "<tr><td>5</td><td>ExprTuple</td><td>6, 7</td><td><a class=\"ProveItLink\" href=\"../5ac42c10d95953124e0470c33c2b5d8a2a4849af0/expr.ipynb\"><img src=\"../5ac42c10d95953124e0470c33c2b5d8a2a4849af0/expr.png\" style=\"display:inline;vertical-align:middle;\" /></a></td></tr>\n",
       "<tr><td>6</td><td>Literal</td><td></td><td><a class=\"ProveItLink\" href=\"../../../../../../numbers/numerals/__pv_it/common/2778428c7f555b2bdc06aa0530bc142c6e6335100/expr.ipynb\"><img src=\"../../../../../../numbers/numerals/__pv_it/common/2778428c7f555b2bdc06aa0530bc142c6e6335100/expr.png\" style=\"display:inline;vertical-align:middle;\" /></a></td></tr>\n",
       "<tr><td>7</td><td>Operation</td><td>operator:&nbsp;8<br>operand:&nbsp;9<br></td><td><a class=\"ProveItLink\" href=\"../85ef7a635be2dfebf11eeaf982b597f086a4b4fa0/expr.ipynb\"><img src=\"../85ef7a635be2dfebf11eeaf982b597f086a4b4fa0/expr.png\" style=\"display:inline;vertical-align:middle;\" /></a></td></tr>\n",
       "<tr><td>8</td><td>Literal</td><td></td><td><a class=\"ProveItLink\" href=\"../../../../../../numbers/negation/__pv_it/common/221b3c4d1770ee9051b7c044c3f9ec61196fc34b0/expr.ipynb\"><img src=\"../../../../../../numbers/negation/__pv_it/common/221b3c4d1770ee9051b7c044c3f9ec61196fc34b0/expr.png\" style=\"display:inline;vertical-align:middle;\" /></a></td></tr>\n",
       "<tr><td>9</td><td>Operation</td><td>operator:&nbsp;10<br>operand:&nbsp;11<br></td><td><a class=\"ProveItLink\" href=\"../e1309bcff375adc6c3a7de7618a52b498ff2f3ed0/expr.ipynb\"><img src=\"../e1309bcff375adc6c3a7de7618a52b498ff2f3ed0/expr.png\" style=\"display:inline;vertical-align:middle;\" /></a></td></tr>\n",
       "<tr><td>10</td><td>Literal</td><td></td><td><a class=\"ProveItLink\" href=\"../../common/82dcc5880b402b429a17682b33d89b598b383f720/expr.ipynb\"><img src=\"../../common/82dcc5880b402b429a17682b33d89b598b383f720/expr.png\" style=\"display:inline;vertical-align:middle;\" /></a></td></tr>\n",
       "<tr><td>11</td><td>Variable</td><td></td><td><a class=\"ProveItLink\" href=\"../../../../../../__pv_it/common/59f31a8342922b276a7a786e52f38b7bb6b875550/expr.ipynb\"><img src=\"../../../../../../__pv_it/common/59f31a8342922b276a7a786e52f38b7bb6b875550/expr.png\" style=\"display:inline;vertical-align:middle;\" /></a></td></tr>\n",
       "</table>\n"
      ],
      "text/plain": [
       "0. ([Pfail](eps), 1 - [Psuccess](eps))\n",
       "   core type: ExprTuple\n",
       "   sub-expressions: 1, 2\n",
       "1. [Pfail](eps)\n",
       "   core type: Operation\n",
       "   operator: 3\n",
       "   operand: 11\n",
       "2. 1 - [Psuccess](eps)\n",
       "   core type: Operation\n",
       "   operator: 4\n",
       "   operands: 5\n",
       "3. Pfail\n",
       "   core type: Literal\n",
       "   sub-expressions: \n",
       "4. +\n",
       "   core type: Literal\n",
       "   sub-expressions: \n",
       "5. (1, -[Psuccess](eps))\n",
       "   core type: ExprTuple\n",
       "   sub-expressions: 6, 7\n",
       "6. 1\n",
       "   core type: Literal\n",
       "   sub-expressions: \n",
       "7. -[Psuccess](eps)\n",
       "   core type: Operation\n",
       "   operator: 8\n",
       "   operand: 9\n",
       "8. -\n",
       "   core type: Literal\n",
       "   sub-expressions: \n",
       "9. [Psuccess](eps)\n",
       "   core type: Operation\n",
       "   operator: 10\n",
       "   operand: 11\n",
       "10. Psuccess\n",
       "    core type: Literal\n",
       "    sub-expressions: \n",
       "11. eps\n",
       "    core type: Variable\n",
       "    sub-expressions: "
      ]
     },
     "execution_count": 5,
     "metadata": {},
     "output_type": "execute_result"
    }
   ],
   "source": [
    "# display the expression information\n",
    "expr.expr_info()"
   ]
  },
  {
   "cell_type": "code",
   "execution_count": null,
   "metadata": {},
   "outputs": [],
   "source": []
  }
 ],
 "metadata": {
  "kernelspec": {
   "display_name": "Python 3",
   "language": "python",
   "name": "python3"
  }
 },
 "nbformat": 4,
 "nbformat_minor": 0
}