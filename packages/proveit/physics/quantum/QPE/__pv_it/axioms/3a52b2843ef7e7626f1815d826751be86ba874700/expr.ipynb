{
 "cells": [
  {
   "cell_type": "markdown",
   "metadata": {},
   "source": [
    "Expression of type <a class=\"ProveItLink\" href=\"../../../../../../../../doc/html/api/proveit.physics.quantum.circuit.Circuit.html\">Circuit</a>\n",
    "=======================\n",
    "# from the theory of <a class=\"ProveItLink\" href=\"../../../_theory_nbs_/theory.ipynb\">proveit.physics.quantum.QPE</a>"
   ]
  },
  {
   "cell_type": "code",
   "execution_count": 1,
   "metadata": {},
   "outputs": [],
   "source": [
    "import proveit\n",
    "# Automation is not needed when building an expression:\n",
    "proveit.defaults.automation = False # This will speed things up.\n",
    "proveit.defaults.inline_pngs = False # Makes files smaller.\n",
    "%load_expr # Load the stored expression as 'stored_expr'\n",
    "# import Expression classes needed to build the expression\n",
    "from proveit import ExprArray\n",
    "from proveit.logic import Set\n",
    "from proveit.numbers import one, two\n",
    "from proveit.physics.quantum import CONTROL, Hgate, Input, Ket, Output, ket0\n",
    "from proveit.physics.quantum.QPE import U_, psi_1, u_\n",
    "from proveit.physics.quantum.circuit import Circuit, IdentityOp, MultiQubitGate"
   ]
  },
  {
   "cell_type": "code",
   "execution_count": 2,
   "metadata": {},
   "outputs": [
    {
     "data": {
      "text/html": [
       "<strong id=\"expr\">expr:</strong> <a class=\"ProveItLink\" href=\"expr.ipynb\"><img src=\"expr.png\" style=\"display:inline;vertical-align:middle;\" /></a><br>"
      ],
      "text/plain": [
       "expr:  Input(|0〉)  & Gate(H)  & MultiQubitGate(CONTROL, {1, 2})  & Output(|psi_{1}〉)   \\\\ \n",
       "   Input(|u〉)  & --  & MultiQubitGate(U, {1, 2})  & Output(|u〉)"
      ]
     },
     "execution_count": 2,
     "metadata": {},
     "output_type": "execute_result"
    }
   ],
   "source": [
    "# build up the expression from sub-expressions\n",
    "sub_expr1 = Set(one, two)\n",
    "sub_expr2 = Ket(u_)\n",
    "expr = Circuit(ExprArray([Input(ket0), Hgate, MultiQubitGate(CONTROL, sub_expr1), Output(Ket(psi_1))], [Input(sub_expr2), IdentityOp(), MultiQubitGate(U_, sub_expr1), Output(sub_expr2)]))"
   ]
  },
  {
   "cell_type": "code",
   "execution_count": 3,
   "metadata": {},
   "outputs": [
    {
     "name": "stdout",
     "output_type": "stream",
     "text": [
      "Passed sanity check: expr matches stored_expr\n"
     ]
    }
   ],
   "source": [
    "# check that the built expression is the same as the stored expression\n",
    "assert expr == stored_expr\n",
    "assert expr._style_id == stored_expr._style_id\n",
    "print(\"Passed sanity check: expr matches stored_expr\")"
   ]
  },
  {
   "cell_type": "code",
   "execution_count": 4,
   "metadata": {},
   "outputs": [
    {
     "name": "stdout",
     "output_type": "stream",
     "text": [
      "\\hspace{2em} \\Qcircuit@C=1em @R=.7em{\n",
      "& \\lstick{\\lvert 0 \\rangle} & \\gate{H} & \\control \\qw \\qwx[1] & \\rstick{\\lvert \\psi_{1} \\rangle} \\qw   \\\\ \n",
      "  & \\lstick{\\lvert u \\rangle} & \\qw & \\gate{U} & \\rstick{\\lvert u \\rangle} \\qw \n",
      "} \\hspace{2em}\n"
     ]
    }
   ],
   "source": [
    "# Show the LaTeX representation of the expression for convenience if you need it.\n",
    "print(expr.latex())"
   ]
  },
  {
   "cell_type": "code",
   "execution_count": 5,
   "metadata": {},
   "outputs": [
    {
     "data": {
      "text/html": [
       "<table>\n",
       "<tr><th>name</th><th>description</th><th>default</th><th>current value</th><th>related methods</th></tr><tr><td>spacing</td><td>change the spacing of a circuit using the format '@C=1em @R=.7em' where C is the column spacing and R is the row spacing</td><td>@C=1em @R=.7em</td><td>@C=1em @R=.7em</td><td></td></tr>\n",
       "<tr><td>orientation</td><td>to be read from left to right then top to bottom ('horizontal') or to be read top to bottom then left to right ('vertical')</td><td>horizontal</td><td>horizontal</td><td>with_orientation</td></tr>\n",
       "</table>\n"
      ],
      "text/plain": [
       "style name: spacing\n",
       "description: change the spacing of a circuit using the format '@C=1em @R=.7em' where C is the column spacing and R is the row spacing\n",
       "default: @C=1em @R=.7em\n",
       "current value: @C=1em @R=.7em\n",
       "related methods: ()\n",
       "style name: orientation\n",
       "description: to be read from left to right then top to bottom ('horizontal') or to be read top to bottom then left to right ('vertical')\n",
       "default: horizontal\n",
       "current value: horizontal\n",
       "related methods: with_orientation"
      ]
     },
     "execution_count": 5,
     "metadata": {},
     "output_type": "execute_result"
    }
   ],
   "source": [
    "expr.style_options()"
   ]
  },
  {
   "cell_type": "code",
   "execution_count": 6,
   "metadata": {},
   "outputs": [
    {
     "data": {
      "text/html": [
       "<table><tr><th>&nbsp;</th><th>core type</th><th>sub-expressions</th><th>expression</th></tr>\n",
       "<tr><td>0</td><td>Operation</td><td>operator:&nbsp;1<br>operand:&nbsp;3<br></td><td><a class=\"ProveItLink\" href=\"expr.ipynb\"><img src=\"expr.png\" style=\"display:inline;vertical-align:middle;\" /></a></td></tr>\n",
       "<tr><td>1</td><td>Literal</td><td></td><td><a class=\"ProveItLink\" href=\"../../../../__pv_it/common/bfa5cfb2e03dde2ed2a79fcd50b6e0ef7e57c1b10/expr.ipynb\"><img src=\"../../../../__pv_it/common/bfa5cfb2e03dde2ed2a79fcd50b6e0ef7e57c1b10/expr.png\" style=\"display:inline;vertical-align:middle;\" /></a></td></tr>\n",
       "<tr><td>2</td><td>ExprTuple</td><td>3</td><td><a class=\"ProveItLink\" href=\"../063fed702214f19f808f22a9cc4b4604e57040720/expr.ipynb\"><img src=\"../063fed702214f19f808f22a9cc4b4604e57040720/expr.png\" style=\"display:inline;vertical-align:middle;\" /></a></td></tr>\n",
       "<tr><td>3</td><td>ExprTuple</td><td>4, 5</td><td><a class=\"ProveItLink\" href=\"../210bf68c5bf1a9f2ae2d8eef2f10b5981a8f06910/expr.ipynb\"><img src=\"../210bf68c5bf1a9f2ae2d8eef2f10b5981a8f06910/expr.png\" style=\"display:inline;vertical-align:middle;\" /></a></td></tr>\n",
       "<tr><td>4</td><td>ExprTuple</td><td>6, 7, 8, 9</td><td><a class=\"ProveItLink\" href=\"../c1cfbd84e9b1fba24a7e311ce5e27937094ffcdc0/expr.ipynb\"><img src=\"../c1cfbd84e9b1fba24a7e311ce5e27937094ffcdc0/expr.png\" style=\"display:inline;vertical-align:middle;\" /></a></td></tr>\n",
       "<tr><td>5</td><td>ExprTuple</td><td>10, 11, 12, 13</td><td><a class=\"ProveItLink\" href=\"../96be8b384e3134958db627d60f2b209c04103ad90/expr.ipynb\"><img src=\"../96be8b384e3134958db627d60f2b209c04103ad90/expr.png\" style=\"display:inline;vertical-align:middle;\" /></a></td></tr>\n",
       "<tr><td>6</td><td>Operation</td><td>operator:&nbsp;19<br>operand:&nbsp;24<br></td><td><a class=\"ProveItLink\" href=\"../f203a0c4784095fae86209fdf197b73788bbaeda0/expr.ipynb\"><img src=\"../f203a0c4784095fae86209fdf197b73788bbaeda0/expr.png\" style=\"display:inline;vertical-align:middle;\" /></a></td></tr>\n",
       "<tr><td>7</td><td>Operation</td><td>operator:&nbsp;15<br>operand:&nbsp;25<br></td><td><a class=\"ProveItLink\" href=\"../../../../__pv_it/common/4e5f7aa707771c30ce87489d65e2cdf0deb302900/expr.ipynb\"><img src=\"../../../../__pv_it/common/4e5f7aa707771c30ce87489d65e2cdf0deb302900/expr.png\" style=\"display:inline;vertical-align:middle;\" /></a></td></tr>\n",
       "<tr><td>8</td><td>Operation</td><td>operator:&nbsp;20<br>operands:&nbsp;17<br></td><td><a class=\"ProveItLink\" href=\"../446afaf25032f21e28ffe910de61d56e00d405630/expr.ipynb\"><img src=\"../446afaf25032f21e28ffe910de61d56e00d405630/expr.png\" style=\"display:inline;vertical-align:middle;\" /></a></td></tr>\n",
       "<tr><td>9</td><td>Operation</td><td>operator:&nbsp;22<br>operand:&nbsp;27<br></td><td><a class=\"ProveItLink\" href=\"../f2dd2c215e118c64945d9040fb0fb008151331560/expr.ipynb\"><img src=\"../f2dd2c215e118c64945d9040fb0fb008151331560/expr.png\" style=\"display:inline;vertical-align:middle;\" /></a></td></tr>\n",
       "<tr><td>10</td><td>Operation</td><td>operator:&nbsp;19<br>operand:&nbsp;30<br></td><td><a class=\"ProveItLink\" href=\"../f0241dc2885acd1af222f5562ca8156cc21f224e0/expr.ipynb\"><img src=\"../f0241dc2885acd1af222f5562ca8156cc21f224e0/expr.png\" style=\"display:inline;vertical-align:middle;\" /></a></td></tr>\n",
       "<tr><td>11</td><td>Literal</td><td></td><td><a class=\"ProveItLink\" href=\"../15a58d6f1ab95e747b9d951dfc0b2c25be0008380/expr.ipynb\"><img src=\"../15a58d6f1ab95e747b9d951dfc0b2c25be0008380/expr.png\" style=\"display:inline;vertical-align:middle;\" /></a></td></tr>\n",
       "<tr><td>12</td><td>Operation</td><td>operator:&nbsp;20<br>operands:&nbsp;21<br></td><td><a class=\"ProveItLink\" href=\"../f34b6d4e97bb5e722151db53d0a2d6f3febd2af30/expr.ipynb\"><img src=\"../f34b6d4e97bb5e722151db53d0a2d6f3febd2af30/expr.png\" style=\"display:inline;vertical-align:middle;\" /></a></td></tr>\n",
       "<tr><td>13</td><td>Operation</td><td>operator:&nbsp;22<br>operand:&nbsp;30<br></td><td><a class=\"ProveItLink\" href=\"../e794123082fdc198f14937174e697e2170dd547e0/expr.ipynb\"><img src=\"../e794123082fdc198f14937174e697e2170dd547e0/expr.png\" style=\"display:inline;vertical-align:middle;\" /></a></td></tr>\n",
       "<tr><td>14</td><td>ExprTuple</td><td>24</td><td><a class=\"ProveItLink\" href=\"../010355b1fbae050ff3e3fcfb4a8a32ffca2d54880/expr.ipynb\"><img src=\"../010355b1fbae050ff3e3fcfb4a8a32ffca2d54880/expr.png\" style=\"display:inline;vertical-align:middle;\" /></a></td></tr>\n",
       "<tr><td>15</td><td>Literal</td><td></td><td><a class=\"ProveItLink\" href=\"../../../../__pv_it/common/44032ea2879a75be63dcfde93f5992fe3f6108fc0/expr.ipynb\"><img src=\"../../../../__pv_it/common/44032ea2879a75be63dcfde93f5992fe3f6108fc0/expr.png\" style=\"display:inline;vertical-align:middle;\" /></a></td></tr>\n",
       "<tr><td>16</td><td>ExprTuple</td><td>25</td><td><a class=\"ProveItLink\" href=\"../../../../__pv_it/common/3fad73e00e956fe7fe310685b46430fe25e3744b0/expr.ipynb\"><img src=\"../../../../__pv_it/common/3fad73e00e956fe7fe310685b46430fe25e3744b0/expr.png\" style=\"display:inline;vertical-align:middle;\" /></a></td></tr>\n",
       "<tr><td>17</td><td>ExprTuple</td><td>26, 29</td><td><a class=\"ProveItLink\" href=\"../dfd61bb8b76e1e620e3b67e5b16a08202e6348b90/expr.ipynb\"><img src=\"../dfd61bb8b76e1e620e3b67e5b16a08202e6348b90/expr.png\" style=\"display:inline;vertical-align:middle;\" /></a></td></tr>\n",
       "<tr><td>18</td><td>ExprTuple</td><td>27</td><td><a class=\"ProveItLink\" href=\"../b062d2353dad8c020698ae14cdb545b014d9acbe0/expr.ipynb\"><img src=\"../b062d2353dad8c020698ae14cdb545b014d9acbe0/expr.png\" style=\"display:inline;vertical-align:middle;\" /></a></td></tr>\n",
       "<tr><td>19</td><td>Literal</td><td></td><td><a class=\"ProveItLink\" href=\"../../../../__pv_it/common/96232b9016d8d3baf1cf9772ef796ddaf8f7f4610/expr.ipynb\"><img src=\"../../../../__pv_it/common/96232b9016d8d3baf1cf9772ef796ddaf8f7f4610/expr.png\" style=\"display:inline;vertical-align:middle;\" /></a></td></tr>\n",
       "<tr><td>20</td><td>Literal</td><td></td><td><a class=\"ProveItLink\" href=\"../../../../__pv_it/common/38deceb0a69e80c36399d725649803706802a2a90/expr.ipynb\"><img src=\"../../../../__pv_it/common/38deceb0a69e80c36399d725649803706802a2a90/expr.png\" style=\"display:inline;vertical-align:middle;\" /></a></td></tr>\n",
       "<tr><td>21</td><td>ExprTuple</td><td>28, 29</td><td><a class=\"ProveItLink\" href=\"../e3d52b0532f6a2c18795c0354d8114548c7023650/expr.ipynb\"><img src=\"../e3d52b0532f6a2c18795c0354d8114548c7023650/expr.png\" style=\"display:inline;vertical-align:middle;\" /></a></td></tr>\n",
       "<tr><td>22</td><td>Literal</td><td></td><td><a class=\"ProveItLink\" href=\"../../../../__pv_it/common/a31fa972f0ff74e32d7bde73a99a2ddf76467fac0/expr.ipynb\"><img src=\"../../../../__pv_it/common/a31fa972f0ff74e32d7bde73a99a2ddf76467fac0/expr.png\" style=\"display:inline;vertical-align:middle;\" /></a></td></tr>\n",
       "<tr><td>23</td><td>ExprTuple</td><td>30</td><td><a class=\"ProveItLink\" href=\"../f2502b02436e0de1b8e30d6b35d7d637a54315000/expr.ipynb\"><img src=\"../f2502b02436e0de1b8e30d6b35d7d637a54315000/expr.png\" style=\"display:inline;vertical-align:middle;\" /></a></td></tr>\n",
       "<tr><td>24</td><td>Operation</td><td>operator:&nbsp;35<br>operand:&nbsp;37<br></td><td><a class=\"ProveItLink\" href=\"../../../../__pv_it/common/ed60e75561684be6b18310df5c479706894f1f410/expr.ipynb\"><img src=\"../../../../__pv_it/common/ed60e75561684be6b18310df5c479706894f1f410/expr.png\" style=\"display:inline;vertical-align:middle;\" /></a></td></tr>\n",
       "<tr><td>25</td><td>Literal</td><td></td><td><a class=\"ProveItLink\" href=\"../../../../__pv_it/common/368cf31b7f078f904d5478ccb332c7d15763fe920/expr.ipynb\"><img src=\"../../../../__pv_it/common/368cf31b7f078f904d5478ccb332c7d15763fe920/expr.png\" style=\"display:inline;vertical-align:middle;\" /></a></td></tr>\n",
       "<tr><td>26</td><td>Literal</td><td></td><td><a class=\"ProveItLink\" href=\"../../../../__pv_it/common/b1beec78d8cd5a1effa0b2b1f6910261ffe687cf0/expr.ipynb\"><img src=\"../../../../__pv_it/common/b1beec78d8cd5a1effa0b2b1f6910261ffe687cf0/expr.png\" style=\"display:inline;vertical-align:middle;\" /></a></td></tr>\n",
       "<tr><td>27</td><td>Operation</td><td>operator:&nbsp;35<br>operand:&nbsp;38<br></td><td><a class=\"ProveItLink\" href=\"../5e4e8cb2c4e95b8247809306564b4aa9eff5a8f10/expr.ipynb\"><img src=\"../5e4e8cb2c4e95b8247809306564b4aa9eff5a8f10/expr.png\" style=\"display:inline;vertical-align:middle;\" /></a></td></tr>\n",
       "<tr><td>28</td><td>Literal</td><td></td><td><a class=\"ProveItLink\" href=\"../../common/2ea3443f58c4c19a2201227dd2ef87c749a11f8e0/expr.ipynb\"><img src=\"../../common/2ea3443f58c4c19a2201227dd2ef87c749a11f8e0/expr.png\" style=\"display:inline;vertical-align:middle;\" /></a></td></tr>\n",
       "<tr><td>29</td><td>Operation</td><td>operator:&nbsp;33<br>operands:&nbsp;34<br></td><td><a class=\"ProveItLink\" href=\"../12c9afa0523c4e4b5b9b2ef18aa403953cd0e9870/expr.ipynb\"><img src=\"../12c9afa0523c4e4b5b9b2ef18aa403953cd0e9870/expr.png\" style=\"display:inline;vertical-align:middle;\" /></a></td></tr>\n",
       "<tr><td>30</td><td>Operation</td><td>operator:&nbsp;35<br>operand:&nbsp;40<br></td><td><a class=\"ProveItLink\" href=\"../8249d0725815b3750f80d4b6466a252f4e6c52c40/expr.ipynb\"><img src=\"../8249d0725815b3750f80d4b6466a252f4e6c52c40/expr.png\" style=\"display:inline;vertical-align:middle;\" /></a></td></tr>\n",
       "<tr><td>31</td><td>ExprTuple</td><td>37</td><td><a class=\"ProveItLink\" href=\"../../../../__pv_it/common/f243cd078d9a833f4a423d1194e14ef4aae6b6fe0/expr.ipynb\"><img src=\"../../../../__pv_it/common/f243cd078d9a833f4a423d1194e14ef4aae6b6fe0/expr.png\" style=\"display:inline;vertical-align:middle;\" /></a></td></tr>\n",
       "<tr><td>32</td><td>ExprTuple</td><td>38</td><td><a class=\"ProveItLink\" href=\"../d3842252a8e49769de8247a5cefc09a1052b8e3c0/expr.ipynb\"><img src=\"../d3842252a8e49769de8247a5cefc09a1052b8e3c0/expr.png\" style=\"display:inline;vertical-align:middle;\" /></a></td></tr>\n",
       "<tr><td>33</td><td>Literal</td><td></td><td><a class=\"ProveItLink\" href=\"../../../../../../logic/sets/enumeration/__pv_it/common/f7caf702081f903a6ea3d95d680568dd78698f5a0/expr.ipynb\"><img src=\"../../../../../../logic/sets/enumeration/__pv_it/common/f7caf702081f903a6ea3d95d680568dd78698f5a0/expr.png\" style=\"display:inline;vertical-align:middle;\" /></a></td></tr>\n",
       "<tr><td>34</td><td>ExprTuple</td><td>44, 39</td><td><a class=\"ProveItLink\" href=\"../b6dda0abe24a4592fb130c02ca5a89c1328050430/expr.ipynb\"><img src=\"../b6dda0abe24a4592fb130c02ca5a89c1328050430/expr.png\" style=\"display:inline;vertical-align:middle;\" /></a></td></tr>\n",
       "<tr><td>35</td><td>Literal</td><td></td><td><a class=\"ProveItLink\" href=\"../../../../__pv_it/common/6e9e7d19bd9dfa08dee7501fca955461a19971770/expr.ipynb\"><img src=\"../../../../__pv_it/common/6e9e7d19bd9dfa08dee7501fca955461a19971770/expr.png\" style=\"display:inline;vertical-align:middle;\" /></a></td></tr>\n",
       "<tr><td>36</td><td>ExprTuple</td><td>40</td><td><a class=\"ProveItLink\" href=\"../b1fdd7920090b1921888dd9451e2509ffe27a53a0/expr.ipynb\"><img src=\"../b1fdd7920090b1921888dd9451e2509ffe27a53a0/expr.png\" style=\"display:inline;vertical-align:middle;\" /></a></td></tr>\n",
       "<tr><td>37</td><td>Literal</td><td></td><td><a class=\"ProveItLink\" href=\"../../../../../../numbers/numerals/__pv_it/common/c35fdf7268947ca3e24174d2909dc9d0a7f3aac60/expr.ipynb\"><img src=\"../../../../../../numbers/numerals/__pv_it/common/c35fdf7268947ca3e24174d2909dc9d0a7f3aac60/expr.png\" style=\"display:inline;vertical-align:middle;\" /></a></td></tr>\n",
       "<tr><td>38</td><td>Operation</td><td>operator:&nbsp;41<br>operands:&nbsp;42<br></td><td><a class=\"ProveItLink\" href=\"../../common/d397cb2e057bab5726cd53411872081d1abde23f0/expr.ipynb\"><img src=\"../../common/d397cb2e057bab5726cd53411872081d1abde23f0/expr.png\" style=\"display:inline;vertical-align:middle;\" /></a></td></tr>\n",
       "<tr><td>39</td><td>Literal</td><td></td><td><a class=\"ProveItLink\" href=\"../../../../../../numbers/numerals/__pv_it/common/3829356ce3fdf8f35810c63c00bc1a19e838663e0/expr.ipynb\"><img src=\"../../../../../../numbers/numerals/__pv_it/common/3829356ce3fdf8f35810c63c00bc1a19e838663e0/expr.png\" style=\"display:inline;vertical-align:middle;\" /></a></td></tr>\n",
       "<tr><td>40</td><td>Literal</td><td></td><td><a class=\"ProveItLink\" href=\"../../common/db65f249a8efc9b5d2c8086208d7528af652cfb50/expr.ipynb\"><img src=\"../../common/db65f249a8efc9b5d2c8086208d7528af652cfb50/expr.png\" style=\"display:inline;vertical-align:middle;\" /></a></td></tr>\n",
       "<tr><td>41</td><td>Literal</td><td></td><td><a class=\"ProveItLink\" href=\"../../common/fa834395d810710d865bb8379bdb0806d419db9b0/expr.ipynb\"><img src=\"../../common/fa834395d810710d865bb8379bdb0806d419db9b0/expr.png\" style=\"display:inline;vertical-align:middle;\" /></a></td></tr>\n",
       "<tr><td>42</td><td>ExprTuple</td><td>43, 44</td><td><a class=\"ProveItLink\" href=\"../../common/ebf17137c6b4ef0099eb031a85596358c91e813d0/expr.ipynb\"><img src=\"../../common/ebf17137c6b4ef0099eb031a85596358c91e813d0/expr.png\" style=\"display:inline;vertical-align:middle;\" /></a></td></tr>\n",
       "<tr><td>43</td><td>Literal</td><td></td><td><a class=\"ProveItLink\" href=\"../../common/75803d7f98d960f8e6bd4164c021ff1cd28aca5d0/expr.ipynb\"><img src=\"../../common/75803d7f98d960f8e6bd4164c021ff1cd28aca5d0/expr.png\" style=\"display:inline;vertical-align:middle;\" /></a></td></tr>\n",
       "<tr><td>44</td><td>Literal</td><td></td><td><a class=\"ProveItLink\" href=\"../../../../../../numbers/numerals/__pv_it/common/d278e359da0695d9652dd541d45264f93703e2e40/expr.ipynb\"><img src=\"../../../../../../numbers/numerals/__pv_it/common/d278e359da0695d9652dd541d45264f93703e2e40/expr.png\" style=\"display:inline;vertical-align:middle;\" /></a></td></tr>\n",
       "</table>\n"
      ],
      "text/plain": [
       "0.  Input(|0〉)  & Gate(H)  & MultiQubitGate(CONTROL, {1, 2})  & Output(|psi_{1}〉)   \\\\ \n",
       "   Input(|u〉)  & --  & MultiQubitGate(U, {1, 2})  & Output(|u〉)\n",
       "   core type: Operation\n",
       "   operator: 1\n",
       "   operand: 3\n",
       "1. CIRCUIT\n",
       "   core type: Literal\n",
       "   sub-expressions: \n",
       "2. ((Input(|0〉) & Gate(H) & MultiQubitGate(CONTROL, {1, 2}) & Output(|psi_{1}〉)  \\\\ \n",
       "  Input(|u〉) & -- & MultiQubitGate(U, {1, 2}) & Output(|u〉)))\n",
       "   core type: ExprTuple\n",
       "   sub-expressions: 3\n",
       "3. Input(|0〉) & Gate(H) & MultiQubitGate(CONTROL, {1, 2}) & Output(|psi_{1}〉)  \\\\ \n",
       "  Input(|u〉) & -- & MultiQubitGate(U, {1, 2}) & Output(|u〉)\n",
       "   core type: ExprTuple\n",
       "   sub-expressions: 4, 5\n",
       "4. (Input(|0〉), Gate(H), MultiQubitGate(CONTROL, {1, 2}), Output(|psi_{1}〉))\n",
       "   core type: ExprTuple\n",
       "   sub-expressions: 6, 7, 8, 9\n",
       "5. (Input(|u〉), --, MultiQubitGate(U, {1, 2}), Output(|u〉))\n",
       "   core type: ExprTuple\n",
       "   sub-expressions: 10, 11, 12, 13\n",
       "6. Input(|0〉)\n",
       "   core type: Operation\n",
       "   operator: 19\n",
       "   operand: 24\n",
       "7. Gate(H)\n",
       "   core type: Operation\n",
       "   operator: 15\n",
       "   operand: 25\n",
       "8. MultiQubitGate(CONTROL, {1, 2})\n",
       "   core type: Operation\n",
       "   operator: 20\n",
       "   operands: 17\n",
       "9. Output(|psi_{1}〉)\n",
       "   core type: Operation\n",
       "   operator: 22\n",
       "   operand: 27\n",
       "10. Input(|u〉)\n",
       "    core type: Operation\n",
       "    operator: 19\n",
       "    operand: 30\n",
       "11. --\n",
       "    core type: Literal\n",
       "    sub-expressions: \n",
       "12. MultiQubitGate(U, {1, 2})\n",
       "    core type: Operation\n",
       "    operator: 20\n",
       "    operands: 21\n",
       "13. Output(|u〉)\n",
       "    core type: Operation\n",
       "    operator: 22\n",
       "    operand: 30\n",
       "14. (|0〉)\n",
       "    core type: ExprTuple\n",
       "    sub-expressions: 24\n",
       "15. GATE\n",
       "    core type: Literal\n",
       "    sub-expressions: \n",
       "16. (H)\n",
       "    core type: ExprTuple\n",
       "    sub-expressions: 25\n",
       "17. (CONTROL, {1, 2})\n",
       "    core type: ExprTuple\n",
       "    sub-expressions: 26, 29\n",
       "18. (|psi_{1}〉)\n",
       "    core type: ExprTuple\n",
       "    sub-expressions: 27\n",
       "19. INPUT\n",
       "    core type: Literal\n",
       "    sub-expressions: \n",
       "20. MULTI_QUBIT_GATE\n",
       "    core type: Literal\n",
       "    sub-expressions: \n",
       "21. (U, {1, 2})\n",
       "    core type: ExprTuple\n",
       "    sub-expressions: 28, 29\n",
       "22. OUTPUT\n",
       "    core type: Literal\n",
       "    sub-expressions: \n",
       "23. (|u〉)\n",
       "    core type: ExprTuple\n",
       "    sub-expressions: 30\n",
       "24. |0〉\n",
       "    core type: Operation\n",
       "    operator: 35\n",
       "    operand: 37\n",
       "25. H\n",
       "    core type: Literal\n",
       "    sub-expressions: \n",
       "26. CONTROL\n",
       "    core type: Literal\n",
       "    sub-expressions: \n",
       "27. |psi_{1}〉\n",
       "    core type: Operation\n",
       "    operator: 35\n",
       "    operand: 38\n",
       "28. U\n",
       "    core type: Literal\n",
       "    sub-expressions: \n",
       "29. {1, 2}\n",
       "    core type: Operation\n",
       "    operator: 33\n",
       "    operands: 34\n",
       "30. |u〉\n",
       "    core type: Operation\n",
       "    operator: 35\n",
       "    operand: 40\n",
       "31. (0)\n",
       "    core type: ExprTuple\n",
       "    sub-expressions: 37\n",
       "32. (psi_{1})\n",
       "    core type: ExprTuple\n",
       "    sub-expressions: 38\n",
       "33. Set\n",
       "    core type: Literal\n",
       "    sub-expressions: \n",
       "34. (1, 2)\n",
       "    core type: ExprTuple\n",
       "    sub-expressions: 44, 39\n",
       "35. KET\n",
       "    core type: Literal\n",
       "    sub-expressions: \n",
       "36. (u)\n",
       "    core type: ExprTuple\n",
       "    sub-expressions: 40\n",
       "37. 0\n",
       "    core type: Literal\n",
       "    sub-expressions: \n",
       "38. psi_{1}\n",
       "    core type: Operation\n",
       "    operator: 41\n",
       "    operands: 42\n",
       "39. 2\n",
       "    core type: Literal\n",
       "    sub-expressions: \n",
       "40. u\n",
       "    core type: Literal\n",
       "    sub-expressions: \n",
       "41. SUB_INDEXED\n",
       "    core type: Literal\n",
       "    sub-expressions: \n",
       "42. (psi, 1)\n",
       "    core type: ExprTuple\n",
       "    sub-expressions: 43, 44\n",
       "43. psi\n",
       "    core type: Literal\n",
       "    sub-expressions: \n",
       "44. 1\n",
       "    core type: Literal\n",
       "    sub-expressions: "
      ]
     },
     "execution_count": 6,
     "metadata": {},
     "output_type": "execute_result"
    }
   ],
   "source": [
    "# display the expression information\n",
    "expr.expr_info()"
   ]
  },
  {
   "cell_type": "code",
   "execution_count": null,
   "metadata": {},
   "outputs": [],
   "source": []
  }
 ],
 "metadata": {
  "kernelspec": {
   "display_name": "Python 3",
   "language": "python",
   "name": "python3"
  }
 },
 "nbformat": 4,
 "nbformat_minor": 0
}