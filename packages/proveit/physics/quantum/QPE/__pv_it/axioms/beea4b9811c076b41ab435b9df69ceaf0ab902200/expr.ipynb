{
 "cells": [
  {
   "cell_type": "markdown",
   "metadata": {},
   "source": [
    "Expression of type <a class=\"ProveItLink\" href=\"../../../../../../../../doc/html/api/proveit.statistics.Prob.html\">Prob</a>\n",
    "=======================\n",
    "# from the theory of <a class=\"ProveItLink\" href=\"../../../_theory_nbs_/theory.ipynb\">proveit.physics.quantum.QPE</a>"
   ]
  },
  {
   "cell_type": "code",
   "execution_count": 1,
   "metadata": {},
   "outputs": [],
   "source": [
    "import proveit\n",
    "# Automation is not needed when building an expression:\n",
    "proveit.defaults.automation = False # This will speed things up.\n",
    "proveit.defaults.inline_pngs = False # Makes files smaller.\n",
    "%load_expr # Load the stored expression as 'stored_expr'\n",
    "# import Expression classes needed to build the expression\n",
    "from proveit import eps\n",
    "from proveit.numbers import Add, LessEq, ModAbs, Neg\n",
    "from proveit.physics.quantum.QPE import b_, m_, two_pow_t\n",
    "from proveit.statistics import Prob"
   ]
  },
  {
   "cell_type": "code",
   "execution_count": 2,
   "metadata": {},
   "outputs": [
    {
     "data": {
      "text/html": [
       "<strong id=\"expr\">expr:</strong> <a class=\"ProveItLink\" href=\"expr.ipynb\"><img src=\"expr.png\" style=\"display:inline;vertical-align:middle;\" /></a><br>"
      ],
      "text/plain": [
       "expr: Pr_{m}[|m - b|_{mod 2^{t}} <= eps]"
      ]
     },
     "execution_count": 2,
     "metadata": {},
     "output_type": "execute_result"
    }
   ],
   "source": [
    "# build up the expression from sub-expressions\n",
    "expr = Prob(LessEq(ModAbs(Add(m_, Neg(b_)), two_pow_t), eps), m_)"
   ]
  },
  {
   "cell_type": "code",
   "execution_count": 3,
   "metadata": {},
   "outputs": [
    {
     "name": "stdout",
     "output_type": "stream",
     "text": [
      "Passed sanity check: expr matches stored_expr\n"
     ]
    }
   ],
   "source": [
    "# check that the built expression is the same as the stored expression\n",
    "assert expr == stored_expr\n",
    "assert expr._style_id == stored_expr._style_id\n",
    "print(\"Passed sanity check: expr matches stored_expr\")"
   ]
  },
  {
   "cell_type": "code",
   "execution_count": 4,
   "metadata": {},
   "outputs": [
    {
     "name": "stdout",
     "output_type": "stream",
     "text": [
      "Pr_{m}[\\left|m - b\\right|_{\\textup{mod}\\thinspace 2^{t}} \\leq \\varepsilon]\n"
     ]
    }
   ],
   "source": [
    "# Show the LaTeX representation of the expression for convenience if you need it.\n",
    "print(expr.latex())"
   ]
  },
  {
   "cell_type": "code",
   "execution_count": 5,
   "metadata": {},
   "outputs": [
    {
     "data": {
      "text/html": [
       "<table><tr><th>&nbsp;</th><th>core type</th><th>sub-expressions</th><th>expression</th></tr>\n",
       "<tr><td>0</td><td>Operation</td><td>operator:&nbsp;1<br>operands:&nbsp;2<br></td><td><a class=\"ProveItLink\" href=\"expr.ipynb\"><img src=\"expr.png\" style=\"display:inline;vertical-align:middle;\" /></a></td></tr>\n",
       "<tr><td>1</td><td>Literal</td><td></td><td><a class=\"ProveItLink\" href=\"../../../../../../statistics/__pv_it/common/49129544cc02d9b56f20e46edf1a8bda4b285b220/expr.ipynb\"><img src=\"../../../../../../statistics/__pv_it/common/49129544cc02d9b56f20e46edf1a8bda4b285b220/expr.png\" style=\"display:inline;vertical-align:middle;\" /></a></td></tr>\n",
       "<tr><td>2</td><td>ExprTuple</td><td>3, 16</td><td><a class=\"ProveItLink\" href=\"../2c436cf995fc2c9d9837f646c3d3c11978321be70/expr.ipynb\"><img src=\"../2c436cf995fc2c9d9837f646c3d3c11978321be70/expr.png\" style=\"display:inline;vertical-align:middle;\" /></a></td></tr>\n",
       "<tr><td>3</td><td>Operation</td><td>operator:&nbsp;4<br>operands:&nbsp;5<br></td><td><a class=\"ProveItLink\" href=\"../262b61d43cc7e8632d4c93506e8802f4b1a62d850/expr.ipynb\"><img src=\"../262b61d43cc7e8632d4c93506e8802f4b1a62d850/expr.png\" style=\"display:inline;vertical-align:middle;\" /></a></td></tr>\n",
       "<tr><td>4</td><td>Literal</td><td></td><td><a class=\"ProveItLink\" href=\"../../../../../../numbers/ordering/__pv_it/common/68379698d72b4689bbda4b5c5cca29ee599d70280/expr.ipynb\"><img src=\"../../../../../../numbers/ordering/__pv_it/common/68379698d72b4689bbda4b5c5cca29ee599d70280/expr.png\" style=\"display:inline;vertical-align:middle;\" /></a></td></tr>\n",
       "<tr><td>5</td><td>ExprTuple</td><td>6, 7</td><td><a class=\"ProveItLink\" href=\"../57349cbfc5b4fd8499e1280109fec0f906e7f2a60/expr.ipynb\"><img src=\"../57349cbfc5b4fd8499e1280109fec0f906e7f2a60/expr.png\" style=\"display:inline;vertical-align:middle;\" /></a></td></tr>\n",
       "<tr><td>6</td><td>Operation</td><td>operator:&nbsp;8<br>operands:&nbsp;9<br></td><td><a class=\"ProveItLink\" href=\"../07700cf553db700472a8bcbc33cb420704b248720/expr.ipynb\"><img src=\"../07700cf553db700472a8bcbc33cb420704b248720/expr.png\" style=\"display:inline;vertical-align:middle;\" /></a></td></tr>\n",
       "<tr><td>7</td><td>Variable</td><td></td><td><a class=\"ProveItLink\" href=\"../../../../../../__pv_it/common/59f31a8342922b276a7a786e52f38b7bb6b875550/expr.ipynb\"><img src=\"../../../../../../__pv_it/common/59f31a8342922b276a7a786e52f38b7bb6b875550/expr.png\" style=\"display:inline;vertical-align:middle;\" /></a></td></tr>\n",
       "<tr><td>8</td><td>Literal</td><td></td><td><a class=\"ProveItLink\" href=\"../../../../../../numbers/modular/__pv_it/common/a54c009a0c69fd86b47cbe34f4e05f85c2d2e1680/expr.ipynb\"><img src=\"../../../../../../numbers/modular/__pv_it/common/a54c009a0c69fd86b47cbe34f4e05f85c2d2e1680/expr.png\" style=\"display:inline;vertical-align:middle;\" /></a></td></tr>\n",
       "<tr><td>9</td><td>ExprTuple</td><td>10, 11</td><td><a class=\"ProveItLink\" href=\"../99231706c769e7d94c5cbc70e6002f1025b8ee210/expr.ipynb\"><img src=\"../99231706c769e7d94c5cbc70e6002f1025b8ee210/expr.png\" style=\"display:inline;vertical-align:middle;\" /></a></td></tr>\n",
       "<tr><td>10</td><td>Operation</td><td>operator:&nbsp;12<br>operands:&nbsp;13<br></td><td><a class=\"ProveItLink\" href=\"../53bd3a4caaac7e93f1d056675ca84968e20e87c40/expr.ipynb\"><img src=\"../53bd3a4caaac7e93f1d056675ca84968e20e87c40/expr.png\" style=\"display:inline;vertical-align:middle;\" /></a></td></tr>\n",
       "<tr><td>11</td><td>Operation</td><td>operator:&nbsp;14<br>operands:&nbsp;15<br></td><td><a class=\"ProveItLink\" href=\"../../common/ffe778243736806f1127a291e1939ca0eecb77070/expr.ipynb\"><img src=\"../../common/ffe778243736806f1127a291e1939ca0eecb77070/expr.png\" style=\"display:inline;vertical-align:middle;\" /></a></td></tr>\n",
       "<tr><td>12</td><td>Literal</td><td></td><td><a class=\"ProveItLink\" href=\"../../../../../../numbers/addition/__pv_it/common/4b7effaab3619a1c2c38fe2dee8601df8ec714590/expr.ipynb\"><img src=\"../../../../../../numbers/addition/__pv_it/common/4b7effaab3619a1c2c38fe2dee8601df8ec714590/expr.png\" style=\"display:inline;vertical-align:middle;\" /></a></td></tr>\n",
       "<tr><td>13</td><td>ExprTuple</td><td>16, 17</td><td><a class=\"ProveItLink\" href=\"../55614713869cea7ff5d01b5aa13ab7d301fcdd0d0/expr.ipynb\"><img src=\"../55614713869cea7ff5d01b5aa13ab7d301fcdd0d0/expr.png\" style=\"display:inline;vertical-align:middle;\" /></a></td></tr>\n",
       "<tr><td>14</td><td>Literal</td><td></td><td><a class=\"ProveItLink\" href=\"../../../../../../numbers/exponentiation/__pv_it/common/0ac37aca1e54c35c5cda09672df32d4f69f1f3020/expr.ipynb\"><img src=\"../../../../../../numbers/exponentiation/__pv_it/common/0ac37aca1e54c35c5cda09672df32d4f69f1f3020/expr.png\" style=\"display:inline;vertical-align:middle;\" /></a></td></tr>\n",
       "<tr><td>15</td><td>ExprTuple</td><td>18, 19</td><td><a class=\"ProveItLink\" href=\"../../common/bec7807dfd3317c3712da91239c210c00ddabc8c0/expr.ipynb\"><img src=\"../../common/bec7807dfd3317c3712da91239c210c00ddabc8c0/expr.png\" style=\"display:inline;vertical-align:middle;\" /></a></td></tr>\n",
       "<tr><td>16</td><td>Literal</td><td></td><td><a class=\"ProveItLink\" href=\"../../common/e097c22fce1538921545f46791cd58610a5211030/expr.ipynb\"><img src=\"../../common/e097c22fce1538921545f46791cd58610a5211030/expr.png\" style=\"display:inline;vertical-align:middle;\" /></a></td></tr>\n",
       "<tr><td>17</td><td>Operation</td><td>operator:&nbsp;20<br>operand:&nbsp;21<br></td><td><a class=\"ProveItLink\" href=\"../9e343ae012edb94019b167a95cbd0681ffdedeeb0/expr.ipynb\"><img src=\"../9e343ae012edb94019b167a95cbd0681ffdedeeb0/expr.png\" style=\"display:inline;vertical-align:middle;\" /></a></td></tr>\n",
       "<tr><td>18</td><td>Literal</td><td></td><td><a class=\"ProveItLink\" href=\"../../../../../../numbers/numerals/__pv_it/common/ba3b059982e8b49413dc653e957beb11e974e4bc0/expr.ipynb\"><img src=\"../../../../../../numbers/numerals/__pv_it/common/ba3b059982e8b49413dc653e957beb11e974e4bc0/expr.png\" style=\"display:inline;vertical-align:middle;\" /></a></td></tr>\n",
       "<tr><td>19</td><td>Literal</td><td></td><td><a class=\"ProveItLink\" href=\"../../common/977cc67717328e22c93f8ab84e6a45e8cadce7790/expr.ipynb\"><img src=\"../../common/977cc67717328e22c93f8ab84e6a45e8cadce7790/expr.png\" style=\"display:inline;vertical-align:middle;\" /></a></td></tr>\n",
       "<tr><td>20</td><td>Literal</td><td></td><td><a class=\"ProveItLink\" href=\"../../../../../../numbers/negation/__pv_it/common/221b3c4d1770ee9051b7c044c3f9ec61196fc34b0/expr.ipynb\"><img src=\"../../../../../../numbers/negation/__pv_it/common/221b3c4d1770ee9051b7c044c3f9ec61196fc34b0/expr.png\" style=\"display:inline;vertical-align:middle;\" /></a></td></tr>\n",
       "<tr><td>21</td><td>Literal</td><td></td><td><a class=\"ProveItLink\" href=\"../../common/87526152547440e0f166da3fc5e89091dc5afc6b0/expr.ipynb\"><img src=\"../../common/87526152547440e0f166da3fc5e89091dc5afc6b0/expr.png\" style=\"display:inline;vertical-align:middle;\" /></a></td></tr>\n",
       "</table>\n"
      ],
      "text/plain": [
       "0. Pr_{m}[|m - b|_{mod 2^{t}} <= eps]\n",
       "   core type: Operation\n",
       "   operator: 1\n",
       "   operands: 2\n",
       "1. PROB\n",
       "   core type: Literal\n",
       "   sub-expressions: \n",
       "2. (|m - b|_{mod 2^{t}} <= eps, m)\n",
       "   core type: ExprTuple\n",
       "   sub-expressions: 3, 16\n",
       "3. |m - b|_{mod 2^{t}} <= eps\n",
       "   core type: Operation\n",
       "   operator: 4\n",
       "   operands: 5\n",
       "4. <=\n",
       "   core type: Literal\n",
       "   sub-expressions: \n",
       "5. (|m - b|_{mod 2^{t}}, eps)\n",
       "   core type: ExprTuple\n",
       "   sub-expressions: 6, 7\n",
       "6. |m - b|_{mod 2^{t}}\n",
       "   core type: Operation\n",
       "   operator: 8\n",
       "   operands: 9\n",
       "7. eps\n",
       "   core type: Variable\n",
       "   sub-expressions: \n",
       "8. ModAbs\n",
       "   core type: Literal\n",
       "   sub-expressions: \n",
       "9. (m - b, 2^{t})\n",
       "   core type: ExprTuple\n",
       "   sub-expressions: 10, 11\n",
       "10. m - b\n",
       "    core type: Operation\n",
       "    operator: 12\n",
       "    operands: 13\n",
       "11. 2^{t}\n",
       "    core type: Operation\n",
       "    operator: 14\n",
       "    operands: 15\n",
       "12. +\n",
       "    core type: Literal\n",
       "    sub-expressions: \n",
       "13. (m, -b)\n",
       "    core type: ExprTuple\n",
       "    sub-expressions: 16, 17\n",
       "14. Exp\n",
       "    core type: Literal\n",
       "    sub-expressions: \n",
       "15. (2, t)\n",
       "    core type: ExprTuple\n",
       "    sub-expressions: 18, 19\n",
       "16. m\n",
       "    core type: Literal\n",
       "    sub-expressions: \n",
       "17. -b\n",
       "    core type: Operation\n",
       "    operator: 20\n",
       "    operand: 21\n",
       "18. 2\n",
       "    core type: Literal\n",
       "    sub-expressions: \n",
       "19. t\n",
       "    core type: Literal\n",
       "    sub-expressions: \n",
       "20. -\n",
       "    core type: Literal\n",
       "    sub-expressions: \n",
       "21. b\n",
       "    core type: Literal\n",
       "    sub-expressions: "
      ]
     },
     "execution_count": 5,
     "metadata": {},
     "output_type": "execute_result"
    }
   ],
   "source": [
    "# display the expression information\n",
    "expr.expr_info()"
   ]
  },
  {
   "cell_type": "code",
   "execution_count": null,
   "metadata": {},
   "outputs": [],
   "source": []
  }
 ],
 "metadata": {
  "kernelspec": {
   "display_name": "Python 3",
   "language": "python",
   "name": "python3"
  }
 },
 "nbformat": 4,
 "nbformat_minor": 0
}