{
 "cells": [
  {
   "cell_type": "markdown",
   "metadata": {},
   "source": [
    "Expression of type <a class=\"ProveItLink\" href=\"../../../../../../../../doc/html/api/proveit.linalg.MatrixProd.html\">MatrixProd</a>\n",
    "=======================\n",
    "# from the theory of <a class=\"ProveItLink\" href=\"../../../_theory_nbs_/theory.ipynb\">proveit.physics.quantum.QPE</a>"
   ]
  },
  {
   "cell_type": "code",
   "execution_count": 1,
   "metadata": {},
   "outputs": [],
   "source": [
    "import proveit\n",
    "# Automation is not needed when building an expression:\n",
    "proveit.defaults.automation = False # This will speed things up.\n",
    "proveit.defaults.inline_pngs = False # Makes files smaller.\n",
    "%load_expr # Load the stored expression as 'stored_expr'\n",
    "# import Expression classes needed to build the expression\n",
    "from proveit import l\n",
    "from proveit.linalg import MatrixProd\n",
    "from proveit.physics.quantum import Ket, RegisterBra\n",
    "from proveit.physics.quantum.QPE import ModAdd, Psi_, b_, t_"
   ]
  },
  {
   "cell_type": "code",
   "execution_count": 2,
   "metadata": {},
   "outputs": [
    {
     "data": {
      "text/html": [
       "<strong id=\"expr\">expr:</strong> <a class=\"ProveItLink\" href=\"expr.ipynb\"><img src=\"expr.png\" style=\"display:inline;vertical-align:middle;\" /></a><br>"
      ],
      "text/plain": [
       "expr: {t}_〈b MOD_ADD l| . |Psi〉"
      ]
     },
     "execution_count": 2,
     "metadata": {},
     "output_type": "execute_result"
    }
   ],
   "source": [
    "# build up the expression from sub-expressions\n",
    "expr = MatrixProd(RegisterBra(ModAdd(b_, l), t_), Ket(Psi_))"
   ]
  },
  {
   "cell_type": "code",
   "execution_count": 3,
   "metadata": {},
   "outputs": [
    {
     "name": "stdout",
     "output_type": "stream",
     "text": [
      "Passed sanity check: expr matches stored_expr\n"
     ]
    }
   ],
   "source": [
    "# check that the built expression is the same as the stored expression\n",
    "assert expr == stored_expr\n",
    "assert expr._style_id == stored_expr._style_id\n",
    "print(\"Passed sanity check: expr matches stored_expr\")"
   ]
  },
  {
   "cell_type": "code",
   "execution_count": 4,
   "metadata": {},
   "outputs": [
    {
     "name": "stdout",
     "output_type": "stream",
     "text": [
      "{_{t}}\\langle b \\oplus l \\rvert \\thinspace \\lvert \\Psi \\rangle\n"
     ]
    }
   ],
   "source": [
    "# Show the LaTeX representation of the expression for convenience if you need it.\n",
    "print(expr.latex())"
   ]
  },
  {
   "cell_type": "code",
   "execution_count": 5,
   "metadata": {},
   "outputs": [
    {
     "data": {
      "text/html": [
       "<table><tr><th>&nbsp;</th><th>core type</th><th>sub-expressions</th><th>expression</th></tr>\n",
       "<tr><td>0</td><td>Operation</td><td>operator:&nbsp;1<br>operands:&nbsp;2<br></td><td><a class=\"ProveItLink\" href=\"expr.ipynb\"><img src=\"expr.png\" style=\"display:inline;vertical-align:middle;\" /></a></td></tr>\n",
       "<tr><td>1</td><td>Literal</td><td></td><td><a class=\"ProveItLink\" href=\"../../../../../../linalg/__pv_it/common/6cc7940f8f51b8cdf6da7a23d31dde75c39c32d20/expr.ipynb\"><img src=\"../../../../../../linalg/__pv_it/common/6cc7940f8f51b8cdf6da7a23d31dde75c39c32d20/expr.png\" style=\"display:inline;vertical-align:middle;\" /></a></td></tr>\n",
       "<tr><td>2</td><td>ExprTuple</td><td>3, 4</td><td><a class=\"ProveItLink\" href=\"../b2bfde5504f511ae86fdde1470b2b263b4ccc41b0/expr.ipynb\"><img src=\"../b2bfde5504f511ae86fdde1470b2b263b4ccc41b0/expr.png\" style=\"display:inline;vertical-align:middle;\" /></a></td></tr>\n",
       "<tr><td>3</td><td>Operation</td><td>operator:&nbsp;5<br>operands:&nbsp;6<br></td><td><a class=\"ProveItLink\" href=\"../61dd6e510ea087d80e125a10f113514b8cafc5ff0/expr.ipynb\"><img src=\"../61dd6e510ea087d80e125a10f113514b8cafc5ff0/expr.png\" style=\"display:inline;vertical-align:middle;\" /></a></td></tr>\n",
       "<tr><td>4</td><td>Operation</td><td>operator:&nbsp;7<br>operand:&nbsp;8<br></td><td><a class=\"ProveItLink\" href=\"../1a39abf520036ef6471a8d11559b7e0e8f9e767f0/expr.ipynb\"><img src=\"../1a39abf520036ef6471a8d11559b7e0e8f9e767f0/expr.png\" style=\"display:inline;vertical-align:middle;\" /></a></td></tr>\n",
       "<tr><td>5</td><td>Literal</td><td></td><td><a class=\"ProveItLink\" href=\"../../../../__pv_it/common/f7edfe4b80796bcf443612cdb0374d913dee48710/expr.ipynb\"><img src=\"../../../../__pv_it/common/f7edfe4b80796bcf443612cdb0374d913dee48710/expr.png\" style=\"display:inline;vertical-align:middle;\" /></a></td></tr>\n",
       "<tr><td>6</td><td>ExprTuple</td><td>9, 10</td><td><a class=\"ProveItLink\" href=\"../3032c8b01baef0fd6f5a0644c758d9bb4e8a7f8b0/expr.ipynb\"><img src=\"../3032c8b01baef0fd6f5a0644c758d9bb4e8a7f8b0/expr.png\" style=\"display:inline;vertical-align:middle;\" /></a></td></tr>\n",
       "<tr><td>7</td><td>Literal</td><td></td><td><a class=\"ProveItLink\" href=\"../../../../__pv_it/common/211157ad123e11ebc76ee54e41be13705eefd6800/expr.ipynb\"><img src=\"../../../../__pv_it/common/211157ad123e11ebc76ee54e41be13705eefd6800/expr.png\" style=\"display:inline;vertical-align:middle;\" /></a></td></tr>\n",
       "<tr><td>8</td><td>Literal</td><td></td><td><a class=\"ProveItLink\" href=\"../../common/3643a38f1b5829804897e160fdae76d2c23c7e4c0/expr.ipynb\"><img src=\"../../common/3643a38f1b5829804897e160fdae76d2c23c7e4c0/expr.png\" style=\"display:inline;vertical-align:middle;\" /></a></td></tr>\n",
       "<tr><td>9</td><td>Operation</td><td>operator:&nbsp;11<br>operands:&nbsp;12<br></td><td><a class=\"ProveItLink\" href=\"../f896ddfcb9c23bd2ce77f32411c87b86342e5b730/expr.ipynb\"><img src=\"../f896ddfcb9c23bd2ce77f32411c87b86342e5b730/expr.png\" style=\"display:inline;vertical-align:middle;\" /></a></td></tr>\n",
       "<tr><td>10</td><td>Literal</td><td></td><td><a class=\"ProveItLink\" href=\"../../common/977cc67717328e22c93f8ab84e6a45e8cadce7790/expr.ipynb\"><img src=\"../../common/977cc67717328e22c93f8ab84e6a45e8cadce7790/expr.png\" style=\"display:inline;vertical-align:middle;\" /></a></td></tr>\n",
       "<tr><td>11</td><td>Literal</td><td></td><td><a class=\"ProveItLink\" href=\"../../common/46fa490f6e465244392ed9302eb003eb013bfffe0/expr.ipynb\"><img src=\"../../common/46fa490f6e465244392ed9302eb003eb013bfffe0/expr.png\" style=\"display:inline;vertical-align:middle;\" /></a></td></tr>\n",
       "<tr><td>12</td><td>ExprTuple</td><td>13, 14</td><td><a class=\"ProveItLink\" href=\"../f64fa611e8a0edbc83107cec52603d8c6d22308b0/expr.ipynb\"><img src=\"../f64fa611e8a0edbc83107cec52603d8c6d22308b0/expr.png\" style=\"display:inline;vertical-align:middle;\" /></a></td></tr>\n",
       "<tr><td>13</td><td>Literal</td><td></td><td><a class=\"ProveItLink\" href=\"../../common/87526152547440e0f166da3fc5e89091dc5afc6b0/expr.ipynb\"><img src=\"../../common/87526152547440e0f166da3fc5e89091dc5afc6b0/expr.png\" style=\"display:inline;vertical-align:middle;\" /></a></td></tr>\n",
       "<tr><td>14</td><td>Variable</td><td></td><td><a class=\"ProveItLink\" href=\"../../../../../../__pv_it/common/27cc275d44b4f4499fb9ccfb3fab1a98165d2fa60/expr.ipynb\"><img src=\"../../../../../../__pv_it/common/27cc275d44b4f4499fb9ccfb3fab1a98165d2fa60/expr.png\" style=\"display:inline;vertical-align:middle;\" /></a></td></tr>\n",
       "</table>\n"
      ],
      "text/plain": [
       "0. {t}_〈b MOD_ADD l| . |Psi〉\n",
       "   core type: Operation\n",
       "   operator: 1\n",
       "   operands: 2\n",
       "1. .\n",
       "   core type: Literal\n",
       "   sub-expressions: \n",
       "2. ({t}_〈b MOD_ADD l|, |Psi〉)\n",
       "   core type: ExprTuple\n",
       "   sub-expressions: 3, 4\n",
       "3. {t}_〈b MOD_ADD l|\n",
       "   core type: Operation\n",
       "   operator: 5\n",
       "   operands: 6\n",
       "4. |Psi〉\n",
       "   core type: Operation\n",
       "   operator: 7\n",
       "   operand: 8\n",
       "5. REGISTER_BRA\n",
       "   core type: Literal\n",
       "   sub-expressions: \n",
       "6. (b MOD_ADD l, t)\n",
       "   core type: ExprTuple\n",
       "   sub-expressions: 9, 10\n",
       "7. KET\n",
       "   core type: Literal\n",
       "   sub-expressions: \n",
       "8. Psi\n",
       "   core type: Literal\n",
       "   sub-expressions: \n",
       "9. b MOD_ADD l\n",
       "   core type: Operation\n",
       "   operator: 11\n",
       "   operands: 12\n",
       "10. t\n",
       "    core type: Literal\n",
       "    sub-expressions: \n",
       "11. MOD_ADD\n",
       "    core type: Literal\n",
       "    sub-expressions: \n",
       "12. (b, l)\n",
       "    core type: ExprTuple\n",
       "    sub-expressions: 13, 14\n",
       "13. b\n",
       "    core type: Literal\n",
       "    sub-expressions: \n",
       "14. l\n",
       "    core type: Variable\n",
       "    sub-expressions: "
      ]
     },
     "execution_count": 5,
     "metadata": {},
     "output_type": "execute_result"
    }
   ],
   "source": [
    "# display the expression information\n",
    "expr.expr_info()"
   ]
  },
  {
   "cell_type": "code",
   "execution_count": null,
   "metadata": {},
   "outputs": [],
   "source": []
  }
 ],
 "metadata": {
  "kernelspec": {
   "display_name": "Python 3",
   "language": "python",
   "name": "python3"
  }
 },
 "nbformat": 4,
 "nbformat_minor": 0
}