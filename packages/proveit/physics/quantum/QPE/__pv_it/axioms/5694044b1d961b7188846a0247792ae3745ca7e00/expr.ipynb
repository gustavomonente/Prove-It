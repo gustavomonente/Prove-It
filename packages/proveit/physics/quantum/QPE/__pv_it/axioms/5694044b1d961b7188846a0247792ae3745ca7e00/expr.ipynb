{
 "cells": [
  {
   "cell_type": "markdown",
   "metadata": {},
   "source": [
    "Expression of type <a class=\"ProveItLink\" href=\"../../../../../../../../doc/html/api/proveit.numbers.Mult.html\">Mult</a>\n",
    "=======================\n",
    "# from the theory of <a class=\"ProveItLink\" href=\"../../../_theory_nbs_/theory.ipynb\">proveit.physics.quantum.QPE</a>"
   ]
  },
  {
   "cell_type": "code",
   "execution_count": 1,
   "metadata": {},
   "outputs": [],
   "source": [
    "import proveit\n",
    "# Automation is not needed when building an expression:\n",
    "proveit.defaults.automation = False # This will speed things up.\n",
    "proveit.defaults.inline_pngs = False # Makes files smaller.\n",
    "%load_expr # Load the stored expression as 'stored_expr'\n",
    "# import Expression classes needed to build the expression\n",
    "from proveit import k\n",
    "from proveit.numbers import Add, Exp, Interval, Mult, Neg, Sum, e, frac, i, one, pi, two, zero\n",
    "from proveit.physics.quantum import Ket\n",
    "from proveit.physics.quantum.QPE import phase_, t_, two_pow_t"
   ]
  },
  {
   "cell_type": "code",
   "execution_count": 2,
   "metadata": {},
   "outputs": [
    {
     "data": {
      "text/html": [
       "<strong id=\"expr\">expr:</strong> <a class=\"ProveItLink\" href=\"expr.ipynb\"><img src=\"expr.png\" style=\"display:inline;vertical-align:middle;\" /></a><br>"
      ],
      "text/plain": [
       "expr: (1 / 2^{t / 2}) * (Sum_{k=0}^{2^{t} - 1} (e^{2 * pi * i * phase * k} * |k〉))"
      ]
     },
     "execution_count": 2,
     "metadata": {},
     "output_type": "execute_result"
    }
   ],
   "source": [
    "# build up the expression from sub-expressions\n",
    "expr = Mult(frac(one, Exp(two, frac(t_, two))), Sum([k], Mult(Exp(e, Mult(two, pi, i, phase_, k)), Ket(k)), domains = [Interval(zero, Add(two_pow_t, Neg(one)))]))"
   ]
  },
  {
   "cell_type": "code",
   "execution_count": 3,
   "metadata": {},
   "outputs": [
    {
     "name": "stdout",
     "output_type": "stream",
     "text": [
      "Passed sanity check: expr matches stored_expr\n"
     ]
    }
   ],
   "source": [
    "# check that the built expression is the same as the stored expression\n",
    "assert expr == stored_expr\n",
    "assert expr._style_id == stored_expr._style_id\n",
    "print(\"Passed sanity check: expr matches stored_expr\")"
   ]
  },
  {
   "cell_type": "code",
   "execution_count": 4,
   "metadata": {},
   "outputs": [
    {
     "name": "stdout",
     "output_type": "stream",
     "text": [
      "\\frac{1}{2^{\\frac{t}{2}}} \\cdot \\left(\\sum_{k=0}^{2^{t} - 1} \\left(\\mathsf{e}^{2 \\cdot \\pi \\cdot \\mathsf{i} \\cdot \\varphi \\cdot k} \\cdot \\lvert k \\rangle\\right)\\right)\n"
     ]
    }
   ],
   "source": [
    "# Show the LaTeX representation of the expression for convenience if you need it.\n",
    "print(expr.latex())"
   ]
  },
  {
   "cell_type": "code",
   "execution_count": 5,
   "metadata": {},
   "outputs": [
    {
     "data": {
      "text/html": [
       "<table><tr><th>&nbsp;</th><th>core type</th><th>sub-expressions</th><th>expression</th></tr>\n",
       "<tr><td>0</td><td>Operation</td><td>operator:&nbsp;29<br>operands:&nbsp;1<br></td><td><a class=\"ProveItLink\" href=\"expr.ipynb\"><img src=\"expr.png\" style=\"display:inline;vertical-align:middle;\" /></a></td></tr>\n",
       "<tr><td>1</td><td>ExprTuple</td><td>2, 3</td><td><a class=\"ProveItLink\" href=\"../9a51558525a49f5b382f0183d8f62889cd6c5bc20/expr.ipynb\"><img src=\"../9a51558525a49f5b382f0183d8f62889cd6c5bc20/expr.png\" style=\"display:inline;vertical-align:middle;\" /></a></td></tr>\n",
       "<tr><td>2</td><td>Operation</td><td>operator:&nbsp;16<br>operands:&nbsp;4<br></td><td><a class=\"ProveItLink\" href=\"../eee169f6a7cd971d887960fff39a07c37732723c0/expr.ipynb\"><img src=\"../eee169f6a7cd971d887960fff39a07c37732723c0/expr.png\" style=\"display:inline;vertical-align:middle;\" /></a></td></tr>\n",
       "<tr><td>3</td><td>Operation</td><td>operator:&nbsp;5<br>operand:&nbsp;6<br></td><td><a class=\"ProveItLink\" href=\"../b743636e50e0140b9f6f5c8ebfb1fef82526f55a0/expr.ipynb\"><img src=\"../b743636e50e0140b9f6f5c8ebfb1fef82526f55a0/expr.png\" style=\"display:inline;vertical-align:middle;\" /></a></td></tr>\n",
       "<tr><td>4</td><td>ExprTuple</td><td>42, 7</td><td><a class=\"ProveItLink\" href=\"../38868a66511910fcd9b6486d52942c6fe8252fb20/expr.ipynb\"><img src=\"../38868a66511910fcd9b6486d52942c6fe8252fb20/expr.png\" style=\"display:inline;vertical-align:middle;\" /></a></td></tr>\n",
       "<tr><td>5</td><td>Literal</td><td></td><td><a class=\"ProveItLink\" href=\"../../../../../../numbers/summation/__pv_it/common/14fe61cccc388f91dfd83d3ca31cf27448cc070a0/expr.ipynb\"><img src=\"../../../../../../numbers/summation/__pv_it/common/14fe61cccc388f91dfd83d3ca31cf27448cc070a0/expr.png\" style=\"display:inline;vertical-align:middle;\" /></a></td></tr>\n",
       "<tr><td>6</td><td>Lambda</td><td>parameter:&nbsp;36<br>body:&nbsp;8<br></td><td><a class=\"ProveItLink\" href=\"../8a57c00ae373e3bc861316f458661440d652df840/expr.ipynb\"><img src=\"../8a57c00ae373e3bc861316f458661440d652df840/expr.png\" style=\"display:inline;vertical-align:middle;\" /></a></td></tr>\n",
       "<tr><td>7</td><td>Operation</td><td>operator:&nbsp;39<br>operands:&nbsp;9<br></td><td><a class=\"ProveItLink\" href=\"../b8a9e0ae4ba1538a901c5943bb65da28275966420/expr.ipynb\"><img src=\"../b8a9e0ae4ba1538a901c5943bb65da28275966420/expr.png\" style=\"display:inline;vertical-align:middle;\" /></a></td></tr>\n",
       "<tr><td>8</td><td>Conditional</td><td>value:&nbsp;10<br>condition:&nbsp;11<br></td><td><a class=\"ProveItLink\" href=\"../c79e480e4a25076d5e521d2b11788490c970a8c30/expr.ipynb\"><img src=\"../c79e480e4a25076d5e521d2b11788490c970a8c30/expr.png\" style=\"display:inline;vertical-align:middle;\" /></a></td></tr>\n",
       "<tr><td>9</td><td>ExprTuple</td><td>43, 12</td><td><a class=\"ProveItLink\" href=\"../88943d6451cf65d14095271bf907bffa4090dbdb0/expr.ipynb\"><img src=\"../88943d6451cf65d14095271bf907bffa4090dbdb0/expr.png\" style=\"display:inline;vertical-align:middle;\" /></a></td></tr>\n",
       "<tr><td>10</td><td>Operation</td><td>operator:&nbsp;29<br>operands:&nbsp;13<br></td><td><a class=\"ProveItLink\" href=\"../2894622b7be525562660bc99293f332aa0daa3260/expr.ipynb\"><img src=\"../2894622b7be525562660bc99293f332aa0daa3260/expr.png\" style=\"display:inline;vertical-align:middle;\" /></a></td></tr>\n",
       "<tr><td>11</td><td>Operation</td><td>operator:&nbsp;14<br>operands:&nbsp;15<br></td><td><a class=\"ProveItLink\" href=\"../86845e65f5a8da8698b418e93f5739740b4ceff00/expr.ipynb\"><img src=\"../86845e65f5a8da8698b418e93f5739740b4ceff00/expr.png\" style=\"display:inline;vertical-align:middle;\" /></a></td></tr>\n",
       "<tr><td>12</td><td>Operation</td><td>operator:&nbsp;16<br>operands:&nbsp;17<br></td><td><a class=\"ProveItLink\" href=\"../4fce27379411ef27e0cda1d079b4b8fd74b8809d0/expr.ipynb\"><img src=\"../4fce27379411ef27e0cda1d079b4b8fd74b8809d0/expr.png\" style=\"display:inline;vertical-align:middle;\" /></a></td></tr>\n",
       "<tr><td>13</td><td>ExprTuple</td><td>18, 19</td><td><a class=\"ProveItLink\" href=\"../f9d4896fa4eedf983729b87ee9f3a8f30885cd8b0/expr.ipynb\"><img src=\"../f9d4896fa4eedf983729b87ee9f3a8f30885cd8b0/expr.png\" style=\"display:inline;vertical-align:middle;\" /></a></td></tr>\n",
       "<tr><td>14</td><td>Literal</td><td></td><td><a class=\"ProveItLink\" href=\"../../../../../../logic/sets/membership/__pv_it/common/477487d8796864d23d5810f83761435f25167f690/expr.ipynb\"><img src=\"../../../../../../logic/sets/membership/__pv_it/common/477487d8796864d23d5810f83761435f25167f690/expr.png\" style=\"display:inline;vertical-align:middle;\" /></a></td></tr>\n",
       "<tr><td>15</td><td>ExprTuple</td><td>36, 20</td><td><a class=\"ProveItLink\" href=\"../1175309ae8de7a996728027d52b0d9f3da35fb010/expr.ipynb\"><img src=\"../1175309ae8de7a996728027d52b0d9f3da35fb010/expr.png\" style=\"display:inline;vertical-align:middle;\" /></a></td></tr>\n",
       "<tr><td>16</td><td>Literal</td><td></td><td><a class=\"ProveItLink\" href=\"../../../../../../numbers/division/__pv_it/common/a2a633e1e3c749fb1f2692466b287b6348c5de840/expr.ipynb\"><img src=\"../../../../../../numbers/division/__pv_it/common/a2a633e1e3c749fb1f2692466b287b6348c5de840/expr.png\" style=\"display:inline;vertical-align:middle;\" /></a></td></tr>\n",
       "<tr><td>17</td><td>ExprTuple</td><td>44, 43</td><td><a class=\"ProveItLink\" href=\"../c945e7ed873388dd86703b33ae91c2cb284ef1930/expr.ipynb\"><img src=\"../c945e7ed873388dd86703b33ae91c2cb284ef1930/expr.png\" style=\"display:inline;vertical-align:middle;\" /></a></td></tr>\n",
       "<tr><td>18</td><td>Operation</td><td>operator:&nbsp;39<br>operands:&nbsp;21<br></td><td><a class=\"ProveItLink\" href=\"../0ada4127eee753aaf96e23962357b2feee3648250/expr.ipynb\"><img src=\"../0ada4127eee753aaf96e23962357b2feee3648250/expr.png\" style=\"display:inline;vertical-align:middle;\" /></a></td></tr>\n",
       "<tr><td>19</td><td>Operation</td><td>operator:&nbsp;22<br>operand:&nbsp;36<br></td><td><a class=\"ProveItLink\" href=\"../bd276d203ddee786e3fedcd25a39c7b9fd5b10090/expr.ipynb\"><img src=\"../bd276d203ddee786e3fedcd25a39c7b9fd5b10090/expr.png\" style=\"display:inline;vertical-align:middle;\" /></a></td></tr>\n",
       "<tr><td>20</td><td>Operation</td><td>operator:&nbsp;23<br>operands:&nbsp;24<br></td><td><a class=\"ProveItLink\" href=\"../398fd2b1601c4c322e0d959c0ccdaabbdb243c320/expr.ipynb\"><img src=\"../398fd2b1601c4c322e0d959c0ccdaabbdb243c320/expr.png\" style=\"display:inline;vertical-align:middle;\" /></a></td></tr>\n",
       "<tr><td>21</td><td>ExprTuple</td><td>25, 26</td><td><a class=\"ProveItLink\" href=\"../90a003840728b3d0acb2b9e9051b7c0e8807776e0/expr.ipynb\"><img src=\"../90a003840728b3d0acb2b9e9051b7c0e8807776e0/expr.png\" style=\"display:inline;vertical-align:middle;\" /></a></td></tr>\n",
       "<tr><td>22</td><td>Literal</td><td></td><td><a class=\"ProveItLink\" href=\"../../../../__pv_it/common/211157ad123e11ebc76ee54e41be13705eefd6800/expr.ipynb\"><img src=\"../../../../__pv_it/common/211157ad123e11ebc76ee54e41be13705eefd6800/expr.png\" style=\"display:inline;vertical-align:middle;\" /></a></td></tr>\n",
       "<tr><td>23</td><td>Literal</td><td></td><td><a class=\"ProveItLink\" href=\"../../../../../../numbers/number_sets/integers/__pv_it/common/92f3a0a77e3c3ea8e4a5c8674edadc54e4f57d550/expr.ipynb\"><img src=\"../../../../../../numbers/number_sets/integers/__pv_it/common/92f3a0a77e3c3ea8e4a5c8674edadc54e4f57d550/expr.png\" style=\"display:inline;vertical-align:middle;\" /></a></td></tr>\n",
       "<tr><td>24</td><td>ExprTuple</td><td>27, 28</td><td><a class=\"ProveItLink\" href=\"../24568bb42bdfad9e4cddb0d124dc6559442b0cc40/expr.ipynb\"><img src=\"../24568bb42bdfad9e4cddb0d124dc6559442b0cc40/expr.png\" style=\"display:inline;vertical-align:middle;\" /></a></td></tr>\n",
       "<tr><td>25</td><td>Literal</td><td></td><td><a class=\"ProveItLink\" href=\"../../../../../../numbers/number_sets/real_numbers/__pv_it/common/e531ffa54fd897084533764a4a14f19f590674f80/expr.ipynb\"><img src=\"../../../../../../numbers/number_sets/real_numbers/__pv_it/common/e531ffa54fd897084533764a4a14f19f590674f80/expr.png\" style=\"display:inline;vertical-align:middle;\" /></a></td></tr>\n",
       "<tr><td>26</td><td>Operation</td><td>operator:&nbsp;29<br>operands:&nbsp;30<br></td><td><a class=\"ProveItLink\" href=\"../ea6daf10969f385d6984eaf37d3c49d098bffe5b0/expr.ipynb\"><img src=\"../ea6daf10969f385d6984eaf37d3c49d098bffe5b0/expr.png\" style=\"display:inline;vertical-align:middle;\" /></a></td></tr>\n",
       "<tr><td>27</td><td>Literal</td><td></td><td><a class=\"ProveItLink\" href=\"../../../../../../numbers/numerals/__pv_it/common/7d0a36793ffe8d307a5c120ee5598162e8cd2db10/expr.ipynb\"><img src=\"../../../../../../numbers/numerals/__pv_it/common/7d0a36793ffe8d307a5c120ee5598162e8cd2db10/expr.png\" style=\"display:inline;vertical-align:middle;\" /></a></td></tr>\n",
       "<tr><td>28</td><td>Operation</td><td>operator:&nbsp;31<br>operands:&nbsp;32<br></td><td><a class=\"ProveItLink\" href=\"../2464165d0386bb844404a02fb55e140a890bbb490/expr.ipynb\"><img src=\"../2464165d0386bb844404a02fb55e140a890bbb490/expr.png\" style=\"display:inline;vertical-align:middle;\" /></a></td></tr>\n",
       "<tr><td>29</td><td>Literal</td><td></td><td><a class=\"ProveItLink\" href=\"../../../../../../numbers/multiplication/__pv_it/common/ed719cef37831779c16481533a4d380a2f95ab270/expr.ipynb\"><img src=\"../../../../../../numbers/multiplication/__pv_it/common/ed719cef37831779c16481533a4d380a2f95ab270/expr.png\" style=\"display:inline;vertical-align:middle;\" /></a></td></tr>\n",
       "<tr><td>30</td><td>ExprTuple</td><td>43, 33, 34, 35, 36</td><td><a class=\"ProveItLink\" href=\"../204fe88c95ccfd4b3b2928476640ed9aba6d89810/expr.ipynb\"><img src=\"../204fe88c95ccfd4b3b2928476640ed9aba6d89810/expr.png\" style=\"display:inline;vertical-align:middle;\" /></a></td></tr>\n",
       "<tr><td>31</td><td>Literal</td><td></td><td><a class=\"ProveItLink\" href=\"../../../../../../numbers/addition/__pv_it/common/4b7effaab3619a1c2c38fe2dee8601df8ec714590/expr.ipynb\"><img src=\"../../../../../../numbers/addition/__pv_it/common/4b7effaab3619a1c2c38fe2dee8601df8ec714590/expr.png\" style=\"display:inline;vertical-align:middle;\" /></a></td></tr>\n",
       "<tr><td>32</td><td>ExprTuple</td><td>37, 38</td><td><a class=\"ProveItLink\" href=\"../57b5515272e72fac426b139ddc15aca539139b6b0/expr.ipynb\"><img src=\"../57b5515272e72fac426b139ddc15aca539139b6b0/expr.png\" style=\"display:inline;vertical-align:middle;\" /></a></td></tr>\n",
       "<tr><td>33</td><td>Literal</td><td></td><td><a class=\"ProveItLink\" href=\"../../../../../../numbers/number_sets/real_numbers/__pv_it/common/246c206266ac5b48800e508d580f91767b24c2df0/expr.ipynb\"><img src=\"../../../../../../numbers/number_sets/real_numbers/__pv_it/common/246c206266ac5b48800e508d580f91767b24c2df0/expr.png\" style=\"display:inline;vertical-align:middle;\" /></a></td></tr>\n",
       "<tr><td>34</td><td>Literal</td><td></td><td><a class=\"ProveItLink\" href=\"../../../../../../numbers/number_sets/complex_numbers/__pv_it/common/6c9cc69d472f352324c298b2318df233e9a7e0250/expr.ipynb\"><img src=\"../../../../../../numbers/number_sets/complex_numbers/__pv_it/common/6c9cc69d472f352324c298b2318df233e9a7e0250/expr.png\" style=\"display:inline;vertical-align:middle;\" /></a></td></tr>\n",
       "<tr><td>35</td><td>Literal</td><td></td><td><a class=\"ProveItLink\" href=\"../../common/d5e43a4a06cc3c8384d7262f5d019bed24f240ea0/expr.ipynb\"><img src=\"../../common/d5e43a4a06cc3c8384d7262f5d019bed24f240ea0/expr.png\" style=\"display:inline;vertical-align:middle;\" /></a></td></tr>\n",
       "<tr><td>36</td><td>Variable</td><td></td><td><a class=\"ProveItLink\" href=\"../../../../../../__pv_it/common/63b7c64bf9ec7a04ecc396c7a1670f3f12fb59490/expr.ipynb\"><img src=\"../../../../../../__pv_it/common/63b7c64bf9ec7a04ecc396c7a1670f3f12fb59490/expr.png\" style=\"display:inline;vertical-align:middle;\" /></a></td></tr>\n",
       "<tr><td>37</td><td>Operation</td><td>operator:&nbsp;39<br>operands:&nbsp;40<br></td><td><a class=\"ProveItLink\" href=\"../../common/ffe778243736806f1127a291e1939ca0eecb77070/expr.ipynb\"><img src=\"../../common/ffe778243736806f1127a291e1939ca0eecb77070/expr.png\" style=\"display:inline;vertical-align:middle;\" /></a></td></tr>\n",
       "<tr><td>38</td><td>Operation</td><td>operator:&nbsp;41<br>operand:&nbsp;42<br></td><td><a class=\"ProveItLink\" href=\"../44da79c41f096863320e2aca2d20b6c16cdd623b0/expr.ipynb\"><img src=\"../44da79c41f096863320e2aca2d20b6c16cdd623b0/expr.png\" style=\"display:inline;vertical-align:middle;\" /></a></td></tr>\n",
       "<tr><td>39</td><td>Literal</td><td></td><td><a class=\"ProveItLink\" href=\"../../../../../../numbers/exponentiation/__pv_it/common/0ac37aca1e54c35c5cda09672df32d4f69f1f3020/expr.ipynb\"><img src=\"../../../../../../numbers/exponentiation/__pv_it/common/0ac37aca1e54c35c5cda09672df32d4f69f1f3020/expr.png\" style=\"display:inline;vertical-align:middle;\" /></a></td></tr>\n",
       "<tr><td>40</td><td>ExprTuple</td><td>43, 44</td><td><a class=\"ProveItLink\" href=\"../../common/bec7807dfd3317c3712da91239c210c00ddabc8c0/expr.ipynb\"><img src=\"../../common/bec7807dfd3317c3712da91239c210c00ddabc8c0/expr.png\" style=\"display:inline;vertical-align:middle;\" /></a></td></tr>\n",
       "<tr><td>41</td><td>Literal</td><td></td><td><a class=\"ProveItLink\" href=\"../../../../../../numbers/negation/__pv_it/common/221b3c4d1770ee9051b7c044c3f9ec61196fc34b0/expr.ipynb\"><img src=\"../../../../../../numbers/negation/__pv_it/common/221b3c4d1770ee9051b7c044c3f9ec61196fc34b0/expr.png\" style=\"display:inline;vertical-align:middle;\" /></a></td></tr>\n",
       "<tr><td>42</td><td>Literal</td><td></td><td><a class=\"ProveItLink\" href=\"../../../../../../numbers/numerals/__pv_it/common/2778428c7f555b2bdc06aa0530bc142c6e6335100/expr.ipynb\"><img src=\"../../../../../../numbers/numerals/__pv_it/common/2778428c7f555b2bdc06aa0530bc142c6e6335100/expr.png\" style=\"display:inline;vertical-align:middle;\" /></a></td></tr>\n",
       "<tr><td>43</td><td>Literal</td><td></td><td><a class=\"ProveItLink\" href=\"../../../../../../numbers/numerals/__pv_it/common/ba3b059982e8b49413dc653e957beb11e974e4bc0/expr.ipynb\"><img src=\"../../../../../../numbers/numerals/__pv_it/common/ba3b059982e8b49413dc653e957beb11e974e4bc0/expr.png\" style=\"display:inline;vertical-align:middle;\" /></a></td></tr>\n",
       "<tr><td>44</td><td>Literal</td><td></td><td><a class=\"ProveItLink\" href=\"../../common/977cc67717328e22c93f8ab84e6a45e8cadce7790/expr.ipynb\"><img src=\"../../common/977cc67717328e22c93f8ab84e6a45e8cadce7790/expr.png\" style=\"display:inline;vertical-align:middle;\" /></a></td></tr>\n",
       "</table>\n"
      ],
      "text/plain": [
       "0. (1 / 2^{t / 2}) * (Sum_{k=0}^{2^{t} - 1} (e^{2 * pi * i * phase * k} * |k〉))\n",
       "   core type: Operation\n",
       "   operator: 29\n",
       "   operands: 1\n",
       "1. (1 / 2^{t / 2}, Sum_{k=0}^{2^{t} - 1} e^{2 * pi * i * phase * k} * |k〉)\n",
       "   core type: ExprTuple\n",
       "   sub-expressions: 2, 3\n",
       "2. 1 / 2^{t / 2}\n",
       "   core type: Operation\n",
       "   operator: 16\n",
       "   operands: 4\n",
       "3. Sum_{k=0}^{2^{t} - 1} e^{2 * pi * i * phase * k} * |k〉\n",
       "   core type: Operation\n",
       "   operator: 5\n",
       "   operand: 6\n",
       "4. (1, 2^{t / 2})\n",
       "   core type: ExprTuple\n",
       "   sub-expressions: 42, 7\n",
       "5. Sum\n",
       "   core type: Literal\n",
       "   sub-expressions: \n",
       "6. k -> {e^{2 * pi * i * phase * k} * |k〉 if k in {0...2^{t} - 1}.\n",
       "   core type: Lambda\n",
       "   parameter: 36\n",
       "   body: 8\n",
       "7. 2^{t / 2}\n",
       "   core type: Operation\n",
       "   operator: 39\n",
       "   operands: 9\n",
       "8. {e^{2 * pi * i * phase * k} * |k〉 if k in {0...2^{t} - 1}.\n",
       "   core type: Conditional\n",
       "   value: 10\n",
       "   condition: 11\n",
       "9. (2, t / 2)\n",
       "   core type: ExprTuple\n",
       "   sub-expressions: 43, 12\n",
       "10. e^{2 * pi * i * phase * k} * |k〉\n",
       "    core type: Operation\n",
       "    operator: 29\n",
       "    operands: 13\n",
       "11. k in {0...2^{t} - 1}\n",
       "    core type: Operation\n",
       "    operator: 14\n",
       "    operands: 15\n",
       "12. t / 2\n",
       "    core type: Operation\n",
       "    operator: 16\n",
       "    operands: 17\n",
       "13. (e^{2 * pi * i * phase * k}, |k〉)\n",
       "    core type: ExprTuple\n",
       "    sub-expressions: 18, 19\n",
       "14. in\n",
       "    core type: Literal\n",
       "    sub-expressions: \n",
       "15. (k, {0...2^{t} - 1})\n",
       "    core type: ExprTuple\n",
       "    sub-expressions: 36, 20\n",
       "16. /\n",
       "    core type: Literal\n",
       "    sub-expressions: \n",
       "17. (t, 2)\n",
       "    core type: ExprTuple\n",
       "    sub-expressions: 44, 43\n",
       "18. e^{2 * pi * i * phase * k}\n",
       "    core type: Operation\n",
       "    operator: 39\n",
       "    operands: 21\n",
       "19. |k〉\n",
       "    core type: Operation\n",
       "    operator: 22\n",
       "    operand: 36\n",
       "20. {0...2^{t} - 1}\n",
       "    core type: Operation\n",
       "    operator: 23\n",
       "    operands: 24\n",
       "21. (e, 2 * pi * i * phase * k)\n",
       "    core type: ExprTuple\n",
       "    sub-expressions: 25, 26\n",
       "22. KET\n",
       "    core type: Literal\n",
       "    sub-expressions: \n",
       "23. Interval\n",
       "    core type: Literal\n",
       "    sub-expressions: \n",
       "24. (0, 2^{t} - 1)\n",
       "    core type: ExprTuple\n",
       "    sub-expressions: 27, 28\n",
       "25. e\n",
       "    core type: Literal\n",
       "    sub-expressions: \n",
       "26. 2 * pi * i * phase * k\n",
       "    core type: Operation\n",
       "    operator: 29\n",
       "    operands: 30\n",
       "27. 0\n",
       "    core type: Literal\n",
       "    sub-expressions: \n",
       "28. 2^{t} - 1\n",
       "    core type: Operation\n",
       "    operator: 31\n",
       "    operands: 32\n",
       "29. *\n",
       "    core type: Literal\n",
       "    sub-expressions: \n",
       "30. (2, pi, i, phase, k)\n",
       "    core type: ExprTuple\n",
       "    sub-expressions: 43, 33, 34, 35, 36\n",
       "31. +\n",
       "    core type: Literal\n",
       "    sub-expressions: \n",
       "32. (2^{t}, -1)\n",
       "    core type: ExprTuple\n",
       "    sub-expressions: 37, 38\n",
       "33. pi\n",
       "    core type: Literal\n",
       "    sub-expressions: \n",
       "34. i\n",
       "    core type: Literal\n",
       "    sub-expressions: \n",
       "35. phase\n",
       "    core type: Literal\n",
       "    sub-expressions: \n",
       "36. k\n",
       "    core type: Variable\n",
       "    sub-expressions: \n",
       "37. 2^{t}\n",
       "    core type: Operation\n",
       "    operator: 39\n",
       "    operands: 40\n",
       "38. -1\n",
       "    core type: Operation\n",
       "    operator: 41\n",
       "    operand: 42\n",
       "39. Exp\n",
       "    core type: Literal\n",
       "    sub-expressions: \n",
       "40. (2, t)\n",
       "    core type: ExprTuple\n",
       "    sub-expressions: 43, 44\n",
       "41. -\n",
       "    core type: Literal\n",
       "    sub-expressions: \n",
       "42. 1\n",
       "    core type: Literal\n",
       "    sub-expressions: \n",
       "43. 2\n",
       "    core type: Literal\n",
       "    sub-expressions: \n",
       "44. t\n",
       "    core type: Literal\n",
       "    sub-expressions: "
      ]
     },
     "execution_count": 5,
     "metadata": {},
     "output_type": "execute_result"
    }
   ],
   "source": [
    "# display the expression information\n",
    "expr.expr_info()"
   ]
  },
  {
   "cell_type": "code",
   "execution_count": null,
   "metadata": {},
   "outputs": [],
   "source": []
  }
 ],
 "metadata": {
  "kernelspec": {
   "display_name": "Python 3",
   "language": "python",
   "name": "python3"
  }
 },
 "nbformat": 4,
 "nbformat_minor": 0
}