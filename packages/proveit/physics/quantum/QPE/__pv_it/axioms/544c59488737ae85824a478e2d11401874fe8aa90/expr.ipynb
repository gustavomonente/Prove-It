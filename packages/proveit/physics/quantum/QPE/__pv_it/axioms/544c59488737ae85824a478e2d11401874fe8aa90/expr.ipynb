{
 "cells": [
  {
   "cell_type": "markdown",
   "metadata": {},
   "source": [
    "Expression of type <a class=\"ProveItLink\" href=\"../../../../../../../../doc/html/api/proveit.Conditional.html\">Conditional</a>\n",
    "=======================\n",
    "# from the theory of <a class=\"ProveItLink\" href=\"../../../_theory_nbs_/theory.ipynb\">proveit.physics.quantum.QPE</a>"
   ]
  },
  {
   "cell_type": "code",
   "execution_count": 1,
   "metadata": {},
   "outputs": [],
   "source": [
    "import proveit\n",
    "# Automation is not needed when building an expression:\n",
    "proveit.defaults.automation = False # This will speed things up.\n",
    "proveit.defaults.inline_pngs = False # Makes files smaller.\n",
    "%load_expr # Load the stored expression as 'stored_expr'\n",
    "# import Expression classes needed to build the expression\n",
    "from proveit import Conditional, l\n",
    "from proveit.linalg import MatrixProd\n",
    "from proveit.logic import Equals, InSet\n",
    "from proveit.numbers import Integer\n",
    "from proveit.physics.quantum import Ket, RegisterBra\n",
    "from proveit.physics.quantum.QPE import ModAdd, Psi_, alpha_l, b_, t_"
   ]
  },
  {
   "cell_type": "code",
   "execution_count": 2,
   "metadata": {},
   "outputs": [
    {
     "data": {
      "text/html": [
       "<strong id=\"expr\">expr:</strong> <a class=\"ProveItLink\" href=\"expr.ipynb\"><img src=\"expr.png\" style=\"display:inline;vertical-align:middle;\" /></a><br>"
      ],
      "text/plain": [
       "expr: {alpha_{l} = {t}_〈b MOD_ADD l|Psi〉 if l in Integer."
      ]
     },
     "execution_count": 2,
     "metadata": {},
     "output_type": "execute_result"
    }
   ],
   "source": [
    "# build up the expression from sub-expressions\n",
    "expr = Conditional(Equals(alpha_l, MatrixProd(RegisterBra(ModAdd(b_, l), t_), Ket(Psi_))), InSet(l, Integer))"
   ]
  },
  {
   "cell_type": "code",
   "execution_count": 3,
   "metadata": {},
   "outputs": [
    {
     "name": "stdout",
     "output_type": "stream",
     "text": [
      "Passed sanity check: expr matches stored_expr\n"
     ]
    }
   ],
   "source": [
    "# check that the built expression is the same as the stored expression\n",
    "assert expr == stored_expr\n",
    "assert expr._style_id == stored_expr._style_id\n",
    "print(\"Passed sanity check: expr matches stored_expr\")"
   ]
  },
  {
   "cell_type": "code",
   "execution_count": 4,
   "metadata": {},
   "outputs": [
    {
     "name": "stdout",
     "output_type": "stream",
     "text": [
      "\\left\\{\\alpha_{l} = {_{t}}\\langle b \\oplus l \\rvert\\Psi \\rangle \\textrm{ if } l \\in \\mathbb{Z}\\right..\n"
     ]
    }
   ],
   "source": [
    "# Show the LaTeX representation of the expression for convenience if you need it.\n",
    "print(expr.latex())"
   ]
  },
  {
   "cell_type": "code",
   "execution_count": 5,
   "metadata": {},
   "outputs": [
    {
     "data": {
      "text/html": [
       "<table>\n",
       "<tr><th>name</th><th>description</th><th>default</th><th>current value</th><th>related methods</th></tr><tr><td>condition_delimiter</td><td>'comma' or 'and'</td><td>comma</td><td>comma</td><td>('with_comma_delimiter', 'with_conjunction_delimiter')</td></tr>\n",
       "</table>\n"
      ],
      "text/plain": [
       "style name: condition_delimiter\n",
       "description: 'comma' or 'and'\n",
       "default: comma\n",
       "current value: comma\n",
       "related methods: ('with_comma_delimiter', 'with_conjunction_delimiter')"
      ]
     },
     "execution_count": 5,
     "metadata": {},
     "output_type": "execute_result"
    }
   ],
   "source": [
    "expr.style_options()"
   ]
  },
  {
   "cell_type": "code",
   "execution_count": 6,
   "metadata": {},
   "outputs": [
    {
     "data": {
      "text/html": [
       "<table><tr><th>&nbsp;</th><th>core type</th><th>sub-expressions</th><th>expression</th></tr>\n",
       "<tr><td>0</td><td>Conditional</td><td>value:&nbsp;1<br>condition:&nbsp;2<br></td><td><a class=\"ProveItLink\" href=\"expr.ipynb\"><img src=\"expr.png\" style=\"display:inline;vertical-align:middle;\" /></a></td></tr>\n",
       "<tr><td>1</td><td>Operation</td><td>operator:&nbsp;3<br>operands:&nbsp;4<br></td><td><a class=\"ProveItLink\" href=\"../d5cc1058768b525eee98871b4650373faeb4edb90/expr.ipynb\"><img src=\"../d5cc1058768b525eee98871b4650373faeb4edb90/expr.png\" style=\"display:inline;vertical-align:middle;\" /></a></td></tr>\n",
       "<tr><td>2</td><td>Operation</td><td>operator:&nbsp;5<br>operands:&nbsp;6<br></td><td><a class=\"ProveItLink\" href=\"../6c46a7646b8a0115cd527347dcff62af79d8dc040/expr.ipynb\"><img src=\"../6c46a7646b8a0115cd527347dcff62af79d8dc040/expr.png\" style=\"display:inline;vertical-align:middle;\" /></a></td></tr>\n",
       "<tr><td>3</td><td>Literal</td><td></td><td><a class=\"ProveItLink\" href=\"../../../../../../logic/equality/__pv_it/common/731dd3955b346c1320ed5c0ba7a618bcda61457d0/expr.ipynb\"><img src=\"../../../../../../logic/equality/__pv_it/common/731dd3955b346c1320ed5c0ba7a618bcda61457d0/expr.png\" style=\"display:inline;vertical-align:middle;\" /></a></td></tr>\n",
       "<tr><td>4</td><td>ExprTuple</td><td>7, 8</td><td><a class=\"ProveItLink\" href=\"../3bd23f2752261f1cb38ccedfa3bc164b8cd38d550/expr.ipynb\"><img src=\"../3bd23f2752261f1cb38ccedfa3bc164b8cd38d550/expr.png\" style=\"display:inline;vertical-align:middle;\" /></a></td></tr>\n",
       "<tr><td>5</td><td>Literal</td><td></td><td><a class=\"ProveItLink\" href=\"../../../../../../logic/sets/membership/__pv_it/common/7171deca84f71f47a6ec7696972d1632274a12880/expr.ipynb\"><img src=\"../../../../../../logic/sets/membership/__pv_it/common/7171deca84f71f47a6ec7696972d1632274a12880/expr.png\" style=\"display:inline;vertical-align:middle;\" /></a></td></tr>\n",
       "<tr><td>6</td><td>ExprTuple</td><td>27, 9</td><td><a class=\"ProveItLink\" href=\"../6dd735022c47109945df6643d5829dca3b056ae10/expr.ipynb\"><img src=\"../6dd735022c47109945df6643d5829dca3b056ae10/expr.png\" style=\"display:inline;vertical-align:middle;\" /></a></td></tr>\n",
       "<tr><td>7</td><td>Operation</td><td>operator:&nbsp;10<br>operands:&nbsp;11<br></td><td><a class=\"ProveItLink\" href=\"../../common/6b6693d7e7da3a9b576b0b96afc4cef1f41a7eaa0/expr.ipynb\"><img src=\"../../common/6b6693d7e7da3a9b576b0b96afc4cef1f41a7eaa0/expr.png\" style=\"display:inline;vertical-align:middle;\" /></a></td></tr>\n",
       "<tr><td>8</td><td>Operation</td><td>operator:&nbsp;12<br>operands:&nbsp;13<br></td><td><a class=\"ProveItLink\" href=\"../89280b6384af2e3b1b8429176a1bedab5019cfa20/expr.ipynb\"><img src=\"../89280b6384af2e3b1b8429176a1bedab5019cfa20/expr.png\" style=\"display:inline;vertical-align:middle;\" /></a></td></tr>\n",
       "<tr><td>9</td><td>Literal</td><td></td><td><a class=\"ProveItLink\" href=\"../../../../../../numbers/number_sets/integers/__pv_it/common/21b035fc94b1f20bfb5161d2c7bd6eb2042cc5670/expr.ipynb\"><img src=\"../../../../../../numbers/number_sets/integers/__pv_it/common/21b035fc94b1f20bfb5161d2c7bd6eb2042cc5670/expr.png\" style=\"display:inline;vertical-align:middle;\" /></a></td></tr>\n",
       "<tr><td>10</td><td>Literal</td><td></td><td><a class=\"ProveItLink\" href=\"../../common/fa834395d810710d865bb8379bdb0806d419db9b0/expr.ipynb\"><img src=\"../../common/fa834395d810710d865bb8379bdb0806d419db9b0/expr.png\" style=\"display:inline;vertical-align:middle;\" /></a></td></tr>\n",
       "<tr><td>11</td><td>ExprTuple</td><td>14, 27</td><td><a class=\"ProveItLink\" href=\"../../common/5f9bd56a9598af524f3e0df967b7d94242573db80/expr.ipynb\"><img src=\"../../common/5f9bd56a9598af524f3e0df967b7d94242573db80/expr.png\" style=\"display:inline;vertical-align:middle;\" /></a></td></tr>\n",
       "<tr><td>12</td><td>Literal</td><td></td><td><a class=\"ProveItLink\" href=\"../../../../../../linalg/__pv_it/common/cedd15e03eb218ba0d47139c30dd28b5f58bcb880/expr.ipynb\"><img src=\"../../../../../../linalg/__pv_it/common/cedd15e03eb218ba0d47139c30dd28b5f58bcb880/expr.png\" style=\"display:inline;vertical-align:middle;\" /></a></td></tr>\n",
       "<tr><td>13</td><td>ExprTuple</td><td>15, 16</td><td><a class=\"ProveItLink\" href=\"../e9855053d42535bc4417a986ffd4f912796d3fb80/expr.ipynb\"><img src=\"../e9855053d42535bc4417a986ffd4f912796d3fb80/expr.png\" style=\"display:inline;vertical-align:middle;\" /></a></td></tr>\n",
       "<tr><td>14</td><td>Literal</td><td></td><td><a class=\"ProveItLink\" href=\"../../common/7e436a3cff4097047049586cee08457d5f001a270/expr.ipynb\"><img src=\"../../common/7e436a3cff4097047049586cee08457d5f001a270/expr.png\" style=\"display:inline;vertical-align:middle;\" /></a></td></tr>\n",
       "<tr><td>15</td><td>Operation</td><td>operator:&nbsp;17<br>operands:&nbsp;18<br></td><td><a class=\"ProveItLink\" href=\"../f16feb50b2296c801dbb6656ae472f75a57568b80/expr.ipynb\"><img src=\"../f16feb50b2296c801dbb6656ae472f75a57568b80/expr.png\" style=\"display:inline;vertical-align:middle;\" /></a></td></tr>\n",
       "<tr><td>16</td><td>Operation</td><td>operator:&nbsp;19<br>operand:&nbsp;23<br></td><td><a class=\"ProveItLink\" href=\"../fc839153f59a257f651d6802fe6da9344b266d1c0/expr.ipynb\"><img src=\"../fc839153f59a257f651d6802fe6da9344b266d1c0/expr.png\" style=\"display:inline;vertical-align:middle;\" /></a></td></tr>\n",
       "<tr><td>17</td><td>Literal</td><td></td><td><a class=\"ProveItLink\" href=\"../../../../__pv_it/common/404446f2f1f551057cf0a627202c987fe3be8b940/expr.ipynb\"><img src=\"../../../../__pv_it/common/404446f2f1f551057cf0a627202c987fe3be8b940/expr.png\" style=\"display:inline;vertical-align:middle;\" /></a></td></tr>\n",
       "<tr><td>18</td><td>ExprTuple</td><td>21, 22</td><td><a class=\"ProveItLink\" href=\"../2234c500cb7fd600797f609c1a22af18fd418d3c0/expr.ipynb\"><img src=\"../2234c500cb7fd600797f609c1a22af18fd418d3c0/expr.png\" style=\"display:inline;vertical-align:middle;\" /></a></td></tr>\n",
       "<tr><td>19</td><td>Literal</td><td></td><td><a class=\"ProveItLink\" href=\"../../../../__pv_it/common/6e9e7d19bd9dfa08dee7501fca955461a19971770/expr.ipynb\"><img src=\"../../../../__pv_it/common/6e9e7d19bd9dfa08dee7501fca955461a19971770/expr.png\" style=\"display:inline;vertical-align:middle;\" /></a></td></tr>\n",
       "<tr><td>20</td><td>ExprTuple</td><td>23</td><td><a class=\"ProveItLink\" href=\"../c31a9004b70bfc19fb78312d948126dbbc2c63520/expr.ipynb\"><img src=\"../c31a9004b70bfc19fb78312d948126dbbc2c63520/expr.png\" style=\"display:inline;vertical-align:middle;\" /></a></td></tr>\n",
       "<tr><td>21</td><td>Operation</td><td>operator:&nbsp;24<br>operands:&nbsp;25<br></td><td><a class=\"ProveItLink\" href=\"../fe0814a11713b87c3f39c25be8af4dda33a614af0/expr.ipynb\"><img src=\"../fe0814a11713b87c3f39c25be8af4dda33a614af0/expr.png\" style=\"display:inline;vertical-align:middle;\" /></a></td></tr>\n",
       "<tr><td>22</td><td>Literal</td><td></td><td><a class=\"ProveItLink\" href=\"../../common/39c1d684e38b5dd4cd200cf6f134282993af2c0b0/expr.ipynb\"><img src=\"../../common/39c1d684e38b5dd4cd200cf6f134282993af2c0b0/expr.png\" style=\"display:inline;vertical-align:middle;\" /></a></td></tr>\n",
       "<tr><td>23</td><td>Literal</td><td></td><td><a class=\"ProveItLink\" href=\"../../common/d021815fecdb3cfd071230f5853e16b3d21a02c50/expr.ipynb\"><img src=\"../../common/d021815fecdb3cfd071230f5853e16b3d21a02c50/expr.png\" style=\"display:inline;vertical-align:middle;\" /></a></td></tr>\n",
       "<tr><td>24</td><td>Literal</td><td></td><td><a class=\"ProveItLink\" href=\"../../common/6e5dbc42e5663f90b99f3fe4119e87bcc81251ac0/expr.ipynb\"><img src=\"../../common/6e5dbc42e5663f90b99f3fe4119e87bcc81251ac0/expr.png\" style=\"display:inline;vertical-align:middle;\" /></a></td></tr>\n",
       "<tr><td>25</td><td>ExprTuple</td><td>26, 27</td><td><a class=\"ProveItLink\" href=\"../c598e315bb829f353ecfec00a7987602e905e44d0/expr.ipynb\"><img src=\"../c598e315bb829f353ecfec00a7987602e905e44d0/expr.png\" style=\"display:inline;vertical-align:middle;\" /></a></td></tr>\n",
       "<tr><td>26</td><td>Literal</td><td></td><td><a class=\"ProveItLink\" href=\"../../common/5e50c5d70951d830477d02ce423fc5d8f80be26e0/expr.ipynb\"><img src=\"../../common/5e50c5d70951d830477d02ce423fc5d8f80be26e0/expr.png\" style=\"display:inline;vertical-align:middle;\" /></a></td></tr>\n",
       "<tr><td>27</td><td>Variable</td><td></td><td><a class=\"ProveItLink\" href=\"../../../../../../__pv_it/common/5f60d32873626c7ce57e35d1d9e427fb112cfe7a0/expr.ipynb\"><img src=\"../../../../../../__pv_it/common/5f60d32873626c7ce57e35d1d9e427fb112cfe7a0/expr.png\" style=\"display:inline;vertical-align:middle;\" /></a></td></tr>\n",
       "</table>\n"
      ],
      "text/plain": [
       "0. {alpha_{l} = {t}_〈b MOD_ADD l|Psi〉 if l in Integer.\n",
       "   core type: Conditional\n",
       "   value: 1\n",
       "   condition: 2\n",
       "1. alpha_{l} = {t}_〈b MOD_ADD l|Psi〉\n",
       "   core type: Operation\n",
       "   operator: 3\n",
       "   operands: 4\n",
       "2. l in Integer\n",
       "   core type: Operation\n",
       "   operator: 5\n",
       "   operands: 6\n",
       "3. =\n",
       "   core type: Literal\n",
       "   sub-expressions: \n",
       "4. (alpha_{l}, {t}_〈b MOD_ADD l|Psi〉)\n",
       "   core type: ExprTuple\n",
       "   sub-expressions: 7, 8\n",
       "5. in\n",
       "   core type: Literal\n",
       "   sub-expressions: \n",
       "6. (l, Integer)\n",
       "   core type: ExprTuple\n",
       "   sub-expressions: 27, 9\n",
       "7. alpha_{l}\n",
       "   core type: Operation\n",
       "   operator: 10\n",
       "   operands: 11\n",
       "8. {t}_〈b MOD_ADD l| . |Psi〉\n",
       "   core type: Operation\n",
       "   operator: 12\n",
       "   operands: 13\n",
       "9. Integer\n",
       "   core type: Literal\n",
       "   sub-expressions: \n",
       "10. SUB_INDEXED\n",
       "    core type: Literal\n",
       "    sub-expressions: \n",
       "11. (alpha, l)\n",
       "    core type: ExprTuple\n",
       "    sub-expressions: 14, 27\n",
       "12. .\n",
       "    core type: Literal\n",
       "    sub-expressions: \n",
       "13. ({t}_〈b MOD_ADD l|, |Psi〉)\n",
       "    core type: ExprTuple\n",
       "    sub-expressions: 15, 16\n",
       "14. alpha\n",
       "    core type: Literal\n",
       "    sub-expressions: \n",
       "15. {t}_〈b MOD_ADD l|\n",
       "    core type: Operation\n",
       "    operator: 17\n",
       "    operands: 18\n",
       "16. |Psi〉\n",
       "    core type: Operation\n",
       "    operator: 19\n",
       "    operand: 23\n",
       "17. REGISTER_BRA\n",
       "    core type: Literal\n",
       "    sub-expressions: \n",
       "18. (b MOD_ADD l, t)\n",
       "    core type: ExprTuple\n",
       "    sub-expressions: 21, 22\n",
       "19. KET\n",
       "    core type: Literal\n",
       "    sub-expressions: \n",
       "20. (Psi)\n",
       "    core type: ExprTuple\n",
       "    sub-expressions: 23\n",
       "21. b MOD_ADD l\n",
       "    core type: Operation\n",
       "    operator: 24\n",
       "    operands: 25\n",
       "22. t\n",
       "    core type: Literal\n",
       "    sub-expressions: \n",
       "23. Psi\n",
       "    core type: Literal\n",
       "    sub-expressions: \n",
       "24. MOD_ADD\n",
       "    core type: Literal\n",
       "    sub-expressions: \n",
       "25. (b, l)\n",
       "    core type: ExprTuple\n",
       "    sub-expressions: 26, 27\n",
       "26. b\n",
       "    core type: Literal\n",
       "    sub-expressions: \n",
       "27. l\n",
       "    core type: Variable\n",
       "    sub-expressions: "
      ]
     },
     "execution_count": 6,
     "metadata": {},
     "output_type": "execute_result"
    }
   ],
   "source": [
    "# display the expression information\n",
    "expr.expr_info()"
   ]
  },
  {
   "cell_type": "code",
   "execution_count": null,
   "metadata": {},
   "outputs": [],
   "source": []
  }
 ],
 "metadata": {
  "kernelspec": {
   "display_name": "Python 3",
   "language": "python",
   "name": "python3"
  }
 },
 "nbformat": 4,
 "nbformat_minor": 0
}