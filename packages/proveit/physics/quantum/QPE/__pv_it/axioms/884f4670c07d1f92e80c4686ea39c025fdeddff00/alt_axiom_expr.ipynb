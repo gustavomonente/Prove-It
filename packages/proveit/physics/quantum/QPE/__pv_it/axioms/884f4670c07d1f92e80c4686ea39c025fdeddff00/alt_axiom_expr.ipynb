{
 "cells": [
  {
   "cell_type": "markdown",
   "metadata": {},
   "source": [
    "Temporary notebook for <a class=\"ProveItLink\" href=\"../../../_axioms_.ipynb#mid_q_p_e\">mid_q_p_e</a> of type <a href=\"../../../../../../../../doc/html/api/proveit.logic.Forall.html\">Forall</a>\n",
    "=======================\n",
    "# a not-yet-official axiom from the theory of <a class=\"ProveItLink\" href=\"../../../_theory_nbs_/theory.ipynb\">proveit.physics.quantum.QPE</a>"
   ]
  },
  {
   "cell_type": "code",
   "execution_count": null,
   "metadata": {},
   "outputs": [],
   "source": [
    "import proveit\n",
    "# Automation is not needed when building an expression:\n",
    "proveit.defaults.automation = False # This will speed things up\n",
    "proveit.defaults.inline_pngs = False # Makes files smaller.\n",
    "%load_axiom_expr # Load the stored axiom expression as 'stored_expr'\n",
    "# import Expression classes needed to build the expression\n",
    "from proveit import ExprArray, k\n",
    "from proveit.logic import Forall, Set\n",
    "from proveit.numbers import NaturalPos, one, three, two\n",
    "from proveit.physics.quantum import CONTROL, Hgate, Input, Ket, Output, SPACE, ket0\n",
    "from proveit.physics.quantum.QPE import U_pow_two_pow_k, psi_k, psi_next, u_\n",
    "from proveit.physics.quantum.circuit import Circuit, IdentityOp, MultiQubitGate"
   ]
  },
  {
   "cell_type": "code",
   "execution_count": null,
   "metadata": {},
   "outputs": [],
   "source": [
    "# build up the expression from sub-expressions\n",
    "sub_expr1 = Set(two, three)\n",
    "sub_expr2 = Ket(u_)\n",
    "sub_expr3 = MultiQubitGate(IdentityOp(), Set(one, two))\n",
    "expr = Forall([k], Circuit(ExprArray([Input(Ket(psi_k)), IdentityOp(), IdentityOp(), sub_expr3, SPACE, SPACE], [Input(ket0), Hgate, MultiQubitGate(CONTROL, sub_expr1), sub_expr3, IdentityOp(), Output(Ket(psi_next))], [Input(sub_expr2), IdentityOp(), MultiQubitGate(U_pow_two_pow_k, sub_expr1), Output(sub_expr2), SPACE, SPACE])), domains = [NaturalPos])"
   ]
  },
  {
   "cell_type": "code",
   "execution_count": null,
   "metadata": {},
   "outputs": [],
   "source": [
    "# check that the built expression is the same as the stored expression\n",
    "assert expr == stored_expr\n",
    "assert expr._style_id == stored_expr._style_id\n",
    "print(\"Passed sanity check: mid_q_p_e matches stored_expr\")"
   ]
  },
  {
   "cell_type": "code",
   "execution_count": null,
   "metadata": {},
   "outputs": [],
   "source": [
    "# Show the LaTeX representation of the expression for convenience if you need it.\n",
    "print(expr.latex())"
   ]
  },
  {
   "cell_type": "code",
   "execution_count": null,
   "metadata": {},
   "outputs": [],
   "source": [
    "expr.style_options()"
   ]
  },
  {
   "cell_type": "code",
   "execution_count": null,
   "metadata": {},
   "outputs": [],
   "source": [
    "# display the expression information\n",
    "expr.expr_info()"
   ]
  },
  {
   "cell_type": "code",
   "execution_count": null,
   "metadata": {},
   "outputs": [],
   "source": []
  }
 ],
 "metadata": {
  "kernelspec": {
   "display_name": "Python 3",
   "language": "python",
   "name": "python3"
  }
 },
 "nbformat": 4,
 "nbformat_minor": 0
}