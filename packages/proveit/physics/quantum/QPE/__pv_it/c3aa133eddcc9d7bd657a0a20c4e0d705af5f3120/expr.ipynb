{
 "cells": [
  {
   "cell_type": "markdown",
   "metadata": {},
   "source": [
    "Expression of type <a class=\"ProveItLink\" href=\"../../../../../../../doc/html/api/proveit.ExprTuple.html\">ExprTuple</a>\n",
    "=======================\n",
    "# from context <a class=\"ProveItLink\" href=\"../../_context_.ipynb\">proveit.physics.quantum.QPE</a>"
   ]
  },
  {
   "cell_type": "code",
   "execution_count": 1,
   "metadata": {},
   "outputs": [],
   "source": [
    "import proveit\n",
    "# Automation is not needed when building an expression:\n",
    "proveit.defaults.automation = False # This will speed things up.\n",
    "proveit.defaults.inline_pngs = False # Makes files smaller.\n",
    "# import Expression classes needed to build the expression\n",
    "from proveit import ExprTuple, Literal\n",
    "from proveit._common_ import k\n",
    "from proveit.number import Exp, Mult, e, i, pi, two\n",
    "from proveit.physics.quantum import Ket"
   ]
  },
  {
   "cell_type": "code",
   "execution_count": 2,
   "metadata": {},
   "outputs": [
    {
     "data": {
      "text/html": [
       "<strong id=\"expr\">expr:</strong> <a class=\"ProveItLink\" href=\"expr.ipynb\"><img src=\"expr.png\" style=\"display:inline;vertical-align:middle;\" /></a><br>"
      ],
      "text/plain": [
       "expr: (e^{2 * pi * i * phase * k}, |k〉)"
      ]
     },
     "execution_count": 2,
     "metadata": {},
     "output_type": "execute_result"
    }
   ],
   "source": [
    "# build up the expression from sub-expressions\n",
    "expr = ExprTuple(Exp(e, Mult(two, pi, i, Literal(\"phase\", latexFormat = r\"\\varphi\", context = \"proveit.physics.quantum.QPE\"), k)), Ket(k))"
   ]
  },
  {
   "cell_type": "code",
   "execution_count": 3,
   "metadata": {},
   "outputs": [
    {
     "name": "stdout",
     "output_type": "stream",
     "text": [
      "Passed sanity check: built 'expr' is the same as the stored Expression.\n"
     ]
    }
   ],
   "source": [
    "# check that the built expression is the same as the stored expression\n",
    "%check_expr"
   ]
  },
  {
   "cell_type": "code",
   "execution_count": 4,
   "metadata": {},
   "outputs": [
    {
     "name": "stdout",
     "output_type": "stream",
     "text": [
      "\\left(e^{2 \\cdot \\pi \\cdot i \\cdot \\varphi \\cdot k}, \\lvert k \\rangle\\right)\n"
     ]
    }
   ],
   "source": [
    "# Show the LaTeX representation of the expression for convenience if you need it.\n",
    "print(expr.latex())"
   ]
  },
  {
   "cell_type": "code",
   "execution_count": 5,
   "metadata": {},
   "outputs": [
    {
     "data": {
      "text/html": [
       "<table><tr><th>&nbsp;</th><th>core type</th><th>sub-expressions</th><th>expression</th></tr>\n",
       "<tr><td>0</td><td>ExprTuple</td><td>1, 2</td><td><a class=\"ProveItLink\" href=\"expr.ipynb\"><img src=\"expr.png\" style=\"display:inline;vertical-align:middle;\" /></a></td></tr>\n",
       "<tr><td>1</td><td>Operation</td><td>operator:&nbsp;3<br>operands:&nbsp;4<br></td><td><a class=\"ProveItLink\" href=\"../30a7f5a40baade9d9b67af5d67e8f1311e6efb5f0/expr.ipynb\"><img src=\"../30a7f5a40baade9d9b67af5d67e8f1311e6efb5f0/expr.png\" style=\"display:inline;vertical-align:middle;\" /></a></td></tr>\n",
       "<tr><td>2</td><td>Operation</td><td>operator:&nbsp;5<br>operand:&nbsp;14<br></td><td><a class=\"ProveItLink\" href=\"../60700972917518f08c991cecfabbe54b75922a880/expr.ipynb\"><img src=\"../60700972917518f08c991cecfabbe54b75922a880/expr.png\" style=\"display:inline;vertical-align:middle;\" /></a></td></tr>\n",
       "<tr><td>3</td><td>Literal</td><td></td><td><a class=\"ProveItLink\" href=\"../../../../../number/exponentiation/__pv_it/fca8e4218e687a7bc372d4b4009101e95bae518f0/expr.ipynb\"><img src=\"../../../../../number/exponentiation/__pv_it/fca8e4218e687a7bc372d4b4009101e95bae518f0/expr.png\" style=\"display:inline;vertical-align:middle;\" /></a></td></tr>\n",
       "<tr><td>4</td><td>ExprTuple</td><td>6, 7</td><td><a class=\"ProveItLink\" href=\"../a3ba884ce22ca7c1691238f57b0a87dc1c11e64e0/expr.ipynb\"><img src=\"../a3ba884ce22ca7c1691238f57b0a87dc1c11e64e0/expr.png\" style=\"display:inline;vertical-align:middle;\" /></a></td></tr>\n",
       "<tr><td>5</td><td>Literal</td><td></td><td><a class=\"ProveItLink\" href=\"../../../__pv_it/8aef81a4e336b372b4f04cd37a0a7ab8466ca20c0/expr.ipynb\"><img src=\"../../../__pv_it/8aef81a4e336b372b4f04cd37a0a7ab8466ca20c0/expr.png\" style=\"display:inline;vertical-align:middle;\" /></a></td></tr>\n",
       "<tr><td>6</td><td>Literal</td><td></td><td><a class=\"ProveItLink\" href=\"../../../../../number/sets/real/__pv_it/2da8b15c54030215c8a4e24fc5dad394d038890a0/expr.ipynb\"><img src=\"../../../../../number/sets/real/__pv_it/2da8b15c54030215c8a4e24fc5dad394d038890a0/expr.png\" style=\"display:inline;vertical-align:middle;\" /></a></td></tr>\n",
       "<tr><td>7</td><td>Operation</td><td>operator:&nbsp;8<br>operands:&nbsp;9<br></td><td><a class=\"ProveItLink\" href=\"../b478badd8490d385186a5ba383314658bd50a9fe0/expr.ipynb\"><img src=\"../b478badd8490d385186a5ba383314658bd50a9fe0/expr.png\" style=\"display:inline;vertical-align:middle;\" /></a></td></tr>\n",
       "<tr><td>8</td><td>Literal</td><td></td><td><a class=\"ProveItLink\" href=\"../../../../../number/multiplication/__pv_it/f7a1ed7c35c8c884cf4c236d27cb79bf85638cad0/expr.ipynb\"><img src=\"../../../../../number/multiplication/__pv_it/f7a1ed7c35c8c884cf4c236d27cb79bf85638cad0/expr.png\" style=\"display:inline;vertical-align:middle;\" /></a></td></tr>\n",
       "<tr><td>9</td><td>ExprTuple</td><td>10, 11, 12, 13, 14</td><td><a class=\"ProveItLink\" href=\"../5655c47d4776f5ac6ea0d1dc1eb53c09996548df0/expr.ipynb\"><img src=\"../5655c47d4776f5ac6ea0d1dc1eb53c09996548df0/expr.png\" style=\"display:inline;vertical-align:middle;\" /></a></td></tr>\n",
       "<tr><td>10</td><td>Literal</td><td></td><td><a class=\"ProveItLink\" href=\"../../../../../number/numeral/__pv_it/fb4ccffdbfd0f653ebaacb95e7ff4802fd48a6f20/expr.ipynb\"><img src=\"../../../../../number/numeral/__pv_it/fb4ccffdbfd0f653ebaacb95e7ff4802fd48a6f20/expr.png\" style=\"display:inline;vertical-align:middle;\" /></a></td></tr>\n",
       "<tr><td>11</td><td>Literal</td><td></td><td><a class=\"ProveItLink\" href=\"../../../../../number/sets/real/__pv_it/55b5998cc1eb0bfddda5f6659b80f98cb2e83cc10/expr.ipynb\"><img src=\"../../../../../number/sets/real/__pv_it/55b5998cc1eb0bfddda5f6659b80f98cb2e83cc10/expr.png\" style=\"display:inline;vertical-align:middle;\" /></a></td></tr>\n",
       "<tr><td>12</td><td>Literal</td><td></td><td><a class=\"ProveItLink\" href=\"../../../../../number/sets/complex/__pv_it/2eee945873616fb29c0de5c0ddf0e4fdff4b9b3b0/expr.ipynb\"><img src=\"../../../../../number/sets/complex/__pv_it/2eee945873616fb29c0de5c0ddf0e4fdff4b9b3b0/expr.png\" style=\"display:inline;vertical-align:middle;\" /></a></td></tr>\n",
       "<tr><td>13</td><td>Literal</td><td></td><td><a class=\"ProveItLink\" href=\"../aca68746e10d51e63da30046b57dd0367cda4d330/expr.ipynb\"><img src=\"../aca68746e10d51e63da30046b57dd0367cda4d330/expr.png\" style=\"display:inline;vertical-align:middle;\" /></a></td></tr>\n",
       "<tr><td>14</td><td>Variable</td><td></td><td><a class=\"ProveItLink\" href=\"../../../../../__pv_it/273f49450ca25e1b56abbd98a7aef618f8f6c1360/expr.ipynb\"><img src=\"../../../../../__pv_it/273f49450ca25e1b56abbd98a7aef618f8f6c1360/expr.png\" style=\"display:inline;vertical-align:middle;\" /></a></td></tr>\n",
       "</table>\n"
      ],
      "text/plain": [
       "0. (e^{2 * pi * i * phase * k}, |k〉)\n",
       "   core type: ExprTuple\n",
       "   sub-expressions: 1, 2\n",
       "1. e^{2 * pi * i * phase * k}\n",
       "   core type: Operation\n",
       "   operator: 3\n",
       "   operands: 4\n",
       "2. |k〉\n",
       "   core type: Operation\n",
       "   operator: 5\n",
       "   operand: 14\n",
       "3. Exp\n",
       "   core type: Literal\n",
       "   sub-expressions: \n",
       "4. (e, 2 * pi * i * phase * k)\n",
       "   core type: ExprTuple\n",
       "   sub-expressions: 6, 7\n",
       "5. KET\n",
       "   core type: Literal\n",
       "   sub-expressions: \n",
       "6. e\n",
       "   core type: Literal\n",
       "   sub-expressions: \n",
       "7. 2 * pi * i * phase * k\n",
       "   core type: Operation\n",
       "   operator: 8\n",
       "   operands: 9\n",
       "8. *\n",
       "   core type: Literal\n",
       "   sub-expressions: \n",
       "9. (2, pi, i, phase, k)\n",
       "   core type: ExprTuple\n",
       "   sub-expressions: 10, 11, 12, 13, 14\n",
       "10. 2\n",
       "    core type: Literal\n",
       "    sub-expressions: \n",
       "11. pi\n",
       "    core type: Literal\n",
       "    sub-expressions: \n",
       "12. i\n",
       "    core type: Literal\n",
       "    sub-expressions: \n",
       "13. phase\n",
       "    core type: Literal\n",
       "    sub-expressions: \n",
       "14. k\n",
       "    core type: Variable\n",
       "    sub-expressions: "
      ]
     },
     "execution_count": 5,
     "metadata": {},
     "output_type": "execute_result"
    }
   ],
   "source": [
    "# display the expression information\n",
    "expr.exprInfo()"
   ]
  },
  {
   "cell_type": "code",
   "execution_count": null,
   "metadata": {},
   "outputs": [],
   "source": []
  }
 ],
 "metadata": {
  "kernelspec": {
   "display_name": "Python 3",
   "language": "python",
   "name": "python3"
  },
  "language_info": {
   "codemirror_mode": {
    "name": "ipython",
    "version": 3
   },
   "file_extension": ".py",
   "mimetype": "text/x-python",
   "name": "python",
   "nbconvert_exporter": "python",
   "pygments_lexer": "ipython3",
   "version": "3.7.3"
  }
 },
 "nbformat": 4,
 "nbformat_minor": 1
}
