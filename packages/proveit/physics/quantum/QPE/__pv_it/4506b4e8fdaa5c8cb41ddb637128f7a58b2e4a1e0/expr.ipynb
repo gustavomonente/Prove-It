{
 "cells": [
  {
   "cell_type": "markdown",
   "metadata": {},
   "source": [
    "Theorem <a class=\"ProveItLink\" href=\"../../_theorems_.ipynb#all_alpha_l_in_complexes\">all_alpha_l_in_complexes</a> of type <a class=\"ProveItLink\" href=\"../../../../../../../doc/html/api/proveit.logic.Forall.html\">Forall</a>\n",
    "=======================\n",
    "# from context <a class=\"ProveItLink\" href=\"../../_context_.ipynb\">proveit.physics.quantum.QPE</a>\n",
    "*** see <a class=\"ProveItLink\" href=\"dependencies.ipynb\">dependencies</a> ***"
   ]
  },
  {
   "cell_type": "code",
   "execution_count": 1,
   "metadata": {},
   "outputs": [],
   "source": [
    "import proveit\n",
    "# Automation is not needed when only building an expression:\n",
    "proveit.defaults.automation = False # This will speed things up.\n",
    "proveit.defaults.inline_pngs = False # Makes files smaller.\n",
    "# import the special expression\n",
    "from proveit.physics.quantum.QPE._theorems_ import all_alpha_l_in_complexes"
   ]
  },
  {
   "cell_type": "code",
   "execution_count": 2,
   "metadata": {},
   "outputs": [
    {
     "name": "stdout",
     "output_type": "stream",
     "text": [
      "Passed sanity check: built 'all_alpha_l_in_complexes' is the same as the stored Expression.\n"
     ]
    }
   ],
   "source": [
    "# check that the built expression is the same as the stored expression\n",
    "%check_expr all_alpha_l_in_complexes"
   ]
  },
  {
   "cell_type": "code",
   "execution_count": 3,
   "metadata": {},
   "outputs": [
    {
     "name": "stdout",
     "output_type": "stream",
     "text": [
      "\\vdash \\forall_{l \\in \\mathbb{Z}}~\\left(\\alpha_{l} \\in \\mathbb{C}\\right)\n"
     ]
    }
   ],
   "source": [
    "# Show the LaTeX representation of the expression for convenience if you need it.\n",
    "print(all_alpha_l_in_complexes.latex())"
   ]
  },
  {
   "cell_type": "code",
   "execution_count": 4,
   "metadata": {},
   "outputs": [
    {
     "data": {
      "text/html": [
       "<table><tr><th>&nbsp;</th><th>core type</th><th>sub-expressions</th><th>expression</th></tr>\n",
       "<tr><td>0</td><td>Operation</td><td>operator:&nbsp;1<br>operand:&nbsp;2<br></td><td><a class=\"ProveItLink\" href=\"expr.ipynb\"><img src=\"expr.png\" style=\"display:inline;vertical-align:middle;\" /></a></td></tr>\n",
       "<tr><td>1</td><td>Literal</td><td></td><td><a class=\"ProveItLink\" href=\"../../../../../logic/boolean/quantification/universal/__pv_it/fd9c772d6675566ed52a6897806f45eb08a4ea910/expr.ipynb\"><img src=\"../../../../../logic/boolean/quantification/universal/__pv_it/fd9c772d6675566ed52a6897806f45eb08a4ea910/expr.png\" style=\"display:inline;vertical-align:middle;\" /></a></td></tr>\n",
       "<tr><td>2</td><td>Lambda</td><td>parameter:&nbsp;15<br>body:&nbsp;3<br></td><td><a class=\"ProveItLink\" href=\"../46cce28e36e26d63e12e0d671b529706daff6ecf0/expr.ipynb\"><img src=\"../46cce28e36e26d63e12e0d671b529706daff6ecf0/expr.png\" style=\"display:inline;vertical-align:middle;\" /></a></td></tr>\n",
       "<tr><td>3</td><td>Conditional</td><td>value:&nbsp;4<br>condition:&nbsp;5<br></td><td><a class=\"ProveItLink\" href=\"../4cadb191ffff8425e85ff7986eb95c84c5fbe7610/expr.ipynb\"><img src=\"../4cadb191ffff8425e85ff7986eb95c84c5fbe7610/expr.png\" style=\"display:inline;vertical-align:middle;\" /></a></td></tr>\n",
       "<tr><td>4</td><td>Operation</td><td>operator:&nbsp;7<br>operands:&nbsp;6<br></td><td><a class=\"ProveItLink\" href=\"../fd6bdddfc914313631c017afdf24b271c94234ff0/expr.ipynb\"><img src=\"../fd6bdddfc914313631c017afdf24b271c94234ff0/expr.png\" style=\"display:inline;vertical-align:middle;\" /></a></td></tr>\n",
       "<tr><td>5</td><td>Operation</td><td>operator:&nbsp;7<br>operands:&nbsp;8<br></td><td><a class=\"ProveItLink\" href=\"../e6852049027637430b19409c2bcd6914300cfae50/expr.ipynb\"><img src=\"../e6852049027637430b19409c2bcd6914300cfae50/expr.png\" style=\"display:inline;vertical-align:middle;\" /></a></td></tr>\n",
       "<tr><td>6</td><td>ExprTuple</td><td>9, 10</td><td><a class=\"ProveItLink\" href=\"../0b3f53ad3c75e0086b7542963f2c449867746cb80/expr.ipynb\"><img src=\"../0b3f53ad3c75e0086b7542963f2c449867746cb80/expr.png\" style=\"display:inline;vertical-align:middle;\" /></a></td></tr>\n",
       "<tr><td>7</td><td>Literal</td><td></td><td><a class=\"ProveItLink\" href=\"../../../../../logic/set_theory/membership/__pv_it/7776fc89cb67d0b5b1ec2c0c8e08da5587921ccf0/expr.ipynb\"><img src=\"../../../../../logic/set_theory/membership/__pv_it/7776fc89cb67d0b5b1ec2c0c8e08da5587921ccf0/expr.png\" style=\"display:inline;vertical-align:middle;\" /></a></td></tr>\n",
       "<tr><td>8</td><td>ExprTuple</td><td>15, 11</td><td><a class=\"ProveItLink\" href=\"../ac58a74f0272c5aeab9db1257ea07c482a9441990/expr.ipynb\"><img src=\"../ac58a74f0272c5aeab9db1257ea07c482a9441990/expr.png\" style=\"display:inline;vertical-align:middle;\" /></a></td></tr>\n",
       "<tr><td>9</td><td>Operation</td><td>operator:&nbsp;12<br>operands:&nbsp;13<br></td><td><a class=\"ProveItLink\" href=\"../40f73a212793a21152593147730680e3bec3a4730/expr.ipynb\"><img src=\"../40f73a212793a21152593147730680e3bec3a4730/expr.png\" style=\"display:inline;vertical-align:middle;\" /></a></td></tr>\n",
       "<tr><td>10</td><td>Literal</td><td></td><td><a class=\"ProveItLink\" href=\"../../../../../number/sets/complex/__pv_it/8a5866946d766bfd951bcdff07a1a39af0935c430/expr.ipynb\"><img src=\"../../../../../number/sets/complex/__pv_it/8a5866946d766bfd951bcdff07a1a39af0935c430/expr.png\" style=\"display:inline;vertical-align:middle;\" /></a></td></tr>\n",
       "<tr><td>11</td><td>Literal</td><td></td><td><a class=\"ProveItLink\" href=\"../../../../../number/sets/integer/__pv_it/4b6f17dbfe8c62b413ab248a9ec52df6403e103e0/expr.ipynb\"><img src=\"../../../../../number/sets/integer/__pv_it/4b6f17dbfe8c62b413ab248a9ec52df6403e103e0/expr.png\" style=\"display:inline;vertical-align:middle;\" /></a></td></tr>\n",
       "<tr><td>12</td><td>Literal</td><td></td><td><a class=\"ProveItLink\" href=\"../4245e19675e8e106fac0be5b4e4a7e60c8936e2a0/expr.ipynb\"><img src=\"../4245e19675e8e106fac0be5b4e4a7e60c8936e2a0/expr.png\" style=\"display:inline;vertical-align:middle;\" /></a></td></tr>\n",
       "<tr><td>13</td><td>ExprTuple</td><td>14, 15</td><td><a class=\"ProveItLink\" href=\"../22227bb5dd2317d5a46d74f611b452ae937cc9ef0/expr.ipynb\"><img src=\"../22227bb5dd2317d5a46d74f611b452ae937cc9ef0/expr.png\" style=\"display:inline;vertical-align:middle;\" /></a></td></tr>\n",
       "<tr><td>14</td><td>Literal</td><td></td><td><a class=\"ProveItLink\" href=\"../4903bb42f96dff4fe91c5765eb2ff8ac910c41990/expr.ipynb\"><img src=\"../4903bb42f96dff4fe91c5765eb2ff8ac910c41990/expr.png\" style=\"display:inline;vertical-align:middle;\" /></a></td></tr>\n",
       "<tr><td>15</td><td>Variable</td><td></td><td><a class=\"ProveItLink\" href=\"../../../../../__pv_it/146a2ac733407ae00030c58af25a3e0f465a566a0/expr.ipynb\"><img src=\"../../../../../__pv_it/146a2ac733407ae00030c58af25a3e0f465a566a0/expr.png\" style=\"display:inline;vertical-align:middle;\" /></a></td></tr>\n",
       "</table>\n"
      ],
      "text/plain": [
       "0. forall_{l in Integers} (alpha_{l} in Complexes)\n",
       "   core type: Operation\n",
       "   operator: 1\n",
       "   operand: 2\n",
       "1. forall\n",
       "   core type: Literal\n",
       "   sub-expressions: \n",
       "2. l -> {alpha_{l} in Complexes if l in Integers.\n",
       "   core type: Lambda\n",
       "   parameter: 15\n",
       "   body: 3\n",
       "3. {alpha_{l} in Complexes if l in Integers.\n",
       "   core type: Conditional\n",
       "   value: 4\n",
       "   condition: 5\n",
       "4. alpha_{l} in Complexes\n",
       "   core type: Operation\n",
       "   operator: 7\n",
       "   operands: 6\n",
       "5. l in Integers\n",
       "   core type: Operation\n",
       "   operator: 7\n",
       "   operands: 8\n",
       "6. (alpha_{l}, Complexes)\n",
       "   core type: ExprTuple\n",
       "   sub-expressions: 9, 10\n",
       "7. in\n",
       "   core type: Literal\n",
       "   sub-expressions: \n",
       "8. (l, Integers)\n",
       "   core type: ExprTuple\n",
       "   sub-expressions: 15, 11\n",
       "9. alpha_{l}\n",
       "   core type: Operation\n",
       "   operator: 12\n",
       "   operands: 13\n",
       "10. Complexes\n",
       "    core type: Literal\n",
       "    sub-expressions: \n",
       "11. Integers\n",
       "    core type: Literal\n",
       "    sub-expressions: \n",
       "12. SUB_INDEXED\n",
       "    core type: Literal\n",
       "    sub-expressions: \n",
       "13. (alpha, l)\n",
       "    core type: ExprTuple\n",
       "    sub-expressions: 14, 15\n",
       "14. alpha\n",
       "    core type: Literal\n",
       "    sub-expressions: \n",
       "15. l\n",
       "    core type: Variable\n",
       "    sub-expressions: "
      ]
     },
     "execution_count": 4,
     "metadata": {},
     "output_type": "execute_result"
    }
   ],
   "source": [
    "# display the expression information\n",
    "all_alpha_l_in_complexes.exprInfo()"
   ]
  },
  {
   "cell_type": "code",
   "execution_count": null,
   "metadata": {},
   "outputs": [],
   "source": []
  }
 ],
 "metadata": {
  "kernelspec": {
   "display_name": "Python 3",
   "language": "python",
   "name": "python3"
  },
  "language_info": {
   "codemirror_mode": {
    "name": "ipython",
    "version": 3
   },
   "file_extension": ".py",
   "mimetype": "text/x-python",
   "name": "python",
   "nbconvert_exporter": "python",
   "pygments_lexer": "ipython3",
   "version": "3.7.3"
  }
 },
 "nbformat": 4,
 "nbformat_minor": 1
}
