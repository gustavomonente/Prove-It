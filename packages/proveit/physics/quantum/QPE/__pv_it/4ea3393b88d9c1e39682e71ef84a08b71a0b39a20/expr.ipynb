{
 "cells": [
  {
   "cell_type": "markdown",
   "metadata": {},
   "source": [
    "Expression of type <a class=\"ProveItLink\" href=\"../../../../../../../doc/html/api/proveit.Lambda.html\">Lambda</a>\n",
    "=======================\n",
    "# from context <a class=\"ProveItLink\" href=\"../../_context_.ipynb\">proveit.physics.quantum.QPE</a>"
   ]
  },
  {
   "cell_type": "code",
   "execution_count": 1,
   "metadata": {},
   "outputs": [],
   "source": [
    "import proveit\n",
    "# Automation is not needed when building an expression:\n",
    "proveit.defaults.automation = False # This will speed things up.\n",
    "proveit.defaults.inline_pngs = False # Makes files smaller.\n",
    "# import Expression classes needed to build the expression\n",
    "from proveit import Conditional, Lambda, Literal\n",
    "from proveit._common_ import a, b\n",
    "from proveit.logic import And, Equals, InSet\n",
    "from proveit.number import Add, Exp, Integers, Mod, two\n",
    "from proveit.physics.quantum.QPE import ModAdd"
   ]
  },
  {
   "cell_type": "code",
   "execution_count": 2,
   "metadata": {},
   "outputs": [
    {
     "data": {
      "text/html": [
       "<strong id=\"expr\">expr:</strong> <a class=\"ProveItLink\" href=\"expr.ipynb\"><img src=\"expr.png\" style=\"display:inline;vertical-align:middle;\" /></a><br>"
      ],
      "text/plain": [
       "expr: (a, b) -> {(a MOD_ADD b) = ((a + b) mod  2^{t}) if a in Integers ,  b in Integers."
      ]
     },
     "execution_count": 2,
     "metadata": {},
     "output_type": "execute_result"
    }
   ],
   "source": [
    "# build up the expression from sub-expressions\n",
    "expr = Lambda([a, b], Conditional(Equals(ModAdd(a, b), Mod(Add(a, b), Exp(two, Literal(\"t\", context = \"proveit.physics.quantum.QPE\")))), And(InSet(a, Integers), InSet(b, Integers))))"
   ]
  },
  {
   "cell_type": "code",
   "execution_count": 3,
   "metadata": {},
   "outputs": [
    {
     "name": "stdout",
     "output_type": "stream",
     "text": [
      "Passed sanity check: built 'expr' is the same as the stored Expression.\n"
     ]
    }
   ],
   "source": [
    "# check that the built expression is the same as the stored expression\n",
    "%check_expr"
   ]
  },
  {
   "cell_type": "code",
   "execution_count": 4,
   "metadata": {},
   "outputs": [
    {
     "name": "stdout",
     "output_type": "stream",
     "text": [
      "\\left(a, b\\right) \\mapsto \\left\\{\\left(a \\oplus b\\right) = \\left(\\left(a + b\\right) ~\\textup{mod}~ 2^{t}\\right) \\textrm{ if } a \\in \\mathbb{Z} ,  b \\in \\mathbb{Z}\\right..\n"
     ]
    }
   ],
   "source": [
    "# Show the LaTeX representation of the expression for convenience if you need it.\n",
    "print(expr.latex())"
   ]
  },
  {
   "cell_type": "code",
   "execution_count": 5,
   "metadata": {},
   "outputs": [
    {
     "data": {
      "text/html": [
       "<table><tr><th>&nbsp;</th><th>core type</th><th>sub-expressions</th><th>expression</th></tr>\n",
       "<tr><td>0</td><td>Lambda</td><td>parameters:&nbsp;22<br>body:&nbsp;1<br></td><td><a class=\"ProveItLink\" href=\"expr.ipynb\"><img src=\"expr.png\" style=\"display:inline;vertical-align:middle;\" /></a></td></tr>\n",
       "<tr><td>1</td><td>Conditional</td><td>value:&nbsp;2<br>condition:&nbsp;3<br></td><td><a class=\"ProveItLink\" href=\"../ab89a751b228fb5e0ec5724ff29de3e3fd0a0b5f0/expr.ipynb\"><img src=\"../ab89a751b228fb5e0ec5724ff29de3e3fd0a0b5f0/expr.png\" style=\"display:inline;vertical-align:middle;\" /></a></td></tr>\n",
       "<tr><td>2</td><td>Operation</td><td>operator:&nbsp;4<br>operands:&nbsp;5<br></td><td><a class=\"ProveItLink\" href=\"../c57dd219ba87237e1f7532321ff9b4a52344d1e10/expr.ipynb\"><img src=\"../c57dd219ba87237e1f7532321ff9b4a52344d1e10/expr.png\" style=\"display:inline;vertical-align:middle;\" /></a></td></tr>\n",
       "<tr><td>3</td><td>Operation</td><td>operator:&nbsp;6<br>operands:&nbsp;7<br></td><td><a class=\"ProveItLink\" href=\"../946ef5860f7999d413695580e7df0968920973820/expr.ipynb\"><img src=\"../946ef5860f7999d413695580e7df0968920973820/expr.png\" style=\"display:inline;vertical-align:middle;\" /></a></td></tr>\n",
       "<tr><td>4</td><td>Literal</td><td></td><td><a class=\"ProveItLink\" href=\"../../../../../logic/equality/__pv_it/e16d2caa26a16688b658bdb9c422caf4b84579e10/expr.ipynb\"><img src=\"../../../../../logic/equality/__pv_it/e16d2caa26a16688b658bdb9c422caf4b84579e10/expr.png\" style=\"display:inline;vertical-align:middle;\" /></a></td></tr>\n",
       "<tr><td>5</td><td>ExprTuple</td><td>8, 9</td><td><a class=\"ProveItLink\" href=\"../9b2cd34cacb27a2335616ecb03c0ecd533797b4a0/expr.ipynb\"><img src=\"../9b2cd34cacb27a2335616ecb03c0ecd533797b4a0/expr.png\" style=\"display:inline;vertical-align:middle;\" /></a></td></tr>\n",
       "<tr><td>6</td><td>Literal</td><td></td><td><a class=\"ProveItLink\" href=\"../../../../../logic/boolean/conjunction/__pv_it/f41cc6b553210927c09f19a8a39cdf860a5585930/expr.ipynb\"><img src=\"../../../../../logic/boolean/conjunction/__pv_it/f41cc6b553210927c09f19a8a39cdf860a5585930/expr.png\" style=\"display:inline;vertical-align:middle;\" /></a></td></tr>\n",
       "<tr><td>7</td><td>ExprTuple</td><td>10, 11</td><td><a class=\"ProveItLink\" href=\"../ffe294939500286ae127d4961b16a6da0e7010cd0/expr.ipynb\"><img src=\"../ffe294939500286ae127d4961b16a6da0e7010cd0/expr.png\" style=\"display:inline;vertical-align:middle;\" /></a></td></tr>\n",
       "<tr><td>8</td><td>Operation</td><td>operator:&nbsp;12<br>operands:&nbsp;22<br></td><td><a class=\"ProveItLink\" href=\"../a742efa3d6d3d64318b0d56c84397c987a6092640/expr.ipynb\"><img src=\"../a742efa3d6d3d64318b0d56c84397c987a6092640/expr.png\" style=\"display:inline;vertical-align:middle;\" /></a></td></tr>\n",
       "<tr><td>9</td><td>Operation</td><td>operator:&nbsp;13<br>operands:&nbsp;14<br></td><td><a class=\"ProveItLink\" href=\"../d1e1e8024154f5f23aabd479d29557a39addb6770/expr.ipynb\"><img src=\"../d1e1e8024154f5f23aabd479d29557a39addb6770/expr.png\" style=\"display:inline;vertical-align:middle;\" /></a></td></tr>\n",
       "<tr><td>10</td><td>Operation</td><td>operator:&nbsp;16<br>operands:&nbsp;15<br></td><td><a class=\"ProveItLink\" href=\"../dd75ec9d0a44092f3c205da179be98f2c31c9e150/expr.ipynb\"><img src=\"../dd75ec9d0a44092f3c205da179be98f2c31c9e150/expr.png\" style=\"display:inline;vertical-align:middle;\" /></a></td></tr>\n",
       "<tr><td>11</td><td>Operation</td><td>operator:&nbsp;16<br>operands:&nbsp;17<br></td><td><a class=\"ProveItLink\" href=\"../aa67c4540d7c3c4302bfbc66d47c318af50e5b0b0/expr.ipynb\"><img src=\"../aa67c4540d7c3c4302bfbc66d47c318af50e5b0b0/expr.png\" style=\"display:inline;vertical-align:middle;\" /></a></td></tr>\n",
       "<tr><td>12</td><td>Literal</td><td></td><td><a class=\"ProveItLink\" href=\"../b41e4c06c72e23a6fc942ed38e78f285ec857cde0/expr.ipynb\"><img src=\"../b41e4c06c72e23a6fc942ed38e78f285ec857cde0/expr.png\" style=\"display:inline;vertical-align:middle;\" /></a></td></tr>\n",
       "<tr><td>13</td><td>Literal</td><td></td><td><a class=\"ProveItLink\" href=\"../../../../../number/modular/__pv_it/6c4fd4187387474597c9f630be02b9e0c96842720/expr.ipynb\"><img src=\"../../../../../number/modular/__pv_it/6c4fd4187387474597c9f630be02b9e0c96842720/expr.png\" style=\"display:inline;vertical-align:middle;\" /></a></td></tr>\n",
       "<tr><td>14</td><td>ExprTuple</td><td>18, 19</td><td><a class=\"ProveItLink\" href=\"../5eb8e7db733377ea24563eeb1471fd9e55d4889d0/expr.ipynb\"><img src=\"../5eb8e7db733377ea24563eeb1471fd9e55d4889d0/expr.png\" style=\"display:inline;vertical-align:middle;\" /></a></td></tr>\n",
       "<tr><td>15</td><td>ExprTuple</td><td>25, 20</td><td><a class=\"ProveItLink\" href=\"../cdfe44284a59a6b9ec0827925981470710af69610/expr.ipynb\"><img src=\"../cdfe44284a59a6b9ec0827925981470710af69610/expr.png\" style=\"display:inline;vertical-align:middle;\" /></a></td></tr>\n",
       "<tr><td>16</td><td>Literal</td><td></td><td><a class=\"ProveItLink\" href=\"../../../../../logic/set_theory/membership/__pv_it/7776fc89cb67d0b5b1ec2c0c8e08da5587921ccf0/expr.ipynb\"><img src=\"../../../../../logic/set_theory/membership/__pv_it/7776fc89cb67d0b5b1ec2c0c8e08da5587921ccf0/expr.png\" style=\"display:inline;vertical-align:middle;\" /></a></td></tr>\n",
       "<tr><td>17</td><td>ExprTuple</td><td>26, 20</td><td><a class=\"ProveItLink\" href=\"../b66d44f1808eba8873fd402ed4c2937ac6821a310/expr.ipynb\"><img src=\"../b66d44f1808eba8873fd402ed4c2937ac6821a310/expr.png\" style=\"display:inline;vertical-align:middle;\" /></a></td></tr>\n",
       "<tr><td>18</td><td>Operation</td><td>operator:&nbsp;21<br>operands:&nbsp;22<br></td><td><a class=\"ProveItLink\" href=\"../27d57aa10030b1325b1af01ce49175301ddd5f1c0/expr.ipynb\"><img src=\"../27d57aa10030b1325b1af01ce49175301ddd5f1c0/expr.png\" style=\"display:inline;vertical-align:middle;\" /></a></td></tr>\n",
       "<tr><td>19</td><td>Operation</td><td>operator:&nbsp;23<br>operands:&nbsp;24<br></td><td><a class=\"ProveItLink\" href=\"../64a58e3f39a33f21e5e35d3f8a5b3f786c42467c0/expr.ipynb\"><img src=\"../64a58e3f39a33f21e5e35d3f8a5b3f786c42467c0/expr.png\" style=\"display:inline;vertical-align:middle;\" /></a></td></tr>\n",
       "<tr><td>20</td><td>Literal</td><td></td><td><a class=\"ProveItLink\" href=\"../../../../../number/sets/integer/__pv_it/4b6f17dbfe8c62b413ab248a9ec52df6403e103e0/expr.ipynb\"><img src=\"../../../../../number/sets/integer/__pv_it/4b6f17dbfe8c62b413ab248a9ec52df6403e103e0/expr.png\" style=\"display:inline;vertical-align:middle;\" /></a></td></tr>\n",
       "<tr><td>21</td><td>Literal</td><td></td><td><a class=\"ProveItLink\" href=\"../../../../../number/addition/__pv_it/65ad7e8aee19b10110d590375ba95a879c4fb7ea0/expr.ipynb\"><img src=\"../../../../../number/addition/__pv_it/65ad7e8aee19b10110d590375ba95a879c4fb7ea0/expr.png\" style=\"display:inline;vertical-align:middle;\" /></a></td></tr>\n",
       "<tr><td>22</td><td>ExprTuple</td><td>25, 26</td><td><a class=\"ProveItLink\" href=\"../bbc1b69eb12288f0ad04da0d0cc6b9b8079b8b3f0/expr.ipynb\"><img src=\"../bbc1b69eb12288f0ad04da0d0cc6b9b8079b8b3f0/expr.png\" style=\"display:inline;vertical-align:middle;\" /></a></td></tr>\n",
       "<tr><td>23</td><td>Literal</td><td></td><td><a class=\"ProveItLink\" href=\"../../../../../number/exponentiation/__pv_it/fca8e4218e687a7bc372d4b4009101e95bae518f0/expr.ipynb\"><img src=\"../../../../../number/exponentiation/__pv_it/fca8e4218e687a7bc372d4b4009101e95bae518f0/expr.png\" style=\"display:inline;vertical-align:middle;\" /></a></td></tr>\n",
       "<tr><td>24</td><td>ExprTuple</td><td>27, 28</td><td><a class=\"ProveItLink\" href=\"../9d0bc158759d7456120c36cdb596192fce0182ba0/expr.ipynb\"><img src=\"../9d0bc158759d7456120c36cdb596192fce0182ba0/expr.png\" style=\"display:inline;vertical-align:middle;\" /></a></td></tr>\n",
       "<tr><td>25</td><td>Variable</td><td></td><td><a class=\"ProveItLink\" href=\"../../../../../__pv_it/a8d4b3a34d2189508f9082853fbac36935714f280/expr.ipynb\"><img src=\"../../../../../__pv_it/a8d4b3a34d2189508f9082853fbac36935714f280/expr.png\" style=\"display:inline;vertical-align:middle;\" /></a></td></tr>\n",
       "<tr><td>26</td><td>Variable</td><td></td><td><a class=\"ProveItLink\" href=\"../../../../../__pv_it/53e304ff98ebc000dbe3ef224f4637dbafd46ba70/expr.ipynb\"><img src=\"../../../../../__pv_it/53e304ff98ebc000dbe3ef224f4637dbafd46ba70/expr.png\" style=\"display:inline;vertical-align:middle;\" /></a></td></tr>\n",
       "<tr><td>27</td><td>Literal</td><td></td><td><a class=\"ProveItLink\" href=\"../../../../../number/numeral/__pv_it/fb4ccffdbfd0f653ebaacb95e7ff4802fd48a6f20/expr.ipynb\"><img src=\"../../../../../number/numeral/__pv_it/fb4ccffdbfd0f653ebaacb95e7ff4802fd48a6f20/expr.png\" style=\"display:inline;vertical-align:middle;\" /></a></td></tr>\n",
       "<tr><td>28</td><td>Literal</td><td></td><td><a class=\"ProveItLink\" href=\"../96bcbff08fa521257bc78a97fedf1068dcbd0e2d0/expr.ipynb\"><img src=\"../96bcbff08fa521257bc78a97fedf1068dcbd0e2d0/expr.png\" style=\"display:inline;vertical-align:middle;\" /></a></td></tr>\n",
       "</table>\n"
      ],
      "text/plain": [
       "0. (a, b) -> {(a MOD_ADD b) = ((a + b) mod  2^{t}) if a in Integers ,  b in Integers.\n",
       "   core type: Lambda\n",
       "   parameters: 22\\n   body: 1\n",
       "1. {(a MOD_ADD b) = ((a + b) mod  2^{t}) if a in Integers ,  b in Integers.\n",
       "   core type: Conditional\n",
       "   value: 2\n",
       "   condition: 3\n",
       "2. (a MOD_ADD b) = ((a + b) mod  2^{t})\n",
       "   core type: Operation\n",
       "   operator: 4\n",
       "   operands: 5\n",
       "3. (a in Integers) and (b in Integers)\n",
       "   core type: Operation\n",
       "   operator: 6\n",
       "   operands: 7\n",
       "4. =\n",
       "   core type: Literal\n",
       "   sub-expressions: \n",
       "5. (a MOD_ADD b, (a + b) mod  2^{t})\n",
       "   core type: ExprTuple\n",
       "   sub-expressions: 8, 9\n",
       "6. and\n",
       "   core type: Literal\n",
       "   sub-expressions: \n",
       "7. (a in Integers, b in Integers)\n",
       "   core type: ExprTuple\n",
       "   sub-expressions: 10, 11\n",
       "8. a MOD_ADD b\n",
       "   core type: Operation\n",
       "   operator: 12\n",
       "   operands: 22\n",
       "9. (a + b) mod  2^{t}\n",
       "   core type: Operation\n",
       "   operator: 13\n",
       "   operands: 14\n",
       "10. a in Integers\n",
       "    core type: Operation\n",
       "    operator: 16\n",
       "    operands: 15\n",
       "11. b in Integers\n",
       "    core type: Operation\n",
       "    operator: 16\n",
       "    operands: 17\n",
       "12. MOD_ADD\n",
       "    core type: Literal\n",
       "    sub-expressions: \n",
       "13. mod \n",
       "    core type: Literal\n",
       "    sub-expressions: \n",
       "14. (a + b, 2^{t})\n",
       "    core type: ExprTuple\n",
       "    sub-expressions: 18, 19\n",
       "15. (a, Integers)\n",
       "    core type: ExprTuple\n",
       "    sub-expressions: 25, 20\n",
       "16. in\n",
       "    core type: Literal\n",
       "    sub-expressions: \n",
       "17. (b, Integers)\n",
       "    core type: ExprTuple\n",
       "    sub-expressions: 26, 20\n",
       "18. a + b\n",
       "    core type: Operation\n",
       "    operator: 21\n",
       "    operands: 22\n",
       "19. 2^{t}\n",
       "    core type: Operation\n",
       "    operator: 23\n",
       "    operands: 24\n",
       "20. Integers\n",
       "    core type: Literal\n",
       "    sub-expressions: \n",
       "21. +\n",
       "    core type: Literal\n",
       "    sub-expressions: \n",
       "22. (a, b)\n",
       "    core type: ExprTuple\n",
       "    sub-expressions: 25, 26\n",
       "23. Exp\n",
       "    core type: Literal\n",
       "    sub-expressions: \n",
       "24. (2, t)\n",
       "    core type: ExprTuple\n",
       "    sub-expressions: 27, 28\n",
       "25. a\n",
       "    core type: Variable\n",
       "    sub-expressions: \n",
       "26. b\n",
       "    core type: Variable\n",
       "    sub-expressions: \n",
       "27. 2\n",
       "    core type: Literal\n",
       "    sub-expressions: \n",
       "28. t\n",
       "    core type: Literal\n",
       "    sub-expressions: "
      ]
     },
     "execution_count": 5,
     "metadata": {},
     "output_type": "execute_result"
    }
   ],
   "source": [
    "# display the expression information\n",
    "expr.exprInfo()"
   ]
  },
  {
   "cell_type": "code",
   "execution_count": null,
   "metadata": {},
   "outputs": [],
   "source": []
  }
 ],
 "metadata": {
  "kernelspec": {
   "display_name": "Python 3",
   "language": "python",
   "name": "python3"
  },
  "language_info": {
   "codemirror_mode": {
    "name": "ipython",
    "version": 3
   },
   "file_extension": ".py",
   "mimetype": "text/x-python",
   "name": "python",
   "nbconvert_exporter": "python",
   "pygments_lexer": "ipython3",
   "version": "3.7.3"
  }
 },
 "nbformat": 4,
 "nbformat_minor": 1
}
