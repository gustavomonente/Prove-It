{
 "cells": [
  {
   "cell_type": "markdown",
   "metadata": {},
   "source": [
    "Expression of type <a class=\"ProveItLink\" href=\"../../../../../../../doc/html/api/proveit.ExprTuple.html\">ExprTuple</a>\n",
    "=======================\n",
    "# from context <a class=\"ProveItLink\" href=\"../../_context_.ipynb\">proveit.physics.quantum.QPE</a>"
   ]
  },
  {
   "cell_type": "code",
   "execution_count": 1,
   "metadata": {},
   "outputs": [],
   "source": [
    "import proveit\n",
    "# Automation is not needed when building an expression:\n",
    "proveit.defaults.automation = False # This will speed things up.\n",
    "proveit.defaults.inline_pngs = False # Makes files smaller.\n",
    "# import Expression classes needed to build the expression\n",
    "from proveit import ExprTuple, Literal\n",
    "from proveit._common_ import eps, l\n",
    "from proveit.number import Add, Exp, Interval, Neg, one, two"
   ]
  },
  {
   "cell_type": "code",
   "execution_count": 2,
   "metadata": {},
   "outputs": [
    {
     "data": {
      "text/html": [
       "<strong id=\"expr\">expr:</strong> <a class=\"ProveItLink\" href=\"expr.ipynb\"><img src=\"expr.png\" style=\"display:inline;vertical-align:middle;\" /></a><br>"
      ],
      "text/plain": [
       "expr: (l, {-2^{t - 1} + 1...-(eps + 1)})"
      ]
     },
     "execution_count": 2,
     "metadata": {},
     "output_type": "execute_result"
    }
   ],
   "source": [
    "# build up the expression from sub-expressions\n",
    "expr = ExprTuple(l, Interval(Add(Neg(Exp(two, Add(Literal(\"t\", context = \"proveit.physics.quantum.QPE\"), Neg(one)))), one), Neg(Add(eps, one))))"
   ]
  },
  {
   "cell_type": "code",
   "execution_count": 3,
   "metadata": {},
   "outputs": [
    {
     "name": "stdout",
     "output_type": "stream",
     "text": [
      "Passed sanity check: built 'expr' is the same as the stored Expression.\n"
     ]
    }
   ],
   "source": [
    "# check that the built expression is the same as the stored expression\n",
    "%check_expr"
   ]
  },
  {
   "cell_type": "code",
   "execution_count": 4,
   "metadata": {},
   "outputs": [
    {
     "name": "stdout",
     "output_type": "stream",
     "text": [
      "\\left(l, \\{-2^{t - 1} + 1 \\dots -\\left(\\varepsilon + 1\\right)\\}\\right)\n"
     ]
    }
   ],
   "source": [
    "# Show the LaTeX representation of the expression for convenience if you need it.\n",
    "print(expr.latex())"
   ]
  },
  {
   "cell_type": "code",
   "execution_count": 5,
   "metadata": {},
   "outputs": [
    {
     "data": {
      "text/html": [
       "<table><tr><th>&nbsp;</th><th>core type</th><th>sub-expressions</th><th>expression</th></tr>\n",
       "<tr><td>0</td><td>ExprTuple</td><td>1, 2</td><td><a class=\"ProveItLink\" href=\"expr.ipynb\"><img src=\"expr.png\" style=\"display:inline;vertical-align:middle;\" /></a></td></tr>\n",
       "<tr><td>1</td><td>Variable</td><td></td><td><a class=\"ProveItLink\" href=\"../../../../../__pv_it/146a2ac733407ae00030c58af25a3e0f465a566a0/expr.ipynb\"><img src=\"../../../../../__pv_it/146a2ac733407ae00030c58af25a3e0f465a566a0/expr.png\" style=\"display:inline;vertical-align:middle;\" /></a></td></tr>\n",
       "<tr><td>2</td><td>Operation</td><td>operator:&nbsp;3<br>operands:&nbsp;4<br></td><td><a class=\"ProveItLink\" href=\"../cae98ac94d55b5a49b68c4e0d73b0473553a0bb10/expr.ipynb\"><img src=\"../cae98ac94d55b5a49b68c4e0d73b0473553a0bb10/expr.png\" style=\"display:inline;vertical-align:middle;\" /></a></td></tr>\n",
       "<tr><td>3</td><td>Literal</td><td></td><td><a class=\"ProveItLink\" href=\"../../../../../number/sets/integer/__pv_it/9c81416d3aeee14eb5f33b511a478176b3f50d040/expr.ipynb\"><img src=\"../../../../../number/sets/integer/__pv_it/9c81416d3aeee14eb5f33b511a478176b3f50d040/expr.png\" style=\"display:inline;vertical-align:middle;\" /></a></td></tr>\n",
       "<tr><td>4</td><td>ExprTuple</td><td>5, 6</td><td><a class=\"ProveItLink\" href=\"../222b13f5c13dbdb4000513de692702d13b6a05880/expr.ipynb\"><img src=\"../222b13f5c13dbdb4000513de692702d13b6a05880/expr.png\" style=\"display:inline;vertical-align:middle;\" /></a></td></tr>\n",
       "<tr><td>5</td><td>Operation</td><td>operator:&nbsp;17<br>operands:&nbsp;7<br></td><td><a class=\"ProveItLink\" href=\"../5eb31d563f88f61f668ffd333a25345d061770b70/expr.ipynb\"><img src=\"../5eb31d563f88f61f668ffd333a25345d061770b70/expr.png\" style=\"display:inline;vertical-align:middle;\" /></a></td></tr>\n",
       "<tr><td>6</td><td>Operation</td><td>operator:&nbsp;21<br>operand:&nbsp;8<br></td><td><a class=\"ProveItLink\" href=\"../39b6ae6b890b5834fa2afad9bd4e648c0e2710630/expr.ipynb\"><img src=\"../39b6ae6b890b5834fa2afad9bd4e648c0e2710630/expr.png\" style=\"display:inline;vertical-align:middle;\" /></a></td></tr>\n",
       "<tr><td>7</td><td>ExprTuple</td><td>9, 22</td><td><a class=\"ProveItLink\" href=\"../6de02cb629cfbc925cbf6260fb80ae67b6fbf9fc0/expr.ipynb\"><img src=\"../6de02cb629cfbc925cbf6260fb80ae67b6fbf9fc0/expr.png\" style=\"display:inline;vertical-align:middle;\" /></a></td></tr>\n",
       "<tr><td>8</td><td>Operation</td><td>operator:&nbsp;17<br>operands:&nbsp;10<br></td><td><a class=\"ProveItLink\" href=\"../1229001ac4acde17dfac0d4ecbc5ce4c73385d660/expr.ipynb\"><img src=\"../1229001ac4acde17dfac0d4ecbc5ce4c73385d660/expr.png\" style=\"display:inline;vertical-align:middle;\" /></a></td></tr>\n",
       "<tr><td>9</td><td>Operation</td><td>operator:&nbsp;21<br>operand:&nbsp;11<br></td><td><a class=\"ProveItLink\" href=\"../85fec0678e8d4832a26b7925ab0e1e41a8bd90a50/expr.ipynb\"><img src=\"../85fec0678e8d4832a26b7925ab0e1e41a8bd90a50/expr.png\" style=\"display:inline;vertical-align:middle;\" /></a></td></tr>\n",
       "<tr><td>10</td><td>ExprTuple</td><td>12, 22</td><td><a class=\"ProveItLink\" href=\"../83bb8abf18383e567c98c2d1053e8bb18eb5c00f0/expr.ipynb\"><img src=\"../83bb8abf18383e567c98c2d1053e8bb18eb5c00f0/expr.png\" style=\"display:inline;vertical-align:middle;\" /></a></td></tr>\n",
       "<tr><td>11</td><td>Operation</td><td>operator:&nbsp;13<br>operands:&nbsp;14<br></td><td><a class=\"ProveItLink\" href=\"../53e7167cb7a3e2024f061806596ebd273cf217740/expr.ipynb\"><img src=\"../53e7167cb7a3e2024f061806596ebd273cf217740/expr.png\" style=\"display:inline;vertical-align:middle;\" /></a></td></tr>\n",
       "<tr><td>12</td><td>Variable</td><td></td><td><a class=\"ProveItLink\" href=\"../../../../../__pv_it/a07b94578bb51fd99b91f6ecc814e1e1925ccfd30/expr.ipynb\"><img src=\"../../../../../__pv_it/a07b94578bb51fd99b91f6ecc814e1e1925ccfd30/expr.png\" style=\"display:inline;vertical-align:middle;\" /></a></td></tr>\n",
       "<tr><td>13</td><td>Literal</td><td></td><td><a class=\"ProveItLink\" href=\"../../../../../number/exponentiation/__pv_it/fca8e4218e687a7bc372d4b4009101e95bae518f0/expr.ipynb\"><img src=\"../../../../../number/exponentiation/__pv_it/fca8e4218e687a7bc372d4b4009101e95bae518f0/expr.png\" style=\"display:inline;vertical-align:middle;\" /></a></td></tr>\n",
       "<tr><td>14</td><td>ExprTuple</td><td>15, 16</td><td><a class=\"ProveItLink\" href=\"../bc224616db1239eb42b32d1ac5c3bd8125aa650f0/expr.ipynb\"><img src=\"../bc224616db1239eb42b32d1ac5c3bd8125aa650f0/expr.png\" style=\"display:inline;vertical-align:middle;\" /></a></td></tr>\n",
       "<tr><td>15</td><td>Literal</td><td></td><td><a class=\"ProveItLink\" href=\"../../../../../number/numeral/__pv_it/fb4ccffdbfd0f653ebaacb95e7ff4802fd48a6f20/expr.ipynb\"><img src=\"../../../../../number/numeral/__pv_it/fb4ccffdbfd0f653ebaacb95e7ff4802fd48a6f20/expr.png\" style=\"display:inline;vertical-align:middle;\" /></a></td></tr>\n",
       "<tr><td>16</td><td>Operation</td><td>operator:&nbsp;17<br>operands:&nbsp;18<br></td><td><a class=\"ProveItLink\" href=\"../a00fc0239269d4df989d382c1d9a5f0580a00ba30/expr.ipynb\"><img src=\"../a00fc0239269d4df989d382c1d9a5f0580a00ba30/expr.png\" style=\"display:inline;vertical-align:middle;\" /></a></td></tr>\n",
       "<tr><td>17</td><td>Literal</td><td></td><td><a class=\"ProveItLink\" href=\"../../../../../number/addition/__pv_it/65ad7e8aee19b10110d590375ba95a879c4fb7ea0/expr.ipynb\"><img src=\"../../../../../number/addition/__pv_it/65ad7e8aee19b10110d590375ba95a879c4fb7ea0/expr.png\" style=\"display:inline;vertical-align:middle;\" /></a></td></tr>\n",
       "<tr><td>18</td><td>ExprTuple</td><td>19, 20</td><td><a class=\"ProveItLink\" href=\"../d9c809c246c1743a958617867411d5180042db1e0/expr.ipynb\"><img src=\"../d9c809c246c1743a958617867411d5180042db1e0/expr.png\" style=\"display:inline;vertical-align:middle;\" /></a></td></tr>\n",
       "<tr><td>19</td><td>Literal</td><td></td><td><a class=\"ProveItLink\" href=\"../96bcbff08fa521257bc78a97fedf1068dcbd0e2d0/expr.ipynb\"><img src=\"../96bcbff08fa521257bc78a97fedf1068dcbd0e2d0/expr.png\" style=\"display:inline;vertical-align:middle;\" /></a></td></tr>\n",
       "<tr><td>20</td><td>Operation</td><td>operator:&nbsp;21<br>operand:&nbsp;22<br></td><td><a class=\"ProveItLink\" href=\"../01559348096b98a1dd2ebcf5c288189c829b18930/expr.ipynb\"><img src=\"../01559348096b98a1dd2ebcf5c288189c829b18930/expr.png\" style=\"display:inline;vertical-align:middle;\" /></a></td></tr>\n",
       "<tr><td>21</td><td>Literal</td><td></td><td><a class=\"ProveItLink\" href=\"../../../../../number/negation/__pv_it/2867787e35502987d81a45cac8e7f1c6996d6ff40/expr.ipynb\"><img src=\"../../../../../number/negation/__pv_it/2867787e35502987d81a45cac8e7f1c6996d6ff40/expr.png\" style=\"display:inline;vertical-align:middle;\" /></a></td></tr>\n",
       "<tr><td>22</td><td>Literal</td><td></td><td><a class=\"ProveItLink\" href=\"../../../../../number/numeral/__pv_it/f086f8c372bd40a2458306ddfdbb29f3dc6f63030/expr.ipynb\"><img src=\"../../../../../number/numeral/__pv_it/f086f8c372bd40a2458306ddfdbb29f3dc6f63030/expr.png\" style=\"display:inline;vertical-align:middle;\" /></a></td></tr>\n",
       "</table>\n"
      ],
      "text/plain": [
       "0. (l, {-2^{t - 1} + 1...-(eps + 1)})\n",
       "   core type: ExprTuple\n",
       "   sub-expressions: 1, 2\n",
       "1. l\n",
       "   core type: Variable\n",
       "   sub-expressions: \n",
       "2. {-2^{t - 1} + 1...-(eps + 1)}\n",
       "   core type: Operation\n",
       "   operator: 3\n",
       "   operands: 4\n",
       "3. Interval\n",
       "   core type: Literal\n",
       "   sub-expressions: \n",
       "4. (-2^{t - 1} + 1, -(eps + 1))\n",
       "   core type: ExprTuple\n",
       "   sub-expressions: 5, 6\n",
       "5. -2^{t - 1} + 1\n",
       "   core type: Operation\n",
       "   operator: 17\n",
       "   operands: 7\n",
       "6. -(eps + 1)\n",
       "   core type: Operation\n",
       "   operator: 21\n",
       "   operand: 8\n",
       "7. (-2^{t - 1}, 1)\n",
       "   core type: ExprTuple\n",
       "   sub-expressions: 9, 22\n",
       "8. eps + 1\n",
       "   core type: Operation\n",
       "   operator: 17\n",
       "   operands: 10\n",
       "9. -2^{t - 1}\n",
       "   core type: Operation\n",
       "   operator: 21\n",
       "   operand: 11\n",
       "10. (eps, 1)\n",
       "    core type: ExprTuple\n",
       "    sub-expressions: 12, 22\n",
       "11. 2^{t - 1}\n",
       "    core type: Operation\n",
       "    operator: 13\n",
       "    operands: 14\n",
       "12. eps\n",
       "    core type: Variable\n",
       "    sub-expressions: \n",
       "13. Exp\n",
       "    core type: Literal\n",
       "    sub-expressions: \n",
       "14. (2, t - 1)\n",
       "    core type: ExprTuple\n",
       "    sub-expressions: 15, 16\n",
       "15. 2\n",
       "    core type: Literal\n",
       "    sub-expressions: \n",
       "16. t - 1\n",
       "    core type: Operation\n",
       "    operator: 17\n",
       "    operands: 18\n",
       "17. +\n",
       "    core type: Literal\n",
       "    sub-expressions: \n",
       "18. (t, -1)\n",
       "    core type: ExprTuple\n",
       "    sub-expressions: 19, 20\n",
       "19. t\n",
       "    core type: Literal\n",
       "    sub-expressions: \n",
       "20. -1\n",
       "    core type: Operation\n",
       "    operator: 21\n",
       "    operand: 22\n",
       "21. -\n",
       "    core type: Literal\n",
       "    sub-expressions: \n",
       "22. 1\n",
       "    core type: Literal\n",
       "    sub-expressions: "
      ]
     },
     "execution_count": 5,
     "metadata": {},
     "output_type": "execute_result"
    }
   ],
   "source": [
    "# display the expression information\n",
    "expr.exprInfo()"
   ]
  },
  {
   "cell_type": "code",
   "execution_count": null,
   "metadata": {},
   "outputs": [],
   "source": []
  }
 ],
 "metadata": {
  "kernelspec": {
   "display_name": "Python 3",
   "language": "python",
   "name": "python3"
  },
  "language_info": {
   "codemirror_mode": {
    "name": "ipython",
    "version": 3
   },
   "file_extension": ".py",
   "mimetype": "text/x-python",
   "name": "python",
   "nbconvert_exporter": "python",
   "pygments_lexer": "ipython3",
   "version": "3.7.3"
  }
 },
 "nbformat": 4,
 "nbformat_minor": 1
}
