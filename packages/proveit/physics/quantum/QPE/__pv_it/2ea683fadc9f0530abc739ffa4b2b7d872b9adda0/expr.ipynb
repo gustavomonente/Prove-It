{
 "cells": [
  {
   "cell_type": "markdown",
   "metadata": {},
   "source": [
    "Expression of type <a class=\"ProveItLink\" href=\"../../../../../../../doc/html/api/proveit.logic.And.html\">And</a>\n",
    "=======================\n",
    "# from context <a class=\"ProveItLink\" href=\"../../_context_.ipynb\">proveit.physics.quantum.QPE</a>"
   ]
  },
  {
   "cell_type": "code",
   "execution_count": 1,
   "metadata": {},
   "outputs": [],
   "source": [
    "import proveit\n",
    "# Automation is not needed when building an expression:\n",
    "proveit.defaults.automation = False # This will speed things up.\n",
    "proveit.defaults.inline_pngs = False # Makes files smaller.\n",
    "# import Expression classes needed to build the expression\n",
    "from proveit import Literal\n",
    "from proveit._common_ import l\n",
    "from proveit.logic import And, InSet, NotEquals\n",
    "from proveit.number import Add, Exp, Interval, Neg, one, two, zero"
   ]
  },
  {
   "cell_type": "code",
   "execution_count": 2,
   "metadata": {},
   "outputs": [
    {
     "data": {
      "text/html": [
       "<strong id=\"expr\">expr:</strong> <a class=\"ProveItLink\" href=\"expr.ipynb\"><img src=\"expr.png\" style=\"display:inline;vertical-align:middle;\" /></a><br>"
      ],
      "text/plain": [
       "expr: (l in {-2^{t - 1} + 1...2^{t - 1}}) and (l != 0)"
      ]
     },
     "execution_count": 2,
     "metadata": {},
     "output_type": "execute_result"
    }
   ],
   "source": [
    "# build up the expression from sub-expressions\n",
    "subExpr1 = Exp(two, Add(Literal(\"t\", context = \"proveit.physics.quantum.QPE\"), Neg(one)))\n",
    "expr = And(InSet(l, Interval(Add(Neg(subExpr1), one), subExpr1)), NotEquals(l, zero))"
   ]
  },
  {
   "cell_type": "code",
   "execution_count": 3,
   "metadata": {},
   "outputs": [
    {
     "name": "stdout",
     "output_type": "stream",
     "text": [
      "Passed sanity check: built 'expr' is the same as the stored Expression.\n"
     ]
    }
   ],
   "source": [
    "# check that the built expression is the same as the stored expression\n",
    "%check_expr"
   ]
  },
  {
   "cell_type": "code",
   "execution_count": 4,
   "metadata": {},
   "outputs": [
    {
     "name": "stdout",
     "output_type": "stream",
     "text": [
      "\\left(l \\in \\{-2^{t - 1} + 1 \\dots 2^{t - 1}\\}\\right) \\land \\left(l \\neq 0\\right)\n"
     ]
    }
   ],
   "source": [
    "# Show the LaTeX representation of the expression for convenience if you need it.\n",
    "print(expr.latex())"
   ]
  },
  {
   "cell_type": "code",
   "execution_count": 5,
   "metadata": {},
   "outputs": [
    {
     "data": {
      "text/html": [
       "<table><tr><th>&nbsp;</th><th>core type</th><th>sub-expressions</th><th>expression</th></tr>\n",
       "<tr><td>0</td><td>Operation</td><td>operator:&nbsp;1<br>operands:&nbsp;2<br></td><td><a class=\"ProveItLink\" href=\"expr.ipynb\"><img src=\"expr.png\" style=\"display:inline;vertical-align:middle;\" /></a></td></tr>\n",
       "<tr><td>1</td><td>Literal</td><td></td><td><a class=\"ProveItLink\" href=\"../../../../../logic/boolean/conjunction/__pv_it/f41cc6b553210927c09f19a8a39cdf860a5585930/expr.ipynb\"><img src=\"../../../../../logic/boolean/conjunction/__pv_it/f41cc6b553210927c09f19a8a39cdf860a5585930/expr.png\" style=\"display:inline;vertical-align:middle;\" /></a></td></tr>\n",
       "<tr><td>2</td><td>ExprTuple</td><td>3, 4</td><td><a class=\"ProveItLink\" href=\"../09e6017743f330f9bffe53e93bc4b6e67373f6bd0/expr.ipynb\"><img src=\"../09e6017743f330f9bffe53e93bc4b6e67373f6bd0/expr.png\" style=\"display:inline;vertical-align:middle;\" /></a></td></tr>\n",
       "<tr><td>3</td><td>Operation</td><td>operator:&nbsp;5<br>operands:&nbsp;6<br></td><td><a class=\"ProveItLink\" href=\"../160c5bb4ad7ee30dff5e104be55dfdfc201d3b0f0/expr.ipynb\"><img src=\"../160c5bb4ad7ee30dff5e104be55dfdfc201d3b0f0/expr.png\" style=\"display:inline;vertical-align:middle;\" /></a></td></tr>\n",
       "<tr><td>4</td><td>Operation</td><td>operator:&nbsp;7<br>operands:&nbsp;8<br></td><td><a class=\"ProveItLink\" href=\"../1327a8c0af625ab8e00f3d32b87b399a6dd6457c0/expr.ipynb\"><img src=\"../1327a8c0af625ab8e00f3d32b87b399a6dd6457c0/expr.png\" style=\"display:inline;vertical-align:middle;\" /></a></td></tr>\n",
       "<tr><td>5</td><td>Literal</td><td></td><td><a class=\"ProveItLink\" href=\"../../../../../logic/set_theory/membership/__pv_it/7776fc89cb67d0b5b1ec2c0c8e08da5587921ccf0/expr.ipynb\"><img src=\"../../../../../logic/set_theory/membership/__pv_it/7776fc89cb67d0b5b1ec2c0c8e08da5587921ccf0/expr.png\" style=\"display:inline;vertical-align:middle;\" /></a></td></tr>\n",
       "<tr><td>6</td><td>ExprTuple</td><td>10, 9</td><td><a class=\"ProveItLink\" href=\"../257c9580fbd4d6afdbfa49fe3f5eb7b8f3499e670/expr.ipynb\"><img src=\"../257c9580fbd4d6afdbfa49fe3f5eb7b8f3499e670/expr.png\" style=\"display:inline;vertical-align:middle;\" /></a></td></tr>\n",
       "<tr><td>7</td><td>Literal</td><td></td><td><a class=\"ProveItLink\" href=\"../../../../../logic/equality/__pv_it/b2721051be811fe338d0c72369ee2d83e8be58da0/expr.ipynb\"><img src=\"../../../../../logic/equality/__pv_it/b2721051be811fe338d0c72369ee2d83e8be58da0/expr.png\" style=\"display:inline;vertical-align:middle;\" /></a></td></tr>\n",
       "<tr><td>8</td><td>ExprTuple</td><td>10, 11</td><td><a class=\"ProveItLink\" href=\"../3ee1e5742948438705b0d068a4903a9b8ddef0280/expr.ipynb\"><img src=\"../3ee1e5742948438705b0d068a4903a9b8ddef0280/expr.png\" style=\"display:inline;vertical-align:middle;\" /></a></td></tr>\n",
       "<tr><td>9</td><td>Operation</td><td>operator:&nbsp;12<br>operands:&nbsp;13<br></td><td><a class=\"ProveItLink\" href=\"../4e345dcae140b7f3f13d3bada7a3c2251b6aa9ff0/expr.ipynb\"><img src=\"../4e345dcae140b7f3f13d3bada7a3c2251b6aa9ff0/expr.png\" style=\"display:inline;vertical-align:middle;\" /></a></td></tr>\n",
       "<tr><td>10</td><td>Variable</td><td></td><td><a class=\"ProveItLink\" href=\"../../../../../__pv_it/146a2ac733407ae00030c58af25a3e0f465a566a0/expr.ipynb\"><img src=\"../../../../../__pv_it/146a2ac733407ae00030c58af25a3e0f465a566a0/expr.png\" style=\"display:inline;vertical-align:middle;\" /></a></td></tr>\n",
       "<tr><td>11</td><td>Literal</td><td></td><td><a class=\"ProveItLink\" href=\"../../../../../number/numeral/__pv_it/bcb6bc33e5975ec2290a3272bf7802d26ab8421d0/expr.ipynb\"><img src=\"../../../../../number/numeral/__pv_it/bcb6bc33e5975ec2290a3272bf7802d26ab8421d0/expr.png\" style=\"display:inline;vertical-align:middle;\" /></a></td></tr>\n",
       "<tr><td>12</td><td>Literal</td><td></td><td><a class=\"ProveItLink\" href=\"../../../../../number/sets/integer/__pv_it/9c81416d3aeee14eb5f33b511a478176b3f50d040/expr.ipynb\"><img src=\"../../../../../number/sets/integer/__pv_it/9c81416d3aeee14eb5f33b511a478176b3f50d040/expr.png\" style=\"display:inline;vertical-align:middle;\" /></a></td></tr>\n",
       "<tr><td>13</td><td>ExprTuple</td><td>14, 17</td><td><a class=\"ProveItLink\" href=\"../32512628d7c5ed23adbce2eaf7fe8883ab886ef70/expr.ipynb\"><img src=\"../32512628d7c5ed23adbce2eaf7fe8883ab886ef70/expr.png\" style=\"display:inline;vertical-align:middle;\" /></a></td></tr>\n",
       "<tr><td>14</td><td>Operation</td><td>operator:&nbsp;22<br>operands:&nbsp;15<br></td><td><a class=\"ProveItLink\" href=\"../5eb31d563f88f61f668ffd333a25345d061770b70/expr.ipynb\"><img src=\"../5eb31d563f88f61f668ffd333a25345d061770b70/expr.png\" style=\"display:inline;vertical-align:middle;\" /></a></td></tr>\n",
       "<tr><td>15</td><td>ExprTuple</td><td>16, 27</td><td><a class=\"ProveItLink\" href=\"../6de02cb629cfbc925cbf6260fb80ae67b6fbf9fc0/expr.ipynb\"><img src=\"../6de02cb629cfbc925cbf6260fb80ae67b6fbf9fc0/expr.png\" style=\"display:inline;vertical-align:middle;\" /></a></td></tr>\n",
       "<tr><td>16</td><td>Operation</td><td>operator:&nbsp;26<br>operand:&nbsp;17<br></td><td><a class=\"ProveItLink\" href=\"../85fec0678e8d4832a26b7925ab0e1e41a8bd90a50/expr.ipynb\"><img src=\"../85fec0678e8d4832a26b7925ab0e1e41a8bd90a50/expr.png\" style=\"display:inline;vertical-align:middle;\" /></a></td></tr>\n",
       "<tr><td>17</td><td>Operation</td><td>operator:&nbsp;18<br>operands:&nbsp;19<br></td><td><a class=\"ProveItLink\" href=\"../53e7167cb7a3e2024f061806596ebd273cf217740/expr.ipynb\"><img src=\"../53e7167cb7a3e2024f061806596ebd273cf217740/expr.png\" style=\"display:inline;vertical-align:middle;\" /></a></td></tr>\n",
       "<tr><td>18</td><td>Literal</td><td></td><td><a class=\"ProveItLink\" href=\"../../../../../number/exponentiation/__pv_it/fca8e4218e687a7bc372d4b4009101e95bae518f0/expr.ipynb\"><img src=\"../../../../../number/exponentiation/__pv_it/fca8e4218e687a7bc372d4b4009101e95bae518f0/expr.png\" style=\"display:inline;vertical-align:middle;\" /></a></td></tr>\n",
       "<tr><td>19</td><td>ExprTuple</td><td>20, 21</td><td><a class=\"ProveItLink\" href=\"../bc224616db1239eb42b32d1ac5c3bd8125aa650f0/expr.ipynb\"><img src=\"../bc224616db1239eb42b32d1ac5c3bd8125aa650f0/expr.png\" style=\"display:inline;vertical-align:middle;\" /></a></td></tr>\n",
       "<tr><td>20</td><td>Literal</td><td></td><td><a class=\"ProveItLink\" href=\"../../../../../number/numeral/__pv_it/fb4ccffdbfd0f653ebaacb95e7ff4802fd48a6f20/expr.ipynb\"><img src=\"../../../../../number/numeral/__pv_it/fb4ccffdbfd0f653ebaacb95e7ff4802fd48a6f20/expr.png\" style=\"display:inline;vertical-align:middle;\" /></a></td></tr>\n",
       "<tr><td>21</td><td>Operation</td><td>operator:&nbsp;22<br>operands:&nbsp;23<br></td><td><a class=\"ProveItLink\" href=\"../a00fc0239269d4df989d382c1d9a5f0580a00ba30/expr.ipynb\"><img src=\"../a00fc0239269d4df989d382c1d9a5f0580a00ba30/expr.png\" style=\"display:inline;vertical-align:middle;\" /></a></td></tr>\n",
       "<tr><td>22</td><td>Literal</td><td></td><td><a class=\"ProveItLink\" href=\"../../../../../number/addition/__pv_it/65ad7e8aee19b10110d590375ba95a879c4fb7ea0/expr.ipynb\"><img src=\"../../../../../number/addition/__pv_it/65ad7e8aee19b10110d590375ba95a879c4fb7ea0/expr.png\" style=\"display:inline;vertical-align:middle;\" /></a></td></tr>\n",
       "<tr><td>23</td><td>ExprTuple</td><td>24, 25</td><td><a class=\"ProveItLink\" href=\"../d9c809c246c1743a958617867411d5180042db1e0/expr.ipynb\"><img src=\"../d9c809c246c1743a958617867411d5180042db1e0/expr.png\" style=\"display:inline;vertical-align:middle;\" /></a></td></tr>\n",
       "<tr><td>24</td><td>Literal</td><td></td><td><a class=\"ProveItLink\" href=\"../96bcbff08fa521257bc78a97fedf1068dcbd0e2d0/expr.ipynb\"><img src=\"../96bcbff08fa521257bc78a97fedf1068dcbd0e2d0/expr.png\" style=\"display:inline;vertical-align:middle;\" /></a></td></tr>\n",
       "<tr><td>25</td><td>Operation</td><td>operator:&nbsp;26<br>operand:&nbsp;27<br></td><td><a class=\"ProveItLink\" href=\"../01559348096b98a1dd2ebcf5c288189c829b18930/expr.ipynb\"><img src=\"../01559348096b98a1dd2ebcf5c288189c829b18930/expr.png\" style=\"display:inline;vertical-align:middle;\" /></a></td></tr>\n",
       "<tr><td>26</td><td>Literal</td><td></td><td><a class=\"ProveItLink\" href=\"../../../../../number/negation/__pv_it/2867787e35502987d81a45cac8e7f1c6996d6ff40/expr.ipynb\"><img src=\"../../../../../number/negation/__pv_it/2867787e35502987d81a45cac8e7f1c6996d6ff40/expr.png\" style=\"display:inline;vertical-align:middle;\" /></a></td></tr>\n",
       "<tr><td>27</td><td>Literal</td><td></td><td><a class=\"ProveItLink\" href=\"../../../../../number/numeral/__pv_it/f086f8c372bd40a2458306ddfdbb29f3dc6f63030/expr.ipynb\"><img src=\"../../../../../number/numeral/__pv_it/f086f8c372bd40a2458306ddfdbb29f3dc6f63030/expr.png\" style=\"display:inline;vertical-align:middle;\" /></a></td></tr>\n",
       "</table>\n"
      ],
      "text/plain": [
       "0. (l in {-2^{t - 1} + 1...2^{t - 1}}) and (l != 0)\n",
       "   core type: Operation\n",
       "   operator: 1\n",
       "   operands: 2\n",
       "1. and\n",
       "   core type: Literal\n",
       "   sub-expressions: \n",
       "2. (l in {-2^{t - 1} + 1...2^{t - 1}}, l != 0)\n",
       "   core type: ExprTuple\n",
       "   sub-expressions: 3, 4\n",
       "3. l in {-2^{t - 1} + 1...2^{t - 1}}\n",
       "   core type: Operation\n",
       "   operator: 5\n",
       "   operands: 6\n",
       "4. l != 0\n",
       "   core type: Operation\n",
       "   operator: 7\n",
       "   operands: 8\n",
       "5. in\n",
       "   core type: Literal\n",
       "   sub-expressions: \n",
       "6. (l, {-2^{t - 1} + 1...2^{t - 1}})\n",
       "   core type: ExprTuple\n",
       "   sub-expressions: 10, 9\n",
       "7. !=\n",
       "   core type: Literal\n",
       "   sub-expressions: \n",
       "8. (l, 0)\n",
       "   core type: ExprTuple\n",
       "   sub-expressions: 10, 11\n",
       "9. {-2^{t - 1} + 1...2^{t - 1}}\n",
       "   core type: Operation\n",
       "   operator: 12\n",
       "   operands: 13\n",
       "10. l\n",
       "    core type: Variable\n",
       "    sub-expressions: \n",
       "11. 0\n",
       "    core type: Literal\n",
       "    sub-expressions: \n",
       "12. Interval\n",
       "    core type: Literal\n",
       "    sub-expressions: \n",
       "13. (-2^{t - 1} + 1, 2^{t - 1})\n",
       "    core type: ExprTuple\n",
       "    sub-expressions: 14, 17\n",
       "14. -2^{t - 1} + 1\n",
       "    core type: Operation\n",
       "    operator: 22\n",
       "    operands: 15\n",
       "15. (-2^{t - 1}, 1)\n",
       "    core type: ExprTuple\n",
       "    sub-expressions: 16, 27\n",
       "16. -2^{t - 1}\n",
       "    core type: Operation\n",
       "    operator: 26\n",
       "    operand: 17\n",
       "17. 2^{t - 1}\n",
       "    core type: Operation\n",
       "    operator: 18\n",
       "    operands: 19\n",
       "18. Exp\n",
       "    core type: Literal\n",
       "    sub-expressions: \n",
       "19. (2, t - 1)\n",
       "    core type: ExprTuple\n",
       "    sub-expressions: 20, 21\n",
       "20. 2\n",
       "    core type: Literal\n",
       "    sub-expressions: \n",
       "21. t - 1\n",
       "    core type: Operation\n",
       "    operator: 22\n",
       "    operands: 23\n",
       "22. +\n",
       "    core type: Literal\n",
       "    sub-expressions: \n",
       "23. (t, -1)\n",
       "    core type: ExprTuple\n",
       "    sub-expressions: 24, 25\n",
       "24. t\n",
       "    core type: Literal\n",
       "    sub-expressions: \n",
       "25. -1\n",
       "    core type: Operation\n",
       "    operator: 26\n",
       "    operand: 27\n",
       "26. -\n",
       "    core type: Literal\n",
       "    sub-expressions: \n",
       "27. 1\n",
       "    core type: Literal\n",
       "    sub-expressions: "
      ]
     },
     "execution_count": 5,
     "metadata": {},
     "output_type": "execute_result"
    }
   ],
   "source": [
    "# display the expression information\n",
    "expr.exprInfo()"
   ]
  },
  {
   "cell_type": "code",
   "execution_count": null,
   "metadata": {},
   "outputs": [],
   "source": []
  }
 ],
 "metadata": {
  "kernelspec": {
   "display_name": "Python 3",
   "language": "python",
   "name": "python3"
  },
  "language_info": {
   "codemirror_mode": {
    "name": "ipython",
    "version": 3
   },
   "file_extension": ".py",
   "mimetype": "text/x-python",
   "name": "python",
   "nbconvert_exporter": "python",
   "pygments_lexer": "ipython3",
   "version": "3.7.3"
  }
 },
 "nbformat": 4,
 "nbformat_minor": 1
}
