{
 "cells": [
  {
   "cell_type": "markdown",
   "metadata": {},
   "source": [
    "Expression of type <a class=\"ProveItLink\" href=\"../../../../../../../doc/html/api/proveit.Lambda.html\">Lambda</a>\n",
    "=======================\n",
    "# from context <a class=\"ProveItLink\" href=\"../../_context_.ipynb\">proveit.physics.quantum.QPE</a>"
   ]
  },
  {
   "cell_type": "code",
   "execution_count": 1,
   "metadata": {},
   "outputs": [],
   "source": [
    "import proveit\n",
    "# Automation is not needed when building an expression:\n",
    "proveit.defaults.automation = False # This will speed things up.\n",
    "proveit.defaults.inline_pngs = False # Makes files smaller.\n",
    "# import Expression classes needed to build the expression\n",
    "from proveit import Conditional, Lambda, Literal\n",
    "from proveit._common_ import eps, l\n",
    "from proveit.logic import Equals, InSet\n",
    "from proveit.number import GreaterEq, Interval, NaturalsPos, Neg, Sum\n",
    "from proveit.physics.quantum.QPE import ModAdd, Psuccess\n",
    "from proveit.statistics import Prob"
   ]
  },
  {
   "cell_type": "code",
   "execution_count": 2,
   "metadata": {},
   "outputs": [
    {
     "data": {
      "text/html": [
       "<strong id=\"expr\">expr:</strong> <a class=\"ProveItLink\" href=\"expr.ipynb\"><img src=\"expr.png\" style=\"display:inline;vertical-align:middle;\" /></a><br>"
      ],
      "text/plain": [
       "expr: eps -> {[Psuccess](eps) >= (Sum_{l=-eps}^{eps} Pr_{m}[m = (b MOD_ADD l)]) if eps in NaturalsPos."
      ]
     },
     "execution_count": 2,
     "metadata": {},
     "output_type": "execute_result"
    }
   ],
   "source": [
    "# build up the expression from sub-expressions\n",
    "expr = Lambda(eps, Conditional(GreaterEq(Psuccess(eps), Sum([l], Prob(Equals(Literal(\"m\", context = \"proveit.physics.quantum.QPE\"), ModAdd(Literal(\"b\", context = \"proveit.physics.quantum.QPE\"), l)), Literal(\"m\", context = \"proveit.physics.quantum.QPE\")), domain = Interval(Neg(eps), eps))), InSet(eps, NaturalsPos)))"
   ]
  },
  {
   "cell_type": "code",
   "execution_count": 3,
   "metadata": {},
   "outputs": [
    {
     "name": "stdout",
     "output_type": "stream",
     "text": [
      "Passed sanity check: built 'expr' is the same as the stored Expression.\n"
     ]
    }
   ],
   "source": [
    "# check that the built expression is the same as the stored expression\n",
    "%check_expr"
   ]
  },
  {
   "cell_type": "code",
   "execution_count": 4,
   "metadata": {},
   "outputs": [
    {
     "name": "stdout",
     "output_type": "stream",
     "text": [
      "\\varepsilon \\mapsto \\left\\{\\left[P_{\\rm success}\\right]\\left(\\varepsilon\\right) \\geq \\left(\\sum_{l=-\\varepsilon}^{\\varepsilon} Pr_{m}[m = \\left(b \\oplus l\\right)]\\right) \\textrm{ if } \\varepsilon \\in \\mathbb{N}^+\\right..\n"
     ]
    }
   ],
   "source": [
    "# Show the LaTeX representation of the expression for convenience if you need it.\n",
    "print(expr.latex())"
   ]
  },
  {
   "cell_type": "code",
   "execution_count": 5,
   "metadata": {},
   "outputs": [
    {
     "data": {
      "text/html": [
       "<table><tr><th>&nbsp;</th><th>core type</th><th>sub-expressions</th><th>expression</th></tr>\n",
       "<tr><td>0</td><td>Lambda</td><td>parameter:&nbsp;32<br>body:&nbsp;1<br></td><td><a class=\"ProveItLink\" href=\"expr.ipynb\"><img src=\"expr.png\" style=\"display:inline;vertical-align:middle;\" /></a></td></tr>\n",
       "<tr><td>1</td><td>Conditional</td><td>value:&nbsp;2<br>condition:&nbsp;3<br></td><td><a class=\"ProveItLink\" href=\"../1cce743130a61d5fd8bc9e4c0dd7889ec170d3a80/expr.ipynb\"><img src=\"../1cce743130a61d5fd8bc9e4c0dd7889ec170d3a80/expr.png\" style=\"display:inline;vertical-align:middle;\" /></a></td></tr>\n",
       "<tr><td>2</td><td>Operation</td><td>operator:&nbsp;4<br>operands:&nbsp;5<br></td><td><a class=\"ProveItLink\" href=\"../ee18777055edffd89bb3343c051c5bfa4499d3ea0/expr.ipynb\"><img src=\"../ee18777055edffd89bb3343c051c5bfa4499d3ea0/expr.png\" style=\"display:inline;vertical-align:middle;\" /></a></td></tr>\n",
       "<tr><td>3</td><td>Operation</td><td>operator:&nbsp;18<br>operands:&nbsp;6<br></td><td><a class=\"ProveItLink\" href=\"../43cc16dd49781000cb1d3d637bc6312fda8579000/expr.ipynb\"><img src=\"../43cc16dd49781000cb1d3d637bc6312fda8579000/expr.png\" style=\"display:inline;vertical-align:middle;\" /></a></td></tr>\n",
       "<tr><td>4</td><td>Literal</td><td></td><td><a class=\"ProveItLink\" href=\"../../../../../number/ordering/__pv_it/cef35580c31dcaee082f4b9a008104845b0dfa860/expr.ipynb\"><img src=\"../../../../../number/ordering/__pv_it/cef35580c31dcaee082f4b9a008104845b0dfa860/expr.png\" style=\"display:inline;vertical-align:middle;\" /></a></td></tr>\n",
       "<tr><td>5</td><td>ExprTuple</td><td>7, 8</td><td><a class=\"ProveItLink\" href=\"../5e84b7c2a8fff258fad6987ee0982d9f5bef3a3a0/expr.ipynb\"><img src=\"../5e84b7c2a8fff258fad6987ee0982d9f5bef3a3a0/expr.png\" style=\"display:inline;vertical-align:middle;\" /></a></td></tr>\n",
       "<tr><td>6</td><td>ExprTuple</td><td>32, 9</td><td><a class=\"ProveItLink\" href=\"../a78ff2228d3d7466826f519ae6022ee576d71d900/expr.ipynb\"><img src=\"../a78ff2228d3d7466826f519ae6022ee576d71d900/expr.png\" style=\"display:inline;vertical-align:middle;\" /></a></td></tr>\n",
       "<tr><td>7</td><td>Operation</td><td>operator:&nbsp;10<br>operand:&nbsp;32<br></td><td><a class=\"ProveItLink\" href=\"../dfa302b38677234804c222e139014284484caecd0/expr.ipynb\"><img src=\"../dfa302b38677234804c222e139014284484caecd0/expr.png\" style=\"display:inline;vertical-align:middle;\" /></a></td></tr>\n",
       "<tr><td>8</td><td>Operation</td><td>operator:&nbsp;11<br>operand:&nbsp;12<br></td><td><a class=\"ProveItLink\" href=\"../e5b776e9673e01132ff1ffdeb7abfcf7872faa330/expr.ipynb\"><img src=\"../e5b776e9673e01132ff1ffdeb7abfcf7872faa330/expr.png\" style=\"display:inline;vertical-align:middle;\" /></a></td></tr>\n",
       "<tr><td>9</td><td>Literal</td><td></td><td><a class=\"ProveItLink\" href=\"../../../../../number/sets/integer/__pv_it/f6a9f4b6dec6ab4d2dcb6ba1b0ba3cceefc643530/expr.ipynb\"><img src=\"../../../../../number/sets/integer/__pv_it/f6a9f4b6dec6ab4d2dcb6ba1b0ba3cceefc643530/expr.png\" style=\"display:inline;vertical-align:middle;\" /></a></td></tr>\n",
       "<tr><td>10</td><td>Literal</td><td></td><td><a class=\"ProveItLink\" href=\"../886cbd97584bb4d1b8479715484957ae0ccddc510/expr.ipynb\"><img src=\"../886cbd97584bb4d1b8479715484957ae0ccddc510/expr.png\" style=\"display:inline;vertical-align:middle;\" /></a></td></tr>\n",
       "<tr><td>11</td><td>Literal</td><td></td><td><a class=\"ProveItLink\" href=\"../../../../../number/summation/__pv_it/96de221ba4d1688e87f6d74acf330cfa5b0488570/expr.ipynb\"><img src=\"../../../../../number/summation/__pv_it/96de221ba4d1688e87f6d74acf330cfa5b0488570/expr.png\" style=\"display:inline;vertical-align:middle;\" /></a></td></tr>\n",
       "<tr><td>12</td><td>Lambda</td><td>parameter:&nbsp;34<br>body:&nbsp;13<br></td><td><a class=\"ProveItLink\" href=\"../a0e84765c4aab2e1761a18d7accd375b8e9f57d40/expr.ipynb\"><img src=\"../a0e84765c4aab2e1761a18d7accd375b8e9f57d40/expr.png\" style=\"display:inline;vertical-align:middle;\" /></a></td></tr>\n",
       "<tr><td>13</td><td>Conditional</td><td>value:&nbsp;14<br>condition:&nbsp;15<br></td><td><a class=\"ProveItLink\" href=\"../fc2b649ae5c2a741488e81a86deafe61d877c1fc0/expr.ipynb\"><img src=\"../fc2b649ae5c2a741488e81a86deafe61d877c1fc0/expr.png\" style=\"display:inline;vertical-align:middle;\" /></a></td></tr>\n",
       "<tr><td>14</td><td>Operation</td><td>operator:&nbsp;16<br>operands:&nbsp;17<br></td><td><a class=\"ProveItLink\" href=\"../9ecec4bdfa6fc8e9fbd45e10588d3db28693e9270/expr.ipynb\"><img src=\"../9ecec4bdfa6fc8e9fbd45e10588d3db28693e9270/expr.png\" style=\"display:inline;vertical-align:middle;\" /></a></td></tr>\n",
       "<tr><td>15</td><td>Operation</td><td>operator:&nbsp;18<br>operands:&nbsp;19<br></td><td><a class=\"ProveItLink\" href=\"../cc53963ec931c485b92ad3e83077b01d4d8bdf1e0/expr.ipynb\"><img src=\"../cc53963ec931c485b92ad3e83077b01d4d8bdf1e0/expr.png\" style=\"display:inline;vertical-align:middle;\" /></a></td></tr>\n",
       "<tr><td>16</td><td>Literal</td><td></td><td><a class=\"ProveItLink\" href=\"../../../../../statistics/__pv_it/f283c8b322f39cc53292c00d964cb7fdd93eb6460/expr.ipynb\"><img src=\"../../../../../statistics/__pv_it/f283c8b322f39cc53292c00d964cb7fdd93eb6460/expr.png\" style=\"display:inline;vertical-align:middle;\" /></a></td></tr>\n",
       "<tr><td>17</td><td>ExprTuple</td><td>20, 26</td><td><a class=\"ProveItLink\" href=\"../f5d90156558567cd98b533794878212a79e9b0c10/expr.ipynb\"><img src=\"../f5d90156558567cd98b533794878212a79e9b0c10/expr.png\" style=\"display:inline;vertical-align:middle;\" /></a></td></tr>\n",
       "<tr><td>18</td><td>Literal</td><td></td><td><a class=\"ProveItLink\" href=\"../../../../../logic/set_theory/membership/__pv_it/7776fc89cb67d0b5b1ec2c0c8e08da5587921ccf0/expr.ipynb\"><img src=\"../../../../../logic/set_theory/membership/__pv_it/7776fc89cb67d0b5b1ec2c0c8e08da5587921ccf0/expr.png\" style=\"display:inline;vertical-align:middle;\" /></a></td></tr>\n",
       "<tr><td>19</td><td>ExprTuple</td><td>34, 21</td><td><a class=\"ProveItLink\" href=\"../6ce67cbced07c12a7ba944e44c2e2c23f127fd0a0/expr.ipynb\"><img src=\"../6ce67cbced07c12a7ba944e44c2e2c23f127fd0a0/expr.png\" style=\"display:inline;vertical-align:middle;\" /></a></td></tr>\n",
       "<tr><td>20</td><td>Operation</td><td>operator:&nbsp;22<br>operands:&nbsp;23<br></td><td><a class=\"ProveItLink\" href=\"../90c707f440d5fa917a2d17fa09d1960dabec66120/expr.ipynb\"><img src=\"../90c707f440d5fa917a2d17fa09d1960dabec66120/expr.png\" style=\"display:inline;vertical-align:middle;\" /></a></td></tr>\n",
       "<tr><td>21</td><td>Operation</td><td>operator:&nbsp;24<br>operands:&nbsp;25<br></td><td><a class=\"ProveItLink\" href=\"../74ba568cd5bb20a3304813359c69e576bfc5aa9e0/expr.ipynb\"><img src=\"../74ba568cd5bb20a3304813359c69e576bfc5aa9e0/expr.png\" style=\"display:inline;vertical-align:middle;\" /></a></td></tr>\n",
       "<tr><td>22</td><td>Literal</td><td></td><td><a class=\"ProveItLink\" href=\"../../../../../logic/equality/__pv_it/e16d2caa26a16688b658bdb9c422caf4b84579e10/expr.ipynb\"><img src=\"../../../../../logic/equality/__pv_it/e16d2caa26a16688b658bdb9c422caf4b84579e10/expr.png\" style=\"display:inline;vertical-align:middle;\" /></a></td></tr>\n",
       "<tr><td>23</td><td>ExprTuple</td><td>26, 27</td><td><a class=\"ProveItLink\" href=\"../b1c76c36f420c466eba014b7c8f6171bf51250e50/expr.ipynb\"><img src=\"../b1c76c36f420c466eba014b7c8f6171bf51250e50/expr.png\" style=\"display:inline;vertical-align:middle;\" /></a></td></tr>\n",
       "<tr><td>24</td><td>Literal</td><td></td><td><a class=\"ProveItLink\" href=\"../../../../../number/sets/integer/__pv_it/9c81416d3aeee14eb5f33b511a478176b3f50d040/expr.ipynb\"><img src=\"../../../../../number/sets/integer/__pv_it/9c81416d3aeee14eb5f33b511a478176b3f50d040/expr.png\" style=\"display:inline;vertical-align:middle;\" /></a></td></tr>\n",
       "<tr><td>25</td><td>ExprTuple</td><td>28, 32</td><td><a class=\"ProveItLink\" href=\"../9396a0e275324d361f8c783954da3e5a3bfd201b0/expr.ipynb\"><img src=\"../9396a0e275324d361f8c783954da3e5a3bfd201b0/expr.png\" style=\"display:inline;vertical-align:middle;\" /></a></td></tr>\n",
       "<tr><td>26</td><td>Literal</td><td></td><td><a class=\"ProveItLink\" href=\"../ea3ea35127b78cd348688706732afe3133ee85150/expr.ipynb\"><img src=\"../ea3ea35127b78cd348688706732afe3133ee85150/expr.png\" style=\"display:inline;vertical-align:middle;\" /></a></td></tr>\n",
       "<tr><td>27</td><td>Operation</td><td>operator:&nbsp;29<br>operands:&nbsp;30<br></td><td><a class=\"ProveItLink\" href=\"../4bcd0233d3e654affa9c50cd0aa76c29b76a1c260/expr.ipynb\"><img src=\"../4bcd0233d3e654affa9c50cd0aa76c29b76a1c260/expr.png\" style=\"display:inline;vertical-align:middle;\" /></a></td></tr>\n",
       "<tr><td>28</td><td>Operation</td><td>operator:&nbsp;31<br>operand:&nbsp;32<br></td><td><a class=\"ProveItLink\" href=\"../31bb550bd78dda571313dcd226902e1d7d4ae6f30/expr.ipynb\"><img src=\"../31bb550bd78dda571313dcd226902e1d7d4ae6f30/expr.png\" style=\"display:inline;vertical-align:middle;\" /></a></td></tr>\n",
       "<tr><td>29</td><td>Literal</td><td></td><td><a class=\"ProveItLink\" href=\"../b41e4c06c72e23a6fc942ed38e78f285ec857cde0/expr.ipynb\"><img src=\"../b41e4c06c72e23a6fc942ed38e78f285ec857cde0/expr.png\" style=\"display:inline;vertical-align:middle;\" /></a></td></tr>\n",
       "<tr><td>30</td><td>ExprTuple</td><td>33, 34</td><td><a class=\"ProveItLink\" href=\"../7130ed3afc90084a90bd738aeb9e69b9d3b08e8f0/expr.ipynb\"><img src=\"../7130ed3afc90084a90bd738aeb9e69b9d3b08e8f0/expr.png\" style=\"display:inline;vertical-align:middle;\" /></a></td></tr>\n",
       "<tr><td>31</td><td>Literal</td><td></td><td><a class=\"ProveItLink\" href=\"../../../../../number/negation/__pv_it/2867787e35502987d81a45cac8e7f1c6996d6ff40/expr.ipynb\"><img src=\"../../../../../number/negation/__pv_it/2867787e35502987d81a45cac8e7f1c6996d6ff40/expr.png\" style=\"display:inline;vertical-align:middle;\" /></a></td></tr>\n",
       "<tr><td>32</td><td>Variable</td><td></td><td><a class=\"ProveItLink\" href=\"../../../../../__pv_it/a07b94578bb51fd99b91f6ecc814e1e1925ccfd30/expr.ipynb\"><img src=\"../../../../../__pv_it/a07b94578bb51fd99b91f6ecc814e1e1925ccfd30/expr.png\" style=\"display:inline;vertical-align:middle;\" /></a></td></tr>\n",
       "<tr><td>33</td><td>Literal</td><td></td><td><a class=\"ProveItLink\" href=\"../d81916b660589842e9907c923ca7448ed0c092520/expr.ipynb\"><img src=\"../d81916b660589842e9907c923ca7448ed0c092520/expr.png\" style=\"display:inline;vertical-align:middle;\" /></a></td></tr>\n",
       "<tr><td>34</td><td>Variable</td><td></td><td><a class=\"ProveItLink\" href=\"../../../../../__pv_it/146a2ac733407ae00030c58af25a3e0f465a566a0/expr.ipynb\"><img src=\"../../../../../__pv_it/146a2ac733407ae00030c58af25a3e0f465a566a0/expr.png\" style=\"display:inline;vertical-align:middle;\" /></a></td></tr>\n",
       "</table>\n"
      ],
      "text/plain": [
       "0. eps -> {[Psuccess](eps) >= (Sum_{l=-eps}^{eps} Pr_{m}[m = (b MOD_ADD l)]) if eps in NaturalsPos.\n",
       "   core type: Lambda\n",
       "   parameter: 32\n",
       "   body: 1\n",
       "1. {[Psuccess](eps) >= (Sum_{l=-eps}^{eps} Pr_{m}[m = (b MOD_ADD l)]) if eps in NaturalsPos.\n",
       "   core type: Conditional\n",
       "   value: 2\n",
       "   condition: 3\n",
       "2. [Psuccess](eps) >= (Sum_{l=-eps}^{eps} Pr_{m}[m = (b MOD_ADD l)])\n",
       "   core type: Operation\n",
       "   operator: 4\n",
       "   operands: 5\n",
       "3. eps in NaturalsPos\n",
       "   core type: Operation\n",
       "   operator: 18\n",
       "   operands: 6\n",
       "4. >=\n",
       "   core type: Literal\n",
       "   sub-expressions: \n",
       "5. ([Psuccess](eps), Sum_{l=-eps}^{eps} Pr_{m}[m = (b MOD_ADD l)])\n",
       "   core type: ExprTuple\n",
       "   sub-expressions: 7, 8\n",
       "6. (eps, NaturalsPos)\n",
       "   core type: ExprTuple\n",
       "   sub-expressions: 32, 9\n",
       "7. [Psuccess](eps)\n",
       "   core type: Operation\n",
       "   operator: 10\n",
       "   operand: 32\n",
       "8. Sum_{l=-eps}^{eps} Pr_{m}[m = (b MOD_ADD l)]\n",
       "   core type: Operation\n",
       "   operator: 11\n",
       "   operand: 12\n",
       "9. NaturalsPos\n",
       "   core type: Literal\n",
       "   sub-expressions: \n",
       "10. Psuccess\n",
       "    core type: Literal\n",
       "    sub-expressions: \n",
       "11. Sum\n",
       "    core type: Literal\n",
       "    sub-expressions: \n",
       "12. l -> {Pr_{m}[m = (b MOD_ADD l)] if l in {-eps...eps}.\n",
       "    core type: Lambda\n",
       "    parameter: 34\n",
       "    body: 13\n",
       "13. {Pr_{m}[m = (b MOD_ADD l)] if l in {-eps...eps}.\n",
       "    core type: Conditional\n",
       "    value: 14\n",
       "    condition: 15\n",
       "14. Pr_{m}[m = (b MOD_ADD l)]\n",
       "    core type: Operation\n",
       "    operator: 16\n",
       "    operands: 17\n",
       "15. l in {-eps...eps}\n",
       "    core type: Operation\n",
       "    operator: 18\n",
       "    operands: 19\n",
       "16. PROB\n",
       "    core type: Literal\n",
       "    sub-expressions: \n",
       "17. (m = (b MOD_ADD l), m)\n",
       "    core type: ExprTuple\n",
       "    sub-expressions: 20, 26\n",
       "18. in\n",
       "    core type: Literal\n",
       "    sub-expressions: \n",
       "19. (l, {-eps...eps})\n",
       "    core type: ExprTuple\n",
       "    sub-expressions: 34, 21\n",
       "20. m = (b MOD_ADD l)\n",
       "    core type: Operation\n",
       "    operator: 22\n",
       "    operands: 23\n",
       "21. {-eps...eps}\n",
       "    core type: Operation\n",
       "    operator: 24\n",
       "    operands: 25\n",
       "22. =\n",
       "    core type: Literal\n",
       "    sub-expressions: \n",
       "23. (m, b MOD_ADD l)\n",
       "    core type: ExprTuple\n",
       "    sub-expressions: 26, 27\n",
       "24. Interval\n",
       "    core type: Literal\n",
       "    sub-expressions: \n",
       "25. (-eps, eps)\n",
       "    core type: ExprTuple\n",
       "    sub-expressions: 28, 32\n",
       "26. m\n",
       "    core type: Literal\n",
       "    sub-expressions: \n",
       "27. b MOD_ADD l\n",
       "    core type: Operation\n",
       "    operator: 29\n",
       "    operands: 30\n",
       "28. -eps\n",
       "    core type: Operation\n",
       "    operator: 31\n",
       "    operand: 32\n",
       "29. MOD_ADD\n",
       "    core type: Literal\n",
       "    sub-expressions: \n",
       "30. (b, l)\n",
       "    core type: ExprTuple\n",
       "    sub-expressions: 33, 34\n",
       "31. -\n",
       "    core type: Literal\n",
       "    sub-expressions: \n",
       "32. eps\n",
       "    core type: Variable\n",
       "    sub-expressions: \n",
       "33. b\n",
       "    core type: Literal\n",
       "    sub-expressions: \n",
       "34. l\n",
       "    core type: Variable\n",
       "    sub-expressions: "
      ]
     },
     "execution_count": 5,
     "metadata": {},
     "output_type": "execute_result"
    }
   ],
   "source": [
    "# display the expression information\n",
    "expr.exprInfo()"
   ]
  },
  {
   "cell_type": "code",
   "execution_count": null,
   "metadata": {},
   "outputs": [],
   "source": []
  }
 ],
 "metadata": {
  "kernelspec": {
   "display_name": "Python 3",
   "language": "python",
   "name": "python3"
  },
  "language_info": {
   "codemirror_mode": {
    "name": "ipython",
    "version": 3
   },
   "file_extension": ".py",
   "mimetype": "text/x-python",
   "name": "python",
   "nbconvert_exporter": "python",
   "pygments_lexer": "ipython3",
   "version": "3.7.3"
  }
 },
 "nbformat": 4,
 "nbformat_minor": 1
}
