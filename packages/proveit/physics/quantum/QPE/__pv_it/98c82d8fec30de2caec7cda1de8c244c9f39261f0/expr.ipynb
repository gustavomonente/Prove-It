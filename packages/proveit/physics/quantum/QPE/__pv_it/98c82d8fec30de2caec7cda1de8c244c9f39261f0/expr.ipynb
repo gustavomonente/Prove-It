{
 "cells": [
  {
   "cell_type": "markdown",
   "metadata": {},
   "source": [
    "Expression of type <a class=\"ProveItLink\" href=\"../../../../../../../doc/html/api/proveit.Conditional.html\">Conditional</a>\n",
    "=======================\n",
    "# from context <a class=\"ProveItLink\" href=\"../../_context_.ipynb\">proveit.physics.quantum.QPE</a>"
   ]
  },
  {
   "cell_type": "code",
   "execution_count": 1,
   "metadata": {},
   "outputs": [],
   "source": [
    "import proveit\n",
    "# Automation is not needed when building an expression:\n",
    "proveit.defaults.automation = False # This will speed things up.\n",
    "proveit.defaults.inline_pngs = False # Makes files smaller.\n",
    "# import Expression classes needed to build the expression\n",
    "from proveit import Conditional, Literal\n",
    "from proveit._common_ import eps\n",
    "from proveit.logic import InSet\n",
    "from proveit.number import Add, Exp, Interval, LessEq, Mult, Neg, frac, one, two\n",
    "from proveit.physics.quantum.QPE import Pfail"
   ]
  },
  {
   "cell_type": "code",
   "execution_count": 2,
   "metadata": {},
   "outputs": [
    {
     "data": {
      "text/html": [
       "<strong id=\"expr\">expr:</strong> <a class=\"ProveItLink\" href=\"expr.ipynb\"><img src=\"expr.png\" style=\"display:inline;vertical-align:middle;\" /></a><br>"
      ],
      "text/plain": [
       "expr: {[Pfail](eps) <= ((1 / 2) * ((1 / eps) + (1 / eps^{2}))) if eps in {1...2^{t - 1} - 2}."
      ]
     },
     "execution_count": 2,
     "metadata": {},
     "output_type": "execute_result"
    }
   ],
   "source": [
    "# build up the expression from sub-expressions\n",
    "expr = Conditional(LessEq(Pfail(eps), Mult(frac(one, two), Add(frac(one, eps), frac(one, Exp(eps, two))))), InSet(eps, Interval(one, Add(Exp(two, Add(Literal(\"t\", context = \"proveit.physics.quantum.QPE\"), Neg(one))), Neg(two)))))"
   ]
  },
  {
   "cell_type": "code",
   "execution_count": 3,
   "metadata": {},
   "outputs": [
    {
     "name": "stdout",
     "output_type": "stream",
     "text": [
      "Passed sanity check: built 'expr' is the same as the stored Expression.\n"
     ]
    }
   ],
   "source": [
    "# check that the built expression is the same as the stored expression\n",
    "%check_expr"
   ]
  },
  {
   "cell_type": "code",
   "execution_count": 4,
   "metadata": {},
   "outputs": [
    {
     "name": "stdout",
     "output_type": "stream",
     "text": [
      "\\left\\{\\left[P_{\\rm fail}\\right]\\left(\\varepsilon\\right) \\leq \\left(\\frac{1}{2} \\cdot \\left(\\frac{1}{\\varepsilon} + \\frac{1}{\\varepsilon^{2}}\\right)\\right) \\textrm{ if } \\varepsilon \\in \\{1 \\dots 2^{t - 1} - 2\\}\\right..\n"
     ]
    }
   ],
   "source": [
    "# Show the LaTeX representation of the expression for convenience if you need it.\n",
    "print(expr.latex())"
   ]
  },
  {
   "cell_type": "code",
   "execution_count": 5,
   "metadata": {},
   "outputs": [
    {
     "data": {
      "text/html": [
       "<table><tr><th>&nbsp;</th><th>core type</th><th>sub-expressions</th><th>expression</th></tr>\n",
       "<tr><td>0</td><td>Conditional</td><td>value:&nbsp;1<br>condition:&nbsp;2<br></td><td><a class=\"ProveItLink\" href=\"expr.ipynb\"><img src=\"expr.png\" style=\"display:inline;vertical-align:middle;\" /></a></td></tr>\n",
       "<tr><td>1</td><td>Operation</td><td>operator:&nbsp;3<br>operands:&nbsp;4<br></td><td><a class=\"ProveItLink\" href=\"../7f06875b5cfb052e7a0c6840979e72233a35a3b20/expr.ipynb\"><img src=\"../7f06875b5cfb052e7a0c6840979e72233a35a3b20/expr.png\" style=\"display:inline;vertical-align:middle;\" /></a></td></tr>\n",
       "<tr><td>2</td><td>Operation</td><td>operator:&nbsp;5<br>operands:&nbsp;6<br></td><td><a class=\"ProveItLink\" href=\"../c09849faf5b4b580c3604b1253463dec513130ea0/expr.ipynb\"><img src=\"../c09849faf5b4b580c3604b1253463dec513130ea0/expr.png\" style=\"display:inline;vertical-align:middle;\" /></a></td></tr>\n",
       "<tr><td>3</td><td>Literal</td><td></td><td><a class=\"ProveItLink\" href=\"../../../../../number/ordering/__pv_it/75657f0186226b3d1bb8ce3bab2953bb36e04b3b0/expr.ipynb\"><img src=\"../../../../../number/ordering/__pv_it/75657f0186226b3d1bb8ce3bab2953bb36e04b3b0/expr.png\" style=\"display:inline;vertical-align:middle;\" /></a></td></tr>\n",
       "<tr><td>4</td><td>ExprTuple</td><td>7, 8</td><td><a class=\"ProveItLink\" href=\"../17f8e5f240548fa6b916b4f2e3bb76327c60d7920/expr.ipynb\"><img src=\"../17f8e5f240548fa6b916b4f2e3bb76327c60d7920/expr.png\" style=\"display:inline;vertical-align:middle;\" /></a></td></tr>\n",
       "<tr><td>5</td><td>Literal</td><td></td><td><a class=\"ProveItLink\" href=\"../../../../../logic/set_theory/membership/__pv_it/7776fc89cb67d0b5b1ec2c0c8e08da5587921ccf0/expr.ipynb\"><img src=\"../../../../../logic/set_theory/membership/__pv_it/7776fc89cb67d0b5b1ec2c0c8e08da5587921ccf0/expr.png\" style=\"display:inline;vertical-align:middle;\" /></a></td></tr>\n",
       "<tr><td>6</td><td>ExprTuple</td><td>35, 9</td><td><a class=\"ProveItLink\" href=\"../7166f3542f0831882507f7c33472727a750983a40/expr.ipynb\"><img src=\"../7166f3542f0831882507f7c33472727a750983a40/expr.png\" style=\"display:inline;vertical-align:middle;\" /></a></td></tr>\n",
       "<tr><td>7</td><td>Operation</td><td>operator:&nbsp;10<br>operand:&nbsp;35<br></td><td><a class=\"ProveItLink\" href=\"../82d1f2447cdd544c160aeebe9d174bfb6837a0ac0/expr.ipynb\"><img src=\"../82d1f2447cdd544c160aeebe9d174bfb6837a0ac0/expr.png\" style=\"display:inline;vertical-align:middle;\" /></a></td></tr>\n",
       "<tr><td>8</td><td>Operation</td><td>operator:&nbsp;11<br>operands:&nbsp;12<br></td><td><a class=\"ProveItLink\" href=\"../3239bafdc524eb5eee37d9be7efbc4b7b51fcc9d0/expr.ipynb\"><img src=\"../3239bafdc524eb5eee37d9be7efbc4b7b51fcc9d0/expr.png\" style=\"display:inline;vertical-align:middle;\" /></a></td></tr>\n",
       "<tr><td>9</td><td>Operation</td><td>operator:&nbsp;13<br>operands:&nbsp;14<br></td><td><a class=\"ProveItLink\" href=\"../81829f2e48b3579cf43a6c2002c06a45f3c5536c0/expr.ipynb\"><img src=\"../81829f2e48b3579cf43a6c2002c06a45f3c5536c0/expr.png\" style=\"display:inline;vertical-align:middle;\" /></a></td></tr>\n",
       "<tr><td>10</td><td>Literal</td><td></td><td><a class=\"ProveItLink\" href=\"../04470383214b11c684279e24003e70f34ba0038f0/expr.ipynb\"><img src=\"../04470383214b11c684279e24003e70f34ba0038f0/expr.png\" style=\"display:inline;vertical-align:middle;\" /></a></td></tr>\n",
       "<tr><td>11</td><td>Literal</td><td></td><td><a class=\"ProveItLink\" href=\"../../../../../number/multiplication/__pv_it/f7a1ed7c35c8c884cf4c236d27cb79bf85638cad0/expr.ipynb\"><img src=\"../../../../../number/multiplication/__pv_it/f7a1ed7c35c8c884cf4c236d27cb79bf85638cad0/expr.png\" style=\"display:inline;vertical-align:middle;\" /></a></td></tr>\n",
       "<tr><td>12</td><td>ExprTuple</td><td>15, 16</td><td><a class=\"ProveItLink\" href=\"../875d0f6d0d50be90a28e798c435c1ac3843cc5640/expr.ipynb\"><img src=\"../875d0f6d0d50be90a28e798c435c1ac3843cc5640/expr.png\" style=\"display:inline;vertical-align:middle;\" /></a></td></tr>\n",
       "<tr><td>13</td><td>Literal</td><td></td><td><a class=\"ProveItLink\" href=\"../../../../../number/sets/integer/__pv_it/9c81416d3aeee14eb5f33b511a478176b3f50d040/expr.ipynb\"><img src=\"../../../../../number/sets/integer/__pv_it/9c81416d3aeee14eb5f33b511a478176b3f50d040/expr.png\" style=\"display:inline;vertical-align:middle;\" /></a></td></tr>\n",
       "<tr><td>14</td><td>ExprTuple</td><td>40, 17</td><td><a class=\"ProveItLink\" href=\"../41319c729d9715faaba8cf69d8cd995cab2db9fe0/expr.ipynb\"><img src=\"../41319c729d9715faaba8cf69d8cd995cab2db9fe0/expr.png\" style=\"display:inline;vertical-align:middle;\" /></a></td></tr>\n",
       "<tr><td>15</td><td>Operation</td><td>operator:&nbsp;26<br>operands:&nbsp;18<br></td><td><a class=\"ProveItLink\" href=\"../802dee724b9318af22b4f017a8f9de752aa8e4fa0/expr.ipynb\"><img src=\"../802dee724b9318af22b4f017a8f9de752aa8e4fa0/expr.png\" style=\"display:inline;vertical-align:middle;\" /></a></td></tr>\n",
       "<tr><td>16</td><td>Operation</td><td>operator:&nbsp;33<br>operands:&nbsp;19<br></td><td><a class=\"ProveItLink\" href=\"../35e172e1fb7071387b19b77a011e48d84ab46dad0/expr.ipynb\"><img src=\"../35e172e1fb7071387b19b77a011e48d84ab46dad0/expr.png\" style=\"display:inline;vertical-align:middle;\" /></a></td></tr>\n",
       "<tr><td>17</td><td>Operation</td><td>operator:&nbsp;33<br>operands:&nbsp;20<br></td><td><a class=\"ProveItLink\" href=\"../bebad766c67845ce8309ec00db262cfb3f4205830/expr.ipynb\"><img src=\"../bebad766c67845ce8309ec00db262cfb3f4205830/expr.png\" style=\"display:inline;vertical-align:middle;\" /></a></td></tr>\n",
       "<tr><td>18</td><td>ExprTuple</td><td>40, 36</td><td><a class=\"ProveItLink\" href=\"../870fe229b3bbe6904a72bc2b38613787bd64cb3d0/expr.ipynb\"><img src=\"../870fe229b3bbe6904a72bc2b38613787bd64cb3d0/expr.png\" style=\"display:inline;vertical-align:middle;\" /></a></td></tr>\n",
       "<tr><td>19</td><td>ExprTuple</td><td>21, 22</td><td><a class=\"ProveItLink\" href=\"../158c51ac268ad5f10e4e78b902bb5cd3024fb0200/expr.ipynb\"><img src=\"../158c51ac268ad5f10e4e78b902bb5cd3024fb0200/expr.png\" style=\"display:inline;vertical-align:middle;\" /></a></td></tr>\n",
       "<tr><td>20</td><td>ExprTuple</td><td>23, 24</td><td><a class=\"ProveItLink\" href=\"../2099b13a46a42ccaf46152c984e91b87e47603940/expr.ipynb\"><img src=\"../2099b13a46a42ccaf46152c984e91b87e47603940/expr.png\" style=\"display:inline;vertical-align:middle;\" /></a></td></tr>\n",
       "<tr><td>21</td><td>Operation</td><td>operator:&nbsp;26<br>operands:&nbsp;25<br></td><td><a class=\"ProveItLink\" href=\"../efbdb7294121077ab2811578e261382bbb73cfe40/expr.ipynb\"><img src=\"../efbdb7294121077ab2811578e261382bbb73cfe40/expr.png\" style=\"display:inline;vertical-align:middle;\" /></a></td></tr>\n",
       "<tr><td>22</td><td>Operation</td><td>operator:&nbsp;26<br>operands:&nbsp;27<br></td><td><a class=\"ProveItLink\" href=\"../2b4d5465e440583065ba17bcde41bbbb30dd614e0/expr.ipynb\"><img src=\"../2b4d5465e440583065ba17bcde41bbbb30dd614e0/expr.png\" style=\"display:inline;vertical-align:middle;\" /></a></td></tr>\n",
       "<tr><td>23</td><td>Operation</td><td>operator:&nbsp;31<br>operands:&nbsp;28<br></td><td><a class=\"ProveItLink\" href=\"../53e7167cb7a3e2024f061806596ebd273cf217740/expr.ipynb\"><img src=\"../53e7167cb7a3e2024f061806596ebd273cf217740/expr.png\" style=\"display:inline;vertical-align:middle;\" /></a></td></tr>\n",
       "<tr><td>24</td><td>Operation</td><td>operator:&nbsp;39<br>operand:&nbsp;36<br></td><td><a class=\"ProveItLink\" href=\"../df27ab2f45b70f005578c8e2b0bbac51a557f34e0/expr.ipynb\"><img src=\"../df27ab2f45b70f005578c8e2b0bbac51a557f34e0/expr.png\" style=\"display:inline;vertical-align:middle;\" /></a></td></tr>\n",
       "<tr><td>25</td><td>ExprTuple</td><td>40, 35</td><td><a class=\"ProveItLink\" href=\"../9147e163cb315c1c4b7143bc0327a041e413e91d0/expr.ipynb\"><img src=\"../9147e163cb315c1c4b7143bc0327a041e413e91d0/expr.png\" style=\"display:inline;vertical-align:middle;\" /></a></td></tr>\n",
       "<tr><td>26</td><td>Literal</td><td></td><td><a class=\"ProveItLink\" href=\"../../../../../number/division/__pv_it/7a11ad25d6e61156459ac6819a1cec8fded2dde30/expr.ipynb\"><img src=\"../../../../../number/division/__pv_it/7a11ad25d6e61156459ac6819a1cec8fded2dde30/expr.png\" style=\"display:inline;vertical-align:middle;\" /></a></td></tr>\n",
       "<tr><td>27</td><td>ExprTuple</td><td>40, 29</td><td><a class=\"ProveItLink\" href=\"../5ac0106eb3f6e9c2f6f48824d70ee60d5309d9010/expr.ipynb\"><img src=\"../5ac0106eb3f6e9c2f6f48824d70ee60d5309d9010/expr.png\" style=\"display:inline;vertical-align:middle;\" /></a></td></tr>\n",
       "<tr><td>28</td><td>ExprTuple</td><td>36, 30</td><td><a class=\"ProveItLink\" href=\"../bc224616db1239eb42b32d1ac5c3bd8125aa650f0/expr.ipynb\"><img src=\"../bc224616db1239eb42b32d1ac5c3bd8125aa650f0/expr.png\" style=\"display:inline;vertical-align:middle;\" /></a></td></tr>\n",
       "<tr><td>29</td><td>Operation</td><td>operator:&nbsp;31<br>operands:&nbsp;32<br></td><td><a class=\"ProveItLink\" href=\"../6166e1f30bd3e9c45ae265b5386c15ec422534450/expr.ipynb\"><img src=\"../6166e1f30bd3e9c45ae265b5386c15ec422534450/expr.png\" style=\"display:inline;vertical-align:middle;\" /></a></td></tr>\n",
       "<tr><td>30</td><td>Operation</td><td>operator:&nbsp;33<br>operands:&nbsp;34<br></td><td><a class=\"ProveItLink\" href=\"../a00fc0239269d4df989d382c1d9a5f0580a00ba30/expr.ipynb\"><img src=\"../a00fc0239269d4df989d382c1d9a5f0580a00ba30/expr.png\" style=\"display:inline;vertical-align:middle;\" /></a></td></tr>\n",
       "<tr><td>31</td><td>Literal</td><td></td><td><a class=\"ProveItLink\" href=\"../../../../../number/exponentiation/__pv_it/fca8e4218e687a7bc372d4b4009101e95bae518f0/expr.ipynb\"><img src=\"../../../../../number/exponentiation/__pv_it/fca8e4218e687a7bc372d4b4009101e95bae518f0/expr.png\" style=\"display:inline;vertical-align:middle;\" /></a></td></tr>\n",
       "<tr><td>32</td><td>ExprTuple</td><td>35, 36</td><td><a class=\"ProveItLink\" href=\"../69cbe16cdbb349376f872b4ff8b0187f29af25520/expr.ipynb\"><img src=\"../69cbe16cdbb349376f872b4ff8b0187f29af25520/expr.png\" style=\"display:inline;vertical-align:middle;\" /></a></td></tr>\n",
       "<tr><td>33</td><td>Literal</td><td></td><td><a class=\"ProveItLink\" href=\"../../../../../number/addition/__pv_it/65ad7e8aee19b10110d590375ba95a879c4fb7ea0/expr.ipynb\"><img src=\"../../../../../number/addition/__pv_it/65ad7e8aee19b10110d590375ba95a879c4fb7ea0/expr.png\" style=\"display:inline;vertical-align:middle;\" /></a></td></tr>\n",
       "<tr><td>34</td><td>ExprTuple</td><td>37, 38</td><td><a class=\"ProveItLink\" href=\"../d9c809c246c1743a958617867411d5180042db1e0/expr.ipynb\"><img src=\"../d9c809c246c1743a958617867411d5180042db1e0/expr.png\" style=\"display:inline;vertical-align:middle;\" /></a></td></tr>\n",
       "<tr><td>35</td><td>Variable</td><td></td><td><a class=\"ProveItLink\" href=\"../../../../../__pv_it/a07b94578bb51fd99b91f6ecc814e1e1925ccfd30/expr.ipynb\"><img src=\"../../../../../__pv_it/a07b94578bb51fd99b91f6ecc814e1e1925ccfd30/expr.png\" style=\"display:inline;vertical-align:middle;\" /></a></td></tr>\n",
       "<tr><td>36</td><td>Literal</td><td></td><td><a class=\"ProveItLink\" href=\"../../../../../number/numeral/__pv_it/fb4ccffdbfd0f653ebaacb95e7ff4802fd48a6f20/expr.ipynb\"><img src=\"../../../../../number/numeral/__pv_it/fb4ccffdbfd0f653ebaacb95e7ff4802fd48a6f20/expr.png\" style=\"display:inline;vertical-align:middle;\" /></a></td></tr>\n",
       "<tr><td>37</td><td>Literal</td><td></td><td><a class=\"ProveItLink\" href=\"../96bcbff08fa521257bc78a97fedf1068dcbd0e2d0/expr.ipynb\"><img src=\"../96bcbff08fa521257bc78a97fedf1068dcbd0e2d0/expr.png\" style=\"display:inline;vertical-align:middle;\" /></a></td></tr>\n",
       "<tr><td>38</td><td>Operation</td><td>operator:&nbsp;39<br>operand:&nbsp;40<br></td><td><a class=\"ProveItLink\" href=\"../01559348096b98a1dd2ebcf5c288189c829b18930/expr.ipynb\"><img src=\"../01559348096b98a1dd2ebcf5c288189c829b18930/expr.png\" style=\"display:inline;vertical-align:middle;\" /></a></td></tr>\n",
       "<tr><td>39</td><td>Literal</td><td></td><td><a class=\"ProveItLink\" href=\"../../../../../number/negation/__pv_it/2867787e35502987d81a45cac8e7f1c6996d6ff40/expr.ipynb\"><img src=\"../../../../../number/negation/__pv_it/2867787e35502987d81a45cac8e7f1c6996d6ff40/expr.png\" style=\"display:inline;vertical-align:middle;\" /></a></td></tr>\n",
       "<tr><td>40</td><td>Literal</td><td></td><td><a class=\"ProveItLink\" href=\"../../../../../number/numeral/__pv_it/f086f8c372bd40a2458306ddfdbb29f3dc6f63030/expr.ipynb\"><img src=\"../../../../../number/numeral/__pv_it/f086f8c372bd40a2458306ddfdbb29f3dc6f63030/expr.png\" style=\"display:inline;vertical-align:middle;\" /></a></td></tr>\n",
       "</table>\n"
      ],
      "text/plain": [
       "0. {[Pfail](eps) <= ((1 / 2) * ((1 / eps) + (1 / eps^{2}))) if eps in {1...2^{t - 1} - 2}.\n",
       "   core type: Conditional\n",
       "   value: 1\n",
       "   condition: 2\n",
       "1. [Pfail](eps) <= ((1 / 2) * ((1 / eps) + (1 / eps^{2})))\n",
       "   core type: Operation\n",
       "   operator: 3\n",
       "   operands: 4\n",
       "2. eps in {1...2^{t - 1} - 2}\n",
       "   core type: Operation\n",
       "   operator: 5\n",
       "   operands: 6\n",
       "3. <=\n",
       "   core type: Literal\n",
       "   sub-expressions: \n",
       "4. ([Pfail](eps), (1 / 2) * ((1 / eps) + (1 / eps^{2})))\n",
       "   core type: ExprTuple\n",
       "   sub-expressions: 7, 8\n",
       "5. in\n",
       "   core type: Literal\n",
       "   sub-expressions: \n",
       "6. (eps, {1...2^{t - 1} - 2})\n",
       "   core type: ExprTuple\n",
       "   sub-expressions: 35, 9\n",
       "7. [Pfail](eps)\n",
       "   core type: Operation\n",
       "   operator: 10\n",
       "   operand: 35\n",
       "8. (1 / 2) * ((1 / eps) + (1 / eps^{2}))\n",
       "   core type: Operation\n",
       "   operator: 11\n",
       "   operands: 12\n",
       "9. {1...2^{t - 1} - 2}\n",
       "   core type: Operation\n",
       "   operator: 13\n",
       "   operands: 14\n",
       "10. Pfail\n",
       "    core type: Literal\n",
       "    sub-expressions: \n",
       "11. *\n",
       "    core type: Literal\n",
       "    sub-expressions: \n",
       "12. (1 / 2, (1 / eps) + (1 / eps^{2}))\n",
       "    core type: ExprTuple\n",
       "    sub-expressions: 15, 16\n",
       "13. Interval\n",
       "    core type: Literal\n",
       "    sub-expressions: \n",
       "14. (1, 2^{t - 1} - 2)\n",
       "    core type: ExprTuple\n",
       "    sub-expressions: 40, 17\n",
       "15. 1 / 2\n",
       "    core type: Operation\n",
       "    operator: 26\n",
       "    operands: 18\n",
       "16. (1 / eps) + (1 / eps^{2})\n",
       "    core type: Operation\n",
       "    operator: 33\n",
       "    operands: 19\n",
       "17. 2^{t - 1} - 2\n",
       "    core type: Operation\n",
       "    operator: 33\n",
       "    operands: 20\n",
       "18. (1, 2)\n",
       "    core type: ExprTuple\n",
       "    sub-expressions: 40, 36\n",
       "19. (1 / eps, 1 / eps^{2})\n",
       "    core type: ExprTuple\n",
       "    sub-expressions: 21, 22\n",
       "20. (2^{t - 1}, -2)\n",
       "    core type: ExprTuple\n",
       "    sub-expressions: 23, 24\n",
       "21. 1 / eps\n",
       "    core type: Operation\n",
       "    operator: 26\n",
       "    operands: 25\n",
       "22. 1 / eps^{2}\n",
       "    core type: Operation\n",
       "    operator: 26\n",
       "    operands: 27\n",
       "23. 2^{t - 1}\n",
       "    core type: Operation\n",
       "    operator: 31\n",
       "    operands: 28\n",
       "24. -2\n",
       "    core type: Operation\n",
       "    operator: 39\n",
       "    operand: 36\n",
       "25. (1, eps)\n",
       "    core type: ExprTuple\n",
       "    sub-expressions: 40, 35\n",
       "26. /\n",
       "    core type: Literal\n",
       "    sub-expressions: \n",
       "27. (1, eps^{2})\n",
       "    core type: ExprTuple\n",
       "    sub-expressions: 40, 29\n",
       "28. (2, t - 1)\n",
       "    core type: ExprTuple\n",
       "    sub-expressions: 36, 30\n",
       "29. eps^{2}\n",
       "    core type: Operation\n",
       "    operator: 31\n",
       "    operands: 32\n",
       "30. t - 1\n",
       "    core type: Operation\n",
       "    operator: 33\n",
       "    operands: 34\n",
       "31. Exp\n",
       "    core type: Literal\n",
       "    sub-expressions: \n",
       "32. (eps, 2)\n",
       "    core type: ExprTuple\n",
       "    sub-expressions: 35, 36\n",
       "33. +\n",
       "    core type: Literal\n",
       "    sub-expressions: \n",
       "34. (t, -1)\n",
       "    core type: ExprTuple\n",
       "    sub-expressions: 37, 38\n",
       "35. eps\n",
       "    core type: Variable\n",
       "    sub-expressions: \n",
       "36. 2\n",
       "    core type: Literal\n",
       "    sub-expressions: \n",
       "37. t\n",
       "    core type: Literal\n",
       "    sub-expressions: \n",
       "38. -1\n",
       "    core type: Operation\n",
       "    operator: 39\n",
       "    operand: 40\n",
       "39. -\n",
       "    core type: Literal\n",
       "    sub-expressions: \n",
       "40. 1\n",
       "    core type: Literal\n",
       "    sub-expressions: "
      ]
     },
     "execution_count": 5,
     "metadata": {},
     "output_type": "execute_result"
    }
   ],
   "source": [
    "# display the expression information\n",
    "expr.exprInfo()"
   ]
  },
  {
   "cell_type": "code",
   "execution_count": null,
   "metadata": {},
   "outputs": [],
   "source": []
  }
 ],
 "metadata": {
  "kernelspec": {
   "display_name": "Python 3",
   "language": "python",
   "name": "python3"
  },
  "language_info": {
   "codemirror_mode": {
    "name": "ipython",
    "version": 3
   },
   "file_extension": ".py",
   "mimetype": "text/x-python",
   "name": "python",
   "nbconvert_exporter": "python",
   "pygments_lexer": "ipython3",
   "version": "3.7.3"
  }
 },
 "nbformat": 4,
 "nbformat_minor": 1
}
