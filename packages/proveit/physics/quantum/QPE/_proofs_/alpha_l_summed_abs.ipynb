{
 "cells": [
  {
   "cell_type": "markdown",
   "metadata": {},
   "source": [
    "Proof of <a class=\"ProveItLink\" href=\"../../../../_context_.ipynb\">proveit</a>.<a class=\"ProveItLink\" href=\"../../../_context_.ipynb\">physics</a>.<a class=\"ProveItLink\" href=\"../../_context_.ipynb\">quantum</a>.<a class=\"ProveItLink\" href=\"../_context_.ipynb\">QPE</a>.<a class=\"ProveItLink\" href=\"../_theorems_.ipynb#alpha_l_summed_abs\">alpha_l_summed_abs</a> theorem\n",
    "========"
   ]
  },
  {
   "cell_type": "code",
   "execution_count": 1,
   "metadata": {},
   "outputs": [],
   "source": [
    "import proveit\n",
    "context = proveit.Context('..') # the theorem's context is in the parent directory"
   ]
  },
  {
   "cell_type": "code",
   "execution_count": 2,
   "metadata": {},
   "outputs": [
    {
     "name": "stdout",
     "output_type": "stream",
     "text": [
      "Beginning proof of alpha_l_summed_abs\n",
      "Recorded 'presuming' information\n",
      "Presuming previous theorems (applied transitively).\n"
     ]
    },
    {
     "data": {
      "text/html": [
       "<strong id=\"alpha_l_summed_abs\">alpha_l_summed_abs:</strong> <a class=\"ProveItLink\" href=\"../__pv_it/1a9b0c98b6ec9efa2143bf8e6e3e795a59d137a60/expr.ipynb\"><img src=\"data:image/png;base64,iVBORw0KGgoAAAANSUhEUgAAAUwAAABSCAMAAAAIGx0yAAAAPFBMVEX///+wsLBRUVEGBgYMDAwQ\n",
       "EBCIiIhmZma6urrMzMxUVFQiIiJERETc3Nzu7u6qqqp2dnaYmJgyMjIAAAAE/rkhAAAAAXRSTlMA\n",
       "QObYZgAAB61JREFUeNrtXIuWoygQZXsGEJCH8P//uoIQIUKrobpjJuGcGdMhGrjUi6JuELpKY+hl\n",
       "2vWHil8HTPzeI5RTeV3+4JvPadl8RNb13mCqsbwubSLbT/I2mmvXzw2VsuuDaWV5Dc0IOm1ht+0V\n",
       "sZWhVqS7oxH7PMk0dKSqOTC6iiAtruk2UTgVKqx/02zFVXG33EcqQ+UG0LE5+TQwzfzVvLmWbB2Y\n",
       "kPk13VYK4YzJEJCrjGNYYL915R9ReAADU4AtzHkwPTZHFlOK4ppu0xRlak7SaztUNKDsKoY6YQWE\n",
       "gBFPdEBinpt0+4KRFD5e022SEplLGCuRy9o4lV3lUC2Q2ZRuerI31y7KhbQutAjJQPgGi3Ha3ra+\n",
       "k+Ri2hqOJP2pqxzq4GBc8Ajogh97lCC3oIIRRZW6mcAVLqHLa37bzY8ohBes9UbZWBpa6robqgXx\n",
       "wQxQMB8DMyiemv+bkZuVNqih/1OqMHEV3kguYnUVuSqHz5h5IpzGSW3MxHibb3Wog9MXE0z0Ny3/\n",
       "CYO+xDoMBzUcZyu4/jmS28sNmBMt5G7+jBdjTlbEhjE1FR+Vg/n3PowVEBYTMMZCf5aQznB3GMzB\n",
       "xzPJYMkRDaudVE6xlpoXt0WrGB3TGgflOsNYESItQ83X1PWHRxQsxsx1ZzoMJrNa6zF9et7OsFVT\n",
       "tEWm4YDK2yLOan675YAcIt85IL9yY/f0nUVPBRMH953hEf6lXYuR9xYyXsvb0q6QmHgv3agbNUPZ\n",
       "tbFuY7dYaUeeA6YyhNATo0/aORwybZbtdmF4KDiolh8Hc/BbGHnGXJfbyZ2VEvtdW7/rel2Qg83z\n",
       "HAVTYe3jmTOB8l2i4/tgi+x3bSduOwVLO/rjYCqbtQgfxxMh07n98CjLKzqQZzuWgkuhaKeeU5BQ\n",
       "9bxkuge2wvXk8Hewf9uFK9uXPmcsnHoOmI8Et9Vji5pBkEe6KvbNuZ65K2CTeRjMmPQj6HmtMnPb\n",
       "le0YAALV6gjJDpghta+ovBaYtCtNYUD3krcRUo6dpd8OjNBpmhC6FpjE9WQ1R2D/g77Qy7SvmqL2\n",
       "RJrYsR9f7qs2XHMhPR7IATvzV6/o6MFD9sUC/x6YuCMNN0BHRq8Opu1w51MR8rOmiDP1JmDyjujG\n",
       "FGGmaYq4Gd4ETOpjo1XATgVvtIirPmAu0mVu4aI9447GD5j3YNpwDhX986ntoS0ScB8w5y2QyATS\n",
       "6HNgmg+YpUf2YE5G+SbPbYfEB8x7MMO7Lhy2nyxnE0VqOUHmT7qG9wRTL7sYHjbZIY+cyjqPbM2n\n",
       "DWTSH+MrLJHSa4HoWpKSH0FUTjzo64BJ22AOoV5nCZHuTkM5Hn2ZLT0G5iLcI0VE3Z5kBvQebYj7\n",
       "az/tWOsZz+mVNtQnFf3ZqFFE1fb1+h5Mumz16VJLEZ/0TmCG6fsSsCiRSwXJNGoZivNmwNhUPTdx\n",
       "W5uJl9jK4FAbEWtR9sF0r9zWafwXwZQWsRiCh+PfgRb2wdQhuFdzFf27WWQ2HiQ3bCb/5ySTpRzc\n",
       "KPky56XyKU9hTFKzgw4ovmPw+iQgNb8kvY7VbSbSNGp5KOtUeSUoqQtmLTSiQdwm4/z3pAJREDAv\n",
       "GTXhBpgoIbNUiIqlzNO/NsgbQKkOxZnGhJMu6stIUoHoC4C5d5YuRVYLL/fBTNUmS1nnatAGzfyD\n",
       "jDy9nUwFotcH80CVR6bRTc7fNlu+lHUatnofiuqleONOoiMViF4fTCvPfH2z4GjagBnLOscYQ06c\n",
       "c2Os4OfBTAWiTwPzLBUw0f0qal6IbqsUjjTPekmymc3GwfOZsGCepgImul8lhVG44CrnD8V85qPb\n",
       "0+LYgjSDF8KeA+ZZKuBK99tOtQS5yvm7B+RcI9ClRtBgnqQCrnS/7aOQLu1HdVC8o1xVw7IDbsvO\n",
       "AB3QGSrgSvfbWgxSCHiDcjF2nE4y9xMuVjlIb36GCrjS/XaXqMH566i9UoAVHYrScYnltAAE8wwV\n",
       "MKP7NXMwNzGqDqqr9sqBcS0UD87Qc5aFrRb+P8IEPEcFTHS/gubX0slyUDfh6qi9Eg4qU7mEg9iv\n",
       "tK2rygNMwJNUwIzuV/X5WRxY5/yxLk3lYIxeLJbnyZXY3VDz4+S1s1TAjO5XlXKy54CmLodMwJgr\n",
       "NkDEZ5vDMIIC8yQVMKP7FUtijD8bK35nps75M11wMODYyJM35pBFyT4wH6UCNlIcPoeGyt+ZqXP+\n",
       "OgupYQs0Bx+m0Ub29DiYj1MB60qzRGs506rB+esk8lhQ6mRIpjCe7T7VA2B2UAG/Cyvz35mpJzp6\n",
       "iTwG8jcltqfJKjMjR5mAXVTAxvL4DF32OzONFJx2vFMx4U7FCG3I6knJ7KECNmJg1YIel7FNJ/cE\n",
       "gxlN7bGUcjfRsQ9mDxWwujdTqnhki/PXjQWFIq+wMF4CACY0FVDM4ZU4kMqS3Vo6AHHUpDDGUC72\n",
       "U3B7TMBfpQLiIujuZphhmMRRzI/tgnmACfibVMB88rYfCeJ+qZDokkzAr1zLAXTU8d8Xgss0nHsP\n",
       "ALaegab8vSaYCkSoFDRN+jXBJDB7QfI7onlxMDFQ/gybD5gTlETpXxHNS4Op4H54jI/vDiYHzOsK\n",
       "/d5gDpCZSIbVW4MpQDcug3xnMJVGL9bwZ1AfMC/Z6IsM6n+TDG8MkvPvVgAAAABJRU5ErkJggg==\n",
       "\" style=\"display:inline;vertical-align:middle;\" /></a><br>(see <a class=\"ProveItLink\" href=\"../__pv_it/1a9b0c98b6ec9efa2143bf8e6e3e795a59d137a60/dependencies.ipynb\">dependencies</a>)<br>"
      ],
      "text/plain": [
       "alpha_l_summed_abs: forall_{l in Integers} (|alpha_{l}| = (|1 - e^{2 * pi * i * ((2^{t} * delta) - l)}| / (2^{t} * |1 - e^{2 * pi * i * (delta - (l / 2^{t}))}|)))"
      ]
     },
     "execution_count": 2,
     "metadata": {},
     "output_type": "execute_result"
    }
   ],
   "source": [
    "%proving alpha_l_summed_abs presuming []"
   ]
  },
  {
   "cell_type": "code",
   "execution_count": null,
   "metadata": {},
   "outputs": [],
   "source": []
  }
 ],
 "metadata": {
  "kernelspec": {
   "display_name": "Python 3",
   "language": "python",
   "name": "python3"
  }
 },
 "nbformat": 4,
 "nbformat_minor": 0
}
