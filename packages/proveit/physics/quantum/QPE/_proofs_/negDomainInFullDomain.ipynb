{
 "cells": [
  {
   "cell_type": "markdown",
   "metadata": {},
   "source": [
    "Proof of <a class=\"ProveItLink\" href=\"../../../../_context_.ipynb\">proveit</a>.<a class=\"ProveItLink\" href=\"../../../_context_.ipynb\">physics</a>.<a class=\"ProveItLink\" href=\"../../_context_.ipynb\">quantum</a>.<a class=\"ProveItLink\" href=\"../_context_.ipynb\">QPE</a>.<a class=\"ProveItLink\" href=\"../_theorems_.ipynb#negDomainInFullDomain\">negDomainInFullDomain</a> theorem\n",
    "========"
   ]
  },
  {
   "cell_type": "code",
   "execution_count": 1,
   "metadata": {},
   "outputs": [],
   "source": [
    "import proveit\n",
    "context = proveit.Context('..') # the theorem's context is in the parent directory"
   ]
  },
  {
   "cell_type": "code",
   "execution_count": 2,
   "metadata": {},
   "outputs": [
    {
     "name": "stdout",
     "output_type": "stream",
     "text": [
      "Beginning proof of negDomainInFullDomain\n",
      "Recorded 'presuming' information\n",
      "Presuming previous theorems (applied transitively).\n"
     ]
    },
    {
     "data": {
      "text/html": [
       "<strong id=\"negDomainInFullDomain\">negDomainInFullDomain:</strong> <a class=\"ProveItLink\" href=\"../__pv_it/b961521d4974d356e9230dac2bc1655145ea4de10/expr.ipynb\"><img src=\"data:image/png;base64,iVBORw0KGgoAAAANSUhEUgAAAfgAAAAcBAMAAAB/pLBsAAAAMFBMVEX///8QEBCIiIhmZma6urrM\n",
       "zMxUVFQiIiJERETc3Nzu7u6qqqp2dnaYmJgyMjIAAAAcRTyBAAAAAXRSTlMAQObYZgAABWpJREFU\n",
       "WMPVmG9oHEUUwF/udu/f7t4dYj9UoZ7tB+uf4tGgrTWBK0KVgHhtwfZD0bMopiASGu2plHgEJFf9\n",
       "chqIUdCsBCqNNDkIoYXSuCVq1bR4UFEQpRHBgsWjiBGTD41vZnb3ZndnL3eHF+PAzk0m783ub96b\n",
       "N28G4P9ZDq6Z0rop8azZ2L+jzUpWeT5fWgMuOdOA0JTderTxkQVKKXyk/PEGlPvWxKhPNiJ0phV4\n",
       "gdIeWo+sG/jfRJ1XKo4/hwceaB7epbT/HqzUyrqCD6YEnZOGq+N6K5Z3Ke0mIeA1Br9Afn6qDx8n\n",
       "P1qlnfBjOsBdi67Oq1x7fOcbAEtNwouUgoR4C4Of9/W5GrxaJkFTbyf8HJneG67Oi7VmLAffZOQk\n",
       "SEUsb4rglds8XUIllXjyGIMfxTpaqA9P/z/aVre/ndik4A8f1KEjGcid8lheMdfLyS+WvWtJpETh\n",
       "w2UKTwxKLVtvzRPPmG8ne5R8eQfj0IbyAx74jj4ILQVThieEW/CgeeGFShSezvMIaF9PTLy7WsD7\n",
       "cWLiVFvjnpYkvkizEXlQF1g+vgyhRfmwla8Mv364AXihEoUPJFm0/7tYFOz2hgM+USwOGasShFqP\n",
       "CjQKsfg2qYvcnrjqskizHrxQSSXc0jKDfw7ghFcp7YAPZSHim+ZFc2aOdqEuvEtfdvwVIW7YS5tH\n",
       "ar0vOmSeMFqA9yrRsCovMvhHILawGryUhkmMKVY0li/b07hzF2jW68N6nSOE6iAvgJIB+d6ag5IJ\n",
       "vIU2a1FP2eAY4Ri0AC9Q+oUY7E8GH4YAt4PL/Z/BnTk3PD7bcAqsZf+2TfkVWuditwdecIQ4wrN3\n",
       "4kgPoUPZZgnj+2S6IcubqlhoawidJValBZdtMO3lUKvVayif84UXKYWO4rAmvFoJW92fzHXDWVUP\n",
       "6nOd/Z1lHv4yqdU0E4FZe6BX4emSrc7gc8IcRLY4Q6Qi03gSrWa7XDxtBiF+25Uclt8CLVhepPQr\n",
       "Z/nognWm0N56X4fzqbTqcXv4UEamSIWJcPAvwVgGF8R4ZydOFoMvCOFDVsiNWPDxEgcfIcPnqH6y\n",
       "ptTLQ6bhvabhRUpszS+Zuf2JZ7Gazadx9WOZmXlHAB8ZwRNnosREOHiAT/VpzWF5MTy6h3Ktn4fH\n",
       "xVaDD6FWokK9Y7swyYFDAHc3DS9SckR7mMYvUcqQZWn+jHr6kBdeIYt4LzARB/xRGDbHl+9/2B8e\n",
       "U4lzNMLb8EqOgycun+ihHOGyCD56/NKDfXXhA4QndtOqphZ8lOg+r5n7PCRQPXCfATEKPAPGnBce\n",
       "/sBnqykCL3BDeSKKBT9OpMet3scANl9yuL1UgNhGe3njl2tdLCHv7RElOSsrK3Xhg8/c7LaiO6nC\n",
       "OR8lPsPDl6K3BranQH6lWBxE+A9IBMu64H/AZ9AUOYjA1lnhimtpV6ubqr9T+L0leSNWpuAeDD6b\n",
       "ceeu/lytVii8jKY5YIf7W2tjSF8K0lvfoqSazKcofDzFnedP23F6BqR9Puf5DVkmwlleMqSsj+Xd\n",
       "d4exijPgSTnO8tAl+s4LDbDE9Fbgp3QOfh9IOnxOWt9iJu8DfyPFRLg1/9S5s7oI/oz7lR+DnIIe\n",
       "C17BMTWDW/MknnjL1bZcm5CXfsff5Gj56/hdGGqkgQzbigXwXRkqwsPfsbIiWvO1cweXA3w/UDbh\n",
       "ozv+SkEww8OHRAfLuNEG+N3kpvRl7zXWVlzQq1xjUZHZeoOL7wYCZX6fp2R8kiNMsXEj+vdvj+gd\n",
       "nma0fofXArzdbcOfd8DDNKxhGW349jbvubf/qNT46c0qj1sbtmXqNJ/bAznorF3ZRYJu/lhr9y7b\n",
       "mtdRXJMS0EGeh/+2/APpO461Z3/28wAAAABJRU5ErkJggg==\n",
       "\" style=\"display:inline;vertical-align:middle;\" /></a><br>(see <a class=\"ProveItLink\" href=\"../__pv_it/b961521d4974d356e9230dac2bc1655145ea4de10/dependencies.ipynb\">dependencies</a>)<br>"
      ],
      "text/plain": [
       "negDomainInFullDomain: forall_{eps in NaturalsPos} [forall_{l in {-2^{t - 1} + 1...-(eps + 1)}} (l in {-2^{t - 1} + 1...2^{t - 1}})]"
      ]
     },
     "execution_count": 2,
     "metadata": {},
     "output_type": "execute_result"
    }
   ],
   "source": [
    "%proving negDomainInFullDomain presuming []"
   ]
  },
  {
   "cell_type": "code",
   "execution_count": null,
   "metadata": {},
   "outputs": [],
   "source": []
  }
 ],
 "metadata": {
  "kernelspec": {
   "display_name": "Python 3",
   "language": "python",
   "name": "python3"
  }
 },
 "nbformat": 4,
 "nbformat_minor": 0
}
