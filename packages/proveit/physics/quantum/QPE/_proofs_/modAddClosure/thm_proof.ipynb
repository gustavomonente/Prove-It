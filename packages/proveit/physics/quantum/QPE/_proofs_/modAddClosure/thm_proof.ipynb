{
 "cells": [
  {
   "cell_type": "markdown",
   "metadata": {},
   "source": [
    "Proof of <a class=\"ProveItLink\" href=\"../../../../../_theory_.ipynb\">proveit</a>.<a class=\"ProveItLink\" href=\"../../../../_theory_.ipynb\">physics</a>.<a class=\"ProveItLink\" href=\"../../../_theory_.ipynb\">quantum</a>.<a class=\"ProveItLink\" href=\"../../_theory_.ipynb\">QPE</a>.<a class=\"ProveItLink\" href=\"../../_theorems_.ipynb#modAddClosure\">modAddClosure</a> theorem\n",
    "========"
   ]
  },
  {
   "cell_type": "code",
   "execution_count": null,
   "metadata": {},
   "outputs": [],
   "source": [
    "import proveit\n",
    "from proveit import defaults\n",
    "from proveit._common_ import a, b\n",
    "from proveit.logic import InSet\n",
    "from proveit.number import Add, Integer\n",
    "from proveit.number.modular._theorems_ import modIntClosure\n",
    "from proveit.physics.quantum.QPE._axioms_ import modAddDef\n",
    "from proveit.physics.quantum.QPE._common_ import two_pow_t\n",
    "from proveit.physics.quantum.QPE._theorems_ import two_pow_t_in_posnat, two_pow_t_not_zero\n",
    "theory = proveit.Theory() # the theorem's theory"
   ]
  },
  {
   "cell_type": "code",
   "execution_count": null,
   "metadata": {},
   "outputs": [],
   "source": [
    "%proving modAddClosure"
   ]
  },
  {
   "cell_type": "code",
   "execution_count": null,
   "metadata": {},
   "outputs": [],
   "source": [
    "defaults = modAddClosure.conditions"
   ]
  },
  {
   "cell_type": "code",
   "execution_count": null,
   "metadata": {},
   "outputs": [],
   "source": [
    "modAddDef"
   ]
  },
  {
   "cell_type": "code",
   "execution_count": null,
   "metadata": {},
   "outputs": [],
   "source": [
    "modAddDefSpec = modAddDef.instantiate({a:a, b:b}, assumptions=defaults)"
   ]
  },
  {
   "cell_type": "code",
   "execution_count": null,
   "metadata": {},
   "outputs": [],
   "source": [
    "# 3/19/2020: consider adding a deduceInNumberSet method to the Mod class;\n",
    "# that will allow a simplification of this manual part of the proof process\n",
    "# although it won't shorten the eventual proof."
   ]
  },
  {
   "cell_type": "code",
   "execution_count": null,
   "metadata": {},
   "outputs": [],
   "source": [
    "modIntClosure"
   ]
  },
  {
   "cell_type": "code",
   "execution_count": null,
   "metadata": {},
   "outputs": [],
   "source": [
    "two_pow_t_not_zero"
   ]
  },
  {
   "cell_type": "code",
   "execution_count": null,
   "metadata": {},
   "outputs": [],
   "source": [
    "two_pow_t_in_posnat"
   ]
  },
  {
   "cell_type": "code",
   "execution_count": null,
   "metadata": {},
   "outputs": [],
   "source": [
    "modIntClosureSpec = modIntClosure.instantiate({a:Add(a, b), b:two_pow_t}, assumptions=[InSet(a, Integer), InSet(b, Integer)])"
   ]
  },
  {
   "cell_type": "code",
   "execution_count": null,
   "metadata": {},
   "outputs": [],
   "source": [
    "modAddDefSpec.subLeftSideInto(modIntClosureSpec)"
   ]
  },
  {
   "cell_type": "code",
   "execution_count": null,
   "metadata": {},
   "outputs": [],
   "source": [
    "%qed"
   ]
  },
  {
   "cell_type": "code",
   "execution_count": null,
   "metadata": {},
   "outputs": [],
   "source": []
  }
 ],
 "metadata": {
  "kernelspec": {
   "display_name": "Python 3",
   "language": "python",
   "name": "python3"
  }
 },
 "nbformat": 4,
 "nbformat_minor": 0
}
