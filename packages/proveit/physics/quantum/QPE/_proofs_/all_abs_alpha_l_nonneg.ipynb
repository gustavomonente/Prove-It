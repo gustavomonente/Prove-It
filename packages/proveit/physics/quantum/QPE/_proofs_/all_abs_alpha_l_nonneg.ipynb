{
 "cells": [
  {
   "cell_type": "markdown",
   "metadata": {},
   "source": [
    "Proof of <a class=\"ProveItLink\" href=\"../../../../_context_.ipynb\">proveit</a>.<a class=\"ProveItLink\" href=\"../../../_context_.ipynb\">physics</a>.<a class=\"ProveItLink\" href=\"../../_context_.ipynb\">quantum</a>.<a class=\"ProveItLink\" href=\"../_context_.ipynb\">QPE</a>.<a class=\"ProveItLink\" href=\"../_theorems_.ipynb#all_abs_alpha_l_nonneg\">all_abs_alpha_l_nonneg</a> theorem\n",
    "========"
   ]
  },
  {
   "cell_type": "code",
   "execution_count": 1,
   "metadata": {},
   "outputs": [],
   "source": [
    "import proveit\n",
    "context = proveit.Context('..') # the theorem's context is in the parent directory"
   ]
  },
  {
   "cell_type": "code",
   "execution_count": 2,
   "metadata": {},
   "outputs": [
    {
     "name": "stdout",
     "output_type": "stream",
     "text": [
      "Beginning proof of all_abs_alpha_l_nonneg\n",
      "Recorded 'presuming' information\n",
      "Presuming previous theorems (applied transitively).\n"
     ]
    },
    {
     "data": {
      "text/html": [
       "<strong id=\"all_abs_alpha_l_nonneg\">all_abs_alpha_l_nonneg:</strong> <a class=\"ProveItLink\" href=\"../__pv_it/7af335fdff1ab5ac73680c45aefc8373ea88e5950/expr.ipynb\"><img src=\"data:image/png;base64,iVBORw0KGgoAAAANSUhEUgAAAQMAAAAVBAMAAACwB5bKAAAAMFBMVEX///8QEBCIiIhmZma6urrM\n",
       "zMxUVFQiIiJERETc3Nzu7u6qqqp2dnaYmJgyMjIAAAAcRTyBAAAAAXRSTlMAQObYZgAAA8lJREFU\n",
       "SMedVl1oE0EQnuaSXO56SfugUEHkUPzBp6CiIKJBEcEHPR+sRRD7oKIv2gelFKWEKpoqYkRQUSvX\n",
       "Cm2pUA9EpCA2RkFt/YkK/kCLARGpQi0I4i84s7t3uaSbhrow2du9+Sbfzny7ewCVWsguN5i6bf8/\n",
       "WHHrYGYkfFNFg0IbKJ3QcvCgImxAWJ4GozIPPclsKgpv6s6M1+UAwukSbC9UoJAdsRiKbJgmPsso\n",
       "xNLMpsxCvhsa3tqg58XYpTImo9CzshDb0VsYiuwipS0po/CK25QUklcgojXiosT4A++icWkW7u5z\n",
       "J14APOMotBgqxXBkFFq4yShETzS3uhSUNC6kU8juBNedmpYXYtNuMXEcYNBmKLToUF/fBRkDrYmb\n",
       "hEKozS5kQUljDmPcKbzWZD0FlGqh4RjvvwNsdhiK7EcqdURGIRDnRnBj7jJ/rH7bV4hwEAthxNmw\n",
       "H5pYP09QyM5LlNTv/Bem9G9IwWQoMsxNO+gHJlGI5LghXDsInenr5MNj7fNr4fZqJBTlehzm6obT\n",
       "nMKFhD5Ld7on/Jk8R/XV/gDsNBmKbB1T5QbuEK67f5QvCFSHG8LVDETii8mHxyqoN3m2uZWEVM1X\n",
       "3wRXWX+YU8DsHg3YwSY/hTcUXsMs7MwwFJkKAVzrfczOnaU5NW10iSxXJbghfI0NSj5DPixWaM44\n",
       "NpGFdRHyD00wlZoQtuhhBqOg/AJYbVCqCxQWDvkKQSgyI6fy1L0d6INq2NEBkyjU4e9sm3xYLN8e\n",
       "Tl5R1ic9CqoNocYChSp8c2+IqulS0B+anhwHHY+Clq/HuZ8Q5AWIZ6C0EDpWzvhNPiJWrV8LJ19i\n",
       "H2SFuMkPJbcQNzDUcwdqvONNW5ETuBTAe5uhGLJ9F3KphRjf8ZetyXL8i7+15CNiLfFTqFcsV45j\n",
       "goaQYw2i7wFscWHafqf4aHLlCDeRRyAJ19i7LsPby2LHIHw5wMiEhT4ilur4DmjDwT2lUO5CSV4M\n",
       "pizSQiNEn4dgkQvrLYhSdfSZHMWQNVifiAnbUqmUCZkhuMS93Cwh3Hg6CqtM9BGx9L0bvWvqI6S+\n",
       "4iFDuQvTywBVewPfEU9Gc0oW2iTXlJ5dgIiYMIgi76qtEGb/eysHj8sc0OjjDoKPxAHtth42yx6t\n",
       "0gN6plXuju9xkdRqAmAQVlGEsiTXFPqUi+VdUyC5pibMcrCsH6kg4BT2r/c8+dTo6jHNzIOTT5lY\n",
       "3mXttnYfhVUJ91xvpnaoCFWMDJAWpvfJAj620/tk8a2x8odbwPLTtKSe7yQfbvMrwt5x+wfLbyy1\n",
       "CSPk4QAAAABJRU5ErkJggg==\n",
       "\" style=\"display:inline;vertical-align:middle;\" /></a><br>(see <a class=\"ProveItLink\" href=\"../__pv_it/7af335fdff1ab5ac73680c45aefc8373ea88e5950/dependencies.ipynb\">dependencies</a>)<br>"
      ],
      "text/plain": [
       "all_abs_alpha_l_nonneg: forall_{l in Integers} ((|alpha_{l}| in Reals) and (|alpha_{l}| >= 0))"
      ]
     },
     "execution_count": 2,
     "metadata": {},
     "output_type": "execute_result"
    }
   ],
   "source": [
    "%proving all_abs_alpha_l_nonneg presuming []"
   ]
  },
  {
   "cell_type": "code",
   "execution_count": null,
   "metadata": {},
   "outputs": [],
   "source": []
  }
 ],
 "metadata": {
  "kernelspec": {
   "display_name": "Python 3",
   "language": "python",
   "name": "python3"
  }
 },
 "nbformat": 4,
 "nbformat_minor": 0
}
