{
 "cells": [
  {
   "cell_type": "markdown",
   "metadata": {},
   "source": [
    "Proof of <a class=\"ProveItLink\" href=\"../../../../_context_.ipynb\">proveit</a>.<a class=\"ProveItLink\" href=\"../../../_context_.ipynb\">physics</a>.<a class=\"ProveItLink\" href=\"../../_context_.ipynb\">quantum</a>.<a class=\"ProveItLink\" href=\"../_context_.ipynb\">QPE</a>.<a class=\"ProveItLink\" href=\"../_theorems_.ipynb#alpha_l_eval\">alpha_l_eval</a> theorem\n",
    "========"
   ]
  },
  {
   "cell_type": "code",
   "execution_count": 1,
   "metadata": {},
   "outputs": [],
   "source": [
    "import proveit\n",
    "context = proveit.Context('..') # the theorem's context is in the parent directory"
   ]
  },
  {
   "cell_type": "code",
   "execution_count": 2,
   "metadata": {},
   "outputs": [
    {
     "name": "stdout",
     "output_type": "stream",
     "text": [
      "Beginning proof of alpha_l_eval\n",
      "Recorded 'presuming' information\n",
      "Presuming previous theorems (applied transitively).\n"
     ]
    },
    {
     "data": {
      "text/html": [
       "<strong id=\"alpha_l_eval\">alpha_l_eval:</strong> <a class=\"ProveItLink\" href=\"../__pv_it/9a3c81aff27ae296dfbec874136b14c56dd66d560/expr.ipynb\"><img src=\"data:image/png;base64,iVBORw0KGgoAAAANSUhEUgAAAgIAAABLCAMAAAA1Ux9zAAAAM1BMVEX///+wsLAQEBCIiIhmZma6\n",
       "urrMzMxUVFQiIiJERETc3Nzu7u6qqqp2dnaYmJgyMjIAAAAld9JPAAAAAXRSTlMAQObYZgAACwBJ\n",
       "REFUeNrtXYm2rKgO9THL/P9f+8RZgqLGc11dVfSq23WyTFAJyU4IVNOgGxMvCUB3/IlNyxOkwkWY\n",
       "RsNLAtAdf2aT7gSpcNH9JqJ+RwC64w9thvA6qXDR/abcSwK2fA+btv9y88TUSYWL7janXhKQ8Xn6\n",
       "G/upBXmCFJ6aMzr6dwRMfI61zCSFYAU5ov1KFeBR1EmFi+61lrwkYORzHR6QCRYWbIlgTH2pGQgn\n",
       "SOEZNC2wRuCugIlP6QEXmuLz8C9VAR5tnVS46L9oBBrFk0/gjWWN/6nAMsPVCVJ44u3o6N4RsOGz\n",
       "0TSaUf1TgQUcR14nFS663hg2NL8rYMOndoOBr1UBE9s6qXDR9RbDSwLWfI41PxUAjhLOLUhq8ck1\n",
       "G+k7AtZ8fq0BvJ2a+W4VKLxZSEKPXxeNYbXoroAVH+9AARc/KwDspDpBiuj3E8lLAhY+Eay17V6u\n",
       "036vCgQ4uyApYOewjex5AfZE7nrFR2JqO2EDU1F+a96YQiMPSRTrCRg2twAEGOlkNH/f8Rc0AZE2\n",
       "JAksnlfRPC/AnxCK7vgrwEA8QdozoKdjTyQUKAo4oQKojv1BQjrBSuFcu+cglynDQsbGSQ5Jtep6\n",
       "oulh6J8rrJElMCDqpIBbK+LYzEJRwAkVwHR8VGmkk2PsRIs9ELncmWUZWzNpJffMD26qTW+3v479\n",
       "+ZTnoeAtfZ3EcGs8DpsdLgo4oQKIjvkR2JTjTDd168hsxqbHMfCi8Y1xs1JYO/3zx+hPQvB3glS4\n",
       "6EprsaCsKOCECtzv2JADu2dYHkpyRbr/ppdk6QKfleZTSmpgs4GmYlbBm7RcZbqPbhcF+QcVTcED\n",
       "W6maKonjMgMEW3NQFHBCBe53LI/Ggo8jbMKEBWzjmmXYLV8MOvHa+DUb8/2YJ9r48YOpaud//rbp\n",
       "3L4ZCPUgyeDwYMTi8qKAEyqQ8YW40yiMijSc+kPr7Mrowo00PZgbZzhr5r+kmL7ybs5P3we2Tm1s\n",
       "N9DOey/Tp1MKvkDIaug11j7tGPldLEEJ3VfvwuuFJNQgamRAsSOgrgI5n+1Ge2MWTGelJYkwbjgu\n",
       "lxums2Gmd+X9XXTDq2YgaFTDx6+dSwjGDt8Htm6QJd9YAdXY01Zgrn0qh/j7KTzFV/ptcmPJof3k\n",
       "VcolPI+MCcsC6ioA+FgseTSvcsigj9OhQ2Sl4kpaZxDkol1yju6Y7uw8X7NxR1Nv2vbDn/7nhgKG\n",
       "U1hgqn26HlavXlagecDnYVToq5QrATY2s1QWQKsqAPm6YSu9ZBaO/y5GBDcAxkY/bacCYgUgTkUE\n",
       "U+3T5Vm0Vn2fzQwJAydIkpiwzmHTAiUBrDPggfmLfKKbuSWebMMZqSTE9b2E+ZZNe0dXY3k+L2An\n",
       "3dcjuBGTf1p0LPUkArELhOjUTc5GjmfGUcLEgCxRwqnEWeH9RmSoc1dAgc93b6xkRv3WD9QCCX7P\n",
       "Lx6wXcgOzrVPTAiaEMk0zM1sF61OsaZYUlfBW744A+JqUwySeoqbdSpcAoctVgXuCijxtbEe4PpY\n",
       "Ci7+VavHBGOOoRuEDkWwKeWgTZ+m6LMPdPy4KRsR5VqrM0DpoKOFpJ6iJ8XQ1wx7wC4V3xVQ4jNd\n",
       "AFCT9uCmgud3rw2JJkH0EEDo1Z8tnb6mobeDCvR/C0Jbu4ZRGapSEGipImWa/M5eHAmHVQH3HB/v\n",
       "Jlrl/tVzCZrHd69tap+6ucjlGvWLBXjSORORxq/ttKDRC5rQW6unoCFURYp3JjV9cZIorArcFVDm\n",
       "czFWik0ifrVmXEYs717DyN3UPnXCxYLubWim5/XBSs2XfeGdfehwAV1Qsd2OLoEqQMqU2NdbXt3g\n",
       "q7Lsm6OUcYwAJF+Ho4+DvhWbSTd7o2ZqWkZ8yqVM97GtfVJm+Ex5B7cUSoZI2uUlp0y2pGKxFz5L\n",
       "mcGoI5YpA6boV8mNPJ3yI5sOdQptTeegOme1FuLCqrEDAefbDl+CA+4wjeKXcDpB6xs2aFxGNA+d\n",
       "bXH9Po490HZuXFGBfvljfKys5laSNqWvWXUkBhvSsj4COle4e14FzCm+lCg+MEPLFmaTAmtz85Sa\n",
       "hM/Lu9eaq09z4z7koZ3dTgEOVQCSJkoaMeqX2CQBT8eSv0tq6kwxsN3ALzYEp2zwW+6U141n13zN\n",
       "1sLv8rFDOLB4Skk8pf7e8ki/jFjevdZcfZob96HMebTD4RIQJE0U52f31vaa4Fur+9xE99aE1748\n",
       "giuzQwa07Ygzs5C6CtDjEH15cHnAt0EJB65gUQFEQmNYRkTCYIm/jzMq8D+oApA0UXRoxHg7fVzB\n",
       "16JY43ZG0K80242w3M5CClhA7gq49KC7fPooP7Q4gvuhzLSM+NCIuWc1wGwFCqgCkDRTWj06mSEY\n",
       "Wdtdr62ou/LpyA+yCHkQC5zl80QfvSC6wS3NjXhks4yINwe376Om5NexQIdv1JxsWFVQpe90xwhs\n",
       "YzPWT3DvYiNGIf88KKwenTLPkb6E1LDXzyt7+j6yvMA1FZjDiSEZqYadmUM6Onl3bWoj4VK9TKcK\n",
       "jo5CcCoQxHU+UYGXZPZDlHnvm/fbw/fBtwHRRRWYcCkRolmvgHMr0j06XUrF7LmyQUg9yN73hYc1\n",
       "vDt8prYW3H76SZVZtU2hJAeSICUOK1FiwYKs2Ynz292Eazzn3oAAw1jbF98fbwfd6TjUIlFHPlwF\n",
       "sge8kiBew/+hHGpaf/JSSueCkpdUgDl+RwX6CizXGTPNVDhImJQ7bqsAxH76NrQs4rqwUlj0UhMW\n",
       "OEhUYcPaXMBQQkuSVgZ7tWNXTJrYrXfxH60B+fOdrxe42xi2cCwXQIZK7ZRUOKykLHVcDgf9VpPa\n",
       "zz6jNlsrLr0nSEKNIsWqQC4g9IZadpHdcWKh0HE5HOQk15OPVoG8OlZChwlJErOEbrEVxGUBaeM4\n",
       "lY3RF/h0KRw0DMDNzz6WgNgcMzkIo1yVcikRgZxURQE83RLbzUcV+QwBV2sr8w0mzYf/gAElIHi2\n",
       "TZUUMNPCYHcTFQX0wYdY1UGc4AtxvRARFBmXmVQhY/HBRiAHu4Wtl5CE2xgasWcVFQQwdp2Pnd5T\n",
       "2PjPNQPAwhm4SgRJBrcxVGHPL4UCKPvjjttPPX1Kg5BIQCMLSQJnyiU2zgYC+rM7tP7Djo36TFdg\n",
       "FHDphf16kITcFUixJbm5ANGjunpBDqZjrT7yB40KRToOviVIcrgxRJ9YlgnQyjnHpPrbjvUnmgFT\n",
       "8IyFs1ggCXtSDDYkyASEPRxf65gW1wipo6754lY4mQ+SsMf3oY8vvSsg51OFSZDOebFf/KtlhZP5\n",
       "IAl9bqDD4sG7AjI+U1LlXi2++IhKCxfTIMlil/r4WwIyvlI5g+lTHuR7D6qV0MtDkkSnzEl8ScCW\n",
       "b3PQwgwZk69Q/mtVoPBqIQk9gA3DHjt3V8CWbzpoQc6/R+HHw5fU1/5+pYYGFpI0ficDx1bC3xWw\n",
       "5dsetLC2AuRrVYBCEw9J9IGlU0JeErDmyw5aWGOByL9VBQI5QQrkCV3j7whY880HLch5sdB/e0RQ\n",
       "+PE/SNKPbGdCO5O7AlZ82UELk2Kwb84LMKj8kMQemSEOK+WugBVfdtDCrAPOsW/VAANnFiSZZ7a1\n",
       "GqwtuSvAxK/O/lb9pK6TaNQPdWbeEUB/P05zgJbZCRJ5ykgS95IA8jMDe61wjjMk+cfmEHqPzl0B\n",
       "9mcGdp0krZNMfC5nItuXBMj2N9rlFxNOkOSTZZTKviRA/X6tsNQ4hHmQxOOT1VOCmHcEoDv+zFao\n",
       "noAk9WzelOuXBHD9G3CIBOwJ0obyf2JUfor0ZHv8AAAAAElFTkSuQmCC\n",
       "\" style=\"display:inline;vertical-align:middle;\" /></a><br>(see <a class=\"ProveItLink\" href=\"../__pv_it/9a3c81aff27ae296dfbec874136b14c56dd66d560/dependencies.ipynb\">dependencies</a>)<br>"
      ],
      "text/plain": [
       "alpha_l_eval: forall_{l in Integers} (alpha_{l} = ((1 / 2^{t}) * (Sum_{k=0}^{2^{t} - 1} (e^{(-(2 * pi * i * k * (b MOD_ADD l))) / 2^{t}} * e^{2 * pi * i * phase * k}))))"
      ]
     },
     "execution_count": 2,
     "metadata": {},
     "output_type": "execute_result"
    }
   ],
   "source": [
    "%proving alpha_l_eval presuming []"
   ]
  },
  {
   "cell_type": "code",
   "execution_count": null,
   "metadata": {},
   "outputs": [],
   "source": []
  }
 ],
 "metadata": {
  "kernelspec": {
   "display_name": "Python 3",
   "language": "python",
   "name": "python3"
  }
 },
 "nbformat": 4,
 "nbformat_minor": 0
}
