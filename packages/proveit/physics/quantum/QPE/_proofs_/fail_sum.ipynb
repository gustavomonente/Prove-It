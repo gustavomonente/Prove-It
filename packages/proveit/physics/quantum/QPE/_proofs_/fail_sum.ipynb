{
 "cells": [
  {
   "cell_type": "markdown",
   "metadata": {},
   "source": [
    "Proof of <a class=\"ProveItLink\" href=\"../../../../_context_.ipynb\">proveit</a>.<a class=\"ProveItLink\" href=\"../../../_context_.ipynb\">physics</a>.<a class=\"ProveItLink\" href=\"../../_context_.ipynb\">quantum</a>.<a class=\"ProveItLink\" href=\"../_context_.ipynb\">QPE</a>.<a class=\"ProveItLink\" href=\"../_theorems_.ipynb#fail_sum\">fail_sum</a> theorem\n",
    "========"
   ]
  },
  {
   "cell_type": "code",
   "execution_count": 1,
   "metadata": {},
   "outputs": [],
   "source": [
    "import proveit\n",
    "context = proveit.Context('..') # the theorem's context is in the parent directory"
   ]
  },
  {
   "cell_type": "code",
   "execution_count": 2,
   "metadata": {},
   "outputs": [
    {
     "name": "stdout",
     "output_type": "stream",
     "text": [
      "Beginning proof of fail_sum\n",
      "Recorded 'presuming' information\n",
      "Presuming previous theorems (applied transitively).\n"
     ]
    },
    {
     "data": {
      "text/html": [
       "<strong id=\"fail_sum\">fail_sum:</strong> <a class=\"ProveItLink\" href=\"../__pv_it/8d33363a7298a0099fe6e0cfdcbe5fe3441a72f10/expr.ipynb\"><img src=\"data:image/png;base64,iVBORw0KGgoAAAANSUhEUgAAAnQAAABMBAMAAAAW8TcVAAAAMFBMVEX///8QEBCIiIhmZma6urrM\n",
       "zMxUVFQiIiJERETc3Nzu7u6qqqp2dnaYmJgyMjIAAAAcRTyBAAAAAXRSTlMAQObYZgAADChJREFU\n",
       "eNqtXA1sHEcVHt//v12gQokifAqqFCIan2pQUVuaExVpkAq+pKKKqqq2IopCVcVuSBXSBnxJqeQG\n",
       "IR8KaiIQeKNKaUlIfWorCqpkX+KgQin4SkUBQckVShFEPTtxcrXzt+z/zc6+t7t3+56U+Ltbv8+z\n",
       "3868N/Nm7hgjtHCJxDsYjWrPuF79bEdcyREUENoGGu8NgRsSq7lcDDU6I3sEB2QWXSHxDkajWepj\n",
       "LheHK52RHS2igMziNRJvgEa8Wc8R/aaEX9sH9FKXX2fZ1Sggs9dovJ00GdurbYy97EWWw8NRZswR\n",
       "xqKn3KRj7+OAyJLXSLwBmm/wL+69VUkkXmMucgm9NFVv96e82dFdpRsqoYDIEn0k3k6aqDWCtV5y\n",
       "txLLPHNcE72y3+h8n7uNvfZ5X9LlGiggsuE6ibeTJmY947IhHfuvF91QFctGRqf+LdvJ4syXdJEr\n",
       "KCCy/TTeThr1Dmf2FHjpbvYMdmMevXuvkmlfYOzZwcHBqod07D84oAl1V0m8AZrDjKWrWla1pPuF\n",
       "F1/2IhbqjNG/m00VX8r66nXsbBEFNEuJFRJvgGazMo39dM02YDd7zuyWkQsbrQwzKx36lDGIB253\n",
       "JZsuo4DEehsk3jxNZEKxg2yTIt0teRZrNj/R/ECX7kFPwkkkCV+30C7/KWwFBSQ2myfxBmiUidxJ\n",
       "IU1s6rY56QvW/K7gu3GWkxOQ2GiFxBugeY6xrSwimdK9ovz7u3c3hvNEzOoub3XQug9xQGHnabwB\n",
       "GiWIZ/ecM3vdofHtjH3GkzAHD6lec9YYqUX8z2sXKiggsPQSiTdEE6ra5nWqecfVEDykZs1h+uCr\n",
       "v5R8N28gjwKKBHuFxBukKYsg7T37jl6HE6z5GPpluYP5egMFFGWTyyTeIM2XxQrKsz4oYWXGpW6a\n",
       "17uIAgKb7iPxBmnSYmBZ7yc+QaEs1V1Ezl1CAYENlUm8g9HYhiY0qCPL3cWTayggsPkaiXcwGlto\n",
       "h6orme5Wi6EWCghsskriHYzG1pGhiV2iu2QW+RAFBNZfIvHuD1xEVAtxWtSEAnlPhyFq7kktraTM\n",
       "nOMEBCZLJN4QzYLcNu8FkFqI03IglKu5N/2wZiqxBtK+YPdrKxrJJN4gzaysd8XUD9/u986Qe40t\n",
       "rx6o7DS12BFrvGJsz/WbRSYnCGyR8yTeIE1YtsJWdtwzFqqFOG36AOXAob6OWOPFpP4AFsx07QSB\n",
       "LXudxBumGW+ns7CPWfysNpZiUDI92+iQNa2P8FEz8TtBYMssk3jDNMNy+xE7Tz3czy+/VNX0QlwY\n",
       "mj7Ml91Z7xeJ4/padaM503GC4EtYvaGhJpAh/7Fb+/ET/dWvcG/kfllWbpdBso6rZ/hnULQKceBT\n",
       "4G8YYj0jEs8JkvNA66rvBJYu0bKanh1d/vrO2xw3lzL+aKyCenNAmPa5zaJE6YxCXAYa+5Mj7qyi\n",
       "dFmj0DJvjmge/E79+b/A0uWWrKZrNfL9ktignCFZiosrocds3hyw21G54Fs6sxAXguReKLizitLd\n",
       "w76oL03MlMKDI+qUIPjCMXe1Ld1wTahvaw2yqrKnrfd/vsvuzQEhA8tXfEtnFuKybelebEtXc2cV\n",
       "pIuee/Wgnl5MxXiQU/5OJvjqJ85JN6D8N1ATG7TXetgmOPRtwZsDYng/L/mVzizEZc8D0o3X3FkF\n",
       "6XpkWZ8InjUnNTzIvn78+GGCct2FtnSTau4uCg1KWrOonHHpmXOiNwfETi03fMc6c1ohQ9Ll3VnP\n",
       "IC9mFyGwPDGxL7h0PdfaTVfic3JJbENIjSt/ueG7Vgbc9p7DmwNina3/qqt0pz9Z9CVdf92dlefy\n",
       "lu4hxp72K9DDfqSLKu15pXafdhTmz+xYWW9DQml0+E9qwTerPerEU6wD6ZRlU9FFusPF1KpU9dgi\n",
       "L13EWzonK8/FSze0CIG7bDlPufPfK//KttqBeTT3gdW2+sRWLkT2XrGkC7XemFvPHv+C+noTixht\n",
       "iCu/rGertDZ0Q7skhzcHnIux1S7SKcPmyZAUGbNLJzmlk6vurDyXTbrLEIizkO1R/EBi0cExW+3g\n",
       "j+arx+31Ce5MbewpS7qEyp4yn07KkK5HuXLieXWsRvVL2X2S6M0B52LsKi5dWPmLd2bUSMBJl5zQ\n",
       "f/6h2Xy02TQOE+4oubPyXLx0R8oQyNSts1In5pRRNqM+sTG+dpD5Zt0hnVafmAF7nbZ5nNIz0c9s\n",
       "0h3Xu7WhavpfFf+9jk2N4dL1KLdx6nU1JnDSRX30Ogcrz8VLN3wZAsnGfeZq5Hs/khzSqbWDMWev\n",
       "0+oTvHTtWDesdq17r+bveauemrSkUwZsSn/kFnnk/ZLdmwMOe7OCSzetTDnmq6y34i1d3Z2V5/KW\n",
       "jj39NaafX7tLe88unVo7UGJhanBw8HZeOq0+MQOmCXVapyq2lr3Hpi3plMeYLmnbgVkrtEYnin7T\n",
       "hMsJ1zOsVxHkFGNbWKdpwsHKc3mnCfbSmHF+rQFKF8+nC84Bq9UnZsB53YKkSxdd+09OOiV4JP/N\n",
       "TioDJtyeliYf8jmvY8NVF+nCIyw7H2XrvKWzz+ucrDyXD+l68/r5tZQ+33pEkG6OJW8xuvXWpfaf\n",
       "UuPo0Qog3Z3ydl2630jbOelUyq98XM0CuRI2ocalS33EdSH2xjv18Gl2oFPpnKw8lw/pspJ+fi36\n",
       "rYmJA2xbwS5dVlgiG2fetCVpdB+4hjUS6wo7UGxL116IPYeugNE1LMv5Wf7fWLJJd95rDQuw8lw2\n",
       "6fpQoJ1fG4F6nVk7EGOPWp/gel1iSZQudYntynPSAct/0ZsDgk34KTot5nnpuDXs8XadqeDOynPx\n",
       "0oFrWGMoqufXfm3FOmXWmjzIjkjJg1btQDCtPjHDUOmOtUpvr/3p+tHCsZbRhoS96PTCHtUe8ydd\n",
       "ph1k0/jt3lHkpQOLTjbpAFaei5cOLDoZj0g9v5aoGtIlb23lo6vYlkp0lVU7EEyrT3DSxVriGhIr\n",
       "dSaAWUasJQJ0DvE3v8t/sNQ5OuLOii3/wVInb+uUWMfr4WXcr4b1cnboO0CBfYOtwP5XaJm1LAJs\n",
       "DhFxHue5icOhkpPTVmAvu7PehBBbfk4A69GBdKFA2zqWN0wzZSX21EbfJ4Bj0NgfKHfHOlpAAV92\n",
       "9n/Uk1vDpgNtJlreIE1qjYl+PCr7PliRgJL1bKM71skaCjhL3uy3cQ9wE8pooC1syxukyV1vavao\n",
       "LMv+T8nkoOXwcF93rAtVFAS2YMdX3E/BbOzozIm1NISWbtwZno5YnceJ+uk+nChXSLxlspPh0+Bx\n",
       "nZUuH62EAQIbL5J4B6OxjU1oUhW/2F1AkVFAYKN1Eu9RslMwZxtQ2u3uHKvzTEywMzZC2i+QeAej\n",
       "4W0eYgp19+mOzBIKKMZHg8Sb7vMI4NHaaHedxTpH6wQEFuyDBJ18HuFhn+ETjONaiEqNAle2uXA5\n",
       "P9YR7GMiwjRqhcRbB8cEAZFtuWjZJSnCE039s113Oy+o38aAZ+s+FBBY5hqJtw4i9t0WZFuO27gD\n",
       "FihwIWFeS0Nz9jdHEDnbi5ARFBBYpEXirQPhs6rAtlwMUNieS+FgNKTd8vftb5a9pButooDC+mm8\n",
       "NZCwT1GAbbmEl3Q9iy5vW8FF+DYGf60LfrficqlE4q2BXnFN4diW85RuCh5RYXV5Fu1jO9R9grr4\n",
       "bQyIJVsoILGhGom3BrawmHpr7XHl2JbzlG4AHlERtZ4SMtOL+G0MWE3sCgpIrKePxFsD68TLjm05\n",
       "T+neRd6/QXXOmwoI38aA5f8+FJBY6CKJtwYOmG9vVjuf5NiW29l8t9msu0mHfuuKusHe81WFQbH6\n",
       "SX9pwvxuFADQWIvGWwU3lmLqrX1gvufclvPqdWFsytqrxMDekPFC/DYGLBBLKCBaNEok3ipYzNuX\n",
       "T85tOU26NC7dNDbvyiiahs0NG/HbGJDZdQsFVAWyGom3Cu6wl56AbTlVOnXjDs0SWN0vBYzkskcw\n",
       "WUEBVbC7TOLtjybhcf2jeOqVOpWup4ACKltD472GQLosrn+Pc3B4VKbPSiigslmJxNsXTdJj+Ofx\n",
       "xW2ngyN1AQVkFiuTeAejMWYvLtd2dNqwBgro7Aka7ycCNyTiFsbjHa7chyoooLMtEon3lsCRJF50\n",
       "uRjt8Ktxd+OAsPBUIfGOBH6oJ1yvfqmzUFdFwP8BzTD6PKoBlqMAAAAASUVORK5CYII=\n",
       "\" style=\"display:inline;vertical-align:middle;\" /></a><br>(see <a class=\"ProveItLink\" href=\"../__pv_it/8d33363a7298a0099fe6e0cfdcbe5fe3441a72f10/dependencies.ipynb\">dependencies</a>)<br>"
      ],
      "text/plain": [
       "fail_sum: forall_{eps in {1...2^{t - 1} - 2}} ([Pfail](eps) <= ((Sum_{l=-2^{t - 1} + 1}^{-(eps + 1)} |alpha_{l}|^{2}) + (Sum_{l=eps + 1}^{2^{t - 1}} |alpha_{l}|^{2})))"
      ]
     },
     "execution_count": 2,
     "metadata": {},
     "output_type": "execute_result"
    }
   ],
   "source": [
    "%proving fail_sum presuming []"
   ]
  },
  {
   "cell_type": "code",
   "execution_count": null,
   "metadata": {},
   "outputs": [],
   "source": []
  }
 ],
 "metadata": {
  "kernelspec": {
   "display_name": "Python 3",
   "language": "python",
   "name": "python3"
  }
 },
 "nbformat": 4,
 "nbformat_minor": 0
}
