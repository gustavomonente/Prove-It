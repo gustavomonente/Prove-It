{
 "cells": [
  {
   "cell_type": "markdown",
   "metadata": {},
   "source": [
    "Proof of <a class=\"ProveItLink\" href=\"../../../../_context_.ipynb\">proveit</a>.<a class=\"ProveItLink\" href=\"../../../_context_.ipynb\">physics</a>.<a class=\"ProveItLink\" href=\"../../_context_.ipynb\">quantum</a>.<a class=\"ProveItLink\" href=\"../_context_.ipynb\">QPE</a>.<a class=\"ProveItLink\" href=\"../_theorems_.ipynb#posDomainInFullDomain\">posDomainInFullDomain</a> theorem\n",
    "========"
   ]
  },
  {
   "cell_type": "code",
   "execution_count": 1,
   "metadata": {},
   "outputs": [],
   "source": [
    "import proveit\n",
    "context = proveit.Context('..') # the theorem's context is in the parent directory"
   ]
  },
  {
   "cell_type": "code",
   "execution_count": 2,
   "metadata": {},
   "outputs": [
    {
     "name": "stdout",
     "output_type": "stream",
     "text": [
      "Beginning proof of posDomainInFullDomain\n",
      "Recorded 'presuming' information\n",
      "Presuming previous theorems (applied transitively).\n"
     ]
    },
    {
     "data": {
      "text/html": [
       "<strong id=\"posDomainInFullDomain\">posDomainInFullDomain:</strong> <a class=\"ProveItLink\" href=\"../__pv_it/fc9412e757775e60c2111aced740dfb774f11cc50/expr.ipynb\"><img src=\"data:image/png;base64,iVBORw0KGgoAAAANSUhEUgAAAbwAAAAcBAMAAADo9Re2AAAAMFBMVEX///8QEBCIiIhmZma6urrM\n",
       "zMxUVFQiIiJERETc3Nzu7u6qqqp2dnaYmJgyMjIAAAAcRTyBAAAAAXRSTlMAQObYZgAABNpJREFU\n",
       "WMPNmF9oHEUYwL/c7e792707pH2oQj3pg/VPcWlQS03giqDQF68taB+KnkUxgkhotadSYghIrvUl\n",
       "GohR0KwUhEaSHITDgli3RK0aiwcVH0RpQFBQPIoYaPLQ85uZ/b+zl7295HRg5yaT+Wbnt9+f+WYA\n",
       "/q/laM+EeliyJaNx5MEtFjLLc5WJTVm5WAwxaMFqPRp+Zo5QAR+hcjqE8PAmKebxMIM+iYLHEXqE\n",
       "1lM9xPuD13m14fpzcuT+zvE8Qkfuxkpu9BgvXuB0zuuejj+jaM8jdIC44msMb4X8/NIeL0t+lEZ3\n",
       "eDMawJ2rns5rjva5fW8ArHWIxxOKE6ZdDG850G5sPLlGwpPWHd4S+UTXPZ2X7Wa6DN8XxTwIVSxn\n",
       "eXiZW31dXCGZ2NsMw5vGOjXaHo/+f7pL47yNfNfRYLy4Bn35WPm8T3sZw6o/+mrdb/E8IYqXqFE8\n",
       "ohSqnXa+R7S73B1diqytj61UGa+M+PD6hkFaixd0Xzg08UDx43GFKB79klOgfDs7+85GoeXn2dnz\n",
       "XUYYJU8shu6/4pjG0V52HaRV8bi5Q0++fjwEHleI4sXyLHLeqFY5u5/uwstVq+N6p0CSy1mpv7NI\n",
       "Mq/xjJMY1DpvnnZ4XCGZkAnrDO9ZgDN+IdWFJ5UgGTZ1SZWNJOWSCy9JjGWINp+3e190iT6mR8Dz\n",
       "C9EAJq4yvIchvbIRnqDCPPq2GffEKwF5rLxvPyjmahIaiPfYZkSob6FNO75ktrsmOgUR8DhCv5Kv\n",
       "/A/DS0DMsaOJJ7+AO8pePHz2IKTpfm+59OLIY79BdVwetPFAsj5tAmcU6QYl7mxioa1xNIl0kxZ0\n",
       "n7jqX6ncbP6O48uBeDwh6QROa+DJjYTZ/fHSIFyQtbi21H+yv+bEu0JqWWVD4KI1Udm9Ab8KT01Y\n",
       "sxG8jGUYWdVwd+c2JLi0twsiaI8n9JtDe6kVM9dV3nxPg88KquwzTvhARJBkgw1x4I268V6CmSJa\n",
       "8bn+fvw6brwkmaBM1Z635x5yYqjwbsd4PCHme2tGznnmGawuVlT0Qiz1+tscvOQUnmZyE2wIxSMC\n",
       "PjyAz7VFhas9CYfmGtRW93K3dTgGcFfHeDwhV+SERVx/pgYlln7W5bljfrwM8a9DwIYQPCrAwTsB\n",
       "k8brxPsecuIRw8wdpCtN1Hh4qdPfPTDcFi9GVpy+aVYLKwFCdN9TjH0Pcigeu1eHNEWqg77kx4O/\n",
       "8dltDIEXmAAHT/Y4enqH5Wa4NmWAdQ4d5G3rrVarLV786ZuDZqQkVaIcIOTMWvClaESxvQUQX6lW\n",
       "xxDvfRIcSh68n/AZM4YcVZmA1GzubP7lwrvqfdUTVujcZncKX3OSssCSKXSYT1C8bMFx3puzwmAd\n",
       "hMMB573tJTaEaG+OG1oEXSgFaA8GeCu5FGK1aS0K3oLmwDsMggZfktYPmGEG4F0vsCHE96iAgYd5\n",
       "7LSWOovVk59ecK/F9j3iuf5ybSuuo2j+96PztK5U8MSbRJcXRoogBeANFOkQikcFGB7JYw9NiDuw\n",
       "ur3VgiA8iXcsyepbgHeA3Fm97L+M2I2OtcFlBB3i2ffa+Y2Nx0v9MGw3Np2O3rUoevS7lkh4sNjL\n",
       "+9Lp0DdlFd8954dWx0bHCMlhfJliD/H203vOU9FO3nvC3twuw39b/gVZVnD2U4MsxQAAAABJRU5E\n",
       "rkJggg==\n",
       "\" style=\"display:inline;vertical-align:middle;\" /></a><br>(see <a class=\"ProveItLink\" href=\"../__pv_it/fc9412e757775e60c2111aced740dfb774f11cc50/dependencies.ipynb\">dependencies</a>)<br>"
      ],
      "text/plain": [
       "posDomainInFullDomain: forall_{eps in NaturalsPos} [forall_{l in {eps + 1...2^{t - 1}}} (l in {-2^{t - 1} + 1...2^{t - 1}})]"
      ]
     },
     "execution_count": 2,
     "metadata": {},
     "output_type": "execute_result"
    }
   ],
   "source": [
    "%proving posDomainInFullDomain presuming []"
   ]
  },
  {
   "cell_type": "code",
   "execution_count": null,
   "metadata": {},
   "outputs": [],
   "source": []
  }
 ],
 "metadata": {
  "kernelspec": {
   "display_name": "Python 3",
   "language": "python",
   "name": "python3"
  }
 },
 "nbformat": 4,
 "nbformat_minor": 0
}
