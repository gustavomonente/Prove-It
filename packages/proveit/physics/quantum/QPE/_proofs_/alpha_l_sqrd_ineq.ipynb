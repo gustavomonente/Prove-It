{
 "cells": [
  {
   "cell_type": "markdown",
   "metadata": {},
   "source": [
    "Proof of <a class=\"ProveItLink\" href=\"../../../../_context_.ipynb\">proveit</a>.<a class=\"ProveItLink\" href=\"../../../_context_.ipynb\">physics</a>.<a class=\"ProveItLink\" href=\"../../_context_.ipynb\">quantum</a>.<a class=\"ProveItLink\" href=\"../_context_.ipynb\">QPE</a>.<a class=\"ProveItLink\" href=\"../_theorems_.ipynb#alpha_l_sqrd_ineq\">alpha_l_sqrd_ineq</a> theorem\n",
    "========"
   ]
  },
  {
   "cell_type": "code",
   "execution_count": 1,
   "metadata": {},
   "outputs": [],
   "source": [
    "import proveit\n",
    "context = proveit.Context('..') # the theorem's context is in the parent directory"
   ]
  },
  {
   "cell_type": "code",
   "execution_count": 2,
   "metadata": {},
   "outputs": [
    {
     "name": "stdout",
     "output_type": "stream",
     "text": [
      "Beginning proof of alpha_l_sqrd_ineq\n",
      "Recorded 'presuming' information\n",
      "Presuming previous theorems (applied transitively).\n"
     ]
    },
    {
     "data": {
      "text/html": [
       "<strong id=\"alpha_l_sqrd_ineq\">alpha_l_sqrd_ineq:</strong> <a class=\"ProveItLink\" href=\"../__pv_it/087cb2c916e52678424464a34825ed626c4e1aa30/expr.ipynb\"><img src=\"data:image/png;base64,iVBORw0KGgoAAAANSUhEUgAAAc0AAAA/CAMAAAC1tmOJAAAAOVBMVEX///8oKCgUFBQNDQ0QEBCI\n",
       "iIhmZma6urrMzMxUVFQiIiJERETc3Nzu7u6qqqp2dnaYmJgyMjIAAAArQGDrAAAAAXRSTlMAQObY\n",
       "ZgAABvlJREFUeNrtnQlzhKwZgGk/QO7r///YyrWLCsqmul2lzCRmJoQVH3hvDACDNIMeOrEJg+Ga\n",
       "Yo+dGkejwRSQPHZuEk6D0WRPXr8TFEPB1PbR08N2JJjCPVsWSacGosn502UPHMiedU/XK9KNY9da\n",
       "/vgpaicHgUmc+T1xAc99+uIH53hNo+7X5CLV9Oy9ZAcxa6Wjv3dT5myayI3hc5pfdE9OpymdHsM9\n",
       "cWAAmsCO4aQ4PgRN7cgAMKd+EaQxx/KuNKchXE7drTb1bEdQe1ea0vEBaNru58aE903FTWkCNoLi\n",
       "dN1pajZ9Lz5/AU06gI8iPhNA6ksRsgtoogHCQcoVZTOk9Qhfv/hWVhudT9MM4HGi0tTTLTGaf6G/\n",
       "UzGFKXQWn7yVJh/zehtx5ok7FZeJ3COa5s7lb8LNKPVrtvaJSRVamjUHNKdZVE01HxyxO3jmbjZq\n",
       "RbYSxCP9FVtaevs0iVVK8c2SlvomJWLQFVtSP7K2BJbmxj5N6Hxbyy/MzJ2marT0TTyzfHiB59AK\n",
       "2ugiau+zxlkQQ477xvQ4NDVCeDqmSbi9U61fpEmDiuenRBKo/JVB2jSFD/pIKIBUQMbChCpNzu+V\n",
       "lbAhixKOpcjgqcht1QXRW72Rkw2CrvtWy11I1b46HISgpZQrnvjyPkN3pJHuoxmlEMcAzX84sSZN\n",
       "xNCtrHwec2J+Qigym9baU1T4vJIN23NXbNubYFxTyT2D0AWfck2U94n9JMzcVW1LRqSDa5o42kXY\n",
       "Av2KFzT0pmFaVtbHL7UFzTALv/vYIhgilcYxVqEqKaKcbNBsE88oaNLqo/9okOWH88XGLiyV8Dd+\n",
       "JttwWYUmjONoGEhxs2seKYvFffZmVCQWkPTs4+QMV0JK0KSZkw1bSgVNfkCzY5A2Tf5eAcFDlEHK\n",
       "QLWluZa0uYBGxyBRdEd129qZLP1F9VnJrCeaswVE03TC5MrznaqRvvXJhqRrcWzqM5o9g7RpvmMC\n",
       "U4AT85IV13CrN1OqIRb7EwgOaHq1z3/OtK1l1m2qJVFZs8XJWXBM08dHFAbmz3uzZ5AmzXCfNHhW\n",
       "/8xfZqYpQTUDsqWJgxgy2oF58ogf0/TC/Ne2Zy2znmmCnGgIk5Nl7JnqxkYPcRK0HI8gh1U/zcNB\n",
       "5OJgYkETvX5Odm+cGeyhCbQ2PsGANXqdS9Z3O0NWy6yzTNOk3RAmR1hY9P5nwhPZiecWeh4kG6id\n",
       "G/TfzA7NjowFKWMaBc3X4XDJs370M6kUDhxE9iAht6SZ9dQ2erCZHD3am81kQ10w1ml2DNLcm+E+\n",
       "/Zr597/SmmnYtPMUd2k6gG5Lc61XoKtOTpN9vdlINjRpxjdICP8X7289gzT1ZoJQRB4Qrvqb2aVu\n",
       "0cRJ+FZoSsve7XK9aT/+hE1mfZMxSJPjapdmNdnQpCkwc9RLbb/R3t96BmnSTPcJitWAdLVw4KNs\n",
       "9QlNmD/1k80nMSE1g1ZJSCnR1FOyWc+Gkt5s27QdzuwJmsHuD6iOMwWL2ifU2gDo451B6ko/6nHE\n",
       "jgrPY7/ZL0vB4OYLcIyagnihCWO+bvUU6ahn+2maHfemLqp9YvWDZzY+bHMkuUI/SUGs3p7Fl8V1\n",
       "/r5LCI/YLP9bym5Rz9ZliHwkc/77R9aO06Z127GHrjnvhyDdM9PxwVKO/WIwB3rfuZlGfeU8NCqv\n",
       "FT3VVYEp0P8q905W1RB/K8FyV5xFEMbSllMP6o5vpR8M4jVUNTcrm6f8GwmX14qFMMCxInbFgT8N\n",
       "qjRz/YY4eLCpXzxUQefOpH3qwGaNmjPnrQy6dc+HecmSNaJOEyXxcaQ2EV55xIgCWd2dEqGs+LPJ\n",
       "3qr5dWwAmur8gn45y9EqzZzZoQdqs8gAxROJGIGqsUasfJ0mNnZ53RgII7wL84LXHvgHX9B8W5ZM\n",
       "dapNtTKOCS18JFmYoMRvdAJKJ6bhzKAx3ufFzpZA3psvaMq3nZVeRlkkN6QtGln1C4oAb5ffa7xg\n",
       "GpNEkziwuK7t/xHUpnfozq0ekEEmFnvz7XomSujoJOWbJsJ7riw0gZ7soQn5EDTFyUfIFfVpdQcx\n",
       "aklQToHsk7Qq5ARFU0mEiqckW6bVde3JDPL6J3uFsQd3rKD5weouK4iEbqgpOwLN3HnfCqKjvJrN\n",
       "XOFWVwVbch7cJPfFQeonmNYa0/Zi83GfKX8Q1svrCvwwb3c/P1SruXN0K9qSEDT44AOnHD0IbUd0\n",
       "+KL8l4ghy+v1K/ZH7SD4LSnExLn9SiXKlteVNhno7dHwW2dseo/z/uHY7zLqvrGByDg0zddMhN7T\n",
       "PB+f+lllxNZbc6j/iWK/tTklP7ffBn91GSgoR6JJvvYunT9WkhxKF7G8rjSJAUM18+QEA6VgsEbx\n",
       "/1fqk1TnU1MMYrD/VBTtjqfa8GWY9z+c6VhLhAzY8gAAAABJRU5ErkJggg==\n",
       "\" style=\"display:inline;vertical-align:middle;\" /></a><br>(see <a class=\"ProveItLink\" href=\"../__pv_it/087cb2c916e52678424464a34825ed626c4e1aa30/dependencies.ipynb\">dependencies</a>)<br>"
      ],
      "text/plain": [
       "alpha_l_sqrd_ineq: forall_{l in {-2^{t - 1} + 1...2^{t - 1}} | l != 0} (|alpha_{l}|^{2} <= (1 / (4 * (l - (2^{t} * delta))^{2})))"
      ]
     },
     "execution_count": 2,
     "metadata": {},
     "output_type": "execute_result"
    }
   ],
   "source": [
    "%proving alpha_l_sqrd_ineq presuming []"
   ]
  },
  {
   "cell_type": "code",
   "execution_count": null,
   "metadata": {},
   "outputs": [],
   "source": []
  }
 ],
 "metadata": {
  "kernelspec": {
   "display_name": "Python 3",
   "language": "python",
   "name": "python3"
  }
 },
 "nbformat": 4,
 "nbformat_minor": 0
}
