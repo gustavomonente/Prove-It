{
 "cells": [
  {
   "cell_type": "markdown",
   "metadata": {},
   "source": [
    "Proof of <a class=\"ProveItLink\" href=\"../../../../_context_.ipynb\">proveit</a>.<a class=\"ProveItLink\" href=\"../../../_context_.ipynb\">physics</a>.<a class=\"ProveItLink\" href=\"../../_context_.ipynb\">quantum</a>.<a class=\"ProveItLink\" href=\"../_context_.ipynb\">QPE</a>.<a class=\"ProveItLink\" href=\"../_theorems_.ipynb#deltaDiffInInterval\">deltaDiffInInterval</a> theorem\n",
    "========"
   ]
  },
  {
   "cell_type": "code",
   "execution_count": 1,
   "metadata": {},
   "outputs": [],
   "source": [
    "import proveit\n",
    "context = proveit.Context('..') # the theorem's context is in the parent directory"
   ]
  },
  {
   "cell_type": "code",
   "execution_count": 2,
   "metadata": {},
   "outputs": [
    {
     "name": "stdout",
     "output_type": "stream",
     "text": [
      "Beginning proof of deltaDiffInInterval\n",
      "Recorded 'presuming' information\n",
      "Presuming previous theorems (applied transitively).\n"
     ]
    },
    {
     "data": {
      "text/html": [
       "<strong id=\"deltaDiffInInterval\">deltaDiffInInterval:</strong> <a class=\"ProveItLink\" href=\"../__pv_it/ee592a78ff0840f56b0a4a24779417f19ac166890/expr.ipynb\"><img src=\"data:image/png;base64,iVBORw0KGgoAAAANSUhEUgAAAYsAAAAyBAMAAABffOqxAAAAMFBMVEX///8QEBCIiIhmZma6urrM\n",
       "zMxUVFQiIiJERETc3Nzu7u6qqqp2dnaYmJgyMjIAAAAcRTyBAAAAAXRSTlMAQObYZgAABiZJREFU\n",
       "aN7NWl2ME1UUPv2ZTmc6bVejKEah0aghPmylCWxQQqMxEmKkmAgvROpfRGPYVYwbzUYaidmCGhtN\n",
       "BJ4YJNkHHmAJGiWYsIrxD5Jt9IUX3TWEmGCybIBFuvysd6b3ztwzczvTFi7xPPSbn/Pdud+9c8+5\n",
       "904BJJpRxCg2vSy8HJmbG2uDNQLS7YQHW9jTYhmHd5ltsOKTslVEyxh99uCMDWlhTSKl4NIZ60/Z\n",
       "Mg560F+T6SZ+FC4jdRdfsMmxkmNyVei3YfRbrNLEPcUwGSM/zrrlvt5vcqzWxd8YS+YxCmqao03d\n",
       "E9ob6VnuZMLkWQflyjhqYvTbblbToW5kMJYq963a7EG/TTiKa93IoKxUQ6aKdAOjwDayAzXfjQzG\n",
       "2ixThlrBKLBbhZVsWwa7NmFKlLGhiNFvitNP+rluZDDWgZxEGQ97UJAe3QA11Y0MxsrITOTzPCiI\n",
       "yGXnbeitdSODsqISx7hyFaPAsnUnVO6udyODsrSrEidUDQhrquwq56WOlENkRHkZvSZmzZOYw3sw\n",
       "PvaVPyQ/6noPBMuIPX9tuXOyZOGpOmINA9jD448bLyNSQZj+8pOgGasx3fEMl2ONAxy38MyNl3Eg\n",
       "jzABemCunOlGBmNNlGCnNUYqEtJGDqFRDw4I57qRwVjkGRkyXIxRCRPDUYTx4KCon2cNPDz4Xtsy\n",
       "GIv0ePrXfft2SBjiEyWMfwe7X6Tt+77ZQW8wVpZErEvV6pAEGSyhUfyiN3g6fakJ+81OXirGypJB\n",
       "8TLAtnDCa6EeCTxBGzd5VM4kpwPZC5rwakdjg7EiJNw+Dvok6P3sznpnLB7basLn7Kq7FFbceGD0\n",
       "LQONpiDlOxOUh9wnrDB53FMSxCLe7mhCpTMZlBUh+UOFKKn5k/SG5tTXqCUm4Td29q6jouBmql9g\n",
       "E6RZJlZJfRPum9OPsA8US4Y+ZZtVwewctWYvvdEsfIF125Wx33Y/TZ1piT4WqD1WKFStpifP+LZQ\n",
       "h5QzW1RrSsPYXOdlJOyY48p4BzbUflrOyXDZHhn3gDIb2K7NCmkd9gYnQ5tcS44+Bjh5eB9fEbWo\n",
       "XYAB1BtJj4y3YHdRBbEM9FLpM5AeCKzQYBN6OpNBWapV9raXyE8D4na65SoCqVlr1BQKhUdayLC2\n",
       "C/YD7CUuo14Z4zUeZyBZb2ewLu56iMMhUi+lBzLglaHmUvl6UG8AvAmH0uLe6C3x+D2sFFfkNF6V\n",
       "qKNBMvRr4jWNPdPNkkEarcDeZtjkwvsx0BbTNn3m/KhIhpGHzxbRod9L+kyf76a/Io/GveLNKp2F\n",
       "YZqP9Y2rgnpj0LPqpqysVXia3EvmYF21Ws0pW8mFleSoakLa8+RNU39NTdWRjN+9z1nntMLRIka/\n",
       "gkK1BClamH6FXo3/LJyM2M6kt20Ze/s+wKwD7KmRZ5thiO+Np+AJ7xrC0xvxsThuMq43NtQx+mwE\n",
       "jAva0lOltqaGlrPVqfZDyjBe9E4NabdEwSjhsaH8c2S7SAZpQG077DTJz3NHvsG9zI2NbB6jz5YB\n",
       "3AIZOhZSl4Nl2M5kSmMvoUyI9CAWm4ZC7AeAD3FFIizHYBna0os5ZT6sqZGfhU5K8stQJzGKMnB/\n",
       "LUvHntEIlmE7A9Rpzk40EGuc35CIkrGBIpV/YRoWADl2bBqjz86a0F9awyZkIas/25keZ2YhMYNY\n",
       "/UEVuT4ZbCsjHZC9t5gP6DW05A1YNm3h3l91FrHu9MeP+QG11EJnuW6AUC5jFFj8Ciw26FZNLkxG\n",
       "/Ap3snqMZ2mCPcdP69exN3W8o+02tQxr729zu81ydu3tm7bdBis86LeCezgctvnJO0Msj1jJAYky\n",
       "Vhcx+jfkuFAcuhXNO8N9mJXNSZTBvj6orRLHIdBqoj1BoQzOGVJ52MWzek2JMsJClTIG0VrrvU8s\n",
       "g3eG9QCLbtLeJ7G7PeixHSeOveJMwMI+mvHO2tCJJQMcS+5Hs7BPmGfn5v5lx6cgRAbvnCFr2AGO\n",
       "lclLlcGKD38M+nbf9rKJsQ6aUmVot2NsbeGf9wNYsj/vw9cebGkvQjcyKCuRlywjVsbYMqZVupHB\n",
       "WCdBtr3gwRb2P/8jEsSKGFusZsUbq2F/C6OsEVvrf3DR6X82/VwgAAAAAElFTkSuQmCC\n",
       "\" style=\"display:inline;vertical-align:middle;\" /></a><br>(see <a class=\"ProveItLink\" href=\"../__pv_it/ee592a78ff0840f56b0a4a24779417f19ac166890/dependencies.ipynb\">dependencies</a>)<br>"
      ],
      "text/plain": [
       "deltaDiffInInterval: forall_{l in {-2^{t - 1} + 1...2^{t - 1}}} ((delta - (l / 2^{t})) in [-(1 / 2),1 / 2))"
      ]
     },
     "execution_count": 2,
     "metadata": {},
     "output_type": "execute_result"
    }
   ],
   "source": [
    "%proving deltaDiffInInterval presuming []"
   ]
  },
  {
   "cell_type": "code",
   "execution_count": null,
   "metadata": {},
   "outputs": [],
   "source": []
  }
 ],
 "metadata": {
  "kernelspec": {
   "display_name": "Python 3",
   "language": "python",
   "name": "python3"
  }
 },
 "nbformat": 4,
 "nbformat_minor": 0
}
