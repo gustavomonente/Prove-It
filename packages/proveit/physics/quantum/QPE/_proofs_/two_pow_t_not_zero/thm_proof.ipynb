{
 "cells": [
  {
   "cell_type": "markdown",
   "metadata": {},
   "source": [
    "Proof of <a class=\"ProveItLink\" href=\"../../../../../_theory_.ipynb\">proveit</a>.<a class=\"ProveItLink\" href=\"../../../../_theory_.ipynb\">physics</a>.<a class=\"ProveItLink\" href=\"../../../_theory_.ipynb\">quantum</a>.<a class=\"ProveItLink\" href=\"../../_theory_.ipynb\">QPE</a>.<a class=\"ProveItLink\" href=\"../../_theorems_.ipynb#two_pow_t_not_zero\">two_pow_t_not_zero</a> theorem\n",
    "========"
   ]
  },
  {
   "cell_type": "code",
   "execution_count": null,
   "metadata": {},
   "outputs": [],
   "source": [
    "import proveit\n",
    "from proveit._common_ import a, b\n",
    "from proveit.number import two\n",
    "from proveit.number.exponentiation._theorems_ import expNotEqZero\n",
    "from proveit.physics.quantum.QPE._axioms_ import tInNaturalPos\n",
    "from proveit.physics.quantum.QPE._common_ import t_\n",
    "theory = proveit.Theory() # the theorem's theory"
   ]
  },
  {
   "cell_type": "code",
   "execution_count": null,
   "metadata": {},
   "outputs": [],
   "source": [
    "%proving two_pow_t_not_zero"
   ]
  },
  {
   "cell_type": "code",
   "execution_count": null,
   "metadata": {},
   "outputs": [],
   "source": [
    "tInNaturalPos"
   ]
  },
  {
   "cell_type": "code",
   "execution_count": null,
   "metadata": {},
   "outputs": [],
   "source": [
    "expNotEqZero"
   ]
  },
  {
   "cell_type": "code",
   "execution_count": null,
   "metadata": {},
   "outputs": [],
   "source": [
    "expNotEqZeroSpec = expNotEqZero.instantiate({a:two, b:t_})"
   ]
  },
  {
   "cell_type": "code",
   "execution_count": null,
   "metadata": {},
   "outputs": [],
   "source": [
    "%qed"
   ]
  },
  {
   "cell_type": "code",
   "execution_count": null,
   "metadata": {},
   "outputs": [],
   "source": []
  }
 ],
 "metadata": {
  "kernelspec": {
   "display_name": "Python 3",
   "language": "python",
   "name": "python3"
  }
 },
 "nbformat": 4,
 "nbformat_minor": 0
}
