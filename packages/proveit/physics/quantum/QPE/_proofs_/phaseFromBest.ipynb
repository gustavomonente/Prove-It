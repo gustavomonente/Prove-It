{
 "cells": [
  {
   "cell_type": "markdown",
   "metadata": {},
   "source": [
    "Proof of <a class=\"ProveItLink\" href=\"../../../../_context_.ipynb\">proveit</a>.<a class=\"ProveItLink\" href=\"../../../_context_.ipynb\">physics</a>.<a class=\"ProveItLink\" href=\"../../_context_.ipynb\">quantum</a>.<a class=\"ProveItLink\" href=\"../_context_.ipynb\">QPE</a>.<a class=\"ProveItLink\" href=\"../_theorems_.ipynb#phaseFromBest\">phaseFromBest</a> theorem\n",
    "========"
   ]
  },
  {
   "cell_type": "code",
   "execution_count": 1,
   "metadata": {},
   "outputs": [],
   "source": [
    "import proveit\n",
    "context = proveit.Context('..') # the theorem's context is in the parent directory"
   ]
  },
  {
   "cell_type": "code",
   "execution_count": 2,
   "metadata": {},
   "outputs": [
    {
     "name": "stdout",
     "output_type": "stream",
     "text": [
      "Beginning proof of phaseFromBest\n",
      "Recorded 'presuming' information\n",
      "Presuming previous theorems (applied transitively).\n"
     ]
    },
    {
     "data": {
      "text/html": [
       "<strong id=\"phaseFromBest\">phaseFromBest:</strong> <a class=\"ProveItLink\" href=\"../__pv_it/c7b072ca16225ad6fcae2ec303ac2c98811520ab0/expr.ipynb\"><img src=\"data:image/png;base64,iVBORw0KGgoAAAANSUhEUgAAAHwAAAAyBAMAAABsYqKRAAAAMFBMVEX///8QEBAiIiKIiIjc3Nxm\n",
       "ZmZUVFSYmJh2dnbu7u5EREQyMjK6urrMzMyqqqoAAABb/SrcAAAAAXRSTlMAQObYZgAAAqVJREFU\n",
       "SMelV0toE1EUPUk6M5mZTlJcWEWFVFAKughU3daFrjsiCBY0gdKFK4O4FBp00YKLTPEDrlJd6UIs\n",
       "ghUZ1IA7RTJLwUWr4k5JwfiJktZJ3psaJnPvGL2LeZPce97LO/cbgJR0DYzoRfCywKtf8epUd3v9\n",
       "do7Qa8ss/J1YTJsyuMvebbdYs2uUxSLHjSFPrTuURWaEgTck7DJtMs7A98l1ZeIsecJREq01JQW/\n",
       "nCpllSRZRXJJXrCFbJ46okXCVyWtyjKqZco5X0j4CWy5vU66ziXh2+WaLaFAum6SYsX6HsBr+ih5\n",
       "xlSJCnhJPNSSQfOboLLOCCJKPzkfpX/xuWtFpVNiiU0n7dMDr1MR1gl91WbhKvTuLm3K7dGh8iEo\n",
       "RIIzi3J8Y42FDwtm9a8EfM5j4Xgolm/IeBh+fu8vAyKAX5sUgfwTaeDtpdnOfdyuCM4qDge3nhiC\n",
       "8124CBR9JkNSYOGLnuR8G2xoDpSw3XmxbAbS+XDVdcdcd8V/m4Yl4GMoI+XfhYATp4/Cakm4jdfA\n",
       "6T93L8b/eL0NTYTrXsz7G9zsc1OFZb4NoySpMx8//XiwP5N7NzS9EPwKXm5VhQubEQV3rrcFVMOn\n",
       "pydkSvhRp0TlfEPCb0zfB973R53M5h9+bkbF52op6MKV2vEDZ4Kvb4Vqkp8y9SiOsuLXKQ4SI3hG\n",
       "tqkN4EhkmRfdN5GD2kSTHCAojSJi2mxBbVtkK1TXYxtIspUqXh+0pFkbwVu9rOSpNjOVj2sT2A9r\n",
       "xhu0TaAQkMDVzDukpi7j5jBXcOkWKXt3xsYxevaiG7Sk/g1waPAe5cuOzmNofOFUDv8wnIjRyPTr\n",
       "FA1/xNBi2jEzKzI7GeXQnjg4Oxb2ZDkhs6xWiZm4Nb6HY+a/BnIo/N+Bc53nb0JmtldVtDmDAAAA\n",
       "AElFTkSuQmCC\n",
       "\" style=\"display:inline;vertical-align:middle;\" /></a><br>(see <a class=\"ProveItLink\" href=\"../__pv_it/c7b072ca16225ad6fcae2ec303ac2c98811520ab0/dependencies.ipynb\">dependencies</a>)<br>"
      ],
      "text/plain": [
       "phaseFromBest: phase = ((b / 2^{t}) + delta)"
      ]
     },
     "execution_count": 2,
     "metadata": {},
     "output_type": "execute_result"
    }
   ],
   "source": [
    "%proving phaseFromBest presuming []"
   ]
  },
  {
   "cell_type": "code",
   "execution_count": null,
   "metadata": {},
   "outputs": [],
   "source": []
  }
 ],
 "metadata": {
  "kernelspec": {
   "display_name": "Python 3",
   "language": "python",
   "name": "python3"
  }
 },
 "nbformat": 4,
 "nbformat_minor": 0
}
