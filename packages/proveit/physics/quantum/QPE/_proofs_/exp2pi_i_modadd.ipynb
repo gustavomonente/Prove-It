{
 "cells": [
  {
   "cell_type": "markdown",
   "metadata": {},
   "source": [
    "Proof of <a class=\"ProveItLink\" href=\"../../../../_context_.ipynb\">proveit</a>.<a class=\"ProveItLink\" href=\"../../../_context_.ipynb\">physics</a>.<a class=\"ProveItLink\" href=\"../../_context_.ipynb\">quantum</a>.<a class=\"ProveItLink\" href=\"../_context_.ipynb\">QPE</a>.<a class=\"ProveItLink\" href=\"../_theorems_.ipynb#exp2pi_i_modadd\">exp2pi_i_modadd</a> theorem\n",
    "========"
   ]
  },
  {
   "cell_type": "code",
   "execution_count": 1,
   "metadata": {},
   "outputs": [],
   "source": [
    "import proveit\n",
    "context = proveit.Context('..') # the theorem's context is in the parent directory"
   ]
  },
  {
   "cell_type": "code",
   "execution_count": 2,
   "metadata": {},
   "outputs": [
    {
     "name": "stdout",
     "output_type": "stream",
     "text": [
      "Beginning proof of exp2pi_i_modadd\n",
      "Recorded 'presuming' information\n",
      "Presuming previous theorems (applied transitively).\n"
     ]
    },
    {
     "data": {
      "text/html": [
       "<strong id=\"exp2pi_i_modadd\">exp2pi_i_modadd:</strong> <a class=\"ProveItLink\" href=\"../__pv_it/3178a9f0118aec6c426395c5c355b84218d697b00/expr.ipynb\"><img src=\"data:image/png;base64,iVBORw0KGgoAAAANSUhEUgAAATgAAAAnBAMAAABppkmjAAAAMFBMVEX///8QEBCIiIhmZma6urrM\n",
       "zMxUVFQiIiJERETc3Nzu7u6qqqp2dnaYmJgyMjIAAAAcRTyBAAAAAXRSTlMAQObYZgAABIFJREFU\n",
       "WMO9WFGIG0UY/pLsbm43u7k+qFUOISSibUUJHFqrnKQ9pQ/Vkqf2xXJpsX0oPtyL0hPBcL7krEpU\n",
       "pNKqXRvowVl7S2uRUrHRIur1LLHiYVujQbFSQSkqalvlnH/ndrPXZHM7+7AT2Pl3Zr5/vvn/f/6Z\n",
       "DRCyPPZZtf2Stp8PtxvWFhE3gyDRoodUtGV9CeSSpblQl+XRdqNGDzVjy9JXF4AYE/I+GhYhYRN5\n",
       "hcsJuEitFIJbvOWsWLt8XZfCq68NrY63mHDCR0UnEqU2OQe5MQS5ta7JU7T+9cuXM8WpLDXUgLMr\n",
       "TLlg4F18mCs6ZDuLB4kjZG4tT0hOzkHGxU2n3eiKhylyrDopTw1Twzqk6jEY9m9ILaPPT4kHiffI\n",
       "+VKGkPrg6sEH2shfhckp7nq0nVBH2Zrz2ANsJ/kC0tVN0JtzzTlcSpUXdkmXBbpIVilFhjcsQnLL\n",
       "uciXhbfFiLvRalN1FsyGxaaBNlpg8jokzWyBW66lFHwt10ayalJieClDSE7ORSrCfr3oSs/OU+Qo\n",
       "5nZ62UarPAjpi1xDtQzswyN3wjfmFiGVVWTLEiE5ORcpXxXkpl7p5XJebTBknlNOBNfr2a1t5A+C\n",
       "5BKtXsw5J/Xb2/h7PrjehTwnw4v8UpBcLNOr96HFGVEgoKVCF+T+Aj8+mgGV7C86Uv98gNJVR2Bk\n",
       "rI7TVP8SkNz3PQMyzInTA6m08Dp1lgNqWd2r08iEJdcdGb+MNHOwbgXUssuvQ56dwKdDYYj5I1NX\n",
       "YMxMTe0JqukPv44+bEYylNX8kfI14J9K5Zmgmn63j5+Pc9XrO9KYxuGl8Yeya4Ijtf/oXMREl66N\n",
       "re7D2X2iqtY7+97HUaPrHGd+o/KjnTHG8IYAkpliGJqXh3LzqecoCepODt36wn2Dzq4ictoAasVO\n",
       "3pfw6sqlDPe2pd0jgPwXzOHxhjPug8FGsqofoCSYpk3yzqkhjGFmlScKoNyaPd+p6GCQlLv17F2m\n",
       "AJJFuN5w4/Gb41NIYcubdq5kcWXs3mvCks81vOT6uyUl7f5DAcj9JYZk5NQWXaVqt/8EiXsyb0fU\n",
       "SHYnhvmBqsPr1v4uAYfk/N9+U/CYu7jgJwGkRsMnHmfCk+yGwm+Hxj47ou4wc/xow7lj7nDarUlG\n",
       "LmS6ZVkhLnBukCmOsutVIs8+iWp22wFuqHF8p9mW1DJ1b4jSJ06tGo7c3dDWCKRnO4iYHWIW+6DY\n",
       "XKlUMqjPYC9rvQH3yrsqlXHouqk6MXsTPXLNRshjKj7UFBgt/Ul+ZFNPV/vOm/ZtUTrWwOesvooB\n",
       "fgfcsAW6Y6mXEGExnKtwrDryKHQKtkQC0qj6PJ42yvjE3h95rHfGfxQlOX2ZY8JtR9jhu5tJcztm\n",
       "fy7JA9g0y849luuMHU+cecoZf9KMkFx6cc6KU8zxGwGvVrCY85bpRoTkfCc77nOFKEVI7qRfTvAh\n",
       "bSyLkNyDov9GXIuQ3IB4Go2sxIW9FCtGRi4mvPmMVmTkQjhpPCpu6i3imMmo/DpphVjQWETkXgwD\n",
       "ei0abhr9e/I/555yzKH9b4oAAAAASUVORK5CYII=\n",
       "\" style=\"display:inline;vertical-align:middle;\" /></a><br>(see <a class=\"ProveItLink\" href=\"../__pv_it/3178a9f0118aec6c426395c5c355b84218d697b00/dependencies.ipynb\">dependencies</a>)<br>"
      ],
      "text/plain": [
       "exp2pi_i_modadd: forall_{a in Integers, b in Integers} (e^{(2 * pi * i * (a MOD_ADD b)) / 2^{t}} = e^{(2 * pi * i * (a + b)) / 2^{t}})"
      ]
     },
     "execution_count": 2,
     "metadata": {},
     "output_type": "execute_result"
    }
   ],
   "source": [
    "%proving exp2pi_i_modadd presuming []"
   ]
  },
  {
   "cell_type": "code",
   "execution_count": null,
   "metadata": {},
   "outputs": [],
   "source": []
  }
 ],
 "metadata": {
  "kernelspec": {
   "display_name": "Python 3",
   "language": "python",
   "name": "python3"
  }
 },
 "nbformat": 4,
 "nbformat_minor": 0
}
