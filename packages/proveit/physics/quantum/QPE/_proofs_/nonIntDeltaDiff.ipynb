{
 "cells": [
  {
   "cell_type": "markdown",
   "metadata": {},
   "source": [
    "Proof of <a class=\"ProveItLink\" href=\"../../../../_context_.ipynb\">proveit</a>.<a class=\"ProveItLink\" href=\"../../../_context_.ipynb\">physics</a>.<a class=\"ProveItLink\" href=\"../../_context_.ipynb\">quantum</a>.<a class=\"ProveItLink\" href=\"../_context_.ipynb\">QPE</a>.<a class=\"ProveItLink\" href=\"../_theorems_.ipynb#nonIntDeltaDiff\">nonIntDeltaDiff</a> theorem\n",
    "========"
   ]
  },
  {
   "cell_type": "code",
   "execution_count": 1,
   "metadata": {},
   "outputs": [],
   "source": [
    "import proveit\n",
    "context = proveit.Context('..') # the theorem's context is in the parent directory"
   ]
  },
  {
   "cell_type": "code",
   "execution_count": 2,
   "metadata": {},
   "outputs": [
    {
     "name": "stdout",
     "output_type": "stream",
     "text": [
      "Beginning proof of nonIntDeltaDiff\n",
      "Recorded 'presuming' information\n",
      "Presuming previous theorems (applied transitively).\n"
     ]
    },
    {
     "data": {
      "text/html": [
       "<strong id=\"nonIntDeltaDiff\">nonIntDeltaDiff:</strong> <a class=\"ProveItLink\" href=\"../__pv_it/e682192671f7f3d36497c44293194151dc77bac70/expr.ipynb\"><img src=\"data:image/png;base64,iVBORw0KGgoAAAANSUhEUgAAAXMAAAAyCAMAAACZF8vdAAAASFBMVEX///9jY2MJCQkrKysPDw8W\n",
       "FhYoKCgUFBQNDQ0QEBCIiIhmZma6urrMzMxUVFQiIiJERETc3Nzu7u6qqqp2dnaYmJgyMjIAAAAE\n",
       "alMrAAAAAXRSTlMAQObYZgAABb9JREFUeNrtXIt63SYM9rZuK2Dut/d/0wG2Y3MxYJxmPT7Rl+aL\n",
       "WovgHyH9EpxO01uImmvqNRHk66xeGXJVU6/KbL7O6mUFkpraMwC1+KDqIfj0O4EuQU3tw8tGKhva\n",
       "KEy9DeQCzBW1TxCbbo8xaPWSwlBN7RMAp9t7ZdTqFSOLFRW1T3gUzr3QoThB3yS6UFRTh8J5WDo+\n",
       "tP78HSDX8WvqobcmrLWUYw7wVDdnNXUwnIfFE0MeIJ4PObZzRe0eJN8cwsIR6jJk9WKCQE3tLYlK\n",
       "VmaoxDFvUBgBUlN72SaZ8pAAhzIDfH4WxVZX1F5xVqrAH0fGGrN6KUncatDL7Cxgcwt9rOuljffE\n",
       "GhTU1GmGEvewDVSqZRgtE6XGjNy/7zFdP9DrAaupWs7M4tGxlS26+e7HMwUWGAOoATqyUvIjpT6P\n",
       "OgqLKurk4Rl/aV1cLrSTUciQf8J5NYut+KZz9jw3xzEdTtRJ6U8cPA8tS0RyTn08lgpWm3vvDv8c\n",
       "kVZW1Gm+RdzSXeN8mNG/f9CPaI08spxMGKVWWgkvnD6y2YKr0cDcemkbUxDMoJhYuopM+K/UyjIv\n",
       "j2wz1qmigNDeeWsbRWPhA4ZIy0wNU24SrEhYfPYp9RERv8sgK0kQ5yp2IDF7hxRFABMPIExCvGD+\n",
       "K7ea0bQtkCDZHHAh0SjEtliVPAtKcOFidm4NgmGSYPZElEwzPA4VzH0WxZhHqgD4jHv0Yh5FJlbi\n",
       "fs6fCS9Z+W9Qr5QyrVULKCo3CjHLxkmzdv40RqgUNTsGITGIh5WLphkImXbPyqzES1woUsMRJ94w\n",
       "F+Yg+zrYTI7zPFZY2DFx89dPb36YJ5rm1BMWK+/JdHO+ZQZSIRRWQRb6YJQv7U1FkT7HnJQRujBI\n",
       "8rvZcY8cvCL8Iup3QdacrmEe6hR8p58dYR6odsr9Pqi5EokVNx/VE9ML55FciOkU89n3auZSmXvA\n",
       "nDUwbw9yjjnTETHwDMz7JpD9sWWx0HeIC42MQV7379QcZFaMkzVYhsQ+H7xImjPmK7YcgBaR1zDv\n",
       "GOQc8wP/WPbucqpAdZZD+akaMGd3qqI4hyIYAbfswDVZHdv2q5XcIi4G645oYk6hN5v0sJ93DHKK\n",
       "+TJNEjjuT/dHrzGCwowr4lNVuYfnS7W3wdUWIZUEF6m5IJrlVlsVC1nwuWMILBPYEFA5gnFOxtAi\n",
       "2Y95axABeBlzePhRTrufZ8eWOj6Ki1UF4aUTYZFyuqQOFeTP+RjKZsAMcB4BLDjeqdms9Pos85PG\n",
       "NDiQ/xlvD89sE7E0N+sE22dvn8eNrmCum2+Mo0JtB5rBA/89ROfssFPGfyMHTkNd1GMs+K+k6Rok\n",
       "/qj/UIxSahorl1gBjCPGceLnPobOLWLb8vP2IKd+vk7Trem//6wrW+Yt94+JwhVm5daKI2oQrva4\n",
       "usrKzMpO/i8UrsdzbKSUTHRjvjgI9xb7t45BTuP5Ms2onvJhIufn6fa3l6+XhLJtAj6BGFltoGUF\n",
       "Z1fbzXcfw+Zjsoo5SIuDKubOQSzxccp77f6tY5BTzNHWHD2sGVSqAGiy0enlU/elaiQ+XaRNyIQU\n",
       "bWVlsx1xshvgGs/PeUtb7rfjz7ni9kCzQ4VsTe3hKiFeEZcuMKgXXJ0vTOzV9/69MG/PLbk3NXqN\n",
       "ijo7SCYRuSgYuxLWtkry2AW536c877esCLZPWXAcPbEdOpiZPddwNU80Hz50JavLisP/6Wgap82L\n",
       "oeuVn3KniHorTGBSYH3fKfpFAd0bFVebDbVqGH085C4szBW1zzXLG2zstuc73BG9f+Vfhg4Fz4PE\n",
       "SDqG73AX+jZzwSFxQt5IFGPp5akCVE1tUgiqXLFFaF5Ofn+2pfaedz7DZZYTuQxzM8SizFt8tCV/\n",
       "0U95bwnEl1m9onCAK+qQfH8mt+letKYOVcjo66xetTAiNXWAC7Gvs3pZIbCmXq6zvv8vkS5Pn2vq\n",
       "xbA8dLfvYPUf8/lePFeJVVIAAAAASUVORK5CYII=\n",
       "\" style=\"display:inline;vertical-align:middle;\" /></a><br>(see <a class=\"ProveItLink\" href=\"../__pv_it/e682192671f7f3d36497c44293194151dc77bac70/dependencies.ipynb\">dependencies</a>)<br>"
      ],
      "text/plain": [
       "nonIntDeltaDiff: forall_{l in {-2^{t - 1} + 1...2^{t - 1}} | l != 0} ((delta - (l / 2^{t})) not-in Integers)"
      ]
     },
     "execution_count": 2,
     "metadata": {},
     "output_type": "execute_result"
    }
   ],
   "source": [
    "%proving nonIntDeltaDiff presuming []"
   ]
  },
  {
   "cell_type": "code",
   "execution_count": null,
   "metadata": {},
   "outputs": [],
   "source": []
  }
 ],
 "metadata": {
  "kernelspec": {
   "display_name": "Python 3",
   "language": "python",
   "name": "python3"
  }
 },
 "nbformat": 4,
 "nbformat_minor": 0
}
