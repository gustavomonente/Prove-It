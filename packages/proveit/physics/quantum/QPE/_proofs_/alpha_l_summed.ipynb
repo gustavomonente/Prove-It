{
 "cells": [
  {
   "cell_type": "markdown",
   "metadata": {},
   "source": [
    "Proof of <a class=\"ProveItLink\" href=\"../../../../_context_.ipynb\">proveit</a>.<a class=\"ProveItLink\" href=\"../../../_context_.ipynb\">physics</a>.<a class=\"ProveItLink\" href=\"../../_context_.ipynb\">quantum</a>.<a class=\"ProveItLink\" href=\"../_context_.ipynb\">QPE</a>.<a class=\"ProveItLink\" href=\"../_theorems_.ipynb#alpha_l_summed\">alpha_l_summed</a> theorem\n",
    "========"
   ]
  },
  {
   "cell_type": "code",
   "execution_count": 1,
   "metadata": {},
   "outputs": [],
   "source": [
    "import proveit\n",
    "context = proveit.Context('..') # the theorem's context is in the parent directory"
   ]
  },
  {
   "cell_type": "code",
   "execution_count": 2,
   "metadata": {},
   "outputs": [
    {
     "name": "stdout",
     "output_type": "stream",
     "text": [
      "Beginning proof of alpha_l_summed\n",
      "Recorded 'presuming' information\n",
      "Presuming previous theorems (applied transitively).\n"
     ]
    },
    {
     "data": {
      "text/html": [
       "<strong id=\"alpha_l_summed\">alpha_l_summed:</strong> <a class=\"ProveItLink\" href=\"../__pv_it/97e986e3ce11b2742b130e80e126bb982bdc2af50/expr.ipynb\"><img src=\"data:image/png;base64,iVBORw0KGgoAAAANSUhEUgAAAW0AAAA/BAMAAADZHoRZAAAAMFBMVEX///8QEBCIiIhmZma6urrM\n",
       "zMxUVFQiIiJERETc3Nzu7u6qqqp2dnaYmJgyMjIAAAAcRTyBAAAAAXRSTlMAQObYZgAAB5hJREFU\n",
       "aN7VWltsFFUY/vfenb31ARJqYtrYFzHRbjQgEC6rxuCDScsDGhOkBZUEYux6iQZFSyQkRWM6xkS8\n",
       "pguNqNWwJcYowcjSGpVK6AYTLw/QNeAFMLQoBbpW1nOdPXPZOYfMivg3s7tzvjNzvjnzn//8lwK4\n",
       "S6LFGy6XaJEeosR08Wwv/riDnQTTSnf9xCMul/fYgeRVo3G92COMn6KBT9DzSpMx2xuuICfZgeSI\n",
       "0bhb7KGV8McsdrYjo3DTSIs33CzxBYvE01aiaGl6jGzJxR8n6hK69RTEjftq3QDD+MdtTHeCTQoj\n",
       "HfaIm+UgPCKe3keeXCdHXA+XIEufDjKgNRq9lqMpxt+BEmtYqqAm57zhFtkInbq1bTs9InpoWqPM\n",
       "/HjWTxgdRgCSWDW0v1hDfkg6UMNmb7hFnoB+m3K20iOSiZ6LpYmeaLMpWyYvoTdAbMgBrm2N0oH2\n",
       "695w+wU59JImKpUp9Pv2LkaLHBArR28mt4t9hT6OGZdMI/0nLyLPdF77QzrMbx5xmzyGFXXlDYsQ\n",
       "fSiUccsz7Kgu8Q2+omBfQ2h2Y0Tx42XWNJaTjBL62xtuNyhpGICcX0+Dlo5+kEUngM3bLDA0YwDi\n",
       "xTBSi05+iR+pYmiSLCY+Wn9RMkx4UhXfY52CPY5z8i3ACh0aomkINeGdBJ1w3gm6D67QU7lwC+F9\n",
       "Vy+SHN5vKG84w+6SLEl457vUcO3hbjNNWwMzvYVgB/p6LUiuy78j6sndcCftlEJrlFg/Kr6V6Dpq\n",
       "INvYavJPS3iPZ1TxcSvNcSfeq/d9ipuXhIhF+DwurMvQ6X0vsK0st1pclyk/X5eQL7BZmZHw7lPG\n",
       "1Xg3Vyr462n0h2TXQa7W6PBVKkzpomtH0edifk3gC3RQwkluAH+S8LqojMt5f3jdQsd7LAdBKary\n",
       "s3iS7KCreooblA5XWkHJ+xBwKe/gRnjL2cOh+7xFtKx49i67Bzfc7e5eUVyyiwu4lPeOIW2eswOf\n",
       "NmyJeGsTs2H2MPz95t236WQZVPEavHefwYLf+ZojN9bYLbaxwyR2PxbLo/wdue/0qSyo4tL5Pq8S\n",
       "N5gfpuoFcTXqZj/C7oawX+I1CbiU98xlxWkJk8L/yH+0sW5+9316vySUE3Ap701oNM+h0Tgz4Al3\n",
       "g9EmCWYEvM3K29pwE2gLPfNuZ/tz8Lxrt2USB72Kz28+bn7Ttgb/kqOeaUM/W6DRSwDkp/M9uyXb\n",
       "vAyvu6S4HTkL8A3+PuXYbUISFUzoV5i3j/ufzcg5w/PubDiaJf65DK8/73J15CQaPO6syBXJbSpX\n",
       "mDZEuN3u0SExOji4Hf5/vOFib+8md17DrZmrg3eSO4QTyCF8CO+qOCtUi9f2jNakDe0ia+IwcTiO\n",
       "/0e8Gzjvvg6c6MR+C3OBw3NGtvBdUDtrbHVb/LmgzVnhuLnxX+XNHdA+pAARkiBCIYf22S3FiB7f\n",
       "mTPzCqBFvDTOci9OvCtciItZMjXVTSZtvOPFCA3xftg7CDG4/22DF9UDHzKSB0ahwRb8a056Eum6\n",
       "UvMdLd1DskIsIZ4uWPQbR6NjQ5DSq/r9y9WwLmHbgyQrlKSu1psdFt6pIknNrbja7Al8lCVZoQHS\n",
       "sjNu5RXogsRYCK6X8E52eKJk9cCjz5JUodmTiHDePXiwVAupQtzb29vbAoVReMOyjx86WgwMO5Un\n",
       "TPt83ttU2iKereRzfe19BxI5khUKE8/24yIc5N16RF6z7fPJ8YEFWz0Xek5aGxrtcabJrzKyQnFM\n",
       "LBCAqqHuE6lO2oMIhmtdMJZ55bl5ysnNGtUSXB+p6slmh7g+NWnVUJwVehF9f7fu0K9djnHD4kyt\n",
       "uCGQA18jnFae2lrVElwfqUaY1Kxppsg9z6ZUu2AKSbB+m2ItSb6W4b4sDrCnlXnXqpb4xeEC7BlO\n",
       "iL06mb8dck+k7S+ACp4sQ3gq1KjMu1a1RBNripEY/R5xCsRjf7oO0CnZ+6p4pOzvel99ETpXS0h9\n",
       "xFgEc+n3MScFkOQhUiVQxNsLgZaCOm/nagmpj1jFZKaWMUMRmHJ30yXlhir+JITWqu87ztUSWh+h\n",
       "E1L1pTpNAS3f49yJSR6rigdqJIhi1zg2O1dLcH0kiEsjLH9Pi/Um3hfUEoAxSdnJwFud8V1fOiZG\n",
       "a1RLaH2kKrRYL6bGQ3w5dron0jT3tJCBx9LwumOHhCPvGtUSWh+hsuprnRXrxXXp5xXjNklC6ilQ\n",
       "wlcBzL0M3jWqJbQ+QmVzKMuK9YuFC43yXbeE15iugkc3HZqfVeTtVi0RpKRNsqS3WC/x8TTPHFk+\n",
       "rkUFT6Klr8jbtVpiWjpZWqw31UvamZ0Mysq9yaw33MbbtVoiym6dFutNfhWviYYldRBITHnEyQAa\n",
       "ie3OYBviXi0RVvwGzl9s5eYkJf0XqxlvuG2+zyvGDQODBfvjGLM0Lt3iDuQ84TbeM4pxWg9bMKZ6\n",
       "iVGWPyNPgBY84Tbenqol7Wyag1PSromyJ9xvhT1VS47zeVf4D8LfveCBNZeWWB7EQ7XEcHb25OSd\n",
       "O3VveB3F8HKvVeicyHrD6yjr+G6vlMl7wCNeNzFm6Hu11NaQN7xu8jLTyGiTUnetwxteN+GecpTy\n",
       "/wdaFsXHuVxMXwAAAABJRU5ErkJggg==\n",
       "\" style=\"display:inline;vertical-align:middle;\" /></a><br>(see <a class=\"ProveItLink\" href=\"../__pv_it/97e986e3ce11b2742b130e80e126bb982bdc2af50/dependencies.ipynb\">dependencies</a>)<br>"
      ],
      "text/plain": [
       "alpha_l_summed: forall_{l in Integers} (alpha_{l} = ((1 / 2^{t}) * ((1 - e^{2 * pi * i * ((2^{t} * delta) - l)}) / (1 - e^{2 * pi * i * (delta - (l / 2^{t}))}))))"
      ]
     },
     "execution_count": 2,
     "metadata": {},
     "output_type": "execute_result"
    }
   ],
   "source": [
    "%proving alpha_l_summed presuming []"
   ]
  },
  {
   "cell_type": "code",
   "execution_count": null,
   "metadata": {},
   "outputs": [],
   "source": []
  }
 ],
 "metadata": {
  "kernelspec": {
   "display_name": "Python 3",
   "language": "python",
   "name": "python3"
  }
 },
 "nbformat": 4,
 "nbformat_minor": 0
}
