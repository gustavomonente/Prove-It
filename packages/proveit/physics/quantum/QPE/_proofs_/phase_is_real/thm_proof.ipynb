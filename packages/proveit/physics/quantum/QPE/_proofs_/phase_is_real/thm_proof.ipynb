{
 "cells": [
  {
   "cell_type": "markdown",
   "metadata": {},
   "source": [
    "Proof of <a class=\"ProveItLink\" href=\"../../../../../_theory_.ipynb\">proveit</a>.<a class=\"ProveItLink\" href=\"../../../../_theory_.ipynb\">physics</a>.<a class=\"ProveItLink\" href=\"../../../_theory_.ipynb\">quantum</a>.<a class=\"ProveItLink\" href=\"../../_theory_.ipynb\">QPE</a>.<a class=\"ProveItLink\" href=\"../../_theorems_.ipynb#phase_is_real\">phase_is_real</a> theorem\n",
    "========"
   ]
  },
  {
   "cell_type": "code",
   "execution_count": null,
   "metadata": {},
   "outputs": [],
   "source": [
    "import proveit\n",
    "from proveit.physics.quantum.QPE._axioms_ import phase_in_interval\n",
    "from proveit.physics.quantum.QPE._common_ import phase_\n",
    "theory = proveit.Theory() # the theorem's theory"
   ]
  },
  {
   "cell_type": "code",
   "execution_count": null,
   "metadata": {},
   "outputs": [],
   "source": [
    "%proving phase_is_real"
   ]
  },
  {
   "cell_type": "code",
   "execution_count": null,
   "metadata": {},
   "outputs": [],
   "source": [
    "# axiomatically:\n",
    "phase_in_interval"
   ]
  },
  {
   "cell_type": "code",
   "execution_count": null,
   "metadata": {},
   "outputs": [],
   "source": [
    "interval_0_to_1 = phase_in_interval.operands[1]"
   ]
  },
  {
   "cell_type": "code",
   "execution_count": null,
   "metadata": {},
   "outputs": [],
   "source": [
    "phase_"
   ]
  },
  {
   "cell_type": "code",
   "execution_count": null,
   "metadata": {},
   "outputs": [],
   "source": [
    "# then need to update the sets/real/_theorems_ with the\n",
    "# interval-related membership theorems."
   ]
  },
  {
   "cell_type": "code",
   "execution_count": null,
   "metadata": {},
   "outputs": [],
   "source": [
    "interval_0_to_1.deduce_member_in_real(phase_)"
   ]
  },
  {
   "cell_type": "code",
   "execution_count": null,
   "metadata": {},
   "outputs": [],
   "source": [
    "%qed"
   ]
  },
  {
   "cell_type": "code",
   "execution_count": null,
   "metadata": {},
   "outputs": [],
   "source": []
  }
 ],
 "metadata": {
  "kernelspec": {
   "display_name": "Python 3",
   "language": "python",
   "name": "python3"
  }
 },
 "nbformat": 4,
 "nbformat_minor": 0
}
