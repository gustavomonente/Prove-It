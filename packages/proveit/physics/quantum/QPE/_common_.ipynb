{
 "cells": [
  {
   "cell_type": "markdown",
   "metadata": {},
   "source": [
    "Common expressions for context <a class=\"ProveItLink\" href=\"_context_.ipynb\">proveit.physics.quantum.QPE</a>\n",
    "========"
   ]
  },
  {
   "cell_type": "code",
   "execution_count": 1,
   "metadata": {},
   "outputs": [],
   "source": [
    "import proveit\n",
    "# Automation is not needed when building common expressions:\n",
    "proveit.defaults.automation = False # This will speed things up.\n",
    "from proveit import Literal, Variable\n",
    "from proveit._common_ import a, b # for testing; delete later\n",
    "from proveit._common_ import a, b, k, l # lower-case letters\n",
    "from proveit._common_ import eps        # greek letters\n",
    "from proveit.number import one, two, subtract, Abs, Add, Exp, Interval, Neg \n",
    "from proveit.physics.quantum.QPE.phaseEstOps import SubIndexed\n",
    "# the context is in the current directory:\n",
    "context = proveit.Context('.') # adds context root to sys.path if necessary"
   ]
  },
  {
   "cell_type": "code",
   "execution_count": 2,
   "metadata": {},
   "outputs": [
    {
     "name": "stdout",
     "output_type": "stream",
     "text": [
      "Defining common sub-expressions for context 'proveit.physics.quantum.QPE'\n",
      "Subsequent end-of-cell assignments will define common sub-expressions\n",
      "%end_common will finalize the definitions\n"
     ]
    }
   ],
   "source": [
    "%begin common"
   ]
  },
  {
   "cell_type": "code",
   "execution_count": 3,
   "metadata": {},
   "outputs": [
    {
     "data": {
      "text/html": [
       "<strong id=\"U_\">U_:</strong> <a class=\"ProveItLink\" href=\"__pv_it/d8c001ac530e38ce8c0a2ec9025601899803b3650/expr.ipynb\"><img src=\"data:image/png;base64,iVBORw0KGgoAAAANSUhEUgAAAA8AAAAOBAMAAAACpFvcAAAAMFBMVEX///+YmJjMzMzu7u5mZma6\n",
       "urp2dnaIiIgyMjKqqqpEREQQEBAiIiJUVFTc3NwAAACfk0VHAAAAAXRSTlMAQObYZgAAAGJJREFU\n",
       "CNdjeHt+1wSG9T8KGBjyAxgY2IE0Qz8QsxgAiV9AzAvErN+BhBkQs30CEqJAzLMBSDgAsf0FIAHC\n",
       "8wUYGPhAuvMVgOoegBhQ3QzzgWbdAzE4HBjeKoAYDFlXQEoZAObmFQYiC7jRAAAAAElFTkSuQmCC\n",
       "\" style=\"display:inline;vertical-align:middle;\" /></a><br>"
      ],
      "text/plain": [
       "U_: U"
      ]
     },
     "execution_count": 3,
     "metadata": {},
     "output_type": "execute_result"
    }
   ],
   "source": [
    "# U: Unitary operator to apply quantum phase estimation.\n",
    "U_ = Literal('U')"
   ]
  },
  {
   "cell_type": "code",
   "execution_count": 4,
   "metadata": {},
   "outputs": [
    {
     "data": {
      "text/html": [
       "<strong id=\"n_\">n_:</strong> <a class=\"ProveItLink\" href=\"__pv_it/63e8b0fdf2a4450b55ec715f6e553e75d6d0837e0/expr.ipynb\"><img src=\"data:image/png;base64,iVBORw0KGgoAAAANSUhEUgAAAAwAAAAJBAMAAAD0ltBnAAAAMFBMVEX///8QEBCYmJgyMjIiIiKq\n",
       "qqrMzMzu7u5ERERmZmaIiIjc3NxUVFR2dna6uroAAABXsXCEAAAAAXRSTlMAQObYZgAAAEdJREFU\n",
       "CNdj4Luze9UsBgZeji6G+g0MqSwGDPsTGArqHzDoMzAwxDMwHAZSkxkYPrEzMMgysH7nZeD+x8Br\n",
       "oMbA58DAfSgAABUwDxmEwURaAAAAAElFTkSuQmCC\n",
       "\" style=\"display:inline;vertical-align:middle;\" /></a><br>"
      ],
      "text/plain": [
       "n_: n"
      ]
     },
     "execution_count": 4,
     "metadata": {},
     "output_type": "execute_result"
    }
   ],
   "source": [
    "# n: Number of qubits which U acts on.\n",
    "n_ = Literal('n')"
   ]
  },
  {
   "cell_type": "code",
   "execution_count": 5,
   "metadata": {},
   "outputs": [
    {
     "data": {
      "text/html": [
       "<strong id=\"u_\">u_:</strong> <a class=\"ProveItLink\" href=\"__pv_it/ff6be048733a15b5ec8183e192a09394aadc42520/expr.ipynb\"><img src=\"data:image/png;base64,iVBORw0KGgoAAAANSUhEUgAAAAwAAAAJBAMAAAD0ltBnAAAAMFBMVEX///+qqqpUVFQiIiJ2dnbM\n",
       "zMxEREQyMjKYmJjc3Ny6uroQEBBmZmaIiIju7u4AAAB7S4HXAAAAAXRSTlMAQObYZgAAAEZJREFU\n",
       "CNdj4LtzgeH1AwYerg0M9xkYZvAUMKQxMDzgvsCwl4GBYf0D1q9AypmBdwOQSmJgS+hjYDjEsPqA\n",
       "AwPDo7uSugEAaZoSviMHvVMAAAAASUVORK5CYII=\n",
       "\" style=\"display:inline;vertical-align:middle;\" /></a><br>"
      ],
      "text/plain": [
       "u_: u"
      ]
     },
     "execution_count": 5,
     "metadata": {},
     "output_type": "execute_result"
    }
   ],
   "source": [
    "# u: Eigenvector of U to apply the quantum phase estimation.\n",
    "u_ = Literal('u')"
   ]
  },
  {
   "cell_type": "code",
   "execution_count": 6,
   "metadata": {},
   "outputs": [
    {
     "data": {
      "text/html": [
       "<strong id=\"phase_\">phase_:</strong> <a class=\"ProveItLink\" href=\"__pv_it/aca68746e10d51e63da30046b57dd0367cda4d330/expr.ipynb\"><img src=\"data:image/png;base64,iVBORw0KGgoAAAANSUhEUgAAAAwAAAANBAMAAABvB5JxAAAAMFBMVEX///8QEBAiIiKIiIjc3Nxm\n",
       "ZmZUVFSYmJh2dnbu7u5EREQyMjK6urrMzMyqqqoAAABb/SrcAAAAAXRSTlMAQObYZgAAAFVJREFU\n",
       "CNdj4LvAwLN/JQMHA8PtmlSGEgaGBAY2hgAG9gkMrAwNDMwMDJOBvLMMDJEM7UDGtAsM3Nv3PtVh\n",
       "YGAo+q8BJBlYC0AkA+MFMHUeTDKYgQgAgRsRGmH5lh8AAAAASUVORK5CYII=\n",
       "\" style=\"display:inline;vertical-align:middle;\" /></a><br>"
      ],
      "text/plain": [
       "phase_: phase"
      ]
     },
     "execution_count": 6,
     "metadata": {},
     "output_type": "execute_result"
    }
   ],
   "source": [
    "# phase: Eigenvalue phase of u w.r.t. U.  U u = e^{i \\varphi} u.\n",
    "#        This \\varphi is the phase that is the objective of phase estimation.\n",
    "phase_ = Literal('phase', latexFormat=r'\\varphi')"
   ]
  },
  {
   "cell_type": "code",
   "execution_count": 7,
   "metadata": {},
   "outputs": [
    {
     "data": {
      "text/html": [
       "<strong id=\"t_\">t_:</strong> <a class=\"ProveItLink\" href=\"__pv_it/96bcbff08fa521257bc78a97fedf1068dcbd0e2d0/expr.ipynb\"><img src=\"data:image/png;base64,iVBORw0KGgoAAAANSUhEUgAAAAcAAAANBAMAAACX52mGAAAALVBMVEX///+YmJhUVFTMzMzu7u6I\n",
       "iIhERES6urp2dnYyMjJmZmaqqqrc3NwiIiIAAAAtjhwgAAAAAXRSTlMAQObYZgAAAEFJREFUCNdj\n",
       "YGC4w8DAwP0ASHBNABK8DQwMVXlZAQwM+4A8hpUg4gYQszwHEuwPGBwYOCZwGzBwKbgyMPAkCjAA\n",
       "AGrlCqGl123JAAAAAElFTkSuQmCC\n",
       "\" style=\"display:inline;vertical-align:middle;\" /></a><br>"
      ],
      "text/plain": [
       "t_: t"
      ]
     },
     "execution_count": 7,
     "metadata": {},
     "output_type": "execute_result"
    }
   ],
   "source": [
    "# t: Number of qubit registers for the quantum phase estimation.\n",
    "#    We prove that this is the bits of precision of phase estimation.\n",
    "t_ = Literal('t')"
   ]
  },
  {
   "cell_type": "code",
   "execution_count": 8,
   "metadata": {},
   "outputs": [
    {
     "data": {
      "text/html": [
       "<strong id=\"Psi_\">Psi_:</strong> <a class=\"ProveItLink\" href=\"__pv_it/17aac6efea534d3e001f12ad2d7dcb4750263c8c0/expr.ipynb\"><img src=\"data:image/png;base64,iVBORw0KGgoAAAANSUhEUgAAAA4AAAAQBAMAAADUulMJAAAALVBMVEX///9ERESYmJjMzMx2dnbc\n",
       "3Nzu7u6qqqoiIiIQEBBUVFQyMjJmZma6uroAAADMwE9NAAAAAXRSTlMAQObYZgAAAGJJREFUCNdj\n",
       "YIAB3tPvdl0As2aAiOsJDB0MbOUMGROANPdUBpbHQDpvAQPTWyAd58DA/hxI31NgYH0CpPWAGruB\n",
       "tCRQo2VBB+9bIM0qMtPRAGQS28wEBoS5DLyr3+25ALcVABxCGv0QYDzXAAAAAElFTkSuQmCC\n",
       "\" style=\"display:inline;vertical-align:middle;\" /></a><br>"
      ],
      "text/plain": [
       "Psi_: Psi"
      ]
     },
     "execution_count": 8,
     "metadata": {},
     "output_type": "execute_result"
    }
   ],
   "source": [
    "# Psi: Outcome of register qubits following the quantum phase estimation circuit.\n",
    "Psi_ = Literal('Psi', latexFormat=r'\\Psi')"
   ]
  },
  {
   "cell_type": "code",
   "execution_count": 9,
   "metadata": {},
   "outputs": [
    {
     "data": {
      "text/html": [
       "<strong id=\"psi_\">psi_:</strong> <a class=\"ProveItLink\" href=\"__pv_it/65b3e037e363ea567f6b3ddf25e992cc621b98970/expr.ipynb\"><img src=\"data:image/png;base64,iVBORw0KGgoAAAANSUhEUgAAAA4AAAATBAMAAABSLiGnAAAAKlBMVEX///9ERES6uroQEBAiIiJm\n",
       "ZmaIiIju7u6YmJiqqqrc3Nx2dnbMzMwAAACYxXCqAAAAAXRSTlMAQObYZgAAAGhJREFUCNdjYAAC\n",
       "HgYI4EajV0Lpdii9AYjZUxMYNrA5MHBzGnBNYLvOsJLVgaOAwYChgDkBqC2AgUF3ATcDewIDwxaG\n",
       "kwzcBQwMgQzpDJMYQOIbOBSANKe0RBbYNJ4JEFPZClBtZQMRAKAGEDMkoGXKAAAAAElFTkSuQmCC\n",
       "\" style=\"display:inline;vertical-align:middle;\" /></a><br>"
      ],
      "text/plain": [
       "psi_: psi"
      ]
     },
     "execution_count": 9,
     "metadata": {},
     "output_type": "execute_result"
    }
   ],
   "source": [
    "# psi: indexed intermediate output registers inside the quantum phase estimation circuit.\n",
    "psi_ = Literal('psi', latexFormat=r'\\psi')"
   ]
  },
  {
   "cell_type": "code",
   "execution_count": 10,
   "metadata": {},
   "outputs": [
    {
     "data": {
      "text/html": [
       "<strong id=\"psi_k\">psi_k:</strong> <a class=\"ProveItLink\" href=\"__pv_it/e8c278ec86c3b9299864d9626d895c6ac66231f00/expr.ipynb\"><img src=\"data:image/png;base64,iVBORw0KGgoAAAANSUhEUgAAABcAAAATBAMAAACJlYuFAAAAMFBMVEX///8yMjJUVFRERES6uroQ\n",
       "EBAiIiJmZmaIiIju7u6YmJiqqqrc3Nx2dnbMzMwAAAD5VKrUAAAAAXRSTlMAQObYZgAAAJdJREFU\n",
       "CNdjYAACPgYkwIuTcxqZsxKZcwHG4GxvYLjAkQDVzB3As4HjJ0NrA0gzewLXBIYABjYHIGcCawPQ\n",
       "5AKG+RNA6vwP8DJwNjC4gTVdY3jNwDuB4TpfE5BTzNDJsIWBQWoLSKH/gQtcQM2fHoCUcdta9QAd\n",
       "HmEN1sS3AUhwGDzlAXE4QIYyNzzjgHuA8QBTH1gG7mAAaQohX8xG4j8AAAAASUVORK5CYII=\n",
       "\" style=\"display:inline;vertical-align:middle;\" /></a><br>"
      ],
      "text/plain": [
       "psi_k: psi_{k}"
      ]
     },
     "execution_count": 10,
     "metadata": {},
     "output_type": "execute_result"
    }
   ],
   "source": [
    "psi_k = SubIndexed(psi_, k)"
   ]
  },
  {
   "cell_type": "code",
   "execution_count": 11,
   "metadata": {},
   "outputs": [
    {
     "data": {
      "text/html": [
       "<strong id=\"psi_t\">psi_t:</strong> <a class=\"ProveItLink\" href=\"__pv_it/16d45b238797c9090783db9039c618537d3ac3620/expr.ipynb\"><img src=\"data:image/png;base64,iVBORw0KGgoAAAANSUhEUgAAABQAAAATBAMAAABiojCGAAAAMFBMVEX///9UVFQyMjJERES6uroQ\n",
       "EBAiIiJmZmaIiIju7u6YmJiqqqrc3Nx2dnbMzMwAAAAiCvCzAAAAAXRSTlMAQObYZgAAAIhJREFU\n",
       "CNdjYAACPgY44MXKPI1grkQwL0AozvYGhgscCWAt3AE8Gzh+grWwJ3BNYAhgYHrAMIG1AWhWAcN8\n",
       "oLD/AV4GzgaGbUDmNYbXDLwTjifVMTAUM3QybGFg0AYruMDlwMDwB8jktrXqATouAOzEDUCCQ2AO\n",
       "iJwAJNgbLsCcyCfxACQKdRQAO1wdUU0HO2cAAAAASUVORK5CYII=\n",
       "\" style=\"display:inline;vertical-align:middle;\" /></a><br>"
      ],
      "text/plain": [
       "psi_t: psi_{t}"
      ]
     },
     "execution_count": 11,
     "metadata": {},
     "output_type": "execute_result"
    }
   ],
   "source": [
    "psi_t = SubIndexed(psi_, t_)"
   ]
  },
  {
   "cell_type": "code",
   "execution_count": 12,
   "metadata": {},
   "outputs": [
    {
     "data": {
      "text/html": [
       "<strong id=\"psi_next\">psi_next:</strong> <a class=\"ProveItLink\" href=\"__pv_it/0a496661209d17ecdd9d144fd8bf7e9262fe386d0/expr.ipynb\"><img src=\"data:image/png;base64,iVBORw0KGgoAAAANSUhEUgAAACsAAAAVBAMAAAAtAwouAAAAMFBMVEX///8yMjJUVFRERES6uroQ\n",
       "EBAiIiJmZmaIiIju7u6YmJiqqqrc3Nx2dnbMzMwAAAD5VKrUAAAAAXRSTlMAQObYZgAAAMhJREFU\n",
       "GNNjYAACPgasgJck4dPYhVdiF76AKcTZ3sBwgSMBwzruAJ4NHD8ZWhvgQnwGQOvYE7gmMAQwsDnA\n",
       "RcuBeiewNgDdV8AwfwJIiAlEsICM9D/Ay8DZwOAGVskMF77G8JqBdwLDdb4mFOFihk6GLQwMUltA\n",
       "xjAjGXKBC2jdpweohnDbWvUArY+wZmBQFBQVFFwAEWbg2wAkOAye8qCoZuAAOY254RkHTJg7AR6s\n",
       "jAeY+qDCPGWfQD7mQAoKZuxhiUOYB0oDAPHCKM9ySuv9AAAAAElFTkSuQmCC\n",
       "\" style=\"display:inline;vertical-align:middle;\" /></a><br>"
      ],
      "text/plain": [
       "psi_next: psi_{k + 1}"
      ]
     },
     "execution_count": 12,
     "metadata": {},
     "output_type": "execute_result"
    }
   ],
   "source": [
    "psi_next = SubIndexed(psi_, Add(k, one))"
   ]
  },
  {
   "cell_type": "code",
   "execution_count": 13,
   "metadata": {},
   "outputs": [
    {
     "data": {
      "text/html": [
       "<strong id=\"psi_1\">psi_1:</strong> <a class=\"ProveItLink\" href=\"__pv_it/3100410f43c39af8de5c5fdeb8e88214fa050aad0/expr.ipynb\"><img src=\"data:image/png;base64,iVBORw0KGgoAAAANSUhEUgAAABUAAAATBAMAAACNYFu4AAAALVBMVEX///9UVFRERES6uroQEBAi\n",
       "IiJmZmaIiIju7u6YmJiqqqrc3Nx2dnbMzMwAAAC11oxJAAAAAXRSTlMAQObYZgAAAHxJREFUCNdj\n",
       "YAACXgYE4MHB3oXEnoHEPgClOcoKGA6wB0D0cTlwL2B/wcCrANTHFsDZwODAmwaUamApABqZwMAM\n",
       "Uma3gYeBowDCPspwi4GnAcJOYqhgWMwAU3OA0wDK5tLRrGaAshl4FzDA2ewNIJIrAO5i7tSHBSBx\n",
       "mBMBS4QX2FVG14gAAAAASUVORK5CYII=\n",
       "\" style=\"display:inline;vertical-align:middle;\" /></a><br>"
      ],
      "text/plain": [
       "psi_1: psi_{1}"
      ]
     },
     "execution_count": 13,
     "metadata": {},
     "output_type": "execute_result"
    }
   ],
   "source": [
    "psi_1 = SubIndexed(psi_, one)"
   ]
  },
  {
   "cell_type": "code",
   "execution_count": 14,
   "metadata": {},
   "outputs": [
    {
     "data": {
      "text/html": [
       "<strong id=\"U_pow_two_pow_k\">U_pow_two_pow_k:</strong> <a class=\"ProveItLink\" href=\"__pv_it/3bea8f627315c9efcf915e80ac0243ca1602df230/expr.ipynb\"><img src=\"data:image/png;base64,iVBORw0KGgoAAAANSUhEUgAAAB8AAAAXBAMAAAAB04lnAAAAMFBMVEX///+YmJjMzMzu7u5mZma6\n",
       "urp2dnaIiIgyMjKqqqpEREQQEBAiIiJUVFTc3NwAAACfk0VHAAAAAXRSTlMAQObYZgAAALlJREFU\n",
       "GNNjYEAGHgxoYAq6gCcyJ2WJAcO5QAc4n+0BbwPDxscCcAGeB0z/WNsRChh4Avi+shc0T0AyhPMz\n",
       "ywOxACQBngIw9fb8rgkM638AOSlQiXygKnYgnxFmYD8QsxgwMIQxBEEEfgExLwMDU+fMxWA+63cg\n",
       "YcbAwP3//weICz8BCVFkyzYACSQHMthfABIXkATmA73DV4AkkK8A8imyAMRWJC1AN91DFuBwYHir\n",
       "gBKOWVeQjWQAADM6KknYn9FXAAAAAElFTkSuQmCC\n",
       "\" style=\"display:inline;vertical-align:middle;\" /></a><br>"
      ],
      "text/plain": [
       "U_pow_two_pow_k: U^{2^{k}}"
      ]
     },
     "execution_count": 14,
     "metadata": {},
     "output_type": "execute_result"
    }
   ],
   "source": [
    "U_pow_two_pow_k = Exp(U_, Exp(two, k))"
   ]
  },
  {
   "cell_type": "code",
   "execution_count": 15,
   "metadata": {},
   "outputs": [
    {
     "data": {
      "text/html": [
       "<strong id=\"m_\">m_:</strong> <a class=\"ProveItLink\" href=\"__pv_it/ea3ea35127b78cd348688706732afe3133ee85150/expr.ipynb\"><img src=\"data:image/png;base64,iVBORw0KGgoAAAANSUhEUgAAABIAAAAJBAMAAADN8WE8AAAAMFBMVEX///9mZmaYmJgyMjIiIiIQ\n",
       "EBCqqqru7u5ERETMzMyIiIjc3NxUVFR2dna6uroAAAAPJcEmAAAAAXRSTlMAQObYZgAAAGNJREFU\n",
       "CNdj4Luze9UpzlvnGBh4OboY6tcxpDIwTGMxYNh/gUGfgaGg/gFDfgHDCQYGhnwGBhEGhiggS5iB\n",
       "wZeB7zc7A0MsA/s/BkaDbQzc/xjYPjAwX7jAwOfAwCXAwCa0AQBn+hZiKtaxkQAAAABJRU5ErkJg\n",
       "gg==\n",
       "\" style=\"display:inline;vertical-align:middle;\" /></a><br>"
      ],
      "text/plain": [
       "m_: m"
      ]
     },
     "execution_count": 15,
     "metadata": {},
     "output_type": "execute_result"
    }
   ],
   "source": [
    "# m: Random variable for the measurement of Psi as an\n",
    "#    integer from the register's binary representation.\n",
    "m_ = Literal('m')"
   ]
  },
  {
   "cell_type": "code",
   "execution_count": 16,
   "metadata": {},
   "outputs": [
    {
     "data": {
      "text/html": [
       "<strong id=\"phase_m_\">phase_m_:</strong> <a class=\"ProveItLink\" href=\"__pv_it/d06ce35945616e8f1e26d4c2e0f22e034ed645060/expr.ipynb\"><img src=\"data:image/png;base64,iVBORw0KGgoAAAANSUhEUgAAABsAAAANBAMAAACqdQjgAAAAMFBMVEX///8QEBAiIiKIiIjc3Nxm\n",
       "ZmZUVFSYmJh2dnbu7u5EREQyMjK6urrMzMyqqqoAAABb/SrcAAAAAXRSTlMAQObYZgAAAJBJREFU\n",
       "CNdj4LvAwLN/JQMMcDAw3K5JhXNLGBgSGNjg3AAG9gkMrHBuAwMzA8NkJNmzDAyRDKW1xgHGuQwM\n",
       "7UCBaRcYasQZxCaYMTBwb9/7VIeBZbICwx+GCKDqov8aQJLNgFeAQQ/IYC0AGcF4gXkBy4cLIAaI\n",
       "6w+UZ1/QwMBwHmzBMQZuB5aMCQwMZgxIAADuCx4bIMfY+wAAAABJRU5ErkJggg==\n",
       "\" style=\"display:inline;vertical-align:middle;\" /></a><br>"
      ],
      "text/plain": [
       "phase_m_: phase_m"
      ]
     },
     "execution_count": 16,
     "metadata": {},
     "output_type": "execute_result"
    }
   ],
   "source": [
    "# phase_m: Random variable for the phase result of the\n",
    "#          quantum phase estimation phase_m = m / 2^t\n",
    "#          (I wish the subscript appeared a bit lower)\n",
    "phase_m_ = Literal('phase_m', latexFormat=r'\\varphi_m')"
   ]
  },
  {
   "cell_type": "code",
   "execution_count": 17,
   "metadata": {},
   "outputs": [
    {
     "data": {
      "text/html": [
       "<strong id=\"b_\">b_:</strong> <a class=\"ProveItLink\" href=\"__pv_it/d81916b660589842e9907c923ca7448ed0c092520/expr.ipynb\"><img src=\"data:image/png;base64,iVBORw0KGgoAAAANSUhEUgAAAAkAAAAOBAMAAAAPuiubAAAALVBMVEX///+YmJjc3NyIiIhUVFR2\n",
       "dna6urqqqqpmZmYyMjIiIiIQEBBERETu7u4AAAALjtrwAAAAAXRSTlMAQObYZgAAAE9JREFUCNdj\n",
       "4D29gAEIOBtAJF8BiMy7ACKjQATDFON2BgbelxfuKTCwv2XgM2DgmMBwLwCkPK+AgU+Aoe8CA18C\n",
       "70YGBhYBHqARvM2BDAwAqXgQspq5HJAAAAAASUVORK5CYII=\n",
       "\" style=\"display:inline;vertical-align:middle;\" /></a><br>"
      ],
      "text/plain": [
       "b_: b"
      ]
     },
     "execution_count": 17,
     "metadata": {},
     "output_type": "execute_result"
    }
   ],
   "source": [
    "# b: The \"best\" outcome of m such that phase_m is as close as possible to phase.\n",
    "b_ = Literal('b')"
   ]
  },
  {
   "cell_type": "code",
   "execution_count": 18,
   "metadata": {},
   "outputs": [
    {
     "data": {
      "text/html": [
       "<strong id=\"two_pow_t\">two_pow_t:</strong> <a class=\"ProveItLink\" href=\"__pv_it/64a58e3f39a33f21e5e35d3f8a5b3f786c42467c0/expr.ipynb\"><img src=\"data:image/png;base64,iVBORw0KGgoAAAANSUhEUgAAAA8AAAATBAMAAAC97EqZAAAALVBMVEX///+qqqqIiIgyMjLc3Nwi\n",
       "IiIQEBC6urp2dnZUVFTMzMxERERmZmbu7u4AAAAQI6y7AAAAAXRSTlMAQObYZgAAAHdJREFUCNdj\n",
       "YAADKwjFwPsAymAMgNAsR20WQFjMAkDpM7sXMPA5MDDcZOB4zrAMKHqWgSGNQZPXgSGVgWGewyEO\n",
       "Bga7CwzzFqzUAuuJuwDRy/4CaizrBCjjDJRmOgBlyDCwOIBorgYGJjDDtaNnKljG7t27pyAaAOXm\n",
       "GU9MDlD9AAAAAElFTkSuQmCC\n",
       "\" style=\"display:inline;vertical-align:middle;\" /></a><br>"
      ],
      "text/plain": [
       "two_pow_t: 2^{t}"
      ]
     },
     "execution_count": 18,
     "metadata": {},
     "output_type": "execute_result"
    }
   ],
   "source": [
    "# 2^t\n",
    "two_pow_t = Exp(two, t_)"
   ]
  },
  {
   "cell_type": "code",
   "execution_count": 19,
   "metadata": {},
   "outputs": [
    {
     "data": {
      "text/html": [
       "<strong id=\"two_pow_t_minus_one\">two_pow_t_minus_one:</strong> <a class=\"ProveItLink\" href=\"__pv_it/53e7167cb7a3e2024f061806596ebd273cf217740/expr.ipynb\"><img src=\"data:image/png;base64,iVBORw0KGgoAAAANSUhEUgAAACMAAAAUBAMAAAD1iJl/AAAALVBMVEX///+qqqqIiIgyMjLc3Nwi\n",
       "IiIQEBC6urp2dnZUVFTMzMxERERmZmbu7u4AAAAQI6y7AAAAAXRSTlMAQObYZgAAAJVJREFUGNNj\n",
       "YEAFXBtgLCuYyJkAKIv3AUyOHSbEGIAuxHLUZgG6KmYBZFW8Z3YvYOBzQBa6ycDxnGEZA0P1biC4\n",
       "ABY6y8CQxqDJ64CkKpWBYZ7DIQ4GJLvtLjDMW7BSiwFm90sFEB13Ac1XDOwv0EUYWCdgCJ3BEGE6\n",
       "gCEkw8DigBZmDQxMaEKuHT1T0fTZvXv3FFUEAIXSI+qW9+0NAAAAAElFTkSuQmCC\n",
       "\" style=\"display:inline;vertical-align:middle;\" /></a><br>"
      ],
      "text/plain": [
       "two_pow_t_minus_one: 2^{t - 1}"
      ]
     },
     "execution_count": 19,
     "metadata": {},
     "output_type": "execute_result"
    }
   ],
   "source": [
    "# 2^{t-1}\n",
    "two_pow_t_minus_one = Exp(two, subtract(t_, one))"
   ]
  },
  {
   "cell_type": "code",
   "execution_count": 20,
   "metadata": {},
   "outputs": [
    {
     "data": {
      "text/html": [
       "<strong id=\"alpha_\">alpha_:</strong> <a class=\"ProveItLink\" href=\"__pv_it/4903bb42f96dff4fe91c5765eb2ff8ac910c41990/expr.ipynb\"><img src=\"data:image/png;base64,iVBORw0KGgoAAAANSUhEUgAAAA0AAAAJBAMAAAAbVLtZAAAAMFBMVEX////MzMxUVFSYmJgyMjJE\n",
       "RESqqqoQEBDu7u4iIiLc3Ny6urpmZmaIiIh2dnYAAADsbLlPAAAAAXRSTlMAQObYZgAAAEtJREFU\n",
       "CNdjYGB4e2cDAxCs3MBRxZHAwDCPgSGGt4GB5wcDwxE+Bgb2AAaG5y8YGPofMDC8B0rzGwD5QOU8\n",
       "CgzM7xmBjHfGBjxvGQCYMxGNK+jLuAAAAABJRU5ErkJggg==\n",
       "\" style=\"display:inline;vertical-align:middle;\" /></a><br>"
      ],
      "text/plain": [
       "alpha_: alpha"
      ]
     },
     "execution_count": 20,
     "metadata": {},
     "output_type": "execute_result"
    }
   ],
   "source": [
    "# amplitude of output register as indexed\n",
    "alpha_ = Literal('alpha', latexFormat= r'\\alpha')"
   ]
  },
  {
   "cell_type": "code",
   "execution_count": 21,
   "metadata": {},
   "outputs": [
    {
     "data": {
      "text/html": [
       "<strong id=\"alpha_l\">alpha_l:</strong> <a class=\"ProveItLink\" href=\"__pv_it/40f73a212793a21152593147730680e3bec3a4730/expr.ipynb\"><img src=\"data:image/png;base64,iVBORw0KGgoAAAANSUhEUgAAABIAAAAMBAMAAACdPPCPAAAAMFBMVEX////MzMxUVFSYmJgyMjJE\n",
       "RESqqqoQEBDu7u4iIiLc3Ny6urpmZmaIiIh2dnYAAADsbLlPAAAAAXRSTlMAQObYZgAAAGpJREFU\n",
       "CNdjYGB4e2cDAxis3MBRxZHQ9IGBYR4DQwxvA/cEBp4fDAxH+Bj4DjCwBzAwPH/BwGrA0P+AgeF9\n",
       "AgP/AgZ+A6AYA4M4AwOPAgPze0aGq0BT3hkb8LxliGWAgUIBGOvDBRjr3AYA9pkaVOlsNbMAAAAA\n",
       "SUVORK5CYII=\n",
       "\" style=\"display:inline;vertical-align:middle;\" /></a><br>"
      ],
      "text/plain": [
       "alpha_l: alpha_{l}"
      ]
     },
     "execution_count": 21,
     "metadata": {},
     "output_type": "execute_result"
    }
   ],
   "source": [
    "# These are subscripted with letter l (ell), NOT numeral 1 (one)\n",
    "alpha_l = SubIndexed(alpha_, l)"
   ]
  },
  {
   "cell_type": "code",
   "execution_count": 22,
   "metadata": {},
   "outputs": [
    {
     "data": {
      "text/html": [
       "<strong id=\"absA\">absA:</strong> <a class=\"ProveItLink\" href=\"__pv_it/2f83b477270cb4f7dc8d0b7688fa1583636c71fc0/expr.ipynb\"><img src=\"data:image/png;base64,iVBORw0KGgoAAAANSUhEUgAAABMAAAAVBAMAAABWJ8jiAAAAMFBMVEX///9UVFSqqqoiIiJERESY\n",
       "mJgyMjIQEBBmZmbc3NyIiIi6urp2dnbu7u7MzMwAAABs7OAJAAAAAXRSTlMAQObYZgAAAFlJREFU\n",
       "CNdjeMsAAXwXGE5DmTwbKGBy9nTVQpnbJ7B9gDB5Sxk4HCBMjr8MzAsgTHYHhvsPIMz7Bxj0oSbc\n",
       "V2AQY5oAZrIsYDXkgZogtW7ialKdsw7K5HoAAMcCLyafaf37AAAAAElFTkSuQmCC\n",
       "\" style=\"display:inline;vertical-align:middle;\" /></a><br>"
      ],
      "text/plain": [
       "absA: |a|"
      ]
     },
     "execution_count": 22,
     "metadata": {},
     "output_type": "execute_result"
    }
   ],
   "source": [
    "absA = Abs(a)"
   ]
  },
  {
   "cell_type": "code",
   "execution_count": 23,
   "metadata": {},
   "outputs": [
    {
     "data": {
      "text/html": [
       "<strong id=\"abs_alpha_l\">abs_alpha_l:</strong> <a class=\"ProveItLink\" href=\"__pv_it/b489aa4d48c01ee7398249e7d20bcc6a545987630/expr.ipynb\"><img src=\"data:image/png;base64,iVBORw0KGgoAAAANSUhEUgAAABwAAAAVBAMAAACnLJNvAAAAMFBMVEX///9UVFSYmJgyMjJERESq\n",
       "qqoQEBAiIiLc3NxmZmaIiIi6urp2dnbu7u7MzMwAAACfs0bCAAAAAXRSTlMAQObYZgAAAH5JREFU\n",
       "GNNjeMuABN4ynEbmnqY299TKDUjc9g28GbwBFz9AuTUMDJ5cF7gLIFzOvwwMk3kYeCZAuGwODAzH\n",
       "zjKwKEC49w8wMJwPYOBvgHD5gcLHGBieQU3mFGBgOs/HsARm0RklBc5TDF6orsp7gML9sACFO2cD\n",
       "Fi+sQ+auAwDLyzq3Pj120wAAAABJRU5ErkJggg==\n",
       "\" style=\"display:inline;vertical-align:middle;\" /></a><br>"
      ],
      "text/plain": [
       "abs_alpha_l: |alpha_{l}|"
      ]
     },
     "execution_count": 23,
     "metadata": {},
     "output_type": "execute_result"
    }
   ],
   "source": [
    "abs_alpha_l = Abs(alpha_l)"
   ]
  },
  {
   "cell_type": "code",
   "execution_count": 24,
   "metadata": {},
   "outputs": [
    {
     "data": {
      "text/html": [
       "<strong id=\"alpha_l_sqrd\">alpha_l_sqrd:</strong> <a class=\"ProveItLink\" href=\"__pv_it/5a79d1e176ce5a4b03ada7f735a0f4e6bc1f303c0/expr.ipynb\"><img src=\"data:image/png;base64,iVBORw0KGgoAAAANSUhEUgAAACYAAAAbBAMAAADi9+DuAAAAMFBMVEX///9UVFSYmJgyMjJERESq\n",
       "qqoQEBAiIiLc3NxmZmaIiIi6urp2dnbu7u7MzMwAAACfs0bCAAAAAXRSTlMAQObYZgAAALtJREFU\n",
       "KM9jYEADJz0voAvxNDAaoIuxN/D9wBDbwPGbAQOw/sUUY1/A8BaZD+KcZGA4jSwG5DBNwBTbw7AP\n",
       "XYzPNNQXXYzt//8PGHqRKAyxUys3oIu1b+DN4A24+AFZrIaBwZPrAncBkhgn0IOTeRh4JiCJsTkw\n",
       "MBw7y8CigCR2/wADw/kABv4GJDF+oIJjDAzPkO3lFGBgOs/HsATFLWeUFDhPMXhh8UfeA0yxDwsw\n",
       "xeZswBsG65DFIBwA3G1I9JNJvqcAAAAASUVORK5CYII=\n",
       "\" style=\"display:inline;vertical-align:middle;\" /></a><br>"
      ],
      "text/plain": [
       "alpha_l_sqrd: |alpha_{l}|^{2}"
      ]
     },
     "execution_count": 24,
     "metadata": {},
     "output_type": "execute_result"
    }
   ],
   "source": [
    "alpha_l_sqrd = Exp(Abs(alpha_l), two)"
   ]
  },
  {
   "cell_type": "code",
   "execution_count": 25,
   "metadata": {},
   "outputs": [
    {
     "data": {
      "text/html": [
       "<strong id=\"delta_\">delta_:</strong> <a class=\"ProveItLink\" href=\"__pv_it/7b94d0b5a6203ca5ebef473f179513660f922b3d0/expr.ipynb\"><img src=\"data:image/png;base64,iVBORw0KGgoAAAANSUhEUgAAAAoAAAAPBAMAAAAv0UM9AAAAMFBMVEX///9mZmYQEBAiIiIyMjLc\n",
       "3Nx2dnbu7u5UVFRERESYmJjMzMyqqqqIiIi6uroAAABeGh1sAAAAAXRSTlMAQObYZgAAAFhJREFU\n",
       "CNdjYGDgu7OBgYFhzcvfQLKBoQBIZjGAwPsAEMliACTY734DklsK5gOZ2gzrNzAwTmDYv4GBaQHD\n",
       "/gKG+g0MixkY+DcwzGJgYLvANwGoMvciAwMAt78V1IFUpeIAAAAASUVORK5CYII=\n",
       "\" style=\"display:inline;vertical-align:middle;\" /></a><br>"
      ],
      "text/plain": [
       "delta_: delta"
      ]
     },
     "execution_count": 25,
     "metadata": {},
     "output_type": "execute_result"
    }
   ],
   "source": [
    "# delta: difference between the phase and the best phase_m\n",
    "delta_ = Literal('delta', latexFormat=r'\\delta')"
   ]
  },
  {
   "cell_type": "code",
   "execution_count": 26,
   "metadata": {},
   "outputs": [
    {
     "data": {
      "text/html": [
       "<strong id=\"fullDomain\">fullDomain:</strong> <a class=\"ProveItLink\" href=\"__pv_it/4e345dcae140b7f3f13d3bada7a3c2251b6aa9ff0/expr.ipynb\"><img src=\"data:image/png;base64,iVBORw0KGgoAAAANSUhEUgAAALMAAAAZBAMAAACIvQJIAAAAMFBMVEX///+IiIi6urrc3NxERETM\n",
       "zMwQEBCqqqpUVFQiIiJ2dnYyMjLu7u5mZmaYmJgAAABN0h6tAAAAAXRSTlMAQObYZgAAAX5JREFU\n",
       "SMdjYMADWB0YSAd4NW2FKbo7gXgTidLE8wHGYiLeaOI0sU8gw2jsmvjuoShivrk3gGSj0TSxXjwA\n",
       "9souNGXcBWS4Gk0TUyrY0R+QQuyuSwADvwFpRmPVdBtEcCHpP8HA9YkhjIFBxQUIDmAzuuwAhhBW\n",
       "TSvRjb7DwJDGIMFjgOHqQqgDu/oxjcaqCcPoTAaGfoOLXJjRXghjvMc0GqsmDKP3H2DoD4gQhUf7\n",
       "DwEijMaqCcNoIJh/AFtU4TMaq6ZlIIJjA7IQ0y8G0o3Gouk9OM4DkIU4G8gwGosm7gsMDCGTgYzT\n",
       "u0EAVMLcxaJz9e7d03bv3oHbaGyaOoEhrobsasYLDKS7GpsmbpBHOJDL11oGZgOSjcam6T16CmFd\n",
       "wMBIstFYNS1DN9py1dpO/AEiDzKa5zeQOL8BysCqCTPL/P//E6/RN/L3PgBSM2DJYgYuTdiyDIFo\n",
       "JBZAjE4gQuUZsoxGLq+pB8DlNcMuGpjMlAQpBe9R3WRw3QgA7vaTtDc494cAAAAASUVORK5CYII=\n",
       "\" style=\"display:inline;vertical-align:middle;\" /></a><br>"
      ],
      "text/plain": [
       "fullDomain: {-2^{t - 1} + 1...2^{t - 1}}"
      ]
     },
     "execution_count": 26,
     "metadata": {},
     "output_type": "execute_result"
    }
   ],
   "source": [
    "fullDomain = Interval(Add(Neg(Exp(two, subtract(t_, one))), one),\n",
    "                      Exp(two, subtract(t_, one)))"
   ]
  },
  {
   "cell_type": "code",
   "execution_count": 27,
   "metadata": {},
   "outputs": [
    {
     "data": {
      "text/html": [
       "<strong id=\"negDomain\">negDomain:</strong> <a class=\"ProveItLink\" href=\"__pv_it/cae98ac94d55b5a49b68c4e0d73b0473553a0bb10/expr.ipynb\"><img src=\"data:image/png;base64,iVBORw0KGgoAAAANSUhEUgAAAN8AAAAZBAMAAABDZua2AAAAMFBMVEX///+IiIi6urrc3NxERETM\n",
       "zMwQEBCqqqpUVFQiIiJ2dnYyMjLu7u5mZmaYmJgAAABN0h6tAAAAAXRSTlMAQObYZgAAAhZJREFU\n",
       "SMe9ljtIA0EQhifGGL2smkaw00IFEWRbGxEf/RUidoqgIAgmjWAhCIKgTQKC2GklPgiIEJAc4hWC\n",
       "QkRj5yvBQisRxcoX6M4ll6zn7iV6moEMuxdmv92Zfx8ANubpgKJY1OQlw0XhkUezVVIcoDf8z8Cq\n",
       "1Jeu+3xX/R+g51Q3MhizfPcFHKywXZY2iuMNGwt85MqX7Fahmv4eSKS6nkF3iU7hRj0E5Qn6ABq6\n",
       "mekCoHfMHuijoq8TLJVxbKxbgVcAI1BL6LcVBjMTWnu3B97znUwQmQ8xoOIXAUcBQvRU+a7XoCmw\n",
       "PMAFARDggQHJoAi4p0NI7a/J6vXZ/zOgOywFwrYIyGxZF41UINCVYO5mpFMEjLDfKvbKt/iQkldw\n",
       "ACy9Bqi8hVYR8A4bhoRUPqRiugAgQadnHRfNtnCjJKWTKGKWgV6sc1xDw0M7KaBtatqipu3kgCcs\n",
       "KeQNTGcEazjvsnqAg/2EJSgNHMDWHBNFk2otQt4VGmlYAtPlDIFHkhUi0IeB5fzhMAVu6qCGLKVE\n",
       "lQCbzRryKvWsgIs6E42XAalMNKtWYNtGZM42pS57oJIAdxSOAxZgHQIvhBv/4+PFDlg5+5ayA+JZ\n",
       "2DLaY5nl2fjudfodIdr49qLJZwvSIBLOAgcLGOioQOC9NCh3ePP3oWMrpbJ/4tn7EGJ/+QCTXsBd\n",
       "WOKh9CWU+kOi7IlRRTNvmk/hOa3g+vEAPAAAAABJRU5ErkJggg==\n",
       "\" style=\"display:inline;vertical-align:middle;\" /></a><br>"
      ],
      "text/plain": [
       "negDomain: {-2^{t - 1} + 1...-(eps + 1)}"
      ]
     },
     "execution_count": 27,
     "metadata": {},
     "output_type": "execute_result"
    }
   ],
   "source": [
    "negDomain = Interval(Add(Neg(two_pow_t_minus_one), one), Neg(Add(eps, one)))"
   ]
  },
  {
   "cell_type": "code",
   "execution_count": 28,
   "metadata": {},
   "outputs": [
    {
     "data": {
      "text/html": [
       "<strong id=\"posDomain\">posDomain:</strong> <a class=\"ProveItLink\" href=\"__pv_it/bfd5b5224dbfff8e28b83fbcf0d6e0d73fc6aba00/expr.ipynb\"><img src=\"data:image/png;base64,iVBORw0KGgoAAAANSUhEUgAAAIUAAAAZBAMAAADtUPA3AAAAMFBMVEX///+IiIi6urrc3NxERETM\n",
       "zMwQEBCqqqpUVFQiIiJ2dnYyMjLu7u5mZmaYmJgAAABN0h6tAAAAAXRSTlMAQObYZgAAAWhJREFU\n",
       "OMtjYCAfhJCtkzsAyoi9SbYZ5+EsTbLNqMRmBt89UoywnX0VyQzWiwdALJ5dpLljO4o7mFLBzvhA\n",
       "tPazV1wZGD6j+uU2iOCagFV92QEMIZ4GhvUKrAkMTC5A4AM1YyWmGYVQ5V39mGbwHmBgS2BsOIzi\n",
       "DtxmMDC8xzSDbQIDx2degQUoMUSiGdx/GDi+sjbC0pjt/EYUM56kORE2Awg4/6CLLAMRHBuAPn3K\n",
       "oEeUGfoL0EXegyMA6DZVovwCBDMwPXgBmPkmAxnHj1wA8Vfv3j1t9+4duM3gvYAp1inAwKAGdMcZ\n",
       "It0hiyUbN4DCw4GBJ4A4M9gvMBhjDQ9gvLADzTAgwowoBgZhrPECNIN5K8O5AjQz5EFm8PwGFRgb\n",
       "oAzmWatuYGQMePrQznRF88uN/L0PoPHA2QBlcP///x+3GVjSKbEAYkYCstAZsswgofzABsDlB8Mu\n",
       "SoxgSoLE+j3yjQCXpwCOB2+VUf9gTQAAAABJRU5ErkJggg==\n",
       "\" style=\"display:inline;vertical-align:middle;\" /></a><br>"
      ],
      "text/plain": [
       "posDomain: {eps + 1...2^{t - 1}}"
      ]
     },
     "execution_count": 28,
     "metadata": {},
     "output_type": "execute_result"
    }
   ],
   "source": [
    "posDomain = Interval(Add(eps, one), two_pow_t_minus_one)"
   ]
  },
  {
   "cell_type": "code",
   "execution_count": 29,
   "metadata": {},
   "outputs": [
    {
     "data": {
      "text/html": [
       "<strong id=\"epsDomain\">epsDomain:</strong> <a class=\"ProveItLink\" href=\"__pv_it/81829f2e48b3579cf43a6c2002c06a45f3c5536c0/expr.ipynb\"><img src=\"data:image/png;base64,iVBORw0KGgoAAAANSUhEUgAAAIYAAAAZBAMAAAAGZ0s0AAAAMFBMVEX///+IiIi6urrc3NxERETM\n",
       "zMwQEBCqqqpUVFQiIiJ2dnYyMjLu7u5mZmaYmJgAAABN0h6tAAAAAXRSTlMAQObYZgAAAVRJREFU\n",
       "OMtjYCAWsDowkAu2woy4O4FcI3g+wFhMZJvBPoEoM/ju4ZZjvrk3AK8ZsTJg1+7C5w7uAgLuUAPZ\n",
       "wfcBV1DcdQlg4DfAaQZYnoF3A5DJBZJjz8E04wQD1yeGMAYGFRcgOIBpBlgeoh1EnFjxB9OMOwwM\n",
       "aQwSPAa43AGWR5jBwIfFjEwGhn6Di1yYMYQsT8CM/QcY+gMiROEx9EMAizwBM4Bg/gH8qQcoz5UA\n",
       "pDk24DSD6Rd+I0Dy4GgtC8BpBmcDfjPA8nsZGEImM+A04y4WsdO7QWArQp5jIiyhYTOD8QJ+Z0Dk\n",
       "d4DMccBlRi0DswE+M8Dy4PDAGS+sCxgY8ZkBkQfHC9gMRrAZ5zdACZ7fQIblqrWd+JwBkYenD962\n",
       "3/dg4QwmZoDS0P//P/GZAZFHpDHyAcSMBMrNwFl+EAfA5QfDLorMUFMAZ+p7FBgBKk8BF+VudCZl\n",
       "IagAAAAASUVORK5CYII=\n",
       "\" style=\"display:inline;vertical-align:middle;\" /></a><br>"
      ],
      "text/plain": [
       "epsDomain: {1...2^{t - 1} - 2}"
      ]
     },
     "execution_count": 29,
     "metadata": {},
     "output_type": "execute_result"
    }
   ],
   "source": [
    "epsDomain = Interval(one, subtract(two_pow_t_minus_one, two))"
   ]
  },
  {
   "cell_type": "code",
   "execution_count": 30,
   "metadata": {},
   "outputs": [
    {
     "name": "stdout",
     "output_type": "stream",
     "text": [
      "Common expressions may be imported from autogenerated _common_.py\n"
     ]
    }
   ],
   "source": [
    "%end common"
   ]
  }
 ],
 "metadata": {
  "kernelspec": {
   "display_name": "Python 3",
   "language": "python",
   "name": "python3"
  }
 },
 "nbformat": 4,
 "nbformat_minor": 0
}
