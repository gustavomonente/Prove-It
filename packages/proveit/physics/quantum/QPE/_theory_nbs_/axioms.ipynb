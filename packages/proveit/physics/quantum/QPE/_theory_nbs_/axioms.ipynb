{
 "cells": [
  {
   "cell_type": "markdown",
   "metadata": {},
   "source": [
    "Axioms for the theory of <a class=\"ProveItLink\" href=\"theory.ipynb\">proveit.physics.quantum.QPE</a>\n",
    "========"
   ]
  },
  {
   "cell_type": "code",
   "execution_count": 1,
   "metadata": {},
   "outputs": [],
   "source": [
    "import proveit\n",
    "# Prepare this notebook for defining the axioms of a theory:\n",
    "%axioms_notebook # Keep this at the top following 'import proveit'.\n",
    "from proveit import Literal, ExprArray, ExprTuple\n",
    "from proveit import a, b, eps, k, l, n, t\n",
    "from proveit.linalg import MatrixProd, ScalarProd, TensorExp \n",
    "from proveit.logic import Equals, Forall, InSet, Set\n",
    "from proveit.numbers import zero, one, two, three, e, i, pi, Div, Exp, Integer, Interval, IntervalCO, NaturalPos\n",
    "from proveit.numbers import Add, Exp, Floor, frac, LessEq, Mod, ModAbs, Mult, Prod, subtract, Sum\n",
    "from proveit.physics.quantum import (Ket, Meas, RegisterBra, RegisterSU,\n",
    "                                     QubitRegisterSpace, ket0, Hgate, CONTROL, SPACE)\n",
    "from proveit.physics.quantum.circuit import Circuit, Input, Output, MultiQubitGate, IdentityOp\n",
    "from proveit.physics.quantum.QPE import (alpha_l, b_, delta_, m_, n_, phase_,\n",
    "                                                  phase_m_, psi_k, psi_1, Psi_, psi_next, t_, two_pow_t,\n",
    "                                                  u_, U_, U_pow_two_pow_k )\n",
    "from proveit.physics.quantum.QPE.phase_est_ops import ModAdd, Pfail, Psuccess\n",
    "from proveit.statistics import Prob"
   ]
  },
  {
   "cell_type": "code",
   "execution_count": 2,
   "metadata": {},
   "outputs": [
    {
     "name": "stdout",
     "output_type": "stream",
     "text": [
      "Defining axioms for theory 'proveit.physics.quantum.QPE'\n",
      "Subsequent end-of-cell assignments will define axioms\n",
      "%end_axioms will finalize the definitions\n"
     ]
    }
   ],
   "source": [
    "%begin axioms"
   ]
  },
  {
   "cell_type": "markdown",
   "metadata": {},
   "source": [
    "Let $U$ be a unitary operator that acts on $n$ qubits, with $\\lvert u\\rangle$ as an eigenstate of $U$ with eigenvalue $e^{2 \\pi i \\varphi}$:"
   ]
  },
  {
   "cell_type": "code",
   "execution_count": 3,
   "metadata": {},
   "outputs": [
    {
     "data": {
      "text/html": [
       "<strong id=\"n_in_nat_pos\">n_in_nat_pos:</strong> <a class=\"ProveItLink\" href=\"../__pv_it/axioms/9530df65f2fb77490b5e9e6e2acbe2665bedeb480/axiom_expr.ipynb\"><img src=\"data:image/png;base64,iVBORw0KGgoAAAANSUhEUgAAAEEAAAAUBAMAAAAgmk0yAAAAMFBMVEX///8QEBCYmJgyMjIiIiKq\n",
       "qqrMzMzu7u5ERERmZmaIiIjc3NxUVFR2dna6uroAAABXsXCEAAAAAXRSTlMAQObYZgAAAO5JREFU\n",
       "KM9jYKAM8BBUwUFDFcU/mgsYLn58gMeMJrYDDOwfGA4bGxobK2BVcSRhFQODADZbNFxcDED0uXae\n",
       "BAYHLCoylkMZp3PYzREq+O7sXjULLA4UhalgXZCDUMHL0cVQvwEcgBvgKhjuMS2Aq0hlMWDYn4Dq\n",
       "+dMMPAXHQCq4QbyC+gcM+mDxRGMgMICoYD/ALADXEM/AcBjM2IFkBkMuG0LFZAaGT+wgBiOyCqaA\n",
       "BjhXloH1Oy+IwbkAJnQMiG/DVXD/Y+A1UAMzXWFipiD1BjAenwMD96EAMLOmrwBMp3wE6mc3wBYf\n",
       "b1tcMMUBZP03a848vAYAAAAASUVORK5CYII=\n",
       "\" style=\"display:inline;vertical-align:middle;\" /></a><br>"
      ],
      "text/plain": [
       "n_in_nat_pos: n in NaturalPos"
      ]
     },
     "execution_count": 3,
     "metadata": {},
     "output_type": "execute_result"
    }
   ],
   "source": [
    "n_in_nat_pos = InSet(n_, NaturalPos)"
   ]
  },
  {
   "cell_type": "code",
   "execution_count": 4,
   "metadata": {},
   "outputs": [
    {
     "data": {
      "text/html": [
       "<strong id=\"unitary_u\">unitary_u:</strong> <a class=\"ProveItLink\" href=\"../__pv_it/axioms/a03f7581547fb1a39b91ce5f74b04eedd54ea3aa0/axiom_expr.ipynb\"><img src=\"data:image/png;base64,iVBORw0KGgoAAAANSUhEUgAAAGsAAAAVBAMAAACzuQ2OAAAAMFBMVEX///+YmJjMzMzu7u5mZma6\n",
       "urp2dnaIiIgyMjKqqqpEREQQEBAiIiJUVFTc3NwAAACfk0VHAAAAAXRSTlMAQObYZgAAAgBJREFU\n",
       "OMuVVDtII0EY/uImu3muIncgFrJcqYWx8QoNWVC8RjGVYqGJIAlYqGBhu6BwdklhJ2gsrji5w7v2\n",
       "FEkrBg1yzaHoWh2Iwaj4wAfrP7s7qwkKceDP/PM/Zr7vm9kA7xkf6mfU99QfW9PH39gElsgr7v7J\n",
       "YO12qqLO15N0jRzcf4ff+AoIWQjdq4r8OYdLIKRTwWQMkCq7sAJhDeIVeTNkXh0RtgpNeX7RJhqF\n",
       "0mTucEWXmyg0wFsit4txMqd1BBR3QgFSFLojC9nVjfm8ZjpRSg6iNktugWwH2ACO9DMEhyjTAXhu\n",
       "KNxudTVP89PidcAnxAm7kADkHIEK40gZhjTKMMcgXjCFzFph1gEZvVYYbfpxMeqW6ruciqgiSBxh\n",
       "hU2FrCEZxiGwzViS+etYzHPNsy4N0YKNn7IvNGnbvw8LjzbtYIaFggXndnJYpp1kS/+WeRoaz/Vn\n",
       "fOc0/ScLxFig29mzpmTiFy10J05cZPQyJu0J3iapZW3P+geceISsNSyWbPwmyAXInLuHQJI8h/Yd\n",
       "O29lkawHPv6QmCQ1CUj6syReFUXFXm7xtl4VIh0zB3nPFhynybED5w3RXY7/dQ6JfLNvRh3u+8fK\n",
       "f37hoJA2jAde51XKn+LAj7z22nezU77srPbzLF+mqmzz6y9XglZlm5B9e5Mq/hSs0QQ8AS/0eZK5\n",
       "gawlAAAAAElFTkSuQmCC\n",
       "\" style=\"display:inline;vertical-align:middle;\" /></a><br>"
      ],
      "text/plain": [
       "unitary_u: U in SU(2^{n})"
      ]
     },
     "execution_count": 4,
     "metadata": {},
     "output_type": "execute_result"
    }
   ],
   "source": [
    "unitary_u = InSet(U_, RegisterSU(n_))"
   ]
  },
  {
   "cell_type": "code",
   "execution_count": 5,
   "metadata": {},
   "outputs": [
    {
     "data": {
      "text/html": [
       "<strong id=\"u_ket_register\">u_ket_register:</strong> <a class=\"ProveItLink\" href=\"../__pv_it/axioms/1ae419e1e0c310ed2277fdf0e23e4125f29a74780/axiom_expr.ipynb\"><img src=\"data:image/png;base64,iVBORw0KGgoAAAANSUhEUgAAAHQAAAAeBAMAAAAP2ycoAAAAMFBMVEX///+qqqpUVFQiIiJEREQy\n",
       "MjKYmJjc3NwQEBBmZmaIiIi6urp2dnbu7u7MzMwAAAAIy0x7AAAAAXRSTlMAQObYZgAAAlhJREFU\n",
       "OMutlD1oFEEUx/93l+ztuh85KwslnBAQUoigKYIYjhgQReEULCyEw0oL9YogFkrS2KTQJRALTWRB\n",
       "FGMSDVanqBlQEE2EVQioiAY7P4mNCnLGN7uzHzebO3IhAzP73s78Zt78580ATZZ3cy+wumIxmM+a\n",
       "Ip7vdX3DGIM5B+Xyl/EVkkY5XfStKc19b5aUSkktNyS+BkambP2Gwy0H1xic89fR5jbcVz5Ep7N/\n",
       "cc9Hz7rUdKICfBe9qSTaGps4VYVR4miWvST0IkYtzIo+bTqBXonZGQp3F33bz0H7kMsuYmd7iEbR\n",
       "BSVb5e2Nrj87bJKYTC6qwYBR6HlMlkIU2xKyEoEfP/H2lw2F2wNUzVnoU2JAiN6UUTUHKGkK9LSN\n",
       "h3hMQdMP6JMTkNF58VV2b+/yjAFS6ZRKTdq2Dq4/QHIUaucO0Rb/jK19ga7Hqdr9PEhHXVpaBNYN\n",
       "yqg57uCNixTzFw9PZISg/OfYUL0qo5o+iLuhTlvCnj4SmT2Ip8g/GT2jFfkwXPX8aD+HCLXjKGWU\n",
       "hLqqgyGyPnkzXzhMxevppoAL32JDzQSKGdcLZZM3c7TqEapH0w1XxRNfuz2eH6nYS/WEhwrl6PbI\n",
       "aC9aCieD9aLE7eAnNkEpoRfrKYxhVGwGI+fneS7oueWd0H73VZ9YVUmcK17f3tC5gIzQouOR6Jnh\n",
       "hDVyqXshuFz1sul+cPBPRSKq8jVsdeqgW+X015j046O7PGoWE++LtDUcw/Ko4iReic2S3yP5d4KL\n",
       "k3zh5mtdha383U7ZNW5/M2/+xhpvDGtW/gOV0pxJGXesSwAAAABJRU5ErkJggg==\n",
       "\" style=\"display:inline;vertical-align:middle;\" /></a><br>"
      ],
      "text/plain": [
       "u_ket_register: |u〉 in (Complex^{2})^{otimes n}"
      ]
     },
     "execution_count": 5,
     "metadata": {},
     "output_type": "execute_result"
    }
   ],
   "source": [
    "u_ket_register = InSet(Ket(u_), QubitRegisterSpace(n_))"
   ]
  },
  {
   "cell_type": "code",
   "execution_count": 6,
   "metadata": {},
   "outputs": [
    {
     "data": {
      "text/html": [
       "<strong id=\"phase_in_interval\">phase_in_interval:</strong> <a class=\"ProveItLink\" href=\"../__pv_it/axioms/78f688cebefff9a4a6774b3a1ba6c8ea8e24a0fd0/axiom_expr.ipynb\"><img src=\"data:image/png;base64,iVBORw0KGgoAAAANSUhEUgAAAFAAAAAUBAMAAADo9qfkAAAAMFBMVEX///8QEBAiIiKIiIjc3Nxm\n",
       "ZmZUVFSYmJh2dnbu7u5EREQyMjK6urrMzMyqqqoAAABb/SrcAAAAAXRSTlMAQObYZgAAAU5JREFU\n",
       "KM9jYMACrPeiCfA5MGAFPQwMHOa9yCIpOBXuY5gEM+XhBAaG2bgUsgswcGwAszkz8oEKOQxQFFQp\n",
       "KW2AKORKYOD7CRWtByrkFEBWd8sSbiJ/AgPPPySFDHsY+C4w8OxfCbZkJ8Lq+QEMPJ+RFbYycDAw\n",
       "3K5JBQmwOSAU+jcw8KIorGYoYWBIYGADCXAhecY/gIH3B7LCRwwBDOwTGFhBAhd3A8EGHFbfZ2hg\n",
       "YGZgmAwS8EIyEegZvn+oCgMYzjIwRIIEGJEUci1gYEcOHoZDDO1ApdMugARYDbAFONwz3Nv3PtWB\n",
       "iOghRaEew8QLnL/BPHuQwggGhqL/GlD5aWsmwBXOMM5lYFAC8cPktxYwMADTE2sB3G0nFsGiEJq6\n",
       "JsBkOBWAfriALfWAAQdcBJQozjPgVDgZLgJKZma4FSIctQR7ejRCzwrsDgwAoGNaF5LpImwAAAAA\n",
       "SUVORK5CYII=\n",
       "\" style=\"display:inline;vertical-align:middle;\" /></a><br>"
      ],
      "text/plain": [
       "phase_in_interval: phase in [0,1)"
      ]
     },
     "execution_count": 6,
     "metadata": {},
     "output_type": "execute_result"
    }
   ],
   "source": [
    "phase_in_interval = InSet(phase_, IntervalCO(zero, one))"
   ]
  },
  {
   "cell_type": "code",
   "execution_count": 7,
   "metadata": {},
   "outputs": [
    {
     "data": {
      "text/html": [
       "<strong id=\"eigen_uu\">eigen_uu:</strong> <a class=\"ProveItLink\" href=\"../__pv_it/axioms/225b6226c8f93164b52769e7b99506d563c40e360/axiom_expr.ipynb\"><img src=\"data:image/png;base64,iVBORw0KGgoAAAANSUhEUgAAAL8AAAAcBAMAAADCTHN1AAAAMFBMVEX////MzMxUVFR2dna6uroQ\n",
       "EBCqqqqIiIgiIiJmZmYyMjJERETu7u6YmJjc3NwAAACgK8IjAAAAAXRSTlMAQObYZgAAAv9JREFU\n",
       "SMe1Vk1oE0EU/rZp/trNGsXiRWiKVgVB9uDBCmpUBD2loNCDIEFFPJV4KKUHtSAKgsL6R8V6iEUt\n",
       "etDQgyD+sAgFWwUDpQjFQw6CWrWNfwiSGt+b7Dab2TVNpL4wf/tmvm/mvTdvAvyTdDw0ywO/jsUW\n",
       "X64hXR4F44sIvVzUoZzyu4bJwfrxlViJIK59r2F2Y8z1aaXVBv6ypMk2faBA1XSxWIzSx6zYrXIr\n",
       "KSNs4UrLOgA2Wm2YzBrIuQkG7E4oRdWFFWMvYRF04+PSfgkBId7PC2jrfjxAc3HYoRam2ODC1wrz\n",
       "YQTVUHEiDIwRgWogRT9dRggaVN2joGCD9jpPAN7MuDt6DKsTMaAcADIfgJZcU5b6upqsIBAIWl5M\n",
       "RRO1uF5BcJzhUjKBP2l1dmI7r8/sgG2iWBCRpIyAMxxxwJIMz6gg4N2rnTLBrOVj5faRx2znbMs8\n",
       "wdTBt6tcCBgE3lOToK2qeoW6mT18UyaYZNr2U/AXi3nhQ+FFQdB4f3/cjdAD9FGzjWItYqnVvhRG\n",
       "TQR04UlJrlEZPd8T84rg13YcOhESJp5Qc5qPa6nDjZ04afloij9tvstyR6gfUWk3y7HklNXwQGiN\n",
       "shvUr9RtsNSfw2mBc5nKURlkiMpPiE255Bw8EGbj2Ec3ao667yy16U+hi3rLmF8GOUv+pdv7rUp6\n",
       "qER4JQh8X6i71b7JCVPh8SEvAjKUMjcz86kqgROBTkAm8uXtKGX1JgQ5PJ9S2V32wZBQj5RMhOoE\n",
       "DoTWHNuTE1dDzlaPoDnzhu6Q7WSnrKdyxYRWncCBQFHUIU6utc2rL2KXocPHt/KSvJrCGs/3TnRV\n",
       "J3AgTJbM4BsZKKuf9XavjSLEoxvy6gTfq6u/stUJHAiDpVThTtfYw3e235WLFn4cKxAwXEp2Huo2\n",
       "z2QX1msnYAS1YDnbpVbTnula6ayZQCBEYuLB8VBHUjJ1SdbUTCAQQlH5yTxmp0LyZsTjyRxfkMCJ\n",
       "gIm6/1UEjHpmi6tQpxyuZ3LYxP+XP+Tqz6Og0YdLAAAAAElFTkSuQmCC\n",
       "\" style=\"display:inline;vertical-align:middle;\" /></a><br>"
      ],
      "text/plain": [
       "eigen_uu: (U . |u〉) = (e^{2 * pi * i * phase} * |u〉)"
      ]
     },
     "execution_count": 7,
     "metadata": {},
     "output_type": "execute_result"
    }
   ],
   "source": [
    "eigen_uu = Equals(MatrixProd(U_, Ket(u_)), ScalarProd(Exp(e, Mult(two, pi, i, phase_)), Ket(u_)))"
   ]
  },
  {
   "cell_type": "code",
   "execution_count": 8,
   "metadata": {},
   "outputs": [
    {
     "data": {
      "text/html": [
       "<strong id=\"t_in_natural_pos\">t_in_natural_pos:</strong> <a class=\"ProveItLink\" href=\"../__pv_it/axioms/1cb7dff19f04b0a7bf88de5af468785dabb0a16e0/axiom_expr.ipynb\"><img src=\"data:image/png;base64,iVBORw0KGgoAAAANSUhEUgAAADwAAAAUBAMAAAAjLUMaAAAAMFBMVEX///8QEBCYmJhUVFTMzMzu\n",
       "7u6IiIhERES6urp2dnYyMjJmZmaqqqrc3NwiIiIAAACerFpgAAAAAXRSTlMAQObYZgAAANxJREFU\n",
       "KM9jYCAbGOCXLqC6NOv68qUMnPIScOm3qPLsCs4MDPEMzKtWSa1axMDA8wFVmvkJWwIDI9xw7gUQ\n",
       "YfV378As5vYAEwY+uDTfBLCseypM9xWDqAC4dHd9dQLIRUvhhl84xmKA0H0eKoiQ5mxQQ0jvgrgX\n",
       "4bQLDKbMfiAWWMdLsKDjKiBYAJUOZlgID4YfYOo6sm6WCY4wHscHhgAgxYgszaADt4tzAY8DyPcJ\n",
       "cGkglxNuGLdBGJh+AxPgOgB3LxDwFimA6eCKADDN8l4cSEZhRFVn3bsFGIIATsw2Igf3W/cAAAAA\n",
       "SUVORK5CYII=\n",
       "\" style=\"display:inline;vertical-align:middle;\" /></a><br>"
      ],
      "text/plain": [
       "t_in_natural_pos: t in NaturalPos"
      ]
     },
     "execution_count": 8,
     "metadata": {},
     "output_type": "execute_result"
    }
   ],
   "source": [
    "# t (represented by the Literal t_)\n",
    "# denotes the number of Qbits in the input register\n",
    "t_in_natural_pos = InSet(t_, NaturalPos)"
   ]
  },
  {
   "cell_type": "code",
   "execution_count": 9,
   "metadata": {},
   "outputs": [
    {
     "data": {
      "text/html": [
       "<strong id=\"psi_kets_in_q_reg_space\">psi_kets_in_q_reg_space:</strong> <a class=\"ProveItLink\" href=\"../__pv_it/axioms/403bc7271945220b0ed26c95bc1463aeb736c3a50/axiom_expr.ipynb\"><img src=\"data:image/png;base64,iVBORw0KGgoAAAANSUhEUgAAANgAAAAmBAMAAABUlki3AAAAMFBMVEX///8QEBCIiIhmZma6urrM\n",
       "zMxUVFQiIiJERETc3Nzu7u6qqqp2dnaYmJgyMjIAAAAcRTyBAAAAAXRSTlMAQObYZgAABE5JREFU\n",
       "WMOtV2uIVFUc/82989i5987usFCRfeguYahEDG6RbFHDiggROVvRaivtYClBEEMPJOzDYGGjJoz4\n",
       "QUFhbgUWy9YMtB+MBC8qhKvCpATSi/FBD6GS7OVm2Pmfe+/cxxmno7MH7pkz5/7P/3f+r985F5Bp\n",
       "mSZ6aMogoBWlxe9FT+1V9jwuKxxfcJMo2j0nTNbPkXmypr1buEmwtcB0FfESjX+WXLPhxiCMZSPu\n",
       "6IiFaRtG7glm1k5LanHiyo2BHcNLbmZYI5r9Efq/fpQ5Minnx345sae8weuYrCocDOpa1g2s51ue\n",
       "k9JSq0rZX/STr5aPFzlYegHrxhY1aPqcFNjD1D0Tmmp0sD8Qk0MWTnKwfYalYFEiS9v9QgpskLqj\n",
       "zvbdqftEqaWB8ctAimHra2yMTGBzomSSg/Jo0ctvu2Gl//DBDHfuaVGKF9MPv972JpPKsSF7cAJQ\n",
       "bfyEdVQ7MRvHSfJiV666JIKlxHxnyhOTDe2R08BpAqdV03mMtr2bbGEPvSh3A1NLPthej+4Esoyx\n",
       "MDbXsa1dRtyOM0s20ezo4bxPkZd4XI1GN7BU2Qf7yuOhljs4s3GjM6xZyBSI1p7Ds58dYEqXRfXo\n",
       "V5CZnZra3TU/BnI+mO1NbnV+Vi/xJliuqdxD7+HOa9fY75BQG/8Af1cqb3SgnACY6YBpd5mwlZIz\n",
       "edAx8GKwPvYncgENq6L0pP0LrG9vMxQof1hvOmCGnk03lDkMme0MSfrlXgH2xc2AhkmBvX8DlvMA\n",
       "DJnXBau5YHvVUsZCFimKucoD3+dLfQ/sCoHV8lGwq7RHSq2U92r8obxyawhssuGAWTGTOTeHutUm\n",
       "p7FfWHMS5BXgw4QdUF0XwC6z6DTJJVyDdnC4qZdnMWIMPzD8YBQMq6oGNBMreWpxvXt8TeeJsIpd\n",
       "LWNg6RbRAddw5tMp6KdUyrkObsTnmIBh4UjibuZAHq2YL7WFlViOwDRvj1H61q5SFj9PxxzTEKdk\n",
       "0ifWmGGwupuNrHKWYIYduTPMDY5Nqh+kF9izeTRw2RCyMc2yEZ9QNpOGfu6fwuyXYbABu+1GO8N8\n",
       "8yel2XHn3aa2FJWV+uOsdmCbX3hinTl1RBred8AMorkAWKzogunv7FjM1gxuZ3/dctv/lhU05Mmz\n",
       "f93vLRMYJP47Ea3lahivVCqmXkg3S/5ZQvnd8hgkQamilMfSjsepPfa2S1exaD4IZ2XGO6q5hqRj\n",
       "GVaEa87IemAK7b7PHFeQFCpWtSPpINwCHD2eBoM0sKhkwuv0OQ+Mc1h/NbkQH4u3gmzEjuJ1rzJc\n",
       "AygYKy8ARYHTXMvac6dEgnsxclYIttfDx5LCYtaB9rdQtzA0tU2Uihj7jSBwSOreJHdT0XOhoip3\n",
       "vjf9b6s3pMRmQvki3n/vkPvkaWEempKVk7tlPsBikt94380HmOw3Xp/ZO1b6dtlvutd6B/ugISu5\n",
       "u9oz2A55HxR6xdKIp/8DNvIKios0+BgAAAAASUVORK5CYII=\n",
       "\" style=\"display:inline;vertical-align:middle;\" /></a><br>"
      ],
      "text/plain": [
       "psi_kets_in_q_reg_space: forall_{k in NaturalPos} (|psi_{k}〉 in (Complex^{2})^{otimes k})"
      ]
     },
     "execution_count": 9,
     "metadata": {},
     "output_type": "execute_result"
    }
   ],
   "source": [
    "psi_kets_in_q_reg_space = Forall(k, InSet(Ket(psi_k), QubitRegisterSpace(k)), domain=NaturalPos)"
   ]
  },
  {
   "cell_type": "code",
   "execution_count": 10,
   "metadata": {},
   "outputs": [
    {
     "data": {
      "text/html": [
       "<strong id=\"PsiKetInQRegSpace\">PsiKetInQRegSpace:</strong> <a class=\"ProveItLink\" href=\"../__pv_it/axioms/02cf6ee986ab7be548513c8e84b75e7e29c164040/axiom_expr.ipynb\"><img src=\"data:image/png;base64,iVBORw0KGgoAAAANSUhEUgAAAHQAAAAfBAMAAADEh/SNAAAAMFBMVEX///9ERESYmJjc3Nyqqqoi\n",
       "IiIQEBBUVFQyMjJmZmaIiIi6urp2dnbu7u7MzMwAAACxEeIOAAAAAXRSTlMAQObYZgAAAmxJREFU\n",
       "OMutlU1oE0EUx//ZzWSbJrukiAdFpTfxYpOLIBS6Bz0IfqwHJR6UHHoQVIx4Uyg5FPFSuseibVk8\n",
       "KbWSW6n4sSII2ooLFqkiNidFUJFGtBBjfbPf2U1tGxzYyX/mzW/mzXuPCdBh66p1AL2bf0H9Ugek\n",
       "YkJ+ChzcOPF8m+WI7ATkeewvTm6UzOaliqOm09Z7uRfD63pXdQXLK3UYXBmYNKmrr4d+8gSrig3M\n",
       "OOg+C4ZSAr76y5Jt0JFAJpvI9nJUNF/C6C6/xpxvS1djZNoINCN9mn6P9iP9QU0bpo3Ojq5cpXuV\n",
       "Y+gAj+rt4s/jOoWY5B0eMBMYh3Kl5pya0nivxTNC37cfeLusQ9D5VvTJc8hM21YSR8A0LKi4FUMH\n",
       "AUEiR/t0PMAjclqlyczdKbiofJKj1/JYdAFh64miLcQmsDdFTku6MnxgJ909F96YHH5VY5r8C0jk\n",
       "nVxut7w9KAN6gTtppFZXvwPdpQjaV2Wa+JvCb9ozi5Yf4Ark8ufQ4kwzgh5TmZZZ9uN02bclchDN\n",
       "++Hi+hNBB0ymCQ3SN+2Z4D5dZYh6GBUbEZRVmJYoeWWnnL1OzakCHXLuS2ixHEWVQaY95qV02N45\n",
       "dCrlckT616koPDu/i+st9kwQxQTV1x4bdSOn1KMo3lwInXfDt0k0kZiikshU1oiwV4hZ1bmh6tns\n",
       "NI7tsBZ6rCDRrejM6AoPLnNjcelhOI3K2MVT3usXqyavzXrEE7cQcS76ghproEOx8h+PjJes9qhc\n",
       "iaEfI+PdaI8KRgyV1NbxmZbRvSCLVgyNOCKYm3jqD7WMCpv5l0i2PHUT+E/tL8QHopuyyumiAAAA\n",
       "AElFTkSuQmCC\n",
       "\" style=\"display:inline;vertical-align:middle;\" /></a><br>"
      ],
      "text/plain": [
       "PsiKetInQRegSpace: |Psi〉 in (Complex^{2})^{otimes t}"
      ]
     },
     "execution_count": 10,
     "metadata": {},
     "output_type": "execute_result"
    }
   ],
   "source": [
    "PsiKetInQRegSpace = InSet(Ket(Psi_), QubitRegisterSpace(t_))"
   ]
  },
  {
   "cell_type": "code",
   "execution_count": 11,
   "metadata": {},
   "outputs": [
    {
     "data": {
      "text/html": [
       "<strong id=\"first_q_p_e\">first_q_p_e:</strong> <a class=\"ProveItLink\" href=\"../__pv_it/axioms/ca16320a565be6487bde71ec1d1c3e120a4282080/axiom_expr.ipynb\"><img src=\"data:image/png;base64,iVBORw0KGgoAAAANSUhEUgAAAMkAAABEBAMAAADZxgwwAAAAMFBMVEX///9mZmZUVFREREQQEBDc\n",
       "3NwiIiKqqqoyMjKYmJiIiIi6urp2dnbu7u7MzMwAAAADxdujAAAAAXRSTlMAQObYZgAAA6RJREFU\n",
       "WMPtmM9LVFEUx7/Pccb58d7MmCBiBNOizSxqUNwEotFOqEwX0W42redBP1aC/gXlopUlvSKKgnQC\n",
       "ceuAkOEQvqKFSNBki1bhlBRS6nTer/tsvO+Nb3ojEnNh3rx7hO9n7j33HO85gPOoVI0yGjHKNeZH\n",
       "jhJXjW/ZR4qlaSuLeeP9uI8UU7NkK2uW5fslrPtPKRizdcMSlqVrCDWMEjIsd4HXiE7yKZEzm8nI\n",
       "ma0T3ilB09WaMll6gHFVmnBYS4L+kMjWsZaIeQY0ZbJ8BxZk9DlQFhRgI1kHRbSmfZpF+qZLjTlQ\n",
       "VuiozMo8yttLtx0pa91EeWJMxzRLcJt+rMJxv6F6hz4DKo+Sq1TyTpTCDVzBrIrPhvuJQmvZKEDI\n",
       "8ymb9PnJO2MipbasAyUod2IarfjUSVNSZjsWT1XnSF01ttXe3rHNzZ6cUTYpEoboIAvAvJYKUqb3\n",
       "x2W0FbhrEXfpLP7mrSVMqjtOOxb7QZQ1g0LKZOkFHqgIDHMpYXoGdrzuGMRsXMYbg0LKVlRilO/9\n",
       "RMYIGb73S04UIRNV2/IGZVS3hGTpIrDEp+jhUuBShFwfnHdMxD0YlCXdIi0/ot+U5VP0cMnz81jC\n",
       "JSqvL04Nm5SsnfljST4lx8LFGwVf9Nd5Q9mitJR4FKmrkkZH5WwdlBf66y1D2aKs1pH5XSm6Ly/n\n",
       "0rqyRZnym6JYM005au5Uv4+U6F+73/+Pd5jEodyUfKHUvFv6Qqk5mpQmpUlpUpqUI0Cp+pfQIEr5\n",
       "UJbkmfLV/G7zkcK6CqxVUbQuvXn/KNbty25VWBSrSPKVsl5NQbYBlNA+yjOPlJHceRkDW4obhbUq\n",
       "GGXV61pWSCuquK6FtSoYZX/FV4OileiC6kphrYoipIcK3quc6rUGRSvRW5z8stYN6QJYq6IIITaI\n",
       "WW/u1yixX/T44ERJziFatt1fxFVhQiuTeX04N4pWouulI48SnOxCIGNHYRFqq4Ih+3BXDtg8CA3S\n",
       "Qy8TE/yuAsmyKCTvL6jxXYDT7nFdy0dNIOW0Y7EdbJTAnE2UV4gO7jkPB6SMUywEFSeKmMXjPQeX\n",
       "KD20hdMIZrxRtBJdHHaiBFLojaisVUGUY5hLFiDKHinWQeZShFTsnGi3Kojy7vnNdInXHnXfMQrI\n",
       "U44UKf10ZMaODhb7Lz1SwkmMlGpkS9aqYJTTXvPY4kmlVk5mrYpidWLzM/OvVmf+iNIACmtVzFgp\n",
       "WfWPwroK/f/jTelQ7pZ/AOy15uIplK+9AAAAAElFTkSuQmCC\n",
       "\" style=\"display:inline;vertical-align:middle;\" /></a><br>"
      ],
      "text/plain": [
       "first_q_p_e:  Input(|0〉)  & Gate(H)  & MultiQubitGate(CONTROL, {1, 2})  & Output(|psi_{1}〉)   \\\\ \n",
       "   Input(|u〉)  & --  & MultiQubitGate(U, {1, 2})  & Output(|u〉)"
      ]
     },
     "execution_count": 11,
     "metadata": {},
     "output_type": "execute_result"
    }
   ],
   "source": [
    "first_q_p_e = Circuit(ExprArray(ExprTuple(Input(ket0), Hgate, MultiQubitGate(CONTROL, Set(one, two)), Output(Ket(psi_1))),\n",
    "                ExprTuple(Input(Ket(u_)), IdentityOp(), MultiQubitGate(U_, Set(one, two)), Output(Ket(u_)))))"
   ]
  },
  {
   "cell_type": "code",
   "execution_count": 12,
   "metadata": {},
   "outputs": [],
   "source": [
    "# mid_q_p_e = Forall(k, \n",
    "#                Circuit([[Input(Ket(psi_k)), MultiWire(k), PASS, WIRE_DN, PASS, PASS],\n",
    "#                 [Input(ket0), Hgate, CTRL_DN, WIRE_LINK, MultiWire(Add(k, one)), Output(Ket(psi_next))],\n",
    "#                 [Input(Ket(u_)), MultiWire(n_), Gate(U_pow_two_pow_k), Output(Ket(u_)), PASS, PASS]]),\n",
    "#        domain=NaturalPos)"
   ]
  },
  {
   "cell_type": "code",
   "execution_count": 13,
   "metadata": {},
   "outputs": [
    {
     "data": {
      "text/html": [
       "<strong id=\"mid_q_p_e\">mid_q_p_e:</strong> <a class=\"ProveItLink\" href=\"../__pv_it/axioms/884f4670c07d1f92e80c4686ea39c025fdeddff00/axiom_expr.ipynb\"><img src=\"data:image/png;base64,iVBORw0KGgoAAAANSUhEUgAAAZUAAABtBAMAAACbw+HIAAAAMFBMVEX///8QEBCIiIhmZma6urrM\n",
       "zMxUVFQiIiJERETc3Nzu7u6qqqp2dnaYmJgyMjIAAAAcRTyBAAAAAXRSTlMAQObYZgAABnpJREFU\n",
       "eNrtnG9oG2Ucx3+9JE2TuzRlgogg3CYVVMpOU2zdpGSUsTdK45sWtxcL1b4QZM1bUWhQkLQqy6s5\n",
       "LOJNQaGMtrC9GRYMtDLpXjQUBSkKUXy1YXeMbqvdaHyeJ3dprvdces/lklzPe6BHn1xIfp88z+/3\n",
       "/Pn+7gGwVs7qajwc5rJCriG1Fkg6+uHxsr4oNj+nhC9/WGQR1Foo7SzLvrpdllv4cpuRBTKuZLmM\n",
       "/iJZiyyzWrXPlSzdMvq5Fy2ybGjVeVeyxFbn5r6w6vsFrdqVdyMLbOdyHxpfFQws0WdFKHCqo/AF\n",
       "V7JMAEwbXw0YWAS+J7LI7cBR0XHnd4xlGKIoLlcsrMcyG8jEZOiBMBlb+l3JEgauCKqFqIy9luSe\n",
       "pLHIHSLqeBIsyLg+Wnm57ExxikUohtGVWBhdShT57CqcEBIDiZP7fX8kL0BUhDOkvuTKdomU8G9M\n",
       "LPztxhzw6wEcroztAjfhHAgyLIeeA6qLuYAFpt9BF2xhUMIR6txbIp1lEF6A6wD/XEdtaGF0bQvL\n",
       "NRyTsIXdJNqmVn+ls4zkCzHkVQ9SYGl0bQtLHIcwbOG3FRZBkKgs/GefP4+mlUc+JQHDnSwo0lYs\n",
       "HMvlciKfihQze7P72nE/hBuDy74ZwYHcnSygWdhZaRc4LdLnMByOdV3iGEcGWNeyEAsF7AnIJWIF\n",
       "OguZ13TnO3vJ6OpaFmIhYE848zdA2qRd9rql6GIWtachfzG51atvRtn1LO0qHmThJndf9Uy7xEve\n",
       "6WMjBe+wrCW9w3LXQ3Fs2zsswXveYRHue4elW/EOSzzrHZYR0TssaymXsJQb0INUlim3zC2VBua6\n",
       "hCV6ofyeV1haPudXJVi+bSxnzW6wb3JVZBia9toiFr0GXFP67bAIfT/RtNeWsgjGG6N2WO7A93mK\n",
       "/NJulrANllgPCCWK9kq+Pza5LcUmd080m2XWeAMLL6wsXWngdyjaq1Jd5cYzTW+XDeMN9i27FYin\n",
       "IfiIor0q1WnIeanpLAXKnWl2lgUJrzOM2qtSnYYcXzSzJ/rSbqphFp0GXFOW2Fm+LkDoHkV7Vaqr\n",
       "3IuymT3hcnmrYRa9BlwJ0Vk7zo9YJAg9poRzpbrKfWhqz1q5/LBhFr0GTFASGbCRb6T1MaP2Sr4/\n",
       "uJtIDD6mzjVZtNc679mvARNtIohZmPONiO/zjyi9U9FWudyW6W97F5kkN+z7Og24q8rCnD6BYnIW\n",
       "YjuUqKFoq9yuneb2Mb0GvMfCnNaijZVG7VXRVrnqRqqJ799vnKVWA65huWxjDvMBXElRtFelOrwU\n",
       "zO0Z2M6DA31sTwOuYbllg+XqsQlaAFSqw0uyjj2KA2NljQZ8YfPPzc1ihSVjg4WUYbqVU9XhpYks\n",
       "tRrwXruQ5ARbLBM0K6ND5XEYLH/UbJYaDbjCwiOWzpRNFspEztqc3xGWPQ24whIZeCDayDRUWSja\n",
       "a0Ms1vdw9Bqw2i64rDOzqBIsRXtthIXdACPLTMv3YRzfYYm0b0/pcOyuWtu3PMw7xT6Lz+Kz+Cw+\n",
       "i8/is/gsPovP4rOApRVwo0+3tpXFQ23ks/gs/1MWLRuFb4hlqD5LSFb/WWwqi7adzKQNGliu1WcR\n",
       "tA/vbwkLkzZoYDlpkWW0JSxMYoeOZfljGd5/Q7LEEm4NS59NFiHfWYJnvixaYmFPcbHFMm+TJZwP\n",
       "/Rv8S7LWxxx+Ks2MhUW01bEkI1uceHvREouzDwobWXA2yhWZSUzX+z6/E8j/njyA5ZuXIfq0ww9w\n",
       "G1kCwR44zub8mOXS1FOLcHFXRC0jHjRWIhbpFHBKk51/Bb4KlCDHFvtJu+DHdDiMsQwHs0SKQzgn\n",
       "wukjdfazyB0iHGGL/YQFJzAF0IAekyywRNFXoO9x+kgdg++PyCGcO6F2ZcuZOziBCefhvA6ntQ8z\n",
       "W52hPhbcgfMpp08IMbLcBK6HLcTgdiGP6VxFv/SdH2Ys+IuQgaPg9MktRpZPUE/eYDqLALOQx3R+\n",
       "AeioWRrXYelKQy4ms6e4MLK8AqekAtNZBJgljNtSsjbnRyyBdPAJwUaKCyPLd8dujKeYoiVmWcBe\n",
       "nLbMEh1/8VKv0ydQmY37w4wsP6KpVUS0zFIp7CkutlgmGFlwApOQZ2RhT3Gxw8I06yMsakhmYpmH\n",
       "VrAwnUVA+hgaJt9lZVlvKouWjcJ0FgFm6ZbgUsoiC6e9cQZcV8gc5ue3RX9PyWfxWXyWQ8vSKi3p\n",
       "P0IjVVOpJGKBAAAAAElFTkSuQmCC\n",
       "\" style=\"display:inline;vertical-align:middle;\" /></a><br>"
      ],
      "text/plain": [
       "mid_q_p_e: forall_{k in NaturalPos}  Input(|psi_{k}〉)  & --  & --  & MultiQubitGate(I, {1, 2})  & SPACE  & SPACE   \\\\ \n",
       "   Input(|0〉)  & Gate(H)  & MultiQubitGate(CONTROL, {2, 3})  & MultiQubitGate(I, {1, 2})  & --  & Output(|psi_{k + 1}〉)   \\\\ \n",
       "   Input(|u〉)  & --  & MultiQubitGate(U^{2^{k}}, {2, 3})  & Output(|u〉)  & SPACE  & SPACE"
      ]
     },
     "execution_count": 13,
     "metadata": {},
     "output_type": "execute_result"
    }
   ],
   "source": [
    "# Working to translate/update to use current Circuit params\n",
    "mid_q_p_e = Forall(k, \n",
    "               Circuit(ExprArray(\n",
    "                   ExprTuple(Input(Ket(psi_k)), IdentityOp(), IdentityOp(), MultiQubitGate(IdentityOp(), Set(one, two)), SPACE, SPACE),\n",
    "                   ExprTuple(Input(ket0), Hgate, MultiQubitGate(CONTROL, Set(two, three)), MultiQubitGate(IdentityOp(), Set(one, two)), IdentityOp(), Output(Ket(psi_next))),\n",
    "                   ExprTuple(Input(Ket(u_)), IdentityOp(), MultiQubitGate(U_pow_two_pow_k, Set(two, three)), Output(Ket(u_)), SPACE, SPACE))),\n",
    "       domain=NaturalPos)"
   ]
  },
  {
   "cell_type": "code",
   "execution_count": 14,
   "metadata": {},
   "outputs": [],
   "source": [
    "# final_q_p_e = Circuit([[Input(Ket(psi_t)), MultiWire(t_), Gate(InverseFourierTransform(t_)), Output(Ket(Psi_))]])"
   ]
  },
  {
   "cell_type": "code",
   "execution_count": 15,
   "metadata": {},
   "outputs": [
    {
     "data": {
      "text/html": [
       "<strong id=\"Psi_1_def\">Psi_1_def:</strong> <a class=\"ProveItLink\" href=\"../__pv_it/axioms/26e68782b82746c6c8008c6a4d290ad8b8151ca20/axiom_expr.ipynb\"><img src=\"data:image/png;base64,iVBORw0KGgoAAAANSUhEUgAAAU8AAABLCAMAAADH9fViAAAAM1BMVEX///+wsLCIiIhERESYmJjM\n",
       "zMx2dnbc3Nzu7u6qqqoiIiIQEBBUVFQyMjJmZma6uroAAABSdj2uAAAAAXRSTlMAQObYZgAAB95J\n",
       "REFUeNrVXIeSnDAMJe7d/v+vDb24YIy9B2gmN7dKHjHPshpiu66FGPwU+M+FqrymVoB+CvyAKJLX\n",
       "1Al29CHwE8KkzWrqRJBm4PZnp70gybKaGiGiHRiBD1ioVnlNhYN2qB5MDDRsYNdELobhu/i0Dmc1\n",
       "9wXKejDpfaga4lLE1LEx4m0GqvOa+/EE1YMFnQITiy7Lvo1P63hW86R5dsIOR9923HToA3x2WuQ1\n",
       "dx0gaQTmjnXUAPoFPpGzWc3N4qYmfTyARTK0v49P5mBWc0+cbgQmpvsOnx0MzAg2qUu4A23AaE+n\n",
       "hYuwl/IZ3ncVE1vpWrMrO7DtHanF37HPzom85s5lZRMw1pxzmCra+Av51IEh6QYHnruo1+OX6tkd\n",
       "WLpBEkmAEU69rgwFwfEGDQ68iaSxTBHl2E3wZwQHgRi7+hpJxIlDl/gUjn2Xzy48TqkDVpKGye42\n",
       "n6zK977AgeKspryOhff5tA5+mU8T9C1MTSdjysETxeYlPokjX+YTOJXVlFcJ/D6f8MvhaDheIqsp\n",
       "FZnwGJf4lA5/mU8WhB9WHZBcgrdLfHpg7RKSy+rm1n50y5IeBcjqZDG8eVeZsNDUhlzh0wfznrqD\n",
       "wTJqkeoT/UwWsLb2Y6yle2iiur0mgw6drOzZ2dS9XuEzABsX8z9IhG4W75e9tPZLT2uhKYFIwoSy\n",
       "mjJBqYoAXFhtCBYuGiBNUIgo39BosWEkWyzYW/mymVaF3RyS1ZSmS9EM0vSnVBtUDMb9iY+h/Hkc\n",
       "zcJOwKyisxeeERrtzQtryTen22EQ2z3i7YxZPpMw3VQJjTX9MrQqPvymJuGKgFHPROzgHu/EhEdv\n",
       "be0bjAEzbCF85ZP3l6UQ49UqNeI2euYnPhmUwj8MguUMYqeRd1InWMNnDAxdPoWjIQtja5/1P/q/\n",
       "AbQbu1bDx5HP8Rcw/yHz586pRLK22Kdeel/rgoDx2dNdRGP5sD4xwBgvy7C1MzX1bwhmfTjPXTJ8\n",
       "LjK19rEcTRt2dPs48Dn+MvDIJz7Hz1gCyE/5XKMgQOtG+kFCdBENE3LhU0taSAmp4ZPEgr7LVU0y\n",
       "ePS9b+1TuI8c63lXk3milSTYU9rRNJ92PQXbSIDgnncSgb8So5XiiU9WenxFDZ9xMOnzTXbpuDMl\n",
       "x1GyY2u/D4NYhnwizRW121whBF3vS0Gaz91YFVxoN9BjTwZ8ym5+cjzwWfwoXdR0pBPgITKeplly\n",
       "cQ0CAan81v4QNLbAscV3q52EW8DVQxEAcJrPwX1yZAYqOVlrKr8ACdIMN/7kE592zlaO41dE78R4\n",
       "9UBF/poADy70bFuXbFQNZkyvZ+VXB/fm+N5zAuhMiFidEbvC52iWA5/TiEPB+FUhn+wSeKg7TzI3\n",
       "OG/2ZN3w8gLOs0Hm8dkntIB1DB1SUHysh23A56wReuJzGSa6/HjWFXXc2PEgJ8Hm1IXOk5Z4bpZc\n",
       "9lCCXVvaxKeRJqzHvCrMBu2PWYP7kNnzaZd/XsAnOHyKy3ZLKg326s40TcLMfCI6SKMnUNvSJj6F\n",
       "AnBd3uJA2ZHPfwGfi4ZCIiWBOFrbHvyn8vis8J9pMD1L6hcX7n70BHnkc2Bus8YlwHv2iQM+Nw2T\n",
       "uyNm2/jPzCh8GozO0mA4X9VMC6Y/4RO5KSSROaVd6KKX/Kdfb17m8zxfykTUJPh8dlrNd9eXIQQR\n",
       "CX7C5/if9MsY+SQ8Ht/TfFo1ZH1rJ6UNn/FR+DwYnwe5LQk0wmn0m/M+1qLAAHYo4JHsLtvnpd5g\n",
       "Wb0pboFZxuTsj4cg/H5dZ9dI79VHYTc90V+/PH4Fz5oXTN8C61w/pPG7U1k+t0aUBpfqTT+MXB+/\n",
       "OuUzPgqfA8PsjIMhf8rnZhZ+uzTRX6oQ5TVQmDFwzbrio/Bp8Ox0Y6f54FCx/FM+t6iK1KX+Z4WY\n",
       "Y4eaqfGa9hb4JFNCxwClfjoG4TdJtqFUgXM3YConiMARPz0Fl/IWOJ0pWVnmmH8kKHz6ZrKaMuFH\n",
       "+55y2GmIOyg2c+Cx/ohYHjPBIrl5gE4KwwBAspoywcd4pkeHrSYjw4RAWgAeMqVgNZQrf8phJNT+\n",
       "PZ/hCIoOtl9XTmRFB3bmKdl+O7EoAmu37xRoIWcTf+Hw/Fww46ymuKdBQx84WZkeGCsBm7vzSw8J\n",
       "C9ohrHZ+qbdFm+585eoC4Wz3YcHB4cTV83UqnNE1uzhMC8GfknBeCFW/kAD82Lt75s8UKwR/S0iw\n",
       "fFJ9Q/4rImMmQ+mU5zBGisAfk3C8usHA9dFj4JHAqcwU+cjsuZvEiCsg4JVz9uHbPg3e/zm8Y0cF\n",
       "IcQocQvcJUZch7KEv/BLb8K3fVq8/0P2MUUX5ovkGJDiI64jyS988YsH7Rzu6rfd1lzDA0fb2GxM\n",
       "keX73gRRgbNULd5Xka4ZODriOj0DE+/LrMIbl67BZU1NiXUEryOuav02AdTzOU5Tvq5GosHBpK6F\n",
       "l7c1LZUjODriOtmnfOHr2jyruWf3shE4PuI6+c/3VaZa5jU3N8q2AW8jrmrtMaG3xvdwtJO2ehu1\n",
       "ym3swIkR16GCfV/+aYIdNq32nNRcaAdOjbgCQl5X54eT3MypZtcmD4GfjEY0q6m4OHsI/FzyafKa\n",
       "iquTp8APSfh6KmppFrzmYvx7BsqCRzCs7UMZBZ8CP1O667ymTgR/CvyA2CD02NZfUY5rvt8ay2+d\n",
       "+LBNK5qXb5Y+Bf5778lPNf8Bht5ZQY6Z2zMAAAAASUVORK5CYII=\n",
       "\" style=\"display:inline;vertical-align:middle;\" /></a><br>"
      ],
      "text/plain": [
       "Psi_1_def: Psi_1 = ((1 / 2^{t / 2}) * (Sum_{k=0}^{2^{t} - 1} (e^{2 * pi * i * phase * k} * |k〉)))"
      ]
     },
     "execution_count": 15,
     "metadata": {},
     "output_type": "execute_result"
    }
   ],
   "source": [
    "# trying here to define Psi_1 (the result at the end of \"stage 1\")\n",
    "# represented in Nielsen & Chuang's Ex 5.20 (pg 222)\n",
    "Psi_1 = Literal(string_format='Psi_1', latex_format=r'\\Psi_{1}')\n",
    "phi_ = Literal(string_format='phi', latex_format=r'\\varphi')\n",
    "Psi_1_def = Equals(Psi_1,\n",
    "                   Mult(frac(one, Exp(two, frac(t_,two))),\n",
    "                        Sum(k, Mult(Exp(e, Mult(two, pi, i, phase_, k)), Ket(k)), domain=Interval(zero, subtract(Exp(two, t_), one)))))"
   ]
  },
  {
   "cell_type": "code",
   "execution_count": null,
   "metadata": {},
   "outputs": [],
   "source": []
  },
  {
   "cell_type": "markdown",
   "metadata": {},
   "source": [
    "Let $\\lvert \\Psi \\rangle$ be the outcome of the $t$-qubit register of ${\\rm QPE}(U, t)$ acting on $\\lvert u \\rangle$, $m$ be a random variable representing the measurement of Psi with the register interpretted as an integer (via binary representation), and $\\varphi_m = 2 \\pi m/2^t$ be the random variable phase outcome of ${\\rm QPE}(U, t)$:"
   ]
  },
  {
   "cell_type": "code",
   "execution_count": 16,
   "metadata": {},
   "outputs": [
    {
     "data": {
      "text/html": [
       "<strong id=\"m_def\">m_def:</strong> <a class=\"ProveItLink\" href=\"../__pv_it/axioms/9a100d75b252eb11da77c5a9b810173ce9854baa0/axiom_expr.ipynb\"><img src=\"data:image/png;base64,iVBORw0KGgoAAAANSUhEUgAAAHMAAAAWBAMAAAABVL48AAAAMFBMVEX///9mZmaYmJgyMjIiIiIQ\n",
       "EBCqqqru7u5ERETMzMyIiIjc3NxUVFR2dna6uroAAAAPJcEmAAAAAXRSTlMAQObYZgAAAgFJREFU\n",
       "OMulkz9II0EUxr/8ud0kmyyLWmtstTCH2FkEzkbCwXFq4z/SnI1IAqd1bERQhG28ysJaQUL0jgML\n",
       "AzZiIVuJiJAUYmGjJyoYveS+mc0lq4FNwAezb5mZ37yZ770HtGjBdO032XSzNmx7gyOHSLG20Mkx\n",
       "64pG7qQLLwLqokT19sog3YaYzbqh4RfpCozqy1ajjoqPn0ONuaGeAfH1VqJANwR6lcYQ1BmEOINz\n",
       "NzRXEMpcFkwgIdH5L0R9E3bEBTd0O0Upg4kuChaXaOSJaCYPrHLVV4R+sb91HDw/aUTzGQvYM3nt\n",
       "kCFRb5noASfnhIgGIoEVZHbwTWraL82QpGr549CmMQIEohJVHoneRG2dvDH88MfESX0NQb2m5xk/\n",
       "k6DO/qREtb9E+6i0h0OJI50pIpXGUaPA0EvaV6h/gA9FieIT0SVRWXxv8BZIAR3AeAN6zSzuRaGV\n",
       "6uh6ckgvc0mxbLQd+Az9Wa2/NS/RZVYDD9TvaheGtjZ2xlQhwFLSqfoU1DI8sV9vXqpTrIVNRijV\n",
       "ZKJ0Y7IJftsyaWUot/BZ1ms09cBN4ibKvSES4SxEnAopLBGYaVPa3pTz7vT//pnMysvJ8j+sfBQn\n",
       "xEVJmK01awLOphNvwXyLfd79Cg2bzcrfYYGsE/3etOkcVm31qvVU89Oa5RCqy8KMoxfvsX858oYg\n",
       "hzN1TAAAAABJRU5ErkJggg==\n",
       "\" style=\"display:inline;vertical-align:middle;\" /></a><br>"
      ],
      "text/plain": [
       "m_def: m = MEAS(|Psi〉)"
      ]
     },
     "execution_count": 16,
     "metadata": {},
     "output_type": "execute_result"
    }
   ],
   "source": [
    "m_def = Equals(m_, Meas(Ket(Psi_)))"
   ]
  },
  {
   "cell_type": "code",
   "execution_count": 17,
   "metadata": {},
   "outputs": [
    {
     "data": {
      "text/html": [
       "<strong id=\"phase_m_def\">phase_m_def:</strong> <a class=\"ProveItLink\" href=\"../__pv_it/axioms/2d34276c250df69d655480335efc95732e0852f90/axiom_expr.ipynb\"><img src=\"data:image/png;base64,iVBORw0KGgoAAAANSUhEUgAAAE0AAAAlBAMAAAD1gHm0AAAAMFBMVEX///8QEBAiIiKIiIjc3Nxm\n",
       "ZmZUVFSYmJh2dnbu7u5EREQyMjK6urrMzMyqqqoAAABb/SrcAAAAAXRSTlMAQObYZgAAAWZJREFU\n",
       "OMvd0z9IAmEYx/GveeefTkUIqtEphCIEq6nBwdY8GvpLIEgQURBRm9FBUG0dWK0KTQ2BW0NUTm3h\n",
       "jUEQFDTr4CIYdiqBHOn7zv2Gh5f3/fBw7/G80C+Bk2Q8EzzeRhDf4DX5WT5E7n2gSMrgSOTMfImK\n",
       "yZbIUYEFGBK6NYgSqPlFbhR/A7U4L2BKg1AVzTAELhDBrRNaSvBvErIIPN2InQ/eshvdG/ft6A63\n",
       "D2k84n46XhO1x2HzN1UM3JCT6fcCKxwcxvX4Ttf3pR3u1JZXFtkRhs2ZPv20u4evCZRchAbLPYjV\n",
       "qnvNqF09sWCYyb9dvl3V3VZ1We6CUrWc5HL1Fj7piFZN2R29Bec8+tOcl+bG11vrcnvnGS2hbJoO\n",
       "p5q4wjy21/0u6YrgqVET/lytjufbvqBEBuru9IWEKxtqzJBwYwQzlpiputy4T0u+Cp2kjHuFKQmm\n",
       "RM8WIxJOs0e+434A2VZePFzNLUQAAAAASUVORK5CYII=\n",
       "\" style=\"display:inline;vertical-align:middle;\" /></a><br>"
      ],
      "text/plain": [
       "phase_m_def: phase_m = (m / 2^{t})"
      ]
     },
     "execution_count": 17,
     "metadata": {},
     "output_type": "execute_result"
    }
   ],
   "source": [
    "phase_m_def = Equals(phase_m_, frac(m_, two_pow_t))"
   ]
  },
  {
   "cell_type": "markdown",
   "metadata": {},
   "source": [
    "Let $b$ be the value for $m$ that gives the closest $\\varphi_m$ to $\\varphi$ without exceeding it, and let $\\delta$ be this difference:"
   ]
  },
  {
   "cell_type": "code",
   "execution_count": 18,
   "metadata": {},
   "outputs": [
    {
     "data": {
      "text/html": [
       "<strong id=\"best_def\">best_def:</strong> <a class=\"ProveItLink\" href=\"../__pv_it/axioms/27be2464429d087fd2d0a7bb72d794274e0171700/axiom_expr.ipynb\"><img src=\"data:image/png;base64,iVBORw0KGgoAAAANSUhEUgAAAGIAAAAYBAMAAADzMjWaAAAAMFBMVEX////MzMyYmJjc3NyIiIhU\n",
       "VFR2dna6urqqqqpmZmYyMjIiIiIQEBBERETu7u4AAACIO4EmAAAAAXRSTlMAQObYZgAAAVBJREFU\n",
       "OMtjYCAecAkwkAjek6qBoRu31COsopa7JgJJFqxyptgNWgH2DAPfnQ1E6Hg59yIDw2eIDgauCYR1\n",
       "8AUw5BcwHoDq4G8grIPzAQPPAZaAxxAd9Q8I6+DZwMD6mdMhAaIjmwifc/1jYP3IGCIA0bHUZQY2\n",
       "HY0MDFV/kazn/gfVzMD368F7AyAraxUIrITrSGBgXFSKFCj1CTAdHP8Y+B0w7WAyYGBlYAgAcqD2\n",
       "bIU5kIFzAcP7BEwdnAwMegwMQDv4fkFCawJcBzA66hswdbAxMDgw8DnADfeEBwIDvwLD/AdwfyxF\n",
       "2MEuAIoGKOCYwGAM11HAdwhLWLEpcDLwBcJFxBgYnGE6WBV4J2AL3VVaErMLYALM29KmboCH7pQk\n",
       "rDHItP83IkC4/v//D9eBM7VPwpF1ces4SKoO9g+k6mAJIEXHm91bcZQAVrv3AgCw0VI/fCItEAAA\n",
       "AABJRU5ErkJggg==\n",
       "\" style=\"display:inline;vertical-align:middle;\" /></a><br>"
      ],
      "text/plain": [
       "best_def: b = floor(phase * 2^{t})"
      ]
     },
     "execution_count": 18,
     "metadata": {},
     "output_type": "execute_result"
    }
   ],
   "source": [
    "best_def = Equals(b_, Floor(Mult(phase_, two_pow_t)))"
   ]
  },
  {
   "cell_type": "code",
   "execution_count": 19,
   "metadata": {},
   "outputs": [
    {
     "data": {
      "text/html": [
       "<strong id=\"delta_def\">delta_def:</strong> <a class=\"ProveItLink\" href=\"../__pv_it/axioms/9ef048be1114678eb3d5428226b2a50c778fd6210/axiom_expr.ipynb\"><img src=\"data:image/png;base64,iVBORw0KGgoAAAANSUhEUgAAAH0AAAAyBAMAAACDoMmvAAAAMFBMVEX///9mZmYQEBAiIiIyMjLc\n",
       "3Nx2dnbu7u5UVFRERESYmJjMzMyqqqqIiIi6uroAAABeGh1sAAAAAXRSTlMAQObYZgAAAqBJREFU\n",
       "SMell89r02AYx7/p0qZr0zYHwYmgBS+KIBHGmBeZIAhO8Ad478nDQJsNhXmQxqswrPMg6MHB9CCI\n",
       "y0G8ts4/wO6geFDcVTx0HrbCum4med+sXZLnSdH3kDfkeT/J+z7P836fNwDV7oBv87w5U0ngi1Os\n",
       "+RtpuX9C9K84XC/TtguiG+VmOLdO23ZEp51h+CfMwjvyZpWZfofxrClvRugFjBg0ry6sNcVHNskx\n",
       "K9dovnZJk+BZcsw5xjWfLfTkVyxiSH6X4Q9B25IzaRFDFCb6bviLMoIqlYIpm+G3ocjoFCgHNpYY\n",
       "fhdz0pzeJob8ZNyPR/3kOunn03cnPGSR2xqzX/dn99S7vP3VDQ85heFa1bvYCIdR+zMkv+LNfCYa\n",
       "/t6QfMNLgHbEWfrOkHzN2yaqGX6c6w7Jl9w80X5shR/LvNAdFK8+Y/k68N566e/qi37z921G5FfG\n",
       "Nb57yPGpKWinhRcPpL/gX3uxybK8CaWORpjPbvidgZwFxb25609t2nu2FzQhM2WkltCw4vkKCsAD\n",
       "7vsuX3OwPLB+e2D+Bn4Dh1neRMnB84hCCv/PuG+YdxL8l2kV65H4ifirl6c/no+XUKevE7fXIuac\n",
       "lK/lvQki74L4x8u0LnklRkZmj7wAPgXvia8AeakrqejiNRvV9evjRwf2T0yT+7cdo6wWUmVcCaS8\n",
       "Gc+PkzXczbjsJgLdrBI6d5wuXh1ku/lA3h9TumJxSdMp2Pd4nWs0Gb5dUVrC7+nev9SPSeQXHL5+\n",
       "KBs0rvRzZtSkjhhM/RxI1xJVP5nKrhu4uV+mSDfTAfgAfDlQvuIdSB1t0hO3xoJVM+cX8vykutIV\n",
       "8KqReEZk2yqTZTecRJw9P+pmIp81OOtYIv+Gf3vr/87vOJb0/+B77y+l9qNACslXcQAAAABJRU5E\n",
       "rkJggg==\n",
       "\" style=\"display:inline;vertical-align:middle;\" /></a><br>"
      ],
      "text/plain": [
       "delta_def: delta = (phase - (b / 2^{t}))"
      ]
     },
     "execution_count": 19,
     "metadata": {},
     "output_type": "execute_result"
    }
   ],
   "source": [
    "delta_def = Equals(delta_, subtract(phase_, frac(b_, two_pow_t)))"
   ]
  },
  {
   "cell_type": "markdown",
   "metadata": {},
   "source": [
    "The probability of success is defined as $\\theta_m$ being within some epsilon of $\\theta$: "
   ]
  },
  {
   "cell_type": "code",
   "execution_count": 20,
   "metadata": {},
   "outputs": [
    {
     "data": {
      "text/html": [
       "<strong id=\"success_def\">success_def:</strong> <a class=\"ProveItLink\" href=\"../__pv_it/axioms/0ae705f11a8289f52aeccdd41eecfc700c81f6f60/axiom_expr.ipynb\"><img src=\"data:image/png;base64,iVBORw0KGgoAAAANSUhEUgAAAZIAAAAXBAMAAADTptQWAAAAMFBMVEX///8QEBCIiIhmZma6urrM\n",
       "zMxUVFQiIiJERETc3Nzu7u6qqqp2dnaYmJgyMjIAAAAcRTyBAAAAAXRSTlMAQObYZgAABWZJREFU\n",
       "WMPlV11sFFUU/ro7u92ZnaVKJDWIybqIJWTVTXkgqMUVY/QBYemD8S9pU4RorbCmRDA2prRoigTY\n",
       "8ICKgR0kxKakdA2pFVQ66VaNtTFr8QcjxTW1/tAoG9pUui3Wc2d2ujs77HTABx68yezc3nvm9Hzn\n",
       "fOfcc4HrNJ685s1rH3zCgtAB9XXCmsq7htFrtt97VQae2wx3BEiy+aCZYCs9302/vmFIKiwjNKpv\n",
       "Z8Sw5dl0acPGewyWFjK2tfSqkTDx54Av2fS8mdwf7OcfwDW/sMycDAIhadwrobVtklUkGLKIpCyU\n",
       "q+4Y8BbjT6PJF54A/TimAPfFwkKntUmPca9KBrq9lpFMWkIifO7VqRO9mEPeEmMm3xQzd9vG6Jkq\n",
       "LPSyNjlk3Ls7SI9sFQmXtoKEX5bQqxNugKevre1Ns4+UTVeKcmCssOLwDM2Chs099GwKWkUihi0g\n",
       "4TfG8gvEL8CllpYGo2zWhws1rkcDBTXb2NaZG7eTIUYhSjF+FCtrV/r0SLjP3vbVOHqeycu4moWx\n",
       "2ZA4ds84xrPt5qAiHgfWAzuMwlmDdmW47m4orNpFsbZ/i0dJs5LyX/3FxpD6b4mUXTLk3bFteiSi\n",
       "qwkdt+N9vaqO88LEbEhassleEeISivg54MErFpwsklcUrtf1l5sU4WIK9kPKzB02xGu8P74EjthL\n",
       "GYkZJE8VJxGV8ZNevFvCxdmQlC2ZyaqQxq4usgK2nOxx1PfitupcJDcpXJdMVRdRtI+2KkUuZYhX\n",
       "Wqk1wlh+nkgdQWb3s2zhmBLEYZqtgDCVj0TYn6fz+z5t52RzBkkVMTtRrAkcjVfgQ1GyS/Gl9Utj\n",
       "uUj+1r4MGbRqSNpUTxiQlKhRcqcMGd8NLAPm5h8n3GQ+EhurzPFmCfu0lVPLM/ZIyCLhk49p2bNz\n",
       "v4RPvAHRwC7HKJv5znpbU565EPuXoz8eOez32u7sYauMXYLKXS6czZNf1eNEVWUnCnsqKhfa7ghp\n",
       "SFYADeAmBJ3Vl2FPG9g1Qg6POJMYmFlZvV55HZmpXQ/Ts4NVj1NbApQxNDo794qGjGfHCTiZ9/Ip\n",
       "NKEOdU7ZKf+J51dhL1tlGe8mAyNaxucfJyxsVA09DySKam3VGpIFIMrZk+/oxMdwKGFAspMda44J\n",
       "sT6bB49vV6ylSEDLeBwnN7pjCKktWKfY/rQOSZyVRsZ1fvSkJKRQw9MfUQmOND6I3tvGVlnt5YfR\n",
       "ToS0y/lILqgpFiWk+8tQEmQSChJ+jFFujqz/4gU044pIgiSfW072MRIcDAk/quL3MSLTuW/zyxAC\n",
       "Kko5rkNCYbNfGGe9wSPTQYaEI8avIQdfHvRze8bYqsKp1aWvMcyhPCNWTNdoaoAarFXqnHqehNk5\n",
       "5K7QN52H/Qm2eXCer3aQ3O7zS/APjCiZljYWWe7nrSpZwaqFh5xmK/fCsbWlpYmQHGAVIKTvVpRk\n",
       "jrjDhKSJnyAPR5TcfgJdbDWnW3nPtMbNw2JEHeZ9l0p8fhK/U2V1xYQwBfEWxRCvO5Ao1AsLWrja\n",
       "2U+1GhOu0thBKj4JoBFpYQHW4V1nQPDuguc4XMqqaQeZ02RQRHFGtIJESFM6rmUVqalDwohKc748\n",
       "UgiJqDWUleAkfMpm3wBn9XJaB+Du8UdweuD+hEgBjPsg9sgf+75QVuEy6epzuFBNV4R9fZaQpBQq\n",
       "fg2sW6PUrqxHIfy2hY38rj7j+C0k7CIGc68G4TTetGZtsjP3AlfE6tXIGhIWk6gak1U5PYJRXV7D\n",
       "tZjy5L/dfn+wdskrG8Yis/1FKhGryLn8fKeXv5WydOSjNwrdpTfDY82D12O0jntKT+wJsBMY/QMv\n",
       "xlA0PZ3C/2P8C14Vv1HP+Cv7AAAAAElFTkSuQmCC\n",
       "\" style=\"display:inline;vertical-align:middle;\" /></a><br>"
      ],
      "text/plain": [
       "success_def: forall_{eps in NaturalPos} (Psuccess(eps) = Pr_{m}[|m - b|_{mod 2^{t}} <= eps])"
      ]
     },
     "execution_count": 20,
     "metadata": {},
     "output_type": "execute_result"
    }
   ],
   "source": [
    "success_def = Forall(\n",
    "        eps,\n",
    "        Equals(Psuccess(eps),\n",
    "               Prob(LessEq(ModAbs(subtract(m_, b_), two_pow_t), eps), m_)), \n",
    "        domain=NaturalPos)"
   ]
  },
  {
   "cell_type": "code",
   "execution_count": 21,
   "metadata": {},
   "outputs": [
    {
     "data": {
      "text/html": [
       "<strong id=\"fail_def\">fail_def:</strong> <a class=\"ProveItLink\" href=\"../__pv_it/axioms/f60589dacfc9a0bd3aade9452fe8bce3b658f71f0/axiom_expr.ipynb\"><img src=\"data:image/png;base64,iVBORw0KGgoAAAANSUhEUgAAATgAAAAUBAMAAADrSDygAAAAMFBMVEX///8QEBCIiIhmZma6urrM\n",
       "zMxUVFQiIiJERETc3Nzu7u6qqqp2dnaYmJgyMjIAAAAcRTyBAAAAAXRSTlMAQObYZgAABAlJREFU\n",
       "SMetVl1oHFUUPu7O/s3OJLUULMWHMfqgsG2X9ElsSECKfbA65KEgCMbEFIuBLOShEUtJY5VEKR36\n",
       "ogTabFutS0KaQFl/isqw2xaqUUKjYukPqbWCFtOlCY2G2njOnZ2Zu3PvTlvogXPnzrlzz/nm/Nxz\n",
       "Ae5JqRmp+JDz+Kr+0gNS1U7a8nmOBJfDNhWQf1l5f8e1PC9VB5xn3BI2uEu1JKqQ2CHa6fP39P5X\n",
       "GLg/abgLkFzHSxuqoNQ5YQMtpdcJYkGFzA7SCZ8/JocOhOzRszjE7qC9W7x41p2UhB24dPzsclAq\n",
       "qpDYIdIMjxvQ09pUCLgEuSiyiHyHF7/tTo4IO2hJF8CJKiR2WCxWeax/Nzb2UVhU2WKygtm1yGdv\n",
       "zgtiWzCxc1JwggqZHUa/+/zP0NBu8VPbmz1JQyNm1miW9wO9/ProPnR7NuiirBScoCJAZEffuxZ/\n",
       "tQwedwMMi5/6WvbT8JoN6d2xLip2Pae+iX7AafRn2IbvrCJ+nCe6xlw0IwXHVIREiOy0mApuvgIe\n",
       "Py8rOA7cOzRs7Jluzic+wTQFpQNexgzBNN3inEu5YPJMScExFSHg0I5istkXPicgwp2ysb7T8EQH\n",
       "D24NDQdI7aQrwskj6P7xAivkSsAKLVXBqcyf86anIoTQjnrqXeZjn7WZhLs+Xm6BL7V8NF/e1Ldp\n",
       "ige35NelarngxpzfCQHH05JbjKY6Ug+cg58Dl5rb7p40H47k4RsjqwlhjS3Q0FpSfmiBQoXAYexU\n",
       "JwhKzs+5P+qHlamApktGoaKvBm36WZguW8cyBoki60vMzqfOpy9wPPwGDt/uymL2IRWLBzWhICKL\n",
       "TjQjRkObysBh1qcRnOUWBH9mSAuCqVDslJGqwCD0QE/cjtt/w1skehEOMjtFdBXUFAScxF9PT4Hp\n",
       "tNmiNvFqDTgq6oblaqq1bzAccHiApK7DBDopagdgsLMlEgTHVKQWTuVxf2cKX0bzEFuGz0k0+twY\n",
       "s3PYVC/iV5s5bsQajGRsUBmgItjlGnDo3OjN2wYDp30Qr4KjYL702Htk1QzAoKXo63dbaoRVFVtX\n",
       "yPOdCuYplrz+3+UMiZQDi8yOcrWflF3nWMc0jDQbEOsfGhpEcIeoQEyxrSCmRiv5lAPOb1+fSduX\n",
       "nGJWOof7B1P/oucsVkskeoWdGl77yvnMaIKGDsdzSru8ISOmSTPRVAUX3vjrUDoLA7CsPg5dcDSe\n",
       "VY39oJPoJCTljd+hdlDycIZmPwFcqtXo9g+1t1vvfOa34wtqL/5Gsv6VKWnVBVfKWDB7vnVGw0iV\n",
       "m0Ar2ST6uukcZ4e7MlXds+sGKsX0Vva0QVx+CZTfKJP3e9m8JxU4ZwyD0FSfxpx70Gv6hYd9Tdct\n",
       "j/8Hv3RSWCdOFVUAAAAASUVORK5CYII=\n",
       "\" style=\"display:inline;vertical-align:middle;\" /></a><br>"
      ],
      "text/plain": [
       "fail_def: forall_{eps in NaturalPos} (Pfail(eps) = (1 - Psuccess(eps)))"
      ]
     },
     "execution_count": 21,
     "metadata": {},
     "output_type": "execute_result"
    }
   ],
   "source": [
    "fail_def = Forall(\n",
    "    eps,\n",
    "    Equals(Pfail(eps), subtract(one, Psuccess(eps))),\n",
    "    domain=NaturalPos)"
   ]
  },
  {
   "cell_type": "markdown",
   "metadata": {},
   "source": [
    "Let $\\alpha_l$ be the amplitude of $\\lvert \\Psi \\rangle$ for the $b \\oplus l$ state, where $\\oplus$ is defined as addition modulo $2^t$:"
   ]
  },
  {
   "cell_type": "code",
   "execution_count": 22,
   "metadata": {},
   "outputs": [
    {
     "data": {
      "text/html": [
       "<strong id=\"mod_add_def\">mod_add_def:</strong> <a class=\"ProveItLink\" href=\"../__pv_it/axioms/075f1bfbb498ac8b52a90178affe80812e0e99fa0/axiom_expr.ipynb\"><img src=\"data:image/png;base64,iVBORw0KGgoAAAANSUhEUgAAAUUAAAAbBAMAAAAZqYBdAAAAMFBMVEX///8QEBCIiIhmZma6urrM\n",
       "zMxUVFQiIiJERETc3Nzu7u6qqqp2dnaYmJgyMjIAAAAcRTyBAAAAAXRSTlMAQObYZgAABOdJREFU\n",
       "WMPVV12IG1UU/jbJbHZm87NS0Soo2dYuPuxD2EWUstr4gz6J2VK2+FATFqvWql2UitaCawuSRZQR\n",
       "wRZl6bQLpexDE2xFC4UOzZM11qhYi6gEo63Wkl3DLrW7lfWcOzPJTDITE1DQQ+7MnTv3u/Odc885\n",
       "9wT4j8rPHc7fhH8b0CTKPBCju6/N+VK6ww90DGiW3gngQboH2lwqonX4gY4BTSLfWU4iVKTeZ+0B\n",
       "hhhU9FJYdQdgugOAub+b6rpFcnTZRS1IYyUe+b6lTkt0OeL25siNdNnmDlAm2wdY7OcSgupwJoko\n",
       "a7KWHTIOfMrDl1pxDNEs/Or6qkztqDsgorYPsOSA4HgYoQWMimdWmIJnP98nW3HsIrOH47aB8Ej5\n",
       "DqO3zIxibgB85bCQNccdYElUcFwPXIcBhXQM8kKvGP4dyrXieIBmBG1WkbZBNzgHxKb2uQHwshtH\n",
       "D4CTI/nDDnUoRD0/2+4uMsqZ2dl9LUPmC2r2GRsBHTNiUyf4+pMbQJ5w4+gBcHKc07AjObaOfZG1\n",
       "6af2RyazuyXHe0zvlUeGbubnOHOU+auR8bW0A3k3ALs63sn3aw6ODsBjqzYOxO67PQHl9CCRUwpr\n",
       "UglzhVe1utkfof5WYMpaPVBx4Zih9ia1e9XIPHujyhz5h+wl5SrwA086W2Ep1wA9lKsCN2HOaUcb\n",
       "gOSlmFxNhPuwWcUe4GAOn5scA9dMr1qkSyoJ3A+lVONj2aR7dX6vFSYXDMdVbjH8ww9B8AG6ndJQ\n",
       "BT5qVIoB7O4Hi+xMdo5OwGu0iZCuYrcg8pYV1wQ2Dxd5wQz2IHz1/Pwb+/TJ4WJQDR2yEuoL1K4n\n",
       "bksI8qe6C4XC5ULhtNhUhTRONXJkQBetvEHD8+yElcrFWyuVdBOAWF2DvChRsEd1fpE1OQ5bSZ05\n",
       "8mCoGKwvTzuB8ydm0Yst0/acRhy7JpFN1u04Ld4Ell04lk2Oq6EsOu3oBJBPVIljLzGJTkrVGkef\n",
       "tYM1O8qlMerNDHAxJFUHtIAxI65bn3zd2OusjlOoc/yabn+ycfFQ3R8v1AC012SZ3nknRxugzlHY\n",
       "Ma7UOR6DbKQ6iU2W4v7U42TVnRLHkG+XLx4x8vT7SYvjU0bMZHN4js/aQE5wZE0W2OVqIQA7gGJG\n",
       "WUZ36YSDoxNgcsQqIpLAL5Y/Sjp8qjOucYySlj8ucerqiYVLIvPhUKj2yX4jlujdi2LwaeYY5rT/\n",
       "LPbSdaSRY795Hu7BN2ndwdEJEBwpdkeTuAy8ncAGMW1fIf+keaD1mdkW0RgfX7608CJ/enMmk4lB\n",
       "P4P3zKVYEdoeZXzdu7fx84xGHE+K3mDRrWJmQIBUPrzm0fGEg6MDMLay9ePf02ev6PJInvPjyJep\n",
       "G0QOX1m5YsywzhliS0tm1Z5v6RbVunLdwsofFvGJdfwmnGchhlR9rJ4KlImm8zrhdRZ6ADzrUIb9\n",
       "WFtWTT2M/VpQO4+QCF6/sIShjd5QU8iDw7YDvrlEYICzplDsRa93TdEoWYIpS7UDZvyDuzGak56h\n",
       "5d+g53NPFC5aVbrEXjHluVBzqSUAPWr7AC85x7vc8GfBsI6P/dEu271qXCEu7Ld71bheAA/ZyUks\n",
       "2VYVf7TVf4Ww6mGp6Q4AHjPZZ75rGPOq4eOd/qnrFOAuf19+2+R4p6sf/0c4ruf40/C/kL8Ak11x\n",
       "pY/WtwkAAAAASUVORK5CYII=\n",
       "\" style=\"display:inline;vertical-align:middle;\" /></a><br>"
      ],
      "text/plain": [
       "mod_add_def: forall_{a, b in Integer} ((a MOD_ADD b) = ((a + b) mod  2^{t}))"
      ]
     },
     "execution_count": 22,
     "metadata": {},
     "output_type": "execute_result"
    }
   ],
   "source": [
    "mod_add_def = Forall(\n",
    "    (a, b),\n",
    "    Equals(ModAdd(a, b), Mod(Add(a, b), two_pow_t)),\n",
    "    domain=Integer)"
   ]
  },
  {
   "cell_type": "code",
   "execution_count": 23,
   "metadata": {},
   "outputs": [
    {
     "data": {
      "text/html": [
       "<strong id=\"alpha_def\">alpha_def:</strong> <a class=\"ProveItLink\" href=\"../__pv_it/axioms/d50b74fb6bdf35881c81764eaae73fb0f4ae4cd90/axiom_expr.ipynb\"><img src=\"data:image/png;base64,iVBORw0KGgoAAAANSUhEUgAAAMUAAAAWBAMAAACCvEVCAAAAMFBMVEX///8QEBCIiIhmZma6urrM\n",
       "zMxUVFQiIiJERETc3Nzu7u6qqqp2dnaYmJgyMjIAAAAcRTyBAAAAAXRSTlMAQObYZgAAA0hJREFU\n",
       "SMe9lU9o01AYwL82bddkSbsJojsIQfHPQaFsigfHDCgIelgVnCehBxX1oL0NQWRzl84/kNuGIosb\n",
       "ONhhC4iH4Q7ZJqgzuqAoehgbFCuISA8buCnO73svS7s0triDj5a8vLz3/b7/D2DjwwlcjRre1Kwt\n",
       "40H1z9FM4LKsedP9+B/H/wK9zAVtlrqqMwRN6s761nYvMUakbbWAjw5ciekAr+jT1yAZCb06ow63\n",
       "pHxrStG1Y4u7AyQ0oh+fYqDG72q4cgIg6Xpcac0f4LZ1EeOEAZ0gPYUwRWwKVcEQyYHBuVaD0QvQ\n",
       "zuMbvQSWwkwKqcQYbkBGoonZAA9RhZmRkb4gEWK2OkJEAc/59BSABUM0G0gTQ15CxliGqQEJ9N2P\n",
       "XO56kIwwU2xqh/YXhoyOKGw/RNMUMUQVZ/Msr5RFZAxYzJ0g49fzhJOuVsiIkzP7NKlJMh8VaeHN\n",
       "dxr5spBLv40xTAxFJwb94CJj1P9ERrvDg66gvUeY247xg7Gt0z1urtRRkNDCnrARqXDbZzoH9SuQ\n",
       "RO0FYICj+NjEGOIvZMxrlN64KUssCv80ajXR4tTp8qBbpyHaswLQJjNz15cOGoaJJCzAGAqP2bb9\n",
       "zbYxgaLLvAZvIKPbLdNokfxKFt0F+Dg+AvVwdq26iRHCpJ6c4W4rH6TbPlYe7aZnBx4MN3DGSbMz\n",
       "skj7LM4QF6gclyHClU1ZUPIVaTlrQlIvxaNAKXUwn4ZRLA8HDhse4z3GMGMwhnin8UWaYooHmaN7\n",
       "zyGsARK8mu6ny2KOQmAS1apoASY7n9SkbfgWMRkjRfstXudSI/N4vxtzeIygcBfPbxiUvdzEM0IG\n",
       "lNko7PEzyDD0Q8yJM+MvE0NBUvK4Wt5LWKMSyDGUGnEVzuRyORWsGbjH5TAb7TlHmIKbfgYzLAtS\n",
       "82v2OmQgY4L1FB6PyJXVvMa2oM3kGAXNCp2GGBP8xIGXFb1kc9rH2CXpvHO7o1m3OpzK3s5CPOwZ\n",
       "HwaZBAkCeMVQ6olF1cdoll1nr/WVvS1mwP0RS/Oe6N4FzwBu4/PDBfvL2tUT93p7q7+fdOwE3k2r\n",
       "31Gjbm8va1AUj3+4oxS1FuPtOk03cteu17Ckail4t/D/Cf7L+AO3Pt+wGGgXMwAAAABJRU5ErkJg\n",
       "gg==\n",
       "\" style=\"display:inline;vertical-align:middle;\" /></a><br>"
      ],
      "text/plain": [
       "alpha_def: forall_{l in Integer} (alpha_{l} = {t}_〈b MOD_ADD l|Psi〉)"
      ]
     },
     "execution_count": 23,
     "metadata": {},
     "output_type": "execute_result"
    }
   ],
   "source": [
    "alpha_def = Forall(\n",
    "    l,\n",
    "    Equals(alpha_l,\n",
    "           MatrixProd(RegisterBra(ModAdd(b_, l), t_),\n",
    "                      Ket(Psi_))),\n",
    "    domain=Integer)"
   ]
  },
  {
   "cell_type": "code",
   "execution_count": 24,
   "metadata": {},
   "outputs": [
    {
     "name": "stdout",
     "output_type": "stream",
     "text": [
      "These axioms may now be imported from the theory package: proveit.physics.quantum.QPE\n"
     ]
    }
   ],
   "source": [
    "%end axioms"
   ]
  }
 ],
 "metadata": {
  "kernelspec": {
   "display_name": "Python 3",
   "language": "python",
   "name": "python3"
  }
 },
 "nbformat": 4,
 "nbformat_minor": 0
}