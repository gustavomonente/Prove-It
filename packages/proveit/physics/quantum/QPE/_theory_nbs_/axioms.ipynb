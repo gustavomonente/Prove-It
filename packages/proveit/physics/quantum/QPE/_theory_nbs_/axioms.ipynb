{
 "cells": [
  {
   "cell_type": "markdown",
   "metadata": {},
   "source": [
    "Axioms for the theory of <a class=\"ProveItLink\" href=\"theory.ipynb\">proveit.physics.quantum.QPE</a>\n",
    "========"
   ]
  },
  {
   "cell_type": "code",
   "execution_count": 1,
   "metadata": {},
   "outputs": [],
   "source": [
    "import proveit\n",
    "# Prepare this notebook for defining the axioms of a theory:\n",
    "%axioms_notebook # Keep this at the top following 'import proveit'.\n",
    "from proveit import Literal\n",
    "from proveit import a, b, eps, k, l, n, t\n",
    "from proveit.linalg import MatrixProd, ScalarProd, TensorExp \n",
    "from proveit.logic import Equals, Forall, InSet\n",
    "from proveit.numbers import zero, one, two, e, i, pi, Div, Exp, Integer, Interval, IntervalCO, NaturalPos \n",
    "from proveit.numbers import Add, Exp, Floor, frac, LessEq, Mod, ModAbs, Mult, Prod, subtract, Sum\n",
    "from proveit.physics.quantum import Ket, Meas, RegisterBra, RegisterSU, QubitRegisterSpace\n",
    "from proveit.physics.quantum.QPE import (alpha_l, b_, delta_, m_, n_, phase_,\n",
    "                                                  phase_m_, psi_k, Psi_, t_, two_pow_t,\n",
    "                                                  u_, U_ )\n",
    "from proveit.physics.quantum.QPE.phase_est_ops import ModAdd, Pfail, Psuccess\n",
    "from proveit.statistics import Prob"
   ]
  },
  {
   "cell_type": "code",
   "execution_count": 2,
   "metadata": {},
   "outputs": [
    {
     "name": "stdout",
     "output_type": "stream",
     "text": [
      "Defining axioms for theory 'proveit.physics.quantum.QPE'\n",
      "Subsequent end-of-cell assignments will define axioms\n",
      "%end_axioms will finalize the definitions\n"
     ]
    }
   ],
   "source": [
    "%begin axioms"
   ]
  },
  {
   "cell_type": "markdown",
   "metadata": {},
   "source": [
    "Let $U$ be a unitary operator that acts on $n$ qubits, with $\\lvert u\\rangle$ as an eigenstate of $U$ with eigenvalue $e^{2 \\pi i \\varphi}$:"
   ]
  },
  {
   "cell_type": "code",
   "execution_count": 3,
   "metadata": {},
   "outputs": [
    {
     "data": {
      "text/html": [
       "<strong id=\"n_in_nat_pos\">n_in_nat_pos:</strong> <a class=\"ProveItLink\" href=\"../__pv_it/axioms/bf73d53bc27657c7189008ab67362d99febaf6cf0/axiom_expr.ipynb\"><img src=\"data:image/png;base64,iVBORw0KGgoAAAANSUhEUgAAAEEAAAAUBAMAAAAgmk0yAAAAMFBMVEX///8QEBCYmJgyMjIiIiKq\n",
       "qqrMzMzu7u5ERERmZmaIiIjc3NxUVFR2dna6uroAAABXsXCEAAAAAXRSTlMAQObYZgAAAO5JREFU\n",
       "KM9jYKAM8BBUwUFDFcU/mgsYLn58gMeMJrYDDOwfGA4bGxobK2BVcSRhFQODADZbNFxcDED0uXae\n",
       "BAYHLCoylkMZp3PYzREq+O7sXjULLA4UhalgXZCDUMHL0cVQvwEcgBvgKhjuMS2Aq0hlMWDYn4Dq\n",
       "+dMMPAXHQCq4QbyC+gcM+mDxRGMgMICoYD/ALADXEM/AcBjM2IFkBkMuG0LFZAaGT+wgBiOyCqaA\n",
       "BjhXloH1Oy+IwbkAJnQMiG/DVXD/Y+A1UAMzXWFipiD1BjAenwMD96EAMLOmrwBMp3wE6mc3wBYf\n",
       "b1tcMMUBZP03a848vAYAAAAASUVORK5CYII=\n",
       "\" style=\"display:inline;vertical-align:middle;\" /></a><br>"
      ],
      "text/plain": [
       "n_in_nat_pos: n in NaturalPos"
      ]
     },
     "execution_count": 3,
     "metadata": {},
     "output_type": "execute_result"
    }
   ],
   "source": [
    "n_in_nat_pos = InSet(n_, NaturalPos)"
   ]
  },
  {
   "cell_type": "code",
   "execution_count": 4,
   "metadata": {},
   "outputs": [
    {
     "data": {
      "text/html": [
       "<strong id=\"unitary_u\">unitary_u:</strong> <a class=\"ProveItLink\" href=\"../__pv_it/axioms/d2014a42da3b17169e3134a5cd54d0bfdd000db40/axiom_expr.ipynb\"><img src=\"data:image/png;base64,iVBORw0KGgoAAAANSUhEUgAAAHoAAAAVBAMAAAB71edYAAAAMFBMVEX///+YmJjMzMzu7u5mZma6\n",
       "urp2dnaIiIgyMjKqqqpEREQQEBAiIiJUVFTc3NwAAACfk0VHAAAAAXRSTlMAQObYZgAAAgBJREFU\n",
       "OMudlD9IHEEUxr/Lnnue9yc2gliJhYFYZIUQRJCdNFcEj1hpocEUcoWNB4ZUIpIQsAjJYWtAErAL\n",
       "eghpUl1jUDjxCiGEQFhIF2IIClEUsr6Z3Xk3c4kBM7C8ne97v52ZtzMD/EdL3L3x6B92arm3Jf/5\n",
       "mAz5zqg32ZkJkA6Aw/33FWyelq1kV+amC6XEmLaVgmHg9r03+LqA6x7whZQ50lM2HNGv4WyyHdEv\n",
       "4DSk8hGT1Bui5yU9Se9POimAbrYVnRDyNVPFFgrXKIvGPCM5F1M99fqSpn1a+gTbis4GyNSQ+53/\n",
       "ie0VwKmi7YTkOxF8c94Ye5oq1Me2or8D7cfIHbU18FjW7xncIwpdinGemjP3f8m6a1vR0W/KHuu0\n",
       "GWSrFITq5AKTToUhFVXbcR1lm36o07rhNyg0VKfDrvng53OPbaXsKnOP015hjRaQj37YwDI1rhq1\n",
       "+xW2lfJOiknB9C3M0ercaMrfzLFdCn6F7SZt7FGimz8sY9Ij0vXY5pmnBX7otCmsxVtOzqls0KsU\n",
       "CmCbq9YPLDar1i5wqI/ErkGPCrhULW0reoZq8KFUrOk0+vrsAQ85su4xLR4UP8nX2Fb0FH0tDEOm\n",
       "n9j7e/xt3ax567nJBpbm1P5+vi+hE8LWyleisWFpQ7gaPWxpG5fdTDstN1PKupni2yrABQCGhzd3\n",
       "4MshAAAAAElFTkSuQmCC\n",
       "\" style=\"display:inline;vertical-align:middle;\" /></a><br>"
      ],
      "text/plain": [
       "unitary_u: U in [SU](2^{n})"
      ]
     },
     "execution_count": 4,
     "metadata": {},
     "output_type": "execute_result"
    }
   ],
   "source": [
    "unitary_u = InSet(U_, RegisterSU(n_))"
   ]
  },
  {
   "cell_type": "code",
   "execution_count": 5,
   "metadata": {},
   "outputs": [
    {
     "data": {
      "text/html": [
       "<strong id=\"u_ket_register\">u_ket_register:</strong> <a class=\"ProveItLink\" href=\"../__pv_it/axioms/d09d52b729068f4839e0a812788216d4e863bff90/axiom_expr.ipynb\"><img src=\"data:image/png;base64,iVBORw0KGgoAAAANSUhEUgAAAHQAAAAeBAMAAAAP2ycoAAAAMFBMVEX///+qqqpUVFQiIiJEREQy\n",
       "MjKYmJjc3NwQEBBmZmaIiIi6urp2dnbu7u7MzMwAAAAIy0x7AAAAAXRSTlMAQObYZgAAAlhJREFU\n",
       "OMutlD1oFEEUx/93l+ztuh85KwslnBAQUoigKYIYjhgQReEULCyEw0oL9YogFkrS2KTQJRALTWRB\n",
       "FGMSDVanqBlQEE2EVQioiAY7P4mNCnLGN7uzHzebO3IhAzP73s78Zt78580ATZZ3cy+wumIxmM+a\n",
       "Ip7vdX3DGIM5B+Xyl/EVkkY5XfStKc19b5aUSkktNyS+BkambP2Gwy0H1xic89fR5jbcVz5Ep7N/\n",
       "cc9Hz7rUdKICfBe9qSTaGps4VYVR4miWvST0IkYtzIo+bTqBXonZGQp3F33bz0H7kMsuYmd7iEbR\n",
       "BSVb5e2Nrj87bJKYTC6qwYBR6HlMlkIU2xKyEoEfP/H2lw2F2wNUzVnoU2JAiN6UUTUHKGkK9LSN\n",
       "h3hMQdMP6JMTkNF58VV2b+/yjAFS6ZRKTdq2Dq4/QHIUaucO0Rb/jK19ga7Hqdr9PEhHXVpaBNYN\n",
       "yqg57uCNixTzFw9PZISg/OfYUL0qo5o+iLuhTlvCnj4SmT2Ip8g/GT2jFfkwXPX8aD+HCLXjKGWU\n",
       "hLqqgyGyPnkzXzhMxevppoAL32JDzQSKGdcLZZM3c7TqEapH0w1XxRNfuz2eH6nYS/WEhwrl6PbI\n",
       "aC9aCieD9aLE7eAnNkEpoRfrKYxhVGwGI+fneS7oueWd0H73VZ9YVUmcK17f3tC5gIzQouOR6Jnh\n",
       "hDVyqXshuFz1sul+cPBPRSKq8jVsdeqgW+X015j046O7PGoWE++LtDUcw/Ko4iReic2S3yP5d4KL\n",
       "k3zh5mtdha383U7ZNW5/M2/+xhpvDGtW/gOV0pxJGXesSwAAAABJRU5ErkJggg==\n",
       "\" style=\"display:inline;vertical-align:middle;\" /></a><br>"
      ],
      "text/plain": [
       "u_ket_register: |u〉 in (Complex^{2})^{otimes n}"
      ]
     },
     "execution_count": 5,
     "metadata": {},
     "output_type": "execute_result"
    }
   ],
   "source": [
    "u_ket_register = InSet(Ket(u_), QubitRegisterSpace(n_))"
   ]
  },
  {
   "cell_type": "code",
   "execution_count": 6,
   "metadata": {},
   "outputs": [
    {
     "data": {
      "text/html": [
       "<strong id=\"phase_in_interval\">phase_in_interval:</strong> <a class=\"ProveItLink\" href=\"../__pv_it/axioms/f222c067365ef2a19c3f88443cfecc9c00f8c5b70/axiom_expr.ipynb\"><img src=\"data:image/png;base64,iVBORw0KGgoAAAANSUhEUgAAAFAAAAAUBAMAAADo9qfkAAAAMFBMVEX///8QEBAiIiKIiIjc3Nxm\n",
       "ZmZUVFSYmJh2dnbu7u5EREQyMjK6urrMzMyqqqoAAABb/SrcAAAAAXRSTlMAQObYZgAAAU5JREFU\n",
       "KM9jYMACrPeiCfA5MGAFPQwMHOa9yCIpOBXuY5gEM+XhBAaG2bgUsgswcGwAszkz8oEKOQxQFFQp\n",
       "KW2AKORKYOD7CRWtByrkFEBWd8sSbiJ/AgPPPySFDHsY+C4w8OxfCbZkJ8Lq+QEMPJ+RFbYycDAw\n",
       "3K5JBQmwOSAU+jcw8KIorGYoYWBIYGADCXAhecY/gIH3B7LCRwwBDOwTGFhBAhd3A8EGHFbfZ2hg\n",
       "YGZgmAwS8EIyEegZvn+oCgMYzjIwRIIEGJEUci1gYEcOHoZDDO1ApdMugARYDbAFONwz3Nv3PtWB\n",
       "iOghRaEew8QLnL/BPHuQwggGhqL/GlD5aWsmwBXOMM5lYFAC8cPktxYwMADTE2sB3G0nFsGiEJq6\n",
       "JsBkOBWAfriALfWAAQdcBJQozjPgVDgZLgJKZma4FSIctQR7ejRCzwrsDgwAoGNaF5LpImwAAAAA\n",
       "SUVORK5CYII=\n",
       "\" style=\"display:inline;vertical-align:middle;\" /></a><br>"
      ],
      "text/plain": [
       "phase_in_interval: phase in [0,1)"
      ]
     },
     "execution_count": 6,
     "metadata": {},
     "output_type": "execute_result"
    }
   ],
   "source": [
    "phase_in_interval = InSet(phase_, IntervalCO(zero, one))"
   ]
  },
  {
   "cell_type": "code",
   "execution_count": 7,
   "metadata": {},
   "outputs": [
    {
     "data": {
      "text/html": [
       "<strong id=\"eigen_uu\">eigen_uu:</strong> <a class=\"ProveItLink\" href=\"../__pv_it/axioms/174d42fb495ba826ec7974c49d08e861c6d1dd040/axiom_expr.ipynb\"><img src=\"data:image/png;base64,iVBORw0KGgoAAAANSUhEUgAAAL8AAAAcBAMAAADCTHN1AAAAMFBMVEX////MzMxUVFR2dna6uroQ\n",
       "EBCqqqqIiIgiIiJmZmYyMjJERETu7u6YmJjc3NwAAACgK8IjAAAAAXRSTlMAQObYZgAAAv9JREFU\n",
       "SMe1Vk1oE0EU/rZp/trNGsXiRWiKVgVB9uDBCmpUBD2loNCDIEFFPJV4KKUHtSAKgsL6R8V6iEUt\n",
       "etDQgyD+sAgFWwUDpQjFQw6CWrWNfwiSGt+b7Dab2TVNpL4wf/tmvm/mvTdvAvyTdDw0ywO/jsUW\n",
       "X64hXR4F44sIvVzUoZzyu4bJwfrxlViJIK59r2F2Y8z1aaXVBv6ypMk2faBA1XSxWIzSx6zYrXIr\n",
       "KSNs4UrLOgA2Wm2YzBrIuQkG7E4oRdWFFWMvYRF04+PSfgkBId7PC2jrfjxAc3HYoRam2ODC1wrz\n",
       "YQTVUHEiDIwRgWogRT9dRggaVN2joGCD9jpPAN7MuDt6DKsTMaAcADIfgJZcU5b6upqsIBAIWl5M\n",
       "RRO1uF5BcJzhUjKBP2l1dmI7r8/sgG2iWBCRpIyAMxxxwJIMz6gg4N2rnTLBrOVj5faRx2znbMs8\n",
       "wdTBt6tcCBgE3lOToK2qeoW6mT18UyaYZNr2U/AXi3nhQ+FFQdB4f3/cjdAD9FGzjWItYqnVvhRG\n",
       "TQR04UlJrlEZPd8T84rg13YcOhESJp5Qc5qPa6nDjZ04afloij9tvstyR6gfUWk3y7HklNXwQGiN\n",
       "shvUr9RtsNSfw2mBc5nKURlkiMpPiE255Bw8EGbj2Ec3ao667yy16U+hi3rLmF8GOUv+pdv7rUp6\n",
       "qER4JQh8X6i71b7JCVPh8SEvAjKUMjcz86kqgROBTkAm8uXtKGX1JgQ5PJ9S2V32wZBQj5RMhOoE\n",
       "DoTWHNuTE1dDzlaPoDnzhu6Q7WSnrKdyxYRWncCBQFHUIU6utc2rL2KXocPHt/KSvJrCGs/3TnRV\n",
       "J3AgTJbM4BsZKKuf9XavjSLEoxvy6gTfq6u/stUJHAiDpVThTtfYw3e235WLFn4cKxAwXEp2Huo2\n",
       "z2QX1msnYAS1YDnbpVbTnula6ayZQCBEYuLB8VBHUjJ1SdbUTCAQQlH5yTxmp0LyZsTjyRxfkMCJ\n",
       "gIm6/1UEjHpmi6tQpxyuZ3LYxP+XP+Tqz6Og0YdLAAAAAElFTkSuQmCC\n",
       "\" style=\"display:inline;vertical-align:middle;\" /></a><br>"
      ],
      "text/plain": [
       "eigen_uu: (U . |u〉) = (e^{2 * pi * i * phase} * |u〉)"
      ]
     },
     "execution_count": 7,
     "metadata": {},
     "output_type": "execute_result"
    }
   ],
   "source": [
    "eigen_uu = Equals(MatrixProd(U_, Ket(u_)), ScalarProd(Exp(e, Mult(two, pi, i, phase_)), Ket(u_)))"
   ]
  },
  {
   "cell_type": "code",
   "execution_count": 8,
   "metadata": {},
   "outputs": [
    {
     "data": {
      "text/html": [
       "<strong id=\"t_in_natural_pos\">t_in_natural_pos:</strong> <a class=\"ProveItLink\" href=\"../__pv_it/axioms/1b6b9f4748231bba4ab63732c662088e302351a50/axiom_expr.ipynb\"><img src=\"data:image/png;base64,iVBORw0KGgoAAAANSUhEUgAAADwAAAAUBAMAAAAjLUMaAAAAMFBMVEX///8QEBCYmJhUVFTMzMzu\n",
       "7u6IiIhERES6urp2dnYyMjJmZmaqqqrc3NwiIiIAAACerFpgAAAAAXRSTlMAQObYZgAAANxJREFU\n",
       "KM9jYCAbGOCXLqC6NOv68qUMnPIScOm3qPLsCs4MDPEMzKtWSa1axMDA8wFVmvkJWwIDI9xw7gUQ\n",
       "YfV378As5vYAEwY+uDTfBLCseypM9xWDqAC4dHd9dQLIRUvhhl84xmKA0H0eKoiQ5mxQQ0jvgrgX\n",
       "4bQLDKbMfiAWWMdLsKDjKiBYAJUOZlgID4YfYOo6sm6WCY4wHscHhgAgxYgszaADt4tzAY8DyPcJ\n",
       "cGkglxNuGLdBGJh+AxPgOgB3LxDwFimA6eCKADDN8l4cSEZhRFVn3bsFGIIATsw2Igf3W/cAAAAA\n",
       "SUVORK5CYII=\n",
       "\" style=\"display:inline;vertical-align:middle;\" /></a><br>"
      ],
      "text/plain": [
       "t_in_natural_pos: t in NaturalPos"
      ]
     },
     "execution_count": 8,
     "metadata": {},
     "output_type": "execute_result"
    }
   ],
   "source": [
    "# t (represented by the Literal t_)\n",
    "# denotes the number of Qbits in the input register\n",
    "t_in_natural_pos = InSet(t_, NaturalPos)"
   ]
  },
  {
   "cell_type": "code",
   "execution_count": 9,
   "metadata": {},
   "outputs": [
    {
     "data": {
      "text/html": [
       "<strong id=\"psi_kets_in_q_reg_space\">psi_kets_in_q_reg_space:</strong> <a class=\"ProveItLink\" href=\"../__pv_it/axioms/07fc5ddb82cf2be96baebd964bea3c20d4478c8b0/axiom_expr.ipynb\"><img src=\"data:image/png;base64,iVBORw0KGgoAAAANSUhEUgAAANgAAAAmBAMAAABUlki3AAAAMFBMVEX///8QEBCIiIhmZma6urrM\n",
       "zMxUVFQiIiJERETc3Nzu7u6qqqp2dnaYmJgyMjIAAAAcRTyBAAAAAXRSTlMAQObYZgAABE5JREFU\n",
       "WMOtV2uIVFUc/82989i5987usFCRfeguYahEDG6RbFHDiggROVvRaivtYClBEEMPJOzDYGGjJoz4\n",
       "QUFhbgUWy9YMtB+MBC8qhKvCpATSi/FBD6GS7OVm2Pmfe+/cxxmno7MH7pkz5/7P/3f+r985F5Bp\n",
       "mSZ6aMogoBWlxe9FT+1V9jwuKxxfcJMo2j0nTNbPkXmypr1buEmwtcB0FfESjX+WXLPhxiCMZSPu\n",
       "6IiFaRtG7glm1k5LanHiyo2BHcNLbmZYI5r9Efq/fpQ5Minnx345sae8weuYrCocDOpa1g2s51ue\n",
       "k9JSq0rZX/STr5aPFzlYegHrxhY1aPqcFNjD1D0Tmmp0sD8Qk0MWTnKwfYalYFEiS9v9QgpskLqj\n",
       "zvbdqftEqaWB8ctAimHra2yMTGBzomSSg/Jo0ctvu2Gl//DBDHfuaVGKF9MPv972JpPKsSF7cAJQ\n",
       "bfyEdVQ7MRvHSfJiV666JIKlxHxnyhOTDe2R08BpAqdV03mMtr2bbGEPvSh3A1NLPthej+4Esoyx\n",
       "MDbXsa1dRtyOM0s20ezo4bxPkZd4XI1GN7BU2Qf7yuOhljs4s3GjM6xZyBSI1p7Ds58dYEqXRfXo\n",
       "V5CZnZra3TU/BnI+mO1NbnV+Vi/xJliuqdxD7+HOa9fY75BQG/8Af1cqb3SgnACY6YBpd5mwlZIz\n",
       "edAx8GKwPvYncgENq6L0pP0LrG9vMxQof1hvOmCGnk03lDkMme0MSfrlXgH2xc2AhkmBvX8DlvMA\n",
       "DJnXBau5YHvVUsZCFimKucoD3+dLfQ/sCoHV8lGwq7RHSq2U92r8obxyawhssuGAWTGTOTeHutUm\n",
       "p7FfWHMS5BXgw4QdUF0XwC6z6DTJJVyDdnC4qZdnMWIMPzD8YBQMq6oGNBMreWpxvXt8TeeJsIpd\n",
       "LWNg6RbRAddw5tMp6KdUyrkObsTnmIBh4UjibuZAHq2YL7WFlViOwDRvj1H61q5SFj9PxxzTEKdk\n",
       "0ifWmGGwupuNrHKWYIYduTPMDY5Nqh+kF9izeTRw2RCyMc2yEZ9QNpOGfu6fwuyXYbABu+1GO8N8\n",
       "8yel2XHn3aa2FJWV+uOsdmCbX3hinTl1RBred8AMorkAWKzogunv7FjM1gxuZ3/dctv/lhU05Mmz\n",
       "f93vLRMYJP47Ea3lahivVCqmXkg3S/5ZQvnd8hgkQamilMfSjsepPfa2S1exaD4IZ2XGO6q5hqRj\n",
       "GVaEa87IemAK7b7PHFeQFCpWtSPpINwCHD2eBoM0sKhkwuv0OQ+Mc1h/NbkQH4u3gmzEjuJ1rzJc\n",
       "AygYKy8ARYHTXMvac6dEgnsxclYIttfDx5LCYtaB9rdQtzA0tU2Uihj7jSBwSOreJHdT0XOhoip3\n",
       "vjf9b6s3pMRmQvki3n/vkPvkaWEempKVk7tlPsBikt94380HmOw3Xp/ZO1b6dtlvutd6B/ugISu5\n",
       "u9oz2A55HxR6xdKIp/8DNvIKios0+BgAAAAASUVORK5CYII=\n",
       "\" style=\"display:inline;vertical-align:middle;\" /></a><br>"
      ],
      "text/plain": [
       "psi_kets_in_q_reg_space: forall_{k in NaturalPos} (|psi_{k}〉 in (Complex^{2})^{otimes k})"
      ]
     },
     "execution_count": 9,
     "metadata": {},
     "output_type": "execute_result"
    }
   ],
   "source": [
    "psi_kets_in_q_reg_space = Forall(k, InSet(Ket(psi_k), QubitRegisterSpace(k)), domain=NaturalPos)"
   ]
  },
  {
   "cell_type": "code",
   "execution_count": 10,
   "metadata": {},
   "outputs": [
    {
     "data": {
      "text/html": [
       "<strong id=\"PsiKetInQRegSpace\">PsiKetInQRegSpace:</strong> <a class=\"ProveItLink\" href=\"../__pv_it/axioms/f33d136f6390529ec0356274e1fc7a25c34130a30/axiom_expr.ipynb\"><img src=\"data:image/png;base64,iVBORw0KGgoAAAANSUhEUgAAAHQAAAAfBAMAAADEh/SNAAAAMFBMVEX///9ERESYmJjc3Nyqqqoi\n",
       "IiIQEBBUVFQyMjJmZmaIiIi6urp2dnbu7u7MzMwAAACxEeIOAAAAAXRSTlMAQObYZgAAAmxJREFU\n",
       "OMutlU1oE0EUx//ZzWSbJrukiAdFpTfxYpOLIBS6Bz0IfqwHJR6UHHoQVIx4Uyg5FPFSuseibVk8\n",
       "KbWSW6n4sSII2ooLFqkiNidFUJFGtBBjfbPf2U1tGxzYyX/mzW/mzXuPCdBh66p1AL2bf0H9Ugek\n",
       "YkJ+ChzcOPF8m+WI7ATkeewvTm6UzOaliqOm09Z7uRfD63pXdQXLK3UYXBmYNKmrr4d+8gSrig3M\n",
       "OOg+C4ZSAr76y5Jt0JFAJpvI9nJUNF/C6C6/xpxvS1djZNoINCN9mn6P9iP9QU0bpo3Ojq5cpXuV\n",
       "Y+gAj+rt4s/jOoWY5B0eMBMYh3Kl5pya0nivxTNC37cfeLusQ9D5VvTJc8hM21YSR8A0LKi4FUMH\n",
       "AUEiR/t0PMAjclqlyczdKbiofJKj1/JYdAFh64miLcQmsDdFTku6MnxgJ909F96YHH5VY5r8C0jk\n",
       "nVxut7w9KAN6gTtppFZXvwPdpQjaV2Wa+JvCb9ozi5Yf4Ark8ufQ4kwzgh5TmZZZ9uN02bclchDN\n",
       "++Hi+hNBB0ymCQ3SN+2Z4D5dZYh6GBUbEZRVmJYoeWWnnL1OzakCHXLuS2ixHEWVQaY95qV02N45\n",
       "dCrlckT616koPDu/i+st9kwQxQTV1x4bdSOn1KMo3lwInXfDt0k0kZiikshU1oiwV4hZ1bmh6tns\n",
       "NI7tsBZ6rCDRrejM6AoPLnNjcelhOI3K2MVT3usXqyavzXrEE7cQcS76ghproEOx8h+PjJes9qhc\n",
       "iaEfI+PdaI8KRgyV1NbxmZbRvSCLVgyNOCKYm3jqD7WMCpv5l0i2PHUT+E/tL8QHopuyyumiAAAA\n",
       "AElFTkSuQmCC\n",
       "\" style=\"display:inline;vertical-align:middle;\" /></a><br>"
      ],
      "text/plain": [
       "PsiKetInQRegSpace: |Psi〉 in (Complex^{2})^{otimes t}"
      ]
     },
     "execution_count": 10,
     "metadata": {},
     "output_type": "execute_result"
    }
   ],
   "source": [
    "PsiKetInQRegSpace = InSet(Ket(Psi_), QubitRegisterSpace(t_))"
   ]
  },
  {
   "cell_type": "code",
   "execution_count": 11,
   "metadata": {},
   "outputs": [],
   "source": [
    "# first_q_p_e = Circuit([[Input(ket0), Hgate, CTRL_DN, Output(Ket(psi_1))],\n",
    "#                 [Input(Ket(u_)), MultiWire(n_), Gate(U_), Output(Ket(u_))]])"
   ]
  },
  {
   "cell_type": "code",
   "execution_count": 12,
   "metadata": {},
   "outputs": [],
   "source": [
    "# mid_q_p_e = Forall(k, \n",
    "#                Circuit([[Input(Ket(psi_k)), MultiWire(k), PASS, WIRE_DN, PASS, PASS],\n",
    "#                 [Input(ket0), Hgate, CTRL_DN, WIRE_LINK, MultiWire(Add(k, one)), Output(Ket(psi_next))],\n",
    "#                 [Input(Ket(u_)), MultiWire(n_), Gate(U_pow_two_pow_k), Output(Ket(u_)), PASS, PASS]]),\n",
    "#        domain=NaturalPos)"
   ]
  },
  {
   "cell_type": "code",
   "execution_count": 13,
   "metadata": {},
   "outputs": [],
   "source": [
    "# final_q_p_e = Circuit([[Input(Ket(psi_t)), MultiWire(t_), Gate(InverseFourierTransform(t_)), Output(Ket(Psi_))]])"
   ]
  },
  {
   "cell_type": "code",
   "execution_count": 14,
   "metadata": {},
   "outputs": [
    {
     "data": {
      "text/html": [
       "<strong id=\"Psi_1_def\">Psi_1_def:</strong> <a class=\"ProveItLink\" href=\"../__pv_it/axioms/32ec2c99d21ca91eab283cf8f1bc1c4d3e7e9d310/axiom_expr.ipynb\"><img src=\"data:image/png;base64,iVBORw0KGgoAAAANSUhEUgAAAU8AAABLCAMAAADH9fViAAAAM1BMVEX///+wsLCIiIhERESYmJjM\n",
       "zMx2dnbc3Nzu7u6qqqoiIiIQEBBUVFQyMjJmZma6uroAAABSdj2uAAAAAXRSTlMAQObYZgAAB95J\n",
       "REFUeNrVXIeSnDAMJe7d/v+vDb24YIy9B2gmN7dKHjHPshpiu66FGPwU+M+FqrymVoB+CvyAKJLX\n",
       "1Al29CHwE8KkzWrqRJBm4PZnp70gybKaGiGiHRiBD1ioVnlNhYN2qB5MDDRsYNdELobhu/i0Dmc1\n",
       "9wXKejDpfaga4lLE1LEx4m0GqvOa+/EE1YMFnQITiy7Lvo1P63hW86R5dsIOR9923HToA3x2WuQ1\n",
       "dx0gaQTmjnXUAPoFPpGzWc3N4qYmfTyARTK0v49P5mBWc0+cbgQmpvsOnx0MzAg2qUu4A23AaE+n\n",
       "hYuwl/IZ3ncVE1vpWrMrO7DtHanF37HPzom85s5lZRMw1pxzmCra+Av51IEh6QYHnruo1+OX6tkd\n",
       "WLpBEkmAEU69rgwFwfEGDQ68iaSxTBHl2E3wZwQHgRi7+hpJxIlDl/gUjn2Xzy48TqkDVpKGye42\n",
       "n6zK977AgeKspryOhff5tA5+mU8T9C1MTSdjysETxeYlPokjX+YTOJXVlFcJ/D6f8MvhaDheIqsp\n",
       "FZnwGJf4lA5/mU8WhB9WHZBcgrdLfHpg7RKSy+rm1n50y5IeBcjqZDG8eVeZsNDUhlzh0wfznrqD\n",
       "wTJqkeoT/UwWsLb2Y6yle2iiur0mgw6drOzZ2dS9XuEzABsX8z9IhG4W75e9tPZLT2uhKYFIwoSy\n",
       "mjJBqYoAXFhtCBYuGiBNUIgo39BosWEkWyzYW/mymVaF3RyS1ZSmS9EM0vSnVBtUDMb9iY+h/Hkc\n",
       "zcJOwKyisxeeERrtzQtryTen22EQ2z3i7YxZPpMw3VQJjTX9MrQqPvymJuGKgFHPROzgHu/EhEdv\n",
       "be0bjAEzbCF85ZP3l6UQ49UqNeI2euYnPhmUwj8MguUMYqeRd1InWMNnDAxdPoWjIQtja5/1P/q/\n",
       "AbQbu1bDx5HP8Rcw/yHz586pRLK22Kdeel/rgoDx2dNdRGP5sD4xwBgvy7C1MzX1bwhmfTjPXTJ8\n",
       "LjK19rEcTRt2dPs48Dn+MvDIJz7Hz1gCyE/5XKMgQOtG+kFCdBENE3LhU0taSAmp4ZPEgr7LVU0y\n",
       "ePS9b+1TuI8c63lXk3milSTYU9rRNJ92PQXbSIDgnncSgb8So5XiiU9WenxFDZ9xMOnzTXbpuDMl\n",
       "x1GyY2u/D4NYhnwizRW121whBF3vS0Gaz91YFVxoN9BjTwZ8ym5+cjzwWfwoXdR0pBPgITKeplly\n",
       "cQ0CAan81v4QNLbAscV3q52EW8DVQxEAcJrPwX1yZAYqOVlrKr8ACdIMN/7kE592zlaO41dE78R4\n",
       "9UBF/poADy70bFuXbFQNZkyvZ+VXB/fm+N5zAuhMiFidEbvC52iWA5/TiEPB+FUhn+wSeKg7TzI3\n",
       "OG/2ZN3w8gLOs0Hm8dkntIB1DB1SUHysh23A56wReuJzGSa6/HjWFXXc2PEgJ8Hm1IXOk5Z4bpZc\n",
       "9lCCXVvaxKeRJqzHvCrMBu2PWYP7kNnzaZd/XsAnOHyKy3ZLKg326s40TcLMfCI6SKMnUNvSJj6F\n",
       "AnBd3uJA2ZHPfwGfi4ZCIiWBOFrbHvyn8vis8J9pMD1L6hcX7n70BHnkc2Bus8YlwHv2iQM+Nw2T\n",
       "uyNm2/jPzCh8GozO0mA4X9VMC6Y/4RO5KSSROaVd6KKX/Kdfb17m8zxfykTUJPh8dlrNd9eXIQQR\n",
       "CX7C5/if9MsY+SQ8Ht/TfFo1ZH1rJ6UNn/FR+DwYnwe5LQk0wmn0m/M+1qLAAHYo4JHsLtvnpd5g\n",
       "Wb0pboFZxuTsj4cg/H5dZ9dI79VHYTc90V+/PH4Fz5oXTN8C61w/pPG7U1k+t0aUBpfqTT+MXB+/\n",
       "OuUzPgqfA8PsjIMhf8rnZhZ+uzTRX6oQ5TVQmDFwzbrio/Bp8Ox0Y6f54FCx/FM+t6iK1KX+Z4WY\n",
       "Y4eaqfGa9hb4JFNCxwClfjoG4TdJtqFUgXM3YConiMARPz0Fl/IWOJ0pWVnmmH8kKHz6ZrKaMuFH\n",
       "+55y2GmIOyg2c+Cx/ohYHjPBIrl5gE4KwwBAspoywcd4pkeHrSYjw4RAWgAeMqVgNZQrf8phJNT+\n",
       "PZ/hCIoOtl9XTmRFB3bmKdl+O7EoAmu37xRoIWcTf+Hw/Fww46ymuKdBQx84WZkeGCsBm7vzSw8J\n",
       "C9ohrHZ+qbdFm+585eoC4Wz3YcHB4cTV83UqnNE1uzhMC8GfknBeCFW/kAD82Lt75s8UKwR/S0iw\n",
       "fFJ9Q/4rImMmQ+mU5zBGisAfk3C8usHA9dFj4JHAqcwU+cjsuZvEiCsg4JVz9uHbPg3e/zm8Y0cF\n",
       "IcQocQvcJUZch7KEv/BLb8K3fVq8/0P2MUUX5ovkGJDiI64jyS988YsH7Rzu6rfd1lzDA0fb2GxM\n",
       "keX73gRRgbNULd5Xka4ZODriOj0DE+/LrMIbl67BZU1NiXUEryOuav02AdTzOU5Tvq5GosHBpK6F\n",
       "l7c1LZUjODriOtmnfOHr2jyruWf3shE4PuI6+c/3VaZa5jU3N8q2AW8jrmrtMaG3xvdwtJO2ehu1\n",
       "ym3swIkR16GCfV/+aYIdNq32nNRcaAdOjbgCQl5X54eT3MypZtcmD4GfjEY0q6m4OHsI/FzyafKa\n",
       "iquTp8APSfh6KmppFrzmYvx7BsqCRzCs7UMZBZ8CP1O667ymTgR/CvyA2CD02NZfUY5rvt8ay2+d\n",
       "+LBNK5qXb5Y+Bf5778lPNf8Bht5ZQY6Z2zMAAAAASUVORK5CYII=\n",
       "\" style=\"display:inline;vertical-align:middle;\" /></a><br>"
      ],
      "text/plain": [
       "Psi_1_def: Psi_1 = ((1 / 2^{t / 2}) * (Sum_{k=0}^{2^{t} - 1} (e^{2 * pi * i * phase * k} * |k〉)))"
      ]
     },
     "execution_count": 14,
     "metadata": {},
     "output_type": "execute_result"
    }
   ],
   "source": [
    "# trying here to define Psi_1 (the result at the end of \"stage 1\")\n",
    "# represented in Nielsen & Chuang's Ex 5.20 (pg 222)\n",
    "Psi_1 = Literal(string_format='Psi_1', latex_format=r'\\Psi_{1}')\n",
    "phi_ = Literal(string_format='phi', latex_format=r'\\varphi')\n",
    "Psi_1_def = Equals(Psi_1,\n",
    "                   Mult(frac(one, Exp(two, frac(t_,two))),\n",
    "                        Sum(k, Mult(Exp(e, Mult(two, pi, i, phase_, k)), Ket(k)), domain=Interval(zero, subtract(Exp(two, t_), one)))))"
   ]
  },
  {
   "cell_type": "code",
   "execution_count": null,
   "metadata": {},
   "outputs": [],
   "source": []
  },
  {
   "cell_type": "markdown",
   "metadata": {},
   "source": [
    "Let $\\lvert \\Psi \\rangle$ be the outcome of the $t$-qubit register of ${\\rm QPE}(U, t)$ acting on $\\lvert u \\rangle$, $m$ be a random variable representing the measurement of Psi with the register interpretted as an integer (via binary representation), and $\\varphi_m = 2 \\pi m/2^t$ be the random variable phase outcome of ${\\rm QPE}(U, t)$:"
   ]
  },
  {
   "cell_type": "code",
   "execution_count": 15,
   "metadata": {},
   "outputs": [
    {
     "data": {
      "text/html": [
       "<strong id=\"m_def\">m_def:</strong> <a class=\"ProveItLink\" href=\"../__pv_it/axioms/eb640529335cfa640b88344ebdb1124eb4bb9e7c0/axiom_expr.ipynb\"><img src=\"data:image/png;base64,iVBORw0KGgoAAAANSUhEUgAAAHMAAAAWBAMAAAABVL48AAAAMFBMVEX///9mZmaYmJgyMjIiIiIQ\n",
       "EBCqqqru7u5ERETMzMyIiIjc3NxUVFR2dna6uroAAAAPJcEmAAAAAXRSTlMAQObYZgAAAgFJREFU\n",
       "OMulkz9II0EUxr/8ud0kmyyLWmtstTCH2FkEzkbCwXFq4z/SnI1IAqd1bERQhG28ysJaQUL0jgML\n",
       "AzZiIVuJiJAUYmGjJyoYveS+mc0lq4FNwAezb5mZ37yZ770HtGjBdO032XSzNmx7gyOHSLG20Mkx\n",
       "64pG7qQLLwLqokT19sog3YaYzbqh4RfpCozqy1ajjoqPn0ONuaGeAfH1VqJANwR6lcYQ1BmEOINz\n",
       "NzRXEMpcFkwgIdH5L0R9E3bEBTd0O0Upg4kuChaXaOSJaCYPrHLVV4R+sb91HDw/aUTzGQvYM3nt\n",
       "kCFRb5noASfnhIgGIoEVZHbwTWraL82QpGr549CmMQIEohJVHoneRG2dvDH88MfESX0NQb2m5xk/\n",
       "k6DO/qREtb9E+6i0h0OJI50pIpXGUaPA0EvaV6h/gA9FieIT0SVRWXxv8BZIAR3AeAN6zSzuRaGV\n",
       "6uh6ckgvc0mxbLQd+Az9Wa2/NS/RZVYDD9TvaheGtjZ2xlQhwFLSqfoU1DI8sV9vXqpTrIVNRijV\n",
       "ZKJ0Y7IJftsyaWUot/BZ1ms09cBN4ibKvSES4SxEnAopLBGYaVPa3pTz7vT//pnMysvJ8j+sfBQn\n",
       "xEVJmK01awLOphNvwXyLfd79Cg2bzcrfYYGsE/3etOkcVm31qvVU89Oa5RCqy8KMoxfvsX858oYg\n",
       "hzN1TAAAAABJRU5ErkJggg==\n",
       "\" style=\"display:inline;vertical-align:middle;\" /></a><br>"
      ],
      "text/plain": [
       "m_def: m = MEAS(|Psi〉)"
      ]
     },
     "execution_count": 15,
     "metadata": {},
     "output_type": "execute_result"
    }
   ],
   "source": [
    "m_def = Equals(m_, Meas(Ket(Psi_)))\n"
   ]
  },
  {
   "cell_type": "code",
   "execution_count": 16,
   "metadata": {},
   "outputs": [
    {
     "data": {
      "text/html": [
       "<strong id=\"phase_m_def\">phase_m_def:</strong> <a class=\"ProveItLink\" href=\"../__pv_it/axioms/bd14cb8bc72f413b2b63832398b4ae2ddeffd9960/axiom_expr.ipynb\"><img src=\"data:image/png;base64,iVBORw0KGgoAAAANSUhEUgAAAE0AAAAlBAMAAAD1gHm0AAAAMFBMVEX///8QEBAiIiKIiIjc3Nxm\n",
       "ZmZUVFSYmJh2dnbu7u5EREQyMjK6urrMzMyqqqoAAABb/SrcAAAAAXRSTlMAQObYZgAAAWZJREFU\n",
       "OMvd0z9IAmEYx/GveeefTkUIqtEphCIEq6nBwdY8GvpLIEgQURBRm9FBUG0dWK0KTQ2BW0NUTm3h\n",
       "jUEQFDTr4CIYdiqBHOn7zv2Gh5f3/fBw7/G80C+Bk2Q8EzzeRhDf4DX5WT5E7n2gSMrgSOTMfImK\n",
       "yZbIUYEFGBK6NYgSqPlFbhR/A7U4L2BKg1AVzTAELhDBrRNaSvBvErIIPN2InQ/eshvdG/ft6A63\n",
       "D2k84n46XhO1x2HzN1UM3JCT6fcCKxwcxvX4Ttf3pR3u1JZXFtkRhs2ZPv20u4evCZRchAbLPYjV\n",
       "qnvNqF09sWCYyb9dvl3V3VZ1We6CUrWc5HL1Fj7piFZN2R29Bec8+tOcl+bG11vrcnvnGS2hbJoO\n",
       "p5q4wjy21/0u6YrgqVET/lytjufbvqBEBuru9IWEKxtqzJBwYwQzlpiputy4T0u+Cp2kjHuFKQmm\n",
       "RM8WIxJOs0e+434A2VZePFzNLUQAAAAASUVORK5CYII=\n",
       "\" style=\"display:inline;vertical-align:middle;\" /></a><br>"
      ],
      "text/plain": [
       "phase_m_def: phase_m = (m / 2^{t})"
      ]
     },
     "execution_count": 16,
     "metadata": {},
     "output_type": "execute_result"
    }
   ],
   "source": [
    "phase_m_def = Equals(phase_m_, frac(m_, two_pow_t))"
   ]
  },
  {
   "cell_type": "markdown",
   "metadata": {},
   "source": [
    "Let $b$ be the value for $m$ that gives the closest $\\varphi_m$ to $\\varphi$ without exceeding it, and let $\\delta$ be this difference:"
   ]
  },
  {
   "cell_type": "code",
   "execution_count": 17,
   "metadata": {},
   "outputs": [
    {
     "data": {
      "text/html": [
       "<strong id=\"best_def\">best_def:</strong> <a class=\"ProveItLink\" href=\"../__pv_it/axioms/3f8fb2ca21388b8626ff968e2f14168cfd9dde1a0/axiom_expr.ipynb\"><img src=\"data:image/png;base64,iVBORw0KGgoAAAANSUhEUgAAAGIAAAAYBAMAAADzMjWaAAAAMFBMVEX////MzMyYmJjc3NyIiIhU\n",
       "VFR2dna6urqqqqpmZmYyMjIiIiIQEBBERETu7u4AAACIO4EmAAAAAXRSTlMAQObYZgAAAVBJREFU\n",
       "OMtjYCAecAkwkAjek6qBoRu31COsopa7JgJJFqxyptgNWgH2DAPfnQ1E6Hg59yIDw2eIDgauCYR1\n",
       "8AUw5BcwHoDq4G8grIPzAQPPAZaAxxAd9Q8I6+DZwMD6mdMhAaIjmwifc/1jYP3IGCIA0bHUZQY2\n",
       "HY0MDFV/kazn/gfVzMD368F7AyAraxUIrITrSGBgXFSKFCj1CTAdHP8Y+B0w7WAyYGBlYAgAcqD2\n",
       "bIU5kIFzAcP7BEwdnAwMegwMQDv4fkFCawJcBzA66hswdbAxMDgw8DnADfeEBwIDvwLD/AdwfyxF\n",
       "2MEuAIoGKOCYwGAM11HAdwhLWLEpcDLwBcJFxBgYnGE6WBV4J2AL3VVaErMLYALM29KmboCH7pQk\n",
       "rDHItP83IkC4/v//D9eBM7VPwpF1ces4SKoO9g+k6mAJIEXHm91bcZQAVrv3AgCw0VI/fCItEAAA\n",
       "AABJRU5ErkJggg==\n",
       "\" style=\"display:inline;vertical-align:middle;\" /></a><br>"
      ],
      "text/plain": [
       "best_def: b = floor(phase * 2^{t})"
      ]
     },
     "execution_count": 17,
     "metadata": {},
     "output_type": "execute_result"
    }
   ],
   "source": [
    "best_def = Equals(b_, Floor(Mult(phase_, two_pow_t)))"
   ]
  },
  {
   "cell_type": "code",
   "execution_count": 18,
   "metadata": {},
   "outputs": [
    {
     "data": {
      "text/html": [
       "<strong id=\"delta_def\">delta_def:</strong> <a class=\"ProveItLink\" href=\"../__pv_it/axioms/e6beedf529e468ffacff4f08f95ba01fc333966e0/axiom_expr.ipynb\"><img src=\"data:image/png;base64,iVBORw0KGgoAAAANSUhEUgAAAH0AAAAyBAMAAACDoMmvAAAAMFBMVEX///9mZmYQEBAiIiIyMjLc\n",
       "3Nx2dnbu7u5UVFRERESYmJjMzMyqqqqIiIi6uroAAABeGh1sAAAAAXRSTlMAQObYZgAAAqBJREFU\n",
       "SMell89r02AYx7/p0qZr0zYHwYmgBS+KIBHGmBeZIAhO8Ad478nDQJsNhXmQxqswrPMg6MHB9CCI\n",
       "y0G8ts4/wO6geFDcVTx0HrbCum4med+sXZLnSdH3kDfkeT/J+z7P836fNwDV7oBv87w5U0ngi1Os\n",
       "+RtpuX9C9K84XC/TtguiG+VmOLdO23ZEp51h+CfMwjvyZpWZfofxrClvRugFjBg0ry6sNcVHNskx\n",
       "K9dovnZJk+BZcsw5xjWfLfTkVyxiSH6X4Q9B25IzaRFDFCb6bviLMoIqlYIpm+G3ocjoFCgHNpYY\n",
       "fhdz0pzeJob8ZNyPR/3kOunn03cnPGSR2xqzX/dn99S7vP3VDQ85heFa1bvYCIdR+zMkv+LNfCYa\n",
       "/t6QfMNLgHbEWfrOkHzN2yaqGX6c6w7Jl9w80X5shR/LvNAdFK8+Y/k68N566e/qi37z921G5FfG\n",
       "Nb57yPGpKWinhRcPpL/gX3uxybK8CaWORpjPbvidgZwFxb25609t2nu2FzQhM2WkltCw4vkKCsAD\n",
       "7vsuX3OwPLB+e2D+Bn4Dh1neRMnB84hCCv/PuG+YdxL8l2kV65H4ifirl6c/no+XUKevE7fXIuac\n",
       "lK/lvQki74L4x8u0LnklRkZmj7wAPgXvia8AeakrqejiNRvV9evjRwf2T0yT+7cdo6wWUmVcCaS8\n",
       "Gc+PkzXczbjsJgLdrBI6d5wuXh1ku/lA3h9TumJxSdMp2Pd4nWs0Gb5dUVrC7+nev9SPSeQXHL5+\n",
       "KBs0rvRzZtSkjhhM/RxI1xJVP5nKrhu4uV+mSDfTAfgAfDlQvuIdSB1t0hO3xoJVM+cX8vykutIV\n",
       "8KqReEZk2yqTZTecRJw9P+pmIp81OOtYIv+Gf3vr/87vOJb0/+B77y+l9qNACslXcQAAAABJRU5E\n",
       "rkJggg==\n",
       "\" style=\"display:inline;vertical-align:middle;\" /></a><br>"
      ],
      "text/plain": [
       "delta_def: delta = (phase - (b / 2^{t}))"
      ]
     },
     "execution_count": 18,
     "metadata": {},
     "output_type": "execute_result"
    }
   ],
   "source": [
    "delta_def = Equals(delta_, subtract(phase_, frac(b_, two_pow_t)))"
   ]
  },
  {
   "cell_type": "markdown",
   "metadata": {},
   "source": [
    "The probability of success is defined as $\\theta_m$ being within some epsilon of $\\theta$: "
   ]
  },
  {
   "cell_type": "code",
   "execution_count": 19,
   "metadata": {},
   "outputs": [
    {
     "data": {
      "text/html": [
       "<strong id=\"success_def\">success_def:</strong> <a class=\"ProveItLink\" href=\"../__pv_it/axioms/b422ca52245ca4f5a98e99a1c29045acfd447d9c0/axiom_expr.ipynb\"><img src=\"data:image/png;base64,iVBORw0KGgoAAAANSUhEUgAAAaIAAAAXBAMAAAC7VVYuAAAAMFBMVEX///8QEBCIiIhmZma6urrM\n",
       "zMxUVFQiIiJERETc3Nzu7u6qqqp2dnaYmJgyMjIAAAAcRTyBAAAAAXRSTlMAQObYZgAABWxJREFU\n",
       "WMPll11oHFUUgE/2Lzuzs9soSsUfGBOaFFnrkj5I0dS1IvEhNmseRKXgEq3QGmUlYiotJU2qbAxt\n",
       "1jykJVB3ahFDSpqFEKv1p0M2IsY8rKk/KbYlpRax8WdJFjXb1HjuvTO7OzObmWlf+uCFZPfee87Z\n",
       "8917zrn3Atzk9twNT9544zKw4bKl1IXX6ccR1vvEnmm0O2k2P3ldjqILvgTAHPl+3kxwiFn+YeXt\n",
       "ly5JFr/Od7KOJ2GYL6c/ubrTQ2uvm4iI7wD4hny9Yib3q2L5XwDvnRZEAYWEnzMKlNE3IYJLNonq\n",
       "IqXmTgAcJnHVaaLhDzHL7mUA34IF0Rm1N2GYL6dvRnTVFhH/lagxJ4gQwEAQUiY6lQlm2ZHDv2UL\n",
       "ojfV3lHDfDl9EyJX3g4R92BGa46vAv/U8PAhM6VDimVvFtMjZ07ExdReIKyfL6dvQiTEbBBxr6b0\n",
       "LvwM8E88vscoKxe+1SiiazA1kiFzIgeZn71lPzpkkFT0t+zcUq0latrRXytuq9UtQaC1JmVF5D5Y\n",
       "UPLvuyNMxdMA2wF6jMJFhw4o3j4vg2+PRaX1Ygw4v4cn8RdIaRD+oI3ZUvTlg6l9WiI5LvILYV+V\n",
       "1tzoFX7JiiheLAoNEVeGil8AeKxsYSoS7Va8faBtul6yIKrEIHic9nwx/TzTd6feUCRUIndqL3DL\n",
       "4M9qxU9LsGBFVHdfIesiqgsn0QtwlGSXu30S7o2WEt2miPZJlocBVGAUHB8iuu6sfp7p83xOl0dk\n",
       "xJcHD6m3PNtU4t5m4Jf1RPygzuaPU+rMqW41lDA0MpWqwPF0A3wsSE4pvbF9Y0pH9LeqHDEY1hAN\n",
       "s5UxECn6vqy+MuCIMwYVov44cl3VEzlIRU93SzCgjnyxSXFKgiIRN/e0ml29gxJ8LoaEclHnXiSd\n",
       "6nPiUNZ/KwjTm2A6nTgWFB33T5DRQtTxLLZdsWIeRSniIjPnxBD3N7TUOGojChGOVMrQnNDGwDVw\n",
       "5g1RN482E545mCmMbN1OPz4oLGoj/vW8SGA7QphR2MbH+4VylYEcJ+CSOZHLQhe0QZtH9si/w8tN\n",
       "0E9GC5XBh44mlMqgP45Iq8Aq6n80U7HTEVWIcGQ0DJs57aGYg6MZA1EvOR7dS0J7MU+e2U+9xp0B\n",
       "tTLAGC6nLwURdsUbF0a2aYjSjChATjxu8ZTEZ6GVw04S0zwPHyUfGiajzBzWbO4yjKBvTlnnDNXH\n",
       "lkTiwTpYEyYSlCgZhtMAvwla+VegG8oShbkclJadARIU70X4n5j4w+SgwAV2BGXgQ4xWTmuIGimR\n",
       "88+/SKA/sRImRC5MhmZc62vng66+HBll5kisbV37FgGIaH1R9Jk5aIWnaF2kRI30zBs7q1U4FsR9\n",
       "mOQuttSOzIbBUY01IDgzTzMxbyzOrou7WBADeSX4cYEd9SK4d8XjXUh0hFSKiOEWRJMh4YshURe3\n",
       "hIudoOn/LJwko/pb0IemdfF2WA9Jt/m9jiVGMhXoROu9aBA39S7qkOgLZVYrt7y6fSPkX5Ttkaul\n",
       "7E2VLk8IOiHP3w0vwPueEC8eAP8YeOmo5U219PKC2wyzgh2iUckju6tw6bziqATzLA24+sRqRIJa\n",
       "MlvAJcGX5Nt3AOe0cj0lRBPBBJyZeSQj4J6mq0GYkD+r/pqOMhmvyWuiJEai+EQZmLJFBB7RXeWv\n",
       "Ak+omdY6usLKj/zSQZr+NaFsRAcKezGyXXvD4Cn74rPx3Cq++LwJu080W0R0j5Jsj5pK7hxGc7oL\n",
       "3XrMo7Kv8jrrV/kGzav8rL1HJ9pdZza/DpKEKIt59K7kEbl7MJXnP31ndRf89lbyJja+L/rt7sOL\n",
       "9ESH6ZnXUlCxspKF/1f7DzK+306+XS4MAAAAAElFTkSuQmCC\n",
       "\" style=\"display:inline;vertical-align:middle;\" /></a><br>"
      ],
      "text/plain": [
       "success_def: forall_{eps in NaturalPos} ([Psuccess](eps) = Pr_{m}[|m - b|_{mod 2^{t}} <= eps])"
      ]
     },
     "execution_count": 19,
     "metadata": {},
     "output_type": "execute_result"
    }
   ],
   "source": [
    "success_def = Forall(\n",
    "        eps,\n",
    "        Equals(Psuccess(eps),\n",
    "               Prob(LessEq(ModAbs(subtract(m_, b_), two_pow_t), eps), m_)), \n",
    "        domain=NaturalPos)"
   ]
  },
  {
   "cell_type": "code",
   "execution_count": 20,
   "metadata": {},
   "outputs": [
    {
     "data": {
      "text/html": [
       "<strong id=\"fail_def\">fail_def:</strong> <a class=\"ProveItLink\" href=\"../__pv_it/axioms/382e463880dd51a3d4012c371e44799fc50bcf5b0/axiom_expr.ipynb\"><img src=\"data:image/png;base64,iVBORw0KGgoAAAANSUhEUgAAAVYAAAAUBAMAAAAkZghjAAAAMFBMVEX///8QEBCIiIhmZma6urrM\n",
       "zMxUVFQiIiJERETc3Nzu7u6qqqp2dnaYmJgyMjIAAAAcRTyBAAAAAXRSTlMAQObYZgAAA/1JREFU\n",
       "SMeNl0to1FAUhg8x88okHRcuxI2xFXxQ7VBB8FEdcKELwaELQRA6+MJCcQouFCriA6SjSAc3iqAT\n",
       "RUUrthUdFPEROrpQRxhF3GhtfSEqqNjiC7Wek9w4edxJPHBmknNz//sl95ybG4BAi1Vg7htvWHmb\n",
       "Yq1k8Ty3o8eEj+mg8bzClo9QYMiv71mA2/j3ZHzfpleaLS6nWKth7dyOHqNOSvb7pi0Law/oFWZ+\n",
       "n87f+7G+M1nhD0B0ikfyHTvr43aEixqHI4EPaLcWwGoXZn6EHvcuvylJmqyhXzgRX9yS1GqeqZyO\n",
       "UkeWx9qmA9xS/VkdwszrUEwe8GGN5E1WYQz9l1syYuWpNJHXEYZ5rE3406T7szqEmSv3ensP+6UA\n",
       "NRJr9DNAeMwtWe36mteRz9qDnk35szqFmX/v7t7hvb561w2MlZKskHRLUquyezIeltwSDTVZMfNj\n",
       "owG15RRmvhEg572+CnWQsWKSxXeE1tNKonRKm5kktbakRYw+N4b5aFjS6shlpcy/ogewOoWZLwNp\n",
       "xI+1i7E2dZSbtcgpKgkxA6uYJLaK5op5xS3RVYtV+FouzYYAVqcw8wgItjU7tPU2TMvYWScx1h4a\n",
       "td+K9jNJbJWu7aVIm3vISVXWPuNpv2Ec0Z/+LwOOMHO5ErEuOl9qgauyNkErzds6b8DF+o1OTpil\n",
       "mXewmo/Oj9XJkehkJ6fhnObHWhVmHhtZbS2IB45qcENNyrwcCFExhJYOig9a4Oznf6xdNKJhy235\n",
       "mvHNgTYSF+YMSj3wUIVyKS+XF0jNg1D/TMUoV9jy3Ab8ubktiZmLViweknm1JYyZUy+odSmpyoqt\n",
       "Rbxflv4Oq1lbtLzCSjgEBYiqYT2sd0BHXSV8WY+pFOUJW34JpyQ+AGlza1CUL6x1sJZM1rqfLE1b\n",
       "56o2Vmw9npae4tFiN6uxiDVxWD9RrLCoF0XCakGDGEq3afH20WsaRXnCliewtIVGHSSDrwh6ycG6\n",
       "3GCd8OmrarDK+8N2VmwVX2yngvVsxajj/KmvKm7WJePraC3pGTNYcUER8S0zPPRIXzGeoihP2HIF\n",
       "b1NoViG0vbt7D7Ieo1pLe96xrPwT+eh0G2v1VdjJfcfy9yVoa3AN6sccKOQh9sMonFA+3klRjrDl\n",
       "hl2gn4z5XMVW7t6FsfanI/U2Vv+9iw/rJYhCQjuhh5OSuh5ORivwNAm7KFp772JaK4ga3KGjxwDP\n",
       "nPK5KquU3aism/XyzKiUzbBhc7X3hDk/1uv1d0FpafgNpXqQcVbLjfHBxjxFOcJ99gGUbR9wjcYl\n",
       "VdyZgjB3rx2wJc79/147yLzCOe8AMzFfuZ8iMzjfMILjU0P532+YnYHfMF5h5n8BR/R0Q0/LTvwA\n",
       "AAAASUVORK5CYII=\n",
       "\" style=\"display:inline;vertical-align:middle;\" /></a><br>"
      ],
      "text/plain": [
       "fail_def: forall_{eps in NaturalPos} ([Pfail](eps) = (1 - [Psuccess](eps)))"
      ]
     },
     "execution_count": 20,
     "metadata": {},
     "output_type": "execute_result"
    }
   ],
   "source": [
    "fail_def = Forall(\n",
    "    eps,\n",
    "    Equals(Pfail(eps), subtract(one, Psuccess(eps))),\n",
    "    domain=NaturalPos)"
   ]
  },
  {
   "cell_type": "markdown",
   "metadata": {},
   "source": [
    "Let $\\alpha_l$ be the amplitude of $\\lvert \\Psi \\rangle$ for the $b \\oplus l$ state, where $\\oplus$ is defined as addition modulo $2^t$:"
   ]
  },
  {
   "cell_type": "code",
   "execution_count": 21,
   "metadata": {},
   "outputs": [
    {
     "data": {
      "text/html": [
       "<strong id=\"mod_add_def\">mod_add_def:</strong> <a class=\"ProveItLink\" href=\"../__pv_it/axioms/7ded7ab543b1260c8c2880b2e98f254f052030940/axiom_expr.ipynb\"><img src=\"data:image/png;base64,iVBORw0KGgoAAAANSUhEUgAAAUUAAAAbBAMAAAAZqYBdAAAAMFBMVEX///8QEBCIiIhmZma6urrM\n",
       "zMxUVFQiIiJERETc3Nzu7u6qqqp2dnaYmJgyMjIAAAAcRTyBAAAAAXRSTlMAQObYZgAABOdJREFU\n",
       "WMPVV12IG1UU/jbJbHZm87NS0Soo2dYuPuxD2EWUstr4gz6J2VK2+FATFqvWql2UitaCawuSRZQR\n",
       "wRZl6bQLpexDE2xFC4UOzZM11qhYi6gEo63Wkl3DLrW7lfWcOzPJTDITE1DQQ+7MnTv3u/Odc885\n",
       "9wT4j8rPHc7fhH8b0CTKPBCju6/N+VK6ww90DGiW3gngQboH2lwqonX4gY4BTSLfWU4iVKTeZ+0B\n",
       "hhhU9FJYdQdgugOAub+b6rpFcnTZRS1IYyUe+b6lTkt0OeL25siNdNnmDlAm2wdY7OcSgupwJoko\n",
       "a7KWHTIOfMrDl1pxDNEs/Or6qkztqDsgorYPsOSA4HgYoQWMimdWmIJnP98nW3HsIrOH47aB8Ej5\n",
       "DqO3zIxibgB85bCQNccdYElUcFwPXIcBhXQM8kKvGP4dyrXieIBmBG1WkbZBNzgHxKb2uQHwshtH\n",
       "D4CTI/nDDnUoRD0/2+4uMsqZ2dl9LUPmC2r2GRsBHTNiUyf4+pMbQJ5w4+gBcHKc07AjObaOfZG1\n",
       "6af2RyazuyXHe0zvlUeGbubnOHOU+auR8bW0A3k3ALs63sn3aw6ODsBjqzYOxO67PQHl9CCRUwpr\n",
       "UglzhVe1utkfof5WYMpaPVBx4Zih9ia1e9XIPHujyhz5h+wl5SrwA086W2Ep1wA9lKsCN2HOaUcb\n",
       "gOSlmFxNhPuwWcUe4GAOn5scA9dMr1qkSyoJ3A+lVONj2aR7dX6vFSYXDMdVbjH8ww9B8AG6ndJQ\n",
       "BT5qVIoB7O4Hi+xMdo5OwGu0iZCuYrcg8pYV1wQ2Dxd5wQz2IHz1/Pwb+/TJ4WJQDR2yEuoL1K4n\n",
       "bksI8qe6C4XC5ULhtNhUhTRONXJkQBetvEHD8+yElcrFWyuVdBOAWF2DvChRsEd1fpE1OQ5bSZ05\n",
       "8mCoGKwvTzuB8ydm0Yst0/acRhy7JpFN1u04Ld4Ell04lk2Oq6EsOu3oBJBPVIljLzGJTkrVGkef\n",
       "tYM1O8qlMerNDHAxJFUHtIAxI65bn3zd2OusjlOoc/yabn+ycfFQ3R8v1AC012SZ3nknRxugzlHY\n",
       "Ma7UOR6DbKQ6iU2W4v7U42TVnRLHkG+XLx4x8vT7SYvjU0bMZHN4js/aQE5wZE0W2OVqIQA7gGJG\n",
       "WUZ36YSDoxNgcsQqIpLAL5Y/Sjp8qjOucYySlj8ucerqiYVLIvPhUKj2yX4jlujdi2LwaeYY5rT/\n",
       "LPbSdaSRY795Hu7BN2ndwdEJEBwpdkeTuAy8ncAGMW1fIf+keaD1mdkW0RgfX7608CJ/enMmk4lB\n",
       "P4P3zKVYEdoeZXzdu7fx84xGHE+K3mDRrWJmQIBUPrzm0fGEg6MDMLay9ePf02ev6PJInvPjyJep\n",
       "G0QOX1m5YsywzhliS0tm1Z5v6RbVunLdwsofFvGJdfwmnGchhlR9rJ4KlImm8zrhdRZ6ADzrUIb9\n",
       "WFtWTT2M/VpQO4+QCF6/sIShjd5QU8iDw7YDvrlEYICzplDsRa93TdEoWYIpS7UDZvyDuzGak56h\n",
       "5d+g53NPFC5aVbrEXjHluVBzqSUAPWr7AC85x7vc8GfBsI6P/dEu271qXCEu7Ld71bheAA/ZyUks\n",
       "2VYVf7TVf4Ww6mGp6Q4AHjPZZ75rGPOq4eOd/qnrFOAuf19+2+R4p6sf/0c4ruf40/C/kL8Ak11x\n",
       "pY/WtwkAAAAASUVORK5CYII=\n",
       "\" style=\"display:inline;vertical-align:middle;\" /></a><br>"
      ],
      "text/plain": [
       "mod_add_def: forall_{a, b in Integer} ((a MOD_ADD b) = ((a + b) mod  2^{t}))"
      ]
     },
     "execution_count": 21,
     "metadata": {},
     "output_type": "execute_result"
    }
   ],
   "source": [
    "mod_add_def = Forall(\n",
    "    (a, b),\n",
    "    Equals(ModAdd(a, b), Mod(Add(a, b), two_pow_t)),\n",
    "    domain=Integer)"
   ]
  },
  {
   "cell_type": "code",
   "execution_count": 22,
   "metadata": {},
   "outputs": [
    {
     "data": {
      "text/html": [
       "<strong id=\"alpha_def\">alpha_def:</strong> <a class=\"ProveItLink\" href=\"../__pv_it/axioms/f33e02c51a4142b24f5f5f6c50fbc600634c51030/axiom_expr.ipynb\"><img src=\"data:image/png;base64,iVBORw0KGgoAAAANSUhEUgAAAMUAAAAWBAMAAACCvEVCAAAAMFBMVEX///8QEBCIiIhmZma6urrM\n",
       "zMxUVFQiIiJERETc3Nzu7u6qqqp2dnaYmJgyMjIAAAAcRTyBAAAAAXRSTlMAQObYZgAAA0hJREFU\n",
       "SMe9lU9o01AYwL82bddkSbsJojsIQfHPQaFsigfHDCgIelgVnCehBxX1oL0NQWRzl84/kNuGIosb\n",
       "ONhhC4iH4Q7ZJqgzuqAoehgbFCuISA8buCnO73svS7s0triDj5a8vLz3/b7/D2DjwwlcjRre1Kwt\n",
       "40H1z9FM4LKsedP9+B/H/wK9zAVtlrqqMwRN6s761nYvMUakbbWAjw5ciekAr+jT1yAZCb06ow63\n",
       "pHxrStG1Y4u7AyQ0oh+fYqDG72q4cgIg6Xpcac0f4LZ1EeOEAZ0gPYUwRWwKVcEQyYHBuVaD0QvQ\n",
       "zuMbvQSWwkwKqcQYbkBGoonZAA9RhZmRkb4gEWK2OkJEAc/59BSABUM0G0gTQ15CxliGqQEJ9N2P\n",
       "XO56kIwwU2xqh/YXhoyOKGw/RNMUMUQVZ/Msr5RFZAxYzJ0g49fzhJOuVsiIkzP7NKlJMh8VaeHN\n",
       "dxr5spBLv40xTAxFJwb94CJj1P9ERrvDg66gvUeY247xg7Gt0z1urtRRkNDCnrARqXDbZzoH9SuQ\n",
       "RO0FYICj+NjEGOIvZMxrlN64KUssCv80ajXR4tTp8qBbpyHaswLQJjNz15cOGoaJJCzAGAqP2bb9\n",
       "zbYxgaLLvAZvIKPbLdNokfxKFt0F+Dg+AvVwdq26iRHCpJ6c4W4rH6TbPlYe7aZnBx4MN3DGSbMz\n",
       "skj7LM4QF6gclyHClU1ZUPIVaTlrQlIvxaNAKXUwn4ZRLA8HDhse4z3GMGMwhnin8UWaYooHmaN7\n",
       "zyGsARK8mu6ny2KOQmAS1apoASY7n9SkbfgWMRkjRfstXudSI/N4vxtzeIygcBfPbxiUvdzEM0IG\n",
       "lNko7PEzyDD0Q8yJM+MvE0NBUvK4Wt5LWKMSyDGUGnEVzuRyORWsGbjH5TAb7TlHmIKbfgYzLAtS\n",
       "82v2OmQgY4L1FB6PyJXVvMa2oM3kGAXNCp2GGBP8xIGXFb1kc9rH2CXpvHO7o1m3OpzK3s5CPOwZ\n",
       "HwaZBAkCeMVQ6olF1cdoll1nr/WVvS1mwP0RS/Oe6N4FzwBu4/PDBfvL2tUT93p7q7+fdOwE3k2r\n",
       "31Gjbm8va1AUj3+4oxS1FuPtOk03cteu17Ckail4t/D/Cf7L+AO3Pt+wGGgXMwAAAABJRU5ErkJg\n",
       "gg==\n",
       "\" style=\"display:inline;vertical-align:middle;\" /></a><br>"
      ],
      "text/plain": [
       "alpha_def: forall_{l in Integer} (alpha_{l} = {t}_〈b MOD_ADD l|Psi〉)"
      ]
     },
     "execution_count": 22,
     "metadata": {},
     "output_type": "execute_result"
    }
   ],
   "source": [
    "alpha_def = Forall(\n",
    "    l,\n",
    "    Equals(alpha_l,\n",
    "           MatrixProd(RegisterBra(ModAdd(b_, l), t_),\n",
    "                      Ket(Psi_))),\n",
    "    domain=Integer)"
   ]
  },
  {
   "cell_type": "code",
   "execution_count": 23,
   "metadata": {},
   "outputs": [
    {
     "name": "stdout",
     "output_type": "stream",
     "text": [
      "These axioms may now be imported from the theory package: proveit.physics.quantum.QPE\n"
     ]
    }
   ],
   "source": [
    "%end axioms"
   ]
  }
 ],
 "metadata": {
  "kernelspec": {
   "display_name": "Python 3",
   "language": "python",
   "name": "python3"
  }
 },
 "nbformat": 4,
 "nbformat_minor": 0
}