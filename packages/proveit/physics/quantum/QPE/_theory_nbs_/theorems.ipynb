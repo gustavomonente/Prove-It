{
 "cells": [
  {
   "cell_type": "markdown",
   "metadata": {},
   "source": [
    "Theorems (or conjectures) for the theory of <a class=\"ProveItLink\" href=\"theory.ipynb\">proveit.physics.quantum.QPE</a>\n",
    "========"
   ]
  },
  {
   "cell_type": "code",
   "execution_count": 1,
   "metadata": {},
   "outputs": [],
   "source": [
    "import proveit\n",
    "# 72 cols ==============================================================\n",
    "# Prepare this notebook for defining the theorems of a theory:\n",
    "%theorems_notebook # Keep this at the top following 'import proveit'.\n",
    "from proveit import a, b, k, l, t, eps\n",
    "from proveit._core_.expression import Lambda\n",
    "from proveit.logic import And, Equals, Forall, InSet, NotEquals, NotInSet, SubsetEq, Difference\n",
    "from proveit.numbers import Abs, Add, Exp, frac, Mult, Neg, sqrt, subtract, Sum\n",
    "from proveit.numbers import greater, greater_eq, Less, LessEq, Mod\n",
    "from proveit.statistics import Prob\n",
    "from proveit.numbers import zero, one, two, three, four\n",
    "from proveit.numbers import Interval, IntervalCC, IntervalCO, IntervalOO\n",
    "from proveit.numbers import Integer, Natural, NaturalPos, Complex, Real, RealNonNeg\n",
    "from proveit.numbers import i, e, pi\n",
    "from proveit.physics.quantum import Bra, Ket\n",
    "from proveit.physics.quantum import ket0, ket1, CTRL_DN, inv_root2\n",
    "from proveit.physics.quantum.QPE import (u_, n_, t_, phase_, m_,\n",
    "        b_, delta_, two_pow_t, two_pow_t_minus_one, alpha_l, alpha_l_sqrd, diff_l_scaled_delta,\n",
    "        full_domain, full_domain_sans_zero, neg_domain, pos_domain, eps_domain, U_pow_two_pow_k)\n",
    "from proveit.physics.quantum.QPE.phase_est_ops import Psuccess, Pfail, ModAdd\n",
    "from IPython.display import display"
   ]
  },
  {
   "cell_type": "code",
   "execution_count": 2,
   "metadata": {},
   "outputs": [
    {
     "name": "stdout",
     "output_type": "stream",
     "text": [
      "Defining theorems for theory 'proveit.physics.quantum.QPE'\n",
      "Subsequent end-of-cell assignments will define theorems\n",
      "'%end theorems' will finalize the definitions\n"
     ]
    }
   ],
   "source": [
    "%begin theorems"
   ]
  },
  {
   "cell_type": "markdown",
   "metadata": {},
   "source": [
    "#### Some convenience methods for building expressions:"
   ]
  },
  {
   "cell_type": "code",
   "execution_count": 3,
   "metadata": {},
   "outputs": [
    {
     "data": {
      "text/html": [
       "<a class=\"ProveItLink\" href=\"../__pv_it/theorems/644b7c68783f45d7983a5ebe0ae26f4da6dc83d30/expr.ipynb\"><img src=\"data:image/png;base64,iVBORw0KGgoAAAANSUhEUgAAAEQAAAAUBAMAAADGs4Z2AAAAMFBMVEX///+qqqq6uroyMjJmZmbM\n",
       "zMxERETc3NyIiIiYmJh2dnYiIiIQEBBUVFTu7u4AAAAuEbc3AAAAAXRSTlMAQObYZgAAARVJREFU\n",
       "KM9jYAABLjc/BgTgWYBgKxtAGcsZLiMp4VBAsLkcoIztDPEFDFgBswCUsYmhXgG7En6EVvkHDAzs\n",
       "9v//fwXpnAAk+DwuBwCp+I57MCU7gJgltM/vAUzJ64B4ELv7QQvCVU8YHnAUAB33BKiEz4HBhSGa\n",
       "AUhlMEyGKpnCwBBTwMDG7gCimSewHmc4yNDLAKQOMfhCVDAtYAJZXMZ0gQFqEd93hsx3QPY/oFow\n",
       "CBYUA1nsyXoApoThOOsnELWPM4GB4e3pBQzn//8Hye0DQpgS3cYWEBW7Cmji6RlnGfAD3nMM9Q/w\n",
       "K+FvYGCbgF9J/P///xcQUDK9vJywRYQAyzkGhgL8Svj2rFxDyCCW/Zb4FQAAAYtNWWjD+XAAAAAA\n",
       "SUVORK5CYII=\n",
       "\" style=\"display:inline;vertical-align:middle;\" /></a>"
      ],
      "text/plain": [
       "e^{2 * pi * i * a * b}"
      ]
     },
     "metadata": {},
     "output_type": "display_data"
    },
    {
     "data": {
      "text/html": [
       "<a class=\"ProveItLink\" href=\"../__pv_it/theorems/6afd71f359897f68cd81fa5a22d47f1da10e8bef0/expr.ipynb\"><img src=\"data:image/png;base64,iVBORw0KGgoAAAANSUhEUgAAAEEAAAAXBAMAAACmDj+cAAAAMFBMVEX///+6urqqqqoyMjJmZmbM\n",
       "zMxERETc3NyIiIiYmJh2dnYiIiIQEBBUVFTu7u4AAADP9LAkAAAAAXRSTlMAQObYZgAAARpJREFU\n",
       "KM9jYAAD1lXpDDDAagBnMh6FM9kYouFshgcI5gE4i5nhPQMWwG6AxNEGGbpnz16gcAKQydmRBySZ\n",
       "LFzhCvjMQQJcHAxQFVpgC1gmlMFVvH3AUM3A8ISFgX0DewL7BgZz1gtAAeYCNbgRfq8Y+BgYJnED\n",
       "3Qk04wHDPo5GoAAzw0WYCu7/v0HUPd4AqC1SMzxBDluhwEA0+I8TfMCqvpagiTPwykYtK+DaMgFF\n",
       "6O3pBcjcBNYNDBtQFPCdnnEWmW/A94HPAEUF7zmG+gfIAkwbmBxQbOFvYGBDEXhcwO5RgCwQD/Qz\n",
       "skP47qG7PX56eTmyLU/eLUBTAbQFBez/vwFNBcs5BoYCvCHEt2flmgb8Qcyy3xKvPAA/EV5kDhZb\n",
       "jAAAAABJRU5ErkJggg==\n",
       "\" style=\"display:inline;vertical-align:middle;\" /></a>"
      ],
      "text/plain": [
       "e^{(2 * pi * i * a * b) / 2^{t}}"
      ]
     },
     "metadata": {},
     "output_type": "display_data"
    },
    {
     "data": {
      "text/html": [
       "<a class=\"ProveItLink\" href=\"../__pv_it/theorems/53cb1e09bf44e795607f60d897e48ce61ba3694e0/expr.ipynb\"><img src=\"data:image/png;base64,iVBORw0KGgoAAAANSUhEUgAAAFcAAAAZBAMAAAC2tK9DAAAAMFBMVEX///+6urqqqqoyMjJmZmbM\n",
       "zMxERETc3NyIiIiYmJh2dnYiIiIQEBBUVFTu7u4AAADP9LAkAAAAAXRSTlMAQObYZgAAAVBJREFU\n",
       "OMtjYEACjAGsq9IR3GAEUyaAgeMBAwqoYGBjiEZw+RBMHiB2QFV8gYGZ4T0DNlAMxEooInwgvdog\n",
       "5+zZsxdIlYEEZ7SBrFduCWDgRVHM2ADUYA5kMHFxMEAVMy0AuYDBkz0B6EQoeOLi4qLAqcDA8PYB\n",
       "QzWQy8IApMqAmLkgloF9A4M5UwLQiWgm8/m9AvlrEjfIe2VAzP2gQ4DhAYMBrwDCZIibLzBw//8N\n",
       "Yt3jDYA6g3FlywQgJdXEgOZmYGjgA0ro4YwPoIUzowAetfAY5P9PDMBjEjt+H6ACzgYiFYIS32pP\n",
       "LBJvTy/AEAMlPm4savlOzziLIQhKfI+xKOY9x1D/AFNYm0GFE1OUv4GBbQKmfeYMJe2YiuOBAYjp\n",
       "6LcPsHo8fnp5OYYMKPFhA/zYghOa+DAAyzkGhgJiI4pvz8o1DURHK8t+S2KVAgAAnGzqa1BB/gAA\n",
       "AABJRU5ErkJggg==\n",
       "\" style=\"display:inline;vertical-align:middle;\" /></a>"
      ],
      "text/plain": [
       "e^{(-(2 * pi * i * a * b)) / 2^{t}}"
      ]
     },
     "metadata": {},
     "output_type": "display_data"
    }
   ],
   "source": [
    "def exp2pi_i(*exp_factors):\n",
    "    return Exp(e, Mult(*((two, pi, i) + exp_factors)))\n",
    "\n",
    "def exp2pi_i_on_two_pow_t(*exp_factors):\n",
    "    return Exp(e, frac(Mult(*((two, pi, i) + exp_factors)), two_pow_t))\n",
    "\n",
    "def exp_neg2pi_i_on_two_pow_t(*exp_factors):\n",
    "    return Exp(e, frac(Neg(Mult(*((two, pi, i) + exp_factors))), two_pow_t))\n",
    "\n",
    "display(exp2pi_i(a, b))\n",
    "display(exp2pi_i_on_two_pow_t(a, b))\n",
    "display(exp_neg2pi_i_on_two_pow_t(a, b))"
   ]
  },
  {
   "cell_type": "markdown",
   "metadata": {},
   "source": [
    "#### Take care of number domain issues:"
   ]
  },
  {
   "cell_type": "code",
   "execution_count": 4,
   "metadata": {},
   "outputs": [
    {
     "data": {
      "text/html": [
       "<strong id=\"two_pow_t_is_nat_pos\"><a class=\"ProveItLink\" href=\"proofs/two_pow_t_is_nat_pos/thm_proof.ipynb\">two_pow_t_is_nat_pos</a> (conjecture with conjecture-based proof):<br></strong> <a class=\"ProveItLink\" href=\"../__pv_it/theorems/52f7f32cc49912b4de67024cb305650f57f0a4190/theorem_expr.ipynb\"><img src=\"data:image/png;base64,iVBORw0KGgoAAAANSUhEUgAAAEUAAAAUBAMAAAApce1IAAAAMFBMVEX///+YmJiqqqqIiIgyMjLc\n",
       "3NwiIiIQEBC6urp2dnZUVFTMzMxERERmZmbu7u4AAADrYmUNAAAAAXRSTlMAQObYZgAAARtJREFU\n",
       "KM9jYAADbwaCgO8DLhkuOIspAZcaHhiD9ZrvBkJqGFgU8JrDd/fMBgb+AFSZJ3+OPGCY/r0BquYV\n",
       "A+cPhu3o2g9yLwB5ZImLu4uLAMM9BoZyBis+NIOWbTBmYCiA2VXGwLA+4DInRIrxWFoKmLHiHNcG\n",
       "hgSYGv8HDOs37LIGy3AffgA1Z+kuPj+EGiDIh8k8gTEYljIZ7EJWw/ETLsOAYM1gNEBSw7YAJnMA\n",
       "SQ3Xg9UgNawQ/l2YBHeJCxBA1fAtYCmAa2G+AI8SZHMYdnIj1OgysMICpwBZDaMCXAv3BAZmmJrL\n",
       "cDWrgXgqXE3YzLnLYGw2eNQ6ATGvA4zn////N3hSW9MHYWz7DjSDzwFrSuCYA40LFAAANZNK4kH5\n",
       "y2YAAAAASUVORK5CYII=\n",
       "\" style=\"display:inline;vertical-align:middle;\" /></a><br>"
      ],
      "text/plain": [
       "two_pow_t_is_nat_pos: 2^{t} in NaturalPos"
      ]
     },
     "execution_count": 4,
     "metadata": {},
     "output_type": "execute_result"
    }
   ],
   "source": [
    "# t (represented by the Literal t_) denotes\n",
    "# the number of Qbits in the input register\n",
    "# Thus, 2^t is a positive natural number\n",
    "two_pow_t_is_nat_pos = InSet(two_pow_t, NaturalPos)"
   ]
  },
  {
   "cell_type": "code",
   "execution_count": 5,
   "metadata": {},
   "outputs": [
    {
     "data": {
      "text/html": [
       "<strong id=\"two_pow_t_minus_one_is_nat_pos\"><a class=\"ProveItLink\" href=\"proofs/two_pow_t_minus_one_is_nat_pos/thm_proof.ipynb\">two_pow_t_minus_one_is_nat_pos</a> (conjecture with conjecture-based proof):<br></strong> <a class=\"ProveItLink\" href=\"../__pv_it/theorems/2902adc0be68543eb309c4685a499ac8eafb3c420/theorem_expr.ipynb\"><img src=\"data:image/png;base64,iVBORw0KGgoAAAANSUhEUgAAAFoAAAAVBAMAAAA0iOSIAAAAMFBMVEX///+YmJiqqqqIiIgyMjLc\n",
       "3NwiIiIQEBC6urp2dnZUVFTMzMxERERmZmbu7u4AAADrYmUNAAAAAXRSTlMAQObYZgAAATZJREFU\n",
       "KM9jYEAF3AcYCANvmOK7CYQV832AsThwq14AYzAlEKEa5kbWa74biFfNwKJApNl8d89sYOAPwKWa\n",
       "z/+MHwNnfQVU9SsGzh8M2xkYes4AwQNMs3kEdjEwvGfgcnEpcXFkuMfAUM5gxReAyyVc2cwGDOww\n",
       "l5QxMKwPuMyJETqMx9JSwKp7HqxmYIOp9n/AsH7DLmt46PwygETT4QdQs6MXPHnAhhQm+Q8wA+AJ\n",
       "TIwrQJl7AZJqjp9Ygmsp3N0BnA3CSKrZFuCLCq4AhnVc20AsSEDcxaKYu8QFCKCqXzG4wyWYL2BR\n",
       "zYpsNveE7XAJXQbWAEzlBUiqGYR44HZOYGDGovoyXDUwvXHGwHhhM+cuw+IUNgXkBHcFJuz///83\n",
       "bPljTR/E6vwaUOgTyk4ccyAxjwIAiltT09cJAqcAAAAASUVORK5CYII=\n",
       "\" style=\"display:inline;vertical-align:middle;\" /></a><br>"
      ],
      "text/plain": [
       "two_pow_t_minus_one_is_nat_pos: 2^{t - 1} in NaturalPos"
      ]
     },
     "execution_count": 5,
     "metadata": {},
     "output_type": "execute_result"
    }
   ],
   "source": [
    "# t (represented by the Literal t_) denotes\n",
    "# the number of Qbits in the input register\n",
    "two_pow_t_minus_one_is_nat_pos = InSet(Exp(two, subtract(t_, one)), NaturalPos)"
   ]
  },
  {
   "cell_type": "code",
   "execution_count": 6,
   "metadata": {},
   "outputs": [
    {
     "data": {
      "text/html": [
       "<strong id=\"two_pow_t_less_one_is_nat_pos\"><a class=\"ProveItLink\" href=\"proofs/two_pow_t_less_one_is_nat_pos/thm_proof.ipynb\">two_pow_t_less_one_is_nat_pos</a> (conjecture with conjecture-based proof):<br></strong> <a class=\"ProveItLink\" href=\"../__pv_it/theorems/16eed1a431b5717c97e11dcee60fae8aab22b6c90/theorem_expr.ipynb\"><img src=\"data:image/png;base64,iVBORw0KGgoAAAANSUhEUgAAAHoAAAAbBAMAAABB34YoAAAAMFBMVEX///8iIiJERESYmJiqqqoQ\n",
       "EBB2dnbc3NyIiIhmZmbu7u4yMjJUVFS6urrMzMwAAADZVrDbAAAAAXRSTlMAQObYZgAAAdlJREFU\n",
       "OMtjYICDfQzkgLcQiusDFjkOPPoOgAi+AxAOiwAWFbwHcOtWABHcC8Bs9ok7H2BRkkxA9wwoh9sB\n",
       "mxLGBXh1s/8Cenmm0gMG/gJsSjgmoPK59ivtYmCLj4XqZgNKr2Fg+8vwFEOnK9BedvSwZDJ4w8Cw\n",
       "noFn9+7o3ZsZWIEOnsXAEMrQw4VqOdex8yBXi6Dp5pHjaGBghbm8HqgkkIHhfMEMNnS77UG6J0E5\n",
       "zIqC0mDdlxacY2CE6TYF4v0LGM4/eNOHVXcrhM2nAQ0+nroDqxfAdc+GCMpjCVuw7vsQidUweZ4C\n",
       "D74DcN1KkFTxjQGH7veQVHAc7u8CtgsWcN17INF6AJfu+guIpAHRzXCK5yGIBQpkSbDYTJjk6t0g\n",
       "sA+hez1YN180SBiqew3DVpjyndjSBIbd7Mh28yXA04YOiPBkYC/A5W+IRACSbgYTJhjvEMhdCQwc\n",
       "BfjDfAZcNzAU2YpgPFB8FqZlHsTi8v4F0PQAClYH5Mw0G6YEZPb+//8/YmqeE7/TAJ7WuA7dgqQa\n",
       "+SBQ2MLUsF7AX/LsgJUTSZCUigo4E/Bq5vqFV5ovAK808wH8TjuCV5bxAX7dq/HKmhEokFkm4JFE\n",
       "pDFcwBePHOcCBtoBANdWef0BBYjUAAAAAElFTkSuQmCC\n",
       "\" style=\"display:inline;vertical-align:middle;\" /></a><br>"
      ],
      "text/plain": [
       "two_pow_t_less_one_is_nat_pos: (2^{t} - 1) in NaturalPos"
      ]
     },
     "execution_count": 6,
     "metadata": {},
     "output_type": "execute_result"
    }
   ],
   "source": [
    "# t (represented by the Literal t_) denotes\n",
    "# the number of Qbits in the input register\n",
    "two_pow_t_less_one_is_nat_pos = InSet(subtract(two_pow_t, one), NaturalPos)"
   ]
  },
  {
   "cell_type": "code",
   "execution_count": 7,
   "metadata": {},
   "outputs": [
    {
     "data": {
      "text/html": [
       "<strong id=\"two_pow_t_not_zero\"><a class=\"ProveItLink\" href=\"proofs/two_pow_t_not_zero/thm_proof.ipynb\">two_pow_t_not_zero</a> (conjecture with conjecture-based proof):<br></strong> <a class=\"ProveItLink\" href=\"../__pv_it/theorems/ce493586a0fe341e989df846e233b2e7fc7745860/theorem_expr.ipynb\"><img src=\"data:image/png;base64,iVBORw0KGgoAAAANSUhEUgAAADYAAAAYCAMAAACGPf6pAAAAOVBMVEX///+YmJgkJCQNDQ0oKCiq\n",
       "qqqIiIgyMjLc3NwiIiIQEBC6urp2dnZUVFTMzMxERERmZmbu7u4AAAAEpOdQAAAAAXRSTlMAQObY\n",
       "ZgAAAQFJREFUOMu9lNtywyAMROU2RtyR9P8fGxB162DiyfBQPXgG7MMuizDAqTDDQrGsULC7BciS\n",
       "Q1pxift0OvJ0R0SlqIrYqQt8WcNssX3MqQ0kAGQ/FUthMMSuLk9qwVfEJOCrni2nwaYrx6rvNb5U\n",
       "DZKBOBE7p1SSJi4MKKxYhpxMvhcDUSzIkZ0Tnqdb8ks/UMdMHwcZ7UXUeny3Jx3S/bN8YC7BB2IV\n",
       "o451EaI3VE5D055NmncUlOFA5CfJFsneKGsne/vyfYe/mkVz3Vp+WY2aWWPhOPl33NbFGCnN7ky4\n",
       "mnetuXzNCUVrhuH1LDkak+5v105Llx156RcR/1EMwt3LJ2xaCkkv8PKMAAAAAElFTkSuQmCC\n",
       "\" style=\"display:inline;vertical-align:middle;\" /></a><br>"
      ],
      "text/plain": [
       "two_pow_t_not_zero: 2^{t} != 0"
      ]
     },
     "execution_count": 7,
     "metadata": {},
     "output_type": "execute_result"
    }
   ],
   "source": [
    "# t (represented by the Literal t_) denotes\n",
    "# the number of Qbits in the input register\n",
    "two_pow_t_not_zero = NotEquals(two_pow_t, zero)"
   ]
  },
  {
   "cell_type": "code",
   "execution_count": 8,
   "metadata": {},
   "outputs": [
    {
     "data": {
      "text/html": [
       "<strong id=\"mod_add_closure\"><a class=\"ProveItLink\" href=\"proofs/mod_add_closure/thm_proof.ipynb\">mod_add_closure</a> (conjecture with conjecture-based proof):<br></strong> <a class=\"ProveItLink\" href=\"../__pv_it/theorems/d28c777da1e6c15eee542a6b500220ab76ab90db0/theorem_expr.ipynb\"><img src=\"data:image/png;base64,iVBORw0KGgoAAAANSUhEUgAAALQAAAAVBAMAAAAdo9lKAAAAMFBMVEX///8QEBCIiIhmZma6urrM\n",
       "zMxUVFQiIiJERETc3Nzu7u6qqqp2dnaYmJgyMjIAAAAcRTyBAAAAAXRSTlMAQObYZgAAAulJREFU\n",
       "OMutVU1oE1EQnuxu/ja7aW+NF40KBcHDYi/ib8SD4A/US8WDNBQrCi1UQUQRKe3BpIIsFWpRhLUF\n",
       "KT20QREpCBbiQdtQFgStihLRIlSoWhTUKjjzZrPbJO2ag0Mmb+fL5HvvzXzvLcC/7ZbjK1nMXB0v\n",
       "0sMbP2a1m73KRhrw61QFqJz+utDwziZ8muJ5P+q4yV5t79HHKjCptxmKEYEPYhjt9qN+5rgHzDQ1\n",
       "i4cldC1Zni1PgpZ7LPC4hUPOj/q84yVrMTWeSvlF5apnVL987pKgtmAgaAhcnxodve7HHO1iL1kw\n",
       "CRqoBi1YoB8Y7bHcjL6IxfiPTOaiH7VksMO1/Hr6i4ycAP3UhLaNuN28yBrzmPWkUAXi7QBZt70L\n",
       "1dQRm11ZA58pfimo8QPj8+pPgLcia5lQRlhOiO8FtejCeWcMJfK9Bj+Gc+y3bdhKsSF4lRTAIwsW\n",
       "AR6IrGVCaA8JOSEeBsl24U/UmIdNdtjUhpwtBlLsuy04Q3FHoTBTKBRQGLtA/Q3QKkq9dgGNd24c\n",
       "FCPimh32ZsQNwuzEKMTgWOn8lagToH73Vh21SdbKkkO9TL5x2sGUwKPFFgSGG+do8sVGS+FCGJNQ\n",
       "VhBcYOyLR62jsv+AjPLbJ7LqXeppLSVCwrPHsQhngyRS6YJkxLnNN5vL26guQag4gfEBQY06gW9U\n",
       "f6eNW1ytpgfw13rG76E8ZSNIIo0k9eKwyBjSSrmawd4DL9K0k5BF1K/xqRN68XuHuzdeidUHamc3\n",
       "43XYkUBOSou6yukjmUwmCZNTcMMRZBf7nQ1H21LU5W1IHaNJhjdT/+f4Dju5n9P3XE1k1iUMxnWU\n",
       "wrgZeYVDnRXIhQTffRuernLQ5U1asNO7F52Dqjzhg16JQ8BsPQSDVtiaBY2KLMtipStfT/357V5Q\n",
       "eT1V4Urb3Z1wOBfswI1ewfj5icLHdKl6JvvKNlYbzq2QqNa1vAqEZWvCV3sZ+b3AdLMmXIf/an8B\n",
       "P+vKtHLV4VUAAAAASUVORK5CYII=\n",
       "\" style=\"display:inline;vertical-align:middle;\" /></a><br>"
      ],
      "text/plain": [
       "mod_add_closure: forall_{a, b in Integer} ((a MOD_ADD b) in Integer)"
      ]
     },
     "execution_count": 8,
     "metadata": {},
     "output_type": "execute_result"
    }
   ],
   "source": [
    "# The o-plus addition denotes addition modulo 2^t, resulting in an integer\n",
    "mod_add_closure = Forall((a, b), InSet(ModAdd(a, b), Integer), domain=Integer)"
   ]
  },
  {
   "cell_type": "code",
   "execution_count": 9,
   "metadata": {},
   "outputs": [
    {
     "data": {
      "text/html": [
       "<strong id=\"phase_is_real\"><a class=\"ProveItLink\" href=\"proofs/phase_is_real/thm_proof.ipynb\">phase_is_real</a> (conjecture with conjecture-based proof):<br></strong> <a class=\"ProveItLink\" href=\"../__pv_it/theorems/baf019f3b27ca7acb486037f046b12770a2a10800/theorem_expr.ipynb\"><img src=\"data:image/png;base64,iVBORw0KGgoAAAANSUhEUgAAADUAAAASBAMAAAAJYYvNAAAAMFBMVEX///8QEBAiIiKIiIjc3Nxm\n",
       "ZmZUVFSYmJh2dnbu7u5EREQyMjK6urrMzMyqqqoAAABb/SrcAAAAAXRSTlMAQObYZgAAAN9JREFU\n",
       "GNNjYMAERVLrd0sVMGAHG6Yx3KqagF1ugQcDF0sCihD7IiVtmByrwwZkKd7FExD6WB0WMDDwXWDg\n",
       "2b8SJDJ7ApKZbDxAMzkYGG7XpIJEUpDtexQNVFnCwJDAwAYWQcg5Kmk/ANIBDOwTGFhB1knvBgKo\n",
       "vqNcIAsaGJgZGCYDGSxI+jxYzy4A6zvLwBAJEhFAtm9lMZBuB8pOuwASCUaWu8YKFOPevvepDliE\n",
       "6QFSmHE8yAWF7H8NiAhn1kl4WO9lWLUfqJQVHuI8XdAwgwPGCww4wXncUgxmOGUAAW49djgkRrIA\n",
       "AAAASUVORK5CYII=\n",
       "\" style=\"display:inline;vertical-align:middle;\" /></a><br>"
      ],
      "text/plain": [
       "phase_is_real: phase in Real"
      ]
     },
     "execution_count": 9,
     "metadata": {},
     "output_type": "execute_result"
    }
   ],
   "source": [
    "# The phase phi is in the real interval [0, 1)\n",
    "phase_is_real = InSet(phase_, Real)"
   ]
  },
  {
   "cell_type": "code",
   "execution_count": 10,
   "metadata": {},
   "outputs": [
    {
     "data": {
      "text/html": [
       "<strong id=\"best_is_int\"><a class=\"ProveItLink\" href=\"proofs/best_is_int/thm_proof.ipynb\">best_is_int</a> (conjecture with conjecture-based proof):<br></strong> <a class=\"ProveItLink\" href=\"../__pv_it/theorems/4fc377727f7807ab3d202c0acb3c0da4cb2d1a890/theorem_expr.ipynb\"><img src=\"data:image/png;base64,iVBORw0KGgoAAAANSUhEUgAAADAAAAAPBAMAAABQAFHMAAAAMFBMVEX////MzMyYmJjc3NyIiIhU\n",
       "VFR2dna6urqqqqpmZmYyMjIiIiIQEBBERETu7u4AAACIO4EmAAAAAXRSTlMAQObYZgAAAN1JREFU\n",
       "GNNj4LuzgQEFsO/5s+r0GgUGBq4JqBIsNwUYFvACGfwNqBKcCQxsDelARv0DiADT7d27wBIPGEwZ\n",
       "QaZkQ8QZrzyAa7rHC2IvdZkB4rxCiDM5KAFJvl8P3hsA6WCELW/5LgBJjn8M/A5A+gJCIpAVpJJz\n",
       "AcP7BKAVp1YBAcQjE8pAFNAb9UAHMyN0cIF05zHwKzDMB9l7AC6RwVYA4vIX8B0CcafAxJkDTIEW\n",
       "HGBgVeAFhwk3LAB4H9xj4Au6wMA3JQnM54utg0jU3Dp79/xZpABkz4UECRQAAOtdPTTXl4KaAAAA\n",
       "AElFTkSuQmCC\n",
       "\" style=\"display:inline;vertical-align:middle;\" /></a><br>"
      ],
      "text/plain": [
       "best_is_int: b in Integer"
      ]
     },
     "execution_count": 10,
     "metadata": {},
     "output_type": "execute_result"
    }
   ],
   "source": [
    "best_is_int = InSet(b_, Integer)"
   ]
  },
  {
   "cell_type": "code",
   "execution_count": 11,
   "metadata": {},
   "outputs": [],
   "source": [
    "# pos_domain_in_full_domain = Forall(\n",
    "#         eps, Forall(l, InSet(l, full_domain), domain=pos_domain),\n",
    "#         domain=NaturalPos)"
   ]
  },
  {
   "cell_type": "code",
   "execution_count": 12,
   "metadata": {},
   "outputs": [
    {
     "data": {
      "text/html": [
       "<strong id=\"pos_domain_in_full_domain\"><a class=\"ProveItLink\" href=\"proofs/pos_domain_in_full_domain/thm_proof.ipynb\">pos_domain_in_full_domain</a> (conjecture without proof):<br></strong> <a class=\"ProveItLink\" href=\"../__pv_it/theorems/b380bd264787cfe4259c17cc65121d88e061c84b0/theorem_expr.ipynb\"><img src=\"data:image/png;base64,iVBORw0KGgoAAAANSUhEUgAAAaoAAAAcBAMAAADCReYZAAAAMFBMVEX///8QEBCIiIhmZma6urrM\n",
       "zMxUVFQiIiJERETc3Nzu7u6qqqp2dnaYmJgyMjIAAAAcRTyBAAAAAXRSTlMAQObYZgAABFdJREFU\n",
       "WMPdmF+IVFUcx787c+/a3LkzTlAoPsSIJBU9DDuUYqysCBW9eNMQH3yYxNyFQKeWHAlRK9RRXwZ9\n",
       "0ILyQhS0oTtkgyIU11bbMKmNopeKNqQNKq49rJlLOJ1z597Z++d3r+fedR/sB3PmzOV8z+98zu+c\n",
       "3zl3gHk2eV98zaYkjjZh/u1XB6pcFZXkNbuyYYW4n0Sijj0XG0r5y6lJwlSj3dpT4o4IUVFwEVVi\n",
       "U2Wr8anOJqEiRE8KRllnxbcTMaAyK65qLiq5Tyca+Xo8tuex+FQ+0YZHWKGKjbSPfU4bsWKVb3pi\n",
       "Jd0fbBLo8Y8ksfKJ1vDJfBWY5D9+ipz4GVb8LL6lynUNCxveFbg62M7d47sr9wM3Y1JRojTHWQZ8\n",
       "yX/8HqVWS6wYp7fPkuCz96FO41ng6Toz3aZy5LnBWq3WWZyuHpUKvh6QC5C45DBFRTgiRSr3dhI4\n",
       "waMReab0NANUH9kAn88Em68C7sVypeGJlS3P/NmNobvHtI6eQqryQSBW2WK4I1JkUS1oWqlAbUZR\n",
       "ndTDqJAjqBYBOxp9qjcb2vL8LJS7x54qem+mi0YgsTlUlCNSZFGl9yF3eWTkeOT6/QaxqK7p2KFt\n",
       "fLCbDf8uzsqfAEmVn0HvdXmLkzaP7d0iQEWKLKpUAfinXt8dHJsrQa12xpB7bfHA7amY7Q0k8gud\n",
       "rypNxVcN2VMUFSlSC3zRs8cvAIeCgtJstc6L7ezTr0kTIlTSvyEJL+M+zrd7GqwzElAFRTl+p5Gv\n",
       "A2uhTEZSTfHu2YEjaUIrkE1h8C6St/pTXFkp6z3CdiIBFSG6yidvmo0BKddhLA9fxNKKh2qYPT3I\n",
       "trly/g3r91em+ZJpToU7KxPPBoveFdjp0bSMzVa6RJwopvnbA6ZZCXVEiXpfZt1O8wvGAufRh2P9\n",
       "OKfqaX2sPFxuuvH55UDRxWKVIpzlO+H7zLVMPbFahgSxokRTdqwykxsd6ZG3dHxSLKneFXiAF0PA\n",
       "e2I5EGeQaYRcJPKuI2TIPfoS3oxNRYk6+4pfOA5tZcWntRLbYcxaraM+qiE7Y7XYDAhQyQZSjZAc\n",
       "qGx7hsyBm4GHY1NRom4OxBm22rNNaJ0rYUs9tdlLtdQewzua8oOPKmU5G2VC5Rbs4viVscHACBwE\n",
       "+QvqxpTZfeXxaiSVzxGvkCLrvMpxtIVMmnrUgGKRtGCMeanW2XcL6Zddmpcq/fytfifn7XSS0rV2\n",
       "+0YoVcgp3G63I6n8jniFFDl3C4bGRp3qK0LeVa+/zqje5tlDc11NBkLvFsI2LvQoPFaiZlHlHdUp\n",
       "XlQ6sZLW+xKoMbsxbBu5A1QXRN5q9CRUo45qPSQdl3jtO+BH3/YvxHq/Is1+vxqv1br7ao490ma9\n",
       "X33fzYg19lJ5D8u70p4B9PqavsijaszFmXQfcYQZ80C1hu+WV7zPHmL7irDT1ik0kdwX/b/FXHoM\n",
       "Met/i5zYdGVLuJvshGC7j+8qqlX4n9p/BXtPdv4oOuAAAAAASUVORK5CYII=\n",
       "\" style=\"display:inline;vertical-align:middle;\" /></a><br>"
      ],
      "text/plain": [
       "pos_domain_in_full_domain: forall_{eps in NaturalPos} ({eps + 1...2^{t - 1}} subset_eq {-2^{t - 1} + 1...2^{t - 1}})"
      ]
     },
     "execution_count": 12,
     "metadata": {},
     "output_type": "execute_result"
    }
   ],
   "source": [
    "pos_domain_in_full_domain = Forall(\n",
    "        eps, SubsetEq(pos_domain, full_domain),\n",
    "        domain=NaturalPos)"
   ]
  },
  {
   "cell_type": "code",
   "execution_count": 13,
   "metadata": {},
   "outputs": [
    {
     "data": {
      "text/html": [
       "<strong id=\"pos_domain_in_full_domain_sans_zero\"><a class=\"ProveItLink\" href=\"proofs/pos_domain_in_full_domain_sans_zero/thm_proof.ipynb\">pos_domain_in_full_domain_sans_zero</a> (conjecture without proof):<br></strong> <a class=\"ProveItLink\" href=\"../__pv_it/theorems/2098adb6c735dceed5c561fddeaffeaa213fa99c0/theorem_expr.ipynb\"><img src=\"data:image/png;base64,iVBORw0KGgoAAAANSUhEUgAAAj8AAAAcBAMAAAB8JcO1AAAAMFBMVEX///8QEBCIiIhmZma6urrM\n",
       "zMxUVFQiIiJERETc3Nzu7u6qqqp2dnaYmJgyMjIAAAAcRTyBAAAAAXRSTlMAQObYZgAABedJREFU\n",
       "WMPtmG9sFEUUwF/vbu+6e384EghBEzliJGo0XnoRGrTmiDH6Qe0WSMOHxp4EA9HGVlBPlEijAkf9\n",
       "coZE0A+yxMRgCbBaE01IykGjBgVsJRo/YGxsqFGaowmI9mI4Z+Zm9mZ35q57vZb6wZf0dW/evN3Z\n",
       "3755b2YA/gOi9M7QccNNc5oXucT4JHpq8ovo9GLdqjl2mk1ZX7OHNsmufBUBKUlJ43Hr6lH3T6vR\n",
       "yWOp2ZolKaTCLbW4BHt4QEqTIenTjtWFYXvj5zMBZHdad7fYg42e2HwppmZJIuj1tIlaPNRVYzof\n",
       "Qb7Fkk5/oL9jOXvbvtfvrx2Q02mNLgS0NXpiOwdUjeKLn+sG1IQ/waTr2ZXI6BAx7VPsIbGfN4bU\n",
       "L1zDh827AC7XGEEyJ++oEEB49Kcv6tQWMKj6ln2oukQtIBWSp5JPxLnzEYSuwYKsHdDX7OeP6XT6\n",
       "JXJ10ODbEdgUfJeEqSqAgreIX0PmJI4Vt0RMbTu1eeJUHcCv11svoFBceOindHhd3SKg1QALoQ3g\n",
       "sQwSwwHogzNWvyGwA/Ia0BBVouDDfn0coGCMkv+qIIahzEkOaATgPLWpk1Th5BEy6wXUYFYChKaI\n",
       "CGgJQHd2hZaVRtDv5X63OgA19IB/ypP6WIggBgjCIiCpkxzQboCTBrW9RlX4m/7+/XWnIDIX3AO6\n",
       "YkC33hSy1zMKwmvaJy4PKFIA/5/eWE4oTdUASZ3kgK4DtJrU1szU35nMjroBjVgP/WnhW9MDQrLT\n",
       "aL/DqmfX8fudKv0KcHkz6gCEzQVlI6tA+3ZudAFI6hSKSgBpVxGgGLUtZ+oZgL1uOTxbyUAqkB9l\n",
       "f+8P8IQbQL5/hCZard7lsgcpNc/berXmpGuq6oBEJ7HiotGraFCdMWprNah6GDRbyVPO2TZHQ28a\n",
       "1pg7yiUi1Lwa1pYnQ4aUK/SRHnE1xdA3FddgkTj5d7jc0oiHEbSvj16GGQCSOI0JxVYHFUVQZ47a\n",
       "OnWqAuCxrVTfMfjNUSiLyH7Pfr1q9TqDP2yX9XMcbwJRhYQjh8lrns/nX8jnxysDSkjaNsccUyyC\n",
       "KCp7UCrX8kTwGiUuKaH5/G+35fOpioBkTv6twN+XjJ5OsZLtYJKq0LA1pCNDaLU9aNscBbLKVGjb\n",
       "sABoO3RmSdeSbGMr0H53EeSRDDlSCqpQrBxmcWGFfTvMIIJkTuPOBjx6lKRPmtR2PEmVOtrObv72\n",
       "+4YAKKlegx4xgl7EcAftAevvBU13B2gA1GyFHMSteUuTbgsPIg7v1QxI5iTJQb0kU6DRlmxWBMHe\n",
       "TUgNpuMoG2EZdGyvgwWUo7REIvEAD4gsGMqAdtM6EESAstMDUnLgEQCdYsvsTcyhMeWsYh0Ad9UM\n",
       "SOYkrWJsoUhsnVmmBpAlaIJe2pYJgAKxYFycYgBbgQO0hT5CvQRHTQeg+/D7ajdwwI7Si/1nhzYL\n",
       "72GB6NhDtxr+XgcgdcfZlT1VAXkIIOtB+ELqJF8HBUxtMbNZVQwWoJt77smBVsoLXQ5AQ6A20a+9\n",
       "9qpp21wcsqJgOXvEk0t2OabYymVjw7SQkNKFL64Ui39VBlTOVM51UKRYLFYF5H36Rgv/IHwhdZID\n",
       "0k6v0JltxFJhRMnTFAPllUzmDdgQtwMKO9Ip29FcwDPFWmG2VllJuxURkK8gb68SQa43j1WQOVbS\n",
       "RI5ilZJF0OPc0oYfe86ncxHUkBTmdX/9gGARn5uqnp8Y9QOK2m2/WopMHvAZ8KWVg9DmSO2DA4ba\n",
       "p1w+0Sd7wFMnvuCTtDdX03lQ5dU4Gl46bR13PAiO86BZkwrnQWWbVmCqZE2j4tpoUkB4c6Qshbas\n",
       "srShWJS+9rJikU/SCsE/Uc+QfYvEtjaSeHJzAGiNeNg9YbOFU0xxcifKQdxbTytc1+dIJmiZ+Yil\n",
       "Z9J+8skGhmedj+xMOsifSUNAZ6rKW9cA6NhczAPHLvGmykVLOeVQ1vVNumyr1bmQgfniQw5Z5Set\n",
       "6r1ub9LBH0R+NifjDCbnCZDXYOp/qS7/Ai6s1+o8P+mUAAAAAElFTkSuQmCC\n",
       "\" style=\"display:inline;vertical-align:middle;\" /></a><br>"
      ],
      "text/plain": [
       "pos_domain_in_full_domain_sans_zero: forall_{eps in {1...2^{t - 1} - 2}} ({eps + 1...2^{t - 1}} subset_eq ({-2^{t - 1} + 1...2^{t - 1}} - {0}))"
      ]
     },
     "execution_count": 13,
     "metadata": {},
     "output_type": "execute_result"
    }
   ],
   "source": [
    "pos_domain_in_full_domain_sans_zero = Forall(\n",
    "        eps, SubsetEq(pos_domain, full_domain_sans_zero),\n",
    "        domain=eps_domain)"
   ]
  },
  {
   "cell_type": "code",
   "execution_count": 14,
   "metadata": {},
   "outputs": [],
   "source": [
    "# neg_domain_in_full_domain = Forall(\n",
    "#         eps, Forall(l, InSet(l, full_domain), domain=neg_domain),\n",
    "#         domain=NaturalPos)"
   ]
  },
  {
   "cell_type": "code",
   "execution_count": 15,
   "metadata": {},
   "outputs": [
    {
     "data": {
      "text/html": [
       "<strong id=\"neg_domain_in_full_domain\"><a class=\"ProveItLink\" href=\"proofs/neg_domain_in_full_domain/thm_proof.ipynb\">neg_domain_in_full_domain</a> (conjecture without proof):<br></strong> <a class=\"ProveItLink\" href=\"../__pv_it/theorems/59000b8695e6c38155060de382cff9c171cf10260/theorem_expr.ipynb\"><img src=\"data:image/png;base64,iVBORw0KGgoAAAANSUhEUgAAAgQAAAAcBAMAAADsNrp6AAAAMFBMVEX///8QEBCIiIhmZma6urrM\n",
       "zMxUVFQiIiJERETc3Nzu7u6qqqp2dnaYmJgyMjIAAAAcRTyBAAAAAXRSTlMAQObYZgAABGFJREFU\n",
       "WMPtWF2IE1cUPptMEjNJxjwoiA8ly76o+BBWakVZiQgt9MWgRXzwIYq6giCxi0ZU1CrVrKWw1Ieq\n",
       "0O6ItNWV3Q1q8Adaxl3tFlt0RRGKiivCij8MfVDQfXB7783fvTNnxjR3loD0QC4zZ+ab79zv3nvu\n",
       "yQWQtjXQVFvTtJi1dPli1SfN6HhD9BIxf4H4BqtXnzVDgoboEVCiPmQggzgvNleChugR0Kd1zh+d\n",
       "NHdGBd/RvR9PkQSBdh3xekFvAa2aR5roaF3QdvIbMCzOFxKzIOzEe5k2ykz7A2/oLaBlNDXsAhij\n",
       "Nw9dA54gzSPOcWrR1wBvJSQ47fQg2EPbpfYH0vQYyE/73gbwJ7157oaOJkkzUrtXM3ArFYiDkid2\n",
       "BIshMts9nmeYk4JUNiAVrlhnLpcrJXFZehQUzZKmF+AYHef9bgG3FMQY/Dq0xH2ZM7ZhiJTT68+/\n",
       "T7gqEEvyd+d40BDX3/DLnupLsvQoiEkQKrBcFy24RdyrizG0ZCH41p8wbHm2EgPE3CUI9SASlEAn\n",
       "uf5q3Guy9CiISeDfD7EbfX3fu0Z82xKDNgHB14H1lTLj6L71/1ECkU6QQEvVuJYAKkFD9CiISeCL\n",
       "A7zJ5/fYw+Qy8FJLDHQc0T7WK0EbfeWrWSlEApZ3rpYcWVyCRuntoGic7j/EvRGg2w7glmueNluF\n",
       "pysMGQm+Jb+OtDKKSBAbq6b/MF+QeUBvB8X+oWXIa4Dl5TzsKME4/by4V+8AGQl2E+3T+EKI0KHX\n",
       "GLnK5Wgv6BHQE6r0KzJBwMdVKoGua9CaESToIt7DJDWpJjMSvD+JbJ2m+fQj08w4xVBDwwxyd+Ug\n",
       "8940zW2mOV4FBejAQGdCXAge0KOg4Jfks69oiRiquM4Od8ClqO7Xhxd0LSjwWokVWxtIzQIqgY7P\n",
       "AiaBVloCQzWEB/QYaLw8C8JjqyvQb07o8GsiGRUXwiHabOa5knBcciH85LAjKNlaKahxW7U0PQYq\n",
       "5QJaMnZvIM1vuSTJCsSKxe8sEmy2puS1AHMl02GRSA9O6bC8I6ibPkd3hIboMVB1R4DzRPlIAdKl\n",
       "vwvFaP9aUYJWSwzhPX8tzLrG4GMxDJLvqe/KF7wNA/yYVu9bJGAgv8FxBf7ACuSG6FEQqwtiVIfp\n",
       "BOqbb4DKul0EY1iUYIWlOtQmJyddY/Cve9dBN+JMOQ+HLOcNpDpVHu9MixKUQOxcZ8T+aVl6FFSp\n",
       "DokOpIu+9gQEdubzB4gEP9D0mOaKyxQelvMwvMfwApnZL/BeCaTpRQm0CqqfNpnSLFBWWrYTo7Y+\n",
       "XU3V66MW/yb18TdDDv31kl6UYLCCWgmKDtfp1V2AB5ZjnLjlD7u0dTv2Yow7LxjJ5aq5wFP66thS\n",
       "tnvVgcm9AJhGdiFlbwqClle30PlieMjteGQyjS4RZQZydmdMgQTL6ArfLvrmkFyA2ABtzo96x+14\n",
       "cPa349mhl/RlY2eHsfq0jSThg7Vjdb534cOVYDH8bwD/Aj1Jh0jUMkw/AAAAAElFTkSuQmCC\n",
       "\" style=\"display:inline;vertical-align:middle;\" /></a><br>"
      ],
      "text/plain": [
       "neg_domain_in_full_domain: forall_{eps in NaturalPos} ({-2^{t - 1} + 1...-(eps + 1)} subset_eq {-2^{t - 1} + 1...2^{t - 1}})"
      ]
     },
     "execution_count": 15,
     "metadata": {},
     "output_type": "execute_result"
    }
   ],
   "source": [
    "neg_domain_in_full_domain = Forall(\n",
    "        eps, SubsetEq(neg_domain, full_domain),\n",
    "        domain=NaturalPos)"
   ]
  },
  {
   "cell_type": "code",
   "execution_count": 16,
   "metadata": {},
   "outputs": [
    {
     "data": {
      "text/html": [
       "<strong id=\"neg_domain_in_full_domain_sans_zero\"><a class=\"ProveItLink\" href=\"proofs/neg_domain_in_full_domain_sans_zero/thm_proof.ipynb\">neg_domain_in_full_domain_sans_zero</a> (conjecture without proof):<br></strong> <a class=\"ProveItLink\" href=\"../__pv_it/theorems/7863d4046f77fbc75646abca8538a61e28612d440/theorem_expr.ipynb\"><img src=\"data:image/png;base64,iVBORw0KGgoAAAANSUhEUgAAApkAAAAcBAMAAADYY7kjAAAAMFBMVEX///8QEBCIiIhmZma6urrM\n",
       "zMxUVFQiIiJERETc3Nzu7u6qqqp2dnaYmJgyMjIAAAAcRTyBAAAAAXRSTlMAQObYZgAABnJJREFU\n",
       "aN7tmWFsFEUUgF/vbnvdve1REghBEzliJGo0XtoIDVJzxBj8oXYLpOFH450EA2pjT1DOKhGiAkf9\n",
       "s4ZE0ERZYmKwhPakJpqQlINGCQrY2mj8gdpYqVGaowmI9mI4Z/Zm9mZ3Z7d3vWvvjy+5l715+3Zm\n",
       "vp2ZN28WYF5E2ANVl03z5jRHcoXCbIpXqwlBhVxsWDXHTpWUjZwyaYpe+eaDphDhFPYbV+uKf1KJ\n",
       "Th5DVaonMaTqW8yFgfgc0RQaNU5pO1ajw+bCz2dD0+y04V77HbSrus0Xo6pSEwp1T5o0l4mrxpXZ\n",
       "0/zAoTyg4uct5lj+RL++tLns4OsPlk7T6rRWsc06o6u67SIQNYYvfiqbZiN+X1NMdU1JBYKp2Y9N\n",
       "yTFuPYvVw/ZybwipX5iCj5r3AlwtcWzynLxjtqGJu3r2skJsfo2ob+hbLUvELFIyg+xjkG/AAtWZ\n",
       "ZuC2GQa7yiv9FLW4D1+coyU/JBKJl/WrIxpbjt5HDL6NwLQLTU4buE6yrfW4JJiSuonNEybqMGZR\n",
       "9v5FDlsqXQ2wENoAHksi0RiaJwntr7LuTxxl/xAnqbMLEZNDDLUPzxs3DYGZpleDmgahAXy4CT0M\n",
       "zUDIuQ1cJz7NEYBLxCZOEYUXPDlVLs2alKXSJQBd6gpJtY3Nk3SuzECzm0MTTWS8PDcw1P4o3HS7\n",
       "hWZNHGqnPbFPbGOT0uS1gevEp7kP4LRGbK8RVf91b++hspdNfZaxlV7ToEtplO3RvUiaYtyRJvxW\n",
       "oOZNmRcblmYwC7V/eUNpW6B2o8l14tO8CdCaIrZmqv5JJneVTXOEU+lurf0uI7rfDJVGU1+Jflz4\n",
       "Fo8mntJn8v/9TGBosNDE5qywmcbjg7s3F0GT6yQ3cGhK1xHNELEtp+oZgAPFQnvOyaCH2FpT6PP9\n",
       "y72zSJp1aNvo/R6e4NH8uRC732VWPL32F0xPaU1z91juNO1O7GYlL6irIupfNERsrRpRj4BkoiBc\n",
       "NKXVQ29qRps7CjFQbl4N6wvTLKkHXNO2zB8rh6YfPftRh5mOZ18wrP8/xvDHbQ6Y96E7YRY0OU7j\n",
       "tr2FAiIam9E0sUUVovzgMaUP72hsWi2r6DV8R/+9atx1Ho+CTuPvBD4gwIGjL4MF5+dNnIZeymRe\n",
       "zGQmnHoi6c4Z3LIalCUePxa2OOVpRvHV1pBlpgfR2xP2q+xTvGHO7iOT+f2OTCbmSJPnVLvd3Drc\n",
       "VTLT87YjEaLkYaNJx4dQvjRoCsF+VZiWdwzbaHZDVNVvzcsOW8rgCUM5YxPT7HUYm1HCDshuibQ0\n",
       "bMuR7oRZjE2e04S1AHcVRaHTKWLrjxAljrXTh7/9vmajGRFvQNw+Nl/Cb2LQPBVq2W3rAIhqeTNd\n",
       "UhxormNynkLWkp/721hqYXivZJo8J866uUdf3VBz8jZjbMKBLUgNJsJoBcUyaEldAlm0rkpNTU0P\n",
       "sTT1vVaB5j5rTBfS4FHLi0IBRFN1ikJnaM61hZ5/1MWsMb0D4J6SafKcuDGd7t51W1SlagBZAilQ\n",
       "8im7jaY/FAjbZzrAdmBobrPSPHRhaKvrTPfoPelHdUq3gChzciVegRMpC80HMLs1LLWO/SSzzM8M\n",
       "hqa468LKuCtNSxvwBdeJv9/0p6TF1GbEdFiAHu65Lw1SfqXrtNAcArGRDJH111OmXPKoMfqWWyu9\n",
       "lsv97UbT+/StFhr4d3IiKW7Bk0v2Wl7BymXjw/kz6HP2Hap1vxnM5XKuNK1twBdcJz5N6ewKhdpG\n",
       "DFWPkHoaQyC8kky+AZvCZpr1lmhCE1icRwvGtr9V41bqMjZnkm5HJynOpenLArfcZWwWfQrhwteS\n",
       "C+lyAqsYb2w+zmz72LanfQozNnEI5iwvHOktsgejjk6mUw9GFgGznroe9mnl02ww2341lD6HwafB\n",
       "l8a6idJqsQcOa2KPcPVUD6+Cp059wUYhb5ob+sqQOtXJ0secb8qJhHEitwYs55sVE4fzzYJNylKV\n",
       "tybQVqMuRWjitFpYCm2qsLQml+MyWpbLsVFI0N/VZAV74HxajPNg3yJ7eZu+WKbngObaiK1o0mSr\n",
       "j1HFyN1o3WQQzSjMrc/rC1JLBbvg9CWjXnX4LlSrD4aB4YrD5H0XCrDfhcCvUOWCqASafVB1kcaq\n",
       "VvVlQ1nlqFr0QzpNKUTVZaBaFevfLvgfMMT7i31IB3tk/1n1aQYiVarYq1H1v1RQ/gNzIhctRnBG\n",
       "pAAAAABJRU5ErkJggg==\n",
       "\" style=\"display:inline;vertical-align:middle;\" /></a><br>"
      ],
      "text/plain": [
       "neg_domain_in_full_domain_sans_zero: forall_{eps in {1...2^{t - 1} - 2}} ({-2^{t - 1} + 1...-(eps + 1)} subset_eq ({-2^{t - 1} + 1...2^{t - 1}} - {0}))"
      ]
     },
     "execution_count": 16,
     "metadata": {},
     "output_type": "execute_result"
    }
   ],
   "source": [
    "neg_domain_in_full_domain_sans_zero = Forall(\n",
    "        eps, SubsetEq(neg_domain, full_domain_sans_zero),\n",
    "        domain=eps_domain)"
   ]
  },
  {
   "cell_type": "code",
   "execution_count": 17,
   "metadata": {},
   "outputs": [
    {
     "data": {
      "text/html": [
       "<strong id=\"pos_domain_within_integer\"><a class=\"ProveItLink\" href=\"proofs/pos_domain_within_integer/thm_proof.ipynb\">pos_domain_within_integer</a> (conjecture without proof):<br></strong> <a class=\"ProveItLink\" href=\"../__pv_it/theorems/2fa1f96446b6129f2d7f963211aec5bb7853b5810/theorem_expr.ipynb\"><img src=\"data:image/png;base64,iVBORw0KGgoAAAANSUhEUgAAAUsAAAAcBAMAAAAaZYBWAAAAMFBMVEX///8QEBCIiIhmZma6urrM\n",
       "zMxUVFQiIiJERETc3Nzu7u6qqqp2dnaYmJgyMjIAAAAcRTyBAAAAAXRSTlMAQObYZgAABAlJREFU\n",
       "WMPNl1uMzFAYgP+dac2201krIZaXHQ/EA9HMJAghKyIRkaiNiAdhH7DCsm4xbonLJoyRSL0gHqgH\n",
       "IisYt0RI1rBk3TN4RAwbHpBBiMtGjP+0p53TaWs7Zok/6enp6fnbr//5L6cA/4Hw2+A/llcmZXzV\n",
       "P3vnnLI1xA9mj/stZqAv162pbJXwKn+YXFPfYdZo2DzOlqEhjOtWGEw+pnnNvN93mDE8TmfK+7K0\n",
       "zZrcIK+JIfyAHOk8q5RS6MHmuX+3jCcV6K/aF32yY7VXf8wPfpGFgAxwlwy8qRRTwidBl/u9s87V\n",
       "PA7SZ5gNMD2JolFMUz3SnEgkiD8E2hTIVaMNMNYOEltUnLeq0g7Mc9RwLa1OzAkAA2CEqNqsSdWF\n",
       "d+ZwMANS+gZ2Nhu+L6UrxTyieWGiLzgxBwO0qjHJHvNUvcbyhaAG+3myTOPRxHfa2w9UHEEPoSzM\n",
       "9xq0KnOHWzH/JVpUn8hOTFUT5WF4fEsmt/ilWeZ1Y7KJGdle19A7JspWx+g148Tm0EhUD+5ZOHcx\n",
       "wO5e6PbT8/yhXjOSpFmJxySFy/rB5H44hoxEIbDJ/ISoR81CDKipIOZs9eS+bS/Q2abBI/NiUzG0\n",
       "x0+AxqJLvyYehomPU3wtOuZCZ2mpkfWQY8N5cT/dUY/gAoUgYCse+zR2LyCp/XLS2qwD8zaxXYt1\n",
       "uRY/bRc+Urzcpl8/yOdX5/OvvTHjLmPN0ZJF5+SZ+vkMYkrZkDl8snMSQIetyIZU/ntRs4i5ERaq\n",
       "+lRDumkZETV/1gzILlXJMPB1ZgTQtHcMawq5uabD7jmkOTAbhM/oFGI8Hp/IYq4jukXMnaRZCnDM\n",
       "X6TDeRBUd99kaijclZCvFohFMIAWYdORkNFLiXSUbFnCPWHZuegAVzUGcymN9Iv42T4w+QwEVI9I\n",
       "F5fMMBNVE8ZusNaIdDiPTOE0KEZ5d2CGokKMPrLxE1MH1gCDOYxiHlbEJ6WYY8hLzuRoI/7EzoF7\n",
       "nc0OdjPt8rdosazWUiCu2Eazcn/03MCoDIiGv7SUYHZ6V/GjlkVm0SrEvdiglGCOre/O0sjWm/Uk\n",
       "vRcKXz0xLZmyty5ZXyfrVQhdEl8RiEWB35BM7oB5sh0zUuLsHNktpHBvSb7bqgtVDd5VyK90ed55\n",
       "aXZOkabJzZozYZrrljqDKbJozWCm6FxU2vsMU+wxe43AaXDT8k3cCwgpOKgJKf7tlZSb6oIrl9gQ\n",
       "4mvL2m96F1ykTSSob1oLapWCSOItumyaYpK9AD8EZqv8kKpC4YPbM+sLBTaEYDlJJZlKKLmBnrt3\n",
       "xX49En2TfXdvwkw9rWfD7J9T/uZf6Gkv7y4DMyz/tV9r9037UdX3A1qY/oW/hhl0NbMw2q/+/DT8\n",
       "K/kFsW4hYaIVx/oAAAAASUVORK5CYII=\n",
       "\" style=\"display:inline;vertical-align:middle;\" /></a><br>"
      ],
      "text/plain": [
       "pos_domain_within_integer: forall_{eps in {1...2^{t - 1} - 2}} ({eps + 1...2^{t - 1}} subset_eq Integer)"
      ]
     },
     "execution_count": 17,
     "metadata": {},
     "output_type": "execute_result"
    }
   ],
   "source": [
    "pos_domain_within_integer = Forall(\n",
    "        eps, SubsetEq(pos_domain, Integer),\n",
    "        domain=eps_domain)"
   ]
  },
  {
   "cell_type": "code",
   "execution_count": 18,
   "metadata": {},
   "outputs": [
    {
     "data": {
      "text/html": [
       "<strong id=\"neg_domain_within_integer\"><a class=\"ProveItLink\" href=\"proofs/neg_domain_within_integer/thm_proof.ipynb\">neg_domain_within_integer</a> (conjecture without proof):<br></strong> <a class=\"ProveItLink\" href=\"../__pv_it/theorems/da9e15815ed9f644fa7d829702c33e8d98075d460/theorem_expr.ipynb\"><img src=\"data:image/png;base64,iVBORw0KGgoAAAANSUhEUgAAAaUAAAAcBAMAAAAzTr2UAAAAMFBMVEX///8QEBCIiIhmZma6urrM\n",
       "zMxUVFQiIiJERETc3Nzu7u6qqqp2dnaYmJgyMjIAAAAcRTyBAAAAAXRSTlMAQObYZgAABLhJREFU\n",
       "WMPdmG+IVFUUwM/8eTv73vxxAkXtQ/vELwlJj13SJVM2QoRQd1xD/LC0o2RabTamOP2RFE0bJ4on\n",
       "glpffCLItuI6ZZAgbKObWpo2JUEfsiZNQ42HoUW7H5zOfX/v+7sjb1q2Lrw799373j33d86559w3\n",
       "AGNSlsP/paQyWmPp7P/k+p9x6TtqtBaM1TLCDZyLybp0fjb2TNFsA91MwupSxdK3+63H/iUmplXy\n",
       "GrrQOCmteA2UbZ23AtiJrXgMxEVijkle78WQtkoal4MisSNY/Ux1HGzfDjAcgKnPc+QFUs1zON26\n",
       "P+TJv1QgLACcJx03gzIlcCY4a95zWfimg0lDtICl6MYUf9B/xhuuvR+jFQaAkpVcnc/nSXgNb8tA\n",
       "tRm1extgH9HylqBMoZKVKSJBKB3OfuSwU5xXfw+dGfGdMCnQd59omup9BZkSvCmL/V3UJZYhUfoC\n",
       "G2+qmztRCsq0X7IyhXLQNBzhy44IqDNB0p8pJrowoXujHC5tykqJlBb3MEQR7Tj3uf7+vYFDxLdg\n",
       "ZUqNQNOfzEo95+7evPI+maxLsjDBr6asOfRTxWYyOg2vvwuFTfUu/UWvgXk2JqJp10XXyzSdVD88\n",
       "8LYb0xBeJ9X7HO2uvBLqOvGRVQA7R0HZo/12e+7rAqnWWro6y0GY3iPu9D0scmP6yYixLJ1h+zgl\n",
       "LPSgczwFXNWSzzBrMWbQGNomwXf6zRtmoGt/HLrMbXidLNeaMzZCECbc6TDfw/fI5kwpMYSjg9uq\n",
       "JmVz7e9AH4GwJb3tkoBpM2yaEJuqifUVB9NXxCq9xu161MM7OCUnKwVVFRFcIr4s//aQLGe9mMy3\n",
       "YSJeh/uUOS7K8jpZvm4y9ZDWat7me1FhoXrIRKZEJaZ3Hx6aCzBIxnNm/GGGzTdNptehR1QeVctV\n",
       "R26fDoHsRJj6PexEmFKq152iwhKg0c6pdmKry3Qx734oOZg62Lvom1xbW9scmmkDeddk2kGqNfTa\n",
       "BfggoO9xGQ+mBeaZJWW6//kEwmCY7yEeuPM5rAbzAu4sUqxMuIqRuOD0PYDPJYppjT3udQPMCBgj\n",
       "4sgkesUILe5xzz+tn86yGMkiaTXuwTEEiJcgox79HEwxnm3Vpu66QyXnV4FimmZjYjd9PSvnyxRW\n",
       "mI6iTO6e1qALxmv2Ghwp2ZgeJQt+gpLFfKmdjZqlInAvb9FS5QQUE36kDJy6q3ttTEPeJ7wDRhbv\n",
       "tJ0jUrVazZcpsuLeXKKwrBYhY7bvHuJfiydvt/nerJar6DLXHLkQy5PvTym0TBGUcwR6Aa4n3MoD\n",
       "81qhsBWWC1ampC1+6afSS0RJRrIOdbjJ8bPTKMXjbKT4W85X1hW9cYRUWTc7LaTSBI1WjmYoO0XK\n",
       "po/7Fk6qj8mqyn6Lh/B+TJyxT7sgKsFpYz/Fc8AWYZ/EFplbJ4purz574jgdI5i07fspcPE+2wxQ\n",
       "309n83ltPxnKMJw4mcdv0uaSxsTO/otnpsISkZkaqtVuu03cUqvRMQJeIpuo3ECmPl/a6ERPp81Y\n",
       "7x/G/UQvdLQyaFPesUrjmDy/3ZOi7/8RP46y0Ptgigvj4y8598/bA2LdE/RS7U/HB1PE1YDszHrf\n",
       "7y7BuCz/AOzZVb7w84kHAAAAAElFTkSuQmCC\n",
       "\" style=\"display:inline;vertical-align:middle;\" /></a><br>"
      ],
      "text/plain": [
       "neg_domain_within_integer: forall_{eps in {1...2^{t - 1} - 2}} ({-2^{t - 1} + 1...-(eps + 1)} subset_eq Integer)"
      ]
     },
     "execution_count": 18,
     "metadata": {},
     "output_type": "execute_result"
    }
   ],
   "source": [
    "neg_domain_within_integer = Forall(\n",
    "        eps, SubsetEq(neg_domain, Integer),\n",
    "        domain=eps_domain)"
   ]
  },
  {
   "cell_type": "code",
   "execution_count": 19,
   "metadata": {},
   "outputs": [
    {
     "data": {
      "text/html": [
       "<strong id=\"delta_is_real\"><a class=\"ProveItLink\" href=\"proofs/delta_is_real/thm_proof.ipynb\">delta_is_real</a> (conjecture with conjecture-based proof):<br></strong> <a class=\"ProveItLink\" href=\"../__pv_it/theorems/5375ed537d45085fa2806298c62fcce6b8f4cc6d0/theorem_expr.ipynb\"><img src=\"data:image/png;base64,iVBORw0KGgoAAAANSUhEUgAAADIAAAAQBAMAAACmdTG/AAAAMFBMVEX///9mZmYQEBAiIiIyMjLc\n",
       "3Nx2dnbu7u5UVFRERESYmJjMzMyqqqqIiIi6uroAAABeGh1sAAAAAXRSTlMAQObYZgAAANhJREFU\n",
       "GNNjYGDgu7OBATtY8/I3MpfLaOYXp1lgZgNDAYpKFvYG7lnTQawsNDM4WRMYJkSAWO8DICIrjY0d\n",
       "YDKiLGDdBmCJndeR9IhyAhnsd7+B+OzuyKY1vAAythTMB/E5ApBkeAyB6ti1GdaD/MOJ5AJlYx8g\n",
       "zTiBYT9IZpMLEEBdkCcAcjTTAob9IP9EIrtabieQrt/AsBjEZ0KW4ay6wMDAv4EBHBSMF5BkuBuk\n",
       "GRjYLvBNAAvYIIUOQw4H0O7cixCBinkF8BDdwDnlD1J4PZsMCR0oAACq2TWJjYn6nAAAAABJRU5E\n",
       "rkJggg==\n",
       "\" style=\"display:inline;vertical-align:middle;\" /></a><br>"
      ],
      "text/plain": [
       "delta_is_real: delta in Real"
      ]
     },
     "execution_count": 19,
     "metadata": {},
     "output_type": "execute_result"
    }
   ],
   "source": [
    "delta_is_real = InSet(delta_, Real)"
   ]
  },
  {
   "cell_type": "markdown",
   "metadata": {},
   "source": [
    "#### This derives from $\\delta$ being the difference between $\\delta$ and its best $t$-bit estimate (without going over):"
   ]
  },
  {
   "cell_type": "code",
   "execution_count": 20,
   "metadata": {},
   "outputs": [
    {
     "data": {
      "text/html": [
       "<strong id=\"scaled_delta_in_interval\"><a class=\"ProveItLink\" href=\"proofs/scaled_delta_in_interval/thm_proof.ipynb\">scaled_delta_in_interval</a> (conjecture with conjecture-based proof):<br></strong> <a class=\"ProveItLink\" href=\"../__pv_it/theorems/cd1d2230ac232530603d2a8a27688bfbfafd65f30/theorem_expr.ipynb\"><img src=\"data:image/png;base64,iVBORw0KGgoAAAANSUhEUgAAAH4AAAAbBAMAAABINCZSAAAAMFBMVEX///8iIiJERESYmJiqqqoQ\n",
       "EBB2dnbc3NyIiIhmZmbu7u4yMjJUVFS6urrMzMwAAADZVrDbAAAAAXRSTlMAQObYZgAAAklJREFU\n",
       "OMu9lM9rE0EUx7/d3WyS0Wwb6EUPWnvxohgETxWshx48VCLi2ZzEHpS1/0AiItQf2K2H0lYP24NS\n",
       "sJAIXlJ/NIrozagH8SC4CL0pKpRWIk19s7M/ZpNdCB46kJ153+xn35s37w0QjBf4v/FDTOxXVK70\n",
       "iBsNMWsDUf1Lj/wu253SM3UnouuF3vg5/zujkvj5NLC3881bnRnSTPLboq3PDzvoN8M/1PEjDm50\n",
       "8pcoqGuXZeUtKRawDH0La5K+Gwwox/BPsOi7GaN9PwJSFPYCcA63mRnde99oF68WodfEab1pEq9X\n",
       "UKbpDNA05/TwzdwmPbJDnnU0n68JXmlAa3nqCQJZEcdouWqj6Xy/I7l6TL9MUay/3Qz89zeQW5d4\n",
       "PMc9Ye235UiXpksUhPDEVsL4qxZyf2R+AsMi4I1ISa0oVIxGW+TSDPlyCUaEH8Ez1+jzipDnHXjg\n",
       "qMSmt1xFkfJXtmBsyPxJ7HGNef+dKs/UXdc3E/zaUxq1hPh/os7XGcvn3UDOwmgF/icl/5Q/bT3K\n",
       "H+LrU0hL1cfaUKmZjE3XSkm8MgRVPj98wCuerxIyEo82lEKQ/2wlrn6C/F2n55ULEy/l/F/ER94E\n",
       "3vkPSvU7SLllf11rmvOz+ErT6vb270jrTllS/S0ftgP+4dQ7IM/t++frBX5npd4nXgx+4J8O+PXr\n",
       "tW1Qa2wA2VISX7W7+0+EFwZagVFM4o8jgV8KFOpfvE7i9yXx4cV20PtG3FC7Nna18/5S+aFrVjw/\n",
       "2ev9Px4vL2Anxj8SGZjGVZgvpwAAAABJRU5ErkJggg==\n",
       "\" style=\"display:inline;vertical-align:middle;\" /></a><br>"
      ],
      "text/plain": [
       "scaled_delta_in_interval: (2^{t} * delta) in [0,1)"
      ]
     },
     "execution_count": 20,
     "metadata": {},
     "output_type": "execute_result"
    }
   ],
   "source": [
    "scaled_delta_in_interval = InSet(Mult(two_pow_t, delta_), IntervalCO(zero, one))"
   ]
  },
  {
   "cell_type": "code",
   "execution_count": 21,
   "metadata": {},
   "outputs": [
    {
     "data": {
      "text/html": [
       "<strong id=\"success_prob_is_real\"><a class=\"ProveItLink\" href=\"proofs/success_prob_is_real/thm_proof.ipynb\">success_prob_is_real</a> (conjecture without proof):<br></strong> <a class=\"ProveItLink\" href=\"../__pv_it/theorems/0575557669e2b5a6624196d64126fbff300ae7ff0/theorem_expr.ipynb\"><img src=\"data:image/png;base64,iVBORw0KGgoAAAANSUhEUgAAANIAAAAUBAMAAAAKBn7YAAAAMFBMVEX///8QEBCIiIhmZma6urrM\n",
       "zMxUVFQiIiJERETc3Nzu7u6qqqp2dnaYmJgyMjIAAAAcRTyBAAAAAXRSTlMAQObYZgAAA0lJREFU\n",
       "SMelVVtIFGEU/tybs7OzdiEQoofJXiKMFq0HqUiILg9Wmw9hELR0g8gHw4ctkljEajWswYcSQZwK\n",
       "SlYUQcyKisG1h9IHyQoDjY3yIaNaUrqYaefM7qyzLrM+9MP8/5nzn5nv/N+5/MCSwz28tA1aE8tD\n",
       "i22PAsRYGM/2k3Z63sxfPvVBtbYRQ4nVpaTrvWfDc+8bSTgNDLJiMhvSJ57mAGG1tU1eEkGMLd4Q\n",
       "A87GBqALaGZ+QlmAvD6anLPEwHdroxFD6F+0Ibg1hG4Akow84kTqzoKUy+7apumZtTY6bwi3kuto\n",
       "MBgzkEry6LDL4X0RidzMRp6+KcQpBtPWSVOVYqtUXyo2mM5UIpDwEfgVDtdkfqulpHU8LSMH23yW\n",
       "SDbeGl1RR/ToRuKkmb3AbhKiwEmgPvPbhb9y5uCoBk+N9bkFKgT7a+yjqMbSU5CQPNWM+w7YmZkw\n",
       "aUgXeNpUOVSUJclzKdC7EoWj8yiYMiI/+JmFPrKCzVSazuoBrA2YkVbxdF3NWrc5FJ2Odj1J4/x+\n",
       "8CuNZEYM+Bp0VojZ4Vzjg47odjyQVLsaLa4u7jYj/TQq1C+2WCBFEp7qSM3mLN9ckURyxw4ZlXO1\n",
       "RcUT2SdlsOecYqlgTG6Pe1dCGirBUFS5UyjbNvazltkT/bq1Q2cvx4wkdMok7KGn/gRNT4M+ihiN\n",
       "3t4mKSMjuJzg0NyyO45aVKLSpbm0LzhThibWckZ4CEkxMsIum5CcgS2JjEAPueHphj/RAnulziNp\n",
       "SFGukhkumqlHqhjHMTe9tKlwzuB+29YIazm33RPoJMLt2kIaJbsRBl3kxTauFXLAVqhB1P/eCy2a\n",
       "hkTHtn/7wU7unS9lJAeF4gB5/3e80HF9mrU6Z/vzL/GfEyTerVNTHdYvXPsDTPAbKW1FMpznwuFa\n",
       "QmrlDPGndyM92IqnipBq3b/pTIoe+8PoY62pG91LrmVXgmm1IxpdpJOnQOJMjvLMDquXig8hzIhr\n",
       "cBy3XT5RboS3B4Kute6wxpCMyJXDoeIZS6+AsXQjo4N4+gsVjLzcMSwRAdECSP3a44LnuhaC1a1h\n",
       "jK6U41zIAkXUcbEUrsybcKlh3ISCYmGwqOGtpzj93+3+1uqSU/APK3/uS+3Sv+0AAAAASUVORK5C\n",
       "YII=\n",
       "\" style=\"display:inline;vertical-align:middle;\" /></a><br>"
      ],
      "text/plain": [
       "success_prob_is_real: forall_{eps in NaturalPos} (Psuccess(eps) in Real)"
      ]
     },
     "execution_count": 21,
     "metadata": {},
     "output_type": "execute_result"
    }
   ],
   "source": [
    "success_prob_is_real = Forall(eps, InSet(Psuccess(eps), Real), domain=NaturalPos)"
   ]
  },
  {
   "cell_type": "code",
   "execution_count": 22,
   "metadata": {},
   "outputs": [
    {
     "data": {
      "text/html": [
       "<strong id=\"all_alpha_l_is_complex\"><a class=\"ProveItLink\" href=\"proofs/all_alpha_l_is_complex/thm_proof.ipynb\">all_alpha_l_is_complex</a> (conjecture without proof):<br></strong> <a class=\"ProveItLink\" href=\"../__pv_it/theorems/cab3a79d9fc615d8bf78c3884d76c4f37272d0a20/theorem_expr.ipynb\"><img src=\"data:image/png;base64,iVBORw0KGgoAAAANSUhEUgAAAHsAAAAUBAMAAABfS1/DAAAAMFBMVEX///8QEBCIiIhmZma6urrM\n",
       "zMxUVFQiIiJERETc3Nzu7u6qqqp2dnaYmJgyMjIAAAAcRTyBAAAAAXRSTlMAQObYZgAAAhhJREFU\n",
       "OMudVD1oFEEYfdm9u93b7CbpDGKxWKZa8KcSIrGwETkRExsx+NdqIQTRIhjBTURYsFAShc0JMVya\n",
       "gAgGLI7ExlNhISAKBs4qYqEBCxUVfN/OTn4ueyJ+cDPfzpv3/byZG6C9PcDfbYG/pjgreagz2pZo\n",
       "rH7ZMYZSBLyUz095e7qiduzi6XmnfxkOU9/jZzk3z3Lb5MkZwPsKLDJHDLjzeZuubFt5OzIivXqV\n",
       "nRzPAtP0G7Xa3Tx2+VLrysk+NZtptVWmPgh8D8NrufIEHNzdezek1ArNFAPluJzPA+NwLm6j2wkr\n",
       "uIzpaC4DS1rK+wVfOR5bOZQqeFgtlHqXxrLQFgWx6rCDvgy0deA7mt7J/iwYzLPE4p7tSazIrcYK\n",
       "62Bj/THMZl1A2rHPNJFutljPDnCNDSQWvdvUdaGGTpzSd03ovYR3xQJCHbG6EPHwBr3cHKT3AwVV\n",
       "dJBFluKdX6T/FDCNp+leIHQHKMjhjJ9jnB50KWiqskm636T3CJiel6/51wc4HFXS4TFjGKN4mCJV\n",
       "V++RU9kPvF+rGNmlvKoh82PDeTrBWSrtZlTbx1AYhj7qDUyqPVKZ+3oFB3w7SztzI1MVxz982yci\n",
       "SKUeFztOoJRyniR40XppCSo7cjO9tOv2SDvdBlwJZZpKjy1/GYL5trjezXPgFuc3F16tDmvtok1g\n",
       "7oOwpRRDev+356Il/v89Vu+AP9I/gNLnyRiLAAAAAElFTkSuQmCC\n",
       "\" style=\"display:inline;vertical-align:middle;\" /></a><br>"
      ],
      "text/plain": [
       "all_alpha_l_is_complex: forall_{l in Integer} (alpha_{l} in Complex)"
      ]
     },
     "execution_count": 22,
     "metadata": {},
     "output_type": "execute_result"
    }
   ],
   "source": [
    "all_alpha_l_is_complex = Forall(l, InSet(alpha_l, Complex), domain=Integer)"
   ]
  },
  {
   "cell_type": "code",
   "execution_count": 23,
   "metadata": {},
   "outputs": [
    {
     "data": {
      "text/html": [
       "<strong id=\"all_abs_alpha_l_are_nonneg\"><a class=\"ProveItLink\" href=\"proofs/all_abs_alpha_l_are_nonneg/thm_proof.ipynb\">all_abs_alpha_l_are_nonneg</a> (conjecture without proof):<br></strong> <a class=\"ProveItLink\" href=\"../__pv_it/theorems/c09d434d289dd0592942de344463d2edea180ee40/theorem_expr.ipynb\"><img src=\"data:image/png;base64,iVBORw0KGgoAAAANSUhEUgAAAJ8AAAAcBAMAAACNEXClAAAAMFBMVEX///8QEBCIiIhmZma6urrM\n",
       "zMxUVFQiIiJERETc3Nzu7u6qqqp2dnaYmJgyMjIAAAAcRTyBAAAAAXRSTlMAQObYZgAAAs9JREFU\n",
       "SMetlUtoE1EUhv/MZDKTyTRxI+puSikUFxJ8QAtSAoJuBCP4KAUxCxXFhUqFLOoi2KpppBIo2KKI\n",
       "Q4UuQrUBHyC4SB8LTSsdN9JFC1VBoYJkI9gI4plXepNMJyn0QDL3zjnzzXndM8A2CTdT2CaS/4p5\n",
       "WcabxranmiKOXDT+byKicQ0shURzPo7cAeTf8OX9DR4Ia+hl972bGU4OQliHqOOjN3A/MMfu5za1\n",
       "nFwTyhBViBqwatxYcbMKlj2BLTfS/74MW+t9OnnoU8FFgXnjxpobUIl6exiWE8JwhhZyR97IYSSG\n",
       "YAkYM3xJuQF9eW+gFCwg9ZB472N2lYF+M/NQ8m7Ap5o7cCmZXHWAXWHInQYPbWYfdlIqirncqGum\n",
       "P8EV2LOX8bBLghC3TsoCZQit9PuTTt9yBXbbjJm2GAOU19iQE0ernzlBUVGfD0G+Vg9MW4zRmLxH\n",
       "zk+UbGAgywBDfTXlPE/uHoFMKTlm3Qjsnh2I2srvFpDcH+A0/3UbKDFF2ZX8CYTSJBkn7xSMCE4H\n",
       "ZimYdwd0MauMa7ayzwTy1I3dykYPnfxFYhdlLpqpiWqKgIou0oo6dOltDiGce+Iov5lAH7XUdBGS\n",
       "bgPH2LY52FPbGQQMrp6h1Tr8VqjRyli7awKnaL+YRyRrA30sUHqu1uTQyPDQBRosOxC2DtTjuKO8\n",
       "bAIj5No0RepUmVcZoJA4VF9lvKR8cyk8M++MKxVlq5XDBFoWBXRU+rCfOXqYD8TrehcReqek4iwV\n",
       "S0WhiEfM24ixsKLzM7hdAU4MapXhEJce/K0CdpoaMvCdRsCc5691fHDOcow5KTvjlc3xe9bRc5Ov\n",
       "ziLCQTGc53kYHWcKX2CAJdVrHjoil50VT8b36fr50sIPZ45ToTYYh2PNAFuqvgGckUNWrjY9sR0R\n",
       "457qF0A7u29vCFz2VoeiW/xEuw9qRl5tEchr2H75D0rfxl+UJZO4AAAAAElFTkSuQmCC\n",
       "\" style=\"display:inline;vertical-align:middle;\" /></a><br>"
      ],
      "text/plain": [
       "all_abs_alpha_l_are_nonneg: forall_{l in Integer} (|alpha_{l}| in RealNonNeg)"
      ]
     },
     "execution_count": 23,
     "metadata": {},
     "output_type": "execute_result"
    }
   ],
   "source": [
    "all_abs_alpha_l_are_nonneg = Forall(\n",
    "    l, InSet(Abs(alpha_l), RealNonNeg),\n",
    "    domain=Integer)"
   ]
  },
  {
   "cell_type": "code",
   "execution_count": 24,
   "metadata": {},
   "outputs": [
    {
     "data": {
      "text/html": [
       "<strong id=\"all_abs_alpha_l_sqrd_are_real\"><a class=\"ProveItLink\" href=\"proofs/all_abs_alpha_l_sqrd_are_real/thm_proof.ipynb\">all_abs_alpha_l_sqrd_are_real</a> (conjecture without proof):<br></strong> <a class=\"ProveItLink\" href=\"../__pv_it/theorems/23aa52599eabdead8ca7ab43c9dae4fd573d17cd0/theorem_expr.ipynb\"><img src=\"data:image/png;base64,iVBORw0KGgoAAAANSUhEUgAAAJgAAAAmBAMAAADKLE8XAAAAMFBMVEX///8QEBCIiIhmZma6urrM\n",
       "zMxUVFQiIiJERETc3Nzu7u6qqqp2dnaYmJgyMjIAAAAcRTyBAAAAAXRSTlMAQObYZgAAAw5JREFU\n",
       "SMeVlk9IFFEcx787M/tvHN0lELSgFiLoFFKXiFgWJIIOsR2yCEoPKXUpiUKCkEGh1kIaT0YZbgYG\n",
       "HtqBiIoCV+1QJjgWlBdjCSIIsqU/kJbYe7sz7pvdNzO7v8PM8N7vfeb3970HuEm9gSpF7vBU2YWq\n",
       "5bCXgrS5YkjZu4+vK3iZdi9ZMfQa5xyUv3nAuiqHLqNd4ysPpV1Z/pXKsYsYTfC1A+5+NnCnJx0s\n",
       "8K+6wka5Dl1wUv/kCovTxwn258QopcVJfcEVtok+XrJ1QcL1ztmRBHL0vcSbDP/mwKSsZK+XD003\n",
       "l5sKjeLL4g19f+X2Up4DO/X8aVkCcuM4vkjHAjncojaoPJjYzYFtW18vU1NHEArTvAt5NNCg6jxY\n",
       "UOXFbMPuaz29FkzUaLDqVlA/OzExzA1opMUF5u9LlywTNfpf/1/gTyp1hQ+LWbDp7Yly2MM042ZA\n",
       "om7Ka0AnMAD5fCUsY5iw4YTcLOvjeRZ2lo3Zk3gB/QNohUw8Pmg2WNNMv1WVoxaMGN4vpKVuFlZK\n",
       "mTrU01uM+T8SZwhk1Qwx88UeI6gpY5YD7XoRJpKmiyu09Esw/9ZlIqZlraHikp8kEEaQfAwCi88m\n",
       "UIeTd1EG8xErpmYRMhgYU0zqiHhAtWDhXBv5WIFUdK8lizI3M2RkXkdEY92MsjG7/rZwDBA3MXCa\n",
       "mB1FQ7F87mx0S8bMZoRAp4AjtmzuZmFtIl0UJtnEI1Lpgor7hakxpVQaWTNmHaif92OnDRbUmXZS\n",
       "9E6zzgr1FIrhWCqViiE7i9umlq/DzObckiFOo88Gk88c2mj0z0h9J2zpF/WM5MJ3FIHCefTYIGdG\n",
       "UUI5Wwc0Jm3tJL0y26nUYNZWGxGgUL9FEVK31TxRGywfs8EqRbGSIpI1N8j7fdfcF2vnr1u1wfYn\n",
       "PGC2I0OgMWNP/DW3XcOp/ZzkKn3sYH+XdFOf1NxmF1CTxF1nM3pNsC2us0KuFpYQdZ9vrAXm87jL\n",
       "fawF5nWXC8WqZ4Wbve6Wl6qHPfDM1rBWNWzQ2/Zk1Rdk2hz/AQxo0pLSlBKiAAAAAElFTkSuQmCC\n",
       "\" style=\"display:inline;vertical-align:middle;\" /></a><br>"
      ],
      "text/plain": [
       "all_abs_alpha_l_sqrd_are_real: forall_{l in Integer} (|alpha_{l}|^{2} in Real)"
      ]
     },
     "execution_count": 24,
     "metadata": {},
     "output_type": "execute_result"
    }
   ],
   "source": [
    "all_abs_alpha_l_sqrd_are_real = Forall(\n",
    "    l, InSet(Exp(Abs(alpha_l), two), Real),\n",
    "    domain=Integer)"
   ]
  },
  {
   "cell_type": "markdown",
   "metadata": {},
   "source": [
    "#### Follows from scaled_delta_in_interval:"
   ]
  },
  {
   "cell_type": "code",
   "execution_count": 25,
   "metadata": {},
   "outputs": [
    {
     "data": {
      "text/html": [
       "<strong id=\"scaled_delta_not_eq_nonzeroInt\"><a class=\"ProveItLink\" href=\"proofs/scaled_delta_not_eq_nonzeroInt/thm_proof.ipynb\">scaled_delta_not_eq_nonzeroInt</a> (conjecture without proof):<br></strong> <a class=\"ProveItLink\" href=\"../__pv_it/theorems/8b5d7f8097d0bfe626c12958ce591dc74c8b23d60/theorem_expr.ipynb\"><img src=\"data:image/png;base64,iVBORw0KGgoAAAANSUhEUgAAAM8AAAAbCAMAAADs8CtUAAAAPFBMVEX///8kJCQoKCgUFBQNDQ0Q\n",
       "EBCIiIhmZma6urrMzMxUVFQiIiJERETc3Nzu7u6qqqp2dnaYmJgyMjIAAAChkoCbAAAAAXRSTlMA\n",
       "QObYZgAAA0ZJREFUWMPVV4l2pSAMdToFZA/w//86EFGRiNrldU5zTttUr5D1Bqbpv0qU028UOVOt\n",
       "iEvX3/EP7MF/0B1FNRSvrz+c1fNNPoL9alU5qmWxQkdxXXAQnu/yEeyXRHCqVff8MNrco6faDYw/\n",
       "eY7YuP0bXuSfTe6oOSGMQWuTHXwT/GxSgXBxvmZsO0cjdMGCP62FbxQQR82VQoeUiUGy0TcF4pYQ\n",
       "nL8/0EpI04a1ZnXZvKjcmD9qAg1l2ReuJmdvekGflWRnqzANdk0L+B8qN4akpnKt5XaCQftslSjO\n",
       "wqyOLMJ4gw3gilj9ovQE1mkR3VK55qXiI3qLqzmc3abHJtlikymi4VXsFqlWaiNdtKvjPMGaKYoz\n",
       "xyiENLXYJXnGYqumu6nVbHoA464cOAmLMVQrW1/ET+YeMHVxmXbjIaK8vZffO/Gpdd0FO5c3bond\n",
       "fKw6xQwIIxrObDPdgnEuhmyj78d0VFTL6aHTfMuDY7IEXdZimm/Ss7XPii1m8dByq/MgRH6ibZlc\n",
       "3J37sxPxZNE8XZbr60MLqk2CjhWXYksBa14c8ac7M2Wk3ZaYV3KsoTboVjDeumJWpjwZbDtnW3/M\n",
       "/sI4XE4e6LlmRVDtdEpuKWMBrXSD/JiO4nfGqNg8bFef0dW53U0cKbX1Z5/uM+yB0t0xwyii+bKB\n",
       "HZ0NlrAE3Ue/9s8ftnRRu6w7Yo2t83YZ2C0NBevlwB8EKyTH9/wTakh1d0bbunXTJHrPR/5M6M+a\n",
       "fMJvsf8uhanjQi9qMLjB41VLnN3Ea/zhm859Ex7GR+VQNasBQKjxvIO8wmzI+Ko2k1JNs+MdNtUH\n",
       "pvyVGmOOOuBB1rozf8xquDNtofT1vge4ajGhXMxv4HuD9ecDesoMAnpsqCAmZT0MVgu8LGkHe+YP\n",
       "glWu5L9vpZ7DgN8mNlPtA3enY7q9eI7NtuCtFeROBqKbM6YHr1y90haZP9MWvkZ7LK4Lz9UlwJFQ\n",
       "CsAImkq5QSkFENvZZwh44erqEACN334rGN8Pxqe/7oIOz7FtD6/9Q49O5Im/DbryVHsqWj5OT499\n",
       "JNSfeF8zkWpP0wPD4+Mt9nP+hAch35v4sp1vLwbfhm2PC58RP1Pt0W7uNdjfI/8AynElwDkyeugA\n",
       "AAAASUVORK5CYII=\n",
       "\" style=\"display:inline;vertical-align:middle;\" /></a><br>"
      ],
      "text/plain": [
       "scaled_delta_not_eq_nonzeroInt: forall_{l in Integer | l != 0} ((2^{t} * delta) != l)"
      ]
     },
     "execution_count": 25,
     "metadata": {},
     "output_type": "execute_result"
    }
   ],
   "source": [
    "scaled_delta_not_eq_nonzeroInt = Forall(\n",
    "        l, NotEquals(Mult(two_pow_t, delta_), l),\n",
    "        domain=Integer, conditions = [NotEquals(l, zero)])"
   ]
  },
  {
   "cell_type": "code",
   "execution_count": 26,
   "metadata": {},
   "outputs": [
    {
     "data": {
      "text/html": [
       "<strong id=\"delta_not_eq_scaledNonzeroInt\"><a class=\"ProveItLink\" href=\"proofs/delta_not_eq_scaledNonzeroInt/thm_proof.ipynb\">delta_not_eq_scaledNonzeroInt</a> (conjecture without proof):<br></strong> <a class=\"ProveItLink\" href=\"../__pv_it/theorems/60f6769d7c92b618d8aa90467dafeb781effa4390/theorem_expr.ipynb\"><img src=\"data:image/png;base64,iVBORw0KGgoAAAANSUhEUgAAALUAAAAyCAMAAAAtOGr7AAAAPFBMVEX///8kJCQoKCgUFBQNDQ0Q\n",
       "EBCIiIhmZma6urrMzMxUVFQiIiJERETc3Nzu7u6qqqp2dnaYmJgyMjIAAAChkoCbAAAAAXRSTlMA\n",
       "QObYZgAAA71JREFUaN7FWgmS4yAMZHeHW1zm/39dwHbCNY5NHELVTOXgaESrJeEgNK9Z9tZwLdAX\n",
       "mrVvTsCW+aDJgKmI9Dx766bDNnhklPPFW7BzQWs8RGoKd8wy3IAODcPkjhMb5ofXI8NUQevY5EyO\n",
       "yDFTV7RO21fTQLvBtQTctf8hUwO6hdbJAHoSaO7Z4Lj2iLQnk1DTQc8nvXHLrFCDBzMIEKilA5nk\n",
       "j9y7sYFhnO2ooZuCetg6nmly38ldPeiKnowY3kkJWzI42ospIAO5n30+ZXlc6p4zDJqYh9RpJ7Mh\n",
       "9FjzcM4PCaH2ZWCIB9wuJU6LowtbVrshFHzMGUty2t6ZXlg9zbeb+Gn02zOncmbWc07Br52dszo2\n",
       "JT+XhFSIFvmOqYO0RI55iO1zKWAlfJoQ36wF/ApqeBwOfCzi2CLf4YGR8EhA7ZLa35/4/2w2h6Pc\n",
       "sNhbL2vx7l/VyXmln3dOyIgl7ZHRHLXGvMOZS6ZGODEs/iOrY7OScgKDpUAzI+T8yzvTuK4LkE0T\n",
       "uYrNpUKQV6h5M8Y3Lc978S5FGwC7AtTGUho/VTFmEd1HbZ+7UWldGU+iyX8L1Ngl1GWfi+xcUYew\n",
       "tO8WkskdGKXjxEGyuFO5vuao4fkF6CRJ0YTYHDBk7eJkwes/eGX32fxCym2ve2RK7s5yt6Bl2pWj\n",
       "fmoDs88kXrrGGzNTJtRQdlkuCgFeg7+h2+Z5sn2eEThVZjoZ6tRZJNn8CX9uO3hJGuXLZrDhW1aK\n",
       "M3ulHQvvJ317zCVxPk1zca0y3GxB8nhNTFYwNbWeK+ovS0iF8lX+o2td2/Matw2EuCKXyX7ptU0J\n",
       "pNI91LDD05CTtqkRzXHVaPqm1pTCKohG1ruo1BVzviVl2+EZHiloVQ916iyCF/37G33J/aYhL0qZ\n",
       "vqnTta8N+1VULpQfZWPIo2Rg/nRFWuky1J131UtMoT29Rv6IuKafSdC0FxxdZzHH2Rii68U4bB87\n",
       "IYS1ixRd1FvnVfU22NZ2EMrlsqm3+Ceip9Qpov2toCM7r9vy56yxCsE+lyIUm0lEE8FTOD6KWidr\n",
       "wHb+E6nqaJUkw0gikFYHBd0Qave6mOB+sOBgUS1oJb5q4PJp6G5w9C4gORQXhH/jFueY2AfDuiYC\n",
       "OQd0OOmR20nSP9dpt5NDl84pZirV1nOzboJHVIQnFyTqS/dl61pXa2klbYhYQrbXFPOecFx/mrSs\n",
       "dVeDepn3gOO+1QzWM1ErzG+YZfZT0iZLHmqCosmNvu/8DtD0Jt4ND9/4pUWw9ru/anl44n/LRSif\n",
       "mNM+4wAAAABJRU5ErkJggg==\n",
       "\" style=\"display:inline;vertical-align:middle;\" /></a><br>"
      ],
      "text/plain": [
       "delta_not_eq_scaledNonzeroInt: forall_{l in Integer | l != 0} (delta != (l / 2^{t}))"
      ]
     },
     "execution_count": 26,
     "metadata": {},
     "output_type": "execute_result"
    }
   ],
   "source": [
    "delta_not_eq_scaledNonzeroInt = Forall(\n",
    "        l, NotEquals(delta_, frac(l, two_pow_t)),\n",
    "        domain=Integer, conditions = [NotEquals(l, zero)])"
   ]
  },
  {
   "cell_type": "code",
   "execution_count": 27,
   "metadata": {},
   "outputs": [
    {
     "data": {
      "text/html": [
       "<strong id=\"delta_diff_in_interval\"><a class=\"ProveItLink\" href=\"proofs/delta_diff_in_interval/thm_proof.ipynb\">delta_diff_in_interval</a> (conjecture without proof):<br></strong> <a class=\"ProveItLink\" href=\"../__pv_it/theorems/87ecc2bc65a1dc3e39f0cd461ffb24cbd5f674ae0/theorem_expr.ipynb\"><img src=\"data:image/png;base64,iVBORw0KGgoAAAANSUhEUgAAAYsAAAAyBAMAAABffOqxAAAAMFBMVEX///8QEBCIiIhmZma6urrM\n",
       "zMxUVFQiIiJERETc3Nzu7u6qqqp2dnaYmJgyMjIAAAAcRTyBAAAAAXRSTlMAQObYZgAABiZJREFU\n",
       "aN7NWl2ME1UUPv2ZTmc6bVejKEah0aghPmylCWxQQqMxEmKkmAgvROpfRGPYVYwbzUYaidmCGhtN\n",
       "BJ4YJNkHHmAJGiWYsIrxD5Jt9IUX3TWEmGCybIBFuvysd6b3ztwzczvTFi7xPPSbn/Pdud+9c8+5\n",
       "904BJJpRxCg2vSy8HJmbG2uDNQLS7YQHW9jTYhmHd5ltsOKTslVEyxh99uCMDWlhTSKl4NIZ60/Z\n",
       "Mg560F+T6SZ+FC4jdRdfsMmxkmNyVei3YfRbrNLEPcUwGSM/zrrlvt5vcqzWxd8YS+YxCmqao03d\n",
       "E9ob6VnuZMLkWQflyjhqYvTbblbToW5kMJYq963a7EG/TTiKa93IoKxUQ6aKdAOjwDayAzXfjQzG\n",
       "2ixThlrBKLBbhZVsWwa7NmFKlLGhiNFvitNP+rluZDDWgZxEGQ97UJAe3QA11Y0MxsrITOTzPCiI\n",
       "yGXnbeitdSODsqISx7hyFaPAsnUnVO6udyODsrSrEidUDQhrquwq56WOlENkRHkZvSZmzZOYw3sw\n",
       "PvaVPyQ/6noPBMuIPX9tuXOyZOGpOmINA9jD448bLyNSQZj+8pOgGasx3fEMl2ONAxy38MyNl3Eg\n",
       "jzABemCunOlGBmNNlGCnNUYqEtJGDqFRDw4I57qRwVjkGRkyXIxRCRPDUYTx4KCon2cNPDz4Xtsy\n",
       "GIv0ePrXfft2SBjiEyWMfwe7X6Tt+77ZQW8wVpZErEvV6pAEGSyhUfyiN3g6fakJ+81OXirGypJB\n",
       "8TLAtnDCa6EeCTxBGzd5VM4kpwPZC5rwakdjg7EiJNw+Dvok6P3sznpnLB7basLn7Kq7FFbceGD0\n",
       "LQONpiDlOxOUh9wnrDB53FMSxCLe7mhCpTMZlBUh+UOFKKn5k/SG5tTXqCUm4Td29q6jouBmql9g\n",
       "E6RZJlZJfRPum9OPsA8US4Y+ZZtVwewctWYvvdEsfIF125Wx33Y/TZ1piT4WqD1WKFStpifP+LZQ\n",
       "h5QzW1RrSsPYXOdlJOyY48p4BzbUflrOyXDZHhn3gDIb2K7NCmkd9gYnQ5tcS44+Bjh5eB9fEbWo\n",
       "XYAB1BtJj4y3YHdRBbEM9FLpM5AeCKzQYBN6OpNBWapV9raXyE8D4na65SoCqVlr1BQKhUdayLC2\n",
       "C/YD7CUuo14Z4zUeZyBZb2ewLu56iMMhUi+lBzLglaHmUvl6UG8AvAmH0uLe6C3x+D2sFFfkNF6V\n",
       "qKNBMvRr4jWNPdPNkkEarcDeZtjkwvsx0BbTNn3m/KhIhpGHzxbRod9L+kyf76a/Io/GveLNKp2F\n",
       "YZqP9Y2rgnpj0LPqpqysVXia3EvmYF21Ws0pW8mFleSoakLa8+RNU39NTdWRjN+9z1nntMLRIka/\n",
       "gkK1BClamH6FXo3/LJyM2M6kt20Ze/s+wKwD7KmRZ5thiO+Np+AJ7xrC0xvxsThuMq43NtQx+mwE\n",
       "jAva0lOltqaGlrPVqfZDyjBe9E4NabdEwSjhsaH8c2S7SAZpQG077DTJz3NHvsG9zI2NbB6jz5YB\n",
       "3AIZOhZSl4Nl2M5kSmMvoUyI9CAWm4ZC7AeAD3FFIizHYBna0os5ZT6sqZGfhU5K8stQJzGKMnB/\n",
       "LUvHntEIlmE7A9Rpzk40EGuc35CIkrGBIpV/YRoWADl2bBqjz86a0F9awyZkIas/25keZ2YhMYNY\n",
       "/UEVuT4ZbCsjHZC9t5gP6DW05A1YNm3h3l91FrHu9MeP+QG11EJnuW6AUC5jFFj8Ciw26FZNLkxG\n",
       "/Ap3snqMZ2mCPcdP69exN3W8o+02tQxr729zu81ydu3tm7bdBis86LeCezgctvnJO0Msj1jJAYky\n",
       "Vhcx+jfkuFAcuhXNO8N9mJXNSZTBvj6orRLHIdBqoj1BoQzOGVJ52MWzek2JMsJClTIG0VrrvU8s\n",
       "g3eG9QCLbtLeJ7G7PeixHSeOveJMwMI+mvHO2tCJJQMcS+5Hs7BPmGfn5v5lx6cgRAbvnCFr2AGO\n",
       "lclLlcGKD38M+nbf9rKJsQ6aUmVot2NsbeGf9wNYsj/vw9cebGkvQjcyKCuRlywjVsbYMqZVupHB\n",
       "WCdBtr3gwRb2P/8jEsSKGFusZsUbq2F/C6OsEVvrf3DR6X82/VwgAAAAAElFTkSuQmCC\n",
       "\" style=\"display:inline;vertical-align:middle;\" /></a><br>"
      ],
      "text/plain": [
       "delta_diff_in_interval: forall_{l in {-2^{t - 1} + 1...2^{t - 1}}} ((delta - (l / 2^{t})) in [-(1 / 2),1 / 2))"
      ]
     },
     "execution_count": 27,
     "metadata": {},
     "output_type": "execute_result"
    }
   ],
   "source": [
    "delta_diff_in_interval = Forall(\n",
    "        l,\n",
    "        InSet(subtract(delta_, frac(l, two_pow_t)),\n",
    "              IntervalCO(Neg(frac(one, two)), frac(one, two))),\n",
    "        domain=full_domain)"
   ]
  },
  {
   "cell_type": "code",
   "execution_count": 28,
   "metadata": {},
   "outputs": [
    {
     "data": {
      "text/html": [
       "<strong id=\"scaled_delta_diff_in_interval\"><a class=\"ProveItLink\" href=\"proofs/scaled_delta_diff_in_interval/thm_proof.ipynb\">scaled_delta_diff_in_interval</a> (conjecture without proof):<br></strong> <a class=\"ProveItLink\" href=\"../__pv_it/theorems/0e6bbc815552f39b8a95672badceca900c113a400/theorem_expr.ipynb\"><img src=\"data:image/png;base64,iVBORw0KGgoAAAANSUhEUgAAAcoAAAAyBAMAAAAuBIYvAAAAMFBMVEX///8QEBCIiIhmZma6urrM\n",
       "zMxUVFQiIiJERETc3Nzu7u6qqqp2dnaYmJgyMjIAAAAcRTyBAAAAAXRSTlMAQObYZgAABt1JREFU\n",
       "aN7NWn9oVVUc/+693ffjvnf3JMqc9OOVkFnUViuTTBxFFCH6DCohaUMLIkJnhpoNWVlsTqMXQq0g\n",
       "9pYwyMDNLIoEXamEaexR//hP+WKEoPAYzolbyjr3fr/n/nr3nrP7tgs7f7xz3vb5nvv9nPM93x/n\n",
       "PoAQW7oZ+5NSpBihtmLfH1wFLhpiO0tkh6TLIUGsxq62FFyH1WGTjNA63iNF+iIWjxudRvT+Dq6E\n",
       "VgqZ5WHsUvNkQH+ENor9PuwSQ8G12BcuSfVm7PuaZUh/RLTDgeBTBmnyx8+oJRqx3y1F+iNqss7d\n",
       "PhxcDbkpzagdL+BTJqV6+CN6czRoxy5ehcm2h8pyKynWKAMKEOfNJcvjgkxUsdr5EElqpNB56UME\n",
       "iNfdK7E1uCLyZZ5Bi5Pj2CFFChA3mWtGVn2+EHy5J0Nk2YK+TbkiAwoQimmg6mXsB7LBff3lEFk+\n",
       "RLFA6uIEiIj1rzJ2dVUE+XKILOdTLJAmkgJEotU00AY8vJEq3E9DeO5HuUGGW5Satj8iUzQjRy+i\n",
       "kjeCq9JbDI0lX3T5QgoQmeey7h2fH1wVuTlVn/nQkXpPiuSIJ7+vdI9PWPO1Yd/pxjz4r793vdBM\n",
       "osZp/mv2WdZQIFlgfB5Y9qEvcgGp9N3HOVFxRnn7cJDSFAtcJnpG7y/OPssBjMXqGNWyw35JMyIA\n",
       "YqAKo944BcxcYJZMtEc/0h0hhEs8UYoRrKIFqPGLFwqFs7TYR3BYSzYwSyZax3x1ejCEXB3nTP1n\n",
       "mG8bxPxCACIAasUxgm/5AM/Xzm3fXpoeSyaq/Xbw4GcheB+yLDS0ukmIjUtMES6IJ7xKbpcc5rr7\n",
       "pr2Xuui1rq4wahN3FI9b2eRdU1NTYxUh56sGcVV1jVji6VIvelisbWIcEksm+hrAHqnOMXmS/Ibz\n",
       "6zBKpDm5NSaH9Klvv1xixUhCKBcTo8L57yDfjSleLF/J0jYxDYklE30K1BKom/kh/92UWfY4JMk8\n",
       "lJ8tlorlqk7sLsCnNF6/kP3rfkuplSgR5Sy3GTugf7wMpyM58xtH9OW0cSHLW4klxs2Eh/cxJzaH\n",
       "xJKJxiHCvNszhPzEpHMaNoHGHVrc/LPS1GauQz5Wgj/4t536CltGR8sWow2KGk5jADeiA00DvxFi\n",
       "GSg6y0NlvRmBfoo3nGELaYK+eq0OI++jGjLlnDmx+QxiuUX34HF9WwC+ObEC4Jip5jvQkv91hYNl\n",
       "zPCFJst4XplIby3aWKZKfiwXoYRhG0pr3PaNELeDIq4DnSx7vCIJn9gcWiyTpRfZ4CPQ9n5RsLN8\n",
       "G3qbTSFkmXCxbE5egTbwZum02FQjfG6VWsWM7ZgjQh0HrU3Icjs9FFE1XixtE+OQWOqie15lHxPs\n",
       "fOrtmON66hDLzZqamga9Wer3UvqZZojlFSyHyQ2gB10PsMRKiwoZWyJEiHFIFAN4n2jWg6VtYhxa\n",
       "3geOMLWVeZjQOli+BUc00V6yP2dTjT4W24B+IGK4lGT72aWW2GKosQUNRMAv8Kwnubqcd736rgdL\n",
       "nNg47jgklrpohi1LpEPFnOJN2yI3wn7aAKVhuSfLE5B8mFz682Ms2VHrrawAH6AZ1x11zIdYYnvt\n",
       "XooQkL7b+xJqgA8oEGYI1v9BoYIlThzfaQ6JpS6qMXgiq+zo6nof1rE5artY6wb40/W8TeV/yuWi\n",
       "naVWodhLpvrH8QEp6bWPP8IoZH7gGd51Ys2fsKrTL8P7yZ3hXed10gvQ6trL2qFad/rv3stV8LQr\n",
       "2ax33wAo0treF2EUMvt3PRo4Wx+qzNbJDiJwynUuXzn6Y8GLZaoNkt3QU0h2K5eOdrv2xTqX3LLG\n",
       "pEmTHwILmUuupP74oIylmnWx5KIQPQmJQSfLO3k4drJMPnY1q9TD2rxSXzM1NerLMk7DXVKWfggs\n",
       "ZCacrpj7bgFLraKKtlc797Jz6fCx4MVSfMYsllFagJVSln4Io5BReFnK04vNbthi/xuRCN6IxCoS\n",
       "5FljOf3LcAEiPhlp/drrhqWqyxmr9Ymu3JLS0sU6+AodhhZphS5ArBmKZmnKXjxtySouynuzFUQe\n",
       "mMkd7JlZvnXeBsqG3Fy+debHLToqA/ojorZ43Om8sAzSOsMjCWswLaiVpgX+iEW2MVlqJhtckzDf\n",
       "Bk3/jaMfwl7IRMiZNRQCKxIJ883ezJ2svZCZmy8QWLuNHjIkVcMb4Shk5uob9xn/esJRyIzQ36p4\n",
       "ez4SJklTo5FZ0CO1EPvDwY8lFw2pJW+hC7OcDClHzN1fNfHSMCUNcXLERsqtqjDYjeGShCg5t6VS\n",
       "pAyhUSZ6rgpX3xEyS9hAOyCN5DLEXP7lKETpSDwiRYoRKr2d6A/ue1D0f6HzBwJttYohAAAAAElF\n",
       "TkSuQmCC\n",
       "\" style=\"display:inline;vertical-align:middle;\" /></a><br>"
      ],
      "text/plain": [
       "scaled_delta_diff_in_interval: forall_{l in {-2^{t - 1} + 1...2^{t - 1}}} ((2 * pi * (delta - (l / 2^{t}))) in [-pi,pi])"
      ]
     },
     "execution_count": 28,
     "metadata": {},
     "output_type": "execute_result"
    }
   ],
   "source": [
    "scaled_delta_diff_in_interval = Forall(\n",
    "        l,\n",
    "        InSet(Mult(two, pi, subtract(delta_, frac(l, two_pow_t))),\n",
    "              IntervalCC(Neg(pi), pi)),\n",
    "        domain=full_domain)"
   ]
  },
  {
   "cell_type": "code",
   "execution_count": 29,
   "metadata": {},
   "outputs": [
    {
     "data": {
      "text/html": [
       "<strong id=\"non_int_delta_diff\"><a class=\"ProveItLink\" href=\"proofs/non_int_delta_diff/thm_proof.ipynb\">non_int_delta_diff</a> (conjecture without proof):<br></strong> <a class=\"ProveItLink\" href=\"../__pv_it/theorems/bc4c1e9388fae039aba447586ac1ed1d6c9f84770/theorem_expr.ipynb\"><img src=\"data:image/png;base64,iVBORw0KGgoAAAANSUhEUgAAAXMAAAAyCAMAAACZF8vdAAAASFBMVEX///9jY2MJCQkrKysPDw8W\n",
       "FhYoKCgUFBQNDQ0QEBCIiIhmZma6urrMzMxUVFQiIiJERETc3Nzu7u6qqqp2dnaYmJgyMjIAAAAE\n",
       "alMrAAAAAXRSTlMAQObYZgAABb9JREFUeNrtXIt63SYM9rZuK2Dut/d/0wG2Y3MxYJxmPT7Rl+aL\n",
       "WovgHyH9EpxO01uImmvqNRHk66xeGXJVU6/KbL7O6mUFkpraMwC1+KDqIfj0O4EuQU3tw8tGKhva\n",
       "KEy9DeQCzBW1TxCbbo8xaPWSwlBN7RMAp9t7ZdTqFSOLFRW1T3gUzr3QoThB3yS6UFRTh8J5WDo+\n",
       "tP78HSDX8WvqobcmrLWUYw7wVDdnNXUwnIfFE0MeIJ4PObZzRe0eJN8cwsIR6jJk9WKCQE3tLYlK\n",
       "VmaoxDFvUBgBUlN72SaZ8pAAhzIDfH4WxVZX1F5xVqrAH0fGGrN6KUncatDL7Cxgcwt9rOuljffE\n",
       "GhTU1GmGEvewDVSqZRgtE6XGjNy/7zFdP9DrAaupWs7M4tGxlS26+e7HMwUWGAOoATqyUvIjpT6P\n",
       "OgqLKurk4Rl/aV1cLrSTUciQf8J5NYut+KZz9jw3xzEdTtRJ6U8cPA8tS0RyTn08lgpWm3vvDv8c\n",
       "kVZW1Gm+RdzSXeN8mNG/f9CPaI08spxMGKVWWgkvnD6y2YKr0cDcemkbUxDMoJhYuopM+K/UyjIv\n",
       "j2wz1qmigNDeeWsbRWPhA4ZIy0wNU24SrEhYfPYp9RERv8sgK0kQ5yp2IDF7hxRFABMPIExCvGD+\n",
       "K7ea0bQtkCDZHHAh0SjEtliVPAtKcOFidm4NgmGSYPZElEwzPA4VzH0WxZhHqgD4jHv0Yh5FJlbi\n",
       "fs6fCS9Z+W9Qr5QyrVULKCo3CjHLxkmzdv40RqgUNTsGITGIh5WLphkImXbPyqzES1woUsMRJ94w\n",
       "F+Yg+zrYTI7zPFZY2DFx89dPb36YJ5rm1BMWK+/JdHO+ZQZSIRRWQRb6YJQv7U1FkT7HnJQRujBI\n",
       "8rvZcY8cvCL8Iup3QdacrmEe6hR8p58dYR6odsr9Pqi5EokVNx/VE9ML55FciOkU89n3auZSmXvA\n",
       "nDUwbw9yjjnTETHwDMz7JpD9sWWx0HeIC42MQV7379QcZFaMkzVYhsQ+H7xImjPmK7YcgBaR1zDv\n",
       "GOQc8wP/WPbucqpAdZZD+akaMGd3qqI4hyIYAbfswDVZHdv2q5XcIi4G645oYk6hN5v0sJ93DHKK\n",
       "+TJNEjjuT/dHrzGCwowr4lNVuYfnS7W3wdUWIZUEF6m5IJrlVlsVC1nwuWMILBPYEFA5gnFOxtAi\n",
       "2Y95axABeBlzePhRTrufZ8eWOj6Ki1UF4aUTYZFyuqQOFeTP+RjKZsAMcB4BLDjeqdms9Pos85PG\n",
       "NDiQ/xlvD89sE7E0N+sE22dvn8eNrmCum2+Mo0JtB5rBA/89ROfssFPGfyMHTkNd1GMs+K+k6Rok\n",
       "/qj/UIxSahorl1gBjCPGceLnPobOLWLb8vP2IKd+vk7Trem//6wrW+Yt94+JwhVm5daKI2oQrva4\n",
       "usrKzMpO/i8UrsdzbKSUTHRjvjgI9xb7t45BTuP5Ms2onvJhIufn6fa3l6+XhLJtAj6BGFltoGUF\n",
       "Z1fbzXcfw+Zjsoo5SIuDKubOQSzxccp77f6tY5BTzNHWHD2sGVSqAGiy0enlU/elaiQ+XaRNyIQU\n",
       "bWVlsx1xshvgGs/PeUtb7rfjz7ni9kCzQ4VsTe3hKiFeEZcuMKgXXJ0vTOzV9/69MG/PLbk3NXqN\n",
       "ijo7SCYRuSgYuxLWtkry2AW536c877esCLZPWXAcPbEdOpiZPddwNU80Hz50JavLisP/6Wgap82L\n",
       "oeuVn3KniHorTGBSYH3fKfpFAd0bFVebDbVqGH085C4szBW1zzXLG2zstuc73BG9f+Vfhg4Fz4PE\n",
       "SDqG73AX+jZzwSFxQt5IFGPp5akCVE1tUgiqXLFFaF5Ofn+2pfaedz7DZZYTuQxzM8SizFt8tCV/\n",
       "0U95bwnEl1m9onCAK+qQfH8mt+letKYOVcjo66xetTAiNXWAC7Gvs3pZIbCmXq6zvv8vkS5Pn2vq\n",
       "xbA8dLfvYPUf8/lePFeJVVIAAAAASUVORK5CYII=\n",
       "\" style=\"display:inline;vertical-align:middle;\" /></a><br>"
      ],
      "text/plain": [
       "non_int_delta_diff: forall_{l in {-2^{t - 1} + 1...2^{t - 1}} | l != 0} ((delta - (l / 2^{t})) not-in Integer)"
      ]
     },
     "execution_count": 29,
     "metadata": {},
     "output_type": "execute_result"
    }
   ],
   "source": [
    "non_int_delta_diff = Forall(\n",
    "        l,\n",
    "        NotInSet(subtract(delta_, frac(l, two_pow_t)),\n",
    "                Integer), \n",
    "        domain=full_domain,\n",
    "        conditions = [NotEquals(l, zero)])"
   ]
  },
  {
   "cell_type": "markdown",
   "metadata": {},
   "source": [
    "#### *Success probability as sum of individual success event probabilities:*"
   ]
  },
  {
   "cell_type": "code",
   "execution_count": 30,
   "metadata": {},
   "outputs": [
    {
     "data": {
      "text/html": [
       "<strong id=\"success_sum\"><a class=\"ProveItLink\" href=\"proofs/success_sum/thm_proof.ipynb\">success_sum</a> (conjecture without proof):<br></strong> <a class=\"ProveItLink\" href=\"../__pv_it/theorems/dc7c0d9f51f891cb51bc1295dc02a6556b7a73c60/theorem_expr.ipynb\"><img src=\"data:image/png;base64,iVBORw0KGgoAAAANSUhEUgAAAbsAAAA/BAMAAACLEXtXAAAAMFBMVEX///8QEBCIiIhmZma6urrM\n",
       "zMxUVFQiIiJERETc3Nzu7u6qqqp2dnaYmJgyMjIAAAAcRTyBAAAAAXRSTlMAQObYZgAACEtJREFU\n",
       "aN69Wn1sFEUUf9z37e3dNUYTIBDOYgQNygViiEBphRiJmvQkkcRo0gY/IgRppYkQRfuhf5QY7YkG\n",
       "FaK3mDRBFO8INhii9tKrGvHEA4xoACmJ0CgRCrRAC/ScmZ2929nb21282b6keZfJ9vfb387b997M\n",
       "DoA1OwyVGw8MM3NFWW/NAs2VM/PAMLcOjbdk78QqJ+aBYW476lhvydZzIFZhfLshalt0TmG9FRMH\n",
       "KudVYQRSYN9MLtF4C5aoq5xWheGYk7YvOpMp1luwTg60KgzHvIh98sQq1lvIeaMc8qYKY7eduUW4\n",
       "yHpzC7VVzqrGWAEuyT59v0isN7WGXOWkaozghrM2Tl8ix3pTa+JA2gQTZaEB1ptG82UOb8TlCZPn\n",
       "GGW9mQWHK+fkgWH1SV5nvZn5hirn5IFh1U5pvImFOSROHhiWU2eM9SZWz6HH4IFhmSvCerOnwaEl\n",
       "UzDO54t20SZ5yTbWm9h5DjVYwejNyxEjvPfbjAs2yfNWsd7ErnCgVDCc+cKiNtiaskeeZ5T1xua/\n",
       "WjljEaO1WACdA/bIc9xgvUkzfIlDQ13AaMgXe6X77JEXvM56k4dhNQX45RsPxI0wgvliyATLY917\n",
       "2oxG+wARa3CQJDAXDRDsSYCcMLpr5zV6M01Xn1u30ODCndSvLo+BrKvkVdYD7jeiEdq1u1KzRgir\n",
       "SOT5x+lzQP4n/OMfwzdV6afC6FG0G2TRv6n/Qs6NLZIOBsCOfMk+iw5wvyFNSAsRHCKssjxQUjLy\n",
       "H2CZhgUipERTAyrNveVLZVDhFOVrAmfipRgoZPLXShZLpcD9hjRhmnOPHJwv1xlnG2Gl8mbQS5EP\n",
       "oacmGmboSWP0x1z0z3PLdx9eRY1A643rTKwEA1f4C9oI0AHuN6SplxFWxkU4IuNHCKsijxIgHzyw\n",
       "a9f7xu2i0g134WVb+Q6miPIX9e7OOi0Gnsm8tiDoAPcb0vwgw0dABIHETCJGWKm8Vvqgsb/a2bnJ\n",
       "mjz0pvoNisRMHDntkxFDppDk1qVK5QkztAlbBl66Zmm1Sp7r+w+rV7n7ntGjOVO9CEck0gOwBQ+e\n",
       "BMKqI+9ZgM2l95ouledGd7XPoDN+C/3VxFwobf9ZTOIL4iXyUGPGzhQFTr+dalfJE30dkLwD9pC3\n",
       "+RyxKKURxqUkwv2DyBPx4PNAWKm88/SlwH4ZCDrdQ7RUnuNyNnO3wSy/gt42GXdfMQ+0lM4easym\n",
       "skWRALtTL8GDKnlPegcgkSbzoqUJjEE4Qu4RaXNhSbfIrFReF5WHvRccqjrpbumH2xsZeUmaKXxj\n",
       "xlX9VvRY979OMmHhxjdJLAYNGjY6ZWBBGGbePSlZB70SmRctDermkiiM1mazB7PZLBLqHpVZFXk0\n",
       "OrAXc17lPz/L1MBXouSUdOWFlVraDZ9KZeTJ44q8z9drMegeFluVKXBgiE0tvQAL5HnR0qCyV59S\n",
       "Zg83MY6qsvL8AyuVSHpzmwTfRKIiZOa3zC8UiySlbcCSHff0CV1wKALZTFzM3i/M64Pq4xE0SqKm\n",
       "W77yIdm9+ypoMWQ7xLZtDdFChx2sWTHTcWeMyFsCsAlco0Lx3WukwRnOQa2kyAuiq32NEmHVkQeb\n",
       "cXLC32yW4aGeni2i/ruHqxM8ijJVAnwRT9qTXgtrQznPl2l/BI/id74HPS1QUsvWszrZl9TDkdKy\n",
       "h2sXirfgA7lJaxyNRN40QOHqHNhemsHCdcJ09OsRIs+J4XPpcqkF9jbTbzYkw/SIu5/Sl0dWpIlF\n",
       "uyAJnkhCAj96ZRqkwOpL+yU8ihPzxzHhGLpoMXmX3oAy8hpSuktdXLu2zUL37kxjef5hHK6htDZX\n",
       "IxpPzofvzyNheZgw/HCEsOrJw0kIf7ORC2QPpDO68pbkV+En3zVM5NWjn2j85InD6eX5OjyKg8N1\n",
       "aiNGPF2+dmLdmtdJBqYhvQoeA2+K1L1mcEQhUKNdf6DLhHk/E6CFSF4Ayw8ullmVukflER+U5G82\n",
       "7o2dnR1I3kdeVp66oYInUP5NouBMxME/Sl5ndzzQjEdVTVlz+cYOdPphtd0GsyHhNmvKlApzl+h+\n",
       "AVSsOmWdGPlm0yjPnmsFcqo9NK9a3l7wQVjakfZEhcjT8IkvB8ei0IZHS1pq5p5UGEZf0/xDaP5+\n",
       "F81aasW2ZBYVfuu31LKRbzbf4V+/AhzX7MCqM8HX1T+i9DbzBmSqQURTnp0T6JsTx6PF5ocuiAY3\n",
       "YItpMcSXi0vQknt3NaL1ztYDhguizfrDqgVRng7lC48Ef7PxoZh3vVYHnrJLUWPbWZ5fhaGqCsfK\n",
       "Y/Wb0+ioluUJdMEsaBbOszs7DHZmrG5GBONGGKqq4DLYqJt1s5sRmNUhb0a46b6V29IeWMDipwhr\n",
       "GIlCVRBqbToeoexbWdsDc3P4dlXAEKYpQ9ub8jYdj7i5jUAY50CpYITG5f7qxXw+f8UedeAcYb2J\n",
       "tXKgVDBqJ+AbQ2iI9SZWyyGIaifkxBW7tAlbO8TWy+HkAA8Mq0ZXIAVvYsnGyil5YFi1uSnWm5iX\n",
       "w0lFb/PEyWvSeBMTORxK4oFh1SZrvFk3wiHFEQxhQg63uG6w3tQGOZAOqnYp7DXPGOtN7SSHrE4w\n",
       "MhNSF6KsN/+HNAfSNN3ptd2UybA8KeJUDrkFY2jziy2Hjs9pvLlN48CKMNxV4OlEpkyiLYeOlRWX\n",
       "a8T6fEscYkYCR5umtbfj0LGylROyHhghDreBMHyFTZjleBIlWw4d75FYb2W5xqEoI4xJj4MHr4b+\n",
       "pUO2HDqervFW7CgH3qMQdrAjdhw69jSy3to/cchwnqhTs0Fkx6Hjo/9rQnjch50HqAvN3xTWW7Ru\n",
       "DtTdEyEvzvj/AB5qogeCGLfdAAAAAElFTkSuQmCC\n",
       "\" style=\"display:inline;vertical-align:middle;\" /></a><br>"
      ],
      "text/plain": [
       "success_sum: forall_{eps in NaturalPos} (Psuccess(eps) >= (Sum_{l=-eps}^{eps} Pr_{m}[m = (b MOD_ADD l)]))"
      ]
     },
     "execution_count": 30,
     "metadata": {},
     "output_type": "execute_result"
    }
   ],
   "source": [
    "success_sum = Forall(\n",
    "        eps,\n",
    "        greater_eq(Psuccess(eps),\n",
    "                  Sum(l, Prob(Equals(m_, ModAdd(b_, l)), m_), \n",
    "                      domain=Interval(Neg(eps), eps))),\n",
    "        domain=NaturalPos)"
   ]
  },
  {
   "cell_type": "markdown",
   "metadata": {},
   "source": [
    "#### *Failure probability as sum of individual failure event probabilities in terms of $\\alpha_l$, amplitude of $\\lvert \\Psi \\rangle$ for a state specified relative to $b$ (the best outcome state):*"
   ]
  },
  {
   "cell_type": "code",
   "execution_count": 31,
   "metadata": {},
   "outputs": [
    {
     "data": {
      "text/html": [
       "<strong id=\"fail_sum\"><a class=\"ProveItLink\" href=\"proofs/fail_sum/thm_proof.ipynb\">fail_sum</a> (conjecture without proof):<br></strong> <a class=\"ProveItLink\" href=\"../__pv_it/theorems/cea7baa1f8d591ff9ce950406f8c6073d0f74a180/theorem_expr.ipynb\"><img src=\"data:image/png;base64,iVBORw0KGgoAAAANSUhEUgAAAmYAAABMBAMAAAA1qmbAAAAAMFBMVEX///8QEBCIiIhmZma6urrM\n",
       "zMxUVFQiIiJERETc3Nzu7u6qqqp2dnaYmJgyMjIAAAAcRTyBAAAAAXRSTlMAQObYZgAADG1JREFU\n",
       "eNq1XHuMG0cZHz/Wj/XrKkCQqOKsq1BLBJzVA0JfOQOiD9T2nFStIlRxJqIoVFXuSCMFSkScpEjX\n",
       "oHJGlZoICbJRpZQmCrGoREERiZMzCoSUM0QQkIjO5dFIVL1zXpfcK2Z27d2d/WZ3Zzwevj/ufre+\n",
       "+fmb3858M9/M7CIk0UIFoWKfoYCwvSrRPYsrXoRAon1KqFSwAYG4Rary3LO5nqOANFMWhIqNliEQ\n",
       "N/WD8tyzuQ7mIZBm0apQsR0UsA2oqDDJ/qR15d6zXFyp1RBIszNCpZLjEBCfOQQroQTzPqeLPO6Z\n",
       "oerp1Xxc71JAksVXhIodqENg2zdJyYawpvew2MLXedz7swle4OMaKUAgyWJ9QsV2UcCWyexNEaMK\n",
       "WLNDTLpZlntTe7Tk83UezWyudAMCSTZaFxo4ViAgRi7zrsZMzdLMYWKk4u9eshxpoHGudmZzhZcg\n",
       "kGS7emudLs00ilDi0vOkZkHmfUmP+7sXLSsLagOpQ0ND97E0s7kuUUBOOFsWC2dVCGzbh9BxY6y0\n",
       "NEswZ5Wpa/7uRfPxa4kcX9+0uWbyEMhJAsRmZ8NlCGx7GKGBc46+GS4xZ1U3We4lFuN3d75rw9UK\n",
       "H9exEgRSLCMWHm9RQJdnAtte9CBCdwwgtGX2ndnZuqGZwv6SyTLDvWiW2zmLK7YAgRQ7mRUplbgC\n",
       "AWEbkVp3jgHhoqgf9uUpgTr5uiluY0KZT2QBAsJeR0oWfdnULIE1S7FTjcy4v3upXBd9x+K6QQEZ\n",
       "dlmsR/dBQI6bGrrwvUpHs/ja+SwKsUNwesHfvUfRl7i9s7nmyhBIsMRVsR6dg4Bc8aiQ8zOjEhzL\n",
       "JFd83VPeO76Xf8nF4hrMQiBj2BSb7Q1XICCtBDX7Dcck+Zave4FWq8k/4ba4RhsQyFjUWBQqtlOD\n",
       "gLTHzMmVOfjzxKKWRPcsrkwTAgl2TCjbVC9D4OxRIHgENQ7OuYI092yu9HUIJNiI0GQvfBOC3m24\n",
       "Ls09myu0AoEEm66KlEouQ9C7DRaluWdzBechkGCTFaEMfQkCCS1+XJp7Nlf4BgQSrF9oNS5wHQJx\n",
       "S37u3nboavbuHsWltiCQYC1NpFRmEQJyRtkijD0t+j3a4klFuMfFSnNZBGIVdV1qEZP/QBMCctRs\n",
       "dRrfG499rcUe977T2bgKXPN1j4uV5urPQ9CzhcVSp5E+CByjlh07LrDj3TZ0wKhOesXfPR5Wmmuu\n",
       "DkHPlrolVGymAYFjItqyh8B1PImY0W0iy/7u8bFCrrEqBL0HYLH51XQJAkfq0rKbDH1wQNHgH1vb\n",
       "/znv754r61dYXMNFCHpPN32mLT9p//q1W+/z92SmZScCVJdI5sEfyZzn7XO458ZaY3GRd9foExd7\n",
       "1izWcSo1dvMbW+515kedb4u4rKJMFiFwsrbGfZo21Ox8B97yds+Ttcbimm7Y4A/67//2rFnaXGvR\n",
       "15B3OYZjc39NJULWnZ0+MWcm3XOu2bfaf5Vfs3A1bLAGb/i458VaY3ENjttgvz4Sl3rXzAyWo1W4\n",
       "vHzeBKctp8+Y/zBXhQCMq60Kt2ZfPf4r416lbM1+QbnnxVpjcc2M2yCNP0tWetYsajo1iGsyWHXO\n",
       "dTp20JwsrbVi084qBECX1mpuzfpb7UlY6jKtWXSZwVpjcc302SB19vDhfRKWz8wVzUl9OCZrE7eC\n",
       "R7p9Ob7FvkU7sxDAxZhb/PHMmrS6aHaFwVpjcZ1sEuDmxMSO3jULmOM39ibuCBdBPVL97bYXzbFI\n",
       "+SFR1/46BMAOtqp+miUHPs2lWWCFwaprdvqOPKdmzyD0Eq8yEY2lmYI7wVvVpx4wZtnoEA6UMaxG\n",
       "6C/6kmvKGAQmyIkWU7NE65qPZvFt6GD5iDrmqGeYrRnNijXbl1dXqZVDTXeukSYBvugY0HCt3zaO\n",
       "epEZvnmOVDmlkZc3EGEws2QuL52bWoNe+IKOH0RhzB/F/9Xe6UkYvfTONWTqXIGAmsFd1rw1i1ZR\n",
       "LLcGPQQ00yjNMksM1ppxZHBPUAuPu3ONLBIgCg6O/EhrH/UiMvyUGWyimiPxJ46XRr7fmfvo1Kq1\n",
       "goJBAHtw5Gd6t1Taly+ctYttLkBA509Vb82GNRRqVPVdXqKe8Yn27z/Ozn5rdvZdh3uerDUUwp6v\n",
       "S+oBxIULof0lAiTrUfP6kSncp06g9pY1keGfeYDSzEj8T9DtzNhFVdtjzBuWZofbzbQj5Yl7umhn\n",
       "8Rs+ffMj+OftGnrZoZnC0c4o1hoKYC1OndVDiSvX6CIB4o2nzET2Bz/WKM30DN8S1dbMSPxJzToB\n",
       "Y1RvUE8sZx89X1cnDc1w31TbjchiffwZS7M6BFR2vcpbMxUHzyRWY4Gt2QqDtYaO4ZY3XUGZModm\n",
       "6KWv6/d+ew5HNqMVODXTM/yfI/Ta0NBQhdDMSPxP0GOAPj3TpRpA/0bHDM3wjUsUjNPEKStubnyR\n",
       "dwzwOY2Jq4a/NNmHlL5uxwCatYYy2INTCK1HHGMAelM/11VBhXbqSWu2Fb2ZotqZkfifoOdnc1pb\n",
       "M2Xgnx3NcICI/wcdxX0vZMeQVwuc8zNlyW9+9lmE/tEsBEtMzcD8jGbF8ayIUtMKuotLswx2N/iJ\n",
       "qrnh+hzQDNf5lY93vmrwPvIyHuehZutam9qa/U7b1NFM53r8w3oMTtNNhqnZwayfZsm3L6L7s7Fs\n",
       "t5rRrHjcPHexHjqNdnNplsJNI3h3FinfnpjYjTbmgGbnwYpn+2iYcVnZgVwTOizVAtqdb2tm506v\n",
       "u0zzGfkm+hdHjh540lnPy6x804XVygM+VHDnoleUj+o/im7tzMzw4WKxfploZzHHwkFTvY62Zjua\n",
       "0Tk6sRaUgwCs4ZQ4NMsEHZoR+eZhV/fcWC3Nmll3LjLfbNsGFNbQb614hmef8b1ov4Z/mBk+MOMy\n",
       "Ec8cTh2aL/x14KdrxnKH9GWrmGMtSL20XbcCn2Zn7O+ueGoWqjk0c1sLcmrmwmppdn/enYtcC+ro\n",
       "uf09TFzpaKYf9VJWofVl/MPM8IEZlwnNIt7rtOaaY8xlzXGsCIHXlCBV4c3R3dYcHe65sdZYXOSa\n",
       "I2l34XhGCsEy4l9DN5lr2393y4xKEHhNCT5PfRgsuP/h5orjmhvrx1hcvp6KaRYU20MZLEHgmK3b\n",
       "U4LX+I8ERlz+lXSvG1abaywHATkO8x9+JPLNhNhe3ckGBA5XzME0/ssW/9mEmMteHeleN6w212QV\n",
       "AvLmfpLXuaeJEKOI7QmP9kHgmInMGnYJB0+/zRS4zO4yDSbd64bV5pqrQNCzCR79sM6QuB1MCXV3\n",
       "XsPKk677utcVq81lHZLpl/doXUvoPHNmAYLe7diiNPdsLtVM1lV5Z1zQzrxIqeg1CHq30aY092wu\n",
       "pQWBBBsTOvoRWYGgd3M9+iHmns1lHfgQPJjiPmvIiZQKXoWgd5vOSXPP5kpehUBGj2iIlLIO4Cvy\n",
       "bp/rMVDBY/0W1//jEKvoufkWBbztWc7Iqnm6p+9QUbaRh8t6vkDwQQP3mYzYwOd8joiq09Qeze0l\n",
       "BYrPcof7kwYd9x6iP3liLQ+X9XyB4IMG7iszYkF8uu4AoE7Gw+P0SwrIfTF6yj/v4x54DrHooSPN\n",
       "dbIIgQQLi52bHyk6AKiT/vA4eEmB9QoEz6F4yce9l51XSwzNbK6xCgQyrF+oVKDpAKBO+sPj4CUF\n",
       "MZZmgaaPe1YA0feM2JrZXP29VdPDhoVyitB1B6CCYmIRvKSAqdmBord7Sh/arK/N1409I7ZmFld8\n",
       "HgIpNlIV6tLLJMB1iuh1sptbNAteUsDUbLDi7V7QHDv0PSMOzSyu4BIEUiwgNqDcRoIgNR5OIfCS\n",
       "AqZm7/i4FzNzcn3PKDI7+9HZ9301s7jSfRBIsaBYxjiYJ4BVJ/Sw3tw06uFx4hUIHub1mg/DvcCT\n",
       "mAFb/SjXGGBz+b0FpBcT6+mZIgFwnSJ6nd43P6UfHme1s9Cij3v6DlW7zep7Rh3N3uLgGtYgkJTn\n",
       "CdElFwlg1cmciNEPj1uvQPBavSn6uBcyt0qMPaO2Zq/s3MTkUuchkLVuJdRs1WUChGogCNEPj1uv\n",
       "QPDq6+Uu3Csx4obJFVyAQFZAE8vEBjUIfC3G+PwD3bhX4uQK5CCQZbeLjbdVCHrRLLXYjXtlTq4Z\n",
       "DQJZdlKIMLEIga/FGQEiK889i0u9AoE0i5SEim2mQA+2RaJ7FlekAYE8+65QqWgFgh5WChbkuWdz\n",
       "jZQhkGfrhTqnshoCcYvm5blnc22jgMT1ILHb8AgFhO2IRPcsLrXiBP8DOanJ1zGrihAAAAAASUVO\n",
       "RK5CYII=\n",
       "\" style=\"display:inline;vertical-align:middle;\" /></a><br>"
      ],
      "text/plain": [
       "fail_sum: forall_{eps in {1...2^{t - 1} - 2}} (Pfail(eps) <= ((Sum_{l=-2^{t - 1} + 1}^{-(eps + 1)} |alpha_{l}|^{2}) + (Sum_{l=eps + 1}^{2^{t - 1}} |alpha_{l}|^{2})))"
      ]
     },
     "execution_count": 31,
     "metadata": {},
     "output_type": "execute_result"
    }
   ],
   "source": [
    "fail_sum = Forall(\n",
    "        eps,\n",
    "        LessEq(Pfail(eps),\n",
    "               Add(Sum(l, alpha_l_sqrd, domain=neg_domain),\n",
    "                   Sum(l, alpha_l_sqrd, domain=pos_domain))),\n",
    "        domain=eps_domain)"
   ]
  },
  {
   "cell_type": "markdown",
   "metadata": {},
   "source": [
    "#### *Modulo addition may be converted to regular addition within $2 \\pi i$ exponentiation:*"
   ]
  },
  {
   "cell_type": "code",
   "execution_count": 32,
   "metadata": {},
   "outputs": [
    {
     "data": {
      "text/html": [
       "<strong id=\"exp2pi_i_modadd\"><a class=\"ProveItLink\" href=\"proofs/exp2pi_i_modadd/thm_proof.ipynb\">exp2pi_i_modadd</a> (conjecture without proof):<br></strong> <a class=\"ProveItLink\" href=\"../__pv_it/theorems/90886a6deee849de9b7f75740c6bd8eff15641820/theorem_expr.ipynb\"><img src=\"data:image/png;base64,iVBORw0KGgoAAAANSUhEUgAAARwAAAAnBAMAAAAvEOoJAAAAMFBMVEX///8QEBCIiIhmZma6urrM\n",
       "zMxUVFQiIiJERETc3Nzu7u6qqqp2dnaYmJgyMjIAAAAcRTyBAAAAAXRSTlMAQObYZgAABJRJREFU\n",
       "WMO9V11oHFUUPjs/uzt/m1Ko0erD2pbiD5TVIIKQsv7hg1XWl/ZFzba0fQg+bCj1oVS6IMhWKYwK\n",
       "bmLRTBtIIWh2sIhKi47Ng21tYRppqKaRpSASpSVURftnPGdmZzebvbN7s+DckLnn/pw735zznXPu\n",
       "AqykvXzarMtylZ7PNhafzIFgsfXkcwcbg1fpIeX8gYPiGoCHVgTDcP2+KBcak/RqJe2J0g+zADEU\n",
       "Mmz9JGxrDFR6vFcbkMIqABGn89xwNtX6qrrQvBD3u4uG6sDHKJxg66egsmwm34CjoJk1G+BFXjTS\n",
       "2kDSyDrP9fbiaUoRxTGA6QcsOWvAp/D1+lwAr7V9QccMDb2O3TBZKAPGurd9ONqVxzx4Aq95juQC\n",
       "aZK4YzvkIg/OU6A5MTC8v36cSYacoM7Tt+gC1OBIaTiJTprq29Nniy7O0GFXOeHsrp86CEoBPy2D\n",
       "nVJEcRZS5lbQ52bmZmBeK6JX2G3cgjLaEilSRjhlMGyYl/O+dVLml0gDlN+1uNDINwJpbMJBBhs2\n",
       "usxCW1honYS1LutbpxrPhllHfeITYvBsgog8jP9onX3Chhoc2OlbJ87nrVR924FF4k7c2hU4axyk\n",
       "8+tdxTbgMGx5GMK4k1j8m7rBeC7gTh62TPf7cKRTtk9t+SYXnFEzdKn2+ucN2Y/4E7zRsSSyvBCx\n",
       "6XmFS3Vz+FIt7yiXNzSd3rkFeacWJKL3vMClurrN2jNNI8Hizh3ZpqGflUezHqVhrp2m8lcg9Sx2\n",
       "bswjOPViDnxP/W9tK8RCm8UPoLumsKIoXvV47gVJaBMLbRanu4RjpBmTwgKk0N263U4zUQyv7/oe\n",
       "d+VQqL5/189Y0G6AcXZiotxWu4fCRd2+v2WB6nuh07vHex1WfU8wcd4C+KdU2t8eDtn1yBv3t3gb\n",
       "67ta7YBG7Z2+i1XfJ5mb7wBghq3fjaRrjE0V8sd2S2nNmVpBy7CcpV/zGlk1vhZGLUZ9P26w8FwH\n",
       "eBqWfOJUwPG7p94MUtqo62881KI9aSqPmtDJtEmXUd/ff5C1+zYyFYTG/t9p88k+N2HqR4OPGkCi\n",
       "y5gZbrecOtiZtgOo6DDqO7v9gZZ1l9CKavelryZAg1c+gqVw7oyMfLhcmep7Rzg/joxYjPoeCkep\n",
       "bqWjN/5C1L6+0ZJ8J2Xqrwqc1dL8+h7OnXwQB+z6zqAyOeAgXjfUvV51F/YJGf8GZRyu3wArdOIj\n",
       "FijdpDsR77Umd6rGyILj+I1ixvuNkEwb1TFv5ajeYCPZ6dh9l1d3A0cdOv9tmjs/3qrZM2Z7F+dY\n",
       "VsxvK5VKaXDOQsCVmJdwHv/Xha7Mc+Aq917pT/ILUq1iJn/CrseK2d6NSvrchTNBEq1CRM0IUlvM\n",
       "HHgBhq2EdQl0Io0oghTwVF8VFZz6m6Qdn/XDS7b8GvLkHRzP7D73a1AUtJtRwUk11yG/sAvEnWWV\n",
       "JJpWaaKnFhKRb0UF55smAEbIrgtRwdnMZ0M7Ijj3cu0SIop0gTOE10QDJ8aZaH+OBs4mzn3JdBRo\n",
       "lHt46+DeKOAc446YshkBnEP8dsz9/2hU+tX+H/Gobe95AFf/AAAAAElFTkSuQmCC\n",
       "\" style=\"display:inline;vertical-align:middle;\" /></a><br>"
      ],
      "text/plain": [
       "exp2pi_i_modadd: forall_{a, b in Integer} (e^{(2 * pi * i * (a MOD_ADD b)) / 2^{t}} = e^{(2 * pi * i * (a + b)) / 2^{t}})"
      ]
     },
     "execution_count": 32,
     "metadata": {},
     "output_type": "execute_result"
    }
   ],
   "source": [
    "exp2pi_i_modadd = Forall(\n",
    "        (a, b),\n",
    "        Equals(exp2pi_i_on_two_pow_t(ModAdd(a, b)), \n",
    "               exp2pi_i_on_two_pow_t(Add(a, b))),\n",
    "        domain=Integer)"
   ]
  },
  {
   "cell_type": "markdown",
   "metadata": {},
   "source": [
    "#### *Direct evaluation of $\\alpha_l$ (via an intermediate step first):*"
   ]
  },
  {
   "cell_type": "code",
   "execution_count": 33,
   "metadata": {},
   "outputs": [],
   "source": [
    "# REQUIRES a Gate class — still needing updated\n",
    "# from proveit.expression import LATEX\n",
    "# intermediate_q_p_e = Forall(\n",
    "#     k, \n",
    "#     Circuit([[Input(ket0), Hgate, CTRL_DN, \n",
    "#               Output(Add(ScalarProd(inv_root2, ket0), \n",
    "#                          ScalarProd(frac(exp2pi_i(phase_, Exponentiate(two, k)), \n",
    "#                                          sqrt(two)), \n",
    "#                                     ket1)))],\n",
    "#              [Input(Ket(u_)), MultiWire(n_), Gate(U_pow_two_pow_k), Output(Ket(u_))]]),\n",
    "#     domain=Natural)\n",
    "# print(intermediate_q_p_e.formatted(LATEX))"
   ]
  },
  {
   "cell_type": "code",
   "execution_count": 34,
   "metadata": {},
   "outputs": [
    {
     "data": {
      "text/html": [
       "<strong id=\"alpha_l_eval\"><a class=\"ProveItLink\" href=\"proofs/alpha_l_eval/thm_proof.ipynb\">alpha_l_eval</a> (conjecture without proof):<br></strong> <a class=\"ProveItLink\" href=\"../__pv_it/theorems/62fd6ba9230be61f92f51d8a97885b6f30fec38c0/theorem_expr.ipynb\"><img src=\"data:image/png;base64,iVBORw0KGgoAAAANSUhEUgAAAfwAAABLCAMAAACiNMVYAAAAM1BMVEX///+wsLAQEBCIiIhmZma6\n",
       "urrMzMxUVFQiIiJERETc3Nzu7u6qqqp2dnaYmJgyMjIAAAAld9JPAAAAAXRSTlMAQObYZgAACudJ\n",
       "REFUeNrtXYl2qzgMZbzj/f+/djBbwBJgMB3OkPid9rVqJBNfa/WSpqluTDwkoLrjdzUtC0jIi2oa\n",
       "DQ8JqO74bU26AhLyoutNRP2MgOqOX9cM4cck5EXXm3IPCVjz3WzO/p/NE3NMQl50tTn1kICMz9Mf\n",
       "9k0TZAEp3KUnOvpnBEx8jrXMpKnAEDmi/TLweRTHJORF11pLHhIw8rnO78sU+CH2QzCmvk71QwEp\n",
       "3BMpi1rFvypg4lN6iPwM+n7414HPoz0mIS/6Pyp+o3jyALyxrPE/8JNWqwJSuGNcdHTPCFjx2Wga\n",
       "zaj+gZ8C38iPSciLzjdWm2pfFbDiU5uB/heCb2J7TEJedL7F8JCAJZ9jzQ/8hUOE+gRJbX2BzEb6\n",
       "jIAln19iz9upmW8FHxlTSKpGrsuxaufPVQELPt45fy5+mr+wiqqAFKtHJpKHBHz4RLDWtlv1SvuN\n",
       "4AeoUZAUavXWRna/AFtQeV7wkZjaRkrAVJTfV/Wl0KRDEq21+6y2VgAEGOlkNH/f8aubgFE0JIna\n",
       "WF1Fc78AXyC0uuOXO/1YQNoyl8UZZaXLRwUUgF/Vsd8pJ6fAUTjXou5QzKrCwpqHkzzg1KrrhfZv\n",
       "hP7tPDUSc/rimBTqVnd4baUAFVAAfk3He7t/dHKDnWiBh4nzc1mW8UxzkXvmB4fUppEdXsb+Vs15\n",
       "QLyiPyaxulUZV1vbRQUUgF/RMd8LJ3slCsmyHIQcds2jx/H3ovGN6Z+tnw7Wfr7/YXwnYXhXQEJe\n",
       "dKa1tWEXKqAA/OsdG7Jj6wzLE0SuSPdvHCQ9mxul+VRZ6nlsoGkrqeBNWlwyfn6tXHz/w9TOA8uo\n",
       "mkMSr8v0Se2eAFRAAfjXO5Z7QPAx+TFh8vm2cc2cEX3AJ14bv+Bhvv9jIo1ffjBN7eL73zWdWzMD\n",
       "gzlIMnURX6yNuVEBBeBnfCFuNAozHg3VfWidLRndtZGmD9lGxWbN+FvCt6fyTtGnV/Q83WSx3R+d\n",
       "916mr246DItmYfF9x4sNe5HQab7p3yih21MaGVhIqoJPVyYLGwKOwc/5bIfzyhSYzixLEmFOsL95\n",
       "bdB8w0zvtvun6LBVU7DXa36iUtoEY4efe54OXclXmq8aW6z5814kDOLtlVfFF3Pa5KaRQ2vJDymn\n",
       "YvXKTA8XcAw+4GMR819e5aGB3i9pDlmTigtpnRGQIjf7THdmnS94uKOpJ2174NN/bthcUOTzp71I\n",
       "Z9PkxTAFmqdxHuZ6/pByJmGurRHhAugh+JCvAwwbYRb2f0ej/bNRxHJW2g588QGiLNqf9iKd1Jzl\n",
       "dPeZNkiYDkGSrEnWXG2ajwlgnbkOzJ/kE522YjzZcS5yUM7WF8rdKx7t3dJQl+f5dprxegxgRB7I\n",
       "077MROwnUOimmZxNGs9MoYSJvsQooaj4hYxsrMxhrgpA+Hw3Xpjh9Gurf5Qk8AtecJvnRIVv3ovE\n",
       "hKAp6sizOKuT3xGf8lPwln9MfxYYImoFST3FzbMpnAr/2lrwrwrA+Np4nLb6iCUO/0k7jPfHkkEH\n",
       "QBctsLmCkMDvf6Djl5vKEVEuZ3IWMDroUCGpp8yBjD5nxkPtgu5VARif6YL7I2m3beK/+2TYUDES\n",
       "RA+5gf78msDvf0ig2wH8/ndBaGuXgVIWNykYSimUMim8sycxcLXgu/v4eKdfR5HVXdWWm0+GrfYi\n",
       "dRrIJSzeyUHx/fQWadvh3+hPzKDXNk5Bs6dQincmNX1SMVQt+FcF4Hyuy+v33dbHNBhJrpwOHRf8\n",
       "8JNhp9v0EOu9SJ1oQSD4Plip+ed0dUvT8hP9RLx2jSuB4BOcEvsdj2eHQ2UVNEcp4zUCKvm6OHk/\n",
       "lZvZDFGekvO2e1rwu8V9zA+x3oukzPCVR/s8RNJ+hjdVoCUVn6zfZ2UvmE9EnDLEDv0qtpHFZTuy\n",
       "6lCndNV07qhzTUshLiwa2xFQ3jb4ktt3u2WR2YYmE6HPVzfHBT9zy0m3sw+x72vW+nAGfN4HmwEW\n",
       "D9Ijtqn0zA4xGOxGy/rUpmzTbDn4pogvlXl3TM/nOPAwUu2VqZcW/PCTYWffydmHkLtWdT3tOQQf\n",
       "kiZKwor6T9aRQkvHkmdLtUdn0Fx1FWCxYQqzkOLRvWMUWwL2S5mhiI/tuv3ZL4ox/7rg9fsFP/xk\n",
       "2Ml3cvohlCmLZ0ZcDYTa4BTnZ0c2TEXfWt1XGrrxEl57HLuFqSFDJO2IM8XzOVt228mOldzhW0UD\n",
       "O4O5AN/r1M4vag0LflVBrmxqH6IA/H8g+JA0UXRoxPhUfc7Al6JY4zaw84sZ7caQ285CEJ8vNwWc\n",
       "eqObfHqv0pOb/Qt6Oy743QPXnfmiWU96AcGHpJnS6tGlDGnG0sp6bcWxy56uySAfITf6/FI+T/Te\n",
       "AM011ME5nLbdqwW/2nb1IQ4m9nmf38Uwai4eLPYzpZ/phuKvMy7WK7V3sRGjkP881Tu8bmTWDqOI\n",
       "8448e5zj1ofI8vxz4M9GqO1Xj9Rw1nEoJicvjrmmNQYu7WPpJoGjo5A68IM4zycOAshFZs9UDL55\n",
       "uN34EHyd5pwE34/oEiGa5SI1tyI9n9NYUWXL/w1CjtPm7ehsd//sBp850qL2vXc2ZjtgkG0ykAQp\n",
       "cVg7Ep9ojzUbeXu7uZISmyLVBwIMY22/4X3/gOVGx+Eov3TkteBnb+1MeXdpiob9SdOKkZdSOheU\n",
       "PAU+c/wK+P2WKNcZMM1U2LlWF++4PQw07HsPeWV51IlVPazRyefvlJxq1/NzAcMWVpLmY7BnO3Zo\n",
       "EcSufYl/Kfb5Oytfz78cr9Ru48oFEDVAq1eFgrKO8STPr+dQ+9YbWrMVXWyEIKkKP1oLfi4g9GZZ\n",
       "dvnafqEA6RhP8jjJZ8hLwc93pkroGCFJ1mzGsbW7d3EB6fg1lY3RJ/g0luQZBgLKtx7rJzaPihwM\n",
       "lNwh5VRhoVKRUAE8PRLbrCyhfAYebNFW5kc5mtde0E8JSIZtc0gKNapgak/soAL6xEIs9ikU8IW4\n",
       "XEAIiowLQwqpQLxS8fNAFjnMCEl1Ry1j7Z0+iADGzvOx4rN6jX+j6gN7ZuC6DiSZuqOWqvYOTyiA\n",
       "sj/uuH3f/UwaJDoCmlRIEnWGW9bmzUBAf+WF1n/YsVFvM/xGAdeNnIODpMrTdrR2434uQPRx2/E2\n",
       "mZqOtXrZB/MgG2ccHB9IcnXoVd/mlQnQyjnHpPrbjvW7VN8gHhC5uQSSau9VqQ33MwFhK0Y/6pii\n",
       "63nUUdd8ZUNuqoOk2uvsqq/wvCog51PI9E83o9iv/MQt5KY6SKq+R8/VRnxXBWR8BpvE/YT4yssa\n",
       "LVz4giRbuyzHnxKQ8WHbDUxfwiDfeE2rhN4ckmR1qZvEhwSs+VYXFcxBYfIMyn8h+MigQlI1dA2r\n",
       "vYztqoA133RRgZw/acGPlxSpL/ykRQ3NKSTpWB0O8dqDulcFrPnWFxUsNZ98IfgUGnRIojcscBLy\n",
       "kIAlX3ZRwdLnR/594AdSQArkjlnGnxGw5JsvKpDzwp7/3mgf+bA6SKr+SLzR4j4kYMGXXVQwTQn2\n",
       "nXk+gxMektgtWuFqpVwVsODLLiqY0XeOfR/2BmoTJJko7+nLPSPAxC+t3R76Q31MolHf1Jl5RgD9\n",
       "fdQKGgmzAhK5yyQS95AA8lN92JCbiyHJ36Y31edgrgqwP9VHnCE9JpkbrwaQ7UMCZPtDOx+SUECS\n",
       "d25kVPYhAer36XrrxmEgB0k83rmXSRDzjIDqjt/WkH0NkKTurXpy/ZAArn+AL525LSCtKP8CIcSA\n",
       "BDe70wwAAAAASUVORK5CYII=\n",
       "\" style=\"display:inline;vertical-align:middle;\" /></a><br>"
      ],
      "text/plain": [
       "alpha_l_eval: forall_{l in Integer} (alpha_{l} = ((1 / 2^{t}) * (Sum_{k=0}^{2^{t} - 1} (e^{(-(2 * pi * i * k * (b MOD_ADD l))) / 2^{t}} * e^{2 * pi * i * phase * k}))))"
      ]
     },
     "execution_count": 34,
     "metadata": {},
     "output_type": "execute_result"
    }
   ],
   "source": [
    "alpha_l_eval = Forall(\n",
    "        l,\n",
    "        Equals(alpha_l,\n",
    "               Mult(frac(one, two_pow_t),\n",
    "                   Sum(k, Mult(exp_neg2pi_i_on_two_pow_t(k, ModAdd(b_, l)),\n",
    "                               exp2pi_i(phase_, k)),\n",
    "                       domain=Interval(zero, subtract(two_pow_t, one))))),\n",
    "        domain=Integer)"
   ]
  },
  {
   "cell_type": "markdown",
   "metadata": {},
   "source": [
    "#### *Evaluation of $\\alpha_l$ after performing the geometric series summation in terms of $\\delta$:*"
   ]
  },
  {
   "cell_type": "code",
   "execution_count": 35,
   "metadata": {},
   "outputs": [
    {
     "data": {
      "text/html": [
       "<strong id=\"phase_from_best\"><a class=\"ProveItLink\" href=\"proofs/phase_from_best/thm_proof.ipynb\">phase_from_best</a> (conjecture without proof):<br></strong> <a class=\"ProveItLink\" href=\"../__pv_it/theorems/70c6814b40b8ecb5525c9695cab5269803b4194e0/theorem_expr.ipynb\"><img src=\"data:image/png;base64,iVBORw0KGgoAAAANSUhEUgAAAHwAAAAyBAMAAABsYqKRAAAAMFBMVEX///8QEBAiIiKIiIjc3Nxm\n",
       "ZmZUVFSYmJh2dnbu7u5EREQyMjK6urrMzMyqqqoAAABb/SrcAAAAAXRSTlMAQObYZgAAAqVJREFU\n",
       "SMelV0toE1EUPUk6M5mZTlJcWEWFVFAKughU3daFrjsiCBY0gdKFK4O4FBp00YKLTPEDrlJd6UIs\n",
       "ghUZ1IA7RTJLwUWr4k5JwfiJktZJ3psaJnPvGL2LeZPce97LO/cbgJR0DYzoRfCywKtf8epUd3v9\n",
       "do7Qa8ss/J1YTJsyuMvebbdYs2uUxSLHjSFPrTuURWaEgTck7DJtMs7A98l1ZeIsecJREq01JQW/\n",
       "nCpllSRZRXJJXrCFbJ46okXCVyWtyjKqZco5X0j4CWy5vU66ziXh2+WaLaFAum6SYsX6HsBr+ih5\n",
       "xlSJCnhJPNSSQfOboLLOCCJKPzkfpX/xuWtFpVNiiU0n7dMDr1MR1gl91WbhKvTuLm3K7dGh8iEo\n",
       "RIIzi3J8Y42FDwtm9a8EfM5j4Xgolm/IeBh+fu8vAyKAX5sUgfwTaeDtpdnOfdyuCM4qDge3nhiC\n",
       "8124CBR9JkNSYOGLnuR8G2xoDpSw3XmxbAbS+XDVdcdcd8V/m4Yl4GMoI+XfhYATp4/Cakm4jdfA\n",
       "6T93L8b/eL0NTYTrXsz7G9zsc1OFZb4NoySpMx8//XiwP5N7NzS9EPwKXm5VhQubEQV3rrcFVMOn\n",
       "pydkSvhRp0TlfEPCb0zfB973R53M5h9+bkbF52op6MKV2vEDZ4Kvb4Vqkp8y9SiOsuLXKQ4SI3hG\n",
       "tqkN4EhkmRfdN5GD2kSTHCAojSJi2mxBbVtkK1TXYxtIspUqXh+0pFkbwVu9rOSpNjOVj2sT2A9r\n",
       "xhu0TaAQkMDVzDukpi7j5jBXcOkWKXt3xsYxevaiG7Sk/g1waPAe5cuOzmNofOFUDv8wnIjRyPTr\n",
       "FA1/xNBi2jEzKzI7GeXQnjg4Oxb2ZDkhs6xWiZm4Nb6HY+a/BnIo/N+Bc53nb0JmtldVtDmDAAAA\n",
       "AElFTkSuQmCC\n",
       "\" style=\"display:inline;vertical-align:middle;\" /></a><br>"
      ],
      "text/plain": [
       "phase_from_best: phase = ((b / 2^{t}) + delta)"
      ]
     },
     "execution_count": 35,
     "metadata": {},
     "output_type": "execute_result"
    }
   ],
   "source": [
    "phase_from_best = Equals(phase_, Add(frac(b_, two_pow_t), delta_))"
   ]
  },
  {
   "cell_type": "code",
   "execution_count": 36,
   "metadata": {},
   "outputs": [
    {
     "data": {
      "text/html": [
       "<strong id=\"alpha_l_summed\"><a class=\"ProveItLink\" href=\"proofs/alpha_l_summed/thm_proof.ipynb\">alpha_l_summed</a> (conjecture without proof):<br></strong> <a class=\"ProveItLink\" href=\"../__pv_it/theorems/7ac0c088d351a3669c3e4537554f91e5e0eae8d90/theorem_expr.ipynb\"><img src=\"data:image/png;base64,iVBORw0KGgoAAAANSUhEUgAAAWsAAAA/BAMAAADUAPQeAAAAMFBMVEX///8QEBCIiIhmZma6urrM\n",
       "zMxUVFQiIiJERETc3Nzu7u6qqqp2dnaYmJgyMjIAAAAcRTyBAAAAAXRSTlMAQObYZgAACE5JREFU\n",
       "aN7VWmtsFEUc/9/t7T32Xo0RoQ2kNfpBjKbng0cIjzNG8YNJrxr0i3IFlERibFGiEZE2NiYFYzhC\n",
       "QilGu6WxaD/QEmOUQMK1NSoV6AUTkQRsDSoC0h5IhR7Qc2Z3Zm93bzuzx+mJ0+zd7szczG//83//\n",
       "C8Bpx9jDwSoorvlS6qVv/oT+aR/+eJQ8uCK2VvU3sMe/KBI1fEIu1LZrnS/pZ7jxS3gped6xterW\n",
       "GJtW04qFfZZchoPdo58hjeCP28lTR9TOqq+yhz0F8Uhg/gLd00yFySLqNdAsB15TeEWcdw4C2rJd\n",
       "aYB+fPMIYRxXuZ2NRtjjRwui7CF4Rfd0t/LeCeUKJNwjoPJjAKIgldFJLtTZgW8EimSxjY3a2Ufi\n",
       "u1wQ7DchnjB1taqXJyFOSCowJ6b5Lxrd0EmEMAjpGunp6eVv1MIe9jYVBHtdPhnuUi9P1HfZH1GY\n",
       "RMLiMqDtkFKhA/TRFynj65EJ9vjBRIECeFBGRzSWzY6j+wu4431ygT/je1BZzf8N+viJ/iCM+oLK\n",
       "MfQQfpcucXcJcaj5e6F6A0u4sOzeBTKF/Ra5csK9xpHS6dVaTQkHMqRrSObtEk8xh8UbBaJGx90J\n",
       "sjMRASmCYHcCYL2m6DaVLTohkHIjnojTX9yDt0krckQ3a0/xtqlnD7vT9G6vmQJ7LUnyPSJfAry+\n",
       "CIjlCDa6p7CDqvWrTYRldxWG7WpBbbNiXVTYMEpZgKPdQPqLPd5TR+a9XG9EmddBtFnSha3XDpfy\n",
       "OwOTPAmPEWZG4gmwlP5kWkxVgqhVE0FycgQOghz9NqzphWEzymEr2Mv3f4m7F4llYBJJ8fz+zcSA\n",
       "ycv1IpmuoiIJPUlCk+sc2N40e3wL2IfdNT0Jldksvl2P/ijsAfVyZLNkL9/KQfS5kP5sIaKMoOIN\n",
       "Uc33Mwd2mKNIrtqHLU0/dofVEktBxxG59qtBn6l+UWCcqhK2nwQ1Seaw67p92O4KaLfiG2LczUJl\n",
       "8Dt3k+2owq7hOEJDbNMeuGwfdrhKMXj54hPRtIh+ZQOwfvIu9HB7OEwwxlbsoQwP9p5R3PCJx7PZ\n",
       "rOXZbSKXoeU7rritpSfEMe9XOKzfYJ/a8RNtbTInTDC+S04xUB6qJzdutgb0XeW4h00FMYn9oCxo\n",
       "YPYT9KaaTHOyjbP/T45fFLEPW6gAKNTvyjMThMuCbMXt5Pha1TkKVpthmzuktUf6io2Wa4hRdrGN\n",
       "t3CNvcwSzWGfW3naeM55HSA0Xig27GwnsumbBFBuT1l7ShzbXh+FkrYw1SAXAb7D3+esFRzHZxlL\n",
       "lBa2g/oalcgdw1S31t+ODHuZSrnEsDO5jUNo74B1VBnmeFLZ0qIGDz39xgQEB7u7W+F/BxuutrRs\n",
       "YMPuvyt6S8AOURdwDLmAL2JbKtVPDbs1KpVLvV3Kw1HFyTj938D2UthbYjiXiX0V4vO6Zww0a7av\n",
       "R1U46CyanbIrL4cpXbSK4/5N2FQhb0Gn71HyQCjCkA48lPIkArtkI2wBye/iAMmxWMHO0qb8ZsTQ\n",
       "9U+1fNiBlEeN537c1w1+eP7DXISr8IUDace+QQtvWbJiEk9diajtG3kG3U3QhHckaeJtHHkO9Srp\n",
       "Icrbv90CIgmbXkCRcxmEVO/qg5gJdjil5N9qbzFNAp8hYXM24RQRarsCZk0i1EFwSFTSQyzYoVgx\n",
       "iMwed6vyvM/EgBR2Y4x48N4qeLalpaUKkoOw02RMD59KCf1WxQeDce8pipDm+MarEMGdmNrcQBDt\n",
       "7lgGbsWV/TwFh7Rpep9kWj41GwnszvnvFlvEOWt2P4xRZL4rRfjBCQGMSxAgp6A19U7TQ+bsjvom\n",
       "Uh0K8bdtnGMX4kCz/pS0UsjTG3XdOwwxu9nZ0LhT+ArgPfT9w+rDZ+osw4SF0anCBEEGRxmct4ta\n",
       "qXfkmlYKSbp0vSfVrw5jypEQVDKE5k7M24YOTh6YhKSOBhxLT9iFjesd5j7sy92v73iYyLmBVnHi\n",
       "X4vs0NzPyREeTNJ0iXtcLLMNO5pf8cGlkA698DSoB2k0zTTk5oTmIidPHK/LCa+z7lPb8ufHov4R\n",
       "Mtkx0OVdD+idnn5VhwRHLE6XywWTnNhuJJcsFKqS9v1mzItznursBshlud3yLIsXNPhvS8h5COPs\n",
       "9Rs522thxOsgrrRvbgZAikgwWwB9KeQIrNLIobpPaa2OQI0jtWyc8GUJG4r21sIU9Xt/BVhnK8Vy\n",
       "gKZtoC+FZGAlPIELH0QNKgV4I+wr+Uk8a5ljF3f8N3QSZdG6vraModV6h6/pcdAzSRrWGWYpBXiD\n",
       "ky9SSYxz/suhh+2F0tKOPwJtlhOCVrBJvUNI1eZgI5FcL+bE77lvE2oB3iCSTmpGqjl1YA/nNN4g\n",
       "uwDMtgdbWrGB1js8skfWYKMgZft9OSPZJDaoBXhBL+daXa6eZ9A4NmRIUVO+DYfnNtiD3fH2nZYH\n",
       "aCqDjEhp1R0xuJUOms2ZwXMnObnLdsWqhpDU24S9QvZlrC2nWfGpBfjdhswlkTQXt4h7huO3c5go\n",
       "D/YlUmC3UC6GtiehFuANrhQtdbozPNjDbA0YHLcDW1ICuVG0lIjOxdphMJZBpDVg4bhSRRLm/rtU\n",
       "mGP6rhdGbfFGW9tOG2FCZ7e6rzdhRaNhrmELVLDH++SCmcROUNZIZOWEgSMp6Uf5dngmJweaLAz2\n",
       "AzL4bjYAqiFEdo3z5w4XSE5jc5qHd888edvNwj5NqW7jPwFDHOb+g+mzrJhcZOqaN5m6SdSaf7NX\n",
       "5k8WOQYnXrKCgoO+7yw7s49zdEVDqWCvpibeVrbOzeGkVSVCrdHnuL35nIg81Fsa2FsJN/rK7c3/\n",
       "mD0sxUoDm3rGPhX+30mX3rwYuvn+AAAAAElFTkSuQmCC\n",
       "\" style=\"display:inline;vertical-align:middle;\" /></a><br>"
      ],
      "text/plain": [
       "alpha_l_summed: forall_{l in Integer} (alpha_{l} = ((1 / 2^{t}) * ((1 - e^{2 * pi * i * ((2^{t} * delta) - l)}) / (1 - e^{2 * pi * i * (delta - (l / 2^{t}))}))))"
      ]
     },
     "execution_count": 36,
     "metadata": {},
     "output_type": "execute_result"
    }
   ],
   "source": [
    "alpha_l_summed = Forall(\n",
    "    l,\n",
    "    Equals(alpha_l,\n",
    "           Mult(frac(one, two_pow_t),\n",
    "                    frac(subtract(one, exp2pi_i(subtract(Mult(two_pow_t, delta_), l))),\n",
    "                         subtract(one, exp2pi_i(subtract(delta_, frac(l, two_pow_t))))))),\n",
    "    domain=Integer)"
   ]
  },
  {
   "cell_type": "code",
   "execution_count": 37,
   "metadata": {},
   "outputs": [
    {
     "data": {
      "text/html": [
       "<strong id=\"alpha_l_summed_abs\"><a class=\"ProveItLink\" href=\"proofs/alpha_l_summed_abs/thm_proof.ipynb\">alpha_l_summed_abs</a> (conjecture without proof):<br></strong> <a class=\"ProveItLink\" href=\"../__pv_it/theorems/de5257889eeff5d8143e90c0676915f36bc966ff0/theorem_expr.ipynb\"><img src=\"data:image/png;base64,iVBORw0KGgoAAAANSUhEUgAAAUoAAABSCAMAAAAFBW11AAAAPFBMVEX///+wsLBRUVEGBgYMDAwQ\n",
       "EBCIiIhmZma6urrMzMxUVFQiIiJERETc3Nzu7u6qqqp2dnaYmJgyMjIAAAAE/rkhAAAAAXRSTlMA\n",
       "QObYZgAAB79JREFUeNrtXIuWmyoU5bYFBOT9//96BUUhQtThTGOaYa3WTFAD2/PicLYI3aUx9Cbt\n",
       "/gPF7wIl/uQRSlse5z/47jwtW3fIez4ZSjWWx7lZsj+TN7HMer5voJTdHUony2NsRlC7B901H4er\n",
       "DbQi2R2NuNdJpaEjVY27mU38aHFMF4nClVDhwpdmL6qKe1T05APlBtCdefkyKM3007zxJMmwfhQy\n",
       "P6aLSgGcEIkXqMooBlH25KcoPIBBKcAey3UoAzbHj1KK4pgu0hRlCk7SZzdUZL/sKQZqsQKavxEv\n",
       "dDtimpz0R2JBaHFMF0lKZC5drMAtb6Mte8qBOiBzKb19sQfXfpEK6XxsCyTOPiCxHvOLtm+STNi9\n",
       "wVjkfu0pBzp4GLc7Arrdr91KkDWQYERRlTDaoBS6POYXrd5DITxfoHdqxpaBrT0PA3UgfpcBCuXX\n",
       "oIxap6b/JggnhY06GP6MUMYPKDmGzUHkShzPMdPJnC5T2hmIEZU9DwMdvL6ZUKI/SdcuGPI5vmE4\n",
       "quA42b/1zwDl/P0OSksLmZvOCfrOyQbYMKY2dYzkAco/j2GrgLCUgFEV+j0HcYb701AOIYZJpkqO\n",
       "aNhcQFvBi4sWa7i4ozXyKbSFsbLn9+Pz9P0BEQWLKXO9saehZE5rPaazp8ULwxUoH9xOedGCspq+\n",
       "brkdj8gztzM9fj92T9479BIoFccxnMXRZWd4xH+PUCbLuBzLi9L6j5jlSrpTNGqGsmdn1cZukdKe\n",
       "vARKhYUl+HQ4lxRzOGXSHDvswfBAcFD9Pg8lD35Jnreo5cLx4DGJ4569r/W9jsfD5nJOQznLwHg6\n",
       "DntIZzwPrshxz37arlOotKffDqVyWWMpKJnb+ehhlOXxiVBeTLKl0LNTwylIaHpdKqd1gQztfPRZ\n",
       "T/0+A/1pD64Mqc8BC69eqeCXAuDahkTNFMgzPRW75n3PzBWwqTwPJZ2XQxK9qFXm7bpyGgNAYFod\n",
       "ITkMhgQ21mByIyhpVzLCgK4a1xFSjr2jBwOjwjuLbgQl8T1ZyxHY66Bf6E3ar5qK9kSW2LNvf9j3\n",
       "bLjmOHr8jgd24O9dndGDhuzz//8alLgj0TZAx0LvDaXrcOG2DPBZS76Z+ggoeUc8Y8qw0rTk2wwf\n",
       "ASUN0dAmXPaKjNIykvp0KKNkmTU8dFec0PgDZQmli7tLi0++tBB0ZYrt06EkMUZPwmj0NSjND5S5\n",
       "Fw5QWqNCk9eWPuIHyhLK+K2Pm+cXS9JEmTVcEDOE0OETodTzioXHxXRMEy9lmaeW4HaHmAzb8gpL\n",
       "pPR6pwxKk+8u7Dcz6LtASdtQDrHuZg6KHnY4OR5DkSw9B+Us2CNFRK13MgP6hDYs6+gwaVIUESpt\n",
       "aEgahv1Oo4iqrd/1I5R0XtJTF2po050+B8o4+VDItUjjvCVqRy1jed0EF7PVHRG/t5V4jqYMjpUO\n",
       "qcDzEEr/ti2bxH8LlNIhtgTccUN3oIVlMHUAHhVcLT7dzPK6bA23bCX/t6SSpSzbKPk847l+KU9U\n",
       "WKnZSbezfGPwdicoBb8fF47VbSXSdNHvWJap8kpOUhfKWjBEo6RZ48PvpAJPGCjvFyjhBpTr1nIs\n",
       "y2RiLtMMnw0Khq+yfV+LK42xISVCQ01IKvC8PZRHe+NSrCc8YedtUNoFq7ksc7Njg2bhRkZeXjim\n",
       "As+7Q3miYmPT5TY7b58Jn8syDdt8DkX1crrxIJ2RCjzvDqWTF367XThkd1AuZZnjEjNazrkxTvDr\n",
       "UKYCz1dB+YSzVyPtJWJeRcFzsW2Ws5Hm7i1JtrLZOHi+EhTKZ5y9GmkvEfMqiYrckNXZeWjJV351\n",
       "IVpuSJBWuELYS6A8x9lbSXsbMW8/0QLiOjtvB8elRqBLhoChPMXZW0l7GzFvfyekC7tRHxHvKDbV\n",
       "sDX961NncG6nxdmrsCc2Yt7eVORUyCZNYuzYcWT+O7yq8oAevMXZq3B6NmLe0eNpsfM6KqgUYHWG\n",
       "onScozct4KCscfYapL2MmNfMsyQJqo+oq4LKg/EjFI8uMPCKhau/PmLhwnVz9hqkvUTMKwh5DWUs\n",
       "R7QJVkcFlfBQmcg5/sPhObuGmvxGgJy9vYJnxLyqn8+Wf3V2HuvSUQ7GusVivp9cM3MtBYfh7O3d\n",
       "TkbMqwo4OXI7tssJEzCuiYsA8cnaMIw6oTzD2duT9jJiXvE8jAk7Xvm7XxrsPNMFBgOOhgLhgnCk\n",
       "ZA+UFzl7B2S9MWTJUPHulwY7r7MEGrbAcgiBGW1lR89CeZWz95ys5+boLEtitNh5ncQbB0pxjCkT\n",
       "xrN1pvoClFc5e4dkvRCdZe9+aaQzeok3BvJtD/v9YZUbkAqUMJy9A7KeCjm47d0vrSSb9rxTJeG2\n",
       "ughtyOk1qbzO2Xue+lVctXDHZTTTyRbBYMZSBySlPExnfANn79mGRFhs5gLeZOd1I0Gh6CYsjpcA\n",
       "QAnL2ROTrRAnclWyWz8HID6ZFMYYysVxku1GnD1chNjdbDAMkxxaUmCHUN6Ks5dP3fXjQPzfKgi6\n",
       "H2nvV67fANrp/1a5yq1LCigEr85Ak/PeEUoFIlAKmsj8jlASmFUf+UtieWcoMVCGDJtPh9JCSZP+\n",
       "O2J5XygV3CvA+PjZUHLArK3QnwzlAJlpZFh9MJQCdJEyyM+FUmn0bg3/jOgHyts1+g4j+h+DfXCR\n",
       "QxN5EAAAAABJRU5ErkJggg==\n",
       "\" style=\"display:inline;vertical-align:middle;\" /></a><br>"
      ],
      "text/plain": [
       "alpha_l_summed_abs: forall_{l in Integer} (|alpha_{l}| = (|1 - e^{2 * pi * i * ((2^{t} * delta) - l)}| / (2^{t} * |1 - e^{2 * pi * i * (delta - (l / 2^{t}))}|)))"
      ]
     },
     "execution_count": 37,
     "metadata": {},
     "output_type": "execute_result"
    }
   ],
   "source": [
    "alpha_l_summed_abs = Forall(\n",
    "    l,\n",
    "    Equals(Abs(alpha_l),\n",
    "           frac(Abs(subtract(one,\n",
    "                             Exp(e, Mult(two,pi,i,\n",
    "                                         subtract(Mult(Exp(two,t_),delta_),l)))\n",
    "                            )),\n",
    "                Mult(Exp(two,t_),\n",
    "                     Abs(subtract(one, Exp(e, Mult(two,\n",
    "                                                   pi,\n",
    "                                                   i,\n",
    "                                                   subtract(delta_,\n",
    "                                                            frac(l,Exp(two,t_)))\n",
    "                                                  )\n",
    "                                          )\n",
    "                                 )\n",
    "                        )\n",
    "                    )\n",
    "               )\n",
    "          ),\n",
    "    domain=Integer)"
   ]
  },
  {
   "cell_type": "markdown",
   "metadata": {},
   "source": [
    "#### *$| \\alpha_l |^2$ inequality to bound the failure probability:*"
   ]
  },
  {
   "cell_type": "code",
   "execution_count": 38,
   "metadata": {},
   "outputs": [
    {
     "data": {
      "text/html": [
       "<strong id=\"alpha_l_sqrd_ineq\"><a class=\"ProveItLink\" href=\"proofs/alpha_l_sqrd_ineq/thm_proof.ipynb\">alpha_l_sqrd_ineq</a> (conjecture without proof):<br></strong> <a class=\"ProveItLink\" href=\"../__pv_it/theorems/32d1dda83b6cb2ae9e4ab7b0243fc886975d43ef0/theorem_expr.ipynb\"><img src=\"data:image/png;base64,iVBORw0KGgoAAAANSUhEUgAAAcUAAAA/BAMAAABjkc58AAAAMFBMVEX///8QEBCIiIhmZma6urrM\n",
       "zMxUVFQiIiJERETc3Nzu7u6qqqp2dnaYmJgyMjIAAAAcRTyBAAAAAXRSTlMAQObYZgAABqBJREFU\n",
       "aN7dm22IVFUYgN+5O3dm7p17Z6yIWksciyJIcHF+KH3oUET+CByDNCJyoyTohztsXxjKDkkxGrFT\n",
       "gfpHuhoZSLQbJiQGjrsSpMIO+aP6YTtiH+DC7pa75m7qdM79mPvej3HvbnPfgQ6c3fHdc8+5z5z3\n",
       "vF/3CkDcfiBcK9oF7WjJAuVq77SF8cM85WoHcu1g7CVdLdrZBkSlRrvemjYwfkKsPAOD9Iwlar1Z\n",
       "RG9VZ4gXlP8iZ0wVqVcc0ahX3FxtmUYsDmgAqtSMPa2a6NB3swE1p0Z9Oq60bCo1IKNAbQHUKXJG\n",
       "+RoxY2KSnBEuEDOmi/SMI3laxvUVP+nwTi1ExvUZYmflF8kp5VgtRMYBYpc84bdh8bI4EyJjnDia\n",
       "+9v3JnLSVIiMMVrnIV1tErPMhsgoXKeNyC/rv0Sssc/xnVyAWRCCMqq0DlIwkgAFW55T3LDOf6qO\n",
       "F288GrAUwGIr3aadJ2Hs+MeXUQ21eibdADjDP1wiYYxN+TI+BU/YW/1Gy1f9E2AfZ6XxIakZP0Zx\n",
       "7Phu619fhFDSWsoWZhZAoal6RGb9GCP1uhXGfrwjhFWXaqCePnx4L1G4Oulvc6y2ZyyMVfvKAFdL\n",
       "pe3kjEP35jyMz/4KYTFuAdg198hXWzDCZtybkzvlwUOTmDHxbkgBJEs8Hge5BnKjCvF8FecDeyyp\n",
       "XT4Ri9BshPggmptNtHy5Q2QzMsXZKWjRAmYUerVQGPsZYxwEhvWk5U4WO/KBxlOmtxuI2ULzETE7\n",
       "eWITqZVkNxYNLDIZO5jxWaOA0uXQVXW7BZmut6QZX2k/OxVKNW7EGvK32SokazgfUF6rYsaYHjgU\n",
       "mo+wr+Yf4zmYxaIGY4SpwsnTkKg6bU7yYjmMfWSMUm0j+/QBwE/HDuO71POBgmMfEy5Gzwgn40Ae\n",
       "7nIwWro6wPZ2ZBDSZScjRH9vWdKurH4IMcKul9mPGfOBJLollg/wk5rNZh/2Z/SOcDJuLsMOLGqc\n",
       "xzTbwJMAG1y+gx2EUq5FjN/DVmRz4Ai7aXERpMDNGM8ku6o32UfvCBejBr2+jB3doI6I8ICHEaQt\n",
       "LWLcxr9hmzHNUhuhCJ8aMSUquQyDtNIc+PTlQT9G9wjZft7HJmKr3IpFtl09e77aMaQ/5T0Vki9+\n",
       "vfGIrI8zqsycJTKwqVQqZcSdTLCOfSppnnxg6/iF8fEqZvRmDJsq5tV8InYep3RRk1ju9nx4jAAn\n",
       "NDsGMJZ/xjCaeB9xPmC6adc+ekY491G3q0gUdzFOZsJk7LVjclONBFDyzvOI8wHMmCyAtBv2adJu\n",
       "7wjneRS6mH9EosS0k/GRHGb88i3e5p1b/dbMsFo6Vm+kr2yt9513ifIBzCitupIRO2FDWez0jnAy\n",
       "wvJhh6hJjjx3299cJuM7eOwoHGO/eIdzlmo5CmUCO48Ou+ppiTkrNjXPRyQyy0cCdoL3NZlJREdd\n",
       "LoLQ5/KcTCZnS3nHuzDq1/35GDt9vEcrUeMK8erN7rLljMl5lI/i3Si3Zvc86s63y3AIlClp1UUb\n",
       "PgYyj731/sLxbzRcKGtiNXxqI3NWMyqeiZBInMejuWWIkavdatffmYwFMrdACqX3CnfVQ0ZfWq83\n",
       "rz1+9B8evIpnPBM5RDeCV5p+6cb+HJijdft4uAOgp5xGIW6U11IOmL1hBKZJa4/QFzzcTNmMEjty\n",
       "kutOuWxCg578Biz9gytxzugNpZ6kZVwbOOT+GTEKzPyorjsVDJPUp90v2xt5cEXF8BkKMljpAi3j\n",
       "iaDnQM4gRp6CxVyVw4Q+U/QarFTsk3KJP8NVa0a32mbidx8HuoOqKhiMummMM7MSybjM7qBpfDfq\n",
       "zkfmPw7k1WnjxUrsUFYQv2kVD6o3Rw1GWTdSEXa69CRCHtdb3pQBZBtfXk03vSJjFCeNbrUeWkRQ\n",
       "Aj4nkyvmPr5pMS5zl2pz9qG0vOkSEGe9jHcSM0oB3+xKvpRde1sG6+V7so+uHgEJeQ55GtSCkTKg\n",
       "tCF6nZhRN+7BWsRpc64rXpsjVkDABaBpXeqyObFZasbRwM4jUnRkEFMHvVnF3rPDr2DZEKzjPr9i\n",
       "dMt1kL9Snq4EPbn9Vxp+hmveOdeFXDZRrztyCuUezpPKG33e32rLjM7ihVy1LaBMb5+b3WzjQN7u\n",
       "XshF5wLKTI01urnf0/SMo9oCLkqUg8l062rmVla02ob/4ZGqLOAiuRhMZrEj/q80ekZxQW/L7A8o\n",
       "48G82c22BNrQfiRdLdbdDsZY1//3G220McK1pM72MH5GyWgYn38BYnw7HFD+xwkAAAAASUVORK5C\n",
       "YII=\n",
       "\" style=\"display:inline;vertical-align:middle;\" /></a><br>"
      ],
      "text/plain": [
       "alpha_l_sqrd_ineq: forall_{l in {-2^{t - 1} + 1...2^{t - 1}} - {0}} (|alpha_{l}|^{2} <= (1 / (4 * (l - (2^{t} * delta))^{2})))"
      ]
     },
     "execution_count": 38,
     "metadata": {},
     "output_type": "execute_result"
    }
   ],
   "source": [
    "alpha_l_sqrd_ineq = Forall(\n",
    "    l,\n",
    "    LessEq(alpha_l_sqrd,\n",
    "           frac(one,\n",
    "                Mult(four, Exp(diff_l_scaled_delta, two)))),\n",
    "    domain=full_domain_sans_zero)"
   ]
  },
  {
   "cell_type": "code",
   "execution_count": 39,
   "metadata": {},
   "outputs": [
    {
     "data": {
      "text/html": [
       "<strong id=\"inv_diff_l_scaled_delta_is_real\"><a class=\"ProveItLink\" href=\"proofs/inv_diff_l_scaled_delta_is_real/thm_proof.ipynb\">inv_diff_l_scaled_delta_is_real</a> (conjecture without proof):<br></strong> <a class=\"ProveItLink\" href=\"../__pv_it/theorems/3a9d04e8304d8899b8517b7008d316d37e6e3b570/theorem_expr.ipynb\"><img src=\"data:image/png;base64,iVBORw0KGgoAAAANSUhEUgAAANMAAAAyBAMAAAA0MfPNAAAAMFBMVEX///8QEBCIiIhmZma6urrM\n",
       "zMxUVFQiIiJERETc3Nzu7u6qqqp2dnaYmJgyMjIAAAAcRTyBAAAAAXRSTlMAQObYZgAABBZJREFU\n",
       "WMOtWEtoE0EY/vPYzWazeShSRVCioNeGtj4qiEVBxdN6sHqRRvB5SsWDFsRGCzZWqvGioggxgkLB\n",
       "F7WHgmBoRdQWLBSkHrSVIgUFK7VFG23r7E52d7ruzOaxc0iWmdn5Zv7/+7//nwVgt5fgQLtfzCQp\n",
       "5wSUd6yISevBkfbJfkogQh1ZWQqUYG+cuw0067/KlwIlLrOd0kYdCZYEBU9t7Zd3CspnZ0FfzCmo\n",
       "wKzNhNG0U1Bwymb8DDgGNZphDnPTzkE9jjKHPRHnoEJswXDFnYNys3nRNOQclH+OOVydZuyyRCio\n",
       "Yo6eZ7jx0PzW0qDaAVR3fbQcXVGpoAdPpuY/d+LndwADyv9XS438WXHyCIlxrrMDB5YMNxWfJS3D\n",
       "aqpiKMGfg+R1zLEohFAYS08sdetP+ZZrP31Og6oP4RiOQfBtV9cN6/kz5SJxFzLGqeoF9TGMgvR3\n",
       "KnW2nKhjtEcZwoDxnRgKOekIwCUQExYlTL5cqBOErwKnMOdciOo7QES/u/AYv6K/TUtSnrKhkgbU\n",
       "8tPfCirXjPIfuJEA9SNyP68d8qWlrHZ6/gc++UIpTXXV6u+oYaiXsY5CmkXaLQ350BMKtJHeLgjA\n",
       "wTuwGKr05idOlas7YED5xxrR0yx4seFiehVQvgEjBJTwEGcqHzIgXDqMzhwBTP/gbVmnRdkMrCGg\n",
       "uPgGnRbQjfDcSbin9mQlg+y2cfWFVv48MYQJBnhZT35hdEIhCvtTqVQUcm/hlhbC1HxfcKdIOnN7\n",
       "D/Tq6nl8jy63snBFVZ2w4p8gopxrH/BqId8zBG80YSpAuVtlkw4nQaxNyRBoJqTl2VWZ1/Ob9zUW\n",
       "JrK40DgQdoOkLOjxgFdbgNMS56hZr9PoGiNN+zeNG3vgQVTjk57StTrGg+5Rl9H/+6ODE3pFoSWR\n",
       "zaa3hgG2ACyBEKHSklIc9DGgXpCS7lZ8RTbNBktNb7UALAdIpMNEQeBV6HqXAfUuzSLYtkJEmpjo\n",
       "RxaezEBC3kv2TiiWbaAvliimIg2aVMONY701s140dpqtRm6X6DW+TfXQhM3Lm3K0oNZs3r9QY8Qg\n",
       "91VAGwrSeeGfKqbkdEWtAtQXh8Z1KvXVO5+sJFKS/aUlPw+2XJNiJvG72hR2u1SP1OoBM6aSlENQ\n",
       "HF2ghWb2xRzH8BrzYRsMh+HjAawCLs+ECkeLuRRdFC0M2A1+gr3iDATRtr30rVdnirkUzUn/04LL\n",
       "gZsMlBm1l0GLKhvldqm6NZ011RzIdjcG+4+RfX2wW3FuruwLKr52D5sWUMw0ubDwaxH8WsV3IZla\n",
       "5sbsEtK4ZW8LbfoD+seEjB3UNcttDtOm91XwicQ6JgWKctKTCG9rP4CNlksmKWFKFe+RIgoSPspI\n",
       "+Ob2oaKPdFDnyKdHlRT/AP36Mb34LALLAAAAAElFTkSuQmCC\n",
       "\" style=\"display:inline;vertical-align:middle;\" /></a><br>"
      ],
      "text/plain": [
       "inv_diff_l_scaled_delta_is_real: forall_{l in Integer} ((1 / (l - (2^{t} * delta))) in Real)"
      ]
     },
     "execution_count": 39,
     "metadata": {},
     "output_type": "execute_result"
    }
   ],
   "source": [
    "inv_diff_l_scaled_delta_is_real = Forall(l, InSet(frac(one, diff_l_scaled_delta), Real), \n",
    "                                         domain=Integer)"
   ]
  },
  {
   "cell_type": "markdown",
   "metadata": {},
   "source": [
    "#### *A bound on the failure probability:*"
   ]
  },
  {
   "cell_type": "code",
   "execution_count": 40,
   "metadata": {},
   "outputs": [
    {
     "data": {
      "text/html": [
       "<strong id=\"fail_ineq_lemma\"><a class=\"ProveItLink\" href=\"proofs/fail_ineq_lemma/thm_proof.ipynb\">fail_ineq_lemma</a> (conjecture without proof):<br></strong> <a class=\"ProveItLink\" href=\"../__pv_it/theorems/a8826688963ce17b44d7392e64600abe2ea9ae730/theorem_expr.ipynb\"><img src=\"data:image/png;base64,iVBORw0KGgoAAAANSUhEUgAAAxQAAABMBAMAAAAGmOylAAAAMFBMVEX///8QEBCIiIhmZma6urrM\n",
       "zMxUVFQiIiJERETc3Nzu7u6qqqp2dnaYmJgyMjIAAAAcRTyBAAAAAXRSTlMAQObYZgAADo9JREFU\n",
       "eNq9XHtsZFUZP52ZO487j3Z9gEuIHRc1EpQ22yAIYmuMAYzYASLyB6EDurqadVteIrjawQcpa0jH\n",
       "QGCjIb0LZsVd2I6SgIZIR1ZFBWyRCBqiHVzoJhKm291uS7vdXu/z3HvPd+49M+ec8v2xfPOV+/3O\n",
       "d37n+d1zD0Ly5Dyup+Illv08tIGSKcsPiSb3A0CoSJNYg+uxc1l2Tr+tyg75IdEkWQeAO1opApcM\n",
       "VXmeUlZYdj6/LcveAdkhUUV9DwCEiizZxfVUqs6yQ78ZkjaRYufPaCukpMaJ86JGAkJFkuRGuB57\n",
       "lmWn+A2wp1RQVqhVzbUSkjueK7/npaJQBoBz7CJwycQM16x5imWHfpP+YUPpM+rrEyIFHyy1EFK+\n",
       "6PZWXioSJwAgVOTInVxPpbtYduj3WsyJFaJBxT6RghcajJByF1yInr1YlArUBIBQkSLKKb65foZh\n",
       "p/jdhvlyqSiITK+Jk4yQ/oJ2ohQSpmKwRgJCRYqENW/OvnRnhF+j7rNHbvZTEZsRKfoRRki3Gyup\n",
       "gwg93NfXVxOgojACAI+wisA3VdS5poo1lh36zRghPWWtmjAVWaFN0uxAdEi3oImBx/PCvSK/CACh\n",
       "IkP6ucaI+ArLDv0mKghteT4wQJkmfpmssEKa0u492xm0ei7i3lm8DQChIkPWuZ7qbLDsfr+Xjhmi\n",
       "JYwucNYWhHY2X2s2ZywqFKFpL73CCukmKVU0XiUBoSJBsse4HpsqMuwUv8ZGQp0JTtuJ8gaU3TPn\n",
       "eqXUEQwKKjJSLHy0DlcZdopfdQQpRfQ5l4qsQUW+LlT4ZUZIL8mpo84RALgcXQQ+GL4F1ALLTvN7\n",
       "B0KvfK/mUJE5f6mI4mKz3nw1MqREPSFlC1ZYAYBQkdD5uPpw9jjLTvN7TmBfYQUpVvieYmRI1z31\n",
       "G01GHcWOAUCoSFhA1bgWUO7W5lca3U71mwbK79ikR2XchhqRIXXreuuNKwJHWQeAUBGXUa52k1q1\n",
       "R/8dwxrNHuI34W7o3AytyuyS+/60GjW6HpUVUjSODgChIizqAt+K3h2OZzW6ne73t2TPZ1daPqqK\n",
       "CiekhRSJM18iAaEiLIm3+dIyFToV2M7pt80qip+SFlIkTv8MCQgVYcmtcT02XadTge2cftusotiS\n",
       "tJAicXrKJCBUhCXNl1ocr9GpwPb0yXeCisSytJAicQZHSECoCEsH31DXXaJTge0dJ94JKlRdWkiR\n",
       "OJNHSUCoiO/wVrke0zU6FdhO81vQfVKUUUUeHj2keR/gMQEczyUGhIqoTHCtxTK4KQSp8Ow0v1nd\n",
       "aa+/vPx6vUsKFd0DkSFN6XYvVe97uXtBAKdjEQBCRVQGufIeiQU6FZ6d6rffG1dfOSmFivmZyJDi\n",
       "Os4e5UdrAovmUwAQKqIyy7VZzK/TqfDZaX5Tehnrn5JCxXA9OqRRb30Tb/DjJNcAIFREZbrCtQTG\n",
       "S/cejW6n+lV0bxEebzFRF4ukor8cHdKQ7rXZ8/hx4ksAECrCKahwRw/Sd8iBon28+/BMdJGDDVb3\n",
       "8pit9ev49esXt9mS/NB53cvV5/lxKE3Mr1j97d+iVIw75X5Zv+urhwMtXHWwkpQscDpkX+PZx6lU\n",
       "pPURJFWmG+Eh2T+kLPtz6wDQrzxn/vd/oiDzbkLOAEsHkpPuuRjVF23sVudvITlyzz5PTfSp3cfl\n",
       "UtEzEhGSKXt1GS/yYssA0K/sMRePFWEqnElHWSNfDuI3YM9g06Puq+JCSG7Bs8/TJ7NBvSaVillM\n",
       "xa8RFTqhy9j255cBoF8pGMNJTjiwUafcMWPlHAtU8O24YbnKvd/FS6EQKjz7KJ2KnC73wO9sF6Qi\n",
       "CD29IGELll8AgH4l/9f9+x8QBhl1dr1pY1+UXPTv1nB7Kzh7mPvf9Ko8ZOvq2UdDdtPz61KpmDpK\n",
       "oaIY3OI3xGGyOgAMKG+Pje0SBul2FjLmoZkJ/7AaM3/8c9MP8bGJa1737T5DMsOevTtkgbRXr280\n",
       "FUFotXtt46nYhtDdrfr6BouKoTrK7lK+bP7Kj6jbjW5iqPF/oMuN31azSv8IyaAiqy/KpGKQSQWa\n",
       "0sUzEwkdAAaUzwQWN8bM+4J11MiVQz/Q8Hdk157hNyvn+PJpzmzTs+P5rVrq52bfTpTRoDHWGH/4\n",
       "rF171lAVu8k35naSc6FK2kOn534ZY7dHxSqkgoCOS5ieEjjnhwEDSoo4/PsTzf5mwZkgq8kG+rv7\n",
       "646AOekNEtudTe+4iTXpWg2lw2hLBx4xxybF5j+/y6vDpNNFrJSn+efJRsDu+aUkP8JGqE69HbGf\n",
       "2WM3vb81mzc2m3N06NE1YZzMmPvwngpNyc3gA+sHDhlbxaeRfeLOCbmqrORuniGpMM0o2wBNaNlb\n",
       "K6lVl4r9dm9zumL2cDW0V6TKrfaKzLLMAWqI3SvQhPi2UsG9AgMGlEzjanet9eOfaoCKgcwiGgG9\n",
       "wjL7qbDJUsytl9L/TOKFi9EjR00qjAFKtZsX9pmYc9tbZ8hc4dn1sLxGfvOGU0FAv1jdcCrQ3V8x\n",
       "/nn6tl5j1jAlSIXRileNuUTt6+u7yEeFafZT4cxxsUV7XIoVCwOqRYUxbWeNmq+607ZVorEB0Wlb\n",
       "8idTLUzbCQnvE1nTNnrc/EChhkp2OgpQkSpme8EAZZr9VDiL8MKqM0VceW7RpsJYwmbeQI8ZnT3u\n",
       "De6ZbaL7CoVr8/tGO1QQ0EM1cRwmFZ0GZuyjdfdg1w6CikMos9Xpm1cer/nMSN1MlDs+v1S0qMjt\n",
       "TjpUmJ6+cLo5DRdKEVXeLhV7i+1Q4CSHVf8rwcQ5pWy1dSrUd0nAYVKRNwaw2NYiUr49NvZ9dE1v\n",
       "kIo8kQezv3GwzV+qUxM2k6izmv6gTYWX+PhFVK4JXdVWDgodjkq6jRKkqxVjgB0rOctpR1699AT6\n",
       "Oq6ZLkYOChV6JeBQ3k5C5THznzKtV3ze2RYQYpp9vWK8N0DFZCm1xaGCkg7EkvYSrN+i28fpCdF0\n",
       "ZP5ylmS8ivah3GLm/MO+uisjDR2EOaj99JDQmAwcRg7KGXpQQkN/xHOFwWtmN9qjZXYrbz61mzZW\n",
       "m2bfXOEvtzq8LX/D2f/dd1wdNshNB5PkB28z5VayymOntUXFs97ehDKEX0D8NlrDhQhtQgX///uC\n",
       "uTsqkqlqnwSgc94smeXHYSTJHb5ue9OogZpDhfnNgrIZXVFVNnfYey+wxjHNPiqGy2FN1H11lKas\n",
       "BZP4FdGDc3Q73a9vJZunUEEO68YYebr59UynvwiDxg/VbYm0V0cBaN9K9lV+HMarI798xJgrrF7R\n",
       "YnbLe7q/wprL/kX5Uxy/YKzP0e10v76V7Kcpuz9i2Wkmh+c1NFy6IjCamK3w9QgYv823kk108eNQ\n",
       "4oKKT7io6KnwLC5jbtHy1Tmqne43461kH6a8zssT3ThmjzSj2odVr7mqW9bsZaDdAyjjoB96Avc9\n",
       "tb+XHyeJS4sBoeJfJ7a8q/TloKYaXEljt8M+FLxwBNvpfve6uJkndMrGK0nQl7Z2RYk1tDXnGa/T\n",
       "xo1//+POC5SFmg9aPdPVfjasl/hx0nhliAGh4m9zH2t1G/+cbwPEdSRNcVcU9SAV2E73O9+05Ei3\n",
       "rtPOG3QQe45UzUlvXf0h67c55avvRbNGnT7peqTMOD7owrqNeKMBuNwqjpVlDuIUcHfGgFARlUmu\n",
       "g5rumd1sKUiFd5aX5jfOODNr3ael2pVnNuEOK83Sh52bXS5eQUPG34bcJEcpMqR+6plZBo6VZQ7i\n",
       "eCeiMSBURKWT71th5zzTo+SNSPicE4/fD5C9ZMAbyN0tTMcMGtJwFanU48srYjhWljmIM7mKCECo\n",
       "CEuK76XaqJ0XfKKvb2Erxc7n9y6VMnA8jjL+OXCyhF4x/nOJmzHlCal9nKGjiACEirAk+b5fGsbZ\n",
       "z9Podh6/p3JwOlXqKOavos4SusebTvPrPCG1j4OP4WJAqAhLjO+MWA/uzu+j23n8Lj4U/G2eb3jg\n",
       "+UNfC9iKCXP980nn13GekNrHmXbDwoBQERaFj1T8tfKf9W9S7Tx+XyKWhWZCbd6/9LEyYmf5stnU\n",
       "b72Y0O3jwO/aoCIufENd2NfKnp3tl33F5e2hKzhnKZxaDQ1JHaaxVOHDwV+CY0CoiAvfHRWFFZbd\n",
       "8kvWh3mZH+2Ky2tCmm8YvJumm+wKD+kSChN9I1w43pfgGBAq4jLN9dFM7hTLbvsl6sO8zI9yxeVV\n",
       "59O9pcOaiZu8niqHh3SI6IPuUMSBk8VZTgwIFXEZ5HKVWGLZbb+HyJFgqEpccVkOacFWawxLkLlH\n",
       "8YZr4SHdQ1R3BBUsnCSeDzAgVMSlg++Oim6W3fZL1Id5mR9xxWUlggo3OQzyhtXIUtjQeKgkbo7k\n",
       "wPHqqDtcEZc434GI/hLDbvsFU8qURlxxGUkFQzJL4SEpXShpvkK+h7w5kkMmyiQgVCRIgu9072Cd\n",
       "Ybf8GvWx3awPbz66CRFXXIpQETsZHlIMDzrEzZE8u6gaCQgVGbKJb1zrYtk3BerD200RV1yKUFHo\n",
       "Cg8p7a4OyJsjOeQ1AAgVGdIzwNUgF1l20y+uj4TZN3aDZWOy2Xx/8y1uKsKuyDWhO75oem823yJv\n",
       "juQYB+HduVCRIZ18q7Ellt30a9THTrM+3AGKcpmfSK/o18JD6oy5mwni5kiO6XQVAEJFhuT4tovT\n",
       "GsNu+sX14QjlMj+Liie5iqAuRYQU/4P7i7g5sn2ZLJOAUJEiKt+8PVln2E2/Xn04Kz94mZ9Jxb2j\n",
       "N3ANkitthJQWGMKrJCBUJE0WXH0s7Ot/z96a34rAlqi3jZAEqHg3AISKpE0e38xzJsveml8BKma1\n",
       "NkLKcMN4t39gQKjIkSzfZDGlMeyt+eX/+EE9JjukkCG3SAJCRZZs53oqWWHZt6MNlWRDdkh02QkA\n",
       "oSJLUnwZre+w7KnahlIxWJUeEnXvvgIAoSJLFL5POK/QGHbljA2l4hb5IVFZHQCAt7RSBD65jK+5\n",
       "VFn2yzaSCbUmPySaHACApPJ/M1Q1UudYV/8AAAAASUVORK5CYII=\n",
       "\" style=\"display:inline;vertical-align:middle;\" /></a><br>"
      ],
      "text/plain": [
       "fail_ineq_lemma: forall_{eps in {1...2^{t - 1} - 2}} (Pfail(eps) <= ((1 / 4) * ((Sum_{l=-2^{t - 1} + 1}^{-(eps + 1)} (1 / (l - (2^{t} * delta)))) + (Sum_{l=eps + 1}^{2^{t - 1}} (1 / (l - (2^{t} * delta)))))))"
      ]
     },
     "execution_count": 40,
     "metadata": {},
     "output_type": "execute_result"
    }
   ],
   "source": [
    "fail_ineq_lemma = Forall(\n",
    "    eps,\n",
    "    LessEq(Pfail(eps), \n",
    "           Mult(frac(one, four), \n",
    "                Add(Sum(l, frac(one, diff_l_scaled_delta), domain=neg_domain),\n",
    "                    Sum(l, frac(one, diff_l_scaled_delta), domain=pos_domain)))), \n",
    "    domain=eps_domain)"
   ]
  },
  {
   "cell_type": "code",
   "execution_count": 41,
   "metadata": {},
   "outputs": [
    {
     "data": {
      "text/html": [
       "<strong id=\"fail_ineq\"><a class=\"ProveItLink\" href=\"proofs/fail_ineq/thm_proof.ipynb\">fail_ineq</a> (conjecture without proof):<br></strong> <a class=\"ProveItLink\" href=\"../__pv_it/theorems/bd7c94649169d3d4fc62581f8adba43cc5a2fc180/theorem_expr.ipynb\"><img src=\"data:image/png;base64,iVBORw0KGgoAAAANSUhEUgAAAZkAAAAyBAMAAAB8J7tkAAAAMFBMVEX///8QEBCIiIhmZma6urrM\n",
       "zMxUVFQiIiJERETc3Nzu7u6qqqp2dnaYmJgyMjIAAAAcRTyBAAAAAXRSTlMAQObYZgAABo9JREFU\n",
       "aN61Wm1oHEUYntzd3mb3vipomwTRQ4Vav3Im0CoSciCCPzQ5+0P7o5CzNSIlmCsFUyU/om31GkXP\n",
       "P7UKmg1qLCklSUVEhTY0qNCmJihqRTTRoIKFGJI0NteYOrM7uzuzs5Pd3k5eSPbeZ/PMzrPzvu98\n",
       "5AAQZvGsOJJ3WwPGRc1TrjgbF0jybisybVxbaFeUhfLiSH7a+tW4JKYpV5SNVE4a0fzBusXqjGv1\n",
       "qHF9jXbFmHp9pSS1o1PzBRsJ8lWZfmB/tvLnc606UzlpSvMF49Aq08EQ2xAgNnh2Wquc5Ow2B3ao\n",
       "kXFsddOuENsXgOTsNgd2qIktY+0lyhVhieUAJEe3ObBTjSlazgR4n+4m9wQgObrNgRk1+L4JTGnC\n",
       "1LRlA5Ac/eDAjJqhtFHN5ilXhN0bhOToNgdm1CTxxDlLuwJsYxCSo9sbfaoJ4fyqL1FucJP+C0Ki\n",
       "u82BWTUK/sO+ScoVsEhbDkKq13zA1u2ycxCr8gHiw3VS38C99a5x+YxP2nrzzKQ3jC385GqT+fkV\n",
       "TChYrp46vwRVU4WL6g9XX356hnqlKr4TLXFJ/mAXm8CboTnLPYeufwdVM2Su0lbhq6oj7ySxCpWo\n",
       "OJtzNInTlqdNGe0kLlnuUZQ/PUHVtOFaL63AJcY8eec788MZa7S+TtMkTluEnVzzqdK85SZhXMSH\n",
       "A685cQuhRfizQt553vzQb1aibZMOEqctbzV4FNUFy02cHRx8K3AVwGMOqmEIRxeJG0rBCjljhlee\n",
       "HXaSOG15q0nhYrZku5eLxe7AavAEBlIwO/rIuA8h58J1B2EA6LD0epYhcdryoQZnyGXbbQfgsN9O\n",
       "7+FWF1zH2kZBrFvajWIpUVCfgYMFP4a/B4+aG/hijiVx2vJWU4Ury022+yBVbuDbOw9/7LIwdkAD\n",
       "R/DnnXUkLN1pk5pxD+o7xhs0+QOUnZE8aIXrYRhXDxn7Dz3mNt/BkizT3GG+GhzGm2xXBiFqknpT\n",
       "A1KjFe3xUnQafGt6L1Bw1N7tdeLrG6gnQ1aWwifAwDp+DAWZZMwKP551kq4iQzfVVVf4m9nZvbOz\n",
       "f1qYicOu43l2L7Dc+KRsNn98DE6zp9B7tdTIJWk5vm/SqQbBIDbNqPnXrl5qyVQzaIw5nuNO3e8k\n",
       "WfacO8wdGxc1yvTj5nru1Xc0Rk1WWQQFZmx0mFCDo0NCtVJqPhM53wSOzSE1MNJUI1WsNlvaeZEG\n",
       "rjHSZNxkF+Eefgq9sa4MzCD93VFqYLyXYV6pjY2NDxBqEEyqmShZ0w0KsFA6mVV1NbAKxKCakn2M\n",
       "B8COgxSJqQJeNQ2lMq8KgI9h12PDIGcs2Rg1cjqWYSINwaSaeuP9J8s4XbbfkzbUwLqs/AFOwFoQ\n",
       "trPsSI4kMRXaY77Rc9Zt8ay7KViBQneNAtWYJzocasaA0oDf1vaFYQIGaq094+mzSPifpbSuJt4b\n",
       "xWpQSy2bDiGlTCen3HffLjClRs9ZY4LBM9sC4SbguIUa0kDaXyy+BHZkaDUJxxrw4SI0zYCfsF73\n",
       "abIHQyBVqr7NUGOvbD5ilzCY9P59h9xgrhqUs8aDjOerK5QLwAn0K+82No/g6cJhCCbGpm2SUjOU\n",
       "k2/BathVp5Ok5sFEloVJG6TdWJm36sQxBCIa+NLKGzjTKb3gqKb0She/6HXbBCOYyJsUMYJqZ3ti\n",
       "15bfBxbUTvh+qqkdgfpXF7IcSQproIrc7KU8dwRymlqfxq44lquJrovwwcNYjbJtKS3VgsdKUm2V\n",
       "OVM5ZmEEE2pk7nmJuVurZisVJsEpPLrMwmvYGF394suuxfB2mDf62PgzQk14zmsn/ZPLpnjOLITR\n",
       "Syy8xhFphp5+o3OAN+1WpsY+SLmWg1uLJJdd4MSLNUw90DErlWvorXeNyzP6S357Q6zTpCuVnEBZ\n",
       "pNZRF7gpF2HqAcKsVFZw9velKZcy5W6/nTkn6nQQL9BoOOIyt+qYlcrrdjoImoOQwhkXWP38AFtS\n",
       "KIw4eSJdAdaaDUC61Q1WXdakNJbChXqedgWYnKmcFMuAt1n4QxcCjeGzUPPw0/1otCILUtR2ArCF\n",
       "hT+BKewk0Nh6HdxCu7FiktI9vrXAwu/l1J+df09h6/ifwgD/xU3CnXGBhSO/7WeqGoUlcXDP0K4Q\n",
       "q6gxDslfW/jLEea3IUY0gWqUG8SRfLW1rt9+AJ8KJPlpK4oHcDftCrJwXhzJT1sXcAHsoVxhtksg\n",
       "ybutdf5GFwhnxZG82xowkl7dQ7r/A4UZL01AqsREAAAAAElFTkSuQmCC\n",
       "\" style=\"display:inline;vertical-align:middle;\" /></a><br>"
      ],
      "text/plain": [
       "fail_ineq: forall_{eps in {1...2^{t - 1} - 2}} (Pfail(eps) <= ((1 / 2) * ((1 / eps) + (1 / eps^{2}))))"
      ]
     },
     "execution_count": 41,
     "metadata": {},
     "output_type": "execute_result"
    }
   ],
   "source": [
    "fail_ineq = Forall(\n",
    "    eps,\n",
    "    LessEq(Pfail(eps), Mult(frac(one,two), Add(frac(one,eps),\n",
    "                                               frac(one, Exp(eps, two))))), \n",
    "    domain=eps_domain)"
   ]
  },
  {
   "cell_type": "code",
   "execution_count": 42,
   "metadata": {},
   "outputs": [
    {
     "name": "stdout",
     "output_type": "stream",
     "text": [
      "These theorems may now be imported from the theory package: proveit.physics.quantum.QPE\n"
     ]
    }
   ],
   "source": [
    "%end theorems"
   ]
  },
  {
   "cell_type": "code",
   "execution_count": null,
   "metadata": {},
   "outputs": [],
   "source": []
  }
 ],
 "metadata": {
  "kernelspec": {
   "display_name": "Python 3",
   "language": "python",
   "name": "python3"
  }
 },
 "nbformat": 4,
 "nbformat_minor": 0
}