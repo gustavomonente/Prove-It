{
 "cells": [
  {
   "cell_type": "markdown",
   "metadata": {},
   "source": [
    "Proof of <a class=\"ProveItLink\" href=\"../../../../../../_theory_nbs_/theory.ipynb\">proveit</a>.<a class=\"ProveItLink\" href=\"../../../../../_theory_nbs_/theory.ipynb\">physics</a>.<a class=\"ProveItLink\" href=\"../../../../_theory_nbs_/theory.ipynb\">quantum</a>.<a class=\"ProveItLink\" href=\"../../theory.ipynb\">QPE</a>.<a class=\"ProveItLink\" href=\"../../theorems.ipynb#all_abs_alpha_l_sqrd_are_real\">all_abs_alpha_l_sqrd_are_real</a> theorem\n",
    "========"
   ]
  },
  {
   "cell_type": "code",
   "execution_count": 1,
   "metadata": {},
   "outputs": [],
   "source": [
    "import proveit\n",
    "theory = proveit.Theory() # the theorem's theory"
   ]
  },
  {
   "cell_type": "code",
   "execution_count": 2,
   "metadata": {},
   "outputs": [
    {
     "data": {
      "text/html": [
       "Under these <a href=\"presumptions.txt\">presumptions</a>, we begin our proof of<br><strong id=\"all_abs_alpha_l_sqrd_are_real\">all_abs_alpha_l_sqrd_are_real:</strong> <a class=\"ProveItLink\" href=\"../../../__pv_it/theorems/5b8a7360996bf4708b971d54bd270430105bc8e90/expr.ipynb\"><img src=\"data:image/png;base64,iVBORw0KGgoAAAANSUhEUgAAAJgAAAAmBAMAAADKLE8XAAAAMFBMVEX///8QEBCIiIhmZma6urrM\n",
       "zMxUVFQiIiJERETc3Nzu7u6qqqp2dnaYmJgyMjIAAAAcRTyBAAAAAXRSTlMAQObYZgAAAw5JREFU\n",
       "SMeVlk9IFFEcx787M/tvHN0lELSgFiLoFFKXiFgWJIIOsR2yCEoPKXUpiUKCkEGh1kIaT0YZbgYG\n",
       "HtqBiIoCV+1QJjgWlBdjCSIIsqU/kJbYe7sz7pvdNzO7v8PM8N7vfeb3970HuEm9gSpF7vBU2YWq\n",
       "5bCXgrS5YkjZu4+vK3iZdi9ZMfQa5xyUv3nAuiqHLqNd4ysPpV1Z/pXKsYsYTfC1A+5+NnCnJx0s\n",
       "8K+6wka5Dl1wUv/kCovTxwn258QopcVJfcEVtok+XrJ1QcL1ztmRBHL0vcSbDP/mwKSsZK+XD003\n",
       "l5sKjeLL4g19f+X2Up4DO/X8aVkCcuM4vkjHAjncojaoPJjYzYFtW18vU1NHEArTvAt5NNCg6jxY\n",
       "UOXFbMPuaz29FkzUaLDqVlA/OzExzA1opMUF5u9LlywTNfpf/1/gTyp1hQ+LWbDp7Yly2MM042ZA\n",
       "om7Ka0AnMAD5fCUsY5iw4YTcLOvjeRZ2lo3Zk3gB/QNohUw8Pmg2WNNMv1WVoxaMGN4vpKVuFlZK\n",
       "mTrU01uM+T8SZwhk1Qwx88UeI6gpY5YD7XoRJpKmiyu09Esw/9ZlIqZlraHikp8kEEaQfAwCi88m\n",
       "UIeTd1EG8xErpmYRMhgYU0zqiHhAtWDhXBv5WIFUdK8lizI3M2RkXkdEY92MsjG7/rZwDBA3MXCa\n",
       "mB1FQ7F87mx0S8bMZoRAp4AjtmzuZmFtIl0UJtnEI1Lpgor7hakxpVQaWTNmHaif92OnDRbUmXZS\n",
       "9E6zzgr1FIrhWCqViiE7i9umlq/DzObckiFOo88Gk88c2mj0z0h9J2zpF/WM5MJ3FIHCefTYIGdG\n",
       "UUI5Wwc0Jm3tJL0y26nUYNZWGxGgUL9FEVK31TxRGywfs8EqRbGSIpI1N8j7fdfcF2vnr1u1wfYn\n",
       "PGC2I0OgMWNP/DW3XcOp/ZzkKn3sYH+XdFOf1NxmF1CTxF1nM3pNsC2us0KuFpYQdZ9vrAXm87jL\n",
       "fawF5nWXC8WqZ4Wbve6Wl6qHPfDM1rBWNWzQ2/Zk1Rdk2hz/AQxo0pLSlBKiAAAAAElFTkSuQmCC\n",
       "\" style=\"display:inline;vertical-align:middle;\" /></a><br>(see <a class=\"ProveItLink\" href=\"../../../__pv_it/theorems/23aa52599eabdead8ca7ab43c9dae4fd573d17cd0/dependencies.ipynb\">dependencies</a>)<br>"
      ],
      "text/plain": [
       "all_abs_alpha_l_sqrd_are_real: forall_{l in Integer} (|alpha_{l}|^{2} in Real)"
      ]
     },
     "execution_count": 2,
     "metadata": {},
     "output_type": "execute_result"
    }
   ],
   "source": [
    "%proving all_abs_alpha_l_sqrd_are_real"
   ]
  },
  {
   "cell_type": "code",
   "execution_count": null,
   "metadata": {},
   "outputs": [],
   "source": []
  }
 ],
 "metadata": {
  "kernelspec": {
   "display_name": "Python 3",
   "language": "python",
   "name": "python3"
  }
 },
 "nbformat": 4,
 "nbformat_minor": 0
}