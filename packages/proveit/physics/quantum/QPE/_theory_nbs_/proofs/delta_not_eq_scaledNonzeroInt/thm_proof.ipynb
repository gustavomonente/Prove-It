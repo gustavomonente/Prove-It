{
 "cells": [
  {
   "cell_type": "markdown",
   "metadata": {},
   "source": [
    "Proof of <a class=\"ProveItLink\" href=\"../../../../../../_theory_nbs_/theory.ipynb\">proveit</a>.<a class=\"ProveItLink\" href=\"../../../../../_theory_nbs_/theory.ipynb\">physics</a>.<a class=\"ProveItLink\" href=\"../../../../_theory_nbs_/theory.ipynb\">quantum</a>.<a class=\"ProveItLink\" href=\"../../theory.ipynb\">QPE</a>.<a class=\"ProveItLink\" href=\"../../theorems.ipynb#delta_not_eq_scaledNonzeroInt\">delta_not_eq_scaledNonzeroInt</a> theorem\n",
    "========"
   ]
  },
  {
   "cell_type": "code",
   "execution_count": 1,
   "metadata": {},
   "outputs": [],
   "source": [
    "import proveit\n",
    "theory = proveit.Theory() # the theorem's theory"
   ]
  },
  {
   "cell_type": "code",
   "execution_count": 2,
   "metadata": {},
   "outputs": [
    {
     "data": {
      "text/html": [
       "Under these <a href=\"presumptions.txt\">presumptions</a>, we begin our proof of<br><strong id=\"delta_not_eq_scaledNonzeroInt\">delta_not_eq_scaledNonzeroInt:</strong> <a class=\"ProveItLink\" href=\"../../../__pv_it/theorems/7dfe7762680aae39a58e1e2c0a1d6710cff2ea780/expr.ipynb\"><img src=\"data:image/png;base64,iVBORw0KGgoAAAANSUhEUgAAALUAAAAyCAMAAAAtOGr7AAAAPFBMVEX///8kJCQoKCgUFBQNDQ0Q\n",
       "EBCIiIhmZma6urrMzMxUVFQiIiJERETc3Nzu7u6qqqp2dnaYmJgyMjIAAAChkoCbAAAAAXRSTlMA\n",
       "QObYZgAAA71JREFUaN7FWgmS4yAMZHeHW1zm/39dwHbCNY5NHELVTOXgaESrJeEgNK9Z9tZwLdAX\n",
       "mrVvTsCW+aDJgKmI9Dx766bDNnhklPPFW7BzQWs8RGoKd8wy3IAODcPkjhMb5ofXI8NUQevY5EyO\n",
       "yDFTV7RO21fTQLvBtQTctf8hUwO6hdbJAHoSaO7Z4Lj2iLQnk1DTQc8nvXHLrFCDBzMIEKilA5nk\n",
       "j9y7sYFhnO2ooZuCetg6nmly38ldPeiKnowY3kkJWzI42ospIAO5n30+ZXlc6p4zDJqYh9RpJ7Mh\n",
       "9FjzcM4PCaH2ZWCIB9wuJU6LowtbVrshFHzMGUty2t6ZXlg9zbeb+Gn02zOncmbWc07Br52dszo2\n",
       "JT+XhFSIFvmOqYO0RI55iO1zKWAlfJoQ36wF/ApqeBwOfCzi2CLf4YGR8EhA7ZLa35/4/2w2h6Pc\n",
       "sNhbL2vx7l/VyXmln3dOyIgl7ZHRHLXGvMOZS6ZGODEs/iOrY7OScgKDpUAzI+T8yzvTuK4LkE0T\n",
       "uYrNpUKQV6h5M8Y3Lc978S5FGwC7AtTGUho/VTFmEd1HbZ+7UWldGU+iyX8L1Ngl1GWfi+xcUYew\n",
       "tO8WkskdGKXjxEGyuFO5vuao4fkF6CRJ0YTYHDBk7eJkwes/eGX32fxCym2ve2RK7s5yt6Bl2pWj\n",
       "fmoDs88kXrrGGzNTJtRQdlkuCgFeg7+h2+Z5sn2eEThVZjoZ6tRZJNn8CX9uO3hJGuXLZrDhW1aK\n",
       "M3ulHQvvJ317zCVxPk1zca0y3GxB8nhNTFYwNbWeK+ovS0iF8lX+o2td2/Matw2EuCKXyX7ptU0J\n",
       "pNI91LDD05CTtqkRzXHVaPqm1pTCKohG1ruo1BVzviVl2+EZHiloVQ916iyCF/37G33J/aYhL0qZ\n",
       "vqnTta8N+1VULpQfZWPIo2Rg/nRFWuky1J131UtMoT29Rv6IuKafSdC0FxxdZzHH2Rii68U4bB87\n",
       "IYS1ixRd1FvnVfU22NZ2EMrlsqm3+Ceip9Qpov2toCM7r9vy56yxCsE+lyIUm0lEE8FTOD6KWidr\n",
       "wHb+E6nqaJUkw0gikFYHBd0Qave6mOB+sOBgUS1oJb5q4PJp6G5w9C4gORQXhH/jFueY2AfDuiYC\n",
       "OQd0OOmR20nSP9dpt5NDl84pZirV1nOzboJHVIQnFyTqS/dl61pXa2klbYhYQrbXFPOecFx/mrSs\n",
       "dVeDepn3gOO+1QzWM1ErzG+YZfZT0iZLHmqCosmNvu/8DtD0Jt4ND9/4pUWw9ru/anl44n/LRSif\n",
       "mNM+4wAAAABJRU5ErkJggg==\n",
       "\" style=\"display:inline;vertical-align:middle;\" /></a><br>(see <a class=\"ProveItLink\" href=\"../../../__pv_it/theorems/60f6769d7c92b618d8aa90467dafeb781effa4390/dependencies.ipynb\">dependencies</a>)<br>"
      ],
      "text/plain": [
       "delta_not_eq_scaledNonzeroInt: forall_{l in Integer | l != 0} (delta != (l / 2^{t}))"
      ]
     },
     "execution_count": 2,
     "metadata": {},
     "output_type": "execute_result"
    }
   ],
   "source": [
    "%proving delta_not_eq_scaledNonzeroInt"
   ]
  },
  {
   "cell_type": "code",
   "execution_count": null,
   "metadata": {},
   "outputs": [],
   "source": []
  }
 ],
 "metadata": {
  "kernelspec": {
   "display_name": "Python 3",
   "language": "python",
   "name": "python3"
  }
 },
 "nbformat": 4,
 "nbformat_minor": 0
}