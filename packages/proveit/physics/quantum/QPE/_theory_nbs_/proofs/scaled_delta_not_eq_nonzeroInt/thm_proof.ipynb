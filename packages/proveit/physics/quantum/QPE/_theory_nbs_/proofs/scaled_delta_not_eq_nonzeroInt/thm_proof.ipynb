{
 "cells": [
  {
   "cell_type": "markdown",
   "metadata": {},
   "source": [
    "Proof of <a class=\"ProveItLink\" href=\"../../../../../../_theory_nbs_/theory.ipynb\">proveit</a>.<a class=\"ProveItLink\" href=\"../../../../../_theory_nbs_/theory.ipynb\">physics</a>.<a class=\"ProveItLink\" href=\"../../../../_theory_nbs_/theory.ipynb\">quantum</a>.<a class=\"ProveItLink\" href=\"../../theory.ipynb\">QPE</a>.<a class=\"ProveItLink\" href=\"../../theorems.ipynb#scaled_delta_not_eq_nonzeroInt\">scaled_delta_not_eq_nonzeroInt</a> theorem\n",
    "========"
   ]
  },
  {
   "cell_type": "code",
   "execution_count": 1,
   "metadata": {},
   "outputs": [],
   "source": [
    "import proveit\n",
    "theory = proveit.Theory() # the theorem's theory"
   ]
  },
  {
   "cell_type": "code",
   "execution_count": 2,
   "metadata": {},
   "outputs": [
    {
     "data": {
      "text/html": [
       "Under these <a href=\"presumptions.txt\">presumptions</a>, we begin our proof of<br><strong id=\"scaled_delta_not_eq_nonzeroInt\">scaled_delta_not_eq_nonzeroInt:</strong> <a class=\"ProveItLink\" href=\"../../../__pv_it/theorems/6f70f327ec14ea7e4e6ad1ac4384c702cb3f0fd80/expr.ipynb\"><img src=\"data:image/png;base64,iVBORw0KGgoAAAANSUhEUgAAAM8AAAAbCAMAAADs8CtUAAAAPFBMVEX///8kJCQoKCgUFBQNDQ0Q\n",
       "EBCIiIhmZma6urrMzMxUVFQiIiJERETc3Nzu7u6qqqp2dnaYmJgyMjIAAAChkoCbAAAAAXRSTlMA\n",
       "QObYZgAAA0ZJREFUWMPVV4l2pSAMdToFZA/w//86EFGRiNrldU5zTttUr5D1Bqbpv0qU028UOVOt\n",
       "iEvX3/EP7MF/0B1FNRSvrz+c1fNNPoL9alU5qmWxQkdxXXAQnu/yEeyXRHCqVff8MNrco6faDYw/\n",
       "eY7YuP0bXuSfTe6oOSGMQWuTHXwT/GxSgXBxvmZsO0cjdMGCP62FbxQQR82VQoeUiUGy0TcF4pYQ\n",
       "nL8/0EpI04a1ZnXZvKjcmD9qAg1l2ReuJmdvekGflWRnqzANdk0L+B8qN4akpnKt5XaCQftslSjO\n",
       "wqyOLMJ4gw3gilj9ovQE1mkR3VK55qXiI3qLqzmc3abHJtlikymi4VXsFqlWaiNdtKvjPMGaKYoz\n",
       "xyiENLXYJXnGYqumu6nVbHoA464cOAmLMVQrW1/ET+YeMHVxmXbjIaK8vZffO/Gpdd0FO5c3bond\n",
       "fKw6xQwIIxrObDPdgnEuhmyj78d0VFTL6aHTfMuDY7IEXdZimm/Ss7XPii1m8dByq/MgRH6ibZlc\n",
       "3J37sxPxZNE8XZbr60MLqk2CjhWXYksBa14c8ac7M2Wk3ZaYV3KsoTboVjDeumJWpjwZbDtnW3/M\n",
       "/sI4XE4e6LlmRVDtdEpuKWMBrXSD/JiO4nfGqNg8bFef0dW53U0cKbX1Z5/uM+yB0t0xwyii+bKB\n",
       "HZ0NlrAE3Ue/9s8ftnRRu6w7Yo2t83YZ2C0NBevlwB8EKyTH9/wTakh1d0bbunXTJHrPR/5M6M+a\n",
       "fMJvsf8uhanjQi9qMLjB41VLnN3Ea/zhm859Ex7GR+VQNasBQKjxvIO8wmzI+Ko2k1JNs+MdNtUH\n",
       "pvyVGmOOOuBB1rozf8xquDNtofT1vge4ajGhXMxv4HuD9ecDesoMAnpsqCAmZT0MVgu8LGkHe+YP\n",
       "glWu5L9vpZ7DgN8mNlPtA3enY7q9eI7NtuCtFeROBqKbM6YHr1y90haZP9MWvkZ7LK4Lz9UlwJFQ\n",
       "CsAImkq5QSkFENvZZwh44erqEACN334rGN8Pxqe/7oIOz7FtD6/9Q49O5Im/DbryVHsqWj5OT499\n",
       "JNSfeF8zkWpP0wPD4+Mt9nP+hAch35v4sp1vLwbfhm2PC58RP1Pt0W7uNdjfI/8AynElwDkyeugA\n",
       "AAAASUVORK5CYII=\n",
       "\" style=\"display:inline;vertical-align:middle;\" /></a><br>(see <a class=\"ProveItLink\" href=\"../../../__pv_it/theorems/8b5d7f8097d0bfe626c12958ce591dc74c8b23d60/dependencies.ipynb\">dependencies</a>)<br>"
      ],
      "text/plain": [
       "scaled_delta_not_eq_nonzeroInt: forall_{l in Integer | l != 0} ((2^{t} * delta) != l)"
      ]
     },
     "execution_count": 2,
     "metadata": {},
     "output_type": "execute_result"
    }
   ],
   "source": [
    "%proving scaled_delta_not_eq_nonzeroInt"
   ]
  },
  {
   "cell_type": "code",
   "execution_count": null,
   "metadata": {},
   "outputs": [],
   "source": []
  }
 ],
 "metadata": {
  "kernelspec": {
   "display_name": "Python 3",
   "language": "python",
   "name": "python3"
  }
 },
 "nbformat": 4,
 "nbformat_minor": 0
}