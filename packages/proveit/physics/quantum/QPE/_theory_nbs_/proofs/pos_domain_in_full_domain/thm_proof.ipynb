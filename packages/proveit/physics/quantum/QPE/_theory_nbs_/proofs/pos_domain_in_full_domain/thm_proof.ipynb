{
 "cells": [
  {
   "cell_type": "markdown",
   "metadata": {},
   "source": [
    "Proof of <a class=\"ProveItLink\" href=\"../../../../../../_theory_nbs_/theory.ipynb\">proveit</a>.<a class=\"ProveItLink\" href=\"../../../../../_theory_nbs_/theory.ipynb\">physics</a>.<a class=\"ProveItLink\" href=\"../../../../_theory_nbs_/theory.ipynb\">quantum</a>.<a class=\"ProveItLink\" href=\"../../theory.ipynb\">QPE</a>.<a class=\"ProveItLink\" href=\"../../theorems.ipynb#pos_domain_in_full_domain\">pos_domain_in_full_domain</a> theorem\n",
    "========"
   ]
  },
  {
   "cell_type": "code",
   "execution_count": 1,
   "metadata": {},
   "outputs": [],
   "source": [
    "import proveit\n",
    "theory = proveit.Theory() # the theorem's theory\n",
    "from proveit import defaults\n",
    "from proveit.logic import InSet, SubsetEq\n",
    "from proveit.numbers import zero, one, greater_eq, LessEq, Integer, Neg\n",
    "from proveit.physics.quantum.QPE import full_domain, pos_domain\n",
    "from proveit.physics.quantum.QPE import two_pow_t_minus_one_is_nat_pos"
   ]
  },
  {
   "cell_type": "code",
   "execution_count": 2,
   "metadata": {},
   "outputs": [
    {
     "data": {
      "text/html": [
       "Under these <a href=\"presumptions.txt\">presumptions</a>, we begin our proof of<br><strong id=\"pos_domain_in_full_domain\">pos_domain_in_full_domain:</strong> <a class=\"ProveItLink\" href=\"../../../__pv_it/theorems/95c64e72b7fc7a877c8d073863cf72ef26b09efe0/expr.ipynb\"><img src=\"data:image/png;base64,iVBORw0KGgoAAAANSUhEUgAAAaoAAAAcBAMAAADCReYZAAAAMFBMVEX///8QEBCIiIhmZma6urrM\n",
       "zMxUVFQiIiJERETc3Nzu7u6qqqp2dnaYmJgyMjIAAAAcRTyBAAAAAXRSTlMAQObYZgAABFdJREFU\n",
       "WMPdmF+IVFUcx787c+/a3LkzTlAoPsSIJBU9DDuUYqysCBW9eNMQH3yYxNyFQKeWHAlRK9RRXwZ9\n",
       "0ILyQhS0oTtkgyIU11bbMKmNopeKNqQNKq49rJlLOJ1z597Z++d3r+fedR/sB3PmzOV8z+98zu+c\n",
       "3zl3gHk2eV98zaYkjjZh/u1XB6pcFZXkNbuyYYW4n0Sijj0XG0r5y6lJwlSj3dpT4o4IUVFwEVVi\n",
       "U2Wr8anOJqEiRE8KRllnxbcTMaAyK65qLiq5Tyca+Xo8tuex+FQ+0YZHWKGKjbSPfU4bsWKVb3pi\n",
       "Jd0fbBLo8Y8ksfKJ1vDJfBWY5D9+ipz4GVb8LL6lynUNCxveFbg62M7d47sr9wM3Y1JRojTHWQZ8\n",
       "yX/8HqVWS6wYp7fPkuCz96FO41ng6Toz3aZy5LnBWq3WWZyuHpUKvh6QC5C45DBFRTgiRSr3dhI4\n",
       "waMReab0NANUH9kAn88Em68C7sVypeGJlS3P/NmNobvHtI6eQqryQSBW2WK4I1JkUS1oWqlAbUZR\n",
       "ndTDqJAjqBYBOxp9qjcb2vL8LJS7x54qem+mi0YgsTlUlCNSZFGl9yF3eWTkeOT6/QaxqK7p2KFt\n",
       "fLCbDf8uzsqfAEmVn0HvdXmLkzaP7d0iQEWKLKpUAfinXt8dHJsrQa12xpB7bfHA7amY7Q0k8gud\n",
       "rypNxVcN2VMUFSlSC3zRs8cvAIeCgtJstc6L7ezTr0kTIlTSvyEJL+M+zrd7GqwzElAFRTl+p5Gv\n",
       "A2uhTEZSTfHu2YEjaUIrkE1h8C6St/pTXFkp6z3CdiIBFSG6yidvmo0BKddhLA9fxNKKh2qYPT3I\n",
       "trly/g3r91em+ZJpToU7KxPPBoveFdjp0bSMzVa6RJwopvnbA6ZZCXVEiXpfZt1O8wvGAufRh2P9\n",
       "OKfqaX2sPFxuuvH55UDRxWKVIpzlO+H7zLVMPbFahgSxokRTdqwykxsd6ZG3dHxSLKneFXiAF0PA\n",
       "e2I5EGeQaYRcJPKuI2TIPfoS3oxNRYk6+4pfOA5tZcWntRLbYcxaraM+qiE7Y7XYDAhQyQZSjZAc\n",
       "qGx7hsyBm4GHY1NRom4OxBm22rNNaJ0rYUs9tdlLtdQewzua8oOPKmU5G2VC5Rbs4viVscHACBwE\n",
       "+QvqxpTZfeXxaiSVzxGvkCLrvMpxtIVMmnrUgGKRtGCMeanW2XcL6Zddmpcq/fytfifn7XSS0rV2\n",
       "+0YoVcgp3G63I6n8jniFFDl3C4bGRp3qK0LeVa+/zqje5tlDc11NBkLvFsI2LvQoPFaiZlHlHdUp\n",
       "XlQ6sZLW+xKoMbsxbBu5A1QXRN5q9CRUo45qPSQdl3jtO+BH3/YvxHq/Is1+vxqv1br7ao490ma9\n",
       "X33fzYg19lJ5D8u70p4B9PqavsijaszFmXQfcYQZ80C1hu+WV7zPHmL7irDT1ik0kdwX/b/FXHoM\n",
       "Met/i5zYdGVLuJvshGC7j+8qqlX4n9p/BXtPdv4oOuAAAAAASUVORK5CYII=\n",
       "\" style=\"display:inline;vertical-align:middle;\" /></a><br>(see <a class=\"ProveItLink\" href=\"../../../__pv_it/theorems/b380bd264787cfe4259c17cc65121d88e061c84b0/dependencies.ipynb\">dependencies</a>)<br>"
      ],
      "text/plain": [
       "pos_domain_in_full_domain: forall_{eps in NaturalPos} ({eps + 1...2^{t - 1}} subset_eq {-2^{t - 1} + 1...2^{t - 1}})"
      ]
     },
     "execution_count": 2,
     "metadata": {},
     "output_type": "execute_result"
    }
   ],
   "source": [
    "%proving pos_domain_in_full_domain"
   ]
  },
  {
   "cell_type": "code",
   "execution_count": 3,
   "metadata": {},
   "outputs": [
    {
     "data": {
      "text/html": [
       "<strong id=\"defaults.assumptions\">defaults.assumptions:</strong> <a class=\"ProveItLink\" href=\"../../../__pv_it/_proof_pos_domain_in_full_domain/37066d0423f782214ecfb7ef3cf327182f8227240/expr.ipynb\"><img src=\"data:image/png;base64,iVBORw0KGgoAAAANSUhEUgAAAE4AAAAbBAMAAAAgx6RqAAAAMFBMVEX///8iIiJERESYmJiqqqoQ\n",
       "EBB2dnbc3NyIiIhmZmbu7u4yMjJUVFS6urrMzMwAAADZVrDbAAAAAXRSTlMAQObYZgAAAXJJREFU\n",
       "OMtjYCAavMUnyQMiGkAE3wF86phAxB0Qwb2AoDo2AyAxg4GgOgYpBgb2X1hkV3/SXsCQ+vUCTF0n\n",
       "0MwJ2IxRBrqa6wPD6d1bd+8GWlrPwMDqgE3dwQcdDAwBcHsZHRjqkb3BrCgoDWac1eJ5wCAAV8ep\n",
       "wGCKpIxPA6bp+BuuXUjqOAIYZoNoo1BdsPPhZh9naXiDpI73F4MSyFg7hstgWbjJxxlymRsQ6vj+\n",
       "MewBUvegsgpI6ngWnAOpYwdz2f8ySAKpJYvAgcMXvRsIoOq4DnAHwLVx/WXYCaRWQXjsyOYxPOND\n",
       "qAOapwNU/QDKDUBWx+yA0Mb3neEQAwMLUF0BA0pUnwPidIQ6oH9bgabuY1jsAA12KNgCCoUNiPAP\n",
       "YLgPDLPbgXoQ5x66BRF/+BVoFhdCHTA+WC8gRQhvEjTe0AB3AwNnAhFZY/0CBiTf4wY2QHyECHVy\n",
       "oMgnrIwZ5DaWCQTVFYFJX4LqZhFfGAAArnlVLXd/nfYAAAAASUVORK5CYII=\n",
       "\" style=\"display:inline;vertical-align:middle;\" /></a><br>"
      ],
      "text/plain": [
       "defaults.assumptions: (eps in NaturalPos)"
      ]
     },
     "execution_count": 3,
     "metadata": {},
     "output_type": "execute_result"
    }
   ],
   "source": [
    "defaults.assumptions = pos_domain_in_full_domain.all_conditions()"
   ]
  },
  {
   "cell_type": "code",
   "execution_count": 4,
   "metadata": {},
   "outputs": [
    {
     "data": {
      "text/html": [
       "<a class=\"ProveItLink\" href=\"../../../__pv_it/common/e03ed56555b1a3a38c157310f9668aeba82693910/expr.ipynb\"><img src=\"data:image/png;base64,iVBORw0KGgoAAAANSUhEUgAAAIUAAAAZBAMAAADtUPA3AAAAMFBMVEX///+IiIi6urrc3NxERETM\n",
       "zMwQEBCqqqpUVFQiIiJ2dnYyMjLu7u5mZmaYmJgAAABN0h6tAAAAAXRSTlMAQObYZgAAAWhJREFU\n",
       "OMtjYCAfhJCtkzsAyoi9SbYZ5+EsTbLNqMRmBt89UoywnX0VyQzWiwdALJ5dpLljO4o7mFLBzvhA\n",
       "tPazV1wZGD6j+uU2iOCagFV92QEMIZ4GhvUKrAkMTC5A4AM1YyWmGYVQ5V39mGbwHmBgS2BsOIzi\n",
       "DtxmMDC8xzSDbQIDx2degQUoMUSiGdx/GDi+sjbC0pjt/EYUM56kORE2Awg4/6CLLAMRHBuAPn3K\n",
       "oEeUGfoL0EXegyMA6DZVovwCBDMwPXgBmPkmAxnHj1wA8Vfv3j1t9+4duM3gvYAp1inAwKAGdMcZ\n",
       "It0hiyUbN4DCw4GBJ4A4M9gvMBhjDQ9gvLADzTAgwowoBgZhrPECNIN5K8O5AjQz5EFm8PwGFRgb\n",
       "oAzmWatuYGQMePrQznRF88uN/L0PoPHA2QBlcP///x+3GVjSKbEAYkYCstAZsswgofzABsDlB8Mu\n",
       "SoxgSoLE+j3yjQCXpwCOB2+VUf9gTQAAAABJRU5ErkJggg==\n",
       "\" style=\"display:inline;vertical-align:middle;\" /></a>"
      ],
      "text/plain": [
       "{eps + 1...2^{t - 1}}"
      ]
     },
     "execution_count": 4,
     "metadata": {},
     "output_type": "execute_result"
    }
   ],
   "source": [
    "pos_domain"
   ]
  },
  {
   "cell_type": "code",
   "execution_count": 5,
   "metadata": {},
   "outputs": [
    {
     "data": {
      "text/html": [
       "<a class=\"ProveItLink\" href=\"../../../__pv_it/common/72e38e6f3ce32eff5feb1e6c559186b7d361dfbc0/expr.ipynb\"><img src=\"data:image/png;base64,iVBORw0KGgoAAAANSUhEUgAAALMAAAAZBAMAAACIvQJIAAAAMFBMVEX///+IiIi6urrc3NxERETM\n",
       "zMwQEBCqqqpUVFQiIiJ2dnYyMjLu7u5mZmaYmJgAAABN0h6tAAAAAXRSTlMAQObYZgAAAX5JREFU\n",
       "SMdjYMADWB0YSAd4NW2FKbo7gXgTidLE8wHGYiLeaOI0sU8gw2jsmvjuoShivrk3gGSj0TSxXjwA\n",
       "9souNGXcBWS4Gk0TUyrY0R+QQuyuSwADvwFpRmPVdBtEcCHpP8HA9YkhjIFBxQUIDmAzuuwAhhBW\n",
       "TSvRjb7DwJDGIMFjgOHqQqgDu/oxjcaqCcPoTAaGfoOLXJjRXghjvMc0GqsmDKP3H2DoD4gQhUf7\n",
       "DwEijMaqCcNoIJh/AFtU4TMaq6ZlIIJjA7IQ0y8G0o3Gouk9OM4DkIU4G8gwGosm7gsMDCGTgYzT\n",
       "u0EAVMLcxaJz9e7d03bv3oHbaGyaOoEhrobsasYLDKS7GpsmbpBHOJDL11oGZgOSjcam6T16CmFd\n",
       "wMBIstFYNS1DN9py1dpO/AEiDzKa5zeQOL8BysCqCTPL/P//E6/RN/L3PgBSM2DJYgYuTdiyDIFo\n",
       "JBZAjE4gQuUZsoxGLq+pB8DlNcMuGpjMlAQpBe9R3WRw3QgA7vaTtDc494cAAAAASUVORK5CYII=\n",
       "\" style=\"display:inline;vertical-align:middle;\" /></a>"
      ],
      "text/plain": [
       "{-2^{t - 1} + 1...2^{t - 1}}"
      ]
     },
     "execution_count": 5,
     "metadata": {},
     "output_type": "execute_result"
    }
   ],
   "source": [
    "full_domain"
   ]
  },
  {
   "cell_type": "code",
   "execution_count": 6,
   "metadata": {},
   "outputs": [
    {
     "data": {
      "text/html": [
       "<span style=\"font-size:20px;\"> <a class=\"ProveItLink\" href=\"../../../__pv_it/_proof_pos_domain_in_full_domain/065b92ba38d8dd00c305b5dacb539970ba30fdc10/proof.ipynb\" style=\"text-decoration: none\">&nbsp;&#x22A2;&nbsp;&nbsp;</a><a class=\"ProveItLink\" href=\"../../../__pv_it/_proof_pos_domain_in_full_domain/a6025944cc91b57ce5ecd9f5e92f5d5201fbac1a0/expr.ipynb\"><img src=\"data:image/png;base64,iVBORw0KGgoAAAANSUhEUgAAAJIAAAAcBAMAAAB47/sVAAAAMFBMVEX///8iIiJERESYmJiqqqoQ\n",
       "EBB2dnbc3NyIiIhmZmbu7u4yMjJUVFS6urrMzMwAAADZVrDbAAAAAXRSTlMAQObYZgAAAgFJREFU\n",
       "SMdjYMAN+BQYKAP7YAbNFCBR51tULtcHGIsXq0kNuP1wAJXPIoDfpDs4TeJegMJln7jzAV6T2Axw\n",
       "mTQD3WQH/G5ikMJhEPsvpCCaqfSAgb+AgEmdaHxe0a+7A7caMLBNQIitYWD7y/CUgeGSEhAswGIS\n",
       "SxSQqEcT5NB8wLCBiYGB1QEhNouBIZShh6sA3U0s0PhakwPyAKMDqkmcCQxsDrlAG5ACPJCB4XzB\n",
       "DDaMWISZxMAMMokTlmCNBAU3gPgLGGr4gD4zRTJ9/wKG8w/e9MFj8U8DNpM4AiCcR11wjVpMQPfM\n",
       "RnWq/AIsYYxqEi8kjrh2weWZG4yBpBJqPHxjIGgS3z8wmwcexwyLuEAe3oOih/EAYZPY/4LZTAj5\n",
       "c2BTJYF49W4QAOXcmVjS9O7dG6N37z4AN4kLYtJTkJ4NYI9MuAaidqIkjQkMRLupCJErGICey2LQ\n",
       "QdbiycBeQDicvoPZrHDpFLYLDAwBDIeQi4UEBo4CYuOOEybIfqAGyAtgaEXSUZiWeRCv7zhAhjBD\n",
       "05MIVJBpgRYD12EFhvtICWj///8f8ZnEefT3ZEQaX6ML0XpVO0gpPmgCA+sFwqUqC0o5yQ3jXVME\n",
       "5xak/EcQcKEk/PULcBS+AaTWGDa4JI6QapIcLonVJBrEjDM4WCaQZlIRbilf0kyaxUBrAAA0Q4FS\n",
       "wCu4wgAAAABJRU5ErkJggg==\n",
       "\" style=\"display:inline;vertical-align:middle;\" /></a></span>"
      ],
      "text/plain": [
       "|- (-2^{t - 1} + 1) in Integer"
      ]
     },
     "execution_count": 6,
     "metadata": {},
     "output_type": "execute_result"
    }
   ],
   "source": [
    "InSet(full_domain.operands[0], Integer).prove()"
   ]
  },
  {
   "cell_type": "code",
   "execution_count": 7,
   "metadata": {},
   "outputs": [
    {
     "data": {
      "text/html": [
       "<span style=\"font-size:20px;\"> <a class=\"ProveItLink\" href=\"../two_pow_t_minus_one_is_nat_pos/thm_proof.ipynb\" style=\"text-decoration: none\">&nbsp;&#x22A2;&nbsp;&nbsp;</a><a class=\"ProveItLink\" href=\"../../../__pv_it/theorems/2fe75f47e75ba0db86814167d9e7ecb7faf7f8fd0/expr.ipynb\"><img src=\"data:image/png;base64,iVBORw0KGgoAAAANSUhEUgAAAFoAAAAVBAMAAAA0iOSIAAAAMFBMVEX///+YmJiqqqqIiIgyMjLc\n",
       "3NwiIiIQEBC6urp2dnZUVFTMzMxERERmZmbu7u4AAADrYmUNAAAAAXRSTlMAQObYZgAAATZJREFU\n",
       "KM9jYEAF3AcYCANvmOK7CYQV832AsThwq14AYzAlEKEa5kbWa74biFfNwKJApNl8d89sYOAPwKWa\n",
       "z/+MHwNnfQVU9SsGzh8M2xkYes4AwQNMs3kEdjEwvGfgcnEpcXFkuMfAUM5gxReAyyVc2cwGDOww\n",
       "l5QxMKwPuMyJETqMx9JSwKp7HqxmYIOp9n/AsH7DLmt46PwygETT4QdQs6MXPHnAhhQm+Q8wA+AJ\n",
       "TIwrQJl7AZJqjp9Ygmsp3N0BnA3CSKrZFuCLCq4AhnVc20AsSEDcxaKYu8QFCKCqXzG4wyWYL2BR\n",
       "zYpsNveE7XAJXQbWAEzlBUiqGYR44HZOYGDGovoyXDUwvXHGwHhhM+cuw+IUNgXkBHcFJuz///83\n",
       "bPljTR/E6vwaUOgTyk4ccyAxjwIAiltT09cJAqcAAAAASUVORK5CYII=\n",
       "\" style=\"display:inline;vertical-align:middle;\" /></a></span>"
      ],
      "text/plain": [
       "|- 2^{t - 1} in NaturalPos"
      ]
     },
     "execution_count": 7,
     "metadata": {},
     "output_type": "execute_result"
    }
   ],
   "source": [
    "two_pow_t_minus_one_is_nat_pos"
   ]
  },
  {
   "cell_type": "code",
   "execution_count": 8,
   "metadata": {},
   "outputs": [
    {
     "data": {
      "text/html": [
       "<strong id=\"two_pow_t_minus_one_greater_eq_one\">two_pow_t_minus_one_greater_eq_one:</strong> <span style=\"font-size:20px;\"> <a class=\"ProveItLink\" href=\"../../../__pv_it/_proof_pos_domain_in_full_domain/e5b39d247e598180019005223465e8381966e5660/proof.ipynb\" style=\"text-decoration: none\">&nbsp;&#x22A2;&nbsp;&nbsp;</a><a class=\"ProveItLink\" href=\"../../../__pv_it/_proof_pos_domain_in_full_domain/99d7daed2667cd3159db4feb2c1359da98966dfb0/expr.ipynb\"><img src=\"data:image/png;base64,iVBORw0KGgoAAAANSUhEUgAAAEsAAAAXBAMAAACxLK9VAAAAMFBMVEX///+YmJiqqqqIiIgyMjLc\n",
       "3NwiIiIQEBC6urp2dnZUVFTMzMxERERmZmbu7u4AAADrYmUNAAAAAXRSTlMAQObYZgAAAO1JREFU\n",
       "KM9jYEAF3AcY8ABvmKq7CXhU8X2AsTjwKWNKIEYZ6zXfDcSYxqJAyDS+u2c2MPAHEFL2ioHzB8N2\n",
       "BoaeM0DwAKaML/cBQok6kH2PgaGcwYovAM00Ji+YCN/K9UBlZQwM6wMuc2L4mcML5isGeaAy/wcM\n",
       "6zfssob7+ZcBLKTPNCApA4L8B9iDaYkCsjKOnziDMwBJGdsCHMoYc5FNu4tDFXPmAyRlzBewq3qZ\n",
       "jOxTBl0G1gAsqmITGZCVcU9gYMaiLMqJAUVZ2My5y7DE9Akkjj0oeP///8aAF9yq9xVgoAfgc0sD\n",
       "AXjsAwAAzUXfesiGIQAAAABJRU5ErkJggg==\n",
       "\" style=\"display:inline;vertical-align:middle;\" /></a></span><br>"
      ],
      "text/plain": [
       "two_pow_t_minus_one_greater_eq_one: |- 2^{t - 1} >= 1"
      ]
     },
     "execution_count": 8,
     "metadata": {},
     "output_type": "execute_result"
    }
   ],
   "source": [
    "two_pow_t_minus_one_greater_eq_one = greater_eq(two_pow_t_minus_one_is_nat_pos.operands[0], one).prove()"
   ]
  },
  {
   "cell_type": "code",
   "execution_count": 9,
   "metadata": {},
   "outputs": [],
   "source": [
    "# two_pow_t_minus_one_greater_eq_one.derive_negated()"
   ]
  },
  {
   "cell_type": "code",
   "execution_count": 10,
   "metadata": {},
   "outputs": [],
   "source": [
    "# LessEq(two_pow_t_minus_one_is_nat_pos.operands[0], Neg(one)).prove()"
   ]
  },
  {
   "cell_type": "code",
   "execution_count": 11,
   "metadata": {},
   "outputs": [],
   "source": [
    "# LessEq(full_domain.operands[0], zero).prove()"
   ]
  },
  {
   "cell_type": "code",
   "execution_count": 12,
   "metadata": {},
   "outputs": [],
   "source": [
    "# SubsetEq(pos_domain, full_domain).prove()"
   ]
  },
  {
   "cell_type": "code",
   "execution_count": 13,
   "metadata": {},
   "outputs": [],
   "source": [
    "# %qed"
   ]
  }
 ],
 "metadata": {
  "kernelspec": {
   "display_name": "Python 3",
   "language": "python",
   "name": "python3"
  }
 },
 "nbformat": 4,
 "nbformat_minor": 0
}