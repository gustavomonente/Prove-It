{
 "cells": [
  {
   "cell_type": "markdown",
   "metadata": {},
   "source": [
    "Proof of <a class=\"ProveItLink\" href=\"../../../../../../_theory_nbs_/theory.ipynb\">proveit</a>.<a class=\"ProveItLink\" href=\"../../../../../_theory_nbs_/theory.ipynb\">physics</a>.<a class=\"ProveItLink\" href=\"../../../../_theory_nbs_/theory.ipynb\">quantum</a>.<a class=\"ProveItLink\" href=\"../../theory.ipynb\">QPE</a>.<a class=\"ProveItLink\" href=\"../../theorems.ipynb#inv_diff_l_scaled_delta_is_real\">inv_diff_l_scaled_delta_is_real</a> theorem\n",
    "========"
   ]
  },
  {
   "cell_type": "code",
   "execution_count": 1,
   "metadata": {},
   "outputs": [],
   "source": [
    "import proveit\n",
    "theory = proveit.Theory() # the theorem's theory"
   ]
  },
  {
   "cell_type": "code",
   "execution_count": 2,
   "metadata": {},
   "outputs": [
    {
     "data": {
      "text/html": [
       "Under these <a href=\"presumptions.txt\">presumptions</a>, we begin our proof of<br><strong id=\"inv_diff_l_scaled_delta_is_real\">inv_diff_l_scaled_delta_is_real:</strong> <a class=\"ProveItLink\" href=\"../../../__pv_it/theorems/88c1afcebfbd62d7d5ebdf88f4e65e8d1bd0ad300/expr.ipynb\"><img src=\"data:image/png;base64,iVBORw0KGgoAAAANSUhEUgAAANMAAAAyBAMAAAA0MfPNAAAAMFBMVEX///8QEBCIiIhmZma6urrM\n",
       "zMxUVFQiIiJERETc3Nzu7u6qqqp2dnaYmJgyMjIAAAAcRTyBAAAAAXRSTlMAQObYZgAABBZJREFU\n",
       "WMOtWEtoE0EY/vPYzWazeShSRVCioNeGtj4qiEVBxdN6sHqRRvB5SsWDFsRGCzZWqvGioggxgkLB\n",
       "F7WHgmBoRdQWLBSkHrSVIgUFK7VFG23r7E52d7ruzOaxc0iWmdn5Zv7/+7//nwVgt5fgQLtfzCQp\n",
       "5wSUd6yISevBkfbJfkogQh1ZWQqUYG+cuw0067/KlwIlLrOd0kYdCZYEBU9t7Zd3CspnZ0FfzCmo\n",
       "wKzNhNG0U1Bwymb8DDgGNZphDnPTzkE9jjKHPRHnoEJswXDFnYNys3nRNOQclH+OOVydZuyyRCio\n",
       "Yo6eZ7jx0PzW0qDaAVR3fbQcXVGpoAdPpuY/d+LndwADyv9XS438WXHyCIlxrrMDB5YMNxWfJS3D\n",
       "aqpiKMGfg+R1zLEohFAYS08sdetP+ZZrP31Og6oP4RiOQfBtV9cN6/kz5SJxFzLGqeoF9TGMgvR3\n",
       "KnW2nKhjtEcZwoDxnRgKOekIwCUQExYlTL5cqBOErwKnMOdciOo7QES/u/AYv6K/TUtSnrKhkgbU\n",
       "8tPfCirXjPIfuJEA9SNyP68d8qWlrHZ6/gc++UIpTXXV6u+oYaiXsY5CmkXaLQ350BMKtJHeLgjA\n",
       "wTuwGKr05idOlas7YED5xxrR0yx4seFiehVQvgEjBJTwEGcqHzIgXDqMzhwBTP/gbVmnRdkMrCGg\n",
       "uPgGnRbQjfDcSbin9mQlg+y2cfWFVv48MYQJBnhZT35hdEIhCvtTqVQUcm/hlhbC1HxfcKdIOnN7\n",
       "D/Tq6nl8jy63snBFVZ2w4p8gopxrH/BqId8zBG80YSpAuVtlkw4nQaxNyRBoJqTl2VWZ1/Ob9zUW\n",
       "JrK40DgQdoOkLOjxgFdbgNMS56hZr9PoGiNN+zeNG3vgQVTjk57StTrGg+5Rl9H/+6ODE3pFoSWR\n",
       "zaa3hgG2ACyBEKHSklIc9DGgXpCS7lZ8RTbNBktNb7UALAdIpMNEQeBV6HqXAfUuzSLYtkJEmpjo\n",
       "RxaezEBC3kv2TiiWbaAvliimIg2aVMONY701s140dpqtRm6X6DW+TfXQhM3Lm3K0oNZs3r9QY8Qg\n",
       "91VAGwrSeeGfKqbkdEWtAtQXh8Z1KvXVO5+sJFKS/aUlPw+2XJNiJvG72hR2u1SP1OoBM6aSlENQ\n",
       "HF2ghWb2xRzH8BrzYRsMh+HjAawCLs+ECkeLuRRdFC0M2A1+gr3iDATRtr30rVdnirkUzUn/04LL\n",
       "gZsMlBm1l0GLKhvldqm6NZ011RzIdjcG+4+RfX2wW3FuruwLKr52D5sWUMw0ubDwaxH8WsV3IZla\n",
       "5sbsEtK4ZW8LbfoD+seEjB3UNcttDtOm91XwicQ6JgWKctKTCG9rP4CNlksmKWFKFe+RIgoSPspI\n",
       "+Ob2oaKPdFDnyKdHlRT/AP36Mb34LALLAAAAAElFTkSuQmCC\n",
       "\" style=\"display:inline;vertical-align:middle;\" /></a><br>(see <a class=\"ProveItLink\" href=\"../../../__pv_it/theorems/3a9d04e8304d8899b8517b7008d316d37e6e3b570/dependencies.ipynb\">dependencies</a>)<br>"
      ],
      "text/plain": [
       "inv_diff_l_scaled_delta_is_real: forall_{l in Integer} ((1 / (l - (2^{t} * delta))) in Real)"
      ]
     },
     "execution_count": 2,
     "metadata": {},
     "output_type": "execute_result"
    }
   ],
   "source": [
    "%proving inv_diff_l_scaled_delta_is_real"
   ]
  },
  {
   "cell_type": "code",
   "execution_count": null,
   "metadata": {},
   "outputs": [],
   "source": []
  }
 ],
 "metadata": {
  "kernelspec": {
   "display_name": "Python 3",
   "language": "python",
   "name": "python3"
  }
 },
 "nbformat": 4,
 "nbformat_minor": 0
}