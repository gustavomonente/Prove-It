{
 "cells": [
  {
   "cell_type": "markdown",
   "metadata": {},
   "source": [
    "Proof of <a class=\"ProveItLink\" href=\"../../../../../../_theory_nbs_/theory.ipynb\">proveit</a>.<a class=\"ProveItLink\" href=\"../../../../../_theory_nbs_/theory.ipynb\">physics</a>.<a class=\"ProveItLink\" href=\"../../../../_theory_nbs_/theory.ipynb\">quantum</a>.<a class=\"ProveItLink\" href=\"../../theory.ipynb\">QPE</a>.<a class=\"ProveItLink\" href=\"../../theorems.ipynb#scaled_delta_in_interval\">scaled_delta_in_interval</a> theorem\n",
    "========"
   ]
  },
  {
   "cell_type": "code",
   "execution_count": 1,
   "metadata": {},
   "outputs": [],
   "source": [
    "import proveit\n",
    "theory = proveit.Theory() # the theorem's theory"
   ]
  },
  {
   "cell_type": "code",
   "execution_count": 2,
   "metadata": {},
   "outputs": [
    {
     "data": {
      "text/html": [
       "Under these <a href=\"presumptions.txt\">presumptions</a>, we begin our proof of<br><strong id=\"scaled_delta_in_interval\">scaled_delta_in_interval:</strong> <a class=\"ProveItLink\" href=\"../../../__pv_it/theorems/0d26d5ce8717282b4925193d41926dc0df29be7c0/expr.ipynb\"><img src=\"data:image/png;base64,iVBORw0KGgoAAAANSUhEUgAAAH4AAAAbBAMAAABINCZSAAAAMFBMVEX///8iIiJERESYmJiqqqoQ\n",
       "EBB2dnbc3NyIiIhmZmbu7u4yMjJUVFS6urrMzMwAAADZVrDbAAAAAXRSTlMAQObYZgAAAklJREFU\n",
       "OMu9lM9rE0EUx7/d3WyS0Wwb6EUPWnvxohgETxWshx48VCLi2ZzEHpS1/0AiItQf2K2H0lYP24NS\n",
       "sJAIXlJ/NIrozagH8SC4CL0pKpRWIk19s7M/ZpNdCB46kJ153+xn35s37w0QjBf4v/FDTOxXVK70\n",
       "iBsNMWsDUf1Lj/wu253SM3UnouuF3vg5/zujkvj5NLC3881bnRnSTPLboq3PDzvoN8M/1PEjDm50\n",
       "8pcoqGuXZeUtKRawDH0La5K+Gwwox/BPsOi7GaN9PwJSFPYCcA63mRnde99oF68WodfEab1pEq9X\n",
       "UKbpDNA05/TwzdwmPbJDnnU0n68JXmlAa3nqCQJZEcdouWqj6Xy/I7l6TL9MUay/3Qz89zeQW5d4\n",
       "PMc9Ye235UiXpksUhPDEVsL4qxZyf2R+AsMi4I1ISa0oVIxGW+TSDPlyCUaEH8Ez1+jzipDnHXjg\n",
       "qMSmt1xFkfJXtmBsyPxJ7HGNef+dKs/UXdc3E/zaUxq1hPh/os7XGcvn3UDOwmgF/icl/5Q/bT3K\n",
       "H+LrU0hL1cfaUKmZjE3XSkm8MgRVPj98wCuerxIyEo82lEKQ/2wlrn6C/F2n55ULEy/l/F/ER94E\n",
       "3vkPSvU7SLllf11rmvOz+ErT6vb270jrTllS/S0ftgP+4dQ7IM/t++frBX5npd4nXgx+4J8O+PXr\n",
       "tW1Qa2wA2VISX7W7+0+EFwZagVFM4o8jgV8KFOpfvE7i9yXx4cV20PtG3FC7Nna18/5S+aFrVjw/\n",
       "2ev9Px4vL2Anxj8SGZjGVZgvpwAAAABJRU5ErkJggg==\n",
       "\" style=\"display:inline;vertical-align:middle;\" /></a><br>(see <a class=\"ProveItLink\" href=\"../../../__pv_it/theorems/3a80034f38fe183bbb55f6a19d3b9b86337249100/dependencies.ipynb\">dependencies</a>)<br>"
      ],
      "text/plain": [
       "scaled_delta_in_interval: (2^{t} * delta) in [0,1)"
      ]
     },
     "execution_count": 2,
     "metadata": {},
     "output_type": "execute_result"
    }
   ],
   "source": [
    "%proving scaled_delta_in_interval"
   ]
  },
  {
   "cell_type": "code",
   "execution_count": null,
   "metadata": {},
   "outputs": [],
   "source": []
  }
 ],
 "metadata": {
  "kernelspec": {
   "display_name": "Python 3",
   "language": "python",
   "name": "python3"
  }
 },
 "nbformat": 4,
 "nbformat_minor": 0
}