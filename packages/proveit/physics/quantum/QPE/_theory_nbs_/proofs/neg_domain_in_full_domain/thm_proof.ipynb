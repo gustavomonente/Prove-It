{
 "cells": [
  {
   "cell_type": "markdown",
   "metadata": {},
   "source": [
    "Proof of <a class=\"ProveItLink\" href=\"../../../../../../_theory_nbs_/theory.ipynb\">proveit</a>.<a class=\"ProveItLink\" href=\"../../../../../_theory_nbs_/theory.ipynb\">physics</a>.<a class=\"ProveItLink\" href=\"../../../../_theory_nbs_/theory.ipynb\">quantum</a>.<a class=\"ProveItLink\" href=\"../../theory.ipynb\">QPE</a>.<a class=\"ProveItLink\" href=\"../../theorems.ipynb#neg_domain_in_full_domain\">neg_domain_in_full_domain</a> theorem\n",
    "========"
   ]
  },
  {
   "cell_type": "code",
   "execution_count": 1,
   "metadata": {},
   "outputs": [],
   "source": [
    "import proveit\n",
    "theory = proveit.Theory() # the theorem's theory"
   ]
  },
  {
   "cell_type": "code",
   "execution_count": 2,
   "metadata": {},
   "outputs": [
    {
     "data": {
      "text/html": [
       "Under these <a href=\"presumptions.txt\">presumptions</a>, we begin our proof of<br><strong id=\"neg_domain_in_full_domain\">neg_domain_in_full_domain:</strong> <a class=\"ProveItLink\" href=\"../../../__pv_it/theorems/54a192b232d27884af56391a206a4e1219d8744a0/expr.ipynb\"><img src=\"data:image/png;base64,iVBORw0KGgoAAAANSUhEUgAAAgQAAAAcBAMAAADsNrp6AAAAMFBMVEX///8QEBCIiIhmZma6urrM\n",
       "zMxUVFQiIiJERETc3Nzu7u6qqqp2dnaYmJgyMjIAAAAcRTyBAAAAAXRSTlMAQObYZgAABGFJREFU\n",
       "WMPtWF2IE1cUPptMEjNJxjwoiA8ly76o+BBWakVZiQgt9MWgRXzwIYq6giCxi0ZU1CrVrKWw1Ieq\n",
       "0O6ItNWV3Q1q8Adaxl3tFlt0RRGKiivCij8MfVDQfXB7783fvTNnxjR3loD0QC4zZ+ab79zv3nvu\n",
       "yQWQtjXQVFvTtJi1dPli1SfN6HhD9BIxf4H4BqtXnzVDgoboEVCiPmQggzgvNleChugR0Kd1zh+d\n",
       "NHdGBd/RvR9PkQSBdh3xekFvAa2aR5roaF3QdvIbMCzOFxKzIOzEe5k2ykz7A2/oLaBlNDXsAhij\n",
       "Nw9dA54gzSPOcWrR1wBvJSQ47fQg2EPbpfYH0vQYyE/73gbwJ7157oaOJkkzUrtXM3ArFYiDkid2\n",
       "BIshMts9nmeYk4JUNiAVrlhnLpcrJXFZehQUzZKmF+AYHef9bgG3FMQY/Dq0xH2ZM7ZhiJTT68+/\n",
       "T7gqEEvyd+d40BDX3/DLnupLsvQoiEkQKrBcFy24RdyrizG0ZCH41p8wbHm2EgPE3CUI9SASlEAn\n",
       "uf5q3Guy9CiISeDfD7EbfX3fu0Z82xKDNgHB14H1lTLj6L71/1ECkU6QQEvVuJYAKkFD9CiISeCL\n",
       "A7zJ5/fYw+Qy8FJLDHQc0T7WK0EbfeWrWSlEApZ3rpYcWVyCRuntoGic7j/EvRGg2w7glmueNluF\n",
       "pysMGQm+Jb+OtDKKSBAbq6b/MF+QeUBvB8X+oWXIa4Dl5TzsKME4/by4V+8AGQl2E+3T+EKI0KHX\n",
       "GLnK5Wgv6BHQE6r0KzJBwMdVKoGua9CaESToIt7DJDWpJjMSvD+JbJ2m+fQj08w4xVBDwwxyd+Ug\n",
       "8940zW2mOV4FBejAQGdCXAge0KOg4Jfks69oiRiquM4Od8ClqO7Xhxd0LSjwWokVWxtIzQIqgY7P\n",
       "AiaBVloCQzWEB/QYaLw8C8JjqyvQb07o8GsiGRUXwiHabOa5knBcciH85LAjKNlaKahxW7U0PQYq\n",
       "5QJaMnZvIM1vuSTJCsSKxe8sEmy2puS1AHMl02GRSA9O6bC8I6ibPkd3hIboMVB1R4DzRPlIAdKl\n",
       "vwvFaP9aUYJWSwzhPX8tzLrG4GMxDJLvqe/KF7wNA/yYVu9bJGAgv8FxBf7ACuSG6FEQqwtiVIfp\n",
       "BOqbb4DKul0EY1iUYIWlOtQmJyddY/Cve9dBN+JMOQ+HLOcNpDpVHu9MixKUQOxcZ8T+aVl6FFSp\n",
       "DokOpIu+9gQEdubzB4gEP9D0mOaKyxQelvMwvMfwApnZL/BeCaTpRQm0CqqfNpnSLFBWWrYTo7Y+\n",
       "XU3V66MW/yb18TdDDv31kl6UYLCCWgmKDtfp1V2AB5ZjnLjlD7u0dTv2Yow7LxjJ5aq5wFP66thS\n",
       "tnvVgcm9AJhGdiFlbwqClle30PlieMjteGQyjS4RZQZydmdMgQTL6ArfLvrmkFyA2ABtzo96x+14\n",
       "cPa349mhl/RlY2eHsfq0jSThg7Vjdb534cOVYDH8bwD/Aj1Jh0jUMkw/AAAAAElFTkSuQmCC\n",
       "\" style=\"display:inline;vertical-align:middle;\" /></a><br>(see <a class=\"ProveItLink\" href=\"../../../__pv_it/theorems/59000b8695e6c38155060de382cff9c171cf10260/dependencies.ipynb\">dependencies</a>)<br>"
      ],
      "text/plain": [
       "neg_domain_in_full_domain: forall_{eps in NaturalPos} ({-2^{t - 1} + 1...-(eps + 1)} subset_eq {-2^{t - 1} + 1...2^{t - 1}})"
      ]
     },
     "execution_count": 2,
     "metadata": {},
     "output_type": "execute_result"
    }
   ],
   "source": [
    "%proving neg_domain_in_full_domain"
   ]
  },
  {
   "cell_type": "code",
   "execution_count": null,
   "metadata": {},
   "outputs": [],
   "source": []
  }
 ],
 "metadata": {
  "kernelspec": {
   "display_name": "Python 3",
   "language": "python",
   "name": "python3"
  }
 },
 "nbformat": 4,
 "nbformat_minor": 0
}