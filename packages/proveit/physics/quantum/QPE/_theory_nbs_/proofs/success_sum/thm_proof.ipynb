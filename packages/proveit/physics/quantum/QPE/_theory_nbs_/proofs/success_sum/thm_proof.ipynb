{
 "cells": [
  {
   "cell_type": "markdown",
   "metadata": {},
   "source": [
    "Proof of <a class=\"ProveItLink\" href=\"../../../../../../_theory_nbs_/theory.ipynb\">proveit</a>.<a class=\"ProveItLink\" href=\"../../../../../_theory_nbs_/theory.ipynb\">physics</a>.<a class=\"ProveItLink\" href=\"../../../../_theory_nbs_/theory.ipynb\">quantum</a>.<a class=\"ProveItLink\" href=\"../../theory.ipynb\">QPE</a>.<a class=\"ProveItLink\" href=\"../../theorems.ipynb#success_sum\">success_sum</a> theorem\n",
    "========"
   ]
  },
  {
   "cell_type": "code",
   "execution_count": 1,
   "metadata": {},
   "outputs": [],
   "source": [
    "import proveit\n",
    "theory = proveit.Theory() # the theorem's theory"
   ]
  },
  {
   "cell_type": "code",
   "execution_count": 2,
   "metadata": {},
   "outputs": [
    {
     "data": {
      "text/html": [
       "Under these <a href=\"presumptions.txt\">presumptions</a>, we begin our proof of<br><strong id=\"success_sum\">success_sum:</strong> <a class=\"ProveItLink\" href=\"../../../__pv_it/theorems/6f0227a2e0eebab84e9737bac3d63066111aab790/expr.ipynb\"><img src=\"data:image/png;base64,iVBORw0KGgoAAAANSUhEUgAAAbsAAAA/BAMAAACLEXtXAAAAMFBMVEX///8QEBCIiIhmZma6urrM\n",
       "zMxUVFQiIiJERETc3Nzu7u6qqqp2dnaYmJgyMjIAAAAcRTyBAAAAAXRSTlMAQObYZgAACEtJREFU\n",
       "aN69Wn1sFEUUf9z37e3dNUYTIBDOYgQNygViiEBphRiJmvQkkcRo0gY/IgRppYkQRfuhf5QY7YkG\n",
       "FaK3mDRBFO8INhii9tKrGvHEA4xoACmJ0CgRCrRAC/ScmZ2929nb21282b6keZfJ9vfb387b997M\n",
       "DoA1OwyVGw8MM3NFWW/NAs2VM/PAMLcOjbdk78QqJ+aBYW476lhvydZzIFZhfLshalt0TmG9FRMH\n",
       "KudVYQRSYN9MLtF4C5aoq5xWheGYk7YvOpMp1luwTg60KgzHvIh98sQq1lvIeaMc8qYKY7eduUW4\n",
       "yHpzC7VVzqrGWAEuyT59v0isN7WGXOWkaozghrM2Tl8ix3pTa+JA2gQTZaEB1ptG82UOb8TlCZPn\n",
       "GGW9mQWHK+fkgWH1SV5nvZn5hirn5IFh1U5pvImFOSROHhiWU2eM9SZWz6HH4IFhmSvCerOnwaEl\n",
       "UzDO54t20SZ5yTbWm9h5DjVYwejNyxEjvPfbjAs2yfNWsd7ErnCgVDCc+cKiNtiaskeeZ5T1xua/\n",
       "WjljEaO1WACdA/bIc9xgvUkzfIlDQ13AaMgXe6X77JEXvM56k4dhNQX45RsPxI0wgvliyATLY917\n",
       "2oxG+wARa3CQJDAXDRDsSYCcMLpr5zV6M01Xn1u30ODCndSvLo+BrKvkVdYD7jeiEdq1u1KzRgir\n",
       "SOT5x+lzQP4n/OMfwzdV6afC6FG0G2TRv6n/Qs6NLZIOBsCOfMk+iw5wvyFNSAsRHCKssjxQUjLy\n",
       "H2CZhgUipERTAyrNveVLZVDhFOVrAmfipRgoZPLXShZLpcD9hjRhmnOPHJwv1xlnG2Gl8mbQS5EP\n",
       "oacmGmboSWP0x1z0z3PLdx9eRY1A643rTKwEA1f4C9oI0AHuN6SplxFWxkU4IuNHCKsijxIgHzyw\n",
       "a9f7xu2i0g134WVb+Q6miPIX9e7OOi0Gnsm8tiDoAPcb0vwgw0dABIHETCJGWKm8Vvqgsb/a2bnJ\n",
       "mjz0pvoNisRMHDntkxFDppDk1qVK5QkztAlbBl66Zmm1Sp7r+w+rV7n7ntGjOVO9CEck0gOwBQ+e\n",
       "BMKqI+9ZgM2l95ouledGd7XPoDN+C/3VxFwobf9ZTOIL4iXyUGPGzhQFTr+dalfJE30dkLwD9pC3\n",
       "+RyxKKURxqUkwv2DyBPx4PNAWKm88/SlwH4ZCDrdQ7RUnuNyNnO3wSy/gt42GXdfMQ+0lM4easym\n",
       "skWRALtTL8GDKnlPegcgkSbzoqUJjEE4Qu4RaXNhSbfIrFReF5WHvRccqjrpbumH2xsZeUmaKXxj\n",
       "xlX9VvRY979OMmHhxjdJLAYNGjY6ZWBBGGbePSlZB70SmRctDermkiiM1mazB7PZLBLqHpVZFXk0\n",
       "OrAXc17lPz/L1MBXouSUdOWFlVraDZ9KZeTJ44q8z9drMegeFluVKXBgiE0tvQAL5HnR0qCyV59S\n",
       "Zg83MY6qsvL8AyuVSHpzmwTfRKIiZOa3zC8UiySlbcCSHff0CV1wKALZTFzM3i/M64Pq4xE0SqKm\n",
       "W77yIdm9+ypoMWQ7xLZtDdFChx2sWTHTcWeMyFsCsAlco0Lx3WukwRnOQa2kyAuiq32NEmHVkQeb\n",
       "cXLC32yW4aGeni2i/ruHqxM8ijJVAnwRT9qTXgtrQznPl2l/BI/id74HPS1QUsvWszrZl9TDkdKy\n",
       "h2sXirfgA7lJaxyNRN40QOHqHNhemsHCdcJ09OsRIs+J4XPpcqkF9jbTbzYkw/SIu5/Sl0dWpIlF\n",
       "uyAJnkhCAj96ZRqkwOpL+yU8ihPzxzHhGLpoMXmX3oAy8hpSuktdXLu2zUL37kxjef5hHK6htDZX\n",
       "IxpPzofvzyNheZgw/HCEsOrJw0kIf7ORC2QPpDO68pbkV+En3zVM5NWjn2j85InD6eX5OjyKg8N1\n",
       "aiNGPF2+dmLdmtdJBqYhvQoeA2+K1L1mcEQhUKNdf6DLhHk/E6CFSF4Ayw8ullmVukflER+U5G82\n",
       "7o2dnR1I3kdeVp66oYInUP5NouBMxME/Sl5ndzzQjEdVTVlz+cYOdPphtd0GsyHhNmvKlApzl+h+\n",
       "AVSsOmWdGPlm0yjPnmsFcqo9NK9a3l7wQVjakfZEhcjT8IkvB8ei0IZHS1pq5p5UGEZf0/xDaP5+\n",
       "F81aasW2ZBYVfuu31LKRbzbf4V+/AhzX7MCqM8HX1T+i9DbzBmSqQURTnp0T6JsTx6PF5ocuiAY3\n",
       "YItpMcSXi0vQknt3NaL1ztYDhguizfrDqgVRng7lC48Ef7PxoZh3vVYHnrJLUWPbWZ5fhaGqCsfK\n",
       "Y/Wb0+ioluUJdMEsaBbOszs7DHZmrG5GBONGGKqq4DLYqJt1s5sRmNUhb0a46b6V29IeWMDipwhr\n",
       "GIlCVRBqbToeoexbWdsDc3P4dlXAEKYpQ9ub8jYdj7i5jUAY50CpYITG5f7qxXw+f8UedeAcYb2J\n",
       "tXKgVDBqJ+AbQ2iI9SZWyyGIaifkxBW7tAlbO8TWy+HkAA8Mq0ZXIAVvYsnGyil5YFi1uSnWm5iX\n",
       "w0lFb/PEyWvSeBMTORxK4oFh1SZrvFk3wiHFEQxhQg63uG6w3tQGOZAOqnYp7DXPGOtN7SSHrE4w\n",
       "MhNSF6KsN/+HNAfSNN3ptd2UybA8KeJUDrkFY2jziy2Hjs9pvLlN48CKMNxV4OlEpkyiLYeOlRWX\n",
       "a8T6fEscYkYCR5umtbfj0LGylROyHhghDreBMHyFTZjleBIlWw4d75FYb2W5xqEoI4xJj4MHr4b+\n",
       "pUO2HDqervFW7CgH3qMQdrAjdhw69jSy3to/cchwnqhTs0Fkx6Hjo/9rQnjch50HqAvN3xTWW7Ru\n",
       "DtTdEyEvzvj/AB5qogeCGLfdAAAAAElFTkSuQmCC\n",
       "\" style=\"display:inline;vertical-align:middle;\" /></a><br>(see <a class=\"ProveItLink\" href=\"../../../__pv_it/theorems/dc7c0d9f51f891cb51bc1295dc02a6556b7a73c60/dependencies.ipynb\">dependencies</a>)<br>"
      ],
      "text/plain": [
       "success_sum: forall_{eps in NaturalPos} (Psuccess(eps) >= (Sum_{l=-eps}^{eps} Pr_{m}[m = (b MOD_ADD l)]))"
      ]
     },
     "execution_count": 2,
     "metadata": {},
     "output_type": "execute_result"
    }
   ],
   "source": [
    "%proving success_sum"
   ]
  },
  {
   "cell_type": "code",
   "execution_count": null,
   "metadata": {},
   "outputs": [],
   "source": []
  }
 ],
 "metadata": {
  "kernelspec": {
   "display_name": "Python 3",
   "language": "python",
   "name": "python3"
  }
 },
 "nbformat": 4,
 "nbformat_minor": 0
}