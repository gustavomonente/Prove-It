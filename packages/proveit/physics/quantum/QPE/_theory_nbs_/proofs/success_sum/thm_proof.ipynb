{
 "cells": [
  {
   "cell_type": "markdown",
   "metadata": {},
   "source": [
    "Proof of <a class=\"ProveItLink\" href=\"../../../../../../_theory_nbs_/theory.ipynb\">proveit</a>.<a class=\"ProveItLink\" href=\"../../../../../_theory_nbs_/theory.ipynb\">physics</a>.<a class=\"ProveItLink\" href=\"../../../../_theory_nbs_/theory.ipynb\">quantum</a>.<a class=\"ProveItLink\" href=\"../../theory.ipynb\">QPE</a>.<a class=\"ProveItLink\" href=\"../../theorems.ipynb#success_sum\">success_sum</a> theorem\n",
    "========"
   ]
  },
  {
   "cell_type": "code",
   "execution_count": 1,
   "metadata": {},
   "outputs": [],
   "source": [
    "import proveit\n",
    "theory = proveit.Theory() # the theorem's theory"
   ]
  },
  {
   "cell_type": "code",
   "execution_count": 2,
   "metadata": {},
   "outputs": [
    {
     "data": {
      "text/html": [
       "Under these <a href=\"presumptions.txt\">presumptions</a>, we begin our proof of<br><strong id=\"success_sum\">success_sum:</strong> <a class=\"ProveItLink\" href=\"../../../__pv_it/theorems/4cc04f1df6aa177c95da1da0efe741420fb2f3410/expr.ipynb\"><img src=\"data:image/png;base64,iVBORw0KGgoAAAANSUhEUgAAAckAAAA/BAMAAAB5rS7yAAAAMFBMVEX///8QEBCIiIhmZma6urrM\n",
       "zMxUVFQiIiJERETc3Nzu7u6qqqp2dnaYmJgyMjIAAAAcRTyBAAAAAXRSTlMAQObYZgAACJpJREFU\n",
       "aN69WntsFEUY/7j37u3eIdH4CIazGEtMlQvEGB/Q8xWJUTn9g8RoQlOVKBKLYsQHCjRqSgz2fAQV\n",
       "Y26RoAQkd8TUV9Bu2qoRz3iCoEbRGiPEJye0SCuwzsw+bmfvdmcxs/0l8N1tb3/f/Ha++eab2QHw\n",
       "h13ADRypXBHJ0tYfkku5NYAjlQe6HdYXns1z88+RygMbcrT1hfv5+bdRfbg8G1jInklbP5CGubm3\n",
       "USXLEFy/znVYHyjmuHm3UYXa1OBCtlSmrQ/08PNuowrNygSnUppMWx9pcYxfhrVRbQsy/YiHaMtG\n",
       "ahU353aqmyGiBCfzC4W2TCyscvNtp5KX/x5gZxartGWii5/vLpgopIZpywzxI/xGy5EJUxkaoy0L\n",
       "8gg31xypmA/0GG1ZSNS4ueZIxcRPDstAml+K5UjFTrJ52jIwn1+JwpGK7StDW9ZD4VffmVQHtToO\n",
       "BaSytIq2DBzkN3ebVP2aHkbiC3un/R2Qyvhk2jLwDz/PJlVYs9bS8spyMCpjY7T1hnCUm+M61cr6\n",
       "xBkeDkZl6DhtGQX2YX61ukW1UKsXXhcFo1I+RlvGM9HTw4W/MH/5wwPEvKp/e8+VCrvW6nEkuzN6\n",
       "OBWa16fIq3yA5LiIES7YknDZ59X28L/EDKF/e7WnFv3skYuGSEYxclqs4EaF0dsw2uWuo4vuvbQJ\n",
       "YXNsBnG1c6OsdZR4lYhK4YTxOJD9DH/4zXMUj9QdohsSZzFUpgx1InmA4jKlgQpjg9aw55NGN6xW\n",
       "/Kr8FXlyUsg14lVXCWbyRvYlrNZzRkmNWQ6jKMSThxgqd5vfBvSxuL/gpCJxpP3bsCpDJUN/xqdK\n",
       "GSlMG9lZvvxnfWyHVxGvhsppxk+RTaGHJ3nm8knjlsMQ6ovQMYbKh63uMvTszzuo9ALhb2foz0SN\n",
       "m6n6VBlHz26+zhC9G1SZdOukDPFqqjQcICvv3LLlRe/as2Y5xMV2bMRbpWANlpRR6ER7cjSV/lfN\n",
       "OYP04vVnzqdK3OZPzD0HUGEjWTHniVdD5UojiLA92tOzwq9KPHKKWW+VIfz3b055Aj1S85fCveVG\n",
       "leI0Z1CgQS8chisXX9liI4x8/HJLZ3TgDqer6ejf/pbL8McsVingUP8RiNcmKu8EWNPYXrWpSjRy\n",
       "kl6PhPQ3yvDhPXADGi5WZwkXFxpUoiqP7jc86N9RQX2mvNpGKCW6oXQubMffpL8IyMNbi57TCaWE\n",
       "eOUCaS5u8V1AvBoqDxojBdurjGRII9tU5cwllVkKQ2Uc9ds1et6pV3HLGvsSVXl0tg4dqQyeD9Hy\n",
       "g8btOuGt8WEoqqSXKDyK+MchjXowrHfK1chM0b0aKnsNldjGIWSbX6PLhuCcDkplabKloJdRt+Pf\n",
       "TEIutm7G90dNTaEVCkVlVnl0yCZIahLFEYpQKeWgXyG9ROFUUhqWkLxYpVL5o1JBuTU6pns1VRqx\n",
       "gq1UjZt3bh2cA+9KSlhxU2nO5GJeXO+lcov+xAyVb97voDJ32ehJPa1/TdZown6Ai/VecqpE0+X8\n",
       "stWXqOIKTXZVKQwvMOPq6fUKfJDJSjA4e9lsa3YpWREbJWVoy/eZzTV5CkiVS6AyWNjYlgldMICv\n",
       "WhEr6qES0Zv9/GPgoDLwJV0cLcxaxbs85+bpofPyhHAuwAqIjIn1cdlhRGy6Cu2KpXIPioYOhXht\n",
       "ohLW4PyFXz9dhS/19T0nuY1LPF1CRBUyQg26YQksiakx9U+453p4Dl+1sk8Sta9gZp91vzdQGfPo\n",
       "aON0iWMBtVi+ojppcaiDEE4FFMPh4VccfYmyTzonno15ykQlrhKqqlv2gbeWGq+fSKP6pG23ualM\n",
       "4ZEjHH5fEWvQKaAvRQWi4/B28bIt+KquEmVy4RfYhkMJpz3xCXBRubDcdIWN57z1rUgCvn0IhBEc\n",
       "wynVuZUyiAZkNUGauRirlBFb+roM8dpMJc5T+PWTSG7pA3XQRWX44BE8Kc3TclhlBF2ejx7d8X1t\n",
       "kd4RfFVXieP0xtOfxPN+3mXq1ce2Y6jN1TqJvRb/1wk3kWQ9hOnQDJyc4yz90c/EWZ+TjxsVpHIH\n",
       "qfR0r+Z8afgnVlb010/Rh3p6upHKV+O0SluFR3JKIbkUqewWUEIrFkiKuQXewVedFd4bbsWiXvt4\n",
       "vaE9DWZAMcqq8EzMKqgLqjavTaoCAvL6qUPvywiqmOyvT+O0ymQWVsG4OBVuh9diWTGzFuS3IEGu\n",
       "Nq3WqabZVHq9LUTjvhO+kVjVuvXztnqubF6tm6VgRIGP8KevAL537BSP0ioH2gqwe1d7VUL9P9gC\n",
       "0oC6o+VTclX/TYJeeR1YjpG3U5E65pH6DkKDhEgHWlit2+m58lrjsqVeX3lpxiXNejL49VMCPZDI\n",
       "4zmIua6iWaBW0QnPVbRtGvmOQei2im6+e2+tokVjdhcd6/UZPd3uu0St7B2RC6kdkW/dN5yoaSTi\n",
       "sZPYetI7IshrSN8RiRpbaVFfu3NJn69TToqqaA0ksT2ggyLmVpq/3bkov7dxFhVKXgZe6dICOihy\n",
       "cjuVcIKfZ5MqdUIv1u7TNO2fYERCeJS2DKzk59mkap+A9ySpGm0ZaOcXUu0TcjyNWuNYloF+focn\n",
       "OFIxYaxxLMtAqYObZ45UTMws05aBOL+znvGlE6eyy2EZkPgd3eJIxcQZDsuAwC8L6lSvT8QZishx\n",
       "2jJxgJ/vA7atkmARG6ctEz/yy/+ESspOgMp0lrbsG1R+vlVjYzpwmF3ju4uks/ilH0yVdqzJAjnZ\n",
       "/ZfDsjGVn3NMdRPEehDWmouHIE52m0u7yKj/3lf4BRKimuFYPARxstvcVkr5D5MUv2ZgKmutPg93\n",
       "qRLIye7tCm39rAv5TeaY6rR8DC+7/jQuBXKy+2yH9YOv+blHVDW674I42R3roK2/m/glQUR1eY66\n",
       "EsTJ7q//V/dwbEeQh9WtSvJM2vrEJn4t2DQRKguU/Q+cKNcrdiKDjwAAAABJRU5ErkJggg==\n",
       "\" style=\"display:inline;vertical-align:middle;\" /></a><br>(see <a class=\"ProveItLink\" href=\"../../../__pv_it/theorems/73c698e0f62b3d6de10d0664b613198a1f80654a0/dependencies.ipynb\">dependencies</a>)<br>"
      ],
      "text/plain": [
       "success_sum: forall_{eps in NaturalPos} ([Psuccess](eps) >= (Sum_{l=-eps}^{eps} Pr_{m}[m = (b MOD_ADD l)]))"
      ]
     },
     "execution_count": 2,
     "metadata": {},
     "output_type": "execute_result"
    }
   ],
   "source": [
    "%proving success_sum"
   ]
  },
  {
   "cell_type": "code",
   "execution_count": null,
   "metadata": {},
   "outputs": [],
   "source": []
  }
 ],
 "metadata": {
  "kernelspec": {
   "display_name": "Python 3",
   "language": "python",
   "name": "python3"
  }
 },
 "nbformat": 4,
 "nbformat_minor": 0
}