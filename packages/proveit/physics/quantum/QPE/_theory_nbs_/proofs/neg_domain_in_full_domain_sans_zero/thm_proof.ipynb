{
 "cells": [
  {
   "cell_type": "markdown",
   "metadata": {},
   "source": [
    "Proof of <a class=\"ProveItLink\" href=\"../../../../../../_theory_nbs_/theory.ipynb\">proveit</a>.<a class=\"ProveItLink\" href=\"../../../../../_theory_nbs_/theory.ipynb\">physics</a>.<a class=\"ProveItLink\" href=\"../../../../_theory_nbs_/theory.ipynb\">quantum</a>.<a class=\"ProveItLink\" href=\"../../theory.ipynb\">QPE</a>.<a class=\"ProveItLink\" href=\"../../theorems.ipynb#neg_domain_in_full_domain_sans_zero\">neg_domain_in_full_domain_sans_zero</a> theorem\n",
    "========"
   ]
  },
  {
   "cell_type": "code",
   "execution_count": 1,
   "metadata": {},
   "outputs": [],
   "source": [
    "import proveit\n",
    "theory = proveit.Theory() # the theorem's theory"
   ]
  },
  {
   "cell_type": "code",
   "execution_count": 2,
   "metadata": {},
   "outputs": [
    {
     "data": {
      "text/html": [
       "Under these <a href=\"presumptions.txt\">presumptions</a>, we begin our proof of<br><strong id=\"neg_domain_in_full_domain_sans_zero\">neg_domain_in_full_domain_sans_zero:</strong> <a class=\"ProveItLink\" href=\"../../../__pv_it/theorems/246c40faec929908d142ddbe3fa4a414bb0b35b60/expr.ipynb\"><img src=\"data:image/png;base64,iVBORw0KGgoAAAANSUhEUgAAApkAAAAcBAMAAADYY7kjAAAAMFBMVEX///8QEBCIiIhmZma6urrM\n",
       "zMxUVFQiIiJERETc3Nzu7u6qqqp2dnaYmJgyMjIAAAAcRTyBAAAAAXRSTlMAQObYZgAABnJJREFU\n",
       "aN7tmWFsFEUUgF/vbnvdve1REghBEzliJGo0XtoIDVJzxBj8oXYLpOFH450EA2pjT1DOKhGiAkf9\n",
       "s4ZE0ERZYmKwhPakJpqQlINGCQrY2mj8gdpYqVGaowmI9mI4Z/Zm9mZ3Z7d3vWvvjy+5l715+3Zm\n",
       "vp2ZN28WYF5E2ANVl03z5jRHcoXCbIpXqwlBhVxsWDXHTpWUjZwyaYpe+eaDphDhFPYbV+uKf1KJ\n",
       "Th5DVaonMaTqW8yFgfgc0RQaNU5pO1ajw+bCz2dD0+y04V77HbSrus0Xo6pSEwp1T5o0l4mrxpXZ\n",
       "0/zAoTyg4uct5lj+RL++tLns4OsPlk7T6rRWsc06o6u67SIQNYYvfiqbZiN+X1NMdU1JBYKp2Y9N\n",
       "yTFuPYvVw/ZybwipX5iCj5r3AlwtcWzynLxjtqGJu3r2skJsfo2ob+hbLUvELFIyg+xjkG/AAtWZ\n",
       "ZuC2GQa7yiv9FLW4D1+coyU/JBKJl/WrIxpbjt5HDL6NwLQLTU4buE6yrfW4JJiSuonNEybqMGZR\n",
       "9v5FDlsqXQ2wENoAHksi0RiaJwntr7LuTxxl/xAnqbMLEZNDDLUPzxs3DYGZpleDmgahAXy4CT0M\n",
       "zUDIuQ1cJz7NEYBLxCZOEYUXPDlVLs2alKXSJQBd6gpJtY3Nk3SuzECzm0MTTWS8PDcw1P4o3HS7\n",
       "hWZNHGqnPbFPbGOT0uS1gevEp7kP4LRGbK8RVf91b++hspdNfZaxlV7ToEtplO3RvUiaYtyRJvxW\n",
       "oOZNmRcblmYwC7V/eUNpW6B2o8l14tO8CdCaIrZmqv5JJneVTXOEU+lurf0uI7rfDJVGU1+Jflz4\n",
       "Fo8mntJn8v/9TGBosNDE5qywmcbjg7s3F0GT6yQ3cGhK1xHNELEtp+oZgAPFQnvOyaCH2FpT6PP9\n",
       "y72zSJp1aNvo/R6e4NH8uRC732VWPL32F0xPaU1z91juNO1O7GYlL6irIupfNERsrRpRj4BkoiBc\n",
       "NKXVQ29qRps7CjFQbl4N6wvTLKkHXNO2zB8rh6YfPftRh5mOZ18wrP8/xvDHbQ6Y96E7YRY0OU7j\n",
       "tr2FAiIam9E0sUUVovzgMaUP72hsWi2r6DV8R/+9atx1Ho+CTuPvBD4gwIGjL4MF5+dNnIZeymRe\n",
       "zGQmnHoi6c4Z3LIalCUePxa2OOVpRvHV1pBlpgfR2xP2q+xTvGHO7iOT+f2OTCbmSJPnVLvd3Drc\n",
       "VTLT87YjEaLkYaNJx4dQvjRoCsF+VZiWdwzbaHZDVNVvzcsOW8rgCUM5YxPT7HUYm1HCDshuibQ0\n",
       "bMuR7oRZjE2e04S1AHcVRaHTKWLrjxAljrXTh7/9vmajGRFvQNw+Nl/Cb2LQPBVq2W3rAIhqeTNd\n",
       "UhxormNynkLWkp/721hqYXivZJo8J866uUdf3VBz8jZjbMKBLUgNJsJoBcUyaEldAlm0rkpNTU0P\n",
       "sTT1vVaB5j5rTBfS4FHLi0IBRFN1ikJnaM61hZ5/1MWsMb0D4J6SafKcuDGd7t51W1SlagBZAilQ\n",
       "8im7jaY/FAjbZzrAdmBobrPSPHRhaKvrTPfoPelHdUq3gChzciVegRMpC80HMLs1LLWO/SSzzM8M\n",
       "hqa468LKuCtNSxvwBdeJv9/0p6TF1GbEdFiAHu65Lw1SfqXrtNAcArGRDJH111OmXPKoMfqWWyu9\n",
       "lsv97UbT+/StFhr4d3IiKW7Bk0v2Wl7BymXjw/kz6HP2Hap1vxnM5XKuNK1twBdcJz5N6ewKhdpG\n",
       "DFWPkHoaQyC8kky+AZvCZpr1lmhCE1icRwvGtr9V41bqMjZnkm5HJynOpenLArfcZWwWfQrhwteS\n",
       "C+lyAqsYb2w+zmz72LanfQozNnEI5iwvHOktsgejjk6mUw9GFgGznroe9mnl02ww2341lD6HwafB\n",
       "l8a6idJqsQcOa2KPcPVUD6+Cp059wUYhb5ob+sqQOtXJ0secb8qJhHEitwYs55sVE4fzzYJNylKV\n",
       "tybQVqMuRWjitFpYCm2qsLQml+MyWpbLsVFI0N/VZAV74HxajPNg3yJ7eZu+WKbngObaiK1o0mSr\n",
       "j1HFyN1o3WQQzSjMrc/rC1JLBbvg9CWjXnX4LlSrD4aB4YrD5H0XCrDfhcCvUOWCqASafVB1kcaq\n",
       "VvVlQ1nlqFr0QzpNKUTVZaBaFevfLvgfMMT7i31IB3tk/1n1aQYiVarYq1H1v1RQ/gNzIhctRnBG\n",
       "pAAAAABJRU5ErkJggg==\n",
       "\" style=\"display:inline;vertical-align:middle;\" /></a><br>(see <a class=\"ProveItLink\" href=\"../../../__pv_it/theorems/7863d4046f77fbc75646abca8538a61e28612d440/dependencies.ipynb\">dependencies</a>)<br>"
      ],
      "text/plain": [
       "neg_domain_in_full_domain_sans_zero: forall_{eps in {1...2^{t - 1} - 2}} ({-2^{t - 1} + 1...-(eps + 1)} subset_eq ({-2^{t - 1} + 1...2^{t - 1}} - {0}))"
      ]
     },
     "execution_count": 2,
     "metadata": {},
     "output_type": "execute_result"
    }
   ],
   "source": [
    "%proving neg_domain_in_full_domain_sans_zero"
   ]
  },
  {
   "cell_type": "code",
   "execution_count": null,
   "metadata": {},
   "outputs": [],
   "source": []
  }
 ],
 "metadata": {
  "kernelspec": {
   "display_name": "Python 3",
   "language": "python",
   "name": "python3"
  }
 },
 "nbformat": 4,
 "nbformat_minor": 0
}