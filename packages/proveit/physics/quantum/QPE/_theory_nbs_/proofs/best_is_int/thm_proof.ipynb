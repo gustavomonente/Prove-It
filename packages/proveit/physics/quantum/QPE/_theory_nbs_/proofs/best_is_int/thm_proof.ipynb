{
 "cells": [
  {
   "cell_type": "markdown",
   "metadata": {},
   "source": [
    "Proof of <a class=\"ProveItLink\" href=\"../../../../../../_theory_nbs_/theory.ipynb\">proveit</a>.<a class=\"ProveItLink\" href=\"../../../../../_theory_nbs_/theory.ipynb\">physics</a>.<a class=\"ProveItLink\" href=\"../../../../_theory_nbs_/theory.ipynb\">quantum</a>.<a class=\"ProveItLink\" href=\"../../theory.ipynb\">QPE</a>.<a class=\"ProveItLink\" href=\"../../theorems.ipynb#best_is_int\">best_is_int</a> theorem\n",
    "========"
   ]
  },
  {
   "cell_type": "code",
   "execution_count": 1,
   "metadata": {},
   "outputs": [],
   "source": [
    "import proveit\n",
    "from proveit.physics.quantum.QPE  import best_def\n",
    "theory = proveit.Theory() # the theorem's theory"
   ]
  },
  {
   "cell_type": "code",
   "execution_count": 2,
   "metadata": {},
   "outputs": [
    {
     "data": {
      "text/html": [
       "Under these <a href=\"presumptions.txt\">presumptions</a>, we begin our proof of<br><strong id=\"best_is_int\">best_is_int:</strong> <a class=\"ProveItLink\" href=\"../../../__pv_it/theorems/77c8571295c80e376017b59347b1cbea1656217b0/expr.ipynb\"><img src=\"data:image/png;base64,iVBORw0KGgoAAAANSUhEUgAAADAAAAAPBAMAAABQAFHMAAAAMFBMVEX////MzMyYmJjc3NyIiIhU\n",
       "VFR2dna6urqqqqpmZmYyMjIiIiIQEBBERETu7u4AAACIO4EmAAAAAXRSTlMAQObYZgAAAN1JREFU\n",
       "GNNj4LuzgQEFsO/5s+r0GgUGBq4JqBIsNwUYFvACGfwNqBKcCQxsDelARv0DiADT7d27wBIPGEwZ\n",
       "QaZkQ8QZrzyAa7rHC2IvdZkB4rxCiDM5KAFJvl8P3hsA6WCELW/5LgBJjn8M/A5A+gJCIpAVpJJz\n",
       "AcP7BKAVp1YBAcQjE8pAFNAb9UAHMyN0cIF05zHwKzDMB9l7AC6RwVYA4vIX8B0CcafAxJkDTIEW\n",
       "HGBgVeAFhwk3LAB4H9xj4Au6wMA3JQnM54utg0jU3Dp79/xZpABkz4UECRQAAOtdPTTXl4KaAAAA\n",
       "AElFTkSuQmCC\n",
       "\" style=\"display:inline;vertical-align:middle;\" /></a><br>(see <a class=\"ProveItLink\" href=\"../../../__pv_it/theorems/4e5ea3389a3a611aae7bd6192b11b569f3e9c6c30/dependencies.ipynb\">dependencies</a>)<br>"
      ],
      "text/plain": [
       "best_is_int: b in Integer"
      ]
     },
     "execution_count": 2,
     "metadata": {},
     "output_type": "execute_result"
    }
   ],
   "source": [
    "%proving best_is_int"
   ]
  },
  {
   "cell_type": "code",
   "execution_count": 3,
   "metadata": {},
   "outputs": [
    {
     "data": {
      "text/html": [
       "<span style=\"font-size:20px;\"> <a class=\"ProveItLink\" href=\"../../axioms.ipynb#best_def\" style=\"text-decoration: none\">&nbsp;&#x22A2;&nbsp;&nbsp;</a><a class=\"ProveItLink\" href=\"../../../__pv_it/axioms/46d8a91cef18e1b0bf83161bfe2f582a8ef37f480/expr.ipynb\"><img src=\"data:image/png;base64,iVBORw0KGgoAAAANSUhEUgAAAGIAAAAYBAMAAADzMjWaAAAAMFBMVEX////MzMyYmJjc3NyIiIhU\n",
       "VFR2dna6urqqqqpmZmYyMjIiIiIQEBBERETu7u4AAACIO4EmAAAAAXRSTlMAQObYZgAAAVBJREFU\n",
       "OMtjYCAecAkwkAjek6qBoRu31COsopa7JgJJFqxyptgNWgH2DAPfnQ1E6Hg59yIDw2eIDgauCYR1\n",
       "8AUw5BcwHoDq4G8grIPzAQPPAZaAxxAd9Q8I6+DZwMD6mdMhAaIjmwifc/1jYP3IGCIA0bHUZQY2\n",
       "HY0MDFV/kazn/gfVzMD368F7AyAraxUIrITrSGBgXFSKFCj1CTAdHP8Y+B0w7WAyYGBlYAgAcqD2\n",
       "bIU5kIFzAcP7BEwdnAwMegwMQDv4fkFCawJcBzA66hswdbAxMDgw8DnADfeEBwIDvwLD/AdwfyxF\n",
       "2MEuAIoGKOCYwGAM11HAdwhLWLEpcDLwBcJFxBgYnGE6WBV4J2AL3VVaErMLYALM29KmboCH7pQk\n",
       "rDHItP83IkC4/v//D9eBM7VPwpF1ces4SKoO9g+k6mAJIEXHm91bcZQAVrv3AgCw0VI/fCItEAAA\n",
       "AABJRU5ErkJggg==\n",
       "\" style=\"display:inline;vertical-align:middle;\" /></a></span>"
      ],
      "text/plain": [
       "|- b = floor(phase * 2^{t})"
      ]
     },
     "execution_count": 3,
     "metadata": {},
     "output_type": "execute_result"
    }
   ],
   "source": [
    "best_def"
   ]
  }
 ],
 "metadata": {
  "kernelspec": {
   "display_name": "Python 3",
   "language": "python",
   "name": "python3"
  }
 },
 "nbformat": 4,
 "nbformat_minor": 0
}