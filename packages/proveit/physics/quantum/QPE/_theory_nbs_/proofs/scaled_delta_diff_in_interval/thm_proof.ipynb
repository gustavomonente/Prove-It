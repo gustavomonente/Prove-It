{
 "cells": [
  {
   "cell_type": "markdown",
   "metadata": {},
   "source": [
    "Proof of <a class=\"ProveItLink\" href=\"../../../../../../_theory_nbs_/theory.ipynb\">proveit</a>.<a class=\"ProveItLink\" href=\"../../../../../_theory_nbs_/theory.ipynb\">physics</a>.<a class=\"ProveItLink\" href=\"../../../../_theory_nbs_/theory.ipynb\">quantum</a>.<a class=\"ProveItLink\" href=\"../../theory.ipynb\">QPE</a>.<a class=\"ProveItLink\" href=\"../../theorems.ipynb#scaled_delta_diff_in_interval\">scaled_delta_diff_in_interval</a> theorem\n",
    "========"
   ]
  },
  {
   "cell_type": "code",
   "execution_count": 1,
   "metadata": {},
   "outputs": [],
   "source": [
    "import proveit\n",
    "theory = proveit.Theory() # the theorem's theory"
   ]
  },
  {
   "cell_type": "code",
   "execution_count": 2,
   "metadata": {},
   "outputs": [
    {
     "data": {
      "text/html": [
       "Under these <a href=\"presumptions.txt\">presumptions</a>, we begin our proof of<br><strong id=\"scaled_delta_diff_in_interval\">scaled_delta_diff_in_interval:</strong> <a class=\"ProveItLink\" href=\"../../../__pv_it/theorems/a2394c113cb34e8baf2def542f49cce64ffe41120/expr.ipynb\"><img src=\"data:image/png;base64,iVBORw0KGgoAAAANSUhEUgAAAcoAAAAyBAMAAAAuBIYvAAAAMFBMVEX///8QEBCIiIhmZma6urrM\n",
       "zMxUVFQiIiJERETc3Nzu7u6qqqp2dnaYmJgyMjIAAAAcRTyBAAAAAXRSTlMAQObYZgAABt1JREFU\n",
       "aN7NWn9oVVUc/+693ffjvnf3JMqc9OOVkFnUViuTTBxFFCH6DCohaUMLIkJnhpoNWVlsTqMXQq0g\n",
       "9pYwyMDNLIoEXamEaexR//hP+WKEoPAYzolbyjr3fr/n/nr3nrP7tgs7f7xz3vb5nvv9nPM93x/n\n",
       "PoAQW7oZ+5NSpBihtmLfH1wFLhpiO0tkh6TLIUGsxq62FFyH1WGTjNA63iNF+iIWjxudRvT+Dq6E\n",
       "VgqZ5WHsUvNkQH+ENor9PuwSQ8G12BcuSfVm7PuaZUh/RLTDgeBTBmnyx8+oJRqx3y1F+iNqss7d\n",
       "PhxcDbkpzagdL+BTJqV6+CN6czRoxy5ehcm2h8pyKynWKAMKEOfNJcvjgkxUsdr5EElqpNB56UME\n",
       "iNfdK7E1uCLyZZ5Bi5Pj2CFFChA3mWtGVn2+EHy5J0Nk2YK+TbkiAwoQimmg6mXsB7LBff3lEFk+\n",
       "RLFA6uIEiIj1rzJ2dVUE+XKILOdTLJAmkgJEotU00AY8vJEq3E9DeO5HuUGGW5Satj8iUzQjRy+i\n",
       "kjeCq9JbDI0lX3T5QgoQmeey7h2fH1wVuTlVn/nQkXpPiuSIJ7+vdI9PWPO1Yd/pxjz4r793vdBM\n",
       "osZp/mv2WdZQIFlgfB5Y9qEvcgGp9N3HOVFxRnn7cJDSFAtcJnpG7y/OPssBjMXqGNWyw35JMyIA\n",
       "YqAKo944BcxcYJZMtEc/0h0hhEs8UYoRrKIFqPGLFwqFs7TYR3BYSzYwSyZax3x1ejCEXB3nTP1n\n",
       "mG8bxPxCACIAasUxgm/5AM/Xzm3fXpoeSyaq/Xbw4GcheB+yLDS0ukmIjUtMES6IJ7xKbpcc5rr7\n",
       "pr2Xuui1rq4wahN3FI9b2eRdU1NTYxUh56sGcVV1jVji6VIvelisbWIcEksm+hrAHqnOMXmS/Ibz\n",
       "6zBKpDm5NSaH9Klvv1xixUhCKBcTo8L57yDfjSleLF/J0jYxDYklE30K1BKom/kh/92UWfY4JMk8\n",
       "lJ8tlorlqk7sLsCnNF6/kP3rfkuplSgR5Sy3GTugf7wMpyM58xtH9OW0cSHLW4klxs2Eh/cxJzaH\n",
       "xJKJxiHCvNszhPzEpHMaNoHGHVrc/LPS1GauQz5Wgj/4t536CltGR8sWow2KGk5jADeiA00DvxFi\n",
       "GSg6y0NlvRmBfoo3nGELaYK+eq0OI++jGjLlnDmx+QxiuUX34HF9WwC+ObEC4Jip5jvQkv91hYNl\n",
       "zPCFJst4XplIby3aWKZKfiwXoYRhG0pr3PaNELeDIq4DnSx7vCIJn9gcWiyTpRfZ4CPQ9n5RsLN8\n",
       "G3qbTSFkmXCxbE5egTbwZum02FQjfG6VWsWM7ZgjQh0HrU3Icjs9FFE1XixtE+OQWOqie15lHxPs\n",
       "fOrtmON66hDLzZqamga9Wer3UvqZZojlFSyHyQ2gB10PsMRKiwoZWyJEiHFIFAN4n2jWg6VtYhxa\n",
       "3geOMLWVeZjQOli+BUc00V6yP2dTjT4W24B+IGK4lGT72aWW2GKosQUNRMAv8Kwnubqcd736rgdL\n",
       "nNg47jgklrpohi1LpEPFnOJN2yI3wn7aAKVhuSfLE5B8mFz682Ms2VHrrawAH6AZ1x11zIdYYnvt\n",
       "XooQkL7b+xJqgA8oEGYI1v9BoYIlThzfaQ6JpS6qMXgiq+zo6nof1rE5artY6wb40/W8TeV/yuWi\n",
       "naVWodhLpvrH8QEp6bWPP8IoZH7gGd51Ys2fsKrTL8P7yZ3hXed10gvQ6trL2qFad/rv3stV8LQr\n",
       "2ax33wAo0treF2EUMvt3PRo4Wx+qzNbJDiJwynUuXzn6Y8GLZaoNkt3QU0h2K5eOdrv2xTqX3LLG\n",
       "pEmTHwILmUuupP74oIylmnWx5KIQPQmJQSfLO3k4drJMPnY1q9TD2rxSXzM1NerLMk7DXVKWfggs\n",
       "ZCacrpj7bgFLraKKtlc797Jz6fCx4MVSfMYsllFagJVSln4Io5BReFnK04vNbthi/xuRCN6IxCoS\n",
       "5FljOf3LcAEiPhlp/drrhqWqyxmr9Ymu3JLS0sU6+AodhhZphS5ArBmKZmnKXjxtySouynuzFUQe\n",
       "mMkd7JlZvnXeBsqG3Fy+debHLToqA/ojorZ43Om8sAzSOsMjCWswLaiVpgX+iEW2MVlqJhtckzDf\n",
       "Bk3/jaMfwl7IRMiZNRQCKxIJ883ezJ2svZCZmy8QWLuNHjIkVcMb4Shk5uob9xn/esJRyIzQ36p4\n",
       "ez4SJklTo5FZ0CO1EPvDwY8lFw2pJW+hC7OcDClHzN1fNfHSMCUNcXLERsqtqjDYjeGShCg5t6VS\n",
       "pAyhUSZ6rgpX3xEyS9hAOyCN5DLEXP7lKETpSDwiRYoRKr2d6A/ue1D0f6HzBwJttYohAAAAAElF\n",
       "TkSuQmCC\n",
       "\" style=\"display:inline;vertical-align:middle;\" /></a><br>(see <a class=\"ProveItLink\" href=\"../../../__pv_it/theorems/81ed004141c7bcca98709bbf6b20014447c6cece0/dependencies.ipynb\">dependencies</a>)<br>"
      ],
      "text/plain": [
       "scaled_delta_diff_in_interval: forall_{l in {-2^{t - 1} + 1...2^{t - 1}}} ((2 * pi * (delta - (l / 2^{t}))) in [-pi,pi])"
      ]
     },
     "execution_count": 2,
     "metadata": {},
     "output_type": "execute_result"
    }
   ],
   "source": [
    "%proving scaled_delta_diff_in_interval"
   ]
  },
  {
   "cell_type": "code",
   "execution_count": null,
   "metadata": {},
   "outputs": [],
   "source": []
  }
 ],
 "metadata": {
  "kernelspec": {
   "display_name": "Python 3",
   "language": "python",
   "name": "python3"
  }
 },
 "nbformat": 4,
 "nbformat_minor": 0
}