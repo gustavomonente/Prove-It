{
 "cells": [
  {
   "cell_type": "markdown",
   "metadata": {},
   "source": [
    "Proof of <a class=\"ProveItLink\" href=\"../../../../../../_theory_nbs_/theory.ipynb\">proveit</a>.<a class=\"ProveItLink\" href=\"../../../../../_theory_nbs_/theory.ipynb\">physics</a>.<a class=\"ProveItLink\" href=\"../../../../_theory_nbs_/theory.ipynb\">quantum</a>.<a class=\"ProveItLink\" href=\"../../theory.ipynb\">QPE</a>.<a class=\"ProveItLink\" href=\"../../theorems.ipynb#pos_domain_in_full_domain_sans_zero\">pos_domain_in_full_domain_sans_zero</a> theorem\n",
    "========"
   ]
  },
  {
   "cell_type": "code",
   "execution_count": 1,
   "metadata": {},
   "outputs": [],
   "source": [
    "import proveit\n",
    "theory = proveit.Theory() # the theorem's theory"
   ]
  },
  {
   "cell_type": "code",
   "execution_count": 2,
   "metadata": {},
   "outputs": [
    {
     "data": {
      "text/html": [
       "Under these <a href=\"presumptions.txt\">presumptions</a>, we begin our proof of<br><strong id=\"pos_domain_in_full_domain_sans_zero\">pos_domain_in_full_domain_sans_zero:</strong> <a class=\"ProveItLink\" href=\"../../../__pv_it/theorems/1bcb691c3582f8bbfd8c69bc8bbf5499ad9a67f00/expr.ipynb\"><img src=\"data:image/png;base64,iVBORw0KGgoAAAANSUhEUgAAAj8AAAAcBAMAAAB8JcO1AAAAMFBMVEX///8QEBCIiIhmZma6urrM\n",
       "zMxUVFQiIiJERETc3Nzu7u6qqqp2dnaYmJgyMjIAAAAcRTyBAAAAAXRSTlMAQObYZgAABedJREFU\n",
       "WMPtmG9sFEUUwF/vbu+6e384EghBEzliJGo0XnoRGrTmiDH6Qe0WSMOHxp4EA9HGVlBPlEijAkf9\n",
       "coZE0A+yxMRgCbBaE01IykGjBgVsJRo/YGxsqFGaowmI9mI4Z+Zm9mZ35q57vZb6wZf0dW/evN3Z\n",
       "3755b2YA/gOi9M7QccNNc5oXucT4JHpq8ovo9GLdqjl2mk1ZX7OHNsmufBUBKUlJ43Hr6lH3T6vR\n",
       "yWOp2ZolKaTCLbW4BHt4QEqTIenTjtWFYXvj5zMBZHdad7fYg42e2HwppmZJIuj1tIlaPNRVYzof\n",
       "Qb7Fkk5/oL9jOXvbvtfvrx2Q02mNLgS0NXpiOwdUjeKLn+sG1IQ/waTr2ZXI6BAx7VPsIbGfN4bU\n",
       "L1zDh827AC7XGEEyJ++oEEB49Kcv6tQWMKj6ln2oukQtIBWSp5JPxLnzEYSuwYKsHdDX7OeP6XT6\n",
       "JXJ10ODbEdgUfJeEqSqAgreIX0PmJI4Vt0RMbTu1eeJUHcCv11svoFBceOindHhd3SKg1QALoQ3g\n",
       "sQwSwwHogzNWvyGwA/Ia0BBVouDDfn0coGCMkv+qIIahzEkOaATgPLWpk1Th5BEy6wXUYFYChKaI\n",
       "CGgJQHd2hZaVRtDv5X63OgA19IB/ypP6WIggBgjCIiCpkxzQboCTBrW9RlX4m/7+/XWnIDIX3AO6\n",
       "YkC33hSy1zMKwmvaJy4PKFIA/5/eWE4oTdUASZ3kgK4DtJrU1szU35nMjroBjVgP/WnhW9MDQrLT\n",
       "aL/DqmfX8fudKv0KcHkz6gCEzQVlI6tA+3ZudAFI6hSKSgBpVxGgGLUtZ+oZgL1uOTxbyUAqkB9l\n",
       "f+8P8IQbQL5/hCZard7lsgcpNc/berXmpGuq6oBEJ7HiotGraFCdMWprNah6GDRbyVPO2TZHQ28a\n",
       "1pg7yiUi1Lwa1pYnQ4aUK/SRHnE1xdA3FddgkTj5d7jc0oiHEbSvj16GGQCSOI0JxVYHFUVQZ47a\n",
       "OnWqAuCxrVTfMfjNUSiLyH7Pfr1q9TqDP2yX9XMcbwJRhYQjh8lrns/nX8jnxysDSkjaNsccUyyC\n",
       "KCp7UCrX8kTwGiUuKaH5/G+35fOpioBkTv6twN+XjJ5OsZLtYJKq0LA1pCNDaLU9aNscBbLKVGjb\n",
       "sABoO3RmSdeSbGMr0H53EeSRDDlSCqpQrBxmcWGFfTvMIIJkTuPOBjx6lKRPmtR2PEmVOtrObv72\n",
       "+4YAKKlegx4xgl7EcAftAevvBU13B2gA1GyFHMSteUuTbgsPIg7v1QxI5iTJQb0kU6DRlmxWBMHe\n",
       "TUgNpuMoG2EZdGyvgwWUo7REIvEAD4gsGMqAdtM6EESAstMDUnLgEQCdYsvsTcyhMeWsYh0Ad9UM\n",
       "SOYkrWJsoUhsnVmmBpAlaIJe2pYJgAKxYFycYgBbgQO0hT5CvQRHTQeg+/D7ajdwwI7Si/1nhzYL\n",
       "72GB6NhDtxr+XgcgdcfZlT1VAXkIIOtB+ELqJF8HBUxtMbNZVQwWoJt77smBVsoLXQ5AQ6A20a+9\n",
       "9qpp21wcsqJgOXvEk0t2OabYymVjw7SQkNKFL64Ui39VBlTOVM51UKRYLFYF5H36Rgv/IHwhdZID\n",
       "0k6v0JltxFJhRMnTFAPllUzmDdgQtwMKO9Ip29FcwDPFWmG2VllJuxURkK8gb68SQa43j1WQOVbS\n",
       "RI5ilZJF0OPc0oYfe86ncxHUkBTmdX/9gGARn5uqnp8Y9QOK2m2/WopMHvAZ8KWVg9DmSO2DA4ba\n",
       "p1w+0Sd7wFMnvuCTtDdX03lQ5dU4Gl46bR13PAiO86BZkwrnQWWbVmCqZE2j4tpoUkB4c6Qshbas\n",
       "srShWJS+9rJikU/SCsE/Uc+QfYvEtjaSeHJzAGiNeNg9YbOFU0xxcifKQdxbTytc1+dIJmiZ+Yil\n",
       "Z9J+8skGhmedj+xMOsifSUNAZ6rKW9cA6NhczAPHLvGmykVLOeVQ1vVNumyr1bmQgfniQw5Z5Set\n",
       "6r1ub9LBH0R+NifjDCbnCZDXYOp/qS7/Ai6s1+o8P+mUAAAAAElFTkSuQmCC\n",
       "\" style=\"display:inline;vertical-align:middle;\" /></a><br>(see <a class=\"ProveItLink\" href=\"../../../__pv_it/theorems/2098adb6c735dceed5c561fddeaffeaa213fa99c0/dependencies.ipynb\">dependencies</a>)<br>"
      ],
      "text/plain": [
       "pos_domain_in_full_domain_sans_zero: forall_{eps in {1...2^{t - 1} - 2}} ({eps + 1...2^{t - 1}} subset_eq ({-2^{t - 1} + 1...2^{t - 1}} - {0}))"
      ]
     },
     "execution_count": 2,
     "metadata": {},
     "output_type": "execute_result"
    }
   ],
   "source": [
    "%proving pos_domain_in_full_domain_sans_zero"
   ]
  },
  {
   "cell_type": "code",
   "execution_count": null,
   "metadata": {},
   "outputs": [],
   "source": []
  }
 ],
 "metadata": {
  "kernelspec": {
   "display_name": "Python 3",
   "language": "python",
   "name": "python3"
  }
 },
 "nbformat": 4,
 "nbformat_minor": 0
}