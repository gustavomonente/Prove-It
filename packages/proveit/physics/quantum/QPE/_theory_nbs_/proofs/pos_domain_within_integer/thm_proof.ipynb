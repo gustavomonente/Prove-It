{
 "cells": [
  {
   "cell_type": "markdown",
   "metadata": {},
   "source": [
    "Proof of <a class=\"ProveItLink\" href=\"../../../../../../_theory_nbs_/theory.ipynb\">proveit</a>.<a class=\"ProveItLink\" href=\"../../../../../_theory_nbs_/theory.ipynb\">physics</a>.<a class=\"ProveItLink\" href=\"../../../../_theory_nbs_/theory.ipynb\">quantum</a>.<a class=\"ProveItLink\" href=\"../../theory.ipynb\">QPE</a>.<a class=\"ProveItLink\" href=\"../../theorems.ipynb#pos_domain_within_integer\">pos_domain_within_integer</a> theorem\n",
    "========"
   ]
  },
  {
   "cell_type": "code",
   "execution_count": 1,
   "metadata": {},
   "outputs": [],
   "source": [
    "import proveit\n",
    "theory = proveit.Theory() # the theorem's theory"
   ]
  },
  {
   "cell_type": "code",
   "execution_count": 2,
   "metadata": {},
   "outputs": [
    {
     "data": {
      "text/html": [
       "Under these <a href=\"presumptions.txt\">presumptions</a>, we begin our proof of<br><strong id=\"pos_domain_within_integer\">pos_domain_within_integer:</strong> <a class=\"ProveItLink\" href=\"../../../__pv_it/theorems/2e66f11d77a2d1be2ca0ad037ecbd89c453bd6660/expr.ipynb\"><img src=\"data:image/png;base64,iVBORw0KGgoAAAANSUhEUgAAAUsAAAAcBAMAAAAaZYBWAAAAMFBMVEX///8QEBCIiIhmZma6urrM\n",
       "zMxUVFQiIiJERETc3Nzu7u6qqqp2dnaYmJgyMjIAAAAcRTyBAAAAAXRSTlMAQObYZgAABAlJREFU\n",
       "WMPNl1uMzFAYgP+dac2201krIZaXHQ/EA9HMJAghKyIRkaiNiAdhH7DCsm4xbonLJoyRSL0gHqgH\n",
       "IisYt0RI1rBk3TN4RAwbHpBBiMtGjP+0p53TaWs7Zok/6enp6fnbr//5L6cA/4Hw2+A/llcmZXzV\n",
       "P3vnnLI1xA9mj/stZqAv162pbJXwKn+YXFPfYdZo2DzOlqEhjOtWGEw+pnnNvN93mDE8TmfK+7K0\n",
       "zZrcIK+JIfyAHOk8q5RS6MHmuX+3jCcV6K/aF32yY7VXf8wPfpGFgAxwlwy8qRRTwidBl/u9s87V\n",
       "PA7SZ5gNMD2JolFMUz3SnEgkiD8E2hTIVaMNMNYOEltUnLeq0g7Mc9RwLa1OzAkAA2CEqNqsSdWF\n",
       "d+ZwMANS+gZ2Nhu+L6UrxTyieWGiLzgxBwO0qjHJHvNUvcbyhaAG+3myTOPRxHfa2w9UHEEPoSzM\n",
       "9xq0KnOHWzH/JVpUn8hOTFUT5WF4fEsmt/ilWeZ1Y7KJGdle19A7JspWx+g148Tm0EhUD+5ZOHcx\n",
       "wO5e6PbT8/yhXjOSpFmJxySFy/rB5H44hoxEIbDJ/ISoR81CDKipIOZs9eS+bS/Q2abBI/NiUzG0\n",
       "x0+AxqJLvyYehomPU3wtOuZCZ2mpkfWQY8N5cT/dUY/gAoUgYCse+zR2LyCp/XLS2qwD8zaxXYt1\n",
       "uRY/bRc+Urzcpl8/yOdX5/OvvTHjLmPN0ZJF5+SZ+vkMYkrZkDl8snMSQIetyIZU/ntRs4i5ERaq\n",
       "+lRDumkZETV/1gzILlXJMPB1ZgTQtHcMawq5uabD7jmkOTAbhM/oFGI8Hp/IYq4jukXMnaRZCnDM\n",
       "X6TDeRBUd99kaijclZCvFohFMIAWYdORkNFLiXSUbFnCPWHZuegAVzUGcymN9Iv42T4w+QwEVI9I\n",
       "F5fMMBNVE8ZusNaIdDiPTOE0KEZ5d2CGokKMPrLxE1MH1gCDOYxiHlbEJ6WYY8hLzuRoI/7EzoF7\n",
       "nc0OdjPt8rdosazWUiCu2Eazcn/03MCoDIiGv7SUYHZ6V/GjlkVm0SrEvdiglGCOre/O0sjWm/Uk\n",
       "vRcKXz0xLZmyty5ZXyfrVQhdEl8RiEWB35BM7oB5sh0zUuLsHNktpHBvSb7bqgtVDd5VyK90ed55\n",
       "aXZOkabJzZozYZrrljqDKbJozWCm6FxU2vsMU+wxe43AaXDT8k3cCwgpOKgJKf7tlZSb6oIrl9gQ\n",
       "4mvL2m96F1ykTSSob1oLapWCSOItumyaYpK9AD8EZqv8kKpC4YPbM+sLBTaEYDlJJZlKKLmBnrt3\n",
       "xX49En2TfXdvwkw9rWfD7J9T/uZf6Gkv7y4DMyz/tV9r9037UdX3A1qY/oW/hhl0NbMw2q/+/DT8\n",
       "K/kFsW4hYaIVx/oAAAAASUVORK5CYII=\n",
       "\" style=\"display:inline;vertical-align:middle;\" /></a><br>(see <a class=\"ProveItLink\" href=\"../../../__pv_it/theorems/2fa1f96446b6129f2d7f963211aec5bb7853b5810/dependencies.ipynb\">dependencies</a>)<br>"
      ],
      "text/plain": [
       "pos_domain_within_integer: forall_{eps in {1...2^{t - 1} - 2}} ({eps + 1...2^{t - 1}} subset_eq Integer)"
      ]
     },
     "execution_count": 2,
     "metadata": {},
     "output_type": "execute_result"
    }
   ],
   "source": [
    "%proving pos_domain_within_integer"
   ]
  },
  {
   "cell_type": "code",
   "execution_count": null,
   "metadata": {},
   "outputs": [],
   "source": []
  }
 ],
 "metadata": {
  "kernelspec": {
   "display_name": "Python 3",
   "language": "python",
   "name": "python3"
  }
 },
 "nbformat": 4,
 "nbformat_minor": 0
}