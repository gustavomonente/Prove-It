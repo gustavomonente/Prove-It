{
 "cells": [
  {
   "cell_type": "markdown",
   "metadata": {},
   "source": [
    "Proof of <a class=\"ProveItLink\" href=\"../../../../../../_theory_nbs_/theory.ipynb\">proveit</a>.<a class=\"ProveItLink\" href=\"../../../../../_theory_nbs_/theory.ipynb\">physics</a>.<a class=\"ProveItLink\" href=\"../../../../_theory_nbs_/theory.ipynb\">quantum</a>.<a class=\"ProveItLink\" href=\"../../theory.ipynb\">QPE</a>.<a class=\"ProveItLink\" href=\"../../theorems.ipynb#fail_sum\">fail_sum</a> theorem\n",
    "========"
   ]
  },
  {
   "cell_type": "code",
   "execution_count": 1,
   "metadata": {},
   "outputs": [],
   "source": [
    "import proveit\n",
    "theory = proveit.Theory() # the theorem's theory"
   ]
  },
  {
   "cell_type": "code",
   "execution_count": 2,
   "metadata": {},
   "outputs": [
    {
     "data": {
      "text/html": [
       "Under these <a href=\"presumptions.txt\">presumptions</a>, we begin our proof of<br><strong id=\"fail_sum\">fail_sum:</strong> <a class=\"ProveItLink\" href=\"../../../__pv_it/theorems/cdb0c2ad3f86a7478489a7f15240096bcba88b080/expr.ipynb\"><img src=\"data:image/png;base64,iVBORw0KGgoAAAANSUhEUgAAAmYAAABMBAMAAAA1qmbAAAAAMFBMVEX///8QEBCIiIhmZma6urrM\n",
       "zMxUVFQiIiJERETc3Nzu7u6qqqp2dnaYmJgyMjIAAAAcRTyBAAAAAXRSTlMAQObYZgAADG1JREFU\n",
       "eNq1XHuMG0cZHz/Wj/XrKkCQqOKsq1BLBJzVA0JfOQOiD9T2nFStIlRxJqIoVFXuSCMFSkScpEjX\n",
       "oHJGlZoICbJRpZQmCrGoREERiZMzCoSUM0QQkIjO5dFIVL1zXpfcK2Z27d2d/WZ3Zzwevj/ufre+\n",
       "+fmb3858M9/M7CIk0UIFoWKfoYCwvSrRPYsrXoRAon1KqFSwAYG4Rary3LO5nqOANFMWhIqNliEQ\n",
       "N/WD8tyzuQ7mIZBm0apQsR0UsA2oqDDJ/qR15d6zXFyp1RBIszNCpZLjEBCfOQQroQTzPqeLPO6Z\n",
       "oerp1Xxc71JAksVXhIodqENg2zdJyYawpvew2MLXedz7swle4OMaKUAgyWJ9QsV2UcCWyexNEaMK\n",
       "WLNDTLpZlntTe7Tk83UezWyudAMCSTZaFxo4ViAgRi7zrsZMzdLMYWKk4u9eshxpoHGudmZzhZcg\n",
       "kGS7emudLs00ilDi0vOkZkHmfUmP+7sXLSsLagOpQ0ND97E0s7kuUUBOOFsWC2dVCGzbh9BxY6y0\n",
       "NEswZ5Wpa/7uRfPxa4kcX9+0uWbyEMhJAsRmZ8NlCGx7GKGBc46+GS4xZ1U3We4lFuN3d75rw9UK\n",
       "H9exEgRSLCMWHm9RQJdnAtte9CBCdwwgtGX2ndnZuqGZwv6SyTLDvWiW2zmLK7YAgRQ7mRUplbgC\n",
       "AWEbkVp3jgHhoqgf9uUpgTr5uiluY0KZT2QBAsJeR0oWfdnULIE1S7FTjcy4v3upXBd9x+K6QQEZ\n",
       "dlmsR/dBQI6bGrrwvUpHs/ja+SwKsUNwesHfvUfRl7i9s7nmyhBIsMRVsR6dg4Bc8aiQ8zOjEhzL\n",
       "JFd83VPeO76Xf8nF4hrMQiBj2BSb7Q1XICCtBDX7Dcck+Zave4FWq8k/4ba4RhsQyFjUWBQqtlOD\n",
       "gLTHzMmVOfjzxKKWRPcsrkwTAgl2TCjbVC9D4OxRIHgENQ7OuYI092yu9HUIJNiI0GQvfBOC3m24\n",
       "Ls09myu0AoEEm66KlEouQ9C7DRaluWdzBechkGCTFaEMfQkCCS1+XJp7Nlf4BgQSrF9oNS5wHQJx\n",
       "S37u3nboavbuHsWltiCQYC1NpFRmEQJyRtkijD0t+j3a4klFuMfFSnNZBGIVdV1qEZP/QBMCctRs\n",
       "dRrfG499rcUe977T2bgKXPN1j4uV5urPQ9CzhcVSp5E+CByjlh07LrDj3TZ0wKhOesXfPR5Wmmuu\n",
       "DkHPlrolVGymAYFjItqyh8B1PImY0W0iy/7u8bFCrrEqBL0HYLH51XQJAkfq0rKbDH1wQNHgH1vb\n",
       "/znv754r61dYXMNFCHpPN32mLT9p//q1W+/z92SmZScCVJdI5sEfyZzn7XO458ZaY3GRd9foExd7\n",
       "1izWcSo1dvMbW+515kedb4u4rKJMFiFwsrbGfZo21Ox8B97yds+Ttcbimm7Y4A/67//2rFnaXGvR\n",
       "15B3OYZjc39NJULWnZ0+MWcm3XOu2bfaf5Vfs3A1bLAGb/i458VaY3ENjttgvz4Sl3rXzAyWo1W4\n",
       "vHzeBKctp8+Y/zBXhQCMq60Kt2ZfPf4r416lbM1+QbnnxVpjcc2M2yCNP0tWetYsajo1iGsyWHXO\n",
       "dTp20JwsrbVi084qBECX1mpuzfpb7UlY6jKtWXSZwVpjcc302SB19vDhfRKWz8wVzUl9OCZrE7eC\n",
       "R7p9Ob7FvkU7sxDAxZhb/PHMmrS6aHaFwVpjcZ1sEuDmxMSO3jULmOM39ibuCBdBPVL97bYXzbFI\n",
       "+SFR1/46BMAOtqp+miUHPs2lWWCFwaprdvqOPKdmzyD0Eq8yEY2lmYI7wVvVpx4wZtnoEA6UMaxG\n",
       "6C/6kmvKGAQmyIkWU7NE65qPZvFt6GD5iDrmqGeYrRnNijXbl1dXqZVDTXeukSYBvugY0HCt3zaO\n",
       "epEZvnmOVDmlkZc3EGEws2QuL52bWoNe+IKOH0RhzB/F/9Xe6UkYvfTONWTqXIGAmsFd1rw1i1ZR\n",
       "LLcGPQQ00yjNMksM1ppxZHBPUAuPu3ONLBIgCg6O/EhrH/UiMvyUGWyimiPxJ46XRr7fmfvo1Kq1\n",
       "goJBAHtw5Gd6t1Taly+ctYttLkBA509Vb82GNRRqVPVdXqKe8Yn27z/Ozn5rdvZdh3uerDUUwp6v\n",
       "S+oBxIULof0lAiTrUfP6kSncp06g9pY1keGfeYDSzEj8T9DtzNhFVdtjzBuWZofbzbQj5Yl7umhn\n",
       "8Rs+ffMj+OftGnrZoZnC0c4o1hoKYC1OndVDiSvX6CIB4o2nzET2Bz/WKM30DN8S1dbMSPxJzToB\n",
       "Y1RvUE8sZx89X1cnDc1w31TbjchiffwZS7M6BFR2vcpbMxUHzyRWY4Gt2QqDtYaO4ZY3XUGZModm\n",
       "6KWv6/d+ew5HNqMVODXTM/yfI/Ta0NBQhdDMSPxP0GOAPj3TpRpA/0bHDM3wjUsUjNPEKStubnyR\n",
       "dwzwOY2Jq4a/NNmHlL5uxwCatYYy2INTCK1HHGMAelM/11VBhXbqSWu2Fb2ZotqZkfifoOdnc1pb\n",
       "M2Xgnx3NcICI/wcdxX0vZMeQVwuc8zNlyW9+9lmE/tEsBEtMzcD8jGbF8ayIUtMKuotLswx2N/iJ\n",
       "qrnh+hzQDNf5lY93vmrwPvIyHuehZutam9qa/U7b1NFM53r8w3oMTtNNhqnZwayfZsm3L6L7s7Fs\n",
       "t5rRrHjcPHexHjqNdnNplsJNI3h3FinfnpjYjTbmgGbnwYpn+2iYcVnZgVwTOizVAtqdb2tm506v\n",
       "u0zzGfkm+hdHjh540lnPy6x804XVygM+VHDnoleUj+o/im7tzMzw4WKxfploZzHHwkFTvY62Zjua\n",
       "0Tk6sRaUgwCs4ZQ4NMsEHZoR+eZhV/fcWC3Nmll3LjLfbNsGFNbQb614hmef8b1ov4Z/mBk+MOMy\n",
       "Ec8cTh2aL/x14KdrxnKH9GWrmGMtSL20XbcCn2Zn7O+ueGoWqjk0c1sLcmrmwmppdn/enYtcC+ro\n",
       "uf09TFzpaKYf9VJWofVl/MPM8IEZlwnNIt7rtOaaY8xlzXGsCIHXlCBV4c3R3dYcHe65sdZYXOSa\n",
       "I2l34XhGCsEy4l9DN5lr2393y4xKEHhNCT5PfRgsuP/h5orjmhvrx1hcvp6KaRYU20MZLEHgmK3b\n",
       "U4LX+I8ERlz+lXSvG1abaywHATkO8x9+JPLNhNhe3ckGBA5XzME0/ssW/9mEmMteHeleN6w212QV\n",
       "AvLmfpLXuaeJEKOI7QmP9kHgmInMGnYJB0+/zRS4zO4yDSbd64bV5pqrQNCzCR79sM6QuB1MCXV3\n",
       "XsPKk677utcVq81lHZLpl/doXUvoPHNmAYLe7diiNPdsLtVM1lV5Z1zQzrxIqeg1CHq30aY092wu\n",
       "pQWBBBsTOvoRWYGgd3M9+iHmns1lHfgQPJjiPmvIiZQKXoWgd5vOSXPP5kpehUBGj2iIlLIO4Cvy\n",
       "bp/rMVDBY/0W1//jEKvoufkWBbztWc7Iqnm6p+9QUbaRh8t6vkDwQQP3mYzYwOd8joiq09Qeze0l\n",
       "BYrPcof7kwYd9x6iP3liLQ+X9XyB4IMG7iszYkF8uu4AoE7Gw+P0SwrIfTF6yj/v4x54DrHooSPN\n",
       "dbIIgQQLi52bHyk6AKiT/vA4eEmB9QoEz6F4yce9l51XSwzNbK6xCgQyrF+oVKDpAKBO+sPj4CUF\n",
       "MZZmgaaPe1YA0feM2JrZXP29VdPDhoVyitB1B6CCYmIRvKSAqdmBord7Sh/arK/N1409I7ZmFld8\n",
       "HgIpNlIV6tLLJMB1iuh1sptbNAteUsDUbLDi7V7QHDv0PSMOzSyu4BIEUiwgNqDcRoIgNR5OIfCS\n",
       "AqZm7/i4FzNzcn3PKDI7+9HZ9301s7jSfRBIsaBYxjiYJ4BVJ/Sw3tw06uFx4hUIHub1mg/DvcCT\n",
       "mAFb/SjXGGBz+b0FpBcT6+mZIgFwnSJ6nd43P6UfHme1s9Cij3v6DlW7zep7Rh3N3uLgGtYgkJTn\n",
       "CdElFwlg1cmciNEPj1uvQPBavSn6uBcyt0qMPaO2Zq/s3MTkUuchkLVuJdRs1WUChGogCNEPj1uv\n",
       "QPDq6+Uu3Csx4obJFVyAQFZAE8vEBjUIfC3G+PwD3bhX4uQK5CCQZbeLjbdVCHrRLLXYjXtlTq4Z\n",
       "DQJZdlKIMLEIga/FGQEiK889i0u9AoE0i5SEim2mQA+2RaJ7FlekAYE8+65QqWgFgh5WChbkuWdz\n",
       "jZQhkGfrhTqnshoCcYvm5blnc22jgMT1ILHb8AgFhO2IRPcsLrXiBP8DOanJ1zGrihAAAAAASUVO\n",
       "RK5CYII=\n",
       "\" style=\"display:inline;vertical-align:middle;\" /></a><br>(see <a class=\"ProveItLink\" href=\"../../../__pv_it/theorems/cea7baa1f8d591ff9ce950406f8c6073d0f74a180/dependencies.ipynb\">dependencies</a>)<br>"
      ],
      "text/plain": [
       "fail_sum: forall_{eps in {1...2^{t - 1} - 2}} (Pfail(eps) <= ((Sum_{l=-2^{t - 1} + 1}^{-(eps + 1)} |alpha_{l}|^{2}) + (Sum_{l=eps + 1}^{2^{t - 1}} |alpha_{l}|^{2})))"
      ]
     },
     "execution_count": 2,
     "metadata": {},
     "output_type": "execute_result"
    }
   ],
   "source": [
    "%proving fail_sum"
   ]
  },
  {
   "cell_type": "code",
   "execution_count": null,
   "metadata": {},
   "outputs": [],
   "source": []
  }
 ],
 "metadata": {
  "kernelspec": {
   "display_name": "Python 3",
   "language": "python",
   "name": "python3"
  }
 },
 "nbformat": 4,
 "nbformat_minor": 0
}