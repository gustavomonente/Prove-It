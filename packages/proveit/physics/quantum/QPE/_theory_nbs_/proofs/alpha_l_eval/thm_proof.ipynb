{
 "cells": [
  {
   "cell_type": "markdown",
   "metadata": {},
   "source": [
    "Proof of <a class=\"ProveItLink\" href=\"../../../../../../_theory_nbs_/theory.ipynb\">proveit</a>.<a class=\"ProveItLink\" href=\"../../../../../_theory_nbs_/theory.ipynb\">physics</a>.<a class=\"ProveItLink\" href=\"../../../../_theory_nbs_/theory.ipynb\">quantum</a>.<a class=\"ProveItLink\" href=\"../../theory.ipynb\">QPE</a>.<a class=\"ProveItLink\" href=\"../../theorems.ipynb#alpha_l_eval\">alpha_l_eval</a> theorem\n",
    "========"
   ]
  },
  {
   "cell_type": "code",
   "execution_count": 1,
   "metadata": {},
   "outputs": [],
   "source": [
    "import proveit\n",
    "theory = proveit.Theory() # the theorem's theory"
   ]
  },
  {
   "cell_type": "code",
   "execution_count": 2,
   "metadata": {},
   "outputs": [
    {
     "data": {
      "text/html": [
       "Under these <a href=\"presumptions.txt\">presumptions</a>, we begin our proof of<br><strong id=\"alpha_l_eval\">alpha_l_eval:</strong> <a class=\"ProveItLink\" href=\"../../../__pv_it/theorems/299f96286644014264c75f0976fe2f455dce8a2f0/expr.ipynb\"><img src=\"data:image/png;base64,iVBORw0KGgoAAAANSUhEUgAAAfwAAABLCAMAAACiNMVYAAAAM1BMVEX///+wsLAQEBCIiIhmZma6\n",
       "urrMzMxUVFQiIiJERETc3Nzu7u6qqqp2dnaYmJgyMjIAAAAld9JPAAAAAXRSTlMAQObYZgAACudJ\n",
       "REFUeNrtXYl2qzgMZbzj/f+/djBbwBJgMB3OkPid9rVqJBNfa/WSpqluTDwkoLrjdzUtC0jIi2oa\n",
       "DQ8JqO74bU26AhLyoutNRP2MgOqOX9cM4cck5EXXm3IPCVjz3WzO/p/NE3NMQl50tTn1kICMz9Mf\n",
       "9k0TZAEp3KUnOvpnBEx8jrXMpKnAEDmi/TLweRTHJORF11pLHhIw8rnO78sU+CH2QzCmvk71QwEp\n",
       "3BMpi1rFvypg4lN6iPwM+n7414HPoz0mIS/6Pyp+o3jyALyxrPE/8JNWqwJSuGNcdHTPCFjx2Wga\n",
       "zaj+gZ8C38iPSciLzjdWm2pfFbDiU5uB/heCb2J7TEJedL7F8JCAJZ9jzQ/8hUOE+gRJbX2BzEb6\n",
       "jIAln19iz9upmW8FHxlTSKpGrsuxaufPVQELPt45fy5+mr+wiqqAFKtHJpKHBHz4RLDWtlv1SvuN\n",
       "4AeoUZAUavXWRna/AFtQeV7wkZjaRkrAVJTfV/Wl0KRDEq21+6y2VgAEGOlkNH/f8aubgFE0JIna\n",
       "WF1Fc78AXyC0uuOXO/1YQNoyl8UZZaXLRwUUgF/Vsd8pJ6fAUTjXou5QzKrCwpqHkzzg1KrrhfZv\n",
       "hP7tPDUSc/rimBTqVnd4baUAFVAAfk3He7t/dHKDnWiBh4nzc1mW8UxzkXvmB4fUppEdXsb+Vs15\n",
       "QLyiPyaxulUZV1vbRQUUgF/RMd8LJ3slCsmyHIQcds2jx/H3ovGN6Z+tnw7Wfr7/YXwnYXhXQEJe\n",
       "dKa1tWEXKqAA/OsdG7Jj6wzLE0SuSPdvHCQ9mxul+VRZ6nlsoGkrqeBNWlwyfn6tXHz/w9TOA8uo\n",
       "mkMSr8v0Se2eAFRAAfjXO5Z7QPAx+TFh8vm2cc2cEX3AJ14bv+Bhvv9jIo1ffjBN7eL73zWdWzMD\n",
       "gzlIMnURX6yNuVEBBeBnfCFuNAozHg3VfWidLRndtZGmD9lGxWbN+FvCt6fyTtGnV/Q83WSx3R+d\n",
       "916mr246DItmYfF9x4sNe5HQab7p3yih21MaGVhIqoJPVyYLGwKOwc/5bIfzyhSYzixLEmFOsL95\n",
       "bdB8w0zvtvun6LBVU7DXa36iUtoEY4efe54OXclXmq8aW6z5814kDOLtlVfFF3Pa5KaRQ2vJDymn\n",
       "YvXKTA8XcAw+4GMR819e5aGB3i9pDlmTigtpnRGQIjf7THdmnS94uKOpJ2174NN/bthcUOTzp71I\n",
       "Z9PkxTAFmqdxHuZ6/pByJmGurRHhAugh+JCvAwwbYRb2f0ej/bNRxHJW2g588QGiLNqf9iKd1Jzl\n",
       "dPeZNkiYDkGSrEnWXG2ajwlgnbkOzJ/kE522YjzZcS5yUM7WF8rdKx7t3dJQl+f5dprxegxgRB7I\n",
       "077MROwnUOimmZxNGs9MoYSJvsQooaj4hYxsrMxhrgpA+Hw3Xpjh9Gurf5Qk8AtecJvnRIVv3ovE\n",
       "hKAp6sizOKuT3xGf8lPwln9MfxYYImoFST3FzbMpnAr/2lrwrwrA+Np4nLb6iCUO/0k7jPfHkkEH\n",
       "QBctsLmCkMDvf6Djl5vKEVEuZ3IWMDroUCGpp8yBjD5nxkPtgu5VARif6YL7I2m3beK/+2TYUDES\n",
       "RA+5gf78msDvf0ig2wH8/ndBaGuXgVIWNykYSimUMim8sycxcLXgu/v4eKdfR5HVXdWWm0+GrfYi\n",
       "dRrIJSzeyUHx/fQWadvh3+hPzKDXNk5Bs6dQincmNX1SMVQt+FcF4Hyuy+v33dbHNBhJrpwOHRf8\n",
       "8JNhp9v0EOu9SJ1oQSD4Plip+ed0dUvT8hP9RLx2jSuB4BOcEvsdj2eHQ2UVNEcp4zUCKvm6OHk/\n",
       "lZvZDFGekvO2e1rwu8V9zA+x3oukzPCVR/s8RNJ+hjdVoCUVn6zfZ2UvmE9EnDLEDv0qtpHFZTuy\n",
       "6lCndNV07qhzTUshLiwa2xFQ3jb4ktt3u2WR2YYmE6HPVzfHBT9zy0m3sw+x72vW+nAGfN4HmwEW\n",
       "D9Ijtqn0zA4xGOxGy/rUpmzTbDn4pogvlXl3TM/nOPAwUu2VqZcW/PCTYWffydmHkLtWdT3tOQQf\n",
       "kiZKwor6T9aRQkvHkmdLtUdn0Fx1FWCxYQqzkOLRvWMUWwL2S5mhiI/tuv3ZL4ox/7rg9fsFP/xk\n",
       "2Ml3cvohlCmLZ0ZcDYTa4BTnZ0c2TEXfWt1XGrrxEl57HLuFqSFDJO2IM8XzOVt228mOldzhW0UD\n",
       "O4O5AN/r1M4vag0LflVBrmxqH6IA/H8g+JA0UXRoxPhUfc7Al6JY4zaw84sZ7caQ285CEJ8vNwWc\n",
       "eqObfHqv0pOb/Qt6Oy743QPXnfmiWU96AcGHpJnS6tGlDGnG0sp6bcWxy56uySAfITf6/FI+T/Te\n",
       "AM011ME5nLbdqwW/2nb1IQ4m9nmf38Uwai4eLPYzpZ/phuKvMy7WK7V3sRGjkP881Tu8bmTWDqOI\n",
       "8448e5zj1ofI8vxz4M9GqO1Xj9Rw1nEoJicvjrmmNQYu7WPpJoGjo5A68IM4zycOAshFZs9UDL55\n",
       "uN34EHyd5pwE34/oEiGa5SI1tyI9n9NYUWXL/w1CjtPm7ehsd//sBp850qL2vXc2ZjtgkG0ykAQp\n",
       "cVg7Ep9ojzUbeXu7uZISmyLVBwIMY22/4X3/gOVGx+Eov3TkteBnb+1MeXdpiob9SdOKkZdSOheU\n",
       "PAU+c/wK+P2WKNcZMM1U2LlWF++4PQw07HsPeWV51IlVPazRyefvlJxq1/NzAcMWVpLmY7BnO3Zo\n",
       "EcSufYl/Kfb5Oytfz78cr9Ru48oFEDVAq1eFgrKO8STPr+dQ+9YbWrMVXWyEIKkKP1oLfi4g9GZZ\n",
       "dvnafqEA6RhP8jjJZ8hLwc93pkroGCFJ1mzGsbW7d3EB6fg1lY3RJ/g0luQZBgLKtx7rJzaPihwM\n",
       "lNwh5VRhoVKRUAE8PRLbrCyhfAYebNFW5kc5mtde0E8JSIZtc0gKNapgak/soAL6xEIs9ikU8IW4\n",
       "XEAIiowLQwqpQLxS8fNAFjnMCEl1Ry1j7Z0+iADGzvOx4rN6jX+j6gN7ZuC6DiSZuqOWqvYOTyiA\n",
       "sj/uuH3f/UwaJDoCmlRIEnWGW9bmzUBAf+WF1n/YsVFvM/xGAdeNnIODpMrTdrR2434uQPRx2/E2\n",
       "mZqOtXrZB/MgG2ccHB9IcnXoVd/mlQnQyjnHpPrbjvW7VN8gHhC5uQSSau9VqQ33MwFhK0Y/6pii\n",
       "63nUUdd8ZUNuqoOk2uvsqq/wvCog51PI9E83o9iv/MQt5KY6SKq+R8/VRnxXBWR8BpvE/YT4yssa\n",
       "LVz4giRbuyzHnxKQ8WHbDUxfwiDfeE2rhN4ckmR1qZvEhwSs+VYXFcxBYfIMyn8h+MigQlI1dA2r\n",
       "vYztqoA133RRgZw/acGPlxSpL/ykRQ3NKSTpWB0O8dqDulcFrPnWFxUsNZ98IfgUGnRIojcscBLy\n",
       "kIAlX3ZRwdLnR/594AdSQArkjlnGnxGw5JsvKpDzwp7/3mgf+bA6SKr+SLzR4j4kYMGXXVQwTQn2\n",
       "nXk+gxMektgtWuFqpVwVsODLLiqY0XeOfR/2BmoTJJko7+nLPSPAxC+t3R76Q31MolHf1Jl5RgD9\n",
       "fdQKGgmzAhK5yyQS95AA8lN92JCbiyHJ36Y31edgrgqwP9VHnCE9JpkbrwaQ7UMCZPtDOx+SUECS\n",
       "d25kVPYhAer36XrrxmEgB0k83rmXSRDzjIDqjt/WkH0NkKTurXpy/ZAArn+AL525LSCtKP8CIcSA\n",
       "BDe70wwAAAAASUVORK5CYII=\n",
       "\" style=\"display:inline;vertical-align:middle;\" /></a><br>(see <a class=\"ProveItLink\" href=\"../../../__pv_it/theorems/62fd6ba9230be61f92f51d8a97885b6f30fec38c0/dependencies.ipynb\">dependencies</a>)<br>"
      ],
      "text/plain": [
       "alpha_l_eval: forall_{l in Integer} (alpha_{l} = ((1 / 2^{t}) * (Sum_{k=0}^{2^{t} - 1} (e^{(-(2 * pi * i * k * (b MOD_ADD l))) / 2^{t}} * e^{2 * pi * i * phase * k}))))"
      ]
     },
     "execution_count": 2,
     "metadata": {},
     "output_type": "execute_result"
    }
   ],
   "source": [
    "%proving alpha_l_eval"
   ]
  },
  {
   "cell_type": "code",
   "execution_count": null,
   "metadata": {},
   "outputs": [],
   "source": []
  }
 ],
 "metadata": {
  "kernelspec": {
   "display_name": "Python 3",
   "language": "python",
   "name": "python3"
  }
 },
 "nbformat": 4,
 "nbformat_minor": 0
}