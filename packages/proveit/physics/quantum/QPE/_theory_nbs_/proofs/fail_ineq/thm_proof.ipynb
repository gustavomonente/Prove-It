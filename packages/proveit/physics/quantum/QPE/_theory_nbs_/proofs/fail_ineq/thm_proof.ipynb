{
 "cells": [
  {
   "cell_type": "markdown",
   "metadata": {},
   "source": [
    "Proof of <a class=\"ProveItLink\" href=\"../../../../../../_theory_nbs_/theory.ipynb\">proveit</a>.<a class=\"ProveItLink\" href=\"../../../../../_theory_nbs_/theory.ipynb\">physics</a>.<a class=\"ProveItLink\" href=\"../../../../_theory_nbs_/theory.ipynb\">quantum</a>.<a class=\"ProveItLink\" href=\"../../theory.ipynb\">QPE</a>.<a class=\"ProveItLink\" href=\"../../theorems.ipynb#fail_ineq\">fail_ineq</a> theorem\n",
    "========"
   ]
  },
  {
   "cell_type": "code",
   "execution_count": null,
   "metadata": {},
   "outputs": [],
   "source": [
    "import proveit\n",
    "theory = proveit.Theory() # the theorem's theory\n",
    "from proveit import defaults\n",
    "from proveit.logic import InSet, NotEquals\n",
    "from proveit import l\n",
    "from proveit.numbers import zero\n",
    "# import common exrpessions\n",
    "from proveit.physics.quantum.QPE import alpha_l, alpha_l_sqrd, t_, delta_, two_pow_t_minus_one, \\\n",
    "    full_domain, neg_domain, pos_domain, eps_domain\n",
    "# import axioms\n",
    "from proveit.physics.quantum.QPE import t_in_natural_pos, mod_add_def\n",
    "# import theorems\n",
    "from proveit.physics.quantum.QPE import pos_domain_in_full_domain, neg_domain_in_full_domain, \\\n",
    "    two_pow_t_minus_one_is_nat_pos, phase_is_real, all_alpha_l_is_complex, all_abs_alpha_l_nonneg, delta_is_real, scaled_delta_in_interval, \\\n",
    "    scaled_delta_not_eq_nonzeroInt, alpha_l_sqrd_ineq, fail_sum\n",
    "from proveit.physics.quantum.QPE.phase_est_ops import Psuccess, Pfail, ModAdd"
   ]
  },
  {
   "cell_type": "code",
   "execution_count": null,
   "metadata": {},
   "outputs": [],
   "source": [
    "%proving fail_ineq"
   ]
  },
  {
   "cell_type": "code",
   "execution_count": null,
   "metadata": {},
   "outputs": [],
   "source": [
    "defaults.assumptions = fail_ineq.conditions"
   ]
  },
  {
   "cell_type": "code",
   "execution_count": null,
   "metadata": {},
   "outputs": [],
   "source": [
    "fail_sum"
   ]
  },
  {
   "cell_type": "code",
   "execution_count": null,
   "metadata": {},
   "outputs": [],
   "source": [
    "fail_sum_inst = fail_sum.instantiate()"
   ]
  },
  {
   "cell_type": "code",
   "execution_count": null,
   "metadata": {},
   "outputs": [],
   "source": [
    "alpha_l_sqrd_ineq"
   ]
  },
  {
   "cell_type": "code",
   "execution_count": null,
   "metadata": {},
   "outputs": [],
   "source": [
    "first_sum = fail_sum_inst.rhs.terms[0]"
   ]
  },
  {
   "cell_type": "code",
   "execution_count": null,
   "metadata": {},
   "outputs": [],
   "source": [
    "second_sum = fail_sum_inst.rhs.terms[1]"
   ]
  },
  {
   "cell_type": "code",
   "execution_count": null,
   "metadata": {},
   "outputs": [],
   "source": [
    "first_sum.deduce_relation(alpha_l_sqrd_ineq)"
   ]
  },
  {
   "cell_type": "code",
   "execution_count": null,
   "metadata": {},
   "outputs": [],
   "source": [
    "second_sum.deduce_relation(alpha_l_sqrd_ineq)"
   ]
  }
 ],
 "metadata": {
  "kernelspec": {
   "display_name": "Python 3",
   "language": "python",
   "name": "python3"
  }
 },
 "nbformat": 4,
 "nbformat_minor": 0
}
