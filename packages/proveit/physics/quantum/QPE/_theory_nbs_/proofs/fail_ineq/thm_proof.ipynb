{
 "cells": [
  {
   "cell_type": "markdown",
   "metadata": {},
   "source": [
    "Proof of <a class=\"ProveItLink\" href=\"../../../../../../_theory_nbs_/theory.ipynb\">proveit</a>.<a class=\"ProveItLink\" href=\"../../../../../_theory_nbs_/theory.ipynb\">physics</a>.<a class=\"ProveItLink\" href=\"../../../../_theory_nbs_/theory.ipynb\">quantum</a>.<a class=\"ProveItLink\" href=\"../../theory.ipynb\">QPE</a>.<a class=\"ProveItLink\" href=\"../../theorems.ipynb#fail_ineq\">fail_ineq</a> theorem\n",
    "========"
   ]
  },
  {
   "cell_type": "code",
   "execution_count": 1,
   "metadata": {},
   "outputs": [],
   "source": [
    "import proveit\n",
    "theory = proveit.Theory() # the theorem's theory"
   ]
  },
  {
   "cell_type": "code",
   "execution_count": 2,
   "metadata": {},
   "outputs": [
    {
     "data": {
      "text/html": [
       "Under these <a href=\"presumptions.txt\">presumptions</a>, we begin our proof of<br><strong id=\"fail_ineq\">fail_ineq:</strong> <a class=\"ProveItLink\" href=\"../../../__pv_it/theorems/76b4f559fb693f9f05200b27bf1e7f79d794130f0/expr.ipynb\"><img src=\"data:image/png;base64,iVBORw0KGgoAAAANSUhEUgAAAakAAAAyBAMAAAAU1DlcAAAAMFBMVEX///8QEBCIiIhmZma6urrM\n",
       "zMxUVFQiIiJERETc3Nzu7u6qqqp2dnaYmJgyMjIAAAAcRTyBAAAAAXRSTlMAQObYZgAABwhJREFU\n",
       "aN61mm1sFEUYx5/u3d7e7d32/IAIxMhFjIpRelID+EJ6iTF+MXLywfCB2BPEKGnoIcaiNqSISqlv\n",
       "xxdEP9glSkNKtEVjMJLAxfoSEaTRRE2MtopKlKQ27YlQeXFmd2Z2Z3d6e9xsJ+k9e3s7/5vfzDzP\n",
       "PDNXgPDKpxJ1U7n6JPUCb/sg5JIqS1Q+Vq/k/byNjoZMdb1EXaVQr6Qxytufw4VKXiFR+YD9aook\n",
       "k/PEVcjDLwNn4+VQqfbk6q+rz8Ivbe2mQLLv8ylRDfYw/V5iLanwyjaJuvGsZUZMkaQxJaxDH6Zz\n",
       "hNoDoU7AKYnKR0wRFZEMoIJO3mphTkEtK1F5E4ioiGQQ1ZESZ5PnQqQaKdVf1zgnpCKSQVS0P6nd\n",
       "FCLVZplx7hJSEckgKvo5tV7vlChqRaJya07UHioZRKVP8HYgExpVRGa1uhVEVFQyiArGeNsYXnrR\n",
       "UJCoPFtIRSUDqZpKnFXCCxetwxKz94KQikoGUvUOczZxITSqJokQyDq3yRRJKmIq52E6qNTODo1q\n",
       "q/W66HdB2D5lxYKE3ZFJAX2cONCS+SeHfZIQefjicsEXuh6OF3m7HcByrZ+kqeaw7dB3l1589KTp\n",
       "2zrtI+8eF/hkVxXJWrZA47w9AfAVtn/JQumTzibvIuq1eT6qP8m791yf3JC3Q3G2imQti/g/vB3J\n",
       "w248O7qkl6sJRqWeR/Nswktl0Jan2Gqif0EuWzNVJLnyfrUvZxbpNaLJkhqUzm3/Y1QKWjyV814q\n",
       "jfqTThe2xFLqF0cGq0jWQEVHlVo09sbR/v7Xpd2KDD6miqPZHat4qZyv+I1AbWAsI/lq8yqYCs7w\n",
       "No1i4dnu7k5pKhKcMVUaxZ/erJdqAW7n1jnocsieLa/mAlYF0WI6DdVZ3qaRQ60D2FFr49dPG4am\n",
       "GFVrGZKd6lo8vYyi/hihegX9Lc9Hh+nBQrdrfE6YVSRrobqGtw2oX+8GnUuc1OPozwkfQ9tM2EWu\n",
       "VzuhLbXsDljp+EPEoWpqO7bY1N7BESBagBWE6ln0zgY5aIe/m5xvbPFQ6W7JWqiu4m0DWrc0ULhs\n",
       "Z6cJanORtb4UG4Vv6Ltn2FNfwgaANvY2Ns6oXsNtHKAfDBCqWaixH1s79lb7g++PssrttrmEC9YZ\n",
       "GHVJpq3b+OrrsbGNY2N/sEfp4wAbiRCxGgpIqWGNyu8fQqv4YdzJjEorqedSm4Z9VE9Da8l61Ef1\n",
       "r3U0Ynd6iaOyh4RQweHbPVTOdqvgkqxlrARUidEHadR56U3TR5VLVKDoH6snoTfnonJmoIrDq9ry\n",
       "SfT4ctg3zqjQDNxrP3ovO59cN80MhMudgR281XB7dzyCe64jizzM6kOOCp+JIL/Tm5ub73RTWSco\n",
       "DlWKxUClYk88JdOY0x0qFC0+RD3IHUOuep5EC2EMTAXGQOzy00UL+AAhJAchb6eEPiotk8z6ZyDA\n",
       "E+CiUth61ThF3GnlooyLCsXzt/L6j+jqLkdilx0/moTrlRK0XlkuzyXps125exqFK+XmMuj2ItPm\n",
       "oRqCxGLSmSsnnaiXQk/vYZ1sVAhV5O8zGYsq1RNzU6F5F/1lM26+P60fEZ6PGpUAKuzy9hXNGIlN\n",
       "YxADjaOyOAPq5u7u52BVlqcyPKlntBuVHoBvsfuw5TtZcbJbe6zSpfh1LionYyr6TwMJ1dvLXnBn\n",
       "TIFU2OUtSZKfUTtATwTfxS8F0VjdB/eIejJaRsuPM1ZkO+uiGshr17qoBNmtd9OrF+BETrBDdpV+\n",
       "4cmqILslcwuiJnzG/CpZhEQP7DYTPerpQz0iqocOfeSOFjDJUent64w1C3/tm9TbC2QnsoPbiein\n",
       "OnDJOzMGBT0TGtxnOsE7ES3D5cHUsmzZ6DiN8tJBQpVYeiajzoUHSurcBrrSecp8vDK6qLbwYwXT\n",
       "7hoF2Zk2SlOCmDvubQmkGuKjJbWemHoj8it3U4OK69EWOw8S7PAVbodvCKJ4xO43FD1j7rjXErhR\n",
       "yHIpALPt1Zt6GVQyB6bOIZI2JThEslN9TxV8j7o8PSGgVnQ0sKf206I2l8dLbDxVtj9cUQa/pJ3q\n",
       "8wXfYy7fS6IDsQnBJhoSt9TamtWDIZ9ywlOCU86oYI227jGXn7lTzsi4RGXqQZGsQJKk+vxehbu3\n",
       "nbfxYmhUUZlfD1YQv1kgktQFHsvfm+BtOhMaldSvRuSXp2QW3vBL7hVU4O7Rs11qm8zwqEIIgqsB\n",
       "FvolSarPFe7ezB1II82yROWrrTDVeWxJ0S9JUn2ucPdm8hdU+V+7G9GOveiXJKk+73Lueyd525gN\n",
       "kYqJ11OmaUlNkvSfTKg9YIZJtTNff93ElfVLzux/kSRllomD9Uuu5W0s1AkIsERmES/UK2l08faH\n",
       "cKEgJrP6ralXcqb/kw5ukxmsXH2S+nre9lmx4n9110rWEE6eRgAAAABJRU5ErkJggg==\n",
       "\" style=\"display:inline;vertical-align:middle;\" /></a><br>(see <a class=\"ProveItLink\" href=\"../../../__pv_it/theorems/fac9078b06edc1a3cd0c8ada108510fe8e519e340/dependencies.ipynb\">dependencies</a>)<br>"
      ],
      "text/plain": [
       "fail_ineq: forall_{eps in {1...2^{t - 1} - 2}} ([Pfail](eps) <= ((1 / 2) * ((1 / eps) + (1 / eps^{2}))))"
      ]
     },
     "execution_count": 2,
     "metadata": {},
     "output_type": "execute_result"
    }
   ],
   "source": [
    "%proving fail_ineq"
   ]
  },
  {
   "cell_type": "code",
   "execution_count": null,
   "metadata": {},
   "outputs": [],
   "source": []
  }
 ],
 "metadata": {
  "kernelspec": {
   "display_name": "Python 3",
   "language": "python",
   "name": "python3"
  }
 },
 "nbformat": 4,
 "nbformat_minor": 0
}