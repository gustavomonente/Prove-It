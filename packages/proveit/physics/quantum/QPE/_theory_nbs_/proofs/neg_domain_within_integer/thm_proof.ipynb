{
 "cells": [
  {
   "cell_type": "markdown",
   "metadata": {},
   "source": [
    "Proof of <a class=\"ProveItLink\" href=\"../../../../../../_theory_nbs_/theory.ipynb\">proveit</a>.<a class=\"ProveItLink\" href=\"../../../../../_theory_nbs_/theory.ipynb\">physics</a>.<a class=\"ProveItLink\" href=\"../../../../_theory_nbs_/theory.ipynb\">quantum</a>.<a class=\"ProveItLink\" href=\"../../theory.ipynb\">QPE</a>.<a class=\"ProveItLink\" href=\"../../theorems.ipynb#neg_domain_within_integer\">neg_domain_within_integer</a> theorem\n",
    "========"
   ]
  },
  {
   "cell_type": "code",
   "execution_count": 1,
   "metadata": {},
   "outputs": [],
   "source": [
    "import proveit\n",
    "theory = proveit.Theory() # the theorem's theory"
   ]
  },
  {
   "cell_type": "code",
   "execution_count": 2,
   "metadata": {},
   "outputs": [
    {
     "data": {
      "text/html": [
       "Under these <a href=\"presumptions.txt\">presumptions</a>, we begin our proof of<br><strong id=\"neg_domain_within_integer\">neg_domain_within_integer:</strong> <a class=\"ProveItLink\" href=\"../../../__pv_it/theorems/054666d8fd92b61a99ae27ade7237e3f11ad97d80/expr.ipynb\"><img src=\"data:image/png;base64,iVBORw0KGgoAAAANSUhEUgAAAaUAAAAcBAMAAAAzTr2UAAAAMFBMVEX///8QEBCIiIhmZma6urrM\n",
       "zMxUVFQiIiJERETc3Nzu7u6qqqp2dnaYmJgyMjIAAAAcRTyBAAAAAXRSTlMAQObYZgAABLhJREFU\n",
       "WMPdmG+IVFUUwM/8eTv73vxxAkXtQ/vELwlJj13SJVM2QoRQd1xD/LC0o2RabTamOP2RFE0bJ4on\n",
       "glpffCLItuI6ZZAgbKObWpo2JUEfsiZNQ42HoUW7H5zOfX/v+7sjb1q2Lrw799373j33d86559w3\n",
       "AGNSlsP/paQyWmPp7P/k+p9x6TtqtBaM1TLCDZyLybp0fjb2TNFsA91MwupSxdK3+63H/iUmplXy\n",
       "GrrQOCmteA2UbZ23AtiJrXgMxEVijkle78WQtkoal4MisSNY/Ux1HGzfDjAcgKnPc+QFUs1zON26\n",
       "P+TJv1QgLACcJx03gzIlcCY4a95zWfimg0lDtICl6MYUf9B/xhuuvR+jFQaAkpVcnc/nSXgNb8tA\n",
       "tRm1extgH9HylqBMoZKVKSJBKB3OfuSwU5xXfw+dGfGdMCnQd59omup9BZkSvCmL/V3UJZYhUfoC\n",
       "G2+qmztRCsq0X7IyhXLQNBzhy44IqDNB0p8pJrowoXujHC5tykqJlBb3MEQR7Tj3uf7+vYFDxLdg\n",
       "ZUqNQNOfzEo95+7evPI+maxLsjDBr6asOfRTxWYyOg2vvwuFTfUu/UWvgXk2JqJp10XXyzSdVD88\n",
       "8LYb0xBeJ9X7HO2uvBLqOvGRVQA7R0HZo/12e+7rAqnWWro6y0GY3iPu9D0scmP6yYixLJ1h+zgl\n",
       "LPSgczwFXNWSzzBrMWbQGNomwXf6zRtmoGt/HLrMbXidLNeaMzZCECbc6TDfw/fI5kwpMYSjg9uq\n",
       "JmVz7e9AH4GwJb3tkoBpM2yaEJuqifUVB9NXxCq9xu161MM7OCUnKwVVFRFcIr4s//aQLGe9mMy3\n",
       "YSJeh/uUOS7K8jpZvm4y9ZDWat7me1FhoXrIRKZEJaZ3Hx6aCzBIxnNm/GGGzTdNptehR1QeVctV\n",
       "R26fDoHsRJj6PexEmFKq152iwhKg0c6pdmKry3Qx734oOZg62Lvom1xbW9scmmkDeddk2kGqNfTa\n",
       "BfggoO9xGQ+mBeaZJWW6//kEwmCY7yEeuPM5rAbzAu4sUqxMuIqRuOD0PYDPJYppjT3udQPMCBgj\n",
       "4sgkesUILe5xzz+tn86yGMkiaTXuwTEEiJcgox79HEwxnm3Vpu66QyXnV4FimmZjYjd9PSvnyxRW\n",
       "mI6iTO6e1qALxmv2Ghwp2ZgeJQt+gpLFfKmdjZqlInAvb9FS5QQUE36kDJy6q3ttTEPeJ7wDRhbv\n",
       "tJ0jUrVazZcpsuLeXKKwrBYhY7bvHuJfiydvt/nerJar6DLXHLkQy5PvTym0TBGUcwR6Aa4n3MoD\n",
       "81qhsBWWC1ampC1+6afSS0RJRrIOdbjJ8bPTKMXjbKT4W85X1hW9cYRUWTc7LaTSBI1WjmYoO0XK\n",
       "po/7Fk6qj8mqyn6Lh/B+TJyxT7sgKsFpYz/Fc8AWYZ/EFplbJ4purz574jgdI5i07fspcPE+2wxQ\n",
       "309n83ltPxnKMJw4mcdv0uaSxsTO/otnpsISkZkaqtVuu03cUqvRMQJeIpuo3ECmPl/a6ERPp81Y\n",
       "7x/G/UQvdLQyaFPesUrjmDy/3ZOi7/8RP46y0Ptgigvj4y8598/bA2LdE/RS7U/HB1PE1YDszHrf\n",
       "7y7BuCz/AOzZVb7w84kHAAAAAElFTkSuQmCC\n",
       "\" style=\"display:inline;vertical-align:middle;\" /></a><br>(see <a class=\"ProveItLink\" href=\"../../../__pv_it/theorems/da9e15815ed9f644fa7d829702c33e8d98075d460/dependencies.ipynb\">dependencies</a>)<br>"
      ],
      "text/plain": [
       "neg_domain_within_integer: forall_{eps in {1...2^{t - 1} - 2}} ({-2^{t - 1} + 1...-(eps + 1)} subset_eq Integer)"
      ]
     },
     "execution_count": 2,
     "metadata": {},
     "output_type": "execute_result"
    }
   ],
   "source": [
    "%proving neg_domain_within_integer"
   ]
  },
  {
   "cell_type": "code",
   "execution_count": null,
   "metadata": {},
   "outputs": [],
   "source": []
  }
 ],
 "metadata": {
  "kernelspec": {
   "display_name": "Python 3",
   "language": "python",
   "name": "python3"
  }
 },
 "nbformat": 4,
 "nbformat_minor": 0
}