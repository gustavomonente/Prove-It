{
 "cells": [
  {
   "cell_type": "markdown",
   "metadata": {},
   "source": [
    "Proof of <a class=\"ProveItLink\" href=\"../../../../../../_theory_nbs_/theory.ipynb\">proveit</a>.<a class=\"ProveItLink\" href=\"../../../../../_theory_nbs_/theory.ipynb\">physics</a>.<a class=\"ProveItLink\" href=\"../../../../_theory_nbs_/theory.ipynb\">quantum</a>.<a class=\"ProveItLink\" href=\"../../theory.ipynb\">QPE</a>.<a class=\"ProveItLink\" href=\"../../theorems.ipynb#all_abs_alpha_l_are_nonneg\">all_abs_alpha_l_are_nonneg</a> theorem\n",
    "========"
   ]
  },
  {
   "cell_type": "code",
   "execution_count": 1,
   "metadata": {},
   "outputs": [],
   "source": [
    "import proveit\n",
    "theory = proveit.Theory() # the theorem's theory"
   ]
  },
  {
   "cell_type": "code",
   "execution_count": 2,
   "metadata": {},
   "outputs": [
    {
     "data": {
      "text/html": [
       "Under these <a href=\"presumptions.txt\">presumptions</a>, we begin our proof of<br><strong id=\"all_abs_alpha_l_are_nonneg\">all_abs_alpha_l_are_nonneg:</strong> <a class=\"ProveItLink\" href=\"../../../__pv_it/theorems/56435d1634b453253596787573f06d67d7d150d20/expr.ipynb\"><img src=\"data:image/png;base64,iVBORw0KGgoAAAANSUhEUgAAAJ8AAAAcBAMAAACNEXClAAAAMFBMVEX///8QEBCIiIhmZma6urrM\n",
       "zMxUVFQiIiJERETc3Nzu7u6qqqp2dnaYmJgyMjIAAAAcRTyBAAAAAXRSTlMAQObYZgAAAs9JREFU\n",
       "SMetlUtoE1EUhv/MZDKTyTRxI+puSikUFxJ8QAtSAoJuBCP4KAUxCxXFhUqFLOoi2KpppBIo2KKI\n",
       "Q4UuQrUBHyC4SB8LTSsdN9JFC1VBoYJkI9gI4plXepNMJyn0QDL3zjnzzXndM8A2CTdT2CaS/4p5\n",
       "WcabxranmiKOXDT+byKicQ0shURzPo7cAeTf8OX9DR4Ia+hl972bGU4OQliHqOOjN3A/MMfu5za1\n",
       "nFwTyhBViBqwatxYcbMKlj2BLTfS/74MW+t9OnnoU8FFgXnjxpobUIl6exiWE8JwhhZyR97IYSSG\n",
       "YAkYM3xJuQF9eW+gFCwg9ZB472N2lYF+M/NQ8m7Ap5o7cCmZXHWAXWHInQYPbWYfdlIqirncqGum\n",
       "P8EV2LOX8bBLghC3TsoCZQit9PuTTt9yBXbbjJm2GAOU19iQE0ernzlBUVGfD0G+Vg9MW4zRmLxH\n",
       "zk+UbGAgywBDfTXlPE/uHoFMKTlm3Qjsnh2I2srvFpDcH+A0/3UbKDFF2ZX8CYTSJBkn7xSMCE4H\n",
       "ZimYdwd0MauMa7ayzwTy1I3dykYPnfxFYhdlLpqpiWqKgIou0oo6dOltDiGce+Iov5lAH7XUdBGS\n",
       "bgPH2LY52FPbGQQMrp6h1Tr8VqjRyli7awKnaL+YRyRrA30sUHqu1uTQyPDQBRosOxC2DtTjuKO8\n",
       "bAIj5No0RepUmVcZoJA4VF9lvKR8cyk8M++MKxVlq5XDBFoWBXRU+rCfOXqYD8TrehcReqek4iwV\n",
       "S0WhiEfM24ixsKLzM7hdAU4MapXhEJce/K0CdpoaMvCdRsCc5691fHDOcow5KTvjlc3xe9bRc5Ov\n",
       "ziLCQTGc53kYHWcKX2CAJdVrHjoil50VT8b36fr50sIPZ45ToTYYh2PNAFuqvgGckUNWrjY9sR0R\n",
       "457qF0A7u29vCFz2VoeiW/xEuw9qRl5tEchr2H75D0rfxl+UJZO4AAAAAElFTkSuQmCC\n",
       "\" style=\"display:inline;vertical-align:middle;\" /></a><br>(see <a class=\"ProveItLink\" href=\"../../../__pv_it/theorems/c09d434d289dd0592942de344463d2edea180ee40/dependencies.ipynb\">dependencies</a>)<br>"
      ],
      "text/plain": [
       "all_abs_alpha_l_are_nonneg: forall_{l in Integer} (|alpha_{l}| in RealNonNeg)"
      ]
     },
     "execution_count": 2,
     "metadata": {},
     "output_type": "execute_result"
    }
   ],
   "source": [
    "%proving all_abs_alpha_l_are_nonneg"
   ]
  },
  {
   "cell_type": "code",
   "execution_count": null,
   "metadata": {},
   "outputs": [],
   "source": []
  }
 ],
 "metadata": {
  "kernelspec": {
   "display_name": "Python 3",
   "language": "python",
   "name": "python3"
  }
 },
 "nbformat": 4,
 "nbformat_minor": 0
}