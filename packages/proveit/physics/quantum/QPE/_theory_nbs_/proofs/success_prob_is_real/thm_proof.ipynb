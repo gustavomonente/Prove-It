{
 "cells": [
  {
   "cell_type": "markdown",
   "metadata": {},
   "source": [
    "Proof of <a class=\"ProveItLink\" href=\"../../../../../../_theory_nbs_/theory.ipynb\">proveit</a>.<a class=\"ProveItLink\" href=\"../../../../../_theory_nbs_/theory.ipynb\">physics</a>.<a class=\"ProveItLink\" href=\"../../../../_theory_nbs_/theory.ipynb\">quantum</a>.<a class=\"ProveItLink\" href=\"../../theory.ipynb\">QPE</a>.<a class=\"ProveItLink\" href=\"../../theorems.ipynb#success_prob_is_real\">success_prob_is_real</a> theorem\n",
    "========"
   ]
  },
  {
   "cell_type": "code",
   "execution_count": 1,
   "metadata": {},
   "outputs": [],
   "source": [
    "import proveit\n",
    "theory = proveit.Theory() # the theorem's theory"
   ]
  },
  {
   "cell_type": "code",
   "execution_count": 2,
   "metadata": {},
   "outputs": [
    {
     "data": {
      "text/html": [
       "Under these <a href=\"presumptions.txt\">presumptions</a>, we begin our proof of<br><strong id=\"success_prob_is_real\">success_prob_is_real:</strong> <a class=\"ProveItLink\" href=\"../../../__pv_it/theorems/995d8be2ddb7cce70d72943a8ad825d323cbfe000/expr.ipynb\"><img src=\"data:image/png;base64,iVBORw0KGgoAAAANSUhEUgAAAOEAAAAUBAMAAACJwkfjAAAAMFBMVEX///8QEBCIiIhmZma6urrM\n",
       "zMxUVFQiIiJERETc3Nzu7u6qqqp2dnaYmJgyMjIAAAAcRTyBAAAAAXRSTlMAQObYZgAAA1dJREFU\n",
       "SMeFllto02AUx49NekmadiqCQ0TqfPGhatmeRNTBGIp4KXsYCoJFnSjuYTChiqOU4qVTxuJelLGx\n",
       "qKCjY1IYdSoqoZ3gZQ9l8zJhk4LsQcWtuOFlTOf5vi+9d0mgSc7/O19/X84530kADA8hCaYZr5HX\n",
       "p3P00susx8t4ET1Fbqb0/qsfQKoFeL905dRnZXm3EXISg8ywyIWDHyo7ZyqTTH9DhK96xC+MCP8A\n",
       "bOsMiE6NJKaKRlP34PCEQvVbJG5BHaDDw4jmRQD7DwPieMaKF40Ge8Am+KjuxEBJUR2iVWZE0zz+\n",
       "Fg2IFzLWbW25V/2BDJGTU1R3vI5EbuoFlQwSoi2NaZjXJwotGctJ8gDmkJJ7Rk4OMv13ONxWOl/N\n",
       "3m3SiBW4wj6PPtFExidWXcIZ1POBkhdVC+9jehNAe+n83F93aMRjKtjbQJ9ow3Lk3sEBDB0tnTP5\n",
       "eRzepTC9rrSwCogXNeK25tFqxYBoxYKop5adxjdXkcEb/kBU061gSubmmVtHYKMvn7hGI3Yq+i2A\n",
       "EFeg30A/mWtOk9OGGTy0Z6yzKZouJa2ZSQOJnfBIUjglUdNaEy0i/tJs0St26xEjbOXpwl0X7OHq\n",
       "g5oupBozO+96twLPXB6pXFTNc8SomnT1px2rQRrdDqMJ+a7bZdoSJ2o2qiLrhzyN6sr8PF4by+jt\n",
       "J/H03O/BjOIRi3VJ5SqHbEfgVcElpCEEzdBsUS3qdzi7H7qImq0cOxLlTOVU5xMbOa+mDyHWHgUv\n",
       "a7ExafBoATHBiM4FEqa5J4qYhuMCGn0KmBfgYd+OCFEZEWtfmIZBTAhHt5c1mtflpGiTplfgAk1u\n",
       "FURKiYGaKCDuoURu9ie6wd6lWkLkMRuHcMF/p9x85zxRGZHE7ODay6QD0OCKp/dlO/k0hGejTHfg\n",
       "Ak3VLjCfD4dDSOwlleQt6XK0HmR7CxJDwh98RpmWwREYJmpxl7vPLvxLrcsV6QCD5ORjz8g3lO3k\n",
       "dJd5cIstiOvhBNyxeERXBziGwEZVg05eojcAr8ALcvcWYLLQqT2PGHfLMD62OylhTBJVIMXVp1Wv\n",
       "qMqItuXeVlCsO/zf0B3zzAdqwVL2jWx0FLyRbXJ5p2J9M+ax/FdHwPCrY2vBV8fHZbxQ/w8f7A/s\n",
       "J2ymAAAAAABJRU5ErkJggg==\n",
       "\" style=\"display:inline;vertical-align:middle;\" /></a><br>(see <a class=\"ProveItLink\" href=\"../../../__pv_it/theorems/4cc8dc5c193821ed5a44a289c8d0d4d873e025b40/dependencies.ipynb\">dependencies</a>)<br>"
      ],
      "text/plain": [
       "success_prob_is_real: forall_{eps in NaturalPos} ([Psuccess](eps) in Real)"
      ]
     },
     "execution_count": 2,
     "metadata": {},
     "output_type": "execute_result"
    }
   ],
   "source": [
    "%proving success_prob_is_real"
   ]
  },
  {
   "cell_type": "code",
   "execution_count": null,
   "metadata": {},
   "outputs": [],
   "source": []
  }
 ],
 "metadata": {
  "kernelspec": {
   "display_name": "Python 3",
   "language": "python",
   "name": "python3"
  }
 },
 "nbformat": 4,
 "nbformat_minor": 0
}