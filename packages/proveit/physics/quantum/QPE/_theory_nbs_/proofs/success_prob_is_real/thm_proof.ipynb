{
 "cells": [
  {
   "cell_type": "markdown",
   "metadata": {},
   "source": [
    "Proof of <a class=\"ProveItLink\" href=\"../../../../../../_theory_nbs_/theory.ipynb\">proveit</a>.<a class=\"ProveItLink\" href=\"../../../../../_theory_nbs_/theory.ipynb\">physics</a>.<a class=\"ProveItLink\" href=\"../../../../_theory_nbs_/theory.ipynb\">quantum</a>.<a class=\"ProveItLink\" href=\"../../theory.ipynb\">QPE</a>.<a class=\"ProveItLink\" href=\"../../theorems.ipynb#success_prob_is_real\">success_prob_is_real</a> theorem\n",
    "========"
   ]
  },
  {
   "cell_type": "code",
   "execution_count": 1,
   "metadata": {},
   "outputs": [],
   "source": [
    "import proveit\n",
    "theory = proveit.Theory() # the theorem's theory"
   ]
  },
  {
   "cell_type": "code",
   "execution_count": 2,
   "metadata": {},
   "outputs": [
    {
     "data": {
      "text/html": [
       "Under these <a href=\"presumptions.txt\">presumptions</a>, we begin our proof of<br><strong id=\"success_prob_is_real\">success_prob_is_real:</strong> <a class=\"ProveItLink\" href=\"../../../__pv_it/theorems/e40ad87a8e92afcbb828014026eeff6ed4784f2d0/expr.ipynb\"><img src=\"data:image/png;base64,iVBORw0KGgoAAAANSUhEUgAAANIAAAAUBAMAAAAKBn7YAAAAMFBMVEX///8QEBCIiIhmZma6urrM\n",
       "zMxUVFQiIiJERETc3Nzu7u6qqqp2dnaYmJgyMjIAAAAcRTyBAAAAAXRSTlMAQObYZgAAA0lJREFU\n",
       "SMelVVtIFGEU/tybs7OzdiEQoofJXiKMFq0HqUiILg9Wmw9hELR0g8gHw4ctkljEajWswYcSQZwK\n",
       "SlYUQcyKisG1h9IHyQoDjY3yIaNaUrqYaefM7qyzLrM+9MP8/5nzn5nv/N+5/MCSwz28tA1aE8tD\n",
       "i22PAsRYGM/2k3Z63sxfPvVBtbYRQ4nVpaTrvWfDc+8bSTgNDLJiMhvSJ57mAGG1tU1eEkGMLd4Q\n",
       "A87GBqALaGZ+QlmAvD6anLPEwHdroxFD6F+0Ibg1hG4Akow84kTqzoKUy+7apumZtTY6bwi3kuto\n",
       "MBgzkEry6LDL4X0RidzMRp6+KcQpBtPWSVOVYqtUXyo2mM5UIpDwEfgVDtdkfqulpHU8LSMH23yW\n",
       "SDbeGl1RR/ToRuKkmb3AbhKiwEmgPvPbhb9y5uCoBk+N9bkFKgT7a+yjqMbSU5CQPNWM+w7YmZkw\n",
       "aUgXeNpUOVSUJclzKdC7EoWj8yiYMiI/+JmFPrKCzVSazuoBrA2YkVbxdF3NWrc5FJ2Odj1J4/x+\n",
       "8CuNZEYM+Bp0VojZ4Vzjg47odjyQVLsaLa4u7jYj/TQq1C+2WCBFEp7qSM3mLN9ckURyxw4ZlXO1\n",
       "RcUT2SdlsOecYqlgTG6Pe1dCGirBUFS5UyjbNvazltkT/bq1Q2cvx4wkdMok7KGn/gRNT4M+ihiN\n",
       "3t4mKSMjuJzg0NyyO45aVKLSpbm0LzhThibWckZ4CEkxMsIum5CcgS2JjEAPueHphj/RAnulziNp\n",
       "SFGukhkumqlHqhjHMTe9tKlwzuB+29YIazm33RPoJMLt2kIaJbsRBl3kxTauFXLAVqhB1P/eCy2a\n",
       "hkTHtn/7wU7unS9lJAeF4gB5/3e80HF9mrU6Z/vzL/GfEyTerVNTHdYvXPsDTPAbKW1FMpznwuFa\n",
       "QmrlDPGndyM92IqnipBq3b/pTIoe+8PoY62pG91LrmVXgmm1IxpdpJOnQOJMjvLMDquXig8hzIhr\n",
       "cBy3XT5RboS3B4Kute6wxpCMyJXDoeIZS6+AsXQjo4N4+gsVjLzcMSwRAdECSP3a44LnuhaC1a1h\n",
       "jK6U41zIAkXUcbEUrsybcKlh3ISCYmGwqOGtpzj93+3+1uqSU/APK3/uS+3Sv+0AAAAASUVORK5C\n",
       "YII=\n",
       "\" style=\"display:inline;vertical-align:middle;\" /></a><br>(see <a class=\"ProveItLink\" href=\"../../../__pv_it/theorems/0575557669e2b5a6624196d64126fbff300ae7ff0/dependencies.ipynb\">dependencies</a>)<br>"
      ],
      "text/plain": [
       "success_prob_is_real: forall_{eps in NaturalPos} (Psuccess(eps) in Real)"
      ]
     },
     "execution_count": 2,
     "metadata": {},
     "output_type": "execute_result"
    }
   ],
   "source": [
    "%proving success_prob_is_real"
   ]
  },
  {
   "cell_type": "code",
   "execution_count": null,
   "metadata": {},
   "outputs": [],
   "source": []
  }
 ],
 "metadata": {
  "kernelspec": {
   "display_name": "Python 3",
   "language": "python",
   "name": "python3"
  }
 },
 "nbformat": 4,
 "nbformat_minor": 0
}