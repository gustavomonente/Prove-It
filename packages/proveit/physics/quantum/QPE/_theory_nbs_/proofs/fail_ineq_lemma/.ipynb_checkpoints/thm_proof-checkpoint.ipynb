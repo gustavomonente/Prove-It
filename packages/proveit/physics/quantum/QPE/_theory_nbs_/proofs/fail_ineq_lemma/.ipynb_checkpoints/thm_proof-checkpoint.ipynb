{
 "cells": [
  {
   "cell_type": "markdown",
   "metadata": {},
   "source": [
    "Proof of <a class=\"ProveItLink\" href=\"../../../../../../_theory_nbs_/theory.ipynb\">proveit</a>.<a class=\"ProveItLink\" href=\"../../../../../_theory_nbs_/theory.ipynb\">physics</a>.<a class=\"ProveItLink\" href=\"../../../../_theory_nbs_/theory.ipynb\">quantum</a>.<a class=\"ProveItLink\" href=\"../../theory.ipynb\">QPE</a>.<a class=\"ProveItLink\" href=\"../../theorems.ipynb#fail_ineq_lemma\">fail_ineq_lemma</a> theorem\n",
    "========"
   ]
  },
  {
   "cell_type": "code",
   "execution_count": 1,
   "metadata": {},
   "outputs": [],
   "source": [
    "import proveit\n",
    "theory = proveit.Theory() # the theorem's theory\n",
    "from proveit import defaults\n",
    "from proveit.logic import InSet, NotEquals\n",
    "from proveit import l\n",
    "from proveit.numbers import frac, zero, one, four\n",
    "# import common exrpessions\n",
    "from proveit.physics.quantum.QPE import alpha_l, alpha_l_sqrd, t_, delta_, two_pow_t_minus_one, \\\n",
    "    full_domain, neg_domain, pos_domain, eps_domain\n",
    "# import axioms\n",
    "from proveit.physics.quantum.QPE import t_in_natural_pos, mod_add_def\n",
    "# import theorems\n",
    "from proveit.physics.quantum.QPE import (\n",
    "    pos_domain_in_full_domain_sans_zero, neg_domain_in_full_domain_sans_zero,\n",
    "    pos_domain_within_integer, neg_domain_within_integer,\n",
    "    two_pow_t_minus_one_is_nat_pos, phase_is_real, all_alpha_l_is_complex, \n",
    "    all_abs_alpha_l_sqrd_are_real, inv_diff_l_scaled_delta_is_real,\n",
    "    delta_is_real, scaled_delta_in_interval,\n",
    "    scaled_delta_not_eq_nonzeroInt, alpha_l_sqrd_ineq, fail_sum)\n",
    "from proveit.physics.quantum.QPE.phase_est_ops import Psuccess, Pfail, ModAdd"
   ]
  },
  {
   "cell_type": "code",
   "execution_count": 2,
   "metadata": {},
   "outputs": [
    {
     "data": {
      "text/html": [
       "Under these <a href=\"presumptions.txt\">presumptions</a>, we begin our proof of<br><strong id=\"fail_ineq_lemma\">fail_ineq_lemma:</strong> <a class=\"ProveItLink\" href=\"../../../__pv_it/theorems/edb1ea5f8b4643fea140106157a8a8179a2405ea0/expr.ipynb\"><img src=\"data:image/png;base64,iVBORw0KGgoAAAANSUhEUgAAAxQAAABMBAMAAAAGmOylAAAAMFBMVEX///8QEBCIiIhmZma6urrM\n",
       "zMxUVFQiIiJERETc3Nzu7u6qqqp2dnaYmJgyMjIAAAAcRTyBAAAAAXRSTlMAQObYZgAADo9JREFU\n",
       "eNq9XHtsZFUZP52ZO487j3Z9gEuIHRc1EpQ22yAIYmuMAYzYASLyB6EDurqadVteIrjawQcpa0jH\n",
       "QGCjIb0LZsVd2I6SgIZIR1ZFBWyRCBqiHVzoJhKm291uS7vdXu/z3HvPd+49M+ec8v2xfPOV+/3O\n",
       "d37n+d1zD0Ly5Dyup+Illv08tIGSKcsPiSb3A0CoSJNYg+uxc1l2Tr+tyg75IdEkWQeAO1opApcM\n",
       "VXmeUlZYdj6/LcveAdkhUUV9DwCEiizZxfVUqs6yQ78ZkjaRYufPaCukpMaJ86JGAkJFkuRGuB57\n",
       "lmWn+A2wp1RQVqhVzbUSkjueK7/npaJQBoBz7CJwycQM16x5imWHfpP+YUPpM+rrEyIFHyy1EFK+\n",
       "6PZWXioSJwAgVOTInVxPpbtYduj3WsyJFaJBxT6RghcajJByF1yInr1YlArUBIBQkSLKKb65foZh\n",
       "p/jdhvlyqSiITK+Jk4yQ/oJ2ohQSpmKwRgJCRYqENW/OvnRnhF+j7rNHbvZTEZsRKfoRRki3Gyup\n",
       "gwg93NfXVxOgojACAI+wisA3VdS5poo1lh36zRghPWWtmjAVWaFN0uxAdEi3oImBx/PCvSK/CACh\n",
       "IkP6ucaI+ArLDv0mKghteT4wQJkmfpmssEKa0u492xm0ei7i3lm8DQChIkPWuZ7qbLDsfr+Xjhmi\n",
       "JYwucNYWhHY2X2s2ZywqFKFpL73CCukmKVU0XiUBoSJBsse4HpsqMuwUv8ZGQp0JTtuJ8gaU3TPn\n",
       "eqXUEQwKKjJSLHy0DlcZdopfdQQpRfQ5l4qsQUW+LlT4ZUZIL8mpo84RALgcXQQ+GL4F1ALLTvN7\n",
       "B0KvfK/mUJE5f6mI4mKz3nw1MqREPSFlC1ZYAYBQkdD5uPpw9jjLTvN7TmBfYQUpVvieYmRI1z31\n",
       "G01GHcWOAUCoSFhA1bgWUO7W5lca3U71mwbK79ikR2XchhqRIXXreuuNKwJHWQeAUBGXUa52k1q1\n",
       "R/8dwxrNHuI34W7o3AytyuyS+/60GjW6HpUVUjSODgChIizqAt+K3h2OZzW6ne73t2TPZ1daPqqK\n",
       "CiekhRSJM18iAaEiLIm3+dIyFToV2M7pt80qip+SFlIkTv8MCQgVYcmtcT02XadTge2cftusotiS\n",
       "tJAicXrKJCBUhCXNl1ocr9GpwPb0yXeCisSytJAicQZHSECoCEsH31DXXaJTge0dJ94JKlRdWkiR\n",
       "OJNHSUCoiO/wVrke0zU6FdhO81vQfVKUUUUeHj2keR/gMQEczyUGhIqoTHCtxTK4KQSp8Ow0v1nd\n",
       "aa+/vPx6vUsKFd0DkSFN6XYvVe97uXtBAKdjEQBCRVQGufIeiQU6FZ6d6rffG1dfOSmFivmZyJDi\n",
       "Os4e5UdrAovmUwAQKqIyy7VZzK/TqfDZaX5Tehnrn5JCxXA9OqRRb30Tb/DjJNcAIFREZbrCtQTG\n",
       "S/cejW6n+lV0bxEebzFRF4ukor8cHdKQ7rXZ8/hx4ksAECrCKahwRw/Sd8iBon28+/BMdJGDDVb3\n",
       "8pit9ev49esXt9mS/NB53cvV5/lxKE3Mr1j97d+iVIw75X5Zv+urhwMtXHWwkpQscDpkX+PZx6lU\n",
       "pPURJFWmG+Eh2T+kLPtz6wDQrzxn/vd/oiDzbkLOAEsHkpPuuRjVF23sVudvITlyzz5PTfSp3cfl\n",
       "UtEzEhGSKXt1GS/yYssA0K/sMRePFWEqnElHWSNfDuI3YM9g06Puq+JCSG7Bs8/TJ7NBvSaVillM\n",
       "xa8RFTqhy9j255cBoF8pGMNJTjiwUafcMWPlHAtU8O24YbnKvd/FS6EQKjz7KJ2KnC73wO9sF6Qi\n",
       "CD29IGELll8AgH4l/9f9+x8QBhl1dr1pY1+UXPTv1nB7Kzh7mPvf9Ko8ZOvq2UdDdtPz61KpmDpK\n",
       "oaIY3OI3xGGyOgAMKG+Pje0SBul2FjLmoZkJ/7AaM3/8c9MP8bGJa1737T5DMsOevTtkgbRXr280\n",
       "FUFotXtt46nYhtDdrfr6BouKoTrK7lK+bP7Kj6jbjW5iqPF/oMuN31azSv8IyaAiqy/KpGKQSQWa\n",
       "0sUzEwkdAAaUzwQWN8bM+4J11MiVQz/Q8Hdk157hNyvn+PJpzmzTs+P5rVrq52bfTpTRoDHWGH/4\n",
       "rF171lAVu8k35naSc6FK2kOn534ZY7dHxSqkgoCOS5ieEjjnhwEDSoo4/PsTzf5mwZkgq8kG+rv7\n",
       "646AOekNEtudTe+4iTXpWg2lw2hLBx4xxybF5j+/y6vDpNNFrJSn+efJRsDu+aUkP8JGqE69HbGf\n",
       "2WM3vb81mzc2m3N06NE1YZzMmPvwngpNyc3gA+sHDhlbxaeRfeLOCbmqrORuniGpMM0o2wBNaNlb\n",
       "K6lVl4r9dm9zumL2cDW0V6TKrfaKzLLMAWqI3SvQhPi2UsG9AgMGlEzjanet9eOfaoCKgcwiGgG9\n",
       "wjL7qbDJUsytl9L/TOKFi9EjR00qjAFKtZsX9pmYc9tbZ8hc4dn1sLxGfvOGU0FAv1jdcCrQ3V8x\n",
       "/nn6tl5j1jAlSIXRileNuUTt6+u7yEeFafZT4cxxsUV7XIoVCwOqRYUxbWeNmq+607ZVorEB0Wlb\n",
       "8idTLUzbCQnvE1nTNnrc/EChhkp2OgpQkSpme8EAZZr9VDiL8MKqM0VceW7RpsJYwmbeQI8ZnT3u\n",
       "De6ZbaL7CoVr8/tGO1QQ0EM1cRwmFZ0GZuyjdfdg1w6CikMos9Xpm1cer/nMSN1MlDs+v1S0qMjt\n",
       "TjpUmJ6+cLo5DRdKEVXeLhV7i+1Q4CSHVf8rwcQ5pWy1dSrUd0nAYVKRNwaw2NYiUr49NvZ9dE1v\n",
       "kIo8kQezv3GwzV+qUxM2k6izmv6gTYWX+PhFVK4JXdVWDgodjkq6jRKkqxVjgB0rOctpR1699AT6\n",
       "Oq6ZLkYOChV6JeBQ3k5C5THznzKtV3ze2RYQYpp9vWK8N0DFZCm1xaGCkg7EkvYSrN+i28fpCdF0\n",
       "ZP5ylmS8ivah3GLm/MO+uisjDR2EOaj99JDQmAwcRg7KGXpQQkN/xHOFwWtmN9qjZXYrbz61mzZW\n",
       "m2bfXOEvtzq8LX/D2f/dd1wdNshNB5PkB28z5VayymOntUXFs97ehDKEX0D8NlrDhQhtQgX///uC\n",
       "uTsqkqlqnwSgc94smeXHYSTJHb5ue9OogZpDhfnNgrIZXVFVNnfYey+wxjHNPiqGy2FN1H11lKas\n",
       "BZP4FdGDc3Q73a9vJZunUEEO68YYebr59UynvwiDxg/VbYm0V0cBaN9K9lV+HMarI798xJgrrF7R\n",
       "YnbLe7q/wprL/kX5Uxy/YKzP0e10v76V7Kcpuz9i2Wkmh+c1NFy6IjCamK3w9QgYv823kk108eNQ\n",
       "4oKKT7io6KnwLC5jbtHy1Tmqne43461kH6a8zssT3ThmjzSj2odVr7mqW9bsZaDdAyjjoB96Avc9\n",
       "tb+XHyeJS4sBoeJfJ7a8q/TloKYaXEljt8M+FLxwBNvpfve6uJkndMrGK0nQl7Z2RYk1tDXnGa/T\n",
       "xo1//+POC5SFmg9aPdPVfjasl/hx0nhliAGh4m9zH2t1G/+cbwPEdSRNcVcU9SAV2E73O9+05Ei3\n",
       "rtPOG3QQe45UzUlvXf0h67c55avvRbNGnT7peqTMOD7owrqNeKMBuNwqjpVlDuIUcHfGgFARlUmu\n",
       "g5rumd1sKUiFd5aX5jfOODNr3ael2pVnNuEOK83Sh52bXS5eQUPG34bcJEcpMqR+6plZBo6VZQ7i\n",
       "eCeiMSBURKWT71th5zzTo+SNSPicE4/fD5C9ZMAbyN0tTMcMGtJwFanU48srYjhWljmIM7mKCECo\n",
       "CEuK76XaqJ0XfKKvb2Erxc7n9y6VMnA8jjL+OXCyhF4x/nOJmzHlCal9nKGjiACEirAk+b5fGsbZ\n",
       "z9Podh6/p3JwOlXqKOavos4SusebTvPrPCG1j4OP4WJAqAhLjO+MWA/uzu+j23n8Lj4U/G2eb3jg\n",
       "+UNfC9iKCXP980nn13GekNrHmXbDwoBQERaFj1T8tfKf9W9S7Tx+XyKWhWZCbd6/9LEyYmf5stnU\n",
       "b72Y0O3jwO/aoCIufENd2NfKnp3tl33F5e2hKzhnKZxaDQ1JHaaxVOHDwV+CY0CoiAvfHRWFFZbd\n",
       "8kvWh3mZH+2Ky2tCmm8YvJumm+wKD+kSChN9I1w43pfgGBAq4jLN9dFM7hTLbvsl6sO8zI9yxeVV\n",
       "59O9pcOaiZu8niqHh3SI6IPuUMSBk8VZTgwIFXEZ5HKVWGLZbb+HyJFgqEpccVkOacFWawxLkLlH\n",
       "8YZr4SHdQ1R3BBUsnCSeDzAgVMSlg++Oim6W3fZL1Id5mR9xxWUlggo3OQzyhtXIUtjQeKgkbo7k\n",
       "wPHqqDtcEZc434GI/hLDbvsFU8qURlxxGUkFQzJL4SEpXShpvkK+h7w5kkMmyiQgVCRIgu9072Cd\n",
       "Ybf8GvWx3awPbz66CRFXXIpQETsZHlIMDzrEzZE8u6gaCQgVGbKJb1zrYtk3BerD200RV1yKUFHo\n",
       "Cg8p7a4OyJsjOeQ1AAgVGdIzwNUgF1l20y+uj4TZN3aDZWOy2Xx/8y1uKsKuyDWhO75oem823yJv\n",
       "juQYB+HduVCRIZ18q7Ellt30a9THTrM+3AGKcpmfSK/o18JD6oy5mwni5kiO6XQVAEJFhuT4tovT\n",
       "GsNu+sX14QjlMj+Liie5iqAuRYQU/4P7i7g5sn2ZLJOAUJEiKt+8PVln2E2/Xn04Kz94mZ9Jxb2j\n",
       "N3ANkitthJQWGMKrJCBUJE0WXH0s7Ot/z96a34rAlqi3jZAEqHg3AISKpE0e38xzJsveml8BKma1\n",
       "NkLKcMN4t39gQKjIkSzfZDGlMeyt+eX/+EE9JjukkCG3SAJCRZZs53oqWWHZt6MNlWRDdkh02QkA\n",
       "oSJLUnwZre+w7KnahlIxWJUeEnXvvgIAoSJLFL5POK/QGHbljA2l4hb5IVFZHQCAt7RSBD65jK+5\n",
       "VFn2yzaSCbUmPySaHACApPJ/M1Q1UudYV/8AAAAASUVORK5CYII=\n",
       "\" style=\"display:inline;vertical-align:middle;\" /></a><br>(see <a class=\"ProveItLink\" href=\"../../../__pv_it/theorems/a8826688963ce17b44d7392e64600abe2ea9ae730/dependencies.ipynb\">dependencies</a>)<br>"
      ],
      "text/plain": [
       "fail_ineq_lemma: forall_{eps in {1...2^{t - 1} - 2}} (Pfail(eps) <= ((1 / 4) * ((Sum_{l=-2^{t - 1} + 1}^{-(eps + 1)} (1 / (l - (2^{t} * delta)))) + (Sum_{l=eps + 1}^{2^{t - 1}} (1 / (l - (2^{t} * delta)))))))"
      ]
     },
     "execution_count": 2,
     "metadata": {},
     "output_type": "execute_result"
    }
   ],
   "source": [
    "%proving fail_ineq_lemma"
   ]
  },
  {
   "cell_type": "code",
   "execution_count": 3,
   "metadata": {},
   "outputs": [
    {
     "data": {
      "text/html": [
       "<strong id=\"defaults.assumptions\">defaults.assumptions:</strong> <a class=\"ProveItLink\" href=\"../../../__pv_it/_proof_fail_ineq_lemma/7607a9ef4198901d6bfdddb3825832e4d756b17c0/expr.ipynb\"><img src=\"data:image/png;base64,iVBORw0KGgoAAAANSUhEUgAAALkAAAAcBAMAAADPUgMyAAAAMFBMVEX///8iIiJERESYmJiqqqoQ\n",
       "EBB2dnbc3NyIiIhmZmbu7u4yMjJUVFS6urrMzMwAAADZVrDbAAAAAXRSTlMAQObYZgAAAjxJREFU\n",
       "SMdjYKAMPGKgPuB+AGW8nEhI6VvSTV8PZ13EqYYDTPIdIN10RyJM5wWby70Aq6SlAW7DK6Xn4TWd\n",
       "bwbIzGQQcwZWA1Yn4HP7FgJu540DEoxAK9h/YZW3x2Xwykl6DAzfcZsOlmeYDQr4CQwMbBOwGpII\n",
       "IlwxA43rAEP+Bb4ABl4lINDCNB0sD9HO/oGBgdUBl+lcx85jms65gIE1gOPAclxuB8tDHSfCwFCP\n",
       "bAKzoqA0ktvtMU1nFWDg+c7ZkICZepDkodonMTCYIse1xgKUkMFiOvcvBp5/fCdgualS/gQWeaj2\n",
       "Vkj4MxiF6oITygIGQqaD0sIv/JkBJJ8KYtxfwKAECiw7hssg7nGEktO4Tb+fgN90kDw4yb1/wLAH\n",
       "SN2DiivAVbDE4TZdhkBGBslzg1Ji/QUGSSC1ZBE4WfJF7wYCMEuxAKfpnFiS8GqQxt37kOQPNgBL\n",
       "owsMO4HMVRA17AqomQ276Z0EnA6W5z4AcbsOMGHDUkAAQs0hXKazTGAox2c4RB4S7gUgY1iApheg\n",
       "FTk408wzBoZ2fKZD5GFpBpgo2fcxLAbnWEYHVNP7QaZz/QYV6BugDHaxtDkCeAyHyoO1m4ItYLgd\n",
       "qAcpJA7dQjZ9TvxOA2gaYDwASwz////HZzpUHpZXWS8gl5xJKCUB+QCsfQcwAWHPG6mUm84FzLN8\n",
       "AaSV78QBUPnCDArNI9jDL4ESw3ljQXEFSuirsSvwNCDfcEi9agZN/jQB0JzvSxvTORcw0BgAAJFt\n",
       "m+m0pawYAAAAAElFTkSuQmCC\n",
       "\" style=\"display:inline;vertical-align:middle;\" /></a><br>"
      ],
      "text/plain": [
       "defaults.assumptions: (eps in {1...2^{t - 1} - 2})"
      ]
     },
     "execution_count": 3,
     "metadata": {},
     "output_type": "execute_result"
    }
   ],
   "source": [
    "defaults.assumptions = fail_ineq_lemma.conditions"
   ]
  },
  {
   "cell_type": "code",
   "execution_count": 4,
   "metadata": {},
   "outputs": [
    {
     "data": {
      "text/html": [
       "<span style=\"font-size:20px;\"> <a class=\"ProveItLink\" href=\"../fail_sum/thm_proof.ipynb\" style=\"text-decoration: none\">&nbsp;&#x22A2;&nbsp;&nbsp;</a><a class=\"ProveItLink\" href=\"../../../__pv_it/theorems/cdb0c2ad3f86a7478489a7f15240096bcba88b080/expr.ipynb\"><img src=\"data:image/png;base64,iVBORw0KGgoAAAANSUhEUgAAAmYAAABMBAMAAAA1qmbAAAAAMFBMVEX///8QEBCIiIhmZma6urrM\n",
       "zMxUVFQiIiJERETc3Nzu7u6qqqp2dnaYmJgyMjIAAAAcRTyBAAAAAXRSTlMAQObYZgAADG1JREFU\n",
       "eNq1XHuMG0cZHz/Wj/XrKkCQqOKsq1BLBJzVA0JfOQOiD9T2nFStIlRxJqIoVFXuSCMFSkScpEjX\n",
       "oHJGlZoICbJRpZQmCrGoREERiZMzCoSUM0QQkIjO5dFIVL1zXpfcK2Z27d2d/WZ3Zzwevj/ufre+\n",
       "+fmb3858M9/M7CIk0UIFoWKfoYCwvSrRPYsrXoRAon1KqFSwAYG4Rary3LO5nqOANFMWhIqNliEQ\n",
       "N/WD8tyzuQ7mIZBm0apQsR0UsA2oqDDJ/qR15d6zXFyp1RBIszNCpZLjEBCfOQQroQTzPqeLPO6Z\n",
       "oerp1Xxc71JAksVXhIodqENg2zdJyYawpvew2MLXedz7swle4OMaKUAgyWJ9QsV2UcCWyexNEaMK\n",
       "WLNDTLpZlntTe7Tk83UezWyudAMCSTZaFxo4ViAgRi7zrsZMzdLMYWKk4u9eshxpoHGudmZzhZcg\n",
       "kGS7emudLs00ilDi0vOkZkHmfUmP+7sXLSsLagOpQ0ND97E0s7kuUUBOOFsWC2dVCGzbh9BxY6y0\n",
       "NEswZ5Wpa/7uRfPxa4kcX9+0uWbyEMhJAsRmZ8NlCGx7GKGBc46+GS4xZ1U3We4lFuN3d75rw9UK\n",
       "H9exEgRSLCMWHm9RQJdnAtte9CBCdwwgtGX2ndnZuqGZwv6SyTLDvWiW2zmLK7YAgRQ7mRUplbgC\n",
       "AWEbkVp3jgHhoqgf9uUpgTr5uiluY0KZT2QBAsJeR0oWfdnULIE1S7FTjcy4v3upXBd9x+K6QQEZ\n",
       "dlmsR/dBQI6bGrrwvUpHs/ja+SwKsUNwesHfvUfRl7i9s7nmyhBIsMRVsR6dg4Bc8aiQ8zOjEhzL\n",
       "JFd83VPeO76Xf8nF4hrMQiBj2BSb7Q1XICCtBDX7Dcck+Zave4FWq8k/4ba4RhsQyFjUWBQqtlOD\n",
       "gLTHzMmVOfjzxKKWRPcsrkwTAgl2TCjbVC9D4OxRIHgENQ7OuYI092yu9HUIJNiI0GQvfBOC3m24\n",
       "Ls09myu0AoEEm66KlEouQ9C7DRaluWdzBechkGCTFaEMfQkCCS1+XJp7Nlf4BgQSrF9oNS5wHQJx\n",
       "S37u3nboavbuHsWltiCQYC1NpFRmEQJyRtkijD0t+j3a4klFuMfFSnNZBGIVdV1qEZP/QBMCctRs\n",
       "dRrfG499rcUe977T2bgKXPN1j4uV5urPQ9CzhcVSp5E+CByjlh07LrDj3TZ0wKhOesXfPR5Wmmuu\n",
       "DkHPlrolVGymAYFjItqyh8B1PImY0W0iy/7u8bFCrrEqBL0HYLH51XQJAkfq0rKbDH1wQNHgH1vb\n",
       "/znv754r61dYXMNFCHpPN32mLT9p//q1W+/z92SmZScCVJdI5sEfyZzn7XO458ZaY3GRd9foExd7\n",
       "1izWcSo1dvMbW+515kedb4u4rKJMFiFwsrbGfZo21Ox8B97yds+Ttcbimm7Y4A/67//2rFnaXGvR\n",
       "15B3OYZjc39NJULWnZ0+MWcm3XOu2bfaf5Vfs3A1bLAGb/i458VaY3ENjttgvz4Sl3rXzAyWo1W4\n",
       "vHzeBKctp8+Y/zBXhQCMq60Kt2ZfPf4r416lbM1+QbnnxVpjcc2M2yCNP0tWetYsajo1iGsyWHXO\n",
       "dTp20JwsrbVi084qBECX1mpuzfpb7UlY6jKtWXSZwVpjcc302SB19vDhfRKWz8wVzUl9OCZrE7eC\n",
       "R7p9Ob7FvkU7sxDAxZhb/PHMmrS6aHaFwVpjcZ1sEuDmxMSO3jULmOM39ibuCBdBPVL97bYXzbFI\n",
       "+SFR1/46BMAOtqp+miUHPs2lWWCFwaprdvqOPKdmzyD0Eq8yEY2lmYI7wVvVpx4wZtnoEA6UMaxG\n",
       "6C/6kmvKGAQmyIkWU7NE65qPZvFt6GD5iDrmqGeYrRnNijXbl1dXqZVDTXeukSYBvugY0HCt3zaO\n",
       "epEZvnmOVDmlkZc3EGEws2QuL52bWoNe+IKOH0RhzB/F/9Xe6UkYvfTONWTqXIGAmsFd1rw1i1ZR\n",
       "LLcGPQQ00yjNMksM1ppxZHBPUAuPu3ONLBIgCg6O/EhrH/UiMvyUGWyimiPxJ46XRr7fmfvo1Kq1\n",
       "goJBAHtw5Gd6t1Taly+ctYttLkBA509Vb82GNRRqVPVdXqKe8Yn27z/Ozn5rdvZdh3uerDUUwp6v\n",
       "S+oBxIULof0lAiTrUfP6kSncp06g9pY1keGfeYDSzEj8T9DtzNhFVdtjzBuWZofbzbQj5Yl7umhn\n",
       "8Rs+ffMj+OftGnrZoZnC0c4o1hoKYC1OndVDiSvX6CIB4o2nzET2Bz/WKM30DN8S1dbMSPxJzToB\n",
       "Y1RvUE8sZx89X1cnDc1w31TbjchiffwZS7M6BFR2vcpbMxUHzyRWY4Gt2QqDtYaO4ZY3XUGZModm\n",
       "6KWv6/d+ew5HNqMVODXTM/yfI/Ta0NBQhdDMSPxP0GOAPj3TpRpA/0bHDM3wjUsUjNPEKStubnyR\n",
       "dwzwOY2Jq4a/NNmHlL5uxwCatYYy2INTCK1HHGMAelM/11VBhXbqSWu2Fb2ZotqZkfifoOdnc1pb\n",
       "M2Xgnx3NcICI/wcdxX0vZMeQVwuc8zNlyW9+9lmE/tEsBEtMzcD8jGbF8ayIUtMKuotLswx2N/iJ\n",
       "qrnh+hzQDNf5lY93vmrwPvIyHuehZutam9qa/U7b1NFM53r8w3oMTtNNhqnZwayfZsm3L6L7s7Fs\n",
       "t5rRrHjcPHexHjqNdnNplsJNI3h3FinfnpjYjTbmgGbnwYpn+2iYcVnZgVwTOizVAtqdb2tm506v\n",
       "u0zzGfkm+hdHjh540lnPy6x804XVygM+VHDnoleUj+o/im7tzMzw4WKxfploZzHHwkFTvY62Zjua\n",
       "0Tk6sRaUgwCs4ZQ4NMsEHZoR+eZhV/fcWC3Nmll3LjLfbNsGFNbQb614hmef8b1ov4Z/mBk+MOMy\n",
       "Ec8cTh2aL/x14KdrxnKH9GWrmGMtSL20XbcCn2Zn7O+ueGoWqjk0c1sLcmrmwmppdn/enYtcC+ro\n",
       "uf09TFzpaKYf9VJWofVl/MPM8IEZlwnNIt7rtOaaY8xlzXGsCIHXlCBV4c3R3dYcHe65sdZYXOSa\n",
       "I2l34XhGCsEy4l9DN5lr2393y4xKEHhNCT5PfRgsuP/h5orjmhvrx1hcvp6KaRYU20MZLEHgmK3b\n",
       "U4LX+I8ERlz+lXSvG1abaywHATkO8x9+JPLNhNhe3ckGBA5XzME0/ssW/9mEmMteHeleN6w212QV\n",
       "AvLmfpLXuaeJEKOI7QmP9kHgmInMGnYJB0+/zRS4zO4yDSbd64bV5pqrQNCzCR79sM6QuB1MCXV3\n",
       "XsPKk677utcVq81lHZLpl/doXUvoPHNmAYLe7diiNPdsLtVM1lV5Z1zQzrxIqeg1CHq30aY092wu\n",
       "pQWBBBsTOvoRWYGgd3M9+iHmns1lHfgQPJjiPmvIiZQKXoWgd5vOSXPP5kpehUBGj2iIlLIO4Cvy\n",
       "bp/rMVDBY/0W1//jEKvoufkWBbztWc7Iqnm6p+9QUbaRh8t6vkDwQQP3mYzYwOd8joiq09Qeze0l\n",
       "BYrPcof7kwYd9x6iP3liLQ+X9XyB4IMG7iszYkF8uu4AoE7Gw+P0SwrIfTF6yj/v4x54DrHooSPN\n",
       "dbIIgQQLi52bHyk6AKiT/vA4eEmB9QoEz6F4yce9l51XSwzNbK6xCgQyrF+oVKDpAKBO+sPj4CUF\n",
       "MZZmgaaPe1YA0feM2JrZXP29VdPDhoVyitB1B6CCYmIRvKSAqdmBord7Sh/arK/N1409I7ZmFld8\n",
       "HgIpNlIV6tLLJMB1iuh1sptbNAteUsDUbLDi7V7QHDv0PSMOzSyu4BIEUiwgNqDcRoIgNR5OIfCS\n",
       "AqZm7/i4FzNzcn3PKDI7+9HZ9301s7jSfRBIsaBYxjiYJ4BVJ/Sw3tw06uFx4hUIHub1mg/DvcCT\n",
       "mAFb/SjXGGBz+b0FpBcT6+mZIgFwnSJ6nd43P6UfHme1s9Cij3v6DlW7zep7Rh3N3uLgGtYgkJTn\n",
       "CdElFwlg1cmciNEPj1uvQPBavSn6uBcyt0qMPaO2Zq/s3MTkUuchkLVuJdRs1WUChGogCNEPj1uv\n",
       "QPDq6+Uu3Csx4obJFVyAQFZAE8vEBjUIfC3G+PwD3bhX4uQK5CCQZbeLjbdVCHrRLLXYjXtlTq4Z\n",
       "DQJZdlKIMLEIga/FGQEiK889i0u9AoE0i5SEim2mQA+2RaJ7FlekAYE8+65QqWgFgh5WChbkuWdz\n",
       "jZQhkGfrhTqnshoCcYvm5blnc22jgMT1ILHb8AgFhO2IRPcsLrXiBP8DOanJ1zGrihAAAAAASUVO\n",
       "RK5CYII=\n",
       "\" style=\"display:inline;vertical-align:middle;\" /></a></span>"
      ],
      "text/plain": [
       "|- forall_{eps in {1...2^{t - 1} - 2}} (Pfail(eps) <= ((Sum_{l=-2^{t - 1} + 1}^{-(eps + 1)} |alpha_{l}|^{2}) + (Sum_{l=eps + 1}^{2^{t - 1}} |alpha_{l}|^{2})))"
      ]
     },
     "execution_count": 4,
     "metadata": {},
     "output_type": "execute_result"
    }
   ],
   "source": [
    "fail_sum"
   ]
  },
  {
   "cell_type": "code",
   "execution_count": 5,
   "metadata": {},
   "outputs": [
    {
     "data": {
      "text/html": [
       "<strong id=\"fail_sum_inst\">fail_sum_inst:</strong> <span style=\"font-size:20px;\"><a class=\"ProveItLink\" href=\"../../../__pv_it/theorems/e43ddd3286788e9f0d072354a6e39dc9d2c56cf30/expr.ipynb\"><img src=\"data:image/png;base64,iVBORw0KGgoAAAANSUhEUgAAAKoAAAAZBAMAAABTBqhqAAAAMFBMVEX///92dnZUVFSIiIgiIiIy\n",
       "MjLc3Nyqqqru7u7MzMxmZma6uroQEBBERESYmJgAAAB0ptS+AAAAAXRSTlMAQObYZgAAAbJJREFU\n",
       "SMdjYCAfcF5goB6IhBm6yoF6hnJ8gLG4qWgquwOZpvKtwy3HtiRqAl5TZ1ng8GMgPitZCwi4dc8E\n",
       "7E79gCtIV92dwMCfgNNUsDwDVwBWzYwg1ewnMCWaGBh/M8xhYNh7FwgaME0Fy0O0Yze1SegHpsQK\n",
       "BoYzDEYcCbjcCpZHM/Wti0sAwq18WEw9wsCgn7CYETM1IMujmjrXAiUEsJka38CgP2GSJTw1fDLA\n",
       "Ig/VfufsBlBIRzAQNBUI/BvwJ0qgPOMBIL1uAvcDIMUEj1oGpgCcpnJ/xG8oSB6UhLihqYsXIVUz\n",
       "AaepLAr4TQXLRwF9XnELzJ8TCgTg2JrrxoDT1FVYEnEoGExAyDM5M3BAAyoXLXNgNZV5AX6nQuSD\n",
       "GBg6oQI8CDmmC7hMrWJgS8BnKlgeFK6VwCQCEuAyIJwGOAUYmPGZCpEHpYHUCRzPwULuqKYyg03t\n",
       "B4Y0x1cogyFFUEoFn1Mh8iDt3DG+kIBuut2AZCqXztd1sDh1gjHi////gs9UiDxqjt14BTnHkg9w\n",
       "lS4HaGEqzvKVOICjfGUIpMjUPRtwVHjrKDAUVG8BAOOcc6xuWJhQAAAAAElFTkSuQmCC\n",
       "\" style=\"display:inline;vertical-align:middle;\" /></a> <a class=\"ProveItLink\" href=\"../../../__pv_it/_proof_fail_ineq_lemma/87123fff584138b823420b945d299282d8b76df80/proof.ipynb\" style=\"text-decoration: none\">&nbsp;&#x22A2;&nbsp;&nbsp;</a><a class=\"ProveItLink\" href=\"../../../__pv_it/theorems/a4ac438aff55f11f3954e37fe94e762cdd2733a00/expr.ipynb\"><img src=\"data:image/png;base64,iVBORw0KGgoAAAANSUhEUgAAAbgAAABLCAMAAAA1ZWKCAAAAM1BMVEX///+wsLAiIiLc3Ny6urqI\n",
       "iIiqqqp2dnbMzMwQEBDu7u5mZmYyMjJERERUVFSYmJgAAAABOnEEAAAAAXRSTlMAQObYZgAACb5J\n",
       "REFUeNrNndeW4yAMQLM2zfT//9p1LxE2opgMD3POarLjK8kIIUo+n3ZNibikeettTYVeBStBLWlU\n",
       "xyU/aJbXU+hlsHzUkiZ8H5X8osmB1FIobH9ZDSwbtah1PC4JRYyY+YrB3CArKRQIZ4IPsh6Yy/9j\n",
       "2Y13cUnovz24zEw/WflLqG0dhWbTUuBfWRFMNx/meu+iklCcue1wQqnFcqo43hIvihXiyig5eVO5\n",
       "eo6DYFmoRc0McUnAO7DDHa8cWRwny19CrUsV4uPbY6e/ArthgeMCYLpxPidA9xKoDgffL/PtuI+u\n",
       "0OVYoUJdvyQrcrarVEtjpY6DYBmoP+hw2/vLdNepW8dRV97lukKFOjIFT/Jh6lMxVIbA0lHLRjge\n",
       "lYT+2wLJ2Cl7hI5j5bHSeVKq0Mjh5adX9Nr/BfWK1QRLRi2rmYApj8JMgsjiJUo5fwiVxJTP5bwp\n",
       "VWjsWvSFSSYAS0Ytal7HJZsXtjZGGLL0JarobBOrxzZMP9zZcaLCeG0SawEBfK5eGWMAmGlYtmCe\n",
       "RiX3MzXpnpMTYt8gTP24U3/KdHWaBS+JRb02sluGick7EjiOrY5zNSp4vitTiIwQ5I05FgTz7dIT\n",
       "P8Ql4axydpfrOs2+e1yvOm/nd0/VGK11UgAC+EIzxswb9SgIppvFSuZVVBJulD3M43ZFajDSlAAE\n",
       "8Qc/tTeMB8Fos1ipwKRRYaeRJi5hrgaj8LpEoTdLF7oEtah1XkYldxMC4JXvMCErJQUp/QWN/w7Y\n",
       "O107NBcZopL7qBSL57SSDTW+fJuA/wqYblRpJmDKSJpOIrHhz+Ur1BYsAbWocVAe4p7/OcdRb/MV\n",
       "aguWgFo4+WdRyQ/auoJ2dKMuX6G2YKTRTG4AIXnwv9/dta+g7QOXz1eoLZhslJ14kIN5ZFam/U2r\n",
       "MJHZVtCSoW4+WY0VAeabZLU9eD967BvDRr0vL7fsibPjZLdCVretoJ36EclVqCorAmxosrRDADpB\n",
       "K6N8KJy7rtIgw85vrsbmajf4NVkjYLpJWunARN/hp/6dD2ZQCvMHhIz94rKCZrG54h0+mrUYzKal\n",
       "tb1LmhkfybOJSh4KPj74dmE2f3MS+cV1BU1hk+w7fDRrMdgucdZ7Y63V6mHQk1+4Fum5h+eiXm8f\n",
       "LIa7csd9raChX6dbfCxrMdhJsvZ+87BT9nszlbwJV7QTX7MeC+ZBCRNI43NnLRH7fK+gcWwAv8dH\n",
       "shaDHRKxBs2H1VW4wssDn5Uc7LzQYA1E+4TCsBwTM/WC48AKGg0ZndFQ4q/KWIvBDgld80t6P+p1\n",
       "PcQEo6DqXEBPHpU8J3E+L4l8tg9YQXN4x/Ey1mKwQ2L8lq7c/c0+oJW+fri3mgWTLR6VRJIBn3XW\n",
       "IZoDfFtjwDnuCR/FWgx2SNaY2d93dLr9xplhMAQmP8JocpMl06gkWkDRBY7jlF53N4Ttw0Lz6rDj\n",
       "aBnr+nzAhQbbJesQxzr+EfY4teC6aWf+ksCYVaqc2Jc33QnRGHFb2XNRSXyY47mO66dKhBz6j2Sj\n",
       "Mr6C4x7xMazz8wNc6Y6j3nLO1bQm2Umys8773sjymW6JgpeNTKw755J3K5rljpvLSSTTccspNqPm\n",
       "FddlR1/YPqSK4zCs8/MDXGiwXWL2CosE8KtkPQspmTTqmHFeizs86Do4XKcnGypnmJvNoBbVlJ5P\n",
       "2i3B/dY+50fwaeOt7ub9t9dTaRH8OOv0/BAXDuwsOdKWS6Yoe+g4eSkVfL1sOnRWDdbHM6r7XUaw\n",
       "XHK0JdLzYX6rloAfts+/UM091ONi+FHW6fkhLjTYJhF7TiKUH2dnhLtpoJNzrinPoVJeBjICMk2i\n",
       "4cEoWAfy6TXSPmMWPplBrjbkSy9ZChth+wi841wZ6/j8IBcabJPQIyjPbpp26muy/mN13PJOsMUt\n",
       "a79ygfxJGEOqj3HT4ec+y3Gf9VF8jiRiSBpKssY4BOv0/BBX8hinD48ubhKUanp13BKFey2mvfxr\n",
       "jFfBiNB/dbry6UDmCdpljJuHJ8f9dE6LmhqOi+DHWecxLsCV6Dg1Tj0sPTuOG/mxX45bwyLRQ7cn\n",
       "/hplzQqOE1mlk8UMnDvnppdsfKah7zsOwTo/P8CVnlV+5ZBTxDWUXBwXKnnhhp3SkteUMWVtVYBm\n",
       "GIR4sg+ycvKIj2EFz1+50GAB1MlNcurr3TjQXRyHKzIHmgHlGJNYNda1isz+QxNLXlJiFEpkBc9f\n",
       "uTJKXjun9eMI5SylvabjP9QsWXmflnWk7o4m6jrOZG4/hWZQa/QM2odiE9cnfBQreL7aimBIMJqU\n",
       "Y38vpBpknmfB8pVN2tDJg6ffWY7jHn+BXo97wMexFoPxtNrtdeuCw+bnCizgqpQt3OHk2iEcR0XS\n",
       "LxR+BdyUsRaDqSZ74Cl4Ck14bji5Ji+curDYAH6L/xIrBLNeNXAcA/2a4Xt6H0qupXoD3GBz3Tv8\n",
       "t1ghmGlyeEHAc7fofZVyAIQ9s99bT+s0jZ0s3uC/xgrBdJOzFyV737XX59YN67buNw49oE8E3OC/\n",
       "xvqzsxdwz5pHHj9XL54dCLhDZiv0JisEk23ODnw6sLDY+V/cdBoLgD5fobZgotFpHQuq6bbRkcqU\n",
       "lrAvvi1+0Rb+wvmAikp+3zieqS0+BOONnv/LCx9Skm6Wr1BbsGYHel+68MFWHaFTrsA44W8btBDu\n",
       "NrXAmt3W8XirUUzz7UQ09nrxTPskXYFxVojg0v39CulysHa3dXAwmJ8lz5rvJ6Jx14tn24elFL7P\n",
       "+JHbDm2qh+NgzLe6Cp2AJ50lz5pvJ6Ij14sX28emjBtnfPOcYZr6YLbdnRWDf5A8a76fiH6+XrzY\n",
       "PoPP/HRgMv58hXRN273dFCjRnCTxKsp0IjpyvXipffq08HPgLxu07H6vrYteIV0K1vt2XxpBQDX7\n",
       "kMyaXxSHXWsc3iLXi5fah6aFnwOfwlwocoV0KRhtebvPMNxKaDQLnAfByPXipfbRQ6ZCBpYiI1dI\n",
       "l4LpljfAUVDd2yVQ88t92vHLjmvYp09d4Nrxlw1adl8UcNErpAvB+rb3oMG4vElmzc+Kf7sRddlx\n",
       "oX1U8pR2w982aJ1DwefxCulCMOWbfqEVB4/bJFDzqxlwlx2X2Uemj/cbvoIbfCJXSJeBSd/2+6wk\n",
       "6OCbRHHynA2jLjsusw9Nv55aIiNW2a4eCEZbf1kiBV2O1uzzZfYZVA2FmoANzddV4I6Mgf8Rx7ms\n",
       "VwiH39cFc775VzYy8EhWEaLEPjJvdwF73YYQTDb8lo8jbTdxyU+a1bUUeh3M/mQds2NxyQ8ayR7u\n",
       "X8aHYOQ3X+MswAKa+MGX7ELzk3oKvQzW/WiPFenjkuZNspoKvQp2kfwHEKh66ohsEMsAAAAASUVO\n",
       "RK5CYII=\n",
       "\" style=\"display:inline;vertical-align:middle;\" /></a></span><br>"
      ],
      "text/plain": [
       "fail_sum_inst: {eps in {1...2^{t - 1} - 2}} |- Pfail(eps) <= ((Sum_{l=-2^{t - 1} + 1}^{-(eps + 1)} |alpha_{l}|^{2}) + (Sum_{l=eps + 1}^{2^{t - 1}} |alpha_{l}|^{2}))"
      ]
     },
     "execution_count": 5,
     "metadata": {},
     "output_type": "execute_result"
    }
   ],
   "source": [
    "fail_sum_inst = fail_sum.instantiate()"
   ]
  },
  {
   "cell_type": "code",
   "execution_count": 6,
   "metadata": {},
   "outputs": [
    {
     "data": {
      "text/html": [
       "<span style=\"font-size:20px;\"> <a class=\"ProveItLink\" href=\"../alpha_l_sqrd_ineq/thm_proof.ipynb\" style=\"text-decoration: none\">&nbsp;&#x22A2;&nbsp;&nbsp;</a><a class=\"ProveItLink\" href=\"../../../__pv_it/theorems/9f743f92f8370e4a37572464aececf142e1b21290/expr.ipynb\"><img src=\"data:image/png;base64,iVBORw0KGgoAAAANSUhEUgAAAcUAAAA/BAMAAABjkc58AAAAMFBMVEX///8QEBCIiIhmZma6urrM\n",
       "zMxUVFQiIiJERETc3Nzu7u6qqqp2dnaYmJgyMjIAAAAcRTyBAAAAAXRSTlMAQObYZgAABqBJREFU\n",
       "aN7dm22IVFUYgN+5O3dm7p17Z6yIWksciyJIcHF+KH3oUET+CByDNCJyoyTohztsXxjKDkkxGrFT\n",
       "gfpHuhoZSLQbJiQGjrsSpMIO+aP6YTtiH+DC7pa75m7qdM79mPvej3HvbnPfgQ6c3fHdc8+5z5z3\n",
       "vF/3CkDcfiBcK9oF7WjJAuVq77SF8cM85WoHcu1g7CVdLdrZBkSlRrvemjYwfkKsPAOD9Iwlar1Z\n",
       "RG9VZ4gXlP8iZ0wVqVcc0ahX3FxtmUYsDmgAqtSMPa2a6NB3swE1p0Z9Oq60bCo1IKNAbQHUKXJG\n",
       "+RoxY2KSnBEuEDOmi/SMI3laxvUVP+nwTi1ExvUZYmflF8kp5VgtRMYBYpc84bdh8bI4EyJjnDia\n",
       "+9v3JnLSVIiMMVrnIV1tErPMhsgoXKeNyC/rv0Sssc/xnVyAWRCCMqq0DlIwkgAFW55T3LDOf6qO\n",
       "F288GrAUwGIr3aadJ2Hs+MeXUQ21eibdADjDP1wiYYxN+TI+BU/YW/1Gy1f9E2AfZ6XxIakZP0Zx\n",
       "7Phu619fhFDSWsoWZhZAoal6RGb9GCP1uhXGfrwjhFWXaqCePnx4L1G4Oulvc6y2ZyyMVfvKAFdL\n",
       "pe3kjEP35jyMz/4KYTFuAdg198hXWzDCZtybkzvlwUOTmDHxbkgBJEs8Hge5BnKjCvF8FecDeyyp\n",
       "XT4Ri9BshPggmptNtHy5Q2QzMsXZKWjRAmYUerVQGPsZYxwEhvWk5U4WO/KBxlOmtxuI2ULzETE7\n",
       "eWITqZVkNxYNLDIZO5jxWaOA0uXQVXW7BZmut6QZX2k/OxVKNW7EGvK32SokazgfUF6rYsaYHjgU\n",
       "mo+wr+Yf4zmYxaIGY4SpwsnTkKg6bU7yYjmMfWSMUm0j+/QBwE/HDuO71POBgmMfEy5Gzwgn40Ae\n",
       "7nIwWro6wPZ2ZBDSZScjRH9vWdKurH4IMcKul9mPGfOBJLollg/wk5rNZh/2Z/SOcDJuLsMOLGqc\n",
       "xzTbwJMAG1y+gx2EUq5FjN/DVmRz4Ai7aXERpMDNGM8ku6o32UfvCBejBr2+jB3doI6I8ICHEaQt\n",
       "LWLcxr9hmzHNUhuhCJ8aMSUquQyDtNIc+PTlQT9G9wjZft7HJmKr3IpFtl09e77aMaQ/5T0Vki9+\n",
       "vfGIrI8zqsycJTKwqVQqZcSdTLCOfSppnnxg6/iF8fEqZvRmDJsq5tV8InYep3RRk1ju9nx4jAAn\n",
       "NDsGMJZ/xjCaeB9xPmC6adc+ekY491G3q0gUdzFOZsJk7LVjclONBFDyzvOI8wHMmCyAtBv2adJu\n",
       "7wjneRS6mH9EosS0k/GRHGb88i3e5p1b/dbMsFo6Vm+kr2yt9513ifIBzCitupIRO2FDWez0jnAy\n",
       "wvJhh6hJjjx3299cJuM7eOwoHGO/eIdzlmo5CmUCO48Ou+ppiTkrNjXPRyQyy0cCdoL3NZlJREdd\n",
       "LoLQ5/KcTCZnS3nHuzDq1/35GDt9vEcrUeMK8erN7rLljMl5lI/i3Si3Zvc86s63y3AIlClp1UUb\n",
       "PgYyj731/sLxbzRcKGtiNXxqI3NWMyqeiZBInMejuWWIkavdatffmYwFMrdACqX3CnfVQ0ZfWq83\n",
       "rz1+9B8evIpnPBM5RDeCV5p+6cb+HJijdft4uAOgp5xGIW6U11IOmL1hBKZJa4/QFzzcTNmMEjty\n",
       "kutOuWxCg578Biz9gytxzugNpZ6kZVwbOOT+GTEKzPyorjsVDJPUp90v2xt5cEXF8BkKMljpAi3j\n",
       "iaDnQM4gRp6CxVyVw4Q+U/QarFTsk3KJP8NVa0a32mbidx8HuoOqKhiMummMM7MSybjM7qBpfDfq\n",
       "zkfmPw7k1WnjxUrsUFYQv2kVD6o3Rw1GWTdSEXa69CRCHtdb3pQBZBtfXk03vSJjFCeNbrUeWkRQ\n",
       "Aj4nkyvmPr5pMS5zl2pz9qG0vOkSEGe9jHcSM0oB3+xKvpRde1sG6+V7so+uHgEJeQ55GtSCkTKg\n",
       "tCF6nZhRN+7BWsRpc64rXpsjVkDABaBpXeqyObFZasbRwM4jUnRkEFMHvVnF3rPDr2DZEKzjPr9i\n",
       "dMt1kL9Snq4EPbn9Vxp+hmveOdeFXDZRrztyCuUezpPKG33e32rLjM7ihVy1LaBMb5+b3WzjQN7u\n",
       "XshF5wLKTI01urnf0/SMo9oCLkqUg8l062rmVla02ob/4ZGqLOAiuRhMZrEj/q80ekZxQW/L7A8o\n",
       "48G82c22BNrQfiRdLdbdDsZY1//3G220McK1pM72MH5GyWgYn38BYnw7HFD+xwkAAAAASUVORK5C\n",
       "YII=\n",
       "\" style=\"display:inline;vertical-align:middle;\" /></a></span>"
      ],
      "text/plain": [
       "|- forall_{l in {-2^{t - 1} + 1...2^{t - 1}} - {0}} (|alpha_{l}|^{2} <= (1 / (4 * (l - (2^{t} * delta))^{2})))"
      ]
     },
     "execution_count": 6,
     "metadata": {},
     "output_type": "execute_result"
    }
   ],
   "source": [
    "alpha_l_sqrd_ineq"
   ]
  },
  {
   "cell_type": "code",
   "execution_count": 7,
   "metadata": {},
   "outputs": [
    {
     "data": {
      "text/html": [
       "<span style=\"font-size:20px;\"> <a class=\"ProveItLink\" href=\"../pos_domain_in_full_domain_sans_zero/thm_proof.ipynb\" style=\"text-decoration: none\">&nbsp;&#x22A2;&nbsp;&nbsp;</a><a class=\"ProveItLink\" href=\"../../../__pv_it/theorems/1bcb691c3582f8bbfd8c69bc8bbf5499ad9a67f00/expr.ipynb\"><img src=\"data:image/png;base64,iVBORw0KGgoAAAANSUhEUgAAAj8AAAAcBAMAAAB8JcO1AAAAMFBMVEX///8QEBCIiIhmZma6urrM\n",
       "zMxUVFQiIiJERETc3Nzu7u6qqqp2dnaYmJgyMjIAAAAcRTyBAAAAAXRSTlMAQObYZgAABedJREFU\n",
       "WMPtmG9sFEUUwF/vbu+6e384EghBEzliJGo0XnoRGrTmiDH6Qe0WSMOHxp4EA9HGVlBPlEijAkf9\n",
       "coZE0A+yxMRgCbBaE01IykGjBgVsJRo/YGxsqFGaowmI9mI4Z+Zm9mZ35q57vZb6wZf0dW/evN3Z\n",
       "3755b2YA/gOi9M7QccNNc5oXucT4JHpq8ovo9GLdqjl2mk1ZX7OHNsmufBUBKUlJ43Hr6lH3T6vR\n",
       "yWOp2ZolKaTCLbW4BHt4QEqTIenTjtWFYXvj5zMBZHdad7fYg42e2HwppmZJIuj1tIlaPNRVYzof\n",
       "Qb7Fkk5/oL9jOXvbvtfvrx2Q02mNLgS0NXpiOwdUjeKLn+sG1IQ/waTr2ZXI6BAx7VPsIbGfN4bU\n",
       "L1zDh827AC7XGEEyJ++oEEB49Kcv6tQWMKj6ln2oukQtIBWSp5JPxLnzEYSuwYKsHdDX7OeP6XT6\n",
       "JXJ10ODbEdgUfJeEqSqAgreIX0PmJI4Vt0RMbTu1eeJUHcCv11svoFBceOindHhd3SKg1QALoQ3g\n",
       "sQwSwwHogzNWvyGwA/Ia0BBVouDDfn0coGCMkv+qIIahzEkOaATgPLWpk1Th5BEy6wXUYFYChKaI\n",
       "CGgJQHd2hZaVRtDv5X63OgA19IB/ypP6WIggBgjCIiCpkxzQboCTBrW9RlX4m/7+/XWnIDIX3AO6\n",
       "YkC33hSy1zMKwmvaJy4PKFIA/5/eWE4oTdUASZ3kgK4DtJrU1szU35nMjroBjVgP/WnhW9MDQrLT\n",
       "aL/DqmfX8fudKv0KcHkz6gCEzQVlI6tA+3ZudAFI6hSKSgBpVxGgGLUtZ+oZgL1uOTxbyUAqkB9l\n",
       "f+8P8IQbQL5/hCZard7lsgcpNc/berXmpGuq6oBEJ7HiotGraFCdMWprNah6GDRbyVPO2TZHQ28a\n",
       "1pg7yiUi1Lwa1pYnQ4aUK/SRHnE1xdA3FddgkTj5d7jc0oiHEbSvj16GGQCSOI0JxVYHFUVQZ47a\n",
       "OnWqAuCxrVTfMfjNUSiLyH7Pfr1q9TqDP2yX9XMcbwJRhYQjh8lrns/nX8jnxysDSkjaNsccUyyC\n",
       "KCp7UCrX8kTwGiUuKaH5/G+35fOpioBkTv6twN+XjJ5OsZLtYJKq0LA1pCNDaLU9aNscBbLKVGjb\n",
       "sABoO3RmSdeSbGMr0H53EeSRDDlSCqpQrBxmcWGFfTvMIIJkTuPOBjx6lKRPmtR2PEmVOtrObv72\n",
       "+4YAKKlegx4xgl7EcAftAevvBU13B2gA1GyFHMSteUuTbgsPIg7v1QxI5iTJQb0kU6DRlmxWBMHe\n",
       "TUgNpuMoG2EZdGyvgwWUo7REIvEAD4gsGMqAdtM6EESAstMDUnLgEQCdYsvsTcyhMeWsYh0Ad9UM\n",
       "SOYkrWJsoUhsnVmmBpAlaIJe2pYJgAKxYFycYgBbgQO0hT5CvQRHTQeg+/D7ajdwwI7Si/1nhzYL\n",
       "72GB6NhDtxr+XgcgdcfZlT1VAXkIIOtB+ELqJF8HBUxtMbNZVQwWoJt77smBVsoLXQ5AQ6A20a+9\n",
       "9qpp21wcsqJgOXvEk0t2OabYymVjw7SQkNKFL64Ui39VBlTOVM51UKRYLFYF5H36Rgv/IHwhdZID\n",
       "0k6v0JltxFJhRMnTFAPllUzmDdgQtwMKO9Ip29FcwDPFWmG2VllJuxURkK8gb68SQa43j1WQOVbS\n",
       "RI5ilZJF0OPc0oYfe86ncxHUkBTmdX/9gGARn5uqnp8Y9QOK2m2/WopMHvAZ8KWVg9DmSO2DA4ba\n",
       "p1w+0Sd7wFMnvuCTtDdX03lQ5dU4Gl46bR13PAiO86BZkwrnQWWbVmCqZE2j4tpoUkB4c6Qshbas\n",
       "srShWJS+9rJikU/SCsE/Uc+QfYvEtjaSeHJzAGiNeNg9YbOFU0xxcifKQdxbTytc1+dIJmiZ+Yil\n",
       "Z9J+8skGhmedj+xMOsifSUNAZ6rKW9cA6NhczAPHLvGmykVLOeVQ1vVNumyr1bmQgfniQw5Z5Set\n",
       "6r1ub9LBH0R+NifjDCbnCZDXYOp/qS7/Ai6s1+o8P+mUAAAAAElFTkSuQmCC\n",
       "\" style=\"display:inline;vertical-align:middle;\" /></a></span>"
      ],
      "text/plain": [
       "|- forall_{eps in {1...2^{t - 1} - 2}} ({eps + 1...2^{t - 1}} subset_eq ({-2^{t - 1} + 1...2^{t - 1}} - {0}))"
      ]
     },
     "execution_count": 7,
     "metadata": {},
     "output_type": "execute_result"
    }
   ],
   "source": [
    "pos_domain_in_full_domain_sans_zero"
   ]
  },
  {
   "cell_type": "code",
   "execution_count": 8,
   "metadata": {},
   "outputs": [
    {
     "data": {
      "text/html": [
       "<span style=\"font-size:20px;\"><a class=\"ProveItLink\" href=\"../../../__pv_it/theorems/e43ddd3286788e9f0d072354a6e39dc9d2c56cf30/expr.ipynb\"><img src=\"data:image/png;base64,iVBORw0KGgoAAAANSUhEUgAAAKoAAAAZBAMAAABTBqhqAAAAMFBMVEX///92dnZUVFSIiIgiIiIy\n",
       "MjLc3Nyqqqru7u7MzMxmZma6uroQEBBERESYmJgAAAB0ptS+AAAAAXRSTlMAQObYZgAAAbJJREFU\n",
       "SMdjYCAfcF5goB6IhBm6yoF6hnJ8gLG4qWgquwOZpvKtwy3HtiRqAl5TZ1ng8GMgPitZCwi4dc8E\n",
       "7E79gCtIV92dwMCfgNNUsDwDVwBWzYwg1ewnMCWaGBh/M8xhYNh7FwgaME0Fy0O0Yze1SegHpsQK\n",
       "BoYzDEYcCbjcCpZHM/Wti0sAwq18WEw9wsCgn7CYETM1IMujmjrXAiUEsJka38CgP2GSJTw1fDLA\n",
       "Ig/VfufsBlBIRzAQNBUI/BvwJ0qgPOMBIL1uAvcDIMUEj1oGpgCcpnJ/xG8oSB6UhLihqYsXIVUz\n",
       "AaepLAr4TQXLRwF9XnELzJ8TCgTg2JrrxoDT1FVYEnEoGExAyDM5M3BAAyoXLXNgNZV5AX6nQuSD\n",
       "GBg6oQI8CDmmC7hMrWJgS8BnKlgeFK6VwCQCEuAyIJwGOAUYmPGZCpEHpYHUCRzPwULuqKYyg03t\n",
       "B4Y0x1cogyFFUEoFn1Mh8iDt3DG+kIBuut2AZCqXztd1sDh1gjHi////gs9UiDxqjt14BTnHkg9w\n",
       "lS4HaGEqzvKVOICjfGUIpMjUPRtwVHjrKDAUVG8BAOOcc6xuWJhQAAAAAElFTkSuQmCC\n",
       "\" style=\"display:inline;vertical-align:middle;\" /></a> <a class=\"ProveItLink\" href=\"../../../__pv_it/_proof_fail_ineq_lemma/f45c3da29c1c30d49ca2e04c776dd6f41181ee850/proof.ipynb\" style=\"text-decoration: none\">&nbsp;&#x22A2;&nbsp;&nbsp;</a><a class=\"ProveItLink\" href=\"../../../__pv_it/theorems/970b5a99c57a1466a4a13b8d55ac821e8d30641a0/expr.ipynb\"><img src=\"data:image/png;base64,iVBORw0KGgoAAAANSUhEUgAAAaIAAAAcBAMAAADRkqbtAAAAMFBMVEX///+IiIi6urrc3NxERETM\n",
       "zMwQEBCqqqpUVFQiIiJ2dnYyMjLu7u5mZmaYmJgAAABN0h6tAAAAAXRSTlMAQObYZgAABANJREFU\n",
       "WMPdWE1oE1EQniRuNybZGBHFg5UetCiCBvSgiLRIBQUPQYpIQQiChaKH1IPgoRDFH4qHVsSf+IMB\n",
       "sdiKWJBi7VJcsGi11aagYOkPHlR6EbWl1J9C3H15u9l9bzbdTagF5/CymXnfzH47782bXYDipbZI\n",
       "nFD9r0DOJBijF4dH3AG79Hsbb11gkEsZMq422s45gOhC3/Urr/ObcwuKFMPo1PyMhCSiFFuLYOQW\n",
       "tIGM4Qk3hHbdfG9mdHgNtjAV3q1vpDfmmhEDEoYVfs7Xj7mnSGwB7U+ox12OnlhzVBnjpwxjboOJ\n",
       "InLEgLxHuRkDaX0Csd3SnuV3x/7fvNsDMG1lJHXyT3aOcRsar4nBsqg7RiholJv2TcvM2nu6rVz7\n",
       "i/sXj/MxkvCoQoiDt0aV/ZSRAZ9MpVJXyFUgw7jth8AUHARYpwEVhBESDAe1c9PaybJ5FaW2Ko6R\n",
       "SKtF//05DiwpUBb3JJ9bcqTDd9415pUlGLdjAPWwOhTlctRoHwwHoYzCcQh0UtvShB0jCPNBylrB\n",
       "Py1F0paqp8Mf5+dVKQyjBoCW6HCAL2CN9sFwEMpoSRLEOWqTqt0wCs6Bf0Y4rZeCXXdO5+9cSuTn\n",
       "fQGG0TMFWmKHVhoF7GfEASMUhDJalgTvLLV54jT0p/rd8zPSksppA/GcwaQaBX573lEwd40FgyGg\n",
       "NozRUAa8P6jNq3ryq0tQ+gybHTHakmY1tKZtN6lqtMFvqYHe3+CeEQL6xmkuqqs8DcIPahNmAE6q\n",
       "q2i9o1WnynVe1UvGPpOmWxtOWs6ppckiGCGgYIatkuopVJUB4Te1+aag9rL6+7KPzAzI8tNjspy0\n",
       "DSJleJ3/Ervqbmt9ueZ2QNZEazbHEWcPZPmqLHfbM8JAzRGLX2Ff1Fh1xBaayh36gw5zVI7ounPb\n",
       "KcJkzdJLeDLgPkcYKMimTesU1MogzlKbmiPwV0Mo5oyRmIGtNvvI1BzBXpI68/tME/iirhlhIH4f\n",
       "nVWrdzVxkNtH06QoiSqjqANGdQArbGod9J9RTEGstU5Ig8c1IxTUVuCENWqdGtrXBW8TDCOPFiT0\n",
       "Rx+GVIjvRscHroEx7rxun94FrWIZ7eh42Fxw1ZFgJEY+IgrCu6Br8CJGbWF6Hm1q2MOsOun8nwm9\n",
       "tl2ndSeYzWbtGZlKPNszPMtmfxViRIOR2mZEREE4o9fLz8H8PYNTQRiVVdg3wHiOHEt7AQ25Ckby\n",
       "G4H210rpjKQ0sG5tZLB0Rm1W25Di6v0IE/p+FEiljLcJIQ4lu7WR0QJdBLFNakNPSTEqK3jdhdLd\n",
       "4uI9wp9QaYuNPFNxooQY6HeGgZLd2nyRwb4zNJm/M4TTC/MBTMzAIsm2hXJ8YrEYjcF/KH8BDGxZ\n",
       "Y+gDL4EAAAAASUVORK5CYII=\n",
       "\" style=\"display:inline;vertical-align:middle;\" /></a></span>"
      ],
      "text/plain": [
       "{eps in {1...2^{t - 1} - 2}} |- {eps + 1...2^{t - 1}} subset_eq ({-2^{t - 1} + 1...2^{t - 1}} - {0})"
      ]
     },
     "execution_count": 8,
     "metadata": {},
     "output_type": "execute_result"
    }
   ],
   "source": [
    "pos_domain_in_full_domain_sans_zero.instantiate()"
   ]
  },
  {
   "cell_type": "code",
   "execution_count": 9,
   "metadata": {},
   "outputs": [
    {
     "data": {
      "text/html": [
       "<span style=\"font-size:20px;\"> <a class=\"ProveItLink\" href=\"../neg_domain_in_full_domain_sans_zero/thm_proof.ipynb\" style=\"text-decoration: none\">&nbsp;&#x22A2;&nbsp;&nbsp;</a><a class=\"ProveItLink\" href=\"../../../__pv_it/theorems/246c40faec929908d142ddbe3fa4a414bb0b35b60/expr.ipynb\"><img src=\"data:image/png;base64,iVBORw0KGgoAAAANSUhEUgAAApkAAAAcBAMAAADYY7kjAAAAMFBMVEX///8QEBCIiIhmZma6urrM\n",
       "zMxUVFQiIiJERETc3Nzu7u6qqqp2dnaYmJgyMjIAAAAcRTyBAAAAAXRSTlMAQObYZgAABnJJREFU\n",
       "aN7tmWFsFEUUgF/vbnvdve1REghBEzliJGo0XtoIDVJzxBj8oXYLpOFH450EA2pjT1DOKhGiAkf9\n",
       "s4ZE0ERZYmKwhPakJpqQlINGCQrY2mj8gdpYqVGaowmI9mI4Z/Zm9mZ3Z7d3vWvvjy+5l715+3Zm\n",
       "vp2ZN28WYF5E2ANVl03z5jRHcoXCbIpXqwlBhVxsWDXHTpWUjZwyaYpe+eaDphDhFPYbV+uKf1KJ\n",
       "Th5DVaonMaTqW8yFgfgc0RQaNU5pO1ajw+bCz2dD0+y04V77HbSrus0Xo6pSEwp1T5o0l4mrxpXZ\n",
       "0/zAoTyg4uct5lj+RL++tLns4OsPlk7T6rRWsc06o6u67SIQNYYvfiqbZiN+X1NMdU1JBYKp2Y9N\n",
       "yTFuPYvVw/ZybwipX5iCj5r3AlwtcWzynLxjtqGJu3r2skJsfo2ob+hbLUvELFIyg+xjkG/AAtWZ\n",
       "ZuC2GQa7yiv9FLW4D1+coyU/JBKJl/WrIxpbjt5HDL6NwLQLTU4buE6yrfW4JJiSuonNEybqMGZR\n",
       "9v5FDlsqXQ2wENoAHksi0RiaJwntr7LuTxxl/xAnqbMLEZNDDLUPzxs3DYGZpleDmgahAXy4CT0M\n",
       "zUDIuQ1cJz7NEYBLxCZOEYUXPDlVLs2alKXSJQBd6gpJtY3Nk3SuzECzm0MTTWS8PDcw1P4o3HS7\n",
       "hWZNHGqnPbFPbGOT0uS1gevEp7kP4LRGbK8RVf91b++hspdNfZaxlV7ToEtplO3RvUiaYtyRJvxW\n",
       "oOZNmRcblmYwC7V/eUNpW6B2o8l14tO8CdCaIrZmqv5JJneVTXOEU+lurf0uI7rfDJVGU1+Jflz4\n",
       "Fo8mntJn8v/9TGBosNDE5qywmcbjg7s3F0GT6yQ3cGhK1xHNELEtp+oZgAPFQnvOyaCH2FpT6PP9\n",
       "y72zSJp1aNvo/R6e4NH8uRC732VWPL32F0xPaU1z91juNO1O7GYlL6irIupfNERsrRpRj4BkoiBc\n",
       "NKXVQ29qRps7CjFQbl4N6wvTLKkHXNO2zB8rh6YfPftRh5mOZ18wrP8/xvDHbQ6Y96E7YRY0OU7j\n",
       "tr2FAiIam9E0sUUVovzgMaUP72hsWi2r6DV8R/+9atx1Ho+CTuPvBD4gwIGjL4MF5+dNnIZeymRe\n",
       "zGQmnHoi6c4Z3LIalCUePxa2OOVpRvHV1pBlpgfR2xP2q+xTvGHO7iOT+f2OTCbmSJPnVLvd3Drc\n",
       "VTLT87YjEaLkYaNJx4dQvjRoCsF+VZiWdwzbaHZDVNVvzcsOW8rgCUM5YxPT7HUYm1HCDshuibQ0\n",
       "bMuR7oRZjE2e04S1AHcVRaHTKWLrjxAljrXTh7/9vmajGRFvQNw+Nl/Cb2LQPBVq2W3rAIhqeTNd\n",
       "UhxormNynkLWkp/721hqYXivZJo8J866uUdf3VBz8jZjbMKBLUgNJsJoBcUyaEldAlm0rkpNTU0P\n",
       "sTT1vVaB5j5rTBfS4FHLi0IBRFN1ikJnaM61hZ5/1MWsMb0D4J6SafKcuDGd7t51W1SlagBZAilQ\n",
       "8im7jaY/FAjbZzrAdmBobrPSPHRhaKvrTPfoPelHdUq3gChzciVegRMpC80HMLs1LLWO/SSzzM8M\n",
       "hqa468LKuCtNSxvwBdeJv9/0p6TF1GbEdFiAHu65Lw1SfqXrtNAcArGRDJH111OmXPKoMfqWWyu9\n",
       "lsv97UbT+/StFhr4d3IiKW7Bk0v2Wl7BymXjw/kz6HP2Hap1vxnM5XKuNK1twBdcJz5N6ewKhdpG\n",
       "DFWPkHoaQyC8kky+AZvCZpr1lmhCE1icRwvGtr9V41bqMjZnkm5HJynOpenLArfcZWwWfQrhwteS\n",
       "C+lyAqsYb2w+zmz72LanfQozNnEI5iwvHOktsgejjk6mUw9GFgGznroe9mnl02ww2341lD6HwafB\n",
       "l8a6idJqsQcOa2KPcPVUD6+Cp059wUYhb5ob+sqQOtXJ0secb8qJhHEitwYs55sVE4fzzYJNylKV\n",
       "tybQVqMuRWjitFpYCm2qsLQml+MyWpbLsVFI0N/VZAV74HxajPNg3yJ7eZu+WKbngObaiK1o0mSr\n",
       "j1HFyN1o3WQQzSjMrc/rC1JLBbvg9CWjXnX4LlSrD4aB4YrD5H0XCrDfhcCvUOWCqASafVB1kcaq\n",
       "VvVlQ1nlqFr0QzpNKUTVZaBaFevfLvgfMMT7i31IB3tk/1n1aQYiVarYq1H1v1RQ/gNzIhctRnBG\n",
       "pAAAAABJRU5ErkJggg==\n",
       "\" style=\"display:inline;vertical-align:middle;\" /></a></span>"
      ],
      "text/plain": [
       "|- forall_{eps in {1...2^{t - 1} - 2}} ({-2^{t - 1} + 1...-(eps + 1)} subset_eq ({-2^{t - 1} + 1...2^{t - 1}} - {0}))"
      ]
     },
     "execution_count": 9,
     "metadata": {},
     "output_type": "execute_result"
    }
   ],
   "source": [
    "neg_domain_in_full_domain_sans_zero"
   ]
  },
  {
   "cell_type": "code",
   "execution_count": 10,
   "metadata": {},
   "outputs": [
    {
     "data": {
      "text/html": [
       "<span style=\"font-size:20px;\"><a class=\"ProveItLink\" href=\"../../../__pv_it/theorems/e43ddd3286788e9f0d072354a6e39dc9d2c56cf30/expr.ipynb\"><img src=\"data:image/png;base64,iVBORw0KGgoAAAANSUhEUgAAAKoAAAAZBAMAAABTBqhqAAAAMFBMVEX///92dnZUVFSIiIgiIiIy\n",
       "MjLc3Nyqqqru7u7MzMxmZma6uroQEBBERESYmJgAAAB0ptS+AAAAAXRSTlMAQObYZgAAAbJJREFU\n",
       "SMdjYCAfcF5goB6IhBm6yoF6hnJ8gLG4qWgquwOZpvKtwy3HtiRqAl5TZ1ng8GMgPitZCwi4dc8E\n",
       "7E79gCtIV92dwMCfgNNUsDwDVwBWzYwg1ewnMCWaGBh/M8xhYNh7FwgaME0Fy0O0Yze1SegHpsQK\n",
       "BoYzDEYcCbjcCpZHM/Wti0sAwq18WEw9wsCgn7CYETM1IMujmjrXAiUEsJka38CgP2GSJTw1fDLA\n",
       "Ig/VfufsBlBIRzAQNBUI/BvwJ0qgPOMBIL1uAvcDIMUEj1oGpgCcpnJ/xG8oSB6UhLihqYsXIVUz\n",
       "AaepLAr4TQXLRwF9XnELzJ8TCgTg2JrrxoDT1FVYEnEoGExAyDM5M3BAAyoXLXNgNZV5AX6nQuSD\n",
       "GBg6oQI8CDmmC7hMrWJgS8BnKlgeFK6VwCQCEuAyIJwGOAUYmPGZCpEHpYHUCRzPwULuqKYyg03t\n",
       "B4Y0x1cogyFFUEoFn1Mh8iDt3DG+kIBuut2AZCqXztd1sDh1gjHi////gs9UiDxqjt14BTnHkg9w\n",
       "lS4HaGEqzvKVOICjfGUIpMjUPRtwVHjrKDAUVG8BAOOcc6xuWJhQAAAAAElFTkSuQmCC\n",
       "\" style=\"display:inline;vertical-align:middle;\" /></a> <a class=\"ProveItLink\" href=\"../../../__pv_it/_proof_fail_ineq_lemma/7fde97db172019f6d0f8bb01858912e57ac26c390/proof.ipynb\" style=\"text-decoration: none\">&nbsp;&#x22A2;&nbsp;&nbsp;</a><a class=\"ProveItLink\" href=\"../../../__pv_it/theorems/b148d863fe277de8a8c7bc6e72f30a2248699e510/expr.ipynb\"><img src=\"data:image/png;base64,iVBORw0KGgoAAAANSUhEUgAAAfwAAAAcBAMAAAB2TxAWAAAAMFBMVEX///+IiIi6urrc3NxERETM\n",
       "zMwQEBCqqqpUVFQiIiJ2dnYyMjLu7u5mZmaYmJgAAABN0h6tAAAAAXRSTlMAQObYZgAABC9JREFU\n",
       "WMPlWF1IFFEUPjs6ru7OrvZQ9NCPDyG9NQ89FEL6IJEPwRAREQQSFURBWtRTwRL9YD1o9OdC0Uok\n",
       "/RAsRGkO4jyUaAaub4U/CEH5Iv5EWCrY3Luzs3funJl13MkNOjDDzJx77vm+e+8599wBcBGxFgou\n",
       "q8KQF/A3mU7GWgvGelUYfAEuzWSehDWhf8AvDF6NKtCvwdY1pS/G/MLg1Wg7vUfHLR+LvvQof4n+\n",
       "0U3Ix7DmEwbOSBzW7G2mJtJDTnUh8iJ183ga85j9PU6K8+RWpdgVw75h4IyEE7YWg4lMA6p7SAZ+\n",
       "homesToFyuXV05ccU24p6TWStM/Zkh8YUKMRW7NpMudbnmZ0m8kr038/hObgEMC2Ol00zPVFzX0C\n",
       "ZDQoz+gAk6yvyXg8fo8+hVJeMZDeeEGNntuakS+dMCAbuhrO9SjASdgoybaRbzIG+WaLO/0pC04j\n",
       "tfY/IzPczviqfmI2Kmn0iCHdGyeoEUo/2gChpKEra7S6PgXQIg+H7Km0yVw+7vTvYPQhSgD3MTRf\n",
       "ZxvVaOARQxShjxqh9ItjEFwydJFaq+teDVqUw+vNVPqrwhv9olZn+uFK01ekMdvoG4BHDBh91Ail\n",
       "Xx4DYd7QBRqsrnV5jPJbIf0ACeTo3uOVCH0S5KEG+l7GmIzw9HNiwOijRh0Y/aEUCLOGTtB7KrVk\n",
       "Y2EB8qBfTHbScUWYQOhHk2aG38WY1NFtwQsGnD5iNG37cksPtgSIs4ZO/KnncsteXBbLhz7JJYKC\n",
       "L34ajz30/T1j0kX3Ey8YcPqIUTjF7xn6bl+TAnHB0BXNwUGSrQZVIuTEMIb0/FJV76tqlyP9rHWJ\n",
       "vuqlS/vpelbVd6dVNWYCFsnMl97mF/8j/fKGAaePGTVXWPoV62Vz8VOdNMdVYoEU5DP7lL6Gzz6l\n",
       "nx7DEHPY6LFVg7kwoPQxozC/IEitp6e+4Lyh02cfStlC7TIUyXku/g8OmZ/sxZnqrjNrso/GvhcM\n",
       "KH3MyB77V/X0VEs7SMf+D2vWFRMQkPNMfRf0UQWH1Gdkfui/ojGIPGLA6KNGHS5lj5n5Wde7X7xq\n",
       "dl/8WwluaVG/DSWNB0bI5latSN85+gECOJJgfB2pzxS9G3j6OTHQ3rLu6Q01woveB9CnGLoot+/3\n",
       "Li//dnX9+WwP2dTaMqm2jQsuvS/h7V3FSj9yfVE/z4YV2/5OZAdf9eXCkO6Ncd/mZITT/7juGjhU\n",
       "fY7StMITH170UhkA1BfJlv5iyEGfeQpXZOPRVT6t0KPlyCNZ8kQ7TpPEhL8YXOh3WHVDmvWsnbcU\n",
       "y44n8mT2vB+Kx80Dr9gAPmOw1tMOewHVTZJbt48enX930IGpqrQrbviNwUxEx+yVQMKioxMQHPfR\n",
       "p+PPrq9O//oGfccAzP88vjxg//VFE1B4CaYK5Xkn/AtyrlCOR+F/lz8tNp7sx3iNJwAAAABJRU5E\n",
       "rkJggg==\n",
       "\" style=\"display:inline;vertical-align:middle;\" /></a></span>"
      ],
      "text/plain": [
       "{eps in {1...2^{t - 1} - 2}} |- {-2^{t - 1} + 1...-(eps + 1)} subset_eq ({-2^{t - 1} + 1...2^{t - 1}} - {0})"
      ]
     },
     "execution_count": 10,
     "metadata": {},
     "output_type": "execute_result"
    }
   ],
   "source": [
    "neg_domain_in_full_domain_sans_zero.instantiate()"
   ]
  },
  {
   "cell_type": "code",
   "execution_count": 11,
   "metadata": {},
   "outputs": [
    {
     "data": {
      "text/html": [
       "<strong id=\"first_sum\">first_sum:</strong> <a class=\"ProveItLink\" href=\"../../../__pv_it/theorems/dd5eb99fd4b3b3e6522e5aa09203bcc3b4bd21d60/expr.ipynb\"><img src=\"data:image/png;base64,iVBORw0KGgoAAAANSUhEUgAAAIAAAABEBAMAAAC7aSBaAAAAMFBMVEX///8QEBBmZmYyMjKYmJiq\n",
       "qqqIiIgiIiLMzMxUVFR2dnbc3Nzu7u5ERES6uroAAAAeFU6cAAAAAXRSTlMAQObYZgAAAvJJREFU\n",
       "WMPtl89r1EAUx193Nz+abOKCN3/QZVWKP7capccuIhS8uIiLiIhBsBQUXBS8KHXRi4hiZUG8iFGE\n",
       "gkIJ/QfMKh7EyyI9KqwgVERprZaqlY6TdbObTJJJZvcmvkOYSTKfzJv3vm8mAITJRF8ERjM8o+vA\n",
       "NdjG95vu8bkywHY2wI02yb6oGPCKDXDPaSgOIGkyAfAIbvi8G8AXWMbLeESpufJtADfJAlDrAGNP\n",
       "PC7Yt+LYl3fYLBV/7tQYQFXbrWmFJkAcYpkBDny64F1ElcmFdBlEHT47AA4DUgZTFC4DjF4otgDy\n",
       "4E8dEmypeNqTB7Yl2RJJ8TWOsAHUAqHKdJZRjceJPm/BP22P3vTmoGT2k3meRC7TowCCKa4Qtzj0\n",
       "42/j9Yc7KBMJaMir5L38crs5uhTtBPfbB0Ud8W2KBgg+N0X0vd1OVHxP3Yt+0w6Dn3kIdYqorxpK\n",
       "bmVOY6kH5LmCypS4EYBP8NFfUgYWYwPEfaW3/pfmUTEuoA+hhYCX0IbYLgTbyLceATVk0ADS2K4I\n",
       "AIdWKQB5Amrmy/QDCgDyX61wgGCAkj0LczSAEOoDBuQtSAwZdgqGA+Rligsb8XWdBbM0QGp9OCD9\n",
       "C1+xTFdogPkKZQZYa1IGxAwFIC7R8mArwMGFCl+n5YFOA0iPD8A2XdEpgD0xxNR3PRyg1GMA1vDh\n",
       "gKlOFhVDAYnpUIArhqliN2JyxfC97yHvDvB4cBZ2Yvh8sZvdqubIQD7m7DFsNqI1bXgAb23lLsYn\n",
       "mPbG/xbrByjGCcaur55s3bkD5NYWLz7sAG6FEua83adQhZQTQKENuDoYftLydi/BbXNqswcwGfAd\n",
       "l816uxPwrCGAB1CnA8hzFpy0XmAl5XK5YiwArq/37b+dzmnkIhxOMcyAJyuYlIWZMy34uS3RAMVZ\n",
       "cdWeBz5w7CdSQdPWanspAFxfq7aAHRdUQyX3FfoM7PrqtmulE1YQ4GhoBSBqI64kEACYuXK3e0XU\n",
       "e5VUzwDq//8fd9TwhoaDNsYAAAAASUVORK5CYII=\n",
       "\" style=\"display:inline;vertical-align:middle;\" /></a><br>"
      ],
      "text/plain": [
       "first_sum: Sum_{l=-2^{t - 1} + 1}^{-(eps + 1)} |alpha_{l}|^{2}"
      ]
     },
     "execution_count": 11,
     "metadata": {},
     "output_type": "execute_result"
    }
   ],
   "source": [
    "first_sum = fail_sum_inst.rhs.terms[0]"
   ]
  },
  {
   "cell_type": "code",
   "execution_count": 12,
   "metadata": {},
   "outputs": [
    {
     "data": {
      "text/html": [
       "<strong id=\"second_sum\">second_sum:</strong> <a class=\"ProveItLink\" href=\"../../../__pv_it/theorems/769c4821066053bbbc108a558930e7181ccf7ac00/expr.ipynb\"><img src=\"data:image/png;base64,iVBORw0KGgoAAAANSUhEUgAAAFoAAABEBAMAAADzWj/aAAAAMFBMVEX///8QEBCYmJiIiIiqqqq6\n",
       "urrMzMwiIiIyMjJUVFTc3Nzu7u5ERERmZmZ2dnYAAADZnSTNAAAAAXRSTlMAQObYZgAAAl1JREFU\n",
       "SMft1k1oE0EUAOCXTXbzs9mkIHhQMKsI4kEIFDwUi3vIUXFPehCkXkTwkIgIYqmJIjQ3e+yte7D0\n",
       "JF1vehBLPdpiEVFBYxuKCIptij+1FTpuktnJdmYnM+tV32VnNh/Dzps3MwGgI+2CODIT3afWlNFK\n",
       "ETeSIp17/w4+vZTVn2ESkiCrb0LZeQTwpNFoWGJ9HWbt04rs2ABn3AdDOCcnXwn1NYgQuaUo+lgU\n",
       "rK6oI/L6cumUK68LCMH/+Jv4uojTfA/14huvOpx0DZcg6q6lPn20sMHRSUfb7rYMVCH7s2pxtJ35\n",
       "gZvVLfLWqPE+PPEbN8rIJC9f46cWrJ0r7dH9Y0FB272zwp+WHdAf20khvRebbBIorfS2zEO0JNIX\n",
       "4CzZEOi7QGt3S89Jd33D7a9jCLVIN4Vqgi8Jhl7YCdGrw3ao9lbfZvSMre/TrcctVhtoP6NvASzG\n",
       "XbXCaqju0NrwlvptrnM2MXq2QuvYHEDzC2TNEH3QofXTFS+zFuQdVqs/mZzkvUGbABdDclK2GG1M\n",
       "gLKuwYmQfO8JWfm1Q6axCs9YneJX1d4RRi/wK7ZVpHVutLehaP3BpnUgfYeFVRVInzqAG/HgDXB8\n",
       "1zqS9OnLwjtIP+C37k8h4aWS+lXvxFXvZNsUHojLEufgPxT6VMhLbY7Hz4XgRoV7+VB/Bzu1wtXz\n",
       "u7vZ/poc84nxMaHWBiC94MU8lEAT6jiZ/uCa+Euy/tUDw4MAk/Xb9brJ17FLkG4X6x3dlJhlPu5P\n",
       "oAjnfZ3gaYPszyM3LKwzb7aKcpWQjVQ30XSm349/ACNtxbC0KdnxAAAAAElFTkSuQmCC\n",
       "\" style=\"display:inline;vertical-align:middle;\" /></a><br>"
      ],
      "text/plain": [
       "second_sum: Sum_{l=eps + 1}^{2^{t - 1}} |alpha_{l}|^{2}"
      ]
     },
     "execution_count": 12,
     "metadata": {},
     "output_type": "execute_result"
    }
   ],
   "source": [
    "second_sum = fail_sum_inst.rhs.terms[1]"
   ]
  },
  {
   "cell_type": "code",
   "execution_count": 13,
   "metadata": {},
   "outputs": [
    {
     "data": {
      "text/html": [
       "<strong id=\"first_sum_bound\">first_sum_bound:</strong> <span style=\"font-size:20px;\"><a class=\"ProveItLink\" href=\"../../../__pv_it/theorems/e43ddd3286788e9f0d072354a6e39dc9d2c56cf30/expr.ipynb\"><img src=\"data:image/png;base64,iVBORw0KGgoAAAANSUhEUgAAAKoAAAAZBAMAAABTBqhqAAAAMFBMVEX///92dnZUVFSIiIgiIiIy\n",
       "MjLc3Nyqqqru7u7MzMxmZma6uroQEBBERESYmJgAAAB0ptS+AAAAAXRSTlMAQObYZgAAAbJJREFU\n",
       "SMdjYCAfcF5goB6IhBm6yoF6hnJ8gLG4qWgquwOZpvKtwy3HtiRqAl5TZ1ng8GMgPitZCwi4dc8E\n",
       "7E79gCtIV92dwMCfgNNUsDwDVwBWzYwg1ewnMCWaGBh/M8xhYNh7FwgaME0Fy0O0Yze1SegHpsQK\n",
       "BoYzDEYcCbjcCpZHM/Wti0sAwq18WEw9wsCgn7CYETM1IMujmjrXAiUEsJka38CgP2GSJTw1fDLA\n",
       "Ig/VfufsBlBIRzAQNBUI/BvwJ0qgPOMBIL1uAvcDIMUEj1oGpgCcpnJ/xG8oSB6UhLihqYsXIVUz\n",
       "AaepLAr4TQXLRwF9XnELzJ8TCgTg2JrrxoDT1FVYEnEoGExAyDM5M3BAAyoXLXNgNZV5AX6nQuSD\n",
       "GBg6oQI8CDmmC7hMrWJgS8BnKlgeFK6VwCQCEuAyIJwGOAUYmPGZCpEHpYHUCRzPwULuqKYyg03t\n",
       "B4Y0x1cogyFFUEoFn1Mh8iDt3DG+kIBuut2AZCqXztd1sDh1gjHi////gs9UiDxqjt14BTnHkg9w\n",
       "lS4HaGEqzvKVOICjfGUIpMjUPRtwVHjrKDAUVG8BAOOcc6xuWJhQAAAAAElFTkSuQmCC\n",
       "\" style=\"display:inline;vertical-align:middle;\" /></a> <a class=\"ProveItLink\" href=\"../../../__pv_it/_proof_fail_ineq_lemma/bd60163b4fd706ffae7f487deb84a4854e7de4450/proof.ipynb\" style=\"text-decoration: none\">&nbsp;&#x22A2;&nbsp;&nbsp;</a><a class=\"ProveItLink\" href=\"../../../__pv_it/_proof_fail_ineq_lemma/57709205a99af52dffd232309b43fe28aee831d90/expr.ipynb\"><img src=\"data:image/png;base64,iVBORw0KGgoAAAANSUhEUgAAAcYAAABLCAMAAADd5depAAAAM1BMVEX///+wsLC6urru7u5UVFSq\n",
       "qqoQEBBERESYmJh2dnYiIiLc3NwyMjKIiIjMzMxmZmYAAAAJfL7DAAAAAXRSTlMAQObYZgAACSRJ\n",
       "REFUeNrlXenWoygUdEBW2d7/aVtQjAoooCFMNz86ZyYmoargbizfMGxNq+HnbRoffLgHAD+nSooe\n",
       "Ojey6o/2AeDHVCkz9dA3iEHlJzsB8GOqeNY0uGHqBatGMaz7YC8A2rUIVYznfDDNlCL2XwSed07U\n",
       "ucd+ALRrAVWToTnWODWWldYLi/q5YQOmZkp0BKBdC6giOMf7BGP5MxrAwgIcXxhjNaFKTwAaTkdx\n",
       "Cg+yxnIwTciZhUG8MR1RRXzTEYCW0xEVj+VhAYoE5zrJgqQvjDH+ncnYDEDD6cgPjiUnypvcRxDa\n",
       "BXQhC+gFo0RNaaDRGYCGweqeKp2VcgGHWUrGLmwSIC8kRKb0SzoD0DB33FNlRBK4b3OGAtw4lVpK\n",
       "52fE3LD9h+5ZUG+UUkhpJt8bgHZtRxUyMiuMsMJDeh0hgDdsUmaHhm4BtGs76GPe4IcWqLKfAjBg\n",
       "Aa0sUPZG50xZkNMfgHbtQ5XBeZ/gFjzlXKDzYJ40N6MbFvqVMogos6r9AWgYq3qqkNF5n5AonXZt\n",
       "3/pK32SRVe0QQLqvtSXjW6p0drpNbv8HeifrUqaEzQ4BJKz6yEbzsowbVTz7m8EZ49n0Qf1S54wp\n",
       "eLhHAOlE72UZPVUw17PYsXrjsuRbfRQF9fEuAbSTcaUKmA4TXm3yjVuXANrJuFLFTIchtjT56VuX\n",
       "ANrJuFJFKhYUXm9MEw0PMyw/c+wCwO9kXKnC5vc7F9hki2MHf5cf4/QA4IcyrlSZzC8WJtHk867w\n",
       "6bwlyuTD7QHAD2Vc8E+54x7NgA/DHk6AjtgUxIlpGYHtCDhMsdxqShcAfimjowpko9Am5rAof8k1\n",
       "oQNAkR2qdgPgVzI6qmh+wYSbaPyoc75Awbt3+MG2jdnhZyMAr8WVr8voqGL5WZearVJsjuRsumfg\n",
       "5h2mTzMnN+NoBOCdHG+24UK/XO9zVOmCDI3ONMTKIPS5jFTXitMIQL/NUUUKWJgfNrzyt65lBLNd\n",
       "AOrQt6Slk1wd+9QEQM8yCusgC6rBcI7r9BdkVAIhRODBh8TphozLs4dvAqDf5qgSRaUsMFsl9L6M\n",
       "2OVvR/MXk3HSnIaBWhMAPVcUuI3eWNkMNlULn7chTtC3MI2YRoFi4WcTAD3LiC0LZUUMYYx4ICOT\n",
       "8rRNIi4jCpJ6RQSIZxFNAPTbHFXYlIVp1ruwWhknW66BeBogGuBoSmQkRKWKGE0A/GUyupoWqJRx\n",
       "OYNItFueXbcUxmUEZxklTyzpNgLQb3NUlXt8XeNdnFh6KWFo4c4Zrgl/Usbzb1DOYj/bCEDXMsKh\n",
       "osDPK6ySEwsvKT3DTg9CL2T8L7ZugUTk+GEjAIPpqp2pMqa4hDFVpNBWLLiSx5b5s9ZT4jKq+PIT\n",
       "EMHhtkYAesn1T+vrnipczgLFU5WMw/pTzOUSCg8lvvETsBLwzDfWAehExfP6uqeKF9ukqlPdi290\n",
       "ZTPKjD2YJkmVjDZ9VE8Sjtpj6V20cH29VkZVVQVZxGKM0nnuaDb/JpGVMj7MGysBdCJjsL6+UiUK\n",
       "vT3EVXseQrGwUpcy5i4GNwLQU54IQ6pIYalYvFUaN4O8kJFmy9gIQEczUkaoKmSBVG7tDcXSfr04\n",
       "KuN5hQMK/mnqgYyks73JotRPMx2jaixZrhsYj6UBqEbG63dYduGzEYC7HIbWPQhTIQCQSH0OK3wO\n",
       "LVAdpUqXbJ2PR+o0gwWpyt7RBav/TQD4+Cg+9eHSB8nvguDlQaj1WiNGiQyWIkDsd/kLmfxrsL6+\n",
       "EiALWIhH6uAbGwTHbFPZFgCPT31/mw69i6/dg+4OJTYHnJPmIr4RyD4BnTPxTmUZRcH6+koVyl+2\n",
       "mWKROtRfWU4n2fFnUwASR2XcLJ2+GVLLg0sdBtvRIxKGgHnby+T+NVxfX6lS2SEhxAGzExrPe3jf\n",
       "8vzZyV1LABONX0zIvam+S2aWBzFfZtG0VSQjdmPynT6+JqjKPy0hjNg3jtcq7Vfqk/kHM1oCYPH7\n",
       "JSe+TffrXq8PCpf5jfPDKi2O/06/WC7AJVUm87oE3fIIBCw6w9EKAJ3iMko95LlGqQ/lJzjIcYCx\n",
       "3kMpvVfxCQbTl1TxHtdQVcGJqmYAoEzc9kq8IxtvXCOhe7M566Rl9IpXJeDs8tahIY6vCapG0+Fm\n",
       "24Id/e0AWMJ3Mn7MBUe5rhGdYl417vIt+HHiylKwvONTkmRqslAle9y4yUqix0YAbDq+kxF+Rpq/\n",
       "9Hu39gD3XlidH7QmXofWUezjXbXKqMxweE1QpXrcKFZygrgRAOis3242flJIr468i5k/Mkp9kZNi\n",
       "6mDBLBk9VUWXl6RN26u7W3jJwaM2ANCo52awlklbScYB5hlVZFWcplTQYuch9ZfYnV5TVO1u9vKb\n",
       "DtPGbt1DcP5bHopFNympyjo0LDo6ur+a7A7BUwD4KsSZnTTLCnGW27JlKsJ2Mvpnb0KcjSq2CxHA\n",
       "dQ617SGgwZCMlJy3e9jL3VBZuXsf41wjeAwAk+jYWOkHUN4MojV9ZIzpMdlTW7HZ7nXV7Piaogrs\n",
       "OGP6tghh/TjjwSG9HQtj7qi4CD5L1hz2AG4QPATAiDFjGBf7p6i+qSACn/7flB3s3vrN1qjja5Iq\n",
       "bKKJTYwFv4cg7MGOBfJYRmyqH79G8CUAPHeLFi/eywX58TWNXX9KSBkFEbuHYKm3Q7009LaMkym7\n",
       "m3YHIAPBFwDQ3JSHFudGx9L4FVVgW01YSnzjdrNzbGTbPQRzoEW/OBtl4aanD4AFQXsAJHeWkcLp\n",
       "eFqouqQK+7hQ3keWzvdM+hRlqTkHR6/JKEpXMDcAGQi+AgDmhuSwMHb3sqfk31MlfVWShDP3cOn6\n",
       "rVVI3MNealNZ8fT1eXWIoA2A2k0cd0Z4Or5eU+UN7LLpcNyqSMFPRvYQREbQw9moyy8d2TyEQ/Br\n",
       "AO3akSq2/pffdJise0X2EFyxgGpYgKb88n0P4A5BEwDt2okqf0hGM3AT2Yd7CNIsfO5hL7SQUwWe\n",
       "LUkGPwfQrp2pevXypIc7QbGuAtQPgHYtoAqzXliovFWtHwDtWkgVenE0Pzp1Bis3hXQDoKVnDKka\n",
       "OxmCY+3i4fi/+hthX6OKd3FcDNT/vXCO/i0V41SpLq414PXbo9Rfdm1RJVWgA5cAn8woMP1LKh6o\n",
       "+gPD43WZgx/l6QAAAABJRU5ErkJggg==\n",
       "\" style=\"display:inline;vertical-align:middle;\" /></a></span><br>"
      ],
      "text/plain": [
       "first_sum_bound: {eps in {1...2^{t - 1} - 2}} |- (Sum_{l=-2^{t - 1} + 1}^{-(eps + 1)} |alpha_{l}|^{2}) <= (Sum_{l=-2^{t - 1} + 1}^{-(eps + 1)} (1 / (4 * (l - (2^{t} * delta))^{2})))"
      ]
     },
     "execution_count": 13,
     "metadata": {},
     "output_type": "execute_result"
    }
   ],
   "source": [
    "first_sum_bound = first_sum.deduce_bound(alpha_l_sqrd_ineq)"
   ]
  },
  {
   "cell_type": "code",
   "execution_count": 16,
   "metadata": {},
   "outputs": [
    {
     "data": {
      "text/html": [
       "<strong id=\"second_sum_bound\">second_sum_bound:</strong> <span style=\"font-size:20px;\"><a class=\"ProveItLink\" href=\"../../../__pv_it/theorems/e43ddd3286788e9f0d072354a6e39dc9d2c56cf30/expr.ipynb\"><img src=\"data:image/png;base64,iVBORw0KGgoAAAANSUhEUgAAAKoAAAAZBAMAAABTBqhqAAAAMFBMVEX///92dnZUVFSIiIgiIiIy\n",
       "MjLc3Nyqqqru7u7MzMxmZma6uroQEBBERESYmJgAAAB0ptS+AAAAAXRSTlMAQObYZgAAAbJJREFU\n",
       "SMdjYCAfcF5goB6IhBm6yoF6hnJ8gLG4qWgquwOZpvKtwy3HtiRqAl5TZ1ng8GMgPitZCwi4dc8E\n",
       "7E79gCtIV92dwMCfgNNUsDwDVwBWzYwg1ewnMCWaGBh/M8xhYNh7FwgaME0Fy0O0Yze1SegHpsQK\n",
       "BoYzDEYcCbjcCpZHM/Wti0sAwq18WEw9wsCgn7CYETM1IMujmjrXAiUEsJka38CgP2GSJTw1fDLA\n",
       "Ig/VfufsBlBIRzAQNBUI/BvwJ0qgPOMBIL1uAvcDIMUEj1oGpgCcpnJ/xG8oSB6UhLihqYsXIVUz\n",
       "AaepLAr4TQXLRwF9XnELzJ8TCgTg2JrrxoDT1FVYEnEoGExAyDM5M3BAAyoXLXNgNZV5AX6nQuSD\n",
       "GBg6oQI8CDmmC7hMrWJgS8BnKlgeFK6VwCQCEuAyIJwGOAUYmPGZCpEHpYHUCRzPwULuqKYyg03t\n",
       "B4Y0x1cogyFFUEoFn1Mh8iDt3DG+kIBuut2AZCqXztd1sDh1gjHi////gs9UiDxqjt14BTnHkg9w\n",
       "lS4HaGEqzvKVOICjfGUIpMjUPRtwVHjrKDAUVG8BAOOcc6xuWJhQAAAAAElFTkSuQmCC\n",
       "\" style=\"display:inline;vertical-align:middle;\" /></a> <a class=\"ProveItLink\" href=\"../../../__pv_it/_proof_fail_ineq_lemma/4b7726d805aa0f3a64628b03ccca85d620234d1d0/proof.ipynb\" style=\"text-decoration: none\">&nbsp;&#x22A2;&nbsp;&nbsp;</a><a class=\"ProveItLink\" href=\"../../../__pv_it/_proof_fail_ineq_lemma/4fbd1564ba4a9d65301951221d19e39ae5373cc60/expr.ipynb\"><img src=\"data:image/png;base64,iVBORw0KGgoAAAANSUhEUgAAAXkAAABLCAMAAACiGAcdAAAAM1BMVEX///+wsLC6urru7u5UVFSq\n",
       "qqoQEBBERESYmJh2dnYiIiLc3NwyMjKIiIjMzMxmZmYAAAAJfL7DAAAAAXRSTlMAQObYZgAACIRJ\n",
       "REFUeNrdnOmWoyAQhRkW2Zf3f9pRFKMCCqh0uvkxnp6QePmEoqoAAViLNeC9IvGNL7+qrGPJQNDq\n",
       "1bti3vzVl5V1LEkIxsmi76LGm6IBNn7zbWUdSxKC4AXDw/ChuX2s9auvK+tYEhC4SFbUEYb29qk2\n",
       "U99BWccSQZCO7VprqUVToy17rn3QtUyUPZR1LBEEOuyaNxpWPE1rcXe70z7VMlN2Udaz06vDJLbr\n",
       "QULO8xrytZCdC7nbPuhIw/TaQ1nXTk/yHQsIOI1yCIgFj45pJW52+deU9ez0YmdLY/eBOASk1XuH\n",
       "zmhnSftNmav1LHsp6+nebCHYhMcs9AvurKO10WsnZT19+i0EF0993L5xV1oWFP2Aso5lA4G4qBex\n",
       "d5qXuFNtffbbwW8bhaOeCEfrCt9IU7m6Obajso7lA8ENR1dOEULoG76CqjM3HZX19G4CBOKOA3hw\n",
       "U3njprrK3PRUlhfxeEJohWBdP3fMuJo4tqeyjCOCOXboLQjCdRy9VR22q7K8/41egoAiY/qujSuf\n",
       "Hvsq60h+gQCrw5s7xTpWkeKgf5P8AoE73rEd2pVn6fsq60h+gUBfncaWfPqmH5d79NSRv0l+gTC4\n",
       "FwOTNZ/+sd3lU+yryn6S/ALBJX5ZuUypTVaFfPp2Xi9uSLLqY9J+kPzcMpnqhGRsya6/IQkZHsOY\n",
       "Wmcj5NO3Hbk0U5xU9py0nyTvIcCkZOtS9piJFstLdtJVsXOTVvaotJ8i7yGwdFQpXNIJsVFlk9UV\n",
       "Ptnn03Gxw5JRVi7tKUfkefIeAk87zWYc1KnOGW2041njsXxyyKfbYrcyo6xc2iOu92jIlGVP/+oE\n",
       "IUeCje1L5RVZJfljPp0Xh0fZZ1Qq7XuLh0Bz7aOuyPW+IB/l03k+Z6aF2QvA4Ja0byavJmOfWeRB\n",
       "o79g75KP8+k6Aw3x4/pqVlmptO8tHoLKznhwHNTkJvk4n86S5KUVLHYAOLgl7XuLhyDy7eOjk4xu\n",
       "WpvETWNfUWJFUj4MB7ekfTP5YWqfPnE7rxcyAl+utYUF5EkUHxmqYNp71OCWtO8tHsJwEtlM9pQX\n",
       "kZdTsIoGCRABCLsa8pSaXKB34qyUSPvF5H2oDkvIz3vcqQV6tAFQnJCHR/JaaFRPvkTa9xYP4Xyq\n",
       "spf21PO1c5w3hpH8EztlyaMo8ucomVYi4Ja0ryaPwEWST1wNas93mKMjPniElJ2Q/5fKQBJlZYL8\n",
       "efrxUhpwX1WOENx5BktexSwTX7Qg4HMvXQLMNHmTThNDhU3E7Twolb8knDouDgUI59YUsEEW2Pnl\n",
       "N7h3GM0Aauz8x8WhsMLOF0j7EvDHxaEA4dR3KzhhM9t5H+cz7sBYXdMm8pNbb4q9ytbDP/1LvDhU\n",
       "Qt5cR4ozX84ZG3uo5eOPUd1IvsafL5H2JeSjxaEFwkmMPjrN10tsMd/BmFPypYtHZ8qKpH2T/45i\n",
       "CPQk96SaMmYO6MrsQbqcKSuS9kX9XicgnLSPlmTSY742LIkkyR9zlUiJTzGl5OkP7oFS1fNLdNjC\n",
       "Q8DZLDhPnvkiNzNmvDjfkldWKO2iSNZUD2XnKajJ+FBI2KK9TqrxYQsPwebWiNJOGzs2T2d7QPoT\n",
       "W7EmRcEtaWEuTg8dROfcxZWLNNdD1i4JJpKLIhiBdPoxvIgL18RhC980nWlf2mmDt/dW4OI1jZyy\n",
       "WmkiPXSUXEzulXGZ6iHseyqcFhJUZsF3qoK8/Qx2dH7wicMWHgJJj36ZctqQvb8URItTjBlltdL0\n",
       "kCQfTIC9GIJzvTkIHaaHq3JGjQerxPX2mjps4SGYpK+BhoiPJPi4yahpfir2w9PKaqVJln7ThVhs\n",
       "wZV3OtcbxNxV5ZobSQ1FGRTurxkI6Y2OyqltEcOS9bmfKSnfLJnZglkpjaffMSJFGEDncpZ6yjvk\n",
       "eKxs8vZ2Pd0dVnoUPIWQ2kFhX9u8iKr2VUpwVxqTafLagiIzr+0uqkZAY4CSvR5pHQxp8CJzR3cX\n",
       "CKLrAoOp2Ev8gDKkM+/VWTLZAF+Yecq25mQkazVITlRGodF8L49T7a8ZCNj13CHEKpZPH1A2QdqQ\n",
       "/ww3QQrNPDk4SQZvvGW0mX3M1Lj5o+B45hzQBYLuunWFV9ztvrIpstmQR5/HvrxQbJNERNvZwxzq\n",
       "eTtnY6ux/p53kcxC3jiwu2YgmK6L+DXnQG4rQ94ubPr8x7VfiOqr+ORDXtuzUGFgXjAqIh8gbCxv\n",
       "2DZwDaU1b1J10HI7J7RII3h675AbrM5ZEYoBKrM2ZAIvZdZxmHo7W6wLPFxzELYn4mGR22isbXQv\n",
       "6w5a7s7qN0sbTmbYcSbhRTOs8dV0dhXMkw+VL2bYFQLfTGTnrzDBlRhScWnNC/y2ytqlDTSfPnQQ\n",
       "6ZI0oxScc4vzrZ7iVRhuZPn+moMANzToqTdBb5PHVStJW2Wt0jh1DsdfXWoxe5HLgCGSugokpz12\n",
       "61g1+2sWwvCxoHHsQpQQ9jHyg2uu/rA0Ubh8LuqX2ZHYX/OtsmsE7UNjTEMZuwqZHo95irx0dW8L\n",
       "/Sh7XFrpG4oa3mS0z5idQYBr+lBHJlFrzp+zNrpy2fqj7HlpVD5b79Pl91niUwhDcDiojvMW2v8f\n",
       "nuKLYfqH3SCvatP7q7LnpSH6bL3oUeUe2RaCDgkSv20Ar5EcA4g9OcPK6u2/q7IXpDWuBl6aJ7m/\n",
       "nkMIlidsG/i4x9PfEEXNI03kbf0Bx9UmviytX9lD4MtfNlq1ZkJ8FmFC86QVDtcnjJGrfxt3UPay\n",
       "tH7lAAGVmYGbWy20a/DQCg0UBb+kHCGUHXS+2bzBNilFf4p8BGEo6Vr39u42vkCgSBmQvwR8DIG8\n",
       "/rI21LiUSNwvfz3lFQT89njFrcl2TP8O+SQE8e6uaOiaDYIgfwV8GoJ597yXaF/NNsNfsTcZCPDN\n",
       "WQrd6bdQ/g3wOwj/AYAvbYnpZV7cAAAAAElFTkSuQmCC\n",
       "\" style=\"display:inline;vertical-align:middle;\" /></a></span><br>"
      ],
      "text/plain": [
       "second_sum_bound: {eps in {1...2^{t - 1} - 2}} |- (Sum_{l=eps + 1}^{2^{t - 1}} |alpha_{l}|^{2}) <= (Sum_{l=eps + 1}^{2^{t - 1}} (1 / (4 * (l - (2^{t} * delta))^{2})))"
      ]
     },
     "execution_count": 16,
     "metadata": {},
     "output_type": "execute_result"
    }
   ],
   "source": [
    "second_sum_bound = second_sum.deduce_bound(alpha_l_sqrd_ineq)"
   ]
  },
  {
   "cell_type": "code",
   "execution_count": 17,
   "metadata": {},
   "outputs": [
    {
     "data": {
      "text/html": [
       "<span style=\"font-size:20px;\"> <a class=\"ProveItLink\" href=\"../pos_domain_within_integer/thm_proof.ipynb\" style=\"text-decoration: none\">&nbsp;&#x22A2;&nbsp;&nbsp;</a><a class=\"ProveItLink\" href=\"../../../__pv_it/theorems/2e66f11d77a2d1be2ca0ad037ecbd89c453bd6660/expr.ipynb\"><img src=\"data:image/png;base64,iVBORw0KGgoAAAANSUhEUgAAAUsAAAAcBAMAAAAaZYBWAAAAMFBMVEX///8QEBCIiIhmZma6urrM\n",
       "zMxUVFQiIiJERETc3Nzu7u6qqqp2dnaYmJgyMjIAAAAcRTyBAAAAAXRSTlMAQObYZgAABAlJREFU\n",
       "WMPNl1uMzFAYgP+dac2201krIZaXHQ/EA9HMJAghKyIRkaiNiAdhH7DCsm4xbonLJoyRSL0gHqgH\n",
       "IisYt0RI1rBk3TN4RAwbHpBBiMtGjP+0p53TaWs7Zok/6enp6fnbr//5L6cA/4Hw2+A/llcmZXzV\n",
       "P3vnnLI1xA9mj/stZqAv162pbJXwKn+YXFPfYdZo2DzOlqEhjOtWGEw+pnnNvN93mDE8TmfK+7K0\n",
       "zZrcIK+JIfyAHOk8q5RS6MHmuX+3jCcV6K/aF32yY7VXf8wPfpGFgAxwlwy8qRRTwidBl/u9s87V\n",
       "PA7SZ5gNMD2JolFMUz3SnEgkiD8E2hTIVaMNMNYOEltUnLeq0g7Mc9RwLa1OzAkAA2CEqNqsSdWF\n",
       "d+ZwMANS+gZ2Nhu+L6UrxTyieWGiLzgxBwO0qjHJHvNUvcbyhaAG+3myTOPRxHfa2w9UHEEPoSzM\n",
       "9xq0KnOHWzH/JVpUn8hOTFUT5WF4fEsmt/ilWeZ1Y7KJGdle19A7JspWx+g148Tm0EhUD+5ZOHcx\n",
       "wO5e6PbT8/yhXjOSpFmJxySFy/rB5H44hoxEIbDJ/ISoR81CDKipIOZs9eS+bS/Q2abBI/NiUzG0\n",
       "x0+AxqJLvyYehomPU3wtOuZCZ2mpkfWQY8N5cT/dUY/gAoUgYCse+zR2LyCp/XLS2qwD8zaxXYt1\n",
       "uRY/bRc+Urzcpl8/yOdX5/OvvTHjLmPN0ZJF5+SZ+vkMYkrZkDl8snMSQIetyIZU/ntRs4i5ERaq\n",
       "+lRDumkZETV/1gzILlXJMPB1ZgTQtHcMawq5uabD7jmkOTAbhM/oFGI8Hp/IYq4jukXMnaRZCnDM\n",
       "X6TDeRBUd99kaijclZCvFohFMIAWYdORkNFLiXSUbFnCPWHZuegAVzUGcymN9Iv42T4w+QwEVI9I\n",
       "F5fMMBNVE8ZusNaIdDiPTOE0KEZ5d2CGokKMPrLxE1MH1gCDOYxiHlbEJ6WYY8hLzuRoI/7EzoF7\n",
       "nc0OdjPt8rdosazWUiCu2Eazcn/03MCoDIiGv7SUYHZ6V/GjlkVm0SrEvdiglGCOre/O0sjWm/Uk\n",
       "vRcKXz0xLZmyty5ZXyfrVQhdEl8RiEWB35BM7oB5sh0zUuLsHNktpHBvSb7bqgtVDd5VyK90ed55\n",
       "aXZOkabJzZozYZrrljqDKbJozWCm6FxU2vsMU+wxe43AaXDT8k3cCwgpOKgJKf7tlZSb6oIrl9gQ\n",
       "4mvL2m96F1ykTSSob1oLapWCSOItumyaYpK9AD8EZqv8kKpC4YPbM+sLBTaEYDlJJZlKKLmBnrt3\n",
       "xX49En2TfXdvwkw9rWfD7J9T/uZf6Gkv7y4DMyz/tV9r9037UdX3A1qY/oW/hhl0NbMw2q/+/DT8\n",
       "K/kFsW4hYaIVx/oAAAAASUVORK5CYII=\n",
       "\" style=\"display:inline;vertical-align:middle;\" /></a></span>"
      ],
      "text/plain": [
       "|- forall_{eps in {1...2^{t - 1} - 2}} ({eps + 1...2^{t - 1}} subset_eq Integer)"
      ]
     },
     "execution_count": 17,
     "metadata": {},
     "output_type": "execute_result"
    }
   ],
   "source": [
    "pos_domain_within_integer"
   ]
  },
  {
   "cell_type": "code",
   "execution_count": 18,
   "metadata": {},
   "outputs": [
    {
     "data": {
      "text/html": [
       "<span style=\"font-size:20px;\"><a class=\"ProveItLink\" href=\"../../../__pv_it/theorems/e43ddd3286788e9f0d072354a6e39dc9d2c56cf30/expr.ipynb\"><img src=\"data:image/png;base64,iVBORw0KGgoAAAANSUhEUgAAAKoAAAAZBAMAAABTBqhqAAAAMFBMVEX///92dnZUVFSIiIgiIiIy\n",
       "MjLc3Nyqqqru7u7MzMxmZma6uroQEBBERESYmJgAAAB0ptS+AAAAAXRSTlMAQObYZgAAAbJJREFU\n",
       "SMdjYCAfcF5goB6IhBm6yoF6hnJ8gLG4qWgquwOZpvKtwy3HtiRqAl5TZ1ng8GMgPitZCwi4dc8E\n",
       "7E79gCtIV92dwMCfgNNUsDwDVwBWzYwg1ewnMCWaGBh/M8xhYNh7FwgaME0Fy0O0Yze1SegHpsQK\n",
       "BoYzDEYcCbjcCpZHM/Wti0sAwq18WEw9wsCgn7CYETM1IMujmjrXAiUEsJka38CgP2GSJTw1fDLA\n",
       "Ig/VfufsBlBIRzAQNBUI/BvwJ0qgPOMBIL1uAvcDIMUEj1oGpgCcpnJ/xG8oSB6UhLihqYsXIVUz\n",
       "AaepLAr4TQXLRwF9XnELzJ8TCgTg2JrrxoDT1FVYEnEoGExAyDM5M3BAAyoXLXNgNZV5AX6nQuSD\n",
       "GBg6oQI8CDmmC7hMrWJgS8BnKlgeFK6VwCQCEuAyIJwGOAUYmPGZCpEHpYHUCRzPwULuqKYyg03t\n",
       "B4Y0x1cogyFFUEoFn1Mh8iDt3DG+kIBuut2AZCqXztd1sDh1gjHi////gs9UiDxqjt14BTnHkg9w\n",
       "lS4HaGEqzvKVOICjfGUIpMjUPRtwVHjrKDAUVG8BAOOcc6xuWJhQAAAAAElFTkSuQmCC\n",
       "\" style=\"display:inline;vertical-align:middle;\" /></a> <a class=\"ProveItLink\" href=\"../../../__pv_it/_proof_fail_ineq_lemma/d74c23c6ab52bf8563cd12f010464c4a982226820/proof.ipynb\" style=\"text-decoration: none\">&nbsp;&#x22A2;&nbsp;&nbsp;</a><a class=\"ProveItLink\" href=\"../../../__pv_it/theorems/3b1a1123383cb01aa7da93f76d921da792e226b20/expr.ipynb\"><img src=\"data:image/png;base64,iVBORw0KGgoAAAANSUhEUgAAALEAAAAZBAMAAACMSNJ1AAAAMFBMVEX///+IiIi6urrc3NxERETM\n",
       "zMwQEBCqqqpUVFQiIiJ2dnYyMjLu7u5mZmaYmJgAAABN0h6tAAAAAXRSTlMAQObYZgAAAfVJREFU\n",
       "SMdjYCAfhDBQF3AHQBmxN6ls8nk4S5PKJlcSbzLfPVIMtp19FdnkWBncSnl2kebm7ahuVgvA7eQP\n",
       "RBt69oorA8NnVJN5N6Cr0szP3jY7D8jgmoDVlLIDmL5rYFivwJrAwOQCBD5Qk+HaX8ycOXMqiCFy\n",
       "lYGbwQHD5EKoIV39mCbzHmBgS2BsOIziZph268Uw4VsMDMu5FHCZzMDwHtNktgkMHJ95BRagpBKY\n",
       "9s1wZXcYmBtiGUgymfsPA8dX1kZYlNnOb0Ro5y1AUshywAdu8pM0J8ImAwHnH3QRrgSIBLLYQ74H\n",
       "IIoDGLm8Txn0iDJZfwGOpGWBHNMORyCJAOg7VaJCAwhmYArtBZNHkEQ4AprBBdZkIHH8yAUQe/Xu\n",
       "3dN2796B22TeC5hiHBPRQ0OXCeIzUCY6Q6SbZbGIQRzCJYAQ2cAC5AO1czgw8AQQZzL7BQZjXFkY\n",
       "kem5ChYBUygkbbADTTYgwuQoBgZhHGmD4UQTTIMFcwMDwzWIycxbGc4VoJksD1LI8xtUIG+AEsyz\n",
       "Vt3AKArg2SHKE5q7fVgOMJx4ApXSznRFC40b+XsfQNMCZwOU4P7//z9uk2GAKWWbi9s3X9x5kFiA\n",
       "o0BDDigIOENFk0kon7EBaPnMNXMmrBRFgF0UmaymgFuO/R4FBuOuBwHux5LHBN8b6AAAAABJRU5E\n",
       "rkJggg==\n",
       "\" style=\"display:inline;vertical-align:middle;\" /></a></span>"
      ],
      "text/plain": [
       "{eps in {1...2^{t - 1} - 2}} |- {eps + 1...2^{t - 1}} subset_eq Integer"
      ]
     },
     "execution_count": 18,
     "metadata": {},
     "output_type": "execute_result"
    }
   ],
   "source": [
    "pos_domain_within_integer.instantiate()"
   ]
  },
  {
   "cell_type": "code",
   "execution_count": 19,
   "metadata": {},
   "outputs": [
    {
     "data": {
      "text/html": [
       "<span style=\"font-size:20px;\"><a class=\"ProveItLink\" href=\"../../../__pv_it/theorems/e43ddd3286788e9f0d072354a6e39dc9d2c56cf30/expr.ipynb\"><img src=\"data:image/png;base64,iVBORw0KGgoAAAANSUhEUgAAAKoAAAAZBAMAAABTBqhqAAAAMFBMVEX///92dnZUVFSIiIgiIiIy\n",
       "MjLc3Nyqqqru7u7MzMxmZma6uroQEBBERESYmJgAAAB0ptS+AAAAAXRSTlMAQObYZgAAAbJJREFU\n",
       "SMdjYCAfcF5goB6IhBm6yoF6hnJ8gLG4qWgquwOZpvKtwy3HtiRqAl5TZ1ng8GMgPitZCwi4dc8E\n",
       "7E79gCtIV92dwMCfgNNUsDwDVwBWzYwg1ewnMCWaGBh/M8xhYNh7FwgaME0Fy0O0Yze1SegHpsQK\n",
       "BoYzDEYcCbjcCpZHM/Wti0sAwq18WEw9wsCgn7CYETM1IMujmjrXAiUEsJka38CgP2GSJTw1fDLA\n",
       "Ig/VfufsBlBIRzAQNBUI/BvwJ0qgPOMBIL1uAvcDIMUEj1oGpgCcpnJ/xG8oSB6UhLihqYsXIVUz\n",
       "AaepLAr4TQXLRwF9XnELzJ8TCgTg2JrrxoDT1FVYEnEoGExAyDM5M3BAAyoXLXNgNZV5AX6nQuSD\n",
       "GBg6oQI8CDmmC7hMrWJgS8BnKlgeFK6VwCQCEuAyIJwGOAUYmPGZCpEHpYHUCRzPwULuqKYyg03t\n",
       "B4Y0x1cogyFFUEoFn1Mh8iDt3DG+kIBuut2AZCqXztd1sDh1gjHi////gs9UiDxqjt14BTnHkg9w\n",
       "lS4HaGEqzvKVOICjfGUIpMjUPRtwVHjrKDAUVG8BAOOcc6xuWJhQAAAAAElFTkSuQmCC\n",
       "\" style=\"display:inline;vertical-align:middle;\" /></a> <a class=\"ProveItLink\" href=\"../../../__pv_it/_proof_fail_ineq_lemma/9f64f2105d3163e1be0507b91d8b43746a013d630/proof.ipynb\" style=\"text-decoration: none\">&nbsp;&#x22A2;&nbsp;&nbsp;</a><a class=\"ProveItLink\" href=\"../../../__pv_it/theorems/3079415f6355ca0d12ce77142425201ba0e453290/expr.ipynb\"><img src=\"data:image/png;base64,iVBORw0KGgoAAAANSUhEUgAAAQsAAAAZBAMAAADUEhZFAAAAMFBMVEX///+IiIi6urrc3NxERETM\n",
       "zMwQEBCqqqpUVFQiIiJ2dnYyMjLu7u5mZmaYmJgAAABN0h6tAAAAAXRSTlMAQObYZgAAAolJREFU\n",
       "SMdjYMADWB0YBhBshbni7oQBdAXPBxiLaSCdwT5hQJzBdw+Fy3xzbwCNnBErgycOdqEJcBdQEBp2\n",
       "uILYAESqBeAOjA9ITrrrEsDAb0C+M3hw5q1mEMG7AV1YMz972+w8IIMLya4TDFyfGMIYGFRcgOAA\n",
       "NmeUHcDrDG4DbKIgTacZkO16MXPmzKkghshVBm4GBzRn3GFgSGOQ4DHACI1CqGe7+vE74y0yB0UT\n",
       "lwCSXdaLYWpuMTAs51JAc0YmA0O/wUUuzDxTCGO8x++MyVicAdHEk4Bk12YkjzM3xDKgOWP/AYb+\n",
       "gAhReJ75IUCaM5gn4HQGwyaEXbwFSKpYDvigOwMI5mO1h0hnMF4AEk/SnLBpWguyKwHM50TW85Dv\n",
       "AYjiQEm9TL8YKHAGC9BE3qcMetg0vUbkSguUvHUEkoxR8jJnAyXO4ASGtioOTZUg1l4w/wiSFo4A\n",
       "cFYOAaWq07tBAFSl3cVi+Ordu6ft3r0DlzN4wJp3g3zDBkzzx49cwKopHmzpRPRI0WVawIBRsoEj\n",
       "l/zQADnjDA5NYGdAnMUlgNCygQXIB8pzIBd8tQzMBpRFCk8ADk2aSCX2drgaroJFQNej5RTWBQyM\n",
       "BpQlUXagMwxwJVFoTmE40QQzxoIZmBivoTnDctXaTvyRIg/Sz/MbSJzfAGUgAa4LDMxbGc4VYNN0\n",
       "C9muKE9oYe7DcoDhxBP04uv//594nXEjfy8ol8+A5akZqMpApb92pitWTVsxyyighpRtLm7ffLFJ\n",
       "4Q0NAmAyTk08E/DbBYsvvOAMkc54i1MTStVGoL1BMWAxwCVzGqm9wTVzJqyiR4Bd1GxO42z2OIPL\n",
       "KAU8TeB7VHQHrkYgnwHetigAQwXVgE1/7v4AAAAASUVORK5CYII=\n",
       "\" style=\"display:inline;vertical-align:middle;\" /></a></span>"
      ],
      "text/plain": [
       "{eps in {1...2^{t - 1} - 2}} |- {-2^{t - 1} + 1...-(eps + 1)} subset_eq Integer"
      ]
     },
     "execution_count": 19,
     "metadata": {},
     "output_type": "execute_result"
    }
   ],
   "source": [
    "neg_domain_within_integer.instantiate()"
   ]
  },
  {
   "cell_type": "code",
   "execution_count": 20,
   "metadata": {},
   "outputs": [],
   "source": [
    "#fail_sum_inst.rhs.deduce_bound([first_sum_bound, first_sum_bound])"
   ]
  }
 ],
 "metadata": {
  "kernelspec": {
   "display_name": "Python 3",
   "language": "python",
   "name": "python3"
  },
  "language_info": {
   "codemirror_mode": {
    "name": "ipython",
    "version": 3
   },
   "file_extension": ".py",
   "mimetype": "text/x-python",
   "name": "python",
   "nbconvert_exporter": "python",
   "pygments_lexer": "ipython3",
   "version": "3.7.3"
  }
 },
 "nbformat": 4,
 "nbformat_minor": 1
}
