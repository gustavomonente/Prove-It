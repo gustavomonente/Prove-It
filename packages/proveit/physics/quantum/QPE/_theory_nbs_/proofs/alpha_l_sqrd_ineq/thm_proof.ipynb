{
 "cells": [
  {
   "cell_type": "markdown",
   "metadata": {},
   "source": [
    "Proof of <a class=\"ProveItLink\" href=\"../../../../../../_theory_nbs_/theory.ipynb\">proveit</a>.<a class=\"ProveItLink\" href=\"../../../../../_theory_nbs_/theory.ipynb\">physics</a>.<a class=\"ProveItLink\" href=\"../../../../_theory_nbs_/theory.ipynb\">quantum</a>.<a class=\"ProveItLink\" href=\"../../theory.ipynb\">QPE</a>.<a class=\"ProveItLink\" href=\"../../theorems.ipynb#alpha_l_sqrd_ineq\">alpha_l_sqrd_ineq</a> theorem\n",
    "========"
   ]
  },
  {
   "cell_type": "code",
   "execution_count": 1,
   "metadata": {},
   "outputs": [],
   "source": [
    "import proveit\n",
    "theory = proveit.Theory() # the theorem's theory"
   ]
  },
  {
   "cell_type": "code",
   "execution_count": 2,
   "metadata": {},
   "outputs": [
    {
     "data": {
      "text/html": [
       "Under these <a href=\"presumptions.txt\">presumptions</a>, we begin our proof of<br><strong id=\"alpha_l_sqrd_ineq\">alpha_l_sqrd_ineq:</strong> <a class=\"ProveItLink\" href=\"../../../__pv_it/theorems/9f743f92f8370e4a37572464aececf142e1b21290/expr.ipynb\"><img src=\"data:image/png;base64,iVBORw0KGgoAAAANSUhEUgAAAcUAAAA/BAMAAABjkc58AAAAMFBMVEX///8QEBCIiIhmZma6urrM\n",
       "zMxUVFQiIiJERETc3Nzu7u6qqqp2dnaYmJgyMjIAAAAcRTyBAAAAAXRSTlMAQObYZgAABqBJREFU\n",
       "aN7dm22IVFUYgN+5O3dm7p17Z6yIWksciyJIcHF+KH3oUET+CByDNCJyoyTohztsXxjKDkkxGrFT\n",
       "gfpHuhoZSLQbJiQGjrsSpMIO+aP6YTtiH+DC7pa75m7qdM79mPvej3HvbnPfgQ6c3fHdc8+5z5z3\n",
       "vF/3CkDcfiBcK9oF7WjJAuVq77SF8cM85WoHcu1g7CVdLdrZBkSlRrvemjYwfkKsPAOD9Iwlar1Z\n",
       "RG9VZ4gXlP8iZ0wVqVcc0ahX3FxtmUYsDmgAqtSMPa2a6NB3swE1p0Z9Oq60bCo1IKNAbQHUKXJG\n",
       "+RoxY2KSnBEuEDOmi/SMI3laxvUVP+nwTi1ExvUZYmflF8kp5VgtRMYBYpc84bdh8bI4EyJjnDia\n",
       "+9v3JnLSVIiMMVrnIV1tErPMhsgoXKeNyC/rv0Sssc/xnVyAWRCCMqq0DlIwkgAFW55T3LDOf6qO\n",
       "F288GrAUwGIr3aadJ2Hs+MeXUQ21eibdADjDP1wiYYxN+TI+BU/YW/1Gy1f9E2AfZ6XxIakZP0Zx\n",
       "7Phu619fhFDSWsoWZhZAoal6RGb9GCP1uhXGfrwjhFWXaqCePnx4L1G4Oulvc6y2ZyyMVfvKAFdL\n",
       "pe3kjEP35jyMz/4KYTFuAdg198hXWzDCZtybkzvlwUOTmDHxbkgBJEs8Hge5BnKjCvF8FecDeyyp\n",
       "XT4Ri9BshPggmptNtHy5Q2QzMsXZKWjRAmYUerVQGPsZYxwEhvWk5U4WO/KBxlOmtxuI2ULzETE7\n",
       "eWITqZVkNxYNLDIZO5jxWaOA0uXQVXW7BZmut6QZX2k/OxVKNW7EGvK32SokazgfUF6rYsaYHjgU\n",
       "mo+wr+Yf4zmYxaIGY4SpwsnTkKg6bU7yYjmMfWSMUm0j+/QBwE/HDuO71POBgmMfEy5Gzwgn40Ae\n",
       "7nIwWro6wPZ2ZBDSZScjRH9vWdKurH4IMcKul9mPGfOBJLollg/wk5rNZh/2Z/SOcDJuLsMOLGqc\n",
       "xzTbwJMAG1y+gx2EUq5FjN/DVmRz4Ai7aXERpMDNGM8ku6o32UfvCBejBr2+jB3doI6I8ICHEaQt\n",
       "LWLcxr9hmzHNUhuhCJ8aMSUquQyDtNIc+PTlQT9G9wjZft7HJmKr3IpFtl09e77aMaQ/5T0Vki9+\n",
       "vfGIrI8zqsycJTKwqVQqZcSdTLCOfSppnnxg6/iF8fEqZvRmDJsq5tV8InYep3RRk1ju9nx4jAAn\n",
       "NDsGMJZ/xjCaeB9xPmC6adc+ekY491G3q0gUdzFOZsJk7LVjclONBFDyzvOI8wHMmCyAtBv2adJu\n",
       "7wjneRS6mH9EosS0k/GRHGb88i3e5p1b/dbMsFo6Vm+kr2yt9513ifIBzCitupIRO2FDWez0jnAy\n",
       "wvJhh6hJjjx3299cJuM7eOwoHGO/eIdzlmo5CmUCO48Ou+ppiTkrNjXPRyQyy0cCdoL3NZlJREdd\n",
       "LoLQ5/KcTCZnS3nHuzDq1/35GDt9vEcrUeMK8erN7rLljMl5lI/i3Si3Zvc86s63y3AIlClp1UUb\n",
       "PgYyj731/sLxbzRcKGtiNXxqI3NWMyqeiZBInMejuWWIkavdatffmYwFMrdACqX3CnfVQ0ZfWq83\n",
       "rz1+9B8evIpnPBM5RDeCV5p+6cb+HJijdft4uAOgp5xGIW6U11IOmL1hBKZJa4/QFzzcTNmMEjty\n",
       "kutOuWxCg578Biz9gytxzugNpZ6kZVwbOOT+GTEKzPyorjsVDJPUp90v2xt5cEXF8BkKMljpAi3j\n",
       "iaDnQM4gRp6CxVyVw4Q+U/QarFTsk3KJP8NVa0a32mbidx8HuoOqKhiMummMM7MSybjM7qBpfDfq\n",
       "zkfmPw7k1WnjxUrsUFYQv2kVD6o3Rw1GWTdSEXa69CRCHtdb3pQBZBtfXk03vSJjFCeNbrUeWkRQ\n",
       "Aj4nkyvmPr5pMS5zl2pz9qG0vOkSEGe9jHcSM0oB3+xKvpRde1sG6+V7so+uHgEJeQ55GtSCkTKg\n",
       "tCF6nZhRN+7BWsRpc64rXpsjVkDABaBpXeqyObFZasbRwM4jUnRkEFMHvVnF3rPDr2DZEKzjPr9i\n",
       "dMt1kL9Snq4EPbn9Vxp+hmveOdeFXDZRrztyCuUezpPKG33e32rLjM7ihVy1LaBMb5+b3WzjQN7u\n",
       "XshF5wLKTI01urnf0/SMo9oCLkqUg8l062rmVla02ob/4ZGqLOAiuRhMZrEj/q80ekZxQW/L7A8o\n",
       "48G82c22BNrQfiRdLdbdDsZY1//3G220McK1pM72MH5GyWgYn38BYnw7HFD+xwkAAAAASUVORK5C\n",
       "YII=\n",
       "\" style=\"display:inline;vertical-align:middle;\" /></a><br>(see <a class=\"ProveItLink\" href=\"../../../__pv_it/theorems/32d1dda83b6cb2ae9e4ab7b0243fc886975d43ef0/dependencies.ipynb\">dependencies</a>)<br>"
      ],
      "text/plain": [
       "alpha_l_sqrd_ineq: forall_{l in {-2^{t - 1} + 1...2^{t - 1}} - {0}} (|alpha_{l}|^{2} <= (1 / (4 * (l - (2^{t} * delta))^{2})))"
      ]
     },
     "execution_count": 2,
     "metadata": {},
     "output_type": "execute_result"
    }
   ],
   "source": [
    "%proving alpha_l_sqrd_ineq"
   ]
  },
  {
   "cell_type": "code",
   "execution_count": null,
   "metadata": {},
   "outputs": [],
   "source": []
  }
 ],
 "metadata": {
  "kernelspec": {
   "display_name": "Python 3",
   "language": "python",
   "name": "python3"
  }
 },
 "nbformat": 4,
 "nbformat_minor": 0
}