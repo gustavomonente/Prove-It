{
 "cells": [
  {
   "cell_type": "code",
   "execution_count": null,
   "metadata": {},
   "outputs": [],
   "source": [
    "from proveit import specialStatementMagic # for %begin_theorems and %end_theorems\n",
    "from proveit.expression import Lambda\n",
    "from proveit.basiclogic import In, NotIn, Forall, Equals, NotEquals, And\n",
    "from proveit.number import Summation, DiscreteContiguousSet, Abs, Neg, Add, subtract, Multiply, frac, \\\n",
    "    Exponentiate, sqrt\n",
    "from proveit.number import GreaterThan, GreaterThanEquals, LessThan, LessThanEquals, DiscreteContiguousSet, Mod\n",
    "from proveit.number.arithmeticOps import Integrate, IntervalCC, IntervalCO, IntervalOO\n",
    "from proveit.statistics import Prob\n",
    "from proveit.common import a, b, l, t, eps, k\n",
    "from proveit.number.common import zero, one, two, three, four, five, eight, e, pi, i, Reals, Natural, NaturalPos, Integer, Complexes, EvenFuncs, MonDecFuncs\n",
    "from proveit.linalg import MatrixProd, ScalarProd\n",
    "from proveit.physics.quantum import Bra, Ket, Circuit, Gate, Input, Output, MultiWire\n",
    "from proveit.physics.quantum.common import ket0, ket1, Hgate, CTRL_DN, invRoot2\n",
    "from proveit.physics.quantum.QPE.common import u_, n_, t_, phase_, m_, b_, delta_, two_pow_t, two_pow_t_minus_one, \\\n",
    "  alpha_l, alpha_l_sqrd, fullDomain, negDomain, posDomain, epsDomain, U_pow_two_pow_k \n",
    "from proveit.physics.quantum.QPE.phaseEstOps import Psuccess, Pfail, ModAdd\n",
    "from IPython.display import display\n"
   ]
  },
  {
   "cell_type": "markdown",
   "metadata": {},
   "source": [
    "Convenience methods for building expressions:"
   ]
  },
  {
   "cell_type": "code",
   "execution_count": null,
   "metadata": {},
   "outputs": [],
   "source": [
    "# transferred\n",
    "def exp2pi_i(*exp_factors):\n",
    "    return Exponentiate(e, Multiply(*((two, pi, i) + exp_factors)))\n",
    "\n",
    "# transferred\n",
    "def exp2pi_i_on_two_pow_t(*exp_factors):\n",
    "    return Exponentiate(e, frac(Multiply(*((two, pi, i) + exp_factors)), two_pow_t))\n",
    "\n",
    "# transferred\n",
    "def expNeg2pi_i_on_two_pow_t(*exp_factors):\n",
    "    return Exponentiate(e, frac(Neg(Multiply(*((two, pi, i) + exp_factors))), two_pow_t))\n",
    "\n",
    "display(exp2pi_i(a, b))\n",
    "display(exp2pi_i_on_two_pow_t(a, b))\n",
    "display(expNeg2pi_i_on_two_pow_t(a, b))"
   ]
  },
  {
   "cell_type": "code",
   "execution_count": null,
   "metadata": {},
   "outputs": [],
   "source": [
    "%begin_theorems"
   ]
  },
  {
   "cell_type": "markdown",
   "metadata": {},
   "source": [
    "Take care of number domain issues:"
   ]
  },
  {
   "cell_type": "code",
   "execution_count": null,
   "metadata": {},
   "outputs": [],
   "source": [
    "# transferred\n",
    "two_pow_t_in_posnat = In(two_pow_t, NaturalPos)\n",
    "two_pow_t_in_posnat"
   ]
  },
  {
   "cell_type": "code",
   "execution_count": null,
   "metadata": {},
   "outputs": [],
   "source": [
    "# transferred\n",
    "two_pow_tMinusOne_in_posnat = In(Exponentiate(two, subtract(t_, one)), NaturalPos)\n",
    "two_pow_tMinusOne_in_posnat"
   ]
  },
  {
   "cell_type": "code",
   "execution_count": null,
   "metadata": {},
   "outputs": [],
   "source": [
    "# transferred\n",
    "two_pow_t_less_one_in_posnat = In(subtract(two_pow_t, one), NaturalPos)\n",
    "two_pow_t_less_one_in_posnat"
   ]
  },
  {
   "cell_type": "code",
   "execution_count": null,
   "metadata": {},
   "outputs": [],
   "source": [
    "# transferred\n",
    "two_pow_t_not_zero = NotEquals(two_pow_t, zero)\n",
    "two_pow_t_not_zero"
   ]
  },
  {
   "cell_type": "code",
   "execution_count": null,
   "metadata": {},
   "outputs": [],
   "source": [
    "# transferred\n",
    "modAddClosure = Forall((a, b), In(ModAdd(a, b), Integer), domain=Integer)\n",
    "modAddClosure"
   ]
  },
  {
   "cell_type": "code",
   "execution_count": null,
   "metadata": {},
   "outputs": [],
   "source": [
    "# transferred\n",
    "phaseInReals = In(phase_, Reals)\n",
    "phaseInReals"
   ]
  },
  {
   "cell_type": "code",
   "execution_count": null,
   "metadata": {},
   "outputs": [],
   "source": [
    "# transferred\n",
    "bestInInt = In(b_, Integer)\n",
    "bestInInt"
   ]
  },
  {
   "cell_type": "code",
   "execution_count": null,
   "metadata": {},
   "outputs": [],
   "source": [
    "# transferred\n",
    "posDomainInFullDomain = Forall(eps, Forall(l, In(l, fullDomain), domain=posDomain), domain=NaturalPos)\n",
    "posDomainInFullDomain"
   ]
  },
  {
   "cell_type": "code",
   "execution_count": null,
   "metadata": {},
   "outputs": [],
   "source": [
    "# transferred\n",
    "negDomainInFullDomain = Forall(eps, Forall(l, In(l, fullDomain), domain=negDomain), domain=NaturalPos)\n",
    "negDomainInFullDomain"
   ]
  },
  {
   "cell_type": "markdown",
   "metadata": {},
   "source": [
    "This derives from $\\delta$ being the difference between $\\delta$ and its best $t$-bit estimate (without going over):"
   ]
  },
  {
   "cell_type": "code",
   "execution_count": null,
   "metadata": {},
   "outputs": [],
   "source": [
    "# transferred\n",
    "scaledDeltaInInterval = In(Multiply(two_pow_t, delta_), IntervalCO(zero, one))\n",
    "scaledDeltaInInterval"
   ]
  },
  {
   "cell_type": "code",
   "execution_count": null,
   "metadata": {},
   "outputs": [],
   "source": [
    "# transferred\n",
    "deltaInReals = In(delta_, Reals)\n",
    "deltaInReals"
   ]
  },
  {
   "cell_type": "code",
   "execution_count": null,
   "metadata": {},
   "outputs": [],
   "source": [
    "# transferred\n",
    "successProbInReals = Forall(eps, In(Psuccess(eps), Reals), domain=NaturalPos)\n",
    "successProbInReals"
   ]
  },
  {
   "cell_type": "code",
   "execution_count": null,
   "metadata": {},
   "outputs": [],
   "source": [
    "# transferred\n",
    "all_alpha_l_in_complexes = Forall(l, In(alpha_l, Complexes), Integer)\n",
    "all_alpha_l_in_complexes"
   ]
  },
  {
   "cell_type": "code",
   "execution_count": null,
   "metadata": {},
   "outputs": [],
   "source": [
    "# transferred\n",
    "all_abs_alpha_l_nonneg = Forall(l, And(In(Abs(alpha_l), Reals), GreaterThanEquals(Abs(alpha_l), zero)), Integer)\n",
    "all_abs_alpha_l_nonneg"
   ]
  },
  {
   "cell_type": "markdown",
   "metadata": {},
   "source": [
    "Follows from scaledDeltaInInterval:"
   ]
  },
  {
   "cell_type": "code",
   "execution_count": null,
   "metadata": {},
   "outputs": [],
   "source": [
    "# transferred\n",
    "scaledDelta_notEq_nonzeroInt = Forall(l, NotEquals(Multiply(two_pow_t, delta_), l), domain=Integer, conditions = NotEquals(l, zero))\n",
    "scaledDelta_notEq_nonzeroInt"
   ]
  },
  {
   "cell_type": "code",
   "execution_count": null,
   "metadata": {},
   "outputs": [],
   "source": [
    "# transferred\n",
    "delta_notEq_scaledNonzeroInt = Forall(l, NotEquals(delta_, frac(l, two_pow_t)), domain=Integer, conditions = NotEquals(l, zero))\n",
    "delta_notEq_scaledNonzeroInt"
   ]
  },
  {
   "cell_type": "code",
   "execution_count": null,
   "metadata": {},
   "outputs": [],
   "source": [
    "# transferred\n",
    "deltaDiffInInterval = Forall(l, In(subtract(delta_, frac(l, two_pow_t)), IntervalCO(Neg(Fraction(one, two)), frac(one, two))), domain=fullDomain)\n",
    "deltaDiffInInterval"
   ]
  },
  {
   "cell_type": "code",
   "execution_count": null,
   "metadata": {},
   "outputs": [],
   "source": [
    "# transferred\n",
    "scaledDeltaDiffInInterval = Forall(l, In(Multiply(two, pi, subtract(delta_, frac(l, two_pow_t))), IntervalCC(Neg(pi), pi)), domain=fullDomain)\n",
    "scaledDeltaDiffInInterval"
   ]
  },
  {
   "cell_type": "code",
   "execution_count": null,
   "metadata": {},
   "outputs": [],
   "source": [
    "# transferred\n",
    "nonIntDeltaDiff = Forall(l, NotIn(subtract(delta_, frac(l, two_pow_t)), Integer), \n",
    "                         domain=fullDomain,\n",
    "                         conditions = [NotEquals(l, zero)])\n",
    "nonIntDeltaDiff"
   ]
  },
  {
   "cell_type": "markdown",
   "metadata": {},
   "source": [
    "Success probability as sum of individual success event probabilities:"
   ]
  },
  {
   "cell_type": "code",
   "execution_count": null,
   "metadata": {},
   "outputs": [],
   "source": [
    "# transferred\n",
    "success_sum = Forall(eps, GreaterThanEquals(Psuccess(eps), Summation(l, Prob(Equals(m_, ModAdd(b_, l)), m_), \n",
    "                                                          DiscreteContiguousSet(Neg(eps), eps))),\n",
    "                    domain=NaturalPos)\n",
    "success_sum"
   ]
  },
  {
   "cell_type": "markdown",
   "metadata": {},
   "source": [
    "Failure probability as sum of individual failure event probabilities in terms of $\\alpha_l$, amplitude of $\\lvert \\Psi \\rangle$ for a state specified relative to $b$ (the best outcome state):"
   ]
  },
  {
   "cell_type": "code",
   "execution_count": null,
   "metadata": {},
   "outputs": [],
   "source": [
    "# transferred\n",
    "fail_sum = Forall(eps, LessThanEquals(Pfail(eps), Add(Summation(l, alpha_l_sqrd, \n",
    "                                                            negDomain),\n",
    "                                                  Summation(l, alpha_l_sqrd, \n",
    "                                                            posDomain))),\n",
    "                 domain=epsDomain)\n",
    "fail_sum"
   ]
  },
  {
   "cell_type": "markdown",
   "metadata": {},
   "source": [
    "Modulo addition may be converted to regular addition within $2 \\pi i$ exponentiation:"
   ]
  },
  {
   "cell_type": "code",
   "execution_count": null,
   "metadata": {},
   "outputs": [],
   "source": [
    "# transferred\n",
    "exp2pi_i_modadd = Forall((a, b), Equals(exp2pi_i_on_two_pow_t(ModAdd(a, b)), \n",
    "                                       exp2pi_i_on_two_pow_t(Add(a, b))), domain=Integer)\n",
    "exp2pi_i_modadd"
   ]
  },
  {
   "cell_type": "markdown",
   "metadata": {},
   "source": [
    "Direct evaluation of $\\alpha_l$ (via an intermediate step first):"
   ]
  },
  {
   "cell_type": "code",
   "execution_count": null,
   "metadata": {},
   "outputs": [],
   "source": [
    "# transferred but NOT updated\n",
    "# Circuit() class still broken as of this writing (2/18/2020)\n",
    "from proveit.expression import LATEX\n",
    "intermediateQPE = Forall(k, \n",
    "                         Circuit([[Input(ket0), Hgate, CTRL_DN, \n",
    "                                   Output(Add(ScalarProd(invRoot2, ket0), \n",
    "                                              ScalarProd(frac(exp2pi_i(phase_, Exponentiate(two, k)), \n",
    "                                                                  sqrt(two)), \n",
    "                                                         ket1)))],\n",
    "                                  [Input(Ket(u_)), MultiWire(n_), Gate(U_pow_two_pow_k), Output(Ket(u_))]]),\n",
    "                         domain=Natural)\n",
    "print(intermediateQPE.formatted(LATEX))"
   ]
  },
  {
   "cell_type": "code",
   "execution_count": null,
   "metadata": {},
   "outputs": [],
   "source": [
    "# transferred\n",
    "alpha_l_eval = Forall(l, Equals(alpha_l, \n",
    "                                Multiply(frac(one, two_pow_t),\n",
    "                                         Summation(k, Multiply(expNeg2pi_i_on_two_pow_t(k, ModAdd(b_, l)), \n",
    "                                                          exp2pi_i(phase_, k)),\n",
    "                                                   DiscreteContiguousSet(zero, subtract(two_pow_t, one))))),\n",
    "                     domain=Integer)\n",
    "alpha_l_eval"
   ]
  },
  {
   "cell_type": "markdown",
   "metadata": {},
   "source": [
    "Evaluation of $\\alpha_l$ after performing the geometric series summation in terms of $\\delta$:"
   ]
  },
  {
   "cell_type": "code",
   "execution_count": null,
   "metadata": {},
   "outputs": [],
   "source": [
    "# transferred\n",
    "phaseFromBest = Equals(phase_, Add(frac(b_, two_pow_t), delta_))\n",
    "phaseFromBest"
   ]
  },
  {
   "cell_type": "code",
   "execution_count": null,
   "metadata": {},
   "outputs": [],
   "source": [
    "# transferred\n",
    "alpha_l_summed = Forall(l, Equals(alpha_l, Multiply(frac(one, two_pow_t), \n",
    "                                                    frac(subtract(one, exp2pi_i(subtract(Multiply(two_pow_t, delta_), l))),\n",
    "                                                             subtract(one, exp2pi_i(subtract(delta_, frac(l, two_pow_t))))))),\n",
    "                       domain=Integer)\n",
    "alpha_l_summed"
   ]
  },
  {
   "cell_type": "code",
   "execution_count": null,
   "metadata": {},
   "outputs": [],
   "source": [
    "# transferred\n",
    "alpha_l_summed_abs = Forall(l,\n",
    "                           Equals(Abs(alpha_l),\n",
    "                        frac(\n",
    "                                Abs(subtract(one,\n",
    "                                            Exponentiate(e,\n",
    "                                                        Multiply(two,pi,i,\n",
    "                                                                subtract(\n",
    "                                                                        Multiply(\n",
    "                                                                                Exponentiate(two,t_),delta_),\n",
    "                                                                        l)\n",
    "                )))\n",
    "    ),\n",
    "                            Multiply(Exponentiate(two,t_),    \n",
    "                            Abs(subtract(one,\n",
    "                                            Exponentiate(e,\n",
    "                                                        Multiply(two,pi,i,\n",
    "                                                                subtract(\n",
    "                                                                        delta_,\n",
    "                                                                        frac(l,Exponentiate(two,t_))\n",
    "                                \n",
    "\n",
    ")\n",
    "                                                                 )\n",
    "                    )\n",
    "                                             )\n",
    "                                    ))\n",
    "        )\n",
    "    ),\n",
    "                           domain=Integer)\n",
    "alpha_l_summed_abs"
   ]
  },
  {
   "cell_type": "markdown",
   "metadata": {},
   "source": [
    "$| \\alpha_l |^2$ inequality to bound the failure probability:"
   ]
  },
  {
   "cell_type": "code",
   "execution_count": null,
   "metadata": {},
   "outputs": [],
   "source": [
    "# transferred\n",
    "alpha_l_sqrd_ineq = Forall(l, LessThanEquals(alpha_l_sqrd, \n",
    "                                             frac(one, \n",
    "                                                      Multiply(four, \n",
    "                                                               Exponentiate(subtract(l, \n",
    "                                                                                     Multiply(two_pow_t, \n",
    "                                                                                              delta_)), \n",
    "                                                                            two)))),\n",
    "                           domain=fullDomain,\n",
    "                           conditions=NotEquals(l, zero))\n",
    "alpha_l_sqrd_ineq"
   ]
  },
  {
   "cell_type": "markdown",
   "metadata": {},
   "source": [
    "A bound on the failure probability:"
   ]
  },
  {
   "cell_type": "code",
   "execution_count": null,
   "metadata": {},
   "outputs": [],
   "source": [
    "# transferred\n",
    "fail_ineq = Forall(eps, LessThanEquals(Pfail(eps), Multiply(frac(one,two), \n",
    "                                                            Add(frac(one,eps), \n",
    "                                                                frac(one, Exponentiate(eps, two))))), \n",
    "                   domain=epsDomain)\n",
    "fail_ineq"
   ]
  },
  {
   "cell_type": "code",
   "execution_count": null,
   "metadata": {},
   "outputs": [],
   "source": [
    "%end_theorems"
   ]
  },
  {
   "cell_type": "code",
   "execution_count": null,
   "metadata": {},
   "outputs": [],
   "source": []
  },
  {
   "cell_type": "code",
   "execution_count": null,
   "metadata": {},
   "outputs": [],
   "source": []
  }
 ],
 "metadata": {
  "kernelspec": {
   "display_name": "Python 3",
   "language": "python",
   "name": "python3"
  }
 },
 "nbformat": 4,
 "nbformat_minor": 0
}
