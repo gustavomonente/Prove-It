{
 "cells": [
  {
   "cell_type": "code",
   "execution_count": null,
   "metadata": {},
   "outputs": [],
   "source": [
    "import proveit.specialStatementMagic # for %begin_axioms and %end_axioms\n",
    "from proveit.expression import Operation\n",
    "from proveit.basiclogic import Forall, In, Equals\n",
    "from proveit.number import Add, subtract, Multiply, Exponentiate, frac, Abs, Floor\n",
    "from proveit.number import GreaterThanEquals, LessThanEquals, Mod, ModAbs, Round, IntervalCO, DiscreteContiguousSet\n",
    "from proveit.number.common import e, i, zero, one, two, pi, two_pi, Integers, NaturalPos, Reals\n",
    "from proveit.number import Natural\n",
    "from proveit.trigonometry import AngDiff\n",
    "from proveit.linalg import MatrixProd, ScalarProd, SU, TensorProd, TensorExp\n",
    "from proveit.statistics import Prob\n",
    "from proveit.physics.quantum import Bra, Ket, RegisterBra, RegisterKet, Meas, Circuit, Gate, Input, Output, MultiWire\n",
    "from proveit.physics.quantum.common import Hgate, RegisterSU, QubitRegisterSpace, ket0, \\\n",
    "    CTRL_DN, WIRE_LINK, WIRE_DN, PASS\n",
    "from proveit.physics.quantum.QFT import InverseFourierTransform\n",
    "# Note that U_, u_, and t_ are Literals that will eventually be converted to\n",
    "# Variable counterparts through meta-reasoning.\n",
    "from proveit.physics.quantum.QPE.common import U_, n_, u_, phase_, t_, Psi_, m_, phase_m_, b_, delta_, two_pow_t,\\\n",
    "    psi_1, psi_k, psi_next, psi_t, alpha_l, U_pow_two_pow_k\n",
    "from proveit.physics.quantum.QPE import QPE, PhaseEst\n",
    "from proveit.physics.quantum.QPE.phaseEstOps import Psuccess, Pfail, ModAdd\n",
    "from proveit.common import U, u, t, eps, a, b, k, l\n",
    "from IPython.display import display"
   ]
  },
  {
   "cell_type": "code",
   "execution_count": null,
   "metadata": {},
   "outputs": [],
   "source": [
    "%begin_axioms"
   ]
  },
  {
   "cell_type": "markdown",
   "metadata": {},
   "source": [
    "Let $U$ be a unitary operator that acts on $n$ qubits, $u$ an eigenstate of U with eigenvalue $e^{2 \\pi i \\varphi}$:"
   ]
  },
  {
   "cell_type": "code",
   "execution_count": null,
   "metadata": {},
   "outputs": [],
   "source": [
    "nInNatPos = In(n_, NaturalPos) # transferred\n",
    "unitaryU = In(U_, RegisterSU(n_))  # transferred\n",
    "uKetRegister = In(Ket(u_), QubitRegisterSpace(n_))  # transferred\n",
    "phaseInInterval = In(phase_, IntervalCO(zero, one)) # transferred\n",
    "eigenUu = Equals(MatrixProd(U_, Ket(u_)), ScalarProd(Exponentiate(e, Multiply(two, pi, i, phase_)), Ket(u_))) # transferred\n",
    "display(nInNatPos)\n",
    "display(unitaryU)\n",
    "display(uKetRegister)\n",
    "display(phaseInInterval)\n",
    "display(eigenUu)  "
   ]
  },
  {
   "cell_type": "markdown",
   "metadata": {},
   "source": [
    "Define the Quantum Phase Estimation algorithm, for any $U$, $u$, and $t$ (number of bits of precision), using quantum circuit representations, broken into three stages with recursion in the middle."
   ]
  },
  {
   "cell_type": "code",
   "execution_count": null,
   "metadata": {},
   "outputs": [],
   "source": [
    "tInNaturalPos = In(t_, NaturalPos) # transferred\n",
    "psiKetsInQRegSpace = Forall(k, In(Ket(psi_k), QubitRegisterSpace(k)), domain=NaturalPos) # transferred\n",
    "PsiKetInQRegSpace = In(Ket(Psi_), QubitRegisterSpace(t_)) # transferred\n",
    "display(tInNaturalPos)\n",
    "display(psiKetsInQRegSpace)\n",
    "display(PsiKetInQRegSpace)"
   ]
  },
  {
   "cell_type": "code",
   "execution_count": null,
   "metadata": {},
   "outputs": [],
   "source": [
    "firstQPE = Circuit([[Input(ket0), Hgate, CTRL_DN, Output(Ket(psi_1))],\n",
    "                [Input(Ket(u_)), MultiWire(n_), Gate(U_), Output(Ket(u_))]])\n",
    "firstQPE"
   ]
  },
  {
   "cell_type": "code",
   "execution_count": null,
   "metadata": {},
   "outputs": [],
   "source": [
    "midQPE = Forall(k, \n",
    "               Circuit([[Input(Ket(psi_k)), MultiWire(k), PASS, WIRE_DN, PASS, PASS],\n",
    "                [Input(ket0), Hgate, CTRL_DN, WIRE_LINK, MultiWire(Add(k, one)), Output(Ket(psi_next))],\n",
    "                [Input(Ket(u_)), MultiWire(n_), Gate(U_pow_two_pow_k), Output(Ket(u_)), PASS, PASS]]),\n",
    "       domain=NaturalPos)\n",
    "midQPE"
   ]
  },
  {
   "cell_type": "code",
   "execution_count": null,
   "metadata": {},
   "outputs": [],
   "source": [
    "finalQPE = Circuit([[Input(Ket(psi_t)), MultiWire(t_), Gate(InverseFourierTransform(t_)), Output(Ket(Psi_))]])\n",
    "finalQPE"
   ]
  },
  {
   "cell_type": "markdown",
   "metadata": {},
   "source": [
    "Let $\\lvert \\Psi \\rangle$ be the outcome of the $t$-qubit register of ${\\rm QPE}(U, t)$ acting on $\\lvert u \\rangle$, $m$ be a random variable representing the measurement of Psi with the register interpretted as an integer (via binary representation), and $\\varphi_m = 2 \\pi m/2^t$ be the random variable phase outcome of ${\\rm QPE}(U, t)$:"
   ]
  },
  {
   "cell_type": "code",
   "execution_count": null,
   "metadata": {},
   "outputs": [],
   "source": [
    "mDef = Equals(m_, Meas(Ket(Psi_))) # transferred\n",
    "phase_m_def = Equals(phase_m_, frac(m_, two_pow_t)) # transferred\n",
    "display(mDef)\n",
    "display(phase_m_def)"
   ]
  },
  {
   "cell_type": "markdown",
   "metadata": {},
   "source": [
    "Let $b$ be the value for $m$ that gives the closest $\\varphi_m$ to $\\varphi$ without exceeding it, and let $\\delta$ be this difference:"
   ]
  },
  {
   "cell_type": "code",
   "execution_count": null,
   "metadata": {},
   "outputs": [],
   "source": [
    "bestDef = Equals(b_, Floor(Multiply(phase_, two_pow_t))) # transferred\n",
    "deltaDef = Equals(delta_, subtract(phase_, frac(b_, two_pow_t))) # transferred\n",
    "display(bestDef)\n",
    "display(deltaDef)"
   ]
  },
  {
   "cell_type": "markdown",
   "metadata": {},
   "source": [
    "The probability of success is defined as $\\theta_m$ being within some epsilon of $\\theta$: "
   ]
  },
  {
   "cell_type": "code",
   "execution_count": null,
   "metadata": {},
   "outputs": [],
   "source": [
    "# transferred\n",
    "successDef = Forall(eps, Equals(Psuccess(eps), \n",
    "                                Prob(LessThanEquals(ModAbs(subtract(m_, b_), two_pow_t), eps), m_)), \n",
    "                    domain=NaturalPos)\n",
    "# transferred\n",
    "failDef = Forall(eps, Equals(Pfail(eps), subtract(one, Psuccess(eps))), domain=NaturalPos)\n",
    "display(successDef)\n",
    "display(failDef)             "
   ]
  },
  {
   "cell_type": "markdown",
   "metadata": {},
   "source": [
    "Let $\\alpha_l$ be the amplitude of $\\lvert \\Psi \\rangle$ for the $b \\oplus l$ state, where $\\oplus$ is defined as addition modulo $2^t$:"
   ]
  },
  {
   "cell_type": "code",
   "execution_count": null,
   "metadata": {},
   "outputs": [],
   "source": [
    "# transferred\n",
    "modAddDef = Forall((a, b), Equals(ModAdd(a, b), Mod(Add(a, b), two_pow_t)), domain=Integers)\n",
    "# transferred\n",
    "alphaDef = Forall(l, Equals(alpha_l, MatrixProd(RegisterBra(ModAdd(b_, l), t_), Ket(Psi_))), domain=Integers)\n",
    "display(modAddDef)\n",
    "display(alphaDef)"
   ]
  },
  {
   "cell_type": "code",
   "execution_count": null,
   "metadata": {},
   "outputs": [],
   "source": [
    "%end_axioms"
   ]
  },
  {
   "cell_type": "code",
   "execution_count": null,
   "metadata": {},
   "outputs": [],
   "source": []
  }
 ],
 "metadata": {
  "kernelspec": {
   "display_name": "Python 3",
   "language": "python",
   "name": "python3"
  }
 },
 "nbformat": 4,
 "nbformat_minor": 0
}
