{
 "cells": [
  {
   "cell_type": "code",
   "execution_count": null,
   "metadata": {},
   "outputs": [],
   "source": [
    "from proveit.basiclogic import In, compose\n",
    "from proveit.physics.quantum.QPE.theorems import all_abs_alpha_l_nonneg, all_alpha_l_in_complexes\n",
    "from proveit.physics.quantum.QPE.common import l, alpha_l\n",
    "from proveit.common import a\n",
    "from proveit.number import Abs, Exponentiate\n",
    "from proveit.number.common import two\n",
    "from proveit.number.complex.theorems import absIsNonNeg\n",
    "from proveit.number import Integer, Reals, deduceInReals"
   ]
  },
  {
   "cell_type": "code",
   "execution_count": null,
   "metadata": {},
   "outputs": [],
   "source": [
    "all_abs_alpha_l_nonneg.beginProof()"
   ]
  },
  {
   "cell_type": "code",
   "execution_count": null,
   "metadata": {},
   "outputs": [],
   "source": [
    "lInInts = In(l, Integer)"
   ]
  },
  {
   "cell_type": "code",
   "execution_count": null,
   "metadata": {},
   "outputs": [],
   "source": [
    "all_alpha_l_in_complexes"
   ]
  },
  {
   "cell_type": "code",
   "execution_count": null,
   "metadata": {},
   "outputs": [],
   "source": [
    "all_alpha_l_in_complexes.instantiate().proven({lInInts})"
   ]
  },
  {
   "cell_type": "code",
   "execution_count": null,
   "metadata": {},
   "outputs": [],
   "source": [
    "abs_alpha_l_in_reals = deduceInReals(Abs(alpha_l), {lInInts}).proven({lInInts})\n",
    "abs_alpha_l_in_reals"
   ]
  },
  {
   "cell_type": "code",
   "execution_count": null,
   "metadata": {},
   "outputs": [],
   "source": [
    "absIsNonNeg"
   ]
  },
  {
   "cell_type": "code",
   "execution_count": null,
   "metadata": {},
   "outputs": [],
   "source": [
    "abs_alpha_l_in_nonneg = absIsNonNeg.instantiate({a:alpha_l})\n",
    "abs_alpha_l_in_nonneg"
   ]
  },
  {
   "cell_type": "code",
   "execution_count": null,
   "metadata": {},
   "outputs": [],
   "source": [
    "compose(abs_alpha_l_in_reals, abs_alpha_l_in_nonneg).generalize(l, domain=Integer).qed()"
   ]
  },
  {
   "cell_type": "code",
   "execution_count": null,
   "metadata": {},
   "outputs": [],
   "source": []
  }
 ],
 "metadata": {
  "kernelspec": {
   "display_name": "Python 3",
   "language": "python",
   "name": "python3"
  }
 },
 "nbformat": 4,
 "nbformat_minor": 0
}
