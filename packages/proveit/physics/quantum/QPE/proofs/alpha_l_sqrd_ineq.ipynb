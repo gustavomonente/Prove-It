{
 "cells": [
  {
   "cell_type": "code",
   "execution_count": null,
   "metadata": {},
   "outputs": [],
   "source": [
    "from proveit.number.arithmeticOps import *\n",
    "from proveit.number.relation import Relation\n",
    "from proveit.number.real.theorems import divIneqThm1, divIneqThm1cor, ineqThm9, ineqThm10, ineqThm10a\n",
    "from proveit.number.complex.theorems import absProd, oneExp, expOne, intPowOfPow\n",
    "from proveit.number.axioms import multAssoc\n",
    "from proveit.number.complex.theorems import multOne, sumInPow, diffSquareComm\n",
    "from proveit.number.complex.theorems import fracCancel2, fracCancel4, multComm, natsPosPowOfProd, squarePosIneq, \\\n",
    "    absIsNonNeg\n",
    "from proveit.basiclogic import In, autoSubstitute, autoSubstitution, NotEquals\n",
    "from proveit.number.real.theorems import absTwoPi, absPos, squarePosEq, relaxGreaterThan, relaxLessThan\n",
    "from proveit.number.natural.theorems import twoSquared\n",
    "from proveit.number import deduceNotZero\n",
    "from proveit.number.common import *\n",
    "from proveit.trigonometry.theorems import exp_2pi_i_nonInt, boundedUnitModulusDiff\n",
    "from proveit.physics.quantum.QPE.axioms import tInNaturalPos\n",
    "from proveit.physics.quantum.QPE.theorems import alpha_l_sqrd_ineq, two_pow_tMinusOne_in_posnat, phaseInReal\n",
    "from proveit.physics.quantum.QPE.theorems import deltaInReal\n",
    "from proveit.physics.quantum.QPE.theorems import scaledDeltaInInterval, delta_notEq_scaledNonzeroInt, scaledDelta_notEq_nonzeroInt\n",
    "from proveit.physics.quantum.QPE.theorems import nonIntDeltaDiff, scaledDeltaDiffInInterval\n",
    "from proveit.physics.quantum.QPE.theorems import all_alpha_l_in_complex, all_abs_alpha_l_nonneg, alpha_l_summed, alpha_l_summed_abs\n",
    "from proveit.physics.quantum.QPE.common import t_, delta_, alpha_l, two_pow_t, two_pow_t_minus_one\n",
    "from proveit.basiclogic.equality.eqOps import extractSubExpr\n",
    "from IPython.display import display"
   ]
  },
  {
   "cell_type": "code",
   "execution_count": null,
   "metadata": {},
   "outputs": [],
   "source": [
    "alpha_l_sqrd_ineq.beginProof()"
   ]
  },
  {
   "cell_type": "code",
   "execution_count": null,
   "metadata": {},
   "outputs": [],
   "source": [
    "domain = DiscreteContiguousSet(Add(Neg(two_pow_t_minus_one), one), two_pow_t_minus_one)\n",
    "display(In(l, domain))\n",
    "display(NotEquals(l, zero))\n",
    "assumptions = {In(l,domain), NotEquals(l, zero)}"
   ]
  },
  {
   "cell_type": "code",
   "execution_count": null,
   "metadata": {},
   "outputs": [],
   "source": [
    "display(domain.deduceMemberInInteger(l, assumptions=assumptions).proven(assumptions))\n",
    "display(domain.deduceMemberLowerBound(l, assumptions=assumptions).proven(assumptions))\n",
    "display(domain.deduceMemberUpperBound(l, assumptions=assumptions).proven(assumptions))"
   ]
  },
  {
   "cell_type": "code",
   "execution_count": null,
   "metadata": {},
   "outputs": [],
   "source": [
    "abs_alpha_l = alpha_l_summed_abs.instantiate().proven(assumptions)\n",
    "abs_alpha_l"
   ]
  },
  {
   "cell_type": "code",
   "execution_count": null,
   "metadata": {},
   "outputs": [],
   "source": [
    "exp_2pi_i_nonInt"
   ]
  },
  {
   "cell_type": "code",
   "execution_count": null,
   "metadata": {},
   "outputs": [],
   "source": [
    "display(delta_notEq_scaledNonzeroInt.instantiate().proven(assumptions))\n",
    "display(scaledDelta_notEq_nonzeroInt.instantiate().proven(assumptions))\n",
    "nonIntDeltaDiffSpec = nonIntDeltaDiff.instantiate()\n",
    "display(nonIntDeltaDiffSpec.proven(assumptions))\n",
    "display(nonIntDeltaDiffSpec.element.deduceInReal(assumptions).proven(assumptions))\n",
    "display(scaledDeltaDiffInInterval.instantiate().proven(assumptions))\n",
    "expNotOne = exp_2pi_i_nonInt.instantiate({x:nonIntDeltaDiffSpec.element}).proven(assumptions)\n",
    "display(expNotOne)\n",
    "display(autoSubstitute(expNotOne, 'factor', [i], {'assumptions':assumptions, 'pull':'left'}).proven(assumptions))\n",
    "display(autoSubstitute(expNotOne, 'factor', [i], {'assumptions':assumptions, 'pull':'left', 'groupRemainder':'True'}).proven(assumptions))"
   ]
  },
  {
   "cell_type": "code",
   "execution_count": null,
   "metadata": {},
   "outputs": [],
   "source": [
    "display(all_alpha_l_in_complex.instantiate())\n",
    "abs_alpha_l_real_and_nonneg = all_abs_alpha_l_nonneg.instantiate().decompose()\n",
    "display(abs_alpha_l_real_and_nonneg[0])\n",
    "display(abs_alpha_l_real_and_nonneg[1])"
   ]
  },
  {
   "cell_type": "code",
   "execution_count": null,
   "metadata": {},
   "outputs": [],
   "source": [
    "display(deduceInReal(two))\n",
    "display(deducePositive(two))\n",
    "display(deduceInReal(pi))\n",
    "display(deduceInReal(Multiply(two,pi)))\n",
    "display(deduceInComplex(Multiply(two,pi)))\n",
    "display(deduceInReal(two_pow_t,assumptions))\n",
    "display(deducePositive(two_pow_t,assumptions))\n",
    "display(deduceInReal(Exponentiate(two, Add(t_, one))))\n",
    "display(deduceInComplex(Exponentiate(two,Add(t_,one))))\n",
    "display(deduceInReal(Multiply(two,pi,subtract(Multiply(Exponentiate(two,t_),delta_),l)),assumptions))"
   ]
  },
  {
   "cell_type": "code",
   "execution_count": null,
   "metadata": {},
   "outputs": [],
   "source": [
    "X1 = autoSubstitute(abs_alpha_l, 'factor', [i], {'assumptions':assumptions,'pull':'left'}, superExpr=abs_alpha_l.rhs.numerator, suppressWarnings=True).proven(assumptions)\n",
    "X1"
   ]
  },
  {
   "cell_type": "code",
   "execution_count": null,
   "metadata": {},
   "outputs": [],
   "source": [
    "X2 = autoSubstitute(X1, 'factor', [i], {'assumptions':assumptions}, superExpr=abs_alpha_l.rhs.denominator, suppressWarnings=True).proven(assumptions)\n",
    "X2"
   ]
  },
  {
   "cell_type": "code",
   "execution_count": null,
   "metadata": {},
   "outputs": [],
   "source": [
    "Y1 = ineqThm9.instantiate({theta:Multiply(two,pi,subtract(Multiply(Exponentiate(two,t_),delta_),l))}).proven(assumptions)\n",
    "Y1"
   ]
  },
  {
   "cell_type": "code",
   "execution_count": null,
   "metadata": {},
   "outputs": [],
   "source": [
    "#deduceNotZero(subtract(one,Exponentiate(e,Multiply(i,two,pi,subtract(delta_,frac(l,Exponentiate(two,t_)))))),assumptions)\n",
    "deduceInRealPos(X2.rhs.denominator,assumptions)"
   ]
  },
  {
   "cell_type": "code",
   "execution_count": null,
   "metadata": {},
   "outputs": [],
   "source": [
    "divIneqThm1"
   ]
  },
  {
   "cell_type": "code",
   "execution_count": null,
   "metadata": {},
   "outputs": [],
   "source": [
    "display(deduceInReal(X2.rhs.denominator, assumptions).proven(assumptions))\n",
    "display(deducePositive(X2.rhs.denominator,assumptions).proven(assumptions))\n",
    "display(deduceInReal(Y1.lhs, assumptions).proven(assumptions))"
   ]
  },
  {
   "cell_type": "code",
   "execution_count": null,
   "metadata": {},
   "outputs": [],
   "source": [
    "Y2 = divIneqThm1.instantiate({a:Y1.lhs,b:X2.rhs.denominator,c:Y1.rhs}).proven(assumptions)\n",
    "Y2"
   ]
  },
  {
   "cell_type": "code",
   "execution_count": null,
   "metadata": {},
   "outputs": [],
   "source": [
    "X2a = Multiply(i,two,pi,subtract(Multiply(Exponentiate(two,t_),delta_),l)).group(1,4,assumptions=assumptions).subRightSideInto(X2).proven(assumptions)\n",
    "X2a"
   ]
  },
  {
   "cell_type": "code",
   "execution_count": null,
   "metadata": {},
   "outputs": [],
   "source": [
    "X5 = Relation(X2a).update(Y2).proven(assumptions)\n",
    "X5"
   ]
  },
  {
   "cell_type": "code",
   "execution_count": null,
   "metadata": {},
   "outputs": [],
   "source": [
    "X5a = multAssoc.instantiate({xEtc:i,\n",
    "                            yEtc:[two,pi,subtract(delta_,frac(l,Exponentiate(two,t_)))],\n",
    "                            zEtc:[]}).subRightSideInto(X5).proven(assumptions)\n",
    "X5a"
   ]
  },
  {
   "cell_type": "code",
   "execution_count": null,
   "metadata": {},
   "outputs": [],
   "source": [
    "Y5_0 = boundedUnitModulusDiff.instantiate(\n",
    "    {theta:Multiply(two,pi, subtract(delta_,frac(l,Exponentiate(two,t_))))}).proven(assumptions).deriveReversed().proven(assumptions)\n",
    "Y5_0"
   ]
  },
  {
   "cell_type": "code",
   "execution_count": null,
   "metadata": {},
   "outputs": [],
   "source": [
    "display(deduceInReal(Y5_0.lhs,assumptions))\n",
    "display(deduceInReal(Y5_0.rhs,assumptions))"
   ]
  },
  {
   "cell_type": "code",
   "execution_count": null,
   "metadata": {},
   "outputs": [],
   "source": [
    "Y6 = divIneqThm1cor.instantiate({a:Y5_0.lhs,c:Y5_0.rhs,b:Exponentiate(two,t_)}).proven(assumptions).deriveReversed().proven(assumptions)\n",
    "Y6"
   ]
  },
  {
   "cell_type": "code",
   "execution_count": null,
   "metadata": {},
   "outputs": [],
   "source": [
    "Y7 = autoSubstitute(Y6, 'group', [0,2], {'assumptions':assumptions}, superExpr=Y6.rhs, suppressWarnings=True).proven(assumptions)\n",
    "Y7"
   ]
  },
  {
   "cell_type": "code",
   "execution_count": null,
   "metadata": {},
   "outputs": [],
   "source": [
    "Y8 = absProd.instantiate({xEtc:[Multiply(two,pi),subtract(delta_,frac(l,Exponentiate(two,t_)))]}).proven(assumptions)\n",
    "Y8"
   ]
  },
  {
   "cell_type": "code",
   "execution_count": null,
   "metadata": {},
   "outputs": [],
   "source": [
    "Y9 = Y8.subRightSideInto(Y7).proven(assumptions)\n",
    "Y9"
   ]
  },
  {
   "cell_type": "code",
   "execution_count": null,
   "metadata": {},
   "outputs": [],
   "source": [
    "Y10 = absPos.instantiate({a:Multiply(two,pi)}).subRightSideInto(Y9).proven(assumptions)\n",
    "Y10"
   ]
  },
  {
   "cell_type": "code",
   "execution_count": null,
   "metadata": {},
   "outputs": [],
   "source": [
    "Y11_0 = Multiply(two,\n",
    "                Multiply(two,pi),\n",
    "                Abs(subtract(delta_,frac(l,Exponentiate(two,t_)))))\n",
    "Y11_0"
   ]
  },
  {
   "cell_type": "code",
   "execution_count": null,
   "metadata": {},
   "outputs": [],
   "source": [
    "Y11 = Y11_0.group(1,3,assumptions).proven(assumptions)\n",
    "Y11"
   ]
  },
  {
   "cell_type": "code",
   "execution_count": null,
   "metadata": {},
   "outputs": [],
   "source": [
    "Y12 = Y11.subLeftSideInto(Y10).proven(assumptions)\n",
    "Y12"
   ]
  },
  {
   "cell_type": "code",
   "execution_count": null,
   "metadata": {},
   "outputs": [],
   "source": [
    "Y13 = multAssoc.instantiate({xEtc:two, yEtc:[two,pi],\n",
    "                            zEtc:Abs(subtract(delta_,frac(l,Exponentiate(two,t_))))}).proven(assumptions)\n",
    "Y13"
   ]
  },
  {
   "cell_type": "code",
   "execution_count": null,
   "metadata": {},
   "outputs": [],
   "source": [
    "Y14 = Y13.subLeftSideInto(Y12).proven(assumptions)\n",
    "Y14"
   ]
  },
  {
   "cell_type": "code",
   "execution_count": null,
   "metadata": {},
   "outputs": [],
   "source": [
    "display(deduceInComplex(Multiply(two,two,Abs(subtract(delta_,frac(l,Exponentiate(two,t_))))),assumptions))\n",
    "display(deduceInComplex(Abs(subtract(delta_,frac(l,Exponentiate(two,t_)))),assumptions))\n"
   ]
  },
  {
   "cell_type": "code",
   "execution_count": null,
   "metadata": {},
   "outputs": [],
   "source": [
    "Y15_0 = Y14.rhs.operands[1].cancel(pi,assumptions=assumptions).proven(assumptions)\n",
    "Y15_0"
   ]
  },
  {
   "cell_type": "code",
   "execution_count": null,
   "metadata": {},
   "outputs": [],
   "source": [
    "Y15 = Y14.rhs.operands[1].cancel(pi,assumptions=assumptions).subRightSideInto(Y14).proven(assumptions)\n",
    "Y15"
   ]
  },
  {
   "cell_type": "code",
   "execution_count": null,
   "metadata": {},
   "outputs": [],
   "source": [
    "Y18 = deducePositive(Y15.rhs, assumptions).proven(assumptions)\n",
    "display(Y18)\n",
    "display(deduceInReal(Y18.lhs,assumptions).proven(assumptions))"
   ]
  },
  {
   "cell_type": "code",
   "execution_count": null,
   "metadata": {},
   "outputs": [],
   "source": [
    "deducePositive(X5a.rhs.denominator, assumptions).proven(assumptions)"
   ]
  },
  {
   "cell_type": "code",
   "execution_count": null,
   "metadata": {},
   "outputs": [],
   "source": [
    "X19 = ineqThm10a.instantiate({w:X5.lhs,\n",
    "                      x:X5a.rhs.numerator,\n",
    "                      y:X5a.rhs.denominator,\n",
    "                      z:Y18.lhs}).proven(assumptions)\n",
    "X19"
   ]
  },
  {
   "cell_type": "code",
   "execution_count": null,
   "metadata": {},
   "outputs": [],
   "source": [
    "X20 = X19.rhs.denominator.ungroup(1,assumptions=assumptions).subRightSideInto(X19).proven(assumptions)\n",
    "X20"
   ]
  },
  {
   "cell_type": "code",
   "execution_count": null,
   "metadata": {},
   "outputs": [],
   "source": [
    "#21 omitted intentionally\n",
    "X22 = X20.rhs.cancel(two,'left',assumptions).subRightSideInto(X20).proven(assumptions)\n",
    "X22"
   ]
  },
  {
   "cell_type": "code",
   "execution_count": null,
   "metadata": {},
   "outputs": [],
   "source": [
    "deduceInComplex(Abs(subtract(delta_,frac(l,Exponentiate(two,t_)))), assumptions)"
   ]
  },
  {
   "cell_type": "code",
   "execution_count": null,
   "metadata": {},
   "outputs": [],
   "source": [
    "deduceInComplex(two)"
   ]
  },
  {
   "cell_type": "code",
   "execution_count": null,
   "metadata": {},
   "outputs": [],
   "source": [
    "deduceInComplex(t_)"
   ]
  },
  {
   "cell_type": "code",
   "execution_count": null,
   "metadata": {},
   "outputs": [],
   "source": [
    "#23 omitted intentionally\n",
    "X24 = X22.rhs.denominator.combineExponents(0, 2, assumptions=assumptions).subRightSideInto(X22).proven(assumptions)\n",
    "X24"
   ]
  },
  {
   "cell_type": "code",
   "execution_count": null,
   "metadata": {},
   "outputs": [],
   "source": [
    "deduceInReal(X24.rhs,assumptions)"
   ]
  },
  {
   "cell_type": "code",
   "execution_count": null,
   "metadata": {},
   "outputs": [],
   "source": [
    "squarePosIneq"
   ]
  },
  {
   "cell_type": "code",
   "execution_count": null,
   "metadata": {},
   "outputs": [],
   "source": [
    "X25 = squarePosIneq.instantiate({a:alpha_l}).instantiate({b:X24.rhs})\n",
    "X25.proven(assumptions)"
   ]
  },
  {
   "cell_type": "code",
   "execution_count": null,
   "metadata": {},
   "outputs": [],
   "source": [
    "X26 = X25.rhs.distributeExponent(assumptions=assumptions).subRightSideInto(X25)\n",
    "X26.proven(assumptions)"
   ]
  },
  {
   "cell_type": "code",
   "execution_count": null,
   "metadata": {},
   "outputs": [],
   "source": [
    "deduceInComplex(Abs(subtract(delta_,frac(l,Exponentiate(two,t_)))), assumptions)"
   ]
  },
  {
   "cell_type": "code",
   "execution_count": null,
   "metadata": {},
   "outputs": [],
   "source": [
    "natsPosPowOfProd"
   ]
  },
  {
   "cell_type": "code",
   "execution_count": null,
   "metadata": {},
   "outputs": [],
   "source": [
    "aSub = Exponentiate(two,Add(t_,one))\n",
    "bSub = Abs(subtract(delta_,frac(l,Exponentiate(two,t_))))\n",
    "X27 = natsPosPowOfProd.instantiate({n:two}).instantiate({a:aSub, b:bSub}).subRightSideInto(X26)\n",
    "X27.proven(assumptions)"
   ]
  },
  {
   "cell_type": "code",
   "execution_count": null,
   "metadata": {},
   "outputs": [],
   "source": [
    "X28 = expOne.instantiate({x:two}).subRightSideInto(X27)\n",
    "X28.proven(assumptions)"
   ]
  },
  {
   "cell_type": "code",
   "execution_count": null,
   "metadata": {},
   "outputs": [],
   "source": [
    "intPowOfPow"
   ]
  },
  {
   "cell_type": "code",
   "execution_count": null,
   "metadata": {},
   "outputs": [],
   "source": [
    "deduceNotZero(two)\n",
    "deduceInInteger(two)\n",
    "deduceInComplex([two, Add(t_,one)])\n",
    "X29 = intPowOfPow.instantiate({n:two}).instantiate({a:two,b:Add(t_,one)}).subRightSideInto(X28)\n",
    "X29.proven(assumptions)"
   ]
  },
  {
   "cell_type": "code",
   "execution_count": null,
   "metadata": {},
   "outputs": [],
   "source": [
    "X30 = X29.rhs.denominator.factors[0].exponent.distribute(0).subRightSideInto(X29)\n",
    "X30.proven(assumptions)"
   ]
  },
  {
   "cell_type": "code",
   "execution_count": null,
   "metadata": {},
   "outputs": [],
   "source": [
    "X31 = multOne.instantiate({x:two}).subRightSideInto(X30)\n",
    "X31.proven(assumptions)"
   ]
  },
  {
   "cell_type": "code",
   "execution_count": null,
   "metadata": {},
   "outputs": [],
   "source": [
    "deduceInComplex(Multiply(t_,two),assumptions)"
   ]
  },
  {
   "cell_type": "code",
   "execution_count": null,
   "metadata": {},
   "outputs": [],
   "source": [
    "X32 = sumInPow.instantiate({a:two,b:Multiply(t_,two),c:two}).subRightSideInto(X31)\n",
    "X32.proven(assumptions)"
   ]
  },
  {
   "cell_type": "code",
   "execution_count": null,
   "metadata": {},
   "outputs": [],
   "source": [
    "X33 = squarePosEq.instantiate({a:subtract(delta_,frac(l,Exponentiate(two,t_)))}).subRightSideInto(X32)\n",
    "X33.proven(assumptions)"
   ]
  },
  {
   "cell_type": "code",
   "execution_count": null,
   "metadata": {},
   "outputs": [],
   "source": [
    "deduceInComplex(frac(l,Exponentiate(two,t_)),assumptions)\n",
    "deduceInComplex(delta_,assumptions)"
   ]
  },
  {
   "cell_type": "code",
   "execution_count": null,
   "metadata": {},
   "outputs": [],
   "source": [
    "X34 = diffSquareComm.instantiate({a:delta_,b:frac(l,Exponentiate(two,t_))}).subRightSideInto(X33) \n",
    "X34.proven(assumptions)"
   ]
  },
  {
   "cell_type": "code",
   "execution_count": null,
   "metadata": {},
   "outputs": [],
   "source": [
    "X35 = intPowOfPow.instantiate({n:two}).instantiate({a:two,b:t_}).subLeftSideInto(X34)\n",
    "X35.proven(assumptions)"
   ]
  },
  {
   "cell_type": "code",
   "execution_count": null,
   "metadata": {},
   "outputs": [],
   "source": [
    "deduceInComplex(X35.rhs, assumptions)"
   ]
  },
  {
   "cell_type": "code",
   "execution_count": null,
   "metadata": {},
   "outputs": [],
   "source": [
    "deduceInComplex(X35.rhs.denominator.operands[0].operands[0],assumptions)\n",
    "deduceInComplex(X35.rhs.denominator.operands[0].operands[1],assumptions)\n",
    "deduceInComplex(X35.rhs.denominator.operands[1],assumptions)"
   ]
  },
  {
   "cell_type": "code",
   "execution_count": null,
   "metadata": {},
   "outputs": [],
   "source": [
    "X36 = multAssoc.instantiate({xEtc:[],\n",
    "                      yEtc:X35.rhs.denominator.operands[0].operands,\n",
    "                      zEtc:X35.rhs.denominator.operands[1]}).subLeftSideInto(X35).proven(assumptions)\n",
    "X36"
   ]
  },
  {
   "cell_type": "code",
   "execution_count": null,
   "metadata": {},
   "outputs": [],
   "source": [
    "X37 = X36.rhs.denominator.commute(0,1,1,2,assumptions).subRightSideInto(X36).proven(assumptions)\n",
    "X37"
   ]
  },
  {
   "cell_type": "code",
   "execution_count": null,
   "metadata": {},
   "outputs": [],
   "source": [
    "X38 = X37.rhs.denominator.group(1,assumptions=assumptions).subRightSideInto(X37).proven(assumptions)\n",
    "X38"
   ]
  },
  {
   "cell_type": "code",
   "execution_count": null,
   "metadata": {},
   "outputs": [],
   "source": [
    "deduceInComplex(Exponentiate(two,t_))"
   ]
  },
  {
   "cell_type": "code",
   "execution_count": null,
   "metadata": {},
   "outputs": [],
   "source": [
    "deduceInComplex(subtract(\n",
    "                frac(l,Exponentiate(two,t_))\n",
    "                ,delta_), assumptions)"
   ]
  },
  {
   "cell_type": "code",
   "execution_count": null,
   "metadata": {},
   "outputs": [],
   "source": [
    "X39 = X38.rhs.denominator.factors[1].combineExponents(assumptions=assumptions).subRightSideInto(X38).proven(assumptions)"
   ]
  },
  {
   "cell_type": "code",
   "execution_count": null,
   "metadata": {},
   "outputs": [],
   "source": [
    "X40 = X39.rhs.denominator.operands[1].base.commute(assumptions=assumptions).subRightSideInto(X39).proven(assumptions)\n",
    "X40"
   ]
  },
  {
   "cell_type": "code",
   "execution_count": null,
   "metadata": {},
   "outputs": [],
   "source": [
    "X41 = X40.rhs.denominator.factors[1].base.distribute(0, assumptions=assumptions).subRightSideInto(X40)\n",
    "X41.proven(assumptions)"
   ]
  },
  {
   "cell_type": "code",
   "execution_count": null,
   "metadata": {},
   "outputs": [],
   "source": [
    "deduceInComplex(l,assumptions)"
   ]
  },
  {
   "cell_type": "code",
   "execution_count": null,
   "metadata": {},
   "outputs": [],
   "source": [
    "X42 = fracCancel4.instantiate({x:l,y:Exponentiate(two,t_)}).subRightSideInto(X41)\n",
    "X42.proven(assumptions)"
   ]
  },
  {
   "cell_type": "code",
   "execution_count": null,
   "metadata": {},
   "outputs": [],
   "source": [
    "X43 = twoSquared.instantiate({}).subRightSideInto(X42)\n",
    "X43.proven(assumptions)"
   ]
  },
  {
   "cell_type": "code",
   "execution_count": null,
   "metadata": {},
   "outputs": [],
   "source": [
    "X44 = X43.rhs.denominator.operands[1].base.operands[1].commute(assumptions=assumptions).subRightSideInto(X43).proven(assumptions)\n",
    "X44"
   ]
  },
  {
   "cell_type": "code",
   "execution_count": null,
   "metadata": {},
   "outputs": [],
   "source": [
    "X44.generalize(l,domain=domain,conditions=[NotEquals(l, zero)]).qed()"
   ]
  },
  {
   "cell_type": "code",
   "execution_count": null,
   "metadata": {},
   "outputs": [],
   "source": []
  },
  {
   "cell_type": "code",
   "execution_count": null,
   "metadata": {},
   "outputs": [],
   "source": []
  }
 ],
 "metadata": {
  "kernelspec": {
   "display_name": "Python 3",
   "language": "python",
   "name": "python3"
  }
 },
 "nbformat": 4,
 "nbformat_minor": 0
}
