{
 "cells": [
  {
   "cell_type": "code",
   "execution_count": null,
   "metadata": {},
   "outputs": [],
   "source": [
    "from proveit.basiclogic import In, Equals, autoSubstitute\n",
    "from proveit.physics.quantum.QPE.axioms import failDef, alphaDef, mDef, tInNaturalPos, modAddDef, PsiKetInQRegSpace\n",
    "from proveit.physics.quantum.QPE.theorems import fail_sum, success_sum, bestInInt, \\\n",
    "    two_pow_t_in_posnat, two_pow_tMinusOne_in_posnat, successProbInReal\n",
    "from proveit.physics.quantum.QPE.common import t_, m_, Psi_, two_pow_t, two_pow_t_minus_one, b_, fullDomain\n",
    "from proveit.physics.quantum.QPE.phaseEstOps import ModAdd\n",
    "from proveit.physics.quantum.theorems import registerQubitBornRule, registerQubitAllProbs\n",
    "from proveit.common import a, b, c, k, l, n, x, y, fx, gy, eps, m, N, Psi, R, S\n",
    "from proveit.numbers import Add, Neg, subtract, Exponentiate, DiscreteContiguousSet\n",
    "from proveit.numbers.common import zero, one, two\n",
    "from proveit.numbers.natural.axioms import zeroAddOne\n",
    "from proveit.numbers import deduceInInteger, deduceInReal, deduceInComplex, NaturalPos, Real, \\\n",
    "    deduceNegative, deducePositive\n",
    "from proveit.numbers.integer.theorems import inNaturalPosIfPos, fullModularRangeEquivLeftShift\n",
    "from proveit.numbers.complex.theorems import equivSums, addTwice, outerCancel, subTwoAddOne\n",
    "from proveit.statistics import Prob\n",
    "from IPython.display import display"
   ]
  },
  {
   "cell_type": "code",
   "execution_count": null,
   "metadata": {},
   "outputs": [],
   "source": [
    "fail_sum.beginProof()"
   ]
  },
  {
   "cell_type": "code",
   "execution_count": null,
   "metadata": {},
   "outputs": [],
   "source": [
    "epsInDomain = In(eps, fail_sum.domain)\n",
    "epsInDomain"
   ]
  },
  {
   "cell_type": "code",
   "execution_count": null,
   "metadata": {},
   "outputs": [],
   "source": [
    "oneMoreThanZero = zeroAddOne.subRightSideInto(Add(zero, one).deduceStrictIncrease(0)).proven()\n",
    "oneMoreThanZero"
   ]
  },
  {
   "cell_type": "code",
   "execution_count": null,
   "metadata": {},
   "outputs": [],
   "source": [
    "epsInDomain.domain.deduceMemberInInteger(eps).proven({epsInDomain})\n",
    "epsInDomain.domain.deduceMemberLowerBound(eps).applyTransitivity(oneMoreThanZero).deriveReversed().proven({epsInDomain})\n",
    "inNaturalPosIfPos.instantiate({a:eps}).proven({epsInDomain})"
   ]
  },
  {
   "cell_type": "code",
   "execution_count": null,
   "metadata": {},
   "outputs": [],
   "source": [
    "failDef"
   ]
  },
  {
   "cell_type": "code",
   "execution_count": null,
   "metadata": {},
   "outputs": [],
   "source": [
    "failDefSpec = failDef.instantiate()\n",
    "failDefSpec.proven({epsInDomain})"
   ]
  },
  {
   "cell_type": "code",
   "execution_count": null,
   "metadata": {},
   "outputs": [],
   "source": [
    "successProbInReal"
   ]
  },
  {
   "cell_type": "code",
   "execution_count": null,
   "metadata": {},
   "outputs": [],
   "source": [
    "successProbInReal.instantiate().proven({epsInDomain})"
   ]
  },
  {
   "cell_type": "code",
   "execution_count": null,
   "metadata": {},
   "outputs": [],
   "source": [
    "success_sum"
   ]
  },
  {
   "cell_type": "code",
   "execution_count": null,
   "metadata": {},
   "outputs": [],
   "source": [
    "successSum1 = success_sum.instantiate()\n",
    "successSum1.instantiate().proven({epsInDomain})"
   ]
  },
  {
   "cell_type": "code",
   "execution_count": null,
   "metadata": {},
   "outputs": [],
   "source": [
    "deduceInReal(successSum1.rhs, {epsInDomain}).proven({epsInDomain})"
   ]
  },
  {
   "cell_type": "code",
   "execution_count": null,
   "metadata": {},
   "outputs": [],
   "source": [
    "successSum2 = successSum1.deriveNegated({epsInDomain})\n",
    "successSum2.proven({epsInDomain})"
   ]
  },
  {
   "cell_type": "code",
   "execution_count": null,
   "metadata": {},
   "outputs": [],
   "source": [
    "successSum3 = successSum2.deriveShifted(one, addendSide='left', assumptions={epsInDomain})\n",
    "successSum3.proven({epsInDomain})"
   ]
  },
  {
   "cell_type": "code",
   "execution_count": null,
   "metadata": {},
   "outputs": [],
   "source": [
    "successSum4 = autoSubstitute(successSum3, 'subtractionFolding', [1], {'assumptions':{epsInDomain}})\n",
    "successSum4.proven({epsInDomain})"
   ]
  },
  {
   "cell_type": "code",
   "execution_count": null,
   "metadata": {},
   "outputs": [],
   "source": [
    "successSum5 = autoSubstitute(successSum4, 'subtractionFolding', [1], {'assumptions':{epsInDomain}})\n",
    "successSum5.proven({epsInDomain})"
   ]
  },
  {
   "cell_type": "code",
   "execution_count": null,
   "metadata": {},
   "outputs": [],
   "source": [
    "failSum1 = failDefSpec.subLeftSideInto(successSum5)\n",
    "failSum1.proven({epsInDomain})"
   ]
  },
  {
   "cell_type": "code",
   "execution_count": null,
   "metadata": {},
   "outputs": [],
   "source": [
    "registerQubitAllProbs"
   ]
  },
  {
   "cell_type": "code",
   "execution_count": null,
   "metadata": {},
   "outputs": [],
   "source": [
    "allProbEqualsOne = registerQubitAllProbs.instantiate({n:t_}).instantiate({Psi:Psi_, m:m_})\n",
    "allProbEqualsOne.proven({epsInDomain})"
   ]
  },
  {
   "cell_type": "code",
   "execution_count": null,
   "metadata": {},
   "outputs": [],
   "source": [
    "lowerBound = Add(Neg(two_pow_t_minus_one), one)\n",
    "upperBound = two_pow_t_minus_one\n",
    "display(deduceInInteger(two_pow_t).proven())\n",
    "display(deduceInInteger(lowerBound).proven())\n",
    "display(deduceInInteger(upperBound).proven())"
   ]
  },
  {
   "cell_type": "code",
   "execution_count": null,
   "metadata": {},
   "outputs": [],
   "source": [
    "boundDiffEq1 = subtract(upperBound, lowerBound).distribute()\n",
    "boundDiffEq1.proven()"
   ]
  },
  {
   "cell_type": "code",
   "execution_count": null,
   "metadata": {},
   "outputs": [],
   "source": [
    "boundDiffEq2 = boundDiffEq1.applyTransitivity(boundDiffEq1.rhs.group(0, 2))\n",
    "boundDiffEq2.proven()"
   ]
  },
  {
   "cell_type": "code",
   "execution_count": null,
   "metadata": {},
   "outputs": [],
   "source": [
    "boundDiffEq3 = boundDiffEq2.applyTransitivity(boundDiffEq2.rhs.subtractionFolding())\n",
    "boundDiffEq3.proven()"
   ]
  },
  {
   "cell_type": "code",
   "execution_count": null,
   "metadata": {},
   "outputs": [],
   "source": [
    "addTwice"
   ]
  },
  {
   "cell_type": "code",
   "execution_count": null,
   "metadata": {},
   "outputs": [],
   "source": [
    "boundDiffEq4 = addTwice.instantiate({a:two_pow_t_minus_one}).subRightSideInto(boundDiffEq3)\n",
    "boundDiffEq4.proven()"
   ]
  },
  {
   "cell_type": "code",
   "execution_count": null,
   "metadata": {},
   "outputs": [],
   "source": [
    "boundDiffEq5 = boundDiffEq4.rhs.operands[0].combineExponents().subRightSideInto(boundDiffEq4)\n",
    "boundDiffEq5.proven()"
   ]
  },
  {
   "cell_type": "code",
   "execution_count": null,
   "metadata": {},
   "outputs": [],
   "source": [
    "outerCancel"
   ]
  },
  {
   "cell_type": "code",
   "execution_count": null,
   "metadata": {},
   "outputs": [],
   "source": [
    "deduceInComplex(one)\n",
    "deduceInComplex(t_)\n",
    "boundDiffEq6 = outerCancel.instantiate({a:one, b:t_}).subRightSideInto(boundDiffEq5)\n",
    "boundDiffEq6.proven()"
   ]
  },
  {
   "cell_type": "code",
   "execution_count": null,
   "metadata": {},
   "outputs": [],
   "source": [
    "fullModularRangeEquivLeftShift"
   ]
  },
  {
   "cell_type": "code",
   "execution_count": null,
   "metadata": {},
   "outputs": [],
   "source": [
    "rangeEquiv1 = fullModularRangeEquivLeftShift.instantiate({N:two_pow_t, a:lowerBound, b:upperBound, c:b_, x:l}).proven()\n",
    "rangeEquiv1"
   ]
  },
  {
   "cell_type": "code",
   "execution_count": null,
   "metadata": {},
   "outputs": [],
   "source": [
    "modAddDef"
   ]
  },
  {
   "cell_type": "code",
   "execution_count": null,
   "metadata": {},
   "outputs": [],
   "source": [
    "rangeEquiv1.lhs.domain.deduceMemberInInteger(l)"
   ]
  },
  {
   "cell_type": "code",
   "execution_count": null,
   "metadata": {},
   "outputs": [],
   "source": [
    "b_modadd_l_def = modAddDef.instantiate({a:b_, b:l})\n",
    "b_modadd_l_def"
   ]
  },
  {
   "cell_type": "code",
   "execution_count": null,
   "metadata": {},
   "outputs": [],
   "source": [
    "setOfAllModAddEquiv = rangeEquiv1.lhs.instanceSubstitution(b_modadd_l_def.deriveReversed().generalize(l, domain=rangeEquiv1.lhs.domain))\n",
    "setOfAllModAddEquiv"
   ]
  },
  {
   "cell_type": "code",
   "execution_count": null,
   "metadata": {},
   "outputs": [],
   "source": [
    "rangeEquiv = setOfAllModAddEquiv.subRightSideInto(rangeEquiv1)\n",
    "rangeEquiv.proven()"
   ]
  },
  {
   "cell_type": "code",
   "execution_count": null,
   "metadata": {},
   "outputs": [],
   "source": [
    "equivSums"
   ]
  },
  {
   "cell_type": "code",
   "execution_count": null,
   "metadata": {},
   "outputs": [],
   "source": [
    "equivSumsSpec = equivSums.instantiate({fx:Prob(Equals(m_, x), m_), gy:ModAdd(b_, y), R:rangeEquiv.rhs, S:rangeEquiv.lhs.domain, x:k, y:l})\n",
    "equivSumsSpec.proven()"
   ]
  },
  {
   "cell_type": "code",
   "execution_count": null,
   "metadata": {},
   "outputs": [],
   "source": [
    "deduceInComplex(equivSumsSpec.hypothesis.instanceExpr.element).generalize(a, equivSumsSpec.hypothesis.domain).proven()"
   ]
  },
  {
   "cell_type": "code",
   "execution_count": null,
   "metadata": {},
   "outputs": [],
   "source": [
    "shiftedAllProbEqualsOne = equivSumsSpec.deriveConclusion().subRightSideInto(allProbEqualsOne).proven()\n",
    "shiftedAllProbEqualsOne.proven()"
   ]
  },
  {
   "cell_type": "code",
   "execution_count": null,
   "metadata": {},
   "outputs": [],
   "source": [
    "failSum2 = shiftedAllProbEqualsOne.subLeftSideInto(failSum1)\n",
    "failSum2.proven({epsInDomain})"
   ]
  },
  {
   "cell_type": "code",
   "execution_count": null,
   "metadata": {},
   "outputs": [],
   "source": [
    "epsUpperBound = epsInDomain.domain.deduceMemberUpperBound(eps)\n",
    "epsUpperBound.proven({epsInDomain})"
   ]
  },
  {
   "cell_type": "code",
   "execution_count": null,
   "metadata": {},
   "outputs": [],
   "source": [
    "relaxedEpsUpperBound1 = Add(epsUpperBound.rhs, two).deduceStrictIncrease(0).applyTransitivity(epsUpperBound)\n",
    "relaxedEpsUpperBound1.proven({epsInDomain})"
   ]
  },
  {
   "cell_type": "code",
   "execution_count": null,
   "metadata": {},
   "outputs": [],
   "source": [
    "relaxedEpsUpperBound2 = relaxedEpsUpperBound1.lhs.commute().subRightSideInto(relaxedEpsUpperBound1)\n",
    "relaxedEpsUpperBound2.proven({epsInDomain})"
   ]
  },
  {
   "cell_type": "code",
   "execution_count": null,
   "metadata": {},
   "outputs": [],
   "source": [
    "relaxedEpsUpperBound = outerCancel.instantiate({a:two, b:two_pow_t_minus_one}).subRightSideInto(relaxedEpsUpperBound2).deriveReversed()\n",
    "relaxedEpsUpperBound.proven({epsInDomain})"
   ]
  },
  {
   "cell_type": "code",
   "execution_count": null,
   "metadata": {},
   "outputs": [],
   "source": [
    "deduceNegative(Neg(two_pow_t_minus_one))"
   ]
  },
  {
   "cell_type": "code",
   "execution_count": null,
   "metadata": {},
   "outputs": [],
   "source": [
    "lowerBoundLessThanOne = Add(Neg(two_pow_t_minus_one), one).deduceStrictDecrease(1)\n",
    "lowerBoundLessThanOne"
   ]
  },
  {
   "cell_type": "code",
   "execution_count": null,
   "metadata": {},
   "outputs": [],
   "source": [
    "epsLowerBound = epsInDomain.domain.deduceMemberLowerBound(eps)\n",
    "epsLowerBound.proven({epsInDomain})"
   ]
  },
  {
   "cell_type": "code",
   "execution_count": null,
   "metadata": {},
   "outputs": [],
   "source": [
    "relaxedEpsLowerBound = epsLowerBound.applyTransitivity(lowerBoundLessThanOne).deriveRelaxed({epsInDomain})\n",
    "relaxedEpsLowerBound.proven({epsInDomain})"
   ]
  },
  {
   "cell_type": "code",
   "execution_count": null,
   "metadata": {},
   "outputs": [],
   "source": [
    "shiftedAllProb = shiftedAllProbEqualsOne.lhs\n",
    "shiftedAllProbSplit1 = shiftedAllProb.split(eps, side='after', assumptions={epsInDomain})\n",
    "shiftedAllProbSplit1.proven({epsInDomain})"
   ]
  },
  {
   "cell_type": "code",
   "execution_count": null,
   "metadata": {},
   "outputs": [],
   "source": [
    "negEpsLessEqEps = deduceNegative(Neg(eps), {epsInDomain}).applyTransitivity(deducePositive(eps, {epsInDomain})).deriveRelaxed({epsInDomain})\n",
    "negEpsLessEqEps"
   ]
  },
  {
   "cell_type": "code",
   "execution_count": null,
   "metadata": {},
   "outputs": [],
   "source": [
    "upperBoundAddOne = Add(epsUpperBound.rhs, one)\n",
    "upperBoundAddOne"
   ]
  },
  {
   "cell_type": "code",
   "execution_count": null,
   "metadata": {},
   "outputs": [],
   "source": [
    "relaxedNegEpsLowerBound1 = upperBoundAddOne.deduceStrictIncrease(0).applyTransitivity(epsUpperBound).deriveNegated({epsInDomain})\n",
    "relaxedNegEpsLowerBound1.proven({epsInDomain})"
   ]
  },
  {
   "cell_type": "code",
   "execution_count": null,
   "metadata": {},
   "outputs": [],
   "source": [
    "subTwoAddOne"
   ]
  },
  {
   "cell_type": "code",
   "execution_count": null,
   "metadata": {},
   "outputs": [],
   "source": [
    "relaxedNegEpsLowerBound2 = subTwoAddOne.instantiate({a:two_pow_t_minus_one}).subRightSideInto(relaxedNegEpsLowerBound1)\n",
    "relaxedNegEpsLowerBound2.proven({epsInDomain})"
   ]
  },
  {
   "cell_type": "code",
   "execution_count": null,
   "metadata": {},
   "outputs": [],
   "source": [
    "relaxedNegEpsLowerBound3 = relaxedNegEpsLowerBound2.lhs.distribute().subRightSideInto(relaxedNegEpsLowerBound2)\n",
    "relaxedNegEpsLowerBound3.proven({epsInDomain})"
   ]
  },
  {
   "cell_type": "code",
   "execution_count": null,
   "metadata": {},
   "outputs": [],
   "source": [
    "shiftedAllProbSplit2 = shiftedAllProbSplit1.rhs.terms[0].split(Neg(eps), side='before', assumptions={epsInDomain}).subRightSideInto(shiftedAllProbSplit1)\n",
    "shiftedAllProbSplit2.proven({epsInDomain})"
   ]
  },
  {
   "cell_type": "code",
   "execution_count": null,
   "metadata": {},
   "outputs": [],
   "source": [
    "shiftedAllProbSplit3 = shiftedAllProbSplit2.rhs.ungroup(0).subRightSideInto(shiftedAllProbSplit2)\n",
    "shiftedAllProbSplit3.proven({epsInDomain})"
   ]
  },
  {
   "cell_type": "code",
   "execution_count": null,
   "metadata": {},
   "outputs": [],
   "source": [
    "failSum3 = shiftedAllProbSplit3.subRightSideInto(failSum2)\n",
    "failSum3.proven({epsInDomain})"
   ]
  },
  {
   "cell_type": "code",
   "execution_count": null,
   "metadata": {},
   "outputs": [],
   "source": [
    "failSum4 = failSum3.rhs.cancel().subRightSideInto(failSum3)\n",
    "failSum4.proven({epsInDomain})"
   ]
  },
  {
   "cell_type": "code",
   "execution_count": null,
   "metadata": {},
   "outputs": [],
   "source": [
    "registerQubitBornRule"
   ]
  },
  {
   "cell_type": "code",
   "execution_count": null,
   "metadata": {},
   "outputs": [],
   "source": [
    "lInDomain = In(l, fullDomain)\n",
    "lInDomain"
   ]
  },
  {
   "cell_type": "code",
   "execution_count": null,
   "metadata": {},
   "outputs": [],
   "source": [
    "b_modadd_l_def.subLeftSideInto(b_modadd_l_def.rhs.deduceInInterval({lInDomain})).proven({lInDomain})"
   ]
  },
  {
   "cell_type": "code",
   "execution_count": null,
   "metadata": {},
   "outputs": [],
   "source": [
    "prob_b_modadd_l_eq1 = registerQubitBornRule.instantiate({n:t_}).instantiate({k:ModAdd(b_, l)}).instantiate({Psi:Psi_, m:m_}).proven({lInDomain})\n",
    "prob_b_modadd_l_eq1"
   ]
  },
  {
   "cell_type": "code",
   "execution_count": null,
   "metadata": {},
   "outputs": [],
   "source": [
    "lInDomain.domain.deduceMemberInInteger(l).proven({lInDomain})"
   ]
  },
  {
   "cell_type": "code",
   "execution_count": null,
   "metadata": {},
   "outputs": [],
   "source": [
    "alphaDef"
   ]
  },
  {
   "cell_type": "code",
   "execution_count": null,
   "metadata": {},
   "outputs": [],
   "source": [
    "alphaDefSpec = alphaDef.instantiate().proven({lInDomain})\n",
    "alphaDefSpec"
   ]
  },
  {
   "cell_type": "code",
   "execution_count": null,
   "metadata": {},
   "outputs": [],
   "source": [
    "probAsAlphaSqrd = alphaDefSpec.subLeftSideInto(prob_b_modadd_l_eq1)\n",
    "probAsAlphaSqrd"
   ]
  },
  {
   "cell_type": "code",
   "execution_count": null,
   "metadata": {},
   "outputs": [],
   "source": [
    "negDomain = failSum4.rhs.terms[0].domain\n",
    "posDomain = failSum4.rhs.terms[1].domain\n",
    "display(negDomain)\n",
    "display(posDomain)"
   ]
  },
  {
   "cell_type": "code",
   "execution_count": null,
   "metadata": {},
   "outputs": [],
   "source": [
    "negDomain.deduceMemberInInteger(l, {epsInDomain}).proven({In(l, negDomain), epsInDomain})\n",
    "posDomain.deduceMemberInInteger(l, {epsInDomain}).proven({In(l, posDomain), epsInDomain})"
   ]
  },
  {
   "cell_type": "code",
   "execution_count": null,
   "metadata": {},
   "outputs": [],
   "source": [
    "probAsAlphaSqrdOverNegDomain = probAsAlphaSqrd.generalize(l, negDomain)\n",
    "probAsAlphaSqrdOverNegDomain.proven({epsInDomain})"
   ]
  },
  {
   "cell_type": "code",
   "execution_count": null,
   "metadata": {},
   "outputs": [],
   "source": [
    "probAsAlphaSqrdOverPosDomain = probAsAlphaSqrd.generalize(l, failSum4.rhs.terms[1].domain)\n",
    "probAsAlphaSqrdOverPosDomain.proven({epsInDomain})"
   ]
  },
  {
   "cell_type": "code",
   "execution_count": null,
   "metadata": {},
   "outputs": [],
   "source": [
    "negDomainSumEq = failSum4.rhs.terms[0].instanceSubstitution(probAsAlphaSqrdOverNegDomain)\n",
    "negDomainSumEq.proven({epsInDomain})"
   ]
  },
  {
   "cell_type": "code",
   "execution_count": null,
   "metadata": {},
   "outputs": [],
   "source": [
    "posDomainSumEq = failSum4.rhs.terms[1].instanceSubstitution(probAsAlphaSqrdOverPosDomain)\n",
    "posDomainSumEq.proven({epsInDomain})"
   ]
  },
  {
   "cell_type": "code",
   "execution_count": null,
   "metadata": {},
   "outputs": [],
   "source": [
    "failSum5 = negDomainSumEq.subRightSideInto(failSum4)\n",
    "failSum5.proven({epsInDomain})"
   ]
  },
  {
   "cell_type": "code",
   "execution_count": null,
   "metadata": {},
   "outputs": [],
   "source": [
    "failSum6 = posDomainSumEq.subRightSideInto(failSum5)\n",
    "failSum6.proven({epsInDomain})"
   ]
  },
  {
   "cell_type": "code",
   "execution_count": null,
   "metadata": {},
   "outputs": [],
   "source": [
    "cleanNegUpperBound1 = Neg(Add(eps, one)).distribute({epsInDomain})\n",
    "cleanNegUpperBound1.proven({epsInDomain})"
   ]
  },
  {
   "cell_type": "code",
   "execution_count": null,
   "metadata": {},
   "outputs": [],
   "source": [
    "cleanNegUpperBound2 = cleanNegUpperBound1.rhs.subtractionFolding(1, {epsInDomain}).subRightSideInto(cleanNegUpperBound1)\n",
    "cleanNegUpperBound2.proven({epsInDomain})"
   ]
  },
  {
   "cell_type": "code",
   "execution_count": null,
   "metadata": {},
   "outputs": [],
   "source": [
    "failSum7 = cleanNegUpperBound2.subLeftSideInto(failSum6)\n",
    "failSum7.proven({epsInDomain})"
   ]
  },
  {
   "cell_type": "code",
   "execution_count": null,
   "metadata": {},
   "outputs": [],
   "source": [
    "failSum7.generalize(eps, domain=epsInDomain.domain)#.qed()"
   ]
  },
  {
   "cell_type": "code",
   "execution_count": null,
   "metadata": {},
   "outputs": [],
   "source": []
  }
 ],
 "metadata": {
  "kernelspec": {
   "display_name": "Python 3",
   "language": "python",
   "name": "python3"
  }
 },
 "nbformat": 4,
 "nbformat_minor": 0
}
