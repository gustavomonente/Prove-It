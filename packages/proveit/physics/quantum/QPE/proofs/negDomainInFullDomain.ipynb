{
 "cells": [
  {
   "cell_type": "code",
   "execution_count": null,
   "metadata": {},
   "outputs": [],
   "source": [
    "from proveit.basiclogic import In\n",
    "from proveit.number import Neg\n",
    "from proveit.number.common import one\n",
    "from proveit.common import eps\n",
    "from proveit.physics.quantum.QPE.common import l, fullDomain, negDomain, two_pow_t_minus_one\n",
    "from proveit.physics.quantum.QPE.theorems import negDomainInFullDomain, two_pow_tMinusOne_in_posnats\n",
    "from proveit.number.numberSets import NaturalsPos, deducePositive, deduceNegative, deduceInIntegers\n",
    "from IPython.display import display"
   ]
  },
  {
   "cell_type": "code",
   "execution_count": null,
   "metadata": {},
   "outputs": [],
   "source": [
    "negDomainInFullDomain.beginProof()"
   ]
  },
  {
   "cell_type": "code",
   "execution_count": null,
   "metadata": {},
   "outputs": [],
   "source": [
    "epsInNaturalsPos = In(eps, NaturalsPos)\n",
    "lInNegDomain = In(l, negDomain)\n",
    "assumptions = {epsInNaturalsPos, lInNegDomain}\n",
    "display(epsInNaturalsPos)\n",
    "display(lInNegDomain)"
   ]
  },
  {
   "cell_type": "code",
   "execution_count": null,
   "metadata": {},
   "outputs": [],
   "source": [
    "fullDomain"
   ]
  },
  {
   "cell_type": "code",
   "execution_count": null,
   "metadata": {},
   "outputs": [],
   "source": [
    "negDomain.deduceMemberLowerBound(l, assumptions).proven(assumptions)"
   ]
  },
  {
   "cell_type": "code",
   "execution_count": null,
   "metadata": {},
   "outputs": [],
   "source": [
    "lInInts = negDomain.deduceMemberInIntegers(l, assumptions)\n",
    "display(lInInts)\n",
    "lIsNeg = negDomain.deduceMemberIsNegative(l, assumptions)\n",
    "display(lIsNeg)"
   ]
  },
  {
   "cell_type": "code",
   "execution_count": null,
   "metadata": {},
   "outputs": [],
   "source": [
    "deducePositive(fullDomain.upperBound, assumptions).applyTransitivity(lIsNeg).deriveReversed().deriveRelaxed(assumptions).proven(assumptions)"
   ]
  },
  {
   "cell_type": "code",
   "execution_count": null,
   "metadata": {},
   "outputs": [],
   "source": [
    "deduceInIntegers(fullDomain.lowerBound, assumptions)\n",
    "deduceInIntegers(fullDomain.upperBound, assumptions)\n",
    "negDomain.deduceMemberInIntegers(l, assumptions).proven(assumptions)\n",
    "In(l, fullDomain).concludeAsFolded().generalize(l, domain=negDomain).generalize(eps, domain=NaturalsPos).qed()"
   ]
  },
  {
   "cell_type": "code",
   "execution_count": null,
   "metadata": {},
   "outputs": [],
   "source": []
  }
 ],
 "metadata": {
  "kernelspec": {
   "display_name": "Python 3",
   "language": "python",
   "name": "python3"
  }
 },
 "nbformat": 4,
 "nbformat_minor": 0
}
