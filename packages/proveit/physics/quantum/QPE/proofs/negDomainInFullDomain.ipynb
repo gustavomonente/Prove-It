{
 "cells": [
  {
   "cell_type": "code",
   "execution_count": null,
   "metadata": {},
   "outputs": [],
   "source": [
    "from proveit.basiclogic import In\n",
    "from proveit.numbers import Neg\n",
    "from proveit.numbers.common import one\n",
    "from proveit.common import eps\n",
    "from proveit.physics.quantum.QPE.common import l, fullDomain, negDomain, two_pow_t_minus_one\n",
    "from proveit.physics.quantum.QPE.theorems import negDomainInFullDomain, two_pow_tMinusOne_in_posnat\n",
    "from proveit.numbers import NaturalPos, deducePositive, deduceNegative, deduceInInteger\n",
    "from IPython.display import display"
   ]
  },
  {
   "cell_type": "code",
   "execution_count": null,
   "metadata": {},
   "outputs": [],
   "source": [
    "negDomainInFullDomain.beginProof()"
   ]
  },
  {
   "cell_type": "code",
   "execution_count": null,
   "metadata": {},
   "outputs": [],
   "source": [
    "epsInNaturalPos = In(eps, NaturalPos)\n",
    "lInNegDomain = In(l, negDomain)\n",
    "assumptions = {epsInNaturalPos, lInNegDomain}\n",
    "display(epsInNaturalPos)\n",
    "display(lInNegDomain)"
   ]
  },
  {
   "cell_type": "code",
   "execution_count": null,
   "metadata": {},
   "outputs": [],
   "source": [
    "fullDomain"
   ]
  },
  {
   "cell_type": "code",
   "execution_count": null,
   "metadata": {},
   "outputs": [],
   "source": [
    "negDomain.deduceMemberLowerBound(l, assumptions).proven(assumptions)"
   ]
  },
  {
   "cell_type": "code",
   "execution_count": null,
   "metadata": {},
   "outputs": [],
   "source": [
    "lInInts = negDomain.deduceMemberInInteger(l, assumptions)\n",
    "display(lInInts)\n",
    "lIsNeg = negDomain.deduceMemberIsNegative(l, assumptions)\n",
    "display(lIsNeg)"
   ]
  },
  {
   "cell_type": "code",
   "execution_count": null,
   "metadata": {},
   "outputs": [],
   "source": [
    "deducePositive(fullDomain.upperBound, assumptions).applyTransitivity(lIsNeg).deriveReversed().deriveRelaxed(assumptions).proven(assumptions)"
   ]
  },
  {
   "cell_type": "code",
   "execution_count": null,
   "metadata": {},
   "outputs": [],
   "source": [
    "deduceInInteger(fullDomain.lowerBound, assumptions)\n",
    "deduceInInteger(fullDomain.upperBound, assumptions)\n",
    "negDomain.deduceMemberInInteger(l, assumptions).proven(assumptions)\n",
    "In(l, fullDomain).concludeAsFolded().generalize(l, domain=negDomain).generalize(eps, domain=NaturalPos).qed()"
   ]
  },
  {
   "cell_type": "code",
   "execution_count": null,
   "metadata": {},
   "outputs": [],
   "source": []
  }
 ],
 "metadata": {
  "kernelspec": {
   "display_name": "Python 3",
   "language": "python",
   "name": "python3"
  }
 },
 "nbformat": 4,
 "nbformat_minor": 0
}
