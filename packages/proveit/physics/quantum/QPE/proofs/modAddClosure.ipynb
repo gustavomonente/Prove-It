{
 "cells": [
  {
   "cell_type": "code",
   "execution_count": null,
   "metadata": {},
   "outputs": [],
   "source": [
    "from proveit.basiclogic import In\n",
    "from proveit.physics.quantum.QPE.axioms import modAddDef\n",
    "from proveit.physics.quantum.QPE.theorems import modAddClosure, two_pow_t_in_posnats\n",
    "from proveit.number.numberSets import Integers, deduceInIntegers\n",
    "from proveit.number.common import a, b"
   ]
  },
  {
   "cell_type": "code",
   "execution_count": null,
   "metadata": {},
   "outputs": [],
   "source": [
    "modAddClosure.beginProof()"
   ]
  },
  {
   "cell_type": "code",
   "execution_count": null,
   "metadata": {},
   "outputs": [],
   "source": [
    "assumptions = {In(a, Integers), In(b, Integers)}"
   ]
  },
  {
   "cell_type": "code",
   "execution_count": null,
   "metadata": {},
   "outputs": [],
   "source": [
    "modAddDefSpec = modAddDef.specialize()\n",
    "modAddDefSpec"
   ]
  },
  {
   "cell_type": "code",
   "execution_count": null,
   "metadata": {},
   "outputs": [],
   "source": [
    "moduloInIntegers = deduceInIntegers(modAddDefSpec.rhs, assumptions)\n",
    "moduloInIntegers.proven(assumptions)"
   ]
  },
  {
   "cell_type": "code",
   "execution_count": null,
   "metadata": {},
   "outputs": [],
   "source": [
    "modAddInIntegers = modAddDefSpec.subLeftSideInto(moduloInIntegers).proven(assumptions)\n",
    "modAddInIntegers"
   ]
  },
  {
   "cell_type": "code",
   "execution_count": null,
   "metadata": {},
   "outputs": [],
   "source": [
    "modAddInIntegers.generalize((a, b), domain=Integers).qed()"
   ]
  },
  {
   "cell_type": "code",
   "execution_count": null,
   "metadata": {},
   "outputs": [],
   "source": []
  }
 ],
 "metadata": {
  "kernelspec": {
   "display_name": "Python 3",
   "language": "python",
   "name": "python3"
  }
 },
 "nbformat": 4,
 "nbformat_minor": 0
}
