{
 "cells": [
  {
   "cell_type": "code",
   "execution_count": null,
   "metadata": {},
   "outputs": [],
   "source": [
    "from proveit.basiclogic import In, NotEquals, autoSubstitute\n",
    "from proveit.physics.quantum.QPE.theorems import nonIntDeltaDiff, two_pow_t_in_posnats, two_pow_tMinusOne_in_posnats, deltaDiffInInterval, \\\n",
    "    delta_notEq_scaledNonzeroInt, deltaInReals\n",
    "from proveit.physics.quantum.QPE.common import fullDomain, delta_\n",
    "from proveit.number.common import a, b, c, l, n, x, y,zero, one, two\n",
    "from proveit.number.arithmeticOps import IntervalOO, LessThan, GreaterThan, Neg\n",
    "from proveit.number import deduceInReals, deducePositive, deduceInIntegers, deduceInComplexes\n",
    "from proveit.number.real.theorems import notIntIfBetweenSuccessiveInts, notEqualsIsLessThanOrGreaterThan, divIneqThm1strong\n",
    "from proveit.number.complex.theorems import addNegAsSubtract, notEq_iff_diffNotZero\n",
    "from proveit.number.natural.axioms import oneAddOne, zeroAddOne\n",
    "from IPython.display import display"
   ]
  },
  {
   "cell_type": "code",
   "execution_count": null,
   "metadata": {},
   "outputs": [],
   "source": [
    "nonIntDeltaDiff.beginProof()"
   ]
  },
  {
   "cell_type": "code",
   "execution_count": null,
   "metadata": {},
   "outputs": [],
   "source": [
    "lInDomain = In(l, fullDomain)\n",
    "display(lInDomain)\n",
    "lNotZero = NotEquals(l, zero)\n",
    "display(lNotZero)\n",
    "assumptions = {lInDomain, lNotZero}"
   ]
  },
  {
   "cell_type": "code",
   "execution_count": null,
   "metadata": {},
   "outputs": [],
   "source": [
    "fullDomain.deduceMemberInIntegers(l).proven(assumptions)"
   ]
  },
  {
   "cell_type": "code",
   "execution_count": null,
   "metadata": {},
   "outputs": [],
   "source": [
    "deltaDiffInInterval"
   ]
  },
  {
   "cell_type": "code",
   "execution_count": null,
   "metadata": {},
   "outputs": [],
   "source": [
    "deltaDiffInDomain = deltaDiffInInterval.instantiate().proven(assumptions)\n",
    "deltaDiffInDomain"
   ]
  },
  {
   "cell_type": "code",
   "execution_count": null,
   "metadata": {},
   "outputs": [],
   "source": [
    "deltaDiff = deltaDiffInDomain.element\n",
    "deltaDiff"
   ]
  },
  {
   "cell_type": "code",
   "execution_count": null,
   "metadata": {},
   "outputs": [],
   "source": [
    "deltaDiffInDomain.domain.deduceMemberInReals(deltaDiff)"
   ]
  },
  {
   "cell_type": "code",
   "execution_count": null,
   "metadata": {},
   "outputs": [],
   "source": [
    "deltaDiffUpperBound = deltaDiffInDomain.domain.deduceMemberUpperBound(deltaDiff)\n",
    "deltaDiffUpperBound.proven(assumptions)"
   ]
  },
  {
   "cell_type": "code",
   "execution_count": null,
   "metadata": {},
   "outputs": [],
   "source": [
    "deltaDiffLowerBound = deltaDiffInDomain.domain.deduceMemberLowerBound(deltaDiff)\n",
    "deltaDiffLowerBound.proven(assumptions)"
   ]
  },
  {
   "cell_type": "code",
   "execution_count": null,
   "metadata": {},
   "outputs": [],
   "source": [
    "oneAddOne"
   ]
  },
  {
   "cell_type": "code",
   "execution_count": null,
   "metadata": {},
   "outputs": [],
   "source": [
    "numIneq1 = oneAddOne.lhs.deduceStrictIncrease(0)\n",
    "numIneq1.proven()"
   ]
  },
  {
   "cell_type": "code",
   "execution_count": null,
   "metadata": {},
   "outputs": [],
   "source": [
    "numIneq2 = oneAddOne.subRightSideInto(numIneq1).deriveReversed()\n",
    "numIneq2.proven()"
   ]
  },
  {
   "cell_type": "code",
   "execution_count": null,
   "metadata": {},
   "outputs": [],
   "source": [
    "divIneqThm1strong"
   ]
  },
  {
   "cell_type": "code",
   "execution_count": null,
   "metadata": {},
   "outputs": [],
   "source": [
    "deduceInReals(one)\n",
    "deduceInReals(two)\n",
    "deducePositive(two)\n",
    "numIneq3 = divIneqThm1strong.instantiate({a:one, b:two, c:two})\n",
    "numIneq3.proven()"
   ]
  },
  {
   "cell_type": "code",
   "execution_count": null,
   "metadata": {},
   "outputs": [],
   "source": [
    "halfLessThanOne = autoSubstitute(numIneq3, 'cancel', [two], superExpr=numIneq3.rhs)\n",
    "halfLessThanOne.proven()"
   ]
  },
  {
   "cell_type": "code",
   "execution_count": null,
   "metadata": {},
   "outputs": [],
   "source": [
    "negHalfGreaterThanNegOne = halfLessThanOne.deriveNegated()\n",
    "negHalfGreaterThanNegOne.proven()"
   ]
  },
  {
   "cell_type": "code",
   "execution_count": null,
   "metadata": {},
   "outputs": [],
   "source": [
    "deltaDiffLessThanOne = deltaDiffUpperBound.applyTransitivity(halfLessThanOne)\n",
    "deltaDiffLessThanOne"
   ]
  },
  {
   "cell_type": "code",
   "execution_count": null,
   "metadata": {},
   "outputs": [],
   "source": [
    "deltaDiffGreaterThanNegOne = deltaDiffLowerBound.applyTransitivity(negHalfGreaterThanNegOne)\n",
    "deltaDiffGreaterThanNegOne"
   ]
  },
  {
   "cell_type": "code",
   "execution_count": null,
   "metadata": {},
   "outputs": [],
   "source": [
    "deduceInReals(zero)\n",
    "GreaterThan(deltaDiff, zero).deriveReversed()\n",
    "In(deltaDiff, IntervalOO(zero, one)).concludeAsFolded().proven(assumptions | {GreaterThan(deltaDiff, zero)})"
   ]
  },
  {
   "cell_type": "code",
   "execution_count": null,
   "metadata": {},
   "outputs": [],
   "source": [
    "deduceInReals(Neg(one))\n",
    "In(deltaDiff, IntervalOO(Neg(one), zero)).concludeAsFolded().proven(assumptions | {LessThan(deltaDiff, zero)})"
   ]
  },
  {
   "cell_type": "code",
   "execution_count": null,
   "metadata": {},
   "outputs": [],
   "source": [
    "notIntIfBetweenSuccessiveInts"
   ]
  },
  {
   "cell_type": "code",
   "execution_count": null,
   "metadata": {},
   "outputs": [],
   "source": [
    "deduceInIntegers(zero)\n",
    "notInIntsEq1 = notIntIfBetweenSuccessiveInts.instantiate({n:zero})\n",
    "notInIntsEq1.proven()"
   ]
  },
  {
   "cell_type": "code",
   "execution_count": null,
   "metadata": {},
   "outputs": [],
   "source": [
    "notInIntsEq2 = zeroAddOne.subRightSideInto(notInIntsEq1).proven()\n",
    "notInIntsEq2"
   ]
  },
  {
   "cell_type": "code",
   "execution_count": null,
   "metadata": {},
   "outputs": [],
   "source": [
    "notInIntsAssumingPositive = notInIntsEq2.instantiate({x:deltaDiff}).proven(assumptions | {LessThan(zero, deltaDiff)})\n",
    "notInIntsAssumingPositive"
   ]
  },
  {
   "cell_type": "code",
   "execution_count": null,
   "metadata": {},
   "outputs": [],
   "source": [
    "deduceInIntegers(Neg(one))\n",
    "notInIntsEq3 = notIntIfBetweenSuccessiveInts.instantiate({n:Neg(one)})\n",
    "notInIntsEq3"
   ]
  },
  {
   "cell_type": "code",
   "execution_count": null,
   "metadata": {},
   "outputs": [],
   "source": [
    "negOneAddOneEq1 = notInIntsEq3.domain.upperBound.commute().proven()\n",
    "negOneAddOneEq1.proven()"
   ]
  },
  {
   "cell_type": "code",
   "execution_count": null,
   "metadata": {},
   "outputs": [],
   "source": [
    "addNegAsSubtract"
   ]
  },
  {
   "cell_type": "code",
   "execution_count": null,
   "metadata": {},
   "outputs": [],
   "source": [
    "deduceInComplexes(one)\n",
    "negOneAddOneEq2 = addNegAsSubtract.instantiate({x:one, y:one}).subRightSideInto(negOneAddOneEq1)\n",
    "negOneAddOneEq2.proven()"
   ]
  },
  {
   "cell_type": "code",
   "execution_count": null,
   "metadata": {},
   "outputs": [],
   "source": [
    "negOneAddOne_eq_zero = negOneAddOneEq2.rhs.cancel().subRightSideInto(negOneAddOneEq2)\n",
    "negOneAddOne_eq_zero"
   ]
  },
  {
   "cell_type": "code",
   "execution_count": null,
   "metadata": {},
   "outputs": [],
   "source": [
    "notInIntsEq4 = negOneAddOne_eq_zero.subRightSideInto(notInIntsEq3)\n",
    "notInIntsEq4.proven()"
   ]
  },
  {
   "cell_type": "code",
   "execution_count": null,
   "metadata": {},
   "outputs": [],
   "source": [
    "notInIntsAssumingNegative = notInIntsEq4.instantiate({x:deltaDiff})\n",
    "notInIntsAssumingNegative.proven(assumptions | {LessThan(zero, deltaDiff)})"
   ]
  },
  {
   "cell_type": "code",
   "execution_count": null,
   "metadata": {},
   "outputs": [],
   "source": [
    "delta_notEq_scaledNonzeroInt"
   ]
  },
  {
   "cell_type": "code",
   "execution_count": null,
   "metadata": {},
   "outputs": [],
   "source": [
    "delta_notEq_scaledNonzeroInt.instantiate().proven(assumptions)"
   ]
  },
  {
   "cell_type": "code",
   "execution_count": null,
   "metadata": {},
   "outputs": [],
   "source": [
    "notEq_iff_diffNotZero"
   ]
  },
  {
   "cell_type": "code",
   "execution_count": null,
   "metadata": {},
   "outputs": [],
   "source": [
    "deduceInComplexes(delta_)\n",
    "lFrac = deltaDiff.operands[1]\n",
    "deduceInComplexes(lFrac, assumptions)\n",
    "notEq_iff_diffNotZero.instantiate({a:delta_, b:lFrac}).deriveRight().proven(assumptions)"
   ]
  },
  {
   "cell_type": "code",
   "execution_count": null,
   "metadata": {},
   "outputs": [],
   "source": [
    "notEqualsIsLessThanOrGreaterThan"
   ]
  },
  {
   "cell_type": "code",
   "execution_count": null,
   "metadata": {},
   "outputs": [],
   "source": [
    "deltaDiffIsPositiveOrNegative = notEqualsIsLessThanOrGreaterThan.instantiate({a:zero, x:deltaDiff})\n",
    "deltaDiffIsPositiveOrNegative.proven(assumptions)"
   ]
  },
  {
   "cell_type": "code",
   "execution_count": null,
   "metadata": {},
   "outputs": [],
   "source": [
    "notInIntsAssumingNegative"
   ]
  },
  {
   "cell_type": "code",
   "execution_count": null,
   "metadata": {},
   "outputs": [],
   "source": [
    "deltaDiffIsPositiveOrNegative.operands[0].deduceInBooleans(assumptions)\n",
    "deltaDiffIsPositiveOrNegative.operands[1].deduceInBooleans(assumptions)\n",
    "notInIntsAssumingNegative.deduceInBool()\n",
    "notInInts = deltaDiffIsPositiveOrNegative.deriveCommonConclusion(notInIntsAssumingNegative)\n",
    "notInInts.proven(assumptions)"
   ]
  },
  {
   "cell_type": "code",
   "execution_count": null,
   "metadata": {},
   "outputs": [],
   "source": [
    "notInInts.generalize(l, domain=fullDomain, conditions=[NotEquals(l, zero)]).qed()"
   ]
  },
  {
   "cell_type": "code",
   "execution_count": null,
   "metadata": {},
   "outputs": [],
   "source": []
  },
  {
   "cell_type": "code",
   "execution_count": null,
   "metadata": {},
   "outputs": [],
   "source": []
  }
 ],
 "metadata": {
  "kernelspec": {
   "display_name": "Python 3",
   "language": "python",
   "name": "python3"
  }
 },
 "nbformat": 4,
 "nbformat_minor": 0
}
