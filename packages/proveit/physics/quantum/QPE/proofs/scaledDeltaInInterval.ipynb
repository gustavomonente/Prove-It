{
 "cells": [
  {
   "cell_type": "code",
   "execution_count": null,
   "metadata": {},
   "outputs": [],
   "source": [
    "from proveit.basiclogic import Equation, autoSubstitute\n",
    "from proveit.physics.quantum.QPE.axioms import bestDef, deltaDef, phaseInInterval\n",
    "from proveit.physics.quantum.QPE.common import b_, two_pow_t\n",
    "from proveit.physics.quantum.QPE.theorems import scaledDeltaInInterval, two_pow_t_in_posnat, phaseInReal, bestInInt\n",
    "from proveit.number import Multiply, frac, Floor\n",
    "from proveit.number.real.axioms import floorDef\n",
    "from proveit.number import deduceInReal\n",
    "from proveit.common import x, X"
   ]
  },
  {
   "cell_type": "code",
   "execution_count": null,
   "metadata": {},
   "outputs": [],
   "source": [
    "scaledDeltaInInterval.beginProof()"
   ]
  },
  {
   "cell_type": "code",
   "execution_count": null,
   "metadata": {},
   "outputs": [],
   "source": [
    "phaseInInterval"
   ]
  },
  {
   "cell_type": "code",
   "execution_count": null,
   "metadata": {},
   "outputs": [],
   "source": [
    "bestDef"
   ]
  },
  {
   "cell_type": "code",
   "execution_count": null,
   "metadata": {},
   "outputs": [],
   "source": [
    "deltaDef"
   ]
  },
  {
   "cell_type": "code",
   "execution_count": null,
   "metadata": {},
   "outputs": [],
   "source": [
    "X0 = deltaDef.substitution(Multiply(two_pow_t, X), X)\n",
    "X0.proven()"
   ]
  },
  {
   "cell_type": "code",
   "execution_count": null,
   "metadata": {},
   "outputs": [],
   "source": [
    "X1 = X0.applyTransitivity(X0.rhs.distribute(1))\n",
    "X1.proven()"
   ]
  },
  {
   "cell_type": "code",
   "execution_count": null,
   "metadata": {},
   "outputs": [],
   "source": [
    "X2 = frac(Multiply(two_pow_t, b_), two_pow_t).factor(two_pow_t).subLeftSideInto(X1)\n",
    "X2.proven()"
   ]
  },
  {
   "cell_type": "code",
   "execution_count": null,
   "metadata": {},
   "outputs": [],
   "source": [
    "X3 = autoSubstitute(X2, 'cancel', [two_pow_t], subExprClass=Fraction)\n",
    "X3.proven()"
   ]
  },
  {
   "cell_type": "code",
   "execution_count": null,
   "metadata": {},
   "outputs": [],
   "source": [
    "X4 = bestDef.subRightSideInto(X3)\n",
    "X4.proven()"
   ]
  },
  {
   "cell_type": "code",
   "execution_count": null,
   "metadata": {},
   "outputs": [],
   "source": [
    "X5 = autoSubstitute(X4, 'commute', [], superExpr=X4.rhs.operands[1])\n",
    "X5"
   ]
  },
  {
   "cell_type": "code",
   "execution_count": null,
   "metadata": {},
   "outputs": [],
   "source": [
    "floorDef"
   ]
  },
  {
   "cell_type": "code",
   "execution_count": null,
   "metadata": {},
   "outputs": [],
   "source": [
    "deduceInReal(X5.rhs.operands[0])\n",
    "floorDefProperty = floorDef.instantiate({x:X5.rhs.operands[0]}).deriveRight()\n",
    "floorDefProperty.proven()"
   ]
  },
  {
   "cell_type": "code",
   "execution_count": null,
   "metadata": {},
   "outputs": [],
   "source": [
    "X5.subLeftSideInto(floorDefProperty).qed()"
   ]
  },
  {
   "cell_type": "code",
   "execution_count": null,
   "metadata": {},
   "outputs": [],
   "source": []
  }
 ],
 "metadata": {
  "kernelspec": {
   "display_name": "Python 3",
   "language": "python",
   "name": "python3"
  }
 },
 "nbformat": 4,
 "nbformat_minor": 0
}
