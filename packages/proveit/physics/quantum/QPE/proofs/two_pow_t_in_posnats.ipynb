{
 "cells": [
  {
   "cell_type": "code",
   "execution_count": null,
   "metadata": {},
   "outputs": [],
   "source": [
    "from proveit.physics.quantum.QPE.axioms import tInNaturalPos\n",
    "from proveit.physics.quantum.QPE.common import t_\n",
    "from proveit.physics.quantum.QPE.theorems import two_pow_t_in_posnat\n",
    "from proveit.numbers.common import two\n",
    "from proveit.numbers import NaturalPos, deduceInNaturalPos\n",
    "from proveit.basiclogic import In\n",
    "from proveit.numbers import Exponentiate"
   ]
  },
  {
   "cell_type": "code",
   "execution_count": null,
   "metadata": {},
   "outputs": [],
   "source": [
    "two_pow_t_in_posnat.beginProof()"
   ]
  },
  {
   "cell_type": "code",
   "execution_count": null,
   "metadata": {},
   "outputs": [],
   "source": [
    "two_pow_t_in_posnat.statement._isNamedTheorem = False"
   ]
  },
  {
   "cell_type": "code",
   "execution_count": null,
   "metadata": {},
   "outputs": [],
   "source": [
    "deduceInNaturalPos(Exponentiate(two, t_)).qed()"
   ]
  },
  {
   "cell_type": "code",
   "execution_count": null,
   "metadata": {},
   "outputs": [],
   "source": []
  }
 ],
 "metadata": {
  "kernelspec": {
   "display_name": "Python 3",
   "language": "python",
   "name": "python3"
  }
 },
 "nbformat": 4,
 "nbformat_minor": 0
}
