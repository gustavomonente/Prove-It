{
 "cells": [
  {
   "cell_type": "code",
   "execution_count": null,
   "metadata": {},
   "outputs": [],
   "source": [
    "from proveit.physics.quantum.QPE.axioms import tInNaturalsPos\n",
    "from proveit.physics.quantum.QPE.common import t_\n",
    "from proveit.physics.quantum.QPE.theorems import two_pow_t_in_posnats\n",
    "from proveit.number.common import two\n",
    "from proveit.number.numberSets import NaturalsPos, deduceInNaturalsPos\n",
    "from proveit.basiclogic import In\n",
    "from proveit.number import Exponentiate"
   ]
  },
  {
   "cell_type": "code",
   "execution_count": null,
   "metadata": {},
   "outputs": [],
   "source": [
    "two_pow_t_in_posnats.beginProof()"
   ]
  },
  {
   "cell_type": "code",
   "execution_count": null,
   "metadata": {},
   "outputs": [],
   "source": [
    "two_pow_t_in_posnats.statement._isNamedTheorem = False"
   ]
  },
  {
   "cell_type": "code",
   "execution_count": null,
   "metadata": {},
   "outputs": [],
   "source": [
    "deduceInNaturalsPos(Exponentiate(two, t_)).qed()"
   ]
  },
  {
   "cell_type": "code",
   "execution_count": null,
   "metadata": {},
   "outputs": [],
   "source": []
  }
 ],
 "metadata": {
  "kernelspec": {
   "display_name": "Python 3",
   "language": "python",
   "name": "python3"
  }
 },
 "nbformat": 4,
 "nbformat_minor": 0
}
