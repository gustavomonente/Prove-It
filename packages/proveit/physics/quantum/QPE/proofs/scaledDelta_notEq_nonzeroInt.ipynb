{
 "cells": [
  {
   "cell_type": "code",
   "execution_count": null,
   "metadata": {},
   "outputs": [],
   "source": [
    "from proveit.basiclogic import Implies, FALSE, In, Equals, NotEquals, autoSubstitute\n",
    "from proveit.physics.quantum.QPE.theorems import scaledDelta_notEq_nonzeroInt, two_pow_t_in_posnats, scaledDeltaInInterval, deltaInReals\n",
    "from proveit.physics.quantum.QPE.common import two_pow_t \n",
    "from proveit.common import a, b, c, l, n, x\n",
    "from proveit.number import IntervalOO\n",
    "from proveit.number.common import zero, one\n",
    "from proveit.number import Integers, deduceInReals, deduceInIntegers\n",
    "from proveit.number.real.theorems import notIntIfBetweenSuccessiveInts\n",
    "from proveit.number.natural.axioms import zeroAddOne\n",
    "from IPython.display import display"
   ]
  },
  {
   "cell_type": "code",
   "execution_count": null,
   "metadata": {},
   "outputs": [],
   "source": [
    "scaledDelta_notEq_nonzeroInt.beginProof()"
   ]
  },
  {
   "cell_type": "code",
   "execution_count": null,
   "metadata": {},
   "outputs": [],
   "source": [
    "lInInts = In(l, Integers)\n",
    "lNotZero = NotEquals(l, zero)\n",
    "assumptions = {lInInts, lNotZero}\n",
    "display(lInInts)\n",
    "display(lNotZero)"
   ]
  },
  {
   "cell_type": "code",
   "execution_count": null,
   "metadata": {},
   "outputs": [],
   "source": [
    "scaledDelta = scaledDeltaInInterval.element\n",
    "scaledDeltaInInterval"
   ]
  },
  {
   "cell_type": "code",
   "execution_count": null,
   "metadata": {},
   "outputs": [],
   "source": [
    "contradiction = Equals(scaledDelta, l)\n",
    "contradiction"
   ]
  },
  {
   "cell_type": "code",
   "execution_count": null,
   "metadata": {},
   "outputs": [],
   "source": [
    "lLowerBoundLoose = contradiction.subRightSideInto(scaledDeltaInInterval.domain.deduceMemberLowerBound(scaledDelta))\n",
    "lLowerBoundLoose.proven({contradiction})"
   ]
  },
  {
   "cell_type": "code",
   "execution_count": null,
   "metadata": {},
   "outputs": [],
   "source": [
    "lUpperBound = contradiction.subRightSideInto(scaledDeltaInInterval.domain.deduceMemberUpperBound(scaledDelta))\n",
    "lUpperBound.proven({contradiction})"
   ]
  },
  {
   "cell_type": "code",
   "execution_count": null,
   "metadata": {},
   "outputs": [],
   "source": [
    "lNotZero.deriveReversed().unfold().proven(assumptions)"
   ]
  },
  {
   "cell_type": "code",
   "execution_count": null,
   "metadata": {},
   "outputs": [],
   "source": [
    "lLowerBoundTight = lLowerBoundLoose.unfold(assumptions).deriveLeftIfNotRight()\n",
    "lLowerBoundTight.deduceInBooleans(assumptions)\n",
    "lLowerBoundTight.proven({contradiction} | assumptions)"
   ]
  },
  {
   "cell_type": "code",
   "execution_count": null,
   "metadata": {},
   "outputs": [],
   "source": [
    "deduceInReals(l, {contradiction} | assumptions)\n",
    "deduceInReals(zero)\n",
    "deduceInReals(one)\n",
    "In(l, IntervalOO(zero, one)).concludeAsFolded().proven({contradiction} | assumptions)"
   ]
  },
  {
   "cell_type": "code",
   "execution_count": null,
   "metadata": {},
   "outputs": [],
   "source": [
    "deduceInIntegers(zero)\n",
    "lNotInt = zeroAddOne.subRightSideInto(notIntIfBetweenSuccessiveInts.instantiate({n:zero, x:l})).instantiate()\n",
    "lNotInt.proven({contradiction} | assumptions)"
   ]
  },
  {
   "cell_type": "code",
   "execution_count": null,
   "metadata": {},
   "outputs": [],
   "source": [
    "lNotInt.unfold().deriveContradiction().conclusion.proven({contradiction} | assumptions)"
   ]
  },
  {
   "cell_type": "code",
   "execution_count": null,
   "metadata": {},
   "outputs": [],
   "source": [
    "contradiction.deduceInBool()\n",
    "ineq = Implies(contradiction, FALSE).deriveViaContradiction().deriveNotEquals().proven(assumptions)\n",
    "ineq"
   ]
  },
  {
   "cell_type": "code",
   "execution_count": null,
   "metadata": {},
   "outputs": [],
   "source": [
    "ineq.generalize(l, domain=Integers, conditions=[NotEquals(l, zero)]).qed()"
   ]
  },
  {
   "cell_type": "code",
   "execution_count": null,
   "metadata": {},
   "outputs": [],
   "source": []
  },
  {
   "cell_type": "code",
   "execution_count": null,
   "metadata": {},
   "outputs": [],
   "source": []
  }
 ],
 "metadata": {
  "kernelspec": {
   "display_name": "Python 3",
   "language": "python",
   "name": "python3"
  }
 },
 "nbformat": 4,
 "nbformat_minor": 0
}
