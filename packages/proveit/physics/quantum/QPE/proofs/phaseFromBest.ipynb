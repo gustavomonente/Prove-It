{
 "cells": [
  {
   "cell_type": "code",
   "execution_count": null,
   "metadata": {},
   "outputs": [],
   "source": [
    "from proveit.basiclogic import autoSubstitute\n",
    "from proveit.physics.quantum.QPE.axioms import deltaDef\n",
    "from proveit.physics.quantum.QPE.theorems import phaseFromBest, two_pow_t_in_posnat, bestInInts, phaseInReals\n",
    "from proveit.physics.quantum.QPE.common import phase_\n",
    "from proveit.common import a, b, X\n",
    "from proveit.number import Add\n",
    "from proveit.number import deduceInComplexes\n",
    "from proveit.number.complex.theorems import cancelSubThenAdd"
   ]
  },
  {
   "cell_type": "code",
   "execution_count": null,
   "metadata": {},
   "outputs": [],
   "source": [
    "phaseFromBest.beginProof()"
   ]
  },
  {
   "cell_type": "code",
   "execution_count": null,
   "metadata": {},
   "outputs": [],
   "source": [
    "deltaDef"
   ]
  },
  {
   "cell_type": "code",
   "execution_count": null,
   "metadata": {},
   "outputs": [],
   "source": [
    "b_term = deltaDef.rhs.operands[1]\n",
    "b_term"
   ]
  },
  {
   "cell_type": "code",
   "execution_count": null,
   "metadata": {},
   "outputs": [],
   "source": [
    "X0 = deltaDef.substitution(Add(b_term, X), X)\n",
    "X0.proven()"
   ]
  },
  {
   "cell_type": "code",
   "execution_count": null,
   "metadata": {},
   "outputs": [],
   "source": [
    "X1 = autoSubstitute(X0, 'commute', [], superExpr=X0.rhs)\n",
    "X1.proven()"
   ]
  },
  {
   "cell_type": "code",
   "execution_count": null,
   "metadata": {},
   "outputs": [],
   "source": [
    "cancelSubThenAdd"
   ]
  },
  {
   "cell_type": "code",
   "execution_count": null,
   "metadata": {},
   "outputs": [],
   "source": [
    "deduceInComplexes(phase_)\n",
    "deduceInComplexes(b_term)\n",
    "X2 = cancelSubThenAdd.instantiate({a:phase_, b:b_term})\n",
    "X2.proven()"
   ]
  },
  {
   "cell_type": "code",
   "execution_count": null,
   "metadata": {},
   "outputs": [],
   "source": [
    "X3 = X1.applyTransitivity(X2)\n",
    "X3.proven()"
   ]
  },
  {
   "cell_type": "code",
   "execution_count": null,
   "metadata": {},
   "outputs": [],
   "source": [
    "X3.deriveReversed().qed()"
   ]
  },
  {
   "cell_type": "code",
   "execution_count": null,
   "metadata": {},
   "outputs": [],
   "source": []
  }
 ],
 "metadata": {
  "kernelspec": {
   "display_name": "Python 3",
   "language": "python",
   "name": "python3"
  }
 },
 "nbformat": 4,
 "nbformat_minor": 0
}
