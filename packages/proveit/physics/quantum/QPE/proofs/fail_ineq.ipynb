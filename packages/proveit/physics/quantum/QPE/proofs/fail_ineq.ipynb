{
 "cells": [
  {
   "cell_type": "code",
   "execution_count": null,
   "metadata": {},
   "outputs": [],
   "source": [
    "from proveit.basiclogic import autoSubstitute, autoSubstitution, In, Equation, And, compose\n",
    "from proveit.numbers.arithmeticOps import *\n",
    "from proveit.common import a, b, k, l, r, x, eps\n",
    "from proveit.numbers import Exponentiate, Add, subtract, Multiply, Abs\n",
    "from proveit.numbers.common import *\n",
    "from proveit.physics.quantum.QPE.axioms import tInNaturalPos, modAddDef\n",
    "from proveit.physics.quantum.QPE.theorems import fail_ineq, posDomainInFullDomain, negDomainInFullDomain, \\\n",
    "    two_pow_tMinusOne_in_posnat, phaseInReal, all_alpha_l_in_complex, all_abs_alpha_l_nonneg, deltaInReal, scaledDeltaInInterval, \\\n",
    "    scaledDelta_notEq_nonzeroInt, alpha_l_sqrd_ineq, fail_sum\n",
    "from proveit.physics.quantum.QPE.common import alpha_l, alpha_l_sqrd, t_, delta_, two_pow_t_minus_one, \\\n",
    "    fullDomain, negDomain, posDomain, epsDomain\n",
    "from proveit.physics.quantum.QPE.phaseEstOps import Psuccess, Pfail, ModAdd\n",
    "from proveit.numbers.complex.theorems import cancelSubAndAdd, negNeg, cancelAddNeg, addNegAsSubtract, \\\n",
    "    subTwoAddOne, addTwice\n",
    "from proveit.numbers.natural.axioms import oneAddOne\n",
    "from proveit.numbers.integer.theorems import sumIneq1, indexShift, sumEq, evenFuncSum, sumIntegrateIneq1\n",
    "from proveit.numbers.relation import Relation\n",
    "from proveit.numbers.real.theorems import sumFactor_temp, sumIneq2, ineqThm5, ineqThm6a, ineqThm7a, ineqThm8a, \\\n",
    "    simplifyQuarterTimesTwo, boundedInvSqrdIntegral, inverseSqrdIsEvenFunc, inverseSqrdIsMonDecFunc\n",
    "from proveit.basiclogic.set import Union\n",
    "from IPython.display import display"
   ]
  },
  {
   "cell_type": "code",
   "execution_count": null,
   "metadata": {},
   "outputs": [],
   "source": [
    "fail_ineq.beginProof()"
   ]
  },
  {
   "cell_type": "code",
   "execution_count": null,
   "metadata": {},
   "outputs": [],
   "source": [
    "def showExprTree(expr, indent = ''):\n",
    "    print(indent + str(expr.__class__) + \": \" + str(expr))\n",
    "    for subExpr in expr._subExpressions:\n",
    "        showExprTree(subExpr, indent + '  ')"
   ]
  },
  {
   "cell_type": "code",
   "execution_count": null,
   "metadata": {},
   "outputs": [],
   "source": [
    "epsInDomain = In(eps, epsDomain)\n",
    "display(epsInDomain)\n",
    "display(epsDomain.deduceMemberInNaturalPos(eps).proven({epsInDomain}))\n",
    "epsLowerBound = epsDomain.deduceMemberLowerBound(eps).deriveReversed().proven({epsInDomain})\n",
    "display(epsLowerBound)\n",
    "epsUpperBound = epsDomain.deduceMemberUpperBound(eps).proven({epsInDomain})\n",
    "display(epsUpperBound)"
   ]
  },
  {
   "cell_type": "code",
   "execution_count": null,
   "metadata": {},
   "outputs": [],
   "source": [
    "fail_sum_special = fail_sum.instantiate().proven({epsInDomain})\n",
    "fail_sum_special"
   ]
  },
  {
   "cell_type": "code",
   "execution_count": null,
   "metadata": {},
   "outputs": [],
   "source": [
    "display(negDomain)\n",
    "display(posDomain)\n",
    "display(fullDomain)"
   ]
  },
  {
   "cell_type": "code",
   "execution_count": null,
   "metadata": {},
   "outputs": [],
   "source": [
    "lInDomain = In(l, fullDomain)\n",
    "lNotZero = NotEquals(l, zero)\n",
    "display(lInDomain)\n",
    "display(lNotZero)\n"
   ]
  },
  {
   "cell_type": "code",
   "execution_count": null,
   "metadata": {},
   "outputs": [],
   "source": [
    "display(negDomainInFullDomain.instantiate().instantiate().proven({epsInDomain, In(l, negDomain)}))\n",
    "display(posDomainInFullDomain.instantiate().instantiate().proven({epsInDomain, In(l, posDomain)}))\n",
    "display(negDomain.deduceMemberInInteger(l, {epsInDomain}).proven({epsInDomain, In(l,negDomain)}))\n",
    "display(posDomain.deduceMemberInInteger(l, {epsInDomain}).proven({epsInDomain, In(l,posDomain)}))"
   ]
  },
  {
   "cell_type": "code",
   "execution_count": null,
   "metadata": {},
   "outputs": [],
   "source": [
    "lInNegDomainIsNeg = negDomain.deduceMemberIsNegative(l, {epsInDomain})\n",
    "display(lInNegDomainIsNeg.proven({epsInDomain, In(l, negDomain)}))\n",
    "display(lInNegDomainIsNeg.deriveRelaxed({epsInDomain, In(l, negDomain)}).proven({epsInDomain, In(l, negDomain)}))\n",
    "display(posDomain.deduceMemberIsPositive(l, {epsInDomain}).proven({epsInDomain, In(l, posDomain)}))"
   ]
  },
  {
   "cell_type": "code",
   "execution_count": null,
   "metadata": {},
   "outputs": [],
   "source": [
    "epsPlusOneIneq = Add(eps, one).deduceStrictIncrease(1, {epsInDomain}).proven({epsInDomain})\n",
    "display(epsPlusOneIneq)\n",
    "posDomainLowerBound = posDomain.deduceMemberLowerBound(l, {epsInDomain}).deriveReversed()\n",
    "display(posDomainLowerBound)\n",
    "posDomainGreaterThanOne = posDomainLowerBound.applyTransitivity(epsPlusOneIneq).proven({epsInDomain, In(l, posDomain)})\n",
    "display(posDomainGreaterThanOne)\n",
    "display(deducePositive(subtract(l, one), {epsInDomain, In(l, posDomain)}).proven({epsInDomain, In(l, posDomain)}))\n"
   ]
  },
  {
   "cell_type": "code",
   "execution_count": null,
   "metadata": {},
   "outputs": [],
   "source": [
    "display(deduceNotZero(l, {epsInDomain, In(l, negDomain)}).proven({epsInDomain, In(l, negDomain)}))\n",
    "display(deduceNotZero(l, {epsInDomain, In(l, posDomain)}).proven({epsInDomain, In(l, posDomain)}))"
   ]
  },
  {
   "cell_type": "code",
   "execution_count": null,
   "metadata": {},
   "outputs": [],
   "source": [
    "Y0 = alpha_l_sqrd_ineq.instantiate().proven({lInDomain, lNotZero})\n",
    "Y0"
   ]
  },
  {
   "cell_type": "code",
   "execution_count": null,
   "metadata": {},
   "outputs": [],
   "source": [
    "scaledDelta_notEq_nonzeroInt"
   ]
  },
  {
   "cell_type": "code",
   "execution_count": null,
   "metadata": {},
   "outputs": [],
   "source": [
    "display(scaledDelta_notEq_nonzeroInt.instantiate().proven({epsInDomain, In(l, posDomain)}))\n",
    "display(scaledDelta_notEq_nonzeroInt.instantiate().proven({epsInDomain, In(l, negDomain)}))"
   ]
  },
  {
   "cell_type": "code",
   "execution_count": null,
   "metadata": {},
   "outputs": [],
   "source": [
    "sumIneq1"
   ]
  },
  {
   "cell_type": "code",
   "execution_count": null,
   "metadata": {},
   "outputs": [],
   "source": [
    "Y1a = sumIneq1.instantiate({Operation(a,l):alpha_l_sqrd, Operation(b,l):Y0.rhs}).proven()\n",
    "Y1a"
   ]
  },
  {
   "cell_type": "code",
   "execution_count": null,
   "metadata": {},
   "outputs": [],
   "source": [
    "display(negDomain.lowerBound.deduceInInteger().proven())\n",
    "display(negDomain.upperBound.deduceInInteger({epsInDomain}).proven({epsInDomain}))"
   ]
  },
  {
   "cell_type": "code",
   "execution_count": null,
   "metadata": {},
   "outputs": [],
   "source": [
    "Y1 = Y1a.instantiate({m:negDomain.lowerBound, n:negDomain.upperBound}).proven({epsInDomain})\n",
    "Y1"
   ]
  },
  {
   "cell_type": "code",
   "execution_count": null,
   "metadata": {},
   "outputs": [],
   "source": [
    "display(posDomain.lowerBound.deduceInInteger({epsInDomain}).proven({epsInDomain}))\n",
    "display(posDomain.upperBound.deduceInInteger().proven({epsInDomain}))"
   ]
  },
  {
   "cell_type": "code",
   "execution_count": null,
   "metadata": {},
   "outputs": [],
   "source": [
    "Y2 = Y1a.instantiate({m:posDomain.lowerBound, n:posDomain.upperBound}).proven({epsInDomain})\n",
    "Y2"
   ]
  },
  {
   "cell_type": "code",
   "execution_count": null,
   "metadata": {},
   "outputs": [],
   "source": [
    "Y0_negDomain = Y0.generalize(l, domain=negDomain).proven({epsInDomain})\n",
    "Y0_negDomain.relabel({l:k})"
   ]
  },
  {
   "cell_type": "code",
   "execution_count": null,
   "metadata": {},
   "outputs": [],
   "source": [
    "Y0_posDomain = Y0.generalize(l, domain=posDomain).proven({epsInDomain})\n",
    "Y0_posDomain.relabel({l:k})"
   ]
  },
  {
   "cell_type": "code",
   "execution_count": null,
   "metadata": {},
   "outputs": [],
   "source": [
    "Y1.conclusion.proven({epsInDomain})"
   ]
  },
  {
   "cell_type": "code",
   "execution_count": null,
   "metadata": {},
   "outputs": [],
   "source": [
    "Y2.conclusion.proven({epsInDomain})"
   ]
  },
  {
   "cell_type": "code",
   "execution_count": null,
   "metadata": {},
   "outputs": [],
   "source": [
    "display(Y1.conclusion.rhs.deduceInReal({epsInDomain, lInDomain}).proven({epsInDomain, lInDomain}))\n",
    "display(Y2.conclusion.rhs.deduceInReal({epsInDomain, lInDomain}).proven({epsInDomain, lInDomain}))"
   ]
  },
  {
   "cell_type": "code",
   "execution_count": null,
   "metadata": {},
   "outputs": [],
   "source": [
    "display(all_alpha_l_in_complex.instantiate())\n",
    "abs_alpha_l_real_and_nonneg = all_abs_alpha_l_nonneg.instantiate().decompose()\n",
    "display(abs_alpha_l_real_and_nonneg[0])\n",
    "display(abs_alpha_l_real_and_nonneg[1])"
   ]
  },
  {
   "cell_type": "code",
   "execution_count": null,
   "metadata": {},
   "outputs": [],
   "source": [
    "fail_sum_special.rhs.operands[0].deduceInReal({epsInDomain, lInDomain}).proven({epsInDomain, lInDomain})"
   ]
  },
  {
   "cell_type": "code",
   "execution_count": null,
   "metadata": {},
   "outputs": [],
   "source": [
    "fail_sum_special.rhs.operands[1].deduceInReal({epsInDomain, lInDomain}).proven({epsInDomain, lInDomain})"
   ]
  },
  {
   "cell_type": "code",
   "execution_count": null,
   "metadata": {},
   "outputs": [],
   "source": [
    "Y3 = sumIneq2.instantiate({a:fail_sum_special.rhs.operands[0], b:fail_sum_special.rhs.operands[1], c:Y1.conclusion.rhs, d:Y2.conclusion.rhs}).proven({epsInDomain})\n",
    "Y3"
   ]
  },
  {
   "cell_type": "code",
   "execution_count": null,
   "metadata": {},
   "outputs": [],
   "source": [
    "Q = Y3.hypothesis.concludeViaComposition().proven({epsInDomain})\n",
    "display(Q)\n",
    "display(Y3.conclusion.proven({epsInDomain}))"
   ]
  },
  {
   "cell_type": "code",
   "execution_count": null,
   "metadata": {},
   "outputs": [],
   "source": [
    "X1 = Relation(fail_sum_special).update(Y3.conclusion).proven({epsInDomain})\n",
    "X1"
   ]
  },
  {
   "cell_type": "code",
   "execution_count": null,
   "metadata": {},
   "outputs": [],
   "source": [
    "X1_summand = X1.rhs.operands[0].summand\n",
    "X1_summand"
   ]
  },
  {
   "cell_type": "code",
   "execution_count": null,
   "metadata": {},
   "outputs": [],
   "source": [
    "Y4 = X1_summand.factor(frac(one,four),'left',assumptions={epsInDomain, In(l, posDomain)}).proven({epsInDomain, In(l, posDomain)})\n",
    "X1_summand.factor(frac(one,four),'left',assumptions={epsInDomain, In(l, negDomain)}).proven({epsInDomain, In(l, negDomain)})\n",
    "Y4"
   ]
  },
  {
   "cell_type": "code",
   "execution_count": null,
   "metadata": {},
   "outputs": [],
   "source": [
    "X1.rhs"
   ]
  },
  {
   "cell_type": "code",
   "execution_count": null,
   "metadata": {},
   "outputs": [],
   "source": [
    "Y4_sum1equivForAllInstances = Y4.generalize(l,negDomain)\n",
    "Y4_sum1equivForAllInstances.proven({epsInDomain})"
   ]
  },
  {
   "cell_type": "code",
   "execution_count": null,
   "metadata": {},
   "outputs": [],
   "source": [
    "Y4_sum2equivForAllInstances = Y4.generalize(l,posDomain)\n",
    "Y4_sum2equivForAllInstances.proven({epsInDomain})"
   ]
  },
  {
   "cell_type": "code",
   "execution_count": null,
   "metadata": {},
   "outputs": [],
   "source": [
    "Y5_sum1 = X1.rhs.operands[0].instanceSubstitution(Y4_sum1equivForAllInstances)\n",
    "Y5_sum1.proven({epsInDomain})"
   ]
  },
  {
   "cell_type": "code",
   "execution_count": null,
   "metadata": {},
   "outputs": [],
   "source": [
    "Y5_sum2 = X1.rhs.operands[1].instanceSubstitution(Y4_sum2equivForAllInstances)\n",
    "Y5_sum2.proven({epsInDomain})"
   ]
  },
  {
   "cell_type": "code",
   "execution_count": null,
   "metadata": {},
   "outputs": [],
   "source": [
    "X2 = Y5_sum1.subRightSideInto(X1)\n",
    "X3 = Y5_sum2.subRightSideInto(X2)\n",
    "X3.proven({epsInDomain})"
   ]
  },
  {
   "cell_type": "code",
   "execution_count": null,
   "metadata": {},
   "outputs": [],
   "source": [
    "ineqThm7a"
   ]
  },
  {
   "cell_type": "code",
   "execution_count": null,
   "metadata": {},
   "outputs": [],
   "source": [
    "display(frac(one,four).deduceInReal().proven())\n",
    "display(deducePositive(frac(one, four)).deriveRelaxed().proven())"
   ]
  },
  {
   "cell_type": "code",
   "execution_count": null,
   "metadata": {},
   "outputs": [],
   "source": [
    "display(scaledDeltaInInterval.domain.deduceMemberLowerBound(scaledDeltaInInterval.element).proven())\n",
    "display(scaledDeltaInInterval.domain.deduceMemberUpperBound(scaledDeltaInInterval.element).deriveRelaxed().proven())"
   ]
  },
  {
   "cell_type": "code",
   "execution_count": null,
   "metadata": {},
   "outputs": [],
   "source": [
    "ineqThm7a"
   ]
  },
  {
   "cell_type": "code",
   "execution_count": null,
   "metadata": {},
   "outputs": [],
   "source": [
    "Y6 = ineqThm7a.instantiate({x:Multiply(Exponentiate(two,t_), delta_)}).instantiate({a:frac(one,four)})\n",
    "Y6.instantiate().generalize(l, domain=negDomain).relabel({l:k}).proven({epsInDomain})"
   ]
  },
  {
   "cell_type": "code",
   "execution_count": null,
   "metadata": {},
   "outputs": [],
   "source": [
    "ineqThm8a"
   ]
  },
  {
   "cell_type": "code",
   "execution_count": null,
   "metadata": {},
   "outputs": [],
   "source": [
    "Y7 = ineqThm8a.instantiate({x:Multiply(Exponentiate(two,t_), delta_)}).instantiate({a:frac(one,four)}).proven()\n",
    "Y7.instantiate().generalize(l, domain=posDomain).relabel({l:k}).proven({epsInDomain})"
   ]
  },
  {
   "cell_type": "code",
   "execution_count": null,
   "metadata": {},
   "outputs": [],
   "source": [
    "sumIneq1"
   ]
  },
  {
   "cell_type": "code",
   "execution_count": null,
   "metadata": {},
   "outputs": [],
   "source": [
    "Y8 = sumIneq1.instantiate({Operation(a,l):Y6.instantiate().lhs, Operation(b,l):Y6.instantiate().rhs}).instantiate({m:negDomain.lowerBound, n:negDomain.upperBound})\n",
    "Y8.proven({epsInDomain})"
   ]
  },
  {
   "cell_type": "code",
   "execution_count": null,
   "metadata": {},
   "outputs": [],
   "source": [
    "Y9 = sumIneq1.instantiate({Operation(a,l):Y7.instantiate().lhs, Operation(b,l):Y7.instantiate().rhs}).instantiate({m:posDomain.lowerBound, n:posDomain.upperBound})\n",
    "Y9.proven({epsInDomain})"
   ]
  },
  {
   "cell_type": "code",
   "execution_count": null,
   "metadata": {},
   "outputs": [],
   "source": [
    "compose(Y8.conclusion, Y9.conclusion).proven({epsInDomain})"
   ]
  },
  {
   "cell_type": "code",
   "execution_count": null,
   "metadata": {},
   "outputs": [],
   "source": [
    "sumIneq2"
   ]
  },
  {
   "cell_type": "code",
   "execution_count": null,
   "metadata": {},
   "outputs": [],
   "source": [
    "Y9.conclusion.rhs"
   ]
  },
  {
   "cell_type": "code",
   "execution_count": null,
   "metadata": {},
   "outputs": [],
   "source": [
    "deducePositive(subtract(l, one), assumptions={epsInDomain, In(l, posDomain)})"
   ]
  },
  {
   "cell_type": "code",
   "execution_count": null,
   "metadata": {},
   "outputs": [],
   "source": [
    "display(X3.rhs.operands[0].deduceInReal({epsInDomain}))\n",
    "display(X3.rhs.operands[1].deduceInReal({epsInDomain}))\n",
    "display(Y8.conclusion.rhs.deduceInReal({epsInDomain}))\n",
    "display(Y9.conclusion.rhs.deduceInReal({epsInDomain}))"
   ]
  },
  {
   "cell_type": "code",
   "execution_count": null,
   "metadata": {},
   "outputs": [],
   "source": [
    "Y10 = sumIneq2.instantiate({a:X3.rhs.operands[0], b:X3.rhs.operands[1], c:Y8.conclusion.rhs, d:Y9.conclusion.rhs})\n",
    "Y10.proven({In(Y9.conclusion.rhs,Real), epsInDomain, lInDomain})"
   ]
  },
  {
   "cell_type": "code",
   "execution_count": null,
   "metadata": {},
   "outputs": [],
   "source": [
    "Y10.conclusion.proven({epsInDomain, lInDomain})"
   ]
  },
  {
   "cell_type": "code",
   "execution_count": null,
   "metadata": {},
   "outputs": [],
   "source": [
    "X4 = Relation(X3).update(Y10.conclusion)\n",
    "epsInDomain"
   ]
  },
  {
   "cell_type": "code",
   "execution_count": null,
   "metadata": {},
   "outputs": [],
   "source": [
    "deduceInComplex(X4.rhs, {epsInDomain}).proven({epsInDomain})"
   ]
  },
  {
   "cell_type": "code",
   "execution_count": null,
   "metadata": {},
   "outputs": [],
   "source": [
    "X4.rhs.operands[0].factor(frac(one,four),assumptions={epsInDomain})"
   ]
  },
  {
   "cell_type": "code",
   "execution_count": null,
   "metadata": {},
   "outputs": [],
   "source": [
    "X4.rhs.operands[0].factor(frac(one,four),assumptions={epsInDomain}).proven({epsInDomain})"
   ]
  },
  {
   "cell_type": "code",
   "execution_count": null,
   "metadata": {},
   "outputs": [],
   "source": [
    "X5 = X4.rhs.operands[0].factor(frac(one,four),assumptions={epsInDomain}).subRightSideInto(X4).proven({epsInDomain})\n",
    "X6"
   ]
  },
  {
   "cell_type": "code",
   "execution_count": null,
   "metadata": {},
   "outputs": [],
   "source": [
    "X7 = X6.rhs.factor(frac(one, four), pull='left', assumptions={epsInDomain}).subRightSideInto(X6)\n",
    "X7.proven({epsInDomain})"
   ]
  },
  {
   "cell_type": "code",
   "execution_count": null,
   "metadata": {},
   "outputs": [],
   "source": [
    "indexShift"
   ]
  },
  {
   "cell_type": "code",
   "execution_count": null,
   "metadata": {},
   "outputs": [],
   "source": [
    "deduceInInteger(negDomain.lowerBound, {epsInDomain})\n",
    "deduceInInteger(negDomain.upperBound, {epsInDomain})\n",
    "deduceInInteger(Neg(one))\n",
    "Y11 = indexShift.instantiate({Operation(f,l):X7.rhs.operands[1].operands[1].summand,x:l}).instantiate({c:Neg(one),a:X7.rhs.operands[1].operands[1].domain.lowerBound, b:X7.rhs.operands[1].operands[1].domain.upperBound}).subRightSideInto(X7)\n",
    "Y11.proven({epsInDomain})"
   ]
  },
  {
   "cell_type": "code",
   "execution_count": null,
   "metadata": {},
   "outputs": [],
   "source": [
    "shiftedDomain = Y11.rhs.operands[1].operands[1].domain\n",
    "shiftedDomain"
   ]
  },
  {
   "cell_type": "code",
   "execution_count": null,
   "metadata": {},
   "outputs": [],
   "source": [
    "summandToSimplify = Y11.rhs.operands[1].operands[1].summand\n",
    "summandToSimplify"
   ]
  },
  {
   "cell_type": "code",
   "execution_count": null,
   "metadata": {},
   "outputs": [],
   "source": [
    "cancelSubAndAdd"
   ]
  },
  {
   "cell_type": "code",
   "execution_count": null,
   "metadata": {},
   "outputs": [],
   "source": [
    "lShiftCancellation = cancelSubAndAdd.instantiate({a:l,b:one})\n",
    "lShiftCancellation"
   ]
  },
  {
   "cell_type": "code",
   "execution_count": null,
   "metadata": {},
   "outputs": [],
   "source": [
    "display(shiftedDomain.deduceMemberInInteger(l, {epsInDomain}).proven({epsInDomain, In(l, shiftedDomain)}))\n",
    "display(deduceInComplex(lShiftCancellation.lhs, {epsInDomain, In(l, shiftedDomain)}))\n",
    "display(deduceInComplex(lShiftCancellation.rhs, {epsInDomain, In(l, shiftedDomain)}))\n",
    "summandSimplification = lShiftCancellation.substitution(summandToSimplify)\n",
    "display(summandSimplification)\n",
    "summandSimplification.generalize(l, domain=shiftedDomain).relabel({l:k}).proven({epsInDomain})"
   ]
  },
  {
   "cell_type": "code",
   "execution_count": null,
   "metadata": {},
   "outputs": [],
   "source": [
    "sumEq"
   ]
  },
  {
   "cell_type": "code",
   "execution_count": null,
   "metadata": {},
   "outputs": [],
   "source": [
    "deduceInInteger(shiftedDomain.lowerBound, {epsInDomain})\n",
    "deduceInInteger(shiftedDomain.upperBound, {epsInDomain})\n",
    "Y12 = sumEq.instantiate({Operation(f,l):summandToSimplify, Operation(g,l):summandSimplification.rhs}).instantiate({m:shiftedDomain.lowerBound, n:shiftedDomain.upperBound})\n",
    "Y12.conclusion.proven({epsInDomain})"
   ]
  },
  {
   "cell_type": "code",
   "execution_count": null,
   "metadata": {},
   "outputs": [],
   "source": [
    "X8 = Y12.conclusion.subRightSideInto(Y11)\n",
    "X8.proven({epsInDomain})"
   ]
  },
  {
   "cell_type": "code",
   "execution_count": null,
   "metadata": {},
   "outputs": [],
   "source": [
    "evenFuncSum"
   ]
  },
  {
   "cell_type": "code",
   "execution_count": null,
   "metadata": {},
   "outputs": [],
   "source": [
    "X9 = evenFuncSum.instantiate({Operation(f,l):X8.rhs.operands[1].operands[0].summand, x:l}).instantiate({a:X8.rhs.operands[1].operands[0].domain.lowerBound, b:X8.rhs.operands[1].operands[0].domain.upperBound}).subRightSideInto(X8)\n",
    "X9.proven({epsInDomain})"
   ]
  },
  {
   "cell_type": "code",
   "execution_count": null,
   "metadata": {},
   "outputs": [],
   "source": [
    "cleanLimits1a = X9.rhs.operands[1].terms[0].domain.upperBound.distribute()\n",
    "cleanLimits1a.proven()"
   ]
  },
  {
   "cell_type": "code",
   "execution_count": null,
   "metadata": {},
   "outputs": [],
   "source": [
    "cleanLimits1 = cleanLimits1a.rhs.subtractionFolding(1).subRightSideInto(cleanLimits1a)\n",
    "cleanLimits1.proven()"
   ]
  },
  {
   "cell_type": "code",
   "execution_count": null,
   "metadata": {},
   "outputs": [],
   "source": [
    "cleanLimits2 = X9.rhs.operands[1].terms[0].domain.lowerBound.simplification({epsInDomain})\n",
    "cleanLimits2.proven({epsInDomain})"
   ]
  },
  {
   "cell_type": "code",
   "execution_count": null,
   "metadata": {},
   "outputs": [],
   "source": [
    "cleanLimits3 = addNegAsSubtract.instantiate({x:two_pow_t_minus_one, y:one})\n",
    "cleanLimits3.proven({epsInDomain})"
   ]
  },
  {
   "cell_type": "code",
   "execution_count": null,
   "metadata": {},
   "outputs": [],
   "source": [
    "deduceInComplex(eps, {epsInDomain})\n",
    "cleanLimits4 = cancelAddNeg.instantiate({a:eps, b:one})\n",
    "cleanLimits4.proven({epsInDomain})"
   ]
  },
  {
   "cell_type": "code",
   "execution_count": null,
   "metadata": {},
   "outputs": [],
   "source": [
    "X10 = cleanLimits1.subRightSideInto(X9)\n",
    "X10 = cleanLimits2.subRightSideInto(X10)\n",
    "X10 = cleanLimits3.subRightSideInto(X10)\n",
    "X10 = cleanLimits4.subRightSideInto(X10)\n",
    "X10.proven({epsInDomain})"
   ]
  },
  {
   "cell_type": "code",
   "execution_count": null,
   "metadata": {},
   "outputs": [],
   "source": [
    "X10secondSummation = X10.rhs.operands[1].operands[1]\n",
    "X10secondSummation"
   ]
  },
  {
   "cell_type": "code",
   "execution_count": null,
   "metadata": {},
   "outputs": [],
   "source": [
    "X10secondSummation.domain.deduceMemberInInteger(l, {epsInDomain}).proven({epsInDomain, In(l, X10secondSummation.domain)})"
   ]
  },
  {
   "cell_type": "code",
   "execution_count": null,
   "metadata": {},
   "outputs": [],
   "source": [
    "X10secondSummationLowerBound = X10secondSummation.domain.deduceMemberLowerBound(l, {epsInDomain})\n",
    "X10secondSummationLowerBound.proven({epsInDomain, In(l, X10secondSummation.domain)})"
   ]
  },
  {
   "cell_type": "code",
   "execution_count": null,
   "metadata": {},
   "outputs": [],
   "source": [
    "deducePositive(eps, {epsInDomain}).applyTransitivity(X10secondSummationLowerBound)"
   ]
  },
  {
   "cell_type": "code",
   "execution_count": null,
   "metadata": {},
   "outputs": [],
   "source": [
    "epsStrictUpperBound1 = Add(epsUpperBound.rhs, one).deduceStrictIncrease(0, {epsInDomain}).applyTransitivity(epsUpperBound)\n",
    "epsStrictUpperBound1.proven({epsInDomain})"
   ]
  },
  {
   "cell_type": "code",
   "execution_count": null,
   "metadata": {},
   "outputs": [],
   "source": [
    "epsStrictUpperBound2 = epsStrictUpperBound1.applyTransitivity(subTwoAddOne.instantiate({a:two_pow_t_minus_one}))\n",
    "epsStrictUpperBound2.proven({epsInDomain})"
   ]
  },
  {
   "cell_type": "code",
   "execution_count": null,
   "metadata": {},
   "outputs": [],
   "source": [
    "epsStrictUpperBound = epsStrictUpperBound2.deriveReversed()\n",
    "epsStrictUpperBound.proven({epsInDomain})"
   ]
  },
  {
   "cell_type": "code",
   "execution_count": null,
   "metadata": {},
   "outputs": [],
   "source": [
    "Y13 = X10.rhs.operands[1].operands[1].splitOffFirst({epsInDomain})\n",
    "Y13.proven({epsInDomain})"
   ]
  },
  {
   "cell_type": "code",
   "execution_count": null,
   "metadata": {},
   "outputs": [],
   "source": [
    "Y14 = Y13.substitution(subtract(X, frac(one, Exponentiate(eps, two))), X)\n",
    "Y14.proven({epsInDomain})"
   ]
  },
  {
   "cell_type": "code",
   "execution_count": null,
   "metadata": {},
   "outputs": [],
   "source": [
    "X10firstSummation = X10.rhs.operands[1].operands[0]\n",
    "X10firstSummationLowerBound = X10firstSummation.domain.deduceMemberLowerBound(l, {epsInDomain})\n",
    "X10firstSummationLowerBound.proven({epsInDomain, In(l, X10firstSummation.domain)})"
   ]
  },
  {
   "cell_type": "code",
   "execution_count": null,
   "metadata": {},
   "outputs": [],
   "source": [
    "X10firstSummationStrictLowerBound = X10firstSummationLowerBound.lhs.deduceStrictIncrease(0, {epsInDomain}).applyTransitivity(X10firstSummationLowerBound)\n",
    "X10firstSummationStrictLowerBound.proven({epsInDomain, In(l, X10firstSummation.domain)})"
   ]
  },
  {
   "cell_type": "code",
   "execution_count": null,
   "metadata": {},
   "outputs": [],
   "source": [
    "deducePositive(eps, {epsInDomain}).applyTransitivity(X10firstSummationStrictLowerBound).proven({epsInDomain, In(l, X10firstSummation.domain)})"
   ]
  },
  {
   "cell_type": "code",
   "execution_count": null,
   "metadata": {},
   "outputs": [],
   "source": [
    "Y15 = Y14.rhs.cancel(assumptions={epsInDomain}).subRightSideInto(Y14)\n",
    "Y15.proven({epsInDomain})"
   ]
  },
  {
   "cell_type": "code",
   "execution_count": null,
   "metadata": {},
   "outputs": [],
   "source": [
    "X11 = Y15.subLeftSideInto(X10)\n",
    "X11.proven({epsInDomain})"
   ]
  },
  {
   "cell_type": "code",
   "execution_count": null,
   "metadata": {},
   "outputs": [],
   "source": [
    "termToBound = X11.rhs.operands[1]\n",
    "groupAndUngroupAssumptions = {In(eps,Complex), In(termToBound.operands[1],Complex), NotEquals(eps,zero)}\n",
    "termToBound"
   ]
  },
  {
   "cell_type": "code",
   "execution_count": null,
   "metadata": {},
   "outputs": [],
   "source": [
    "shiftedPosDomain = termToBound.operands[0].operands[0].domain\n",
    "shiftedPosDomain"
   ]
  },
  {
   "cell_type": "code",
   "execution_count": null,
   "metadata": {},
   "outputs": [],
   "source": [
    "display(shiftedPosDomain.deduceMemberInInteger(l, {epsInDomain, \n",
    "                                                    In(l, shiftedPosDomain)}).proven({epsInDomain, In(l, shiftedPosDomain)}))\n",
    "lGreaterThanEps = shiftedPosDomain.deduceMemberLowerBound(l, {epsInDomain}).deriveReversed()\n",
    "display(lGreaterThanEps.applyTransitivity(deducePositive(eps, {epsInDomain})).proven({epsInDomain, In(l, shiftedPosDomain)}))"
   ]
  },
  {
   "cell_type": "code",
   "execution_count": null,
   "metadata": {},
   "outputs": [],
   "source": [
    "Y16 = termToBound.commute(assumptions={epsInDomain})\n",
    "Y16.proven({epsInDomain})"
   ]
  },
  {
   "cell_type": "code",
   "execution_count": null,
   "metadata": {},
   "outputs": [],
   "source": [
    "deduceInComplex(termToBound.operands[0].operands[0], {epsInDomain})\n",
    "deduceInComplex(termToBound.operands[0].operands[1], {epsInDomain})\n",
    "Y17 = addNegAsSubtract.instantiate({x:termToBound.operands[0].operands[0],y:termToBound.operands[0].operands[1]})\n",
    "Y17.proven({epsInDomain})"
   ]
  },
  {
   "cell_type": "code",
   "execution_count": null,
   "metadata": {},
   "outputs": [],
   "source": [
    "eqn = Equation(Y16)\n",
    "Y18 = eqn.update(Y17.deriveReversed().substitution(Y16.rhs)).proven({epsInDomain})\n",
    "Y18"
   ]
  },
  {
   "cell_type": "code",
   "execution_count": null,
   "metadata": {},
   "outputs": [],
   "source": [
    "Y19 = eqn.update(Y18.rhs.ungroup(1, {epsInDomain}))\n",
    "Y19.proven({epsInDomain})"
   ]
  },
  {
   "cell_type": "code",
   "execution_count": null,
   "metadata": {},
   "outputs": [],
   "source": [
    "Y20 = Equation(Y19).update(Y19.rhs.group(0,2, assumptions=groupAndUngroupAssumptions))\n",
    "Y20.proven({epsInDomain})"
   ]
  },
  {
   "cell_type": "code",
   "execution_count": null,
   "metadata": {},
   "outputs": [],
   "source": [
    "addTwice"
   ]
  },
  {
   "cell_type": "code",
   "execution_count": null,
   "metadata": {},
   "outputs": [],
   "source": [
    "deduceInComplex(Y19.rhs.operands[0], {epsInDomain})\n",
    "Y21 = addTwice.instantiate({a:Y19.rhs.operands[0]})\n",
    "Y21.proven({epsInDomain})"
   ]
  },
  {
   "cell_type": "code",
   "execution_count": null,
   "metadata": {},
   "outputs": [],
   "source": [
    "Y22 = Y21.subRightSideInto(Y20)\n",
    "Y22.proven({epsInDomain})"
   ]
  },
  {
   "cell_type": "code",
   "execution_count": null,
   "metadata": {},
   "outputs": [],
   "source": [
    "ineqThm6a"
   ]
  },
  {
   "cell_type": "code",
   "execution_count": null,
   "metadata": {},
   "outputs": [],
   "source": [
    "deduceNegative(Y22.rhs.operands[1], {epsInDomain}).deriveRelaxed({epsInDomain})"
   ]
  },
  {
   "cell_type": "code",
   "execution_count": null,
   "metadata": {},
   "outputs": [],
   "source": [
    "deduceInReal(Y22.rhs.operands[0], {epsInDomain})\n",
    "deduceInReal(Y22.rhs.operands[1], {epsInDomain})\n",
    "Y23 = ineqThm6a.instantiate({a:Y22.rhs.operands[0], b:Y22.rhs.operands[1]})\n",
    "Y23.proven({epsInDomain})"
   ]
  },
  {
   "cell_type": "code",
   "execution_count": null,
   "metadata": {},
   "outputs": [],
   "source": [
    "Y24 = Relation(Y22).update(Y23).deriveReversed()\n",
    "Y24.proven({epsInDomain})"
   ]
  },
  {
   "cell_type": "code",
   "execution_count": null,
   "metadata": {},
   "outputs": [],
   "source": [
    "ineqThm5"
   ]
  },
  {
   "cell_type": "code",
   "execution_count": null,
   "metadata": {},
   "outputs": [],
   "source": [
    "deduceInReal(Y24.lhs, {epsInDomain})\n",
    "deduceInReal(Y24.rhs, {epsInDomain})\n",
    "Y25 = ineqThm5.instantiate({a:Y24.lhs, b:Y24.rhs, c:frac(one,four)})\n",
    "Y25.proven({epsInDomain})"
   ]
  },
  {
   "cell_type": "code",
   "execution_count": null,
   "metadata": {},
   "outputs": [],
   "source": [
    "X12 = Relation(X11).update(Y25)\n",
    "X12.proven({epsInDomain})"
   ]
  },
  {
   "cell_type": "code",
   "execution_count": null,
   "metadata": {},
   "outputs": [],
   "source": [
    "X13 = Relation(X12).update(X12.rhs.ungroup(1, assumptions=groupAndUngroupAssumptions))\n",
    "X13.proven({epsInDomain})"
   ]
  },
  {
   "cell_type": "code",
   "execution_count": null,
   "metadata": {},
   "outputs": [],
   "source": [
    "Y26 = simplifyQuarterTimesTwo.subRightSideInto(X13.rhs.group(0,2, assumptions=groupAndUngroupAssumptions))\n",
    "Y26.proven({epsInDomain})"
   ]
  },
  {
   "cell_type": "code",
   "execution_count": null,
   "metadata": {},
   "outputs": [],
   "source": [
    "X14 = Relation(X13).update(Y26)\n",
    "X14.proven({epsInDomain})"
   ]
  },
  {
   "cell_type": "code",
   "execution_count": null,
   "metadata": {},
   "outputs": [],
   "source": [
    "sumIntegrateIneq1"
   ]
  },
  {
   "cell_type": "code",
   "execution_count": null,
   "metadata": {},
   "outputs": [],
   "source": [
    "inverseSqrdIsMonDecFunc"
   ]
  },
  {
   "cell_type": "code",
   "execution_count": null,
   "metadata": {},
   "outputs": [],
   "source": [
    "sumIntegrateIneq1"
   ]
  },
  {
   "cell_type": "code",
   "execution_count": null,
   "metadata": {},
   "outputs": [],
   "source": [
    "epsStrictUpperBound.deriveRelaxed({epsInDomain})"
   ]
  },
  {
   "cell_type": "code",
   "execution_count": null,
   "metadata": {},
   "outputs": [],
   "source": [
    "deduceInInteger(shiftedPosDomain.lowerBound, {epsInDomain})\n",
    "deduceInInteger(shiftedPosDomain.upperBound)\n",
    "Y27 = sumIntegrateIneq1.instantiate({Operation(f,l):X14.rhs.operands[1].summand, x:l}).instantiate({a:shiftedPosDomain.lowerBound,b:shiftedPosDomain.upperBound})\n",
    "Y27.proven({epsInDomain})"
   ]
  },
  {
   "cell_type": "code",
   "execution_count": null,
   "metadata": {},
   "outputs": [],
   "source": [
    "boundedInvSqrdIntegral"
   ]
  },
  {
   "cell_type": "code",
   "execution_count": null,
   "metadata": {},
   "outputs": [],
   "source": [
    "deducePositive(eps, {epsInDomain}).applyTransitivity(epsStrictUpperBound).proven({epsInDomain})\n",
    "deduceInRealPos(epsStrictUpperBound.rhs, {epsInDomain}).proven({epsInDomain})"
   ]
  },
  {
   "cell_type": "code",
   "execution_count": null,
   "metadata": {},
   "outputs": [],
   "source": [
    "Y28 = boundedInvSqrdIntegral.instantiate({a:eps, b:epsStrictUpperBound.rhs})\n",
    "Y28.proven({epsInDomain})"
   ]
  },
  {
   "cell_type": "code",
   "execution_count": null,
   "metadata": {},
   "outputs": [],
   "source": [
    "lLowerBound = Y28.lhs.domain.deduceMemberLowerBound(l, {epsInDomain})\n",
    "lLowerBound.deriveReversed().applyTransitivity(deducePositive(eps, {epsInDomain})).proven({epsInDomain, In(l, Y28.lhs.domain)})\n",
    "Y29 = Y28.deriveShifted(frac(one, Exponentiate(eps, two)), assumptions={epsInDomain})\n",
    "Y29.proven({epsInDomain})"
   ]
  },
  {
   "cell_type": "code",
   "execution_count": null,
   "metadata": {},
   "outputs": [],
   "source": [
    "Y30 = autoSubstitute(Y29, 'commute', [], {'assumptions':{epsInDomain}}, superExpr=Y29.lhs).applyTransitivity(Y27)\n",
    "Y30.proven({epsInDomain})"
   ]
  },
  {
   "cell_type": "code",
   "execution_count": null,
   "metadata": {},
   "outputs": [],
   "source": [
    "ineqThm5"
   ]
  },
  {
   "cell_type": "code",
   "execution_count": null,
   "metadata": {},
   "outputs": [],
   "source": [
    "Y30.deriveReversed().proven({epsInDomain})\n",
    "deduceInReal(frac(one,two))\n",
    "deducePositive(frac(one, two))\n",
    "deduceInReal(Y30.lhs, {epsInDomain})\n",
    "deduceInReal(Y30.rhs, {epsInDomain})\n",
    "Y31 = ineqThm5.instantiate({a:Y30.rhs, b:Y30.lhs, c:frac(one,two)})\n",
    "Y31.proven({epsInDomain})"
   ]
  },
  {
   "cell_type": "code",
   "execution_count": null,
   "metadata": {},
   "outputs": [],
   "source": [
    "X15 = Relation(X14).update(Y31)\n",
    "X15.proven({epsInDomain})"
   ]
  },
  {
   "cell_type": "code",
   "execution_count": null,
   "metadata": {},
   "outputs": [],
   "source": [
    "X15.generalize(eps, domain=epsInDomain.domain).qed()"
   ]
  },
  {
   "cell_type": "code",
   "execution_count": null,
   "metadata": {},
   "outputs": [],
   "source": []
  },
  {
   "cell_type": "code",
   "execution_count": null,
   "metadata": {},
   "outputs": [],
   "source": []
  },
  {
   "cell_type": "code",
   "execution_count": null,
   "metadata": {},
   "outputs": [],
   "source": []
  },
  {
   "cell_type": "code",
   "execution_count": null,
   "metadata": {},
   "outputs": [],
   "source": []
  },
  {
   "cell_type": "code",
   "execution_count": null,
   "metadata": {},
   "outputs": [],
   "source": []
  },
  {
   "cell_type": "code",
   "execution_count": null,
   "metadata": {},
   "outputs": [],
   "source": []
  }
 ],
 "metadata": {
  "kernelspec": {
   "display_name": "Python 3",
   "language": "python",
   "name": "python3"
  }
 },
 "nbformat": 4,
 "nbformat_minor": 0
}
