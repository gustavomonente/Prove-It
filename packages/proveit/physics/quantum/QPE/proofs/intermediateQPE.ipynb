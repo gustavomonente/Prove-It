{
 "cells": [
  {
   "cell_type": "code",
   "execution_count": null,
   "metadata": {},
   "outputs": [],
   "source": [
    "from proveit.physics.quantum.QPE.theorems import intermediateQPE, phaseInReals\n",
    "from proveit.physics.quantum.QPE.axioms import nInNatPos, unitaryU, uKetRegister, eigenUu\n",
    "from proveit.physics.quantum.QPE.common import U_, u_, n_, U_pow_two_pow_k\n",
    "from proveit.physics.quantum import Ket\n",
    "from proveit.physics.quantum.axioms import ketZeroInQubitSpace, ketOneInQubitSpace, hadamardOnZero, \\\n",
    "    zeroControlledNgate, oneControlledNgate\n",
    "from proveit.physics.quantum.theorems import unitaryHadamard, ketPlusDistributed, pregatedControlledNgateEquiv, \\\n",
    "    controlledNgateEquiv, superpositionControlledNgate, scaledQubitStateInQubitSpace, \\\n",
    "    summedQubitStateInQubitSpace, scaledQubitRegisterStateInQubitRegisterSpace\n",
    "from proveit.physics.quantum.common import ket0, ket1, H, invRoot2, QubitSpace\n",
    "from proveit.basiclogic import In, compose, Equation, Equals\n",
    "from proveit.linalg import ScalarProd, MatrixProd\n",
    "from proveit.linalg.theorems import intPowSUclosure, eigenPow\n",
    "from proveit.number import Natural, deduceInNaturalPos, deduceInComplexes\n",
    "from proveit.number import Add, Exponentiate, frac, sqrt\n",
    "from proveit.number.common import zero, one, two\n",
    "from proveit.common import a, b, c, d, k, n, u, x, y, z, A, U, X, alpha, xEtc\n",
    "from IPython.display import display"
   ]
  },
  {
   "cell_type": "code",
   "execution_count": null,
   "metadata": {},
   "outputs": [],
   "source": [
    "intermediateQPE.beginProof()"
   ]
  },
  {
   "cell_type": "code",
   "execution_count": null,
   "metadata": {},
   "outputs": [],
   "source": [
    "display(U_pow_two_pow_k)\n",
    "kInNats = In(k, Natural)\n",
    "display(kInNats)"
   ]
  },
  {
   "cell_type": "code",
   "execution_count": null,
   "metadata": {},
   "outputs": [],
   "source": [
    "intPowSUclosure"
   ]
  },
  {
   "cell_type": "code",
   "execution_count": null,
   "metadata": {},
   "outputs": [],
   "source": [
    "deduceInNaturalPos(Exponentiate(two, k), {kInNats}).proven({kInNats})\n",
    "deduceInNaturalPos(Exponentiate(two, n_)).proven()\n",
    "intPowSUclosure.instantiate({n:Exponentiate(two, n_), k:Exponentiate(two, k)}).instantiate({U:U_}).proven({kInNats})"
   ]
  },
  {
   "cell_type": "code",
   "execution_count": null,
   "metadata": {},
   "outputs": [],
   "source": [
    "pregatedControlledNgateEquiv"
   ]
  },
  {
   "cell_type": "code",
   "execution_count": null,
   "metadata": {},
   "outputs": [],
   "source": [
    "bQubitState = In(b, QubitSpace)\n",
    "circuitEquiv1 = pregatedControlledNgateEquiv.instantiate({n:n_}).instantiate({U:U_pow_two_pow_k}).instantiate({u:H}).instantiate({a:ket0}).instantiate({x:Ket(u_), y:Ket(u_)})\n",
    "circuitEquiv1.proven({bQubitState, kInNats})"
   ]
  },
  {
   "cell_type": "code",
   "execution_count": null,
   "metadata": {},
   "outputs": [],
   "source": [
    "circuitEquiv2 = hadamardOnZero.subRightSideInto(circuitEquiv1)\n",
    "circuitEquiv2.proven({bQubitState, kInNats})"
   ]
  },
  {
   "cell_type": "code",
   "execution_count": null,
   "metadata": {},
   "outputs": [],
   "source": [
    "circuitEquiv3 = ketPlusDistributed.subRightSideInto(circuitEquiv2)\n",
    "circuitEquiv3.proven({bQubitState, kInNats})"
   ]
  },
  {
   "cell_type": "code",
   "execution_count": null,
   "metadata": {},
   "outputs": [],
   "source": [
    "zeroControlledNgate"
   ]
  },
  {
   "cell_type": "code",
   "execution_count": null,
   "metadata": {},
   "outputs": [],
   "source": [
    "deduceInComplexes(invRoot2)\n",
    "zeroControlledUpowGate = zeroControlledNgate.instantiate({n:n_}).instantiate({U:U_pow_two_pow_k}).instantiate({x:Ket(u_)}).instantiate({alpha:invRoot2})\n",
    "zeroControlledUpowGate.proven({kInNats})"
   ]
  },
  {
   "cell_type": "code",
   "execution_count": null,
   "metadata": {},
   "outputs": [],
   "source": [
    "oneControlledNgate"
   ]
  },
  {
   "cell_type": "code",
   "execution_count": null,
   "metadata": {},
   "outputs": [],
   "source": [
    "oneControlledUpowGate = oneControlledNgate.instantiate({n:n_}).instantiate({U:U_pow_two_pow_k}).instantiate({x:Ket(u_)}).instantiate({alpha:invRoot2})\n",
    "oneControlledUpowGate.proven({kInNats})"
   ]
  },
  {
   "cell_type": "code",
   "execution_count": null,
   "metadata": {},
   "outputs": [],
   "source": [
    "display(eigenPow)\n",
    "display(eigenUu)\n",
    "eigenValueU = eigenUu.rhs.scalar\n",
    "display(deduceInNaturalPos(Exponentiate(two, k), {kInNats}).proven({kInNats}))\n",
    "display(deduceInComplexes(eigenValueU).proven())"
   ]
  },
  {
   "cell_type": "code",
   "execution_count": null,
   "metadata": {},
   "outputs": [],
   "source": [
    "eigenUpow_u1 = eigenPow.instantiate({k:Exponentiate(two, k)}).instantiate({b:eigenValueU}).instantiate({A:U_, x:Ket(u_)}).deriveConclusion()\n",
    "eigenUpow_u1.proven({kInNats})"
   ]
  },
  {
   "cell_type": "code",
   "execution_count": null,
   "metadata": {},
   "outputs": [],
   "source": [
    "eigenUpow_u2 = eigenUpow_u1.rhs.scalar.lowerOuterPow({kInNats}).subRightSideInto(eigenUpow_u1)\n",
    "eigenUpow_u2.proven({kInNats})"
   ]
  },
  {
   "cell_type": "code",
   "execution_count": null,
   "metadata": {},
   "outputs": [],
   "source": [
    "eigenUpow_u = eigenUpow_u2.rhs.scalar.exponent.ungroup(0, {kInNats}).subRightSideInto(eigenUpow_u2)\n",
    "eigenUpow_u.proven({kInNats})"
   ]
  },
  {
   "cell_type": "code",
   "execution_count": null,
   "metadata": {},
   "outputs": [],
   "source": [
    "phaseFactor = eigenUpow_u.rhs.scalar\n",
    "deduceInComplexes(phaseFactor, {kInNats})\n",
    "scaled_u_inQregSpace = scaledQubitRegisterStateInQubitRegisterSpace.instantiate({n:n_}).instantiate({x:Ket(u_)}).instantiate({alpha:phaseFactor})\n",
    "eigenUpow_u.subLeftSideInto(scaled_u_inQregSpace).proven({kInNats})"
   ]
  },
  {
   "cell_type": "code",
   "execution_count": null,
   "metadata": {},
   "outputs": [],
   "source": [
    "display(deduceInComplexes(invRoot2))\n",
    "display(scaledQubitStateInQubitSpace.instantiate({x:ket1}).instantiate({alpha:invRoot2}).proven())\n",
    "scaledPhaseFactor = frac(phaseFactor, sqrt(two))\n",
    "deduceInComplexes(scaledPhaseFactor, {kInNats})\n",
    "display(scaledQubitStateInQubitSpace.instantiate({x:ket1}).instantiate({alpha:scaledPhaseFactor}).proven({kInNats}))"
   ]
  },
  {
   "cell_type": "code",
   "execution_count": null,
   "metadata": {},
   "outputs": [],
   "source": [
    "controlledNgateEquiv"
   ]
  },
  {
   "cell_type": "code",
   "execution_count": null,
   "metadata": {},
   "outputs": [],
   "source": [
    "oneControlledUpowGateEquiv = controlledNgateEquiv.instantiate({n:n_}).instantiate({U:U_pow_two_pow_k}).instantiate({a:ScalarProd(invRoot2, ket1), b:ScalarProd(invRoot2, ket1), c:ScalarProd(scaledPhaseFactor, ket1)}).instantiate({x:Ket(u_), y:MatrixProd(U_pow_two_pow_k, Ket(u_)), z:Ket(u_)})\n",
    "oneControlledUpowGateEquiv.proven({kInNats}) "
   ]
  },
  {
   "cell_type": "code",
   "execution_count": null,
   "metadata": {},
   "outputs": [],
   "source": [
    "tensorProdEq = eigenUpow_u.subRightSideInto(oneControlledUpowGateEquiv.operands[1])\n",
    "tensorProdEq"
   ]
  },
  {
   "cell_type": "code",
   "execution_count": null,
   "metadata": {},
   "outputs": [],
   "source": [
    "tensorProdLhsEq = Equation()\n",
    "tensorProdLhsEq.update(tensorProdEq.lhs.factor(phaseFactor)).proven()\n",
    "tensorProdLhsEq.update(tensorProdLhsEq.eqExpr.rhs.factor(invRoot2)).proven()"
   ]
  },
  {
   "cell_type": "code",
   "execution_count": null,
   "metadata": {},
   "outputs": [],
   "source": [
    "tensorProdLhsEq.eqExpr.rhs.scalar.distribute(1, {kInNats}).subRightSideInto(tensorProdLhsEq.eqExpr).proven({kInNats})"
   ]
  },
  {
   "cell_type": "code",
   "execution_count": null,
   "metadata": {},
   "outputs": [],
   "source": [
    "tensorProdRhsEq = tensorProdEq.rhs.factor(scaledPhaseFactor)\n",
    "tensorProdRhsEq.proven()"
   ]
  },
  {
   "cell_type": "code",
   "execution_count": null,
   "metadata": {},
   "outputs": [],
   "source": [
    "tensorProdEq2 = Equals(tensorProdRhsEq.rhs, tensorProdRhsEq.rhs).concludeViaReflexivity().proven()\n",
    "tensorProdEq3 = tensorProdLhsEq.eqExpr.subLeftSideInto(Equals(X, tensorProdRhsEq.rhs), X).proven({kInNats})\n",
    "tensorProdRhsEq.subLeftSideInto(tensorProdEq3).proven({kInNats}) # tensorProdEq now proven"
   ]
  },
  {
   "cell_type": "code",
   "execution_count": null,
   "metadata": {},
   "outputs": [],
   "source": [
    "eigenUpow_u.subLeftSideInto(tensorProdEq).proven({kInNats})"
   ]
  },
  {
   "cell_type": "code",
   "execution_count": null,
   "metadata": {},
   "outputs": [],
   "source": [
    "oneControlledUpowGate = oneControlledUpowGateEquiv.deriveLeft().deriveRightViaEquality()\n",
    "oneControlledUpowGate.proven({kInNats})"
   ]
  },
  {
   "cell_type": "code",
   "execution_count": null,
   "metadata": {},
   "outputs": [],
   "source": [
    "compose(zeroControlledUpowGate, oneControlledUpowGate).proven({kInNats})"
   ]
  },
  {
   "cell_type": "code",
   "execution_count": null,
   "metadata": {},
   "outputs": [],
   "source": [
    "superpositionControlledNgate"
   ]
  },
  {
   "cell_type": "code",
   "execution_count": null,
   "metadata": {},
   "outputs": [],
   "source": [
    "scaledQubitStateInQubitSpace.instantiate({x:ket0}).instantiate({alpha:invRoot2}).proven()\n",
    "scaledQubitStateInQubitSpace.instantiate({x:ket1}).instantiate({alpha:scaledPhaseFactor}).proven({kInNats})\n",
    "superPositionControlledUpowGate = superpositionControlledNgate.instantiate({n:n_}).instantiate({U:U_pow_two_pow_k}).instantiate({a:ScalarProd(invRoot2, ket0), b:ScalarProd(invRoot2, ket1), c:ScalarProd(invRoot2, ket0), d:ScalarProd(scaledPhaseFactor, ket1)}).instantiate({x:Ket(u_), y:Ket(u_)}).deriveConclusion()\n",
    "superPositionControlledUpowGate.proven({kInNats})"
   ]
  },
  {
   "cell_type": "code",
   "execution_count": null,
   "metadata": {},
   "outputs": [],
   "source": [
    "summedQubitStateInQubitSpace"
   ]
  },
  {
   "cell_type": "code",
   "execution_count": null,
   "metadata": {},
   "outputs": [],
   "source": [
    "topOutputState = Add(ScalarProd(invRoot2, ket0), ScalarProd(scaledPhaseFactor, ket1))\n",
    "summedQubitStateInQubitSpace.instantiate({xEtc:topOutputState.terms}).proven({kInNats})"
   ]
  },
  {
   "cell_type": "code",
   "execution_count": null,
   "metadata": {},
   "outputs": [],
   "source": [
    "intermediateCircuit = circuitEquiv3.generalize(b, domain=QubitSpace).instantiate({b:topOutputState}).deriveLeftViaEquality()\n",
    "intermediateCircuit.proven({kInNats})"
   ]
  },
  {
   "cell_type": "code",
   "execution_count": null,
   "metadata": {},
   "outputs": [],
   "source": [
    "intermediateCircuit.generalize(k, domain=Natural).qed()"
   ]
  },
  {
   "cell_type": "code",
   "execution_count": null,
   "metadata": {},
   "outputs": [],
   "source": []
  }
 ],
 "metadata": {
  "kernelspec": {
   "display_name": "Python 3",
   "language": "python",
   "name": "python3"
  }
 },
 "nbformat": 4,
 "nbformat_minor": 0
}
