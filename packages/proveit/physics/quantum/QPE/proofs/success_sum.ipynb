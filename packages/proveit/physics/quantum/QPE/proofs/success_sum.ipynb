{
 "cells": [
  {
   "cell_type": "code",
   "execution_count": null,
   "metadata": {},
   "outputs": [],
   "source": [
    "from proveit.expression import Operation\n",
    "from proveit.basiclogic import In, compose\n",
    "from proveit.physics.quantum.QPE.axioms import successDef, modAddDef\n",
    "from proveit.physics.quantum.QPE.theorems import success_sum, two_pow_t_in_posnat, bestInInt\n",
    "from proveit.physics.quantum.QPE.common import b_, m_, two_pow_t\n",
    "from proveit.physics.quantum.QPE.phaseEstOps import ModAdd\n",
    "from proveit.number.real.theorems import modAbsSubtractCancel, absIneq\n",
    "from proveit.number import DiscreteContiguousSet, Neg, ModAbs, LessThanEquals, subtract\n",
    "from proveit.number import NaturalPos, deduceInReals, deduceInInteger, deducePositive\n",
    "from proveit.common import a, b, c, l, q, x, y, eps, P, Q, S\n",
    "from proveit.statistics.theorems import probLowerBound\n",
    "from IPython.display import display"
   ]
  },
  {
   "cell_type": "code",
   "execution_count": null,
   "metadata": {},
   "outputs": [],
   "source": [
    "success_sum.beginProof()"
   ]
  },
  {
   "cell_type": "code",
   "execution_count": null,
   "metadata": {},
   "outputs": [],
   "source": [
    "successDef"
   ]
  },
  {
   "cell_type": "code",
   "execution_count": null,
   "metadata": {},
   "outputs": [],
   "source": [
    "epsInNatsPos = In(eps, NaturalPos)\n",
    "lDomain = DiscreteContiguousSet(Neg(eps), eps)\n",
    "lInDomain = In(l, lDomain)\n",
    "assumptions = {epsInNatsPos, lInDomain}\n",
    "display(epsInNatsPos)\n",
    "display(lInDomain)"
   ]
  },
  {
   "cell_type": "code",
   "execution_count": null,
   "metadata": {},
   "outputs": [],
   "source": [
    "modAbsSubtractCancel"
   ]
  },
  {
   "cell_type": "code",
   "execution_count": null,
   "metadata": {},
   "outputs": [],
   "source": [
    "deduceInReals(two_pow_t, assumptions)\n",
    "lDomain.deduceMemberInInteger(l, assumptions)\n",
    "deduceInReals(l, assumptions)\n",
    "deduceInReals(b_)\n",
    "modAbsDiffUpper1 = modAbsSubtractCancel.instantiate({a:l, b:b_, c:two_pow_t}).proven(assumptions)\n",
    "modAbsDiffUpper1"
   ]
  },
  {
   "cell_type": "code",
   "execution_count": null,
   "metadata": {},
   "outputs": [],
   "source": [
    "deduceInInteger(eps, assumptions)\n",
    "lLowerBound = lDomain.deduceMemberLowerBound(l, assumptions).proven(assumptions)\n",
    "lLowerBound"
   ]
  },
  {
   "cell_type": "code",
   "execution_count": null,
   "metadata": {},
   "outputs": [],
   "source": [
    "lUpperBound = lDomain.deduceMemberUpperBound(l, assumptions).proven(assumptions)\n",
    "lUpperBound"
   ]
  },
  {
   "cell_type": "code",
   "execution_count": null,
   "metadata": {},
   "outputs": [],
   "source": [
    "compose(lLowerBound, lUpperBound)"
   ]
  },
  {
   "cell_type": "code",
   "execution_count": null,
   "metadata": {},
   "outputs": [],
   "source": [
    "absIneq"
   ]
  },
  {
   "cell_type": "code",
   "execution_count": null,
   "metadata": {},
   "outputs": [],
   "source": [
    "deduceInReals(eps, assumptions)\n",
    "deducePositive(eps, assumptions).deriveRelaxed(assumptions)\n",
    "abs_l_upper = absIneq.instantiate({x:l, y:eps}).deriveLeft().proven(assumptions)\n",
    "abs_l_upper"
   ]
  },
  {
   "cell_type": "code",
   "execution_count": null,
   "metadata": {},
   "outputs": [],
   "source": [
    "modAbsDiffUpper2 = modAbsDiffUpper1.applyTransitivity(abs_l_upper)\n",
    "modAbsDiffUpper2"
   ]
  },
  {
   "cell_type": "code",
   "execution_count": null,
   "metadata": {},
   "outputs": [],
   "source": [
    "modAbsDiffUpper3 = modAddDef.instantiate({a:b_, b:l}).subLeftSideInto(modAbsDiffUpper2)\n",
    "modAbsDiffUpper3"
   ]
  },
  {
   "cell_type": "code",
   "execution_count": null,
   "metadata": {},
   "outputs": [],
   "source": [
    "modAbsDiffUpper3.generalize(l, domain=lDomain).proven({epsInNatsPos})"
   ]
  },
  {
   "cell_type": "code",
   "execution_count": null,
   "metadata": {},
   "outputs": [],
   "source": [
    "probLowerBound"
   ]
  },
  {
   "cell_type": "code",
   "execution_count": null,
   "metadata": {},
   "outputs": [],
   "source": [
    "probLowerBoundSpec = \\\n",
    "    probLowerBound.instantiate({Operation(P, x):LessThanEquals(ModAbs(subtract(x, b_), two_pow_t), eps),\n",
    "                               Operation(Q, x):ModAdd(b_, x),\n",
    "                               S:DiscreteContiguousSet(Neg(eps), eps), q:m_, x:l, y:l}).proven()\n",
    "probLowerBoundSpec"
   ]
  },
  {
   "cell_type": "code",
   "execution_count": null,
   "metadata": {},
   "outputs": [],
   "source": [
    "probLowerBoundConclusion = probLowerBoundSpec.deriveConclusion().proven({epsInNatsPos})\n",
    "probLowerBoundConclusion"
   ]
  },
  {
   "cell_type": "code",
   "execution_count": null,
   "metadata": {},
   "outputs": [],
   "source": [
    "success_sum_instance_expr = successDef.instantiate().subLeftSideInto(probLowerBoundConclusion).proven({epsInNatsPos})\n",
    "success_sum_instance_expr"
   ]
  },
  {
   "cell_type": "code",
   "execution_count": null,
   "metadata": {},
   "outputs": [],
   "source": [
    "success_sum_instance_expr.generalize(eps, domain=NaturalPos).qed()"
   ]
  },
  {
   "cell_type": "code",
   "execution_count": null,
   "metadata": {},
   "outputs": [],
   "source": []
  }
 ],
 "metadata": {
  "kernelspec": {
   "display_name": "Python 3",
   "language": "python",
   "name": "python3"
  }
 },
 "nbformat": 4,
 "nbformat_minor": 0
}
