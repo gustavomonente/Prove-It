{
 "cells": [
  {
   "cell_type": "code",
   "execution_count": null,
   "metadata": {},
   "outputs": [],
   "source": [
    "from proveit.basiclogic import In\n",
    "from proveit.number import Neg\n",
    "from proveit.number.common import one\n",
    "from proveit.common import eps\n",
    "from proveit.physics.quantum.QPE.common import l, fullDomain, posDomain, two_pow_t_minus_one\n",
    "from proveit.physics.quantum.QPE.theorems import posDomainInFullDomain, two_pow_tMinusOne_in_posnat\n",
    "from proveit.number import NaturalPos, deducePositive, deduceNegative, deduceInInteger\n",
    "from IPython.display import display"
   ]
  },
  {
   "cell_type": "code",
   "execution_count": null,
   "metadata": {},
   "outputs": [],
   "source": [
    "posDomainInFullDomain.beginProof()"
   ]
  },
  {
   "cell_type": "code",
   "execution_count": null,
   "metadata": {},
   "outputs": [],
   "source": [
    "epsInNaturalPos = In(eps, NaturalPos)\n",
    "lInPosDomain = In(l, posDomain)\n",
    "assumptions = {epsInNaturalPos, lInPosDomain}\n",
    "display(epsInNaturalPos)\n",
    "display(lInPosDomain)"
   ]
  },
  {
   "cell_type": "code",
   "execution_count": null,
   "metadata": {},
   "outputs": [],
   "source": [
    "fullDomain"
   ]
  },
  {
   "cell_type": "code",
   "execution_count": null,
   "metadata": {},
   "outputs": [],
   "source": [
    "posDomain.deduceMemberUpperBound(l, assumptions).proven(assumptions)"
   ]
  },
  {
   "cell_type": "code",
   "execution_count": null,
   "metadata": {},
   "outputs": [],
   "source": [
    "epsIsPos = deducePositive(eps, assumptions)\n",
    "display(epsIsPos.proven(assumptions))\n",
    "lowerBoundIneq = deduceNegative(Neg(two_pow_t_minus_one)).applyTransitivity(epsIsPos).deriveRelaxed(assumptions).deriveShifted(one, assumptions=assumptions)\n",
    "display(lowerBoundIneq.proven(assumptions))"
   ]
  },
  {
   "cell_type": "code",
   "execution_count": null,
   "metadata": {},
   "outputs": [],
   "source": [
    "lowerBoundIneq.applyTransitivity(posDomain.deduceMemberLowerBound(l, assumptions)).proven(assumptions)"
   ]
  },
  {
   "cell_type": "code",
   "execution_count": null,
   "metadata": {},
   "outputs": [],
   "source": [
    "deduceInInteger(fullDomain.lowerBound, assumptions)\n",
    "deduceInInteger(fullDomain.upperBound, assumptions)\n",
    "posDomain.deduceMemberInInteger(l, assumptions).proven(assumptions)\n",
    "In(l, fullDomain).concludeAsFolded().generalize(l, domain=posDomain).generalize(eps, domain=NaturalPos).qed()"
   ]
  },
  {
   "cell_type": "code",
   "execution_count": null,
   "metadata": {},
   "outputs": [],
   "source": []
  },
  {
   "cell_type": "code",
   "execution_count": null,
   "metadata": {},
   "outputs": [],
   "source": []
  }
 ],
 "metadata": {
  "kernelspec": {
   "display_name": "Python 3",
   "language": "python",
   "name": "python3"
  }
 },
 "nbformat": 4,
 "nbformat_minor": 0
}
