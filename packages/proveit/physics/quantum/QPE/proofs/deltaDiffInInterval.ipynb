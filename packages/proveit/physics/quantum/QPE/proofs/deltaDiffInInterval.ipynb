{
 "cells": [
  {
   "cell_type": "code",
   "execution_count": null,
   "metadata": {},
   "outputs": [],
   "source": [
    "from proveit.basiclogic import In, autoSubstitute\n",
    "from proveit.physics.quantum.QPE.axioms import tInNaturalsPos\n",
    "from proveit.physics.quantum.QPE.theorems import deltaDiffInInterval, scaledDeltaInInterval, deltaInReals, two_pow_t_in_posnats, two_pow_tMinusOne_in_posnats\n",
    "from proveit.physics.quantum.QPE.common import fullDomain, two_pow_t, t_\n",
    "from proveit.number import IntervalCO, Neg, frac, Multiply, Exponentiate\n",
    "from proveit.number.common import one, two\n",
    "from proveit.number.numberSets import deduceInReals, deduceInComplexes\n",
    "from proveit.number.complex.theorems import posTimesNeg, cancelSubThenAdd\n",
    "from proveit.common import a, b, l, x, y\n",
    "from IPython.display import display"
   ]
  },
  {
   "cell_type": "code",
   "execution_count": null,
   "metadata": {},
   "outputs": [],
   "source": [
    "deltaDiffInInterval.beginProof()"
   ]
  },
  {
   "cell_type": "code",
   "execution_count": null,
   "metadata": {},
   "outputs": [],
   "source": [
    "scaledDeltaInInterval"
   ]
  },
  {
   "cell_type": "code",
   "execution_count": null,
   "metadata": {},
   "outputs": [],
   "source": [
    "scaledDeltaLowerBound = scaledDeltaInInterval.domain.deduceMemberLowerBound(scaledDeltaInInterval.element)\n",
    "scaledDeltaLowerBound.proven()"
   ]
  },
  {
   "cell_type": "code",
   "execution_count": null,
   "metadata": {},
   "outputs": [],
   "source": [
    "scaledDeltaUpperBound = scaledDeltaInInterval.domain.deduceMemberUpperBound(scaledDeltaInInterval.element)\n",
    "scaledDeltaUpperBound.proven()"
   ]
  },
  {
   "cell_type": "code",
   "execution_count": null,
   "metadata": {},
   "outputs": [],
   "source": [
    "lInDomain = In(l, fullDomain)\n",
    "display(lInDomain)\n",
    "display(fullDomain.deduceMemberInIntegers(l).proven({lInDomain}))"
   ]
  },
  {
   "cell_type": "code",
   "execution_count": null,
   "metadata": {},
   "outputs": [],
   "source": [
    "lNegatedLowerBound = lInDomain.domain.deduceMemberLowerBound(l).deriveNegated({lInDomain})\n",
    "lNegatedLowerBound.proven({lInDomain})"
   ]
  },
  {
   "cell_type": "code",
   "execution_count": null,
   "metadata": {},
   "outputs": [],
   "source": [
    "lNegatedUpperBound = lInDomain.domain.deduceMemberUpperBound(l).deriveNegated({lInDomain})\n",
    "lNegatedUpperBound.proven({lInDomain})"
   ]
  },
  {
   "cell_type": "code",
   "execution_count": null,
   "metadata": {},
   "outputs": [],
   "source": [
    "shiftedScaledLowerBound0 = scaledDeltaLowerBound.deriveAdded(lNegatedUpperBound, {lInDomain})\n",
    "shiftedScaledLowerBound0.proven({lInDomain})"
   ]
  },
  {
   "cell_type": "code",
   "execution_count": null,
   "metadata": {},
   "outputs": [],
   "source": [
    "shiftedScaledLowerBound1 = autoSubstitute(shiftedScaledLowerBound0, 'simplification', [], {'assumptions':{lInDomain}}, superExpr=shiftedScaledLowerBound0.lhs)\n",
    "shiftedScaledLowerBound1.proven({lInDomain})"
   ]
  },
  {
   "cell_type": "code",
   "execution_count": null,
   "metadata": {},
   "outputs": [],
   "source": [
    "shiftedScaledLowerBound = autoSubstitute(shiftedScaledLowerBound1, 'subtractionFolding', [], {'assumptions':{lInDomain}}, superExpr=shiftedScaledLowerBound1.rhs)\n",
    "shiftedScaledLowerBound.proven({lInDomain})"
   ]
  },
  {
   "cell_type": "code",
   "execution_count": null,
   "metadata": {},
   "outputs": [],
   "source": [
    "shiftedScaledUpperBound0 = scaledDeltaUpperBound.deriveAdded(lNegatedLowerBound, {lInDomain})\n",
    "shiftedScaledUpperBound0.proven({lInDomain})"
   ]
  },
  {
   "cell_type": "code",
   "execution_count": null,
   "metadata": {},
   "outputs": [],
   "source": [
    "shiftedScaledUpperBound1 = autoSubstitute(shiftedScaledUpperBound0, 'subtractionFolding', [], {'assumptions':{lInDomain}}, superExpr=shiftedScaledUpperBound0.lhs)\n",
    "shiftedScaledUpperBound1.proven({lInDomain})"
   ]
  },
  {
   "cell_type": "code",
   "execution_count": null,
   "metadata": {},
   "outputs": [],
   "source": [
    "shiftedScaledUpperBound2 = autoSubstitute(shiftedScaledUpperBound1, 'subtractionFolding', [], {'assumptions':{lInDomain}}, superExpr=shiftedScaledUpperBound1.rhs)\n",
    "shiftedScaledUpperBound2.proven({lInDomain})"
   ]
  },
  {
   "cell_type": "code",
   "execution_count": null,
   "metadata": {},
   "outputs": [],
   "source": [
    "shiftedScaledUpperBound = autoSubstitute(shiftedScaledUpperBound2, 'cancel', [], {'assumptions':{lInDomain}}, superExpr=shiftedScaledUpperBound2.rhs)\n",
    "shiftedScaledUpperBound.proven({lInDomain})"
   ]
  },
  {
   "cell_type": "code",
   "execution_count": null,
   "metadata": {},
   "outputs": [],
   "source": [
    "shiftedScaled = shiftedScaledUpperBound.lhs\n",
    "two_pow_tMinusOne = shiftedScaledUpperBound.rhs\n",
    "deduceInReals(shiftedScaled, {lInDomain})\n",
    "shiftedScaledInDomain = In(shiftedScaled, IntervalCO(Neg(two_pow_tMinusOne), two_pow_tMinusOne)).concludeAsFolded()\n",
    "shiftedScaledInDomain.proven({lInDomain})"
   ]
  },
  {
   "cell_type": "code",
   "execution_count": null,
   "metadata": {},
   "outputs": [],
   "source": [
    "shiftedRescaledInDomain = list()"
   ]
  },
  {
   "cell_type": "code",
   "execution_count": null,
   "metadata": {},
   "outputs": [],
   "source": [
    "shiftedRescaledInDomain.append(shiftedScaledInDomain.domain.deduceRescaledMembership(shiftedScaledInDomain.element, frac(one, two_pow_t), {lInDomain}))\n",
    "shiftedRescaledInDomain[-1].proven({lInDomain})"
   ]
  },
  {
   "cell_type": "code",
   "execution_count": null,
   "metadata": {},
   "outputs": [],
   "source": [
    "shiftedRescaledInDomain.append(autoSubstitute(shiftedRescaledInDomain[-1], 'distribute', [1], {'assumptions':{lInDomain}}))\n",
    "shiftedRescaledInDomain[-1].proven({lInDomain})"
   ]
  },
  {
   "cell_type": "code",
   "execution_count": null,
   "metadata": {},
   "outputs": [],
   "source": [
    "posTimesNeg"
   ]
  },
  {
   "cell_type": "code",
   "execution_count": null,
   "metadata": {},
   "outputs": [],
   "source": [
    "shiftedRescaledInDomain.append(posTimesNeg.specialize({x:frac(one, two_pow_t), y:two_pow_tMinusOne}).subRightSideInto(shiftedRescaledInDomain[-1]))\n",
    "shiftedRescaledInDomain[-1].proven({lInDomain})"
   ]
  },
  {
   "cell_type": "code",
   "execution_count": null,
   "metadata": {},
   "outputs": [],
   "source": [
    "for k in range(3):\n",
    "    shiftedRescaledInDomain.append(autoSubstitute(shiftedRescaledInDomain[-1], 'distribute', [0], {'assumptions':{lInDomain}}, suppressWarnings=True))\n",
    "    display(shiftedRescaledInDomain[-1].proven({lInDomain}))"
   ]
  },
  {
   "cell_type": "code",
   "execution_count": null,
   "metadata": {},
   "outputs": [],
   "source": [
    "shiftedInDomain0 = autoSubstitute(shiftedRescaledInDomain[-1], 'cancel', [two_pow_t], {'assumptions':{lInDomain}}, subExprClass=Fraction)\n",
    "shiftedInDomain0.proven({lInDomain})"
   ]
  },
  {
   "cell_type": "code",
   "execution_count": null,
   "metadata": {},
   "outputs": [],
   "source": [
    "twoPowersEq0 = Multiply(two, two_pow_tMinusOne).combineExponents()\n",
    "twoPowersEq0.proven()"
   ]
  },
  {
   "cell_type": "code",
   "execution_count": null,
   "metadata": {},
   "outputs": [],
   "source": [
    "twoPowersEq1 = twoPowersEq0.rhs.exponent.commute().subRightSideInto(twoPowersEq0)\n",
    "twoPowersEq1.proven()"
   ]
  },
  {
   "cell_type": "code",
   "execution_count": null,
   "metadata": {},
   "outputs": [],
   "source": [
    "deduceInComplexes(t_)\n",
    "twoPowersEqn = cancelSubThenAdd.specialize({a:t_, b:one}).subRightSideInto(twoPowersEq1).deriveReversed()\n",
    "twoPowersEqn.proven()"
   ]
  },
  {
   "cell_type": "code",
   "execution_count": null,
   "metadata": {},
   "outputs": [],
   "source": [
    "domainEq0 = twoPowersEqn.substitution(shiftedRescaledInDomain[-1].domain)\n",
    "domainEq0"
   ]
  },
  {
   "cell_type": "code",
   "execution_count": null,
   "metadata": {},
   "outputs": [],
   "source": [
    "domainEq1 = autoSubstitute(domainEq0, 'cancel', [two_pow_tMinusOne], superExpr=domainEq0.rhs)\n",
    "domainEq1"
   ]
  },
  {
   "cell_type": "code",
   "execution_count": null,
   "metadata": {},
   "outputs": [],
   "source": [
    "shiftedInDomain = domainEq1.subRightSideInto(shiftedInDomain0)\n",
    "shiftedInDomain.proven({lInDomain})"
   ]
  },
  {
   "cell_type": "code",
   "execution_count": null,
   "metadata": {},
   "outputs": [],
   "source": [
    "shiftedInDomain.generalize(l, domain=fullDomain).qed()"
   ]
  },
  {
   "cell_type": "code",
   "execution_count": null,
   "metadata": {},
   "outputs": [],
   "source": []
  }
 ],
 "metadata": {
  "kernelspec": {
   "display_name": "Python 3",
   "language": "python",
   "name": "python3"
  }
 },
 "nbformat": 4,
 "nbformat_minor": 0
}
