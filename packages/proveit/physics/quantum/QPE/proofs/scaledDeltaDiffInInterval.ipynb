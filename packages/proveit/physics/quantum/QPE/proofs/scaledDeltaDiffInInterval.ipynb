{
 "cells": [
  {
   "cell_type": "code",
   "execution_count": null,
   "metadata": {},
   "outputs": [],
   "source": [
    "from proveit.basiclogic import In, autoSubstitute\n",
    "from proveit.physics.quantum.QPE.theorems import scaledDeltaDiffInInterval, deltaDiffInInterval\n",
    "from proveit.physics.quantum.QPE.common import fullDomain\n",
    "from proveit.common import l, x, y\n",
    "from proveit.number import Multiply, frac\n",
    "from proveit.number.common import one, two, pi\n",
    "from proveit.number import deduceInComplexes\n",
    "from proveit.number.complex.theorems import posTimesNeg\n",
    "from IPython.display import display"
   ]
  },
  {
   "cell_type": "code",
   "execution_count": null,
   "metadata": {},
   "outputs": [],
   "source": [
    "scaledDeltaDiffInInterval.beginProof()"
   ]
  },
  {
   "cell_type": "code",
   "execution_count": null,
   "metadata": {},
   "outputs": [],
   "source": [
    "lInDomain = In(l, fullDomain)\n",
    "display(lInDomain)"
   ]
  },
  {
   "cell_type": "code",
   "execution_count": null,
   "metadata": {},
   "outputs": [],
   "source": [
    "deltaDiffInInterval"
   ]
  },
  {
   "cell_type": "code",
   "execution_count": null,
   "metadata": {},
   "outputs": [],
   "source": [
    "deltaDiffInIntervalSpec = deltaDiffInInterval.instantiate()\n",
    "display(deltaDiffInIntervalSpec.proven({lInDomain}))\n",
    "display(deltaDiffInIntervalSpec.domain.deduceMemberInReals(deltaDiffInIntervalSpec.element).proven({lInDomain}))"
   ]
  },
  {
   "cell_type": "code",
   "execution_count": null,
   "metadata": {},
   "outputs": [],
   "source": [
    "scaledDeltaDiffInDomain0 = deltaDiffInIntervalSpec.domain.deduceRelaxedMembership(deltaDiffInIntervalSpec.element)\n",
    "scaledDeltaDiffInDomain0.proven({lInDomain})"
   ]
  },
  {
   "cell_type": "code",
   "execution_count": null,
   "metadata": {},
   "outputs": [],
   "source": [
    "two_pi = Multiply(two, pi)\n",
    "scaledDeltaDiffInDomain1 = scaledDeltaDiffInDomain0.domain.deduceRescaledMembership(scaledDeltaDiffInDomain0.element, two_pi)\n",
    "scaledDeltaDiffInDomain1.proven({lInDomain})"
   ]
  },
  {
   "cell_type": "code",
   "execution_count": null,
   "metadata": {},
   "outputs": [],
   "source": [
    "scaledDeltaDiffInDomain2 = autoSubstitute(scaledDeltaDiffInDomain1, 'ungroup', [0], {'assumptions':{lInDomain}}, superExpr=scaledDeltaDiffInDomain1.element)\n",
    "scaledDeltaDiffInDomain2.proven({lInDomain})"
   ]
  },
  {
   "cell_type": "code",
   "execution_count": null,
   "metadata": {},
   "outputs": [],
   "source": [
    "posTimesNeg"
   ]
  },
  {
   "cell_type": "code",
   "execution_count": null,
   "metadata": {},
   "outputs": [],
   "source": [
    "deduceInComplexes(two_pi)\n",
    "deduceInComplexes(frac(one, two))\n",
    "lowerBoundEqn = posTimesNeg.instantiate({x:two_pi, y:frac(one, two)})\n",
    "lowerBoundEqn.proven()"
   ]
  },
  {
   "cell_type": "code",
   "execution_count": null,
   "metadata": {},
   "outputs": [],
   "source": [
    "scaledDeltaDiffInDomain3 = lowerBoundEqn.subRightSideInto(scaledDeltaDiffInDomain2)\n",
    "scaledDeltaDiffInDomain3.proven({lInDomain})"
   ]
  },
  {
   "cell_type": "code",
   "execution_count": null,
   "metadata": {},
   "outputs": [],
   "source": [
    "scaledDeltaDiffInDomain4 = autoSubstitute(scaledDeltaDiffInDomain3, 'distribute', [1], {'assumptions':{lInDomain}}, superExpr=scaledDeltaDiffInDomain3.domain.upperBound)\n",
    "scaledDeltaDiffInDomain4.proven({lInDomain})"
   ]
  },
  {
   "cell_type": "code",
   "execution_count": null,
   "metadata": {},
   "outputs": [],
   "source": [
    "scaledDeltaDiffInDomain = autoSubstitute(scaledDeltaDiffInDomain4, 'cancel', [two], {'assumptions':{lInDomain}}, superExpr=scaledDeltaDiffInDomain4.domain.upperBound)\n",
    "scaledDeltaDiffInDomain.proven({lInDomain})"
   ]
  },
  {
   "cell_type": "code",
   "execution_count": null,
   "metadata": {},
   "outputs": [],
   "source": [
    "scaledDeltaDiffInDomain.generalize(l, domain=fullDomain).qed()"
   ]
  },
  {
   "cell_type": "code",
   "execution_count": null,
   "metadata": {},
   "outputs": [],
   "source": []
  }
 ],
 "metadata": {
  "kernelspec": {
   "display_name": "Python 3",
   "language": "python",
   "name": "python3"
  }
 },
 "nbformat": 4,
 "nbformat_minor": 0
}
