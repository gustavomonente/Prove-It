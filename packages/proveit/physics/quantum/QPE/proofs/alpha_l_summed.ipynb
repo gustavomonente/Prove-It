{
 "cells": [
  {
   "cell_type": "code",
   "execution_count": null,
   "metadata": {},
   "outputs": [],
   "source": [
    "from proveit.basiclogic import autoSubstitute, autoSubstitution, In, Equation, extractSubExpr\n",
    "from proveit.common import a, b, k, l, r, x\n",
    "from proveit.number import Exponentiate, Add, subtract, Multiply, Summation\n",
    "from proveit.number import deducePositive, deduceInComplexes\n",
    "from proveit.number.common import Complexes, Integer, one, two, pi, i, e\n",
    "from proveit.physics.quantum.QPE.axioms import tInNaturalPos, modAddDef\n",
    "from proveit.physics.quantum.QPE.theorems import alpha_l_summed, phaseInReals, deltaInReals\n",
    "from proveit.physics.quantum.QPE.theorems import alpha_l_eval, bestInInt, phaseFromBest, two_pow_t_less_one_in_posnat\n",
    "from proveit.physics.quantum.QPE.common import t_, b_, two_pow_t, phase_, delta_\n",
    "from proveit.physics.quantum.QPE.phaseEstOps import ModAdd\n",
    "from proveit.trigonometry.theorems import exp_neg2pi_i_x"
   ]
  },
  {
   "cell_type": "code",
   "execution_count": null,
   "metadata": {},
   "outputs": [],
   "source": [
    "alpha_l_summed.beginProof()"
   ]
  },
  {
   "cell_type": "code",
   "execution_count": null,
   "metadata": {},
   "outputs": [],
   "source": [
    "alpha_l_eq1 = alpha_l_eval.instantiate()\n",
    "alpha_l_eq1"
   ]
  },
  {
   "cell_type": "code",
   "execution_count": null,
   "metadata": {},
   "outputs": [],
   "source": [
    "alpha_l_summation = alpha_l_eq1.rhs.operands[1]\n",
    "alpha_l_summation"
   ]
  },
  {
   "cell_type": "code",
   "execution_count": null,
   "metadata": {},
   "outputs": [],
   "source": [
    "kDomain = alpha_l_summation.domain\n",
    "kDomain"
   ]
  },
  {
   "cell_type": "code",
   "execution_count": null,
   "metadata": {},
   "outputs": [],
   "source": [
    "assumptions = {In(k, kDomain), In(l, Integer)}\n",
    "kDomain.deduceMemberInInteger(k, assumptions=assumptions).proven(assumptions)"
   ]
  },
  {
   "cell_type": "code",
   "execution_count": null,
   "metadata": {},
   "outputs": [],
   "source": [
    "equation = Equation()"
   ]
  },
  {
   "cell_type": "code",
   "execution_count": null,
   "metadata": {},
   "outputs": [],
   "source": [
    "equation.update(autoSubstitution(alpha_l_summation.instanceExpr, 'raiseExpFactor', [k], \n",
    "                                 {'assumptions':assumptions}, subExprClass=Exponentiate,\n",
    "                                 suppressWarnings=True)).proven(assumptions)"
   ]
  },
  {
   "cell_type": "code",
   "execution_count": null,
   "metadata": {},
   "outputs": [],
   "source": [
    "equation.update(autoSubstitution(equation.eqExpr.rhs, 'raiseExpFactor', [k], {'assumptions':assumptions}, \n",
    "                        subExprClass=Exponentiate, suppressWarnings=True)).proven(assumptions)"
   ]
  },
  {
   "cell_type": "code",
   "execution_count": null,
   "metadata": {},
   "outputs": [],
   "source": [
    "modAddDefSpec = modAddDef.instantiate({a:b_, b:l})\n",
    "modAddDefSpec"
   ]
  },
  {
   "cell_type": "code",
   "execution_count": null,
   "metadata": {},
   "outputs": [],
   "source": [
    "equation.update(modAddDefSpec.substitution(equation.eqExpr.rhs)).proven(assumptions)"
   ]
  },
  {
   "cell_type": "code",
   "execution_count": null,
   "metadata": {},
   "outputs": [],
   "source": [
    "Add(b_, l).deduceInReals(assumptions)\n",
    "two_pow_t.deduceInReals()\n",
    "exp_neg2pi_i_x_spec = exp_neg2pi_i_x.instantiate({x:Add(b_, l), r:two_pow_t}).proven(assumptions)\n",
    "exp_neg2pi_i_x_spec"
   ]
  },
  {
   "cell_type": "code",
   "execution_count": null,
   "metadata": {},
   "outputs": [],
   "source": [
    "equation.update(exp_neg2pi_i_x_spec.substitution(equation.eqExpr.rhs)).proven(assumptions)"
   ]
  },
  {
   "cell_type": "code",
   "execution_count": null,
   "metadata": {},
   "outputs": [],
   "source": [
    "assumptions"
   ]
  },
  {
   "cell_type": "code",
   "execution_count": null,
   "metadata": {},
   "outputs": [],
   "source": [
    "equation.eqExpr.rhs"
   ]
  },
  {
   "cell_type": "code",
   "execution_count": null,
   "metadata": {},
   "outputs": [],
   "source": [
    "equation.update(equation.eqExpr.rhs.combineExponents(assumptions=assumptions)).proven(assumptions)"
   ]
  },
  {
   "cell_type": "code",
   "execution_count": null,
   "metadata": {},
   "outputs": [],
   "source": [
    "equation.update(autoSubstitution(equation.eqExpr.rhs, 'commute', [], {'assumptions':assumptions}, subExprClass=Multiply)).proven(assumptions)"
   ]
  },
  {
   "cell_type": "code",
   "execution_count": null,
   "metadata": {},
   "outputs": [],
   "source": [
    "equation.update(autoSubstitution(equation.eqExpr.rhs, 'combineExponents', [], {'assumptions':assumptions}, subExprClass=Multiply)).proven(assumptions)"
   ]
  },
  {
   "cell_type": "code",
   "execution_count": null,
   "metadata": {},
   "outputs": [],
   "source": [
    "equation.eqExpr.rhs.base.exponent.factor(Multiply(two, pi, i), assumptions=assumptions)"
   ]
  },
  {
   "cell_type": "code",
   "execution_count": null,
   "metadata": {},
   "outputs": [],
   "source": [
    "equation.update(autoSubstitution(equation.eqExpr.rhs, 'factor', [Multiply(two, pi, i)], {'assumptions':assumptions}, subExprClass=Subtract)).proven(assumptions)"
   ]
  },
  {
   "cell_type": "code",
   "execution_count": null,
   "metadata": {},
   "outputs": [],
   "source": [
    "equivalenceForallInstances = equation.eqExpr.generalize(k, domain=kDomain).proven(assumptions)\n",
    "equivalenceForallInstances"
   ]
  },
  {
   "cell_type": "code",
   "execution_count": null,
   "metadata": {},
   "outputs": [],
   "source": [
    "summationEquivalence = alpha_l_summation.instanceSubstitution(equivalenceForallInstances).proven(assumptions)\n",
    "summationEquivalence"
   ]
  },
  {
   "cell_type": "code",
   "execution_count": null,
   "metadata": {},
   "outputs": [],
   "source": [
    "alpha_l_eq2 = summationEquivalence.subRightSideInto(alpha_l_eq1).proven(assumptions)\n",
    "alpha_l_eq2"
   ]
  },
  {
   "cell_type": "code",
   "execution_count": null,
   "metadata": {},
   "outputs": [],
   "source": [
    "alpha_l_eq3 = phaseFromBest.subRightSideInto(alpha_l_eq2).proven(assumptions)\n",
    "alpha_l_eq3"
   ]
  },
  {
   "cell_type": "code",
   "execution_count": null,
   "metadata": {},
   "outputs": [],
   "source": [
    "extractSubExpr(alpha_l_eq3, subExprClass=Summation)"
   ]
  },
  {
   "cell_type": "code",
   "execution_count": null,
   "metadata": {},
   "outputs": [],
   "source": [
    "phase1 = extractSubExpr(extractSubExpr(alpha_l_eq3, subExprClass=Summation).summand, subExprClass=Subtract)\n",
    "phase1"
   ]
  },
  {
   "cell_type": "code",
   "execution_count": null,
   "metadata": {},
   "outputs": [],
   "source": [
    "phaseEq = Equation(phase1.operands[1].distribute(assumptions=assumptions).substitution(phase1))\n",
    "phaseEq.eqExpr.proven(assumptions)"
   ]
  },
  {
   "cell_type": "code",
   "execution_count": null,
   "metadata": {},
   "outputs": [],
   "source": [
    "phaseEq.update(phaseEq.eqExpr.rhs.cancel(assumptions=assumptions)).proven(assumptions)"
   ]
  },
  {
   "cell_type": "code",
   "execution_count": null,
   "metadata": {},
   "outputs": [],
   "source": [
    "alpha_l_eq4 = phaseEq.eqExpr.subRightSideInto(alpha_l_eq3)\n",
    "alpha_l_eq4.proven(assumptions)"
   ]
  },
  {
   "cell_type": "code",
   "execution_count": null,
   "metadata": {},
   "outputs": [],
   "source": [
    "deducePositive(subtract(two_pow_t, one)).deriveReversed().proven(assumptions)"
   ]
  },
  {
   "cell_type": "code",
   "execution_count": null,
   "metadata": {},
   "outputs": [],
   "source": [
    "alpha_l_eq5 = autoSubstitute(alpha_l_eq4, 'reduceGeomSum', [], {'assumptions':assumptions}, subExprClass=Summation)\n",
    "alpha_l_eq5.proven(assumptions)"
   ]
  },
  {
   "cell_type": "code",
   "execution_count": null,
   "metadata": {},
   "outputs": [],
   "source": [
    "alpha_l_eq6 = autoSubstitute(alpha_l_eq5, 'simplification', [], {'assumptions':assumptions}, subExprClass=Exponentiate, suppressWarnings=True)\n",
    "alpha_l_eq6.proven(assumptions)"
   ]
  },
  {
   "cell_type": "code",
   "execution_count": null,
   "metadata": {},
   "outputs": [],
   "source": [
    "from proveit.number.complex.theorems import cancelSubThenAdd\n",
    "from proveit.number.common import a, b\n",
    "deduceInComplexes([two_pow_t, one])\n",
    "exponentSimplification = cancelSubThenAdd.instantiate({a:two_pow_t, b:one}).proven(assumptions)\n",
    "alpha_l_eq7 = exponentSimplification.subRightSideInto(alpha_l_eq6)\n",
    "alpha_l_eq7"
   ]
  },
  {
   "cell_type": "code",
   "execution_count": null,
   "metadata": {},
   "outputs": [],
   "source": [
    "alpha_l_eq8 = autoSubstitute(alpha_l_eq7, 'lowerOuterPow', [], {'assumptions':assumptions}, subExprClass=Exponentiate, suppressWarnings=True)\n",
    "alpha_l_eq8.proven(assumptions)"
   ]
  },
  {
   "cell_type": "code",
   "execution_count": null,
   "metadata": {},
   "outputs": [],
   "source": [
    "alpha_l_eq9 = autoSubstitute(alpha_l_eq8, 'ungroup', [0], {'assumptions':assumptions}, subExprClass=Multiply, suppressWarnings=True)\n",
    "alpha_l_eq9.proven(assumptions)"
   ]
  },
  {
   "cell_type": "code",
   "execution_count": null,
   "metadata": {},
   "outputs": [],
   "source": [
    "alpha_l_eq10 = autoSubstitute(alpha_l_eq9, 'group', [3,5], {'assumptions':assumptions}, subExprClass=Multiply, suppressWarnings=True)\n",
    "alpha_l_eq10.proven(assumptions)"
   ]
  },
  {
   "cell_type": "code",
   "execution_count": null,
   "metadata": {},
   "outputs": [],
   "source": [
    "alpha_l_eq11 = autoSubstitute(alpha_l_eq10, 'commute', [], {'assumptions':assumptions}, subExprClass=Multiply, criteria=lambda expr:len(expr.operands)==2, suppressWarnings=True)\n",
    "alpha_l_eq11.proven(assumptions)"
   ]
  },
  {
   "cell_type": "code",
   "execution_count": null,
   "metadata": {},
   "outputs": [],
   "source": [
    "alpha_l_eq12 = autoSubstitute(alpha_l_eq11, 'distribute', [1], {'assumptions':assumptions}, superExpr=alpha_l_eq11.rhs.operands[1].numerator, suppressWarnings=True)\n",
    "alpha_l_eq12.proven(assumptions)"
   ]
  },
  {
   "cell_type": "code",
   "execution_count": null,
   "metadata": {},
   "outputs": [],
   "source": [
    "from proveit.number.complex.theorems import fracCancel5\n",
    "from proveit.common import x,y\n",
    "deduceInComplexes([two_pow_t, l], assumptions=assumptions)\n",
    "cancellation = fracCancel5.instantiate({x:two_pow_t, y:l}).proven(assumptions)\n",
    "alpha_l_eq13 = cancellation.subRightSideInto(alpha_l_eq12)\n",
    "alpha_l_eq13.proven(assumptions)"
   ]
  },
  {
   "cell_type": "code",
   "execution_count": null,
   "metadata": {},
   "outputs": [],
   "source": [
    "from proveit.number.complex.theorems import reverseFractionOfSubtractions\n",
    "from proveit.common import w,x,y,z\n",
    "frac = alpha_l_eq13.rhs.operands[1]\n",
    "(wVal, xVal), (yVal, zVal) = frac.numerator.operands, frac.denominator.operands\n",
    "deduceInComplexes([wVal, xVal, yVal, zVal], assumptions=assumptions)\n",
    "reversal = reverseFractionOfSubtractions.instantiate({w:wVal, x:xVal, y:yVal, z:zVal}).proven(assumptions)\n",
    "alpha_l_eq14 = reversal.subRightSideInto(alpha_l_eq13)\n",
    "alpha_l_eq14.proven(assumptions)"
   ]
  },
  {
   "cell_type": "code",
   "execution_count": null,
   "metadata": {},
   "outputs": [],
   "source": [
    "alpha_l_eq14.generalize(l, domain=Integer).qed()"
   ]
  },
  {
   "cell_type": "code",
   "execution_count": null,
   "metadata": {},
   "outputs": [],
   "source": []
  }
 ],
 "metadata": {
  "kernelspec": {
   "display_name": "Python 3",
   "language": "python",
   "name": "python3"
  }
 },
 "nbformat": 4,
 "nbformat_minor": 0
}
