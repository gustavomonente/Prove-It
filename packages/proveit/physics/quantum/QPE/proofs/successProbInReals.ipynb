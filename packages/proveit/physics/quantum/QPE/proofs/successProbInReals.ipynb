{
 "cells": [
  {
   "cell_type": "code",
   "execution_count": null,
   "metadata": {},
   "outputs": [],
   "source": [
    "from proveit.physics.quantum.QPE.theorems import successProbInReals\n",
    "from proveit.physics.quantum.QPE.axioms import successDef\n",
    "from proveit.number.numberSets import NaturalsPos\n",
    "from proveit.common import eps\n",
    "from proveit.basiclogic import In"
   ]
  },
  {
   "cell_type": "code",
   "execution_count": null,
   "metadata": {},
   "outputs": [],
   "source": [
    "successProbInReals.beginProof()"
   ]
  },
  {
   "cell_type": "code",
   "execution_count": null,
   "metadata": {},
   "outputs": [],
   "source": [
    "successDef"
   ]
  },
  {
   "cell_type": "code",
   "execution_count": null,
   "metadata": {},
   "outputs": [],
   "source": [
    "epsInNatsPos = In(eps, NaturalsPos)\n",
    "epsInNatsPos"
   ]
  },
  {
   "cell_type": "code",
   "execution_count": null,
   "metadata": {},
   "outputs": [],
   "source": [
    "successDefSpec = successDef.specialize()\n",
    "successDefSpec.proven({epsInNatsPos})"
   ]
  },
  {
   "cell_type": "code",
   "execution_count": null,
   "metadata": {},
   "outputs": [],
   "source": [
    "rhsInReals = successDefSpec.rhs.deduceInReals()\n",
    "rhsInReals.proven()"
   ]
  },
  {
   "cell_type": "code",
   "execution_count": null,
   "metadata": {},
   "outputs": [],
   "source": [
    "successDefSpec.subLeftSideInto(rhsInReals).generalize(eps, domain=NaturalsPos).qed()"
   ]
  },
  {
   "cell_type": "code",
   "execution_count": null,
   "metadata": {},
   "outputs": [],
   "source": []
  }
 ],
 "metadata": {
  "kernelspec": {
   "display_name": "Python 3",
   "language": "python",
   "name": "python3"
  }
 },
 "nbformat": 4,
 "nbformat_minor": 0
}
