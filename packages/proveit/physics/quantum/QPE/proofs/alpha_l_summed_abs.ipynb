{
 "cells": [
  {
   "cell_type": "code",
   "execution_count": null,
   "metadata": {},
   "outputs": [],
   "source": [
    "from proveit.basiclogic import In, autoSubstitute\n",
    "from proveit.physics.quantum.QPE.theorems import alpha_l_summed_abs, alpha_l_summed, two_pow_t_in_posnat, deltaInReals\n",
    "from proveit.physics.quantum.QPE.common import two_pow_t\n",
    "from proveit.common import l, X\n",
    "from proveit.number import Abs, frac, Multiply\n",
    "from proveit.number.common import one\n",
    "from proveit.number import Integers, deducePositive"
   ]
  },
  {
   "cell_type": "code",
   "execution_count": null,
   "metadata": {},
   "outputs": [],
   "source": [
    "alpha_l_summed_abs.beginProof()"
   ]
  },
  {
   "cell_type": "code",
   "execution_count": null,
   "metadata": {},
   "outputs": [],
   "source": [
    "alpha_l_summed"
   ]
  },
  {
   "cell_type": "code",
   "execution_count": null,
   "metadata": {},
   "outputs": [],
   "source": [
    "lInInts = In(l, Integers)\n",
    "lInInts"
   ]
  },
  {
   "cell_type": "code",
   "execution_count": null,
   "metadata": {},
   "outputs": [],
   "source": [
    "alpha_l_summed0 = alpha_l_summed.instantiate()\n",
    "alpha_l_summed0.proven({lInInts})"
   ]
  },
  {
   "cell_type": "code",
   "execution_count": null,
   "metadata": {},
   "outputs": [],
   "source": [
    "newFrac = frac(alpha_l_summed0.rhs.operands[1].numerator, Multiply(two_pow_t, alpha_l_summed0.rhs.operands[1].denominator))\n",
    "newFrac"
   ]
  },
  {
   "cell_type": "code",
   "execution_count": null,
   "metadata": {},
   "outputs": [],
   "source": [
    "alpha_l_summed1 = newFrac.factor(frac(one, two_pow_t), 'left', assumptions={In(l, Integers)}).subLeftSideInto(alpha_l_summed0)\n",
    "alpha_l_summed1.proven({lInInts})"
   ]
  },
  {
   "cell_type": "code",
   "execution_count": null,
   "metadata": {},
   "outputs": [],
   "source": [
    "abs_alpha_l_eq0 = alpha_l_summed1.substitution(Abs(X), X)\n",
    "abs_alpha_l_eq0.proven({lInInts})"
   ]
  },
  {
   "cell_type": "code",
   "execution_count": null,
   "metadata": {},
   "outputs": [],
   "source": [
    "abs_alpha_l_eq1 = abs_alpha_l_eq0.rhs.distribute(assumptions={lInInts}).subRightSideInto(abs_alpha_l_eq0)\n",
    "abs_alpha_l_eq1.proven({lInInts})"
   ]
  },
  {
   "cell_type": "code",
   "execution_count": null,
   "metadata": {},
   "outputs": [],
   "source": [
    "abs_alpha_l_eq2 = autoSubstitute(abs_alpha_l_eq1, 'distribute', [], {'assumptions':{lInInts}}, superExpr=abs_alpha_l_eq1.rhs.denominator)\n",
    "abs_alpha_l_eq2.proven({lInInts})"
   ]
  },
  {
   "cell_type": "code",
   "execution_count": null,
   "metadata": {},
   "outputs": [],
   "source": [
    "deducePositive(two_pow_t).deriveRelaxed()"
   ]
  },
  {
   "cell_type": "code",
   "execution_count": null,
   "metadata": {},
   "outputs": [],
   "source": [
    "abs_alpha_l_eq3 = Abs(two_pow_t).absElimination().subRightSideInto(abs_alpha_l_eq2)\n",
    "abs_alpha_l_eq3.proven({lInInts})"
   ]
  },
  {
   "cell_type": "code",
   "execution_count": null,
   "metadata": {},
   "outputs": [],
   "source": [
    "abs_alpha_l_eq3.generalize(l, domain=Integers).qed()"
   ]
  },
  {
   "cell_type": "code",
   "execution_count": null,
   "metadata": {},
   "outputs": [],
   "source": []
  }
 ],
 "metadata": {
  "kernelspec": {
   "display_name": "Python 3",
   "language": "python",
   "name": "python3"
  }
 },
 "nbformat": 4,
 "nbformat_minor": 0
}
