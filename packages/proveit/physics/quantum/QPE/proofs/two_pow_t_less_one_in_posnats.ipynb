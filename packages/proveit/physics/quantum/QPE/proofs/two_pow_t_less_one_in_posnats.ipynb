{
 "cells": [
  {
   "cell_type": "code",
   "execution_count": null,
   "metadata": {},
   "outputs": [],
   "source": [
    "from proveit.physics.quantum.QPE.axioms import tInNaturalsPos\n",
    "from proveit.physics.quantum.QPE.theorems import two_pow_t_less_one_in_posnats\n",
    "from proveit.physics.quantum.QPE.common import t_, two_pow_t\n",
    "from proveit.number.real.theorems import powIneq, greaterThanEqualsSubtract\n",
    "from proveit.number.natural.axioms import oneAddOne, naturalsPosDef\n",
    "from proveit.number import deduceInReals, deduceInNaturals\n",
    "from proveit.number import subtract\n",
    "from proveit.common import a, b, c, n, X\n",
    "from proveit.number.common import one, two"
   ]
  },
  {
   "cell_type": "code",
   "execution_count": null,
   "metadata": {},
   "outputs": [],
   "source": [
    "two_pow_t_less_one_in_posnats.beginProof()"
   ]
  },
  {
   "cell_type": "code",
   "execution_count": null,
   "metadata": {},
   "outputs": [],
   "source": [
    "tInNaturalsPos"
   ]
  },
  {
   "cell_type": "code",
   "execution_count": null,
   "metadata": {},
   "outputs": [],
   "source": [
    "tInNaturalsPos.domain.deduceMemberLowerBound(t_).proven()"
   ]
  },
  {
   "cell_type": "code",
   "execution_count": null,
   "metadata": {},
   "outputs": [],
   "source": [
    "oneAddOne"
   ]
  },
  {
   "cell_type": "code",
   "execution_count": null,
   "metadata": {},
   "outputs": [],
   "source": [
    "oneAddOneMoreThanOne = oneAddOne.lhs.deduceStrictIncrease(0)\n",
    "oneAddOneMoreThanOne.proven()"
   ]
  },
  {
   "cell_type": "code",
   "execution_count": null,
   "metadata": {},
   "outputs": [],
   "source": [
    "oneAddOne.subRightSideInto(oneAddOneMoreThanOne).deriveRelaxed().proven()"
   ]
  },
  {
   "cell_type": "code",
   "execution_count": null,
   "metadata": {},
   "outputs": [],
   "source": [
    "powIneq"
   ]
  },
  {
   "cell_type": "code",
   "execution_count": null,
   "metadata": {},
   "outputs": [],
   "source": [
    "deduceInReals([one, two, t_])\n",
    "two_pow_t_ineq0 = powIneq.instantiate({a:two, b:t_, c:one})\n",
    "two_pow_t_ineq0.proven()"
   ]
  },
  {
   "cell_type": "code",
   "execution_count": null,
   "metadata": {},
   "outputs": [],
   "source": [
    "two_pow_t_ineq1 = two_pow_t_ineq0.rhs.simplification().subRightSideInto(two_pow_t_ineq0)\n",
    "two_pow_t_ineq1.proven()"
   ]
  },
  {
   "cell_type": "code",
   "execution_count": null,
   "metadata": {},
   "outputs": [],
   "source": [
    "greaterThanEqualsSubtract"
   ]
  },
  {
   "cell_type": "code",
   "execution_count": null,
   "metadata": {},
   "outputs": [],
   "source": [
    "deduceInReals([one, two, two_pow_t])\n",
    "two_pow_t_less_one_ineq0 = greaterThanEqualsSubtract.instantiate({a:two_pow_t, b:two, c:one}).proven()\n",
    "two_pow_t_less_one_ineq0"
   ]
  },
  {
   "cell_type": "code",
   "execution_count": null,
   "metadata": {},
   "outputs": [],
   "source": [
    "onePlusOneMinusOneEq0 = oneAddOne.substitution(subtract(X, one), X)\n",
    "onePlusOneMinusOneEq0.proven()"
   ]
  },
  {
   "cell_type": "code",
   "execution_count": null,
   "metadata": {},
   "outputs": [],
   "source": [
    "onePlusOneMinusOneEq1 = onePlusOneMinusOneEq0.lhs.cancel().applyTransitivity(onePlusOneMinusOneEq0)\n",
    "onePlusOneMinusOneEq1.proven()"
   ]
  },
  {
   "cell_type": "code",
   "execution_count": null,
   "metadata": {},
   "outputs": [],
   "source": [
    "two_pow_t_less_one_ineq1 = onePlusOneMinusOneEq1.subLeftSideInto(two_pow_t_less_one_ineq0).proven()\n",
    "two_pow_t_less_one_ineq1.proven()"
   ]
  },
  {
   "cell_type": "code",
   "execution_count": null,
   "metadata": {},
   "outputs": [],
   "source": [
    "deduceInNaturals(two_pow_t_less_one_ineq1.lhs)\n",
    "naturalsPosDef.instantiate({n:two_pow_t_less_one_ineq1.lhs}).deriveLeft().qed()"
   ]
  },
  {
   "cell_type": "code",
   "execution_count": null,
   "metadata": {},
   "outputs": [],
   "source": []
  }
 ],
 "metadata": {
  "kernelspec": {
   "display_name": "Python 3",
   "language": "python",
   "name": "python3"
  }
 },
 "nbformat": 4,
 "nbformat_minor": 0
}
