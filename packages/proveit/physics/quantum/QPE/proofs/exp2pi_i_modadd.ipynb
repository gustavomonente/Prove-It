{
 "cells": [
  {
   "cell_type": "code",
   "execution_count": null,
   "metadata": {},
   "outputs": [],
   "source": [
    "from proveit.common import a, b, r, x\n",
    "from proveit.basiclogic import In\n",
    "from proveit.number import Add\n",
    "from proveit.number.common import Integers\n",
    "from proveit.number.integer.theorems import inReals\n",
    "from proveit.trigonometry.theorems import exp_2pi_i_x\n",
    "from proveit.physics.quantum.QPE.axioms import modAddDef, tInNaturalPos\n",
    "from proveit.physics.quantum.QPE.theorems import exp2pi_i_modadd\n",
    "from proveit.physics.quantum.QPE.phaseEstOps import ModAdd\n",
    "from proveit.physics.quantum.QPE.common import two_pow_t\n",
    "from IPython.display import display"
   ]
  },
  {
   "cell_type": "code",
   "execution_count": null,
   "metadata": {},
   "outputs": [],
   "source": [
    "exp2pi_i_modadd.beginProof()"
   ]
  },
  {
   "cell_type": "code",
   "execution_count": null,
   "metadata": {},
   "outputs": [],
   "source": [
    "assumptions = {In(a, Integers), In(b, Integers)}\n",
    "display(assumptions)\n",
    "display(Add(a, b).deduceInReals(assumptions).proven(assumptions))\n",
    "display(two_pow_t.deduceInReals().proven())"
   ]
  },
  {
   "cell_type": "code",
   "execution_count": null,
   "metadata": {},
   "outputs": [],
   "source": [
    "exp_2pi_i_x_spec = exp_2pi_i_x.instantiate({x:Add(a, b), r:two_pow_t}).proven(assumptions)\n",
    "exp_2pi_i_x_spec"
   ]
  },
  {
   "cell_type": "code",
   "execution_count": null,
   "metadata": {},
   "outputs": [],
   "source": [
    "modAddDefSpec = modAddDef.instantiate().proven(assumptions)\n",
    "modAddDefSpec"
   ]
  },
  {
   "cell_type": "code",
   "execution_count": null,
   "metadata": {},
   "outputs": [],
   "source": [
    "exp2pi_i_modadd_spec = modAddDefSpec.subLeftSideInto(exp_2pi_i_x_spec).proven(assumptions)\n",
    "exp2pi_i_modadd_spec"
   ]
  },
  {
   "cell_type": "code",
   "execution_count": null,
   "metadata": {},
   "outputs": [],
   "source": [
    "exp2pi_i_modadd = exp2pi_i_modadd_spec.generalize({a, b}, domain=Integers).proven()\n",
    "exp2pi_i_modadd"
   ]
  },
  {
   "cell_type": "code",
   "execution_count": null,
   "metadata": {},
   "outputs": [],
   "source": [
    "exp2pi_i_modadd.qed() "
   ]
  },
  {
   "cell_type": "code",
   "execution_count": null,
   "metadata": {},
   "outputs": [],
   "source": []
  }
 ],
 "metadata": {
  "kernelspec": {
   "display_name": "Python 3",
   "language": "python",
   "name": "python3"
  }
 },
 "nbformat": 4,
 "nbformat_minor": 0
}
