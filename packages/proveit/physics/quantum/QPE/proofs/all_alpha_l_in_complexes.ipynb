{
 "cells": [
  {
   "cell_type": "code",
   "execution_count": null,
   "metadata": {},
   "outputs": [],
   "source": [
    "from proveit.basiclogic import In\n",
    "from proveit.physics.quantum.QPE.theorems import all_alpha_l_in_complexes, bestInInts\n",
    "from proveit.physics.quantum.QPE.axioms import tInNaturalsPos, alphaDef, modAddDef, PsiKetInQRegSpace\n",
    "from proveit.physics.quantum.QPE.common import two_pow_t, b_, t_, Psi_\n",
    "from proveit.physics.quantum.QPE.phaseEstOps import ModAdd\n",
    "from proveit.physics.quantum.theorems import registerQubitComplexAmplitude\n",
    "from proveit.common import a, b, k, l, n, Psi\n",
    "from proveit.number.numberSets import Integers"
   ]
  },
  {
   "cell_type": "code",
   "execution_count": null,
   "metadata": {},
   "outputs": [],
   "source": [
    "all_alpha_l_in_complexes.beginProof()"
   ]
  },
  {
   "cell_type": "code",
   "execution_count": null,
   "metadata": {},
   "outputs": [],
   "source": [
    "lInInts = In(l, Integers)\n",
    "lInInts"
   ]
  },
  {
   "cell_type": "code",
   "execution_count": null,
   "metadata": {},
   "outputs": [],
   "source": [
    "alphaDef"
   ]
  },
  {
   "cell_type": "code",
   "execution_count": null,
   "metadata": {},
   "outputs": [],
   "source": [
    "alphaDefSpec = alphaDef.specialize()\n",
    "alphaDefSpec.proven({lInInts})"
   ]
  },
  {
   "cell_type": "code",
   "execution_count": null,
   "metadata": {},
   "outputs": [],
   "source": [
    "modAddDef"
   ]
  },
  {
   "cell_type": "code",
   "execution_count": null,
   "metadata": {},
   "outputs": [],
   "source": [
    "modAddUnfolding = modAddDef.specialize({a:b_, b:l})\n",
    "modAddUnfolding.proven({lInInts})"
   ]
  },
  {
   "cell_type": "code",
   "execution_count": null,
   "metadata": {},
   "outputs": [],
   "source": [
    "unfoldedModAddInInterval = modAddUnfolding.rhs.deduceInInterval({lInInts})\n",
    "unfoldedModAddInInterval.proven({lInInts})"
   ]
  },
  {
   "cell_type": "code",
   "execution_count": null,
   "metadata": {},
   "outputs": [],
   "source": [
    "modAddUnfolding.subLeftSideInto(unfoldedModAddInInterval).proven({lInInts})"
   ]
  },
  {
   "cell_type": "code",
   "execution_count": null,
   "metadata": {},
   "outputs": [],
   "source": [
    "registerQubitComplexAmplitude"
   ]
  },
  {
   "cell_type": "code",
   "execution_count": null,
   "metadata": {},
   "outputs": [],
   "source": [
    "braKetInComplexes = registerQubitComplexAmplitude.specialize({n:t_}).specialize({k:ModAdd(b_, l)}).specialize({Psi:Psi_})\n",
    "braKetInComplexes.proven({lInInts})"
   ]
  },
  {
   "cell_type": "code",
   "execution_count": null,
   "metadata": {},
   "outputs": [],
   "source": [
    "alphaDefSpec.subLeftSideInto(braKetInComplexes).generalize(l, domain=Integers).qed()"
   ]
  },
  {
   "cell_type": "code",
   "execution_count": null,
   "metadata": {},
   "outputs": [],
   "source": []
  }
 ],
 "metadata": {
  "kernelspec": {
   "display_name": "Python 3",
   "language": "python",
   "name": "python3"
  }
 },
 "nbformat": 4,
 "nbformat_minor": 0
}
