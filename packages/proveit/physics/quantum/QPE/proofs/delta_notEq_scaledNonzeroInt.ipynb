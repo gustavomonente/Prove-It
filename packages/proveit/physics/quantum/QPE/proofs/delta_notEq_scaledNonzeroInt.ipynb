{
 "cells": [
  {
   "cell_type": "code",
   "execution_count": null,
   "metadata": {},
   "outputs": [],
   "source": [
    "from proveit.basiclogic import In, Implies, FALSE, Equals, NotEquals, autoSubstitute\n",
    "from proveit.physics.quantum.QPE.theorems import delta_notEq_scaledNonzeroInt, scaledDelta_notEq_nonzeroInt, two_pow_t_in_posnats\n",
    "from proveit.physics.quantum.QPE.common import two_pow_t, delta_\n",
    "from proveit.number.real.theorems import divIneqThm1\n",
    "from proveit.number.numberSets import Integers\n",
    "from proveit.number.number import zero\n",
    "from proveit.number import Multiply, frac\n",
    "from proveit.common import l, X\n",
    "from IPython.display import display"
   ]
  },
  {
   "cell_type": "code",
   "execution_count": null,
   "metadata": {},
   "outputs": [],
   "source": [
    "delta_notEq_scaledNonzeroInt.beginProof()"
   ]
  },
  {
   "cell_type": "code",
   "execution_count": null,
   "metadata": {},
   "outputs": [],
   "source": [
    "lInInts = In(l, Integers)\n",
    "lNotZero = NotEquals(l, zero)\n",
    "assumptions = {lInInts, lNotZero}\n",
    "display(lInInts)\n",
    "display(lNotZero)"
   ]
  },
  {
   "cell_type": "code",
   "execution_count": null,
   "metadata": {},
   "outputs": [],
   "source": [
    "scaledDelta_notEq_nonzeroInt"
   ]
  },
  {
   "cell_type": "code",
   "execution_count": null,
   "metadata": {},
   "outputs": [],
   "source": [
    "contradiction0 = Equals(delta_, frac(l, two_pow_t))\n",
    "contradiction0"
   ]
  },
  {
   "cell_type": "code",
   "execution_count": null,
   "metadata": {},
   "outputs": [],
   "source": [
    "contradiction1 = contradiction0.substitution(Multiply(two_pow_t, X), X)\n",
    "contradiction1.proven({contradiction0})"
   ]
  },
  {
   "cell_type": "code",
   "execution_count": null,
   "metadata": {},
   "outputs": [],
   "source": [
    "contradiction2 = autoSubstitute(contradiction1, 'distribute', [1], {'assumptions':assumptions}, superExpr=contradiction1.rhs)\n",
    "contradiction2.proven({contradiction0} | assumptions)"
   ]
  },
  {
   "cell_type": "code",
   "execution_count": null,
   "metadata": {},
   "outputs": [],
   "source": [
    "contradiction3 = autoSubstitute(contradiction2, 'cancel', [two_pow_t], {'assumptions':assumptions}, superExpr=contradiction2.rhs)\n",
    "contradiction3.proven({contradiction0} | assumptions)"
   ]
  },
  {
   "cell_type": "code",
   "execution_count": null,
   "metadata": {},
   "outputs": [],
   "source": [
    "scaledDelta_notEq_nonzeroInt.specialize().unfold().deriveContradiction().deriveConclusion().proven({contradiction0} | assumptions)"
   ]
  },
  {
   "cell_type": "code",
   "execution_count": null,
   "metadata": {},
   "outputs": [],
   "source": [
    "contradiction0.deduceInBool()\n",
    "ineq = Implies(contradiction0, FALSE).deriveViaContradiction().deriveNotEquals().proven(assumptions)\n",
    "ineq"
   ]
  },
  {
   "cell_type": "code",
   "execution_count": null,
   "metadata": {},
   "outputs": [],
   "source": [
    "ineq.generalize(l, domain=Integers, conditions=[NotEquals(l, zero)]).qed()"
   ]
  },
  {
   "cell_type": "code",
   "execution_count": null,
   "metadata": {},
   "outputs": [],
   "source": []
  },
  {
   "cell_type": "code",
   "execution_count": null,
   "metadata": {},
   "outputs": [],
   "source": []
  }
 ],
 "metadata": {
  "kernelspec": {
   "display_name": "Python 3",
   "language": "python",
   "name": "python3"
  }
 },
 "nbformat": 4,
 "nbformat_minor": 0
}
