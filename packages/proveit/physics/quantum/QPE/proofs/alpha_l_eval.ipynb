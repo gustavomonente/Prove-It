{
 "cells": [
  {
   "cell_type": "code",
   "execution_count": null,
   "metadata": {},
   "outputs": [],
   "source": [
    "from proveit.expression import Operation\n",
    "from proveit.basiclogic import Implies, In, Equals, autoSubstitute, deriveStmtEqTrue, compose\n",
    "from proveit.physics.quantum.QPE.axioms import tInNaturalsPos, nInNatPos, unitaryU, \\\n",
    "    uKetRegister, psiKetsInQRegSpace, firstQPE, midQPE, finalQPE, PsiKetInQRegSpace, alphaDef, modAddDef\n",
    "from proveit.physics.quantum.QPE.theorems import alpha_l_eval, phaseInReals, intermediateQPE, bestInInts\n",
    "from proveit.physics.quantum.QPE.common import n_, u_, U_, psi_1, psi_k, psi_next, psi_t, phase_, U_pow_two_pow_k,\\\n",
    "    Psi_, t_, b_\n",
    "from proveit.physics.quantum.QPE.phaseEstOps import ModAdd\n",
    "from proveit.physics.quantum.QFT.theorems import invFTinSU, invFTonMatrixElem\n",
    "from proveit.physics.quantum.QFT import InverseFourierTransform\n",
    "from proveit.number.common import zero, one, two, e, pi, i\n",
    "from proveit.common import a, b, c, d, f, j, k, l, n, u, x, y, z, U, P, X, alpha, xEtc\n",
    "from proveit.number import Exponentiate, Summation, frac, Multiply, sqrt, Add, subtract, DiscreteContiguousSet, \\\n",
    "    Neg\n",
    "from proveit.number.numberSets import Naturals, NaturalsPos, deduceInNaturals, deduceInNaturalsPos, \\\n",
    "    Integers, deduceInIntegers, deduceInComplexes, deduceInReals, deducePositive\n",
    "from proveit.physics.quantum import Ket, RegisterKet\n",
    "from proveit.physics.quantum.axioms import ketZeroInQubitSpace, ketOneInQubitSpace, singleQubitRegisterZero, \\\n",
    "    singleQubitRegisterOne, expandRegisterWithZeroKet, expandRegisterWithOneKet, circuitMultiGateApplication\n",
    "from proveit.physics.quantum.theorems import pregatedControlledNgateEquiv, controlledNgateEquiv, unitaryHadamard, \\\n",
    "    scaledQubitStateInQubitSpace, summedQubitStateInQubitSpace, transformedQubitStateInQubitSpace, \\\n",
    "    pregatedControlledNgateMerger, unitaryHadamard, registerBraOverSummedKet\n",
    "from proveit.physics.quantum.common import QubitSpace, H, ket0, ket1, ketPlus, invRoot2\n",
    "from proveit.linalg import ScalarProd, MatrixProd, TensorProd\n",
    "from proveit.linalg.theorems import intPowSUclosure\n",
    "from proveit.number.natural.axioms import zeroAddOne, oneAddOne\n",
    "from proveit.number.natural.theorems import sumZeroAndOne, naturalsPosInduction, twoSubOne\n",
    "from proveit.number.integer.theorems import shiftLessThanToLessThanEquals\n",
    "from proveit.number.real.theorems import sqrtTimesItself\n",
    "from proveit.number.complex.theorems import cancelSubThenAdd, addTwice\n",
    "from IPython.display import display"
   ]
  },
  {
   "cell_type": "code",
   "execution_count": null,
   "metadata": {},
   "outputs": [],
   "source": [
    "alpha_l_eval.beginProof()"
   ]
  },
  {
   "cell_type": "code",
   "execution_count": null,
   "metadata": {},
   "outputs": [],
   "source": [
    "intermediateQPE"
   ]
  },
  {
   "cell_type": "code",
   "execution_count": null,
   "metadata": {},
   "outputs": [],
   "source": [
    "firstQPE"
   ]
  },
  {
   "cell_type": "code",
   "execution_count": null,
   "metadata": {},
   "outputs": [],
   "source": [
    "deduceInNaturals(zero)\n",
    "intermediateQPE0_1 = intermediateQPE.specialize({k:zero})\n",
    "intermediateQPE0_1.proven()"
   ]
  },
  {
   "cell_type": "code",
   "execution_count": null,
   "metadata": {},
   "outputs": [],
   "source": [
    "intermediateQPE0_2 = Exponentiate(two, zero).simplification().subRightSideInto(intermediateQPE0_1)\n",
    "intermediateQPE0_2.proven()"
   ]
  },
  {
   "cell_type": "code",
   "execution_count": null,
   "metadata": {},
   "outputs": [],
   "source": [
    "intermediateQPE0_3 = autoSubstitute(intermediateQPE0_2, 'simplification', [], suppressWarnings=True)\n",
    "intermediateQPE0_4 = autoSubstitute(intermediateQPE0_3, 'simplification', [], suppressWarnings=True)\n",
    "intermediateQPE0_4.proven()"
   ]
  },
  {
   "cell_type": "code",
   "execution_count": null,
   "metadata": {},
   "outputs": [],
   "source": [
    "psi1_val = intermediateQPE0_4.operands[0][(0, 3)].operands[0]\n",
    "deduceInComplexes(psi1_val.terms[0].scalar)\n",
    "deduceInComplexes(psi1_val.terms[1].scalar)\n",
    "scaledQubitStateInQubitSpace.specialize({x:psi1_val.terms[0].scaled}).specialize({alpha:psi1_val.terms[0].scalar}).proven()\n",
    "scaledQubitStateInQubitSpace.specialize({x:psi1_val.terms[1].scaled}).specialize({alpha:psi1_val.terms[1].scalar}).proven()\n",
    "summedQubitStateInQubitSpace.specialize({xEtc:psi1_val.terms}).proven()"
   ]
  },
  {
   "cell_type": "code",
   "execution_count": null,
   "metadata": {},
   "outputs": [],
   "source": [
    "psi1InQRegSpace = psiKetsInQRegSpace.specialize({k:one}).proven()\n",
    "psi1InQRegSpace.domain.simplification().subRightSideInto(psi1InQRegSpace).proven()"
   ]
  },
  {
   "cell_type": "code",
   "execution_count": null,
   "metadata": {},
   "outputs": [],
   "source": [
    "pregatedControlledNgateEquiv"
   ]
  },
  {
   "cell_type": "code",
   "execution_count": null,
   "metadata": {},
   "outputs": [],
   "source": [
    "pregatedUgateEquivPsi1 = pregatedControlledNgateEquiv.specialize({n:n_}).specialize({U:U_}).specialize({u:H}).specialize({a:ket0, b:Ket(psi_1)}).specialize({x:Ket(u_), y:Ket(u_)})\n",
    "firstQPE_appliedPreGate = pregatedUgateEquivPsi1.deriveRightViaEquivalence()\n",
    "firstQPE_appliedPreGate.proven()"
   ]
  },
  {
   "cell_type": "code",
   "execution_count": null,
   "metadata": {},
   "outputs": [],
   "source": [
    "pregatedUgateEquivPsi1Eval = pregatedControlledNgateEquiv.specialize({n:n_}).specialize({U:U_}).specialize({u:H}).specialize({a:ket0, b:psi1_val}).specialize({x:Ket(u_), y:Ket(u_)})\n",
    "psi1EvalCircuit_appliedPreGate = pregatedUgateEquivPsi1Eval.deriveRightViaEquivalence()\n",
    "psi1EvalCircuit_appliedPreGate.proven()"
   ]
  },
  {
   "cell_type": "code",
   "execution_count": null,
   "metadata": {},
   "outputs": [],
   "source": [
    "psi1_CircuitEquiv = deriveStmtEqTrue(psi1EvalCircuit_appliedPreGate).subLeftSideInto(deriveStmtEqTrue(firstQPE_appliedPreGate))\n",
    "psi1_CircuitEquiv.proven()"
   ]
  },
  {
   "cell_type": "code",
   "execution_count": null,
   "metadata": {},
   "outputs": [],
   "source": [
    "transformedQubitStateInQubitSpace.specialize({x:ket0}).specialize({U:H}).proven()"
   ]
  },
  {
   "cell_type": "code",
   "execution_count": null,
   "metadata": {},
   "outputs": [],
   "source": [
    "controlledNgateEquiv"
   ]
  },
  {
   "cell_type": "code",
   "execution_count": null,
   "metadata": {},
   "outputs": [],
   "source": [
    "controlledNgateEquivPsi1 = controlledNgateEquiv.specialize({n:n_}).specialize({U:U_}).specialize({a:MatrixProd(H, ket0), b:Ket(psi_1), c:psi1_val}).specialize({x:Ket(u_), y:Ket(u_), z:Ket(u_)})\n",
    "controlledNgateEquivPsi1.proven()"
   ]
  },
  {
   "cell_type": "code",
   "execution_count": null,
   "metadata": {},
   "outputs": [],
   "source": [
    "psi1TensorProdEquality = controlledNgateEquivPsi1.deriveRight()\n",
    "psi1TensorProdEquality.proven()"
   ]
  },
  {
   "cell_type": "code",
   "execution_count": null,
   "metadata": {},
   "outputs": [],
   "source": [
    "psi1Eq1 = psi1TensorProdEquality.lhs.equateFactors(psi1TensorProdEquality).deriveRight()\n",
    "psi1Eq1.proven()"
   ]
  },
  {
   "cell_type": "code",
   "execution_count": null,
   "metadata": {},
   "outputs": [],
   "source": [
    "# to be proven inductively\n",
    "psi_k_eq = Equals(Ket(psi_k),\n",
    "                  Summation(j, ScalarProd(frac(Exponentiate(e, Multiply(two, pi, i, phase_, j)), \n",
    "                                                   sqrt(Exponentiate(two, k))), RegisterKet(j, k)),\n",
    "                            domain = DiscreteContiguousSet(zero, subtract(Exponentiate(two, k), one))))\n",
    "psi_k_eq"
   ]
  },
  {
   "cell_type": "code",
   "execution_count": null,
   "metadata": {},
   "outputs": [],
   "source": [
    "sumZeroAndOne"
   ]
  },
  {
   "cell_type": "code",
   "execution_count": null,
   "metadata": {},
   "outputs": [],
   "source": [
    "psi_1_sum_eq1 = sumZeroAndOne.specialize({Operation(f, j):psi_k_eq.rhs.summand.substituted({k:one}), n:j}).proven()\n",
    "psi_1_sum_eq1.proven()"
   ]
  },
  {
   "cell_type": "code",
   "execution_count": null,
   "metadata": {},
   "outputs": [],
   "source": [
    "psi_1_sum_eq2 = singleQubitRegisterZero.subRightSideInto(psi_1_sum_eq1)\n",
    "psi_1_sum_eq3 = singleQubitRegisterOne.subRightSideInto(psi_1_sum_eq2)\n",
    "psi_1_sum_eq3.proven()"
   ]
  },
  {
   "cell_type": "code",
   "execution_count": null,
   "metadata": {},
   "outputs": [],
   "source": [
    "psi_1_sum_eq4 = autoSubstitute(psi_1_sum_eq3, 'simplification', [], suppressWarnings=True)\n",
    "psi_1_sum_eq5 = autoSubstitute(psi_1_sum_eq4, 'simplification', [], suppressWarnings=True)\n",
    "psi_1_sum_eq6 = autoSubstitute(psi_1_sum_eq5, 'simplification', [], suppressWarnings=True)\n",
    "psi_1_sum_eq7 = autoSubstitute(psi_1_sum_eq6, 'simplification', [], suppressWarnings=True)\n",
    "psi_1_sum_eq7.proven()"
   ]
  },
  {
   "cell_type": "code",
   "execution_count": null,
   "metadata": {},
   "outputs": [],
   "source": [
    "# proves the base case for psi_k_eq\n",
    "psi1Eq2 = psi_1_sum_eq7.subLeftSideInto(psi1Eq1)\n",
    "psi1Eq2.proven()"
   ]
  },
  {
   "cell_type": "code",
   "execution_count": null,
   "metadata": {},
   "outputs": [],
   "source": [
    "midQPE"
   ]
  },
  {
   "cell_type": "code",
   "execution_count": null,
   "metadata": {},
   "outputs": [],
   "source": [
    "intPowSUclosure"
   ]
  },
  {
   "cell_type": "code",
   "execution_count": null,
   "metadata": {},
   "outputs": [],
   "source": [
    "deduceInNaturalsPos(U_pow_two_pow_k.exponent, {In(k, NaturalsPos)})\n",
    "deduceInNaturalsPos(Exponentiate(two, n_))\n",
    "intPowSUclosure.specialize({n:Exponentiate(two, n_), k:U_pow_two_pow_k.exponent}).specialize({U:U_}).proven({In(k, NaturalsPos)})"
   ]
  },
  {
   "cell_type": "code",
   "execution_count": null,
   "metadata": {},
   "outputs": [],
   "source": [
    "kInNatsPos = In(k, NaturalsPos)\n",
    "display(kInNatsPos)\n",
    "psi_k_inQRegSpace = psiKetsInQRegSpace.specialize()\n",
    "display(psi_k_inQRegSpace.proven({kInNatsPos}))\n",
    "deduceInNaturalsPos(Add(k, one), {kInNatsPos})\n",
    "psi_next_inQRegSpace = psiKetsInQRegSpace.specialize({k:Add(k, one)})\n",
    "psi_next_inQRegSpace.proven({kInNatsPos})"
   ]
  },
  {
   "cell_type": "code",
   "execution_count": null,
   "metadata": {},
   "outputs": [],
   "source": [
    "intermediateQPE_spec = intermediateQPE.specialize()\n",
    "intermediateQPE_spec.proven({kInNatsPos})"
   ]
  },
  {
   "cell_type": "code",
   "execution_count": null,
   "metadata": {},
   "outputs": [],
   "source": [
    "intermediateOutputKet = intermediateQPE_spec.operands[0][(0, 3)].operands[0]\n",
    "intermediateOutputKet"
   ]
  },
  {
   "cell_type": "code",
   "execution_count": null,
   "metadata": {},
   "outputs": [],
   "source": [
    "deduceInComplexes(intermediateOutputKet.terms[0].scalar)\n",
    "deduceInComplexes(intermediateOutputKet.terms[1].scalar, {kInNatsPos})\n",
    "scaledQubitStateInQubitSpace.specialize({x:ket1}).specialize({alpha:intermediateOutputKet.terms[1].scalar})\n",
    "summedQubitStateInQubitSpace.specialize({xEtc:intermediateOutputKet.terms}).proven({kInNatsPos})"
   ]
  },
  {
   "cell_type": "code",
   "execution_count": null,
   "metadata": {},
   "outputs": [],
   "source": [
    "pregatedControlledNgateMerger"
   ]
  },
  {
   "cell_type": "code",
   "execution_count": null,
   "metadata": {},
   "outputs": [],
   "source": [
    "merger1 = pregatedControlledNgateMerger.specialize({n:n_}).specialize({U:U_pow_two_pow_k}).specialize({u:H}).specialize({a:ket0, b:intermediateOutputKet}).specialize({c:Ket(psi_k)}).specialize({d:Ket(psi_next)}).specialize({x:Ket(u_), y:Ket(u_)})\n",
    "merger1.proven({kInNatsPos})"
   ]
  },
  {
   "cell_type": "code",
   "execution_count": null,
   "metadata": {},
   "outputs": [],
   "source": [
    "merger2 = merger1.deriveConclusion()\n",
    "merger2.proven({kInNatsPos})"
   ]
  },
  {
   "cell_type": "code",
   "execution_count": null,
   "metadata": {},
   "outputs": [],
   "source": [
    "midQPE.specialize().proven({kInNatsPos})"
   ]
  },
  {
   "cell_type": "code",
   "execution_count": null,
   "metadata": {},
   "outputs": [],
   "source": [
    "merger3 = merger2.deriveConclusion()\n",
    "merger3.proven({kInNatsPos})"
   ]
  },
  {
   "cell_type": "code",
   "execution_count": null,
   "metadata": {},
   "outputs": [],
   "source": [
    "merger4 = psi_k_eq.subRightSideInto(merger3)\n",
    "merger4.proven({kInNatsPos, psi_k_eq})"
   ]
  },
  {
   "cell_type": "code",
   "execution_count": null,
   "metadata": {},
   "outputs": [],
   "source": [
    "merger5 = merger4.rhs.distribute(1).subRightSideInto(merger4)\n",
    "merger5.proven({kInNatsPos, psi_k_eq})"
   ]
  },
  {
   "cell_type": "code",
   "execution_count": null,
   "metadata": {},
   "outputs": [],
   "source": [
    "merger6 = merger5.rhs.terms[0].distribute(0).subRightSideInto(merger5)\n",
    "merger6.proven({kInNatsPos, psi_k_eq})"
   ]
  },
  {
   "cell_type": "code",
   "execution_count": null,
   "metadata": {},
   "outputs": [],
   "source": [
    "merger7 = merger6.rhs.terms[1].distribute(0).subRightSideInto(merger6)\n",
    "merger7.proven({kInNatsPos, psi_k_eq})"
   ]
  },
  {
   "cell_type": "code",
   "execution_count": null,
   "metadata": {},
   "outputs": [],
   "source": [
    "psi_k_eq"
   ]
  },
  {
   "cell_type": "code",
   "execution_count": null,
   "metadata": {},
   "outputs": [],
   "source": [
    "psi_k_eq.rhs.summand.scalar"
   ]
  },
  {
   "cell_type": "code",
   "execution_count": null,
   "metadata": {},
   "outputs": [],
   "source": [
    "jInDomain = In(j, merger7.rhs.terms[0].domain)"
   ]
  },
  {
   "cell_type": "code",
   "execution_count": null,
   "metadata": {},
   "outputs": [],
   "source": [
    "firstSummand = merger7.rhs.terms[0].summand\n",
    "firstSummand"
   ]
  },
  {
   "cell_type": "code",
   "execution_count": null,
   "metadata": {},
   "outputs": [],
   "source": [
    "firstSummandEq1 = firstSummand.factor(psi_k_eq.rhs.summand.scalar)\n",
    "firstSummandEq1.proven({jInDomain})"
   ]
  },
  {
   "cell_type": "code",
   "execution_count": null,
   "metadata": {},
   "outputs": [],
   "source": [
    "firstSummandEq2 = firstSummandEq1.rhs.factor(invRoot2).subRightSideInto(firstSummandEq1)\n",
    "firstSummandEq2.proven({jInDomain})"
   ]
  },
  {
   "cell_type": "code",
   "execution_count": null,
   "metadata": {},
   "outputs": [],
   "source": [
    "expandRegisterWithZeroKet"
   ]
  },
  {
   "cell_type": "code",
   "execution_count": null,
   "metadata": {},
   "outputs": [],
   "source": [
    "firstSummandEq3 = expandRegisterWithZeroKet.specialize({n:k, k:j}).specialize().subLeftSideInto(firstSummandEq2)\n",
    "firstSummandEq3.proven({kInNatsPos, jInDomain})"
   ]
  },
  {
   "cell_type": "code",
   "execution_count": null,
   "metadata": {},
   "outputs": [],
   "source": [
    "jInDomain.domain.deduceMemberInIntegers(j, {kInNatsPos}).proven({kInNatsPos, jInDomain})\n",
    "firstSummandEq4 = autoSubstitute(firstSummandEq3, 'distribute', [], {'assumptions':{kInNatsPos, jInDomain}}, superExpr=firstSummandEq3.rhs.scalar, suppressWarnings=True)\n",
    "firstSummandEq4.proven({kInNatsPos, jInDomain})"
   ]
  },
  {
   "cell_type": "code",
   "execution_count": null,
   "metadata": {},
   "outputs": [],
   "source": [
    "firstSummandEq5 = autoSubstitute(firstSummandEq4, 'simplification', [], {'assumptions':{kInNatsPos, jInDomain}}, superExpr=firstSummandEq4.rhs.scalar, suppressWarnings=True)\n",
    "firstSummandEq5.proven({kInNatsPos, jInDomain})"
   ]
  },
  {
   "cell_type": "code",
   "execution_count": null,
   "metadata": {},
   "outputs": [],
   "source": [
    "firstSummandEq6 = autoSubstitute(firstSummandEq5, 'combineExponents', [], {'assumptions':{kInNatsPos, jInDomain}}, superExpr=firstSummandEq5.rhs.scalar, suppressWarnings=True)\n",
    "firstSummandEq6.proven({kInNatsPos, jInDomain})"
   ]
  },
  {
   "cell_type": "code",
   "execution_count": null,
   "metadata": {},
   "outputs": [],
   "source": [
    "firstSummandEq7 = autoSubstitute(firstSummandEq6, 'combineExponents', [], {'assumptions':{kInNatsPos, jInDomain}}, superExpr=firstSummandEq6.rhs.scalar, suppressWarnings=True)\n",
    "firstSummandEq7.proven({kInNatsPos, jInDomain})"
   ]
  },
  {
   "cell_type": "code",
   "execution_count": null,
   "metadata": {},
   "outputs": [],
   "source": [
    "generalizedFirstSummandEq = firstSummandEq7.generalize(j, domain=jInDomain.domain)\n",
    "generalizedFirstSummandEq.proven({kInNatsPos})"
   ]
  },
  {
   "cell_type": "code",
   "execution_count": null,
   "metadata": {},
   "outputs": [],
   "source": [
    "merger8 = merger7.rhs.terms[0].instanceSubstitution(generalizedFirstSummandEq).subRightSideInto(merger7)\n",
    "merger8.proven({kInNatsPos, psi_k_eq})"
   ]
  },
  {
   "cell_type": "code",
   "execution_count": null,
   "metadata": {},
   "outputs": [],
   "source": [
    "secondSummand = merger7.rhs.terms[1].summand\n",
    "secondSummand"
   ]
  },
  {
   "cell_type": "code",
   "execution_count": null,
   "metadata": {},
   "outputs": [],
   "source": [
    "secondSummandEq1 = secondSummand.factor(psi_k_eq.rhs.summand.scalar)\n",
    "secondSummandEq1.proven({jInDomain})"
   ]
  },
  {
   "cell_type": "code",
   "execution_count": null,
   "metadata": {},
   "outputs": [],
   "source": [
    "secondSummandEq2 = secondSummandEq1.rhs.factor(secondSummand.factors[1].scalar).subRightSideInto(secondSummandEq1)\n",
    "secondSummandEq2.proven({jInDomain})"
   ]
  },
  {
   "cell_type": "code",
   "execution_count": null,
   "metadata": {},
   "outputs": [],
   "source": [
    "expandRegisterWithOneKet"
   ]
  },
  {
   "cell_type": "code",
   "execution_count": null,
   "metadata": {},
   "outputs": [],
   "source": [
    "secondSummandEq3 = expandRegisterWithOneKet.specialize({n:k, k:j}).specialize().subLeftSideInto(secondSummandEq2)\n",
    "secondSummandEq3.proven({kInNatsPos, jInDomain})"
   ]
  },
  {
   "cell_type": "code",
   "execution_count": null,
   "metadata": {},
   "outputs": [],
   "source": [
    "secondSumFactor = secondSummandEq3.rhs.scalar\n",
    "secondSumFactor"
   ]
  },
  {
   "cell_type": "code",
   "execution_count": null,
   "metadata": {},
   "outputs": [],
   "source": [
    "secondSumFactor_eq1 = secondSumFactor.distribute(assumptions={kInNatsPos, jInDomain})\n",
    "secondSumFactor_eq1.proven({kInNatsPos, jInDomain})"
   ]
  },
  {
   "cell_type": "code",
   "execution_count": null,
   "metadata": {},
   "outputs": [],
   "source": [
    "secondSumFactor_eq2 = secondSumFactor_eq1.rhs.numerator.combineExponents(assumptions={kInNatsPos, jInDomain}).subRightSideInto(secondSumFactor_eq1)\n",
    "secondSumFactor_eq2.proven({kInNatsPos, jInDomain})"
   ]
  },
  {
   "cell_type": "code",
   "execution_count": null,
   "metadata": {},
   "outputs": [],
   "source": [
    "secondSumFactor_eq3 = secondSumFactor_eq2.rhs.denominator.combineExponents(assumptions={kInNatsPos, jInDomain}).subRightSideInto(secondSumFactor_eq2)\n",
    "secondSumFactor_eq3.proven({kInNatsPos, jInDomain})"
   ]
  },
  {
   "cell_type": "code",
   "execution_count": null,
   "metadata": {},
   "outputs": [],
   "source": [
    "secondSumFactor_eq4 = autoSubstitute(secondSumFactor_eq3, 'factor', [Multiply(two, pi, i, phase_)], {'assumptions':{kInNatsPos, jInDomain}}, superExpr=secondSumFactor_eq3.rhs, suppressWarnings=True)\n",
    "secondSumFactor_eq4.proven({kInNatsPos, jInDomain})"
   ]
  },
  {
   "cell_type": "code",
   "execution_count": null,
   "metadata": {},
   "outputs": [],
   "source": [
    "secondSumFactor_eq5 = autoSubstitute(secondSumFactor_eq4, 'combineExponents', [], {'assumptions':{kInNatsPos, jInDomain}}, superExpr=secondSumFactor_eq4.rhs.denominator, suppressWarnings=True)\n",
    "secondSumFactor_eq5.proven({kInNatsPos, jInDomain})"
   ]
  },
  {
   "cell_type": "code",
   "execution_count": null,
   "metadata": {},
   "outputs": [],
   "source": [
    "secondSumFactor_eq6 = autoSubstitute(secondSumFactor_eq5, 'ungroup', [0], {'assumptions':{kInNatsPos, jInDomain}}, superExpr=secondSumFactor_eq5.rhs.numerator, suppressWarnings=True)\n",
    "secondSumFactor_eq6.proven({kInNatsPos, jInDomain})"
   ]
  },
  {
   "cell_type": "code",
   "execution_count": null,
   "metadata": {},
   "outputs": [],
   "source": [
    "secondSummandEq4 = secondSumFactor_eq6.subRightSideInto(secondSummandEq3)\n",
    "secondSummandEq4.proven({kInNatsPos, jInDomain})"
   ]
  },
  {
   "cell_type": "code",
   "execution_count": null,
   "metadata": {},
   "outputs": [],
   "source": [
    "generalizedSecondSummandEq = secondSummandEq4.generalize(j, domain=jInDomain.domain)\n",
    "generalizedSecondSummandEq.proven({kInNatsPos})"
   ]
  },
  {
   "cell_type": "code",
   "execution_count": null,
   "metadata": {},
   "outputs": [],
   "source": [
    "merger9 = merger8.rhs.terms[1].instanceSubstitution(generalizedSecondSummandEq).subRightSideInto(merger8)\n",
    "merger9.proven({kInNatsPos, psi_k_eq})"
   ]
  },
  {
   "cell_type": "code",
   "execution_count": null,
   "metadata": {},
   "outputs": [],
   "source": [
    "secondTermEq1 = merger9.rhs.terms[1].shift(Exponentiate(two, k), {kInNatsPos})\n",
    "secondTermEq1.proven({kInNatsPos})"
   ]
  },
  {
   "cell_type": "code",
   "execution_count": null,
   "metadata": {},
   "outputs": [],
   "source": [
    "secondTermEq2 = autoSubstitute(secondTermEq1, 'simplification', [], {'assumptions':{kInNatsPos}}, superExpr=secondTermEq1.rhs.domain.lowerBound, suppressWarnings=True)\n",
    "secondTermEq2.proven({kInNatsPos})"
   ]
  },
  {
   "cell_type": "code",
   "execution_count": null,
   "metadata": {},
   "outputs": [],
   "source": [
    "cancelSubThenAdd"
   ]
  },
  {
   "cell_type": "code",
   "execution_count": null,
   "metadata": {},
   "outputs": [],
   "source": [
    "secondTermEq2.rhs.domain.deduceMemberInIntegers(j, {kInNatsPos})\n",
    "deduceInComplexes(j, {kInNatsPos, In(j, secondTermEq2.rhs.domain)})\n",
    "deduceInComplexes(Exponentiate(two, k), {kInNatsPos})\n",
    "jCancellation = cancelSubThenAdd.specialize({a:j, b:Exponentiate(two, k)})\n",
    "jCancellation.proven({kInNatsPos, In(j, secondTermEq2.rhs.domain)})"
   ]
  },
  {
   "cell_type": "code",
   "execution_count": null,
   "metadata": {},
   "outputs": [],
   "source": [
    "summandCancellation = jCancellation.substitution(secondTermEq2.rhs.summand).generalize(j, domain=secondTermEq2.rhs.domain)\n",
    "summandCancellation.proven({kInNatsPos, In(j, secondTermEq2.rhs.domain)})"
   ]
  },
  {
   "cell_type": "code",
   "execution_count": null,
   "metadata": {},
   "outputs": [],
   "source": [
    "secondTermEq3 = secondTermEq2.rhs.instanceSubstitution(summandCancellation).subRightSideInto(secondTermEq2)\n",
    "secondTermEq3.proven({kInNatsPos})"
   ]
  },
  {
   "cell_type": "code",
   "execution_count": null,
   "metadata": {},
   "outputs": [],
   "source": [
    "merger10 = secondTermEq3.subRightSideInto(merger9)\n",
    "merger10.proven({kInNatsPos, psi_k_eq})"
   ]
  },
  {
   "cell_type": "code",
   "execution_count": null,
   "metadata": {},
   "outputs": [],
   "source": [
    "two_pow_k = Exponentiate(two, k)\n",
    "deduceInNaturalsPos(two_pow_k, {kInNatsPos})\n",
    "two_pow_k__geq__one = NaturalsPos.deduceMemberLowerBound(merger10.rhs.terms[1].domain.lowerBound).proven({kInNatsPos})\n",
    "display(zeroAddOne.subRightSideInto(zeroAddOne.lhs.deduceStrictIncrease(0)).applyTransitivity(two_pow_k__geq__one).deriveReversed().proven({kInNatsPos}))"
   ]
  },
  {
   "cell_type": "code",
   "execution_count": null,
   "metadata": {},
   "outputs": [],
   "source": [
    "merger10.rhs.terms[1].domain.upperBound.deduceStrictIncrease(0, {kInNatsPos}).deriveReversed().proven({kInNatsPos})\n",
    "deduceInIntegers([merger10.rhs.terms[1].domain.lowerBound, merger10.rhs.terms[1].domain.upperBound], {kInNatsPos})\n",
    "shiftLessThanToLessThanEquals.specialize({a:two_pow_k, b:merger10.rhs.terms[1].domain.upperBound}).proven({kInNatsPos})"
   ]
  },
  {
   "cell_type": "code",
   "execution_count": null,
   "metadata": {},
   "outputs": [],
   "source": [
    "merger11 = merger10.rhs.join(assumptions={kInNatsPos}).subRightSideInto(merger10)\n",
    "merger11.proven({kInNatsPos, psi_k_eq})"
   ]
  },
  {
   "cell_type": "code",
   "execution_count": null,
   "metadata": {},
   "outputs": [],
   "source": [
    "addTwice"
   ]
  },
  {
   "cell_type": "code",
   "execution_count": null,
   "metadata": {},
   "outputs": [],
   "source": [
    "newUpperBound_eq1 = addTwice.specialize({a:Exponentiate(two, k)})\n",
    "newUpperBound_eq1.proven({kInNatsPos})"
   ]
  },
  {
   "cell_type": "code",
   "execution_count": null,
   "metadata": {},
   "outputs": [],
   "source": [
    "newUpperBound_eq2 = newUpperBound_eq1.rhs.combineExponents(assumptions={kInNatsPos}).subRightSideInto(newUpperBound_eq1)\n",
    "newUpperBound_eq2.proven({kInNatsPos})"
   ]
  },
  {
   "cell_type": "code",
   "execution_count": null,
   "metadata": {},
   "outputs": [],
   "source": [
    "newUpperBound_eq3 = newUpperBound_eq2.rhs.exponent.commute(assumptions={kInNatsPos}).subRightSideInto(newUpperBound_eq2)\n",
    "newUpperBound_eq3.proven({kInNatsPos})"
   ]
  },
  {
   "cell_type": "code",
   "execution_count": null,
   "metadata": {},
   "outputs": [],
   "source": [
    "newUpperBound_eq4 = newUpperBound_eq3.substitution(subtract(X, one), X)\n",
    "newUpperBound_eq4.proven({kInNatsPos})"
   ]
  },
  {
   "cell_type": "code",
   "execution_count": null,
   "metadata": {},
   "outputs": [],
   "source": [
    "newUpperBound_eq5 = newUpperBound_eq4.lhs.convertToAdd({kInNatsPos}).subRightSideInto(newUpperBound_eq4)\n",
    "newUpperBound_eq5.proven({kInNatsPos})"
   ]
  },
  {
   "cell_type": "code",
   "execution_count": null,
   "metadata": {},
   "outputs": [],
   "source": [
    "newUpperBound_eq6 = newUpperBound_eq5.lhs.ungroup(0, {kInNatsPos}).subRightSideInto(newUpperBound_eq5)\n",
    "newUpperBound_eq6.proven({kInNatsPos})"
   ]
  },
  {
   "cell_type": "code",
   "execution_count": null,
   "metadata": {},
   "outputs": [],
   "source": [
    "newUpperBound_eq7 = newUpperBound_eq6.lhs.commute(1, 2, 2, assumptions={kInNatsPos}).subRightSideInto(newUpperBound_eq6)\n",
    "newUpperBound_eq7.proven({kInNatsPos})"
   ]
  },
  {
   "cell_type": "code",
   "execution_count": null,
   "metadata": {},
   "outputs": [],
   "source": [
    "newUpperBound_eq8 = newUpperBound_eq7.lhs.group(0, 2, assumptions={kInNatsPos}).subRightSideInto(newUpperBound_eq7)\n",
    "newUpperBound_eq8.proven({kInNatsPos})"
   ]
  },
  {
   "cell_type": "code",
   "execution_count": null,
   "metadata": {},
   "outputs": [],
   "source": [
    "newUpperBound_eq9 = newUpperBound_eq8.lhs.terms[0].subtractionFolding(assumptions={kInNatsPos}).subRightSideInto(newUpperBound_eq8)\n",
    "newUpperBound_eq9.proven({kInNatsPos})"
   ]
  },
  {
   "cell_type": "code",
   "execution_count": null,
   "metadata": {},
   "outputs": [],
   "source": [
    "merger12 = newUpperBound_eq9.subRightSideInto(merger11)\n",
    "merger12.proven({kInNatsPos, psi_k_eq})"
   ]
  },
  {
   "cell_type": "code",
   "execution_count": null,
   "metadata": {},
   "outputs": [],
   "source": [
    "psi_k_eq"
   ]
  },
  {
   "cell_type": "code",
   "execution_count": null,
   "metadata": {},
   "outputs": [],
   "source": [
    "naturalsPosInduction"
   ]
  },
  {
   "cell_type": "code",
   "execution_count": null,
   "metadata": {},
   "outputs": [],
   "source": [
    "psi_k_induction = Implies(psi_k_eq, merger12).generalize(k, domain=NaturalsPos)\n",
    "psi_k_induction.proven()"
   ]
  },
  {
   "cell_type": "code",
   "execution_count": null,
   "metadata": {},
   "outputs": [],
   "source": [
    "inductionSpec = naturalsPosInduction.specialize({Operation(P, k):psi_k_eq, n:k})\n",
    "inductionSpec.proven()"
   ]
  },
  {
   "cell_type": "code",
   "execution_count": null,
   "metadata": {},
   "outputs": [],
   "source": [
    "psi1Eq2.proven()"
   ]
  },
  {
   "cell_type": "code",
   "execution_count": null,
   "metadata": {},
   "outputs": [],
   "source": [
    "psi1Eq3 = Exponentiate(two, one).simplification().substitution(sqrt(X), X).subLeftSideInto(psi1Eq2)\n",
    "psi1Eq3.proven()"
   ]
  },
  {
   "cell_type": "code",
   "execution_count": null,
   "metadata": {},
   "outputs": [],
   "source": [
    "baseCaseUpperBound = subtract(Exponentiate(two, one), one)\n",
    "baseCaseUpperBound"
   ]
  },
  {
   "cell_type": "code",
   "execution_count": null,
   "metadata": {},
   "outputs": [],
   "source": [
    "baseCaseUpperBoundEq1 = baseCaseUpperBound.operands[0].simplification().substitution(baseCaseUpperBound)\n",
    "baseCaseUpperBoundEq1.proven()"
   ]
  },
  {
   "cell_type": "code",
   "execution_count": null,
   "metadata": {},
   "outputs": [],
   "source": [
    "baseCaseUpperBoundEq2 = twoSubOne.subRightSideInto(baseCaseUpperBoundEq1)\n",
    "baseCaseUpperBoundEq2"
   ]
  },
  {
   "cell_type": "code",
   "execution_count": null,
   "metadata": {},
   "outputs": [],
   "source": [
    "psi_k_baseCase = baseCaseUpperBoundEq2.deriveReversed().substitution(DiscreteContiguousSet(zero, one)).subRightSideInto(psi1Eq3)\n",
    "psi_k_baseCase.proven()"
   ]
  },
  {
   "cell_type": "code",
   "execution_count": null,
   "metadata": {},
   "outputs": [],
   "source": [
    "compose(psi_k_baseCase, psi_k_induction).proven()"
   ]
  },
  {
   "cell_type": "code",
   "execution_count": null,
   "metadata": {},
   "outputs": [],
   "source": [
    "induced_psi_k = inductionSpec.deriveConclusion()\n",
    "induced_psi_k.proven()"
   ]
  },
  {
   "cell_type": "code",
   "execution_count": null,
   "metadata": {},
   "outputs": [],
   "source": [
    "display(psiKetsInQRegSpace.specialize({k:t_}).proven())\n",
    "psi_t_eq = induced_psi_k.specialize({k:t_, j:k})\n",
    "display(psi_t_eq.proven())"
   ]
  },
  {
   "cell_type": "code",
   "execution_count": null,
   "metadata": {},
   "outputs": [],
   "source": [
    "finalQPE"
   ]
  },
  {
   "cell_type": "code",
   "execution_count": null,
   "metadata": {},
   "outputs": [],
   "source": [
    "invFTinSU"
   ]
  },
  {
   "cell_type": "code",
   "execution_count": null,
   "metadata": {},
   "outputs": [],
   "source": [
    "invFTinSU.specialize({n:t_})"
   ]
  },
  {
   "cell_type": "code",
   "execution_count": null,
   "metadata": {},
   "outputs": [],
   "source": [
    "circuitMultiGateApplication"
   ]
  },
  {
   "cell_type": "code",
   "execution_count": null,
   "metadata": {},
   "outputs": [],
   "source": [
    "Psi_eq1 = circuitMultiGateApplication.specialize({n:t_}).specialize({U:InverseFourierTransform(t_)}).specialize({x:Ket(psi_t), y:Ket(Psi_)}).deriveRight()\n",
    "Psi_eq1.proven()"
   ]
  },
  {
   "cell_type": "code",
   "execution_count": null,
   "metadata": {},
   "outputs": [],
   "source": [
    "alphaDef"
   ]
  },
  {
   "cell_type": "code",
   "execution_count": null,
   "metadata": {},
   "outputs": [],
   "source": [
    "lInInts = In(l, Integers)\n",
    "lInInts"
   ]
  },
  {
   "cell_type": "code",
   "execution_count": null,
   "metadata": {},
   "outputs": [],
   "source": [
    "modAddDef"
   ]
  },
  {
   "cell_type": "code",
   "execution_count": null,
   "metadata": {},
   "outputs": [],
   "source": [
    "b_modadd_l_unfolded = modAddDef.specialize({a:b_, b:l})\n",
    "b_modadd_l_unfolded.proven({lInInts})"
   ]
  },
  {
   "cell_type": "code",
   "execution_count": null,
   "metadata": {},
   "outputs": [],
   "source": [
    "b_modadd_l_unfolded.subLeftSideInto(b_modadd_l_unfolded.rhs.deduceInInterval({lInInts})).proven({lInInts})"
   ]
  },
  {
   "cell_type": "code",
   "execution_count": null,
   "metadata": {},
   "outputs": [],
   "source": [
    "alpha_eq1 = alphaDef.specialize()\n",
    "alpha_eq1.proven({lInInts})"
   ]
  },
  {
   "cell_type": "code",
   "execution_count": null,
   "metadata": {},
   "outputs": [],
   "source": [
    "alpha_eq2 = Psi_eq1.subRightSideInto(alpha_eq1)\n",
    "alpha_eq2.proven({lInInts})"
   ]
  },
  {
   "cell_type": "code",
   "execution_count": null,
   "metadata": {},
   "outputs": [],
   "source": [
    "alpha_eq3 = psi_t_eq.subRightSideInto(alpha_eq2)\n",
    "alpha_eq3.proven({lInInts})"
   ]
  },
  {
   "cell_type": "code",
   "execution_count": null,
   "metadata": {},
   "outputs": [],
   "source": [
    "registerBraOverSummedKet"
   ]
  },
  {
   "cell_type": "code",
   "execution_count": null,
   "metadata": {},
   "outputs": [],
   "source": [
    "psi_t_summand_scalar = psi_t_eq.rhs.summand.scalar\n",
    "psi_t_summand_scalar"
   ]
  },
  {
   "cell_type": "code",
   "execution_count": null,
   "metadata": {},
   "outputs": [],
   "source": [
    "alpha_eq3_rhs_eq = registerBraOverSummedKet.specialize({n:t_}).specialize({U:InverseFourierTransform(t_)}).specialize({l:ModAdd(b_, l)}).specialize({Operation(f, k):psi_t_summand_scalar})\n",
    "alpha_eq3_rhs_eq.proven({lInInts})"
   ]
  },
  {
   "cell_type": "code",
   "execution_count": null,
   "metadata": {},
   "outputs": [],
   "source": [
    "alpha_eq4 = alpha_eq3.applyTransitivity(alpha_eq3_rhs_eq)\n",
    "alpha_eq4.proven({lInInts})"
   ]
  },
  {
   "cell_type": "code",
   "execution_count": null,
   "metadata": {},
   "outputs": [],
   "source": [
    "invFTonMatrixElem"
   ]
  },
  {
   "cell_type": "code",
   "execution_count": null,
   "metadata": {},
   "outputs": [],
   "source": [
    "kInDomain = In(k, alpha_eq4.rhs.domain)\n",
    "kInDomain"
   ]
  },
  {
   "cell_type": "code",
   "execution_count": null,
   "metadata": {},
   "outputs": [],
   "source": [
    "invFTonMatrixElemSpec = invFTonMatrixElem.specialize({n:t_}).specialize({l:ModAdd(b_, l)})\n",
    "invFTonMatrixElemSpec.proven({lInInts, kInDomain})"
   ]
  },
  {
   "cell_type": "code",
   "execution_count": null,
   "metadata": {},
   "outputs": [],
   "source": [
    "summandSub1 = invFTonMatrixElemSpec.substitution(alpha_eq4.rhs.summand)\n",
    "summandSub1.proven({lInInts, kInDomain})"
   ]
  },
  {
   "cell_type": "code",
   "execution_count": null,
   "metadata": {},
   "outputs": [],
   "source": [
    "kInDomain.domain.deduceMemberInIntegers(k)\n",
    "summandSub2 = summandSub1.rhs.ungroup(1, {lInInts, kInDomain}).subRightSideInto(summandSub1)\n",
    "summandSub2.proven({lInInts, kInDomain})"
   ]
  },
  {
   "cell_type": "code",
   "execution_count": null,
   "metadata": {},
   "outputs": [],
   "source": [
    "kPhaseFactor = summandSub2.rhs.operands[0].numerator\n",
    "kPhaseFactor"
   ]
  },
  {
   "cell_type": "code",
   "execution_count": null,
   "metadata": {},
   "outputs": [],
   "source": [
    "root_two_pow_t = sqrt(Exponentiate(two, t_))\n",
    "root_two_pow_t"
   ]
  },
  {
   "cell_type": "code",
   "execution_count": null,
   "metadata": {},
   "outputs": [],
   "source": [
    "kPhaseFactorDist = Multiply(kPhaseFactor, frac(one, root_two_pow_t)).distribute(1, assumptions={kInDomain})\n",
    "kPhaseFactorDist.proven({kInDomain})"
   ]
  },
  {
   "cell_type": "code",
   "execution_count": null,
   "metadata": {},
   "outputs": [],
   "source": [
    "summandSub3 = kPhaseFactorDist.deriveReversed().substitution(summandSub2.rhs).subRightSideInto(summandSub2)\n",
    "summandSub3.proven({lInInts, kInDomain})"
   ]
  },
  {
   "cell_type": "code",
   "execution_count": null,
   "metadata": {},
   "outputs": [],
   "source": [
    "summandSub4 = summandSub3.rhs.ungroup(0, assumptions={lInInts, kInDomain}).subRightSideInto(summandSub3)\n",
    "summandSub4.proven({lInInts, kInDomain})"
   ]
  },
  {
   "cell_type": "code",
   "execution_count": null,
   "metadata": {},
   "outputs": [],
   "source": [
    "summandSub5 = summandSub4.rhs.commute(0, 1, 4, None, assumptions={lInInts, kInDomain}).subRightSideInto(summandSub4)\n",
    "summandSub5.proven({lInInts, kInDomain})"
   ]
  },
  {
   "cell_type": "code",
   "execution_count": null,
   "metadata": {},
   "outputs": [],
   "source": [
    "summandSub6 = summandSub5.rhs.group(0, 2, assumptions={lInInts, kInDomain}).subRightSideInto(summandSub5)\n",
    "summandSub6.proven({lInInts, kInDomain})"
   ]
  },
  {
   "cell_type": "code",
   "execution_count": null,
   "metadata": {},
   "outputs": [],
   "source": [
    "summandSub7 = frac(one, Multiply(root_two_pow_t, root_two_pow_t)).factor(Fraction(one, root_two_pow_t)).subLeftSideInto(summandSub6)\n",
    "summandSub7.proven({lInInts, kInDomain})"
   ]
  },
  {
   "cell_type": "code",
   "execution_count": null,
   "metadata": {},
   "outputs": [],
   "source": [
    "sqrtTimesItself"
   ]
  },
  {
   "cell_type": "code",
   "execution_count": null,
   "metadata": {},
   "outputs": [],
   "source": [
    "deduceInReals(Exponentiate(two, t_))\n",
    "deducePositive(Exponentiate(two, t_)).deriveRelaxed()\n",
    "summandSub8 = sqrtTimesItself.specialize({x:Exponentiate(two, t_)}).subRightSideInto(summandSub7)\n",
    "summandSub8.proven({lInInts, kInDomain})"
   ]
  },
  {
   "cell_type": "code",
   "execution_count": null,
   "metadata": {},
   "outputs": [],
   "source": [
    "generalizedSummandSub = summandSub8.generalize(k, domain=kInDomain.domain)\n",
    "generalizedSummandSub.proven({lInInts})"
   ]
  },
  {
   "cell_type": "code",
   "execution_count": null,
   "metadata": {},
   "outputs": [],
   "source": [
    "alpha_eq5 = alpha_eq4.applyTransitivity(alpha_eq4.rhs.instanceSubstitution(generalizedSummandSub))\n",
    "alpha_eq5.proven({lInInts})"
   ]
  },
  {
   "cell_type": "code",
   "execution_count": null,
   "metadata": {},
   "outputs": [],
   "source": [
    "alpha_eq6 = alpha_eq5.applyTransitivity(alpha_eq5.rhs.factor(frac(one, Exponentiate(two, t_)), assumptions={lInInts}))\n",
    "alpha_eq6.proven({lInInts})"
   ]
  },
  {
   "cell_type": "code",
   "execution_count": null,
   "metadata": {},
   "outputs": [],
   "source": [
    "alpha_eq6.generalize(l, domain=Integers).qed()"
   ]
  },
  {
   "cell_type": "code",
   "execution_count": null,
   "metadata": {},
   "outputs": [],
   "source": []
  }
 ],
 "metadata": {
  "kernelspec": {
   "display_name": "Python 3",
   "language": "python",
   "name": "python3"
  }
 },
 "nbformat": 4,
 "nbformat_minor": 0
}
