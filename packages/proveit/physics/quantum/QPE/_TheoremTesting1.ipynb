{
 "cells": [
  {
   "cell_type": "code",
   "execution_count": null,
   "metadata": {},
   "outputs": [],
   "source": [
    "from proveit.number.natural.theorems import *\n",
    "from proveit.number.integer.theorems import *\n",
    "from proveit.number.real.theorems import *\n",
    "from proveit.number.complex.theorems import *"
   ]
  },
  {
   "cell_type": "code",
   "execution_count": null,
   "metadata": {},
   "outputs": [],
   "source": [
    "divIneqThm1.latex()"
   ]
  },
  {
   "cell_type": "code",
   "execution_count": null,
   "metadata": {},
   "outputs": [],
   "source": [
    "divIneqThm1.specialize({a:x,b:y,c:z}).prove([In(x,Reals),In(y,Reals),In(z,Reals),GreaterThan(y,zero),LessThanEquals(x,z)]).latex()"
   ]
  },
  {
   "cell_type": "code",
   "execution_count": null,
   "metadata": {},
   "outputs": [],
   "source": [
    "divIneqThm2.latex()"
   ]
  },
  {
   "cell_type": "code",
   "execution_count": null,
   "metadata": {},
   "outputs": [],
   "source": [
    "divIneqThm2.specialize({a:x,b:y,c:z}).prove([In(x,Reals),In(y,Reals),In(z,Reals),GreaterThanEquals(y,z),GreaterThanEquals(x,zero),GreaterThan(y,zero),GreaterThan(z,zero)]).latex()"
   ]
  },
  {
   "cell_type": "code",
   "execution_count": null,
   "metadata": {},
   "outputs": [],
   "source": [
    "triangleInequality.latex()"
   ]
  },
  {
   "cell_type": "code",
   "execution_count": null,
   "metadata": {},
   "outputs": [],
   "source": [
    "triangleInequality.specialize({a:x,b:y}).prove([In(x,Complexes),In(y,Complexes)]).latex()"
   ]
  },
  {
   "cell_type": "code",
   "execution_count": null,
   "metadata": {},
   "outputs": [],
   "source": [
    "ineqThm3.latex()"
   ]
  },
  {
   "cell_type": "code",
   "execution_count": null,
   "metadata": {},
   "outputs": [],
   "source": [
    "ineqThm3.specialize({theta:x}).prove((In(x,Reals),LessThanEquals(Neg(pi),x),LessThanEquals(x,pi))).latex()"
   ]
  },
  {
   "cell_type": "code",
   "execution_count": null,
   "metadata": {},
   "outputs": [],
   "source": [
    "ineqThm4.latex()"
   ]
  },
  {
   "cell_type": "code",
   "execution_count": null,
   "metadata": {},
   "outputs": [],
   "source": [
    "ineqThm4.specialize({l:x,t:y,delta:z}).prove((In(x,Integers),In(y,Naturals),In(z,Reals),\n",
    "                                              LessThanEquals(Neg(Exponentiate(two,subtract(y,one))),x),\n",
    "                                              LessThanEquals(x,Exponentiate(two,subtract(y,one))),\n",
    "                                              LessThanEquals(zero,z),\n",
    "                                              LessThanEquals(z,Exponentiate(two,Neg(y)))\n",
    "                                             )\n",
    "                                            ).latex()"
   ]
  },
  {
   "cell_type": "code",
   "execution_count": null,
   "metadata": {},
   "outputs": [],
   "source": [
    "absProd.latex()"
   ]
  },
  {
   "cell_type": "code",
   "execution_count": null,
   "metadata": {},
   "outputs": [],
   "source": [
    "absProd.specialize({a:x,b:y}).prove((In(x,Complexes),In(y,Complexes))).latex()"
   ]
  },
  {
   "cell_type": "code",
   "execution_count": null,
   "metadata": {},
   "outputs": [],
   "source": [
    "absPow.latex()"
   ]
  },
  {
   "cell_type": "code",
   "execution_count": null,
   "metadata": {},
   "outputs": [],
   "source": [
    "absPow.specialize({a:x,b:y,c:z}).prove((In(x,Complexes),In(y,Complexes),In(z,Complexes))).latex()"
   ]
  },
  {
   "cell_type": "code",
   "execution_count": null,
   "metadata": {},
   "outputs": [],
   "source": [
    "squarePosIneq.latex()"
   ]
  },
  {
   "cell_type": "code",
   "execution_count": null,
   "metadata": {},
   "outputs": [],
   "source": [
    "squarePosIneq.specialize({a:x,b:y}).prove((In(x,Reals),In(y,Reals),\n",
    "                                           LessThanEquals(Abs(x),y))).latex()"
   ]
  },
  {
   "cell_type": "code",
   "execution_count": null,
   "metadata": {},
   "outputs": [],
   "source": [
    "squarePosEq.latex()"
   ]
  },
  {
   "cell_type": "code",
   "execution_count": null,
   "metadata": {},
   "outputs": [],
   "source": [
    "squarePosEq.specialize({a:x}).prove((In(x,Reals),)).latex()"
   ]
  },
  {
   "cell_type": "code",
   "execution_count": null,
   "metadata": {},
   "outputs": [],
   "source": [
    "powSum.latex()"
   ]
  },
  {
   "cell_type": "code",
   "execution_count": null,
   "metadata": {},
   "outputs": [],
   "source": [
    "powSum.specialize({a:x,b:y,c:z}).prove((In(x,Complexes),In(y,Complexes),In(z,Complexes))).latex()"
   ]
  },
  {
   "cell_type": "code",
   "execution_count": null,
   "metadata": {},
   "outputs": [],
   "source": [
    "diffSquareComm.latex()"
   ]
  },
  {
   "cell_type": "code",
   "execution_count": null,
   "metadata": {},
   "outputs": [],
   "source": [
    "diffSquareComm.specialize({a:x,b:y}).prove((In(x,Complexes),In(y,Complexes))).latex()"
   ]
  },
  {
   "cell_type": "code",
   "execution_count": null,
   "metadata": {},
   "outputs": [],
   "source": [
    "diffSquareComm.specialize({a:x,b:y}).prove(\n",
    "                                            (And(\n",
    "                                                 In(x,Complexes)\n",
    "                                                 ,In(y,Complexes)\n",
    "                                               ),)\n",
    "                                          )\n",
    "#How do I get the above to work?  Need to call theorem regarding (A^B) -> A?"
   ]
  },
  {
   "cell_type": "code",
   "execution_count": null,
   "metadata": {},
   "outputs": [],
   "source": [
    "ineqThm5.latex()"
   ]
  },
  {
   "cell_type": "code",
   "execution_count": null,
   "metadata": {},
   "outputs": [],
   "source": [
    "ineqThm5.specialize({a:x,b:y,c:z}).prove((In(x,Reals),In(y,Reals),In(z,Reals),GreaterThan(z,zero),GreaterThanEquals(x,y))).latex()"
   ]
  },
  {
   "cell_type": "code",
   "execution_count": null,
   "metadata": {},
   "outputs": [],
   "source": [
    "ineqThm6.latex()"
   ]
  },
  {
   "cell_type": "code",
   "execution_count": null,
   "metadata": {},
   "outputs": [],
   "source": [
    "ineqThm6.specialize({a:x,b:y}).prove((In(x,Reals),In(y,Reals),GreaterThanEquals(y,zero))).latex()"
   ]
  },
  {
   "cell_type": "code",
   "execution_count": null,
   "metadata": {},
   "outputs": [],
   "source": [
    "ineqThm7.latex()"
   ]
  },
  {
   "cell_type": "code",
   "execution_count": null,
   "metadata": {},
   "outputs": [],
   "source": [
    "ineqThm7.specialize({x:y,l:z}).prove((In(y,Reals),In(z,Reals),\n",
    "                                     LessThanEquals(z,zero),\n",
    "                                     LessThanEquals(zero,y),\n",
    "                                     LessThanEquals(y,one))).latex()"
   ]
  },
  {
   "cell_type": "code",
   "execution_count": null,
   "metadata": {},
   "outputs": [],
   "source": [
    "ineqThm8.latex()"
   ]
  },
  {
   "cell_type": "code",
   "execution_count": null,
   "metadata": {},
   "outputs": [],
   "source": [
    "ineqThm8.specialize({x:y,l:z}).prove((In(y,Reals),In(z,Reals),\n",
    "                                     GreaterThan(z,zero),\n",
    "                                     LessThanEquals(zero,y),\n",
    "                                     LessThanEquals(y,one))).latex()"
   ]
  },
  {
   "cell_type": "code",
   "execution_count": null,
   "metadata": {},
   "outputs": [],
   "source": [
    "Am.relabel({m:Add(x,y)})"
   ]
  },
  {
   "cell_type": "code",
   "execution_count": null,
   "metadata": {},
   "outputs": [],
   "source": [
    "Forall(m,Am).specialize({m:Add(m,y)}).latex()"
   ]
  },
  {
   "cell_type": "code",
   "execution_count": null,
   "metadata": {},
   "outputs": [],
   "source": [
    "inIntegers.latex()"
   ]
  },
  {
   "cell_type": "code",
   "execution_count": null,
   "metadata": {},
   "outputs": [],
   "source": [
    "inIntegers.specialize({a:x}).prove((In(x,Naturals),)).latex()"
   ]
  },
  {
   "cell_type": "code",
   "execution_count": null,
   "metadata": {},
   "outputs": [],
   "source": [
    "inReals.latex()"
   ]
  },
  {
   "cell_type": "code",
   "execution_count": null,
   "metadata": {},
   "outputs": [],
   "source": [
    "inIntegers.specialize({a:x}).prove((In(x,Integers),)).latex()#Interesting that this works!"
   ]
  },
  {
   "cell_type": "code",
   "execution_count": null,
   "metadata": {},
   "outputs": [],
   "source": [
    "inReals.specialize({a:x}).prove((In(x,Integers),)).latex()"
   ]
  },
  {
   "cell_type": "code",
   "execution_count": null,
   "metadata": {},
   "outputs": [],
   "source": [
    "inComplexes.specialize({a:x}).prove((In(x,Reals),)).latex()"
   ]
  },
  {
   "cell_type": "code",
   "execution_count": null,
   "metadata": {},
   "outputs": [],
   "source": []
  }
 ],
 "metadata": {
  "kernelspec": {
   "display_name": "Python 3",
   "language": "python",
   "name": "python3"
  }
 },
 "nbformat": 4,
 "nbformat_minor": 0
}
