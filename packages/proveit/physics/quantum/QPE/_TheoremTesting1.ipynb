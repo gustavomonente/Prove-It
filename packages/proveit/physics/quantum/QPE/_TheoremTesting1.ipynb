{
 "cells": [
  {
   "cell_type": "code",
   "execution_count": null,
   "metadata": {},
   "outputs": [],
   "source": [
    "from proveit.number.natural.theorems import *\n",
    "from proveit.number.integer.theorems import *\n",
    "from proveit.number.real.theorems import *\n",
    "from proveit.number.complex.theorems import *"
   ]
  },
  {
   "cell_type": "code",
   "execution_count": null,
   "metadata": {},
   "outputs": [],
   "source": [
    "divIneqThm1.latex()"
   ]
  },
  {
   "cell_type": "code",
   "execution_count": null,
   "metadata": {},
   "outputs": [],
   "source": [
    "divIneqThm1.instantiate({a:x,b:y,c:z}).prove([In(x,Real),In(y,Real),In(z,Real),GreaterThan(y,zero),LessThanEquals(x,z)]).latex()"
   ]
  },
  {
   "cell_type": "code",
   "execution_count": null,
   "metadata": {},
   "outputs": [],
   "source": [
    "divIneqThm2.latex()"
   ]
  },
  {
   "cell_type": "code",
   "execution_count": null,
   "metadata": {},
   "outputs": [],
   "source": [
    "divIneqThm2.instantiate({a:x,b:y,c:z}).prove([In(x,Real),In(y,Real),In(z,Real),GreaterThanEquals(y,z),GreaterThanEquals(x,zero),GreaterThan(y,zero),GreaterThan(z,zero)]).latex()"
   ]
  },
  {
   "cell_type": "code",
   "execution_count": null,
   "metadata": {},
   "outputs": [],
   "source": [
    "triangleInequality.latex()"
   ]
  },
  {
   "cell_type": "code",
   "execution_count": null,
   "metadata": {},
   "outputs": [],
   "source": [
    "triangleInequality.instantiate({a:x,b:y}).prove([In(x,Complex),In(y,Complex)]).latex()"
   ]
  },
  {
   "cell_type": "code",
   "execution_count": null,
   "metadata": {},
   "outputs": [],
   "source": [
    "ineqThm3.latex()"
   ]
  },
  {
   "cell_type": "code",
   "execution_count": null,
   "metadata": {},
   "outputs": [],
   "source": [
    "ineqThm3.instantiate({theta:x}).prove((In(x,Real),LessThanEquals(Neg(pi),x),LessThanEquals(x,pi))).latex()"
   ]
  },
  {
   "cell_type": "code",
   "execution_count": null,
   "metadata": {},
   "outputs": [],
   "source": [
    "ineqThm4.latex()"
   ]
  },
  {
   "cell_type": "code",
   "execution_count": null,
   "metadata": {},
   "outputs": [],
   "source": [
    "ineqThm4.instantiate({l:x,t:y,delta:z}).prove((In(x,Integer),In(y,Natural),In(z,Real),\n",
    "                                              LessThanEquals(Neg(Exponentiate(two,subtract(y,one))),x),\n",
    "                                              LessThanEquals(x,Exponentiate(two,subtract(y,one))),\n",
    "                                              LessThanEquals(zero,z),\n",
    "                                              LessThanEquals(z,Exponentiate(two,Neg(y)))\n",
    "                                             )\n",
    "                                            ).latex()"
   ]
  },
  {
   "cell_type": "code",
   "execution_count": null,
   "metadata": {},
   "outputs": [],
   "source": [
    "absProd.latex()"
   ]
  },
  {
   "cell_type": "code",
   "execution_count": null,
   "metadata": {},
   "outputs": [],
   "source": [
    "absProd.instantiate({a:x,b:y}).prove((In(x,Complex),In(y,Complex))).latex()"
   ]
  },
  {
   "cell_type": "code",
   "execution_count": null,
   "metadata": {},
   "outputs": [],
   "source": [
    "absPow.latex()"
   ]
  },
  {
   "cell_type": "code",
   "execution_count": null,
   "metadata": {},
   "outputs": [],
   "source": [
    "absPow.instantiate({a:x,b:y,c:z}).prove((In(x,Complex),In(y,Complex),In(z,Complex))).latex()"
   ]
  },
  {
   "cell_type": "code",
   "execution_count": null,
   "metadata": {},
   "outputs": [],
   "source": [
    "squarePosIneq.latex()"
   ]
  },
  {
   "cell_type": "code",
   "execution_count": null,
   "metadata": {},
   "outputs": [],
   "source": [
    "squarePosIneq.instantiate({a:x,b:y}).prove((In(x,Real),In(y,Real),\n",
    "                                           LessThanEquals(Abs(x),y))).latex()"
   ]
  },
  {
   "cell_type": "code",
   "execution_count": null,
   "metadata": {},
   "outputs": [],
   "source": [
    "squarePosEq.latex()"
   ]
  },
  {
   "cell_type": "code",
   "execution_count": null,
   "metadata": {},
   "outputs": [],
   "source": [
    "squarePosEq.instantiate({a:x}).prove((In(x,Real),)).latex()"
   ]
  },
  {
   "cell_type": "code",
   "execution_count": null,
   "metadata": {},
   "outputs": [],
   "source": [
    "powSum.latex()"
   ]
  },
  {
   "cell_type": "code",
   "execution_count": null,
   "metadata": {},
   "outputs": [],
   "source": [
    "powSum.instantiate({a:x,b:y,c:z}).prove((In(x,Complex),In(y,Complex),In(z,Complex))).latex()"
   ]
  },
  {
   "cell_type": "code",
   "execution_count": null,
   "metadata": {},
   "outputs": [],
   "source": [
    "diffSquareComm.latex()"
   ]
  },
  {
   "cell_type": "code",
   "execution_count": null,
   "metadata": {},
   "outputs": [],
   "source": [
    "diffSquareComm.instantiate({a:x,b:y}).prove((In(x,Complex),In(y,Complex))).latex()"
   ]
  },
  {
   "cell_type": "code",
   "execution_count": null,
   "metadata": {},
   "outputs": [],
   "source": [
    "diffSquareComm.instantiate({a:x,b:y}).prove(\n",
    "                                            (And(\n",
    "                                                 In(x,Complex)\n",
    "                                                 ,In(y,Complex)\n",
    "                                               ),)\n",
    "                                          )\n",
    "#How do I get the above to work?  Need to call theorem regarding (A^B) -> A?"
   ]
  },
  {
   "cell_type": "code",
   "execution_count": null,
   "metadata": {},
   "outputs": [],
   "source": [
    "ineqThm5.latex()"
   ]
  },
  {
   "cell_type": "code",
   "execution_count": null,
   "metadata": {},
   "outputs": [],
   "source": [
    "ineqThm5.instantiate({a:x,b:y,c:z}).prove((In(x,Real),In(y,Real),In(z,Real),GreaterThan(z,zero),GreaterThanEquals(x,y))).latex()"
   ]
  },
  {
   "cell_type": "code",
   "execution_count": null,
   "metadata": {},
   "outputs": [],
   "source": [
    "ineqThm6.latex()"
   ]
  },
  {
   "cell_type": "code",
   "execution_count": null,
   "metadata": {},
   "outputs": [],
   "source": [
    "ineqThm6.instantiate({a:x,b:y}).prove((In(x,Real),In(y,Real),GreaterThanEquals(y,zero))).latex()"
   ]
  },
  {
   "cell_type": "code",
   "execution_count": null,
   "metadata": {},
   "outputs": [],
   "source": [
    "ineqThm7.latex()"
   ]
  },
  {
   "cell_type": "code",
   "execution_count": null,
   "metadata": {},
   "outputs": [],
   "source": [
    "ineqThm7.instantiate({x:y,l:z}).prove((In(y,Real),In(z,Real),\n",
    "                                     LessThanEquals(z,zero),\n",
    "                                     LessThanEquals(zero,y),\n",
    "                                     LessThanEquals(y,one))).latex()"
   ]
  },
  {
   "cell_type": "code",
   "execution_count": null,
   "metadata": {},
   "outputs": [],
   "source": [
    "ineqThm8.latex()"
   ]
  },
  {
   "cell_type": "code",
   "execution_count": null,
   "metadata": {},
   "outputs": [],
   "source": [
    "ineqThm8.instantiate({x:y,l:z}).prove((In(y,Real),In(z,Real),\n",
    "                                     GreaterThan(z,zero),\n",
    "                                     LessThanEquals(zero,y),\n",
    "                                     LessThanEquals(y,one))).latex()"
   ]
  },
  {
   "cell_type": "code",
   "execution_count": null,
   "metadata": {},
   "outputs": [],
   "source": [
    "Am.relabel({m:Add(x,y)})"
   ]
  },
  {
   "cell_type": "code",
   "execution_count": null,
   "metadata": {},
   "outputs": [],
   "source": [
    "Forall(m,Am).instantiate({m:Add(m,y)}).latex()"
   ]
  },
  {
   "cell_type": "code",
   "execution_count": null,
   "metadata": {},
   "outputs": [],
   "source": [
    "inInteger.latex()"
   ]
  },
  {
   "cell_type": "code",
   "execution_count": null,
   "metadata": {},
   "outputs": [],
   "source": [
    "inInteger.instantiate({a:x}).prove((In(x,Natural),)).latex()"
   ]
  },
  {
   "cell_type": "code",
   "execution_count": null,
   "metadata": {},
   "outputs": [],
   "source": [
    "inReal.latex()"
   ]
  },
  {
   "cell_type": "code",
   "execution_count": null,
   "metadata": {},
   "outputs": [],
   "source": [
    "inInteger.instantiate({a:x}).prove((In(x,Integer),)).latex()#Interesting that this works!"
   ]
  },
  {
   "cell_type": "code",
   "execution_count": null,
   "metadata": {},
   "outputs": [],
   "source": [
    "inReal.instantiate({a:x}).prove((In(x,Integer),)).latex()"
   ]
  },
  {
   "cell_type": "code",
   "execution_count": null,
   "metadata": {},
   "outputs": [],
   "source": [
    "inComplex.instantiate({a:x}).prove((In(x,Real),)).latex()"
   ]
  },
  {
   "cell_type": "code",
   "execution_count": null,
   "metadata": {},
   "outputs": [],
   "source": []
  }
 ],
 "metadata": {
  "kernelspec": {
   "display_name": "Python 3",
   "language": "python",
   "name": "python3"
  }
 },
 "nbformat": 4,
 "nbformat_minor": 0
}
