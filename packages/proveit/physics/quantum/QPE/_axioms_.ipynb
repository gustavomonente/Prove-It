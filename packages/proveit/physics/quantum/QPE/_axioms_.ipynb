{
 "cells": [
  {
   "cell_type": "markdown",
   "metadata": {},
   "source": [
    "Axioms for the theory of <a class=\"ProveItLink\" href=\"_theory_.ipynb\">proveit.physics.quantum.QPE</a>\n",
    "========"
   ]
  },
  {
   "cell_type": "code",
   "execution_count": null,
   "metadata": {},
   "outputs": [],
   "source": [
    "import proveit\n",
    "# Prepare this notebook for defining the axioms of a theory:\n",
    "%axioms_notebook # Keep this at the top following 'import proveit'.\n",
    "from proveit import Literal\n",
    "from proveit._common_ import a, b, eps, k, l, n, t\n",
    "from proveit.linalg import MatrixProd, ScalarProd, TensorExp \n",
    "from proveit.logic import Equals, Forall, InSet\n",
    "from proveit.number import zero, one, two, e, i, pi, Div, Exp, Integer, Interval, IntervalCO, NaturalPos \n",
    "from proveit.number import Add, Exp, Floor, frac, LessEq, Mod, ModAbs, Mult, Prod, subtract, Sum\n",
    "from proveit.physics.quantum import Ket, Meas, RegisterBra, RegisterSU, QubitRegisterSpace\n",
    "from proveit.physics.quantum.QPE._common_ import (alpha_l, b_, delta_, m_, n_, phase_,\n",
    "                                                  phase_m_, psi_k, Psi_, t_, two_pow_t,\n",
    "                                                  u_, U_ )\n",
    "from proveit.physics.quantum.QPE.phaseEstOps import ModAdd, Pfail, Psuccess\n",
    "from proveit.statistics import Prob"
   ]
  },
  {
   "cell_type": "code",
   "execution_count": null,
   "metadata": {},
   "outputs": [],
   "source": [
    "%begin axioms"
   ]
  },
  {
   "cell_type": "markdown",
   "metadata": {},
   "source": [
    "Let $U$ be a unitary operator that acts on $n$ qubits, with $\\lvert u\\rangle$ as an eigenstate of $U$ with eigenvalue $e^{2 \\pi i \\varphi}$:"
   ]
  },
  {
   "cell_type": "code",
   "execution_count": null,
   "metadata": {},
   "outputs": [],
   "source": [
    "nInNatPos = InSet(n_, NaturalPos)"
   ]
  },
  {
   "cell_type": "code",
   "execution_count": null,
   "metadata": {},
   "outputs": [],
   "source": [
    "unitaryU = InSet(U_, RegisterSU(n_))"
   ]
  },
  {
   "cell_type": "code",
   "execution_count": null,
   "metadata": {},
   "outputs": [],
   "source": [
    "uKetRegister = InSet(Ket(u_), QubitRegisterSpace(n_))"
   ]
  },
  {
   "cell_type": "code",
   "execution_count": null,
   "metadata": {},
   "outputs": [],
   "source": [
    "phaseInInterval = InSet(phase_, IntervalCO(zero, one))"
   ]
  },
  {
   "cell_type": "code",
   "execution_count": null,
   "metadata": {},
   "outputs": [],
   "source": [
    "eigenUu = Equals(MatrixProd(U_, Ket(u_)), ScalarProd(Exp(e, Mult(two, pi, i, phase_)), Ket(u_)))"
   ]
  },
  {
   "cell_type": "code",
   "execution_count": null,
   "metadata": {},
   "outputs": [],
   "source": [
    "# t (represented by the Literal t_)\n",
    "# denotes the number of Qbits in the input register\n",
    "tInNaturalPos = InSet(t_, NaturalPos)"
   ]
  },
  {
   "cell_type": "code",
   "execution_count": null,
   "metadata": {},
   "outputs": [],
   "source": [
    "psiKetsInQRegSpace = Forall(k, InSet(Ket(psi_k), QubitRegisterSpace(k)), domain=NaturalPos)"
   ]
  },
  {
   "cell_type": "code",
   "execution_count": null,
   "metadata": {},
   "outputs": [],
   "source": [
    "PsiKetInQRegSpace = InSet(Ket(Psi_), QubitRegisterSpace(t_))"
   ]
  },
  {
   "cell_type": "code",
   "execution_count": null,
   "metadata": {},
   "outputs": [],
   "source": [
    "# firstQPE = Circuit([[Input(ket0), Hgate, CTRL_DN, Output(Ket(psi_1))],\n",
    "#                 [Input(Ket(u_)), MultiWire(n_), Gate(U_), Output(Ket(u_))]])"
   ]
  },
  {
   "cell_type": "code",
   "execution_count": null,
   "metadata": {},
   "outputs": [],
   "source": [
    "# midQPE = Forall(k, \n",
    "#                Circuit([[Input(Ket(psi_k)), MultiWire(k), PASS, WIRE_DN, PASS, PASS],\n",
    "#                 [Input(ket0), Hgate, CTRL_DN, WIRE_LINK, MultiWire(Add(k, one)), Output(Ket(psi_next))],\n",
    "#                 [Input(Ket(u_)), MultiWire(n_), Gate(U_pow_two_pow_k), Output(Ket(u_)), PASS, PASS]]),\n",
    "#        domain=NaturalPos)"
   ]
  },
  {
   "cell_type": "code",
   "execution_count": null,
   "metadata": {},
   "outputs": [],
   "source": [
    "# finalQPE = Circuit([[Input(Ket(psi_t)), MultiWire(t_), Gate(InverseFourierTransform(t_)), Output(Ket(Psi_))]])"
   ]
  },
  {
   "cell_type": "code",
   "execution_count": null,
   "metadata": {},
   "outputs": [],
   "source": [
    "# trying here to define Psi_1 (the result at the end of \"stage 1\")\n",
    "# represented in Nielsen & Chuang's Ex 5.20 (pg 222)\n",
    "Psi_1 = Literal(stringFormat='Psi_1', latexFormat=r'\\Psi_{1}')\n",
    "phi_ = Literal(stringFormat='phi', latexFormat=r'\\varphi')\n",
    "Psi_1_def = Equals(Psi_1,\n",
    "                   Mult(frac(one, Exp(two, frac(t_,two))),\n",
    "                        Sum(k, Mult(Exp(e, Mult(two, pi, i, phase_, k)), Ket(k)), domain=Interval(zero, subtract(Exp(two, t_), one)))))"
   ]
  },
  {
   "cell_type": "code",
   "execution_count": null,
   "metadata": {},
   "outputs": [],
   "source": []
  },
  {
   "cell_type": "markdown",
   "metadata": {},
   "source": [
    "Let $\\lvert \\Psi \\rangle$ be the outcome of the $t$-qubit register of ${\\rm QPE}(U, t)$ acting on $\\lvert u \\rangle$, $m$ be a random variable representing the measurement of Psi with the register interpretted as an integer (via binary representation), and $\\varphi_m = 2 \\pi m/2^t$ be the random variable phase outcome of ${\\rm QPE}(U, t)$:"
   ]
  },
  {
   "cell_type": "code",
   "execution_count": null,
   "metadata": {},
   "outputs": [],
   "source": [
    "mDef = Equals(m_, Meas(Ket(Psi_)))\n"
   ]
  },
  {
   "cell_type": "code",
   "execution_count": null,
   "metadata": {},
   "outputs": [],
   "source": [
    "phase_m_def = Equals(phase_m_, frac(m_, two_pow_t))"
   ]
  },
  {
   "cell_type": "markdown",
   "metadata": {},
   "source": [
    "Let $b$ be the value for $m$ that gives the closest $\\varphi_m$ to $\\varphi$ without exceeding it, and let $\\delta$ be this difference:"
   ]
  },
  {
   "cell_type": "code",
   "execution_count": null,
   "metadata": {},
   "outputs": [],
   "source": [
    "bestDef = Equals(b_, Floor(Mult(phase_, two_pow_t)))"
   ]
  },
  {
   "cell_type": "code",
   "execution_count": null,
   "metadata": {},
   "outputs": [],
   "source": [
    "deltaDef = Equals(delta_, subtract(phase_, frac(b_, two_pow_t)))"
   ]
  },
  {
   "cell_type": "markdown",
   "metadata": {},
   "source": [
    "The probability of success is defined as $\\theta_m$ being within some epsilon of $\\theta$: "
   ]
  },
  {
   "cell_type": "code",
   "execution_count": null,
   "metadata": {},
   "outputs": [],
   "source": [
    "successDef = Forall(\n",
    "        eps,\n",
    "        Equals(Psuccess(eps),\n",
    "               Prob(LessEq(ModAbs(subtract(m_, b_), two_pow_t), eps), m_)), \n",
    "        domain=NaturalPos)"
   ]
  },
  {
   "cell_type": "code",
   "execution_count": null,
   "metadata": {},
   "outputs": [],
   "source": [
    "failDef = Forall(\n",
    "    eps,\n",
    "    Equals(Pfail(eps), subtract(one, Psuccess(eps))),\n",
    "    domain=NaturalPos)"
   ]
  },
  {
   "cell_type": "markdown",
   "metadata": {},
   "source": [
    "Let $\\alpha_l$ be the amplitude of $\\lvert \\Psi \\rangle$ for the $b \\oplus l$ state, where $\\oplus$ is defined as addition modulo $2^t$:"
   ]
  },
  {
   "cell_type": "code",
   "execution_count": null,
   "metadata": {},
   "outputs": [],
   "source": [
    "modAddDef = Forall(\n",
    "    (a, b),\n",
    "    Equals(ModAdd(a, b), Mod(Add(a, b), two_pow_t)),\n",
    "    domain=Integer)"
   ]
  },
  {
   "cell_type": "code",
   "execution_count": null,
   "metadata": {},
   "outputs": [],
   "source": [
    "alphaDef = Forall(\n",
    "    l,\n",
    "    Equals(alpha_l,\n",
    "           MatrixProd(RegisterBra(ModAdd(b_, l), t_),\n",
    "                      Ket(Psi_))),\n",
    "    domain=Integer)"
   ]
  },
  {
   "cell_type": "code",
   "execution_count": null,
   "metadata": {},
   "outputs": [],
   "source": [
    "%end axioms"
   ]
  }
 ],
 "metadata": {
  "kernelspec": {
   "display_name": "Python 3",
   "language": "python",
   "name": "python3"
  }
 },
 "nbformat": 4,
 "nbformat_minor": 0
}
