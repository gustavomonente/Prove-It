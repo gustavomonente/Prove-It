{
 "cells": [
  {
   "cell_type": "code",
   "execution_count": null,
   "metadata": {},
   "outputs": [],
   "source": [
    "from proveit.number.arithmeticOps import *\n",
    "from proveit.number.variables import a,b,c,m,n,t,eps,phi,U,SUm,C2m,H,Hm,u,e,i,pi,k,l,zero,one,two,infinity\n",
    "from proveit.number.variables import minusOne, minusTwo,Z,Zp,R,zeroToOne,tFunc,tFunc_n_eps,QPE,QPEfunc\n",
    "from proveit.basiclogic.boolean.quantifiers import Forall, Exists\n",
    "from proveit.basiclogic.set.setOps import In"
   ]
  },
  {
   "cell_type": "code",
   "execution_count": null,
   "metadata": {},
   "outputs": [],
   "source": [
    "prefactor = Fraction(one,Exponentiate(two,t))"
   ]
  },
  {
   "cell_type": "code",
   "execution_count": null,
   "metadata": {},
   "outputs": [],
   "source": [
    "exp1Arg = Fraction(Multiply(minusTwo,pi,i,k,l),Exponentiate(two,t))"
   ]
  },
  {
   "cell_type": "code",
   "execution_count": null,
   "metadata": {},
   "outputs": [],
   "source": [
    "exp2Arg = Multiply(two,pi,i,phi,k)"
   ]
  },
  {
   "cell_type": "code",
   "execution_count": null,
   "metadata": {},
   "outputs": [],
   "source": [
    "summand0 = Multiply(Exponentiate(e,exp1Arg),Exponentiate(e,exp2Arg),Ket(l))\n",
    "summand1 = Summation(k,summand0,DiscreteContiguousSet(zero,Subtract(Exponentiate(two,t),one)))"
   ]
  },
  {
   "cell_type": "code",
   "execution_count": null,
   "metadata": {},
   "outputs": [],
   "source": [
    "fullExp = Multiply(prefactor,\n",
    "                   Summation([l],\n",
    "                       summand1,\n",
    "                       DiscreteContiguousSet(zero,Subtract(Exponentiate(two,t),one)))\n",
    "                  )"
   ]
  },
  {
   "cell_type": "code",
   "execution_count": null,
   "metadata": {},
   "outputs": [],
   "source": [
    "print(fullExp.formatted(LATEX))"
   ]
  },
  {
   "cell_type": "code",
   "execution_count": null,
   "metadata": {},
   "outputs": [],
   "source": [
    "%%latex\n",
    "$$\n",
    "\\frac{1}{2^{t}} \\cdot [\\sum_{l \\in \\{0\\ldots 2^{t} - 1\\}} \\sum_{k \\in \\{0\\ldots 2^{t} - 1\\}} e^{\\frac{(-2 \\cdot \\pi \\cdot i \\cdot k \\cdot l)}{2^{t}}} \\cdot e^{(2 \\cdot \\pi \\cdot i \\cdot \\phi \\cdot k)} \\cdot |l\\rangle]\n",
    "$$"
   ]
  },
  {
   "cell_type": "code",
   "execution_count": null,
   "metadata": {},
   "outputs": [],
   "source": [
    "summand1.instanceVars[0]"
   ]
  },
  {
   "cell_type": "code",
   "execution_count": null,
   "metadata": {},
   "outputs": [],
   "source": [
    "print(summand1.instanceExpr.formatted(LATEX))"
   ]
  },
  {
   "cell_type": "code",
   "execution_count": null,
   "metadata": {},
   "outputs": [],
   "source": [
    "summand1.domain"
   ]
  },
  {
   "cell_type": "code",
   "execution_count": null,
   "metadata": {},
   "outputs": [],
   "source": []
  }
 ],
 "metadata": {
  "kernelspec": {
   "display_name": "Python 3",
   "language": "python",
   "name": "python3"
  }
 },
 "nbformat": 4,
 "nbformat_minor": 0
}
