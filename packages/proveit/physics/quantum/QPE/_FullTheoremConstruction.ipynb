{
 "cells": [
  {
   "cell_type": "code",
   "execution_count": null,
   "metadata": {},
   "outputs": [],
   "source": [
    "#import sys\n",
    "#from proveit.expression import Literal, LATEX, STRING, Operation\n",
    "##from proveit.statement import *\n",
    "#from proveit.basiclogic.genericOps import AssociativeOperation, BinaryOperation, OperationOverInstances\n",
    "#from proveit.everythingLiteral import EVERYTHING\n",
    "from proveit.numbers.arithmeticOps import *\n",
    "from proveit.numbers.variables import a,b,c,m,n,t,eps,phi,U,SUm,C2m,H,Hm,u,e,i,pi,k,l,zero,one,two,infinity\n",
    "from proveit.numbers.variables import minusOne, minusTwo,Z,Zp,R,zeroToOne,tFunc,tFunc_n_eps,QPE,QPEfunc\n",
    "#import proveit.numbers.variables as var\n",
    "from proveit.basiclogic.boolean.quantifiers import Forall\n",
    "from proveit.basiclogic.set.setOps import In\n",
    "from proveit.basiclogic import Equals"
   ]
  },
  {
   "cell_type": "code",
   "execution_count": null,
   "metadata": {},
   "outputs": [],
   "source": [
    "def wrap1(arg1):\n",
    "    return Forall([m,n,t,eps],\n",
    "             arg1,\n",
    "             conditions=[In(m,Zp),In(n,Zp),In(t,Zp),In(eps,zeroToOne),Equals(t,tFunc_n_eps)])"
   ]
  },
  {
   "cell_type": "code",
   "execution_count": null,
   "metadata": {},
   "outputs": [],
   "source": [
    "wrap1(Z)"
   ]
  },
  {
   "cell_type": "code",
   "execution_count": null,
   "metadata": {},
   "outputs": [],
   "source": [
    "def wrap2(arg2):\n",
    "    return Forall([U,u,phi],\n",
    "       arg2,conditions=[In(U,SUm),\n",
    "          In(u,Hm),\n",
    "          In(phi,zeroToOne),\n",
    "            Equals(\n",
    "                Multiply(U,u),\n",
    "                Multiply(\n",
    "                    Exponentiate(\n",
    "                        e,\n",
    "                        Multiply(two,pi,i,phi)\n",
    "                        ),\n",
    "                    u)\n",
    "                )\n",
    "             ]\n",
    "            )"
   ]
  },
  {
   "cell_type": "code",
   "execution_count": null,
   "metadata": {},
   "outputs": [],
   "source": [
    "PrArg = LessThanEquals(\n",
    "    Abs(\n",
    "        subtract(\n",
    "            QPEfunc,\n",
    "            phi)\n",
    "    ),\n",
    "    Exponentiate(\n",
    "        two,\n",
    "    Multiply(minusOne,\n",
    "             n)\n",
    "        ))"
   ]
  },
  {
   "cell_type": "code",
   "execution_count": null,
   "metadata": {},
   "outputs": [],
   "source": [
    "print(Pr(PrArg))"
   ]
  },
  {
   "cell_type": "code",
   "execution_count": null,
   "metadata": {},
   "outputs": [],
   "source": [
    "print(wrap1(wrap2( GreaterThanEquals(Pr(PrArg),subtract(one,eps)))).formatted(LATEX))"
   ]
  },
  {
   "cell_type": "markdown",
   "metadata": {},
   "source": [
    "$$\n",
    "\\forall_{m, n, t, \\varepsilon | m \\in \\mathbb{Z}^+, n \\in \\mathbb{Z}^+, t \\in \\mathbb{Z}^+, \\varepsilon \\in [0,1], t = tFunc(n, \\varepsilon)} \\left[\\forall_{U, |u\\rangle, \\phi | U \\in U(m), |u\\rangle \\in \\mathcal{H}(m), \\phi \\in [0,1], \\left(U \\cdot |u\\rangle\\right) = \\left(e^{\\left(2 \\cdot \\pi \\cdot i \\cdot \\phi\\right)} \\cdot |u\\rangle\\right)} \\left(Pr[\\left(|\\left(QPE(U, |u\\rangle, t) - \\phi\\right)| \\leq 2^{\\left(-1 \\cdot n\\right)}\\right)] \\geq \\left(1 - \\varepsilon\\right)\\right)\\right]\n",
    "$$"
   ]
  },
  {
   "cell_type": "code",
   "execution_count": null,
   "metadata": {},
   "outputs": [],
   "source": []
  }
 ],
 "metadata": {
  "kernelspec": {
   "display_name": "Python 3",
   "language": "python",
   "name": "python3"
  }
 },
 "nbformat": 4,
 "nbformat_minor": 0
}
