{
 "cells": [
  {
   "cell_type": "markdown",
   "metadata": {},
   "source": [
    "Axioms for the theory of <a class=\"ProveItLink\" href=\"theory.ipynb\">proveit.physics.quantum</a>\n",
    "========"
   ]
  },
  {
   "cell_type": "code",
   "execution_count": 1,
   "metadata": {},
   "outputs": [],
   "source": [
    "import proveit\n",
    "# Prepare this notebook for defining the axioms of a theory:\n",
    "%axioms_notebook # Keep this at the top following 'import proveit'.\n",
    "from proveit import k, n, x, y, alpha, U, f, fx, fy\n",
    "from proveit.linalg import MatrixProd, TensorProd\n",
    "from proveit.logic import Equals, Forall, Iff, InSet\n",
    "from proveit.numbers import zero, one, two, frac, Integer, NaturalPos # Complex\n",
    "from proveit.numbers import Add, Exp, sqrt, subtract\n",
    "from proveit.numbers.number_sets import Interval\n",
    "from proveit.physics.quantum import Input, Output, RegisterKet\n",
    "from proveit.physics.quantum.circuit import Gate, MultiQubitGate, IdentityOp, CircuitEquiv\n",
    "# from proveit.physics.quantum import Bra, Ket, RegisterBra, Meas, MultiWire, Circuit\n",
    "from proveit.physics.quantum import CTRL_DN, ket0, ket1, ket_plus, H, QubitSpace\n",
    "# from proveit.physics.quantum import I, X, Y, Z, RegisterSU\n",
    "from proveit.physics.quantum import QubitRegisterSpace"
   ]
  },
  {
   "cell_type": "code",
   "execution_count": 2,
   "metadata": {},
   "outputs": [
    {
     "name": "stdout",
     "output_type": "stream",
     "text": [
      "Defining axioms for theory 'proveit.physics.quantum'\n",
      "Subsequent end-of-cell assignments will define axioms\n",
      "%end_axioms will finalize the definitions\n"
     ]
    }
   ],
   "source": [
    "%begin axioms"
   ]
  },
  {
   "cell_type": "code",
   "execution_count": 3,
   "metadata": {},
   "outputs": [
    {
     "data": {
      "text/html": [
       "<strong id=\"ket_zero_in_qubit_space\">ket_zero_in_qubit_space:</strong> <a class=\"ProveItLink\" href=\"../__pv_it/axioms/9eb1517b5c18280d3cc6e69bf1dc8a72935a8ca50/axiom_expr.ipynb\"><img src=\"data:image/png;base64,iVBORw0KGgoAAAANSUhEUgAAAEYAAAAaBAMAAAD4TDc7AAAAMFBMVEX///9mZmZUVFREREQQEBDc\n",
       "3NwiIiKqqqoyMjKYmJiIiIi6urp2dnbu7u7MzMwAAAADxdujAAAAAXRSTlMAQObYZgAAAWdJREFU\n",
       "KM+F0z1Lw0AYB/C/SWsISc4biy4BcS0V0UEUOroZ8AOoCNqxm4tDtro4+AU0o1WQuopKxbEgEUQ7\n",
       "CFZnFQelWC31ci/YVpo8Qy65++XuuecSICEuJ8MkYnuan2SGPfKZaCrpb7yKe2OgMtqoibuhysCZ\n",
       "gsjY5WsQ99/gQeFjjbKNITIl3HlY6SdvTdx8UZg0MmYeto9yHzG1ANinOMMFM7ob5VVXYzPrhajd\n",
       "S7HaaZSUNueZGXFhNaF7nJBZWVa6xC5OkOp03pl5pLBaMKp8qC6J4z79rVvDchWkBZn0hOxOV097\n",
       "DAX5Acb4Y04Z2mPEWnjm6Sxss4jWyr10G5az0QS2+OtqHuxo3UbPwWwD0/wxr/p3uQmlETWUM4wq\n",
       "ox+xGlq+NNjAbQN2UZxgUaHMXHg/pebBw2GWDcq6jJ9LQzKLqw2Vj4gT2VpX4iy6Q5lszMcojeMn\n",
       "GzOIMcdyq4l/UXz8As67XmCaNjNWAAAAAElFTkSuQmCC\n",
       "\" style=\"display:inline;vertical-align:middle;\" /></a><br>"
      ],
      "text/plain": [
       "ket_zero_in_qubit_space: |0〉 in Complex^{2}"
      ]
     },
     "execution_count": 3,
     "metadata": {},
     "output_type": "execute_result"
    }
   ],
   "source": [
    "ket_zero_in_qubit_space = InSet(ket0, QubitSpace)"
   ]
  },
  {
   "cell_type": "code",
   "execution_count": 4,
   "metadata": {},
   "outputs": [
    {
     "data": {
      "text/html": [
       "<strong id=\"ket_one_in_qubit_space\">ket_one_in_qubit_space:</strong> <a class=\"ProveItLink\" href=\"../__pv_it/axioms/d9e076b162dbc6b35aa6c04bb4a135c44bda09480/axiom_expr.ipynb\"><img src=\"data:image/png;base64,iVBORw0KGgoAAAANSUhEUgAAAEYAAAAaBAMAAAD4TDc7AAAAMFBMVEX////c3NxEREQiIiIyMjJm\n",
       "ZmaYmJhUVFQQEBCqqqqIiIi6urp2dnbu7u7MzMwAAABqK0sxAAAAAXRSTlMAQObYZgAAATJJREFU\n",
       "KM9jYCAAjqpeIKSER4DdgZAaZgG+jwTVbGD8zfAWwubEqYrzL8NpCIt1A06TFsDU8BVgSC4x+WEU\n",
       "APQYA1jNDKD3DNCVvPvJcPVbAANbAEgNb009UM0yNCVs7AsYGPIDGPYw7AObkw9UcwUmp2xsAqLz\n",
       "OICC7AF8njN14WqYBCDu0oIGa4AQkOBdwPH//we4Gs4DYKkrUCW8BU8R9sLUQB1dCBVmPLALi5po\n",
       "MFcBpiYAm5rnYOe0uAAByC6FN1jUzAFrh5nD4MuORY0imNsAE08Fq7mAogZqQhRMDdNqYBhyO8DV\n",
       "rAeq4ZkAicEJMEUhOhduKsHNCe93TWBghoZL0V6oGr6QftMHCPeAwFYozX0IEhfIAKamDk9ihKrh\n",
       "dSCshm0BHjXroF4lmIvwAwAPuFooM6wTMgAAAABJRU5ErkJggg==\n",
       "\" style=\"display:inline;vertical-align:middle;\" /></a><br>"
      ],
      "text/plain": [
       "ket_one_in_qubit_space: |1〉 in Complex^{2}"
      ]
     },
     "execution_count": 4,
     "metadata": {},
     "output_type": "execute_result"
    }
   ],
   "source": [
    "ket_one_in_qubit_space = InSet(ket1, QubitSpace)"
   ]
  },
  {
   "cell_type": "code",
   "execution_count": 5,
   "metadata": {},
   "outputs": [
    {
     "data": {
      "text/html": [
       "<strong id=\"single_qubit_register_zero\">single_qubit_register_zero:</strong> <a class=\"ProveItLink\" href=\"../__pv_it/axioms/8f888cf85760962a93a4359981d83804e47170eb0/axiom_expr.ipynb\"><img src=\"data:image/png;base64,iVBORw0KGgoAAAANSUhEUgAAAFEAAAAWBAMAAABK/G3RAAAAMFBMVEX///9mZmZUVFREREQQEBDc\n",
       "3NwiIiKqqqoyMjKYmJiIiIi6urp2dnbu7u7MzMwAAAADxdujAAAAAXRSTlMAQObYZgAAAVFJREFU\n",
       "KM+V0rFKw0AYB/C/hjSmSc64uLjkCUpQHAWfQAo+gFnE9R5AaHXR0cFJBINbHUSfwGyWCpJBpIPg\n",
       "4S7FLoXSgvfdpXbwTvCDIyH5cbnvnw+fUOXBWKzUVy7Xk75duDPKsHq8pmXYeQZLrLJ3KfCh5Qle\n",
       "m8hscolH+6gp6W8jbKNjk+dAF/Uzkk4Cb4q+Ta4DrTJqk1xOEIzgNC1yCDxwbJJ8jxGM4RVmGX1J\n",
       "meOQ5F4BNga1xFL1untKdaSlOwEGObUkZQw2ocjYSvZ7T1fuOSgo79nXKbIgs35d5q068kagk5gk\n",
       "ddTi1IZMKYU/BXVXSX3O40puAFclRTNL3k0te6rksav+5gFeBEJukTUe7QCPSr7dNKD+rFFGvWuh\n",
       "MqymDvc2qSqI57JB42yVi+JH0gi4q8PcIvvzmffzP2f+Qq5bfeuURlkX+rqFf9Q3XldwHfwniO0A\n",
       "AAAASUVORK5CYII=\n",
       "\" style=\"display:inline;vertical-align:middle;\" /></a><br>"
      ],
      "text/plain": [
       "single_qubit_register_zero: |0〉_{1} = |0〉"
      ]
     },
     "execution_count": 5,
     "metadata": {},
     "output_type": "execute_result"
    }
   ],
   "source": [
    "single_qubit_register_zero = Equals(RegisterKet(zero, one), ket0)"
   ]
  },
  {
   "cell_type": "code",
   "execution_count": 6,
   "metadata": {},
   "outputs": [
    {
     "data": {
      "text/html": [
       "<strong id=\"single_qubit_register_one\">single_qubit_register_one:</strong> <a class=\"ProveItLink\" href=\"../__pv_it/axioms/8a484289ff7b132b7c85246c6b96ef34c05dff410/axiom_expr.ipynb\"><img src=\"data:image/png;base64,iVBORw0KGgoAAAANSUhEUgAAAFEAAAAWBAMAAABK/G3RAAAAMFBMVEX////c3NxEREQiIiIyMjJm\n",
       "ZmaYmJhUVFQQEBCqqqqIiIi6urp2dnbu7u7MzMwAAABqK0sxAAAAAXRSTlMAQObYZgAAAP9JREFU\n",
       "KM9jeMsABpwMWAHfBQg9AYhPQ5isG7Cq5IEKRyNU8hXgVfkcqnIG0A4DnCo5exkYmMEqeWvqgSqX\n",
       "4VJ5/fhfBgauBIiZ+UCVV3CayQZUyeuAUMkkgE8lgyJCJecBvCrnIFSCvMSnAJY+4gICrigqmZFU\n",
       "RjPwhRrgNBMY3nCVwCDjxq0SGN5wlXPwqgR6A65SEa4S4k53FJXAoIGpZFTAa6YQxEfrgSp5JuBS\n",
       "yQVSeRKsMrzfNQEcs1hVslZ8CQOHITQtMWzFpRIMuAMQKutAHsSpkv0BXCUoCTAGf1+AQ+UVREpm\n",
       "W4A3JWcB8ToIk+kCVpVcDyC0LgMJAACIYVz8eve+2wAAAABJRU5ErkJggg==\n",
       "\" style=\"display:inline;vertical-align:middle;\" /></a><br>"
      ],
      "text/plain": [
       "single_qubit_register_one: |1〉_{1} = |1〉"
      ]
     },
     "execution_count": 6,
     "metadata": {},
     "output_type": "execute_result"
    }
   ],
   "source": [
    "single_qubit_register_one = Equals(RegisterKet(one, one), ket1)"
   ]
  },
  {
   "cell_type": "code",
   "execution_count": 7,
   "metadata": {},
   "outputs": [
    {
     "data": {
      "text/html": [
       "<a class=\"ProveItLink\" href=\"../__pv_it/axioms/3d813f8ccc5cafe28515f9ad8824aacdd3c979d70/expr.ipynb\"><img src=\"data:image/png;base64,iVBORw0KGgoAAAANSUhEUgAAATsAAAAXBAMAAACG6/UNAAAAMFBMVEX///8QEBCIiIhmZma6urrM\n",
       "zMxUVFQiIiJERETc3Nzu7u6qqqp2dnaYmJgyMjIAAAAcRTyBAAAAAXRSTlMAQObYZgAABGFJREFU\n",
       "SMe9lmtoHFUUx/+Z3dndmX2BWqR+0JXYVksLoxE0RWFLhX7stkIbJG2WoOCHUpYShKLgqiCbFGGw\n",
       "gqUgnbagJWAz+Ggtps2yrUg1yGi+KEQa6KcWGgK2RROlnnvPPHb2kdH1ceHM7uz+Ofd37z3n3AP8\n",
       "46Fa/Jn+a/IX0E3uObLx740PkCnyt1gxWq05uIxucs/Rk2TnXVsQP/zcM51eFV71Nyq0+HK0/DQE\n",
       "3un70Uku8BrzJeym7wmT7Vvxx42e8XKm9Joz6HslWn5d4uEaOsnJUc7WDyEplr3AdlRsebVnvDle\n",
       "dF7Ey+ZIddZgvBWE5Pqm2QbjfQ98B8WhlwZbjuIx03swHmK8HSKqz0Sqk6bEiy8jJN9mQX9EOnob\n",
       "mLHEruEEW/abycn3e6bTKoz3tXhJmVFyMRHhZSohuXZdRKUtHN2hldoYF1FTZPu1VnutZzzFYLxr\n",
       "uDCIdD1K3s94OSM9ZwbyWMyEbmwhR/ovhFfAtDhpg+0lCNqHC76PYQdKw58p8/SW8BRDwC4/GFKO\n",
       "xNNXlPf+aAv2IXawKIfIHbzDeFP2YzucQP4TBnEKJ8mR9jswUpC5kV1g2yYzJOlXIe0BYB5nvdcr\n",
       "OBCa8/mn6LHfDyZb4qWXN+oOF6wWZXi8yngzJ62PEcgNxI6RCTzavZG6LInpCltSZsqUiG19esBB\n",
       "mmDHkLf82B8x5y7MB1NsJ7vovfQVJV7sXvm22xeVPWV43Md4jxshOZ3UALkJDleURHWJLeMkPVc/\n",
       "np+EwNNvo887vzEcL35STa6Olxx9U7xN+6LqqnivPFpolhvQB0y5eyI1ZmwZlR6etiBWcUldj7hc\n",
       "FOGpvyHp+D5nrERpqAuee7hTxeMiOMaRfXZXfwueG3vl4HD1W9otNMkNirwrjFcDrloyp+MVNoy/\n",
       "SI+bn01ZOXh4y0gGqXKQzn9zsTOemxpXKdrrorpntzp9Zvfd49TILukrGQTy53QDGXOvX5blVeGl\n",
       "Bj4VjHdKoDWIkaiL3evz8Si7P8S0E8I7YQZ/Cq8vI1+qi+p+bANHbRe8SxIvUcXtDAJ57Aj9/FVZ\n",
       "Romtr+GLNlZnQ55I1HsOA3tqtVpBfQsi9vLFpmtLjjj9W5vgSVWvUsa5LB+G8oQl68EotiKxuPjg\n",
       "4s1OeNslXspG/0b4cug3/Mtbb6wvccXJldiQpeUq1Z0aEt7uNWduvB4vtU3h7553qfHdRLYGz6jd\n",
       "d8+91FrlpygbBgNHMgc+co1jqLBHQabkxh5V97M4amkT9Nj35RdWaIpzzbHntQRyUIHXljD2uYd3\n",
       "rmtL0Cofnr3c1O8lSkFL4PVFiXWgM3LxlFkDO011LT0euns3NMOR10eb8VKm71VU93gZmxwXTypb\n",
       "xniA1ywPt6Nnmhqq0A1KsSfxosbFlnaUtyZIdlRXbUfb5GG8H9x+oWOL8ffwqJlX3NhMWdF41Myv\n",
       "Q7vc3R3X0YS8h9na2/O10Xj7owQm/rPxrhOlGLbxP40/AbWOVJ48HTz3AAAAAElFTkSuQmCC\n",
       "\" style=\"display:inline;vertical-align:middle;\" /></a>"
      ],
      "text/plain": [
       "forall_{k in {0...2^{n} - 1}} (|k〉_{n + 1} = (|k〉_{n} otimes |0〉))"
      ]
     },
     "execution_count": 7,
     "metadata": {},
     "output_type": "execute_result"
    }
   ],
   "source": [
    "# Not clear why this is here, and we suspect it is incorrect:\n",
    "# shouldn't the extra qbit be on the left instead of on the right\n",
    "Forall(k, Equals(RegisterKet(k, Add(n, one)), \n",
    "                 TensorProd(RegisterKet(k, n), ket0)),\n",
    "      domain=Interval(zero, subtract(Exp(two, n), one)))"
   ]
  },
  {
   "cell_type": "code",
   "execution_count": 8,
   "metadata": {},
   "outputs": [
    {
     "data": {
      "text/html": [
       "<strong id=\"expand_register_with_zero_ket\">expand_register_with_zero_ket:</strong> <a class=\"ProveItLink\" href=\"../__pv_it/axioms/fc53de729f832a8325086cbb0c5b143b35e0f93a0/axiom_expr.ipynb\"><img src=\"data:image/png;base64,iVBORw0KGgoAAAANSUhEUgAAAY4AAAAZBAMAAADUPtQAAAAAMFBMVEX///8QEBCIiIhmZma6urrM\n",
       "zMxUVFQiIiJERETc3Nzu7u6qqqp2dnaYmJgyMjIAAAAcRTyBAAAAAXRSTlMAQObYZgAABTtJREFU\n",
       "WMPNmF1oHFUUgE+Tmf2ZnySIIkHUtaEYNYGRCDW1hS2CEX1wW6EGEbME+yCIhDY0lvqz9MVNizAq\n",
       "pKFgM0nAxmibRVnaYmsXN32oSWAx9UGtElAfqhhCiSKJUM85d2ZnJrObza5Se2F3fu7Zc8937/m5\n",
       "dwEqt9DAQbilmzTw+kbEwnDLt6GbxvG8fVWrE8+U61H/D45oAabt2/p4VeKPBDqnXT2qiTfnBMcC\n",
       "XX6owNFAF71QM8cEDz9xJ97KyarE95Ti0NovCT0vU/SazDFDfb9W4NBoeRusmjmuiWn8ie77qhIP\n",
       "l+L4DU6arOc0fpQF5himdUxV4GCB4ZoxdEMYtkoP7VWJ17lOMDY7G2MOvQm0Bdaj0YsvmYNmWctU\n",
       "ig9asJmaOcImGyatgD2HGxfn2RbJdRuixKknkgR1RaxFE36NMof+1eTksYpxfnVy8qO+mjmO2W7N\n",
       "GiJmVeKDztsT+DvlKPU0JkFaFXp+Jn+Pc776K50uVUVyPo7GdPrtXM0cLcKwBkOdN0HNVSV+3nlr\n",
       "dAKM11vYM2WAdF3oyZNzGcyx18PsaYaPI5Qg/rrbiu/kOYC2tuKj9ug236/lFMgPFZ/eEYZNZR54\n",
       "phAI9G6hYJGbERB3Al03603FUGLYM5ID+brQ8yP1LDDH4x4fLMshGeyP/cV371qg59RiDr0Mr/ow\n",
       "OnCQUHHiDwnDLo5ZpwIl4dmtgaF94k69qQfoHCezkMMA+W+h5wxVxD7mCHtzApqwfxruS67lQHjM\n",
       "DwoH6sf5HQBf4Os4rDgiB6HHnL9w1d3xoG61OD23C8MeFjrdksDT0BXg8Ik79UZDFIPc3fEr1tND\n",
       "EkvMoRXcHE0mntWseivfsb8j4+WYo2Uk60A/etxijqkE3OWI9MNI/NNUeH2OA62UJl2Ph9S6HELc\n",
       "CSdcj/FOsR4Y5+qq0OPhiC4UJ4hNvBAztIBfwQmaF83YnUQ/pIYcPSa84QpdtEKJ7jIcwlGU5eiy\n",
       "yED6jt0tazjs+EgGxDEs57/ZbCCHYmgmc0RSoK+IqO6yx6L91eBLYGtmE7PZ90pwRIbQTxu+f2pF\n",
       "bGSYw4J9rtA+FGuPl+YQgasvKasaF119Z2GTWX49fOJYfa/cDc0gxTE6LsuFYh3k2uyJc/gMxxSa\n",
       "eeCsduqFIIdK4diIuU0RHa/werj5C5Pfh3C+4OVQmp2nPBsWSsEfGhfd4/dDo1Wewyc+A9GxPgrE\n",
       "ThxY28MedwhGE6J4byePywmORnRD1ixMzEIuH+QADCzY1ZoB+bV0+jB0Gxwfy0WZefv6ZBqbJSLp\n",
       "OSdhdbFhkQy0PCi09cJOCC0u3rP4eykOnzglvpiEdfu0Vdx5fbJ5r23VL1QHE4JDt2zNwsQsfEAi\n",
       "iTUc3+GnVW4yRZKh9fDmKyknJXwnNN962BsN0ch574Dtcvn18IpjwodNifpcApTH0HU8PaRHoek6\n",
       "6T1/sOakWA9pd5nzx2G5LwaXnPioM9Rk9AgMW/j14udnfbth1RcfzsaPG05ldAn6sw7HmbL7RD5T\n",
       "4/SMQPhpvMizs3H3/EF6vPtE++TCmtnEK7ibKsNxDXoTtN6CA9ryIDfDLhO/7r1xw3cQ2vpnzMNB\n",
       "qcUZnoqulIS2gs3x/lu9ARCPOFXfJ6BuLnCO4uLt2bfby8eayUTpzTiE1j0PtqLzMUeF5uGYcA3T\n",
       "Y+CvH2XPUdy+LnceZD2Dzr5zqISJGzrXVseBB9Ut9m3EqszhET8S6Nzi6tEJ4dt/dT4frbj79uyv\n",
       "yjUT/qu2MY4S/19FKx7r5Bm4WU0aOPAPDq6pEqS3KnkAAAAASUVORK5CYII=\n",
       "\" style=\"display:inline;vertical-align:middle;\" /></a><br>"
      ],
      "text/plain": [
       "expand_register_with_zero_ket: forall_{n in NaturalPos} [forall_{k in {0...2^{n} - 1}} (|k〉_{n + 1} = (|k〉_{n} otimes |0〉))]"
      ]
     },
     "execution_count": 8,
     "metadata": {},
     "output_type": "execute_result"
    }
   ],
   "source": [
    "expand_register_with_zero_ket = Forall(\n",
    "        n,\n",
    "        Forall(k,\n",
    "               Equals(RegisterKet(k, Add(n, one)),\n",
    "                      TensorProd(RegisterKet(k, n), ket0)),\n",
    "               domain=Interval(zero, subtract(Exp(two, n), one))),\n",
    "        domain=NaturalPos)"
   ]
  },
  {
   "cell_type": "code",
   "execution_count": 9,
   "metadata": {},
   "outputs": [
    {
     "data": {
      "text/html": [
       "<strong id=\"expand_register_with_one_ket\">expand_register_with_one_ket:</strong> <a class=\"ProveItLink\" href=\"../__pv_it/axioms/55f371bb9ccf8c7085de525316aead5f9f89d3690/axiom_expr.ipynb\"><img src=\"data:image/png;base64,iVBORw0KGgoAAAANSUhEUgAAAb0AAAAZBAMAAABX+u07AAAAMFBMVEX///8QEBCIiIhmZma6urrM\n",
       "zMxUVFQiIiJERETc3Nzu7u6qqqp2dnaYmJgyMjIAAAAcRTyBAAAAAXRSTlMAQObYZgAABVpJREFU\n",
       "WMPVmG9oW1UUwE+TvPx5eWnnRGSILFOmIi0+jDg7N8gQ7Ac/+FZhFhk2FEWFssZtUAfq6j4l7Zfn\n",
       "H1gZ1D5b8EPFJW6GDWxnIJOxLUqw89t0lepAweiHMaUq9d573r/7/iVRqOzATcI9552c37v3nnvu\n",
       "BWgt0fEjcEvKwHi1HbMY3KqSyG0Yn6D5aZa/uUcGKHfkJelWPeeh2TC+GZCyfrord8MWgEc68hJ2\n",
       "eztvaZIqNsq3Qju/bcXXhlWQiBM0MvGtvLM/U1ASc3lYA9jXkRch58fHNK/ojfBdpp0/t+JrwypI\n",
       "ulX25rtlR/+HIN2AaDqyqa1JYveS9+T7REPNSb0Rvmn6NdGKrw2rIFkGFlmPuchO4ddOgNugSwlX\n",
       "FQg1OvLSZ3XP1etpxieOjmmokdLYCF836ZLKrfjasAqSIxjZ05qD706AMXUWYk8pIK505OWk2Rsh\n",
       "L2kui+N3TUONuAkb4UtdWlg43jK/tGEVlKbzGNkFcPD9qsGY8iSEviS/ix15iatG9/vklzhl8THN\n",
       "D9ho/vyjUHjdw1uVz58+Vu1JSMbIVmGpn+MjctQY08WOvCTN+GTicj6smXxMU8NG+V70fnUyz4dW\n",
       "29LmRkReeW+vaSI9tpN/fAhg0JzP8QaLTPwz9N7fDr7IXz67kICr/asmlVW3FyPBpNSwKspi2uRj\n",
       "mu+wUb4nvKe+gw+tYua287YGqWrSzNIX4QD39DM7yMeo6aDMIkuuPSg2HHwx0wW/pQkZV4bkvRj7\n",
       "ZRigf56Ga/JRzRlslC/Gpy7h0HnYlnPxoVWJPv9RbTfAOQa7Zi39YXV56aqt9ANmg9KVZZGFbwdj\n",
       "TF5tNq+z3xnrj03SKBtYFx/vxdgvJYIo0+Vk8lHNMDbKJzWsmUFDPytpYa2WOZQp2/nQikadmjqh\n",
       "sdhLCtxlmByG2eypiVgwX2zkmCO/sDWli7Wi4oF8updFa/zm+7nxW+T5Eitm6cBCX0rLknt+olVN\n",
       "uI/MVMDYh1V4wzL6XIsqQz58+swqZWezDr7TkDASIcl7WIlyfLj+rru9FCG1e/BeyifKkmrnK+p/\n",
       "P6DXn8UXQLdloVcq73jwMSv45dOStmLyaXDQMjpIzPqy3nx6ZrgGpXKV4xOqEDL4po1K1G/8OC+k\n",
       "2EjtaXSpEMmS1XdRaJh8rAyx5Rc4TTyhLQu9In2834OPWsFNsg+jYpSN32Yrgcqk2FpscHwfqJaS\n",
       "RvYy9Cg83/F67SXjicugV6J+fJwXUmycuB96CE8/7d6H+99DRhmyCxvj6yFJn9li6BWo1jz4qJWw\n",
       "eQqE1wqFYzAks/V3w147Yb4vEJlEPsHYMSO4M09B6GGN39/X1383PBAbVokeaH7fbDY8+DgvNKYR\n",
       "2EMrGeryJ8b36NbVBkb7IzbGl9J0Wwy9AjPURHHwUavQxN4E5Izxs+fPSDWi8Edn+/gZlRU46xd7\n",
       "9OSNYSXqN36cF7qU7oBdAqldHieTSzXPD0wj5rFZ5z9mm8Pxiwz6nP/i6WdD8IWx/kJyMpeYhGmN\n",
       "fDz/2Vn+/HrGvv6MytiSBfclCAHDShT5knm/+poJqTcSv8HhCp0m9XrWOh9Rjb2+1ms7ZstCvwJw\n",
       "1YevW41uh3hZ54PeGghbYK9KPraur3OPvHt0xM4XVwPOtyi0LNYrUcqX2HEz7UowlhdabERy0Ntw\n",
       "nf9YsWI7H+mzg9nS0CNvZnGD9T2/P0AmsS12fznnOJkGytc2jsDzLe5kab/zLdMU9ea8n2Cht3U/\n",
       "0RkfzEBICTaebM1n8xJ33+ZstzQpFdt/uH+xcoe/jP7b49RG35953H8m+lo+tr8M/7MMjOf+AcAi\n",
       "uX1q2ErRAAAAAElFTkSuQmCC\n",
       "\" style=\"display:inline;vertical-align:middle;\" /></a><br>"
      ],
      "text/plain": [
       "expand_register_with_one_ket: forall_{n in NaturalPos} [forall_{k in {0...2^{n} - 1}} (|k + 2^{n}〉_{n + 1} = (|k〉_{n} otimes |1〉))]"
      ]
     },
     "execution_count": 9,
     "metadata": {},
     "output_type": "execute_result"
    }
   ],
   "source": [
    "expand_register_with_one_ket = Forall(\n",
    "        n, \n",
    "        Forall(k, Equals(RegisterKet(Add(k, Exp(two, n)), Add(n, one)),\n",
    "                         TensorProd(RegisterKet(k, n), ket1)),\n",
    "               domain=Interval(zero, subtract(Exp(two, n), one))),\n",
    "        domain=NaturalPos)"
   ]
  },
  {
   "cell_type": "code",
   "execution_count": 10,
   "metadata": {},
   "outputs": [
    {
     "data": {
      "text/html": [
       "<strong id=\"ket_plus_def\">ket_plus_def:</strong> <a class=\"ProveItLink\" href=\"../__pv_it/axioms/527aac9426896cf195f37891826615ba8c82853f0/axiom_expr.ipynb\"><img src=\"data:image/png;base64,iVBORw0KGgoAAAANSUhEUgAAAIUAAAAyBAMAAACAOwXCAAAAMFBMVEX////c3NxERESYmJhmZmZU\n",
       "VFQQEBAiIiIyMjKqqqqIiIi6urp2dnbu7u7MzMwAAAASOpYoAAAAAXRSTlMAQObYZgAAAjxJREFU\n",
       "SMellj1s00AYhl/3RyGOL0QsjG0qMSJlYkBIeGinqGo2hlZkK0ylXdgQHfjxguqhYkCVEqmCsc3Q\n",
       "nQwMbWHwghohIXnpWLWqQB0aFM6+2HFsX/3p/A75FF/85Pu592zgRpUdEe34wpkIRWTL6IhYjy98\n",
       "F2GqQ2McP3JxKmGUGyTGLZttoJDG+MgLXScxHgCH0GvDC59CBltpcsYuiXEPaDlsM8EAHnNGj8T4\n",
       "C3y1UZUwJioEBvvDGW3sSBjFLoGh9YHzdtjUOIPQVM7geZx3w42QYNTptfgb4dCyXlrW2zHGKbGn\n",
       "LTusO5HHDoUx5/846H+CUSXvMdyR9FSbHRlQ4kHOKNhsDThKYexzhmGPzCPxIGew48/uaIQRxsKL\n",
       "NzUx8xEjzYOB90tmSh6eDsYZadslYEy7wwu/Y4yn4Zdi2/vclTN6kvNDeDHC6MkZDyWMyXaMkeJB\n",
       "fVjD/fjCnggTToxB8GC6IgzRVMPyZSoy6sp58D9+/9yyGhQPZueR8ODtAUEXY4xqpB8NtTx8D+as\n",
       "xbDzMwqkG2b8JsgYByTGsiQP5oQezJK2KWFEPJilKfsmhvBglk7A5ufcVAOGHszSEX7CuEYesXUs\n",
       "Aqu5GEYNz4BmJQ/jBNhy0HTzMMSZ+9pRvL3UCY6pUl81hS98/+jCFA1FhPbrOrDUvPpYL4fPCN1U\n",
       "7+dSBa+8uA1NebYz5qT39Ch3oSszpv8VvJne/fHtiXIt5f62F7YGgyv1hrz7gNxqmfkZkhfr//y+\n",
       "5L+LdHLzAAAAAElFTkSuQmCC\n",
       "\" style=\"display:inline;vertical-align:middle;\" /></a><br>"
      ],
      "text/plain": [
       "ket_plus_def: |+〉 = ((|0〉 + |1〉) / sqrt(2))"
      ]
     },
     "execution_count": 10,
     "metadata": {},
     "output_type": "execute_result"
    }
   ],
   "source": [
    "ket_plus_def = Equals(ket_plus, frac(Add(ket0, ket1), sqrt(two)))"
   ]
  },
  {
   "cell_type": "code",
   "execution_count": 11,
   "metadata": {},
   "outputs": [
    {
     "data": {
      "text/html": [
       "<strong id=\"hadamard_on_zero\">hadamard_on_zero:</strong> <a class=\"ProveItLink\" href=\"../__pv_it/axioms/948461cd89cddf5e8c2c26a5080e70f01004df2f0/axiom_expr.ipynb\"><img src=\"data:image/png;base64,iVBORw0KGgoAAAANSUhEUgAAAHQAAAAWBAMAAADjiKVFAAAAMFBMVEX////MzMxUVFR2dna6uroQ\n",
       "EBCqqqqIiIgiIiJmZmYyMjJERETu7u6YmJjc3NwAAACgK8IjAAAAAXRSTlMAQObYZgAAAbdJREFU\n",
       "OMulVD1PAkEQHXLkBI8DYk3i8QcMJjRWUkolhZWVCY3lURkLIhX1JdrQYWKMUAithXAJMVEpNJZW\n",
       "lHZ+YECFRGd2l/PgjrVwk83M7Htvd252bgGmR4IbFXxHwvEYIXrvBtPchDOI9jzStOMRAbo4H74v\n",
       "cNZsBirFVQgYuLoikTLCOXlfOD8EeArXPSihfyuREkG30AaHuM8nB/UcKFUooq+YvlKVLSMhRF+k\n",
       "vAIsDDioGaCO2YmRnESKhCeyiy8A2piDMQOCA9BoxxOJFAn7ZGNNnCUO3lmUv5rCYE0iRcIl2c1a\n",
       "pdJOcfA5BYEhKwM80opSZ8OakSKhTGY9DnCQEVILAn2AIwx2JaciYYtMA2fbdicMSxgse6WYw9l2\n",
       "vW4QgUlH4mpFmVQsdt5f+ntqniXMrrUvQK0JOha7hcGG61uNWWmLlYld6zu4WyLanJRpzqlIoAsI\n",
       "OddKYBmu4qDsYHAokSIBk7ppvJnh9sgUYGcvibtRcCyRhkQjehs8S41Ykkizov290uT89o/YE0LL\n",
       "Txqp/vHTMULXD9RNz6bTUkaYfmAK3GiYlO59YAqOp9nwj/EDBZl98TY8GnUAAAAASUVORK5CYII=\n",
       "\" style=\"display:inline;vertical-align:middle;\" /></a><br>"
      ],
      "text/plain": [
       "hadamard_on_zero: (H . |0〉) = |+〉"
      ]
     },
     "execution_count": 11,
     "metadata": {},
     "output_type": "execute_result"
    }
   ],
   "source": [
    "hadamard_on_zero = Equals(MatrixProd(H, ket0), ket_plus)"
   ]
  },
  {
   "cell_type": "code",
   "execution_count": 12,
   "metadata": {},
   "outputs": [
    {
     "data": {
      "text/html": [
       "<strong id=\"empty_gate\">empty_gate:</strong> <a class=\"ProveItLink\" href=\"../__pv_it/axioms/87c7394e5bac03e92c61038382b790b16c01cfcf0/axiom_expr.ipynb\"><img src=\"data:image/png;base64,iVBORw0KGgoAAAANSUhEUgAAAMgAAAAiBAMAAADoqYtJAAAAKlBMVEX////u7u5ERETc3NxUVFRm\n",
       "ZmaYmJgiIiK6urp2dnbMzMwyMjKIiIgAAAAxYjEhAAAAAXRSTlMAQObYZgAAAKFJREFUSMdjYICD\n",
       "u0jgAgONwAUc7FFL6GAJcgzTzBIkE3iHrSU8u5dtb6C1JZwNIDRqCYYlR+5uNaC9T27TwSccN+lg\n",
       "CecNcizh3A0GAURawn2BDj7hVYBYglpRUWgJL1q113uADj6Zu4CCOHEg0pK99MiMl+hgCccdOljC\n",
       "eYsOlrBfoL0lInuvTBje9QlP9RraV7+jTaIBakEOZIObdp0gAD6ztsZy0hDXAAAAAElFTkSuQmCC\n",
       "\" style=\"display:inline;vertical-align:middle;\" /></a><br>"
      ],
      "text/plain": [
       "empty_gate: Gate([]) = [I]"
      ]
     },
     "execution_count": 12,
     "metadata": {},
     "output_type": "execute_result"
    }
   ],
   "source": [
    "empty_gate = Equals(Gate(), IdentityOp().with_styles(gate=\"explicit\")) # base case"
   ]
  },
  {
   "cell_type": "code",
   "execution_count": 13,
   "metadata": {},
   "outputs": [
    {
     "data": {
      "text/html": [
       "<strong id=\"substitution\">substitution:</strong> <a class=\"ProveItLink\" href=\"../__pv_it/axioms/3ca3b7ec8bca50d3287212003cf3d91132148c0c0/axiom_expr.ipynb\"><img src=\"data:image/png;base64,iVBORw0KGgoAAAANSUhEUgAAAOcAAAAWCAMAAAAM5HuuAAAAM1BMVEX///8/Pz8QEBCIiIhmZma6\n",
       "urrMzMxUVFQiIiJERETc3Nzu7u6qqqp2dnaYmJgyMjIAAAAtmB3VAAAAAXRSTlMAQObYZgAAAyFJ\n",
       "REFUWMPVWNly6yAM5SIwm1n+/2sLGAwCnDjpXM+Uh6qW0bGEVkLI80u797xd/xq3QhzUn3znnjHT\n",
       "qPYvA6YHXlkCG2q92Mq/fIC7xKgQmdq9sr15xk7fLBB2D/vAq+p7JCOcpcUPYrDmEqNCZKrrKWj1\n",
       "jJmONUUCN3zgNQ9CJwNZXZv1xHa+wqgQmVY3Nsf+3yXbse9h5jUDaOezgyilifYbzsIXGBUiU2dN\n",
       "Wlo+VIS671g587pYbYlYXWVDCIM7XmJUiEyDSkvaZ+wE1gKYSsZ6ngEQmkMJN7sIZrONSTBgGGBJ\n",
       "WlPTQ2R6FDJ1up3ZW4WXf2en6sADIJ6JR+0kEHnUD+fv4A0YlvAUpBAQRKacofJmAW659suyJVvc\n",
       "6bAhnjUpMg3hx5Hvsusq3UJuHjD0TpjPmYwgDpr+gFukxed2cnX0smtvUz6XkMIzTcG0tnBDiwEj\n",
       "QlBoXq4QB01x2s4umO/t5Iq742DtDTtrCel5AT6zc8LgSf+teBnbqT3ZalNyKjB3RjDboI4hHNIW\n",
       "aZZ21p05A1SMvxwek8gQt0pMvKpg/uKdDjBh5LAFiiEKVVqcJ+pO/cEQ4Yksb2xy9EaX/jx3lkJJ\n",
       "KVuKDHWIAubt5qgfYMY6hPITzQkjxmF4tR7VofgB1o6OnWkeT9afSmmTzgTU0s62U+Qepf6p+NlZ\n",
       "BHeLOMkgHo+tUYU2jrMb5XDEiFIiIQ0QlXZZ0dd9EroZI+0VcJWfYXW/GEVwNPKAeUYAxPZ3XieG\n",
       "wWfd3MKIm1BY1aZCVOpaDtEOPaXv+ZgCuH+J7EQ7yZUIns+sWs2CzVV30nONwTyGWECZXG61MrEz\n",
       "xbTIhTM9RZytOz1kZ9sZ07QutxDp5vhddEnxdo6/6CkLjFgnWjCjOX4VVhvdYwA4biH17vQU3whQ\n",
       "fmln2zmCDSJFMB28VOjipd7cy9YjxwJDRsMVLO5lF7cmPC3HJ6OH3H0/D00i3T3blcvxfPe+tHzW\n",
       "dYHBY3ZuA8QM5V1pl/hni/Qk4uToP5v7JpEPfjdxv//dpEIsoOJsW95hiXRQztoP59tJ5E8u9qe0\n",
       "/QEJ3SBw7/pMfQAAAABJRU5ErkJggg==\n",
       "\" style=\"display:inline;vertical-align:middle;\" /></a><br>"
      ],
      "text/plain": [
       "substitution: forall_{f, x, y | x equiv y} (f(x) equiv f(y))"
      ]
     },
     "execution_count": 13,
     "metadata": {},
     "output_type": "execute_result"
    }
   ],
   "source": [
    "substitution = Forall((f, x, y), CircuitEquiv(fx, fy), conditions=CircuitEquiv(x, y))"
   ]
  },
  {
   "cell_type": "markdown",
   "metadata": {},
   "source": [
    "And then we have several axioms involving the Circuit class, which class itself still needs updating<br/>(in particular, the Circuit class needs an appropriate substitute for the ExpressionTensor class -- perhaps ExprArray)."
   ]
  },
  {
   "cell_type": "code",
   "execution_count": 14,
   "metadata": {},
   "outputs": [],
   "source": [
    "# circuit_gate_application = Forall(\n",
    "#     U, \n",
    "#     Forall((x, y),\n",
    "#            Iff(Circuit([[Input(x), Gate(U), Output(y)]]),\n",
    "#                Equals(y, MatrixProd(U, x))),\n",
    "#            domain=QubitSpace),\n",
    "#     domain=SU(two))"
   ]
  },
  {
   "cell_type": "code",
   "execution_count": 15,
   "metadata": {},
   "outputs": [],
   "source": [
    "# circuit_multi_gate_application = Forall(\n",
    "#     n,\n",
    "#     Forall(U,\n",
    "#            Forall((x, y),\n",
    "#                   Iff(Circuit([[Input(x), MultiWire(n), Gate(U), Output(y)]]),\n",
    "#                       Equals(y, MatrixProd(U, x))),\n",
    "#                   domain=QubitRegisterSpace(n)),\n",
    "#            domain=RegisterSU(n)),\n",
    "#     domain=NaturalPos)"
   ]
  },
  {
   "cell_type": "code",
   "execution_count": 16,
   "metadata": {},
   "outputs": [],
   "source": [
    "# zero_controlled_ngate = Forall(\n",
    "#     n,\n",
    "#     Forall(U,\n",
    "#            Forall(x,\n",
    "#                   Forall(alpha,\n",
    "#                          Circuit([[Input(ScalarProd(alpha, ket0)),\n",
    "#                                    PASS,\n",
    "#                                    CTRL_DN,\n",
    "#                                    Output(ScalarProd(alpha, ket0))],\n",
    "#                                   [Input(x), MultiWire(n), Gate(U), Output(x)]]),\n",
    "#                          domain=Complex),\n",
    "#                   domain=QubitRegisterSpace(n)),\n",
    "#            domain=SU(Exponentiate(two, n))),\n",
    "#     domain=NaturalPos)"
   ]
  },
  {
   "cell_type": "code",
   "execution_count": 17,
   "metadata": {},
   "outputs": [],
   "source": [
    "# one_controlled_ngate = Forall(\n",
    "#     n,\n",
    "#     Forall(U,\n",
    "#            Forall(x,\n",
    "#                   Forall(alpha,\n",
    "#                          Circuit([[Input(ScalarProd(alpha, ket1)),\n",
    "#                                    PASS,\n",
    "#                                    CTRL_DN,\n",
    "#                                    Output(ScalarProd(alpha, ket1))],\n",
    "#                                   [Input(x), MultiWire(n), Gate(U), Output(MatrixProd(U, x))]]),\n",
    "#                          domain=Complex),\n",
    "#                   domain=QubitRegisterSpace(n)),\n",
    "#            domain=SU(Exp(two, n))),\n",
    "#     domain=NaturalPos)"
   ]
  },
  {
   "cell_type": "code",
   "execution_count": 18,
   "metadata": {},
   "outputs": [
    {
     "name": "stdout",
     "output_type": "stream",
     "text": [
      "These axioms may now be imported from the theory package: proveit.physics.quantum\n"
     ]
    }
   ],
   "source": [
    "%end axioms"
   ]
  }
 ],
 "metadata": {
  "kernelspec": {
   "display_name": "Python 3",
   "language": "python",
   "name": "python3"
  }
 },
 "nbformat": 4,
 "nbformat_minor": 0
}