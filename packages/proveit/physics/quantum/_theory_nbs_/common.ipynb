{
 "cells": [
  {
   "cell_type": "markdown",
   "metadata": {},
   "source": [
    "Common expressions for the theory of <a class=\"ProveItLink\" href=\"theory.ipynb\">proveit.physics.quantum</a>\n",
    "========"
   ]
  },
  {
   "cell_type": "code",
   "execution_count": 1,
   "metadata": {},
   "outputs": [],
   "source": [
    "import proveit\n",
    "# Automation is not needed when building common expressions:\n",
    "%common_expressions_notebook # Keep this at the top following 'import proveit'.\n",
    "from proveit import Lambda # added 2/12/2020 by wdc\n",
    "from proveit import n, A, B, C, D\n",
    "from proveit import Variable, Literal\n",
    "# from proveit.multi_expression import Block\n",
    "from proveit.numbers import Exp, frac, sqrt\n",
    "from proveit.numbers import zero, one, two\n",
    "from proveit.numbers import Complex\n",
    "from proveit.linalg import SU, TensorExp\n",
    "from proveit.physics.quantum.circuit import Gate, IdentityOp\n",
    "from proveit.physics.quantum.quantum_ops import Ket"
   ]
  },
  {
   "cell_type": "code",
   "execution_count": 2,
   "metadata": {},
   "outputs": [
    {
     "name": "stdout",
     "output_type": "stream",
     "text": [
      "Defining common sub-expressions for theory 'proveit.physics.quantum'\n",
      "Subsequent end-of-cell assignments will define common sub-expressions\n",
      "%end_common will finalize the definitions\n"
     ]
    }
   ],
   "source": [
    "%begin common"
   ]
  },
  {
   "cell_type": "code",
   "execution_count": 3,
   "metadata": {},
   "outputs": [
    {
     "data": {
      "text/html": [
       "<strong id=\"ket_psi\">ket_psi:</strong> <a class=\"ProveItLink\" href=\"../__pv_it/common/575943c119e8460c472ed4a1f4a830c597448ec40/common_expr.ipynb\"><img src=\"data:image/png;base64,iVBORw0KGgoAAAANSUhEUgAAABgAAAAWBAMAAAAoU0G7AAAAMFBMVEX///8yMjJUVFREREQQEBAi\n",
       "IiJmZmaYmJiqqqrc3NyIiIi6urp2dnbu7u7MzMwAAABaySYQAAAAAXRSTlMAQObYZgAAALZJREFU\n",
       "GNNV0DEKwjAUBuAfqk0a0uIRPIG4ieDQI/QIgqNnELLr0LFjpoqD4uRqFqcu8QpOLh5B8D3TgAZ+\n",
       "yEfCey/BC/2SlO67K4D0HKHJ4x+gimgo+4gN5R7hKElNyFsLpypIR9CyzIx6c4UOTVoJjxJYE/zA\n",
       "UuUl8OAC11ojt8COccMT2gNzxgpHbIFsGq45QVNqw5CL2YGaDsMEheEpLgHKMyYB/ADko/6EIajT\n",
       "Kf5B4vG3PqYoMCgP+EYmAAAAAElFTkSuQmCC\n",
       "\" style=\"display:inline;vertical-align:middle;\" /></a><br>"
      ],
      "text/plain": [
       "ket_psi: |psi〉"
      ]
     },
     "execution_count": 3,
     "metadata": {},
     "output_type": "execute_result"
    }
   ],
   "source": [
    "# ket psi\n",
    "ket_psi = Ket(Literal('psi', r'\\psi'))"
   ]
  },
  {
   "cell_type": "code",
   "execution_count": 4,
   "metadata": {},
   "outputs": [
    {
     "data": {
      "text/html": [
       "<strong id=\"I\">I:</strong> <a class=\"ProveItLink\" href=\"../__pv_it/common/1684671b210bf82fb5ddcb39adbc3acaab7ab55e0/common_expr.ipynb\"><img src=\"data:image/png;base64,iVBORw0KGgoAAAANSUhEUgAAABUAAAABAQMAAAALnndYAAAABlBMVEX///8AAABVwtN+AAAAAXRS\n",
       "TlMAQObYZgAAAAxJREFUCNdj+P//BwAF9wL3QuhfDAAAAABJRU5ErkJggg==\n",
       "\" style=\"display:inline;vertical-align:middle;\" /></a><br>"
      ],
      "text/plain": [
       "I: --"
      ]
     },
     "execution_count": 4,
     "metadata": {},
     "output_type": "execute_result"
    }
   ],
   "source": [
    " # Single qubit identity operator; used to denote an empty wire in a Circuit()\n",
    "I = IdentityOp()"
   ]
  },
  {
   "cell_type": "code",
   "execution_count": 5,
   "metadata": {},
   "outputs": [
    {
     "data": {
      "text/html": [
       "<a class=\"ProveItLink\" href=\"../__pv_it/common/0514f662d73f535f49bf899158853ff0b3f8b8b10/expr.ipynb\"><img src=\"data:image/png;base64,iVBORw0KGgoAAAANSUhEUgAAACwAAAAbBAMAAAD11XAnAAAAJ1BMVEX////u7u4iIiLMzMxERER2\n",
       "dna6urrc3NxmZmYyMjJUVFSIiIgAAAD6sHTBAAAAAXRSTlMAQObYZgAAAF1JREFUKM9jYICDM0gA\n",
       "IcpwAMHkGQTC3GtOtmNTzTMBqyE5AViFYxKwCs/B7pIjEGFE8ICF2U5jVc16GKsw5wGswjwOWIVz\n",
       "NmAVjjHAKqyDLagYV55ZOggiDTlVAQDqZTsdJjXhVgAAAABJRU5ErkJggg==\n",
       "\" style=\"display:inline;vertical-align:middle;\" /></a>"
      ],
      "text/plain": [
       "[I]"
      ]
     },
     "execution_count": 5,
     "metadata": {},
     "output_type": "execute_result"
    }
   ],
   "source": [
    "#I.with_styles(gate='explicit')\n",
    "IdentityOp(explicit=True)"
   ]
  },
  {
   "cell_type": "code",
   "execution_count": 6,
   "metadata": {},
   "outputs": [
    {
     "data": {
      "text/html": [
       "<strong id=\"X\">X:</strong> <a class=\"ProveItLink\" href=\"../__pv_it/common/d428480ac9882b1412f7ede37b71e3a30f3c2e9e0/common_expr.ipynb\"><img src=\"data:image/png;base64,iVBORw0KGgoAAAANSUhEUgAAABIAAAAOBAMAAADQ9FGEAAAAMFBMVEX///+6urpmZmaIiIh2dnYQ\n",
       "EBDc3NzMzMxUVFSqqqoyMjLu7u4iIiJERESYmJgAAADufbLkAAAAAXRSTlMAQObYZgAAAGJJREFU\n",
       "CNdjYGB4+/8cw67/NxmAoH8CA183iMFQv4ChAsxg4PrO1gBhcf7IYICC+Nswlr8BjNUfAGUwZfyE\n",
       "stTZ/0IYLAIM5xPALEMGhvcKIAYHkOT/DWRU/Q9nYF//p4EBACq0GGkYmwpjAAAAAElFTkSuQmCC\n",
       "\" style=\"display:inline;vertical-align:middle;\" /></a><br>\n",
       "<strong id=\"Y\">Y:</strong> <a class=\"ProveItLink\" href=\"../__pv_it/common/863ddb89daa26b425e81508eb744e2de573298830/common_expr.ipynb\"><img src=\"data:image/png;base64,iVBORw0KGgoAAAANSUhEUgAAABAAAAAOBAMAAADUAYG5AAAAMFBMVEX///9mZmZERESYmJi6urp2\n",
       "dnYiIiIyMjLMzMyIiIiqqqrc3NwQEBBUVFTu7u4AAAAPaGnEAAAAAXRSTlMAQObYZgAAAFlJREFU\n",
       "CNdjeHv+7wYGrvMnGRj6CxgYGKqAmO03AwOrA5DB+ZWBwQpIM/D9YWCZAGIw6Du0gmmG9fcEIAye\n",
       "vxCagekflMFTAGXsD4Ay7B2gDH0off2/JogCAAqGE3PgySqdAAAAAElFTkSuQmCC\n",
       "\" style=\"display:inline;vertical-align:middle;\" /></a><br>\n",
       "<strong id=\"Z\">Z:</strong> <a class=\"ProveItLink\" href=\"../__pv_it/common/2c528f33b8384666a054a8146aa84d2f45cc85490/common_expr.ipynb\"><img src=\"data:image/png;base64,iVBORw0KGgoAAAANSUhEUgAAAA4AAAAOBAMAAADtZjDiAAAAMFBMVEX///+IiIiYmJh2dnbMzMzc\n",
       "3NwiIiLu7u6qqqq6uroyMjJmZmZUVFREREQQEBAAAAB0/5/PAAAAAXRSTlMAQObYZgAAAGlJREFU\n",
       "CNdjYGB4//b03l8MDJw/GBjKnjMwcDcwMKwLYGDgYWDg/cLAwMDCwLB/AgMIMH8CUwz6AmCK4zeE\n",
       "O/8AAytIHdAMbiAdl8DAMImBgT2vgIEhnYGB6ykDg9cFBobzOWfX/VdgAABUNRfEfWVm3gAAAABJ\n",
       "RU5ErkJggg==\n",
       "\" style=\"display:inline;vertical-align:middle;\" /></a><br>"
      ],
      "text/plain": [
       "X: X\n",
       "Y: Y\n",
       "Z: Z"
      ]
     },
     "execution_count": 6,
     "metadata": {},
     "output_type": "execute_result"
    }
   ],
   "source": [
    "# Pauli's X, Y, Z\n",
    "X, Y, Z = Literal('X'), Literal('Y'), Literal('Z')"
   ]
  },
  {
   "cell_type": "code",
   "execution_count": 7,
   "metadata": {},
   "outputs": [
    {
     "data": {
      "text/html": [
       "<strong id=\"H\">H:</strong> <a class=\"ProveItLink\" href=\"../__pv_it/common/e874333991a6db337cd004ff6daee55a9e80aa5b0/common_expr.ipynb\"><img src=\"data:image/png;base64,iVBORw0KGgoAAAANSUhEUgAAABMAAAAOBAMAAAA/Njq6AAAAKlBMVEX///+qqqp2dnbMzMyIiIi6\n",
       "uroiIiLu7u4yMjJmZmZERERUVFSYmJgAAADrizvbAAAAAXRSTlMAQObYZgAAAGlJREFUCNdjYGA4\n",
       "fXclEHcWMADBDSC+BmIwsF5hYGC+CWYyXWZgYLkIZnJcYGDgug5m8i4A4gQwM7Zz5sy1CmCmrgED\n",
       "g28AmNkLxGvBpjLcghoNNfYSwtirYCYb3NjK3tsOnGtvOTAwAAAHtx0ScfZJBgAAAABJRU5ErkJg\n",
       "gg==\n",
       "\" style=\"display:inline;vertical-align:middle;\" /></a><br>"
      ],
      "text/plain": [
       "H: H"
      ]
     },
     "execution_count": 7,
     "metadata": {},
     "output_type": "execute_result"
    }
   ],
   "source": [
    "# Hadamard\n",
    "H = Literal('H')"
   ]
  },
  {
   "cell_type": "code",
   "execution_count": 8,
   "metadata": {},
   "outputs": [
    {
     "data": {
      "text/html": [
       "<strong id=\"MEAS\">MEAS:</strong> <a class=\"ProveItLink\" href=\"../__pv_it/common/bffb427a26faf46610bb6e24f92c70e0698bc8a40/common_expr.ipynb\"><img src=\"data:image/png;base64,iVBORw0KGgoAAAANSUhEUgAAADoAAAAeCAMAAABKWP06AAAAVFBMVEX///+Tk5OhoaEUFBQQEBCu\n",
       "rq4ZGRnf398dHR0tLS0kJCQoKCjOzs4fHx9mZmaYmJiIiIgiIiJ2dnaqqqoyMjJUVFS6urrMzMxE\n",
       "RETc3Nzu7u4AAABIDn82AAAAAXRSTlMAQObYZgAAAJVJREFUOMvVlMkOgDAIROse6xqXKvj//+nB\n",
       "g9LYJZN4cI6FVwilo9SLjiipV1RF6C8oE4zuG4qaFW54IRSdJ3hMXYuiY7OBKOsVfddeE4hSPaHb\n",
       "VJUsksL/yXEerPrIL3JBB1BRJ0vFVV5UNph0sg8PajvIvUhXxI3a5DiIyXlQO8BLKMMZ6A1qMLTD\n",
       "3sT0WzP9EI3SCS8YFx/AdYTbAAAAAElFTkSuQmCC\n",
       "\" style=\"display:inline;vertical-align:middle;\" /></a><br>"
      ],
      "text/plain": [
       "MEAS: Gate(MES)"
      ]
     },
     "execution_count": 8,
     "metadata": {},
     "output_type": "execute_result"
    }
   ],
   "source": [
    "# Measurement Gate\n",
    "MEAS = Gate(Literal('MES'))"
   ]
  },
  {
   "cell_type": "code",
   "execution_count": 9,
   "metadata": {},
   "outputs": [
    {
     "data": {
      "text/html": [
       "<strong id=\"SWAP\">SWAP:</strong> <a class=\"ProveItLink\" href=\"../__pv_it/common/902f20c460094c8657e9ffd918d3504c42ee83b10/common_expr.ipynb\"><img src=\"data:image/png;base64,iVBORw0KGgoAAAANSUhEUgAAAEMAAAAOBAMAAACGIrzyAAAAMFBMVEX///8iIiIQEBDc3NxUVFSI\n",
       "iIjMzMwyMjLu7u5ERES6urqYmJh2dnZmZmaqqqoAAABUl3CJAAAAAXRSTlMAQObYZgAAAVNJREFU\n",
       "GNMtULFKA0EQfRASz9wZxd7CytbGVjQqWpnYCRamEFv9g1yhlUXEUou7QkFEULBIp6kl4gkBLSIx\n",
       "FgEL0WjC5ZKT883uLcw+ZvbNznsDIFOvmu5adIxsewXN9jV4Uru8zFywuPwi6QkMB+kQsPp8m5MS\n",
       "hr7lHiXxyAZGPKCMxJ+mWIqBck/unQrwlQdKBeAMRoetA+BCMYzPX4FNl0HaFYdvAz6w0QUqimIm\n",
       "+wIOI0daKSxIOolEK0RyWlHOMwMBtokAJKNogTAOi+m+nuOmumKLFprq24PsD1UX0TKCeE46bu5U\n",
       "H9a1fDTeONfOw0+7Kt96rQWE4Z5+FpclUhoz1BNbJnFK1jKm0z3xz0GPt9Rzo0oZJY1lT1PeGXXZ\n",
       "wSH15FVpFiJNr0XOkwdLln5Hu/OqkpD/HaZFW1O809qq4CXjXjl2fBsf0QSeoyXF+Ada7Gh0qU5k\n",
       "AAAAAABJRU5ErkJggg==\n",
       "\" style=\"display:inline;vertical-align:middle;\" /></a><br>"
      ],
      "text/plain": [
       "SWAP: SWAP"
      ]
     },
     "execution_count": 9,
     "metadata": {},
     "output_type": "execute_result"
    }
   ],
   "source": [
    "# Swap Gate - for use in a MultiQubitGate that connects to the second swap gate. \n",
    "SWAP = Literal('SWAP')"
   ]
  },
  {
   "cell_type": "code",
   "execution_count": 10,
   "metadata": {},
   "outputs": [
    {
     "data": {
      "text/html": [
       "<strong id=\"SPACE\">SPACE:</strong> <a class=\"ProveItLink\" href=\"../__pv_it/common/da64fd011a176dba524c15edb4c0c73d9ce4b38f0/common_expr.ipynb\"><img src=\"data:image/png;base64,iVBORw0KGgoAAAANSUhEUgAAAE0AAAAOBAMAAACY64xBAAAAMFBMVEX///8iIiIQEBDc3NxUVFSI\n",
       "iIjMzMwyMjLu7u5ERES6urqYmJh2dnZmZmaqqqoAAABUl3CJAAAAAXRSTlMAQObYZgAAAYBJREFU\n",
       "KM81kTtPAkEUhQ8QloVd0H8ApQmF2JtIFEOFUNpJpSWUdlBIoSYCxs6CjdGa7WwpLTCuCYmPQEAL\n",
       "OwP4AEkw65nZdZOZOffOd/c+BkCk29YMaNlZKv0I+e3JvXLWMVfhb8x6qWiR9jnUBo8F6tOyJEpi\n",
       "88eB97jj12pA2AKu6S+0gGFOEFqJuFrnFv4EmvSpZKp54Iq3OwZXS3An/QQQWKIKxYA73qtkmyaw\n",
       "S5/InTUEZ4qQ/oBKsWQRLTCwOs/LoqaA71eIUHlowjcWUuX9DJop67XtDRE6B15k2iMUctC/ndYR\n",
       "mnaWE1Idr3+wZP9X+3Zb2gbWLHgmLqdPEHClrCX44xpKppetwStNlf2MoEMhT7NKbmHxPxHgLcIz\n",
       "EvqN/hrpCnAgRse8BcvlGOOJycmJRuX4cAO88ui64xOfbyBz+UQfetkZn5IE7i3oSfFWzpNhhSvI\n",
       "n3E2EfHcUa4LstZlZ4vywd6U2KG9j0hjbEF9Sj2zkbSd6dQ52j+L1XdFH4bhIQAAAABJRU5ErkJg\n",
       "gg==\n",
       "\" style=\"display:inline;vertical-align:middle;\" /></a><br>"
      ],
      "text/plain": [
       "SPACE: SPACE"
      ]
     },
     "execution_count": 10,
     "metadata": {},
     "output_type": "execute_result"
    }
   ],
   "source": [
    "# SPACE: is used as a blank space holder in situations like classically controlled circuits \n",
    "SPACE = Literal('SPACE')"
   ]
  },
  {
   "cell_type": "code",
   "execution_count": 11,
   "metadata": {},
   "outputs": [
    {
     "data": {
      "text/html": [
       "<strong id=\"WIRE\">WIRE:</strong> <a class=\"ProveItLink\" href=\"../__pv_it/common/fa3620a78c6fa47e0d3a903554945016a208e3f20/common_expr.ipynb\"><img src=\"data:image/png;base64,iVBORw0KGgoAAAANSUhEUgAAAEAAAAAOBAMAAABtFQfxAAAAMFBMVEX///8yMjJmZmbc3NzMzMx2\n",
       "dnaYmJiqqqru7u4QEBBUVFS6urpEREQiIiKIiIgAAAD7KGr9AAAAAXRSTlMAQObYZgAAAUtJREFU\n",
       "GNM1kL1Lw1AUxY+mwWBsLP4DEd1cdBMX7exid4dUBAURXLpKgqNDcXAShDgoViy6dHJocRBE0dmp\n",
       "b3IQpaa1DrE1nvtSH9x78979OL8bfCQPqPTPsdsvwrmKpoGt5OLxDsB7cjtTjWB3AfMHyIR8G8/R\n",
       "oQcsyC2ibcNopwWmpOoFuswvMPoF2IzYgxUDQ9/AjRR413ROB8jSTBahrAe9slZ64YobOwD8Bts+\n",
       "OdYAjmGUunDmBuoECTFyJLGBDbm/wCRHWT61KlbO3tp5AZqodNKxJauXKmhVtAKsBQKUh17qOVCI\n",
       "bKETVZ57Ti+kQAVw1OwiOfSSosrDtZbCFCiwFCdtkmNdF9SV/Abu7E8OgExqtdjmKl3gCZtDEE9Z\n",
       "KdAybYcLVnUezX8QX80jy2gf8qFGW5WMdZKcAsNuXIT5pPbdeOqymcMfKaVp3u49unEAAAAASUVO\n",
       "RK5CYII=\n",
       "\" style=\"display:inline;vertical-align:middle;\" /></a><br>"
      ],
      "text/plain": [
       "WIRE: WIRE"
      ]
     },
     "execution_count": 11,
     "metadata": {},
     "output_type": "execute_result"
    }
   ],
   "source": [
    "# WIRE: is used to explicitly denote a classical wire.  The classical version of 'I'\n",
    "WIRE = Literal('WIRE')"
   ]
  },
  {
   "cell_type": "code",
   "execution_count": 12,
   "metadata": {},
   "outputs": [
    {
     "data": {
      "text/html": [
       "<strong id=\"PLUS\">PLUS:</strong> <a class=\"ProveItLink\" href=\"../__pv_it/common/af7474ecb679aafadbff60eb0f517b3d905ff7830/common_expr.ipynb\"><img src=\"data:image/png;base64,iVBORw0KGgoAAAANSUhEUgAAAA4AAAAPBAMAAAAmOuNHAAAAHlBMVEX////u7u5UVFQQEBAiIiIy\n",
       "MjJ2dnaIiIiqqqoAAABCN83zAAAAAXRSTlMAQObYZgAAABxJREFUCNdjYECAdlLo1NBQ59DQIJL1\n",
       "AYEgEAMABwsItInrGUMAAAAASUVORK5CYII=\n",
       "\" style=\"display:inline;vertical-align:middle;\" /></a><br>"
      ],
      "text/plain": [
       "PLUS: +"
      ]
     },
     "execution_count": 12,
     "metadata": {},
     "output_type": "execute_result"
    }
   ],
   "source": [
    "# For positive X eigenstate\n",
    "PLUS = Literal(string_format='+', latex_format='+')"
   ]
  },
  {
   "cell_type": "code",
   "execution_count": 13,
   "metadata": {},
   "outputs": [
    {
     "data": {
      "text/html": [
       "<strong id=\"MINUS\">MINUS:</strong> <a class=\"ProveItLink\" href=\"../__pv_it/common/445fd3ac93cf9771d50d0b8d320bed4cbe73a7f80/common_expr.ipynb\"><img src=\"data:image/png;base64,iVBORw0KGgoAAAANSUhEUgAAAA4AAAACBAMAAACapPCZAAAAD1BMVEX////MzMwyMjLu7u4AAAC4\n",
       "fJKRAAAAAXRSTlMAQObYZgAAABBJREFUCNdjMFICAUUGKAAADB8A/huHQ9UAAAAASUVORK5CYII=\n",
       "\" style=\"display:inline;vertical-align:middle;\" /></a><br>"
      ],
      "text/plain": [
       "MINUS: -"
      ]
     },
     "execution_count": 13,
     "metadata": {},
     "output_type": "execute_result"
    }
   ],
   "source": [
    "# For negative X eigenstate\n",
    "MINUS = Literal(string_format='-', latex_format='-') "
   ]
  },
  {
   "cell_type": "code",
   "execution_count": 14,
   "metadata": {},
   "outputs": [
    {
     "data": {
      "text/html": [
       "<strong id=\"ket0\">ket0:</strong> <a class=\"ProveItLink\" href=\"../__pv_it/common/5f63a03bfc82b7258c791cd7eef6d6305fc125e50/common_expr.ipynb\"><img src=\"data:image/png;base64,iVBORw0KGgoAAAANSUhEUgAAABQAAAAWBAMAAAAyb6E1AAAAMFBMVEX///9mZmZUVFREREQQEBDc\n",
       "3NwiIiKqqqoyMjKYmJiIiIi6urp2dnbu7u7MzMwAAAADxdujAAAAAXRSTlMAQObYZgAAAJ9JREFU\n",
       "CNdjeMsABuxAfBrCZNwAZvKsPMfApwBmtjNcC2BIADE5HRh4GhhWgpjMCgzsfxlugJj8Cgzc3xmY\n",
       "A4DM+wIM3L8Y2A8AmfEHGPh+MQD1AZkCDHx/GBik4QoYHkG0sX9nYKgBGWbAwPmXgcEUbgWrAcji\n",
       "dIYrDxh4CkDMO6v0GBjY4I5k2Ihg6sGZvA1wJucCBoZ1ECbzBQYkAACRLC8qbPIDBwAAAABJRU5E\n",
       "rkJggg==\n",
       "\" style=\"display:inline;vertical-align:middle;\" /></a><br>\n",
       "<strong id=\"ket1\">ket1:</strong> <a class=\"ProveItLink\" href=\"../__pv_it/common/ebfae6b74c0021e21daf83105eb14e31dba466620/common_expr.ipynb\"><img src=\"data:image/png;base64,iVBORw0KGgoAAAANSUhEUgAAABQAAAAWBAMAAAAyb6E1AAAAMFBMVEX////c3NxEREQiIiIyMjJm\n",
       "ZmaYmJhUVFQQEBCqqqqIiIi6urp2dnbu7u7MzMwAAABqK0sxAAAAAXRSTlMAQObYZgAAAG1JREFU\n",
       "CNdjeMsABpxAfBrCZN0AZ/IVQJgzLjAwGICYvDX1QOYyiGg+kHkFwWQSgDM5D8CZQH1wZjSC+RzB\n",
       "nINgKsKZjApg5nogk2cCiBne75rAwAx3GcNWBLMOzuR1gDPZFjAwrIMwmS4wIAEAg6Ar1v/VlKUA\n",
       "AAAASUVORK5CYII=\n",
       "\" style=\"display:inline;vertical-align:middle;\" /></a><br>\n",
       "<strong id=\"ket_plus\">ket_plus:</strong> <a class=\"ProveItLink\" href=\"../__pv_it/common/795ed2018d67fa7c5482a82a7d659bed8245e1f30/common_expr.ipynb\"><img src=\"data:image/png;base64,iVBORw0KGgoAAAANSUhEUgAAABoAAAAWBAMAAAAsppGGAAAAMFBMVEX////c3NxERESYmJhmZmZU\n",
       "VFQQEBAiIiIyMjKqqqqIiIi6urp2dnbu7u7MzMwAAAASOpYoAAAAAXRSTlMAQObYZgAAAGxJREFU\n",
       "GNNjeMsAA5xAfBrOY9mAzOMLQOYxFEB5nAtA5GIU3g0UHpMAMo/zADIPaAwyzxvI4+noaM/o6ADa\n",
       "9hRFbg4KTxGZx6iAzOOZgMxjR3HLFiiP9wKIjEP2EW8DMo8ZqHwdnMd0gQEVAABCVCb3JjLgFgAA\n",
       "AABJRU5ErkJggg==\n",
       "\" style=\"display:inline;vertical-align:middle;\" /></a><br>\n",
       "<strong id=\"ket_minus\">ket_minus:</strong> <a class=\"ProveItLink\" href=\"../__pv_it/common/6f0fcfe5282531498b597b3bc4732f1fb48b60e60/common_expr.ipynb\"><img src=\"data:image/png;base64,iVBORw0KGgoAAAANSUhEUgAAABoAAAAWBAMAAAAsppGGAAAALVBMVEX////c3NxERESYmJgiIiJU\n",
       "VFRmZmaqqqoyMjKIiIi6urp2dnbu7u7MzMwAAABM9KO7AAAAAXRSTlMAQObYZgAAAGJJREFUGNNj\n",
       "uMMAA+xAvAvOY1uAzOMNQOYxOKDwJqPwTqDwmASQeewbkHlAY5B5WUAeTwcYXGBguIoiV43CU0Tm\n",
       "MSog87gLkHksKG5ZhsKLRebxNCDzmCcwMMxFeOEAAyoAAN5qHGEuvhuNAAAAAElFTkSuQmCC\n",
       "\" style=\"display:inline;vertical-align:middle;\" /></a><br>"
      ],
      "text/plain": [
       "ket0: |0〉\n",
       "ket1: |1〉\n",
       "ket_plus: |+〉\n",
       "ket_minus: |-〉"
      ]
     },
     "execution_count": 14,
     "metadata": {},
     "output_type": "execute_result"
    }
   ],
   "source": [
    "ket0, ket1, ket_plus, ket_minus = Ket(zero), Ket(one), Ket(PLUS), Ket(MINUS)"
   ]
  },
  {
   "cell_type": "code",
   "execution_count": 15,
   "metadata": {},
   "outputs": [
    {
     "data": {
      "text/html": [
       "<strong id=\"Xgate\">Xgate:</strong> <a class=\"ProveItLink\" href=\"../__pv_it/common/22fcf744b6a356f2306e128a8f1c1563310cda400/common_expr.ipynb\"><img src=\"data:image/png;base64,iVBORw0KGgoAAAANSUhEUgAAADQAAAAbBAMAAADBrLE7AAAAMFBMVEX///+6urpmZmaIiIh2dnYQ\n",
       "EBDc3NzMzMxUVFSqqqoyMjLu7u4iIiJERESYmJgAAADufbLkAAAAAXRSTlMAQObYZgAAAH9JREFU\n",
       "KM9jYICD/2gAIcPwgQEF8A9SKb77fx5wr/87AZsujp8MDC82YDWQ/RcDewMOu9YXZOByxvy2BlxS\n",
       "rH83QKUQwQmVYvmM018cX3FKqfVPwCHFVFB/AYeUIwPPN+xSzAIMfJ+wSzWBUsIGLFLs678WMFT9\n",
       "PzFIEwB66gUApKheqsPXSlwAAAAASUVORK5CYII=\n",
       "\" style=\"display:inline;vertical-align:middle;\" /></a><br>\n",
       "<strong id=\"Ygate\">Ygate:</strong> <a class=\"ProveItLink\" href=\"../__pv_it/common/76ace9127122cc559b08583f66433e9bebf2a0510/common_expr.ipynb\"><img src=\"data:image/png;base64,iVBORw0KGgoAAAANSUhEUgAAADMAAAAbBAMAAAAjcKpCAAAAMFBMVEX///9mZmZERESYmJi6urp2\n",
       "dnYiIiIyMjLMzMyIiIiqqqrc3NwQEBBUVFTu7u4AAAAPaGnEAAAAAXRSTlMAQObYZgAAAHZJREFU\n",
       "KM9jYICD/6jgA0KGAZnNwMDPMCil+O78v83AsObPBCy6OL4DCfYFWA3M38DAEILdrvkBDMwLsEu9\n",
       "P8DgicOFTF84AmBSaOHJ9fchTn+dv4BTSv8BTqnjOAOK+ytOKeYvOKWYPuCS4q3/NGHwJgD01AsA\n",
       "f6BZ4S/Im8EAAAAASUVORK5CYII=\n",
       "\" style=\"display:inline;vertical-align:middle;\" /></a><br>\n",
       "<strong id=\"Zgate\">Zgate:</strong> <a class=\"ProveItLink\" href=\"../__pv_it/common/2bce2ec754fec3a4a35118186fa1be9bc48dcf4b0/common_expr.ipynb\"><img src=\"data:image/png;base64,iVBORw0KGgoAAAANSUhEUgAAADIAAAAbBAMAAADMssF8AAAAMFBMVEX///+IiIiYmJh2dnbMzMzc\n",
       "3NwiIiLu7u6qqqq6uroyMjJmZmZUVFREREQQEBAAAAB0/5/PAAAAAXRSTlMAQObYZgAAAIBJREFU\n",
       "KM9jYIAD/v8ogAFJhoEBB2+wyLx/e3rvL2wynD8YGMqeY5PhbmBgWBeATYaHgYH3C1Z7WBgY9k/A\n",
       "4TbmT1AeRhjqC+BwNcdvXP6Zf4CBFbsLgL7kxioTl8DAMAmbDHteAQNDOjYZrqcMDF4XsMmczzm7\n",
       "7r/CIIxt1DQKAG9DQZp6J/Y6AAAAAElFTkSuQmCC\n",
       "\" style=\"display:inline;vertical-align:middle;\" /></a><br>\n",
       "<strong id=\"Hgate\">Hgate:</strong> <a class=\"ProveItLink\" href=\"../__pv_it/common/5b6622a582660a3d931e523735e68ed84c1547b20/common_expr.ipynb\"><img src=\"data:image/png;base64,iVBORw0KGgoAAAANSUhEUgAAADQAAAAbBAMAAADBrLE7AAAAKlBMVEX///+qqqp2dnbMzMyIiIi6\n",
       "uroiIiLu7u4yMjJmZmZERERUVFSYmJgAAADrizvbAAAAAXRSTlMAQObYZgAAAIlJREFUKM9jYICD\n",
       "u2gAIcNwgQEF8A5SKZ69tybw7L0xHZsu3gYgTsBqYKwDA4PtBKxSugYMDL4CWKV6gXhtAVapW0B8\n",
       "DeJCRHCCpVhvzJw56xJWxzNdZmBguYpVigNIcl3HKsW7AOI1LFJgbylglQJ7KwCrVC7MW+hS7DPu\n",
       "bmGYdXfJIE0A6KkXAHmWVKCgovuuAAAAAElFTkSuQmCC\n",
       "\" style=\"display:inline;vertical-align:middle;\" /></a><br>"
      ],
      "text/plain": [
       "Xgate: Gate(X)\n",
       "Ygate: Gate(Y)\n",
       "Zgate: Gate(Z)\n",
       "Hgate: Gate(H)"
      ]
     },
     "execution_count": 15,
     "metadata": {},
     "output_type": "execute_result"
    }
   ],
   "source": [
    "Xgate, Ygate, Zgate, Hgate = Gate(X), Gate(Y), Gate(Z), Gate(H)"
   ]
  },
  {
   "cell_type": "code",
   "execution_count": 16,
   "metadata": {},
   "outputs": [
    {
     "data": {
      "text/html": [
       "<strong id=\"CONTROL\">CONTROL:</strong> <a class=\"ProveItLink\" href=\"../__pv_it/common/f3dc5d2a12aa7d8cdfd8981d2c35970c615f6b8e0/common_expr.ipynb\"><img src=\"data:image/png;base64,iVBORw0KGgoAAAANSUhEUgAAAHAAAAAOBAMAAAAF5oXJAAAAMFBMVEX////MzMy6uroyMjIiIiKq\n",
       "qqoQEBB2dnbc3NyYmJhmZmZUVFRERESIiIju7u4AAACOKgoaAAAAAXRSTlMAQObYZgAAAhRJREFU\n",
       "KM8tkj9oE3EUxz/510ub3uVmHZpF1yqICArX1aVxFiEKxcEKDTgUKnhddHDJoUvBocHBUB0a6NQU\n",
       "SUEQpEozddCih4KIRmxaamvTNr730oP7/e793vf7ft/3vgd4m43lbFn2j9MLyLPZK5ApTsaVuyu9\n",
       "taU9eNZbef9OM79rMxEaX76m4UZE5oUc3PPJndOD9VVIxUzDBGitQ3hUB+c8LClgRxfa47IszvJN\n",
       "4NyRN3ljX0BQJ3sATyBxBLkO3hVJDlQFsGfEi7EsZ+GCBk15na+CP0MiYnAXPoMrhdL7pMYkmdsS\n",
       "wLZCh3Z1PXUShb6cUIQHJAR1DAUYvgmlVcKCVu1IG1sKrWgdflCx9hYLSpyPqGo0YDnydTKTZK2z\n",
       "IamfN2jYsiShzotgVlXmxyhbUaMzsvzpwMf5p98pkT1qyaLfJ9ru/UVVOttJlcW8TZ0vMU9j0h39\n",
       "/iOyTTNTOhtierq7Oq8q2UPHGE3L8VbUlckfWxG5LdArdBCQ8fv7d6mnKtcfG2OiL6YrouukdSTe\n",
       "7b6tzKmD5ppVb4repOgbrSlBbZQnIc2VqjZitZPkkcmqtKwtRqITgxypkDZvBs0p3I6O0FO+taeO\n",
       "uPK3SXxdsO4tvDd6e1op5tSwdWW2lVoP2fBpX1KAxKEwfq41bEqnay91b09dRX83uB/svFbngm6E\n",
       "86FFojHzXOJfQfdV0OU/hHCrHgn4ySMAAAAASUVORK5CYII=\n",
       "\" style=\"display:inline;vertical-align:middle;\" /></a><br>"
      ],
      "text/plain": [
       "CONTROL: CONTROL"
      ]
     },
     "execution_count": 16,
     "metadata": {},
     "output_type": "execute_result"
    }
   ],
   "source": [
    "# CONTROL: acts as an input for a Gate() to indicate a controlled MultiQubitGate\n",
    "CONTROL = Literal('CONTROL')"
   ]
  },
  {
   "cell_type": "code",
   "execution_count": 17,
   "metadata": {},
   "outputs": [
    {
     "data": {
      "text/html": [
       "<strong id=\"CLASSICAL_CONTROL\">CLASSICAL_CONTROL:</strong> <a class=\"ProveItLink\" href=\"../__pv_it/common/a2476a354616e7dd3d0a3ab483bda8f7bd0ec7210/common_expr.ipynb\"><img src=\"data:image/png;base64,iVBORw0KGgoAAAANSUhEUgAAAPoAAAAOBAMAAAD0wRwBAAAAMFBMVEX////MzMy6uroyMjIiIiKq\n",
       "qqoQEBB2dnbc3NyYmJhmZmZUVFRERESIiIju7u4AAACOKgoaAAAAAXRSTlMAQObYZgAAA3dJREFU\n",
       "OMtNVU1IVFEU/mac8c2o82aiXS2cTW2itE0EReMqqEXapoUICkkgRroTDNRFFrSZR26CFg4RTWnk\n",
       "gPSjErqIQCxmVkIk+RCCSsN0NMe/eZ1z7rtv3sC753HPd75z7/nOeQPAXJqeivQiOlt8A/kFGnkN\n",
       "Z/uiSW1is8UXtPdnYdx6IJijvDxxLrSoEE1CkGy/RWbJSSLc3G2nb884C5M7jJ35PI8KQMcuWgg/\n",
       "p414o8tU9ZfXeZj5ihFnrAto7RJMStYi9E+TGGeBSd7IzxGRjT6gE3hJGwfA/ZwPoGLXrtEyMQQ0\n",
       "9LpMI2VaajL04hlxmh9t2igxJJqiVwR3dHJNYl4kW00xwTbCGUAOkT3gERX0EKjd8AFU7DnmOUnP\n",
       "YNItYisnWE8Apz0jzqo7nLGDMT/4uDA2dXZNUtVEtpZqZ6xQ0hMIWIhuA9+pbkQaKvkAEluzzesx\n",
       "r5h0rxg7GqiMRzwjzgkWKpBhjLWc9CTyk8gNjA3aQTMwgAClokrSbh2dun2uAlCxaT4MfvpEPBPe\n",
       "5bvvJFAxrFpkSyrDlw7a7RZ8naJJIsJRs8nZRy3IQavFh3gO4W4fQMUOFlwGLaKZZIkQc5z3FROk\n",
       "LePQ67EV1Bfg6xRNYuxK15a46PEmiDstZ0D91Le9hA+gYpsTLoMWMSh9Avx6+8/2DNcqtOFlTypO\n",
       "3SkeiYKsd3DRjc2guEfVUC7bGLF9ABXbwylgu0KQPT42fqC4Jlo8w87qspSGtZ8em51zm8H0k8QF\n",
       "skzXyiByYEj4rPjwiYrd6wOo2Gb5stDZ48QXHZIOuSnDgvUWbcQZkj65LuVBdaNqBjyWu7skAjFv\n",
       "0UL8+YeStlNdZZ80yPkAKlaNDotY4F5BmF4vA6ssla2Ncsqks1x0nFCHagbVWZqE+5unGkGCNGTZ\n",
       "pWREgARvz/gAKjbNDTPAItL9vwLDqqI3yGQ9I84IBxh0lIgrBTdDzJLOckk4hyjKsJA0UlSGEbEN\n",
       "7k2zAlCxPF6ttqqeUUaE5yM/hGcZGPRddI0qLU1Z+DXZe/TUlZQUg6KqR7KYwNp5bj/OK0rVlb2v\n",
       "d3thuAJwY38vTNNZzElnetLJmfmijTbnKjKnxvk/RxlyvmO9Xs085a+qcwnh/FZmNbU/ntpH3HEc\n",
       "l4T7sV8gPVfAX1ngbqr4gSc8tW/B+FLQADf2Pxg3Z9tPeP+lAAAAAElFTkSuQmCC\n",
       "\" style=\"display:inline;vertical-align:middle;\" /></a><br>"
      ],
      "text/plain": [
       "CLASSICAL_CONTROL: CLASSICAL\\_CONTROL"
      ]
     },
     "execution_count": 17,
     "metadata": {},
     "output_type": "execute_result"
    }
   ],
   "source": [
    "# CLASSICAL_CONTROL: acts as an input for a Gate() to indicate a classically controlled MultiQubitGate\n",
    "CLASSICAL_CONTROL = Literal('CLASSICAL\\_CONTROL')"
   ]
  },
  {
   "cell_type": "code",
   "execution_count": 18,
   "metadata": {},
   "outputs": [
    {
     "data": {
      "text/html": [
       "<strong id=\"CTRL_UP\">CTRL_UP:</strong> <a class=\"ProveItLink\" href=\"../__pv_it/common/4651ccf43c71e30c05a944c886d39ee6f99108b20/common_expr.ipynb\"><img src=\"data:image/png;base64,iVBORw0KGgoAAAANSUhEUgAAAGQAAAAOBAMAAAAro6RbAAAAMFBMVEX////MzMy6uroyMjIiIiKq\n",
       "qqoQEBB2dnbc3NyYmJhmZmZUVFRERESIiIju7u4AAACOKgoaAAAAAXRSTlMAQObYZgAAAcNJREFU\n",
       "KM89UTtMG0EQfUc4bGOfcZ0mrtKGioIIHRV0QJ3GFO6CgjuQIuXcQId8ggaJAiokhAxGIEVgobhJ\n",
       "pMhEXJUm4VNGCYX5Guzg483uHiPt7Ox7u292ZgCkfx/sxwulqWpY320CK2H16DtkfzsBsfje3Vek\n",
       "wiGB6tXBc0I/fdjr/gyQBzZ4/g/MV7hfw1jsiu4EGkp9AC7GGG8XK4i3gEXAegSSl0BXM3ryokG3\n",
       "xWURskkPSKbXlo/ELXAKOPdA973RVtZXo5O8DiGnid5bQV9alO4AWWaeBHI1o63sTcCCCwxShJJX\n",
       "KA0L+oerZ1hrVmC/l70/euJlgETWQKU1eEHE8CD2av9XKyPahYgY4epVVAH2KDCeiZhV3dOzcyxJ\n",
       "eV7W4Ok2XVJRn2fKpKaFhrgvKsI3fkASuHJbAPuBbkGiY31jXKGSKq9FqVmq6PFgWY2FHcesRDf6\n",
       "xnZRUBlyS50tauZYVRf7D1VdrGF6bLVM0VL+J66E6jYcanpBWmk7vvoCm58smrFEP30nf0x1nked\n",
       "C+bQzd3Tfx9EfEdRHdOQv/UD6c1H9/pQmum2fcR+BP/c9qbLssIwbMTqZWhKDeQJeeSUGE0JqRMA\n",
       "AAAASUVORK5CYII=\n",
       "\" style=\"display:inline;vertical-align:middle;\" /></a><br>\n",
       "<strong id=\"CTRL_DN\">CTRL_DN:</strong> <a class=\"ProveItLink\" href=\"../__pv_it/common/47290296d6374d8c8a02f11f2cfda7af336c27d50/common_expr.ipynb\"><img src=\"data:image/png;base64,iVBORw0KGgoAAAANSUhEUgAAAGkAAAAOBAMAAADeXS/rAAAAMFBMVEX////MzMy6uroyMjIiIiKq\n",
       "qqoQEBB2dnbc3NyYmJhmZmZUVFRERESIiIju7u4AAACOKgoaAAAAAXRSTlMAQObYZgAAAdRJREFU\n",
       "KM89UjtMG0EQfb74YkP8oabBBdASKVKaFEebBqeOkJyCDiTcUSBhmqSg8QmaSBS4IokoOCkVnwgq\n",
       "JOREdkUDwhYFQkDBR4SAgct7u2JP2pnZmXmzM/MOQO5gfS1drk5sxPWft8BivPF7F9LvPsB+i3F9\n",
       "sz5L4yAuwC+Ot2nuhfCXwylgDPjB+wPwJaK+hvtodt3IaGwDLwQ6H6FYnY2QvgfmgcQj8OoS8G4d\n",
       "SC4s83ij/4CUXG8FHUyEptohkGUgqeCVQ2VZBEMhfUesPMBLt3m5N8EHnoACkPkElNTIhUNlZFbL\n",
       "TEYRmNFlWP4TnpfGQj6CPy792qHy23orEmopRI2XSvM5Vq0Z1be2f9+jrLJD9SmnVVZz+WHIX+x5\n",
       "ji3ZRbfaWNColYJDtZSzVVBzqStP/kllQGLLWNhhRyoX8OQsqiHxl6eG9INZYVHCV7Exm9Jhr5Gl\n",
       "DV+tS2bXHQWrNeZgmIKlQHSJG0ZLnNB7NLUdXcfciMcZhr6ZHWhSLdOSb7ipNHNIUWdD58q9UXHO\n",
       "kDQ0+qz9URNlnkyKaCo1PyNJXWk7V7+eTaq4pfG0vq6tTAfXv0R60AmR+tM8CzorAUeM47hDc/O7\n",
       "/r3J95Sa+T8X9ZyCW03OxwAAAABJRU5ErkJggg==\n",
       "\" style=\"display:inline;vertical-align:middle;\" /></a><br>\n",
       "<strong id=\"CTRL_UPDN\">CTRL_UPDN:</strong> <a class=\"ProveItLink\" href=\"../__pv_it/common/2d2585ddd1ae9209d824e76cf76a49d71363b9fc0/common_expr.ipynb\"><img src=\"data:image/png;base64,iVBORw0KGgoAAAANSUhEUgAAAIkAAAAOBAMAAADpvyKaAAAAMFBMVEX////MzMy6uroyMjIiIiKq\n",
       "qqoQEBB2dnbc3NyYmJhmZmZUVFRERESIiIju7u4AAACOKgoaAAAAAXRSTlMAQObYZgAAAkdJREFU\n",
       "KM9NUz1s01AQ/uLEOCV/nVmaAViLhMQAg7tVLHVnhBSGbq2otw4g0gUGOsQqCxJDMxVQhbDEAE2K\n",
       "2gkJBRRPLFQkYgAESEACFJq25r57tsST/O75vs939+47AyjvtjbzfmOhHXee7AH34varl6C9MAuu\n",
       "FW9hFt1hRFenfb6vdquzLNBuXIXtzYsLbwLY68ESMAc8lPcD4FYodohk1atAKYJxFa8aO/aLju4O\n",
       "kGWQrzOyPV4Okd8HVoHMIVD4AVh7aRRXnuOkZsRlHxoK1uWxLv8BHHLOET+dCTT6O8kqQI7gII0i\n",
       "xaHAQ0lcJYlUkiSYDITzXjKfYhKt7ERGiEeA1F68AtRY6PckiMXMH3kqiqswMBYNXz6GB9zgyxTx\n",
       "T/Ic0xMqIex52jNJFIeZV5G4Gk2xO6wlZJS1AE22LkoLJy5rYvPt/jhZfuLPSXFKxYQPe5qW3/R8\n",
       "XqYyBfK88TTKmhG218edfqKMrm8ULFTo6dIjQj1+s13lZZyBRd4i3eC2rSe8kIr9RJkyHTVpY14r\n",
       "7hoGutx+a4X5A5XI42Yz+JyhjORuYaLMXR0XAR3OGH7+J9rYX9kkW/c2dFJgJOe4cCYErTUTZbQb\n",
       "9VTojGGYcfkgHbakB5P3taeslWKZYdRZqEdlVaYU6I3kHs/ScUkp5bNMLkhOnbbkvsT7Fo+UwjGp\n",
       "RTeRE1vXPmSbWFEJsoahlJMsM8fkZqw+d1rs8jV3+JxD6I4COK+jL+5owx2hEscxrre0twKpLQi0\n",
       "9YD/zuLFRL1/WnjMDD/UsrMAAAAASUVORK5CYII=\n",
       "\" style=\"display:inline;vertical-align:middle;\" /></a><br>"
      ],
      "text/plain": [
       "CTRL_UP: CTRL\\_UP\n",
       "CTRL_DN: CTRL\\_DN\n",
       "CTRL_UPDN: CTRL\\_UPDN"
      ]
     },
     "execution_count": 18,
     "metadata": {},
     "output_type": "execute_result"
    }
   ],
   "source": [
    "CTRL_UP, CTRL_DN, CTRL_UPDN = (\n",
    "    Literal('CTRL\\_UP'),\n",
    "    Literal('CTRL\\_DN'),\n",
    "    Literal('CTRL\\_UPDN'))"
   ]
  },
  {
   "cell_type": "code",
   "execution_count": 19,
   "metadata": {},
   "outputs": [
    {
     "data": {
      "text/html": [
       "<strong id=\"WIRE_UP\">WIRE_UP:</strong> <a class=\"ProveItLink\" href=\"../__pv_it/common/e67935f92725ad9974d4c114a1b2b455b01864730/common_expr.ipynb\"><img src=\"data:image/png;base64,iVBORw0KGgoAAAANSUhEUgAAAGgAAAAOBAMAAAAxn0TVAAAAMFBMVEX///8yMjJmZmbc3NzMzMx2\n",
       "dnaYmJiqqqru7u4QEBBUVFS6urpEREQiIiKIiIgAAAD7KGr9AAAAAXRSTlMAQObYZgAAAc9JREFU\n",
       "KM9FUb9LW2EUPfXl8z2S+JT8AY20S3GwbtJFnV0aKJ06RClUkEKXrJKHYwdxcBBBSEFLFUOzODko\n",
       "HSraYqcOmfKmDmKbHzai0fg8937P+OD7dc89595zH/5GP7DV/YKF7gz8r82nwHy0/fM7gLPo20i5\n",
       "yQuc8tUh0tFjwY63MwFSbcBcA4kS0cEhybkBXshLCO8loAn4BxtLr8Jp2ZiR0H6OW+IWSP4HUjyx\n",
       "qKRHDW7PBGMJ9xZeh7ELYE/AfIWbfw4McBkSsaSkwQNuUtynvN/Wgn+oKTWQlS29DBQPVN7AUdJ+\n",
       "CHiSkWbJJInrcApt+GOxG8qW4K5Z+XewX34K6K/EpieHgSoMfWkb6gIvP5+2pkQ+s3Uek6pcfYrl\n",
       "4P7Wlgreje1OXaAeYDaw8kOWI76RVGzz9ahgv4IQzVSlNyQcsYucNZiDlITLQWECmmxlnvO1bh6G\n",
       "BMpOlqzBwAt7HbySW/fe5Bx7ftsbEhKULQ7HBo0qm0Y88UQrJtUpnw17Q4JP2XzoWflpjbuXtDQW\n",
       "/yb9PvBVttfavbFiOI4BnqkVC2TgbCh2GZN2ud7ojD5Fm5xstjMDcxJ+zHae7NQ4viiKGuZ4VDKI\n",
       "aUt37SaY9lsNZaMAAAAASUVORK5CYII=\n",
       "\" style=\"display:inline;vertical-align:middle;\" /></a><br>\n",
       "<strong id=\"WIRE_DN\">WIRE_DN:</strong> <a class=\"ProveItLink\" href=\"../__pv_it/common/4ade137dda88a25acfcf3da7fb8f6f0a23101f290/common_expr.ipynb\"><img src=\"data:image/png;base64,iVBORw0KGgoAAAANSUhEUgAAAG0AAAAOBAMAAADXto+RAAAAMFBMVEX///8yMjJmZmbc3NzMzMx2\n",
       "dnaYmJiqqqru7u4QEBBUVFS6urpEREQiIiKIiIgAAAD7KGr9AAAAAXRSTlMAQObYZgAAAexJREFU\n",
       "KM9FUr9rU2EUPTV57cPXpK3/wAuKg10sLuJiM7s0o+CQiKBQhDp0VPJw8wfi4FQQ46DYktIs4iCS\n",
       "4iBYxTgJTnmTgyhpWqv4kvo857svJPDd775z77nfPfcGP9MPWD98gVuHNRS3+ieA5XTj4zsAP9K3\n",
       "85t9uN9yutPcWXBgC1PdtQjBAeANgHyD6MyskobAOX2Jc9148if/yOlsAxMRkNszniewXaHJ/wOO\n",
       "/gIC3rhtNGE4xRPc3LdcPyH/N/Ba4WqLpshIQVFy8cB4RfntGsF7fOdV1sE3VtNLCGWmHwJ1dbPL\n",
       "wjnjTe/SLDLnCLrARUGPkVs9QHEhU0aRDUyt6d7G1UydfL7XEG+lhpKgr/Co0fXjFGHp+fe9stKO\n",
       "re+PeEsxTa+iFmc+j3pb9YfmOkXoRbgcSWwZsyNeT4W2WmrRGwQtN9goRt/cCanAe7ZVMbEVlI3X\n",
       "kfnLU0Ju6EaP0+ep0RurAAe82DCxkR8bT8InOXX11TnjoOo1arzi3Lay8gzXS5lYLxqv7w6rBjeY\n",
       "ddJa52doZavlbFXV2DexF8br8+eyOoWBw1a4gU0Ld0ci6/FZFHgHjywg7I2mX1C/bgp4yXNJjv80\n",
       "fcYFhUkN3qf4bpgcb3Y50DRNkzCZb/Ifj/tPvtBK/H9Ea6QuGlbxWQAAAABJRU5ErkJggg==\n",
       "\" style=\"display:inline;vertical-align:middle;\" /></a><br>\n",
       "<strong id=\"WIRE_LINK\">WIRE_LINK:</strong> <a class=\"ProveItLink\" href=\"../__pv_it/common/d1c5a4060207134da22a3006a8d4855da6ac4e620/common_expr.ipynb\"><img src=\"data:image/png;base64,iVBORw0KGgoAAAANSUhEUgAAAIcAAAAOBAMAAAD3dhIpAAAAMFBMVEX///8yMjJmZmbc3NzMzMx2\n",
       "dnaYmJiqqqru7u4QEBBUVFS6urpEREQiIiKIiIgAAAD7KGr9AAAAAXRSTlMAQObYZgAAAihJREFU\n",
       "KM9Nkz9oE3EUx782fzya5iydpMsdunUxm7jYLC4uHrgUHC5SUChCM3S05HB0EAcnQYiD0oqlWaSD\n",
       "Q4KCUBTj6pSbHIo1JrFVz6bn9/3e75oe/O793p97v/c+73fYTz9ic7yB9XEN7vbgIrCSvvr0AcD3\n",
       "9N3C1gDmWUnn6xR76VwFbvcfsP53Q9R5YHtQRekAKNCabzLo3Kx8cQRcEU0S3NMkGJwSMwzA+Uy9\n",
       "XwFyQ01SEGM74Ct/DEz/AkqUeKAfy1EnYqfL7wKrFqVCJwHOHAJvxR22+HJHQJmrwER4pEnkmBOx\n",
       "1PZRqqvq3Mwq/HasmeGZah8DjQ5T/2R5OU3C/UT4ZXoiVa+p/xlyawdwK5YGwTRx9qnIDu5YIhaW\n",
       "mCRJ8RBTai366v+KArmYsg0F3Hi5N6wKoLnNUZbEwKKIJaqOcYaw/0X9HtacI+3GUEA/wm0pNqxi\n",
       "NktiYBkTpJOwpQh/TP1WfzeKMSi1Ji3vss5AAQWoZidxBJYZO1nsKMJazo7+0lVyKZxqmeNabCqg\n",
       "yIk1SGAtW2aMnRn51trVU8K75LI8aTnPeTd8C8gMwe59y2yH+jCw1nbTBPR5vBdPWnYJJowdBXTd\n",
       "XhPu3ZpltsTVa1lr+Y8JWOVwtzS2l4FpxJfBy4DSE3XIPoyMAGQgq5nV1av8huuWbJzn6Qti8xIe\n",
       "+Tl+6CUXXvc4njRNEy9Z8BLQFMDZ5Z+KafkjvCTGfvoe+A/RmMR71f9b7AAAAABJRU5ErkJggg==\n",
       "\" style=\"display:inline;vertical-align:middle;\" /></a><br>"
      ],
      "text/plain": [
       "WIRE_UP: WIRE\\_UP\n",
       "WIRE_DN: WIRE\\_DN\n",
       "WIRE_LINK: WIRE\\_LINK"
      ]
     },
     "execution_count": 19,
     "metadata": {},
     "output_type": "execute_result"
    }
   ],
   "source": [
    "# WIRE_UP: wire goes up to link with another wire\n",
    "# WIRE_DN: wire goes down to link with another wire\n",
    "# WIRE_LINK: link destination for WIRE_UP or WIRE_DN\n",
    "WIRE_UP, WIRE_DN, WIRE_LINK = (Literal('WIRE\\_UP'),\n",
    "                               Literal('WIRE\\_DN'),\n",
    "                               Literal('WIRE\\_LINK'))"
   ]
  },
  {
   "cell_type": "code",
   "execution_count": 20,
   "metadata": {},
   "outputs": [
    {
     "data": {
      "text/html": [
       "<strong id=\"QubitSpace\">QubitSpace:</strong> <a class=\"ProveItLink\" href=\"../__pv_it/common/87ff16c960f4b3af76ce58bd20ba5dda61eef3fc0/common_expr.ipynb\"><img src=\"data:image/png;base64,iVBORw0KGgoAAAANSUhEUgAAABcAAAAUBAMAAACUkLs9AAAAMFBMVEX///+6urp2dnbc3NxUVFSY\n",
       "mJju7u6qqqrMzMxmZmZEREQQEBAiIiIyMjKIiIgAAAAjslSOAAAAAXRSTlMAQObYZgAAAJVJREFU\n",
       "GNNjYIACplnTGOBAmcEXwTnM0G8A5xxksBdASDHUJyBxzoEIvjv396wEGjcByOboL2CbH8nAEAmS\n",
       "CPBjYGD9ycCowNjAwNqwDSjiydBbXpXAwMm8AMjJY9j//z8DQwrHBISBRowPEBxLZE4WhwKCw5vg\n",
       "gOCwTgBx2KC8dXJAQhbK4bylxla1DKaw8/afGRAWAC7tIMrpUS56AAAAAElFTkSuQmCC\n",
       "\" style=\"display:inline;vertical-align:middle;\" /></a><br>"
      ],
      "text/plain": [
       "QubitSpace: Complex^{2}"
      ]
     },
     "execution_count": 20,
     "metadata": {},
     "output_type": "execute_result"
    }
   ],
   "source": [
    "QubitSpace = Exp(Complex, two)"
   ]
  },
  {
   "cell_type": "code",
   "execution_count": 21,
   "metadata": {},
   "outputs": [
    {
     "data": {
      "text/html": [
       "<a class=\"ProveItLink\" href=\"../__pv_it/common/eb88b4e8450beb0a6d95af8b4ebf95c7c135a7c20/expr.ipynb\"><img src=\"data:image/png;base64,iVBORw0KGgoAAAANSUhEUgAAAE8AAAAVBAMAAAD1D64kAAAAMFBMVEX///8QEBDc3NxUVFTu7u5E\n",
       "RESYmJhmZmaqqqoiIiK6urp2dnbMzMwyMjKIiIgAAAB4i346AAAAAXRSTlMAQObYZgAAAatJREFU\n",
       "KM99k79LQlEUx7/v+czne5oOjUES0RhCQwQRNkS0BS0NDVKDEARCv4YgoqWlwWoIbNG/QKktQ92D\n",
       "cGuJkBaRsF4pISG8zv3x8inVWd653/s559xz7rvA/zawe18TXuOxb2szzT/jEszGlQiOyLthy+NC\n",
       "fkOdfl+B134SirYELOysYqyOUAyeiAC9ccxbML/IfZWhwQi0KEoZzCJLYRUh71GJCoIWudsSTAC+\n",
       "GJQwhrEfAIpc1jqAUUWIqiEqwTNAScHzoVpInwBzXDY+gUAZuSrF5AWopqh6C56OEcVLnPwMz2jf\n",
       "siSlMp0gI8DBJO/Z35KjMJNcfrOb1NYpeT78tMcsl3fGWeGytj4yBK1JnkeC/kO+f+4MV0+Jo8PX\n",
       "hk4nxYQElQxXkw4YsJhM+bU2TOodVz1gDT0gDRaBFkxLTKdbWk9iVIIGK62HqUgeOnXIrqrbzB3w\n",
       "7G7GdwFc0+IB6gwkSOOAelnYSkmQEhFoTE2ySubyARzQYAO3bdsBg2XZtducK3TbIv4CE71a8U/Q\n",
       "G3FLzm/2C8h+3K6xsHr/U2j0PAVha8A3PT57whDObbgAAAAASUVORK5CYII=\n",
       "\" style=\"display:inline;vertical-align:middle;\" /></a>"
      ],
      "text/plain": [
       "[SU](2^{n})"
      ]
     },
     "execution_count": 21,
     "metadata": {},
     "output_type": "execute_result"
    }
   ],
   "source": [
    "SU(Exp(two, n))"
   ]
  },
  {
   "cell_type": "code",
   "execution_count": 22,
   "metadata": {},
   "outputs": [],
   "source": [
    "# These eventually moved to separate definitions inside the quantum/quantum_ops.py file\n",
    "# QubitRegisterSpace = lambda n : TensorExp(Exp(Complex, two), n) \n",
    "# RegisterSU = lambda n : SU(Exp(two, n))"
   ]
  },
  {
   "cell_type": "code",
   "execution_count": 23,
   "metadata": {},
   "outputs": [
    {
     "data": {
      "text/html": [
       "<strong id=\"inv_root2\">inv_root2:</strong> <a class=\"ProveItLink\" href=\"../__pv_it/common/393e05867623ae7c157faf12be450543da0341dc0/common_expr.ipynb\"><img src=\"data:image/png;base64,iVBORw0KGgoAAAANSUhEUgAAABwAAAAwBAMAAADwTQfqAAAAMFBMVEX////MzMxEREQiIiK6urrc\n",
       "3NwyMjJmZmaIiIiYmJh2dnZUVFTu7u4QEBCqqqoAAACna3UaAAAAAXRSTlMAQObYZgAAAMpJREFU\n",
       "KM9jYMAG+O4g806v/oMiyzk4uBwoXPa93yoZBhT8RwFUMTIe1agtKJKsCShc9gco3MMMPOVKAnDu\n",
       "OobTDFxfYDweA4YaBoa7MC7XBIbLDAz7A+BaGfIPMOyHae4Ek/YHGBhYHIAMAxCP5ReQ6AU6gKMB\n",
       "xGXeAHTOCaDxzGC15WA7PjEwzADHUwFYsD6AwQZEP2dgBVkUX8C5AEgxLmDgAHG5/zADLWAIXrV8\n",
       "M0gR46/nICr////PYM25OSiee1+AwmUKgDMBtl9J3vYEU8kAAAAASUVORK5CYII=\n",
       "\" style=\"display:inline;vertical-align:middle;\" /></a><br>"
      ],
      "text/plain": [
       "inv_root2: 1 / sqrt(2)"
      ]
     },
     "execution_count": 23,
     "metadata": {},
     "output_type": "execute_result"
    }
   ],
   "source": [
    "inv_root2 = frac(one, sqrt(two))"
   ]
  },
  {
   "cell_type": "code",
   "execution_count": 24,
   "metadata": {},
   "outputs": [
    {
     "data": {
      "text/html": [
       "<strong id=\"B1\">B1:</strong> <a class=\"ProveItLink\" href=\"../__pv_it/common/0508ae9f5ee15a29deda7d70a7656dedf15e79310/common_expr.ipynb\"><img src=\"data:image/png;base64,iVBORw0KGgoAAAANSUhEUgAAABoAAAAPBAMAAAAIf8LVAAAAMFBMVEX///92dnYyMjKqqqoiIiLu\n",
       "7u7c3NyIiIjMzMwQEBC6urpERERmZmZUVFSYmJgAAADEjrHzAAAAAXRSTlMAQObYZgAAAIRJREFU\n",
       "CNdjYGB4+//O2d0LGGBgNgMDzw8GBuapIA7HPwYGrj8MsbJfQTz2bwwMfN+BGMzjnsDAEOkK4/Ff\n",
       "YODwDYDx+u8932LAAOPVJzCwzoXzdoJEDGC8vyBeAZQHso7h/gIoD2Qdx2+YPiagdSu3goSBPF79\n",
       "v2dubwZyeG5+OseAAgB1ci4zv+Pk1AAAAABJRU5ErkJggg==\n",
       "\" style=\"display:inline;vertical-align:middle;\" /></a><br>\n",
       "<strong id=\"B2\">B2:</strong> <a class=\"ProveItLink\" href=\"../__pv_it/common/4e809df56addb29b8cd788f8095b21eb392291210/common_expr.ipynb\"><img src=\"data:image/png;base64,iVBORw0KGgoAAAANSUhEUgAAABsAAAAOBAMAAAAs4XpOAAAAMFBMVEX///92dnYyMjKqqqoiIiLu\n",
       "7u7c3NyIiIjMzMwQEBC6urpERERmZmZUVFSYmJgAAADEjrHzAAAAAXRSTlMAQObYZgAAAK9JREFU\n",
       "CNdjYGB4+//O2d0LGFjP7G5gAIHZDAw8PxhiGRh/gXgc/xgYuP4wHGVgmAnisn9jYOD7zjCFgeF+\n",
       "ApDLPYGBIdKVQT+A4T5IM/8FBg7fAJA6fxDZf+/5FgMQj+sjiKxPYGCdC2KwXACRO0FCIOkzYGv/\n",
       "grgFQBsOwKxluL+AgcGGgS0BYi3HbyAWYGAHcpmA1q7cysCQIihzhYGBV//vmdubger1////wgAA\n",
       "vmgxi6hTs0QAAAAASUVORK5CYII=\n",
       "\" style=\"display:inline;vertical-align:middle;\" /></a><br>\n",
       "<strong id=\"B3\">B3:</strong> <a class=\"ProveItLink\" href=\"../__pv_it/common/7d8ac3002bb0e82f0eee2f57c8bddac912b8e09f0/common_expr.ipynb\"><img src=\"data:image/png;base64,iVBORw0KGgoAAAANSUhEUgAAABsAAAAOBAMAAAAs4XpOAAAAMFBMVEX///92dnYyMjKqqqoiIiLu\n",
       "7u7c3NyIiIjMzMwQEBC6urpERERmZmZUVFSYmJgAAADEjrHzAAAAAXRSTlMAQObYZgAAAKdJREFU\n",
       "CNdjYGB4+//O2d0LGNgEpQ0YQGA2AwPPD4YcBuZ/IB4HkOT6w1BvwPAFxGX/xsDA951h5QKGTyAu\n",
       "9wQGhkhXIAOimP8CA4dvAJARIgDi9t97vgVkZqIPSIyhPoGBdS7YkFkgcidICGzlTJD0XxC3gCGN\n",
       "gWG/AcRahvsLGP4HgLkgazl+g93mD1TMBLR25VYGhndge3n1/565vRmonuvM6QUMAObcMgaSicwN\n",
       "AAAAAElFTkSuQmCC\n",
       "\" style=\"display:inline;vertical-align:middle;\" /></a><br>"
      ],
      "text/plain": [
       "B1: B1\n",
       "B2: B2\n",
       "B3: B3"
      ]
     },
     "execution_count": 24,
     "metadata": {},
     "output_type": "execute_result"
    }
   ],
   "source": [
    "B1, B2, B3 = Variable('B1'), Variable('B2'), Variable('B3')"
   ]
  },
  {
   "cell_type": "code",
   "execution_count": 25,
   "metadata": {},
   "outputs": [
    {
     "data": {
      "text/html": [
       "<strong id=\"C1\">C1:</strong> <a class=\"ProveItLink\" href=\"../__pv_it/common/a909fb79b8e180eb74b5fa189a326aa15be89a020/common_expr.ipynb\"><img src=\"data:image/png;base64,iVBORw0KGgoAAAANSUhEUgAAABkAAAAPBAMAAADjSHnWAAAAMFBMVEX////MzMy6uroyMjIiIiKq\n",
       "qqoQEBB2dnbc3NyYmJhmZmZUVFRERESIiIju7u4AAACOKgoaAAAAAXRSTlMAQObYZgAAAHpJREFU\n",
       "CNdjYGDgu7NrJ0cBAxRcm8DAumwCA0PYAyDnjR+QWN/At30/iGcGItSAeD6QwfUVpFoKyut3APFe\n",
       "QHn1F2CmgXj+Asi8fJAhDA9gciAOqwCUt74ByGCHqewHmVIH47H+ZGCIAuu9DyJfnd6lAOKszrea\n",
       "wIACAFidLLvWRu5GAAAAAElFTkSuQmCC\n",
       "\" style=\"display:inline;vertical-align:middle;\" /></a><br>\n",
       "<strong id=\"C2\">C2:</strong> <a class=\"ProveItLink\" href=\"../__pv_it/common/5663a9e3666848eb65cb77624cc33e2b4cee4dda0/common_expr.ipynb\"><img src=\"data:image/png;base64,iVBORw0KGgoAAAANSUhEUgAAABoAAAAOBAMAAADDIxFwAAAAMFBMVEX////MzMy6uroyMjIiIiKq\n",
       "qqoQEBB2dnbc3NyYmJhmZmZUVFRERESIiIju7u4AAACOKgoaAAAAAXRSTlMAQObYZgAAAKNJREFU\n",
       "CNdjYGDgu7NrJ0cBw6s1BxmA4NoEBtZlE/g2MNQrMDC88QOKrG/gesDAlsDAYPYAyFNjYHNg4P7B\n",
       "wPUVpFqKgfkfA/dHhn4HEO8FiGD5x1B/gQEG9AsY/AXgPG8GhnyQIQwggmsBA4M/iMMKUnALbBOQ\n",
       "YAeJLGDoYOgHmVIHxOIMDDcYWH8yMEQBtXG4l68GWvbq9C6g+xiY////7wAAsMMqzup8tEwAAAAA\n",
       "SUVORK5CYII=\n",
       "\" style=\"display:inline;vertical-align:middle;\" /></a><br>\n",
       "<strong id=\"C3\">C3:</strong> <a class=\"ProveItLink\" href=\"../__pv_it/common/ea7b5d87fa5f2cd0c6d1bf8e947035d8048618910/common_expr.ipynb\"><img src=\"data:image/png;base64,iVBORw0KGgoAAAANSUhEUgAAABoAAAAOBAMAAADDIxFwAAAAMFBMVEX////MzMy6uroyMjIiIiKq\n",
       "qqoQEBB2dnbc3NyYmJhmZmZUVFRERESIiIju7u4AAACOKgoaAAAAAXRSTlMAQObYZgAAAKNJREFU\n",
       "CNdjYGDgu7NrJ0cBQ3v5UQYguDaBgXXZBI4FDPETGBje+AFF1jfwfmXgd2BgMHsA5KkxMCUx8Bsw\n",
       "cH0FqZYCEUCV/Q4gxgsg5nNnYKi/wAABHCXrGBj8BRhg4JoCQz7IEAYwwZbH4A+iWQUYOBoYeL4C\n",
       "bQLy2BkY+P+BeP0gU+qAyg4wsPxjYP3JwBAF1MY5AeyyV6d3KYD0aq06xAAA/tkpquomxroAAAAA\n",
       "SUVORK5CYII=\n",
       "\" style=\"display:inline;vertical-align:middle;\" /></a><br>"
      ],
      "text/plain": [
       "C1: C1\n",
       "C2: C2\n",
       "C3: C3"
      ]
     },
     "execution_count": 25,
     "metadata": {},
     "output_type": "execute_result"
    }
   ],
   "source": [
    "C1, C2, C3 = Variable('C1'), Variable('C2'), Variable('C3')"
   ]
  },
  {
   "cell_type": "code",
   "execution_count": 26,
   "metadata": {},
   "outputs": [],
   "source": [
    "# Duplicate of I??\n",
    "#I, IB, IC = Variable('I'), Variable('IB'), Variable('IC')"
   ]
  },
  {
   "cell_type": "code",
   "execution_count": 27,
   "metadata": {},
   "outputs": [],
   "source": [
    "# These depend on Block, from an old multi_expression.py file\n",
    "# Still looking into this to see what we have now\n",
    "# some Variable labels\n",
    "# Ablock = Block(A)\n",
    "# Bblock = Block(B)\n",
    "# B1block = Block(B1)\n",
    "# B2block = Block(B2)\n",
    "# B3block = Block(B3)\n",
    "# Cblock = Block(C)\n",
    "# C1block = Block(C1)\n",
    "# C2block = Block(C2)\n",
    "# C3block = Block(C3)\n",
    "# Dblock = Block(D)"
   ]
  },
  {
   "cell_type": "code",
   "execution_count": 28,
   "metadata": {},
   "outputs": [
    {
     "data": {
      "text/plain": [
       "'\\n# for implicit identity gates\\nIs = ImplicitIdentities(I) \\nIsB = ImplicitIdentities(IB) \\nIsC = ImplicitIdentities(IC) \\n'"
      ]
     },
     "execution_count": 28,
     "metadata": {},
     "output_type": "execute_result"
    }
   ],
   "source": [
    "'''\n",
    "# for implicit identity gates\n",
    "Is = ImplicitIdentities(I) \n",
    "IsB = ImplicitIdentities(IB) \n",
    "IsC = ImplicitIdentities(IC) \n",
    "'''"
   ]
  },
  {
   "cell_type": "code",
   "execution_count": 29,
   "metadata": {},
   "outputs": [
    {
     "name": "stdout",
     "output_type": "stream",
     "text": [
      "These common expressions may now be imported from the theory package: proveit.physics.quantum\n"
     ]
    }
   ],
   "source": [
    "%end common"
   ]
  },
  {
   "cell_type": "code",
   "execution_count": null,
   "metadata": {},
   "outputs": [],
   "source": []
  }
 ],
 "metadata": {
  "kernelspec": {
   "display_name": "Python 3",
   "language": "python",
   "name": "python3"
  }
 },
 "nbformat": 4,
 "nbformat_minor": 0
}