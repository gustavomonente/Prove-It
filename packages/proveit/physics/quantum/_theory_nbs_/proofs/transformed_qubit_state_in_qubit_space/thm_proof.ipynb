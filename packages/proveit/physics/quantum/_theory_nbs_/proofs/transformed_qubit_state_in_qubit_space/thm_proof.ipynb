{
 "cells": [
  {
   "cell_type": "markdown",
   "metadata": {},
   "source": [
    "Proof of <a class=\"ProveItLink\" href=\"../../../../../_theory_nbs_/theory.ipynb\">proveit</a>.<a class=\"ProveItLink\" href=\"../../../../_theory_nbs_/theory.ipynb\">physics</a>.<a class=\"ProveItLink\" href=\"../../theory.ipynb\">quantum</a>.<a class=\"ProveItLink\" href=\"../../theorems.ipynb#transformed_qubit_state_in_qubit_space\">transformed_qubit_state_in_qubit_space</a> theorem\n",
    "========"
   ]
  },
  {
   "cell_type": "code",
   "execution_count": 1,
   "metadata": {},
   "outputs": [],
   "source": [
    "import proveit\n",
    "theory = proveit.Theory() # the theorem's theory"
   ]
  },
  {
   "cell_type": "code",
   "execution_count": 2,
   "metadata": {},
   "outputs": [
    {
     "data": {
      "text/html": [
       "Under these <a href=\"presumptions.txt\">presumptions</a>, we begin our proof of<br><strong id=\"transformed_qubit_state_in_qubit_space\">transformed_qubit_state_in_qubit_space:</strong> <a class=\"ProveItLink\" href=\"../../../__pv_it/theorems/3b32e1a54a0a0d37b302597501453fca7f16b5890/expr.ipynb\"><img src=\"data:image/png;base64,iVBORw0KGgoAAAANSUhEUgAAASYAAAAcBAMAAAA+fA+WAAAAMFBMVEX///8QEBCIiIhmZma6urrM\n",
       "zMxUVFQiIiJERETc3Nzu7u6qqqp2dnaYmJgyMjIAAAAcRTyBAAAAAXRSTlMAQObYZgAABNlJREFU\n",
       "WMPNl11oHFUUgE+Smdmd2ZlJH/LmQ8cqfah/gyK2IZZgaX2wkC1Sk4doFjEEQWRVdEsrZaHS7jaV\n",
       "LiIx4E+HFIOupV0oIrEVllQUmxYXtNIWf9ZWH1q1phKrjcR4zrkzs7OZddOpFjIwc2funLn3u+f3\n",
       "DsASOY7tcGCJHXpBqV679FCmcF2zyN1RpGMF+SpYeCNlXlxcOn2dK38kknSsW52BDXw7cuOYLkaU\n",
       "T8yCXrmxTG1kCLUSmvlfHSGGH2wVTOxZ3zRlMqkxKtGY9lEYvQPq0OVhiM+f8/ufDEneuf3yFhsD\n",
       "D29vEUxTi+k5DXoJGzNiqNIUcAEDagbbFbX+gwsFN/8F++dsMGxaiGAaJRVnmzLx69GItruJdIvz\n",
       "mNN40xkIeqtezlCw4zsbNsJ6tF+JmWj9rIgm/kRqnIqGpM5ygAO004JStRfaMtGezmTYbU61IIBi\n",
       "yz8d2Y1OmGUm43ix+NoiPv51sfhuRFc3aGoatwfVoJUDb37ga98q99EmA2hWy/w8KrR1mYi7P3O5\n",
       "UJaST+SDTO253K5yncCWYPgY50kx/F0t7Kquy36eRAFOn2MrX73dch1N8zxYSz0cGEmaFUyDAPmF\n",
       "THHoDTIpSYgXoO9vS/7VtUKKuKdOyXvPwWNXUBygTBUr4efuOFnhZTyfIUCevWw8G0PSb+lB8dak\n",
       "lh8I6uJ3wbQOtLpKk9gz9LgJh4JMkk3hQot4CHymdZCYhh4HpBIxKQWuWGu8r0yC34YkV4iAndvR\n",
       "ZyVE+UAs2mOyg0zqjGCKQauXerSj91S0Pkf+2f3Sz5lpuAMHxbtVQoiYML9l4VP0AYdm6BcVa9zP\n",
       "gBTaHbjCOWxf4cGF7mCALpsu4UGq0LL9ASbNZdIrMa/r9EQRjDcAjoJ2oY7pJF3jNlmIhYjpKkAJ\n",
       "duD3vOpBUbFMzyamy6STNT4Tfe2Wz1TLLBeVBnpSq1QtJ+9dmZRonPXvk7+OO3VMb8kI0V4hJhYi\n",
       "pu8/xnbOY0qLiuWrPO7aTp+upYKBJF0fpEuLP/wXzOROh5oW9S7/BBng6Vg315CzZ0iHnQfqmOIj\n",
       "6LwDBapfpudP+5d38BhvEpOaFhUr4WUixfVx5HQdOuHcRXYWPt7mZ874rXgrVevjDg6nKYh/wVmo\n",
       "+8MJGn3+jzqmxH14uRmDuiCEeOXqEOeTM8QkZUU5kbyKwJmGwv48qIPc01PaS/zQxU/b/PHX7nHe\n",
       "yzmBrDbimxlX3JvL5azXNzfaF/yG52q2Ewsh09uAsUl5t8xMKVFJ5Gow05CZ9J13i57xFWP3k2V/\n",
       "FE8ved4hr13+XNLLalmXyaC38rQsQrZtjEJkIdNZPD8BeNSNa2Q6Qrs2PQVyhZhkHIwqluRXkQ63\n",
       "tiw8NLcgbNyVCW92TSuwf9qnV3XQCVftSsJkw/1TL8ioExZCptWg7QY5Df2cbXAmrliGn+673Boc\n",
       "2nhbTSrSISfANP7l5HGAYbo9cGlnsiGT9NRJaoYF05quYzjAhhMVkQG3AlesNj+Rb6JLPjztwWZV\n",
       "8qvwPrOVXGWxfWar8Kf6UgS3ucr3+5QS7+lCR74Z0/P/Ze8bYnKLxUc1v6k23PsazX6ChOX/NyaJ\n",
       "Z9cCDnQ4+h5+9Fr/WzKN/u+2h/YqE2zXwAY50R2ZqZP/716AJXj8A9vpSmT25IFXAAAAAElFTkSu\n",
       "QmCC\n",
       "\" style=\"display:inline;vertical-align:middle;\" /></a><br>(see <a class=\"ProveItLink\" href=\"../../../__pv_it/theorems/e7e3f24aee400ac4e388d2cd4c7de98ed793deb00/dependencies.ipynb\">dependencies</a>)<br>"
      ],
      "text/plain": [
       "transformed_qubit_state_in_qubit_space: forall_{x in Complex^{2}} [forall_{U in [SU](2)} ((U . x) in Complex^{2})]"
      ]
     },
     "execution_count": 2,
     "metadata": {},
     "output_type": "execute_result"
    }
   ],
   "source": [
    "%proving transformed_qubit_state_in_qubit_space"
   ]
  },
  {
   "cell_type": "code",
   "execution_count": null,
   "metadata": {},
   "outputs": [],
   "source": []
  }
 ],
 "metadata": {
  "kernelspec": {
   "display_name": "Python 3",
   "language": "python",
   "name": "python3"
  }
 },
 "nbformat": 4,
 "nbformat_minor": 0
}