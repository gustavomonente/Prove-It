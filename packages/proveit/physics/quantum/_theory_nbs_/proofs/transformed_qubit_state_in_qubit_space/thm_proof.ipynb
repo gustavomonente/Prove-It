{
 "cells": [
  {
   "cell_type": "markdown",
   "metadata": {},
   "source": [
    "Proof of <a class=\"ProveItLink\" href=\"../../../../../_theory_nbs_/theory.ipynb\">proveit</a>.<a class=\"ProveItLink\" href=\"../../../../_theory_nbs_/theory.ipynb\">physics</a>.<a class=\"ProveItLink\" href=\"../../theory.ipynb\">quantum</a>.<a class=\"ProveItLink\" href=\"../../theorems.ipynb#transformed_qubit_state_in_qubit_space\">transformed_qubit_state_in_qubit_space</a> theorem\n",
    "========"
   ]
  },
  {
   "cell_type": "code",
   "execution_count": 1,
   "metadata": {},
   "outputs": [],
   "source": [
    "import proveit\n",
    "theory = proveit.Theory() # the theorem's theory"
   ]
  },
  {
   "cell_type": "code",
   "execution_count": 2,
   "metadata": {},
   "outputs": [
    {
     "data": {
      "text/html": [
       "Under these <a href=\"presumptions.txt\">presumptions</a>, we begin our proof of<br><strong id=\"transformed_qubit_state_in_qubit_space\">transformed_qubit_state_in_qubit_space:</strong> <a class=\"ProveItLink\" href=\"../../../__pv_it/theorems/7dc0b262ed363340956e6ef7b5725aeeebf56b720/expr.ipynb\"><img src=\"data:image/png;base64,iVBORw0KGgoAAAANSUhEUgAAARwAAAAcBAMAAABBrR1nAAAAMFBMVEX///8QEBCIiIhmZma6urrM\n",
       "zMxUVFQiIiJERETc3Nzu7u6qqqp2dnaYmJgyMjIAAAAcRTyBAAAAAXRSTlMAQObYZgAABJFJREFU\n",
       "SMfNV2+IFGUYf253ZndndmbPD32UWi38UFGTEajosRQWVOBAmX6wbonklCK2BC8q5Ei4dtNwqbCg\n",
       "4oYTDrlEDyriSnG5IM0uWjFBo2y5StDK7sCsLq7reZ53ZvadmW3WBSVfeJmZZ37vvL/3+T8A///4\n",
       "dLsD184wqqnG5aP7+qsd7/BwJ+B0Vf0LEnij9L/YHl3q/LxqsSM6Be0iKLxk91Whk+vQF7KzAF9e\n",
       "PTpLcWr1yKb/afR0HqfDdNiLvoul0xYSGhoeFvaC1jezAzLzU758cwR527aZ5ywMLbxNWEznCxKf\n",
       "j6XTFhIOFfryObxexOvipnx/GLj2b9gzZ4FJeG2a6bxFtwOxdNpCQqNrDHiLHO2wQqKZD+LMFAq+\n",
       "t+BBWI1PLzAdcjtjLJZOW0hoDDkUvQDddAQpyPQFLo2X+7fR9WQXAlOW+vMnr+DTMqZjHhsdfTPe\n",
       "ldtCQuM4TsKvwcPrNenFjyINvOQGnkVq1/Nd8/OkxkUisv4slyPZR52syJHVCiK7Li9pPvfgvBHn\n",
       "VzZqokCS4SVv3JoXLosu5LLRiw/JX1njMJ2NAJXwBhlYJ9NhiLprCh675Ek3TB6y1/+TV39DY9So\n",
       "6mQL/ooyzldxPoMzyRvXzGfTGJ9nAgGm1e6W9+y1mc49oAdKRnZn3+M5OCDTERCkr3gepFhwGBQM\n",
       "6AfQ+lWuOsv9FWeFY+rEPcU+7BizCjrTR/zaCwrNCtAZKjCdNCS8jKUfvLOur3fUX7yVLh0BOYLJ\n",
       "wREgSloZMPDVzagoUXVG/BVbcF6H55rD62v8Xcgwh1626vUXcJB0YINM54CgY9TTnuTU+CiY7wAc\n",
       "BP2cTEdAtuONC4LuKmQhY5Gh0JRcdXJ+0v1B0DF+x+vnQtSd9+k0U8b5VAvtaI1H8GHiriW2Qulo\n",
       "9YfkmyOOTEdA5pgOgyC3EBd315lOSVQdX8cwKIxlTDfjnBwD4D6+X+DhTjAdb6feqqhZlSfICk+n\n",
       "CzmSfnOa9LhiX6BmEQTtAe8iEWHWO2YK9AGsTFpJVJ2sn2E2CVemwphilWWd29nOZ/yKJgLmJtSZ\n",
       "0ghGFrxfojD9FWAPST8ep6/P/xGgQ5AEnuq0C6IUUaJMYVZBIeVjCCu+ERYJARpN2yh2GttFJ4GV\n",
       "omD6GbVnp/Ne2ZGy1W7frnj2deVyOf/22hYVnSDJATYNg3Qb9GnKo2S9oigJakPOIGQXY9BVxMji\n",
       "4VVkyp+EZjfd76W3nhu22N6qZS4dk/ip06oIyuQwRUKIDkGMIqh1N3KzY9RifQbwKK5EmlR1FN9Y\n",
       "XQVRJMJDd3sV5agoEsExJfU7Q0bDAIOYaittmGjV76gloMBkEGpqr4OpUq3xJlx1TL8cJGtCX5FK\n",
       "n49J7fqsRGfk64ljADvodt+FQbtl+3XvJMcOgZKvT2KlVp7iFu554KqT9NOySrFTie64P67QmcVI\n",
       "N5hAt2jbDUZAt7gdaVPyJLdfkVGJ7ZjtK9ScZsTlUFAN0ebUjP0j+fZK9coKb6xLzpK1Om6vRa6+\n",
       "DDr9bf+zxtmG8t/DBx3TSTr0n7UVrq3xL+JTP7/AfX2nAAAAAElFTkSuQmCC\n",
       "\" style=\"display:inline;vertical-align:middle;\" /></a><br>(see <a class=\"ProveItLink\" href=\"../../../__pv_it/theorems/82fb37759e90cfb741d23111a64cb3faf2e331310/dependencies.ipynb\">dependencies</a>)<br>"
      ],
      "text/plain": [
       "transformed_qubit_state_in_qubit_space: forall_{x in Complex^{2}} [forall_{U in SU(2)} ((U . x) in Complex^{2})]"
      ]
     },
     "execution_count": 2,
     "metadata": {},
     "output_type": "execute_result"
    }
   ],
   "source": [
    "%proving transformed_qubit_state_in_qubit_space"
   ]
  },
  {
   "cell_type": "code",
   "execution_count": null,
   "metadata": {},
   "outputs": [],
   "source": []
  }
 ],
 "metadata": {
  "kernelspec": {
   "display_name": "Python 3",
   "language": "python",
   "name": "python3"
  }
 },
 "nbformat": 4,
 "nbformat_minor": 0
}