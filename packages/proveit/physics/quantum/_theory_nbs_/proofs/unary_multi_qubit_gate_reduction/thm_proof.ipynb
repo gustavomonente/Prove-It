{
 "cells": [
  {
   "cell_type": "markdown",
   "metadata": {},
   "source": [
    "Proof of <a class=\"ProveItLink\" href=\"../../../../../_theory_nbs_/theory.ipynb\">proveit</a>.<a class=\"ProveItLink\" href=\"../../../../_theory_nbs_/theory.ipynb\">physics</a>.<a class=\"ProveItLink\" href=\"../../theory.ipynb\">quantum</a>.<a class=\"ProveItLink\" href=\"../../theorems.ipynb#unary_multi_qubit_gate_reduction\">unary_multi_qubit_gate_reduction</a> theorem\n",
    "========"
   ]
  },
  {
   "cell_type": "code",
   "execution_count": 1,
   "metadata": {},
   "outputs": [],
   "source": [
    "import proveit\n",
    "theory = proveit.Theory() # the theorem's theory"
   ]
  },
  {
   "cell_type": "code",
   "execution_count": 2,
   "metadata": {},
   "outputs": [
    {
     "data": {
      "text/html": [
       "Under these <a href=\"presumptions.txt\">presumptions</a>, we begin our proof of<br><strong id=\"unary_multi_qubit_gate_reduction\">unary_multi_qubit_gate_reduction:</strong> <a class=\"ProveItLink\" href=\"../../../__pv_it/theorems/dd0629abf93ea2b7c3d7cf0b23f831f330b0bb750/expr.ipynb\"><img src=\"data:image/png;base64,iVBORw0KGgoAAAANSUhEUgAAAfMAAAAzBAMAAABxvvx4AAAAMFBMVEX///8QEBCIiIhmZma6urrM\n",
       "zMxUVFQiIiJERETc3Nzu7u6qqqp2dnaYmJgyMjIAAAAcRTyBAAAAAXRSTlMAQObYZgAABSBJREFU\n",
       "aN7Vm1+IG0Ucx3+3STaX/XPJ03mISJ58EKQHJy3UykVEhT5oUGgVxR5UH/Qptg8qFI2INIdC4st5\n",
       "pWhTBMUgNaUvFoTLg2C5qreKghW1R09aKVJD7493qdc4Mzu72bnsJrPJXPZ2INnZJcz+PjPf+c3v\n",
       "N7sB2OaSbPIW2AllqNms8f72627o3H00CDJlyjxqzWbKHf38iTJnW1otVOjwOO2CEyc90LPcTd0D\n",
       "4ULXF2kl1i+6mgoZOrwnCv10JmzolsV9o78NYUO3dNovutrwTaS/Eyw6HBODHh/3i564lgkYfa4k\n",
       "BP1yyS/66XzAgreGq1/013xP4cly0Oh6QwR6bMU3+ljQbg6UmyLQIynf6KPbiJ7kywluiEAfmtpZ\n",
       "6Hzt7SoJQD9khBH9lCEAfVepZ3T9QfvSU/cOFt3Uap/ob0Gv6MrfjmsPZQeKPpyj6CST+b0NfYQM\n",
       "TRdBj3HaM/PmWBWKt9MtdL1O1wh8+8jiQNG1OkW/iI/X29C1KjqOdM7alWVeexZQCCelHaOu5czj\n",
       "SN0+GRi6vkrRZ3F0mW9DJ5dmuyzrN3nt+QePbdkF/Y+GYPSWwJKdzUboeGTJEG+Z61gIF7skL7d4\n",
       "0dfRRyanawy6cm5D9KjbAkt2FitC1+crlQ9c3NxvlcpnuS4h4SqnPVHcz5+T02UGXZdWRKPbAvNu\n",
       "b83y8OuFwjEX9GShcLzW+VbSBqc9Gu6jn5xCoej71U18khKIbgvMu711C/1FgGmIFa/A82tOdDkL\n",
       "w27LtuaoNjjtiWM2kjDFqVeRiVNXMmTeme7e09Tvb+Cy5Fdg3uh3W+gPg4LseKIM0aoTPToOZ8xl\n",
       "kO2AiKPKi/4FDiLwJ/EXvXqWLOVRSJAJsCRu1FsC827vDgs9DhJavr9B+i0zIU0O7jNzcrq3cHBf\n",
       "Rhpl0OW6Z+tsFjGHbpDArucs7d2nXyeHAxO7ifjkI32gs7dqCcy7vVcsdM2Im5tsGhvNfQdkPiqT\n",
       "yG7lqwlDzc/DXl50digWUHsaFs8n00wAl6Hiuypu1G2B8aAnFg+g2mYb+kcx0oL2KerDX85XQP0x\n",
       "AjVtYs/EA74Fv2CvbZaEZDznVWoG11y/yncrW2Ad0F+1Y/jpF1AFOesPWfThGWLmk8N5PO+Roc8+\n",
       "k64xo67xevg5NJVeYnqLePiTdC0S6eFtgfG4OTiHzJBQ5RKLru4h9alIzgzo1ez8zyy6xLuuj4zD\n",
       "TNa5RULQExi/WBK7rrcE5t3eqI2eRPqIIAHWtmRuxEq9KtXhYxNd08YZdH2F0x64cDhNT++y0ZXi\n",
       "7TJ82TwqFr0lMO/2lm10HYeyUxAztqD/ir/O7LvQgIOFQiGtZhNGjkFXudHbklbNGSiKRG8JzDuQ\n",
       "/Y/J12M5eM41X98LiVVTQWoWHkFjF3PkAZu9o6e2Cb0lsO7pCy2Pfmu4oUcN7Pw1fK5nQK+5KKcn\n",
       "dN25Lg44XzeD6a67NMU8zP5rwLuo+tifdMFslTd6RgdmlyYz2K2KDT8bVBKa6y6/m+wdXQ1ub06u\n",
       "C9ibu1wO447sUF4A+qFqGNFPpQWg77RHEHxPX4Q8gojUdxQ6ZzkOAtCj/h83XgseXcjjRjjqG91K\n",
       "3YJDl4Q8ZOZx8VuI5FtBo1MH1S/6UM0vOvxwPWB0QS+U9PAaEewPGJ3ub/b98tiSf/SABa/eKQj9\n",
       "/WzY0IW9MqjmwoZ+GAShw+6Qoev5Luj8L4XL6XChd30p3MdfAe73F1gH/C8I5WWaszebqf8BXerN\n",
       "BZAeudYAAAAASUVORK5CYII=\n",
       "\" style=\"display:inline;vertical-align:middle;\" /></a><br>(see <a class=\"ProveItLink\" href=\"../../../__pv_it/theorems/45e6a9b96ac952640d1985744add272d3ceac1a10/dependencies.ipynb\">dependencies</a>)<br>"
      ],
      "text/plain": [
       "unary_multi_qubit_gate_reduction: forall_{U} [forall_{A in NaturalPos} (MultiQubitGate(U, {A}) = Gate(U))]"
      ]
     },
     "execution_count": 2,
     "metadata": {},
     "output_type": "execute_result"
    }
   ],
   "source": [
    "%proving unary_multi_qubit_gate_reduction"
   ]
  },
  {
   "cell_type": "code",
   "execution_count": null,
   "metadata": {},
   "outputs": [],
   "source": []
  }
 ],
 "metadata": {
  "kernelspec": {
   "display_name": "Python 3",
   "language": "python",
   "name": "python3"
  }
 },
 "nbformat": 4,
 "nbformat_minor": 0
}