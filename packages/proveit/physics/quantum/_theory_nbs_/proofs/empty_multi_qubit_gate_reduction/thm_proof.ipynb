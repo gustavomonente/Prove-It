{
 "cells": [
  {
   "cell_type": "markdown",
   "metadata": {},
   "source": [
    "Proof of <a class=\"ProveItLink\" href=\"../../../../../_theory_nbs_/theory.ipynb\">proveit</a>.<a class=\"ProveItLink\" href=\"../../../../_theory_nbs_/theory.ipynb\">physics</a>.<a class=\"ProveItLink\" href=\"../../theory.ipynb\">quantum</a>.<a class=\"ProveItLink\" href=\"../../theorems.ipynb#empty_multi_qubit_gate_reduction\">empty_multi_qubit_gate_reduction</a> theorem\n",
    "========"
   ]
  },
  {
   "cell_type": "code",
   "execution_count": 1,
   "metadata": {},
   "outputs": [],
   "source": [
    "import proveit\n",
    "theory = proveit.Theory() # the theorem's theory"
   ]
  },
  {
   "cell_type": "code",
   "execution_count": 2,
   "metadata": {},
   "outputs": [
    {
     "data": {
      "text/html": [
       "Under these <a href=\"presumptions.txt\">presumptions</a>, we begin our proof of<br><strong id=\"empty_multi_qubit_gate_reduction\">empty_multi_qubit_gate_reduction:</strong> <a class=\"ProveItLink\" href=\"../../../__pv_it/theorems/fbc6866d605d2dd7e22c890cd3ff2fed50bae5bc0/expr.ipynb\"><img src=\"data:image/png;base64,iVBORw0KGgoAAAANSUhEUgAAAVMAAAAzBAMAAADY5vapAAAAMFBMVEX///8QEBCIiIhmZma6urrM\n",
       "zMxUVFQiIiJERETc3Nzu7u6qqqp2dnaYmJgyMjIAAAAcRTyBAAAAAXRSTlMAQObYZgAABJVJREFU\n",
       "aN7Vml1ILFUcwP+7s7OzMzuz64NKhHGlp+hlp2tICOlGcB/uiz5JD6GmqT2l0VMQtCH5QQ9KL/VQ\n",
       "tHXjIt6HuyLho16iohLcIMIeStEHQyLNcv3Ktv/5z4yum2f2zOTENDCfZ2bO7/y/z+wC+FzS5VoL\n",
       "/FeLnq2BWvMNe9fGcte9eQXCgxrbcGuN9oUIFX5ya5yHMKEmlvltWn2oUN1wEmaoUN2UvJT3imq8\n",
       "FSSqwreAV8EjqrqdDRI1ecxrMY69on6UC9QA+LJTcl5RO/LBoq7zLLI36xX1oWDdCu43cxqeAK+o\n",
       "jQGjpngJqzF0qFGO98hnoUNVz7wNQQDVeBrkm/nrR+UpOlHnF1X7hRVCDQGgTgCQuf54+XIkJ4aq\n",
       "Dv/2NiTKmxeoBvG1e0BdWFn+DoyRo6GX26wLPbT9eLy1+D7AY+Wx1uG/2IVVgG/YfqcqMpiCUtX/\n",
       "wM2jFVLVR9n2S3HURBFm8cY0SuxNy252yQQfwUHgCgxzjQJrF7zHpFMlxd5mQdQUw2n7N6gtqAnE\n",
       "7MUcv0S9GrtIrE3gRkKPie3jpTs2Uwov6oWqYqUgiJpmY6QivOQPVTtAHETMYM7JUElyr2MGRfAw\n",
       "M3n0GP2AGYOtaePrubl3q7NYlyBqJ/aiUQ+/+0ONYQySsbdpPB6hFFlk1B1MVrJJatNBpf5QIkeT\n",
       "k69XvSAzI4i6ir0YrIfkaSXqA3Gplj+nPZqkSqON5ZeKoB5S2wypzXZ5psBBgCmQpzehp+S8YDUv\n",
       "iPoKrlJlfROngLLuiqr/SovluplyCYnkPwEWSTufMKPU9517O7desGN8BN/8LGi47cxDrOBSJl2J\n",
       "qrHBxZlf/uxU62Q6KVPYrbTvb6BdRksrnz1O51n40ATl4FxoXWAn/wjqS4Fokcwreg44IvKhgqmd\n",
       "Zbt3GKE9yudes/bDzeIpQELbSZw4KX2gZSQHETrVrMi1DDR8hTlZUcGjMTyA2qiXpUr++RX7pjBl\n",
       "X33GkmqfqFRR6RqipkcdNyNNK/Top7geAeS1ZgdV3ejGo7NKVFED0PecWLVuF7jxnLCtsuc03Mgo\n",
       "wl4n5xSISTq2h0FhVScahY1m6kW8Hxs/OH/ZqmAESGIvcbpXOvEVAZIoKmnZCqtUPxUoPqkOIamt\n",
       "+9ytYAFfH8VnfrgIVqJxdQvUQcs79n3FVQmnTF8wk7TVyAJ8AqWGASvJkiCzBLv4iTAtpNEWpBwJ\n",
       "3EkBWUFUffymfdrkDzU2MISCbC/30+lseQeS04cmaE8NPclcYLfU8tIbVghIMxsxmKT7QC5eJFZR\n",
       "1H8UgZ5rAPHJlSNJeRSeryhXir5R64JCvSihbq1U4KVNv6je61XRhVNCKRu+Jyw0C6gPAJUTlaQ9\n",
       "36jJoOZWnLRknIRuxnrVNxFystPwTa73//efLKAjdKiJUU5Dp+fPa9sBo6Z5M1PF9Ip6RS6+VtQM\n",
       "r9gTCAFVqPHTYFH53tPkFRW+3QkSlf+B3cfPFnA7SNSU6aeJhxqoAczzRac2hArV9Re/xVChxt2U\n",
       "LPWFCXXNtbU/RKjuP7KDVCNh1f6XxTX+dYGc6m/ON6IxLRGnogAAAABJRU5ErkJggg==\n",
       "\" style=\"display:inline;vertical-align:middle;\" /></a><br>(see <a class=\"ProveItLink\" href=\"../../../__pv_it/theorems/c90bb00d30e92011d1fc425bb82add14d252a2a50/dependencies.ipynb\">dependencies</a>)<br>"
      ],
      "text/plain": [
       "empty_multi_qubit_gate_reduction: forall_{U} (MultiQubitGate(U, {}) = SPACE)"
      ]
     },
     "execution_count": 2,
     "metadata": {},
     "output_type": "execute_result"
    }
   ],
   "source": [
    "%proving empty_multi_qubit_gate_reduction"
   ]
  },
  {
   "cell_type": "code",
   "execution_count": null,
   "metadata": {},
   "outputs": [],
   "source": []
  }
 ],
 "metadata": {
  "kernelspec": {
   "display_name": "Python 3",
   "language": "python",
   "name": "python3"
  }
 },
 "nbformat": 4,
 "nbformat_minor": 0
}