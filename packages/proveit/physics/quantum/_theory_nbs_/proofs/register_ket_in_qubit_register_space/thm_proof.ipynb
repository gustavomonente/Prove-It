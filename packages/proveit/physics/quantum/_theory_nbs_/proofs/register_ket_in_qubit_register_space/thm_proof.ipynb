{
 "cells": [
  {
   "cell_type": "markdown",
   "metadata": {},
   "source": [
    "Proof of <a class=\"ProveItLink\" href=\"../../../../../_theory_nbs_/theory.ipynb\">proveit</a>.<a class=\"ProveItLink\" href=\"../../../../_theory_nbs_/theory.ipynb\">physics</a>.<a class=\"ProveItLink\" href=\"../../theory.ipynb\">quantum</a>.<a class=\"ProveItLink\" href=\"../../theorems.ipynb#register_ket_in_qubit_register_space\">register_ket_in_qubit_register_space</a> theorem\n",
    "========"
   ]
  },
  {
   "cell_type": "code",
   "execution_count": 1,
   "metadata": {},
   "outputs": [],
   "source": [
    "import proveit\n",
    "theory = proveit.Theory() # the theorem's theory"
   ]
  },
  {
   "cell_type": "code",
   "execution_count": 2,
   "metadata": {},
   "outputs": [
    {
     "data": {
      "text/html": [
       "Under these <a href=\"presumptions.txt\">presumptions</a>, we begin our proof of<br><strong id=\"register_ket_in_qubit_register_space\">register_ket_in_qubit_register_space:</strong> <a class=\"ProveItLink\" href=\"../../../__pv_it/theorems/1855995dc0fe04a02a5af7c50c42206c2b6afcc80/expr.ipynb\"><img src=\"data:image/png;base64,iVBORw0KGgoAAAANSUhEUgAAAWgAAAAmBAMAAAAb7hxOAAAAMFBMVEX///8QEBCIiIhmZma6urrM\n",
       "zMxUVFQiIiJERETc3Nzu7u6qqqp2dnaYmJgyMjIAAAAcRTyBAAAAAXRSTlMAQObYZgAABchJREFU\n",
       "WMO9mH9oG2UYx59ccvlxuaTdcEjrr9RuWscYN6so2pXMoYKKSzvqVAoLw4mCfxQ6daDUsIFmrUKc\n",
       "yMZQeu2QSeeWwIw/cG5hraCzhcx24B+bhvnfZFK1FZc65vPe+17ucpdLrku4B3J5L/fcm8/7vM89\n",
       "7/c9gNo2tuJWqNtC+Xp7EOLK14YVrXa8x6ABtr7+Lp5m37agjzSA2dN6gzeOT59Rm1zcYeix2I3d\n",
       "x+dA+EE9ueIw9IvLc5/cK9OG+BAI0xDa2NuOJ+/LjkLzV5flLqa8Bdpa65Y/E/KhTXlXCsAbdxQ6\n",
       "HLc1tChr+FI4So60InB/DiKH7oYmjDJfdBR6NGXH6xm14YsGFsATV6AxJyKwAzaR3y85Ct1NDs+z\n",
       "k4yV12WtGcSgzhDoQO4sQq+CLh7PzjkKvZIcptjJfRZO7ojW9mHbhxmR/Qjcn2QC87ArSyYsSqGV\n",
       "hL9YC9qGVzULLDLoT2/WZ4Exh0hxWD/0524Jywepy/gt5gC6SKasIyuqK0ehfzTMS2VoG15V1/B5\n",
       "NdK/kSha1Tn89C3B4WsShCQyVLxLmALP2pIHrSmtcJBcTdSCtuFVzdwDKvQSiaCFDLkFR+fFtPhV\n",
       "gqfgUfzhDbKUrluteXDzFDqMcyJmakHb8KpmvgSD9pCiJRTKZuGd14doDuG18y78I6/E//7NMP7y\n",
       "oLGf4FUKHTo7MXGg5oNow6uaNUkMWlRCvk9fm/fIKn0zgESmVIi4rl8nMW0zFfIlVj3+TSbfrPA/\n",
       "ufLqYeFlFzrCoMNScDYFJ3WXjsulHCqg+tyqv22LbFSn1xj0zvKRqyaVQ1OvNq0o9eeBO5MziwVm\n",
       "zwL0aumUzjPodOaeLfmyJ/HlUsufgEDuEX0n200q6y8GvdmQY5WhqZcvWipieOcF+MIsFqhtfQAP\n",
       "r2jFTIU+PS4fw5hGNc+EfqkPSGXQo1Ej1X8M2lf+NPODU9AWN0FTrzQJp3CyMw9BZNylCIKSWAg9\n",
       "fFGL/OP4OaWFLMOgNyjd8poS4W//A432IYGQ6Ncjpk3QfzNoMa/N1tHJjfCVKLvlyc7BzowemnoR\n",
       "FPj56wkg0MIiuDI6sRDsgIFa0K91kAQLaoPT1dEwDuiyt3qkVehAobRChUYOyfBtRBLN6UG9Jvm7\n",
       "wKNcQWgUYr68Xizs5BMW0Gp6CAsohDB7UzB7/k76D81aTmP8ZxVodf62G2WWoKYH7HsBmMreTH7K\n",
       "ZvdXgFa84MrnaTkMKnRRUQiaWBjg5iyg06x6hOaFJVFZquZugxbl0r3acodD9q9GT0/BqnoE1OoB\n",
       "J3BSqcpWnLPisf4K0MQL/sHH+TD9hxyJtCuiW4OFeHCmDHqsFKimHIVGrkWRiILA+ABQcewrZSFH\n",
       "gt79rnw0qbKes6zTShFVVLaggGYhN1kBmnjxK0cAtiWTyQi/F0hON5WSLsT8PXg1OUyh+VJld8Up\n",
       "tD8D7agkcPzeiIcmhvDSE+rel4yC775jsFToTCuiZ0GFDpGBEZXN704m9yD0x+SZixmgiReX6AmA\n",
       "V420vnowsQAWkfYX9NKUPBWumDtH/8LzPVvG4SYj4yWT8CqW6WlFZcdppD29FnraH9nGgRhjOQ3t\n",
       "WKcPyoFhPDCxoNmXZTktNuuhvdjDKPieNC4dXcbHrmjaOzbroanK/o4058iqURk6nPKuARhRoblp\n",
       "CXpSfAsemFgo2Qdv7dBDB4t66OP4eQy4GSNSjzGu8cpbTRWaqmxMOfAMRcFbdefCYU4r0LXslEEz\n",
       "qNA/Wfh7DTLSZ1rFqRwwbLc6MKftbbeWBw1vk8MadjJs9bLO0OcFk8fpVF17RKGl9n2a9jAXr4p2\n",
       "orwoJyrvj+vY2O6v+Ra0XzfbaVsbiGDZsu2WK+1tHNyNcwVogHHNzr7LW9UIaFfeWehfGviO2zFo\n",
       "f6T+PgItDkMLr9bfx5HMMqDTFav3Mu1Aqu4u3mNrSdHWG9i+5xowt7G6J4sWxA/7Yv8D4TeaMZON\n",
       "pEAAAAAASUVORK5CYII=\n",
       "\" style=\"display:inline;vertical-align:middle;\" /></a><br>(see <a class=\"ProveItLink\" href=\"../../../__pv_it/theorems/d6fe70b82b6e7613d91f10286d10bbe221b7dd540/dependencies.ipynb\">dependencies</a>)<br>"
      ],
      "text/plain": [
       "register_ket_in_qubit_register_space: forall_{n in NaturalPos} [forall_{k in {0...2^{n} - 1}} (|k〉_{n} in (Complex^{2})^{otimes n})]"
      ]
     },
     "execution_count": 2,
     "metadata": {},
     "output_type": "execute_result"
    }
   ],
   "source": [
    "%proving register_ket_in_qubit_register_space"
   ]
  },
  {
   "cell_type": "code",
   "execution_count": null,
   "metadata": {},
   "outputs": [],
   "source": []
  }
 ],
 "metadata": {
  "kernelspec": {
   "display_name": "Python 3",
   "language": "python",
   "name": "python3"
  }
 },
 "nbformat": 4,
 "nbformat_minor": 0
}