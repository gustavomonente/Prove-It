{
 "cells": [
  {
   "cell_type": "markdown",
   "metadata": {},
   "source": [
    "Proof of <a class=\"ProveItLink\" href=\"../../../../../_theory_nbs_/theory.ipynb\">proveit</a>.<a class=\"ProveItLink\" href=\"../../../../_theory_nbs_/theory.ipynb\">physics</a>.<a class=\"ProveItLink\" href=\"../../theory.ipynb\">quantum</a>.<a class=\"ProveItLink\" href=\"../../theorems.ipynb#input_gate_to_ket\">input_gate_to_ket</a> theorem\n",
    "========"
   ]
  },
  {
   "cell_type": "code",
   "execution_count": 1,
   "metadata": {},
   "outputs": [],
   "source": [
    "import proveit\n",
    "theory = proveit.Theory() # the theorem's theory"
   ]
  },
  {
   "cell_type": "code",
   "execution_count": 2,
   "metadata": {},
   "outputs": [
    {
     "data": {
      "text/html": [
       "Under these <a href=\"presumptions.txt\">presumptions</a>, we begin our proof of<br><strong id=\"input_gate_to_ket\">input_gate_to_ket:</strong> <a class=\"ProveItLink\" href=\"../../../__pv_it/theorems/15a838fb8c1711357b6b39871b05e53d8bcb8cab0/expr.ipynb\"><img src=\"data:image/png;base64,iVBORw0KGgoAAAANSUhEUgAAAYYAAAAmCAMAAAD3NcyNAAAAM1BMVEX////f398QEBCIiIhmZma6\n",
       "urrMzMxUVFQiIiJERETc3Nzu7u6qqqp2dnaYmJgyMjIAAADXgvoBAAAAAXRSTlMAQObYZgAAA91J\n",
       "REFUaN7tW9mWoyAQZWTf+f+vHVZjd0gUxHE8h3qyuw1C3bq3FtMANJkxYNo4k7TrY9CefK673h6F\n",
       "A+5xKF7kWRguP9izYACwnQ9yIWDCMNhss8xTCiYMo020KgxxYsIw3lqD21IwYRhvxDXRQQwgw4Sh\n",
       "Ft6w5W5kwYThCjNLy90LvN9JolpWKPFoGITDnhIHO2ThyFAYIHXOojadkzzuhDK3cOWvuF8iBAcV\n",
       "T4YBLBoArVaN+poqjBstGe64yrHkZ5vdrUP8RCwTQ6V9NAzUb1/wEu78e2pgg2HATh/9lEofM6gE\n",
       "TFkG5cjR8AYY3lnZ20m7DQletKgHJB8MwxrSh6sDVrTHlb3Qtb+/hQ2/WdlpKtSgRstgYifaHRoM\n",
       "gz3uMBZ5s+4Qu3xqufLJ4jtgeGNlb+egYmwFYzsS4eBgGHJIY02FgBDBeM0FgZBKINMvpO/0MeKO\n",
       "h58gWoMwVwtmdb5Gd8Dwxso+ky4URzQeigfGEx5FjlhHq7cOhKGEtAacw7C+CNeU+cDQHCCAl6Ka\n",
       "JTXwsgNWJOhFUGO7YdB2Y02Ur7Cy0ysxBtGr2MCps8bqvV4dDEMOaaIAs7keFioNTIzz/UHMB5xv\n",
       "U4MqEUHfglCxG9hQYWWnVyKM4QgweVmn40BZ16+mtb+/lMm66vUn5rlQD/uHxqdo9yd3i6llzHq5\n",
       "4JLRckQIuNneDTBUWNkJQ1xAmwRFCD+UleI8DDtsWHU1SQ61LzLyJV+RGG4y1yMFhjUItbgVhhor\n",
       "z8AgLCB5pRxoGlwtSquuZsnxy8tMRhl2Fa/gkm6NrFlFSbv30+N+UfqRG1ocWmNlJ57J31xQnINK\n",
       "fBjdyMGV0hrSsZX3R5IB+5giTXgRwmlKDcb/3uOkyCtFqzwZ3o4wTqTo86lBnxw9lxBXpUVO4QeM\n",
       "+JRGhsHA3HawFVxtSFIqEl+1IhpefaOAjb+UcFuURrAE3c64kL4DhkGatAp+CXXEP2iSD1o6DgZJ\n",
       "rXNUb+REUKOC/GDfQYh0C4RKUEjClCUNHV/CozlFP8lpyb+HocbKLsOlGTdloBF9TWppgNuhbKjH\n",
       "Fzsy4KupK7tjmFFhZZeZ3+/fSDgOqcqPXq6HYad7Mh//fMtor8bKvmXeXIup1uYrBS+EQe4VxfwD\n",
       "HR4+6G6pz8ZMM745SbG9cbHk+/A8D4Y2z3J6NRsOlHbVDZtnvwRVTd+1MMv9MPwXTxhtbd+1kCPG\n",
       "GROGSivQ5ldoJwwXGGxVmfPfJJ4wVLzaWvoYO2EYT4Z2p/LTvcr8N5Pftd/SPgqRjIBpQ3sG1lP3\n",
       "CCam60Ya7+uJxaTDUDKUl9h/AfJBMOmfVWoJAAAAAElFTkSuQmCC\n",
       "\" style=\"display:inline;vertical-align:middle;\" /></a><br>(see <a class=\"ProveItLink\" href=\"../../../__pv_it/theorems/88facca0cd9bc93a5205c4a3b9878915d098afd50/dependencies.ipynb\">dependencies</a>)<br>"
      ],
      "text/plain": [
       "input_gate_to_ket: forall_{U} (Gate(Input(U)) = Input(U))"
      ]
     },
     "execution_count": 2,
     "metadata": {},
     "output_type": "execute_result"
    }
   ],
   "source": [
    "%proving input_gate_to_ket"
   ]
  },
  {
   "cell_type": "code",
   "execution_count": null,
   "metadata": {},
   "outputs": [],
   "source": []
  }
 ],
 "metadata": {
  "kernelspec": {
   "display_name": "Python 3",
   "language": "python",
   "name": "python3"
  }
 },
 "nbformat": 4,
 "nbformat_minor": 0
}