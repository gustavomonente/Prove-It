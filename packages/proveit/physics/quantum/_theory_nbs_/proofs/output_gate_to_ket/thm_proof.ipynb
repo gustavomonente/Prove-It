{
 "cells": [
  {
   "cell_type": "markdown",
   "metadata": {},
   "source": [
    "Proof of <a class=\"ProveItLink\" href=\"../../../../../_theory_nbs_/theory.ipynb\">proveit</a>.<a class=\"ProveItLink\" href=\"../../../../_theory_nbs_/theory.ipynb\">physics</a>.<a class=\"ProveItLink\" href=\"../../theory.ipynb\">quantum</a>.<a class=\"ProveItLink\" href=\"../../theorems.ipynb#output_gate_to_ket\">output_gate_to_ket</a> theorem\n",
    "========"
   ]
  },
  {
   "cell_type": "code",
   "execution_count": 1,
   "metadata": {},
   "outputs": [],
   "source": [
    "import proveit\n",
    "theory = proveit.Theory() # the theorem's theory"
   ]
  },
  {
   "cell_type": "code",
   "execution_count": 2,
   "metadata": {},
   "outputs": [
    {
     "data": {
      "text/html": [
       "Under these <a href=\"presumptions.txt\">presumptions</a>, we begin our proof of<br><strong id=\"output_gate_to_ket\">output_gate_to_ket:</strong> <a class=\"ProveItLink\" href=\"../../../__pv_it/theorems/dd00e53039de2d651fece50f00b02ee46edfcf080/expr.ipynb\"><img src=\"data:image/png;base64,iVBORw0KGgoAAAANSUhEUgAAAZQAAAAmCAMAAADUbp1YAAAAM1BMVEX////f398QEBCIiIhmZma6\n",
       "urrMzMxUVFQiIiJERETc3Nzu7u6qqqp2dnaYmJgyMjIAAADXgvoBAAAAAXRSTlMAQObYZgAAA+9J\n",
       "REFUaN7tW9mWoyAQZVgFZPn/rx02Nd2WGgym9RzqpZOACnXr1oaNUJVYi7pcJVqcuoy4Tx/svyvP\n",
       "QoWdUS/D+mNQvrrLh4GCSD1XNOaog3KpuOrwIATqoFwrqtYXca86KFdLreE7gTooVwv3VVRRLYjS\n",
       "QTk0fVIzmzrUQbleLK6Zjcnd1KSgVGVUzwZFeRbo8ma1rjxvDYom1Bh6ukegZVyWGDyWY/gkvU/U\n",
       "F+rRoCBsEDLj7M12Q4z1rR2KcQlmAbnFYS9+lUGX/5hoWqnyylTW7tmgRH0oOVFB7oeUoS0o2k3P\n",
       "w3Ttg/a0WQZtucxNc2kxKkPuCsqa1lBV718IslAGNk/ZFhQ3gyx8XVJRBicy+WlhYm483Jcpv2kN\n",
       "2lzYmDU6ijpggqdNQZlXFz+uotVg9swjDU7rZb5sT8/XOHZbUFa0hiqVMZlalF09xFmkJSjKL1yg\n",
       "EZ8Q9Emyco0YlV6Gb8xIxQkRGhpEhP6C1C4o09uCsqI1kL/4mPqItCsZvQGXydVx5wU4tRko5uV2\n",
       "LvKVIoYnh1qihkFiCEZjJDSIZLnBMDmrhcnWnQbFuBehzTEBaL1h/owuOQvLVT4b1xlxU1CGxWVp\n",
       "j1PJkUKFlHPUUGNu7FgPDIY7jOVqsbK9cbgrUwBaAypKgMU9kKxzk/dDNOzp6vS/c+zklxYPiYvQ\n",
       "pTjNFWpypeGn9Ezj/60HwxdWwmIxFkVe1vpHoByeswG03orexmZgojHm2QY1AGWfKTNRMF44ypMl\n",
       "6ZIEZNpKDA4WUGbbM+rvQTksdwFab4GiHOJlVrE7gy52X2JmiihaTRwlOIORiZJ+0nGNwGBxX8av\n",
       "t8nOu68fMUW0BgWiNYBc1r5UghUbUxtNJd02++LT8ubUWIocNawOmgnrD1ClSGvjsQ8wWAL9WNB9\n",
       "ba58EOi/FFKM2utnlZ1N5Xo2RmTVVvhpVqeQdLSspZseRUV8B4BGkoaPmpT8kad5wOCU9ybklHgt\n",
       "dai5LShveK85UEw0oHLDewUfLpqCEhwmNZQuSYgWhIxKEB4bPqk3yjwjhCp4cPFRRgr6k8WO3xQU\n",
       "iNZA2lyUYqdWS9I8h8KHdG1BecOu9nsMmz1LPdy2zQLQeiX299kjj/vhoKMy+NugHBRvdmv4vg1J\n",
       "iNZvKJoJY+wu9b4Gij5KwiVMlae37muSvkZ9lrfVNA7+4Lhay0OsHghKnZ6l+C5TjgU8DrYPPw4e\n",
       "q95PsfhuoNztaU2k7v0U3aTR0kE5EFynZeI6KJcLqfVHDd7v7qAc6bg2nbKug3I1UepVLD9vSvZ/\n",
       "GtrNJ3H9q8F64KjLhTXKcCaXUoPqqrtO5Ln6XHWqXEiUqWf+H6QPNb8FlbvdAAAAAElFTkSuQmCC\n",
       "\" style=\"display:inline;vertical-align:middle;\" /></a><br>(see <a class=\"ProveItLink\" href=\"../../../__pv_it/theorems/ae36d733fbd75e5b0ad033f6e27e71bc8c53b0d40/dependencies.ipynb\">dependencies</a>)<br>"
      ],
      "text/plain": [
       "output_gate_to_ket: forall_{U} (Gate(Output(U)) = Output(U))"
      ]
     },
     "execution_count": 2,
     "metadata": {},
     "output_type": "execute_result"
    }
   ],
   "source": [
    "%proving output_gate_to_ket"
   ]
  },
  {
   "cell_type": "code",
   "execution_count": null,
   "metadata": {},
   "outputs": [],
   "source": []
  }
 ],
 "metadata": {
  "kernelspec": {
   "display_name": "Python 3",
   "language": "python",
   "name": "python3"
  }
 },
 "nbformat": 4,
 "nbformat_minor": 0
}