{
 "cells": [
  {
   "cell_type": "markdown",
   "metadata": {},
   "source": [
    "Proof of <a class=\"ProveItLink\" href=\"../../../../../_theory_nbs_/theory.ipynb\">proveit</a>.<a class=\"ProveItLink\" href=\"../../../../_theory_nbs_/theory.ipynb\">physics</a>.<a class=\"ProveItLink\" href=\"../../theory.ipynb\">quantum</a>.<a class=\"ProveItLink\" href=\"../../theorems.ipynb#scaled_qubit_register_state_in_qubit_register_space\">scaled_qubit_register_state_in_qubit_register_space</a> theorem\n",
    "========"
   ]
  },
  {
   "cell_type": "code",
   "execution_count": 1,
   "metadata": {},
   "outputs": [],
   "source": [
    "import proveit\n",
    "theory = proveit.Theory() # the theorem's theory"
   ]
  },
  {
   "cell_type": "code",
   "execution_count": 2,
   "metadata": {},
   "outputs": [
    {
     "data": {
      "text/html": [
       "Under these <a href=\"presumptions.txt\">presumptions</a>, we begin our proof of<br><strong id=\"scaled_qubit_register_state_in_qubit_register_space\">scaled_qubit_register_state_in_qubit_register_space:</strong> <a class=\"ProveItLink\" href=\"../../../__pv_it/theorems/0dfe56b4534864d262742b572844c87cb5f742b90/expr.ipynb\"><img src=\"data:image/png;base64,iVBORw0KGgoAAAANSUhEUgAAAaAAAAAmBAMAAABwhlIbAAAAMFBMVEX///8QEBCIiIhmZma6urrM\n",
       "zMxUVFQiIiJERETc3Nzu7u6qqqp2dnaYmJgyMjIAAAAcRTyBAAAAAXRSTlMAQObYZgAABohJREFU\n",
       "WMPNWX9sE1Uc//baW3u3uw0S0TAhFpagDNAaJJIFtJuKGo0UDAqBQDNFo3+QRYiAGFzAaAE1VWIk\n",
       "gOkJOsgYbhFqhkK4bWJ0oqsOIuim1T8UieICGgU0+H3vru1r37W9dk3sS/r27u77fe99vr/e9/sG\n",
       "kL+9NXocFNzsMA1BKVor7W8eXWN2NvZWzDI2mIR4SQC5zGlqkl2+tqeYZWwwNWjFo5CnHvcmxpPK\n",
       "BJA8ZgRqWQLQHjbHVbHyAFQRLHhSZWa9OerVoF2HgZMTfQBSTXkAWhYueNJPYYXpflq9rO+HE+Nh\n",
       "LD49Vh6AfrI7lehPjNaiFAQKCJxLQJB2NcMlIhqtHABJF+1O9VBytAoifleQAkI7E6DC6xpFnMhb\n",
       "DoCctoP2WWZ8VIPPKaCdiiaAI+DUAwDqqHIA5KBilWIZrw/xyL3Mw1MAbjSwykU61C+GCLjvQ0DS\n",
       "HwygeP4jG/dmg6pQpkiA9Hu52MeFigjxEOHn36/ZiGEOg5qAPziOQHWYAwLRF4xjAH2WqVTLvdmg\n",
       "KpTpe9r/wp1OnCX2kriwrFO+fQBggCh1GLt2PzSmzuUVDKBthKQl395sUBXKdCvpVB/3vifzxbX4\n",
       "izUh7QVw6S7U6zrytrHHnyK5iQFUhTiVznx7s0FVKNMa0rnDWZPAU6tXU2VJGJjVANntI7D0wy6c\n",
       "cybHczScAqT2tbW9kXdvNqgKZbpAOovPVYbkF9aZzySEOamid8F1V67g3wn8Gd3JRLm/Q6FnLdbT\n",
       "0wNWFqrcUS4n03nS1VIjq6UY5IlPNPYYfo8PZ9nw3iqypjmXS2o7Ygyg5QCbLNbzpe8tC1Uqhx/6\n",
       "lgeUi0n+l/QvEy355bEyirgdvvauR43E04OdB5Wz08WG7mWBzMmqvQygOywCCw+Io5LMrPeTMJD5\n",
       "p4AU5ABxTJUvPd6U4KeAiH+jEjcKKPQ+6NfuRZpmCiNlgjjv1jRAET8HSGcAuUFgDzdx5UcwIcgB\n",
       "yqBKmmSL2AwHkasxrOyAgSODWZnkw9Nj8kJN/DWxzmXSX4UmhU5/m4JjDUL0A4nKMO8cNioNN+5k\n",
       "r6izBsYD8jGAlJg7+WFf72zoUjSn1jt95fROdm8sVcIkuj5+2huXh8EZBhUm6yq81+KGbEynDrWB\n",
       "uhPgcCYgB5pUd1/KrQxA21Ia8pF4GcytIRaQFE8mf+qW7Roc8foU3uQYKiJrUmC9sxmW6sRC5CAC\n",
       "cmMaXBFYaMGkTEXxush8d0WTppoyuQ782k+FJ/5JvZGanCM5kSdIjisCSM5ad3SwJgebHkWO2fNr\n",
       "ic1ji0ZfswBEqVKyJv5+GtHo8G6YHPcq6JMFNLFpfp5pFTQpUEUevznNBIXzZlCoRqvsJuMPhGGo\n",
       "SwSFVAJXQSL2hkbsHsga5SJslIMDKBK1IeYIG8lXVNm/xAIQoYKeGZMCVNbQDK7FGAzC8pP4MA2k\n",
       "QRAOQiscjnFMzhb47k7YTbfMZp7/mGmNE/XbL6JmLnuGSarqNNxlXfIqhaTSzjN9ctdm882Xuc8h\n",
       "GvO2Xw/Vmky3GgW91wIQoRK0FW4/lbXUDOp+ovndbbj++wBHIC0QMUyOTmjwwcOhUMi7YwFDcDXp\n",
       "7iZ55lDMieeP3FRXSzLZKiMotz5v6sFFSjh48Ie/ZiQ4+Uxhrp8FpBLOJmgAcU0otAEBvUlcOZCx\n",
       "N0Ilwm9gyNrVApX7CKDnrqAS7kGEQyctygfCVB0mFWUFtaNdKUeAV7KkPom64/4XjdSHBI709iOf\n",
       "6GpcPTQGZokQNDTkmp+1tMEqk8oay0YpmsS8NFc9VOWX+2VQCLE0K5DKPbvtJqezMo/kSxxPN1fg\n",
       "YUq+KgrHyPAEwGA2QOKwaMhaRE+t95Kzg7Q5uQBJs79yYiGxhYzbz70QYGpPsMgk+FN+XsazGrS+\n",
       "nkgDhBKfGgMP+pZrvd/Ys8XeIkpcMWQto6FtPQaK4TeDNipWAfXK5198gefhjLAiI2F3B6zTKKsS\n",
       "/Ab0oRx7az3R02fK+hmc5oszy433txRTgnuCliX4acinM158lRdHdKdAZT2FfRMvBpBxs2GnHUhP\n",
       "Iluy3LeM7JLEwwooVgwg+bJdQJVpqY6TvxF3dI4ckIsBsbu4q6IboVRtQiluTplDv644QI5AqQCN\n",
       "L4+rYDVeIjzm/5n+//8PbSgRoFfDZQJoT2lsTjbzWPuAOkJFyNIGk7S2JIA8MeMIvWR2+Zu4YFHh\n",
       "y9hher0kgN425loQoN1/U3Tnnc44VAAAAAAASUVORK5CYII=\n",
       "\" style=\"display:inline;vertical-align:middle;\" /></a><br>(see <a class=\"ProveItLink\" href=\"../../../__pv_it/theorems/8a6a3808fe4e6789208e9d17a7c7d64b4006fc090/dependencies.ipynb\">dependencies</a>)<br>"
      ],
      "text/plain": [
       "scaled_qubit_register_state_in_qubit_register_space: forall_{n in NaturalPos} [forall_{x in (Complex^{2})^{otimes n}} [forall_{alpha in Complex} ((alpha * x) in (Complex^{2})^{otimes n})]]"
      ]
     },
     "execution_count": 2,
     "metadata": {},
     "output_type": "execute_result"
    }
   ],
   "source": [
    "%proving scaled_qubit_register_state_in_qubit_register_space"
   ]
  },
  {
   "cell_type": "code",
   "execution_count": null,
   "metadata": {},
   "outputs": [],
   "source": []
  }
 ],
 "metadata": {
  "kernelspec": {
   "display_name": "Python 3",
   "language": "python",
   "name": "python3"
  }
 },
 "nbformat": 4,
 "nbformat_minor": 0
}