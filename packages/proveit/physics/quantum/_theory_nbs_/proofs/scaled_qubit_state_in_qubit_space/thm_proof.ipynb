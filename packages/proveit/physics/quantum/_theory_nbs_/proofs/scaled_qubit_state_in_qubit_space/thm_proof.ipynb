{
 "cells": [
  {
   "cell_type": "markdown",
   "metadata": {},
   "source": [
    "Proof of <a class=\"ProveItLink\" href=\"../../../../../_theory_nbs_/theory.ipynb\">proveit</a>.<a class=\"ProveItLink\" href=\"../../../../_theory_nbs_/theory.ipynb\">physics</a>.<a class=\"ProveItLink\" href=\"../../theory.ipynb\">quantum</a>.<a class=\"ProveItLink\" href=\"../../theorems.ipynb#scaled_qubit_state_in_qubit_space\">scaled_qubit_state_in_qubit_space</a> theorem\n",
    "========"
   ]
  },
  {
   "cell_type": "code",
   "execution_count": 1,
   "metadata": {},
   "outputs": [],
   "source": [
    "import proveit\n",
    "theory = proveit.Theory() # the theorem's theory"
   ]
  },
  {
   "cell_type": "code",
   "execution_count": 2,
   "metadata": {},
   "outputs": [
    {
     "data": {
      "text/html": [
       "Under these <a href=\"presumptions.txt\">presumptions</a>, we begin our proof of<br><strong id=\"scaled_qubit_state_in_qubit_space\">scaled_qubit_state_in_qubit_space:</strong> <a class=\"ProveItLink\" href=\"../../../__pv_it/theorems/f03f2c285577fecda9ba11756962cf92bfe48d090/expr.ipynb\"><img src=\"data:image/png;base64,iVBORw0KGgoAAAANSUhEUgAAAPQAAAAcBAMAAACkFo8iAAAAMFBMVEX///8QEBCIiIhmZma6urrM\n",
       "zMxUVFQiIiJERETc3Nzu7u6qqqp2dnaYmJgyMjIAAAAcRTyBAAAAAXRSTlMAQObYZgAAA6NJREFU\n",
       "SMfFVl9IU1EY/7bd7Xrv7p0+9BAUtSR8CKlL/5CYtv5IEIGLMHsIFCmsl5CSVhQyCmqroD1EBRXe\n",
       "FHxQyYFEWD4MewlNWllQoTaiHrISg6DUxL5z7r3z3u12t8HIA9vOPfud73e/7/ud73wA/3c8vSjD\n",
       "0gwh6krmjm4KRq0BTn/uxtiocwbsOGGC57Ojm7MBDubhNevnfgLTQKY3C0A9mVfI3bMAIwWidnjx\n",
       "6146wT+TxCKclSk1zfq4JbU1pA3t8KH01eMZuPWtP85IKHGc2iVKPZwtZs1ZIMSWJ8PJB+kLtXPQ\n",
       "MS+BSFi5aUp9m0xDltTWkBX4Gc08RV7js+jChQ8S7INqfDpHqT0YLyFmSW0J4VA2cDZjmS9RKS8H\n",
       "W8nvGxsacUnOr0+u4FMFpRaHurpuWcvMEiIiB2cixU/Kmb+gFi+JhI732hYWSLDXKAr/HQ5nnG7n\n",
       "84he4WaQlMCTqmyE0s10ob3sRrlXkQCmXGXmGw7oN9XIlPooQCTdXhHU6anNICkoiqAogZ63wP1o\n",
       "N5LExZMsvs6EQehcfKd+U32AUu8C3lBW3deaGj3Qq6dOh1CMOvVgaWJRCGwciqR16LwszDIo+Ef0\n",
       "X02cnGSgbvNTahbsCU0bA5sS/CHZ+U3bqVLrIHqMUiIw2Da0tF3G2MfxfxoHdIwmbtUUDrIrdFhP\n",
       "3atQCwlWW3nb3wXiXYAB4L/oqXUQHUb1WqVejrCVNLPF3hT14pGcdJl4zSVJ/R/cUhZgiFqqH+IS\n",
       "dMp6agUilKNTOoyaayXg/B8EzKUSCbCHzks0K6OUWrNaH1VqeOQIalQ+wfo9ZPX9OxKfbT2GGk4g\n",
       "0AKNAixi1OFSZTaP1ITILW9Aa5rMNqbUuBZjwSSNCoc+NO6E7wAdZPVxP0ngwi8DNYE4QjCxW4dR\n",
       "hx35BAzFVoCxafS3JnadXiY+RQmpSlR1Te4Oa16/VG8uJTczAHXhcNh7p9bk5iIQWwx2SJkYBqsZ\n",
       "Q/QwMg4+hHWWtlcSTX5WRHlsr1YqqlafCmibKlRqkbyLc9oJNB2OdqLSNGoCKY5CvWyCWWZeSNUC\n",
       "xzxTCqlxfNTd121CUgCBvBXnC8Cg2X3t8fMveBOML6frw/heszrqzteDQwBXybRn6lLAjJqrfOUY\n",
       "NsHsJyLKfmka6n5DRpdixzxm61IyMK6YWasQsezQAoVpkGiNTW+QRMsudqxQbWFfvs24UuNyoA5m\n",
       "68Pd/jypHTLpw0/D0o2/pQ8LYRys8coAAAAASUVORK5CYII=\n",
       "\" style=\"display:inline;vertical-align:middle;\" /></a><br>(see <a class=\"ProveItLink\" href=\"../../../__pv_it/theorems/69ab9c029f9953ac81c8063334719870e1b317db0/dependencies.ipynb\">dependencies</a>)<br>"
      ],
      "text/plain": [
       "scaled_qubit_state_in_qubit_space: forall_{x in Complex^{2}} [forall_{alpha in Complex} ((alpha * x) in Complex^{2})]"
      ]
     },
     "execution_count": 2,
     "metadata": {},
     "output_type": "execute_result"
    }
   ],
   "source": [
    "%proving scaled_qubit_state_in_qubit_space"
   ]
  },
  {
   "cell_type": "code",
   "execution_count": null,
   "metadata": {},
   "outputs": [],
   "source": []
  }
 ],
 "metadata": {
  "kernelspec": {
   "display_name": "Python 3",
   "language": "python",
   "name": "python3"
  }
 },
 "nbformat": 4,
 "nbformat_minor": 0
}