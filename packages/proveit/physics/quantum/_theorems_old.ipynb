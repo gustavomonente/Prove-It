{
 "cells": [
  {
   "cell_type": "code",
   "execution_count": null,
   "metadata": {},
   "outputs": [],
   "source": [
    "import proveit.specialStatementMagic # for %begin_axioms and %end_axioms\n",
    "from proveit.expression import Operation\n",
    "from proveit.basiclogic import Forall, Equals, In, Implies, Iff, And\n",
    "from proveit.linalg import ScalarProd, TensorProd, TensorExp\n",
    "from proveit.physics.quantum import Bra, Ket, RegisterBra, RegisterKet, Meas, Circuit, Input, Output, Gate, MultiWire\n",
    "from proveit.physics.quantum.common import I, H, Hgate, CTRL_DN, WIRE_DN, WIRE_LINK, PASS, \\\n",
    "    QubitSpace, QubitRegisterSpace, RegisterSU, ket0, ket1, ketPlus, invRoot2\n",
    "from proveit.common import a, b, c, d, f, k, l, m, n, u, x, y, z, N, U, X, alpha, Psi, xEtc\n",
    "from proveit.number.common import zero, one, two\n",
    "from proveit.number import NaturalsPos, Complexes\n",
    "from proveit.number import fraction, Exponentiate, sqrt, Add, subtract, Abs, DiscreteContiguousSet, Summation, sqrt,\\\n",
    "    Multiply\n",
    "from proveit.statistics import Prob\n",
    "from proveit.linalg import ScalarProd, MatrixProd, SU"
   ]
  },
  {
   "cell_type": "code",
   "execution_count": null,
   "metadata": {},
   "outputs": [],
   "source": [
    "def controlledNgate(a, b, x, y):\n",
    "    return Circuit([[Input(a), PASS, CTRL_DN, Output(b)],\n",
    "                    [Input(x), MultiWire(n), Gate(U), Output(y)]])"
   ]
  },
  {
   "cell_type": "code",
   "execution_count": null,
   "metadata": {},
   "outputs": [],
   "source": [
    "pregatedControlledNgate = Circuit([[Input(a), Gate(u), CTRL_DN, Output(b)],\n",
    "                                   [Input(x), MultiWire(n), Gate(U), Output(y)]])\n",
    "pregatedControlledNgate"
   ]
  },
  {
   "cell_type": "code",
   "execution_count": null,
   "metadata": {},
   "outputs": [],
   "source": [
    "pregatedControlledNgateWithMerge = Circuit([[Input(c), MultiWire(k), PASS, WIRE_DN, PASS, PASS],\n",
    "                                            [Input(a), Gate(u), CTRL_DN, WIRE_LINK, MultiWire(Add(k, one)), Output(d)],\n",
    "                                            [Input(x), MultiWire(n), Gate(U), Output(y), PASS, PASS]])\n",
    "pregatedControlledNgateWithMerge"
   ]
  },
  {
   "cell_type": "code",
   "execution_count": null,
   "metadata": {},
   "outputs": [],
   "source": [
    "%begin_theorems"
   ]
  },
  {
   "cell_type": "code",
   "execution_count": null,
   "metadata": {},
   "outputs": [],
   "source": [
    "# transferred Mon 2/24/2020 by wdc\n",
    "unitaryHadamard = In(H, SU(two))\n",
    "unitaryHadamard"
   ]
  },
  {
   "cell_type": "code",
   "execution_count": null,
   "metadata": {},
   "outputs": [],
   "source": [
    "# transferred Mon 2/24/2020 by wdc\n",
    "ketPlusDistributed = Equals(ketPlus, Add(ScalarProd(invRoot2, ket0), ScalarProd(invRoot2, ket1)))\n",
    "ketPlusDistributed"
   ]
  },
  {
   "cell_type": "code",
   "execution_count": null,
   "metadata": {},
   "outputs": [],
   "source": [
    "# transferred Mon 2/24/2020 by wdc\n",
    "scaledQubitStateInQubitSpace = Forall(x, Forall(alpha, In(ScalarProd(alpha, x), QubitSpace),\n",
    "                                               domain=Complexes),\n",
    "                                      domain=QubitSpace)\n",
    "scaledQubitStateInQubitSpace"
   ]
  },
  {
   "cell_type": "code",
   "execution_count": null,
   "metadata": {},
   "outputs": [],
   "source": [
    "# transferred Mon 2/24/2020 by wdc\n",
    "transformedQubitStateInQubitSpace = Forall(x, Forall(U, In(MatrixProd(U, x), QubitSpace),\n",
    "                                                     domain=SU(two)),\n",
    "                                           domain=QubitSpace)\n",
    "transformedQubitStateInQubitSpace"
   ]
  },
  {
   "cell_type": "code",
   "execution_count": null,
   "metadata": {},
   "outputs": [],
   "source": [
    "# transferred Mon 2/24/2020 by wdc\n",
    "summedQubitStateInQubitSpace = Forall(xEtc, In(Add(xEtc), QubitSpace), domain=QubitSpace)\n",
    "summedQubitStateInQubitSpace"
   ]
  },
  {
   "cell_type": "code",
   "execution_count": null,
   "metadata": {},
   "outputs": [],
   "source": [
    "# transferred Tues 2/25/2020 by wdc\n",
    "scaledQubitRegisterStateInQubitRegisterSpace = Forall(n,\n",
    "                                                      Forall(x, \n",
    "                                                             Forall(alpha, \n",
    "                                                                    In(ScalarProd(alpha, x), QubitRegisterSpace(n)),\n",
    "                                                                    domain=Complexes),\n",
    "                                                             domain=QubitRegisterSpace(n)),\n",
    "                                                      domain=NaturalsPos)\n",
    "scaledQubitRegisterStateInQubitRegisterSpace"
   ]
  },
  {
   "cell_type": "code",
   "execution_count": null,
   "metadata": {},
   "outputs": [],
   "source": [
    "# transferred Tues 2/25/2020 by wdc\n",
    "registerKetInQubitRegisterSpace = Forall(n, Forall(k, In(RegisterKet(k, n), QubitRegisterSpace(n)),\n",
    "                                                   domain = DiscreteContiguousSet(zero, subtract(Exponentiate(two, n), one))),\n",
    "                                         domain=NaturalsPos)\n",
    "registerKetInQubitRegisterSpace                               "
   ]
  },
  {
   "cell_type": "code",
   "execution_count": null,
   "metadata": {},
   "outputs": [],
   "source": [
    "# transferred Tues 2/25/2020 by wdc\n",
    "registerQubitComplexAmplitude = Forall(n, Forall(k, Forall(Psi,\n",
    "                                                           In(MatrixProd(RegisterBra(k, n), \n",
    "                                                                         Ket(Psi)),\n",
    "                                                             Complexes),\n",
    "                                                          conditions = [In(Ket(Psi), QubitRegisterSpace(n))]),\n",
    "                                                 domain=DiscreteContiguousSet(zero, subtract(Exponentiate(two, n),\n",
    "                                                                                             one))),\n",
    "                                       domain=NaturalsPos)\n",
    "registerQubitComplexAmplitude"
   ]
  },
  {
   "cell_type": "code",
   "execution_count": null,
   "metadata": {},
   "outputs": [],
   "source": [
    "# transferred Tues 2/25/2020 by wdc\n",
    "registerQubitBornRule = Forall(n, Forall(k, Forall((Psi, m), \n",
    "                                                   Equals(Prob(Equals(m, k), m), \n",
    "                                                          Exponentiate(Abs(MatrixProd(RegisterBra(k, n), \n",
    "                                                                                      Ket(Psi))),\n",
    "                                                                      two)),\n",
    "                                                   conditions = [In(Ket(Psi), QubitRegisterSpace(n)),\n",
    "                                                                 Equals(m, Meas(Ket(Psi)))]),\n",
    "                                         domain=DiscreteContiguousSet(zero, subtract(Exponentiate(two, n), one))),\n",
    "                               domain=NaturalsPos)\n",
    "registerQubitBornRule                                     "
   ]
  },
  {
   "cell_type": "code",
   "execution_count": null,
   "metadata": {},
   "outputs": [],
   "source": [
    "# transferred Tues 2/25/2020 by wdc\n",
    "registerQubitAllProbs = Forall(n, Forall((Psi, m), \n",
    "                                         Equals(Summation(k, Prob(Equals(m, k), m), \n",
    "                                                          domain=DiscreteContiguousSet(zero, \n",
    "                                                                                       subtract(Exponentiate(two, n), \n",
    "                                                                                                one))),\n",
    "                                                one),\n",
    "                                         conditions = [In(Ket(Psi), QubitRegisterSpace(n)),\n",
    "                                                       Equals(m, Meas(Ket(Psi)))]),\n",
    "                               domain=NaturalsPos)\n",
    "registerQubitAllProbs"
   ]
  },
  {
   "cell_type": "code",
   "execution_count": null,
   "metadata": {},
   "outputs": [],
   "source": [
    "# transferred Tues 2/25/2020 by wdc\n",
    "pregatedControlledNgateEquiv = Forall(n, \n",
    "                                     Forall(U, \n",
    "                                            Forall(u,\n",
    "                                                   Forall((a, b),\n",
    "                                                          Forall((x, y),\n",
    "                                                                 Equals(pregatedControlledNgate,\n",
    "                                                                        controlledNgate(MatrixProd(u, a), b, x, y)),\n",
    "                                                                 domain=QubitRegisterSpace(n)),\n",
    "                                                          domain=QubitSpace),\n",
    "                                                   domain=SU(two)),\n",
    "                                            domain=RegisterSU(n)), \n",
    "                                        domain=NaturalsPos)\n",
    "pregatedControlledNgateEquiv"
   ]
  },
  {
   "cell_type": "code",
   "execution_count": null,
   "metadata": {},
   "outputs": [],
   "source": [
    "# transferred Tues 2/25/2020 by wdc\n",
    "controlledNgateEquiv = Forall(n, \n",
    "                             Forall(U, \n",
    "                                    Forall((a, b, c),\n",
    "                                           Forall((x, y, z),\n",
    "                                                  Iff(Equals(controlledNgate(a, b, x, y),\n",
    "                                                             controlledNgate(a, c, x, z)),\n",
    "                                                      Equals(TensorProd(b, y), TensorProd(c, z))),\n",
    "                                                  domain=QubitRegisterSpace(n)),\n",
    "                                           domain=QubitSpace),\n",
    "                                    domain=RegisterSU(n)), \n",
    "                             domain=NaturalsPos)\n",
    "controlledNgateEquiv"
   ]
  },
  {
   "cell_type": "code",
   "execution_count": null,
   "metadata": {},
   "outputs": [],
   "source": [
    "# transferred Tues 2/25/2020 by wdc\n",
    "superpositionControlledNgate = Forall(n, \n",
    "                             Forall(U, \n",
    "                                    Forall((a, b, c, d),\n",
    "                                           Forall((x, y),\n",
    "                                                  Implies(And(controlledNgate(a, c, x, y),\n",
    "                                                              controlledNgate(b, d, x, y)),\n",
    "                                                          controlledNgate(Add(a, b), Add(c, d), x, y)),\n",
    "                                                  domain=QubitRegisterSpace(n)),\n",
    "                                           domain=QubitSpace),\n",
    "                                    domain=RegisterSU(n)), \n",
    "                             domain=NaturalsPos)\n",
    "superpositionControlledNgate"
   ]
  },
  {
   "cell_type": "code",
   "execution_count": null,
   "metadata": {},
   "outputs": [],
   "source": [
    "# transferred Tues 2/25/2020 by wdc\n",
    "pregatedControlledNgateMerger = Forall((n, k), \n",
    "                                       Forall(U, \n",
    "                                              Forall(u,\n",
    "                                                     Forall((a, b),\n",
    "                                                            Forall(c,\n",
    "                                                                   Forall(d,\n",
    "                                                                          Forall((x, y),\n",
    "                                                                                 Implies(pregatedControlledNgate,\n",
    "                                                                                         Implies(pregatedControlledNgateWithMerge,\n",
    "                                                                                                 Equals(d, TensorProd(c, b)))),\n",
    "                                                                                 domain=QubitRegisterSpace(n)),\n",
    "                                                                          domain=QubitRegisterSpace(Add(k, one))),\n",
    "                                                                   domain=QubitRegisterSpace(k)),\n",
    "                                                          domain=QubitSpace),\n",
    "                                                   domain=SU(two)),\n",
    "                                            domain=RegisterSU(n)), \n",
    "                                        domain=NaturalsPos)\n",
    "pregatedControlledNgateMerger\n"
   ]
  },
  {
   "cell_type": "code",
   "execution_count": null,
   "metadata": {},
   "outputs": [],
   "source": [
    "# transferred Tues 2/25/2020 by wdc\n",
    "registerBraOverSummedKet = Forall(n,\n",
    "                                  Forall(U, \n",
    "                                      Forall(l,\n",
    "                                        Forall(f, \n",
    "                                             Equals(MatrixProd(RegisterBra(l, n), \n",
    "                                                               MatrixProd(U, \n",
    "                                                                          Summation(k, ScalarProd(Operation(f, k), RegisterKet(k, n)),\n",
    "                                                                                    domain=DiscreteContiguousSet(zero, subtract(Exponentiate(two, n), one))))),\n",
    "                                                    Summation(k, Multiply(Operation(f, k), \n",
    "                                                                            MatrixProd(RegisterBra(l, n), U, RegisterKet(k, n))),\n",
    "                                                             domain=DiscreteContiguousSet(zero, subtract(Exponentiate(two, n), one))))),\n",
    "                                            domain=DiscreteContiguousSet(zero, subtract(Exponentiate(two, n), one))),\n",
    "                                         domain=SU(Exponentiate(two, n))),\n",
    "                                  domain=NaturalsPos)\n",
    "registerBraOverSummedKet"
   ]
  },
  {
   "cell_type": "code",
   "execution_count": null,
   "metadata": {},
   "outputs": [],
   "source": [
    "%end_theorems"
   ]
  },
  {
   "cell_type": "code",
   "execution_count": null,
   "metadata": {},
   "outputs": [],
   "source": []
  },
  {
   "cell_type": "code",
   "execution_count": null,
   "metadata": {},
   "outputs": [],
   "source": []
  }
 ],
 "metadata": {
  "kernelspec": {
   "display_name": "Python 3",
   "language": "python",
   "name": "python3"
  }
 },
 "nbformat": 4,
 "nbformat_minor": 0
}
