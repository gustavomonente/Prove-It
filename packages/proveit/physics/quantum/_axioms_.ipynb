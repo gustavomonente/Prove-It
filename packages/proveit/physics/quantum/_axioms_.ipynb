{
 "cells": [
  {
   "cell_type": "markdown",
   "metadata": {},
   "source": [
    "Axioms for the theory of <a class=\"ProveItLink\" href=\"_theory_.ipynb\">proveit.physics.quantum</a>\n",
    "========"
   ]
  },
  {
   "cell_type": "code",
   "execution_count": null,
   "metadata": {},
   "outputs": [],
   "source": [
    "import proveit\n",
    "# Prepare this notebook for defining the axioms of a theory:\n",
    "%axioms_notebook # Keep this at the top following 'import proveit'.\n",
    "from proveit._common_ import k, n, x, y, alpha, U, f, fx, fy\n",
    "from proveit.linalg import MatrixProd, TensorProd\n",
    "from proveit.logic import Equals, Forall, Iff, InSet\n",
    "from proveit.number import zero, one, two, frac, Integers, NaturalPos # Complexes\n",
    "from proveit.number import Add, Exp, sqrt, subtract\n",
    "from proveit.number.sets import Interval\n",
    "from proveit.physics.quantum import Input, Output, RegisterKet\n",
    "from proveit.physics.quantum.circuit import Gate, MultiQubitGate, IdentityOp, CircuitEquiv\n",
    "# from proveit.physics.quantum import Bra, Ket, RegisterBra, Meas, MultiWire, Circuit\n",
    "from proveit.physics.quantum._common_ import CTRL_DN, ket0, ket1, ketPlus, H, QubitSpace\n",
    "# from proveit.physics.quantum._common_ import I, X, Y, Z, RegisterSU\n",
    "from proveit.physics.quantum import QubitRegisterSpace"
   ]
  },
  {
   "cell_type": "code",
   "execution_count": null,
   "metadata": {},
   "outputs": [],
   "source": [
    "%begin axioms"
   ]
  },
  {
   "cell_type": "code",
   "execution_count": null,
   "metadata": {},
   "outputs": [],
   "source": [
    "ketZeroInQubitSpace = InSet(ket0, QubitSpace)"
   ]
  },
  {
   "cell_type": "code",
   "execution_count": null,
   "metadata": {},
   "outputs": [],
   "source": [
    "ketOneInQubitSpace = InSet(ket1, QubitSpace)"
   ]
  },
  {
   "cell_type": "code",
   "execution_count": null,
   "metadata": {},
   "outputs": [],
   "source": [
    "singleQubitRegisterZero = Equals(RegisterKet(zero, one), ket0)"
   ]
  },
  {
   "cell_type": "code",
   "execution_count": null,
   "metadata": {},
   "outputs": [],
   "source": [
    "singleQubitRegisterOne = Equals(RegisterKet(one, one), ket1)"
   ]
  },
  {
   "cell_type": "code",
   "execution_count": null,
   "metadata": {},
   "outputs": [],
   "source": [
    "# Not clear why this is here, and we suspect it is incorrect:\n",
    "# shouldn't the extra qbit be on the left instead of on the right\n",
    "Forall(k, Equals(RegisterKet(k, Add(n, one)), \n",
    "                 TensorProd(RegisterKet(k, n), ket0)),\n",
    "      domain=Interval(zero, subtract(Exp(two, n), one)))"
   ]
  },
  {
   "cell_type": "code",
   "execution_count": null,
   "metadata": {},
   "outputs": [],
   "source": [
    "expandRegisterWithZeroKet = Forall(\n",
    "        n,\n",
    "        Forall(k,\n",
    "               Equals(RegisterKet(k, Add(n, one)),\n",
    "                      TensorProd(RegisterKet(k, n), ket0)),\n",
    "               domain=Interval(zero, subtract(Exp(two, n), one))),\n",
    "        domain=NaturalPos)"
   ]
  },
  {
   "cell_type": "code",
   "execution_count": null,
   "metadata": {},
   "outputs": [],
   "source": [
    "expandRegisterWithOneKet = Forall(\n",
    "        n, \n",
    "        Forall(k, Equals(RegisterKet(Add(k, Exp(two, n)), Add(n, one)),\n",
    "                         TensorProd(RegisterKet(k, n), ket1)),\n",
    "               domain=Interval(zero, subtract(Exp(two, n), one))),\n",
    "        domain=NaturalPos)"
   ]
  },
  {
   "cell_type": "code",
   "execution_count": null,
   "metadata": {},
   "outputs": [],
   "source": [
    "ketPlusDef = Equals(ketPlus, frac(Add(ket0, ket1), sqrt(two)))"
   ]
  },
  {
   "cell_type": "code",
   "execution_count": null,
   "metadata": {},
   "outputs": [],
   "source": [
    "hadamardOnZero = Equals(MatrixProd(H, ket0), ketPlus)"
   ]
  },
  {
   "cell_type": "code",
   "execution_count": null,
   "metadata": {},
   "outputs": [],
   "source": [
    "emptyGate = Equals(Gate(), IdentityOp().withStyles(gate=\"explicit\")) # base case"
   ]
  },
  {
   "cell_type": "code",
   "execution_count": null,
   "metadata": {},
   "outputs": [],
   "source": [
    "substitution = Forall((f, x, y), CircuitEquiv(fx, fy), conditions=CircuitEquiv(x, y))"
   ]
  },
  {
   "cell_type": "markdown",
   "metadata": {},
   "source": [
    "And then we have several axioms involving the Circuit class, which class itself still needs updating<br/>(in particular, the Circuit class needs an appropriate substitute for the ExpressionTensor class -- perhaps ExprArray)."
   ]
  },
  {
   "cell_type": "code",
   "execution_count": null,
   "metadata": {},
   "outputs": [],
   "source": [
    "# circuitGateApplication = Forall(\n",
    "#     U, \n",
    "#     Forall((x, y),\n",
    "#            Iff(Circuit([[Input(x), Gate(U), Output(y)]]),\n",
    "#                Equals(y, MatrixProd(U, x))),\n",
    "#            domain=QubitSpace),\n",
    "#     domain=SU(two))"
   ]
  },
  {
   "cell_type": "code",
   "execution_count": null,
   "metadata": {},
   "outputs": [],
   "source": [
    "# circuitMultiGateApplication = Forall(\n",
    "#     n,\n",
    "#     Forall(U,\n",
    "#            Forall((x, y),\n",
    "#                   Iff(Circuit([[Input(x), MultiWire(n), Gate(U), Output(y)]]),\n",
    "#                       Equals(y, MatrixProd(U, x))),\n",
    "#                   domain=QubitRegisterSpace(n)),\n",
    "#            domain=RegisterSU(n)),\n",
    "#     domain=NaturalPos)"
   ]
  },
  {
   "cell_type": "code",
   "execution_count": null,
   "metadata": {},
   "outputs": [],
   "source": [
    "# zeroControlledNgate = Forall(\n",
    "#     n,\n",
    "#     Forall(U,\n",
    "#            Forall(x,\n",
    "#                   Forall(alpha,\n",
    "#                          Circuit([[Input(ScalarProd(alpha, ket0)),\n",
    "#                                    PASS,\n",
    "#                                    CTRL_DN,\n",
    "#                                    Output(ScalarProd(alpha, ket0))],\n",
    "#                                   [Input(x), MultiWire(n), Gate(U), Output(x)]]),\n",
    "#                          domain=Complexes),\n",
    "#                   domain=QubitRegisterSpace(n)),\n",
    "#            domain=SU(Exponentiate(two, n))),\n",
    "#     domain=NaturalPos)"
   ]
  },
  {
   "cell_type": "code",
   "execution_count": null,
   "metadata": {},
   "outputs": [],
   "source": [
    "# oneControlledNgate = Forall(\n",
    "#     n,\n",
    "#     Forall(U,\n",
    "#            Forall(x,\n",
    "#                   Forall(alpha,\n",
    "#                          Circuit([[Input(ScalarProd(alpha, ket1)),\n",
    "#                                    PASS,\n",
    "#                                    CTRL_DN,\n",
    "#                                    Output(ScalarProd(alpha, ket1))],\n",
    "#                                   [Input(x), MultiWire(n), Gate(U), Output(MatrixProd(U, x))]]),\n",
    "#                          domain=Complexes),\n",
    "#                   domain=QubitRegisterSpace(n)),\n",
    "#            domain=SU(Exp(two, n))),\n",
    "#     domain=NaturalPos)"
   ]
  },
  {
   "cell_type": "code",
   "execution_count": null,
   "metadata": {},
   "outputs": [],
   "source": [
    "%end axioms"
   ]
  }
 ],
 "metadata": {
  "kernelspec": {
   "display_name": "Python 3",
   "language": "python",
   "name": "python3"
  }
 },
 "nbformat": 4,
 "nbformat_minor": 0
}
