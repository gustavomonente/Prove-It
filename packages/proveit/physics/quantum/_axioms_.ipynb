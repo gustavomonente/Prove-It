{
 "cells": [
  {
   "cell_type": "markdown",
   "metadata": {},
   "source": [
    "Axioms for context <a class=\"ProveItLink\" href=\"_context_.ipynb\">proveit.physics.quantum</a>\n",
    "========"
   ]
  },
  {
   "cell_type": "code",
   "execution_count": 1,
   "metadata": {},
   "outputs": [],
   "source": [
    "import proveit\n",
    "# Automation is not needed when building axioms expressions:\n",
    "proveit.defaults.automation = False # This will speed things up.\n",
    "from proveit._common_ import k, n, x, y, alpha, U\n",
    "from proveit.linalg import MatrixProd, TensorProd\n",
    "from proveit.logic import Equals, Forall, Iff, InSet\n",
    "from proveit.number import zero, one, two, frac, Integers, NaturalsPos # Complexes\n",
    "from proveit.number import Add, Exp, sqrt, subtract\n",
    "from proveit.number.sets import Interval\n",
    "from proveit.physics.quantum import Input, Output, RegisterKet\n",
    "from proveit.physics.quantum.circuit import Gate, MultiQubitGate, IdentityOp\n",
    "# from proveit.physics.quantum import Bra, Ket, RegisterBra, Meas, MultiWire, Circuit\n",
    "from proveit.physics.quantum._common_ import CTRL_DN, ket0, ket1, ketPlus, H, QubitSpace\n",
    "# from proveit.physics.quantum._common_ import I, X, Y, Z, RegisterSU\n",
    "from proveit.physics.quantum import QubitRegisterSpace\n",
    "# the context is in the current directory:\n",
    "context = proveit.Context('.') # adds context root to sys.path if necessary"
   ]
  },
  {
   "cell_type": "code",
   "execution_count": 2,
   "metadata": {},
   "outputs": [
    {
     "name": "stdout",
     "output_type": "stream",
     "text": [
      "Defining axioms for context 'proveit.physics.quantum'\n",
      "Subsequent end-of-cell assignments will define axioms\n",
      "%end_axioms will finalize the definitions\n"
     ]
    }
   ],
   "source": [
    "%begin axioms"
   ]
  },
  {
   "cell_type": "code",
   "execution_count": 3,
   "metadata": {},
   "outputs": [
    {
     "data": {
      "text/html": [
       "<strong id=\"ketZeroInQubitSpace\">ketZeroInQubitSpace:</strong> <a class=\"ProveItLink\" href=\"__pv_it/8c6c8ffbd3170b4c02f4700cc86df529fc124cf50/expr.ipynb\"><img src=\"data:image/png;base64,iVBORw0KGgoAAAANSUhEUgAAAyAAAAAXCAMAAADEOdvSAAAAM1BMVEX////Ozs4QEBBUVFRERESY\n",
       "mJgiIiLu7u6qqqoyMjJmZmbMzMyIiIi6urp2dnbc3NwAAADopfdnAAAAAXRSTlMAQObYZgAAAAlw\n",
       "SFlzAAAOxAAADsQBlSsOGwAACFxJREFUeNrtW9mS6ygMZQwGm9X//7WDEIuwcRKn3bn9EKqmbwqj\n",
       "o4MWENjD2Ld927cdm/Kec/W1w7d927Bp+E8yFvpu87XMt31bbJuLybEZ5l3XLb4Z8m3fFtusugTx\n",
       "3mrYTBb9rDSTUnAOf4SU9rOcvdye568Sk3woatZJv6BMe/+TCnSspYBa/Y70pWbfBxib8C85mSkb\n",
       "o5DPLPh7cfcyLCfIukDoQ4Y8s4xNBxc0YCT44azeXhm16iei2/KCbbiZlh+RHWipoNK/IX2toQp0\n",
       "6uW2vpVdbyp7w8l2shCGi5fzzcHTLVNS5QSZU7x7AX+eOIbDn7AlA87u0wen9c3I7ETd9sLWMC1O\n",
       "/OgOY6TlddCXOL7Qlu2u5P49ZZedrITM1tFbuDl4SAvJVylBBMf5Qdkl9skaSykpC3iYMRmTAe2n\n",
       "b8FequnGsUVEvfxEgA60XAD18pNLyk2zf0/ZdSevU6HnppuDh+ZHTAoTMEFwQ3Ap7NcuJ93aZwHu\n",
       "GRwNuHw4P8JLVeQwtqjoK/XDzwN0oOUC6KpvWlL8Tcn9e8ouO9m3/c3om4OH7h/GGK1SgqiSIHOq\n",
       "6+iodbiU0DOc8tZGHOY8D8FbbpnxVkAiOS+CsXhoYXEUj50m1nFBe6wc4w8bIK9br7IaOhRvKdlQ\n",
       "ShVZ5RDXG0IDYmuZrQj1MXetAAVJg/YtAh2jUq7ySXLdIRyHZaqMd5M/0UJBs2Av0wYS6b0FOhKZ\n",
       "WEaTnTrsdFxsgtsK0/SNuRfHsZVHmCdWAsMrMoQoq49Y76NC+WGoZE9VeyjoNr6V/mFr0acMu4h7\n",
       "Akz8lNlPGzQsscKWksJsaXp09VjDOBlb4jppwHwRiAlhIdngZLLA1ucZB7fB0SbIlIeBWSa0Z37C\n",
       "/TGiC9iMWq9HUXKgIihcsF4u4sZHWhAaUQuQ5nhWKmqzKJGsApQRKcJzWA2J54KCUK2TDydaKKjH\n",
       "yqCXqQOJ9MEChEQlli028d4ZWHzQUwHVN+ReHRdNqHDcuZXgfYDTHfOirD4qJsw+IpQfhEr2VEXV\n",
       "cDFk0zu7soHsaqUruCfAxE879n2CpH80OXqvJ/cBJJ1hUbGOGccmwQoWWD4scSXKv3HzlV7NTEq4\n",
       "7QQ3TCAK/FpvlEmFLK8nIYoyJcs0uYwbuysNcJOpAEVtFs2SK+VNGQ324xHxehpDqvFPm7wZa6Gg\n",
       "eY6dTBtIpA8WoCQKsWIx2PgrSumkOFTfmHtxHB5GIZ3PrRRgnJi7KWZl9REtvMD+hfLjUEmeaqhz\n",
       "TFMbg7/dmB6uay/gngCTSezZ5xLLY4mVMEwrb8wkc+uO7rytb2KLG1LCiCiuGhfiU+XLEL8pjQIb\n",
       "D4ptRTl2wuxar8oTmeoiQVAMXlk0ufyT0ihuSgBVLUNRIlkFKKPjfcyQODtQLZNP4TXSQkEVbiWd\n",
       "TBtIpA8W+K+RqMQKDbd0zsi7FcGh+kbcm+PQhBAU51YKm5jDzvJZWX3UMe0oPwgV9FRDhWQQ3To9\n",
       "kd1VXcQ9ASaT2LFn9JC+4MZADiFKsCdHkI3vgorEZ74MERMmdtRt6QVJ6sQpkd70y9BFoqLYaS83\n",
       "iSON5CZcrJtaFCWSRGB0ZVNOqUPinWDeFnDyKbzGWujRd8l3HE2mDaRWOVigkTgQs3tnqAMO0Tfg\n",
       "ThyXbgjgyuaBlXws0H2nsyorjyjTnvKDUEFP9YbrayrZysbFXMQ9Aaa9PftyzSuwclL7c4d8dgQh\n",
       "WHyt8eliuqocEWrTeYfyqfqV1Z6+HTZahZlmZ6d9XME9guAASuRU1d5ooJuyTFWbRKlGwlsPJon3\n",
       "3mxIvBfME8DJx1VWnWhpoAy3fSrTBnZWOVigkjgS8706VOG2vMru9Q24E8elzQIW5odWcumg1IYQ\n",
       "Za6doaqPKOXzUMlO7gwHQ6Jd25YU2rHqIu4JcO8n158A07Y7tczrXoRY+/gIUrZV6Jh8jc9INJZ/\n",
       "uBLZqWzPk6ebvkoocZNbAi0FUhQJvr/xzCi2l8vbviM00OlR1UzVJlEqSXiPLidLiTci3gd8XFvg\n",
       "q52pnFL9iRYCCiM8ozJtYGeVgwUaCUIs0UhraVOXVfjo0QZE9B25U8dt5Sx0aiXcDDdFh2Rl7RFl\n",
       "Gn1EKD8OFUtQlXCxos+5UNbnEpR4VXYF9wSYTGLHvnxqAkd9NeFVXPd2Yx2866AJNqdyFT7jwv0a\n",
       "43P1oFdtAo4xsVsnd+g0u7rprxZe4Wvmu14Y6mi921A2p2wvp9NW5g2hgRUEfGRG1aIokaS83fmd\n",
       "+ZB4R3XKEwCBGCKxfh1qoaBxqQ1zL9MGEumjBRqJRiwFJn6S1FCyCh6XzbSmrKzXd+ROHQfn1oQ9\n",
       "sBJiAUv8bo9YHpW1Rzi0+oja8jxU0FMVddmM0hMesTJg7JvxKKAOPnqGewLcm7//IBETBK6BuRlU\n",
       "VYoL1xWfnq8buVxnNkpitZcE8RO5RdsAE3EWP4FM30K6NipDW28Ct2bXG4emTXTD1lBmvEQhcoBr\n",
       "05vMSgMvIGJ/pxZFqeSON2sKu9vREfEyDqgudAJBzMuJlg5U2Jn1Mm0gkS56mgUIiUoM7pbmeeeM\n",
       "rCKCpydS7/UduFPHKZ3fgoyslLBM7LZzPyQrI4+kZtRHO1uOQyU7uaBGKjaOmRcCGDsF5+2y9Qru\n",
       "CXCdBGHfJQg5ye3fTTovyKcml748ePdttF/vQPnJBxr8L4Hqf/dp7ccMLv8s7j5BRLiNnXzjcwk4\n",
       "B6nuM1qpP+yshQ8Ly38H+nELfL791hRvwN0liFpvI6fe+SQUvijj/qcoPzOquNEIN4B+3gIfb781\n",
       "xTtwdwlib/tfPJZ1W6+DLdZq92OUH7U5n5v+COg/sMCn229N8RZc27+3F+zbvu3bavsfRN+LzRjd\n",
       "xpQAAAAASUVORK5CYII=\n",
       "\" style=\"display:inline;vertical-align:middle;\" /></a><br>"
      ],
      "text/plain": [
       "ketZeroInQubitSpace: |0〉 in Temporary_placeholder_for_undefined_proveit.number.sets.complex.Complexes^{2}"
      ]
     },
     "execution_count": 3,
     "metadata": {},
     "output_type": "execute_result"
    }
   ],
   "source": [
    "ketZeroInQubitSpace = InSet(ket0, QubitSpace)"
   ]
  },
  {
   "cell_type": "code",
   "execution_count": 4,
   "metadata": {},
   "outputs": [
    {
     "data": {
      "text/html": [
       "<strong id=\"ketOneInQubitSpace\">ketOneInQubitSpace:</strong> <a class=\"ProveItLink\" href=\"__pv_it/b0891dfc4d22f5e54695750e2b096341bd69b3bf0/expr.ipynb\"><img src=\"data:image/png;base64,iVBORw0KGgoAAAANSUhEUgAAAyAAAAAXCAMAAADEOdvSAAAAM1BMVEX////Ozs6YmJiqqqoQEBBE\n",
       "REQyMjJmZmZUVFTu7u4iIiLMzMyIiIi6urp2dnbc3NwAAAC1cyw1AAAAAXRSTlMAQObYZgAAAAlw\n",
       "SFlzAAAOxAAADsQBlSsOGwAACC5JREFUeNrtW+mSoyAQZlXkPt7/aRdojkYxiYmTmR9StVMppL/+\n",
       "6AMadAm5293utm/CWs7FbYe73W3YWPwnCXF9t7otc7e7heZNSA6viDVdN70z5G53C20SfYIomeqt\n",
       "mT0rzaSknMc/VEr9Xc5W+uf5K+giH4qqdWEvKGPWflKBjrUUUM3ekT7V9PsAYxP+JScToUMU8ok4\n",
       "ey3uVoZAggjOVg/h8MwyOh1cwICB4Jez2r8yamVPRP38gm24WuaPyA60VFBp35A+10CFkO4d4fWt\n",
       "7HpT2RtO1ouOYThbOV0cPN0yFTeNsoPonCD2iWN4/ON8MuBkvn1wWt+MzE7U+Be2hmU29KM7jJGW\n",
       "10Ff4vhCm/1Vyf1zyk47WVCZrcO8uzh4UHPJV9sEcXSbrKGUkrKAuwmSMRlQf/sW7KWabhxbSNTK\n",
       "bwToQMsJUCu/uaRcNPv3lJ138roUema5OHhwfoS9QLldgpC1y0mz9lkAozkMnr+cH+6lKnIYW1j0\n",
       "lfrh8wAdaDkBurKLlhR7UXL/nLLTTrZtf1Ps4uDB+4dSiol9gsx4lm4dLiX4DCes1gGHGMuds5pr\n",
       "oqymEdVY6pSGQwsJo3joVJYSxyxUjuGHdjGvW6/QTKdDUUvJhlKqyCoHuFYhGjG25klTVx9HtUU0\n",
       "SiqwbxHoGJVylS+Ssw5hPyxTJbyb/IEWDJoFe5k2EElvLdCRyMQymuzUQafh1FOuK0zTN+ZeHEdW\n",
       "HmCeWCkaXqAhSFl9RHofFcoPQyV7qtpDxG5lW+nvfIs+ochJ3ANg5KfMfvGx7Uus/pi+unEytsQ1\n",
       "UkXzBSBCaTCP8PFkMsetzxIe3RZMS5yMrgwFoyaUWWIX2B8DOo16W68FUXSgQiickl4u4IZHjCIa\n",
       "QUskzeGsVNRmUSRZBTAjVITnsBoSzwUFolon7w60YFALlUEvUwci6Z0FEIlKLFts4b0zoPjApwKs\n",
       "b8i9Oi6YUMC4YyvF9wGGdcyLsvqomDD7CFF+ECrZUxWVxYshnd7ZlQ1kUyudwT0ARn7asB8kCENH\n",
       "7/XgPgClc1xUtCHKkIWmDpst7+awEuXfsPlKKyYiZbztjG5Yomjk13qDTCpkeT0JYZQlWabJZdzQ\n",
       "XWlEN6kKUNRm0Sy5Yt6Y0WA/HhGvpzGgGv60yauxFgya59jJtIFIemcBTKIQKxaLG39FKZ0YB+sb\n",
       "cy+OCyYUkM7HVnJxHJ26KWZl9REuvKL9C+XHoZI81VAnF2PToRvT3XXtCdwDYDSJLftBgqhW3qhF\n",
       "5tYd3Xlb36gPG1LEiEuOqcaN8SnyZYj1goGA504QX5RDZ5xd6xV5IktdJBCKgiuLJpd/YhrFTQmg\n",
       "qiUgiiSrAGa0v48ZEic7qmXyKbxGWjCogK2kk2kDkfTOAv8aiUqs0DBz54y8WyEcrG/EvTkOTChC\n",
       "mB1byXk6uY3ls7L6qGPaUX4QKuCphhqTgXbr9IJ2V3ES9wAYTWLDfpQg6BAiKHlyBPF8E1QoPvNl\n",
       "CF0gsYNujS9IUidMCfWmXwovEhVFL1u5he5pJDfBYt3UgiiSRAKjK5tySh0S7wTztgCTT+E11oKP\n",
       "vnO+42gybSC2ys4CjcSOmN46Q+xwkL4Bd+S4dENgQmg9sJINBbrtdFZl5RFm2lN+ECrgqd5wfU0l\n",
       "W9k4q5O4B8C4t2c/ShB87pDPjiAIi681Pk1IV5EjQngmYJRN1a+s9rTtsNEqzDQ7vWzjKqAQyiMo\n",
       "khNVe6MBbsoyVW0SxRoRbzaYJOWI44Z4L5gnAJMPq6w40NJACWz7WKYN7Kyys0AlsSdme3Wgwvi8\n",
       "ym71Dbgjx6XNIi7MD61k0kGpDUHKTDtDVR9hysehkp3cGS4OCXZtW5Jrx6qTuAfAvZ9MfwLcJkj3\n",
       "IkTrx0eQsq3GjsXW+AxEQ/kHK5Feyva8WLzpi4QSNrnZ4VIgRRHl2xvPjKJ7ubztG0QDnB5UTVht\n",
       "EsWSiPfocrKUeCPifcBTmr7aWcop1R5oQaBxhCVYpg3srLKzQCOBiCUaaS1t6rIKGwKmASF9e+7Y\n",
       "cb6chQ6tBJuhF3hIVtYeYabBR4jy41DRCFVQEyr6nAtlfS5BCVdlZ3APgNEkNuwHCdK/Sl8H7zpw\n",
       "gk2pXGWu7NcQn6uNeoWn8RgTullyB0uzq5v+GghPkhHb9cahBte7DcUboXs5lrYyqxANqCDiR2ZY\n",
       "LYgiSczbHN+ZD4l3VJc8gSgQQiTUr0MtGDQstW7qZdpAJL23QCPRiKXAhE+SGkpWwcOymdaUlfT6\n",
       "9tyx4+K5NWEPrARYkSV8t4csD8raIxhafYRteRwq4KmKOnsl2AJHrAwY+iY4Coidj57hHgD35u8/\n",
       "SIQE4XTxEi6x+61UcGq64tPy1aPLdaKthm3GJEH4RG5m2sWJGK0hOqzVcDlm0B0211Y5rtWmNwxN\n",
       "m6iH1lAmuERBchFXpzeZlQZcQIT+Ti2IYskNb9IUdrejI+JlXKQ64wk4Os0HWjpQqifSy7SBSLro\n",
       "aRZAJCqxeLc0TRtnZBUBPD2RbKtvxx07TrD8FmRkpYSlQree+iFZGXokGcE+2thyHCrZyQU1UNFh\n",
       "zDQjwNBJOW+XrWdwD4DrJBD7zQ5Szz3bd5PGUvSpyakvD959G23XK1A++UCD/yVQ9nuf1n7N4PLP\n",
       "4m4ThLrL2Mk3PpeIZ3TRfUYr2ZedNfNhYfl7oF+3wPfbT03xAtxNgoj1MnLinU9C4xdl3H6K8plR\n",
       "6YVGuAD0+xb4evupKV6Bu0kQfdl/8ZhXv54Hm7Vm5mOUj9qUz01/BPQXLPDt9lNTvARX9+/tKbnb\n",
       "3e5W23/lc4whttc2OAAAAABJRU5ErkJggg==\n",
       "\" style=\"display:inline;vertical-align:middle;\" /></a><br>"
      ],
      "text/plain": [
       "ketOneInQubitSpace: |1〉 in Temporary_placeholder_for_undefined_proveit.number.sets.complex.Complexes^{2}"
      ]
     },
     "execution_count": 4,
     "metadata": {},
     "output_type": "execute_result"
    }
   ],
   "source": [
    "ketOneInQubitSpace = InSet(ket1, QubitSpace)"
   ]
  },
  {
   "cell_type": "code",
   "execution_count": 5,
   "metadata": {},
   "outputs": [
    {
     "data": {
      "text/html": [
       "<strong id=\"singleQubitRegisterZero\">singleQubitRegisterZero:</strong> <a class=\"ProveItLink\" href=\"__pv_it/ddbcd41f45573729acf337838342cbb44656b8080/expr.ipynb\"><img src=\"data:image/png;base64,iVBORw0KGgoAAAANSUhEUgAAAFEAAAAVBAMAAADMaB9/AAAAMFBMVEX///8QEBBUVFRERESYmJgi\n",
       "IiLu7u6qqqoyMjJmZmbMzMyIiIi6urp2dnbc3NwAAADV54WuAAAAAXRSTlMAQObYZgAAAAlwSFlz\n",
       "AAAOxAAADsQBlSsOGwAAAVNJREFUKM99079Lw0AUwPEvtE3atInOTp2dgm4OUgdngyBuUkHBRczq\n",
       "IO3mJl0EB5HgP2ARF+3S/6ABB4UqBPwDXKSliOC9S/yFlz44LoEPd/fevSNBh4MxvGyO1HhKPwuR\n",
       "Ubr9dF5KpTu8wO7kyufbhMNUHrObEOTJcmhtUdKyGOD6POTJVbjHDUUW6tgjXvLkArSani9ypkNt\n",
       "TDnJkRMYhJyIPFDyDTs2S0tkgyORrzHOO79SOt2QWE+l9wFXXUkpler3HHba/9fUMqbSl91jamrN\n",
       "S5xeYNhdyUEXp55mZI+Rk9iBOaNWKGmoKvkUR0h2mfxzThZhrSmlUZWfpdJGKmZccwXOkHKr29xk\n",
       "O9K3YJSl0JpDrlDJ/d48+maN0hpeR7qGWdfpbjFKHdJqX3J5qiwk39JSRfceJ90cuffT89XG1J6/\n",
       "UeMuW978jqrZo1El/ARWhXClWki1YQAAAABJRU5ErkJggg==\n",
       "\" style=\"display:inline;vertical-align:middle;\" /></a><br>"
      ],
      "text/plain": [
       "singleQubitRegisterZero: |0〉_{1} = |0〉"
      ]
     },
     "execution_count": 5,
     "metadata": {},
     "output_type": "execute_result"
    }
   ],
   "source": [
    "singleQubitRegisterZero = Equals(RegisterKet(zero, one), ket0)"
   ]
  },
  {
   "cell_type": "code",
   "execution_count": 6,
   "metadata": {},
   "outputs": [
    {
     "data": {
      "text/html": [
       "<strong id=\"singleQubitRegisterOne\">singleQubitRegisterOne:</strong> <a class=\"ProveItLink\" href=\"__pv_it/6e4f8a3c6ceb3ccc3e08a6bd604f02a17d1aea800/expr.ipynb\"><img src=\"data:image/png;base64,iVBORw0KGgoAAAANSUhEUgAAAFEAAAAVBAMAAADMaB9/AAAAMFBMVEX///+YmJiqqqoQEBBEREQy\n",
       "MjJmZmZUVFTu7u4iIiLMzMyIiIi6urp2dnbc3NwAAACIMV78AAAAAXRSTlMAQObYZgAAAAlwSFlz\n",
       "AAAOxAAADsQBlSsOGwAAAPRJREFUKM9jeMAABlwMWAEflF4AxHcgTJYFWFXyHoDQXlCVKxsYmBJw\n",
       "quSawcCgBlbJURbfwMAwAZfK9tQfDAycUDP3A1VewmkmN1AlrwJC5RO8KvkcECpZH+BTyRCHUMl0\n",
       "Aa9KXYRKJC9lzgSB6SgqOZFU5jAwNAbgNJPtAELlcgau3RNwquQqQKgEuoQJt0qgN+Aq4+AqsbkT\n",
       "GDQwlaAQw2PmE4SPQLGAR+UlsMoS++kbwDGLVSW7889qcBhCUx04tWA3EwRASQ2m0g+vSpYHcJUc\n",
       "wEDnu/ptAw6VrYg0zy2AN81vBOJdUOOx5yNuaKYBBiEAMX1m63+Ym98AAAAASUVORK5CYII=\n",
       "\" style=\"display:inline;vertical-align:middle;\" /></a><br>"
      ],
      "text/plain": [
       "singleQubitRegisterOne: |1〉_{1} = |1〉"
      ]
     },
     "execution_count": 6,
     "metadata": {},
     "output_type": "execute_result"
    }
   ],
   "source": [
    "singleQubitRegisterOne = Equals(RegisterKet(one, one), ket1)"
   ]
  },
  {
   "cell_type": "code",
   "execution_count": 7,
   "metadata": {},
   "outputs": [
    {
     "data": {
      "text/html": [
       "<a class=\"ProveItLink\" href=\"__pv_it/cdd055f8011865acb39a9ce4fcbc308ece0649280/expr.ipynb\"><img src=\"data:image/png;base64,iVBORw0KGgoAAAANSUhEUgAAATsAAAAXBAMAAACG6/UNAAAAMFBMVEX///+IiIgiIiIQEBB2dnbu\n",
       "7u5UVFTMzMzc3NwyMjK6urpmZmaYmJiqqqpEREQAAACk/Np2AAAAAXRSTlMAQObYZgAAAAlwSFlz\n",
       "AAAOxAAADsQBlSsOGwAABHRJREFUSMfFll1oHFUUx/+7O7Mzs7O7WUttpVthCYgfIIRSiEipuxqj\n",
       "CJUBg1DEZPugjzKxUi1FHWzrg2iaPiiFWlxTX4rGbDVR1D5MK1qLYKcSUWklK6LNgw55sLS0lnrP\n",
       "vfOZ7DC6Bb3Luczs/vfc3/045x7gOpvKPqIp/0RusU+S3Hdkch0C5fW0myG1xFPZTFdnHDyEJLnv\n",
       "6Dyztz3r0BfneqYr1cmr/EuNPbbT5fMgvNEN6CYnvKGqhbNiHtw+pR8O9Iy3VXjVaKxaqlqe5Hg4\n",
       "iG5y5khz5NuQpZfXhe2gTe/0jHdM4PWxiWJLqlq3Bd5VxOTy6qGGwR2dAB6GRM6+FqbR907PeAMC\n",
       "b4Z5wUSqOgeOV7iAmPxdA/I67ug3YMHgq5UzuBXZhLSe6QqTAu8+etFSQ+2IwJMGYvLCIutGW+To\n",
       "Cpupw8+aZgvb0N+/sWc8vS7w3sCZOQqTlDYr8LRmqWqE8rxkQW7fzxzJhGdTAEFqCvsY+DXm40s7\n",
       "bZRdc/4TzY8i96/SD5sSYkPv561Jz28KvDH7p912KL8JD+IxjDBH6p/AixUeG8VJYS9DZX89UfHd\n",
       "KXScGsFCjAw/EQ++U6wb9t+yDscrXZpWDnhZIK6MtzsF3sIrzk4rlDchPddG3serQ2f7UaoJKxu0\n",
       "OzlKicoalw3FkBt43/fYxgc4e24+GGF8Fet+DM56i+Ppm3iO3YHwX54y3u4WeB+eRFTOluIj5oY2\n",
       "l+HNVKCw9VKWhJUqFBn7SPcZDUJ4g+jzz+1l7DPPdHLhEN92wcsefMBLul7r+MqueLfPmlF5G+qQ\n",
       "Cd0LjQWHn8rCgDBMHmfdN2oVGX7oGJ56CTk/13zB8PLmCwl4mtjcsdaMybN78dh4dRle9Owd4njy\n",
       "5cJFRORt7ME6gecCpw0e0/7mYgsl6G2vPWKNcnfsPCoXkA3j4152VNe3YnhT/ku5wvFOY8ypUHYv\n",
       "HrZzVvLq/czxikvy1QxC+bRSR6Y1TY4+Bz4RGbHYEYbdNLGNtoL3uIudDuHlwlC5BY9i3onhaTf6\n",
       "91CT4z2FMbNO2X3vKvQZyXjDHC/fkS9KCOX6O1Ra8Ms768iD4j7RK8J46aBeYfnllOu6jvKkQZvb\n",
       "F/BMGB4m+9VdFIOW9vsZtcbx/kDmqMHzwTYchu66m93fu+FNcbyygyqbny8HeFo2eIZqrDFFxsla\n",
       "wsSOdqZUPBMsSCQ01KYSvwxo0O3B261hHcQrjUHMKsmrlzURFFQReXGtMV4PHfFa5iXPROKuPC2x\n",
       "FOOFBkssR1ialOusm3h2l7ECLwgNurUDPLYI6hLu+D4Zr9iO4EXkj9/wXaTeK1ui1uAmItDKn4R6\n",
       "3seTGnPYbil3se6ea9diI+x562gUj7nyvVK1VGhite3hceWythjiReXxcnSrV0QtL6RGXC8tp7UQ\n",
       "T+4EXjORyzCpQhsN8TJ2UrW8nqZtwNvN5UVI7d/g4VVkvKq8HBEkFc6qjbVYKfeAzXBuX3m2su03\n",
       "0uiUQ/j/mpJasTxv/FcsfwOyMlXYoX+B4AAAAABJRU5ErkJggg==\n",
       "\" style=\"display:inline;vertical-align:middle;\" /></a>"
      ],
      "text/plain": [
       "forall_{k in {0...2^{n} - 1}} (|k〉_{n + 1} = (|k〉_{n} otimes |0〉))"
      ]
     },
     "execution_count": 7,
     "metadata": {},
     "output_type": "execute_result"
    }
   ],
   "source": [
    "# Not clear why this is here, and we suspect it is incorrect:\n",
    "# shouldn't the extra qbit be on the left instead of on the right\n",
    "Forall(k, Equals(RegisterKet(k, Add(n, one)), \n",
    "                 TensorProd(RegisterKet(k, n), ket0)),\n",
    "      domain=Interval(zero, subtract(Exp(two, n), one)))"
   ]
  },
  {
   "cell_type": "code",
   "execution_count": 8,
   "metadata": {},
   "outputs": [
    {
     "data": {
      "text/html": [
       "<strong id=\"expandRegisterWithZeroKet\">expandRegisterWithZeroKet:</strong> <a class=\"ProveItLink\" href=\"__pv_it/ddcc2507a6ce9630159dd9f962b22feb79db84db0/expr.ipynb\"><img src=\"data:image/png;base64,iVBORw0KGgoAAAANSUhEUgAAA9sAAAAZBAMAAADTbyDNAAAAMFBMVEX///+IiIgiIiIQEBB2dnbu\n",
       "7u5UVFTMzMzc3NwyMjK6urpmZmaYmJiqqqpEREQAAACk/Np2AAAAAXRSTlMAQObYZgAAAAlwSFlz\n",
       "AAAOxAAADsQBlSsOGwAACxtJREFUaN7tWn1sU9cVP47f83v+dlCSbiQwl6ljMCGFig3UUc3uMui6\n",
       "sj0o68dYsbNSaNWKPQhjrTqENT60jbYJ01ZVLWwuaJ1YPzA0YRWklYNUUIBQQwcbgmpGHSpFxaTa\n",
       "oiA+xM45973n58Sug2Iq/vBDF793z+c9v/vOPfe+AFSvCl0/m5C4uR0cMyFTRaliV8foVSTAnDH6\n",
       "CLhV/CcupZgqi6IaDXzpKko3EdyODNxj3H48AvZxICXFXWD47LgnT/GERCO4s9R5qgpWJeAebSz/\n",
       "wSgtvB1vT5bn9kcIbvmjMN6misEtRd8WlHFGQ7h3E+3FKliVgHuUsZQ7xEv5Mraa8uwPAb/dbgI0\n",
       "XAzuzTAvwRS3JhrCvZISe7YKViXgHmUsvWkB91VsUvmqqlvAHSTOOfnuuS0t9Qy3LwxSlim+lNHS\n",
       "jLpUrdgqAvcoY+kUL6VnYGSzplnAvR2NwvNWr6cLEU+SokAc/AOC8k3REG6q1txVrCoC9yhjuc1Y\n",
       "cptHtCZ4OgTc36UHt7UHfBPv5HOkKJgCz1VB2SQa+Xf7hAnTqlhVpjIfXSw7BdzuuL9Ro7KtTOqP\n",
       "CLhfgCNdVLYZV/xugAWShopiCPcVQZklGsH9d4AzVawqA/foYrlJwB1Lf7gmXaJW2zmBrq/xC51m\n",
       "uOUr/n/NzNdqjoSUkFNyBBW1R0D5TFB6RSO414Mav9ki92CF+Son+PlwD4vlvrIHG890WbdTBNz/\n",
       "/l3m6QR4k2UEazIMt//iGwom/t1Grwtg9gZ8xw24/ycoR0UjuAOaVKB5b+cjnTuvq964v7/gcW/I\n",
       "2Ff8nP5/q+AEQN5Tcvwm4wKsOKMFWWt6ScvRUmvc00UrnfwKZxooKu25kIZttxZnMMbqudC567Hh\n",
       "cItYmgEAUKicilqJVm5ZrBVEo9dItOK6Q8D91n4WLZw3Px12iONMMtzemRy3lUavhPFCSXq7YxHw\n",
       "fCYoq0UjuP2hfHWxbOk5eBTeB1/yeuD2F7riNAE+Qf+1F9BcB0qeDpqMT/51CEHt/7y9anGiK1Ks\n",
       "NzZC6YZmTIrFGcyx7gW4azjcIpYEBCgNuSRzR+FNa+KCN+x/p8/ybdkYM0p2uCd16uIQxZJCbbXh\n",
       "EnDXvDzbOKExmddiR0qUav6rgrJVND5E7eixFOPao6ZhKfgS17VfLIztGnvpAeMLaMHSik3Gi0MJ\n",
       "juzIp9qwKVdwnRihdNcVekuKMphjfQLgK8PhFrHkibtHN8Sn5wcdTKqD/vHQbIkcLXBqM8MtX/IM\n",
       "FmSiADsSHrZ2i2QeS27XbVnIC2rEkWS4A1nwDQiKLZnDnD/iTfeyRoAm4LP0qfifHG2Cg/tr401L\n",
       "wLfj0BKcpC1w8sPGxIKeu/n3lTgfGTKtJgnUDdEemF+bhn3ELtVFYDJm5p6NrIpEyOlH5jDJ/86R\n",
       "tyklNuBYhGmTEY5PywAqR9sp7pC7v0y58WDTPp2lUBrFWpj2Sly96w+64b2prMGxT4fVtY+SL4Yd\n",
       "qSlDT2snzeZbMA2QNBvtaQrZ2CGyk+DGMREDj5T9p0HiWFnFnQDf4KBAtM8GN8USDquN4Egbs0W9\n",
       "CE5zafRp6iAsUbIl4D4tTkf65asO3klzDArhtl2BEMP9PsQyIdqmizh6MisAxnro8N3XDN4OsYE/\n",
       "LBrDvQZzvW9r2pmQhR8qTa55ugsOzIRvQQP4tuvLwZ10pQ9MdR+bqAwA/mYiA7QuCVoMZOquSbbJ\n",
       "E7FIeBxl4CV4EhMh9g8KVVPdPGayiyTf1hBNZSmotRmmTUbwoRPfGyDbM7hjnr6aZu+BQSXMUiiN\n",
       "YseZhnysllVYyuKOOIzRGskXw85uJc6ebeZbyBtAadLjiAfiNnYlE8usEmNCBh4p+c8dMaFCHYD1\n",
       "KQ6KN7nSBjfFElqfuy+xUODbARSYfL0ihSHsOFAA9xbraRbD7crKgxKfk7GLJeGW4gz3UojpETrc\n",
       "4SCgd5h+HOLwfQrcp4tjnx2iMdz00WTdGAhqHuGWj9arxeq96twwXMKMvK4B09MukB57tkPxppRm\n",
       "FX/Vn4Q5xzLtBFA3vAsPuOJr07gEdVK5MAunNvb3syoUYd17uJKY9Zte/sK37iimcDZtMiI5BerD\n",
       "YbI9wB17uM5Q58bVfpIi6XVb8OUjrQ+HURQM7y1lSUy4p6GXfDHsfPIesGcDfAt5AyhNNto1d9rG\n",
       "7tC84XoxpqCGvI4s+88dJ4QK39TaY0BBiQc2aTa4+dPUtLQCr4uKMUNwO63SDZZrctw/pwBud735\n",
       "tIXhDmSgsZ72T8LFknB7wgz3eXDs0GjbxkFAbjpmOcNwz69dYhy+f120/AfQVlzKfX/K5c5jmUM4\n",
       "frtPA1cIxzeFkswHmLwCEax/gkl8dagOckVcIZGAPkB0uRvzm7P7GKgkg/nrP15mzwpVEWtrSSRY\n",
       "ZFptFaYtRt5OYp5yhTzN3HFJLOqBkL+ZpFi6Bf7GNOTbanlvKmujLcodsIt8Mey0/TdBT6iRbiFv\n",
       "YKsY6F5cXm3suP5dMoaKDK4QjpT8545OocLFdTMFRfnODBvcnB0vYwnUm8vlMgoW4pjMg9Y+RzV2\n",
       "5QpSc2cF3P6N1tZKt75b8pcsdvHd3Ee5XLoI3DARrA+g/AGtVQSj5xdKHeQVEUUNi5aHezp0KorA\n",
       "hCfjINc7OK/7daQ9gQVUTMdaMJYIvKdRTViTFNUQ0SZr3I01VpAWUpIJJuTBmr8Qe702aBarzA5E\n",
       "4iKUa9HpCTZtMXKRFXsAf7wRHTvki3D6x9ztSpEUS0+GEDuIfA1ywvDeVDYe2hV8K+4kX4QdVftt\n",
       "iJ4c8QfpFvIGUHqQs2gb5Nlp3X48IoaKDM6k8yn2nzsma6zCmRZVZUxfp24cArcvu0WFFVbCtZVq\n",
       "uC9/qgAxgrvNeqKvGCZK9JKyiyXfbjhog/usGQSM2JFxmg3us8a3F2oW3LjZmfxP40SonQaOOQLT\n",
       "tCvky0bUi+ptOJUWUcXpTKx+nSvPGn07yyFN7g9x90sgYSIKsUyN7orEHMT+K0OV2NcMkKQrYu6t\n",
       "ZngGQmzaYoQY+npCQoGaN3TqmKEMkpPtiV9rJEXSMFHlJEZ8OySYb3hvKGuFwxLc5suSLyQxH6em\n",
       "pNOTNxShWzliGUBp0nMcFkOeHVahuYwYKjI4E9vnsv/UgWMlFeiOeL8W4dSbPQRuV2i5hDtws7CP\n",
       "wjZUikbRz49/2TUMbtt24WwepYe4wkcXS8ONM8KEmz6diiDYP4CaFP5MQs2C2xOHujQ8T0Cv+DMt\n",
       "7AsO1cOruBtQWzXfxkYNNtRl8Bk83UfupV/wd38CwWvXmNaa5O4Nh+rl7h4NZRZp6o454Bor2IUq\n",
       "4ub1hkhojp9P9qEsmbYYeQG7/0so4BAdr/XVpa9d6++t7WIpkoZXDwkHke+1/dCWEN4byl6E9fXw\n",
       "TB2QLyTRlvCd6hNP3TrdKjMsAyhNery0LbDYpUk6uDThOzL4u4+P5SFzR2uSVDgucAVPQek7lBkC\n",
       "tzvh2o/ImnBL0S5UikbbEk4ciB2wtRRqG9wL83DTJoldFHCr378cGnZokLXgpn2ACMJQuHmHcMZo\n",
       "Q/54Sf5h7lzZbbV5CvlpSVrpy5cqy3Kw9OeDG3hNr8whqu2anzOOWcpdNrjVNNxi3NrOGgKlJJ8F\n",
       "h16S5ZY8hU5R+CRlRH+rVlPsRLXV01GSVvIKHC/7F3fnlxTvn3IDsVbCjo6Kw21Vz9cBd4lTrIoN\n",
       "dERw/6irSOeputK0kpdUW5YlGioueVm7cXCrn/5AuzFww8ayipXNX9yXp+pfolbw+n2RvzNXygZ4\n",
       "lfaFOTjmq+n/AzvZ3d2zaXgzAAAAAElFTkSuQmCC\n",
       "\" style=\"display:inline;vertical-align:middle;\" /></a><br>"
      ],
      "text/plain": [
       "expandRegisterWithZeroKet: forall_{n in Temporary_placeholder_for_undefined_proveit.number.sets.integer.NaturalsPos} [forall_{k in {0...2^{n} - 1}} (|k〉_{n + 1} = (|k〉_{n} otimes |0〉))]"
      ]
     },
     "execution_count": 8,
     "metadata": {},
     "output_type": "execute_result"
    }
   ],
   "source": [
    "expandRegisterWithZeroKet = Forall(\n",
    "        n,\n",
    "        Forall(k,\n",
    "               Equals(RegisterKet(k, Add(n, one)),\n",
    "                      TensorProd(RegisterKet(k, n), ket0)),\n",
    "               domain=Interval(zero, subtract(Exp(two, n), one))),\n",
    "        domain=NaturalsPos)"
   ]
  },
  {
   "cell_type": "code",
   "execution_count": 9,
   "metadata": {},
   "outputs": [
    {
     "data": {
      "text/html": [
       "<strong id=\"expandRegisterWithOneKet\">expandRegisterWithOneKet:</strong> <a class=\"ProveItLink\" href=\"__pv_it/914802b32a917f547aa24ea774abf4d01e7f084e0/expr.ipynb\"><img src=\"data:image/png;base64,iVBORw0KGgoAAAANSUhEUgAABAoAAAAZBAMAAABKh9E5AAAAMFBMVEX///+IiIgiIiIQEBB2dnbu\n",
       "7u5UVFTMzMzc3NwyMjK6urpmZmaYmJiqqqpEREQAAACk/Np2AAAAAXRSTlMAQObYZgAAAAlwSFlz\n",
       "AAAOxAAADsQBlSsOGwAACyZJREFUaN7tWw1sFMcVfne3d7u+P5+R7aTYpVdLFOEIyaSooDZpz5FD\n",
       "IhqaJaUkLQKfmwQSJUoPHFFQiliFH6WlBRM1UpSG9oA2FQXKQWzagFOdkQIFbHokgciCqIfaChLB\n",
       "YbWyjEgj9703+3s/mJMPJZU80np35/3OvG9n3sycASZKhcoPm7T/S79dTTMmglex0jV+FRqMASS5\n",
       "PC2JAppio2j6Bf0TwfscocCVgXmlaMHeFQ0A4URZWi4VEKWkRdmhX4iCLN0uTMSwEigYb1++DxS/\n",
       "pXfn129+6xIEd6U9GoRSZWk5XxQF8lRBQbjwhSg4TLRXJ2JYCRSMsy+9XRw/+FX+KB6Hh5MbJ0G1\n",
       "ChAtS4u7GAoWvTWsU17Rr35YRWayEzGsBArG2ZeBtIjfp0bFXnHzqeBpgQ7Yhc/zy9IiZSxw1La1\n",
       "qmIscA3rlFP61Q9VqoN5oowDBePsSw9w/PzDRsUZvX4YfNdhNnRjbrilLC02SO5RwTvZQgFTPKq4\n",
       "+iGI0KmaCGFFUDDOvtwt4ie15KHAFwXfiDIEzR+geq0sLeb05L+Mf5YmTRQwpSotLlwj3N3UNGsi\n",
       "hJVZI4yvL7tF/KrioQbVjgKa4If8cajFgIViZWl536j1SRp4U/dbKCCKFBcXouBPAP+aCGFlUDC+\n",
       "vnxdxK89/eH6dB4K1kWMp6LpYaCJS7xAi5ke3gkPwmJYaKGAKMEucSEKNlEO+jkrj1WYr3KCN0dB\n",
       "QV8eS48l9UKP+ThDxO/vP8us0fJQcJf5dHgshQ4tAX17AOIgrU6Bz0IBUUJRcSEKwqqxkyDK0e7H\n",
       "uw+WleIsGnK8HtVx6/0R/X3Tsc/hPVKyWwzGxb0ArQ6gzy5pubXUwmxN0UzdmlQNA0Wl/dfSsPvL\n",
       "xRn0tvqvdR96qhAFoi+Pmh+ujJOz1GoO4t62ZaqjN07gn7nm69dF/N48zm8Hm5q+2tT0FdEF1jbB\n",
       "KijQ4CwOLbIBSvThEPpioYAo8pC4EAWhiJXQrHjuY3gS/gbBZDkoCDl3zTxG3Afpz1YHzXey5OaX\n",
       "wfjs7/OXy0M3Wx0XJ/qKTp/ttyhd3wIurTiD0dajAPcVokD0pYd6T67PJZm7Ff5o4hkC0dDbA6Zv\n",
       "KyYZvWSP3/TuhDM7FMs5a09ILylDQ1EUCC1mGpECpS2BDpgoIIq/RVy0g9zVZ3qJ85qShucgqJWD\n",
       "goCzy9fb8xSY4qBVl1ZsMF7PJ7iyt47AAiQ6yuAtSvf8F7+a4gxGW58B+FIhCkRfMp6PJHTx2Vaj\n",
       "q5PKSGgKmGsAeNfh1HaOn/eGfyQPBRixl6Bg9MoaGpx5gUOLOfqlYANMtqOAKLYZAea/YuxSNwIf\n",
       "N8zEP97WRjh1vCbeuByCB/qXI6Tb4PyHDdrivgf5viPOXjDNnQSqhtY+WFiThmPELtXGoBmH975t\n",
       "rIpEqDmPz2dS6O0zf6ZxtR7CummDEc7NygAqR9sprvD2foEG2FONxxIshdIo1sa0HXHlvl8mdO8N\n",
       "ZfWuYwlYV/Mk+aLbkRoz9LZh+gP8CIYBkmajfY0RGzvEDhIKsE3EwC1l/6mR2FZWcS/P1dgp0Dpg\n",
       "QwH1JZxWGsCV1kGkXAePMb8GVWUElsvZEii4yPELDnk/dTlR8DxAnTEwZvUOc6DAXhxatoDoSdgn\n",
       "x8CV3GehgDYegllxEQrWI4R4l9or3FMIRI8kfHDyHvga1ENwf2IlVCV96ZMzq85Ok4cB75nYMM15\n",
       "gtYOXqp2Jzu90zANeRpl4DV4FkdTrB8RqlCEdJ8GJgV3RQiyUrXaqZs2GNmr+4fJ9hyueCSxjr6q\n",
       "kyNylKVQGsXOMQ35WC2rMJXFXXGYpDaQL7qdw3KcPdvOj2AZQGnS44qH4zZ2OdOeWSvahAzcUvKf\n",
       "K9qFCmUYNqW4UwLJVTYUUF9Cxy++qy0VYe8C6hgrF5KiEHWddKBgp/k2l+Pny3pHJAcKlLuOHDKW\n",
       "BlJGP1EoiQKHFvzouKEQ+C1WfzFmoYA2IQMRcREK6JyKd6n9wtsgzYXLlIeUBVG4gcP6xnoc4w6B\n",
       "9NTPu+RASm5R8K78IMoDNdMGgarhL/CoL74hjRNTNwTiMBc/BKwfYlUowrqPAJNeOsFHmxvfxXmA\n",
       "TRuMnAgpS6Jke5grjsA66ogFcWWIpEh64078VEnrkijvrQsVprIkjtoX4QT5otv56B1gz4b5ESwD\n",
       "KE02tqpVaRu7Sw1E60SbqlXkdWXZf64YFCqCM2vOUr4lxcOvqzYU8JnfrLSsb/6uyRAKPGa2CCtV\n",
       "bzw034GCKuMzZzzMg3AGGuocKKgaHR01Zia33trSKHBoiYJoKADvGqmEAt8//t0hVpxuTVzmyTLt\n",
       "Ugd/nctdxcyK1H9jQAVfBJs9g8aY93AEDMcw5apO4odGqZcv5ouI8ec9DDpX4yDp6T0LCsngIPjP\n",
       "ALNnhaqYuSQmEjxhWO0Qpk1G3ssKR9A2pi1UcUMkDOFIqIWkWLoN/sA05Ntlem8o6wR3BpF4iHzR\n",
       "7XT+R6M3SoTwESwDu0RDj+LUbWMPgHJDbyoy+CLYUvKfK7qFCh9PwdQp8rfm2FDAn+4nmF6dyOVy\n",
       "GRmXBDgjVJsrLkXfTZCRmrssYhjaZm4NJcB5snymMGU5r7c2kMt9M3elGArsWugIkhuKuL1DXRGz\n",
       "Tpb5cPJF/TJRQLvUsggVQ3eEUyz8CoYSSHsGc7b2BOa+7Vr4HZVyYHdSJGBEa1a5GtO6apqkSaZa\n",
       "8464f0fsdeqIkTYzOxCJE1nOZ2drbNpk5Lyu/VG8BWIJrPBeh4vf42pfiqRYuhki7CDy1Xs13XtD\n",
       "2RTYKiP67yVfhB1F/WmE3lzxx+gRLAMoPcKDaCdY7JQTPB0TTUUGT9Kzmv3nimaVVXjSIpFtT2xU\n",
       "tuWhIJjdqdBUrm/O2bJD2ASrHRGjGHaab8FUHgr2FqLgstHakmOBXUtYA9FQfF5Co5eJAqJAr371\n",
       "W6ux5g/0fa+tJHMVXDjW+yLBbEy5rkyFafidYO7r0dbt5RzYndjPckjzDkW4+jWQcByKsIw74Yu1\n",
       "u4j9J7oqsfCiM00kGYu/Of7hCJs2GaEdx4NBCQXc+xJUMUceoR7fqr2okhRJwzQlyczId0CChbr3\n",
       "urIOOC3B1GCWfCGJhYhYKUFvgUiMHr0x0wBKk55zsAwsdliL5jKiqcjg0fYvYP+pAttKKtAdcp86\n",
       "pRkeyEOBL7JSgrBqLDFaYTcqRaPo56Uf9xSgYNAR4nk3X47RsbF+olAKBXYt3+cVCzbUSkySFoVO\n",
       "lPhUyUCB2KXeQtzP/+YA7d3018EbuJxQOtTgtgYVNtdm8B38vWceojuEej+C6tFRpnUkuXpzf523\n",
       "t09FmSdU5cB88E0W7EIVcYMfZyMioTl+Pz+AsmTaZORpbdGdKOASFXsGatOjo0MnanpYiqThjX7h\n",
       "IPLtOQ6dmvBeV/YqbKqDF2qBfCGJTi14YUC89SboUZ5jGkBp0hOgBYrJLk1P0GEuu4QMod5zk7nJ\n",
       "XNGRJBWua7yWoE4Z6M/koaBK8x3HgBsokFp7UCka7dQ82BB7vDZQV9tQsHRMFNDSQz9RYBSwhrxi\n",
       "00KLPm5oAQqIQkhltDp/ceb9Tu7jMbcDjC3YKyVppUtw7J/KnCp9RnIby+zK7CDbysKcvms0VrGh\n",
       "QEnDHTdnDtueS22j2LQUsrgSFuWv+nVLvzt0F9tO7vB3laSVbsO5MX82d3V56d3x21XkqKur4igQ\n",
       "Q2y0LBSUV1IV64BbQcHDPUUqL9SWppUsUs2YLK2R4pKfqLcPBcqVb6u3BwWwbUzF8vbP/vBu4jfI\n",
       "lSsvF/l/BHnMM8W16mftt6vpnv8BVmwMKheUhLkAAAAASUVORK5CYII=\n",
       "\" style=\"display:inline;vertical-align:middle;\" /></a><br>"
      ],
      "text/plain": [
       "expandRegisterWithOneKet: forall_{n in Temporary_placeholder_for_undefined_proveit.number.sets.integer.NaturalsPos} [forall_{k in {0...2^{n} - 1}} (|k + 2^{n}〉_{n + 1} = (|k〉_{n} otimes |1〉))]"
      ]
     },
     "execution_count": 9,
     "metadata": {},
     "output_type": "execute_result"
    }
   ],
   "source": [
    "expandRegisterWithOneKet = Forall(\n",
    "        n, \n",
    "        Forall(k, Equals(RegisterKet(Add(k, Exp(two, n)), Add(n, one)),\n",
    "                         TensorProd(RegisterKet(k, n), ket1)),\n",
    "               domain=Interval(zero, subtract(Exp(two, n), one))),\n",
    "        domain=NaturalsPos)"
   ]
  },
  {
   "cell_type": "code",
   "execution_count": 10,
   "metadata": {},
   "outputs": [
    {
     "data": {
      "text/html": [
       "<strong id=\"ketPlusDef\">ketPlusDef:</strong> <a class=\"ProveItLink\" href=\"__pv_it/ad7ce56581bdb62c0873a5b4f1a5dac0e857f6020/expr.ipynb\"><img src=\"data:image/png;base64,iVBORw0KGgoAAAANSUhEUgAAAIUAAAAyBAMAAACAOwXCAAAAMFBMVEX////u7u4yMjJERERUVFQQ\n",
       "EBAiIiJmZmaqqqqYmJjMzMyIiIi6urp2dnbc3NwAAAC2AzRPAAAAAXRSTlMAQObYZgAAAAlwSFlz\n",
       "AAAOxAAADsQBlSsOGwAAAj1JREFUSMetlTFs00AUhn8nKAlOYywGNiQk1DWNVKYOVRBSGTuVgaVU\n",
       "Kh5pxECWSPXWoaqSBRYGPFSszQBCsJCVqZFYimgliyJWoKpUqQUF2+eck8td83THP9zlfLnP9969\n",
       "/wxcKiftA3EiZJ2N6ar0WL8gThyyLh/QGEfvQmzJGK9dlBokRs63nqAwybDuz7nAIxLjBfAZFT99\n",
       "8GlkHx8jxgGJcQdou04tfbAtMI5JjDNg30dVwciFBIYVMzrYUTBKfQLD+QvsdXlSRQYhqSmjj2JP\n",
       "wWhRYokY+13Y9Wj0zPNWPG99jLFLzGnb53FP7GOHwpgHXrk8/xOMKoXxHHia1YHISAonO19bzij4\n",
       "1sOsHkVGUsCH/P8yD0YM6+ubIDvCEca91fX0zDOGzIND7/O57XHvM0NnDFm5DBn5UOK5WIt8MNOJ\n",
       "2wM147riDrJu8UGpG7fHasZ7BaPcERgSD5bTPNfEiQ9pjBAYBA/KNcJgSS16ieqajJb2PqIXP36Q\n",
       "vHj3P8Qy4cFrA4J+jTGq5vlwauax8I+IAaNAWrCXJEHF2CIxFhT7YJ5bpCDsmoIx4sFputK7jME8\n",
       "OE3f4DRvB1IDcg9OUwvfUfkDE0UB3wVWjBhFH6sulkMTxg1gCVgOTBhfknZDd3mpN7ym7Atdxtuo\n",
       "fsrMFA1NhHPzfGippv6xngIv4x9XG/r53Ayxxq47R/tsfzaSr4fdR9nVZeR/5+K1P5rNJe1YZi6S\n",
       "G2ZuMDjRT8hsFcZq180ZBflx/AP2u97SgCjPFgAAAABJRU5ErkJggg==\n",
       "\" style=\"display:inline;vertical-align:middle;\" /></a><br>"
      ],
      "text/plain": [
       "ketPlusDef: |+〉 = ((|0〉 + |1〉) / sqrt(2))"
      ]
     },
     "execution_count": 10,
     "metadata": {},
     "output_type": "execute_result"
    }
   ],
   "source": [
    "ketPlusDef = Equals(ketPlus, frac(Add(ket0, ket1), sqrt(two)))"
   ]
  },
  {
   "cell_type": "code",
   "execution_count": 11,
   "metadata": {},
   "outputs": [
    {
     "data": {
      "text/html": [
       "<strong id=\"hadamardOnZero\">hadamardOnZero:</strong> <a class=\"ProveItLink\" href=\"__pv_it/00eae3f0214b69482eeaedf63d045e2a782358c60/expr.ipynb\"><img src=\"data:image/png;base64,iVBORw0KGgoAAAANSUhEUgAAAHQAAAAVBAMAAABlHNfrAAAAMFBMVEX////MzMxUVFREREQiIiK6\n",
       "uroQEBCYmJhmZmYyMjLu7u52dnaqqqqIiIjc3NwAAACFAiZ1AAAAAXRSTlMAQObYZgAAAAlwSFlz\n",
       "AAAOxAAADsQBlSsOGwAAAcRJREFUOMt9VL9LQlEU/spMzZeJ/0DmP5BzUElEUzRF0FSDDbUUNbW5\n",
       "NEURLS2hUtHSkARuRQ4Ngos2Fwn+AVki/TLqO/c+s3p6LxzOPe983z3nnnPuA1DGr2UbXZQAHKsF\n",
       "FQD6c7+dWa1cQcBddFCzPzsBoEC5/dpPr6/up5XTf7ULK8GvdwaqAPr2ZPdGidvOQ5yUEePel+5M\n",
       "FYB3TTL/4NVetdMTgz+KS+49ibZUtzAE0CvaXyewoZ2uMKx3VMRYaUu1VA0ImBftq/Li79o5kIC7\n",
       "AZ8U88BAJWBb9ECU4WPaeU7qC6wMjQsDlQB18sJEJDKc0M7HDLo+VRmwKV+8k2qF/1EJmBZ1zS49\n",
       "5FpUVm2Lxo0hKgFLolKU8bSdcAZuRg3RGHRSmcNUXOUQ0tQaZRk/ZbIaelLmTFELHACoKJKkbk4U\n",
       "HhY72Uy4012TGJW2PnGU6zbVswjvHgKsOTYMUQmQBvRIW6tN5zROg/BL0XYMVAJmgaPUc7F7vFa0\n",
       "nWf3QzxNjBkDlYCeYNsBz0tOMQM175jxJnUM9svoNP5jtjio6ilWDO9VAY7bOfvl5BEDVQECf9Iq\n",
       "2f8Pea5lB7XU+sEA3xiIi/BK9Wv/AAAAAElFTkSuQmCC\n",
       "\" style=\"display:inline;vertical-align:middle;\" /></a><br>"
      ],
      "text/plain": [
       "hadamardOnZero: (H . |0〉) = |+〉"
      ]
     },
     "execution_count": 11,
     "metadata": {},
     "output_type": "execute_result"
    }
   ],
   "source": [
    "hadamardOnZero = Equals(MatrixProd(H, ket0), ketPlus)"
   ]
  },
  {
   "cell_type": "code",
   "execution_count": 12,
   "metadata": {},
   "outputs": [
    {
     "name": "stdout",
     "output_type": "stream",
     "text": [
      "Unable to use 'dvipng' backend to compile LaTeX.  Be sure a LaTeX distribution is installed.\n"
     ]
    },
    {
     "data": {
      "text/plain": [
       "emptyGate: [GATE]() = [I]"
      ]
     },
     "execution_count": 12,
     "metadata": {},
     "output_type": "execute_result"
    }
   ],
   "source": [
    "emptyGate = Equals(Gate(), IdentityOp().withStyles(gate=\"explicit\")) # base case"
   ]
  },
  {
   "cell_type": "markdown",
   "metadata": {},
   "source": [
    "And then we have several axioms involving the Circuit class, which class itself still needs updating<br/>(in particular, the Circuit class needs an appropriate substitute for the ExpressionTensor class -- perhaps ExprArray)."
   ]
  },
  {
   "cell_type": "code",
   "execution_count": 13,
   "metadata": {},
   "outputs": [],
   "source": [
    "# circuitGateApplication = Forall(\n",
    "#     U, \n",
    "#     Forall((x, y),\n",
    "#            Iff(Circuit([[Input(x), Gate(U), Output(y)]]),\n",
    "#                Equals(y, MatrixProd(U, x))),\n",
    "#            domain=QubitSpace),\n",
    "#     domain=SU(two))"
   ]
  },
  {
   "cell_type": "code",
   "execution_count": 14,
   "metadata": {},
   "outputs": [],
   "source": [
    "# circuitMultiGateApplication = Forall(\n",
    "#     n,\n",
    "#     Forall(U,\n",
    "#            Forall((x, y),\n",
    "#                   Iff(Circuit([[Input(x), MultiWire(n), Gate(U), Output(y)]]),\n",
    "#                       Equals(y, MatrixProd(U, x))),\n",
    "#                   domain=QubitRegisterSpace(n)),\n",
    "#            domain=RegisterSU(n)),\n",
    "#     domain=NaturalsPos)"
   ]
  },
  {
   "cell_type": "code",
   "execution_count": 15,
   "metadata": {},
   "outputs": [],
   "source": [
    "# zeroControlledNgate = Forall(\n",
    "#     n,\n",
    "#     Forall(U,\n",
    "#            Forall(x,\n",
    "#                   Forall(alpha,\n",
    "#                          Circuit([[Input(ScalarProd(alpha, ket0)),\n",
    "#                                    PASS,\n",
    "#                                    CTRL_DN,\n",
    "#                                    Output(ScalarProd(alpha, ket0))],\n",
    "#                                   [Input(x), MultiWire(n), Gate(U), Output(x)]]),\n",
    "#                          domain=Complexes),\n",
    "#                   domain=QubitRegisterSpace(n)),\n",
    "#            domain=SU(Exponentiate(two, n))),\n",
    "#     domain=NaturalsPos)"
   ]
  },
  {
   "cell_type": "code",
   "execution_count": 16,
   "metadata": {},
   "outputs": [],
   "source": [
    "# oneControlledNgate = Forall(\n",
    "#     n,\n",
    "#     Forall(U,\n",
    "#            Forall(x,\n",
    "#                   Forall(alpha,\n",
    "#                          Circuit([[Input(ScalarProd(alpha, ket1)),\n",
    "#                                    PASS,\n",
    "#                                    CTRL_DN,\n",
    "#                                    Output(ScalarProd(alpha, ket1))],\n",
    "#                                   [Input(x), MultiWire(n), Gate(U), Output(MatrixProd(U, x))]]),\n",
    "#                          domain=Complexes),\n",
    "#                   domain=QubitRegisterSpace(n)),\n",
    "#            domain=SU(Exp(two, n))),\n",
    "#     domain=NaturalsPos)"
   ]
  },
  {
   "cell_type": "code",
   "execution_count": 17,
   "metadata": {},
   "outputs": [
    {
     "name": "stdout",
     "output_type": "stream",
     "text": [
      "Modifying axiom emptyGate in proveit.physics.quantum context\n",
      "Axioms may be imported from autogenerated _axioms_.py\n"
     ]
    }
   ],
   "source": [
    "%end axioms"
   ]
  }
 ],
 "metadata": {
  "kernelspec": {
   "display_name": "Python 3",
   "language": "python",
   "name": "python3"
  },
  "language_info": {
   "codemirror_mode": {
    "name": "ipython",
    "version": 3
   },
   "file_extension": ".py",
   "mimetype": "text/x-python",
   "name": "python",
   "nbconvert_exporter": "python",
   "pygments_lexer": "ipython3",
   "version": "3.7.3"
  }
 },
 "nbformat": 4,
 "nbformat_minor": 1
}
