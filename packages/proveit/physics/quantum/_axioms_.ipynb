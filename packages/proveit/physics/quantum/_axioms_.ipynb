{
 "cells": [
  {
   "cell_type": "markdown",
   "metadata": {},
   "source": [
    "Axioms for context <a class=\"ProveItLink\" href=\"_context_.ipynb\">proveit.physics.quantum</a>\n",
    "========"
   ]
  },
  {
   "cell_type": "code",
   "execution_count": 1,
   "metadata": {},
   "outputs": [],
   "source": [
    "import proveit\n",
    "# Automation is not needed when building axioms expressions:\n",
    "proveit.defaults.automation = False # This will speed things up.\n",
    "from proveit._common_ import k, n, x, y, alpha, U, f, fx, fy\n",
    "from proveit.linalg import MatrixProd, TensorProd\n",
    "from proveit.logic import Equals, Forall, Iff, InSet\n",
    "from proveit.number import zero, one, two, frac, Integers, NaturalsPos # Complexes\n",
    "from proveit.number import Add, Exp, sqrt, subtract\n",
    "from proveit.number.sets import Interval\n",
    "from proveit.physics.quantum import Input, Output, RegisterKet\n",
    "from proveit.physics.quantum.circuit import Gate, MultiQubitGate, IdentityOp, CircuitEquiv\n",
    "# from proveit.physics.quantum import Bra, Ket, RegisterBra, Meas, MultiWire, Circuit\n",
    "from proveit.physics.quantum._common_ import CTRL_DN, ket0, ket1, ketPlus, H, QubitSpace\n",
    "# from proveit.physics.quantum._common_ import I, X, Y, Z, RegisterSU\n",
    "from proveit.physics.quantum import QubitRegisterSpace\n",
    "# the context is in the current directory:\n",
    "context = proveit.Context('.') # adds context root to sys.path if necessary"
   ]
  },
  {
   "cell_type": "code",
   "execution_count": 2,
   "metadata": {},
   "outputs": [
    {
     "name": "stdout",
     "output_type": "stream",
     "text": [
      "Defining axioms for context 'proveit.physics.quantum'\n",
      "Subsequent end-of-cell assignments will define axioms\n",
      "%end_axioms will finalize the definitions\n"
     ]
    }
   ],
   "source": [
    "%begin axioms"
   ]
  },
  {
   "cell_type": "code",
   "execution_count": 3,
   "metadata": {},
   "outputs": [
    {
     "data": {
      "text/html": [
       "<strong id=\"ketZeroInQubitSpace\">ketZeroInQubitSpace:</strong> <a class=\"ProveItLink\" href=\"__pv_it/8c6c8ffbd3170b4c02f4700cc86df529fc124cf50/expr.ipynb\"><img src=\"data:image/png;base64,iVBORw0KGgoAAAANSUhEUgAAAyAAAAAXCAMAAADEOdvSAAAAM1BMVEX////Ozs4QEBBUVFRERESY\n",
       "mJgiIiLu7u6qqqoyMjJmZmbMzMyIiIi6urp2dnbc3NwAAADopfdnAAAAAXRSTlMAQObYZgAAAAlw\n",
       "SFlzAAAOxAAADsQBlSsOGwAACFxJREFUeNrtW9mS6ygMZQwGm9X//7WDEIuwcRKn3bn9EKqmbwqj\n",
       "o4MWENjD2Ld927cdm/Kec/W1w7d927Bp+E8yFvpu87XMt31bbJuLybEZ5l3XLb4Z8m3fFtusugTx\n",
       "3mrYTBb9rDSTUnAOf4SU9rOcvdye568Sk3woatZJv6BMe/+TCnSspYBa/Y70pWbfBxib8C85mSkb\n",
       "o5DPLPh7cfcyLCfIukDoQ4Y8s4xNBxc0YCT44azeXhm16iei2/KCbbiZlh+RHWipoNK/IX2toQp0\n",
       "6uW2vpVdbyp7w8l2shCGi5fzzcHTLVNS5QSZU7x7AX+eOIbDn7AlA87u0wen9c3I7ETd9sLWMC1O\n",
       "/OgOY6TlddCXOL7Qlu2u5P49ZZedrITM1tFbuDl4SAvJVylBBMf5Qdkl9skaSykpC3iYMRmTAe2n\n",
       "b8FequnGsUVEvfxEgA60XAD18pNLyk2zf0/ZdSevU6HnppuDh+ZHTAoTMEFwQ3Ap7NcuJ93aZwHu\n",
       "GRwNuHw4P8JLVeQwtqjoK/XDzwN0oOUC6KpvWlL8Tcn9e8ouO9m3/c3om4OH7h/GGK1SgqiSIHOq\n",
       "6+iodbiU0DOc8tZGHOY8D8FbbpnxVkAiOS+CsXhoYXEUj50m1nFBe6wc4w8bIK9br7IaOhRvKdlQ\n",
       "ShVZ5RDXG0IDYmuZrQj1MXetAAVJg/YtAh2jUq7ySXLdIRyHZaqMd5M/0UJBs2Av0wYS6b0FOhKZ\n",
       "WEaTnTrsdFxsgtsK0/SNuRfHsZVHmCdWAsMrMoQoq49Y76NC+WGoZE9VeyjoNr6V/mFr0acMu4h7\n",
       "Akz8lNlPGzQsscKWksJsaXp09VjDOBlb4jppwHwRiAlhIdngZLLA1ucZB7fB0SbIlIeBWSa0Z37C\n",
       "/TGiC9iMWq9HUXKgIihcsF4u4sZHWhAaUQuQ5nhWKmqzKJGsApQRKcJzWA2J54KCUK2TDydaKKjH\n",
       "yqCXqQOJ9MEChEQlli028d4ZWHzQUwHVN+ReHRdNqHDcuZXgfYDTHfOirD4qJsw+IpQfhEr2VEXV\n",
       "cDFk0zu7soHsaqUruCfAxE879n2CpH80OXqvJ/cBJJ1hUbGOGccmwQoWWD4scSXKv3HzlV7NTEq4\n",
       "7QQ3TCAK/FpvlEmFLK8nIYoyJcs0uYwbuysNcJOpAEVtFs2SK+VNGQ324xHxehpDqvFPm7wZa6Gg\n",
       "eY6dTBtIpA8WoCQKsWIx2PgrSumkOFTfmHtxHB5GIZ3PrRRgnJi7KWZl9REtvMD+hfLjUEmeaqhz\n",
       "TFMbg7/dmB6uay/gngCTSezZ5xLLY4mVMEwrb8wkc+uO7rytb2KLG1LCiCiuGhfiU+XLEL8pjQIb\n",
       "D4ptRTl2wuxar8oTmeoiQVAMXlk0ufyT0ihuSgBVLUNRIlkFKKPjfcyQODtQLZNP4TXSQkEVbiWd\n",
       "TBtIpA8W+K+RqMQKDbd0zsi7FcGh+kbcm+PQhBAU51YKm5jDzvJZWX3UMe0oPwgV9FRDhWQQ3To9\n",
       "kd1VXcQ9ASaT2LFn9JC+4MZADiFKsCdHkI3vgorEZ74MERMmdtRt6QVJ6sQpkd70y9BFoqLYaS83\n",
       "iSON5CZcrJtaFCWSRGB0ZVNOqUPinWDeFnDyKbzGWujRd8l3HE2mDaRWOVigkTgQs3tnqAMO0Tfg\n",
       "ThyXbgjgyuaBlXws0H2nsyorjyjTnvKDUEFP9YbrayrZysbFXMQ9Aaa9PftyzSuwclL7c4d8dgQh\n",
       "WHyt8eliuqocEWrTeYfyqfqV1Z6+HTZahZlmZ6d9XME9guAASuRU1d5ooJuyTFWbRKlGwlsPJon3\n",
       "3mxIvBfME8DJx1VWnWhpoAy3fSrTBnZWOVigkjgS8706VOG2vMru9Q24E8elzQIW5odWcumg1IYQ\n",
       "Za6doaqPKOXzUMlO7gwHQ6Jd25YU2rHqIu4JcO8n158A07Y7tczrXoRY+/gIUrZV6Jh8jc9INJZ/\n",
       "uBLZqWzPk6ebvkoocZNbAi0FUhQJvr/xzCi2l8vbviM00OlR1UzVJlEqSXiPLidLiTci3gd8XFvg\n",
       "q52pnFL9iRYCCiM8ozJtYGeVgwUaCUIs0UhraVOXVfjo0QZE9B25U8dt5Sx0aiXcDDdFh2Rl7RFl\n",
       "Gn1EKD8OFUtQlXCxos+5UNbnEpR4VXYF9wSYTGLHvnxqAkd9NeFVXPd2Yx2866AJNqdyFT7jwv0a\n",
       "43P1oFdtAo4xsVsnd+g0u7rprxZe4Wvmu14Y6mi921A2p2wvp9NW5g2hgRUEfGRG1aIokaS83fmd\n",
       "+ZB4R3XKEwCBGCKxfh1qoaBxqQ1zL9MGEumjBRqJRiwFJn6S1FCyCh6XzbSmrKzXd+ROHQfn1oQ9\n",
       "sBJiAUv8bo9YHpW1Rzi0+oja8jxU0FMVddmM0hMesTJg7JvxKKAOPnqGewLcm7//IBETBK6BuRlU\n",
       "VYoL1xWfnq8buVxnNkpitZcE8RO5RdsAE3EWP4FM30K6NipDW28Ct2bXG4emTXTD1lBmvEQhcoBr\n",
       "05vMSgMvIGJ/pxZFqeSON2sKu9vREfEyDqgudAJBzMuJlg5U2Jn1Mm0gkS56mgUIiUoM7pbmeeeM\n",
       "rCKCpydS7/UduFPHKZ3fgoyslLBM7LZzPyQrI4+kZtRHO1uOQyU7uaBGKjaOmRcCGDsF5+2y9Qru\n",
       "CXCdBGHfJQg5ye3fTTovyKcml748ePdttF/vQPnJBxr8L4Hqf/dp7ccMLv8s7j5BRLiNnXzjcwk4\n",
       "B6nuM1qpP+yshQ8Ly38H+nELfL791hRvwN0liFpvI6fe+SQUvijj/qcoPzOquNEIN4B+3gIfb781\n",
       "xTtwdwlib/tfPJZ1W6+DLdZq92OUH7U5n5v+COg/sMCn229N8RZc27+3F+zbvu3bavsfRN+LzRjd\n",
       "xpQAAAAASUVORK5CYII=\n",
       "\" style=\"display:inline;vertical-align:middle;\" /></a><br>"
      ],
      "text/plain": [
       "ketZeroInQubitSpace: |0〉 in Temporary_placeholder_for_undefined_proveit.number.sets.complex.Complexes^{2}"
      ]
     },
     "execution_count": 3,
     "metadata": {},
     "output_type": "execute_result"
    }
   ],
   "source": [
    "ketZeroInQubitSpace = InSet(ket0, QubitSpace)"
   ]
  },
  {
   "cell_type": "code",
   "execution_count": 4,
   "metadata": {},
   "outputs": [
    {
     "data": {
      "text/html": [
       "<strong id=\"ketOneInQubitSpace\">ketOneInQubitSpace:</strong> <a class=\"ProveItLink\" href=\"__pv_it/b0891dfc4d22f5e54695750e2b096341bd69b3bf0/expr.ipynb\"><img src=\"data:image/png;base64,iVBORw0KGgoAAAANSUhEUgAAAyAAAAAXCAMAAADEOdvSAAAAM1BMVEX////Ozs6YmJiqqqoQEBBE\n",
       "REQyMjJmZmZUVFTu7u4iIiLMzMyIiIi6urp2dnbc3NwAAAC1cyw1AAAAAXRSTlMAQObYZgAAAAlw\n",
       "SFlzAAAOxAAADsQBlSsOGwAACC5JREFUeNrtW+mSoyAQZlXkPt7/aRdojkYxiYmTmR9StVMppL/+\n",
       "6AMadAm5293utm/CWs7FbYe73W3YWPwnCXF9t7otc7e7heZNSA6viDVdN70z5G53C20SfYIomeqt\n",
       "mT0rzaSknMc/VEr9Xc5W+uf5K+giH4qqdWEvKGPWflKBjrUUUM3ekT7V9PsAYxP+JScToUMU8ok4\n",
       "ey3uVoZAggjOVg/h8MwyOh1cwICB4Jez2r8yamVPRP38gm24WuaPyA60VFBp35A+10CFkO4d4fWt\n",
       "7HpT2RtO1ouOYThbOV0cPN0yFTeNsoPonCD2iWN4/ON8MuBkvn1wWt+MzE7U+Be2hmU29KM7jJGW\n",
       "10Ff4vhCm/1Vyf1zyk47WVCZrcO8uzh4UHPJV9sEcXSbrKGUkrKAuwmSMRlQf/sW7KWabhxbSNTK\n",
       "bwToQMsJUCu/uaRcNPv3lJ138roUema5OHhwfoS9QLldgpC1y0mz9lkAozkMnr+cH+6lKnIYW1j0\n",
       "lfrh8wAdaDkBurKLlhR7UXL/nLLTTrZtf1Ps4uDB+4dSiol9gsx4lm4dLiX4DCes1gGHGMuds5pr\n",
       "oqymEdVY6pSGQwsJo3joVJYSxyxUjuGHdjGvW6/QTKdDUUvJhlKqyCoHuFYhGjG25klTVx9HtUU0\n",
       "SiqwbxHoGJVylS+Ssw5hPyxTJbyb/IEWDJoFe5k2EElvLdCRyMQymuzUQafh1FOuK0zTN+ZeHEdW\n",
       "HmCeWCkaXqAhSFl9RHofFcoPQyV7qtpDxG5lW+nvfIs+ochJ3ANg5KfMfvGx7Uus/pi+unEytsQ1\n",
       "UkXzBSBCaTCP8PFkMsetzxIe3RZMS5yMrgwFoyaUWWIX2B8DOo16W68FUXSgQiickl4u4IZHjCIa\n",
       "QUskzeGsVNRmUSRZBTAjVITnsBoSzwUFolon7w60YFALlUEvUwci6Z0FEIlKLFts4b0zoPjApwKs\n",
       "b8i9Oi6YUMC4YyvF9wGGdcyLsvqomDD7CFF+ECrZUxWVxYshnd7ZlQ1kUyudwT0ARn7asB8kCENH\n",
       "7/XgPgClc1xUtCHKkIWmDpst7+awEuXfsPlKKyYiZbztjG5Yomjk13qDTCpkeT0JYZQlWabJZdzQ\n",
       "XWlEN6kKUNRm0Sy5Yt6Y0WA/HhGvpzGgGv60yauxFgya59jJtIFIemcBTKIQKxaLG39FKZ0YB+sb\n",
       "cy+OCyYUkM7HVnJxHJ26KWZl9REuvKL9C+XHoZI81VAnF2PToRvT3XXtCdwDYDSJLftBgqhW3qhF\n",
       "5tYd3Xlb36gPG1LEiEuOqcaN8SnyZYj1goGA504QX5RDZ5xd6xV5IktdJBCKgiuLJpd/YhrFTQmg\n",
       "qiUgiiSrAGa0v48ZEic7qmXyKbxGWjCogK2kk2kDkfTOAv8aiUqs0DBz54y8WyEcrG/EvTkOTChC\n",
       "mB1byXk6uY3ls7L6qGPaUX4QKuCphhqTgXbr9IJ2V3ES9wAYTWLDfpQg6BAiKHlyBPF8E1QoPvNl\n",
       "CF0gsYNujS9IUidMCfWmXwovEhVFL1u5he5pJDfBYt3UgiiSRAKjK5tySh0S7wTztgCTT+E11oKP\n",
       "vnO+42gybSC2ys4CjcSOmN46Q+xwkL4Bd+S4dENgQmg9sJINBbrtdFZl5RFm2lN+ECrgqd5wfU0l\n",
       "W9k4q5O4B8C4t2c/ShB87pDPjiAIi681Pk1IV5EjQngmYJRN1a+s9rTtsNEqzDQ7vWzjKqAQyiMo\n",
       "khNVe6MBbsoyVW0SxRoRbzaYJOWI44Z4L5gnAJMPq6w40NJACWz7WKYN7Kyys0AlsSdme3Wgwvi8\n",
       "ym71Dbgjx6XNIi7MD61k0kGpDUHKTDtDVR9hysehkp3cGS4OCXZtW5Jrx6qTuAfAvZ9MfwLcJkj3\n",
       "IkTrx0eQsq3GjsXW+AxEQ/kHK5Feyva8WLzpi4QSNrnZ4VIgRRHl2xvPjKJ7ubztG0QDnB5UTVht\n",
       "EsWSiPfocrKUeCPifcBTmr7aWcop1R5oQaBxhCVYpg3srLKzQCOBiCUaaS1t6rIKGwKmASF9e+7Y\n",
       "cb6chQ6tBJuhF3hIVtYeYabBR4jy41DRCFVQEyr6nAtlfS5BCVdlZ3APgNEkNuwHCdK/Sl8H7zpw\n",
       "gk2pXGWu7NcQn6uNeoWn8RgTullyB0uzq5v+GghPkhHb9cahBte7DcUboXs5lrYyqxANqCDiR2ZY\n",
       "LYgiSczbHN+ZD4l3VJc8gSgQQiTUr0MtGDQstW7qZdpAJL23QCPRiKXAhE+SGkpWwcOymdaUlfT6\n",
       "9tyx4+K5NWEPrARYkSV8t4csD8raIxhafYRteRwq4KmKOnsl2AJHrAwY+iY4Coidj57hHgD35u8/\n",
       "SIQE4XTxEi6x+61UcGq64tPy1aPLdaKthm3GJEH4RG5m2sWJGK0hOqzVcDlm0B0211Y5rtWmNwxN\n",
       "m6iH1lAmuERBchFXpzeZlQZcQIT+Ti2IYskNb9IUdrejI+JlXKQ64wk4Os0HWjpQqifSy7SBSLro\n",
       "aRZAJCqxeLc0TRtnZBUBPD2RbKtvxx07TrD8FmRkpYSlQree+iFZGXokGcE+2thyHCrZyQU1UNFh\n",
       "zDQjwNBJOW+XrWdwD4DrJBD7zQ5Szz3bd5PGUvSpyakvD959G23XK1A++UCD/yVQ9nuf1n7N4PLP\n",
       "4m4ThLrL2Mk3PpeIZ3TRfUYr2ZedNfNhYfl7oF+3wPfbT03xAtxNgoj1MnLinU9C4xdl3H6K8plR\n",
       "6YVGuAD0+xb4evupKV6Bu0kQfdl/8ZhXv54Hm7Vm5mOUj9qUz01/BPQXLPDt9lNTvARX9+/tKbnb\n",
       "3e5W23/lc4whttc2OAAAAABJRU5ErkJggg==\n",
       "\" style=\"display:inline;vertical-align:middle;\" /></a><br>"
      ],
      "text/plain": [
       "ketOneInQubitSpace: |1〉 in Temporary_placeholder_for_undefined_proveit.number.sets.complex.Complexes^{2}"
      ]
     },
     "execution_count": 4,
     "metadata": {},
     "output_type": "execute_result"
    }
   ],
   "source": [
    "ketOneInQubitSpace = InSet(ket1, QubitSpace)"
   ]
  },
  {
   "cell_type": "code",
   "execution_count": 5,
   "metadata": {},
   "outputs": [
    {
     "data": {
      "text/html": [
       "<strong id=\"singleQubitRegisterZero\">singleQubitRegisterZero:</strong> <a class=\"ProveItLink\" href=\"__pv_it/ddbcd41f45573729acf337838342cbb44656b8080/expr.ipynb\"><img src=\"data:image/png;base64,iVBORw0KGgoAAAANSUhEUgAAAFEAAAAVBAMAAADMaB9/AAAAMFBMVEX///8QEBBUVFRERESYmJgi\n",
       "IiLu7u6qqqoyMjJmZmbMzMyIiIi6urp2dnbc3NwAAADV54WuAAAAAXRSTlMAQObYZgAAAAlwSFlz\n",
       "AAAOxAAADsQBlSsOGwAAAVNJREFUKM99079Lw0AUwPEvtE3atInOTp2dgm4OUgdngyBuUkHBRczq\n",
       "IO3mJl0EB5HgP2ARF+3S/6ABB4UqBPwDXKSliOC9S/yFlz44LoEPd/fevSNBh4MxvGyO1HhKPwuR\n",
       "Ubr9dF5KpTu8wO7kyufbhMNUHrObEOTJcmhtUdKyGOD6POTJVbjHDUUW6tgjXvLkArSani9ypkNt\n",
       "TDnJkRMYhJyIPFDyDTs2S0tkgyORrzHOO79SOt2QWE+l9wFXXUkpler3HHba/9fUMqbSl91jamrN\n",
       "S5xeYNhdyUEXp55mZI+Rk9iBOaNWKGmoKvkUR0h2mfxzThZhrSmlUZWfpdJGKmZccwXOkHKr29xk\n",
       "O9K3YJSl0JpDrlDJ/d48+maN0hpeR7qGWdfpbjFKHdJqX3J5qiwk39JSRfceJ90cuffT89XG1J6/\n",
       "UeMuW978jqrZo1El/ARWhXClWki1YQAAAABJRU5ErkJggg==\n",
       "\" style=\"display:inline;vertical-align:middle;\" /></a><br>"
      ],
      "text/plain": [
       "singleQubitRegisterZero: |0〉_{1} = |0〉"
      ]
     },
     "execution_count": 5,
     "metadata": {},
     "output_type": "execute_result"
    }
   ],
   "source": [
    "singleQubitRegisterZero = Equals(RegisterKet(zero, one), ket0)"
   ]
  },
  {
   "cell_type": "code",
   "execution_count": 6,
   "metadata": {},
   "outputs": [
    {
     "data": {
      "text/html": [
       "<strong id=\"singleQubitRegisterOne\">singleQubitRegisterOne:</strong> <a class=\"ProveItLink\" href=\"__pv_it/6e4f8a3c6ceb3ccc3e08a6bd604f02a17d1aea800/expr.ipynb\"><img src=\"data:image/png;base64,iVBORw0KGgoAAAANSUhEUgAAAFEAAAAVBAMAAADMaB9/AAAAMFBMVEX///+YmJiqqqoQEBBEREQy\n",
       "MjJmZmZUVFTu7u4iIiLMzMyIiIi6urp2dnbc3NwAAACIMV78AAAAAXRSTlMAQObYZgAAAAlwSFlz\n",
       "AAAOxAAADsQBlSsOGwAAAPRJREFUKM9jeMAABlwMWAEflF4AxHcgTJYFWFXyHoDQXlCVKxsYmBJw\n",
       "quSawcCgBlbJURbfwMAwAZfK9tQfDAycUDP3A1VewmkmN1AlrwJC5RO8KvkcECpZH+BTyRCHUMl0\n",
       "Aa9KXYRKJC9lzgSB6SgqOZFU5jAwNAbgNJPtAELlcgau3RNwquQqQKgEuoQJt0qgN+Aq4+AqsbkT\n",
       "GDQwlaAQw2PmE4SPQLGAR+UlsMoS++kbwDGLVSW7889qcBhCUx04tWA3EwRASQ2m0g+vSpYHcJUc\n",
       "wEDnu/ptAw6VrYg0zy2AN81vBOJdUOOx5yNuaKYBBiEAMX1m63+Ym98AAAAASUVORK5CYII=\n",
       "\" style=\"display:inline;vertical-align:middle;\" /></a><br>"
      ],
      "text/plain": [
       "singleQubitRegisterOne: |1〉_{1} = |1〉"
      ]
     },
     "execution_count": 6,
     "metadata": {},
     "output_type": "execute_result"
    }
   ],
   "source": [
    "singleQubitRegisterOne = Equals(RegisterKet(one, one), ket1)"
   ]
  },
  {
   "cell_type": "code",
   "execution_count": 7,
   "metadata": {},
   "outputs": [
    {
     "data": {
      "text/html": [
       "<a class=\"ProveItLink\" href=\"__pv_it/cdd055f8011865acb39a9ce4fcbc308ece0649280/expr.ipynb\"><img src=\"data:image/png;base64,iVBORw0KGgoAAAANSUhEUgAAATsAAAAXBAMAAACG6/UNAAAAMFBMVEX///+IiIgiIiIQEBB2dnbu\n",
       "7u5UVFTMzMzc3NwyMjK6urpmZmaYmJiqqqpEREQAAACk/Np2AAAAAXRSTlMAQObYZgAAAAlwSFlz\n",
       "AAAOxAAADsQBlSsOGwAABHRJREFUSMfFll1oHFUUx/+7O7Mzs7O7WUttpVthCYgfIIRSiEipuxqj\n",
       "CJUBg1DEZPugjzKxUi1FHWzrg2iaPiiFWlxTX4rGbDVR1D5MK1qLYKcSUWklK6LNgw55sLS0lnrP\n",
       "vfOZ7DC6Bb3Luczs/vfc3/045x7gOpvKPqIp/0RusU+S3Hdkch0C5fW0myG1xFPZTFdnHDyEJLnv\n",
       "6Dyztz3r0BfneqYr1cmr/EuNPbbT5fMgvNEN6CYnvKGqhbNiHtw+pR8O9Iy3VXjVaKxaqlqe5Hg4\n",
       "iG5y5khz5NuQpZfXhe2gTe/0jHdM4PWxiWJLqlq3Bd5VxOTy6qGGwR2dAB6GRM6+FqbR907PeAMC\n",
       "b4Z5wUSqOgeOV7iAmPxdA/I67ug3YMHgq5UzuBXZhLSe6QqTAu8+etFSQ+2IwJMGYvLCIutGW+To\n",
       "Cpupw8+aZgvb0N+/sWc8vS7w3sCZOQqTlDYr8LRmqWqE8rxkQW7fzxzJhGdTAEFqCvsY+DXm40s7\n",
       "bZRdc/4TzY8i96/SD5sSYkPv561Jz28KvDH7p912KL8JD+IxjDBH6p/AixUeG8VJYS9DZX89UfHd\n",
       "KXScGsFCjAw/EQ++U6wb9t+yDscrXZpWDnhZIK6MtzsF3sIrzk4rlDchPddG3serQ2f7UaoJKxu0\n",
       "OzlKicoalw3FkBt43/fYxgc4e24+GGF8Fet+DM56i+Ppm3iO3YHwX54y3u4WeB+eRFTOluIj5oY2\n",
       "l+HNVKCw9VKWhJUqFBn7SPcZDUJ4g+jzz+1l7DPPdHLhEN92wcsefMBLul7r+MqueLfPmlF5G+qQ\n",
       "Cd0LjQWHn8rCgDBMHmfdN2oVGX7oGJ56CTk/13zB8PLmCwl4mtjcsdaMybN78dh4dRle9Owd4njy\n",
       "5cJFRORt7ME6gecCpw0e0/7mYgsl6G2vPWKNcnfsPCoXkA3j4152VNe3YnhT/ku5wvFOY8ypUHYv\n",
       "HrZzVvLq/czxikvy1QxC+bRSR6Y1TY4+Bz4RGbHYEYbdNLGNtoL3uIudDuHlwlC5BY9i3onhaTf6\n",
       "91CT4z2FMbNO2X3vKvQZyXjDHC/fkS9KCOX6O1Ra8Ms768iD4j7RK8J46aBeYfnllOu6jvKkQZvb\n",
       "F/BMGB4m+9VdFIOW9vsZtcbx/kDmqMHzwTYchu66m93fu+FNcbyygyqbny8HeFo2eIZqrDFFxsla\n",
       "wsSOdqZUPBMsSCQ01KYSvwxo0O3B261hHcQrjUHMKsmrlzURFFQReXGtMV4PHfFa5iXPROKuPC2x\n",
       "FOOFBkssR1ialOusm3h2l7ECLwgNurUDPLYI6hLu+D4Zr9iO4EXkj9/wXaTeK1ui1uAmItDKn4R6\n",
       "3seTGnPYbil3se6ea9diI+x562gUj7nyvVK1VGhite3hceWythjiReXxcnSrV0QtL6RGXC8tp7UQ\n",
       "T+4EXjORyzCpQhsN8TJ2UrW8nqZtwNvN5UVI7d/g4VVkvKq8HBEkFc6qjbVYKfeAzXBuX3m2su03\n",
       "0uiUQ/j/mpJasTxv/FcsfwOyMlXYoX+B4AAAAABJRU5ErkJggg==\n",
       "\" style=\"display:inline;vertical-align:middle;\" /></a>"
      ],
      "text/plain": [
       "forall_{k in {0...2^{n} - 1}} (|k〉_{n + 1} = (|k〉_{n} otimes |0〉))"
      ]
     },
     "execution_count": 7,
     "metadata": {},
     "output_type": "execute_result"
    }
   ],
   "source": [
    "# Not clear why this is here, and we suspect it is incorrect:\n",
    "# shouldn't the extra qbit be on the left instead of on the right\n",
    "Forall(k, Equals(RegisterKet(k, Add(n, one)), \n",
    "                 TensorProd(RegisterKet(k, n), ket0)),\n",
    "      domain=Interval(zero, subtract(Exp(two, n), one)))"
   ]
  },
  {
   "cell_type": "code",
   "execution_count": 8,
   "metadata": {},
   "outputs": [
    {
     "data": {
      "text/html": [
       "<strong id=\"expandRegisterWithZeroKet\">expandRegisterWithZeroKet:</strong> <a class=\"ProveItLink\" href=\"__pv_it/ccaa6a23eb4c5ef0676b7ad60843065115153dff0/expr.ipynb\"><img src=\"data:image/png;base64,iVBORw0KGgoAAAANSUhEUgAAAY4AAAAZBAMAAADUPtQAAAAAMFBMVEX///+IiIgiIiIQEBB2dnbu\n",
       "7u5UVFTMzMzc3NwyMjK6urpmZmaYmJiqqqpEREQAAACk/Np2AAAAAXRSTlMAQObYZgAAAAlwSFlz\n",
       "AAAOxAAADsQBlSsOGwAABUdJREFUWMPNmH9oW1UUx0+al77k5SVLZ+vEdhIjgnMW6vBHGVOjlE7r\n",
       "Km9aBFG3tz+G/wx5ZVoZyvbm5v5QaOIfg4Grxk0E/1AyrUza/ZH9IXM/GOnoDHUV4x/DIRo6sEym\n",
       "Yd5zz8vLfX155IdQekuTvHe/7+R87j3n3nMDUL+1J+6DFd18id5GZCFY8e3CMnGY7I+a3JzcqNFn\n",
       "2wna18vE4cvDkPUxajQl/83VOVS1o8TYh0+Jo4hv83U4ovgWybXMMcu/ftsGtJJtSn6lFof05Hdk\n",
       "Zy1BI8cU9h2pwxHO4JvZKkYgTcP4EV7Em5K31eKYgOdNbieksZfDnGMM46xYh0PW2dt4y9MRzpFj\n",
       "ZbwYbkou5e3bWwcGujiHGgepyO2oOCnnOQciCWKP/DjckANezU/DqCxCQ8MhyqtDrHzLUDLYE9Uh\n",
       "skh2Hka5hhxqrm4ih2g9SLfM8YUV1n3QUHg65HbIf8WeC/yOPauyoJTJzlE0mOP+bUgkHqrL4U8k\n",
       "7km2zDFJjoX0SLcGkWRT8tnKXf1pgJcljfVsZxz/kp1BDD2dc5wEuFrDWNLBETYgqond6q563sjT\n",
       "9gNHybHtuZ8P5DwSPZzgTXfJK4nuMyUzkA0kWU8qCfJ1snMWXUlzjkMQ1GsYzjo4mOQQe+Ju+95u\n",
       "9j/QaV+ODO50PP1KmsaJWi859sv7+T0sGKaci9NZ11c75HypxOIIYPMHbFYsjr/IziVcyeOcI6pJ\n",
       "GXEY1w/BbfpSDjZluIJsxMvR11mUzjE/Y0qxSv01XJm3Y0DuYLYjdkJtJMe+OcOvxhxjNbraxeGQ\n",
       "y9ZoSGzOdAwTFldJUK6TnX2oWOAckVg1zdHFHyUtrLk4ZjDNgwsYASfxHuPwG/B3RXITUsZM0W8/\n",
       "EqnFsW7SsHY5q/FhuOTFQfJKOoUBDm5Gt3ieR8pk5zguZH3WOnTaDlJ0cT6WleDZ6fXTGZEjpLIa\n",
       "QC3uz0IPWBwpEx6rSL5nHO3GXg+OCe5Y4KZyg1Yg9dRo9xIOMT8ccrYsnT/TkWUcwaQvwzmiRVAX\n",
       "aSUT4gqG2eZAlrmLhZ/2S678AGmOzVH7HZf7AxRLLKr3afBAVfQUy8iejMih2An9K21fC4Gyj+8I\n",
       "6vGc3/SeD4ecbRPnNkE/KPk3AO5UsPJS+yCcpp3lIuZ5kTgOsEHglsnFgvTqZ26O4CO442wBQ+FV\n",
       "ljzBOR6sptW98CLM5kUO+LCyYA1yx9qLgRsS33TfWw2rNG8Oh3wYglvjwIZ/igWYjyqvXnjBoM37\n",
       "BE5ljDiwcuSWycUCZO9yc/DCMzVtgPpxqfQnjO3kcVW2NeOWz3tLrJnEMRezOo9xx6J56O6iimkH\n",
       "C+xwqfR46Y9aHA45M9QewxSI4j54lXOMdLxmVV54wGszhbodLZOLBRgJufYPaheVuCknK2Mm5nlQ\n",
       "lx3bNHLIfZWrNsMut6mCfRQmZe/5EOVY1vqNcJLdOv2m3Fmt27mdIA7Xu+L5Ay2TiwVQZjzOHzvk\n",
       "eNLaNGndTbN9aQTYy/hbb2tLOap5juWczXGNr3v3F7w5RDnOQgravmQcgZm1msBxzaoo4ZTAQZa5\n",
       "i+cAbvfgOAK7DBg3LA4Y6Nbkfthtspcnbt0Snwg+809M4MDvHBKKckWHzpzFcfCTEy4QQf4S+/8c\n",
       "fFtc5yi0w2tFnu8VDrKMLirrDDo2eZ0HA8+VaB+s1wSObVXHfMJpzOu4IMh7vM6D3A4OPK+XLtRw\n",
       "saFz7bGmOII5WFMJlNq1j6MJcjfqmqodFXPyh/91Pg911X1sT36l/V5S6/erd+rWu5eX8ferTf8B\n",
       "cMOMP3ObBD4AAAAASUVORK5CYII=\n",
       "\" style=\"display:inline;vertical-align:middle;\" /></a><br>"
      ],
      "text/plain": [
       "expandRegisterWithZeroKet: forall_{n in NaturalsPos} [forall_{k in {0...2^{n} - 1}} (|k〉_{n + 1} = (|k〉_{n} otimes |0〉))]"
      ]
     },
     "execution_count": 8,
     "metadata": {},
     "output_type": "execute_result"
    }
   ],
   "source": [
    "expandRegisterWithZeroKet = Forall(\n",
    "        n,\n",
    "        Forall(k,\n",
    "               Equals(RegisterKet(k, Add(n, one)),\n",
    "                      TensorProd(RegisterKet(k, n), ket0)),\n",
    "               domain=Interval(zero, subtract(Exp(two, n), one))),\n",
    "        domain=NaturalsPos)"
   ]
  },
  {
   "cell_type": "code",
   "execution_count": 9,
   "metadata": {},
   "outputs": [
    {
     "data": {
      "text/html": [
       "<strong id=\"expandRegisterWithOneKet\">expandRegisterWithOneKet:</strong> <a class=\"ProveItLink\" href=\"__pv_it/8ce0756b120489a022e6d93867259de16fde85ba0/expr.ipynb\"><img src=\"data:image/png;base64,iVBORw0KGgoAAAANSUhEUgAAAb0AAAAZBAMAAABX+u07AAAAMFBMVEX///+IiIgiIiIQEBB2dnbu\n",
       "7u5UVFTMzMzc3NwyMjK6urpmZmaYmJiqqqpEREQAAACk/Np2AAAAAXRSTlMAQObYZgAAAAlwSFlz\n",
       "AAAOxAAADsQBlSsOGwAABWRJREFUWMPVmF1oHFUUgM8mu5nZ2d10GlMFk2iItFYrWG3FPkSyaEi0\n",
       "NjKlQRCVbAt5UtJJq/Ghaldt+6Ju4oMSUJslFZ9auymGQLbIVpDSCnU3BNfaPARKsBS66INQWyXe\n",
       "e8/M3Lnzs7OLUMkJJ9nMOXP2fPfeOefeAQiWpq7NsCalpatYi1sU1qrEC3eITyY/fvLj+fU5AL2u\n",
       "KJLbmOYW2dA7x9cB4ayf7WI37AD4ra4oze7h2MktiopK+ZbpxaUgvhq8qkkiSTOLXO10Tkj+uC7v\n",
       "7oQ/Aa7UFSWR8+Q7oKGlw1DCN09tk0F8NXhVk5eAjXzUmdUxCN+CJlXZCtBQX5ROD77Ia1MaWqIa\n",
       "KuEbo8O4HMRXg1c1OYuZrbPK2Un8MwywDRr1WFKHcLGuKAP88u7e3g3G/N2voSWeM7TAMANiR6EW\n",
       "r2qyFTM7rZkXSvinR4P96XFoOKXXMnr2KBnrqjJLELOcj1meQCV8tMREA+tLDV5VRJnAzJ4BB98+\n",
       "gP361xDaVcvqF6JE0+blb8inyHXOxyxfoNK0H+/q2h5cP4O9qkgsiZl9BqVZgY/Io+aHxbqikFpj\n",
       "SOpZgJfDmsXHLH2olG8OYMUjWlLkc3rFXw+kOjRrBSiwzCJ/J37pdvBJf5ifvAvMmS4qm9xRzAIT\n",
       "SofTkVwkafExywVUyncM5JRH4JzIh17fq+a1g0R7Wy2Xwb5h4e7IBWMQMfUiyyxx85Q06eBrsL4n\n",
       "JjbIVyacGYlR5s3NI0D/h2QWOR+1LKBSvmZNaL3Slp1wV8rFh16N1HN0hKz2y+S7VGWZj8YZuLLE\n",
       "l9hoCzAfFHobuT3WrZtzss2YE8jzL7ZGOUb/W+/qAGKUMeNqmPin6HKz+KjlMCrlS6i8cNDUfw5r\n",
       "Mc3Fh17j9NvnAHNv1OGm6XILxvXSciO/Z8GDr+Hzfkd9YUWcd29Dmtm/fnxGlEU+GEf6aboWH7Wc\n",
       "QGX7s4lz1sDR1JfUXBiez2/JZ4X9GfO6JLdBOxh842l4ynT5gfA16e/68EVxZQ1lT+sOvkWQzUJI\n",
       "6h7uRAU++/MnRJmE+NnRNsonJ0NZO9+kuD5h4FMwfFnq5V/fC7ufP+YFez/ecxTXJHm+DmvwCHd6\n",
       "mhSI9qzAN21NiMoy+wmGiqrAJyUhZPbEjLkT9Zs/IQppl/EThcY0KMU3AO5VihYfa6SXUBnfB2T5\n",
       "Mt8IS70cfvUrDz7qBdsLksK25NKXjO8x/vRshBdhsSjwRTeYz0iKZTYCQ3pS4Hs/n99n3jEAxk7U\n",
       "j0+IQjYbR1tgHeGZJyFDi7z/sW3IDCrjoztu5ouplyF3nwcf9ZJvz0H8eKVyA8aG2fr8x/LJGNMg\n",
       "VYhcQ77EJ2Zn7mSZ3YDQjCbwTa2u/mVGID5sJ/pd5WqlUvDgE6LQbrKXPWbNtL+vML6Rnk0q9pnN\n",
       "qPx8RH0x9TIMRt39D6vB8rQsoaFPrC9ySkoLySwYPQTlQXCcj0ruw0EOjJ2o3/wJUehx40n4lp72\n",
       "zr0ptfLzEbPInaicj/pi6mVQSj7nvyb1QNho89gfJkhfHQTyK/PWIc3Fd5kfYZ18J13J02nAnagv\n",
       "nz0KWSLy7/BwmfbaUodm47tGC2UB1eJDX5b6RYC7ffii6abzkNENPuht06QdcDBNfvWsrgq3HJma\n",
       "sfOR5P3Pt9bhB4ydKOWTn7utegyBGSVCur+SgtaC63xLLWyPnbGf39GXpq48pOMA+p3fIy9Urttz\n",
       "9xfuQypXEF+7jcPHxRYlVPA7vzPLiqGO9xOYek3vJ6br4oOPIBTwgsV2PIr5+fAoHkNwD7fE06j/\n",
       "4f2LVfv9hfaQtfH+zOv959uBt72j/e/vPx8o/AvmCKrYzKNZuQAAAABJRU5ErkJggg==\n",
       "\" style=\"display:inline;vertical-align:middle;\" /></a><br>"
      ],
      "text/plain": [
       "expandRegisterWithOneKet: forall_{n in NaturalsPos} [forall_{k in {0...2^{n} - 1}} (|k + 2^{n}〉_{n + 1} = (|k〉_{n} otimes |1〉))]"
      ]
     },
     "execution_count": 9,
     "metadata": {},
     "output_type": "execute_result"
    }
   ],
   "source": [
    "expandRegisterWithOneKet = Forall(\n",
    "        n, \n",
    "        Forall(k, Equals(RegisterKet(Add(k, Exp(two, n)), Add(n, one)),\n",
    "                         TensorProd(RegisterKet(k, n), ket1)),\n",
    "               domain=Interval(zero, subtract(Exp(two, n), one))),\n",
    "        domain=NaturalsPos)"
   ]
  },
  {
   "cell_type": "code",
   "execution_count": 10,
   "metadata": {},
   "outputs": [
    {
     "data": {
      "text/html": [
       "<strong id=\"ketPlusDef\">ketPlusDef:</strong> <a class=\"ProveItLink\" href=\"__pv_it/ad7ce56581bdb62c0873a5b4f1a5dac0e857f6020/expr.ipynb\"><img src=\"data:image/png;base64,iVBORw0KGgoAAAANSUhEUgAAAIUAAAAyBAMAAACAOwXCAAAAMFBMVEX////u7u4yMjJERERUVFQQ\n",
       "EBAiIiJmZmaqqqqYmJjMzMyIiIi6urp2dnbc3NwAAAC2AzRPAAAAAXRSTlMAQObYZgAAAAlwSFlz\n",
       "AAAOxAAADsQBlSsOGwAAAj1JREFUSMetlTFs00AUhn8nKAlOYywGNiQk1DWNVKYOVRBSGTuVgaVU\n",
       "Kh5pxECWSPXWoaqSBRYGPFSszQBCsJCVqZFYimgliyJWoKpUqQUF2+eck8td83THP9zlfLnP9969\n",
       "/wxcKiftA3EiZJ2N6ar0WL8gThyyLh/QGEfvQmzJGK9dlBokRs63nqAwybDuz7nAIxLjBfAZFT99\n",
       "8GlkHx8jxgGJcQdou04tfbAtMI5JjDNg30dVwciFBIYVMzrYUTBKfQLD+QvsdXlSRQYhqSmjj2JP\n",
       "wWhRYokY+13Y9Wj0zPNWPG99jLFLzGnb53FP7GOHwpgHXrk8/xOMKoXxHHia1YHISAonO19bzij4\n",
       "1sOsHkVGUsCH/P8yD0YM6+ubIDvCEca91fX0zDOGzIND7/O57XHvM0NnDFm5DBn5UOK5WIt8MNOJ\n",
       "2wM147riDrJu8UGpG7fHasZ7BaPcERgSD5bTPNfEiQ9pjBAYBA/KNcJgSS16ieqajJb2PqIXP36Q\n",
       "vHj3P8Qy4cFrA4J+jTGq5vlwauax8I+IAaNAWrCXJEHF2CIxFhT7YJ5bpCDsmoIx4sFputK7jME8\n",
       "OE3f4DRvB1IDcg9OUwvfUfkDE0UB3wVWjBhFH6sulkMTxg1gCVgOTBhfknZDd3mpN7ym7Atdxtuo\n",
       "fsrMFA1NhHPzfGippv6xngIv4x9XG/r53Ayxxq47R/tsfzaSr4fdR9nVZeR/5+K1P5rNJe1YZi6S\n",
       "G2ZuMDjRT8hsFcZq180ZBflx/AP2u97SgCjPFgAAAABJRU5ErkJggg==\n",
       "\" style=\"display:inline;vertical-align:middle;\" /></a><br>"
      ],
      "text/plain": [
       "ketPlusDef: |+〉 = ((|0〉 + |1〉) / sqrt(2))"
      ]
     },
     "execution_count": 10,
     "metadata": {},
     "output_type": "execute_result"
    }
   ],
   "source": [
    "ketPlusDef = Equals(ketPlus, frac(Add(ket0, ket1), sqrt(two)))"
   ]
  },
  {
   "cell_type": "code",
   "execution_count": 11,
   "metadata": {},
   "outputs": [
    {
     "data": {
      "text/html": [
       "<strong id=\"hadamardOnZero\">hadamardOnZero:</strong> <a class=\"ProveItLink\" href=\"__pv_it/00eae3f0214b69482eeaedf63d045e2a782358c60/expr.ipynb\"><img src=\"data:image/png;base64,iVBORw0KGgoAAAANSUhEUgAAAHQAAAAVBAMAAABlHNfrAAAAMFBMVEX////MzMxUVFREREQiIiK6\n",
       "uroQEBCYmJhmZmYyMjLu7u52dnaqqqqIiIjc3NwAAACFAiZ1AAAAAXRSTlMAQObYZgAAAAlwSFlz\n",
       "AAAOxAAADsQBlSsOGwAAAcRJREFUOMt9VL9LQlEU/spMzZeJ/0DmP5BzUElEUzRF0FSDDbUUNbW5\n",
       "NEURLS2hUtHSkARuRQ4Ngos2Fwn+AVki/TLqO/c+s3p6LxzOPe983z3nnnPuA1DGr2UbXZQAHKsF\n",
       "FQD6c7+dWa1cQcBddFCzPzsBoEC5/dpPr6/up5XTf7ULK8GvdwaqAPr2ZPdGidvOQ5yUEePel+5M\n",
       "FYB3TTL/4NVetdMTgz+KS+49ibZUtzAE0CvaXyewoZ2uMKx3VMRYaUu1VA0ImBftq/Li79o5kIC7\n",
       "AZ8U88BAJWBb9ECU4WPaeU7qC6wMjQsDlQB18sJEJDKc0M7HDLo+VRmwKV+8k2qF/1EJmBZ1zS49\n",
       "5FpUVm2Lxo0hKgFLolKU8bSdcAZuRg3RGHRSmcNUXOUQ0tQaZRk/ZbIaelLmTFELHACoKJKkbk4U\n",
       "HhY72Uy4012TGJW2PnGU6zbVswjvHgKsOTYMUQmQBvRIW6tN5zROg/BL0XYMVAJmgaPUc7F7vFa0\n",
       "nWf3QzxNjBkDlYCeYNsBz0tOMQM175jxJnUM9svoNP5jtjio6ilWDO9VAY7bOfvl5BEDVQECf9Iq\n",
       "2f8Pea5lB7XU+sEA3xiIi/BK9Wv/AAAAAElFTkSuQmCC\n",
       "\" style=\"display:inline;vertical-align:middle;\" /></a><br>"
      ],
      "text/plain": [
       "hadamardOnZero: (H . |0〉) = |+〉"
      ]
     },
     "execution_count": 11,
     "metadata": {},
     "output_type": "execute_result"
    }
   ],
   "source": [
    "hadamardOnZero = Equals(MatrixProd(H, ket0), ketPlus)"
   ]
  },
  {
   "cell_type": "code",
   "execution_count": 12,
   "metadata": {},
   "outputs": [
    {
     "data": {
      "text/html": [
       "<strong id=\"emptyGate\">emptyGate:</strong> <a class=\"ProveItLink\" href=\"__pv_it/120278c8a6b61df2f02c00d0e3a22cc8b083f4610/expr.ipynb\"><img src=\"data:image/png;base64,iVBORw0KGgoAAAANSUhEUgAAAFQAAAAiBAMAAAAzPuMuAAAAJ1BMVEX////c3NwyMjJERERUVFRm\n",
       "ZmYQEBC6urp2dnbMzMwiIiKIiIgAAADQIHRGAAAAAXRSTlMAQObYZgAAAAlwSFlzAAAOxAAADsQB\n",
       "lSsOGwAAAH1JREFUOMtjYICDM0jgAANecAAHe2Qp5V41e9UE4pRyFIAQRUo5bA45EmsqzwKiHTCn\n",
       "gWilewqIVmpDfAgcwqs0ahUILAHLsZ8mPrBOoiRofEqZDhBtKo8B0W6t2UC0qT0TiFa6htjkwuh0\n",
       "xoMWiZB+SlfNXlYwYksXQkUxAN71eBuZJfENAAAAAElFTkSuQmCC\n",
       "\" style=\"display:inline;vertical-align:middle;\" /></a><br>"
      ],
      "text/plain": [
       "emptyGate: [GATE]() = [I]"
      ]
     },
     "execution_count": 12,
     "metadata": {},
     "output_type": "execute_result"
    }
   ],
   "source": [
    "emptyGate = Equals(Gate(), IdentityOp().withStyles(gate=\"explicit\")) # base case"
   ]
  },
  {
   "cell_type": "code",
   "execution_count": 13,
   "metadata": {},
   "outputs": [
    {
     "data": {
      "text/html": [
       "<strong id=\"substitution\">substitution:</strong> <a class=\"ProveItLink\" href=\"__pv_it/0e36964ee75ac7ed3e826ab4d6b477d0634f90e10/expr.ipynb\"><img src=\"data:image/png;base64,iVBORw0KGgoAAAANSUhEUgAAAOcAAAAXBAMAAAACSEUKAAAAMFBMVEX///+IiIgiIiIQEBB2dnbu\n",
       "7u5UVFTMzMzc3NwyMjK6urpmZmaYmJiqqqpEREQAAACk/Np2AAAAAXRSTlMAQObYZgAAAAlwSFlz\n",
       "AAAOxAAADsQBlSsOGwAAA0VJREFUSMe1Vk1oE0EUfkl2kzTZTbZQilCUWARFEGJRBCGw/kIPhfVS\n",
       "/6CkKIgoGpB6Ehr8u6kLIniwUKsXD5qKtWpbdHsRf6AWsR600HioKIjUQ9Gbzpt5k9lk20oDffDe\n",
       "fpn9dr6ZeTNvAlC3FWtR/L/cYtVndVhoshYlrP9xb5OX8cd0HaIfeBzaIxGz1eLR2YYacgR+Boqj\n",
       "j+CPm8vX1F2M2rEcIbQGhz/WnlvHYl60VTNuCD+LySgvXzTpYYx8miWEZgzy6XhwMA+xQdFWzXgr\n",
       "HEenTS5fNMJjyZGI21YMUebHCwO0YaoZEYe7wUbRUEdK7/G4s4K43eJrgLP9u52aqhkNnvC21tYt\n",
       "dYgOYXjZdkKgfc37d7Pl2qtSTk/J0Fss6GRrmhf+BGB2sbwtIconBb8IDYa6kxmA10EeMTQzC+9Y\n",
       "1l3hlyGOG00f9QIfpJYQ3cTLwW+BjGLoT5R9/54PtZWb2L2ScSXpwikAMyM85Wj9mP43haVEd/Wx\n",
       "rv3veM7MOYFikOKnojfQhWQ4EQs2M+KccNPi+yi9QHlSoubjBzZoAVEtI1Ga14I7gS4qjJITY5NO\n",
       "ZIWDO469HunATddy8SlWqrwoVEIUG1l2h3tGINFcGUgfJ+QlKhV1h5a3etyS8QxCWbW80IFlAiYw\n",
       "rIqWkWDPx7JKFBvZyhrXLdDSzhnq7Qs/dpZAXf2n+TpMBHIqGfCV6xtl4XCBvx7F4KUsltn4oUzI\n",
       "N1Pe+PwnM+/SAKwhUX46rhUEmul5BPcZfBiYqWTAMJTYTktawiFVUEcgzXHUjlq+nKbVFjsK3YQG\n",
       "MMwQOtxojmFV2xAQlQzo3PGC7ZowOdk2ENsPW8L9kYJPtFfdgRuJxzgFPnyJxPnIBER9jHbm58mp\n",
       "gsyDbsez7WDrNiOV1O7ljbS8sD4xp4q7me9TZV5dAv4DU2EkXT3H0Bg5XcAZiOX0k3ebnFgOzLHv\n",
       "SpQ3Strnicot9Q3Csy4hsqu181SMsBW1xXXmu9JwuCYNDw7Aj4Urkl5MVSbTBUZLkRBZoJwqhtmI\n",
       "F3fKEU7H6SNb9imBp6A74S4sGrXUhRH3apGx6N8fyXhFToWjEc+GwB5MNy1Se81xG1ba4ivU7z/V\n",
       "It2UuCFoWQAAAABJRU5ErkJggg==\n",
       "\" style=\"display:inline;vertical-align:middle;\" /></a><br>"
      ],
      "text/plain": [
       "substitution: forall_{f, x, y | x equiv y} (f(x) equiv f(y))"
      ]
     },
     "execution_count": 13,
     "metadata": {},
     "output_type": "execute_result"
    }
   ],
   "source": [
    "substitution = Forall((f, x, y), CircuitEquiv(fx, fy), conditions=CircuitEquiv(x, y))"
   ]
  },
  {
   "cell_type": "markdown",
   "metadata": {},
   "source": [
    "And then we have several axioms involving the Circuit class, which class itself still needs updating<br/>(in particular, the Circuit class needs an appropriate substitute for the ExpressionTensor class -- perhaps ExprArray)."
   ]
  },
  {
   "cell_type": "code",
   "execution_count": 14,
   "metadata": {},
   "outputs": [],
   "source": [
    "# circuitGateApplication = Forall(\n",
    "#     U, \n",
    "#     Forall((x, y),\n",
    "#            Iff(Circuit([[Input(x), Gate(U), Output(y)]]),\n",
    "#                Equals(y, MatrixProd(U, x))),\n",
    "#            domain=QubitSpace),\n",
    "#     domain=SU(two))"
   ]
  },
  {
   "cell_type": "code",
   "execution_count": 15,
   "metadata": {},
   "outputs": [],
   "source": [
    "# circuitMultiGateApplication = Forall(\n",
    "#     n,\n",
    "#     Forall(U,\n",
    "#            Forall((x, y),\n",
    "#                   Iff(Circuit([[Input(x), MultiWire(n), Gate(U), Output(y)]]),\n",
    "#                       Equals(y, MatrixProd(U, x))),\n",
    "#                   domain=QubitRegisterSpace(n)),\n",
    "#            domain=RegisterSU(n)),\n",
    "#     domain=NaturalsPos)"
   ]
  },
  {
   "cell_type": "code",
   "execution_count": 16,
   "metadata": {},
   "outputs": [],
   "source": [
    "# zeroControlledNgate = Forall(\n",
    "#     n,\n",
    "#     Forall(U,\n",
    "#            Forall(x,\n",
    "#                   Forall(alpha,\n",
    "#                          Circuit([[Input(ScalarProd(alpha, ket0)),\n",
    "#                                    PASS,\n",
    "#                                    CTRL_DN,\n",
    "#                                    Output(ScalarProd(alpha, ket0))],\n",
    "#                                   [Input(x), MultiWire(n), Gate(U), Output(x)]]),\n",
    "#                          domain=Complexes),\n",
    "#                   domain=QubitRegisterSpace(n)),\n",
    "#            domain=SU(Exponentiate(two, n))),\n",
    "#     domain=NaturalsPos)"
   ]
  },
  {
   "cell_type": "code",
   "execution_count": 17,
   "metadata": {},
   "outputs": [],
   "source": [
    "# oneControlledNgate = Forall(\n",
    "#     n,\n",
    "#     Forall(U,\n",
    "#            Forall(x,\n",
    "#                   Forall(alpha,\n",
    "#                          Circuit([[Input(ScalarProd(alpha, ket1)),\n",
    "#                                    PASS,\n",
    "#                                    CTRL_DN,\n",
    "#                                    Output(ScalarProd(alpha, ket1))],\n",
    "#                                   [Input(x), MultiWire(n), Gate(U), Output(MatrixProd(U, x))]]),\n",
    "#                          domain=Complexes),\n",
    "#                   domain=QubitRegisterSpace(n)),\n",
    "#            domain=SU(Exp(two, n))),\n",
    "#     domain=NaturalsPos)"
   ]
  },
  {
   "cell_type": "code",
   "execution_count": 18,
   "metadata": {},
   "outputs": [
    {
     "name": "stdout",
     "output_type": "stream",
     "text": [
      "Modifying axiom ketZeroInQubitSpace in proveit.physics.quantum context\n",
      "Modifying axiom ketOneInQubitSpace in proveit.physics.quantum context\n",
      "Modifying axiom singleQubitRegisterZero in proveit.physics.quantum context\n",
      "Modifying axiom singleQubitRegisterOne in proveit.physics.quantum context\n",
      "Modifying axiom expandRegisterWithZeroKet in proveit.physics.quantum context\n",
      "Modifying axiom expandRegisterWithOneKet in proveit.physics.quantum context\n",
      "Modifying axiom ketPlusDef in proveit.physics.quantum context\n",
      "Modifying axiom hadamardOnZero in proveit.physics.quantum context\n",
      "ketZeroInQubitSpace expression notebook is being updated\n",
      "ketOneInQubitSpace expression notebook is being updated\n",
      "singleQubitRegisterZero expression notebook is being updated\n",
      "singleQubitRegisterOne expression notebook is being updated\n",
      "expandRegisterWithZeroKet expression notebook is being updated\n",
      "expandRegisterWithOneKet expression notebook is being updated\n",
      "ketPlusDef expression notebook is being updated\n",
      "hadamardOnZero expression notebook is being updated\n",
      "Axioms may be imported from autogenerated _axioms_.py\n"
     ]
    }
   ],
   "source": [
    "%end axioms"
   ]
  }
 ],
 "metadata": {
  "kernelspec": {
   "display_name": "Python 3",
   "language": "python",
   "name": "python3"
  },
  "language_info": {
   "codemirror_mode": {
    "name": "ipython",
    "version": 3
   },
   "file_extension": ".py",
   "mimetype": "text/x-python",
   "name": "python",
   "nbconvert_exporter": "python",
   "pygments_lexer": "ipython3",
   "version": "3.7.3"
  }
 },
 "nbformat": 4,
 "nbformat_minor": 1
}
