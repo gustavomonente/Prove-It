{
 "cells": [
  {
   "cell_type": "markdown",
   "metadata": {},
   "source": [
    "Demonstrations for context <a class=\"ProveItLink\" href=\"_context_.ipynb\">proveit.physics.quantum</a>\n",
    "========"
   ]
  },
  {
   "cell_type": "code",
   "execution_count": 1,
   "metadata": {},
   "outputs": [],
   "source": [
    "import proveit\n",
    "proveit.defaults.automation = False # prevents proveit from calling automations that are currently broken\n",
    "from proveit import ExprArray, ExprTuple\n",
    "from proveit._common_ import a, b\n",
    "from proveit.logic.set_theory import Set\n",
    "from proveit.number import Neg, zero, one, two, three, four, five, six, seven, eight, nine\n",
    "from proveit.physics.quantum.circuit import Gate, Target, Circuit, Input, Output, MultiQubitGate\n",
    "from proveit.physics.quantum._common_ import H, X, Z, I, ket1, ket0, ketPlus, ketMinus, PASS, CONTROL, CLASSICAL_CONTROL\n",
    "%begin demonstrations"
   ]
  },
  {
   "cell_type": "code",
   "execution_count": 2,
   "metadata": {},
   "outputs": [
    {
     "name": "stdout",
     "output_type": "stream",
     "text": [
      "[INPUT](|0〉) & [GATE](CONTROL) & [OUTPUT](|0〉)  \\\\ \n",
      "  [INPUT](|0〉) & [GATE](Z) & [OUTPUT](|0〉)  \\\\ \n",
      "  [INPUT](|0〉) & [GATE](Z) & [OUTPUT](|0〉)  \\\\ \n",
      "  [INPUT](|1〉) & [GATE](Z) & [OUTPUT](|1〉)\n",
      "\\Qcircuit @C=1em @R=.7em {\n",
      "\\lstick{\\lvert 0 \\rangle} & \\ctrl{1} & \\rstick{\\lvert 0 \\rangle} \\qw  \\\\ \n",
      "  \\lstick{\\lvert 0 \\rangle} & \\gate{Z} & \\rstick{\\lvert 0 \\rangle} \\qw  \\\\ \n",
      "  \\lstick{\\lvert 0 \\rangle} & \\multigate{1}{Z} & \\rstick{\\lvert 0 \\rangle} \\qw  \\\\ \n",
      "  \\lstick{\\lvert 1 \\rangle} & \\ghost{Z} & \\rstick{\\lvert 1 \\rangle} \\qw \n",
      "}\n"
     ]
    },
    {
     "data": {
      "text/plain": [
       "[INPUT](|0〉) & [GATE](CONTROL) & [OUTPUT](|0〉)  \\\\ \n",
       "  [INPUT](|0〉) & [GATE](Z) & [OUTPUT](|0〉)  \\\\ \n",
       "  [INPUT](|0〉) & [GATE](Z) & [OUTPUT](|0〉)  \\\\ \n",
       "  [INPUT](|1〉) & [GATE](Z) & [OUTPUT](|1〉)"
      ]
     },
     "execution_count": 2,
     "metadata": {},
     "output_type": "execute_result"
    }
   ],
   "source": [
    "# multigate block test\n",
    "Circuit(ExprTuple(Input(ket0), MultiQubitGate(Gate(CONTROL), Set(one, two)), Output(ket0)), \n",
    "        ExprTuple(Input(ket0), MultiQubitGate(Gate(Z), Set(one, two)), \n",
    "                  Output(ket0)), \n",
    "        ExprTuple(Input(ket0), MultiQubitGate(Gate(Z), Set(three, four)), Output(ket0)), \n",
    "        ExprTuple(Input(ket1), MultiQubitGate(Gate(Z), Set(three, four)), \n",
    "                  Output(ket1)))"
   ]
  },
  {
   "cell_type": "code",
   "execution_count": 3,
   "metadata": {},
   "outputs": [],
   "source": [
    "# Single Qubit Gates"
   ]
  },
  {
   "cell_type": "code",
   "execution_count": 4,
   "metadata": {},
   "outputs": [
    {
     "name": "stdout",
     "output_type": "stream",
     "text": [
      "[INPUT](|0〉) & [GATE](H) & [OUTPUT](|+〉)  \\\\ \n",
      "  [INPUT](|1〉) & [GATE](H) & [OUTPUT](|-〉)\n",
      "\\Qcircuit @C=1em @R=.7em {\n",
      "\\lstick{\\lvert 0 \\rangle} & \\gate{H} & \\rstick{\\lvert + \\rangle} \\qw  \\\\ \n",
      "  \\lstick{\\lvert 1 \\rangle} & \\gate{H} & \\rstick{\\lvert - \\rangle} \\qw \n",
      "}\n"
     ]
    },
    {
     "data": {
      "text/html": [
       "<a class=\"ProveItLink\" href=\"__pv_it/eb3ee52524ab4546cf6cc9beb693200c6ff522680/expr.ipynb\"><img src=\"data:image/png;base64,iVBORw0KGgoAAAANSUhEUgAAAJAAAABEBAMAAACcx6GyAAAAMFBMVEX///8QEBBUVFRERESYmJgi\n",
       "IiLu7u6qqqoyMjJmZmbMzMyIiIi6urp2dnbc3NwAAADV54WuAAAAAXRSTlMAQObYZgAAAAlwSFlz\n",
       "AAAOxAAADsQBlSsOGwAAAiNJREFUWMPtlj9r20AYxp9gx0ocu+qSuakDIX+GeC+4+QZ1AiJj3KFj\n",
       "adYMBi+hm+MPYIIJdK5nd2i+QbV5qCAGfwAbmthuS3Hf06ue2vTUIycnJFQPSLpX4vlxOt2dHiBS\n",
       "9vRPDWEo+1p9V6AeX7IGoJ5sCbfHzVTr5iBPtoSbqvznU1iNOCDhpuotXvVQjgMSbg/pMvJFdNWg\n",
       "pe3JWvrpZC0SlNsR566oUiuwRuhH9MiuAXPl6B5ZbXHui8puIDfGQk8Neu8Cg4YORG4Pbwh0CctV\n",
       "gy7OgReHOhC5PQxcZL/j79Fm0Akdzys6ELkZ9ANoqkFf6FiGFtQUr+YiRz0646e/rVL/o1wVCoWv\n",
       "154Mf4EWHWd32XFWhNsfbGsMVJU9yn+jKTDW96gqPn8R6RFQV4IWyJ4a6UF1MSEfY7GGR0UlyKbb\n",
       "czUtiNxU7eNlC/lDJehTm6eSBkRuql5/2ATm1TP7gtb1x3MtaD5ceUdq0IGYRtCCjkJQSQXKrE+3\n",
       "sDp99g8QL9qSBGVqcbYR4Q6qpZ04IOHuBJulwZ7dCbfae/k7uoM/baJEif5XJYH9NgI73lVmEtgz\n",
       "GycVzCKwU9yowDiws7ohyDSws/ohyDSws/zAziDTwB6MtitBpoFdjrYEGQb2QM0QZBLYM8eOUIsD\n",
       "ewAyDOyBqiHIMLAHqkuQaWBncWD3QaaBncWBffXJXts4sLNmENilO25gl+4ksD/AwP4TYnB1K4tr\n",
       "fGkAAAAASUVORK5CYII=\n",
       "\" style=\"display:inline;vertical-align:middle;\" /></a>"
      ],
      "text/plain": [
       "[INPUT](|0〉) & [GATE](H) & [OUTPUT](|+〉)  \\\\ \n",
       "  [INPUT](|1〉) & [GATE](H) & [OUTPUT](|-〉)"
      ]
     },
     "execution_count": 4,
     "metadata": {},
     "output_type": "execute_result"
    }
   ],
   "source": [
    "Circuit(ExprTuple(Input(ket0), Gate(H), Output(ketPlus)), \n",
    "        ExprTuple(Input(ket1), Gate(H), Output(ketMinus)))\n",
    "# H gate (both inputs)"
   ]
  },
  {
   "cell_type": "code",
   "execution_count": 5,
   "metadata": {},
   "outputs": [
    {
     "name": "stdout",
     "output_type": "stream",
     "text": [
      "[INPUT](|0〉) & [GATE](X) & [OUTPUT](|1〉)  \\\\ \n",
      "  [INPUT](|1〉) & [GATE](X) & [OUTPUT](|0〉)\n",
      "\\Qcircuit @C=1em @R=.7em {\n",
      "\\lstick{\\lvert 0 \\rangle} & \\gate{X} & \\rstick{\\lvert 1 \\rangle} \\qw  \\\\ \n",
      "  \\lstick{\\lvert 1 \\rangle} & \\gate{X} & \\rstick{\\lvert 0 \\rangle} \\qw \n",
      "}\n"
     ]
    },
    {
     "data": {
      "text/html": [
       "<a class=\"ProveItLink\" href=\"__pv_it/62d9ff1c15f3f1b0d1c581446b6090d23e7b2f5e0/expr.ipynb\"><img src=\"data:image/png;base64,iVBORw0KGgoAAAANSUhEUgAAAIkAAABEBAMAAABHfAuQAAAAMFBMVEX///8QEBBUVFRERESYmJgi\n",
       "IiLu7u6qqqoyMjJmZmbMzMyIiIi6urp2dnbc3NwAAADV54WuAAAAAXRSTlMAQObYZgAAAAlwSFlz\n",
       "AAAOxAAADsQBlSsOGwAAAkZJREFUWMPtlr9LHEEUx7+5H3PenndnKTY5SJVYuJoqKfxRWEcsYmc2\n",
       "QiCNuGCVImiXTq2ChRxLwNpDbNQiV9q5YCH4Axb8A6JJvCOI0dl5c0nU/cE9IoSwD5bZZZcPb9/M\n",
       "vPkAoVG+uhmn4ET51vP9UzwajPYpJT068jqi27TTNqVYp/E5UYqHVeSWWBTjJfCOKB/wxsMYhzK1\n",
       "3ACyipIZQ9HEfjClMHTmilfddkguBUkp2j4lXUGugZOQXFJNYNZDBKVk+pTyEjqb6PCCKcY3lCqI\n",
       "omDBp8xIynfk3JC6LHpTiKa89ylfXBgXuFteTXnxsRJDybYol8BKCOXBVyuGkq/7f+SiU+byid79\n",
       "sf30xxe4/eb0JsWoUHVzTfV3gbmkzhGTiyypnGkTmYaqdCCl2lePocjplauuC/l5NetBlLyzZsZQ\n",
       "TtQOmMBrR63AIMoBsj9jKPuKMr39hHZDAEV+mrkMpaT6z3vVGtGdQe3MuxTxzJ8cK7Iz+O2gRRkM\n",
       "ohj9Zw52rsYjKWnvF0XMs7vU29+9rjDMpmzIa0un1X7fLegma/5jJ8l9n41JJJHE/xWJNf8Va8aq\n",
       "xbXm401PW7N4vGiBZ80dtpjU1gx8tsCz5lFgT1szUVjWPADMWWTNRGFZ8w9g1yZrJgrHmoVPGSZr\n",
       "JgrHmkvSstZqZM2awrBmRXHJmjWFYc1CUnZrZM2awrFmWZc5m6xZUzjW/FSWzSJrJgrLmkeA5ZY1\n",
       "KwrLmrO26GlZ86OH4zWeNYvDdSex5sSa2z0brwHzRoaDQv/AHwAAAABJRU5ErkJggg==\n",
       "\" style=\"display:inline;vertical-align:middle;\" /></a>"
      ],
      "text/plain": [
       "[INPUT](|0〉) & [GATE](X) & [OUTPUT](|1〉)  \\\\ \n",
       "  [INPUT](|1〉) & [GATE](X) & [OUTPUT](|0〉)"
      ]
     },
     "execution_count": 5,
     "metadata": {},
     "output_type": "execute_result"
    }
   ],
   "source": [
    "Circuit(ExprTuple(Input(ket0), Gate(X), Output(ket1)), \n",
    "        ExprTuple(Input(ket1), Gate(X), Output(ket0)))\n",
    "# X gate (both inputs)"
   ]
  },
  {
   "cell_type": "code",
   "execution_count": 6,
   "metadata": {},
   "outputs": [
    {
     "name": "stdout",
     "output_type": "stream",
     "text": [
      "[INPUT](|0〉) & [GATE](Z) & [OUTPUT](|0〉)  \\\\ \n",
      "  [INPUT](|1〉) & [GATE](Z) & [OUTPUT](-|1〉)\n",
      "\\Qcircuit @C=1em @R=.7em {\n",
      "\\lstick{\\lvert 0 \\rangle} & \\gate{Z} & \\rstick{\\lvert 0 \\rangle} \\qw  \\\\ \n",
      "  \\lstick{\\lvert 1 \\rangle} & \\gate{Z} & \\rstick{-\\lvert 1 \\rangle} \\qw \n",
      "}\n"
     ]
    },
    {
     "data": {
      "text/html": [
       "<a class=\"ProveItLink\" href=\"__pv_it/7f69385db975caf28983155ff58c1f59aa69b76e0/expr.ipynb\"><img src=\"data:image/png;base64,iVBORw0KGgoAAAANSUhEUgAAAJcAAABEBAMAAAB+G7rLAAAAMFBMVEX///8QEBBUVFRERESYmJgi\n",
       "IiLu7u6qqqoyMjJmZmbMzMyIiIi6urp2dnbc3NwAAADV54WuAAAAAXRSTlMAQObYZgAAAAlwSFlz\n",
       "AAAOxAAADsQBlSsOGwAAAo5JREFUWMPt179rk0EYB/CvJnmTvPnlKA426KQu0S7ioHFwNgpWcJBX\n",
       "odBFfFeHkqqDm81mB5EXwblBXNTB/gcNOHRoxRf6B1ilTSlV9Hnz5k2ey90F7oRKJbe89AKf3r33\n",
       "3L33BbSt8ltoW/ibVhnz10FgYfxwjbFy/xmwvo34kQpMsdJK/LwkYqX1V8i2bLAv70M8ErFnmA3R\n",
       "sMByvnMXGQFLN1CqYU2DHfn+5NRiQ41dAz6j5HMsVUW2i00NtlqHc8NTYxeApleucazSQnEXuVCN\n",
       "vQByJzXT3KP/5eM5xx4Sto1sR41VgSuBGnP2egOf59i3Dtx9yCtQ6ZdR/qdmAcq/gOU2X4EYo+6X\n",
       "utX8Wh+HdZBf4dPsoEgjey1t77gjvT/av5VMk7DVNtyquADZXfCpCyNrtrR1Ru+s6fO3TaVRQ7oL\n",
       "vigcK/6I968Kmwaue7wOqGiPIb8AXi4cW6b+lga7CiyBVyhtp9u4FwiFzLDycRpcXYNlfOcE+N4h\n",
       "7MHHsxC2GMNmZ+gnT4M5628Doab6R5Cw+Rn2OIT7dOwRxM+bBLusxPI70xentsdiqVDCnAXbw3FO\n",
       "PmkLdVvsHev70B+s8Teg0D/oa4fiU3dAX/RJm7RJm7R/eAQd2lChChfWoUIVLiLsjWcRKjjmzsT3\n",
       "iw04ZxY9mIcKht1f6sY3n2hknzyYhwo+sgJh0Z0swYxDxSgW3RYTzDhUjGLRPTbBjEOFhM0PMeNQ\n",
       "IWEZhpmGCgmjcDHATEPF3K2o3RliFC4GmGmokEZGb32AmYYKCaN6SDDjUCFhm8MFMA4VErbWw05P\n",
       "3WybhwqGHT2/c65XW9ahQhUurEOFKlxYhwpVuLAOFapwYR0qzMLF/xQq/gC3kU9wc3TwGwAAAABJ\n",
       "RU5ErkJggg==\n",
       "\" style=\"display:inline;vertical-align:middle;\" /></a>"
      ],
      "text/plain": [
       "[INPUT](|0〉) & [GATE](Z) & [OUTPUT](|0〉)  \\\\ \n",
       "  [INPUT](|1〉) & [GATE](Z) & [OUTPUT](-|1〉)"
      ]
     },
     "execution_count": 6,
     "metadata": {},
     "output_type": "execute_result"
    }
   ],
   "source": [
    "Circuit(ExprTuple(Input(ket0), Gate(Z), Output(ket0)), \n",
    "        ExprTuple(Input(ket1), Gate(Z), Output(Neg(ket1))))\n",
    "# Z gate (both inputs)"
   ]
  },
  {
   "cell_type": "code",
   "execution_count": 7,
   "metadata": {},
   "outputs": [],
   "source": [
    "#Two Qubit Gates"
   ]
  },
  {
   "cell_type": "code",
   "execution_count": 8,
   "metadata": {},
   "outputs": [
    {
     "name": "stdout",
     "output_type": "stream",
     "text": [
      "[INPUT](|0〉) & [GATE](CONTROL) & [OUTPUT](|0〉)  \\\\ \n",
      "  [INPUT](|0〉) & [GATE](Z) & [OUTPUT](|0〉)  \\\\ \n",
      "  [INPUT](|0〉) & [GATE](CONTROL) & [OUTPUT](|0〉)  \\\\ \n",
      "  [INPUT](|1〉) & [GATE](Z) & [OUTPUT](|1〉)\n",
      "\\Qcircuit @C=1em @R=.7em {\n",
      "\\lstick{\\lvert 0 \\rangle} & \\ctrl{1} & \\rstick{\\lvert 0 \\rangle} \\qw  \\\\ \n",
      "  \\lstick{\\lvert 0 \\rangle} & \\gate{Z} & \\rstick{\\lvert 0 \\rangle} \\qw  \\\\ \n",
      "  \\lstick{\\lvert 0 \\rangle} & \\ctrl{1} & \\rstick{\\lvert 0 \\rangle} \\qw  \\\\ \n",
      "  \\lstick{\\lvert 1 \\rangle} & \\gate{Z} & \\rstick{\\lvert 1 \\rangle} \\qw \n",
      "}\n"
     ]
    },
    {
     "data": {
      "text/plain": [
       "[INPUT](|0〉) & [GATE](CONTROL) & [OUTPUT](|0〉)  \\\\ \n",
       "  [INPUT](|0〉) & [GATE](Z) & [OUTPUT](|0〉)  \\\\ \n",
       "  [INPUT](|0〉) & [GATE](CONTROL) & [OUTPUT](|0〉)  \\\\ \n",
       "  [INPUT](|1〉) & [GATE](Z) & [OUTPUT](|1〉)"
      ]
     },
     "execution_count": 8,
     "metadata": {},
     "output_type": "execute_result"
    }
   ],
   "source": [
    "Circuit(ExprTuple(Input(ket0), MultiQubitGate(Gate(CONTROL), Set(one, two)), Output(ket0)), \n",
    "        ExprTuple(Input(ket0), MultiQubitGate(Gate(Z), Set(one, two)), \n",
    "                  Output(ket0)), \n",
    "        ExprTuple(Input(ket0), MultiQubitGate(Gate(CONTROL), Set(three, four)), Output(ket0)), \n",
    "        ExprTuple(Input(ket1), MultiQubitGate(Gate(Z), Set(three, four)), \n",
    "                  Output(ket1))) \n",
    "#CZ gate - 0 qubit control for 1 and 0 qubit inputs"
   ]
  },
  {
   "cell_type": "code",
   "execution_count": 9,
   "metadata": {},
   "outputs": [
    {
     "name": "stdout",
     "output_type": "stream",
     "text": [
      "[INPUT](|1〉) & [GATE](CONTROL) & [OUTPUT](|1〉)  \\\\ \n",
      "  [INPUT](|0〉) & [GATE](Z) & [OUTPUT](|0〉)  \\\\ \n",
      "  [INPUT](|1〉) & [GATE](CONTROL) & [OUTPUT](|1〉)  \\\\ \n",
      "  [INPUT](|1〉) & [GATE](Z) & [OUTPUT](-|1〉)\n",
      "\\Qcircuit @C=1em @R=.7em {\n",
      "\\lstick{\\lvert 1 \\rangle} & \\ctrl{1} & \\rstick{\\lvert 1 \\rangle} \\qw  \\\\ \n",
      "  \\lstick{\\lvert 0 \\rangle} & \\gate{Z} & \\rstick{\\lvert 0 \\rangle} \\qw  \\\\ \n",
      "  \\lstick{\\lvert 1 \\rangle} & \\ctrl{1} & \\rstick{\\lvert 1 \\rangle} \\qw  \\\\ \n",
      "  \\lstick{\\lvert 1 \\rangle} & \\gate{Z} & \\rstick{-\\lvert 1 \\rangle} \\qw \n",
      "}\n"
     ]
    },
    {
     "data": {
      "text/plain": [
       "[INPUT](|1〉) & [GATE](CONTROL) & [OUTPUT](|1〉)  \\\\ \n",
       "  [INPUT](|0〉) & [GATE](Z) & [OUTPUT](|0〉)  \\\\ \n",
       "  [INPUT](|1〉) & [GATE](CONTROL) & [OUTPUT](|1〉)  \\\\ \n",
       "  [INPUT](|1〉) & [GATE](Z) & [OUTPUT](-|1〉)"
      ]
     },
     "execution_count": 9,
     "metadata": {},
     "output_type": "execute_result"
    }
   ],
   "source": [
    "Circuit(ExprTuple(Input(ket1), MultiQubitGate(Gate(CONTROL), Set(one, two)), Output(ket1)), \n",
    "        ExprTuple(Input(ket0), MultiQubitGate(Gate(Z), Set(one, two)), \n",
    "                  Output(ket0)), \n",
    "        ExprTuple(Input(ket1), MultiQubitGate(Gate(CONTROL), Set(three, four)), Output(ket1)), \n",
    "        ExprTuple(Input(ket1), MultiQubitGate(Gate(Z), Set(three, four)), \n",
    "                  Output(Neg(ket1)))) \n",
    "#CZ gate - 1 qubit control for 1 and 0 qubit inputs"
   ]
  },
  {
   "cell_type": "code",
   "execution_count": 10,
   "metadata": {},
   "outputs": [
    {
     "name": "stdout",
     "output_type": "stream",
     "text": [
      "[INPUT](|0〉) & [GATE](CONTROL) & [OUTPUT](|0〉)  \\\\ \n",
      "  [INPUT](|0〉) & [GATE](X) & [OUTPUT](|0〉)  \\\\ \n",
      "  [INPUT](|0〉) & [GATE](CONTROL) & [OUTPUT](|0〉)  \\\\ \n",
      "  [INPUT](|1〉) & [GATE](X) & [OUTPUT](|1〉)\n",
      "\\Qcircuit @C=1em @R=.7em {\n",
      "\\lstick{\\lvert 0 \\rangle} & \\ctrl{1} & \\rstick{\\lvert 0 \\rangle} \\qw  \\\\ \n",
      "  \\lstick{\\lvert 0 \\rangle} & \\gate{X} & \\rstick{\\lvert 0 \\rangle} \\qw  \\\\ \n",
      "  \\lstick{\\lvert 0 \\rangle} & \\ctrl{1} & \\rstick{\\lvert 0 \\rangle} \\qw  \\\\ \n",
      "  \\lstick{\\lvert 1 \\rangle} & \\gate{X} & \\rstick{\\lvert 1 \\rangle} \\qw \n",
      "}\n"
     ]
    },
    {
     "data": {
      "text/plain": [
       "[INPUT](|0〉) & [GATE](CONTROL) & [OUTPUT](|0〉)  \\\\ \n",
       "  [INPUT](|0〉) & [GATE](X) & [OUTPUT](|0〉)  \\\\ \n",
       "  [INPUT](|0〉) & [GATE](CONTROL) & [OUTPUT](|0〉)  \\\\ \n",
       "  [INPUT](|1〉) & [GATE](X) & [OUTPUT](|1〉)"
      ]
     },
     "execution_count": 10,
     "metadata": {},
     "output_type": "execute_result"
    }
   ],
   "source": [
    "Circuit(ExprTuple(Input(ket0), MultiQubitGate(Gate(CONTROL), Set(one, two)), Output(ket0)), \n",
    "        ExprTuple(Input(ket0), MultiQubitGate(Gate(X), Set(one, two)), Output(ket0)), \n",
    "        ExprTuple(Input(ket0), MultiQubitGate(Gate(CONTROL), Set(three, four)), Output(ket0)), \n",
    "        ExprTuple(Input(ket1), MultiQubitGate(Gate(X), Set(three, four)), Output(ket1))) \n",
    "#CX gate - 0 qubit control for 1 and 0 qubit inputs"
   ]
  },
  {
   "cell_type": "code",
   "execution_count": 11,
   "metadata": {},
   "outputs": [
    {
     "name": "stdout",
     "output_type": "stream",
     "text": [
      "[INPUT](|1〉) & [GATE](CONTROL) & [OUTPUT](|1〉)  \\\\ \n",
      "  [INPUT](|0〉) & [GATE](X) & [OUTPUT](|1〉)  \\\\ \n",
      "  [INPUT](|1〉) & [GATE](CONTROL) & [OUTPUT](|1〉)  \\\\ \n",
      "  [INPUT](|1〉) & [GATE](X) & [OUTPUT](|0〉)\n",
      "\\Qcircuit @C=1em @R=.7em {\n",
      "\\lstick{\\lvert 1 \\rangle} & \\ctrl{1} & \\rstick{\\lvert 1 \\rangle} \\qw  \\\\ \n",
      "  \\lstick{\\lvert 0 \\rangle} & \\gate{X} & \\rstick{\\lvert 1 \\rangle} \\qw  \\\\ \n",
      "  \\lstick{\\lvert 1 \\rangle} & \\ctrl{1} & \\rstick{\\lvert 1 \\rangle} \\qw  \\\\ \n",
      "  \\lstick{\\lvert 1 \\rangle} & \\gate{X} & \\rstick{\\lvert 0 \\rangle} \\qw \n",
      "}\n"
     ]
    },
    {
     "data": {
      "text/plain": [
       "[INPUT](|1〉) & [GATE](CONTROL) & [OUTPUT](|1〉)  \\\\ \n",
       "  [INPUT](|0〉) & [GATE](X) & [OUTPUT](|1〉)  \\\\ \n",
       "  [INPUT](|1〉) & [GATE](CONTROL) & [OUTPUT](|1〉)  \\\\ \n",
       "  [INPUT](|1〉) & [GATE](X) & [OUTPUT](|0〉)"
      ]
     },
     "execution_count": 11,
     "metadata": {},
     "output_type": "execute_result"
    }
   ],
   "source": [
    "Circuit(ExprTuple(Input(ket1), MultiQubitGate(Gate(CONTROL), Set(one, two)), Output(ket1)), \n",
    "        ExprTuple(Input(ket0), MultiQubitGate(Gate(X), Set(one, two)), Output(ket1)), \n",
    "        ExprTuple(Input(ket1), MultiQubitGate(Gate(CONTROL), Set(three, four)), Output(ket1)), \n",
    "        ExprTuple(Input(ket1), MultiQubitGate(Gate(X), Set(three, four)), Output(ket0))) \n",
    "#CX gate - 0 qubit control for 1 and 0 qubit inputs"
   ]
  },
  {
   "cell_type": "code",
   "execution_count": 12,
   "metadata": {},
   "outputs": [
    {
     "name": "stdout",
     "output_type": "stream",
     "text": [
      "[INPUT](0) & [GATE](CLASSICAL\\_CONTROL)    \\\\ \n",
      "  [INPUT](|0〉) & [GATE](Z) & [OUTPUT](|0〉)  \\\\ \n",
      "  [INPUT](0) & [GATE](CLASSICAL\\_CONTROL)    \\\\ \n",
      "  [INPUT](|1〉) & [GATE](Z) & [OUTPUT](|1〉)\n",
      "\\Qcircuit @C=1em @R=.7em {\n",
      "\\lstick{0} & \\control \\cw \\cwx[1]    \\\\ \n",
      "  \\lstick{\\lvert 0 \\rangle} & \\gate{Z} & \\rstick{\\lvert 0 \\rangle} \\qw  \\\\ \n",
      "  \\lstick{0} & \\control \\cw \\cwx[1]    \\\\ \n",
      "  \\lstick{\\lvert 1 \\rangle} & \\gate{Z} & \\rstick{\\lvert 1 \\rangle} \\qw \n",
      "}\n"
     ]
    },
    {
     "data": {
      "text/plain": [
       "[INPUT](0) & [GATE](CLASSICAL\\_CONTROL)    \\\\ \n",
       "  [INPUT](|0〉) & [GATE](Z) & [OUTPUT](|0〉)  \\\\ \n",
       "  [INPUT](0) & [GATE](CLASSICAL\\_CONTROL)    \\\\ \n",
       "  [INPUT](|1〉) & [GATE](Z) & [OUTPUT](|1〉)"
      ]
     },
     "execution_count": 12,
     "metadata": {},
     "output_type": "execute_result"
    }
   ],
   "source": [
    "Circuit(ExprTuple(Input(zero), MultiQubitGate(Gate(CLASSICAL_CONTROL), Set(one, two)), PASS), \n",
    "        ExprTuple(Input(ket0), MultiQubitGate(Gate(Z), Set(one, two)), \n",
    "                  Output(ket0)), \n",
    "        ExprTuple(Input(zero), MultiQubitGate(Gate(CLASSICAL_CONTROL), Set(three, four)), PASS), \n",
    "        ExprTuple(Input(ket1), MultiQubitGate(Gate(Z), Set(three, four)), \n",
    "                  Output(ket1))) \n",
    "#cZ gate - 0 classical bit control for 1 and 0 qubit inputs"
   ]
  },
  {
   "cell_type": "code",
   "execution_count": 13,
   "metadata": {},
   "outputs": [
    {
     "name": "stdout",
     "output_type": "stream",
     "text": [
      "[INPUT](1) & [GATE](CLASSICAL\\_CONTROL)    \\\\ \n",
      "  [INPUT](|0〉) & [GATE](Z) & [OUTPUT](|0〉)  \\\\ \n",
      "  [INPUT](1) & [GATE](CLASSICAL\\_CONTROL)    \\\\ \n",
      "  [INPUT](|1〉) & [GATE](Z) & [OUTPUT](-|1〉)\n",
      "\\Qcircuit @C=1em @R=.7em {\n",
      "\\lstick{1} & \\control \\cw \\cwx[1]    \\\\ \n",
      "  \\lstick{\\lvert 0 \\rangle} & \\gate{Z} & \\rstick{\\lvert 0 \\rangle} \\qw  \\\\ \n",
      "  \\lstick{1} & \\control \\cw \\cwx[1]    \\\\ \n",
      "  \\lstick{\\lvert 1 \\rangle} & \\gate{Z} & \\rstick{-\\lvert 1 \\rangle} \\qw \n",
      "}\n"
     ]
    },
    {
     "data": {
      "text/plain": [
       "[INPUT](1) & [GATE](CLASSICAL\\_CONTROL)    \\\\ \n",
       "  [INPUT](|0〉) & [GATE](Z) & [OUTPUT](|0〉)  \\\\ \n",
       "  [INPUT](1) & [GATE](CLASSICAL\\_CONTROL)    \\\\ \n",
       "  [INPUT](|1〉) & [GATE](Z) & [OUTPUT](-|1〉)"
      ]
     },
     "execution_count": 13,
     "metadata": {},
     "output_type": "execute_result"
    }
   ],
   "source": [
    "Circuit(ExprTuple(Input(one), MultiQubitGate(Gate(CLASSICAL_CONTROL), Set(one, two)), PASS), \n",
    "        ExprTuple(Input(ket0), MultiQubitGate(Gate(Z), Set(one, two)), \n",
    "                  Output(ket0)), \n",
    "        ExprTuple(Input(one), MultiQubitGate(Gate(CLASSICAL_CONTROL), Set(three, four)), PASS), \n",
    "        ExprTuple(Input(ket1), MultiQubitGate(Gate(Z), Set(three, four)), \n",
    "                  Output(Neg(ket1))))\n",
    "#cZ gate - 1 classical bit control for 1 and 0 qubit inputs"
   ]
  },
  {
   "cell_type": "code",
   "execution_count": 14,
   "metadata": {},
   "outputs": [
    {
     "name": "stdout",
     "output_type": "stream",
     "text": [
      "[INPUT](0) & [GATE](CLASSICAL\\_CONTROL)    \\\\ \n",
      "  [INPUT](|0〉) & [GATE](X) & [OUTPUT](|0〉)  \\\\ \n",
      "  [INPUT](0) & [GATE](CLASSICAL\\_CONTROL)    \\\\ \n",
      "  [INPUT](|1〉) & [GATE](X) & [OUTPUT](|1〉)\n",
      "\\Qcircuit @C=1em @R=.7em {\n",
      "\\lstick{0} & \\control \\cw \\cwx[1]    \\\\ \n",
      "  \\lstick{\\lvert 0 \\rangle} & \\gate{X} & \\rstick{\\lvert 0 \\rangle} \\qw  \\\\ \n",
      "  \\lstick{0} & \\control \\cw \\cwx[1]    \\\\ \n",
      "  \\lstick{\\lvert 1 \\rangle} & \\gate{X} & \\rstick{\\lvert 1 \\rangle} \\qw \n",
      "}\n"
     ]
    },
    {
     "data": {
      "text/plain": [
       "[INPUT](0) & [GATE](CLASSICAL\\_CONTROL)    \\\\ \n",
       "  [INPUT](|0〉) & [GATE](X) & [OUTPUT](|0〉)  \\\\ \n",
       "  [INPUT](0) & [GATE](CLASSICAL\\_CONTROL)    \\\\ \n",
       "  [INPUT](|1〉) & [GATE](X) & [OUTPUT](|1〉)"
      ]
     },
     "execution_count": 14,
     "metadata": {},
     "output_type": "execute_result"
    }
   ],
   "source": [
    "Circuit(ExprTuple(Input(zero), MultiQubitGate(Gate(CLASSICAL_CONTROL), Set(one, two)), PASS), \n",
    "        ExprTuple(Input(ket0), MultiQubitGate(Gate(X), Set(one, two)), \n",
    "                  Output(ket0)), \n",
    "        ExprTuple(Input(zero), MultiQubitGate(Gate(CLASSICAL_CONTROL), Set(three, four)), PASS), \n",
    "        ExprTuple(Input(ket1), MultiQubitGate(Gate(X), Set(three, four)), \n",
    "                  Output(ket1))) \n",
    "#cX gate - 0 classical bit control for 1 and 0 qubit inputs"
   ]
  },
  {
   "cell_type": "code",
   "execution_count": 15,
   "metadata": {},
   "outputs": [
    {
     "name": "stdout",
     "output_type": "stream",
     "text": [
      "[INPUT](1) & [GATE](CLASSICAL\\_CONTROL)    \\\\ \n",
      "  [INPUT](|0〉) & [GATE](X) & [OUTPUT](|1〉)  \\\\ \n",
      "  [INPUT](1) & [GATE](CLASSICAL\\_CONTROL)    \\\\ \n",
      "  [INPUT](|1〉) & [GATE](X) & [OUTPUT](|0〉)\n",
      "\\Qcircuit @C=1em @R=.7em {\n",
      "\\lstick{1} & \\control \\cw \\cwx[1]    \\\\ \n",
      "  \\lstick{\\lvert 0 \\rangle} & \\gate{X} & \\rstick{\\lvert 1 \\rangle} \\qw  \\\\ \n",
      "  \\lstick{1} & \\control \\cw \\cwx[1]    \\\\ \n",
      "  \\lstick{\\lvert 1 \\rangle} & \\gate{X} & \\rstick{\\lvert 0 \\rangle} \\qw \n",
      "}\n"
     ]
    },
    {
     "data": {
      "text/plain": [
       "[INPUT](1) & [GATE](CLASSICAL\\_CONTROL)    \\\\ \n",
       "  [INPUT](|0〉) & [GATE](X) & [OUTPUT](|1〉)  \\\\ \n",
       "  [INPUT](1) & [GATE](CLASSICAL\\_CONTROL)    \\\\ \n",
       "  [INPUT](|1〉) & [GATE](X) & [OUTPUT](|0〉)"
      ]
     },
     "execution_count": 15,
     "metadata": {},
     "output_type": "execute_result"
    }
   ],
   "source": [
    "Circuit(ExprTuple(Input(one), MultiQubitGate(Gate(CLASSICAL_CONTROL), Set(one, two)), PASS), \n",
    "        ExprTuple(Input(ket0), MultiQubitGate(Gate(X), Set(one, two)), \n",
    "                  Output(ket1)), \n",
    "        ExprTuple(Input(one), MultiQubitGate(Gate(CLASSICAL_CONTROL), Set(three, four)), PASS), \n",
    "        ExprTuple(Input(ket1), MultiQubitGate(Gate(X), Set(three, four)), \n",
    "                  Output(ket0)))\n",
    "#cZ gate - 1 classical bit control for 1 and 0 qubit inputs"
   ]
  },
  {
   "cell_type": "code",
   "execution_count": 16,
   "metadata": {},
   "outputs": [],
   "source": [
    "#NULL GATES"
   ]
  },
  {
   "cell_type": "code",
   "execution_count": 17,
   "metadata": {},
   "outputs": [
    {
     "name": "stdout",
     "output_type": "stream",
     "text": [
      "[INPUT](|0〉) & [GATE](H) & [GATE](H) & [OUTPUT](|0〉)  \\\\ \n",
      "  [INPUT](|1〉) & [GATE](H) & [GATE](H) & [OUTPUT](|1〉)\n",
      "\\Qcircuit @C=1em @R=.7em {\n",
      "\\lstick{\\lvert 0 \\rangle} & \\gate{H} & \\gate{H} & \\rstick{\\lvert 0 \\rangle} \\qw  \\\\ \n",
      "  \\lstick{\\lvert 1 \\rangle} & \\gate{H} & \\gate{H} & \\rstick{\\lvert 1 \\rangle} \\qw \n",
      "}\n"
     ]
    },
    {
     "data": {
      "text/html": [
       "<a class=\"ProveItLink\" href=\"__pv_it/3be9c1f11e5530a038fef02848822f0614a97eaf0/expr.ipynb\"><img src=\"data:image/png;base64,iVBORw0KGgoAAAANSUhEUgAAAL4AAABEBAMAAADNU5LRAAAAMFBMVEX///8QEBBUVFRERESYmJgi\n",
       "IiLu7u6qqqoyMjJmZmbMzMyIiIi6urp2dnbc3NwAAADV54WuAAAAAXRSTlMAQObYZgAAAAlwSFlz\n",
       "AAAOxAAADsQBlSsOGwAAAi9JREFUWMPt1z1PWnEUBvDHQMEX8Lp01mJi+jLIbqL9BpIujtKhY1PX\n",
       "Dk3YulU+QNOYJp3rrIN+A9kcehNI+gEkqYIvaei5Xs4B5CGhzbGN9p6E+OAJPy7c//1fDjCygs5g\n",
       "Ncfo/E4FN543x+j8fb8R/5l29fvQMI6pHU+/D5WY//YJ2aqzr6jE93jVQMnZVzREuoR8Ecfcn1k+\n",
       "X0o/Ol8a9mnHfENDpBaQbeH7iOMPKsBEiR0/65hvaIigilwbkw3uf60BJ1Xms475hoZ4I/EU2Rr3\n",
       "64fA+hbzWcd8Q0Oc1DB9heETHCvb8lgrM591zDc0jj+Bj9z/IY+HdP2wzoB/jcpHqSEnb/U5bvVt\n",
       "W9HT3FmhULgYu9O070fR61ORbQPv6PHnL2Ulttnx007/+Y1RWUpFpFvAB+pPymtTLebTTm99KiqX\n",
       "whymKpgtUj+Qf09UmE87vetLUbmUN/ByB/kt6h/txgt92Ked3v6gqMTX+0+BB/z6rcsWeHDIfNrp\n",
       "+Yp2t1K85f5mtMjp/kY7g/tzhGpcZX7mcecZFjsrw/6Izg1/1WKmcgv3lwjtxpnnt+BH6F73VuZ6\n",
       "/x2N3rnfJ//u91tSSSWVVFJ/Vsl8fU/ma3wp+8/XiobIPNkuw3u+NjR6qwOJzvO1oRqd52tDNTrP\n",
       "14ZqdJ6vDdXoPF8batF3vjbUou98bahF3/naUIu+87WhGp3na0M1es/XikpcnH+x6z5fK5rM18l8\n",
       "/R/P178AfRZKtZaTpb4AAAAASUVORK5CYII=\n",
       "\" style=\"display:inline;vertical-align:middle;\" /></a>"
      ],
      "text/plain": [
       "[INPUT](|0〉) & [GATE](H) & [GATE](H) & [OUTPUT](|0〉)  \\\\ \n",
       "  [INPUT](|1〉) & [GATE](H) & [GATE](H) & [OUTPUT](|1〉)"
      ]
     },
     "execution_count": 17,
     "metadata": {},
     "output_type": "execute_result"
    }
   ],
   "source": [
    "Circuit(ExprTuple(Input(ket0), Gate(H), Gate(H), Output(ket0)), \n",
    "        ExprTuple(Input(ket1), Gate(H), Gate(H), Output(ket1)))"
   ]
  },
  {
   "cell_type": "code",
   "execution_count": 18,
   "metadata": {},
   "outputs": [
    {
     "name": "stdout",
     "output_type": "stream",
     "text": [
      "[INPUT](|0〉) & [GATE](X) & [GATE](X) & [OUTPUT](|0〉)  \\\\ \n",
      "  [INPUT](|1〉) & [GATE](X) & [GATE](X) & [OUTPUT](|1〉)\n",
      "\\Qcircuit @C=1em @R=.7em {\n",
      "\\lstick{\\lvert 0 \\rangle} & \\gate{X} & \\gate{X} & \\rstick{\\lvert 0 \\rangle} \\qw  \\\\ \n",
      "  \\lstick{\\lvert 1 \\rangle} & \\gate{X} & \\gate{X} & \\rstick{\\lvert 1 \\rangle} \\qw \n",
      "}\n"
     ]
    },
    {
     "data": {
      "text/html": [
       "<a class=\"ProveItLink\" href=\"__pv_it/7f6d1120e6064077ab114eecbe0c9796c98608e60/expr.ipynb\"><img src=\"data:image/png;base64,iVBORw0KGgoAAAANSUhEUgAAAL0AAABEBAMAAAAmZCnSAAAAMFBMVEX///8QEBBUVFRERESYmJgi\n",
       "IiLu7u6qqqoyMjJmZmbMzMyIiIi6urp2dnbc3NwAAADV54WuAAAAAXRSTlMAQObYZgAAAAlwSFlz\n",
       "AAAOxAAADsQBlSsOGwAAAo1JREFUWMPt179rE2EYB/Cv+XFpLk3iKC4GnNTBVCcdtA7Olg666VkQ\n",
       "XMQDJ4fQbm62k3Qo5RCcG8RFHczo1oCDYBUO+geYqk2RUuv7vs+bS2KeF6I8Vaj3wHEJz/Hh8r7v\n",
       "vZcv4Kzq/nB1xuj8TlV/+d4Zo/P3/ZhOvqRfsedIHR/pYzYS9MstOl8kv7yxisKSsP/pZYyH5D/C\n",
       "nRgzsv5E6N1E3vi5GZTreM/7pctbbe/WsXDUZzuJfxV4h3Ko/WwNhS42Hfef2QEexNz9c53EPwfM\n",
       "B5W69qtLmNzBRMz7/ldUauz4cJ3E/w6sh3is/fvK/4ZC2zH+i/GcY/yZTs/3tD+NhvY/t+HvYnSC\n",
       "rXLtSc3hM52eX9kD1pp6gslXX1cc/pEvgcNnOkN+G8WWHp82JtX9P6XewLZlL97F+J1Ob3yUv96E\n",
       "X6P5Lail0HDcf2bbtf6ZzuD8zod6UtX6rCPXhZ5r1l8923L4TCfxz6vpCfSiVM/XURQXoNcq5xej\n",
       "tTrvc53EvwIsQz9Uan+4gduRedY4/wPyP3if6yR+PvSOQ28Kyr/3+jTMXsH46tLcHuuzncT3Np5H\n",
       "Zs3b/dnsdaO+d0Evj4Dx+c7w/qw35Z5/ifP9qa0Ib/dnR31HZ9jPxonvLRzA++Vu//1Vmj4A/4U6\n",
       "XtmfIvn+LdmXbf0Q/D/5d//f0korrbTS+rNK8/Uhydd4Fsjna/86bL72Ti0GkM7Xc8td2HwNvAkg\n",
       "na9RUj7la/KF87XxKV+TL5yvjU/5mnzZfG39Rt+XzdfWzw/4ovna+iZfW180X1vf5Gvry+Zr8k2+\n",
       "tr5svibf5GvyhfM1+Zv9+RXO1+RTvj55YrYpna8zU9tn0nyd5uv/PV//BBKFPcD9bM3FAAAAAElF\n",
       "TkSuQmCC\n",
       "\" style=\"display:inline;vertical-align:middle;\" /></a>"
      ],
      "text/plain": [
       "[INPUT](|0〉) & [GATE](X) & [GATE](X) & [OUTPUT](|0〉)  \\\\ \n",
       "  [INPUT](|1〉) & [GATE](X) & [GATE](X) & [OUTPUT](|1〉)"
      ]
     },
     "execution_count": 18,
     "metadata": {},
     "output_type": "execute_result"
    }
   ],
   "source": [
    "Circuit(ExprTuple(Input(ket0), Gate(X), Gate(X), Output(ket0)), \n",
    "        ExprTuple(Input(ket1), Gate(X), Gate(X), Output(ket1)))"
   ]
  },
  {
   "cell_type": "code",
   "execution_count": 19,
   "metadata": {},
   "outputs": [
    {
     "name": "stdout",
     "output_type": "stream",
     "text": [
      "[INPUT](|0〉) & [GATE](Z) & [GATE](Z) & [OUTPUT](|0〉)  \\\\ \n",
      "  [INPUT](|1〉) & [GATE](Z) & [GATE](Z) & [OUTPUT](|1〉)\n",
      "\\Qcircuit @C=1em @R=.7em {\n",
      "\\lstick{\\lvert 0 \\rangle} & \\gate{Z} & \\gate{Z} & \\rstick{\\lvert 0 \\rangle} \\qw  \\\\ \n",
      "  \\lstick{\\lvert 1 \\rangle} & \\gate{Z} & \\gate{Z} & \\rstick{\\lvert 1 \\rangle} \\qw \n",
      "}\n"
     ]
    },
    {
     "data": {
      "text/html": [
       "<a class=\"ProveItLink\" href=\"__pv_it/0a655163b1fb444c0686a173ebddda95d5bf1b200/expr.ipynb\"><img src=\"data:image/png;base64,iVBORw0KGgoAAAANSUhEUgAAALcAAABEBAMAAAAxRrkbAAAAMFBMVEX///8QEBBUVFRERESYmJgi\n",
       "IiLu7u6qqqoyMjJmZmbMzMyIiIi6urp2dnbc3NwAAADV54WuAAAAAXRSTlMAQObYZgAAAAlwSFlz\n",
       "AAAOxAAADsQBlSsOGwAAArRJREFUWMPt172PEkEYBvDHA5ZvsDIXCyFn40eD0hgLxcJa1Hh2ZjUh\n",
       "sTHSWlzgtLDz6LzCeBsTE7sjxkYtpLCHxMLiNK65P8BTgQue5pyZd04E3qEwk1zUnYQsLPDb3Zl3\n",
       "ZvcBjC27PdKGX4zu38CftKzp0yi3a7hPm4Q1PKO3nni9o7chzxaebtH2JOHptYeINmzi75/7uEX4\n",
       "XVR8lC3isapzBRGFh8tIF/DWgOdm5w71GHzP59tzS2UePwu8Qboq8VAe0T7WeTzVBSr7GLxdgnPe\n",
       "5fHjQM3NFCSebSC1iZjP4nFx/EWfwe8DsQOGbhmIY1dxT+I3G/L8oh0WnxGF9I3r8zxw2uNxZ6Au\n",
       "bEHinzpIbGFyRLO6/ldaHO4h/t0woJkfwGpTjijh4uMDQ7Wku4Zq+VCahncQb8lu6SAlzvzRxKpE\n",
       "O841x5cx4sJb43/Y2OkWgbebSORpQKObkF3EnXl0YKjzWsNY5+IvtaocRVGKBYT7kIPL4e08rRbj\n",
       "eOqLXpcYvCiu15X1JybRXsTrkGXJDehXUY4cvip+3zDgZ4BlyJkjpv9lXPXUhGLwj3XgNYNnZsXJ\n",
       "lwx4pOrsh5zzAr/x8gjUUjCJO5fEJJxn8IrYGXENuLP21FO1rZdctYhN4nISPikwuJi1iTtTl1y5\n",
       "zu7gp1h85WJxcbs0icd7xRO57lQ85P/Cnbrtm8X14Z0oWbKNPxOvF/oirN1Dk/qGWfirHy126Ykr\n",
       "aEELWtCCFoTcfyHk4rFrOeQm5qFDrnN4yYXVkHttuQ8dcoFXLqyGXCQFTiGXcJshV+EUcgm3GXIV\n",
       "TiGXcIshV+MLQ9xiyNV45DfcXsjVuAq5GrcXcjWuQq7GLYZcwlXI1bjFkEu4CrmE2wy5hK8PB9Rm\n",
       "yCWcQu7B3IWm1ZA7c6x3NAi5Qcj9X0LuT/kyHSakKoi7AAAAAElFTkSuQmCC\n",
       "\" style=\"display:inline;vertical-align:middle;\" /></a>"
      ],
      "text/plain": [
       "[INPUT](|0〉) & [GATE](Z) & [GATE](Z) & [OUTPUT](|0〉)  \\\\ \n",
       "  [INPUT](|1〉) & [GATE](Z) & [GATE](Z) & [OUTPUT](|1〉)"
      ]
     },
     "execution_count": 19,
     "metadata": {},
     "output_type": "execute_result"
    }
   ],
   "source": [
    "Circuit(ExprTuple(Input(ket0), Gate(Z), Gate(Z), Output(ket0)), \n",
    "        ExprTuple(Input(ket1), Gate(Z), Gate(Z), Output(ket1)))"
   ]
  },
  {
   "cell_type": "code",
   "execution_count": 20,
   "metadata": {},
   "outputs": [
    {
     "name": "stdout",
     "output_type": "stream",
     "text": [
      "[INPUT](|0〉) & [GATE](CONTROL) & [GATE](CONTROL) & [OUTPUT](|0〉)  \\\\ \n",
      "  [INPUT](|0〉) & [GATE](Z) & [GATE](Z) & [OUTPUT](|0〉)  \\\\ \n",
      "  [INPUT](|0〉) & [GATE](CONTROL) & [GATE](CONTROL) & [OUTPUT](|0〉)  \\\\ \n",
      "  [INPUT](|1〉) & [GATE](Z) & [GATE](Z) & [OUTPUT](|1〉)  \\\\ \n",
      "  [INPUT](|1〉) & [GATE](CONTROL) & [GATE](CONTROL) & [OUTPUT](|1〉)  \\\\ \n",
      "  [INPUT](|0〉) & [GATE](Z) & [GATE](Z) & [OUTPUT](|0〉)  \\\\ \n",
      "  [INPUT](|1〉) & [GATE](CONTROL) & [GATE](CONTROL) & [OUTPUT](|1〉)  \\\\ \n",
      "  [INPUT](|1〉) & [GATE](Z) & [GATE](Z) & [OUTPUT](|1〉)\n",
      "\\Qcircuit @C=1em @R=.7em {\n",
      "\\lstick{\\lvert 0 \\rangle} & \\ctrl{1} & \\ctrl{1} & \\rstick{\\lvert 0 \\rangle} \\qw  \\\\ \n",
      "  \\lstick{\\lvert 0 \\rangle} & \\gate{Z} & \\gate{Z} & \\rstick{\\lvert 0 \\rangle} \\qw  \\\\ \n",
      "  \\lstick{\\lvert 0 \\rangle} & \\ctrl{1} & \\ctrl{1} & \\rstick{\\lvert 0 \\rangle} \\qw  \\\\ \n",
      "  \\lstick{\\lvert 1 \\rangle} & \\gate{Z} & \\gate{Z} & \\rstick{\\lvert 1 \\rangle} \\qw  \\\\ \n",
      "  \\lstick{\\lvert 1 \\rangle} & \\ctrl{1} & \\ctrl{1} & \\rstick{\\lvert 1 \\rangle} \\qw  \\\\ \n",
      "  \\lstick{\\lvert 0 \\rangle} & \\gate{Z} & \\gate{Z} & \\rstick{\\lvert 0 \\rangle} \\qw  \\\\ \n",
      "  \\lstick{\\lvert 1 \\rangle} & \\ctrl{1} & \\ctrl{1} & \\rstick{\\lvert 1 \\rangle} \\qw  \\\\ \n",
      "  \\lstick{\\lvert 1 \\rangle} & \\gate{Z} & \\gate{Z} & \\rstick{\\lvert 1 \\rangle} \\qw \n",
      "}\n"
     ]
    },
    {
     "data": {
      "text/plain": [
       "[INPUT](|0〉) & [GATE](CONTROL) & [GATE](CONTROL) & [OUTPUT](|0〉)  \\\\ \n",
       "  [INPUT](|0〉) & [GATE](Z) & [GATE](Z) & [OUTPUT](|0〉)  \\\\ \n",
       "  [INPUT](|0〉) & [GATE](CONTROL) & [GATE](CONTROL) & [OUTPUT](|0〉)  \\\\ \n",
       "  [INPUT](|1〉) & [GATE](Z) & [GATE](Z) & [OUTPUT](|1〉)  \\\\ \n",
       "  [INPUT](|1〉) & [GATE](CONTROL) & [GATE](CONTROL) & [OUTPUT](|1〉)  \\\\ \n",
       "  [INPUT](|0〉) & [GATE](Z) & [GATE](Z) & [OUTPUT](|0〉)  \\\\ \n",
       "  [INPUT](|1〉) & [GATE](CONTROL) & [GATE](CONTROL) & [OUTPUT](|1〉)  \\\\ \n",
       "  [INPUT](|1〉) & [GATE](Z) & [GATE](Z) & [OUTPUT](|1〉)"
      ]
     },
     "execution_count": 20,
     "metadata": {},
     "output_type": "execute_result"
    }
   ],
   "source": [
    "Circuit(ExprTuple(Input(ket0), MultiQubitGate(Gate(CONTROL), Set(one, two)), MultiQubitGate(Gate(CONTROL), Set(one, two)), \n",
    "                  Output(ket0)), \n",
    "        ExprTuple(Input(ket0), MultiQubitGate(Gate(Z), Set(one, two)), MultiQubitGate(Gate(Z), Set(one, two)), Output(ket0)), \n",
    "        ExprTuple(Input(ket0), MultiQubitGate(Gate(CONTROL), Set(three, four)), MultiQubitGate(Gate(CONTROL), Set(three, four)), \n",
    "                  Output(ket0)), \n",
    "        ExprTuple(Input(ket1), MultiQubitGate(Gate(Z), Set(three, four)), MultiQubitGate(Gate(Z), Set(three, four)), \n",
    "                  Output(ket1)),\n",
    "        ExprTuple(Input(ket1), MultiQubitGate(Gate(CONTROL), Set(five, six)), MultiQubitGate(Gate(CONTROL), Set(five, six)),\n",
    "                  Output(ket1)),\n",
    "        ExprTuple(Input(ket0), MultiQubitGate(Gate(Z), Set(five, six)), MultiQubitGate(Gate(Z), Set(five, six)),\n",
    "                  Output(ket0)),\n",
    "        ExprTuple(Input(ket1), MultiQubitGate(Gate(CONTROL), Set(seven, eight)), MultiQubitGate(Gate(CONTROL), Set(seven, eight)), \n",
    "                  Output(ket1)), \n",
    "        ExprTuple(Input(ket1), MultiQubitGate(Gate(Z), Set(seven, eight)), MultiQubitGate(Gate(Z), Set(seven, eight)), \n",
    "                  Output(ket1))) \n",
    "#CZ gate - 0 qubit control for 1 and 0 qubit inputs"
   ]
  },
  {
   "cell_type": "code",
   "execution_count": null,
   "metadata": {},
   "outputs": [],
   "source": []
  },
  {
   "cell_type": "code",
   "execution_count": 21,
   "metadata": {},
   "outputs": [],
   "source": [
    "%end demonstrations"
   ]
  }
 ],
 "metadata": {
  "kernelspec": {
   "display_name": "Python 3",
   "language": "python",
   "name": "python3"
  },
  "language_info": {
   "codemirror_mode": {
    "name": "ipython",
    "version": 3
   },
   "file_extension": ".py",
   "mimetype": "text/x-python",
   "name": "python",
   "nbconvert_exporter": "python",
   "pygments_lexer": "ipython3",
   "version": "3.7.3"
  }
 },
 "nbformat": 4,
 "nbformat_minor": 1
}
