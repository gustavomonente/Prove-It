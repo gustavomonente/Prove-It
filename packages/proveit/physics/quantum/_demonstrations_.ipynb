{
 "cells": [
  {
   "cell_type": "markdown",
   "metadata": {},
   "source": [
    "Demonstrations for context <a class=\"ProveItLink\" href=\"_context_.ipynb\">proveit.physics.quantum</a>\n",
    "========"
   ]
  },
  {
   "cell_type": "code",
   "execution_count": 1,
   "metadata": {},
   "outputs": [],
   "source": [
    "import proveit\n",
    "#proveit.defaults.automation = False # prevents proveit from calling automations that are currently broken\n",
    "from proveit import ExprArray, ExprTuple, ExprRange, IndexedVar, varRange, Literal\n",
    "from proveit._common_ import A, B, C, D, E, F, G, K, M, Q, R, S, U, a, b, f, g, h, i, j, k, m, n, p, q, r, s, t, u, x, y \n",
    "from proveit.core_expr_types import Len\n",
    "from proveit.core_expr_types.expr_array._common_ import Aij, Bij, Cij, Dij, Eij, Qij, Rij, Sij\n",
    "from proveit.logic import Equals, Implies, InSet, Forall, And\n",
    "from proveit.logic.set_theory import Set\n",
    "\n",
    "from proveit.number import (Add, Neg, zero, one, two, three, four, five, six, seven, eight, nine, Naturals, \n",
    "                            NaturalsPos, Complexes)\n",
    "from proveit.number.numeral.deci import DecimalSequence\n",
    "from proveit.number.numeral.deci._theorems_ import posnat1, posnat4\n",
    "from proveit.physics.quantum.circuit import Gate, Target, Circuit, Input, Output, MultiQubitGate, IdentityOp, CircuitEquiv\n",
    "from proveit.physics.quantum._common_ import (H, X, Z, I, ket1, ket0, ketPlus, ketMinus, ket_psi, SPACE, CONTROL, \n",
    "                                              CLASSICAL_CONTROL, MES)\n",
    "from proveit.physics.quantum._theorems_ import single_time_equiv, time_equiv\n",
    "from proveit.physics.quantum.quantumOps import Ket\n",
    "%begin demonstrations"
   ]
  },
  {
   "cell_type": "code",
   "execution_count": 2,
   "metadata": {},
   "outputs": [],
   "source": [
    "from proveit.physics.quantum._theorems_ import time_equiv_judgement, unary_multiQubitGate_reduction"
   ]
  },
  {
   "cell_type": "code",
   "execution_count": 3,
   "metadata": {},
   "outputs": [
    {
     "data": {
      "text/html": [
       "<a class=\"ProveItLink\" href=\"__pv_it/8373a5d8321994a63f51ec85e56ddb619222f5a30/expr.ipynb\"><img src=\"data:image/png;base64,iVBORw0KGgoAAAANSUhEUgAAAP8AAAAmCAMAAAA8570fAAAAM1BMVEX////f39+IiIgiIiIQEBB2\n",
       "dnbu7u5UVFTMzMzc3NwyMjK6urpmZmaYmJiqqqpEREQAAABvOxz2AAAAAXRSTlMAQObYZgAAAAlw\n",
       "SFlzAAAOxAAADsQBlSsOGwAAA6pJREFUaN7VWunSqyAM5bIvYXn/p72AgrYiteB0PvnRaaWSnORk\n",
       "AUXoqwEWPXFwzW9ZB0T7evjx+FpxeYsBrD6ZCL9154A46+fFSsofix95PC1WM/Rc/CqoSaku8Afj\n",
       "RzAbAYShJ+OfJYA8d/8j8CPPpoQKj36DX328OCbO0jmj29/gx6511eBpcSq0Vt686myf/uoifo6B\n",
       "MTHaKLrEUiVIID4t4WnQ+N0sg+Ym0EqLppa3bn6w4WJAMi1zuBx7JU46EtZJvt7GwqoXLlG76+AG\n",
       "8UOrfZOlpVX9+iD0Jfxcl2UoOxbQbnV92WDo8l8osC3M4sehRa1iV+a6N1NxCb8m1WDhkv3fJkuO\n",
       "CsWMm9it+xzE74JsUMsWi39If+wK/rp2+iqvNxBl0qxamLDmO77do+0kfrkkwHdqUZIGZePpvyqk\n",
       "wmZFiKaIqTDjEBwZ4YMXGBnmlcQ4XmlMImBvxrNmSyxiEj9fMLxTC7IozweKx7tCLGxlisSCAcjR\n",
       "mjuXCGdIkLgU863J6mNS4gBau89VHJDdEFdKOG5RS4nyEZNhSKlB+UOpkJfwk43zPFCk7BLWS+7M\n",
       "X5VDWmTUjcm4gFtvFofwR47Mths5ho/USq5nZp+FjTn0HzWwewcSYeuRcRQWf9Bk7PyxRHi8lC3J\n",
       "wr/jZPxR1Fh5oPDeBVfwd9WDJrUcrtlvdQM7yx0f/V/dT+liNp5iR2afGlQvxeLTnFzxVx+xXcdg\n",
       "6LT/oU0tjSx+SdGj+EX1v1gQAKkRbsLifkYyXmhOarfiP9L/yP9v45+nyG9Ri7m1CVjdwHEj/13J\n",
       "/7L8q9RBn9TyHlke+8IoPLpTJ97hVMwbk+spTTlqEKp5hDXo/4yhRS1Vmps1/J1s2+5z/cc0s9mX\n",
       "XjodmBoKiVBCZLvyVH5k/ttxsta4bCQlXvQAfEf9b1LLyw/hHyMTLvV/UgCDbU/BBcNOCSxTUcmd\n",
       "lgsGY1DtSWQKx5kX8GbxbfcwiD/n8Ca1qonFCf2jR/w9BxJA+ns0ecpeMtv/2wy9Ra1qIfLacu71\n",
       "pvfgJ9DX8XR69+hldP9Hzqi15dhISdsx3jR+HtyHU6qTPfJ+ezq6/xdofHQVv6yQ00H3T0b4SZzt\n",
       "+/MwiGDq4Z2H35x/qaaWVk2Lc3MHwL3jw0ec/4KeEsqDeTZ+6uakMv1o/JjOiqXyyfhn3d95/P0E\n",
       "/FjPy9X4m033X3r/IW5x1Dz+7gH+nx6cuDuWUTe9R/Pz4W96b0nJZ7r/tHT/B8VVM8Lb1Wd3AAAA\n",
       "AElFTkSuQmCC\n",
       "\" style=\"display:inline;vertical-align:middle;\" /></a>"
      ],
      "text/plain": [
       "forall_{U} (Gate(Output(U)) = Output(U))"
      ]
     },
     "execution_count": 3,
     "metadata": {},
     "output_type": "execute_result"
    }
   ],
   "source": [
    "Forall(U, Equals(Gate(Output(U)), Output(U)))"
   ]
  },
  {
   "cell_type": "code",
   "execution_count": 4,
   "metadata": {},
   "outputs": [
    {
     "data": {
      "text/html": [
       "<a class=\"ProveItLink\" href=\"__pv_it/2bbad316bd65f5b91816c2cbe8010df6706da3120/expr.ipynb\"><img src=\"data:image/png;base64,iVBORw0KGgoAAAANSUhEUgAAAIwAAAAiCAMAAAC6CMGSAAAAM1BMVEX////f39+qqqrc3Ny6uroi\n",
       "IiIQEBBERETMzMwyMjKYmJhUVFR2dnZmZmaIiIju7u4AAACDMg97AAAAAXRSTlMAQObYZgAAAAlw\n",
       "SFlzAAAOxAAADsQBlSsOGwAAAktJREFUWMPtl4luGyEQQCn3MRz//7WB4bRNt7SxYqlapCRrBs++\n",
       "uQkhm5U+tMgWhnxk3TA3zA3zh8Xaz7L0IvpRmEDzL+APe6rR8PCXMDF4AGf/lYUCmTAAwRdvUL+S\n",
       "nsOAQSuceT0WBfs9RBPG+r0KY2jfF/2Yiecw0aj2JOHV6KtwNqG3E8YiAhSN0D1i/TmMGSa416Pe\n",
       "XMA0oSQTRrlKmZ3Buo1ExlMYSHw+6udjAi5gqpCbBSahF3gqXjE9wsYewrA0bfeFKycz5r+LhDuV\n",
       "lAuEg2I6hLyzERIPEyZ2GDvyukjcIQykWXoiZVs8ocXvNs2sAOIExUzYCIfdBYYlBNBVaY+/NYcw\n",
       "YoYmpvwiZmsq1NLCR0aJcYiwEWYNdAODf3xLACqW117dclIa2RWKivxJFrNkGFmRtzAHIP16FeYP\n",
       "fA1TTaPqGd3Co9OxZ4ZjZC0LjqWADostuXGLKLkVrjAtgSnCj6Th8hDGDc+4FjAvRlbwVB0DgrTk\n",
       "3AgNXUsb69lWpb2cHsJ0BaOTfSpxbBVZqY25NWdNWaMp9obSLjZCFRYYK2c2jUZj1WmfCRJ9rkZX\n",
       "8K441ucaIs7lYi4+ydo0nnsVjsKt46Ckc8SjswX7cNyBtfPg/Ry50UGgzAVdbLPYMBIPdfpthISL\n",
       "FSZCbkg13iM4y3z7/hXCi0ux0AvMMrn6SGLinfcZ4S/FbRA+w6gRd/tGmJjo9YH62ieY2NvuHJhv\n",
       "gKEmmet7V1QbmNC/o+LPXjtZeXF4HPmjrtn9r8oN87/DfGh9AQ7HKXrlQFPAAAAAAElFTkSuQmCC\n",
       "\" style=\"display:inline;vertical-align:middle;\" /></a>"
      ],
      "text/plain": [
       " Gate(Output(|0〉))"
      ]
     },
     "execution_count": 4,
     "metadata": {},
     "output_type": "execute_result"
    }
   ],
   "source": [
    "Circuit(ExprArray(ExprTuple(Gate(Output(ket0)))))"
   ]
  },
  {
   "cell_type": "code",
   "execution_count": 5,
   "metadata": {},
   "outputs": [
    {
     "data": {
      "text/html": [
       "<a class=\"ProveItLink\" href=\"__pv_it/ba7ea05c470ba10afa7c6203073c40f3debbf57c0/expr.ipynb\"><img src=\"data:image/png;base64,iVBORw0KGgoAAAANSUhEUgAAAIEAAAAVBAMAAACTeZA2AAAAMFBMVEX///+YmJhmZmbu7u4QEBCq\n",
       "qqrc3NxUVFQyMjJERES6urp2dnbMzMwiIiKIiIgAAACQ98LxAAAAAXRSTlMAQObYZgAAAAlwSFlz\n",
       "AAAOxAAADsQBlSsOGwAAAoFJREFUOMuVlMtrE1EUxr9k8k4zDUVcCNKIG1c6yy4DbhUHV4KLpisR\n",
       "0QZ0YdFiqKC7JuIiCEKycePCDBQFLT7+AwNWQWhwFERExDQ+ak2TeL5zkxF3yYSZ+c7Nvb9zz+MO\n",
       "vm5irMtuvdB3TH7mol2Q+wnGvNJ1fX0cCdyV+8GQ8HhwswC7tguc+nEb+DyoLq04seXeLSRPrFqt\n",
       "6vLbpZZvFkY9Jax/KOAkd+YO99DjI7ktj1dUv8U4ivQfkV9gX0SkiXjWEOZ0MwnXeoMM7euGMNWl\n",
       "ca8mUXk0++Krj0Rb9EHEgcUcQnVDOKCE/bJvpMU/ZgzBpjesNTykOGpLOHYX0xXRRSwAsy5sxxDy\n",
       "SqgC806M/0ccJSTpDblMHmlnaCZ30fABy4MsvOYgahKYKimhAzRc3JCBRFYJ0yUlhLYQpqBzWf5c\n",
       "yhVSx8eDWoQ9CouELE5ztKgEemMAPaQ596WPc6+BDa7QFugEBHEpItbVSUxlqKQEemMAR+r3Offb\n",
       "lfV9EgBLE6cd+hkQMm5A8BCWkWhTCWUYd4uVNaqaNkx0Sx4XqOLfA0KkrlF0dd9TRalbWwk7OkPS\n",
       "9ys3bAfaUhE8opJ2+J/ATM677C6k8iSk+toOIjpe0B1It7WY0HYI8qBR4I5U2EGiMIpCvYEBvKsH\n",
       "3YGo7D3Ok8N2GBGSvoo9wCHgLHNUISFDbxa3Osup2otyrSB2VUXNCQhSPIqMax0DHjJ7vhDOlLc9\n",
       "WJd6rkl9vLzjmzCqh/V1eVD1R4RUU4X17JOUjz4zhUlP92ZwzBFles5P/H2Y+UdIFsxJm5Agy0aE\n",
       "ObZrZWKCVQkI7wmUJD8d9zu5YRYuwDYfTPBw7wX+AtTzzmQ7+QxlAAAAAElFTkSuQmCC\n",
       "\" style=\"display:inline;vertical-align:middle;\" /></a>"
      ],
      "text/plain": [
       "[INPUT](|0〉)"
      ]
     },
     "execution_count": 5,
     "metadata": {},
     "output_type": "execute_result"
    }
   ],
   "source": [
    "Input(ket0)"
   ]
  },
  {
   "cell_type": "code",
   "execution_count": 6,
   "metadata": {},
   "outputs": [
    {
     "data": {
      "text/html": [
       "<span style=\"font-size:20px;\"> <a class=\"ProveItLink\" href=\"__pv_it/8c080ce8d255e667e5695ec81a495a482e2c40670/proof.ipynb\" style=\"text-decoration: none\">&#x22A2;&nbsp;</a><a class=\"ProveItLink\" href=\"__pv_it/22772da3c3b7e3b10d242b7c6da7021b02c262b90/expr.ipynb\"><img src=\"data:image/png;base64,iVBORw0KGgoAAAANSUhEUgAAAEkAAAAVCAMAAAA94TNiAAAAQlBMVEX///8EBAQNDQ0FBQUWFhYY\n",
       "GBgPDw9UVFREREQiIiKYmJgQEBAyMjJmZmaqqqru7u7MzMyIiIi6urp2dnbc3NwAAAD7Vvg1AAAA\n",
       "AXRSTlMAQObYZgAAAAlwSFlzAAAOxAAADsQBlSsOGwAAAQFJREFUOMuNlFcShCAQRNkoQYEBvP9V\n",
       "l7SSJPChlu1rh6FrkEHNkmi0uoBWjYCHVl2gEMBf+bHslAOFoMONLDvlQC4IiDpfdCqAXOCxQQYv\n",
       "OhVALuj/w27WnArACwIOCALs/l964nQHeEEjzqxMrXCKfs8PYtf34y7k/aoB52S4/Qgh6vbEAqOG\n",
       "Nd0CTrCuDOKuQ5bkNnS6BUID1WmCEM910KguEARXq/GhEIPDS30iz8dWA9HJBoLad1xNA9UFYrHM\n",
       "uFqpmoe8C8SgyU1jCv89kXnGW+CKrEx1DIdBF7gEEGnemBWnGriEdO5iX5oqNZB+kcYXXXKqAWhH\n",
       "LR7O8R7wAxrcEsLvajaSAAAAAElFTkSuQmCC\n",
       "\" style=\"display:inline;vertical-align:middle;\" /></a></span>"
      ],
      "text/plain": [
       "|- Input(|psi〉) = Input(|psi〉)"
      ]
     },
     "execution_count": 6,
     "metadata": {},
     "output_type": "execute_result"
    }
   ],
   "source": [
    "unary_multiQubitGate_reduction.specialize({U: Input(ket_psi), A: one}, assumptions=[])"
   ]
  },
  {
   "cell_type": "code",
   "execution_count": 7,
   "metadata": {},
   "outputs": [
    {
     "data": {
      "text/html": [
       "<strong id=\"assumptions\">assumptions:</strong> <a class=\"ProveItLink\" href=\"__pv_it/86366fd4b96914fee8eb4f5b0658a918f8c78e1d0/expr.ipynb\"><img src=\"data:image/png;base64,iVBORw0KGgoAAAANSUhEUgAAAMUAAAAbBAMAAAA+IlacAAAAMFBMVEX///9ERESqqqq6urpmZmbc\n",
       "3Nx2dnbMzMwiIiIQEBCYmJju7u4yMjJUVFSIiIgAAAATN2ysAAAAAXRSTlMAQObYZgAAAAlwSFlz\n",
       "AAAOxAAADsQBlSsOGwAAAUFJREFUSMdjYIAD/v+o4AMRMqiAn6AafjT+ByJkcJswagd97dg7QwFI\n",
       "PqCpHX1VbUDyAjl28N3/c5vr5p/bmHagyvAtYNhzgYHdAdMENvk/Vwn4g/8AAwNnAzZ/oMjwAqk7\n",
       "BRYB2ExoIBRW9QkMDPEO2OxAkWEB+ez/ZFwm4Lcj34CBYb0CNjswZbixmvDegJAd54FYfgM2O7DJ\n",
       "YDNBnmC6+gjEM7CmKxQZlg4wwJau/mDYgVSMgbjMP+7evfuFgAyqG9HV/UMT/YCR8r4D4/ITNn9g\n",
       "lcESEiB1+MOKByjH+BubHVhlcJiA3w5+AWAmOIDNDlQZ3PEBUoffDvsHsASObgdWGRwm4LcjvwCW\n",
       "wNHtwCqDwwT8dvTDEzi6HVhlcJiAzw7uO//vMVz8L4dpBw4ZDBNY7/y/NloPjtrBQId2IgAOwSw7\n",
       "gdJXcAAAAABJRU5ErkJggg==\n",
       "\" style=\"display:inline;vertical-align:middle;\" /></a><br>"
      ],
      "text/plain": [
       "assumptions:  Gate(H)  & Gate(H) equiv  [I]  & --"
      ]
     },
     "execution_count": 7,
     "metadata": {},
     "output_type": "execute_result"
    }
   ],
   "source": [
    "# Defining assumptions\n",
    "assumptions= CircuitEquiv(\n",
    "                    Circuit(ExprArray(ExprTuple(Gate(H), Gate(H)))),\n",
    "                    Circuit(ExprArray(ExprTuple(IdentityOp().withStyles(gate='explicit'), IdentityOp()))))"
   ]
  },
  {
   "cell_type": "code",
   "execution_count": 8,
   "metadata": {},
   "outputs": [
    {
     "ename": "Exception",
     "evalue": "Unable to use 'dvipng' backend to compile LaTeX.  Be sure a LaTeX distribution is installed.",
     "output_type": "error",
     "traceback": [
      "\u001b[1;31m---------------------------------------------------------------------------\u001b[0m",
      "\u001b[1;31mException\u001b[0m                                 Traceback (most recent call last)",
      "\u001b[1;32m~\\Anaconda3\\lib\\site-packages\\IPython\\core\\formatters.py\u001b[0m in \u001b[0;36m__call__\u001b[1;34m(self, obj)\u001b[0m\n\u001b[0;32m    343\u001b[0m             \u001b[0mmethod\u001b[0m \u001b[1;33m=\u001b[0m \u001b[0mget_real_method\u001b[0m\u001b[1;33m(\u001b[0m\u001b[0mobj\u001b[0m\u001b[1;33m,\u001b[0m \u001b[0mself\u001b[0m\u001b[1;33m.\u001b[0m\u001b[0mprint_method\u001b[0m\u001b[1;33m)\u001b[0m\u001b[1;33m\u001b[0m\u001b[1;33m\u001b[0m\u001b[0m\n\u001b[0;32m    344\u001b[0m             \u001b[1;32mif\u001b[0m \u001b[0mmethod\u001b[0m \u001b[1;32mis\u001b[0m \u001b[1;32mnot\u001b[0m \u001b[1;32mNone\u001b[0m\u001b[1;33m:\u001b[0m\u001b[1;33m\u001b[0m\u001b[1;33m\u001b[0m\u001b[0m\n\u001b[1;32m--> 345\u001b[1;33m                 \u001b[1;32mreturn\u001b[0m \u001b[0mmethod\u001b[0m\u001b[1;33m(\u001b[0m\u001b[1;33m)\u001b[0m\u001b[1;33m\u001b[0m\u001b[1;33m\u001b[0m\u001b[0m\n\u001b[0m\u001b[0;32m    346\u001b[0m             \u001b[1;32mreturn\u001b[0m \u001b[1;32mNone\u001b[0m\u001b[1;33m\u001b[0m\u001b[1;33m\u001b[0m\u001b[0m\n\u001b[0;32m    347\u001b[0m         \u001b[1;32melse\u001b[0m\u001b[1;33m:\u001b[0m\u001b[1;33m\u001b[0m\u001b[1;33m\u001b[0m\u001b[0m\n",
      "\u001b[1;32mc:\\users\\joaqu\\prove-it\\packages\\proveit\\_core_\\proof.py\u001b[0m in \u001b[0;36m_repr_html_\u001b[1;34m(self)\u001b[0m\n\u001b[0;32m    407\u001b[0m             \u001b[0mhtml\u001b[0m \u001b[1;33m+=\u001b[0m \u001b[1;34m'</tr>\\n'\u001b[0m\u001b[1;33m\u001b[0m\u001b[1;33m\u001b[0m\u001b[0m\n\u001b[0;32m    408\u001b[0m             \u001b[1;32mif\u001b[0m \u001b[0mproof\u001b[0m\u001b[1;33m.\u001b[0m\u001b[0mstepType\u001b[0m\u001b[1;33m(\u001b[0m\u001b[1;33m)\u001b[0m\u001b[1;33m==\u001b[0m\u001b[1;34m'instantiation'\u001b[0m\u001b[1;33m:\u001b[0m\u001b[1;33m\u001b[0m\u001b[1;33m\u001b[0m\u001b[0m\n\u001b[1;32m--> 409\u001b[1;33m                 \u001b[0mhtml\u001b[0m \u001b[1;33m+=\u001b[0m \u001b[1;34m'<tr><td>&nbsp;</td><td colspan=4 style=\"text-align:left\">'\u001b[0m \u001b[1;33m+\u001b[0m \u001b[0mproof\u001b[0m\u001b[1;33m.\u001b[0m\u001b[0m_mapping\u001b[0m\u001b[1;33m(\u001b[0m\u001b[1;34m'HTML'\u001b[0m\u001b[1;33m)\u001b[0m \u001b[1;33m+\u001b[0m \u001b[1;34m'</td></tr>'\u001b[0m\u001b[1;33m\u001b[0m\u001b[1;33m\u001b[0m\u001b[0m\n\u001b[0m\u001b[0;32m    410\u001b[0m             \u001b[1;32mif\u001b[0m \u001b[0mproof\u001b[0m\u001b[1;33m.\u001b[0m\u001b[0mstepType\u001b[0m\u001b[1;33m(\u001b[0m\u001b[1;33m)\u001b[0m\u001b[1;33m==\u001b[0m\u001b[1;34m'axiom'\u001b[0m \u001b[1;32mor\u001b[0m \u001b[0mproof\u001b[0m\u001b[1;33m.\u001b[0m\u001b[0mstepType\u001b[0m\u001b[1;33m(\u001b[0m\u001b[1;33m)\u001b[0m\u001b[1;33m==\u001b[0m\u001b[1;34m'theorem'\u001b[0m\u001b[1;33m:\u001b[0m\u001b[1;33m\u001b[0m\u001b[1;33m\u001b[0m\u001b[0m\n\u001b[0;32m    411\u001b[0m                 \u001b[0mhtml\u001b[0m \u001b[1;33m+=\u001b[0m \u001b[1;34m'<tr><td>&nbsp;</td><td colspan=4 style-\"text-align:left\">'\u001b[0m\u001b[1;33m\u001b[0m\u001b[1;33m\u001b[0m\u001b[0m\n",
      "\u001b[1;32mc:\\users\\joaqu\\prove-it\\packages\\proveit\\_core_\\proof.py\u001b[0m in \u001b[0;36m_mapping\u001b[1;34m(self, formatType)\u001b[0m\n\u001b[0;32m   1056\u001b[0m         \u001b[1;32melse\u001b[0m\u001b[1;33m:\u001b[0m \u001b[0mout\u001b[0m \u001b[1;33m=\u001b[0m \u001b[1;34m''\u001b[0m\u001b[1;33m\u001b[0m\u001b[1;33m\u001b[0m\u001b[0m\n\u001b[0;32m   1057\u001b[0m         out += ', '.join(self._single_mapping(var, self.mapping[var], formatType)\n\u001b[1;32m-> 1058\u001b[1;33m                          for var in self.mapping_var_order)\n\u001b[0m\u001b[0;32m   1059\u001b[0m         \u001b[1;32mif\u001b[0m \u001b[0mformatType\u001b[0m\u001b[1;33m==\u001b[0m\u001b[1;34m'HTML'\u001b[0m\u001b[1;33m:\u001b[0m\u001b[1;33m\u001b[0m\u001b[1;33m\u001b[0m\u001b[0m\n\u001b[0;32m   1060\u001b[0m             \u001b[0mout\u001b[0m \u001b[1;33m+=\u001b[0m \u001b[1;34m'</span>'\u001b[0m\u001b[1;33m\u001b[0m\u001b[1;33m\u001b[0m\u001b[0m\n",
      "\u001b[1;32mc:\\users\\joaqu\\prove-it\\packages\\proveit\\_core_\\proof.py\u001b[0m in \u001b[0;36m<genexpr>\u001b[1;34m(.0)\u001b[0m\n\u001b[0;32m   1056\u001b[0m         \u001b[1;32melse\u001b[0m\u001b[1;33m:\u001b[0m \u001b[0mout\u001b[0m \u001b[1;33m=\u001b[0m \u001b[1;34m''\u001b[0m\u001b[1;33m\u001b[0m\u001b[1;33m\u001b[0m\u001b[0m\n\u001b[0;32m   1057\u001b[0m         out += ', '.join(self._single_mapping(var, self.mapping[var], formatType)\n\u001b[1;32m-> 1058\u001b[1;33m                          for var in self.mapping_var_order)\n\u001b[0m\u001b[0;32m   1059\u001b[0m         \u001b[1;32mif\u001b[0m \u001b[0mformatType\u001b[0m\u001b[1;33m==\u001b[0m\u001b[1;34m'HTML'\u001b[0m\u001b[1;33m:\u001b[0m\u001b[1;33m\u001b[0m\u001b[1;33m\u001b[0m\u001b[0m\n\u001b[0;32m   1060\u001b[0m             \u001b[0mout\u001b[0m \u001b[1;33m+=\u001b[0m \u001b[1;34m'</span>'\u001b[0m\u001b[1;33m\u001b[0m\u001b[1;33m\u001b[0m\u001b[0m\n",
      "\u001b[1;32mc:\\users\\joaqu\\prove-it\\packages\\proveit\\_core_\\proof.py\u001b[0m in \u001b[0;36m_single_mapping\u001b[1;34m(self, var, replacement, formatType)\u001b[0m\n\u001b[0;32m   1049\u001b[0m             return (formatted(Function(var, replacement.parameter_or_parameters))\n\u001b[0;32m   1050\u001b[0m                     + ' : ' + formatted(replacement.body))\n\u001b[1;32m-> 1051\u001b[1;33m         \u001b[1;32mreturn\u001b[0m \u001b[0mformatted\u001b[0m\u001b[1;33m(\u001b[0m\u001b[0mvar\u001b[0m\u001b[1;33m)\u001b[0m \u001b[1;33m+\u001b[0m \u001b[1;34m' : '\u001b[0m \u001b[1;33m+\u001b[0m \u001b[0mformatted\u001b[0m\u001b[1;33m(\u001b[0m\u001b[0mreplacement\u001b[0m\u001b[1;33m)\u001b[0m\u001b[1;33m\u001b[0m\u001b[1;33m\u001b[0m\u001b[0m\n\u001b[0m\u001b[0;32m   1052\u001b[0m \u001b[1;33m\u001b[0m\u001b[0m\n\u001b[0;32m   1053\u001b[0m     \u001b[1;32mdef\u001b[0m \u001b[0m_mapping\u001b[0m\u001b[1;33m(\u001b[0m\u001b[0mself\u001b[0m\u001b[1;33m,\u001b[0m \u001b[0mformatType\u001b[0m\u001b[1;33m=\u001b[0m\u001b[1;34m'HTML'\u001b[0m\u001b[1;33m)\u001b[0m\u001b[1;33m:\u001b[0m\u001b[1;33m\u001b[0m\u001b[1;33m\u001b[0m\u001b[0m\n",
      "\u001b[1;32mc:\\users\\joaqu\\prove-it\\packages\\proveit\\_core_\\proof.py\u001b[0m in \u001b[0;36m<lambda>\u001b[1;34m(expr)\u001b[0m\n\u001b[0;32m   1045\u001b[0m     \u001b[1;32mdef\u001b[0m \u001b[0m_single_mapping\u001b[0m\u001b[1;33m(\u001b[0m\u001b[0mself\u001b[0m\u001b[1;33m,\u001b[0m \u001b[0mvar\u001b[0m\u001b[1;33m,\u001b[0m \u001b[0mreplacement\u001b[0m\u001b[1;33m,\u001b[0m \u001b[0mformatType\u001b[0m\u001b[1;33m)\u001b[0m\u001b[1;33m:\u001b[0m\u001b[1;33m\u001b[0m\u001b[1;33m\u001b[0m\u001b[0m\n\u001b[0;32m   1046\u001b[0m         \u001b[1;32mfrom\u001b[0m \u001b[0mproveit\u001b[0m \u001b[1;32mimport\u001b[0m \u001b[0mFunction\u001b[0m\u001b[1;33m,\u001b[0m \u001b[0mLambda\u001b[0m\u001b[1;33m\u001b[0m\u001b[1;33m\u001b[0m\u001b[0m\n\u001b[1;32m-> 1047\u001b[1;33m         \u001b[0mformatted\u001b[0m \u001b[1;33m=\u001b[0m \u001b[1;32mlambda\u001b[0m \u001b[0mexpr\u001b[0m \u001b[1;33m:\u001b[0m \u001b[0mexpr\u001b[0m\u001b[1;33m.\u001b[0m\u001b[0m_repr_html_\u001b[0m\u001b[1;33m(\u001b[0m\u001b[1;33m)\u001b[0m \u001b[1;32mif\u001b[0m \u001b[0mformatType\u001b[0m\u001b[1;33m==\u001b[0m\u001b[1;34m'HTML'\u001b[0m \u001b[1;32melse\u001b[0m \u001b[0mstr\u001b[0m\u001b[1;33m(\u001b[0m\u001b[0mexpr\u001b[0m\u001b[1;33m)\u001b[0m\u001b[1;33m\u001b[0m\u001b[1;33m\u001b[0m\u001b[0m\n\u001b[0m\u001b[0;32m   1048\u001b[0m         \u001b[1;32mif\u001b[0m \u001b[0misinstance\u001b[0m\u001b[1;33m(\u001b[0m\u001b[0mreplacement\u001b[0m\u001b[1;33m,\u001b[0m \u001b[0mLambda\u001b[0m\u001b[1;33m)\u001b[0m\u001b[1;33m:\u001b[0m\u001b[1;33m\u001b[0m\u001b[1;33m\u001b[0m\u001b[0m\n\u001b[0;32m   1049\u001b[0m             return (formatted(Function(var, replacement.parameter_or_parameters))\n",
      "\u001b[1;32mc:\\users\\joaqu\\prove-it\\packages\\proveit\\_core_\\expression\\expr.py\u001b[0m in \u001b[0;36m_repr_html_\u001b[1;34m(self, context, unofficialNameKindContext)\u001b[0m\n\u001b[0;32m   1046\u001b[0m             \u001b[0mcontext\u001b[0m \u001b[1;33m=\u001b[0m \u001b[0mContext\u001b[0m\u001b[1;33m(\u001b[0m\u001b[1;33m)\u001b[0m\u001b[1;33m\u001b[0m\u001b[1;33m\u001b[0m\u001b[0m\n\u001b[0;32m   1047\u001b[0m         \u001b[1;32mif\u001b[0m \u001b[1;32mnot\u001b[0m \u001b[0mhasattr\u001b[0m\u001b[1;33m(\u001b[0m\u001b[0mself\u001b[0m\u001b[1;33m.\u001b[0m\u001b[0m_styleData\u001b[0m\u001b[1;33m,\u001b[0m\u001b[1;34m'png'\u001b[0m\u001b[1;33m)\u001b[0m\u001b[1;33m:\u001b[0m\u001b[1;33m\u001b[0m\u001b[1;33m\u001b[0m\u001b[0m\n\u001b[1;32m-> 1048\u001b[1;33m             \u001b[0mself\u001b[0m\u001b[1;33m.\u001b[0m\u001b[0m_styleData\u001b[0m\u001b[1;33m.\u001b[0m\u001b[0mpng\u001b[0m\u001b[1;33m,\u001b[0m \u001b[0mpng_url\u001b[0m \u001b[1;33m=\u001b[0m \u001b[0mcontext\u001b[0m\u001b[1;33m.\u001b[0m\u001b[0m_stored_png\u001b[0m\u001b[1;33m(\u001b[0m\u001b[0mself\u001b[0m\u001b[1;33m,\u001b[0m \u001b[0mself\u001b[0m\u001b[1;33m.\u001b[0m\u001b[0mlatex\u001b[0m\u001b[1;33m(\u001b[0m\u001b[1;33m)\u001b[0m\u001b[1;33m,\u001b[0m \u001b[0mself\u001b[0m\u001b[1;33m.\u001b[0m\u001b[0m_config_latex_tool\u001b[0m\u001b[1;33m)\u001b[0m\u001b[1;33m\u001b[0m\u001b[1;33m\u001b[0m\u001b[0m\n\u001b[0m\u001b[0;32m   1049\u001b[0m             \u001b[0mself\u001b[0m\u001b[1;33m.\u001b[0m\u001b[0m_styleData\u001b[0m\u001b[1;33m.\u001b[0m\u001b[0mpng_url\u001b[0m \u001b[1;33m=\u001b[0m \u001b[0mpng_url\u001b[0m\u001b[1;33m\u001b[0m\u001b[1;33m\u001b[0m\u001b[0m\n\u001b[0;32m   1050\u001b[0m         \u001b[1;32mif\u001b[0m \u001b[0mself\u001b[0m\u001b[1;33m.\u001b[0m\u001b[0m_styleData\u001b[0m\u001b[1;33m.\u001b[0m\u001b[0mpng_url\u001b[0m \u001b[1;32mis\u001b[0m \u001b[1;32mnot\u001b[0m \u001b[1;32mNone\u001b[0m\u001b[1;33m:\u001b[0m\u001b[1;33m\u001b[0m\u001b[1;33m\u001b[0m\u001b[0m\n",
      "\u001b[1;32mc:\\users\\joaqu\\prove-it\\packages\\proveit\\_core_\\context.py\u001b[0m in \u001b[0;36m_stored_png\u001b[1;34m(self, expr, latex, configLatexToolFn)\u001b[0m\n\u001b[0;32m    424\u001b[0m         \u001b[0mReturn\u001b[0m \u001b[0mthe\u001b[0m \u001b[0mpng\u001b[0m \u001b[0mdata\u001b[0m \u001b[1;32mand\u001b[0m \u001b[0mpath\u001b[0m \u001b[0mwhere\u001b[0m \u001b[0mthe\u001b[0m \u001b[0mpng\u001b[0m \u001b[1;32mis\u001b[0m \u001b[0mstored\u001b[0m \u001b[1;32mas\u001b[0m \u001b[0ma\u001b[0m \u001b[0mtuple\u001b[0m\u001b[1;33m.\u001b[0m\u001b[1;33m\u001b[0m\u001b[1;33m\u001b[0m\u001b[0m\n\u001b[0;32m    425\u001b[0m         '''\n\u001b[1;32m--> 426\u001b[1;33m         \u001b[1;32mreturn\u001b[0m \u001b[0mself\u001b[0m\u001b[1;33m.\u001b[0m\u001b[0m_storage\u001b[0m\u001b[1;33m.\u001b[0m\u001b[0mretrieve_png\u001b[0m\u001b[1;33m(\u001b[0m\u001b[0mexpr\u001b[0m\u001b[1;33m,\u001b[0m \u001b[0mlatex\u001b[0m\u001b[1;33m,\u001b[0m \u001b[0mconfigLatexToolFn\u001b[0m\u001b[1;33m)\u001b[0m\u001b[1;33m\u001b[0m\u001b[1;33m\u001b[0m\u001b[0m\n\u001b[0m\u001b[0;32m    427\u001b[0m \u001b[1;33m\u001b[0m\u001b[0m\n\u001b[0;32m    428\u001b[0m     \u001b[1;32mdef\u001b[0m \u001b[0mclean\u001b[0m\u001b[1;33m(\u001b[0m\u001b[0mself\u001b[0m\u001b[1;33m)\u001b[0m\u001b[1;33m:\u001b[0m\u001b[1;33m\u001b[0m\u001b[1;33m\u001b[0m\u001b[0m\n",
      "\u001b[1;32mc:\\users\\joaqu\\prove-it\\packages\\proveit\\_core_\\_context_storage.py\u001b[0m in \u001b[0;36mretrieve_png\u001b[1;34m(self, expr, latex, configLatexToolFn)\u001b[0m\n\u001b[0;32m    578\u001b[0m             \u001b[0mlatex_file\u001b[0m\u001b[1;33m.\u001b[0m\u001b[0mwrite\u001b[0m\u001b[1;33m(\u001b[0m\u001b[0mlatex\u001b[0m\u001b[1;33m.\u001b[0m\u001b[0mencode\u001b[0m\u001b[1;33m(\u001b[0m\u001b[1;34m'ascii'\u001b[0m\u001b[1;33m)\u001b[0m\u001b[1;33m)\u001b[0m\u001b[1;33m\u001b[0m\u001b[1;33m\u001b[0m\u001b[0m\n\u001b[0;32m    579\u001b[0m         \u001b[1;31m# generate, store and return the png file\u001b[0m\u001b[1;33m\u001b[0m\u001b[1;33m\u001b[0m\u001b[1;33m\u001b[0m\u001b[0m\n\u001b[1;32m--> 580\u001b[1;33m         \u001b[0mpng\u001b[0m \u001b[1;33m=\u001b[0m \u001b[0mself\u001b[0m\u001b[1;33m.\u001b[0m\u001b[0m_generate_png\u001b[0m\u001b[1;33m(\u001b[0m\u001b[0mlatex\u001b[0m\u001b[1;33m,\u001b[0m \u001b[0mconfigLatexToolFn\u001b[0m\u001b[1;33m)\u001b[0m\u001b[1;33m\u001b[0m\u001b[1;33m\u001b[0m\u001b[0m\n\u001b[0m\u001b[0;32m    581\u001b[0m         \u001b[1;32mwith\u001b[0m \u001b[0mopen\u001b[0m\u001b[1;33m(\u001b[0m\u001b[0mpng_path\u001b[0m\u001b[1;33m,\u001b[0m \u001b[1;34m'wb'\u001b[0m\u001b[1;33m)\u001b[0m \u001b[1;32mas\u001b[0m \u001b[0mpng_file\u001b[0m\u001b[1;33m:\u001b[0m\u001b[1;33m\u001b[0m\u001b[1;33m\u001b[0m\u001b[0m\n\u001b[0;32m    582\u001b[0m             \u001b[0mpng_file\u001b[0m\u001b[1;33m.\u001b[0m\u001b[0mwrite\u001b[0m\u001b[1;33m(\u001b[0m\u001b[0mpng\u001b[0m\u001b[1;33m)\u001b[0m\u001b[1;33m\u001b[0m\u001b[1;33m\u001b[0m\u001b[0m\n",
      "\u001b[1;32mc:\\users\\joaqu\\prove-it\\packages\\proveit\\_core_\\_context_storage.py\u001b[0m in \u001b[0;36m_generate_png\u001b[1;34m(self, latex, configLatexToolFn)\u001b[0m\n\u001b[0;32m    595\u001b[0m         \u001b[0mpng\u001b[0m \u001b[1;33m=\u001b[0m \u001b[0mlatex_to_png\u001b[0m\u001b[1;33m(\u001b[0m\u001b[0mlatex\u001b[0m\u001b[1;33m,\u001b[0m \u001b[0mbackend\u001b[0m\u001b[1;33m=\u001b[0m\u001b[1;34m'dvipng'\u001b[0m\u001b[1;33m,\u001b[0m \u001b[0mwrap\u001b[0m\u001b[1;33m=\u001b[0m\u001b[1;32mTrue\u001b[0m\u001b[1;33m)\u001b[0m \u001b[1;31m# the 'matplotlib' backend can do some BAD rendering in my experience (like \\lnot rendering as lnot in some contexts)\u001b[0m\u001b[1;33m\u001b[0m\u001b[1;33m\u001b[0m\u001b[0m\n\u001b[0;32m    596\u001b[0m         \u001b[1;32mif\u001b[0m \u001b[0mpng\u001b[0m \u001b[1;32mis\u001b[0m \u001b[1;32mNone\u001b[0m\u001b[1;33m:\u001b[0m\u001b[1;33m\u001b[0m\u001b[1;33m\u001b[0m\u001b[0m\n\u001b[1;32m--> 597\u001b[1;33m             \u001b[1;32mraise\u001b[0m \u001b[0mException\u001b[0m\u001b[1;33m(\u001b[0m\u001b[1;34m\"Unable to use 'dvipng' backend to compile LaTeX.  Be sure a LaTeX distribution is installed.\"\u001b[0m\u001b[1;33m)\u001b[0m\u001b[1;33m\u001b[0m\u001b[1;33m\u001b[0m\u001b[0m\n\u001b[0m\u001b[0;32m    598\u001b[0m         \u001b[1;32mreturn\u001b[0m \u001b[0mpng\u001b[0m\u001b[1;33m\u001b[0m\u001b[1;33m\u001b[0m\u001b[0m\n\u001b[0;32m    599\u001b[0m \u001b[1;33m\u001b[0m\u001b[0m\n",
      "\u001b[1;31mException\u001b[0m: Unable to use 'dvipng' backend to compile LaTeX.  Be sure a LaTeX distribution is installed."
     ]
    },
    {
     "data": {
      "text/plain": [
       "\tstep type\trequirements\tstatement\n",
       "0\tinstantiation\t1, 53, 2, 3, 4, 5, 6, 7, 8, 9, 10, 11*, 12, 13*, 14, 15, 16, 17, 18, 19*, 20*\t|- (( Gate(H)  & Gate(H) equiv  [I]  & [I]) and  Input(|psi〉)  & Gate(H)  & Gate(H)  & Output(|psi〉)) =>  \\\\  Input(|psi〉)  & [I]  & [I]  & Output(|psi〉)\n",
       "\th : 1, k : 1, m : 1, n : 2, A : (Input(|psi〉)), B : (H, H), C : (Output(|psi〉)), D : ([I], [I]), S : ({1}, {1}), R : ({1}), Q : ({1})\n",
       "1\ttheorem\t\t|- forall_{h in NaturalsPos, k in NaturalsPos, m in NaturalsPos, n in NaturalsPos} [forall_{A_{1, 1}, ..A_{1, _b}.., A_{1, k}, ....A_{_a, 1}, ..A_{_a, _b}.., A_{_a, k}...., A_{m, 1}, ..A_{m, _b}.., A_{m, k}, B_{1, 1}, ..B_{1, _b}.., B_{1, n}, ....B_{_a, 1}, ..B_{_a, _b}.., B_{_a, n}...., B_{m, 1}, ..B_{m, _b}.., B_{m, n}, C_{1, 1}, ..C_{1, _b}.., C_{1, h}, ....C_{_a, 1}, ..C_{_a, _b}.., C_{_a, h}...., C_{m, 1}, ..C_{m, _b}.., C_{m, h}, D_{1, 1}, ..D_{1, _b}.., D_{1, n}, ....D_{_a, 1}, ..D_{_a, _b}.., D_{_a, n}...., D_{m, 1}, ..D_{m, _b}.., D_{m, n}, S_{1, 1}, ..S_{1, _b}.., S_{1, n}, ....S_{_a, 1}, ..S_{_a, _b}.., S_{_a, n}...., S_{m, 1}, ..S_{m, _b}.., S_{m, n}, R_{1, 1}, ..R_{1, _b}.., R_{1, k}, ....R_{_a, 1}, ..R_{_a, _b}.., R_{_a, k}...., R_{m, 1}, ..R_{m, _b}.., R_{m, k}, Q_{1, 1}, ..Q_{1, _b}.., Q_{1, h}, ....Q_{_a, 1}, ..Q_{_a, _b}.., Q_{_a, h}...., Q_{m, 1}, ..Q_{m, _b}.., Q_{m, h}} ((( MultiQubitGate(B_{1, 1}, S_{1, 1})  & ..MultiQubitGate(B_{1, j}, S_{1, j})..  & MultiQubitGate(B_{1, n}, S_{1, n})   \\\\ \n",
       "   \\colon  & \\colon  & \\colon   \\\\ \n",
       "   MultiQubitGate(B_{i, 1}, S_{i, 1})  & ..MultiQubitGate(B_{i, j}, S_{i, j})..  & MultiQubitGate(B_{i, n}, S_{i, n})   \\\\ \n",
       "   \\colon  & \\colon  & \\colon   \\\\ \n",
       "   MultiQubitGate(B_{m, 1}, S_{m, 1})  & ..MultiQubitGate(B_{m, j}, S_{m, j})..  & MultiQubitGate(B_{m, n}, S_{m, n}) equiv  MultiQubitGate(D_{1, 1}, S_{1, 1})  & ..MultiQubitGate(D_{1, j}, S_{1, j})..  & MultiQubitGate(D_{1, n}, S_{1, n})   \\\\ \n",
       "   \\colon  & \\colon  & \\colon   \\\\ \n",
       "   MultiQubitGate(D_{i, 1}, S_{i, 1})  & ..MultiQubitGate(D_{i, j}, S_{i, j})..  & MultiQubitGate(D_{i, n}, S_{i, n})   \\\\ \n",
       "   \\colon  & \\colon  & \\colon   \\\\ \n",
       "   MultiQubitGate(D_{m, 1}, S_{m, 1})  & ..MultiQubitGate(D_{m, j}, S_{m, j})..  & MultiQubitGate(D_{m, n}, S_{m, n})) and  MultiQubitGate(A_{1, 1}, R_{1, 1})  & ..MultiQubitGate(A_{1, j}, R_{1, j})..  & MultiQubitGate(A_{1, k}, R_{1, k})  & MultiQubitGate(B_{1, 1}, S_{1, 1})  & ..MultiQubitGate(B_{1, j}, S_{1, j})..  & MultiQubitGate(B_{1, n}, S_{1, n})  & MultiQubitGate(C_{1, 1}, Q_{1, 1})  & ..MultiQubitGate(C_{1, j}, Q_{1, j})..  & MultiQubitGate(C_{1, h}, Q_{1, h})   \\\\ \n",
       "   \\colon  & \\colon  & \\colon  & \\colon  & \\colon  & \\colon  & \\colon  & \\colon  & \\colon   \\\\ \n",
       "   MultiQubitGate(A_{i, 1}, R_{i, 1})  & ..MultiQubitGate(A_{i, j}, R_{i, j})..  & MultiQubitGate(A_{i, k}, R_{i, k})  & MultiQubitGate(B_{i, 1}, S_{i, 1})  & ..MultiQubitGate(B_{i, j}, S_{i, j})..  & MultiQubitGate(B_{i, n}, S_{i, n})  & MultiQubitGate(C_{i, 1}, Q_{i, 1})  & ..MultiQubitGate(C_{i, j}, Q_{i, j})..  & MultiQubitGate(C_{i, h}, Q_{i, h})   \\\\ \n",
       "   \\colon  & \\colon  & \\colon  & \\colon  & \\colon  & \\colon  & \\colon  & \\colon  & \\colon   \\\\ \n",
       "   MultiQubitGate(A_{m, 1}, R_{m, 1})  & ..MultiQubitGate(A_{m, j}, R_{m, j})..  & MultiQubitGate(A_{m, k}, R_{m, k})  & MultiQubitGate(B_{m, 1}, S_{m, 1})  & ..MultiQubitGate(B_{m, j}, S_{m, j})..  & MultiQubitGate(B_{m, n}, S_{m, n})  & MultiQubitGate(C_{m, 1}, Q_{m, 1})  & ..MultiQubitGate(C_{m, j}, Q_{m, j})..  & MultiQubitGate(C_{m, h}, Q_{m, h})) =>  \\\\  MultiQubitGate(A_{1, 1}, R_{1, 1})  & ..MultiQubitGate(A_{1, j}, R_{1, j})..  & MultiQubitGate(A_{1, k}, R_{1, k})  & MultiQubitGate(D_{1, 1}, S_{1, 1})  & ..MultiQubitGate(D_{1, j}, S_{1, j})..  & MultiQubitGate(D_{1, n}, S_{1, n})  & MultiQubitGate(C_{1, 1}, Q_{1, 1})  & ..MultiQubitGate(C_{1, j}, Q_{1, j})..  & MultiQubitGate(C_{1, h}, Q_{1, h})   \\\\ \n",
       "   \\colon  & \\colon  & \\colon  & \\colon  & \\colon  & \\colon  & \\colon  & \\colon  & \\colon   \\\\ \n",
       "   MultiQubitGate(A_{i, 1}, R_{i, 1})  & ..MultiQubitGate(A_{i, j}, R_{i, j})..  & MultiQubitGate(A_{i, k}, R_{i, k})  & MultiQubitGate(D_{i, 1}, S_{i, 1})  & ..MultiQubitGate(D_{i, j}, S_{i, j})..  & MultiQubitGate(D_{i, n}, S_{i, n})  & MultiQubitGate(C_{i, 1}, Q_{i, 1})  & ..MultiQubitGate(C_{i, j}, Q_{i, j})..  & MultiQubitGate(C_{i, h}, Q_{i, h})   \\\\ \n",
       "   \\colon  & \\colon  & \\colon  & \\colon  & \\colon  & \\colon  & \\colon  & \\colon  & \\colon   \\\\ \n",
       "   MultiQubitGate(A_{m, 1}, R_{m, 1})  & ..MultiQubitGate(A_{m, j}, R_{m, j})..  & MultiQubitGate(A_{m, k}, R_{m, k})  & MultiQubitGate(D_{m, 1}, S_{m, 1})  & ..MultiQubitGate(D_{m, j}, S_{m, j})..  & MultiQubitGate(D_{m, n}, S_{m, n})  & MultiQubitGate(C_{m, 1}, Q_{m, 1})  & ..MultiQubitGate(C_{m, j}, Q_{m, j})..  & MultiQubitGate(C_{m, h}, Q_{m, h}))]\n",
       "\tproveit.physics.quantum.time_equiv_judgement\n",
       "2\ttheorem\t\t|- 2 in NaturalsPos\n",
       "\tproveit.number.numeral.deci.posnat2\n",
       "3\tinstantiation\t30, 31, 22\t|- |(Input(|psi〉))| = |((1, 1), ..(1, x).., (1, 1), ....(k, 1), ..(k, x).., (k, 1)...., (1, 1), ..(1, x).., (1, 1))|\n",
       "\tx : |(Input(|psi〉))|, y : 1, z : |((1, 1), ..(1, x).., (1, 1), ....(k, 1), ..(k, x).., (k, 1)...., (1, 1), ..(1, x).., (1, 1))|\n",
       "4\tinstantiation\t30, 23, 21\t|- |(H, H)| = |((1, 1), ..(1, x).., (1, 2), ....(k, 1), ..(k, x).., (k, 2)...., (1, 1), ..(1, x).., (1, 2))|\n",
       "\tx : |(H, H)|, y : 2, z : |((1, 1), ..(1, x).., (1, 2), ....(k, 1), ..(k, x).., (k, 2)...., (1, 1), ..(1, x).., (1, 2))|\n",
       "5\tinstantiation\t30, 28, 22\t|- |(Output(|psi〉))| = |((1, 1), ..(1, x).., (1, 1), ....(k, 1), ..(k, x).., (k, 1)...., (1, 1), ..(1, x).., (1, 1))|\n",
       "\tx : |(Output(|psi〉))|, y : 1, z : |((1, 1), ..(1, x).., (1, 1), ....(k, 1), ..(k, x).., (k, 1)...., (1, 1), ..(1, x).., (1, 1))|\n",
       "6\tinstantiation\t30, 25, 21\t|- |([I], [I])| = |((1, 1), ..(1, x).., (1, 2), ....(k, 1), ..(k, x).., (k, 2)...., (1, 1), ..(1, x).., (1, 2))|\n",
       "\tx : |([I], [I])|, y : 2, z : |((1, 1), ..(1, x).., (1, 2), ....(k, 1), ..(k, x).., (k, 2)...., (1, 1), ..(1, x).., (1, 2))|\n",
       "7\tinstantiation\t30, 24, 21\t|- |({1}, {1})| = |((1, 1), ..(1, x).., (1, 2), ....(k, 1), ..(k, x).., (k, 2)...., (1, 1), ..(1, x).., (1, 2))|\n",
       "\tx : |({1}, {1})|, y : 2, z : |((1, 1), ..(1, x).., (1, 2), ....(k, 1), ..(k, x).., (k, 2)...., (1, 1), ..(1, x).., (1, 2))|\n",
       "8\tinstantiation\t30, 29, 22\t|- |({1})| = |((1, 1), ..(1, x).., (1, 1), ....(k, 1), ..(k, x).., (k, 1)...., (1, 1), ..(1, x).., (1, 1))|\n",
       "\tx : |({1})|, y : 1, z : |((1, 1), ..(1, x).., (1, 1), ....(k, 1), ..(k, x).., (k, 1)...., (1, 1), ..(1, x).., (1, 1))|\n",
       "9\tinstantiation\t30, 23, 26\t|- |(H, H)| = |((i, 1), ..(i, a).., (i, 2))|\n",
       "\tx : |(H, H)|, y : 2, z : |((i, 1), ..(i, a).., (i, 2))|\n",
       "10\tinstantiation\t30, 24, 26\t|- |({1}, {1})| = |((i, 1), ..(i, a).., (i, 2))|\n",
       "\tx : |({1}, {1})|, y : 2, z : |((i, 1), ..(i, a).., (i, 2))|\n",
       "11\tinstantiation\t34, 53\t|- MultiQubitGate(H, {1}) = Gate(H)\n",
       "\tU : H, A : 1\n",
       "12\tinstantiation\t30, 25, 26\t|- |([I], [I])| = |((i, 1), ..(i, a).., (i, 2))|\n",
       "\tx : |([I], [I])|, y : 2, z : |((i, 1), ..(i, a).., (i, 2))|\n",
       "13\tinstantiation\t34, 53\t|- MultiQubitGate([I], {1}) = [I]\n",
       "\tU : [I], A : 1\n",
       "14\tinstantiation\t27\t|- (MultiQubitGate(A_{i, 1}, R_{i, 1}), ..MultiQubitGate(A_{i, a}, R_{i, a}).., MultiQubitGate(A_{i, 1}, R_{i, 1})) = (MultiQubitGate(A_{i, 1}, R_{i, 1}))\n",
       "\tf(j) : MultiQubitGate(A_{i, j}, R_{i, j}), i : 1\n",
       "15\tinstantiation\t27\t|- (MultiQubitGate(C_{i, 1}, Q_{i, 1}), ..MultiQubitGate(C_{i, a}, Q_{i, a}).., MultiQubitGate(C_{i, 1}, Q_{i, 1})) = (MultiQubitGate(C_{i, 1}, Q_{i, 1}))\n",
       "\tf(j) : MultiQubitGate(C_{i, j}, Q_{i, j}), i : 1\n",
       "16\tinstantiation\t30, 28, 32\t|- |(Output(|psi〉))| = |((i, 1), ..(i, a).., (i, 1))|\n",
       "\tx : |(Output(|psi〉))|, y : 1, z : |((i, 1), ..(i, a).., (i, 1))|\n",
       "17\tinstantiation\t30, 29, 32\t|- |({1})| = |((i, 1), ..(i, a).., (i, 1))|\n",
       "\tx : |({1})|, y : 1, z : |((i, 1), ..(i, a).., (i, 1))|\n",
       "18\tinstantiation\t30, 31, 32\t|- |(Input(|psi〉))| = |((i, 1), ..(i, a).., (i, 1))|\n",
       "\tx : |(Input(|psi〉))|, y : 1, z : |((i, 1), ..(i, a).., (i, 1))|\n",
       "19\tinstantiation\t34, 53, 33*\t|- MultiQubitGate(Input(|psi〉), {1}) = Input(|psi〉)\n",
       "\tU : [INPUT](|psi〉), A : 1\n",
       "20\tinstantiation\t34, 53, 35*\t|- MultiQubitGate(Output(|psi〉), {1}) = Output(|psi〉)\n",
       "\tU : [OUTPUT](|psi〉), A : 1\n",
       "21\tinstantiation\t41, 36\t|- 2 = |((1, 1), ..(1, x).., (1, 2), ....(k, 1), ..(k, x).., (k, 2)...., (1, 1), ..(1, x).., (1, 2))|\n",
       "\tx : |((1, 1), ..(1, x).., (1, 2), ....(k, 1), ..(k, x).., (k, 2)...., (1, 1), ..(1, x).., (1, 2))|, y : 2\n",
       "22\tinstantiation\t41, 37\t|- 1 = |((1, 1), ..(1, x).., (1, 1), ....(k, 1), ..(k, x).., (k, 1)...., (1, 1), ..(1, x).., (1, 1))|\n",
       "\tx : |((1, 1), ..(1, x).., (1, 1), ....(k, 1), ..(k, x).., (k, 1)...., (1, 1), ..(1, x).., (1, 1))|, y : 1\n",
       "23\tinstantiation\t38\t|- |(H, H)| = 2\n",
       "\ta : H, b : H\n",
       "24\tinstantiation\t38\t|- |({1}, {1})| = 2\n",
       "\ta : {1}, b : {1}\n",
       "25\tinstantiation\t38\t|- |([I], [I])| = 2\n",
       "\ta : [I], b : [I]\n",
       "26\tinstantiation\t41, 39\t|- 2 = |((i, 1), ..(i, a).., (i, 2))|\n",
       "\tx : |((i, 1), ..(i, a).., (i, 2))|, y : 2\n",
       "27\ttheorem\t\t|- forall_{f, i} ((f(i), ..f(a).., f(i)) = (f(i)))\n",
       "\tproveit.core_expr_types.tuples.singular_range_reduction\n",
       "28\tinstantiation\t40\t|- |(Output(|psi〉))| = 1\n",
       "\ta : [OUTPUT](|psi〉)\n",
       "29\tinstantiation\t40\t|- |({1})| = 1\n",
       "\ta : {1}\n",
       "30\taxiom\t\t|- forall_{x, y, z | x = y, y = z} (x = z)\n",
       "\tproveit.logic.equality.equalsTransitivity\n",
       "31\tinstantiation\t40\t|- |(Input(|psi〉))| = 1\n",
       "\ta : [INPUT](|psi〉)\n",
       "32\tinstantiation\t41, 42\t|- 1 = |((i, 1), ..(i, a).., (i, 1))|\n",
       "\tx : |((i, 1), ..(i, a).., (i, 1))|, y : 1\n",
       "33\tinstantiation\t43\t|- Gate(Input(|psi〉)) = Input(|psi〉)\n",
       "\tU : |psi〉\n",
       "34\ttheorem\t\t|- forall_{U} [forall_{A in NaturalsPos} (MultiQubitGate(U, {A}) = Gate(U))]\n",
       "\tproveit.physics.quantum.unary_multiQubitGate_reduction\n",
       "35\tinstantiation\t44\t|- Gate(Output(|psi〉)) = Output(|psi〉)\n",
       "\tU : |psi〉\n",
       "36\tinstantiation\t47, 45, 46\t|- |((1, 1), ..(1, x).., (1, 2), ....(k, 1), ..(k, x).., (k, 2)...., (1, 1), ..(1, x).., (1, 2))| = 2\n",
       "\tP(_a) : |((1, 1), ..(1, x).., (1, 2), ....(k, 1), ..(k, x).., (k, 2)...., (1, 1), ..(1, x).., (1, 2))| = _a, x : 1 * 2, y : 2\n",
       "37\tinstantiation\t47, 48, 49\t|- |((1, 1), ..(1, x).., (1, 1), ....(k, 1), ..(k, x).., (k, 1)...., (1, 1), ..(1, x).., (1, 1))| = 1\n",
       "\tP(_a) : |((1, 1), ..(1, x).., (1, 1), ....(k, 1), ..(k, x).., (k, 1)...., (1, 1), ..(1, x).., (1, 1))| = _a, x : 1 * 1, y : 1\n",
       "38\ttheorem\t\t|- forall_{a, b} (|(a, b)| = 2)\n",
       "\tproveit.number.numeral.deci.tuple_len_2\n",
       "39\tinstantiation\t50, 51\t|- |((i, 1), ..(i, a).., (i, 2))| = 2\n",
       "\ti : 2, f(j) : (i, j)\n",
       "40\ttheorem\t\t|- forall_{a} (|(a)| = 1)\n",
       "\tproveit.number.numeral.deci.tuple_len_1\n",
       "41\ttheorem\t\t|- forall_{x, y | x = y} (y = x)\n",
       "\tproveit.logic.equality.equalsReversal\n",
       "42\tinstantiation\t50, 56\t|- |((i, 1), ..(i, a).., (i, 1))| = 1\n",
       "\ti : 1, f(j) : (i, j)\n",
       "43\ttheorem\t\t|- forall_{U} (Gate(Input(U)) = Input(U))\n",
       "\tproveit.physics.quantum.input_gate_to_ket\n",
       "44\ttheorem\t\t|- forall_{U} (Gate(Output(U)) = Output(U))\n",
       "\tproveit.physics.quantum.output_gate_to_ket\n",
       "45\tinstantiation\t52, 53, 54, 51\t|- |((1, 1), ..(1, x).., (1, 2), ....(k, 1), ..(k, x).., (k, 2)...., (1, 1), ..(1, x).., (1, 2))| \\\\  = (1 * 2)\n",
       "\tn : 1, f : (_b -> (1, _b), .._b -> (_a, _b).., _b -> (1, _b)), i : 2\n",
       "46\ttheorem\t\t|- (1 * 2) = 2\n",
       "\tproveit.number.numeral.deci.mult_1_2\n",
       "47\ttheorem\t\t|- forall_{P, x, y | P(x), x = y} P(y)\n",
       "\tproveit.logic.equality.subRightSideInto\n",
       "48\tinstantiation\t52, 53, 54, 56\t|- |((1, 1), ..(1, x).., (1, 1), ....(k, 1), ..(k, x).., (k, 1)...., (1, 1), ..(1, x).., (1, 1))| \\\\  = (1 * 1)\n",
       "\tn : 1, f : (_b -> (1, _b), .._b -> (_a, _b).., _b -> (1, _b)), i : 1\n",
       "49\ttheorem\t\t|- (1 * 1) = 1\n",
       "\tproveit.number.numeral.deci.mult_1_1\n",
       "50\ttheorem\t\t|- forall_{i in Naturals} [forall_{f} (|(f(1), ..f(a).., f(i))| = i)]\n",
       "\tproveit.core_expr_types.tuples.range_from1_len\n",
       "51\ttheorem\t\t|- 2 in Naturals\n",
       "\tproveit.number.numeral.deci.nat2\n",
       "52\ttheorem\t\t|- forall_{n in NaturalsPos} [forall_{f_{1}, ..f_{_a}.., f_{n}, i | i in Naturals} (|(f_{1}(1), ..f_{1}(x).., f_{1}(i), ....f_{k}(1), ..f_{k}(x).., f_{k}(i)...., f_{n}(1), ..f_{n}(x).., f_{n}(i))| \\\\  = (n * i))]\n",
       "\tproveit.core_expr_types.tuples.len_of_ranges_with_repeated_indices_from_1\n",
       "53\ttheorem\t\t|- 1 in NaturalsPos\n",
       "\tproveit.number.numeral.deci.posnat1\n",
       "54\tinstantiation\t55, 56\t|- |(_b -> (1, _b), .._b -> (a, _b).., _b -> (1, _b))| = |(1, ..k.., 1)|\n",
       "\ti : 1, f(_a) : _b -> (_a, _b)\n",
       "55\ttheorem\t\t|- forall_{i in Naturals} [forall_{f} (|(f(1), ..f(a).., f(i))| = |(1, ..k.., i)|)]\n",
       "\tproveit.core_expr_types.tuples.range_from1_len_typical_equiv\n",
       "56\ttheorem\t\t|- 1 in Naturals\n",
       "\tproveit.number.numeral.deci.nat1"
      ]
     },
     "execution_count": 8,
     "metadata": {},
     "output_type": "execute_result"
    }
   ],
   "source": [
    "# Instantiating!\n",
    "time_equiv_judgement.instantiate({h:one, k:one, m:one, n:two, A:ExprTuple(Input(ket_psi)), B:ExprTuple(H, H), \n",
    "                                  C:ExprTuple(Output(ket_psi)), D:ExprTuple(IdentityOp().withStyles(gate='explicit'), \n",
    "                                                                    IdentityOp()), \n",
    "                                  S:ExprTuple(Set(one), Set(one)), R:ExprTuple(Set(one)), \n",
    "                                  Q:ExprTuple(Set(one))}, assumptions=[assumptions]).proof()"
   ]
  },
  {
   "cell_type": "code",
   "execution_count": 9,
   "metadata": {},
   "outputs": [
    {
     "name": "stdout",
     "output_type": "stream",
     "text": [
      "\\Qcircuit@C=1em @R=.7em{\n",
      "& \\control \\qw \\qwx[2] & \\qw   \\\\ \n",
      "  & \\qw & \\qw   \\\\ \n",
      "  & \\targ & \\qw \n",
      "} \\cong \\Qcircuit@C=1em @R=.7em{\n",
      "& \\control \\qw \\qwx[1] & \\qw & \\control \\qw \\qwx[1] & \\qw & \\qw   \\\\ \n",
      "  & \\targ & \\control \\qw \\qwx[1] & \\targ & \\control \\qw \\qwx[1] & \\qw   \\\\ \n",
      "  & \\qw & \\targ & \\qw & \\targ & \\qw \n",
      "}\n"
     ]
    }
   ],
   "source": [
    "print(CircuitEquiv(\n",
    "    Circuit(ExprArray(ExprTuple(MultiQubitGate(CONTROL, Set(one, three)), IdentityOp()),\n",
    "                     ExprTuple(IdentityOp(), IdentityOp()),\n",
    "                     ExprTuple(MultiQubitGate(X, Set(one, three)).withStyles(representation='implicit'), IdentityOp()))),\n",
    "    Circuit(ExprArray(ExprTuple(MultiQubitGate(CONTROL, Set(one, two)), IdentityOp(), MultiQubitGate(CONTROL, Set(one, two)), IdentityOp(), IdentityOp()),\n",
    "                     ExprTuple(MultiQubitGate(X, Set(one, two)).withStyles(representation='implicit'), MultiQubitGate(CONTROL, Set(two, three)), MultiQubitGate(X, Set(one, two)).withStyles(representation='implicit'), MultiQubitGate(CONTROL, Set(two, three)), IdentityOp()),\n",
    "                     ExprTuple(IdentityOp(), MultiQubitGate(X, Set(two, three)).withStyles(representation='implicit'), IdentityOp(), MultiQubitGate(X, Set(two, three)).withStyles(representation='implicit'), IdentityOp())\n",
    "                     ))).latex())\n",
    "            \n",
    "    "
   ]
  },
  {
   "cell_type": "code",
   "execution_count": 10,
   "metadata": {},
   "outputs": [
    {
     "name": "stdout",
     "output_type": "stream",
     "text": [
      "\\Qcircuit@C=1em @R=.7em{\n",
      "& \\meter \\qwx[1]   \\\\ \n",
      "  & \\gate{U} & \\qw \n",
      "} \\cong \\Qcircuit@C=1em @R=.7em{\n",
      "& \\control \\qw \\qwx[1] & \\meter   \\\\ \n",
      "  & \\gate{U} & \\qw \n",
      "}\n"
     ]
    }
   ],
   "source": [
    "print(CircuitEquiv(\n",
    "    Circuit(ExprArray(ExprTuple(MultiQubitGate(Literal('MES'), Set(one, two)), SPACE),\n",
    "                      ExprTuple(MultiQubitGate(U, Set(one, two)), IdentityOp()))),\n",
    "    Circuit(ExprArray(ExprTuple(MultiQubitGate(CONTROL, Set(one, two)), MES),\n",
    "                     ExprTuple(MultiQubitGate(U, Set(one, two)), IdentityOp())))).latex())"
   ]
  },
  {
   "cell_type": "code",
   "execution_count": 11,
   "metadata": {},
   "outputs": [
    {
     "data": {
      "text/html": [
       "<a class=\"ProveItLink\" href=\"__pv_it/571ad54e0c50e782b272e3968c7633f2b4d0f23e0/expr.ipynb\"><img src=\"data:image/png;base64,iVBORw0KGgoAAAANSUhEUgAAAPsAAAB5BAMAAAANJEpGAAAAMFBMVEX///8QEBBUVFRERESYmJgi\n",
       "IiLu7u6qqqoyMjJmZmbMzMyIiIi6urp2dnbc3NwAAADV54WuAAAAAXRSTlMAQObYZgAAAAlwSFlz\n",
       "AAAOxAAADsQBlSsOGwAABPhJREFUaN7tmr9rFEEUgB8mt5fc5U5rGwNWahO1s5BYaGuwiJ2cgmAj\n",
       "XpsiXDq7mDKFSAhYG0QEFUz+gxxYpEiUg/wBNpogcuDuvDncmX0/dpf1EnCmGC77Zt7HbWZ38uUN\n",
       "AN/a6R823Ngg9bkBuWNSSr+1dlI/3HBjB6nPExu5Y1JKCv/1wwC7pQyitf8q/vC6A/W1LD6+bAZ4\n",
       "sSRlYxGwW1LxU93oAXa1DOI5PB5El17EnAU/hpeTAV4sTvlo/Qiwq6n42wBfsGt1PcTkArTmALZj\n",
       "zl7228eXccBe5ts3Y7LpvJQE/hpAr2O69pyHmJiF+hHiD0k8Djjk8V5KAv8LYLdrOlj1EGfXYOYY\n",
       "8VMDCo8D3JiD91Jm8VFCvpN087DsIZ7F2X8gvt6n8DjAjbn4ZQXfHgK8+Zx0W95COYDvfWj8Rry3\n",
       "vizeDljg8bU8+G9J14fpnSx+aPEvOfzQi7l4NyVx8+Ppu++Tbgsas97N78PM6NtvkjcfB2zyeDcl\n",
       "vfR6XdN5v0Sz9Op26WXWxWjpJQOWeby3ZrL46wB3O6bzlnD84M3BpH3wMk8FPng4YJXHe09MFn8L\n",
       "YB077wGOXzvnYHoF8Zl3Ar52zAA35uIPtee+1o3OY+e9vmLEfXi4gfjMGxEvmwFuzMXvafho/+0G\n",
       "dtmH6+mnywAXL9zbIvYDc9kMqPkpz1z9eQU7f6+QNlxv60pvqsRuyMWklCJ+YsAjbkLemJRSxD/h\n",
       "EdFK7piUUsS/4xHN+dwxKaXfmuk/lLzN8WP6JkLumJQytP+sSb4whib5wnjwxhcIJxjdk0V+trEQ\n",
       "5q1hLESbZn2BcgJsxgiYZgSEaSahOs36AuUEo1cFjzcCQjdrIdo06wuUE+h4IyB0yFqINs36AuUE\n",
       "Oh4FhGzWQrRp1hcoJ1DxEQoI2ayFaNOsL1BOoOLbKCBkswm1adYXKCfIh+/z+KE+zfoC5QT6zUcB\n",
       "oW8+JtSmWV+gnCDX0uvxS69+rE+zvkA5gY5HAaEfPEyoTbO+QDmBjkcBoV87aCHatJEvEE6g41FA\n",
       "6IYWok0b+QLhBNjQCJhFZASEbiahOk3yhTHv974vjBkfrZwovjk/drzkC6GFFjTjH2sGVZZQVUJS\n",
       "kEKaQZYlVJWQFKSQZpBlCU0lpM24mGaQZQlNJSR8Mc0gyxKaSkj4YppBliU0lZDwxTSDLEtoKiHh\n",
       "i2kGWZbQVELD59cMsiyhqYR48wtpBlmW0FRCWXoFNIMsS2gqIT54hTSDLEtoKiG+doppBlWWUFVC\n",
       "UpBimkGVJVSVkBQkaEbQjKAZoQXNOI2awZ1wyqEZUux1J5dmsCecdM0QYpg1h2awJ5x0zRAVZLuT\n",
       "Y5pwwknXDFFBeLyjGewJJ10zRAXh8Y5msCecVM2QFYTFu5rBnnBSNUNWEBbvagZ7wknVDFlBZHzf\n",
       "vflcNUPSDFlB+JvvaAZ7wknXDFFBxKXXc5ceX82QNENUEB7vaAZ7wknXDFFBeLyrGdwJJ10zRAXh\n",
       "8a5mcCecdM2QYiZr0IygGUEzQguacRo1o1w1o+Shqb9FEKsZ5aoZJQ9NpYogow23VDWj5KGp1L8D\n",
       "HXyFmiFVMzh8hZohVTM4fIWaIVQzWHyFmiFUM3h8dZohVDN4fHWaIVQzeHx1miFVM1h8dZohVTM4\n",
       "fIWaIVUzOHyVmiFUM1y8EYJS1YySh6ZSRZCgGUEzTkYz/gDEnGK/9pN6jgAAAABJRU5ErkJggg==\n",
       "\" style=\"display:inline;vertical-align:middle;\" /></a>"
      ],
      "text/plain": [
       "~ & |00〉 & |01〉 & |10〉 & |11〉  \\\\ \n",
       "  |00〉 & 1 & 0 & 0 & 0  \\\\ \n",
       "  |01〉 & 0 & 1 & 0 & 0  \\\\ \n",
       "  |10〉 & 0 & 0 & 1 & 0  \\\\ \n",
       "  |11〉 & 0 & 0 & 0 & 1"
      ]
     },
     "execution_count": 11,
     "metadata": {},
     "output_type": "execute_result"
    }
   ],
   "source": [
    "ExprArray(ExprTuple(Literal('~', '~'), Ket(DecimalSequence(zero, zero)), Ket(DecimalSequence(zero, one)), \n",
    "                    Ket(DecimalSequence(one, zero)), Ket(DecimalSequence(one, one))),\n",
    "         ExprTuple(Ket(DecimalSequence(zero, zero)), one, zero, zero, zero),\n",
    "         ExprTuple(Ket(DecimalSequence(zero, one)), zero, one, zero, zero),\n",
    "         ExprTuple(Ket(DecimalSequence(one, zero)), zero, zero, one, zero),\n",
    "         ExprTuple(Ket(DecimalSequence(one, one)), zero, zero, zero, one))"
   ]
  },
  {
   "cell_type": "code",
   "execution_count": 12,
   "metadata": {},
   "outputs": [
    {
     "data": {
      "text/plain": [
       "'\\\\Qcircuit@C=2em @R=3em{\\n& \\\\control \\\\qw \\\\qwx[1] & \\\\qw   \\\\\\\\ \\n  & \\\\gate{Z} & \\\\qw \\n} \\\\cong \\\\Qcircuit@C=2em @R=3em{\\n& \\\\gate{Z} \\\\qwx[1] & \\\\qw   \\\\\\\\ \\n  & \\\\control \\\\qw & \\\\qw \\n}'"
      ]
     },
     "execution_count": 12,
     "metadata": {},
     "output_type": "execute_result"
    }
   ],
   "source": [
    "CircuitEquiv(\n",
    "    Circuit(\n",
    "        ExprArray(\n",
    "            ExprTuple(MultiQubitGate(CONTROL, Set(one, two)), IdentityOp()), \n",
    "            ExprTuple(MultiQubitGate(Z, Set(one, two)), IdentityOp()))).withStyles(spacing='@C=2em @R=3em'),\n",
    "    Circuit(\n",
    "        ExprArray(\n",
    "            ExprTuple(MultiQubitGate(Z, Set(one, two)), IdentityOp()), \n",
    "            ExprTuple(MultiQubitGate(CONTROL, Set(one, two)), IdentityOp()))).withStyles(spacing='@C=2em @R=3em')\n",
    ").latex()"
   ]
  },
  {
   "cell_type": "code",
   "execution_count": 13,
   "metadata": {},
   "outputs": [
    {
     "data": {
      "text/html": [
       "<strong id=\"ControlZ\">ControlZ:</strong> <a class=\"ProveItLink\" href=\"__pv_it/f0dd898badb23f4bc3a9be20d6a550be1360dadf0/expr.ipynb\"><img src=\"data:image/png;base64,iVBORw0KGgoAAAANSUhEUgAAAEYAAAAwBAMAAABeexFrAAAAMFBMVEX///+IiIiqqqqYmJi6urpU\n",
       "VFTu7u4yMjJ2dnbMzMzc3NxEREQQEBAiIiJmZmYAAAACMy5TAAAAAXRSTlMAQObYZgAAAAlwSFlz\n",
       "AAAOxAAADsQBlSsOGwAAALZJREFUOMtjYEADfHd2MRAC9///n0BACcf///8voAv+JwzQtbADxb6R\n",
       "YxcZbmbg+7OToN8ZPjCMqhkSagikLCwGfBhmas4fDw3/i18Ny2cGhtxj+NXwKTAw1CzAr4aVgYH7\n",
       "JwH3cDIwvHcg6C+Ozxj+QkQiVNReAD2GMcxh+kc4fPwDGLgIufk30P8E1KwpYGBwxq+G7W4CA8M1\n",
       "/GrYTzEwTN+AX83727tr/hsMx7SKXw0/rrwMAPyjvGnvjFLvAAAAAElFTkSuQmCC\n",
       "\" style=\"display:inline;vertical-align:middle;\" /></a><br>"
      ],
      "text/plain": [
       "ControlZ:  MultiQubitGate(CONTROL, {1, 2})  & --   \\\\ \n",
       "   MultiQubitGate(Z, {1, 2})  & --"
      ]
     },
     "execution_count": 13,
     "metadata": {},
     "output_type": "execute_result"
    }
   ],
   "source": [
    "ControlZ = Circuit(\n",
    "        ExprArray(\n",
    "            ExprTuple(MultiQubitGate(CONTROL, Set(one, two)), IdentityOp()), \n",
    "            ExprTuple(MultiQubitGate(Z, Set(one, two)), IdentityOp())))"
   ]
  },
  {
   "cell_type": "code",
   "execution_count": 14,
   "metadata": {},
   "outputs": [
    {
     "data": {
      "text/html": [
       "<strong id=\"Reversed\">Reversed:</strong> <a class=\"ProveItLink\" href=\"__pv_it/3b2628693516aad03a3b101481cab079191af26c0/expr.ipynb\"><img src=\"data:image/png;base64,iVBORw0KGgoAAAANSUhEUgAAAEYAAAAwBAMAAABeexFrAAAAMFBMVEX///+IiIh2dnbMzMxERETc\n",
       "3NyqqqpmZmbu7u6YmJi6uroiIiJUVFQyMjIQEBAAAADo4HZ1AAAAAXRSTlMAQObYZgAAAAlwSFlz\n",
       "AAAOxAAADsQBlSsOGwAAALJJREFUOMtjYICD/6iAARv4gIc39NW8f3vm7G/8arh+MjB0v8Cvhj2B\n",
       "geFeAH41PAwMLJ8JuIeZgaF+AUF/Mf3E8BciEqGi8wXQYxjDHLbvhMNn/QEGVkJu/gL0PwE1cRcY\n",
       "GFbiV8Oxu4GBYQd+NbxPGRhsHfCrqd/icu//hOGVVonJp3gNGFUzhNWw/3MlqGb///8GBJQwAVPO\n",
       "BgIpCxtA18ILFPtBjl1kuJmBfZ8zuhAAp/O8NbTJESgAAAAASUVORK5CYII=\n",
       "\" style=\"display:inline;vertical-align:middle;\" /></a><br>"
      ],
      "text/plain": [
       "Reversed:  MultiQubitGate(Z, {1, 2})  & --   \\\\ \n",
       "   MultiQubitGate(CONTROL, {1, 2})  & --"
      ]
     },
     "execution_count": 14,
     "metadata": {},
     "output_type": "execute_result"
    }
   ],
   "source": [
    "Reversed = Circuit(\n",
    "        ExprArray(\n",
    "            ExprTuple(MultiQubitGate(Z, Set(one, two)), IdentityOp()), \n",
    "            ExprTuple(MultiQubitGate(CONTROL, Set(one, two)), IdentityOp())))"
   ]
  },
  {
   "cell_type": "code",
   "execution_count": 15,
   "metadata": {},
   "outputs": [
    {
     "data": {
      "text/html": [
       "<a class=\"ProveItLink\" href=\"__pv_it/3225238dd083d8eaf51145a3668122ad79b2cc8a0/expr.ipynb\"><img src=\"data:image/png;base64,iVBORw0KGgoAAAANSUhEUgAAAKgAAAA6BAMAAADWyw/PAAAAMFBMVEX///+IiIiqqqqYmJi6urpU\n",
       "VFTu7u4yMjJ2dnbMzMzc3NxEREQQEBAiIiJmZmYAAAACMy5TAAAAAXRSTlMAQObYZgAAAAlwSFlz\n",
       "AAAOxAAADsQBlSsOGwAAAZBJREFUWMNjYCAf/EcBHxioAj7g4Y0aShiknlUAkgLUNfTi5BtAMoCq\n",
       "hjIaMKQHMHA+wGLM+eOh4X/JMpQViMMn+C7ANJTlMwND7jGyDOUDufb/ESwRxQcM65oFBAzlu7ML\n",
       "lxQbttgH+oH7J6Ewvf///wRSkhQnA8N7BwKGcgBz8QUs7r8LBlhjn+MzRuz/Jww+4ChGoOL2AtjF\n",
       "EYAdKPiNpBzF9I9gOsXhfTyG+gcwcJEXUbjDlPM3JMHhT1L3d5JUoKwpYGBwJphN+UkqpdjuJjAw\n",
       "XKOyoeynGBimb6Cyoe9v7675b0BlQ4ks+kYNHUhDSWihEG8oCTXeEDCUHzWMqGQoVRLBqKFD2VBY\n",
       "I46ahsIbcdQ0FN6Io6ah8EYc0Ya+/b2AkKHwRhyxhvL+//+TcOxDG3HEGtr///9ffCUtSiOOH1fR\n",
       "QkQzEcOlsEYcsS6tBxqSQMj7sEYcRd5HjyhYI46aEQVvxBGfpE5PIGAoohFHcq2C21BEI46KhiIa\n",
       "cVQ0lIJKddTQoW0omc0eTAAAoKlVohzmoY0AAAAASUVORK5CYII=\n",
       "\" style=\"display:inline;vertical-align:middle;\" /></a>"
      ],
      "text/plain": [
       " MultiQubitGate(CONTROL, {1, 2})  & --   \\\\ \n",
       "   MultiQubitGate(Z, {1, 2})  & -- equiv  MultiQubitGate(Z, {1, 2})  & --   \\\\ \n",
       "   MultiQubitGate(CONTROL, {1, 2})  & --"
      ]
     },
     "execution_count": 15,
     "metadata": {},
     "output_type": "execute_result"
    }
   ],
   "source": [
    "CircuitEquiv(\n",
    "    ControlZ,\n",
    "    Reversed\n",
    ")"
   ]
  },
  {
   "cell_type": "code",
   "execution_count": 16,
   "metadata": {},
   "outputs": [
    {
     "data": {
      "text/html": [
       "<a class=\"ProveItLink\" href=\"__pv_it/2d8668331214f38f0f023a47a7183e399ef93e740/expr.ipynb\"><img src=\"data:image/png;base64,iVBORw0KGgoAAAANSUhEUgAAAJAAAAA3BAMAAAARcd7dAAAAMFBMVEX///8QEBBUVFRERESYmJgi\n",
       "IiLu7u6qqqoyMjJmZmbMzMyIiIi6urp2dnbc3NwAAADV54WuAAAAAXRSTlMAQObYZgAAAAlwSFlz\n",
       "AAAOxAAADsQBlSsOGwAAAoZJREFUSMftlk1rE1EUhl+bONPMdJKAP8Bu3BSEIF2XrlzHldu46ErE\n",
       "bhWF7EQEDUjdKBL8BdlaUfQXdHZdeGkHuujChUXbFPxgPPfOd3ruZO4gxYUDM+EleZ65uZ8HQAB1\n",
       "OTC+ZkgRfTTGxqIZkqL3+TXsUR1RnqT4CBsB+nVEeVKg2YfXw24NUYEUaCzDnuKghqhACnRGWDrF\n",
       "YmAuKpACdykew/Y1v9+6FOhEBVLgqw/nJ3S9fTEMf+hEBTKKv4FX/M/3w/CkTJSS1EAfS+R9E33d\n",
       "Cedf4EjVZfYp8JB/7zMCB/rOzkgaxB6aU+Cp+V8rkDStumgN0e6Zd3aBpIl+E7fG8DZ1w/99rF0i\n",
       "eZLinXcr9GbtxDvSr7U8GW8GuFdHlCeTuFZbtFaI1rCuKCHj6K7XFSXkdrxhwlg0n6woMr7+i85B\n",
       "NLPF1fd1/lbDjETpSeOYiwpssoK5amSeqMBGwQVXjVQTxWwUPHDnYzVRzEbhNt27rKh95WQVjctP\n",
       "9KKYjcJ9ug/4Fnm/6PG+pEUxGwVZBZytRpRoUfIvSkQxK2C9ncB3h0w1okQdeWgta0Q5VsCzu9a6\n",
       "O2V6W4l2JrQr+xpRjhU4bPWbAbpMNaJE+zRHmh81ohwrMLgwoREccdWIjDfobqkvmGokx1KH7QQe\n",
       "rAlTjcgWWd/osaCdRxlLYQuH8AZMNSJF9jE9vmhFGUvhOa7jAZhqRIo8WYnsaUUZS+FT4MvePFuN\n",
       "KNFRMvqsKGMpOFdXP4CrRtRfo7FdCLSijJWz09nkqxE1/I/RXilZtCkrgzvgq5ForV17Wbb6U1bE\n",
       "GwFXjVTZRlJWRFsTW41UEaXsdrpdmu/ZZew/cBydiwgGR/Yf+qVpmPgbJKwAAAAASUVORK5CYII=\n",
       "\" style=\"display:inline;vertical-align:middle;\" /></a>"
      ],
      "text/plain": [
       " Input(|0〉)  & MultiQubitGate(CONTROL, {1, 2})  & Output(|0〉)   \\\\ \n",
       "   Input(|psi〉)  & MultiQubitGate(U, {1, 2})  & Output(|psi〉)"
      ]
     },
     "execution_count": 16,
     "metadata": {},
     "output_type": "execute_result"
    }
   ],
   "source": [
    "# Null control\n",
    "Circuit(\n",
    "    ExprArray(\n",
    "        ExprTuple(Input(ket0), \n",
    "                  MultiQubitGate(CONTROL, \n",
    "                                 Set(one, two)), \n",
    "                  Output(ket0)), \n",
    "        ExprTuple(Input(ket_psi), \n",
    "                  MultiQubitGate(U, Set(one, two)), \n",
    "                  Output(ket_psi))))"
   ]
  },
  {
   "cell_type": "code",
   "execution_count": 17,
   "metadata": {},
   "outputs": [
    {
     "data": {
      "text/html": [
       "<a class=\"ProveItLink\" href=\"__pv_it/5ec8b7dc33108a711cb4c50a7d9ed40f34c505f00/expr.ipynb\"><img src=\"data:image/png;base64,iVBORw0KGgoAAAANSUhEUgAAAMYAAABEBAMAAAAozVe9AAAAMFBMVEX///9UVFREREQiIiKYmJgQ\n",
       "EBAyMjJmZmaqqqru7u7MzMyIiIi6urp2dnbc3NwAAAC+adfGAAAAAXRSTlMAQObYZgAAAAlwSFlz\n",
       "AAAOxAAADsQBlSsOGwAAAr1JREFUWMPtmD9oE1Ecx79qTO6SXi8ugoM0iHMJOjmZ1amdBAVNloKT\n",
       "im4iNJsgCtGOLq2Dq8FFcBAHnZvR4cCrIHQstlIqYnzXe/cn3veF97ijoXAPLvSX7/X7ycv73bvL\n",
       "F5g23PHE0FJMh6us3CnnzYThR3/UC2VM2HpRcXK9SMaEbVg0AOt+8QxpGxaOONrFM6RtWLwSx1cV\n",
       "o3v9zNldymBKmiFtw+KpOL4rGHN7wNoNxqBKmiFtw2IkjqrPGbU+sOIzBlXSDGnrwX4/xKjRgzXi\n",
       "jBOiOX7T9aBKxEjZenCsZbvTOGCL7soOX/1EGVSJGClbD9u1dsXHMvBY1VfOnqqviBIxUrYeBqeH\n",
       "osdEG29kt7vwnaVhdh9UKhEjZSsWZ9N3YIuTnyvmYe2rrg+mxGue2IriIbbhDIC7CsZmE/OcwZSY\n",
       "kdiK4gGu4Rkw31Ks+U/RpXzNmRIzEltRfPFHFdEeTp8zfvSAz5RBlZiR2Iqifv7iR/H2KX6d25fF\n",
       "fK8wBldiRmIbXJD1wxk84YzqbeBNizG4klznsW1QNAZBscgZq5curIw7jMGVhBHbenILht0rem+P\n",
       "bb3wViJeOkUzYtsP8U2x0Pv5VNvj+uwz8+fEcpSjHOUox5GO/zbw8Y6Gku8WBexoKLNiTMsAcjC0\n",
       "M4AcDO0MIDdDIwPIzdDIAEKnd+NbWPt1hzCYYpoByE+70Ie1SOdBFNMMQDq9bWGLf1dEMc0ApFP1\n",
       "r93kDKKYZgDSqbL/QrHmRDHNAKLu6Z5T9VVWMc4A5D98C3/pY6yvaGcA0addaKvmkVVMMwDpVNv6\n",
       "o2AQxTQDkE6Pgt/6lEEU0wwgdHLWcdWnDKaYZgBudPrSiDKYYpoBHDq9FK3hHjAGVUwzgMDpdfcm\n",
       "5u7tNrMMrphmADn3dq0MICdDKwPIwdDOAI7Ts88RPCf+A4IyCKNbT0RSAAAAAElFTkSuQmCC\n",
       "\" style=\"display:inline;vertical-align:middle;\" /></a>"
      ],
      "text/plain": [
       " Input(|psi〉)  & Gate(Z)  & Gate(Z)  & Output(|psi〉)   \\\\ \n",
       "   Input(|psi〉)  & Gate(X)  & Gate(X)  & Output(|psi〉)"
      ]
     },
     "execution_count": 17,
     "metadata": {},
     "output_type": "execute_result"
    }
   ],
   "source": [
    "# Null Gates\n",
    "Circuit(\n",
    "    ExprArray(\n",
    "        ExprTuple(Input(ket_psi), Gate(Z), \n",
    "                  Gate(Z), Output(ket_psi)), \n",
    "        ExprTuple(Input(ket_psi), Gate(X), \n",
    "                  Gate(X), Output(ket_psi))))"
   ]
  },
  {
   "cell_type": "code",
   "execution_count": 18,
   "metadata": {},
   "outputs": [
    {
     "data": {
      "text/html": [
       "<a class=\"ProveItLink\" href=\"__pv_it/0b9668aafe2683ba67b56a8e7886872efc5e86350/expr.ipynb\"><img src=\"data:image/png;base64,iVBORw0KGgoAAAANSUhEUgAAAp8AAAC+CAMAAABEWZSAAAAAY1BMVEX///+Dg4NWVlYJCQmlpaUH\n",
       "BwcaGhpycnIoKCgkJCSysrIbGxvOzs6hoaGurq56enofHx8dHR1UVFREREQiIiKYmJgQEBAyMjJm\n",
       "Zmaqqqru7u7MzMyIiIi6urp2dnbc3NwAAAA+VefHAAAAAXRSTlMAQObYZgAAAAlwSFlzAAAOxAAA\n",
       "DsQBlSsOGwAACNpJREFUeNrt3GmXozYWgGFlmWQyc5LuIFYhpPv/f2VAwgu4OulOS7YR7/1gt00d\n",
       "Gq4e7VQpRRw25OuCRBH/ltD3nTzhTxHn9JnTDj4JfL42/ONXI6wK8Gl8ET7d9PCVBmgBPq+lWJBP\n",
       "G16HHleH9zlVqjyfLr7VuDq8z86X59PY9bsBWMl92kqkq4xqqja85/XZOFWez2EdsngNrAztp3Tx\n",
       "va2zt5/mT1OgT/fYORDJfI4S8+ulz+7z8ydVkk9jext92lDHB3dyVn3dap/Yp5PYFDQy5Pb5R6ty\n",
       "+EyWlW/16dQw35FpZp9imCGpOuw9jml9duu/tZjcPtvfc/hMl5Vv9OmHuWrMFXupG7Hm9dOZebq4\n",
       "N16n9Sn6YfiZyeenz5ufShv1833O9bm16/Azjo3G6sw+u7UoTEqfk9RViLvhZyaf///fV87yX5WV\n",
       "b54fTeKjz3WJaTcAFeLfxl2jHHtGezf8VMnOvjtVaT6X7t0veXOGCXye/v2j4We69vPOpPmtuv+Y\n",
       "zKd7Wf8++5zHRs2ctyGOO8++AJpjfnQdfnYquc9Ng1n95jdgE3cI4yt8Tq1fuvdmnRadfgOpryXN\n",
       "UzJyG37GkdNlFTShz213Pv7XbZvUdOtLUrda1Ct8zhMipxt76dXZgE9VqvI4/JzS+tw/g+9vW0fx\n",
       "kCTNyYt8zkJvbSYPMKX3WV+Hnyqpz4dfEXFNNlEv9Wlvw3bN9mZan6aaJ7/V3MFXWkTbhD4feJpu\n",
       "u/BSjE/3hVvEZ8bTSPKTV1OmO3l5+3n9yjbwPKrPUauyfNrHaSpP1x3Xp/eF+STK6t8VPvGJTwKf\n",
       "+CSy+yzp79vgszifea/xyX8fDJ/4fPeckBd84pPAJz7xiU8Cn/jEJ4FPfOKTwCc+8YlPAp/4xCeB\n",
       "T3zik8AnPvGJTwKf+KQsCHziE58EPvGJT3wS+MQnQTngE5/4JPCJT3zik8AnPgl84hOf+CTwiU98\n",
       "4pPAJz4JfOITn/gk8IlPfOKTwCc+CXziE5/4JPCJT3zik8AnPgl84hOf+CTwiU98khPygk98EvjE\n",
       "Jz7xSeATn/gk8IlPfBL4xCc+n3KNXxf4xOcbXyM+8YlPAp9n9em3H0d0FuDT+GJ8umnzUQO0AJ/X\n",
       "UizGp3O2Xyrd0B+QU8p56jozPrTPqVKF+eyGuVOoF6D18XQuiUtGajmRxLMe1mfnC/PZBJVOLy/D\n",
       "AftiUalEyfblkD4bpwrzqUOHMIiZ50v6aI3nNXGSqtRFvT/QL1+d+dOU5lPCqHOSYdM5HGeWIIlK\n",
       "I/HpXuPz8ydVmE9z8dksrag73kQ7ESjZ+ZQj+vyjVaX59BJMjmLVsWZI8oX39zjda3y2v5frM7z1\n",
       "Ez6P6/PXX1RxPk2EOcX2c6wONjvC51385+fyfK7zoyHMj/YDUCHeMr5YRgX61GFRqZGwMHGgCTzt\n",
       "p9pun5mf/GarohCfTZjz9d3yeqQFUHzuNs66Hz8e+Bzcp6qX/c02PFVwpA2k1OtLx/O57c7Hn8x2\n",
       "aF6KT+OsreJDL0fagN8vWKYq9Pfnue7B7i6x/2GXmlJ83uJYDzCde39zz9N0+US9i099pO1Ndern\n",
       "Qx6usJr+8UeO7nNbBY/ShEq6zcjEp3vC/P02+tRf81PH9mkbdTygaR8olkM8oPzBBXpfoE+7/YUO\n",
       "rY4Yok4X8uTEiOL3N/GJT3ziE5/4xCeBT3zi801vmb8Phk+ygE984pOSIQv4xCc+CXzik5IhC/jE\n",
       "Jz4pGbKAT3zik8AnPikZsoBPfOKTkiEL+MQnPgl84pOSIQv4xCc+KRmygE984pPAJz4pGbKAT3zi\n",
       "k5IhC/jEJz4JfOKTkiEL+MQnPikZAp/4xCeBT3xSMmQBn/jEJ0Hi8IlPfJJmfOKTkiEL+MQnPgl8\n",
       "4hOfZAGf+MQnJUMW8IlPfBL4xCclQxbwiU98UjJkAZ/4xCeBT3xSMmQBn/jEJyVDFvD5N7f1D4HP\n",
       "N07uM4ruves0Pt85uVJ+yvGJz+8Kv/044hOfT/bpH7+6MXTT5oAe8YnP5/rcEdwyXA86Z/vF8dDj\n",
       "E58v9GnD641hPNgNSpl6AVrjE58v9OniW7052ISPTi8vQ6YU2kqkq4xqqja84zNlcrVI65Y2Rtpu\n",
       "yOGznU9cVVUndVafxq7fDfcHdRUaVZnVeJ2tiku33mpN+5n8tisJJTpon6X9nKQJfOrWZPU5rAPP\n",
       "K8NwUPp4Dcstdj5TCkeJbbeXHp/Jb3uUpUR9lal/72N71rU+b//uLv+4MFwOmovPpY4MLlMKncTr\n",
       "aGRIC6uvRfuz+1SdeGWqXOPPeGItY67xp7G9jT5t6GYvDJeDPrZso1iVeoYk9wlc1w7EJPVZh922\n",
       "8ew+G+m3PJP6DOntZco2P3JqaGelcwtpo4/6A5/hrZ/ypFD0w/AzxV26uBtcn93nPIOpTNb5u4tj\n",
       "0Cw+/TB3g3MlW/rBVt0xjP27i/17aD/HXS38vrgbYddViLvh5/ee/Oyx42NVypLbn7/ZnD/hqQPB\n",
       "maVdh5/Rx8rwbn40rFNAl6WKu7ULtnfDzxS1sFtv2Jy9/az2fUja9nOQPtOUNM6Ppnn8HHyuS0wr\n",
       "w7i+pGMFMSr1BF7+dvhJ/57OT+8rmfL5nCS0Zz6bz6V790vT5cz9BD6uz4cuv+82K0+JU3gdfnaJ\n",
       "ayHzo1B447rElGl+tJ67z+dz/g+ameYQK9mFYTxYL/ubbSjjtBtIcqt/Vt1NwtKuL7X6jDw3i3dj\n",
       "qKk+k0+/tipTk69/b/3SvTdrH3BhGA8aZ20Vy7jOk8Lb8HPKM4o5tc9Yis2m7if0aeo6drq1yeZz\n",
       "nhA53dhLDau3B2/D4D5PCuvr8FPhM3Fyje4vk2qTxee6bTR2Ot/8aDn/8Mhw7zPxTky8DVPNs+xq\n",
       "7uArLaItPlMmd9SthKHZNCe5rjL47KXWWnet3C2A5vBpzSPDnU/T5VwC+dbDxEuTK88puStB9wHD\n",
       "nU/b4BOfL/JpP2BotzNfrfCJz+f6tI+LL7qUFOLz+D5LTiE+8YlPfBbrU07wR1KKTe5ri+4vY77d\n",
       "IkwEqCoAAAAASUVORK5CYII=\n",
       "\" style=\"display:inline;vertical-align:middle;\" /></a>"
      ],
      "text/plain": [
       " Input(|psi〉)  & --  & --  & MultiQubitGate(CONTROL, {1, 2})  & Gate(H)  & Gate(MES)  & MultiQubitGate(CLASSICAL\\_CONTROL, {1, 3})  & SPACE   \\\\ \n",
       "   Input(|0〉)  & --  & MultiQubitGate(X, {2, 3})  & MultiQubitGate(X, {1, 2})  & --  & MultiQubitGate(MES, {2, 3})  & SPACE  & SPACE   \\\\ \n",
       "   Input(|0〉)  & Gate(H)  & MultiQubitGate(CONTROL, {2, 3})  & --  & --  & MultiQubitGate(X, {2, 3})  & MultiQubitGate(Z, {1, 3})  & Output(|psi〉)"
      ]
     },
     "execution_count": 18,
     "metadata": {},
     "output_type": "execute_result"
    }
   ],
   "source": [
    "Circuit(ExprArray(ExprTuple(Input(ket_psi), IdentityOp(), IdentityOp(), MultiQubitGate(CONTROL, Set(one, two)), \n",
    "                            Gate(H), MES, MultiQubitGate(CLASSICAL_CONTROL, Set(one, three)), SPACE),\n",
    "                 ExprTuple(Input(ket0), IdentityOp(), MultiQubitGate(X, Set(two, three)).withStyles(representation='implicit'),\n",
    "                           MultiQubitGate(X, Set(one, two)).withStyles(representation='implicit'), \n",
    "                           IdentityOp(), MultiQubitGate(Literal('MES'), Set(two, three)), SPACE, SPACE),\n",
    "                 ExprTuple(Input(ket0), Gate(H), MultiQubitGate(CONTROL, Set(two, three)), IdentityOp(), IdentityOp(), \n",
    "                           MultiQubitGate(X, Set(two, three)), MultiQubitGate(Z, Set(one, three)), Output(ket_psi)))).withStyles(spacing='@C=3em @R=2.5em')"
   ]
  },
  {
   "cell_type": "code",
   "execution_count": 19,
   "metadata": {},
   "outputs": [
    {
     "data": {
      "text/html": [
       "<span style=\"font-size:20px;\"> <a class=\"ProveItLink\" href=\"_proofs_/single_time_equiv.ipynb\" style=\"text-decoration: none\">&#x22A2;&nbsp;</a><a class=\"ProveItLink\" href=\"__pv_it/aaf4b66372fd9bdd1837b106bb3c04e98f1fdae20/expr.ipynb\"><img src=\"data:image/png;base64,iVBORw0KGgoAAAANSUhEUgAACdUAAAJTCAMAAADTpZ3YAAAAS1BMVEX///+Dg4Pf3989PT1GRkZR\n",
       "UVGfn5+Tk5POzs6/v7+IiIgiIiIQEBB2dnbu7u5UVFTMzMzc3NwyMjK6urpmZmaYmJiqqqpEREQA\n",
       "AABlE6zmAAAAAXRSTlMAQObYZgAAAAlwSFlzAAAOxAAADsQBlSsOGwAAIABJREFUeNrt3YuWosoW\n",
       "YFFO386uKhQQBeX/v7TTZ6KpvAQEnWuMe6vqAPFwsyOWEGAQAABezXrzib1OF7HQAwCAdyJLPrPf\n",
       "USL2AADgjdguP/Wa1TIXfQAA8DbEn+s2myIVfwAA8C4k6w/u+078gU9kVRywCmOufOZqcKDJ4PbB\n",
       "yZEWW2cA0DJtfj1ntDgq0rwGvij/hhrMlIyPAw++8aw/ufe7hTMAaMmv54z2fpQnM7M6yy9mzOeu\n",
       "BgfqkqP46C+rqyJ0DgAtubsWN2d1GInYk27AA9YffrFqt3QOAC25+5wRq8NYJGufAfBgaPvwa1Vb\n",
       "K+uA9rPqjtXhhcGzHhJ4MDgXn746ofClD2jLveeMWB1GYm3UBu4TFx//ao+kWDkPgJbcec6I1WEc\n",
       "ti7VAQ/I3X/cFJHzAGgtRSGrw2tYe3UB8OgLd+Hx8MLzEkD7sWPJ6jCVbxQADsSF7zzfZusWLNCW\n",
       "388ZsTqMgtXgwCNydx+DIPQhAO359ZwRq8MYWA0OVHznsej0e3T3PBXQYfRYsTqMj9XgwEOWhc8g\n",
       "CAqfAtCaX88ZsTqMgdXgwCNSy+r2rF2xBDp8HVqyOoyO1eDAQ7bWJ+zJPFEFtOf2OSNWhxGwGhyo\n",
       "0BnpcRglEh8C0Jbb54xYHUbAanDgIWurTo/DuzfWAR0SZ83qMDZWgwMV6eFNbcF+nYZhAmjPTeKw\n",
       "OgyP1eBA1aDsWaLj52B8B1pz85wRq8PwWA0OVHzpcY3qwMJCDaA9N88ZsTqMcdJZDQ48/NLjUvaB\n",
       "dZH7EIC23DxnxOowxmhtNTjwgNCPKhxJfPsDuojRktVhXKwGBx4SWaBwJPNqE6A9N88ZsToMj9Xg\n",
       "wEMSMkNvgWdm2JTVYUysBgcesysyH8LR6tyKBtpz/ZwRq8PgWA0OPGbN6o6EBgqg0xCSszqMO1j7\n",
       "Cg48HpI9JHCajVgd0J7r54xYHQbHchngMQtWd56N/GQY0J7r54xYHUb4ImE1OPDY6kIfwp6tBbhA\n",
       "B64vnLA6DI7V4MBjll6+y+qAZ6xuzeowJlaDA48pWN2RDasDOnD9nBGrwwhWZ90Q8Njq/PTKaXz3\n",
       "YkugPTmrw7hYDQ485v/+768PYc//+d//fAhAB6tbsjqMa3VWgwOPcK3uMr67Vge053pFKqvD4FgN\n",
       "DrA6VgewOlb3HrMWqwNYHasDBmAzY6v7V1iAMstZ648PAWB1rA4YwozKmfMfq8Pws9b/8yEArI7V\n",
       "AazuOuvdgTVrAfKD1QG4lznW1cGsBcgPVgewOlYHsxYgP1gdwOpYnVkLkB/yg9UBrA5mLUB+sDpA\n",
       "5rA6mLUA+cHqAFbH6mDWAnrLD+9zPPCP1QGsDqwOkB9vNzcBYHUwawHyg9UBrI7VwawFyA9WB7A6\n",
       "VgezFiA/WB3A6poS55J+hmRfZBxgdawOGMKMvr5K/0rzeWU9PTBrAfKD1QG4lznuwMKsBcgPVgew\n",
       "OlYHsxYgP1gdwOpYnVkLkB/yg9UBrA5mLUB+sDpA5rA6mLUA+cHqAFbH6mDWAuQHqwNYHaszawG4\n",
       "4H2OJ67fugWA1YHVAfLjHeYmAKwOZi1AfrA6gNWxOpi1APnB6gBWNw7/ir8COMdZ648PAWB1rA4Y\n",
       "wozKmfOfa3UwawHyg9UBb5A57sDCrAXID1YHsDpWB7MWID9YHcDqWJ1ZC5Af8oPVAawOZi1AfrA6\n",
       "QOawOpi1APnB6gBWx+pg1gLkB6sDWB2rM2sBKOWH9zke+MfqAFYHVgfIj7ebmwCwOpi1APnB6gBW\n",
       "x+pg1gLkB6sDWB2rg1kLkB+sDmB1TYlzST9Dsi8yDrA6VgcMYUZfX6V/pfm8sp4emLUA+cHqANzL\n",
       "HHdgYdYC5AerA1gdq4NZC5AfrA5gdazOrAXID/nB6gBWB7MWID9YHSBzWB3MWoD8YHUAq2N1MGsB\n",
       "8oPVAayO1Zm1AFzwPscT12/dAsDqwOoA+fEOcxMAVgezFiA/WB3A6lgdzFqA/GB1AKsbh3/FXwGc\n",
       "46z1x4cAsDpWBwxhRuXM+c+1Opi1APnB6oA3yBx3YGHWAuQHqwNYHauDWQuQH6wOYHWszqwFyA/5\n",
       "weoAVgezFiA/WB0gc1gdzFqA/GB1AKtjdTBrAfKD1QGsjtWZtQCU8sP7HA/8Y3UAqwOrA+TH281N\n",
       "AFgdzFqA/GB1AKtjdTBrAfKD1QGsbhz8DuxMZy3rhgBWx+qAQczI78DCrAXID1YHvFvmuAMLsxYg\n",
       "P1gdwOpYHcxagPxgdQCrY3VmLUB+yA9WB7A6mLUA+cHqAJnD6mDWAuQHqwNYHauDWQuQH6wOYHWs\n",
       "zqwFQH6wOoDVsTqzFvBWZF+GtQPx15cPAWB1YHWA/HizuQkAq4NZC5AfrA5gdawOZi1AfrA6gNWN\n",
       "Q5xL+hli3RDA6lgdMIwZXa1ITfN5ZT09MGsB8oPVAbiXOe7AwqwFzCA/it54rrWDNYPVAawOrA74\n",
       "hPzob6guXnZwdVGsDmB1YHUAq2N1AKtjdWB1AKtjdQCrY3VgdQCrY3UAq2N1Zi0ArI7VAawOrA54\n",
       "m/z4w+r2/GN1AKsDqwM+ID8aD9XhYjUJq2vdDtfqAFYHVgewugvpYp32U9JzB3doB6sDWB1YHcDq\n",
       "LjK1THoTs6fkskM7WB3waVb3r/grgHOctf74EIAxrC5pIEZjWF2XdrA6oJsZlTPnP9fqMJFZC5Af\n",
       "z+rUYt2bmD11cJd2sDqgmxm5AwtWB7yj1TW48TmK1XVpB6sDWB1YHcDqWB3A6lgdWB3A6lgdwOpY\n",
       "HVgdwOpYHcDqWJ1ZCwCrY3UAqwOrAz7W6vJdUeySJFnvVtU2tc2yKAryTZVNxclycW5A2KoZ4bEZ\n",
       "u3WSBs+3g9UBrA6sDvg4q/uWpt3hj6RYVdnUbm9p8a6oKilYhKt8ER3/3vYCW7E+TSPb4Ol2sDqA\n",
       "1YHVATMn+2o0rJWH6rQ4XlXbFFmFTWXHjfm6yqbCfG9c68Nhq6xdM1anZgTZMni2HftWfH05GwBW\n",
       "B1YHvH1+lIfq/HSNLi/CCps67bQJq2zqtH+yXgWbRdquGeH5UuGmyJ9tR1B5rW7nIh7A6sDqgHe0\n",
       "uuT0j/XydkQsfmzqrFqrtMqmsouhFctNy2Zc7qmmRfRsO6qtbrVzngCsDqwOeEOrOy6ri5PF7bK6\n",
       "8kWztCiiVV1JJZpdDisfXOwu1SY9tKNqXV0eOVGA97O6OHcdfoY0XDcEsLpGOrUqdmEYJuv8107r\n",
       "8tq1sPjmzvOpfb3Z5LKs7rumqId23FpdtihRZM4U4L4ZXa1ITfN5GSk9eN9ZC5AfjXQqPA6E22V+\n",
       "/LJ7Vqh4t77SonT/7pHl9T63NnWlTknLZpwvwSXF5tl2BHXPwG7XhhHgvhm5AwtWB0wxP4oKLjvt\n",
       "To+cRnutWoXh4vjPzfLO++ayvXD97HPPpu41qUErfpbVBXtle74dNW82ideNFv4BrI7VgdUB086P\n",
       "0lB9XsV2egR2ezKldJ2VxvZTofGx9G0rq2vYjN1lGsn7aEe11aXryPAPsDqwOuCtrG51fhThcOOz\n",
       "bErR8uexhJP5pcfxfgCruyyri0/vRH62HZXr6hZrgz/A6sDqgDezutOyuu/xcH1jU0FyeR3w5vQf\n",
       "syiotKnu6+rOy+ri86MRT7UjqL5Wt/FqE4DVgdUBb2d166MybZanZxJKppRe3iiSHX8FLEqCWptq\n",
       "19qfZhQnbTs/nfpsOyqsLl07TwBWB1YHvJnVJeuiSL5Z77a/bSpYnhUrCzZJliT39unF6k7N2O2y\n",
       "y6D8bDsqrC5ZOU8AVgdWB0w/P/600anfXNlUUr9PX09L9N2OfxXX6pwmAKsDqwPeJT/e3+pq3mwC\n",
       "gNWB1QFvbXVptC6ysNqmrvcZxuqebwerA1gdWB3wyVZ3zTLpq6TnDu7SDlYHfJrV/Sv+CuAcZ60/\n",
       "PgSA1bE6YAgzKmfOf67VYSKzFiA/WB2AtmbkDixYHcDqWB3A6lgdWB3A6lgdwOpYnVkLwFBWt9j1\n",
       "VdJzB3dpB6sDWB1YHcDqzqzXfZX03MFd2sHqAFYHVgewujNRgzFyDKvr0g5WB7A6sDqA1Z2JF4u4\n",
       "n5KeO7hLO1gdwOrA6oCZ58eTvwN7rVO7ZT4Bq+vSjn+sDmB1YHXAB+RH46F6m6wmYHUd2uFaHcDq\n",
       "wOoAVjeMmA3aDFYHsDpWx+oAVsfqALA6sDqA1bE6gNVNgjiX9DMk+yLjAKtjdcAQZvT1VfpXms+p\n",
       "7a7VvfOsBcgPVgegrRm5AwtWB8zM6vrjudYO1g5WB7A6sDpAfpzLmkiXepibALA6sDqA1bE6gNWx\n",
       "OrA6gNWxOoDVsTqwOoDVsTqA1bE6sxYgP1id0wFgdWB1wGzp832Os7a667duAWB1YHXAB+eHa3UA\n",
       "q2N1YHUAq2N1AKtjdWB1AKtjdQCra8m/4q8AznHW+uNDAFgdqwOGMKNy5vznWh3mNGsB8oPVAXiQ\n",
       "Oe7AgtUBrI7VAayO1YHVAayO1QGsjtWZtQD5wepYHcDqwOoA+XEs4hev6clT7WB1AKsDqwM+3uoa\n",
       "/JcxehI81Q5WB7A6sDqA1bE6gNWxOrA64OX58fT7HN/D6v6xOoDVgdUBH54frtUBrI7VgdUBrI7V\n",
       "AayO1YHVAayO1QGsjtWZtQCwOlYHfLLVxbmknyHZFxkHWB2rA4Ywo6+v0r/SfF5GSg8+c9YC5Aer\n",
       "A1CXOe7AgtUBrI7VAayO1YHVAayO1QGsjtWZtQD5wepYHcDqwOoA+cHqAFbH6sDqAFbH6gBWx+rA\n",
       "6gBWx+oAVsfqzFoALvTwPsf3sLrrt24BYHVgdcDn5YdrdQCrY3VgdQCrY3UAq2N1YHXAtKwuLtZT\n",
       "sLqfZrA6gNVV8K/4K4BznLX++BCA4a0uWGRTsLqfZrA6YAQzKmfOf67VYQazFvAZ+VF047FgdWxS\n",
       "T81gdcAIZuQOLFgd8D75YV0dwOpYHVgdwOpYHcDqWB1YHcDqWB3A6lidWQsAq2N1AKsDqwPkB6sD\n",
       "wOrA6oD3tDrvqwNYHasDqwNemB9Pv8/xPd5X94/VAawOrA748PxwBxZgdawOrA5gdawOYHWsDqwO\n",
       "YHWsDmB1XfE7sDOdtfwOLMDqWB0wiBn5HVjMbdYC5AerA1CXOe7AgtUBrI7VAayO1YHVAayO1QGs\n",
       "jtWZtQD54S3ErA5gdWB1gPy4cqdZv4WY1QGsDqwOYHX1/2VMq+vWDlYHsDqwOoDVsTqA1bE6sDqA\n",
       "1bE6gNWxOrA64Gmyr6eHtfewuvjry9kAsDqwOuCj88O1OoDVsTqwOuAtrO43r+nJU+1gdQCrA6sD\n",
       "5Me5rIl0qYe5CcD7W12cS/oZ0sO6IYDVsToAd8zoakVqms/LSOnBh89agPxgdQAeZI47sGB1AKtj\n",
       "dQCrY3VgdQCrY3UAq2N1Zi1AfrA6VgewOrA6QH6wOoDVsTqwOoDVsTqA1bE6sDqA1bE6gNWxOrMW\n",
       "gFJ+/GF1e/6xOoDVgdUB8uMNrM61OoDVgdUB8oPVAayO1YHVAayO1QGs7hX8K/4K4BxnrT8+BIDV\n",
       "sTpgCDMqZ85/rtVhTrMW8HH5UQxD+3YO3A5WBzz/fcgdWLA6YNJWN0y1gx/QtlhWB7A6sDqA1bE6\n",
       "gNWxOrA6gNWxOoDVsTqwOoDVsTqA1bE6sxYAVsfqAFYHVgewOlYHgNWB1QFva3XhYjUJq2vdDlYH\n",
       "sDqwOmDm+bHpUafSxbrZKDmw1XVoB6sDWB1YHfDe+dFmkE6XySCS1louO7RjVRTOBoDVgdUB82XZ\n",
       "p9UljS93DWt1XdqxYXUAqwOrA+bMosj706nFehBJa31Al3awOuDTrC7OLbuYIdkXGQdGsbrGNz4H\n",
       "trou7WB1QCcz+voq/SvN52Wk9GCGuFYHPGbN6o5si6WzAehgRu7AgtUBE2FXhKzuOBuxOoDVgdUB\n",
       "s7a6iNXtCYuFswFgdWB1wHxJiozV7YmKtbMBYHVgdcB8yYqkqffku6LYJUmy3q0a2dQ2y6IoyDc9\n",
       "W114bMZunaRBj+3Iip2zAWB1YHXAfAnrZKY8SC+P+ybFqoFN7fYL9uJdUVtqS6v7/vv6NH9sg/7a\n",
       "UXvREgCrA6sDpsy27sZjaZBOT09WbB4JUNmmsuM++bp3q1udH/DIlkF/7ah9bAQAqwOrA6Y9rC0b\n",
       "61R+ukaXPxKgsk2d9t2EvVtdeL5UuHn0VpYu7VgbKABWB1YHzJm47uW7pc3J6e/r5YOhsLRG72xc\n",
       "q7R3q7vcTE0fPb/bpR3LR7eVAbA6sDpgJgmSNtWp47K6OFk88J/ytbO0KKJVo1JbW91lJeDmwZMe\n",
       "XdoRF4XfDgJYHVgdMGcWxaahTq2KXRiGyfrhj1Gsy2vXwuKbh4+pPmF1l2V131VEvbVj5SXEwKdZ\n",
       "3b/irwDO0er++BCARyQ1PxlWfk/vwY22y/sHxLv11dWudP8KkmX/VndZVvfd9E1v7ci9rg7oZkZl\n",
       "q/vPtToMb3Wu1QEPCUsPtBb3uGzdndQoursCbbO88zxC9uhCYFGZstXNuPz1rqt1bEdU9xsbAO6b\n",
       "kTuwYHXAdMa16otUP4P0eRXb/Udg03VWGttPSRc/yr4nrtVdltXld68ydmzHzjgBsDqwOmD2GdJM\n",
       "p1ZniTrc+MyzfBWGSRDmyfnKXbT8uYZ3EsB0P97f2fUJq7ssq4sPD2/01Y6FhyUAVgdWB8ycRfXA\n",
       "dhmkT8vqThf38s1+ed3+xXDh5UHU5HJHdLM4/plFD3btbnXnZXXx8ZmIntoRe1gCYHVgdcDciaof\n",
       "l7gM0uuj92yW+4cR0jjcC9P+ql12WZCWXkrKFof/GO3t6e6u3a1uXZx87bAcsK92bOt+DhcAqwOr\n",
       "A6bOplpoToN0si6K5Jv17pRPSfg9Ju5Fb/GTYMvzgxdZsEmyJHm8a1erOzVjt8vOo3E/7UgMEwCr\n",
       "A6sDZs9y2UCnfh+1CoJwt78wFlxWqS2Tprs+8xbiIdqxLJwHAKsDqwPmTlb5W1kPBul0/9/3F7/y\n",
       "XRBV29S9XXuzun7asXIDFmB1YHXA/NlUvqrtwSC92WvQ+ntITJMwrrape7v2ZnX9tCM0SgCsDqwO\n",
       "eAMqb8G2GaSXja949XcHtpd2rD0BC7A6sDrgDQirfgr2E6xu5YclAFYHVge8R5Ikn211iVcQAx9o\n",
       "dXEu82dI9kXGgUqiCqv5AKuLPSsBdDajr6/Sv9J8XkZKD2aIa3VA3bhccQfyA6wuNLQD3c3IHViw\n",
       "OmBShI8v1rUZpBe7aVhdy3ZcXloMgNWB1QFzZxn1oVPHn2Z9vdW1a0doVR3A6sDqgLdh+3B0azNI\n",
       "R43HyGGtrlU74iIXf4DVgdUBb0Oy60Gn4sWi4WWvYa2uVTuSnegDrA6sDngjFnkfOrVbNrvwNazV\n",
       "tWnHZun+K8DqwOqAtxqbH9hNy0F6m6wmYHUt2rHYiD3A6sDqgLdik/bjX4NI2kDNCIqY1AGsDqwO\n",
       "+JAEem+rE2CA1YHVAayO1QGs7pfV/Tx/tM2n3vaj1c2nxWB1AKtjdcB4VpddljWsJ34p7F/x9/Dn\n",
       "fFqMg9X98SEArI7VAUOYUdnq/vtOqdX5F/vSqb816Hytbj4tRtD4Wt3aomngbgINwkSaweqAh6RN\n",
       "3vt4Z13d+vQfoqnfKLusq5tNi9HY6rLEJwUAwIWowcR4x+ry0+K09dT7d7G62bQYTa1u602kAACU\n",
       "afA273vPwC4Xex7/uvTkrG42LUZDq4uXnnsBAKDMpv7VH/esLju8A3zX8GJJO5XqJl5RjdW1azEm\n",
       "b3WJy64AANxMjrWPD9yzujQ5/18TslYtyjr1I6uxuqoW96R6QxtjPNnCXmB1q8KjEgAAXJPWTqB3\n",
       "30K8v+gVHefVfBH+OmSR7TeGy+S3cf3evWrvimY1Oar0FuJSi28FZ7nq45PsqZhxym9R2GZXZFGU\n",
       "7TrU3vXQBla3dqkOAIBbdosuVrcNf548KAnCKkx2u83+Z5qD6PugLL5jXMtNm73vtKfFUSWrK7f4\n",
       "mqifd95GA786t9fy2xSWH86QcNmhmo6H1lvd1qU6AADuiE/Yweq+BSk/HZf+zNlZdhK87ffG7LDY\n",
       "LcqybPH9v8sknBZt9v5Nq6PKvxj20+JrNqtl2MPn2FMx45TfqrAkKwe+FR0Prbe69ULmAgDwi92y\n",
       "i9VF2/Mr4PIkz5ODaYWXpxK3q+0mDc+PMFzfgd0FaZg13TvIs3wVhsn33i3quGt1Py2+JgzWfbz4\n",
       "rKdixim/VWHLvWLFiy6PnHY8tNbqar+KAADwkWxrptD7Vpcuz1qwfxgx3P8jLv3a6iqI4u3mnnEl\n",
       "YbqNl2nDvYN8s3+Dxb6yFnXctbqfFt8ITpD1sEbrbjFZf4u/wj5Lqyjs939PizDPs6TLor6uh9Za\n",
       "XVJ4mBkAgHtz6LqD1QWXJfD7dXLZ3q02edm4vj0r3N0xrmX0vduq6d5pHO7vtRXt6rhrdcHdRfub\n",
       "1XndV1p67Una9hUo94vZZn3F6Kf8O+7UvbF3HP9Xkw9r4+LjvdSWVZUP7dPq4sIPvwEAcI+kWHWw\n",
       "uotT7PVgsZ+F8/XuwPZoXHF0fjqh/C65tDgtjGu097514XcT2tVRmv7zOgvJoig6XPlZbX5+Pq38\n",
       "92bcLSbIentR7qX8O/Hp3th72341+eRze7FuW1Xp0HYN/Kp+i2Je+OE3AADusSkqX/wbf32Vrex2\n",
       "1s93hycgvhVr9VPM3riCzfbO4qfv3TeLIG24d3B8wjZsV0fZSGteshwetePgmWVjaSlKD4pZp2ne\n",
       "ywKwn/LzbJvn2WYbrXpo7J3Cfjf5sDbu+yRZta+qdOi9dj+k7lrdzg1YAAAeTKLLajOqvFa3v5b2\n",
       "rWp72/q5PZcfrs6E1wvZ4ui4+2rRZO/T/odHZpvX0dLqTjd0jxJxx+riqPzHwz8fFVOk2+NCwIbl\n",
       "PNitXP5mb7jLTbCNbhtbU0jDws5NvuyeHqIfL7Kfqpo2u3zoVVVx9JTVxYUnYAEAeHTpY9Xd6tbp\n",
       "/jcb9m+OC9LzyrXNYn38ga7rgvaXbva7J/mqfu/T/pvkUkcYNzmqjdVlhwco4qxYb+9b3ep4tWm1\n",
       "TIP7f26rilkVSRw0K+fqz5vir8v/7n+8/v4MN7eNPe/9q5A2hV2afN49XBfR/kXC21JVNzU9avb1\n",
       "oeWqznt0tLq88HO+AADcJ6ycJWus7uoiSrRf8/Z4FdW21d63+zc9qrnVXXO65FW2uvtNqG7hTzFh\n",
       "lC7itFE5LYoPDte7lkH+q7Hb5wsrNXn7+DPqUNN1VcFTVpd4BTEAAA/dZ92P1dU5Sjzs/k9Z3Spc\n",
       "ZtvTwx+nv9c34ffmcjFZGkT59omu3Dkq3r/jZXN4QcxtY1u39U5hP02+V9q5qvY1XVdVV0CN1S0L\n",
       "OQsAwMNZdBSrywfe/ymruyhJmybkDYvp2JW8VWPzPgur3P3Zmur2qLa61LI6AAAesq66pdWf1Y3P\n",
       "01bXmXFevbGdbGFPfsuoasvW2+oAAHhIVvUDTB9mdZi61WUelgAA4CF5kbA6zMTq1t5BDABAhfws\n",
       "WR1mYnXLYuUjAgDgAXHV4xJvbnVhkkVRHD35uG0/pYxTfquyNrsi2790rotIdT622uoKvywBAEDV\n",
       "RJm+pdX9K/7WiMfh12WD3fKpavopZZzy25aVHx44TZddLnp2PbYo/jzemBZebAIAwGMWFQ/B/ruy\n",
       "uv/e6lrddnl6q272TC39lDJO+a3LSo47Zl2eO+16bOW1uq0XmwAAUMG6yCvM6G3vwKZne1g9s/6+\n",
       "n1LGKb99Weef/+pynbDrsZVWF1a+MxsAgE8nqXhZxBtbXdLLVZ+HpYRhMGj5/Zf1u8XpKfhZh0Z0\n",
       "PrbS6iKvqwMAoIKs4tUmb2x1y/JtyHQX3/17LQ9L2SS9dGJZfbO0e1t/87vF+cnIFknbqm6O7c3q\n",
       "kiKRsAAAPKTq+sc7W9350tS3RKw2i0s3y39vYEoPSgmivJdOlMu/08XObb13Hvxq8Wlp3OGDbFfV\n",
       "9bH9Wd2uyCQsAAAVVrf+RKtLTld98kMHy8rSRl8elrIOt1kP78srl59n2zzPNtto9Xxb75T1u8XL\n",
       "/LShdVXXx95reDerW7M6AAAqCCueK3xjq4uXh0d/w1Vw3+ri42rD0x+P/nxYSrEKwrxFOY82l8rf\n",
       "hLtvW9oE2+imrU3Lri7r3OLz7kF6+ADjXdj+Y7k+9rqyOHrG6vxgGAAAj8k/0+qCOMuiMIyDB1a3\n",
       "Oj7EuTq9cO33n9uqUlbfHrNOG5WTVhV/Vf5uFcTrIEg2N2097/yw7CZlXVp83j38VqgoCqO0w8dy\n",
       "c+xVZZfmdLC6BasDAKDS6pYfaXXXunC8EHXlZjXv/9hWlbK/6rUINk3KaVF8cLjctQzy27Zuny+r\n",
       "1OJtxUfUpa7rympKqLG6UMICAPB4Gq54X/+HWN0qXGbb/Q8h/Pz9+3OpXkf2e3O5lOS77uR4WWzb\n",
       "6Teu7hwVJ9/utdmXm960tXVT75T10+K7pXX/WG4qqyuh0uqWRS5hAQBgdQ0+ivI/avwhb1ZKbTmt\n",
       "i79TS95jWXW7P1tX3S6VVlewOgAAKtiwugc+1lWTx5HxiZb1LDVWt5WwAAA0NLf3sbo4jwV3fmRf\n",
       "FTL+f//31ycEAMBD/s///vfYjL6+Sv9KZ3X7q8O1Orwe1+oAAHjCft7zWl0Tq9tEYZiHqw6lVx+5\n",
       "2RVZlCVPv4ajr3LGKL6nwlgdAACsrr3VbcPDfh0KrzsyPLwDcP30LyH0Vc4YxfdTGKsDAIDVtbe6\n",
       "44v6uvxgfN2Rx59B3a2f7URf5YxRfD+FsToAAFhde6s7viejy/K7uiMPv5+wWa6e7URf5YxRfD+F\n",
       "sToAAFhde6sLi2LX7QmQmiPTIszDLHr6Idy+yhmj+J4KY3UAALC69lYXxNus2N9GTXdtZeR85H3y\n",
       "xf6n7Y8PDpTLbltPuZwyWT/3TB8V36mx1YU1bjGrAwCA1bW2uuPP1X93arVZtLOty5EPOCwx2x62\n",
       "l8tuXU+pnCvJ2vbzfEO5+N+fX8vGVhbWvMWsDgAAVte7GO1HAAAgAElEQVTW6jbboyzt/7+dwPwc\n",
       "mWfbPM822+h6NdlhiVl0fKTiquyWVlcq50qysn7eHFgq/l5H2jX2qs+/aNxiVgcAAKtra3XZ4Q5q\n",
       "kpYEJo7Kfzz88+fITfitdstNsI3K29PDp5Ysgk161+oaVvO4nHWa5uGvA2rKqyz+uiOlxnYp7I4i\n",
       "3rSY1QEAwOp6tLpVFEZRWrKtYHW44PT9Rxrc/3N7e+RuFcTrb5vZlLaHu2L/0MBqHYbBXatrWM3j\n",
       "cop0G+9+djwd+Li8tL74q46UGntTR6PC7ijiTYtZHQAArK4x/4oWvxl6MaYaa/i1eREc3GUZ5A8P\n",
       "P12fu6qnbTXXVrcqkmbltCj+qiNXje3Q1l+K2LzFRfGn40YAAD6efxVWd73tv7d7Bva8a7jMjrax\n",
       "rV5K9mtznARB+O0uSZg+OPxUdros19O2mhs7DKN0Eaf15bQo/qojV43t0tZfiti8xa7VAQDwhP18\n",
       "7ptNfpE/tblq+/bJasp2mKVBlG8btKdbL64b26GtvxWxeYtZHQAArK4PqxuO7cTKGa+SdoWxOgAA\n",
       "WN20rW6SwjXBFrM6AABY3WdY3bvD6gAAYHWsjtUBAMDqWF0ToiwMs3QqxYxVweDNZXUAALC6Ua1u\n",
       "s94XmC7TSRQzVgWDN5fVAQDA6sa1uu3i+Ge2m0IxY1UweHNZHQAArG5cq0uLVR+fQk/FjFXB4M1l\n",
       "dQAAsLqRrS5Zn/4SLYcp5vhjr1NpZ8PSemo0qwMAgNU9ptXvwNazzE5/WSff/5fufj6X8t+fKGaT\n",
       "DNDO37RqbW1pPTX6Stz+sDoAAPq3ug/5HdhGfhOWil1tFpfPpfz3J4oJorz/dt75VFq1tq60vhrd\n",
       "VNyyL2+rAQDgMfHXV0Pj++g7sLssCDbfH8bi6DFlN2rjSY+LWYfbPt4fclVBnm3zPNtso1W31taW\n",
       "1lOjm1qda3UAAFTbj3V1DUiXaR6Hq3UePLC6OApKfzz683ExxSoI8ztH1BR4u9tVBZtwFwTLTbCN\n",
       "urW2trRLo1kdAACsbiZWF6TJLkySOEgfWN1quT3+cdzh95/bymJW38Z0eDXcZc/TkY8LTK93295p\n",
       "524VxOsgSDYdW1tT2k+jWR0AAKxuLla3Z5MEcfnWaXylZjXGsa0sZn/JaxFsmhRUW/5PBYvgcGVt\n",
       "GeTdW1tRWrnRrA4AAFY3H6tLi+QgRatwmW339yd//v4tPNUL1kqb7xWTfLc2CeMGBdWXf6kgTr7N\n",
       "a7MvOO3e2orSSo1mdQAAsLoZWV2wXlxdmLpyjJr1ZXnDYmoLalD+bQXPtbZBaawOAABWNy+rG8Zs\n",
       "RlKV7YRLY3UAALC6V1odWB0AAKyO1YHVAQDA6lgdqwMAAKwOrA4AAFY3F+I8Ftz5UflTr0XxxycE\n",
       "AMBD/lVY3fVvxKb5nPrlWt0sca0OAIAn7McdWLA6AABYHasDqwMAgNWxOrA6AABYHatjdQAAgNWB\n",
       "1QEAwOpYHVgdAACsjtWB1QEAwOpYHasDAACsDqwOAABWx+rA6gAAYHXj8q/4K7hztLo/HTcCAPDx\n",
       "VP0O7PW2/1yrw/BW51odAACd7ccdWLA6AABYHasDqwMAgNWxOrA6AABYHatjdQAAgNWB1QEAwOpY\n",
       "HVgdAACsjtWB1QEAwOpYHasDAACsDqwOAABWx+rA6gAAYHWsDqwOAABW15Y4jwV3fmRfaceNAAB8\n",
       "PPHXV8NtaT4vW2UAM8S1OgAAnrAfd2DB6gAAYHWsDqwOAABWx+rA6gAAYHWsjtUBAABWB1YHAACr\n",
       "Y3VgdQAAsDpWB1YHAACrY3WsDgAAsDqwOgAAWB2rA6sDAIDVjcu/4q/gztHq/nTcCADAx/Ovwuqu\n",
       "t/3nWh2GtzrX6gAA6Gw/7sCC1QEAwOpYHVgdAACsjtWB1QEAwOpYHasDAACsDqwOAABWx+rA6gAA\n",
       "YHWsDqwOAABWx+pYHQAAYHVgdQAAsDpWB1YHAACrY3VgdQAAsLq2xHksuPMj+0o7bizL3yhM1oun\n",
       "0v9ZViXkg30AHx2kCYWokJjvnpjx19djM7raluau1WEG1+pGyvGpTh+TqaeYYVUiPlhN0vLN0lJi\n",
       "TjYx3YEFqzOUsDoRZ3XSUmKyOlYHVmf6YHWsTlqyOonJ6lgdWJ3pw+TB6gSJ1Yk5q2N1rM70wepM\n",
       "HqxOkFidxGR1YHWGElYn4qxOWkpMVsfq8HZWFy5WHzyUtO59nyN6XeUDTR6fHfEOIX+F1QnS60Sr\n",
       "tnKJOdHEZHVgdUG6WKfj5OwUh5IOve9vRK+vfJDJ47Mj3ink41udIKWvSssmlUvMiSYmqwOrS5fJ\n",
       "uFPcpIaSLr3vbURvUPkQk8dnR7xbyEe3OkF6WVo2qlxiTjQxWR1YXVLEo+TsNIeSLr3vbURvUPkQ\n",
       "k8dnR7xbyEe3OkF6ndU1qVxiTjQxWR1Y3WI98hQ3qaGkS+97G9EbVD7E5PHZEe8W8tGtTpBeZ3VN\n",
       "KpeYE03Md7W6f8VfjjRHq/vTceNTyTTMLci5DCUD3Y0r+qp8iMnjsyPeLeSjW50gvc7qmlQuMSea\n",
       "mP8qrO5623+u1WF4q3vJtTpWx+pMHqyO1bG6d0hMd2DB6kYdSoomsLp3mjwGDTmrEyRWJzFZHVjd\n",
       "y6zu9aWzupEnj4lFnNXNIC1ZnZizOlbH6u4mU7oeIpdmMpTUd57VsbpXWN1Hp+VQecnqWB2rw/tb\n",
       "3bpok0vhrih2yW63277FUFLf+U69bzWi54dCk2S9W1UPY9ssi6Ig3zw1ecThvq48SKPGo2cafdf7\n",
       "fcj8ra5R57t1/1cT42S5OJ8mobTsu/cDdb+4LTTZrZO05gzpIzGbnZpX9TY8MecQ8zETk9Xh3a1u\n",
       "W7SaPr4L2B3PoOQNpo8Gne/U+5Yj+vJQaJAUq6rKd3s3iHfFU1WFy3A/am2jRd60z9H60KxkPXur\n",
       "a9b5bt3/1cRFuMoXp0kqkZZ9936g7l/tUaxPc/u2svI+ErPhqVmut+mJOYOYj5qYrA7vbnVZUnsu\n",
       "XOXSqjheeNhVHzaP6aNB5zv1vt2Inp4K3RRZReXZcWO+fqKqeLc4jVlZZQdK1cbr3fk/ZvO2uqad\n",
       "79b92yaG+eHoQ0mrTFr23fuBul/cKTTIllWV95CYjU/Nn3qbn5iTj/m4icnq8O5WF6VRUfdzyVfj\n",
       "Z3jaff0G00eTznfqfbvpIz8VmhdhReWnnTbhE1Wtl+cha7Ns2Of14vy3pJi31TXtfLfu3zbxVESy\n",
       "XgWbRSot++79QN0v7hT6/XUrr6i8h8RsfGr+1Nv8xJx8zMdNTFaHN7e6NPweu2oXiZXHz9OKl1Wx\n",
       "m/dQ0rTznXrfbvo4D0vrZfq48vPMskq7VxX99Lb68tFPtdnP9Foz007d6hp3vlv3b5uYXdSgWG6k\n",
       "Ze+9H6j75T0u91TTInpceQ+J2fzUvNTb4sScesxHTkxWhze3umy/hqVmven1N9XjuJkukmDWQ0nT\n",
       "znfrfbvp47isLk4Wq4rK06KIVs9VlRaX77dBvGrU57Q0TWbFZsZW17jzHbv/uImxtOy/90N1v/hV\n",
       "6KGu5HHlzydm81PzUm+bE3PiMR8/MVkd3tnqNtv9uVD93FGwXl8l1i4Ms122GjrZhy+9Uee79b7V\n",
       "9LHaFxom67y68nD/ys87j+O1uSQQNvuUfqrNSifVUDf3xrG6xp3v2P0+32zy0Wk5ZF62srrLsrrv\n",
       "1IsqKn86MZufmpd625yYE4/5+InJ6vDOVpcdvvYcv4jG5eW+P/+Id+tyCkT7MydOdnHVMT0ke1xc\n",
       "GnD+289/6megetj5fHEZZ5r3vnRQy+kjPCbjdpnfFHpTebp/1cKywyd93mNxc6uiQcQXPwNFfKh7\n",
       "gIg3CvnTEa/sfDl4zbt/HfLbC06LEsm7pOWd0PSdlkPmZbvHUi9nTLK/GvTws386MRvmZbneFnk5\n",
       "9ZiPnZjva3VxHgeYHdlX2mxjw194CXdZliWnlwKE4c+V8J9/bJbX36TWx/Wsxy+vD46pa0GjX6BZ\n",
       "XJZYXP7285+eLr2q80FwWQjVvPelgxo28LLvbnmemlZXhd5WfvyOuunwSZ9bWBqw4mYRLzUz39/+\n",
       "GCTiTUL+dOlVnf/eeplZmne/fFTDWXz+aXknNP2m5aB52aolP68q2XvD48/+6cRslpdX9bbIyz4T\n",
       "c4iYj5+Y8dfXYzO62pbmc9ID1+pcq9u/+vH4X075sC3nxfkf6Tq7+gJw/A4dnxea3D2mv6/tT+1U\n",
       "fWBF59PLXi16nxYtZ/ibQi+PwF4Kvap8e/5ium3/Sf98K/4pbtUs4ovLHvFyPVDEx7kDW9n59OfZ\n",
       "uxbdT5f9NFFaNuv983nZ6lrdZelWflzOdf+z7yExm+XlVb0t8nLqMR8/Md2Bxfta3en71mJZORVE\n",
       "5S8+p/Wq2/Ob1eY7fVR0Pt8FaZi17H35oFbTx+q8BDg5rvotFVqqPDnPUXF3qyu9DSpqGPHD47n7\n",
       "hU5BdnpAd65WV9n5PMnzZNW2+1dH9Wd1H52Ww+Zlu+Wu4dkbdhWffQ+J2TQvS/W2yMupx3z8xGR1\n",
       "eFur25xs4vzrPI/GhaT0zSc7nvOHFa6rOU8fVZ1PwnQbn98y0rT3Vwe1mT5Oy+q+c/L3l85L5ZvT\n",
       "f8yiDp/0z9Nm53sYUdww4qvvkyrcxGGQn7s2V6ur7Pz+/fRh0rb710f1ta7uo9Ny4Lxst9z16AXx\n",
       "eY3+3c++j8RsnJc/9bbIy+k/AztuYrI6vK/VXS5Tn9/H/mhcSC/Pk8er0yKI/c3CzWbG00dl55dR\n",
       "fpwd2vT+6qB2byA9Tg/L9e9B7VJ5dvztqSjp8klf9ji9L2J7Gj4bRDwIl2m4f31+EgfztrrKzu/X\n",
       "XmVR2+5fH9XTtbqPTsuh87LVG7uLk7ZlVZ99L4nZNC9L9TbPy8nHfPTEZHV4T6uLd0Vx0Ijt/i9R\n",
       "5bhw+UmWaM8hsbJdmA8zx48xlFR3Pi2y8isSmvX+5qDGI3qyLorkm/Xlh8mvPtJz5VmwSbIk2Xb6\n",
       "pEuLCbNdkmSboG4mKP0IzyrZRdFhxflq3lZX0fmDSyy2Lbt/e1QfVvfRaTl8XjbPlVNe7nZZWvnZ\n",
       "95OYTfOydGY2zssZLHEeOTFZHd71Wt0vHk8fSftjZvKDk/fanu/291XSdr2/OajopSUPK+9qdV0j\n",
       "vlfOMJ651VUGb7+qftWu+7dH9fe+Omk5UF4Wz3ShyWffT2JWWF3SOi9nPhQPkJisDh9mdXHUfvqI\n",
       "uywqmeJQcuhIEgarRRC16/3NQXOyugYR3yXBdjdUxF9qdefg7aeCqF33b48a1Oo+NC17zstZWd2d\n",
       "8P2yugZ5OfOheIDEZHX4EKtLo3WR7VcbL7c//6gZPyuOmddQctWR9XduJPmqXe9vDiqebUlV5W0/\n",
       "6eLpiGdFcVw7PkTEX2J1v4KXJlHcrvu3Rw1idR+dlr3n5RNW1+Sz7ycxK8J3W2+TvJz7UNx/YrI6\n",
       "fMy1ust3pdv/sEzaHzO7iwKPOtKp989dFGhXeTFAp2+rXS2X28Ei/qJrdY+D16n7g12rk5b95WVf\n",
       "admk8h4qq+10oxPzfYbinhKT1eHTrG4btx/Cfh8z06Hkd0c69X5eVvfiiL/W6u4Er1vIB7a6j07L\n",
       "vvJyXlbXpdOdxqK5DMU9JSarw6dZXd4hl/Iek73tLwz1OpTkQS+9n5fVvTjiwdQi3i3kA1vdR6dl\n",
       "X3k5L6vr0uk8eJeYD5eY72p1/4q/HGmOVven48ancrzJENbrFDdYUWP1fmZ3YKcW8VefPZ1CPvQd\n",
       "WGk5RvcndQdWYg6SmP8qrO5623+u1WF4qxtjXZ3pg9WZPFgdq2N1b5mY7sCC1S12nzx9dOl9byN6\n",
       "g8qHmDxeHPFXnz2dQj661X12Wg7U/aK/yiXmRBOT1YHVnX8I8TOnjy69721Eb1D5EJPHiyP+6rOn\n",
       "U8hHt7rPTsuBul/0V7nEnGhisjqwuqjD2fI+00eX3vc2ojeofIjJ48URf/XZ0ynko1vdZ6flQN0v\n",
       "+qtcYk40MVkdWF28WMSfO3106X1vI3qDyoeYPF4c8VefPZ1CPrrVfXZaDtT9or/KJeZEE5PVgdUF\n",
       "8W6Zf/D00b73PU4ftZUPMXm8OOIvP3u6hHx0q/vwtBym+0V/lUvMiSYmqwOr+2abrD53+mjf+z5H\n",
       "9LrKi2E6/cqIT+DsaR/y8a3u09NyiO4X/VUuMSeamKwOrG6e6f/K3g81or+4qg+aPMauSVq+WVpK\n",
       "zMkmJqsDqzN9sDqTB6uTlhKT1bE6sDrTB6tjddKS1UlMVsfqwOpMHyYPVictWZ3EZHWsjtWZPlid\n",
       "yYPVSUtWJzHf3+riPA4wO7KvtOPGsvyNw0RHpcl0f5ZVjRTxXiePopjDKS8t3y0tJeZUEzP++nps\n",
       "Rlfb0jyYEa7Vfey1ukl/q5pi9a+sv/jQz/yDQz6bVn5yjIpAYs63fndgweqMJKxOyFmdGLE6Vsfq\n",
       "wOqMJKxOyFkdq5OYrI7VgdWxOpMHq2N1rE5isjpWx+qMJKxOyFmdGLE6QWd1YHVGElYn5KxOjFgd\n",
       "q2N1YHVGElYn5KyO1UlMVsfqwOpMH6yO1bE6VicxWR2rY3VGElYn5KxOjFidoLM6sDojCasTclYn\n",
       "RqyO1bE6sDojCasTclbH6iQmqxubf8VfjjRHq/vTcaORhNUJOasTI1b38UH/V2F119v+c60Ow1ud\n",
       "a3WszuTB6lgdqxP0zvbjDixYnZGE1Qk5qxMjVsfqWB1Y3a+GDg2r+7SQszppyerePuasjtWxumlO\n",
       "8XNTElY39X6wOmnJ6t4/5qyO1bE6VsfqWB2rk5asjtWxOny81Q11QX0mQ8nwtxPG/uBf1+eZWN3r\n",
       "PnhpOYMYTavqT7K6frvP6vC5VjfUuDyT6eNl39CLl10cmGvIi2DmIZ/A2SEtp5uXQ/V6NlbXa8Gs\n",
       "DqyO1bE6VsfqWB2rY3WsDqyuj1LCxYrVfZTVvSLirE5asro+Q87qWB1Y3T3SxTodtAJWN7GQvybi\n",
       "rE5asro+Q87qWB1Y3b2hZJkMftWB1U0p5C+KOKuTlqyuz5CzujHxO7Aztbo/H2h1yeMcZHVvGfIX\n",
       "RZzVSUtW12fI52d1fgcWo1tdhbhlXz3HdCpWt1i/ZChhdS8L+YsizuqkJavrM+TTTMz466uh8bkD\n",
       "i9da3dteq3vRZX9W97KQv8eNnje3uo9LS1bXOuTuwLI6sDrTB6tjdayO1bE6VsfqWB2rY3WsjtVJ\n",
       "S1bH6lgdWB2rY3WsjtVJS1bH6lgdWN0T5aZr0werY3VTs7qavGR1rI7VsTqwujulrIvGY0m4K4pd\n",
       "stvttqxurlYXh7skSfIgjRrOHmmURdH3AaxuXKuryctykBrlJaubttXVJ2brvGR1rA6faHXbornV\n",
       "fR+8O56/Caubp9WFy3A/bG6jRd4s4tH68BtFyZrVjWp1dXl5PcU3yEtWN2mra5CYrfOS1bE6fKLV\n",
       "ZUnNyVgeS1ZFePhzV3UMq5tsyOPd4jRoZhURLEU8Xu/O/zFjdWNaXV1eXk3xTfKS1U3Y6holZuu8\n",
       "ZHWsDh9odVEaFavGVhee9l2zulla3Xp5HjM3y0YRXy/Of0sKVjei1dXm5ZXVNclLVjdhq2uUmK3z\n",
       "ktWxOnye1aXh94xQ3fDyXZ3TWp9VsRt8KGF1/X+W0U+oV1mTiGc/ZlElGayu73Lr8/LqZmuTvGR1\n",
       "07W6ZonZOi9ZHavD51ldtl/AU7nidlPefJw10kXScvRldVMIeVpcvuEH8apBxNOSJWTFhtWNZnW1\n",
       "eXmVlo3yktVN1uqaJWb7vGR1YxLncYDZUflTr0XxZ5iRJC7Wg43Lm+0+kU4PXcXl3l3GlvW6PK7s\n",
       "wjDbZauqA/pt5k/vRx/Cx6964JBHp9VXP+NQTcSz0jeV4829+0cU0+7+LM6Oq0Lq87Kcls3ysph7\n",
       "jF6Xl0MNRj/X0JskZvu8nGZi/quwuuvfiE3zOemBa3Wz5EXX6hbZYFaXHb74nb7hR+WhZXEcGuLd\n",
       "upSB0f68jZNd/PiA3pt56f34X8xHr3rgkC9ub9bURXzxM07FxfJxyItpd38WZ8ftJfTKvLxOy2Z5\n",
       "Wcw9Rq/Ly6EGo0uxDRKzS15OMzHdgcUcra7ohTtV9FxuuMuyLKlYjLNZXn2JXB9X8hZRzcc06e53\n",
       "qDl4Wc29lrssjZhxk4iXGpRX3Q8crvs95++Uz46geV7epGWzvJx9Wk5qSOi12AaJ2Skvp5mYrA6u\n",
       "1fU8x5Uepz8OFKVFHbek66ycgMerB3GRtGz4lLrfpeY3WVe3+Cltu2oS8cXlzIiX3lc37NlRKqQ2\n",
       "L2/SslleWlc3uV7/XKurTcxOeWldHavDh1nd6XL64vBNfxOW3oYUZufORMufYea0XHdbZBUHsLrJ\n",
       "hrz0KqyoUcQPb03Yr/EKsmVaEXJW12u5DfKynJYN85LVTdbqGiVmh7xkdawOn2V1m9O1++NrEaL4\n",
       "J5+yYHv5Cpj8vD8pO+5xWNu7engAq5tqyNPLouwobhTx1fc5HW7iMMgPk8fDI1hdn+U2ystSWjbM\n",
       "S1Y3Watrlpjt85LVsTp8lNWl50Hi8EL6NN7+XNaPg+iyLDg9L9yIV6flH/n3GLTZPDyA1U025KeX\n",
       "ZWwPc0d9xPc/Y5R+zzdZlhwC//AIVtdjuc3y8idITfOS1U3W6polZvu8ZHWsDh9kdfGuKA4PVW33\n",
       "f9lf99+VV2Cvf9bgnn+SJtpz+M/ZLswrDmB1U7W6IM52SZKdX3BVF/H9SJXsomi5P2BVcQSr663c\n",
       "xnl5CVLTvGR107W6ZonZOi9ZHavDJK1uyPfVlYiL8vsvSyfoMml5gPfVzSPkjSO++z6zDz89/ugI\n",
       "76sbLC0ffuaP0nLgIHlf3fAxbxry2rycZmKyOny81Q35vroS2/V+pW58fDnCqrRq59H08fAA76ub\n",
       "R8gbR3yXBNtd1RHeVzec1T36zB9a3bBB8r664WPeNOS1eel9dawO07S6ocblmy+ISZjuh4RDL0rP\n",
       "VD2+VvfoAHdg5xHyxhHPiuL4mtRHR7gDO5zVPfrMH1+rGzRI7sAOH/OmIa/NS3dgWR0+2eouXxT3\n",
       "/1damvF4+nh0AKubV8hrI75aLreVR7C6wdPy12del5YDBYnVjRfzupDX5iWrG5N/xV+ONEer+9Nx\n",
       "44ym+DhYb8oX8eumj98HsLpZhbx1xH8fweqGn+FvP/MXBYnVjRbz50M+zcSs+h3Y623/uVaH4a3u\n",
       "/a/VfX/Ry8KrN9fXjCW/D2B1swp564j/PoLVDW51vz7zFwWJ1Y0W8+dD7lodqwOru0PtrZ6xmsnq\n",
       "Rgr5iyLO6qQlq+sz5KyO1YHVmT5YHatjdayO1bE6Vsfq3tTqFjtW91lW96KIszppyer6DDmrY3WY\n",
       "pNWN9Bbih6zXr5w+vIV4/JC/KOLeQjyftPQW4jnkpbcQszpM0upGegvxQ6K2J6u3EM885C+KuLcQ\n",
       "zygtvYV4BnnpLcSsDtO0uqHG5YbEi0X8yumj7yGqS/s/6w7siyLuDqy0nGZeTuQObOuQuwPL6sDq\n",
       "7g4mu2XO6j7I6l4UcVYnLVldnyFndawOrO4+22TF6j7I6l4TcVYnLVldnyFndawOrG46FbC6+YSc\n",
       "1UlLVve2MWd1rI7VsTpWx+pYnbRkdayO1YHV/RT4m0+aPobp/Qs/+Nf1eS5W97qYS8vpx2haVX+U\n",
       "1fXa/Xe1ujiPA8yO7CvtuHFKuT+XoWT0awETqnpmH2ERvE3IX9ZKaTmHuj875v2UF399NdyW5sGM\n",
       "cK1ulox7rY7VsTpWx+qkJat7q8R0Bxasru/heHBY3aeFnNVJS1b39jFndayO1b3FHPfqzGJ1Qv4B\n",
       "VidGn2d1nxl0VgdWZyRhdULO6sSI1bE6VgdWZyRhdULO6lidxGR1rA6sjtWZPFgdq2N1EpPVsTpW\n",
       "ZyRhdULO6sSI1Qk6qwOrM5KwOiFndWLE6lgdqwOrM5KwOiFndaxOYrI6VgdWZ/pgdayO1bE6icnq\n",
       "WB2rM5KwOiFndWLE6gT9k6zuX/GXI83R6v503GgkYXVCzurEiNV9fND/VVjd9bb/XKvD8FbnWh2r\n",
       "M3mwOlbH6gS9s/24AwtWZyRhdULO6sSI1bE6VgdWZyRhdULO6lidxGR1rA6sjtWZPFgdq2N1EpPV\n",
       "sTpWd7PD+Ewmk4vXMGJLptJpIZ9+M6czwU8nRu9Ql8Rs0n9Wh/exupl+tZrQHNRHrcXsqxLyPmv9\n",
       "6LR8TZCK4LV5KTFf2n9WB1ZnJGF1Qs7qWB2rY3WsDqzOSMLqWJ20ZHUSk9WxOrA6VsfqWB2rY3US\n",
       "k9WxOlZn+mB1Qs7qWB2rk5isDqzOSMLqhJzVsTpWx+pYHd7O6sLF6oNHko6970e1GlZeTCPiQj5m\n",
       "M2eflq8JUi+m9UReSsyXJua7Wh1mSbrquvG5ZEoX63Smg0APhXTufR+q1bjyYhoRF/LxmvkGafma\n",
       "IPVgWk/lpcR8bWKuKqbK1SqYK67VzZKi2HTc+FQypctktl/tehhHO/e+B9VqXnkxjYgL+WjNfIe0\n",
       "fE2Qnjet5/JSYr40Md2BxaSs7iV3YJPHSfABI0n33vegWs0rL6YRcSEfrZnvkJavCdLzpvVcXkrM\n",
       "lybmquJ3Nq63sToMzrJK3JaDWd1i/ckjSffe96BazSsvphFxIR+tme+Qlq8J0vOm9VxeSsyXJuam\n",
       "wuo2rA7jsijyjhufSqbPvur/xEX/51WreeXFNCIu5KM18x3S8jVBet60nstLifnSxGR1YHWsjtUJ\n",
       "OatjdayO1bE69Mq6StzW72F1RSNY3RtZ3TARZ3UzSEtWN+HELN40MbfF8uFe19tYHQZnV4QdN85o\n",
       "+hhohGJ107W6F55JrO6lacnqpmx1wXsmZl5hdTmrw9hWF3XceC+Z0vXguTRhqxuh96yO1bU/4KPS\n",
       "snvvWR2r61hrWCwe7nW9jdVhcJIi67jxXjKtiw65FO6KYpfsdrvtzK1uhN7XqlZ+KC5J1rtVk2Fs\n",
       "m2VRFOSbblYXh/uq8iCN2o6eafRdb5LP2ura9EqFxEoAAAwuSURBVP6Z7j9vdR+Vlt17/0xe1pjW\n",
       "sbRkt07SZmdIVWIWwWCJOfCJOUrMW+VlT4kZFY+/OlxvY3UYnKxIOm68k3/bosv08V3M7ngGJcOn\n",
       "/IAj1Bi9b6Bay93JyFf1le/2d9jjXdGtqnAZ7t/1tI0Wecs+R+tD45J1ELwu5E8W26r3z3T/aav7\n",
       "rLTs3vtn8rLWtE5Te/7wZVFXlVcmZhEMlZhDn5hjxLxdXvaUmNnxZHkwi+5YHcYkrDgdqzfeyb8s\n",
       "aXoSXOXS6rR8b9fk6Ola3Ri9r1et9FTc5tF11lLl2XGXfN2lqni3iM/DVtqqz/H6fFots7laXcve\n",
       "P9P9p63us9Kye++fycs60zqXFmTLBpVXJ2YRDJOYw5+Yw8e8bV72lJhVd7Wut7E6DM624tJx9cbf\n",
       "+RelUdHwJ++uxs/wdNR61lY3Su/rrS4/FZc/etKlVPlp103Ypar18vxS9s2yXZ/Xi58Bb65W17L3\n",
       "z3T/Wav7sLTs3vtn8rLO6s6lfX/byusrr07MIhgmMYc/MYePedu87Ckxq54rvN7G6jBC2JYdN/7K\n",
       "vzT8Hruarg4rj5+nhS+ruiuDk7a6cXpfb3XnAWm9TOsqP08wq7RDVdFPZ1dZqz5nP7Nsswl3glbX\n",
       "tvfPdP9Jq/u0tOze+2fyss7qLjdT00dPoJUqr0nMIhgkMUc4MQePeeu87Ckx1xXn2PU2VofBiatW\n",
       "ncR1S1KuNmf7i3vNFppef2E9jpvpIhk45Qcdocbpfb3VHZfVxcliVVt5WhTRqmNVaenBrnjVps9p\n",
       "aZrMis0sra5t75/q/pNW92lp2bn3T+VlndVdor55sE6vXHlNYhbBEIk5xok5dMxb52Vfibms0MDr\n",
       "bawOw1NUxa2oCWr5DN1s9ydBo+eOgvX6KrF2YZjtslUwbMoPOkKN1Ptaq1vtiwuTdd6k8nD/ys/H\n",
       "T+UVlV+Kw1Yf1k+1Wemr6xN3t15qdW17/1T3n7O6j0vLzr1/Ki9rrO6yrO4756L6yqsTswiGSMwx\n",
       "TsyhY946L3tKzLgo4opLIzGrw6gsqr6WLGq+sxTX34q/v+88/mYbX9b+xrt1+TyP9mdOnOziBoc+\n",
       "k/LxZZXg5W8//+nZEaqu9/ki7Nr7n0MbWF14TMPt8r7W3VSe7t+4sOxidYsG9yjuR3zxM1DED+su\n",
       "R3yokD8hDE16Xwpb6+7Xh/x90vJOaJ5Ky1a9fxCk9nlZ92aTywmT3B1SbyqvTswiGCIx2+flE2Pm\n",
       "QDFvmZe9JWbVUqWbbawOw5NU3Z8obaz7bZdwl2VZ8ngRyioMT1fHN8vrL1Tr41n/+Bv1z6FB09+c\n",
       "udvKxWWlxeVvP/+pe7FNeh8Ey03H3v8c+ridP5t3y/OkdG98u638+B31kblXVbUsfQGNW0W8KL+R\n",
       "PW8Q8aFC/kSxDXr/vdMq6Nj90rF1s9wbpOWd0DyVlkWXtHw2L2ta8vOOkrvz/728fJyYxSCJ2T4v\n",
       "g8nFvF1e9peYecVjhTfbWB2GJ6x603BY8xri0uP0x/yoeMV2sD1tS9fZVcYdv0rHVe+F2i76uCjw\n",
       "/E6PjqjvfXpZ99K692nR9AJa8LP49/4jsFeVb89fTLedrtX9lLNqFfHF5UOKl+smEZ/gHdgmvU+X\n",
       "dz/1Rt1Pl0819KPTslXvf3LrybysuVZ3Ecv7wnBdeV1iFsEQidk+L6d3B7ZdXvaXmFGF/N9sY3UY\n",
       "I27rjhuv8u9kf4vDWZ9n+fe3uiQI82R1b0CIyt94TutVt0eBrDt0mlZX3/t8F6Rh1qn3pUNrrW51\n",
       "njQON3ruFFeqPDlPTvGDiquqKr0NKmoX8cNDuvv1TkF2eEy3NuITtLomvc+T/PLPtt0vH/uU1X1g\n",
       "WrbqfTm3nsrLaqu7LKuLDw8zVedlbWIWwRCJ2T4vp2d1bfOyr8TcVTwCe7ON1WEEiqLrxtJpvTnJ\n",
       "xPF1APlmv6xr/yagMLk7ICSlrzzZ8ar5YaHrqv7QKVpdg94nYbqNTy8badn78qF1VndaVnfS8XvF\n",
       "XSrfnD7TLHrU5upnYM/XAqO4XcRX36NcuInDID/2qfbQST4DW9/7/QvqL/9s2f2rY5+wuk9My1a9\n",
       "v8qtZ/Ky2urOy+ri4+L8yrysT8wiGCIx2+flFJ+BbZmXPSXm4vHDErfbWB1GYFEVuEV1VC9DyfLy\n",
       "xeR7/zQ+rL7YXy3KorsDQnq5DxGvTmsh9rcMN5v6QydodU16v4zy/fTQpfflQ+tfDXycGJb7VcB3\n",
       "i7tUni0O/y3aj1H3K66s6vS+iO1h+GwT8SBcpuH+9fnJoef1h07xfXUNer8s/7Nl96+O7W51H5mW\n",
       "rXp/lVvP5GW11Z3efbc5rh2rzsv6xCyCQRKzdV5O8H11bfOyn8SMKx6WuN3G6jACUdXjElH1u56O\n",
       "Z2i8K4rDs0Tb/V+iw9fY7xNifzYvtvcHhMtPskR7DnVkuzBvcOjkrK5R79MiK70joVXvrw+tVK1k\n",
       "XRTJN+vzT5Lf+zDPlWfBJsmSpGLPml8My3ZJkm2Cx8ffj/j3fskuig5LzVeNDp3kL4bV9T69/mer\n",
       "7t8c29HqPjQt2/T+JreeyMsq0zql5W6XpUF9XtYnZhEMk5ht83KSvxjWMi97ScxtxerL222sDiOw\n",
       "qVoPvan+betHZ+h+tUK4OywoXt0fSh4WW3fodH8HtqoL+W5/YyXt0vvrQ2vfQlz7Yd6v/N6exZAR\n",
       "34vn4We46w+dotU1CVv5n626f3NsMWAz3y8tWwapnFtP5GURDJOX93Ythox5i7ycotW1zcteEjOp\n",
       "WFZ3u43VYQyWy64bHyXT4emw/Ved7yz4/pYcR82nj9pDp29197rw/c/VIoi69P760FaqdVNcReV3\n",
       "9yyGjPguCba7ZodO3uoehK38Ybbq/s2xxYDNfL+0bBmkcm49kZdFMEhe3t21GDLmLfJy8lbXILd6\n",
       "ScxlRYtvt7E6jEFW9erGyo2P8m+zz5T1fjFLsv/as1p+f11Jo3WRhbXjZ+2h07e6e13Y/zPJV116\n",
       "f31oK6u7Ka6i8rt7FkNGPCuK46lVf+jkre5R2NIkirt0/+bYYsBmvl9atg1SKbeeyMsiGCQv7+5a\n",
       "DBnzFnk5eatrkFt9JOaq4obWr22sDmOwqXrTZuXGxvn36wL1Mgk6HjqDO7AD9r7lHdi7Xx6TZzrY\n",
       "W8RXy+W24aHTvwNbH7Ynut/fHdiPSMseg9Ti2CJ4bV72FvNBT8xXx3wbDJGYYcUN2F/bWB1Gofst\n",
       "2KbJFHcewn4dOj+r67P3c7G6Xvs8O6u7E7a+Qz5MM98hLV8TpLlYXfeY93Fivjjmd7rQR2KuK6bI\n",
       "X9tYHUYhrPq118qNDc/QvHsu5X2kfMuf/+rZ6vrs/Vysrtc+zy7keTB4yIdp5qhp+VZBmovVdY95\n",
       "Hyfmi2OeB0Mk5qridtbvbawO41D5oGvVxs5naPMhrLcq+//UgvF7P5s7sH32WcjHauY7pOVrgjSb\n",
       "O7ASs+/ETCpeQfx7G6vDOEQV52XlRlbH6kwerI7VsbpPTcyqnwq+s43VYRziqkciqjZ2PkMXu08e\n",
       "Sbr3vgfVal55MY2IC/lozXyHtHxNkJ43refyUmK+KjHDCvG5s43VYSTCqot1FRs7n6HH30P81JGk\n",
       "e+97UK3mlRfTiLiQj9bMd0jL1wTpedN6Li8l5qsSs/TjFL+4s43VYSyWUaeNnc/QqPPZ8g4jSfRE\n",
       "rjytWs0rL6YRcSEfrZnvkJavCdLzpvVcXkrMFyVm1QWRe9tYHcZiWxW9xxs7n6HxYhF/7kjSvfc9\n",
       "qFbzyotpRFzIR2vmO6Tla4L0vGk9l5cS8zWJGVf8UPrdbawOo5Hsumx8Ipl2y/xjR5Luve9DtRpX\n",
       "Xkwj4kI+4hw3/7R8TZB6MK2n8lJiviYxq+bNu9tYHcZjkXfY+MwZuk1WHzuSdO59P6rVsPJiGhEX\n",
       "8jGbOfu0fE2QejGtJ/JSYr4kMTfLxxf67m+bm9UdSALMklXF+flwYzGz/H2DlhTjtaSYSKeFfPrN\n",
       "fBer67XSYv51SczKWhcVr+j/tW3R9R3LryPOD2z40UzZpO03sjpWJ+SsjtWxuk9MzLhCd35vOxpS\n",
       "HgBThtWxOiFndayO1UlMgNUZSVidkLM6VsfqWB3A6owkrM7kIS1ZncRkdUBvp/UL+Oze3+///Kua\n",
       "R8iL6YRcWn5sWhaCPtPEPPL/AfRwUt6esMIfAAAAAElFTkSuQmCC\n",
       "\" style=\"display:inline;vertical-align:middle;\" /></a></span>"
      ],
      "text/plain": [
       "|- forall_{h in NaturalsPos, k in NaturalsPos, m in NaturalsPos} [forall_{A_{1, 1}, ..A_{1, _b}.., A_{1, k}, ....A_{_a, 1}, ..A_{_a, _b}.., A_{_a, k}...., A_{m, 1}, ..A_{m, _b}.., A_{m, k}, B_{1}, ..B_{_a}.., B_{m}, C_{1, 1}, ..C_{1, _b}.., C_{1, h}, ....C_{_a, 1}, ..C_{_a, _b}.., C_{_a, h}...., C_{m, 1}, ..C_{m, _b}.., C_{m, h}, D_{1}, ..D_{_a}.., D_{m}, S_{1}, ..S_{_a}.., S_{m}, R_{1, 1}, ..R_{1, _b}.., R_{1, k}, ....R_{_a, 1}, ..R_{_a, _b}.., R_{_a, k}...., R_{m, 1}, ..R_{m, _b}.., R_{m, k}, Q_{1, 1}, ..Q_{1, _b}.., Q_{1, h}, ....Q_{_a, 1}, ..Q_{_a, _b}.., Q_{_a, h}...., Q_{m, 1}, ..Q_{m, _b}.., Q_{m, h}} (( MultiQubitGate(B_{1}, S_{1})   \\\\ \n",
       "   \\colon   \\\\ \n",
       "   MultiQubitGate(B_{i}, S_{i})   \\\\ \n",
       "   \\colon   \\\\ \n",
       "   MultiQubitGate(B_{m}, S_{m}) equiv  MultiQubitGate(D_{1}, S_{1})   \\\\ \n",
       "   \\colon   \\\\ \n",
       "   MultiQubitGate(D_{i}, S_{i})   \\\\ \n",
       "   \\colon   \\\\ \n",
       "   MultiQubitGate(D_{m}, S_{m})) =>  \\\\ ( MultiQubitGate(A_{1, 1}, R_{1, 1})  & ..MultiQubitGate(A_{1, j}, R_{1, j})..  & MultiQubitGate(A_{1, k}, R_{1, k})  & MultiQubitGate(B_{1}, S_{1})  & MultiQubitGate(C_{1, 1}, Q_{1, 1})  & ..MultiQubitGate(C_{1, j}, Q_{1, j})..  & MultiQubitGate(C_{1, h}, Q_{1, h})   \\\\ \n",
       "   \\colon  & \\colon  & \\colon  & \\colon  & \\colon  & \\colon  & \\colon   \\\\ \n",
       "   MultiQubitGate(A_{i, 1}, R_{i, 1})  & ..MultiQubitGate(A_{i, j}, R_{i, j})..  & MultiQubitGate(A_{i, k}, R_{i, k})  & MultiQubitGate(B_{i}, S_{i})  & MultiQubitGate(C_{i, 1}, Q_{i, 1})  & ..MultiQubitGate(C_{i, j}, Q_{i, j})..  & MultiQubitGate(C_{i, h}, Q_{i, h})   \\\\ \n",
       "   \\colon  & \\colon  & \\colon  & \\colon  & \\colon  & \\colon  & \\colon   \\\\ \n",
       "   MultiQubitGate(A_{m, 1}, R_{m, 1})  & ..MultiQubitGate(A_{m, j}, R_{m, j})..  & MultiQubitGate(A_{m, k}, R_{m, k})  & MultiQubitGate(B_{m}, S_{m})  & MultiQubitGate(C_{m, 1}, Q_{m, 1})  & ..MultiQubitGate(C_{m, j}, Q_{m, j})..  & MultiQubitGate(C_{m, h}, Q_{m, h}) equiv  MultiQubitGate(A_{1, 1}, R_{1, 1})  & ..MultiQubitGate(A_{1, j}, R_{1, j})..  & MultiQubitGate(A_{1, k}, R_{1, k})  & MultiQubitGate(D_{1}, S_{1})  & MultiQubitGate(C_{1, 1}, Q_{1, 1})  & ..MultiQubitGate(C_{1, j}, Q_{1, j})..  & MultiQubitGate(C_{1, h}, Q_{1, h})   \\\\ \n",
       "   \\colon  & \\colon  & \\colon  & \\colon  & \\colon  & \\colon  & \\colon   \\\\ \n",
       "   MultiQubitGate(A_{i, 1}, R_{i, 1})  & ..MultiQubitGate(A_{i, j}, R_{i, j})..  & MultiQubitGate(A_{i, k}, R_{i, k})  & MultiQubitGate(D_{i}, S_{i})  & MultiQubitGate(C_{i, 1}, Q_{i, 1})  & ..MultiQubitGate(C_{i, j}, Q_{i, j})..  & MultiQubitGate(C_{i, h}, Q_{i, h})   \\\\ \n",
       "   \\colon  & \\colon  & \\colon  & \\colon  & \\colon  & \\colon  & \\colon   \\\\ \n",
       "   MultiQubitGate(A_{m, 1}, R_{m, 1})  & ..MultiQubitGate(A_{m, j}, R_{m, j})..  & MultiQubitGate(A_{m, k}, R_{m, k})  & MultiQubitGate(D_{m}, S_{m})  & MultiQubitGate(C_{m, 1}, Q_{m, 1})  & ..MultiQubitGate(C_{m, j}, Q_{m, j})..  & MultiQubitGate(C_{m, h}, Q_{m, h})))]"
      ]
     },
     "execution_count": 19,
     "metadata": {},
     "output_type": "execute_result"
    }
   ],
   "source": [
    "single_time_equiv"
   ]
  },
  {
   "cell_type": "code",
   "execution_count": 20,
   "metadata": {},
   "outputs": [
    {
     "data": {
      "text/html": [
       "<span style=\"font-size:20px;\"> <a class=\"ProveItLink\" href=\"__pv_it/ea25409ddb308443f909ca8fdf771f3e2265b82f0/proof.ipynb\" style=\"text-decoration: none\">&#x22A2;&nbsp;</a><a class=\"ProveItLink\" href=\"__pv_it/cc53f9d7e167a87876c306c98e7bc4d603186b630/expr.ipynb\"><img src=\"data:image/png;base64,iVBORw0KGgoAAAANSUhEUgAAAVwAAAA3BAMAAACyfO8yAAAAMFBMVEX///9UVFQiIiKIiIjMzMx2\n",
       "dnYQEBDc3NyYmJhEREQyMjLu7u5mZma6urqqqqoAAACMi3WHAAAAAXRSTlMAQObYZgAAAAlwSFlz\n",
       "AAAOxAAADsQBlSsOGwAABMtJREFUaN7tmM9rG1cQx0fW2pK1u94VLYHYUDkpbWhSsNxDIafqFJJe\n",
       "7ENvodiEloKLkXIJpJcof4EFhSZuC7YPDfQSyb7Fl+jQ0kOgET2VXqxroaWy7PinZHX2p3Z3RtKm\n",
       "0m4jyAPZLPvV24/ezsyb9wX476PlHh1Uii9VCKPW5cqB2+Uq8DFR6RN3PlTcv/pd3Rth0orr/eLG\n",
       "0yHijuf7jt0rIeLe6Z5qm7eq+DfdFXc2RNyfKW52KTlZN6/evv4O/lUZXEulwNNSeLhNgisfAWx9\n",
       "aVxF87CtglCmuLZKgYQjnr4LllY4JbgSvv5HOeMqgv8mM7/lKK6tUkAqtO8FXCai0wQXEcf3zStJ\n",
       "k7SWmVSzVQpEF9v34sFW4cg6wRUAnleciSdylcFWKSDrb0i6qI9GsHWswFSG0SPrymTgUs1SKSDs\n",
       "OzfJx0HiJlQGdyXtp+6aKgVirnTdXg4Qd6Ts7MMMwIkGV4W9PZilUkB04sZ+yIW8ujsqxHqvrqXC\n",
       "1d13xO7lXMjBIBwbFaF77NoqjN3D9j25EGxloKl2B4vF7z1X11ZZlcEYXwVcdxe9uOJF3FOv9MJt\n",
       "qxSIO+Z4M1hcmexqiS8APi70wm2rcFdzxEouWFxY9uI+f2/1USvfC7etcvcM/0NH9rL9bpgd2bX+\n",
       "ce+H2O9Gqn3jXnp9VgvuJHx3uHyGmwOE8RhEDovIc6fGqtt9T7c5veZTp+8r/Mx/d7aElN7WUQ38\n",
       "mUqddZ1ekneqmn70mCgPC65+stuGYcHVi8rDocHVmqTY4uBxOTNnELiz2DTPDx6XM3MGgYvthlIh\n",
       "k8y2Nkr3sxslijt2sJEsTtOHRdcO5sWZpapxhzVzDF3qZCp+7mSKwXV6V85HXm19DlsHj/U72MzN\n",
       "lehvPsHPLW51d/IgvltiHhY5A/gzZ+pYM8fQKbiJj00zq+v0rtwwqSpMPDB0UgE+oK9IeIEh3eBw\n",
       "fzU6bYqLZ7GYaulYM8fQzWHo3SszMzi9KzfuXAFumzo8zExS3FE8WsfPOFwkWsuwkVfMbboDTmQr\n",
       "wwKG3kqVmcHpXblxE4eiaurwMLNKcRP4lfFTDjcDUpNPlJVnqp9CVsTPWomZgXhXtiTe2LR0wj5s\n",
       "UFylYAYYUxkW8jzu2G7J1rHnd0N3TLOCeleeR2anLF2sCe+7egkjoS4kk6myp8swf+qet/uwHrbH\n",
       "Vh+PTq4nk8kGP4PpStEuaCFt4YpNbnUXMDw/qrKr+0+5Q9WM1P3saqMYntEzdgbqXVmS1LS9umww\n",
       "2AFGcOVd47BNcX9JVXzgclnR0bsyJdLtph27h3Ce4moBtsTualhUgCtDIGXmCj5iV8+KdQ7X6V25\n",
       "cX/SbtmV4UOCK+8ZpZfixvBHyHkO9xMYOfSxujtpo/TSGRjvyqyqGZjJmbr4IuyQXU0PsCaHu4Ut\n",
       "0QhXhkYrEH/hA1fPigqDy3lXhuRTTMJ5UyepMEZ6hhEtwGocLm47wo/cw77XUrrUG3dGywouWTnv\n",
       "Spc8wdhTTk0d9gykI9ss7qYja8dpiivVV7/NHtGHCd8cZOCP1oVeuOJk6w043/qaweW8K01yI/sZ\n",
       "yMW6andkQgD9blDtuWYAvTU8uJeG76w2PCfhu8PlM9zsbhC9crFLxsCsoYBm/hec3AQKPsZnVAAA\n",
       "AABJRU5ErkJggg==\n",
       "\" style=\"display:inline;vertical-align:middle;\" /></a></span>"
      ],
      "text/plain": [
       "|- ( Gate(Z) equiv  Gate(Z)) =>  \\\\ ( Gate(H)  & Gate(Z)  & Gate(X) equiv  Gate(H)  & Gate(Z)  & Gate(X))"
      ]
     },
     "execution_count": 20,
     "metadata": {},
     "output_type": "execute_result"
    }
   ],
   "source": [
    "# 3 by 1 array, subbing Gate(z) - UNFLATTENED\n",
    "single_time_equiv.instantiate({h: one, k: one, m: one,  \n",
    "                              A: ExprTuple(H), \n",
    "                              B: ExprTuple(Z), \n",
    "                              C: ExprTuple(X), \n",
    "                              D: ExprTuple(Z), \n",
    "                              S: ExprTuple(Set(one)), \n",
    "                              R: ExprTuple(Set(one)),\n",
    "                              Q: ExprTuple(Set(one)),\n",
    "                             }, \n",
    "                             \n",
    "                             assumptions=[CircuitEquiv(Circuit(ExprArray(ExprTuple(Gate(Z)))), \n",
    "                                                       Circuit(ExprArray(ExprTuple(Gate(Z))))),\n",
    "                                         ])"
   ]
  },
  {
   "cell_type": "code",
   "execution_count": 21,
   "metadata": {},
   "outputs": [
    {
     "data": {
      "text/html": [
       "<span style=\"font-size:20px;\"> <a class=\"ProveItLink\" href=\"_proofs_/time_equiv.ipynb\" style=\"text-decoration: none\">&#x22A2;&nbsp;</a><a class=\"ProveItLink\" href=\"__pv_it/f31eef1eab3ac83db1fc1dbc484054487ba2a1e50/expr.ipynb\"><img src=\"data:image/png;base64,iVBORw0KGgoAAAANSUhEUgAADP8AAAJfCAMAAACNT2L4AAAAS1BMVEX///+Dg4Pf3989PT1GRkZR\n",
       "UVGfn5+Tk5POzs6/v7+IiIgiIiIQEBB2dnbu7u5UVFTMzMzc3NwyMjK6urpmZmaYmJiqqqpEREQA\n",
       "AABlE6zmAAAAAXRSTlMAQObYZgAAAAlwSFlzAAAOxAAADsQBlSsOGwAAIABJREFUeNrt3YmWqkgX\n",
       "YGGq/75ddVFBFJT3f9JO5yEVmSe/vVbVzUwljIhjHM+WKQgAABiKzdYcAIUki8gkAAAAzII0NgfA\n",
       "B1aWCQAAwCzYLX2xDXxkmZkDAACA6RMp64ASbPPEJAAAAEyeeGMOgDJLZW8OAJRhnR9x1CwGxvnd\n",
       "wLssbXEAZUjynUkAqq6bX5cOWZzcYOafrKvsBx+vGBbndwPvvhuw+wcox35hDoCq/Lp0yEEMsnju\n",
       "/uNwWQyP87uBd4vD7h+gdEkTmgSgKi/PMc34D9Axzu8G3rHxjTZQlv3SHABVeXnpEP4DdI3zu4G3\n",
       "OdoX2kBZds4AAmpUYXv+AwzwLnSAD/DmYyl3bChQmty3aUBlXl06hP8AHeP8buANUe6KvkB54nxt\n",
       "EoCqvLh0CP8BusX53cA7MofzABXY5iuTAFS3gZD/AP3i/G7gHXuHvwFVyF0BAajxWbPkP0DP70Hn\n",
       "dwOviXLfDgCVyjgHwAHV+X3pEP4DdIrzu4F3ZA7mASoRWjNADX5dOoT/AF3i/G6g4NsBJ8cB1aoa\n",
       "F9QB6nzarPkP0B/O7wbesszNAVCJ3KIBqvPr0iH8B+gS53cD70ic/gNUZGOnKVCD50uH8B+gQ5zf\n",
       "Dbxl5+hQoCKpS+oANXi+dAj/ATrE+d1AQSVneQBVP1RikwBU5vnSIfwH6BDndwNv2Tg7Dqhc1rgD\n",
       "EFBn5Wz4D9AXzu8GCpaHW5kA1YhcAAGow9PK4T9Adzi/Gyj6OHJ1EKDyslHXANV5unQI/wG6w/nd\n",
       "QMHXA77IBqqycFQ1UIOnS4fwH6DL5eb8buDt1wN2jwJV2eSZSQAq83TpEP4DdPlB5fxu4A2hO9kD\n",
       "lYl9rQbUMoIl/wH6wfndwFtWDg8FKpO6ADZQg6dLh/AfoDuc3w28JVbHAZXxvQFQsyJL+A/QB87v\n",
       "Bt6zz1OTAFT2H8eNAjV4vHQI/wE6w/ndwHs2/AeoTOhzBaj3kZPxH6Cfzynf0wHvP4ycxw1UJeM/\n",
       "QB0eLx3Cf4DOcJw28J4F/wFq+M/SJADVebx0CP8BOsP53UCR/4QmAajIznmlQB0ev5LmP0BnOL8b\n",
       "eM/SfRwB/gP05T8b/gP0gfO7gffk/AeozJb/AHV4vHQI/wE69B/nNwDv/WdnEoDKdY37ygE1yPgP\n",
       "0A/O7wbe83//959JACryf/73P5MA1PGfJf8B+vEf53cD77D/B6hT19j/A9Tg8dQ5/gN0hvO7Af4D\n",
       "8B+A//AffE99x38A/gPwH2Bgtt/kP39zx5djyPruX5MA8B+A/wBDK8H90vmH/wDd1Xf/zyQA/Afg\n",
       "PwD/6TFPOP4N6jvA+gD4D2DpnHH+D6C+A6wPgP8A/If/AOo7wPoA+A/Af/gPoL4DrA+A/wD8h/8A\n",
       "6jvA+gD4D8B/+A/UdwCsD4D/APyH/0B9B3zl+nB/LKAqf/kPwH/4D/gPYH0AX1nEAeA//AfqO8D6\n",
       "APgPAP4DqO8A6wPgP4Clw38A9R1gfQD8B+A/8yDKpAkMR/qHfwP8B+A/wNBK8OfP3W9JNvM8of6E\n",
       "+g6wPgD+A1g6Zxz/BqjvAOsD4D8A/+E/gPoOsD4A/gPwH/4DqO8A6wPgPwD/4T+A+g6wPgD+A/Af\n",
       "/gP1HQDrA+A/AP/hP1DfAdYHAP4D8B/+A/UdMFvcHwuozuNNTADwH/4D/gNYH8C3FHEA+A//gfoO\n",
       "sD4A/gOA/wDqO8D6APgPYOnM3X/+5v+JOAas7/41CQD/AfgPMLQS3C+df+z/AdR3gPUB8B/gS5aO\n",
       "498A9R1gfQD8B+A//AdQ3wHWB8B/AP7DfwD1HWB9APwH4D/8B1DfAdYHwH8A/sN/oL4DYH0A/Afg\n",
       "P/wH6jvA+gDAfwD+w3+gvgNmvD7cHwuoyl/+A/Af/gP+A1gfwFcWcQD4D/+B+g6wPgD+A4D/AOo7\n",
       "wPoA+A9g6czdf/7m/4k4BqzvnN8A8B+A/wCDK8H90vnH/h9AfQdYHwD/Ab5k6Tj+DVDfAdYHwH8A\n",
       "/sN/APUdYH0A/AfgP/wHUN8B1gfAfwD+w38A9R1gfQD8B+A//AfqOwDWB8B/AP7Df6C+A6wPAPwH\n",
       "4D/8B+o7wPoAwH8A/sN/oL4DJk76R34GqhL9+WMSAP7Df8B/AOsD+MIiDgD/4T9Q3wHWB8B/APAf\n",
       "QH0HWB8A/wEsnbn7T5RJExgO5zcA/AfgP8DwSvBw6lySzTxPqD+hvgOsD4D/AJbOGce/Aeo7wPoA\n",
       "+A/Af/gPoL4DrA+A/wD8h/8A6jvA+gD4D8B/+A+gvgOsD4D/APyH/0B9B8D6APgPwH/4D9R3gPUB\n",
       "gP8A/If/QH0HzHh9/GsSgIr85T8A/+E/4D+A9QF8ZREHgP/wH6jvAOsD4D8A+A+gvgOsD4D/AJbO\n",
       "3P3nb/6fiGPA+s75DQD/AfgPMLgS3C+df+z/AdR3gPUB8B/gS5aO498A9R1gfQD8B+A//AdQ3wHW\n",
       "B8B/AP7DfwD1HWB9APwH4D/8B1DfAdYHwH8A/sN/oL4DYH0A/AfgP/wH6jvA+gDAfwD+w3+gvgOs\n",
       "DwD8B+A//AfqO2DipH/kZ6Aq0Z8/JgHgP/wH/AewPoAvLOIA8B/+A/UdYH0A/AcA/wHUd4D1AfAf\n",
       "wNKZu/9EmTSB4XB+A8B/AP4DDK8ED6fOJdnM84T6E+o7wPoA+A9g6Zxx/BugvgOsD4D/APyH/wDq\n",
       "O8D6APgPwH/4D6C+A6wPgP8A/If/AOo7wPoA+A/Af/gP1HcArA+A/wD8h/9AfQdYHwD4D8B/+A/U\n",
       "d8CM18e/JgGoyF/+A/Af/gP+A8x5feR9MMrp6YkJdDL45vg8D9/+H4D/8B/wH2De/tNHV8Y4PVN4\n",
       "nXxWUzHSTvEfgP/wH/AfgP/wH/7DfwDwn5f8zf8TcQxY3zm/AeA//If/8B9gcCW4Xzr/2P8DDFzf\n",
       "AdYH/+E//If/AF0qgePfAP4D8B/+w3/4D8B/+A/Af4Dp+0+4WH+p/1Qb+UD+M/3wNOhUwwjxH4D/\n",
       "8B/wH4D/PJEsNpVy/3z8p+rIB/GfOYSndqcaR4j/APyH/4D/APznqcRcxj06wJjq68ojH8J/ZhGe\n",
       "up1qHiH+A/Af/gP+A/CfR+KqBeJs/CeuXhrn4+/knPyneYT4D8B/+A/4D8B/Hlls+nSAMdXXlUc+\n",
       "hP/MIjx1O9U8QvwH4D/8B/wH4D+PVD7EaDb+U/3gqgH8Zxbhqdup5hHiPwD/4T/gP8A0Sf+Uys/8\n",
       "h//wnzuiP38kD4D/8B/wH2C+64P/8B/+87aIA8B/+A/4D8B/eiuw81LwnxmGh/8A/If/APwH+D7/\n",
       "6bBx/jPq8PAfgP+MlyiTJjAcJc9vAPhPqeov2+f5Po7jzX5docbcpelqFWTb6fpP2XHXGHl7/hOe\n",
       "OrnfxEnbnRy7/5QfehsR4j9APSV4OHUuyWYue+pPjL6+A6yPktXfcn/8J87XpWvMfXj44NvnHdfA\n",
       "XfpP2XHXGPnvs+vj5eISl7BaJ/PTpZ2zT3GdRXjqDb2NCPEfoKYSOP4N4D/A9PwnyU8l+TZPy9aY\n",
       "6emZ2WbK/lNy3DVG/qt7i3CdLVann+NKnVyfOxmky5Y7OXr/KT30NiLEfwD+w3/Af4Cv8Z/svP8j\n",
       "y8OyNeZ5i204Zf8pOe4aI3/uXng4JiTaHJtZp5U6GV52Tm3zLJh9eOoNvYUIFfnPnhgB/If/gP8A\n",
       "s/Kf+PzLZlmY2vNbjXkpSNfJlP2n5LhrjPy5e+ft48062C6SSp28HsaV5Ktg9uGpN/QWIlTkP+u9\n",
       "tALwH/4D/gPMyX9Op8FE8aLwNJj7L+GTPF+tK73GGP2n3LjrjPy5e5ddPmGeL7fVNs73117E8w9P\n",
       "raG3EaHC49+ylbwC8B/+A/4DzMd/1vk+DMN48+EYo839+RTh4RYvcbVv2MfmPyXHXWfk77sXVe5k\n",
       "eH3h1fzDU2vorUTo2X/SxR15KrEA/If/gP8As/Gf8JTRd8ujCET3543ffon2m4fyMDlcnXhZsMH4\n",
       "/adg3A/GUm7khd17KKbjap287MuI8+37yZ5LeMoOvfUIfbj+wW7jUwfgP/wH/AcY6/r49+7n99y2\n",
       "2J+vrrU61JvrMFzccv31l+3yxdnk6aEsfbPBp5fPP/ctyq/ydfnp9qegWdvF476n5Mhr1P+lenm7\n",
       "ivOhon832UOE50VUWgjPfXzeD72DCP0tvv5btClz4CLAf/gPwH+Asa6Puw+py8kV58ug7e5Lxssv\n",
       "ySa9+4jbXcrd3dsNSjpAYd8W16OOrj/d/tR8/0/RuG+UHnll/ynXyf21rMjeT/Yg4XkRlcbhKT30\n",
       "1iNUvP8n2ayUPQD/4T/gP8A8/Gd9OXf8eJTR23p5tbydVH4Wh+T0sdddgd34STXHnaXZOgzTKiN/\n",
       "3KQ1/7meAxOd79X6brJnEp6SQ3+a7TYiVHj+z2Kj6AH4D/8B/wHm4j/n02B+EvumsMKOrzeh3J7/\n",
       "mK6CCftPwbiz7eGcoOtVscuM/GmTts7/uZwDE13O8H872fMIT8mhP8928wgV7v/ZugA2wH+Cw3Gy\n",
       "/4k4Bqzv/jUJQFv+sznVjtvl+STyd/Vycr3GcLo4FperOJiy/7wfdxIdTxu5fqiXGPnzJm3t/9nk\n",
       "56o+DT5M9jzCU27ov2a7hQgV+E+ykVaA90pwv3T+sf8HGLi+A6yPz3VmvMnz+IfNfvepwl5eCtE0\n",
       "2MZpHH/cYMz+UzzuODyIUaWRP23Siv+cO7nfp0nwabLnEZ6yQ3+a7RYiVOA/8VpaAd4rgePfAP4D\n",
       "TMt/fvPef+KKG4z9/qfvh3E4nyRdBesKI3/apK3rH5Se7HmEp+zQn2a7hQgV7f+RVQD+w3/Af4DZ\n",
       "+0+0qug/LzaYov8ch5EcnrXY7tblR/68Sbf+82Ky5xGekkN/nu0WIlR8/TcA/If/gP8AM/WfZLXJ\n",
       "0/AnzS93t1+KasyCDabkPw/D2B5GGq6yCiN/3qQb/ymY7HmEp+TQn2e7hQjxH4D/8B/wH+Ar/efG\n",
       "r2aWccUNprX/5+0waoy8u/0/719yFuGpN/Q2IsR/AP7Df8B/gO/2n11Uscb8vcEk/WcXVa6uX23S\n",
       "sf+8eMlZhKfe0NuIEP8B+A//Af8Bvtt/sqo1ZtZeDVyKjurrrHp1nbVY/5fcOAvmGZ56Q28jQvwH\n",
       "4D/8B/wHmOr6KHV/rBofUsu4alfaG9SwLVUeeffHv800PHWbah6hv/wH4D/8B/wHmPP64D/8h/+8\n",
       "LeIA8B/+A/4D8J/F/lv9p/LIh/CfWYSnblPNI8R/AP7Df8B/AP7zyGbzrf5TeeRD+M8swlO3qeYR\n",
       "4j8A/+E/4D8A/3lkVTXzz8Z/VtU/8/Lxd3JO/tM8QvwH4D+fiDJpAsOR/uHfQP/+Ey0W1VL/bPyn\n",
       "8siH8J9ZhKduU80jxH+Aeovvz5+735Js5rKn/sTo6zvA+mi3zoz2y0qfbbPxn8ojH8J/ZhGe2k01\n",
       "jhD/AWoqgePfAP4DzNd/gmAXr7/Sf6qOfBD/mUN4GjTVMEL8B+A//Af8B+A/k7eWYcY9mP/MYFL7\n",
       "K574D8B/+A/4D8B/+A//4T8A+A//Af8B+A//4T/8BwD/AfgPwH/4D//hPwD/4T8A/wH4D//hP/wH\n",
       "4D/8B+A/QKeUvD9W3gdjLNX7YgKdHKX/5ANF6PEmJgD4D/8B/wG+fn0M+bE27EfqFD7Q82+eoDZe\n",
       "3/4fgP/wH/AfwPrgP/yH/wDgP/wH/AfgP/yH//AfAN/lP3/z/0QcA9Z3/5oEgP/wH/7Df4ChleB+\n",
       "6fxj/w8wufoOsD74D//hPwDqLR3HvwH8B+A//If/8B+A//AfgP8A/If/8B/+A/Af/gPwH4D/8B/+\n",
       "w38A/sN/AP4D8B/+w3/4D8B/+A/UdwD4D//hP/wH4D/8B+o7wPrgP/yH//AfgP/wH6jvgBmvj47u\n",
       "j8V/+M+M/ecv/wH4D/8B/wGsD/7Df77Ef+z/AfgP/wH/AawP/sN/+A8A/sN/wH8A/tO8l53Cf0Yd\n",
       "nnyEg+c/AP/hP+A/gPXRof9MSAa+0X+m1Fn+A/CffogyaQLDkf7h3wD/4T/8h/8AQyvBnz93vyXZ\n",
       "zGVP/YkZ1neA9fGivS6OXpqC//Rw4NZIozMR/2l18PwHaGHpOP4N4D/AHPynk+p1Ev7TtxaMp48T\n",
       "8Z82G+Y/AP/hP+A/gPXBf/gP/wHAf/gP+A/Af/gP/+E/APgPwH8A/tNZBRwu1vxnxP7Te3z4D8B/\n",
       "+A/UdwBm6z/JYpN01zr/adrIAPHhPwD/4T9Q3wGYq/8ky7jT8p3/NNTTAeLDfwD+w3+gvgPQ/v2x\n",
       "xuE/caXilP/07T9DxKfdwT/exAQA/+E/4D/At66PcfjPYtNp+c5/GjYyRHzs/wH4D/+B+g7AXP2n\n",
       "0uFV/Kd3/xkiPvwH4D/8B+o7APyH//Af/gPwny74m/8n4hiwvvvXJAD8h//wH/4DDK0E90vnH/t/\n",
       "gKnUd4D1wX/4D/+RPYCGS8fxbwD/AfgP/+E//AfgP/wH4D8A/7l+Xu7zfB/H8Wa/Lltf79J0tQqy\n",
       "Lf/p3H/CU3T2mzgp7z/9xIf/APyH/0B9B2CS+3+W++M/cb4uV1/vw5//Rfu8Qp/5T+1m8825rNmV\n",
       "9Z+e4sN/AP7Df6C+AzBF/0ny8PjvNk9L1dfp6WnZhv/04D/rc3SCdFnSf/qKD/8B+A//gfoOwBT9\n",
       "Jzvv98kulfaH+vr89G3If3rwn/CyV26bZ8Go4sN/AP7Df6C+AzBF/4nPv2yW7z9Z8lt9fanD1wn/\n",
       "6cF/roexJfkqGFV8+A/Af/gP1HcA2r8/1uXTLMo3HfnP6fSfKF68P/3nft9DkuerddXCeDwjDyYQ\n",
       "nftG8v01BvG44nNp5jb2Jg3/5T8A/+E/4D+A9XFfUi7Sbvxnne/DMIw35wo6uv94udTRm/tzScL8\n",
       "h/PlyF4+u+39P62OPJhAdO4auZ7+8zPtq7cTPkh8rs1cx27/D8B/+A/Ud4D10aKpdOM/4ekDZbc8\n",
       "CdDq/rSR0y6haL95KE2Tw0WZl++eHTj+rcVmr6f/BHG+fTPhA8XH8W8A/+E/UN8BeFwfeRu8eIVW\n",
       "W92fryu2enf56+3yxZn0ab4tmoOORt5ypEYbnVuzt6tY5++u/zZYfPgPwH965W/+n4hjwPruX5MA\n",
       "9PT9QOf7fy6nlby9/FuySe8+Xs+ji4qGaf9Pa81eT//J3l7+baj42P8DjEIJ7pfOP/b/AFOp7wDr\n",
       "Yzj/WV/q6uPxVdvwdpJ9FKbnoayWt11D58eTw0fu62fzn/aavZ7+Ex2vUvFmwoeJD/8BRqEEjn8D\n",
       "+A/Afyq1ej795+dz5XAO/Sq6fZSmwe5yWn18PfZquzg/uHr/bP7TWrOX03+i0xUO3k34IPHhPwD/\n",
       "4T9Q3wGYnv9sTqXzdnk4hz6JdovLA1EUrC4X9kquB1+li+NdaFaHHQvvns1/Wmt2k5+t5ji3byd8\n",
       "kPjwH4D/8B+o7wBMzX/iTZ7HP2z2517v708C2lxPOVleauc02MZpHBc/m/+00+w5Ovt9evnMfzPh\n",
       "g8SH/wD8h/9AfQegO//p7v6n90R5dHcVuNtHzTKu8mz3P+05PIPEp937n/IfgP/wH/AfwPp4KCm7\n",
       "uv/pA7tNsPqpaFenj5rlh/r63bPd/7Tn8AwSH/c/BfgP/4H6DsAEr3/9QBSHyaFUPo7h7uphb/Yv\n",
       "vHm24996Ds8g8XH8G8B/+A/UdwCm7j8XjmO4P78krvJs/tNzeAaJD/8B+A//gfoOQBCkf9rNz4P4\n",
       "zy4KNtvPx1e9ezb/6Tk8g8Sn3cFHf/5IHgD/4T/gP4D1MYz/ZD8eF6ZRyfr617P5T8/hGSQ+9v8A\n",
       "/If/QH0HYC7Hvz1TfHxVN57Cf8YdH/4D8B/+A/UdAP7Df/gP/wH4TxdEmTSB4Wj7/AaA/3wuMvu5\n",
       "/887Fvvh/Mf9f8YZH/f/AcagBA+nziXZzGVP/Yn51HeA9VGiVu3l/j/v2GyG8x/3/xlnfNz/BxiF\n",
       "Ejj+DeA/wFz9p9XqtWobq0qfOo5/69t/hoiP498A/sN/oL4DMFf/iRaLqLvW+U/TRoaID/8B+A//\n",
       "gfoOwFz9J4j2y6y71vlP00YGiA//AfgP/4H6DsBs/ScIdvGa/4zWfwaID/8B+A//gfoOwIz9p/fW\n",
       "+c+448N/AP7Df6C+A8B/+A//4T8A/+E/UN8B37Q+/m25vV98if90NPQJRGcq/tPm4P/yH4D/8B/w\n",
       "H8D66KwmnoT/9GQDI+xjPqXOttOe/T8A/+E/4D+A9cF/+A//AcB/+A/4D8B/Wuhml/CfMUcn5z8A\n",
       "/5kif/P/RBwD1nf/mgRg2v4zJQP5Pv+Z2ATxH2BAJbhfOv/Y/wNMrr4DrA/+w3/4D4B6S8fxbwD/\n",
       "AfgP/+E//AfgP/wH4D8A/+E//If/APyH/wD8B+A//If/8B+A//AfgP8A/If/8B/+A/Af/gP1HQD+\n",
       "w3/4D/8B+A//gfoOsD74D//hP/wH4D/8B+o7wPrgP/yH//AfgP/wH/AfYOKkfzrKz/yH/8zYf6I/\n",
       "fyQPgP/wH/AfwPrgP/znK/zH/h+A//Af8B/A+uA//If/AOA//Af8B+A//If/8B8A3+U/USZNYDg6\n",
       "O78B+Ab/yftmJAVuPgQT6ORY/CfPB40Q/wHqKcHDqXNJNnPZU39ixPUdYH10XKz27S5jKdK7ftF8\n",
       "9D3szn+CQQPEf4CaSuD4N4D/APyH//Af/gPwH/4D8B+A//Af/sN/AP7DfwD+A/Af/sN/+A/Af/gP\n",
       "wH8A/sN/+A//AfgP/4H6ziQA/If/8B/+A/Af/gP1HWB9dFdnhov1l/pPnZH37j9TDk/jRupFiP8A\n",
       "/If/gP8A/OcdyWJTI/fPwX/qjbxn/5l2eBo2UjdC/AfgP/wH/AeY/PrYdlRnJst4iu7SQhs1R96v\n",
       "/0w8PM0aqR0h/gPwH/4D/gPMfX3U/niK6xWIM/CfuHZpnI++k/Pwn9oRuvcfyQPgP/wH/AeYIMvO\n",
       "/GexmaK7tNFGzZH36z8TD0+zRmpH6PqqW/4D8J8P/M3/E3EM6D//mgTgXSWYZx3VmTUPMZqB/9Q+\n",
       "/K1P/5l4eJo10vwARf4D1FSCe//5x/4foDv/sf8H4D/8h//wH2BwJXD8G8B/gIHZTN9/8jLwn8H8\n",
       "Z3TxacN/dvlS8gD4D/8B/wEmyD4PJ+8/nTTLf0YdnqH9J+M/AP/hP+A/wET9Z8V/+A//qfiqYb6Q\n",
       "PAD+w3/Af4AJEudp2Toz2+f5Po7jzX5dvcbcpelqFWTbKfpPxYHXHXkz/wlPndxv4iT4gvA0GXqD\n",
       "CF1fdZVvJA+A//Af8B9ggqR5XL4yXe7PzlTGAx5qzP3hKLtoX+KzbpT7fyoNvO7Ig4b7f84VeVYu\n",
       "4008PE2G3iBC+W3d7CUPgP/wH/AfYIKEn+q4u4+n5Hyu0PbTPqNfNWZ62iAr8Z35GP2n2sDrjryh\n",
       "/6wvZ3Kly2D+4Wky9AYRur5qXO6tAID/APwHGBm7T8fx3B8Hdt79kX26ZsKvGvO84bbEdmP0n2oD\n",
       "rzvyhv4TXnZObT9d0m8O4Wky9AYRur7qvtxbAQD/AfgPMLr8vCxdZ8bnnzfLMjn97sC6S1m6LrHd\n",
       "GP2n2sDrjryh/1wP4Eo+XdJiDuFpMvQGEbq+6sbnCsB/+A/4DzBJok+3Xrl7+HQWTBQvypwFc/9V\n",
       "fJLnq3XZBTtC/6k08Nojb+g/1wMZt3k8//A0GHqTCF1fdZmvJQ+A//Af8B9gmgskKVlnrvN9GIbx\n",
       "ptwhRpv74+rCwy0u42rfsI/Hf6oNvPbIm/nP9RyYn5dczT88DYbeJEL57WuDSO4A+A//Af8Bpsgi\n",
       "35asM8NTKt8t33pAdD2JPNpvHurD5HCN4uXn7RpUwtH1TKbrT7c/NfKfzwO/H0ulkbfnP9dzYIL4\n",
       "XUQHDc+LqDQJT8WhtxWh/FrWuP0pwH8+JZvM9yQYjvQP/wbeEt+OBcpfcn3m/lzyrd4d+rMOw/NN\n",
       "IbfLF2eHp++K09t2bztRyMXkrlfkuv50+1PtVssM/I5qI6/iP586ef35XWk+VHjyt1FpEp5KQ28t\n",
       "Qvm1anP7H6CWEvz5c//tQzbrwdr/gyGx/wcoIPxwId9bnXk5t6LgKmi7c6GcbNK7r73OKzB6vxR3\n",
       "i1IKUF0a6jd7t0GJgd8+ziuOvFkv7zu5v5bm2ReEp+rQW4rQ5VVXJS+0AOBZCRz/BvAfYPgEvSlX\n",
       "Z64vxeXxIKMszdZhGAdhFq9fFcqr5e3PZ31IDh97n7Ybof98Hvjpb2n1kT9s2Mh/rufARMeLNcw+\n",
       "PNWG/jjPDSJ0edW9jxWA//Af8B9guiukXJ15PgvmLEzZ9nA2zOE+KmH8slCOr4cibc9/TFdlthuf\n",
       "/3we+PlvSeWRP27YxH8u58BEp3P7Zx+eakN/muf6Eboey+fyBwD/4T/gP8BUWRRn6NsdT05F43Z5\n",
       "OHs8iY7nhBx2iKSrl4Vycj0WKV0cn7E61JSftxuf/3wc+OVvUdWRP23YxH82+bmeT4PgG8JTaejP\n",
       "81w/Qtdrbbj8AcB/+A/4DzBVVsUnTZw/nuJNnsc/bPbn9RSHP8n9UAUudi8L5WB5OWgoDbZxGscl\n",
       "txub/5Qa+OFv22WNkT9uWNt/zp3c79Mk+I7wVBz60zzXjtD5VXfl7jMEgP8A/AcYIR/uGfnu4+lw\n",
       "DkW4P3yXHqxfF9hxre3GeP/TjwM4/C1dXX6vMPLHDRvd//S7wlNx6E/zXDtCl28DfKoA/If/gP8A\n",
       "02W5rFFnJoe/H74bz/bBKgiiVckC++N2Y/efVwM4/m2x3a2rjvxpw/b8Z/bhqTb053muHaHzqy5z\n",
       "aQPgP/wH/AeYLGnhbW3efDxtDxXk5ie3J3EYHY4a+llmyWqTp2Fxgf1xu7H7z6sBHP8WrrLKI3/a\n",
       "sD3/mX14qg39eZ5rRyg/FzUOfwP4D/8B/wGmy7bwXiZlP55+LbNlXGu70R//9nHgdUfepv/MPjxN\n",
       "ht4gQqdXDX2oAPyH/4D/AFOm8AC4kh9Pu6hejflru6lxutkeAAAgAElEQVT5z++B1x15l/4zu/A0\n",
       "GXqDCJ1edePqbwD/4T/gP8CUCQ+X/G1YZ2Y1a8yshUq4FF3V11nQ1si79J/ZhafJ0BtEKD/VNCtJ\n",
       "A+A/H/mb/yfiGNB//jUJQOEiiVuoM+vVmO29XttzUn/TZdzXi/bfydFUK406UjtCx1eN3fwUqK8E\n",
       "9+vnH/t/gO78x/4foJBVQUHHf/gP/7l/1cjVD4AGSuD4N4D/AGMgKjigp/bH02L/rf5Tc+T9+s/E\n",
       "w9OsI7UjdHjVUEkD8B/+A/4DTJ3w/Q6g2h9Pm823+k/NkffrPxMPT7OO1I7Q4VWXqYQB8B/+A/4D\n",
       "TJ3lqvU6c1Uv88/Af1a1P/Py0XdyHv5TO0J54XcFAKr7z21v7C6bp//MeITgP8Ck2b0tCGvXmdFi\n",
       "UadQnIH/1Bx5v/4z8fA060jtCOVBlCtggDb9J71ef3STzG6wxxHNeITgP8C0ifet15nRflmjVJyB\n",
       "/9Qceb/+M/HwNOxI3Qjl7xcKgFr+s75cUCTZz2+wR9+Z8QjBf4CJs8jarzN38for/afeyHv2n2mH\n",
       "p3FH6kUo3y4d/Qa06j/B5vyH1W5+gz3t75nvCMF/gKkn6jeFXd8F7zz8p6cXzb9jWsbTkXyxlSqA\n",
       "dv0nO3/5tpnhYE/+M98Rgv8AU2eb8B/+w3+KX5X+AG37T7BcHHh/FZ7J+898Rwj+A8x1AfEf/sN/\n",
       "xjZ8YEb+kx4PRt1HMxzs2X9mO0LwH4D/8B/+w38AVPSfJL78rwzVdqLU2+Wyauf5V/8pHmFLWtSx\n",
       "XUWjbQz8B+A//If/8B9gSv5z3DGyOh1cmi3CX5ss0sOD4fLkDw83IP799KJnF3Sr4lblnh9ll7He\n",
       "jfD3s5brNma2pWZ6ab5CY9t9nq5W6b7hq7fUTE8v0FJj6Z9S11vfOK4bePkFQs9867jrDH78PZxZ\n",
       "fPgP8I6k1F21oj9/7rc5XRhgF96uDXBXGa/DeL/fHq7WGKx+2k6jF66x3FZ59guRqbhVpedf9/88\n",
       "jPCZVTvf0q+6/bK/1earNJYtDv8Plw1fsqVmenqBdhort/8njSUvAACAWkVtmTrq5f6fHzXIzvtx\n",
       "klvJl6ZnFdr9PJheDzJ7cI0kr/LsF7Vfxa2qPf/mP3cjfGa7XoYtzH5LzfTSfKXG4vT+nVKblprp\n",
       "6QXaaayU/+zc1AEAAKAmZe4q/Np/VrvLLXKyOMtON+cKr63t1rttEh5cY5Wm6eLnv+tOn2wfJGFa\n",
       "9tlBlmbrMIx/nl3lNY4bpaWf/9J/biN8Jgw2bXwB31IzvTRfqbHloYaPFlnTN2c7zfT0Au00VsZ/\n",
       "omUmcwEAANRjm38+3eC1/yTLSz0cb37K48Mv0T64uUawinbbV/ta4jDZRcuk5LODbHuo9g4vVuE1\n",
       "zhslZZ//0n9uI/zlAkHawn2BXjaTtnbDobCnxn7/PcnDLEvjpqfVtNRMTy/QUmNl/Cd2UyoAAIDa\n",
       "xPua/hNcz/Q+nM+THqxim927xo9hhPsXrrFc/TxtXfbZSRQezqvIK73GZaOo7Ku89J/gzbns2/Xl\n",
       "NI/k7vLYSdVLZb9uZpe2FNhb8y9q9fp9/c3vHh/PhIlOx4M1mKJ3zbTG/Qs0nqTixtr0n7Wb2gEA\n",
       "ANQnKVNvvfSfawuHunhxaCXb7I/sTq4RrS7XD3hwk/x8Qk6pZx8MLfzpQrXXOG20XVZ4lVf+84Z0\n",
       "tVrFhylZb2/Xj7j/uRwvmwnStg5tujb/Yoz1+/rqsV89PivLoUxvMkVvmmnR/W8v0HySChtr1X82\n",
       "dv8AAAA0YL9o6D/Z/nhNgx+5WN/uqXNwjWC7O58yv3p8+nYRJCWfHZyuLhdWe43TRunqZ4Oyr1Le\n",
       "f8JTnXt0uPsSuWKF/qaZTZJkbVy14NZ8lu6yLN3uVusW+vqisd89Pp4JE2ybTtGbZnY/Xdit2njr\n",
       "371A80kqbKx8nz/7z87uHwAAgCas8/DjMwr957Cr5UdqDtXd7Yih7FijhY8n0ESr09PXizLPPj//\n",
       "eLm48q9xt9FiezCej69S0X/OB9SdytTfxX20uuvG7d/nP79tJk92x1OW3rTzrr3nf++a3x7kcbkN\n",
       "7uvv8wu20thzj38m/9B6tEiDwin69Krvmtkdu1BjTp6e9vACbyepncaufY4+SdBn/9ksJC0AAIAm\n",
       "7D/dseSD/2x+hCGJD3fWCZLLGTPbxeb40+PJRevDd+SHp8fZ+vOzz8/fxtfXCEu8xt1G4eFEo8+v\n",
       "Us1/0uNFEaI03+xeFvfr036An3+T+39vv+4Km1nncRQUtPO7ved/d7+a/5mAaPMz6dtf/nN+dqPG\n",
       "fvU43OSrw41Ad8Eb/yn3qu+bidfBev9ijt43+DR1r/r5bpI+xqFcY5c+X55f338+f18BAACAQnaf\n",
       "K65C/7knWh3OtXl/fM6u0rOfn19yq13F51fyn0fOOzQeKvQPs7krbCZcJYsoKdNO+fYXwXFPxDLI\n",
       "fvW1emd/Nfapx61P0aEL4WlfXs05etn+20natdHYrc9N/efdaVgAAAAoS75pzX8+FZ5Rt8+vv1Et\n",
       "/1mHy3R3vgDE+eePL//i4ftm0iRYZbsGw/i9WXS4dPj2eN3x575W7+zvxop73MEUHbqwWzWYo1db\n",
       "vZ+k6p190ditz5+6/Ml/onwvYwEAADQjztc9+U/W8fPrb3Tlb/5f9YK6wstnJZupO4ysSl8bdLZi\n",
       "Y51MUc05yioFNGuzsc/Pz/N/i18v3wUAAABoxDZffVCCe//5J5/1ZFQ7/u1lVV6XXgrb3TCNTWmK\n",
       "Bpukk/8UP3/v8DcAAIDG5MsPStDW/p+Z+g/Q2los9p8od/U3AACAxuyLD4DjP8A4/CfLV+YIAACg\n",
       "KWFxUcV/gHH4T+zmpwAAAG3U/Bv+U9p/wjhdraJV09MwWmqml+arNLbd5+nhTjjrpi/aWkP9vEBL\n",
       "rX3wn+W8Vx8AAEBP5Dn/Kek/28WxPv1409hP1XI7zfTSfMXGsuMZKsmy8X601hrq5wXaaa3YfxKn\n",
       "/wAAALTBpvCoGv5zY7c83xQzbfQqLTXTS/NVG4tPz0sb36emtYb6eYF2Wiv2n527/wAAALRBmof8\n",
       "p4z/JJfqdN3oEsktNdNL85UbW56eFzbe99RaQ/28QDutFftP6vIHAAAAbZDlMf8p4z9xO4cfvW0m\n",
       "DDttvoPGfvU4Ob9Z0qadaK2hfl6gpdaK/Wfj7qcAAADtFP1L/lPGf5b3x4Al++jlz59528w2bmMM\n",
       "y+Ij1Rr09Te/epyd6/9F3GiKChpqzfrvX6DpNH1qrR3/WebrAAAAAI2JCi+AwH9u9edlb8dPkbre\n",
       "Lq7Tcv9zGad400ywylrxn7vmX4ywfl9f8KvH59NgjvPYYIreN9Qa9y/QeJo+tNaS/zysRAAAADSo\n",
       "uhL+U6J+jc9f7mfHCbkvkCsVy2+b2YS7tPnVyO6bz9JdlqXb3WrdQl9fNParx8vs/Peg0RS9b2j3\n",
       "04ldG6fB3L9A42n60FrpThf6T5K7/DUAAEArLIouAPdV/hNlRVVvtDzOU7h+U9xH5xL36d9ff37X\n",
       "TL4Owux9O2/be3r4rvltuP+pzbfBffH9sq9v2yxu7LnHydEfo30YlJuidy/7vqHdsRONJ+nxBT5O\n",
       "U8PWrp2+DfA16Z8C/925/DUAAEA7bPKCA6+iP3/ufkuyWc/Eh+OXojRdhWH0rrhfny8Ctj7fBeb8\n",
       "7+3XXWEz658ieZO8b+d3e8//7n41v18H0SYI4u2Hvr5rq7ix5x6Hm3y1WoWrJCg5Re9etqCheH18\n",
       "2YaT9PQCn6apaWuXTt/m9TWF+3/C4hsVAwAAoCxx0XV1Hf/2hvMOgof6/MP1uXaFzRz2pCyCbYl2\n",
       "yre/CI67IZZB1kJffzX2qcctTdFDQ4vDy7Y7SS1P04vWbp0O6vvPyu1/AAAA2iEtugA2/3n9zHCZ\n",
       "/tSqyfL2809tW3zOyIuH75uJf147Pu5q2dU7z/33ZtFPYMPtodmkeV9/N1bc45am6LGhQyd2q12b\n",
       "k9TyNL1o7dbpD+0V+k+cx3IVAABAGxR+scx/igvg+18+HByYlWwmqHmQYdZPX6v2uLWX7WWSWp6m\n",
       "5/09xRsU+s8+T+UqAACAdvxnw3/a8J/69HJjy90wje1G2f++XqZSa4X+s+E/AAAA7RAWXViK/wA9\n",
       "8cF/VmYIAACgDTL+w38wdv9Z8B8AAIC2/GfJf6r4z3YVhlm4bvZarTTSR/OVWtru83SVxk0r9Zaa\n",
       "6af99hr74D+hXAUAANAGu6Iby/Of3/MVHp/acNLbaKSP5iu2FB73JW6anqrSUjP9tN9aY4X+s8zn\n",
       "ffMtAAAA/jNS/zntLWt4MeJWGumj+YotxUcL2De9VWdLzfTTfmuNFfpPzn8AAADaYct/KvnPqQ5t\n",
       "eKZQK4300XzFlpaHCn67bHrgXUvN9NN+a4198J9dAAAAgFaq/jziPwf+5v+VeFaY5/vGX8W30kgf\n",
       "zVdrKcnDLExXUcMXbamZftpvr7E8//f9g//3f/8FAAAAaIH/87//FSnBvf/8Y//PD9EuzRsfWtZK\n",
       "I300X6mlbPGzwb7xpQDeNZO2dEBcS90s01iVLtv/AwAA0E/Vb/9PBf+JTs/8+V+yv03N/c9B3Uba\n",
       "s59r87+p9oJFLb3geCrMLv/1QhVH+a6ZXUsXRLhvv+kMfWisSpf5DwAAAP8Zm/9sd6cS+efZ28V1\n",
       "au5/LsHrRlrj1vyLMVZ6waKWXnE8FWa1fH6hqqN800yQtnTI4F37TWfoQ2OVusx/AAAA+M/Y/Cc9\n",
       "HgsWH594Xyeffo7Oh0F9+Pd1I7t0l+1WFZp59/Ct+eynySzd7lbrp56WbLmopd/dDZLjmyVeBNvk\n",
       "1fSUfNH3zWySJAsbT89D+59m6NNrfWrsqcv8BwAAgP9My3/Wq3C1SoLX/rNenorU9TJ58+/ufSO7\n",
       "cH++3vTnZpKC1u+a3x6b3Aa71VNPP7xCmZZ+dzfc54fLAKw3Yfhyekq+6Ptm8mQX7RtPz0P7n2bo\n",
       "QyQ/NvbUZf4DAADAfyblP/f89p8fK/iwza6gkXgdrPflminb+n4dRJuflre/XnDXuKVP3X0xPVVf\n",
       "9LGZdR5H7U5PqzP0qrFKXeY/AAAA/Gf8/hM91MwfTh35/fhdI4sgCLNtmWbKtx4cd0Ysg+yppx9e\n",
       "oUxLn7r7e3oqv+hjM+EqWURJm9PT6gy9aqxSl/kPAAAA/xmv/6zDZfpTkibL289B8Ols96ygkSg+\n",
       "VM+lminZ+rHJ8EdR4jB56mnWuKUP3X01PVVf9KmZNAlW2a7F6Wl1hl42VqnL/AcAAID/jNd/LrRS\n",
       "lvZS2+6GaGk3tr739iqVG+M/AAAA/If/8B/+w38AAAD4z1j8B2gH/gMAAMB/+uRv/p+3Awb0n39r\n",
       "PggAAIAqVX+B/zw++I/9PyNklYZhmoynnX7a77q3g/iP/T8AAAB9VP32/0zYf7abQ6eTZTKSdvpp\n",
       "v+ve8h8AAAD+w39GyG5x+jfdj6Odftrvurf8BwAAgP/wnxGS5OtWQtNWO/2033Vv+Q8AAAD/4T9j\n",
       "JN6cf1gtO2onDMfUz3KttdNn/gMAAMB/+M+4WKbnHzbxz/+S/S1Y9z83aWcbt9/P3zTp7W/a6TP/\n",
       "AQAA4D/8Z2T+E951fb1dXIN1/3OTdoJV1no/X8x8g96+oJ0+8x8AAAD+w3/GxT4Ngu1PhBaniv/e\n",
       "IioZxft2NuGuhctMP7SfpbssS7e71bqN3r5orZ0+8x8AAAD+w3/GRbJMsihcb7Lgjf9Eq9Nv53+f\n",
       "fr3++76dfB2EWcGWHxo+//vQ/jbcB8FyG+xWH3r7rvFPrV36zH8AAADAf+bkP0ES78M4joLkjf+s\n",
       "l6eyeX26Vc75n7t/d8XtrH/k4nivnaeGnv998+frZg/t79dBtAmCePuht78bf9XbX61d+8x/AAAA\n",
       "wH9m5T8HtnEQ3R+3Fj04zIeyeVfczmE/yiLYlmjo8wtc218Ex701yyBro7e/WrvrM/8BAAAA/5mZ\n",
       "/yR5fNSHdbhMd4ejw24//6hB8Yk19w+/aif+mZI4jD43VOIFLu1H8Y+jbA/tJi309ndrtz7zHwAA\n",
       "APCfd0RZNM2ObxYPOzseCuUP58FkZdsJap5Qk71vv93evurztEj/JDUfBAAAQIWq/8+fsg8m2axn\n",
       "Yqr7f7pygN2kejt9/7H/BwAAoJ+q3/6fefkP+A8AAAD4D/8B/wEAAOA//If/gP8AAADwH/4D8B8A\n",
       "AAD+w38A/gMAAMB/+A/AfwAAAPgP/wH4DwAAAP/hPwD/AQAA4D/8B/yH/wAAAPAf/gP+AwAAAP5T\n",
       "l7/5f94OGNB//q35IAAAAKpU/QX+8/jgP/b/AN35j/0/AAAAfVT99v/wH/AfAAAA/sN/AP4DAADA\n",
       "f/gPwH8AAAD4D/8B+A8AAAD/4T8A/wEAAOA//AfgPwAAAPyH/4D/8B8AAAD+w3/AfwAAAMB/+A/4\n",
       "DwAAAPgP/wH/AQAA4D/8h/+A/wAAAPCfb/KfKIu8HTAY6Z+k5oMAAACoUPX/+VP2wSSbuQkqMTEc\n",
       "9v8AAAD0U/Xb/8N/wH8AAAD4D/8B+A8AAAD/4T8A/wEAAOA//AfgPwAAAPyH/wD8BwAAgP/wH4D/\n",
       "AAAA8B/+A/7DfwAAAPgP/wH/AQAAAP/hP+A/AAAA4D/8B/wHAACA//CfA3/z/7wdMKD//FvzQQAA\n",
       "AFSp+gv85/HBf+z/AbrzH/t/AAAA+qj67f/hP+A/AAAA/If/APwHAACA//AfgP8AAADwH/4D8B8A\n",
       "AAD+w38A/gMAAMB/+A/AfwAAAPgP/wH/4T8AAAD8h/+A/wAAAID/8B/wHwAAAPAf/gP+AwAAwH/4\n",
       "D/8B/wEAAOA/3+Q/URZ5O2Aw0j9JzQcBAABQoer/86fsg0k2cxNUYmI47P8BAADop+q3/4f/gP8A\n",
       "AADwH/4D8B8AAAD+w38A/gMAAMB/+A/AfwAAAPgP/wH4DwAAAP/hPwD/AQAA4D/8B/yH/wAAAPAf\n",
       "/gP+AwAAAP7Df8B/AAAAwH/4D/gPAAAA/+E/B/7m/3k7YED/+bfmgwAAAKhS9Rf4z+OD/9j/A3Tn\n",
       "P833/+Q9MdYZHMvwvzUIo4mAhTCB8YvRF2Wr/LuDIGONczXY/8N/MBv/6amrI53B0bxO/qVBGE0E\n",
       "LIQJvFAuRl+TrcYZhnw8ryRjDfJC/If/gP9IovyH/1gI/If/8B8Zi//wH4D/SKL8h/9YCPyH//Af\n",
       "GYv/8B+A/6i++Q//UU3wH/7Df2Qs/sN/AP7Df/iPakJtzX/4D/+RsfgP/wHG6T/hYv3FSbTy6Dur\n",
       "KKr1ZE7+UzUG3VQTXbwTZr0QhvCf705WI8pWM0hXDTolY80jY/Ef/oNv9p9ksan6xp9REq0x+o4q\n",
       "iqo9mY//VI9BF9VEN++EWS+E/v3nu5PViLLVLNJV7U7JWHPJWPyH/+CL/SdZxj2XPWNKonVG301F\n",
       "Ubkns/GfGjHooJro6J0w64XQu/98d7IaUbaaR7qq2ykZazYZi//wH3yx/8QF63/+SbTO6LupKCr3\n",
       "ZDb+UyMGHVQTHb0TZr0Qevef705WI8pW80hXdTslY80mY/Ef/oMv9p/F5puTaJ3Rd1NRVO7JbPyn\n",
       "Rgw6qCY6eifMeiH07j/fnaxGlK3mka7qdkrGmk3G4j/8B1/sP9+9E72jo3766Mls/KeLY5rysbwT\n",
       "Zr0Qevef705WI8pW80hXdTslY80mY/GfC1EWBcBQpH+Smg/yH/7Df1QT/If/8B/+I2OVf6Hoz58C\n",
       "JXh4MMlmXX/a/4NBU4D9P/yH/6gm+I9kxX/4j4zVQ8ay/4f/gP/0k0TzMvCfLoOQdxkD/jOGKPCf\n",
       "dvo4thh9pf+ML1/JWDPKWPyH/2C2/pN8PEmwX//ptl6pPPhv9J9OixXVxAiiMFX/GVmy6jZb1UjV\n",
       "3+k/o8tXMtaMMhb/4T+Yrf9sPq7ZuzQS7vN8H+/3+13Vlxmn/3we/EMSbXH4t2dkx0bjeLNfV0nn\n",
       "uzRdrYJsO13/KT3w6iOvWk1E4aEjWZCsSvciWf30Is6CIRdCS62XGn294bfsP5WSVenlOhX/GUO2\n",
       "OjUa7zdxEowjXfWWr8oPXcaaUcbiP/wHc/WfXV6ppAjy/WklxHPwnxKDf0qirQ3//hnLY6NBnK/L\n",
       "92QfHj4G9nkH89Tf96klB1595BWriXAZHj7FdqtFVrYXq82xz/EmGHAhtNN6udHXG/5zD6N4ubjk\n",
       "qbCL9VpnuU7Ef0aSrfLNudbbBaNIVz3mq7JDl7Hmk7H4D//BbP0njfMqX+St81PVsv+w1TT8p8Tg\n",
       "H5Noe8O/e0ZybnSbp6V7kp6emm2m7D9lB1595JWqiWi/OH+GpYVhvetFtNlf/phOvJooO/p6w3/u\n",
       "4SJcZ4vzl7ZxF+u1znKdiP+MI1tdGg3SZTCKdNVfvio9dBlrPhmL//AfzNV/Vskqr3L0UXh+9mYO\n",
       "/lNm8I8VRXvDvz8O7Nxoloele3LeZBtO2X/KDrz6yCtVE5vl5SNsuyzZi83i8lOcB8MthDZaLzv6\n",
       "esN/6mGYHWuRY0vrtIv1Wme5TsN/RpKtLo0G2zwbRbrqL1+VHrqMNZuMxX/4D+bqP0n4k9Q/Hh5+\n",
       "l8vPh6Cv8/2ASbSleqXU4B9G3+Lw755xycibZVK2J5cP4HUXdV1v9UTZgVcfeZVqYnV7DxSX5Lde\n",
       "pLdC9FNNOvZqovTo6w3/qYfnJuLNOtguki7Wa53lOgn/GUu2uh7GleSrUaSr/vJV6aHLWLPJWPyH\n",
       "/2Cu/pMejir/8F3Ww5ddp4/SZBFXeplx+k+ZwT991dfe8O+ecToLJooX69I9SfJ8te5qnnqrJ0oO\n",
       "vMbIK1QTSX79ajCI1qV6kdwVlGm+HW4hNG+99OhrDv93vjkS5vly28V6rbVcJ+E/Y8lW1+Bvi08r\n",
       "6i1d9Zevyg5dxppPxuI//Acz9Z/t7vCm/vBd1mZzn1L2YZju03Wllxmn/5Qa/MPo2xx+fpdVfhoN\n",
       "401WpSfh4VYKcdLJPPVVT5QdeI2RV6gmVnlYrue3XqR3S23QA0Gbt1569DWH/7aHUTfrtdZynYL/\n",
       "jCdbhdeFuBpFuuoxX5Ucuow1p4zFf/gPZuk/6fG7kdN3WdH9+Zm3X6L95m6Brw4rIIr3UdEmE/Gf\n",
       "t4PPFtcM+zj6ouHfbVSxoghPWWW3zIrm9KknQXK4GuuyOAoj95+CgT9UyuVGXreaWDwdD1FiHSxu\n",
       "nwPRsSdDLYTmrReO/s1CKB7+40J43omxuCNuab2+S1als9UU/Gc82eryhokPX6SPIF31mK/eD13G\n",
       "mmnG4j83/ub/KcIxoP/8W+7BkvdfDvdpmsbni6SG4W2/8u2X7fIhN2xOJxyevv56s8nHHpS5P3SU\n",
       "X9P45afbn/KmrRcOPgiuh+Y8jb5g+Hcblezh9bn75aVcWb+f0+eenL/W2hZGoeEk/Z75WwiCFiLw\n",
       "fuD3lBz57+VQsiPLuw+wqNw6uBtEdjjGosuF0FEUyoz+59F1UHX4dxuVrXcarte3yap0tspby1Yv\n",
       "0tbcstX1x0MhOYp01Vu+ej90GWu+Getvkf88PviP/T9Ad/7T6v6f6JQhLsfT7u5TwuWXZJPeL/7T\n",
       "F5DR5fDnl5u09DXP9dTG60/XH9r4vrZg8Mn1WU+jLxp+kler+vKnRq9XQXs9p4892V0+VnaFUWi6\n",
       "/+f3zN+i0sL3qUUDv5vYsiOv/W3qrfF1uXWwuD4jWm66XgidRKHc6JPlyyAUDz9ZtvN9b/n1+i5Z\n",
       "lc5WzfPJi9A0z1blUnXf2Wp/X0iOIV31l6+Khi5jzTVj2f/DfzBD/znnpMWysDxY3X07cj6jcHe5\n",
       "X0uXSbThcz5tWTD4bB8kYfp79IXDv9+oUkWxvpylGZ9OzHw3p/c9iS9VTNSp/3QRg/szCd4OPEuz\n",
       "dXidzVIjf9ykQjVxdw+JVcl1cLxu3eGEjCA9X7luoIXQvPXC0WdxlsXrisO/36hF/6merMpnq/Ef\n",
       "/zaibBVeCsl9MI501V++ej/0p+wjY80oY/Ef/oP5+c/2XH6er5L6NiPGt69H0tNiP56CuJ60/xQN\n",
       "Pg6TXXS5JPPd6AuH/7BRlYrifBbMT3L58MXcrSfb81/TVSd1XU/1RMHAs+3hnKDrbJYZ+dMmVa6m\n",
       "dDlQYhWVXAfrn6UWbqMwyC6vN9lqonD0h3ulh3HF4T9s1Nr5PzWSVflsNXr/GVO2OhWK0eXk8uHT\n",
       "VX/56v3Qn7OPjDWXjMV/+A9m6D/Xvb6Xu4O/y4jJ5Xv6aH0+9vZwwNJ2O2X/KRz8cpWdKoaH0X8Y\n",
       "/sNGVSqK81H62+Wm+MPsrifp4vhhuurouJ6e6on3A0+i4+HZ10+WEiN/3qTC3TTOVxXenT9OP6+D\n",
       "n0/LZRIe7useR8HEq4nC0R9OEklXFYf/sFFb+3+qJ6sq2Wrs/jOmbJWfq/r00zu/t3TVW756P/Rf\n",
       "2UfGmk/G4j/8BzPzn2if58e6c3f4YVWYEZeXoysOHFNKug+zAZNo03qlePBJnt5fMnZ5PQyraPhP\n",
       "G5WuKOJNnsc/bPa7jx9M156kwTZO4/jjFmP2n+KBx+HDzb3LjPxpkwp3U4/SfRyn2+DTdC5vx6qs\n",
       "4/1qdTyHfD3xaqJg9Meye7GrNvynjVrxnzrJqkq2Grf/jC9b7fdpEowmXfWar94N/Sn7yFjzyVj8\n",
       "h/9gZv7zgvdZNK68ySTuf/pmJNn+cNBC8nn0BRvlrfTkuaCIK24x9vufvh/G4dDtdHX9hrrMyJ82\n",
       "ydsPwHMvDuYWRlOvJgrf04cT5deVhv+0UWvn/zRPVlM+/2e02WoE6WqofFWUfWSs+WQs/sN/8C3+\n",
       "E60q+8+LTSbqP8eRxGGwXgSr0hXFq43yVnpSqaB4scUU/ec4jOPlqRbb3br8yJ83ydsPwK+P0zjY\n",
       "7QddCJ1VE5f39KE4WFUa/tNG3fpPpWTV+joZ2n/GkK1GkK4G9p+X2UfGmk/G4j/8B3P3n2S1ydPD\n",
       "mbLL3e2X4lxesMnE/OdhJJufRR5nHz/JCjfKWwG6fwYAACAASURBVOnJ05y+7knBFlPyn4dhbA8j\n",
       "DVdZhZE/b5K3H4DnXqR5fjolerCF0Hrrv97TSXw5zL7k8J826sZ/aiSrDtbJUP4znmw1inQ1kP8U\n",
       "Zh8Zaz4Zi//wH8zdf+6+T3n+wzKuvMnk9v+8H8nn0dcafgc92bU0T0N9n/p24NVH3uTb1NLrYL1c\n",
       "7oZdCB22/vntV2r4Xe3/aZCsWlsnwWD7f8aXrQZMV0Pnq1fvehlrPhmL//AffI3/7KLKn6m/N5mq\n",
       "/7wYSQn7qzP89nvye4tJ+s+LgVcfeQvVRI110PtC6K71thZCx/7TTpCm6j/jyVZDpqvBv6+JqvuP\n",
       "jDWdjMV/+A++xn+y6mkkazPNlaGzeiULqo++3vDb70nWVhDyLmNQ4/1XY+QtVBNZX++EIaLQ20Lo\n",
       "2H/aCVKDfDJkjEaUrYZMVwPnq5fvehlrPhmL//AffI3/1EkjbZc9XTXV1+hbOaKkeU/yEcagVks1\n",
       "YpC335GO3gmzXghdH/82tmQ1dLzHk62GTFfDZz4ZazYZi/9ciLJIEY7BSP8kNR/kP/yH/6gm+A//\n",
       "4T/8R8Yq/0LRnz8FSvDwYJLNuv60/wdDMtD+n8X+m5NondF3U1FU7sls/KdGDDqoJjp6J8x6IfTu\n",
       "PwMnq6HjPZ5sNWS6Gj7zyVizyVj2//AffLH/bDbfnETrjL6biqJyT2bjPzVi0EE10dE7YdYLoXf/\n",
       "GThZDR3v8WSrIdPV8JlPxppNxuI//Adf7D+rGm/7+STROqPvpqKo3JPZ+E+NGHRQTXT0Tpj1Qujd\n",
       "fwZOVkPHezzZash0NXzmk7Fmk7H4D//BF/tPtFhUPu9tPkm0zui7qSgq92Q2/lMjBh1UEx29E2a9\n",
       "EHr3n4GT1dDxHk+2GjJdDZ/5ZKzZZCz+w3/wxf4TRPtl1RP75pNE64y+q4qiYk9m4z81YtBBNdHR\n",
       "O2HWC6F3/xk4WQ0e7/FkqwHT1Qgyn4w1l4zFf/gPvtl/gmAXr782idYYfVcVRcWezMd/qscg76Qj\n",
       "XbwTZr0Q+vefYZPVCOI9nmw1WLoaReaTseaRsfgP/8F3+88Ey4AhR99dRTG5KmC0EbAQJjD+fGox\n",
       "Gmu8J5Ct5uY/MtY8Mhb/4T/gP5Io/+E/FgL/4T/8R8biP/wH4D+SKP/hPxYC/+E//EfG4j/8B+A/\n",
       "/If/8B/VBP/hP/xHxuI//AfgP/yH/6gm+A//4T/8R8biP+Pnb/6fIhwD+s+/NR+8f1o/jDSJjmb4\n",
       "0wpCPr8IWAgTGP/kYtRq9fhl2Wqc/pPLWN+dsf4W+c/jg//Y/wN05z/N9/+M+iuwMb58MJacln/t\n",
       "HIzmU+XLp2ESn+6ylTB8+5tAGFrsgP0//Af8R0XBf/iPaoL/yFaWCv/hP/wH4D8qCv7Df1QTYiRb\n",
       "WSr8h//wH4D/qCj4D/9RTSh9ZStvAmHgP/wH4D8qCv7Df/iPbCVbeRMIA//hPwD/UVHwH/7Df2Qr\n",
       "2cqbQBj4D/8B+I+KwseoakIcZCvZyptAGPgP/wH/4T8qCh+jpoH/yFaylTeBMPAf/gP+48NEReFj\n",
       "1DTwH9nKUuE/Mhb/4T/gPz5MVBQ+Rk0D/5GtLBX+I2PxH/4D/uPDREXhY9Q08B/ZylLhP/yH/5z4\n",
       "m/+nCMeA/vNvzQd9mKgofIyaBv4jW1kq/EfGqlL1F/jP44P/2P8DdOc/9v+oKHyMmgb+I1vJVt4E\n",
       "wtB9B+z/4T/gPyoK/sN/VBP8R7ayVPgP/+E/AP+pOoqOUVEMHgT+M4aFMNeVIFt9m/8IgozFf/gP\n",
       "+M/k/WdiXzrN038mVYPOtJoIrATZSrYaflT8R8biP/wH/EdFwX/4j2qC/8hW/If/8B/+w3/wdf7T\n",
       "1e7piVQU3e+cH7IfU/CfEUdgEgthbithkE7KVmPoRy4IXxCGcQaC//AffKH/dFXWTiSH9p/9e+zH\n",
       "JPxntBEIvquaGEkcZKtvzVZT8Z/RLJRphmGcgeA//Af8R0XBf/iPaoL/iBH/4T/8h/8A/EdFwX/4\n",
       "j2qC/8hW/If/8B/+A/CflnJcuFirKIb2nwpB4D/dzFKldcB/phAk2aqrWeo9X/GfWWYs/sN/wH8G\n",
       "qyiSxSbpsn3+03YQ+E8Xs1RxHfCfKQRJtupmlgbIV/xnlhmL//Af8J/BKopl/M1V3zj8p1oQ+E8H\n",
       "s1R1HfCfKQRJtupklobIV/xnlhmL/1yIskgRjsFI/yQ1H5yy/8R51Gn7/Kf1IPCfDmap6jrgP1MI\n",
       "kmzVySwNka/4zywzVvTnT9kHk2zW9af9Pxj0M/4r9/8sNiqKwf2nWhD4TwezVHUd8J8pBEm26mSW\n",
       "hshX/GeWGcv+H/4D/jOU/ziiZAT+Uy0I/KeDWap8MAn/mUCQZKtOZmmIfMV/Zpmx+A//Af/hP/yH\n",
       "/6gm+A//4T/8h//wH4D/8B/+w39UE/yH//Af/sN/+A/Af/gP/+E/qgn+I1vxH/7Df/gPwH9uJBv+\n",
       "w3/4D/+ZQbbiP/yH//Af/gPwnxLtbvLSWTTc5/k+3u/3OxVFW61mxzmN481+XfqjbJemq1WQbflP\n",
       "a+1G4SEIWZCsyoUgWf2EIM74z7iy1X2QZKsulsppVuP9Jk5Glq++zH++JWPxH/4D/tNRRbHLy/vP\n",
       "z8b700KMVRSttbo8zmkQ5+uSQdiHh4+/fd5xCL7Jf8JlePgc3a0WWakQrDbHYMUb/jOqbPVY8slW\n",
       "XRTe+eZcbO7Gla++y3++JmPxH/4D/tNRRZHGH1bVfRZd5+HpE61gGxVFtVaT85xu87RcENLT87IN\n",
       "/2mp3Wi/OH+Kpu/f2HchiDb7yx9T/jOmbPVQ8slWXRTel1kN0uW48tU3+c8XZSz+w3/Af7qpKFbJ\n",
       "qmi/w9NHWXh+7kZF0Vqr2XlOs0td8SkI5+dvQ/7TUrub5eVDdLssE4LN4vJTnPOfMWWrB/+Rrbrw\n",
       "n8usBts8G1W++ib/+aKMxX/4D/hPJxVFEv58nhV3/P7okfPR9+t8/zVVX+f+c/lA2iyTUkG4lB3r\n",
       "rou6r/Gf1W0FrNMSIUhvNXhhOc5/es9WD4e6yVZd+M/1OLYkX40qX32R/3xTxuI/F/7m/ynCMaD/\n",
       "/FvzwSZJJMo33VUU6eGQ+sJzIh++5TtVEskirlauNujmbfTDVhQt9+OujdPpP1G8WJcLQpLnq3Vl\n",
       "Y5h+BFrvyK2Ou345GkTrzyFI7urpNN9+zUqYQLZ63CXxvdmq7TDkv2b1ONnxqPJVZ+/B0bwdvjJj\n",
       "/S3yn8cH/7H/B+jOfwbZ/7NIO6sotrvDqjp/jRfdr65rVt1s7jPqPgzTfbou2qDlD7Pr6AeuKNrt\n",
       "R36X1H7mNIw3WdkgBGH+w/nqS12GYGwRaLsjl0ZWzwcevpzUWwjSu5V+OrTqdRTmthImkK0e1sk3\n",
       "Z6uWw5DfF2HhNQ+tSsWhr3zV2XtwNG+Hr8xY9v/wH3yx/7Scne5bOeSn5PI13uo+qZ73RkT7zV1+\n",
       "WR0WYBTvo/cbOKKkYqvhKantllnJIBwOA9rn+bLzEHzL8W+L5yNCXkzqfQgWt4+h6BSG11Fw/FvP\n",
       "2eppnchWXfjP9fSfID7uSfgch77y1fcc//ZVGYv/8B9Myn/yVnjxEi23G+7TNI0LDo/fLh++aNqc\n",
       "PsQKjvtur5edDX8c/bi2tl9eqrV1uSCca8HCwxhmHoF2F9jy7iM0KhGCuw5lhUdjdfcObDmtzSNb\n",
       "Pa8T2aqL6N4uY50vR5avRhOErsPwVRmL//AfTMp/JvKNanRKkXcHEz+TbNL73HP67jXK42r99o1q\n",
       "QRuXyXx/+bfHIOwu3+Ptug7B9+z/uU3uukQIFtf1Ei3d/2c82eopWclW7S+V4O70n7eV9FD56pv2\n",
       "/3xRxuI//Af8p/2K4nx07uL4Pd42vLtbQJheBrNa3hLs+YTK3elGNW82UFFUanV9qSKOR5OUCML5\n",
       "Cckh73cbgm/xn7s7aKzevq/vQnC8YN/hXJQgPV6y710U+E/f2ep+nchWnfjP9fSf6Hjdls9x6C9f\n",
       "fY//fFXG4j/8B/yn9Ypie668T5eJXUW3TJIGu+vXRPHtKIf09Izj2ZfrtxuoKKq0ej795ye3bUoF\n",
       "YXv+Ki9dFTyd/1RpN7nueVtF7yf1FoL1z0oPt1EYZKcrlr+LAv/pPVvdJSvZqhP/uZz+E53Orv8Y\n",
       "hx7z1ff4z1dlLP7Df8B/2q4okkt6PN4ePYl2t53kUbC6XrklueygiNbnw44PR2ptt283UFFUafV8\n",
       "ksJ2eThb9XMQgnRxPJ1hdfgCr+MQfM39f87XVN4di4l3k3oLQRAuk/BwW/v4uBzeRoH/9J6tbkGS\n",
       "rbrxn/M9lbanS3t9jkOP+eqL7v/zTRmL//Af8J92K4pon+fHC8TsDj8cPqP29+efbG7Hdi/P6XF1\n",
       "4PjndB9m7zdQUZRvNd7kefzDZn9+83wKQpAG2ziN4+Kn859q7UbpPo7TywnabyZ1eSsT1vF+tVoe\n",
       "nr8uChr/6T1bXYMkW3WxVM75ar9Pk5KLpcd89UX+800Zi//wH3yv/3R6R8EbUX5/J7W7lbaMq23g\n",
       "/qe9BaHbEHzL/U9LTupzCA7KGkZFQXP/08GD9KXZqsv7nzaIQz9BmP/9T78qY/Ef/oPv9Z8u7yh4\n",
       "x25zOJcyOl0sdn13HP27kuLdBu5/2lsQug3Bt9z/tOSk/qom4mC3Lwya+58OHqRvzVbd3f+0SRx6\n",
       "CsLs73/6VRmL//AffLH/dFTWPhHFYXJIhsdR3F0f5v3+nzcbOKKktyB0G4LvOf6t1KQ+hyDN89O5\n",
       "4G+D5vi3wYMkW3W8/6dSHL4kCH2HYd4Zi//wH/CfjiuKC8dR3B0S/L6keLOBiqL3IHQTgi/1n3eT\n",
       "+hyC9XK5Kw4a/xk8SLJVH0ulahxmHoShwjDPjMV/rp6bRYpwDEb6J6n54HQqil0UbLb3u8Q/lRS/\n",
       "NlBR9B2EjkLw3f7za1I/fg/wK2j8Z/xBkq3a8J9qcZh7EAYKw0wzVvTnT9kHk2zW9af9Pxj0M/4L\n",
       "9v/8ZJA0fLiP+ocs+msDFUXfQegoBN/tP78m9VM18Tto/Gf8QZKt2vCfanGYexAGCsNMM5b9P/wH\n",
       "/KenI0p+8fGQkm4+c776+LeGQeA/HcxS1XXAf6YQJNmqk1kaIl99/fFv88xY/If/gP/wH/7Df1QT\n",
       "/If/8B/+w3/4DzB3/+npjhpvWeyHzKHfdf+floLg/j8dzFLVdeD+P1MIkvv/dDJLQ+Srr73/z7wz\n",
       "Fv/hP/he/+npjhpv2WyGzKHfdf+floLg/j8dzFLVdeD+P1MIkvv/dDJLQ+Srr73/z7wzFv/hP/hi\n",
       "/+morC3LquKqc0TJ4EFw/FsHs7Sq/Onj+LfxB0m26mSWhshXjn+bZcbiP/wH/Gco/4kWi6jL9vlP\n",
       "60HgPx3MUtV1wH+mECTZqpNZGiJf8Z9ZZiz+w3/Af4bynyDaL7Mu2+c/bQeB/3TioNXWAf+ZQpBk\n",
       "q25maYB8xX9mmbH4D/8B/xnMf4JgF69VFMP6T6Ug8J9uZqnSOuA/UwiSbNXVLPWer/jPLDMW/+E/\n",
       "4D8D+s8Q7fOfoVvnP1aCbCVbdT8Y/iNj8R/+A/6jouA//If/8B/Ziv/wH/7Df878zf9ThGNA//m3\n",
       "5oM1X+4X31RRdDP6kfRjEv4zkghMdSHMbSUM0knZ6guWyuwWiozV3vD/FvnP44P/2P8DdJfV+tz/\n",
       "01XWm0hF0V/SH6If+ZRCMJpPlXxaw5rrSpCtvixbTcR/RrhQZKwWqn77f/gP+I+Kgv/wH9UE/xEj\n",
       "/sN/+A//AfhPtVF0jIpi6CDMtZzIv3ohfKf/yFZfsFT4j9XAf/gP+M/YsvnQOWWeFcWU5mCm/jO5\n",
       "afhG/5GtLBX+880Zi//wH/AfFQX/4T+qCf4jW1kq/If/8B+A/6go+A//UU2IkWxlqfAf/sN/AP6j\n",
       "ouA//Ec1ofSVrbwJhIH/8B+A/6go+A//4T+ylWzlTSAM/If/APxHRcF/+A//ka1kK28CYeA//Afg\n",
       "PyoKH6OqCXGQrWQrbwJh4D/8B/yH/6gofIyaBv4jW8lW3gTCwH/4D/iPDxMVhY9R08B/ZCtLhf/I\n",
       "WPynPlEWKcIxGOmfpOaDPkxUFD5GTQP/ka0sFf4jY1Wo+v/8Kftgks26/rT/B4OuZvt/VBQ+Rk0D\n",
       "/5GtZCtvAmHooQP2//Af8B8VBf/hP6oJ/iNbWSr8h//wH4D/qCj4D/9RTYiRbGWp8B/+w3+AcflP\n",
       "PgDjSaJ5PpbxTzEI+VQjYCGMYyHkU+jmaII0ohBNMwz5vBaKjDXgBPAf/oPJ+88QSzOfVyOtvGo+\n",
       "xSDkE41APpKefPtCqPyystW3rpXRTOB4PjK+O2MNHQj+w3/Af1QU/EdNZyHwH/7Df2Qs/sN/AP6j\n",
       "ouA/ajoLgf/wH/4jY/Ef/gPwH/7Df9R0FgL/sVb4j4zFf/gPwH/4D/9RTfAf2cpa4T8yFv/hPwD/\n",
       "4T/8RzXBfwSJ//AfGYv/8B9gSP8JF+svrihqjr4D/6nTk3n4T70YtF1N1H0nfPtC6NV/BGkslfdQ\n",
       "6WoUOU/GGoH/tJCx+A//wTf7T7LY1Hvjz6KiqD361v2nXk/m4D91Y9BuNVH/nfDtC6FH/xGkNoef\n",
       "975oZ+I/MtYI/KeVjMV/+A/G4T/bmg82yyLLeKLFwLCjb9t/avZkBv5TOwatVhMN3gnfvhD68x9B\n",
       "avVF894X7Tz8R8Yagf+0k7H4D//BOPxnkP0/ccH6n39FUX/0bftPzZ7MwH9qx6DVaqLBO+HbF0J/\n",
       "/iNIY/GfAdPV8DlPxhqB/7STsX4Up0gJ7h/kP0BnLIsUZ9mZ/yw231xR1B992/5Tsycz8J/aMWi1\n",
       "mmjwTvj2hdCf/wjSWPxnwHQ1fM6TsUbgP+1krG2R/2z5D9APizyr+WCjXPTdR5S0fdRP7z2Zgf+0\n",
       "ewBm3v874dsXQn/+I0hj8Z8B09XwOU/GGoH/tJOx+A//Af9RUfAf/mMh8B/+w39kLP7Df4D+2BQp\n",
       "zmYe/pOXgf90OvROYsB/vnghzNV/5hSk6fpPN1HgP1NfDe1krF2+fP+sxwf5D9AZ+zys+eCE/Ge4\n",
       "ZvlPhQ34zwgWQpBPZCHM1n9mlK0m6z+jWyky1jhWQzsZKyvyn4z/AH35z6rmg6+ySFL27MBZ+k8P\n",
       "o+c//If/tOQ/ZdfrPP2nj2zFf/gP//n9qmG+eP+sxwf5D9AZcZ7WfPBVFtmUXax3aSTc5/k+3u/3\n",
       "u6lXFHVGX3X4n/wnOzYXx5v9umpPgmCXpqtVkG0n6D8Vx1175CWqiSg8dCQLklXVXiSrn17E2aT9\n",
       "p8romwy/Bf8pu14bLNcvz1af1sqpuXi/iZNgTOmqh5VSdehdZqwqi3YWGat2vm4pY63ygi8fHh/k\n",
       "P0BnpHlc88EXiWeX1/lMDfL9aSWU+mplvBVFzdFXG/7n/T/L/dld11V7sj8c7Rjt8w5mq4f9P5XG\n",
       "XXvkJWq6ZXi4RcRutcgq9mK1OXY93gQDLoSGxWKl0TcZfnP/Kb1eGyzXL89Wnyvvc62X5btgROmq\n",
       "l28Kqg29w4xVadHOImPVztctZaz0tIreVV17/gP0QVi0EgsffJF40rjsu/k+jazPZxntS2083oqi\n",
       "3ugrDv+j/yTn5rYf9t397kl62iDbdDBb3ftPtXHXHvmnaiLaL6LLx1hSqRfR5rLYlmkw3EJoVNVV\n",
       "HH2T4Tf3n9LrtcFy/fJs9bHyvjQXpMtgROmqD/+pOPTOMlbFRTuLjFU7X7eUsSocdcN/gM7YFe2J\n",
       "LXzwd+JZJau8xtFH4XmjzbQripqjrzj8j/6TnZvLPly74ndPzhtuww5mq3v/qTbu2iP/VE1slpf7\n",
       "g2+X1XqxWdw+AKfqPxVH32T4jf2n/HptsFy/PFt93vNw6cQ2z0aUrnrZU1pt6J1lrIqLdhYZq3a+\n",
       "biljVbjqFP8BOnz/LWs++CvxJOFPTi97FstdLj8fiL7+sLNp5BVF3dFXHP5H/7nk4s0yqdaTy8fw\n",
       "Oulgtrr3n2rjrj3yD9XE6vYWWKeVepHeytFylekI/afq6JsMv6n/VFivDZbrl2erj/5zPYAryVcj\n",
       "Sld9+E/FoXeVsaou2llkrNr5uqWMtSlae48P8h+gM6Kiw8CjD8eIPz6aHnYYlfsq6+Err9NHabKo\n",
       "f/7LGCqKuqOvOPyP/nM6DSaKF+uKPUnyfLVucUZ79p9K464/8uJqIrm7dE+0rtKL5K6gTPPtcAuh\n",
       "QVVXdfSNht/Uf8qv1ybL9cuz1Uf/uYZ9W+aEot7SVR/+U23oXWWsqot2Hhmrbr5uK2Mti4Tp8UH+\n",
       "A3RHXvQGzIvfnQ9Lc7s7vJvLfZW12dynlH0Ypvu0ZD4faUVRd/RVh//Jf9aH5sJ4k1XvSXi4lVyc\n",
       "dBKEzv2n2rjrj7y4mliVPPjudy/Suy/9Bj20qkFVV3X0jYbf0H8qrNcmy/XLs1X+cdWG1yW4GlG6\n",
       "6sF/Kg69q4xVddHOI2PVzdctZawoz6O3T3p6kP8A3bEo+u5iUfzFxsPSTI9firz/Kiu6nqwZ7Td3\n",
       "K3x1WAFRvI9KbNko2UXXs5muP93+1DQ3fxp9tghfjr7E8G+blvCf8JRPdsusahwOB8Xs8/dHPN5H\n",
       "obap/J75Wwga+c/ncT+MpdLIy1cTixIHQrye/8XtcyB625OWFkLLUbhuUWb0d2/mysN/XAjN/Kd0\n",
       "tqq8XNvOVi/S1mSy1cdrJV7fMfG7T5pB0lXXK6Xc0PvIWNVS1lwyVpV83UHGqnLSAf8BuiMuOgzi\n",
       "7sH8FfffSO3TNI3fHxa+DsPzvubt8iEpbE7L/f2XYLct3/bjA5eUdT3C9/rT9YcGzZYZfRAsty9H\n",
       "/3n4t03LxGG/vBQq64pxuHyttS0Rhfpz9Xvmb1FpEoGP476n2sifPzoLerK8++ouqjT/d2PJ3q3I\n",
       "1hZCy1G4NFti9D9PWgc1h3+37ceyp7VsVXm5tp+tXqStqWSrj6v2+vO7inCgdFUQhTZWSqmh95Kx\n",
       "KqWs+WSsfNCMlRVdV+rpQf4DdEdYdCnGsPhiwndLMzqlhqL7Gu/OjyWb9D7XnL6GjIoOgt4tWvkS\n",
       "qelzmow+uR5v/Tj6EsNP8k8dzZ+bK7wM2us47C7fZe1KRGF8x7+VGPfdjFYceelvUxe3B3frSvO/\n",
       "uE5utNwMuRAa7f/5PPpk+TIIpYafLBt1tFa2qr5cZatya+X44/5zCTlEuurh+LcyQ+8hY1VKWbPJ\n",
       "WFXydQcZa1X0/cHTg/wH6PINuKn54EPiOXvS4rjgszRbh2EchFm8fpUKV3dfi5zPKNydTOvTliOt\n",
       "KD6PPtsHSZj+Gn2Z4d9t+tF/1pcP0+NBFVXiEF/Kl6hEFEbnP5/HffpbWmPkj1sWVhN395BYVVsH\n",
       "x8vXHU7LCNLjBewGWwgNqroyo8/i7Ppr1eHfb9vMf6pkq6rLVba6Zav806oNLyXkPhhTuuref0oM\n",
       "vZeMVTFlzSRjVcnXHWSsfZG4Pj3If4AOyfO6D94lnu25/DxdHjXbHk7DOFwqP4xfpsL49r1IetoF\n",
       "fTwTcf15y1FWFCVGH4fJLjpfmvlu9GWGf7/pJ/85nwZzFtcKcdie/5iuymw3Ov/5PO7z35LqI3/a\n",
       "svj6b5e9T6uo2vyvfz71wm0UBtnphQZbCI2u//Z59Id7pV9/rTj8h22b+E+1bFVxucpWt2yVf1q1\n",
       "p9owOp1WPp501b3/lBh6LxmrasqaR8aqkq87yFiLgssfPD/If4AOWRS9AwsfvCWe637e423Bk+h4\n",
       "1O/hm/h09TIVJpev66P1+RDcw3FL2+3nLcdYUZQZ/XKVHUqGx9GXG/79pp/853x8/nZ5OFGzQhyC\n",
       "dHF8xuqQrD9vNzr/+Tjuy9+iyiN/3rKwmjhfVHh3/DitMv9BuEzCw33d4ygotekY7/9TYvTLh6mt\n",
       "Nvzl4695l+v1bqorLlfZ6patPt15Mz/X82kQjCpd9XCn4I9D7yljVUxZ88hYVfJ1+xkrKjrj6/lB\n",
       "/gN0yKro+OPCB6/reZ/nxwuj7A4/rI5fAv68sw/reLF7nQqX553zqwPHl0j3YVZmy9FVFKVGn+Tp\n",
       "3TVjl9eDGkoM/3HTQv+JN3ke/7DZ7y5fxpaMQ5AG2ziN45Lbjcx/So378Le7e3xXGPnjlsXVRJTu\n",
       "4zjdBlXn/+d58X61Op48vg4GXAiNqrqPo08ef600/Kdt6/pP9WxVabnKVumHQxSfVu1+nybByNJV\n",
       "1yul3ND7yVgVU9YsMlaFfN1BxtoVnj349CD/ATqk8PZrxfdme7s0D4fJhvvjybDr1x9kcd0tx3pH\n",
       "weIxZPvDUQvJp9F/3vTj/U9bicOn7UZ4/9OP/T/8LV1df68w8sct8wo9qTz/B4ELoyEXQovF4us3\n",
       "8/2vlYb/tG3D+59WiFKl5Spb3W2aV+v8aNJV3ytlPBmr8mKYZMaqkK87yFhx0ek/zw/yH6BLlsu6\n",
       "D75bmsdrAB2+D/lJAKsgiFal/efzluOvKF6N4efX9SJYfaooPm9ayX/qxuHjdiP3n1f9P/5tsd2t\n",
       "K4/8acsK1UT1+d/HwW4/6EJor6p782Y+/1p9+E/btuY/H6e60nKVre42reY/40lXvfvPWDJW9cUw\n",
       "yYxVIV93kLGWRR1+fpD/AF2SFt0ypfDBd0tze0gSm8PR5fHhu5H1cvfz42qTp+GnkuLzluOvKF6N\n",
       "4fBrnK0/VRSfN63kP3Xj8HG7kfvPq/4f/xausuojf9qyQjVRff7TPD8tuMEWQntV3bs3cxKvojrD\n",
       "f9q2Nf/5ONWVlqtsdbdpNf8ZT7rq3X/GkrGqL4ZJZqwK+br9jLUuOqbm14P8B+iSbdHV6AsfLL00\n",
       "f+3vXcZ1t5zAESXtjf73ptWOf2urJ7uuTKWHVl9PY92RVz6mp9r8r5fL3bALoati8eVcNhh+i8e/\n",
       "fXqtBsv1y7NV3qzzg6WroVfKeDLWx8UwyYxVO1+3kbHCosPffj3If4BOqX0AXOkcGtX9TP295fQq\n",
       "ivqjf7FpI/+p25Nf203Mf15MY92RN6om3mww0gAAA0hJREFUWn0nTM5/Xsxlk4XQmf/8eq3xBWkq\n",
       "2aqZ/wyXrgb3n7FkrCkshu5WQzcZa1NUbv16kP8AnRLm23oPll2aWe00krWS7MrQXUVRf/QvNm3k\n",
       "P3V7kjU3lU5iUH/ctUfeqJpo9Z3Q1ULorKrLglYXQmf+k00gSBPJVs38Z7h0NfBKGU/GmsRi6Gw1\n",
       "dJKx1kVH1Px+kP8A3VJ8kbe4zS9eqqaRFl+z9VkbYPQNj39rqyf51CPQIAZ5mz1p8E749oXQ3fFv\n",
       "gtTp8PPeF20+/SDIWOMIRPOMFRfd/PT3g/wH6JZV0ZIseJD/8B/+w3/4jyDxH/7Dfz6/alT0ZfOL\n",
       "B/kP0C1R0S7ZggfrL83F/psrivqjb9t/avZkBv5TOwatVhMN3gnfvhD68x9BGov/TDtdNeyIjDWC\n",
       "QDTOWGFRwf/iQf4DdExYtAPo/YP1l+Zm880VRf3Rt+0/NXsyA/+pHYNWq4kG74RvXwj9+Y8gjcV/\n",
       "pp2uGnZExhpBIBpnrGVa8IQXD/IfoGuWqzoP1l+aq9pv+zlUFKsGiz4fQ09m4D+1Y9BqNdHgnfDt\n",
       "C6E//xGksfjPtNNVw47IWCMIRNOMVfmbZv4DdM2u6G349sH6SzNaLKLvrSjqj75t/6nZkxn4T+0Y\n",
       "tFpNNHgnfPtC6M9/BKnV4ee9L9p5+I+MNYJANMxYUZ4VtP3qQf4DdE68r/Fgk0+y/TL72oqi/ujb\n",
       "9p+aPZmB/9SOQbs1Xf13wrcvhP78R5BaHX7e+6Kdh//IWKP4NqBRxqpeZvEfoHsWWfUHGy3NXbz+\n",
       "2oqi9uhb9596PZmD/9SNQds1Xd13wrcvhB79R5DaHH7e+6Kdif/IWKMIRIOMtV0W7Dx6/eDs/edI\n",
       "HACDvhGLluabB4dYmjOpKFp91fxLg5CP5kVzC2H0Lytbfetayb97pchYYwnEouBG88GvBxd17+46\n",
       "IaLsyFYBjmHZJpUfVFHwHzUd/+E/gsR/+A//+fCqRWV+9OvBkxpkAYARoqLgP2o6/sN/BIn/8B/+\n",
       "M5kJAMB/+A//UU3wH0HiP/yH//AfACoK/sN/VBP8R5D4D//hP/wHwP16HoLvHv3L8X9rEEYTgMBC\n",
       "GP8EyFbWio8MURhZID7z/wFFk+RdgOeyKwAAAABJRU5ErkJggg==\n",
       "\" style=\"display:inline;vertical-align:middle;\" /></a></span>"
      ],
      "text/plain": [
       "|- forall_{h in NaturalsPos, k in NaturalsPos, m in NaturalsPos, n in NaturalsPos} [forall_{A_{1, 1}, ..A_{1, _b}.., A_{1, k}, ....A_{_a, 1}, ..A_{_a, _b}.., A_{_a, k}...., A_{m, 1}, ..A_{m, _b}.., A_{m, k}, B_{1, 1}, ..B_{1, _b}.., B_{1, n}, ....B_{_a, 1}, ..B_{_a, _b}.., B_{_a, n}...., B_{m, 1}, ..B_{m, _b}.., B_{m, n}, C_{1, 1}, ..C_{1, _b}.., C_{1, h}, ....C_{_a, 1}, ..C_{_a, _b}.., C_{_a, h}...., C_{m, 1}, ..C_{m, _b}.., C_{m, h}, D_{1, 1}, ..D_{1, _b}.., D_{1, n}, ....D_{_a, 1}, ..D_{_a, _b}.., D_{_a, n}...., D_{m, 1}, ..D_{m, _b}.., D_{m, n}, S_{1, 1}, ..S_{1, _b}.., S_{1, n}, ....S_{_a, 1}, ..S_{_a, _b}.., S_{_a, n}...., S_{m, 1}, ..S_{m, _b}.., S_{m, n}, R_{1, 1}, ..R_{1, _b}.., R_{1, k}, ....R_{_a, 1}, ..R_{_a, _b}.., R_{_a, k}...., R_{m, 1}, ..R_{m, _b}.., R_{m, k}, Q_{1, 1}, ..Q_{1, _b}.., Q_{1, h}, ....Q_{_a, 1}, ..Q_{_a, _b}.., Q_{_a, h}...., Q_{m, 1}, ..Q_{m, _b}.., Q_{m, h}} (( MultiQubitGate(B_{1, 1}, S_{1, 1})  & ..MultiQubitGate(B_{1, j}, S_{1, j})..  & MultiQubitGate(B_{1, n}, S_{1, n})   \\\\ \n",
       "   \\colon  & \\colon  & \\colon   \\\\ \n",
       "   MultiQubitGate(B_{i, 1}, S_{i, 1})  & ..MultiQubitGate(B_{i, j}, S_{i, j})..  & MultiQubitGate(B_{i, n}, S_{i, n})   \\\\ \n",
       "   \\colon  & \\colon  & \\colon   \\\\ \n",
       "   MultiQubitGate(B_{m, 1}, S_{m, 1})  & ..MultiQubitGate(B_{m, j}, S_{m, j})..  & MultiQubitGate(B_{m, n}, S_{m, n}) equiv  MultiQubitGate(D_{1, 1}, S_{1, 1})  & ..MultiQubitGate(D_{1, j}, S_{1, j})..  & MultiQubitGate(D_{1, n}, S_{1, n})   \\\\ \n",
       "   \\colon  & \\colon  & \\colon   \\\\ \n",
       "   MultiQubitGate(D_{i, 1}, S_{i, 1})  & ..MultiQubitGate(D_{i, j}, S_{i, j})..  & MultiQubitGate(D_{i, n}, S_{i, n})   \\\\ \n",
       "   \\colon  & \\colon  & \\colon   \\\\ \n",
       "   MultiQubitGate(D_{m, 1}, S_{m, 1})  & ..MultiQubitGate(D_{m, j}, S_{m, j})..  & MultiQubitGate(D_{m, n}, S_{m, n})) =>  \\\\ ( MultiQubitGate(A_{1, 1}, R_{1, 1})  & ..MultiQubitGate(A_{1, j}, R_{1, j})..  & MultiQubitGate(A_{1, k}, R_{1, k})  & MultiQubitGate(B_{1, 1}, S_{1, 1})  & ..MultiQubitGate(B_{1, j}, S_{1, j})..  & MultiQubitGate(B_{1, n}, S_{1, n})  & MultiQubitGate(C_{1, 1}, Q_{1, 1})  & ..MultiQubitGate(C_{1, j}, Q_{1, j})..  & MultiQubitGate(C_{1, h}, Q_{1, h})   \\\\ \n",
       "   \\colon  & \\colon  & \\colon  & \\colon  & \\colon  & \\colon  & \\colon  & \\colon  & \\colon   \\\\ \n",
       "   MultiQubitGate(A_{i, 1}, R_{i, 1})  & ..MultiQubitGate(A_{i, j}, R_{i, j})..  & MultiQubitGate(A_{i, k}, R_{i, k})  & MultiQubitGate(B_{i, 1}, S_{i, 1})  & ..MultiQubitGate(B_{i, j}, S_{i, j})..  & MultiQubitGate(B_{i, n}, S_{i, n})  & MultiQubitGate(C_{i, 1}, Q_{i, 1})  & ..MultiQubitGate(C_{i, j}, Q_{i, j})..  & MultiQubitGate(C_{i, h}, Q_{i, h})   \\\\ \n",
       "   \\colon  & \\colon  & \\colon  & \\colon  & \\colon  & \\colon  & \\colon  & \\colon  & \\colon   \\\\ \n",
       "   MultiQubitGate(A_{m, 1}, R_{m, 1})  & ..MultiQubitGate(A_{m, j}, R_{m, j})..  & MultiQubitGate(A_{m, k}, R_{m, k})  & MultiQubitGate(B_{m, 1}, S_{m, 1})  & ..MultiQubitGate(B_{m, j}, S_{m, j})..  & MultiQubitGate(B_{m, n}, S_{m, n})  & MultiQubitGate(C_{m, 1}, Q_{m, 1})  & ..MultiQubitGate(C_{m, j}, Q_{m, j})..  & MultiQubitGate(C_{m, h}, Q_{m, h}) equiv  MultiQubitGate(A_{1, 1}, R_{1, 1})  & ..MultiQubitGate(A_{1, j}, R_{1, j})..  & MultiQubitGate(A_{1, k}, R_{1, k})  & MultiQubitGate(D_{1, 1}, S_{1, 1})  & ..MultiQubitGate(D_{1, j}, S_{1, j})..  & MultiQubitGate(D_{1, n}, S_{1, n})  & MultiQubitGate(C_{1, 1}, Q_{1, 1})  & ..MultiQubitGate(C_{1, j}, Q_{1, j})..  & MultiQubitGate(C_{1, h}, Q_{1, h})   \\\\ \n",
       "   \\colon  & \\colon  & \\colon  & \\colon  & \\colon  & \\colon  & \\colon  & \\colon  & \\colon   \\\\ \n",
       "   MultiQubitGate(A_{i, 1}, R_{i, 1})  & ..MultiQubitGate(A_{i, j}, R_{i, j})..  & MultiQubitGate(A_{i, k}, R_{i, k})  & MultiQubitGate(D_{i, 1}, S_{i, 1})  & ..MultiQubitGate(D_{i, j}, S_{i, j})..  & MultiQubitGate(D_{i, n}, S_{i, n})  & MultiQubitGate(C_{i, 1}, Q_{i, 1})  & ..MultiQubitGate(C_{i, j}, Q_{i, j})..  & MultiQubitGate(C_{i, h}, Q_{i, h})   \\\\ \n",
       "   \\colon  & \\colon  & \\colon  & \\colon  & \\colon  & \\colon  & \\colon  & \\colon  & \\colon   \\\\ \n",
       "   MultiQubitGate(A_{m, 1}, R_{m, 1})  & ..MultiQubitGate(A_{m, j}, R_{m, j})..  & MultiQubitGate(A_{m, k}, R_{m, k})  & MultiQubitGate(D_{m, 1}, S_{m, 1})  & ..MultiQubitGate(D_{m, j}, S_{m, j})..  & MultiQubitGate(D_{m, n}, S_{m, n})  & MultiQubitGate(C_{m, 1}, Q_{m, 1})  & ..MultiQubitGate(C_{m, j}, Q_{m, j})..  & MultiQubitGate(C_{m, h}, Q_{m, h})))]"
      ]
     },
     "execution_count": 21,
     "metadata": {},
     "output_type": "execute_result"
    }
   ],
   "source": [
    "time_equiv"
   ]
  },
  {
   "cell_type": "code",
   "execution_count": 22,
   "metadata": {},
   "outputs": [
    {
     "ename": "FileNotFoundError",
     "evalue": "[Errno 2] No such file or directory: 'C:\\\\Users\\\\joaqu\\\\Prove-It\\\\packages\\\\proveit\\\\physics\\\\quantum\\\\__pv_it\\\\f31eef1eab3ac83db1fc1dbc484054487ba2a1e50\\\\ref_count.txt'",
     "output_type": "error",
     "traceback": [
      "\u001b[1;31m---------------------------------------------------------------------------\u001b[0m",
      "\u001b[1;31mFileNotFoundError\u001b[0m                         Traceback (most recent call last)",
      "\u001b[1;32m~\\Anaconda3\\lib\\site-packages\\IPython\\core\\formatters.py\u001b[0m in \u001b[0;36m__call__\u001b[1;34m(self, obj)\u001b[0m\n\u001b[0;32m    343\u001b[0m             \u001b[0mmethod\u001b[0m \u001b[1;33m=\u001b[0m \u001b[0mget_real_method\u001b[0m\u001b[1;33m(\u001b[0m\u001b[0mobj\u001b[0m\u001b[1;33m,\u001b[0m \u001b[0mself\u001b[0m\u001b[1;33m.\u001b[0m\u001b[0mprint_method\u001b[0m\u001b[1;33m)\u001b[0m\u001b[1;33m\u001b[0m\u001b[1;33m\u001b[0m\u001b[0m\n\u001b[0;32m    344\u001b[0m             \u001b[1;32mif\u001b[0m \u001b[0mmethod\u001b[0m \u001b[1;32mis\u001b[0m \u001b[1;32mnot\u001b[0m \u001b[1;32mNone\u001b[0m\u001b[1;33m:\u001b[0m\u001b[1;33m\u001b[0m\u001b[1;33m\u001b[0m\u001b[0m\n\u001b[1;32m--> 345\u001b[1;33m                 \u001b[1;32mreturn\u001b[0m \u001b[0mmethod\u001b[0m\u001b[1;33m(\u001b[0m\u001b[1;33m)\u001b[0m\u001b[1;33m\u001b[0m\u001b[1;33m\u001b[0m\u001b[0m\n\u001b[0m\u001b[0;32m    346\u001b[0m             \u001b[1;32mreturn\u001b[0m \u001b[1;32mNone\u001b[0m\u001b[1;33m\u001b[0m\u001b[1;33m\u001b[0m\u001b[0m\n\u001b[0;32m    347\u001b[0m         \u001b[1;32melse\u001b[0m\u001b[1;33m:\u001b[0m\u001b[1;33m\u001b[0m\u001b[1;33m\u001b[0m\u001b[0m\n",
      "\u001b[1;32mc:\\users\\joaqu\\prove-it\\packages\\proveit\\_core_\\known_truth.py\u001b[0m in \u001b[0;36m_repr_html_\u001b[1;34m(self)\u001b[0m\n\u001b[0;32m   1058\u001b[0m         \u001b[1;32mif\u001b[0m \u001b[0mproof\u001b[0m \u001b[1;32mis\u001b[0m \u001b[1;32mnot\u001b[0m \u001b[1;32mNone\u001b[0m\u001b[1;33m:\u001b[0m\u001b[1;33m\u001b[0m\u001b[1;33m\u001b[0m\u001b[0m\n\u001b[0;32m   1059\u001b[0m             \u001b[1;31m# link to the proof\u001b[0m\u001b[1;33m\u001b[0m\u001b[1;33m\u001b[0m\u001b[1;33m\u001b[0m\u001b[0m\n\u001b[1;32m-> 1060\u001b[1;33m             \u001b[0mhtml\u001b[0m \u001b[1;33m+=\u001b[0m \u001b[1;34m'<a class=\"ProveItLink\" href=\"%s\" style=\"text-decoration: none\">'\u001b[0m\u001b[1;33m%\u001b[0m\u001b[0mproof\u001b[0m\u001b[1;33m.\u001b[0m\u001b[0mgetLink\u001b[0m\u001b[1;33m(\u001b[0m\u001b[1;33m)\u001b[0m\u001b[1;33m\u001b[0m\u001b[1;33m\u001b[0m\u001b[0m\n\u001b[0m\u001b[0;32m   1061\u001b[0m             \u001b[1;31m# Record as a proof of a \"displayed\" (style-specific)\u001b[0m\u001b[1;33m\u001b[0m\u001b[1;33m\u001b[0m\u001b[1;33m\u001b[0m\u001b[0m\n\u001b[0;32m   1062\u001b[0m             \u001b[1;31m# KnownTruth.\u001b[0m\u001b[1;33m\u001b[0m\u001b[1;33m\u001b[0m\u001b[1;33m\u001b[0m\u001b[0m\n",
      "\u001b[1;32mc:\\users\\joaqu\\prove-it\\packages\\proveit\\_core_\\proof.py\u001b[0m in \u001b[0;36mgetLink\u001b[1;34m(self)\u001b[0m\n\u001b[0;32m    320\u001b[0m         '''\n\u001b[0;32m    321\u001b[0m         \u001b[0mcontext\u001b[0m \u001b[1;33m=\u001b[0m \u001b[0mContext\u001b[0m\u001b[1;33m(\u001b[0m\u001b[1;33m)\u001b[0m\u001b[1;33m\u001b[0m\u001b[1;33m\u001b[0m\u001b[0m\n\u001b[1;32m--> 322\u001b[1;33m         \u001b[1;32mreturn\u001b[0m \u001b[0mcontext\u001b[0m\u001b[1;33m.\u001b[0m\u001b[0mproofNotebook\u001b[0m\u001b[1;33m(\u001b[0m\u001b[0mself\u001b[0m\u001b[1;33m)\u001b[0m\u001b[1;33m\u001b[0m\u001b[1;33m\u001b[0m\u001b[0m\n\u001b[0m\u001b[0;32m    323\u001b[0m \u001b[1;33m\u001b[0m\u001b[0m\n\u001b[0;32m    324\u001b[0m     \u001b[1;32mdef\u001b[0m \u001b[0m__setattr__\u001b[0m\u001b[1;33m(\u001b[0m\u001b[0mself\u001b[0m\u001b[1;33m,\u001b[0m \u001b[0mattr\u001b[0m\u001b[1;33m,\u001b[0m \u001b[0mvalue\u001b[0m\u001b[1;33m)\u001b[0m\u001b[1;33m:\u001b[0m\u001b[1;33m\u001b[0m\u001b[1;33m\u001b[0m\u001b[0m\n",
      "\u001b[1;32mc:\\users\\joaqu\\prove-it\\packages\\proveit\\_core_\\context.py\u001b[0m in \u001b[0;36mproofNotebook\u001b[1;34m(self, proof)\u001b[0m\n\u001b[0;32m    342\u001b[0m         \u001b[0mproof\u001b[0m \u001b[1;32mas\u001b[0m \u001b[0mProve\u001b[0m\u001b[1;33m-\u001b[0m\u001b[0mIt\u001b[0m \u001b[0mstores\u001b[0m \u001b[0mit\u001b[0m\u001b[1;33m.\u001b[0m\u001b[1;33m\u001b[0m\u001b[1;33m\u001b[0m\u001b[0m\n\u001b[0;32m    343\u001b[0m         '''\n\u001b[1;32m--> 344\u001b[1;33m         \u001b[1;32mreturn\u001b[0m \u001b[0mself\u001b[0m\u001b[1;33m.\u001b[0m\u001b[0m_storage\u001b[0m\u001b[1;33m.\u001b[0m\u001b[0mproofNotebook\u001b[0m\u001b[1;33m(\u001b[0m\u001b[0mproof\u001b[0m\u001b[1;33m)\u001b[0m\u001b[1;33m\u001b[0m\u001b[1;33m\u001b[0m\u001b[0m\n\u001b[0m\u001b[0;32m    345\u001b[0m \u001b[1;33m\u001b[0m\u001b[0m\n\u001b[0;32m    346\u001b[0m     \u001b[1;32mdef\u001b[0m \u001b[0mthmProofNotebook\u001b[0m\u001b[1;33m(\u001b[0m\u001b[0mself\u001b[0m\u001b[1;33m,\u001b[0m \u001b[0mtheoremName\u001b[0m\u001b[1;33m,\u001b[0m \u001b[0mexpr\u001b[0m\u001b[1;33m)\u001b[0m\u001b[1;33m:\u001b[0m\u001b[1;33m\u001b[0m\u001b[1;33m\u001b[0m\u001b[0m\n",
      "\u001b[1;32mc:\\users\\joaqu\\prove-it\\packages\\proveit\\_core_\\_context_storage.py\u001b[0m in \u001b[0;36mproofNotebook\u001b[1;34m(self, proof)\u001b[0m\n\u001b[0;32m   1212\u001b[0m         '''\n\u001b[0;32m   1213\u001b[0m         \u001b[1;32mimport\u001b[0m \u001b[0mproveit\u001b[0m\u001b[1;33m\u001b[0m\u001b[1;33m\u001b[0m\u001b[0m\n\u001b[1;32m-> 1214\u001b[1;33m         \u001b[1;33m(\u001b[0m\u001b[0mcontext\u001b[0m\u001b[1;33m,\u001b[0m \u001b[0mhash_directory\u001b[0m\u001b[1;33m)\u001b[0m \u001b[1;33m=\u001b[0m \u001b[0mself\u001b[0m\u001b[1;33m.\u001b[0m\u001b[0m_retrieve\u001b[0m\u001b[1;33m(\u001b[0m\u001b[0mproof\u001b[0m\u001b[1;33m)\u001b[0m\u001b[1;33m\u001b[0m\u001b[1;33m\u001b[0m\u001b[0m\n\u001b[0m\u001b[0;32m   1215\u001b[0m         \u001b[0mpv_it_dir\u001b[0m \u001b[1;33m=\u001b[0m \u001b[0mcontext\u001b[0m\u001b[1;33m.\u001b[0m\u001b[0m_storage\u001b[0m\u001b[1;33m.\u001b[0m\u001b[0mpv_it_dir\u001b[0m\u001b[1;33m\u001b[0m\u001b[1;33m\u001b[0m\u001b[0m\n\u001b[0;32m   1216\u001b[0m         \u001b[0mfilename\u001b[0m \u001b[1;33m=\u001b[0m \u001b[0mos\u001b[0m\u001b[1;33m.\u001b[0m\u001b[0mpath\u001b[0m\u001b[1;33m.\u001b[0m\u001b[0mjoin\u001b[0m\u001b[1;33m(\u001b[0m\u001b[0mpv_it_dir\u001b[0m\u001b[1;33m,\u001b[0m \u001b[0mhash_directory\u001b[0m\u001b[1;33m,\u001b[0m \u001b[1;34m'proof.ipynb'\u001b[0m\u001b[1;33m)\u001b[0m\u001b[1;33m\u001b[0m\u001b[1;33m\u001b[0m\u001b[0m\n",
      "\u001b[1;32mc:\\users\\joaqu\\prove-it\\packages\\proveit\\_core_\\_context_storage.py\u001b[0m in \u001b[0;36m_retrieve\u001b[1;34m(self, proveItObject)\u001b[0m\n\u001b[0;32m    799\u001b[0m             \u001b[1;32mreturn\u001b[0m \u001b[0mproveItObject\u001b[0m\u001b[1;33m.\u001b[0m\u001b[0mcontext\u001b[0m\u001b[1;33m.\u001b[0m\u001b[0m_storage\u001b[0m\u001b[1;33m.\u001b[0m\u001b[0m_retrieve\u001b[0m\u001b[1;33m(\u001b[0m\u001b[0mproveItObject\u001b[0m\u001b[1;33m)\u001b[0m\u001b[1;33m\u001b[0m\u001b[1;33m\u001b[0m\u001b[0m\n\u001b[0;32m    800\u001b[0m         \u001b[0mpv_it_dir\u001b[0m \u001b[1;33m=\u001b[0m \u001b[0mself\u001b[0m\u001b[1;33m.\u001b[0m\u001b[0mpv_it_dir\u001b[0m\u001b[1;33m\u001b[0m\u001b[1;33m\u001b[0m\u001b[0m\n\u001b[1;32m--> 801\u001b[1;33m         \u001b[0munique_rep\u001b[0m \u001b[1;33m=\u001b[0m \u001b[0mself\u001b[0m\u001b[1;33m.\u001b[0m\u001b[0m_proveItObjUniqueRep\u001b[0m\u001b[1;33m(\u001b[0m\u001b[0mproveItObject\u001b[0m\u001b[1;33m)\u001b[0m\u001b[1;33m\u001b[0m\u001b[1;33m\u001b[0m\u001b[0m\n\u001b[0m\u001b[0;32m    802\u001b[0m         \u001b[1;31m# hash the unique representation and make a sub-directory of this hash value\u001b[0m\u001b[1;33m\u001b[0m\u001b[1;33m\u001b[0m\u001b[1;33m\u001b[0m\u001b[0m\n\u001b[0;32m    803\u001b[0m         \u001b[0mrep_hash\u001b[0m \u001b[1;33m=\u001b[0m \u001b[0mhashlib\u001b[0m\u001b[1;33m.\u001b[0m\u001b[0msha1\u001b[0m\u001b[1;33m(\u001b[0m\u001b[0munique_rep\u001b[0m\u001b[1;33m.\u001b[0m\u001b[0mencode\u001b[0m\u001b[1;33m(\u001b[0m\u001b[1;34m'utf-8'\u001b[0m\u001b[1;33m)\u001b[0m\u001b[1;33m)\u001b[0m\u001b[1;33m.\u001b[0m\u001b[0mhexdigest\u001b[0m\u001b[1;33m(\u001b[0m\u001b[1;33m)\u001b[0m\u001b[1;33m\u001b[0m\u001b[1;33m\u001b[0m\u001b[0m\n",
      "\u001b[1;32mc:\\users\\joaqu\\prove-it\\packages\\proveit\\_core_\\_context_storage.py\u001b[0m in \u001b[0;36m_proveItObjUniqueRep\u001b[1;34m(self, proveItObject)\u001b[0m\n\u001b[0;32m    660\u001b[0m         \u001b[1;31m# generate a unique representation using Prove-It object ids for this storage to\u001b[0m\u001b[1;33m\u001b[0m\u001b[1;33m\u001b[0m\u001b[1;33m\u001b[0m\u001b[0m\n\u001b[0;32m    661\u001b[0m         \u001b[1;31m# represent other referenced Prove-It objects\u001b[0m\u001b[1;33m\u001b[0m\u001b[1;33m\u001b[0m\u001b[1;33m\u001b[0m\u001b[0m\n\u001b[1;32m--> 662\u001b[1;33m         \u001b[1;32mreturn\u001b[0m \u001b[0mprefix\u001b[0m \u001b[1;33m+\u001b[0m \u001b[0mproveItObject\u001b[0m\u001b[1;33m.\u001b[0m\u001b[0m_generate_unique_rep\u001b[0m\u001b[1;33m(\u001b[0m\u001b[0mself\u001b[0m\u001b[1;33m.\u001b[0m\u001b[0m_proveItStorageId\u001b[0m\u001b[1;33m)\u001b[0m\u001b[1;33m\u001b[0m\u001b[1;33m\u001b[0m\u001b[0m\n\u001b[0m\u001b[0;32m    663\u001b[0m \u001b[1;33m\u001b[0m\u001b[0m\n\u001b[0;32m    664\u001b[0m     def _extractReferencedStorageIds(self, unique_rep, context_name='', \n",
      "\u001b[1;32mc:\\users\\joaqu\\prove-it\\packages\\proveit\\_core_\\proof.py\u001b[0m in \u001b[0;36m_generate_unique_rep\u001b[1;34m(self, objectRepFn)\u001b[0m\n\u001b[0;32m    176\u001b[0m                              else '') for k in range(len(required_objs))]\n\u001b[0;32m    177\u001b[0m         required_objs_str = ','.join(objectRepFn(obj)+mark for obj, mark\n\u001b[1;32m--> 178\u001b[1;33m                                      in zip(required_objs, required_obj_marks))\n\u001b[0m\u001b[0;32m    179\u001b[0m         return (self._generate_step_info(objectRepFn) +\n\u001b[0;32m    180\u001b[0m                 \u001b[1;34m'[%s];[%s]'\u001b[0m\u001b[1;33m\u001b[0m\u001b[1;33m\u001b[0m\u001b[0m\n",
      "\u001b[1;32mc:\\users\\joaqu\\prove-it\\packages\\proveit\\_core_\\proof.py\u001b[0m in \u001b[0;36m<genexpr>\u001b[1;34m(.0)\u001b[0m\n\u001b[0;32m    175\u001b[0m         required_obj_marks = [('*' if k in self.markedRequiredTruthIndices\n\u001b[0;32m    176\u001b[0m                              else '') for k in range(len(required_objs))]\n\u001b[1;32m--> 177\u001b[1;33m         required_objs_str = ','.join(objectRepFn(obj)+mark for obj, mark\n\u001b[0m\u001b[0;32m    178\u001b[0m                                      in zip(required_objs, required_obj_marks))\n\u001b[0;32m    179\u001b[0m         return (self._generate_step_info(objectRepFn) +\n",
      "\u001b[1;32mc:\\users\\joaqu\\prove-it\\packages\\proveit\\_core_\\_context_storage.py\u001b[0m in \u001b[0;36m_proveItStorageId\u001b[1;34m(self, proveItObjectOrId)\u001b[0m\n\u001b[0;32m    609\u001b[0m                 \u001b[1;33m(\u001b[0m\u001b[0mcontext\u001b[0m\u001b[1;33m,\u001b[0m \u001b[0mhash_directory\u001b[0m\u001b[1;33m)\u001b[0m \u001b[1;33m=\u001b[0m \u001b[0mself\u001b[0m\u001b[1;33m.\u001b[0m\u001b[0m_proveItObjects\u001b[0m\u001b[1;33m[\u001b[0m\u001b[0mstyle_id\u001b[0m\u001b[1;33m]\u001b[0m\u001b[1;33m\u001b[0m\u001b[1;33m\u001b[0m\u001b[0m\n\u001b[0;32m    610\u001b[0m             \u001b[1;32melse\u001b[0m\u001b[1;33m:\u001b[0m\u001b[1;33m\u001b[0m\u001b[1;33m\u001b[0m\u001b[0m\n\u001b[1;32m--> 611\u001b[1;33m                 \u001b[1;33m(\u001b[0m\u001b[0mcontext\u001b[0m\u001b[1;33m,\u001b[0m \u001b[0mhash_directory\u001b[0m\u001b[1;33m)\u001b[0m \u001b[1;33m=\u001b[0m \u001b[0mself\u001b[0m\u001b[1;33m.\u001b[0m\u001b[0m_retrieve\u001b[0m\u001b[1;33m(\u001b[0m\u001b[0mproveItObjectOrId\u001b[0m\u001b[1;33m)\u001b[0m\u001b[1;33m\u001b[0m\u001b[1;33m\u001b[0m\u001b[0m\n\u001b[0m\u001b[0;32m    612\u001b[0m             \u001b[1;32mif\u001b[0m \u001b[0mcontext\u001b[0m \u001b[1;33m!=\u001b[0m \u001b[0mself\u001b[0m\u001b[1;33m.\u001b[0m\u001b[0mcontext\u001b[0m\u001b[1;33m:\u001b[0m\u001b[1;33m\u001b[0m\u001b[1;33m\u001b[0m\u001b[0m\n\u001b[0;32m    613\u001b[0m                 \u001b[0mself\u001b[0m\u001b[1;33m.\u001b[0m\u001b[0m_includeMutualReferences\u001b[0m\u001b[1;33m(\u001b[0m\u001b[0mcontext\u001b[0m\u001b[1;33m)\u001b[0m\u001b[1;33m\u001b[0m\u001b[1;33m\u001b[0m\u001b[0m\n",
      "\u001b[1;32mc:\\users\\joaqu\\prove-it\\packages\\proveit\\_core_\\_context_storage.py\u001b[0m in \u001b[0;36m_retrieve\u001b[1;34m(self, proveItObject)\u001b[0m\n\u001b[0;32m    799\u001b[0m             \u001b[1;32mreturn\u001b[0m \u001b[0mproveItObject\u001b[0m\u001b[1;33m.\u001b[0m\u001b[0mcontext\u001b[0m\u001b[1;33m.\u001b[0m\u001b[0m_storage\u001b[0m\u001b[1;33m.\u001b[0m\u001b[0m_retrieve\u001b[0m\u001b[1;33m(\u001b[0m\u001b[0mproveItObject\u001b[0m\u001b[1;33m)\u001b[0m\u001b[1;33m\u001b[0m\u001b[1;33m\u001b[0m\u001b[0m\n\u001b[0;32m    800\u001b[0m         \u001b[0mpv_it_dir\u001b[0m \u001b[1;33m=\u001b[0m \u001b[0mself\u001b[0m\u001b[1;33m.\u001b[0m\u001b[0mpv_it_dir\u001b[0m\u001b[1;33m\u001b[0m\u001b[1;33m\u001b[0m\u001b[0m\n\u001b[1;32m--> 801\u001b[1;33m         \u001b[0munique_rep\u001b[0m \u001b[1;33m=\u001b[0m \u001b[0mself\u001b[0m\u001b[1;33m.\u001b[0m\u001b[0m_proveItObjUniqueRep\u001b[0m\u001b[1;33m(\u001b[0m\u001b[0mproveItObject\u001b[0m\u001b[1;33m)\u001b[0m\u001b[1;33m\u001b[0m\u001b[1;33m\u001b[0m\u001b[0m\n\u001b[0m\u001b[0;32m    802\u001b[0m         \u001b[1;31m# hash the unique representation and make a sub-directory of this hash value\u001b[0m\u001b[1;33m\u001b[0m\u001b[1;33m\u001b[0m\u001b[1;33m\u001b[0m\u001b[0m\n\u001b[0;32m    803\u001b[0m         \u001b[0mrep_hash\u001b[0m \u001b[1;33m=\u001b[0m \u001b[0mhashlib\u001b[0m\u001b[1;33m.\u001b[0m\u001b[0msha1\u001b[0m\u001b[1;33m(\u001b[0m\u001b[0munique_rep\u001b[0m\u001b[1;33m.\u001b[0m\u001b[0mencode\u001b[0m\u001b[1;33m(\u001b[0m\u001b[1;34m'utf-8'\u001b[0m\u001b[1;33m)\u001b[0m\u001b[1;33m)\u001b[0m\u001b[1;33m.\u001b[0m\u001b[0mhexdigest\u001b[0m\u001b[1;33m(\u001b[0m\u001b[1;33m)\u001b[0m\u001b[1;33m\u001b[0m\u001b[1;33m\u001b[0m\u001b[0m\n",
      "\u001b[1;32mc:\\users\\joaqu\\prove-it\\packages\\proveit\\_core_\\_context_storage.py\u001b[0m in \u001b[0;36m_proveItObjUniqueRep\u001b[1;34m(self, proveItObject)\u001b[0m\n\u001b[0;32m    660\u001b[0m         \u001b[1;31m# generate a unique representation using Prove-It object ids for this storage to\u001b[0m\u001b[1;33m\u001b[0m\u001b[1;33m\u001b[0m\u001b[1;33m\u001b[0m\u001b[0m\n\u001b[0;32m    661\u001b[0m         \u001b[1;31m# represent other referenced Prove-It objects\u001b[0m\u001b[1;33m\u001b[0m\u001b[1;33m\u001b[0m\u001b[1;33m\u001b[0m\u001b[0m\n\u001b[1;32m--> 662\u001b[1;33m         \u001b[1;32mreturn\u001b[0m \u001b[0mprefix\u001b[0m \u001b[1;33m+\u001b[0m \u001b[0mproveItObject\u001b[0m\u001b[1;33m.\u001b[0m\u001b[0m_generate_unique_rep\u001b[0m\u001b[1;33m(\u001b[0m\u001b[0mself\u001b[0m\u001b[1;33m.\u001b[0m\u001b[0m_proveItStorageId\u001b[0m\u001b[1;33m)\u001b[0m\u001b[1;33m\u001b[0m\u001b[1;33m\u001b[0m\u001b[0m\n\u001b[0m\u001b[0;32m    663\u001b[0m \u001b[1;33m\u001b[0m\u001b[0m\n\u001b[0;32m    664\u001b[0m     def _extractReferencedStorageIds(self, unique_rep, context_name='', \n",
      "\u001b[1;32mc:\\users\\joaqu\\prove-it\\packages\\proveit\\_core_\\proof.py\u001b[0m in \u001b[0;36m_generate_unique_rep\u001b[1;34m(self, objectRepFn)\u001b[0m\n\u001b[0;32m    179\u001b[0m         return (self._generate_step_info(objectRepFn) +\n\u001b[0;32m    180\u001b[0m                 \u001b[1;34m'[%s];[%s]'\u001b[0m\u001b[1;33m\u001b[0m\u001b[1;33m\u001b[0m\u001b[0m\n\u001b[1;32m--> 181\u001b[1;33m                 %(objectRepFn(self.provenTruth), required_objs_str))\n\u001b[0m\u001b[0;32m    182\u001b[0m \u001b[1;33m\u001b[0m\u001b[0m\n\u001b[0;32m    183\u001b[0m     \u001b[1;32mdef\u001b[0m \u001b[0m_generate_step_info\u001b[0m\u001b[1;33m(\u001b[0m\u001b[0mself\u001b[0m\u001b[1;33m,\u001b[0m \u001b[0mobjectRepFn\u001b[0m\u001b[1;33m)\u001b[0m\u001b[1;33m:\u001b[0m\u001b[1;33m\u001b[0m\u001b[1;33m\u001b[0m\u001b[0m\n",
      "\u001b[1;32mc:\\users\\joaqu\\prove-it\\packages\\proveit\\_core_\\_context_storage.py\u001b[0m in \u001b[0;36m_proveItStorageId\u001b[1;34m(self, proveItObjectOrId)\u001b[0m\n\u001b[0;32m    609\u001b[0m                 \u001b[1;33m(\u001b[0m\u001b[0mcontext\u001b[0m\u001b[1;33m,\u001b[0m \u001b[0mhash_directory\u001b[0m\u001b[1;33m)\u001b[0m \u001b[1;33m=\u001b[0m \u001b[0mself\u001b[0m\u001b[1;33m.\u001b[0m\u001b[0m_proveItObjects\u001b[0m\u001b[1;33m[\u001b[0m\u001b[0mstyle_id\u001b[0m\u001b[1;33m]\u001b[0m\u001b[1;33m\u001b[0m\u001b[1;33m\u001b[0m\u001b[0m\n\u001b[0;32m    610\u001b[0m             \u001b[1;32melse\u001b[0m\u001b[1;33m:\u001b[0m\u001b[1;33m\u001b[0m\u001b[1;33m\u001b[0m\u001b[0m\n\u001b[1;32m--> 611\u001b[1;33m                 \u001b[1;33m(\u001b[0m\u001b[0mcontext\u001b[0m\u001b[1;33m,\u001b[0m \u001b[0mhash_directory\u001b[0m\u001b[1;33m)\u001b[0m \u001b[1;33m=\u001b[0m \u001b[0mself\u001b[0m\u001b[1;33m.\u001b[0m\u001b[0m_retrieve\u001b[0m\u001b[1;33m(\u001b[0m\u001b[0mproveItObjectOrId\u001b[0m\u001b[1;33m)\u001b[0m\u001b[1;33m\u001b[0m\u001b[1;33m\u001b[0m\u001b[0m\n\u001b[0m\u001b[0;32m    612\u001b[0m             \u001b[1;32mif\u001b[0m \u001b[0mcontext\u001b[0m \u001b[1;33m!=\u001b[0m \u001b[0mself\u001b[0m\u001b[1;33m.\u001b[0m\u001b[0mcontext\u001b[0m\u001b[1;33m:\u001b[0m\u001b[1;33m\u001b[0m\u001b[1;33m\u001b[0m\u001b[0m\n\u001b[0;32m    613\u001b[0m                 \u001b[0mself\u001b[0m\u001b[1;33m.\u001b[0m\u001b[0m_includeMutualReferences\u001b[0m\u001b[1;33m(\u001b[0m\u001b[0mcontext\u001b[0m\u001b[1;33m)\u001b[0m\u001b[1;33m\u001b[0m\u001b[1;33m\u001b[0m\u001b[0m\n",
      "\u001b[1;32mc:\\users\\joaqu\\prove-it\\packages\\proveit\\_core_\\_context_storage.py\u001b[0m in \u001b[0;36m_retrieve\u001b[1;34m(self, proveItObject)\u001b[0m\n\u001b[0;32m    838\u001b[0m         \u001b[1;31m# increment reference counts of the referenced objects\u001b[0m\u001b[1;33m\u001b[0m\u001b[1;33m\u001b[0m\u001b[1;33m\u001b[0m\u001b[0m\n\u001b[0;32m    839\u001b[0m         \u001b[1;32mfor\u001b[0m \u001b[0mobjId\u001b[0m \u001b[1;32min\u001b[0m \u001b[0mself\u001b[0m\u001b[1;33m.\u001b[0m\u001b[0m_extractReferencedStorageIds\u001b[0m\u001b[1;33m(\u001b[0m\u001b[0munique_rep\u001b[0m\u001b[1;33m)\u001b[0m\u001b[1;33m:\u001b[0m\u001b[1;33m\u001b[0m\u001b[1;33m\u001b[0m\u001b[0m\n\u001b[1;32m--> 840\u001b[1;33m             \u001b[0mself\u001b[0m\u001b[1;33m.\u001b[0m\u001b[0m_addReference\u001b[0m\u001b[1;33m(\u001b[0m\u001b[0mobjId\u001b[0m\u001b[1;33m)\u001b[0m\u001b[1;33m\u001b[0m\u001b[1;33m\u001b[0m\u001b[0m\n\u001b[0m\u001b[0;32m    841\u001b[0m         \u001b[1;31m# remember this for next time\u001b[0m\u001b[1;33m\u001b[0m\u001b[1;33m\u001b[0m\u001b[1;33m\u001b[0m\u001b[0m\n\u001b[0;32m    842\u001b[0m         \u001b[0mresult\u001b[0m \u001b[1;33m=\u001b[0m \u001b[1;33m(\u001b[0m\u001b[0mself\u001b[0m\u001b[1;33m.\u001b[0m\u001b[0mcontext\u001b[0m\u001b[1;33m,\u001b[0m \u001b[0mrep_hash\u001b[0m \u001b[1;33m+\u001b[0m \u001b[0mstr\u001b[0m\u001b[1;33m(\u001b[0m\u001b[0mindex\u001b[0m\u001b[1;33m)\u001b[0m\u001b[1;33m)\u001b[0m\u001b[1;33m\u001b[0m\u001b[1;33m\u001b[0m\u001b[0m\n",
      "\u001b[1;32mc:\\users\\joaqu\\prove-it\\packages\\proveit\\_core_\\_context_storage.py\u001b[0m in \u001b[0;36m_addReference\u001b[1;34m(self, proveItStorageId)\u001b[0m\n\u001b[0;32m    709\u001b[0m             \u001b[0mrefCount\u001b[0m \u001b[1;33m=\u001b[0m \u001b[1;36m0\u001b[0m\u001b[1;33m\u001b[0m\u001b[1;33m\u001b[0m\u001b[0m\n\u001b[0;32m    710\u001b[0m         \u001b[1;31m# change the reference count in the file\u001b[0m\u001b[1;33m\u001b[0m\u001b[1;33m\u001b[0m\u001b[1;33m\u001b[0m\u001b[0m\n\u001b[1;32m--> 711\u001b[1;33m         \u001b[1;32mwith\u001b[0m \u001b[0mopen\u001b[0m\u001b[1;33m(\u001b[0m\u001b[0mfile_path\u001b[0m\u001b[1;33m,\u001b[0m \u001b[1;34m'w'\u001b[0m\u001b[1;33m)\u001b[0m \u001b[1;32mas\u001b[0m \u001b[0mf2\u001b[0m\u001b[1;33m:\u001b[0m\u001b[1;33m\u001b[0m\u001b[1;33m\u001b[0m\u001b[0m\n\u001b[0m\u001b[0;32m    712\u001b[0m             \u001b[0mf2\u001b[0m\u001b[1;33m.\u001b[0m\u001b[0mwrite\u001b[0m\u001b[1;33m(\u001b[0m\u001b[0mstr\u001b[0m\u001b[1;33m(\u001b[0m\u001b[0mrefCount\u001b[0m\u001b[1;33m)\u001b[0m \u001b[1;33m+\u001b[0m \u001b[1;34m'\\n'\u001b[0m\u001b[1;33m)\u001b[0m\u001b[1;33m\u001b[0m\u001b[1;33m\u001b[0m\u001b[0m\n\u001b[0;32m    713\u001b[0m \u001b[1;33m\u001b[0m\u001b[0m\n",
      "\u001b[1;31mFileNotFoundError\u001b[0m: [Errno 2] No such file or directory: 'C:\\\\Users\\\\joaqu\\\\Prove-It\\\\packages\\\\proveit\\\\physics\\\\quantum\\\\__pv_it\\\\f31eef1eab3ac83db1fc1dbc484054487ba2a1e50\\\\ref_count.txt'"
     ]
    },
    {
     "data": {
      "text/plain": [
       "|- ( Gate(H)  & Gate(X)  & Gate(H) equiv  Gate(SPACE)  & Gate(X)  & Gate(SPACE)) =>  \\\\ ( Gate(Z)  & Gate(H)  & Gate(X)  & Gate(H)  & Gate(Z) equiv  Gate(Z)  & Gate(SPACE)  & Gate(X)  & Gate(SPACE)  & Gate(Z))"
      ]
     },
     "execution_count": 22,
     "metadata": {},
     "output_type": "execute_result"
    }
   ],
   "source": [
    "time_equiv.instantiate({h:one, k:one, m:one, n:three, A:ExprTuple(Z), \n",
    "                        B: ExprTuple(H, X, H), C: ExprTuple(Z), D:ExprTuple(SPACE, X, SPACE), \n",
    "                        S:ExprTuple(Set(one), Set(one), Set(one)), R:ExprTuple(Set(one)), Q:ExprTuple(Set(one))})"
   ]
  },
  {
   "cell_type": "code",
   "execution_count": 23,
   "metadata": {},
   "outputs": [
    {
     "ename": "AssertionError",
     "evalue": "",
     "output_type": "error",
     "traceback": [
      "\u001b[1;31m---------------------------------------------------------------------------\u001b[0m",
      "\u001b[1;31mAssertionError\u001b[0m                            Traceback (most recent call last)",
      "\u001b[1;32m<ipython-input-23-a871fdc9ebee>\u001b[0m in \u001b[0;36m<module>\u001b[1;34m\u001b[0m\n\u001b[1;32m----> 1\u001b[1;33m \u001b[1;32massert\u001b[0m \u001b[1;32mFalse\u001b[0m\u001b[1;33m\u001b[0m\u001b[1;33m\u001b[0m\u001b[0m\n\u001b[0m",
      "\u001b[1;31mAssertionError\u001b[0m: "
     ]
    }
   ],
   "source": [
    "assert False"
   ]
  },
  {
   "cell_type": "code",
   "execution_count": null,
   "metadata": {},
   "outputs": [],
   "source": [
    "# single_time_equiv.instantiate({h: one, k: one, m: one,  \n",
    "#                               A: ExprTuple(Gate(H)), \n",
    "#                               B: ExprTuple(Gate(Z)), \n",
    "#                               C: ExprTuple(Gate(X)), \n",
    "#                               D: ExprTuple(Gate(Z)), \n",
    "#                               S: ExprTuple(Set(one)), \n",
    "#                               R: ExprTuple(Set(one)),\n",
    "#                               Q: ExprTuple(Set(one)),\n",
    "#                              }, \n",
    "                             \n",
    "#                              assumptions=[CircuitEquiv(Circuit(ExprArray(ExprTuple(Gate(Z)))), \n",
    "#                                                        Circuit(ExprArray(ExprTuple(Gate(Z))))),\n",
    "#                                          ])"
   ]
  },
  {
   "cell_type": "code",
   "execution_count": null,
   "metadata": {},
   "outputs": [],
   "source": [
    "MultiQubitGate(Gate(Z), Set(one)).latex()"
   ]
  },
  {
   "cell_type": "code",
   "execution_count": null,
   "metadata": {},
   "outputs": [],
   "source": [
    "MultiQubitGate(Z, Set(one))"
   ]
  },
  {
   "cell_type": "code",
   "execution_count": null,
   "metadata": {},
   "outputs": [],
   "source": [
    "# 3 by 1 array, subbing Gate(z) - UNFLATTENED\n",
    "single_time_equiv.instantiate({h: one, k: one, m: one,  \n",
    "                              A: ExprTuple(Gate(H)), \n",
    "                              B: ExprTuple(Gate(Z)), \n",
    "                              C: ExprTuple(Gate(X)), \n",
    "                              D: ExprTuple(Gate(Z)), \n",
    "                              S: ExprTuple(Set()), \n",
    "                              R: ExprTuple(Set()),\n",
    "                              Q: ExprTuple(Set()),\n",
    "                             }, \n",
    "                             \n",
    "                             assumptions=[CircuitEquiv(Circuit(ExprArray(ExprTuple(Gate(Z)))), \n",
    "                                                       Circuit(ExprArray(ExprTuple(Gate(Z))))),\n",
    "                                         ]).latex()"
   ]
  },
  {
   "cell_type": "code",
   "execution_count": null,
   "metadata": {},
   "outputs": [],
   "source": [
    "print(Forall ((h, k, m), Forall((varRange(A, [one, one], [m, k]), varRange(B, one, m), \n",
    "                                                varRange(C, [one, one], [m, h]), varRange(D, one, m), \n",
    "                                                varRange(S, one, m), varRange(R, [one, one], [m, k]), \n",
    "                                                varRange(Q, [one, one], [m, h])), \n",
    "        \n",
    "            CircuitEquiv(\n",
    "                        Circuit(ExprArray(ExprRange(i, ExprTuple(MultiQubitGate(IndexedVar(B, i), IndexedVar(S, i))), one, m))),\n",
    "                        Circuit(ExprArray(ExprRange(i, ExprTuple(MultiQubitGate(IndexedVar(D, i), IndexedVar(S, i))), one, m)))\n",
    "            )\n",
    "    ).wrapParams(), domain=NaturalsPos).withWrapping().latex())"
   ]
  },
  {
   "cell_type": "code",
   "execution_count": null,
   "metadata": {},
   "outputs": [],
   "source": [
    "Forall ((h, k, m), Forall((varRange(A, [one, one], [m, k]), varRange(B, one, m), \n",
    "                                                varRange(C, [one, one], [m, h]), varRange(D, one, m), \n",
    "                                                varRange(S, one, m), varRange(R, [one, one], [m, k]), \n",
    "                                                varRange(Q, [one, one], [m, h])), \n",
    "        \n",
    "            CircuitEquiv(\n",
    "                        Circuit(ExprArray(ExprRange(i, ExprTuple(MultiQubitGate(IndexedVar(B, i), IndexedVar(S, i))), one, m))),\n",
    "                        Circuit(ExprArray(ExprRange(i, ExprTuple(MultiQubitGate(IndexedVar(D, i), IndexedVar(S, i))), one, m)))\n",
    "            )\n",
    "    ).wrapParams(), domain=NaturalsPos)"
   ]
  },
  {
   "cell_type": "code",
   "execution_count": null,
   "metadata": {},
   "outputs": [],
   "source": [
    "Forall ((h, k, m), Forall((varRange(A, [one, one], [m, k]), varRange(B, one, m), \n",
    "                                                varRange(C, [one, one], [m, h]), varRange(D, one, m), \n",
    "                                                varRange(S, one, m), varRange(R, [one, one], [m, k]), \n",
    "                                                varRange(Q, [one, one], [m, h])), \n",
    "        \n",
    "            CircuitEquiv(\n",
    "                        Circuit(ExprArray(ExprRange(i, ExprTuple(MultiQubitGate(IndexedVar(B, i), IndexedVar(S, i))), one, m))),\n",
    "                        Circuit(ExprArray(ExprRange(i, ExprTuple(MultiQubitGate(IndexedVar(D, i), IndexedVar(S, i))), one, m)))\n",
    "            )\n",
    "    ).wrapParams(), domain=NaturalsPos)"
   ]
  },
  {
   "cell_type": "code",
   "execution_count": null,
   "metadata": {},
   "outputs": [],
   "source": [
    "Forall((varRange(A, [one, one], [m, k]), varRange(B, one, m), \n",
    "                                                varRange(C, [one, one], [m, h]), varRange(D, one, m), \n",
    "                                                varRange(S, one, m), varRange(R, [one, one], [m, k]), \n",
    "                                                varRange(Q, [one, one], [m, h])), \n",
    "        \n",
    "            CircuitEquiv(\n",
    "                        Circuit(ExprArray(ExprRange(i, ExprTuple(MultiQubitGate(IndexedVar(B, i), IndexedVar(S, i))), one, m))),\n",
    "                        Circuit(ExprArray(ExprRange(i, ExprTuple(MultiQubitGate(IndexedVar(D, i), IndexedVar(S, i))), one, m)))\n",
    "            )\n",
    "    ).wrapParams()"
   ]
  },
  {
   "cell_type": "code",
   "execution_count": null,
   "metadata": {},
   "outputs": [],
   "source": [
    "Forall ((h, k, m), Forall((varRange(A, [one, one], [m, k]), varRange(B, one, m), \n",
    "                                                varRange(C, [one, one], [m, h]), varRange(D, one, m), \n",
    "                                                varRange(S, one, m), varRange(R, [one, one], [m, k]), \n",
    "                                                varRange(Q, [one, one], [m, h])), \n",
    "        Implies(\n",
    "            CircuitEquiv(\n",
    "                        Circuit(ExprArray(ExprRange(i, ExprTuple(MultiQubitGate(IndexedVar(B, i), IndexedVar(S, i))), one, m))),\n",
    "                        Circuit(ExprArray(ExprRange(i, ExprTuple(MultiQubitGate(IndexedVar(D, i), IndexedVar(S, i))), one, m)))\n",
    "            ),\n",
    "            CircuitEquiv(\n",
    "                        Circuit(ExprArray(ExprRange(i, ExprTuple(ExprRange(j, MultiQubitGate(Aij, Rij), one, k), \n",
    "                                            MultiQubitGate(IndexedVar(B, i), IndexedVar(S, i)),\n",
    "                                            ExprRange(j, MultiQubitGate(Cij, Qij), one, h)), \n",
    "                                    one, m))),\n",
    "                        Circuit(ExprArray(ExprRange(i, ExprTuple(ExprRange(j, MultiQubitGate(Aij, Rij), one, k), \n",
    "                                            MultiQubitGate(IndexedVar(D, i), IndexedVar(S, i)),\n",
    "                                            ExprRange(j, MultiQubitGate(Cij, Qij), one, h)), \n",
    "                                    one, m)))\n",
    "            )\n",
    "        ).withWrappingAt(2)\n",
    "    ).wrapParams(), domain=NaturalsPos)"
   ]
  },
  {
   "cell_type": "code",
   "execution_count": null,
   "metadata": {},
   "outputs": [],
   "source": [
    "lhs = Circuit(ExprArray(ExprTuple(MultiQubitGate(CONTROL, Set(one, two))), \n",
    "        ExprTuple(MultiQubitGate(Z, Set(one, two))), \n",
    "        ExprTuple(MultiQubitGate(CONTROL, Set(three, four))), \n",
    "        ExprTuple(MultiQubitGate(Z, Set(three, four)))))"
   ]
  },
  {
   "cell_type": "code",
   "execution_count": null,
   "metadata": {},
   "outputs": [],
   "source": [
    "rhs = Circuit(ExprArray(ExprTuple(MultiQubitGate(CONTROL, Set(one, two))), \n",
    "        ExprTuple(MultiQubitGate(Z, Set(one, two))), \n",
    "        ExprTuple(MultiQubitGate(CONTROL, Set(three, four))), \n",
    "        ExprTuple(MultiQubitGate(Z, Set(three, four)))))"
   ]
  },
  {
   "cell_type": "code",
   "execution_count": null,
   "metadata": {},
   "outputs": [],
   "source": [
    "#CircuitEquiv(lhs, rhs).prove(assumptions=[CircuitEquiv(lhs, rhs)])"
   ]
  },
  {
   "cell_type": "code",
   "execution_count": null,
   "metadata": {},
   "outputs": [],
   "source": [
    "big = Circuit(ExprArray(ExprTuple(Gate(H), MultiQubitGate(CONTROL, Set(one, two)), Gate(X)), \n",
    "        ExprTuple(Gate(H), MultiQubitGate(Z, Set(one, two)), \n",
    "                  Gate(X)), \n",
    "        ExprTuple(Gate(H), MultiQubitGate(CONTROL, Set(three, four)), Gate(X)), \n",
    "        ExprTuple(Gate(H), MultiQubitGate(Z, Set(three, four)), \n",
    "                  Gate(X))))"
   ]
  },
  {
   "cell_type": "code",
   "execution_count": null,
   "metadata": {},
   "outputs": [],
   "source": [
    "big_left = Circuit(ExprArray(ExprTuple(Gate(H)), \n",
    "        ExprTuple(Gate(H)), \n",
    "        ExprTuple(Gate(H)), \n",
    "        ExprTuple(Gate(H))))\n"
   ]
  },
  {
   "cell_type": "code",
   "execution_count": null,
   "metadata": {},
   "outputs": [],
   "source": [
    "big_right = Circuit(ExprArray(ExprTuple(Gate(X)), \n",
    "        ExprTuple(Gate(X)), \n",
    "        ExprTuple(Gate(X)), \n",
    "        ExprTuple(Gate(X))))"
   ]
  },
  {
   "cell_type": "code",
   "execution_count": null,
   "metadata": {},
   "outputs": [],
   "source": [
    "# # single variables, no ExprTuple, unflattened\n",
    "# single_time_equiv.specialize({h: one, k: one, m: four, A: big_left, B: lhs, C: big_right, D: rhs, \n",
    "#                               R: [Set(), Set(), Set(), Set()], S:[Set(one, two), Set(one, two), Set(three, four), \n",
    "#                                                                   Set(three, four)], \n",
    "#                               Q: [Set(), Set(), Set(), Set()]}, assumptions=[CircuitEquiv(lhs, rhs)])"
   ]
  },
  {
   "cell_type": "code",
   "execution_count": null,
   "metadata": {},
   "outputs": [],
   "source": [
    "# # single variables, but flattened\n",
    "# single_time_equiv.specialize({h: one, k: one, m: four, A: ExprTuple(Gate(H), Gate(H), Gate(H), Gate(H)), \n",
    "#                               B: ExprTuple(MultiQubitGate(CONTROL, Set(one, two)), MultiQubitGate(Z, Set(one, two)), \n",
    "#                                            MultiQubitGate(CONTROL, Set(three, four)), MultiQubitGate(Z, Set(three, four))), \n",
    "#                               C: ExprTuple(Gate(X), Gate(X), Gate(X), Gate(X)), \n",
    "#                               D: ExprTuple(MultiQubitGate(CONTROL, Set(one, two)), MultiQubitGate(Z, Set(one, two)), \n",
    "#                                            MultiQubitGate(CONTROL, Set(three, four)), MultiQubitGate(Z, Set(three, four))), \n",
    "#                               R: ExprTuple(Set(one), Set(two), Set(three), Set(four)), S:ExprTuple(Set(one, two), Set(one, two), \n",
    "#                                                                                     Set(three, four), Set(three, four)), \n",
    "#                               Q: ExprTuple(Set(one), Set(two), Set(three), Set(four))}, assumptions=[CircuitEquiv(lhs, rhs)])"
   ]
  },
  {
   "cell_type": "code",
   "execution_count": null,
   "metadata": {},
   "outputs": [],
   "source": [
    "# 3 by 4, subbing two controlled z gates\n",
    "# single_time_equiv.specialize({h: one, k: one, m: four, \n",
    "#                               ExprTuple(ExprRange(i, ExprRange(j, Aij, one, k), one, m)): ExprTuple(Gate(H), Gate(H), \n",
    "#                                                                                                     Gate(H), Gate(H)), \n",
    "#                               ExprTuple(varRange(B, one, m)): ExprTuple(MultiQubitGate(CONTROL, Set(one, two)), \n",
    "#                                                                         MultiQubitGate(Z, Set(one, two)),\n",
    "#                                                                         MultiQubitGate(CONTROL, Set(three, four)), \n",
    "#                                                                         MultiQubitGate(Z, Set(three, four))), \n",
    "#                               ExprTuple(varRange(C, [one, one], [m, h])): ExprTuple(Gate(X), Gate(X), Gate(X), Gate(X)), \n",
    "#                               ExprTuple(varRange(D, one, m)): ExprTuple(MultiQubitGate(CONTROL, Set(one, two)), \n",
    "#                                                                         MultiQubitGate(Z, Set(one, two)), \n",
    "#                                            MultiQubitGate(CONTROL, Set(three, four)), MultiQubitGate(Z, Set(three, four))), \n",
    "#                               ExprTuple(varRange(S, one, m)): ExprTuple(Set(one, two), Set(one, two), \n",
    "#                                                                         Set(three, four), Set(three, four)), \n",
    "#                               ExprTuple(varRange(R, [one, one], [m, k])): ExprTuple(Set(), Set(), Set(), Set()), \n",
    "#                               ExprTuple(varRange(Q, [one, one], [m, h])): ExprTuple(Set(), Set(), Set(), Set())}, \n",
    "#                              assumptions=[CircuitEquiv(lhs, rhs)])\n",
    "\n",
    "# COUNTING TO 10 ERROR"
   ]
  },
  {
   "cell_type": "code",
   "execution_count": null,
   "metadata": {},
   "outputs": [],
   "source": [
    "from proveit.core_expr_types.tuples._theorems_ import singular_range_reduction\n",
    "singular_range_reduction"
   ]
  },
  {
   "cell_type": "code",
   "execution_count": null,
   "metadata": {},
   "outputs": [],
   "source": [
    "single_time_equiv"
   ]
  },
  {
   "cell_type": "code",
   "execution_count": null,
   "metadata": {},
   "outputs": [],
   "source": [
    "CircuitEquiv(\n",
    "                    Circuit(ExprArray(ExprTuple(ExprRange(j, MultiQubitGate(IndexedVar(B, j), Set(Add(m, one), Add(m, k, two))), one, n)),\n",
    "                            ExprTuple(ExprRange(j, MultiQubitGate(IndexedVar(D, j), Set(Add(m, one), Add(m, k, two))), one, n)))),\n",
    "                    Circuit(ExprArray(ExprTuple(ExprRange(j, MultiQubitGate(IndexedVar(F, j), Set(Add(m, one), Add(m, k, two))), one, n)),\n",
    "                            ExprTuple(ExprRange(j, MultiQubitGate(IndexedVar(G, j), Set(Add(m, one), Add(m, k, two))), one, n))))\n",
    "            ).lhs"
   ]
  },
  {
   "cell_type": "code",
   "execution_count": null,
   "metadata": {},
   "outputs": [],
   "source": [
    "ExprRange(i, ExprTuple(ExprRange(j, MultiQubitGate(Aij, Sij), one, n)), one, m).first().entries[0].first()"
   ]
  },
  {
   "cell_type": "code",
   "execution_count": null,
   "metadata": {},
   "outputs": [],
   "source": [
    "ExprRange(j, Gate(Aij), one, n).first().subExpr(1).subExpr(1)"
   ]
  },
  {
   "cell_type": "code",
   "execution_count": null,
   "metadata": {},
   "outputs": [],
   "source": [
    "ExprArray(ExprRange(i, ExprTuple(ExprRange(j, Gate(Aij), one, n)), one, m),\n",
    "                     ExprTuple(ExprRange(j, MultiQubitGate(IndexedVar(B, j), Set(Add(m, one), Add(m, k, two))), one, n)),\n",
    "        ExprRange(i, ExprTuple(ExprRange(j, MultiQubitGate(Cij, Rij), one, n)), one, k),\n",
    "                     ExprTuple(ExprRange(j, MultiQubitGate(IndexedVar(D, j), Set(Add(m, one), Add(m, k, two))), one, n)),\n",
    "        ExprRange(i, ExprTuple(ExprRange(j, Gate(Eij), one, n)), one, p))"
   ]
  },
  {
   "cell_type": "code",
   "execution_count": null,
   "metadata": {},
   "outputs": [],
   "source": [
    "Circuit(ExprArray(ExprRange(i, ExprTuple(ExprRange(j, Gate(Aij), one, n)), one, m),\n",
    "                     ExprTuple(ExprRange(j, MultiQubitGate(IndexedVar(B, j), Set(Add(m, one), Add(m, k, two))), one, n)),\n",
    "        ExprRange(i, ExprTuple(ExprRange(j, MultiQubitGate(Cij, Rij), one, n)), one, k),\n",
    "                     ExprTuple(ExprRange(j, MultiQubitGate(IndexedVar(D, j), Set(Add(m, one), Add(m, k, two))), one, n)),\n",
    "        ExprRange(i, ExprTuple(ExprRange(j, Gate(Eij), one, n)), one, p)))"
   ]
  },
  {
   "cell_type": "code",
   "execution_count": null,
   "metadata": {},
   "outputs": [],
   "source": [
    "Circuit(ExprArray(ExprRange(i, ExprTuple(ExprRange(j, MultiQubitGate(Aij, Sij), one, n)), one, m),\n",
    "                     ExprTuple(ExprRange(j, MultiQubitGate(IndexedVar(B, j), Set(Add(m, one), Add(m, k, two))), one, n)),\n",
    "        ExprRange(i, ExprTuple(ExprRange(j, MultiQubitGate(Cij, Rij), one, n)), one, k),\n",
    "                     ExprTuple(ExprRange(j, MultiQubitGate(IndexedVar(D, j), Set(Add(m, one), Add(m, k, two))), one, n)),\n",
    "        ExprRange(i, ExprTuple(ExprRange(j, MultiQubitGate(Eij, Qij), one, n)), one, p)))"
   ]
  },
  {
   "cell_type": "code",
   "execution_count": null,
   "metadata": {},
   "outputs": [],
   "source": [
    "Circuit(ExprArray(ExprRange(i, ExprTuple(ExprRange(j, MultiQubitGate(Aij, Sij), one, n)), one, m),\n",
    "                     ExprTuple(ExprRange(j, MultiQubitGate(IndexedVar(B, j), Set(two, four)), one, n)),\n",
    "        ExprRange(i, ExprTuple(ExprRange(j, MultiQubitGate(Cij, Rij), one, n)), one, k),\n",
    "                     ExprTuple(ExprRange(j, MultiQubitGate(IndexedVar(D, j), Set(two, five)), one, n)),\n",
    "        ExprRange(i, ExprTuple(ExprRange(j, MultiQubitGate(Eij, Qij), one, n)), one, p)))"
   ]
  },
  {
   "cell_type": "code",
   "execution_count": null,
   "metadata": {},
   "outputs": [],
   "source": [
    "\n",
    "        Implies(\n",
    "            CircuitEquiv(\n",
    "                    Circuit(ExprArray(ExprTuple(ExprRange(j, MultiQubitGate(IndexedVar(B, j), Set(Add(m, one), Add(m, k, two))), one, n)),\n",
    "                            ExprTuple(ExprRange(j, MultiQubitGate(IndexedVar(D, j), Set(Add(m, one), Add(m, k, two))), one, n)))),\n",
    "                    Circuit(ExprArray(ExprTuple(ExprRange(j, MultiQubitGate(IndexedVar(F, j), Set(Add(m, one), Add(m, k, two))), one, n)),\n",
    "                            ExprTuple(ExprRange(j, MultiQubitGate(IndexedVar(G, j), Set(Add(m, one), Add(m, k, two))), one, n))))\n",
    "            ),\n",
    "            CircuitEquiv(\n",
    "                    Circuit(ExprArray(ExprRange(i, ExprTuple(ExprRange(j, MultiQubitGate(Aij, Sij), one, n)), one, m),\n",
    "                            ExprTuple(ExprRange(j, MultiQubitGate(IndexedVar(B, j), Set(Add(m, one), Add(m, k, two))), one, n)),\n",
    "                            ExprRange(i, ExprTuple(ExprRange(j, MultiQubitGate(Cij, Rij), one, n)), one, k),\n",
    "                            ExprTuple(ExprRange(j, MultiQubitGate(IndexedVar(D, j), Set(Add(m, one), Add(m, k, two))), one, n)),\n",
    "                            ExprRange(i, ExprTuple(ExprRange(j, MultiQubitGate(Eij, Qij), one, n)), one, p))),\n",
    "                    Circuit(ExprArray(ExprRange(i, ExprTuple(ExprRange(j, MultiQubitGate(Aij, Sij), one, n)), one, m),\n",
    "                            ExprTuple(ExprRange(j, MultiQubitGate(IndexedVar(F, j), Set(Add(m, one), Add(m, k, two))), one, n)),\n",
    "                            ExprRange(i, ExprTuple(ExprRange(j, MultiQubitGate(Cij, Rij), one, n)), one, k),\n",
    "                            ExprTuple(ExprRange(j, MultiQubitGate(IndexedVar(G, j), Set(Add(m, one), Add(m, k, two))), one, n)),\n",
    "                            ExprRange(i, ExprTuple(ExprRange(j, MultiQubitGate(Eij, Qij), one, n)), one, p))))\n",
    "            )\n",
    "        \n"
   ]
  },
  {
   "cell_type": "code",
   "execution_count": null,
   "metadata": {},
   "outputs": [],
   "source": [
    "Circuit(ExprArray(ExprTuple(Gate(X), Output(ket0), Input(ket0), Gate(H)))).latex()"
   ]
  },
  {
   "cell_type": "code",
   "execution_count": null,
   "metadata": {},
   "outputs": [],
   "source": [
    "Circuit(ExprArray(ExprTuple(Input(ket0), Gate(H), MultiQubitGate(X, Set(one, three)), Gate(H), Output(ketPlus)), \n",
    "        ExprTuple(Input(ket1), MultiQubitGate(H, Set(two, three)), MultiQubitGate(H, Set(two)), Gate(X), Output(ketMinus)),\n",
    "       ExprTuple(Input(ket1), MultiQubitGate(H, Set(two, three)), MultiQubitGate(X, Set(one, three)), Gate(X), Output(ketMinus))))"
   ]
  },
  {
   "cell_type": "code",
   "execution_count": null,
   "metadata": {},
   "outputs": [],
   "source": [
    "Circuit(ExprArray(ExprTuple(ExprRange(j, Gate(IndexedVar(B, j)), one, n))))"
   ]
  },
  {
   "cell_type": "code",
   "execution_count": null,
   "metadata": {},
   "outputs": [],
   "source": [
    "CircuitEquiv(\n",
    "                    Circuit(ExprArray(ExprTuple(ExprRange(j, Gate(IndexedVar(B, j)), one, n)))),\n",
    "                    Circuit(ExprArray(ExprTuple(ExprRange(j, Gate(IndexedVar(D, j)), one, n)))))"
   ]
  },
  {
   "cell_type": "code",
   "execution_count": null,
   "metadata": {},
   "outputs": [],
   "source": [
    "Circuit(ExprArray(ExprRange(i, ExprTuple(ExprRange(j, MultiQubitGate(Cij, Rij), one, n)), one, k)))"
   ]
  },
  {
   "cell_type": "code",
   "execution_count": null,
   "metadata": {},
   "outputs": [],
   "source": [
    "Circuit(ExprArray(ExprRange(i, ExprTuple(ExprRange(j, MultiQubitGate(Aij, Sij), one, n)), one, m),\n",
    "                            ExprTuple(ExprRange(j, Gate(IndexedVar(B, j)), one, n)),\n",
    "                            ExprRange(i, ExprTuple(ExprRange(j, MultiQubitGate(Cij, Rij), one, n)), one, k)))"
   ]
  },
  {
   "cell_type": "code",
   "execution_count": null,
   "metadata": {},
   "outputs": [],
   "source": [
    "CircuitEquiv(\n",
    "                    Circuit(ExprArray(ExprRange(i, ExprTuple(ExprRange(j, MultiQubitGate(Aij, Sij), one, n)), one, m),\n",
    "                            ExprTuple(ExprRange(j, Gate(IndexedVar(B, j)), one, n)),\n",
    "                            ExprRange(i, ExprTuple(ExprRange(j, MultiQubitGate(Cij, Rij), one, n)), one, k))),\n",
    "                    Circuit(ExprArray(ExprRange(i, ExprTuple(ExprRange(j, MultiQubitGate(Aij, Sij), one, n)), one, m),\n",
    "                            ExprTuple(ExprRange(j, Gate(IndexedVar(D, j)), one, n)),\n",
    "                            ExprRange(i, ExprTuple(ExprRange(j, MultiQubitGate(Cij, Rij), one, n)), one, k)))\n",
    "            )"
   ]
  },
  {
   "cell_type": "code",
   "execution_count": null,
   "metadata": {},
   "outputs": [],
   "source": [
    "Circuit(ExprArray(ExprRange(i, ExprTuple(ExprRange(j, MultiQubitGate(Aij, Rij), one, k), \n",
    "                                            MultiQubitGate(IndexedVar(B, i), IndexedVar(S, i)),\n",
    "                               ExprRange(j, MultiQubitGate(Cij, Qij), one, h)), \n",
    "                                    one, m)))"
   ]
  },
  {
   "cell_type": "code",
   "execution_count": null,
   "metadata": {},
   "outputs": [],
   "source": [
    "print(Implies(\n",
    "            CircuitEquiv(\n",
    "                        Circuit(ExprArray(ExprRange(i, ExprTuple(MultiQubitGate(IndexedVar(B, i), IndexedVar(S, i))), one, m))),\n",
    "                        Circuit(ExprArray(ExprRange(i, ExprTuple(MultiQubitGate(IndexedVar(D, i), IndexedVar(S, i))), one, m)))\n",
    "            ),\n",
    "            CircuitEquiv(\n",
    "                        Circuit(ExprArray(ExprRange(i, ExprTuple(ExprRange(j, MultiQubitGate(Aij, Rij), one, k), \n",
    "                                            MultiQubitGate(IndexedVar(B, i), IndexedVar(S, i)),\n",
    "                                            ExprRange(j, MultiQubitGate(Cij, Qij), one, h)), \n",
    "                                    one, m))),\n",
    "                        Circuit(ExprArray(ExprRange(i, ExprTuple(ExprRange(j, MultiQubitGate(Aij, Rij), one, k), \n",
    "                                            MultiQubitGate(IndexedVar(D, i), IndexedVar(S, i)),\n",
    "                                            ExprRange(j, MultiQubitGate(Cij, Qij), one, h)), \n",
    "                                    one, m)))\n",
    "            )\n",
    "        ).withWrappingAt(1).latex())"
   ]
  },
  {
   "cell_type": "code",
   "execution_count": null,
   "metadata": {},
   "outputs": [],
   "source": [
    "Implies(\n",
    "            CircuitEquiv(\n",
    "                        Circuit(ExprArray(ExprRange(i, ExprTuple(MultiQubitGate(IndexedVar(B, i), IndexedVar(S, i))), one, m))),\n",
    "                        Circuit(ExprArray(ExprRange(i, ExprTuple(MultiQubitGate(IndexedVar(D, i), IndexedVar(S, i))), one, m)))\n",
    "            ),\n",
    "            CircuitEquiv(\n",
    "                        Circuit(ExprArray(ExprRange(i, ExprTuple(ExprRange(j, MultiQubitGate(Aij, Rij), one, k), \n",
    "                                            MultiQubitGate(IndexedVar(B, i), IndexedVar(S, i)),\n",
    "                                            ExprRange(j, MultiQubitGate(Cij, Qij), one, h)), \n",
    "                                    one, m))),\n",
    "                        Circuit(ExprArray(ExprRange(i, ExprTuple(ExprRange(j, MultiQubitGate(Aij, Rij), one, k), \n",
    "                                            MultiQubitGate(IndexedVar(D, i), IndexedVar(S, i)),\n",
    "                                            ExprRange(j, MultiQubitGate(Cij, Qij), one, h)), \n",
    "                                    one, m)))\n",
    "            )\n",
    "        ).withWrappingAt(1)"
   ]
  },
  {
   "cell_type": "code",
   "execution_count": null,
   "metadata": {},
   "outputs": [],
   "source": [
    "CircuitEquiv(Circuit(ExprArray(ExprRange(i, ExprTuple(ExprRange(j, MultiQubitGate(Aij, Sij), one, m)), one, q))),\n",
    "                     Circuit(ExprArray(ExprRange(i, ExprTuple(ExprRange(j, MultiQubitGate(Aij, Sij), one, m)), one, q))))"
   ]
  },
  {
   "cell_type": "code",
   "execution_count": null,
   "metadata": {},
   "outputs": [],
   "source": [
    "print(CircuitEquiv(Circuit(ExprArray(ExprRange(i, ExprTuple(ExprRange(j, MultiQubitGate(Aij, Sij), one, m)), one, q))),\n",
    "                   Circuit(ExprArray(ExprRange(i, ExprTuple(ExprRange(j, MultiQubitGate(Aij, Sij), one, m)), one, q)))).latex())"
   ]
  },
  {
   "cell_type": "code",
   "execution_count": null,
   "metadata": {},
   "outputs": [],
   "source": [
    "Circuit(ExprArray(ExprRange(i, ExprTuple(ExprRange(j, MultiQubitGate(Aij, Sij), one, m)), one, q),\n",
    "        ExprTuple(ExprRange(i, MultiQubitGate(IndexedVar(B, i), IndexedVar(S, i)), one, m)),\n",
    "        ExprRange(i, ExprTuple(ExprRange(j, MultiQubitGate(Cij, Sij), one, m)), one, s)))"
   ]
  },
  {
   "cell_type": "code",
   "execution_count": null,
   "metadata": {},
   "outputs": [],
   "source": [
    "Circuit(ExprArray(ExprRange(i, ExprTuple(ExprRange(j, MultiQubitGate(Bij, Sij), one, n)), one, m)))"
   ]
  },
  {
   "cell_type": "code",
   "execution_count": null,
   "metadata": {},
   "outputs": [],
   "source": [
    "Circuit(ExprArray(ExprTuple(Input(ket0), Gate(H), Output(ketPlus)), \n",
    "        ExprTuple(Input(ket1), MultiQubitGate(H, Set(two)), Output(ketMinus))))\n",
    "# MultiQubitGate of a single gate - automatic equality reductions. "
   ]
  },
  {
   "cell_type": "code",
   "execution_count": null,
   "metadata": {},
   "outputs": [],
   "source": [
    "Circuit(ExprArray(ExprTuple(Input(ket0), Gate(IdentityOp()), Output(ketPlus)), \n",
    "        ExprTuple(Input(ket1), Gate(), Output(ketMinus))))\n",
    "# Empty gate reduction"
   ]
  },
  {
   "cell_type": "code",
   "execution_count": null,
   "metadata": {},
   "outputs": [],
   "source": [
    "#Circuit(ExprRange(i, Gate(ExprRange(j, Aij, one, n)), one, m))"
   ]
  },
  {
   "cell_type": "code",
   "execution_count": null,
   "metadata": {},
   "outputs": [],
   "source": [
    "# multigate block test\n",
    "Circuit(ExprArray(ExprTuple(Input(ket0), MultiQubitGate(CONTROL, Set(one, two, three, four, six, seven)), Output(ket0)), \n",
    "        ExprTuple(Input(ket0), MultiQubitGate(CONTROL, Set(one, two, three, four, six, seven)), \n",
    "                  Output(ket0)), \n",
    "        ExprTuple(Input(ket0), MultiQubitGate(Z, Set(one, two, three, four, six, seven)), Output(ket0)), \n",
    "        ExprTuple(Input(ket1), MultiQubitGate(X, Set(one, two, three, four, six, seven)), \n",
    "                  Output(ket1)),\n",
    "        ExprTuple(Input(ket0), Gate(IdentityOp()), Output(ket0)), \n",
    "        ExprTuple(Input(ket1), MultiQubitGate(X, Set(one, two, three, four, six, seven)), \n",
    "                  Output(ket1)),\n",
    "        ExprTuple(Input(ket1), MultiQubitGate(Z, Set(one, two, three, four, six, seven)), \n",
    "                  Output(ket1))))"
   ]
  },
  {
   "cell_type": "code",
   "execution_count": null,
   "metadata": {},
   "outputs": [],
   "source": [
    "# multigate block test\n",
    "Circuit(ExprArray(ExprTuple(Input(ket0), MultiQubitGate(CONTROL, Set(one, two, three, four)), Output(ket0)), \n",
    "        ExprTuple(Input(ket0), MultiQubitGate(Z, Set(one, two, three, four)), \n",
    "                  Output(ket0)), \n",
    "        ExprTuple(Input(ket0), MultiQubitGate(Z, Set(one, two, three, four)), Output(ket0)), \n",
    "        ExprTuple(Input(ket1), MultiQubitGate(Z, Set(one, two, three, four)), \n",
    "                  Output(ket1))))"
   ]
  },
  {
   "cell_type": "code",
   "execution_count": null,
   "metadata": {},
   "outputs": [],
   "source": [
    "# Single Qubit Gates"
   ]
  },
  {
   "cell_type": "code",
   "execution_count": null,
   "metadata": {},
   "outputs": [],
   "source": [
    "Circuit(ExprArray(ExprTuple(Input(ket0), Gate(H), Output(ketPlus)), \n",
    "        ExprTuple(Input(ket1), Gate(H), Output(ketMinus))))\n",
    "# H gate (both inputs)"
   ]
  },
  {
   "cell_type": "code",
   "execution_count": null,
   "metadata": {},
   "outputs": [],
   "source": [
    "Circuit(ExprArray(ExprTuple(Input(ket0), Gate(X), Output(ket1)), \n",
    "        ExprTuple(Input(ket1), Gate(X), Output(ket0))))\n",
    "# X gate (both inputs)"
   ]
  },
  {
   "cell_type": "code",
   "execution_count": null,
   "metadata": {},
   "outputs": [],
   "source": [
    "Circuit(ExprArray(ExprTuple(Input(ket0), Gate(Z), Output(ket0)), \n",
    "        ExprTuple(Input(ket1), Gate(Z), Output(Neg(ket1)))))\n",
    "# Z gate (both inputs)"
   ]
  },
  {
   "cell_type": "code",
   "execution_count": null,
   "metadata": {},
   "outputs": [],
   "source": [
    "#Two Qubit Gates"
   ]
  },
  {
   "cell_type": "code",
   "execution_count": null,
   "metadata": {},
   "outputs": [],
   "source": [
    "Circuit(ExprArray(ExprTuple(Input(ket0), MultiQubitGate(CONTROL, Set(one, two)), Output(ket0)), \n",
    "        ExprTuple(Input(ket0), MultiQubitGate(Z, Set(one, two)), \n",
    "                  Output(ket0)), \n",
    "        ExprTuple(Input(ket0), MultiQubitGate(CONTROL, Set(three, four)), Output(ket0)), \n",
    "        ExprTuple(Input(ket1), MultiQubitGate(Z, Set(three, four)), \n",
    "                  Output(ket1))))\n",
    "#CZ gate - 0 qubit control for 1 and 0 qubit inputs"
   ]
  },
  {
   "cell_type": "code",
   "execution_count": null,
   "metadata": {},
   "outputs": [],
   "source": [
    "Circuit(ExprArray(ExprTuple(Input(ket1), MultiQubitGate(CONTROL, Set(one, two)), Output(ket1)), \n",
    "        ExprTuple(Input(ket0), MultiQubitGate(Z, Set(one, two)), \n",
    "                  Output(ket0)), \n",
    "        ExprTuple(Input(ket1), MultiQubitGate(CONTROL, Set(three, four)), Output(ket1)), \n",
    "        ExprTuple(Input(ket1), MultiQubitGate(Z, Set(three, four)), \n",
    "                  Output(Neg(ket1))))) \n",
    "#CZ gate - 1 qubit control for 1 and 0 qubit inputs"
   ]
  },
  {
   "cell_type": "code",
   "execution_count": null,
   "metadata": {},
   "outputs": [],
   "source": [
    "Circuit(ExprArray(ExprTuple(Input(ket0), MultiQubitGate(CONTROL, Set(one, two)), Output(ket0)), \n",
    "        ExprTuple(Input(ket0), MultiQubitGate(X, Set(one, two)), Output(ket0)), \n",
    "        ExprTuple(Input(ket0), MultiQubitGate(CONTROL, Set(three, four)), Output(ket0)), \n",
    "        ExprTuple(Input(ket1), MultiQubitGate(X, Set(three, four)), Output(ket1)))) \n",
    "#CX gate - 0 qubit control for 1 and 0 qubit inputs"
   ]
  },
  {
   "cell_type": "code",
   "execution_count": null,
   "metadata": {},
   "outputs": [],
   "source": [
    "Circuit(ExprArray(ExprTuple(Input(ket1), MultiQubitGate(CONTROL, Set(one, two)), Output(ket1)), \n",
    "        ExprTuple(Input(ket0), MultiQubitGate(X, Set(one, two)), Output(ket1)), \n",
    "        ExprTuple(Input(ket1), MultiQubitGate(CONTROL, Set(three, four)), Output(ket1)), \n",
    "        ExprTuple(Input(ket1), MultiQubitGate(X, Set(three, four)), Output(ket0)))) \n",
    "#CX gate - 1 qubit control for 1 and 0 qubit inputs"
   ]
  },
  {
   "cell_type": "code",
   "execution_count": null,
   "metadata": {},
   "outputs": [],
   "source": [
    "Circuit(ExprArray(ExprTuple(Input(zero), MultiQubitGate(CLASSICAL_CONTROL, Set(one, two)), SPACE), \n",
    "        ExprTuple(Input(ket0), MultiQubitGate(Z, Set(one, two)), \n",
    "                  Output(ket0)), \n",
    "        ExprTuple(Input(zero), MultiQubitGate(CLASSICAL_CONTROL, Set(three, four)), SPACE), \n",
    "        ExprTuple(Input(ket1), MultiQubitGate(Z, Set(three, four)), \n",
    "                  Output(ket1)))) \n",
    "#cZ gate - 0 classical bit control for 1 and 0 qubit inputs"
   ]
  },
  {
   "cell_type": "code",
   "execution_count": null,
   "metadata": {},
   "outputs": [],
   "source": [
    "Circuit(ExprArray(ExprTuple(Input(one), MultiQubitGate(CLASSICAL_CONTROL, Set(one, two)), SPACE), \n",
    "        ExprTuple(Input(ket0), MultiQubitGate(Z, Set(one, two)), \n",
    "                  Output(ket0)), \n",
    "        ExprTuple(Input(one), MultiQubitGate(CLASSICAL_CONTROL, Set(three, four)), SPACE), \n",
    "        ExprTuple(Input(ket1), MultiQubitGate(Z, Set(three, four)), \n",
    "                  Output(Neg(ket1)))))\n",
    "#cZ gate - 1 classical bit control for 1 and 0 qubit inputs"
   ]
  },
  {
   "cell_type": "code",
   "execution_count": null,
   "metadata": {},
   "outputs": [],
   "source": [
    "Circuit(ExprArray(ExprTuple(Input(zero), MultiQubitGate(CLASSICAL_CONTROL, Set(one, two)), SPACE), \n",
    "        ExprTuple(Input(ket0), MultiQubitGate(X, Set(one, two)), \n",
    "                  Output(ket0)), \n",
    "        ExprTuple(Input(zero), MultiQubitGate(CLASSICAL_CONTROL, Set(three, four)), SPACE), \n",
    "        ExprTuple(Input(ket1), MultiQubitGate(X, Set(three, four)), \n",
    "                  Output(ket1)))) \n",
    "#cX gate - 0 classical bit control for 1 and 0 qubit inputs"
   ]
  },
  {
   "cell_type": "code",
   "execution_count": null,
   "metadata": {},
   "outputs": [],
   "source": [
    "Circuit(ExprArray(ExprTuple(Input(one), MultiQubitGate(CLASSICAL_CONTROL, Set(one, two)), SPACE), \n",
    "        ExprTuple(Input(ket0), MultiQubitGate(X, Set(one, two)), \n",
    "                  Output(ket1)), \n",
    "        ExprTuple(Input(one), MultiQubitGate(CLASSICAL_CONTROL, Set(three, four)), SPACE), \n",
    "        ExprTuple(Input(ket1), MultiQubitGate(X, Set(three, four)), \n",
    "                  Output(ket0))))\n",
    "#cX gate - 1 classical bit control for 1 and 0 qubit inputs"
   ]
  },
  {
   "cell_type": "code",
   "execution_count": null,
   "metadata": {},
   "outputs": [],
   "source": [
    "#NULL GATES"
   ]
  },
  {
   "cell_type": "code",
   "execution_count": null,
   "metadata": {},
   "outputs": [],
   "source": [
    "Circuit(ExprArray(ExprTuple(Input(ket0), Gate(H), Gate(H), Output(ket0)), \n",
    "        ExprTuple(Input(ket1), Gate(H), Gate(H), Output(ket1))))"
   ]
  },
  {
   "cell_type": "code",
   "execution_count": null,
   "metadata": {},
   "outputs": [],
   "source": [
    "Circuit(ExprArray(ExprTuple(Input(ket0), Gate(X), Gate(X), Output(ket0)), \n",
    "        ExprTuple(Input(ket1), Gate(X), Gate(X), Output(ket1))))"
   ]
  },
  {
   "cell_type": "code",
   "execution_count": null,
   "metadata": {},
   "outputs": [],
   "source": [
    "Circuit(ExprArray(ExprTuple(Input(ket0), Gate(Z), Gate(Z), Output(ket0)), \n",
    "        ExprTuple(Input(ket1), Gate(Z), Gate(Z), Output(ket1))))"
   ]
  },
  {
   "cell_type": "code",
   "execution_count": null,
   "metadata": {},
   "outputs": [],
   "source": [
    "Circuit(ExprArray(ExprTuple(Input(ket0), MultiQubitGate(CONTROL, Set(one, two)), MultiQubitGate(CONTROL, Set(one, two)), \n",
    "                  Output(ket0)), \n",
    "        ExprTuple(Input(ket0), MultiQubitGate(Z, Set(one, two)), MultiQubitGate(Z, Set(one, two)), Output(ket0)), \n",
    "        ExprTuple(Input(ket0), MultiQubitGate(CONTROL, Set(three, four)), MultiQubitGate(CONTROL, Set(three, four)), \n",
    "                  Output(ket0)), \n",
    "        ExprTuple(Input(ket1), MultiQubitGate(Z, Set(three, four)), MultiQubitGate(Z, Set(three, four)), \n",
    "                  Output(ket1)),\n",
    "        ExprTuple(Input(ket1), MultiQubitGate(CONTROL, Set(five, six)), MultiQubitGate(CONTROL, Set(five, six)),\n",
    "                  Output(ket1)),\n",
    "        ExprTuple(Input(ket0), MultiQubitGate(Z, Set(five, six)), MultiQubitGate(Z, Set(five, six)),\n",
    "                  Output(ket0)),\n",
    "        ExprTuple(Input(ket1), MultiQubitGate(CONTROL, Set(seven, eight)), MultiQubitGate(CONTROL, Set(seven, eight)), \n",
    "                  Output(ket1)), \n",
    "        ExprTuple(Input(ket1), MultiQubitGate(Z, Set(seven, eight)), MultiQubitGate(Z, Set(seven, eight)), \n",
    "                  Output(ket1)))) \n",
    "# Double CZ gate"
   ]
  },
  {
   "cell_type": "code",
   "execution_count": null,
   "metadata": {},
   "outputs": [],
   "source": [
    "Circuit(ExprArray(ExprTuple(Input(ket0), MultiQubitGate(CONTROL, Set(one, two)), MultiQubitGate(CONTROL, Set(one, two)), \n",
    "                  Output(ket0)), \n",
    "        ExprTuple(Input(ket0), MultiQubitGate(X, Set(one, two)), MultiQubitGate(X, Set(one, two)), Output(ket0)), \n",
    "        ExprTuple(Input(ket0), MultiQubitGate(CONTROL, Set(three, four)), MultiQubitGate(CONTROL, Set(three, four)), \n",
    "                  Output(ket0)), \n",
    "        ExprTuple(Input(ket1), MultiQubitGate(X, Set(three, four)), MultiQubitGate(X, Set(three, four)), \n",
    "                  Output(ket1)),\n",
    "        ExprTuple(Input(ket1), MultiQubitGate(CONTROL, Set(five, six)), MultiQubitGate(CONTROL, Set(five, six)),\n",
    "                  Output(ket1)),\n",
    "        ExprTuple(Input(ket0), MultiQubitGate(X, Set(five, six)), MultiQubitGate(X, Set(five, six)),\n",
    "                  Output(ket0)),\n",
    "        ExprTuple(Input(ket1), MultiQubitGate(CONTROL, Set(seven, eight)), MultiQubitGate(CONTROL, Set(seven, eight)), \n",
    "                  Output(ket1)), \n",
    "        ExprTuple(Input(ket1), MultiQubitGate(X, Set(seven, eight)), MultiQubitGate(X, Set(seven, eight)), \n",
    "                  Output(ket1)))) \n",
    "# Double CX gate"
   ]
  },
  {
   "cell_type": "code",
   "execution_count": null,
   "metadata": {},
   "outputs": [],
   "source": [
    "Circuit(ExprArray(ExprTuple(Input(ket0), MultiQubitGate(CONTROL, Set(one, two)), Output(ket0)), \n",
    "        ExprTuple(Input(ket0), MultiQubitGate(U, Set(one, two)), \n",
    "                  Output(ket0)), \n",
    "        ExprTuple(Input(ket0), MultiQubitGate(CONTROL, Set(three, four)), Output(ket0)), \n",
    "        ExprTuple(Input(ket1), MultiQubitGate(U, Set(three, four)), \n",
    "                  Output(ket1)))) \n",
    "#CU gate - 0 classical bit control for 1 and 0 qubit inputs (Always null regardless of what U is)"
   ]
  },
  {
   "cell_type": "code",
   "execution_count": null,
   "metadata": {},
   "outputs": [],
   "source": [
    "# CONGRUENCIES"
   ]
  },
  {
   "cell_type": "code",
   "execution_count": null,
   "metadata": {},
   "outputs": [],
   "source": [
    "Circuit(ExprArray(\n",
    "    ExprTuple(Input(ket0), MultiQubitGate(Z, Set(one, two)), Output(ket0)), \n",
    "    ExprTuple(Input(ket0), MultiQubitGate(CONTROL, Set(one, two)), \n",
    "              Output(ket0)), \n",
    "    ExprTuple(Input(ket0), MultiQubitGate(Z, Set(three, four)), Output(ket0)), \n",
    "    ExprTuple(Input(ket1), MultiQubitGate(CONTROL, Set(three, four)), \n",
    "                Output(ket1)),\n",
    "    ExprTuple(Input(ket1), MultiQubitGate(Z, Set(five, six)), Output(ket1)), \n",
    "    ExprTuple(Input(ket0), MultiQubitGate(CONTROL, Set(five, six)), \n",
    "              Output(ket0)), \n",
    "    ExprTuple(Input(ket1), MultiQubitGate(Z, Set(seven, eight)), Output(Neg(ket1))), \n",
    "    ExprTuple(Input(ket1), MultiQubitGate(CONTROL, Set(seven, eight)), \n",
    "              Output(ket1))))\n",
    "\n",
    "#Congruent to a regular CZ gate"
   ]
  },
  {
   "cell_type": "code",
   "execution_count": null,
   "metadata": {},
   "outputs": [],
   "source": [
    "Circuit(ExprArray(\n",
    "        ExprTuple(Input(ket0), Gate(IdentityOp()), MultiQubitGate(CONTROL, Set(one, two)), Gate(IdentityOp()), Output(ket0)), \n",
    "        ExprTuple(Input(ket0), Gate(H), MultiQubitGate(Z, Set(one, two)), Gate(H), Output(ket0)),\n",
    "        ExprTuple(Input(ket0), Gate(IdentityOp()), MultiQubitGate(CONTROL, Set(three, four)), Gate(IdentityOp()), Output(ket0)), \n",
    "        ExprTuple(Input(ket1), Gate(H), MultiQubitGate(Z, Set(three, four)), Gate(H), Output(ket1)),\n",
    "        ExprTuple(Input(ket1), Gate(IdentityOp()), MultiQubitGate(CONTROL, Set(five, six)), Gate(IdentityOp()), Output(ket1)), \n",
    "        ExprTuple(Input(ket0), Gate(H), MultiQubitGate(Z, Set(five, six)), Gate(H), Output(ket1)),\n",
    "        ExprTuple(Input(ket1), Gate(IdentityOp()), MultiQubitGate(CONTROL, Set(seven, eight)), Gate(IdentityOp()), Output(ket1)), \n",
    "        ExprTuple(Input(ket1), Gate(H), MultiQubitGate(Z, Set(seven, eight)), Gate(H), Output(ket0))))\n",
    "# Congruent to a CX gate"
   ]
  },
  {
   "cell_type": "code",
   "execution_count": null,
   "metadata": {},
   "outputs": [],
   "source": [
    "Circuit(ExprArray(ExprTuple(Input(ket0), Gate(H), MultiQubitGate(CONTROL, Set(one, two)), Gate(H), Output(ket0)), \n",
    "        ExprTuple(Input(ket0), Gate(H), MultiQubitGate(Z, Set(one, two)), Gate(H), Output(ket0)),\n",
    "        ExprTuple(Input(ket0), Gate(H), MultiQubitGate(CONTROL, Set(three, four)), Gate(H), Output(ket0)), \n",
    "        ExprTuple(Input(ket1), Gate(H), MultiQubitGate(Z, Set(three, four)), Gate(H), Output(ket1)),\n",
    "        ExprTuple(Input(ket1), Gate(H), MultiQubitGate(CONTROL, Set(five, six)), Gate(H), Output(ket1)), \n",
    "        ExprTuple(Input(ket0), Gate(H), MultiQubitGate(Z, Set(five, six)), Gate(H), Output(ket1)),\n",
    "        ExprTuple(Input(ket1), Gate(H), MultiQubitGate(CONTROL, Set(seven, eight)), Gate(H), Output(ket1)), \n",
    "        ExprTuple(Input(ket1), Gate(H), MultiQubitGate(Z, Set(seven, eight)), Gate(H), Output(ket0))))\n",
    "# Intermediate step to show the congruence of a switched CX gate"
   ]
  },
  {
   "cell_type": "code",
   "execution_count": null,
   "metadata": {},
   "outputs": [],
   "source": [
    "Circuit(ExprArray(ExprTuple(Input(ket0), Gate(H), MultiQubitGate(Z, Set(one, two)), Gate(H), Output(ket0)), \n",
    "        ExprTuple(Input(ket0), Gate(H), MultiQubitGate(CONTROL, Set(one, two)), Gate(H), Output(ket0)),\n",
    "        ExprTuple(Input(ket0), Gate(H), MultiQubitGate(Z, Set(three, four)), Gate(H), Output(ket1)), \n",
    "        ExprTuple(Input(ket1), Gate(H), MultiQubitGate(CONTROL, Set(three, four)), Gate(H), Output(ket1)),\n",
    "        ExprTuple(Input(ket1), Gate(H), MultiQubitGate(Z, Set(five, six)), Gate(H), Output(ket1)), \n",
    "        ExprTuple(Input(ket0), Gate(H), MultiQubitGate(CONTROL, Set(five, six)), Gate(H), Output(ket0)),\n",
    "        ExprTuple(Input(ket1), Gate(H), MultiQubitGate(Z, Set(seven, eight)), Gate(H), Output(ket0)), \n",
    "        ExprTuple(Input(ket1), Gate(H), MultiQubitGate(CONTROL, Set(seven, eight)), Gate(H), Output(ket1))))\n",
    "# using cell 24 we can show that this is equivalent to cell 26"
   ]
  },
  {
   "cell_type": "code",
   "execution_count": null,
   "metadata": {},
   "outputs": [],
   "source": [
    "Circuit(ExprArray(ExprTuple(Input(ket0), Gate(H), MultiQubitGate(CONTROL, Set(one, two)), Gate(H), Output(ket0)), \n",
    "        ExprTuple(Input(ket0), Gate(IdentityOp()), MultiQubitGate(X, Set(one, two)), Gate(IdentityOp()), Output(ket0)),\n",
    "        ExprTuple(Input(ket0), Gate(H), MultiQubitGate(CONTROL, Set(three, four)), Gate(H), Output(ket0)), \n",
    "        ExprTuple(Input(ket1), Gate(IdentityOp()), MultiQubitGate(X, Set(three, four)), Gate(IdentityOp()), Output(ket1)),\n",
    "        ExprTuple(Input(ket1), Gate(H), MultiQubitGate(CONTROL, Set(five, six)), Gate(H), Output(ket1)), \n",
    "        ExprTuple(Input(ket0), Gate(IdentityOp()), MultiQubitGate(X, Set(five, six)), Gate(IdentityOp()), Output(ket1)),\n",
    "        ExprTuple(Input(ket1), Gate(H), MultiQubitGate(CONTROL, Set(seven, eight)), Gate(H), Output(ket1)), \n",
    "        ExprTuple(Input(ket1), Gate(IdentityOp()), MultiQubitGate(X, Set(seven, eight)), Gate(IdentityOp()), Output(ket0))))\n",
    "# using cell 26, we apply instantiation to return to the X gates"
   ]
  },
  {
   "cell_type": "code",
   "execution_count": null,
   "metadata": {},
   "outputs": [],
   "source": [
    "Circuit(ExprArray(ExprTuple(Input(ket0), Gate(IdentityOp()), MultiQubitGate(X, Set(one, two)), Gate(IdentityOp()), Output(ket0)), \n",
    "        ExprTuple(Input(ket0), Gate(H), MultiQubitGate(CONTROL, Set(one, two)), Gate(H), Output(ket0)),\n",
    "        ExprTuple(Input(ket0), Gate(IdentityOp()), MultiQubitGate(X, Set(three, four)), Gate(IdentityOp()), Output(ket1)), \n",
    "        ExprTuple(Input(ket1), Gate(H), MultiQubitGate(CONTROL, Set(three, four)), Gate(H), Output(ket1)),\n",
    "        ExprTuple(Input(ket1), Gate(IdentityOp()), MultiQubitGate(X, Set(five, six)), Gate(IdentityOp()), Output(ket1)), \n",
    "        ExprTuple(Input(ket0), Gate(H), MultiQubitGate(CONTROL, Set(five, six)), Gate(H), Output(ket0)),\n",
    "        ExprTuple(Input(ket1), Gate(IdentityOp()), MultiQubitGate(X, Set(seven, eight)), Gate(IdentityOp()), Output(ket0)), \n",
    "        ExprTuple(Input(ket1), Gate(H), MultiQubitGate(CONTROL, Set(seven, eight)), Gate(H), Output(ket1))))\n",
    "# using cell 27 we can show that cell 28 is congruent to this cell "
   ]
  },
  {
   "cell_type": "code",
   "execution_count": null,
   "metadata": {},
   "outputs": [],
   "source": [
    "# try:\n",
    "#     Circuit(ExprArray(ExprRange(i, ExprTuple(ExprRange(j, Aij, one, m)), one, q),\n",
    "#          ExprTuple(ExprRange(j, Bij, one, m)),\n",
    "#          ExprRange(i, ExprTuple(ExprRange(j, Cij, one, m)), one, s))).latex()\n",
    "#     assert False, \"Expected a TypeError error.\"\n",
    "# except TypeError as e:\n",
    "#     print(\"Expected error:\", e)"
   ]
  },
  {
   "cell_type": "code",
   "execution_count": null,
   "metadata": {},
   "outputs": [],
   "source": [
    "%end demonstrations"
   ]
  },
  {
   "cell_type": "code",
   "execution_count": null,
   "metadata": {},
   "outputs": [],
   "source": []
  }
 ],
 "metadata": {
  "kernelspec": {
   "display_name": "Python 3",
   "language": "python",
   "name": "python3"
  },
  "language_info": {
   "codemirror_mode": {
    "name": "ipython",
    "version": 3
   },
   "file_extension": ".py",
   "mimetype": "text/x-python",
   "name": "python",
   "nbconvert_exporter": "python",
   "pygments_lexer": "ipython3",
   "version": "3.7.3"
  }
 },
 "nbformat": 4,
 "nbformat_minor": 1
}
