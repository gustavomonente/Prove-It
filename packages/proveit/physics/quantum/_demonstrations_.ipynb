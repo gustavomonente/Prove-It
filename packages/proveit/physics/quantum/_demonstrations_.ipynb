{
 "cells": [
  {
   "cell_type": "markdown",
   "metadata": {},
   "source": [
    "Demonstrations for context <a class=\"ProveItLink\" href=\"_context_.ipynb\">proveit.physics.quantum</a>\n",
    "========"
   ]
  },
  {
   "cell_type": "code",
   "execution_count": 1,
   "metadata": {},
   "outputs": [],
   "source": [
    "import proveit\n",
    "#proveit.defaults.automation = False # prevents proveit from calling automations that are currently broken\n",
    "from proveit import ExprArray, ExprTuple, ExprRange, IndexedVar, varRange\n",
    "from proveit._common_ import A, B, C, D, E, F, G, K, M, Q, R, S, U, a, b, f, g, h, i, j, k, m, n, p, q, r, s, t, u, x, y \n",
    "from proveit.core_expr_types import Len\n",
    "from proveit.core_expr_types.expr_array._common_ import Aij, Bij, Cij, Dij, Eij, Qij, Rij, Sij\n",
    "from proveit.logic import Equals, Implies, InSet, Forall\n",
    "from proveit.logic.set_theory import Set\n",
    "from proveit.number import Add, Neg, zero, one, two, three, four, five, six, seven, eight, nine, Naturals, NaturalsPos, Complexes\n",
    "from proveit.number.numeral.deci._theorems_ import posnat1, posnat4\n",
    "from proveit.physics.quantum.circuit import Gate, Target, Circuit, Input, Output, MultiQubitGate, IdentityOp, CircuitEquiv\n",
    "from proveit.physics.quantum._common_ import H, X, Z, I, ket1, ket0, ketPlus, ketMinus, SPACE, CONTROL, CLASSICAL_CONTROL\n",
    "#from proveit.physics.quantum._axioms_ import substitution\n",
    "#from proveit.physics.quantum._theorems_ import single_time_equiv\n",
    "%begin demonstrations"
   ]
  },
  {
   "cell_type": "code",
   "execution_count": 2,
   "metadata": {},
   "outputs": [
    {
     "ename": "NameError",
     "evalue": "name 'indexed_var' is not defined",
     "output_type": "error",
     "traceback": [
      "\u001b[1;31m---------------------------------------------------------------------------\u001b[0m",
      "\u001b[1;31mNameError\u001b[0m                                 Traceback (most recent call last)",
      "\u001b[1;32m<ipython-input-2-0012df77ffec>\u001b[0m in \u001b[0;36m<module>\u001b[1;34m\u001b[0m\n\u001b[0;32m      5\u001b[0m \u001b[1;33m\u001b[0m\u001b[0m\n\u001b[0;32m      6\u001b[0m             CircuitEquiv(\n\u001b[1;32m----> 7\u001b[1;33m                         \u001b[0mCircuit\u001b[0m\u001b[1;33m(\u001b[0m\u001b[0mExprArray\u001b[0m\u001b[1;33m(\u001b[0m\u001b[0mExprRange\u001b[0m\u001b[1;33m(\u001b[0m\u001b[0mi\u001b[0m\u001b[1;33m,\u001b[0m \u001b[0mExprTuple\u001b[0m\u001b[1;33m(\u001b[0m\u001b[0mMultiQubitGate\u001b[0m\u001b[1;33m(\u001b[0m\u001b[0mindexed_var\u001b[0m\u001b[1;33m(\u001b[0m\u001b[0mB\u001b[0m\u001b[1;33m,\u001b[0m \u001b[0mi\u001b[0m\u001b[1;33m)\u001b[0m\u001b[1;33m,\u001b[0m \u001b[0mindexed_var\u001b[0m\u001b[1;33m(\u001b[0m\u001b[0mS\u001b[0m\u001b[1;33m,\u001b[0m \u001b[0mi\u001b[0m\u001b[1;33m)\u001b[0m\u001b[1;33m)\u001b[0m\u001b[1;33m)\u001b[0m\u001b[1;33m,\u001b[0m \u001b[0mone\u001b[0m\u001b[1;33m,\u001b[0m \u001b[0mm\u001b[0m\u001b[1;33m)\u001b[0m\u001b[1;33m)\u001b[0m\u001b[1;33m)\u001b[0m\u001b[1;33m,\u001b[0m\u001b[1;33m\u001b[0m\u001b[1;33m\u001b[0m\u001b[0m\n\u001b[0m\u001b[0;32m      8\u001b[0m                         \u001b[0mCircuit\u001b[0m\u001b[1;33m(\u001b[0m\u001b[0mExprArray\u001b[0m\u001b[1;33m(\u001b[0m\u001b[0mExprRange\u001b[0m\u001b[1;33m(\u001b[0m\u001b[0mi\u001b[0m\u001b[1;33m,\u001b[0m \u001b[0mExprTuple\u001b[0m\u001b[1;33m(\u001b[0m\u001b[0mMultiQubitGate\u001b[0m\u001b[1;33m(\u001b[0m\u001b[0mindexed_var\u001b[0m\u001b[1;33m(\u001b[0m\u001b[0mD\u001b[0m\u001b[1;33m,\u001b[0m \u001b[0mi\u001b[0m\u001b[1;33m)\u001b[0m\u001b[1;33m,\u001b[0m \u001b[0mindexed_var\u001b[0m\u001b[1;33m(\u001b[0m\u001b[0mS\u001b[0m\u001b[1;33m,\u001b[0m \u001b[0mi\u001b[0m\u001b[1;33m)\u001b[0m\u001b[1;33m)\u001b[0m\u001b[1;33m)\u001b[0m\u001b[1;33m,\u001b[0m \u001b[0mone\u001b[0m\u001b[1;33m,\u001b[0m \u001b[0mm\u001b[0m\u001b[1;33m)\u001b[0m\u001b[1;33m)\u001b[0m\u001b[1;33m)\u001b[0m\u001b[1;33m\u001b[0m\u001b[1;33m\u001b[0m\u001b[0m\n\u001b[0;32m      9\u001b[0m             )\n",
      "\u001b[1;31mNameError\u001b[0m: name 'indexed_var' is not defined"
     ]
    }
   ],
   "source": [
    "print(Forall ((h, k, m), Forall((varRange(A, [one, one], [m, k]), varRange(B, one, m), \n",
    "                                                varRange(C, [one, one], [m, h]), varRange(D, one, m), \n",
    "                                                varRange(S, one, m), varRange(R, [one, one], [m, k]), \n",
    "                                                varRange(Q, [one, one], [m, h])), \n",
    "        \n",
    "            CircuitEquiv(\n",
    "                        Circuit(ExprArray(ExprRange(i, ExprTuple(MultiQubitGate(IndexedVar(B, i), IndexedVar(S, i))), one, m))),\n",
    "                        Circuit(ExprArray(ExprRange(i, ExprTuple(MultiQubitGate(IndexedVar(D, i), IndexedVar(S, i))), one, m)))\n",
    "            )\n",
    "    ).wrapParams(), domain=NaturalsPos).withWrapping().latex())"
   ]
  },
  {
   "cell_type": "code",
   "execution_count": null,
   "metadata": {},
   "outputs": [],
   "source": [
    "Forall ((h, k, m), Forall((varRange(A, [one, one], [m, k]), varRange(B, one, m), \n",
    "                                                varRange(C, [one, one], [m, h]), varRange(D, one, m), \n",
    "                                                varRange(S, one, m), varRange(R, [one, one], [m, k]), \n",
    "                                                varRange(Q, [one, one], [m, h])), \n",
    "        \n",
    "            CircuitEquiv(\n",
    "                        Circuit(ExprArray(ExprRange(i, ExprTuple(MultiQubitGate(IndexedVar(B, i), IndexedVar(S, i))), one, m))),\n",
    "                        Circuit(ExprArray(ExprRange(i, ExprTuple(MultiQubitGate(IndexedVar(D, i), IndexedVar(S, i))), one, m)))\n",
    "            )\n",
    "    ).wrapParams(), domain=NaturalsPos)"
   ]
  },
  {
   "cell_type": "code",
   "execution_count": null,
   "metadata": {},
   "outputs": [],
   "source": [
    "Forall ((h, k, m), Forall((varRange(A, [one, one], [m, k]), varRange(B, one, m), \n",
    "                                                varRange(C, [one, one], [m, h]), varRange(D, one, m), \n",
    "                                                varRange(S, one, m), varRange(R, [one, one], [m, k]), \n",
    "                                                varRange(Q, [one, one], [m, h])), \n",
    "        \n",
    "            CircuitEquiv(\n",
    "                        Circuit(ExprArray(ExprRange(i, ExprTuple(MultiQubitGate(IndexedVar(B, i), IndexedVar(S, i))), one, m))),\n",
    "                        Circuit(ExprArray(ExprRange(i, ExprTuple(MultiQubitGate(IndexedVar(D, i), IndexedVar(S, i))), one, m)))\n",
    "            )\n",
    "    ).wrapParams(), domain=NaturalsPos)"
   ]
  },
  {
   "cell_type": "code",
   "execution_count": null,
   "metadata": {},
   "outputs": [],
   "source": [
    "Forall((varRange(A, [one, one], [m, k]), varRange(B, one, m), \n",
    "                                                varRange(C, [one, one], [m, h]), varRange(D, one, m), \n",
    "                                                varRange(S, one, m), varRange(R, [one, one], [m, k]), \n",
    "                                                varRange(Q, [one, one], [m, h])), \n",
    "        \n",
    "            CircuitEquiv(\n",
    "                        Circuit(ExprArray(ExprRange(i, ExprTuple(MultiQubitGate(IndexedVar(B, i), IndexedVar(S, i))), one, m))),\n",
    "                        Circuit(ExprArray(ExprRange(i, ExprTuple(MultiQubitGate(IndexedVar(D, i), IndexedVar(S, i))), one, m)))\n",
    "            )\n",
    "    ).wrapParams()"
   ]
  },
  {
   "cell_type": "code",
   "execution_count": null,
   "metadata": {},
   "outputs": [],
   "source": [
    "Forall ((h, k, m), Forall((varRange(A, [one, one], [m, k]), varRange(B, one, m), \n",
    "                                                varRange(C, [one, one], [m, h]), varRange(D, one, m), \n",
    "                                                varRange(S, one, m), varRange(R, [one, one], [m, k]), \n",
    "                                                varRange(Q, [one, one], [m, h])), \n",
    "        Implies(\n",
    "            CircuitEquiv(\n",
    "                        Circuit(ExprArray(ExprRange(i, ExprTuple(MultiQubitGate(IndexedVar(B, i), IndexedVar(S, i))), one, m))),\n",
    "                        Circuit(ExprArray(ExprRange(i, ExprTuple(MultiQubitGate(IndexedVar(D, i), IndexedVar(S, i))), one, m)))\n",
    "            ),\n",
    "            CircuitEquiv(\n",
    "                        Circuit(ExprArray(ExprRange(i, ExprTuple(ExprRange(j, MultiQubitGate(Aij, Rij), one, k), \n",
    "                                            MultiQubitGate(IndexedVar(B, i), IndexedVar(S, i)),\n",
    "                                            ExprRange(j, MultiQubitGate(Cij, Qij), one, h)), \n",
    "                                    one, m))),\n",
    "                        Circuit(ExprArray(ExprRange(i, ExprTuple(ExprRange(j, MultiQubitGate(Aij, Rij), one, k), \n",
    "                                            MultiQubitGate(IndexedVar(D, i), IndexedVar(S, i)),\n",
    "                                            ExprRange(j, MultiQubitGate(Cij, Qij), one, h)), \n",
    "                                    one, m)))\n",
    "            )\n",
    "        ).withWrappingAt(2)\n",
    "    ).wrapParams(), domain=NaturalsPos)"
   ]
  },
  {
   "cell_type": "code",
   "execution_count": null,
   "metadata": {},
   "outputs": [],
   "source": [
    "lhs = Circuit(ExprArray(ExprTuple(MultiQubitGate(CONTROL, Set(one, two))), \n",
    "        ExprTuple(MultiQubitGate(Z, Set(one, two))), \n",
    "        ExprTuple(MultiQubitGate(CONTROL, Set(three, four))), \n",
    "        ExprTuple(MultiQubitGate(Z, Set(three, four)))))"
   ]
  },
  {
   "cell_type": "code",
   "execution_count": null,
   "metadata": {},
   "outputs": [],
   "source": [
    "rhs = Circuit(ExprArray(ExprTuple(MultiQubitGate(CONTROL, Set(one, two))), \n",
    "        ExprTuple(MultiQubitGate(Z, Set(one, two))), \n",
    "        ExprTuple(MultiQubitGate(CONTROL, Set(three, four))), \n",
    "        ExprTuple(MultiQubitGate(Z, Set(three, four)))))"
   ]
  },
  {
   "cell_type": "code",
   "execution_count": null,
   "metadata": {},
   "outputs": [],
   "source": [
    "#CircuitEquiv(lhs, rhs).prove(assumptions=[CircuitEquiv(lhs, rhs)])"
   ]
  },
  {
   "cell_type": "code",
   "execution_count": null,
   "metadata": {},
   "outputs": [],
   "source": [
    "big = Circuit(ExprArray(ExprTuple(Gate(H), MultiQubitGate(CONTROL, Set(one, two)), Gate(X)), \n",
    "        ExprTuple(Gate(H), MultiQubitGate(Z, Set(one, two)), \n",
    "                  Gate(X)), \n",
    "        ExprTuple(Gate(H), MultiQubitGate(CONTROL, Set(three, four)), Gate(X)), \n",
    "        ExprTuple(Gate(H), MultiQubitGate(Z, Set(three, four)), \n",
    "                  Gate(X))))"
   ]
  },
  {
   "cell_type": "code",
   "execution_count": null,
   "metadata": {},
   "outputs": [],
   "source": [
    "big_left = Circuit(ExprArray(ExprTuple(Gate(H)), \n",
    "        ExprTuple(Gate(H)), \n",
    "        ExprTuple(Gate(H)), \n",
    "        ExprTuple(Gate(H))))\n"
   ]
  },
  {
   "cell_type": "code",
   "execution_count": null,
   "metadata": {},
   "outputs": [],
   "source": [
    "big_right = Circuit(ExprArray(ExprTuple(Gate(X)), \n",
    "        ExprTuple(Gate(X)), \n",
    "        ExprTuple(Gate(X)), \n",
    "        ExprTuple(Gate(X))))"
   ]
  },
  {
   "cell_type": "code",
   "execution_count": null,
   "metadata": {},
   "outputs": [],
   "source": [
    "# single variables, no ExprTuple, unflattened\n",
    "single_time_equiv.specialize({h: one, k: one, m: four, A: big_left, B: lhs, C: big_right, D: rhs, \n",
    "                              R: [Set(), Set(), Set(), Set()], S:[Set(one, two), Set(one, two), Set(three, four), \n",
    "                                                                  Set(three, four)], \n",
    "                              Q: [Set(), Set(), Set(), Set()]}, assumptions=[CircuitEquiv(lhs, rhs)])"
   ]
  },
  {
   "cell_type": "code",
   "execution_count": null,
   "metadata": {},
   "outputs": [],
   "source": [
    "# single variables, but flattened\n",
    "single_time_equiv.specialize({h: one, k: one, m: four, A: ExprTuple(Gate(H), Gate(H), Gate(H), Gate(H)), \n",
    "                              B: ExprTuple(MultiQubitGate(CONTROL, Set(one, two)), MultiQubitGate(Z, Set(one, two)), \n",
    "                                           MultiQubitGate(CONTROL, Set(three, four)), MultiQubitGate(Z, Set(three, four))), \n",
    "                              C: ExprTuple(Gate(X), Gate(X), Gate(X), Gate(X)), \n",
    "                              D: ExprTuple(MultiQubitGate(CONTROL, Set(one, two)), MultiQubitGate(Z, Set(one, two)), \n",
    "                                           MultiQubitGate(CONTROL, Set(three, four)), MultiQubitGate(Z, Set(three, four))), \n",
    "                              R: ExprTuple(Set(), Set(), Set(), Set()), S:ExprTuple(Set(one, two), Set(one, two), \n",
    "                                                                                    Set(three, four), Set(three, four)), \n",
    "                              Q: ExprTuple(Set(), Set(), Set(), Set())}, assumptions=[CircuitEquiv(lhs, rhs)])"
   ]
  },
  {
   "cell_type": "code",
   "execution_count": null,
   "metadata": {},
   "outputs": [],
   "source": [
    "# 3 by 4, subbing two controlled z gates\n",
    "single_time_equiv.specialize({h: one, k: one, m: four, \n",
    "                              ExprTuple(ExprRange(i, ExprRange(j, Aij, one, k), one, m)): ExprTuple(Gate(H), Gate(H), \n",
    "                                                                                                    Gate(H), Gate(H)), \n",
    "                              ExprTuple(varRange(B, one, m)): ExprTuple(MultiQubitGate(CONTROL, Set(one, two)), \n",
    "                                                                        MultiQubitGate(Z, Set(one, two)),\n",
    "                                                                        MultiQubitGate(CONTROL, Set(three, four)), \n",
    "                                                                        MultiQubitGate(Z, Set(three, four))), \n",
    "                              ExprTuple(varRange(C, [one, one], [m, h])): ExprTuple(Gate(X), Gate(X), Gate(X), Gate(X)), \n",
    "                              ExprTuple(varRange(D, one, m)): ExprTuple(MultiQubitGate(CONTROL, Set(one, two)), \n",
    "                                                                        MultiQubitGate(Z, Set(one, two)), \n",
    "                                           MultiQubitGate(CONTROL, Set(three, four)), MultiQubitGate(Z, Set(three, four))), \n",
    "                              ExprTuple(varRange(S, one, m)): ExprTuple(Set(one, two), Set(one, two), \n",
    "                                                                        Set(three, four), Set(three, four)), \n",
    "                              ExprTuple(varRange(R, [one, one], [m, k])): ExprTuple(Set(), Set(), Set(), Set()), \n",
    "                              ExprTuple(varRange(Q, [one, one], [m, h])): ExprTuple(Set(), Set(), Set(), Set())}, \n",
    "                             assumptions=[CircuitEquiv(lhs, rhs)])"
   ]
  },
  {
   "cell_type": "code",
   "execution_count": null,
   "metadata": {},
   "outputs": [],
   "source": [
    "# 3 by 2 array, subbing controlled z gate\n",
    "single_time_equiv.specialize({h: one, k: one, m: two, \n",
    "                              ExprTuple(ExprRange(i, ExprRange(j, Aij, one, k), one, m)): ExprTuple(Gate(H), Gate(H)), \n",
    "                              ExprTuple(varRange(B, one, m)): ExprTuple(MultiQubitGate(CONTROL, Set(one, two)), MultiQubitGate(Z, Set(one, two))), \n",
    "                              ExprTuple(varRange(C, [one, one], [m, h])): ExprTuple(Gate(X), Gate(X)), \n",
    "                              ExprTuple(varRange(D, one, m)): ExprTuple(MultiQubitGate(CONTROL, Set(one, two)), MultiQubitGate(Z, Set(one, two))), \n",
    "                              ExprTuple(varRange(S, one, m)): ExprTuple(Set(one, two), Set(one, two)), \n",
    "                              ExprTuple(varRange(R, [one, one], [m, k])): ExprTuple(Set(), Set()), \n",
    "                              ExprTuple(varRange(Q, [one, one], [m, h])): ExprTuple(Set(), Set())}, \n",
    "                             assumptions=[CircuitEquiv(Circuit(ExprArray(ExprTuple(MultiQubitGate(CONTROL, Set(one, two))), ExprTuple(MultiQubitGate(Z, Set(one, two))))), Circuit(ExprArray(ExprTuple(MultiQubitGate(CONTROL, Set(one, two))), ExprTuple(MultiQubitGate(Z, Set(one, two))))))])"
   ]
  },
  {
   "cell_type": "code",
   "execution_count": null,
   "metadata": {},
   "outputs": [],
   "source": [
    "# 3 by 1 array, subbing Gate(z)\n",
    "single_time_equiv.specialize({h: one, k: one, m: one, \n",
    "                              ExprTuple(ExprRange(i, ExprRange(j, Aij, one, k), one, m)): ExprTuple(Gate(H)), \n",
    "                              ExprTuple(varRange(B, one, m)): ExprTuple(Gate(Z)), \n",
    "                              ExprTuple(varRange(C, [one, one], [m, h])): ExprTuple(Gate(X)), \n",
    "                              ExprTuple(varRange(D, one, m)): ExprTuple(Gate(Z)), \n",
    "                              ExprTuple(varRange(S, one, m)): ExprTuple(Set()), \n",
    "                              ExprTuple(varRange(R, [one, one], [m, k])): ExprTuple(Set()), \n",
    "                              ExprTuple(varRange(Q, [one, one], [m, h])): ExprTuple(Set())}, \n",
    "                             assumptions=[CircuitEquiv(Circuit(ExprArray(ExprTuple(Gate(Z)))), Circuit(ExprArray(ExprTuple(Gate(Z)))))])"
   ]
  },
  {
   "cell_type": "code",
   "execution_count": null,
   "metadata": {},
   "outputs": [],
   "source": [
    "dir(ExprRange(i, ExprRange(j, Aij, one, one), one, one))"
   ]
  },
  {
   "cell_type": "code",
   "execution_count": null,
   "metadata": {},
   "outputs": [],
   "source": [
    "ExprArray(ExprRange(i, ExprRange(j, Aij, one, one), one, one)).length()"
   ]
  },
  {
   "cell_type": "code",
   "execution_count": null,
   "metadata": {},
   "outputs": [],
   "source": [
    "# 3 by 1 array, subbing Gate(z)\n",
    "single_time_equiv.specialize({h: one, k: one, m: one, \n",
    "                              ExprTuple(ExprRange(i, ExprRange(j, Aij, one, one), one, one)): ExprTuple(Gate(H)), \n",
    "                              ExprTuple(varRange(B, one, one)): ExprTuple(Gate(Z)), \n",
    "                              ExprTuple(varRange(C, [one, one], [one, one])): ExprTuple(Gate(X)), \n",
    "                              ExprTuple(varRange(D, one, one)): ExprTuple(Gate(Z)), \n",
    "                              ExprTuple(varRange(S, one, one)): ExprTuple(Set()), \n",
    "                              ExprTuple(varRange(R, [one, one], [one, one])): ExprTuple(Set()), \n",
    "                              ExprTuple(varRange(Q, [one, one], [one, one])): ExprTuple(Set())}, \n",
    "                             assumptions=[CircuitEquiv(Circuit(ExprArray(ExprTuple(Gate(Z)))), Circuit(ExprArray(ExprTuple(Gate(Z)))))])"
   ]
  },
  {
   "cell_type": "code",
   "execution_count": null,
   "metadata": {},
   "outputs": [],
   "source": [
    "# 3 by 2 array, subbing controlled z gate - UNFLATTENED\n",
    "single_time_equiv.specialize({h: one, k: one, m: two, \n",
    "                              ExprTuple(ExprRange(i, ExprRange(j, Aij, one, k), one, m)): ExprTuple(ExprTuple(Gate(H)), ExprTuple(Gate(H))), \n",
    "                              ExprTuple(varRange(B, one, m)): ExprTuple(ExprTuple(MultiQubitGate(CONTROL, Set(one, two))), ExprTuple(MultiQubitGate(Z, Set(one, two)))), \n",
    "                              ExprTuple(varRange(C, [one, one], [m, h])): ExprTuple(ExprTuple(Gate(X)), ExprTuple(Gate(X))), \n",
    "                              ExprTuple(varRange(D, one, m)): ExprTuple(ExprTuple(MultiQubitGate(CONTROL, Set(one, two))), ExprTuple(MultiQubitGate(Z, Set(one, two)))), \n",
    "                              ExprTuple(varRange(S, one, m)): ExprTuple(Set(one, two), Set(one, two)), \n",
    "                              ExprTuple(varRange(R, [one, one], [m, k])): ExprTuple(Set(), Set()), \n",
    "                              ExprTuple(varRange(Q, [one, one], [m, h])): ExprTuple(Set(), Set())}, \n",
    "                             assumptions=[CircuitEquiv(Circuit(ExprArray(ExprTuple(MultiQubitGate(CONTROL, Set(one, two))), ExprTuple(MultiQubitGate(Z, Set(one, two))))), Circuit(ExprArray(ExprTuple(MultiQubitGate(CONTROL, Set(one, two))), ExprTuple(MultiQubitGate(Z, Set(one, two))))))])"
   ]
  },
  {
   "cell_type": "code",
   "execution_count": null,
   "metadata": {},
   "outputs": [],
   "source": [
    "ExprTuple(varRange(R, [one, one], [one, one]))\n",
    "                              "
   ]
  },
  {
   "cell_type": "code",
   "execution_count": null,
   "metadata": {},
   "outputs": [],
   "source": [
    "ExprTuple(ExprRange(j, Rij, one, one))"
   ]
  },
  {
   "cell_type": "code",
   "execution_count": null,
   "metadata": {},
   "outputs": [],
   "source": [
    "from proveit.core_expr_types.tuples._theorems_ import singular_range_reduction\n",
    "singular_range_reduction"
   ]
  },
  {
   "cell_type": "code",
   "execution_count": null,
   "metadata": {},
   "outputs": [],
   "source": [
    "singular_range_reduction.specialize({})"
   ]
  },
  {
   "cell_type": "code",
   "execution_count": null,
   "metadata": {},
   "outputs": [],
   "source": [
    "# 3 by 1 array, subbing Gate(z) - UNFLATTENED\n",
    "single_time_equiv.specialize({h: one, k: one, m: one,  \n",
    "                              A: ExprTuple(ExprTuple(Gate(H))), \n",
    "                              B: ExprTuple(ExprTuple(Gate(Z))), \n",
    "                              C: ExprTuple(ExprTuple(Gate(X))), \n",
    "                              D: ExprTuple(ExprTuple(Gate(Z))), \n",
    "                              S: ExprTuple(Set()), \n",
    "                              R: ExprTuple(Set()),\n",
    "                              Q: ExprTuple(Set()),\n",
    "                             }, \n",
    "                             \n",
    "                             assumptions=[CircuitEquiv(Circuit(ExprArray(ExprTuple(Gate(Z)))), \n",
    "                                                       Circuit(ExprArray(ExprTuple(Gate(Z))))),\n",
    "                                         ])"
   ]
  },
  {
   "cell_type": "code",
   "execution_count": null,
   "metadata": {},
   "outputs": [],
   "source": [
    "Len(ExprRange(i, ExprRange(j, ExprTuple(i, j), one, one), one, one)).computation()"
   ]
  },
  {
   "cell_type": "code",
   "execution_count": null,
   "metadata": {},
   "outputs": [],
   "source": [
    "single_time_equiv"
   ]
  },
  {
   "cell_type": "code",
   "execution_count": null,
   "metadata": {},
   "outputs": [],
   "source": [
    "# 3 by 1 array, subbing Gate(z) - UNFLATTENED\n",
    "single_time_equiv.instantiate({h: one, k: one, m: one, \n",
    "                              ExprTuple(ExprRange(i, ExprRange(j, Aij, one, one), one, one)): ExprTuple(ExprTuple(Gate(H))), \n",
    "                              ExprTuple(varRange(B, one, one)): ExprTuple(ExprTuple(Gate(Z))), \n",
    "                              ExprTuple(varRange(C, [one, one], [one, one])): ExprTuple(ExprTuple(Gate(X))), \n",
    "                              ExprTuple(varRange(D, one, one)): ExprTuple(ExprTuple(Gate(Z))), \n",
    "                              ExprTuple(varRange(S, one, one)): ExprTuple(Set()), \n",
    "                              ExprTuple(varRange(R, [one, one], [one, one])): ExprTuple(Set()),\n",
    "                              #ExprTuple(ExprRange(j, IndexedVar(R, [one, j]), one, one)): ExprTuple(Set()),\n",
    "                              ExprTuple(varRange(Q, [one, one], [one, one])): ExprTuple(Set()),\n",
    "                             ExprTuple(ExprRange(j, IndexedVar(Q, [one, j]), one, one)): ExprTuple(Set()),\n",
    "                             ExprTuple(varRange(Q, i, j)): ExprTuple(Set())}, \n",
    "                             assumptions=[CircuitEquiv(Circuit(ExprArray(ExprTuple(Gate(Z)))), \n",
    "                                                       Circuit(ExprArray(ExprTuple(Gate(Z))))),\n",
    "                                         #Equals(Len(varRange(R, i, j)), one), Equals(Len(varRange(Q, i, j)), one),\n",
    "                                         InSet(Add(j, Neg(i), one), Naturals), InSet(j, Complexes),\n",
    "                                         InSet(Neg(i), Complexes), Equals(Add(j, Neg(i)), zero)])"
   ]
  },
  {
   "cell_type": "code",
   "execution_count": null,
   "metadata": {},
   "outputs": [],
   "source": [
    "# 3 by 1 array, subbing Gate(z) - UNFLATTENED\n",
    "single_time_equiv.instantiate({h: one, k: one, m: one, \n",
    "                              ExprTuple(ExprRange(i, ExprRange(j, Aij, one, one), one, one)): ExprTuple(ExprTuple(Gate(H))), \n",
    "                              ExprTuple(varRange(B, one, one)): ExprTuple(ExprTuple(Gate(Z))), \n",
    "                              ExprTuple(varRange(C, [one, one], [one, one])): ExprTuple(ExprTuple(Gate(X))), \n",
    "                              ExprTuple(varRange(D, one, one)): ExprTuple(ExprTuple(Gate(Z))), \n",
    "                              ExprTuple(varRange(S, one, one)): ExprTuple(Set()), \n",
    "                              ExprTuple(varRange(R, [one, one], [one, one])): ExprTuple(Set()),\n",
    "                              #ExprTuple(ExprRange(j, IndexedVar(R, [one, j]), one, one)): ExprTuple(Set()),\n",
    "                              ExprTuple(varRange(Q, [one, one], [one, one])): ExprTuple(Set()),\n",
    "                             ExprTuple(ExprRange(j, IndexedVar(Q, [one, j]), one, one)): ExprTuple(Set()),\n",
    "                             ExprTuple(varRange(Q, i, j)): ExprTuple(Set())}, \n",
    "                             assumptions=[CircuitEquiv(Circuit(ExprArray(ExprTuple(Gate(Z)))), \n",
    "                                                       Circuit(ExprArray(ExprTuple(Gate(Z))))),\n",
    "                                         #Equals(Len(varRange(R, i, j)), one), Equals(Len(varRange(Q, i, j)), one),\n",
    "                                         InSet(Add(j, Neg(i), one), Naturals), InSet(j, Complexes),\n",
    "                                         InSet(Neg(i), Complexes), Equals(Add(j, Neg(i)), zero)])"
   ]
  },
  {
   "cell_type": "code",
   "execution_count": null,
   "metadata": {},
   "outputs": [],
   "source": []
  },
  {
   "cell_type": "code",
   "execution_count": null,
   "metadata": {},
   "outputs": [],
   "source": [
    "Sig = IndexedVar(S,(i,g)) "
   ]
  },
  {
   "cell_type": "code",
   "execution_count": null,
   "metadata": {},
   "outputs": [],
   "source": [
    "Sj = IndexedVar(S, j)"
   ]
  },
  {
   "cell_type": "code",
   "execution_count": null,
   "metadata": {},
   "outputs": [],
   "source": [
    "MultiQubitGate(Sig, one).subExpr(1).subExpr(0).subExpr(0).subExpr(0)"
   ]
  },
  {
   "cell_type": "code",
   "execution_count": null,
   "metadata": {},
   "outputs": [],
   "source": [
    "MultiQubitGate(Sj, one).subExpr(1).subExpr(0).subExpr(0)"
   ]
  },
  {
   "cell_type": "code",
   "execution_count": null,
   "metadata": {},
   "outputs": [],
   "source": [
    "#ExprRange(i, ExprTuple(ExprRange(h, MultiQubitGate(Aih, A), one, m), ExprRange(j, MultiQubitGate(Bij, A), one, n), ExprRange(k, MultiQubitGate(Cik, A), one, p)), one, q).first().entries[0].first().subExpr(1).subExpr(1)"
   ]
  },
  {
   "cell_type": "code",
   "execution_count": null,
   "metadata": {},
   "outputs": [],
   "source": []
  },
  {
   "cell_type": "code",
   "execution_count": null,
   "metadata": {},
   "outputs": [],
   "source": [
    "CircuitEquiv(\n",
    "                    Circuit(ExprArray(ExprTuple(ExprRange(j, MultiQubitGate(IndexedVar(B, j), Set(Add(m, one), Add(m, k, two))), one, n)),\n",
    "                            ExprTuple(ExprRange(j, MultiQubitGate(IndexedVar(D, j), Set(Add(m, one), Add(m, k, two))), one, n)))),\n",
    "                    Circuit(ExprArray(ExprTuple(ExprRange(j, MultiQubitGate(IndexedVar(F, j), Set(Add(m, one), Add(m, k, two))), one, n)),\n",
    "                            ExprTuple(ExprRange(j, MultiQubitGate(IndexedVar(G, j), Set(Add(m, one), Add(m, k, two))), one, n))))\n",
    "            ).lhs"
   ]
  },
  {
   "cell_type": "code",
   "execution_count": null,
   "metadata": {},
   "outputs": [],
   "source": [
    "ExprRange(i, ExprTuple(ExprRange(j, MultiQubitGate(Aij, Sij), one, n)), one, m).first().entries[0].first()"
   ]
  },
  {
   "cell_type": "code",
   "execution_count": null,
   "metadata": {},
   "outputs": [],
   "source": [
    "ExprRange(j, Gate(Aij), one, n).first().subExpr(1).subExpr(1)"
   ]
  },
  {
   "cell_type": "code",
   "execution_count": null,
   "metadata": {},
   "outputs": [],
   "source": [
    "Circuit(ExprArray(ExprRange(i, ExprTuple(ExprRange(j, Gate(Aij), one, n)), one, m),\n",
    "                     ExprTuple(ExprRange(j, MultiQubitGate(IndexedVar(B, j), Set(Add(m, one), Add(m, k, two))), one, n)),\n",
    "        ExprRange(i, ExprTuple(ExprRange(j, MultiQubitGate(Cij, Rij), one, n)), one, k),\n",
    "                     ExprTuple(ExprRange(j, MultiQubitGate(IndexedVar(D, j), Set(Add(m, one), Add(m, k, two))), one, n)),\n",
    "        ExprRange(i, ExprTuple(ExprRange(j, Gate(Eij), one, n)), one, p)))"
   ]
  },
  {
   "cell_type": "code",
   "execution_count": null,
   "metadata": {},
   "outputs": [],
   "source": [
    "Circuit(ExprArray(ExprRange(i, ExprTuple(ExprRange(j, MultiQubitGate(Aij, Sij), one, n)), one, m),\n",
    "                     ExprTuple(ExprRange(j, MultiQubitGate(IndexedVar(B, j), Set(Add(m, one), Add(m, k, two))), one, n)),\n",
    "        ExprRange(i, ExprTuple(ExprRange(j, MultiQubitGate(Cij, Rij), one, n)), one, k),\n",
    "                     ExprTuple(ExprRange(j, MultiQubitGate(IndexedVar(D, j), Set(Add(m, one), Add(m, k, two))), one, n)),\n",
    "        ExprRange(i, ExprTuple(ExprRange(j, MultiQubitGate(Eij, Qij), one, n)), one, p)))"
   ]
  },
  {
   "cell_type": "code",
   "execution_count": null,
   "metadata": {},
   "outputs": [],
   "source": [
    "Circuit(ExprArray(ExprRange(i, ExprTuple(ExprRange(j, MultiQubitGate(Aij, Sij), one, n)), one, m),\n",
    "                     ExprTuple(ExprRange(j, MultiQubitGate(IndexedVar(B, j), Set(two, four)), one, n)),\n",
    "        ExprRange(i, ExprTuple(ExprRange(j, MultiQubitGate(Cij, Rij), one, n)), one, k),\n",
    "                     ExprTuple(ExprRange(j, MultiQubitGate(IndexedVar(D, j), Set(two, five)), one, n)),\n",
    "        ExprRange(i, ExprTuple(ExprRange(j, MultiQubitGate(Eij, Qij), one, n)), one, p)))"
   ]
  },
  {
   "cell_type": "code",
   "execution_count": null,
   "metadata": {},
   "outputs": [],
   "source": [
    "\n",
    "        Implies(\n",
    "            CircuitEquiv(\n",
    "                    Circuit(ExprArray(ExprTuple(ExprRange(j, MultiQubitGate(indexed_var(B, j), Set(Add(m, one), Add(m, k, two))), one, n)),\n",
    "                            ExprTuple(ExprRange(j, MultiQubitGate(indexed_var(D, j), Set(Add(m, one), Add(m, k, two))), one, n)))),\n",
    "                    Circuit(ExprArray(ExprTuple(ExprRange(j, MultiQubitGate(indexed_var(F, j), Set(Add(m, one), Add(m, k, two))), one, n)),\n",
    "                            ExprTuple(ExprRange(j, MultiQubitGate(indexed_var(G, j), Set(Add(m, one), Add(m, k, two))), one, n))))\n",
    "            ),\n",
    "            CircuitEquiv(\n",
    "                    Circuit(ExprArray(ExprRange(i, ExprTuple(ExprRange(j, MultiQubitGate(Aij, Sij), one, n)), one, m),\n",
    "                            ExprTuple(ExprRange(j, MultiQubitGate(indexed_var(B, j), Set(Add(m, one), Add(m, k, two))), one, n)),\n",
    "                            ExprRange(i, ExprTuple(ExprRange(j, MultiQubitGate(Cij, Rij), one, n)), one, k),\n",
    "                            ExprTuple(ExprRange(j, MultiQubitGate(indexed_var(D, j), Set(Add(m, one), Add(m, k, two))), one, n)),\n",
    "                            ExprRange(i, ExprTuple(ExprRange(j, MultiQubitGate(Eij, Qij), one, n)), one, p))),\n",
    "                    Circuit(ExprArray(ExprRange(i, ExprTuple(ExprRange(j, MultiQubitGate(Aij, Sij), one, n)), one, m),\n",
    "                            ExprTuple(ExprRange(j, MultiQubitGate(indexed_var(F, j), Set(Add(m, one), Add(m, k, two))), one, n)),\n",
    "                            ExprRange(i, ExprTuple(ExprRange(j, MultiQubitGate(Cij, Rij), one, n)), one, k),\n",
    "                            ExprTuple(ExprRange(j, MultiQubitGate(indexed_var(G, j), Set(Add(m, one), Add(m, k, two))), one, n)),\n",
    "                            ExprRange(i, ExprTuple(ExprRange(j, MultiQubitGate(Eij, Qij), one, n)), one, p))))\n",
    "            )\n",
    "        \n"
   ]
  },
  {
   "cell_type": "code",
   "execution_count": null,
   "metadata": {},
   "outputs": [],
   "source": [
    "Circuit(ExprArray(ExprTuple(Input(ket0), Gate(H), MultiQubitGate(X, Set(one, three)), Gate(H), Output(ketPlus)), \n",
    "        ExprTuple(Input(ket1), MultiQubitGate(H, Set(two, three)), MultiQubitGate(H, Set(two)), Gate(X), Output(ketMinus)),\n",
    "       ExprTuple(Input(ket1), MultiQubitGate(H, Set(two, three)), MultiQubitGate(X, Set(one, three)), Gate(X), Output(ketMinus))))"
   ]
  },
  {
   "cell_type": "code",
   "execution_count": null,
   "metadata": {},
   "outputs": [],
   "source": [
    "Circuit(ExprArray(ExprRange(i, ExprTuple(MultiQubitGate(indexed_var(B, i), indexed_var(S, i))), one, m))).getRowLength()"
   ]
  },
  {
   "cell_type": "code",
   "execution_count": null,
   "metadata": {},
   "outputs": [],
   "source": [
    "Circuit(ExprArray(ExprTuple(ExprRange(j, Gate(indexed_var(B, j)), one, n))))"
   ]
  },
  {
   "cell_type": "code",
   "execution_count": null,
   "metadata": {},
   "outputs": [],
   "source": [
    "CircuitEquiv(\n",
    "                    Circuit(ExprArray(ExprTuple(ExprRange(j, Gate(indexed_var(B, j)), one, n)))),\n",
    "                    Circuit(ExprArray(ExprTuple(ExprRange(j, Gate(indexed_var(D, j)), one, n)))))"
   ]
  },
  {
   "cell_type": "code",
   "execution_count": null,
   "metadata": {},
   "outputs": [],
   "source": [
    "Circuit(ExprArray(ExprRange(i, ExprTuple(ExprRange(j, MultiQubitGate(Cij, Rij), one, n)), one, k)))"
   ]
  },
  {
   "cell_type": "code",
   "execution_count": null,
   "metadata": {},
   "outputs": [],
   "source": [
    "Circuit(ExprArray(ExprRange(i, ExprTuple(ExprRange(j, MultiQubitGate(Aij, Sij), one, n)), one, m),\n",
    "                            ExprTuple(ExprRange(j, Gate(indexed_var(B, j)), one, n)),\n",
    "                            ExprRange(i, ExprTuple(ExprRange(j, MultiQubitGate(Cij, Rij), one, n)), one, k)))"
   ]
  },
  {
   "cell_type": "code",
   "execution_count": null,
   "metadata": {},
   "outputs": [],
   "source": [
    "CircuitEquiv(\n",
    "                    Circuit(ExprArray(ExprRange(i, ExprTuple(ExprRange(j, MultiQubitGate(Aij, Sij), one, n)), one, m),\n",
    "                            ExprTuple(ExprRange(j, Gate(indexed_var(B, j)), one, n)),\n",
    "                            ExprRange(i, ExprTuple(ExprRange(j, MultiQubitGate(Cij, Rij), one, n)), one, k))),\n",
    "                    Circuit(ExprArray(ExprRange(i, ExprTuple(ExprRange(j, MultiQubitGate(Aij, Sij), one, n)), one, m),\n",
    "                            ExprTuple(ExprRange(j, Gate(indexed_var(D, j)), one, n)),\n",
    "                            ExprRange(i, ExprTuple(ExprRange(j, MultiQubitGate(Cij, Rij), one, n)), one, k)))\n",
    "            )"
   ]
  },
  {
   "cell_type": "code",
   "execution_count": null,
   "metadata": {},
   "outputs": [],
   "source": [
    "Circuit(ExprArray(ExprRange(i, ExprTuple(ExprRange(j, MultiQubitGate(Aij, Rij), one, k), \n",
    "                                            MultiQubitGate(indexed_var(B, i), indexed_var(S, i)),\n",
    "                               ExprRange(j, MultiQubitGate(Cij, Qij), one, h)), \n",
    "                                    one, m)))"
   ]
  },
  {
   "cell_type": "code",
   "execution_count": null,
   "metadata": {},
   "outputs": [],
   "source": [
    "print(Implies(\n",
    "            CircuitEquiv(\n",
    "                        Circuit(ExprArray(ExprRange(i, ExprTuple(MultiQubitGate(indexed_var(B, i), indexed_var(S, i))), one, m))),\n",
    "                        Circuit(ExprArray(ExprRange(i, ExprTuple(MultiQubitGate(indexed_var(D, i), indexed_var(S, i))), one, m)))\n",
    "            ),\n",
    "            CircuitEquiv(\n",
    "                        Circuit(ExprArray(ExprRange(i, ExprTuple(ExprRange(j, MultiQubitGate(Aij, Rij), one, k), \n",
    "                                            MultiQubitGate(indexed_var(B, i), indexed_var(S, i)),\n",
    "                                            ExprRange(j, MultiQubitGate(Cij, Qij), one, h)), \n",
    "                                    one, m))),\n",
    "                        Circuit(ExprArray(ExprRange(i, ExprTuple(ExprRange(j, MultiQubitGate(Aij, Rij), one, k), \n",
    "                                            MultiQubitGate(indexed_var(D, i), indexed_var(S, i)),\n",
    "                                            ExprRange(j, MultiQubitGate(Cij, Qij), one, h)), \n",
    "                                    one, m)))\n",
    "            )\n",
    "        ).withWrappingAt(1).latex())"
   ]
  },
  {
   "cell_type": "code",
   "execution_count": null,
   "metadata": {},
   "outputs": [],
   "source": [
    "Implies(\n",
    "            CircuitEquiv(\n",
    "                        Circuit(ExprArray(ExprRange(i, ExprTuple(MultiQubitGate(indexed_var(B, i), indexed_var(S, i))), one, m))),\n",
    "                        Circuit(ExprArray(ExprRange(i, ExprTuple(MultiQubitGate(indexed_var(D, i), indexed_var(S, i))), one, m)))\n",
    "            ),\n",
    "            CircuitEquiv(\n",
    "                        Circuit(ExprArray(ExprRange(i, ExprTuple(ExprRange(j, MultiQubitGate(Aij, Rij), one, k), \n",
    "                                            MultiQubitGate(indexed_var(B, i), indexed_var(S, i)),\n",
    "                                            ExprRange(j, MultiQubitGate(Cij, Qij), one, h)), \n",
    "                                    one, m))),\n",
    "                        Circuit(ExprArray(ExprRange(i, ExprTuple(ExprRange(j, MultiQubitGate(Aij, Rij), one, k), \n",
    "                                            MultiQubitGate(indexed_var(D, i), indexed_var(S, i)),\n",
    "                                            ExprRange(j, MultiQubitGate(Cij, Qij), one, h)), \n",
    "                                    one, m)))\n",
    "            )\n",
    "        ).withWrappingAt(1)"
   ]
  },
  {
   "cell_type": "code",
   "execution_count": null,
   "metadata": {},
   "outputs": [],
   "source": [
    "CircuitEquiv(Circuit(ExprArray(ExprRange(i, ExprTuple(ExprRange(j, MultiQubitGate(Aij, Sij), one, m)), one, q))),\n",
    "                     Circuit(ExprArray(ExprRange(i, ExprTuple(ExprRange(j, MultiQubitGate(Aij, Sij), one, m)), one, q))))"
   ]
  },
  {
   "cell_type": "code",
   "execution_count": null,
   "metadata": {},
   "outputs": [],
   "source": [
    "print(CircuitEquiv(ExprArray(Circuit(ExprRange(i, ExprTuple(ExprRange(j, MultiQubitGate(Aij, Sij), one, m)), one, q))),\n",
    "                   ExprArray(Circuit(ExprRange(i, ExprTuple(ExprRange(j, MultiQubitGate(Aij, Sij), one, m)), one, q)))).latex())"
   ]
  },
  {
   "cell_type": "code",
   "execution_count": null,
   "metadata": {},
   "outputs": [],
   "source": [
    "Circuit(ExprArray(ExprRange(i, ExprTuple(ExprRange(j, MultiQubitGate(Aij, Sij), one, m)), one, q),\n",
    "        ExprTuple(ExprRange(j, MultiQubitGate(Bij, Sij), one, m)),\n",
    "        ExprRange(i, ExprTuple(ExprRange(j, MultiQubitGate(Cij, Sij), one, m)), one, s)))"
   ]
  },
  {
   "cell_type": "code",
   "execution_count": null,
   "metadata": {},
   "outputs": [],
   "source": [
    "Circuit(ExprArray(ExprRange(i, ExprTuple(ExprRange(j, MultiQubitGate(Bij, Sij), one, n)), one, m)))"
   ]
  },
  {
   "cell_type": "code",
   "execution_count": null,
   "metadata": {},
   "outputs": [],
   "source": [
    "Circuit(ExprArray(ExprTuple(Input(ket0), Gate(H), Output(ketPlus)), \n",
    "        ExprTuple(Input(ket1), MultiQubitGate(H, Set(two)), Output(ketMinus))))\n",
    "# MultiQubitGate of a single gate - automatic equality reductions. "
   ]
  },
  {
   "cell_type": "code",
   "execution_count": null,
   "metadata": {},
   "outputs": [],
   "source": [
    "Circuit(ExprArray(ExprTuple(Input(ket0), Gate(IdentityOp()), Output(ketPlus)), \n",
    "        ExprTuple(Input(ket1), Gate(), Output(ketMinus))))\n",
    "# Empty gate reduction"
   ]
  },
  {
   "cell_type": "code",
   "execution_count": null,
   "metadata": {},
   "outputs": [],
   "source": [
    "#Circuit(ExprRange(i, Gate(ExprRange(j, Aij, one, n)), one, m))"
   ]
  },
  {
   "cell_type": "code",
   "execution_count": null,
   "metadata": {},
   "outputs": [],
   "source": [
    "# multigate block test\n",
    "Circuit(ExprArray(ExprTuple(Input(ket0), MultiQubitGate(CONTROL, Set(one, two, three, four, six, seven)), Output(ket0)), \n",
    "        ExprTuple(Input(ket0), MultiQubitGate(CONTROL, Set(one, two, three, four, six, seven)), \n",
    "                  Output(ket0)), \n",
    "        ExprTuple(Input(ket0), MultiQubitGate(Z, Set(one, two, three, four, six, seven)), Output(ket0)), \n",
    "        ExprTuple(Input(ket1), MultiQubitGate(X, Set(one, two, three, four, six, seven)), \n",
    "                  Output(ket1)),\n",
    "        ExprTuple(Input(ket0), Gate(IdentityOp()), Output(ket0)), \n",
    "        ExprTuple(Input(ket1), MultiQubitGate(X, Set(one, two, three, four, six, seven)), \n",
    "                  Output(ket1)),\n",
    "        ExprTuple(Input(ket1), MultiQubitGate(Z, Set(one, two, three, four, six, seven)), \n",
    "                  Output(ket1))))"
   ]
  },
  {
   "cell_type": "code",
   "execution_count": null,
   "metadata": {},
   "outputs": [],
   "source": [
    "# multigate block test\n",
    "Circuit(ExprArray(ExprTuple(Input(ket0), MultiQubitGate(CONTROL, Set(one, two, three, four)), Output(ket0)), \n",
    "        ExprTuple(Input(ket0), MultiQubitGate(Z, Set(one, two, three, four)), \n",
    "                  Output(ket0)), \n",
    "        ExprTuple(Input(ket0), MultiQubitGate(Z, Set(one, two, three, four)), Output(ket0)), \n",
    "        ExprTuple(Input(ket1), MultiQubitGate(Z, Set(one, two, three, four)), \n",
    "                  Output(ket1))))"
   ]
  },
  {
   "cell_type": "code",
   "execution_count": null,
   "metadata": {},
   "outputs": [],
   "source": [
    "# Single Qubit Gates"
   ]
  },
  {
   "cell_type": "code",
   "execution_count": null,
   "metadata": {},
   "outputs": [],
   "source": [
    "Circuit(ExprArray(ExprTuple(Input(ket0), Gate(H), Output(ketPlus)), \n",
    "        ExprTuple(Input(ket1), Gate(H), Output(ketMinus))))\n",
    "# H gate (both inputs)"
   ]
  },
  {
   "cell_type": "code",
   "execution_count": null,
   "metadata": {},
   "outputs": [],
   "source": [
    "Circuit(ExprArray(ExprTuple(Input(ket0), Gate(X), Output(ket1)), \n",
    "        ExprTuple(Input(ket1), Gate(X), Output(ket0))))\n",
    "# X gate (both inputs)"
   ]
  },
  {
   "cell_type": "code",
   "execution_count": null,
   "metadata": {},
   "outputs": [],
   "source": [
    "Circuit(ExprArray(ExprTuple(Input(ket0), Gate(Z), Output(ket0)), \n",
    "        ExprTuple(Input(ket1), Gate(Z), Output(Neg(ket1)))))\n",
    "# Z gate (both inputs)"
   ]
  },
  {
   "cell_type": "code",
   "execution_count": null,
   "metadata": {},
   "outputs": [],
   "source": [
    "#Two Qubit Gates"
   ]
  },
  {
   "cell_type": "code",
   "execution_count": null,
   "metadata": {},
   "outputs": [],
   "source": [
    "Circuit(ExprArray(ExprTuple(Input(ket0), MultiQubitGate(CONTROL, Set(one, two)), Output(ket0)), \n",
    "        ExprTuple(Input(ket0), MultiQubitGate(Z, Set(one, two)), \n",
    "                  Output(ket0)), \n",
    "        ExprTuple(Input(ket0), MultiQubitGate(CONTROL, Set(three, four)), Output(ket0)), \n",
    "        ExprTuple(Input(ket1), MultiQubitGate(Z, Set(three, four)), \n",
    "                  Output(ket1))))\n",
    "#CZ gate - 0 qubit control for 1 and 0 qubit inputs"
   ]
  },
  {
   "cell_type": "code",
   "execution_count": null,
   "metadata": {},
   "outputs": [],
   "source": [
    "Circuit(ExprArray(ExprTuple(Input(ket1), MultiQubitGate(CONTROL, Set(one, two)), Output(ket1)), \n",
    "        ExprTuple(Input(ket0), MultiQubitGate(Z, Set(one, two)), \n",
    "                  Output(ket0)), \n",
    "        ExprTuple(Input(ket1), MultiQubitGate(CONTROL, Set(three, four)), Output(ket1)), \n",
    "        ExprTuple(Input(ket1), MultiQubitGate(Z, Set(three, four)), \n",
    "                  Output(Neg(ket1))))) \n",
    "#CZ gate - 1 qubit control for 1 and 0 qubit inputs"
   ]
  },
  {
   "cell_type": "code",
   "execution_count": null,
   "metadata": {},
   "outputs": [],
   "source": [
    "Circuit(ExprArray(ExprTuple(Input(ket0), MultiQubitGate(CONTROL, Set(one, two)), Output(ket0)), \n",
    "        ExprTuple(Input(ket0), MultiQubitGate(X, Set(one, two)), Output(ket0)), \n",
    "        ExprTuple(Input(ket0), MultiQubitGate(CONTROL, Set(three, four)), Output(ket0)), \n",
    "        ExprTuple(Input(ket1), MultiQubitGate(X, Set(three, four)), Output(ket1)))) \n",
    "#CX gate - 0 qubit control for 1 and 0 qubit inputs"
   ]
  },
  {
   "cell_type": "code",
   "execution_count": null,
   "metadata": {},
   "outputs": [],
   "source": [
    "Circuit(ExprArray(ExprTuple(Input(ket1), MultiQubitGate(CONTROL, Set(one, two)), Output(ket1)), \n",
    "        ExprTuple(Input(ket0), MultiQubitGate(X, Set(one, two)), Output(ket1)), \n",
    "        ExprTuple(Input(ket1), MultiQubitGate(CONTROL, Set(three, four)), Output(ket1)), \n",
    "        ExprTuple(Input(ket1), MultiQubitGate(X, Set(three, four)), Output(ket0)))) \n",
    "#CX gate - 1 qubit control for 1 and 0 qubit inputs"
   ]
  },
  {
   "cell_type": "code",
   "execution_count": null,
   "metadata": {},
   "outputs": [],
   "source": [
    "Circuit(ExprArray(ExprTuple(Input(zero), MultiQubitGate(CLASSICAL_CONTROL, Set(one, two)), SPACE), \n",
    "        ExprTuple(Input(ket0), MultiQubitGate(Z, Set(one, two)), \n",
    "                  Output(ket0)), \n",
    "        ExprTuple(Input(zero), MultiQubitGate(CLASSICAL_CONTROL, Set(three, four)), SPACE), \n",
    "        ExprTuple(Input(ket1), MultiQubitGate(Z, Set(three, four)), \n",
    "                  Output(ket1)))) \n",
    "#cZ gate - 0 classical bit control for 1 and 0 qubit inputs"
   ]
  },
  {
   "cell_type": "code",
   "execution_count": null,
   "metadata": {},
   "outputs": [],
   "source": [
    "Circuit(ExprArray(ExprTuple(Input(one), MultiQubitGate(CLASSICAL_CONTROL, Set(one, two)), SPACE), \n",
    "        ExprTuple(Input(ket0), MultiQubitGate(Z, Set(one, two)), \n",
    "                  Output(ket0)), \n",
    "        ExprTuple(Input(one), MultiQubitGate(CLASSICAL_CONTROL, Set(three, four)), SPACE), \n",
    "        ExprTuple(Input(ket1), MultiQubitGate(Z, Set(three, four)), \n",
    "                  Output(Neg(ket1)))))\n",
    "#cZ gate - 1 classical bit control for 1 and 0 qubit inputs"
   ]
  },
  {
   "cell_type": "code",
   "execution_count": null,
   "metadata": {},
   "outputs": [],
   "source": [
    "Circuit(ExprArray(ExprTuple(Input(zero), MultiQubitGate(CLASSICAL_CONTROL, Set(one, two)), SPACE), \n",
    "        ExprTuple(Input(ket0), MultiQubitGate(X, Set(one, two)), \n",
    "                  Output(ket0)), \n",
    "        ExprTuple(Input(zero), MultiQubitGate(CLASSICAL_CONTROL, Set(three, four)), SPACE), \n",
    "        ExprTuple(Input(ket1), MultiQubitGate(X, Set(three, four)), \n",
    "                  Output(ket1)))) \n",
    "#cX gate - 0 classical bit control for 1 and 0 qubit inputs"
   ]
  },
  {
   "cell_type": "code",
   "execution_count": null,
   "metadata": {},
   "outputs": [],
   "source": [
    "Circuit(ExprArray(ExprTuple(Input(one), MultiQubitGate(CLASSICAL_CONTROL, Set(one, two)), SPACE), \n",
    "        ExprTuple(Input(ket0), MultiQubitGate(X, Set(one, two)), \n",
    "                  Output(ket1)), \n",
    "        ExprTuple(Input(one), MultiQubitGate(CLASSICAL_CONTROL, Set(three, four)), SPACE), \n",
    "        ExprTuple(Input(ket1), MultiQubitGate(X, Set(three, four)), \n",
    "                  Output(ket0))))\n",
    "#cX gate - 1 classical bit control for 1 and 0 qubit inputs"
   ]
  },
  {
   "cell_type": "code",
   "execution_count": null,
   "metadata": {},
   "outputs": [],
   "source": [
    "#NULL GATES"
   ]
  },
  {
   "cell_type": "code",
   "execution_count": null,
   "metadata": {},
   "outputs": [],
   "source": [
    "Circuit(ExprArray(ExprTuple(Input(ket0), Gate(H), Gate(H), Output(ket0)), \n",
    "        ExprTuple(Input(ket1), Gate(H), Gate(H), Output(ket1))))"
   ]
  },
  {
   "cell_type": "code",
   "execution_count": null,
   "metadata": {},
   "outputs": [],
   "source": [
    "Circuit(ExprArray(ExprTuple(Input(ket0), Gate(X), Gate(X), Output(ket0)), \n",
    "        ExprTuple(Input(ket1), Gate(X), Gate(X), Output(ket1))))"
   ]
  },
  {
   "cell_type": "code",
   "execution_count": null,
   "metadata": {},
   "outputs": [],
   "source": [
    "Circuit(ExprArray(ExprTuple(Input(ket0), Gate(Z), Gate(Z), Output(ket0)), \n",
    "        ExprTuple(Input(ket1), Gate(Z), Gate(Z), Output(ket1))))"
   ]
  },
  {
   "cell_type": "code",
   "execution_count": null,
   "metadata": {},
   "outputs": [],
   "source": [
    "Circuit(ExprArray(ExprTuple(Input(ket0), MultiQubitGate(CONTROL, Set(one, two)), MultiQubitGate(CONTROL, Set(one, two)), \n",
    "                  Output(ket0)), \n",
    "        ExprTuple(Input(ket0), MultiQubitGate(Z, Set(one, two)), MultiQubitGate(Z, Set(one, two)), Output(ket0)), \n",
    "        ExprTuple(Input(ket0), MultiQubitGate(CONTROL, Set(three, four)), MultiQubitGate(CONTROL, Set(three, four)), \n",
    "                  Output(ket0)), \n",
    "        ExprTuple(Input(ket1), MultiQubitGate(Z, Set(three, four)), MultiQubitGate(Z, Set(three, four)), \n",
    "                  Output(ket1)),\n",
    "        ExprTuple(Input(ket1), MultiQubitGate(CONTROL, Set(five, six)), MultiQubitGate(CONTROL, Set(five, six)),\n",
    "                  Output(ket1)),\n",
    "        ExprTuple(Input(ket0), MultiQubitGate(Z, Set(five, six)), MultiQubitGate(Z, Set(five, six)),\n",
    "                  Output(ket0)),\n",
    "        ExprTuple(Input(ket1), MultiQubitGate(CONTROL, Set(seven, eight)), MultiQubitGate(CONTROL, Set(seven, eight)), \n",
    "                  Output(ket1)), \n",
    "        ExprTuple(Input(ket1), MultiQubitGate(Z, Set(seven, eight)), MultiQubitGate(Z, Set(seven, eight)), \n",
    "                  Output(ket1)))) \n",
    "# Double CZ gate"
   ]
  },
  {
   "cell_type": "code",
   "execution_count": null,
   "metadata": {},
   "outputs": [],
   "source": [
    "Circuit(ExprArray(ExprTuple(Input(ket0), MultiQubitGate(CONTROL, Set(one, two)), MultiQubitGate(CONTROL, Set(one, two)), \n",
    "                  Output(ket0)), \n",
    "        ExprTuple(Input(ket0), MultiQubitGate(X, Set(one, two)), MultiQubitGate(X, Set(one, two)), Output(ket0)), \n",
    "        ExprTuple(Input(ket0), MultiQubitGate(CONTROL, Set(three, four)), MultiQubitGate(CONTROL, Set(three, four)), \n",
    "                  Output(ket0)), \n",
    "        ExprTuple(Input(ket1), MultiQubitGate(X, Set(three, four)), MultiQubitGate(X, Set(three, four)), \n",
    "                  Output(ket1)),\n",
    "        ExprTuple(Input(ket1), MultiQubitGate(CONTROL, Set(five, six)), MultiQubitGate(CONTROL, Set(five, six)),\n",
    "                  Output(ket1)),\n",
    "        ExprTuple(Input(ket0), MultiQubitGate(X, Set(five, six)), MultiQubitGate(X, Set(five, six)),\n",
    "                  Output(ket0)),\n",
    "        ExprTuple(Input(ket1), MultiQubitGate(CONTROL, Set(seven, eight)), MultiQubitGate(CONTROL, Set(seven, eight)), \n",
    "                  Output(ket1)), \n",
    "        ExprTuple(Input(ket1), MultiQubitGate(X, Set(seven, eight)), MultiQubitGate(X, Set(seven, eight)), \n",
    "                  Output(ket1)))) \n",
    "# Double CX gate"
   ]
  },
  {
   "cell_type": "code",
   "execution_count": null,
   "metadata": {},
   "outputs": [],
   "source": [
    "Circuit(ExprArray(ExprTuple(Input(ket0), MultiQubitGate(CONTROL, Set(one, two)), Output(ket0)), \n",
    "        ExprTuple(Input(ket0), MultiQubitGate(U, Set(one, two)), \n",
    "                  Output(ket0)), \n",
    "        ExprTuple(Input(ket0), MultiQubitGate(CONTROL, Set(three, four)), Output(ket0)), \n",
    "        ExprTuple(Input(ket1), MultiQubitGate(U, Set(three, four)), \n",
    "                  Output(ket1)))) \n",
    "#CU gate - 0 classical bit control for 1 and 0 qubit inputs (Always null regardless of what U is)"
   ]
  },
  {
   "cell_type": "code",
   "execution_count": null,
   "metadata": {},
   "outputs": [],
   "source": [
    "# CONGRUENCIES"
   ]
  },
  {
   "cell_type": "code",
   "execution_count": null,
   "metadata": {},
   "outputs": [],
   "source": [
    "Circuit(ExprArray(\n",
    "    ExprTuple(Input(ket0), MultiQubitGate(Z, Set(one, two)), Output(ket0)), \n",
    "    ExprTuple(Input(ket0), MultiQubitGate(CONTROL, Set(one, two)), \n",
    "              Output(ket0)), \n",
    "    ExprTuple(Input(ket0), MultiQubitGate(Z, Set(three, four)), Output(ket0)), \n",
    "    ExprTuple(Input(ket1), MultiQubitGate(CONTROL, Set(three, four)), \n",
    "                Output(ket1)),\n",
    "    ExprTuple(Input(ket1), MultiQubitGate(Z, Set(five, six)), Output(ket1)), \n",
    "    ExprTuple(Input(ket0), MultiQubitGate(CONTROL, Set(five, six)), \n",
    "              Output(ket0)), \n",
    "    ExprTuple(Input(ket1), MultiQubitGate(Z, Set(seven, eight)), Output(Neg(ket1))), \n",
    "    ExprTuple(Input(ket1), MultiQubitGate(CONTROL, Set(seven, eight)), \n",
    "              Output(ket1))))\n",
    "\n",
    "#Congruent to a regular CZ gate"
   ]
  },
  {
   "cell_type": "code",
   "execution_count": null,
   "metadata": {},
   "outputs": [],
   "source": [
    "Circuit(ExprArray(\n",
    "        ExprTuple(Input(ket0), Gate(IdentityOp()), MultiQubitGate(CONTROL, Set(one, two)), Gate(IdentityOp()), Output(ket0)), \n",
    "        ExprTuple(Input(ket0), Gate(H), MultiQubitGate(Z, Set(one, two)), Gate(H), Output(ket0)),\n",
    "        ExprTuple(Input(ket0), Gate(IdentityOp()), MultiQubitGate(CONTROL, Set(three, four)), Gate(IdentityOp()), Output(ket0)), \n",
    "        ExprTuple(Input(ket1), Gate(H), MultiQubitGate(Z, Set(three, four)), Gate(H), Output(ket1)),\n",
    "        ExprTuple(Input(ket1), Gate(IdentityOp()), MultiQubitGate(CONTROL, Set(five, six)), Gate(IdentityOp()), Output(ket1)), \n",
    "        ExprTuple(Input(ket0), Gate(H), MultiQubitGate(Z, Set(five, six)), Gate(H), Output(ket1)),\n",
    "        ExprTuple(Input(ket1), Gate(IdentityOp()), MultiQubitGate(CONTROL, Set(seven, eight)), Gate(IdentityOp()), Output(ket1)), \n",
    "        ExprTuple(Input(ket1), Gate(H), MultiQubitGate(Z, Set(seven, eight)), Gate(H), Output(ket0))))\n",
    "# Congruent to a CX gate"
   ]
  },
  {
   "cell_type": "code",
   "execution_count": null,
   "metadata": {},
   "outputs": [],
   "source": [
    "Circuit(ExprArray(ExprTuple(Input(ket0), Gate(H), MultiQubitGate(CONTROL, Set(one, two)), Gate(H), Output(ket0)), \n",
    "        ExprTuple(Input(ket0), Gate(H), MultiQubitGate(Z, Set(one, two)), Gate(H), Output(ket0)),\n",
    "        ExprTuple(Input(ket0), Gate(H), MultiQubitGate(CONTROL, Set(three, four)), Gate(H), Output(ket0)), \n",
    "        ExprTuple(Input(ket1), Gate(H), MultiQubitGate(Z, Set(three, four)), Gate(H), Output(ket1)),\n",
    "        ExprTuple(Input(ket1), Gate(H), MultiQubitGate(CONTROL, Set(five, six)), Gate(H), Output(ket1)), \n",
    "        ExprTuple(Input(ket0), Gate(H), MultiQubitGate(Z, Set(five, six)), Gate(H), Output(ket1)),\n",
    "        ExprTuple(Input(ket1), Gate(H), MultiQubitGate(CONTROL, Set(seven, eight)), Gate(H), Output(ket1)), \n",
    "        ExprTuple(Input(ket1), Gate(H), MultiQubitGate(Z, Set(seven, eight)), Gate(H), Output(ket0))))\n",
    "# Intermediate step to show the congruence of a switched CX gate"
   ]
  },
  {
   "cell_type": "code",
   "execution_count": null,
   "metadata": {},
   "outputs": [],
   "source": [
    "Circuit(ExprArray(ExprTuple(Input(ket0), Gate(H), MultiQubitGate(Z, Set(one, two)), Gate(H), Output(ket0)), \n",
    "        ExprTuple(Input(ket0), Gate(H), MultiQubitGate(CONTROL, Set(one, two)), Gate(H), Output(ket0)),\n",
    "        ExprTuple(Input(ket0), Gate(H), MultiQubitGate(Z, Set(three, four)), Gate(H), Output(ket1)), \n",
    "        ExprTuple(Input(ket1), Gate(H), MultiQubitGate(CONTROL, Set(three, four)), Gate(H), Output(ket1)),\n",
    "        ExprTuple(Input(ket1), Gate(H), MultiQubitGate(Z, Set(five, six)), Gate(H), Output(ket1)), \n",
    "        ExprTuple(Input(ket0), Gate(H), MultiQubitGate(CONTROL, Set(five, six)), Gate(H), Output(ket0)),\n",
    "        ExprTuple(Input(ket1), Gate(H), MultiQubitGate(Z, Set(seven, eight)), Gate(H), Output(ket0)), \n",
    "        ExprTuple(Input(ket1), Gate(H), MultiQubitGate(CONTROL, Set(seven, eight)), Gate(H), Output(ket1))))\n",
    "# using cell 24 we can show that this is equivalent to cell 26"
   ]
  },
  {
   "cell_type": "code",
   "execution_count": null,
   "metadata": {},
   "outputs": [],
   "source": [
    "Circuit(ExprArray(ExprTuple(Input(ket0), Gate(H), MultiQubitGate(CONTROL, Set(one, two)), Gate(H), Output(ket0)), \n",
    "        ExprTuple(Input(ket0), Gate(IdentityOp()), MultiQubitGate(X, Set(one, two)), Gate(IdentityOp()), Output(ket0)),\n",
    "        ExprTuple(Input(ket0), Gate(H), MultiQubitGate(CONTROL, Set(three, four)), Gate(H), Output(ket0)), \n",
    "        ExprTuple(Input(ket1), Gate(IdentityOp()), MultiQubitGate(X, Set(three, four)), Gate(IdentityOp()), Output(ket1)),\n",
    "        ExprTuple(Input(ket1), Gate(H), MultiQubitGate(CONTROL, Set(five, six)), Gate(H), Output(ket1)), \n",
    "        ExprTuple(Input(ket0), Gate(IdentityOp()), MultiQubitGate(X, Set(five, six)), Gate(IdentityOp()), Output(ket1)),\n",
    "        ExprTuple(Input(ket1), Gate(H), MultiQubitGate(CONTROL, Set(seven, eight)), Gate(H), Output(ket1)), \n",
    "        ExprTuple(Input(ket1), Gate(IdentityOp()), MultiQubitGate(X, Set(seven, eight)), Gate(IdentityOp()), Output(ket0))))\n",
    "# using cell 26, we apply instantiation to return to the X gates"
   ]
  },
  {
   "cell_type": "code",
   "execution_count": null,
   "metadata": {},
   "outputs": [],
   "source": [
    "Circuit(ExprArray(ExprTuple(Input(ket0), Gate(IdentityOp()), MultiQubitGate(X, Set(one, two)), Gate(IdentityOp()), Output(ket0)), \n",
    "        ExprTuple(Input(ket0), Gate(H), MultiQubitGate(CONTROL, Set(one, two)), Gate(H), Output(ket0)),\n",
    "        ExprTuple(Input(ket0), Gate(IdentityOp()), MultiQubitGate(X, Set(three, four)), Gate(IdentityOp()), Output(ket1)), \n",
    "        ExprTuple(Input(ket1), Gate(H), MultiQubitGate(CONTROL, Set(three, four)), Gate(H), Output(ket1)),\n",
    "        ExprTuple(Input(ket1), Gate(IdentityOp()), MultiQubitGate(X, Set(five, six)), Gate(IdentityOp()), Output(ket1)), \n",
    "        ExprTuple(Input(ket0), Gate(H), MultiQubitGate(CONTROL, Set(five, six)), Gate(H), Output(ket0)),\n",
    "        ExprTuple(Input(ket1), Gate(IdentityOp()), MultiQubitGate(X, Set(seven, eight)), Gate(IdentityOp()), Output(ket0)), \n",
    "        ExprTuple(Input(ket1), Gate(H), MultiQubitGate(CONTROL, Set(seven, eight)), Gate(H), Output(ket1))))\n",
    "# using cell 27 we can show that cell 28 is congruent to this cell "
   ]
  },
  {
   "cell_type": "code",
   "execution_count": null,
   "metadata": {},
   "outputs": [],
   "source": [
    "try:\n",
    "    Circuit(ExprArray(ExprRange(i, ExprTuple(ExprRange(j, Aij, one, m)), one, q),\n",
    "         ExprTuple(ExprRange(j, Bij, one, m)),\n",
    "         ExprRange(i, ExprTuple(ExprRange(j, Cij, one, m)), one, s))).latex()\n",
    "    assert False, \"Expected a TypeError error.\"\n",
    "except TypeError as e:\n",
    "    print(\"Expected error:\", e)"
   ]
  },
  {
   "cell_type": "code",
   "execution_count": null,
   "metadata": {},
   "outputs": [],
   "source": [
    "%end demonstrations"
   ]
  },
  {
   "cell_type": "code",
   "execution_count": null,
   "metadata": {},
   "outputs": [],
   "source": []
  }
 ],
 "metadata": {
  "kernelspec": {
   "display_name": "Python 3",
   "language": "python",
   "name": "python3"
  },
  "language_info": {
   "codemirror_mode": {
    "name": "ipython",
    "version": 3
   },
   "file_extension": ".py",
   "mimetype": "text/x-python",
   "name": "python",
   "nbconvert_exporter": "python",
   "pygments_lexer": "ipython3",
   "version": "3.7.3"
  }
 },
 "nbformat": 4,
 "nbformat_minor": 1
}
