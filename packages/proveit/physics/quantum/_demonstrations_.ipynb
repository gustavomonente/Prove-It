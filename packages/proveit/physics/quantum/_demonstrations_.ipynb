{
 "cells": [
  {
   "cell_type": "markdown",
   "metadata": {},
   "source": [
    "Demonstrations for context <a class=\"ProveItLink\" href=\"_context_.ipynb\">proveit.physics.quantum</a>\n",
    "========"
   ]
  },
  {
   "cell_type": "code",
   "execution_count": null,
   "metadata": {},
   "outputs": [],
   "source": [
    "import proveit\n",
    "proveit.defaults.automation = False # prevents proveit from calling automations that are currently broken\n",
    "from proveit import ExprArray, ExprTuple, ExprRange, indexed_var, varRange\n",
    "from proveit._common_ import A, B, C, D, E, F, G, K, M, Q, R, S, U, a, b, g, h, i, j, k, m, n, p, q, r, s, t, u, x, y \n",
    "from proveit.core_expr_types.expr_array._common_ import Aij, Bij, Cij, Dij, Eij, Qij, Rij, Sij\n",
    "from proveit.logic import Equals, Implies, InSet, Forall\n",
    "from proveit.logic.set_theory import Set\n",
    "from proveit.number import Add, Neg, zero, one, two, three, four, five, six, seven, eight, nine, NaturalsPos\n",
    "from proveit.number.numeral.deci._theorems_ import posnat1, posnat4\n",
    "from proveit.physics.quantum.circuit import Gate, Target, Circuit, Input, Output, MultiQubitGate, IdentityOp, CircuitEquiv\n",
    "from proveit.physics.quantum._common_ import H, X, Z, I, ket1, ket0, ketPlus, ketMinus, SPACE, CONTROL, CLASSICAL_CONTROL\n",
    "#from proveit.physics.quantum._axioms_ import substitution\n",
    "from proveit.physics.quantum._theorems_ import single_time_equiv\n",
    "%begin demonstrations"
   ]
  },
  {
   "cell_type": "code",
   "execution_count": null,
   "metadata": {},
   "outputs": [],
   "source": [
    "print(Forall ((h, k, m), Forall((varRange(A, [one, one], [m, k]), varRange(B, one, m), \n",
    "                                                varRange(C, [one, one], [m, h]), varRange(D, one, m), \n",
    "                                                varRange(S, one, m), varRange(R, [one, one], [m, k]), \n",
    "                                                varRange(Q, [one, one], [m, h])), \n",
    "        \n",
    "            CircuitEquiv(\n",
    "                        Circuit(ExprArray(ExprRange(i, ExprTuple(MultiQubitGate(indexed_var(B, i), indexed_var(S, i))), one, m))),\n",
    "                        Circuit(ExprArray(ExprRange(i, ExprTuple(MultiQubitGate(indexed_var(D, i), indexed_var(S, i))), one, m)))\n",
    "            )\n",
    "    ).wrapParams(), domain=NaturalsPos).withWrapping().latex())"
   ]
  },
  {
   "cell_type": "code",
   "execution_count": null,
   "metadata": {},
   "outputs": [],
   "source": [
    "Forall ((h, k, m), Forall((varRange(A, [one, one], [m, k]), varRange(B, one, m), \n",
    "                                                varRange(C, [one, one], [m, h]), varRange(D, one, m), \n",
    "                                                varRange(S, one, m), varRange(R, [one, one], [m, k]), \n",
    "                                                varRange(Q, [one, one], [m, h])), \n",
    "        \n",
    "            CircuitEquiv(\n",
    "                        Circuit(ExprArray(ExprRange(i, ExprTuple(MultiQubitGate(indexed_var(B, i), indexed_var(S, i))), one, m))),\n",
    "                        Circuit(ExprArray(ExprRange(i, ExprTuple(MultiQubitGate(indexed_var(D, i), indexed_var(S, i))), one, m)))\n",
    "            )\n",
    "    ).wrapParams(), domain=NaturalsPos)"
   ]
  },
  {
   "cell_type": "code",
   "execution_count": null,
   "metadata": {},
   "outputs": [],
   "source": [
    "Forall ((h, k, m), Forall((varRange(A, [one, one], [m, k]), varRange(B, one, m), \n",
    "                                                varRange(C, [one, one], [m, h]), varRange(D, one, m), \n",
    "                                                varRange(S, one, m), varRange(R, [one, one], [m, k]), \n",
    "                                                varRange(Q, [one, one], [m, h])), \n",
    "        \n",
    "            CircuitEquiv(\n",
    "                        Circuit(ExprArray(ExprRange(i, ExprTuple(MultiQubitGate(indexed_var(B, i), indexed_var(S, i))), one, m))),\n",
    "                        Circuit(ExprArray(ExprRange(i, ExprTuple(MultiQubitGate(indexed_var(D, i), indexed_var(S, i))), one, m)))\n",
    "            )\n",
    "    ).wrapParams(), domain=NaturalsPos)"
   ]
  },
  {
   "cell_type": "code",
   "execution_count": null,
   "metadata": {},
   "outputs": [],
   "source": [
    "Forall((varRange(A, [one, one], [m, k]), varRange(B, one, m), \n",
    "                                                varRange(C, [one, one], [m, h]), varRange(D, one, m), \n",
    "                                                varRange(S, one, m), varRange(R, [one, one], [m, k]), \n",
    "                                                varRange(Q, [one, one], [m, h])), \n",
    "        \n",
    "            CircuitEquiv(\n",
    "                        Circuit(ExprArray(ExprRange(i, ExprTuple(MultiQubitGate(indexed_var(B, i), indexed_var(S, i))), one, m))),\n",
    "                        Circuit(ExprArray(ExprRange(i, ExprTuple(MultiQubitGate(indexed_var(D, i), indexed_var(S, i))), one, m)))\n",
    "            )\n",
    "    ).wrapParams()"
   ]
  },
  {
   "cell_type": "code",
   "execution_count": null,
   "metadata": {},
   "outputs": [],
   "source": [
    "Forall ((h, k, m), Forall((varRange(A, [one, one], [m, k]), varRange(B, one, m), \n",
    "                                                varRange(C, [one, one], [m, h]), varRange(D, one, m), \n",
    "                                                varRange(S, one, m), varRange(R, [one, one], [m, k]), \n",
    "                                                varRange(Q, [one, one], [m, h])), \n",
    "        Implies(\n",
    "            CircuitEquiv(\n",
    "                        Circuit(ExprArray(ExprRange(i, ExprTuple(MultiQubitGate(indexed_var(B, i), indexed_var(S, i))), one, m))),\n",
    "                        Circuit(ExprArray(ExprRange(i, ExprTuple(MultiQubitGate(indexed_var(D, i), indexed_var(S, i))), one, m)))\n",
    "            ),\n",
    "            CircuitEquiv(\n",
    "                        Circuit(ExprArray(ExprRange(i, ExprTuple(ExprRange(j, MultiQubitGate(Aij, Rij), one, k), \n",
    "                                            MultiQubitGate(indexed_var(B, i), indexed_var(S, i)),\n",
    "                                            ExprRange(j, MultiQubitGate(Cij, Qij), one, h)), \n",
    "                                    one, m))),\n",
    "                        Circuit(ExprArray(ExprRange(i, ExprTuple(ExprRange(j, MultiQubitGate(Aij, Rij), one, k), \n",
    "                                            MultiQubitGate(indexed_var(D, i), indexed_var(S, i)),\n",
    "                                            ExprRange(j, MultiQubitGate(Cij, Qij), one, h)), \n",
    "                                    one, m)))\n",
    "            )\n",
    "        ).withWrappingAt(2)\n",
    "    ).wrapParams(), domain=NaturalsPos)"
   ]
  },
  {
   "cell_type": "code",
   "execution_count": null,
   "metadata": {},
   "outputs": [],
   "source": [
    "single_time_equiv.expr.instanceExpr.instanceExpr.consequent.lhs.__class__"
   ]
  },
  {
   "cell_type": "code",
   "execution_count": null,
   "metadata": {},
   "outputs": [],
   "source": [
    "lhs = Circuit(ExprArray(ExprTuple(MultiQubitGate(CONTROL, Set(one, two))), \n",
    "        ExprTuple(MultiQubitGate(Z, Set(one, two))), \n",
    "        ExprTuple(MultiQubitGate(CONTROL, Set(three, four))), \n",
    "        ExprTuple(MultiQubitGate(Z, Set(three, four)))))"
   ]
  },
  {
   "cell_type": "code",
   "execution_count": null,
   "metadata": {},
   "outputs": [],
   "source": [
    "rhs = Circuit(ExprArray(ExprTuple(MultiQubitGate(CONTROL, Set(one, two))), \n",
    "        ExprTuple(MultiQubitGate(Z, Set(one, two))), \n",
    "        ExprTuple(MultiQubitGate(CONTROL, Set(three, four))), \n",
    "        ExprTuple(MultiQubitGate(Z, Set(three, four)))))"
   ]
  },
  {
   "cell_type": "code",
   "execution_count": null,
   "metadata": {},
   "outputs": [],
   "source": [
    "CircuitEquiv(lhs, rhs).prove(assumptions=[CircuitEquiv(lhs, rhs)])"
   ]
  },
  {
   "cell_type": "code",
   "execution_count": null,
   "metadata": {},
   "outputs": [],
   "source": [
    "big = Circuit(ExprArray(ExprTuple(Gate(H), MultiQubitGate(CONTROL, Set(one, two)), Gate(X)), \n",
    "        ExprTuple(Gate(H), MultiQubitGate(Z, Set(one, two)), \n",
    "                  Gate(X)), \n",
    "        ExprTuple(Gate(H), MultiQubitGate(CONTROL, Set(three, four)), Gate(X)), \n",
    "        ExprTuple(Gate(H), MultiQubitGate(Z, Set(three, four)), \n",
    "                  Gate(X))))"
   ]
  },
  {
   "cell_type": "code",
   "execution_count": null,
   "metadata": {},
   "outputs": [],
   "source": [
    "big_left = Circuit(ExprArray(ExprTuple(Gate(H)), \n",
    "        ExprTuple(Gate(H)), \n",
    "        ExprTuple(Gate(H)), \n",
    "        ExprTuple(Gate(H))))\n"
   ]
  },
  {
   "cell_type": "code",
   "execution_count": null,
   "metadata": {},
   "outputs": [],
   "source": [
    "big_right = Circuit(ExprArray(ExprTuple(Gate(X)), \n",
    "        ExprTuple(Gate(X)), \n",
    "        ExprTuple(Gate(X)), \n",
    "        ExprTuple(Gate(X))))"
   ]
  },
  {
   "cell_type": "code",
   "execution_count": null,
   "metadata": {},
   "outputs": [],
   "source": [
    "# single variables, no ExprTuple, unflattened\n",
    "single_time_equiv.specialize({h: one, k: one, m: four, A: big_left, B: lhs, C: big_right, D: rhs, \n",
    "                              R: [{}, {}, {}, {}], S:[{one, two}, {one, two}, {three, four}, {three, four}], Q: [{}, {}, {}, {}]}, assumptions=[CircuitEquiv(lhs, rhs)])               #, InSet(one, NaturalsPos), InSet(two, NaturalsPos), InSet(four, NaturalsPos)])"
   ]
  },
  {
   "cell_type": "code",
   "execution_count": null,
   "metadata": {},
   "outputs": [],
   "source": [
    "# single variables, but flattened\n",
    "single_time_equiv.specialize({h: one, k: one, m: four, A: ExprTuple(Gate(H), Gate(H), Gate(H), Gate(H)), \n",
    "                              B: ExprTuple(MultiQubitGate(CONTROL, Set(one, two)), MultiQubitGate(Z, Set(one, two)), \n",
    "                                           MultiQubitGate(CONTROL, Set(three, four)), MultiQubitGate(Z, Set(three, four))), \n",
    "                              C: ExprTuple(Gate(X), Gate(X), Gate(X), Gate(X)), \n",
    "                              D: ExprTuple(MultiQubitGate(CONTROL, Set(one, two)), MultiQubitGate(Z, Set(one, two)), \n",
    "                                           MultiQubitGate(CONTROL, Set(three, four)), MultiQubitGate(Z, Set(three, four))), \n",
    "                              R: ExprTuple({}, {}, {}, {}), S:ExprTuple({one, two}, {one, two}, {three, four}, {three, four}), Q: ExprTuple({}, {}, {}, {})}, assumptions=[CircuitEquiv(lhs, rhs)])               #, InSet(one, NaturalsPos), InSet(two, NaturalsPos), InSet(four, NaturalsPos)])"
   ]
  },
  {
   "cell_type": "code",
   "execution_count": null,
   "metadata": {},
   "outputs": [],
   "source": [
    "# 3 by 4, subbing two controlled z gates\n",
    "single_time_equiv.specialize({h: one, k: one, m: four, \n",
    "                              ExprTuple(ExprRange(i, ExprRange(j, Aij, one, k), one, m)): ExprTuple(Gate(H), Gate(H), Gate(H), Gate(H)), \n",
    "                              ExprTuple(varRange(B, one, m)): ExprTuple(MultiQubitGate(CONTROL, Set(one, two)), MultiQubitGate(Z, Set(one, two)),\n",
    "                                                                        MultiQubitGate(CONTROL, Set(three, four)), MultiQubitGate(Z, Set(three, four))), \n",
    "                              ExprTuple(varRange(C, [one, one], [m, h])): ExprTuple(Gate(X), Gate(X), Gate(X), Gate(X)), \n",
    "                              ExprTuple(varRange(D, one, m)): ExprTuple(MultiQubitGate(CONTROL, Set(one, two)), MultiQubitGate(Z, Set(one, two)), \n",
    "                                           MultiQubitGate(CONTROL, Set(three, four)), MultiQubitGate(Z, Set(three, four))), \n",
    "                              ExprTuple(varRange(S, one, m)): ExprTuple({one, two}, {one, two}, {three, four}, {three, four}), \n",
    "                              ExprTuple(varRange(R, [one, one], [m, k])): ExprTuple({}, {}, {}, {}), \n",
    "                              ExprTuple(varRange(Q, [one, one], [m, h])): ExprTuple({}, {}, {}, {})}, assumptions=[CircuitEquiv(lhs, rhs)])"
   ]
  },
  {
   "cell_type": "code",
   "execution_count": null,
   "metadata": {},
   "outputs": [],
   "source": [
    "# 3 by 2 array, subbing controlled z gate\n",
    "single_time_equiv.specialize({h: one, k: one, m: two, \n",
    "                              ExprTuple(ExprRange(i, ExprRange(j, Aij, one, k), one, m)): ExprTuple(Gate(H), Gate(H)), \n",
    "                              ExprTuple(varRange(B, one, m)): ExprTuple(MultiQubitGate(CONTROL, Set(one, two)), MultiQubitGate(Z, Set(one, two))), \n",
    "                              ExprTuple(varRange(C, [one, one], [m, h])): ExprTuple(Gate(X), Gate(X)), \n",
    "                              ExprTuple(varRange(D, one, m)): ExprTuple(MultiQubitGate(CONTROL, Set(one, two)), MultiQubitGate(Z, Set(one, two))), \n",
    "                              ExprTuple(varRange(S, one, m)): ExprTuple({one, two}, {one, two}), \n",
    "                              ExprTuple(varRange(R, [one, one], [m, k])): ExprTuple({}, {}), \n",
    "                              ExprTuple(varRange(Q, [one, one], [m, h])): ExprTuple({}, {})}, \n",
    "                             assumptions=[CircuitEquiv(Circuit(ExprArray(ExprTuple(MultiQubitGate(CONTROL, Set(one, two))), ExprTuple(MultiQubitGate(Z, Set(one, two))))), Circuit(ExprArray(ExprTuple(MultiQubitGate(CONTROL, Set(one, two))), ExprTuple(MultiQubitGate(Z, Set(one, two))))))])"
   ]
  },
  {
   "cell_type": "code",
   "execution_count": null,
   "metadata": {},
   "outputs": [],
   "source": [
    "# 3 by 1 array, subbing Gate(z)\n",
    "single_time_equiv.specialize({h: one, k: one, m: one, \n",
    "                              ExprTuple(ExprRange(i, ExprRange(j, Aij, one, k), one, m)): ExprTuple(Gate(H)), \n",
    "                              ExprTuple(varRange(B, one, m)): ExprTuple(Gate(Z)), \n",
    "                              ExprTuple(varRange(C, [one, one], [m, h])): ExprTuple(Gate(X)), \n",
    "                              ExprTuple(varRange(D, one, m)): ExprTuple(Gate(Z)), \n",
    "                              ExprTuple(varRange(S, one, m)): ExprTuple({}), \n",
    "                              ExprTuple(varRange(R, [one, one], [m, k])): ExprTuple({}), \n",
    "                              ExprTuple(varRange(Q, [one, one], [m, h])): ExprTuple({})}, \n",
    "                             assumptions=[CircuitEquiv(Circuit(ExprArray(ExprTuple(Gate(Z)))), Circuit(ExprArray(ExprTuple(Gate(Z)))))])"
   ]
  },
  {
   "cell_type": "code",
   "execution_count": null,
   "metadata": {},
   "outputs": [],
   "source": [
    "# 3 by 2 array, subbing controlled z gate - UNFLATTENED\n",
    "single_time_equiv.specialize({h: one, k: one, m: two, \n",
    "                              ExprTuple(ExprRange(i, ExprRange(j, Aij, one, k), one, m)): ExprTuple(ExprTuple(Gate(H)), ExprTuple(Gate(H))), \n",
    "                              ExprTuple(varRange(B, one, m)): ExprTuple(ExprTuple(MultiQubitGate(CONTROL, Set(one, two))), ExprTuple(MultiQubitGate(Z, Set(one, two)))), \n",
    "                              ExprTuple(varRange(C, [one, one], [m, h])): ExprTuple(ExprTuple(Gate(X)), ExprTuple(Gate(X))), \n",
    "                              ExprTuple(varRange(D, one, m)): ExprTuple(ExprTuple(MultiQubitGate(CONTROL, Set(one, two))), ExprTuple(MultiQubitGate(Z, Set(one, two)))), \n",
    "                              ExprTuple(varRange(S, one, m)): ExprTuple({one, two}, {one, two}), \n",
    "                              ExprTuple(varRange(R, [one, one], [m, k])): ExprTuple({}, {}), \n",
    "                              ExprTuple(varRange(Q, [one, one], [m, h])): ExprTuple({}, {})}, \n",
    "                             assumptions=[CircuitEquiv(Circuit(ExprArray(ExprTuple(MultiQubitGate(CONTROL, Set(one, two))), ExprTuple(MultiQubitGate(Z, Set(one, two))))), Circuit(ExprArray(ExprTuple(MultiQubitGate(CONTROL, Set(one, two))), ExprTuple(MultiQubitGate(Z, Set(one, two))))))])"
   ]
  },
  {
   "cell_type": "code",
   "execution_count": null,
   "metadata": {},
   "outputs": [],
   "source": [
    "# 3 by 1 array, subbing Gate(z) - UNFLATTENED\n",
    "single_time_equiv.specialize({h: one, k: one, m: one, \n",
    "                              ExprTuple(ExprRange(i, ExprRange(j, Aij, one, k), one, m)): ExprTuple(ExprTuple(Gate(H))), \n",
    "                              ExprTuple(varRange(B, one, m)): ExprTuple(ExprTuple(Gate(Z))), \n",
    "                              ExprTuple(varRange(C, [one, one], [m, h])): ExprTuple(ExprTuple(Gate(X))), \n",
    "                              ExprTuple(varRange(D, one, m)): ExprTuple(ExprTuple(Gate(Z))), \n",
    "                              ExprTuple(varRange(S, one, m)): ExprTuple({}), \n",
    "                              ExprTuple(varRange(R, [one, one], [m, k])): ExprTuple({}), \n",
    "                              ExprTuple(varRange(Q, [one, one], [m, h])): ExprTuple({})}, \n",
    "                             assumptions=[CircuitEquiv(Circuit(ExprArray(ExprTuple(Gate(Z)))), Circuit(ExprArray(ExprTuple(Gate(Z)))))])"
   ]
  },
  {
   "cell_type": "code",
   "execution_count": null,
   "metadata": {},
   "outputs": [],
   "source": []
  },
  {
   "cell_type": "code",
   "execution_count": null,
   "metadata": {},
   "outputs": [],
   "source": [
    "Sig = indexed_var(S,(i,g)) "
   ]
  },
  {
   "cell_type": "code",
   "execution_count": null,
   "metadata": {},
   "outputs": [],
   "source": [
    "Sj = indexed_var(S, j)"
   ]
  },
  {
   "cell_type": "code",
   "execution_count": null,
   "metadata": {},
   "outputs": [],
   "source": [
    "MultiQubitGate(Sig, one).subExpr(1).subExpr(0).subExpr(0).subExpr(0)"
   ]
  },
  {
   "cell_type": "code",
   "execution_count": null,
   "metadata": {},
   "outputs": [],
   "source": [
    "MultiQubitGate(Sj, one).subExpr(1).subExpr(0).subExpr(0)"
   ]
  },
  {
   "cell_type": "code",
   "execution_count": null,
   "metadata": {},
   "outputs": [],
   "source": [
    "#ExprRange(i, ExprTuple(ExprRange(h, MultiQubitGate(Aih, A), one, m), ExprRange(j, MultiQubitGate(Bij, A), one, n), ExprRange(k, MultiQubitGate(Cik, A), one, p)), one, q).first().entries[0].first().subExpr(1).subExpr(1)"
   ]
  },
  {
   "cell_type": "code",
   "execution_count": null,
   "metadata": {},
   "outputs": [],
   "source": []
  },
  {
   "cell_type": "code",
   "execution_count": null,
   "metadata": {},
   "outputs": [],
   "source": [
    "CircuitEquiv(\n",
    "                    Circuit(ExprArray(ExprTuple(ExprRange(j, MultiQubitGate(indexed_var(B, j), Set(Add(m, one), Add(m, k, two))), one, n)),\n",
    "                            ExprTuple(ExprRange(j, MultiQubitGate(indexed_var(D, j), Set(Add(m, one), Add(m, k, two))), one, n)))),\n",
    "                    Circuit(ExprArray(ExprTuple(ExprRange(j, MultiQubitGate(indexed_var(F, j), Set(Add(m, one), Add(m, k, two))), one, n)),\n",
    "                            ExprTuple(ExprRange(j, MultiQubitGate(indexed_var(G, j), Set(Add(m, one), Add(m, k, two))), one, n))))\n",
    "            ).lhs"
   ]
  },
  {
   "cell_type": "code",
   "execution_count": null,
   "metadata": {},
   "outputs": [],
   "source": [
    "ExprRange(i, ExprTuple(ExprRange(j, MultiQubitGate(Aij, Sij), one, n)), one, m).first().entries[0].first()"
   ]
  },
  {
   "cell_type": "code",
   "execution_count": null,
   "metadata": {},
   "outputs": [],
   "source": [
    "ExprRange(j, Gate(Aij), one, n).first().subExpr(1).subExpr(1)"
   ]
  },
  {
   "cell_type": "code",
   "execution_count": null,
   "metadata": {},
   "outputs": [],
   "source": [
    "Circuit(ExprArray(ExprRange(i, ExprTuple(ExprRange(j, Gate(Aij), one, n)), one, m),\n",
    "                     ExprTuple(ExprRange(j, MultiQubitGate(indexed_var(B, j), Set(Add(m, one), Add(m, k, two))), one, n)),\n",
    "        ExprRange(i, ExprTuple(ExprRange(j, MultiQubitGate(Cij, Rij), one, n)), one, k),\n",
    "                     ExprTuple(ExprRange(j, MultiQubitGate(indexed_var(D, j), Set(Add(m, one), Add(m, k, two))), one, n)),\n",
    "        ExprRange(i, ExprTuple(ExprRange(j, Gate(Eij), one, n)), one, p)))"
   ]
  },
  {
   "cell_type": "code",
   "execution_count": null,
   "metadata": {},
   "outputs": [],
   "source": [
    "Circuit(ExprArray(ExprRange(i, ExprTuple(ExprRange(j, MultiQubitGate(Aij, Sij), one, n)), one, m),\n",
    "                     ExprTuple(ExprRange(j, MultiQubitGate(indexed_var(B, j), Set(Add(m, one), Add(m, k, two))), one, n)),\n",
    "        ExprRange(i, ExprTuple(ExprRange(j, MultiQubitGate(Cij, Rij), one, n)), one, k),\n",
    "                     ExprTuple(ExprRange(j, MultiQubitGate(indexed_var(D, j), Set(Add(m, one), Add(m, k, two))), one, n)),\n",
    "        ExprRange(i, ExprTuple(ExprRange(j, MultiQubitGate(Eij, Qij), one, n)), one, p)))"
   ]
  },
  {
   "cell_type": "code",
   "execution_count": null,
   "metadata": {},
   "outputs": [],
   "source": [
    "Circuit(ExprArray(ExprRange(i, ExprTuple(ExprRange(j, MultiQubitGate(Aij, Sij), one, n)), one, m),\n",
    "                     ExprTuple(ExprRange(j, MultiQubitGate(indexed_var(B, j), Set(two, four)), one, n)),\n",
    "        ExprRange(i, ExprTuple(ExprRange(j, MultiQubitGate(Cij, Rij), one, n)), one, k),\n",
    "                     ExprTuple(ExprRange(j, MultiQubitGate(indexed_var(D, j), Set(two, five)), one, n)),\n",
    "        ExprRange(i, ExprTuple(ExprRange(j, MultiQubitGate(Eij, Qij), one, n)), one, p)))"
   ]
  },
  {
   "cell_type": "code",
   "execution_count": null,
   "metadata": {},
   "outputs": [],
   "source": [
    "\n",
    "        Implies(\n",
    "            CircuitEquiv(\n",
    "                    Circuit(ExprArray(ExprTuple(ExprRange(j, MultiQubitGate(indexed_var(B, j), Set(Add(m, one), Add(m, k, two))), one, n)),\n",
    "                            ExprTuple(ExprRange(j, MultiQubitGate(indexed_var(D, j), Set(Add(m, one), Add(m, k, two))), one, n)))),\n",
    "                    Circuit(ExprArray(ExprTuple(ExprRange(j, MultiQubitGate(indexed_var(F, j), Set(Add(m, one), Add(m, k, two))), one, n)),\n",
    "                            ExprTuple(ExprRange(j, MultiQubitGate(indexed_var(G, j), Set(Add(m, one), Add(m, k, two))), one, n))))\n",
    "            ),\n",
    "            CircuitEquiv(\n",
    "                    Circuit(ExprArray(ExprRange(i, ExprTuple(ExprRange(j, MultiQubitGate(Aij, Sij), one, n)), one, m),\n",
    "                            ExprTuple(ExprRange(j, MultiQubitGate(indexed_var(B, j), Set(Add(m, one), Add(m, k, two))), one, n)),\n",
    "                            ExprRange(i, ExprTuple(ExprRange(j, MultiQubitGate(Cij, Rij), one, n)), one, k),\n",
    "                            ExprTuple(ExprRange(j, MultiQubitGate(indexed_var(D, j), Set(Add(m, one), Add(m, k, two))), one, n)),\n",
    "                            ExprRange(i, ExprTuple(ExprRange(j, MultiQubitGate(Eij, Qij), one, n)), one, p))),\n",
    "                    Circuit(ExprArray(ExprRange(i, ExprTuple(ExprRange(j, MultiQubitGate(Aij, Sij), one, n)), one, m),\n",
    "                            ExprTuple(ExprRange(j, MultiQubitGate(indexed_var(F, j), Set(Add(m, one), Add(m, k, two))), one, n)),\n",
    "                            ExprRange(i, ExprTuple(ExprRange(j, MultiQubitGate(Cij, Rij), one, n)), one, k),\n",
    "                            ExprTuple(ExprRange(j, MultiQubitGate(indexed_var(G, j), Set(Add(m, one), Add(m, k, two))), one, n)),\n",
    "                            ExprRange(i, ExprTuple(ExprRange(j, MultiQubitGate(Eij, Qij), one, n)), one, p))))\n",
    "            )\n",
    "        \n"
   ]
  },
  {
   "cell_type": "code",
   "execution_count": null,
   "metadata": {},
   "outputs": [],
   "source": [
    "Circuit(ExprArray(ExprTuple(Input(ket0), Gate(H), MultiQubitGate(X, Set(one, three)), Gate(H), Output(ketPlus)), \n",
    "        ExprTuple(Input(ket1), MultiQubitGate(H, Set(two, three)), MultiQubitGate(H, Set(two)), Gate(X), Output(ketMinus)),\n",
    "       ExprTuple(Input(ket1), MultiQubitGate(H, Set(two, three)), MultiQubitGate(X, Set(one, three)), Gate(X), Output(ketMinus))))"
   ]
  },
  {
   "cell_type": "code",
   "execution_count": null,
   "metadata": {},
   "outputs": [],
   "source": [
    "Circuit(ExprArray(ExprRange(i, ExprTuple(MultiQubitGate(indexed_var(B, i), indexed_var(S, i))), one, m))).getRowLength()"
   ]
  },
  {
   "cell_type": "code",
   "execution_count": null,
   "metadata": {},
   "outputs": [],
   "source": [
    "Circuit(ExprArray(ExprTuple(ExprRange(j, Gate(indexed_var(B, j)), one, n))))"
   ]
  },
  {
   "cell_type": "code",
   "execution_count": null,
   "metadata": {},
   "outputs": [],
   "source": [
    "CircuitEquiv(\n",
    "                    Circuit(ExprArray(ExprTuple(ExprRange(j, Gate(indexed_var(B, j)), one, n)))),\n",
    "                    Circuit(ExprArray(ExprTuple(ExprRange(j, Gate(indexed_var(D, j)), one, n)))))"
   ]
  },
  {
   "cell_type": "code",
   "execution_count": null,
   "metadata": {},
   "outputs": [],
   "source": [
    "Circuit(ExprArray(ExprRange(i, ExprTuple(ExprRange(j, MultiQubitGate(Cij, Rij), one, n)), one, k)))"
   ]
  },
  {
   "cell_type": "code",
   "execution_count": null,
   "metadata": {},
   "outputs": [],
   "source": [
    "Circuit(ExprArray(ExprRange(i, ExprTuple(ExprRange(j, MultiQubitGate(Aij, Sij), one, n)), one, m),\n",
    "                            ExprTuple(ExprRange(j, Gate(indexed_var(B, j)), one, n)),\n",
    "                            ExprRange(i, ExprTuple(ExprRange(j, MultiQubitGate(Cij, Rij), one, n)), one, k)))"
   ]
  },
  {
   "cell_type": "code",
   "execution_count": null,
   "metadata": {},
   "outputs": [],
   "source": [
    "CircuitEquiv(\n",
    "                    Circuit(ExprArray(ExprRange(i, ExprTuple(ExprRange(j, MultiQubitGate(Aij, Sij), one, n)), one, m),\n",
    "                            ExprTuple(ExprRange(j, Gate(indexed_var(B, j)), one, n)),\n",
    "                            ExprRange(i, ExprTuple(ExprRange(j, MultiQubitGate(Cij, Rij), one, n)), one, k))),\n",
    "                    Circuit(ExprArray(ExprRange(i, ExprTuple(ExprRange(j, MultiQubitGate(Aij, Sij), one, n)), one, m),\n",
    "                            ExprTuple(ExprRange(j, Gate(indexed_var(D, j)), one, n)),\n",
    "                            ExprRange(i, ExprTuple(ExprRange(j, MultiQubitGate(Cij, Rij), one, n)), one, k)))\n",
    "            )"
   ]
  },
  {
   "cell_type": "code",
   "execution_count": null,
   "metadata": {},
   "outputs": [],
   "source": [
    "Circuit(ExprArray(ExprRange(i, ExprTuple(ExprRange(j, MultiQubitGate(Aij, Rij), one, k), \n",
    "                                            MultiQubitGate(indexed_var(B, i), indexed_var(S, i)),\n",
    "                               ExprRange(j, MultiQubitGate(Cij, Qij), one, h)), \n",
    "                                    one, m)))"
   ]
  },
  {
   "cell_type": "code",
   "execution_count": null,
   "metadata": {},
   "outputs": [],
   "source": [
    "print(Implies(\n",
    "            CircuitEquiv(\n",
    "                        Circuit(ExprArray(ExprRange(i, ExprTuple(MultiQubitGate(indexed_var(B, i), indexed_var(S, i))), one, m))),\n",
    "                        Circuit(ExprArray(ExprRange(i, ExprTuple(MultiQubitGate(indexed_var(D, i), indexed_var(S, i))), one, m)))\n",
    "            ),\n",
    "            CircuitEquiv(\n",
    "                        Circuit(ExprArray(ExprRange(i, ExprTuple(ExprRange(j, MultiQubitGate(Aij, Rij), one, k), \n",
    "                                            MultiQubitGate(indexed_var(B, i), indexed_var(S, i)),\n",
    "                                            ExprRange(j, MultiQubitGate(Cij, Qij), one, h)), \n",
    "                                    one, m))),\n",
    "                        Circuit(ExprArray(ExprRange(i, ExprTuple(ExprRange(j, MultiQubitGate(Aij, Rij), one, k), \n",
    "                                            MultiQubitGate(indexed_var(D, i), indexed_var(S, i)),\n",
    "                                            ExprRange(j, MultiQubitGate(Cij, Qij), one, h)), \n",
    "                                    one, m)))\n",
    "            )\n",
    "        ).withWrappingAt(1).latex())"
   ]
  },
  {
   "cell_type": "code",
   "execution_count": null,
   "metadata": {},
   "outputs": [],
   "source": [
    "Implies(\n",
    "            CircuitEquiv(\n",
    "                        Circuit(ExprArray(ExprRange(i, ExprTuple(MultiQubitGate(indexed_var(B, i), indexed_var(S, i))), one, m))),\n",
    "                        Circuit(ExprArray(ExprRange(i, ExprTuple(MultiQubitGate(indexed_var(D, i), indexed_var(S, i))), one, m)))\n",
    "            ),\n",
    "            CircuitEquiv(\n",
    "                        Circuit(ExprArray(ExprRange(i, ExprTuple(ExprRange(j, MultiQubitGate(Aij, Rij), one, k), \n",
    "                                            MultiQubitGate(indexed_var(B, i), indexed_var(S, i)),\n",
    "                                            ExprRange(j, MultiQubitGate(Cij, Qij), one, h)), \n",
    "                                    one, m))),\n",
    "                        Circuit(ExprArray(ExprRange(i, ExprTuple(ExprRange(j, MultiQubitGate(Aij, Rij), one, k), \n",
    "                                            MultiQubitGate(indexed_var(D, i), indexed_var(S, i)),\n",
    "                                            ExprRange(j, MultiQubitGate(Cij, Qij), one, h)), \n",
    "                                    one, m)))\n",
    "            )\n",
    "        ).withWrappingAt(1)"
   ]
  },
  {
   "cell_type": "code",
   "execution_count": null,
   "metadata": {},
   "outputs": [],
   "source": [
    "CircuitEquiv(Circuit(ExprArray(ExprRange(i, ExprTuple(ExprRange(j, MultiQubitGate(Aij, Sij), one, m)), one, q))),\n",
    "                     Circuit(ExprArray(ExprRange(i, ExprTuple(ExprRange(j, MultiQubitGate(Aij, Sij), one, m)), one, q))))"
   ]
  },
  {
   "cell_type": "code",
   "execution_count": null,
   "metadata": {},
   "outputs": [],
   "source": [
    "print(CircuitEquiv(ExprArray(Circuit(ExprRange(i, ExprTuple(ExprRange(j, MultiQubitGate(Aij, Sij), one, m)), one, q))),\n",
    "                   ExprArray(Circuit(ExprRange(i, ExprTuple(ExprRange(j, MultiQubitGate(Aij, Sij), one, m)), one, q)))).latex())"
   ]
  },
  {
   "cell_type": "code",
   "execution_count": null,
   "metadata": {},
   "outputs": [],
   "source": [
    "Circuit(ExprArray(ExprRange(i, ExprTuple(ExprRange(j, MultiQubitGate(Aij, Sij), one, m)), one, q),\n",
    "        ExprTuple(ExprRange(j, MultiQubitGate(Bij, Sij), one, m)),\n",
    "        ExprRange(i, ExprTuple(ExprRange(j, MultiQubitGate(Cij, Sij), one, m)), one, s)))"
   ]
  },
  {
   "cell_type": "code",
   "execution_count": null,
   "metadata": {},
   "outputs": [],
   "source": [
    "Circuit(ExprArray(ExprRange(i, ExprTuple(ExprRange(j, MultiQubitGate(Bij, Sij), one, n)), one, m)))"
   ]
  },
  {
   "cell_type": "code",
   "execution_count": null,
   "metadata": {},
   "outputs": [],
   "source": [
    "Circuit(ExprArray(ExprTuple(Input(ket0), Gate(H), Output(ketPlus)), \n",
    "        ExprTuple(Input(ket1), MultiQubitGate(H, Set(two)), Output(ketMinus))))\n",
    "# MultiQubitGate of a single gate - automatic equality reductions. "
   ]
  },
  {
   "cell_type": "code",
   "execution_count": null,
   "metadata": {},
   "outputs": [],
   "source": [
    "Circuit(ExprArray(ExprTuple(Input(ket0), Gate(IdentityOp()), Output(ketPlus)), \n",
    "        ExprTuple(Input(ket1), Gate(), Output(ketMinus))))\n",
    "# Empty gate reduction"
   ]
  },
  {
   "cell_type": "code",
   "execution_count": null,
   "metadata": {},
   "outputs": [],
   "source": [
    "#Circuit(ExprRange(i, Gate(ExprRange(j, Aij, one, n)), one, m))"
   ]
  },
  {
   "cell_type": "code",
   "execution_count": null,
   "metadata": {},
   "outputs": [],
   "source": [
    "# multigate block test\n",
    "Circuit(ExprArray(ExprTuple(Input(ket0), MultiQubitGate(CONTROL, Set(one, two, three, four, six, seven)), Output(ket0)), \n",
    "        ExprTuple(Input(ket0), MultiQubitGate(CONTROL, Set(one, two, three, four, six, seven)), \n",
    "                  Output(ket0)), \n",
    "        ExprTuple(Input(ket0), MultiQubitGate(Z, Set(one, two, three, four, six, seven)), Output(ket0)), \n",
    "        ExprTuple(Input(ket1), MultiQubitGate(X, Set(one, two, three, four, six, seven)), \n",
    "                  Output(ket1)),\n",
    "        ExprTuple(Input(ket0), Gate(IdentityOp()), Output(ket0)), \n",
    "        ExprTuple(Input(ket1), MultiQubitGate(X, Set(one, two, three, four, six, seven)), \n",
    "                  Output(ket1)),\n",
    "        ExprTuple(Input(ket1), MultiQubitGate(Z, Set(one, two, three, four, six, seven)), \n",
    "                  Output(ket1))))"
   ]
  },
  {
   "cell_type": "code",
   "execution_count": null,
   "metadata": {},
   "outputs": [],
   "source": [
    "# multigate block test\n",
    "Circuit(ExprArray(ExprTuple(Input(ket0), MultiQubitGate(CONTROL, Set(one, two, three, four)), Output(ket0)), \n",
    "        ExprTuple(Input(ket0), MultiQubitGate(Z, Set(one, two, three, four)), \n",
    "                  Output(ket0)), \n",
    "        ExprTuple(Input(ket0), MultiQubitGate(Z, Set(one, two, three, four)), Output(ket0)), \n",
    "        ExprTuple(Input(ket1), MultiQubitGate(Z, Set(one, two, three, four)), \n",
    "                  Output(ket1))))"
   ]
  },
  {
   "cell_type": "code",
   "execution_count": null,
   "metadata": {},
   "outputs": [],
   "source": [
    "# Single Qubit Gates"
   ]
  },
  {
   "cell_type": "code",
   "execution_count": null,
   "metadata": {},
   "outputs": [],
   "source": [
    "Circuit(ExprArray(ExprTuple(Input(ket0), Gate(H), Output(ketPlus)), \n",
    "        ExprTuple(Input(ket1), Gate(H), Output(ketMinus))))\n",
    "# H gate (both inputs)"
   ]
  },
  {
   "cell_type": "code",
   "execution_count": null,
   "metadata": {},
   "outputs": [],
   "source": [
    "Circuit(ExprArray(ExprTuple(Input(ket0), Gate(X), Output(ket1)), \n",
    "        ExprTuple(Input(ket1), Gate(X), Output(ket0))))\n",
    "# X gate (both inputs)"
   ]
  },
  {
   "cell_type": "code",
   "execution_count": null,
   "metadata": {},
   "outputs": [],
   "source": [
    "Circuit(ExprArray(ExprTuple(Input(ket0), Gate(Z), Output(ket0)), \n",
    "        ExprTuple(Input(ket1), Gate(Z), Output(Neg(ket1)))))\n",
    "# Z gate (both inputs)"
   ]
  },
  {
   "cell_type": "code",
   "execution_count": null,
   "metadata": {},
   "outputs": [],
   "source": [
    "#Two Qubit Gates"
   ]
  },
  {
   "cell_type": "code",
   "execution_count": null,
   "metadata": {},
   "outputs": [],
   "source": [
    "Circuit(ExprArray(ExprTuple(Input(ket0), MultiQubitGate(CONTROL, Set(one, two)), Output(ket0)), \n",
    "        ExprTuple(Input(ket0), MultiQubitGate(Z, Set(one, two)), \n",
    "                  Output(ket0)), \n",
    "        ExprTuple(Input(ket0), MultiQubitGate(CONTROL, Set(three, four)), Output(ket0)), \n",
    "        ExprTuple(Input(ket1), MultiQubitGate(Z, Set(three, four)), \n",
    "                  Output(ket1))))\n",
    "#CZ gate - 0 qubit control for 1 and 0 qubit inputs"
   ]
  },
  {
   "cell_type": "code",
   "execution_count": null,
   "metadata": {},
   "outputs": [],
   "source": [
    "Circuit(ExprArray(ExprTuple(Input(ket1), MultiQubitGate(CONTROL, Set(one, two)), Output(ket1)), \n",
    "        ExprTuple(Input(ket0), MultiQubitGate(Z, Set(one, two)), \n",
    "                  Output(ket0)), \n",
    "        ExprTuple(Input(ket1), MultiQubitGate(CONTROL, Set(three, four)), Output(ket1)), \n",
    "        ExprTuple(Input(ket1), MultiQubitGate(Z, Set(three, four)), \n",
    "                  Output(Neg(ket1))))) \n",
    "#CZ gate - 1 qubit control for 1 and 0 qubit inputs"
   ]
  },
  {
   "cell_type": "code",
   "execution_count": null,
   "metadata": {},
   "outputs": [],
   "source": [
    "Circuit(ExprArray(ExprTuple(Input(ket0), MultiQubitGate(CONTROL, Set(one, two)), Output(ket0)), \n",
    "        ExprTuple(Input(ket0), MultiQubitGate(X, Set(one, two)), Output(ket0)), \n",
    "        ExprTuple(Input(ket0), MultiQubitGate(CONTROL, Set(three, four)), Output(ket0)), \n",
    "        ExprTuple(Input(ket1), MultiQubitGate(X, Set(three, four)), Output(ket1)))) \n",
    "#CX gate - 0 qubit control for 1 and 0 qubit inputs"
   ]
  },
  {
   "cell_type": "code",
   "execution_count": null,
   "metadata": {},
   "outputs": [],
   "source": [
    "Circuit(ExprArray(ExprTuple(Input(ket1), MultiQubitGate(CONTROL, Set(one, two)), Output(ket1)), \n",
    "        ExprTuple(Input(ket0), MultiQubitGate(X, Set(one, two)), Output(ket1)), \n",
    "        ExprTuple(Input(ket1), MultiQubitGate(CONTROL, Set(three, four)), Output(ket1)), \n",
    "        ExprTuple(Input(ket1), MultiQubitGate(X, Set(three, four)), Output(ket0)))) \n",
    "#CX gate - 1 qubit control for 1 and 0 qubit inputs"
   ]
  },
  {
   "cell_type": "code",
   "execution_count": null,
   "metadata": {},
   "outputs": [],
   "source": [
    "Circuit(ExprArray(ExprTuple(Input(zero), MultiQubitGate(CLASSICAL_CONTROL, Set(one, two)), SPACE), \n",
    "        ExprTuple(Input(ket0), MultiQubitGate(Z, Set(one, two)), \n",
    "                  Output(ket0)), \n",
    "        ExprTuple(Input(zero), MultiQubitGate(CLASSICAL_CONTROL, Set(three, four)), SPACE), \n",
    "        ExprTuple(Input(ket1), MultiQubitGate(Z, Set(three, four)), \n",
    "                  Output(ket1)))) \n",
    "#cZ gate - 0 classical bit control for 1 and 0 qubit inputs"
   ]
  },
  {
   "cell_type": "code",
   "execution_count": null,
   "metadata": {},
   "outputs": [],
   "source": [
    "Circuit(ExprArray(ExprTuple(Input(one), MultiQubitGate(CLASSICAL_CONTROL, Set(one, two)), SPACE), \n",
    "        ExprTuple(Input(ket0), MultiQubitGate(Z, Set(one, two)), \n",
    "                  Output(ket0)), \n",
    "        ExprTuple(Input(one), MultiQubitGate(CLASSICAL_CONTROL, Set(three, four)), SPACE), \n",
    "        ExprTuple(Input(ket1), MultiQubitGate(Z, Set(three, four)), \n",
    "                  Output(Neg(ket1)))))\n",
    "#cZ gate - 1 classical bit control for 1 and 0 qubit inputs"
   ]
  },
  {
   "cell_type": "code",
   "execution_count": null,
   "metadata": {},
   "outputs": [],
   "source": [
    "Circuit(ExprArray(ExprTuple(Input(zero), MultiQubitGate(CLASSICAL_CONTROL, Set(one, two)), SPACE), \n",
    "        ExprTuple(Input(ket0), MultiQubitGate(X, Set(one, two)), \n",
    "                  Output(ket0)), \n",
    "        ExprTuple(Input(zero), MultiQubitGate(CLASSICAL_CONTROL, Set(three, four)), SPACE), \n",
    "        ExprTuple(Input(ket1), MultiQubitGate(X, Set(three, four)), \n",
    "                  Output(ket1)))) \n",
    "#cX gate - 0 classical bit control for 1 and 0 qubit inputs"
   ]
  },
  {
   "cell_type": "code",
   "execution_count": null,
   "metadata": {},
   "outputs": [],
   "source": [
    "Circuit(ExprArray(ExprTuple(Input(one), MultiQubitGate(CLASSICAL_CONTROL, Set(one, two)), SPACE), \n",
    "        ExprTuple(Input(ket0), MultiQubitGate(X, Set(one, two)), \n",
    "                  Output(ket1)), \n",
    "        ExprTuple(Input(one), MultiQubitGate(CLASSICAL_CONTROL, Set(three, four)), SPACE), \n",
    "        ExprTuple(Input(ket1), MultiQubitGate(X, Set(three, four)), \n",
    "                  Output(ket0))))\n",
    "#cX gate - 1 classical bit control for 1 and 0 qubit inputs"
   ]
  },
  {
   "cell_type": "code",
   "execution_count": null,
   "metadata": {},
   "outputs": [],
   "source": [
    "#NULL GATES"
   ]
  },
  {
   "cell_type": "code",
   "execution_count": null,
   "metadata": {},
   "outputs": [],
   "source": [
    "Circuit(ExprArray(ExprTuple(Input(ket0), Gate(H), Gate(H), Output(ket0)), \n",
    "        ExprTuple(Input(ket1), Gate(H), Gate(H), Output(ket1))))"
   ]
  },
  {
   "cell_type": "code",
   "execution_count": null,
   "metadata": {},
   "outputs": [],
   "source": [
    "Circuit(ExprArray(ExprTuple(Input(ket0), Gate(X), Gate(X), Output(ket0)), \n",
    "        ExprTuple(Input(ket1), Gate(X), Gate(X), Output(ket1))))"
   ]
  },
  {
   "cell_type": "code",
   "execution_count": null,
   "metadata": {},
   "outputs": [],
   "source": [
    "Circuit(ExprArray(ExprTuple(Input(ket0), Gate(Z), Gate(Z), Output(ket0)), \n",
    "        ExprTuple(Input(ket1), Gate(Z), Gate(Z), Output(ket1))))"
   ]
  },
  {
   "cell_type": "code",
   "execution_count": null,
   "metadata": {},
   "outputs": [],
   "source": [
    "Circuit(ExprArray(ExprTuple(Input(ket0), MultiQubitGate(CONTROL, Set(one, two)), MultiQubitGate(CONTROL, Set(one, two)), \n",
    "                  Output(ket0)), \n",
    "        ExprTuple(Input(ket0), MultiQubitGate(Z, Set(one, two)), MultiQubitGate(Z, Set(one, two)), Output(ket0)), \n",
    "        ExprTuple(Input(ket0), MultiQubitGate(CONTROL, Set(three, four)), MultiQubitGate(CONTROL, Set(three, four)), \n",
    "                  Output(ket0)), \n",
    "        ExprTuple(Input(ket1), MultiQubitGate(Z, Set(three, four)), MultiQubitGate(Z, Set(three, four)), \n",
    "                  Output(ket1)),\n",
    "        ExprTuple(Input(ket1), MultiQubitGate(CONTROL, Set(five, six)), MultiQubitGate(CONTROL, Set(five, six)),\n",
    "                  Output(ket1)),\n",
    "        ExprTuple(Input(ket0), MultiQubitGate(Z, Set(five, six)), MultiQubitGate(Z, Set(five, six)),\n",
    "                  Output(ket0)),\n",
    "        ExprTuple(Input(ket1), MultiQubitGate(CONTROL, Set(seven, eight)), MultiQubitGate(CONTROL, Set(seven, eight)), \n",
    "                  Output(ket1)), \n",
    "        ExprTuple(Input(ket1), MultiQubitGate(Z, Set(seven, eight)), MultiQubitGate(Z, Set(seven, eight)), \n",
    "                  Output(ket1)))) \n",
    "# Double CZ gate"
   ]
  },
  {
   "cell_type": "code",
   "execution_count": null,
   "metadata": {},
   "outputs": [],
   "source": [
    "Circuit(ExprArray(ExprTuple(Input(ket0), MultiQubitGate(CONTROL, Set(one, two)), MultiQubitGate(CONTROL, Set(one, two)), \n",
    "                  Output(ket0)), \n",
    "        ExprTuple(Input(ket0), MultiQubitGate(X, Set(one, two)), MultiQubitGate(X, Set(one, two)), Output(ket0)), \n",
    "        ExprTuple(Input(ket0), MultiQubitGate(CONTROL, Set(three, four)), MultiQubitGate(CONTROL, Set(three, four)), \n",
    "                  Output(ket0)), \n",
    "        ExprTuple(Input(ket1), MultiQubitGate(X, Set(three, four)), MultiQubitGate(X, Set(three, four)), \n",
    "                  Output(ket1)),\n",
    "        ExprTuple(Input(ket1), MultiQubitGate(CONTROL, Set(five, six)), MultiQubitGate(CONTROL, Set(five, six)),\n",
    "                  Output(ket1)),\n",
    "        ExprTuple(Input(ket0), MultiQubitGate(X, Set(five, six)), MultiQubitGate(X, Set(five, six)),\n",
    "                  Output(ket0)),\n",
    "        ExprTuple(Input(ket1), MultiQubitGate(CONTROL, Set(seven, eight)), MultiQubitGate(CONTROL, Set(seven, eight)), \n",
    "                  Output(ket1)), \n",
    "        ExprTuple(Input(ket1), MultiQubitGate(X, Set(seven, eight)), MultiQubitGate(X, Set(seven, eight)), \n",
    "                  Output(ket1)))) \n",
    "# Double CX gate"
   ]
  },
  {
   "cell_type": "code",
   "execution_count": null,
   "metadata": {},
   "outputs": [],
   "source": [
    "Circuit(ExprArray(ExprTuple(Input(ket0), MultiQubitGate(CONTROL, Set(one, two)), Output(ket0)), \n",
    "        ExprTuple(Input(ket0), MultiQubitGate(U, Set(one, two)), \n",
    "                  Output(ket0)), \n",
    "        ExprTuple(Input(ket0), MultiQubitGate(CONTROL, Set(three, four)), Output(ket0)), \n",
    "        ExprTuple(Input(ket1), MultiQubitGate(U, Set(three, four)), \n",
    "                  Output(ket1)))) \n",
    "#CU gate - 0 classical bit control for 1 and 0 qubit inputs (Always null regardless of what U is)"
   ]
  },
  {
   "cell_type": "code",
   "execution_count": null,
   "metadata": {},
   "outputs": [],
   "source": [
    "# CONGRUENCIES"
   ]
  },
  {
   "cell_type": "code",
   "execution_count": null,
   "metadata": {},
   "outputs": [],
   "source": [
    "Circuit(ExprArray(\n",
    "    ExprTuple(Input(ket0), MultiQubitGate(Z, Set(one, two)), Output(ket0)), \n",
    "    ExprTuple(Input(ket0), MultiQubitGate(CONTROL, Set(one, two)), \n",
    "              Output(ket0)), \n",
    "    ExprTuple(Input(ket0), MultiQubitGate(Z, Set(three, four)), Output(ket0)), \n",
    "    ExprTuple(Input(ket1), MultiQubitGate(CONTROL, Set(three, four)), \n",
    "                Output(ket1)),\n",
    "    ExprTuple(Input(ket1), MultiQubitGate(Z, Set(five, six)), Output(ket1)), \n",
    "    ExprTuple(Input(ket0), MultiQubitGate(CONTROL, Set(five, six)), \n",
    "              Output(ket0)), \n",
    "    ExprTuple(Input(ket1), MultiQubitGate(Z, Set(seven, eight)), Output(Neg(ket1))), \n",
    "    ExprTuple(Input(ket1), MultiQubitGate(CONTROL, Set(seven, eight)), \n",
    "              Output(ket1))))\n",
    "\n",
    "#Congruent to a regular CZ gate"
   ]
  },
  {
   "cell_type": "code",
   "execution_count": null,
   "metadata": {},
   "outputs": [],
   "source": [
    "Circuit(ExprArray(\n",
    "        ExprTuple(Input(ket0), Gate(IdentityOp()), MultiQubitGate(CONTROL, Set(one, two)), Gate(IdentityOp()), Output(ket0)), \n",
    "        ExprTuple(Input(ket0), Gate(H), MultiQubitGate(Z, Set(one, two)), Gate(H), Output(ket0)),\n",
    "        ExprTuple(Input(ket0), Gate(IdentityOp()), MultiQubitGate(CONTROL, Set(three, four)), Gate(IdentityOp()), Output(ket0)), \n",
    "        ExprTuple(Input(ket1), Gate(H), MultiQubitGate(Z, Set(three, four)), Gate(H), Output(ket1)),\n",
    "        ExprTuple(Input(ket1), Gate(IdentityOp()), MultiQubitGate(CONTROL, Set(five, six)), Gate(IdentityOp()), Output(ket1)), \n",
    "        ExprTuple(Input(ket0), Gate(H), MultiQubitGate(Z, Set(five, six)), Gate(H), Output(ket1)),\n",
    "        ExprTuple(Input(ket1), Gate(IdentityOp()), MultiQubitGate(CONTROL, Set(seven, eight)), Gate(IdentityOp()), Output(ket1)), \n",
    "        ExprTuple(Input(ket1), Gate(H), MultiQubitGate(Z, Set(seven, eight)), Gate(H), Output(ket0))))\n",
    "# Congruent to a CX gate"
   ]
  },
  {
   "cell_type": "code",
   "execution_count": null,
   "metadata": {},
   "outputs": [],
   "source": [
    "Circuit(ExprArray(ExprTuple(Input(ket0), Gate(H), MultiQubitGate(CONTROL, Set(one, two)), Gate(H), Output(ket0)), \n",
    "        ExprTuple(Input(ket0), Gate(H), MultiQubitGate(Z, Set(one, two)), Gate(H), Output(ket0)),\n",
    "        ExprTuple(Input(ket0), Gate(H), MultiQubitGate(CONTROL, Set(three, four)), Gate(H), Output(ket0)), \n",
    "        ExprTuple(Input(ket1), Gate(H), MultiQubitGate(Z, Set(three, four)), Gate(H), Output(ket1)),\n",
    "        ExprTuple(Input(ket1), Gate(H), MultiQubitGate(CONTROL, Set(five, six)), Gate(H), Output(ket1)), \n",
    "        ExprTuple(Input(ket0), Gate(H), MultiQubitGate(Z, Set(five, six)), Gate(H), Output(ket1)),\n",
    "        ExprTuple(Input(ket1), Gate(H), MultiQubitGate(CONTROL, Set(seven, eight)), Gate(H), Output(ket1)), \n",
    "        ExprTuple(Input(ket1), Gate(H), MultiQubitGate(Z, Set(seven, eight)), Gate(H), Output(ket0))))\n",
    "# Intermediate step to show the congruence of a switched CX gate"
   ]
  },
  {
   "cell_type": "code",
   "execution_count": null,
   "metadata": {},
   "outputs": [],
   "source": [
    "Circuit(ExprArray(ExprTuple(Input(ket0), Gate(H), MultiQubitGate(Z, Set(one, two)), Gate(H), Output(ket0)), \n",
    "        ExprTuple(Input(ket0), Gate(H), MultiQubitGate(CONTROL, Set(one, two)), Gate(H), Output(ket0)),\n",
    "        ExprTuple(Input(ket0), Gate(H), MultiQubitGate(Z, Set(three, four)), Gate(H), Output(ket1)), \n",
    "        ExprTuple(Input(ket1), Gate(H), MultiQubitGate(CONTROL, Set(three, four)), Gate(H), Output(ket1)),\n",
    "        ExprTuple(Input(ket1), Gate(H), MultiQubitGate(Z, Set(five, six)), Gate(H), Output(ket1)), \n",
    "        ExprTuple(Input(ket0), Gate(H), MultiQubitGate(CONTROL, Set(five, six)), Gate(H), Output(ket0)),\n",
    "        ExprTuple(Input(ket1), Gate(H), MultiQubitGate(Z, Set(seven, eight)), Gate(H), Output(ket0)), \n",
    "        ExprTuple(Input(ket1), Gate(H), MultiQubitGate(CONTROL, Set(seven, eight)), Gate(H), Output(ket1))))\n",
    "# using cell 24 we can show that this is equivalent to cell 26"
   ]
  },
  {
   "cell_type": "code",
   "execution_count": null,
   "metadata": {},
   "outputs": [],
   "source": [
    "Circuit(ExprArray(ExprTuple(Input(ket0), Gate(H), MultiQubitGate(CONTROL, Set(one, two)), Gate(H), Output(ket0)), \n",
    "        ExprTuple(Input(ket0), Gate(IdentityOp()), MultiQubitGate(X, Set(one, two)), Gate(IdentityOp()), Output(ket0)),\n",
    "        ExprTuple(Input(ket0), Gate(H), MultiQubitGate(CONTROL, Set(three, four)), Gate(H), Output(ket0)), \n",
    "        ExprTuple(Input(ket1), Gate(IdentityOp()), MultiQubitGate(X, Set(three, four)), Gate(IdentityOp()), Output(ket1)),\n",
    "        ExprTuple(Input(ket1), Gate(H), MultiQubitGate(CONTROL, Set(five, six)), Gate(H), Output(ket1)), \n",
    "        ExprTuple(Input(ket0), Gate(IdentityOp()), MultiQubitGate(X, Set(five, six)), Gate(IdentityOp()), Output(ket1)),\n",
    "        ExprTuple(Input(ket1), Gate(H), MultiQubitGate(CONTROL, Set(seven, eight)), Gate(H), Output(ket1)), \n",
    "        ExprTuple(Input(ket1), Gate(IdentityOp()), MultiQubitGate(X, Set(seven, eight)), Gate(IdentityOp()), Output(ket0))))\n",
    "# using cell 26, we apply instantiation to return to the X gates"
   ]
  },
  {
   "cell_type": "code",
   "execution_count": null,
   "metadata": {},
   "outputs": [],
   "source": [
    "Circuit(ExprArray(ExprTuple(Input(ket0), Gate(IdentityOp()), MultiQubitGate(X, Set(one, two)), Gate(IdentityOp()), Output(ket0)), \n",
    "        ExprTuple(Input(ket0), Gate(H), MultiQubitGate(CONTROL, Set(one, two)), Gate(H), Output(ket0)),\n",
    "        ExprTuple(Input(ket0), Gate(IdentityOp()), MultiQubitGate(X, Set(three, four)), Gate(IdentityOp()), Output(ket1)), \n",
    "        ExprTuple(Input(ket1), Gate(H), MultiQubitGate(CONTROL, Set(three, four)), Gate(H), Output(ket1)),\n",
    "        ExprTuple(Input(ket1), Gate(IdentityOp()), MultiQubitGate(X, Set(five, six)), Gate(IdentityOp()), Output(ket1)), \n",
    "        ExprTuple(Input(ket0), Gate(H), MultiQubitGate(CONTROL, Set(five, six)), Gate(H), Output(ket0)),\n",
    "        ExprTuple(Input(ket1), Gate(IdentityOp()), MultiQubitGate(X, Set(seven, eight)), Gate(IdentityOp()), Output(ket0)), \n",
    "        ExprTuple(Input(ket1), Gate(H), MultiQubitGate(CONTROL, Set(seven, eight)), Gate(H), Output(ket1))))\n",
    "# using cell 27 we can show that cell 28 is congruent to this cell "
   ]
  },
  {
   "cell_type": "code",
   "execution_count": null,
   "metadata": {},
   "outputs": [],
   "source": [
    "try:\n",
    "    Circuit(ExprArray(ExprRange(i, ExprTuple(ExprRange(j, Aij, one, m)), one, q),\n",
    "         ExprTuple(ExprRange(j, Bij, one, m)),\n",
    "         ExprRange(i, ExprTuple(ExprRange(j, Cij, one, m)), one, s))).latex()\n",
    "    assert False, \"Expected a TypeError error.\"\n",
    "except TypeError as e:\n",
    "    print(\"Expected error:\", e)"
   ]
  },
  {
   "cell_type": "code",
   "execution_count": null,
   "metadata": {},
   "outputs": [],
   "source": [
    "%end demonstrations"
   ]
  },
  {
   "cell_type": "code",
   "execution_count": null,
   "metadata": {},
   "outputs": [],
   "source": []
  }
 ],
 "metadata": {
  "kernelspec": {
   "display_name": "Python 3",
   "language": "python",
   "name": "python3"
  }
 },
 "nbformat": 4,
 "nbformat_minor": 0
}
