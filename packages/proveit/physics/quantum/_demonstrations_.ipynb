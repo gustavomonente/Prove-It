{
 "cells": [
  {
   "cell_type": "markdown",
   "metadata": {},
   "source": [
    "Demonstrations for context <a class=\"ProveItLink\" href=\"_context_.ipynb\">proveit.physics.quantum</a>\n",
    "========"
   ]
  },
  {
   "cell_type": "code",
   "execution_count": 1,
   "metadata": {},
   "outputs": [],
   "source": [
    "import proveit\n",
    "proveit.defaults.automation = False # prevents proveit from calling automations that are currently broken\n",
    "from proveit import ExprArray, ExprTuple, ExprRange, indexed_var, varRange\n",
    "from proveit._common_ import A, B, C, D, E, F, G, K, M, Q, R, S, U, a, b, g, h, i, j, k, m, n, p, q, r, s, t, u, x, y \n",
    "from proveit.core_expr_types.expr_array._common_ import Aij, Bij, Cij, Dij, Eij, Qij, Rij, Sij\n",
    "from proveit.logic import Equals, Implies, InSet, Forall\n",
    "from proveit.logic.set_theory import Set\n",
    "from proveit.number import Add, Neg, zero, one, two, three, four, five, six, seven, eight, nine, NaturalsPos\n",
    "from proveit.number.numeral.deci._theorems_ import posnat1, posnat4\n",
    "from proveit.physics.quantum.circuit import Gate, Target, Circuit, Input, Output, MultiQubitGate, IdentityOp, CircuitEquiv\n",
    "from proveit.physics.quantum._common_ import H, X, Z, I, ket1, ket0, ketPlus, ketMinus, SPACE, CONTROL, CLASSICAL_CONTROL\n",
    "#from proveit.physics.quantum._axioms_ import substitution\n",
    "#from proveit.physics.quantum._theorems_ import single_time_equiv\n",
    "%begin demonstrations"
   ]
  },
  {
   "cell_type": "code",
   "execution_count": 2,
   "metadata": {},
   "outputs": [
    {
     "name": "stdout",
     "output_type": "stream",
     "text": [
      "<class 'proveit._core_.expression.composite.expr_array.ExprArray'>\n"
     ]
    },
    {
     "data": {
      "text/plain": [
       "proveit._core_.expression.composite.expr_tuple.ExprTuple"
      ]
     },
     "execution_count": 2,
     "metadata": {},
     "output_type": "execute_result"
    }
   ],
   "source": [
    "Circuit(ExprArray(ExprTuple(one), ExprTuple(one))).operands.__class__"
   ]
  },
  {
   "cell_type": "code",
   "execution_count": 3,
   "metadata": {},
   "outputs": [
    {
     "name": "stdout",
     "output_type": "stream",
     "text": [
      "<class 'proveit._core_.expression.composite.expr_array.ExprArray'>\n"
     ]
    },
    {
     "data": {
      "text/html": [
       "<a class=\"ProveItLink\" href=\"__pv_it/cc7d012a4771a86073de87b962f6942cd3a3ca7d0/expr.ipynb\"><img src=\"data:image/png;base64,iVBORw0KGgoAAAANSUhEUgAAAGgAAACMBAMAAABi5/EGAAAAMFBMVEX///92dnaqqqoiIiLu7u5m\n",
       "Zma6urqIiIjc3NwQEBDMzMwyMjJUVFRERESYmJgAAAAeMT9/AAAAAXRSTlMAQObYZgAAAAlwSFlz\n",
       "AAAOxAAADsQBlSsOGwAAAmNJREFUWMPtmM9LG0EUx7/FmKypugFvxcOC9NCTtseeclERLMaDeGgP\n",
       "/gEFF3qQgj/Sv8Dc20puPRpKLx60AZGCBpKzCPVSD/ZgkJIWqa6TZLL7zMw6k6WCKfNgh8xjPvs2\n",
       "u/t2lw9Aw/bUgfawoQzbQB1AEwudQ4nPaS1o8Ptl6eCQZ0YbzOPZ1ImiUl8FKOebmaH6MODiRVUB\n",
       "rbvAYoZAc6x8QQGdsSpnLoEugLirgMps28oGUPwKSGYV0Edg+jkCyPIeKc9e8nJpeaeVeVkf1ry/\n",
       "WQWU+AM8OUbsZ73IVT1jrXi55pwvETtsIAc8uMCnN6zoLr8femuNeXglu8jO8G9ghP0e/8IGB4id\n",
       "N+eh0OYx0F/ji47YxnZi/VJAa+xPbxb4Inb24mPs8FIKaIute58OoN6nwDBuhw68UmnbAYHieyVH\n",
       "Afkx4t9GZH4X0Luv82x82zbX6twpJ8IzwnrlmIelLhTlpSZGFRHCQAbqFsjupBuEdrMNZCADdRc0\n",
       "U4gA9WT+3eFpvJLNderWi2sgc53+FyjKt5H5sjTQvYY87YhyJLaBdKF246sDCcZXBt3QvZAYX2kl\n",
       "qnshMb5SiOpeSIyvFKK6FxLjK4Wo7oXE+EohqnshMb4y6IbuhcT4yiCue1tBjC+FgtZqQFz38qDG\n",
       "95ZKLd3LgxrfcIjr3h+nS8XVfVDj66dEiOvekw18wDKo8fVTItTUvdbkGGqYBTG+QUqAWrq3303m\n",
       "8AzU+Pqp0NboyycqVjVP5a2fCoXW2Y4HKykK+alQ6DUeZq1vaWp8/ZS6cwXjqwMJxtc8YeWQ/kvt\n",
       "GmNDyqXSmjNFAAAAAElFTkSuQmCC\n",
       "\" style=\"display:inline;vertical-align:middle;\" /></a>"
      ],
      "text/plain": [
       " B_{1} MULTI_QUBIT_GATE S_{1}   \\\\ \n",
       "   \\colon   \\\\ \n",
       "   B_{i} MULTI_QUBIT_GATE S_{i}   \\\\ \n",
       "   \\colon   \\\\ \n",
       "   B_{m} MULTI_QUBIT_GATE S_{m}"
      ]
     },
     "execution_count": 3,
     "metadata": {},
     "output_type": "execute_result"
    }
   ],
   "source": [
    "Circuit(ExprArray(ExprRange(i, ExprTuple(MultiQubitGate(indexed_var(B, i), indexed_var(S, i))), one, m)))"
   ]
  },
  {
   "cell_type": "code",
   "execution_count": 4,
   "metadata": {},
   "outputs": [
    {
     "name": "stdout",
     "output_type": "stream",
     "text": [
      "<class 'proveit._core_.expression.composite.expr_array.ExprArray'>\n"
     ]
    },
    {
     "data": {
      "text/html": [
       "<strong id=\"DArray\">DArray:</strong> <a class=\"ProveItLink\" href=\"__pv_it/44826aaa9336e116e5b9cb2c7dea61f464bccd040/expr.ipynb\"><img src=\"data:image/png;base64,iVBORw0KGgoAAAANSUhEUgAAAGoAAACMBAMAAABmEiE7AAAAMFBMVEX///8iIiLu7u52dna6uroQ\n",
       "EBBmZmbMzMyqqqqYmJjc3NwyMjJUVFRERESIiIgAAABmmfmVAAAAAXRSTlMAQObYZgAAAAlwSFlz\n",
       "AAAOxAAADsQBlSsOGwAAAqpJREFUWMPtmD9oE1EYwD/jNeGu6V1BEMcO1kWUOLk4xMFNMJsICkJR\n",
       "8A+SxbVeF1czFB1UGnQVEpxEhZyLgqY1k4uVpoKD0JigERuaen7vPHLf3b3euzt0SHkP8oX35f36\n",
       "vbyXd3f9AdBm2OLWg2AzQNwklZw6WExB6c9m4lEde3X5ZdVN3XGg23OFRVGtLQB1000dY2GqDUd6\n",
       "Air3G8MlSl3GP1MXUPovDGcqhMKE0hZQU+yDWsGjlAFOoCqgjBarZXmUZh8Xr+EtNpmuW+saC117\n",
       "WBVR3TKG98XMfVZmwDJaxy6B03cp/5Fz8mss/IT5dfw2r9xfRrbv9CNqbeNLxRoL+H7oKQYTILP5\n",
       "t78j5WzXbMsdtYovXBjtu4Bi25V5Ae4oXENlGmdYEFCTmD95kVDZfQAnIJrKN4bNT1eBUsrrpimg\n",
       "vLYw+kWR/v+hHjduYPwS6Mc7y7NmmuuGdt2UV9FEVKq7HqSqLilJ7RYq0eEInz9JSUpS405ltlLV\n",
       "2v8vZxjnvi33a9x3WVJyv3Ylle45Sj6LSmpsqDj/YlPZlXQyhqSSUUG3HIsKuWUepa9tNz++JdmQ\n",
       "W+bWMuoAS6aXDbllLsUEbLYUoKhb5lJMwCqDAEXdMpdiAlb74ad8bplLMQGrDP2Uzy3zKEfA6qRW\n",
       "yC1zV5758nx/lCRumY4MnDXHlxujIdQtR9RyfPlSZZSkbnlnim1X5gKoV+Y39AfMgntu+e69b9bX\n",
       "N1yKbdfhOqinKhOWbgF1y4vn4DxscKkGDsLnmUfrYBSZhfbcsnZ0Gvowx6Pe2c3lD2yRV+Am7DGB\n",
       "uuV8O1eCA5En5Sx0oJYDaoknynpL65UjKK2H1R7u9VE1rKa2ChGUYsFzePIZqFs+DZNVbWUm1lkO\n",
       "ueVYVMgty2tvFBX/rvcH0MgNbl5zuqwAAAAASUVORK5CYII=\n",
       "\" style=\"display:inline;vertical-align:middle;\" /></a><br>"
      ],
      "text/plain": [
       "DArray:  D_{1} MULTI_QUBIT_GATE S_{1}   \\\\ \n",
       "   \\colon   \\\\ \n",
       "   D_{i} MULTI_QUBIT_GATE S_{i}   \\\\ \n",
       "   \\colon   \\\\ \n",
       "   D_{m} MULTI_QUBIT_GATE S_{m}"
      ]
     },
     "execution_count": 4,
     "metadata": {},
     "output_type": "execute_result"
    }
   ],
   "source": [
    "DArray = Circuit(ExprArray(ExprRange(i, ExprTuple(MultiQubitGate(indexed_var(D, i), indexed_var(S, i))), one, m)))"
   ]
  },
  {
   "cell_type": "code",
   "execution_count": 5,
   "metadata": {},
   "outputs": [
    {
     "data": {
      "text/plain": [
       "proveit._core_.expression.composite.expr_range.ExprRange"
      ]
     },
     "execution_count": 5,
     "metadata": {},
     "output_type": "execute_result"
    }
   ],
   "source": [
    "list(DArray._extractInitArgs(DArray.operator, DArray.array))[0].__class__"
   ]
  },
  {
   "cell_type": "code",
   "execution_count": 6,
   "metadata": {},
   "outputs": [
    {
     "data": {
      "text/plain": [
       "proveit._core_.expression.composite.expr_array.ExprArray"
      ]
     },
     "execution_count": 6,
     "metadata": {},
     "output_type": "execute_result"
    }
   ],
   "source": [
    "DArray.array.__class__"
   ]
  },
  {
   "cell_type": "code",
   "execution_count": 12,
   "metadata": {},
   "outputs": [
    {
     "data": {
      "text/plain": [
       "proveit._core_.expression.composite.expr_tuple.ExprTuple"
      ]
     },
     "execution_count": 12,
     "metadata": {},
     "output_type": "execute_result"
    }
   ],
   "source": [
    "DArray.array.replaced({}).__class__"
   ]
  },
  {
   "cell_type": "code",
   "execution_count": 14,
   "metadata": {},
   "outputs": [
    {
     "data": {
      "text/plain": [
       "proveit._core_.expression.composite.expr_tuple.ExprTuple"
      ]
     },
     "execution_count": 14,
     "metadata": {},
     "output_type": "execute_result"
    }
   ],
   "source": [
    "DArray.array._make(DArray.array._coreInfo, {}, DArray.array._subExpressions).__class__"
   ]
  },
  {
   "cell_type": "code",
   "execution_count": null,
   "metadata": {},
   "outputs": [],
   "source": []
  },
  {
   "cell_type": "code",
   "execution_count": 7,
   "metadata": {},
   "outputs": [
    {
     "data": {
      "text/html": [
       "<a class=\"ProveItLink\" href=\"__pv_it/1c0c014bbcc37a3d4effb0b758a38ffad39dde7c0/expr.ipynb\"><img src=\"data:image/png;base64,iVBORw0KGgoAAAANSUhEUgAAAEQAAABVBAMAAAACt1+/AAAAMFBMVEX///92dnaqqqoiIiLu7u5m\n",
       "Zma6urqIiIjc3NwQEBDMzMwyMjJUVFRERESYmJgAAAAeMT9/AAAAAXRSTlMAQObYZgAAAAlwSFlz\n",
       "AAAOxAAADsQBlSsOGwAAAdRJREFUSMftlj9Lw0AYxp/W1LS1pjo76OAHcNHZT6AVcVI0ICgFwYKC\n",
       "g4oOiotQcRJByaaCoIODixh0UGhBcSmCYHctKljqP6zX9C68VxuC4iLkgVzuffIkl3uT4Qd8kzIC\n",
       "N023VnNzxZv0kVGe+5+tsa9R06XMBhB5K099baUxA+VWSgQLQG2eRAIx4E6KaOwJWoFEomzVUSkS\n",
       "eQTq1khkPAtsS5HQJZRTg0SST0bFjvYyU6ksnwf22aAWi+dyZG4e/k2gq3Q1aWWXbl95zXXNjmYj\n",
       "PMXW2O3g3pBu1UIf7HhIwM8spb+TNY7V3S1WzRX+ZMOFXrbqTbbD0oKdNKK+sNg7ylZpR8Ps3AMa\n",
       "qVsB4gck0tsAn0kjkeOPdOoKJBIbGziB9BQhO0Lrn0aCTfkEe/cVua4iZdX1v8TiCTx5cpfy7p5p\n",
       "99rktc7ry7/7Dr/iFwovTvxC4MWBXyi8OPALhRcHfqHw4sAvFF4c+IXCiwO/cHgRIvxSAS+iIvzy\n",
       "DV5E+wm/VMCLNrg1o94blF9si8OLFs+GTNWk/GJbHF4WJhDVAw2UX4Rlw8sZdlDTIvGLsITWMYtk\n",
       "WIITYYmP+chuyvloxLa4ak0cYnmS8ott/QW/fAGoxK3Dmm3XIwAAAABJRU5ErkJggg==\n",
       "\" style=\"display:inline;vertical-align:middle;\" /></a>"
      ],
      "text/plain": [
       "B_{1} MULTI_QUBIT_GATE S_{1}  \\\\ \n",
       "  \\colon  \\\\ \n",
       "  B_{i} MULTI_QUBIT_GATE S_{i}  \\\\ \n",
       "  \\colon  \\\\ \n",
       "  B_{m} MULTI_QUBIT_GATE S_{m}"
      ]
     },
     "execution_count": 7,
     "metadata": {},
     "output_type": "execute_result"
    }
   ],
   "source": [
    "ExprArray(ExprRange(i, ExprTuple(MultiQubitGate(indexed_var(B, i), indexed_var(S, i))), one, m))"
   ]
  },
  {
   "cell_type": "code",
   "execution_count": 8,
   "metadata": {},
   "outputs": [
    {
     "name": "stdout",
     "output_type": "stream",
     "text": [
      "<class 'proveit._core_.expression.composite.expr_array.ExprArray'>\n",
      "<class 'proveit._core_.expression.composite.expr_array.ExprArray'>\n",
      "<class 'proveit._core_.expression.composite.expr_tuple.ExprTuple'>\n"
     ]
    },
    {
     "ename": "ValueError",
     "evalue": "Expected contents of a Circuit expression to be an ExprArray object not <class 'proveit._core_.expression.composite.expr_tuple.ExprTuple'>",
     "output_type": "error",
     "traceback": [
      "\u001b[1;31m---------------------------------------------------------------------------\u001b[0m",
      "\u001b[1;31mValueError\u001b[0m                                Traceback (most recent call last)",
      "\u001b[1;32m<ipython-input-8-1318ee040913>\u001b[0m in \u001b[0;36m<module>\u001b[1;34m\u001b[0m\n\u001b[0;32m      6\u001b[0m             CircuitEquiv(\n\u001b[0;32m      7\u001b[0m                         \u001b[0mCircuit\u001b[0m\u001b[1;33m(\u001b[0m\u001b[0mExprArray\u001b[0m\u001b[1;33m(\u001b[0m\u001b[0mExprRange\u001b[0m\u001b[1;33m(\u001b[0m\u001b[0mi\u001b[0m\u001b[1;33m,\u001b[0m \u001b[0mExprTuple\u001b[0m\u001b[1;33m(\u001b[0m\u001b[0mMultiQubitGate\u001b[0m\u001b[1;33m(\u001b[0m\u001b[0mindexed_var\u001b[0m\u001b[1;33m(\u001b[0m\u001b[0mB\u001b[0m\u001b[1;33m,\u001b[0m \u001b[0mi\u001b[0m\u001b[1;33m)\u001b[0m\u001b[1;33m,\u001b[0m \u001b[0mindexed_var\u001b[0m\u001b[1;33m(\u001b[0m\u001b[0mS\u001b[0m\u001b[1;33m,\u001b[0m \u001b[0mi\u001b[0m\u001b[1;33m)\u001b[0m\u001b[1;33m)\u001b[0m\u001b[1;33m)\u001b[0m\u001b[1;33m,\u001b[0m \u001b[0mone\u001b[0m\u001b[1;33m,\u001b[0m \u001b[0mm\u001b[0m\u001b[1;33m)\u001b[0m\u001b[1;33m)\u001b[0m\u001b[1;33m)\u001b[0m\u001b[1;33m,\u001b[0m\u001b[1;33m\u001b[0m\u001b[1;33m\u001b[0m\u001b[0m\n\u001b[1;32m----> 8\u001b[1;33m                         \u001b[0mCircuit\u001b[0m\u001b[1;33m(\u001b[0m\u001b[0mExprArray\u001b[0m\u001b[1;33m(\u001b[0m\u001b[0mExprRange\u001b[0m\u001b[1;33m(\u001b[0m\u001b[0mi\u001b[0m\u001b[1;33m,\u001b[0m \u001b[0mExprTuple\u001b[0m\u001b[1;33m(\u001b[0m\u001b[0mMultiQubitGate\u001b[0m\u001b[1;33m(\u001b[0m\u001b[0mindexed_var\u001b[0m\u001b[1;33m(\u001b[0m\u001b[0mD\u001b[0m\u001b[1;33m,\u001b[0m \u001b[0mi\u001b[0m\u001b[1;33m)\u001b[0m\u001b[1;33m,\u001b[0m \u001b[0mindexed_var\u001b[0m\u001b[1;33m(\u001b[0m\u001b[0mS\u001b[0m\u001b[1;33m,\u001b[0m \u001b[0mi\u001b[0m\u001b[1;33m)\u001b[0m\u001b[1;33m)\u001b[0m\u001b[1;33m)\u001b[0m\u001b[1;33m,\u001b[0m \u001b[0mone\u001b[0m\u001b[1;33m,\u001b[0m \u001b[0mm\u001b[0m\u001b[1;33m)\u001b[0m\u001b[1;33m)\u001b[0m\u001b[1;33m)\u001b[0m\u001b[1;33m\u001b[0m\u001b[1;33m\u001b[0m\u001b[0m\n\u001b[0m\u001b[0;32m      9\u001b[0m             )\n\u001b[0;32m     10\u001b[0m     ), domain=NaturalsPos)\n",
      "\u001b[1;32mc:\\users\\joaqu\\prove-it\\packages\\proveit\\logic\\boolean\\quantification\\universal\\forall.py\u001b[0m in \u001b[0;36m__init__\u001b[1;34m(self, instanceParamOrParams, instanceExpr, domain, domains, condition, conditions, _lambda_map)\u001b[0m\n\u001b[0;32m     26\u001b[0m                 \u001b[0mcondition\u001b[0m\u001b[1;33m=\u001b[0m\u001b[0mcondition\u001b[0m\u001b[1;33m,\u001b[0m \u001b[0mconditions\u001b[0m\u001b[1;33m=\u001b[0m\u001b[0mconditions\u001b[0m\u001b[1;33m,\u001b[0m\u001b[1;33m\u001b[0m\u001b[1;33m\u001b[0m\u001b[0m\n\u001b[0;32m     27\u001b[0m                 \u001b[1;31m#nestMultiIvars=True, _lambda_map=_lambda_map)\u001b[0m\u001b[1;33m\u001b[0m\u001b[1;33m\u001b[0m\u001b[1;33m\u001b[0m\u001b[0m\n\u001b[1;32m---> 28\u001b[1;33m                 nestMultiIvars=False, _lambda_map=_lambda_map)\n\u001b[0m\u001b[0;32m     29\u001b[0m \u001b[1;33m\u001b[0m\u001b[0m\n\u001b[0;32m     30\u001b[0m     \u001b[1;32mdef\u001b[0m \u001b[0msideEffects\u001b[0m\u001b[1;33m(\u001b[0m\u001b[0mself\u001b[0m\u001b[1;33m,\u001b[0m \u001b[0mknownTruth\u001b[0m\u001b[1;33m)\u001b[0m\u001b[1;33m:\u001b[0m\u001b[1;33m\u001b[0m\u001b[1;33m\u001b[0m\u001b[0m\n",
      "\u001b[1;32mc:\\users\\joaqu\\prove-it\\packages\\proveit\\_core_\\expression\\operation\\operation_over_instances.py\u001b[0m in \u001b[0;36m__init__\u001b[1;34m(self, operator, instanceParamOrParams, instanceExpr, domain, domains, condition, conditions, nestMultiIvars, styles, _lambda_map)\u001b[0m\n\u001b[0;32m    264\u001b[0m             lambda_map = OperationOverInstances._createOperand(instanceParamOrParams, \n\u001b[0;32m    265\u001b[0m                                                                \u001b[0minstanceExpr\u001b[0m\u001b[1;33m,\u001b[0m\u001b[1;33m\u001b[0m\u001b[1;33m\u001b[0m\u001b[0m\n\u001b[1;32m--> 266\u001b[1;33m                                                                conditions)\n\u001b[0m\u001b[0;32m    267\u001b[0m \u001b[1;33m\u001b[0m\u001b[0m\n\u001b[0;32m    268\u001b[0m         \u001b[0mself\u001b[0m\u001b[1;33m.\u001b[0m\u001b[0minstanceExpr\u001b[0m \u001b[1;33m=\u001b[0m \u001b[0minstanceExpr\u001b[0m\u001b[1;33m\u001b[0m\u001b[1;33m\u001b[0m\u001b[0m\n",
      "\u001b[1;32mc:\\users\\joaqu\\prove-it\\packages\\proveit\\_core_\\expression\\operation\\operation_over_instances.py\u001b[0m in \u001b[0;36m_createOperand\u001b[1;34m(instanceParamOrParams, instanceExpr, conditions)\u001b[0m\n\u001b[0;32m    308\u001b[0m     \u001b[1;32mdef\u001b[0m \u001b[0m_createOperand\u001b[0m\u001b[1;33m(\u001b[0m\u001b[0minstanceParamOrParams\u001b[0m\u001b[1;33m,\u001b[0m \u001b[0minstanceExpr\u001b[0m\u001b[1;33m,\u001b[0m \u001b[0mconditions\u001b[0m\u001b[1;33m)\u001b[0m\u001b[1;33m:\u001b[0m\u001b[1;33m\u001b[0m\u001b[1;33m\u001b[0m\u001b[0m\n\u001b[0;32m    309\u001b[0m         \u001b[1;32mif\u001b[0m \u001b[0mlen\u001b[0m\u001b[1;33m(\u001b[0m\u001b[0mconditions\u001b[0m\u001b[1;33m)\u001b[0m \u001b[1;33m==\u001b[0m \u001b[1;36m0\u001b[0m\u001b[1;33m:\u001b[0m\u001b[1;33m\u001b[0m\u001b[1;33m\u001b[0m\u001b[0m\n\u001b[1;32m--> 310\u001b[1;33m             \u001b[1;32mreturn\u001b[0m \u001b[0mLambda\u001b[0m\u001b[1;33m(\u001b[0m\u001b[0minstanceParamOrParams\u001b[0m\u001b[1;33m,\u001b[0m \u001b[0minstanceExpr\u001b[0m\u001b[1;33m)\u001b[0m\u001b[1;33m\u001b[0m\u001b[1;33m\u001b[0m\u001b[0m\n\u001b[0m\u001b[0;32m    311\u001b[0m         \u001b[1;32melse\u001b[0m\u001b[1;33m:\u001b[0m\u001b[1;33m\u001b[0m\u001b[1;33m\u001b[0m\u001b[0m\n\u001b[0;32m    312\u001b[0m             \u001b[0mconditional\u001b[0m \u001b[1;33m=\u001b[0m  \u001b[0mConditional\u001b[0m\u001b[1;33m(\u001b[0m\u001b[0minstanceExpr\u001b[0m\u001b[1;33m,\u001b[0m \u001b[0mconditions\u001b[0m\u001b[1;33m)\u001b[0m\u001b[1;33m\u001b[0m\u001b[1;33m\u001b[0m\u001b[0m\n",
      "\u001b[1;32mc:\\users\\joaqu\\prove-it\\packages\\proveit\\_core_\\expression\\lambda_expr\\lambda_expr.py\u001b[0m in \u001b[0;36m__init__\u001b[1;34m(self, parameter_or_parameters, body, _generic_expr)\u001b[0m\n\u001b[0;32m    171\u001b[0m             \u001b[1;32mtry\u001b[0m\u001b[1;33m:\u001b[0m\u001b[1;33m\u001b[0m\u001b[1;33m\u001b[0m\u001b[0m\n\u001b[0;32m    172\u001b[0m                 \u001b[0mdefaults\u001b[0m\u001b[1;33m.\u001b[0m\u001b[0mautomation\u001b[0m \u001b[1;33m=\u001b[0m \u001b[1;32mFalse\u001b[0m\u001b[1;33m\u001b[0m\u001b[1;33m\u001b[0m\u001b[0m\n\u001b[1;32m--> 173\u001b[1;33m                 \u001b[0mgenericExpr\u001b[0m \u001b[1;33m=\u001b[0m \u001b[0mself\u001b[0m\u001b[1;33m.\u001b[0m\u001b[0m_generic_version\u001b[0m\u001b[1;33m(\u001b[0m\u001b[1;33m)\u001b[0m\u001b[1;33m\u001b[0m\u001b[1;33m\u001b[0m\u001b[0m\n\u001b[0m\u001b[0;32m    174\u001b[0m             \u001b[1;32mfinally\u001b[0m\u001b[1;33m:\u001b[0m\u001b[1;33m\u001b[0m\u001b[1;33m\u001b[0m\u001b[0m\n\u001b[0;32m    175\u001b[0m                 \u001b[0mdefaults\u001b[0m\u001b[1;33m.\u001b[0m\u001b[0mautomation\u001b[0m \u001b[1;33m=\u001b[0m \u001b[0mprev_automation\u001b[0m\u001b[1;33m\u001b[0m\u001b[1;33m\u001b[0m\u001b[0m\n",
      "\u001b[1;32mc:\\users\\joaqu\\prove-it\\packages\\proveit\\_core_\\expression\\lambda_expr\\lambda_expr.py\u001b[0m in \u001b[0;36m_generic_version\u001b[1;34m(self)\u001b[0m\n\u001b[0;32m    266\u001b[0m                 generic_parameters = generic_parameters.replaced(\n\u001b[0;32m    267\u001b[0m                         relabel_map, assumptions=tuple())\n\u001b[1;32m--> 268\u001b[1;33m                 \u001b[0mgeneric_body\u001b[0m \u001b[1;33m=\u001b[0m \u001b[0mself\u001b[0m\u001b[1;33m.\u001b[0m\u001b[0mbody\u001b[0m\u001b[1;33m.\u001b[0m\u001b[0m_generic_version\u001b[0m\u001b[1;33m(\u001b[0m\u001b[1;33m)\u001b[0m\u001b[1;33m\u001b[0m\u001b[1;33m\u001b[0m\u001b[0m\n\u001b[0m\u001b[0;32m    269\u001b[0m                 generic_body = generic_body.replaced(\n\u001b[0;32m    270\u001b[0m                         relabel_map, assumptions=tuple())\n",
      "\u001b[1;32mc:\\users\\joaqu\\prove-it\\packages\\proveit\\_core_\\expression\\expr.py\u001b[0m in \u001b[0;36m_generic_version\u001b[1;34m(self)\u001b[0m\n\u001b[0;32m    178\u001b[0m         \u001b[1;31m# Get the generic versions of the sub-expressions.\u001b[0m\u001b[1;33m\u001b[0m\u001b[1;33m\u001b[0m\u001b[1;33m\u001b[0m\u001b[0m\n\u001b[0;32m    179\u001b[0m         generic_sub_expressions = tuple(sub_expr._generic_version() \n\u001b[1;32m--> 180\u001b[1;33m                                         for sub_expr in self._subExpressions)\n\u001b[0m\u001b[0;32m    181\u001b[0m         \u001b[1;31m# Get the styles of the sub expressions.\u001b[0m\u001b[1;33m\u001b[0m\u001b[1;33m\u001b[0m\u001b[1;33m\u001b[0m\u001b[0m\n\u001b[0;32m    182\u001b[0m         sub_expression_styles = tuple(sub_expr._styleData \n",
      "\u001b[1;32mc:\\users\\joaqu\\prove-it\\packages\\proveit\\_core_\\expression\\expr.py\u001b[0m in \u001b[0;36m<genexpr>\u001b[1;34m(.0)\u001b[0m\n\u001b[0;32m    178\u001b[0m         \u001b[1;31m# Get the generic versions of the sub-expressions.\u001b[0m\u001b[1;33m\u001b[0m\u001b[1;33m\u001b[0m\u001b[1;33m\u001b[0m\u001b[0m\n\u001b[0;32m    179\u001b[0m         generic_sub_expressions = tuple(sub_expr._generic_version() \n\u001b[1;32m--> 180\u001b[1;33m                                         for sub_expr in self._subExpressions)\n\u001b[0m\u001b[0;32m    181\u001b[0m         \u001b[1;31m# Get the styles of the sub expressions.\u001b[0m\u001b[1;33m\u001b[0m\u001b[1;33m\u001b[0m\u001b[1;33m\u001b[0m\u001b[0m\n\u001b[0;32m    182\u001b[0m         sub_expression_styles = tuple(sub_expr._styleData \n",
      "\u001b[1;32mc:\\users\\joaqu\\prove-it\\packages\\proveit\\_core_\\expression\\expr.py\u001b[0m in \u001b[0;36m_generic_version\u001b[1;34m(self)\u001b[0m\n\u001b[0;32m    178\u001b[0m         \u001b[1;31m# Get the generic versions of the sub-expressions.\u001b[0m\u001b[1;33m\u001b[0m\u001b[1;33m\u001b[0m\u001b[1;33m\u001b[0m\u001b[0m\n\u001b[0;32m    179\u001b[0m         generic_sub_expressions = tuple(sub_expr._generic_version() \n\u001b[1;32m--> 180\u001b[1;33m                                         for sub_expr in self._subExpressions)\n\u001b[0m\u001b[0;32m    181\u001b[0m         \u001b[1;31m# Get the styles of the sub expressions.\u001b[0m\u001b[1;33m\u001b[0m\u001b[1;33m\u001b[0m\u001b[1;33m\u001b[0m\u001b[0m\n\u001b[0;32m    182\u001b[0m         sub_expression_styles = tuple(sub_expr._styleData \n",
      "\u001b[1;32mc:\\users\\joaqu\\prove-it\\packages\\proveit\\_core_\\expression\\expr.py\u001b[0m in \u001b[0;36m<genexpr>\u001b[1;34m(.0)\u001b[0m\n\u001b[0;32m    178\u001b[0m         \u001b[1;31m# Get the generic versions of the sub-expressions.\u001b[0m\u001b[1;33m\u001b[0m\u001b[1;33m\u001b[0m\u001b[1;33m\u001b[0m\u001b[0m\n\u001b[0;32m    179\u001b[0m         generic_sub_expressions = tuple(sub_expr._generic_version() \n\u001b[1;32m--> 180\u001b[1;33m                                         for sub_expr in self._subExpressions)\n\u001b[0m\u001b[0;32m    181\u001b[0m         \u001b[1;31m# Get the styles of the sub expressions.\u001b[0m\u001b[1;33m\u001b[0m\u001b[1;33m\u001b[0m\u001b[1;33m\u001b[0m\u001b[0m\n\u001b[0;32m    182\u001b[0m         sub_expression_styles = tuple(sub_expr._styleData \n",
      "\u001b[1;32mc:\\users\\joaqu\\prove-it\\packages\\proveit\\_core_\\expression\\expr.py\u001b[0m in \u001b[0;36m_generic_version\u001b[1;34m(self)\u001b[0m\n\u001b[0;32m    196\u001b[0m         self._genericExpr = self.__class__._checked_make(\n\u001b[0;32m    197\u001b[0m                 \u001b[0mself\u001b[0m\u001b[1;33m.\u001b[0m\u001b[0m_meaningData\u001b[0m\u001b[1;33m.\u001b[0m\u001b[0m_coreInfo\u001b[0m\u001b[1;33m,\u001b[0m \u001b[0mdict\u001b[0m\u001b[1;33m(\u001b[0m\u001b[0mself\u001b[0m\u001b[1;33m.\u001b[0m\u001b[0m_styleData\u001b[0m\u001b[1;33m.\u001b[0m\u001b[0mstyles\u001b[0m\u001b[1;33m)\u001b[0m\u001b[1;33m,\u001b[0m\u001b[1;33m\u001b[0m\u001b[1;33m\u001b[0m\u001b[0m\n\u001b[1;32m--> 198\u001b[1;33m                 generic_sub_expressions)\n\u001b[0m\u001b[0;32m    199\u001b[0m         \u001b[1;32mreturn\u001b[0m \u001b[0mself\u001b[0m\u001b[1;33m.\u001b[0m\u001b[0m_genericExpr\u001b[0m\u001b[1;33m\u001b[0m\u001b[1;33m\u001b[0m\u001b[0m\n\u001b[0;32m    200\u001b[0m \u001b[1;33m\u001b[0m\u001b[0m\n",
      "\u001b[1;32mc:\\users\\joaqu\\prove-it\\packages\\proveit\\_core_\\expression\\expr.py\u001b[0m in \u001b[0;36m_checked_make\u001b[1;34m(cls, coreInfo, styles, subExpressions, genericExpr)\u001b[0m\n\u001b[0;32m    389\u001b[0m             \u001b[0mmade\u001b[0m \u001b[1;33m=\u001b[0m \u001b[0mcls\u001b[0m\u001b[1;33m.\u001b[0m\u001b[0m_make\u001b[0m\u001b[1;33m(\u001b[0m\u001b[0mcoreInfo\u001b[0m\u001b[1;33m,\u001b[0m \u001b[0mstyles\u001b[0m\u001b[1;33m,\u001b[0m \u001b[0msubExpressions\u001b[0m\u001b[1;33m,\u001b[0m \u001b[0mgenericExpr\u001b[0m\u001b[1;33m)\u001b[0m\u001b[1;33m\u001b[0m\u001b[1;33m\u001b[0m\u001b[0m\n\u001b[0;32m    390\u001b[0m         \u001b[1;32melse\u001b[0m\u001b[1;33m:\u001b[0m\u001b[1;33m\u001b[0m\u001b[1;33m\u001b[0m\u001b[0m\n\u001b[1;32m--> 391\u001b[1;33m             \u001b[0mmade\u001b[0m \u001b[1;33m=\u001b[0m \u001b[0mcls\u001b[0m\u001b[1;33m.\u001b[0m\u001b[0m_make\u001b[0m\u001b[1;33m(\u001b[0m\u001b[0mcoreInfo\u001b[0m\u001b[1;33m,\u001b[0m \u001b[0mstyles\u001b[0m\u001b[1;33m,\u001b[0m \u001b[0msubExpressions\u001b[0m\u001b[1;33m)\u001b[0m\u001b[1;33m\u001b[0m\u001b[1;33m\u001b[0m\u001b[0m\n\u001b[0m\u001b[0;32m    392\u001b[0m         assert made._coreInfo == coreInfo, (\n\u001b[0;32m    393\u001b[0m                 \"%s vs %s\"%(made._coreInfo, coreInfo))\n",
      "\u001b[1;32mc:\\users\\joaqu\\prove-it\\packages\\proveit\\_core_\\expression\\operation\\operation.py\u001b[0m in \u001b[0;36m_make\u001b[1;34m(operationClass, coreInfo, styles, subExpressions)\u001b[0m\n\u001b[0;32m    294\u001b[0m                 \u001b[0mkw\u001b[0m\u001b[1;33m,\u001b[0m \u001b[0mval\u001b[0m \u001b[1;33m=\u001b[0m \u001b[0marg\u001b[0m\u001b[1;33m\u001b[0m\u001b[1;33m\u001b[0m\u001b[0m\n\u001b[0;32m    295\u001b[0m                 \u001b[0mkw_args\u001b[0m\u001b[1;33m[\u001b[0m\u001b[0mkw\u001b[0m\u001b[1;33m]\u001b[0m \u001b[1;33m=\u001b[0m \u001b[0mval\u001b[0m\u001b[1;33m\u001b[0m\u001b[1;33m\u001b[0m\u001b[0m\n\u001b[1;32m--> 296\u001b[1;33m         \u001b[0mmade_operation\u001b[0m \u001b[1;33m=\u001b[0m \u001b[0moperationClass\u001b[0m\u001b[1;33m(\u001b[0m\u001b[1;33m*\u001b[0m\u001b[0margs\u001b[0m\u001b[1;33m,\u001b[0m \u001b[1;33m**\u001b[0m\u001b[0mkw_args\u001b[0m\u001b[1;33m)\u001b[0m\u001b[1;33m\u001b[0m\u001b[1;33m\u001b[0m\u001b[0m\n\u001b[0m\u001b[0;32m    297\u001b[0m         \u001b[1;32mif\u001b[0m \u001b[0mstyles\u001b[0m \u001b[1;32mis\u001b[0m \u001b[1;32mnot\u001b[0m \u001b[1;32mNone\u001b[0m\u001b[1;33m:\u001b[0m\u001b[1;33m\u001b[0m\u001b[1;33m\u001b[0m\u001b[0m\n\u001b[0;32m    298\u001b[0m             \u001b[0mmade_operation\u001b[0m\u001b[1;33m.\u001b[0m\u001b[0mwithStyles\u001b[0m\u001b[1;33m(\u001b[0m\u001b[1;33m**\u001b[0m\u001b[0mstyles\u001b[0m\u001b[1;33m)\u001b[0m\u001b[1;33m\u001b[0m\u001b[1;33m\u001b[0m\u001b[0m\n",
      "\u001b[1;32mc:\\users\\joaqu\\prove-it\\packages\\proveit\\physics\\quantum\\circuit.py\u001b[0m in \u001b[0;36m__init__\u001b[1;34m(self, array, styles)\u001b[0m\n\u001b[0;32m    642\u001b[0m         \u001b[1;32mif\u001b[0m \u001b[1;32mnot\u001b[0m \u001b[0misinstance\u001b[0m\u001b[1;33m(\u001b[0m\u001b[0mself\u001b[0m\u001b[1;33m.\u001b[0m\u001b[0marray\u001b[0m\u001b[1;33m,\u001b[0m \u001b[0mExprArray\u001b[0m\u001b[1;33m)\u001b[0m\u001b[1;33m:\u001b[0m \u001b[1;31m#or len(self.operands) != 1:\u001b[0m\u001b[1;33m\u001b[0m\u001b[1;33m\u001b[0m\u001b[0m\n\u001b[0;32m    643\u001b[0m             raise ValueError(\"Expected contents of a Circuit expression to be an ExprArray object not %s\"\n\u001b[1;32m--> 644\u001b[1;33m                              % str(self.operands.__class__))\n\u001b[0m\u001b[0;32m    645\u001b[0m \u001b[1;33m\u001b[0m\u001b[0m\n\u001b[0;32m    646\u001b[0m         \u001b[1;32mfor\u001b[0m \u001b[0mentry\u001b[0m \u001b[1;32min\u001b[0m \u001b[0mself\u001b[0m\u001b[1;33m.\u001b[0m\u001b[0marray\u001b[0m\u001b[1;33m:\u001b[0m\u001b[1;33m\u001b[0m\u001b[1;33m\u001b[0m\u001b[0m\n",
      "\u001b[1;31mValueError\u001b[0m: Expected contents of a Circuit expression to be an ExprArray object not <class 'proveit._core_.expression.composite.expr_tuple.ExprTuple'>"
     ]
    }
   ],
   "source": [
    "Forall ((h, k, m), Forall((varRange(A, [one, one], [m, k]), varRange(B, one, m), \n",
    "                                                varRange(C, [one, one], [m, h]), varRange(D, one, m), \n",
    "                                                varRange(S, one, m), varRange(R, [one, one], [m, k]), \n",
    "                                                varRange(Q, [one, one], [m, h])), \n",
    "        \n",
    "            CircuitEquiv(\n",
    "                        Circuit(ExprArray(ExprRange(i, ExprTuple(MultiQubitGate(indexed_var(B, i), indexed_var(S, i))), one, m))),\n",
    "                        Circuit(ExprArray(ExprRange(i, ExprTuple(MultiQubitGate(indexed_var(D, i), indexed_var(S, i))), one, m)))\n",
    "            )\n",
    "    ), domain=NaturalsPos)"
   ]
  },
  {
   "cell_type": "code",
   "execution_count": null,
   "metadata": {},
   "outputs": [],
   "source": [
    "Forall ((h, k, m), Forall((varRange(A, [one, one], [m, k]), varRange(B, one, m), \n",
    "                                                varRange(C, [one, one], [m, h]), varRange(D, one, m), \n",
    "                                                varRange(S, one, m), varRange(R, [one, one], [m, k]), \n",
    "                                                varRange(Q, [one, one], [m, h])), \n",
    "        Implies(\n",
    "            CircuitEquiv(\n",
    "                        Circuit(ExprRange(i, ExprTuple(MultiQubitGate(indexed_var(B, i), indexed_var(S, i))), one, m)),\n",
    "                        Circuit(ExprRange(i, ExprTuple(MultiQubitGate(indexed_var(D, i), indexed_var(S, i))), one, m))\n",
    "            ),\n",
    "            CircuitEquiv(\n",
    "                        Circuit(ExprRange(i, ExprTuple(ExprRange(j, MultiQubitGate(Aij, Rij), one, k), \n",
    "                                            MultiQubitGate(indexed_var(B, i), indexed_var(S, i)),\n",
    "                                            ExprRange(j, MultiQubitGate(Cij, Qij), one, h)), \n",
    "                                    one, m)),\n",
    "                        Circuit(ExprRange(i, ExprTuple(ExprRange(j, MultiQubitGate(Aij, Rij), one, k), \n",
    "                                            MultiQubitGate(indexed_var(D, i), indexed_var(S, i)),\n",
    "                                            ExprRange(j, MultiQubitGate(Cij, Qij), one, h)), \n",
    "                                    one, m))\n",
    "            )\n",
    "        ).withWrappingAt(2)\n",
    "    ).withWrapping(), domain=NaturalsPos)"
   ]
  },
  {
   "cell_type": "code",
   "execution_count": null,
   "metadata": {},
   "outputs": [],
   "source": [
    "substitution.instantiate(assumptions=[CircuitEquiv(x, y)])"
   ]
  },
  {
   "cell_type": "code",
   "execution_count": null,
   "metadata": {},
   "outputs": [],
   "source": [
    "substitution.specialize(assumptions=[CircuitEquiv(x, y)])"
   ]
  },
  {
   "cell_type": "code",
   "execution_count": null,
   "metadata": {},
   "outputs": [],
   "source": [
    "single_time_equiv.expr.instanceExpr.instanceExpr.consequent.lhs.__class__"
   ]
  },
  {
   "cell_type": "code",
   "execution_count": null,
   "metadata": {},
   "outputs": [],
   "source": [
    "lhs = Circuit(ExprTuple(MultiQubitGate(CONTROL, Set(one, two))), \n",
    "        ExprTuple(MultiQubitGate(Z, Set(one, two))), \n",
    "        ExprTuple(MultiQubitGate(CONTROL, Set(three, four))), \n",
    "        ExprTuple(MultiQubitGate(Z, Set(three, four))))"
   ]
  },
  {
   "cell_type": "code",
   "execution_count": null,
   "metadata": {},
   "outputs": [],
   "source": [
    "rhs = Circuit(ExprTuple(MultiQubitGate(CONTROL, Set(one, two))), \n",
    "        ExprTuple(MultiQubitGate(Z, Set(one, two))), \n",
    "        ExprTuple(MultiQubitGate(CONTROL, Set(three, four))), \n",
    "        ExprTuple(MultiQubitGate(Z, Set(three, four))))"
   ]
  },
  {
   "cell_type": "code",
   "execution_count": null,
   "metadata": {},
   "outputs": [],
   "source": [
    "CircuitEquiv(lhs, rhs).prove(assumptions=[CircuitEquiv(lhs, rhs)])"
   ]
  },
  {
   "cell_type": "code",
   "execution_count": null,
   "metadata": {},
   "outputs": [],
   "source": [
    "big = Circuit(ExprTuple(Gate(H), MultiQubitGate(CONTROL, Set(one, two)), Gate(X)), \n",
    "        ExprTuple(Gate(H), MultiQubitGate(Z, Set(one, two)), \n",
    "                  Gate(X)), \n",
    "        ExprTuple(Gate(H), MultiQubitGate(CONTROL, Set(three, four)), Gate(X)), \n",
    "        ExprTuple(Gate(H), MultiQubitGate(Z, Set(three, four)), \n",
    "                  Gate(X)))"
   ]
  },
  {
   "cell_type": "code",
   "execution_count": null,
   "metadata": {},
   "outputs": [],
   "source": [
    "big_left = Circuit(ExprTuple(Gate(H)), \n",
    "        ExprTuple(Gate(H)), \n",
    "        ExprTuple(Gate(H)), \n",
    "        ExprTuple(Gate(H)))\n"
   ]
  },
  {
   "cell_type": "code",
   "execution_count": null,
   "metadata": {},
   "outputs": [],
   "source": [
    "big_right = Circuit(ExprTuple(Gate(X)), \n",
    "        ExprTuple(Gate(X)), \n",
    "        ExprTuple(Gate(X)), \n",
    "        ExprTuple(Gate(X)))"
   ]
  },
  {
   "cell_type": "code",
   "execution_count": null,
   "metadata": {},
   "outputs": [],
   "source": [
    "single_time_equiv.specialize({h: one, k: one, m: four, A: big_left, B: lhs, C: big_right, D: rhs, \n",
    "                              R: [], S:[{one, two}, {one, two}], Q: []}, assumptions=[CircuitEquiv(lhs, rhs)])               #, InSet(one, NaturalsPos), InSet(two, NaturalsPos), InSet(four, NaturalsPos)])"
   ]
  },
  {
   "cell_type": "code",
   "execution_count": null,
   "metadata": {},
   "outputs": [],
   "source": [
    "single_time_equiv.specialize({h: one, k: one, m: four, A: ExprTuple(), \n",
    "                              B: ExprTuple(MultiQubitGate(CONTROL, Set(one, two)), MultiQubitGate(Z, Set(one, two)), \n",
    "                                           MultiQubitGate(CONTROL, Set(three, four)), MultiQubitGate(Z, Set(three, four))), \n",
    "                              C: ExprTuple(Gate(X), Gate(X), Gate(X), Gate(X)), \n",
    "                              D: ExprTuple(MultiQubitGate(CONTROL, Set(one, two)), MultiQubitGate(Z, Set(one, two)), \n",
    "                                           MultiQubitGate(CONTROL, Set(three, four)), MultiQubitGate(Z, Set(three, four))), \n",
    "                              R: ExprTuple(), S:[{one, two}, {one, two}, {three, four}, {three, four}], Q: ExprTuple()}, assumptions=[CircuitEquiv(lhs, rhs)])               #, InSet(one, NaturalsPos), InSet(two, NaturalsPos), InSet(four, NaturalsPos)])"
   ]
  },
  {
   "cell_type": "code",
   "execution_count": null,
   "metadata": {},
   "outputs": [],
   "source": [
    "single_time_equiv.specialize({h: one, k: one, m: four, \n",
    "                              ExprTuple(ExprRange(i, ExprRange(j, Aij, one, k), one, m)): big_left, ExprTuple(varRange(B, one, m)): lhs, \n",
    "                              ExprTuple(varRange(C, [one, one], [m, h])): big_right, ExprTuple(varRange(D, one, m)): rhs, \n",
    "                              ExprTuple(varRange(S, one, m)): ExprTuple({one, two}, {one, two}), \n",
    "                              ExprTuple(varRange(R, [one, one], [m, k])): ExprTuple(), \n",
    "                              ExprTuple(varRange(Q, [one, one], [m, h])): ExprTuple()}, assumptions=[CircuitEquiv(lhs, rhs)])"
   ]
  },
  {
   "cell_type": "code",
   "execution_count": null,
   "metadata": {},
   "outputs": [],
   "source": [
    "Sig = indexed_var(S,(i,g)) "
   ]
  },
  {
   "cell_type": "code",
   "execution_count": null,
   "metadata": {},
   "outputs": [],
   "source": [
    "Sj = indexed_var(S, j)"
   ]
  },
  {
   "cell_type": "code",
   "execution_count": null,
   "metadata": {},
   "outputs": [],
   "source": [
    "MultiQubitGate(Sig, one).subExpr(1).subExpr(0).subExpr(0).subExpr(0)"
   ]
  },
  {
   "cell_type": "code",
   "execution_count": null,
   "metadata": {},
   "outputs": [],
   "source": [
    "MultiQubitGate(Sj, one).subExpr(1).subExpr(0).subExpr(0)"
   ]
  },
  {
   "cell_type": "code",
   "execution_count": null,
   "metadata": {},
   "outputs": [],
   "source": [
    "#ExprRange(i, ExprTuple(ExprRange(h, MultiQubitGate(Aih, A), one, m), ExprRange(j, MultiQubitGate(Bij, A), one, n), ExprRange(k, MultiQubitGate(Cik, A), one, p)), one, q).first().entries[0].first().subExpr(1).subExpr(1)"
   ]
  },
  {
   "cell_type": "code",
   "execution_count": null,
   "metadata": {},
   "outputs": [],
   "source": []
  },
  {
   "cell_type": "code",
   "execution_count": null,
   "metadata": {},
   "outputs": [],
   "source": [
    "CircuitEquiv(\n",
    "                    Circuit(ExprTuple(ExprRange(j, MultiQubitGate(indexed_var(B, j), Set(Add(m, one), Add(m, k, two))), one, n)),\n",
    "                            ExprTuple(ExprRange(j, MultiQubitGate(indexed_var(D, j), Set(Add(m, one), Add(m, k, two))), one, n))),\n",
    "                    Circuit(ExprTuple(ExprRange(j, MultiQubitGate(indexed_var(F, j), Set(Add(m, one), Add(m, k, two))), one, n)),\n",
    "                            ExprTuple(ExprRange(j, MultiQubitGate(indexed_var(G, j), Set(Add(m, one), Add(m, k, two))), one, n)))\n",
    "            ).lhs"
   ]
  },
  {
   "cell_type": "code",
   "execution_count": null,
   "metadata": {},
   "outputs": [],
   "source": [
    "ExprRange(i, ExprTuple(ExprRange(j, MultiQubitGate(Aij, Sij), one, n)), one, m).first().entries[0].first()"
   ]
  },
  {
   "cell_type": "code",
   "execution_count": null,
   "metadata": {},
   "outputs": [],
   "source": [
    "ExprRange(j, Gate(Aij), one, n).first().subExpr(1).subExpr(1)"
   ]
  },
  {
   "cell_type": "code",
   "execution_count": null,
   "metadata": {},
   "outputs": [],
   "source": [
    "Circuit(ExprRange(i, ExprTuple(ExprRange(j, Gate(Aij), one, n)), one, m),\n",
    "                     ExprTuple(ExprRange(j, MultiQubitGate(indexed_var(B, j), Set(Add(m, one), Add(m, k, two))), one, n)),\n",
    "        ExprRange(i, ExprTuple(ExprRange(j, MultiQubitGate(Cij, Rij), one, n)), one, k),\n",
    "                     ExprTuple(ExprRange(j, MultiQubitGate(indexed_var(D, j), Set(Add(m, one), Add(m, k, two))), one, n)),\n",
    "        ExprRange(i, ExprTuple(ExprRange(j, Gate(Eij), one, n)), one, p))"
   ]
  },
  {
   "cell_type": "code",
   "execution_count": null,
   "metadata": {},
   "outputs": [],
   "source": [
    "Circuit(ExprRange(i, ExprTuple(ExprRange(j, MultiQubitGate(Aij, Sij), one, n)), one, m),\n",
    "                     ExprTuple(ExprRange(j, MultiQubitGate(indexed_var(B, j), Set(Add(m, one), Add(m, k, two))), one, n)),\n",
    "        ExprRange(i, ExprTuple(ExprRange(j, MultiQubitGate(Cij, Rij), one, n)), one, k),\n",
    "                     ExprTuple(ExprRange(j, MultiQubitGate(indexed_var(D, j), Set(Add(m, one), Add(m, k, two))), one, n)),\n",
    "        ExprRange(i, ExprTuple(ExprRange(j, MultiQubitGate(Eij, Qij), one, n)), one, p))"
   ]
  },
  {
   "cell_type": "code",
   "execution_count": null,
   "metadata": {},
   "outputs": [],
   "source": [
    "Circuit(ExprRange(i, ExprTuple(ExprRange(j, MultiQubitGate(Aij, Sij), one, n)), one, m),\n",
    "                     ExprTuple(ExprRange(j, MultiQubitGate(indexed_var(B, j), Set(two, four)), one, n)),\n",
    "        ExprRange(i, ExprTuple(ExprRange(j, MultiQubitGate(Cij, Rij), one, n)), one, k),\n",
    "                     ExprTuple(ExprRange(j, MultiQubitGate(indexed_var(D, j), Set(two, five)), one, n)),\n",
    "        ExprRange(i, ExprTuple(ExprRange(j, MultiQubitGate(Eij, Qij), one, n)), one, p))"
   ]
  },
  {
   "cell_type": "code",
   "execution_count": null,
   "metadata": {},
   "outputs": [],
   "source": [
    "\n",
    "        Implies(\n",
    "            CircuitEquiv(\n",
    "                    Circuit(ExprTuple(ExprRange(j, MultiQubitGate(indexed_var(B, j), Set(Add(m, one), Add(m, k, two))), one, n)),\n",
    "                            ExprTuple(ExprRange(j, MultiQubitGate(indexed_var(D, j), Set(Add(m, one), Add(m, k, two))), one, n))),\n",
    "                    Circuit(ExprTuple(ExprRange(j, MultiQubitGate(indexed_var(F, j), Set(Add(m, one), Add(m, k, two))), one, n)),\n",
    "                            ExprTuple(ExprRange(j, MultiQubitGate(indexed_var(G, j), Set(Add(m, one), Add(m, k, two))), one, n)))\n",
    "            ),\n",
    "            CircuitEquiv(\n",
    "                    Circuit(ExprRange(i, ExprTuple(ExprRange(j, MultiQubitGate(Aij, Sij), one, n)), one, m),\n",
    "                            ExprTuple(ExprRange(j, MultiQubitGate(indexed_var(B, j), Set(Add(m, one), Add(m, k, two))), one, n)),\n",
    "                            ExprRange(i, ExprTuple(ExprRange(j, MultiQubitGate(Cij, Rij), one, n)), one, k),\n",
    "                            ExprTuple(ExprRange(j, MultiQubitGate(indexed_var(D, j), Set(Add(m, one), Add(m, k, two))), one, n)),\n",
    "                            ExprRange(i, ExprTuple(ExprRange(j, MultiQubitGate(Eij, Qij), one, n)), one, p)),\n",
    "                    Circuit(ExprRange(i, ExprTuple(ExprRange(j, MultiQubitGate(Aij, Sij), one, n)), one, m),\n",
    "                            ExprTuple(ExprRange(j, MultiQubitGate(indexed_var(F, j), Set(Add(m, one), Add(m, k, two))), one, n)),\n",
    "                            ExprRange(i, ExprTuple(ExprRange(j, MultiQubitGate(Cij, Rij), one, n)), one, k),\n",
    "                            ExprTuple(ExprRange(j, MultiQubitGate(indexed_var(G, j), Set(Add(m, one), Add(m, k, two))), one, n)),\n",
    "                            ExprRange(i, ExprTuple(ExprRange(j, MultiQubitGate(Eij, Qij), one, n)), one, p)))\n",
    "            )\n",
    "        \n"
   ]
  },
  {
   "cell_type": "code",
   "execution_count": null,
   "metadata": {},
   "outputs": [],
   "source": [
    "Circuit(ExprTuple(Input(ket0), Gate(H), MultiQubitGate(X, Set(one, three)), Gate(H), Output(ketPlus)), \n",
    "        ExprTuple(Input(ket1), MultiQubitGate(H, Set(two, three)), MultiQubitGate(H, Set(two)), Gate(X), Output(ketMinus)),\n",
    "       ExprTuple(Input(ket1), MultiQubitGate(H, Set(two, three)), MultiQubitGate(X, Set(one, three)), Gate(X), Output(ketMinus)))"
   ]
  },
  {
   "cell_type": "code",
   "execution_count": null,
   "metadata": {},
   "outputs": [],
   "source": [
    "Circuit(ExprRange(i, ExprTuple(MultiQubitGate(indexed_var(B, i), indexed_var(S, i))), one, m)).getRowLength()"
   ]
  },
  {
   "cell_type": "code",
   "execution_count": null,
   "metadata": {},
   "outputs": [],
   "source": [
    "Circuit(ExprTuple(ExprRange(j, Gate(indexed_var(B, j)), one, n)))"
   ]
  },
  {
   "cell_type": "code",
   "execution_count": null,
   "metadata": {},
   "outputs": [],
   "source": [
    "CircuitEquiv(\n",
    "                    Circuit(ExprTuple(ExprRange(j, Gate(indexed_var(B, j)), one, n))),\n",
    "                    Circuit(ExprTuple(ExprRange(j, Gate(indexed_var(D, j)), one, n))))"
   ]
  },
  {
   "cell_type": "code",
   "execution_count": null,
   "metadata": {},
   "outputs": [],
   "source": [
    "Circuit(ExprRange(i, ExprTuple(ExprRange(j, MultiQubitGate(Cij, Rij), one, n)), one, k))"
   ]
  },
  {
   "cell_type": "code",
   "execution_count": null,
   "metadata": {},
   "outputs": [],
   "source": [
    "Circuit(ExprRange(i, ExprTuple(ExprRange(j, MultiQubitGate(Aij, Sij), one, n)), one, m),\n",
    "                            ExprTuple(ExprRange(j, Gate(indexed_var(B, j)), one, n)),\n",
    "                            ExprRange(i, ExprTuple(ExprRange(j, MultiQubitGate(Cij, Rij), one, n)), one, k))"
   ]
  },
  {
   "cell_type": "code",
   "execution_count": null,
   "metadata": {},
   "outputs": [],
   "source": [
    "CircuitEquiv(\n",
    "                    Circuit(ExprRange(i, ExprTuple(ExprRange(j, MultiQubitGate(Aij, Sij), one, n)), one, m),\n",
    "                            ExprTuple(ExprRange(j, Gate(indexed_var(B, j)), one, n)),\n",
    "                            ExprRange(i, ExprTuple(ExprRange(j, MultiQubitGate(Cij, Rij), one, n)), one, k)),\n",
    "                    Circuit(ExprRange(i, ExprTuple(ExprRange(j, MultiQubitGate(Aij, Sij), one, n)), one, m),\n",
    "                            ExprTuple(ExprRange(j, Gate(indexed_var(D, j)), one, n)),\n",
    "                            ExprRange(i, ExprTuple(ExprRange(j, MultiQubitGate(Cij, Rij), one, n)), one, k))\n",
    "            )"
   ]
  },
  {
   "cell_type": "code",
   "execution_count": null,
   "metadata": {},
   "outputs": [],
   "source": [
    "Circuit(ExprRange(i, ExprTuple(ExprRange(j, MultiQubitGate(Aij, Rij), one, k), \n",
    "                                            MultiQubitGate(indexed_var(B, i), indexed_var(S, i)),\n",
    "                               ExprRange(j, MultiQubitGate(Cij, Qij), one, h)), \n",
    "                                    one, m))"
   ]
  },
  {
   "cell_type": "code",
   "execution_count": null,
   "metadata": {},
   "outputs": [],
   "source": [
    "print(Implies(\n",
    "            CircuitEquiv(\n",
    "                        Circuit(ExprRange(i, ExprTuple(MultiQubitGate(indexed_var(B, i), indexed_var(S, i))), one, m)),\n",
    "                        Circuit(ExprRange(i, ExprTuple(MultiQubitGate(indexed_var(D, i), indexed_var(S, i))), one, m))\n",
    "            ),\n",
    "            CircuitEquiv(\n",
    "                        Circuit(ExprRange(i, ExprTuple(ExprRange(j, MultiQubitGate(Aij, Rij), one, k), \n",
    "                                            MultiQubitGate(indexed_var(B, i), indexed_var(S, i)),\n",
    "                                            ExprRange(j, MultiQubitGate(Cij, Qij), one, h)), \n",
    "                                    one, m)),\n",
    "                        Circuit(ExprRange(i, ExprTuple(ExprRange(j, MultiQubitGate(Aij, Rij), one, k), \n",
    "                                            MultiQubitGate(indexed_var(D, i), indexed_var(S, i)),\n",
    "                                            ExprRange(j, MultiQubitGate(Cij, Qij), one, h)), \n",
    "                                    one, m))\n",
    "            )\n",
    "        ).withWrappingAt(1).latex())"
   ]
  },
  {
   "cell_type": "code",
   "execution_count": null,
   "metadata": {},
   "outputs": [],
   "source": [
    "Implies(\n",
    "            CircuitEquiv(\n",
    "                        Circuit(ExprRange(i, ExprTuple(MultiQubitGate(indexed_var(B, i), indexed_var(S, i))), one, m)),\n",
    "                        Circuit(ExprRange(i, ExprTuple(MultiQubitGate(indexed_var(D, i), indexed_var(S, i))), one, m))\n",
    "            ),\n",
    "            CircuitEquiv(\n",
    "                        Circuit(ExprRange(i, ExprTuple(ExprRange(j, MultiQubitGate(Aij, Rij), one, k), \n",
    "                                            MultiQubitGate(indexed_var(B, i), indexed_var(S, i)),\n",
    "                                            ExprRange(j, MultiQubitGate(Cij, Qij), one, h)), \n",
    "                                    one, m)),\n",
    "                        Circuit(ExprRange(i, ExprTuple(ExprRange(j, MultiQubitGate(Aij, Rij), one, k), \n",
    "                                            MultiQubitGate(indexed_var(D, i), indexed_var(S, i)),\n",
    "                                            ExprRange(j, MultiQubitGate(Cij, Qij), one, h)), \n",
    "                                    one, m))\n",
    "            )\n",
    "        ).withWrappingAt(1)"
   ]
  },
  {
   "cell_type": "code",
   "execution_count": null,
   "metadata": {},
   "outputs": [],
   "source": [
    "CircuitEquiv(Circuit(ExprRange(i, ExprTuple(ExprRange(j, MultiQubitGate(Aij, Sij), one, m)), one, q)),Circuit(ExprRange(i, ExprTuple(ExprRange(j, MultiQubitGate(Aij, Sij), one, m)), one, q)))"
   ]
  },
  {
   "cell_type": "code",
   "execution_count": null,
   "metadata": {},
   "outputs": [],
   "source": [
    "print(CircuitEquiv(Circuit(ExprRange(i, ExprTuple(ExprRange(j, MultiQubitGate(Aij, Sij), one, m)), one, q)),Circuit(ExprRange(i, ExprTuple(ExprRange(j, MultiQubitGate(Aij, Sij), one, m)), one, q))).latex())"
   ]
  },
  {
   "cell_type": "code",
   "execution_count": null,
   "metadata": {},
   "outputs": [],
   "source": [
    "Circuit(ExprRange(i, ExprTuple(ExprRange(j, MultiQubitGate(Aij, Sij), one, m)), one, q),\n",
    "        ExprTuple(ExprRange(j, MultiQubitGate(Bij, Sij), one, m)),\n",
    "        ExprRange(i, ExprTuple(ExprRange(j, MultiQubitGate(Cij, Sij), one, m)), one, s))"
   ]
  },
  {
   "cell_type": "code",
   "execution_count": null,
   "metadata": {},
   "outputs": [],
   "source": [
    "Circuit(ExprRange(i, ExprTuple(ExprRange(j, MultiQubitGate(Bij, Sij), one, n)), one, m))"
   ]
  },
  {
   "cell_type": "code",
   "execution_count": null,
   "metadata": {},
   "outputs": [],
   "source": [
    "Circuit(ExprTuple(Input(ket0), Gate(H), Output(ketPlus)), \n",
    "        ExprTuple(Input(ket1), MultiQubitGate(H, Set(two)), Output(ketMinus)))\n",
    "# MultiQubitGate of a single gate - automatic equality reductions. "
   ]
  },
  {
   "cell_type": "code",
   "execution_count": null,
   "metadata": {},
   "outputs": [],
   "source": [
    "Circuit(ExprTuple(Input(ket0), Gate(IdentityOp()), Output(ketPlus)), \n",
    "        ExprTuple(Input(ket1), Gate(), Output(ketMinus)))\n",
    "# Empty gate reduction"
   ]
  },
  {
   "cell_type": "code",
   "execution_count": null,
   "metadata": {},
   "outputs": [],
   "source": [
    "#Circuit(ExprRange(i, Gate(ExprRange(j, Aij, one, n)), one, m))"
   ]
  },
  {
   "cell_type": "code",
   "execution_count": null,
   "metadata": {},
   "outputs": [],
   "source": [
    "# multigate block test\n",
    "Circuit(ExprTuple(Input(ket0), MultiQubitGate(CONTROL, Set(one, two, three, four, six, seven)), Output(ket0)), \n",
    "        ExprTuple(Input(ket0), MultiQubitGate(CONTROL, Set(one, two, three, four, six, seven)), \n",
    "                  Output(ket0)), \n",
    "        ExprTuple(Input(ket0), MultiQubitGate(Z, Set(one, two, three, four, six, seven)), Output(ket0)), \n",
    "        ExprTuple(Input(ket1), MultiQubitGate(X, Set(one, two, three, four, six, seven)), \n",
    "                  Output(ket1)),\n",
    "        ExprTuple(Input(ket0), Gate(IdentityOp()), Output(ket0)), \n",
    "        ExprTuple(Input(ket1), MultiQubitGate(X, Set(one, two, three, four, six, seven)), \n",
    "                  Output(ket1)),\n",
    "        ExprTuple(Input(ket1), MultiQubitGate(Z, Set(one, two, three, four, six, seven)), \n",
    "                  Output(ket1)))"
   ]
  },
  {
   "cell_type": "code",
   "execution_count": null,
   "metadata": {},
   "outputs": [],
   "source": [
    "# multigate block test\n",
    "Circuit(ExprTuple(Input(ket0), MultiQubitGate(CONTROL, Set(one, two, three, four)), Output(ket0)), \n",
    "        ExprTuple(Input(ket0), MultiQubitGate(Z, Set(one, two, three, four)), \n",
    "                  Output(ket0)), \n",
    "        ExprTuple(Input(ket0), MultiQubitGate(Z, Set(one, two, three, four)), Output(ket0)), \n",
    "        ExprTuple(Input(ket1), MultiQubitGate(Z, Set(one, two, three, four)), \n",
    "                  Output(ket1)))"
   ]
  },
  {
   "cell_type": "code",
   "execution_count": null,
   "metadata": {},
   "outputs": [],
   "source": [
    "# Single Qubit Gates"
   ]
  },
  {
   "cell_type": "code",
   "execution_count": null,
   "metadata": {},
   "outputs": [],
   "source": [
    "Circuit(ExprTuple(Input(ket0), Gate(H), Output(ketPlus)), \n",
    "        ExprTuple(Input(ket1), Gate(H), Output(ketMinus)))\n",
    "# H gate (both inputs)"
   ]
  },
  {
   "cell_type": "code",
   "execution_count": null,
   "metadata": {},
   "outputs": [],
   "source": [
    "Circuit(ExprTuple(Input(ket0), Gate(X), Output(ket1)), \n",
    "        ExprTuple(Input(ket1), Gate(X), Output(ket0)))\n",
    "# X gate (both inputs)"
   ]
  },
  {
   "cell_type": "code",
   "execution_count": null,
   "metadata": {},
   "outputs": [],
   "source": [
    "Circuit(ExprTuple(Input(ket0), Gate(Z), Output(ket0)), \n",
    "        ExprTuple(Input(ket1), Gate(Z), Output(Neg(ket1))))\n",
    "# Z gate (both inputs)"
   ]
  },
  {
   "cell_type": "code",
   "execution_count": null,
   "metadata": {},
   "outputs": [],
   "source": [
    "#Two Qubit Gates"
   ]
  },
  {
   "cell_type": "code",
   "execution_count": null,
   "metadata": {},
   "outputs": [],
   "source": [
    "Circuit(ExprTuple(Input(ket0), MultiQubitGate(CONTROL, Set(one, two)), Output(ket0)), \n",
    "        ExprTuple(Input(ket0), MultiQubitGate(Z, Set(one, two)), \n",
    "                  Output(ket0)), \n",
    "        ExprTuple(Input(ket0), MultiQubitGate(CONTROL, Set(three, four)), Output(ket0)), \n",
    "        ExprTuple(Input(ket1), MultiQubitGate(Z, Set(three, four)), \n",
    "                  Output(ket1))) \n",
    "#CZ gate - 0 qubit control for 1 and 0 qubit inputs"
   ]
  },
  {
   "cell_type": "code",
   "execution_count": null,
   "metadata": {},
   "outputs": [],
   "source": [
    "Circuit(ExprTuple(Input(ket1), MultiQubitGate(CONTROL, Set(one, two)), Output(ket1)), \n",
    "        ExprTuple(Input(ket0), MultiQubitGate(Z, Set(one, two)), \n",
    "                  Output(ket0)), \n",
    "        ExprTuple(Input(ket1), MultiQubitGate(CONTROL, Set(three, four)), Output(ket1)), \n",
    "        ExprTuple(Input(ket1), MultiQubitGate(Z, Set(three, four)), \n",
    "                  Output(Neg(ket1)))) \n",
    "#CZ gate - 1 qubit control for 1 and 0 qubit inputs"
   ]
  },
  {
   "cell_type": "code",
   "execution_count": null,
   "metadata": {},
   "outputs": [],
   "source": [
    "Circuit(ExprTuple(Input(ket0), MultiQubitGate(CONTROL, Set(one, two)), Output(ket0)), \n",
    "        ExprTuple(Input(ket0), MultiQubitGate(X, Set(one, two)), Output(ket0)), \n",
    "        ExprTuple(Input(ket0), MultiQubitGate(CONTROL, Set(three, four)), Output(ket0)), \n",
    "        ExprTuple(Input(ket1), MultiQubitGate(X, Set(three, four)), Output(ket1))) \n",
    "#CX gate - 0 qubit control for 1 and 0 qubit inputs"
   ]
  },
  {
   "cell_type": "code",
   "execution_count": null,
   "metadata": {},
   "outputs": [],
   "source": [
    "Circuit(ExprTuple(Input(ket1), MultiQubitGate(CONTROL, Set(one, two)), Output(ket1)), \n",
    "        ExprTuple(Input(ket0), MultiQubitGate(X, Set(one, two)), Output(ket1)), \n",
    "        ExprTuple(Input(ket1), MultiQubitGate(CONTROL, Set(three, four)), Output(ket1)), \n",
    "        ExprTuple(Input(ket1), MultiQubitGate(X, Set(three, four)), Output(ket0))) \n",
    "#CX gate - 1 qubit control for 1 and 0 qubit inputs"
   ]
  },
  {
   "cell_type": "code",
   "execution_count": null,
   "metadata": {},
   "outputs": [],
   "source": [
    "Circuit(ExprTuple(Input(zero), MultiQubitGate(CLASSICAL_CONTROL, Set(one, two)), SPACE), \n",
    "        ExprTuple(Input(ket0), MultiQubitGate(Z, Set(one, two)), \n",
    "                  Output(ket0)), \n",
    "        ExprTuple(Input(zero), MultiQubitGate(CLASSICAL_CONTROL, Set(three, four)), SPACE), \n",
    "        ExprTuple(Input(ket1), MultiQubitGate(Z, Set(three, four)), \n",
    "                  Output(ket1))) \n",
    "#cZ gate - 0 classical bit control for 1 and 0 qubit inputs"
   ]
  },
  {
   "cell_type": "code",
   "execution_count": null,
   "metadata": {},
   "outputs": [],
   "source": [
    "Circuit(ExprTuple(Input(one), MultiQubitGate(CLASSICAL_CONTROL, Set(one, two)), SPACE), \n",
    "        ExprTuple(Input(ket0), MultiQubitGate(Z, Set(one, two)), \n",
    "                  Output(ket0)), \n",
    "        ExprTuple(Input(one), MultiQubitGate(CLASSICAL_CONTROL, Set(three, four)), SPACE), \n",
    "        ExprTuple(Input(ket1), MultiQubitGate(Z, Set(three, four)), \n",
    "                  Output(Neg(ket1))))\n",
    "#cZ gate - 1 classical bit control for 1 and 0 qubit inputs"
   ]
  },
  {
   "cell_type": "code",
   "execution_count": null,
   "metadata": {},
   "outputs": [],
   "source": [
    "Circuit(ExprTuple(Input(zero), MultiQubitGate(CLASSICAL_CONTROL, Set(one, two)), SPACE), \n",
    "        ExprTuple(Input(ket0), MultiQubitGate(X, Set(one, two)), \n",
    "                  Output(ket0)), \n",
    "        ExprTuple(Input(zero), MultiQubitGate(CLASSICAL_CONTROL, Set(three, four)), SPACE), \n",
    "        ExprTuple(Input(ket1), MultiQubitGate(X, Set(three, four)), \n",
    "                  Output(ket1))) \n",
    "#cX gate - 0 classical bit control for 1 and 0 qubit inputs"
   ]
  },
  {
   "cell_type": "code",
   "execution_count": null,
   "metadata": {},
   "outputs": [],
   "source": [
    "Circuit(ExprTuple(Input(one), MultiQubitGate(CLASSICAL_CONTROL, Set(one, two)), SPACE), \n",
    "        ExprTuple(Input(ket0), MultiQubitGate(X, Set(one, two)), \n",
    "                  Output(ket1)), \n",
    "        ExprTuple(Input(one), MultiQubitGate(CLASSICAL_CONTROL, Set(three, four)), SPACE), \n",
    "        ExprTuple(Input(ket1), MultiQubitGate(X, Set(three, four)), \n",
    "                  Output(ket0)))\n",
    "#cX gate - 1 classical bit control for 1 and 0 qubit inputs"
   ]
  },
  {
   "cell_type": "code",
   "execution_count": null,
   "metadata": {},
   "outputs": [],
   "source": [
    "#NULL GATES"
   ]
  },
  {
   "cell_type": "code",
   "execution_count": null,
   "metadata": {},
   "outputs": [],
   "source": [
    "Circuit(ExprTuple(Input(ket0), Gate(H), Gate(H), Output(ket0)), \n",
    "        ExprTuple(Input(ket1), Gate(H), Gate(H), Output(ket1)))"
   ]
  },
  {
   "cell_type": "code",
   "execution_count": null,
   "metadata": {},
   "outputs": [],
   "source": [
    "Circuit(ExprTuple(Input(ket0), Gate(X), Gate(X), Output(ket0)), \n",
    "        ExprTuple(Input(ket1), Gate(X), Gate(X), Output(ket1)))"
   ]
  },
  {
   "cell_type": "code",
   "execution_count": null,
   "metadata": {},
   "outputs": [],
   "source": [
    "Circuit(ExprTuple(Input(ket0), Gate(Z), Gate(Z), Output(ket0)), \n",
    "        ExprTuple(Input(ket1), Gate(Z), Gate(Z), Output(ket1)))"
   ]
  },
  {
   "cell_type": "code",
   "execution_count": null,
   "metadata": {},
   "outputs": [],
   "source": [
    "Circuit(ExprTuple(Input(ket0), MultiQubitGate(CONTROL, Set(one, two)), MultiQubitGate(CONTROL, Set(one, two)), \n",
    "                  Output(ket0)), \n",
    "        ExprTuple(Input(ket0), MultiQubitGate(Z, Set(one, two)), MultiQubitGate(Z, Set(one, two)), Output(ket0)), \n",
    "        ExprTuple(Input(ket0), MultiQubitGate(CONTROL, Set(three, four)), MultiQubitGate(CONTROL, Set(three, four)), \n",
    "                  Output(ket0)), \n",
    "        ExprTuple(Input(ket1), MultiQubitGate(Z, Set(three, four)), MultiQubitGate(Z, Set(three, four)), \n",
    "                  Output(ket1)),\n",
    "        ExprTuple(Input(ket1), MultiQubitGate(CONTROL, Set(five, six)), MultiQubitGate(CONTROL, Set(five, six)),\n",
    "                  Output(ket1)),\n",
    "        ExprTuple(Input(ket0), MultiQubitGate(Z, Set(five, six)), MultiQubitGate(Z, Set(five, six)),\n",
    "                  Output(ket0)),\n",
    "        ExprTuple(Input(ket1), MultiQubitGate(CONTROL, Set(seven, eight)), MultiQubitGate(CONTROL, Set(seven, eight)), \n",
    "                  Output(ket1)), \n",
    "        ExprTuple(Input(ket1), MultiQubitGate(Z, Set(seven, eight)), MultiQubitGate(Z, Set(seven, eight)), \n",
    "                  Output(ket1))) \n",
    "# Double CZ gate"
   ]
  },
  {
   "cell_type": "code",
   "execution_count": null,
   "metadata": {},
   "outputs": [],
   "source": [
    "Circuit(ExprTuple(Input(ket0), MultiQubitGate(CONTROL, Set(one, two)), MultiQubitGate(CONTROL, Set(one, two)), \n",
    "                  Output(ket0)), \n",
    "        ExprTuple(Input(ket0), MultiQubitGate(X, Set(one, two)), MultiQubitGate(X, Set(one, two)), Output(ket0)), \n",
    "        ExprTuple(Input(ket0), MultiQubitGate(CONTROL, Set(three, four)), MultiQubitGate(CONTROL, Set(three, four)), \n",
    "                  Output(ket0)), \n",
    "        ExprTuple(Input(ket1), MultiQubitGate(X, Set(three, four)), MultiQubitGate(X, Set(three, four)), \n",
    "                  Output(ket1)),\n",
    "        ExprTuple(Input(ket1), MultiQubitGate(CONTROL, Set(five, six)), MultiQubitGate(CONTROL, Set(five, six)),\n",
    "                  Output(ket1)),\n",
    "        ExprTuple(Input(ket0), MultiQubitGate(X, Set(five, six)), MultiQubitGate(X, Set(five, six)),\n",
    "                  Output(ket0)),\n",
    "        ExprTuple(Input(ket1), MultiQubitGate(CONTROL, Set(seven, eight)), MultiQubitGate(CONTROL, Set(seven, eight)), \n",
    "                  Output(ket1)), \n",
    "        ExprTuple(Input(ket1), MultiQubitGate(X, Set(seven, eight)), MultiQubitGate(X, Set(seven, eight)), \n",
    "                  Output(ket1))) \n",
    "# Double CX gate"
   ]
  },
  {
   "cell_type": "code",
   "execution_count": null,
   "metadata": {},
   "outputs": [],
   "source": [
    "Circuit(ExprTuple(Input(ket0), MultiQubitGate(CONTROL, Set(one, two)), Output(ket0)), \n",
    "        ExprTuple(Input(ket0), MultiQubitGate(U, Set(one, two)), \n",
    "                  Output(ket0)), \n",
    "        ExprTuple(Input(ket0), MultiQubitGate(CONTROL, Set(three, four)), Output(ket0)), \n",
    "        ExprTuple(Input(ket1), MultiQubitGate(U, Set(three, four)), \n",
    "                  Output(ket1))) \n",
    "#CU gate - 0 classical bit control for 1 and 0 qubit inputs (Always null regardless of what U is)"
   ]
  },
  {
   "cell_type": "code",
   "execution_count": null,
   "metadata": {},
   "outputs": [],
   "source": [
    "# CONGRUENCIES"
   ]
  },
  {
   "cell_type": "code",
   "execution_count": null,
   "metadata": {},
   "outputs": [],
   "source": [
    "Circuit(ExprTuple(Input(ket0), MultiQubitGate(Z, Set(one, two)), Output(ket0)), \n",
    "    ExprTuple(Input(ket0), MultiQubitGate(CONTROL, Set(one, two)), \n",
    "              Output(ket0)), \n",
    "    ExprTuple(Input(ket0), MultiQubitGate(Z, Set(three, four)), Output(ket0)), \n",
    "    ExprTuple(Input(ket1), MultiQubitGate(CONTROL, Set(three, four)), \n",
    "                Output(ket1)),\n",
    "    ExprTuple(Input(ket1), MultiQubitGate(Z, Set(five, six)), Output(ket1)), \n",
    "    ExprTuple(Input(ket0), MultiQubitGate(CONTROL, Set(five, six)), \n",
    "              Output(ket0)), \n",
    "    ExprTuple(Input(ket1), MultiQubitGate(Z, Set(seven, eight)), Output(Neg(ket1))), \n",
    "    ExprTuple(Input(ket1), MultiQubitGate(CONTROL, Set(seven, eight)), \n",
    "              Output(ket1)))\n",
    "\n",
    "#Congruent to a regular CZ gate"
   ]
  },
  {
   "cell_type": "code",
   "execution_count": null,
   "metadata": {},
   "outputs": [],
   "source": [
    "Circuit(ExprTuple(Input(ket0), Gate(IdentityOp()), MultiQubitGate(CONTROL, Set(one, two)), Gate(IdentityOp()), Output(ket0)), \n",
    "        ExprTuple(Input(ket0), Gate(H), MultiQubitGate(Z, Set(one, two)), Gate(H), Output(ket0)),\n",
    "        ExprTuple(Input(ket0), Gate(IdentityOp()), MultiQubitGate(CONTROL, Set(three, four)), Gate(IdentityOp()), Output(ket0)), \n",
    "        ExprTuple(Input(ket1), Gate(H), MultiQubitGate(Z, Set(three, four)), Gate(H), Output(ket1)),\n",
    "        ExprTuple(Input(ket1), Gate(IdentityOp()), MultiQubitGate(CONTROL, Set(five, six)), Gate(IdentityOp()), Output(ket1)), \n",
    "        ExprTuple(Input(ket0), Gate(H), MultiQubitGate(Z, Set(five, six)), Gate(H), Output(ket1)),\n",
    "        ExprTuple(Input(ket1), Gate(IdentityOp()), MultiQubitGate(CONTROL, Set(seven, eight)), Gate(IdentityOp()), Output(ket1)), \n",
    "        ExprTuple(Input(ket1), Gate(H), MultiQubitGate(Z, Set(seven, eight)), Gate(H), Output(ket0)))\n",
    "# Congruent to a CX gate"
   ]
  },
  {
   "cell_type": "code",
   "execution_count": null,
   "metadata": {},
   "outputs": [],
   "source": [
    "Circuit(ExprTuple(Input(ket0), Gate(H), MultiQubitGate(CONTROL, Set(one, two)), Gate(H), Output(ket0)), \n",
    "        ExprTuple(Input(ket0), Gate(H), MultiQubitGate(Z, Set(one, two)), Gate(H), Output(ket0)),\n",
    "        ExprTuple(Input(ket0), Gate(H), MultiQubitGate(CONTROL, Set(three, four)), Gate(H), Output(ket0)), \n",
    "        ExprTuple(Input(ket1), Gate(H), MultiQubitGate(Z, Set(three, four)), Gate(H), Output(ket1)),\n",
    "        ExprTuple(Input(ket1), Gate(H), MultiQubitGate(CONTROL, Set(five, six)), Gate(H), Output(ket1)), \n",
    "        ExprTuple(Input(ket0), Gate(H), MultiQubitGate(Z, Set(five, six)), Gate(H), Output(ket1)),\n",
    "        ExprTuple(Input(ket1), Gate(H), MultiQubitGate(CONTROL, Set(seven, eight)), Gate(H), Output(ket1)), \n",
    "        ExprTuple(Input(ket1), Gate(H), MultiQubitGate(Z, Set(seven, eight)), Gate(H), Output(ket0)))\n",
    "# Intermediate step to show the congruence of a switched CX gate"
   ]
  },
  {
   "cell_type": "code",
   "execution_count": null,
   "metadata": {},
   "outputs": [],
   "source": [
    "Circuit(ExprTuple(Input(ket0), Gate(H), MultiQubitGate(Z, Set(one, two)), Gate(H), Output(ket0)), \n",
    "        ExprTuple(Input(ket0), Gate(H), MultiQubitGate(CONTROL, Set(one, two)), Gate(H), Output(ket0)),\n",
    "        ExprTuple(Input(ket0), Gate(H), MultiQubitGate(Z, Set(three, four)), Gate(H), Output(ket1)), \n",
    "        ExprTuple(Input(ket1), Gate(H), MultiQubitGate(CONTROL, Set(three, four)), Gate(H), Output(ket1)),\n",
    "        ExprTuple(Input(ket1), Gate(H), MultiQubitGate(Z, Set(five, six)), Gate(H), Output(ket1)), \n",
    "        ExprTuple(Input(ket0), Gate(H), MultiQubitGate(CONTROL, Set(five, six)), Gate(H), Output(ket0)),\n",
    "        ExprTuple(Input(ket1), Gate(H), MultiQubitGate(Z, Set(seven, eight)), Gate(H), Output(ket0)), \n",
    "        ExprTuple(Input(ket1), Gate(H), MultiQubitGate(CONTROL, Set(seven, eight)), Gate(H), Output(ket1)))\n",
    "# using cell 24 we can show that this is equivalent to cell 26"
   ]
  },
  {
   "cell_type": "code",
   "execution_count": null,
   "metadata": {},
   "outputs": [],
   "source": [
    "Circuit(ExprTuple(Input(ket0), Gate(H), MultiQubitGate(CONTROL, Set(one, two)), Gate(H), Output(ket0)), \n",
    "        ExprTuple(Input(ket0), Gate(IdentityOp()), MultiQubitGate(X, Set(one, two)), Gate(IdentityOp()), Output(ket0)),\n",
    "        ExprTuple(Input(ket0), Gate(H), MultiQubitGate(CONTROL, Set(three, four)), Gate(H), Output(ket0)), \n",
    "        ExprTuple(Input(ket1), Gate(IdentityOp()), MultiQubitGate(X, Set(three, four)), Gate(IdentityOp()), Output(ket1)),\n",
    "        ExprTuple(Input(ket1), Gate(H), MultiQubitGate(CONTROL, Set(five, six)), Gate(H), Output(ket1)), \n",
    "        ExprTuple(Input(ket0), Gate(IdentityOp()), MultiQubitGate(X, Set(five, six)), Gate(IdentityOp()), Output(ket1)),\n",
    "        ExprTuple(Input(ket1), Gate(H), MultiQubitGate(CONTROL, Set(seven, eight)), Gate(H), Output(ket1)), \n",
    "        ExprTuple(Input(ket1), Gate(IdentityOp()), MultiQubitGate(X, Set(seven, eight)), Gate(IdentityOp()), Output(ket0)))\n",
    "# using cell 26, we apply instantiation to return to the X gates"
   ]
  },
  {
   "cell_type": "code",
   "execution_count": null,
   "metadata": {},
   "outputs": [],
   "source": [
    "Circuit(ExprTuple(Input(ket0), Gate(IdentityOp()), MultiQubitGate(X, Set(one, two)), Gate(IdentityOp()), Output(ket0)), \n",
    "        ExprTuple(Input(ket0), Gate(H), MultiQubitGate(CONTROL, Set(one, two)), Gate(H), Output(ket0)),\n",
    "        ExprTuple(Input(ket0), Gate(IdentityOp()), MultiQubitGate(X, Set(three, four)), Gate(IdentityOp()), Output(ket1)), \n",
    "        ExprTuple(Input(ket1), Gate(H), MultiQubitGate(CONTROL, Set(three, four)), Gate(H), Output(ket1)),\n",
    "        ExprTuple(Input(ket1), Gate(IdentityOp()), MultiQubitGate(X, Set(five, six)), Gate(IdentityOp()), Output(ket1)), \n",
    "        ExprTuple(Input(ket0), Gate(H), MultiQubitGate(CONTROL, Set(five, six)), Gate(H), Output(ket0)),\n",
    "        ExprTuple(Input(ket1), Gate(IdentityOp()), MultiQubitGate(X, Set(seven, eight)), Gate(IdentityOp()), Output(ket0)), \n",
    "        ExprTuple(Input(ket1), Gate(H), MultiQubitGate(CONTROL, Set(seven, eight)), Gate(H), Output(ket1)))\n",
    "# using cell 27 we can show that cell 28 is congruent to this cell "
   ]
  },
  {
   "cell_type": "code",
   "execution_count": null,
   "metadata": {},
   "outputs": [],
   "source": [
    "try:\n",
    "    Circuit(ExprRange(i, ExprTuple(ExprRange(j, Aij, one, m)), one, q),\n",
    "         ExprTuple(ExprRange(j, Bij, one, m)),\n",
    "         ExprRange(i, ExprTuple(ExprRange(j, Cij, one, m)), one, s)).latex()\n",
    "    assert False, \"Expected a TypeError error.\"\n",
    "except TypeError as e:\n",
    "    print(\"Expected error:\", e)"
   ]
  },
  {
   "cell_type": "code",
   "execution_count": null,
   "metadata": {},
   "outputs": [],
   "source": [
    "%end demonstrations"
   ]
  },
  {
   "cell_type": "code",
   "execution_count": null,
   "metadata": {},
   "outputs": [],
   "source": []
  }
 ],
 "metadata": {
  "kernelspec": {
   "display_name": "Python 3",
   "language": "python",
   "name": "python3"
  },
  "language_info": {
   "codemirror_mode": {
    "name": "ipython",
    "version": 3
   },
   "file_extension": ".py",
   "mimetype": "text/x-python",
   "name": "python",
   "nbconvert_exporter": "python",
   "pygments_lexer": "ipython3",
   "version": "3.7.3"
  }
 },
 "nbformat": 4,
 "nbformat_minor": 1
}
