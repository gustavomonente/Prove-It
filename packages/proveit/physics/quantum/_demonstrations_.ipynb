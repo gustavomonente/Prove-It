{
 "cells": [
  {
   "cell_type": "markdown",
   "metadata": {},
   "source": [
    "Demonstrations for context <a class=\"ProveItLink\" href=\"_context_.ipynb\">proveit.physics.quantum</a>\n",
    "========"
   ]
  },
  {
   "cell_type": "code",
   "execution_count": null,
   "metadata": {},
   "outputs": [],
   "source": [
    "import proveit\n",
    "proveit.defaults.automation = False # prevents proveit from calling automations that are currently broken\n",
    "from proveit import ExprArray, ExprTuple\n",
    "from proveit._common_ import a, b\n",
    "from proveit.logic.set_theory import Set\n",
    "from proveit.number import Neg, zero, one, two, three, four, five, six, seven, eight, nine\n",
    "from proveit.physics.quantum.circuit import Gate, Target, Circuit, Input, Output, MultiQubitGate\n",
    "from proveit.physics.quantum._common_ import H, X, Z, I, ket1, ket0, ketPlus, ketMinus, PASS, CONTROL, CLASSICAL_CONTROL\n",
    "%begin demonstrations"
   ]
  },
  {
   "cell_type": "code",
   "execution_count": null,
   "metadata": {},
   "outputs": [],
   "source": [
    "Circuit(ExprTuple(Input(ket0), MultiQubitGate(Gate(CONTROL), Set(one, two), Output(ket0)), \n",
    "        ExprTuple(Input(ket0), MultiQubitGate(Gate(Z), Set(one, two)), \n",
    "                  Output(ket0)), \n",
    "        ExprTuple(Input(ket0), MultiQubitGate(Gate(Z), Set(one, two, three, four)), Output(ket0)), \n",
    "        ExprTuple(Input(ket1), MultiQubitGate(Gate(Z), Set(one, two, three, four)), \n",
    "                  Output(ket1)))"
   ]
  },
  {
   "cell_type": "code",
   "execution_count": null,
   "metadata": {},
   "outputs": [],
   "source": [
    "# Single Qubit Gates"
   ]
  },
  {
   "cell_type": "code",
   "execution_count": null,
   "metadata": {},
   "outputs": [],
   "source": [
    "Circuit(ExprTuple(Input(ket0), Gate(H), Output(ketPlus)), \n",
    "        ExprTuple(Input(ket1), Gate(H), Output(ketMinus)))\n",
    "# H gate (both inputs)"
   ]
  },
  {
   "cell_type": "code",
   "execution_count": null,
   "metadata": {},
   "outputs": [],
   "source": [
    "Circuit(ExprTuple(Input(ket0), Gate(X), Output(ket1)), \n",
    "        ExprTuple(Input(ket1), Gate(X), Output(ket0)))\n",
    "# X gate (both inputs)"
   ]
  },
  {
   "cell_type": "code",
   "execution_count": null,
   "metadata": {},
   "outputs": [],
   "source": [
    "Circuit(ExprTuple(Input(ket0), Gate(Z), Output(ket0)), \n",
    "        ExprTuple(Input(ket1), Gate(Z), Output(Neg(ket1))))\n",
    "# Z gate (both inputs)"
   ]
  },
  {
   "cell_type": "code",
   "execution_count": null,
   "metadata": {},
   "outputs": [],
   "source": [
    "#Two Qubit Gates"
   ]
  },
  {
   "cell_type": "code",
   "execution_count": null,
   "metadata": {},
   "outputs": [],
   "source": [
    "Circuit(ExprTuple(Input(ket0), MultiQubitGate(Gate(CONTROL), Set(one, two)), Output(ket0)), \n",
    "        ExprTuple(Input(ket0), MultiQubitGate(Gate(Z), Set(one, two)), \n",
    "                  Output(ket0)), \n",
    "        ExprTuple(Input(ket0), MultiQubitGate(Gate(CONTROL), Set(three, four)), Output(ket0)), \n",
    "        ExprTuple(Input(ket1), MultiQubitGate(Gate(Z), Set(three, four)), \n",
    "                  Output(ket1))) \n",
    "#CZ gate - 0 qubit control for 1 and 0 qubit inputs"
   ]
  },
  {
   "cell_type": "code",
   "execution_count": null,
   "metadata": {},
   "outputs": [],
   "source": [
    "Circuit(ExprTuple(Input(ket1), MultiQubitGate(Gate(CONTROL), Set(one, two)), Output(ket1)), \n",
    "        ExprTuple(Input(ket0), MultiQubitGate(Gate(Z), Set(one, two)), \n",
    "                  Output(ket0)), \n",
    "        ExprTuple(Input(ket1), MultiQubitGate(Gate(CONTROL), Set(three, four)), Output(ket1)), \n",
    "        ExprTuple(Input(ket1), MultiQubitGate(Gate(Z), Set(three, four)), \n",
    "                  Output(Neg(ket1)))) \n",
    "#CZ gate - 1 qubit control for 1 and 0 qubit inputs"
   ]
  },
  {
   "cell_type": "code",
   "execution_count": null,
   "metadata": {},
   "outputs": [],
   "source": [
    "Circuit(ExprTuple(Input(ket0), MultiQubitGate(Gate(CONTROL), Set(one, two)), Output(ket0)), \n",
    "        ExprTuple(Input(ket0), MultiQubitGate(Gate(X), Set(one, two)), Output(ket0)), \n",
    "        ExprTuple(Input(ket0), MultiQubitGate(Gate(CONTROL), Set(three, four)), Output(ket0)), \n",
    "        ExprTuple(Input(ket1), MultiQubitGate(Gate(X), Set(three, four)), Output(ket1))) \n",
    "#CX gate - 0 qubit control for 1 and 0 qubit inputs"
   ]
  },
  {
   "cell_type": "code",
   "execution_count": null,
   "metadata": {},
   "outputs": [],
   "source": [
    "Circuit(ExprTuple(Input(ket1), MultiQubitGate(Gate(CONTROL), Set(one, two)), Output(ket1)), \n",
    "        ExprTuple(Input(ket0), MultiQubitGate(Gate(X), Set(one, two)), Output(ket1)), \n",
    "        ExprTuple(Input(ket1), MultiQubitGate(Gate(CONTROL), Set(three, four)), Output(ket1)), \n",
    "        ExprTuple(Input(ket1), MultiQubitGate(Gate(X), Set(three, four)), Output(ket0))) \n",
    "#CX gate - 0 qubit control for 1 and 0 qubit inputs"
   ]
  },
  {
   "cell_type": "code",
   "execution_count": null,
   "metadata": {},
   "outputs": [],
   "source": [
    "Circuit(ExprTuple(Input(zero), MultiQubitGate(Gate(CLASSICAL_CONTROL), Set(one, two)), PASS), \n",
    "        ExprTuple(Input(ket0), MultiQubitGate(Gate(Z), Set(one, two)), \n",
    "                  Output(ket0)), \n",
    "        ExprTuple(Input(zero), MultiQubitGate(Gate(CLASSICAL_CONTROL), Set(three, four)), PASS), \n",
    "        ExprTuple(Input(ket1), MultiQubitGate(Gate(Z), Set(three, four)), \n",
    "                  Output(ket1))) \n",
    "#cZ gate - 0 classical bit control for 1 and 0 qubit inputs"
   ]
  },
  {
   "cell_type": "code",
   "execution_count": null,
   "metadata": {},
   "outputs": [],
   "source": [
    "Circuit(ExprTuple(Input(one), MultiQubitGate(Gate(CLASSICAL_CONTROL), Set(one, two)), PASS), \n",
    "        ExprTuple(Input(ket0), MultiQubitGate(Gate(Z), Set(one, two)), \n",
    "                  Output(ket0)), \n",
    "        ExprTuple(Input(one), MultiQubitGate(Gate(CLASSICAL_CONTROL), Set(three, four)), PASS), \n",
    "        ExprTuple(Input(ket1), MultiQubitGate(Gate(Z), Set(three, four)), \n",
    "                  Output(Neg(ket1))))\n",
    "#cZ gate - 1 classical bit control for 1 and 0 qubit inputs"
   ]
  },
  {
   "cell_type": "code",
   "execution_count": null,
   "metadata": {},
   "outputs": [],
   "source": [
    "Circuit(ExprTuple(Input(zero), MultiQubitGate(Gate(CLASSICAL_CONTROL), Set(one, two)), PASS), \n",
    "        ExprTuple(Input(ket0), MultiQubitGate(Gate(X), Set(one, two)), \n",
    "                  Output(ket0)), \n",
    "        ExprTuple(Input(zero), MultiQubitGate(Gate(CLASSICAL_CONTROL), Set(three, four)), PASS), \n",
    "        ExprTuple(Input(ket1), MultiQubitGate(Gate(X), Set(three, four)), \n",
    "                  Output(ket1))) \n",
    "#cX gate - 0 classical bit control for 1 and 0 qubit inputs"
   ]
  },
  {
   "cell_type": "code",
   "execution_count": null,
   "metadata": {},
   "outputs": [],
   "source": [
    "Circuit(ExprTuple(Input(one), MultiQubitGate(Gate(CLASSICAL_CONTROL), Set(one, two)), PASS), \n",
    "        ExprTuple(Input(ket0), MultiQubitGate(Gate(X), Set(one, two)), \n",
    "                  Output(ket1)), \n",
    "        ExprTuple(Input(one), MultiQubitGate(Gate(CLASSICAL_CONTROL), Set(three, four)), PASS), \n",
    "        ExprTuple(Input(ket1), MultiQubitGate(Gate(X), Set(three, four)), \n",
    "                  Output(ket0)))\n",
    "#cZ gate - 1 classical bit control for 1 and 0 qubit inputs"
   ]
  },
  {
   "cell_type": "code",
   "execution_count": null,
   "metadata": {},
   "outputs": [],
   "source": [
    "#NULL GATES"
   ]
  },
  {
   "cell_type": "code",
   "execution_count": null,
   "metadata": {},
   "outputs": [],
   "source": [
    "Circuit(ExprTuple(Input(ket0), Gate(H), Gate(H), Output(ket0)), \n",
    "        ExprTuple(Input(ket1), Gate(H), Gate(H), Output(ket1)))"
   ]
  },
  {
   "cell_type": "code",
   "execution_count": null,
   "metadata": {},
   "outputs": [],
   "source": [
    "Circuit(ExprTuple(Input(ket0), Gate(X), Gate(X), Output(ket0)), \n",
    "        ExprTuple(Input(ket1), Gate(X), Gate(X), Output(ket1)))"
   ]
  },
  {
   "cell_type": "code",
   "execution_count": null,
   "metadata": {},
   "outputs": [],
   "source": [
    "Circuit(ExprTuple(Input(ket0), Gate(Z), Gate(Z), Output(ket0)), \n",
    "        ExprTuple(Input(ket1), Gate(Z), Gate(Z), Output(ket1)))"
   ]
  },
  {
   "cell_type": "code",
   "execution_count": null,
   "metadata": {},
   "outputs": [],
   "source": [
    "Circuit(ExprTuple(Input(ket0), MultiQubitGate(Gate(CONTROL), Set(one, two)), MultiQubitGate(Gate(CONTROL), Set(one, two)), \n",
    "                  Output(ket0)), \n",
    "        ExprTuple(Input(ket0), MultiQubitGate(Gate(Z), Set(one, two)), MultiQubitGate(Gate(Z), Set(one, two)), Output(ket0)), \n",
    "        ExprTuple(Input(ket0), MultiQubitGate(Gate(CONTROL), Set(three, four)), MultiQubitGate(Gate(CONTROL), Set(three, four)), \n",
    "                  Output(ket0)), \n",
    "        ExprTuple(Input(ket1), MultiQubitGate(Gate(Z), Set(three, four)), MultiQubitGate(Gate(Z), Set(three, four)), \n",
    "                  Output(ket1)),\n",
    "        ExprTuple(Input(ket1), MultiQubitGate(Gate(CONTROL), Set(five, six)), MultiQubitGate(Gate(CONTROL), Set(five, six)),\n",
    "                  Output(ket1)),\n",
    "        ExprTuple(Input(ket0), MultiQubitGate(Gate(Z), Set(five, six)), MultiQubitGate(Gate(Z), Set(five, six)),\n",
    "                  Output(ket0)),\n",
    "        ExprTuple(Input(ket1), MultiQubitGate(Gate(CONTROL), Set(seven, eight)), MultiQubitGate(Gate(CONTROL), Set(seven, eight)), \n",
    "                  Output(ket1)), \n",
    "        ExprTuple(Input(ket1), MultiQubitGate(Gate(Z), Set(seven, eight)), MultiQubitGate(Gate(Z), Set(seven, eight)), \n",
    "                  Output(ket1))) \n",
    "#CZ gate - 0 qubit control for 1 and 0 qubit inputs"
   ]
  },
  {
   "cell_type": "code",
   "execution_count": null,
   "metadata": {},
   "outputs": [],
   "source": []
  },
  {
   "cell_type": "code",
   "execution_count": null,
   "metadata": {},
   "outputs": [],
   "source": [
    "%end demonstrations"
   ]
  }
 ],
 "metadata": {
  "kernelspec": {
   "display_name": "Python 3",
   "language": "python",
   "name": "python3"
  }
 },
 "nbformat": 4,
 "nbformat_minor": 0
}
