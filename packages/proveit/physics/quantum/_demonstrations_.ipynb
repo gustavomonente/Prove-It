{
 "cells": [
  {
   "cell_type": "markdown",
   "metadata": {},
   "source": [
    "Demonstrations for context <a class=\"ProveItLink\" href=\"_context_.ipynb\">proveit.physics.quantum</a>\n",
    "========"
   ]
  },
  {
   "cell_type": "code",
   "execution_count": 1,
   "metadata": {},
   "outputs": [],
   "source": [
    "import proveit\n",
    "#proveit.defaults.automation = False # prevents proveit from calling automations that are currently broken\n",
    "from proveit import ExprArray, ExprTuple, ExprRange, IndexedVar, varRange, Literal\n",
    "from proveit._common_ import A, B, C, D, E, F, G, K, M, Q, R, S, U, a, b, f, g, h, i, j, k, m, n, p, q, r, s, t, u, x, y \n",
    "from proveit.core_expr_types import Len\n",
    "from proveit.core_expr_types.expr_array._common_ import Aij, Bij, Cij, Dij, Eij, Qij, Rij, Sij\n",
    "from proveit.logic import Equals, Implies, InSet, Forall, And\n",
    "from proveit.logic.set_theory import Set\n",
    "\n",
    "from proveit.number import (Add, Neg, zero, one, two, three, four, five, six, seven, eight, nine, Naturals, \n",
    "                            NaturalsPos, Complexes)\n",
    "from proveit.number.numeral.deci import DecimalSequence\n",
    "from proveit.number.numeral.deci._theorems_ import posnat1, posnat4\n",
    "from proveit.physics.quantum.circuit import Gate, Target, Circuit, Input, Output, MultiQubitGate, IdentityOp, CircuitEquiv\n",
    "from proveit.physics.quantum._common_ import (H, X, Z, I, ket1, ket0, ketPlus, ketMinus, ket_psi, SPACE, CONTROL, \n",
    "                                              CLASSICAL_CONTROL, MES)\n",
    "from proveit.physics.quantum._theorems_ import single_time_equiv, time_equiv\n",
    "from proveit.physics.quantum.quantumOps import Ket\n",
    "%begin demonstrations"
   ]
  },
  {
   "cell_type": "code",
   "execution_count": 2,
   "metadata": {},
   "outputs": [],
   "source": [
    "from proveit.physics.quantum._theorems_ import time_equiv_judgement, unary_multiQubitGate_reduction"
   ]
  },
  {
   "cell_type": "code",
   "execution_count": 3,
   "metadata": {},
   "outputs": [
    {
     "data": {
      "text/html": [
       "<a class=\"ProveItLink\" href=\"__pv_it/692a06ab774225a2b5d3afc1c8a47fc78d37be550/expr.ipynb\"><img src=\"data:image/png;base64,iVBORw0KGgoAAAANSUhEUgAAAYYAAAAmCAMAAAD3NcyNAAAAM1BMVEX////f39+IiIgiIiIQEBB2\n",
       "dnbu7u5UVFTMzMzc3NwyMjK6urpmZmaYmJiqqqpEREQAAABvOxz2AAAAAXRSTlMAQObYZgAAAAlw\n",
       "SFlzAAAOxAAADsQBlSsOGwAAA+VJREFUaN7tW9mSqjAUzM2+J///tZMd7oBoYpShivPgWCoQTnef\n",
       "LQwAXaYNuG2eUUlHDtPszev6z9ulcOAjOBj57mU/76RrwQCM64cO0xuG2eZg7xGSgBuG2Sa86DvA\n",
       "enrDMN90Z1hCBNwwnC4HPkEMNwx72aGL3sz9ASeJpx9eDwaDuzxozocB2r1PFbw0DMKHu1o4bs1x\n",
       "TBJTYSDOe8n6zmmTfAVDHrm4WIe9hL/QuR4MAOmQqFWrRw99Yqbc3/okHr3c8yORW/8KoS+LhiWs\n",
       "rnrRC8Kgw33xOp8Qx7GfyckwcP9yarL5sDbQkvU0urjf6BNg2KpyNNT6FZOIPfwtZpNhgF710CUu\n",
       "oZ2lMqataenvv6mGjSrHzHoemFQ49oTtnkyGwb3usNyxqLpC5Qv1aFuTNGfAsFHlmPGYowFG0TD5\n",
       "QqG0dpLPXlWECUEgg+m9ExxCRgGFOrk6vFXMeRe/1qSRkJdY1PRE2BkwbFU5ZDT5VqebcvR5VTUT\n",
       "hkppAlycbtFYiBHAkI1FFNDA4lYXlNTQGI9qdFoywjL77YZBo5V1+XNHlYNegSnV1JeQr33MOcIh\n",
       "vSucmQVrpjRXALsEMwfCAsmS84XJ+SDXBSU1IFvJwzYktOgENeyoctArpAqBqHVNotQW+d5LPdmU\n",
       "KXE1xJ905sj7sIwENvH/QqiMDEkvdZiFVc1oRRYCrlhyAgw7qhyEIZ3AwpagC/HIgzQyUQ0trmbk\n",
       "86hEpbmVw+WdSHSjhQEVhkZCsjQ6Cn8fhj1VvgNDwMDAdU3yBRhaXC2BJzA8ahKl24tdJWqpQfmk\n",
       "GiBthWF7928EpeHcsKfKQTxLmrSleSjEo3AnRc+tlBqlQSrRoiTCXxlpAWMT4KJDnAOGAhJwsmLZ\n",
       "p6r7HutJyLKX+D017KlycKiUfStqb1ZSg+UPEZsFA/JtDfFiwdVGhIu4uNUaP4gPHyisIzaMZV60\n",
       "ojSBJdh6kRqeAcOkmNQijeNPUkMgrZ4Hg2DSe5avolCepBgbWaAg1Hl+xAi0gkGevjPLL/NYkOn/\n",
       "WYHE92HYU+WQbcqf/AAM3SO+dFPV8CBMH1cm/KGs0RmjvR1VDpn5vaGWCLffjGj8eRjQseLMw69X\n",
       "T7F9daa0UeWQbdlnQywwr0E2Hwb6rBpzD+S/Hg5fcb+hI7nQKRXrkZOs9PK4HKMPAuN6EHM9GGhX\n",
       "Eer0p9XwQmm3u2AjwJVhsF37mgafD8OfuMJs07JPO+qG4ROG+6I9kTcMHzDYG2Uwv2E4XQwznqu/\n",
       "YdiKod+p8u1e5f43k9+1H+4fhVAkwG1TewY00o0JSW/XzTQ3tn0g+O26mWKoPcAPnzMuniKVHOQA\n",
       "AAAASUVORK5CYII=\n",
       "\" style=\"display:inline;vertical-align:middle;\" /></a>"
      ],
      "text/plain": [
       "forall_{U} (Gate(Input(U)) = Input(U))"
      ]
     },
     "execution_count": 3,
     "metadata": {},
     "output_type": "execute_result"
    }
   ],
   "source": [
    "Forall(U, Equals(Gate(Input(U)), Input(U)))"
   ]
  },
  {
   "cell_type": "code",
   "execution_count": null,
   "metadata": {},
   "outputs": [],
   "source": [
    "Circuit(ExprArray(ExprTuple(Gate(Input(ket0))))).latex()"
   ]
  },
  {
   "cell_type": "code",
   "execution_count": 5,
   "metadata": {},
   "outputs": [
    {
     "data": {
      "text/html": [
       "<a class=\"ProveItLink\" href=\"__pv_it/ba7ea05c470ba10afa7c6203073c40f3debbf57c0/expr.ipynb\"><img src=\"data:image/png;base64,iVBORw0KGgoAAAANSUhEUgAAAIEAAAAVBAMAAACTeZA2AAAAMFBMVEX///+YmJhmZmbu7u4QEBCq\n",
       "qqrc3NxUVFQyMjJERES6urp2dnbMzMwiIiKIiIgAAACQ98LxAAAAAXRSTlMAQObYZgAAAAlwSFlz\n",
       "AAAOxAAADsQBlSsOGwAAAoFJREFUOMuVlMtrE1EUxr9k8k4zDUVcCNKIG1c6yy4DbhUHV4KLpisR\n",
       "0QZ0YdFiqKC7JuIiCEKycePCDBQFLT7+AwNWQWhwFERExDQ+ak2TeL5zkxF3yYSZ+c7Nvb9zz+MO\n",
       "vm5irMtuvdB3TH7mol2Q+wnGvNJ1fX0cCdyV+8GQ8HhwswC7tguc+nEb+DyoLq04seXeLSRPrFqt\n",
       "6vLbpZZvFkY9Jax/KOAkd+YO99DjI7ktj1dUv8U4ivQfkV9gX0SkiXjWEOZ0MwnXeoMM7euGMNWl\n",
       "ca8mUXk0++Krj0Rb9EHEgcUcQnVDOKCE/bJvpMU/ZgzBpjesNTykOGpLOHYX0xXRRSwAsy5sxxDy\n",
       "SqgC806M/0ccJSTpDblMHmlnaCZ30fABy4MsvOYgahKYKimhAzRc3JCBRFYJ0yUlhLYQpqBzWf5c\n",
       "yhVSx8eDWoQ9CouELE5ztKgEemMAPaQ596WPc6+BDa7QFugEBHEpItbVSUxlqKQEemMAR+r3Offb\n",
       "lfV9EgBLE6cd+hkQMm5A8BCWkWhTCWUYd4uVNaqaNkx0Sx4XqOLfA0KkrlF0dd9TRalbWwk7OkPS\n",
       "9ys3bAfaUhE8opJ2+J/ATM677C6k8iSk+toOIjpe0B1It7WY0HYI8qBR4I5U2EGiMIpCvYEBvKsH\n",
       "3YGo7D3Ok8N2GBGSvoo9wCHgLHNUISFDbxa3Osup2otyrSB2VUXNCQhSPIqMax0DHjJ7vhDOlLc9\n",
       "WJd6rkl9vLzjmzCqh/V1eVD1R4RUU4X17JOUjz4zhUlP92ZwzBFles5P/H2Y+UdIFsxJm5Agy0aE\n",
       "ObZrZWKCVQkI7wmUJD8d9zu5YRYuwDYfTPBw7wX+AtTzzmQ7+QxlAAAAAElFTkSuQmCC\n",
       "\" style=\"display:inline;vertical-align:middle;\" /></a>"
      ],
      "text/plain": [
       "[INPUT](|0〉)"
      ]
     },
     "execution_count": 5,
     "metadata": {},
     "output_type": "execute_result"
    }
   ],
   "source": [
    "Input(ket0)"
   ]
  },
  {
   "cell_type": "code",
   "execution_count": 6,
   "metadata": {},
   "outputs": [
    {
     "data": {
      "text/html": [
       "<a class=\"ProveItLink\" href=\"__pv_it/e5bbe5e1bd45864b37d21a9ab6ac3ea98479cc450/expr.ipynb\"><img src=\"data:image/png;base64,iVBORw0KGgoAAAANSUhEUgAAAJQAAAAzCAMAAABG+9GwAAAAM1BMVEX////f399mZmaqqqqYmJgQ\n",
       "EBDu7u66urqIiIjMzMwiIiLc3NxUVFQyMjJERER2dnYAAAB5XhPkAAAAAXRSTlMAQObYZgAAAAlw\n",
       "SFlzAAAOxAAADsQBlSsOGwAAAqZJREFUWMPtmOty4yAMhVnuRgL0/k+73B27TuzuTMbMrPnR0iRF\n",
       "H0dHAoexg0E3D3YIxW4dD9QD9UB9d1i3zAYFzsNsSoHC+dKHpOeDcn5Co3/K3gN1NxScvXYDlBUH\n",
       "Lxr7EQr8dagYiDzCr5hEzEHQkQsyzYIib3eoP6E8/UYpchdZtKvsuu05kmnCxRZXv4cS9BuoheJV\n",
       "gdq/cbnbO28wkr+H4khwHcr2/Z4O3hRSfZXQ2/dA0e+gIkRarkOFy653VVLT2Aw1Z+shtZcjwhYK\n",
       "bNq8uA5FJYaJCBAt2jIPsFiLmmnLS+A0NRgolLd57JZqW5dD6thRDMmtyDn58jJU229kIaSJzomP\n",
       "DJ3IdZnWEjlXkl4t1eVwao3Yhuxl77dHnxEb7563hLLfxTCVHQLpLxDMY0EBWX2E/tVSrqZBjwyt\n",
       "mRK1kHXwei9UWhrX8CdPg7WEUqaK37Mmab2S/kh/kmGzjuVHtxRTptWiHH5ZK7noouyu1wbOU/WF\n",
       "y0r1j9bkYKgp1aUnthkUMXWv0gY1LBXXzmtU7d18I5S2u354BjVKqKYo7T6tF12BSKJzNyxlqCia\n",
       "tBUN6kf2evpYVMsuea8ePIUa+1WxyZV++7yMzU0n5IghMKlZTNQiixJsk7bK8XpEydG51IvL9732\n",
       "FMq1aU1RCiwhaZTWXspmOeac8EyK2PLQ676gA2406WaCtf5BjYYIV6AAPREW/5oiPAQpsgbGWl5W\n",
       "0BitALRLea8GMm6c5ci3lnZDNdVypvN5nyUVeRL//erCT07ot89z4L53n3L8M5R89z6XX4PSJE4O\n",
       "wXB8/YLwtZun8OTlycUqHLPqW6/DcEQt4XmaeaC++V1CmBDKz/gFRySYD0o7p6eDSg1Wyemg0tGA\n",
       "y3xQ83nqgfrvoG4efwHPQS1a4PYYkQAAAABJRU5ErkJggg==\n",
       "\" style=\"display:inline;vertical-align:middle;\" /></a>"
      ],
      "text/plain": [
       "MultiQubitGate(Input(U), A)"
      ]
     },
     "execution_count": 6,
     "metadata": {},
     "output_type": "execute_result"
    }
   ],
   "source": [
    "MultiQubitGate(Input(U), A)"
   ]
  },
  {
   "cell_type": "code",
   "execution_count": 7,
   "metadata": {},
   "outputs": [
    {
     "data": {
      "text/html": [
       "<span style=\"font-size:20px;\"> <a class=\"ProveItLink\" href=\"__pv_it/8c080ce8d255e667e5695ec81a495a482e2c40670/proof.ipynb\" style=\"text-decoration: none\">&#x22A2;&nbsp;</a><a class=\"ProveItLink\" href=\"__pv_it/22772da3c3b7e3b10d242b7c6da7021b02c262b90/expr.ipynb\"><img src=\"data:image/png;base64,iVBORw0KGgoAAAANSUhEUgAAAJsAAAAVBAMAAACj9YEXAAAAMFBMVEX///9UVFREREQiIiKYmJgQ\n",
       "EBAyMjJmZmaqqqru7u7MzMyIiIi6urp2dnbc3NwAAAC+adfGAAAAAXRSTlMAQObYZgAAAAlwSFlz\n",
       "AAAOxAAADsQBlSsOGwAAAWlJREFUOMullb9KA0EQxj/04v1Z98gLCCmsLOTAF0griqQXJE8gwZRa\n",
       "XCMBMXCF2KRJOssrRNFCr7H2sIqQYrHKK9iIs7u5bSyE2YWB3ea3szPfNwuF1UrAW6nbTSkWzWFt\n",
       "ysPJqtntOJwAooEXrgRGDicpMi9cDaw73IRi7oOLKTuZN7grii8fXESVTzsNjlLFhvLA6WrhVOPi\n",
       "xxK16COqubjJOeEegLHGyagXd8X3v70I98xq/8XVl7jBa6F7scAyzAKFHnDBzC7NhzhCiy6sCFe0\n",
       "Sno5qW7GxMU4puKHZKy2bsW7kqbRY27tNn8IR1qj6hNuiCVkYRrDq12YpTk+jTYId4Z9XFvZ8LIL\n",
       "O0ERVUa5hHtTdVBZUTMfeyJxaH1FuGRr+wXWckwZzz4OlHW9dkVi8hp5mOzOGG1gcaLQp10P3JOZ\n",
       "mMrijOHivgfO+PN2NaCEmaBdD1ypd/cUz264M/8K4T4FEtovjFpkIHocflwAAAAASUVORK5CYII=\n",
       "\" style=\"display:inline;vertical-align:middle;\" /></a></span>"
      ],
      "text/plain": [
       "|- Input(|psi〉) = Input(|psi〉)"
      ]
     },
     "execution_count": 7,
     "metadata": {},
     "output_type": "execute_result"
    }
   ],
   "source": [
    "unary_multiQubitGate_reduction.specialize({U: Input(ket_psi), A: one}, assumptions=[])"
   ]
  },
  {
   "cell_type": "code",
   "execution_count": 8,
   "metadata": {},
   "outputs": [
    {
     "name": "stdout",
     "output_type": "stream",
     "text": [
      "Unable to use 'dvipng' backend to compile LaTeX.  Be sure a LaTeX distribution is installed.\n"
     ]
    },
    {
     "data": {
      "text/plain": [
       "assumptions:  Gate(H)  & Gate(H) equiv  [I]  & --"
      ]
     },
     "execution_count": 8,
     "metadata": {},
     "output_type": "execute_result"
    }
   ],
   "source": [
    "# Defining assumptions\n",
    "assumptions= CircuitEquiv(\n",
    "                    Circuit(ExprArray(ExprTuple(Gate(H), Gate(H)))),\n",
    "                    Circuit(ExprArray(ExprTuple(IdentityOp().withStyles(gate='explicit'), IdentityOp()))))"
   ]
  },
  {
   "cell_type": "code",
   "execution_count": null,
   "metadata": {},
   "outputs": [],
   "source": []
  },
  {
   "cell_type": "code",
   "execution_count": 9,
   "metadata": {},
   "outputs": [
    {
     "ename": "Exception",
     "evalue": "Unable to use 'dvipng' backend to compile LaTeX.  Be sure a LaTeX distribution is installed.",
     "output_type": "error",
     "traceback": [
      "\u001b[1;31m---------------------------------------------------------------------------\u001b[0m",
      "\u001b[1;31mException\u001b[0m                                 Traceback (most recent call last)",
      "\u001b[1;32m~\\Anaconda3\\lib\\site-packages\\IPython\\core\\formatters.py\u001b[0m in \u001b[0;36m__call__\u001b[1;34m(self, obj)\u001b[0m\n\u001b[0;32m    343\u001b[0m             \u001b[0mmethod\u001b[0m \u001b[1;33m=\u001b[0m \u001b[0mget_real_method\u001b[0m\u001b[1;33m(\u001b[0m\u001b[0mobj\u001b[0m\u001b[1;33m,\u001b[0m \u001b[0mself\u001b[0m\u001b[1;33m.\u001b[0m\u001b[0mprint_method\u001b[0m\u001b[1;33m)\u001b[0m\u001b[1;33m\u001b[0m\u001b[1;33m\u001b[0m\u001b[0m\n\u001b[0;32m    344\u001b[0m             \u001b[1;32mif\u001b[0m \u001b[0mmethod\u001b[0m \u001b[1;32mis\u001b[0m \u001b[1;32mnot\u001b[0m \u001b[1;32mNone\u001b[0m\u001b[1;33m:\u001b[0m\u001b[1;33m\u001b[0m\u001b[1;33m\u001b[0m\u001b[0m\n\u001b[1;32m--> 345\u001b[1;33m                 \u001b[1;32mreturn\u001b[0m \u001b[0mmethod\u001b[0m\u001b[1;33m(\u001b[0m\u001b[1;33m)\u001b[0m\u001b[1;33m\u001b[0m\u001b[1;33m\u001b[0m\u001b[0m\n\u001b[0m\u001b[0;32m    346\u001b[0m             \u001b[1;32mreturn\u001b[0m \u001b[1;32mNone\u001b[0m\u001b[1;33m\u001b[0m\u001b[1;33m\u001b[0m\u001b[0m\n\u001b[0;32m    347\u001b[0m         \u001b[1;32melse\u001b[0m\u001b[1;33m:\u001b[0m\u001b[1;33m\u001b[0m\u001b[1;33m\u001b[0m\u001b[0m\n",
      "\u001b[1;32mc:\\users\\joaqu\\prove-it\\packages\\proveit\\_core_\\proof.py\u001b[0m in \u001b[0;36m_repr_html_\u001b[1;34m(self)\u001b[0m\n\u001b[0;32m    404\u001b[0m                               in enumerate(proof.requiredProofs))\n\u001b[0;32m    405\u001b[0m             \u001b[0mhtml\u001b[0m \u001b[1;33m+=\u001b[0m \u001b[1;34m'<td>%s</td><td>%s</td>'\u001b[0m\u001b[1;33m%\u001b[0m\u001b[1;33m(\u001b[0m\u001b[0mproof\u001b[0m\u001b[1;33m.\u001b[0m\u001b[0mstepType\u001b[0m\u001b[1;33m(\u001b[0m\u001b[1;33m)\u001b[0m\u001b[1;33m,\u001b[0m \u001b[0mrequiredProofNums\u001b[0m\u001b[1;33m)\u001b[0m\u001b[1;33m\u001b[0m\u001b[1;33m\u001b[0m\u001b[0m\n\u001b[1;32m--> 406\u001b[1;33m             \u001b[0mhtml\u001b[0m \u001b[1;33m+=\u001b[0m \u001b[1;34m'<td>%s</td>'\u001b[0m\u001b[1;33m%\u001b[0m\u001b[0mproof\u001b[0m\u001b[1;33m.\u001b[0m\u001b[0mprovenTruth\u001b[0m\u001b[1;33m.\u001b[0m\u001b[0m_repr_html_\u001b[0m\u001b[1;33m(\u001b[0m\u001b[1;33m)\u001b[0m\u001b[1;33m\u001b[0m\u001b[1;33m\u001b[0m\u001b[0m\n\u001b[0m\u001b[0;32m    407\u001b[0m             \u001b[0mhtml\u001b[0m \u001b[1;33m+=\u001b[0m \u001b[1;34m'</tr>\\n'\u001b[0m\u001b[1;33m\u001b[0m\u001b[1;33m\u001b[0m\u001b[0m\n\u001b[0;32m    408\u001b[0m             \u001b[1;32mif\u001b[0m \u001b[0mproof\u001b[0m\u001b[1;33m.\u001b[0m\u001b[0mstepType\u001b[0m\u001b[1;33m(\u001b[0m\u001b[1;33m)\u001b[0m\u001b[1;33m==\u001b[0m\u001b[1;34m'instantiation'\u001b[0m\u001b[1;33m:\u001b[0m\u001b[1;33m\u001b[0m\u001b[1;33m\u001b[0m\u001b[0m\n",
      "\u001b[1;32mc:\\users\\joaqu\\prove-it\\packages\\proveit\\_core_\\known_truth.py\u001b[0m in \u001b[0;36m_repr_html_\u001b[1;34m(self)\u001b[0m\n\u001b[0;32m   1065\u001b[0m         \u001b[1;32mif\u001b[0m \u001b[0mproof\u001b[0m \u001b[1;32mis\u001b[0m \u001b[1;32mnot\u001b[0m \u001b[1;32mNone\u001b[0m\u001b[1;33m:\u001b[0m\u001b[1;33m\u001b[0m\u001b[1;33m\u001b[0m\u001b[0m\n\u001b[0;32m   1066\u001b[0m             \u001b[0mhtml\u001b[0m \u001b[1;33m+=\u001b[0m \u001b[1;34m'</a>'\u001b[0m\u001b[1;33m\u001b[0m\u001b[1;33m\u001b[0m\u001b[0m\n\u001b[1;32m-> 1067\u001b[1;33m         \u001b[0mhtml\u001b[0m \u001b[1;33m+=\u001b[0m \u001b[0mself\u001b[0m\u001b[1;33m.\u001b[0m\u001b[0mexpr\u001b[0m\u001b[1;33m.\u001b[0m\u001b[0m_repr_html_\u001b[0m\u001b[1;33m(\u001b[0m\u001b[1;33m)\u001b[0m\u001b[1;33m\u001b[0m\u001b[1;33m\u001b[0m\u001b[0m\n\u001b[0m\u001b[0;32m   1068\u001b[0m         \u001b[0mhtml\u001b[0m \u001b[1;33m+=\u001b[0m \u001b[1;34m'</span>'\u001b[0m\u001b[1;33m\u001b[0m\u001b[1;33m\u001b[0m\u001b[0m\n\u001b[0;32m   1069\u001b[0m         \u001b[1;32mreturn\u001b[0m \u001b[0mhtml\u001b[0m\u001b[1;33m\u001b[0m\u001b[1;33m\u001b[0m\u001b[0m\n",
      "\u001b[1;32mc:\\users\\joaqu\\prove-it\\packages\\proveit\\_core_\\expression\\expr.py\u001b[0m in \u001b[0;36m_repr_html_\u001b[1;34m(self, context, unofficialNameKindContext)\u001b[0m\n\u001b[0;32m   1046\u001b[0m             \u001b[0mcontext\u001b[0m \u001b[1;33m=\u001b[0m \u001b[0mContext\u001b[0m\u001b[1;33m(\u001b[0m\u001b[1;33m)\u001b[0m\u001b[1;33m\u001b[0m\u001b[1;33m\u001b[0m\u001b[0m\n\u001b[0;32m   1047\u001b[0m         \u001b[1;32mif\u001b[0m \u001b[1;32mnot\u001b[0m \u001b[0mhasattr\u001b[0m\u001b[1;33m(\u001b[0m\u001b[0mself\u001b[0m\u001b[1;33m.\u001b[0m\u001b[0m_styleData\u001b[0m\u001b[1;33m,\u001b[0m\u001b[1;34m'png'\u001b[0m\u001b[1;33m)\u001b[0m\u001b[1;33m:\u001b[0m\u001b[1;33m\u001b[0m\u001b[1;33m\u001b[0m\u001b[0m\n\u001b[1;32m-> 1048\u001b[1;33m             \u001b[0mself\u001b[0m\u001b[1;33m.\u001b[0m\u001b[0m_styleData\u001b[0m\u001b[1;33m.\u001b[0m\u001b[0mpng\u001b[0m\u001b[1;33m,\u001b[0m \u001b[0mpng_url\u001b[0m \u001b[1;33m=\u001b[0m \u001b[0mcontext\u001b[0m\u001b[1;33m.\u001b[0m\u001b[0m_stored_png\u001b[0m\u001b[1;33m(\u001b[0m\u001b[0mself\u001b[0m\u001b[1;33m,\u001b[0m \u001b[0mself\u001b[0m\u001b[1;33m.\u001b[0m\u001b[0mlatex\u001b[0m\u001b[1;33m(\u001b[0m\u001b[1;33m)\u001b[0m\u001b[1;33m,\u001b[0m \u001b[0mself\u001b[0m\u001b[1;33m.\u001b[0m\u001b[0m_config_latex_tool\u001b[0m\u001b[1;33m)\u001b[0m\u001b[1;33m\u001b[0m\u001b[1;33m\u001b[0m\u001b[0m\n\u001b[0m\u001b[0;32m   1049\u001b[0m             \u001b[0mself\u001b[0m\u001b[1;33m.\u001b[0m\u001b[0m_styleData\u001b[0m\u001b[1;33m.\u001b[0m\u001b[0mpng_url\u001b[0m \u001b[1;33m=\u001b[0m \u001b[0mpng_url\u001b[0m\u001b[1;33m\u001b[0m\u001b[1;33m\u001b[0m\u001b[0m\n\u001b[0;32m   1050\u001b[0m         \u001b[1;32mif\u001b[0m \u001b[0mself\u001b[0m\u001b[1;33m.\u001b[0m\u001b[0m_styleData\u001b[0m\u001b[1;33m.\u001b[0m\u001b[0mpng_url\u001b[0m \u001b[1;32mis\u001b[0m \u001b[1;32mnot\u001b[0m \u001b[1;32mNone\u001b[0m\u001b[1;33m:\u001b[0m\u001b[1;33m\u001b[0m\u001b[1;33m\u001b[0m\u001b[0m\n",
      "\u001b[1;32mc:\\users\\joaqu\\prove-it\\packages\\proveit\\_core_\\context.py\u001b[0m in \u001b[0;36m_stored_png\u001b[1;34m(self, expr, latex, configLatexToolFn)\u001b[0m\n\u001b[0;32m    424\u001b[0m         \u001b[0mReturn\u001b[0m \u001b[0mthe\u001b[0m \u001b[0mpng\u001b[0m \u001b[0mdata\u001b[0m \u001b[1;32mand\u001b[0m \u001b[0mpath\u001b[0m \u001b[0mwhere\u001b[0m \u001b[0mthe\u001b[0m \u001b[0mpng\u001b[0m \u001b[1;32mis\u001b[0m \u001b[0mstored\u001b[0m \u001b[1;32mas\u001b[0m \u001b[0ma\u001b[0m \u001b[0mtuple\u001b[0m\u001b[1;33m.\u001b[0m\u001b[1;33m\u001b[0m\u001b[1;33m\u001b[0m\u001b[0m\n\u001b[0;32m    425\u001b[0m         '''\n\u001b[1;32m--> 426\u001b[1;33m         \u001b[1;32mreturn\u001b[0m \u001b[0mself\u001b[0m\u001b[1;33m.\u001b[0m\u001b[0m_storage\u001b[0m\u001b[1;33m.\u001b[0m\u001b[0mretrieve_png\u001b[0m\u001b[1;33m(\u001b[0m\u001b[0mexpr\u001b[0m\u001b[1;33m,\u001b[0m \u001b[0mlatex\u001b[0m\u001b[1;33m,\u001b[0m \u001b[0mconfigLatexToolFn\u001b[0m\u001b[1;33m)\u001b[0m\u001b[1;33m\u001b[0m\u001b[1;33m\u001b[0m\u001b[0m\n\u001b[0m\u001b[0;32m    427\u001b[0m \u001b[1;33m\u001b[0m\u001b[0m\n\u001b[0;32m    428\u001b[0m     \u001b[1;32mdef\u001b[0m \u001b[0mclean\u001b[0m\u001b[1;33m(\u001b[0m\u001b[0mself\u001b[0m\u001b[1;33m)\u001b[0m\u001b[1;33m:\u001b[0m\u001b[1;33m\u001b[0m\u001b[1;33m\u001b[0m\u001b[0m\n",
      "\u001b[1;32mc:\\users\\joaqu\\prove-it\\packages\\proveit\\_core_\\_context_storage.py\u001b[0m in \u001b[0;36mretrieve_png\u001b[1;34m(self, expr, latex, configLatexToolFn)\u001b[0m\n\u001b[0;32m    578\u001b[0m             \u001b[0mlatex_file\u001b[0m\u001b[1;33m.\u001b[0m\u001b[0mwrite\u001b[0m\u001b[1;33m(\u001b[0m\u001b[0mlatex\u001b[0m\u001b[1;33m.\u001b[0m\u001b[0mencode\u001b[0m\u001b[1;33m(\u001b[0m\u001b[1;34m'ascii'\u001b[0m\u001b[1;33m)\u001b[0m\u001b[1;33m)\u001b[0m\u001b[1;33m\u001b[0m\u001b[1;33m\u001b[0m\u001b[0m\n\u001b[0;32m    579\u001b[0m         \u001b[1;31m# generate, store and return the png file\u001b[0m\u001b[1;33m\u001b[0m\u001b[1;33m\u001b[0m\u001b[1;33m\u001b[0m\u001b[0m\n\u001b[1;32m--> 580\u001b[1;33m         \u001b[0mpng\u001b[0m \u001b[1;33m=\u001b[0m \u001b[0mself\u001b[0m\u001b[1;33m.\u001b[0m\u001b[0m_generate_png\u001b[0m\u001b[1;33m(\u001b[0m\u001b[0mlatex\u001b[0m\u001b[1;33m,\u001b[0m \u001b[0mconfigLatexToolFn\u001b[0m\u001b[1;33m)\u001b[0m\u001b[1;33m\u001b[0m\u001b[1;33m\u001b[0m\u001b[0m\n\u001b[0m\u001b[0;32m    581\u001b[0m         \u001b[1;32mwith\u001b[0m \u001b[0mopen\u001b[0m\u001b[1;33m(\u001b[0m\u001b[0mpng_path\u001b[0m\u001b[1;33m,\u001b[0m \u001b[1;34m'wb'\u001b[0m\u001b[1;33m)\u001b[0m \u001b[1;32mas\u001b[0m \u001b[0mpng_file\u001b[0m\u001b[1;33m:\u001b[0m\u001b[1;33m\u001b[0m\u001b[1;33m\u001b[0m\u001b[0m\n\u001b[0;32m    582\u001b[0m             \u001b[0mpng_file\u001b[0m\u001b[1;33m.\u001b[0m\u001b[0mwrite\u001b[0m\u001b[1;33m(\u001b[0m\u001b[0mpng\u001b[0m\u001b[1;33m)\u001b[0m\u001b[1;33m\u001b[0m\u001b[1;33m\u001b[0m\u001b[0m\n",
      "\u001b[1;32mc:\\users\\joaqu\\prove-it\\packages\\proveit\\_core_\\_context_storage.py\u001b[0m in \u001b[0;36m_generate_png\u001b[1;34m(self, latex, configLatexToolFn)\u001b[0m\n\u001b[0;32m    595\u001b[0m         \u001b[0mpng\u001b[0m \u001b[1;33m=\u001b[0m \u001b[0mlatex_to_png\u001b[0m\u001b[1;33m(\u001b[0m\u001b[0mlatex\u001b[0m\u001b[1;33m,\u001b[0m \u001b[0mbackend\u001b[0m\u001b[1;33m=\u001b[0m\u001b[1;34m'dvipng'\u001b[0m\u001b[1;33m,\u001b[0m \u001b[0mwrap\u001b[0m\u001b[1;33m=\u001b[0m\u001b[1;32mTrue\u001b[0m\u001b[1;33m)\u001b[0m \u001b[1;31m# the 'matplotlib' backend can do some BAD rendering in my experience (like \\lnot rendering as lnot in some contexts)\u001b[0m\u001b[1;33m\u001b[0m\u001b[1;33m\u001b[0m\u001b[0m\n\u001b[0;32m    596\u001b[0m         \u001b[1;32mif\u001b[0m \u001b[0mpng\u001b[0m \u001b[1;32mis\u001b[0m \u001b[1;32mNone\u001b[0m\u001b[1;33m:\u001b[0m\u001b[1;33m\u001b[0m\u001b[1;33m\u001b[0m\u001b[0m\n\u001b[1;32m--> 597\u001b[1;33m             \u001b[1;32mraise\u001b[0m \u001b[0mException\u001b[0m\u001b[1;33m(\u001b[0m\u001b[1;34m\"Unable to use 'dvipng' backend to compile LaTeX.  Be sure a LaTeX distribution is installed.\"\u001b[0m\u001b[1;33m)\u001b[0m\u001b[1;33m\u001b[0m\u001b[1;33m\u001b[0m\u001b[0m\n\u001b[0m\u001b[0;32m    598\u001b[0m         \u001b[1;32mreturn\u001b[0m \u001b[0mpng\u001b[0m\u001b[1;33m\u001b[0m\u001b[1;33m\u001b[0m\u001b[0m\n\u001b[0;32m    599\u001b[0m \u001b[1;33m\u001b[0m\u001b[0m\n",
      "\u001b[1;31mException\u001b[0m: Unable to use 'dvipng' backend to compile LaTeX.  Be sure a LaTeX distribution is installed."
     ]
    },
    {
     "data": {
      "text/plain": [
       "\tstep type\trequirements\tstatement\n",
       "0\tinstantiation\t1, 2, 3, 4, 5\t{h in NaturalsPos, k in NaturalsPos, m in NaturalsPos, n in NaturalsPos} |- forall_{A_{1, 1}, ..A_{1, _b}.., A_{1, k}, ....A_{_a, 1}, ..A_{_a, _b}.., A_{_a, k}...., A_{m, 1}, ..A_{m, _b}.., A_{m, k}, B_{1, 1}, ..B_{1, _b}.., B_{1, n}, ....B_{_a, 1}, ..B_{_a, _b}.., B_{_a, n}...., B_{m, 1}, ..B_{m, _b}.., B_{m, n}, C_{1, 1}, ..C_{1, _b}.., C_{1, h}, ....C_{_a, 1}, ..C_{_a, _b}.., C_{_a, h}...., C_{m, 1}, ..C_{m, _b}.., C_{m, h}, D_{1, 1}, ..D_{1, _b}.., D_{1, n}, ....D_{_a, 1}, ..D_{_a, _b}.., D_{_a, n}...., D_{m, 1}, ..D_{m, _b}.., D_{m, n}, S_{1, 1}, ..S_{1, _b}.., S_{1, n}, ....S_{_a, 1}, ..S_{_a, _b}.., S_{_a, n}...., S_{m, 1}, ..S_{m, _b}.., S_{m, n}, R_{1, 1}, ..R_{1, _b}.., R_{1, k}, ....R_{_a, 1}, ..R_{_a, _b}.., R_{_a, k}...., R_{m, 1}, ..R_{m, _b}.., R_{m, k}, Q_{1, 1}, ..Q_{1, _b}.., Q_{1, h}, ....Q_{_a, 1}, ..Q_{_a, _b}.., Q_{_a, h}...., Q_{m, 1}, ..Q_{m, _b}.., Q_{m, h}} ((( MultiQubitGate(B_{1, 1}, S_{1, 1})  & ..MultiQubitGate(B_{1, j}, S_{1, j})..  & MultiQubitGate(B_{1, n}, S_{1, n})   \\\\ \n",
       "   \\colon  & \\colon  & \\colon   \\\\ \n",
       "   MultiQubitGate(B_{i, 1}, S_{i, 1})  & ..MultiQubitGate(B_{i, j}, S_{i, j})..  & MultiQubitGate(B_{i, n}, S_{i, n})   \\\\ \n",
       "   \\colon  & \\colon  & \\colon   \\\\ \n",
       "   MultiQubitGate(B_{m, 1}, S_{m, 1})  & ..MultiQubitGate(B_{m, j}, S_{m, j})..  & MultiQubitGate(B_{m, n}, S_{m, n}) equiv  MultiQubitGate(D_{1, 1}, S_{1, 1})  & ..MultiQubitGate(D_{1, j}, S_{1, j})..  & MultiQubitGate(D_{1, n}, S_{1, n})   \\\\ \n",
       "   \\colon  & \\colon  & \\colon   \\\\ \n",
       "   MultiQubitGate(D_{i, 1}, S_{i, 1})  & ..MultiQubitGate(D_{i, j}, S_{i, j})..  & MultiQubitGate(D_{i, n}, S_{i, n})   \\\\ \n",
       "   \\colon  & \\colon  & \\colon   \\\\ \n",
       "   MultiQubitGate(D_{m, 1}, S_{m, 1})  & ..MultiQubitGate(D_{m, j}, S_{m, j})..  & MultiQubitGate(D_{m, n}, S_{m, n})) and  MultiQubitGate(A_{1, 1}, R_{1, 1})  & ..MultiQubitGate(A_{1, j}, R_{1, j})..  & MultiQubitGate(A_{1, k}, R_{1, k})  & MultiQubitGate(B_{1, 1}, S_{1, 1})  & ..MultiQubitGate(B_{1, j}, S_{1, j})..  & MultiQubitGate(B_{1, n}, S_{1, n})  & MultiQubitGate(C_{1, 1}, Q_{1, 1})  & ..MultiQubitGate(C_{1, j}, Q_{1, j})..  & MultiQubitGate(C_{1, h}, Q_{1, h})   \\\\ \n",
       "   \\colon  & \\colon  & \\colon  & \\colon  & \\colon  & \\colon  & \\colon  & \\colon  & \\colon   \\\\ \n",
       "   MultiQubitGate(A_{i, 1}, R_{i, 1})  & ..MultiQubitGate(A_{i, j}, R_{i, j})..  & MultiQubitGate(A_{i, k}, R_{i, k})  & MultiQubitGate(B_{i, 1}, S_{i, 1})  & ..MultiQubitGate(B_{i, j}, S_{i, j})..  & MultiQubitGate(B_{i, n}, S_{i, n})  & MultiQubitGate(C_{i, 1}, Q_{i, 1})  & ..MultiQubitGate(C_{i, j}, Q_{i, j})..  & MultiQubitGate(C_{i, h}, Q_{i, h})   \\\\ \n",
       "   \\colon  & \\colon  & \\colon  & \\colon  & \\colon  & \\colon  & \\colon  & \\colon  & \\colon   \\\\ \n",
       "   MultiQubitGate(A_{m, 1}, R_{m, 1})  & ..MultiQubitGate(A_{m, j}, R_{m, j})..  & MultiQubitGate(A_{m, k}, R_{m, k})  & MultiQubitGate(B_{m, 1}, S_{m, 1})  & ..MultiQubitGate(B_{m, j}, S_{m, j})..  & MultiQubitGate(B_{m, n}, S_{m, n})  & MultiQubitGate(C_{m, 1}, Q_{m, 1})  & ..MultiQubitGate(C_{m, j}, Q_{m, j})..  & MultiQubitGate(C_{m, h}, Q_{m, h})) =>  \\\\  MultiQubitGate(A_{1, 1}, R_{1, 1})  & ..MultiQubitGate(A_{1, j}, R_{1, j})..  & MultiQubitGate(A_{1, k}, R_{1, k})  & MultiQubitGate(D_{1, 1}, S_{1, 1})  & ..MultiQubitGate(D_{1, j}, S_{1, j})..  & MultiQubitGate(D_{1, n}, S_{1, n})  & MultiQubitGate(C_{1, 1}, Q_{1, 1})  & ..MultiQubitGate(C_{1, j}, Q_{1, j})..  & MultiQubitGate(C_{1, h}, Q_{1, h})   \\\\ \n",
       "   \\colon  & \\colon  & \\colon  & \\colon  & \\colon  & \\colon  & \\colon  & \\colon  & \\colon   \\\\ \n",
       "   MultiQubitGate(A_{i, 1}, R_{i, 1})  & ..MultiQubitGate(A_{i, j}, R_{i, j})..  & MultiQubitGate(A_{i, k}, R_{i, k})  & MultiQubitGate(D_{i, 1}, S_{i, 1})  & ..MultiQubitGate(D_{i, j}, S_{i, j})..  & MultiQubitGate(D_{i, n}, S_{i, n})  & MultiQubitGate(C_{i, 1}, Q_{i, 1})  & ..MultiQubitGate(C_{i, j}, Q_{i, j})..  & MultiQubitGate(C_{i, h}, Q_{i, h})   \\\\ \n",
       "   \\colon  & \\colon  & \\colon  & \\colon  & \\colon  & \\colon  & \\colon  & \\colon  & \\colon   \\\\ \n",
       "   MultiQubitGate(A_{m, 1}, R_{m, 1})  & ..MultiQubitGate(A_{m, j}, R_{m, j})..  & MultiQubitGate(A_{m, k}, R_{m, k})  & MultiQubitGate(D_{m, 1}, S_{m, 1})  & ..MultiQubitGate(D_{m, j}, S_{m, j})..  & MultiQubitGate(D_{m, n}, S_{m, n})  & MultiQubitGate(C_{m, 1}, Q_{m, 1})  & ..MultiQubitGate(C_{m, j}, Q_{m, j})..  & MultiQubitGate(C_{m, h}, Q_{m, h}))\n",
       "\th : h, k : k, m : m, n : n\n",
       "1\ttheorem\t\t|- forall_{h in NaturalsPos, k in NaturalsPos, m in NaturalsPos, n in NaturalsPos} [forall_{A_{1, 1}, ..A_{1, _b}.., A_{1, k}, ....A_{_a, 1}, ..A_{_a, _b}.., A_{_a, k}...., A_{m, 1}, ..A_{m, _b}.., A_{m, k}, B_{1, 1}, ..B_{1, _b}.., B_{1, n}, ....B_{_a, 1}, ..B_{_a, _b}.., B_{_a, n}...., B_{m, 1}, ..B_{m, _b}.., B_{m, n}, C_{1, 1}, ..C_{1, _b}.., C_{1, h}, ....C_{_a, 1}, ..C_{_a, _b}.., C_{_a, h}...., C_{m, 1}, ..C_{m, _b}.., C_{m, h}, D_{1, 1}, ..D_{1, _b}.., D_{1, n}, ....D_{_a, 1}, ..D_{_a, _b}.., D_{_a, n}...., D_{m, 1}, ..D_{m, _b}.., D_{m, n}, S_{1, 1}, ..S_{1, _b}.., S_{1, n}, ....S_{_a, 1}, ..S_{_a, _b}.., S_{_a, n}...., S_{m, 1}, ..S_{m, _b}.., S_{m, n}, R_{1, 1}, ..R_{1, _b}.., R_{1, k}, ....R_{_a, 1}, ..R_{_a, _b}.., R_{_a, k}...., R_{m, 1}, ..R_{m, _b}.., R_{m, k}, Q_{1, 1}, ..Q_{1, _b}.., Q_{1, h}, ....Q_{_a, 1}, ..Q_{_a, _b}.., Q_{_a, h}...., Q_{m, 1}, ..Q_{m, _b}.., Q_{m, h}} ((( MultiQubitGate(B_{1, 1}, S_{1, 1})  & ..MultiQubitGate(B_{1, j}, S_{1, j})..  & MultiQubitGate(B_{1, n}, S_{1, n})   \\\\ \n",
       "   \\colon  & \\colon  & \\colon   \\\\ \n",
       "   MultiQubitGate(B_{i, 1}, S_{i, 1})  & ..MultiQubitGate(B_{i, j}, S_{i, j})..  & MultiQubitGate(B_{i, n}, S_{i, n})   \\\\ \n",
       "   \\colon  & \\colon  & \\colon   \\\\ \n",
       "   MultiQubitGate(B_{m, 1}, S_{m, 1})  & ..MultiQubitGate(B_{m, j}, S_{m, j})..  & MultiQubitGate(B_{m, n}, S_{m, n}) equiv  MultiQubitGate(D_{1, 1}, S_{1, 1})  & ..MultiQubitGate(D_{1, j}, S_{1, j})..  & MultiQubitGate(D_{1, n}, S_{1, n})   \\\\ \n",
       "   \\colon  & \\colon  & \\colon   \\\\ \n",
       "   MultiQubitGate(D_{i, 1}, S_{i, 1})  & ..MultiQubitGate(D_{i, j}, S_{i, j})..  & MultiQubitGate(D_{i, n}, S_{i, n})   \\\\ \n",
       "   \\colon  & \\colon  & \\colon   \\\\ \n",
       "   MultiQubitGate(D_{m, 1}, S_{m, 1})  & ..MultiQubitGate(D_{m, j}, S_{m, j})..  & MultiQubitGate(D_{m, n}, S_{m, n})) and  MultiQubitGate(A_{1, 1}, R_{1, 1})  & ..MultiQubitGate(A_{1, j}, R_{1, j})..  & MultiQubitGate(A_{1, k}, R_{1, k})  & MultiQubitGate(B_{1, 1}, S_{1, 1})  & ..MultiQubitGate(B_{1, j}, S_{1, j})..  & MultiQubitGate(B_{1, n}, S_{1, n})  & MultiQubitGate(C_{1, 1}, Q_{1, 1})  & ..MultiQubitGate(C_{1, j}, Q_{1, j})..  & MultiQubitGate(C_{1, h}, Q_{1, h})   \\\\ \n",
       "   \\colon  & \\colon  & \\colon  & \\colon  & \\colon  & \\colon  & \\colon  & \\colon  & \\colon   \\\\ \n",
       "   MultiQubitGate(A_{i, 1}, R_{i, 1})  & ..MultiQubitGate(A_{i, j}, R_{i, j})..  & MultiQubitGate(A_{i, k}, R_{i, k})  & MultiQubitGate(B_{i, 1}, S_{i, 1})  & ..MultiQubitGate(B_{i, j}, S_{i, j})..  & MultiQubitGate(B_{i, n}, S_{i, n})  & MultiQubitGate(C_{i, 1}, Q_{i, 1})  & ..MultiQubitGate(C_{i, j}, Q_{i, j})..  & MultiQubitGate(C_{i, h}, Q_{i, h})   \\\\ \n",
       "   \\colon  & \\colon  & \\colon  & \\colon  & \\colon  & \\colon  & \\colon  & \\colon  & \\colon   \\\\ \n",
       "   MultiQubitGate(A_{m, 1}, R_{m, 1})  & ..MultiQubitGate(A_{m, j}, R_{m, j})..  & MultiQubitGate(A_{m, k}, R_{m, k})  & MultiQubitGate(B_{m, 1}, S_{m, 1})  & ..MultiQubitGate(B_{m, j}, S_{m, j})..  & MultiQubitGate(B_{m, n}, S_{m, n})  & MultiQubitGate(C_{m, 1}, Q_{m, 1})  & ..MultiQubitGate(C_{m, j}, Q_{m, j})..  & MultiQubitGate(C_{m, h}, Q_{m, h})) =>  \\\\  MultiQubitGate(A_{1, 1}, R_{1, 1})  & ..MultiQubitGate(A_{1, j}, R_{1, j})..  & MultiQubitGate(A_{1, k}, R_{1, k})  & MultiQubitGate(D_{1, 1}, S_{1, 1})  & ..MultiQubitGate(D_{1, j}, S_{1, j})..  & MultiQubitGate(D_{1, n}, S_{1, n})  & MultiQubitGate(C_{1, 1}, Q_{1, 1})  & ..MultiQubitGate(C_{1, j}, Q_{1, j})..  & MultiQubitGate(C_{1, h}, Q_{1, h})   \\\\ \n",
       "   \\colon  & \\colon  & \\colon  & \\colon  & \\colon  & \\colon  & \\colon  & \\colon  & \\colon   \\\\ \n",
       "   MultiQubitGate(A_{i, 1}, R_{i, 1})  & ..MultiQubitGate(A_{i, j}, R_{i, j})..  & MultiQubitGate(A_{i, k}, R_{i, k})  & MultiQubitGate(D_{i, 1}, S_{i, 1})  & ..MultiQubitGate(D_{i, j}, S_{i, j})..  & MultiQubitGate(D_{i, n}, S_{i, n})  & MultiQubitGate(C_{i, 1}, Q_{i, 1})  & ..MultiQubitGate(C_{i, j}, Q_{i, j})..  & MultiQubitGate(C_{i, h}, Q_{i, h})   \\\\ \n",
       "   \\colon  & \\colon  & \\colon  & \\colon  & \\colon  & \\colon  & \\colon  & \\colon  & \\colon   \\\\ \n",
       "   MultiQubitGate(A_{m, 1}, R_{m, 1})  & ..MultiQubitGate(A_{m, j}, R_{m, j})..  & MultiQubitGate(A_{m, k}, R_{m, k})  & MultiQubitGate(D_{m, 1}, S_{m, 1})  & ..MultiQubitGate(D_{m, j}, S_{m, j})..  & MultiQubitGate(D_{m, n}, S_{m, n})  & MultiQubitGate(C_{m, 1}, Q_{m, 1})  & ..MultiQubitGate(C_{m, j}, Q_{m, j})..  & MultiQubitGate(C_{m, h}, Q_{m, h}))]\n",
       "\tproveit.physics.quantum.time_equiv_judgement\n",
       "2\tassumption\t\t{h in NaturalsPos} |- h in NaturalsPos\n",
       "3\tassumption\t\t{k in NaturalsPos} |- k in NaturalsPos\n",
       "4\tassumption\t\t{m in NaturalsPos} |- m in NaturalsPos\n",
       "5\tassumption\t\t{n in NaturalsPos} |- n in NaturalsPos"
      ]
     },
     "execution_count": 9,
     "metadata": {},
     "output_type": "execute_result"
    }
   ],
   "source": [
    "time_equiv_judgement.instantiate(assumptions=[InSet(h, NaturalsPos), InSet(k, NaturalsPos), InSet(m, NaturalsPos),InSet(n, NaturalsPos)]).proof()"
   ]
  },
  {
   "cell_type": "code",
   "execution_count": 10,
   "metadata": {},
   "outputs": [
    {
     "ename": "Exception",
     "evalue": "Unable to use 'dvipng' backend to compile LaTeX.  Be sure a LaTeX distribution is installed.",
     "output_type": "error",
     "traceback": [
      "\u001b[1;31m---------------------------------------------------------------------------\u001b[0m",
      "\u001b[1;31mException\u001b[0m                                 Traceback (most recent call last)",
      "\u001b[1;32m~\\Anaconda3\\lib\\site-packages\\IPython\\core\\formatters.py\u001b[0m in \u001b[0;36m__call__\u001b[1;34m(self, obj)\u001b[0m\n\u001b[0;32m    343\u001b[0m             \u001b[0mmethod\u001b[0m \u001b[1;33m=\u001b[0m \u001b[0mget_real_method\u001b[0m\u001b[1;33m(\u001b[0m\u001b[0mobj\u001b[0m\u001b[1;33m,\u001b[0m \u001b[0mself\u001b[0m\u001b[1;33m.\u001b[0m\u001b[0mprint_method\u001b[0m\u001b[1;33m)\u001b[0m\u001b[1;33m\u001b[0m\u001b[1;33m\u001b[0m\u001b[0m\n\u001b[0;32m    344\u001b[0m             \u001b[1;32mif\u001b[0m \u001b[0mmethod\u001b[0m \u001b[1;32mis\u001b[0m \u001b[1;32mnot\u001b[0m \u001b[1;32mNone\u001b[0m\u001b[1;33m:\u001b[0m\u001b[1;33m\u001b[0m\u001b[1;33m\u001b[0m\u001b[0m\n\u001b[1;32m--> 345\u001b[1;33m                 \u001b[1;32mreturn\u001b[0m \u001b[0mmethod\u001b[0m\u001b[1;33m(\u001b[0m\u001b[1;33m)\u001b[0m\u001b[1;33m\u001b[0m\u001b[1;33m\u001b[0m\u001b[0m\n\u001b[0m\u001b[0;32m    346\u001b[0m             \u001b[1;32mreturn\u001b[0m \u001b[1;32mNone\u001b[0m\u001b[1;33m\u001b[0m\u001b[1;33m\u001b[0m\u001b[0m\n\u001b[0;32m    347\u001b[0m         \u001b[1;32melse\u001b[0m\u001b[1;33m:\u001b[0m\u001b[1;33m\u001b[0m\u001b[1;33m\u001b[0m\u001b[0m\n",
      "\u001b[1;32mc:\\users\\joaqu\\prove-it\\packages\\proveit\\_core_\\proof.py\u001b[0m in \u001b[0;36m_repr_html_\u001b[1;34m(self)\u001b[0m\n\u001b[0;32m    404\u001b[0m                               in enumerate(proof.requiredProofs))\n\u001b[0;32m    405\u001b[0m             \u001b[0mhtml\u001b[0m \u001b[1;33m+=\u001b[0m \u001b[1;34m'<td>%s</td><td>%s</td>'\u001b[0m\u001b[1;33m%\u001b[0m\u001b[1;33m(\u001b[0m\u001b[0mproof\u001b[0m\u001b[1;33m.\u001b[0m\u001b[0mstepType\u001b[0m\u001b[1;33m(\u001b[0m\u001b[1;33m)\u001b[0m\u001b[1;33m,\u001b[0m \u001b[0mrequiredProofNums\u001b[0m\u001b[1;33m)\u001b[0m\u001b[1;33m\u001b[0m\u001b[1;33m\u001b[0m\u001b[0m\n\u001b[1;32m--> 406\u001b[1;33m             \u001b[0mhtml\u001b[0m \u001b[1;33m+=\u001b[0m \u001b[1;34m'<td>%s</td>'\u001b[0m\u001b[1;33m%\u001b[0m\u001b[0mproof\u001b[0m\u001b[1;33m.\u001b[0m\u001b[0mprovenTruth\u001b[0m\u001b[1;33m.\u001b[0m\u001b[0m_repr_html_\u001b[0m\u001b[1;33m(\u001b[0m\u001b[1;33m)\u001b[0m\u001b[1;33m\u001b[0m\u001b[1;33m\u001b[0m\u001b[0m\n\u001b[0m\u001b[0;32m    407\u001b[0m             \u001b[0mhtml\u001b[0m \u001b[1;33m+=\u001b[0m \u001b[1;34m'</tr>\\n'\u001b[0m\u001b[1;33m\u001b[0m\u001b[1;33m\u001b[0m\u001b[0m\n\u001b[0;32m    408\u001b[0m             \u001b[1;32mif\u001b[0m \u001b[0mproof\u001b[0m\u001b[1;33m.\u001b[0m\u001b[0mstepType\u001b[0m\u001b[1;33m(\u001b[0m\u001b[1;33m)\u001b[0m\u001b[1;33m==\u001b[0m\u001b[1;34m'instantiation'\u001b[0m\u001b[1;33m:\u001b[0m\u001b[1;33m\u001b[0m\u001b[1;33m\u001b[0m\u001b[0m\n",
      "\u001b[1;32mc:\\users\\joaqu\\prove-it\\packages\\proveit\\_core_\\known_truth.py\u001b[0m in \u001b[0;36m_repr_html_\u001b[1;34m(self)\u001b[0m\n\u001b[0;32m   1065\u001b[0m         \u001b[1;32mif\u001b[0m \u001b[0mproof\u001b[0m \u001b[1;32mis\u001b[0m \u001b[1;32mnot\u001b[0m \u001b[1;32mNone\u001b[0m\u001b[1;33m:\u001b[0m\u001b[1;33m\u001b[0m\u001b[1;33m\u001b[0m\u001b[0m\n\u001b[0;32m   1066\u001b[0m             \u001b[0mhtml\u001b[0m \u001b[1;33m+=\u001b[0m \u001b[1;34m'</a>'\u001b[0m\u001b[1;33m\u001b[0m\u001b[1;33m\u001b[0m\u001b[0m\n\u001b[1;32m-> 1067\u001b[1;33m         \u001b[0mhtml\u001b[0m \u001b[1;33m+=\u001b[0m \u001b[0mself\u001b[0m\u001b[1;33m.\u001b[0m\u001b[0mexpr\u001b[0m\u001b[1;33m.\u001b[0m\u001b[0m_repr_html_\u001b[0m\u001b[1;33m(\u001b[0m\u001b[1;33m)\u001b[0m\u001b[1;33m\u001b[0m\u001b[1;33m\u001b[0m\u001b[0m\n\u001b[0m\u001b[0;32m   1068\u001b[0m         \u001b[0mhtml\u001b[0m \u001b[1;33m+=\u001b[0m \u001b[1;34m'</span>'\u001b[0m\u001b[1;33m\u001b[0m\u001b[1;33m\u001b[0m\u001b[0m\n\u001b[0;32m   1069\u001b[0m         \u001b[1;32mreturn\u001b[0m \u001b[0mhtml\u001b[0m\u001b[1;33m\u001b[0m\u001b[1;33m\u001b[0m\u001b[0m\n",
      "\u001b[1;32mc:\\users\\joaqu\\prove-it\\packages\\proveit\\_core_\\expression\\expr.py\u001b[0m in \u001b[0;36m_repr_html_\u001b[1;34m(self, context, unofficialNameKindContext)\u001b[0m\n\u001b[0;32m   1046\u001b[0m             \u001b[0mcontext\u001b[0m \u001b[1;33m=\u001b[0m \u001b[0mContext\u001b[0m\u001b[1;33m(\u001b[0m\u001b[1;33m)\u001b[0m\u001b[1;33m\u001b[0m\u001b[1;33m\u001b[0m\u001b[0m\n\u001b[0;32m   1047\u001b[0m         \u001b[1;32mif\u001b[0m \u001b[1;32mnot\u001b[0m \u001b[0mhasattr\u001b[0m\u001b[1;33m(\u001b[0m\u001b[0mself\u001b[0m\u001b[1;33m.\u001b[0m\u001b[0m_styleData\u001b[0m\u001b[1;33m,\u001b[0m\u001b[1;34m'png'\u001b[0m\u001b[1;33m)\u001b[0m\u001b[1;33m:\u001b[0m\u001b[1;33m\u001b[0m\u001b[1;33m\u001b[0m\u001b[0m\n\u001b[1;32m-> 1048\u001b[1;33m             \u001b[0mself\u001b[0m\u001b[1;33m.\u001b[0m\u001b[0m_styleData\u001b[0m\u001b[1;33m.\u001b[0m\u001b[0mpng\u001b[0m\u001b[1;33m,\u001b[0m \u001b[0mpng_url\u001b[0m \u001b[1;33m=\u001b[0m \u001b[0mcontext\u001b[0m\u001b[1;33m.\u001b[0m\u001b[0m_stored_png\u001b[0m\u001b[1;33m(\u001b[0m\u001b[0mself\u001b[0m\u001b[1;33m,\u001b[0m \u001b[0mself\u001b[0m\u001b[1;33m.\u001b[0m\u001b[0mlatex\u001b[0m\u001b[1;33m(\u001b[0m\u001b[1;33m)\u001b[0m\u001b[1;33m,\u001b[0m \u001b[0mself\u001b[0m\u001b[1;33m.\u001b[0m\u001b[0m_config_latex_tool\u001b[0m\u001b[1;33m)\u001b[0m\u001b[1;33m\u001b[0m\u001b[1;33m\u001b[0m\u001b[0m\n\u001b[0m\u001b[0;32m   1049\u001b[0m             \u001b[0mself\u001b[0m\u001b[1;33m.\u001b[0m\u001b[0m_styleData\u001b[0m\u001b[1;33m.\u001b[0m\u001b[0mpng_url\u001b[0m \u001b[1;33m=\u001b[0m \u001b[0mpng_url\u001b[0m\u001b[1;33m\u001b[0m\u001b[1;33m\u001b[0m\u001b[0m\n\u001b[0;32m   1050\u001b[0m         \u001b[1;32mif\u001b[0m \u001b[0mself\u001b[0m\u001b[1;33m.\u001b[0m\u001b[0m_styleData\u001b[0m\u001b[1;33m.\u001b[0m\u001b[0mpng_url\u001b[0m \u001b[1;32mis\u001b[0m \u001b[1;32mnot\u001b[0m \u001b[1;32mNone\u001b[0m\u001b[1;33m:\u001b[0m\u001b[1;33m\u001b[0m\u001b[1;33m\u001b[0m\u001b[0m\n",
      "\u001b[1;32mc:\\users\\joaqu\\prove-it\\packages\\proveit\\_core_\\context.py\u001b[0m in \u001b[0;36m_stored_png\u001b[1;34m(self, expr, latex, configLatexToolFn)\u001b[0m\n\u001b[0;32m    424\u001b[0m         \u001b[0mReturn\u001b[0m \u001b[0mthe\u001b[0m \u001b[0mpng\u001b[0m \u001b[0mdata\u001b[0m \u001b[1;32mand\u001b[0m \u001b[0mpath\u001b[0m \u001b[0mwhere\u001b[0m \u001b[0mthe\u001b[0m \u001b[0mpng\u001b[0m \u001b[1;32mis\u001b[0m \u001b[0mstored\u001b[0m \u001b[1;32mas\u001b[0m \u001b[0ma\u001b[0m \u001b[0mtuple\u001b[0m\u001b[1;33m.\u001b[0m\u001b[1;33m\u001b[0m\u001b[1;33m\u001b[0m\u001b[0m\n\u001b[0;32m    425\u001b[0m         '''\n\u001b[1;32m--> 426\u001b[1;33m         \u001b[1;32mreturn\u001b[0m \u001b[0mself\u001b[0m\u001b[1;33m.\u001b[0m\u001b[0m_storage\u001b[0m\u001b[1;33m.\u001b[0m\u001b[0mretrieve_png\u001b[0m\u001b[1;33m(\u001b[0m\u001b[0mexpr\u001b[0m\u001b[1;33m,\u001b[0m \u001b[0mlatex\u001b[0m\u001b[1;33m,\u001b[0m \u001b[0mconfigLatexToolFn\u001b[0m\u001b[1;33m)\u001b[0m\u001b[1;33m\u001b[0m\u001b[1;33m\u001b[0m\u001b[0m\n\u001b[0m\u001b[0;32m    427\u001b[0m \u001b[1;33m\u001b[0m\u001b[0m\n\u001b[0;32m    428\u001b[0m     \u001b[1;32mdef\u001b[0m \u001b[0mclean\u001b[0m\u001b[1;33m(\u001b[0m\u001b[0mself\u001b[0m\u001b[1;33m)\u001b[0m\u001b[1;33m:\u001b[0m\u001b[1;33m\u001b[0m\u001b[1;33m\u001b[0m\u001b[0m\n",
      "\u001b[1;32mc:\\users\\joaqu\\prove-it\\packages\\proveit\\_core_\\_context_storage.py\u001b[0m in \u001b[0;36mretrieve_png\u001b[1;34m(self, expr, latex, configLatexToolFn)\u001b[0m\n\u001b[0;32m    578\u001b[0m             \u001b[0mlatex_file\u001b[0m\u001b[1;33m.\u001b[0m\u001b[0mwrite\u001b[0m\u001b[1;33m(\u001b[0m\u001b[0mlatex\u001b[0m\u001b[1;33m.\u001b[0m\u001b[0mencode\u001b[0m\u001b[1;33m(\u001b[0m\u001b[1;34m'ascii'\u001b[0m\u001b[1;33m)\u001b[0m\u001b[1;33m)\u001b[0m\u001b[1;33m\u001b[0m\u001b[1;33m\u001b[0m\u001b[0m\n\u001b[0;32m    579\u001b[0m         \u001b[1;31m# generate, store and return the png file\u001b[0m\u001b[1;33m\u001b[0m\u001b[1;33m\u001b[0m\u001b[1;33m\u001b[0m\u001b[0m\n\u001b[1;32m--> 580\u001b[1;33m         \u001b[0mpng\u001b[0m \u001b[1;33m=\u001b[0m \u001b[0mself\u001b[0m\u001b[1;33m.\u001b[0m\u001b[0m_generate_png\u001b[0m\u001b[1;33m(\u001b[0m\u001b[0mlatex\u001b[0m\u001b[1;33m,\u001b[0m \u001b[0mconfigLatexToolFn\u001b[0m\u001b[1;33m)\u001b[0m\u001b[1;33m\u001b[0m\u001b[1;33m\u001b[0m\u001b[0m\n\u001b[0m\u001b[0;32m    581\u001b[0m         \u001b[1;32mwith\u001b[0m \u001b[0mopen\u001b[0m\u001b[1;33m(\u001b[0m\u001b[0mpng_path\u001b[0m\u001b[1;33m,\u001b[0m \u001b[1;34m'wb'\u001b[0m\u001b[1;33m)\u001b[0m \u001b[1;32mas\u001b[0m \u001b[0mpng_file\u001b[0m\u001b[1;33m:\u001b[0m\u001b[1;33m\u001b[0m\u001b[1;33m\u001b[0m\u001b[0m\n\u001b[0;32m    582\u001b[0m             \u001b[0mpng_file\u001b[0m\u001b[1;33m.\u001b[0m\u001b[0mwrite\u001b[0m\u001b[1;33m(\u001b[0m\u001b[0mpng\u001b[0m\u001b[1;33m)\u001b[0m\u001b[1;33m\u001b[0m\u001b[1;33m\u001b[0m\u001b[0m\n",
      "\u001b[1;32mc:\\users\\joaqu\\prove-it\\packages\\proveit\\_core_\\_context_storage.py\u001b[0m in \u001b[0;36m_generate_png\u001b[1;34m(self, latex, configLatexToolFn)\u001b[0m\n\u001b[0;32m    595\u001b[0m         \u001b[0mpng\u001b[0m \u001b[1;33m=\u001b[0m \u001b[0mlatex_to_png\u001b[0m\u001b[1;33m(\u001b[0m\u001b[0mlatex\u001b[0m\u001b[1;33m,\u001b[0m \u001b[0mbackend\u001b[0m\u001b[1;33m=\u001b[0m\u001b[1;34m'dvipng'\u001b[0m\u001b[1;33m,\u001b[0m \u001b[0mwrap\u001b[0m\u001b[1;33m=\u001b[0m\u001b[1;32mTrue\u001b[0m\u001b[1;33m)\u001b[0m \u001b[1;31m# the 'matplotlib' backend can do some BAD rendering in my experience (like \\lnot rendering as lnot in some contexts)\u001b[0m\u001b[1;33m\u001b[0m\u001b[1;33m\u001b[0m\u001b[0m\n\u001b[0;32m    596\u001b[0m         \u001b[1;32mif\u001b[0m \u001b[0mpng\u001b[0m \u001b[1;32mis\u001b[0m \u001b[1;32mNone\u001b[0m\u001b[1;33m:\u001b[0m\u001b[1;33m\u001b[0m\u001b[1;33m\u001b[0m\u001b[0m\n\u001b[1;32m--> 597\u001b[1;33m             \u001b[1;32mraise\u001b[0m \u001b[0mException\u001b[0m\u001b[1;33m(\u001b[0m\u001b[1;34m\"Unable to use 'dvipng' backend to compile LaTeX.  Be sure a LaTeX distribution is installed.\"\u001b[0m\u001b[1;33m)\u001b[0m\u001b[1;33m\u001b[0m\u001b[1;33m\u001b[0m\u001b[0m\n\u001b[0m\u001b[0;32m    598\u001b[0m         \u001b[1;32mreturn\u001b[0m \u001b[0mpng\u001b[0m\u001b[1;33m\u001b[0m\u001b[1;33m\u001b[0m\u001b[0m\n\u001b[0;32m    599\u001b[0m \u001b[1;33m\u001b[0m\u001b[0m\n",
      "\u001b[1;31mException\u001b[0m: Unable to use 'dvipng' backend to compile LaTeX.  Be sure a LaTeX distribution is installed."
     ]
    },
    {
     "data": {
      "text/plain": [
       "\tstep type\trequirements\tstatement\n",
       "0\tinstantiation\t1, 2, 3, 4, 5, 6\t{k in NaturalsPos, m in NaturalsPos, n in NaturalsPos} |- forall_{A_{1, 1}, ..A_{1, _b}.., A_{1, k}, ....A_{_a, 1}, ..A_{_a, _b}.., A_{_a, k}...., A_{m, 1}, ..A_{m, _b}.., A_{m, k}, B_{1, 1}, ..B_{1, _b}.., B_{1, n}, ....B_{_a, 1}, ..B_{_a, _b}.., B_{_a, n}...., B_{m, 1}, ..B_{m, _b}.., B_{m, n}, C_{1, 1}, ..C_{1, _b}.., C_{1, 1}, ....C_{_a, 1}, ..C_{_a, _b}.., C_{_a, 1}...., C_{m, 1}, ..C_{m, _b}.., C_{m, 1}, D_{1, 1}, ..D_{1, _b}.., D_{1, n}, ....D_{_a, 1}, ..D_{_a, _b}.., D_{_a, n}...., D_{m, 1}, ..D_{m, _b}.., D_{m, n}, S_{1, 1}, ..S_{1, _b}.., S_{1, n}, ....S_{_a, 1}, ..S_{_a, _b}.., S_{_a, n}...., S_{m, 1}, ..S_{m, _b}.., S_{m, n}, R_{1, 1}, ..R_{1, _b}.., R_{1, k}, ....R_{_a, 1}, ..R_{_a, _b}.., R_{_a, k}...., R_{m, 1}, ..R_{m, _b}.., R_{m, k}, Q_{1, 1}, ..Q_{1, _b}.., Q_{1, 1}, ....Q_{_a, 1}, ..Q_{_a, _b}.., Q_{_a, 1}...., Q_{m, 1}, ..Q_{m, _b}.., Q_{m, 1}} ((( MultiQubitGate(B_{1, 1}, S_{1, 1})  & ..MultiQubitGate(B_{1, j}, S_{1, j})..  & MultiQubitGate(B_{1, n}, S_{1, n})   \\\\ \n",
       "   \\colon  & \\colon  & \\colon   \\\\ \n",
       "   MultiQubitGate(B_{i, 1}, S_{i, 1})  & ..MultiQubitGate(B_{i, j}, S_{i, j})..  & MultiQubitGate(B_{i, n}, S_{i, n})   \\\\ \n",
       "   \\colon  & \\colon  & \\colon   \\\\ \n",
       "   MultiQubitGate(B_{m, 1}, S_{m, 1})  & ..MultiQubitGate(B_{m, j}, S_{m, j})..  & MultiQubitGate(B_{m, n}, S_{m, n}) equiv  MultiQubitGate(D_{1, 1}, S_{1, 1})  & ..MultiQubitGate(D_{1, j}, S_{1, j})..  & MultiQubitGate(D_{1, n}, S_{1, n})   \\\\ \n",
       "   \\colon  & \\colon  & \\colon   \\\\ \n",
       "   MultiQubitGate(D_{i, 1}, S_{i, 1})  & ..MultiQubitGate(D_{i, j}, S_{i, j})..  & MultiQubitGate(D_{i, n}, S_{i, n})   \\\\ \n",
       "   \\colon  & \\colon  & \\colon   \\\\ \n",
       "   MultiQubitGate(D_{m, 1}, S_{m, 1})  & ..MultiQubitGate(D_{m, j}, S_{m, j})..  & MultiQubitGate(D_{m, n}, S_{m, n})) and  MultiQubitGate(A_{1, 1}, R_{1, 1})  & ..MultiQubitGate(A_{1, j}, R_{1, j})..  & MultiQubitGate(A_{1, k}, R_{1, k})  & MultiQubitGate(B_{1, 1}, S_{1, 1})  & ..MultiQubitGate(B_{1, j}, S_{1, j})..  & MultiQubitGate(B_{1, n}, S_{1, n})  & MultiQubitGate(C_{1, 1}, Q_{1, 1})   \\\\ \n",
       "   \\colon  & \\colon  & \\colon  & \\colon  & \\colon  & \\colon  & \\colon   \\\\ \n",
       "   MultiQubitGate(A_{i, 1}, R_{i, 1})  & ..MultiQubitGate(A_{i, j}, R_{i, j})..  & MultiQubitGate(A_{i, k}, R_{i, k})  & MultiQubitGate(B_{i, 1}, S_{i, 1})  & ..MultiQubitGate(B_{i, j}, S_{i, j})..  & MultiQubitGate(B_{i, n}, S_{i, n})  & MultiQubitGate(C_{i, 1}, Q_{i, 1})   \\\\ \n",
       "   \\colon  & \\colon  & \\colon  & \\colon  & \\colon  & \\colon  & \\colon   \\\\ \n",
       "   MultiQubitGate(A_{m, 1}, R_{m, 1})  & ..MultiQubitGate(A_{m, j}, R_{m, j})..  & MultiQubitGate(A_{m, k}, R_{m, k})  & MultiQubitGate(B_{m, 1}, S_{m, 1})  & ..MultiQubitGate(B_{m, j}, S_{m, j})..  & MultiQubitGate(B_{m, n}, S_{m, n})  & MultiQubitGate(C_{m, 1}, Q_{m, 1})) =>  \\\\  MultiQubitGate(A_{1, 1}, R_{1, 1})  & ..MultiQubitGate(A_{1, j}, R_{1, j})..  & MultiQubitGate(A_{1, k}, R_{1, k})  & MultiQubitGate(D_{1, 1}, S_{1, 1})  & ..MultiQubitGate(D_{1, j}, S_{1, j})..  & MultiQubitGate(D_{1, n}, S_{1, n})  & MultiQubitGate(C_{1, 1}, Q_{1, 1})   \\\\ \n",
       "   \\colon  & \\colon  & \\colon  & \\colon  & \\colon  & \\colon  & \\colon   \\\\ \n",
       "   MultiQubitGate(A_{i, 1}, R_{i, 1})  & ..MultiQubitGate(A_{i, j}, R_{i, j})..  & MultiQubitGate(A_{i, k}, R_{i, k})  & MultiQubitGate(D_{i, 1}, S_{i, 1})  & ..MultiQubitGate(D_{i, j}, S_{i, j})..  & MultiQubitGate(D_{i, n}, S_{i, n})  & MultiQubitGate(C_{i, 1}, Q_{i, 1})   \\\\ \n",
       "   \\colon  & \\colon  & \\colon  & \\colon  & \\colon  & \\colon  & \\colon   \\\\ \n",
       "   MultiQubitGate(A_{m, 1}, R_{m, 1})  & ..MultiQubitGate(A_{m, j}, R_{m, j})..  & MultiQubitGate(A_{m, k}, R_{m, k})  & MultiQubitGate(D_{m, 1}, S_{m, 1})  & ..MultiQubitGate(D_{m, j}, S_{m, j})..  & MultiQubitGate(D_{m, n}, S_{m, n})  & MultiQubitGate(C_{m, 1}, Q_{m, 1}))\n",
       "\th : 1, k : k, m : m, n : n\n",
       "1\ttheorem\t\t|- forall_{h in NaturalsPos, k in NaturalsPos, m in NaturalsPos, n in NaturalsPos} [forall_{A_{1, 1}, ..A_{1, _b}.., A_{1, k}, ....A_{_a, 1}, ..A_{_a, _b}.., A_{_a, k}...., A_{m, 1}, ..A_{m, _b}.., A_{m, k}, B_{1, 1}, ..B_{1, _b}.., B_{1, n}, ....B_{_a, 1}, ..B_{_a, _b}.., B_{_a, n}...., B_{m, 1}, ..B_{m, _b}.., B_{m, n}, C_{1, 1}, ..C_{1, _b}.., C_{1, h}, ....C_{_a, 1}, ..C_{_a, _b}.., C_{_a, h}...., C_{m, 1}, ..C_{m, _b}.., C_{m, h}, D_{1, 1}, ..D_{1, _b}.., D_{1, n}, ....D_{_a, 1}, ..D_{_a, _b}.., D_{_a, n}...., D_{m, 1}, ..D_{m, _b}.., D_{m, n}, S_{1, 1}, ..S_{1, _b}.., S_{1, n}, ....S_{_a, 1}, ..S_{_a, _b}.., S_{_a, n}...., S_{m, 1}, ..S_{m, _b}.., S_{m, n}, R_{1, 1}, ..R_{1, _b}.., R_{1, k}, ....R_{_a, 1}, ..R_{_a, _b}.., R_{_a, k}...., R_{m, 1}, ..R_{m, _b}.., R_{m, k}, Q_{1, 1}, ..Q_{1, _b}.., Q_{1, h}, ....Q_{_a, 1}, ..Q_{_a, _b}.., Q_{_a, h}...., Q_{m, 1}, ..Q_{m, _b}.., Q_{m, h}} ((( MultiQubitGate(B_{1, 1}, S_{1, 1})  & ..MultiQubitGate(B_{1, j}, S_{1, j})..  & MultiQubitGate(B_{1, n}, S_{1, n})   \\\\ \n",
       "   \\colon  & \\colon  & \\colon   \\\\ \n",
       "   MultiQubitGate(B_{i, 1}, S_{i, 1})  & ..MultiQubitGate(B_{i, j}, S_{i, j})..  & MultiQubitGate(B_{i, n}, S_{i, n})   \\\\ \n",
       "   \\colon  & \\colon  & \\colon   \\\\ \n",
       "   MultiQubitGate(B_{m, 1}, S_{m, 1})  & ..MultiQubitGate(B_{m, j}, S_{m, j})..  & MultiQubitGate(B_{m, n}, S_{m, n}) equiv  MultiQubitGate(D_{1, 1}, S_{1, 1})  & ..MultiQubitGate(D_{1, j}, S_{1, j})..  & MultiQubitGate(D_{1, n}, S_{1, n})   \\\\ \n",
       "   \\colon  & \\colon  & \\colon   \\\\ \n",
       "   MultiQubitGate(D_{i, 1}, S_{i, 1})  & ..MultiQubitGate(D_{i, j}, S_{i, j})..  & MultiQubitGate(D_{i, n}, S_{i, n})   \\\\ \n",
       "   \\colon  & \\colon  & \\colon   \\\\ \n",
       "   MultiQubitGate(D_{m, 1}, S_{m, 1})  & ..MultiQubitGate(D_{m, j}, S_{m, j})..  & MultiQubitGate(D_{m, n}, S_{m, n})) and  MultiQubitGate(A_{1, 1}, R_{1, 1})  & ..MultiQubitGate(A_{1, j}, R_{1, j})..  & MultiQubitGate(A_{1, k}, R_{1, k})  & MultiQubitGate(B_{1, 1}, S_{1, 1})  & ..MultiQubitGate(B_{1, j}, S_{1, j})..  & MultiQubitGate(B_{1, n}, S_{1, n})  & MultiQubitGate(C_{1, 1}, Q_{1, 1})  & ..MultiQubitGate(C_{1, j}, Q_{1, j})..  & MultiQubitGate(C_{1, h}, Q_{1, h})   \\\\ \n",
       "   \\colon  & \\colon  & \\colon  & \\colon  & \\colon  & \\colon  & \\colon  & \\colon  & \\colon   \\\\ \n",
       "   MultiQubitGate(A_{i, 1}, R_{i, 1})  & ..MultiQubitGate(A_{i, j}, R_{i, j})..  & MultiQubitGate(A_{i, k}, R_{i, k})  & MultiQubitGate(B_{i, 1}, S_{i, 1})  & ..MultiQubitGate(B_{i, j}, S_{i, j})..  & MultiQubitGate(B_{i, n}, S_{i, n})  & MultiQubitGate(C_{i, 1}, Q_{i, 1})  & ..MultiQubitGate(C_{i, j}, Q_{i, j})..  & MultiQubitGate(C_{i, h}, Q_{i, h})   \\\\ \n",
       "   \\colon  & \\colon  & \\colon  & \\colon  & \\colon  & \\colon  & \\colon  & \\colon  & \\colon   \\\\ \n",
       "   MultiQubitGate(A_{m, 1}, R_{m, 1})  & ..MultiQubitGate(A_{m, j}, R_{m, j})..  & MultiQubitGate(A_{m, k}, R_{m, k})  & MultiQubitGate(B_{m, 1}, S_{m, 1})  & ..MultiQubitGate(B_{m, j}, S_{m, j})..  & MultiQubitGate(B_{m, n}, S_{m, n})  & MultiQubitGate(C_{m, 1}, Q_{m, 1})  & ..MultiQubitGate(C_{m, j}, Q_{m, j})..  & MultiQubitGate(C_{m, h}, Q_{m, h})) =>  \\\\  MultiQubitGate(A_{1, 1}, R_{1, 1})  & ..MultiQubitGate(A_{1, j}, R_{1, j})..  & MultiQubitGate(A_{1, k}, R_{1, k})  & MultiQubitGate(D_{1, 1}, S_{1, 1})  & ..MultiQubitGate(D_{1, j}, S_{1, j})..  & MultiQubitGate(D_{1, n}, S_{1, n})  & MultiQubitGate(C_{1, 1}, Q_{1, 1})  & ..MultiQubitGate(C_{1, j}, Q_{1, j})..  & MultiQubitGate(C_{1, h}, Q_{1, h})   \\\\ \n",
       "   \\colon  & \\colon  & \\colon  & \\colon  & \\colon  & \\colon  & \\colon  & \\colon  & \\colon   \\\\ \n",
       "   MultiQubitGate(A_{i, 1}, R_{i, 1})  & ..MultiQubitGate(A_{i, j}, R_{i, j})..  & MultiQubitGate(A_{i, k}, R_{i, k})  & MultiQubitGate(D_{i, 1}, S_{i, 1})  & ..MultiQubitGate(D_{i, j}, S_{i, j})..  & MultiQubitGate(D_{i, n}, S_{i, n})  & MultiQubitGate(C_{i, 1}, Q_{i, 1})  & ..MultiQubitGate(C_{i, j}, Q_{i, j})..  & MultiQubitGate(C_{i, h}, Q_{i, h})   \\\\ \n",
       "   \\colon  & \\colon  & \\colon  & \\colon  & \\colon  & \\colon  & \\colon  & \\colon  & \\colon   \\\\ \n",
       "   MultiQubitGate(A_{m, 1}, R_{m, 1})  & ..MultiQubitGate(A_{m, j}, R_{m, j})..  & MultiQubitGate(A_{m, k}, R_{m, k})  & MultiQubitGate(D_{m, 1}, S_{m, 1})  & ..MultiQubitGate(D_{m, j}, S_{m, j})..  & MultiQubitGate(D_{m, n}, S_{m, n})  & MultiQubitGate(C_{m, 1}, Q_{m, 1})  & ..MultiQubitGate(C_{m, j}, Q_{m, j})..  & MultiQubitGate(C_{m, h}, Q_{m, h}))]\n",
       "\tproveit.physics.quantum.time_equiv_judgement\n",
       "2\ttheorem\t\t|- 1 in NaturalsPos\n",
       "\tproveit.number.numeral.deci.posnat1\n",
       "3\tassumption\t\t{k in NaturalsPos} |- k in NaturalsPos\n",
       "4\tassumption\t\t{m in NaturalsPos} |- m in NaturalsPos\n",
       "5\tassumption\t\t{n in NaturalsPos} |- n in NaturalsPos\n",
       "6\tinstantiation\t7\t|- (MultiQubitGate(C_{i, 1}, Q_{i, 1}), ..MultiQubitGate(C_{i, a}, Q_{i, a}).., MultiQubitGate(C_{i, 1}, Q_{i, 1})) = (MultiQubitGate(C_{i, 1}, Q_{i, 1}))\n",
       "\tf(j) : MultiQubitGate(C_{i, j}, Q_{i, j}), i : 1\n",
       "7\ttheorem\t\t|- forall_{f, i} ((f(i), ..f(a).., f(i)) = (f(i)))\n",
       "\tproveit.core_expr_types.tuples.singular_range_reduction"
      ]
     },
     "execution_count": 10,
     "metadata": {},
     "output_type": "execute_result"
    }
   ],
   "source": [
    "time_equiv_judgement.instantiate({h:one}, assumptions=[InSet(h, NaturalsPos), InSet(k, NaturalsPos), InSet(m, NaturalsPos),InSet(n, NaturalsPos)]).proof()"
   ]
  },
  {
   "cell_type": "code",
   "execution_count": 11,
   "metadata": {},
   "outputs": [],
   "source": [
    "from proveit.core_expr_types.tuples._theorems_ import singular_range_reduction\n",
    "from proveit import Function"
   ]
  },
  {
   "cell_type": "code",
   "execution_count": 12,
   "metadata": {},
   "outputs": [
    {
     "data": {
      "text/html": [
       "<a class=\"ProveItLink\" href=\"__pv_it/ede877e7a9a6145ff166d1432b32acf5496c1d1a0/expr.ipynb\"><img src=\"data:image/png;base64,iVBORw0KGgoAAAANSUhEUgAAAHYAAAAzBAMAAACwHOH9AAAAMFBMVEX////MzMy6uroyMjJmZmYi\n",
       "IiKqqqoQEBB2dnbc3NyYmJhUVFRERESIiIju7u4AAACU7+9TAAAAAXRSTlMAQObYZgAAAAlwSFlz\n",
       "AAAOxAAADsQBlSsOGwAAAgpJREFUSMdjYIAD/v8kAoRWhg8MpAH+Ub3U1XtVgGy9Uy3Jtpezmnw3\n",
       "c/8jXy+rAfl62TeM6sWhl+/O7l2cDZh6OVs6dhHSe/0eA1vrAky9zQIM3Ab49b6JAxL+EzD0Pj4A\n",
       "JErw6zV/ACTUMf1rCiL249XL8Q3EEkFRAtLL8hHE7BfAp3d+AIj1EFmJPsjz80FOZvBXwKe3/wKE\n",
       "zQfxMcgeY7CuBBBpP4HhJVicEZveeKirOCBmBAIDzw7EiAeZxfedgaEXkj8EwHoRRTVIbz0oqBge\n",
       "IAxkqgVT4HKc6xfesIoHMdiQgoTTBGxQKIh4jj9+wTHLwcB0G+zpK0BfchRCYocpgcF9AoMuOMLe\n",
       "umENZ5A/+xg43oNsY2EDWbQdJCefcOktVyVQClyIOCRj08sG9FLGA4Z5qSCBdxwOIONAccRbeYHF\n",
       "+wED5zNQHPI9aMGarp6c3gKKxLNgEWaQNnaQAQzSJ9oVgFHGAwl/Kzx5kO8fOLj4JyDlQZ4E3gcM\n",
       "7yHJ5icevWwGDXzAfCiOnH95NuQwMCRzMLwAJo0CfPbuncBYxsBwG1kvy39gmn59k0E8gYF3A4Fy\n",
       "gw3qLZhexvIECCMBEg749OYxKxZgK3PYHhiJEyqvFrBceYBNLxeDr99gL2NZD5Cvl5mCuozjJ/l6\n",
       "+UIfkN/eeFNFQVslm/y2ymibEFMvqc32/wCesxTGbC8PrgAAAABJRU5ErkJggg==\n",
       "\" style=\"display:inline;vertical-align:middle;\" /></a>"
      ],
      "text/plain": [
       "MultiQubitGate(C_{i, j}, Q_{i, j})"
      ]
     },
     "execution_count": 12,
     "metadata": {},
     "output_type": "execute_result"
    }
   ],
   "source": [
    "MultiQubitGate(IndexedVar(C, [i,j]), IndexedVar(Q,[i,j]))"
   ]
  },
  {
   "cell_type": "code",
   "execution_count": 13,
   "metadata": {},
   "outputs": [
    {
     "data": {
      "text/html": [
       "<a class=\"ProveItLink\" href=\"__pv_it/7104f1ad7e312841f72bda03149178cb09a2bbd70/expr.ipynb\"><img src=\"data:image/png;base64,iVBORw0KGgoAAAANSUhEUgAAAHIAAAAhBAMAAAD36eIXAAAAMFBMVEX////MzMy6uroyMjJmZmYi\n",
       "IiKqqqoQEBB2dnbc3NyYmJhUVFRERESIiIju7u4AAACU7+9TAAAAAXRSTlMAQObYZgAAAAlwSFlz\n",
       "AAAOxAAADsQBlSsOGwAAAblJREFUOMtjYIAD/v8kAQYknQykAP5RnSTr5LuzexdnA7o6zpaOXYR0\n",
       "Xr/HwNa6AF1nswADtwF+nW/igIT/BDSNjw8AiRL8Os0fAAl1dCtNQcR+vDo5voFYImgaWT6CyH4B\n",
       "fDrnB4BYD9F0zgc5lsFfAZ/O/gsQNh/Ep1Bb/BNApP0EhpdgLiM2nfFQtRwQEwIhvHiQOXzfGRh6\n",
       "wVxWASw660EBxPAAzbXgHMX1Cy2EUHNcPEiQTQBNZyiIeI4/PsExycHAdBvs2SsJEJn9DEwJDO4T\n",
       "GHQ3gHhv3bCGLch/fQwc70EOZmEzgLhcPuHSW65KoMQ/kDqHZGw62YCeyXjAMC8VJPCOw4GB7zOQ\n",
       "wVt5gcX7AQPnM1Cc8T1owZqGnpzeAoq2s2ARZmD6DQVZKn2iXQEYRTyQELfCk8v4/oEDiR/oazZI\n",
       "QPMk8D5geA9JIj/x6GQzaOAD5jRxcHBBdG7IYWBI5mB4AUwIBfjs3DuBsYyBARTCb6FJ9z8w7b6+\n",
       "ySCewMC7gUCZwAbxEDSrMpZDYygB7Hu8OvOYFQswCxG2B0bihMqhBSxXHmDq5GLw9RstqUnXSVr9\n",
       "CQDxEc0p8vX7uQAAAABJRU5ErkJggg==\n",
       "\" style=\"display:inline;vertical-align:middle;\" /></a>"
      ],
      "text/plain": [
       "Gate(C_{i, j}, Q_{i, j})"
      ]
     },
     "execution_count": 13,
     "metadata": {},
     "output_type": "execute_result"
    }
   ],
   "source": [
    "Gate((IndexedVar(C, [i,j]), IndexedVar(Q,[i,j])))"
   ]
  },
  {
   "cell_type": "code",
   "execution_count": 14,
   "metadata": {},
   "outputs": [
    {
     "data": {
      "text/html": [
       "<a class=\"ProveItLink\" href=\"__pv_it/ede877e7a9a6145ff166d1432b32acf5496c1d1a0/expr.ipynb\"><img src=\"data:image/png;base64,iVBORw0KGgoAAAANSUhEUgAAAHYAAAAzBAMAAACwHOH9AAAAMFBMVEX////MzMy6uroyMjJmZmYi\n",
       "IiKqqqoQEBB2dnbc3NyYmJhUVFRERESIiIju7u4AAACU7+9TAAAAAXRSTlMAQObYZgAAAAlwSFlz\n",
       "AAAOxAAADsQBlSsOGwAAAgpJREFUSMdjYIAD/v8kAoRWhg8MpAH+Ub3U1XtVgGy9Uy3Jtpezmnw3\n",
       "c/8jXy+rAfl62TeM6sWhl+/O7l2cDZh6OVs6dhHSe/0eA1vrAky9zQIM3Ab49b6JAxL+EzD0Pj4A\n",
       "JErw6zV/ACTUMf1rCiL249XL8Q3EEkFRAtLL8hHE7BfAp3d+AIj1EFmJPsjz80FOZvBXwKe3/wKE\n",
       "zQfxMcgeY7CuBBBpP4HhJVicEZveeKirOCBmBAIDzw7EiAeZxfedgaEXkj8EwHoRRTVIbz0oqBge\n",
       "IAxkqgVT4HKc6xfesIoHMdiQgoTTBGxQKIh4jj9+wTHLwcB0G+zpK0BfchRCYocpgcF9AoMuOMLe\n",
       "umENZ5A/+xg43oNsY2EDWbQdJCefcOktVyVQClyIOCRj08sG9FLGA4Z5qSCBdxwOIONAccRbeYHF\n",
       "+wED5zNQHPI9aMGarp6c3gKKxLNgEWaQNnaQAQzSJ9oVgFHGAwl/Kzx5kO8fOLj4JyDlQZ4E3gcM\n",
       "7yHJ5icevWwGDXzAfCiOnH95NuQwMCRzMLwAJo0CfPbuncBYxsBwG1kvy39gmn59k0E8gYF3A4Fy\n",
       "gw3qLZhexvIECCMBEg749OYxKxZgK3PYHhiJEyqvFrBceYBNLxeDr99gL2NZD5Cvl5mCuozjJ/l6\n",
       "+UIfkN/eeFNFQVslm/y2ymibEFMvqc32/wCesxTGbC8PrgAAAABJRU5ErkJggg==\n",
       "\" style=\"display:inline;vertical-align:middle;\" /></a>"
      ],
      "text/plain": [
       "MultiQubitGate(C_{i, j}, Q_{i, j})"
      ]
     },
     "execution_count": 14,
     "metadata": {},
     "output_type": "execute_result"
    }
   ],
   "source": [
    "MultiQubitGate(IndexedVar(C, [i,j]), IndexedVar(Q,[i,j]))"
   ]
  },
  {
   "cell_type": "code",
   "execution_count": 15,
   "metadata": {},
   "outputs": [
    {
     "data": {
      "text/html": [
       "<a class=\"ProveItLink\" href=\"__pv_it/3cc37f8b1f8ad5ed713bd422b1c9e6562079a65e0/expr.ipynb\"><img src=\"data:image/png;base64,iVBORw0KGgoAAAANSUhEUgAAAIYAAAAVBAMAAABxpYtPAAAAMFBMVEX///9UVFREREQiIiIQEBCY\n",
       "mJhmZmYyMjLu7u6qqqrMzMyIiIi6urp2dnbc3NwAAABm9RoHAAAAAXRSTlMAQObYZgAAAAlwSFlz\n",
       "AAAOxAAADsQBlSsOGwAAAUhJREFUOMuN0zFLw0AUB/A/1ybtpUnt7HSfQLLqlI/QqaN06SaSURcp\n",
       "KDiJmdyE+g26Whd3l6yiw6E46yK0FMF4CZdr7nz6hoTcPX7kvXsHiZ/oYzPKVQQgQ1bPZ/W+beyW\n",
       "q2Az0nioclU2z20jejoEH5NGLzOMc9jGMU4lYrqYI8OY2IYXIxJ4pI2RYSS2wQbgS7zQRnuqjTC1\n",
       "ja0xwhU6kjQ6Q234uW1cFsan3ezNiAbaUFzDeM8RrPFHU71UG63MbXwBB6TBY2207x215AiL/7gh\n",
       "jeCDNIqe8hVwTRphUvfDUQsT8JbAyX9rYXPHjCXwU/QF3VOhDXVEzVnfxdkMUUYa/ryesdhhXNxt\n",
       "FydGz2lL1rO+B/fdxxVtvBr3ZfSbsUMbE8Ng0m10U5IoO14ZXeE2ekPSYNMyd6G+3hq7iyqJLmW/\n",
       "zP0GNv1qTd32AN4AAAAASUVORK5CYII=\n",
       "\" style=\"display:inline;vertical-align:middle;\" /></a>"
      ],
      "text/plain": [
       "|(Input(|0〉))|"
      ]
     },
     "execution_count": 15,
     "metadata": {},
     "output_type": "execute_result"
    }
   ],
   "source": [
    "Len(ExprTuple(Input(ket0)))"
   ]
  },
  {
   "cell_type": "code",
   "execution_count": 16,
   "metadata": {},
   "outputs": [
    {
     "data": {
      "text/html": [
       "<span style=\"font-size:20px;\"> <a class=\"ProveItLink\" href=\"__pv_it/b7e8ffd8d60f57636274357cc90c122724123d820/proof.ipynb\" style=\"text-decoration: none\">&#x22A2;&nbsp;</a><a class=\"ProveItLink\" href=\"__pv_it/59c4593f3fdec78d26c888c6492bc03b412f44de0/expr.ipynb\"><img src=\"data:image/png;base64,iVBORw0KGgoAAAANSUhEUgAAAeMAAAAzBAMAAABWEH2QAAAAMFBMVEX///8yMjKqqqpmZmZERETu\n",
       "7u6IiIgQEBDMzMzc3NwiIiJ2dnaYmJi6urpUVFQAAABiWEJZAAAAAXRSTlMAQObYZgAAAAlwSFlz\n",
       "AAAOxAAADsQBlSsOGwAABUFJREFUaN7lmk1oJEUUx990ppOZ6cxMRBe9mT0sSvaQAb8OoomCCssS\n",
       "Wl1k/cCZBddFD26yfkAQdURwjxkP6iGHzYKLEhZtD1FQcNrTgpcJgu4xI34iS3ZINrJRd2NXTc/3\n",
       "e92vmum62Ieepunq//9XVf2qXk0BMI78nuLRgCEfQ3eQWw8RVHaI3TQf0ugART5ity8vgQ5keNsm\n",
       "CwzdAYqc2teuYkcPsrFCNrKjBRmmWhffgR5kuJ96fvgOcOSRevM3fVUXcsbF78fggAhf530jji5k\n",
       "41WiKhxdyLc1w8kFiCw4+olagRvx2zE4IJATBfnzemTB9NmKWoEN/PkYHBDI2V1ZTzuRBT+sKxbw\n",
       "K7m/pWJw0AjqZ5l6ZMHLtmIBA4WLwwGFPC0KLJUjC55VLWD+hd2NwwGFXCx5p98jB2B4UznaHMJu\n",
       "xuGAQk6uBJWKA7lWUXlNDMjjXvxK/asTuYhMRmJxQCGbnpi1qxN5DIlUsTggk0evRHJeJ3ISySxi\n",
       "cdAIiCZjs2zBJ+Y23WVEcPneb1wmsoVY4Tswn9u8lHZYDkjkqvd1FbiCo6/ZcPD8oKB1C8BPTOTx\n",
       "a8j3zXZw4jgYX7ksByRybR2WSkxB85A3io/sDgiaN4mWKvCQU8jAzHZw5Jx3mqmwHJDIntr0JFMw\n",
       "IdKg7PyAYEJ8nrkGD9ncRiZEXAc3i5nTRWA5IJG9PlUrMwWrwlmqpy6vi9OMeIF1lZnrXUe6GtOB\n",
       "tSWu3gGWAxI5X4eTFZ5g+m/ZSt32smJATV+Ryw3XmMhXBm9xHZyR0f4osBzQyLNQtZl13PoKn+zk\n",
       "RRNCStZ9YhfMCgd5obkgsyqP5iDNdVD1v/kuIdoBiTw2ATNMwUyr43whTs94WuYDomhGBrTiPFjC\n",
       "kfltCPLq4C2ug8/8HtYRCnBAImdW4DIt01kIF7Uj8z7TD7zPe53soqz1vHx5zR863n0xBPljJAEk\n",
       "H97rcfCWrBq7SyjAAY08HyDY18ryJbe3El8P+b27/FrzamKh9ejUMJH7WlkKl7uEAhwEIXO7VXNE\n",
       "duDHegsZviw3B4fvYWQRsi+xkFcHv2WuAzkiWz1CtIOgjl3lRmwRviwb1nbayDkxSKe2Rn8oXaiA\n",
       "VbQ5yAvIFJAbsUU3XusRoh0Eha+T3HF52gVjDdKPrbSR0zLrO/EB3PErwPtTrFZG8gCuA8OTO2j3\n",
       "CNEOGgG5HHsqYt65eZ/Ie0ptZHhZhrJfvn4DUgAPs5C3o09F4PG5n8W/dd1CpAN6XC7A9Lpa6lY8\n",
       "2kFuNdmDcBzMnTID2fwHmXCqOegRIh3QE04Hllw15P0WPN2PPGfMgjHhmE4oMppWqDnoESIdBKUV\n",
       "+YIa8rMvwOnJ9OfbpS7Bmb0ymL9VUqdg+da7A5GNLbSrKbVytxDpgET2kpjMhPqaxGRfLDp9ygcK\n",
       "nXCOIos+ERwYEOaARPZm9Dn1ZRjDJsLvgVDkHGIlgoMDEOaARPYmPuM7yoLjlKAbvtyHLPpEcOCG\n",
       "OiCRXxEDuc7lvjPICkgsDihkOaP6/y3dwz3RBT9SRv4TuxmHAwo5J0bXjfXIgjcoI6N/w8XhgELO\n",
       "iy8rU4gsSCYEVAE8UsXhgEKu2byASQk+dU6xAP5PchwOKORP5Tn6tgXzEVetwNA3TpAOAjdONNs6\n",
       "kiAYf6gVmAvobcN1QCAnm90soW0TVJbowQltm6A2mpWbWtSFPDZJ5FeLupD9qTgc04W8ST1/TBNy\n",
       "rhU+tW1bJVMmXdtW97evDutBDticfFgLcmdzMiTDNoCr7nnfQweUfbTC0B2gyI/KOv8PNTOAw8Tt\n",
       "M1sAAAAASUVORK5CYII=\n",
       "\" style=\"display:inline;vertical-align:middle;\" /></a></span>"
      ],
      "text/plain": [
       "|- (MultiQubitGate(C_{i, 1}, Q_{i, 1})) = (MultiQubitGate(C_{i, 1}, Q_{i, 1}))"
      ]
     },
     "execution_count": 16,
     "metadata": {},
     "output_type": "execute_result"
    }
   ],
   "source": [
    "singular_range_reduction.instantiate({Function(f, j): MultiQubitGate(IndexedVar(C, [i,j]), IndexedVar(Q,[i,j])), i: one})"
   ]
  },
  {
   "cell_type": "code",
   "execution_count": 17,
   "metadata": {},
   "outputs": [
    {
     "data": {
      "text/html": [
       "<a class=\"ProveItLink\" href=\"__pv_it/2b4ebed1cf91d7df060357a768d7353de65132850/expr.ipynb\"><img src=\"data:image/png;base64,iVBORw0KGgoAAAANSUhEUgAAAFwAAAAzBAMAAADoY3LkAAAAMFBMVEX///+qqqpmZmaYmJju7u4Q\n",
       "EBC6urqIiIjMzMwiIiLc3NxUVFQyMjJERER2dnYAAAC5KJi8AAAAAXRSTlMAQObYZgAAAAlwSFlz\n",
       "AAAOxAAADsQBlSsOGwAAAT9JREFUSMdjYICD/0QAhGqGDwwEAf+ocobKBlKUrzxFiulc0SQ5hvsL\n",
       "Sco5D5CknHXDYFTOkgahFy4gSnmNCITm2OuAVfnb/6cXIJQzggKUYwqQ4N2A3fSfyKbzTWBg8Nb5\n",
       "AmVhUc7xD105Azse5ezfSFLOCyb5iVXOD47+fAMilecXgMgzUCGmAzDl7AFYlb8HZQvfI1Ch9QYw\n",
       "5VwfIcoRRQ5Y+XkgZguHqu6exgBTzrD2IDbT/4JMOuQATQI6DnDlbxKwKGf7DvZhBFQIHJdg5Yy/\n",
       "sLmd7weYuZUBI2SwepXzA8KLhANy9fnfD8CxqoBQzn3153ac4Y6agCGKGBhooxwSl/D4JaScJRAm\n",
       "4mpATOZbtBFC920cMuUM5wWSlPOQVqTy/SJJOctMB5LqJt9g0qoyaZKqsmFeyRPTWgIAtzvfA9te\n",
       "jOEAAAAASUVORK5CYII=\n",
       "\" style=\"display:inline;vertical-align:middle;\" /></a>"
      ],
      "text/plain": [
       "MultiQubitGate(I, {1})"
      ]
     },
     "execution_count": 17,
     "metadata": {},
     "output_type": "execute_result"
    }
   ],
   "source": [
    "MultiQubitGate(IdentityOp(), Set(one))"
   ]
  },
  {
   "cell_type": "code",
   "execution_count": 18,
   "metadata": {},
   "outputs": [
    {
     "data": {
      "text/html": [
       "<a class=\"ProveItLink\" href=\"__pv_it/c48ca58b951f834ea6ce0047df8852e0b4359d7f0/expr.ipynb\"><img src=\"data:image/png;base64,iVBORw0KGgoAAAANSUhEUgAAABUAAAABAQMAAAALnndYAAAABlBMVEX///8AAABVwtN+AAAAAXRS\n",
       "TlMAQObYZgAAAAlwSFlzAAAOxAAADsQBlSsOGwAAAAxJREFUCNdj+P//BwAF9wL3QuhfDAAAAABJ\n",
       "RU5ErkJggg==\n",
       "\" style=\"display:inline;vertical-align:middle;\" /></a>"
      ],
      "text/plain": [
       "--"
      ]
     },
     "execution_count": 18,
     "metadata": {},
     "output_type": "execute_result"
    }
   ],
   "source": [
    "IdentityOp()"
   ]
  },
  {
   "cell_type": "code",
   "execution_count": 19,
   "metadata": {},
   "outputs": [
    {
     "data": {
      "text/plain": [
       "'\\\\hspace{2em} \\\\Qcircuit@C=1em @R=.7em{\\n& \\\\gate{I} \\n} \\\\hspace{2em}'"
      ]
     },
     "execution_count": 19,
     "metadata": {},
     "output_type": "execute_result"
    }
   ],
   "source": [
    "IdentityOp().withStyles(gate='explicit').latex()"
   ]
  },
  {
   "cell_type": "code",
   "execution_count": 20,
   "metadata": {},
   "outputs": [
    {
     "data": {
      "text/html": [
       "<a class=\"ProveItLink\" href=\"__pv_it/99cde14b2e702227a6299b43c1271588a68d9ac00/expr.ipynb\"><img src=\"data:image/png;base64,iVBORw0KGgoAAAANSUhEUgAAARIAAAAbBAMAAABCYR1sAAAAMFBMVEX///9UVFQiIiIQEBCYmJhE\n",
       "REQyMjLu7u5mZmaqqqrMzMyIiIi6urp2dnbc3NwAAACDfOWjAAAAAXRSTlMAQObYZgAAAAlwSFlz\n",
       "AAAOxAAADsQBlSsOGwAAAT1JREFUSMdjYCAO8P9HgA8MtARzCLkEiU1dl1xA5XI2DJhLlsIYD8Bk\n",
       "GcOAuYRlA9Qdd8B0yMC5hEEdTN6BuITPYABdshHZJRwXBtAl9QVILuE/QJRLeOO/yVHfJWwOSC5Z\n",
       "X0BcmPAr0CBMOAKQXLKJgTiXrL9AA5dwGyC5RIxIl+w/QAOX8HxHckkokS6Jp0WK5fqF5JJEIl3y\n",
       "jRYu4fuD5BINHIqQqj1wOP4mwyUEa072P6SHCe8vmoQJGbHD9oEm6eQfkktEiXMJfwAelxRQJe9s\n",
       "Js4l5zfgdgn7N7IrY+Ty5DxxZez9BXjCRIncQOEQQHIJM3H1jj6+GpCTXJeg1DtE1cV8Yv9l8biE\n",
       "lyp1MRcV2ifV5LrEEbl9wiBJuUscyHWJHtQluwZJO3bXwLftnw6a/s51EtXTvg8IAFhhmMUvzgOx\n",
       "AAAAAElFTkSuQmCC\n",
       "\" style=\"display:inline;vertical-align:middle;\" /></a>"
      ],
      "text/plain": [
       "|([I], --)|"
      ]
     },
     "execution_count": 20,
     "metadata": {},
     "output_type": "execute_result"
    }
   ],
   "source": [
    "Len(ExprTuple(IdentityOp().withStyles(gate='explicit'), IdentityOp()))"
   ]
  },
  {
   "cell_type": "code",
   "execution_count": 21,
   "metadata": {},
   "outputs": [
    {
     "data": {
      "text/html": [
       "<a class=\"ProveItLink\" href=\"__pv_it/6850b51ed4e4d4d8b62e77f6511b137a8a3da87f0/expr.ipynb\"><img src=\"data:image/png;base64,iVBORw0KGgoAAAANSUhEUgAAACwAAAAbBAMAAAD11XAnAAAAIVBMVEX///+6urqIiIjMzMwiIiLc\n",
       "3NxUVFQyMjJERER2dnYAAACYWiDdAAAAAXRSTlMAQObYZgAAAAlwSFlzAAAOxAAADsQBlSsOGwAA\n",
       "AFtJREFUKM9jYICDVUgAIcqwAMHkGgTCnF3LU7Gp5nLAaojVBKzCWgJYhbuwu2Q5RBgRPGBhxkXY\n",
       "HbgYqzD7AqzCXA1YhaUUsArPMsAq7IUtqFjTV2UOgkhDTlUAP6IwmrrtSecAAAAASUVORK5CYII=\n",
       "\" style=\"display:inline;vertical-align:middle;\" /></a>"
      ],
      "text/plain": [
       "Gate(I)"
      ]
     },
     "execution_count": 21,
     "metadata": {},
     "output_type": "execute_result"
    }
   ],
   "source": [
    "Gate(IdentityOp())"
   ]
  },
  {
   "cell_type": "code",
   "execution_count": 22,
   "metadata": {},
   "outputs": [
    {
     "data": {
      "text/plain": [
       "'\\\\hspace{2em} \\\\Qcircuit@C=1em @R=.7em{\\n& \\\\gate{Input(\\\\lvert \\\\psi \\\\rangle){\\\\Big \\\\{} \\\\left\\\\{1\\\\right\\\\}} \\n} \\\\hspace{2em}'"
      ]
     },
     "execution_count": 22,
     "metadata": {},
     "output_type": "execute_result"
    }
   ],
   "source": [
    "MultiQubitGate(Input(ket_psi), Set(one)).latex()"
   ]
  },
  {
   "cell_type": "code",
   "execution_count": 23,
   "metadata": {},
   "outputs": [
    {
     "data": {
      "text/plain": [
       "'\\\\hspace{2em} \\\\Qcircuit@C=1em @R=.7em{\\n& \\\\gate{Output(\\\\lvert \\\\psi \\\\rangle){\\\\Big \\\\{} \\\\left\\\\{1\\\\right\\\\}} \\n} \\\\hspace{2em}'"
      ]
     },
     "execution_count": 23,
     "metadata": {},
     "output_type": "execute_result"
    }
   ],
   "source": [
    "MultiQubitGate(Output(ket_psi), Set(one)).latex()"
   ]
  },
  {
   "cell_type": "code",
   "execution_count": 24,
   "metadata": {},
   "outputs": [
    {
     "ename": "Exception",
     "evalue": "Unable to use 'dvipng' backend to compile LaTeX.  Be sure a LaTeX distribution is installed.",
     "output_type": "error",
     "traceback": [
      "\u001b[1;31m---------------------------------------------------------------------------\u001b[0m",
      "\u001b[1;31mException\u001b[0m                                 Traceback (most recent call last)",
      "\u001b[1;32m~\\Anaconda3\\lib\\site-packages\\IPython\\core\\formatters.py\u001b[0m in \u001b[0;36m__call__\u001b[1;34m(self, obj)\u001b[0m\n\u001b[0;32m    343\u001b[0m             \u001b[0mmethod\u001b[0m \u001b[1;33m=\u001b[0m \u001b[0mget_real_method\u001b[0m\u001b[1;33m(\u001b[0m\u001b[0mobj\u001b[0m\u001b[1;33m,\u001b[0m \u001b[0mself\u001b[0m\u001b[1;33m.\u001b[0m\u001b[0mprint_method\u001b[0m\u001b[1;33m)\u001b[0m\u001b[1;33m\u001b[0m\u001b[1;33m\u001b[0m\u001b[0m\n\u001b[0;32m    344\u001b[0m             \u001b[1;32mif\u001b[0m \u001b[0mmethod\u001b[0m \u001b[1;32mis\u001b[0m \u001b[1;32mnot\u001b[0m \u001b[1;32mNone\u001b[0m\u001b[1;33m:\u001b[0m\u001b[1;33m\u001b[0m\u001b[1;33m\u001b[0m\u001b[0m\n\u001b[1;32m--> 345\u001b[1;33m                 \u001b[1;32mreturn\u001b[0m \u001b[0mmethod\u001b[0m\u001b[1;33m(\u001b[0m\u001b[1;33m)\u001b[0m\u001b[1;33m\u001b[0m\u001b[1;33m\u001b[0m\u001b[0m\n\u001b[0m\u001b[0;32m    346\u001b[0m             \u001b[1;32mreturn\u001b[0m \u001b[1;32mNone\u001b[0m\u001b[1;33m\u001b[0m\u001b[1;33m\u001b[0m\u001b[0m\n\u001b[0;32m    347\u001b[0m         \u001b[1;32melse\u001b[0m\u001b[1;33m:\u001b[0m\u001b[1;33m\u001b[0m\u001b[1;33m\u001b[0m\u001b[0m\n",
      "\u001b[1;32mc:\\users\\joaqu\\prove-it\\packages\\proveit\\_core_\\proof.py\u001b[0m in \u001b[0;36m_repr_html_\u001b[1;34m(self)\u001b[0m\n\u001b[0;32m    404\u001b[0m                               in enumerate(proof.requiredProofs))\n\u001b[0;32m    405\u001b[0m             \u001b[0mhtml\u001b[0m \u001b[1;33m+=\u001b[0m \u001b[1;34m'<td>%s</td><td>%s</td>'\u001b[0m\u001b[1;33m%\u001b[0m\u001b[1;33m(\u001b[0m\u001b[0mproof\u001b[0m\u001b[1;33m.\u001b[0m\u001b[0mstepType\u001b[0m\u001b[1;33m(\u001b[0m\u001b[1;33m)\u001b[0m\u001b[1;33m,\u001b[0m \u001b[0mrequiredProofNums\u001b[0m\u001b[1;33m)\u001b[0m\u001b[1;33m\u001b[0m\u001b[1;33m\u001b[0m\u001b[0m\n\u001b[1;32m--> 406\u001b[1;33m             \u001b[0mhtml\u001b[0m \u001b[1;33m+=\u001b[0m \u001b[1;34m'<td>%s</td>'\u001b[0m\u001b[1;33m%\u001b[0m\u001b[0mproof\u001b[0m\u001b[1;33m.\u001b[0m\u001b[0mprovenTruth\u001b[0m\u001b[1;33m.\u001b[0m\u001b[0m_repr_html_\u001b[0m\u001b[1;33m(\u001b[0m\u001b[1;33m)\u001b[0m\u001b[1;33m\u001b[0m\u001b[1;33m\u001b[0m\u001b[0m\n\u001b[0m\u001b[0;32m    407\u001b[0m             \u001b[0mhtml\u001b[0m \u001b[1;33m+=\u001b[0m \u001b[1;34m'</tr>\\n'\u001b[0m\u001b[1;33m\u001b[0m\u001b[1;33m\u001b[0m\u001b[0m\n\u001b[0;32m    408\u001b[0m             \u001b[1;32mif\u001b[0m \u001b[0mproof\u001b[0m\u001b[1;33m.\u001b[0m\u001b[0mstepType\u001b[0m\u001b[1;33m(\u001b[0m\u001b[1;33m)\u001b[0m\u001b[1;33m==\u001b[0m\u001b[1;34m'instantiation'\u001b[0m\u001b[1;33m:\u001b[0m\u001b[1;33m\u001b[0m\u001b[1;33m\u001b[0m\u001b[0m\n",
      "\u001b[1;32mc:\\users\\joaqu\\prove-it\\packages\\proveit\\_core_\\known_truth.py\u001b[0m in \u001b[0;36m_repr_html_\u001b[1;34m(self)\u001b[0m\n\u001b[0;32m   1065\u001b[0m         \u001b[1;32mif\u001b[0m \u001b[0mproof\u001b[0m \u001b[1;32mis\u001b[0m \u001b[1;32mnot\u001b[0m \u001b[1;32mNone\u001b[0m\u001b[1;33m:\u001b[0m\u001b[1;33m\u001b[0m\u001b[1;33m\u001b[0m\u001b[0m\n\u001b[0;32m   1066\u001b[0m             \u001b[0mhtml\u001b[0m \u001b[1;33m+=\u001b[0m \u001b[1;34m'</a>'\u001b[0m\u001b[1;33m\u001b[0m\u001b[1;33m\u001b[0m\u001b[0m\n\u001b[1;32m-> 1067\u001b[1;33m         \u001b[0mhtml\u001b[0m \u001b[1;33m+=\u001b[0m \u001b[0mself\u001b[0m\u001b[1;33m.\u001b[0m\u001b[0mexpr\u001b[0m\u001b[1;33m.\u001b[0m\u001b[0m_repr_html_\u001b[0m\u001b[1;33m(\u001b[0m\u001b[1;33m)\u001b[0m\u001b[1;33m\u001b[0m\u001b[1;33m\u001b[0m\u001b[0m\n\u001b[0m\u001b[0;32m   1068\u001b[0m         \u001b[0mhtml\u001b[0m \u001b[1;33m+=\u001b[0m \u001b[1;34m'</span>'\u001b[0m\u001b[1;33m\u001b[0m\u001b[1;33m\u001b[0m\u001b[0m\n\u001b[0;32m   1069\u001b[0m         \u001b[1;32mreturn\u001b[0m \u001b[0mhtml\u001b[0m\u001b[1;33m\u001b[0m\u001b[1;33m\u001b[0m\u001b[0m\n",
      "\u001b[1;32mc:\\users\\joaqu\\prove-it\\packages\\proveit\\_core_\\expression\\expr.py\u001b[0m in \u001b[0;36m_repr_html_\u001b[1;34m(self, context, unofficialNameKindContext)\u001b[0m\n\u001b[0;32m   1046\u001b[0m             \u001b[0mcontext\u001b[0m \u001b[1;33m=\u001b[0m \u001b[0mContext\u001b[0m\u001b[1;33m(\u001b[0m\u001b[1;33m)\u001b[0m\u001b[1;33m\u001b[0m\u001b[1;33m\u001b[0m\u001b[0m\n\u001b[0;32m   1047\u001b[0m         \u001b[1;32mif\u001b[0m \u001b[1;32mnot\u001b[0m \u001b[0mhasattr\u001b[0m\u001b[1;33m(\u001b[0m\u001b[0mself\u001b[0m\u001b[1;33m.\u001b[0m\u001b[0m_styleData\u001b[0m\u001b[1;33m,\u001b[0m\u001b[1;34m'png'\u001b[0m\u001b[1;33m)\u001b[0m\u001b[1;33m:\u001b[0m\u001b[1;33m\u001b[0m\u001b[1;33m\u001b[0m\u001b[0m\n\u001b[1;32m-> 1048\u001b[1;33m             \u001b[0mself\u001b[0m\u001b[1;33m.\u001b[0m\u001b[0m_styleData\u001b[0m\u001b[1;33m.\u001b[0m\u001b[0mpng\u001b[0m\u001b[1;33m,\u001b[0m \u001b[0mpng_url\u001b[0m \u001b[1;33m=\u001b[0m \u001b[0mcontext\u001b[0m\u001b[1;33m.\u001b[0m\u001b[0m_stored_png\u001b[0m\u001b[1;33m(\u001b[0m\u001b[0mself\u001b[0m\u001b[1;33m,\u001b[0m \u001b[0mself\u001b[0m\u001b[1;33m.\u001b[0m\u001b[0mlatex\u001b[0m\u001b[1;33m(\u001b[0m\u001b[1;33m)\u001b[0m\u001b[1;33m,\u001b[0m \u001b[0mself\u001b[0m\u001b[1;33m.\u001b[0m\u001b[0m_config_latex_tool\u001b[0m\u001b[1;33m)\u001b[0m\u001b[1;33m\u001b[0m\u001b[1;33m\u001b[0m\u001b[0m\n\u001b[0m\u001b[0;32m   1049\u001b[0m             \u001b[0mself\u001b[0m\u001b[1;33m.\u001b[0m\u001b[0m_styleData\u001b[0m\u001b[1;33m.\u001b[0m\u001b[0mpng_url\u001b[0m \u001b[1;33m=\u001b[0m \u001b[0mpng_url\u001b[0m\u001b[1;33m\u001b[0m\u001b[1;33m\u001b[0m\u001b[0m\n\u001b[0;32m   1050\u001b[0m         \u001b[1;32mif\u001b[0m \u001b[0mself\u001b[0m\u001b[1;33m.\u001b[0m\u001b[0m_styleData\u001b[0m\u001b[1;33m.\u001b[0m\u001b[0mpng_url\u001b[0m \u001b[1;32mis\u001b[0m \u001b[1;32mnot\u001b[0m \u001b[1;32mNone\u001b[0m\u001b[1;33m:\u001b[0m\u001b[1;33m\u001b[0m\u001b[1;33m\u001b[0m\u001b[0m\n",
      "\u001b[1;32mc:\\users\\joaqu\\prove-it\\packages\\proveit\\_core_\\context.py\u001b[0m in \u001b[0;36m_stored_png\u001b[1;34m(self, expr, latex, configLatexToolFn)\u001b[0m\n\u001b[0;32m    424\u001b[0m         \u001b[0mReturn\u001b[0m \u001b[0mthe\u001b[0m \u001b[0mpng\u001b[0m \u001b[0mdata\u001b[0m \u001b[1;32mand\u001b[0m \u001b[0mpath\u001b[0m \u001b[0mwhere\u001b[0m \u001b[0mthe\u001b[0m \u001b[0mpng\u001b[0m \u001b[1;32mis\u001b[0m \u001b[0mstored\u001b[0m \u001b[1;32mas\u001b[0m \u001b[0ma\u001b[0m \u001b[0mtuple\u001b[0m\u001b[1;33m.\u001b[0m\u001b[1;33m\u001b[0m\u001b[1;33m\u001b[0m\u001b[0m\n\u001b[0;32m    425\u001b[0m         '''\n\u001b[1;32m--> 426\u001b[1;33m         \u001b[1;32mreturn\u001b[0m \u001b[0mself\u001b[0m\u001b[1;33m.\u001b[0m\u001b[0m_storage\u001b[0m\u001b[1;33m.\u001b[0m\u001b[0mretrieve_png\u001b[0m\u001b[1;33m(\u001b[0m\u001b[0mexpr\u001b[0m\u001b[1;33m,\u001b[0m \u001b[0mlatex\u001b[0m\u001b[1;33m,\u001b[0m \u001b[0mconfigLatexToolFn\u001b[0m\u001b[1;33m)\u001b[0m\u001b[1;33m\u001b[0m\u001b[1;33m\u001b[0m\u001b[0m\n\u001b[0m\u001b[0;32m    427\u001b[0m \u001b[1;33m\u001b[0m\u001b[0m\n\u001b[0;32m    428\u001b[0m     \u001b[1;32mdef\u001b[0m \u001b[0mclean\u001b[0m\u001b[1;33m(\u001b[0m\u001b[0mself\u001b[0m\u001b[1;33m)\u001b[0m\u001b[1;33m:\u001b[0m\u001b[1;33m\u001b[0m\u001b[1;33m\u001b[0m\u001b[0m\n",
      "\u001b[1;32mc:\\users\\joaqu\\prove-it\\packages\\proveit\\_core_\\_context_storage.py\u001b[0m in \u001b[0;36mretrieve_png\u001b[1;34m(self, expr, latex, configLatexToolFn)\u001b[0m\n\u001b[0;32m    578\u001b[0m             \u001b[0mlatex_file\u001b[0m\u001b[1;33m.\u001b[0m\u001b[0mwrite\u001b[0m\u001b[1;33m(\u001b[0m\u001b[0mlatex\u001b[0m\u001b[1;33m.\u001b[0m\u001b[0mencode\u001b[0m\u001b[1;33m(\u001b[0m\u001b[1;34m'ascii'\u001b[0m\u001b[1;33m)\u001b[0m\u001b[1;33m)\u001b[0m\u001b[1;33m\u001b[0m\u001b[1;33m\u001b[0m\u001b[0m\n\u001b[0;32m    579\u001b[0m         \u001b[1;31m# generate, store and return the png file\u001b[0m\u001b[1;33m\u001b[0m\u001b[1;33m\u001b[0m\u001b[1;33m\u001b[0m\u001b[0m\n\u001b[1;32m--> 580\u001b[1;33m         \u001b[0mpng\u001b[0m \u001b[1;33m=\u001b[0m \u001b[0mself\u001b[0m\u001b[1;33m.\u001b[0m\u001b[0m_generate_png\u001b[0m\u001b[1;33m(\u001b[0m\u001b[0mlatex\u001b[0m\u001b[1;33m,\u001b[0m \u001b[0mconfigLatexToolFn\u001b[0m\u001b[1;33m)\u001b[0m\u001b[1;33m\u001b[0m\u001b[1;33m\u001b[0m\u001b[0m\n\u001b[0m\u001b[0;32m    581\u001b[0m         \u001b[1;32mwith\u001b[0m \u001b[0mopen\u001b[0m\u001b[1;33m(\u001b[0m\u001b[0mpng_path\u001b[0m\u001b[1;33m,\u001b[0m \u001b[1;34m'wb'\u001b[0m\u001b[1;33m)\u001b[0m \u001b[1;32mas\u001b[0m \u001b[0mpng_file\u001b[0m\u001b[1;33m:\u001b[0m\u001b[1;33m\u001b[0m\u001b[1;33m\u001b[0m\u001b[0m\n\u001b[0;32m    582\u001b[0m             \u001b[0mpng_file\u001b[0m\u001b[1;33m.\u001b[0m\u001b[0mwrite\u001b[0m\u001b[1;33m(\u001b[0m\u001b[0mpng\u001b[0m\u001b[1;33m)\u001b[0m\u001b[1;33m\u001b[0m\u001b[1;33m\u001b[0m\u001b[0m\n",
      "\u001b[1;32mc:\\users\\joaqu\\prove-it\\packages\\proveit\\_core_\\_context_storage.py\u001b[0m in \u001b[0;36m_generate_png\u001b[1;34m(self, latex, configLatexToolFn)\u001b[0m\n\u001b[0;32m    595\u001b[0m         \u001b[0mpng\u001b[0m \u001b[1;33m=\u001b[0m \u001b[0mlatex_to_png\u001b[0m\u001b[1;33m(\u001b[0m\u001b[0mlatex\u001b[0m\u001b[1;33m,\u001b[0m \u001b[0mbackend\u001b[0m\u001b[1;33m=\u001b[0m\u001b[1;34m'dvipng'\u001b[0m\u001b[1;33m,\u001b[0m \u001b[0mwrap\u001b[0m\u001b[1;33m=\u001b[0m\u001b[1;32mTrue\u001b[0m\u001b[1;33m)\u001b[0m \u001b[1;31m# the 'matplotlib' backend can do some BAD rendering in my experience (like \\lnot rendering as lnot in some contexts)\u001b[0m\u001b[1;33m\u001b[0m\u001b[1;33m\u001b[0m\u001b[0m\n\u001b[0;32m    596\u001b[0m         \u001b[1;32mif\u001b[0m \u001b[0mpng\u001b[0m \u001b[1;32mis\u001b[0m \u001b[1;32mNone\u001b[0m\u001b[1;33m:\u001b[0m\u001b[1;33m\u001b[0m\u001b[1;33m\u001b[0m\u001b[0m\n\u001b[1;32m--> 597\u001b[1;33m             \u001b[1;32mraise\u001b[0m \u001b[0mException\u001b[0m\u001b[1;33m(\u001b[0m\u001b[1;34m\"Unable to use 'dvipng' backend to compile LaTeX.  Be sure a LaTeX distribution is installed.\"\u001b[0m\u001b[1;33m)\u001b[0m\u001b[1;33m\u001b[0m\u001b[1;33m\u001b[0m\u001b[0m\n\u001b[0m\u001b[0;32m    598\u001b[0m         \u001b[1;32mreturn\u001b[0m \u001b[0mpng\u001b[0m\u001b[1;33m\u001b[0m\u001b[1;33m\u001b[0m\u001b[0m\n\u001b[0;32m    599\u001b[0m \u001b[1;33m\u001b[0m\u001b[0m\n",
      "\u001b[1;31mException\u001b[0m: Unable to use 'dvipng' backend to compile LaTeX.  Be sure a LaTeX distribution is installed."
     ]
    },
    {
     "data": {
      "text/plain": [
       "\tstep type\trequirements\tstatement\n",
       "0\tinstantiation\t1, 33, 2, 3, 4, 5, 6, 7, 8*, 9, 10*, 11, 12, 13, 14, 15\t|- (( Gate(H)  & Gate(H) equiv  Gate(I)  & Gate(I)) and  MultiQubitGate(A_{1, 1}, R_{1, 1})  & MultiQubitGate(B_{1, j}, S_{1, j})  & MultiQubitGate(B_{1, j}, S_{1, j})  & MultiQubitGate(C_{1, 1}, Q_{1, 1})) =>  \\\\  MultiQubitGate(A_{1, 1}, R_{1, 1})  & MultiQubitGate(D_{1, j}, S_{1, j})  & MultiQubitGate(D_{1, j}, S_{1, j})  & MultiQubitGate(C_{1, 1}, Q_{1, 1})\n",
       "\th : 1, k : 1, m : 1, n : 2, A : A, B : (H, H), C : C, D : ([I], [I]), S : ({1}, {1}), R : R, Q : Q\n",
       "1\ttheorem\t\t|- forall_{h in NaturalsPos, k in NaturalsPos, m in NaturalsPos, n in NaturalsPos} [forall_{A_{1, 1}, ..A_{1, _b}.., A_{1, k}, ....A_{_a, 1}, ..A_{_a, _b}.., A_{_a, k}...., A_{m, 1}, ..A_{m, _b}.., A_{m, k}, B_{1, 1}, ..B_{1, _b}.., B_{1, n}, ....B_{_a, 1}, ..B_{_a, _b}.., B_{_a, n}...., B_{m, 1}, ..B_{m, _b}.., B_{m, n}, C_{1, 1}, ..C_{1, _b}.., C_{1, h}, ....C_{_a, 1}, ..C_{_a, _b}.., C_{_a, h}...., C_{m, 1}, ..C_{m, _b}.., C_{m, h}, D_{1, 1}, ..D_{1, _b}.., D_{1, n}, ....D_{_a, 1}, ..D_{_a, _b}.., D_{_a, n}...., D_{m, 1}, ..D_{m, _b}.., D_{m, n}, S_{1, 1}, ..S_{1, _b}.., S_{1, n}, ....S_{_a, 1}, ..S_{_a, _b}.., S_{_a, n}...., S_{m, 1}, ..S_{m, _b}.., S_{m, n}, R_{1, 1}, ..R_{1, _b}.., R_{1, k}, ....R_{_a, 1}, ..R_{_a, _b}.., R_{_a, k}...., R_{m, 1}, ..R_{m, _b}.., R_{m, k}, Q_{1, 1}, ..Q_{1, _b}.., Q_{1, h}, ....Q_{_a, 1}, ..Q_{_a, _b}.., Q_{_a, h}...., Q_{m, 1}, ..Q_{m, _b}.., Q_{m, h}} ((( MultiQubitGate(B_{1, 1}, S_{1, 1})  & ..MultiQubitGate(B_{1, j}, S_{1, j})..  & MultiQubitGate(B_{1, n}, S_{1, n})   \\\\ \n",
       "   \\colon  & \\colon  & \\colon   \\\\ \n",
       "   MultiQubitGate(B_{i, 1}, S_{i, 1})  & ..MultiQubitGate(B_{i, j}, S_{i, j})..  & MultiQubitGate(B_{i, n}, S_{i, n})   \\\\ \n",
       "   \\colon  & \\colon  & \\colon   \\\\ \n",
       "   MultiQubitGate(B_{m, 1}, S_{m, 1})  & ..MultiQubitGate(B_{m, j}, S_{m, j})..  & MultiQubitGate(B_{m, n}, S_{m, n}) equiv  MultiQubitGate(D_{1, 1}, S_{1, 1})  & ..MultiQubitGate(D_{1, j}, S_{1, j})..  & MultiQubitGate(D_{1, n}, S_{1, n})   \\\\ \n",
       "   \\colon  & \\colon  & \\colon   \\\\ \n",
       "   MultiQubitGate(D_{i, 1}, S_{i, 1})  & ..MultiQubitGate(D_{i, j}, S_{i, j})..  & MultiQubitGate(D_{i, n}, S_{i, n})   \\\\ \n",
       "   \\colon  & \\colon  & \\colon   \\\\ \n",
       "   MultiQubitGate(D_{m, 1}, S_{m, 1})  & ..MultiQubitGate(D_{m, j}, S_{m, j})..  & MultiQubitGate(D_{m, n}, S_{m, n})) and  MultiQubitGate(A_{1, 1}, R_{1, 1})  & ..MultiQubitGate(A_{1, j}, R_{1, j})..  & MultiQubitGate(A_{1, k}, R_{1, k})  & MultiQubitGate(B_{1, 1}, S_{1, 1})  & ..MultiQubitGate(B_{1, j}, S_{1, j})..  & MultiQubitGate(B_{1, n}, S_{1, n})  & MultiQubitGate(C_{1, 1}, Q_{1, 1})  & ..MultiQubitGate(C_{1, j}, Q_{1, j})..  & MultiQubitGate(C_{1, h}, Q_{1, h})   \\\\ \n",
       "   \\colon  & \\colon  & \\colon  & \\colon  & \\colon  & \\colon  & \\colon  & \\colon  & \\colon   \\\\ \n",
       "   MultiQubitGate(A_{i, 1}, R_{i, 1})  & ..MultiQubitGate(A_{i, j}, R_{i, j})..  & MultiQubitGate(A_{i, k}, R_{i, k})  & MultiQubitGate(B_{i, 1}, S_{i, 1})  & ..MultiQubitGate(B_{i, j}, S_{i, j})..  & MultiQubitGate(B_{i, n}, S_{i, n})  & MultiQubitGate(C_{i, 1}, Q_{i, 1})  & ..MultiQubitGate(C_{i, j}, Q_{i, j})..  & MultiQubitGate(C_{i, h}, Q_{i, h})   \\\\ \n",
       "   \\colon  & \\colon  & \\colon  & \\colon  & \\colon  & \\colon  & \\colon  & \\colon  & \\colon   \\\\ \n",
       "   MultiQubitGate(A_{m, 1}, R_{m, 1})  & ..MultiQubitGate(A_{m, j}, R_{m, j})..  & MultiQubitGate(A_{m, k}, R_{m, k})  & MultiQubitGate(B_{m, 1}, S_{m, 1})  & ..MultiQubitGate(B_{m, j}, S_{m, j})..  & MultiQubitGate(B_{m, n}, S_{m, n})  & MultiQubitGate(C_{m, 1}, Q_{m, 1})  & ..MultiQubitGate(C_{m, j}, Q_{m, j})..  & MultiQubitGate(C_{m, h}, Q_{m, h})) =>  \\\\  MultiQubitGate(A_{1, 1}, R_{1, 1})  & ..MultiQubitGate(A_{1, j}, R_{1, j})..  & MultiQubitGate(A_{1, k}, R_{1, k})  & MultiQubitGate(D_{1, 1}, S_{1, 1})  & ..MultiQubitGate(D_{1, j}, S_{1, j})..  & MultiQubitGate(D_{1, n}, S_{1, n})  & MultiQubitGate(C_{1, 1}, Q_{1, 1})  & ..MultiQubitGate(C_{1, j}, Q_{1, j})..  & MultiQubitGate(C_{1, h}, Q_{1, h})   \\\\ \n",
       "   \\colon  & \\colon  & \\colon  & \\colon  & \\colon  & \\colon  & \\colon  & \\colon  & \\colon   \\\\ \n",
       "   MultiQubitGate(A_{i, 1}, R_{i, 1})  & ..MultiQubitGate(A_{i, j}, R_{i, j})..  & MultiQubitGate(A_{i, k}, R_{i, k})  & MultiQubitGate(D_{i, 1}, S_{i, 1})  & ..MultiQubitGate(D_{i, j}, S_{i, j})..  & MultiQubitGate(D_{i, n}, S_{i, n})  & MultiQubitGate(C_{i, 1}, Q_{i, 1})  & ..MultiQubitGate(C_{i, j}, Q_{i, j})..  & MultiQubitGate(C_{i, h}, Q_{i, h})   \\\\ \n",
       "   \\colon  & \\colon  & \\colon  & \\colon  & \\colon  & \\colon  & \\colon  & \\colon  & \\colon   \\\\ \n",
       "   MultiQubitGate(A_{m, 1}, R_{m, 1})  & ..MultiQubitGate(A_{m, j}, R_{m, j})..  & MultiQubitGate(A_{m, k}, R_{m, k})  & MultiQubitGate(D_{m, 1}, S_{m, 1})  & ..MultiQubitGate(D_{m, j}, S_{m, j})..  & MultiQubitGate(D_{m, n}, S_{m, n})  & MultiQubitGate(C_{m, 1}, Q_{m, 1})  & ..MultiQubitGate(C_{m, j}, Q_{m, j})..  & MultiQubitGate(C_{m, h}, Q_{m, h}))]\n",
       "\tproveit.physics.quantum.time_equiv_judgement\n",
       "2\ttheorem\t\t|- 2 in NaturalsPos\n",
       "\tproveit.number.numeral.deci.posnat2\n",
       "3\tinstantiation\t19, 17, 16\t|- |(H, H)| = |((1, 1), ..(1, x).., (1, 2), ....(k, 1), ..(k, x).., (k, 2)...., (1, 1), ..(1, x).., (1, 2))|\n",
       "\tx : |(H, H)|, y : 2, z : |((1, 1), ..(1, x).., (1, 2), ....(k, 1), ..(k, x).., (k, 2)...., (1, 1), ..(1, x).., (1, 2))|\n",
       "4\tinstantiation\t19, 20, 16\t|- |([I], [I])| = |((1, 1), ..(1, x).., (1, 2), ....(k, 1), ..(k, x).., (k, 2)...., (1, 1), ..(1, x).., (1, 2))|\n",
       "\tx : |([I], [I])|, y : 2, z : |((1, 1), ..(1, x).., (1, 2), ....(k, 1), ..(k, x).., (k, 2)...., (1, 1), ..(1, x).., (1, 2))|\n",
       "5\tinstantiation\t19, 18, 16\t|- |({1}, {1})| = |((1, 1), ..(1, x).., (1, 2), ....(k, 1), ..(k, x).., (k, 2)...., (1, 1), ..(1, x).., (1, 2))|\n",
       "\tx : |({1}, {1})|, y : 2, z : |((1, 1), ..(1, x).., (1, 2), ....(k, 1), ..(k, x).., (k, 2)...., (1, 1), ..(1, x).., (1, 2))|\n",
       "6\tinstantiation\t19, 17, 21\t|- |(H, H)| = |((i, 1), ..(i, a).., (i, 2))|\n",
       "\tx : |(H, H)|, y : 2, z : |((i, 1), ..(i, a).., (i, 2))|\n",
       "7\tinstantiation\t19, 18, 21\t|- |({1}, {1})| = |((i, 1), ..(i, a).., (i, 2))|\n",
       "\tx : |({1}, {1})|, y : 2, z : |((i, 1), ..(i, a).., (i, 2))|\n",
       "8\tinstantiation\t22, 33\t|- MultiQubitGate(H, {1}) = Gate(H)\n",
       "\tU : H, A : 1\n",
       "9\tinstantiation\t19, 20, 21\t|- |([I], [I])| = |((i, 1), ..(i, a).., (i, 2))|\n",
       "\tx : |([I], [I])|, y : 2, z : |((i, 1), ..(i, a).., (i, 2))|\n",
       "10\tinstantiation\t22, 33\t|- MultiQubitGate(I, {1}) = Gate(I)\n",
       "\tU : [I], A : 1\n",
       "11\tinstantiation\t23\t|- (MultiQubitGate(A_{i, 1}, R_{i, 1}), ..MultiQubitGate(A_{i, a}, R_{i, a}).., MultiQubitGate(A_{i, 1}, R_{i, 1})) = (MultiQubitGate(A_{i, 1}, R_{i, 1}))\n",
       "\tf(j) : MultiQubitGate(A_{i, j}, R_{i, j}), i : 1\n",
       "12\tinstantiation\t23\t|- (MultiQubitGate(C_{i, 1}, Q_{i, 1}), ..MultiQubitGate(C_{i, a}, Q_{i, a}).., MultiQubitGate(C_{i, 1}, Q_{i, 1})) = (MultiQubitGate(C_{i, 1}, Q_{i, 1}))\n",
       "\tf(j) : MultiQubitGate(C_{i, j}, Q_{i, j}), i : 1\n",
       "13\tinstantiation\t23\t|- (MultiQubitGate(A_{1, 1}, R_{1, 1}), ..MultiQubitGate(A_{1, a}, R_{1, a}).., MultiQubitGate(A_{1, 1}, R_{1, 1})) = (MultiQubitGate(A_{1, 1}, R_{1, 1}))\n",
       "\tf(j) : MultiQubitGate(A_{1, j}, R_{1, j}), i : 1\n",
       "14\tinstantiation\t23\t|- (MultiQubitGate(C_{1, 1}, Q_{1, 1}), ..MultiQubitGate(C_{1, a}, Q_{1, a}).., MultiQubitGate(C_{1, 1}, Q_{1, 1})) = (MultiQubitGate(C_{1, 1}, Q_{1, 1}))\n",
       "\tf(j) : MultiQubitGate(C_{1, j}, Q_{1, j}), i : 1\n",
       "15\ttheorem\t\t|- (1) = (1, ..k.., 1)\n",
       "\tproveit.number.numeral.deci.count_to_1_range\n",
       "16\tinstantiation\t26, 24\t|- 2 = |((1, 1), ..(1, x).., (1, 2), ....(k, 1), ..(k, x).., (k, 2)...., (1, 1), ..(1, x).., (1, 2))|\n",
       "\tx : |((1, 1), ..(1, x).., (1, 2), ....(k, 1), ..(k, x).., (k, 2)...., (1, 1), ..(1, x).., (1, 2))|, y : 2\n",
       "17\tinstantiation\t25\t|- |(H, H)| = 2\n",
       "\ta : H, b : H\n",
       "18\tinstantiation\t25\t|- |({1}, {1})| = 2\n",
       "\ta : {1}, b : {1}\n",
       "19\taxiom\t\t|- forall_{x, y, z | x = y, y = z} (x = z)\n",
       "\tproveit.logic.equality.equalsTransitivity\n",
       "20\tinstantiation\t25\t|- |([I], [I])| = 2\n",
       "\ta : [I], b : [I]\n",
       "21\tinstantiation\t26, 27\t|- 2 = |((i, 1), ..(i, a).., (i, 2))|\n",
       "\tx : |((i, 1), ..(i, a).., (i, 2))|, y : 2\n",
       "22\ttheorem\t\t|- forall_{U} [forall_{A in NaturalsPos} (MultiQubitGate(U, {A}) = Gate(U))]\n",
       "\tproveit.physics.quantum.unary_multiQubitGate_reduction\n",
       "23\ttheorem\t\t|- forall_{f, i} ((f(i), ..f(a).., f(i)) = (f(i)))\n",
       "\tproveit.core_expr_types.tuples.singular_range_reduction\n",
       "24\tinstantiation\t28, 29, 30\t|- |((1, 1), ..(1, x).., (1, 2), ....(k, 1), ..(k, x).., (k, 2)...., (1, 1), ..(1, x).., (1, 2))| = 2\n",
       "\tP(_a) : |((1, 1), ..(1, x).., (1, 2), ....(k, 1), ..(k, x).., (k, 2)...., (1, 1), ..(1, x).., (1, 2))| = _a, x : 1 * 2, y : 2\n",
       "25\ttheorem\t\t|- forall_{a, b} (|(a, b)| = 2)\n",
       "\tproveit.number.numeral.deci.tuple_len_2\n",
       "26\ttheorem\t\t|- forall_{x, y | x = y} (y = x)\n",
       "\tproveit.logic.equality.equalsReversal\n",
       "27\tinstantiation\t31, 35\t|- |((i, 1), ..(i, a).., (i, 2))| = 2\n",
       "\ti : 2, f(j) : (i, j)\n",
       "28\ttheorem\t\t|- forall_{P, x, y | P(x), x = y} P(y)\n",
       "\tproveit.logic.equality.subRightSideInto\n",
       "29\tinstantiation\t32, 33, 34, 35\t|- |((1, 1), ..(1, x).., (1, 2), ....(k, 1), ..(k, x).., (k, 2)...., (1, 1), ..(1, x).., (1, 2))| \\\\  = (1 * 2)\n",
       "\tn : 1, f : (_b -> (1, _b), .._b -> (_a, _b).., _b -> (1, _b)), i : 2\n",
       "30\ttheorem\t\t|- (1 * 2) = 2\n",
       "\tproveit.number.numeral.deci.mult_1_2\n",
       "31\ttheorem\t\t|- forall_{i in Naturals} [forall_{f} (|(f(1), ..f(a).., f(i))| = i)]\n",
       "\tproveit.core_expr_types.tuples.range_from1_len\n",
       "32\ttheorem\t\t|- forall_{n in NaturalsPos} [forall_{f_{1}, ..f_{_a}.., f_{n}, i | i in Naturals} (|(f_{1}(1), ..f_{1}(x).., f_{1}(i), ....f_{k}(1), ..f_{k}(x).., f_{k}(i)...., f_{n}(1), ..f_{n}(x).., f_{n}(i))| \\\\  = (n * i))]\n",
       "\tproveit.core_expr_types.tuples.len_of_ranges_with_repeated_indices_from_1\n",
       "33\ttheorem\t\t|- 1 in NaturalsPos\n",
       "\tproveit.number.numeral.deci.posnat1\n",
       "34\tinstantiation\t36, 37\t|- |(_b -> (1, _b), .._b -> (a, _b).., _b -> (1, _b))| = |(1, ..k.., 1)|\n",
       "\ti : 1, f(_a) : _b -> (_a, _b)\n",
       "35\ttheorem\t\t|- 2 in Naturals\n",
       "\tproveit.number.numeral.deci.nat2\n",
       "36\ttheorem\t\t|- forall_{i in Naturals} [forall_{f} (|(f(1), ..f(a).., f(i))| = |(1, ..k.., i)|)]\n",
       "\tproveit.core_expr_types.tuples.range_from1_len_typical_equiv\n",
       "37\ttheorem\t\t|- 1 in Naturals\n",
       "\tproveit.number.numeral.deci.nat1"
      ]
     },
     "execution_count": 24,
     "metadata": {},
     "output_type": "execute_result"
    }
   ],
   "source": [
    "time_equiv_judgement.instantiate({h:one, k:one, n: two, m:one, B:ExprTuple(H, H), D:ExprTuple(IdentityOp().withStyles(gate='explicit'), \n",
    "                                                                    IdentityOp()), S: ExprTuple(Set(one), Set(one))}, \n",
    "                                 assumptions=[InSet(h, NaturalsPos), InSet(k, NaturalsPos), InSet(m, NaturalsPos),\n",
    "                                              InSet(n, NaturalsPos)]).proof()"
   ]
  },
  {
   "cell_type": "code",
   "execution_count": null,
   "metadata": {},
   "outputs": [],
   "source": [
    "time_equiv_judgement.instantiate({h:one, k:one, n: two, m:one, B:ExprTuple(H, H), S: ExprTuple(Set(one), Set(one))}, \n",
    "                                 assumptions=[InSet(h, NaturalsPos), InSet(k, NaturalsPos), InSet(m, NaturalsPos),\n",
    "                                              InSet(n, NaturalsPos)]).proof()"
   ]
  },
  {
   "cell_type": "code",
   "execution_count": null,
   "metadata": {},
   "outputs": [],
   "source": [
    "# Instantiating! FOR PAPER EXAMPLE!!\n",
    "time_equiv_judgement.instantiate({h:one, k:one, m:one, n:two, A:ExprTuple(Input(ket_psi)), B:ExprTuple(H, H), \n",
    "                                  C:ExprTuple(Output(ket_psi)), D:ExprTuple(IdentityOp().withStyles(gate='explicit'), \n",
    "                                                                    IdentityOp()), \n",
    "                                  S:ExprTuple(Set(one), Set(one)), R:ExprTuple(Set(one)), \n",
    "                                  Q:ExprTuple(Set(one))}, assumptions=[assumptions]).proof()"
   ]
  },
  {
   "cell_type": "code",
   "execution_count": null,
   "metadata": {},
   "outputs": [],
   "source": [
    "print(CircuitEquiv(\n",
    "    Circuit(ExprArray(ExprTuple(MultiQubitGate(CONTROL, Set(one, three)), IdentityOp()),\n",
    "                     ExprTuple(IdentityOp(), IdentityOp()),\n",
    "                     ExprTuple(MultiQubitGate(X, Set(one, three)).withStyles(representation='implicit'), IdentityOp()))),\n",
    "    Circuit(ExprArray(ExprTuple(MultiQubitGate(CONTROL, Set(one, two)), IdentityOp(), MultiQubitGate(CONTROL, Set(one, two)), IdentityOp(), IdentityOp()),\n",
    "                     ExprTuple(MultiQubitGate(X, Set(one, two)).withStyles(representation='implicit'), MultiQubitGate(CONTROL, Set(two, three)), MultiQubitGate(X, Set(one, two)).withStyles(representation='implicit'), MultiQubitGate(CONTROL, Set(two, three)), IdentityOp()),\n",
    "                     ExprTuple(IdentityOp(), MultiQubitGate(X, Set(two, three)).withStyles(representation='implicit'), IdentityOp(), MultiQubitGate(X, Set(two, three)).withStyles(representation='implicit'), IdentityOp())\n",
    "                     ))).latex())\n",
    "            \n",
    "    "
   ]
  },
  {
   "cell_type": "code",
   "execution_count": null,
   "metadata": {},
   "outputs": [],
   "source": [
    "print(CircuitEquiv(\n",
    "    Circuit(ExprArray(ExprTuple(MultiQubitGate(Literal('MES'), Set(one, two)), SPACE),\n",
    "                      ExprTuple(MultiQubitGate(U, Set(one, two)), IdentityOp()))),\n",
    "    Circuit(ExprArray(ExprTuple(MultiQubitGate(CONTROL, Set(one, two)), MES),\n",
    "                     ExprTuple(MultiQubitGate(U, Set(one, two)), IdentityOp())))).latex())"
   ]
  },
  {
   "cell_type": "code",
   "execution_count": null,
   "metadata": {},
   "outputs": [],
   "source": [
    "ExprArray(ExprTuple(Literal('~', '~'), Ket(DecimalSequence(zero, zero)), Ket(DecimalSequence(zero, one)), \n",
    "                    Ket(DecimalSequence(one, zero)), Ket(DecimalSequence(one, one))),\n",
    "         ExprTuple(Ket(DecimalSequence(zero, zero)), one, zero, zero, zero),\n",
    "         ExprTuple(Ket(DecimalSequence(zero, one)), zero, one, zero, zero),\n",
    "         ExprTuple(Ket(DecimalSequence(one, zero)), zero, zero, one, zero),\n",
    "         ExprTuple(Ket(DecimalSequence(one, one)), zero, zero, zero, one))"
   ]
  },
  {
   "cell_type": "code",
   "execution_count": null,
   "metadata": {},
   "outputs": [],
   "source": [
    "CircuitEquiv(\n",
    "    Circuit(\n",
    "        ExprArray(\n",
    "            ExprTuple(MultiQubitGate(CONTROL, Set(one, two)), IdentityOp()), \n",
    "            ExprTuple(MultiQubitGate(Z, Set(one, two)), IdentityOp()))).withStyles(spacing='@C=2em @R=3em'),\n",
    "    Circuit(\n",
    "        ExprArray(\n",
    "            ExprTuple(MultiQubitGate(Z, Set(one, two)), IdentityOp()), \n",
    "            ExprTuple(MultiQubitGate(CONTROL, Set(one, two)), IdentityOp()))).withStyles(spacing='@C=2em @R=3em')\n",
    ").latex()"
   ]
  },
  {
   "cell_type": "code",
   "execution_count": null,
   "metadata": {},
   "outputs": [],
   "source": [
    "ControlZ = Circuit(\n",
    "        ExprArray(\n",
    "            ExprTuple(MultiQubitGate(CONTROL, Set(one, two)), IdentityOp()), \n",
    "            ExprTuple(MultiQubitGate(Z, Set(one, two)), IdentityOp())))"
   ]
  },
  {
   "cell_type": "code",
   "execution_count": null,
   "metadata": {},
   "outputs": [],
   "source": [
    "Reversed = Circuit(\n",
    "        ExprArray(\n",
    "            ExprTuple(MultiQubitGate(Z, Set(one, two)), IdentityOp()), \n",
    "            ExprTuple(MultiQubitGate(CONTROL, Set(one, two)), IdentityOp())))"
   ]
  },
  {
   "cell_type": "code",
   "execution_count": null,
   "metadata": {},
   "outputs": [],
   "source": [
    "CircuitEquiv(\n",
    "    ControlZ,\n",
    "    Reversed\n",
    ")"
   ]
  },
  {
   "cell_type": "code",
   "execution_count": null,
   "metadata": {},
   "outputs": [],
   "source": [
    "# Null control\n",
    "Circuit(\n",
    "    ExprArray(\n",
    "        ExprTuple(Input(ket0), \n",
    "                  MultiQubitGate(CONTROL, \n",
    "                                 Set(one, two)), \n",
    "                  Output(ket0)), \n",
    "        ExprTuple(Input(ket_psi), \n",
    "                  MultiQubitGate(U, Set(one, two)), \n",
    "                  Output(ket_psi))))"
   ]
  },
  {
   "cell_type": "code",
   "execution_count": null,
   "metadata": {},
   "outputs": [],
   "source": [
    "# Null Gates\n",
    "Circuit(\n",
    "    ExprArray(\n",
    "        ExprTuple(Input(ket_psi), Gate(Z), \n",
    "                  Gate(Z), Output(ket_psi)), \n",
    "        ExprTuple(Input(ket_psi), Gate(X), \n",
    "                  Gate(X), Output(ket_psi))))"
   ]
  },
  {
   "cell_type": "code",
   "execution_count": null,
   "metadata": {},
   "outputs": [],
   "source": [
    "print(Circuit(ExprArray(ExprTuple(Input(ket_psi), IdentityOp(), IdentityOp(), MultiQubitGate(CONTROL, Set(one, two)), \n",
    "                            Gate(H), MES, MultiQubitGate(CLASSICAL_CONTROL, Set(one, three)), SPACE),\n",
    "                 ExprTuple(Input(ket0), IdentityOp(), MultiQubitGate(X, Set(two, three)).withStyles(representation='implicit'),\n",
    "                           MultiQubitGate(X, Set(one, two)).withStyles(representation='implicit'), \n",
    "                           IdentityOp(), MultiQubitGate(Literal('MES'), Set(two, three)), SPACE, SPACE),\n",
    "                 ExprTuple(Input(ket0), Gate(H), MultiQubitGate(CONTROL, Set(two, three)), IdentityOp(), IdentityOp(), \n",
    "                           MultiQubitGate(X, Set(two, three)), MultiQubitGate(Z, Set(one, three)), Output(ket_psi)))).withStyles(spacing='@C=3em @R=2.5em').latex())"
   ]
  },
  {
   "cell_type": "code",
   "execution_count": null,
   "metadata": {},
   "outputs": [],
   "source": [
    "single_time_equiv"
   ]
  },
  {
   "cell_type": "code",
   "execution_count": null,
   "metadata": {},
   "outputs": [],
   "source": [
    "# 3 by 1 array, subbing Gate(z) - UNFLATTENED\n",
    "single_time_equiv.instantiate({h: one, k: one, m: one,  \n",
    "                              A: ExprTuple(H), \n",
    "                              B: ExprTuple(Z), \n",
    "                              C: ExprTuple(X), \n",
    "                              D: ExprTuple(Z), \n",
    "                              S: ExprTuple(Set(one)), \n",
    "                              R: ExprTuple(Set(one)),\n",
    "                              Q: ExprTuple(Set(one)),\n",
    "                             }, \n",
    "                             \n",
    "                             assumptions=[CircuitEquiv(Circuit(ExprArray(ExprTuple(Gate(Z)))), \n",
    "                                                       Circuit(ExprArray(ExprTuple(Gate(Z))))),\n",
    "                                         ]).proof()"
   ]
  },
  {
   "cell_type": "code",
   "execution_count": null,
   "metadata": {},
   "outputs": [],
   "source": [
    "time_equiv"
   ]
  },
  {
   "cell_type": "code",
   "execution_count": null,
   "metadata": {},
   "outputs": [],
   "source": [
    "time_equiv.instantiate({h:one, k:one, m:one, n:three, A:ExprTuple(Z), \n",
    "                        B: ExprTuple(H, X, H), C: ExprTuple(Z), D:ExprTuple(SPACE, X, SPACE), \n",
    "                        S:ExprTuple(Set(one), Set(one), Set(one)), R:ExprTuple(Set(one)), Q:ExprTuple(Set(one))}).proof()"
   ]
  },
  {
   "cell_type": "code",
   "execution_count": null,
   "metadata": {},
   "outputs": [],
   "source": [
    "assert False"
   ]
  },
  {
   "cell_type": "code",
   "execution_count": null,
   "metadata": {},
   "outputs": [],
   "source": [
    "# single_time_equiv.instantiate({h: one, k: one, m: one,  \n",
    "#                               A: ExprTuple(Gate(H)), \n",
    "#                               B: ExprTuple(Gate(Z)), \n",
    "#                               C: ExprTuple(Gate(X)), \n",
    "#                               D: ExprTuple(Gate(Z)), \n",
    "#                               S: ExprTuple(Set(one)), \n",
    "#                               R: ExprTuple(Set(one)),\n",
    "#                               Q: ExprTuple(Set(one)),\n",
    "#                              }, \n",
    "                             \n",
    "#                              assumptions=[CircuitEquiv(Circuit(ExprArray(ExprTuple(Gate(Z)))), \n",
    "#                                                        Circuit(ExprArray(ExprTuple(Gate(Z))))),\n",
    "#                                          ])"
   ]
  },
  {
   "cell_type": "code",
   "execution_count": null,
   "metadata": {},
   "outputs": [],
   "source": [
    "MultiQubitGate(Gate(Z), Set(one)).latex()"
   ]
  },
  {
   "cell_type": "code",
   "execution_count": null,
   "metadata": {},
   "outputs": [],
   "source": [
    "MultiQubitGate(Z, Set(one))"
   ]
  },
  {
   "cell_type": "code",
   "execution_count": null,
   "metadata": {},
   "outputs": [],
   "source": [
    "# 3 by 1 array, subbing Gate(z) - UNFLATTENED\n",
    "single_time_equiv.instantiate({h: one, k: one, m: one,  \n",
    "                              A: ExprTuple(Gate(H)), \n",
    "                              B: ExprTuple(Gate(Z)), \n",
    "                              C: ExprTuple(Gate(X)), \n",
    "                              D: ExprTuple(Gate(Z)), \n",
    "                              S: ExprTuple(Set()), \n",
    "                              R: ExprTuple(Set()),\n",
    "                              Q: ExprTuple(Set()),\n",
    "                             }, \n",
    "                             \n",
    "                             assumptions=[CircuitEquiv(Circuit(ExprArray(ExprTuple(Gate(Z)))), \n",
    "                                                       Circuit(ExprArray(ExprTuple(Gate(Z))))),\n",
    "                                         ]).latex()"
   ]
  },
  {
   "cell_type": "code",
   "execution_count": null,
   "metadata": {},
   "outputs": [],
   "source": [
    "print(Forall ((h, k, m), Forall((varRange(A, [one, one], [m, k]), varRange(B, one, m), \n",
    "                                                varRange(C, [one, one], [m, h]), varRange(D, one, m), \n",
    "                                                varRange(S, one, m), varRange(R, [one, one], [m, k]), \n",
    "                                                varRange(Q, [one, one], [m, h])), \n",
    "        \n",
    "            CircuitEquiv(\n",
    "                        Circuit(ExprArray(ExprRange(i, ExprTuple(MultiQubitGate(IndexedVar(B, i), IndexedVar(S, i))), one, m))),\n",
    "                        Circuit(ExprArray(ExprRange(i, ExprTuple(MultiQubitGate(IndexedVar(D, i), IndexedVar(S, i))), one, m)))\n",
    "            )\n",
    "    ).wrapParams(), domain=NaturalsPos).withWrapping().latex())"
   ]
  },
  {
   "cell_type": "code",
   "execution_count": null,
   "metadata": {},
   "outputs": [],
   "source": [
    "Forall ((h, k, m), Forall((varRange(A, [one, one], [m, k]), varRange(B, one, m), \n",
    "                                                varRange(C, [one, one], [m, h]), varRange(D, one, m), \n",
    "                                                varRange(S, one, m), varRange(R, [one, one], [m, k]), \n",
    "                                                varRange(Q, [one, one], [m, h])), \n",
    "        \n",
    "            CircuitEquiv(\n",
    "                        Circuit(ExprArray(ExprRange(i, ExprTuple(MultiQubitGate(IndexedVar(B, i), IndexedVar(S, i))), one, m))),\n",
    "                        Circuit(ExprArray(ExprRange(i, ExprTuple(MultiQubitGate(IndexedVar(D, i), IndexedVar(S, i))), one, m)))\n",
    "            )\n",
    "    ).wrapParams(), domain=NaturalsPos)"
   ]
  },
  {
   "cell_type": "code",
   "execution_count": null,
   "metadata": {},
   "outputs": [],
   "source": [
    "Forall ((h, k, m), Forall((varRange(A, [one, one], [m, k]), varRange(B, one, m), \n",
    "                                                varRange(C, [one, one], [m, h]), varRange(D, one, m), \n",
    "                                                varRange(S, one, m), varRange(R, [one, one], [m, k]), \n",
    "                                                varRange(Q, [one, one], [m, h])), \n",
    "        \n",
    "            CircuitEquiv(\n",
    "                        Circuit(ExprArray(ExprRange(i, ExprTuple(MultiQubitGate(IndexedVar(B, i), IndexedVar(S, i))), one, m))),\n",
    "                        Circuit(ExprArray(ExprRange(i, ExprTuple(MultiQubitGate(IndexedVar(D, i), IndexedVar(S, i))), one, m)))\n",
    "            )\n",
    "    ).wrapParams(), domain=NaturalsPos)"
   ]
  },
  {
   "cell_type": "code",
   "execution_count": null,
   "metadata": {},
   "outputs": [],
   "source": [
    "Forall((varRange(A, [one, one], [m, k]), varRange(B, one, m), \n",
    "                                                varRange(C, [one, one], [m, h]), varRange(D, one, m), \n",
    "                                                varRange(S, one, m), varRange(R, [one, one], [m, k]), \n",
    "                                                varRange(Q, [one, one], [m, h])), \n",
    "        \n",
    "            CircuitEquiv(\n",
    "                        Circuit(ExprArray(ExprRange(i, ExprTuple(MultiQubitGate(IndexedVar(B, i), IndexedVar(S, i))), one, m))),\n",
    "                        Circuit(ExprArray(ExprRange(i, ExprTuple(MultiQubitGate(IndexedVar(D, i), IndexedVar(S, i))), one, m)))\n",
    "            )\n",
    "    ).wrapParams()"
   ]
  },
  {
   "cell_type": "code",
   "execution_count": null,
   "metadata": {},
   "outputs": [],
   "source": [
    "Forall ((h, k, m), Forall((varRange(A, [one, one], [m, k]), varRange(B, one, m), \n",
    "                                                varRange(C, [one, one], [m, h]), varRange(D, one, m), \n",
    "                                                varRange(S, one, m), varRange(R, [one, one], [m, k]), \n",
    "                                                varRange(Q, [one, one], [m, h])), \n",
    "        Implies(\n",
    "            CircuitEquiv(\n",
    "                        Circuit(ExprArray(ExprRange(i, ExprTuple(MultiQubitGate(IndexedVar(B, i), IndexedVar(S, i))), one, m))),\n",
    "                        Circuit(ExprArray(ExprRange(i, ExprTuple(MultiQubitGate(IndexedVar(D, i), IndexedVar(S, i))), one, m)))\n",
    "            ),\n",
    "            CircuitEquiv(\n",
    "                        Circuit(ExprArray(ExprRange(i, ExprTuple(ExprRange(j, MultiQubitGate(Aij, Rij), one, k), \n",
    "                                            MultiQubitGate(IndexedVar(B, i), IndexedVar(S, i)),\n",
    "                                            ExprRange(j, MultiQubitGate(Cij, Qij), one, h)), \n",
    "                                    one, m))),\n",
    "                        Circuit(ExprArray(ExprRange(i, ExprTuple(ExprRange(j, MultiQubitGate(Aij, Rij), one, k), \n",
    "                                            MultiQubitGate(IndexedVar(D, i), IndexedVar(S, i)),\n",
    "                                            ExprRange(j, MultiQubitGate(Cij, Qij), one, h)), \n",
    "                                    one, m)))\n",
    "            )\n",
    "        ).withWrappingAt(2)\n",
    "    ).wrapParams(), domain=NaturalsPos)"
   ]
  },
  {
   "cell_type": "code",
   "execution_count": null,
   "metadata": {},
   "outputs": [],
   "source": [
    "lhs = Circuit(ExprArray(ExprTuple(MultiQubitGate(CONTROL, Set(one, two))), \n",
    "        ExprTuple(MultiQubitGate(Z, Set(one, two))), \n",
    "        ExprTuple(MultiQubitGate(CONTROL, Set(three, four))), \n",
    "        ExprTuple(MultiQubitGate(Z, Set(three, four)))))"
   ]
  },
  {
   "cell_type": "code",
   "execution_count": null,
   "metadata": {},
   "outputs": [],
   "source": [
    "rhs = Circuit(ExprArray(ExprTuple(MultiQubitGate(CONTROL, Set(one, two))), \n",
    "        ExprTuple(MultiQubitGate(Z, Set(one, two))), \n",
    "        ExprTuple(MultiQubitGate(CONTROL, Set(three, four))), \n",
    "        ExprTuple(MultiQubitGate(Z, Set(three, four)))))"
   ]
  },
  {
   "cell_type": "code",
   "execution_count": null,
   "metadata": {},
   "outputs": [],
   "source": [
    "#CircuitEquiv(lhs, rhs).prove(assumptions=[CircuitEquiv(lhs, rhs)])"
   ]
  },
  {
   "cell_type": "code",
   "execution_count": null,
   "metadata": {},
   "outputs": [],
   "source": [
    "big = Circuit(ExprArray(ExprTuple(Gate(H), MultiQubitGate(CONTROL, Set(one, two)), Gate(X)), \n",
    "        ExprTuple(Gate(H), MultiQubitGate(Z, Set(one, two)), \n",
    "                  Gate(X)), \n",
    "        ExprTuple(Gate(H), MultiQubitGate(CONTROL, Set(three, four)), Gate(X)), \n",
    "        ExprTuple(Gate(H), MultiQubitGate(Z, Set(three, four)), \n",
    "                  Gate(X))))"
   ]
  },
  {
   "cell_type": "code",
   "execution_count": null,
   "metadata": {},
   "outputs": [],
   "source": [
    "big_left = Circuit(ExprArray(ExprTuple(Gate(H)), \n",
    "        ExprTuple(Gate(H)), \n",
    "        ExprTuple(Gate(H)), \n",
    "        ExprTuple(Gate(H))))\n"
   ]
  },
  {
   "cell_type": "code",
   "execution_count": null,
   "metadata": {},
   "outputs": [],
   "source": [
    "big_right = Circuit(ExprArray(ExprTuple(Gate(X)), \n",
    "        ExprTuple(Gate(X)), \n",
    "        ExprTuple(Gate(X)), \n",
    "        ExprTuple(Gate(X))))"
   ]
  },
  {
   "cell_type": "code",
   "execution_count": null,
   "metadata": {},
   "outputs": [],
   "source": [
    "# # single variables, no ExprTuple, unflattened\n",
    "# single_time_equiv.specialize({h: one, k: one, m: four, A: big_left, B: lhs, C: big_right, D: rhs, \n",
    "#                               R: [Set(), Set(), Set(), Set()], S:[Set(one, two), Set(one, two), Set(three, four), \n",
    "#                                                                   Set(three, four)], \n",
    "#                               Q: [Set(), Set(), Set(), Set()]}, assumptions=[CircuitEquiv(lhs, rhs)])"
   ]
  },
  {
   "cell_type": "code",
   "execution_count": null,
   "metadata": {},
   "outputs": [],
   "source": [
    "# # single variables, but flattened\n",
    "# single_time_equiv.specialize({h: one, k: one, m: four, A: ExprTuple(Gate(H), Gate(H), Gate(H), Gate(H)), \n",
    "#                               B: ExprTuple(MultiQubitGate(CONTROL, Set(one, two)), MultiQubitGate(Z, Set(one, two)), \n",
    "#                                            MultiQubitGate(CONTROL, Set(three, four)), MultiQubitGate(Z, Set(three, four))), \n",
    "#                               C: ExprTuple(Gate(X), Gate(X), Gate(X), Gate(X)), \n",
    "#                               D: ExprTuple(MultiQubitGate(CONTROL, Set(one, two)), MultiQubitGate(Z, Set(one, two)), \n",
    "#                                            MultiQubitGate(CONTROL, Set(three, four)), MultiQubitGate(Z, Set(three, four))), \n",
    "#                               R: ExprTuple(Set(one), Set(two), Set(three), Set(four)), S:ExprTuple(Set(one, two), Set(one, two), \n",
    "#                                                                                     Set(three, four), Set(three, four)), \n",
    "#                               Q: ExprTuple(Set(one), Set(two), Set(three), Set(four))}, assumptions=[CircuitEquiv(lhs, rhs)])"
   ]
  },
  {
   "cell_type": "code",
   "execution_count": null,
   "metadata": {},
   "outputs": [],
   "source": [
    "# 3 by 4, subbing two controlled z gates\n",
    "# single_time_equiv.specialize({h: one, k: one, m: four, \n",
    "#                               ExprTuple(ExprRange(i, ExprRange(j, Aij, one, k), one, m)): ExprTuple(Gate(H), Gate(H), \n",
    "#                                                                                                     Gate(H), Gate(H)), \n",
    "#                               ExprTuple(varRange(B, one, m)): ExprTuple(MultiQubitGate(CONTROL, Set(one, two)), \n",
    "#                                                                         MultiQubitGate(Z, Set(one, two)),\n",
    "#                                                                         MultiQubitGate(CONTROL, Set(three, four)), \n",
    "#                                                                         MultiQubitGate(Z, Set(three, four))), \n",
    "#                               ExprTuple(varRange(C, [one, one], [m, h])): ExprTuple(Gate(X), Gate(X), Gate(X), Gate(X)), \n",
    "#                               ExprTuple(varRange(D, one, m)): ExprTuple(MultiQubitGate(CONTROL, Set(one, two)), \n",
    "#                                                                         MultiQubitGate(Z, Set(one, two)), \n",
    "#                                            MultiQubitGate(CONTROL, Set(three, four)), MultiQubitGate(Z, Set(three, four))), \n",
    "#                               ExprTuple(varRange(S, one, m)): ExprTuple(Set(one, two), Set(one, two), \n",
    "#                                                                         Set(three, four), Set(three, four)), \n",
    "#                               ExprTuple(varRange(R, [one, one], [m, k])): ExprTuple(Set(), Set(), Set(), Set()), \n",
    "#                               ExprTuple(varRange(Q, [one, one], [m, h])): ExprTuple(Set(), Set(), Set(), Set())}, \n",
    "#                              assumptions=[CircuitEquiv(lhs, rhs)])\n",
    "\n",
    "# COUNTING TO 10 ERROR"
   ]
  },
  {
   "cell_type": "code",
   "execution_count": null,
   "metadata": {},
   "outputs": [],
   "source": [
    "from proveit.core_expr_types.tuples._theorems_ import singular_range_reduction\n",
    "singular_range_reduction"
   ]
  },
  {
   "cell_type": "code",
   "execution_count": null,
   "metadata": {},
   "outputs": [],
   "source": [
    "single_time_equiv"
   ]
  },
  {
   "cell_type": "code",
   "execution_count": null,
   "metadata": {},
   "outputs": [],
   "source": [
    "CircuitEquiv(\n",
    "                    Circuit(ExprArray(ExprTuple(ExprRange(j, MultiQubitGate(IndexedVar(B, j), Set(Add(m, one), Add(m, k, two))), one, n)),\n",
    "                            ExprTuple(ExprRange(j, MultiQubitGate(IndexedVar(D, j), Set(Add(m, one), Add(m, k, two))), one, n)))),\n",
    "                    Circuit(ExprArray(ExprTuple(ExprRange(j, MultiQubitGate(IndexedVar(F, j), Set(Add(m, one), Add(m, k, two))), one, n)),\n",
    "                            ExprTuple(ExprRange(j, MultiQubitGate(IndexedVar(G, j), Set(Add(m, one), Add(m, k, two))), one, n))))\n",
    "            ).lhs"
   ]
  },
  {
   "cell_type": "code",
   "execution_count": null,
   "metadata": {},
   "outputs": [],
   "source": [
    "ExprRange(i, ExprTuple(ExprRange(j, MultiQubitGate(Aij, Sij), one, n)), one, m).first().entries[0].first()"
   ]
  },
  {
   "cell_type": "code",
   "execution_count": null,
   "metadata": {},
   "outputs": [],
   "source": [
    "ExprRange(j, Gate(Aij), one, n).first().subExpr(1).subExpr(1)"
   ]
  },
  {
   "cell_type": "code",
   "execution_count": null,
   "metadata": {},
   "outputs": [],
   "source": [
    "ExprArray(ExprRange(i, ExprTuple(ExprRange(j, Gate(Aij), one, n)), one, m),\n",
    "                     ExprTuple(ExprRange(j, MultiQubitGate(IndexedVar(B, j), Set(Add(m, one), Add(m, k, two))), one, n)),\n",
    "        ExprRange(i, ExprTuple(ExprRange(j, MultiQubitGate(Cij, Rij), one, n)), one, k),\n",
    "                     ExprTuple(ExprRange(j, MultiQubitGate(IndexedVar(D, j), Set(Add(m, one), Add(m, k, two))), one, n)),\n",
    "        ExprRange(i, ExprTuple(ExprRange(j, Gate(Eij), one, n)), one, p))"
   ]
  },
  {
   "cell_type": "code",
   "execution_count": null,
   "metadata": {},
   "outputs": [],
   "source": [
    "Circuit(ExprArray(ExprRange(i, ExprTuple(ExprRange(j, Gate(Aij), one, n)), one, m),\n",
    "                     ExprTuple(ExprRange(j, MultiQubitGate(IndexedVar(B, j), Set(Add(m, one), Add(m, k, two))), one, n)),\n",
    "        ExprRange(i, ExprTuple(ExprRange(j, MultiQubitGate(Cij, Rij), one, n)), one, k),\n",
    "                     ExprTuple(ExprRange(j, MultiQubitGate(IndexedVar(D, j), Set(Add(m, one), Add(m, k, two))), one, n)),\n",
    "        ExprRange(i, ExprTuple(ExprRange(j, Gate(Eij), one, n)), one, p)))"
   ]
  },
  {
   "cell_type": "code",
   "execution_count": null,
   "metadata": {},
   "outputs": [],
   "source": [
    "Circuit(ExprArray(ExprRange(i, ExprTuple(ExprRange(j, MultiQubitGate(Aij, Sij), one, n)), one, m),\n",
    "                     ExprTuple(ExprRange(j, MultiQubitGate(IndexedVar(B, j), Set(Add(m, one), Add(m, k, two))), one, n)),\n",
    "        ExprRange(i, ExprTuple(ExprRange(j, MultiQubitGate(Cij, Rij), one, n)), one, k),\n",
    "                     ExprTuple(ExprRange(j, MultiQubitGate(IndexedVar(D, j), Set(Add(m, one), Add(m, k, two))), one, n)),\n",
    "        ExprRange(i, ExprTuple(ExprRange(j, MultiQubitGate(Eij, Qij), one, n)), one, p)))"
   ]
  },
  {
   "cell_type": "code",
   "execution_count": null,
   "metadata": {},
   "outputs": [],
   "source": [
    "Circuit(ExprArray(ExprRange(i, ExprTuple(ExprRange(j, MultiQubitGate(Aij, Sij), one, n)), one, m),\n",
    "                     ExprTuple(ExprRange(j, MultiQubitGate(IndexedVar(B, j), Set(two, four)), one, n)),\n",
    "        ExprRange(i, ExprTuple(ExprRange(j, MultiQubitGate(Cij, Rij), one, n)), one, k),\n",
    "                     ExprTuple(ExprRange(j, MultiQubitGate(IndexedVar(D, j), Set(two, five)), one, n)),\n",
    "        ExprRange(i, ExprTuple(ExprRange(j, MultiQubitGate(Eij, Qij), one, n)), one, p)))"
   ]
  },
  {
   "cell_type": "code",
   "execution_count": null,
   "metadata": {},
   "outputs": [],
   "source": [
    "\n",
    "        Implies(\n",
    "            CircuitEquiv(\n",
    "                    Circuit(ExprArray(ExprTuple(ExprRange(j, MultiQubitGate(IndexedVar(B, j), Set(Add(m, one), Add(m, k, two))), one, n)),\n",
    "                            ExprTuple(ExprRange(j, MultiQubitGate(IndexedVar(D, j), Set(Add(m, one), Add(m, k, two))), one, n)))),\n",
    "                    Circuit(ExprArray(ExprTuple(ExprRange(j, MultiQubitGate(IndexedVar(F, j), Set(Add(m, one), Add(m, k, two))), one, n)),\n",
    "                            ExprTuple(ExprRange(j, MultiQubitGate(IndexedVar(G, j), Set(Add(m, one), Add(m, k, two))), one, n))))\n",
    "            ),\n",
    "            CircuitEquiv(\n",
    "                    Circuit(ExprArray(ExprRange(i, ExprTuple(ExprRange(j, MultiQubitGate(Aij, Sij), one, n)), one, m),\n",
    "                            ExprTuple(ExprRange(j, MultiQubitGate(IndexedVar(B, j), Set(Add(m, one), Add(m, k, two))), one, n)),\n",
    "                            ExprRange(i, ExprTuple(ExprRange(j, MultiQubitGate(Cij, Rij), one, n)), one, k),\n",
    "                            ExprTuple(ExprRange(j, MultiQubitGate(IndexedVar(D, j), Set(Add(m, one), Add(m, k, two))), one, n)),\n",
    "                            ExprRange(i, ExprTuple(ExprRange(j, MultiQubitGate(Eij, Qij), one, n)), one, p))),\n",
    "                    Circuit(ExprArray(ExprRange(i, ExprTuple(ExprRange(j, MultiQubitGate(Aij, Sij), one, n)), one, m),\n",
    "                            ExprTuple(ExprRange(j, MultiQubitGate(IndexedVar(F, j), Set(Add(m, one), Add(m, k, two))), one, n)),\n",
    "                            ExprRange(i, ExprTuple(ExprRange(j, MultiQubitGate(Cij, Rij), one, n)), one, k),\n",
    "                            ExprTuple(ExprRange(j, MultiQubitGate(IndexedVar(G, j), Set(Add(m, one), Add(m, k, two))), one, n)),\n",
    "                            ExprRange(i, ExprTuple(ExprRange(j, MultiQubitGate(Eij, Qij), one, n)), one, p))))\n",
    "            )\n",
    "        \n"
   ]
  },
  {
   "cell_type": "code",
   "execution_count": null,
   "metadata": {},
   "outputs": [],
   "source": [
    "Circuit(ExprArray(ExprTuple(Gate(X), Output(ket0), Input(ket0), Gate(H)))).latex()"
   ]
  },
  {
   "cell_type": "code",
   "execution_count": null,
   "metadata": {},
   "outputs": [],
   "source": [
    "Circuit(ExprArray(ExprTuple(Input(ket0), Gate(H), MultiQubitGate(X, Set(one, three)), Gate(H), Output(ketPlus)), \n",
    "        ExprTuple(Input(ket1), MultiQubitGate(H, Set(two, three)), MultiQubitGate(H, Set(two)), Gate(X), Output(ketMinus)),\n",
    "       ExprTuple(Input(ket1), MultiQubitGate(H, Set(two, three)), MultiQubitGate(X, Set(one, three)), Gate(X), Output(ketMinus))))"
   ]
  },
  {
   "cell_type": "code",
   "execution_count": null,
   "metadata": {},
   "outputs": [],
   "source": [
    "Circuit(ExprArray(ExprTuple(ExprRange(j, Gate(IndexedVar(B, j)), one, n))))"
   ]
  },
  {
   "cell_type": "code",
   "execution_count": null,
   "metadata": {},
   "outputs": [],
   "source": [
    "CircuitEquiv(\n",
    "                    Circuit(ExprArray(ExprTuple(ExprRange(j, Gate(IndexedVar(B, j)), one, n)))),\n",
    "                    Circuit(ExprArray(ExprTuple(ExprRange(j, Gate(IndexedVar(D, j)), one, n)))))"
   ]
  },
  {
   "cell_type": "code",
   "execution_count": null,
   "metadata": {},
   "outputs": [],
   "source": [
    "Circuit(ExprArray(ExprRange(i, ExprTuple(ExprRange(j, MultiQubitGate(Cij, Rij), one, n)), one, k)))"
   ]
  },
  {
   "cell_type": "code",
   "execution_count": null,
   "metadata": {},
   "outputs": [],
   "source": [
    "Circuit(ExprArray(ExprRange(i, ExprTuple(ExprRange(j, MultiQubitGate(Aij, Sij), one, n)), one, m),\n",
    "                            ExprTuple(ExprRange(j, Gate(IndexedVar(B, j)), one, n)),\n",
    "                            ExprRange(i, ExprTuple(ExprRange(j, MultiQubitGate(Cij, Rij), one, n)), one, k)))"
   ]
  },
  {
   "cell_type": "code",
   "execution_count": null,
   "metadata": {},
   "outputs": [],
   "source": [
    "CircuitEquiv(\n",
    "                    Circuit(ExprArray(ExprRange(i, ExprTuple(ExprRange(j, MultiQubitGate(Aij, Sij), one, n)), one, m),\n",
    "                            ExprTuple(ExprRange(j, Gate(IndexedVar(B, j)), one, n)),\n",
    "                            ExprRange(i, ExprTuple(ExprRange(j, MultiQubitGate(Cij, Rij), one, n)), one, k))),\n",
    "                    Circuit(ExprArray(ExprRange(i, ExprTuple(ExprRange(j, MultiQubitGate(Aij, Sij), one, n)), one, m),\n",
    "                            ExprTuple(ExprRange(j, Gate(IndexedVar(D, j)), one, n)),\n",
    "                            ExprRange(i, ExprTuple(ExprRange(j, MultiQubitGate(Cij, Rij), one, n)), one, k)))\n",
    "            )"
   ]
  },
  {
   "cell_type": "code",
   "execution_count": null,
   "metadata": {},
   "outputs": [],
   "source": [
    "Circuit(ExprArray(ExprRange(i, ExprTuple(ExprRange(j, MultiQubitGate(Aij, Rij), one, k), \n",
    "                                            MultiQubitGate(IndexedVar(B, i), IndexedVar(S, i)),\n",
    "                               ExprRange(j, MultiQubitGate(Cij, Qij), one, h)), \n",
    "                                    one, m)))"
   ]
  },
  {
   "cell_type": "code",
   "execution_count": null,
   "metadata": {},
   "outputs": [],
   "source": [
    "print(Implies(\n",
    "            CircuitEquiv(\n",
    "                        Circuit(ExprArray(ExprRange(i, ExprTuple(MultiQubitGate(IndexedVar(B, i), IndexedVar(S, i))), one, m))),\n",
    "                        Circuit(ExprArray(ExprRange(i, ExprTuple(MultiQubitGate(IndexedVar(D, i), IndexedVar(S, i))), one, m)))\n",
    "            ),\n",
    "            CircuitEquiv(\n",
    "                        Circuit(ExprArray(ExprRange(i, ExprTuple(ExprRange(j, MultiQubitGate(Aij, Rij), one, k), \n",
    "                                            MultiQubitGate(IndexedVar(B, i), IndexedVar(S, i)),\n",
    "                                            ExprRange(j, MultiQubitGate(Cij, Qij), one, h)), \n",
    "                                    one, m))),\n",
    "                        Circuit(ExprArray(ExprRange(i, ExprTuple(ExprRange(j, MultiQubitGate(Aij, Rij), one, k), \n",
    "                                            MultiQubitGate(IndexedVar(D, i), IndexedVar(S, i)),\n",
    "                                            ExprRange(j, MultiQubitGate(Cij, Qij), one, h)), \n",
    "                                    one, m)))\n",
    "            )\n",
    "        ).withWrappingAt(1).latex())"
   ]
  },
  {
   "cell_type": "code",
   "execution_count": null,
   "metadata": {},
   "outputs": [],
   "source": [
    "Implies(\n",
    "            CircuitEquiv(\n",
    "                        Circuit(ExprArray(ExprRange(i, ExprTuple(MultiQubitGate(IndexedVar(B, i), IndexedVar(S, i))), one, m))),\n",
    "                        Circuit(ExprArray(ExprRange(i, ExprTuple(MultiQubitGate(IndexedVar(D, i), IndexedVar(S, i))), one, m)))\n",
    "            ),\n",
    "            CircuitEquiv(\n",
    "                        Circuit(ExprArray(ExprRange(i, ExprTuple(ExprRange(j, MultiQubitGate(Aij, Rij), one, k), \n",
    "                                            MultiQubitGate(IndexedVar(B, i), IndexedVar(S, i)),\n",
    "                                            ExprRange(j, MultiQubitGate(Cij, Qij), one, h)), \n",
    "                                    one, m))),\n",
    "                        Circuit(ExprArray(ExprRange(i, ExprTuple(ExprRange(j, MultiQubitGate(Aij, Rij), one, k), \n",
    "                                            MultiQubitGate(IndexedVar(D, i), IndexedVar(S, i)),\n",
    "                                            ExprRange(j, MultiQubitGate(Cij, Qij), one, h)), \n",
    "                                    one, m)))\n",
    "            )\n",
    "        ).withWrappingAt(1)"
   ]
  },
  {
   "cell_type": "code",
   "execution_count": null,
   "metadata": {},
   "outputs": [],
   "source": [
    "CircuitEquiv(Circuit(ExprArray(ExprRange(i, ExprTuple(ExprRange(j, MultiQubitGate(Aij, Sij), one, m)), one, q))),\n",
    "                     Circuit(ExprArray(ExprRange(i, ExprTuple(ExprRange(j, MultiQubitGate(Aij, Sij), one, m)), one, q))))"
   ]
  },
  {
   "cell_type": "code",
   "execution_count": null,
   "metadata": {},
   "outputs": [],
   "source": [
    "print(CircuitEquiv(Circuit(ExprArray(ExprRange(i, ExprTuple(ExprRange(j, MultiQubitGate(Aij, Sij), one, m)), one, q))),\n",
    "                   Circuit(ExprArray(ExprRange(i, ExprTuple(ExprRange(j, MultiQubitGate(Aij, Sij), one, m)), one, q)))).latex())"
   ]
  },
  {
   "cell_type": "code",
   "execution_count": null,
   "metadata": {},
   "outputs": [],
   "source": [
    "Circuit(ExprArray(ExprRange(i, ExprTuple(ExprRange(j, MultiQubitGate(Aij, Sij), one, m)), one, q),\n",
    "        ExprTuple(ExprRange(i, MultiQubitGate(IndexedVar(B, i), IndexedVar(S, i)), one, m)),\n",
    "        ExprRange(i, ExprTuple(ExprRange(j, MultiQubitGate(Cij, Sij), one, m)), one, s)))"
   ]
  },
  {
   "cell_type": "code",
   "execution_count": null,
   "metadata": {},
   "outputs": [],
   "source": [
    "Circuit(ExprArray(ExprRange(i, ExprTuple(ExprRange(j, MultiQubitGate(Bij, Sij), one, n)), one, m)))"
   ]
  },
  {
   "cell_type": "code",
   "execution_count": null,
   "metadata": {},
   "outputs": [],
   "source": [
    "Circuit(ExprArray(ExprTuple(Input(ket0), Gate(H), Output(ketPlus)), \n",
    "        ExprTuple(Input(ket1), MultiQubitGate(H, Set(two)), Output(ketMinus))))\n",
    "# MultiQubitGate of a single gate - automatic equality reductions. "
   ]
  },
  {
   "cell_type": "code",
   "execution_count": null,
   "metadata": {},
   "outputs": [],
   "source": [
    "Circuit(ExprArray(ExprTuple(Input(ket0), Gate(IdentityOp()), Output(ketPlus)), \n",
    "        ExprTuple(Input(ket1), Gate(), Output(ketMinus))))\n",
    "# Empty gate reduction"
   ]
  },
  {
   "cell_type": "code",
   "execution_count": null,
   "metadata": {},
   "outputs": [],
   "source": [
    "#Circuit(ExprRange(i, Gate(ExprRange(j, Aij, one, n)), one, m))"
   ]
  },
  {
   "cell_type": "code",
   "execution_count": null,
   "metadata": {},
   "outputs": [],
   "source": [
    "# multigate block test\n",
    "Circuit(ExprArray(ExprTuple(Input(ket0), MultiQubitGate(CONTROL, Set(one, two, three, four, six, seven)), Output(ket0)), \n",
    "        ExprTuple(Input(ket0), MultiQubitGate(CONTROL, Set(one, two, three, four, six, seven)), \n",
    "                  Output(ket0)), \n",
    "        ExprTuple(Input(ket0), MultiQubitGate(Z, Set(one, two, three, four, six, seven)), Output(ket0)), \n",
    "        ExprTuple(Input(ket1), MultiQubitGate(X, Set(one, two, three, four, six, seven)), \n",
    "                  Output(ket1)),\n",
    "        ExprTuple(Input(ket0), Gate(IdentityOp()), Output(ket0)), \n",
    "        ExprTuple(Input(ket1), MultiQubitGate(X, Set(one, two, three, four, six, seven)), \n",
    "                  Output(ket1)),\n",
    "        ExprTuple(Input(ket1), MultiQubitGate(Z, Set(one, two, three, four, six, seven)), \n",
    "                  Output(ket1))))"
   ]
  },
  {
   "cell_type": "code",
   "execution_count": null,
   "metadata": {},
   "outputs": [],
   "source": [
    "# multigate block test\n",
    "Circuit(ExprArray(ExprTuple(Input(ket0), MultiQubitGate(CONTROL, Set(one, two, three, four)), Output(ket0)), \n",
    "        ExprTuple(Input(ket0), MultiQubitGate(Z, Set(one, two, three, four)), \n",
    "                  Output(ket0)), \n",
    "        ExprTuple(Input(ket0), MultiQubitGate(Z, Set(one, two, three, four)), Output(ket0)), \n",
    "        ExprTuple(Input(ket1), MultiQubitGate(Z, Set(one, two, three, four)), \n",
    "                  Output(ket1))))"
   ]
  },
  {
   "cell_type": "code",
   "execution_count": null,
   "metadata": {},
   "outputs": [],
   "source": [
    "# Single Qubit Gates"
   ]
  },
  {
   "cell_type": "code",
   "execution_count": null,
   "metadata": {},
   "outputs": [],
   "source": [
    "Circuit(ExprArray(ExprTuple(Input(ket0), Gate(H), Output(ketPlus)), \n",
    "        ExprTuple(Input(ket1), Gate(H), Output(ketMinus))))\n",
    "# H gate (both inputs)"
   ]
  },
  {
   "cell_type": "code",
   "execution_count": null,
   "metadata": {},
   "outputs": [],
   "source": [
    "Circuit(ExprArray(ExprTuple(Input(ket0), Gate(X), Output(ket1)), \n",
    "        ExprTuple(Input(ket1), Gate(X), Output(ket0))))\n",
    "# X gate (both inputs)"
   ]
  },
  {
   "cell_type": "code",
   "execution_count": null,
   "metadata": {},
   "outputs": [],
   "source": [
    "Circuit(ExprArray(ExprTuple(Input(ket0), Gate(Z), Output(ket0)), \n",
    "        ExprTuple(Input(ket1), Gate(Z), Output(Neg(ket1)))))\n",
    "# Z gate (both inputs)"
   ]
  },
  {
   "cell_type": "code",
   "execution_count": null,
   "metadata": {},
   "outputs": [],
   "source": [
    "#Two Qubit Gates"
   ]
  },
  {
   "cell_type": "code",
   "execution_count": null,
   "metadata": {},
   "outputs": [],
   "source": [
    "Circuit(ExprArray(ExprTuple(Input(ket0), MultiQubitGate(CONTROL, Set(one, two)), Output(ket0)), \n",
    "        ExprTuple(Input(ket0), MultiQubitGate(Z, Set(one, two)), \n",
    "                  Output(ket0)), \n",
    "        ExprTuple(Input(ket0), MultiQubitGate(CONTROL, Set(three, four)), Output(ket0)), \n",
    "        ExprTuple(Input(ket1), MultiQubitGate(Z, Set(three, four)), \n",
    "                  Output(ket1))))\n",
    "#CZ gate - 0 qubit control for 1 and 0 qubit inputs"
   ]
  },
  {
   "cell_type": "code",
   "execution_count": null,
   "metadata": {},
   "outputs": [],
   "source": [
    "Circuit(ExprArray(ExprTuple(Input(ket1), MultiQubitGate(CONTROL, Set(one, two)), Output(ket1)), \n",
    "        ExprTuple(Input(ket0), MultiQubitGate(Z, Set(one, two)), \n",
    "                  Output(ket0)), \n",
    "        ExprTuple(Input(ket1), MultiQubitGate(CONTROL, Set(three, four)), Output(ket1)), \n",
    "        ExprTuple(Input(ket1), MultiQubitGate(Z, Set(three, four)), \n",
    "                  Output(Neg(ket1))))) \n",
    "#CZ gate - 1 qubit control for 1 and 0 qubit inputs"
   ]
  },
  {
   "cell_type": "code",
   "execution_count": null,
   "metadata": {},
   "outputs": [],
   "source": [
    "Circuit(ExprArray(ExprTuple(Input(ket0), MultiQubitGate(CONTROL, Set(one, two)), Output(ket0)), \n",
    "        ExprTuple(Input(ket0), MultiQubitGate(X, Set(one, two)), Output(ket0)), \n",
    "        ExprTuple(Input(ket0), MultiQubitGate(CONTROL, Set(three, four)), Output(ket0)), \n",
    "        ExprTuple(Input(ket1), MultiQubitGate(X, Set(three, four)), Output(ket1)))) \n",
    "#CX gate - 0 qubit control for 1 and 0 qubit inputs"
   ]
  },
  {
   "cell_type": "code",
   "execution_count": null,
   "metadata": {},
   "outputs": [],
   "source": [
    "Circuit(ExprArray(ExprTuple(Input(ket1), MultiQubitGate(CONTROL, Set(one, two)), Output(ket1)), \n",
    "        ExprTuple(Input(ket0), MultiQubitGate(X, Set(one, two)), Output(ket1)), \n",
    "        ExprTuple(Input(ket1), MultiQubitGate(CONTROL, Set(three, four)), Output(ket1)), \n",
    "        ExprTuple(Input(ket1), MultiQubitGate(X, Set(three, four)), Output(ket0)))) \n",
    "#CX gate - 1 qubit control for 1 and 0 qubit inputs"
   ]
  },
  {
   "cell_type": "code",
   "execution_count": null,
   "metadata": {},
   "outputs": [],
   "source": [
    "Circuit(ExprArray(ExprTuple(Input(zero), MultiQubitGate(CLASSICAL_CONTROL, Set(one, two)), SPACE), \n",
    "        ExprTuple(Input(ket0), MultiQubitGate(Z, Set(one, two)), \n",
    "                  Output(ket0)), \n",
    "        ExprTuple(Input(zero), MultiQubitGate(CLASSICAL_CONTROL, Set(three, four)), SPACE), \n",
    "        ExprTuple(Input(ket1), MultiQubitGate(Z, Set(three, four)), \n",
    "                  Output(ket1)))) \n",
    "#cZ gate - 0 classical bit control for 1 and 0 qubit inputs"
   ]
  },
  {
   "cell_type": "code",
   "execution_count": null,
   "metadata": {},
   "outputs": [],
   "source": [
    "Circuit(ExprArray(ExprTuple(Input(one), MultiQubitGate(CLASSICAL_CONTROL, Set(one, two)), SPACE), \n",
    "        ExprTuple(Input(ket0), MultiQubitGate(Z, Set(one, two)), \n",
    "                  Output(ket0)), \n",
    "        ExprTuple(Input(one), MultiQubitGate(CLASSICAL_CONTROL, Set(three, four)), SPACE), \n",
    "        ExprTuple(Input(ket1), MultiQubitGate(Z, Set(three, four)), \n",
    "                  Output(Neg(ket1)))))\n",
    "#cZ gate - 1 classical bit control for 1 and 0 qubit inputs"
   ]
  },
  {
   "cell_type": "code",
   "execution_count": null,
   "metadata": {},
   "outputs": [],
   "source": [
    "Circuit(ExprArray(ExprTuple(Input(zero), MultiQubitGate(CLASSICAL_CONTROL, Set(one, two)), SPACE), \n",
    "        ExprTuple(Input(ket0), MultiQubitGate(X, Set(one, two)), \n",
    "                  Output(ket0)), \n",
    "        ExprTuple(Input(zero), MultiQubitGate(CLASSICAL_CONTROL, Set(three, four)), SPACE), \n",
    "        ExprTuple(Input(ket1), MultiQubitGate(X, Set(three, four)), \n",
    "                  Output(ket1)))) \n",
    "#cX gate - 0 classical bit control for 1 and 0 qubit inputs"
   ]
  },
  {
   "cell_type": "code",
   "execution_count": null,
   "metadata": {},
   "outputs": [],
   "source": [
    "Circuit(ExprArray(ExprTuple(Input(one), MultiQubitGate(CLASSICAL_CONTROL, Set(one, two)), SPACE), \n",
    "        ExprTuple(Input(ket0), MultiQubitGate(X, Set(one, two)), \n",
    "                  Output(ket1)), \n",
    "        ExprTuple(Input(one), MultiQubitGate(CLASSICAL_CONTROL, Set(three, four)), SPACE), \n",
    "        ExprTuple(Input(ket1), MultiQubitGate(X, Set(three, four)), \n",
    "                  Output(ket0))))\n",
    "#cX gate - 1 classical bit control for 1 and 0 qubit inputs"
   ]
  },
  {
   "cell_type": "code",
   "execution_count": null,
   "metadata": {},
   "outputs": [],
   "source": [
    "#NULL GATES"
   ]
  },
  {
   "cell_type": "code",
   "execution_count": null,
   "metadata": {},
   "outputs": [],
   "source": [
    "Circuit(ExprArray(ExprTuple(Input(ket0), Gate(H), Gate(H), Output(ket0)), \n",
    "        ExprTuple(Input(ket1), Gate(H), Gate(H), Output(ket1))))"
   ]
  },
  {
   "cell_type": "code",
   "execution_count": null,
   "metadata": {},
   "outputs": [],
   "source": [
    "Circuit(ExprArray(ExprTuple(Input(ket0), Gate(X), Gate(X), Output(ket0)), \n",
    "        ExprTuple(Input(ket1), Gate(X), Gate(X), Output(ket1))))"
   ]
  },
  {
   "cell_type": "code",
   "execution_count": null,
   "metadata": {},
   "outputs": [],
   "source": [
    "Circuit(ExprArray(ExprTuple(Input(ket0), Gate(Z), Gate(Z), Output(ket0)), \n",
    "        ExprTuple(Input(ket1), Gate(Z), Gate(Z), Output(ket1))))"
   ]
  },
  {
   "cell_type": "code",
   "execution_count": null,
   "metadata": {},
   "outputs": [],
   "source": [
    "Circuit(ExprArray(ExprTuple(Input(ket0), MultiQubitGate(CONTROL, Set(one, two)), MultiQubitGate(CONTROL, Set(one, two)), \n",
    "                  Output(ket0)), \n",
    "        ExprTuple(Input(ket0), MultiQubitGate(Z, Set(one, two)), MultiQubitGate(Z, Set(one, two)), Output(ket0)), \n",
    "        ExprTuple(Input(ket0), MultiQubitGate(CONTROL, Set(three, four)), MultiQubitGate(CONTROL, Set(three, four)), \n",
    "                  Output(ket0)), \n",
    "        ExprTuple(Input(ket1), MultiQubitGate(Z, Set(three, four)), MultiQubitGate(Z, Set(three, four)), \n",
    "                  Output(ket1)),\n",
    "        ExprTuple(Input(ket1), MultiQubitGate(CONTROL, Set(five, six)), MultiQubitGate(CONTROL, Set(five, six)),\n",
    "                  Output(ket1)),\n",
    "        ExprTuple(Input(ket0), MultiQubitGate(Z, Set(five, six)), MultiQubitGate(Z, Set(five, six)),\n",
    "                  Output(ket0)),\n",
    "        ExprTuple(Input(ket1), MultiQubitGate(CONTROL, Set(seven, eight)), MultiQubitGate(CONTROL, Set(seven, eight)), \n",
    "                  Output(ket1)), \n",
    "        ExprTuple(Input(ket1), MultiQubitGate(Z, Set(seven, eight)), MultiQubitGate(Z, Set(seven, eight)), \n",
    "                  Output(ket1)))) \n",
    "# Double CZ gate"
   ]
  },
  {
   "cell_type": "code",
   "execution_count": null,
   "metadata": {},
   "outputs": [],
   "source": [
    "Circuit(ExprArray(ExprTuple(Input(ket0), MultiQubitGate(CONTROL, Set(one, two)), MultiQubitGate(CONTROL, Set(one, two)), \n",
    "                  Output(ket0)), \n",
    "        ExprTuple(Input(ket0), MultiQubitGate(X, Set(one, two)), MultiQubitGate(X, Set(one, two)), Output(ket0)), \n",
    "        ExprTuple(Input(ket0), MultiQubitGate(CONTROL, Set(three, four)), MultiQubitGate(CONTROL, Set(three, four)), \n",
    "                  Output(ket0)), \n",
    "        ExprTuple(Input(ket1), MultiQubitGate(X, Set(three, four)), MultiQubitGate(X, Set(three, four)), \n",
    "                  Output(ket1)),\n",
    "        ExprTuple(Input(ket1), MultiQubitGate(CONTROL, Set(five, six)), MultiQubitGate(CONTROL, Set(five, six)),\n",
    "                  Output(ket1)),\n",
    "        ExprTuple(Input(ket0), MultiQubitGate(X, Set(five, six)), MultiQubitGate(X, Set(five, six)),\n",
    "                  Output(ket0)),\n",
    "        ExprTuple(Input(ket1), MultiQubitGate(CONTROL, Set(seven, eight)), MultiQubitGate(CONTROL, Set(seven, eight)), \n",
    "                  Output(ket1)), \n",
    "        ExprTuple(Input(ket1), MultiQubitGate(X, Set(seven, eight)), MultiQubitGate(X, Set(seven, eight)), \n",
    "                  Output(ket1)))) \n",
    "# Double CX gate"
   ]
  },
  {
   "cell_type": "code",
   "execution_count": null,
   "metadata": {},
   "outputs": [],
   "source": [
    "Circuit(ExprArray(ExprTuple(Input(ket0), MultiQubitGate(CONTROL, Set(one, two)), Output(ket0)), \n",
    "        ExprTuple(Input(ket0), MultiQubitGate(U, Set(one, two)), \n",
    "                  Output(ket0)), \n",
    "        ExprTuple(Input(ket0), MultiQubitGate(CONTROL, Set(three, four)), Output(ket0)), \n",
    "        ExprTuple(Input(ket1), MultiQubitGate(U, Set(three, four)), \n",
    "                  Output(ket1)))) \n",
    "#CU gate - 0 classical bit control for 1 and 0 qubit inputs (Always null regardless of what U is)"
   ]
  },
  {
   "cell_type": "code",
   "execution_count": null,
   "metadata": {},
   "outputs": [],
   "source": [
    "# CONGRUENCIES"
   ]
  },
  {
   "cell_type": "code",
   "execution_count": null,
   "metadata": {},
   "outputs": [],
   "source": [
    "Circuit(ExprArray(\n",
    "    ExprTuple(Input(ket0), MultiQubitGate(Z, Set(one, two)), Output(ket0)), \n",
    "    ExprTuple(Input(ket0), MultiQubitGate(CONTROL, Set(one, two)), \n",
    "              Output(ket0)), \n",
    "    ExprTuple(Input(ket0), MultiQubitGate(Z, Set(three, four)), Output(ket0)), \n",
    "    ExprTuple(Input(ket1), MultiQubitGate(CONTROL, Set(three, four)), \n",
    "                Output(ket1)),\n",
    "    ExprTuple(Input(ket1), MultiQubitGate(Z, Set(five, six)), Output(ket1)), \n",
    "    ExprTuple(Input(ket0), MultiQubitGate(CONTROL, Set(five, six)), \n",
    "              Output(ket0)), \n",
    "    ExprTuple(Input(ket1), MultiQubitGate(Z, Set(seven, eight)), Output(Neg(ket1))), \n",
    "    ExprTuple(Input(ket1), MultiQubitGate(CONTROL, Set(seven, eight)), \n",
    "              Output(ket1))))\n",
    "\n",
    "#Congruent to a regular CZ gate"
   ]
  },
  {
   "cell_type": "code",
   "execution_count": null,
   "metadata": {},
   "outputs": [],
   "source": [
    "Circuit(ExprArray(\n",
    "        ExprTuple(Input(ket0), Gate(IdentityOp()), MultiQubitGate(CONTROL, Set(one, two)), Gate(IdentityOp()), Output(ket0)), \n",
    "        ExprTuple(Input(ket0), Gate(H), MultiQubitGate(Z, Set(one, two)), Gate(H), Output(ket0)),\n",
    "        ExprTuple(Input(ket0), Gate(IdentityOp()), MultiQubitGate(CONTROL, Set(three, four)), Gate(IdentityOp()), Output(ket0)), \n",
    "        ExprTuple(Input(ket1), Gate(H), MultiQubitGate(Z, Set(three, four)), Gate(H), Output(ket1)),\n",
    "        ExprTuple(Input(ket1), Gate(IdentityOp()), MultiQubitGate(CONTROL, Set(five, six)), Gate(IdentityOp()), Output(ket1)), \n",
    "        ExprTuple(Input(ket0), Gate(H), MultiQubitGate(Z, Set(five, six)), Gate(H), Output(ket1)),\n",
    "        ExprTuple(Input(ket1), Gate(IdentityOp()), MultiQubitGate(CONTROL, Set(seven, eight)), Gate(IdentityOp()), Output(ket1)), \n",
    "        ExprTuple(Input(ket1), Gate(H), MultiQubitGate(Z, Set(seven, eight)), Gate(H), Output(ket0))))\n",
    "# Congruent to a CX gate"
   ]
  },
  {
   "cell_type": "code",
   "execution_count": null,
   "metadata": {},
   "outputs": [],
   "source": [
    "Circuit(ExprArray(ExprTuple(Input(ket0), Gate(H), MultiQubitGate(CONTROL, Set(one, two)), Gate(H), Output(ket0)), \n",
    "        ExprTuple(Input(ket0), Gate(H), MultiQubitGate(Z, Set(one, two)), Gate(H), Output(ket0)),\n",
    "        ExprTuple(Input(ket0), Gate(H), MultiQubitGate(CONTROL, Set(three, four)), Gate(H), Output(ket0)), \n",
    "        ExprTuple(Input(ket1), Gate(H), MultiQubitGate(Z, Set(three, four)), Gate(H), Output(ket1)),\n",
    "        ExprTuple(Input(ket1), Gate(H), MultiQubitGate(CONTROL, Set(five, six)), Gate(H), Output(ket1)), \n",
    "        ExprTuple(Input(ket0), Gate(H), MultiQubitGate(Z, Set(five, six)), Gate(H), Output(ket1)),\n",
    "        ExprTuple(Input(ket1), Gate(H), MultiQubitGate(CONTROL, Set(seven, eight)), Gate(H), Output(ket1)), \n",
    "        ExprTuple(Input(ket1), Gate(H), MultiQubitGate(Z, Set(seven, eight)), Gate(H), Output(ket0))))\n",
    "# Intermediate step to show the congruence of a switched CX gate"
   ]
  },
  {
   "cell_type": "code",
   "execution_count": null,
   "metadata": {},
   "outputs": [],
   "source": [
    "Circuit(ExprArray(ExprTuple(Input(ket0), Gate(H), MultiQubitGate(Z, Set(one, two)), Gate(H), Output(ket0)), \n",
    "        ExprTuple(Input(ket0), Gate(H), MultiQubitGate(CONTROL, Set(one, two)), Gate(H), Output(ket0)),\n",
    "        ExprTuple(Input(ket0), Gate(H), MultiQubitGate(Z, Set(three, four)), Gate(H), Output(ket1)), \n",
    "        ExprTuple(Input(ket1), Gate(H), MultiQubitGate(CONTROL, Set(three, four)), Gate(H), Output(ket1)),\n",
    "        ExprTuple(Input(ket1), Gate(H), MultiQubitGate(Z, Set(five, six)), Gate(H), Output(ket1)), \n",
    "        ExprTuple(Input(ket0), Gate(H), MultiQubitGate(CONTROL, Set(five, six)), Gate(H), Output(ket0)),\n",
    "        ExprTuple(Input(ket1), Gate(H), MultiQubitGate(Z, Set(seven, eight)), Gate(H), Output(ket0)), \n",
    "        ExprTuple(Input(ket1), Gate(H), MultiQubitGate(CONTROL, Set(seven, eight)), Gate(H), Output(ket1))))\n",
    "# using cell 24 we can show that this is equivalent to cell 26"
   ]
  },
  {
   "cell_type": "code",
   "execution_count": null,
   "metadata": {},
   "outputs": [],
   "source": [
    "Circuit(ExprArray(ExprTuple(Input(ket0), Gate(H), MultiQubitGate(CONTROL, Set(one, two)), Gate(H), Output(ket0)), \n",
    "        ExprTuple(Input(ket0), Gate(IdentityOp()), MultiQubitGate(X, Set(one, two)), Gate(IdentityOp()), Output(ket0)),\n",
    "        ExprTuple(Input(ket0), Gate(H), MultiQubitGate(CONTROL, Set(three, four)), Gate(H), Output(ket0)), \n",
    "        ExprTuple(Input(ket1), Gate(IdentityOp()), MultiQubitGate(X, Set(three, four)), Gate(IdentityOp()), Output(ket1)),\n",
    "        ExprTuple(Input(ket1), Gate(H), MultiQubitGate(CONTROL, Set(five, six)), Gate(H), Output(ket1)), \n",
    "        ExprTuple(Input(ket0), Gate(IdentityOp()), MultiQubitGate(X, Set(five, six)), Gate(IdentityOp()), Output(ket1)),\n",
    "        ExprTuple(Input(ket1), Gate(H), MultiQubitGate(CONTROL, Set(seven, eight)), Gate(H), Output(ket1)), \n",
    "        ExprTuple(Input(ket1), Gate(IdentityOp()), MultiQubitGate(X, Set(seven, eight)), Gate(IdentityOp()), Output(ket0))))\n",
    "# using cell 26, we apply instantiation to return to the X gates"
   ]
  },
  {
   "cell_type": "code",
   "execution_count": null,
   "metadata": {},
   "outputs": [],
   "source": [
    "Circuit(ExprArray(ExprTuple(Input(ket0), Gate(IdentityOp()), MultiQubitGate(X, Set(one, two)), Gate(IdentityOp()), Output(ket0)), \n",
    "        ExprTuple(Input(ket0), Gate(H), MultiQubitGate(CONTROL, Set(one, two)), Gate(H), Output(ket0)),\n",
    "        ExprTuple(Input(ket0), Gate(IdentityOp()), MultiQubitGate(X, Set(three, four)), Gate(IdentityOp()), Output(ket1)), \n",
    "        ExprTuple(Input(ket1), Gate(H), MultiQubitGate(CONTROL, Set(three, four)), Gate(H), Output(ket1)),\n",
    "        ExprTuple(Input(ket1), Gate(IdentityOp()), MultiQubitGate(X, Set(five, six)), Gate(IdentityOp()), Output(ket1)), \n",
    "        ExprTuple(Input(ket0), Gate(H), MultiQubitGate(CONTROL, Set(five, six)), Gate(H), Output(ket0)),\n",
    "        ExprTuple(Input(ket1), Gate(IdentityOp()), MultiQubitGate(X, Set(seven, eight)), Gate(IdentityOp()), Output(ket0)), \n",
    "        ExprTuple(Input(ket1), Gate(H), MultiQubitGate(CONTROL, Set(seven, eight)), Gate(H), Output(ket1))))\n",
    "# using cell 27 we can show that cell 28 is congruent to this cell "
   ]
  },
  {
   "cell_type": "code",
   "execution_count": null,
   "metadata": {},
   "outputs": [],
   "source": [
    "# try:\n",
    "#     Circuit(ExprArray(ExprRange(i, ExprTuple(ExprRange(j, Aij, one, m)), one, q),\n",
    "#          ExprTuple(ExprRange(j, Bij, one, m)),\n",
    "#          ExprRange(i, ExprTuple(ExprRange(j, Cij, one, m)), one, s))).latex()\n",
    "#     assert False, \"Expected a TypeError error.\"\n",
    "# except TypeError as e:\n",
    "#     print(\"Expected error:\", e)"
   ]
  },
  {
   "cell_type": "code",
   "execution_count": null,
   "metadata": {},
   "outputs": [],
   "source": [
    "%end demonstrations"
   ]
  },
  {
   "cell_type": "code",
   "execution_count": null,
   "metadata": {},
   "outputs": [],
   "source": []
  }
 ],
 "metadata": {
  "kernelspec": {
   "display_name": "Python 3",
   "language": "python",
   "name": "python3"
  },
  "language_info": {
   "codemirror_mode": {
    "name": "ipython",
    "version": 3
   },
   "file_extension": ".py",
   "mimetype": "text/x-python",
   "name": "python",
   "nbconvert_exporter": "python",
   "pygments_lexer": "ipython3",
   "version": "3.7.3"
  }
 },
 "nbformat": 4,
 "nbformat_minor": 1
}
