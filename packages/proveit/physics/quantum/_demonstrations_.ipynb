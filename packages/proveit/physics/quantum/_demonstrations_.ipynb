{
 "cells": [
  {
   "cell_type": "markdown",
   "metadata": {},
   "source": [
    "Demonstrations for context <a class=\"ProveItLink\" href=\"_context_.ipynb\">proveit.physics.quantum</a>\n",
    "========"
   ]
  },
  {
   "cell_type": "code",
   "execution_count": 1,
   "metadata": {},
   "outputs": [],
   "source": [
    "import proveit\n",
    "proveit.defaults.automation = False # prevents proveit from calling automations that are currently broken\n",
    "from proveit import ExprArray, ExprTuple, ExprRange, indexed_var\n",
    "from proveit._common_ import A, B, C, D, E, F, G, K, M, S, U, a, b, h, i, j, k, m, n, p, q, r, s, t, u \n",
    "from proveit.logic import Equals\n",
    "from proveit.logic.set_theory import Set\n",
    "from proveit.number import Neg, zero, one, two, three, four, five, six, seven, eight, nine\n",
    "from proveit.physics.quantum.circuit import Gate, Target, Circuit, Input, Output, MultiQubitGate, IdentityOp\n",
    "from proveit.physics.quantum._common_ import H, X, Z, I, ket1, ket0, ketPlus, ketMinus, SPACE, CONTROL, CLASSICAL_CONTROL\n",
    "%begin demonstrations"
   ]
  },
  {
   "cell_type": "code",
   "execution_count": 2,
   "metadata": {},
   "outputs": [
    {
     "data": {
      "text/html": [
       "<strong id=\"Aih\">Aih:</strong> <a class=\"ProveItLink\" href=\"__pv_it/45f69fb5538116f2987d625746fcb6ed30e40b570/expr.ipynb\"><img src=\"data:image/png;base64,iVBORw0KGgoAAAANSUhEUgAAACQAAAAVBAMAAADcCFGjAAAAMFBMVEX///8QEBAiIiLu7u5ERES6\n",
       "urqYmJiIiIjMzMx2dnZUVFRmZmaqqqoyMjLc3NwAAABb1yYoAAAAAXRSTlMAQObYZgAAAAlwSFlz\n",
       "AAAOxAAADsQBlSsOGwAAAMBJREFUGNNjYACBtwwY4D6GCM9/DCHu9Q/QhebNb0AT4SuoP4Cuj+F8\n",
       "AppQDEP/BAYGZmTzNjC8X8DAwFkAZLKpg0XYvXevd4BJS4BJcwYGfgWYTQJQfQxMAgysVSA227Is\n",
       "oHtYgbbxfmDgtDcACnFdYAca+xDIYvnH8PgQSBVjAPcEBpP/lxl4/P9OYHAHCT1kYEK4mvkzyFMp\n",
       "DO85EKFxYQLzBIblDCmcCFXLH3DIMNxjeDUZNdwwA/cwphAkPACjJCybWY5k8QAAAABJRU5ErkJg\n",
       "gg==\n",
       "\" style=\"display:inline;vertical-align:middle;\" /></a><br>"
      ],
      "text/plain": [
       "Aih: A_{i,h}"
      ]
     },
     "execution_count": 2,
     "metadata": {},
     "output_type": "execute_result"
    }
   ],
   "source": [
    "Aih = indexed_var(A,(i,h))"
   ]
  },
  {
   "cell_type": "code",
   "execution_count": 3,
   "metadata": {},
   "outputs": [
    {
     "data": {
      "text/html": [
       "<strong id=\"Bij\">Bij:</strong> <a class=\"ProveItLink\" href=\"__pv_it/dab1d6d677d7fa35861a35520497124b157231d60/expr.ipynb\"><img src=\"data:image/png;base64,iVBORw0KGgoAAAANSUhEUgAAACIAAAAUBAMAAAAaSvJBAAAAMFBMVEX///92dnaqqqoiIiLu7u5m\n",
       "Zma6urqIiIjc3NwQEBDMzMwyMjJUVFRERESYmJgAAAAeMT9/AAAAAXRSTlMAQObYZgAAAAlwSFlz\n",
       "AAAOxAAADsQBlSsOGwAAAM5JREFUGNNjYGB4+//Omb0LGJDBXAYGnl/IAhzfGRjYviKL8AHl+b4j\n",
       "i/B8YGDgnoEswnmBgeUwisnrr5effsDAwNIA5oGk6hsYmOYxMDAWgEWsgPgmEMuj6PoDxO8LkAS4\n",
       "/gGJ8wlsNSAOS6kCAwP7D6DobwZGfwegCCvTBqBTJjAwZG5haFEGqXFhDGDg2f/nzOlLQM51sBnc\n",
       "D+DGsXwBW8ffABdh2iDAIsDAsBJhJcvxBq5JDAw1KOHEwMTAsA9VRIU7awKqyAPWUgcGAEE9MpOO\n",
       "K1uqAAAAAElFTkSuQmCC\n",
       "\" style=\"display:inline;vertical-align:middle;\" /></a><br>"
      ],
      "text/plain": [
       "Bij: B_{i,j}"
      ]
     },
     "execution_count": 3,
     "metadata": {},
     "output_type": "execute_result"
    }
   ],
   "source": [
    "Bij = indexed_var(B,(i,j))"
   ]
  },
  {
   "cell_type": "code",
   "execution_count": 4,
   "metadata": {},
   "outputs": [
    {
     "data": {
      "text/html": [
       "<strong id=\"Cik\">Cik:</strong> <a class=\"ProveItLink\" href=\"__pv_it/950c892ae07a5047858de6b37d5e9f7c9835944b0/expr.ipynb\"><img src=\"data:image/png;base64,iVBORw0KGgoAAAANSUhEUgAAACIAAAAUBAMAAAAaSvJBAAAAMFBMVEX////MzMy6uroyMjJmZmYi\n",
       "IiKqqqoQEBB2dnbc3NyYmJhUVFRERESIiIju7u4AAACU7+9TAAAAAXRSTlMAQObYZgAAAAlwSFlz\n",
       "AAAOxAAADsQBlSsOGwAAAL5JREFUGNNjYGDgu7N7F2cDAxK4fo+BrXUBksCbOCDhPwFJxPwBkFBH\n",
       "EuD4BiJFkETmB4DIh0gi/RcgNB/cpHgBqG6QDFcskKgHGczwACpfBFIDYrBBFXJ+gLmEg4HpNkiE\n",
       "68BcB4b5IP19DBzvQRq5b+ZVMrD9YmDIeMAwLxWkhr2LAaj/yektCkDOWbDjXATgzuL7B2KvYQqA\n",
       "O4vNoIGvgWEvYwA8WPj2TmAsY7Bk2CWAHFBsDOggD0MEEo4A/VAuerOXOFwAAAAASUVORK5CYII=\n",
       "\" style=\"display:inline;vertical-align:middle;\" /></a><br>"
      ],
      "text/plain": [
       "Cik: C_{i,k}"
      ]
     },
     "execution_count": 4,
     "metadata": {},
     "output_type": "execute_result"
    }
   ],
   "source": [
    "Cik = indexed_var(C,(i,k))"
   ]
  },
  {
   "cell_type": "code",
   "execution_count": 5,
   "metadata": {},
   "outputs": [
    {
     "data": {
      "text/html": [
       "<strong id=\"Dth\">Dth:</strong> <a class=\"ProveItLink\" href=\"__pv_it/9a98d244231c777ddf33d6b86ae9222ff57a2f6d0/expr.ipynb\"><img src=\"data:image/png;base64,iVBORw0KGgoAAAANSUhEUgAAACUAAAAUBAMAAAD4luk4AAAAMFBMVEX///8iIiLu7u52dna6uroQ\n",
       "EBBmZmbMzMyqqqqYmJjc3NwyMjJUVFRERESIiIgAAABmmfmVAAAAAXRSTlMAQObYZgAAAAlwSFlz\n",
       "AAAOxAAADsQBlSsOGwAAANFJREFUGNNjYGB4+//O2T0LGFDBbwYGzh+oQuz/gEQqqhjfdyDhPwFF\n",
       "jPcDkFhvgCLGfwGk7gCKWP0DIPEeVd37AiBx3oFhF4gz8QFY7D6I+MrABDKWgbUALPYXiDl/MnBs\n",
       "AHGWIpyneoHLcDNIyZyZx6HOY9rNwMDdAFJxmuENkOQGmuOYAHSSAkgshCGZgYFn/58zd7OAPFeQ\n",
       "EFcAgwSSk94wAcOG8wLXhwKEWB4zgzIDzwPOC0iud5vOUNrAvYDrsAJqEDUwYAAOBUwxTggFACm6\n",
       "NpRxTCrqAAAAAElFTkSuQmCC\n",
       "\" style=\"display:inline;vertical-align:middle;\" /></a><br>"
      ],
      "text/plain": [
       "Dth: D_{t,h}"
      ]
     },
     "execution_count": 5,
     "metadata": {},
     "output_type": "execute_result"
    }
   ],
   "source": [
    "Dth = indexed_var(D,(t,h))"
   ]
  },
  {
   "cell_type": "code",
   "execution_count": 6,
   "metadata": {},
   "outputs": [
    {
     "data": {
      "text/html": [
       "<strong id=\"Etj\">Etj:</strong> <a class=\"ProveItLink\" href=\"__pv_it/9941421d2ddd2af3cd86f08e28177e4d2e96c4e00/expr.ipynb\"><img src=\"data:image/png;base64,iVBORw0KGgoAAAANSUhEUgAAACEAAAAUBAMAAADxfUlCAAAAMFBMVEX///+qqqrc3NyYmJjMzMxm\n",
       "Zmbu7u52dna6uroyMjIiIiJUVFQQEBBERESIiIgAAAD3YE8vAAAAAXRSTlMAQObYZgAAAAlwSFlz\n",
       "AAAOxAAADsQBlSsOGwAAAMVJREFUGNNjYGB4e+b27ltnGZDBTyB+iyzA8R1IpCKLsP8AEnnIIpwf\n",
       "GPgYWJBF+C8wNKOYy9C/eu8nOAestt6BZQGQmgQW4XIAEvMZGAIYEtg+IHT9ZWBQYHvAOAHhnH9A\n",
       "gi+pajpIfV4gyDlfgIQ2A6cASDpAEmQW0ACOEwz8CUA2W0IpA0P2/N+7956fwNADMWMywvzXbAog\n",
       "CuEyhjh2hnSgAw8gRFpNGHwEGPg2oPpHgIHTAEWAMWGGD6oSZoa4MAYGAJKbLAgdp7UvAAAAAElF\n",
       "TkSuQmCC\n",
       "\" style=\"display:inline;vertical-align:middle;\" /></a><br>"
      ],
      "text/plain": [
       "Etj: E_{t,j}"
      ]
     },
     "execution_count": 6,
     "metadata": {},
     "output_type": "execute_result"
    }
   ],
   "source": [
    "Etj = indexed_var(E,(t,j))"
   ]
  },
  {
   "cell_type": "code",
   "execution_count": 7,
   "metadata": {},
   "outputs": [
    {
     "data": {
      "text/html": [
       "<strong id=\"Ftk\">Ftk:</strong> <a class=\"ProveItLink\" href=\"__pv_it/fa881abf0c335f05cd83daa9f408a0d96a1d4e7c0/expr.ipynb\"><img src=\"data:image/png;base64,iVBORw0KGgoAAAANSUhEUgAAACEAAAAUBAMAAADxfUlCAAAAMFBMVEX///9mZmbu7u4iIiLc3Nyq\n",
       "qqq6urp2dnbMzMwyMjKYmJhUVFQQEBBERESIiIgAAAAXoWMmAAAAAXRSTlMAQObYZgAAAAlwSFlz\n",
       "AAAOxAAADsQBlSsOGwAAAMBJREFUGNNjYGB4e+b27junGJDBTyCehSzA8R1ILEMW4fsGJEKQRXg/\n",
       "MLAwBCCL8E9g6EIxlyG/gGUKqkj97csHGBjAgosfgEXmKzAJMDB9ADF5EqDOYUpgYJ0AYvqDBdhA\n",
       "zmEpnt4ApNayPASS7D9A4pxg6/e56jgA2WAT+BVA5PEFHAwM2vN/bwGyc0ACLB8lEE54zQRUznUh\n",
       "mQUuIsfOoM7A/aCZHS6SuIKhJ4DTgXsFiuMDGNAAqwK6CBeEAgBLNivlUcXdhQAAAABJRU5ErkJg\n",
       "gg==\n",
       "\" style=\"display:inline;vertical-align:middle;\" /></a><br>"
      ],
      "text/plain": [
       "Ftk: F_{t,k}"
      ]
     },
     "execution_count": 7,
     "metadata": {},
     "output_type": "execute_result"
    }
   ],
   "source": [
    "Ftk = indexed_var(F,(t,k))"
   ]
  },
  {
   "cell_type": "code",
   "execution_count": 8,
   "metadata": {},
   "outputs": [
    {
     "data": {
      "text/html": [
       "<strong id=\"Guh\">Guh:</strong> <a class=\"ProveItLink\" href=\"__pv_it/7f90ff8a4e52a466da5501c3ae0287718c3bee300/expr.ipynb\"><img src=\"data:image/png;base64,iVBORw0KGgoAAAANSUhEUgAAACcAAAAUBAMAAAD8YzkFAAAAMFBMVEX///8yMjLMzMy6urpmZmYi\n",
       "IiKqqqoQEBB2dnbc3NyYmJhUVFRERESIiIju7u4AAADYLyKGAAAAAXRSTlMAQObYZgAAAAlwSFlz\n",
       "AAAOxAAADsQBlSsOGwAAANFJREFUGNNjYGDgu3N6F2cDAyq4fo+BrXUBqhhPJJDwn4AqeP4BkDBH\n",
       "FeP4BSJVUAXnB4DIR6iC/RcYMIG8Aip/KUhRPdCeKy4ecEF2kKJ4EMsf4czpIGI/yIXyDAy2GxgO\n",
       "gPirV20C2g40g/MPA0PDP6YCkOBGhtsMDGxAd2rLMnA+C+AFqyxmAJn/5LTHgncMDNwXuEH2chYw\n",
       "hCGcwm7ArgmkuA5wfkA4kn2C/VuGF0ANXAcQwcjmlX2ZQT2BcQLnjgdo/kvA4me2B1gEuSAUABJI\n",
       "NbTEBvTOAAAAAElFTkSuQmCC\n",
       "\" style=\"display:inline;vertical-align:middle;\" /></a><br>"
      ],
      "text/plain": [
       "Guh: G_{u,h}"
      ]
     },
     "execution_count": 8,
     "metadata": {},
     "output_type": "execute_result"
    }
   ],
   "source": [
    "Guh = indexed_var(G,(u,h))"
   ]
  },
  {
   "cell_type": "code",
   "execution_count": 9,
   "metadata": {},
   "outputs": [
    {
     "data": {
      "text/html": [
       "<strong id=\"Kuj\">Kuj:</strong> <a class=\"ProveItLink\" href=\"__pv_it/e522d4657c8b1fdaf8163b3d54ddd5e5d328a7820/expr.ipynb\"><img src=\"data:image/png;base64,iVBORw0KGgoAAAANSUhEUgAAACgAAAAUBAMAAAANaGKIAAAAMFBMVEX///9mZmbu7u66urqYmJh2\n",
       "dnbc3NyqqqoiIiLMzMxEREQQEBAyMjJUVFSIiIgAAADfK5hvAAAAAXRSTlMAQObYZgAAAAlwSFlz\n",
       "AAAOxAAADsQBlSsOGwAAANBJREFUGNNjYGB4+/8sA8P9XRMYUMAPIK5KQBXj/MrAwFKAKsbA95mB\n",
       "KQxNjIHnA8NUdDEG/gMsAhiC9gHvG1AEQO6If8r4HUWwE4jPO7D9wdD+i4FhPZrLGZj/AY29AKTf\n",
       "MnCB+EwPgW5m/cnAwPEJSPMrzAYJMrIfAAp8ALof6KmkCoZXIEElVgEG3fN/HzBE/F/GwHAPCMGe\n",
       "cUAyfDPDTnCo8COHzTbmTw+YAhgYZiM7o9D9ngHndmD4YjianYHhCIZgEY/lBgxBB8aHCgwA+TA0\n",
       "65CPedsAAAAASUVORK5CYII=\n",
       "\" style=\"display:inline;vertical-align:middle;\" /></a><br>"
      ],
      "text/plain": [
       "Kuj: K_{u,j}"
      ]
     },
     "execution_count": 9,
     "metadata": {},
     "output_type": "execute_result"
    }
   ],
   "source": [
    "Kuj = indexed_var(K,(u,j))"
   ]
  },
  {
   "cell_type": "code",
   "execution_count": 10,
   "metadata": {},
   "outputs": [
    {
     "data": {
      "text/html": [
       "<strong id=\"Muk\">Muk:</strong> <a class=\"ProveItLink\" href=\"__pv_it/0d90eb186dd0025530d572f9023d5d4a0b53b6ea0/expr.ipynb\"><img src=\"data:image/png;base64,iVBORw0KGgoAAAANSUhEUgAAACwAAAAUBAMAAAAEg8LyAAAAMFBMVEX///92dnYiIiLu7u4yMjJm\n",
       "Zmbc3Ny6urrMzMxUVFQQEBCIiIiqqqpERESYmJgAAABHv321AAAAAXRSTlMAQObYZgAAAAlwSFlz\n",
       "AAAOxAAADsQBlSsOGwAAAPRJREFUGNNjYGB4+/8AAwMD9687DKhg/gYg0fkdTZTtVQCQfPkBTZgv\n",
       "xQFIWF1AE2ZlXcDAkJ6/AV2YG6h/w/sGNOE8nm8MPAbz0UQZnnH8YbBhWIuwSxtMBTD8ZtjA9huh\n",
       "bjlUeClPAt8PhIPBTuV4wOBrw8C5gIF9JwMv2JAL2UCPcCcwzNrAwDWBgZHfoAskzLnt8DIGBiYG\n",
       "hv0JDP0bGJIPMewFCXPJMTQwcOrrMZxmOKmvacAwGwiBID8U1QvLGVYkAKm37AoJyMLL2D9vYBZg\n",
       "mM2hIIAsfPTN7AKONQxuDPPQA4KBgYcBKziMXfgBmAQANL8+aYXyOhMAAAAASUVORK5CYII=\n",
       "\" style=\"display:inline;vertical-align:middle;\" /></a><br>"
      ],
      "text/plain": [
       "Muk: M_{u,k}"
      ]
     },
     "execution_count": 10,
     "metadata": {},
     "output_type": "execute_result"
    }
   ],
   "source": [
    "Muk = indexed_var(M,(u,k))"
   ]
  },
  {
   "cell_type": "code",
   "execution_count": 11,
   "metadata": {},
   "outputs": [
    {
     "data": {
      "text/html": [
       "<strong id=\"Sij\">Sij:</strong> <a class=\"ProveItLink\" href=\"__pv_it/9d1d6e2cbeac2670bd8ad5864b261095002a6e950/expr.ipynb\"><img src=\"data:image/png;base64,iVBORw0KGgoAAAANSUhEUgAAAB4AAAAUBAMAAABohZD3AAAAMFBMVEX///8iIiIQEBBUVFTc3NzM\n",
       "zMwyMjLu7u6IiIhERES6urqYmJh2dnZmZmaqqqoAAABQ2t8hAAAAAXRSTlMAQObYZgAAAAlwSFlz\n",
       "AAAOxAAADsQBlSsOGwAAALVJREFUGNNjYGDgu3uGewEDAsxgYJ+PxOW9wMCwDYnPH8DAsAKJv34D\n",
       "A0MIEt//TwADMuD4/9+EgYHdAcwBSXnM/8TAwNMA5ouCyftI1vMBcf0DBJ8ZZGQBVzOIzd77gGEh\n",
       "kL7DwFNfAHIaXwLDxQMMPAYM7g9B8uU8FxguLL5sB/YECLBtgJrC/h3sKH4HmC0JB9gPMDAEwWxh\n",
       "t3Bg1WNgaEZ2ONAl2cj852xLFZD5G3h7CxgANfAojl6E6V4AAAAASUVORK5CYII=\n",
       "\" style=\"display:inline;vertical-align:middle;\" /></a><br>"
      ],
      "text/plain": [
       "Sij: S_{i,j}"
      ]
     },
     "execution_count": 11,
     "metadata": {},
     "output_type": "execute_result"
    }
   ],
   "source": [
    "Sij = indexed_var(S,(i,j))"
   ]
  },
  {
   "cell_type": "code",
   "execution_count": 12,
   "metadata": {},
   "outputs": [],
   "source": [
    "#ExprRange(i, ExprTuple(ExprRange(h, MultiQubitGate(Aih, A), one, m), ExprRange(j, MultiQubitGate(Bij, A), one, n), ExprRange(k, MultiQubitGate(Cik, A), one, p)), one, q).first().entries[0].first().subExpr(1).subExpr(1)"
   ]
  },
  {
   "cell_type": "code",
   "execution_count": 13,
   "metadata": {},
   "outputs": [],
   "source": [
    "#Circuit(ExprRange(i, ExprTuple(ExprRange(h, MultiQubitGate(Aih, A), one, m), ExprRange(j, MultiQubitGate(Bij, A), one, n), ExprRange(k, MultiQubitGate(Cik, A), one, p)), one, q),\n",
    " #        ExprTuple(ExprRange(h, Dth, one, m), ExprRange(j, Etj, one, n), ExprRange(k, Ftk, one, p)),\n",
    "  #       ExprRange(u, ExprTuple(ExprRange(h, Guh, one, m), ExprRange(j, Kuj, one, n), ExprRange(k, Muk, one, p)), one, s))"
   ]
  },
  {
   "cell_type": "code",
   "execution_count": 14,
   "metadata": {},
   "outputs": [
    {
     "name": "stdout",
     "output_type": "stream",
     "text": [
      " B_{1,1} MULTI_QUBIT_GATE S_{1,1}  & ..B_{1,j} MULTI_QUBIT_GATE S_{1,j}..  & B_{1,m} MULTI_QUBIT_GATE S_{1,m}   \\\\ \n",
      "   \\colon  & \\colon  & \\colon   \\\\ \n",
      "   B_{i,1} MULTI_QUBIT_GATE S_{i,1}  & ..B_{i,j} MULTI_QUBIT_GATE S_{i,j}..  & B_{i,m} MULTI_QUBIT_GATE S_{i,m}   \\\\ \n",
      "   \\colon  & \\colon  & \\colon   \\\\ \n",
      "   B_{q,1} MULTI_QUBIT_GATE S_{q,1}  & ..B_{q,j} MULTI_QUBIT_GATE S_{q,j}..  & B_{q,m} MULTI_QUBIT_GATE S_{q,m}\n",
      "\\Qcircuit@C=1em @R=.7em{\n",
      "& \\gate{B_{1,1} with S_{1,1}} \\qwx[1] & \\gate{\\cdots} \\qwx[1] & \\gate{B_{1,m} with S_{1,m}} \\qwx[1]   \\\\ \n",
      "  & \\gate{\\vdots} \\qwx[1] & \\gate{B_{i,j} with S_{i,j}} \\qwx[1] & \\gate{\\vdots} \\qwx[1]   \\\\ \n",
      "  & \\gate{B_{q,1} with S_{q,1}} & \\gate{\\cdots} & \\gate{B_{q,m} with S_{q,m}} \n",
      "}\n"
     ]
    },
    {
     "data": {
      "text/html": [
       "<a class=\"ProveItLink\" href=\"__pv_it/bce2c5c59b65a14d3b6e37ebf1ee88f44e8a3d370/expr.ipynb\"><img src=\"data:image/png;base64,iVBORw0KGgoAAAANSUhEUgAAAcYAAACMBAMAAAAU+BSkAAAAMFBMVEX///92dnaqqqoiIiLu7u5m\n",
       "Zma6urqIiIjc3NwQEBDMzMwyMjJUVFRERESYmJgAAAAeMT9/AAAAAXRSTlMAQObYZgAAAAlwSFlz\n",
       "AAAOxAAADsQBlSsOGwAABsFJREFUeNrtnV9oW1Ucx79Jb9P8a26GDyI+GHAIfdEqFqRPGSp9GTYi\n",
       "ZQ+TLiAqlcKicxSh2yIMfBFa9+LQddy32afmQWF72Bb1oWIrLb6UjbnmZROsoxG6rmab8dw/ae9N\n",
       "b845WZOT3PQc1nDa+7vnfj/3d3Pun/zyHbDd1PLeWhGNbuWGNLuuvWpsPGNjRlQlo2SUjPuS0WXK\n",
       "6zjGInXrAhljq48XF266xvak9FflRr/xm3/kQCwtgpGiiEOUax5Dy8CS5jZcVxzKa0DEGBUrUFbF\n",
       "5LG2Ig5RroxTGeB4qsaIfhKjJvReNwlZE8NIVcQS5cq4TvbYeqbGcN05srmksSIJ+1AMI1URS5Qr\n",
       "4xL5uZKtfWTgKaN3vAB8J4aRqoglypVxBjg8aA8ZGkU45X8VQ0cwvnorgx9ePEU2OPWPJmpe3aWo\n",
       "HlFujOHHE5PXHCGpPkSXA5uIjwEvkSnsYTaaJ/NZufyLGMbdiuoR5cbYswX0FaCYb923cggWjiKU\n",
       "weVg4ihA/vlLZHSy6IvVf43l+sy91kxGpyKzcYiiMPZOA74SLp0wduFEPxR8jTkNKQUPgJeNd3jI\n",
       "nACOpfXlpJnBXIzDOX2nWx0+Rociq3GIsjNW3UuqJOUxsuLz5rRMwgMb+AyIw78BZdN4h09p8Osy\n",
       "E8ZyVIJ57lW79HPAQKWj8tzdOhVZjUNU7TzOkakpumlnJPvoD4TTiOQRKCI5nNYnsah+3ko6GZt0\n",
       "rDoUxUYvTfb8rXGIuvPXRP70r66MZ8j0NJezM/bmydHg0/dQ3JfzZ9eBr2LJ98jCtyGE0aEoNlYI\n",
       "5XvyHKLuXsQFTLoyXiHHwbdJO6MvF7iAD8jJJ1iI5ofwG1Dy4Z04fHkxjA5FZ09ATXfH2aKCQ/3Y\n",
       "1Il3My6UFxevJmBnxMjThz8mx0vvaQRvF3AbOJBBavzdnyCEsUrRPGbRleAQFc2Ep/EK9d7Kxkhp\n",
       "IvLoVPQNTmEqzCEqpPUsB4sag/EQF6MSF8d4CMEiyeQ9H4eoKZLJ2HKcwvj59SOYTQSfvZ+hjaYv\n",
       "D58zgpvOaCoK5HEZX37KIWockWxwPsl6DpDgus32C3wOwKfILorB6E9yDXdQHCOnIrsoBmOMb7iC\n",
       "OMYYL+KOqJY/lyvuccQ2fr7a+EDJKBk7jrEs6jNW7sDGfMZabkaehA2Ehn+QJBklo2SUjJJRMkpG\n",
       "ySgZJaNkbNlYakOLVIvtKMp2m9lOjI0dUDJKxk5lFPJcqLWMamO2JRklo2SUjJLREX6vfGvxquay\n",
       "mF4D7q08zgDRkstieg24pxiDD4DAffcISg24pxhjJbNg0a1RasA9xRglsZHz7hGUGnBPMYaWofxs\n",
       "m3M4a8A9xTi3MrFQsP2Vswa8lYxGiXQ9jGey8F8k62WN3zRqDXglqF7GOkRxiR6ok/EG+XlOg88s\n",
       "uRuk1YBvB9Wdx4HWHquP4Px+Da0GvLnHap1lA/zh4f/Iy1Lacb6oWQNul17/zXTL8qh/LyP8EAGj\n",
       "pls5maDVgO8EeWtejUwDY9/DN6xnqdufo9WA7wR5ijF6/dHiwu/AWaNI+Q1filYDbgvy5L3VivEa\n",
       "KVDXsAV5kFHZMK5j1CxtBXuQp64BrDuMXFwvq5+lrmAP8tQ1gJWi+Wz4HMxvzNTOoy3IU9cAtjQB\n",
       "15grVYI8+jznYOSjaeZKlSCPMha6TyaZK1WC5HM5ySgZm3Z+bC5je5wfm5zH1p0f98FnrIwm6wEk\n",
       "o2SUjIzWjvVyaILTpKztlIySUTJKRskoGSWjZJSMkrG5Y6n7wANBFbVLW+hlIRklo2TcP4zt4DNv\n",
       "9Dvcg327sraDPdjNfmd7sJv9zvZgN/ud7cFu9jvbg93od7gH+3ZlbV+h8ieWB7vZhHiwOxqHKAqj\n",
       "5XhuNpYHuxVWhwf7EzA6FFX2KluUfStVVx0Vx3NrWu7nKnXn92Cv8pmvx4Pd0Tjr793zaDmeK6Of\n",
       "pMH2YH/zzxd2GHnyWOUzz5NHhyIeD3ZTlLsHu9G3HM9f1+ayYHqwK4PhrfoYn+BYdSji8GC3RLl7\n",
       "sBt9y/F8xKyXZXiwd6fC001ndCji8GA3RdXwYNf7FcfzTXMXMDzY1TTZpRDjwW4pYnuwW6LcPdht\n",
       "fWXLrGJn+JMPZ3szTc+jUxHbg90S5e7Bbu+fD5c4PNhD2TlNlAe7qYjDg90S5e7Bbu+/f6fI4cEe\n",
       "GD0GUR7spqIA24PdEuXuwe7YYizH5Xi+Js6DnVNRlSgaY5ScX5Ps4X4U58HOqahKFI3xmZs8jue+\n",
       "GU2YBzufompR+/WZlYhnj4JHlIySUTK2KWPb/V/eamM+Y/0fSVpuuGRcy0wAAAAASUVORK5CYII=\n",
       "\" style=\"display:inline;vertical-align:middle;\" /></a>"
      ],
      "text/plain": [
       " B_{1,1} MULTI_QUBIT_GATE S_{1,1}  & ..B_{1,j} MULTI_QUBIT_GATE S_{1,j}..  & B_{1,m} MULTI_QUBIT_GATE S_{1,m}   \\\\ \n",
       "   \\colon  & \\colon  & \\colon   \\\\ \n",
       "   B_{i,1} MULTI_QUBIT_GATE S_{i,1}  & ..B_{i,j} MULTI_QUBIT_GATE S_{i,j}..  & B_{i,m} MULTI_QUBIT_GATE S_{i,m}   \\\\ \n",
       "   \\colon  & \\colon  & \\colon   \\\\ \n",
       "   B_{q,1} MULTI_QUBIT_GATE S_{q,1}  & ..B_{q,j} MULTI_QUBIT_GATE S_{q,j}..  & B_{q,m} MULTI_QUBIT_GATE S_{q,m}"
      ]
     },
     "execution_count": 14,
     "metadata": {},
     "output_type": "execute_result"
    }
   ],
   "source": [
    "Circuit(ExprRange(i, ExprTuple(ExprRange(j, MultiQubitGate(Bij, Sij), one, m)), one, q))"
   ]
  },
  {
   "cell_type": "code",
   "execution_count": 15,
   "metadata": {},
   "outputs": [
    {
     "name": "stdout",
     "output_type": "stream",
     "text": [
      " [INPUT](|0〉)  & [GATE](H)  & [OUTPUT](|+〉)   \\\\ \n",
      "   [INPUT](|1〉)  & H MULTI_QUBIT_GATE {2}  & [OUTPUT](|-〉)\n",
      "\\Qcircuit@C=1em @R=.7em{\n",
      " \\lstick{\\lvert 0 \\rangle} & \\gate{H} & \\rstick{\\lvert + \\rangle} \\qw   \\\\ \n",
      "   \\lstick{\\lvert 1 \\rangle} & \\gate{H} & \\rstick{\\lvert - \\rangle} \\qw \n",
      "}\n"
     ]
    },
    {
     "data": {
      "text/html": [
       "<a class=\"ProveItLink\" href=\"__pv_it/17401d1353e06b5d1e3bd2be2f84a226aee0c6930/expr.ipynb\"><img src=\"data:image/png;base64,iVBORw0KGgoAAAANSUhEUgAAAJAAAABEBAMAAACcx6GyAAAAMFBMVEX///8QEBBUVFRERESYmJgi\n",
       "IiLu7u6qqqoyMjJmZmbMzMyIiIi6urp2dnbc3NwAAADV54WuAAAAAXRSTlMAQObYZgAAAAlwSFlz\n",
       "AAAOxAAADsQBlSsOGwAAAiNJREFUWMPtlj9r20AYxp9gx0ocu+qSuakDIX+GeC+4+QZ1AiJj3KFj\n",
       "adYMBi+hm+MPYIIJdK5nd2i+QbV5qCAGfwAbmthuS3Hf06ue2vTUIycnJFQPSLpX4vlxOt2dHiBS\n",
       "9vRPDWEo+1p9V6AeX7IGoJ5sCbfHzVTr5iBPtoSbqvznU1iNOCDhpuotXvVQjgMSbg/pMvJFdNWg\n",
       "pe3JWvrpZC0SlNsR566oUiuwRuhH9MiuAXPl6B5ZbXHui8puIDfGQk8Neu8Cg4YORG4Pbwh0CctV\n",
       "gy7OgReHOhC5PQxcZL/j79Fm0Akdzys6ELkZ9ANoqkFf6FiGFtQUr+YiRz0646e/rVL/o1wVCoWv\n",
       "154Mf4EWHWd32XFWhNsfbGsMVJU9yn+jKTDW96gqPn8R6RFQV4IWyJ4a6UF1MSEfY7GGR0UlyKbb\n",
       "czUtiNxU7eNlC/lDJehTm6eSBkRuql5/2ATm1TP7gtb1x3MtaD5ceUdq0IGYRtCCjkJQSQXKrE+3\n",
       "sDp99g8QL9qSBGVqcbYR4Q6qpZ04IOHuBJulwZ7dCbfae/k7uoM/baJEif5XJYH9NgI73lVmEtgz\n",
       "GycVzCKwU9yowDiws7ohyDSws/ohyDSws/zAziDTwB6MtitBpoFdjrYEGQb2QM0QZBLYM8eOUIsD\n",
       "ewAyDOyBqiHIMLAHqkuQaWBncWD3QaaBncWBffXJXts4sLNmENilO25gl+4ksD/AwP4TYnB1K4tr\n",
       "fGkAAAAASUVORK5CYII=\n",
       "\" style=\"display:inline;vertical-align:middle;\" /></a>"
      ],
      "text/plain": [
       " [INPUT](|0〉)  & [GATE](H)  & [OUTPUT](|+〉)   \\\\ \n",
       "   [INPUT](|1〉)  & H MULTI_QUBIT_GATE {2}  & [OUTPUT](|-〉)"
      ]
     },
     "execution_count": 15,
     "metadata": {},
     "output_type": "execute_result"
    }
   ],
   "source": [
    "Circuit(ExprTuple(Input(ket0), Gate(H), Output(ketPlus)), \n",
    "        ExprTuple(Input(ket1), MultiQubitGate(H, Set(two)), Output(ketMinus)))\n",
    "# MultiQubitGate of a single gate - automatic equality reductions. "
   ]
  },
  {
   "cell_type": "code",
   "execution_count": 16,
   "metadata": {},
   "outputs": [
    {
     "name": "stdout",
     "output_type": "stream",
     "text": [
      " [INPUT](|0〉)  & --  & [OUTPUT](|+〉)   \\\\ \n",
      "   [INPUT](|1〉)  & [GATE]()  & [OUTPUT](|-〉)\n",
      "\\Qcircuit@C=1em @R=.7em{\n",
      " \\lstick{\\lvert 0 \\rangle} & \\qw & \\rstick{\\lvert + \\rangle} \\qw   \\\\ \n",
      "   \\lstick{\\lvert 1 \\rangle} & \\gate{[]} & \\rstick{\\lvert - \\rangle} \\qw \n",
      "}\n"
     ]
    },
    {
     "data": {
      "text/html": [
       "<a class=\"ProveItLink\" href=\"__pv_it/5348133cb6313763733aaf64671a6e437450fda00/expr.ipynb\"><img src=\"data:image/png;base64,iVBORw0KGgoAAAANSUhEUgAAAIkAAAA7BAMAAAC9CLSEAAAAMFBMVEX///8QEBBUVFRERESYmJgi\n",
       "IiLu7u6qqqoyMjJmZmbMzMyIiIi6urp2dnbc3NwAAADV54WuAAAAAXRSTlMAQObYZgAAAAlwSFlz\n",
       "AAAOxAAADsQBlSsOGwAAAedJREFUWMPt1r9Lw1AQB/CDNo39ZXUXLDjplNlB/BNKIQiZ6iB0EV1F\n",
       "Ct3cahe3IkVwd7CLDnbwD+giHdohkD9AB2kHEX25S5tK0vRygwj2QeBBmw8v9/IuX7ABRwbijVV/\n",
       "2lbXkKaJdjwl351Od0nJD65Bb4qVM1Iu4MiGkljRUEmWIG9AX6I84/TUVRJF0EfgSJRzLLThKoUm\n",
       "5MawYksVaLjKiVLeQe+JlZqrvPYg8wExyzuraBPlE6AlVtJd94l6kFNruaGfC18LxttEuTLNddMs\n",
       "q/e+SNXVx/h0wrWokqqdNiA5wkoLFbW96q1bg3Qdd12oOHgCDuCwjW+gUOmjcvy4Q6dBqJSmnQFP\n",
       "pkxx28FE2ROfxoQ9VVJ1cWeo+r0uuy9W7tX14HXMmH0363dYA/7X+HG65cqc+VL5bWV+8sA7O1bH\n",
       "ClPYyQPvHNI/CouTB9xWwpIHV6Hkkdq+rIR9GrmK5q3lqQIhyYOrUPIgxRErlDxICSYPrkLJg5Rg\n",
       "8mArNV8JlpetaDNKS6xg8vCUYPKYVUKSR9V0h+UlD0+pideCycNTGmIFkwcpweTBVhy/usHkwVYo\n",
       "eWxtlu9CkgdbiUweXCU6eXCV6OTBVaKTB1eJTh5454vV2QhT2Mlj+W38+wrws9Q3qYIVFyAXXBUA\n",
       "AAAASUVORK5CYII=\n",
       "\" style=\"display:inline;vertical-align:middle;\" /></a>"
      ],
      "text/plain": [
       " [INPUT](|0〉)  & --  & [OUTPUT](|+〉)   \\\\ \n",
       "   [INPUT](|1〉)  & [GATE]()  & [OUTPUT](|-〉)"
      ]
     },
     "execution_count": 16,
     "metadata": {},
     "output_type": "execute_result"
    }
   ],
   "source": [
    "Circuit(ExprTuple(Input(ket0), Gate(IdentityOp()), Output(ketPlus)), \n",
    "        ExprTuple(Input(ket1), Gate(), Output(ketMinus)))\n",
    "# Empty gate reduction"
   ]
  },
  {
   "cell_type": "code",
   "execution_count": 17,
   "metadata": {},
   "outputs": [],
   "source": [
    "#Circuit(ExprRange(i, Gate(ExprRange(j, Aij, one, n)), one, m))"
   ]
  },
  {
   "cell_type": "code",
   "execution_count": 18,
   "metadata": {},
   "outputs": [
    {
     "name": "stdout",
     "output_type": "stream",
     "text": [
      " [INPUT](|0〉)  & CONTROL MULTI_QUBIT_GATE {1, 2, 3, 4, 6, 7}  & [OUTPUT](|0〉)   \\\\ \n",
      "   [INPUT](|0〉)  & CONTROL MULTI_QUBIT_GATE {1, 2, 3, 4, 6, 7}  & [OUTPUT](|0〉)   \\\\ \n",
      "   [INPUT](|0〉)  & Z MULTI_QUBIT_GATE {1, 2, 3, 4, 6, 7}  & [OUTPUT](|0〉)   \\\\ \n",
      "   [INPUT](|1〉)  & X MULTI_QUBIT_GATE {1, 2, 3, 4, 6, 7}  & [OUTPUT](|1〉)   \\\\ \n",
      "   [INPUT](|0〉)  & --  & [OUTPUT](|0〉)   \\\\ \n",
      "   [INPUT](|1〉)  & X MULTI_QUBIT_GATE {1, 2, 3, 4, 6, 7}  & [OUTPUT](|1〉)   \\\\ \n",
      "   [INPUT](|1〉)  & Z MULTI_QUBIT_GATE {1, 2, 3, 4, 6, 7}  & [OUTPUT](|1〉)\n",
      "\\Qcircuit@C=1em @R=.7em{\n",
      " \\lstick{\\lvert 0 \\rangle} & \\ctrl{1} & \\rstick{\\lvert 0 \\rangle} \\qw   \\\\ \n",
      "   \\lstick{\\lvert 0 \\rangle} & \\ctrl{1} & \\rstick{\\lvert 0 \\rangle} \\qw   \\\\ \n",
      "   \\lstick{\\lvert 0 \\rangle} & \\gate{Z} \\qwx[1] & \\rstick{\\lvert 0 \\rangle} \\qw   \\\\ \n",
      "   \\lstick{\\lvert 1 \\rangle} & \\gate{X} \\qwx[2] & \\rstick{\\lvert 1 \\rangle} \\qw   \\\\ \n",
      "   \\lstick{\\lvert 0 \\rangle} & \\qw & \\rstick{\\lvert 0 \\rangle} \\qw   \\\\ \n",
      "   \\lstick{\\lvert 1 \\rangle} & \\gate{X} \\qwx[1] & \\rstick{\\lvert 1 \\rangle} \\qw   \\\\ \n",
      "   \\lstick{\\lvert 1 \\rangle} & \\gate{Z} & \\rstick{\\lvert 1 \\rangle} \\qw \n",
      "}\n"
     ]
    },
    {
     "data": {
      "text/html": [
       "<a class=\"ProveItLink\" href=\"__pv_it/8b1e44d6f48776ce3712d7a9fcfdde370bd5957a0/expr.ipynb\"><img src=\"data:image/png;base64,iVBORw0KGgoAAAANSUhEUgAAAIkAAADUCAMAAACf6vDSAAAAPFBMVEX///8SEhJtbW2VlZU/Pz8Q\n",
       "EBBUVFRERESYmJgiIiLu7u6qqqoyMjJmZmbMzMyIiIi6urp2dnbc3NwAAABJ2GbgAAAAAXRSTlMA\n",
       "QObYZgAAAAlwSFlzAAAOxAAADsQBlSsOGwAABL1JREFUeNrtnOmWoyAQhZlFcN/q/d91IsQEMN0t\n",
       "xdWM3ZUfM33qHL1fFLHqVkDNKvj06ozPS9FpDILmFJSXovfgNA3dQtp0J5KEoi7YNkrV1RKtziOJ\n",
       "RG2wdH+a5Z/mLJJY1AaNXoIN1bfBZM4iiUVtkOyNGmlBa+eTSGLRJVivwXKBnFLP21WFmZNJNqJL\n",
       "cCar3tOgGGO2ouXTp5JsRIOg/a8b076fBaGKTbKKugs1uQtl8XrtH0Soz/buRKLe4Gns4EkdKO1d\n",
       "qeaN2Keoe6Dso1u6syU+PNy7sxF1k0xh71Vr307mnBG7EXUTb7VMvIV7ESVPsh0ViS/Ol6IuWE/D\n",
       "oN3ZGC8e4r13ItHoBc16GTNJItE4aOY3kFjRKFi36nwSJxrNqL/LM0heiv79EwR/9WeQvBRFZI/c\n",
       "u4PPHpkkB2SPPJIjskceyRHZI4/kiOyRJHuU7FGyR8keJXuU7HFn9hgFh/INJE50CEc9y1FKJkGI\n",
       "YkgO+wiJkAjJbu3d6dk7rwKpq5Pwel6ZJMCeVyYJsOeFIUG4FhASiGvhqxVUtFrrdi009pJgXAtP\n",
       "zZXYty9X1GkkGNfCU+vcRWyLOfHuYFwLT81V0eZZeu0kAbkWFE0GHY2pIxbkWlBcG5eKTZLpWgQn\n",
       "Lt2BX7wdj3EtApKGOs58gnEtfLWRdPAu2f0UQ1wLf8SSO6BLJcG4Fk+1uXD161gmz/YQ1+KhVleV\n",
       "m1qrOpkE4lo81O5Ta9+ajKwgx7Wgh51UGWPagrwJhUGS4VpgM6Uc1wJLkuNaZJIAXYvvXWVcvQaU\n",
       "Cl1IhERIhERIhOStJCmd+7dehKuTsJzhXBKcM5xL8pkzrHpX2CYWo5kkgagN1rpr7z8gqU4jiUVX\n",
       "vOEeTDQtBkNUTItnQEXbpF6TQDQOpho5St/tKa+0TyZ5OsNeMNnccp7SrDnjJBDdBJMNv5bm2z1X\n",
       "WSSrMxwE94zZQKqkLgRhkKzOcBjc4QyHUgXpOpfk7gyHwT3OcHjewBj+6JjPSVZnOAjuGCghiY5/\n",
       "Qsa4JqszHAR3PDyBVDdrGnNJVmfYD+6ZUHyprn+Yw3ySpzPsBfdMsp7UtLy9KprzSJ7OsDYFVZrR\n",
       "3nGHlzQxSCJRljO8StWmW5+WOiMryHCGnVR/+07Wdh9bun25DBK+MwzOlDKcYTBJhjOcS4Jzhr95\n",
       "lXHxGlAq9B9HgtglgCCiiF0Ccn8zbGSdl6zz+pDkW6/z4pEcsM6LSYJf55VNcvo6r4N+MYUbscB1\n",
       "XvynGL7Oiz2z4dd5cWd7Wed1TF2MJpF1XrLOS+qd06WlS/vTSKRf/GFdfP1+cUaXFtwvxnRpMf1i\n",
       "RJcW0y+GdGkx/WJElxbTL4Z0aTH94m2XNp0E0y/edmnf1C+GdGkR/WJIlxbRL8Z0aQH94pwuLbJf\n",
       "nNelxfWLcV3a3H4xLD+RfrGSfvGPqXekXywkQiIkQiIkQiIke9KC/+UqyB5TLJJr7DGV5gyjSPKd\n",
       "YQgJxBmG7DGlEM4wZI8phXCGIXtMKYQzjNhjaiPKcoYRe0xtRFnOMGKPqY0ozxkG7DG1EWU5w5A9\n",
       "phTCGYbsMaUQzjBkjymFcIYxe0whnGHMHlMIZ1j2mDo8U5I9ppTsMXW9GvAfyTjE0Iy+SL0AAAAA\n",
       "SUVORK5CYII=\n",
       "\" style=\"display:inline;vertical-align:middle;\" /></a>"
      ],
      "text/plain": [
       " [INPUT](|0〉)  & CONTROL MULTI_QUBIT_GATE {1, 2, 3, 4, 6, 7}  & [OUTPUT](|0〉)   \\\\ \n",
       "   [INPUT](|0〉)  & CONTROL MULTI_QUBIT_GATE {1, 2, 3, 4, 6, 7}  & [OUTPUT](|0〉)   \\\\ \n",
       "   [INPUT](|0〉)  & Z MULTI_QUBIT_GATE {1, 2, 3, 4, 6, 7}  & [OUTPUT](|0〉)   \\\\ \n",
       "   [INPUT](|1〉)  & X MULTI_QUBIT_GATE {1, 2, 3, 4, 6, 7}  & [OUTPUT](|1〉)   \\\\ \n",
       "   [INPUT](|0〉)  & --  & [OUTPUT](|0〉)   \\\\ \n",
       "   [INPUT](|1〉)  & X MULTI_QUBIT_GATE {1, 2, 3, 4, 6, 7}  & [OUTPUT](|1〉)   \\\\ \n",
       "   [INPUT](|1〉)  & Z MULTI_QUBIT_GATE {1, 2, 3, 4, 6, 7}  & [OUTPUT](|1〉)"
      ]
     },
     "execution_count": 18,
     "metadata": {},
     "output_type": "execute_result"
    }
   ],
   "source": [
    "# multigate block test\n",
    "Circuit(ExprTuple(Input(ket0), MultiQubitGate(CONTROL, Set(one, two, three, four, six, seven)), Output(ket0)), \n",
    "        ExprTuple(Input(ket0), MultiQubitGate(CONTROL, Set(one, two, three, four, six, seven)), \n",
    "                  Output(ket0)), \n",
    "        ExprTuple(Input(ket0), MultiQubitGate(Z, Set(one, two, three, four, six, seven)), Output(ket0)), \n",
    "        ExprTuple(Input(ket1), MultiQubitGate(X, Set(one, two, three, four, six, seven)), \n",
    "                  Output(ket1)),\n",
    "        ExprTuple(Input(ket0), Gate(IdentityOp()), Output(ket0)), \n",
    "        ExprTuple(Input(ket1), MultiQubitGate(X, Set(one, two, three, four, six, seven)), \n",
    "                  Output(ket1)),\n",
    "        ExprTuple(Input(ket1), MultiQubitGate(Z, Set(one, two, three, four, six, seven)), \n",
    "                  Output(ket1)))"
   ]
  },
  {
   "cell_type": "code",
   "execution_count": 19,
   "metadata": {},
   "outputs": [
    {
     "name": "stdout",
     "output_type": "stream",
     "text": [
      " [INPUT](|0〉)  & CONTROL MULTI_QUBIT_GATE {1, 2, 3, 4}  & [OUTPUT](|0〉)   \\\\ \n",
      "   [INPUT](|0〉)  & Z MULTI_QUBIT_GATE {1, 2, 3, 4}  & [OUTPUT](|0〉)   \\\\ \n",
      "   [INPUT](|0〉)  & Z MULTI_QUBIT_GATE {1, 2, 3, 4}  & [OUTPUT](|0〉)   \\\\ \n",
      "   [INPUT](|1〉)  & Z MULTI_QUBIT_GATE {1, 2, 3, 4}  & [OUTPUT](|1〉)\n",
      "\\Qcircuit@C=1em @R=.7em{\n",
      " \\lstick{\\lvert 0 \\rangle} & \\ctrl{1} & \\rstick{\\lvert 0 \\rangle} \\qw   \\\\ \n",
      "   \\lstick{\\lvert 0 \\rangle} & \\multigate{2}{Z} & \\rstick{\\lvert 0 \\rangle} \\qw   \\\\ \n",
      "   \\lstick{\\lvert 0 \\rangle} & \\ghost{Z} & \\rstick{\\lvert 0 \\rangle} \\qw   \\\\ \n",
      "   \\lstick{\\lvert 1 \\rangle} & \\ghost{Z} & \\rstick{\\lvert 1 \\rangle} \\qw \n",
      "}\n"
     ]
    },
    {
     "data": {
      "text/html": [
       "<a class=\"ProveItLink\" href=\"__pv_it/874828991484b03b62fd95a50bfab4cfd33c48240/expr.ipynb\"><img src=\"data:image/png;base64,iVBORw0KGgoAAAANSUhEUgAAAI8AAABxBAMAAAAe1e3JAAAAMFBMVEX///8QEBBUVFRERESYmJgi\n",
       "IiLu7u6qqqoyMjJmZmbMzMyIiIi6urp2dnbc3NwAAADV54WuAAAAAXRSTlMAQObYZgAAAAlwSFlz\n",
       "AAAOxAAADsQBlSsOGwAAAvdJREFUaN7tmTtv01AYhl9I4txjpC6IgUYwAUugC2KAMDATGMqGDFIl\n",
       "FkRWhigFBrYmC6JDBVYl5kaIBRjoP2gkBoaCaik/gIuaVFBQOLeQDjn252MvqD5SlIuTR/bnc877\n",
       "6As8iFGAyaioZ5c9PsuXKdcEVN6Uz5ckqLz9AtmuKejLWw8PJegpljw0DEG5pnUbGQFKN1Cu4ZMh\n",
       "6BrwEeUmB6WqyI4wMARdANpOpcZBdhelPeQ8M9BPYKuJFQ56wEC7yPa1X38252lBFgfV0eKgr30U\n",
       "9qGvdmY8/qUFVf4AGz1ebQlib9d0oJ3xeOgP6iO/yS+tjxI7o3V5zB6TxrfJpTHQVg+Fqix2dg/8\n",
       "MmePDvud41fsdpNXmN3+GtIj8MIbXBoWgOsOv+dsQh5Dfhl8KhgUG1eBVfBZyJbILdxxxeTUjJdz\n",
       "rh6UaVonwNcFA91/fxZiuWiG7Tchre3Xrpg7ahsRC9gEJAbfOyagy1FAKe8fyFqOAro33SGL9Sig\n",
       "N+zxTp0cTEBFdTtrtM3CRkzj0IMISWtHTFpbt52FTVo7+BNa0tJAhKSlgQhJSwMRkpYGIiQtCURJ\n",
       "WhKIkrR0UFDS+k3RMElLLnZQ0tJAhKSlgQhJSwMRkpYGIiQtcfUHJ20IkH/ShgD5J20IkH/SEkC0\n",
       "pLVDpEACSkAJKAikFy0CiCha9G3kfxWtI98fn+o0YhAtZi3WDScG0XoO5E7GIVpV4Iobh2i5yP+O\n",
       "SbR26gaiNQOU3vdxSK1ozTC2dldvbGFEq/RjsiIjitYGO9KNQbQqx9lJ1WMQraVFdtCJQbQeeSg8\n",
       "iUG08sOFi/O7iWglAZmAEtAhFS28ciKIVmERSrSsMx0HxqJ1d3UEJVrABwfGHS0UGUiKlgQNooCk\n",
       "aEmQaUdLgKRoSZBhR0uBWlOQYUdLgTIHQGtRQEK0FGg9CkiIlgK1jFpjCiRES4FWopyREC0JMu1o\n",
       "SdBgWmzTjpYESdE6PX+zZ9zROnp+eC7paEUXreA/Dw6I1l+OB0EXHEBhhgAAAABJRU5ErkJggg==\n",
       "\" style=\"display:inline;vertical-align:middle;\" /></a>"
      ],
      "text/plain": [
       " [INPUT](|0〉)  & CONTROL MULTI_QUBIT_GATE {1, 2, 3, 4}  & [OUTPUT](|0〉)   \\\\ \n",
       "   [INPUT](|0〉)  & Z MULTI_QUBIT_GATE {1, 2, 3, 4}  & [OUTPUT](|0〉)   \\\\ \n",
       "   [INPUT](|0〉)  & Z MULTI_QUBIT_GATE {1, 2, 3, 4}  & [OUTPUT](|0〉)   \\\\ \n",
       "   [INPUT](|1〉)  & Z MULTI_QUBIT_GATE {1, 2, 3, 4}  & [OUTPUT](|1〉)"
      ]
     },
     "execution_count": 19,
     "metadata": {},
     "output_type": "execute_result"
    }
   ],
   "source": [
    "# multigate block test\n",
    "Circuit(ExprTuple(Input(ket0), MultiQubitGate(CONTROL, Set(one, two, three, four)), Output(ket0)), \n",
    "        ExprTuple(Input(ket0), MultiQubitGate(Z, Set(one, two, three, four)), \n",
    "                  Output(ket0)), \n",
    "        ExprTuple(Input(ket0), MultiQubitGate(Z, Set(one, two, three, four)), Output(ket0)), \n",
    "        ExprTuple(Input(ket1), MultiQubitGate(Z, Set(one, two, three, four)), \n",
    "                  Output(ket1)))"
   ]
  },
  {
   "cell_type": "code",
   "execution_count": 20,
   "metadata": {},
   "outputs": [],
   "source": [
    "# Single Qubit Gates"
   ]
  },
  {
   "cell_type": "code",
   "execution_count": 21,
   "metadata": {},
   "outputs": [
    {
     "name": "stdout",
     "output_type": "stream",
     "text": [
      " [INPUT](|0〉)  & [GATE](H)  & [OUTPUT](|+〉)   \\\\ \n",
      "   [INPUT](|1〉)  & [GATE](H)  & [OUTPUT](|-〉)\n",
      "\\Qcircuit@C=1em @R=.7em{\n",
      " \\lstick{\\lvert 0 \\rangle} & \\gate{H} & \\rstick{\\lvert + \\rangle} \\qw   \\\\ \n",
      "   \\lstick{\\lvert 1 \\rangle} & \\gate{H} & \\rstick{\\lvert - \\rangle} \\qw \n",
      "}\n"
     ]
    },
    {
     "data": {
      "text/html": [
       "<a class=\"ProveItLink\" href=\"__pv_it/eb3ee52524ab4546cf6cc9beb693200c6ff522680/expr.ipynb\"><img src=\"data:image/png;base64,iVBORw0KGgoAAAANSUhEUgAAAJAAAABEBAMAAACcx6GyAAAAMFBMVEX///8QEBBUVFRERESYmJgi\n",
       "IiLu7u6qqqoyMjJmZmbMzMyIiIi6urp2dnbc3NwAAADV54WuAAAAAXRSTlMAQObYZgAAAAlwSFlz\n",
       "AAAOxAAADsQBlSsOGwAAAiNJREFUWMPtlj9r20AYxp9gx0ocu+qSuakDIX+GeC+4+QZ1AiJj3KFj\n",
       "adYMBi+hm+MPYIIJdK5nd2i+QbV5qCAGfwAbmthuS3Hf06ue2vTUIycnJFQPSLpX4vlxOt2dHiBS\n",
       "9vRPDWEo+1p9V6AeX7IGoJ5sCbfHzVTr5iBPtoSbqvznU1iNOCDhpuotXvVQjgMSbg/pMvJFdNWg\n",
       "pe3JWvrpZC0SlNsR566oUiuwRuhH9MiuAXPl6B5ZbXHui8puIDfGQk8Neu8Cg4YORG4Pbwh0CctV\n",
       "gy7OgReHOhC5PQxcZL/j79Fm0Akdzys6ELkZ9ANoqkFf6FiGFtQUr+YiRz0646e/rVL/o1wVCoWv\n",
       "154Mf4EWHWd32XFWhNsfbGsMVJU9yn+jKTDW96gqPn8R6RFQV4IWyJ4a6UF1MSEfY7GGR0UlyKbb\n",
       "czUtiNxU7eNlC/lDJehTm6eSBkRuql5/2ATm1TP7gtb1x3MtaD5ceUdq0IGYRtCCjkJQSQXKrE+3\n",
       "sDp99g8QL9qSBGVqcbYR4Q6qpZ04IOHuBJulwZ7dCbfae/k7uoM/baJEif5XJYH9NgI73lVmEtgz\n",
       "GycVzCKwU9yowDiws7ohyDSws/ohyDSws/zAziDTwB6MtitBpoFdjrYEGQb2QM0QZBLYM8eOUIsD\n",
       "ewAyDOyBqiHIMLAHqkuQaWBncWD3QaaBncWBffXJXts4sLNmENilO25gl+4ksD/AwP4TYnB1K4tr\n",
       "fGkAAAAASUVORK5CYII=\n",
       "\" style=\"display:inline;vertical-align:middle;\" /></a>"
      ],
      "text/plain": [
       " [INPUT](|0〉)  & [GATE](H)  & [OUTPUT](|+〉)   \\\\ \n",
       "   [INPUT](|1〉)  & [GATE](H)  & [OUTPUT](|-〉)"
      ]
     },
     "execution_count": 21,
     "metadata": {},
     "output_type": "execute_result"
    }
   ],
   "source": [
    "Circuit(ExprTuple(Input(ket0), Gate(H), Output(ketPlus)), \n",
    "        ExprTuple(Input(ket1), Gate(H), Output(ketMinus)))\n",
    "# H gate (both inputs)"
   ]
  },
  {
   "cell_type": "code",
   "execution_count": 22,
   "metadata": {},
   "outputs": [
    {
     "name": "stdout",
     "output_type": "stream",
     "text": [
      " [INPUT](|0〉)  & [GATE](X)  & [OUTPUT](|1〉)   \\\\ \n",
      "   [INPUT](|1〉)  & [GATE](X)  & [OUTPUT](|0〉)\n",
      "\\Qcircuit@C=1em @R=.7em{\n",
      " \\lstick{\\lvert 0 \\rangle} & \\gate{X} & \\rstick{\\lvert 1 \\rangle} \\qw   \\\\ \n",
      "   \\lstick{\\lvert 1 \\rangle} & \\gate{X} & \\rstick{\\lvert 0 \\rangle} \\qw \n",
      "}\n"
     ]
    },
    {
     "data": {
      "text/html": [
       "<a class=\"ProveItLink\" href=\"__pv_it/62d9ff1c15f3f1b0d1c581446b6090d23e7b2f5e0/expr.ipynb\"><img src=\"data:image/png;base64,iVBORw0KGgoAAAANSUhEUgAAAIkAAABEBAMAAABHfAuQAAAAMFBMVEX///8QEBBUVFRERESYmJgi\n",
       "IiLu7u6qqqoyMjJmZmbMzMyIiIi6urp2dnbc3NwAAADV54WuAAAAAXRSTlMAQObYZgAAAAlwSFlz\n",
       "AAAOxAAADsQBlSsOGwAAAkZJREFUWMPtlr9LHEEUx7+5H3PenndnKTY5SJVYuJoqKfxRWEcsYmc2\n",
       "QiCNuGCVImiXTq2ChRxLwNpDbNQiV9q5YCH4Axb8A6JJvCOI0dl5c0nU/cE9IoSwD5bZZZcPb9/M\n",
       "vPkAoVG+uhmn4ET51vP9UzwajPYpJT068jqi27TTNqVYp/E5UYqHVeSWWBTjJfCOKB/wxsMYhzK1\n",
       "3ACyipIZQ9HEfjClMHTmilfddkguBUkp2j4lXUGugZOQXFJNYNZDBKVk+pTyEjqb6PCCKcY3lCqI\n",
       "omDBp8xIynfk3JC6LHpTiKa89ylfXBgXuFteTXnxsRJDybYol8BKCOXBVyuGkq/7f+SiU+byid79\n",
       "sf30xxe4/eb0JsWoUHVzTfV3gbmkzhGTiyypnGkTmYaqdCCl2lePocjplauuC/l5NetBlLyzZsZQ\n",
       "TtQOmMBrR63AIMoBsj9jKPuKMr39hHZDAEV+mrkMpaT6z3vVGtGdQe3MuxTxzJ8cK7Iz+O2gRRkM\n",
       "ohj9Zw52rsYjKWnvF0XMs7vU29+9rjDMpmzIa0un1X7fLegma/5jJ8l9n41JJJHE/xWJNf8Va8aq\n",
       "xbXm401PW7N4vGiBZ80dtpjU1gx8tsCz5lFgT1szUVjWPADMWWTNRGFZ8w9g1yZrJgrHmoVPGSZr\n",
       "JgrHmkvSstZqZM2awrBmRXHJmjWFYc1CUnZrZM2awrFmWZc5m6xZUzjW/FSWzSJrJgrLmkeA5ZY1\n",
       "KwrLmrO26GlZ86OH4zWeNYvDdSex5sSa2z0brwHzRoaDQv/AHwAAAABJRU5ErkJggg==\n",
       "\" style=\"display:inline;vertical-align:middle;\" /></a>"
      ],
      "text/plain": [
       " [INPUT](|0〉)  & [GATE](X)  & [OUTPUT](|1〉)   \\\\ \n",
       "   [INPUT](|1〉)  & [GATE](X)  & [OUTPUT](|0〉)"
      ]
     },
     "execution_count": 22,
     "metadata": {},
     "output_type": "execute_result"
    }
   ],
   "source": [
    "Circuit(ExprTuple(Input(ket0), Gate(X), Output(ket1)), \n",
    "        ExprTuple(Input(ket1), Gate(X), Output(ket0)))\n",
    "# X gate (both inputs)"
   ]
  },
  {
   "cell_type": "code",
   "execution_count": 23,
   "metadata": {},
   "outputs": [
    {
     "name": "stdout",
     "output_type": "stream",
     "text": [
      " [INPUT](|0〉)  & [GATE](Z)  & [OUTPUT](|0〉)   \\\\ \n",
      "   [INPUT](|1〉)  & [GATE](Z)  & [OUTPUT](-|1〉)\n",
      "\\Qcircuit@C=1em @R=.7em{\n",
      " \\lstick{\\lvert 0 \\rangle} & \\gate{Z} & \\rstick{\\lvert 0 \\rangle} \\qw   \\\\ \n",
      "   \\lstick{\\lvert 1 \\rangle} & \\gate{Z} & \\rstick{-\\lvert 1 \\rangle} \\qw \n",
      "}\n"
     ]
    },
    {
     "data": {
      "text/html": [
       "<a class=\"ProveItLink\" href=\"__pv_it/7f69385db975caf28983155ff58c1f59aa69b76e0/expr.ipynb\"><img src=\"data:image/png;base64,iVBORw0KGgoAAAANSUhEUgAAAJcAAABEBAMAAAB+G7rLAAAAMFBMVEX///8QEBBUVFRERESYmJgi\n",
       "IiLu7u6qqqoyMjJmZmbMzMyIiIi6urp2dnbc3NwAAADV54WuAAAAAXRSTlMAQObYZgAAAAlwSFlz\n",
       "AAAOxAAADsQBlSsOGwAAAo5JREFUWMPt179rk0EYB/CvJnmTvPnlKA426KQu0S7ioHFwNgpWcJBX\n",
       "odBFfFeHkqqDm81mB5EXwblBXNTB/gcNOHRoxRf6B1ilTSlV9Hnz5k2ey90F7oRKJbe89AKf3r33\n",
       "3L33BbSt8ltoW/ibVhnz10FgYfxwjbFy/xmwvo34kQpMsdJK/LwkYqX1V8i2bLAv70M8ErFnmA3R\n",
       "sMByvnMXGQFLN1CqYU2DHfn+5NRiQ41dAz6j5HMsVUW2i00NtlqHc8NTYxeApleucazSQnEXuVCN\n",
       "vQByJzXT3KP/5eM5xx4Sto1sR41VgSuBGnP2egOf59i3Dtx9yCtQ6ZdR/qdmAcq/gOU2X4EYo+6X\n",
       "utX8Wh+HdZBf4dPsoEgjey1t77gjvT/av5VMk7DVNtyquADZXfCpCyNrtrR1Ru+s6fO3TaVRQ7oL\n",
       "vigcK/6I968Kmwaue7wOqGiPIb8AXi4cW6b+lga7CiyBVyhtp9u4FwiFzLDycRpcXYNlfOcE+N4h\n",
       "7MHHsxC2GMNmZ+gnT4M5628Doab6R5Cw+Rn2OIT7dOwRxM+bBLusxPI70xentsdiqVDCnAXbw3FO\n",
       "PmkLdVvsHev70B+s8Teg0D/oa4fiU3dAX/RJm7RJm7R/eAQd2lChChfWoUIVLiLsjWcRKjjmzsT3\n",
       "iw04ZxY9mIcKht1f6sY3n2hknzyYhwo+sgJh0Z0swYxDxSgW3RYTzDhUjGLRPTbBjEOFhM0PMeNQ\n",
       "IWEZhpmGCgmjcDHATEPF3K2o3RliFC4GmGmokEZGb32AmYYKCaN6SDDjUCFhm8MFMA4VErbWw05P\n",
       "3WybhwqGHT2/c65XW9ahQhUurEOFKlxYhwpVuLAOFapwYR0qzMLF/xQq/gC3kU9wc3TwGwAAAABJ\n",
       "RU5ErkJggg==\n",
       "\" style=\"display:inline;vertical-align:middle;\" /></a>"
      ],
      "text/plain": [
       " [INPUT](|0〉)  & [GATE](Z)  & [OUTPUT](|0〉)   \\\\ \n",
       "   [INPUT](|1〉)  & [GATE](Z)  & [OUTPUT](-|1〉)"
      ]
     },
     "execution_count": 23,
     "metadata": {},
     "output_type": "execute_result"
    }
   ],
   "source": [
    "Circuit(ExprTuple(Input(ket0), Gate(Z), Output(ket0)), \n",
    "        ExprTuple(Input(ket1), Gate(Z), Output(Neg(ket1))))\n",
    "# Z gate (both inputs)"
   ]
  },
  {
   "cell_type": "code",
   "execution_count": 24,
   "metadata": {},
   "outputs": [],
   "source": [
    "#Two Qubit Gates"
   ]
  },
  {
   "cell_type": "code",
   "execution_count": 25,
   "metadata": {},
   "outputs": [
    {
     "name": "stdout",
     "output_type": "stream",
     "text": [
      " [INPUT](|0〉)  & CONTROL MULTI_QUBIT_GATE {1, 2}  & [OUTPUT](|0〉)   \\\\ \n",
      "   [INPUT](|0〉)  & Z MULTI_QUBIT_GATE {1, 2}  & [OUTPUT](|0〉)   \\\\ \n",
      "   [INPUT](|0〉)  & CONTROL MULTI_QUBIT_GATE {3, 4}  & [OUTPUT](|0〉)   \\\\ \n",
      "   [INPUT](|1〉)  & Z MULTI_QUBIT_GATE {3, 4}  & [OUTPUT](|1〉)\n",
      "\\Qcircuit@C=1em @R=.7em{\n",
      " \\lstick{\\lvert 0 \\rangle} & \\ctrl{1} & \\rstick{\\lvert 0 \\rangle} \\qw   \\\\ \n",
      "   \\lstick{\\lvert 0 \\rangle} & \\gate{Z} & \\rstick{\\lvert 0 \\rangle} \\qw   \\\\ \n",
      "   \\lstick{\\lvert 0 \\rangle} & \\ctrl{1} & \\rstick{\\lvert 0 \\rangle} \\qw   \\\\ \n",
      "   \\lstick{\\lvert 1 \\rangle} & \\gate{Z} & \\rstick{\\lvert 1 \\rangle} \\qw \n",
      "}\n"
     ]
    },
    {
     "data": {
      "text/html": [
       "<a class=\"ProveItLink\" href=\"__pv_it/beb134db976d426313f8fab215e313365138979e0/expr.ipynb\"><img src=\"data:image/png;base64,iVBORw0KGgoAAAANSUhEUgAAAIcAAABzBAMAAABAygw2AAAAMFBMVEX///8QEBBUVFRERESYmJgi\n",
       "IiLu7u6qqqoyMjJmZmbMzMyIiIi6urp2dnbc3NwAAADV54WuAAAAAXRSTlMAQObYZgAAAAlwSFlz\n",
       "AAAOxAAADsQBlSsOGwAAAvtJREFUWMPtmL1v00AYxh9I4nzHSF0QA41gApZAF9QBwsBMYCgbMkiV\n",
       "WBBZGaoUGNhIFkQHVCwk5kaIBRjof9BIDAwF1VL/AD7UpIKCwt29F4KQz767pkgVfiUriZ33F9/r\n",
       "9+6ePAggogDTqMhXnx0f6G3KN4WUV+l1liDl9WVkOzaQj68C3CHIA8wHaFhAck3nGjICkm6gXMN7\n",
       "C8hF4B3KTQ5JVZEdYNMCcgZoeZUah7gdlLaRC8wh34C1Jh5yyG0G2UK2p/jyo6lAAXE4pI4FDvnU\n",
       "Q2EHqspmhsPvCkjlJ7DS5ZUlCPv4JByyMRz2oyA95Ff5cHoosTt5RtfcYWx8Hg2HQda6KFSpsNlt\n",
       "8KGFRZtleerCtpq8muwR15AegBfZcDiYAS55/LmyZjuE/CL44zYsLC4AS+Adxtr+Kq77ovFC4+mU\n",
       "r4Jkms4R8F5nkFtvTkJMgdBw1c3mrL/wRW/IpUBMRlOICD7/R5BztpBU8BviLNpCbo5XtmLdFvKS\n",
       "Ha/lTcEUUpQPraYz5V1MIBLIpCFu2FK0u1twsdcQtSqIgeipghiInirQgMSrgniIhiqgtANf7h1r\n",
       "N8IhGqqA0thm61z2wiEaqoDSHgO5o4rhaKgCSqsC5/1wiI4qcGUb5H8oCqujCkZpG/UoSJwqoBPp\n",
       "nb/Pm6gC+dutjrJPNFQBpZW+0vxy7VQBpa2w8x0FREMViLTKYXYzdQVEQxWItPk5dslTQDRUgUi7\n",
       "G6BwP3IpiFYFPC3fnzk7vRUJiVYFmotStCrQhESrghiInir411vGHkMwiW00iV1F4hUkXsH+9goM\n",
       "/uarVYGB4ZB4BYlXkHgFCSQxHPaT4YDnnqXhUJiDlBbOibYHK8PhxtIAUloAbz1YGQ4oMghJC4LY\n",
       "GA4CQtKCIDaGg4CQtCCIheEgIQtjiIXhICGZPyDmhoOECGkhIeaGg4QIaSEhFoYDQYS0kBALw4Eg\n",
       "QloQxMZwIMjmuLA2hgNBSFocn77StTIcDp7un0oMh//ecNDeAX8B7zaGUrOl2RAAAAAASUVORK5C\n",
       "YII=\n",
       "\" style=\"display:inline;vertical-align:middle;\" /></a>"
      ],
      "text/plain": [
       " [INPUT](|0〉)  & CONTROL MULTI_QUBIT_GATE {1, 2}  & [OUTPUT](|0〉)   \\\\ \n",
       "   [INPUT](|0〉)  & Z MULTI_QUBIT_GATE {1, 2}  & [OUTPUT](|0〉)   \\\\ \n",
       "   [INPUT](|0〉)  & CONTROL MULTI_QUBIT_GATE {3, 4}  & [OUTPUT](|0〉)   \\\\ \n",
       "   [INPUT](|1〉)  & Z MULTI_QUBIT_GATE {3, 4}  & [OUTPUT](|1〉)"
      ]
     },
     "execution_count": 25,
     "metadata": {},
     "output_type": "execute_result"
    }
   ],
   "source": [
    "Circuit(ExprTuple(Input(ket0), MultiQubitGate(CONTROL, Set(one, two)), Output(ket0)), \n",
    "        ExprTuple(Input(ket0), MultiQubitGate(Z, Set(one, two)), \n",
    "                  Output(ket0)), \n",
    "        ExprTuple(Input(ket0), MultiQubitGate(CONTROL, Set(three, four)), Output(ket0)), \n",
    "        ExprTuple(Input(ket1), MultiQubitGate(Z, Set(three, four)), \n",
    "                  Output(ket1))) \n",
    "#CZ gate - 0 qubit control for 1 and 0 qubit inputs"
   ]
  },
  {
   "cell_type": "code",
   "execution_count": 26,
   "metadata": {},
   "outputs": [
    {
     "name": "stdout",
     "output_type": "stream",
     "text": [
      " [INPUT](|1〉)  & CONTROL MULTI_QUBIT_GATE {1, 2}  & [OUTPUT](|1〉)   \\\\ \n",
      "   [INPUT](|0〉)  & Z MULTI_QUBIT_GATE {1, 2}  & [OUTPUT](|0〉)   \\\\ \n",
      "   [INPUT](|1〉)  & CONTROL MULTI_QUBIT_GATE {3, 4}  & [OUTPUT](|1〉)   \\\\ \n",
      "   [INPUT](|1〉)  & Z MULTI_QUBIT_GATE {3, 4}  & [OUTPUT](-|1〉)\n",
      "\\Qcircuit@C=1em @R=.7em{\n",
      " \\lstick{\\lvert 1 \\rangle} & \\ctrl{1} & \\rstick{\\lvert 1 \\rangle} \\qw   \\\\ \n",
      "   \\lstick{\\lvert 0 \\rangle} & \\gate{Z} & \\rstick{\\lvert 0 \\rangle} \\qw   \\\\ \n",
      "   \\lstick{\\lvert 1 \\rangle} & \\ctrl{1} & \\rstick{\\lvert 1 \\rangle} \\qw   \\\\ \n",
      "   \\lstick{\\lvert 1 \\rangle} & \\gate{Z} & \\rstick{-\\lvert 1 \\rangle} \\qw \n",
      "}\n"
     ]
    },
    {
     "data": {
      "text/html": [
       "<a class=\"ProveItLink\" href=\"__pv_it/bcb04ab7d57c247c25532347eaeb1ad6d877c8e10/expr.ipynb\"><img src=\"data:image/png;base64,iVBORw0KGgoAAAANSUhEUgAAAJcAAABzBAMAAABnZI3eAAAAMFBMVEX///+YmJiqqqoQEBBEREQy\n",
       "MjJmZmZUVFTu7u4iIiLMzMyIiIi6urp2dnbc3NwAAACIMV78AAAAAXRSTlMAQObYZgAAAAlwSFlz\n",
       "AAAOxAAADsQBlSsOGwAAA1JJREFUaN7tmb9rE2EYx5/ENF5+XsDJyUxuJQ51cbABK4KDFhXcmiB0\n",
       "EEQ7iIIuB1KkgzTo4I9BbhOnxkVBB/sfNBS3Kr2hu7ZCTY0lvrm7lHvvnud9730JqeA9y9EXnk/f\n",
       "3Pvee598Aw64lQfVKvtXOzD21btkbFVYadW7XgzB3lqQburA8i8ATnIw417DAmhpwB7PdwFyoZl9\n",
       "ZrB1nZkVGKxUjcK2dGHlehQ24WjCYC4KS3eIpptTjhg2GYVRK5Dr93+LYTkEdguHbfb7e2JYdjUK\n",
       "e+P9bfal9YOH5ReisEl8Zg3WbQlnFrjbB7A53Y8Z2AdDWHC7qC3AVnQBghuZqztTthi2zsHuTj9v\n",
       "c48YVya9aY+e23vI7Sn/COIe/rgwt4LnzRB2SReWcSIwY1YXthg9aQsVXdi7wNhHf7KgCiv4i1xX\n",
       "OWpMGGElsMOCmdiROJopmTBuGG1BEpiaBUlghAWVNm5jFhQD9u29E7IguAJLDvIOlsMmqsbrkAWl\n",
       "WlCqIxbktR/5ef1+o4XDjgN8CVlQZgHSXcSCvPa1ChjPLBx2AaBm8RZkNqG4g1iQ136DvRjPEh9z\n",
       "l/2vKm9Bywy2jViQ187e/ZdtHGbsuhPnLOh7B/I9xIJMfxtl/xALUN4HWGnzFjSA7SMWNGzfrIhg\n",
       "Hd6CljtQ7GEW5A2keuHxoQUZDLbW5i2ILUB6B7Egfy61JrnP2D2rVXkLytQh1UUsyGsv/vKeXww2\n",
       "A3DC4i0odQqys4gFee0rbLxJwI4BzIct6Ck8shELctvLp9nkKgQsVzXOhC3oyacHgFiQ277EvtDk\n",
       "LAJmbHywY1qQ237Vgfw14REUz4IG7dm9mfPT20JYPAuKeTjGs6CYsHgWJIGpWdBhv+rGBINR6kFS\n",
       "Y6kkC0qyoCQLCmZB6vGNIAtSD5aSLCjJgpIsKIElwdJ/FyxhaqUdLGFqRSuVAmyoVrRSxYcdqBWt\n",
       "VJJgCVMrWqkkwRKmVrRSSYIlTK1opZIES5ha0UolCZYwtaKVShIsYWol+HlNHCwtvhzUK06t6J/X\n",
       "JMFSZGbsrtNKJQmWMLWilUoSLGFqRSuVJFjC1IpWKkmwhKmVdrCEqZV2sISplXawhKmVdrCEqZV2\n",
       "sKSmVv9wsKT8Rv8L2ExsX/M3floAAAAASUVORK5CYII=\n",
       "\" style=\"display:inline;vertical-align:middle;\" /></a>"
      ],
      "text/plain": [
       " [INPUT](|1〉)  & CONTROL MULTI_QUBIT_GATE {1, 2}  & [OUTPUT](|1〉)   \\\\ \n",
       "   [INPUT](|0〉)  & Z MULTI_QUBIT_GATE {1, 2}  & [OUTPUT](|0〉)   \\\\ \n",
       "   [INPUT](|1〉)  & CONTROL MULTI_QUBIT_GATE {3, 4}  & [OUTPUT](|1〉)   \\\\ \n",
       "   [INPUT](|1〉)  & Z MULTI_QUBIT_GATE {3, 4}  & [OUTPUT](-|1〉)"
      ]
     },
     "execution_count": 26,
     "metadata": {},
     "output_type": "execute_result"
    }
   ],
   "source": [
    "Circuit(ExprTuple(Input(ket1), MultiQubitGate(CONTROL, Set(one, two)), Output(ket1)), \n",
    "        ExprTuple(Input(ket0), MultiQubitGate(Z, Set(one, two)), \n",
    "                  Output(ket0)), \n",
    "        ExprTuple(Input(ket1), MultiQubitGate(CONTROL, Set(three, four)), Output(ket1)), \n",
    "        ExprTuple(Input(ket1), MultiQubitGate(Z, Set(three, four)), \n",
    "                  Output(Neg(ket1)))) \n",
    "#CZ gate - 1 qubit control for 1 and 0 qubit inputs"
   ]
  },
  {
   "cell_type": "code",
   "execution_count": 27,
   "metadata": {},
   "outputs": [
    {
     "name": "stdout",
     "output_type": "stream",
     "text": [
      " [INPUT](|0〉)  & CONTROL MULTI_QUBIT_GATE {1, 2}  & [OUTPUT](|0〉)   \\\\ \n",
      "   [INPUT](|0〉)  & X MULTI_QUBIT_GATE {1, 2}  & [OUTPUT](|0〉)   \\\\ \n",
      "   [INPUT](|0〉)  & CONTROL MULTI_QUBIT_GATE {3, 4}  & [OUTPUT](|0〉)   \\\\ \n",
      "   [INPUT](|1〉)  & X MULTI_QUBIT_GATE {3, 4}  & [OUTPUT](|1〉)\n",
      "\\Qcircuit@C=1em @R=.7em{\n",
      " \\lstick{\\lvert 0 \\rangle} & \\ctrl{1} & \\rstick{\\lvert 0 \\rangle} \\qw   \\\\ \n",
      "   \\lstick{\\lvert 0 \\rangle} & \\gate{X} & \\rstick{\\lvert 0 \\rangle} \\qw   \\\\ \n",
      "   \\lstick{\\lvert 0 \\rangle} & \\ctrl{1} & \\rstick{\\lvert 0 \\rangle} \\qw   \\\\ \n",
      "   \\lstick{\\lvert 1 \\rangle} & \\gate{X} & \\rstick{\\lvert 1 \\rangle} \\qw \n",
      "}\n"
     ]
    },
    {
     "data": {
      "text/html": [
       "<a class=\"ProveItLink\" href=\"__pv_it/f1b7e3dc2cd482b03146da903fcae150935b4f100/expr.ipynb\"><img src=\"data:image/png;base64,iVBORw0KGgoAAAANSUhEUgAAAIkAAABzBAMAAABeAzyFAAAAMFBMVEX///8QEBBUVFRERESYmJgi\n",
       "IiLu7u6qqqoyMjJmZmbMzMyIiIi6urp2dnbc3NwAAADV54WuAAAAAXRSTlMAQObYZgAAAAlwSFlz\n",
       "AAAOxAAADsQBlSsOGwAAAvVJREFUWMPt2L9rk0EcBvDH/HiTvGkSR3Ex4KQOpjrZodbBubGDbva1\n",
       "ILiILzg5lHZzaztJBykvgnODuKiDGd0acBCswgv9A0zUpkipr3f3vRqR3Ju7MxWUOwhpydtP3/fe\n",
       "y70PD2KI4cN4VOV7xF4f6MdsZKxU2vQ+RUplewOFNSvl44sYD0h5iNsxmjZKMfRuIi+UXBOVBt7Z\n",
       "KFeBt6iEXMnWUehjx0a5ACwF1QZXamuY2EMxtlC+AVshVrhyjylfUegoDi5dm1YpHldmsMiVTx34\n",
       "+1BO73ySRAqlegBstvj0ksJ+faz4j0mSNNOUDkptfkUdTLBzeUKfJRqje3hFTNlqwa/T7Bb2wK9u\n",
       "2Ciyv+qnzO5SyKeU3ekGcuy4FfMrwkVgNuC3l6264ygtg99109nFFWAdfKmxb8AN3IrEChx+p3tT\n",
       "yvWSD72T4MueKXdfnYX4NgwfXfWq87afRWKNyJ1BfDONFTH4dnCoTFsr2fin4i1bK3cGe115xlp5\n",
       "zl4v5WnBWCnLBdDQ2gG6GMdwylEotaF7k7EylnMyUdSZYZSilxlGKXqZQUcZnRk0FI3MIJTy5V7H\n",
       "mz8RDlc0MgOdS4Y9qu7HinPRyAyk+F9QrauuSCMzyHlZjRdU86KTGaQy+6iuUnQyg1SOfQ5SlVGZ\n",
       "QR68j98/MckM8lwyu+r1opEZpLJxvq1UNDIDKaVos6FUNDIDKe+R/65UNDJDTR6aO1AqGpmBK94l\n",
       "fnOC1J0hPTMwxZ/sRXiTzKUq6ZlBd5dKzwy6SnpmGKXoZYa//yQ5cmUsT1g3/ny4nsH1DP9Lz2DS\n",
       "EKgzg0lb4XoG1zO4nsEprq3459sKPA1s2wr/OmTy8M6sBrBrKxbW+5DJA3gdwK6tQJkplDxIsWor\n",
       "hELJgxSrtkIolDxIsWkrpLI4UGzaCqnkf1Es2gqpiOQhFYu2QioieUjFpq0gRSQPqdi0FaSI5EGK\n",
       "VVtBys5gdq3aClIoeZw+Ndeyaysyk7vnXFvh2grTZ+MPIiLWuZoPPGgAAAAASUVORK5CYII=\n",
       "\" style=\"display:inline;vertical-align:middle;\" /></a>"
      ],
      "text/plain": [
       " [INPUT](|0〉)  & CONTROL MULTI_QUBIT_GATE {1, 2}  & [OUTPUT](|0〉)   \\\\ \n",
       "   [INPUT](|0〉)  & X MULTI_QUBIT_GATE {1, 2}  & [OUTPUT](|0〉)   \\\\ \n",
       "   [INPUT](|0〉)  & CONTROL MULTI_QUBIT_GATE {3, 4}  & [OUTPUT](|0〉)   \\\\ \n",
       "   [INPUT](|1〉)  & X MULTI_QUBIT_GATE {3, 4}  & [OUTPUT](|1〉)"
      ]
     },
     "execution_count": 27,
     "metadata": {},
     "output_type": "execute_result"
    }
   ],
   "source": [
    "Circuit(ExprTuple(Input(ket0), MultiQubitGate(CONTROL, Set(one, two)), Output(ket0)), \n",
    "        ExprTuple(Input(ket0), MultiQubitGate(X, Set(one, two)), Output(ket0)), \n",
    "        ExprTuple(Input(ket0), MultiQubitGate(CONTROL, Set(three, four)), Output(ket0)), \n",
    "        ExprTuple(Input(ket1), MultiQubitGate(X, Set(three, four)), Output(ket1))) \n",
    "#CX gate - 0 qubit control for 1 and 0 qubit inputs"
   ]
  },
  {
   "cell_type": "code",
   "execution_count": 28,
   "metadata": {},
   "outputs": [
    {
     "name": "stdout",
     "output_type": "stream",
     "text": [
      " [INPUT](|1〉)  & CONTROL MULTI_QUBIT_GATE {1, 2}  & [OUTPUT](|1〉)   \\\\ \n",
      "   [INPUT](|0〉)  & X MULTI_QUBIT_GATE {1, 2}  & [OUTPUT](|1〉)   \\\\ \n",
      "   [INPUT](|1〉)  & CONTROL MULTI_QUBIT_GATE {3, 4}  & [OUTPUT](|1〉)   \\\\ \n",
      "   [INPUT](|1〉)  & X MULTI_QUBIT_GATE {3, 4}  & [OUTPUT](|0〉)\n",
      "\\Qcircuit@C=1em @R=.7em{\n",
      " \\lstick{\\lvert 1 \\rangle} & \\ctrl{1} & \\rstick{\\lvert 1 \\rangle} \\qw   \\\\ \n",
      "   \\lstick{\\lvert 0 \\rangle} & \\gate{X} & \\rstick{\\lvert 1 \\rangle} \\qw   \\\\ \n",
      "   \\lstick{\\lvert 1 \\rangle} & \\ctrl{1} & \\rstick{\\lvert 1 \\rangle} \\qw   \\\\ \n",
      "   \\lstick{\\lvert 1 \\rangle} & \\gate{X} & \\rstick{\\lvert 0 \\rangle} \\qw \n",
      "}\n"
     ]
    },
    {
     "data": {
      "text/html": [
       "<a class=\"ProveItLink\" href=\"__pv_it/dcd9a629b2c236e57cb24135b2ecb536f2d7a6f10/expr.ipynb\"><img src=\"data:image/png;base64,iVBORw0KGgoAAAANSUhEUgAAAIkAAABzBAMAAABeAzyFAAAAMFBMVEX///+YmJiqqqoQEBBEREQy\n",
       "MjJmZmZUVFTu7u4iIiLMzMyIiIi6urp2dnbc3NwAAACIMV78AAAAAXRSTlMAQObYZgAAAAlwSFlz\n",
       "AAAOxAAADsQBlSsOGwAAAv5JREFUWMPtmb1v00AYh9+EfDhOk1RiYsIDYqvKwsKCpSKQOpSKP6Dt\n",
       "UokBVRkQAwxYQqhiQI1gaCfqDTE1LCDBQBbmWhUTBclDd0KCIFVUzPnuUpfq9d35SJFAd5LlSHae\n",
       "vLk73z35BUKgzYbMrc7PPjk+sZcFPzOl1mHnWU554UF+SYtibwCcpxTrzqIH0NKhrC4PACq8lneE\n",
       "sqNVS5VQak5C2dOm1N2EUgx1KbCQUPJBys2lp3MSylRCSe3ezSjyxZTKEcqtlE+MoqglppQ6CeU5\n",
       "uxYptO7vFLuZUKbwWorkXQNxLaRLDykL2t+IDO+IEo+6Zu/uJb0bz0B8pPuzkpHeoZTbl9fb9GnA\n",
       "Wzd91pVn9u/ROcJXBvpkZqbQFi8HI8qcNqUQHlKseW3Kw2Stq05qU16S4w0vCzJTqnwCuEorQBfG\n",
       "0QzlJCgNdG3KTBlLTVko6c4go6g5g4xyzBlquyuYM6hQEmeAG/AoRDY1BcoRZ8i1oOYizkAp1ev9\n",
       "wNq86KTUkjhDoQn5AeIMrJZyD+BcCAIKc4bGEkz0EGdgFPsb1JsgojBnWCOUr4gz8H5ZDFdBTKHO\n",
       "8CUAe4g4A6ecvdmUUCojygHiDJxy6ocnoVBnWAtgYog5A795CMevYM5AejffQ5yB11LeB0kt1BkK\n",
       "LuQGiDNwysr9joRCnSF3AUrziDMwSsnfciUU5gxP4IGPOAOjfITKTwmFOcPjt3cBcYYGvzV3kEpR\n",
       "cIaYYl2NB8cTrgxiZyAUe6bvw/toXUgRO4PqKiV2BlWK2BlkFDVn+Ps7yYlTxrLDmvbnzeQMJmf4\n",
       "X3IGjYQAyRk00gqTM5icweQMhmLSin83rUgxDxXK51ehxDwUKEXHeiYxD4W04gzAB4l5KKQV1wCm\n",
       "PbF5KKQV3wG2HbF5yNMKK6ZMis1DnlbUya/brbbYPORpBaUEmHlkSSssQtlui//hUEgrSL9MO2Lz\n",
       "UEgrrpBu88TmoZBWnAZYlpiHQlpRcaxLEvNQSCus3de+SStMWpF1b/wFBwy89BjpsqUAAAAASUVO\n",
       "RK5CYII=\n",
       "\" style=\"display:inline;vertical-align:middle;\" /></a>"
      ],
      "text/plain": [
       " [INPUT](|1〉)  & CONTROL MULTI_QUBIT_GATE {1, 2}  & [OUTPUT](|1〉)   \\\\ \n",
       "   [INPUT](|0〉)  & X MULTI_QUBIT_GATE {1, 2}  & [OUTPUT](|1〉)   \\\\ \n",
       "   [INPUT](|1〉)  & CONTROL MULTI_QUBIT_GATE {3, 4}  & [OUTPUT](|1〉)   \\\\ \n",
       "   [INPUT](|1〉)  & X MULTI_QUBIT_GATE {3, 4}  & [OUTPUT](|0〉)"
      ]
     },
     "execution_count": 28,
     "metadata": {},
     "output_type": "execute_result"
    }
   ],
   "source": [
    "Circuit(ExprTuple(Input(ket1), MultiQubitGate(CONTROL, Set(one, two)), Output(ket1)), \n",
    "        ExprTuple(Input(ket0), MultiQubitGate(X, Set(one, two)), Output(ket1)), \n",
    "        ExprTuple(Input(ket1), MultiQubitGate(CONTROL, Set(three, four)), Output(ket1)), \n",
    "        ExprTuple(Input(ket1), MultiQubitGate(X, Set(three, four)), Output(ket0))) \n",
    "#CX gate - 1 qubit control for 1 and 0 qubit inputs"
   ]
  },
  {
   "cell_type": "code",
   "execution_count": 29,
   "metadata": {},
   "outputs": [
    {
     "name": "stdout",
     "output_type": "stream",
     "text": [
      " [INPUT](0)  & CLASSICAL\\_CONTROL MULTI_QUBIT_GATE {1, 2} & SPACE   \\\\ \n",
      "   [INPUT](|0〉)  & Z MULTI_QUBIT_GATE {1, 2}  & [OUTPUT](|0〉)   \\\\ \n",
      "   [INPUT](0)  & CLASSICAL\\_CONTROL MULTI_QUBIT_GATE {3, 4} & SPACE   \\\\ \n",
      "   [INPUT](|1〉)  & Z MULTI_QUBIT_GATE {3, 4}  & [OUTPUT](|1〉)\n",
      "\\Qcircuit@C=1em @R=.7em{\n",
      " \\lstick{0} & \\control \\cw \\cwx[1] &   \\\\ \n",
      "   \\lstick{\\lvert 0 \\rangle} & \\gate{Z} & \\rstick{\\lvert 0 \\rangle} \\qw   \\\\ \n",
      "   \\lstick{0} & \\control \\cw \\cwx[1] &   \\\\ \n",
      "   \\lstick{\\lvert 1 \\rangle} & \\gate{Z} & \\rstick{\\lvert 1 \\rangle} \\qw \n",
      "}\n"
     ]
    },
    {
     "data": {
      "text/html": [
       "<a class=\"ProveItLink\" href=\"__pv_it/790216c2576c4a957940c8bbcb4edd5d1e0044200/expr.ipynb\"><img src=\"data:image/png;base64,iVBORw0KGgoAAAANSUhEUgAAAIcAAABwBAMAAADGXn6YAAAAMFBMVEX///8QEBDMzMy6urpUVFRE\n",
       "RESYmJgiIiLu7u6qqqoyMjLc3NxmZmaIiIh2dnYAAABjjC/7AAAAAXRSTlMAQObYZgAAAAlwSFlz\n",
       "AAAOxAAADsQBlSsOGwAAAupJREFUWMPtmE9rE0EYxh8Tk2z+i+BFD8lB8Nh+gwbRm0IUe9GD8eTR\n",
       "CB4qXlYQCh40H0CSCnqQHpJLzwY8FOsliHhSDCwePNTWPzQtNMaZeSdG2plldtZApTshLMmGX2be\n",
       "nX0f9gfQKKy/QejxAoudsIxkHYVqWEiigvR2WEixi/iO+tTqCdN1PmaQLcKN9o3vhpCXfcSGyjMb\n",
       "o9EgAOSX8kybTcU1XE4f8WFYCCtsekdXE9PlJKpIqi9x0bywyWPILakhq6Wy6Ua5i/vq3xbZy3Q8\n",
       "+ngWoSH6kkeQCPKfQPY0hU3LOeg/TQMi8yAWGJKVR95BPNnaykEhhVk6XiYID/N01wby9UMHTwgi\n",
       "wrxuAck0nHtICQiF+RcN5Mi3Z+fadTXkJvAZhQaHUJivaCBzNTi3XTXkCtBys1UOoTDPdNSQ10Dm\n",
       "lGY5u+w/GljmEArzdF8NqQDXy2qIsysm2uQQGeZ1NaSM3A9NYbMsvWd6vLLeOMxf6a7ORs0P0kdu\n",
       "li+Hwvz0vttOhuNw7/eb4+UwyFwPsQoVlod5UzOTVle7T1hNWg1eTW8c5stqSPwn3V8qyDxwy+XX\n",
       "1ZNhnq2qITPs+64GcgNYA99hngxzvvEUkOxJNpmaBpJqOMfB97onwzyl3rGLC+yUq4E46+/KYm/I\n",
       "ViBuRgXkaQex576tgN//Y8g1JSQ3mL9a2vKFJDp/IM6SbVN6OOls+Zot5D17v5WTCtxj87KhVg9U\n",
       "ZEwZgn8Ro9GIxnTGoREO5q5ALxxS5o+0vsIhiCsI/Zg/ZeEQQH34CgfTwvoIB3NX4CMcAvT5SDhE\n",
       "kAgSCYcDIxxwxrUUDrEFSOHgXGi7sBIOD9a2IYUD8MmFlXBAnkFIOBDERjgICAkHgtgIBwEh4UAQ\n",
       "C+EgIc0JxEI4SEjqL0hw4SAhQjhISHDhICFCOEiIhXAgiBAOEmIhHAgihANBbIQDQVYmhbURDgQh\n",
       "4XC+dKdnJRyOXhpcjITDoRcOxgn4G5kX4fmYx4pDAAAAAElFTkSuQmCC\n",
       "\" style=\"display:inline;vertical-align:middle;\" /></a>"
      ],
      "text/plain": [
       " [INPUT](0)  & CLASSICAL\\_CONTROL MULTI_QUBIT_GATE {1, 2} & SPACE   \\\\ \n",
       "   [INPUT](|0〉)  & Z MULTI_QUBIT_GATE {1, 2}  & [OUTPUT](|0〉)   \\\\ \n",
       "   [INPUT](0)  & CLASSICAL\\_CONTROL MULTI_QUBIT_GATE {3, 4} & SPACE   \\\\ \n",
       "   [INPUT](|1〉)  & Z MULTI_QUBIT_GATE {3, 4}  & [OUTPUT](|1〉)"
      ]
     },
     "execution_count": 29,
     "metadata": {},
     "output_type": "execute_result"
    }
   ],
   "source": [
    "Circuit(ExprTuple(Input(zero), MultiQubitGate(CLASSICAL_CONTROL, Set(one, two)), SPACE), \n",
    "        ExprTuple(Input(ket0), MultiQubitGate(Z, Set(one, two)), \n",
    "                  Output(ket0)), \n",
    "        ExprTuple(Input(zero), MultiQubitGate(CLASSICAL_CONTROL, Set(three, four)), SPACE), \n",
    "        ExprTuple(Input(ket1), MultiQubitGate(Z, Set(three, four)), \n",
    "                  Output(ket1))) \n",
    "#cZ gate - 0 classical bit control for 1 and 0 qubit inputs"
   ]
  },
  {
   "cell_type": "code",
   "execution_count": 30,
   "metadata": {},
   "outputs": [
    {
     "name": "stdout",
     "output_type": "stream",
     "text": [
      " [INPUT](1)  & CLASSICAL\\_CONTROL MULTI_QUBIT_GATE {1, 2} & SPACE   \\\\ \n",
      "   [INPUT](|0〉)  & Z MULTI_QUBIT_GATE {1, 2}  & [OUTPUT](|0〉)   \\\\ \n",
      "   [INPUT](1)  & CLASSICAL\\_CONTROL MULTI_QUBIT_GATE {3, 4} & SPACE   \\\\ \n",
      "   [INPUT](|1〉)  & Z MULTI_QUBIT_GATE {3, 4}  & [OUTPUT](-|1〉)\n",
      "\\Qcircuit@C=1em @R=.7em{\n",
      " \\lstick{1} & \\control \\cw \\cwx[1] &   \\\\ \n",
      "   \\lstick{\\lvert 0 \\rangle} & \\gate{Z} & \\rstick{\\lvert 0 \\rangle} \\qw   \\\\ \n",
      "   \\lstick{1} & \\control \\cw \\cwx[1] &   \\\\ \n",
      "   \\lstick{\\lvert 1 \\rangle} & \\gate{Z} & \\rstick{-\\lvert 1 \\rangle} \\qw \n",
      "}\n"
     ]
    },
    {
     "data": {
      "text/html": [
       "<a class=\"ProveItLink\" href=\"__pv_it/1aad7f466ac557544502fe6a3d7db982063506cf0/expr.ipynb\"><img src=\"data:image/png;base64,iVBORw0KGgoAAAANSUhEUgAAAJcAAABwBAMAAADh8P9wAAAAMFBMVEX///+YmJiqqqq6urp2dnbc\n",
       "3NwQEBBERESIiIgyMjJmZmZUVFTu7u4iIiLMzMwAAAACXV1pAAAAAXRSTlMAQObYZgAAAAlwSFlz\n",
       "AAAOxAAADsQBlSsOGwAAAvZJREFUaN7tmL+LE0EUx7/5ZX642aSyE1NcZZP8BxcugtfddldqI2Jj\n",
       "0ughgsZOFPQQ1MIiQbG44iCdoiBbiHDIYRC08ZT0IvdDkeNMjJPsrnmbmQnMZu8u4falWDKBT97s\n",
       "vHmz+wHs+GHCr9Be1fyDAfenD7Z60fAMy3S5+OtbZgvdbsc3WI2lZk4ETHDP/Jtmxs8FyKyWW/7B\n",
       "2Ec1XpS/VH2DSSOABbCjChtqRltj5iT/dhAw+xzTlWEx+0q7Xcm6xFuqsGjBut5ww6LzzxGue4Gd\n",
       "uWPgtBv2AOsGmh5gyZz2CWkXLNREtII5CezY7yeva00x7CRwFtEchcUbCLexKIHNZqF9NsWw60De\n",
       "jFUoLFNHZAdJQwx7CiQvSKa5x/4rh4cU9oHBthEuimEN4GZLDNP2+onPUNi5IvRd8CuQscso9VOy\n",
       "ALFfwGaVroAFY8PPZKu5kB0FKyJVoNMsIsIy+85tb2sgtDs8vuVMk8Fmq9Ab7gUI74BO3ZVZvi6t\n",
       "M3bP8jl6t1lpVBBqgy4KhUX+WPtXBFsCTpm0DljRnkdqGbRcKGyTjdclsBPACmiFsu30Ee9arkIm\n",
       "sNglllxWAkvntMuge4fB3t5+A9cWI7D1DfaTKYFp83dbrpqyW5Br8xPYIwP645EtiPYbB3ZFCEt1\n",
       "lq6Vt0fC4gYH05a9Nsc1vtMmsl5ht8jYPTtZ5TMgYTf6ylQcdQcEg5+PB0EEMeFx1MXSOC5oONLj\n",
       "qIh9lSST44J8VV77KuMO3QUFYimABbBALE2VWBIJJs9iSSSYStZDi7pYojB9w3rHLNkPLc0xYO9X\n",
       "2tbbb8lu2cpiiWaWYLDee7kDUxZLw7CeMXBgymJpGNZzGQ5MWSxxsJkBTFkscbA0gamKJQ6WKgxg\n",
       "qmJp7Wsvvg1gemMAUxVLXGbsrv+HqYolDsbqwYEpiyUOtjhYAGWxxMHm+rD+Q4uyWCKw41c7L/u1\n",
       "5VksiQSTZ7EkEkyexZJIMHkWSyLB5FksqQmmCRZLyif6P08Zxj32NGczAAAAAElFTkSuQmCC\n",
       "\" style=\"display:inline;vertical-align:middle;\" /></a>"
      ],
      "text/plain": [
       " [INPUT](1)  & CLASSICAL\\_CONTROL MULTI_QUBIT_GATE {1, 2} & SPACE   \\\\ \n",
       "   [INPUT](|0〉)  & Z MULTI_QUBIT_GATE {1, 2}  & [OUTPUT](|0〉)   \\\\ \n",
       "   [INPUT](1)  & CLASSICAL\\_CONTROL MULTI_QUBIT_GATE {3, 4} & SPACE   \\\\ \n",
       "   [INPUT](|1〉)  & Z MULTI_QUBIT_GATE {3, 4}  & [OUTPUT](-|1〉)"
      ]
     },
     "execution_count": 30,
     "metadata": {},
     "output_type": "execute_result"
    }
   ],
   "source": [
    "Circuit(ExprTuple(Input(one), MultiQubitGate(CLASSICAL_CONTROL, Set(one, two)), SPACE), \n",
    "        ExprTuple(Input(ket0), MultiQubitGate(Z, Set(one, two)), \n",
    "                  Output(ket0)), \n",
    "        ExprTuple(Input(one), MultiQubitGate(CLASSICAL_CONTROL, Set(three, four)), SPACE), \n",
    "        ExprTuple(Input(ket1), MultiQubitGate(Z, Set(three, four)), \n",
    "                  Output(Neg(ket1))))\n",
    "#cZ gate - 1 classical bit control for 1 and 0 qubit inputs"
   ]
  },
  {
   "cell_type": "code",
   "execution_count": 31,
   "metadata": {},
   "outputs": [
    {
     "name": "stdout",
     "output_type": "stream",
     "text": [
      " [INPUT](0)  & CLASSICAL\\_CONTROL MULTI_QUBIT_GATE {1, 2} & SPACE   \\\\ \n",
      "   [INPUT](|0〉)  & X MULTI_QUBIT_GATE {1, 2}  & [OUTPUT](|0〉)   \\\\ \n",
      "   [INPUT](0)  & CLASSICAL\\_CONTROL MULTI_QUBIT_GATE {3, 4} & SPACE   \\\\ \n",
      "   [INPUT](|1〉)  & X MULTI_QUBIT_GATE {3, 4}  & [OUTPUT](|1〉)\n",
      "\\Qcircuit@C=1em @R=.7em{\n",
      " \\lstick{0} & \\control \\cw \\cwx[1] &   \\\\ \n",
      "   \\lstick{\\lvert 0 \\rangle} & \\gate{X} & \\rstick{\\lvert 0 \\rangle} \\qw   \\\\ \n",
      "   \\lstick{0} & \\control \\cw \\cwx[1] &   \\\\ \n",
      "   \\lstick{\\lvert 1 \\rangle} & \\gate{X} & \\rstick{\\lvert 1 \\rangle} \\qw \n",
      "}\n"
     ]
    },
    {
     "data": {
      "text/html": [
       "<a class=\"ProveItLink\" href=\"__pv_it/c5269b78350467205f60927129ece85cd1d945c90/expr.ipynb\"><img src=\"data:image/png;base64,iVBORw0KGgoAAAANSUhEUgAAAIkAAABwBAMAAADYl04rAAAAMFBMVEX///8QEBDMzMy6urpUVFRE\n",
       "RESYmJgiIiLu7u6qqqoyMjLc3NxmZmaIiIh2dnYAAABjjC/7AAAAAXRSTlMAQObYZgAAAAlwSFlz\n",
       "AAAOxAAADsQBlSsOGwAAAuhJREFUWMPtmD1oFEEYhl8397P3L5Y2XiFY5mqbHIKd4ka0imCsLL1A\n",
       "CsUiKwQEC7ONnSRpJUW2SW3ARpLmELFSPFwsLCKJqEkwl3NmvzlPLjPLzqwHkewcxx7M8ezMt3Pf\n",
       "yz0AjerWJpKPF3jsJ4bkWqg6iSnZJgp7iSm1dYzty6fKM1NxKQuM8jP81Bsec71ePSblZQdWVzpT\n",
       "ZaCWBuVQOlNklLgVW+hgrJuYwqpb2JfXRWNHWQc5xR178aubO43ysnzqYOZb7APzAI8Ud9xmr7jj\n",
       "6YdLSE5Rj5SSUv47Sm2oP5jBakcWNWqKSERLn1ISV95RAtHs6tqUaoOu14nCk76wbkT5+t7Hc6KE\n",
       "Sd8yoRQ9+yHyIYWS/oucUrm907Hnznpyyl3gM6oep1DSrynWkmEB88xXrOUGsOSWHE6hpC/6cor1\n",
       "A6WmakcHwISHFU6hpC90FHVZ9edVdbE5ZRqLnCKSvqWg3HvdVFFKLNrH27y8QT/pXykop767kZQO\n",
       "yg2+I0r68xjOafHlLoZntvs7YpSJNqwmVZcn/aJiLZld9XlhdVnyeEmDftKvKCib1xpKyk1WNpc/\n",
       "3kAkfcmRU8r1cUdJuQNsgB+1QCQ9P4Eyyifkfykpec8+A37sA5H0efnZZV/NHSop9tbbenhGRGcI\n",
       "f5lHKfYt/nDcyM7A20GfMiWjWJM7dVzszUZSsv4fir1s3KWeDHpdZdqY8o6934hl6ffdimiyzjFL\n",
       "kpFT/knCpiMdIx4nyVZoeIYIW6HhGSJshaZnSG4IRm0rdMxJtK2IW90IW6HhGSJshc6/rNRWpJSU\n",
       "ktqK42srcME1tRXWfQhbYV9ZdWFmK+Y39iBsBfDRhZmtQIVRyFYQxchWhBSyFUQxshUhhWwFUUxs\n",
       "haAsDigmtkJQ8n9RDGyFoIS2QlAMbIWghLZCUExsBVFCWyEoJraCKKGtIIqRrSDK2qC6RraCKGQr\n",
       "Lp+bbZvZiszk7tXUVqS2QjcbfwPoHEj2DrTexQAAAABJRU5ErkJggg==\n",
       "\" style=\"display:inline;vertical-align:middle;\" /></a>"
      ],
      "text/plain": [
       " [INPUT](0)  & CLASSICAL\\_CONTROL MULTI_QUBIT_GATE {1, 2} & SPACE   \\\\ \n",
       "   [INPUT](|0〉)  & X MULTI_QUBIT_GATE {1, 2}  & [OUTPUT](|0〉)   \\\\ \n",
       "   [INPUT](0)  & CLASSICAL\\_CONTROL MULTI_QUBIT_GATE {3, 4} & SPACE   \\\\ \n",
       "   [INPUT](|1〉)  & X MULTI_QUBIT_GATE {3, 4}  & [OUTPUT](|1〉)"
      ]
     },
     "execution_count": 31,
     "metadata": {},
     "output_type": "execute_result"
    }
   ],
   "source": [
    "Circuit(ExprTuple(Input(zero), MultiQubitGate(CLASSICAL_CONTROL, Set(one, two)), SPACE), \n",
    "        ExprTuple(Input(ket0), MultiQubitGate(X, Set(one, two)), \n",
    "                  Output(ket0)), \n",
    "        ExprTuple(Input(zero), MultiQubitGate(CLASSICAL_CONTROL, Set(three, four)), SPACE), \n",
    "        ExprTuple(Input(ket1), MultiQubitGate(X, Set(three, four)), \n",
    "                  Output(ket1))) \n",
    "#cX gate - 0 classical bit control for 1 and 0 qubit inputs"
   ]
  },
  {
   "cell_type": "code",
   "execution_count": 32,
   "metadata": {},
   "outputs": [
    {
     "name": "stdout",
     "output_type": "stream",
     "text": [
      " [INPUT](1)  & CLASSICAL\\_CONTROL MULTI_QUBIT_GATE {1, 2} & SPACE   \\\\ \n",
      "   [INPUT](|0〉)  & X MULTI_QUBIT_GATE {1, 2}  & [OUTPUT](|1〉)   \\\\ \n",
      "   [INPUT](1)  & CLASSICAL\\_CONTROL MULTI_QUBIT_GATE {3, 4} & SPACE   \\\\ \n",
      "   [INPUT](|1〉)  & X MULTI_QUBIT_GATE {3, 4}  & [OUTPUT](|0〉)\n",
      "\\Qcircuit@C=1em @R=.7em{\n",
      " \\lstick{1} & \\control \\cw \\cwx[1] &   \\\\ \n",
      "   \\lstick{\\lvert 0 \\rangle} & \\gate{X} & \\rstick{\\lvert 1 \\rangle} \\qw   \\\\ \n",
      "   \\lstick{1} & \\control \\cw \\cwx[1] &   \\\\ \n",
      "   \\lstick{\\lvert 1 \\rangle} & \\gate{X} & \\rstick{\\lvert 0 \\rangle} \\qw \n",
      "}\n"
     ]
    },
    {
     "data": {
      "text/html": [
       "<a class=\"ProveItLink\" href=\"__pv_it/ea8ab6a0fbe9dc42a73b84c7787f171608164a9a0/expr.ipynb\"><img src=\"data:image/png;base64,iVBORw0KGgoAAAANSUhEUgAAAIkAAABwBAMAAADYl04rAAAAMFBMVEX///+YmJiqqqq6urp2dnbc\n",
       "3NwQEBBERESIiIgyMjJmZmZUVFTu7u4iIiLMzMwAAAACXV1pAAAAAXRSTlMAQObYZgAAAAlwSFlz\n",
       "AAAOxAAADsQBlSsOGwAAAq1JREFUWMPtmD9oE3EUx79JE/PvcunkJt4gCC7N6tRQBTvJbR11ddFb\n",
       "WkFB4yYKWgTnFqRDwSGb4qA3iCBFDIJdKvR2kdZQa6mp8ff7vV8Uc3c58y6hDd4L4RfI8eHd+/3u\n",
       "Pe4D6PjiInYYL5aGQAEejgOluD4/OKXTG5udjhc7l4wANWNTCoLSPiRKJyDi35HExq8u9td/DuG8\n",
       "bIvPv8azaxv1+JTwSCgJZewolZ7+wINVfEmNmmLTYg5OyepV9rBz9DPnDUzJVGm9RZTM7ArSyyyK\n",
       "+Qk4Q5RHeGejyaGsrYrxUFaUVBMZBzPBlPzt3ZqxecUKySUvKBlLUnINpNuYC8ml1AJO2+hDyTqS\n",
       "UlnGRAsFO5hifke2gX4UPJaU94LyFelaSF2W7DX0p5ySlEs1mHvwl1dTTj5tRFDKXcoO8CSEcuyH\n",
       "G0EpVuUd1TAhcvnsm9P64j30/rP9N8VsUHXTLXV3gbmUDhCRiyip2GkHqbaqdCBl5VU1giK2V5y6\n",
       "yyguql0PohS9LSeCMqeegA9446kTGES5iPK3CMqMory++5KehgCKuDS1E0opLRw8V2dEdwb1ZPop\n",
       "xg25OW7fziDbQZcyH0QxF3Y9nO1s9KXk7N8UY5Hdpd7+6XX5STbljvg+0GkN3nfzusk6R2ySjJwy\n",
       "lAmbRBKjjv/IVrA8gy9YnmE0b+WH6RmGY06C6jKWniGxFQkloSS24ujaCjnpmbbi/D1b2wqa9Cxb\n",
       "UbCMj9pWULdk2YoTwAVtK4jCshU3gSmXbAVRWLZiH5i2yFYQhWMrDEmZJFuhpwjDVmTF2+1WnWyF\n",
       "pjBshaLUyFZoCsNWGIIyXSdboSkcWyHqMmWRrdAUjq24Lsrmkq0gCstWHAdWu7ZCUVi2omwZV7u2\n",
       "Qk16lq0wZu97ia1IbMWgs/EX1ksrikY9OFIAAAAASUVORK5CYII=\n",
       "\" style=\"display:inline;vertical-align:middle;\" /></a>"
      ],
      "text/plain": [
       " [INPUT](1)  & CLASSICAL\\_CONTROL MULTI_QUBIT_GATE {1, 2} & SPACE   \\\\ \n",
       "   [INPUT](|0〉)  & X MULTI_QUBIT_GATE {1, 2}  & [OUTPUT](|1〉)   \\\\ \n",
       "   [INPUT](1)  & CLASSICAL\\_CONTROL MULTI_QUBIT_GATE {3, 4} & SPACE   \\\\ \n",
       "   [INPUT](|1〉)  & X MULTI_QUBIT_GATE {3, 4}  & [OUTPUT](|0〉)"
      ]
     },
     "execution_count": 32,
     "metadata": {},
     "output_type": "execute_result"
    }
   ],
   "source": [
    "Circuit(ExprTuple(Input(one), MultiQubitGate(CLASSICAL_CONTROL, Set(one, two)), SPACE), \n",
    "        ExprTuple(Input(ket0), MultiQubitGate(X, Set(one, two)), \n",
    "                  Output(ket1)), \n",
    "        ExprTuple(Input(one), MultiQubitGate(CLASSICAL_CONTROL, Set(three, four)), SPACE), \n",
    "        ExprTuple(Input(ket1), MultiQubitGate(X, Set(three, four)), \n",
    "                  Output(ket0)))\n",
    "#cX gate - 1 classical bit control for 1 and 0 qubit inputs"
   ]
  },
  {
   "cell_type": "code",
   "execution_count": 33,
   "metadata": {},
   "outputs": [],
   "source": [
    "#NULL GATES"
   ]
  },
  {
   "cell_type": "code",
   "execution_count": 34,
   "metadata": {},
   "outputs": [
    {
     "name": "stdout",
     "output_type": "stream",
     "text": [
      " [INPUT](|0〉)  & [GATE](H)  & [GATE](H)  & [OUTPUT](|0〉)   \\\\ \n",
      "   [INPUT](|1〉)  & [GATE](H)  & [GATE](H)  & [OUTPUT](|1〉)\n",
      "\\Qcircuit@C=1em @R=.7em{\n",
      " \\lstick{\\lvert 0 \\rangle} & \\gate{H} & \\gate{H} & \\rstick{\\lvert 0 \\rangle} \\qw   \\\\ \n",
      "   \\lstick{\\lvert 1 \\rangle} & \\gate{H} & \\gate{H} & \\rstick{\\lvert 1 \\rangle} \\qw \n",
      "}\n"
     ]
    },
    {
     "data": {
      "text/html": [
       "<a class=\"ProveItLink\" href=\"__pv_it/3be9c1f11e5530a038fef02848822f0614a97eaf0/expr.ipynb\"><img src=\"data:image/png;base64,iVBORw0KGgoAAAANSUhEUgAAAL4AAABEBAMAAADNU5LRAAAAMFBMVEX///8QEBBUVFRERESYmJgi\n",
       "IiLu7u6qqqoyMjJmZmbMzMyIiIi6urp2dnbc3NwAAADV54WuAAAAAXRSTlMAQObYZgAAAAlwSFlz\n",
       "AAAOxAAADsQBlSsOGwAAAi9JREFUWMPt1z1PWnEUBvDHQMEX8Lp01mJi+jLIbqL9BpIujtKhY1PX\n",
       "Dk3YulU+QNOYJp3rrIN+A9kcehNI+gEkqYIvaei5Xs4B5CGhzbGN9p6E+OAJPy7c//1fDjCygs5g\n",
       "Ncfo/E4FN543x+j8fb8R/5l29fvQMI6pHU+/D5WY//YJ2aqzr6jE93jVQMnZVzREuoR8Ecfcn1k+\n",
       "X0o/Ol8a9mnHfENDpBaQbeH7iOMPKsBEiR0/65hvaIigilwbkw3uf60BJ1Xms475hoZ4I/EU2Rr3\n",
       "64fA+hbzWcd8Q0Oc1DB9heETHCvb8lgrM591zDc0jj+Bj9z/IY+HdP2wzoB/jcpHqSEnb/U5bvVt\n",
       "W9HT3FmhULgYu9O070fR61ORbQPv6PHnL2Ulttnx007/+Y1RWUpFpFvAB+pPymtTLebTTm99KiqX\n",
       "whymKpgtUj+Qf09UmE87vetLUbmUN/ByB/kt6h/txgt92Ked3v6gqMTX+0+BB/z6rcsWeHDIfNrp\n",
       "+Yp2t1K85f5mtMjp/kY7g/tzhGpcZX7mcecZFjsrw/6Izg1/1WKmcgv3lwjtxpnnt+BH6F73VuZ6\n",
       "/x2N3rnfJ//u91tSSSWVVFJ/Vsl8fU/ma3wp+8/XiobIPNkuw3u+NjR6qwOJzvO1oRqd52tDNTrP\n",
       "14ZqdJ6vDdXoPF8batF3vjbUou98bahF3/naUIu+87WhGp3na0M1es/XikpcnH+x6z5fK5rM18l8\n",
       "/R/P178AfRZKtZaTpb4AAAAASUVORK5CYII=\n",
       "\" style=\"display:inline;vertical-align:middle;\" /></a>"
      ],
      "text/plain": [
       " [INPUT](|0〉)  & [GATE](H)  & [GATE](H)  & [OUTPUT](|0〉)   \\\\ \n",
       "   [INPUT](|1〉)  & [GATE](H)  & [GATE](H)  & [OUTPUT](|1〉)"
      ]
     },
     "execution_count": 34,
     "metadata": {},
     "output_type": "execute_result"
    }
   ],
   "source": [
    "Circuit(ExprTuple(Input(ket0), Gate(H), Gate(H), Output(ket0)), \n",
    "        ExprTuple(Input(ket1), Gate(H), Gate(H), Output(ket1)))"
   ]
  },
  {
   "cell_type": "code",
   "execution_count": 35,
   "metadata": {},
   "outputs": [
    {
     "name": "stdout",
     "output_type": "stream",
     "text": [
      " [INPUT](|0〉)  & [GATE](X)  & [GATE](X)  & [OUTPUT](|0〉)   \\\\ \n",
      "   [INPUT](|1〉)  & [GATE](X)  & [GATE](X)  & [OUTPUT](|1〉)\n",
      "\\Qcircuit@C=1em @R=.7em{\n",
      " \\lstick{\\lvert 0 \\rangle} & \\gate{X} & \\gate{X} & \\rstick{\\lvert 0 \\rangle} \\qw   \\\\ \n",
      "   \\lstick{\\lvert 1 \\rangle} & \\gate{X} & \\gate{X} & \\rstick{\\lvert 1 \\rangle} \\qw \n",
      "}\n"
     ]
    },
    {
     "data": {
      "text/html": [
       "<a class=\"ProveItLink\" href=\"__pv_it/7f6d1120e6064077ab114eecbe0c9796c98608e60/expr.ipynb\"><img src=\"data:image/png;base64,iVBORw0KGgoAAAANSUhEUgAAAL0AAABEBAMAAAAmZCnSAAAAMFBMVEX///8QEBBUVFRERESYmJgi\n",
       "IiLu7u6qqqoyMjJmZmbMzMyIiIi6urp2dnbc3NwAAADV54WuAAAAAXRSTlMAQObYZgAAAAlwSFlz\n",
       "AAAOxAAADsQBlSsOGwAAAo1JREFUWMPt179rE2EYB/Cv+XFpLk3iKC4GnNTBVCcdtA7Olg666VkQ\n",
       "XMQDJ4fQbm62k3Qo5RCcG8RFHczo1oCDYBUO+geYqk2RUuv7vs+bS2KeF6I8Vaj3wHEJz/Hh8r7v\n",
       "vZcv4Kzq/nB1xuj8TlV/+d4Zo/P3/ZhOvqRfsedIHR/pYzYS9MstOl8kv7yxisKSsP/pZYyH5D/C\n",
       "nRgzsv5E6N1E3vi5GZTreM/7pctbbe/WsXDUZzuJfxV4h3Ko/WwNhS42Hfef2QEexNz9c53EPwfM\n",
       "B5W69qtLmNzBRMz7/ldUauz4cJ3E/w6sh3is/fvK/4ZC2zH+i/GcY/yZTs/3tD+NhvY/t+HvYnSC\n",
       "rXLtSc3hM52eX9kD1pp6gslXX1cc/pEvgcNnOkN+G8WWHp82JtX9P6XewLZlL97F+J1Ob3yUv96E\n",
       "X6P5Lail0HDcf2bbtf6ZzuD8zod6UtX6rCPXhZ5r1l8923L4TCfxz6vpCfSiVM/XURQXoNcq5xej\n",
       "tTrvc53EvwIsQz9Uan+4gduRedY4/wPyP3if6yR+PvSOQ28Kyr/3+jTMXsH46tLcHuuzncT3Np5H\n",
       "Zs3b/dnsdaO+d0Evj4Dx+c7w/qw35Z5/ifP9qa0Ib/dnR31HZ9jPxonvLRzA++Vu//1Vmj4A/4U6\n",
       "XtmfIvn+LdmXbf0Q/D/5d//f0korrbTS+rNK8/Uhydd4Fsjna/86bL72Ti0GkM7Xc8td2HwNvAkg\n",
       "na9RUj7la/KF87XxKV+TL5yvjU/5mnzZfG39Rt+XzdfWzw/4ovna+iZfW180X1vf5Gvry+Zr8k2+\n",
       "tr5svibf5GvyhfM1+Zv9+RXO1+RTvj55YrYpna8zU9tn0nyd5uv/PV//BBKFPcD9bM3FAAAAAElF\n",
       "TkSuQmCC\n",
       "\" style=\"display:inline;vertical-align:middle;\" /></a>"
      ],
      "text/plain": [
       " [INPUT](|0〉)  & [GATE](X)  & [GATE](X)  & [OUTPUT](|0〉)   \\\\ \n",
       "   [INPUT](|1〉)  & [GATE](X)  & [GATE](X)  & [OUTPUT](|1〉)"
      ]
     },
     "execution_count": 35,
     "metadata": {},
     "output_type": "execute_result"
    }
   ],
   "source": [
    "Circuit(ExprTuple(Input(ket0), Gate(X), Gate(X), Output(ket0)), \n",
    "        ExprTuple(Input(ket1), Gate(X), Gate(X), Output(ket1)))"
   ]
  },
  {
   "cell_type": "code",
   "execution_count": 36,
   "metadata": {},
   "outputs": [
    {
     "name": "stdout",
     "output_type": "stream",
     "text": [
      " [INPUT](|0〉)  & [GATE](Z)  & [GATE](Z)  & [OUTPUT](|0〉)   \\\\ \n",
      "   [INPUT](|1〉)  & [GATE](Z)  & [GATE](Z)  & [OUTPUT](|1〉)\n",
      "\\Qcircuit@C=1em @R=.7em{\n",
      " \\lstick{\\lvert 0 \\rangle} & \\gate{Z} & \\gate{Z} & \\rstick{\\lvert 0 \\rangle} \\qw   \\\\ \n",
      "   \\lstick{\\lvert 1 \\rangle} & \\gate{Z} & \\gate{Z} & \\rstick{\\lvert 1 \\rangle} \\qw \n",
      "}\n"
     ]
    },
    {
     "data": {
      "text/html": [
       "<a class=\"ProveItLink\" href=\"__pv_it/0a655163b1fb444c0686a173ebddda95d5bf1b200/expr.ipynb\"><img src=\"data:image/png;base64,iVBORw0KGgoAAAANSUhEUgAAALcAAABEBAMAAAAxRrkbAAAAMFBMVEX///8QEBBUVFRERESYmJgi\n",
       "IiLu7u6qqqoyMjJmZmbMzMyIiIi6urp2dnbc3NwAAADV54WuAAAAAXRSTlMAQObYZgAAAAlwSFlz\n",
       "AAAOxAAADsQBlSsOGwAAArRJREFUWMPt172PEkEYBvDHA5ZvsDIXCyFn40eD0hgLxcJa1Hh2ZjUh\n",
       "sTHSWlzgtLDz6LzCeBsTE7sjxkYtpLCHxMLiNK65P8BTgQue5pyZd04E3qEwk1zUnYQsLPDb3Zl3\n",
       "ZvcBjC27PdKGX4zu38CftKzp0yi3a7hPm4Q1PKO3nni9o7chzxaebtH2JOHptYeINmzi75/7uEX4\n",
       "XVR8lC3isapzBRGFh8tIF/DWgOdm5w71GHzP59tzS2UePwu8Qboq8VAe0T7WeTzVBSr7GLxdgnPe\n",
       "5fHjQM3NFCSebSC1iZjP4nFx/EWfwe8DsQOGbhmIY1dxT+I3G/L8oh0WnxGF9I3r8zxw2uNxZ6Au\n",
       "bEHinzpIbGFyRLO6/ldaHO4h/t0woJkfwGpTjijh4uMDQ7Wku4Zq+VCahncQb8lu6SAlzvzRxKpE\n",
       "O841x5cx4sJb43/Y2OkWgbebSORpQKObkF3EnXl0YKjzWsNY5+IvtaocRVGKBYT7kIPL4e08rRbj\n",
       "eOqLXpcYvCiu15X1JybRXsTrkGXJDehXUY4cvip+3zDgZ4BlyJkjpv9lXPXUhGLwj3XgNYNnZsXJ\n",
       "lwx4pOrsh5zzAr/x8gjUUjCJO5fEJJxn8IrYGXENuLP21FO1rZdctYhN4nISPikwuJi1iTtTl1y5\n",
       "zu7gp1h85WJxcbs0icd7xRO57lQ85P/Cnbrtm8X14Z0oWbKNPxOvF/oirN1Dk/qGWfirHy126Ykr\n",
       "aEELWtCCFoTcfyHk4rFrOeQm5qFDrnN4yYXVkHttuQ8dcoFXLqyGXCQFTiGXcJshV+EUcgm3GXIV\n",
       "TiGXcIshV+MLQ9xiyNV45DfcXsjVuAq5GrcXcjWuQq7GLYZcwlXI1bjFkEu4CrmE2wy5hK8PB9Rm\n",
       "yCWcQu7B3IWm1ZA7c6x3NAi5Qcj9X0LuT/kyHSakKoi7AAAAAElFTkSuQmCC\n",
       "\" style=\"display:inline;vertical-align:middle;\" /></a>"
      ],
      "text/plain": [
       " [INPUT](|0〉)  & [GATE](Z)  & [GATE](Z)  & [OUTPUT](|0〉)   \\\\ \n",
       "   [INPUT](|1〉)  & [GATE](Z)  & [GATE](Z)  & [OUTPUT](|1〉)"
      ]
     },
     "execution_count": 36,
     "metadata": {},
     "output_type": "execute_result"
    }
   ],
   "source": [
    "Circuit(ExprTuple(Input(ket0), Gate(Z), Gate(Z), Output(ket0)), \n",
    "        ExprTuple(Input(ket1), Gate(Z), Gate(Z), Output(ket1)))"
   ]
  },
  {
   "cell_type": "code",
   "execution_count": 37,
   "metadata": {},
   "outputs": [
    {
     "name": "stdout",
     "output_type": "stream",
     "text": [
      " [INPUT](|0〉)  & CONTROL MULTI_QUBIT_GATE {1, 2}  & CONTROL MULTI_QUBIT_GATE {1, 2}  & [OUTPUT](|0〉)   \\\\ \n",
      "   [INPUT](|0〉)  & Z MULTI_QUBIT_GATE {1, 2}  & Z MULTI_QUBIT_GATE {1, 2}  & [OUTPUT](|0〉)   \\\\ \n",
      "   [INPUT](|0〉)  & CONTROL MULTI_QUBIT_GATE {3, 4}  & CONTROL MULTI_QUBIT_GATE {3, 4}  & [OUTPUT](|0〉)   \\\\ \n",
      "   [INPUT](|1〉)  & Z MULTI_QUBIT_GATE {3, 4}  & Z MULTI_QUBIT_GATE {3, 4}  & [OUTPUT](|1〉)   \\\\ \n",
      "   [INPUT](|1〉)  & CONTROL MULTI_QUBIT_GATE {5, 6}  & CONTROL MULTI_QUBIT_GATE {5, 6}  & [OUTPUT](|1〉)   \\\\ \n",
      "   [INPUT](|0〉)  & Z MULTI_QUBIT_GATE {5, 6}  & Z MULTI_QUBIT_GATE {5, 6}  & [OUTPUT](|0〉)   \\\\ \n",
      "   [INPUT](|1〉)  & CONTROL MULTI_QUBIT_GATE {7, 8}  & CONTROL MULTI_QUBIT_GATE {7, 8}  & [OUTPUT](|1〉)   \\\\ \n",
      "   [INPUT](|1〉)  & Z MULTI_QUBIT_GATE {7, 8}  & Z MULTI_QUBIT_GATE {7, 8}  & [OUTPUT](|1〉)\n",
      "\\Qcircuit@C=1em @R=.7em{\n",
      " \\lstick{\\lvert 0 \\rangle} & \\ctrl{1} & \\ctrl{1} & \\rstick{\\lvert 0 \\rangle} \\qw   \\\\ \n",
      "   \\lstick{\\lvert 0 \\rangle} & \\gate{Z} & \\gate{Z} & \\rstick{\\lvert 0 \\rangle} \\qw   \\\\ \n",
      "   \\lstick{\\lvert 0 \\rangle} & \\ctrl{1} & \\ctrl{1} & \\rstick{\\lvert 0 \\rangle} \\qw   \\\\ \n",
      "   \\lstick{\\lvert 1 \\rangle} & \\gate{Z} & \\gate{Z} & \\rstick{\\lvert 1 \\rangle} \\qw   \\\\ \n",
      "   \\lstick{\\lvert 1 \\rangle} & \\ctrl{1} & \\ctrl{1} & \\rstick{\\lvert 1 \\rangle} \\qw   \\\\ \n",
      "   \\lstick{\\lvert 0 \\rangle} & \\gate{Z} & \\gate{Z} & \\rstick{\\lvert 0 \\rangle} \\qw   \\\\ \n",
      "   \\lstick{\\lvert 1 \\rangle} & \\ctrl{1} & \\ctrl{1} & \\rstick{\\lvert 1 \\rangle} \\qw   \\\\ \n",
      "   \\lstick{\\lvert 1 \\rangle} & \\gate{Z} & \\gate{Z} & \\rstick{\\lvert 1 \\rangle} \\qw \n",
      "}\n"
     ]
    },
    {
     "data": {
      "text/html": [
       "<a class=\"ProveItLink\" href=\"__pv_it/9bc3f440e9280152477e31f4406f6456f4b60d440/expr.ipynb\"><img src=\"data:image/png;base64,iVBORw0KGgoAAAANSUhEUgAAALcAAADtBAMAAAAPVfk9AAAAMFBMVEX///8QEBBUVFRERESYmJgi\n",
       "IiLu7u6qqqoyMjJmZmbMzMyIiIi6urp2dnbc3NwAAADV54WuAAAAAXRSTlMAQObYZgAAAAlwSFlz\n",
       "AAAOxAAADsQBlSsOGwAABLBJREFUeNrtmr9PU1EUx49CX2mhrYmJIQ5CcPHHUmUxDFgHZ0AjbvI0\n",
       "IXExdnUggA5uwGJkMNKYmLhBjIs6yOAOiYMDGmr4A6xCIYDmeX8VSLn39fS+K79yTtK09LWfPt79\n",
       "8b755EARRCXBVaXVc4E9vsmXDQVX8NSsfO6S8NTCS4hPuIR/f1+ERxL+FAaL0OsQ3pT37kBMwBt7\n",
       "IZWFrw7h1wG+QCrP4Q3tEF+FJYfwywDDfjrL4ZkJaFmDpqI7+DrAXB7GOPwhg69AfF7/2URft/7A\n",
       "s5NFA9zj8BwMcfjPeUhugmlEB4JAO0tjQbBhgKf/AkzP8BGVcPbnC/1HgyDQ/uxiEJTD4POQmOWX\n",
       "ZR5a2Jm/kseCCFW5LAw+NwPJdjmg8TXgl0hTTew7q7oD4+yAbx7Q4TwfRTYVs9DIvj/m7LJAJ0CP\n",
       "z+cfW0QnIDECfFo6GlC4BjAJfOWw5X8b7hbEgtJOxYEuw1RcLpjgsbx3GviaZ/AHHy+A2Aq0lTEd\n",
       "KBkXkbfwtiDmttpyxSbmCi6K77MVeLdreENxC+6NuIbf374TNedcw9+xxwf1T4AreLOaRFnMFlov\n",
       "vK4i+FGBZzR3As39pOTglDOmU943uDnlWsJxKdcSjku5EeC1U649HJFyJa6tteNcWQM/9utxx3iv\n",
       "Ho5IuQLHUiQMntLAWRj0+nw9HJFyBS7Bfn+0qIE/Z4HpjOGyIFKuwB1nE2lDd83bAa4W9HBMys2o\n",
       "+T81q4MXIPHHMKCYlKtwqRXDbFnMhcFrpVz5Rs9M9TYmcY2b1V8o1ZFy5bnG1w3zfHjCOM8RKVfi\n",
       "5trlblENb/mt9qWSVcqVA7rMpqMOPs0+P2GAI1KuwP1gSeyzBp5uZSefM8ARKZfjvFtsEfZr4IPs\n",
       "zZhvgCNSLsfxRfgmq4GzVZt8Errlhqdcjpu62Tka5HbDE+XOK20rofDwlBvxZhGeciPCw1OuJRyX\n",
       "cg96tNgv+P+Mc1SHssjlkssll3uYXK4D3WpOuQ5EMblccrnkcsnlEpxEMYnigy6K4bXvWBQn+0FF\n",
       "aO/8uA9ORfG9yVVQERrgkw9ORTE0M7iM0BLuUhQLuIzQEu5SFAu4jNAS7lAUK/jQNtyhKFbw2A64\n",
       "O1Gs4CJCK7g7UazgIkIruENRLOEiQiu4Q1Es4SJCS7hLUSzhS9sD6lIUS7iM0Gfbbsw4FcXHL5Uv\n",
       "kii2idAkisnlUh3xMqdcy9pLUWxIuRHgtVOuPRyRciOcee2UGxEennIjwsNTrrJz9YtiTMq194qI\n",
       "lGtvRDEp19rlIlKuKKumX0TKjXpZQlNu1AENTblqKlqIYkTKtZeWiJQb0YiSKLZIuZZwEsUEJ5d7\n",
       "WODmCE0dxSEdxTYuF9tRbOVysR3FVi4X21Fs5XKxHcU2LhfdUWzd9IvrKK643Gp4xeVG6SjecrnV\n",
       "+2DF5UbpKLZxudiOYiuXi+0otnK5yI5iO5eL7Ci2c7nIjuIILre2KI6wn5MotojQJIqpqFBlTrmW\n",
       "RaLYBCdRHCLQSBRr4SSKtXASxVVwEsVmOIli0q0Ep6ZfavrFp1xq+vWp6Rf2sel3F7x+UWxOuQ5E\n",
       "MTX9AjX97oRT0y+53L2ER45z/wDsR2+39Ls6TQAAAABJRU5ErkJggg==\n",
       "\" style=\"display:inline;vertical-align:middle;\" /></a>"
      ],
      "text/plain": [
       " [INPUT](|0〉)  & CONTROL MULTI_QUBIT_GATE {1, 2}  & CONTROL MULTI_QUBIT_GATE {1, 2}  & [OUTPUT](|0〉)   \\\\ \n",
       "   [INPUT](|0〉)  & Z MULTI_QUBIT_GATE {1, 2}  & Z MULTI_QUBIT_GATE {1, 2}  & [OUTPUT](|0〉)   \\\\ \n",
       "   [INPUT](|0〉)  & CONTROL MULTI_QUBIT_GATE {3, 4}  & CONTROL MULTI_QUBIT_GATE {3, 4}  & [OUTPUT](|0〉)   \\\\ \n",
       "   [INPUT](|1〉)  & Z MULTI_QUBIT_GATE {3, 4}  & Z MULTI_QUBIT_GATE {3, 4}  & [OUTPUT](|1〉)   \\\\ \n",
       "   [INPUT](|1〉)  & CONTROL MULTI_QUBIT_GATE {5, 6}  & CONTROL MULTI_QUBIT_GATE {5, 6}  & [OUTPUT](|1〉)   \\\\ \n",
       "   [INPUT](|0〉)  & Z MULTI_QUBIT_GATE {5, 6}  & Z MULTI_QUBIT_GATE {5, 6}  & [OUTPUT](|0〉)   \\\\ \n",
       "   [INPUT](|1〉)  & CONTROL MULTI_QUBIT_GATE {7, 8}  & CONTROL MULTI_QUBIT_GATE {7, 8}  & [OUTPUT](|1〉)   \\\\ \n",
       "   [INPUT](|1〉)  & Z MULTI_QUBIT_GATE {7, 8}  & Z MULTI_QUBIT_GATE {7, 8}  & [OUTPUT](|1〉)"
      ]
     },
     "execution_count": 37,
     "metadata": {},
     "output_type": "execute_result"
    }
   ],
   "source": [
    "Circuit(ExprTuple(Input(ket0), MultiQubitGate(CONTROL, Set(one, two)), MultiQubitGate(CONTROL, Set(one, two)), \n",
    "                  Output(ket0)), \n",
    "        ExprTuple(Input(ket0), MultiQubitGate(Z, Set(one, two)), MultiQubitGate(Z, Set(one, two)), Output(ket0)), \n",
    "        ExprTuple(Input(ket0), MultiQubitGate(CONTROL, Set(three, four)), MultiQubitGate(CONTROL, Set(three, four)), \n",
    "                  Output(ket0)), \n",
    "        ExprTuple(Input(ket1), MultiQubitGate(Z, Set(three, four)), MultiQubitGate(Z, Set(three, four)), \n",
    "                  Output(ket1)),\n",
    "        ExprTuple(Input(ket1), MultiQubitGate(CONTROL, Set(five, six)), MultiQubitGate(CONTROL, Set(five, six)),\n",
    "                  Output(ket1)),\n",
    "        ExprTuple(Input(ket0), MultiQubitGate(Z, Set(five, six)), MultiQubitGate(Z, Set(five, six)),\n",
    "                  Output(ket0)),\n",
    "        ExprTuple(Input(ket1), MultiQubitGate(CONTROL, Set(seven, eight)), MultiQubitGate(CONTROL, Set(seven, eight)), \n",
    "                  Output(ket1)), \n",
    "        ExprTuple(Input(ket1), MultiQubitGate(Z, Set(seven, eight)), MultiQubitGate(Z, Set(seven, eight)), \n",
    "                  Output(ket1))) \n",
    "# Double CZ gate"
   ]
  },
  {
   "cell_type": "code",
   "execution_count": 38,
   "metadata": {},
   "outputs": [
    {
     "name": "stdout",
     "output_type": "stream",
     "text": [
      " [INPUT](|0〉)  & CONTROL MULTI_QUBIT_GATE {1, 2}  & CONTROL MULTI_QUBIT_GATE {1, 2}  & [OUTPUT](|0〉)   \\\\ \n",
      "   [INPUT](|0〉)  & X MULTI_QUBIT_GATE {1, 2}  & X MULTI_QUBIT_GATE {1, 2}  & [OUTPUT](|0〉)   \\\\ \n",
      "   [INPUT](|0〉)  & CONTROL MULTI_QUBIT_GATE {3, 4}  & CONTROL MULTI_QUBIT_GATE {3, 4}  & [OUTPUT](|0〉)   \\\\ \n",
      "   [INPUT](|1〉)  & X MULTI_QUBIT_GATE {3, 4}  & X MULTI_QUBIT_GATE {3, 4}  & [OUTPUT](|1〉)   \\\\ \n",
      "   [INPUT](|1〉)  & CONTROL MULTI_QUBIT_GATE {5, 6}  & CONTROL MULTI_QUBIT_GATE {5, 6}  & [OUTPUT](|1〉)   \\\\ \n",
      "   [INPUT](|0〉)  & X MULTI_QUBIT_GATE {5, 6}  & X MULTI_QUBIT_GATE {5, 6}  & [OUTPUT](|0〉)   \\\\ \n",
      "   [INPUT](|1〉)  & CONTROL MULTI_QUBIT_GATE {7, 8}  & CONTROL MULTI_QUBIT_GATE {7, 8}  & [OUTPUT](|1〉)   \\\\ \n",
      "   [INPUT](|1〉)  & X MULTI_QUBIT_GATE {7, 8}  & X MULTI_QUBIT_GATE {7, 8}  & [OUTPUT](|1〉)\n",
      "\\Qcircuit@C=1em @R=.7em{\n",
      " \\lstick{\\lvert 0 \\rangle} & \\ctrl{1} & \\ctrl{1} & \\rstick{\\lvert 0 \\rangle} \\qw   \\\\ \n",
      "   \\lstick{\\lvert 0 \\rangle} & \\gate{X} & \\gate{X} & \\rstick{\\lvert 0 \\rangle} \\qw   \\\\ \n",
      "   \\lstick{\\lvert 0 \\rangle} & \\ctrl{1} & \\ctrl{1} & \\rstick{\\lvert 0 \\rangle} \\qw   \\\\ \n",
      "   \\lstick{\\lvert 1 \\rangle} & \\gate{X} & \\gate{X} & \\rstick{\\lvert 1 \\rangle} \\qw   \\\\ \n",
      "   \\lstick{\\lvert 1 \\rangle} & \\ctrl{1} & \\ctrl{1} & \\rstick{\\lvert 1 \\rangle} \\qw   \\\\ \n",
      "   \\lstick{\\lvert 0 \\rangle} & \\gate{X} & \\gate{X} & \\rstick{\\lvert 0 \\rangle} \\qw   \\\\ \n",
      "   \\lstick{\\lvert 1 \\rangle} & \\ctrl{1} & \\ctrl{1} & \\rstick{\\lvert 1 \\rangle} \\qw   \\\\ \n",
      "   \\lstick{\\lvert 1 \\rangle} & \\gate{X} & \\gate{X} & \\rstick{\\lvert 1 \\rangle} \\qw \n",
      "}\n"
     ]
    },
    {
     "data": {
      "text/html": [
       "<a class=\"ProveItLink\" href=\"__pv_it/ef89e37efd4d195fa6e4f62d1c33629625d194e60/expr.ipynb\"><img src=\"data:image/png;base64,iVBORw0KGgoAAAANSUhEUgAAAL0AAADtBAMAAAAYd2n0AAAAMFBMVEX///8QEBBUVFRERESYmJgi\n",
       "IiLu7u6qqqoyMjJmZmbMzMyIiIi6urp2dnbc3NwAAADV54WuAAAAAXRSTlMAQObYZgAAAAlwSFlz\n",
       "AAAOxAAADsQBlSsOGwAABHdJREFUeNrtmr9PU1EUx49AX2lLW0fjYhMndbDoJAPi4Awy6CaVxMTF\n",
       "2MTJgcDmBkyGwZDGxJnGuKiDHd1o4mAimryEP8CiAjEE673v3oLKve/dH6dU8JykKeQ8Pnl97/a+\n",
       "L58cCCGqLCBWQb7X2OuT+LG/hsjPN8T7iODn15YhvYjM//wqhEeC/xjuhjCByx+sBrchFfEHJiBf\n",
       "hg+4/OsA7yFf5fz+EqS3YB2XfwlgtlIoc35xEYa2YTBE5f8AWK3CPOc/YPzvkG5qDs7cGLXt5BsB\n",
       "54/BDOd/aUJ2B7Q3eKrdrll28o3CLsBKnd9gwWe/PtWcS7vdnrDtCH4TMg1+fZowxM7/mei1varV\n",
       "uT6Mv1qHbEnc3/Q28GulqkH2V1uWHXF/Z6v8prL1WYYBdtw85vWBywDjFb4o2ffrJGTmgK9VvPsL\n",
       "1wCWgH+p2P5wC+7Uou+aehVujNh2GD9VDU4D3xQY//6b8xDtFepqWXcYP1h7UYvWvNyfo70OkR8V\n",
       "35Q7/NEu8PvDPX4w1wX+vf3nV26sC/yX7PVafhRA5Ofksi0b7bYth45NEf948ovKZ0d8x4qvPdsi\n",
       "yufA4evzszvfLD+7883ysx8/OT978Q3yc0TJXd1oBlOnqgf5yo5NfhZn2cei0cNQdf6qjk1+FpTs\n",
       "NyiUlNdH1bHJz/IqL4TTmuuv6NjkZ0kZf1LS8BUdm/wsKSe+VjR8RccqP8uDd8C8Y5Of5Vn2berW\n",
       "v6Jjk58lZfliQ8NXdGzys6BkaitlNV/VscnPgvIRUj/VfFXHJj8X5aEDu0q+smOTnzkluMKXR0XB\n",
       "V3ds8jOjZIc3avCuPXmQr+nY5Gf/50t8fvbnx+dnd75Zfj4a+aSH/C7nQ6rjUPr87F7knxP55J/j\n",
       "+eSfHf3z3+Xmh/X5Gcdvk38G8s/efPLP6iL/TPyjzye/HZ/Pj4zfhucVfL+dvQkynwfnFiqA7ben\n",
       "l7ZA5nOAtxXA9tuQY3yRzwUf2W9HfJHPBR/Zb0d8kc8FH9dvS/7MPh/Xb0t+6jc+qt+W/CifSz6q\n",
       "35b8KJ9LPq7fFvwon0s+rt8W/CifCz6y3xb89f37i+y3BV/k87NnJuvYfrtvePMC+e2E5wv57d7n\n",
       "k97lNyqq5NLnZ/c6ZL+tyc9+/OT87MU3yM9+55+cn/358fnZnx+fnzuW0MVvm+RnL/9pkJ/lsW7+\n",
       "1iQ/+/hng/wsynG+2iA/I1yf2PyMcH9j83NnFTr5bYP87OVXDfKzF98gP/vzyW+ri/w28bvPJ/98\n",
       "GHx9Pqf5bYP5bVf/bDq/7eqfjee3Hf2z8fy2o382n9928s8W89vu89Vm89t7lrll0PmDbza/vWeZ\n",
       "TToO89tu/tl4ftvRPxvPbzv6Z9P5bVf/bDi/7eyfzea3Pf1zot/23P/Jb6v55LfJb1MdTunzs3uR\n",
       "307kk9824JPfJr9Nfpv8NjjlZ38++e3/2d8Sv7f/v5B/js/PNF9N89UliOPTfHUCX5GfD/Cd/LY+\n",
       "P+P4bZqvpvlqmq8m//xP8zHy4S8Qqt7oAPy1yAAAAABJRU5ErkJggg==\n",
       "\" style=\"display:inline;vertical-align:middle;\" /></a>"
      ],
      "text/plain": [
       " [INPUT](|0〉)  & CONTROL MULTI_QUBIT_GATE {1, 2}  & CONTROL MULTI_QUBIT_GATE {1, 2}  & [OUTPUT](|0〉)   \\\\ \n",
       "   [INPUT](|0〉)  & X MULTI_QUBIT_GATE {1, 2}  & X MULTI_QUBIT_GATE {1, 2}  & [OUTPUT](|0〉)   \\\\ \n",
       "   [INPUT](|0〉)  & CONTROL MULTI_QUBIT_GATE {3, 4}  & CONTROL MULTI_QUBIT_GATE {3, 4}  & [OUTPUT](|0〉)   \\\\ \n",
       "   [INPUT](|1〉)  & X MULTI_QUBIT_GATE {3, 4}  & X MULTI_QUBIT_GATE {3, 4}  & [OUTPUT](|1〉)   \\\\ \n",
       "   [INPUT](|1〉)  & CONTROL MULTI_QUBIT_GATE {5, 6}  & CONTROL MULTI_QUBIT_GATE {5, 6}  & [OUTPUT](|1〉)   \\\\ \n",
       "   [INPUT](|0〉)  & X MULTI_QUBIT_GATE {5, 6}  & X MULTI_QUBIT_GATE {5, 6}  & [OUTPUT](|0〉)   \\\\ \n",
       "   [INPUT](|1〉)  & CONTROL MULTI_QUBIT_GATE {7, 8}  & CONTROL MULTI_QUBIT_GATE {7, 8}  & [OUTPUT](|1〉)   \\\\ \n",
       "   [INPUT](|1〉)  & X MULTI_QUBIT_GATE {7, 8}  & X MULTI_QUBIT_GATE {7, 8}  & [OUTPUT](|1〉)"
      ]
     },
     "execution_count": 38,
     "metadata": {},
     "output_type": "execute_result"
    }
   ],
   "source": [
    "Circuit(ExprTuple(Input(ket0), MultiQubitGate(CONTROL, Set(one, two)), MultiQubitGate(CONTROL, Set(one, two)), \n",
    "                  Output(ket0)), \n",
    "        ExprTuple(Input(ket0), MultiQubitGate(X, Set(one, two)), MultiQubitGate(X, Set(one, two)), Output(ket0)), \n",
    "        ExprTuple(Input(ket0), MultiQubitGate(CONTROL, Set(three, four)), MultiQubitGate(CONTROL, Set(three, four)), \n",
    "                  Output(ket0)), \n",
    "        ExprTuple(Input(ket1), MultiQubitGate(X, Set(three, four)), MultiQubitGate(X, Set(three, four)), \n",
    "                  Output(ket1)),\n",
    "        ExprTuple(Input(ket1), MultiQubitGate(CONTROL, Set(five, six)), MultiQubitGate(CONTROL, Set(five, six)),\n",
    "                  Output(ket1)),\n",
    "        ExprTuple(Input(ket0), MultiQubitGate(X, Set(five, six)), MultiQubitGate(X, Set(five, six)),\n",
    "                  Output(ket0)),\n",
    "        ExprTuple(Input(ket1), MultiQubitGate(CONTROL, Set(seven, eight)), MultiQubitGate(CONTROL, Set(seven, eight)), \n",
    "                  Output(ket1)), \n",
    "        ExprTuple(Input(ket1), MultiQubitGate(X, Set(seven, eight)), MultiQubitGate(X, Set(seven, eight)), \n",
    "                  Output(ket1))) \n",
    "# Double CX gate"
   ]
  },
  {
   "cell_type": "code",
   "execution_count": 39,
   "metadata": {},
   "outputs": [
    {
     "name": "stdout",
     "output_type": "stream",
     "text": [
      " [INPUT](|0〉)  & CONTROL MULTI_QUBIT_GATE {1, 2}  & [OUTPUT](|0〉)   \\\\ \n",
      "   [INPUT](|0〉)  & U MULTI_QUBIT_GATE {1, 2}  & [OUTPUT](|0〉)   \\\\ \n",
      "   [INPUT](|0〉)  & CONTROL MULTI_QUBIT_GATE {3, 4}  & [OUTPUT](|0〉)   \\\\ \n",
      "   [INPUT](|1〉)  & U MULTI_QUBIT_GATE {3, 4}  & [OUTPUT](|1〉)\n",
      "\\Qcircuit@C=1em @R=.7em{\n",
      " \\lstick{\\lvert 0 \\rangle} & \\ctrl{1} & \\rstick{\\lvert 0 \\rangle} \\qw   \\\\ \n",
      "   \\lstick{\\lvert 0 \\rangle} & \\gate{U} & \\rstick{\\lvert 0 \\rangle} \\qw   \\\\ \n",
      "   \\lstick{\\lvert 0 \\rangle} & \\ctrl{1} & \\rstick{\\lvert 0 \\rangle} \\qw   \\\\ \n",
      "   \\lstick{\\lvert 1 \\rangle} & \\gate{U} & \\rstick{\\lvert 1 \\rangle} \\qw \n",
      "}\n"
     ]
    },
    {
     "data": {
      "text/html": [
       "<a class=\"ProveItLink\" href=\"__pv_it/a4534b62c6506412fb569ca73fc12aa4da0917a90/expr.ipynb\"><img src=\"data:image/png;base64,iVBORw0KGgoAAAANSUhEUgAAAIcAAABzBAMAAABAygw2AAAAMFBMVEX///8QEBBUVFRERESYmJgi\n",
       "IiLu7u6qqqoyMjJmZmbMzMyIiIi6urp2dnbc3NwAAADV54WuAAAAAXRSTlMAQObYZgAAAAlwSFlz\n",
       "AAAOxAAADsQBlSsOGwAAAvtJREFUWMPtmL1rFEEYxh9yub2v7G0gnY0HVlGQi3YWchZ2gkFBO10F\n",
       "wSZkW4tw6ey8a4QUYhbB2kVs1ML8B1lIYRHlluQPUNBc/EDOeWcmOYWd3ZkxCQT3hd294+5+zLzz\n",
       "zrzPPUjAow7TaMpnyK4P4mUpNIW4a+J5QUDczaeo9G0gH18neCAgD3EvwbwFpBo4t1DmkMl5uG28\n",
       "t4BcBjbgBgQptVAZYtsCcg7o+s02Qbw+pnZRTcwh34H1AI8IssggX1GJFV9+PJMoIA5BOlgiyKcY\n",
       "9Z9QZbY8Gv1QQJq/gBcRZVZA2Nsn6ZDBaLSTBYlRW6PpxJhiI3kmPvNGufF5bzoMsh6h3hKJreyC\n",
       "ppYWPfYrX53YbkDZZEvcxuQQlGTD6eA8cNWndWXFNo3aMmi5DROLS8AKqMJY2d/EnZAXXmqszoQq\n",
       "SDlwToBqnUEW3p4G3wKp4amLzdl8GfLakEcB34ymEB60//cgF20hpWQf4izbQu6PT7ZGxxbyil1v\n",
       "5KBgCmnIRWvrbHkPBxAF5KAhXtpR9I9DOHSIWhXkQPRUQQ5ETxVoQPJVQT5EQxUQZOv29Q7mvkXp\n",
       "EA1VwEcyYINuxIqRaKgCDumxq+YrIBqqgEO+sGtCkRMdVUAQatJYUEB0VAFBXOp+V7IgeaqAmug0\n",
       "u4kSslMFNJLFFru1oE5sniogSJd1kmakgmioAoIM2JZyExVEQxVwyP4Kp0E0VAGfDquzs0qIhiog\n",
       "SLWPrTD7KMhWBbxiN2ajnPMkWxVoHkrZqkATkq0KciB6quCoW8ZhQ/5uoyji6KPwCgqv4Hh7BQZ/\n",
       "89WqwMBwKLyCwisovIICUhgOx8lwwHPf0nCo34CUFs5sz4eV4XB3ZQgpLYB3PqwMBzQYREgLAbEx\n",
       "HDhESAsBsTEcOERICwGxMBwkZGkMsTAcJKT8B8TccJAQLi0kxNxwkBAuLSTEwnAQEC4tJMTCcBAQ\n",
       "Li0ExMZwEJDtcWJtDAcBEdLi1MlrkZXhMDG3c6YwHP57w0G7A/4GHcuz2B/fdPcAAAAASUVORK5C\n",
       "YII=\n",
       "\" style=\"display:inline;vertical-align:middle;\" /></a>"
      ],
      "text/plain": [
       " [INPUT](|0〉)  & CONTROL MULTI_QUBIT_GATE {1, 2}  & [OUTPUT](|0〉)   \\\\ \n",
       "   [INPUT](|0〉)  & U MULTI_QUBIT_GATE {1, 2}  & [OUTPUT](|0〉)   \\\\ \n",
       "   [INPUT](|0〉)  & CONTROL MULTI_QUBIT_GATE {3, 4}  & [OUTPUT](|0〉)   \\\\ \n",
       "   [INPUT](|1〉)  & U MULTI_QUBIT_GATE {3, 4}  & [OUTPUT](|1〉)"
      ]
     },
     "execution_count": 39,
     "metadata": {},
     "output_type": "execute_result"
    }
   ],
   "source": [
    "Circuit(ExprTuple(Input(ket0), MultiQubitGate(CONTROL, Set(one, two)), Output(ket0)), \n",
    "        ExprTuple(Input(ket0), MultiQubitGate(U, Set(one, two)), \n",
    "                  Output(ket0)), \n",
    "        ExprTuple(Input(ket0), MultiQubitGate(CONTROL, Set(three, four)), Output(ket0)), \n",
    "        ExprTuple(Input(ket1), MultiQubitGate(U, Set(three, four)), \n",
    "                  Output(ket1))) \n",
    "#CU gate - 0 classical bit control for 1 and 0 qubit inputs (Always null regardless of what U is)"
   ]
  },
  {
   "cell_type": "code",
   "execution_count": 40,
   "metadata": {},
   "outputs": [],
   "source": [
    "# CONGRUENCIES"
   ]
  },
  {
   "cell_type": "code",
   "execution_count": 41,
   "metadata": {},
   "outputs": [
    {
     "name": "stdout",
     "output_type": "stream",
     "text": [
      " [INPUT](|0〉)  & Z MULTI_QUBIT_GATE {1, 2}  & [OUTPUT](|0〉)   \\\\ \n",
      "   [INPUT](|0〉)  & CONTROL MULTI_QUBIT_GATE {1, 2}  & [OUTPUT](|0〉)   \\\\ \n",
      "   [INPUT](|0〉)  & Z MULTI_QUBIT_GATE {3, 4}  & [OUTPUT](|0〉)   \\\\ \n",
      "   [INPUT](|1〉)  & CONTROL MULTI_QUBIT_GATE {3, 4}  & [OUTPUT](|1〉)   \\\\ \n",
      "   [INPUT](|1〉)  & Z MULTI_QUBIT_GATE {5, 6}  & [OUTPUT](|1〉)   \\\\ \n",
      "   [INPUT](|0〉)  & CONTROL MULTI_QUBIT_GATE {5, 6}  & [OUTPUT](|0〉)   \\\\ \n",
      "   [INPUT](|1〉)  & Z MULTI_QUBIT_GATE {7, 8}  & [OUTPUT](-|1〉)   \\\\ \n",
      "   [INPUT](|1〉)  & CONTROL MULTI_QUBIT_GATE {7, 8}  & [OUTPUT](|1〉)\n",
      "\\Qcircuit@C=1em @R=.7em{\n",
      " \\lstick{\\lvert 0 \\rangle} & \\gate{Z} \\qwx[1] & \\rstick{\\lvert 0 \\rangle} \\qw   \\\\ \n",
      "   \\lstick{\\lvert 0 \\rangle} & \\control \\qw & \\rstick{\\lvert 0 \\rangle} \\qw   \\\\ \n",
      "   \\lstick{\\lvert 0 \\rangle} & \\gate{Z} \\qwx[1] & \\rstick{\\lvert 0 \\rangle} \\qw   \\\\ \n",
      "   \\lstick{\\lvert 1 \\rangle} & \\control \\qw & \\rstick{\\lvert 1 \\rangle} \\qw   \\\\ \n",
      "   \\lstick{\\lvert 1 \\rangle} & \\gate{Z} \\qwx[1] & \\rstick{\\lvert 1 \\rangle} \\qw   \\\\ \n",
      "   \\lstick{\\lvert 0 \\rangle} & \\control \\qw & \\rstick{\\lvert 0 \\rangle} \\qw   \\\\ \n",
      "   \\lstick{\\lvert 1 \\rangle} & \\gate{Z} \\qwx[1] & \\rstick{-\\lvert 1 \\rangle} \\qw   \\\\ \n",
      "   \\lstick{\\lvert 1 \\rangle} & \\control \\qw & \\rstick{\\lvert 1 \\rangle} \\qw \n",
      "}\n"
     ]
    },
    {
     "data": {
      "text/html": [
       "<a class=\"ProveItLink\" href=\"__pv_it/32c4017d87ba03a447282034b9dab0039cdf2caf0/expr.ipynb\"><img src=\"data:image/png;base64,iVBORw0KGgoAAAANSUhEUgAAAJcAAADsBAMAAACLVClIAAAAMFBMVEX///8QEBBUVFRERESYmJgi\n",
       "IiLu7u6qqqoyMjJmZmbMzMyIiIi6urp2dnbc3NwAAADV54WuAAAAAXRSTlMAQObYZgAAAAlwSFlz\n",
       "AAAOxAAADsQBlSsOGwAABA5JREFUeNrtmr9PE2EYx78KbWmhrQmLcRCik7pUWYyD1sFZNBETB3Oa\n",
       "kLAYuzoQUAc32sXIYLQxcYYYF3WQ/4AmDg5obMIfIBp+BNHUk/eavC/3vn3veTANkOddGo7w4Y73\n",
       "vbtPPryAcxRbxljBbkaxw1fdgDXVR44MK0Sfde3YF/XRU6fC8gvq84IJyy+9QKbGgX1918QDE/YE\n",
       "402MMmB9lfRtpAxY7yjyJXx2wA79eHSiOmqHXQE+IV/RYT3DyKxj2QFbLCN9LbDDzgFTQaGkw4o1\n",
       "DGygr2mHPQP6jjsuczP8XRXM6LD7IWwVmYYdNgxcqtth6c3tE5/UYd8byG0hPgPFaBllfzsmoPAH\n",
       "mJvXZ0DBwsPPXbP5rdwJ1kB2Qb/MBgbCM3sVu73Vgd6tncdX2pcZwhbnkRs2JyCzAf3SjTObqjnX\n",
       "Wfg3m6rof+1waZTQuw59UnTYwE91/9pgI8DVQF8H4aI9guw09OWiw+bC4zUH7DIwC32FhrfTTdyp\n",
       "GwtZgxWOhidXdsBSlfQx6PdOCLv34TSMW0yDjY+F3wocsPTSm7qxpqJHkHHza7CHTeQed3wE6c+b\n",
       "NuyiFZZdGzk/tNoR1tOMwdLT3IfjRPxJ21/mwt5qx95HJ0t+B/RHD/rSvnjVdemN/n9OSWDdhLkt\n",
       "yAOjWZAHRrOgBLDkFuSHESzIDyNYkB9GsCA/jGBB0Xg52HTAKBakRqrV+uWAUSwocqBWa60TLKkF\n",
       "uQbHgtSohj8duCcgqQV5L5NiQd4JoFhQNJ4O1l0wggV5Bs2C/DCCBSWEJbOghLBkFpQQlsyCPINm\n",
       "QTIO1JAWJC1IWtBBbUExWLsFWS7Ta0GxsNRuQXGlkhYkLUha0H55b0pYEth+DEt4HTDDUm4MO5Qq\n",
       "faoagBWW7s6uY4dSAR8DsMIS+kOYqVQKtsyFmUqlYJywtA0zlUrBGGEpgk3GYYywFMFSFhg9LEUw\n",
       "Q6kiGD0sRTBDqSIYIywpmKFUEWyGe5mGUikYJywp2HJ8AjhhScFMpTo5dH2eFZYOn107I2FJwpKM\n",
       "bg/ZZNStsOSwoASw5BbkhxEsyB+WCBbkD0sEC/KHJYIFecMSxYK8YYliQd6wRLIgMyztzoL8m4wI\n",
       "FuQPSwQL8oclggX5wxLBgvxhiWBBEpYkLHUDBglLEpYgO5Zkx5LsWJIdSy6Y7FiSsCRhSYaEJSSw\n",
       "IXZYstkQOyzZAhM7LNkCEzss2QITOyzZAhM7LNkCEzss2QITOyzZAhM7LNkCEzssTdz4N24ZgYkd\n",
       "lmyBiR2WbIGJHZZsgYkdlmyBiR2WbIGJHZZsNsQOSzYbYoclmw2xw5LNhthhiWZDEpYk30gLgmwy\n",
       "WpBNRnt+kxEl33j/vUbfsSSbjChdQzYZ7bEW9Bente+yKWcCWwAAAABJRU5ErkJggg==\n",
       "\" style=\"display:inline;vertical-align:middle;\" /></a>"
      ],
      "text/plain": [
       " [INPUT](|0〉)  & Z MULTI_QUBIT_GATE {1, 2}  & [OUTPUT](|0〉)   \\\\ \n",
       "   [INPUT](|0〉)  & CONTROL MULTI_QUBIT_GATE {1, 2}  & [OUTPUT](|0〉)   \\\\ \n",
       "   [INPUT](|0〉)  & Z MULTI_QUBIT_GATE {3, 4}  & [OUTPUT](|0〉)   \\\\ \n",
       "   [INPUT](|1〉)  & CONTROL MULTI_QUBIT_GATE {3, 4}  & [OUTPUT](|1〉)   \\\\ \n",
       "   [INPUT](|1〉)  & Z MULTI_QUBIT_GATE {5, 6}  & [OUTPUT](|1〉)   \\\\ \n",
       "   [INPUT](|0〉)  & CONTROL MULTI_QUBIT_GATE {5, 6}  & [OUTPUT](|0〉)   \\\\ \n",
       "   [INPUT](|1〉)  & Z MULTI_QUBIT_GATE {7, 8}  & [OUTPUT](-|1〉)   \\\\ \n",
       "   [INPUT](|1〉)  & CONTROL MULTI_QUBIT_GATE {7, 8}  & [OUTPUT](|1〉)"
      ]
     },
     "execution_count": 41,
     "metadata": {},
     "output_type": "execute_result"
    }
   ],
   "source": [
    "Circuit(ExprTuple(Input(ket0), MultiQubitGate(Z, Set(one, two)), Output(ket0)), \n",
    "    ExprTuple(Input(ket0), MultiQubitGate(CONTROL, Set(one, two)), \n",
    "              Output(ket0)), \n",
    "    ExprTuple(Input(ket0), MultiQubitGate(Z, Set(three, four)), Output(ket0)), \n",
    "    ExprTuple(Input(ket1), MultiQubitGate(CONTROL, Set(three, four)), \n",
    "                Output(ket1)),\n",
    "    ExprTuple(Input(ket1), MultiQubitGate(Z, Set(five, six)), Output(ket1)), \n",
    "    ExprTuple(Input(ket0), MultiQubitGate(CONTROL, Set(five, six)), \n",
    "              Output(ket0)), \n",
    "    ExprTuple(Input(ket1), MultiQubitGate(Z, Set(seven, eight)), Output(Neg(ket1))), \n",
    "    ExprTuple(Input(ket1), MultiQubitGate(CONTROL, Set(seven, eight)), \n",
    "              Output(ket1)))\n",
    "\n",
    "#Congruent to a regular CZ gate"
   ]
  },
  {
   "cell_type": "code",
   "execution_count": 42,
   "metadata": {},
   "outputs": [
    {
     "name": "stdout",
     "output_type": "stream",
     "text": [
      " [INPUT](|0〉)  & --  & CONTROL MULTI_QUBIT_GATE {1, 2}  & --  & [OUTPUT](|0〉)   \\\\ \n",
      "   [INPUT](|0〉)  & [GATE](H)  & Z MULTI_QUBIT_GATE {1, 2}  & [GATE](H)  & [OUTPUT](|0〉)   \\\\ \n",
      "   [INPUT](|0〉)  & --  & CONTROL MULTI_QUBIT_GATE {3, 4}  & --  & [OUTPUT](|0〉)   \\\\ \n",
      "   [INPUT](|1〉)  & [GATE](H)  & Z MULTI_QUBIT_GATE {3, 4}  & [GATE](H)  & [OUTPUT](|1〉)   \\\\ \n",
      "   [INPUT](|1〉)  & --  & CONTROL MULTI_QUBIT_GATE {5, 6}  & --  & [OUTPUT](|1〉)   \\\\ \n",
      "   [INPUT](|0〉)  & [GATE](H)  & Z MULTI_QUBIT_GATE {5, 6}  & [GATE](H)  & [OUTPUT](|1〉)   \\\\ \n",
      "   [INPUT](|1〉)  & --  & CONTROL MULTI_QUBIT_GATE {7, 8}  & --  & [OUTPUT](|1〉)   \\\\ \n",
      "   [INPUT](|1〉)  & [GATE](H)  & Z MULTI_QUBIT_GATE {7, 8}  & [GATE](H)  & [OUTPUT](|0〉)\n",
      "\\Qcircuit@C=1em @R=.7em{\n",
      " \\lstick{\\lvert 0 \\rangle} & \\qw & \\ctrl{1} & \\qw & \\rstick{\\lvert 0 \\rangle} \\qw   \\\\ \n",
      "   \\lstick{\\lvert 0 \\rangle} & \\gate{H} & \\gate{Z} & \\gate{H} & \\rstick{\\lvert 0 \\rangle} \\qw   \\\\ \n",
      "   \\lstick{\\lvert 0 \\rangle} & \\qw & \\ctrl{1} & \\qw & \\rstick{\\lvert 0 \\rangle} \\qw   \\\\ \n",
      "   \\lstick{\\lvert 1 \\rangle} & \\gate{H} & \\gate{Z} & \\gate{H} & \\rstick{\\lvert 1 \\rangle} \\qw   \\\\ \n",
      "   \\lstick{\\lvert 1 \\rangle} & \\qw & \\ctrl{1} & \\qw & \\rstick{\\lvert 1 \\rangle} \\qw   \\\\ \n",
      "   \\lstick{\\lvert 0 \\rangle} & \\gate{H} & \\gate{Z} & \\gate{H} & \\rstick{\\lvert 1 \\rangle} \\qw   \\\\ \n",
      "   \\lstick{\\lvert 1 \\rangle} & \\qw & \\ctrl{1} & \\qw & \\rstick{\\lvert 1 \\rangle} \\qw   \\\\ \n",
      "   \\lstick{\\lvert 1 \\rangle} & \\gate{H} & \\gate{Z} & \\gate{H} & \\rstick{\\lvert 0 \\rangle} \\qw \n",
      "}\n"
     ]
    },
    {
     "data": {
      "text/html": [
       "<a class=\"ProveItLink\" href=\"__pv_it/f865b4f80bf0f6bf0740e9f88af7d4dc03b5b6640/expr.ipynb\"><img src=\"data:image/png;base64,iVBORw0KGgoAAAANSUhEUgAAAO8AAADtBAMAAACllj+BAAAAMFBMVEX///8QEBBUVFRERESYmJgi\n",
       "IiLu7u6qqqoyMjJmZmbMzMyIiIi6urp2dnbc3NwAAADV54WuAAAAAXRSTlMAQObYZgAAAAlwSFlz\n",
       "AAAOxAAADsQBlSsOGwAABbNJREFUeNrtnMtvG1UUh08b20n8GqQKCbEgwZUqoIsauqlAIgGJdUMX\n",
       "ZQdDpUpsEN6yqBLCorvaG0QXFVhIrGtVbIBF8x80EgsWBcVS/4CGtnnRIHMf4/jGvnPnztjnJJBz\n",
       "JCutnOsvM3Pn8dPnc6ELqopAUdXoZ1u8/tD/nGpTgCtr+ufbGlx5+B1Mt6jAf/7chS81+CZc78IS\n",
       "EXimUfgY8gqcW4JKHX4nAn8A8BtUGhI8NQ/T2/CICPwWwHJYrUtw0ILyDsx0acB7AA8acEuCvxDg\n",
       "ZzC9nvpjvjnTTQ0uSPAi3JDgx+tQfA7pZ1e+1/s7Nbj6D8DdjpxdGiz+eycteKPX28oGXofZNbmr\n",
       "16EstvgH/V7QQ6nN/q4W4AcdKM7ryTW9A3K3p6um+Lwwy+RabsgZJU6nOuS2QU40gl0NFwEuh/Ic\n",
       "EheQF2B2BeSpRTC54D2A2yCvGuKS+RF82lYXk5T1/Zl2enC+UXgZ5HVSgD//9Q1Ql8+UFWS5gBQe\n",
       "3murcze6LaobBgVYlbwX9sHvUoKnugfgwgol+LPBE0hpkRL8k3j9Em08UIBL0WlQh7EqgCMqBjM4\n",
       "8+cO38zj3tk8eMN++x93gzZj3glsvzLOLkEGx6dFBLBfWkQA+6VFJHByWsQBe6RFPexebzV8f241\n",
       "HAWf+mu11lwaBZcu7J7Lvbp7zg72SIvRsF3xetG2xSICFT4MLVsciIeKU0sxW+yRFvUwmW6qezbw\n",
       "twAzr9h2tYgo8LgVA/ZIi3pYZR8gt2MDzwMstG3gDTGFLjfsYJ+0qIfNiA+b2raB2zC7b51cTfFa\n",
       "CO1gn7SohwX16IBZZvXGohX8tD8rgoxpUU+hK7XahdbQHUD/au758AgFLm/VarU92zueaVH/vRvi\n",
       "MN5vWLd4uWU9jysiUZV2IH5yJaXF4PABGwGXn+gr/TB4MCuCbGkxODhgL1mvXHfFiJYFrGbFShzY\n",
       "Iy2qYfLoy6k3Cq6KP6e8aAGLQ6hOZTvYIy0GBwds3wa+flUMCi1gNSvW4sAeaVENy8sDtmkDf9WF\n",
       "4te2yfWJnBXu26I7Lcph15pPOqcXnnZGwbNbFy/NPRsFF17rnYezvXecYHdaRHwQcKdFRLA7LSKA\n",
       "/dLi//Xx9hiCITbCQFxQCSYSYbi4xqz4tIhQ7BbZLWKC2S2eYLfoX5kUX3xaRJaa7BbZLeKBPdIi\n",
       "IpjdIjqY3SKDGUwMZqnJUjMDeCimwo8hodQsXoUophZeb4ZAJjWv3d6GKKYC3A+BTGpCSYB1TNVg\n",
       "KqmpwDqmajCV1FRgHVM1mEhqRuAbAzCR1IzAeQNMIzUjsIqpEZhGakZgFVMjMJHU1GAVUyMwkdTU\n",
       "YBVTNZhKamrwo8HkopKaGqxj6tm5Kx0yqXn6za3zLDXpHgRYap6Mx9tjmCS4uP6rFZ8WEeq4SM2Y\n",
       "tIgETk6LOGCPtIi0xclpERHsTouIYHdaTKwsUtMnLSZVNu/kkRaTKptp80mLKG7RIy0mVbaGSY+0\n",
       "iLmrnWkRc3I502JiZZKaHmkx9fOvF9gjLeKAPdIiIpilJjqYpSaDTyz4qL5tzN8oZ6mZAXyknZqD\n",
       "mOru1Jy0WzRiqrtTE8Ut+nRqorhFn05NHLfo0amJ4xY9OjVx3KJHp+bALY6A+25xCGy4RXdMdXdq\n",
       "DtziyH2q7xaH7kaGW3THVHenJo5b9OjUxHGLyZ2aSG4xuVNz4m7RjKmuTs2Ju0VPqYnkFpOlJtL9\n",
       "mKUmOpilZgyYpSYXV7qKT4sIxVKTpSY6mKVmumKpyVLTBWapOd7zrxeYpSZLTRwwS00Gn1QwN0yy\n",
       "W8wAPtKGycG6PrQNk8a6PrQNk8a6PrQNk8a6PrQNk8a6PqQNk+a6PqQNk+a6PqQNk+a6PofT4jB4\n",
       "wlLTXNfncFrElprGuj60DZPGuj60DZPmuj6kDZPmuj6kDZO8Ciy7RWC3yKvAjvu9zH8BQeG/Ogk5\n",
       "OQ8AAAAASUVORK5CYII=\n",
       "\" style=\"display:inline;vertical-align:middle;\" /></a>"
      ],
      "text/plain": [
       " [INPUT](|0〉)  & --  & CONTROL MULTI_QUBIT_GATE {1, 2}  & --  & [OUTPUT](|0〉)   \\\\ \n",
       "   [INPUT](|0〉)  & [GATE](H)  & Z MULTI_QUBIT_GATE {1, 2}  & [GATE](H)  & [OUTPUT](|0〉)   \\\\ \n",
       "   [INPUT](|0〉)  & --  & CONTROL MULTI_QUBIT_GATE {3, 4}  & --  & [OUTPUT](|0〉)   \\\\ \n",
       "   [INPUT](|1〉)  & [GATE](H)  & Z MULTI_QUBIT_GATE {3, 4}  & [GATE](H)  & [OUTPUT](|1〉)   \\\\ \n",
       "   [INPUT](|1〉)  & --  & CONTROL MULTI_QUBIT_GATE {5, 6}  & --  & [OUTPUT](|1〉)   \\\\ \n",
       "   [INPUT](|0〉)  & [GATE](H)  & Z MULTI_QUBIT_GATE {5, 6}  & [GATE](H)  & [OUTPUT](|1〉)   \\\\ \n",
       "   [INPUT](|1〉)  & --  & CONTROL MULTI_QUBIT_GATE {7, 8}  & --  & [OUTPUT](|1〉)   \\\\ \n",
       "   [INPUT](|1〉)  & [GATE](H)  & Z MULTI_QUBIT_GATE {7, 8}  & [GATE](H)  & [OUTPUT](|0〉)"
      ]
     },
     "execution_count": 42,
     "metadata": {},
     "output_type": "execute_result"
    }
   ],
   "source": [
    "Circuit(ExprTuple(Input(ket0), Gate(IdentityOp()), MultiQubitGate(CONTROL, Set(one, two)), Gate(IdentityOp()), Output(ket0)), \n",
    "        ExprTuple(Input(ket0), Gate(H), MultiQubitGate(Z, Set(one, two)), Gate(H), Output(ket0)),\n",
    "        ExprTuple(Input(ket0), Gate(IdentityOp()), MultiQubitGate(CONTROL, Set(three, four)), Gate(IdentityOp()), Output(ket0)), \n",
    "        ExprTuple(Input(ket1), Gate(H), MultiQubitGate(Z, Set(three, four)), Gate(H), Output(ket1)),\n",
    "        ExprTuple(Input(ket1), Gate(IdentityOp()), MultiQubitGate(CONTROL, Set(five, six)), Gate(IdentityOp()), Output(ket1)), \n",
    "        ExprTuple(Input(ket0), Gate(H), MultiQubitGate(Z, Set(five, six)), Gate(H), Output(ket1)),\n",
    "        ExprTuple(Input(ket1), Gate(IdentityOp()), MultiQubitGate(CONTROL, Set(seven, eight)), Gate(IdentityOp()), Output(ket1)), \n",
    "        ExprTuple(Input(ket1), Gate(H), MultiQubitGate(Z, Set(seven, eight)), Gate(H), Output(ket0)))\n",
    "# Congruent to a CX gate"
   ]
  },
  {
   "cell_type": "code",
   "execution_count": 43,
   "metadata": {},
   "outputs": [
    {
     "name": "stdout",
     "output_type": "stream",
     "text": [
      " [INPUT](|0〉)  & [GATE](H)  & CONTROL MULTI_QUBIT_GATE {1, 2}  & [GATE](H)  & [OUTPUT](|0〉)   \\\\ \n",
      "   [INPUT](|0〉)  & [GATE](H)  & Z MULTI_QUBIT_GATE {1, 2}  & [GATE](H)  & [OUTPUT](|0〉)   \\\\ \n",
      "   [INPUT](|0〉)  & [GATE](H)  & CONTROL MULTI_QUBIT_GATE {3, 4}  & [GATE](H)  & [OUTPUT](|0〉)   \\\\ \n",
      "   [INPUT](|1〉)  & [GATE](H)  & Z MULTI_QUBIT_GATE {3, 4}  & [GATE](H)  & [OUTPUT](|1〉)   \\\\ \n",
      "   [INPUT](|1〉)  & [GATE](H)  & CONTROL MULTI_QUBIT_GATE {5, 6}  & [GATE](H)  & [OUTPUT](|1〉)   \\\\ \n",
      "   [INPUT](|0〉)  & [GATE](H)  & Z MULTI_QUBIT_GATE {5, 6}  & [GATE](H)  & [OUTPUT](|1〉)   \\\\ \n",
      "   [INPUT](|1〉)  & [GATE](H)  & CONTROL MULTI_QUBIT_GATE {7, 8}  & [GATE](H)  & [OUTPUT](|1〉)   \\\\ \n",
      "   [INPUT](|1〉)  & [GATE](H)  & Z MULTI_QUBIT_GATE {7, 8}  & [GATE](H)  & [OUTPUT](|0〉)\n",
      "\\Qcircuit@C=1em @R=.7em{\n",
      " \\lstick{\\lvert 0 \\rangle} & \\gate{H} & \\ctrl{1} & \\gate{H} & \\rstick{\\lvert 0 \\rangle} \\qw   \\\\ \n",
      "   \\lstick{\\lvert 0 \\rangle} & \\gate{H} & \\gate{Z} & \\gate{H} & \\rstick{\\lvert 0 \\rangle} \\qw   \\\\ \n",
      "   \\lstick{\\lvert 0 \\rangle} & \\gate{H} & \\ctrl{1} & \\gate{H} & \\rstick{\\lvert 0 \\rangle} \\qw   \\\\ \n",
      "   \\lstick{\\lvert 1 \\rangle} & \\gate{H} & \\gate{Z} & \\gate{H} & \\rstick{\\lvert 1 \\rangle} \\qw   \\\\ \n",
      "   \\lstick{\\lvert 1 \\rangle} & \\gate{H} & \\ctrl{1} & \\gate{H} & \\rstick{\\lvert 1 \\rangle} \\qw   \\\\ \n",
      "   \\lstick{\\lvert 0 \\rangle} & \\gate{H} & \\gate{Z} & \\gate{H} & \\rstick{\\lvert 1 \\rangle} \\qw   \\\\ \n",
      "   \\lstick{\\lvert 1 \\rangle} & \\gate{H} & \\ctrl{1} & \\gate{H} & \\rstick{\\lvert 1 \\rangle} \\qw   \\\\ \n",
      "   \\lstick{\\lvert 1 \\rangle} & \\gate{H} & \\gate{Z} & \\gate{H} & \\rstick{\\lvert 0 \\rangle} \\qw \n",
      "}\n"
     ]
    },
    {
     "data": {
      "text/html": [
       "<a class=\"ProveItLink\" href=\"__pv_it/6752c1da9c08f28144ca25b92033de10fb439b2e0/expr.ipynb\"><img src=\"data:image/png;base64,iVBORw0KGgoAAAANSUhEUgAAAO8AAAE7BAMAAADHhssHAAAAMFBMVEX///8QEBBUVFRERESYmJgi\n",
       "IiLu7u6qqqoyMjJmZmbMzMyIiIi6urp2dnbc3NwAAADV54WuAAAAAXRSTlMAQObYZgAAAAlwSFlz\n",
       "AAAOxAAADsQBlSsOGwAABhdJREFUeNrtnc9vG0UUx18b20n8I4tUISEOJLhSBfRQQy8IJGqQOBN6\n",
       "KDdYKlXigvCVQ5QQDtxqXxA9ILCQOMequAAH8h/EEgcOBcVS/4CGtvlRGmRmZ8b11H5je2cyr6Z+\n",
       "T7KSaOP9dHdnf/jTb94AWCvqDhSMrcF37IFLRQM/T7CWvdFrmA5wR33Jk4CX9NemeP2pvp1rUoBL\n",
       "2+rrGwpcuvUdzDeowH/93IHPFfgruNaBVSLwQi33IWQlOLMKpQr8YQHf7G7G7yxvxpODCxeOzmVe\n",
       "PDqHg98F+B1KtQQ8twLzB3DbtsVH4vVsqi2ONgBOrVq2+DWA9XipkoCjBhQPYaGDg/P/isH4IBV4\n",
       "qw1wp2EBi1Xt1OB6Av5MgO/DfBsHl44BMoco+OszHRS8K4bQezUcnEvAVVhLwHfakH8Iw6NLvW1B\n",
       "rGzuAANnu91/UHBdvC7FOHhJ7MCtVjK6FFj8+C0Ojir6gA2Bd7vdfRR8rzcqbOA2LG4nu7oNRbHF\n",
       "PwzdGuTPO5fL5QsN7A6AlAQX98vl8oOBde31drUA77Qgv6IG17w4iGv4Fu+KS9pvNWyL62J9MbLF\n",
       "JXEACodgH1zrtWREidOpAhlxEK/j4EcHbOJd3R8VGPiiGHhxcg6JC8gzsLgByamFgZMD9hykGVxy\n",
       "VGzYwG8D3IDkqiEumR/Ax015MUHAydFPhh52On1/pomBxSGUpzIOztZyz0NynRTgT399BeTlEwHL\n",
       "A3aMgyP8AiJHxbYNnLt1synPXX1blDcMZL3Z5IDtpQJ/lIyK0bfF5F7YA7+Fgq/W77ZOX7rXmhyc\n",
       "e6l7Hs523xwJnus8Auc20t8WI+cHgU/6TyCFKiX4J/H6RW88UIAL+jSo+D1lpgef0ONtMPC4TxJR\n",
       "oE8SqXcJWTGYwQxmMINnF2y/LUa2m19owRbZfi/0E8iJgF0EmzPYV7A5g30FmxfYR7D5gL0Em1py\n",
       "6u/Ncn11GBxQsKklO1XIvR8jWxxOsKkl3wAsvIDt6nCCTS1ZER+Dmxg4nGCL9Mm4eIwOrnCCrbfC\n",
       "3SoKDijY1K9mHgKm0QIKNr0l6w30PA4o2NSS4l11pY/oBJtasiXe0UDAAQWbXLIk/jnFKgIOKNjk\n",
       "kmtXxJtiBBxQsMklX3Qg/yU2uAIKtmTJ4v7F15fvD4ODCjbvBwFXweYNdhVszmBfwfb/frydwk8S\n",
       "XFxcXFxc01ecYOMEmwOYE2ycYBsn2MaAOcF2coJN6zVOsHGCjRNsnGBLL9hGb3FAweYN5gTbrIMh\n",
       "fXQu4ugcgxnMYAYzOCyYE2ycYHMADwg2+DEmTLDlr4AWbLmX6zGQJdiu3jgALdjEZ7sYyBJsUBBg\n",
       "JdgUmCrBJsFKsCkwVYJNgpVgU2CiBJsGr/XBRAk2Dc4aYJoEmwZLwabBNAk2DZaCTYOJEmwKLAWb\n",
       "BhMl2BRYCjYFpkqwKfDt/uCiSrApsBJsZ5cvt8gSbKdf3T/PCTa6BwFOsM3G4+0UgkcINtsHlYij\n",
       "c1xcXFxcgcUdJ9hOFuwi2JzB05JgSy3YvMA+gs0H7CXYRoMDCrYxWxxOsI0BhxNsulwSbH6CTZVT\n",
       "gs1PsGm95pJgswu2QXBfsE0aJDMEmxWMCLZBs9cXbJNG5wzBZjV7joJt9K4OKNhGD66Agk2XU4LN\n",
       "S7BZb7ehBdtoMCfYTlCweYM5wTbrYE6wMZjBDGYwg6cQ/KT++4cTbNyDzRHcF2y0PdgMwUbbg80Q\n",
       "bLQ92AzBRtuDzRBspD3YTMFG2oPNFGykPdhMwfb4n4hOItj0CnsJNlfB9vifiE4k2NSv9hJsroKN\n",
       "tgebIdhoe7CZgo20B5sp2Eh7sHGCjRNswAk2bv7Gzd+4uLi4uGaqODrH0TkHMEfnODo3zuyNAXN0\n",
       "zmb2piQ6F7j5m9/fpqpya/7G0TmOzgFH5zg6BxydoxBs1vXy9KUMZjCDGczgpxXMzd84OucAfqLN\n",
       "3/qzK9A2fzNmV6Bt/mbMrkDb/M2YXYG2+ZsxuwJp8zdzdgXS5m/m7Aqkzd/M2RVIm7+ZsyvQNn8z\n",
       "Zlegbf5mzK5A2/zNnF2BtPmbObsCafM3nr6Uo3PA0bmnJsH2H8/W80V7FQn7AAAAAElFTkSuQmCC\n",
       "\" style=\"display:inline;vertical-align:middle;\" /></a>"
      ],
      "text/plain": [
       " [INPUT](|0〉)  & [GATE](H)  & CONTROL MULTI_QUBIT_GATE {1, 2}  & [GATE](H)  & [OUTPUT](|0〉)   \\\\ \n",
       "   [INPUT](|0〉)  & [GATE](H)  & Z MULTI_QUBIT_GATE {1, 2}  & [GATE](H)  & [OUTPUT](|0〉)   \\\\ \n",
       "   [INPUT](|0〉)  & [GATE](H)  & CONTROL MULTI_QUBIT_GATE {3, 4}  & [GATE](H)  & [OUTPUT](|0〉)   \\\\ \n",
       "   [INPUT](|1〉)  & [GATE](H)  & Z MULTI_QUBIT_GATE {3, 4}  & [GATE](H)  & [OUTPUT](|1〉)   \\\\ \n",
       "   [INPUT](|1〉)  & [GATE](H)  & CONTROL MULTI_QUBIT_GATE {5, 6}  & [GATE](H)  & [OUTPUT](|1〉)   \\\\ \n",
       "   [INPUT](|0〉)  & [GATE](H)  & Z MULTI_QUBIT_GATE {5, 6}  & [GATE](H)  & [OUTPUT](|1〉)   \\\\ \n",
       "   [INPUT](|1〉)  & [GATE](H)  & CONTROL MULTI_QUBIT_GATE {7, 8}  & [GATE](H)  & [OUTPUT](|1〉)   \\\\ \n",
       "   [INPUT](|1〉)  & [GATE](H)  & Z MULTI_QUBIT_GATE {7, 8}  & [GATE](H)  & [OUTPUT](|0〉)"
      ]
     },
     "execution_count": 43,
     "metadata": {},
     "output_type": "execute_result"
    }
   ],
   "source": [
    "Circuit(ExprTuple(Input(ket0), Gate(H), MultiQubitGate(CONTROL, Set(one, two)), Gate(H), Output(ket0)), \n",
    "        ExprTuple(Input(ket0), Gate(H), MultiQubitGate(Z, Set(one, two)), Gate(H), Output(ket0)),\n",
    "        ExprTuple(Input(ket0), Gate(H), MultiQubitGate(CONTROL, Set(three, four)), Gate(H), Output(ket0)), \n",
    "        ExprTuple(Input(ket1), Gate(H), MultiQubitGate(Z, Set(three, four)), Gate(H), Output(ket1)),\n",
    "        ExprTuple(Input(ket1), Gate(H), MultiQubitGate(CONTROL, Set(five, six)), Gate(H), Output(ket1)), \n",
    "        ExprTuple(Input(ket0), Gate(H), MultiQubitGate(Z, Set(five, six)), Gate(H), Output(ket1)),\n",
    "        ExprTuple(Input(ket1), Gate(H), MultiQubitGate(CONTROL, Set(seven, eight)), Gate(H), Output(ket1)), \n",
    "        ExprTuple(Input(ket1), Gate(H), MultiQubitGate(Z, Set(seven, eight)), Gate(H), Output(ket0)))\n",
    "# Intermediate step to show the congruence of a switched CX gate"
   ]
  },
  {
   "cell_type": "code",
   "execution_count": 44,
   "metadata": {},
   "outputs": [
    {
     "name": "stdout",
     "output_type": "stream",
     "text": [
      " [INPUT](|0〉)  & [GATE](H)  & Z MULTI_QUBIT_GATE {1, 2}  & [GATE](H)  & [OUTPUT](|0〉)   \\\\ \n",
      "   [INPUT](|0〉)  & [GATE](H)  & CONTROL MULTI_QUBIT_GATE {1, 2}  & [GATE](H)  & [OUTPUT](|0〉)   \\\\ \n",
      "   [INPUT](|0〉)  & [GATE](H)  & Z MULTI_QUBIT_GATE {3, 4}  & [GATE](H)  & [OUTPUT](|1〉)   \\\\ \n",
      "   [INPUT](|1〉)  & [GATE](H)  & CONTROL MULTI_QUBIT_GATE {3, 4}  & [GATE](H)  & [OUTPUT](|1〉)   \\\\ \n",
      "   [INPUT](|1〉)  & [GATE](H)  & Z MULTI_QUBIT_GATE {5, 6}  & [GATE](H)  & [OUTPUT](|1〉)   \\\\ \n",
      "   [INPUT](|0〉)  & [GATE](H)  & CONTROL MULTI_QUBIT_GATE {5, 6}  & [GATE](H)  & [OUTPUT](|0〉)   \\\\ \n",
      "   [INPUT](|1〉)  & [GATE](H)  & Z MULTI_QUBIT_GATE {7, 8}  & [GATE](H)  & [OUTPUT](|0〉)   \\\\ \n",
      "   [INPUT](|1〉)  & [GATE](H)  & CONTROL MULTI_QUBIT_GATE {7, 8}  & [GATE](H)  & [OUTPUT](|1〉)\n",
      "\\Qcircuit@C=1em @R=.7em{\n",
      " \\lstick{\\lvert 0 \\rangle} & \\gate{H} & \\gate{Z} \\qwx[1] & \\gate{H} & \\rstick{\\lvert 0 \\rangle} \\qw   \\\\ \n",
      "   \\lstick{\\lvert 0 \\rangle} & \\gate{H} & \\control \\qw & \\gate{H} & \\rstick{\\lvert 0 \\rangle} \\qw   \\\\ \n",
      "   \\lstick{\\lvert 0 \\rangle} & \\gate{H} & \\gate{Z} \\qwx[1] & \\gate{H} & \\rstick{\\lvert 1 \\rangle} \\qw   \\\\ \n",
      "   \\lstick{\\lvert 1 \\rangle} & \\gate{H} & \\control \\qw & \\gate{H} & \\rstick{\\lvert 1 \\rangle} \\qw   \\\\ \n",
      "   \\lstick{\\lvert 1 \\rangle} & \\gate{H} & \\gate{Z} \\qwx[1] & \\gate{H} & \\rstick{\\lvert 1 \\rangle} \\qw   \\\\ \n",
      "   \\lstick{\\lvert 0 \\rangle} & \\gate{H} & \\control \\qw & \\gate{H} & \\rstick{\\lvert 0 \\rangle} \\qw   \\\\ \n",
      "   \\lstick{\\lvert 1 \\rangle} & \\gate{H} & \\gate{Z} \\qwx[1] & \\gate{H} & \\rstick{\\lvert 0 \\rangle} \\qw   \\\\ \n",
      "   \\lstick{\\lvert 1 \\rangle} & \\gate{H} & \\control \\qw & \\gate{H} & \\rstick{\\lvert 1 \\rangle} \\qw \n",
      "}\n"
     ]
    },
    {
     "data": {
      "text/html": [
       "<a class=\"ProveItLink\" href=\"__pv_it/ee94edb75c24ab2bdee87a79938e55b1c1b3936e0/expr.ipynb\"><img src=\"data:image/png;base64,iVBORw0KGgoAAAANSUhEUgAAAO8AAAE7BAMAAADHhssHAAAAMFBMVEX///8QEBBUVFRERESYmJgi\n",
       "IiLu7u6qqqoyMjJmZmbMzMyIiIi6urp2dnbc3NwAAADV54WuAAAAAXRSTlMAQObYZgAAAAlwSFlz\n",
       "AAAOxAAADsQBlSsOGwAABetJREFUeNrtnU9vG0UYxl8ax0kcO65UISEOJLhSBfRQl14QSCQgcSb0\n",
       "UG6wVKrEBeErhyohHLjVviB6QGAhcY5VcQEO5BvEEgcOBcUSH6Chbf41QWZ2ZxMP9jvr7p95NyjP\n",
       "K1lOZK9/mZ3Znd2fnoyJrFXtD5Xtle2TF4a32KYkVR36fdvySpV7C/sJpwPc008lEfBc+NxWjz/0\n",
       "jxNtCXBlQz+/rsGV+9/SVEsK/OdPPfpMg7+kWz1aFgJPN4of0GQALixTpU6/W8D3+mve2/Nr3ij4\n",
       "mb/Xas3lUfDslf1LhRf3L/Hgd4h+o0rDB08s0NQu/WVr8b56PMu1eHOJiu95TIurq+qvWra0+FWi\n",
       "FW+u7oOrLSrv0XSPB5f+UYPxgAN/TTT9Arer17tED1oWsPqozQbd8cGfKvBjmury4MoRUWGPAy8Q\n",
       "LbY58JYaQu82eHDxINhVt33wgy6VDml0dOnNptWHTexy4DbNHLGDq6keix4PnlM7cL3jjy4NVr9+\n",
       "w4Or9bDDmFG9tcSCHx2PChu4SzMb/q7uUlm1+PuRCUAPoeu12pXW0Ayg31o4HN4iAJd3arXaAfeK\n",
       "v6sVeLNDpQU9uKZUJ97mW7yluvHXBtvilRZ7HFeeqENqj+yDa6Xhjyh1ONWpoDrxDg8+6bARcPmh\n",
       "PtMPgwejggNfUwPP848hdQI5TzOr5B9aHNjvsOfYM9e62qLFgINRsWoDv0V0l/yzhjplvk8ftYOT\n",
       "CQP2e98feqPgOfXnlJcYsOrC4FDmwZON4vPknycV+JNfXqHg9MmAgw474sC3bqiNPAYcjIoNG7h4\n",
       "/147OHbDaTGYMBjwpN9h2xz48x6VvuAG14f+qIieFv258Bj8Jgu+2XzYObf4qDMKntm59tr841Fw\n",
       "8aX+ZbrYfyMSPNE7ARdXJS8EPh5cgcwuSYJ/VI+fw8aLXHPNhhdY9TN5eXsK7yRi7xKxAhhggAEG\n",
       "+OyC7dOiFexasFnBrq9AMgEnEWyJwWkFW2JwWsGWCpxGsKUBpxJs0WCHgm1Mi90JtjFgd4ItrO8u\n",
       "9FiwO8Gma7Lff8KC3Qm2UK/1+zss2KFgs5VrwaarqT7PY1rsULBF72qHgi16cDkUbGF9daHNgR0K\n",
       "Nmu5FmzRYIeCLQrsVLBFt9ihYEsNTirYEoPTCrbE4Iwub52Bx91JkKM7CRQKhUKhTl8hwYYEWwJw\n",
       "rgm20g3KJcF28+4u5ZJgo1kFziPBFoDzSLAF4BwSbCFYPsEWguUTbCFYPsEWgnNIsGlwDgk2Dc4h\n",
       "wabBOSTYNDiHBNu5qzuXkWCTuxBAgu1sXN6eQjDZzZ7tRqWK6BzAAAMMMMBuwUiwIcGWPsFGP3iC\n",
       "CbaBYCu+3PRILMFmCDZ1b+eRWILNEGwaLJVgMwSbBksl2AzBpsFCCTZTsGmwUILNFGwhWCbBZgq2\n",
       "ECyTYDMFWwgWSrAZgi0ECyXYDMGmwVIJNlOwBWCpBJsp2C7OX++IJdhSCbZoMBJsGQq21GAk2M46\n",
       "mOJH56qIzqFQKBTKsbhDgi1bcBLB9r9PsMUWbBkl2OILtowSbPEFW0YJtviCLaMEW3zBllGCLb5g\n",
       "yyjBFl+wZZRgiy/YMkqw/VewDYMHgm0EfJxgGwIbgs0KZgTbsNkbCLaReeo4wTY0GxmCzWr2Egq2\n",
       "jBJs8QVbVgm22IItqwRbbMGGBJuYYEOCTUywIcEmJ9iQYAMYYIABBjgvcPwEWxUJtowFW2Iw1mDD\n",
       "GmzjBNuYFmMNNhOMNdgOYwk2XbYgWaRgs6/B9lSCLTI6Fy3YsAYb1mAjJNiQYEsERoLttIGx+BsK\n",
       "hUKhUOOnRUTnxMweonMJzZ5sdM4we7LROcPsyUbnDLMnG50zzJ5odM40e6LROdPsiUbnTLOX4H9T\n",
       "9VvTfn1p/P9NzejrS2Wjc4bZk43OmWZPNDpnmj3R6By+vhTROUJ0Dl9fSsiBAAwwwAADnAMYi78h\n",
       "OofF3wiLv2HxNyz+hsXfxgu26F2Nxd84MBZ/e0rBFgVGdC5TwZYYjOhcwjsJSnMn8S9TUvNjuNzO\n",
       "OAAAAABJRU5ErkJggg==\n",
       "\" style=\"display:inline;vertical-align:middle;\" /></a>"
      ],
      "text/plain": [
       " [INPUT](|0〉)  & [GATE](H)  & Z MULTI_QUBIT_GATE {1, 2}  & [GATE](H)  & [OUTPUT](|0〉)   \\\\ \n",
       "   [INPUT](|0〉)  & [GATE](H)  & CONTROL MULTI_QUBIT_GATE {1, 2}  & [GATE](H)  & [OUTPUT](|0〉)   \\\\ \n",
       "   [INPUT](|0〉)  & [GATE](H)  & Z MULTI_QUBIT_GATE {3, 4}  & [GATE](H)  & [OUTPUT](|1〉)   \\\\ \n",
       "   [INPUT](|1〉)  & [GATE](H)  & CONTROL MULTI_QUBIT_GATE {3, 4}  & [GATE](H)  & [OUTPUT](|1〉)   \\\\ \n",
       "   [INPUT](|1〉)  & [GATE](H)  & Z MULTI_QUBIT_GATE {5, 6}  & [GATE](H)  & [OUTPUT](|1〉)   \\\\ \n",
       "   [INPUT](|0〉)  & [GATE](H)  & CONTROL MULTI_QUBIT_GATE {5, 6}  & [GATE](H)  & [OUTPUT](|0〉)   \\\\ \n",
       "   [INPUT](|1〉)  & [GATE](H)  & Z MULTI_QUBIT_GATE {7, 8}  & [GATE](H)  & [OUTPUT](|0〉)   \\\\ \n",
       "   [INPUT](|1〉)  & [GATE](H)  & CONTROL MULTI_QUBIT_GATE {7, 8}  & [GATE](H)  & [OUTPUT](|1〉)"
      ]
     },
     "execution_count": 44,
     "metadata": {},
     "output_type": "execute_result"
    }
   ],
   "source": [
    "Circuit(ExprTuple(Input(ket0), Gate(H), MultiQubitGate(Z, Set(one, two)), Gate(H), Output(ket0)), \n",
    "        ExprTuple(Input(ket0), Gate(H), MultiQubitGate(CONTROL, Set(one, two)), Gate(H), Output(ket0)),\n",
    "        ExprTuple(Input(ket0), Gate(H), MultiQubitGate(Z, Set(three, four)), Gate(H), Output(ket1)), \n",
    "        ExprTuple(Input(ket1), Gate(H), MultiQubitGate(CONTROL, Set(three, four)), Gate(H), Output(ket1)),\n",
    "        ExprTuple(Input(ket1), Gate(H), MultiQubitGate(Z, Set(five, six)), Gate(H), Output(ket1)), \n",
    "        ExprTuple(Input(ket0), Gate(H), MultiQubitGate(CONTROL, Set(five, six)), Gate(H), Output(ket0)),\n",
    "        ExprTuple(Input(ket1), Gate(H), MultiQubitGate(Z, Set(seven, eight)), Gate(H), Output(ket0)), \n",
    "        ExprTuple(Input(ket1), Gate(H), MultiQubitGate(CONTROL, Set(seven, eight)), Gate(H), Output(ket1)))\n",
    "# using cell 24 we can show that this is equivalent to cell 26"
   ]
  },
  {
   "cell_type": "code",
   "execution_count": 45,
   "metadata": {},
   "outputs": [
    {
     "name": "stdout",
     "output_type": "stream",
     "text": [
      " [INPUT](|0〉)  & [GATE](H)  & CONTROL MULTI_QUBIT_GATE {1, 2}  & [GATE](H)  & [OUTPUT](|0〉)   \\\\ \n",
      "   [INPUT](|0〉)  & --  & X MULTI_QUBIT_GATE {1, 2}  & --  & [OUTPUT](|0〉)   \\\\ \n",
      "   [INPUT](|0〉)  & [GATE](H)  & CONTROL MULTI_QUBIT_GATE {3, 4}  & [GATE](H)  & [OUTPUT](|0〉)   \\\\ \n",
      "   [INPUT](|1〉)  & --  & X MULTI_QUBIT_GATE {3, 4}  & --  & [OUTPUT](|1〉)   \\\\ \n",
      "   [INPUT](|1〉)  & [GATE](H)  & CONTROL MULTI_QUBIT_GATE {5, 6}  & [GATE](H)  & [OUTPUT](|1〉)   \\\\ \n",
      "   [INPUT](|0〉)  & --  & X MULTI_QUBIT_GATE {5, 6}  & --  & [OUTPUT](|1〉)   \\\\ \n",
      "   [INPUT](|1〉)  & [GATE](H)  & CONTROL MULTI_QUBIT_GATE {7, 8}  & [GATE](H)  & [OUTPUT](|1〉)   \\\\ \n",
      "   [INPUT](|1〉)  & --  & X MULTI_QUBIT_GATE {7, 8}  & --  & [OUTPUT](|0〉)\n",
      "\\Qcircuit@C=1em @R=.7em{\n",
      " \\lstick{\\lvert 0 \\rangle} & \\gate{H} & \\ctrl{1} & \\gate{H} & \\rstick{\\lvert 0 \\rangle} \\qw   \\\\ \n",
      "   \\lstick{\\lvert 0 \\rangle} & \\qw & \\gate{X} & \\qw & \\rstick{\\lvert 0 \\rangle} \\qw   \\\\ \n",
      "   \\lstick{\\lvert 0 \\rangle} & \\gate{H} & \\ctrl{1} & \\gate{H} & \\rstick{\\lvert 0 \\rangle} \\qw   \\\\ \n",
      "   \\lstick{\\lvert 1 \\rangle} & \\qw & \\gate{X} & \\qw & \\rstick{\\lvert 1 \\rangle} \\qw   \\\\ \n",
      "   \\lstick{\\lvert 1 \\rangle} & \\gate{H} & \\ctrl{1} & \\gate{H} & \\rstick{\\lvert 1 \\rangle} \\qw   \\\\ \n",
      "   \\lstick{\\lvert 0 \\rangle} & \\qw & \\gate{X} & \\qw & \\rstick{\\lvert 1 \\rangle} \\qw   \\\\ \n",
      "   \\lstick{\\lvert 1 \\rangle} & \\gate{H} & \\ctrl{1} & \\gate{H} & \\rstick{\\lvert 1 \\rangle} \\qw   \\\\ \n",
      "   \\lstick{\\lvert 1 \\rangle} & \\qw & \\gate{X} & \\qw & \\rstick{\\lvert 0 \\rangle} \\qw \n",
      "}\n"
     ]
    },
    {
     "data": {
      "text/html": [
       "<a class=\"ProveItLink\" href=\"__pv_it/adac62d8191313bba87d15c25be25d7f2dde0a4b0/expr.ipynb\"><img src=\"data:image/png;base64,iVBORw0KGgoAAAANSUhEUgAAAPIAAAE7BAMAAAAV1sFfAAAAMFBMVEX///8QEBBUVFRERESYmJgi\n",
       "IiLu7u6qqqoyMjJmZmbMzMyIiIi6urp2dnbc3NwAAADV54WuAAAAAXRSTlMAQObYZgAAAAlwSFlz\n",
       "AAAOxAAADsQBlSsOGwAABSpJREFUeNrtnb1Pk1EUxg8C5UMqLiZuIibGjwEc1UT9D0AXR6qJo5HE\n",
       "ycGEzU2YnIxpTJxh1gFGN7uZaBOa+AdYRMCPaL21vNfTet/7hfeU4nOShlOac3992/fjvk+enkuU\n",
       "G+ON9qiTO2JqDKN0PK8nqpEn11p/RoXIDFdtpf1lGTLDqbT4/hkNLYmRM5xKH9GdGs2KkTNclQZm\n",
       "qThNb82jHJ76cnrg5JfTIWRbDcNVqX+ChrbpQ877H18g6psN22ZLDcNVaXyJxnZouGYeZblC9HEp\n",
       "jGypYbgq3VPpZxqqmEdZXyOamTeOMnL9SnANw1XpY4VGv9Pfu1hrlEX1uFoyjjLXaJRDaxiulf4g\n",
       "emomb6rHMeN+WlTn5dnAGo5Tm1+hMfUmnrdeYqf75tOxrcnJya+dr+RHbk1df9oZ7vdXPrRD9NC4\n",
       "zcVv6ijZMb7/YTXedmANx6ndfJoG1AiPjeRhVdu/HfZpW2o4Th3aR2lkgY5MG8nj6t99CxS0h9lq\n",
       "GE6dzm7SrTIV543kNyutw9N4VG1cCq5hOJXefXWOaNB8VlhXW7W6lnPerofXMNzuZYsemEeZax6a\n",
       "FEa21TBcll4xjVI40zhPpxqXQ8j2GobbTQsLEVfJevTMoInbTQ9fEyU3cS93pyckQ87HpSb/o1lv\n",
       "MrLzfqGe6B7DHanGBRlkkEEGGeS9htS1MJXe1j1yvhKXhOylxCUheylxqchuJS4V2a3EufS2qxuV\n",
       "wtzx+VCyhxLn2uZDO0T3a8Hb7KHEucijm3RkIvzT9lDinN/zYu12xPfsocQ5yTNPJiLIHkqck9z3\n",
       "qRRJdilxdr1NHZjfKbjGS4lzbvOhrZjj2UOJc5KfTa1FkD2UOBd5pLw8HUH2UOJc5Hc0+DPm7OlW\n",
       "4hzk4hoN/Ighu5U4O7lwsblTlyKvknYlzkoevbBRpteNG7FkqxKXcmZgV+JSku1KXBJyDO4AzXp7\n",
       "6x4DgUAgEIj9EfDEwRMXTYYnDp64jlHgiWsLeOLgiYMnLlCJgycOnri9kuGJAxluPJBBBhlkkHuZ\n",
       "DE8cPHGOaFfi6EVJ0hOX4apUOLtYIjlPnMY138SqSsU8cRqXpWKeOI3LUjFPnMZlqZgnTuOyVMwT\n",
       "p3E6lfLEaZxOpTxxGqdTKU+cxulUyhOncVkq5onTuCyV88RlOJWeOnFjRdATl+HgiZOaGcAT9//M\n",
       "enuMDDceAoFAIPZFwBMHT1w02UuJS0Z2KnGJyB5KXCJPnIcSl8gT56HEJfLEeShxiTxxHkpcIk+c\n",
       "hxKXyBOXq8R1jML8bd7ONEuNTYnrUO2Yv81b6TPW1DvINiUukSfOQ4lL5InzUOJSeeLcSlwqT5xb\n",
       "iYMnDp64aDI8cfuPDE8cyCCDDDLIPUuGJw6eOEd0tU/cHyVOuE8cU+KE+8QxJU64TxxT4oT7xDEl\n",
       "TrhPHFPihPvEMSVOuE8cU+Laf50aQNaeuBjy379ODXDWaU9cjBuvC33imBIn3CeOK3HCfeKYEifc\n",
       "Jw6eOHjiEpLhieslMjxxCAQCgfjPA248uPGiyXDjwY3XMQrceG1xYNx4yTvUefwuNlGHOrjxSnDj\n",
       "sVHgxvPbZo+ZAdx4IuR/NOuFJ04yQAYZZJBBBllCb5NSyvYTOV+JS0L2UuKSkLvaoe7PWhHCHerY\n",
       "WhHCHerYWhHCHerYWhHCHerYWhHCHerYWhHCHerYWhHCHerYWhHCHerYWhHCHerYWhHCHerYWhHC\n",
       "Her4WhHCHerYWhHCHeqwaivceAnJcON15x7jF+jthLZQrYIGAAAAAElFTkSuQmCC\n",
       "\" style=\"display:inline;vertical-align:middle;\" /></a>"
      ],
      "text/plain": [
       " [INPUT](|0〉)  & [GATE](H)  & CONTROL MULTI_QUBIT_GATE {1, 2}  & [GATE](H)  & [OUTPUT](|0〉)   \\\\ \n",
       "   [INPUT](|0〉)  & --  & X MULTI_QUBIT_GATE {1, 2}  & --  & [OUTPUT](|0〉)   \\\\ \n",
       "   [INPUT](|0〉)  & [GATE](H)  & CONTROL MULTI_QUBIT_GATE {3, 4}  & [GATE](H)  & [OUTPUT](|0〉)   \\\\ \n",
       "   [INPUT](|1〉)  & --  & X MULTI_QUBIT_GATE {3, 4}  & --  & [OUTPUT](|1〉)   \\\\ \n",
       "   [INPUT](|1〉)  & [GATE](H)  & CONTROL MULTI_QUBIT_GATE {5, 6}  & [GATE](H)  & [OUTPUT](|1〉)   \\\\ \n",
       "   [INPUT](|0〉)  & --  & X MULTI_QUBIT_GATE {5, 6}  & --  & [OUTPUT](|1〉)   \\\\ \n",
       "   [INPUT](|1〉)  & [GATE](H)  & CONTROL MULTI_QUBIT_GATE {7, 8}  & [GATE](H)  & [OUTPUT](|1〉)   \\\\ \n",
       "   [INPUT](|1〉)  & --  & X MULTI_QUBIT_GATE {7, 8}  & --  & [OUTPUT](|0〉)"
      ]
     },
     "execution_count": 45,
     "metadata": {},
     "output_type": "execute_result"
    }
   ],
   "source": [
    "Circuit(ExprTuple(Input(ket0), Gate(H), MultiQubitGate(CONTROL, Set(one, two)), Gate(H), Output(ket0)), \n",
    "        ExprTuple(Input(ket0), Gate(IdentityOp()), MultiQubitGate(X, Set(one, two)), Gate(IdentityOp()), Output(ket0)),\n",
    "        ExprTuple(Input(ket0), Gate(H), MultiQubitGate(CONTROL, Set(three, four)), Gate(H), Output(ket0)), \n",
    "        ExprTuple(Input(ket1), Gate(IdentityOp()), MultiQubitGate(X, Set(three, four)), Gate(IdentityOp()), Output(ket1)),\n",
    "        ExprTuple(Input(ket1), Gate(H), MultiQubitGate(CONTROL, Set(five, six)), Gate(H), Output(ket1)), \n",
    "        ExprTuple(Input(ket0), Gate(IdentityOp()), MultiQubitGate(X, Set(five, six)), Gate(IdentityOp()), Output(ket1)),\n",
    "        ExprTuple(Input(ket1), Gate(H), MultiQubitGate(CONTROL, Set(seven, eight)), Gate(H), Output(ket1)), \n",
    "        ExprTuple(Input(ket1), Gate(IdentityOp()), MultiQubitGate(X, Set(seven, eight)), Gate(IdentityOp()), Output(ket0)))\n",
    "# using cell 26, we apply instantiation to return to the X gates"
   ]
  },
  {
   "cell_type": "code",
   "execution_count": 46,
   "metadata": {},
   "outputs": [
    {
     "name": "stdout",
     "output_type": "stream",
     "text": [
      " [INPUT](|0〉)  & --  & X MULTI_QUBIT_GATE {1, 2}  & --  & [OUTPUT](|0〉)   \\\\ \n",
      "   [INPUT](|0〉)  & [GATE](H)  & CONTROL MULTI_QUBIT_GATE {1, 2}  & [GATE](H)  & [OUTPUT](|0〉)   \\\\ \n",
      "   [INPUT](|0〉)  & --  & X MULTI_QUBIT_GATE {3, 4}  & --  & [OUTPUT](|1〉)   \\\\ \n",
      "   [INPUT](|1〉)  & [GATE](H)  & CONTROL MULTI_QUBIT_GATE {3, 4}  & [GATE](H)  & [OUTPUT](|1〉)   \\\\ \n",
      "   [INPUT](|1〉)  & --  & X MULTI_QUBIT_GATE {5, 6}  & --  & [OUTPUT](|1〉)   \\\\ \n",
      "   [INPUT](|0〉)  & [GATE](H)  & CONTROL MULTI_QUBIT_GATE {5, 6}  & [GATE](H)  & [OUTPUT](|0〉)   \\\\ \n",
      "   [INPUT](|1〉)  & --  & X MULTI_QUBIT_GATE {7, 8}  & --  & [OUTPUT](|0〉)   \\\\ \n",
      "   [INPUT](|1〉)  & [GATE](H)  & CONTROL MULTI_QUBIT_GATE {7, 8}  & [GATE](H)  & [OUTPUT](|1〉)\n",
      "\\Qcircuit@C=1em @R=.7em{\n",
      " \\lstick{\\lvert 0 \\rangle} & \\qw & \\gate{X} \\qwx[1] & \\qw & \\rstick{\\lvert 0 \\rangle} \\qw   \\\\ \n",
      "   \\lstick{\\lvert 0 \\rangle} & \\gate{H} & \\control \\qw & \\gate{H} & \\rstick{\\lvert 0 \\rangle} \\qw   \\\\ \n",
      "   \\lstick{\\lvert 0 \\rangle} & \\qw & \\gate{X} \\qwx[1] & \\qw & \\rstick{\\lvert 1 \\rangle} \\qw   \\\\ \n",
      "   \\lstick{\\lvert 1 \\rangle} & \\gate{H} & \\control \\qw & \\gate{H} & \\rstick{\\lvert 1 \\rangle} \\qw   \\\\ \n",
      "   \\lstick{\\lvert 1 \\rangle} & \\qw & \\gate{X} \\qwx[1] & \\qw & \\rstick{\\lvert 1 \\rangle} \\qw   \\\\ \n",
      "   \\lstick{\\lvert 0 \\rangle} & \\gate{H} & \\control \\qw & \\gate{H} & \\rstick{\\lvert 0 \\rangle} \\qw   \\\\ \n",
      "   \\lstick{\\lvert 1 \\rangle} & \\qw & \\gate{X} \\qwx[1] & \\qw & \\rstick{\\lvert 0 \\rangle} \\qw   \\\\ \n",
      "   \\lstick{\\lvert 1 \\rangle} & \\gate{H} & \\control \\qw & \\gate{H} & \\rstick{\\lvert 1 \\rangle} \\qw \n",
      "}\n"
     ]
    },
    {
     "data": {
      "text/html": [
       "<a class=\"ProveItLink\" href=\"__pv_it/d998ae014348b87c2a10a7d3a813aa5bb0f9e37f0/expr.ipynb\"><img src=\"data:image/png;base64,iVBORw0KGgoAAAANSUhEUgAAAPIAAAE7BAMAAAAV1sFfAAAAMFBMVEX///8QEBBUVFRERESYmJgi\n",
       "IiLu7u6qqqoyMjJmZmbMzMyIiIi6urp2dnbc3NwAAADV54WuAAAAAXRSTlMAQObYZgAAAAlwSFlz\n",
       "AAAOxAAADsQBlSsOGwAABV5JREFUeNrtnU9vE0cYxt+Q4Pwhxr1U4kYIEgJ6ID2WSoFvkJQLx7iV\n",
       "ekRE4sQBKTduJKeeELIq9Qzn9kCOvdW3SmAplvoBcPiTQBF1x571MDGzO/PO7szE8LxSxBqY9+ex\n",
       "d727Pz0ZE3lUo3+0ehSrGmOPJ43clX8sRCJruI7cnG7FIWs4sVl//ohmd6KRRzixeZ9+7tJ6NPII\n",
       "16GZdaqv0N9c8qlr++3axplNLlnhOjS9RLMH9A97zicOie502XNWuA41dmjxkOa6XPLCKzq9xH+1\n",
       "Fa5Dt8Xma5pts9/n7e5PHu+zwnXoRZsW3hNnF8vIa78seZAVTm5+IHrIJk+9bHqShzgx/TYtiifx\n",
       "q/ynvkvJ/1p/T+wxGm74ls+K3fQee84n3vgczwondvMVmjkgesAmP7qy60FWOHFof0XzW3R6hUue\n",
       "bz1e8SArnPg4u0k/tqi+ySU/o5P/+Xx6jnBi89Yfl4lOcj/D6rs088GHPMJlpy26yyTXvhvs1E3P\n",
       "s+QAN9pc5ZEXvt1v0Z/9G77kVbVZ24p6ZTDAZZunrkclD3C/Z5cnka7DfHCf0VXvZN1jxJ8ryCCD\n",
       "DDLIIPudC3uBzp/2838v0DVDaLKmxmKQNVy+iQtCdjJxoch2ExeKbDdx0rddeXth5tzbCxxy0Rgn\n",
       "Eyeff0PcAU2t8+ZcMMbJxMkuj9tEL3Z45IIxTiZOdtnbJVrbNHaZ319lj3EycbLLtvi51jR22ej3\n",
       "W9wxTiZOdnklfr42vrZ18bm8zhzjaOIGDxffLC8vv+P5NuOYHsPESQ/zrzhKDo3Pf070O2COcTNx\n",
       "wy5zYuz0Ae/VLhjjZuKGXRrir6e2iLWHFY1xMnHDLn89kYen8aj64Sp7jJOJG3bZE7N6uut8lreO\n",
       "cTJxwy4bg0OTeOSiMU4mTnSpXex/Q+f733PIxWOcTJzPNZXrlUGxiQtJLjZxQchOJi4IOZhvq4js\n",
       "cb+Q3tGhUCgUCpW2kIlDJs5SSTNx9FszTSaudmm7SUkyceI+U5BTZOIkOUUmTpJTZOIkOUUmTpJT\n",
       "ZOIycoJMXEZOkInLyAkycRk5QSZOkpNk4obkJJm482dvPEEmLuaVATJxX85V74SRkcYDGWSQQQb5\n",
       "WJCRiUMmzpt81MSN1FgssjJxSo3FIWsmTqkxU5fqM3GaiVNqzPj8K8/EaSZOqTFjl8ozcZqJU2rM\n",
       "2KXyTJxm4pQaM3apPBOnmTilxoxdKs/EaSZOqbFxqzZ4WH0mTjNxSo0ZPUzlmTjNxCk1ZupSfSZO\n",
       "M3FKjZm6VJ+J003cSI2ZugTIxGkmbqTGTF0CZOLsJg6ZOGTivMnIxB0/MtJ4KBQKhZrYQiYOmThL\n",
       "OZm4YGSriQtEdjBxFnIFmbg8E2ebc/lMXJ6Js5HLZ+LyTJz1fS6dicszcVZy6Uxcnomzkktn4o6a\n",
       "OAZZZeJ8yJ+aOEayTmXifNJ4RSbOOufSmbg8E2cjV5CJyzFxNnIFmbgcE2chIxPHJSMTF4OMTNwk\n",
       "kZGJAxlkkEEG+ViQkYlDJs6bjHXisE7cWBesE3ekPpt14sa6aPk252RawZiideLG3JmWb3P2bcYx\n",
       "PW0PwzpxWCdOdUEmrvwVFDJxFbonZOKQiUOhUCgUKl4hjYc0nqWSpvE+OsDIaTzNAUZO42kOMHIa\n",
       "T3OAkdN4mgOMnMbTHGDkNJ7mACOn8TQHmPt7scG/tTXv92Ktcy79ra2R03iaA4ycxtMdYOQ0nuYA\n",
       "I6fx8K2tSOMFJCONN0H3GPHnCjLIIIMMMsh+50Kk8bjkTFJghbqwZKxQhxXqtC5YoU4vrFDnNgYr\n",
       "1GGFurEuSOOVv4JCGq9C64VMXOGY/wHuC4aWeGtEUgAAAABJRU5ErkJggg==\n",
       "\" style=\"display:inline;vertical-align:middle;\" /></a>"
      ],
      "text/plain": [
       " [INPUT](|0〉)  & --  & X MULTI_QUBIT_GATE {1, 2}  & --  & [OUTPUT](|0〉)   \\\\ \n",
       "   [INPUT](|0〉)  & [GATE](H)  & CONTROL MULTI_QUBIT_GATE {1, 2}  & [GATE](H)  & [OUTPUT](|0〉)   \\\\ \n",
       "   [INPUT](|0〉)  & --  & X MULTI_QUBIT_GATE {3, 4}  & --  & [OUTPUT](|1〉)   \\\\ \n",
       "   [INPUT](|1〉)  & [GATE](H)  & CONTROL MULTI_QUBIT_GATE {3, 4}  & [GATE](H)  & [OUTPUT](|1〉)   \\\\ \n",
       "   [INPUT](|1〉)  & --  & X MULTI_QUBIT_GATE {5, 6}  & --  & [OUTPUT](|1〉)   \\\\ \n",
       "   [INPUT](|0〉)  & [GATE](H)  & CONTROL MULTI_QUBIT_GATE {5, 6}  & [GATE](H)  & [OUTPUT](|0〉)   \\\\ \n",
       "   [INPUT](|1〉)  & --  & X MULTI_QUBIT_GATE {7, 8}  & --  & [OUTPUT](|0〉)   \\\\ \n",
       "   [INPUT](|1〉)  & [GATE](H)  & CONTROL MULTI_QUBIT_GATE {7, 8}  & [GATE](H)  & [OUTPUT](|1〉)"
      ]
     },
     "execution_count": 46,
     "metadata": {},
     "output_type": "execute_result"
    }
   ],
   "source": [
    "Circuit(ExprTuple(Input(ket0), Gate(IdentityOp()), MultiQubitGate(X, Set(one, two)), Gate(IdentityOp()), Output(ket0)), \n",
    "        ExprTuple(Input(ket0), Gate(H), MultiQubitGate(CONTROL, Set(one, two)), Gate(H), Output(ket0)),\n",
    "        ExprTuple(Input(ket0), Gate(IdentityOp()), MultiQubitGate(X, Set(three, four)), Gate(IdentityOp()), Output(ket1)), \n",
    "        ExprTuple(Input(ket1), Gate(H), MultiQubitGate(CONTROL, Set(three, four)), Gate(H), Output(ket1)),\n",
    "        ExprTuple(Input(ket1), Gate(IdentityOp()), MultiQubitGate(X, Set(five, six)), Gate(IdentityOp()), Output(ket1)), \n",
    "        ExprTuple(Input(ket0), Gate(H), MultiQubitGate(CONTROL, Set(five, six)), Gate(H), Output(ket0)),\n",
    "        ExprTuple(Input(ket1), Gate(IdentityOp()), MultiQubitGate(X, Set(seven, eight)), Gate(IdentityOp()), Output(ket0)), \n",
    "        ExprTuple(Input(ket1), Gate(H), MultiQubitGate(CONTROL, Set(seven, eight)), Gate(H), Output(ket1)))\n",
    "# using cell 27 we can show that cell 28 is congruent to this cell "
   ]
  },
  {
   "cell_type": "code",
   "execution_count": 47,
   "metadata": {},
   "outputs": [
    {
     "name": "stdout",
     "output_type": "stream",
     "text": [
      "Expected error: Operand contained in Circuit must be a MultiQubitGate, Gate, or a Literal imported from proveit.physics.quantum._common_  A_{1,1} is not\n"
     ]
    }
   ],
   "source": [
    "try:\n",
    "    Circuit(ExprRange(i, ExprTuple(ExprRange(h, Aih, one, m)), one, q),\n",
    "         ExprTuple(ExprRange(h, Dth, one, m)),\n",
    "         ExprRange(u, ExprTuple(ExprRange(h, Guh, one, m)), one, s)).latex()\n",
    "    assert False, \"Expected a TypeError error.\"\n",
    "except TypeError as e:\n",
    "    print(\"Expected error:\", e)"
   ]
  },
  {
   "cell_type": "code",
   "execution_count": 48,
   "metadata": {},
   "outputs": [],
   "source": [
    "%end demonstrations"
   ]
  },
  {
   "cell_type": "code",
   "execution_count": null,
   "metadata": {},
   "outputs": [],
   "source": []
  }
 ],
 "metadata": {
  "kernelspec": {
   "display_name": "Python 3",
   "language": "python",
   "name": "python3"
  },
  "language_info": {
   "codemirror_mode": {
    "name": "ipython",
    "version": 3
   },
   "file_extension": ".py",
   "mimetype": "text/x-python",
   "name": "python",
   "nbconvert_exporter": "python",
   "pygments_lexer": "ipython3",
   "version": "3.7.3"
  }
 },
 "nbformat": 4,
 "nbformat_minor": 1
}
