{
 "cells": [
  {
   "cell_type": "markdown",
   "metadata": {},
   "source": [
    "Demonstrations for context <a class=\"ProveItLink\" href=\"_context_.ipynb\">proveit.physics.quantum</a>\n",
    "========"
   ]
  },
  {
   "cell_type": "code",
   "execution_count": 1,
   "metadata": {},
   "outputs": [
    {
     "name": "stdout",
     "output_type": "stream",
     "text": [
      "self  _i_{_b, 1} MULTI_QUBIT_GATE _d_{_b, 1}, .._i_{_b, _a} MULTI_QUBIT_GATE _d_{_b, _a}.., _i_{_b, k} MULTI_QUBIT_GATE _d_{_b, k} repl_map  {_b: 1}\n",
      "self  _g_{_b, 1} MULTI_QUBIT_GATE _c_{_b, 1}, .._g_{_b, _a} MULTI_QUBIT_GATE _c_{_b, _a}.., _g_{_b, h} MULTI_QUBIT_GATE _c_{_b, h} repl_map  {_b: 1}\n",
      "self  _i_{_b, 1} MULTI_QUBIT_GATE _d_{_b, 1}, .._i_{_b, _a} MULTI_QUBIT_GATE _d_{_b, _a}.., _i_{_b, k} MULTI_QUBIT_GATE _d_{_b, k} repl_map  {_b: 1}\n",
      "self  _g_{_b, 1} MULTI_QUBIT_GATE _c_{_b, 1}, .._g_{_b, _a} MULTI_QUBIT_GATE _c_{_b, _a}.., _g_{_b, h} MULTI_QUBIT_GATE _c_{_b, h} repl_map  {_b: 1}\n",
      "self  _i_{_b, 1} MULTI_QUBIT_GATE _d_{_b, 1}, .._i_{_b, _a} MULTI_QUBIT_GATE _d_{_b, _a}.., _i_{_b, _k} MULTI_QUBIT_GATE _d_{_b, _k} repl_map  {_b: 1}\n",
      "self  _g_{_b, 1} MULTI_QUBIT_GATE _c_{_b, 1}, .._g_{_b, _a} MULTI_QUBIT_GATE _c_{_b, _a}.., _g_{_b, _l} MULTI_QUBIT_GATE _c_{_b, _l} repl_map  {_b: 1}\n",
      "self  _i_{_b, 1} MULTI_QUBIT_GATE _d_{_b, 1}, .._i_{_b, _a} MULTI_QUBIT_GATE _d_{_b, _a}.., _i_{_b, _k} MULTI_QUBIT_GATE _d_{_b, _k} repl_map  {_b: 1}\n",
      "self  _g_{_b, 1} MULTI_QUBIT_GATE _c_{_b, 1}, .._g_{_b, _a} MULTI_QUBIT_GATE _c_{_b, _a}.., _g_{_b, _l} MULTI_QUBIT_GATE _c_{_b, _l} repl_map  {_b: 1}\n",
      "self  A_{i, 1} MULTI_QUBIT_GATE R_{i, 1}, ..A_{i, j} MULTI_QUBIT_GATE R_{i, j}.., A_{i, k} MULTI_QUBIT_GATE R_{i, k} repl_map  {i: 1}\n",
      "self  C_{i, 1} MULTI_QUBIT_GATE Q_{i, 1}, ..C_{i, j} MULTI_QUBIT_GATE Q_{i, j}.., C_{i, h} MULTI_QUBIT_GATE Q_{i, h} repl_map  {i: 1}\n",
      "self  A_{i, 1} MULTI_QUBIT_GATE R_{i, 1}, ..A_{i, j} MULTI_QUBIT_GATE R_{i, j}.., A_{i, k} MULTI_QUBIT_GATE R_{i, k} repl_map  {i: 1}\n",
      "self  C_{i, 1} MULTI_QUBIT_GATE Q_{i, 1}, ..C_{i, j} MULTI_QUBIT_GATE Q_{i, j}.., C_{i, h} MULTI_QUBIT_GATE Q_{i, h} repl_map  {i: 1}\n",
      "self  _i_{_b, 1} MULTI_QUBIT_GATE _d_{_b, 1}, .._i_{_b, _a} MULTI_QUBIT_GATE _d_{_b, _a}.., _i_{_b, k} MULTI_QUBIT_GATE _d_{_b, k} repl_map  {_b: m}\n",
      "self  _g_{_b, 1} MULTI_QUBIT_GATE _c_{_b, 1}, .._g_{_b, _a} MULTI_QUBIT_GATE _c_{_b, _a}.., _g_{_b, h} MULTI_QUBIT_GATE _c_{_b, h} repl_map  {_b: m}\n",
      "self  _i_{_b, 1} MULTI_QUBIT_GATE _d_{_b, 1}, .._i_{_b, _a} MULTI_QUBIT_GATE _d_{_b, _a}.., _i_{_b, k} MULTI_QUBIT_GATE _d_{_b, k} repl_map  {_b: m}\n",
      "self  _g_{_b, 1} MULTI_QUBIT_GATE _c_{_b, 1}, .._g_{_b, _a} MULTI_QUBIT_GATE _c_{_b, _a}.., _g_{_b, h} MULTI_QUBIT_GATE _c_{_b, h} repl_map  {_b: m}\n",
      "self  _i_{_b, 1} MULTI_QUBIT_GATE _d_{_b, 1}, .._i_{_b, _a} MULTI_QUBIT_GATE _d_{_b, _a}.., _i_{_b, _k} MULTI_QUBIT_GATE _d_{_b, _k} repl_map  {_b: _j}\n",
      "self  _g_{_b, 1} MULTI_QUBIT_GATE _c_{_b, 1}, .._g_{_b, _a} MULTI_QUBIT_GATE _c_{_b, _a}.., _g_{_b, _l} MULTI_QUBIT_GATE _c_{_b, _l} repl_map  {_b: _j}\n",
      "self  _i_{_b, 1} MULTI_QUBIT_GATE _d_{_b, 1}, .._i_{_b, _a} MULTI_QUBIT_GATE _d_{_b, _a}.., _i_{_b, _k} MULTI_QUBIT_GATE _d_{_b, _k} repl_map  {_b: _j}\n",
      "self  _g_{_b, 1} MULTI_QUBIT_GATE _c_{_b, 1}, .._g_{_b, _a} MULTI_QUBIT_GATE _c_{_b, _a}.., _g_{_b, _l} MULTI_QUBIT_GATE _c_{_b, _l} repl_map  {_b: _j}\n",
      "self  A_{i, 1} MULTI_QUBIT_GATE R_{i, 1}, ..A_{i, j} MULTI_QUBIT_GATE R_{i, j}.., A_{i, k} MULTI_QUBIT_GATE R_{i, k} repl_map  {i: m}\n",
      "self  C_{i, 1} MULTI_QUBIT_GATE Q_{i, 1}, ..C_{i, j} MULTI_QUBIT_GATE Q_{i, j}.., C_{i, h} MULTI_QUBIT_GATE Q_{i, h} repl_map  {i: m}\n",
      "self  A_{i, 1} MULTI_QUBIT_GATE R_{i, 1}, ..A_{i, j} MULTI_QUBIT_GATE R_{i, j}.., A_{i, k} MULTI_QUBIT_GATE R_{i, k} repl_map  {i: m}\n",
      "self  C_{i, 1} MULTI_QUBIT_GATE Q_{i, 1}, ..C_{i, j} MULTI_QUBIT_GATE Q_{i, j}.., C_{i, h} MULTI_QUBIT_GATE Q_{i, h} repl_map  {i: m}\n"
     ]
    }
   ],
   "source": [
    "import proveit\n",
    "#proveit.defaults.automation = False # prevents proveit from calling automations that are currently broken\n",
    "from proveit import ExprArray, ExprTuple, ExprRange, IndexedVar, varRange\n",
    "from proveit._common_ import A, B, C, D, E, F, G, K, M, Q, R, S, U, a, b, f, g, h, i, j, k, m, n, p, q, r, s, t, u, x, y \n",
    "from proveit.core_expr_types import Len\n",
    "from proveit.core_expr_types.expr_array._common_ import Aij, Bij, Cij, Dij, Eij, Qij, Rij, Sij\n",
    "from proveit.logic import Equals, Implies, InSet, Forall\n",
    "from proveit.logic.set_theory import Set\n",
    "from proveit.number import Add, Neg, zero, one, two, three, four, five, six, seven, eight, nine, Naturals, NaturalsPos, Complexes\n",
    "from proveit.number.numeral.deci._theorems_ import posnat1, posnat4\n",
    "from proveit.physics.quantum.circuit import Gate, Target, Circuit, Input, Output, MultiQubitGate, IdentityOp, CircuitEquiv\n",
    "from proveit.physics.quantum._common_ import H, X, Z, I, ket1, ket0, ketPlus, ketMinus, SPACE, CONTROL, CLASSICAL_CONTROL\n",
    "#from proveit.physics.quantum._axioms_ import substitution\n",
    "from proveit.physics.quantum._theorems_ import single_time_equiv\n",
    "%begin demonstrations"
   ]
  },
  {
   "cell_type": "code",
   "execution_count": 2,
   "metadata": {},
   "outputs": [
    {
     "data": {
      "text/html": [
       "<span style=\"font-size:20px;\"> <a class=\"ProveItLink\" href=\"_proofs_/single_time_equiv.ipynb\" style=\"text-decoration: none\">&#x22A2;&nbsp;</a><a class=\"ProveItLink\" href=\"__pv_it/13e78eea95b7db675f76d8613df50f60d6e333880/expr.ipynb\"><img src=\"data:image/png;base64,iVBORw0KGgoAAAANSUhEUgAACdUAAAJTCAMAAADTpZ3YAAAAS1BMVEX///+Dg4Pf3989PT1GRkZR\n",
       "UVGfn5+Tk5POzs6/v7+IiIgiIiIQEBB2dnbu7u5UVFTMzMzc3NwyMjK6urpmZmaYmJiqqqpEREQA\n",
       "AABlE6zmAAAAAXRSTlMAQObYZgAAAAlwSFlzAAAOxAAADsQBlSsOGwAAIABJREFUeNrt3YuWosoW\n",
       "YFFO386uKhQQBeX/v7TTZ6KpvAQEnWuMe6vqAPFwsyOWEGAQAABezXrzib1OF7HQAwCAdyJLPrPf\n",
       "USL2AADgjdguP/Wa1TIXfQAA8DbEn+s2myIVfwAA8C4k6w/u+078gU9kVRywCmOufOZqcKDJ4PbB\n",
       "yZEWW2cA0DJtfj1ntDgq0rwGvij/hhrMlIyPAw++8aw/ufe7hTMAaMmv54z2fpQnM7M6yy9mzOeu\n",
       "BgfqkqP46C+rqyJ0DgAtubsWN2d1GInYk27AA9YffrFqt3QOAC25+5wRq8NYJGufAfBgaPvwa1Vb\n",
       "K+uA9rPqjtXhhcGzHhJ4MDgXn746ofClD2jLveeMWB1GYm3UBu4TFx//ao+kWDkPgJbcec6I1WEc\n",
       "ti7VAQ/I3X/cFJHzAGgtRSGrw2tYe3UB8OgLd+Hx8MLzEkD7sWPJ6jCVbxQADsSF7zzfZusWLNCW\n",
       "388ZsTqMgtXgwCNydx+DIPQhAO359ZwRq8MYWA0OVHznsej0e3T3PBXQYfRYsTqMj9XgwEOWhc8g\n",
       "CAqfAtCaX88ZsTqMgdXgwCNSy+r2rF2xBDp8HVqyOoyO1eDAQ7bWJ+zJPFEFtOf2OSNWhxGwGhyo\n",
       "0BnpcRglEh8C0Jbb54xYHUbAanDgIWurTo/DuzfWAR0SZ83qMDZWgwMV6eFNbcF+nYZhAmjPTeKw\n",
       "OgyP1eBA1aDsWaLj52B8B1pz85wRq8PwWA0OVHzpcY3qwMJCDaA9N88ZsTqMcdJZDQ48/NLjUvaB\n",
       "dZH7EIC23DxnxOowxmhtNTjwgNCPKhxJfPsDuojRktVhXKwGBx4SWaBwJPNqE6A9N88ZsToMj9Xg\n",
       "wEMSMkNvgWdm2JTVYUysBgcesysyH8LR6tyKBtpz/ZwRq8PgWA0OPGbN6o6EBgqg0xCSszqMO1j7\n",
       "Cg48HpI9JHCajVgd0J7r54xYHQbHchngMQtWd56N/GQY0J7r54xYHUb4ImE1OPDY6kIfwp6tBbhA\n",
       "B64vnLA6DI7V4MBjll6+y+qAZ6xuzeowJlaDA48pWN2RDasDOnD9nBGrwwhWZ90Q8Njq/PTKaXz3\n",
       "YkugPTmrw7hYDQ485v/+768PYc//+d//fAhAB6tbsjqMa3VWgwOPcK3uMr67Vge053pFKqvD4FgN\n",
       "DrA6VgewOlb3HrMWqwNYHasDBmAzY6v7V1iAMstZ648PAWB1rA4YwozKmfMfq8Pws9b/8yEArI7V\n",
       "AazuOuvdgTVrAfKD1QG4lznW1cGsBcgPVgewOlYHsxYgP1gdwOpYnVkLkB/yg9UBrA5mLUB+sDpA\n",
       "5rA6mLUA+cHqAFbH6mDWAnrLD+9zPPCP1QGsDqwOkB9vNzcBYHUwawHyg9UBrI7VwawFyA9WB7A6\n",
       "VgezFiA/WB3A6poS55J+hmRfZBxgdawOGMKMvr5K/0rzeWU9PTBrAfKD1QG4lznuwMKsBcgPVgew\n",
       "OlYHsxYgP1gdwOpYnVkLkB/yg9UBrA5mLUB+sDpA5rA6mLUA+cHqAFbH6mDWAuQHqwNYHaszawG4\n",
       "4H2OJ67fugWA1YHVAfLjHeYmAKwOZi1AfrA6gNWxOpi1APnB6gBWNw7/ir8COMdZ648PAWB1rA4Y\n",
       "wozKmfOfa3UwawHyg9UBb5A57sDCrAXID1YHsDpWB7MWID9YHcDqWJ1ZC5Af8oPVAawOZi1AfrA6\n",
       "QOawOpi1APnB6gBWx+pg1gLkB6sDWB2rM2sBKOWH9zke+MfqAFYHVgfIj7ebmwCwOpi1APnB6gBW\n",
       "x+pg1gLkB6sDWB2rg1kLkB+sDmB1TYlzST9Dsi8yDrA6VgcMYUZfX6V/pfm8sp4emLUA+cHqANzL\n",
       "HHdgYdYC5AerA1gdq4NZC5AfrA5gdazOrAXID/nB6gBWB7MWID9YHSBzWB3MWoD8YHUAq2N1MGsB\n",
       "8oPVAayO1Zm1AFzwPscT12/dAsDqwOoA+fEOcxMAVgezFiA/WB3A6lgdzFqA/GB1AKsbh3/FXwGc\n",
       "46z1x4cAsDpWBwxhRuXM+c+1Opi1APnB6oA3yBx3YGHWAuQHqwNYHauDWQuQH6wOYHWszqwFyA/5\n",
       "weoAVgezFiA/WB0gc1gdzFqA/GB1AKtjdTBrAfKD1QGsjtWZtQCU8sP7HA/8Y3UAqwOrA+TH281N\n",
       "AFgdzFqA/GB1AKtjdTBrAfKD1QGsbhz8DuxMZy3rhgBWx+qAQczI78DCrAXID1YHvFvmuAMLsxYg\n",
       "P1gdwOpYHcxagPxgdQCrY3VmLUB+yA9WB7A6mLUA+cHqAJnD6mDWAuQHqwNYHauDWQuQH6wOYHWs\n",
       "zqwFQH6wOoDVsTqzFvBWZF+GtQPx15cPAWB1YHWA/HizuQkAq4NZC5AfrA5gdawOZi1AfrA6gNWN\n",
       "Q5xL+hli3RDA6lgdMIwZXa1ITfN5ZT09MGsB8oPVAbiXOe7AwqwFzCA/it54rrWDNYPVAawOrA74\n",
       "hPzob6guXnZwdVGsDmB1YHUAq2N1AKtjdWB1AKtjdQCrY3VgdQCrY3UAq2N1Zi0ArI7VAawOrA54\n",
       "m/z4w+r2/GN1AKsDqwM+ID8aD9XhYjUJq2vdDtfqAFYHVgewugvpYp32U9JzB3doB6sDWB1YHcDq\n",
       "LjK1THoTs6fkskM7WB3waVb3r/grgHOctf74EIAxrC5pIEZjWF2XdrA6oJsZlTPnP9fqMJFZC5Af\n",
       "z+rUYt2bmD11cJd2sDqgmxm5AwtWB7yj1TW48TmK1XVpB6sDWB1YHcDqWB3A6lgdWB3A6lgdwOpY\n",
       "HVgdwOpYHcDqWJ1ZCwCrY3UAqwOrAz7W6vJdUeySJFnvVtU2tc2yKAryTZVNxclycW5A2KoZ4bEZ\n",
       "u3WSBs+3g9UBrA6sDvg4q/uWpt3hj6RYVdnUbm9p8a6oKilYhKt8ER3/3vYCW7E+TSPb4Ol2sDqA\n",
       "1YHVATMn+2o0rJWH6rQ4XlXbFFmFTWXHjfm6yqbCfG9c68Nhq6xdM1anZgTZMni2HftWfH05GwBW\n",
       "B1YHvH1+lIfq/HSNLi/CCps67bQJq2zqtH+yXgWbRdquGeH5UuGmyJ9tR1B5rW7nIh7A6sDqgHe0\n",
       "uuT0j/XydkQsfmzqrFqrtMqmsouhFctNy2Zc7qmmRfRsO6qtbrVzngCsDqwOeEOrOy6ri5PF7bK6\n",
       "8kWztCiiVV1JJZpdDisfXOwu1SY9tKNqXV0eOVGA97O6OHcdfoY0XDcEsLpGOrUqdmEYJuv8107r\n",
       "8tq1sPjmzvOpfb3Z5LKs7rumqId23FpdtihRZM4U4L4ZXa1ITfN5GSk9eN9ZC5AfjXQqPA6E22V+\n",
       "/LJ7Vqh4t77SonT/7pHl9T63NnWlTknLZpwvwSXF5tl2BHXPwG7XhhHgvhm5AwtWB0wxP4oKLjvt\n",
       "To+cRnutWoXh4vjPzfLO++ayvXD97HPPpu41qUErfpbVBXtle74dNW82ideNFv4BrI7VgdUB086P\n",
       "0lB9XsV2egR2ezKldJ2VxvZTofGx9G0rq2vYjN1lGsn7aEe11aXryPAPsDqwOuCtrG51fhThcOOz\n",
       "bErR8uexhJP5pcfxfgCruyyri0/vRH62HZXr6hZrgz/A6sDqgDezutOyuu/xcH1jU0FyeR3w5vQf\n",
       "syiotKnu6+rOy+ri86MRT7UjqL5Wt/FqE4DVgdUBb2d166MybZanZxJKppRe3iiSHX8FLEqCWptq\n",
       "19qfZhQnbTs/nfpsOyqsLl07TwBWB1YHvJnVJeuiSL5Z77a/bSpYnhUrCzZJliT39unF6k7N2O2y\n",
       "y6D8bDsqrC5ZOU8AVgdWB0w/P/600anfXNlUUr9PX09L9N2OfxXX6pwmAKsDqwPeJT/e3+pq3mwC\n",
       "gNWB1QFvbXVptC6ysNqmrvcZxuqebwerA1gdWB3wyVZ3zTLpq6TnDu7SDlYHfJrV/Sv+CuAcZ60/\n",
       "PgSA1bE6YAgzKmfOf67VYSKzFiA/WB2AtmbkDixYHcDqWB3A6lgdWB3A6lgdwOpYnVkLwFBWt9j1\n",
       "VdJzB3dpB6sDWB1YHcDqzqzXfZX03MFd2sHqAFYHVgewujNRgzFyDKvr0g5WB7A6sDqA1Z2JF4u4\n",
       "n5KeO7hLO1gdwOrA6oCZ58eTvwN7rVO7ZT4Bq+vSjn+sDmB1YHXAB+RH46F6m6wmYHUd2uFaHcDq\n",
       "wOoAVjeMmA3aDFYHsDpWx+oAVsfqALA6sDqA1bE6gNVNgjiX9DMk+yLjAKtjdcAQZvT1VfpXms+p\n",
       "7a7VvfOsBcgPVgegrRm5AwtWB8zM6vrjudYO1g5WB7A6sDpAfpzLmkiXepibALA6sDqA1bE6gNWx\n",
       "OrA6gNWxOoDVsTqwOoDVsTqA1bE6sxYgP1id0wFgdWB1wGzp832Os7a667duAWB1YHXAB+eHa3UA\n",
       "q2N1YHUAq2N1AKtjdWB1AKtjdQCra8m/4q8AznHW+uNDAFgdqwOGMKNy5vznWh3mNGsB8oPVAXiQ\n",
       "Oe7AgtUBrI7VAayO1YHVAayO1QGsjtWZtQD5wepYHcDqwOoA+XEs4hev6clT7WB1AKsDqwM+3uoa\n",
       "/JcxehI81Q5WB7A6sDqA1bE6gNWxOrA64OX58fT7HN/D6v6xOoDVgdUBH54frtUBrI7VgdUBrI7V\n",
       "AayO1YHVAayO1QGsjtWZtQCwOlYHfLLVxbmknyHZFxkHWB2rA4Ywo6+v0r/SfF5GSg8+c9YC5Aer\n",
       "A1CXOe7AgtUBrI7VAayO1YHVAayO1QGsjtWZtQD5wepYHcDqwOoA+cHqAFbH6sDqAFbH6gBWx+rA\n",
       "6gBWx+oAVsfqzFoALvTwPsf3sLrrt24BYHVgdcDn5YdrdQCrY3VgdQCrY3UAq2N1YHXAtKwuLtZT\n",
       "sLqfZrA6gNVV8K/4K4BznLX++BCA4a0uWGRTsLqfZrA6YAQzKmfOf67VYQazFvAZ+VF047FgdWxS\n",
       "T81gdcAIZuQOLFgd8D75YV0dwOpYHVgdwOpYHcDqWB1YHcDqWB3A6lidWQsAq2N1AKsDqwPkB6sD\n",
       "wOrA6oD3tDrvqwNYHasDqwNemB9Pv8/xPd5X94/VAawOrA748PxwBxZgdawOrA5gdawOYHWsDqwO\n",
       "YHWsDmB1XfE7sDOdtfwOLMDqWB0wiBn5HVjMbdYC5AerA1CXOe7AgtUBrI7VAayO1YHVAayO1QGs\n",
       "jtWZtQD54S3ErA5gdWB1gPy4cqdZv4WY1QGsDqwOYHX1/2VMq+vWDlYHsDqwOoDVsTqA1bE6sDqA\n",
       "1bE6gNWxOrA64Gmyr6eHtfewuvjry9kAsDqwOuCj88O1OoDVsTqwOuAtrO43r+nJU+1gdQCrA6sD\n",
       "5Me5rIl0qYe5CcD7W12cS/oZ0sO6IYDVsToAd8zoakVqms/LSOnBh89agPxgdQAeZI47sGB1AKtj\n",
       "dQCrY3VgdQCrY3UAq2N1Zi1AfrA6VgewOrA6QH6wOoDVsTqwOoDVsTqA1bE6sDqA1bE6gNWxOrMW\n",
       "gFJ+/GF1e/6xOoDVgdUB8uMNrM61OoDVgdUB8oPVAayO1YHVAayO1QGs7hX8K/4K4BxnrT8+BIDV\n",
       "sTpgCDMqZ85/rtVhTrMW8HH5UQxD+3YO3A5WBzz/fcgdWLA6YNJWN0y1gx/QtlhWB7A6sDqA1bE6\n",
       "gNWxOrA6gNWxOoDVsTqwOoDVsTqA1bE6sxYAVsfqAFYHVgewOlYHgNWB1QFva3XhYjUJq2vdDlYH\n",
       "sDqwOmDm+bHpUafSxbrZKDmw1XVoB6sDWB1YHfDe+dFmkE6XySCS1louO7RjVRTOBoDVgdUB82XZ\n",
       "p9UljS93DWt1XdqxYXUAqwOrA+bMosj706nFehBJa31Al3awOuDTrC7OLbuYIdkXGQdGsbrGNz4H\n",
       "trou7WB1QCcz+voq/SvN52Wk9GCGuFYHPGbN6o5si6WzAehgRu7AgtUBE2FXhKzuOBuxOoDVgdUB\n",
       "s7a6iNXtCYuFswFgdWB1wHxJiozV7YmKtbMBYHVgdcB8yYqkqffku6LYJUmy3q0a2dQ2y6IoyDc9\n",
       "W114bMZunaRBj+3Iip2zAWB1YHXAfAnrZKY8SC+P+ybFqoFN7fYL9uJdUVtqS6v7/vv6NH9sg/7a\n",
       "UXvREgCrA6sDpsy27sZjaZBOT09WbB4JUNmmsuM++bp3q1udH/DIlkF/7ah9bAQAqwOrA6Y9rC0b\n",
       "61R+ukaXPxKgsk2d9t2EvVtdeL5UuHn0VpYu7VgbKABWB1YHzJm47uW7pc3J6e/r5YOhsLRG72xc\n",
       "q7R3q7vcTE0fPb/bpR3LR7eVAbA6sDpgJgmSNtWp47K6OFk88J/ytbO0KKJVo1JbW91lJeDmwZMe\n",
       "XdoRF4XfDgJYHVgdMGcWxaahTq2KXRiGyfrhj1Gsy2vXwuKbh4+pPmF1l2V131VEvbVj5SXEwKdZ\n",
       "3b/irwDO0er++BCARyQ1PxlWfk/vwY22y/sHxLv11dWudP8KkmX/VndZVvfd9E1v7ci9rg7oZkZl\n",
       "q/vPtToMb3Wu1QEPCUsPtBb3uGzdndQoursCbbO88zxC9uhCYFGZstXNuPz1rqt1bEdU9xsbAO6b\n",
       "kTuwYHXAdMa16otUP4P0eRXb/Udg03VWGttPSRc/yr4nrtVdltXld68ydmzHzjgBsDqwOmD2GdJM\n",
       "p1ZniTrc+MyzfBWGSRDmyfnKXbT8uYZ3EsB0P97f2fUJq7ssq4sPD2/01Y6FhyUAVgdWB8ycRfXA\n",
       "dhmkT8vqThf38s1+ed3+xXDh5UHU5HJHdLM4/plFD3btbnXnZXXx8ZmIntoRe1gCYHVgdcDciaof\n",
       "l7gM0uuj92yW+4cR0jjcC9P+ql12WZCWXkrKFof/GO3t6e6u3a1uXZx87bAcsK92bOt+DhcAqwOr\n",
       "A6bOplpoToN0si6K5Jv17pRPSfg9Ju5Fb/GTYMvzgxdZsEmyJHm8a1erOzVjt8vOo3E/7UgMEwCr\n",
       "A6sDZs9y2UCnfh+1CoJwt78wFlxWqS2Tprs+8xbiIdqxLJwHAKsDqwPmTlb5W1kPBul0/9/3F7/y\n",
       "XRBV29S9XXuzun7asXIDFmB1YHXA/NlUvqrtwSC92WvQ+ntITJMwrrape7v2ZnX9tCM0SgCsDqwO\n",
       "eAMqb8G2GaSXja949XcHtpd2rD0BC7A6sDrgDQirfgr2E6xu5YclAFYHVge8R5Ikn211iVcQAx9o\n",
       "dXEu82dI9kXGgUqiCqv5AKuLPSsBdDajr6/Sv9J8XkZKD2aIa3VA3bhccQfyA6wuNLQD3c3IHViw\n",
       "OmBShI8v1rUZpBe7aVhdy3ZcXloMgNWB1QFzZxn1oVPHn2Z9vdW1a0doVR3A6sDqgLdh+3B0azNI\n",
       "R43HyGGtrlU74iIXf4DVgdUBb0Oy60Gn4sWi4WWvYa2uVTuSnegDrA6sDngjFnkfOrVbNrvwNazV\n",
       "tWnHZun+K8DqwOqAtxqbH9hNy0F6m6wmYHUt2rHYiD3A6sDqgLdik/bjX4NI2kDNCIqY1AGsDqwO\n",
       "+JAEem+rE2CA1YHVAayO1QGs7pfV/Tx/tM2n3vaj1c2nxWB1AKtjdcB4VpddljWsJ34p7F/x9/Dn\n",
       "fFqMg9X98SEArI7VAUOYUdnq/vtOqdX5F/vSqb816Hytbj4tRtD4Wt3aomngbgINwkSaweqAh6RN\n",
       "3vt4Z13d+vQfoqnfKLusq5tNi9HY6rLEJwUAwIWowcR4x+ry0+K09dT7d7G62bQYTa1u602kAACU\n",
       "afA273vPwC4Xex7/uvTkrG42LUZDq4uXnnsBAKDMpv7VH/esLju8A3zX8GJJO5XqJl5RjdW1azEm\n",
       "b3WJy64AANxMjrWPD9yzujQ5/18TslYtyjr1I6uxuqoW96R6QxtjPNnCXmB1q8KjEgAAXJPWTqB3\n",
       "30K8v+gVHefVfBH+OmSR7TeGy+S3cf3evWrvimY1Oar0FuJSi28FZ7nq45PsqZhxym9R2GZXZFGU\n",
       "7TrU3vXQBla3dqkOAIBbdosuVrcNf548KAnCKkx2u83+Z5qD6PugLL5jXMtNm73vtKfFUSWrK7f4\n",
       "mqifd95GA786t9fy2xSWH86QcNmhmo6H1lvd1qU6AADuiE/Yweq+BSk/HZf+zNlZdhK87ffG7LDY\n",
       "LcqybPH9v8sknBZt9v5Nq6PKvxj20+JrNqtl2MPn2FMx45TfqrAkKwe+FR0Prbe69ULmAgDwi92y\n",
       "i9VF2/Mr4PIkz5ODaYWXpxK3q+0mDc+PMFzfgd0FaZg13TvIs3wVhsn33i3quGt1Py2+JgzWfbz4\n",
       "rKdixim/VWHLvWLFiy6PnHY8tNbqar+KAADwkWxrptD7Vpcuz1qwfxgx3P8jLv3a6iqI4u3mnnEl\n",
       "YbqNl2nDvYN8s3+Dxb6yFnXctbqfFt8ITpD1sEbrbjFZf4u/wj5Lqyjs939PizDPs6TLor6uh9Za\n",
       "XVJ4mBkAgHtz6LqD1QWXJfD7dXLZ3q02edm4vj0r3N0xrmX0vduq6d5pHO7vtRXt6rhrdcHdRfub\n",
       "1XndV1p67Una9hUo94vZZn3F6Kf8O+7UvbF3HP9Xkw9r4+LjvdSWVZUP7dPq4sIPvwEAcI+kWHWw\n",
       "uotT7PVgsZ+F8/XuwPZoXHF0fjqh/C65tDgtjGu097514XcT2tVRmv7zOgvJoig6XPlZbX5+Pq38\n",
       "92bcLSbIentR7qX8O/Hp3th72341+eRze7FuW1Xp0HYN/Kp+i2Je+OE3AADusSkqX/wbf32Vrex2\n",
       "1s93hycgvhVr9VPM3riCzfbO4qfv3TeLIG24d3B8wjZsV0fZSGteshwetePgmWVjaSlKD4pZp2ne\n",
       "ywKwn/LzbJvn2WYbrXpo7J3Cfjf5sDbu+yRZta+qdOi9dj+k7lrdzg1YAAAeTKLLajOqvFa3v5b2\n",
       "rWp72/q5PZcfrs6E1wvZ4ui4+2rRZO/T/odHZpvX0dLqTjd0jxJxx+riqPzHwz8fFVOk2+NCwIbl\n",
       "PNitXP5mb7jLTbCNbhtbU0jDws5NvuyeHqIfL7Kfqpo2u3zoVVVx9JTVxYUnYAEAeHTpY9Xd6tbp\n",
       "/jcb9m+OC9LzyrXNYn38ga7rgvaXbva7J/mqfu/T/pvkUkcYNzmqjdVlhwco4qxYb+9b3ep4tWm1\n",
       "TIP7f26rilkVSRw0K+fqz5vir8v/7n+8/v4MN7eNPe/9q5A2hV2afN49XBfR/kXC21JVNzU9avb1\n",
       "oeWqznt0tLq88HO+AADcJ6ycJWus7uoiSrRf8/Z4FdW21d63+zc9qrnVXXO65FW2uvtNqG7hTzFh\n",
       "lC7itFE5LYoPDte7lkH+q7Hb5wsrNXn7+DPqUNN1VcFTVpd4BTEAAA/dZ92P1dU5Sjzs/k9Z3Spc\n",
       "ZtvTwx+nv9c34ffmcjFZGkT59omu3Dkq3r/jZXN4QcxtY1u39U5hP02+V9q5qvY1XVdVV0CN1S0L\n",
       "OQsAwMNZdBSrywfe/ymruyhJmybkDYvp2JW8VWPzPgur3P3Zmur2qLa61LI6AAAesq66pdWf1Y3P\n",
       "01bXmXFevbGdbGFPfsuoasvW2+oAAHhIVvUDTB9mdZi61WUelgAA4CF5kbA6zMTq1t5BDABAhfws\n",
       "WR1mYnXLYuUjAgDgAXHV4xJvbnVhkkVRHD35uG0/pYxTfquyNrsi2790rotIdT622uoKvywBAEDV\n",
       "RJm+pdX9K/7WiMfh12WD3fKpavopZZzy25aVHx44TZddLnp2PbYo/jzemBZebAIAwGMWFQ/B/ruy\n",
       "uv/e6lrddnl6q272TC39lDJO+a3LSo47Zl2eO+16bOW1uq0XmwAAUMG6yCvM6G3vwKZne1g9s/6+\n",
       "n1LGKb99Weef/+pynbDrsZVWF1a+MxsAgE8nqXhZxBtbXdLLVZ+HpYRhMGj5/Zf1u8XpKfhZh0Z0\n",
       "PrbS6iKvqwMAoIKs4tUmb2x1y/JtyHQX3/17LQ9L2SS9dGJZfbO0e1t/87vF+cnIFknbqm6O7c3q\n",
       "kiKRsAAAPKTq+sc7W9350tS3RKw2i0s3y39vYEoPSgmivJdOlMu/08XObb13Hvxq8Wlp3OGDbFfV\n",
       "9bH9Wd2uyCQsAAAVVrf+RKtLTld98kMHy8rSRl8elrIOt1kP78srl59n2zzPNtto9Xxb75T1u8XL\n",
       "/LShdVXXx95reDerW7M6AAAqCCueK3xjq4uXh0d/w1Vw3+ri42rD0x+P/nxYSrEKwrxFOY82l8rf\n",
       "hLtvW9oE2+imrU3Lri7r3OLz7kF6+ADjXdj+Y7k+9rqyOHrG6vxgGAAAj8k/0+qCOMuiMIyDB1a3\n",
       "Oj7EuTq9cO33n9uqUlbfHrNOG5WTVhV/Vf5uFcTrIEg2N2097/yw7CZlXVp83j38VqgoCqO0w8dy\n",
       "c+xVZZfmdLC6BasDAKDS6pYfaXXXunC8EHXlZjXv/9hWlbK/6rUINk3KaVF8cLjctQzy27Zuny+r\n",
       "1OJtxUfUpa7rympKqLG6UMICAPB4Gq54X/+HWN0qXGbb/Q8h/Pz9+3OpXkf2e3O5lOS77uR4WWzb\n",
       "6Teu7hwVJ9/utdmXm960tXVT75T10+K7pXX/WG4qqyuh0uqWRS5hAQBgdQ0+ivI/avwhb1ZKbTmt\n",
       "i79TS95jWXW7P1tX3S6VVlewOgAAKtiwugc+1lWTx5HxiZb1LDVWt5WwAAA0NLf3sbo4jwV3fmRf\n",
       "FTL+f//31ycEAMBD/s///vfYjL6+Sv9KZ3X7q8O1Orwe1+oAAHjCft7zWl0Tq9tEYZiHqw6lVx+5\n",
       "2RVZlCVPv4ajr3LGKL6nwlgdAACsrr3VbcPDfh0KrzsyPLwDcP30LyH0Vc4YxfdTGKsDAIDVtbe6\n",
       "44v6uvxgfN2Rx59B3a2f7URf5YxRfD+FsToAAFhde6s7viejy/K7uiMPv5+wWa6e7URf5YxRfD+F\n",
       "sToAAFhde6sLi2LX7QmQmiPTIszDLHr6Idy+yhmj+J4KY3UAALC69lYXxNus2N9GTXdtZeR85H3y\n",
       "xf6n7Y8PDpTLbltPuZwyWT/3TB8V36mx1YU1bjGrAwCA1bW2uuPP1X93arVZtLOty5EPOCwx2x62\n",
       "l8tuXU+pnCvJ2vbzfEO5+N+fX8vGVhbWvMWsDgAAVte7GO1HAAAgAElEQVTW6jbboyzt/7+dwPwc\n",
       "mWfbPM822+h6NdlhiVl0fKTiquyWVlcq50qysn7eHFgq/l5H2jX2qs+/aNxiVgcAAKtra3XZ4Q5q\n",
       "kpYEJo7Kfzz88+fITfitdstNsI3K29PDp5Ysgk161+oaVvO4nHWa5uGvA2rKqyz+uiOlxnYp7I4i\n",
       "3rSY1QEAwOp6tLpVFEZRWrKtYHW44PT9Rxrc/3N7e+RuFcTrb5vZlLaHu2L/0MBqHYbBXatrWM3j\n",
       "cop0G+9+djwd+Li8tL74q46UGntTR6PC7ijiTYtZHQAArK4x/4oWvxl6MaYaa/i1eREc3GUZ5A8P\n",
       "P12fu6qnbTXXVrcqkmbltCj+qiNXje3Q1l+K2LzFRfGn40YAAD6efxVWd73tv7d7Bva8a7jMjrax\n",
       "rV5K9mtznARB+O0uSZg+OPxUdros19O2mhs7DKN0Eaf15bQo/qojV43t0tZfiti8xa7VAQDwhP18\n",
       "7ptNfpE/tblq+/bJasp2mKVBlG8btKdbL64b26GtvxWxeYtZHQAArK4PqxuO7cTKGa+SdoWxOgAA\n",
       "WN20rW6SwjXBFrM6AABY3WdY3bvD6gAAYHWsjtUBAMDqWF0ToiwMs3QqxYxVweDNZXUAALC6Ua1u\n",
       "s94XmC7TSRQzVgWDN5fVAQDA6sa1uu3i+Ge2m0IxY1UweHNZHQAArG5cq0uLVR+fQk/FjFXB4M1l\n",
       "dQAAsLqRrS5Zn/4SLYcp5vhjr1NpZ8PSemo0qwMAgNU9ptXvwNazzE5/WSff/5fufj6X8t+fKGaT\n",
       "DNDO37RqbW1pPTX6Stz+sDoAAPq3ug/5HdhGfhOWil1tFpfPpfz3J4oJorz/dt75VFq1tq60vhrd\n",
       "VNyyL2+rAQDgMfHXV0Pj++g7sLssCDbfH8bi6DFlN2rjSY+LWYfbPt4fclVBnm3zPNtso1W31taW\n",
       "1lOjm1qda3UAAFTbj3V1DUiXaR6Hq3UePLC6OApKfzz683ExxSoI8ztH1BR4u9tVBZtwFwTLTbCN\n",
       "urW2trRLo1kdAACsbiZWF6TJLkySOEgfWN1quT3+cdzh95/bymJW38Z0eDXcZc/TkY8LTK93295p\n",
       "524VxOsgSDYdW1tT2k+jWR0AAKxuLla3Z5MEcfnWaXylZjXGsa0sZn/JaxFsmhRUW/5PBYvgcGVt\n",
       "GeTdW1tRWrnRrA4AAFY3H6tLi+QgRatwmW339yd//v4tPNUL1kqb7xWTfLc2CeMGBdWXf6kgTr7N\n",
       "a7MvOO3e2orSSo1mdQAAsLoZWV2wXlxdmLpyjJr1ZXnDYmoLalD+bQXPtbZBaawOAABWNy+rG8Zs\n",
       "RlKV7YRLY3UAALC6V1odWB0AAKyO1YHVAQDA6lgdqwMAAKwOrA4AAFY3F+I8Ftz5UflTr0XxxycE\n",
       "AMBD/lVY3fVvxKb5nPrlWt0sca0OAIAn7McdWLA6AABYHasDqwMAgNWxOrA6AABYHatjdQAAgNWB\n",
       "1QEAwOpYHVgdAACsjtWB1QEAwOpYHasDAACsDqwOAABWx+rA6gAAYHXj8q/4K7hztLo/HTcCAPDx\n",
       "VP0O7PW2/1yrw/BW51odAACd7ccdWLA6AABYHasDqwMAgNWxOrA6AABYHatjdQAAgNWB1QEAwOpY\n",
       "HVgdAACsjtWB1QEAwOpYHasDAACsDqwOAABWx+rA6gAAYHWsDqwOAABW15Y4jwV3fmRfaceNAAB8\n",
       "PPHXV8NtaT4vW2UAM8S1OgAAnrAfd2DB6gAAYHWsDqwOAABWx+rA6gAAYHWsjtUBAABWB1YHAACr\n",
       "Y3VgdQAAsDpWB1YHAACrY3WsDgAAsDqwOgAAWB2rA6sDAIDVjcu/4q/gztHq/nTcCADAx/Ovwuqu\n",
       "t/3nWh2GtzrX6gAA6Gw/7sCC1QEAwOpYHVgdAACsjtWB1QEAwOpYHasDAACsDqwOAABWx+rA6gAA\n",
       "YHWsDqwOAABWx+pYHQAAYHVgdQAAsDpWB1YHAACrY3VgdQAAsLq2xHksuPMj+0o7bizL3yhM1oun\n",
       "0v9ZViXkg30AHx2kCYWokJjvnpjx19djM7raluau1WEG1+pGyvGpTh+TqaeYYVUiPlhN0vLN0lJi\n",
       "TjYx3YEFqzOUsDoRZ3XSUmKyOlYHVmf6YHWsTlqyOonJ6lgdWJ3pw+TB6gSJ1Yk5q2N1rM70wepM\n",
       "HqxOkFidxGR1YHWGElYn4qxOWkpMVsfq8HZWFy5WHzyUtO59nyN6XeUDTR6fHfEOIX+F1QnS60Sr\n",
       "tnKJOdHEZHVgdUG6WKfj5OwUh5IOve9vRK+vfJDJ47Mj3ink41udIKWvSssmlUvMiSYmqwOrS5fJ\n",
       "uFPcpIaSLr3vbURvUPkQk8dnR7xbyEe3OkF6WVo2qlxiTjQxWR1YXVLEo+TsNIeSLr3vbURvUPkQ\n",
       "k8dnR7xbyEe3OkF6ndU1qVxiTjQxWR1Y3WI98hQ3qaGkS+97G9EbVD7E5PHZEe8W8tGtTpBeZ3VN\n",
       "KpeYE03Md7W6f8VfjjRHq/vTceNTyTTMLci5DCUD3Y0r+qp8iMnjsyPeLeSjW50gvc7qmlQuMSea\n",
       "mP8qrO5623+u1WF4q3vJtTpWx+pMHqyO1bG6d0hMd2DB6kYdSoomsLp3mjwGDTmrEyRWJzFZHVjd\n",
       "y6zu9aWzupEnj4lFnNXNIC1ZnZizOlbH6u4mU7oeIpdmMpTUd57VsbpXWN1Hp+VQecnqWB2rw/tb\n",
       "3bpok0vhrih2yW63277FUFLf+U69bzWi54dCk2S9W1UPY9ssi6Ig3zw1ecThvq48SKPGo2cafdf7\n",
       "fcj8ra5R57t1/1cT42S5OJ8mobTsu/cDdb+4LTTZrZO05gzpIzGbnZpX9TY8MecQ8zETk9Xh3a1u\n",
       "W7SaPr4L2B3PoOQNpo8Gne/U+5Yj+vJQaJAUq6rKd3s3iHfFU1WFy3A/am2jRd60z9H60KxkPXur\n",
       "a9b5bt3/1cRFuMoXp0kqkZZ9936g7l/tUaxPc/u2svI+ErPhqVmut+mJOYOYj5qYrA7vbnVZUnsu\n",
       "XOXSqjheeNhVHzaP6aNB5zv1vt2Inp4K3RRZReXZcWO+fqKqeLc4jVlZZQdK1cbr3fk/ZvO2uqad\n",
       "79b92yaG+eHoQ0mrTFr23fuBul/cKTTIllWV95CYjU/Nn3qbn5iTj/m4icnq8O5WF6VRUfdzyVfj\n",
       "Z3jaff0G00eTznfqfbvpIz8VmhdhReWnnTbhE1Wtl+cha7Ns2Of14vy3pJi31TXtfLfu3zbxVESy\n",
       "XgWbRSot++79QN0v7hT6/XUrr6i8h8RsfGr+1Nv8xJx8zMdNTFaHN7e6NPweu2oXiZXHz9OKl1Wx\n",
       "m/dQ0rTznXrfbvo4D0vrZfq48vPMskq7VxX99Lb68tFPtdnP9Foz007d6hp3vlv3b5uYXdSgWG6k\n",
       "Ze+9H6j75T0u91TTInpceQ+J2fzUvNTb4sScesxHTkxWhze3umy/hqVmven1N9XjuJkukmDWQ0nT\n",
       "znfrfbvp47isLk4Wq4rK06KIVs9VlRaX77dBvGrU57Q0TWbFZsZW17jzHbv/uImxtOy/90N1v/hV\n",
       "6KGu5HHlzydm81PzUm+bE3PiMR8/MVkd3tnqNtv9uVD93FGwXl8l1i4Ms122GjrZhy+9Uee79b7V\n",
       "9LHaFxom67y68nD/ys87j+O1uSQQNvuUfqrNSifVUDf3xrG6xp3v2P0+32zy0Wk5ZF62srrLsrrv\n",
       "1IsqKn86MZufmpd625yYE4/5+InJ6vDOVpcdvvYcv4jG5eW+P/+Id+tyCkT7MydOdnHVMT0ke1xc\n",
       "GnD+289/6megetj5fHEZZ5r3vnRQy+kjPCbjdpnfFHpTebp/1cKywyd93mNxc6uiQcQXPwNFfKh7\n",
       "gIg3CvnTEa/sfDl4zbt/HfLbC06LEsm7pOWd0PSdlkPmZbvHUi9nTLK/GvTws386MRvmZbneFnk5\n",
       "9ZiPnZjva3VxHgeYHdlX2mxjw194CXdZliWnlwKE4c+V8J9/bJbX36TWx/Wsxy+vD46pa0GjX6BZ\n",
       "XJZYXP7285+eLr2q80FwWQjVvPelgxo28LLvbnmemlZXhd5WfvyOuunwSZ9bWBqw4mYRLzUz39/+\n",
       "GCTiTUL+dOlVnf/eeplZmne/fFTDWXz+aXknNP2m5aB52aolP68q2XvD48/+6cRslpdX9bbIyz4T\n",
       "c4iYj5+Y8dfXYzO62pbmc9ID1+pcq9u/+vH4X075sC3nxfkf6Tq7+gJw/A4dnxea3D2mv6/tT+1U\n",
       "fWBF59PLXi16nxYtZ/ibQi+PwF4Kvap8e/5ium3/Sf98K/4pbtUs4ovLHvFyPVDEx7kDW9n59OfZ\n",
       "uxbdT5f9NFFaNuv983nZ6lrdZelWflzOdf+z7yExm+XlVb0t8nLqMR8/Md2Bxfta3en71mJZORVE\n",
       "5S8+p/Wq2/Ob1eY7fVR0Pt8FaZi17H35oFbTx+q8BDg5rvotFVqqPDnPUXF3qyu9DSpqGPHD47n7\n",
       "hU5BdnpAd65WV9n5PMnzZNW2+1dH9Wd1H52Ww+Zlu+Wu4dkbdhWffQ+J2TQvS/W2yMupx3z8xGR1\n",
       "eFur25xs4vzrPI/GhaT0zSc7nvOHFa6rOU8fVZ1PwnQbn98y0rT3Vwe1mT5Oy+q+c/L3l85L5ZvT\n",
       "f8yiDp/0z9Nm53sYUdww4qvvkyrcxGGQn7s2V6ur7Pz+/fRh0rb710f1ta7uo9Ny4Lxst9z16AXx\n",
       "eY3+3c++j8RsnJc/9bbIy+k/AztuYrI6vK/VXS5Tn9/H/mhcSC/Pk8er0yKI/c3CzWbG00dl55dR\n",
       "fpwd2vT+6qB2byA9Tg/L9e9B7VJ5dvztqSjp8klf9ji9L2J7Gj4bRDwIl2m4f31+EgfztrrKzu/X\n",
       "XmVR2+5fH9XTtbqPTsuh87LVG7uLk7ZlVZ99L4nZNC9L9TbPy8nHfPTEZHV4T6uLd0Vx0Ijt/i9R\n",
       "5bhw+UmWaM8hsbJdmA8zx48xlFR3Pi2y8isSmvX+5qDGI3qyLorkm/Xlh8mvPtJz5VmwSbIk2Xb6\n",
       "pEuLCbNdkmSboG4mKP0IzyrZRdFhxflq3lZX0fmDSyy2Lbt/e1QfVvfRaTl8XjbPlVNe7nZZWvnZ\n",
       "95OYTfOydGY2zssZLHEeOTFZHd71Wt0vHk8fSftjZvKDk/fanu/291XSdr2/OajopSUPK+9qdV0j\n",
       "vlfOMJ651VUGb7+qftWu+7dH9fe+Omk5UF4Wz3ShyWffT2JWWF3SOi9nPhQPkJisDh9mdXHUfvqI\n",
       "uywqmeJQcuhIEgarRRC16/3NQXOyugYR3yXBdjdUxF9qdefg7aeCqF33b48a1Oo+NC17zstZWd2d\n",
       "8P2yugZ5OfOheIDEZHX4EKtLo3WR7VcbL7c//6gZPyuOmddQctWR9XduJPmqXe9vDiqebUlV5W0/\n",
       "6eLpiGdFcVw7PkTEX2J1v4KXJlHcrvu3Rw1idR+dlr3n5RNW1+Sz7ycxK8J3W2+TvJz7UNx/YrI6\n",
       "fMy1ust3pdv/sEzaHzO7iwKPOtKp989dFGhXeTFAp2+rXS2X28Ei/qJrdY+D16n7g12rk5b95WVf\n",
       "admk8h4qq+10oxPzfYbinhKT1eHTrG4btx/Cfh8z06Hkd0c69X5eVvfiiL/W6u4Er1vIB7a6j07L\n",
       "vvJyXlbXpdOdxqK5DMU9JSarw6dZXd4hl/Iek73tLwz1OpTkQS+9n5fVvTjiwdQi3i3kA1vdR6dl\n",
       "X3k5L6vr0uk8eJeYD5eY72p1/4q/HGmOVven48ancrzJENbrFDdYUWP1fmZ3YKcW8VefPZ1CPvQd\n",
       "WGk5RvcndQdWYg6SmP8qrO5623+u1WF4qxtjXZ3pg9WZPFgdq2N1b5mY7sCC1S12nzx9dOl9byN6\n",
       "g8qHmDxeHPFXnz2dQj661X12Wg7U/aK/yiXmRBOT1YHVnX8I8TOnjy69721Eb1D5EJPHiyP+6rOn\n",
       "U8hHt7rPTsuBul/0V7nEnGhisjqwuqjD2fI+00eX3vc2ojeofIjJ48URf/XZ0ynko1vdZ6flQN0v\n",
       "+qtcYk40MVkdWF28WMSfO3106X1vI3qDyoeYPF4c8VefPZ1CPrrVfXZaDtT9or/KJeZEE5PVgdUF\n",
       "8W6Zf/D00b73PU4ftZUPMXm8OOIvP3u6hHx0q/vwtBym+0V/lUvMiSYmqwOr+2abrD53+mjf+z5H\n",
       "9LrKi2E6/cqIT+DsaR/y8a3u09NyiO4X/VUuMSeamKwOrG6e6f/K3g81or+4qg+aPMauSVq+WVpK\n",
       "zMkmJqsDqzN9sDqTB6uTlhKT1bE6sDrTB6tjddKS1UlMVsfqwOpMHyYPVictWZ3EZHWsjtWZPlid\n",
       "yYPVSUtWJzHf3+riPA4wO7KvtOPGsvyNw0RHpcl0f5ZVjRTxXiePopjDKS8t3y0tJeZUEzP++nps\n",
       "Rlfb0jyYEa7Vfey1ukl/q5pi9a+sv/jQz/yDQz6bVn5yjIpAYs63fndgweqMJKxOyFmdGLE6Vsfq\n",
       "wOqMJKxOyFkdq5OYrI7VgdWxOpMHq2N1rE5isjpWx+qMJKxOyFmdGLE6QWd1YHVGElYn5KxOjFgd\n",
       "q2N1YHVGElYn5KyO1UlMVsfqwOpMH6yO1bE6VicxWR2rY3VGElYn5KxOjFidoLM6sDojCasTclYn\n",
       "RqyO1bE6sDojCasTclbH6iQmqxubf8VfjjRHq/vTcaORhNUJOasTI1b38UH/V2F119v+c60Ow1ud\n",
       "a3WszuTB6lgdqxP0zvbjDixYnZGE1Qk5qxMjVsfqWB1Y3a+GDg2r+7SQszppyerePuasjtWxumlO\n",
       "8XNTElY39X6wOmnJ6t4/5qyO1bE6VsfqWB2rk5asjtWxOny81Q11QX0mQ8nwtxPG/uBf1+eZWN3r\n",
       "PnhpOYMYTavqT7K6frvP6vC5VjfUuDyT6eNl39CLl10cmGvIi2DmIZ/A2SEtp5uXQ/V6NlbXa8Gs\n",
       "DqyO1bE6VsfqWB2rY3WsDqyuj1LCxYrVfZTVvSLirE5asro+Q87qWB1Y3T3SxTodtAJWN7GQvybi\n",
       "rE5asro+Q87qWB1Y3b2hZJkMftWB1U0p5C+KOKuTlqyuz5CzujHxO7Aztbo/H2h1yeMcZHVvGfIX\n",
       "RZzVSUtW12fI52d1fgcWo1tdhbhlXz3HdCpWt1i/ZChhdS8L+YsizuqkJavrM+TTTMz466uh8bkD\n",
       "i9da3dteq3vRZX9W97KQv8eNnje3uo9LS1bXOuTuwLI6sDrTB6tjdayO1bE6VsfqWB2rY3WsjtVJ\n",
       "S1bH6lgdWB2rY3WsjtVJS1bH6lgdWN0T5aZr0werY3VTs7qavGR1rI7VsTqwujulrIvGY0m4K4pd\n",
       "stvttqxurlYXh7skSfIgjRrOHmmURdH3AaxuXKuryctykBrlJaubttXVJ2brvGR1rA6faHXbornV\n",
       "fR+8O56/Caubp9WFy3A/bG6jRd4s4tH68BtFyZrVjWp1dXl5PcU3yEtWN2mra5CYrfOS1bE6fKLV\n",
       "ZUnNyVgeS1ZFePhzV3UMq5tsyOPd4jRoZhURLEU8Xu/O/zFjdWNaXV1eXk3xTfKS1U3Y6holZuu8\n",
       "ZHWsDh9odVEaFavGVhee9l2zulla3Xp5HjM3y0YRXy/Of0sKVjei1dXm5ZXVNclLVjdhq2uUmK3z\n",
       "ktWxOnye1aXh94xQ3fDyXZ3TWp9VsRt8KGF1/X+W0U+oV1mTiGc/ZlElGayu73Lr8/LqZmuTvGR1\n",
       "07W6ZonZOi9ZHavD51ldtl/AU7nidlPefJw10kXScvRldVMIeVpcvuEH8apBxNOSJWTFhtWNZnW1\n",
       "eXmVlo3yktVN1uqaJWb7vGR1YxLncYDZUflTr0XxZ5iRJC7Wg43Lm+0+kU4PXcXl3l3GlvW6PK7s\n",
       "wjDbZauqA/pt5k/vRx/Cx6964JBHp9VXP+NQTcSz0jeV4829+0cU0+7+LM6Oq0Lq87Kcls3ysph7\n",
       "jF6Xl0MNRj/X0JskZvu8nGZi/quwuuvfiE3zOemBa3Wz5EXX6hbZYFaXHb74nb7hR+WhZXEcGuLd\n",
       "upSB0f68jZNd/PiA3pt56f34X8xHr3rgkC9ub9bURXzxM07FxfJxyItpd38WZ8ftJfTKvLxOy2Z5\n",
       "Wcw9Rq/Ly6EGo0uxDRKzS15OMzHdgcUcra7ohTtV9FxuuMuyLKlYjLNZXn2JXB9X8hZRzcc06e53\n",
       "qDl4Wc29lrssjZhxk4iXGpRX3Q8crvs95++Uz46geV7epGWzvJx9Wk5qSOi12AaJ2Skvp5mYrA6u\n",
       "1fU8x5Uepz8OFKVFHbek66ycgMerB3GRtGz4lLrfpeY3WVe3+Cltu2oS8cXlzIiX3lc37NlRKqQ2\n",
       "L2/SslleWlc3uV7/XKurTcxOeWldHavDh1nd6XL64vBNfxOW3oYUZufORMufYea0XHdbZBUHsLrJ\n",
       "hrz0KqyoUcQPb03Yr/EKsmVaEXJW12u5DfKynJYN85LVTdbqGiVmh7xkdawOn2V1m9O1++NrEaL4\n",
       "J5+yYHv5Cpj8vD8pO+5xWNu7engAq5tqyNPLouwobhTx1fc5HW7iMMgPk8fDI1hdn+U2ystSWjbM\n",
       "S1Y3Watrlpjt85LVsTp8lNWl50Hi8EL6NN7+XNaPg+iyLDg9L9yIV6flH/n3GLTZPDyA1U025KeX\n",
       "ZWwPc0d9xPc/Y5R+zzdZlhwC//AIVtdjuc3y8idITfOS1U3W6polZvu8ZHWsDh9kdfGuKA4PVW33\n",
       "f9lf99+VV2Cvf9bgnn+SJtpz+M/ZLswrDmB1U7W6IM52SZKdX3BVF/H9SJXsomi5P2BVcQSr663c\n",
       "xnl5CVLTvGR107W6ZonZOi9ZHavDJK1uyPfVlYiL8vsvSyfoMml5gPfVzSPkjSO++z6zDz89/ugI\n",
       "76sbLC0ffuaP0nLgIHlf3fAxbxry2rycZmKyOny81Q35vroS2/V+pW58fDnCqrRq59H08fAA76ub\n",
       "R8gbR3yXBNtd1RHeVzec1T36zB9a3bBB8r664WPeNOS1eel9dawO07S6ocblmy+ISZjuh4RDL0rP\n",
       "VD2+VvfoAHdg5xHyxhHPiuL4mtRHR7gDO5zVPfrMH1+rGzRI7sAOH/OmIa/NS3dgWR0+2eouXxT3\n",
       "/1damvF4+nh0AKubV8hrI75aLreVR7C6wdPy12del5YDBYnVjRfzupDX5iWrG5N/xV+ONEer+9Nx\n",
       "44ym+DhYb8oX8eumj98HsLpZhbx1xH8fweqGn+FvP/MXBYnVjRbz50M+zcSs+h3Y623/uVaH4a3u\n",
       "/a/VfX/Ry8KrN9fXjCW/D2B1swp564j/PoLVDW51vz7zFwWJ1Y0W8+dD7lodqwOru0PtrZ6xmsnq\n",
       "Rgr5iyLO6qQlq+sz5KyO1YHVmT5YHatjdayO1bE6Vsfq3tTqFjtW91lW96KIszppyer6DDmrY3WY\n",
       "pNWN9Bbih6zXr5w+vIV4/JC/KOLeQjyftPQW4jnkpbcQszpM0upGegvxQ6K2J6u3EM885C+KuLcQ\n",
       "zygtvYV4BnnpLcSsDtO0uqHG5YbEi0X8yumj7yGqS/s/6w7siyLuDqy0nGZeTuQObOuQuwPL6sDq\n",
       "7g4mu2XO6j7I6l4UcVYnLVldnyFndawOrO4+22TF6j7I6l4TcVYnLVldnyFndawOrG46FbC6+YSc\n",
       "1UlLVve2MWd1rI7VsTpWx+pYnbRkdayO1YHV/RT4m0+aPobp/Qs/+Nf1eS5W97qYS8vpx2haVX+U\n",
       "1fXa/Xe1ujiPA8yO7CvtuHFKuT+XoWT0awETqnpmH2ERvE3IX9ZKaTmHuj875v2UF399NdyW5sGM\n",
       "cK1ulox7rY7VsTpWx+qkJat7q8R0Bxasru/heHBY3aeFnNVJS1b39jFndayO1b3FHPfqzGJ1Qv4B\n",
       "VidGn2d1nxl0VgdWZyRhdULO6sSI1bE6VgdWZyRhdULO6lidxGR1rA6sjtWZPFgdq2N1EpPVsTpW\n",
       "ZyRhdULO6sSI1Qk6qwOrM5KwOiFndWLE6lgdqwOrM5KwOiFndaxOYrI6VgdWZ/pgdayO1bE6icnq\n",
       "WB2rM5KwOiFndWLE6gT9k6zuX/GXI83R6v503GgkYXVCzurEiNV9fND/VVjd9bb/XKvD8FbnWh2r\n",
       "M3mwOlbH6gS9s/24AwtWZyRhdULO6sSI1bE6VgdWZyRhdULO6lidxGR1rA6sjtWZPFgdq2N1EpPV\n",
       "sTpWd7PD+Ewmk4vXMGJLptJpIZ9+M6czwU8nRu9Ql8Rs0n9Wh/exupl+tZrQHNRHrcXsqxLyPmv9\n",
       "6LR8TZCK4LV5KTFf2n9WB1ZnJGF1Qs7qWB2rY3WsDqzOSMLqWJ20ZHUSk9WxOrA6VsfqWB2rY3US\n",
       "k9WxOlZn+mB1Qs7qWB2rk5isDqzOSMLqhJzVsTpWx+pYHd7O6sLF6oNHko6970e1GlZeTCPiQj5m\n",
       "M2eflq8JUi+m9UReSsyXJua7Wh1mSbrquvG5ZEoX63Smg0APhXTufR+q1bjyYhoRF/LxmvkGafma\n",
       "IPVgWk/lpcR8bWKuKqbK1SqYK67VzZKi2HTc+FQypctktl/tehhHO/e+B9VqXnkxjYgL+WjNfIe0\n",
       "fE2Qnjet5/JSYr40Md2BxaSs7iV3YJPHSfABI0n33vegWs0rL6YRcSEfrZnvkJavCdLzpvVcXkrM\n",
       "lybmquJ3Nq63sToMzrJK3JaDWd1i/ckjSffe96BazSsvphFxIR+tme+Qlq8J0vOm9VxeSsyXJuam\n",
       "wuo2rA7jsijyjhufSqbPvur/xEX/51WreeXFNCIu5KM18x3S8jVBet60nstLifnSxGR1YHWsjtUJ\n",
       "OatjdayO1bE69Mq6StzW72F1RSNY3RtZ3TARZ3UzSEtWN+HELN40MbfF8uFe19tYHQZnV4QdN85o\n",
       "+hhohGJ107W6F55JrO6lacnqpmx1wXsmZl5hdTmrw9hWF3XceC+Z0vXguTRhqxuh96yO1bU/4KPS\n",
       "snvvWR2r61hrWCwe7nW9jdVhcJIi67jxXjKtiw65FO6KYpfsdrvtzK1uhN7XqlZ+KC5J1rtVk2Fs\n",
       "m2VRFOSbblYXh/uq8iCN2o6eafRdb5LP2ura9EqFxEoAAAwuSURBVP6Z7j9vdR+Vlt17/0xe1pjW\n",
       "sbRkt07SZmdIVWIWwWCJOfCJOUrMW+VlT4kZFY+/OlxvY3UYnKxIOm68k3/bosv08V3M7ngGJcOn\n",
       "/IAj1Bi9b6Bay93JyFf1le/2d9jjXdGtqnAZ7t/1tI0Wecs+R+tD45J1ELwu5E8W26r3z3T/aav7\n",
       "rLTs3vtn8rLWtE5Te/7wZVFXlVcmZhEMlZhDn5hjxLxdXvaUmNnxZHkwi+5YHcYkrDgdqzfeyb8s\n",
       "aXoSXOXS6rR8b9fk6Ola3Ri9r1et9FTc5tF11lLl2XGXfN2lqni3iM/DVtqqz/H6fFots7laXcve\n",
       "P9P9p63us9Kye++fycs60zqXFmTLBpVXJ2YRDJOYw5+Yw8e8bV72lJhVd7Wut7E6DM624tJx9cbf\n",
       "+RelUdHwJ++uxs/wdNR61lY3Su/rrS4/FZc/etKlVPlp103Ypar18vxS9s2yXZ/Xi58Bb65W17L3\n",
       "z3T/Wav7sLTs3vtn8rLO6s6lfX/byusrr07MIhgmMYc/MYePedu87Ckxq54rvN7G6jBC2JYdN/7K\n",
       "vzT8Hruarg4rj5+nhS+ruiuDk7a6cXpfb3XnAWm9TOsqP08wq7RDVdFPZ1dZqz5nP7Nsswl3glbX\n",
       "tvfPdP9Jq/u0tOze+2fyss7qLjdT00dPoJUqr0nMIhgkMUc4MQePeeu87Ckx1xXn2PU2VofBiatW\n",
       "ncR1S1KuNmf7i3vNFppef2E9jpvpIhk45Qcdocbpfb3VHZfVxcliVVt5WhTRqmNVaenBrnjVps9p\n",
       "aZrMis0sra5t75/q/pNW92lp2bn3T+VlndVdor55sE6vXHlNYhbBEIk5xok5dMxb52Vfibms0MDr\n",
       "bawOw1NUxa2oCWr5DN1s9ydBo+eOgvX6KrF2YZjtslUwbMoPOkKN1Ptaq1vtiwuTdd6k8nD/ys/H\n",
       "T+UVlV+Kw1Yf1k+1Wemr6xN3t15qdW17/1T3n7O6j0vLzr1/Ki9rrO6yrO4756L6yqsTswiGSMwx\n",
       "TsyhY946L3tKzLgo4opLIzGrw6gsqr6WLGq+sxTX34q/v+88/mYbX9b+xrt1+TyP9mdOnOziBoc+\n",
       "k/LxZZXg5W8//+nZEaqu9/ki7Nr7n0MbWF14TMPt8r7W3VSe7t+4sOxidYsG9yjuR3zxM1DED+su\n",
       "R3yokD8hDE16Xwpb6+7Xh/x90vJOaJ5Ky1a9fxCk9nlZ92aTywmT3B1SbyqvTswiGCIx2+flE2Pm\n",
       "QDFvmZe9JWbVUqWbbawOw5NU3Z8obaz7bZdwl2VZ8ngRyioMT1fHN8vrL1Tr41n/+Bv1z6FB09+c\n",
       "udvKxWWlxeVvP/+pe7FNeh8Ey03H3v8c+ridP5t3y/OkdG98u638+B31kblXVbUsfQGNW0W8KL+R\n",
       "PW8Q8aFC/kSxDXr/vdMq6Nj90rF1s9wbpOWd0DyVlkWXtHw2L2ta8vOOkrvz/728fJyYxSCJ2T4v\n",
       "g8nFvF1e9peYecVjhTfbWB2GJ6x603BY8xri0uP0x/yoeMV2sD1tS9fZVcYdv0rHVe+F2i76uCjw\n",
       "/E6PjqjvfXpZ99K692nR9AJa8LP49/4jsFeVb89fTLedrtX9lLNqFfHF5UOKl+smEZ/gHdgmvU+X\n",
       "dz/1Rt1Pl0819KPTslXvf3LrybysuVZ3Ecv7wnBdeV1iFsEQidk+L6d3B7ZdXvaXmFGF/N9sY3UY\n",
       "I27rjhuv8u9kf4vDWZ9n+fe3uiQI82R1b0CIyt94TutVt0eBrDt0mlZX3/t8F6Rh1qn3pUNrrW51\n",
       "njQON3ruFFeqPDlPTvGDiquqKr0NKmoX8cNDuvv1TkF2eEy3NuITtLomvc+T/PLPtt0vH/uU1X1g\n",
       "WrbqfTm3nsrLaqu7LKuLDw8zVedlbWIWwRCJ2T4vp2d1bfOyr8TcVTwCe7ON1WEEiqLrxtJpvTnJ\n",
       "xPF1APlmv6xr/yagMLk7ICSlrzzZ8ar5YaHrqv7QKVpdg94nYbqNTy8badn78qF1VndaVnfS8XvF\n",
       "XSrfnD7TLHrU5upnYM/XAqO4XcRX36NcuInDID/2qfbQST4DW9/7/QvqL/9s2f2rY5+wuk9My1a9\n",
       "v8qtZ/Ky2urOy+ri4+L8yrysT8wiGCIx2+flFJ+BbZmXPSXm4vHDErfbWB1GYFEVuEV1VC9DyfLy\n",
       "xeR7/zQ+rL7YXy3KorsDQnq5DxGvTmsh9rcMN5v6QydodU16v4zy/fTQpfflQ+tfDXycGJb7VcB3\n",
       "i7tUni0O/y3aj1H3K66s6vS+iO1h+GwT8SBcpuH+9fnJoef1h07xfXUNer8s/7Nl96+O7W51H5mW\n",
       "rXp/lVvP5GW11Z3efbc5rh2rzsv6xCyCQRKzdV5O8H11bfOyn8SMKx6WuN3G6jACUdXjElH1u56O\n",
       "Z2i8K4rDs0Tb/V+iw9fY7xNifzYvtvcHhMtPskR7DnVkuzBvcOjkrK5R79MiK70joVXvrw+tVK1k\n",
       "XRTJN+vzT5Lf+zDPlWfBJsmSpGLPml8My3ZJkm2Cx8ffj/j3fskuig5LzVeNDp3kL4bV9T69/mer\n",
       "7t8c29HqPjQt2/T+JreeyMsq0zql5W6XpUF9XtYnZhEMk5ht83KSvxjWMi97ScxtxerL222sDiOw\n",
       "qVoPvan+betHZ+h+tUK4OywoXt0fSh4WW3fodH8HtqoL+W5/YyXt0vvrQ2vfQlz7Yd6v/N6exZAR\n",
       "34vn4We46w+dotU1CVv5n626f3NsMWAz3y8tWwapnFtP5GURDJOX93Ythox5i7ycotW1zcteEjOp\n",
       "WFZ3u43VYQyWy64bHyXT4emw/Ved7yz4/pYcR82nj9pDp29197rw/c/VIoi69P760FaqdVNcReV3\n",
       "9yyGjPguCba7ZodO3uoehK38Ybbq/s2xxYDNfL+0bBmkcm49kZdFMEhe3t21GDLmLfJy8lbXILd6\n",
       "ScxlRYtvt7E6jEFW9erGyo2P8m+zz5T1fjFLsv/as1p+f11Jo3WRhbXjZ+2h07e6e13Y/zPJV116\n",
       "f31oK6u7Ka6i8rt7FkNGPCuK46lVf+jkre5R2NIkirt0/+bYYsBmvl9atg1SKbeeyMsiGCQv7+5a\n",
       "DBnzFnk5eatrkFt9JOaq4obWr22sDmOwqXrTZuXGxvn36wL1Mgk6HjqDO7AD9r7lHdi7Xx6TZzrY\n",
       "W8RXy+W24aHTvwNbH7Ynut/fHdiPSMseg9Ti2CJ4bV72FvNBT8xXx3wbDJGYYcUN2F/bWB1Gofst\n",
       "2KbJFHcewn4dOj+r67P3c7G6Xvs8O6u7E7a+Qz5MM98hLV8TpLlYXfeY93Fivjjmd7rQR2KuK6bI\n",
       "X9tYHUYhrPq118qNDc/QvHsu5X2kfMuf/+rZ6vrs/Vysrtc+zy7keTB4yIdp5qhp+VZBmovVdY95\n",
       "Hyfmi2OeB0Mk5qridtbvbawO41D5oGvVxs5naPMhrLcq+//UgvF7P5s7sH32WcjHauY7pOVrgjSb\n",
       "O7ASs+/ETCpeQfx7G6vDOEQV52XlRlbH6kwerI7VsbpPTcyqnwq+s43VYRziqkciqjZ2PkMXu08e\n",
       "Sbr3vgfVal55MY2IC/lozXyHtHxNkJ43refyUmK+KjHDCvG5s43VYSTCqot1FRs7n6HH30P81JGk\n",
       "e+97UK3mlRfTiLiQj9bMd0jL1wTpedN6Li8l5qsSs/TjFL+4s43VYSyWUaeNnc/QqPPZ8g4jSfRE\n",
       "rjytWs0rL6YRcSEfrZnvkJavCdLzpvVcXkrMFyVm1QWRe9tYHcZiWxW9xxs7n6HxYhF/7kjSvfc9\n",
       "qFbzyotpRFzIR2vmO6Tla4L0vGk9l5cS8zWJGVf8UPrdbawOo5Hsumx8Ipl2y/xjR5Luve9DtRpX\n",
       "Xkwj4kI+4hw3/7R8TZB6MK2n8lJiviYxq+bNu9tYHcZjkXfY+MwZuk1WHzuSdO59P6rVsPJiGhEX\n",
       "8jGbOfu0fE2QejGtJ/JSYr4kMTfLxxf67m+bm9UdSALMklXF+flwYzGz/H2DlhTjtaSYSKeFfPrN\n",
       "fBer67XSYv51SczKWhcVr+j/tW3R9R3LryPOD2z40UzZpO03sjpWJ+SsjtWxuk9MzLhCd35vOxpS\n",
       "HgBThtWxOiFndayO1UlMgNUZSVidkLM6VsfqWB3A6owkrM7kIS1ZncRkdUBvp/UL+Oze3+///Kua\n",
       "R8iL6YRcWn5sWhaCPtPEPPL/AfRwUt6esMIfAAAAAElFTkSuQmCC\n",
       "\" style=\"display:inline;vertical-align:middle;\" /></a></span>"
      ],
      "text/plain": [
       "|- forall_{h in NaturalsPos, k in NaturalsPos, m in NaturalsPos} [forall_{A_{1, 1}, ..A_{1, _b}.., A_{1, k}, ....A_{_a, 1}, ..A_{_a, _b}.., A_{_a, k}...., A_{m, 1}, ..A_{m, _b}.., A_{m, k}, B_{1}, ..B_{_a}.., B_{m}, C_{1, 1}, ..C_{1, _b}.., C_{1, h}, ....C_{_a, 1}, ..C_{_a, _b}.., C_{_a, h}...., C_{m, 1}, ..C_{m, _b}.., C_{m, h}, D_{1}, ..D_{_a}.., D_{m}, S_{1}, ..S_{_a}.., S_{m}, R_{1, 1}, ..R_{1, _b}.., R_{1, k}, ....R_{_a, 1}, ..R_{_a, _b}.., R_{_a, k}...., R_{m, 1}, ..R_{m, _b}.., R_{m, k}, Q_{1, 1}, ..Q_{1, _b}.., Q_{1, h}, ....Q_{_a, 1}, ..Q_{_a, _b}.., Q_{_a, h}...., Q_{m, 1}, ..Q_{m, _b}.., Q_{m, h}} (( B_{1} MULTI_QUBIT_GATE S_{1}   \\\\ \n",
       "   \\colon   \\\\ \n",
       "   B_{i} MULTI_QUBIT_GATE S_{i}   \\\\ \n",
       "   \\colon   \\\\ \n",
       "   B_{m} MULTI_QUBIT_GATE S_{m} equiv  D_{1} MULTI_QUBIT_GATE S_{1}   \\\\ \n",
       "   \\colon   \\\\ \n",
       "   D_{i} MULTI_QUBIT_GATE S_{i}   \\\\ \n",
       "   \\colon   \\\\ \n",
       "   D_{m} MULTI_QUBIT_GATE S_{m}) =>  \\\\ ( A_{1, 1} MULTI_QUBIT_GATE R_{1, 1}  & ..A_{1, j} MULTI_QUBIT_GATE R_{1, j}..  & A_{1, k} MULTI_QUBIT_GATE R_{1, k}  & B_{1} MULTI_QUBIT_GATE S_{1}  & C_{1, 1} MULTI_QUBIT_GATE Q_{1, 1}  & ..C_{1, j} MULTI_QUBIT_GATE Q_{1, j}..  & C_{1, h} MULTI_QUBIT_GATE Q_{1, h}   \\\\ \n",
       "   \\colon  & \\colon  & \\colon  & \\colon  & \\colon  & \\colon  & \\colon   \\\\ \n",
       "   A_{i, 1} MULTI_QUBIT_GATE R_{i, 1}  & ..A_{i, j} MULTI_QUBIT_GATE R_{i, j}..  & A_{i, k} MULTI_QUBIT_GATE R_{i, k}  & B_{i} MULTI_QUBIT_GATE S_{i}  & C_{i, 1} MULTI_QUBIT_GATE Q_{i, 1}  & ..C_{i, j} MULTI_QUBIT_GATE Q_{i, j}..  & C_{i, h} MULTI_QUBIT_GATE Q_{i, h}   \\\\ \n",
       "   \\colon  & \\colon  & \\colon  & \\colon  & \\colon  & \\colon  & \\colon   \\\\ \n",
       "   A_{m, 1} MULTI_QUBIT_GATE R_{m, 1}  & ..A_{m, j} MULTI_QUBIT_GATE R_{m, j}..  & A_{m, k} MULTI_QUBIT_GATE R_{m, k}  & B_{m} MULTI_QUBIT_GATE S_{m}  & C_{m, 1} MULTI_QUBIT_GATE Q_{m, 1}  & ..C_{m, j} MULTI_QUBIT_GATE Q_{m, j}..  & C_{m, h} MULTI_QUBIT_GATE Q_{m, h} equiv  A_{1, 1} MULTI_QUBIT_GATE R_{1, 1}  & ..A_{1, j} MULTI_QUBIT_GATE R_{1, j}..  & A_{1, k} MULTI_QUBIT_GATE R_{1, k}  & D_{1} MULTI_QUBIT_GATE S_{1}  & C_{1, 1} MULTI_QUBIT_GATE Q_{1, 1}  & ..C_{1, j} MULTI_QUBIT_GATE Q_{1, j}..  & C_{1, h} MULTI_QUBIT_GATE Q_{1, h}   \\\\ \n",
       "   \\colon  & \\colon  & \\colon  & \\colon  & \\colon  & \\colon  & \\colon   \\\\ \n",
       "   A_{i, 1} MULTI_QUBIT_GATE R_{i, 1}  & ..A_{i, j} MULTI_QUBIT_GATE R_{i, j}..  & A_{i, k} MULTI_QUBIT_GATE R_{i, k}  & D_{i} MULTI_QUBIT_GATE S_{i}  & C_{i, 1} MULTI_QUBIT_GATE Q_{i, 1}  & ..C_{i, j} MULTI_QUBIT_GATE Q_{i, j}..  & C_{i, h} MULTI_QUBIT_GATE Q_{i, h}   \\\\ \n",
       "   \\colon  & \\colon  & \\colon  & \\colon  & \\colon  & \\colon  & \\colon   \\\\ \n",
       "   A_{m, 1} MULTI_QUBIT_GATE R_{m, 1}  & ..A_{m, j} MULTI_QUBIT_GATE R_{m, j}..  & A_{m, k} MULTI_QUBIT_GATE R_{m, k}  & D_{m} MULTI_QUBIT_GATE S_{m}  & C_{m, 1} MULTI_QUBIT_GATE Q_{m, 1}  & ..C_{m, j} MULTI_QUBIT_GATE Q_{m, j}..  & C_{m, h} MULTI_QUBIT_GATE Q_{m, h}))]"
      ]
     },
     "execution_count": 2,
     "metadata": {},
     "output_type": "execute_result"
    }
   ],
   "source": [
    "single_time_equiv"
   ]
  },
  {
   "cell_type": "code",
   "execution_count": 4,
   "metadata": {},
   "outputs": [
    {
     "name": "stdout",
     "output_type": "stream",
     "text": [
      "self  (B_{1} MULTI_QUBIT_GATE S_{1}), ..(B_{i} MULTI_QUBIT_GATE S_{i}).., (B_{m} MULTI_QUBIT_GATE S_{m}) repl_map  {h: 1, k: 1, m: 1, A: {(A_{1, 1}, ..A_{1, _b}.., A_{1, 1}, ....A_{_a, 1}, ..A_{_a, _b}.., A_{_a, 1}...., A_{1, 1}, ..A_{1, _b}.., A_{1, 1})}, (A_{1, 1}, ..A_{1, _b}.., A_{1, 1}, ....A_{_a, 1}, ..A_{_a, _b}.., A_{_a, 1}...., A_{1, 1}, ..A_{1, _b}.., A_{1, 1}): ([GATE](H)), B: {(B_{1}, ..B_{_a}.., B_{1})}, (B_{1}, ..B_{_a}.., B_{1}): ([GATE](Z)), C: {(C_{1, 1}, ..C_{1, _b}.., C_{1, 1}, ....C_{_a, 1}, ..C_{_a, _b}.., C_{_a, 1}...., C_{1, 1}, ..C_{1, _b}.., C_{1, 1})}, (C_{1, 1}, ..C_{1, _b}.., C_{1, 1}, ....C_{_a, 1}, ..C_{_a, _b}.., C_{_a, 1}...., C_{1, 1}, ..C_{1, _b}.., C_{1, 1}): ([GATE](X)), D: {(D_{1}, ..D_{_a}.., D_{1})}, (D_{1}, ..D_{_a}.., D_{1}): ([GATE](Z)), S: {(S_{1}, ..S_{_a}.., S_{1})}, (S_{1}, ..S_{_a}.., S_{1}): ({1}), R: {(R_{1, 1}, ..R_{1, _b}.., R_{1, 1}, ....R_{_a, 1}, ..R_{_a, _b}.., R_{_a, 1}...., R_{1, 1}, ..R_{1, _b}.., R_{1, 1})}, (R_{1, 1}, ..R_{1, _b}.., R_{1, 1}, ....R_{_a, 1}, ..R_{_a, _b}.., R_{_a, 1}...., R_{1, 1}, ..R_{1, _b}.., R_{1, 1}): ({1}), Q: {(Q_{1, 1}, ..Q_{1, _b}.., Q_{1, 1}, ....Q_{_a, 1}, ..Q_{_a, _b}.., Q_{_a, 1}...., Q_{1, 1}, ..Q_{1, _b}.., Q_{1, 1})}, (Q_{1, 1}, ..Q_{1, _b}.., Q_{1, 1}, ....Q_{_a, 1}, ..Q_{_a, _b}.., Q_{_a, 1}...., Q_{1, 1}, ..Q_{1, _b}.., Q_{1, 1}): ({1})}\n",
      "index_repl:  {i: i}  occurrence:  S_{i}\n",
      "modified occurrence  S_{i}\n",
      "index_repl:  {i: i}  occurrence:  B_{i}\n",
      "modified occurrence  B_{i}\n",
      "replacement map  {h: 1, k: 1, m: 1, A: {(A_{1, 1}, ..A_{1, _b}.., A_{1, 1}, ....A_{_a, 1}, ..A_{_a, _b}.., A_{_a, 1}...., A_{1, 1}, ..A_{1, _b}.., A_{1, 1})}, (A_{1, 1}, ..A_{1, _b}.., A_{1, 1}, ....A_{_a, 1}, ..A_{_a, _b}.., A_{_a, 1}...., A_{1, 1}, ..A_{1, _b}.., A_{1, 1}): ([GATE](H)), (B_{1}, ..B_{_a}.., B_{1}): ([GATE](Z)), C: {(C_{1, 1}, ..C_{1, _b}.., C_{1, 1}, ....C_{_a, 1}, ..C_{_a, _b}.., C_{_a, 1}...., C_{1, 1}, ..C_{1, _b}.., C_{1, 1})}, (C_{1, 1}, ..C_{1, _b}.., C_{1, 1}, ....C_{_a, 1}, ..C_{_a, _b}.., C_{_a, 1}...., C_{1, 1}, ..C_{1, _b}.., C_{1, 1}): ([GATE](X)), D: {(D_{1}, ..D_{_a}.., D_{1})}, (D_{1}, ..D_{_a}.., D_{1}): ([GATE](Z)), (S_{1}, ..S_{_a}.., S_{1}): ({1}), R: {(R_{1, 1}, ..R_{1, _b}.., R_{1, 1}, ....R_{_a, 1}, ..R_{_a, _b}.., R_{_a, 1}...., R_{1, 1}, ..R_{1, _b}.., R_{1, 1})}, (R_{1, 1}, ..R_{1, _b}.., R_{1, 1}, ....R_{_a, 1}, ..R_{_a, _b}.., R_{_a, 1}...., R_{1, 1}, ..R_{1, _b}.., R_{1, 1}): ({1}), Q: {(Q_{1, 1}, ..Q_{1, _b}.., Q_{1, 1}, ....Q_{_a, 1}, ..Q_{_a, _b}.., Q_{_a, 1}...., Q_{1, 1}, ..Q_{1, _b}.., Q_{1, 1})}, (Q_{1, 1}, ..Q_{1, _b}.., Q_{1, 1}, ....Q_{_a, 1}, ..Q_{_a, _b}.., Q_{_a, 1}...., Q_{1, 1}, ..Q_{1, _b}.., Q_{1, 1}): ({1}), B: {(B_{1}, ..B_{_a}.., B_{1})}, S: {(S_{1}, ..S_{_a}.., S_{1})}}\n",
      "self  (D_{1} MULTI_QUBIT_GATE S_{1}), ..(D_{i} MULTI_QUBIT_GATE S_{i}).., (D_{m} MULTI_QUBIT_GATE S_{m}) repl_map  {h: 1, k: 1, m: 1, A: {(A_{1, 1}, ..A_{1, _b}.., A_{1, 1}, ....A_{_a, 1}, ..A_{_a, _b}.., A_{_a, 1}...., A_{1, 1}, ..A_{1, _b}.., A_{1, 1})}, (A_{1, 1}, ..A_{1, _b}.., A_{1, 1}, ....A_{_a, 1}, ..A_{_a, _b}.., A_{_a, 1}...., A_{1, 1}, ..A_{1, _b}.., A_{1, 1}): ([GATE](H)), (B_{1}, ..B_{_a}.., B_{1}): ([GATE](Z)), C: {(C_{1, 1}, ..C_{1, _b}.., C_{1, 1}, ....C_{_a, 1}, ..C_{_a, _b}.., C_{_a, 1}...., C_{1, 1}, ..C_{1, _b}.., C_{1, 1})}, (C_{1, 1}, ..C_{1, _b}.., C_{1, 1}, ....C_{_a, 1}, ..C_{_a, _b}.., C_{_a, 1}...., C_{1, 1}, ..C_{1, _b}.., C_{1, 1}): ([GATE](X)), D: {(D_{1}, ..D_{_a}.., D_{1})}, (D_{1}, ..D_{_a}.., D_{1}): ([GATE](Z)), (S_{1}, ..S_{_a}.., S_{1}): ({1}), R: {(R_{1, 1}, ..R_{1, _b}.., R_{1, 1}, ....R_{_a, 1}, ..R_{_a, _b}.., R_{_a, 1}...., R_{1, 1}, ..R_{1, _b}.., R_{1, 1})}, (R_{1, 1}, ..R_{1, _b}.., R_{1, 1}, ....R_{_a, 1}, ..R_{_a, _b}.., R_{_a, 1}...., R_{1, 1}, ..R_{1, _b}.., R_{1, 1}): ({1}), Q: {(Q_{1, 1}, ..Q_{1, _b}.., Q_{1, 1}, ....Q_{_a, 1}, ..Q_{_a, _b}.., Q_{_a, 1}...., Q_{1, 1}, ..Q_{1, _b}.., Q_{1, 1})}, (Q_{1, 1}, ..Q_{1, _b}.., Q_{1, 1}, ....Q_{_a, 1}, ..Q_{_a, _b}.., Q_{_a, 1}...., Q_{1, 1}, ..Q_{1, _b}.., Q_{1, 1}): ({1}), B: {(B_{1}, ..B_{_a}.., B_{1})}, S: {(S_{1}, ..S_{_a}.., S_{1})}}\n",
      "index_repl:  {i: i}  occurrence:  D_{i}\n",
      "modified occurrence  D_{i}\n",
      "index_repl:  {i: i}  occurrence:  S_{i}\n",
      "modified occurrence  S_{i}\n",
      "replacement map  {h: 1, k: 1, m: 1, A: {(A_{1, 1}, ..A_{1, _b}.., A_{1, 1}, ....A_{_a, 1}, ..A_{_a, _b}.., A_{_a, 1}...., A_{1, 1}, ..A_{1, _b}.., A_{1, 1})}, (A_{1, 1}, ..A_{1, _b}.., A_{1, 1}, ....A_{_a, 1}, ..A_{_a, _b}.., A_{_a, 1}...., A_{1, 1}, ..A_{1, _b}.., A_{1, 1}): ([GATE](H)), (B_{1}, ..B_{_a}.., B_{1}): ([GATE](Z)), C: {(C_{1, 1}, ..C_{1, _b}.., C_{1, 1}, ....C_{_a, 1}, ..C_{_a, _b}.., C_{_a, 1}...., C_{1, 1}, ..C_{1, _b}.., C_{1, 1})}, (C_{1, 1}, ..C_{1, _b}.., C_{1, 1}, ....C_{_a, 1}, ..C_{_a, _b}.., C_{_a, 1}...., C_{1, 1}, ..C_{1, _b}.., C_{1, 1}): ([GATE](X)), (D_{1}, ..D_{_a}.., D_{1}): ([GATE](Z)), (S_{1}, ..S_{_a}.., S_{1}): ({1}), R: {(R_{1, 1}, ..R_{1, _b}.., R_{1, 1}, ....R_{_a, 1}, ..R_{_a, _b}.., R_{_a, 1}...., R_{1, 1}, ..R_{1, _b}.., R_{1, 1})}, (R_{1, 1}, ..R_{1, _b}.., R_{1, 1}, ....R_{_a, 1}, ..R_{_a, _b}.., R_{_a, 1}...., R_{1, 1}, ..R_{1, _b}.., R_{1, 1}): ({1}), Q: {(Q_{1, 1}, ..Q_{1, _b}.., Q_{1, 1}, ....Q_{_a, 1}, ..Q_{_a, _b}.., Q_{_a, 1}...., Q_{1, 1}, ..Q_{1, _b}.., Q_{1, 1})}, (Q_{1, 1}, ..Q_{1, _b}.., Q_{1, 1}, ....Q_{_a, 1}, ..Q_{_a, _b}.., Q_{_a, 1}...., Q_{1, 1}, ..Q_{1, _b}.., Q_{1, 1}): ({1}), B: {(B_{1}, ..B_{_a}.., B_{1})}, D: {(D_{1}, ..D_{_a}.., D_{1})}, S: {(S_{1}, ..S_{_a}.., S_{1})}}\n",
      "self  (A_{1, 1} MULTI_QUBIT_GATE R_{1, 1}, ..A_{1, j} MULTI_QUBIT_GATE R_{1, j}.., A_{1, k} MULTI_QUBIT_GATE R_{1, k}, B_{1} MULTI_QUBIT_GATE S_{1}, C_{1, 1} MULTI_QUBIT_GATE Q_{1, 1}, ..C_{1, j} MULTI_QUBIT_GATE Q_{1, j}.., C_{1, h} MULTI_QUBIT_GATE Q_{1, h}), ..(A_{i, 1} MULTI_QUBIT_GATE R_{i, 1}, ..A_{i, j} MULTI_QUBIT_GATE R_{i, j}.., A_{i, k} MULTI_QUBIT_GATE R_{i, k}, B_{i} MULTI_QUBIT_GATE S_{i}, C_{i, 1} MULTI_QUBIT_GATE Q_{i, 1}, ..C_{i, j} MULTI_QUBIT_GATE Q_{i, j}.., C_{i, h} MULTI_QUBIT_GATE Q_{i, h}).., (A_{m, 1} MULTI_QUBIT_GATE R_{m, 1}, ..A_{m, j} MULTI_QUBIT_GATE R_{m, j}.., A_{m, k} MULTI_QUBIT_GATE R_{m, k}, B_{m} MULTI_QUBIT_GATE S_{m}, C_{m, 1} MULTI_QUBIT_GATE Q_{m, 1}, ..C_{m, j} MULTI_QUBIT_GATE Q_{m, j}.., C_{m, h} MULTI_QUBIT_GATE Q_{m, h}) repl_map  {h: 1, k: 1, m: 1, A: {(A_{1, 1}, ..A_{1, _b}.., A_{1, 1}, ....A_{_a, 1}, ..A_{_a, _b}.., A_{_a, 1}...., A_{1, 1}, ..A_{1, _b}.., A_{1, 1})}, (A_{1, 1}, ..A_{1, _b}.., A_{1, 1}, ....A_{_a, 1}, ..A_{_a, _b}.., A_{_a, 1}...., A_{1, 1}, ..A_{1, _b}.., A_{1, 1}): ([GATE](H)), (B_{1}, ..B_{_a}.., B_{1}): ([GATE](Z)), C: {(C_{1, 1}, ..C_{1, _b}.., C_{1, 1}, ....C_{_a, 1}, ..C_{_a, _b}.., C_{_a, 1}...., C_{1, 1}, ..C_{1, _b}.., C_{1, 1})}, (C_{1, 1}, ..C_{1, _b}.., C_{1, 1}, ....C_{_a, 1}, ..C_{_a, _b}.., C_{_a, 1}...., C_{1, 1}, ..C_{1, _b}.., C_{1, 1}): ([GATE](X)), (D_{1}, ..D_{_a}.., D_{1}): ([GATE](Z)), (S_{1}, ..S_{_a}.., S_{1}): ({1}), R: {(R_{1, 1}, ..R_{1, _b}.., R_{1, 1}, ....R_{_a, 1}, ..R_{_a, _b}.., R_{_a, 1}...., R_{1, 1}, ..R_{1, _b}.., R_{1, 1})}, (R_{1, 1}, ..R_{1, _b}.., R_{1, 1}, ....R_{_a, 1}, ..R_{_a, _b}.., R_{_a, 1}...., R_{1, 1}, ..R_{1, _b}.., R_{1, 1}): ({1}), Q: {(Q_{1, 1}, ..Q_{1, _b}.., Q_{1, 1}, ....Q_{_a, 1}, ..Q_{_a, _b}.., Q_{_a, 1}...., Q_{1, 1}, ..Q_{1, _b}.., Q_{1, 1})}, (Q_{1, 1}, ..Q_{1, _b}.., Q_{1, 1}, ....Q_{_a, 1}, ..Q_{_a, _b}.., Q_{_a, 1}...., Q_{1, 1}, ..Q_{1, _b}.., Q_{1, 1}): ({1}), B: {(B_{1}, ..B_{_a}.., B_{1})}, D: {(D_{1}, ..D_{_a}.., D_{1})}, S: {(S_{1}, ..S_{_a}.., S_{1})}}\n",
      "self  A_{i, 1} MULTI_QUBIT_GATE R_{i, 1}, ..A_{i, j} MULTI_QUBIT_GATE R_{i, j}.., A_{i, k} MULTI_QUBIT_GATE R_{i, k} repl_map  {h: 1, k: 1, m: 1, (A_{1, 1}, ..A_{1, _b}.., A_{1, 1}, ....A_{_a, 1}, ..A_{_a, _b}.., A_{_a, 1}...., A_{1, 1}, ..A_{1, _b}.., A_{1, 1}): ([GATE](H)), (B_{1}, ..B_{_a}.., B_{1}): ([GATE](Z)), (C_{1, 1}, ..C_{1, _b}.., C_{1, 1}, ....C_{_a, 1}, ..C_{_a, _b}.., C_{_a, 1}...., C_{1, 1}, ..C_{1, _b}.., C_{1, 1}): ([GATE](X)), (D_{1}, ..D_{_a}.., D_{1}): ([GATE](Z)), (S_{1}, ..S_{_a}.., S_{1}): ({1}), (R_{1, 1}, ..R_{1, _b}.., R_{1, 1}, ....R_{_a, 1}, ..R_{_a, _b}.., R_{_a, 1}...., R_{1, 1}, ..R_{1, _b}.., R_{1, 1}): ({1}), (Q_{1, 1}, ..Q_{1, _b}.., Q_{1, 1}, ....Q_{_a, 1}, ..Q_{_a, _b}.., Q_{_a, 1}...., Q_{1, 1}, ..Q_{1, _b}.., Q_{1, 1}): ({1}), D: {(D_{1}, ..D_{_a}.., D_{1})}}\n",
      "self  f(i), ..f(a).., f(i) repl_map  {f: j -> A_{i, j} MULTI_QUBIT_GATE R_{i, j}, i: 1}\n",
      "self  C_{i, 1} MULTI_QUBIT_GATE Q_{i, 1}, ..C_{i, j} MULTI_QUBIT_GATE Q_{i, j}.., C_{i, h} MULTI_QUBIT_GATE Q_{i, h} repl_map  {h: 1, k: 1, m: 1, (A_{1, 1}, ..A_{1, _b}.., A_{1, 1}, ....A_{_a, 1}, ..A_{_a, _b}.., A_{_a, 1}...., A_{1, 1}, ..A_{1, _b}.., A_{1, 1}): ([GATE](H)), (B_{1}, ..B_{_a}.., B_{1}): ([GATE](Z)), (C_{1, 1}, ..C_{1, _b}.., C_{1, 1}, ....C_{_a, 1}, ..C_{_a, _b}.., C_{_a, 1}...., C_{1, 1}, ..C_{1, _b}.., C_{1, 1}): ([GATE](X)), (D_{1}, ..D_{_a}.., D_{1}): ([GATE](Z)), (S_{1}, ..S_{_a}.., S_{1}): ({1}), (R_{1, 1}, ..R_{1, _b}.., R_{1, 1}, ....R_{_a, 1}, ..R_{_a, _b}.., R_{_a, 1}...., R_{1, 1}, ..R_{1, _b}.., R_{1, 1}): ({1}), (Q_{1, 1}, ..Q_{1, _b}.., Q_{1, 1}, ....Q_{_a, 1}, ..Q_{_a, _b}.., Q_{_a, 1}...., Q_{1, 1}, ..Q_{1, _b}.., Q_{1, 1}): ({1}), D: {(D_{1}, ..D_{_a}.., D_{1})}}\n",
      "self  f(i), ..f(a).., f(i) repl_map  {f: j -> C_{i, j} MULTI_QUBIT_GATE Q_{i, j}, i: 1}\n"
     ]
    },
    {
     "name": "stdout",
     "output_type": "stream",
     "text": [
      "index_repl:  {i: i, j: j}  occurrence:  A_{i, 1}, ..A_{i, j}.., A_{i, k}\n",
      "modified occurrence  A_{i, 1}, ..A_{i, j}.., A_{i, k}\n"
     ]
    },
    {
     "ename": "InstantiationFailure",
     "evalue": "Proof step failed assuming { [GATE](Z) equiv  [GATE](Z)}:\nAttempting to instantiate |- forall_{h in NaturalsPos, k in NaturalsPos, m in NaturalsPos} [forall_{A_{1, 1}, ..A_{1, _b}.., A_{1, k}, ....A_{_a, 1}, ..A_{_a, _b}.., A_{_a, k}...., A_{m, 1}, ..A_{m, _b}.., A_{m, k}, B_{1}, ..B_{_a}.., B_{m}, C_{1, 1}, ..C_{1, _b}.., C_{1, h}, ....C_{_a, 1}, ..C_{_a, _b}.., C_{_a, h}...., C_{m, 1}, ..C_{m, _b}.., C_{m, h}, D_{1}, ..D_{_a}.., D_{m}, S_{1}, ..S_{_a}.., S_{m}, R_{1, 1}, ..R_{1, _b}.., R_{1, k}, ....R_{_a, 1}, ..R_{_a, _b}.., R_{_a, k}...., R_{m, 1}, ..R_{m, _b}.., R_{m, k}, Q_{1, 1}, ..Q_{1, _b}.., Q_{1, h}, ....Q_{_a, 1}, ..Q_{_a, _b}.., Q_{_a, h}...., Q_{m, 1}, ..Q_{m, _b}.., Q_{m, h}} (( B_{1} MULTI_QUBIT_GATE S_{1}   \\\\ \n   \\colon   \\\\ \n   B_{i} MULTI_QUBIT_GATE S_{i}   \\\\ \n   \\colon   \\\\ \n   B_{m} MULTI_QUBIT_GATE S_{m} equiv  D_{1} MULTI_QUBIT_GATE S_{1}   \\\\ \n   \\colon   \\\\ \n   D_{i} MULTI_QUBIT_GATE S_{i}   \\\\ \n   \\colon   \\\\ \n   D_{m} MULTI_QUBIT_GATE S_{m}) =>  \\\\ ( A_{1, 1} MULTI_QUBIT_GATE R_{1, 1}  & ..A_{1, j} MULTI_QUBIT_GATE R_{1, j}..  & A_{1, k} MULTI_QUBIT_GATE R_{1, k}  & B_{1} MULTI_QUBIT_GATE S_{1}  & C_{1, 1} MULTI_QUBIT_GATE Q_{1, 1}  & ..C_{1, j} MULTI_QUBIT_GATE Q_{1, j}..  & C_{1, h} MULTI_QUBIT_GATE Q_{1, h}   \\\\ \n   \\colon  & \\colon  & \\colon  & \\colon  & \\colon  & \\colon  & \\colon   \\\\ \n   A_{i, 1} MULTI_QUBIT_GATE R_{i, 1}  & ..A_{i, j} MULTI_QUBIT_GATE R_{i, j}..  & A_{i, k} MULTI_QUBIT_GATE R_{i, k}  & B_{i} MULTI_QUBIT_GATE S_{i}  & C_{i, 1} MULTI_QUBIT_GATE Q_{i, 1}  & ..C_{i, j} MULTI_QUBIT_GATE Q_{i, j}..  & C_{i, h} MULTI_QUBIT_GATE Q_{i, h}   \\\\ \n   \\colon  & \\colon  & \\colon  & \\colon  & \\colon  & \\colon  & \\colon   \\\\ \n   A_{m, 1} MULTI_QUBIT_GATE R_{m, 1}  & ..A_{m, j} MULTI_QUBIT_GATE R_{m, j}..  & A_{m, k} MULTI_QUBIT_GATE R_{m, k}  & B_{m} MULTI_QUBIT_GATE S_{m}  & C_{m, 1} MULTI_QUBIT_GATE Q_{m, 1}  & ..C_{m, j} MULTI_QUBIT_GATE Q_{m, j}..  & C_{m, h} MULTI_QUBIT_GATE Q_{m, h} equiv  A_{1, 1} MULTI_QUBIT_GATE R_{1, 1}  & ..A_{1, j} MULTI_QUBIT_GATE R_{1, j}..  & A_{1, k} MULTI_QUBIT_GATE R_{1, k}  & D_{1} MULTI_QUBIT_GATE S_{1}  & C_{1, 1} MULTI_QUBIT_GATE Q_{1, 1}  & ..C_{1, j} MULTI_QUBIT_GATE Q_{1, j}..  & C_{1, h} MULTI_QUBIT_GATE Q_{1, h}   \\\\ \n   \\colon  & \\colon  & \\colon  & \\colon  & \\colon  & \\colon  & \\colon   \\\\ \n   A_{i, 1} MULTI_QUBIT_GATE R_{i, 1}  & ..A_{i, j} MULTI_QUBIT_GATE R_{i, j}..  & A_{i, k} MULTI_QUBIT_GATE R_{i, k}  & D_{i} MULTI_QUBIT_GATE S_{i}  & C_{i, 1} MULTI_QUBIT_GATE Q_{i, 1}  & ..C_{i, j} MULTI_QUBIT_GATE Q_{i, j}..  & C_{i, h} MULTI_QUBIT_GATE Q_{i, h}   \\\\ \n   \\colon  & \\colon  & \\colon  & \\colon  & \\colon  & \\colon  & \\colon   \\\\ \n   A_{m, 1} MULTI_QUBIT_GATE R_{m, 1}  & ..A_{m, j} MULTI_QUBIT_GATE R_{m, j}..  & A_{m, k} MULTI_QUBIT_GATE R_{m, k}  & D_{m} MULTI_QUBIT_GATE S_{m}  & C_{m, 1} MULTI_QUBIT_GATE Q_{m, 1}  & ..C_{m, j} MULTI_QUBIT_GATE Q_{m, j}..  & C_{m, h} MULTI_QUBIT_GATE Q_{m, h}))] with {h: 1, k: 1, m: 1, A: ([GATE](H)), B: ([GATE](Z)), C: ([GATE](X)), D: ([GATE](Z)), S: ({1}), R: ({1}), Q: ({1}), (A_{1, 1}, ..A_{1, _b}.., A_{1, 1}, ....A_{_a, 1}, ..A_{_a, _b}.., A_{_a, 1}...., A_{1, 1}, ..A_{1, _b}.., A_{1, 1}): ([GATE](H)), (B_{1}, ..B_{_a}.., B_{1}): ([GATE](Z)), (C_{1, 1}, ..C_{1, _b}.., C_{1, 1}, ....C_{_a, 1}, ..C_{_a, _b}.., C_{_a, 1}...., C_{1, 1}, ..C_{1, _b}.., C_{1, 1}): ([GATE](X)), (D_{1}, ..D_{_a}.., D_{1}): ([GATE](Z)), (S_{1}, ..S_{_a}.., S_{1}): ({1}), (R_{1, 1}, ..R_{1, _b}.., R_{1, 1}, ....R_{_a, 1}, ..R_{_a, _b}.., R_{_a, 1}...., R_{1, 1}, ..R_{1, _b}.., R_{1, 1}): ({1}), (Q_{1, 1}, ..Q_{1, _b}.., Q_{1, 1}, ....Q_{_a, 1}, ..Q_{_a, _b}.., Q_{_a, 1}...., Q_{1, 1}, ..Q_{1, _b}.., Q_{1, 1}): ({1})}:\nFailure to apply (h, k, m, A_{1, 1}, ..A_{1, _b}.., A_{1, 1}, ....A_{_a, 1}, ..A_{_a, _b}.., A_{_a, 1}...., A_{1, 1}, ..A_{1, _b}.., A_{1, 1}, B_{1}, ..B_{_a}.., B_{1}, C_{1, 1}, ..C_{1, _b}.., C_{1, 1}, ....C_{_a, 1}, ..C_{_a, _b}.., C_{_a, 1}...., C_{1, 1}, ..C_{1, _b}.., C_{1, 1}, D_{1}, ..D_{_a}.., D_{1}, S_{1}, ..S_{_a}.., S_{1}, R_{1, 1}, ..R_{1, _b}.., R_{1, 1}, ....R_{_a, 1}, ..R_{_a, _b}.., R_{_a, 1}...., R_{1, 1}, ..R_{1, _b}.., R_{1, 1}, Q_{1, 1}, ..Q_{1, _b}.., Q_{1, 1}, ....Q_{_a, 1}, ..Q_{_a, _b}.., Q_{_a, 1}...., Q_{1, 1}, ..Q_{1, _b}.., Q_{1, 1}) -> (( B_{1} MULTI_QUBIT_GATE S_{1}   \\\\ \n   \\colon   \\\\ \n   B_{i} MULTI_QUBIT_GATE S_{i}   \\\\ \n   \\colon   \\\\ \n   B_{m} MULTI_QUBIT_GATE S_{m} equiv  D_{1} MULTI_QUBIT_GATE S_{1}   \\\\ \n   \\colon   \\\\ \n   D_{i} MULTI_QUBIT_GATE S_{i}   \\\\ \n   \\colon   \\\\ \n   D_{m} MULTI_QUBIT_GATE S_{m}) =>  \\\\ ( A_{1, 1} MULTI_QUBIT_GATE R_{1, 1}  & ..A_{1, j} MULTI_QUBIT_GATE R_{1, j}..  & A_{1, k} MULTI_QUBIT_GATE R_{1, k}  & B_{1} MULTI_QUBIT_GATE S_{1}  & C_{1, 1} MULTI_QUBIT_GATE Q_{1, 1}  & ..C_{1, j} MULTI_QUBIT_GATE Q_{1, j}..  & C_{1, h} MULTI_QUBIT_GATE Q_{1, h}   \\\\ \n   \\colon  & \\colon  & \\colon  & \\colon  & \\colon  & \\colon  & \\colon   \\\\ \n   A_{i, 1} MULTI_QUBIT_GATE R_{i, 1}  & ..A_{i, j} MULTI_QUBIT_GATE R_{i, j}..  & A_{i, k} MULTI_QUBIT_GATE R_{i, k}  & B_{i} MULTI_QUBIT_GATE S_{i}  & C_{i, 1} MULTI_QUBIT_GATE Q_{i, 1}  & ..C_{i, j} MULTI_QUBIT_GATE Q_{i, j}..  & C_{i, h} MULTI_QUBIT_GATE Q_{i, h}   \\\\ \n   \\colon  & \\colon  & \\colon  & \\colon  & \\colon  & \\colon  & \\colon   \\\\ \n   A_{m, 1} MULTI_QUBIT_GATE R_{m, 1}  & ..A_{m, j} MULTI_QUBIT_GATE R_{m, j}..  & A_{m, k} MULTI_QUBIT_GATE R_{m, k}  & B_{m} MULTI_QUBIT_GATE S_{m}  & C_{m, 1} MULTI_QUBIT_GATE Q_{m, 1}  & ..C_{m, j} MULTI_QUBIT_GATE Q_{m, j}..  & C_{m, h} MULTI_QUBIT_GATE Q_{m, h} equiv  A_{1, 1} MULTI_QUBIT_GATE R_{1, 1}  & ..A_{1, j} MULTI_QUBIT_GATE R_{1, j}..  & A_{1, k} MULTI_QUBIT_GATE R_{1, k}  & D_{1} MULTI_QUBIT_GATE S_{1}  & C_{1, 1} MULTI_QUBIT_GATE Q_{1, 1}  & ..C_{1, j} MULTI_QUBIT_GATE Q_{1, j}..  & C_{1, h} MULTI_QUBIT_GATE Q_{1, h}   \\\\ \n   \\colon  & \\colon  & \\colon  & \\colon  & \\colon  & \\colon  & \\colon   \\\\ \n   A_{i, 1} MULTI_QUBIT_GATE R_{i, 1}  & ..A_{i, j} MULTI_QUBIT_GATE R_{i, j}..  & A_{i, k} MULTI_QUBIT_GATE R_{i, k}  & D_{i} MULTI_QUBIT_GATE S_{i}  & C_{i, 1} MULTI_QUBIT_GATE Q_{i, 1}  & ..C_{i, j} MULTI_QUBIT_GATE Q_{i, j}..  & C_{i, h} MULTI_QUBIT_GATE Q_{i, h}   \\\\ \n   \\colon  & \\colon  & \\colon  & \\colon  & \\colon  & \\colon  & \\colon   \\\\ \n   A_{m, 1} MULTI_QUBIT_GATE R_{m, 1}  & ..A_{m, j} MULTI_QUBIT_GATE R_{m, j}..  & A_{m, k} MULTI_QUBIT_GATE R_{m, k}  & D_{m} MULTI_QUBIT_GATE S_{m}  & C_{m, 1} MULTI_QUBIT_GATE Q_{m, 1}  & ..C_{m, j} MULTI_QUBIT_GATE Q_{m, j}..  & C_{m, h} MULTI_QUBIT_GATE Q_{m, h})) to (1, 1, 1, [GATE](H), [GATE](Z), [GATE](X), [GATE](Z), {1}, {1}, {1}) assuming ( [GATE](Z) equiv  [GATE](Z),):\nImproper replacement: Improper replacement of (A_{1, 1} MULTI_QUBIT_GATE R_{1, 1}, ..A_{1, j} MULTI_QUBIT_GATE R_{1, j}.., A_{1, k} MULTI_QUBIT_GATE R_{1, k}, B_{1} MULTI_QUBIT_GATE S_{1}, C_{1, 1} MULTI_QUBIT_GATE Q_{1, 1}, ..C_{1, j} MULTI_QUBIT_GATE Q_{1, j}.., C_{1, h} MULTI_QUBIT_GATE Q_{1, h}), ..(A_{i, 1} MULTI_QUBIT_GATE R_{i, 1}, ..A_{i, j} MULTI_QUBIT_GATE R_{i, j}.., A_{i, k} MULTI_QUBIT_GATE R_{i, k}, B_{i} MULTI_QUBIT_GATE S_{i}, C_{i, 1} MULTI_QUBIT_GATE Q_{i, 1}, ..C_{i, j} MULTI_QUBIT_GATE Q_{i, j}.., C_{i, h} MULTI_QUBIT_GATE Q_{i, h}).., (A_{m, 1} MULTI_QUBIT_GATE R_{m, 1}, ..A_{m, j} MULTI_QUBIT_GATE R_{m, j}.., A_{m, k} MULTI_QUBIT_GATE R_{m, k}, B_{m} MULTI_QUBIT_GATE S_{m}, C_{m, 1} MULTI_QUBIT_GATE Q_{m, 1}, ..C_{m, j} MULTI_QUBIT_GATE Q_{m, j}.., C_{m, h} MULTI_QUBIT_GATE Q_{m, h}) via {h: 1, k: 1, m: 1, (A_{1, 1}, ..A_{1, _b}.., A_{1, 1}, ....A_{_a, 1}, ..A_{_a, _b}.., A_{_a, 1}...., A_{1, 1}, ..A_{1, _b}.., A_{1, 1}): ([GATE](H)), (B_{1}, ..B_{_a}.., B_{1}): ([GATE](Z)), (C_{1, 1}, ..C_{1, _b}.., C_{1, 1}, ....C_{_a, 1}, ..C_{_a, _b}.., C_{_a, 1}...., C_{1, 1}, ..C_{1, _b}.., C_{1, 1}): ([GATE](X)), (D_{1}, ..D_{_a}.., D_{1}): ([GATE](Z)), (S_{1}, ..S_{_a}.., S_{1}): ({1}), (R_{1, 1}, ..R_{1, _b}.., R_{1, 1}, ....R_{_a, 1}, ..R_{_a, _b}.., R_{_a, 1}...., R_{1, 1}, ..R_{1, _b}.., R_{1, 1}): ({1}), (Q_{1, 1}, ..Q_{1, _b}.., Q_{1, 1}, ....Q_{_a, 1}, ..Q_{_a, _b}.., Q_{_a, 1}...., Q_{1, 1}, ..Q_{1, _b}.., Q_{1, 1}): ({1}), D: {(D_{1}, ..D_{_a}.., D_{1})}, A: {(A_{1, 1}, ..A_{1, _b}.., A_{1, 1}, ....A_{_a, 1}, ..A_{_a, _b}.., A_{_a, 1}...., A_{1, 1}, ..A_{1, _b}.., A_{1, 1})}, R: {(R_{1, 1}, ..R_{1, _b}.., R_{1, 1}, ....R_{_a, 1}, ..R_{_a, _b}.., R_{_a, 1}...., R_{1, 1}, ..R_{1, _b}.., R_{1, 1})}, B: {(B_{1}, ..B_{_a}.., B_{1})}, S: {(S_{1}, ..S_{_a}.., S_{1})}, C: {(C_{1, 1}, ..C_{1, _b}.., C_{1, 1}, ....C_{_a, 1}, ..C_{_a, _b}.., C_{_a, 1}...., C_{1, 1}, ..C_{1, _b}.., C_{1, 1})}, Q: {(Q_{1, 1}, ..Q_{1, _b}.., Q_{1, 1}, ....Q_{_a, 1}, ..Q_{_a, _b}.., Q_{_a, 1}...., Q_{1, 1}, ..Q_{1, _b}.., Q_{1, 1})}}:\nFailure to expand (A_{1, 1} MULTI_QUBIT_GATE R_{1, 1}, ..A_{1, j} MULTI_QUBIT_GATE R_{1, j}.., A_{1, k} MULTI_QUBIT_GATE R_{1, k}, B_{1} MULTI_QUBIT_GATE S_{1}, C_{1, 1} MULTI_QUBIT_GATE Q_{1, 1}, ..C_{1, j} MULTI_QUBIT_GATE Q_{1, j}.., C_{1, h} MULTI_QUBIT_GATE Q_{1, h}), ..(A_{i, 1} MULTI_QUBIT_GATE R_{i, 1}, ..A_{i, j} MULTI_QUBIT_GATE R_{i, j}.., A_{i, k} MULTI_QUBIT_GATE R_{i, k}, B_{i} MULTI_QUBIT_GATE S_{i}, C_{i, 1} MULTI_QUBIT_GATE Q_{i, 1}, ..C_{i, j} MULTI_QUBIT_GATE Q_{i, j}.., C_{i, h} MULTI_QUBIT_GATE Q_{i, h}).., (A_{m, 1} MULTI_QUBIT_GATE R_{m, 1}, ..A_{m, j} MULTI_QUBIT_GATE R_{m, j}.., A_{m, k} MULTI_QUBIT_GATE R_{m, k}, B_{m} MULTI_QUBIT_GATE S_{m}, C_{m, 1} MULTI_QUBIT_GATE Q_{m, 1}, ..C_{m, j} MULTI_QUBIT_GATE Q_{m, j}.., C_{m, h} MULTI_QUBIT_GATE Q_{m, h}) because there is no explicit expansion for (A_{1, 1}, ..A_{1, j}.., A_{1, k}, ....A_{i, 1}, ..A_{i, j}.., A_{i, k}...., A_{1, 1}, ..A_{1, j}.., A_{1, k}).  The known expansions for this variable are {(A_{1, 1}, ..A_{1, _b}.., A_{1, 1}, ....A_{_a, 1}, ..A_{_a, _b}.., A_{_a, 1}...., A_{1, 1}, ..A_{1, _b}.., A_{1, 1}): ([GATE](H))}.  (Note that multiple, equivalent expansion forms may be provided to fulfill this requirement). ",
     "output_type": "error",
     "traceback": [
      "\u001b[1;31m---------------------------------------------------------------------------\u001b[0m",
      "\u001b[1;31mImproperReplacement\u001b[0m                       Traceback (most recent call last)",
      "\u001b[1;32mc:\\users\\joaqu\\prove-it\\packages\\proveit\\_core_\\expression\\lambda_expr\\lambda_expr.py\u001b[0m in \u001b[0;36m_apply\u001b[1;34m(parameters, body, equiv_alt_expansions, allow_relabeling, assumptions, requirements, equality_repl_requirements, parameter_vars, *operands)\u001b[0m\n\u001b[0;32m    600\u001b[0m                     \u001b[0mrequirements\u001b[0m\u001b[1;33m=\u001b[0m\u001b[0mrequirements\u001b[0m\u001b[1;33m,\u001b[0m\u001b[1;33m\u001b[0m\u001b[1;33m\u001b[0m\u001b[0m\n\u001b[1;32m--> 601\u001b[1;33m                     equality_repl_requirements=equality_repl_requirements)\n\u001b[0m\u001b[0;32m    602\u001b[0m         \u001b[1;32mexcept\u001b[0m \u001b[0mImproperReplacement\u001b[0m \u001b[1;32mas\u001b[0m \u001b[0me\u001b[0m\u001b[1;33m:\u001b[0m\u001b[1;33m\u001b[0m\u001b[1;33m\u001b[0m\u001b[0m\n",
      "\u001b[1;32mc:\\users\\joaqu\\prove-it\\packages\\proveit\\_core_\\expression\\expr.py\u001b[0m in \u001b[0;36mreplaced\u001b[1;34m(self, repl_map, allow_relabeling, assumptions, requirements, equality_repl_requirements)\u001b[0m\n\u001b[0;32m    744\u001b[0m                 \u001b[0massumptions\u001b[0m\u001b[1;33m=\u001b[0m\u001b[0massumptions\u001b[0m\u001b[1;33m,\u001b[0m \u001b[0mrequirements\u001b[0m\u001b[1;33m=\u001b[0m\u001b[0mrequirements\u001b[0m\u001b[1;33m,\u001b[0m\u001b[1;33m\u001b[0m\u001b[1;33m\u001b[0m\u001b[0m\n\u001b[1;32m--> 745\u001b[1;33m                 equality_repl_requirements=equality_repl_requirements)\\\n\u001b[0m\u001b[0;32m    746\u001b[0m                     ._auto_reduced(\n",
      "\u001b[1;32mc:\\users\\joaqu\\prove-it\\packages\\proveit\\_core_\\expression\\operation\\operation.py\u001b[0m in \u001b[0;36m_replaced\u001b[1;34m(self, repl_map, allow_relabeling, assumptions, requirements, equality_repl_requirements)\u001b[0m\n\u001b[0;32m    453\u001b[0m                                               \u001b[0massumptions\u001b[0m\u001b[1;33m,\u001b[0m \u001b[0mrequirements\u001b[0m\u001b[1;33m,\u001b[0m\u001b[1;33m\u001b[0m\u001b[1;33m\u001b[0m\u001b[0m\n\u001b[1;32m--> 454\u001b[1;33m                                               equality_repl_requirements)\n\u001b[0m\u001b[0;32m    455\u001b[0m         \u001b[0msubbed_operators\u001b[0m \u001b[1;33m=\u001b[0m \u001b[0mcompositeExpression\u001b[0m\u001b[1;33m(\u001b[0m\u001b[0msubbed_operator_or_operators\u001b[0m\u001b[1;33m)\u001b[0m\u001b[1;33m\u001b[0m\u001b[1;33m\u001b[0m\u001b[0m\n",
      "\u001b[1;32mc:\\users\\joaqu\\prove-it\\packages\\proveit\\_core_\\expression\\expr.py\u001b[0m in \u001b[0;36mreplaced\u001b[1;34m(self, repl_map, allow_relabeling, assumptions, requirements, equality_repl_requirements)\u001b[0m\n\u001b[0;32m    744\u001b[0m                 \u001b[0massumptions\u001b[0m\u001b[1;33m=\u001b[0m\u001b[0massumptions\u001b[0m\u001b[1;33m,\u001b[0m \u001b[0mrequirements\u001b[0m\u001b[1;33m=\u001b[0m\u001b[0mrequirements\u001b[0m\u001b[1;33m,\u001b[0m\u001b[1;33m\u001b[0m\u001b[1;33m\u001b[0m\u001b[0m\n\u001b[1;32m--> 745\u001b[1;33m                 equality_repl_requirements=equality_repl_requirements)\\\n\u001b[0m\u001b[0;32m    746\u001b[0m                     ._auto_reduced(\n",
      "\u001b[1;32mc:\\users\\joaqu\\prove-it\\packages\\proveit\\_core_\\expression\\composite\\expr_tuple.py\u001b[0m in \u001b[0;36m_replaced\u001b[1;34m(self, repl_map, allow_relabeling, assumptions, requirements, equality_repl_requirements)\u001b[0m\n\u001b[0;32m    328\u001b[0m                                             \u001b[0massumptions\u001b[0m\u001b[1;33m,\u001b[0m \u001b[0mrequirements\u001b[0m\u001b[1;33m,\u001b[0m\u001b[1;33m\u001b[0m\u001b[1;33m\u001b[0m\u001b[0m\n\u001b[1;32m--> 329\u001b[1;33m                                             equality_repl_requirements)\n\u001b[0m\u001b[0;32m    330\u001b[0m                 \u001b[0msubbed_exprs\u001b[0m\u001b[1;33m.\u001b[0m\u001b[0mappend\u001b[0m\u001b[1;33m(\u001b[0m\u001b[0msubbed_expr\u001b[0m\u001b[1;33m)\u001b[0m\u001b[1;33m\u001b[0m\u001b[1;33m\u001b[0m\u001b[0m\n",
      "\u001b[1;32mc:\\users\\joaqu\\prove-it\\packages\\proveit\\_core_\\expression\\expr.py\u001b[0m in \u001b[0;36mreplaced\u001b[1;34m(self, repl_map, allow_relabeling, assumptions, requirements, equality_repl_requirements)\u001b[0m\n\u001b[0;32m    744\u001b[0m                 \u001b[0massumptions\u001b[0m\u001b[1;33m=\u001b[0m\u001b[0massumptions\u001b[0m\u001b[1;33m,\u001b[0m \u001b[0mrequirements\u001b[0m\u001b[1;33m=\u001b[0m\u001b[0mrequirements\u001b[0m\u001b[1;33m,\u001b[0m\u001b[1;33m\u001b[0m\u001b[1;33m\u001b[0m\u001b[0m\n\u001b[1;32m--> 745\u001b[1;33m                 equality_repl_requirements=equality_repl_requirements)\\\n\u001b[0m\u001b[0;32m    746\u001b[0m                     ._auto_reduced(\n",
      "\u001b[1;32mc:\\users\\joaqu\\prove-it\\packages\\proveit\\_core_\\expression\\operation\\operation.py\u001b[0m in \u001b[0;36m_replaced\u001b[1;34m(self, repl_map, allow_relabeling, assumptions, requirements, equality_repl_requirements)\u001b[0m\n\u001b[0;32m    453\u001b[0m                                               \u001b[0massumptions\u001b[0m\u001b[1;33m,\u001b[0m \u001b[0mrequirements\u001b[0m\u001b[1;33m,\u001b[0m\u001b[1;33m\u001b[0m\u001b[1;33m\u001b[0m\u001b[0m\n\u001b[1;32m--> 454\u001b[1;33m                                               equality_repl_requirements)\n\u001b[0m\u001b[0;32m    455\u001b[0m         \u001b[0msubbed_operators\u001b[0m \u001b[1;33m=\u001b[0m \u001b[0mcompositeExpression\u001b[0m\u001b[1;33m(\u001b[0m\u001b[0msubbed_operator_or_operators\u001b[0m\u001b[1;33m)\u001b[0m\u001b[1;33m\u001b[0m\u001b[1;33m\u001b[0m\u001b[0m\n",
      "\u001b[1;32mc:\\users\\joaqu\\prove-it\\packages\\proveit\\_core_\\expression\\expr.py\u001b[0m in \u001b[0;36mreplaced\u001b[1;34m(self, repl_map, allow_relabeling, assumptions, requirements, equality_repl_requirements)\u001b[0m\n\u001b[0;32m    744\u001b[0m                 \u001b[0massumptions\u001b[0m\u001b[1;33m=\u001b[0m\u001b[0massumptions\u001b[0m\u001b[1;33m,\u001b[0m \u001b[0mrequirements\u001b[0m\u001b[1;33m=\u001b[0m\u001b[0mrequirements\u001b[0m\u001b[1;33m,\u001b[0m\u001b[1;33m\u001b[0m\u001b[1;33m\u001b[0m\u001b[0m\n\u001b[1;32m--> 745\u001b[1;33m                 equality_repl_requirements=equality_repl_requirements)\\\n\u001b[0m\u001b[0;32m    746\u001b[0m                     ._auto_reduced(\n",
      "\u001b[1;32mc:\\users\\joaqu\\prove-it\\packages\\proveit\\_core_\\expression\\composite\\expr_tuple.py\u001b[0m in \u001b[0;36m_replaced\u001b[1;34m(self, repl_map, allow_relabeling, assumptions, requirements, equality_repl_requirements)\u001b[0m\n\u001b[0;32m    328\u001b[0m                                             \u001b[0massumptions\u001b[0m\u001b[1;33m,\u001b[0m \u001b[0mrequirements\u001b[0m\u001b[1;33m,\u001b[0m\u001b[1;33m\u001b[0m\u001b[1;33m\u001b[0m\u001b[0m\n\u001b[1;32m--> 329\u001b[1;33m                                             equality_repl_requirements)\n\u001b[0m\u001b[0;32m    330\u001b[0m                 \u001b[0msubbed_exprs\u001b[0m\u001b[1;33m.\u001b[0m\u001b[0mappend\u001b[0m\u001b[1;33m(\u001b[0m\u001b[0msubbed_expr\u001b[0m\u001b[1;33m)\u001b[0m\u001b[1;33m\u001b[0m\u001b[1;33m\u001b[0m\u001b[0m\n",
      "\u001b[1;32mc:\\users\\joaqu\\prove-it\\packages\\proveit\\_core_\\expression\\expr.py\u001b[0m in \u001b[0;36mreplaced\u001b[1;34m(self, repl_map, allow_relabeling, assumptions, requirements, equality_repl_requirements)\u001b[0m\n\u001b[0;32m    744\u001b[0m                 \u001b[0massumptions\u001b[0m\u001b[1;33m=\u001b[0m\u001b[0massumptions\u001b[0m\u001b[1;33m,\u001b[0m \u001b[0mrequirements\u001b[0m\u001b[1;33m=\u001b[0m\u001b[0mrequirements\u001b[0m\u001b[1;33m,\u001b[0m\u001b[1;33m\u001b[0m\u001b[1;33m\u001b[0m\u001b[0m\n\u001b[1;32m--> 745\u001b[1;33m                 equality_repl_requirements=equality_repl_requirements)\\\n\u001b[0m\u001b[0;32m    746\u001b[0m                     ._auto_reduced(\n",
      "\u001b[1;32mc:\\users\\joaqu\\prove-it\\packages\\proveit\\_core_\\expression\\operation\\operation.py\u001b[0m in \u001b[0;36m_replaced\u001b[1;34m(self, repl_map, allow_relabeling, assumptions, requirements, equality_repl_requirements)\u001b[0m\n\u001b[0;32m    453\u001b[0m                                               \u001b[0massumptions\u001b[0m\u001b[1;33m,\u001b[0m \u001b[0mrequirements\u001b[0m\u001b[1;33m,\u001b[0m\u001b[1;33m\u001b[0m\u001b[1;33m\u001b[0m\u001b[0m\n\u001b[1;32m--> 454\u001b[1;33m                                               equality_repl_requirements)\n\u001b[0m\u001b[0;32m    455\u001b[0m         \u001b[0msubbed_operators\u001b[0m \u001b[1;33m=\u001b[0m \u001b[0mcompositeExpression\u001b[0m\u001b[1;33m(\u001b[0m\u001b[0msubbed_operator_or_operators\u001b[0m\u001b[1;33m)\u001b[0m\u001b[1;33m\u001b[0m\u001b[1;33m\u001b[0m\u001b[0m\n",
      "\u001b[1;32mc:\\users\\joaqu\\prove-it\\packages\\proveit\\_core_\\expression\\expr.py\u001b[0m in \u001b[0;36mreplaced\u001b[1;34m(self, repl_map, allow_relabeling, assumptions, requirements, equality_repl_requirements)\u001b[0m\n\u001b[0;32m    744\u001b[0m                 \u001b[0massumptions\u001b[0m\u001b[1;33m=\u001b[0m\u001b[0massumptions\u001b[0m\u001b[1;33m,\u001b[0m \u001b[0mrequirements\u001b[0m\u001b[1;33m=\u001b[0m\u001b[0mrequirements\u001b[0m\u001b[1;33m,\u001b[0m\u001b[1;33m\u001b[0m\u001b[1;33m\u001b[0m\u001b[0m\n\u001b[1;32m--> 745\u001b[1;33m                 equality_repl_requirements=equality_repl_requirements)\\\n\u001b[0m\u001b[0;32m    746\u001b[0m                     ._auto_reduced(\n",
      "\u001b[1;32mc:\\users\\joaqu\\prove-it\\packages\\proveit\\_core_\\expression\\composite\\expr_tuple.py\u001b[0m in \u001b[0;36m_replaced\u001b[1;34m(self, repl_map, allow_relabeling, assumptions, requirements, equality_repl_requirements)\u001b[0m\n\u001b[0;32m    328\u001b[0m                                             \u001b[0massumptions\u001b[0m\u001b[1;33m,\u001b[0m \u001b[0mrequirements\u001b[0m\u001b[1;33m,\u001b[0m\u001b[1;33m\u001b[0m\u001b[1;33m\u001b[0m\u001b[0m\n\u001b[1;32m--> 329\u001b[1;33m                                             equality_repl_requirements)\n\u001b[0m\u001b[0;32m    330\u001b[0m                 \u001b[0msubbed_exprs\u001b[0m\u001b[1;33m.\u001b[0m\u001b[0mappend\u001b[0m\u001b[1;33m(\u001b[0m\u001b[0msubbed_expr\u001b[0m\u001b[1;33m)\u001b[0m\u001b[1;33m\u001b[0m\u001b[1;33m\u001b[0m\u001b[0m\n",
      "\u001b[1;32mc:\\users\\joaqu\\prove-it\\packages\\proveit\\_core_\\expression\\expr.py\u001b[0m in \u001b[0;36mreplaced\u001b[1;34m(self, repl_map, allow_relabeling, assumptions, requirements, equality_repl_requirements)\u001b[0m\n\u001b[0;32m    744\u001b[0m                 \u001b[0massumptions\u001b[0m\u001b[1;33m=\u001b[0m\u001b[0massumptions\u001b[0m\u001b[1;33m,\u001b[0m \u001b[0mrequirements\u001b[0m\u001b[1;33m=\u001b[0m\u001b[0mrequirements\u001b[0m\u001b[1;33m,\u001b[0m\u001b[1;33m\u001b[0m\u001b[1;33m\u001b[0m\u001b[0m\n\u001b[1;32m--> 745\u001b[1;33m                 equality_repl_requirements=equality_repl_requirements)\\\n\u001b[0m\u001b[0;32m    746\u001b[0m                     ._auto_reduced(\n",
      "\u001b[1;32mc:\\users\\joaqu\\prove-it\\packages\\proveit\\_core_\\expression\\composite\\expr_tuple.py\u001b[0m in \u001b[0;36m_replaced\u001b[1;34m(self, repl_map, allow_relabeling, assumptions, requirements, equality_repl_requirements)\u001b[0m\n\u001b[0;32m    324\u001b[0m                         \u001b[0mrepl_map\u001b[0m\u001b[1;33m,\u001b[0m \u001b[0mallow_relabeling\u001b[0m\u001b[1;33m,\u001b[0m \u001b[0massumptions\u001b[0m\u001b[1;33m,\u001b[0m\u001b[1;33m\u001b[0m\u001b[1;33m\u001b[0m\u001b[0m\n\u001b[1;32m--> 325\u001b[1;33m                         requirements, equality_repl_requirements))\n\u001b[0m\u001b[0;32m    326\u001b[0m             \u001b[1;32melse\u001b[0m\u001b[1;33m:\u001b[0m\u001b[1;33m\u001b[0m\u001b[1;33m\u001b[0m\u001b[0m\n",
      "\u001b[1;32mc:\\users\\joaqu\\prove-it\\packages\\proveit\\_core_\\expression\\composite\\expr_range.py\u001b[0m in \u001b[0;36m_replaced_entries\u001b[1;34m(self, repl_map, allow_relabeling, assumptions, requirements, equality_repl_requirements)\u001b[0m\n\u001b[0;32m    819\u001b[0m                         \u001b[1;34m\"may be provided to fulfill this requirement).\"\u001b[0m\u001b[1;33m\u001b[0m\u001b[1;33m\u001b[0m\u001b[0m\n\u001b[1;32m--> 820\u001b[1;33m                         %(self, var_tuple, var_replacements))\n\u001b[0m\u001b[0;32m    821\u001b[0m             \u001b[0mrepl\u001b[0m \u001b[1;33m=\u001b[0m \u001b[0minner_repl_map\u001b[0m\u001b[1;33m.\u001b[0m\u001b[0mpop\u001b[0m\u001b[1;33m(\u001b[0m\u001b[0mvar_tuple\u001b[0m\u001b[1;33m)\u001b[0m\u001b[1;33m\u001b[0m\u001b[1;33m\u001b[0m\u001b[0m\n",
      "\u001b[1;31mImproperReplacement\u001b[0m: Improper replacement of (A_{1, 1} MULTI_QUBIT_GATE R_{1, 1}, ..A_{1, j} MULTI_QUBIT_GATE R_{1, j}.., A_{1, k} MULTI_QUBIT_GATE R_{1, k}, B_{1} MULTI_QUBIT_GATE S_{1}, C_{1, 1} MULTI_QUBIT_GATE Q_{1, 1}, ..C_{1, j} MULTI_QUBIT_GATE Q_{1, j}.., C_{1, h} MULTI_QUBIT_GATE Q_{1, h}), ..(A_{i, 1} MULTI_QUBIT_GATE R_{i, 1}, ..A_{i, j} MULTI_QUBIT_GATE R_{i, j}.., A_{i, k} MULTI_QUBIT_GATE R_{i, k}, B_{i} MULTI_QUBIT_GATE S_{i}, C_{i, 1} MULTI_QUBIT_GATE Q_{i, 1}, ..C_{i, j} MULTI_QUBIT_GATE Q_{i, j}.., C_{i, h} MULTI_QUBIT_GATE Q_{i, h}).., (A_{m, 1} MULTI_QUBIT_GATE R_{m, 1}, ..A_{m, j} MULTI_QUBIT_GATE R_{m, j}.., A_{m, k} MULTI_QUBIT_GATE R_{m, k}, B_{m} MULTI_QUBIT_GATE S_{m}, C_{m, 1} MULTI_QUBIT_GATE Q_{m, 1}, ..C_{m, j} MULTI_QUBIT_GATE Q_{m, j}.., C_{m, h} MULTI_QUBIT_GATE Q_{m, h}) via {h: 1, k: 1, m: 1, (A_{1, 1}, ..A_{1, _b}.., A_{1, 1}, ....A_{_a, 1}, ..A_{_a, _b}.., A_{_a, 1}...., A_{1, 1}, ..A_{1, _b}.., A_{1, 1}): ([GATE](H)), (B_{1}, ..B_{_a}.., B_{1}): ([GATE](Z)), (C_{1, 1}, ..C_{1, _b}.., C_{1, 1}, ....C_{_a, 1}, ..C_{_a, _b}.., C_{_a, 1}...., C_{1, 1}, ..C_{1, _b}.., C_{1, 1}): ([GATE](X)), (D_{1}, ..D_{_a}.., D_{1}): ([GATE](Z)), (S_{1}, ..S_{_a}.., S_{1}): ({1}), (R_{1, 1}, ..R_{1, _b}.., R_{1, 1}, ....R_{_a, 1}, ..R_{_a, _b}.., R_{_a, 1}...., R_{1, 1}, ..R_{1, _b}.., R_{1, 1}): ({1}), (Q_{1, 1}, ..Q_{1, _b}.., Q_{1, 1}, ....Q_{_a, 1}, ..Q_{_a, _b}.., Q_{_a, 1}...., Q_{1, 1}, ..Q_{1, _b}.., Q_{1, 1}): ({1}), D: {(D_{1}, ..D_{_a}.., D_{1})}, A: {(A_{1, 1}, ..A_{1, _b}.., A_{1, 1}, ....A_{_a, 1}, ..A_{_a, _b}.., A_{_a, 1}...., A_{1, 1}, ..A_{1, _b}.., A_{1, 1})}, R: {(R_{1, 1}, ..R_{1, _b}.., R_{1, 1}, ....R_{_a, 1}, ..R_{_a, _b}.., R_{_a, 1}...., R_{1, 1}, ..R_{1, _b}.., R_{1, 1})}, B: {(B_{1}, ..B_{_a}.., B_{1})}, S: {(S_{1}, ..S_{_a}.., S_{1})}, C: {(C_{1, 1}, ..C_{1, _b}.., C_{1, 1}, ....C_{_a, 1}, ..C_{_a, _b}.., C_{_a, 1}...., C_{1, 1}, ..C_{1, _b}.., C_{1, 1})}, Q: {(Q_{1, 1}, ..Q_{1, _b}.., Q_{1, 1}, ....Q_{_a, 1}, ..Q_{_a, _b}.., Q_{_a, 1}...., Q_{1, 1}, ..Q_{1, _b}.., Q_{1, 1})}}:\nFailure to expand (A_{1, 1} MULTI_QUBIT_GATE R_{1, 1}, ..A_{1, j} MULTI_QUBIT_GATE R_{1, j}.., A_{1, k} MULTI_QUBIT_GATE R_{1, k}, B_{1} MULTI_QUBIT_GATE S_{1}, C_{1, 1} MULTI_QUBIT_GATE Q_{1, 1}, ..C_{1, j} MULTI_QUBIT_GATE Q_{1, j}.., C_{1, h} MULTI_QUBIT_GATE Q_{1, h}), ..(A_{i, 1} MULTI_QUBIT_GATE R_{i, 1}, ..A_{i, j} MULTI_QUBIT_GATE R_{i, j}.., A_{i, k} MULTI_QUBIT_GATE R_{i, k}, B_{i} MULTI_QUBIT_GATE S_{i}, C_{i, 1} MULTI_QUBIT_GATE Q_{i, 1}, ..C_{i, j} MULTI_QUBIT_GATE Q_{i, j}.., C_{i, h} MULTI_QUBIT_GATE Q_{i, h}).., (A_{m, 1} MULTI_QUBIT_GATE R_{m, 1}, ..A_{m, j} MULTI_QUBIT_GATE R_{m, j}.., A_{m, k} MULTI_QUBIT_GATE R_{m, k}, B_{m} MULTI_QUBIT_GATE S_{m}, C_{m, 1} MULTI_QUBIT_GATE Q_{m, 1}, ..C_{m, j} MULTI_QUBIT_GATE Q_{m, j}.., C_{m, h} MULTI_QUBIT_GATE Q_{m, h}) because there is no explicit expansion for (A_{1, 1}, ..A_{1, j}.., A_{1, k}, ....A_{i, 1}, ..A_{i, j}.., A_{i, k}...., A_{1, 1}, ..A_{1, j}.., A_{1, k}).  The known expansions for this variable are {(A_{1, 1}, ..A_{1, _b}.., A_{1, 1}, ....A_{_a, 1}, ..A_{_a, _b}.., A_{_a, 1}...., A_{1, 1}, ..A_{1, _b}.., A_{1, 1}): ([GATE](H))}.  (Note that multiple, equivalent expansion forms may be provided to fulfill this requirement).",
      "\nDuring handling of the above exception, another exception occurred:\n",
      "\u001b[1;31mLambdaApplicationError\u001b[0m                    Traceback (most recent call last)",
      "\u001b[1;32mc:\\users\\joaqu\\prove-it\\packages\\proveit\\_core_\\proof.py\u001b[0m in \u001b[0;36m__init__\u001b[1;34m(self, orig_known_truth, num_forall_eliminations, repl_map, equiv_alt_expansions, assumptions)\u001b[0m\n\u001b[0;32m    944\u001b[0m                         \u001b[0massumptions\u001b[0m\u001b[1;33m,\u001b[0m \u001b[0mrequirements\u001b[0m\u001b[1;33m,\u001b[0m\u001b[1;33m\u001b[0m\u001b[1;33m\u001b[0m\u001b[0m\n\u001b[1;32m--> 945\u001b[1;33m                         equality_repl_requirements)\n\u001b[0m\u001b[0;32m    946\u001b[0m \u001b[1;33m\u001b[0m\u001b[0m\n",
      "\u001b[1;32mc:\\users\\joaqu\\prove-it\\packages\\proveit\\_core_\\proof.py\u001b[0m in \u001b[0;36m_instantiated_expr\u001b[1;34m(original_known_truth, num_forall_eliminations, instantiation_params, repl_map, equiv_alt_expansions, assumptions, requirements, equality_repl_requirements)\u001b[0m\n\u001b[0;32m   1250\u001b[0m         \u001b[1;31m# not yet been used\u001b[0m\u001b[1;33m\u001b[0m\u001b[1;33m\u001b[0m\u001b[1;33m\u001b[0m\u001b[0m\n\u001b[1;32m-> 1251\u001b[1;33m         \u001b[1;32mreturn\u001b[0m \u001b[0minstantiate\u001b[0m\u001b[1;33m(\u001b[0m\u001b[0mexpr\u001b[0m\u001b[1;33m)\u001b[0m\u001b[1;33m\u001b[0m\u001b[1;33m\u001b[0m\u001b[0m\n\u001b[0m\u001b[0;32m   1252\u001b[0m \u001b[1;33m\u001b[0m\u001b[0m\n",
      "\u001b[1;32mc:\\users\\joaqu\\prove-it\\packages\\proveit\\_core_\\proof.py\u001b[0m in \u001b[0;36minstantiate\u001b[1;34m(expr, exclusion)\u001b[0m\n\u001b[0;32m   1163\u001b[0m                     \u001b[0massumptions\u001b[0m\u001b[1;33m=\u001b[0m\u001b[0massumptions\u001b[0m\u001b[1;33m,\u001b[0m \u001b[0mrequirements\u001b[0m\u001b[1;33m=\u001b[0m\u001b[0mrequirements\u001b[0m\u001b[1;33m,\u001b[0m\u001b[1;33m\u001b[0m\u001b[1;33m\u001b[0m\u001b[0m\n\u001b[1;32m-> 1164\u001b[1;33m                     equality_repl_requirements=equality_repl_requirements)\n\u001b[0m\u001b[0;32m   1165\u001b[0m \u001b[1;33m\u001b[0m\u001b[0m\n",
      "\u001b[1;32mc:\\users\\joaqu\\prove-it\\packages\\proveit\\_core_\\expression\\lambda_expr\\lambda_expr.py\u001b[0m in \u001b[0;36m_apply\u001b[1;34m(parameters, body, equiv_alt_expansions, allow_relabeling, assumptions, requirements, equality_repl_requirements, parameter_vars, *operands)\u001b[0m\n\u001b[0;32m    605\u001b[0m                     \u001b[0mequiv_alt_expansions\u001b[0m\u001b[1;33m,\u001b[0m\u001b[1;33m\u001b[0m\u001b[1;33m\u001b[0m\u001b[0m\n\u001b[1;32m--> 606\u001b[1;33m                     \"Improper replacement: %s \"%str(e))\n\u001b[0m\u001b[0;32m    607\u001b[0m         \u001b[1;32mexcept\u001b[0m \u001b[0mTypeError\u001b[0m \u001b[1;32mas\u001b[0m \u001b[0me\u001b[0m\u001b[1;33m:\u001b[0m\u001b[1;33m\u001b[0m\u001b[1;33m\u001b[0m\u001b[0m\n",
      "\u001b[1;31mLambdaApplicationError\u001b[0m: Failure to apply (h, k, m, A_{1, 1}, ..A_{1, _b}.., A_{1, 1}, ....A_{_a, 1}, ..A_{_a, _b}.., A_{_a, 1}...., A_{1, 1}, ..A_{1, _b}.., A_{1, 1}, B_{1}, ..B_{_a}.., B_{1}, C_{1, 1}, ..C_{1, _b}.., C_{1, 1}, ....C_{_a, 1}, ..C_{_a, _b}.., C_{_a, 1}...., C_{1, 1}, ..C_{1, _b}.., C_{1, 1}, D_{1}, ..D_{_a}.., D_{1}, S_{1}, ..S_{_a}.., S_{1}, R_{1, 1}, ..R_{1, _b}.., R_{1, 1}, ....R_{_a, 1}, ..R_{_a, _b}.., R_{_a, 1}...., R_{1, 1}, ..R_{1, _b}.., R_{1, 1}, Q_{1, 1}, ..Q_{1, _b}.., Q_{1, 1}, ....Q_{_a, 1}, ..Q_{_a, _b}.., Q_{_a, 1}...., Q_{1, 1}, ..Q_{1, _b}.., Q_{1, 1}) -> (( B_{1} MULTI_QUBIT_GATE S_{1}   \\\\ \n   \\colon   \\\\ \n   B_{i} MULTI_QUBIT_GATE S_{i}   \\\\ \n   \\colon   \\\\ \n   B_{m} MULTI_QUBIT_GATE S_{m} equiv  D_{1} MULTI_QUBIT_GATE S_{1}   \\\\ \n   \\colon   \\\\ \n   D_{i} MULTI_QUBIT_GATE S_{i}   \\\\ \n   \\colon   \\\\ \n   D_{m} MULTI_QUBIT_GATE S_{m}) =>  \\\\ ( A_{1, 1} MULTI_QUBIT_GATE R_{1, 1}  & ..A_{1, j} MULTI_QUBIT_GATE R_{1, j}..  & A_{1, k} MULTI_QUBIT_GATE R_{1, k}  & B_{1} MULTI_QUBIT_GATE S_{1}  & C_{1, 1} MULTI_QUBIT_GATE Q_{1, 1}  & ..C_{1, j} MULTI_QUBIT_GATE Q_{1, j}..  & C_{1, h} MULTI_QUBIT_GATE Q_{1, h}   \\\\ \n   \\colon  & \\colon  & \\colon  & \\colon  & \\colon  & \\colon  & \\colon   \\\\ \n   A_{i, 1} MULTI_QUBIT_GATE R_{i, 1}  & ..A_{i, j} MULTI_QUBIT_GATE R_{i, j}..  & A_{i, k} MULTI_QUBIT_GATE R_{i, k}  & B_{i} MULTI_QUBIT_GATE S_{i}  & C_{i, 1} MULTI_QUBIT_GATE Q_{i, 1}  & ..C_{i, j} MULTI_QUBIT_GATE Q_{i, j}..  & C_{i, h} MULTI_QUBIT_GATE Q_{i, h}   \\\\ \n   \\colon  & \\colon  & \\colon  & \\colon  & \\colon  & \\colon  & \\colon   \\\\ \n   A_{m, 1} MULTI_QUBIT_GATE R_{m, 1}  & ..A_{m, j} MULTI_QUBIT_GATE R_{m, j}..  & A_{m, k} MULTI_QUBIT_GATE R_{m, k}  & B_{m} MULTI_QUBIT_GATE S_{m}  & C_{m, 1} MULTI_QUBIT_GATE Q_{m, 1}  & ..C_{m, j} MULTI_QUBIT_GATE Q_{m, j}..  & C_{m, h} MULTI_QUBIT_GATE Q_{m, h} equiv  A_{1, 1} MULTI_QUBIT_GATE R_{1, 1}  & ..A_{1, j} MULTI_QUBIT_GATE R_{1, j}..  & A_{1, k} MULTI_QUBIT_GATE R_{1, k}  & D_{1} MULTI_QUBIT_GATE S_{1}  & C_{1, 1} MULTI_QUBIT_GATE Q_{1, 1}  & ..C_{1, j} MULTI_QUBIT_GATE Q_{1, j}..  & C_{1, h} MULTI_QUBIT_GATE Q_{1, h}   \\\\ \n   \\colon  & \\colon  & \\colon  & \\colon  & \\colon  & \\colon  & \\colon   \\\\ \n   A_{i, 1} MULTI_QUBIT_GATE R_{i, 1}  & ..A_{i, j} MULTI_QUBIT_GATE R_{i, j}..  & A_{i, k} MULTI_QUBIT_GATE R_{i, k}  & D_{i} MULTI_QUBIT_GATE S_{i}  & C_{i, 1} MULTI_QUBIT_GATE Q_{i, 1}  & ..C_{i, j} MULTI_QUBIT_GATE Q_{i, j}..  & C_{i, h} MULTI_QUBIT_GATE Q_{i, h}   \\\\ \n   \\colon  & \\colon  & \\colon  & \\colon  & \\colon  & \\colon  & \\colon   \\\\ \n   A_{m, 1} MULTI_QUBIT_GATE R_{m, 1}  & ..A_{m, j} MULTI_QUBIT_GATE R_{m, j}..  & A_{m, k} MULTI_QUBIT_GATE R_{m, k}  & D_{m} MULTI_QUBIT_GATE S_{m}  & C_{m, 1} MULTI_QUBIT_GATE Q_{m, 1}  & ..C_{m, j} MULTI_QUBIT_GATE Q_{m, j}..  & C_{m, h} MULTI_QUBIT_GATE Q_{m, h})) to (1, 1, 1, [GATE](H), [GATE](Z), [GATE](X), [GATE](Z), {1}, {1}, {1}) assuming ( [GATE](Z) equiv  [GATE](Z),):\nImproper replacement: Improper replacement of (A_{1, 1} MULTI_QUBIT_GATE R_{1, 1}, ..A_{1, j} MULTI_QUBIT_GATE R_{1, j}.., A_{1, k} MULTI_QUBIT_GATE R_{1, k}, B_{1} MULTI_QUBIT_GATE S_{1}, C_{1, 1} MULTI_QUBIT_GATE Q_{1, 1}, ..C_{1, j} MULTI_QUBIT_GATE Q_{1, j}.., C_{1, h} MULTI_QUBIT_GATE Q_{1, h}), ..(A_{i, 1} MULTI_QUBIT_GATE R_{i, 1}, ..A_{i, j} MULTI_QUBIT_GATE R_{i, j}.., A_{i, k} MULTI_QUBIT_GATE R_{i, k}, B_{i} MULTI_QUBIT_GATE S_{i}, C_{i, 1} MULTI_QUBIT_GATE Q_{i, 1}, ..C_{i, j} MULTI_QUBIT_GATE Q_{i, j}.., C_{i, h} MULTI_QUBIT_GATE Q_{i, h}).., (A_{m, 1} MULTI_QUBIT_GATE R_{m, 1}, ..A_{m, j} MULTI_QUBIT_GATE R_{m, j}.., A_{m, k} MULTI_QUBIT_GATE R_{m, k}, B_{m} MULTI_QUBIT_GATE S_{m}, C_{m, 1} MULTI_QUBIT_GATE Q_{m, 1}, ..C_{m, j} MULTI_QUBIT_GATE Q_{m, j}.., C_{m, h} MULTI_QUBIT_GATE Q_{m, h}) via {h: 1, k: 1, m: 1, (A_{1, 1}, ..A_{1, _b}.., A_{1, 1}, ....A_{_a, 1}, ..A_{_a, _b}.., A_{_a, 1}...., A_{1, 1}, ..A_{1, _b}.., A_{1, 1}): ([GATE](H)), (B_{1}, ..B_{_a}.., B_{1}): ([GATE](Z)), (C_{1, 1}, ..C_{1, _b}.., C_{1, 1}, ....C_{_a, 1}, ..C_{_a, _b}.., C_{_a, 1}...., C_{1, 1}, ..C_{1, _b}.., C_{1, 1}): ([GATE](X)), (D_{1}, ..D_{_a}.., D_{1}): ([GATE](Z)), (S_{1}, ..S_{_a}.., S_{1}): ({1}), (R_{1, 1}, ..R_{1, _b}.., R_{1, 1}, ....R_{_a, 1}, ..R_{_a, _b}.., R_{_a, 1}...., R_{1, 1}, ..R_{1, _b}.., R_{1, 1}): ({1}), (Q_{1, 1}, ..Q_{1, _b}.., Q_{1, 1}, ....Q_{_a, 1}, ..Q_{_a, _b}.., Q_{_a, 1}...., Q_{1, 1}, ..Q_{1, _b}.., Q_{1, 1}): ({1}), D: {(D_{1}, ..D_{_a}.., D_{1})}, A: {(A_{1, 1}, ..A_{1, _b}.., A_{1, 1}, ....A_{_a, 1}, ..A_{_a, _b}.., A_{_a, 1}...., A_{1, 1}, ..A_{1, _b}.., A_{1, 1})}, R: {(R_{1, 1}, ..R_{1, _b}.., R_{1, 1}, ....R_{_a, 1}, ..R_{_a, _b}.., R_{_a, 1}...., R_{1, 1}, ..R_{1, _b}.., R_{1, 1})}, B: {(B_{1}, ..B_{_a}.., B_{1})}, S: {(S_{1}, ..S_{_a}.., S_{1})}, C: {(C_{1, 1}, ..C_{1, _b}.., C_{1, 1}, ....C_{_a, 1}, ..C_{_a, _b}.., C_{_a, 1}...., C_{1, 1}, ..C_{1, _b}.., C_{1, 1})}, Q: {(Q_{1, 1}, ..Q_{1, _b}.., Q_{1, 1}, ....Q_{_a, 1}, ..Q_{_a, _b}.., Q_{_a, 1}...., Q_{1, 1}, ..Q_{1, _b}.., Q_{1, 1})}}:\nFailure to expand (A_{1, 1} MULTI_QUBIT_GATE R_{1, 1}, ..A_{1, j} MULTI_QUBIT_GATE R_{1, j}.., A_{1, k} MULTI_QUBIT_GATE R_{1, k}, B_{1} MULTI_QUBIT_GATE S_{1}, C_{1, 1} MULTI_QUBIT_GATE Q_{1, 1}, ..C_{1, j} MULTI_QUBIT_GATE Q_{1, j}.., C_{1, h} MULTI_QUBIT_GATE Q_{1, h}), ..(A_{i, 1} MULTI_QUBIT_GATE R_{i, 1}, ..A_{i, j} MULTI_QUBIT_GATE R_{i, j}.., A_{i, k} MULTI_QUBIT_GATE R_{i, k}, B_{i} MULTI_QUBIT_GATE S_{i}, C_{i, 1} MULTI_QUBIT_GATE Q_{i, 1}, ..C_{i, j} MULTI_QUBIT_GATE Q_{i, j}.., C_{i, h} MULTI_QUBIT_GATE Q_{i, h}).., (A_{m, 1} MULTI_QUBIT_GATE R_{m, 1}, ..A_{m, j} MULTI_QUBIT_GATE R_{m, j}.., A_{m, k} MULTI_QUBIT_GATE R_{m, k}, B_{m} MULTI_QUBIT_GATE S_{m}, C_{m, 1} MULTI_QUBIT_GATE Q_{m, 1}, ..C_{m, j} MULTI_QUBIT_GATE Q_{m, j}.., C_{m, h} MULTI_QUBIT_GATE Q_{m, h}) because there is no explicit expansion for (A_{1, 1}, ..A_{1, j}.., A_{1, k}, ....A_{i, 1}, ..A_{i, j}.., A_{i, k}...., A_{1, 1}, ..A_{1, j}.., A_{1, k}).  The known expansions for this variable are {(A_{1, 1}, ..A_{1, _b}.., A_{1, 1}, ....A_{_a, 1}, ..A_{_a, _b}.., A_{_a, 1}...., A_{1, 1}, ..A_{1, _b}.., A_{1, 1}): ([GATE](H))}.  (Note that multiple, equivalent expansion forms may be provided to fulfill this requirement). ",
      "\nDuring handling of the above exception, another exception occurred:\n",
      "\u001b[1;31mInstantiationFailure\u001b[0m                      Traceback (most recent call last)",
      "\u001b[1;32m<ipython-input-4-a077f8441f1c>\u001b[0m in \u001b[0;36m<module>\u001b[1;34m\u001b[0m\n\u001b[0;32m     11\u001b[0m \u001b[1;33m\u001b[0m\u001b[0m\n\u001b[0;32m     12\u001b[0m                              assumptions=[CircuitEquiv(Circuit(ExprArray(ExprTuple(Gate(Z)))), \n\u001b[1;32m---> 13\u001b[1;33m                                                        Circuit(ExprArray(ExprTuple(Gate(Z))))),\n\u001b[0m\u001b[0;32m     14\u001b[0m                                          ])\n",
      "\u001b[1;32mc:\\users\\joaqu\\prove-it\\packages\\proveit\\_core_\\known_truth.py\u001b[0m in \u001b[0;36minstantiate\u001b[1;34m(self, repl_map, num_forall_eliminations, assumptions)\u001b[0m\n\u001b[0;32m    897\u001b[0m                               \u001b[0mrepl_map\u001b[0m\u001b[1;33m=\u001b[0m\u001b[0mprocessed_repl_map\u001b[0m\u001b[1;33m,\u001b[0m\u001b[1;33m\u001b[0m\u001b[1;33m\u001b[0m\u001b[0m\n\u001b[0;32m    898\u001b[0m                               \u001b[0mequiv_alt_expansions\u001b[0m\u001b[1;33m=\u001b[0m\u001b[0mequiv_alt_expansions\u001b[0m\u001b[1;33m,\u001b[0m\u001b[1;33m\u001b[0m\u001b[1;33m\u001b[0m\u001b[0m\n\u001b[1;32m--> 899\u001b[1;33m                               assumptions=assumptions))\n\u001b[0m\u001b[0;32m    900\u001b[0m \u001b[1;33m\u001b[0m\u001b[0m\n\u001b[0;32m    901\u001b[0m     def generalize(self, forall_var_or_vars_or_var_lists, \n",
      "\u001b[1;32mc:\\users\\joaqu\\prove-it\\packages\\proveit\\_core_\\proof.py\u001b[0m in \u001b[0;36m__init__\u001b[1;34m(self, orig_known_truth, num_forall_eliminations, repl_map, equiv_alt_expansions, assumptions)\u001b[0m\n\u001b[0;32m   1025\u001b[0m         \u001b[1;32mexcept\u001b[0m \u001b[0mLambdaApplicationError\u001b[0m \u001b[1;32mas\u001b[0m \u001b[0me\u001b[0m\u001b[1;33m:\u001b[0m\u001b[1;33m\u001b[0m\u001b[1;33m\u001b[0m\u001b[0m\n\u001b[0;32m   1026\u001b[0m             raise InstantiationFailure(orig_known_truth, repl_map,\n\u001b[1;32m-> 1027\u001b[1;33m                                        assumptions, str(e))\n\u001b[0m\u001b[0;32m   1028\u001b[0m         \u001b[1;32mfinally\u001b[0m\u001b[1;33m:\u001b[0m\u001b[1;33m\u001b[0m\u001b[1;33m\u001b[0m\u001b[0m\n\u001b[0;32m   1029\u001b[0m             \u001b[1;31m# restore the original default assumptions\u001b[0m\u001b[1;33m\u001b[0m\u001b[1;33m\u001b[0m\u001b[1;33m\u001b[0m\u001b[0m\n",
      "\u001b[1;31mInstantiationFailure\u001b[0m: Proof step failed assuming { [GATE](Z) equiv  [GATE](Z)}:\nAttempting to instantiate |- forall_{h in NaturalsPos, k in NaturalsPos, m in NaturalsPos} [forall_{A_{1, 1}, ..A_{1, _b}.., A_{1, k}, ....A_{_a, 1}, ..A_{_a, _b}.., A_{_a, k}...., A_{m, 1}, ..A_{m, _b}.., A_{m, k}, B_{1}, ..B_{_a}.., B_{m}, C_{1, 1}, ..C_{1, _b}.., C_{1, h}, ....C_{_a, 1}, ..C_{_a, _b}.., C_{_a, h}...., C_{m, 1}, ..C_{m, _b}.., C_{m, h}, D_{1}, ..D_{_a}.., D_{m}, S_{1}, ..S_{_a}.., S_{m}, R_{1, 1}, ..R_{1, _b}.., R_{1, k}, ....R_{_a, 1}, ..R_{_a, _b}.., R_{_a, k}...., R_{m, 1}, ..R_{m, _b}.., R_{m, k}, Q_{1, 1}, ..Q_{1, _b}.., Q_{1, h}, ....Q_{_a, 1}, ..Q_{_a, _b}.., Q_{_a, h}...., Q_{m, 1}, ..Q_{m, _b}.., Q_{m, h}} (( B_{1} MULTI_QUBIT_GATE S_{1}   \\\\ \n   \\colon   \\\\ \n   B_{i} MULTI_QUBIT_GATE S_{i}   \\\\ \n   \\colon   \\\\ \n   B_{m} MULTI_QUBIT_GATE S_{m} equiv  D_{1} MULTI_QUBIT_GATE S_{1}   \\\\ \n   \\colon   \\\\ \n   D_{i} MULTI_QUBIT_GATE S_{i}   \\\\ \n   \\colon   \\\\ \n   D_{m} MULTI_QUBIT_GATE S_{m}) =>  \\\\ ( A_{1, 1} MULTI_QUBIT_GATE R_{1, 1}  & ..A_{1, j} MULTI_QUBIT_GATE R_{1, j}..  & A_{1, k} MULTI_QUBIT_GATE R_{1, k}  & B_{1} MULTI_QUBIT_GATE S_{1}  & C_{1, 1} MULTI_QUBIT_GATE Q_{1, 1}  & ..C_{1, j} MULTI_QUBIT_GATE Q_{1, j}..  & C_{1, h} MULTI_QUBIT_GATE Q_{1, h}   \\\\ \n   \\colon  & \\colon  & \\colon  & \\colon  & \\colon  & \\colon  & \\colon   \\\\ \n   A_{i, 1} MULTI_QUBIT_GATE R_{i, 1}  & ..A_{i, j} MULTI_QUBIT_GATE R_{i, j}..  & A_{i, k} MULTI_QUBIT_GATE R_{i, k}  & B_{i} MULTI_QUBIT_GATE S_{i}  & C_{i, 1} MULTI_QUBIT_GATE Q_{i, 1}  & ..C_{i, j} MULTI_QUBIT_GATE Q_{i, j}..  & C_{i, h} MULTI_QUBIT_GATE Q_{i, h}   \\\\ \n   \\colon  & \\colon  & \\colon  & \\colon  & \\colon  & \\colon  & \\colon   \\\\ \n   A_{m, 1} MULTI_QUBIT_GATE R_{m, 1}  & ..A_{m, j} MULTI_QUBIT_GATE R_{m, j}..  & A_{m, k} MULTI_QUBIT_GATE R_{m, k}  & B_{m} MULTI_QUBIT_GATE S_{m}  & C_{m, 1} MULTI_QUBIT_GATE Q_{m, 1}  & ..C_{m, j} MULTI_QUBIT_GATE Q_{m, j}..  & C_{m, h} MULTI_QUBIT_GATE Q_{m, h} equiv  A_{1, 1} MULTI_QUBIT_GATE R_{1, 1}  & ..A_{1, j} MULTI_QUBIT_GATE R_{1, j}..  & A_{1, k} MULTI_QUBIT_GATE R_{1, k}  & D_{1} MULTI_QUBIT_GATE S_{1}  & C_{1, 1} MULTI_QUBIT_GATE Q_{1, 1}  & ..C_{1, j} MULTI_QUBIT_GATE Q_{1, j}..  & C_{1, h} MULTI_QUBIT_GATE Q_{1, h}   \\\\ \n   \\colon  & \\colon  & \\colon  & \\colon  & \\colon  & \\colon  & \\colon   \\\\ \n   A_{i, 1} MULTI_QUBIT_GATE R_{i, 1}  & ..A_{i, j} MULTI_QUBIT_GATE R_{i, j}..  & A_{i, k} MULTI_QUBIT_GATE R_{i, k}  & D_{i} MULTI_QUBIT_GATE S_{i}  & C_{i, 1} MULTI_QUBIT_GATE Q_{i, 1}  & ..C_{i, j} MULTI_QUBIT_GATE Q_{i, j}..  & C_{i, h} MULTI_QUBIT_GATE Q_{i, h}   \\\\ \n   \\colon  & \\colon  & \\colon  & \\colon  & \\colon  & \\colon  & \\colon   \\\\ \n   A_{m, 1} MULTI_QUBIT_GATE R_{m, 1}  & ..A_{m, j} MULTI_QUBIT_GATE R_{m, j}..  & A_{m, k} MULTI_QUBIT_GATE R_{m, k}  & D_{m} MULTI_QUBIT_GATE S_{m}  & C_{m, 1} MULTI_QUBIT_GATE Q_{m, 1}  & ..C_{m, j} MULTI_QUBIT_GATE Q_{m, j}..  & C_{m, h} MULTI_QUBIT_GATE Q_{m, h}))] with {h: 1, k: 1, m: 1, A: ([GATE](H)), B: ([GATE](Z)), C: ([GATE](X)), D: ([GATE](Z)), S: ({1}), R: ({1}), Q: ({1}), (A_{1, 1}, ..A_{1, _b}.., A_{1, 1}, ....A_{_a, 1}, ..A_{_a, _b}.., A_{_a, 1}...., A_{1, 1}, ..A_{1, _b}.., A_{1, 1}): ([GATE](H)), (B_{1}, ..B_{_a}.., B_{1}): ([GATE](Z)), (C_{1, 1}, ..C_{1, _b}.., C_{1, 1}, ....C_{_a, 1}, ..C_{_a, _b}.., C_{_a, 1}...., C_{1, 1}, ..C_{1, _b}.., C_{1, 1}): ([GATE](X)), (D_{1}, ..D_{_a}.., D_{1}): ([GATE](Z)), (S_{1}, ..S_{_a}.., S_{1}): ({1}), (R_{1, 1}, ..R_{1, _b}.., R_{1, 1}, ....R_{_a, 1}, ..R_{_a, _b}.., R_{_a, 1}...., R_{1, 1}, ..R_{1, _b}.., R_{1, 1}): ({1}), (Q_{1, 1}, ..Q_{1, _b}.., Q_{1, 1}, ....Q_{_a, 1}, ..Q_{_a, _b}.., Q_{_a, 1}...., Q_{1, 1}, ..Q_{1, _b}.., Q_{1, 1}): ({1})}:\nFailure to apply (h, k, m, A_{1, 1}, ..A_{1, _b}.., A_{1, 1}, ....A_{_a, 1}, ..A_{_a, _b}.., A_{_a, 1}...., A_{1, 1}, ..A_{1, _b}.., A_{1, 1}, B_{1}, ..B_{_a}.., B_{1}, C_{1, 1}, ..C_{1, _b}.., C_{1, 1}, ....C_{_a, 1}, ..C_{_a, _b}.., C_{_a, 1}...., C_{1, 1}, ..C_{1, _b}.., C_{1, 1}, D_{1}, ..D_{_a}.., D_{1}, S_{1}, ..S_{_a}.., S_{1}, R_{1, 1}, ..R_{1, _b}.., R_{1, 1}, ....R_{_a, 1}, ..R_{_a, _b}.., R_{_a, 1}...., R_{1, 1}, ..R_{1, _b}.., R_{1, 1}, Q_{1, 1}, ..Q_{1, _b}.., Q_{1, 1}, ....Q_{_a, 1}, ..Q_{_a, _b}.., Q_{_a, 1}...., Q_{1, 1}, ..Q_{1, _b}.., Q_{1, 1}) -> (( B_{1} MULTI_QUBIT_GATE S_{1}   \\\\ \n   \\colon   \\\\ \n   B_{i} MULTI_QUBIT_GATE S_{i}   \\\\ \n   \\colon   \\\\ \n   B_{m} MULTI_QUBIT_GATE S_{m} equiv  D_{1} MULTI_QUBIT_GATE S_{1}   \\\\ \n   \\colon   \\\\ \n   D_{i} MULTI_QUBIT_GATE S_{i}   \\\\ \n   \\colon   \\\\ \n   D_{m} MULTI_QUBIT_GATE S_{m}) =>  \\\\ ( A_{1, 1} MULTI_QUBIT_GATE R_{1, 1}  & ..A_{1, j} MULTI_QUBIT_GATE R_{1, j}..  & A_{1, k} MULTI_QUBIT_GATE R_{1, k}  & B_{1} MULTI_QUBIT_GATE S_{1}  & C_{1, 1} MULTI_QUBIT_GATE Q_{1, 1}  & ..C_{1, j} MULTI_QUBIT_GATE Q_{1, j}..  & C_{1, h} MULTI_QUBIT_GATE Q_{1, h}   \\\\ \n   \\colon  & \\colon  & \\colon  & \\colon  & \\colon  & \\colon  & \\colon   \\\\ \n   A_{i, 1} MULTI_QUBIT_GATE R_{i, 1}  & ..A_{i, j} MULTI_QUBIT_GATE R_{i, j}..  & A_{i, k} MULTI_QUBIT_GATE R_{i, k}  & B_{i} MULTI_QUBIT_GATE S_{i}  & C_{i, 1} MULTI_QUBIT_GATE Q_{i, 1}  & ..C_{i, j} MULTI_QUBIT_GATE Q_{i, j}..  & C_{i, h} MULTI_QUBIT_GATE Q_{i, h}   \\\\ \n   \\colon  & \\colon  & \\colon  & \\colon  & \\colon  & \\colon  & \\colon   \\\\ \n   A_{m, 1} MULTI_QUBIT_GATE R_{m, 1}  & ..A_{m, j} MULTI_QUBIT_GATE R_{m, j}..  & A_{m, k} MULTI_QUBIT_GATE R_{m, k}  & B_{m} MULTI_QUBIT_GATE S_{m}  & C_{m, 1} MULTI_QUBIT_GATE Q_{m, 1}  & ..C_{m, j} MULTI_QUBIT_GATE Q_{m, j}..  & C_{m, h} MULTI_QUBIT_GATE Q_{m, h} equiv  A_{1, 1} MULTI_QUBIT_GATE R_{1, 1}  & ..A_{1, j} MULTI_QUBIT_GATE R_{1, j}..  & A_{1, k} MULTI_QUBIT_GATE R_{1, k}  & D_{1} MULTI_QUBIT_GATE S_{1}  & C_{1, 1} MULTI_QUBIT_GATE Q_{1, 1}  & ..C_{1, j} MULTI_QUBIT_GATE Q_{1, j}..  & C_{1, h} MULTI_QUBIT_GATE Q_{1, h}   \\\\ \n   \\colon  & \\colon  & \\colon  & \\colon  & \\colon  & \\colon  & \\colon   \\\\ \n   A_{i, 1} MULTI_QUBIT_GATE R_{i, 1}  & ..A_{i, j} MULTI_QUBIT_GATE R_{i, j}..  & A_{i, k} MULTI_QUBIT_GATE R_{i, k}  & D_{i} MULTI_QUBIT_GATE S_{i}  & C_{i, 1} MULTI_QUBIT_GATE Q_{i, 1}  & ..C_{i, j} MULTI_QUBIT_GATE Q_{i, j}..  & C_{i, h} MULTI_QUBIT_GATE Q_{i, h}   \\\\ \n   \\colon  & \\colon  & \\colon  & \\colon  & \\colon  & \\colon  & \\colon   \\\\ \n   A_{m, 1} MULTI_QUBIT_GATE R_{m, 1}  & ..A_{m, j} MULTI_QUBIT_GATE R_{m, j}..  & A_{m, k} MULTI_QUBIT_GATE R_{m, k}  & D_{m} MULTI_QUBIT_GATE S_{m}  & C_{m, 1} MULTI_QUBIT_GATE Q_{m, 1}  & ..C_{m, j} MULTI_QUBIT_GATE Q_{m, j}..  & C_{m, h} MULTI_QUBIT_GATE Q_{m, h})) to (1, 1, 1, [GATE](H), [GATE](Z), [GATE](X), [GATE](Z), {1}, {1}, {1}) assuming ( [GATE](Z) equiv  [GATE](Z),):\nImproper replacement: Improper replacement of (A_{1, 1} MULTI_QUBIT_GATE R_{1, 1}, ..A_{1, j} MULTI_QUBIT_GATE R_{1, j}.., A_{1, k} MULTI_QUBIT_GATE R_{1, k}, B_{1} MULTI_QUBIT_GATE S_{1}, C_{1, 1} MULTI_QUBIT_GATE Q_{1, 1}, ..C_{1, j} MULTI_QUBIT_GATE Q_{1, j}.., C_{1, h} MULTI_QUBIT_GATE Q_{1, h}), ..(A_{i, 1} MULTI_QUBIT_GATE R_{i, 1}, ..A_{i, j} MULTI_QUBIT_GATE R_{i, j}.., A_{i, k} MULTI_QUBIT_GATE R_{i, k}, B_{i} MULTI_QUBIT_GATE S_{i}, C_{i, 1} MULTI_QUBIT_GATE Q_{i, 1}, ..C_{i, j} MULTI_QUBIT_GATE Q_{i, j}.., C_{i, h} MULTI_QUBIT_GATE Q_{i, h}).., (A_{m, 1} MULTI_QUBIT_GATE R_{m, 1}, ..A_{m, j} MULTI_QUBIT_GATE R_{m, j}.., A_{m, k} MULTI_QUBIT_GATE R_{m, k}, B_{m} MULTI_QUBIT_GATE S_{m}, C_{m, 1} MULTI_QUBIT_GATE Q_{m, 1}, ..C_{m, j} MULTI_QUBIT_GATE Q_{m, j}.., C_{m, h} MULTI_QUBIT_GATE Q_{m, h}) via {h: 1, k: 1, m: 1, (A_{1, 1}, ..A_{1, _b}.., A_{1, 1}, ....A_{_a, 1}, ..A_{_a, _b}.., A_{_a, 1}...., A_{1, 1}, ..A_{1, _b}.., A_{1, 1}): ([GATE](H)), (B_{1}, ..B_{_a}.., B_{1}): ([GATE](Z)), (C_{1, 1}, ..C_{1, _b}.., C_{1, 1}, ....C_{_a, 1}, ..C_{_a, _b}.., C_{_a, 1}...., C_{1, 1}, ..C_{1, _b}.., C_{1, 1}): ([GATE](X)), (D_{1}, ..D_{_a}.., D_{1}): ([GATE](Z)), (S_{1}, ..S_{_a}.., S_{1}): ({1}), (R_{1, 1}, ..R_{1, _b}.., R_{1, 1}, ....R_{_a, 1}, ..R_{_a, _b}.., R_{_a, 1}...., R_{1, 1}, ..R_{1, _b}.., R_{1, 1}): ({1}), (Q_{1, 1}, ..Q_{1, _b}.., Q_{1, 1}, ....Q_{_a, 1}, ..Q_{_a, _b}.., Q_{_a, 1}...., Q_{1, 1}, ..Q_{1, _b}.., Q_{1, 1}): ({1}), D: {(D_{1}, ..D_{_a}.., D_{1})}, A: {(A_{1, 1}, ..A_{1, _b}.., A_{1, 1}, ....A_{_a, 1}, ..A_{_a, _b}.., A_{_a, 1}...., A_{1, 1}, ..A_{1, _b}.., A_{1, 1})}, R: {(R_{1, 1}, ..R_{1, _b}.., R_{1, 1}, ....R_{_a, 1}, ..R_{_a, _b}.., R_{_a, 1}...., R_{1, 1}, ..R_{1, _b}.., R_{1, 1})}, B: {(B_{1}, ..B_{_a}.., B_{1})}, S: {(S_{1}, ..S_{_a}.., S_{1})}, C: {(C_{1, 1}, ..C_{1, _b}.., C_{1, 1}, ....C_{_a, 1}, ..C_{_a, _b}.., C_{_a, 1}...., C_{1, 1}, ..C_{1, _b}.., C_{1, 1})}, Q: {(Q_{1, 1}, ..Q_{1, _b}.., Q_{1, 1}, ....Q_{_a, 1}, ..Q_{_a, _b}.., Q_{_a, 1}...., Q_{1, 1}, ..Q_{1, _b}.., Q_{1, 1})}}:\nFailure to expand (A_{1, 1} MULTI_QUBIT_GATE R_{1, 1}, ..A_{1, j} MULTI_QUBIT_GATE R_{1, j}.., A_{1, k} MULTI_QUBIT_GATE R_{1, k}, B_{1} MULTI_QUBIT_GATE S_{1}, C_{1, 1} MULTI_QUBIT_GATE Q_{1, 1}, ..C_{1, j} MULTI_QUBIT_GATE Q_{1, j}.., C_{1, h} MULTI_QUBIT_GATE Q_{1, h}), ..(A_{i, 1} MULTI_QUBIT_GATE R_{i, 1}, ..A_{i, j} MULTI_QUBIT_GATE R_{i, j}.., A_{i, k} MULTI_QUBIT_GATE R_{i, k}, B_{i} MULTI_QUBIT_GATE S_{i}, C_{i, 1} MULTI_QUBIT_GATE Q_{i, 1}, ..C_{i, j} MULTI_QUBIT_GATE Q_{i, j}.., C_{i, h} MULTI_QUBIT_GATE Q_{i, h}).., (A_{m, 1} MULTI_QUBIT_GATE R_{m, 1}, ..A_{m, j} MULTI_QUBIT_GATE R_{m, j}.., A_{m, k} MULTI_QUBIT_GATE R_{m, k}, B_{m} MULTI_QUBIT_GATE S_{m}, C_{m, 1} MULTI_QUBIT_GATE Q_{m, 1}, ..C_{m, j} MULTI_QUBIT_GATE Q_{m, j}.., C_{m, h} MULTI_QUBIT_GATE Q_{m, h}) because there is no explicit expansion for (A_{1, 1}, ..A_{1, j}.., A_{1, k}, ....A_{i, 1}, ..A_{i, j}.., A_{i, k}...., A_{1, 1}, ..A_{1, j}.., A_{1, k}).  The known expansions for this variable are {(A_{1, 1}, ..A_{1, _b}.., A_{1, 1}, ....A_{_a, 1}, ..A_{_a, _b}.., A_{_a, 1}...., A_{1, 1}, ..A_{1, _b}.., A_{1, 1}): ([GATE](H))}.  (Note that multiple, equivalent expansion forms may be provided to fulfill this requirement). "
     ]
    }
   ],
   "source": [
    "# 3 by 1 array, subbing Gate(z) - UNFLATTENED\n",
    "single_time_equiv.instantiate({h: one, k: one, m: one,  \n",
    "                              A: ExprTuple(Gate(H)), \n",
    "                              B: ExprTuple(Gate(Z)), \n",
    "                              C: ExprTuple(Gate(X)), \n",
    "                              D: ExprTuple(Gate(Z)), \n",
    "                              S: ExprTuple(Set(one)), \n",
    "                              R: ExprTuple(Set(one)),\n",
    "                              Q: ExprTuple(Set(one)),\n",
    "                             }, \n",
    "                             \n",
    "                             assumptions=[CircuitEquiv(Circuit(ExprArray(ExprTuple(Gate(Z)))), \n",
    "                                                       Circuit(ExprArray(ExprTuple(Gate(Z))))),\n",
    "                                         ])"
   ]
  },
  {
   "cell_type": "code",
   "execution_count": null,
   "metadata": {},
   "outputs": [],
   "source": [
    "print(Forall ((h, k, m), Forall((varRange(A, [one, one], [m, k]), varRange(B, one, m), \n",
    "                                                varRange(C, [one, one], [m, h]), varRange(D, one, m), \n",
    "                                                varRange(S, one, m), varRange(R, [one, one], [m, k]), \n",
    "                                                varRange(Q, [one, one], [m, h])), \n",
    "        \n",
    "            CircuitEquiv(\n",
    "                        Circuit(ExprArray(ExprRange(i, ExprTuple(MultiQubitGate(IndexedVar(B, i), IndexedVar(S, i))), one, m))),\n",
    "                        Circuit(ExprArray(ExprRange(i, ExprTuple(MultiQubitGate(IndexedVar(D, i), IndexedVar(S, i))), one, m)))\n",
    "            )\n",
    "    ).wrapParams(), domain=NaturalsPos).withWrapping().latex())"
   ]
  },
  {
   "cell_type": "code",
   "execution_count": null,
   "metadata": {},
   "outputs": [],
   "source": [
    "Forall ((h, k, m), Forall((varRange(A, [one, one], [m, k]), varRange(B, one, m), \n",
    "                                                varRange(C, [one, one], [m, h]), varRange(D, one, m), \n",
    "                                                varRange(S, one, m), varRange(R, [one, one], [m, k]), \n",
    "                                                varRange(Q, [one, one], [m, h])), \n",
    "        \n",
    "            CircuitEquiv(\n",
    "                        Circuit(ExprArray(ExprRange(i, ExprTuple(MultiQubitGate(IndexedVar(B, i), IndexedVar(S, i))), one, m))),\n",
    "                        Circuit(ExprArray(ExprRange(i, ExprTuple(MultiQubitGate(IndexedVar(D, i), IndexedVar(S, i))), one, m)))\n",
    "            )\n",
    "    ).wrapParams(), domain=NaturalsPos)"
   ]
  },
  {
   "cell_type": "code",
   "execution_count": null,
   "metadata": {},
   "outputs": [],
   "source": [
    "Forall ((h, k, m), Forall((varRange(A, [one, one], [m, k]), varRange(B, one, m), \n",
    "                                                varRange(C, [one, one], [m, h]), varRange(D, one, m), \n",
    "                                                varRange(S, one, m), varRange(R, [one, one], [m, k]), \n",
    "                                                varRange(Q, [one, one], [m, h])), \n",
    "        \n",
    "            CircuitEquiv(\n",
    "                        Circuit(ExprArray(ExprRange(i, ExprTuple(MultiQubitGate(IndexedVar(B, i), IndexedVar(S, i))), one, m))),\n",
    "                        Circuit(ExprArray(ExprRange(i, ExprTuple(MultiQubitGate(IndexedVar(D, i), IndexedVar(S, i))), one, m)))\n",
    "            )\n",
    "    ).wrapParams(), domain=NaturalsPos)"
   ]
  },
  {
   "cell_type": "code",
   "execution_count": null,
   "metadata": {},
   "outputs": [],
   "source": [
    "Forall((varRange(A, [one, one], [m, k]), varRange(B, one, m), \n",
    "                                                varRange(C, [one, one], [m, h]), varRange(D, one, m), \n",
    "                                                varRange(S, one, m), varRange(R, [one, one], [m, k]), \n",
    "                                                varRange(Q, [one, one], [m, h])), \n",
    "        \n",
    "            CircuitEquiv(\n",
    "                        Circuit(ExprArray(ExprRange(i, ExprTuple(MultiQubitGate(IndexedVar(B, i), IndexedVar(S, i))), one, m))),\n",
    "                        Circuit(ExprArray(ExprRange(i, ExprTuple(MultiQubitGate(IndexedVar(D, i), IndexedVar(S, i))), one, m)))\n",
    "            )\n",
    "    ).wrapParams()"
   ]
  },
  {
   "cell_type": "code",
   "execution_count": null,
   "metadata": {},
   "outputs": [],
   "source": [
    "Forall ((h, k, m), Forall((varRange(A, [one, one], [m, k]), varRange(B, one, m), \n",
    "                                                varRange(C, [one, one], [m, h]), varRange(D, one, m), \n",
    "                                                varRange(S, one, m), varRange(R, [one, one], [m, k]), \n",
    "                                                varRange(Q, [one, one], [m, h])), \n",
    "        Implies(\n",
    "            CircuitEquiv(\n",
    "                        Circuit(ExprArray(ExprRange(i, ExprTuple(MultiQubitGate(IndexedVar(B, i), IndexedVar(S, i))), one, m))),\n",
    "                        Circuit(ExprArray(ExprRange(i, ExprTuple(MultiQubitGate(IndexedVar(D, i), IndexedVar(S, i))), one, m)))\n",
    "            ),\n",
    "            CircuitEquiv(\n",
    "                        Circuit(ExprArray(ExprRange(i, ExprTuple(ExprRange(j, MultiQubitGate(Aij, Rij), one, k), \n",
    "                                            MultiQubitGate(IndexedVar(B, i), IndexedVar(S, i)),\n",
    "                                            ExprRange(j, MultiQubitGate(Cij, Qij), one, h)), \n",
    "                                    one, m))),\n",
    "                        Circuit(ExprArray(ExprRange(i, ExprTuple(ExprRange(j, MultiQubitGate(Aij, Rij), one, k), \n",
    "                                            MultiQubitGate(IndexedVar(D, i), IndexedVar(S, i)),\n",
    "                                            ExprRange(j, MultiQubitGate(Cij, Qij), one, h)), \n",
    "                                    one, m)))\n",
    "            )\n",
    "        ).withWrappingAt(2)\n",
    "    ).wrapParams(), domain=NaturalsPos)"
   ]
  },
  {
   "cell_type": "code",
   "execution_count": null,
   "metadata": {},
   "outputs": [],
   "source": [
    "lhs = Circuit(ExprArray(ExprTuple(MultiQubitGate(CONTROL, Set(one, two))), \n",
    "        ExprTuple(MultiQubitGate(Z, Set(one, two))), \n",
    "        ExprTuple(MultiQubitGate(CONTROL, Set(three, four))), \n",
    "        ExprTuple(MultiQubitGate(Z, Set(three, four)))))"
   ]
  },
  {
   "cell_type": "code",
   "execution_count": null,
   "metadata": {},
   "outputs": [],
   "source": [
    "rhs = Circuit(ExprArray(ExprTuple(MultiQubitGate(CONTROL, Set(one, two))), \n",
    "        ExprTuple(MultiQubitGate(Z, Set(one, two))), \n",
    "        ExprTuple(MultiQubitGate(CONTROL, Set(three, four))), \n",
    "        ExprTuple(MultiQubitGate(Z, Set(three, four)))))"
   ]
  },
  {
   "cell_type": "code",
   "execution_count": null,
   "metadata": {},
   "outputs": [],
   "source": [
    "#CircuitEquiv(lhs, rhs).prove(assumptions=[CircuitEquiv(lhs, rhs)])"
   ]
  },
  {
   "cell_type": "code",
   "execution_count": null,
   "metadata": {},
   "outputs": [],
   "source": [
    "big = Circuit(ExprArray(ExprTuple(Gate(H), MultiQubitGate(CONTROL, Set(one, two)), Gate(X)), \n",
    "        ExprTuple(Gate(H), MultiQubitGate(Z, Set(one, two)), \n",
    "                  Gate(X)), \n",
    "        ExprTuple(Gate(H), MultiQubitGate(CONTROL, Set(three, four)), Gate(X)), \n",
    "        ExprTuple(Gate(H), MultiQubitGate(Z, Set(three, four)), \n",
    "                  Gate(X))))"
   ]
  },
  {
   "cell_type": "code",
   "execution_count": null,
   "metadata": {},
   "outputs": [],
   "source": [
    "big_left = Circuit(ExprArray(ExprTuple(Gate(H)), \n",
    "        ExprTuple(Gate(H)), \n",
    "        ExprTuple(Gate(H)), \n",
    "        ExprTuple(Gate(H))))\n"
   ]
  },
  {
   "cell_type": "code",
   "execution_count": null,
   "metadata": {},
   "outputs": [],
   "source": [
    "big_right = Circuit(ExprArray(ExprTuple(Gate(X)), \n",
    "        ExprTuple(Gate(X)), \n",
    "        ExprTuple(Gate(X)), \n",
    "        ExprTuple(Gate(X))))"
   ]
  },
  {
   "cell_type": "code",
   "execution_count": null,
   "metadata": {},
   "outputs": [],
   "source": [
    "# single variables, no ExprTuple, unflattened\n",
    "single_time_equiv.specialize({h: one, k: one, m: four, A: big_left, B: lhs, C: big_right, D: rhs, \n",
    "                              R: [Set(), Set(), Set(), Set()], S:[Set(one, two), Set(one, two), Set(three, four), \n",
    "                                                                  Set(three, four)], \n",
    "                              Q: [Set(), Set(), Set(), Set()]}, assumptions=[CircuitEquiv(lhs, rhs)])"
   ]
  },
  {
   "cell_type": "code",
   "execution_count": null,
   "metadata": {},
   "outputs": [],
   "source": [
    "# single variables, but flattened\n",
    "single_time_equiv.specialize({h: one, k: one, m: four, A: ExprTuple(Gate(H), Gate(H), Gate(H), Gate(H)), \n",
    "                              B: ExprTuple(MultiQubitGate(CONTROL, Set(one, two)), MultiQubitGate(Z, Set(one, two)), \n",
    "                                           MultiQubitGate(CONTROL, Set(three, four)), MultiQubitGate(Z, Set(three, four))), \n",
    "                              C: ExprTuple(Gate(X), Gate(X), Gate(X), Gate(X)), \n",
    "                              D: ExprTuple(MultiQubitGate(CONTROL, Set(one, two)), MultiQubitGate(Z, Set(one, two)), \n",
    "                                           MultiQubitGate(CONTROL, Set(three, four)), MultiQubitGate(Z, Set(three, four))), \n",
    "                              R: ExprTuple(Set(), Set(), Set(), Set()), S:ExprTuple(Set(one, two), Set(one, two), \n",
    "                                                                                    Set(three, four), Set(three, four)), \n",
    "                              Q: ExprTuple(Set(), Set(), Set(), Set())}, assumptions=[CircuitEquiv(lhs, rhs)])"
   ]
  },
  {
   "cell_type": "code",
   "execution_count": null,
   "metadata": {},
   "outputs": [],
   "source": [
    "# 3 by 4, subbing two controlled z gates\n",
    "single_time_equiv.specialize({h: one, k: one, m: four, \n",
    "                              ExprTuple(ExprRange(i, ExprRange(j, Aij, one, k), one, m)): ExprTuple(Gate(H), Gate(H), \n",
    "                                                                                                    Gate(H), Gate(H)), \n",
    "                              ExprTuple(varRange(B, one, m)): ExprTuple(MultiQubitGate(CONTROL, Set(one, two)), \n",
    "                                                                        MultiQubitGate(Z, Set(one, two)),\n",
    "                                                                        MultiQubitGate(CONTROL, Set(three, four)), \n",
    "                                                                        MultiQubitGate(Z, Set(three, four))), \n",
    "                              ExprTuple(varRange(C, [one, one], [m, h])): ExprTuple(Gate(X), Gate(X), Gate(X), Gate(X)), \n",
    "                              ExprTuple(varRange(D, one, m)): ExprTuple(MultiQubitGate(CONTROL, Set(one, two)), \n",
    "                                                                        MultiQubitGate(Z, Set(one, two)), \n",
    "                                           MultiQubitGate(CONTROL, Set(three, four)), MultiQubitGate(Z, Set(three, four))), \n",
    "                              ExprTuple(varRange(S, one, m)): ExprTuple(Set(one, two), Set(one, two), \n",
    "                                                                        Set(three, four), Set(three, four)), \n",
    "                              ExprTuple(varRange(R, [one, one], [m, k])): ExprTuple(Set(), Set(), Set(), Set()), \n",
    "                              ExprTuple(varRange(Q, [one, one], [m, h])): ExprTuple(Set(), Set(), Set(), Set())}, \n",
    "                             assumptions=[CircuitEquiv(lhs, rhs)])"
   ]
  },
  {
   "cell_type": "code",
   "execution_count": null,
   "metadata": {},
   "outputs": [],
   "source": [
    "# 3 by 2 array, subbing controlled z gate\n",
    "single_time_equiv.specialize({h: one, k: one, m: two, \n",
    "                              ExprTuple(ExprRange(i, ExprRange(j, Aij, one, k), one, m)): ExprTuple(Gate(H), Gate(H)), \n",
    "                              ExprTuple(varRange(B, one, m)): ExprTuple(MultiQubitGate(CONTROL, Set(one, two)), MultiQubitGate(Z, Set(one, two))), \n",
    "                              ExprTuple(varRange(C, [one, one], [m, h])): ExprTuple(Gate(X), Gate(X)), \n",
    "                              ExprTuple(varRange(D, one, m)): ExprTuple(MultiQubitGate(CONTROL, Set(one, two)), MultiQubitGate(Z, Set(one, two))), \n",
    "                              ExprTuple(varRange(S, one, m)): ExprTuple(Set(one, two), Set(one, two)), \n",
    "                              ExprTuple(varRange(R, [one, one], [m, k])): ExprTuple(Set(), Set()), \n",
    "                              ExprTuple(varRange(Q, [one, one], [m, h])): ExprTuple(Set(), Set())}, \n",
    "                             assumptions=[CircuitEquiv(Circuit(ExprArray(ExprTuple(MultiQubitGate(CONTROL, Set(one, two))), ExprTuple(MultiQubitGate(Z, Set(one, two))))), Circuit(ExprArray(ExprTuple(MultiQubitGate(CONTROL, Set(one, two))), ExprTuple(MultiQubitGate(Z, Set(one, two))))))])"
   ]
  },
  {
   "cell_type": "code",
   "execution_count": null,
   "metadata": {},
   "outputs": [],
   "source": [
    "# 3 by 1 array, subbing Gate(z)\n",
    "single_time_equiv.specialize({h: one, k: one, m: one, \n",
    "                              ExprTuple(ExprRange(i, ExprRange(j, Aij, one, k), one, m)): ExprTuple(Gate(H)), \n",
    "                              ExprTuple(varRange(B, one, m)): ExprTuple(Gate(Z)), \n",
    "                              ExprTuple(varRange(C, [one, one], [m, h])): ExprTuple(Gate(X)), \n",
    "                              ExprTuple(varRange(D, one, m)): ExprTuple(Gate(Z)), \n",
    "                              ExprTuple(varRange(S, one, m)): ExprTuple(Set()), \n",
    "                              ExprTuple(varRange(R, [one, one], [m, k])): ExprTuple(Set()), \n",
    "                              ExprTuple(varRange(Q, [one, one], [m, h])): ExprTuple(Set())}, \n",
    "                             assumptions=[CircuitEquiv(Circuit(ExprArray(ExprTuple(Gate(Z)))), Circuit(ExprArray(ExprTuple(Gate(Z)))))])"
   ]
  },
  {
   "cell_type": "code",
   "execution_count": null,
   "metadata": {},
   "outputs": [],
   "source": [
    "dir(ExprRange(i, ExprRange(j, Aij, one, one), one, one))"
   ]
  },
  {
   "cell_type": "code",
   "execution_count": null,
   "metadata": {},
   "outputs": [],
   "source": [
    "ExprArray(ExprRange(i, ExprRange(j, Aij, one, one), one, one)).length()"
   ]
  },
  {
   "cell_type": "code",
   "execution_count": null,
   "metadata": {},
   "outputs": [],
   "source": [
    "# 3 by 1 array, subbing Gate(z)\n",
    "single_time_equiv.specialize({h: one, k: one, m: one, \n",
    "                              ExprTuple(ExprRange(i, ExprRange(j, Aij, one, one), one, one)): ExprTuple(Gate(H)), \n",
    "                              ExprTuple(varRange(B, one, one)): ExprTuple(Gate(Z)), \n",
    "                              ExprTuple(varRange(C, [one, one], [one, one])): ExprTuple(Gate(X)), \n",
    "                              ExprTuple(varRange(D, one, one)): ExprTuple(Gate(Z)), \n",
    "                              ExprTuple(varRange(S, one, one)): ExprTuple(Set()), \n",
    "                              ExprTuple(varRange(R, [one, one], [one, one])): ExprTuple(Set()), \n",
    "                              ExprTuple(varRange(Q, [one, one], [one, one])): ExprTuple(Set())}, \n",
    "                             assumptions=[CircuitEquiv(Circuit(ExprArray(ExprTuple(Gate(Z)))), Circuit(ExprArray(ExprTuple(Gate(Z)))))])"
   ]
  },
  {
   "cell_type": "code",
   "execution_count": null,
   "metadata": {},
   "outputs": [],
   "source": [
    "# 3 by 2 array, subbing controlled z gate - UNFLATTENED\n",
    "single_time_equiv.specialize({h: one, k: one, m: two, \n",
    "                              ExprTuple(ExprRange(i, ExprRange(j, Aij, one, k), one, m)): ExprTuple(ExprTuple(Gate(H)), ExprTuple(Gate(H))), \n",
    "                              ExprTuple(varRange(B, one, m)): ExprTuple(ExprTuple(MultiQubitGate(CONTROL, Set(one, two))), ExprTuple(MultiQubitGate(Z, Set(one, two)))), \n",
    "                              ExprTuple(varRange(C, [one, one], [m, h])): ExprTuple(ExprTuple(Gate(X)), ExprTuple(Gate(X))), \n",
    "                              ExprTuple(varRange(D, one, m)): ExprTuple(ExprTuple(MultiQubitGate(CONTROL, Set(one, two))), ExprTuple(MultiQubitGate(Z, Set(one, two)))), \n",
    "                              ExprTuple(varRange(S, one, m)): ExprTuple(Set(one, two), Set(one, two)), \n",
    "                              ExprTuple(varRange(R, [one, one], [m, k])): ExprTuple(Set(), Set()), \n",
    "                              ExprTuple(varRange(Q, [one, one], [m, h])): ExprTuple(Set(), Set())}, \n",
    "                             assumptions=[CircuitEquiv(Circuit(ExprArray(ExprTuple(MultiQubitGate(CONTROL, Set(one, two))), ExprTuple(MultiQubitGate(Z, Set(one, two))))), Circuit(ExprArray(ExprTuple(MultiQubitGate(CONTROL, Set(one, two))), ExprTuple(MultiQubitGate(Z, Set(one, two))))))])"
   ]
  },
  {
   "cell_type": "code",
   "execution_count": null,
   "metadata": {},
   "outputs": [],
   "source": [
    "ExprTuple(varRange(R, [one, one], [one, one]))\n",
    "                              "
   ]
  },
  {
   "cell_type": "code",
   "execution_count": null,
   "metadata": {},
   "outputs": [],
   "source": [
    "ExprTuple(ExprRange(j, Rij, one, one))"
   ]
  },
  {
   "cell_type": "code",
   "execution_count": null,
   "metadata": {},
   "outputs": [],
   "source": [
    "from proveit.core_expr_types.tuples._theorems_ import singular_range_reduction\n",
    "singular_range_reduction"
   ]
  },
  {
   "cell_type": "code",
   "execution_count": null,
   "metadata": {},
   "outputs": [],
   "source": [
    "singular_range_reduction.specialize({})"
   ]
  },
  {
   "cell_type": "code",
   "execution_count": null,
   "metadata": {},
   "outputs": [],
   "source": [
    "Len(ExprRange(i, ExprRange(j, ExprTuple(i, j), one, one), one, one)).computation()"
   ]
  },
  {
   "cell_type": "code",
   "execution_count": null,
   "metadata": {},
   "outputs": [],
   "source": [
    "single_time_equiv"
   ]
  },
  {
   "cell_type": "code",
   "execution_count": null,
   "metadata": {},
   "outputs": [],
   "source": [
    "# 3 by 1 array, subbing Gate(z) - UNFLATTENED\n",
    "single_time_equiv.instantiate({h: one, k: one, m: one, \n",
    "                              ExprTuple(ExprRange(i, ExprRange(j, Aij, one, one), one, one)): ExprTuple(ExprTuple(Gate(H))), \n",
    "                              ExprTuple(varRange(B, one, one)): ExprTuple(ExprTuple(Gate(Z))), \n",
    "                              ExprTuple(varRange(C, [one, one], [one, one])): ExprTuple(ExprTuple(Gate(X))), \n",
    "                              ExprTuple(varRange(D, one, one)): ExprTuple(ExprTuple(Gate(Z))), \n",
    "                              ExprTuple(varRange(S, one, one)): ExprTuple(Set()), \n",
    "                              ExprTuple(varRange(R, [one, one], [one, one])): ExprTuple(Set()),\n",
    "                              #ExprTuple(ExprRange(j, IndexedVar(R, [one, j]), one, one)): ExprTuple(Set()),\n",
    "                              ExprTuple(varRange(Q, [one, one], [one, one])): ExprTuple(Set()),\n",
    "                             ExprTuple(ExprRange(j, IndexedVar(Q, [one, j]), one, one)): ExprTuple(Set()),\n",
    "                             ExprTuple(varRange(Q, i, j)): ExprTuple(Set())}, \n",
    "                             assumptions=[CircuitEquiv(Circuit(ExprArray(ExprTuple(Gate(Z)))), \n",
    "                                                       Circuit(ExprArray(ExprTuple(Gate(Z))))),\n",
    "                                         #Equals(Len(varRange(R, i, j)), one), Equals(Len(varRange(Q, i, j)), one),\n",
    "                                         InSet(Add(j, Neg(i), one), Naturals), InSet(j, Complexes),\n",
    "                                         InSet(Neg(i), Complexes), Equals(Add(j, Neg(i)), zero)])"
   ]
  },
  {
   "cell_type": "code",
   "execution_count": null,
   "metadata": {},
   "outputs": [],
   "source": [
    "# 3 by 1 array, subbing Gate(z) - UNFLATTENED\n",
    "single_time_equiv.instantiate({h: one, k: one, m: one, \n",
    "                              ExprTuple(ExprRange(i, ExprRange(j, Aij, one, one), one, one)): ExprTuple(ExprTuple(Gate(H))), \n",
    "                              ExprTuple(varRange(B, one, one)): ExprTuple(ExprTuple(Gate(Z))), \n",
    "                              ExprTuple(varRange(C, [one, one], [one, one])): ExprTuple(ExprTuple(Gate(X))), \n",
    "                              ExprTuple(varRange(D, one, one)): ExprTuple(ExprTuple(Gate(Z))), \n",
    "                              ExprTuple(varRange(S, one, one)): ExprTuple(Set()), \n",
    "                              ExprTuple(varRange(R, [one, one], [one, one])): ExprTuple(Set()),\n",
    "                              #ExprTuple(ExprRange(j, IndexedVar(R, [one, j]), one, one)): ExprTuple(Set()),\n",
    "                              ExprTuple(varRange(Q, [one, one], [one, one])): ExprTuple(Set()),\n",
    "                             ExprTuple(ExprRange(j, IndexedVar(Q, [one, j]), one, one)): ExprTuple(Set()),\n",
    "                             ExprTuple(varRange(Q, i, j)): ExprTuple(Set())}, \n",
    "                             assumptions=[CircuitEquiv(Circuit(ExprArray(ExprTuple(Gate(Z)))), \n",
    "                                                       Circuit(ExprArray(ExprTuple(Gate(Z))))),\n",
    "                                         #Equals(Len(varRange(R, i, j)), one), Equals(Len(varRange(Q, i, j)), one),\n",
    "                                         InSet(Add(j, Neg(i), one), Naturals), InSet(j, Complexes),\n",
    "                                         InSet(Neg(i), Complexes), Equals(Add(j, Neg(i)), zero)])"
   ]
  },
  {
   "cell_type": "code",
   "execution_count": null,
   "metadata": {},
   "outputs": [],
   "source": []
  },
  {
   "cell_type": "code",
   "execution_count": null,
   "metadata": {},
   "outputs": [],
   "source": [
    "Sig = IndexedVar(S,(i,g)) "
   ]
  },
  {
   "cell_type": "code",
   "execution_count": null,
   "metadata": {},
   "outputs": [],
   "source": [
    "Sj = IndexedVar(S, j)"
   ]
  },
  {
   "cell_type": "code",
   "execution_count": null,
   "metadata": {},
   "outputs": [],
   "source": [
    "MultiQubitGate(Sig, one).subExpr(1).subExpr(0).subExpr(0).subExpr(0)"
   ]
  },
  {
   "cell_type": "code",
   "execution_count": null,
   "metadata": {},
   "outputs": [],
   "source": [
    "MultiQubitGate(Sj, one).subExpr(1).subExpr(0).subExpr(0)"
   ]
  },
  {
   "cell_type": "code",
   "execution_count": null,
   "metadata": {},
   "outputs": [],
   "source": [
    "#ExprRange(i, ExprTuple(ExprRange(h, MultiQubitGate(Aih, A), one, m), ExprRange(j, MultiQubitGate(Bij, A), one, n), ExprRange(k, MultiQubitGate(Cik, A), one, p)), one, q).first().entries[0].first().subExpr(1).subExpr(1)"
   ]
  },
  {
   "cell_type": "code",
   "execution_count": null,
   "metadata": {},
   "outputs": [],
   "source": []
  },
  {
   "cell_type": "code",
   "execution_count": null,
   "metadata": {},
   "outputs": [],
   "source": [
    "CircuitEquiv(\n",
    "                    Circuit(ExprArray(ExprTuple(ExprRange(j, MultiQubitGate(IndexedVar(B, j), Set(Add(m, one), Add(m, k, two))), one, n)),\n",
    "                            ExprTuple(ExprRange(j, MultiQubitGate(IndexedVar(D, j), Set(Add(m, one), Add(m, k, two))), one, n)))),\n",
    "                    Circuit(ExprArray(ExprTuple(ExprRange(j, MultiQubitGate(IndexedVar(F, j), Set(Add(m, one), Add(m, k, two))), one, n)),\n",
    "                            ExprTuple(ExprRange(j, MultiQubitGate(IndexedVar(G, j), Set(Add(m, one), Add(m, k, two))), one, n))))\n",
    "            ).lhs"
   ]
  },
  {
   "cell_type": "code",
   "execution_count": null,
   "metadata": {},
   "outputs": [],
   "source": [
    "ExprRange(i, ExprTuple(ExprRange(j, MultiQubitGate(Aij, Sij), one, n)), one, m).first().entries[0].first()"
   ]
  },
  {
   "cell_type": "code",
   "execution_count": null,
   "metadata": {},
   "outputs": [],
   "source": [
    "ExprRange(j, Gate(Aij), one, n).first().subExpr(1).subExpr(1)"
   ]
  },
  {
   "cell_type": "code",
   "execution_count": null,
   "metadata": {},
   "outputs": [],
   "source": [
    "Circuit(ExprArray(ExprRange(i, ExprTuple(ExprRange(j, Gate(Aij), one, n)), one, m),\n",
    "                     ExprTuple(ExprRange(j, MultiQubitGate(IndexedVar(B, j), Set(Add(m, one), Add(m, k, two))), one, n)),\n",
    "        ExprRange(i, ExprTuple(ExprRange(j, MultiQubitGate(Cij, Rij), one, n)), one, k),\n",
    "                     ExprTuple(ExprRange(j, MultiQubitGate(IndexedVar(D, j), Set(Add(m, one), Add(m, k, two))), one, n)),\n",
    "        ExprRange(i, ExprTuple(ExprRange(j, Gate(Eij), one, n)), one, p)))"
   ]
  },
  {
   "cell_type": "code",
   "execution_count": null,
   "metadata": {},
   "outputs": [],
   "source": [
    "Circuit(ExprArray(ExprRange(i, ExprTuple(ExprRange(j, MultiQubitGate(Aij, Sij), one, n)), one, m),\n",
    "                     ExprTuple(ExprRange(j, MultiQubitGate(IndexedVar(B, j), Set(Add(m, one), Add(m, k, two))), one, n)),\n",
    "        ExprRange(i, ExprTuple(ExprRange(j, MultiQubitGate(Cij, Rij), one, n)), one, k),\n",
    "                     ExprTuple(ExprRange(j, MultiQubitGate(IndexedVar(D, j), Set(Add(m, one), Add(m, k, two))), one, n)),\n",
    "        ExprRange(i, ExprTuple(ExprRange(j, MultiQubitGate(Eij, Qij), one, n)), one, p)))"
   ]
  },
  {
   "cell_type": "code",
   "execution_count": null,
   "metadata": {},
   "outputs": [],
   "source": [
    "Circuit(ExprArray(ExprRange(i, ExprTuple(ExprRange(j, MultiQubitGate(Aij, Sij), one, n)), one, m),\n",
    "                     ExprTuple(ExprRange(j, MultiQubitGate(IndexedVar(B, j), Set(two, four)), one, n)),\n",
    "        ExprRange(i, ExprTuple(ExprRange(j, MultiQubitGate(Cij, Rij), one, n)), one, k),\n",
    "                     ExprTuple(ExprRange(j, MultiQubitGate(IndexedVar(D, j), Set(two, five)), one, n)),\n",
    "        ExprRange(i, ExprTuple(ExprRange(j, MultiQubitGate(Eij, Qij), one, n)), one, p)))"
   ]
  },
  {
   "cell_type": "code",
   "execution_count": null,
   "metadata": {},
   "outputs": [],
   "source": [
    "\n",
    "        Implies(\n",
    "            CircuitEquiv(\n",
    "                    Circuit(ExprArray(ExprTuple(ExprRange(j, MultiQubitGate(indexed_var(B, j), Set(Add(m, one), Add(m, k, two))), one, n)),\n",
    "                            ExprTuple(ExprRange(j, MultiQubitGate(indexed_var(D, j), Set(Add(m, one), Add(m, k, two))), one, n)))),\n",
    "                    Circuit(ExprArray(ExprTuple(ExprRange(j, MultiQubitGate(indexed_var(F, j), Set(Add(m, one), Add(m, k, two))), one, n)),\n",
    "                            ExprTuple(ExprRange(j, MultiQubitGate(indexed_var(G, j), Set(Add(m, one), Add(m, k, two))), one, n))))\n",
    "            ),\n",
    "            CircuitEquiv(\n",
    "                    Circuit(ExprArray(ExprRange(i, ExprTuple(ExprRange(j, MultiQubitGate(Aij, Sij), one, n)), one, m),\n",
    "                            ExprTuple(ExprRange(j, MultiQubitGate(indexed_var(B, j), Set(Add(m, one), Add(m, k, two))), one, n)),\n",
    "                            ExprRange(i, ExprTuple(ExprRange(j, MultiQubitGate(Cij, Rij), one, n)), one, k),\n",
    "                            ExprTuple(ExprRange(j, MultiQubitGate(indexed_var(D, j), Set(Add(m, one), Add(m, k, two))), one, n)),\n",
    "                            ExprRange(i, ExprTuple(ExprRange(j, MultiQubitGate(Eij, Qij), one, n)), one, p))),\n",
    "                    Circuit(ExprArray(ExprRange(i, ExprTuple(ExprRange(j, MultiQubitGate(Aij, Sij), one, n)), one, m),\n",
    "                            ExprTuple(ExprRange(j, MultiQubitGate(indexed_var(F, j), Set(Add(m, one), Add(m, k, two))), one, n)),\n",
    "                            ExprRange(i, ExprTuple(ExprRange(j, MultiQubitGate(Cij, Rij), one, n)), one, k),\n",
    "                            ExprTuple(ExprRange(j, MultiQubitGate(indexed_var(G, j), Set(Add(m, one), Add(m, k, two))), one, n)),\n",
    "                            ExprRange(i, ExprTuple(ExprRange(j, MultiQubitGate(Eij, Qij), one, n)), one, p))))\n",
    "            )\n",
    "        \n"
   ]
  },
  {
   "cell_type": "code",
   "execution_count": null,
   "metadata": {},
   "outputs": [],
   "source": [
    "Circuit(ExprArray(ExprTuple(Input(ket0), Gate(H), MultiQubitGate(X, Set(one, three)), Gate(H), Output(ketPlus)), \n",
    "        ExprTuple(Input(ket1), MultiQubitGate(H, Set(two, three)), MultiQubitGate(H, Set(two)), Gate(X), Output(ketMinus)),\n",
    "       ExprTuple(Input(ket1), MultiQubitGate(H, Set(two, three)), MultiQubitGate(X, Set(one, three)), Gate(X), Output(ketMinus))))"
   ]
  },
  {
   "cell_type": "code",
   "execution_count": null,
   "metadata": {},
   "outputs": [],
   "source": [
    "Circuit(ExprArray(ExprRange(i, ExprTuple(MultiQubitGate(indexed_var(B, i), indexed_var(S, i))), one, m))).getRowLength()"
   ]
  },
  {
   "cell_type": "code",
   "execution_count": null,
   "metadata": {},
   "outputs": [],
   "source": [
    "Circuit(ExprArray(ExprTuple(ExprRange(j, Gate(indexed_var(B, j)), one, n))))"
   ]
  },
  {
   "cell_type": "code",
   "execution_count": null,
   "metadata": {},
   "outputs": [],
   "source": [
    "CircuitEquiv(\n",
    "                    Circuit(ExprArray(ExprTuple(ExprRange(j, Gate(indexed_var(B, j)), one, n)))),\n",
    "                    Circuit(ExprArray(ExprTuple(ExprRange(j, Gate(indexed_var(D, j)), one, n)))))"
   ]
  },
  {
   "cell_type": "code",
   "execution_count": null,
   "metadata": {},
   "outputs": [],
   "source": [
    "Circuit(ExprArray(ExprRange(i, ExprTuple(ExprRange(j, MultiQubitGate(Cij, Rij), one, n)), one, k)))"
   ]
  },
  {
   "cell_type": "code",
   "execution_count": null,
   "metadata": {},
   "outputs": [],
   "source": [
    "Circuit(ExprArray(ExprRange(i, ExprTuple(ExprRange(j, MultiQubitGate(Aij, Sij), one, n)), one, m),\n",
    "                            ExprTuple(ExprRange(j, Gate(indexed_var(B, j)), one, n)),\n",
    "                            ExprRange(i, ExprTuple(ExprRange(j, MultiQubitGate(Cij, Rij), one, n)), one, k)))"
   ]
  },
  {
   "cell_type": "code",
   "execution_count": null,
   "metadata": {},
   "outputs": [],
   "source": [
    "CircuitEquiv(\n",
    "                    Circuit(ExprArray(ExprRange(i, ExprTuple(ExprRange(j, MultiQubitGate(Aij, Sij), one, n)), one, m),\n",
    "                            ExprTuple(ExprRange(j, Gate(indexed_var(B, j)), one, n)),\n",
    "                            ExprRange(i, ExprTuple(ExprRange(j, MultiQubitGate(Cij, Rij), one, n)), one, k))),\n",
    "                    Circuit(ExprArray(ExprRange(i, ExprTuple(ExprRange(j, MultiQubitGate(Aij, Sij), one, n)), one, m),\n",
    "                            ExprTuple(ExprRange(j, Gate(indexed_var(D, j)), one, n)),\n",
    "                            ExprRange(i, ExprTuple(ExprRange(j, MultiQubitGate(Cij, Rij), one, n)), one, k)))\n",
    "            )"
   ]
  },
  {
   "cell_type": "code",
   "execution_count": null,
   "metadata": {},
   "outputs": [],
   "source": [
    "Circuit(ExprArray(ExprRange(i, ExprTuple(ExprRange(j, MultiQubitGate(Aij, Rij), one, k), \n",
    "                                            MultiQubitGate(indexed_var(B, i), indexed_var(S, i)),\n",
    "                               ExprRange(j, MultiQubitGate(Cij, Qij), one, h)), \n",
    "                                    one, m)))"
   ]
  },
  {
   "cell_type": "code",
   "execution_count": null,
   "metadata": {},
   "outputs": [],
   "source": [
    "print(Implies(\n",
    "            CircuitEquiv(\n",
    "                        Circuit(ExprArray(ExprRange(i, ExprTuple(MultiQubitGate(indexed_var(B, i), indexed_var(S, i))), one, m))),\n",
    "                        Circuit(ExprArray(ExprRange(i, ExprTuple(MultiQubitGate(indexed_var(D, i), indexed_var(S, i))), one, m)))\n",
    "            ),\n",
    "            CircuitEquiv(\n",
    "                        Circuit(ExprArray(ExprRange(i, ExprTuple(ExprRange(j, MultiQubitGate(Aij, Rij), one, k), \n",
    "                                            MultiQubitGate(indexed_var(B, i), indexed_var(S, i)),\n",
    "                                            ExprRange(j, MultiQubitGate(Cij, Qij), one, h)), \n",
    "                                    one, m))),\n",
    "                        Circuit(ExprArray(ExprRange(i, ExprTuple(ExprRange(j, MultiQubitGate(Aij, Rij), one, k), \n",
    "                                            MultiQubitGate(indexed_var(D, i), indexed_var(S, i)),\n",
    "                                            ExprRange(j, MultiQubitGate(Cij, Qij), one, h)), \n",
    "                                    one, m)))\n",
    "            )\n",
    "        ).withWrappingAt(1).latex())"
   ]
  },
  {
   "cell_type": "code",
   "execution_count": null,
   "metadata": {},
   "outputs": [],
   "source": [
    "Implies(\n",
    "            CircuitEquiv(\n",
    "                        Circuit(ExprArray(ExprRange(i, ExprTuple(MultiQubitGate(indexed_var(B, i), indexed_var(S, i))), one, m))),\n",
    "                        Circuit(ExprArray(ExprRange(i, ExprTuple(MultiQubitGate(indexed_var(D, i), indexed_var(S, i))), one, m)))\n",
    "            ),\n",
    "            CircuitEquiv(\n",
    "                        Circuit(ExprArray(ExprRange(i, ExprTuple(ExprRange(j, MultiQubitGate(Aij, Rij), one, k), \n",
    "                                            MultiQubitGate(indexed_var(B, i), indexed_var(S, i)),\n",
    "                                            ExprRange(j, MultiQubitGate(Cij, Qij), one, h)), \n",
    "                                    one, m))),\n",
    "                        Circuit(ExprArray(ExprRange(i, ExprTuple(ExprRange(j, MultiQubitGate(Aij, Rij), one, k), \n",
    "                                            MultiQubitGate(indexed_var(D, i), indexed_var(S, i)),\n",
    "                                            ExprRange(j, MultiQubitGate(Cij, Qij), one, h)), \n",
    "                                    one, m)))\n",
    "            )\n",
    "        ).withWrappingAt(1)"
   ]
  },
  {
   "cell_type": "code",
   "execution_count": null,
   "metadata": {},
   "outputs": [],
   "source": [
    "CircuitEquiv(Circuit(ExprArray(ExprRange(i, ExprTuple(ExprRange(j, MultiQubitGate(Aij, Sij), one, m)), one, q))),\n",
    "                     Circuit(ExprArray(ExprRange(i, ExprTuple(ExprRange(j, MultiQubitGate(Aij, Sij), one, m)), one, q))))"
   ]
  },
  {
   "cell_type": "code",
   "execution_count": null,
   "metadata": {},
   "outputs": [],
   "source": [
    "print(CircuitEquiv(ExprArray(Circuit(ExprRange(i, ExprTuple(ExprRange(j, MultiQubitGate(Aij, Sij), one, m)), one, q))),\n",
    "                   ExprArray(Circuit(ExprRange(i, ExprTuple(ExprRange(j, MultiQubitGate(Aij, Sij), one, m)), one, q)))).latex())"
   ]
  },
  {
   "cell_type": "code",
   "execution_count": null,
   "metadata": {},
   "outputs": [],
   "source": [
    "Circuit(ExprArray(ExprRange(i, ExprTuple(ExprRange(j, MultiQubitGate(Aij, Sij), one, m)), one, q),\n",
    "        ExprTuple(ExprRange(j, MultiQubitGate(Bij, Sij), one, m)),\n",
    "        ExprRange(i, ExprTuple(ExprRange(j, MultiQubitGate(Cij, Sij), one, m)), one, s)))"
   ]
  },
  {
   "cell_type": "code",
   "execution_count": null,
   "metadata": {},
   "outputs": [],
   "source": [
    "Circuit(ExprArray(ExprRange(i, ExprTuple(ExprRange(j, MultiQubitGate(Bij, Sij), one, n)), one, m)))"
   ]
  },
  {
   "cell_type": "code",
   "execution_count": null,
   "metadata": {},
   "outputs": [],
   "source": [
    "Circuit(ExprArray(ExprTuple(Input(ket0), Gate(H), Output(ketPlus)), \n",
    "        ExprTuple(Input(ket1), MultiQubitGate(H, Set(two)), Output(ketMinus))))\n",
    "# MultiQubitGate of a single gate - automatic equality reductions. "
   ]
  },
  {
   "cell_type": "code",
   "execution_count": null,
   "metadata": {},
   "outputs": [],
   "source": [
    "Circuit(ExprArray(ExprTuple(Input(ket0), Gate(IdentityOp()), Output(ketPlus)), \n",
    "        ExprTuple(Input(ket1), Gate(), Output(ketMinus))))\n",
    "# Empty gate reduction"
   ]
  },
  {
   "cell_type": "code",
   "execution_count": null,
   "metadata": {},
   "outputs": [],
   "source": [
    "#Circuit(ExprRange(i, Gate(ExprRange(j, Aij, one, n)), one, m))"
   ]
  },
  {
   "cell_type": "code",
   "execution_count": null,
   "metadata": {},
   "outputs": [],
   "source": [
    "# multigate block test\n",
    "Circuit(ExprArray(ExprTuple(Input(ket0), MultiQubitGate(CONTROL, Set(one, two, three, four, six, seven)), Output(ket0)), \n",
    "        ExprTuple(Input(ket0), MultiQubitGate(CONTROL, Set(one, two, three, four, six, seven)), \n",
    "                  Output(ket0)), \n",
    "        ExprTuple(Input(ket0), MultiQubitGate(Z, Set(one, two, three, four, six, seven)), Output(ket0)), \n",
    "        ExprTuple(Input(ket1), MultiQubitGate(X, Set(one, two, three, four, six, seven)), \n",
    "                  Output(ket1)),\n",
    "        ExprTuple(Input(ket0), Gate(IdentityOp()), Output(ket0)), \n",
    "        ExprTuple(Input(ket1), MultiQubitGate(X, Set(one, two, three, four, six, seven)), \n",
    "                  Output(ket1)),\n",
    "        ExprTuple(Input(ket1), MultiQubitGate(Z, Set(one, two, three, four, six, seven)), \n",
    "                  Output(ket1))))"
   ]
  },
  {
   "cell_type": "code",
   "execution_count": null,
   "metadata": {},
   "outputs": [],
   "source": [
    "# multigate block test\n",
    "Circuit(ExprArray(ExprTuple(Input(ket0), MultiQubitGate(CONTROL, Set(one, two, three, four)), Output(ket0)), \n",
    "        ExprTuple(Input(ket0), MultiQubitGate(Z, Set(one, two, three, four)), \n",
    "                  Output(ket0)), \n",
    "        ExprTuple(Input(ket0), MultiQubitGate(Z, Set(one, two, three, four)), Output(ket0)), \n",
    "        ExprTuple(Input(ket1), MultiQubitGate(Z, Set(one, two, three, four)), \n",
    "                  Output(ket1))))"
   ]
  },
  {
   "cell_type": "code",
   "execution_count": null,
   "metadata": {},
   "outputs": [],
   "source": [
    "# Single Qubit Gates"
   ]
  },
  {
   "cell_type": "code",
   "execution_count": null,
   "metadata": {},
   "outputs": [],
   "source": [
    "Circuit(ExprArray(ExprTuple(Input(ket0), Gate(H), Output(ketPlus)), \n",
    "        ExprTuple(Input(ket1), Gate(H), Output(ketMinus))))\n",
    "# H gate (both inputs)"
   ]
  },
  {
   "cell_type": "code",
   "execution_count": null,
   "metadata": {},
   "outputs": [],
   "source": [
    "Circuit(ExprArray(ExprTuple(Input(ket0), Gate(X), Output(ket1)), \n",
    "        ExprTuple(Input(ket1), Gate(X), Output(ket0))))\n",
    "# X gate (both inputs)"
   ]
  },
  {
   "cell_type": "code",
   "execution_count": null,
   "metadata": {},
   "outputs": [],
   "source": [
    "Circuit(ExprArray(ExprTuple(Input(ket0), Gate(Z), Output(ket0)), \n",
    "        ExprTuple(Input(ket1), Gate(Z), Output(Neg(ket1)))))\n",
    "# Z gate (both inputs)"
   ]
  },
  {
   "cell_type": "code",
   "execution_count": null,
   "metadata": {},
   "outputs": [],
   "source": [
    "#Two Qubit Gates"
   ]
  },
  {
   "cell_type": "code",
   "execution_count": null,
   "metadata": {},
   "outputs": [],
   "source": [
    "Circuit(ExprArray(ExprTuple(Input(ket0), MultiQubitGate(CONTROL, Set(one, two)), Output(ket0)), \n",
    "        ExprTuple(Input(ket0), MultiQubitGate(Z, Set(one, two)), \n",
    "                  Output(ket0)), \n",
    "        ExprTuple(Input(ket0), MultiQubitGate(CONTROL, Set(three, four)), Output(ket0)), \n",
    "        ExprTuple(Input(ket1), MultiQubitGate(Z, Set(three, four)), \n",
    "                  Output(ket1))))\n",
    "#CZ gate - 0 qubit control for 1 and 0 qubit inputs"
   ]
  },
  {
   "cell_type": "code",
   "execution_count": null,
   "metadata": {},
   "outputs": [],
   "source": [
    "Circuit(ExprArray(ExprTuple(Input(ket1), MultiQubitGate(CONTROL, Set(one, two)), Output(ket1)), \n",
    "        ExprTuple(Input(ket0), MultiQubitGate(Z, Set(one, two)), \n",
    "                  Output(ket0)), \n",
    "        ExprTuple(Input(ket1), MultiQubitGate(CONTROL, Set(three, four)), Output(ket1)), \n",
    "        ExprTuple(Input(ket1), MultiQubitGate(Z, Set(three, four)), \n",
    "                  Output(Neg(ket1))))) \n",
    "#CZ gate - 1 qubit control for 1 and 0 qubit inputs"
   ]
  },
  {
   "cell_type": "code",
   "execution_count": null,
   "metadata": {},
   "outputs": [],
   "source": [
    "Circuit(ExprArray(ExprTuple(Input(ket0), MultiQubitGate(CONTROL, Set(one, two)), Output(ket0)), \n",
    "        ExprTuple(Input(ket0), MultiQubitGate(X, Set(one, two)), Output(ket0)), \n",
    "        ExprTuple(Input(ket0), MultiQubitGate(CONTROL, Set(three, four)), Output(ket0)), \n",
    "        ExprTuple(Input(ket1), MultiQubitGate(X, Set(three, four)), Output(ket1)))) \n",
    "#CX gate - 0 qubit control for 1 and 0 qubit inputs"
   ]
  },
  {
   "cell_type": "code",
   "execution_count": null,
   "metadata": {},
   "outputs": [],
   "source": [
    "Circuit(ExprArray(ExprTuple(Input(ket1), MultiQubitGate(CONTROL, Set(one, two)), Output(ket1)), \n",
    "        ExprTuple(Input(ket0), MultiQubitGate(X, Set(one, two)), Output(ket1)), \n",
    "        ExprTuple(Input(ket1), MultiQubitGate(CONTROL, Set(three, four)), Output(ket1)), \n",
    "        ExprTuple(Input(ket1), MultiQubitGate(X, Set(three, four)), Output(ket0)))) \n",
    "#CX gate - 1 qubit control for 1 and 0 qubit inputs"
   ]
  },
  {
   "cell_type": "code",
   "execution_count": null,
   "metadata": {},
   "outputs": [],
   "source": [
    "Circuit(ExprArray(ExprTuple(Input(zero), MultiQubitGate(CLASSICAL_CONTROL, Set(one, two)), SPACE), \n",
    "        ExprTuple(Input(ket0), MultiQubitGate(Z, Set(one, two)), \n",
    "                  Output(ket0)), \n",
    "        ExprTuple(Input(zero), MultiQubitGate(CLASSICAL_CONTROL, Set(three, four)), SPACE), \n",
    "        ExprTuple(Input(ket1), MultiQubitGate(Z, Set(three, four)), \n",
    "                  Output(ket1)))) \n",
    "#cZ gate - 0 classical bit control for 1 and 0 qubit inputs"
   ]
  },
  {
   "cell_type": "code",
   "execution_count": null,
   "metadata": {},
   "outputs": [],
   "source": [
    "Circuit(ExprArray(ExprTuple(Input(one), MultiQubitGate(CLASSICAL_CONTROL, Set(one, two)), SPACE), \n",
    "        ExprTuple(Input(ket0), MultiQubitGate(Z, Set(one, two)), \n",
    "                  Output(ket0)), \n",
    "        ExprTuple(Input(one), MultiQubitGate(CLASSICAL_CONTROL, Set(three, four)), SPACE), \n",
    "        ExprTuple(Input(ket1), MultiQubitGate(Z, Set(three, four)), \n",
    "                  Output(Neg(ket1)))))\n",
    "#cZ gate - 1 classical bit control for 1 and 0 qubit inputs"
   ]
  },
  {
   "cell_type": "code",
   "execution_count": null,
   "metadata": {},
   "outputs": [],
   "source": [
    "Circuit(ExprArray(ExprTuple(Input(zero), MultiQubitGate(CLASSICAL_CONTROL, Set(one, two)), SPACE), \n",
    "        ExprTuple(Input(ket0), MultiQubitGate(X, Set(one, two)), \n",
    "                  Output(ket0)), \n",
    "        ExprTuple(Input(zero), MultiQubitGate(CLASSICAL_CONTROL, Set(three, four)), SPACE), \n",
    "        ExprTuple(Input(ket1), MultiQubitGate(X, Set(three, four)), \n",
    "                  Output(ket1)))) \n",
    "#cX gate - 0 classical bit control for 1 and 0 qubit inputs"
   ]
  },
  {
   "cell_type": "code",
   "execution_count": null,
   "metadata": {},
   "outputs": [],
   "source": [
    "Circuit(ExprArray(ExprTuple(Input(one), MultiQubitGate(CLASSICAL_CONTROL, Set(one, two)), SPACE), \n",
    "        ExprTuple(Input(ket0), MultiQubitGate(X, Set(one, two)), \n",
    "                  Output(ket1)), \n",
    "        ExprTuple(Input(one), MultiQubitGate(CLASSICAL_CONTROL, Set(three, four)), SPACE), \n",
    "        ExprTuple(Input(ket1), MultiQubitGate(X, Set(three, four)), \n",
    "                  Output(ket0))))\n",
    "#cX gate - 1 classical bit control for 1 and 0 qubit inputs"
   ]
  },
  {
   "cell_type": "code",
   "execution_count": null,
   "metadata": {},
   "outputs": [],
   "source": [
    "#NULL GATES"
   ]
  },
  {
   "cell_type": "code",
   "execution_count": null,
   "metadata": {},
   "outputs": [],
   "source": [
    "Circuit(ExprArray(ExprTuple(Input(ket0), Gate(H), Gate(H), Output(ket0)), \n",
    "        ExprTuple(Input(ket1), Gate(H), Gate(H), Output(ket1))))"
   ]
  },
  {
   "cell_type": "code",
   "execution_count": null,
   "metadata": {},
   "outputs": [],
   "source": [
    "Circuit(ExprArray(ExprTuple(Input(ket0), Gate(X), Gate(X), Output(ket0)), \n",
    "        ExprTuple(Input(ket1), Gate(X), Gate(X), Output(ket1))))"
   ]
  },
  {
   "cell_type": "code",
   "execution_count": null,
   "metadata": {},
   "outputs": [],
   "source": [
    "Circuit(ExprArray(ExprTuple(Input(ket0), Gate(Z), Gate(Z), Output(ket0)), \n",
    "        ExprTuple(Input(ket1), Gate(Z), Gate(Z), Output(ket1))))"
   ]
  },
  {
   "cell_type": "code",
   "execution_count": null,
   "metadata": {},
   "outputs": [],
   "source": [
    "Circuit(ExprArray(ExprTuple(Input(ket0), MultiQubitGate(CONTROL, Set(one, two)), MultiQubitGate(CONTROL, Set(one, two)), \n",
    "                  Output(ket0)), \n",
    "        ExprTuple(Input(ket0), MultiQubitGate(Z, Set(one, two)), MultiQubitGate(Z, Set(one, two)), Output(ket0)), \n",
    "        ExprTuple(Input(ket0), MultiQubitGate(CONTROL, Set(three, four)), MultiQubitGate(CONTROL, Set(three, four)), \n",
    "                  Output(ket0)), \n",
    "        ExprTuple(Input(ket1), MultiQubitGate(Z, Set(three, four)), MultiQubitGate(Z, Set(three, four)), \n",
    "                  Output(ket1)),\n",
    "        ExprTuple(Input(ket1), MultiQubitGate(CONTROL, Set(five, six)), MultiQubitGate(CONTROL, Set(five, six)),\n",
    "                  Output(ket1)),\n",
    "        ExprTuple(Input(ket0), MultiQubitGate(Z, Set(five, six)), MultiQubitGate(Z, Set(five, six)),\n",
    "                  Output(ket0)),\n",
    "        ExprTuple(Input(ket1), MultiQubitGate(CONTROL, Set(seven, eight)), MultiQubitGate(CONTROL, Set(seven, eight)), \n",
    "                  Output(ket1)), \n",
    "        ExprTuple(Input(ket1), MultiQubitGate(Z, Set(seven, eight)), MultiQubitGate(Z, Set(seven, eight)), \n",
    "                  Output(ket1)))) \n",
    "# Double CZ gate"
   ]
  },
  {
   "cell_type": "code",
   "execution_count": null,
   "metadata": {},
   "outputs": [],
   "source": [
    "Circuit(ExprArray(ExprTuple(Input(ket0), MultiQubitGate(CONTROL, Set(one, two)), MultiQubitGate(CONTROL, Set(one, two)), \n",
    "                  Output(ket0)), \n",
    "        ExprTuple(Input(ket0), MultiQubitGate(X, Set(one, two)), MultiQubitGate(X, Set(one, two)), Output(ket0)), \n",
    "        ExprTuple(Input(ket0), MultiQubitGate(CONTROL, Set(three, four)), MultiQubitGate(CONTROL, Set(three, four)), \n",
    "                  Output(ket0)), \n",
    "        ExprTuple(Input(ket1), MultiQubitGate(X, Set(three, four)), MultiQubitGate(X, Set(three, four)), \n",
    "                  Output(ket1)),\n",
    "        ExprTuple(Input(ket1), MultiQubitGate(CONTROL, Set(five, six)), MultiQubitGate(CONTROL, Set(five, six)),\n",
    "                  Output(ket1)),\n",
    "        ExprTuple(Input(ket0), MultiQubitGate(X, Set(five, six)), MultiQubitGate(X, Set(five, six)),\n",
    "                  Output(ket0)),\n",
    "        ExprTuple(Input(ket1), MultiQubitGate(CONTROL, Set(seven, eight)), MultiQubitGate(CONTROL, Set(seven, eight)), \n",
    "                  Output(ket1)), \n",
    "        ExprTuple(Input(ket1), MultiQubitGate(X, Set(seven, eight)), MultiQubitGate(X, Set(seven, eight)), \n",
    "                  Output(ket1)))) \n",
    "# Double CX gate"
   ]
  },
  {
   "cell_type": "code",
   "execution_count": null,
   "metadata": {},
   "outputs": [],
   "source": [
    "Circuit(ExprArray(ExprTuple(Input(ket0), MultiQubitGate(CONTROL, Set(one, two)), Output(ket0)), \n",
    "        ExprTuple(Input(ket0), MultiQubitGate(U, Set(one, two)), \n",
    "                  Output(ket0)), \n",
    "        ExprTuple(Input(ket0), MultiQubitGate(CONTROL, Set(three, four)), Output(ket0)), \n",
    "        ExprTuple(Input(ket1), MultiQubitGate(U, Set(three, four)), \n",
    "                  Output(ket1)))) \n",
    "#CU gate - 0 classical bit control for 1 and 0 qubit inputs (Always null regardless of what U is)"
   ]
  },
  {
   "cell_type": "code",
   "execution_count": null,
   "metadata": {},
   "outputs": [],
   "source": [
    "# CONGRUENCIES"
   ]
  },
  {
   "cell_type": "code",
   "execution_count": null,
   "metadata": {},
   "outputs": [],
   "source": [
    "Circuit(ExprArray(\n",
    "    ExprTuple(Input(ket0), MultiQubitGate(Z, Set(one, two)), Output(ket0)), \n",
    "    ExprTuple(Input(ket0), MultiQubitGate(CONTROL, Set(one, two)), \n",
    "              Output(ket0)), \n",
    "    ExprTuple(Input(ket0), MultiQubitGate(Z, Set(three, four)), Output(ket0)), \n",
    "    ExprTuple(Input(ket1), MultiQubitGate(CONTROL, Set(three, four)), \n",
    "                Output(ket1)),\n",
    "    ExprTuple(Input(ket1), MultiQubitGate(Z, Set(five, six)), Output(ket1)), \n",
    "    ExprTuple(Input(ket0), MultiQubitGate(CONTROL, Set(five, six)), \n",
    "              Output(ket0)), \n",
    "    ExprTuple(Input(ket1), MultiQubitGate(Z, Set(seven, eight)), Output(Neg(ket1))), \n",
    "    ExprTuple(Input(ket1), MultiQubitGate(CONTROL, Set(seven, eight)), \n",
    "              Output(ket1))))\n",
    "\n",
    "#Congruent to a regular CZ gate"
   ]
  },
  {
   "cell_type": "code",
   "execution_count": null,
   "metadata": {},
   "outputs": [],
   "source": [
    "Circuit(ExprArray(\n",
    "        ExprTuple(Input(ket0), Gate(IdentityOp()), MultiQubitGate(CONTROL, Set(one, two)), Gate(IdentityOp()), Output(ket0)), \n",
    "        ExprTuple(Input(ket0), Gate(H), MultiQubitGate(Z, Set(one, two)), Gate(H), Output(ket0)),\n",
    "        ExprTuple(Input(ket0), Gate(IdentityOp()), MultiQubitGate(CONTROL, Set(three, four)), Gate(IdentityOp()), Output(ket0)), \n",
    "        ExprTuple(Input(ket1), Gate(H), MultiQubitGate(Z, Set(three, four)), Gate(H), Output(ket1)),\n",
    "        ExprTuple(Input(ket1), Gate(IdentityOp()), MultiQubitGate(CONTROL, Set(five, six)), Gate(IdentityOp()), Output(ket1)), \n",
    "        ExprTuple(Input(ket0), Gate(H), MultiQubitGate(Z, Set(five, six)), Gate(H), Output(ket1)),\n",
    "        ExprTuple(Input(ket1), Gate(IdentityOp()), MultiQubitGate(CONTROL, Set(seven, eight)), Gate(IdentityOp()), Output(ket1)), \n",
    "        ExprTuple(Input(ket1), Gate(H), MultiQubitGate(Z, Set(seven, eight)), Gate(H), Output(ket0))))\n",
    "# Congruent to a CX gate"
   ]
  },
  {
   "cell_type": "code",
   "execution_count": null,
   "metadata": {},
   "outputs": [],
   "source": [
    "Circuit(ExprArray(ExprTuple(Input(ket0), Gate(H), MultiQubitGate(CONTROL, Set(one, two)), Gate(H), Output(ket0)), \n",
    "        ExprTuple(Input(ket0), Gate(H), MultiQubitGate(Z, Set(one, two)), Gate(H), Output(ket0)),\n",
    "        ExprTuple(Input(ket0), Gate(H), MultiQubitGate(CONTROL, Set(three, four)), Gate(H), Output(ket0)), \n",
    "        ExprTuple(Input(ket1), Gate(H), MultiQubitGate(Z, Set(three, four)), Gate(H), Output(ket1)),\n",
    "        ExprTuple(Input(ket1), Gate(H), MultiQubitGate(CONTROL, Set(five, six)), Gate(H), Output(ket1)), \n",
    "        ExprTuple(Input(ket0), Gate(H), MultiQubitGate(Z, Set(five, six)), Gate(H), Output(ket1)),\n",
    "        ExprTuple(Input(ket1), Gate(H), MultiQubitGate(CONTROL, Set(seven, eight)), Gate(H), Output(ket1)), \n",
    "        ExprTuple(Input(ket1), Gate(H), MultiQubitGate(Z, Set(seven, eight)), Gate(H), Output(ket0))))\n",
    "# Intermediate step to show the congruence of a switched CX gate"
   ]
  },
  {
   "cell_type": "code",
   "execution_count": null,
   "metadata": {},
   "outputs": [],
   "source": [
    "Circuit(ExprArray(ExprTuple(Input(ket0), Gate(H), MultiQubitGate(Z, Set(one, two)), Gate(H), Output(ket0)), \n",
    "        ExprTuple(Input(ket0), Gate(H), MultiQubitGate(CONTROL, Set(one, two)), Gate(H), Output(ket0)),\n",
    "        ExprTuple(Input(ket0), Gate(H), MultiQubitGate(Z, Set(three, four)), Gate(H), Output(ket1)), \n",
    "        ExprTuple(Input(ket1), Gate(H), MultiQubitGate(CONTROL, Set(three, four)), Gate(H), Output(ket1)),\n",
    "        ExprTuple(Input(ket1), Gate(H), MultiQubitGate(Z, Set(five, six)), Gate(H), Output(ket1)), \n",
    "        ExprTuple(Input(ket0), Gate(H), MultiQubitGate(CONTROL, Set(five, six)), Gate(H), Output(ket0)),\n",
    "        ExprTuple(Input(ket1), Gate(H), MultiQubitGate(Z, Set(seven, eight)), Gate(H), Output(ket0)), \n",
    "        ExprTuple(Input(ket1), Gate(H), MultiQubitGate(CONTROL, Set(seven, eight)), Gate(H), Output(ket1))))\n",
    "# using cell 24 we can show that this is equivalent to cell 26"
   ]
  },
  {
   "cell_type": "code",
   "execution_count": null,
   "metadata": {},
   "outputs": [],
   "source": [
    "Circuit(ExprArray(ExprTuple(Input(ket0), Gate(H), MultiQubitGate(CONTROL, Set(one, two)), Gate(H), Output(ket0)), \n",
    "        ExprTuple(Input(ket0), Gate(IdentityOp()), MultiQubitGate(X, Set(one, two)), Gate(IdentityOp()), Output(ket0)),\n",
    "        ExprTuple(Input(ket0), Gate(H), MultiQubitGate(CONTROL, Set(three, four)), Gate(H), Output(ket0)), \n",
    "        ExprTuple(Input(ket1), Gate(IdentityOp()), MultiQubitGate(X, Set(three, four)), Gate(IdentityOp()), Output(ket1)),\n",
    "        ExprTuple(Input(ket1), Gate(H), MultiQubitGate(CONTROL, Set(five, six)), Gate(H), Output(ket1)), \n",
    "        ExprTuple(Input(ket0), Gate(IdentityOp()), MultiQubitGate(X, Set(five, six)), Gate(IdentityOp()), Output(ket1)),\n",
    "        ExprTuple(Input(ket1), Gate(H), MultiQubitGate(CONTROL, Set(seven, eight)), Gate(H), Output(ket1)), \n",
    "        ExprTuple(Input(ket1), Gate(IdentityOp()), MultiQubitGate(X, Set(seven, eight)), Gate(IdentityOp()), Output(ket0))))\n",
    "# using cell 26, we apply instantiation to return to the X gates"
   ]
  },
  {
   "cell_type": "code",
   "execution_count": null,
   "metadata": {},
   "outputs": [],
   "source": [
    "Circuit(ExprArray(ExprTuple(Input(ket0), Gate(IdentityOp()), MultiQubitGate(X, Set(one, two)), Gate(IdentityOp()), Output(ket0)), \n",
    "        ExprTuple(Input(ket0), Gate(H), MultiQubitGate(CONTROL, Set(one, two)), Gate(H), Output(ket0)),\n",
    "        ExprTuple(Input(ket0), Gate(IdentityOp()), MultiQubitGate(X, Set(three, four)), Gate(IdentityOp()), Output(ket1)), \n",
    "        ExprTuple(Input(ket1), Gate(H), MultiQubitGate(CONTROL, Set(three, four)), Gate(H), Output(ket1)),\n",
    "        ExprTuple(Input(ket1), Gate(IdentityOp()), MultiQubitGate(X, Set(five, six)), Gate(IdentityOp()), Output(ket1)), \n",
    "        ExprTuple(Input(ket0), Gate(H), MultiQubitGate(CONTROL, Set(five, six)), Gate(H), Output(ket0)),\n",
    "        ExprTuple(Input(ket1), Gate(IdentityOp()), MultiQubitGate(X, Set(seven, eight)), Gate(IdentityOp()), Output(ket0)), \n",
    "        ExprTuple(Input(ket1), Gate(H), MultiQubitGate(CONTROL, Set(seven, eight)), Gate(H), Output(ket1))))\n",
    "# using cell 27 we can show that cell 28 is congruent to this cell "
   ]
  },
  {
   "cell_type": "code",
   "execution_count": null,
   "metadata": {},
   "outputs": [],
   "source": [
    "try:\n",
    "    Circuit(ExprArray(ExprRange(i, ExprTuple(ExprRange(j, Aij, one, m)), one, q),\n",
    "         ExprTuple(ExprRange(j, Bij, one, m)),\n",
    "         ExprRange(i, ExprTuple(ExprRange(j, Cij, one, m)), one, s))).latex()\n",
    "    assert False, \"Expected a TypeError error.\"\n",
    "except TypeError as e:\n",
    "    print(\"Expected error:\", e)"
   ]
  },
  {
   "cell_type": "code",
   "execution_count": null,
   "metadata": {},
   "outputs": [],
   "source": [
    "%end demonstrations"
   ]
  },
  {
   "cell_type": "code",
   "execution_count": null,
   "metadata": {},
   "outputs": [],
   "source": []
  }
 ],
 "metadata": {
  "kernelspec": {
   "display_name": "Python 3",
   "language": "python",
   "name": "python3"
  },
  "language_info": {
   "codemirror_mode": {
    "name": "ipython",
    "version": 3
   },
   "file_extension": ".py",
   "mimetype": "text/x-python",
   "name": "python",
   "nbconvert_exporter": "python",
   "pygments_lexer": "ipython3",
   "version": "3.7.3"
  }
 },
 "nbformat": 4,
 "nbformat_minor": 1
}
