{
 "cells": [
  {
   "cell_type": "markdown",
   "metadata": {},
   "source": [
    "Proof of <a class=\"ProveItLink\" href=\"../../../../../../_theory_nbs_/theory.ipynb\">proveit</a>.<a class=\"ProveItLink\" href=\"../../../../../_theory_nbs_/theory.ipynb\">physics</a>.<a class=\"ProveItLink\" href=\"../../../../_theory_nbs_/theory.ipynb\">quantum</a>.<a class=\"ProveItLink\" href=\"../../theory.ipynb\">QFT</a>.<a class=\"ProveItLink\" href=\"../../theorems.ipynb#inv_f_ton_matrix_elem\">inv_f_ton_matrix_elem</a> theorem\n",
    "========"
   ]
  },
  {
   "cell_type": "code",
   "execution_count": 1,
   "metadata": {},
   "outputs": [],
   "source": [
    "import proveit\n",
    "theory = proveit.Theory() # the theorem's theory"
   ]
  },
  {
   "cell_type": "code",
   "execution_count": 2,
   "metadata": {},
   "outputs": [
    {
     "data": {
      "text/html": [
       "Under these <a href=\"presumptions.txt\">presumptions</a>, we begin our proof of<br><strong id=\"inv_f_ton_matrix_elem\">inv_f_ton_matrix_elem:</strong> <a class=\"ProveItLink\" href=\"../../../__pv_it/theorems/898669b588758c3c0ee5aca77b6627fcb0aba8f10/expr.ipynb\"><img src=\"data:image/png;base64,iVBORw0KGgoAAAANSUhEUgAAAmwAAAA/BAMAAACvPolmAAAAMFBMVEX///8QEBCIiIhmZma6urrM\n",
       "zMxUVFQiIiJERETc3Nzu7u6qqqp2dnaYmJgyMjIAAAAcRTyBAAAAAXRSTlMAQObYZgAACrpJREFU\n",
       "eNrFnH1sG2cZwB9/XOw7f0UTFWq9Ki4VkIaWeMpoq63bUk0CBELx+gebpmpxV1rEqJi7lY6xlnqt\n",
       "NtJNMK9/kLYSq9uhUjLWGKaIQbbGU4LE1nUzZEiIZjSiUNEJrWmXrOsX5v08v699/rrzXV4p99h3\n",
       "9z5397vnfZ7nfe4cgAZaX7E4Da1qoRjY1mzRfXeZ9BeL1xrq2Dc62tuys/idfdTs0e2PydI7Otog\n",
       "thaehLrAPmr26NY+JUvUoo5j89k4Rm3SvTYjy/nA9o6NY9Qm3Z5pWc4DNnXWxjFqk27tmiznAZs/\n",
       "bR8223S/USadxzaWsQ+bbbqHY7J0Htt/bHRttukOXpWl49iUG/ZRs0+3ekOWjmNrm7EPm5Hu32Rb\n",
       "ovrDMuk0tuGkfdgqdWtbHm4Ntu6MLJ3GdqbXPmxGus+0BttwXpZOY3tOn3QXTOs4Wk93k9i8CeXt\n",
       "vaWvD+DFncSV7YQuui7cLkunsX3CP3zRvA7vdB3dTWLbB364VxjZePEK+fgUeFgInZOlw9i81/mH\n",
       "RRa0fK627maxJSEMw2XrbifLdgjkqO5LIEmHsQX59OdwwoKWcKGm7iaxaXGgFSfv1q3bkdiPVz7+\n",
       "DbRWTWOmZB9myVw6jC3M88XNltKoRTV1N4nNi1J/7Tz6EAi6gWNbfBDdmhAKAGy+thUk6TC2SIpl\n",
       "plca2PlbVbdsrqW7CWwv9vT05EJoHB7NwiD6ijzZIMI2CN5/xtHSg0Iz86MPZyTpMLZD7OaFk5aw\n",
       "9Wdr6DZhbdptv8aR4LQPB4T96M8d+yCngS+gW1t3QZIOYxuLs0tsZNL9VvWxHquhu2nflgRf8TL+\n",
       "9FBbgg1ST2YKWVpwGfdtcCYvSYexdbPrvVNYFyKjtvLyfrqHntz97HtO6NJeQ7e8sqFIWr2xSAp9\n",
       "SUk6jO0udhY3Ceu+ScKgQYbfRS95gn29VYgJszV0i21lx9n6afW+Gts83ANMSzJKfd77dbGFLab2\n",
       "zKNSOuqcsO5WcO9KYGzKt4sbV164Ch3nNlzefCEFm4BjO/Zpjpe1m6vrNpFM1ujYxeNNuySjcBKL\n",
       "D+piC+J7GbY6w7tAfVpIrFWgAHiGWpuCsiJlASwE9w1Q2uFZHRucRX8+oc/3qutuJq4XG2j0VF3s\n",
       "jJmMEg+oputiI7vstzpIOyh3j5ArBJCTXU2xqR+jxWmUfiJsyOMI2HAR3y2Yend13ebb+j9lQre/\n",
       "nzfc5roqySixoGCuvm/DBnnSKrYiFT7hNvkz2NWVsB1RCwRbF3xXx+bFJ6sJU1Gj8nfR6smllVSg\n",
       "E1KG23xXJBmF0FtDQ4MNhISpoaFfpVqELSLkCi8QV8exqdmgmiDY7ud5G8IWJAcWqhT9OYvYtA07\n",
       "KtZNazOwSUk3hg0+GRjY0QC2yMDAj/OtwibkCqeIq+PYQsSM3KT4/CUdWzgemMzAa0L9q2AR2+Gd\n",
       "SyrzjkAKUu73jDPFOUkibJuk+6i3fBk2lAr6My3CJl41MqS2tI7NL2B7U8c2nFvWVxBjAuP+zoe4\n",
       "nTWBbUNWrZzCHs9oycApw/39c5KM4hdpNKMCVrwMmzcOx9EF0YzrKA+FCjrK8uWlKsTq2yQlyOSV\n",
       "LwhD4yLLfkrYkFpwxRi2iys7BGxdOraxI9mXgUwRObZKu+e6649PvLgE8JOKDQ9V7+SflWQUB3Yx\n",
       "RoHy6ARgAy7HhsxiBVpuoxfLvdzzWQjlA7q9vymnBkoPtqV8xaUJrsmD5jP9Gd3a2gRsGR3bLeRk\n",
       "lNKwisSrYaudVBBTR0aioM8V5bkXh/JNYAsWStb/0vgd8Gow68kaYDuFx5NGTTsYp/vCCYS9F3R7\n",
       "fxwhmHx9qmRLqEugZMtasQIbvmVLwNC3gY5te2eMpSo1sDU6SH1J/GzwwIGD5Rt2FVNNYFOn9fw7\n",
       "9OzBLLweiwdhvOfRnpyM7QV8t5mZ+Qt0X4xtOFGaom2DQ72/TfuqYeP+hwzSyb9+Jk7Tiqc1IQEx\n",
       "wKbNktkU8nu0j/4ohPq2cyZ826VmC4UVIQH2okgfumPdUva+4MjIvqCBbwP/z3BRIL4OD5VIhr1b\n",
       "eIIMsZ1CRpVtS9xXDxt5KeC9xWg+QMLRjWBtbKEZ7VqQJNusj+gczUXSW7KgWsT2Crq20NqCK0Pn\n",
       "pyPBl9cbYQuswt1Ofw2PyHt4/e4EKX49Utr1EeQrV/TWwYY9unokRQY3Sitmj7DJlYSNW9YEjrRz\n",
       "QZxs8z4N5W2eKr6NtF/ePHVTM9h8c5KMsmh+8PMQyZKqOoxAftwIGzHsCJ1fd9IKPMAWYm2lM0BO\n",
       "7yi8VhCxaQsrJkAubLFtMW87nWpO5gk2dVVxD3Ftdz95cU9Ct6wJ8OdgaRdNVWgf6OutP7mqPRNc\n",
       "9b+myhKV6S6E8PEehLWg/GBgYDfC9nOfIba/YzPrJPd5N9v3vjjxbaU6ziSTXx1ALUtd4b0lV76L\n",
       "XpofG6Ar4ckneFpRWTjSLWtCTFVoH8Pq465so8VhE61iKs/aAlij0ILdCHjXIZEwrLd1Ku3YIBYk\n",
       "WHFvixxJvXmv9Eiq3Nqeo1uD2GQOge/rCV5GMKi3ccvi2HDplfUpvWgGFbp17NOtxBaZkSTHps7A\n",
       "thH4I/6IZhdTVcuUu5VUTH0GZmJ0X+zb3PFAEq3an0WLB0ZfzZZNVyTfxkqJAcz5y+A+pRetDLBx\n",
       "y+LYjgt9ztUvU2IrVsWBGLAyxxlOSZJj8yZheQE7EfD+qBfaqmI7Dw8mlCis6SX7EmywfByUhXBP\n",
       "Bi06ipJjVld9HJOwsScYmhgp/1IFG7esCXE/qOxfphsEysdQDrv6Kb7mOxaw9aclWVYU70T+qn5R\n",
       "PFDa90T9I4rYxpibe7rs+sBd+biZW9Zn2fdnBJVGzwvH5Bz/JLnJWhLe7aXZFT2Qycaf7zBp6lnC\n",
       "70sfm8TWz+ZHf7bmaTxGfqtfKmngNDoUBzTfcbXT7AqCMfNHbMUDP2E0HK7vMIQ5KUTY9Q7nrMU1\n",
       "o+4RiWUQnaQvA64UtF0h2RUi2W7+iHclJGn1yZW6ol5fRSwJ+1hAclsLc0sMUyvpZUqcQw2SNxza\n",
       "5kh2hdq/zB/xgiwdfuDnmdPzHSttcU3dpOHbuZQCvEqzK4Bx80e8LEuHsQV4CPyHFS3GthqQwitO\n",
       "FGhFrS9PsysrB1U+kqXD2DQ+6/RbcM/wfKambpw5urH+J8jX7Sy7svL7P/c1WTr9NuVj/Bq/b4H9\n",
       "EzV1D+aZawPyizxPaZbYb/qQ/CV0Lp3G9i43lEHzObu/UEu39284YE7p2JZCC7C50rJ0GtshPjhV\n",
       "869T/qK2bi/2cT8ENkgDcTjAd/iK6UP2FWTpNLZwCmxrXPdjvH6OQ8J6gGVgOQ7xnzdw6TS20Jx9\n",
       "2Lju7l72sgpKONQdb6/U79Qa06o/KpOO/1Ttun3YuO7hJHs/Hg3KcLFYerDyb6s3RL/pjmN7I2sf\n",
       "NqbbcwXO00RXDjuaaQcRnpal89hcefuwMd3qdS+d1Yfkx4Lmp/J9CVk6jy101UbnxnQ/yd+6kF/S\n",
       "MF84Olsm5+FfDPzXRufGdPfxF/CPSVv3mp4SLpLlfGDrt/FX30w3fzonF8VDpg/sKshyPrCFbMzc\n",
       "mG53urVqN5fJ+cAGG20cpRttvBniDW8QWyv/NVQ4Zx82W3TzgguXDf9rqJda+a+htIR92GzRfaBM\n",
       "ekdH//B/PJSIU6pS76kAAAAASUVORK5CYII=\n",
       "\" style=\"display:inline;vertical-align:middle;\" /></a><br>(see <a class=\"ProveItLink\" href=\"../../../__pv_it/theorems/283a4a56337a31fe669bb3f833c1d5cc37b0185d0/dependencies.ipynb\">dependencies</a>)<br>"
      ],
      "text/plain": [
       "inv_f_ton_matrix_elem: forall_{n in NaturalPos} [forall_{k, l in {0...2^{n} - 1}} (({n}_〈l| . FT^{dag}_{n} . |k〉_{n}) = ((1 / sqrt((2^{n}))) * e^{(-(2 * pi * i * k * l)) / 2^{n}}))]"
      ]
     },
     "execution_count": 2,
     "metadata": {},
     "output_type": "execute_result"
    }
   ],
   "source": [
    "%proving inv_f_ton_matrix_elem"
   ]
  },
  {
   "cell_type": "code",
   "execution_count": null,
   "metadata": {},
   "outputs": [],
   "source": []
  }
 ],
 "metadata": {
  "kernelspec": {
   "display_name": "Python 3",
   "language": "python",
   "name": "python3"
  }
 },
 "nbformat": 4,
 "nbformat_minor": 0
}