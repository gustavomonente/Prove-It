{
 "cells": [
  {
   "cell_type": "markdown",
   "metadata": {},
   "source": [
    "Proof of <a class=\"ProveItLink\" href=\"../../../../../../_theory_nbs_/theory.ipynb\">proveit</a>.<a class=\"ProveItLink\" href=\"../../../../../_theory_nbs_/theory.ipynb\">physics</a>.<a class=\"ProveItLink\" href=\"../../../../_theory_nbs_/theory.ipynb\">quantum</a>.<a class=\"ProveItLink\" href=\"../../theory.ipynb\">QFT</a>.<a class=\"ProveItLink\" href=\"../../theorems.ipynb#inv_f_ton_matrix_elem\">inv_f_ton_matrix_elem</a> theorem\n",
    "========"
   ]
  },
  {
   "cell_type": "code",
   "execution_count": 1,
   "metadata": {},
   "outputs": [],
   "source": [
    "import proveit\n",
    "theory = proveit.Theory() # the theorem's theory"
   ]
  },
  {
   "cell_type": "code",
   "execution_count": 2,
   "metadata": {},
   "outputs": [
    {
     "data": {
      "text/html": [
       "Under these <a href=\"presumptions.txt\">presumptions</a>, we begin our proof of<br><strong id=\"inv_f_ton_matrix_elem\">inv_f_ton_matrix_elem:</strong> <a class=\"ProveItLink\" href=\"../../../__pv_it/theorems/7b91ddfa52210bf8bdce2663ca7441db591d50450/expr.ipynb\"><img src=\"data:image/png;base64,iVBORw0KGgoAAAANSUhEUgAAAoUAAAA/BAMAAABkya/dAAAAMFBMVEX///8QEBCIiIhmZma6urrM\n",
       "zMxUVFQiIiJERETc3Nzu7u6qqqp2dnaYmJgyMjIAAAAcRTyBAAAAAXRSTlMAQObYZgAAC3NJREFU\n",
       "eNrFnH2MG0cVwJ/XXn+svfbRqqQJVHETlUaIEsOlQPqVC6WtRErjBNEgFOlMINCiqjG0Kq1U9dz0\n",
       "HydRiRta8iGF21DRSCnNGdpQqks4JxcEgqQxTVCJ2ioHlaBQ0lybuyR3ycXMzM7s7thz5/Xeem6k\n",
       "27e3Hs/O/vbNm/fe7BqgeQnVapfBt/IGyCl6ug2NhjK8hM21WtnVFy/2v+JbL+J5SQxfbUur6+vk\n",
       "sv4BdwyHfezEM1k5CGNXtaXZXV28BAjIZ/gjSWoYSbel2dBsXs4Ew8SQJIavt6nd2+rkDDDs7ZI0\n",
       "lEfa1HBfmZczwLAoSQ2jhTY1nOjgpXyG8TFJDAdKbWpY+4iX8hkmC5IYvte2lo8ZvJTOsLsqB6E6\n",
       "0bame6u8lM5wnSQ1DAu6/GvDn6E0xEvZDLVzkhj25RpO/cA6fxgqY7yUzVAfkcTwlMCFOuUPQ+0S\n",
       "L2UzjFotveOTYufExzeDR4Z3wOo/2VO6isdrkAzarVWFfv8fwEnZDFNsWlb8ClfuER++4JFhLA0F\n",
       "1ZEVwV+JkxxNNAs0V3Msy0nZDJdX6M5Sw6cWFaEihi55ZBgGGNLqLjdIIAUA+ulFpDkpm+ExaqY0\n",
       "/5Iqp4XBxIhHhs8Dzc7dNWsWujsxPG4izx5H220EMJmvCpyUzfAMvYxwzjeGz4jIJMc9Mvwy+tuL\n",
       "7WG5grWMMAycfAlt30bD2awT6eCkbIbnmavtIhILu8tOCG9HKt8yQ62zs/NmeAvt/ABiedAyGSRi\n",
       "BbR7z3x8YBG6M/SMY5yUzDDGTP2/wDeGqkjlegve9fD5PRU0lehldBsMpIcGzEu+iLb5MtNDZYKT\n",
       "khnGz1KWbjIPCZfTzj9FGYeMR4YvAPTUsBKHjbVsLC/WD6PtoRKzh/olTkpmqNBcR9Dp2ZCw81uN\n",
       "ruR7n2vsnEoxxB3H/io40cK06KC7eXnyQufl0DlOSmYYvEjdUsclqsSeHRYA34O3O+l/r5m6Scd3\n",
       "0DHORVndJYLr+sLcd5snPGLpKT6kyh27zEnEcKh51IAZuqjm4i5Tl6PXsS6FcFw/Shje23Ou88Ga\n",
       "Ebj8vbmPPHgewriSxgxbuEQZak/mGXh6QyqC1EaX1y5+ZYpRxPT4Q04ihn/B8r9NGbqo5iLlQe3g\n",
       "KcexCDIsw6YediNgK7KBEiyswgqIYl1KsglcG2J6mMTq4Jh3w4KQ50zrGdiam2JWnQtOiRhuY6Zz\n",
       "aoYuqjUvATqHftFxbD9SxYLJsBdpl15Gbi5iGDYZHrfqHWIMU/j4DQ71EFiaudMNg9QjG+D4gbfF\n",
       "H7LWTYkYJtFOotyUoYtqLsJlermPOo5tIObRYqildxKGihHGZ3vMqreLMVyOe77XMdkLJvnatJMj\n",
       "sAp+U4iIP+wpOSViqP95z56tzecUF9XcMzzrMOJDxDwyhjug8hxhqBrYP4zZYzbZRRn+kVyjI7dy\n",
       "cboMX5jVYFKT0IcM8jddMoQLxeLjLubl5tXcM/zI4QVWiXlkDE+aXgieQINoTlGQ7bv7/i3z0WyZ\n",
       "yFCG78KBxRC3r1qbmCZDbdYbH288+iqy1DeIp6YzWafEDNeS8dRQKnUMJ6nmhaHzqvFwuc9muMFm\n",
       "mEB3OYp2KsW0hoarPkTn5YvKsxPcpGLekcQHpGRaZxieA70N9lP7D/K394udoc1Zp8QMb6dzntgZ\n",
       "shia1a4l/pNmLYusRpbrkI178Cm+M2gwrHQY0T4zSo85GN6O/q5gDK/89pjNELsSkTKo5ScgNkqz\n",
       "KYhhfPzTGvp4kd1EY55L+9AtP9zdVJrcq7rxPcWstLnLKTHDCCjOFtSHDsO1uUaGZrWI+fW7mDWb\n",
       "gxMav7UGZol3NL6OJ+AHGhg6LdiN6N8xWw/vtxnGcP+Q3mkj2PkBddhkGLySVLnXbuLspAyn9FNw\n",
       "exp2k7vRP/UGUbvpV60wTFTt6efFwVvhdwkjaDQyNKv1mbdnEJ1lf2cV4gjZw5Bi9yxSUsf0m9+x\n",
       "O4RZ/97BcLiBIXJSlA6hPQSTIcSHiQvIGEbWrKcu0RQMXY/lRzDDk9u312tdpHa+FYaxIeue6pt2\n",
       "GHAgnUnAYOdDnWWOoVmNKuDTAH9/DcViiKE2akeMka7YSHyBw1bVMaT2kIxl/daV800nJZozbN+G\n",
       "Z4jGMg6uU1UDQnQs93WR4G4Da4CtDVF7mGvdHqbSrWZBG+YU2PBddkXYOMG+fVsSAntIqsGg+im8\n",
       "P0YfBEUM0UiM2LYgPg5r1UIThuQxC31pNVAiTkqqWpmMIbZTKJYbMCrWnHIK+soV7O7TBjjr6mle\n",
       "DiKDVJomw5fz7IqIMduXeGm1iCGuBqdfwaNZ7aD5SMxw3PmoH9rNKyeaMCSzwI7riQ1ATkrqq9TH\n",
       "7m5giB0apHav61kIVkyG90EqW8HuPm3AnX+4RGwPzVv6w6MHW1LFnqxTEoZYl0mHNMJtH1QGRQyJ\n",
       "yp8jX1MKZOEBuQUVrIeONMwgaLn4UY7hrlJDrEfcsTWwFEjkq99i2sOf9lxYTE73pblX30jPnCdt\n",
       "/Owt5PVmTYabQPm8QVwi2kBopHmsN3WUGuw53dJYbvSxQTdoh9RHi8X1iOHOiIghrqZesYkMsTSs\n",
       "KhaLafUpwPYwZbmiOnvkG31a3GgyVG3XPEIZ/gRvroJbVGBOyuFJumvHeruduS9idWgDuiCR3WN4\n",
       "yom7LA05B1pIh3KmHoZWIpEV5Q+VwgricnyDJiuRHjrnZbgb7uDOVqeH0VFTHsSqMQwP7wMzmTE5\n",
       "Q0HOgZS1dgPWg4ACL5iVn/uJ0LIUNZ6h2aE/4N0TZA1LnIONplcpsM1IKZDIUnsI85F/uM2IbUQb\n",
       "9f3+jXUBE2cPWQ52AEEP5eAz2OwljakYRhtzX+w/q4Fc8xzsIkc215HS9Va085y0GJodwumm0BNd\n",
       "9Rlxm2GyFL4OVpSD6JI3MYbKkQysKKmz0SbgsNRALNwajiFbzelzOPXmaySTMbRysNGSk6Hz3ZM+\n",
       "QUC2kD+GkaOWtM5ilkvpesyLXeBk/VrAguJ6F2sB5EsKsoeEYbPiYBinYVk0x18fwHWTfZtpj+l8\n",
       "K5RB1GHvRE+8DvBxB07aJUsoAE6MwPG/zcuAOLx1WdjKGpWe1lPidqdbZKjS1Ry9w0frdJvgWDc/\n",
       "vvealvUmgI/BiWtgNjOv3oofa6O6Q4lmN/+2I14GupqjXfSR4SdEoQd/b4+aM/wsgHXbf5GHcZbS\n",
       "9VaCo5yc9rrelqZLZaudp+ih8rP+IVREOh3he5w3s7lnDFiXDadDHSyl660khzkp+1mRJdSeBfx7\n",
       "4SxQnUJVKOaqmc0ljmMgG6xkaUrXYxY0z0nZDAfoBetDvjEUqnSci6EjNPImz9T1QmRZdlo96M5w\n",
       "UjZD6zHp9X61GBNaZOu5bw1v5tEMENrm4E5QsHmcxuurC8uclM0wwnq+26/BvFt8BT+mhB+n5pBk\n",
       "IgE6bRfB+zWt46Vshgm2jhl7zKcWnxYfPmb6X197EhuOCmOoZPxgeDUvZTOMWSt6z/nToDbJ9NpL\n",
       "A5nleP3CYGP5ZYgx3zbkeSyHJngp/R2ff4OckszbxoMsG+A5Ra2Awhh6n1PC47yUzvCUpLfoderc\n",
       "KCP0KSHsy2w9Mvh9y/upeHZtMryUzjBVkaSIl6wJ2nw1Ao/dMzV7pSmZna4aMCmdYWKOJIYHaVZi\n",
       "SYk+OlY3ie323PIHdVL+O+CflMSQPZXYW7nT3DnOf+455xAa5eUMMPTppbnmBpFa/GgHfcIlyqXI\n",
       "vOe+khlezgDDpCyD+D/a93M0NLKyuQKirRT2Bq/1Jq98hqqsHyNgr8CwhUx+LeCk53avqZMz8fs2\n",
       "b0piqFMPcYG/zbJXiuxXi2aAYTgjCeJ32tLqmw2q4JKhr7+Z9r6sUKXchkZZmshKF7n9zTSt38ff\n",
       "TINfSmKotSMkYvG2FXcv6+83/g9UCPd1aqFv6AAAAABJRU5ErkJggg==\n",
       "\" style=\"display:inline;vertical-align:middle;\" /></a><br>(see <a class=\"ProveItLink\" href=\"../../../__pv_it/theorems/fcef78798dcf31f28cb6e15f86fb98b7725457ee0/dependencies.ipynb\">dependencies</a>)<br>"
      ],
      "text/plain": [
       "inv_f_ton_matrix_elem: forall_{n in NaturalPos} [forall_{k, l in {0...2^{n} - 1}} (({n}_〈l| . FT^{dag}(n) . |k〉_{n}) = ((1 / sqrt((2^{n}))) * e^{(-(2 * pi * i * k * l)) / 2^{n}}))]"
      ]
     },
     "execution_count": 2,
     "metadata": {},
     "output_type": "execute_result"
    }
   ],
   "source": [
    "%proving inv_f_ton_matrix_elem"
   ]
  },
  {
   "cell_type": "code",
   "execution_count": null,
   "metadata": {},
   "outputs": [],
   "source": []
  }
 ],
 "metadata": {
  "kernelspec": {
   "display_name": "Python 3",
   "language": "python",
   "name": "python3"
  }
 },
 "nbformat": 4,
 "nbformat_minor": 0
}