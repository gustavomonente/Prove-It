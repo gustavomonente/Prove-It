{
 "cells": [
  {
   "cell_type": "markdown",
   "metadata": {},
   "source": [
    "Proof of <a class=\"ProveItLink\" href=\"../../../../../../_theory_nbs_/theory.ipynb\">proveit</a>.<a class=\"ProveItLink\" href=\"../../../../../_theory_nbs_/theory.ipynb\">physics</a>.<a class=\"ProveItLink\" href=\"../../../../_theory_nbs_/theory.ipynb\">quantum</a>.<a class=\"ProveItLink\" href=\"../../theory.ipynb\">QFT</a>.<a class=\"ProveItLink\" href=\"../../theorems.ipynb#inv_f_tin_s_u\">inv_f_tin_s_u</a> theorem\n",
    "========"
   ]
  },
  {
   "cell_type": "code",
   "execution_count": 1,
   "metadata": {},
   "outputs": [],
   "source": [
    "import proveit\n",
    "theory = proveit.Theory() # the theorem's theory"
   ]
  },
  {
   "cell_type": "code",
   "execution_count": 2,
   "metadata": {},
   "outputs": [
    {
     "data": {
      "text/html": [
       "Under these <a href=\"presumptions.txt\">presumptions</a>, we begin our proof of<br><strong id=\"inv_f_tin_s_u\">inv_f_tin_s_u:</strong> <a class=\"ProveItLink\" href=\"../../../__pv_it/theorems/d6d4064f020997c56738df90b385b0c6ec6fda160/expr.ipynb\"><img src=\"data:image/png;base64,iVBORw0KGgoAAAANSUhEUgAAAOwAAAAmBAMAAAA1jmr1AAAAMFBMVEX///8QEBCIiIhmZma6urrM\n",
       "zMxUVFQiIiJERETc3Nzu7u6qqqp2dnaYmJgyMjIAAAAcRTyBAAAAAXRSTlMAQObYZgAABFFJREFU\n",
       "WMOtmF1oFFcUx/87O7O7MzuziQ9pUalJ9UEJJS6GKohKgtAHC+3gQx9KwbVW09IHUyJoQDRNQFdC\n",
       "y1YoiiAZfWjE0jYQFtqH0tGotNbilqSF0q/FUh8KNRtb40cq23vv3PnKrNtbnAuZvXvmzPzuPefc\n",
       "c84GEBo/I7ahFYRVpWp8WLwgrNlrxYiVRLertSHO8aegXqoQK/Y9QdvtKEVErz0GVnQXNxErVnkg\n",
       "pKbej8quPo6VbwhpJaPH592R5f8TNf3dyrw7/1boiURHVNYZCYuu3xcJftnHPk4732aewlLgMzYf\n",
       "60H1v5PQmEn80VfftX72Adpv7ry7Z7YfuyNal+hl8po9o/bNjSJTv+FItCFo3UVTPdsP4tIUC86E\n",
       "ja/p5x9Nsb+yOLhH/trIiqWHUFox2hCbqeBcDfrfZLqSLyRXwgdUkuqQW8ki2C5TVZykMTPUFLuB\n",
       "xdU8ufyo5SkWhUdguwGjilyNTDdy7DSbLkHCTNrEahdZnqohR5ykTzTFHvCwZ9UKw3biTfemcXT/\n",
       "IRer3QHkDrTQXRQ4dhB4EthbGkP6eYI9Q2XZ+zCunj9/onlI/cWxqqWrJsO+7J1bZdjydyuTW4qJ\n",
       "F0kIaraDVfuBWQt7zecgfUNt3kMfWgDuFYsHG7Bsf3qbYw0WDxQLPMvvfWwFjKzVL9PZdbIro8fB\n",
       "Ss6pOeyq6fS7Rl5BYvJYA2zeLwQPOTYTwH7Fb74R8u3a+jzReYuedT/IyJD/8XxS5RvZysPrkVjV\n",
       "wc6tbw9gO/nNoRBW+759GTQaBSkuSbOwSXtZONtPr2QVaUiVYMIcuISnC0Es9QTbbSqA5cVBWXGL\n",
       "DP/cIrmALFU4ziUJ6ksa4e7Lajxa9EraE344tRmf6lbSmuoe6J5YjA361rVEaLckHrQF6He4Ezys\n",
       "lI9i1epLnuFHT1n4vCOvNzLyvNscBLFoDWBpl0Sqi15zzo9v5EmobumUqZE16upj5DAYm7evom4m\n",
       "o1w+HsZqt5tg1wWwWbKGpI2smwTdkFJsSKVgSLGNTJIFGL2VRMnJz2X9o1dCWLAwVEJYr56kJ3xs\n",
       "cgC4Qma/Qd3tepsemBPXpvq8ama7bmshp/vUarRYGntTGfZUGPsEXeCG+ghb8da350ZMXk+oKV7f\n",
       "5mPlXXvoKvQj67wgo0adrdfvuu/KmVRIk7ZBj/Kr6IVyoFgcJtjTNMbMQHGNFn6nnjBnfeknx0Y1\n",
       "aTAsG2eW9tqLNmxSWBwQrLw9rHqhQTvE6kkUEpVMh2WsFOjus2oN+8pgqW0G+Cms+kW00+P1RACb\n",
       "CbV/TmbKudlDLuCZCjLEM/KhHpZiAuOTSrTyO/VEAKuFiqqziMUvXEN8Gx2ZaIPJ60lwrF7c1HSF\n",
       "mhpn/OCYryTSSxmtiHdsEfstshAzVrDr7IqXKglaL2HGik1UxPSMaqxYYeMNx0lVl4pqjsdp5fEJ\n",
       "4QUOxoh9R1z1/Rj/ZUL7jX8BgIU7XIxZKAIAAAAASUVORK5CYII=\n",
       "\" style=\"display:inline;vertical-align:middle;\" /></a><br>(see <a class=\"ProveItLink\" href=\"../../../__pv_it/theorems/1db867ceefae0450cd2f699308bf5b0c18ef9b9b0/dependencies.ipynb\">dependencies</a>)<br>"
      ],
      "text/plain": [
       "inv_f_tin_s_u: forall_{n in NaturalPos} (FT^{dag}_{n} in [SU](2^{n}))"
      ]
     },
     "execution_count": 2,
     "metadata": {},
     "output_type": "execute_result"
    }
   ],
   "source": [
    "%proving inv_f_tin_s_u"
   ]
  },
  {
   "cell_type": "code",
   "execution_count": null,
   "metadata": {},
   "outputs": [],
   "source": []
  }
 ],
 "metadata": {
  "kernelspec": {
   "display_name": "Python 3",
   "language": "python",
   "name": "python3"
  }
 },
 "nbformat": 4,
 "nbformat_minor": 0
}