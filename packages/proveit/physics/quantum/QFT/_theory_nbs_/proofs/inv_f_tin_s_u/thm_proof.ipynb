{
 "cells": [
  {
   "cell_type": "markdown",
   "metadata": {},
   "source": [
    "Proof of <a class=\"ProveItLink\" href=\"../../../../../../_theory_nbs_/theory.ipynb\">proveit</a>.<a class=\"ProveItLink\" href=\"../../../../../_theory_nbs_/theory.ipynb\">physics</a>.<a class=\"ProveItLink\" href=\"../../../../_theory_nbs_/theory.ipynb\">quantum</a>.<a class=\"ProveItLink\" href=\"../../theory.ipynb\">QFT</a>.<a class=\"ProveItLink\" href=\"../../theorems.ipynb#inv_f_tin_s_u\">inv_f_tin_s_u</a> theorem\n",
    "========"
   ]
  },
  {
   "cell_type": "code",
   "execution_count": 1,
   "metadata": {},
   "outputs": [],
   "source": [
    "import proveit\n",
    "theory = proveit.Theory() # the theorem's theory"
   ]
  },
  {
   "cell_type": "code",
   "execution_count": 2,
   "metadata": {},
   "outputs": [
    {
     "data": {
      "text/html": [
       "Under these <a href=\"presumptions.txt\">presumptions</a>, we begin our proof of<br><strong id=\"inv_f_tin_s_u\">inv_f_tin_s_u:</strong> <a class=\"ProveItLink\" href=\"../../../__pv_it/theorems/e6cbe5b0d1edcd23a6820078fd1e8a792f2f0ca30/expr.ipynb\"><img src=\"data:image/png;base64,iVBORw0KGgoAAAANSUhEUgAAAPgAAAAmBAMAAAAby0tnAAAAMFBMVEX///8QEBCIiIhmZma6urrM\n",
       "zMxUVFQiIiJERETc3Nzu7u6qqqp2dnaYmJgyMjIAAAAcRTyBAAAAAXRSTlMAQObYZgAABHtJREFU\n",
       "WMO1mG9oG2Ucx3+53CW5y6WpQpFNpOf2Qhmi0cIEcSNjoC8ceu6FiAhmzrX4apUqVZRZncyMIcS+\n",
       "sGMweu7FJhVpoAT0heywOtBNjazKxlTCBBFBm+rs1tYRf7/nuedy+btn7vJA81yun3u+z/3+3e8C\n",
       "IDVSZQh3GDl59m4IezwqTarrQxdXpG/9fTt0cfhDFhwOXxvedeQ4baXlVCx7o+IxSbv35Xogrq3K\n",
       "cdOFllOmc8N2vyiHbW05k/jt3uL/ETz7/YaMOP5O7pKb22TKDH0e9b59cs0lPHLhNlgn8OksVGj+\n",
       "qeuF+j/ooZHa7s2LqzD4667Lw4ujEKPkMyZEBLT6Ze6Mu6CPLB2CRO0iI42hvK0fG4VVgUdcOE3z\n",
       "791ra5Xi4wr+DeC+laug9UOCrN4nNI1Ki1/K8EEVzEt4uIGTx+lbzFL7BR6rwGG6tYmu4tFRYpbx\n",
       "44KRIXHIcfGzPvJZ8zVDuOcK9NG2H+AkTjdBxI66tocrVejDsDW7B098Qogf08tMfBPE6JJX6iXQ\n",
       "m8+Nj7O7MtBTqgVpujLHyVsA9hamIf6I7eHJFUh9NTMz1T1Y0hkurjumbjPxp1ie66P1SsDT/slN\n",
       "4mGAkGbDYxbuw+XkogN77YdA+Vrg2hrAlXz+tTaKbkDc4uIp5mISR1fg/hXc1I7nJzfiv02WQIYf\n",
       "O0btC5q+RSqV5SSO10VxYLiBC+0BONhGPFM/nC1z8URA3CywoAI3bxkrzL+NQX9PbRm/vEDb5OFH\n",
       "5vjXD2GG/wWwvU2sNopPM/GlzYMBcQVvIl4ErbiPZWKSeSARaBZ+GFwPBsVJDBhJn36V5jjuJQ5K\n",
       "sE3Rxj6H23MN4s8U+Z3HAuI6JWoWDOMSy0SNwhoe/xOHuJPoGiQJneQkzwAhwvC/0YDluH/yw/kt\n",
       "8LHpRJ35obGhYrN40OfgLZmsUr56qx0ORoyxBibaBL4U4kqmVVyvPOG74tARBz61MmY7sy+LwuqL\n",
       "kzGjFUiXHVCZHSPBDg2fWmbVyzRm9jnQRUww3KAQOPgcym7ZuZHcj6NUmmwSn7Xai1MYYY086bhe\n",
       "BEUt4VMsY1EXkqKUEqm5oBSCAafTQnO4jdS2cqTA63zJ/OjpRvE0pZ3WKk4Jg0+Hb1I2KdF4Vfh7\n",
       "DOAUzr+AvkeQU2fmR/ya6Xp5ztL4yB2QdgwmWAJ3vlE8gpbT76/tZ/ve/sbSfrtuvIcB3ruAVYOf\n",
       "Ov4Wz+SounuYLG0euM8nF2u1y35NIlylwp+iC56FbaC9nM+/ieJHKQIDLWOi0qH01cvrCW/e8fZ4\n",
       "pTtZx1N+KzMAD2osNlBc3dnUtfR3ag06P1g6knXcX1avwoslYCVxAeDHRjTZqdtKdH6kdiIDuN8Z\n",
       "qjm4q8yek+q+LCtKQfZqp3eeibZrdyMD+GzTK9id6PM248A1miM4L9tGBfGTBZAZkq3edY6tcths\n",
       "sRfit0q+1FV6oK30S4IDPRCPyL7y/9wDcelX/oQVura+TvpHjJdCFz8hH8RThbDF37kOI4X904RB\n",
       "vc1/vRo/+TkcSvcAAAAASUVORK5CYII=\n",
       "\" style=\"display:inline;vertical-align:middle;\" /></a><br>(see <a class=\"ProveItLink\" href=\"../../../__pv_it/theorems/e365d374c2dce8d3135496e0c44463d479e16e7f0/dependencies.ipynb\">dependencies</a>)<br>"
      ],
      "text/plain": [
       "inv_f_tin_s_u: forall_{n in NaturalPos} (FT^{dag}(n) in SU(2^{n}))"
      ]
     },
     "execution_count": 2,
     "metadata": {},
     "output_type": "execute_result"
    }
   ],
   "source": [
    "%proving inv_f_tin_s_u"
   ]
  },
  {
   "cell_type": "code",
   "execution_count": null,
   "metadata": {},
   "outputs": [],
   "source": []
  }
 ],
 "metadata": {
  "kernelspec": {
   "display_name": "Python 3",
   "language": "python",
   "name": "python3"
  }
 },
 "nbformat": 4,
 "nbformat_minor": 0
}