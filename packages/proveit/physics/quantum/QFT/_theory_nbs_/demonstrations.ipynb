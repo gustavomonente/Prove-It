{
 "cells": [
  {
   "cell_type": "markdown",
   "metadata": {},
   "source": [
    "Demonstrations for the theory of <a class=\"ProveItLink\" href=\"theory.ipynb\">proveit.physics.quantum.QFT</a>\n",
    "========"
   ]
  },
  {
   "cell_type": "code",
   "execution_count": 1,
   "metadata": {},
   "outputs": [],
   "source": [
    "import proveit\n",
    "from proveit.numbers import one, two, num\n",
    "from proveit.physics.quantum.QFT import InverseFourierTransform\n",
    "%begin demonstrations"
   ]
  },
  {
   "cell_type": "code",
   "execution_count": 2,
   "metadata": {},
   "outputs": [
    {
     "data": {
      "text/html": [
       "<a class=\"ProveItLink\" href=\"../__pv_it/demonstrations/14bf030dbbe12ac14fd3d3471923f4999c29e7cc0/expr.ipynb\"><img src=\"data:image/png;base64,iVBORw0KGgoAAAANSUhEUgAAACQAAAAZBAMAAACrypHYAAAAMFBMVEX///+6urp2dnaIiIiqqqqY\n",
       "mJjc3NwQEBBERETu7u4yMjJmZmYiIiJUVFTMzMwAAACe2S2SAAAAAXRSTlMAQObYZgAAANJJREFU\n",
       "GNNjYEAFvAIMDISFmCagi3Cs2O6ALsY8E9OsBwwMb8//3X3r/wT2X3frz976w8AB0ve+gYHh+QP2\n",
       "BAb7AIbnEKH8CwwMrA6zGUBCvAy8MCFOg1SwEPMEsLuAQpkMCnlgIb4J3A8gQmFgy4BCQKcmQITa\n",
       "EELMINfnV1//hhBiY4CouoYQ0u6egGYWUwLvAogj4EI8CXzf0IUE2D4CPYQsxMDA8pMh+/yPbSAm\n",
       "4476in1AmscAI3S0MURYN2AICTHIoYnwLXHpRBNi////AwDk60NFleJjJAAAAABJRU5ErkJggg==\n",
       "\" style=\"display:inline;vertical-align:middle;\" /></a>"
      ],
      "text/plain": [
       "FT^{dag}_{2}"
      ]
     },
     "execution_count": 2,
     "metadata": {},
     "output_type": "execute_result"
    }
   ],
   "source": [
    "InverseFourierTransform(two)"
   ]
  },
  {
   "cell_type": "code",
   "execution_count": 3,
   "metadata": {},
   "outputs": [
    {
     "name": "stdout",
     "output_type": "stream",
     "text": [
      "FT^{dag}_{2}\n"
     ]
    }
   ],
   "source": [
    "print(InverseFourierTransform(two))"
   ]
  },
  {
   "cell_type": "code",
   "execution_count": 4,
   "metadata": {},
   "outputs": [],
   "source": [
    "%end demonstrations"
   ]
  }
 ],
 "metadata": {
  "kernelspec": {
   "display_name": "Python 3",
   "language": "python",
   "name": "python3"
  }
 },
 "nbformat": 4,
 "nbformat_minor": 0
}