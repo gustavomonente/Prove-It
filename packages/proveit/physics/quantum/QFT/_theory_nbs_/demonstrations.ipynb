{
 "cells": [
  {
   "cell_type": "markdown",
   "metadata": {},
   "source": [
    "Demonstrations for the theory of <a class=\"ProveItLink\" href=\"theory.ipynb\">proveit.physics.quantum.QFT</a>\n",
    "========"
   ]
  },
  {
   "cell_type": "code",
   "execution_count": 1,
   "metadata": {},
   "outputs": [],
   "source": [
    "import proveit\n",
    "from proveit.numbers import one, two, num\n",
    "from proveit.physics.quantum.QFT import InverseFourierTransform\n",
    "%begin demonstrations"
   ]
  },
  {
   "cell_type": "code",
   "execution_count": 2,
   "metadata": {},
   "outputs": [
    {
     "data": {
      "text/html": [
       "<a class=\"ProveItLink\" href=\"../__pv_it/demonstrations/df278c06609fbf37009573c4f8804575a4b1011a0/expr.ipynb\"><img src=\"data:image/png;base64,iVBORw0KGgoAAAANSUhEUgAAAD0AAAAYBAMAAAC7LehfAAAAMFBMVEX///+6urp2dnaIiIiqqqqY\n",
       "mJjc3NwQEBBERETu7u4yMjJmZmYiIiJUVFTMzMwAAACe2S2SAAAAAXRSTlMAQObYZgAAAVNJREFU\n",
       "KM+Fkj1Lw1AUht8mmo/ahP6EYEcX/4GdXFycXLrcpYModlRQaCdxzCaigqNbO/lBQDJ1k3RSKEqz\n",
       "dZKqg4hU4rknDSU2xgMn9548Nzfv+QDSZpWRa/9xxc3FxuV1NfeAeiKf9ThYJX8Jvr1+5Opfz837\n",
       "/hhWSO/MFkzvKIQlKBi1gGGoC6ysYwhDXl8UOIfyBvOCgkYPmK+eQnIr5jXgFtgFKhNuLteZq64l\n",
       "eRc4AAYCxzHfhLPD3HZl/poPtF0MQhTLzDdYLXFggfSpHY4DF0qH+eGUKyTZkBsU3kkXCWzsP35M\n",
       "uUr1K3GJSqRrzufvH6ZcI9e5Bx65/fr7/0g4i5hwpDnfvwZNoOBncanPdqAK1jea4TKr7cWlJ8rW\n",
       "wVbwecXp3DT37mIub21H0ZgaEWY2uZtszrKHoJZsKn9MkYhX7m+G0Xykzs3YZL6obj+3mWCrAF5L\n",
       "PQAAAABJRU5ErkJggg==\n",
       "\" style=\"display:inline;vertical-align:middle;\" /></a>"
      ],
      "text/plain": [
       "FT^{dag}(2)"
      ]
     },
     "execution_count": 2,
     "metadata": {},
     "output_type": "execute_result"
    }
   ],
   "source": [
    "InverseFourierTransform(two)"
   ]
  },
  {
   "cell_type": "code",
   "execution_count": 3,
   "metadata": {},
   "outputs": [
    {
     "name": "stdout",
     "output_type": "stream",
     "text": [
      "FT^{dag}(2)\n"
     ]
    }
   ],
   "source": [
    "print(InverseFourierTransform(two))"
   ]
  },
  {
   "cell_type": "code",
   "execution_count": 4,
   "metadata": {},
   "outputs": [],
   "source": [
    "%end demonstrations"
   ]
  }
 ],
 "metadata": {
  "kernelspec": {
   "display_name": "Python 3",
   "language": "python",
   "name": "python3"
  }
 },
 "nbformat": 4,
 "nbformat_minor": 0
}