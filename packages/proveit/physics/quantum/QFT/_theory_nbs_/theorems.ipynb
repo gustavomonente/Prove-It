{
 "cells": [
  {
   "cell_type": "markdown",
   "metadata": {},
   "source": [
    "Theorems (or conjectures) for the theory of <a class=\"ProveItLink\" href=\"theory.ipynb\">proveit.physics.quantum.QFT</a>\n",
    "========"
   ]
  },
  {
   "cell_type": "code",
   "execution_count": 1,
   "metadata": {},
   "outputs": [],
   "source": [
    "import proveit\n",
    "# Prepare this notebook for defining the theorems of a theory:\n",
    "%theorems_notebook # Keep this at the top following 'import proveit'.\n",
    "from proveit import k, l, n\n",
    "from proveit.linalg import MatrixProd, SU\n",
    "from proveit.logic import Equals, Forall, InSet\n",
    "from proveit.numbers import zero, one, two, e, i, pi\n",
    "from proveit.numbers import Exp, frac, Interval, Mult, Neg, sqrt, subtract\n",
    "from proveit.numbers import NaturalPos\n",
    "from proveit.physics.quantum import RegisterKet, RegisterBra\n",
    "from proveit.physics.quantum.QFT import InverseFourierTransform"
   ]
  },
  {
   "cell_type": "code",
   "execution_count": 2,
   "metadata": {},
   "outputs": [
    {
     "name": "stdout",
     "output_type": "stream",
     "text": [
      "Defining theorems for theory 'proveit.physics.quantum.QFT'\n",
      "Subsequent end-of-cell assignments will define theorems\n",
      "'%end theorems' will finalize the definitions\n"
     ]
    }
   ],
   "source": [
    "%begin theorems"
   ]
  },
  {
   "cell_type": "code",
   "execution_count": 3,
   "metadata": {},
   "outputs": [
    {
     "data": {
      "text/html": [
       "<strong id=\"inv_f_tin_s_u\"><a class=\"ProveItLink\" href=\"proofs/inv_f_tin_s_u/thm_proof.ipynb\">inv_f_tin_s_u</a> (conjecture without proof):<br></strong> <a class=\"ProveItLink\" href=\"../__pv_it/theorems/1db867ceefae0450cd2f699308bf5b0c18ef9b9b0/theorem_expr.ipynb\"><img src=\"data:image/png;base64,iVBORw0KGgoAAAANSUhEUgAAAOwAAAAmBAMAAAA1jmr1AAAAMFBMVEX///8QEBCIiIhmZma6urrM\n",
       "zMxUVFQiIiJERETc3Nzu7u6qqqp2dnaYmJgyMjIAAAAcRTyBAAAAAXRSTlMAQObYZgAABFFJREFU\n",
       "WMOtmF1oFFcUx/87O7O7MzuziQ9pUalJ9UEJJS6GKohKgtAHC+3gQx9KwbVW09IHUyJoQDRNQFdC\n",
       "y1YoiiAZfWjE0jYQFtqH0tGotNbilqSF0q/FUh8KNRtb40cq23vv3PnKrNtbnAuZvXvmzPzuPefc\n",
       "c84GEBo/I7ahFYRVpWp8WLwgrNlrxYiVRLertSHO8aegXqoQK/Y9QdvtKEVErz0GVnQXNxErVnkg\n",
       "pKbej8quPo6VbwhpJaPH592R5f8TNf3dyrw7/1boiURHVNYZCYuu3xcJftnHPk4732aewlLgMzYf\n",
       "60H1v5PQmEn80VfftX72Adpv7ry7Z7YfuyNal+hl8po9o/bNjSJTv+FItCFo3UVTPdsP4tIUC86E\n",
       "ja/p5x9Nsb+yOLhH/trIiqWHUFox2hCbqeBcDfrfZLqSLyRXwgdUkuqQW8ki2C5TVZykMTPUFLuB\n",
       "xdU8ufyo5SkWhUdguwGjilyNTDdy7DSbLkHCTNrEahdZnqohR5ykTzTFHvCwZ9UKw3biTfemcXT/\n",
       "IRer3QHkDrTQXRQ4dhB4EthbGkP6eYI9Q2XZ+zCunj9/onlI/cWxqqWrJsO+7J1bZdjydyuTW4qJ\n",
       "F0kIaraDVfuBWQt7zecgfUNt3kMfWgDuFYsHG7Bsf3qbYw0WDxQLPMvvfWwFjKzVL9PZdbIro8fB\n",
       "Ss6pOeyq6fS7Rl5BYvJYA2zeLwQPOTYTwH7Fb74R8u3a+jzReYuedT/IyJD/8XxS5RvZysPrkVjV\n",
       "wc6tbw9gO/nNoRBW+759GTQaBSkuSbOwSXtZONtPr2QVaUiVYMIcuISnC0Es9QTbbSqA5cVBWXGL\n",
       "DP/cIrmALFU4ziUJ6ksa4e7Lajxa9EraE344tRmf6lbSmuoe6J5YjA361rVEaLckHrQF6He4Ezys\n",
       "lI9i1epLnuFHT1n4vCOvNzLyvNscBLFoDWBpl0Sqi15zzo9v5EmobumUqZE16upj5DAYm7evom4m\n",
       "o1w+HsZqt5tg1wWwWbKGpI2smwTdkFJsSKVgSLGNTJIFGL2VRMnJz2X9o1dCWLAwVEJYr56kJ3xs\n",
       "cgC4Qma/Qd3tepsemBPXpvq8ama7bmshp/vUarRYGntTGfZUGPsEXeCG+ghb8da350ZMXk+oKV7f\n",
       "5mPlXXvoKvQj67wgo0adrdfvuu/KmVRIk7ZBj/Kr6IVyoFgcJtjTNMbMQHGNFn6nnjBnfeknx0Y1\n",
       "aTAsG2eW9tqLNmxSWBwQrLw9rHqhQTvE6kkUEpVMh2WsFOjus2oN+8pgqW0G+Cms+kW00+P1RACb\n",
       "CbV/TmbKudlDLuCZCjLEM/KhHpZiAuOTSrTyO/VEAKuFiqqziMUvXEN8Gx2ZaIPJ60lwrF7c1HSF\n",
       "mhpn/OCYryTSSxmtiHdsEfstshAzVrDr7IqXKglaL2HGik1UxPSMaqxYYeMNx0lVl4pqjsdp5fEJ\n",
       "4QUOxoh9R1z1/Rj/ZUL7jX8BgIU7XIxZKAIAAAAASUVORK5CYII=\n",
       "\" style=\"display:inline;vertical-align:middle;\" /></a><br>"
      ],
      "text/plain": [
       "inv_f_tin_s_u: forall_{n in NaturalPos} (FT^{dag}_{n} in [SU](2^{n}))"
      ]
     },
     "execution_count": 3,
     "metadata": {},
     "output_type": "execute_result"
    }
   ],
   "source": [
    "inv_f_tin_s_u = Forall(\n",
    "    n,\n",
    "    InSet(InverseFourierTransform(n), SU(Exp(two, n))),\n",
    "    domain=NaturalPos)"
   ]
  },
  {
   "cell_type": "code",
   "execution_count": 4,
   "metadata": {},
   "outputs": [
    {
     "data": {
      "text/html": [
       "<strong id=\"inv_f_ton_matrix_elem\"><a class=\"ProveItLink\" href=\"proofs/inv_f_ton_matrix_elem/thm_proof.ipynb\">inv_f_ton_matrix_elem</a> (conjecture without proof):<br></strong> <a class=\"ProveItLink\" href=\"../__pv_it/theorems/283a4a56337a31fe669bb3f833c1d5cc37b0185d0/theorem_expr.ipynb\"><img src=\"data:image/png;base64,iVBORw0KGgoAAAANSUhEUgAAAmwAAAA/BAMAAACvPolmAAAAMFBMVEX///8QEBCIiIhmZma6urrM\n",
       "zMxUVFQiIiJERETc3Nzu7u6qqqp2dnaYmJgyMjIAAAAcRTyBAAAAAXRSTlMAQObYZgAACrpJREFU\n",
       "eNrFnH1sG2cZwB9/XOw7f0UTFWq9Ki4VkIaWeMpoq63bUk0CBELx+gebpmpxV1rEqJi7lY6xlnqt\n",
       "NtJNMK9/kLYSq9uhUjLWGKaIQbbGU4LE1nUzZEiIZjSiUNEJrWmXrOsX5v08v699/rrzXV4p99h3\n",
       "9z5397vnfZ7nfe4cgAZaX7E4Da1qoRjY1mzRfXeZ9BeL1xrq2Dc62tuys/idfdTs0e2PydI7Otog\n",
       "thaehLrAPmr26NY+JUvUoo5j89k4Rm3SvTYjy/nA9o6NY9Qm3Z5pWc4DNnXWxjFqk27tmiznAZs/\n",
       "bR8223S/USadxzaWsQ+bbbqHY7J0Htt/bHRttukOXpWl49iUG/ZRs0+3ekOWjmNrm7EPm5Hu32Rb\n",
       "ovrDMuk0tuGkfdgqdWtbHm4Ntu6MLJ3GdqbXPmxGus+0BttwXpZOY3tOn3QXTOs4Wk93k9i8CeXt\n",
       "vaWvD+DFncSV7YQuui7cLkunsX3CP3zRvA7vdB3dTWLbB364VxjZePEK+fgUeFgInZOlw9i81/mH\n",
       "RRa0fK627maxJSEMw2XrbifLdgjkqO5LIEmHsQX59OdwwoKWcKGm7iaxaXGgFSfv1q3bkdiPVz7+\n",
       "DbRWTWOmZB9myVw6jC3M88XNltKoRTV1N4nNi1J/7Tz6EAi6gWNbfBDdmhAKAGy+thUk6TC2SIpl\n",
       "plca2PlbVbdsrqW7CWwv9vT05EJoHB7NwiD6ijzZIMI2CN5/xtHSg0Iz86MPZyTpMLZD7OaFk5aw\n",
       "9Wdr6DZhbdptv8aR4LQPB4T96M8d+yCngS+gW1t3QZIOYxuLs0tsZNL9VvWxHquhu2nflgRf8TL+\n",
       "9FBbgg1ST2YKWVpwGfdtcCYvSYexdbPrvVNYFyKjtvLyfrqHntz97HtO6NJeQ7e8sqFIWr2xSAp9\n",
       "SUk6jO0udhY3Ceu+ScKgQYbfRS95gn29VYgJszV0i21lx9n6afW+Gts83ANMSzJKfd77dbGFLab2\n",
       "zKNSOuqcsO5WcO9KYGzKt4sbV164Ch3nNlzefCEFm4BjO/Zpjpe1m6vrNpFM1ujYxeNNuySjcBKL\n",
       "D+piC+J7GbY6w7tAfVpIrFWgAHiGWpuCsiJlASwE9w1Q2uFZHRucRX8+oc/3qutuJq4XG2j0VF3s\n",
       "jJmMEg+oputiI7vstzpIOyh3j5ArBJCTXU2xqR+jxWmUfiJsyOMI2HAR3y2Yend13ebb+j9lQre/\n",
       "nzfc5roqySixoGCuvm/DBnnSKrYiFT7hNvkz2NWVsB1RCwRbF3xXx+bFJ6sJU1Gj8nfR6smllVSg\n",
       "E1KG23xXJBmF0FtDQ4MNhISpoaFfpVqELSLkCi8QV8exqdmgmiDY7ud5G8IWJAcWqhT9OYvYtA07\n",
       "KtZNazOwSUk3hg0+GRjY0QC2yMDAj/OtwibkCqeIq+PYQsSM3KT4/CUdWzgemMzAa0L9q2AR2+Gd\n",
       "SyrzjkAKUu73jDPFOUkibJuk+6i3fBk2lAr6My3CJl41MqS2tI7NL2B7U8c2nFvWVxBjAuP+zoe4\n",
       "nTWBbUNWrZzCHs9oycApw/39c5KM4hdpNKMCVrwMmzcOx9EF0YzrKA+FCjrK8uWlKsTq2yQlyOSV\n",
       "LwhD4yLLfkrYkFpwxRi2iys7BGxdOraxI9mXgUwRObZKu+e6649PvLgE8JOKDQ9V7+SflWQUB3Yx\n",
       "RoHy6ARgAy7HhsxiBVpuoxfLvdzzWQjlA7q9vymnBkoPtqV8xaUJrsmD5jP9Gd3a2gRsGR3bLeRk\n",
       "lNKwisSrYaudVBBTR0aioM8V5bkXh/JNYAsWStb/0vgd8Gow68kaYDuFx5NGTTsYp/vCCYS9F3R7\n",
       "fxwhmHx9qmRLqEugZMtasQIbvmVLwNC3gY5te2eMpSo1sDU6SH1J/GzwwIGD5Rt2FVNNYFOn9fw7\n",
       "9OzBLLweiwdhvOfRnpyM7QV8t5mZ+Qt0X4xtOFGaom2DQ72/TfuqYeP+hwzSyb9+Jk7Tiqc1IQEx\n",
       "wKbNktkU8nu0j/4ohPq2cyZ826VmC4UVIQH2okgfumPdUva+4MjIvqCBbwP/z3BRIL4OD5VIhr1b\n",
       "eIIMsZ1CRpVtS9xXDxt5KeC9xWg+QMLRjWBtbKEZ7VqQJNusj+gczUXSW7KgWsT2Crq20NqCK0Pn\n",
       "pyPBl9cbYQuswt1Ofw2PyHt4/e4EKX49Utr1EeQrV/TWwYY9unokRQY3Sitmj7DJlYSNW9YEjrRz\n",
       "QZxs8z4N5W2eKr6NtF/ePHVTM9h8c5KMsmh+8PMQyZKqOoxAftwIGzHsCJ1fd9IKPMAWYm2lM0BO\n",
       "7yi8VhCxaQsrJkAubLFtMW87nWpO5gk2dVVxD3Ftdz95cU9Ct6wJ8OdgaRdNVWgf6OutP7mqPRNc\n",
       "9b+myhKV6S6E8PEehLWg/GBgYDfC9nOfIba/YzPrJPd5N9v3vjjxbaU6ziSTXx1ALUtd4b0lV76L\n",
       "XpofG6Ar4ckneFpRWTjSLWtCTFVoH8Pq465so8VhE61iKs/aAlij0ILdCHjXIZEwrLd1Ku3YIBYk\n",
       "WHFvixxJvXmv9Eiq3Nqeo1uD2GQOge/rCV5GMKi3ccvi2HDplfUpvWgGFbp17NOtxBaZkSTHps7A\n",
       "thH4I/6IZhdTVcuUu5VUTH0GZmJ0X+zb3PFAEq3an0WLB0ZfzZZNVyTfxkqJAcz5y+A+pRetDLBx\n",
       "y+LYjgt9ztUvU2IrVsWBGLAyxxlOSZJj8yZheQE7EfD+qBfaqmI7Dw8mlCis6SX7EmywfByUhXBP\n",
       "Bi06ipJjVld9HJOwsScYmhgp/1IFG7esCXE/qOxfphsEysdQDrv6Kb7mOxaw9aclWVYU70T+qn5R\n",
       "PFDa90T9I4rYxpibe7rs+sBd+biZW9Zn2fdnBJVGzwvH5Bz/JLnJWhLe7aXZFT2Qycaf7zBp6lnC\n",
       "70sfm8TWz+ZHf7bmaTxGfqtfKmngNDoUBzTfcbXT7AqCMfNHbMUDP2E0HK7vMIQ5KUTY9Q7nrMU1\n",
       "o+4RiWUQnaQvA64UtF0h2RUi2W7+iHclJGn1yZW6ol5fRSwJ+1hAclsLc0sMUyvpZUqcQw2SNxza\n",
       "5kh2hdq/zB/xgiwdfuDnmdPzHSttcU3dpOHbuZQCvEqzK4Bx80e8LEuHsQV4CPyHFS3GthqQwitO\n",
       "FGhFrS9PsysrB1U+kqXD2DQ+6/RbcM/wfKambpw5urH+J8jX7Sy7svL7P/c1WTr9NuVj/Bq/b4H9\n",
       "EzV1D+aZawPyizxPaZbYb/qQ/CV0Lp3G9i43lEHzObu/UEu39284YE7p2JZCC7C50rJ0GtshPjhV\n",
       "869T/qK2bi/2cT8ENkgDcTjAd/iK6UP2FWTpNLZwCmxrXPdjvH6OQ8J6gGVgOQ7xnzdw6TS20Jx9\n",
       "2Lju7l72sgpKONQdb6/U79Qa06o/KpOO/1Ttun3YuO7hJHs/Hg3KcLFYerDyb6s3RL/pjmN7I2sf\n",
       "NqbbcwXO00RXDjuaaQcRnpal89hcefuwMd3qdS+d1Yfkx4Lmp/J9CVk6jy101UbnxnQ/yd+6kF/S\n",
       "MF84Olsm5+FfDPzXRufGdPfxF/CPSVv3mp4SLpLlfGDrt/FX30w3fzonF8VDpg/sKshyPrCFbMzc\n",
       "mG53urVqN5fJ+cAGG20cpRttvBniDW8QWyv/NVQ4Zx82W3TzgguXDf9rqJda+a+htIR92GzRfaBM\n",
       "ekdH//B/PJSIU6pS76kAAAAASUVORK5CYII=\n",
       "\" style=\"display:inline;vertical-align:middle;\" /></a><br>"
      ],
      "text/plain": [
       "inv_f_ton_matrix_elem: forall_{n in NaturalPos} [forall_{k, l in {0...2^{n} - 1}} (({n}_〈l| . FT^{dag}_{n} . |k〉_{n}) = ((1 / sqrt((2^{n}))) * e^{(-(2 * pi * i * k * l)) / 2^{n}}))]"
      ]
     },
     "execution_count": 4,
     "metadata": {},
     "output_type": "execute_result"
    }
   ],
   "source": [
    "inv_f_ton_matrix_elem = Forall(\n",
    "    n,\n",
    "    Forall((k, l),\n",
    "           Equals(MatrixProd(RegisterBra(l, n),\n",
    "                             InverseFourierTransform(n),\n",
    "                             RegisterKet(k, n)),\n",
    "                  Mult(frac(one, sqrt(Exp(two, n))),\n",
    "                       Exp(e, frac(Neg(Mult(two, pi, i, k, l)),\n",
    "                                   Exp(two, n))))),\n",
    "           domain=Interval(zero, subtract(Exp(two, n), one))),\n",
    "    domain=NaturalPos)"
   ]
  },
  {
   "cell_type": "code",
   "execution_count": 5,
   "metadata": {},
   "outputs": [
    {
     "name": "stdout",
     "output_type": "stream",
     "text": [
      "These theorems may now be imported from the theory package: proveit.physics.quantum.QFT\n"
     ]
    }
   ],
   "source": [
    "%end theorems"
   ]
  }
 ],
 "metadata": {
  "kernelspec": {
   "display_name": "Python 3",
   "language": "python",
   "name": "python3"
  }
 },
 "nbformat": 4,
 "nbformat_minor": 0
}