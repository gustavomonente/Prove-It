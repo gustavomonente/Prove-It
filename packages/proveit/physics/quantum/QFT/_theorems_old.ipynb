{
 "cells": [
  {
   "cell_type": "code",
   "execution_count": null,
   "metadata": {},
   "outputs": [],
   "source": [
    "import proveit.specialStatementMagic # for %begin_theorems and %end_theorems\n",
    "from proveit.basiclogic import In, Forall, Equals\n",
    "from proveit.physics.quantum import Ket, RegisterBra, RegisterKet\n",
    "from proveit.physics.quantum.QFT import InverseFourierTransform\n",
    "from proveit.linalg import ScalarProd, MatrixProd, SU\n",
    "from proveit.number import subtract, Multiply, sqrt, Summation, Exponentiate, frac, Neg, DiscreteContiguousSet\n",
    "from proveit.number.common import zero, one, two, e, i, pi\n",
    "from proveit.number import NaturalPos\n",
    "from proveit.common import k, l, n"
   ]
  },
  {
   "cell_type": "code",
   "execution_count": null,
   "metadata": {},
   "outputs": [],
   "source": [
    "%begin_theorems"
   ]
  },
  {
   "cell_type": "code",
   "execution_count": null,
   "metadata": {},
   "outputs": [],
   "source": [
    "# transfered 3/01/2020\n",
    "invFTinSU = Forall(n, In(InverseFourierTransform(n), SU(Exponentiate(two, n))),\n",
    "                   domain=NaturalPos)\n",
    "invFTinSU"
   ]
  },
  {
   "cell_type": "code",
   "execution_count": null,
   "metadata": {},
   "outputs": [],
   "source": [
    "# transfered 3/01/2020\n",
    "invFTonMatrixElem = Forall(n,\n",
    "                           Forall((k, l),\n",
    "                                  Equals(MatrixProd(RegisterBra(l, n), InverseFourierTransform(n), RegisterKet(k, n)),\n",
    "                                         Multiply(frac(one, sqrt(Exponentiate(two, n))),\n",
    "                                                  Exponentiate(e, frac(Neg(Multiply(two, pi, i, k, l)),\n",
    "                                                                           Exponentiate(two, n))))),\n",
    "                                  domain=DiscreteContiguousSet(zero, subtract(Exponentiate(two, n), one))),\n",
    "                           domain=NaturalPos)\n",
    "invFTonMatrixElem"
   ]
  },
  {
   "cell_type": "code",
   "execution_count": null,
   "metadata": {},
   "outputs": [],
   "source": [
    "%end_theorems"
   ]
  },
  {
   "cell_type": "code",
   "execution_count": null,
   "metadata": {},
   "outputs": [],
   "source": []
  }
 ],
 "metadata": {
  "kernelspec": {
   "display_name": "Python 3",
   "language": "python",
   "name": "python3"
  }
 },
 "nbformat": 4,
 "nbformat_minor": 0
}
