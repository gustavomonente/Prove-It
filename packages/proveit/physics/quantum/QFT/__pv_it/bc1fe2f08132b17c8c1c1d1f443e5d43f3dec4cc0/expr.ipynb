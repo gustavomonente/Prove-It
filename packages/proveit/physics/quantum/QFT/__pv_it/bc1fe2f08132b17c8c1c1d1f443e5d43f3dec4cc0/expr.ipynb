{
 "cells": [
  {
   "cell_type": "markdown",
   "metadata": {},
   "source": [
    "Expression of type <a class=\"ProveItLink\" href=\"../../../../../../../doc/html/api/proveit.number.Mult.html\">Mult</a>\n",
    "=======================\n",
    "# from context <a class=\"ProveItLink\" href=\"../../_context_.ipynb\">proveit.physics.quantum.QFT</a>"
   ]
  },
  {
   "cell_type": "code",
   "execution_count": 1,
   "metadata": {},
   "outputs": [],
   "source": [
    "import proveit\n",
    "# Automation is not needed when building an expression:\n",
    "proveit.defaults.automation = False # This will speed things up.\n",
    "proveit.defaults.inline_pngs = False # Makes files smaller.\n",
    "# import Expression classes needed to build the expression\n",
    "from proveit._common_ import k, l, n\n",
    "from proveit.number import Exp, Mult, Neg, e, frac, i, one, pi, sqrt, two"
   ]
  },
  {
   "cell_type": "code",
   "execution_count": 2,
   "metadata": {},
   "outputs": [
    {
     "data": {
      "text/html": [
       "<strong id=\"expr\">expr:</strong> <a class=\"ProveItLink\" href=\"expr.ipynb\"><img src=\"expr.png\" style=\"display:inline;vertical-align:middle;\" /></a><br>"
      ],
      "text/plain": [
       "expr: (1 / sqrt((2^{n}))) * e^{(-(2 * pi * i * k * l)) / 2^{n}}"
      ]
     },
     "execution_count": 2,
     "metadata": {},
     "output_type": "execute_result"
    }
   ],
   "source": [
    "# build up the expression from sub-expressions\n",
    "subExpr1 = Exp(two, n)\n",
    "expr = Mult(frac(one, sqrt(subExpr1)), Exp(e, frac(Neg(Mult(two, pi, i, k, l)), subExpr1)))"
   ]
  },
  {
   "cell_type": "code",
   "execution_count": 3,
   "metadata": {},
   "outputs": [
    {
     "name": "stdout",
     "output_type": "stream",
     "text": [
      "Passed sanity check: built 'expr' is the same as the stored Expression.\n"
     ]
    }
   ],
   "source": [
    "# check that the built expression is the same as the stored expression\n",
    "%check_expr"
   ]
  },
  {
   "cell_type": "code",
   "execution_count": 4,
   "metadata": {},
   "outputs": [
    {
     "name": "stdout",
     "output_type": "stream",
     "text": [
      "\\frac{1}{\\sqrt{(2^{n})}} \\cdot e^{\\frac{-\\left(2 \\cdot \\pi \\cdot i \\cdot k \\cdot l\\right)}{2^{n}}}\n"
     ]
    }
   ],
   "source": [
    "# Show the LaTeX representation of the expression for convenience if you need it.\n",
    "print(expr.latex())"
   ]
  },
  {
   "cell_type": "code",
   "execution_count": 5,
   "metadata": {},
   "outputs": [
    {
     "data": {
      "text/html": [
       "<table><tr><th>&nbsp;</th><th>core type</th><th>sub-expressions</th><th>expression</th></tr>\n",
       "<tr><td>0</td><td>Operation</td><td>operator:&nbsp;21<br>operands:&nbsp;1<br></td><td><a class=\"ProveItLink\" href=\"expr.ipynb\"><img src=\"expr.png\" style=\"display:inline;vertical-align:middle;\" /></a></td></tr>\n",
       "<tr><td>1</td><td>ExprTuple</td><td>2, 3</td><td><a class=\"ProveItLink\" href=\"../15551c19d0e76bc305023779650aa8c60152b2790/expr.ipynb\"><img src=\"../15551c19d0e76bc305023779650aa8c60152b2790/expr.png\" style=\"display:inline;vertical-align:middle;\" /></a></td></tr>\n",
       "<tr><td>2</td><td>Operation</td><td>operator:&nbsp;14<br>operands:&nbsp;4<br></td><td><a class=\"ProveItLink\" href=\"../eadf1a5cbd2d1f52a01da0d8dd4ace99c06a0eb80/expr.ipynb\"><img src=\"../eadf1a5cbd2d1f52a01da0d8dd4ace99c06a0eb80/expr.png\" style=\"display:inline;vertical-align:middle;\" /></a></td></tr>\n",
       "<tr><td>3</td><td>Operation</td><td>operator:&nbsp;18<br>operands:&nbsp;5<br></td><td><a class=\"ProveItLink\" href=\"../2620103e952b35261c80d85452f46e8e77e130480/expr.ipynb\"><img src=\"../2620103e952b35261c80d85452f46e8e77e130480/expr.png\" style=\"display:inline;vertical-align:middle;\" /></a></td></tr>\n",
       "<tr><td>4</td><td>ExprTuple</td><td>20, 6</td><td><a class=\"ProveItLink\" href=\"../dd70d589ebe0e1fc8e594f359fe0360eb6b88f3e0/expr.ipynb\"><img src=\"../dd70d589ebe0e1fc8e594f359fe0360eb6b88f3e0/expr.png\" style=\"display:inline;vertical-align:middle;\" /></a></td></tr>\n",
       "<tr><td>5</td><td>ExprTuple</td><td>7, 8</td><td><a class=\"ProveItLink\" href=\"../b54d26c22210b36a566a70675459ee50a00641760/expr.ipynb\"><img src=\"../b54d26c22210b36a566a70675459ee50a00641760/expr.png\" style=\"display:inline;vertical-align:middle;\" /></a></td></tr>\n",
       "<tr><td>6</td><td>Operation</td><td>operator:&nbsp;18<br>operands:&nbsp;9<br></td><td><a class=\"ProveItLink\" href=\"../9a569b69fd92a8b67ecc7782e5991555f48f27390/expr.ipynb\"><img src=\"../9a569b69fd92a8b67ecc7782e5991555f48f27390/expr.png\" style=\"display:inline;vertical-align:middle;\" /></a></td></tr>\n",
       "<tr><td>7</td><td>Literal</td><td></td><td><a class=\"ProveItLink\" href=\"../../../../../number/sets/real/__pv_it/2da8b15c54030215c8a4e24fc5dad394d038890a0/expr.ipynb\"><img src=\"../../../../../number/sets/real/__pv_it/2da8b15c54030215c8a4e24fc5dad394d038890a0/expr.png\" style=\"display:inline;vertical-align:middle;\" /></a></td></tr>\n",
       "<tr><td>8</td><td>Operation</td><td>operator:&nbsp;14<br>operands:&nbsp;10<br></td><td><a class=\"ProveItLink\" href=\"../4654ebb72c8e271446c0140132a7b2aeaf89fdea0/expr.ipynb\"><img src=\"../4654ebb72c8e271446c0140132a7b2aeaf89fdea0/expr.png\" style=\"display:inline;vertical-align:middle;\" /></a></td></tr>\n",
       "<tr><td>9</td><td>ExprTuple</td><td>13, 11</td><td><a class=\"ProveItLink\" href=\"../037a848340605137109575c1793dfccbcb5fdff90/expr.ipynb\"><img src=\"../037a848340605137109575c1793dfccbcb5fdff90/expr.png\" style=\"display:inline;vertical-align:middle;\" /></a></td></tr>\n",
       "<tr><td>10</td><td>ExprTuple</td><td>12, 13</td><td><a class=\"ProveItLink\" href=\"../be96316f1e615cf0324b725e3ff6c27d3bca8c350/expr.ipynb\"><img src=\"../be96316f1e615cf0324b725e3ff6c27d3bca8c350/expr.png\" style=\"display:inline;vertical-align:middle;\" /></a></td></tr>\n",
       "<tr><td>11</td><td>Operation</td><td>operator:&nbsp;14<br>operands:&nbsp;15<br></td><td><a class=\"ProveItLink\" href=\"../802dee724b9318af22b4f017a8f9de752aa8e4fa0/expr.ipynb\"><img src=\"../802dee724b9318af22b4f017a8f9de752aa8e4fa0/expr.png\" style=\"display:inline;vertical-align:middle;\" /></a></td></tr>\n",
       "<tr><td>12</td><td>Operation</td><td>operator:&nbsp;16<br>operand:&nbsp;17<br></td><td><a class=\"ProveItLink\" href=\"../f82f686ca786aff912e5ca0c79a117c346660f650/expr.ipynb\"><img src=\"../f82f686ca786aff912e5ca0c79a117c346660f650/expr.png\" style=\"display:inline;vertical-align:middle;\" /></a></td></tr>\n",
       "<tr><td>13</td><td>Operation</td><td>operator:&nbsp;18<br>operands:&nbsp;19<br></td><td><a class=\"ProveItLink\" href=\"../f206c3fa941e340adca6e5e04c111df1cd60a1990/expr.ipynb\"><img src=\"../f206c3fa941e340adca6e5e04c111df1cd60a1990/expr.png\" style=\"display:inline;vertical-align:middle;\" /></a></td></tr>\n",
       "<tr><td>14</td><td>Literal</td><td></td><td><a class=\"ProveItLink\" href=\"../../../../../number/division/__pv_it/7a11ad25d6e61156459ac6819a1cec8fded2dde30/expr.ipynb\"><img src=\"../../../../../number/division/__pv_it/7a11ad25d6e61156459ac6819a1cec8fded2dde30/expr.png\" style=\"display:inline;vertical-align:middle;\" /></a></td></tr>\n",
       "<tr><td>15</td><td>ExprTuple</td><td>20, 24</td><td><a class=\"ProveItLink\" href=\"../870fe229b3bbe6904a72bc2b38613787bd64cb3d0/expr.ipynb\"><img src=\"../870fe229b3bbe6904a72bc2b38613787bd64cb3d0/expr.png\" style=\"display:inline;vertical-align:middle;\" /></a></td></tr>\n",
       "<tr><td>16</td><td>Literal</td><td></td><td><a class=\"ProveItLink\" href=\"../../../../../number/negation/__pv_it/2867787e35502987d81a45cac8e7f1c6996d6ff40/expr.ipynb\"><img src=\"../../../../../number/negation/__pv_it/2867787e35502987d81a45cac8e7f1c6996d6ff40/expr.png\" style=\"display:inline;vertical-align:middle;\" /></a></td></tr>\n",
       "<tr><td>17</td><td>Operation</td><td>operator:&nbsp;21<br>operands:&nbsp;22<br></td><td><a class=\"ProveItLink\" href=\"../f55c7dc961e888021cebb0931c69dd4710c6b6de0/expr.ipynb\"><img src=\"../f55c7dc961e888021cebb0931c69dd4710c6b6de0/expr.png\" style=\"display:inline;vertical-align:middle;\" /></a></td></tr>\n",
       "<tr><td>18</td><td>Literal</td><td></td><td><a class=\"ProveItLink\" href=\"../../../../../number/exponentiation/__pv_it/fca8e4218e687a7bc372d4b4009101e95bae518f0/expr.ipynb\"><img src=\"../../../../../number/exponentiation/__pv_it/fca8e4218e687a7bc372d4b4009101e95bae518f0/expr.png\" style=\"display:inline;vertical-align:middle;\" /></a></td></tr>\n",
       "<tr><td>19</td><td>ExprTuple</td><td>24, 23</td><td><a class=\"ProveItLink\" href=\"../b88156840bda2ad241811d07ac6231d5d956e29c0/expr.ipynb\"><img src=\"../b88156840bda2ad241811d07ac6231d5d956e29c0/expr.png\" style=\"display:inline;vertical-align:middle;\" /></a></td></tr>\n",
       "<tr><td>20</td><td>Literal</td><td></td><td><a class=\"ProveItLink\" href=\"../../../../../number/numeral/__pv_it/f086f8c372bd40a2458306ddfdbb29f3dc6f63030/expr.ipynb\"><img src=\"../../../../../number/numeral/__pv_it/f086f8c372bd40a2458306ddfdbb29f3dc6f63030/expr.png\" style=\"display:inline;vertical-align:middle;\" /></a></td></tr>\n",
       "<tr><td>21</td><td>Literal</td><td></td><td><a class=\"ProveItLink\" href=\"../../../../../number/multiplication/__pv_it/f7a1ed7c35c8c884cf4c236d27cb79bf85638cad0/expr.ipynb\"><img src=\"../../../../../number/multiplication/__pv_it/f7a1ed7c35c8c884cf4c236d27cb79bf85638cad0/expr.png\" style=\"display:inline;vertical-align:middle;\" /></a></td></tr>\n",
       "<tr><td>22</td><td>ExprTuple</td><td>24, 25, 26, 27, 28</td><td><a class=\"ProveItLink\" href=\"../4c9171bd6a8f1682d2427df8b71a6a0c60cc8a050/expr.ipynb\"><img src=\"../4c9171bd6a8f1682d2427df8b71a6a0c60cc8a050/expr.png\" style=\"display:inline;vertical-align:middle;\" /></a></td></tr>\n",
       "<tr><td>23</td><td>Variable</td><td></td><td><a class=\"ProveItLink\" href=\"../../../../../__pv_it/0c1c4cb515e0f4344b1ac06650f349123e526deb0/expr.ipynb\"><img src=\"../../../../../__pv_it/0c1c4cb515e0f4344b1ac06650f349123e526deb0/expr.png\" style=\"display:inline;vertical-align:middle;\" /></a></td></tr>\n",
       "<tr><td>24</td><td>Literal</td><td></td><td><a class=\"ProveItLink\" href=\"../../../../../number/numeral/__pv_it/fb4ccffdbfd0f653ebaacb95e7ff4802fd48a6f20/expr.ipynb\"><img src=\"../../../../../number/numeral/__pv_it/fb4ccffdbfd0f653ebaacb95e7ff4802fd48a6f20/expr.png\" style=\"display:inline;vertical-align:middle;\" /></a></td></tr>\n",
       "<tr><td>25</td><td>Literal</td><td></td><td><a class=\"ProveItLink\" href=\"../../../../../number/sets/real/__pv_it/55b5998cc1eb0bfddda5f6659b80f98cb2e83cc10/expr.ipynb\"><img src=\"../../../../../number/sets/real/__pv_it/55b5998cc1eb0bfddda5f6659b80f98cb2e83cc10/expr.png\" style=\"display:inline;vertical-align:middle;\" /></a></td></tr>\n",
       "<tr><td>26</td><td>Literal</td><td></td><td><a class=\"ProveItLink\" href=\"../../../../../number/sets/complex/__pv_it/2eee945873616fb29c0de5c0ddf0e4fdff4b9b3b0/expr.ipynb\"><img src=\"../../../../../number/sets/complex/__pv_it/2eee945873616fb29c0de5c0ddf0e4fdff4b9b3b0/expr.png\" style=\"display:inline;vertical-align:middle;\" /></a></td></tr>\n",
       "<tr><td>27</td><td>Variable</td><td></td><td><a class=\"ProveItLink\" href=\"../../../../../__pv_it/273f49450ca25e1b56abbd98a7aef618f8f6c1360/expr.ipynb\"><img src=\"../../../../../__pv_it/273f49450ca25e1b56abbd98a7aef618f8f6c1360/expr.png\" style=\"display:inline;vertical-align:middle;\" /></a></td></tr>\n",
       "<tr><td>28</td><td>Variable</td><td></td><td><a class=\"ProveItLink\" href=\"../../../../../__pv_it/146a2ac733407ae00030c58af25a3e0f465a566a0/expr.ipynb\"><img src=\"../../../../../__pv_it/146a2ac733407ae00030c58af25a3e0f465a566a0/expr.png\" style=\"display:inline;vertical-align:middle;\" /></a></td></tr>\n",
       "</table>\n"
      ],
      "text/plain": [
       "0. (1 / sqrt((2^{n}))) * e^{(-(2 * pi * i * k * l)) / 2^{n}}\n",
       "   core type: Operation\n",
       "   operator: 21\n",
       "   operands: 1\n",
       "1. (1 / sqrt((2^{n})), e^{(-(2 * pi * i * k * l)) / 2^{n}})\n",
       "   core type: ExprTuple\n",
       "   sub-expressions: 2, 3\n",
       "2. 1 / sqrt((2^{n}))\n",
       "   core type: Operation\n",
       "   operator: 14\n",
       "   operands: 4\n",
       "3. e^{(-(2 * pi * i * k * l)) / 2^{n}}\n",
       "   core type: Operation\n",
       "   operator: 18\n",
       "   operands: 5\n",
       "4. (1, sqrt((2^{n})))\n",
       "   core type: ExprTuple\n",
       "   sub-expressions: 20, 6\n",
       "5. (e, (-(2 * pi * i * k * l)) / 2^{n})\n",
       "   core type: ExprTuple\n",
       "   sub-expressions: 7, 8\n",
       "6. sqrt((2^{n}))\n",
       "   core type: Operation\n",
       "   operator: 18\n",
       "   operands: 9\n",
       "7. e\n",
       "   core type: Literal\n",
       "   sub-expressions: \n",
       "8. (-(2 * pi * i * k * l)) / 2^{n}\n",
       "   core type: Operation\n",
       "   operator: 14\n",
       "   operands: 10\n",
       "9. (2^{n}, 1 / 2)\n",
       "   core type: ExprTuple\n",
       "   sub-expressions: 13, 11\n",
       "10. (-(2 * pi * i * k * l), 2^{n})\n",
       "    core type: ExprTuple\n",
       "    sub-expressions: 12, 13\n",
       "11. 1 / 2\n",
       "    core type: Operation\n",
       "    operator: 14\n",
       "    operands: 15\n",
       "12. -(2 * pi * i * k * l)\n",
       "    core type: Operation\n",
       "    operator: 16\n",
       "    operand: 17\n",
       "13. 2^{n}\n",
       "    core type: Operation\n",
       "    operator: 18\n",
       "    operands: 19\n",
       "14. /\n",
       "    core type: Literal\n",
       "    sub-expressions: \n",
       "15. (1, 2)\n",
       "    core type: ExprTuple\n",
       "    sub-expressions: 20, 24\n",
       "16. -\n",
       "    core type: Literal\n",
       "    sub-expressions: \n",
       "17. 2 * pi * i * k * l\n",
       "    core type: Operation\n",
       "    operator: 21\n",
       "    operands: 22\n",
       "18. Exp\n",
       "    core type: Literal\n",
       "    sub-expressions: \n",
       "19. (2, n)\n",
       "    core type: ExprTuple\n",
       "    sub-expressions: 24, 23\n",
       "20. 1\n",
       "    core type: Literal\n",
       "    sub-expressions: \n",
       "21. *\n",
       "    core type: Literal\n",
       "    sub-expressions: \n",
       "22. (2, pi, i, k, l)\n",
       "    core type: ExprTuple\n",
       "    sub-expressions: 24, 25, 26, 27, 28\n",
       "23. n\n",
       "    core type: Variable\n",
       "    sub-expressions: \n",
       "24. 2\n",
       "    core type: Literal\n",
       "    sub-expressions: \n",
       "25. pi\n",
       "    core type: Literal\n",
       "    sub-expressions: \n",
       "26. i\n",
       "    core type: Literal\n",
       "    sub-expressions: \n",
       "27. k\n",
       "    core type: Variable\n",
       "    sub-expressions: \n",
       "28. l\n",
       "    core type: Variable\n",
       "    sub-expressions: "
      ]
     },
     "execution_count": 5,
     "metadata": {},
     "output_type": "execute_result"
    }
   ],
   "source": [
    "# display the expression information\n",
    "expr.exprInfo()"
   ]
  },
  {
   "cell_type": "code",
   "execution_count": null,
   "metadata": {},
   "outputs": [],
   "source": []
  }
 ],
 "metadata": {
  "kernelspec": {
   "display_name": "Python 3",
   "language": "python",
   "name": "python3"
  },
  "language_info": {
   "codemirror_mode": {
    "name": "ipython",
    "version": 3
   },
   "file_extension": ".py",
   "mimetype": "text/x-python",
   "name": "python",
   "nbconvert_exporter": "python",
   "pygments_lexer": "ipython3",
   "version": "3.7.3"
  }
 },
 "nbformat": 4,
 "nbformat_minor": 1
}
