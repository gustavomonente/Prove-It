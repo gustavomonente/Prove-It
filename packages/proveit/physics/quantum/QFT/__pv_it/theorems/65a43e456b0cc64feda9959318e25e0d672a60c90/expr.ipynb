{
 "cells": [
  {
   "cell_type": "markdown",
   "metadata": {},
   "source": [
    "Expression of type <a class=\"ProveItLink\" href=\"../../../../../../../../doc/html/api/proveit.Conditional.html\">Conditional</a>\n",
    "=======================\n",
    "# from the theory of <a class=\"ProveItLink\" href=\"../../../_theory_nbs_/theory.ipynb\">proveit.physics.quantum.QFT</a>"
   ]
  },
  {
   "cell_type": "code",
   "execution_count": 1,
   "metadata": {},
   "outputs": [],
   "source": [
    "import proveit\n",
    "# Automation is not needed when building an expression:\n",
    "proveit.defaults.automation = False # This will speed things up.\n",
    "proveit.defaults.inline_pngs = False # Makes files smaller.\n",
    "%load_expr # Load the stored expression as 'stored_expr'\n",
    "# import Expression classes needed to build the expression\n",
    "from proveit import Conditional, n\n",
    "from proveit.linalg import SU\n",
    "from proveit.logic import InSet\n",
    "from proveit.numbers import Exp, NaturalPos, two\n",
    "from proveit.physics.quantum.QFT import InverseFourierTransform"
   ]
  },
  {
   "cell_type": "code",
   "execution_count": 2,
   "metadata": {},
   "outputs": [
    {
     "data": {
      "text/html": [
       "<strong id=\"expr\">expr:</strong> <a class=\"ProveItLink\" href=\"expr.ipynb\"><img src=\"expr.png\" style=\"display:inline;vertical-align:middle;\" /></a><br>"
      ],
      "text/plain": [
       "expr: {FT^{dag}(n) in SU(2^{n}) if n in NaturalPos."
      ]
     },
     "execution_count": 2,
     "metadata": {},
     "output_type": "execute_result"
    }
   ],
   "source": [
    "# build up the expression from sub-expressions\n",
    "expr = Conditional(InSet(InverseFourierTransform(n), SU(Exp(two, n))), InSet(n, NaturalPos))"
   ]
  },
  {
   "cell_type": "code",
   "execution_count": 3,
   "metadata": {},
   "outputs": [
    {
     "name": "stdout",
     "output_type": "stream",
     "text": [
      "Passed sanity check: expr matches stored_expr\n"
     ]
    }
   ],
   "source": [
    "# check that the built expression is the same as the stored expression\n",
    "assert expr == stored_expr\n",
    "assert expr._style_id == stored_expr._style_id\n",
    "print(\"Passed sanity check: expr matches stored_expr\")"
   ]
  },
  {
   "cell_type": "code",
   "execution_count": 4,
   "metadata": {},
   "outputs": [
    {
     "name": "stdout",
     "output_type": "stream",
     "text": [
      "\\left\\{{\\mathrm {FT}}^{\\dag}(n) \\in SU(2^{n}) \\textrm{ if } n \\in \\mathbb{N}^+\\right..\n"
     ]
    }
   ],
   "source": [
    "# Show the LaTeX representation of the expression for convenience if you need it.\n",
    "print(expr.latex())"
   ]
  },
  {
   "cell_type": "code",
   "execution_count": 5,
   "metadata": {},
   "outputs": [
    {
     "data": {
      "text/html": [
       "<table>\n",
       "<tr><th>name</th><th>description</th><th>default</th><th>current value</th><th>related methods</th></tr><tr><td>condition_delimiter</td><td>'comma' or 'and'</td><td>comma</td><td>comma</td><td>('with_comma_delimiter', 'with_conjunction_delimiter')</td></tr>\n",
       "</table>\n"
      ],
      "text/plain": [
       "style name: condition_delimiter\n",
       "description: 'comma' or 'and'\n",
       "default: comma\n",
       "current value: comma\n",
       "related methods: ('with_comma_delimiter', 'with_conjunction_delimiter')"
      ]
     },
     "execution_count": 5,
     "metadata": {},
     "output_type": "execute_result"
    }
   ],
   "source": [
    "expr.style_options()"
   ]
  },
  {
   "cell_type": "code",
   "execution_count": 6,
   "metadata": {},
   "outputs": [
    {
     "data": {
      "text/html": [
       "<table><tr><th>&nbsp;</th><th>core type</th><th>sub-expressions</th><th>expression</th></tr>\n",
       "<tr><td>0</td><td>Conditional</td><td>value:&nbsp;1<br>condition:&nbsp;2<br></td><td><a class=\"ProveItLink\" href=\"expr.ipynb\"><img src=\"expr.png\" style=\"display:inline;vertical-align:middle;\" /></a></td></tr>\n",
       "<tr><td>1</td><td>Operation</td><td>operator:&nbsp;4<br>operands:&nbsp;3<br></td><td><a class=\"ProveItLink\" href=\"../a31d9967030f5b8377d2045d6c69b18756d4a42d0/expr.ipynb\"><img src=\"../a31d9967030f5b8377d2045d6c69b18756d4a42d0/expr.png\" style=\"display:inline;vertical-align:middle;\" /></a></td></tr>\n",
       "<tr><td>2</td><td>Operation</td><td>operator:&nbsp;4<br>operands:&nbsp;5<br></td><td><a class=\"ProveItLink\" href=\"../ae59bd0f03e1fa8f7acebab16a13247bdc6eea470/expr.ipynb\"><img src=\"../ae59bd0f03e1fa8f7acebab16a13247bdc6eea470/expr.png\" style=\"display:inline;vertical-align:middle;\" /></a></td></tr>\n",
       "<tr><td>3</td><td>ExprTuple</td><td>6, 7</td><td><a class=\"ProveItLink\" href=\"../a40fada4478414389a54804e73e6d2aa606fca210/expr.ipynb\"><img src=\"../a40fada4478414389a54804e73e6d2aa606fca210/expr.png\" style=\"display:inline;vertical-align:middle;\" /></a></td></tr>\n",
       "<tr><td>4</td><td>Literal</td><td></td><td><a class=\"ProveItLink\" href=\"../../../../../../logic/sets/membership/__pv_it/common/7171deca84f71f47a6ec7696972d1632274a12880/expr.ipynb\"><img src=\"../../../../../../logic/sets/membership/__pv_it/common/7171deca84f71f47a6ec7696972d1632274a12880/expr.png\" style=\"display:inline;vertical-align:middle;\" /></a></td></tr>\n",
       "<tr><td>5</td><td>ExprTuple</td><td>17, 8</td><td><a class=\"ProveItLink\" href=\"../080dd91cc3570be1095df8a1115684c8dda0284e0/expr.ipynb\"><img src=\"../080dd91cc3570be1095df8a1115684c8dda0284e0/expr.png\" style=\"display:inline;vertical-align:middle;\" /></a></td></tr>\n",
       "<tr><td>6</td><td>Operation</td><td>operator:&nbsp;9<br>operand:&nbsp;17<br></td><td><a class=\"ProveItLink\" href=\"../cf84a1b4fa1962c776595f6079e9078f949ce1560/expr.ipynb\"><img src=\"../cf84a1b4fa1962c776595f6079e9078f949ce1560/expr.png\" style=\"display:inline;vertical-align:middle;\" /></a></td></tr>\n",
       "<tr><td>7</td><td>Operation</td><td>operator:&nbsp;11<br>operand:&nbsp;13<br></td><td><a class=\"ProveItLink\" href=\"../e0a80cf69481120dae19c96d15f831e6f98c2cdc0/expr.ipynb\"><img src=\"../e0a80cf69481120dae19c96d15f831e6f98c2cdc0/expr.png\" style=\"display:inline;vertical-align:middle;\" /></a></td></tr>\n",
       "<tr><td>8</td><td>Literal</td><td></td><td><a class=\"ProveItLink\" href=\"../../../../../../numbers/number_sets/natural_numbers/__pv_it/common/a2a7252783c385c028dad802e97575c19e456b990/expr.ipynb\"><img src=\"../../../../../../numbers/number_sets/natural_numbers/__pv_it/common/a2a7252783c385c028dad802e97575c19e456b990/expr.png\" style=\"display:inline;vertical-align:middle;\" /></a></td></tr>\n",
       "<tr><td>9</td><td>Literal</td><td></td><td><a class=\"ProveItLink\" href=\"../../common/046138515449814fb03f95f6fa315035ca6063ad0/expr.ipynb\"><img src=\"../../common/046138515449814fb03f95f6fa315035ca6063ad0/expr.png\" style=\"display:inline;vertical-align:middle;\" /></a></td></tr>\n",
       "<tr><td>10</td><td>ExprTuple</td><td>17</td><td><a class=\"ProveItLink\" href=\"../09c649a9f13f3b1b24d8ce3f1e924251eedcc0820/expr.ipynb\"><img src=\"../09c649a9f13f3b1b24d8ce3f1e924251eedcc0820/expr.png\" style=\"display:inline;vertical-align:middle;\" /></a></td></tr>\n",
       "<tr><td>11</td><td>Literal</td><td></td><td><a class=\"ProveItLink\" href=\"../../../../../../linalg/__pv_it/common/724831169fd6f671f86f127cecd34e6ec36b67550/expr.ipynb\"><img src=\"../../../../../../linalg/__pv_it/common/724831169fd6f671f86f127cecd34e6ec36b67550/expr.png\" style=\"display:inline;vertical-align:middle;\" /></a></td></tr>\n",
       "<tr><td>12</td><td>ExprTuple</td><td>13</td><td><a class=\"ProveItLink\" href=\"../41fe3513bf782f217229de6ba79a73acf9af49960/expr.ipynb\"><img src=\"../41fe3513bf782f217229de6ba79a73acf9af49960/expr.png\" style=\"display:inline;vertical-align:middle;\" /></a></td></tr>\n",
       "<tr><td>13</td><td>Operation</td><td>operator:&nbsp;14<br>operands:&nbsp;15<br></td><td><a class=\"ProveItLink\" href=\"../0e4ffb02b18e93efe7e72ed356c4fc2b1bce45d30/expr.ipynb\"><img src=\"../0e4ffb02b18e93efe7e72ed356c4fc2b1bce45d30/expr.png\" style=\"display:inline;vertical-align:middle;\" /></a></td></tr>\n",
       "<tr><td>14</td><td>Literal</td><td></td><td><a class=\"ProveItLink\" href=\"../../../../../../numbers/exponentiation/__pv_it/common/31d1b89e3c2fad7d997556c69b6be6425b6f59a40/expr.ipynb\"><img src=\"../../../../../../numbers/exponentiation/__pv_it/common/31d1b89e3c2fad7d997556c69b6be6425b6f59a40/expr.png\" style=\"display:inline;vertical-align:middle;\" /></a></td></tr>\n",
       "<tr><td>15</td><td>ExprTuple</td><td>16, 17</td><td><a class=\"ProveItLink\" href=\"../441ca801bbb2ff9f212dcc9e5fc64b6d7c66e5720/expr.ipynb\"><img src=\"../441ca801bbb2ff9f212dcc9e5fc64b6d7c66e5720/expr.png\" style=\"display:inline;vertical-align:middle;\" /></a></td></tr>\n",
       "<tr><td>16</td><td>Literal</td><td></td><td><a class=\"ProveItLink\" href=\"../../../../../../numbers/numerals/__pv_it/common/3829356ce3fdf8f35810c63c00bc1a19e838663e0/expr.ipynb\"><img src=\"../../../../../../numbers/numerals/__pv_it/common/3829356ce3fdf8f35810c63c00bc1a19e838663e0/expr.png\" style=\"display:inline;vertical-align:middle;\" /></a></td></tr>\n",
       "<tr><td>17</td><td>Variable</td><td></td><td><a class=\"ProveItLink\" href=\"../../../../../../__pv_it/common/6165c9bb82ce3c7097cdba4440a1aeeb6eaca8a40/expr.ipynb\"><img src=\"../../../../../../__pv_it/common/6165c9bb82ce3c7097cdba4440a1aeeb6eaca8a40/expr.png\" style=\"display:inline;vertical-align:middle;\" /></a></td></tr>\n",
       "</table>\n"
      ],
      "text/plain": [
       "0. {FT^{dag}(n) in SU(2^{n}) if n in NaturalPos.\n",
       "   core type: Conditional\n",
       "   value: 1\n",
       "   condition: 2\n",
       "1. FT^{dag}(n) in SU(2^{n})\n",
       "   core type: Operation\n",
       "   operator: 4\n",
       "   operands: 3\n",
       "2. n in NaturalPos\n",
       "   core type: Operation\n",
       "   operator: 4\n",
       "   operands: 5\n",
       "3. (FT^{dag}(n), SU(2^{n}))\n",
       "   core type: ExprTuple\n",
       "   sub-expressions: 6, 7\n",
       "4. in\n",
       "   core type: Literal\n",
       "   sub-expressions: \n",
       "5. (n, NaturalPos)\n",
       "   core type: ExprTuple\n",
       "   sub-expressions: 17, 8\n",
       "6. FT^{dag}(n)\n",
       "   core type: Operation\n",
       "   operator: 9\n",
       "   operand: 17\n",
       "7. SU(2^{n})\n",
       "   core type: Operation\n",
       "   operator: 11\n",
       "   operand: 13\n",
       "8. NaturalPos\n",
       "   core type: Literal\n",
       "   sub-expressions: \n",
       "9. FT^{dag}\n",
       "   core type: Literal\n",
       "   sub-expressions: \n",
       "10. (n)\n",
       "    core type: ExprTuple\n",
       "    sub-expressions: 17\n",
       "11. SU\n",
       "    core type: Literal\n",
       "    sub-expressions: \n",
       "12. (2^{n})\n",
       "    core type: ExprTuple\n",
       "    sub-expressions: 13\n",
       "13. 2^{n}\n",
       "    core type: Operation\n",
       "    operator: 14\n",
       "    operands: 15\n",
       "14. Exp\n",
       "    core type: Literal\n",
       "    sub-expressions: \n",
       "15. (2, n)\n",
       "    core type: ExprTuple\n",
       "    sub-expressions: 16, 17\n",
       "16. 2\n",
       "    core type: Literal\n",
       "    sub-expressions: \n",
       "17. n\n",
       "    core type: Variable\n",
       "    sub-expressions: "
      ]
     },
     "execution_count": 6,
     "metadata": {},
     "output_type": "execute_result"
    }
   ],
   "source": [
    "# display the expression information\n",
    "expr.expr_info()"
   ]
  },
  {
   "cell_type": "code",
   "execution_count": null,
   "metadata": {},
   "outputs": [],
   "source": []
  }
 ],
 "metadata": {
  "kernelspec": {
   "display_name": "Python 3",
   "language": "python",
   "name": "python3"
  }
 },
 "nbformat": 4,
 "nbformat_minor": 0
}