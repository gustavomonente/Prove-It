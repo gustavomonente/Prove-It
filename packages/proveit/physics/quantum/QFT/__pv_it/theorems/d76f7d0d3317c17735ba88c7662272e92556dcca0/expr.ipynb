{
 "cells": [
  {
   "cell_type": "markdown",
   "metadata": {},
   "source": [
    "Expression of type <a class=\"ProveItLink\" href=\"../../../../../../../../doc/html/api/proveit.logic.Equals.html\">Equals</a>\n",
    "=======================\n",
    "# from the theory of <a class=\"ProveItLink\" href=\"../../../_theory_nbs_/theory.ipynb\">proveit.physics.quantum.QFT</a>"
   ]
  },
  {
   "cell_type": "code",
   "execution_count": 1,
   "metadata": {},
   "outputs": [],
   "source": [
    "import proveit\n",
    "# Automation is not needed when building an expression:\n",
    "proveit.defaults.automation = False # This will speed things up.\n",
    "proveit.defaults.inline_pngs = False # Makes files smaller.\n",
    "%load_expr # Load the stored expression as 'stored_expr'\n",
    "# import Expression classes needed to build the expression\n",
    "from proveit import k, l, n\n",
    "from proveit.linalg import MatrixProd\n",
    "from proveit.logic import Equals\n",
    "from proveit.numbers import Exp, Mult, Neg, e, frac, i, one, pi, sqrt, two\n",
    "from proveit.physics.quantum import RegisterBra, RegisterKet\n",
    "from proveit.physics.quantum.QFT import InverseFourierTransform"
   ]
  },
  {
   "cell_type": "code",
   "execution_count": 2,
   "metadata": {},
   "outputs": [
    {
     "data": {
      "text/html": [
       "<strong id=\"expr\">expr:</strong> <a class=\"ProveItLink\" href=\"expr.ipynb\"><img src=\"expr.png\" style=\"display:inline;vertical-align:middle;\" /></a><br>"
      ],
      "text/plain": [
       "expr: ({n}_〈l| . FT^{dag}_{n} . |k〉_{n}) = ((1 / sqrt((2^{n}))) * e^{(-(2 * pi * i * k * l)) / 2^{n}})"
      ]
     },
     "execution_count": 2,
     "metadata": {},
     "output_type": "execute_result"
    }
   ],
   "source": [
    "# build up the expression from sub-expressions\n",
    "sub_expr1 = Exp(two, n)\n",
    "expr = Equals(MatrixProd(RegisterBra(l, n), InverseFourierTransform(n), RegisterKet(k, n)), Mult(frac(one, sqrt(sub_expr1)), Exp(e, frac(Neg(Mult(two, pi, i, k, l)), sub_expr1))))"
   ]
  },
  {
   "cell_type": "code",
   "execution_count": 3,
   "metadata": {},
   "outputs": [
    {
     "name": "stdout",
     "output_type": "stream",
     "text": [
      "Passed sanity check: expr matches stored_expr\n"
     ]
    }
   ],
   "source": [
    "# check that the built expression is the same as the stored expression\n",
    "assert expr == stored_expr\n",
    "assert expr._style_id == stored_expr._style_id\n",
    "print(\"Passed sanity check: expr matches stored_expr\")"
   ]
  },
  {
   "cell_type": "code",
   "execution_count": 4,
   "metadata": {},
   "outputs": [
    {
     "name": "stdout",
     "output_type": "stream",
     "text": [
      "\\left({_{n}}\\langle l \\rvert \\thinspace {\\mathrm {FT}}^{\\dag}_{n} \\thinspace \\lvert k \\rangle_{n}\\right) = \\left(\\frac{1}{\\sqrt{(2^{n})}} \\cdot \\mathsf{e}^{\\frac{-\\left(2 \\cdot \\pi \\cdot \\mathsf{i} \\cdot k \\cdot l\\right)}{2^{n}}}\\right)\n"
     ]
    }
   ],
   "source": [
    "# Show the LaTeX representation of the expression for convenience if you need it.\n",
    "print(expr.latex())"
   ]
  },
  {
   "cell_type": "code",
   "execution_count": 5,
   "metadata": {},
   "outputs": [
    {
     "data": {
      "text/html": [
       "<table><tr><th>&nbsp;</th><th>core type</th><th>sub-expressions</th><th>expression</th></tr>\n",
       "<tr><td>0</td><td>Operation</td><td>operator:&nbsp;1<br>operands:&nbsp;2<br></td><td><a class=\"ProveItLink\" href=\"expr.ipynb\"><img src=\"expr.png\" style=\"display:inline;vertical-align:middle;\" /></a></td></tr>\n",
       "<tr><td>1</td><td>Literal</td><td></td><td><a class=\"ProveItLink\" href=\"../../../../../../logic/equality/__pv_it/common/fb96dc12b2aa8801dda64d0132b396c63d1502bb0/expr.ipynb\"><img src=\"../../../../../../logic/equality/__pv_it/common/fb96dc12b2aa8801dda64d0132b396c63d1502bb0/expr.png\" style=\"display:inline;vertical-align:middle;\" /></a></td></tr>\n",
       "<tr><td>2</td><td>ExprTuple</td><td>3, 4</td><td><a class=\"ProveItLink\" href=\"../66daae3aaf9fba64b2197f778e2b3b17c30e05290/expr.ipynb\"><img src=\"../66daae3aaf9fba64b2197f778e2b3b17c30e05290/expr.png\" style=\"display:inline;vertical-align:middle;\" /></a></td></tr>\n",
       "<tr><td>3</td><td>Operation</td><td>operator:&nbsp;5<br>operands:&nbsp;6<br></td><td><a class=\"ProveItLink\" href=\"../18cf2a1d430ea3427479a7c87cded329f85d042e0/expr.ipynb\"><img src=\"../18cf2a1d430ea3427479a7c87cded329f85d042e0/expr.png\" style=\"display:inline;vertical-align:middle;\" /></a></td></tr>\n",
       "<tr><td>4</td><td>Operation</td><td>operator:&nbsp;35<br>operands:&nbsp;7<br></td><td><a class=\"ProveItLink\" href=\"../a3762ad3b061a9aca235bcbbd564c208f4b77dcc0/expr.ipynb\"><img src=\"../a3762ad3b061a9aca235bcbbd564c208f4b77dcc0/expr.png\" style=\"display:inline;vertical-align:middle;\" /></a></td></tr>\n",
       "<tr><td>5</td><td>Literal</td><td></td><td><a class=\"ProveItLink\" href=\"../../../../../../linalg/__pv_it/common/6cc7940f8f51b8cdf6da7a23d31dde75c39c32d20/expr.ipynb\"><img src=\"../../../../../../linalg/__pv_it/common/6cc7940f8f51b8cdf6da7a23d31dde75c39c32d20/expr.png\" style=\"display:inline;vertical-align:middle;\" /></a></td></tr>\n",
       "<tr><td>6</td><td>ExprTuple</td><td>8, 9, 10</td><td><a class=\"ProveItLink\" href=\"../c8c22521d7e8ff01eacc1962b7c8bf0b822d2f7d0/expr.ipynb\"><img src=\"../c8c22521d7e8ff01eacc1962b7c8bf0b822d2f7d0/expr.png\" style=\"display:inline;vertical-align:middle;\" /></a></td></tr>\n",
       "<tr><td>7</td><td>ExprTuple</td><td>11, 12</td><td><a class=\"ProveItLink\" href=\"../9df17ca07bf59a380c19f82081a27a3cbb0b795d0/expr.ipynb\"><img src=\"../9df17ca07bf59a380c19f82081a27a3cbb0b795d0/expr.png\" style=\"display:inline;vertical-align:middle;\" /></a></td></tr>\n",
       "<tr><td>8</td><td>Operation</td><td>operator:&nbsp;13<br>operands:&nbsp;14<br></td><td><a class=\"ProveItLink\" href=\"../0c15e29700915eed3be121a1cff616370cf2b61b0/expr.ipynb\"><img src=\"../0c15e29700915eed3be121a1cff616370cf2b61b0/expr.png\" style=\"display:inline;vertical-align:middle;\" /></a></td></tr>\n",
       "<tr><td>9</td><td>Operation</td><td>operator:&nbsp;15<br>operand:&nbsp;37<br></td><td><a class=\"ProveItLink\" href=\"../4349a8cfa714be9657df69a0bcbd84630a1a5f660/expr.ipynb\"><img src=\"../4349a8cfa714be9657df69a0bcbd84630a1a5f660/expr.png\" style=\"display:inline;vertical-align:middle;\" /></a></td></tr>\n",
       "<tr><td>10</td><td>Operation</td><td>operator:&nbsp;16<br>operands:&nbsp;17<br></td><td><a class=\"ProveItLink\" href=\"../ea2aa32ab2836e9f62088247bfb6b67b10ff059d0/expr.ipynb\"><img src=\"../ea2aa32ab2836e9f62088247bfb6b67b10ff059d0/expr.png\" style=\"display:inline;vertical-align:middle;\" /></a></td></tr>\n",
       "<tr><td>11</td><td>Operation</td><td>operator:&nbsp;28<br>operands:&nbsp;18<br></td><td><a class=\"ProveItLink\" href=\"../aff32f93213f616439b61f15585d40e9666070560/expr.ipynb\"><img src=\"../aff32f93213f616439b61f15585d40e9666070560/expr.png\" style=\"display:inline;vertical-align:middle;\" /></a></td></tr>\n",
       "<tr><td>12</td><td>Operation</td><td>operator:&nbsp;32<br>operands:&nbsp;19<br></td><td><a class=\"ProveItLink\" href=\"../93f4ab143765213766d2a079e0e282c0b6ea23cc0/expr.ipynb\"><img src=\"../93f4ab143765213766d2a079e0e282c0b6ea23cc0/expr.png\" style=\"display:inline;vertical-align:middle;\" /></a></td></tr>\n",
       "<tr><td>13</td><td>Literal</td><td></td><td><a class=\"ProveItLink\" href=\"../../../../__pv_it/common/f7edfe4b80796bcf443612cdb0374d913dee48710/expr.ipynb\"><img src=\"../../../../__pv_it/common/f7edfe4b80796bcf443612cdb0374d913dee48710/expr.png\" style=\"display:inline;vertical-align:middle;\" /></a></td></tr>\n",
       "<tr><td>14</td><td>ExprTuple</td><td>42, 37</td><td><a class=\"ProveItLink\" href=\"../e40cb895bdb4cebca71cee087375b3f6250bc1bb0/expr.ipynb\"><img src=\"../e40cb895bdb4cebca71cee087375b3f6250bc1bb0/expr.png\" style=\"display:inline;vertical-align:middle;\" /></a></td></tr>\n",
       "<tr><td>15</td><td>Literal</td><td></td><td><a class=\"ProveItLink\" href=\"../../common/435b6ace9516fa72bfa2318e4ae9eb79e9793f8e0/expr.ipynb\"><img src=\"../../common/435b6ace9516fa72bfa2318e4ae9eb79e9793f8e0/expr.png\" style=\"display:inline;vertical-align:middle;\" /></a></td></tr>\n",
       "<tr><td>16</td><td>Literal</td><td></td><td><a class=\"ProveItLink\" href=\"../../../../__pv_it/common/cd9881faa339a7f2d2853adc946fcfb5fb502bf50/expr.ipynb\"><img src=\"../../../../__pv_it/common/cd9881faa339a7f2d2853adc946fcfb5fb502bf50/expr.png\" style=\"display:inline;vertical-align:middle;\" /></a></td></tr>\n",
       "<tr><td>17</td><td>ExprTuple</td><td>41, 37</td><td><a class=\"ProveItLink\" href=\"../aeaf34a4c9726a6411da5f359b8865432e4e36790/expr.ipynb\"><img src=\"../aeaf34a4c9726a6411da5f359b8865432e4e36790/expr.png\" style=\"display:inline;vertical-align:middle;\" /></a></td></tr>\n",
       "<tr><td>18</td><td>ExprTuple</td><td>34, 20</td><td><a class=\"ProveItLink\" href=\"../8e6a3b213177f3a754cc5c806159f1b5d509aa2a0/expr.ipynb\"><img src=\"../8e6a3b213177f3a754cc5c806159f1b5d509aa2a0/expr.png\" style=\"display:inline;vertical-align:middle;\" /></a></td></tr>\n",
       "<tr><td>19</td><td>ExprTuple</td><td>21, 22</td><td><a class=\"ProveItLink\" href=\"../36a18920d32aea7f15ff0b4416cb23292e3021ec0/expr.ipynb\"><img src=\"../36a18920d32aea7f15ff0b4416cb23292e3021ec0/expr.png\" style=\"display:inline;vertical-align:middle;\" /></a></td></tr>\n",
       "<tr><td>20</td><td>Operation</td><td>operator:&nbsp;32<br>operands:&nbsp;23<br></td><td><a class=\"ProveItLink\" href=\"../9e8c1b4a613e83ee9c7982f71db5b0057f1a57c90/expr.ipynb\"><img src=\"../9e8c1b4a613e83ee9c7982f71db5b0057f1a57c90/expr.png\" style=\"display:inline;vertical-align:middle;\" /></a></td></tr>\n",
       "<tr><td>21</td><td>Literal</td><td></td><td><a class=\"ProveItLink\" href=\"../../../../../../numbers/number_sets/real_numbers/__pv_it/common/e531ffa54fd897084533764a4a14f19f590674f80/expr.ipynb\"><img src=\"../../../../../../numbers/number_sets/real_numbers/__pv_it/common/e531ffa54fd897084533764a4a14f19f590674f80/expr.png\" style=\"display:inline;vertical-align:middle;\" /></a></td></tr>\n",
       "<tr><td>22</td><td>Operation</td><td>operator:&nbsp;28<br>operands:&nbsp;24<br></td><td><a class=\"ProveItLink\" href=\"../f83da326af3b7fa4378ae61756ba5e4f6021e3bc0/expr.ipynb\"><img src=\"../f83da326af3b7fa4378ae61756ba5e4f6021e3bc0/expr.png\" style=\"display:inline;vertical-align:middle;\" /></a></td></tr>\n",
       "<tr><td>23</td><td>ExprTuple</td><td>27, 25</td><td><a class=\"ProveItLink\" href=\"../7c56c2e5ef07b76a6d6cb89ad10b4f3cab32d1af0/expr.ipynb\"><img src=\"../7c56c2e5ef07b76a6d6cb89ad10b4f3cab32d1af0/expr.png\" style=\"display:inline;vertical-align:middle;\" /></a></td></tr>\n",
       "<tr><td>24</td><td>ExprTuple</td><td>26, 27</td><td><a class=\"ProveItLink\" href=\"../d5cbc033787e136bb6e764a635e88fbca1bba61c0/expr.ipynb\"><img src=\"../d5cbc033787e136bb6e764a635e88fbca1bba61c0/expr.png\" style=\"display:inline;vertical-align:middle;\" /></a></td></tr>\n",
       "<tr><td>25</td><td>Operation</td><td>operator:&nbsp;28<br>operands:&nbsp;29<br></td><td><a class=\"ProveItLink\" href=\"../ed794d0dec5d34befefe372b8b03b9df7b69ac470/expr.ipynb\"><img src=\"../ed794d0dec5d34befefe372b8b03b9df7b69ac470/expr.png\" style=\"display:inline;vertical-align:middle;\" /></a></td></tr>\n",
       "<tr><td>26</td><td>Operation</td><td>operator:&nbsp;30<br>operand:&nbsp;31<br></td><td><a class=\"ProveItLink\" href=\"../a4009b2edfaf55356cb1be5e0f1c36ee88506bc00/expr.ipynb\"><img src=\"../a4009b2edfaf55356cb1be5e0f1c36ee88506bc00/expr.png\" style=\"display:inline;vertical-align:middle;\" /></a></td></tr>\n",
       "<tr><td>27</td><td>Operation</td><td>operator:&nbsp;32<br>operands:&nbsp;33<br></td><td><a class=\"ProveItLink\" href=\"../62ddedb359afcbc2c3beb49fc56836565e718bf30/expr.ipynb\"><img src=\"../62ddedb359afcbc2c3beb49fc56836565e718bf30/expr.png\" style=\"display:inline;vertical-align:middle;\" /></a></td></tr>\n",
       "<tr><td>28</td><td>Literal</td><td></td><td><a class=\"ProveItLink\" href=\"../../../../../../numbers/division/__pv_it/common/a2a633e1e3c749fb1f2692466b287b6348c5de840/expr.ipynb\"><img src=\"../../../../../../numbers/division/__pv_it/common/a2a633e1e3c749fb1f2692466b287b6348c5de840/expr.png\" style=\"display:inline;vertical-align:middle;\" /></a></td></tr>\n",
       "<tr><td>29</td><td>ExprTuple</td><td>34, 38</td><td><a class=\"ProveItLink\" href=\"../95fdce2c03f4c1a2c47c63453ccf25285abc1a5c0/expr.ipynb\"><img src=\"../95fdce2c03f4c1a2c47c63453ccf25285abc1a5c0/expr.png\" style=\"display:inline;vertical-align:middle;\" /></a></td></tr>\n",
       "<tr><td>30</td><td>Literal</td><td></td><td><a class=\"ProveItLink\" href=\"../../../../../../numbers/negation/__pv_it/common/221b3c4d1770ee9051b7c044c3f9ec61196fc34b0/expr.ipynb\"><img src=\"../../../../../../numbers/negation/__pv_it/common/221b3c4d1770ee9051b7c044c3f9ec61196fc34b0/expr.png\" style=\"display:inline;vertical-align:middle;\" /></a></td></tr>\n",
       "<tr><td>31</td><td>Operation</td><td>operator:&nbsp;35<br>operands:&nbsp;36<br></td><td><a class=\"ProveItLink\" href=\"../7709cc54017b186cb4f41e8ea1e49a78e3342ddf0/expr.ipynb\"><img src=\"../7709cc54017b186cb4f41e8ea1e49a78e3342ddf0/expr.png\" style=\"display:inline;vertical-align:middle;\" /></a></td></tr>\n",
       "<tr><td>32</td><td>Literal</td><td></td><td><a class=\"ProveItLink\" href=\"../../../../../../numbers/exponentiation/__pv_it/common/0ac37aca1e54c35c5cda09672df32d4f69f1f3020/expr.ipynb\"><img src=\"../../../../../../numbers/exponentiation/__pv_it/common/0ac37aca1e54c35c5cda09672df32d4f69f1f3020/expr.png\" style=\"display:inline;vertical-align:middle;\" /></a></td></tr>\n",
       "<tr><td>33</td><td>ExprTuple</td><td>38, 37</td><td><a class=\"ProveItLink\" href=\"../3ddaaad7817fb467585d7032c35b8143c9bd698b0/expr.ipynb\"><img src=\"../3ddaaad7817fb467585d7032c35b8143c9bd698b0/expr.png\" style=\"display:inline;vertical-align:middle;\" /></a></td></tr>\n",
       "<tr><td>34</td><td>Literal</td><td></td><td><a class=\"ProveItLink\" href=\"../../../../../../numbers/numerals/__pv_it/common/2778428c7f555b2bdc06aa0530bc142c6e6335100/expr.ipynb\"><img src=\"../../../../../../numbers/numerals/__pv_it/common/2778428c7f555b2bdc06aa0530bc142c6e6335100/expr.png\" style=\"display:inline;vertical-align:middle;\" /></a></td></tr>\n",
       "<tr><td>35</td><td>Literal</td><td></td><td><a class=\"ProveItLink\" href=\"../../../../../../numbers/multiplication/__pv_it/common/ed719cef37831779c16481533a4d380a2f95ab270/expr.ipynb\"><img src=\"../../../../../../numbers/multiplication/__pv_it/common/ed719cef37831779c16481533a4d380a2f95ab270/expr.png\" style=\"display:inline;vertical-align:middle;\" /></a></td></tr>\n",
       "<tr><td>36</td><td>ExprTuple</td><td>38, 39, 40, 41, 42</td><td><a class=\"ProveItLink\" href=\"../bce802c4c224818b13d7fc1b7427748b5e3f60480/expr.ipynb\"><img src=\"../bce802c4c224818b13d7fc1b7427748b5e3f60480/expr.png\" style=\"display:inline;vertical-align:middle;\" /></a></td></tr>\n",
       "<tr><td>37</td><td>Variable</td><td></td><td><a class=\"ProveItLink\" href=\"../../../../../../__pv_it/common/8968bb04eb3f7dfa02353397ce929b025bbd79c20/expr.ipynb\"><img src=\"../../../../../../__pv_it/common/8968bb04eb3f7dfa02353397ce929b025bbd79c20/expr.png\" style=\"display:inline;vertical-align:middle;\" /></a></td></tr>\n",
       "<tr><td>38</td><td>Literal</td><td></td><td><a class=\"ProveItLink\" href=\"../../../../../../numbers/numerals/__pv_it/common/ba3b059982e8b49413dc653e957beb11e974e4bc0/expr.ipynb\"><img src=\"../../../../../../numbers/numerals/__pv_it/common/ba3b059982e8b49413dc653e957beb11e974e4bc0/expr.png\" style=\"display:inline;vertical-align:middle;\" /></a></td></tr>\n",
       "<tr><td>39</td><td>Literal</td><td></td><td><a class=\"ProveItLink\" href=\"../../../../../../numbers/number_sets/real_numbers/__pv_it/common/246c206266ac5b48800e508d580f91767b24c2df0/expr.ipynb\"><img src=\"../../../../../../numbers/number_sets/real_numbers/__pv_it/common/246c206266ac5b48800e508d580f91767b24c2df0/expr.png\" style=\"display:inline;vertical-align:middle;\" /></a></td></tr>\n",
       "<tr><td>40</td><td>Literal</td><td></td><td><a class=\"ProveItLink\" href=\"../../../../../../numbers/number_sets/complex_numbers/__pv_it/common/6c9cc69d472f352324c298b2318df233e9a7e0250/expr.ipynb\"><img src=\"../../../../../../numbers/number_sets/complex_numbers/__pv_it/common/6c9cc69d472f352324c298b2318df233e9a7e0250/expr.png\" style=\"display:inline;vertical-align:middle;\" /></a></td></tr>\n",
       "<tr><td>41</td><td>Variable</td><td></td><td><a class=\"ProveItLink\" href=\"../../../../../../__pv_it/common/63b7c64bf9ec7a04ecc396c7a1670f3f12fb59490/expr.ipynb\"><img src=\"../../../../../../__pv_it/common/63b7c64bf9ec7a04ecc396c7a1670f3f12fb59490/expr.png\" style=\"display:inline;vertical-align:middle;\" /></a></td></tr>\n",
       "<tr><td>42</td><td>Variable</td><td></td><td><a class=\"ProveItLink\" href=\"../../../../../../__pv_it/common/27cc275d44b4f4499fb9ccfb3fab1a98165d2fa60/expr.ipynb\"><img src=\"../../../../../../__pv_it/common/27cc275d44b4f4499fb9ccfb3fab1a98165d2fa60/expr.png\" style=\"display:inline;vertical-align:middle;\" /></a></td></tr>\n",
       "</table>\n"
      ],
      "text/plain": [
       "0. ({n}_〈l| . FT^{dag}_{n} . |k〉_{n}) = ((1 / sqrt((2^{n}))) * e^{(-(2 * pi * i * k * l)) / 2^{n}})\n",
       "   core type: Operation\n",
       "   operator: 1\n",
       "   operands: 2\n",
       "1. =\n",
       "   core type: Literal\n",
       "   sub-expressions: \n",
       "2. ({n}_〈l| . FT^{dag}_{n} . |k〉_{n}, (1 / sqrt((2^{n}))) * e^{(-(2 * pi * i * k * l)) / 2^{n}})\n",
       "   core type: ExprTuple\n",
       "   sub-expressions: 3, 4\n",
       "3. {n}_〈l| . FT^{dag}_{n} . |k〉_{n}\n",
       "   core type: Operation\n",
       "   operator: 5\n",
       "   operands: 6\n",
       "4. (1 / sqrt((2^{n}))) * e^{(-(2 * pi * i * k * l)) / 2^{n}}\n",
       "   core type: Operation\n",
       "   operator: 35\n",
       "   operands: 7\n",
       "5. .\n",
       "   core type: Literal\n",
       "   sub-expressions: \n",
       "6. ({n}_〈l|, FT^{dag}_{n}, |k〉_{n})\n",
       "   core type: ExprTuple\n",
       "   sub-expressions: 8, 9, 10\n",
       "7. (1 / sqrt((2^{n})), e^{(-(2 * pi * i * k * l)) / 2^{n}})\n",
       "   core type: ExprTuple\n",
       "   sub-expressions: 11, 12\n",
       "8. {n}_〈l|\n",
       "   core type: Operation\n",
       "   operator: 13\n",
       "   operands: 14\n",
       "9. FT^{dag}_{n}\n",
       "   core type: Operation\n",
       "   operator: 15\n",
       "   operand: 37\n",
       "10. |k〉_{n}\n",
       "    core type: Operation\n",
       "    operator: 16\n",
       "    operands: 17\n",
       "11. 1 / sqrt((2^{n}))\n",
       "    core type: Operation\n",
       "    operator: 28\n",
       "    operands: 18\n",
       "12. e^{(-(2 * pi * i * k * l)) / 2^{n}}\n",
       "    core type: Operation\n",
       "    operator: 32\n",
       "    operands: 19\n",
       "13. REGISTER_BRA\n",
       "    core type: Literal\n",
       "    sub-expressions: \n",
       "14. (l, n)\n",
       "    core type: ExprTuple\n",
       "    sub-expressions: 42, 37\n",
       "15. FT^{dag}\n",
       "    core type: Literal\n",
       "    sub-expressions: \n",
       "16. REGISTER_KET\n",
       "    core type: Literal\n",
       "    sub-expressions: \n",
       "17. (k, n)\n",
       "    core type: ExprTuple\n",
       "    sub-expressions: 41, 37\n",
       "18. (1, sqrt((2^{n})))\n",
       "    core type: ExprTuple\n",
       "    sub-expressions: 34, 20\n",
       "19. (e, (-(2 * pi * i * k * l)) / 2^{n})\n",
       "    core type: ExprTuple\n",
       "    sub-expressions: 21, 22\n",
       "20. sqrt((2^{n}))\n",
       "    core type: Operation\n",
       "    operator: 32\n",
       "    operands: 23\n",
       "21. e\n",
       "    core type: Literal\n",
       "    sub-expressions: \n",
       "22. (-(2 * pi * i * k * l)) / 2^{n}\n",
       "    core type: Operation\n",
       "    operator: 28\n",
       "    operands: 24\n",
       "23. (2^{n}, 1 / 2)\n",
       "    core type: ExprTuple\n",
       "    sub-expressions: 27, 25\n",
       "24. (-(2 * pi * i * k * l), 2^{n})\n",
       "    core type: ExprTuple\n",
       "    sub-expressions: 26, 27\n",
       "25. 1 / 2\n",
       "    core type: Operation\n",
       "    operator: 28\n",
       "    operands: 29\n",
       "26. -(2 * pi * i * k * l)\n",
       "    core type: Operation\n",
       "    operator: 30\n",
       "    operand: 31\n",
       "27. 2^{n}\n",
       "    core type: Operation\n",
       "    operator: 32\n",
       "    operands: 33\n",
       "28. /\n",
       "    core type: Literal\n",
       "    sub-expressions: \n",
       "29. (1, 2)\n",
       "    core type: ExprTuple\n",
       "    sub-expressions: 34, 38\n",
       "30. -\n",
       "    core type: Literal\n",
       "    sub-expressions: \n",
       "31. 2 * pi * i * k * l\n",
       "    core type: Operation\n",
       "    operator: 35\n",
       "    operands: 36\n",
       "32. Exp\n",
       "    core type: Literal\n",
       "    sub-expressions: \n",
       "33. (2, n)\n",
       "    core type: ExprTuple\n",
       "    sub-expressions: 38, 37\n",
       "34. 1\n",
       "    core type: Literal\n",
       "    sub-expressions: \n",
       "35. *\n",
       "    core type: Literal\n",
       "    sub-expressions: \n",
       "36. (2, pi, i, k, l)\n",
       "    core type: ExprTuple\n",
       "    sub-expressions: 38, 39, 40, 41, 42\n",
       "37. n\n",
       "    core type: Variable\n",
       "    sub-expressions: \n",
       "38. 2\n",
       "    core type: Literal\n",
       "    sub-expressions: \n",
       "39. pi\n",
       "    core type: Literal\n",
       "    sub-expressions: \n",
       "40. i\n",
       "    core type: Literal\n",
       "    sub-expressions: \n",
       "41. k\n",
       "    core type: Variable\n",
       "    sub-expressions: \n",
       "42. l\n",
       "    core type: Variable\n",
       "    sub-expressions: "
      ]
     },
     "execution_count": 5,
     "metadata": {},
     "output_type": "execute_result"
    }
   ],
   "source": [
    "# display the expression information\n",
    "expr.expr_info()"
   ]
  },
  {
   "cell_type": "code",
   "execution_count": null,
   "metadata": {},
   "outputs": [],
   "source": []
  }
 ],
 "metadata": {
  "kernelspec": {
   "display_name": "Python 3",
   "language": "python",
   "name": "python3"
  }
 },
 "nbformat": 4,
 "nbformat_minor": 0
}