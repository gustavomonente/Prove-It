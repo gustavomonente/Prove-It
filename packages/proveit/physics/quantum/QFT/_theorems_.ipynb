{
 "cells": [
  {
   "cell_type": "markdown",
   "metadata": {},
   "source": [
    "Theorems for context <a class=\"ProveItLink\" href=\"_context_.ipynb\">proveit.physics.quantum.QFT</a>\n",
    "========"
   ]
  },
  {
   "cell_type": "code",
   "execution_count": 1,
   "metadata": {},
   "outputs": [],
   "source": [
    "import proveit\n",
    "# Automation is not needed when building theorem expressions:\n",
    "proveit.defaults.automation = False # This will speed things up.\n",
    "from proveit._common_ import k, l, n\n",
    "from proveit.linalg import MatrixProd, SU\n",
    "from proveit.logic import Equals, Forall, InSet\n",
    "from proveit.number import zero, one, two, e, i, pi\n",
    "from proveit.number import Exp, frac, Interval, Mult, Neg, sqrt, subtract\n",
    "from proveit.number import NaturalsPos\n",
    "from proveit.physics.quantum import RegisterKet, RegisterBra\n",
    "from proveit.physics.quantum.QFT import InverseFourierTransform\n",
    "# the context is in the current directory:\n",
    "context = proveit.Context('.') # adds context root to sys.path if necessary"
   ]
  },
  {
   "cell_type": "code",
   "execution_count": 2,
   "metadata": {},
   "outputs": [
    {
     "name": "stdout",
     "output_type": "stream",
     "text": [
      "Defining theorems for context 'proveit.physics.quantum.QFT'\n",
      "Subsequent end-of-cell assignments will define theorems\n",
      "'%end theorems' will finalize the definitions\n"
     ]
    }
   ],
   "source": [
    "%begin theorems"
   ]
  },
  {
   "cell_type": "code",
   "execution_count": 3,
   "metadata": {},
   "outputs": [
    {
     "data": {
      "text/html": [
       "<strong id=\"invFTinSU\"><a class=\"ProveItLink\" href=\"_proofs_/invFTinSU.ipynb\">invFTinSU</a>:</strong> <a class=\"ProveItLink\" href=\"__pv_it/5781ed99ecf4271f3931e71dc44b8d6116e241480/expr.ipynb\"><img src=\"data:image/png;base64,iVBORw0KGgoAAAANSUhEUgAAAOwAAAAmBAMAAAA1jmr1AAAAMFBMVEX///8QEBCIiIhmZma6urrM\n",
       "zMxUVFQiIiJERETc3Nzu7u6qqqp2dnaYmJgyMjIAAAAcRTyBAAAAAXRSTlMAQObYZgAABFFJREFU\n",
       "WMOtmF1oFFcUx/87O7O7MzuziQ9pUalJ9UEJJS6GKohKgtAHC+3gQx9KwbVW09IHUyJoQDRNQFdC\n",
       "y1YoiiAZfWjE0jYQFtqH0tGotNbilqSF0q/FUh8KNRtb40cq23vv3PnKrNtbnAuZvXvmzPzuPefc\n",
       "c84GEBo/I7ahFYRVpWp8WLwgrNlrxYiVRLertSHO8aegXqoQK/Y9QdvtKEVErz0GVnQXNxErVnkg\n",
       "pKbej8quPo6VbwhpJaPH592R5f8TNf3dyrw7/1boiURHVNYZCYuu3xcJftnHPk4732aewlLgMzYf\n",
       "60H1v5PQmEn80VfftX72Adpv7ry7Z7YfuyNal+hl8po9o/bNjSJTv+FItCFo3UVTPdsP4tIUC86E\n",
       "ja/p5x9Nsb+yOLhH/trIiqWHUFox2hCbqeBcDfrfZLqSLyRXwgdUkuqQW8ki2C5TVZykMTPUFLuB\n",
       "xdU8ufyo5SkWhUdguwGjilyNTDdy7DSbLkHCTNrEahdZnqohR5ykTzTFHvCwZ9UKw3biTfemcXT/\n",
       "IRer3QHkDrTQXRQ4dhB4EthbGkP6eYI9Q2XZ+zCunj9/onlI/cWxqqWrJsO+7J1bZdjydyuTW4qJ\n",
       "F0kIaraDVfuBWQt7zecgfUNt3kMfWgDuFYsHG7Bsf3qbYw0WDxQLPMvvfWwFjKzVL9PZdbIro8fB\n",
       "Ss6pOeyq6fS7Rl5BYvJYA2zeLwQPOTYTwH7Fb74R8u3a+jzReYuedT/IyJD/8XxS5RvZysPrkVjV\n",
       "wc6tbw9gO/nNoRBW+759GTQaBSkuSbOwSXtZONtPr2QVaUiVYMIcuISnC0Es9QTbbSqA5cVBWXGL\n",
       "DP/cIrmALFU4ziUJ6ksa4e7Lajxa9EraE344tRmf6lbSmuoe6J5YjA361rVEaLckHrQF6He4Ezys\n",
       "lI9i1epLnuFHT1n4vCOvNzLyvNscBLFoDWBpl0Sqi15zzo9v5EmobumUqZE16upj5DAYm7evom4m\n",
       "o1w+HsZqt5tg1wWwWbKGpI2smwTdkFJsSKVgSLGNTJIFGL2VRMnJz2X9o1dCWLAwVEJYr56kJ3xs\n",
       "cgC4Qma/Qd3tepsemBPXpvq8ama7bmshp/vUarRYGntTGfZUGPsEXeCG+ghb8da350ZMXk+oKV7f\n",
       "5mPlXXvoKvQj67wgo0adrdfvuu/KmVRIk7ZBj/Kr6IVyoFgcJtjTNMbMQHGNFn6nnjBnfeknx0Y1\n",
       "aTAsG2eW9tqLNmxSWBwQrLw9rHqhQTvE6kkUEpVMh2WsFOjus2oN+8pgqW0G+Cms+kW00+P1RACb\n",
       "CbV/TmbKudlDLuCZCjLEM/KhHpZiAuOTSrTyO/VEAKuFiqqziMUvXEN8Gx2ZaIPJ60lwrF7c1HSF\n",
       "mhpn/OCYryTSSxmtiHdsEfstshAzVrDr7IqXKglaL2HGik1UxPSMaqxYYeMNx0lVl4pqjsdp5fEJ\n",
       "4QUOxoh9R1z1/Rj/ZUL7jX8BgIU7XIxZKAIAAAAASUVORK5CYII=\n",
       "\" style=\"display:inline;vertical-align:middle;\" /></a><br>"
      ],
      "text/plain": [
       "invFTinSU: forall_{n in NaturalsPos} (FT^{dag}_{n} in [SU](2^{n}))"
      ]
     },
     "execution_count": 3,
     "metadata": {},
     "output_type": "execute_result"
    }
   ],
   "source": [
    "invFTinSU = Forall(\n",
    "    n,\n",
    "    InSet(InverseFourierTransform(n), SU(Exp(two, n))),\n",
    "    domain=NaturalsPos)"
   ]
  },
  {
   "cell_type": "code",
   "execution_count": 4,
   "metadata": {},
   "outputs": [
    {
     "data": {
      "text/html": [
       "<strong id=\"invFTonMatrixElem\"><a class=\"ProveItLink\" href=\"_proofs_/invFTonMatrixElem.ipynb\">invFTonMatrixElem</a>:</strong> <a class=\"ProveItLink\" href=\"__pv_it/1017482ad1ded4fe017b34c17a9a9b29ef054c280/expr.ipynb\"><img src=\"data:image/png;base64,iVBORw0KGgoAAAANSUhEUgAAAscAAAA/BAMAAAD+hnhAAAAAMFBMVEX///8QEBCIiIhmZma6urrM\n",
       "zMxUVFQiIiJERETc3Nzu7u6qqqp2dnaYmJgyMjIAAAAcRTyBAAAAAXRSTlMAQObYZgAAC7NJREFU\n",
       "eNrVnA2MFFcdwP/7MTu7szt7l2pjARsWLm0pgqy5YqFCu4T4ETHegkkhhngLAWJrA0uLaG31Vojm\n",
       "gCgD1YDE5paihNDCnrZn2xztrT00tsWwFoxtpHKmfgQb6Vk44Pha33vz3syb29mZ3Z09mHnJzezM\n",
       "vPnPzu+99/96bw/AtgTL5etwc8pbnpMdTNIPC+l+e7ncW8t9V/pfuDmMo1nvyd5E9+GEul/UP1AT\n",
       "5OGb1I9hR9p7svem1L30UXbG527Ij3pQdnAC/bBA8QTk2JAXZd9P94EhT0DuSXlRdoEyla54AnK3\n",
       "J2XHWumH33oBcnTUk7KlD1mXTngAcjznTdnH87RLX/YA5M6SN2X3UNmRax6AvO7Gyo5ObNYoYW7F\n",
       "WfdDli7cUNn7f3+5ScL9TN/PUlwPWT5/Y2XLzYIsXWWWr+h6yGHtsXLjCnS/new6IQfTwrEtvGrQ\n",
       "w45dJT+1eH9nF1tdD7lFcwA+6SDIHbKRXSfknRCGpXyvJdqcZN7CaaAZuOM0LRIbcT3kjiJ7vhOL\n",
       "dKe17HohZ1DfLYw9GSAUfQD9VDp1kIMfuh7ycRb47nWSL4uXLGXXCVnCffVFzGT9+o24D0/FZ8Wf\n",
       "nEDb3QAhqovpOJEuuR7yB1TDwRonUiITLWXXCTmI+qh0BtON+YmiIKl53zuH0PYU0hhqLZEF1utd\n",
       "D/ki3Qu1RMCrql5ZYyW7Dsj72tvbe2XEa38edqHDAODdaohk4ctteHsPNYOoQ7NvvE5xOeTIJTbg\n",
       "M44gd+YtZDfQk6X7nsPm7q8itnpSNgV5mBp/Fm2zvawn+68xR7nkcsjRcyxKVWqo/UZ1pZywkF23\n",
       "Ts6AWCbD4OEQsRQrcRPOlY+i7WsK08kyc5RPF10O2c+SWfdzJ0nPECr75o83TyL7r9Jj7rXkVgvZ\n",
       "hpO1eRdWhXoXQRZPdmRcDjnAct636OcE8qVjJq7BdBX8UXp4D6cazlvI5s+tuD6/Fj/ZqlA/OcIm\n",
       "93uGKGSyf9cOsn2tZpcQhRMZ4UCk4K4RAvnBrgvta8t53/U1kzeuvYgNEIN84GNo/yAn6OPVZTcQ\n",
       "3KSsBh8bYv9jMU8rhfwm3v/HDrJ9rWaXODXRMjeORHJIenIn8kUXp30KNi6LAbZpkOE9taJW1laX\n",
       "XU/8Wa6pqJUn05t8wxTybtxbcnaQ7Ws1u/ioigxw6yOOoMOcCrkHaQ65dx+x4CEDZKwK/FwIMqu6\n",
       "bAdl+R8U+TPvFs0vTs7zz0GQ4+hErNcOsn2tpqcuaA8Wuabdgr5xQocsJZ4mkNEw/YYGOYhfTOJS\n",
       "FgNKVdkOSk7IRqdBlQUyXfSR4iiFLL9x8OAuW8NnX2u8ILckdRuG0PWkNch7oPhTAhm5G6s0yLEs\n",
       "bQ7NUe4dD8hD0jCsFnI1QoZL3d1P2nsXtrXGDbLu58aQEjgNGuR3OId/tgY5noyeULBiYaVQcgr5\n",
       "ualzTXztLGT9J6tkBGi2JT7CIK82tLtWikbIVWqNP2SOETZnX9chb+Egv65BLvTe3VHiLZ/aSrGz\n",
       "pCQbgBx8HH5eefawImWifzS/YzuFHNYgLzRosLE+H4Os1pqid6vlSBe+prfE4GZjiLAMYIk6Tvez\n",
       "NxLQV5oxQ++Xc+4z3IHGnvAJrgPSIKJHh7xQ9ZpVyB9ZMcpBnq5BHngmf4g4exrkSutUaK2RL0kX\n",
       "7+2VZldeedjitu306eHzDLJosMUgPHYUpmQqIKu1xBSf3ToFv9GIKSFDS33lXrR5RL2dWYcdeZCL\n",
       "US1met3oXAntqF6oWAGCU6mz1WwR68kPcZAVDfKnknrYMlapj5HdYuuNFfBLrXhrZmWMue9gsR7I\n",
       "sZI+tp4dnA8vxfKBfAVktVYBP0060l6CKHr8BmhhTxcVYdTg0nwe/b2q8k+qcvEhaiTNe3ocOpUT\n",
       "r5zSH4MgR/WWKgxXQJ6JfLNWc50MGuSN0/BoixYtIdeqLkTcVqYTul3lbD2QI0NafCRv25OHVxLJ\n",
       "GAy2P9bey0NWa2F08PbLBwkOaUQPy8VU5LzBpdEhh0uqXHxYSMMkVmMD9KR+nROrQWZ6k6iLE3+e\n",
       "ilAdRsIyed2FM4MsnSdxdFih97DpTKqTMw3o5Kt125NKwwdbkP8jz1/SRleH9/XtjFXqZFILBoU7\n",
       "6VpyhAMNXVF/w+hlg0ujQ25R6KpzdNipwHc5DzYfSi+zg0wWO528HSYQci2lojVkeVi6EiPBk3qP\n",
       "Qak35l0gr8rvGPLz6O3kBSUUopJX7IsdWm4CGdeC/75QyKuZaQz5Moi6IUQfeZdGh7yYZj4I5Dy/\n",
       "LvhRpOlnpmwgY7sVeSaL1QzSAS1fpMFIpwEy67VHIZSDkRhOA9B7avOTA1UjZMDzuNLc+iB3Ucii\n",
       "Dhn7OHvuQvqVzGBBHxQHTSATT+gCunufmmMp4p7s0yEPgsGlwZD3EnM0TZ0ZI3YQ9WQ9qYaU9X44\n",
       "UuIhSxMqQl8fphlKBLGtyoI8T9XJT3VdIi8enDP5ttl6rz0K4V5om45rsnugI2UfVu+2TLrOrzcz\n",
       "VhmMgIyt10pYAMK3u7s3IchPiyaQcS3hlm0AS7u7uxPCZsA6uUV7AZnWD6Kr3VtVyAIJXzZRucuS\n",
       "RCfrCbATdP8FfEte9UKWagZLpCDCuHP70oFimmUwK1OdWq9lqU6s0ug9cLrSNRDHQl7VXB+/IkFE\n",
       "y60wT1BT0n0QXIJ2aZN8sj+3OELT/9jZ4rwL+BJ81vAcvSffmqap7keM3kWwGDRMQ4/pyWGa4iTL\n",
       "fXtAXJRmHc4kn8x6LYOMpy3oPdoyYa6ER8Y00lBzIZcNakmDHBmGDX3wO/zxJJl4NU3ahxNL/RBL\n",
       "U50MbchP3p2PbEUb4f3+rYabXlSVMLo4nFDl4kN/Mpoh9dHma/0v5cfEqbxOZon1KG6Vz4Efa6J4\n",
       "vgpk1msZ5MP6PfAv+6Q9Dl0ivH2MKk4YS2yetpA1QA5mYEYJKzQIfi/F5qoqIMeV0B00rYhx+I8l\n",
       "YbEiTEAbX7lsMCZPda0kVIVJMC9F5Kp2cMYgkPpoM5mzLbiZ772Q4CGz2Ujpml5HTlSBzHotg8z9\n",
       "Ro+/f6xs4NrkALI2c37AzjzkBLLA5mk7c0Z1oZZp3ZuqJIj4r4h0Mo+jasFUo7rcV+3v4KRGmXv6\n",
       "Qw4YueyvXOzCeu0d9JgbVWZr6qNjXF88JXEGz5IeT6m+LMHecNHmaQeSZpCrZ+EscFhCftl4WDtk\n",
       "gQVaf3KmHwMmX1QwBnG47ZDhRnGur1X1ZSGWcPDIpi0J4ExU1YJzF5ym22uv6LjcBbDZyIKzuQLT\n",
       "VzT+jBmnUEUFfFkIjRJfFr1eq5N2ZXb1gbQzyLDTdj3r8jHCIzNtldmbvLPJ+oUz0z/F1JE1enRA\n",
       "VgPFL0NohPiyqPzDwSPjDNgH4BDyuJcH0pp36aTcbimbJZ6gjTnQxJfFsZWDVDhL4Vx0PeQBNlT+\n",
       "5kSK+TgYMAxDzORH5FNHUfVlnT20kwZmwjnXQy5kNO/cgZQdiqVs7Hj7sfwnyOFG6suqfn6jZRal\n",
       "6r/iesgiG3TSNx3EBU9Yyt5VpCoZyG/6A3ouodPBN2c/rQoNux5yTHNwdzUef4VLVrKDb2Mn4pQG\n",
       "uQ2aAvk25tjkXA85oq0KjDS+1P4X1rKD2KP9DlB1EU3Cz/jcS4MlyNzkjpLrIcO/b4Dsb7GZKmz4\n",
       "lgPcDc6tbYjlwNbl3Q/5dHr8Zc9K0awTctkiTx77tDZ/Ns+BB8c0+zlwP2STufymy0ZuxvNMPcTL\n",
       "ZX129J/OG1Ae8QDk2MTxlx0YhTOqv2E0rpKDfwN1lgV+Qx6AbLayuNmyI1eDqsssGxcOOEgQBVnm\n",
       "oiPtBcgmE0dNl/39MO3CxkVoDlKdcdZc74EXIMeL4y+7g/0E7YDhsoN1f7+izaf9awd3QxZGx1+2\n",
       "yAa3YfpJdjD9xDJSvpInIMNfxl+2P9dkuSGWFtF+pelyyKGk92SzjiFn64N88/4h6vuekx1hM0Ys\n",
       "/VfjP0SV+m/WP0SFX3pOdoRpc5YFWdTfn/8/NsUS3YyMYBoAAAAASUVORK5CYII=\n",
       "\" style=\"display:inline;vertical-align:middle;\" /></a><br>"
      ],
      "text/plain": [
       "invFTonMatrixElem: forall_{n in NaturalsPos} [forall_{k in {0...2^{n} - 1}, l in {0...2^{n} - 1}} (({n}_〈l| . FT^{dag}_{n} . |k〉_{n}) = ((1 / sqrt((2^{n}))) * e^{(-(2 * pi * i * k * l)) / 2^{n}}))]"
      ]
     },
     "execution_count": 4,
     "metadata": {},
     "output_type": "execute_result"
    }
   ],
   "source": [
    "invFTonMatrixElem = Forall(\n",
    "    n,\n",
    "    Forall((k, l),\n",
    "           Equals(MatrixProd(RegisterBra(l, n),\n",
    "                             InverseFourierTransform(n),\n",
    "                             RegisterKet(k, n)),\n",
    "                  Mult(frac(one, sqrt(Exp(two, n))),\n",
    "                       Exp(e, frac(Neg(Mult(two, pi, i, k, l)),\n",
    "                                   Exp(two, n))))),\n",
    "           domain=Interval(zero, subtract(Exp(two, n), one))),\n",
    "    domain=NaturalsPos)"
   ]
  },
  {
   "cell_type": "code",
   "execution_count": 5,
   "metadata": {},
   "outputs": [
    {
     "name": "stdout",
     "output_type": "stream",
     "text": [
      "Theorems may be imported from autogenerated _theorems_.py\n"
     ]
    }
   ],
   "source": [
    "%end theorems"
   ]
  }
 ],
 "metadata": {
  "kernelspec": {
   "display_name": "Python 3",
   "language": "python",
   "name": "python3"
  }
 },
 "nbformat": 4,
 "nbformat_minor": 0
}
