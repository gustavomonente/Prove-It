{
 "cells": [
  {
   "cell_type": "markdown",
   "metadata": {},
   "source": [
    "Theorems for context <a class=\"ProveItLink\" href=\"_context_.ipynb\">proveit.physics.quantum.QFT</a>\n",
    "========"
   ]
  },
  {
   "cell_type": "code",
   "execution_count": null,
   "metadata": {},
   "outputs": [],
   "source": [
    "import proveit\n",
    "# Automation is not needed when building theorem expressions:\n",
    "proveit.defaults.automation = False # This will speed things up.\n",
    "from proveit._common_ import k, l, n\n",
    "from proveit.linalg import MatrixProd, SU\n",
    "from proveit.logic import Equals, Forall, InSet\n",
    "from proveit.number import zero, one, two, e, i, pi\n",
    "from proveit.number import Exp, frac, Interval, Mult, Neg, sqrt, subtract\n",
    "from proveit.number import NaturalsPos\n",
    "from proveit.physics.quantum import RegisterKet, RegisterBra\n",
    "from proveit.physics.quantum.QFT import InverseFourierTransform\n",
    "# the context is in the current directory:\n",
    "context = proveit.Context('.') # adds context root to sys.path if necessary"
   ]
  },
  {
   "cell_type": "code",
   "execution_count": null,
   "metadata": {},
   "outputs": [],
   "source": [
    "%begin theorems"
   ]
  },
  {
   "cell_type": "code",
   "execution_count": null,
   "metadata": {},
   "outputs": [],
   "source": [
    "invFTinSU = Forall(\n",
    "    n,\n",
    "    InSet(InverseFourierTransform(n), SU(Exp(two, n))),\n",
    "    domain=NaturalsPos)"
   ]
  },
  {
   "cell_type": "code",
   "execution_count": null,
   "metadata": {},
   "outputs": [],
   "source": [
    "invFTonMatrixElem = Forall(\n",
    "    n,\n",
    "    Forall((k, l),\n",
    "           Equals(MatrixProd(RegisterBra(l, n),\n",
    "                             InverseFourierTransform(n),\n",
    "                             RegisterKet(k, n)),\n",
    "                  Mult(frac(one, sqrt(Exp(two, n))),\n",
    "                       Exp(e, frac(Neg(Mult(two, pi, i, k, l)),\n",
    "                                   Exp(two, n))))),\n",
    "           domain=Interval(zero, subtract(Exp(two, n), one))),\n",
    "    domain=NaturalsPos)"
   ]
  },
  {
   "cell_type": "code",
   "execution_count": null,
   "metadata": {},
   "outputs": [],
   "source": [
    "%end theorems"
   ]
  }
 ],
 "metadata": {
  "kernelspec": {
   "display_name": "Python 3",
   "language": "python",
   "name": "python3"
  }
 },
 "nbformat": 4,
 "nbformat_minor": 0
}
