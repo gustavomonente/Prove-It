{
 "cells": [
  {
   "cell_type": "code",
   "execution_count": null,
   "metadata": {},
   "outputs": [],
   "source": [
    "from proveit.expression import Literal, Variable, Operation\n",
    "from proveit.multiExpression import Block\n",
    "from proveit.basiclogic import Forall, Equals\n",
    "from proveit.numbers.arithmeticOps import subtract, Exponentiate\n",
    "from proveit.numbers.natural.decimal import ONE, TWO\n",
    "from circuit import Circuit, I, X, Y, H, CTRL_DN, CTRL_UPDN, TARGET\n",
    "from proveit.common import x, y, z, n"
   ]
  },
  {
   "cell_type": "code",
   "execution_count": null,
   "metadata": {},
   "outputs": [],
   "source": [
    "U = Variable('U')\n",
    "class QuantumPhaseEstimator(Operation):\n",
    "    def __init__(self, n, U):\n",
    "        Operation.__init__(self, QPE, [n, U])\n",
    "    def formatted(self, formatType, fence=False):\n",
    "        return QPE.formatted(formatType) + '_{' + self.operands[0].formatted(formatType) + ', ' + self.operands[1].formatted(formatType) +'}'\n",
    "QPE = Literal(__package__, 'QPE', operationMaker = lambda operands : QuantumPhaseEstimator(*operands))\n",
    "QuantumPhaseEstimatorDef = Forall((n, U), Equals(Circuit([[Block(QuantumPhaseEstimator(n, U))]]), Circuit([[H, CTRL_DN], [Block(QuantumPhaseEstimator(subtract(n, ONE), U)), Exponentiate(U, Exponentiate(TWO, subtract(n, ONE)))]])))\n",
    "QuantumPhaseEstimatorDef"
   ]
  },
  {
   "cell_type": "code",
   "execution_count": null,
   "metadata": {},
   "outputs": [],
   "source": [
    "QPE_nsub1 = QuantumPhaseEstimatorDef.instantiate({n:subtract(n, ONE)})\n",
    "QPE_nsub1"
   ]
  },
  {
   "cell_type": "code",
   "execution_count": null,
   "metadata": {},
   "outputs": [],
   "source": [
    "specQPEdef = QuantumPhaseEstimatorDef.instantiate()\n",
    "specQPEdef"
   ]
  },
  {
   "cell_type": "code",
   "execution_count": null,
   "metadata": {},
   "outputs": [],
   "source": [
    "blah = specQPEdef.substitution(fnExpr=QPE_nsub1)\n",
    "blah"
   ]
  },
  {
   "cell_type": "code",
   "execution_count": null,
   "metadata": {},
   "outputs": [],
   "source": [
    "blah"
   ]
  },
  {
   "cell_type": "code",
   "execution_count": null,
   "metadata": {},
   "outputs": [],
   "source": [
    "eqn = Equals(x, Equals(y, z))\n",
    "eqn"
   ]
  },
  {
   "cell_type": "code",
   "execution_count": null,
   "metadata": {},
   "outputs": [],
   "source": [
    "eqn.substitution(fnExpr=Equals(Equals(y, z), Equals(z, y)))"
   ]
  },
  {
   "cell_type": "code",
   "execution_count": null,
   "metadata": {},
   "outputs": [],
   "source": [
    "fnExpr = Equals(Equals(y, z), Equals(z, y)).substituted({Equals(y, z): n})\n",
    "fnExpr"
   ]
  },
  {
   "cell_type": "code",
   "execution_count": null,
   "metadata": {},
   "outputs": [],
   "source": [
    "eqn.substitution(n, fnExpr)"
   ]
  },
  {
   "cell_type": "code",
   "execution_count": null,
   "metadata": {},
   "outputs": [],
   "source": []
  }
 ],
 "metadata": {
  "kernelspec": {
   "display_name": "Python 3",
   "language": "python",
   "name": "python3"
  }
 },
 "nbformat": 4,
 "nbformat_minor": 0
}
