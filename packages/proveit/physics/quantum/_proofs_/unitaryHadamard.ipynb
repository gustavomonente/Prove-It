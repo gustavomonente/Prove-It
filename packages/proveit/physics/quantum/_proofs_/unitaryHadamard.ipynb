{
 "cells": [
  {
   "cell_type": "markdown",
   "metadata": {},
   "source": [
    "Proof of <a class=\"ProveItLink\" href=\"../../../_context_.ipynb\">proveit</a>.<a class=\"ProveItLink\" href=\"../../_context_.ipynb\">physics</a>.<a class=\"ProveItLink\" href=\"../_context_.ipynb\">quantum</a>.<a class=\"ProveItLink\" href=\"../_theorems_.ipynb#unitaryHadamard\">unitaryHadamard</a> theorem\n",
    "========"
   ]
  },
  {
   "cell_type": "code",
   "execution_count": 1,
   "metadata": {},
   "outputs": [],
   "source": [
    "import proveit\n",
    "context = proveit.Context('..') # the theorem's context is in the parent directory"
   ]
  },
  {
   "cell_type": "code",
   "execution_count": 2,
   "metadata": {},
   "outputs": [
    {
     "name": "stdout",
     "output_type": "stream",
     "text": [
      "Beginning proof of unitaryHadamard\n",
      "Recorded 'presuming' information\n"
     ]
    },
    {
     "data": {
      "text/html": [
       "<strong id=\"unitaryHadamard\">unitaryHadamard:</strong> <a class=\"ProveItLink\" href=\"../__pv_it/2d33fbddaabcc841fb51bc4175eada838d5ef2bf0/expr.ipynb\"><img src=\"data:image/png;base64,iVBORw0KGgoAAAANSUhEUgAAAHEAAAAUBAMAAABIac8KAAAAMFBMVEX///8QEBDc3Nyqqqp2dnbM\n",
       "zMyIiIi6uroiIiLu7u4yMjJmZmZERERUVFSYmJgAAADCfy+7AAAAAXRSTlMAQObYZgAAAglJREFU\n",
       "OMuVVL9rFFEQ/rzbvb13e0m0Uxu3EisR2zRLiLHQ4P4JVwVJk2utcrGJaOHaiUkgTSy84qwCss2B\n",
       "IIFEToRAQEOCjWAInFw0P8y5zsx7694elyIP3u7MvPnmzXwzu8DgNb3SZ/gxL6+bWrstz/14nXY9\n",
       "zDje5cfouP89t/XzPcrxa21RTahoI8CQJ14ntI/6rmC/8i4W27AOSZwysUoeltiilllzfgP2nwHI\n",
       "CBheRqlN4juD3BPxEjDBmvULKHQ0YHjtydMEqcjuVDDSJPWTQT4GLgM7Hl5IBhS0fCz+9ocwvdP5\n",
       "S4YAsxUK4mtkrgY0QuwEKFVJ5aAjNfF/FfZkq+I7LD0IKJWqRhbeyuHzEBZLs/Uoavli+pypcybu\n",
       "EoVzJLkpZ0zMgRCgg85Uxb+ZQar9a1eguiQNGUvxFp8Vqeo8J9mg3ZI07atvaKX9hNtBnqrFdWO5\n",
       "IBdE7MqMn5qWEgGZO6kA1RHmMdaLlGIZKe080P4Xe5CKcrKPYbV1U9JsR5Hz4NRMOw+1/2oPMk9h\n",
       "XB956pfMWsKQ7aPgCUPFtJ2GAY10nwGTJNWR20wq517cGL+3JTEXGt2K2zqtiL/6+ihFOl+2OZD1\n",
       "cfU/Z5xjI45pyEtB37g699PpGzDJPH16vcRZ6wzkXqJNnBdZ1t+l+crOg1Sm40mEAeth/99kOvM3\n",
       "+Qb8A7OgkBWLWqOAAAAAAElFTkSuQmCC\n",
       "\" style=\"display:inline;vertical-align:middle;\" /></a><br>(see <a class=\"ProveItLink\" href=\"../__pv_it/2d33fbddaabcc841fb51bc4175eada838d5ef2bf0/dependencies.ipynb\">dependencies</a>)<br>"
      ],
      "text/plain": [
       "unitaryHadamard: H in [SU](2)"
      ]
     },
     "execution_count": 2,
     "metadata": {},
     "output_type": "execute_result"
    }
   ],
   "source": [
    "%proving unitaryHadamard presuming []"
   ]
  },
  {
   "cell_type": "code",
   "execution_count": null,
   "metadata": {},
   "outputs": [],
   "source": []
  }
 ],
 "metadata": {
  "kernelspec": {
   "display_name": "Python 3",
   "language": "python",
   "name": "python3"
  }
 },
 "nbformat": 4,
 "nbformat_minor": 0
}
