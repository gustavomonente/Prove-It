{
 "cells": [
  {
   "cell_type": "markdown",
   "metadata": {},
   "source": [
    "Proof of <a class=\"ProveItLink\" href=\"../../../_context_.ipynb\">proveit</a>.<a class=\"ProveItLink\" href=\"../../_context_.ipynb\">physics</a>.<a class=\"ProveItLink\" href=\"../_context_.ipynb\">quantum</a>.<a class=\"ProveItLink\" href=\"../_theorems_.ipynb#registerBraOverSummedKet\">registerBraOverSummedKet</a> theorem\n",
    "========"
   ]
  },
  {
   "cell_type": "code",
   "execution_count": 1,
   "metadata": {},
   "outputs": [],
   "source": [
    "import proveit\n",
    "context = proveit.Context('..') # the theorem's context is in the parent directory"
   ]
  },
  {
   "cell_type": "code",
   "execution_count": 2,
   "metadata": {},
   "outputs": [
    {
     "name": "stdout",
     "output_type": "stream",
     "text": [
      "Beginning proof of registerBraOverSummedKet\n",
      "Recorded 'presuming' information\n",
      "Presuming previous theorems (applied transitively).\n"
     ]
    },
    {
     "data": {
      "text/html": [
       "<strong id=\"registerBraOverSummedKet\">registerBraOverSummedKet:</strong> <a class=\"ProveItLink\" href=\"../__pv_it/9be0ac96e79c5698ffd9c0b6e7707676e8fcad630/expr.ipynb\"><img src=\"data:image/png;base64,iVBORw0KGgoAAAANSUhEUgAABBQAAABABAMAAABYYTldAAAAMFBMVEX///8QEBCIiIhmZma6urrM\n",
       "zMxUVFQiIiJERETc3Nzu7u6qqqp2dnaYmJgyMjIAAAAcRTyBAAAAAXRSTlMAQObYZgAAEZlJREFU\n",
       "eNrlXQ1sW9UVvnH8E/8m6kBQBqoh2mCoUEM3QVmhrtAogqEYpo1q6kgG6wZSRT2oGAhGvSKxtBWq\n",
       "gakwpBIXNihlkGyjBRa6mAZWGO1qUSZgKm1GQYyx0rRNSpOQeu/+vXfPfefZbuw44+2o9Xk5ufed\n",
       "z/d+795z/14I+f+U/nty0W++lzd/XlhP55ELLyK7tuw2f/ZlviCl5i0Wj01VbiptxeKAw6/e1DQi\n",
       "0Thmi2T9A+GzSFpavnNBVSWUEBeXatoB9OvkZvKHTMBkwux0PepRB9dULI7Bz/JfdKz3uSqKqarc\n",
       "jAq9vUn8N+E01Jg8j9oCWd8IWaw8jQuqgrhClm4cagfQd5D2rD9lNUTeulBBB+ft7R2Dn+Urc7Cq\n",
       "J2aw2q/Q5vib+1NQIxI8EbUFksEhkva8VSMqrBdcDZ0AtQPoZaQrGSDnJOtLBQTcl22fX1Qq3KJp\n",
       "RAJxB1t4NNQR3lEjKnini4v5WaidQPflniAvFepLBQSca6gQGYAak7852TSOVEcFconQjQNQO4GG\n",
       "5K0TFezgXEOFriTUWP8w5GTrJ7WkQnePaHzHoHYAHUlMBRXs4FxDhU5NY6FSxsEWFZXh7TRkVdVU\n",
       "iLSIi5c1jYPeJX64nHrP1YsKdnBuoUJ4BGpM+rIOtm+Tb9WyVQgdks1DHGoUtDfvTU1Bq2AH5xYq\n",
       "xDJQY/IvB5vvk95VZcecxyM7c6J5GIUaBX1d7ws5bFA82WID5xYqtBegRsQ37mBrKBYBrgeXX18d\n",
       "yC4BIjgONQp6RrEIgpcLjsTrQgUbOLdQYammEfEPVmarXmIyKv9U0w6gp0Z0cC6hQugI1Gjn2FGZ\n",
       "rXrxyIBlVhZqHPQUiQ7OJVSIDkGNyd5kZbYaDNQ+l0zLQ42DniLRwbmECk2DUGOypkJbDeSfsqdo\n",
       "gRoHPUWig3MJFZozUGNytEJbDWSnGB5GhqHGQU+R6OBcQoW2PNSY788rs9VC2sQgwHsIahz0FIkO\n",
       "ziVU2JmEGnsIhiqz1aQbFs976CjUOOgpEh2cS6hwIAc11jWOOttiRUVqMKwPyNjgp5pGQdfae6Wi\n",
       "gXMJFT7TNNYzp51t4aLoL5+66ofFluoL2S9Hk0uzUKOga+29UtHAuYMKwaNQY9KVKWGbZ3Ho7bHq\n",
       "C9kjZ/BmFaDGQNfce8UTCxCcO6gQPgy1EPYVfaIZ7kvY85m2QLHDNF5SMRh567BtxkCGo3vzUGOg\n",
       "J+pd98k+v18ZQAycO6jgOQS1KAhWwBERnM1CemHT5itaywSNcqFwHfF8yq+jH7GbBMVjFBYtq7x1\n",
       "oxn/vSi+p5xHbOuAGgONezd8nfshv9yzTMABPsxkQr7HPl+BYbENIIUu4WvgIBUGqHqvXGWWTzU5\n",
       "uQUVYqxyQIvbOAa1WQBnDpvFMY9tKAn+5OBq0lR8X7WxJ6OYhY2JEVlnRN7HW7P8YoPx7yR6cZNZ\n",
       "0qFfpCXnWJDA7xKU+7q7BqDGQOPeN4hqDZ0/R1xkuDPpw0wm5OvEszzFkq5dfnIPWXMsjgFk0G9C\n",
       "wUEqvEHVv8tVZvlUk5NbUCFC6y8Ghgr+IahFu2swZtCkwtKkNX48gwAboRu+bVFlLCvyLunr4Rcf\n",
       "G//30YtnrYcuRvsYM29IlO5BGZe2QI2Bxr1/LKjgf2OMXxhwuLPQAEwmxLjDXpGHjlI9cRQgg/4s\n",
       "Cg5S4WHK6Ey5yiyfanJyCyqwzA/DWhuBmstLxpOXMalwgD9MMdpHXUSAjZbvjMO6q12igQ0N/YZf\n",
       "sM1O7FGOxE0qNFNinmNm2srVDPFjwyDUGGjUO/XFqrX7iiS/oJudmDPpQyYTLb/R4V8o8hygbU4O\n",
       "B0ihC/gaOEgF+qxFespVZvlUk5Nbxgq0SXkDWBtGoeay0jDETSrM4O0Im+2V7eUMq21pK+qY7hBU\n",
       "CA+Ki4BBHC/zEGoxqdCWsx4zQ9bDG+PA7Dabd+qLVWufDADuIMKZ9CGTiYbFuJomktKhid8BIIUu\n",
       "4GvgIBWif9248aGylVk+1eTkllTYvXHjU7BBbR6EmnfYRkPalTKpIDaI0DnhkIznlU0jkeIp2lgv\n",
       "LRgQkRcPiR8M+cCkwjZZD+JR596WC0NgBGoMNOr9IcmAbeKCwuHOpA+ZjMujRpJhnpTNJP/OASCD\n",
       "/gEGThtBHO3svKv8GKBsqsnJLanQ3Nn5y3x5KkQKrPfUqEBXiqJJOxXIAe0InyfB80bPuzXBb9JK\n",
       "qyER3pWVW6SpdR/ZMoe1zsJpYkJUsHlvFQzYddJsfkHhcGfqFulW82oHC4xYUra+9JYDQAa9vwIq\n",
       "LGbNqk3ysDJtqQLgxz0UqkVDHymT+3ip4E9xljfuKEkFegzxRhsV6CxrI0GosL4I6dVUEHmb4+Li\n",
       "Ptp193ytzfjFHnMEMeb51bgSlkV5THdADAljw0BHPmWSsIPVvd8nW4VD4oLCEc6iAyCZGTX6Mzwp\n",
       "m/ZOOABk0Pdg4DQqXArjUykJWJkslW/N++Q6MX6mHdOi7VtSC4/FfQc6iAEpwk4I84AmieQOmZu5\n",
       "FhWIZ6v1VMlcUhYSck0PpII3wfu+rTNLUoGeDJ2mU4HtHPJjVAgX4dpUoEfkNToZfnEn7bofyz1D\n",
       "5EZYwxoePTtUoCM5eRde5msEFZqGoXZsFXTvd8p+YVhcUDjCGfeRk8l4ySZYYMSSsq1ZHQ4AGfTn\n",
       "MXAaFQLEow7Yfbe+Qk7vsFGBpzLiEW+PSQUDSx8Lqq4klAo3sRPCXOZgueUG86DRSe4mm2UKKxcX\n",
       "dqp5iTbFlOYR8QemtbsFaibfMPCPmFQI8fFdmE7mPCBDqIOqq3kHwQC1ISny9sm5Gnq88DxeFO2S\n",
       "Co1fUuZ3aInx+l0j+Nc0BLUqAKzu/QTBABqzsgsKRzhjPkLHZDJzZqpdhJp9RvEG4w4AGfR2DJxG\n",
       "hUjBPN1Nnu6/mLwQydFRiUYFnsqIRzw5nsygQiBHmlhQdTalgi/PTgjz9wY8geU2uqvQS7MLJGy0\n",
       "QstIc84M22UuIZQyf9aosIO3d6OlqWDQxdOiU4H1o6+jVAjANtqkwjaVCredFQdUCFy/Qoxbq6SC\n",
       "5l1SgYWpkgrCGfdxG6ACfbpOF0lpOBTJOgCsmArBAZM+0dWP5MiWeCJC+mffOrtHrUye6h7aDfBk\n",
       "BhWasyRMmhIsrsjQ7pyeEObvDYhliT230cu98+JGQqkQGiYN8v5WrhJUeJTNnr1z2GzAugeB3vX3\n",
       "MxJsANXUkTOpwDuDyKAylgzBbeef4R3EvcTqIEJD/GTdAkmF7iQ77LaSRC++hsZw4kCLAxVErNAB\n",
       "QKPeZQfR1KF0EMKZcmjGSMYd03793pCggtkHIgAZ9AUVUIGs/JG8OXsJw6ZND0TssQJLRcYZFS4V\n",
       "HUTsVDqdURBUYHXZl+PvDbD6HCX3iHgnhUEFoxkPWN2SzFWCCk1r2YxPxmkE8dZpZDobQDUX8lqs\n",
       "EB5VZ24BFaLT8bBxGrHCxuhgaCxClLBxrxFI5umsV3R+oSFbLmx0jhV07zJspP2/GTZyZ1rYKBwb\n",
       "kfh4RHQQOTm3jACsOGwkf0zLmzN/myLPLEKoQFPRfnidWFIwqBA672CS9lZ0fSTDx7u3EP7egHAH\n",
       "kruFryUwKoyqR5llrhJUCLPXojQmHKgQfCxNOw9jANV8RVwfQewjwcUEpUIbfDFDRAwmQ0OSCv0s\n",
       "SB+mVJgrS/pG0pzK0ymzR85kvVxjfoJU0Lz3CwZ0J2VPkSDCmfQhkgnHRg8w9BhPGkuQtSkngAz6\n",
       "3EqoQEdOLFOIFfQmku9HqEBT0X74XcKTseZobZr2VtEspcLlHDx/b4A3g+TOkMd5xJmnpGqIKzWg\n",
       "vm2AUWF9VluZPCQfW7xV8Me9LSy6jM61DSYj955PUCr4tJ0CXjGzxOObJIfS1ENajWCIfChLejXx\n",
       "nJ9jjeD1ZD4tVl4Hy0XFBoahdqSC7n2BYECbXG6kcLgz6UMm444NCLvyYgD62g1x4gSQQf8QA6dT\n",
       "IZoTmXy3d3auMKiwLoBQgaZqzNDOgCfzk1CKhAbpJDh9ZjLkMmKdECa+AXvupji5trOzM+4zIg4j\n",
       "VmhOKjP/PKlyqtl3l0aFf7C4LuU08dyQasyn5ABKm3gGotrWx/GJ50iGKBPPIshIg1uzXvJEMtdH\n",
       "yJOk4ikmMBmte5cTz68RdeKZy5MwGXcs1qHxRWoFIIUu4JeeYuLCMnXwVsF7jaFSGhWYmw7iK4gQ\n",
       "zE/CPXQl9C+E/IBRYaF6QtjbYc/d8F0R2RitgjqC0M8V460CD7usegyMAt1FAlem5JKVLI7lCBVU\n",
       "2z58OWpzrCBvYq39KMtRTIwuJzhIlm06ruWogEqFfehyVLhjv1m/u/QlL5FMOBYrfA5UsABWuhwl\n",
       "glmW6VXCpy9326eO+bOeJjSMeJVTwWgjNuTItXQUSanwpHpCOJq35272kEhKxAqklWwmD+eCq4wP\n",
       "/Vwxmw3RYwWLJASdybmMeHaYC9myONYg72hSbPaXLzSxRerbn7VuslJd6VVuTcN3g+8zC+YEXbHU\n",
       "3BexTzvZva+k1RpYNWDWr7mMACYBVwrHct0fp4IFECxSQ3AYFXgmo1sk3ruT1tScVpnksu0UAU1G\n",
       "qfDg9ouM3y5hc8EZOstgnRC29tBYuRtfoV2foIJne4JcnfVNNz60c8X8VDNOBesxcdi6Eo2rxTEP\n",
       "WQ1VbNssBsqXprAF7jfnWDfZoNSTemvrHYCivkJyZNidhloVFazdO9u6Em3NmvUbykAfZjIhb5ag\n",
       "gvKSwpUWfA1ciQ1tZ3WucFhQsiWDdDGo4FHLPeaQ22PECowK5QSlwv7Fyp3GoVYfH4948rGdppZN\n",
       "GctFJfZ1xHM3z+yBG9qiojLkrZvMinxXtJhyB2t7Bmrw9cdJCe+GrzPFhrZz4Ya2d8F0RAG2VF+B\n",
       "LmwAKXQJXwNXm72NNioQ9atvKZV7wlTYqgRa4c+hxqQvX8qmjOXmk6rF3MEq99Fie2wVsLX1Xqlo\n",
       "4CaLClcpD2eiVO7Q9PJOl6AdhDoUOwI1Ju0dJWxBq7F+/HD1hVzR5ncLbI29VyqTsvk98LH6E12k\n",
       "DlsdmidXMvcDhXI+F/WUowI5pmlEmgdK2NbL5iG4uThcfSE3ynvMS0GNgq6190pFA+eS01HLNY3R\n",
       "dbCE7QBfHPjIiFqLNXgXUsy8r6ZR0LX2Xqlo4FxChZJPn/akIrbGGp9aNA/llTzAJ8E2TtGZSQ2c\n",
       "S6jQV4AaC+XGK7PVQtpFeOQ7DDUOeopEB+cSKsh3KpV4txL25qPJehvSLBHdeMagxkFPkejgXEKF\n",
       "QBpqTH5Woa0GInfryRfA4S+CC6SnlAo6OJdQITICNSY7s5XZaiAnC92QgRoHPUWig3MJFYKHoMak\n",
       "K+5sO936nbLndsJfU4YgbQWocdCq95kz60YFHZxbXuH5kaaxEV7a2RZImiZlz+2Em1655rg0B7UD\n",
       "aMt7NB+uWwChg3MLFfamoEYkOuxsUxa8lRXzCY8l5fzqYU07gLa8G6QYrRcVdHBuoUJzHmpMPne2\n",
       "WQve6p7biYqsYkm06HBp0Jb37lRFtVALsYFzCxUip0CNycs5R1u/76tytA323E5M5FuT5buezXc+\n",
       "O4C2vLdnyc/rRAUbONf8aZBTNY2FzHlH2/7nunN+uoXuPrjndmLfUj5ncsGxLVUaNPV+I/VeaM+V\n",
       "+ttXtY0adXCuocLeHNRYkzjqaDtiVhbYczvB502GCvs07QTa8m60CtPqRAUbONdQIZaHGpP/ONl8\n",
       "01YrsYK153Zi8nvBxvApUDuBVrwbsUKd3gFuB+caKvhGoMakPetg82SuDhI/XR3cX4MRxGmy8ylA\n",
       "7QSaeb+Zei/UbwRhB+eevzP5tqaxHiLtYGuKX+uRhtZq5xX8cmbgx5p2Aq149yTqNa9gB+ceKvgT\n",
       "UGNyg4MtlvWbmwLpntuq5G2NeNESSw0MrOp9Zn+dhpJ2cMdNhf/dP0/+iaaxvrmnMls1EpQ79O7P\n",
       "Ql0SdL1FBzeBP08e6q3mD4xXl5vK045/npz8VtOY/1RltqqoIGv+15ouCbreooPz9vb+Sf38L3Td\n",
       "CTKDSD2yAAAAAElFTkSuQmCC\n",
       "\" style=\"display:inline;vertical-align:middle;\" /></a><br>(see <a class=\"ProveItLink\" href=\"../__pv_it/9be0ac96e79c5698ffd9c0b6e7707676e8fcad630/dependencies.ipynb\">dependencies</a>)<br>"
      ],
      "text/plain": [
       "registerBraOverSummedKet: forall_{n in NaturalsPos} [forall_{U in [SU](2^{n})} [forall_{l in {0...2^{n} - 1}} [forall_{f} (({n}_〈l| . (U . (Sum_{k=0}^{2^{n} - 1} ([f](k) * |k〉_{n})))) = (Sum_{k=0}^{2^{n} - 1} ([f](k) * ({n}_〈l| . U . |k〉_{n}))))]]]"
      ]
     },
     "execution_count": 2,
     "metadata": {},
     "output_type": "execute_result"
    }
   ],
   "source": [
    "%proving registerBraOverSummedKet presuming []"
   ]
  },
  {
   "cell_type": "code",
   "execution_count": null,
   "metadata": {},
   "outputs": [],
   "source": []
  }
 ],
 "metadata": {
  "kernelspec": {
   "display_name": "Python 3",
   "language": "python",
   "name": "python3"
  }
 },
 "nbformat": 4,
 "nbformat_minor": 0
}
