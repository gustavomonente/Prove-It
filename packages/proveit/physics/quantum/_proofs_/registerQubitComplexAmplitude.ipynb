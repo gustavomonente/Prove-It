{
 "cells": [
  {
   "cell_type": "markdown",
   "metadata": {},
   "source": [
    "Proof of <a class=\"ProveItLink\" href=\"../../../_context_.ipynb\">proveit</a>.<a class=\"ProveItLink\" href=\"../../_context_.ipynb\">physics</a>.<a class=\"ProveItLink\" href=\"../_context_.ipynb\">quantum</a>.<a class=\"ProveItLink\" href=\"../_theorems_.ipynb#registerQubitComplexAmplitude\">registerQubitComplexAmplitude</a> theorem\n",
    "========"
   ]
  },
  {
   "cell_type": "code",
   "execution_count": 1,
   "metadata": {},
   "outputs": [],
   "source": [
    "import proveit\n",
    "context = proveit.Context('..') # the theorem's context is in the parent directory"
   ]
  },
  {
   "cell_type": "code",
   "execution_count": 2,
   "metadata": {},
   "outputs": [
    {
     "name": "stdout",
     "output_type": "stream",
     "text": [
      "Beginning proof of registerQubitComplexAmplitude\n",
      "Recorded 'presuming' information\n",
      "Presuming previous theorems (applied transitively).\n"
     ]
    },
    {
     "data": {
      "text/html": [
       "<strong id=\"registerQubitComplexAmplitude\">registerQubitComplexAmplitude:</strong> <a class=\"ProveItLink\" href=\"../__pv_it/c8dcb99d336a2d53069225107826b2e068949cc00/expr.ipynb\"><img src=\"data:image/png;base64,iVBORw0KGgoAAAANSUhEUgAAAeUAAAAmBAMAAAAIFZ7/AAAAMFBMVEX///8QEBCIiIhmZma6urrM\n",
       "zMxUVFQiIiJERETc3Nzu7u6qqqp2dnaYmJgyMjIAAAAcRTyBAAAAAXRSTlMAQObYZgAABpZJREFU\n",
       "aN7tmQ2IVFUUgM/MvDc77817s04UshI0YtCqGS/sB0plVKwowXFlcoOlhiUJwWJAaaXEJo2cXQ0H\n",
       "IxPt56ngz/qzQ7ma6TaDWxCpMKSC6W4OWYEWarGS7hbbufe+3/lde5Iic+C9OXvffee+755zz/1Z\n",
       "gOoiBoNZcCabg/fCLZeHg2PAEwyqI6krjnLc3Ga4LWQMXq6RMccdN7a9xlxjrjHXmGvMNWaAHPvh\n",
       "TYz0ncks5HSNj7FfKWw8fKTMS/6UhTlP9P5qzAHyK+ccMDu1YMoOQ/OEYcdojZmbNvwr/jxfXP+h\n",
       "5X8sVWChhfko0S9WY5ZIzARUB8xOLZhywdDq8Dpv+Hm0XmSX6BBs/UeBvRbmDSRaEtWYaY0NTmLb\n",
       "qQVDZMVQD+M1xJifU6ENxEPgLowk2RsCOKeAFDKZSddL6arjmUTCUUfj2aEF07kpQ23HkB5kzNtH\n",
       "IXOgAcS89ux0WxtVT5Gc5VXYpkFjlr/r7Pyweg7r6+zcGXfE7NCCIebHCgglxRmzdBWZu2K0H4g0\n",
       "T9AqKSS2RHTyz5a8fS2ZXFbCdNbOXJ9Mrso6YnZowZBxhiZhHAcU/4kUMssDyPxplsU7frKeocTY\n",
       "PE3rtTAvMPrGJoqd2RsBXwrcdxmFLTlwHzEZelfa01MzQFPaxsws3Lhw/Wdtf79nS2Fd6fFzcsjs\n",
       "H0LmOTk9iXn1loTsDE370cI80xwDFZg5lvmWGHGFr/fBfqPLU16bkXmP422RjVmzMIL5l829x9AT\n",
       "EVQmghCzPn7T0Gbildmi7iGxLfyNzOfCdP5C8RnGFJ35gIW5zp7r+MVfw9hYETPEYRJqJGOIhyfn\n",
       "wJ8nHVCvGomFvy4/2W/6/Wm8vrKvSagFi//oXV9NSIWjygfzAfbh98xISZvgRE+f/vhuo+Kj5OxD\n",
       "0eaq5cj8trFOmXsJhXhBTLRotV+yMEs5c07b1TsVvpBUj9o7efHktI35OBBvE+30wU4gzOJVcOl1\n",
       "6sLCgL8R4pWYqQXYfflVANMVCa3EbSylMCz9a15pDUAXOi0FMozPyvBZoq6YmXTh640hxjw33cYN\n",
       "kAUX7TJzUrzoLcEs5I21i7x6owo9IUUqjm34hHSgpDTFOPoEmfnrUGdGiH8QFvCJSszUggoZsDOz\n",
       "EjGmR1ALiM0q/zsNRiyVMYbcmAyaLbEtT20imQyHijggDDBmYU3wWzIUWM5wGS2foMwq+yJjvd3+\n",
       "sm6FDBDo7l5Xitm3Hg0Hzj47GACdeRDqQmZCCUHcfbISM7UwVs3A9IiVWStZqEfQApA/IulXvEDX\n",
       "XDJkx7txAE4KmzlMnp5zpSiefEUcktg6TGSHe8zDHuPDfPejyuXtOQw+j+tWaBrqlva0lGD2k6xU\n",
       "j0l+K4vALPGzy2TuRaf4j9uYN6dszNSCK52Bx2x+1kpaaJajw35WN0lk21QavkIfuPfBNjicM+ec\n",
       "jQ/QTIJh7E3AVcm69tSXPWamm7ZG3ZXE2lOszPUhzYpI2+yGbG8JZviTpIbGNMxPJpMhfiWQ8Vwf\n",
       "LlwRcvg02cGY+WX2fRWxEAhl4Ccbs1aCf9IIEuJw5gfS6BO78Y4TQw9wIWvuI5ZbYTrrHl8axk1g\n",
       "e4zXhs+HaRmVbe/o6ZWfdt9iEli/WJllVbPCL00mVyDzxyRfRAqZz+DVyI9KeXU/W/M2zIZZUPhl\n",
       "BX6mFjyxjJaFdGatRE6zCOIS8OVBMlaG/8L7M9gJ/aeK1p73wBTesnG07CU53VezV7XlizbE9v0z\n",
       "tRJjfuaayu2fV/DxkBTRxjOuiPbDBlXowBv/26EO2zsHisczmy8bMu6EjVkrERQWQVwMNkWN914s\n",
       "uccQrsCSbkt2tjB7I2VmfeseQ/sUauUbop4ki40yzBegNQKrdWb3MQXmpvgGvLmGh69YX3n/rdbS\n",
       "zLB+7bGCuYqVYFfSCMLc79mCbbJKT5X4+nbAfnkwZ9maWpjLLnv2Fp2TMCs4OoBbHgZvxXMSN3qD\n",
       "MleTksxFc5VW4qPYbOM6JQJHWKW+imcGcqiI+ftyH9Ne7myoEcfzyM6G/jPz7stTi9YkpKQHLxpB\n",
       "b2DJpXcj5Y96zLMhfdHsNgO6o9yuO+X8PExsqP7eoornYaafDYVG0ERrpTzcVHF4Briu6tFWS/oG\n",
       "mAXFXq5FU+62YnZ87mln9hjzGmfh3HqHnW97bFtWv/ngoKlOqJ3p15hrzDeb+Voy5LCxrpIT//8s\n",
       "jclBnA7Xjuz/CtFoymFzfPSFW8/8QTQCQjQK/wJdovz2PuXdCQAAAABJRU5ErkJggg==\n",
       "\" style=\"display:inline;vertical-align:middle;\" /></a><br>(see <a class=\"ProveItLink\" href=\"../__pv_it/c8dcb99d336a2d53069225107826b2e068949cc00/dependencies.ipynb\">dependencies</a>)<br>"
      ],
      "text/plain": [
       "registerQubitComplexAmplitude: forall_{n in NaturalsPos} [forall_{k in {0...2^{n} - 1}} [forall_{Psi | |Psi〉 in (Complexes^{2})^{otimes n}} ({n}_〈k|Psi〉 in Complexes)]]"
      ]
     },
     "execution_count": 2,
     "metadata": {},
     "output_type": "execute_result"
    }
   ],
   "source": [
    "%proving registerQubitComplexAmplitude presuming []"
   ]
  },
  {
   "cell_type": "code",
   "execution_count": null,
   "metadata": {},
   "outputs": [],
   "source": []
  }
 ],
 "metadata": {
  "kernelspec": {
   "display_name": "Python 3",
   "language": "python",
   "name": "python3"
  }
 },
 "nbformat": 4,
 "nbformat_minor": 0
}
