{
 "cells": [
  {
   "cell_type": "markdown",
   "metadata": {},
   "source": [
    "Proof of <a class=\"ProveItLink\" href=\"../../../_context_.ipynb\">proveit</a>.<a class=\"ProveItLink\" href=\"../../_context_.ipynb\">physics</a>.<a class=\"ProveItLink\" href=\"../_context_.ipynb\">quantum</a>.<a class=\"ProveItLink\" href=\"../_theorems_.ipynb#ketPlusDistributed\">ketPlusDistributed</a> theorem\n",
    "========"
   ]
  },
  {
   "cell_type": "code",
   "execution_count": 1,
   "metadata": {},
   "outputs": [],
   "source": [
    "import proveit\n",
    "context = proveit.Context('..') # the theorem's context is in the parent directory"
   ]
  },
  {
   "cell_type": "code",
   "execution_count": 2,
   "metadata": {},
   "outputs": [
    {
     "name": "stdout",
     "output_type": "stream",
     "text": [
      "Beginning proof of ketPlusDistributed\n",
      "Recorded 'presuming' information\n",
      "Presuming previous theorem (applied transitively).\n"
     ]
    },
    {
     "data": {
      "text/html": [
       "<strong id=\"ketPlusDistributed\">ketPlusDistributed:</strong> <a class=\"ProveItLink\" href=\"../__pv_it/d86999bd2a616793cd79334487cc3fe6a9ef98c00/expr.ipynb\"><img src=\"data:image/png;base64,iVBORw0KGgoAAAANSUhEUgAAASEAAAAyBAMAAADhBnCpAAAAMFBMVEX////c3NxERESYmJhmZmZU\n",
       "VFQQEBAiIiIyMjKqqqqIiIi6urp2dnbu7u7MzMwAAAASOpYoAAAAAXRSTlMAQObYZgAABTFJREFU\n",
       "WMOdWU1sG0UUfv7drO21DQfEBcWVEFwAWZwQQooFChLKoXtAHBDEUaSISPxZVfmTiuRDJcItp3CJ\n",
       "lKLCpYfGBw5IHBoJcahSYR9omwNScuFGlYYaiaZ1wbtvZnf+3syauYzXnu/bb9689+bNGMDZagPs\n",
       "9+3DbtI/OZBB6GSQ2w0mbM8+rNonp+RAwo8uBrlV2Ay+dw18ifrBiSz0HQxy28LOX+Ff+B+aB+YJ\n",
       "U6RI2BqZhzxnZ1AW+X3sbw24v/wysY9UW4IM3umOrEMoBmXmHeyfTm08sVtTbSkSFkZ2M25lUbSD\n",
       "JP7ErcgzGl1Akorggo1BaefZ2I5bkX9i1NnJoGinaWFQwoCNWWi6FXH1chOQtCIu+7xbkdfC/hxk\n",
       "UGR84TnIoIhzkgPSdoxRUH+QRdHhJf07EUm/MDilGZT2OnbFlSyK5gxJV0RaTLBBMyhtDbtymEVR\n",
       "xeCYItKiaLdJMig2v8cWr51FUe6eYdnbmRTNtxOGO2nwWma9KwRMRVB0R4aukZNnD6miOvu4KZty\n",
       "TawUigNDxmZe8IzgGG/985paZ3DoszqDgITFjy+21Rpnib2olzCkiuqhwQtY8K/SlU/t8q8JdKiP\n",
       "WHVUXX+wx7sJg1BN9QzxjJkrGNOKvobbTQ5dONLCemxRFFURHnPORwlDrMiP08Blg19ifqifkooK\n",
       "K1Drc+gxTyc+/0Aip4riKqLSlsZNGQRFB4b9Bh3Pv08qyofRXnogmVRQRCIjG0VRG/QlW04ZBEX5\n",
       "pr4vHEk2NShqhFC9z6GNUFVEIrkiOIPPfwNnEBT5ezMnrv1oUtVTDm20VEUkMlG0jc9/AWcQFKF/\n",
       "1jbihvYfYtaoTUhF83uxD6Brl/uqIhKZKGKuvQ6cQVS0pOHOoqKiRVEH6g85tNxTFRWdilguew84\n",
       "w35klK/WNzbCJDcIrYtdCbNF41+x3RVWjUG9FWZlRmhBJopYLvsUOINoo22HIsKzo3jaFhSJNiKR\n",
       "iSLmgmZFZwQ/CjOuWr4VE2PEeP9j1ViYfgacQVCUa2m4IQ6vnTgyJIMaPNsZa49bPLu2qUc/5qOK\n",
       "nFVygh/BF3DriEPLWj4ikZGiuIq4rhZigiLPUDljIBQeSN+WBsK+9vuV5QTa0HI2iZwqwiqCLfQ4\n",
       "YRAU/WDYRZDBl3mf1G49GPRwT9tFKCTf+6tsL3+YMMScQezAy2QFWJeLwzc0RcvKThuMlCJUQ3JF\n",
       "pSPjTosshqqbL4NUUwQ9+O3VF0RFHLqjeyKF5IoO5B15ypAqKhhOJh571edSmGwGIQwHgiIOHep7\n",
       "NYXkil6WY3LKcDWtYA1leZEluLPil7ehOIJynAyvytCuzkAhK6y4e17OpF3nIdt01vw52n1KpkSz\n",
       "6jjn0khX+ZzW3mx5jzclZ5ibQMlQ+OQMBWM2JMxfIhncJ0isQ73J7CdIGpn9BMndgPvTT0kivWa4\n",
       "6sn3aE+0I/m5ysSgtGsYElVMdJVo97kSf/zEMLhhiNZsSDilGawXO0/tDljaL3ZMph+Rl0oOJD8n\n",
       "77pva5RgO2yx3POdxemMwWZHCodsZ/uAQXDxiyfgRW/wO/BYxlu/LMhZbv2Um9HcGF6J+j8BvtWv\n",
       "jzqWm1ErEi7aGIjXMEx39GVEf+HGoh4VxP15BiS/tN8aZVCU+wj7JzDrH1+PFM5Ny65e1ht2N3K2\n",
       "G3b4hk0DeebWyWmUCJO7kfCmnUFNcSwMFpF+TA58kfrBiSy0HAxKe5tNQDivmBr9X5QLOeu/WckF\n",
       "2pJ92E16URzI4F2R4T/6wgJUtRBhDAAAAABJRU5ErkJggg==\n",
       "\" style=\"display:inline;vertical-align:middle;\" /></a><br>(see <a class=\"ProveItLink\" href=\"../__pv_it/d86999bd2a616793cd79334487cc3fe6a9ef98c00/dependencies.ipynb\">dependencies</a>)<br>"
      ],
      "text/plain": [
       "ketPlusDistributed: |+〉 = (((1 / sqrt(2)) * |0〉) + ((1 / sqrt(2)) * |1〉))"
      ]
     },
     "execution_count": 2,
     "metadata": {},
     "output_type": "execute_result"
    }
   ],
   "source": [
    "%proving ketPlusDistributed presuming []"
   ]
  },
  {
   "cell_type": "code",
   "execution_count": null,
   "metadata": {},
   "outputs": [],
   "source": []
  }
 ],
 "metadata": {
  "kernelspec": {
   "display_name": "Python 3",
   "language": "python",
   "name": "python3"
  }
 },
 "nbformat": 4,
 "nbformat_minor": 0
}
