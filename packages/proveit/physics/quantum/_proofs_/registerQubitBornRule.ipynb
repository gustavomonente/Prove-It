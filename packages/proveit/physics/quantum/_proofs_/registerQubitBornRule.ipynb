{
 "cells": [
  {
   "cell_type": "markdown",
   "metadata": {},
   "source": [
    "Proof of <a class=\"ProveItLink\" href=\"../../../_context_.ipynb\">proveit</a>.<a class=\"ProveItLink\" href=\"../../_context_.ipynb\">physics</a>.<a class=\"ProveItLink\" href=\"../_context_.ipynb\">quantum</a>.<a class=\"ProveItLink\" href=\"../_theorems_.ipynb#registerQubitBornRule\">registerQubitBornRule</a> theorem\n",
    "========"
   ]
  },
  {
   "cell_type": "code",
   "execution_count": 1,
   "metadata": {},
   "outputs": [],
   "source": [
    "import proveit\n",
    "context = proveit.Context('..') # the theorem's context is in the parent directory"
   ]
  },
  {
   "cell_type": "code",
   "execution_count": 2,
   "metadata": {},
   "outputs": [
    {
     "name": "stdout",
     "output_type": "stream",
     "text": [
      "Beginning proof of registerQubitBornRule\n",
      "Recorded 'presuming' information\n",
      "Presuming previous theorems (applied transitively).\n"
     ]
    },
    {
     "data": {
      "text/html": [
       "<strong id=\"registerQubitBornRule\">registerQubitBornRule:</strong> <a class=\"ProveItLink\" href=\"../__pv_it/fc29cd92d54b16c4c1e90c83a2dae6e8f8a61a5a0/expr.ipynb\"><img src=\"data:image/png;base64,iVBORw0KGgoAAAANSUhEUgAAAtgAAAAmBAMAAAAM+vF2AAAAMFBMVEX///8QEBCIiIhmZma6urrM\n",
       "zMxUVFQiIiJERETc3Nzu7u6qqqp2dnaYmJgyMjIAAAAcRTyBAAAAAXRSTlMAQObYZgAACW5JREFU\n",
       "aN7lmg+MFNUZwL+bm9ndmdnduzOlhgPTBS0ChbLGVqsRsmCqTdAw0GBpJN7mUoglFC9qsU2pLjbR\n",
       "82zrUFJASXuDtlBPuV1bL9Ig7rSn1oqQtZSkrVA2EmhrY9nUg8BBu31/Zmfem53d2WObG5N9CW94\n",
       "b7/vvXm/973vfe/NAfimXV3TobmkdHWZEHiKFSa/z90kv66r28r8YTfdpdIJH4P02QD6FIv02W1n\n",
       "PmlP87D7Pgasxe4gep3VmrB3aZPc4ej3DIB4oSVhr53k/qJ6CPkQubsVYUsXJrnDsE66XNuKsOPp\n",
       "yYadksfQo8doQdiD+qR3qY7jSU60IOxF/zd/ZNj/LTA1THXOKoYx51hnC8K+omb4faruSehvKffG\n",
       "Z1dIaabGqYbPWcVRXCC+pAKbRN3HfWD7C/nBjgd1hrOSfJa8wH3n1264mf/l9Zo6v7iSh+iG3Z5i\n",
       "RHAmLiqfRo+7aDGWJFLTGdgH8eMDH9j+Qn6wo3htxY3gzuol8uhAZrPZaBA2nKwPO8yK0OorK/Wo\n",
       "eAd8EZc2MLB34GnP+MD2F/KDTbR3BOdF2qkn6zEB8olGYV+sD/tVVgRlSw14CJT9IBRwUfrn/gEs\n",
       "tYCBja2NmF092P5Cvj4br4uDwcEOU1NZgLgsMBuELY7Xh/0EK4KyPZ0IdnwqKEVcbCuXyWrK6w7s\n",
       "2NtDQ9v9Nkh/IV/Yx4aGng9wn+ygDvQp9O++VIOwo311YctFVgRl0bMIdjZNZsFR68kx0cj5/v5N\n",
       "vtGIr5Av7I7+/sfNAGFT3/FfxOgjWLJuyUwGtvjm0zN7pd9+reoclFSP6LVhRwusCN4RxxDsQZP4\n",
       "F0ctW2BgryEzUZVMDnYNoQnADmkQ0YODTYYM0iWAV0wwf5jbzMCORh6F7DXwEiH4L5LIOsjm5iwr\n",
       "UGqHSe1JDnaYE0GZehHBXlYgvziwyTRXYN9KfExVSnKwqdAMe2uRDgHMm+fM9hdc8dQqgBU5DraY\n",
       "hOGmcInH32vmAElgC+feGZ0LUm4jDRQs2HeHi9ggT7h18s8ae+u4kVs5EZTJlxDsEykSEzKwTQZ2\n",
       "mOyezgHpgddhRtoNmwqF7Ra2GBAzVfu64fc0wLHTl29E2Xr+UNMH8ycIiC6E1W/pIKHnZ0BON6xU\n",
       "GQxwnhMi4+R1lDHOZxvZFOQNuNfd1HXJuj7785wIzh5GsDfT0w4DO8nAjhbCdkMvjC6EfVGj3XDD\n",
       "pkJZw5KB1wj58YrIt6FHP3LgmPNGtwORYWEfAu/9UWRyzn1F6SMj9YGaAmmJHt0JXCeemxrXkspv\n",
       "U9BBX0Et8RtkHuBGjzPmxtmJerDncyI4W557SMTzqJq1YMvFu+zI/8lnDDiQSEZh9PoHrs8xsKnQ\n",
       "7RUZDDKrwbSK4oMwmPplJlwX9k/J6fbFM99wvXykkiuHz6HVc439w9cB9r25MVFUEJqbIAZzzBhw\n",
       "nbCbODZoxcRKXEs38W6kh5pQe5GHvQhgE4gXFMdn41dVxvBRm/XZpznYw5wIzuTvd72FP1GgzYnZ\n",
       "IFk3Ak+gbTi2cMXV1AvByMiPolU+mwjBqDSLymCQPTp8l/FvRkhbVRd2ZBvq38BW5A1boQa3u7LC\n",
       "JBN+PgD3mKD24doYhHUBuE5Y94pZ7jGxEtfSbnvIiUqYjVKbSUcszNII7OmIGpqBne5Dp3Ix6mnZ\n",
       "R47OTBKkjAjJlC5yOt3BLohBNhqBX6HBxBYX2nR6BTIS3bu6GjYWgg9fzhpFG7YB9zuvcD9y6/NT\n",
       "9WCr2I/PMPKwWPOELXSrJXEKhHRr9aDw5c8mXpHDqCaux8CcI/CdMOkwOrMoZwok5mFbiuvsNgVn\n",
       "6El9UKMjXiekMWxknWh24qYrMg1l4Kw37D9eBVOJs2BEmOM6PrzViLNJbPLMtdBhKATwCJij1bBJ\n",
       "AHNOAyqDNz9k2Y6XiyaREb1a4GDv0vlbv39jm8rl4QZcwMYxcw3nRqappfY0tk26esIg3o2g6Mo6\n",
       "HEYU5GMgvGx34qjTdBCZ8vAyDQddXEv23t+GHcOicq/9dnjEqXaTxNl9ICRBXeiKTCM5uHquF2z5\n",
       "2T6yXfWxIuQiakP5ZIr8wKgtS7GwY3i6e2ExSN/q738Uwf5JuBo2FpKueNKSWZUkPtvZ1I9Udrt+\n",
       "lAbocKRNPOy/kKv0PLyPC8g4PmnM4mC/r5bwTXvGumTcDrG9ePjPDeGdLg0HQHQuNSz1EO7uB8hZ\n",
       "zr0Iyim01ra7WrIDpkhVeNsLyyGcq3s3AjWikVBC7LSuUr2uWFGUyxRPGFX32VPgFgnS1LLFFeih\n",
       "Vd9nC5nlMpXBls1GI6Ip8r7By7LJ1pTOwyfwhouMYwxu4WDfoJba0Cu+Z62eL4H6Am7hkTKO0jMg\n",
       "Hz/qXJg66nS4+mMwrOWxEtcS1rMkqv50ZQrMhkHpsmC3ae2m5tyruWEjX8YUf1P18UAuwYMj8AYx\n",
       "GoBj3h8PIomvCFQG+2MhqablAdhhoOye/fv4e8tXqn027WdqXiDjDyWkTvgOB3vLztJs9L+t1uq5\n",
       "DeQRewYll2E66rQI+edPwbuAlLiWHD113H3BXUK2/afoZcEehPBSzbkxdsMe5oqnq2CLaZhXwC4I\n",
       "xIfRMvGGHddDnyYyFOS8UZCmwnIdZZ8qlzmVrY/0esOGbU+9Q32oJmTkksbClu+9hLcoNJtp6xB6\n",
       "cwLHL9b7cclSD+GA7EOApdD2uAa/I0pcS7ae8h93eJ+Gf8C2ty8L9m0gHMKuNeEN+w9skXbs9Vls\n",
       "NrIov89iROa1Bs5ynrBJ6IfWwiAyzljGZGFbZ40M0NWDut36BkTpgGJspMCp43Q0DeIHZMHucbXk\n",
       "6D1W6zWvrftZTKj6LCbYy61yzUFqnGoYYIvqhVqwa9761QY5QdgvnkHnT2kaMo64Lq83+EPNRyh2\n",
       "UAtAV0/YQDV/X2N/gWIO4aw6LpfpyF4ysRLXkqP3blBfLYpNw97VwAXeek/LptPtdYJkinj1COzH\n",
       "inhNdZyedswux7fk6GVzwcBuyzUNW/a/VFqdqw3717Vhb7V/YD/DHaip7koZviVHTygGA3sGNA17\n",
       "4vfZXCrUhm3fZsCdTAPJmuqudCfXEqs3JRjYVwUOm3NqTA70L1wsZ+G4KsFotCtVZ1ti9f4aCGtr\n",
       "QbXaX7FGEkH0ukVvSdjKN4Po1Dp4NQw76xV8T6zL8/2J4GlvD+ATaKRAg6txK/NN0sqvNtvnypV6\n",
       "8LBlbfL7/BnJf7xSI9n/AOFs/OP+lvOcAAAAAElFTkSuQmCC\n",
       "\" style=\"display:inline;vertical-align:middle;\" /></a><br>(see <a class=\"ProveItLink\" href=\"../__pv_it/fc29cd92d54b16c4c1e90c83a2dae6e8f8a61a5a0/dependencies.ipynb\">dependencies</a>)<br>"
      ],
      "text/plain": [
       "registerQubitBornRule: forall_{n in NaturalsPos} [forall_{k in {0...2^{n} - 1}} [forall_{Psi, m | |Psi〉 in (Complexes^{2})^{otimes n}, m = MEAS(|Psi〉)} (Pr_{m}[m = k] = |{n}_〈k| . |Psi〉|^{2})]]"
      ]
     },
     "execution_count": 2,
     "metadata": {},
     "output_type": "execute_result"
    }
   ],
   "source": [
    "%proving registerQubitBornRule presuming []"
   ]
  },
  {
   "cell_type": "code",
   "execution_count": null,
   "metadata": {},
   "outputs": [],
   "source": []
  }
 ],
 "metadata": {
  "kernelspec": {
   "display_name": "Python 3",
   "language": "python",
   "name": "python3"
  }
 },
 "nbformat": 4,
 "nbformat_minor": 0
}
