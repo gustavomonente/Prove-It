{
 "cells": [
  {
   "cell_type": "markdown",
   "metadata": {},
   "source": [
    "Proof of <a class=\"ProveItLink\" href=\"../../../_context_.ipynb\">proveit</a>.<a class=\"ProveItLink\" href=\"../../_context_.ipynb\">physics</a>.<a class=\"ProveItLink\" href=\"../_context_.ipynb\">quantum</a>.<a class=\"ProveItLink\" href=\"../_theorems_.ipynb#registerQubitAllProbs\">registerQubitAllProbs</a> theorem\n",
    "========"
   ]
  },
  {
   "cell_type": "code",
   "execution_count": 1,
   "metadata": {},
   "outputs": [],
   "source": [
    "import proveit\n",
    "context = proveit.Context('..') # the theorem's context is in the parent directory"
   ]
  },
  {
   "cell_type": "code",
   "execution_count": 2,
   "metadata": {},
   "outputs": [
    {
     "name": "stdout",
     "output_type": "stream",
     "text": [
      "Beginning proof of registerQubitAllProbs\n",
      "Recorded 'presuming' information\n",
      "Presuming previous theorems (applied transitively).\n"
     ]
    },
    {
     "data": {
      "text/html": [
       "<strong id=\"registerQubitAllProbs\">registerQubitAllProbs:</strong> <a class=\"ProveItLink\" href=\"../__pv_it/b2a2f9c4ba140ebea81ff59fc360498402b1a8690/expr.ipynb\"><img src=\"data:image/png;base64,iVBORw0KGgoAAAANSUhEUgAAAlMAAABABAMAAADMsu/HAAAAMFBMVEX///8QEBCIiIhmZma6urrM\n",
       "zMxUVFQiIiJERETc3Nzu7u6qqqp2dnaYmJgyMjIAAAAcRTyBAAAAAXRSTlMAQObYZgAACexJREFU\n",
       "eNrVnH9sG2cZx5+cfXbuh52qqIi2m5KV0XWloxZDjE7r6hYxkKqq7pBg0qbGKxsq1bRGbBogBvXy\n",
       "x8haQTyK2I9qypVqrdZptbs1W1GIfCNbBxtKDaUMtFYJVKVjsMZd03RJkx3v3b3v3fuef7yX2Ybc\n",
       "SfHZ/r73+PXnnnve533eiwECualfuhlODJ5y37hjbvQrbBgfzYmO/AnvYx2/h/vhxUzUUb5+Ux1f\n",
       "L8GXeg0j78vWlYEjc4GU0oWfvAI/gM5sJEW50lfrsNvNl9YPFPyhKs0N7348Ze+lBfAg9CWjcEOy\n",
       "Iaj2Jn1ILYFC9V28j3agh4K2H35TbAiq8EIfUqBQqaP4yTDNrQGo4FYfUqBQ9eGLQRo3uSUaiCqX\n",
       "50uBQtWD960Z9HCC9K0HbTvrRKXO40tBQqVM4ieFLOqSHk41zqvkD/hSkFDFM/jJu+hv88BRjVFf\n",
       "qcv2cY0rBQlVJx7uxBn00G4YjLh7x5a6wmCRKwUJ1Xa8jzShN/FRrhQgVPIEGZPSjTcuTHKlAKGK\n",
       "jeMnI8kmnIdprhQgVK2kE73NsP53rhQgVG1kAPywGdaPp3hSgFBt1HFnpptivYMnBQjVcRyi1PFm\n",
       "WM9leFKAUI3hVDA+hfcGtXXUaz06jycFCNVlErNwfU8xLtlPnttwtzGvXuuRSZ4UHFQSieZ95FJZ\n",
       "c9kR375Sd2I1w5OCg0q5SCbLpPoSNdxc9Na6s7ZpnhQcVAKZ4a8kcUk0XE8IVR/r4XNnazI6Zw0X\n",
       "4Ynq336CoLKmOKe5qHw0a+oWItfYGufsjhhZR8Zz2r8Yj377jKdK8FrVPPwRM+ypFiqp+pIUlhCq\n",
       "t8z9e1xUPpo1dYuQHGG7M69pNbrKmqGv1brIJyqIJxxUcKHCNY8NXSConjTBZbiofDRr6hYnQ9SY\n",
       "40py+0VvKxHFFeUDv6ja8i6q9jJ1/zGclrQTVHHkr2qei8pHs6ZuLbjf0O5eXxvLljEF5HvCtF9U\n",
       "GzUKlVYexqboT0SoYm8ePPgEP6z7aNbcKSAZWqiSnmosqjCnjoz7RfUGuKh2ZKuisiVzBPywp+dh\n",
       "HyMgv9n/HBWMeYNxGxp9+hKwbtu6JRSq8LGnlmwRf3uP1+YZGFw1K1T3AjxWoW+6B1WVZv9XVHsN\n",
       "nW3VqYOCTqj+s/wjFCq1tRty18Jh89XweXM7Y8W6K8IvZgiqMTvdoGQHlS2ZqL4M8miFviU8qKo0\n",
       "87+FT7/TaFSK4bnYVt73h89rIOYfgq9QqO6MjkKfDiPeEW5quVwkqHpTVb2q10EVBYEuwosPvAbX\n",
       "pMtReZr52Wyfvut3WRDR/rMgpX0fhDe3/zk8zZOZUX3NBTYa91ovZXmciVVaLgkFDbZ6U7VPULGq\n",
       "N1kdVZKgUovuvTfPD62Go6oW0spR0c1Yb6EemQtXtXcZsQuUJIjrsuoe9p6oSpvKWDrCQRX1XIF4\n",
       "WqiU2LBeALgJYL63ZLCle5aopNFvOOKupzUY7EioMHTjAzfmGVR2M3l4wutbreTR1q51hO8AHD32\n",
       "UMeojA5fBTG4Xo8x90TR2wHTmWTdPIi2FHJ8LIe/vcwsakmX2bQKJ1ohFCpiq2//tLA0ZaFCU8SH\n",
       "ITwpO8Hon5bJpLm0z6Ki5Aqo4LF7bMNmPEJbf//P1QqxymomsyeMQYW1/cQ7RR2e3Qmbdeu2qP0I\n",
       "VTQrAHNPFLUVzBNwQDcPoi3J6ZqxCmILy9Iq62sh5rG1xZZtQtpCdRWgSzI0uof9zBHI5XVPWK/k\n",
       "VW5Yh5e6bMNZe6LXr75wVyVUZjNhkVIKL6iMCmuRLPbOSAr+hjjpcAi9E8/GQL9eAOaeKGobRhMB\n",
       "eaxoHsRY+ldtVBvZL0jKfn3o7aevg7ZkSDdRSeMm+7juGS63QluqFiqhHFVbh21Yky08/aAPVUJl\n",
       "NoPFSilknmnHvakL0NaQX9jeGYXwnahBVt5mfmxROgXCESD3RJ04uSSx5F73I95CH3EIffGox9IN\n",
       "NVGJbJ0qNDZhlx2sGxi2wCaI5q28qguEBCirPanTLhDQcEnyqjJUobs/Wk1JFqqYZhleC+L3e3q6\n",
       "EapnopVQWc3+oZTiZncc96ZQYS2DyxBPQOwFs3P7DqKvrKRhEMJuXffPV8MntaUQMe9j+SmKOcuv\n",
       "gHy2U0MHsZZerjWxgb21CsULYBn0ibWydaidrZPNTUGJ4VtESNteFb6dGafpetUXlVKLadtxbwoV\n",
       "1t4B2zu/Bsrz5ofsMAsA4QxIp0+64fhXXTAOt7j9zT4Kh1IF8yDGkvkaD1cE1Q6NTrdrlE1L6PT/\n",
       "VfWLqr16i3a2tIcMP9gPr1snHOBU1dLe43tKy4B2bwoV1nZj77wNpH6Ht+hJXyMd4jz4ofsSCs+d\n",
       "hT8COoixBJudiHgJwJsrttaqdITTKND98k2/qIzqLQwWFTK8ogit6GX4x0nU82qopK3TOuPeFCqs\n",
       "Id6Wd6Kh7mZ0gWjEPlsoSAkZqZSKmEPz+wDroeUnKXP6eofH0m01SnvwhutgNWoevlDJl6s2wJK3\n",
       "YLysp5tTMLaG8Sc1x70pVDiRyIDtnQeQW7wOqh1OYvToI+2EPuRXsQx582Qawu8BvGodxFg6VbZO\n",
       "sLJYIVOI1UB1Xc2CsWAXjMXqa9ZYmnVtXR6+iLq6Ke+4N5OCmpqC/kzvhKiG3nkXj3IhOkUQFyNv\n",
       "iWel+zRSJbcvqsO6eRBj6QvOKSJVqIJeIVNY27BVjqrSx12GyFfK1qmXpncKdKM4++kec0+5JznP\n",
       "WnJCnEjWCTrJpSy5mcK+i3WvcjRrcUvJVke12xHooDvIHP/r6p+VYSwpRbpq7pSk7EyBuJf0Mlk9\n",
       "rWOV4xJP+pioYlAd1SpH2ECFRvbW6Rolig2MpX1UdkOyBtKZMWu6dv5cu2FUWI+Ybem+xJMasQ4Y\n",
       "oh6Za5PyPUHzHTSytKXlVL0lxZ7/UEPvWWjr4kkBumehgF1RmWmG9c4ETwoQKnILqDzRDOsr8zwp\n",
       "QKii5BL5XjOsb+dKAUKlkjXT49kmWP8UVwoQKoksGvfhGH6NG8tXrKjTeHiGKwXpFv9zZPDGV2LU\n",
       "mQDEdCVdn+3IFFcKEqoRnC3EcLaQcxIQBG2qzlwhwZWChKqNZOd4Nuj+r1YuBYsbcxpqSEFCpZIb\n",
       "FF613WlIXEoynyz8qD7b5/lSoP518irSadu93j+S07aaBedip+b999zZRvVLfClQqEZwcMKLThPO\n",
       "RYO8an59M8AEXwoUqjgJVv+xqjLzd1Gxqr77/g9rfClQqMRJ14vQDDyzSYL7zdpCse4R8GofUrB+\n",
       "Z+FtkkeZmVVrxzcFUrdI1JdXRdI+pGChipC48S3zcsxGPuNk60MNOQU1JZ+o5srP5/ybRK2G3pQq\n",
       "LeRLfn8+Rx6YGz+fA8+SDqUaiirLl9YPDGj/BXM5md1BSk6JAAAAAElFTkSuQmCC\n",
       "\" style=\"display:inline;vertical-align:middle;\" /></a><br>(see <a class=\"ProveItLink\" href=\"../__pv_it/b2a2f9c4ba140ebea81ff59fc360498402b1a8690/dependencies.ipynb\">dependencies</a>)<br>"
      ],
      "text/plain": [
       "registerQubitAllProbs: forall_{n in NaturalsPos} [forall_{Psi, m | |Psi〉 in (Complexes^{2})^{otimes n}, m = MEAS(|Psi〉)} ((Sum_{k=0}^{2^{n} - 1} Pr_{m}[m = k]) = 1)]"
      ]
     },
     "execution_count": 2,
     "metadata": {},
     "output_type": "execute_result"
    }
   ],
   "source": [
    "%proving registerQubitAllProbs presuming []"
   ]
  },
  {
   "cell_type": "code",
   "execution_count": null,
   "metadata": {},
   "outputs": [],
   "source": []
  }
 ],
 "metadata": {
  "kernelspec": {
   "display_name": "Python 3",
   "language": "python",
   "name": "python3"
  }
 },
 "nbformat": 4,
 "nbformat_minor": 0
}
