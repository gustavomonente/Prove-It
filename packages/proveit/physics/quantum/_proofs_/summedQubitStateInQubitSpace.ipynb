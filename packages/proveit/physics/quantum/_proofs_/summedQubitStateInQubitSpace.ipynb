{
 "cells": [
  {
   "cell_type": "markdown",
   "metadata": {},
   "source": [
    "Proof of <a class=\"ProveItLink\" href=\"../../../_context_.ipynb\">proveit</a>.<a class=\"ProveItLink\" href=\"../../_context_.ipynb\">physics</a>.<a class=\"ProveItLink\" href=\"../_context_.ipynb\">quantum</a>.<a class=\"ProveItLink\" href=\"../_theorems_.ipynb#summedQubitStateInQubitSpace\">summedQubitStateInQubitSpace</a> theorem\n",
    "========"
   ]
  },
  {
   "cell_type": "code",
   "execution_count": 1,
   "metadata": {},
   "outputs": [],
   "source": [
    "import proveit\n",
    "context = proveit.Context('..') # the theorem's context is in the parent directory"
   ]
  },
  {
   "cell_type": "code",
   "execution_count": 2,
   "metadata": {},
   "outputs": [
    {
     "name": "stdout",
     "output_type": "stream",
     "text": [
      "Beginning proof of summedQubitStateInQubitSpace\n",
      "Recorded 'presuming' information\n",
      "Presuming previous theorems (applied transitively).\n"
     ]
    },
    {
     "data": {
      "text/html": [
       "<strong id=\"summedQubitStateInQubitSpace\">summedQubitStateInQubitSpace:</strong> <a class=\"ProveItLink\" href=\"../__pv_it/f6633639da3579287bf66aedf952f033a80737da0/expr.ipynb\"><img src=\"data:image/png;base64,iVBORw0KGgoAAAANSUhEUgAAAY8AAAAcBAMAAABrMS6NAAAAMFBMVEX///8QEBCIiIhmZma6urrM\n",
       "zMxUVFQiIiJERETc3Nzu7u6qqqp2dnaYmJgyMjIAAAAcRTyBAAAAAXRSTlMAQObYZgAABL9JREFU\n",
       "WMPdWF1oHFUUPk1mstn52eShUtqCjgZqKQEXQrHEBLcW7UvRTUTbh2KG2FAQLGkbXWuLhCq6aRUX\n",
       "FQy1JWOEWGIli2Ux1YpLYh9Ma1lokLZYGF+sFjsGqtbmofH+zc3Mzkx21mEL9ix7d3bmO/fe797z\n",
       "dwfgfyzKhna4K+R72FUVviGzL8pwYqpWRPZBTw40dLE5UwyDj0Ub7tma7cgAjKTgCXwV1+8AkWs1\n",
       "NK5vDVBKd4hIPd77eClKF6cCn+xB31cpERP/v1KJSAhUkIwYqDkeaS0acuV36q7+seJ1FLaS6LqF\n",
       "EjlbefcRkbP/3UamcfNbJCKSWR4/evLSoxcALpCVokSG8c9gJSIhUEGyGn3VpOe2rAXgv/C5N1X2\n",
       "v9SL+rwBQlFIo+nlCZEE2nklX4lICFSAxOdxD7loRD5mvxczGbw5anoVap+H576eRPOqHyRE1Jnx\n",
       "8Q8rOnsIVICozajxUa2KSIKmom3rWPwgxjEK9y0sYH9pplHrn2z2gI9u0R21AlBBOfDcEA9aJvPH\n",
       "0TUftGpVEHHiiVODZDvpmOg0VWGeEukDGPLpL+kmEoAKkEbYyi/x4r2DZlFU98RMEAdDEmF4tq2m\n",
       "K3gdFZzK4l+UyCZvUPAhEoDyEfntnb0JmOBWgVPVfrSohjIv5MS2/pBEKN4G99PlYfK+i0j8T0ok\n",
       "BnXObCXu/Q7u1z1EylABYfJ0W0naZoi/A3zJlXFHy9EzujcCmZJiWVfvtSxvOj5vWbst6xfgeDap\n",
       "Odx2WUjwch4XnaWVxIgopcXM/dl0J0wqRr0x3ba3Le8k4kQFysVT46AeBTgNEk8cCUYEoEnjREI5\n",
       "e5NWRmSY92noPjsSN3lVpx4+YsA3WlLxmhZFTa1fk/YcClq6+5jXYZ3HCwgMYwb3EWZaAD3p6ohg\n",
       "vNrZ3cK1lvF5JnWyZ4zlLVZrDe2wFTbh+4XCez5ECKrO2BVLwQvugdc1mANsoXBz+RIeo/0ELy+Y\n",
       "s8vGQ0g/PBGKVzeWluVsZ6/nKgcfQ82TZVELTqK+qQKBF5TPt/sQwSgRrgNsX+UeOJ2wnecT3HyF\n",
       "K7zYwk1eFTXTMuWp/LtwzLsj0m27mTBdRCj+yIPQhHMe9Yn9PKb/OiNNHnJkKkIE2yJRkMjkC1Cc\n",
       "9iFCLfYWqzad0mTHlq3ZbFb76Bn3U7xesBnF/gdGO0s+pvWy3cR0FxGG74WNeK+pQY+9YVvs0z/f\n",
       "XM9ZDTIiKn6KFcRXstmDiMgxPPN0GRGCEudEL5EeSKuPXEFr1kC6HV20XiLLXSVKFT5C5B7oQEN+\n",
       "yv5teSvjTQIJzXkeIQo63RGhO+A8MqKYCiEybMQPkQZ95s5DUV4LaIIKJh/vSLtrvA5X0SjbRCQj\n",
       "gMi4q1Kbg4GCt2h0yYThIEIVzuDLWYCfAoiMzU7NECJdeXEldOXEleJq6cUtrQb0kYx9GINOWG+6\n",
       "IlsXCRX2OA//rVVTqQk6tJYq5OIfnSdEqtCIUofwWoraSOAJEZsWzzEy/emvm8WOjXzEeyrKRz5Y\n",
       "NeaWevqSz1F3LfKRSkfd7ht5kHPuU6ikyz8seSqKdtS9tGR5XYxwZlcXjziV1U/W9uXWcBVvUaK9\n",
       "15JTNSXSTt5r6XC3yL9XgU13HQsD1AAAAABJRU5ErkJggg==\n",
       "\" style=\"display:inline;vertical-align:middle;\" /></a><br>(see <a class=\"ProveItLink\" href=\"../__pv_it/f6633639da3579287bf66aedf952f033a80737da0/dependencies.ipynb\">dependencies</a>)<br>"
      ],
      "text/plain": [
       "summedQubitStateInQubitSpace: forall_{n in NaturalsPos} [forall_{x_{1}, ..x_{_a}.., x_{n} in Complexes^{2}} ((x_{1} + ..x_{_a}.. + x_{n}) in Complexes^{2})]"
      ]
     },
     "execution_count": 2,
     "metadata": {},
     "output_type": "execute_result"
    }
   ],
   "source": [
    "%proving summedQubitStateInQubitSpace presuming []"
   ]
  },
  {
   "cell_type": "code",
   "execution_count": null,
   "metadata": {},
   "outputs": [],
   "source": []
  }
 ],
 "metadata": {
  "kernelspec": {
   "display_name": "Python 3",
   "language": "python",
   "name": "python3"
  }
 },
 "nbformat": 4,
 "nbformat_minor": 0
}
