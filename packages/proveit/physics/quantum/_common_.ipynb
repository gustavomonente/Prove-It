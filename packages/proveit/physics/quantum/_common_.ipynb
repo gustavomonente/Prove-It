{
 "cells": [
  {
   "cell_type": "markdown",
   "metadata": {},
   "source": [
    "Common expressions for context <a class=\"ProveItLink\" href=\"_context_.ipynb\">proveit.physics.quantum</a>\n",
    "========"
   ]
  },
  {
   "cell_type": "code",
   "execution_count": 1,
   "metadata": {},
   "outputs": [],
   "source": [
    "import proveit\n",
    "# Automation is not needed when building common expressions:\n",
    "proveit.defaults.automation = False # This will speed things up.\n",
    "from proveit import Lambda # added 2/12/2020 by wdc\n",
    "from proveit._common_ import n, A, B, C, D\n",
    "from proveit import Variable, Literal\n",
    "# from proveit.multiExpression import Block\n",
    "from proveit.number import Exp, frac, sqrt\n",
    "from proveit.number import zero, one, two\n",
    "from proveit.number.numberSets import Complexes\n",
    "from proveit.linalg import SU, TensorExp\n",
    "from proveit.physics.quantum.circuit import Gate\n",
    "from proveit.physics.quantum.quantumOps import Ket\n",
    "# the context is in the current directory:\n",
    "context = proveit.Context('.') # adds context root to sys.path if necessary"
   ]
  },
  {
   "cell_type": "code",
   "execution_count": 2,
   "metadata": {},
   "outputs": [
    {
     "name": "stdout",
     "output_type": "stream",
     "text": [
      "Defining common sub-expressions for context 'proveit.physics.quantum'\n",
      "Subsequent end-of-cell assignments will define common sub-expressions\n",
      "%end_common will finalize the definitions\n"
     ]
    }
   ],
   "source": [
    "%begin common"
   ]
  },
  {
   "cell_type": "code",
   "execution_count": 3,
   "metadata": {},
   "outputs": [
    {
     "data": {
      "text/html": [
       "<strong id=\"I\">I:</strong> <a class=\"ProveItLink\" href=\"__pv_it/c53e3418af62c6a087a212ca3110f821b1d3ca7c0/expr.ipynb\"><img src=\"data:image/png;base64,iVBORw0KGgoAAAANSUhEUgAAAAsAAAAOBAMAAAALT/umAAAAIVBMVEX///+6urqIiIjMzMwiIiLc\n",
       "3NxUVFQyMjJERER2dnYAAACYWiDdAAAAAXRSTlMAQObYZgAAAAlwSFlzAAAOxAAADsQBlSsOGwAA\n",
       "AENJREFUCNdjYGCYsaosgAEIloAIBuaVYIppIZjiWACmuArAlJQCmJplAKaqwCTDCjDJuAhMcS4G\n",
       "UyxgbWFVyyYwMAAAJc0LPUmARaoAAAAASUVORK5CYII=\n",
       "\" style=\"display:inline;vertical-align:middle;\" /></a><br>"
      ],
      "text/plain": [
       "I: I"
      ]
     },
     "execution_count": 3,
     "metadata": {},
     "output_type": "execute_result"
    }
   ],
   "source": [
    " # Single qubit identity operator; used to denote an empty wire in a Circuit()\n",
    "I = Literal('I')"
   ]
  },
  {
   "cell_type": "code",
   "execution_count": 4,
   "metadata": {},
   "outputs": [
    {
     "data": {
      "text/html": [
       "<strong id=\"X\">X:</strong> <a class=\"ProveItLink\" href=\"__pv_it/38248b2bc47f368dfc3977c8df851513134b54200/expr.ipynb\"><img src=\"data:image/png;base64,iVBORw0KGgoAAAANSUhEUgAAABIAAAAOBAMAAADQ9FGEAAAAMFBMVEX///+6urpmZmaYmJjMzMzc\n",
       "3NxUVFSqqqoyMjIiIiLu7u52dnYQEBBERESIiIgAAAApsOdKAAAAAXRSTlMAQObYZgAAAAlwSFlz\n",
       "AAAOxAAADsQBlSsOGwAAAGRJREFUCNdjYGB4+/80w8o/7QxAkF/AwH4VxGDwv8AQBmYwcHzlSoCw\n",
       "mD8tY4CC81kw1v4HMFb+BCiDKewjlKXC8hfC4HZgmB8AZm1kYLDfAGKsVWBg4P8FZPieP8LA2P8z\n",
       "gQEAVF0Z1F9+OPgAAAAASUVORK5CYII=\n",
       "\" style=\"display:inline;vertical-align:middle;\" /></a><br>\n",
       "<strong id=\"Y\">Y:</strong> <a class=\"ProveItLink\" href=\"__pv_it/03aece9ee1e29fa4fee2fdf6d919d807abddaa9d0/expr.ipynb\"><img src=\"data:image/png;base64,iVBORw0KGgoAAAANSUhEUgAAABAAAAAOBAMAAADUAYG5AAAALVBMVEX///9mZmZERER2dnYiIiKY\n",
       "mJgyMjK6urqIiIiqqqrc3NwQEBBUVFTu7u4AAAC5bdywAAAAAXRSTlMAQObYZgAAAAlwSFlzAAAO\n",
       "xAAADsQBlSsOGwAAAFlJREFUCNdjuLNvzwIGzn07GBjqEhgYGFKBmOUVAwNHAZDB8ZiBYSaQZuB9\n",
       "zcDeAGIw6BUsBtMM884KQBjcbyA0A9NbKIM7AcpYZwBlxBVAGXpQ+tC7EyAKAM9EE4HndApcAAAA\n",
       "AElFTkSuQmCC\n",
       "\" style=\"display:inline;vertical-align:middle;\" /></a><br>\n",
       "<strong id=\"Z\">Z:</strong> <a class=\"ProveItLink\" href=\"__pv_it/783edb764d1993fad1ae80b7c8d70eadf17eb2710/expr.ipynb\"><img src=\"data:image/png;base64,iVBORw0KGgoAAAANSUhEUgAAAA4AAAAOBAMAAADtZjDiAAAAMFBMVEX///+IiIh2dnbMzMxERETc\n",
       "3NyqqqpmZmbu7u6YmJi6uroiIiJUVFQyMjIQEBAAAADo4HZ1AAAAAXRSTlMAQObYZgAAAAlwSFlz\n",
       "AAAOxAAADsQBlSsOGwAAAGhJREFUCNdjYGB4//bM2d8MDFw/GRi6XzAwsCcwMNwLYGDgYWBg+czA\n",
       "wMDMwFC/gAEEmH6CKYb5AmCK7TuEu/4AAytI3RegXiAdd4GBYSUDA8fuBgaGHQwMvE8ZGGwdgGZs\n",
       "cbn3fwIDAIgFGN/camm4AAAAAElFTkSuQmCC\n",
       "\" style=\"display:inline;vertical-align:middle;\" /></a><br>"
      ],
      "text/plain": [
       "X: X\n",
       "Y: Y\n",
       "Z: Z"
      ]
     },
     "execution_count": 4,
     "metadata": {},
     "output_type": "execute_result"
    }
   ],
   "source": [
    "# Pauli's X, Y, Z\n",
    "X, Y, Z = Literal('X'), Literal('Y'), Literal('Z')"
   ]
  },
  {
   "cell_type": "code",
   "execution_count": 5,
   "metadata": {},
   "outputs": [
    {
     "data": {
      "text/html": [
       "<strong id=\"H\">H:</strong> <a class=\"ProveItLink\" href=\"__pv_it/0755e195d53d597439e6071125e6bffe22b34af90/expr.ipynb\"><img src=\"data:image/png;base64,iVBORw0KGgoAAAANSUhEUgAAABMAAAAOBAMAAAA/Njq6AAAAMFBMVEX///9ERESqqqq6urpmZmbc\n",
       "3Nx2dnbMzMwiIiIQEBCYmJju7u4yMjJUVFSIiIgAAAATN2ysAAAAAXRSTlMAQObYZgAAAAlwSFlz\n",
       "AAAOxAAADsQBlSsOGwAAAHdJREFUCNdjYGB4+//shrXzz25gAII/QDwDxGBg/8bAwPoFzGT7zMDA\n",
       "9QnM5PnAwMD4G8zkF2Bg4GwAM+1779697wBm5hcwMLxXADPPA7E82FSGj0A8B8xi/gcxGmTsdwYG\n",
       "vs9gJgfI2A8g1t7zfx/wyn98wMAAAH9tIltv2y/LAAAAAElFTkSuQmCC\n",
       "\" style=\"display:inline;vertical-align:middle;\" /></a><br>"
      ],
      "text/plain": [
       "H: H"
      ]
     },
     "execution_count": 5,
     "metadata": {},
     "output_type": "execute_result"
    }
   ],
   "source": [
    "# Hadamard\n",
    "H = Literal('H')"
   ]
  },
  {
   "cell_type": "code",
   "execution_count": 6,
   "metadata": {},
   "outputs": [
    {
     "data": {
      "text/html": [
       "<strong id=\"MES\">MES:</strong> <a class=\"ProveItLink\" href=\"__pv_it/2763e472ebf05bfa30dcfbe88d3157bf1624d9810/expr.ipynb\"><img src=\"data:image/png;base64,iVBORw0KGgoAAAANSUhEUgAAADoAAAAeCAMAAABKWP06AAAAQlBMVEX///96enqhoaEQEBCurq4Z\n",
       "GRkdHR0kJCQoKCjOzs4fHx8iIiJ2dnaYmJgyMjJUVFS6urrMzMxERETc3Nzu7u4AAACn2o6bAAAA\n",
       "AXRSTlMAQObYZgAAAAlwSFlzAAAOxAAADsQBlSsOGwAAAI9JREFUOMvVlM0SwBAMhPUXHYpG3/9V\n",
       "e21MidmZHuxR8rETrFIfurukPlHVoVHQTDB6JRSNATZ8Eop6B4/psCjqTALRrAN6r0ETiCbj0Ndk\n",
       "t8ya5P9UWRdPffWvC6MFlJ2zzGyrJsoNTgf30UDLBNkt91JHS9J5NrkGWhbyKXVUCyGiAZMuOJuI\n",
       "hg3TH9EuPcCJEeofKJHrAAAAAElFTkSuQmCC\n",
       "\" style=\"display:inline;vertical-align:middle;\" /></a><br>"
      ],
      "text/plain": [
       "MES: [GATE](MES)"
      ]
     },
     "execution_count": 6,
     "metadata": {},
     "output_type": "execute_result"
    }
   ],
   "source": [
    "# Measurement Gate\n",
    "MES = Gate(Literal('MES'))"
   ]
  },
  {
   "cell_type": "code",
   "execution_count": 7,
   "metadata": {},
   "outputs": [
    {
     "data": {
      "text/html": [
       "<strong id=\"SPACE\">SPACE:</strong> <a class=\"ProveItLink\" href=\"__pv_it/e05d2947fd18ad5a48d37690a0d4ef9808c4ccc70/expr.ipynb\"><img src=\"data:image/png;base64,iVBORw0KGgoAAAANSUhEUgAAAE0AAAAPBAMAAABTt1/kAAAAMFBMVEX///8iIiIQEBBUVFTc3NzM\n",
       "zMwyMjLu7u6IiIhERES6urqYmJh2dnZmZmaqqqoAAABQ2t8hAAAAAXRSTlMAQObYZgAAAAlwSFlz\n",
       "AAAOxAAADsQBlSsOGwAAAYdJREFUKM9tUT1Iw0AYfdVo0tofcXWwm7oVIgUXLQ7iILSCe90c7aiT\n",
       "2RxbK0gXSdTFyWZyjiA4WGjEQRSLXdyEtmprC0J8d4lODdx973v3vrvvewGGfKvDSMQbtQkLmjnQ\n",
       "jx99Zkfuu0e6vQ6tPK8vTpWYV6CaDIktoFyQhZ7YtbkC3qd9XqMu5gJX5PMG0DKEIracAdRD1sS+\n",
       "gKrDhJpEDrjgaZGx6AjdTZ1wfJYokgTqFnWsr9rAJjnxtkkBFKPY5DEXxlzZrAHy2Z+cbHvA8r58\n",
       "Fi0bSkdANSf4iC379bwFUdqHci3uwCXyDqL9wI1IRzczEq2ZH0L+WbuzZO4im0KoG+iiXWz8OfhK\n",
       "QbgdJNpJY7mEkW/5LudpsxHGONP9pm+Tby/xJEKy7I24BEVwo0yztCrvBDqOGEpK5wByVWHpAXDK\n",
       "8CLss4K+bfmWIuaIsl54qaSAe86W+v+nwApXmJfRm/gt8QzXGe9wzx+WCNNeRcr2vG3EzZ4D9Ul/\n",
       "5iBpT9fLPeAXoBxzI/UwBhQAAAAASUVORK5CYII=\n",
       "\" style=\"display:inline;vertical-align:middle;\" /></a><br>"
      ],
      "text/plain": [
       "SPACE: SPACE"
      ]
     },
     "execution_count": 7,
     "metadata": {},
     "output_type": "execute_result"
    }
   ],
   "source": [
    "# SPACE: is used as a blank space holder in situations like classically controlled circuits \n",
    "SPACE = Literal('SPACE')"
   ]
  },
  {
   "cell_type": "code",
   "execution_count": 8,
   "metadata": {},
   "outputs": [
    {
     "data": {
      "text/html": [
       "<strong id=\"WIRE\">WIRE:</strong> <a class=\"ProveItLink\" href=\"__pv_it/1900a170d16be65de0140b1fe35fb728e6cc10d20/expr.ipynb\"><img src=\"data:image/png;base64,iVBORw0KGgoAAAANSUhEUgAAAEAAAAAOBAMAAABtFQfxAAAAMFBMVEX///+qqqqIiIhmZmbc3NzM\n",
       "zMyYmJju7u5ERERUVFS6uroyMjIQEBAiIiJ2dnYAAAApDa38AAAAAXRSTlMAQObYZgAAAAlwSFlz\n",
       "AAAOxAAADsQBlSsOGwAAAUlJREFUGNM1UDFPwmAQfSmtNSWWidkmJsYNZhcbNzd+gAl1cjI0ODmJ\n",
       "OCgDgcEBojFMDgzibExYiZHoSmIif0AwCAoWwXdfscndfXf37u694n16j6vpGQ5+Pdil4ALYmBfO\n",
       "T8D4VKgWW7BmgP0DGGXWYi90GANpyQJBQf8MAba00l06YwAsD6FGcQhzAkS/gLoAEjU6bcTKMBxD\n",
       "Vi1a54zMoiQu+sFVORU1GEAbenyGJReLq4jloHfCeCP5K2zyyMrTGohv5NdOUxI7laHkTcTNcXjB\n",
       "Honvu2bFl5gylKiS7yCwav/XgQdu76pJJEHk1raPthIpV/lR1nE5/B2u6XDTHnnsK0DDESLUvJpc\n",
       "ENK4IcGxpqcAfeEW+ebDMUJCO7QMBRZVH280c5eAjFPHCglZj6zc0jalrV/Or6mk1/MQyXtHzUm1\n",
       "8nyHP8braok6aljUAAAAAElFTkSuQmCC\n",
       "\" style=\"display:inline;vertical-align:middle;\" /></a><br>"
      ],
      "text/plain": [
       "WIRE: WIRE"
      ]
     },
     "execution_count": 8,
     "metadata": {},
     "output_type": "execute_result"
    }
   ],
   "source": [
    "# WIRE: is used to explicitly denote a classical wire.  The classical version of 'I'\n",
    "WIRE = Literal('WIRE')"
   ]
  },
  {
   "cell_type": "code",
   "execution_count": 9,
   "metadata": {},
   "outputs": [
    {
     "data": {
      "text/html": [
       "<strong id=\"PLUS\">PLUS:</strong> <a class=\"ProveItLink\" href=\"__pv_it/9eae512379f2c3552c6a56d098811c7039efaaa90/expr.ipynb\"><img src=\"data:image/png;base64,iVBORw0KGgoAAAANSUhEUgAAAA4AAAAOBAMAAADtZjDiAAAAHlBMVEX///9UVFQQEBAiIiJmZmaI\n",
       "iIiqqqqYmJi6uroAAAAAFVhYAAAAAXRSTlMAQObYZgAAAAlwSFlzAAAOxAAADsQBlSsOGwAAAB9J\n",
       "REFUCNdjYGBgaGeAgFRiaGdjYyVjY0Oi1SPRIHsAgDEGyG9xCpgAAAAASUVORK5CYII=\n",
       "\" style=\"display:inline;vertical-align:middle;\" /></a><br>"
      ],
      "text/plain": [
       "PLUS: +"
      ]
     },
     "execution_count": 9,
     "metadata": {},
     "output_type": "execute_result"
    }
   ],
   "source": [
    "# For positive X eigenstate\n",
    "PLUS = Literal(stringFormat='+', latexFormat='+')"
   ]
  },
  {
   "cell_type": "code",
   "execution_count": 10,
   "metadata": {},
   "outputs": [
    {
     "data": {
      "text/html": [
       "<strong id=\"MINUS\">MINUS:</strong> <a class=\"ProveItLink\" href=\"__pv_it/18cf2b394631177fc952e04bc28dd3218c0320cc0/expr.ipynb\"><img src=\"data:image/png;base64,iVBORw0KGgoAAAANSUhEUgAAAA4AAAABBAMAAAAcMII3AAAAElBMVEX////MzMwiIiIyMjLu7u4A\n",
       "AADe/Ps1AAAAAXRSTlMAQObYZgAAAAlwSFlzAAAOxAAADsQBlSsOGwAAAA1JREFUCNdjcFYCAUUA\n",
       "BKYBD24TAeoAAAAASUVORK5CYII=\n",
       "\" style=\"display:inline;vertical-align:middle;\" /></a><br>"
      ],
      "text/plain": [
       "MINUS: -"
      ]
     },
     "execution_count": 10,
     "metadata": {},
     "output_type": "execute_result"
    }
   ],
   "source": [
    "# For negative X eigenstate\n",
    "MINUS = Literal(stringFormat='-', latexFormat='-') "
   ]
  },
  {
   "cell_type": "code",
   "execution_count": 11,
   "metadata": {},
   "outputs": [
    {
     "data": {
      "text/html": [
       "<strong id=\"ket0\">ket0:</strong> <a class=\"ProveItLink\" href=\"__pv_it/35bcbdd3f7a7f3b11d696bd376a9005b1248aa9d0/expr.ipynb\"><img src=\"data:image/png;base64,iVBORw0KGgoAAAANSUhEUgAAABQAAAAVBAMAAAC0+9ObAAAAMFBMVEX///8QEBBUVFRERESYmJgi\n",
       "IiLu7u6qqqoyMjJmZmbMzMyIiIi6urp2dnbc3NwAAADV54WuAAAAAXRSTlMAQObYZgAAAAlwSFlz\n",
       "AAAOxAAADsQBlSsOGwAAAKFJREFUCNdjeMAABlxAfAfCZF4AZvLensfAPgHMbGdIfcAQAGKyBDDw\n",
       "GjBcBzGZFRjYvzE8BjH5JzDwfGfgeABk5gOZXxjYLwCZ7y8wcP1mAOqDMP8yMMwBKbjAwAMUXQTR\n",
       "xv6dgaEWZJgBA8s3BoY+kBUCDJwNDHwGIIvDGRIXMPAWgJi5u7UYGFjhjmSoRDDt4Ey2BjiT24GB\n",
       "YRfUQwwMACjcMmWaDYiIAAAAAElFTkSuQmCC\n",
       "\" style=\"display:inline;vertical-align:middle;\" /></a><br>\n",
       "<strong id=\"ket1\">ket1:</strong> <a class=\"ProveItLink\" href=\"__pv_it/ec69f871195686be823e4989460d2913f85624160/expr.ipynb\"><img src=\"data:image/png;base64,iVBORw0KGgoAAAANSUhEUgAAABQAAAAVBAMAAAC0+9ObAAAAMFBMVEX///+YmJiqqqoQEBBEREQy\n",
       "MjJmZmZUVFTu7u4iIiLMzMyIiIi6urp2dnbc3NwAAACIMV78AAAAAXRSTlMAQObYZgAAAAlwSFlz\n",
       "AAAOxAAADsQBlSsOGwAAAGhJREFUCNdjeMAABlxAfAfCZFkAYa5sYGBKADE5yuIbGBgmQET3A5mX\n",
       "EMwnCCbrAziT6QKcCdQHZ+YgmMsRTF0EMw7O5HOAM3kVQMwS++kbGDjhjmRQQzD94EyOADiTW4CB\n",
       "YRfUQwwMAFPqLM6VMoBhAAAAAElFTkSuQmCC\n",
       "\" style=\"display:inline;vertical-align:middle;\" /></a><br>\n",
       "<strong id=\"ketPlus\">ketPlus:</strong> <a class=\"ProveItLink\" href=\"__pv_it/e5be8992c8a751ed405faee3306a8c19bfafeb370/expr.ipynb\"><img src=\"data:image/png;base64,iVBORw0KGgoAAAANSUhEUgAAABoAAAAVBAMAAACqMuMoAAAAMFBMVEX////u7u4yMjJERERUVFQQ\n",
       "EBAiIiJmZmaqqqqYmJjMzMyIiIi6urp2dnbc3NwAAAC2AzRPAAAAAXRSTlMAQObYZgAAAAlwSFlz\n",
       "AAAOxAAADsQBlSsOGwAAAGtJREFUGNNjeMAAA1xAfAfOY16AzOMoQOYxJEB5PBNA5A0oj2MDiHyM\n",
       "wmN6gMzjuIDMAxqDzKsB8tjT0lLD0tIcGBiWoMj1ovD0kHl8Bsg83gZkHhuKW9pRXG2H7CNGBWQe\n",
       "N1DBLkRIMDAAAE69JzN51K2cAAAAAElFTkSuQmCC\n",
       "\" style=\"display:inline;vertical-align:middle;\" /></a><br>\n",
       "<strong id=\"ketMinus\">ketMinus:</strong> <a class=\"ProveItLink\" href=\"__pv_it/9573409ee6d2e03421402f43933c594555a3697c0/expr.ipynb\"><img src=\"data:image/png;base64,iVBORw0KGgoAAAANSUhEUgAAABoAAAAVBAMAAACqMuMoAAAALVBMVEX///+YmJhUVFRmZmaqqqpE\n",
       "REQiIiIyMjLu7u7MzMyIiIi6urp2dnbc3NwAAABhMgNFAAAAAXRSTlMAQObYZgAAAAlwSFlzAAAO\n",
       "xAAADsQBlSsOGwAAAGBJREFUGNNjuMAAA5xAfBrOY52AzGMxQOYxJKDwjqDwrqLw2C8g81gOIPOA\n",
       "xiDzrIE8jrI0EADaPQlFzgeFV4vM4w1A5vE4IPPYUNzijMKLReZxFCDzuAQYGFYiQoKBAQD6ixvZ\n",
       "2EETeQAAAABJRU5ErkJggg==\n",
       "\" style=\"display:inline;vertical-align:middle;\" /></a><br>"
      ],
      "text/plain": [
       "ket0: |0〉\n",
       "ket1: |1〉\n",
       "ketPlus: |+〉\n",
       "ketMinus: |-〉"
      ]
     },
     "execution_count": 11,
     "metadata": {},
     "output_type": "execute_result"
    }
   ],
   "source": [
    "ket0, ket1, ketPlus, ketMinus = Ket(zero), Ket(one), Ket(PLUS), Ket(MINUS)"
   ]
  },
  {
   "cell_type": "code",
   "execution_count": 12,
   "metadata": {},
   "outputs": [
    {
     "data": {
      "text/html": [
       "<strong id=\"Xgate\">Xgate:</strong> <a class=\"ProveItLink\" href=\"__pv_it/0aa4d2fe43696be419b0193d25688492f437ecec0/expr.ipynb\"><img src=\"data:image/png;base64,iVBORw0KGgoAAAANSUhEUgAAADQAAAAbBAMAAADBrLE7AAAAMFBMVEX///+6urpmZmaYmJjMzMzc\n",
       "3NxUVFSqqqoyMjIiIiLu7u52dnYQEBBERESIiIgAAAApsOdKAAAAAXRSTlMAQObYZgAAAAlwSFlz\n",
       "AAAOxAAADsQBlSsOGwAAAH9JREFUKM9jYICD/2gAIcPwgQEF8A9SKb77fzZwzT9RgE0X23cGhtoA\n",
       "rAay/GVgTcBhV3/AMlzOsNdKwCXF820BVAoRnFAp7n84/cX2E6eUar4ADikmB/8LOKS2MHB+xS7F\n",
       "LcDA/BurFNclUEpYgEWK5c4fBwaJ/9MGaQJAT70AanlbdJZ2ve0AAAAASUVORK5CYII=\n",
       "\" style=\"display:inline;vertical-align:middle;\" /></a><br>\n",
       "<strong id=\"Ygate\">Ygate:</strong> <a class=\"ProveItLink\" href=\"__pv_it/4980cdbc2dae95108e57e7d5ce1711e39d3461f50/expr.ipynb\"><img src=\"data:image/png;base64,iVBORw0KGgoAAAANSUhEUgAAADMAAAAbBAMAAAAjcKpCAAAALVBMVEX///9mZmZERER2dnYiIiKY\n",
       "mJgyMjK6urqIiIiqqqrc3NwQEBBUVFTu7u4AAAC5bdywAAAAAXRSTlMAQObYZgAAAAlwSFlzAAAO\n",
       "xAAADsQBlSsOGwAAAHVJREFUKM9jYICDd6jgAUKGAZnNwMDHMCileE+/PsXAMPt1AxZd7M+ABFsA\n",
       "VgP9FjAwtGO3q8+AgXMCdql7GxgqcLiQ6TmXAUwKLTw531zE6a99B3BK6V3AKbUNZ0BxPcYpxfoc\n",
       "pxTTA1xSPHpvGgZvAkBPvQAbrVNT7pOysQAAAABJRU5ErkJggg==\n",
       "\" style=\"display:inline;vertical-align:middle;\" /></a><br>\n",
       "<strong id=\"Zgate\">Zgate:</strong> <a class=\"ProveItLink\" href=\"__pv_it/4fa923375e0e5dcf6855cf6fa39ae236ffd10e920/expr.ipynb\"><img src=\"data:image/png;base64,iVBORw0KGgoAAAANSUhEUgAAADIAAAAbBAMAAADMssF8AAAAMFBMVEX///+IiIh2dnbMzMxERETc\n",
       "3NyqqqpmZmbu7u6YmJi6uroiIiJUVFQyMjIQEBAAAADo4HZ1AAAAAXRSTlMAQObYZgAAAAlwSFlz\n",
       "AAAOxAAADsQBlSsOGwAAAIBJREFUKM9jYIAD/v8ogAFJhoEBB2+wyLx/e+bsb2wyXD8ZGLpfYJNh\n",
       "T2BguBeATYaHgYHlM1Z7mBkY6hfgcBvTTygPIwznC+BwNdt3XP5Zf4CBFbsLvgBdjlUm7gIDw0ps\n",
       "Mhy7GxgYdmCT4X3KwGDrgE2mfovLvf8TBmFso6ZRAMC2QrVpjLZoAAAAAElFTkSuQmCC\n",
       "\" style=\"display:inline;vertical-align:middle;\" /></a><br>\n",
       "<strong id=\"Hgate\">Hgate:</strong> <a class=\"ProveItLink\" href=\"__pv_it/c2ee9bcb7f1d7c8316c0aae94c8f9db06ce6ab570/expr.ipynb\"><img src=\"data:image/png;base64,iVBORw0KGgoAAAANSUhEUgAAADQAAAAbBAMAAADBrLE7AAAAMFBMVEX///9ERESqqqq6urpmZmbc\n",
       "3Nx2dnbMzMwiIiIQEBCYmJju7u4yMjJUVFSIiIgAAAATN2ysAAAAAXRSTlMAQObYZgAAAAlwSFlz\n",
       "AAAOxAAADsQBlSsOGwAAAI9JREFUKM9jYICD/2gAIcPwgQEF8A9SKb77f25z3fxzG5su/gMMDJwN\n",
       "WA2sT2BgiHfAKpVvwMCwXgGr1Hkglt+AVeojEM+AuBARnGAp5h937979gtXxbN+BHviEVYoHSDL+\n",
       "xirFLwD01gGsUvYPIF7DIpVfwMDw3gCrVD/IW9iCl/vO/3sMF//LDdIEgJ56AWMZYmYb1qlmAAAA\n",
       "AElFTkSuQmCC\n",
       "\" style=\"display:inline;vertical-align:middle;\" /></a><br>"
      ],
      "text/plain": [
       "Xgate: [GATE](X)\n",
       "Ygate: [GATE](Y)\n",
       "Zgate: [GATE](Z)\n",
       "Hgate: [GATE](H)"
      ]
     },
     "execution_count": 12,
     "metadata": {},
     "output_type": "execute_result"
    }
   ],
   "source": [
    "Xgate, Ygate, Zgate, Hgate = Gate(X), Gate(Y), Gate(Z), Gate(H)"
   ]
  },
  {
   "cell_type": "code",
   "execution_count": 13,
   "metadata": {},
   "outputs": [
    {
     "data": {
      "text/html": [
       "<strong id=\"CONTROL\">CONTROL:</strong> <a class=\"ProveItLink\" href=\"__pv_it/64b12a7e6ea5df8c1cac82f397a40a28a7d714d10/expr.ipynb\"><img src=\"data:image/png;base64,iVBORw0KGgoAAAANSUhEUgAAAHAAAAAOBAMAAAAF5oXJAAAAMFBMVEX////MzMy6uroyMjJmZmYi\n",
       "IiKqqqoQEBB2dnbc3NyYmJhUVFRERESIiIju7u4AAACU7+9TAAAAAXRSTlMAQObYZgAAAAlwSFlz\n",
       "AAAOxAAADsQBlSsOGwAAAhZJREFUKM8tkjtoU2EUx39JkzS3aW7uIDg4pDjoGB1EhEKCOGRrF3Xw\n",
       "0Y4OgjoUHYQGVAgUTAb3BDenBOzUKAn4WGJphkKHlnp9FAcrmqrVNGniOed64Tv/c77z+P7nnAu4\n",
       "W40VpyC4XlxBvq2RRyx739+52rjYfnNNL9rv3qrnW36pKrA5mlZgY5vYI9EeeCRO6cVaHaI+mz4L\n",
       "oLUGkJa7+Gl4rgG/VbB7XcRMmU8twXtywjd7EgR1nF/wFEKHMNnDnRbnuFAL/bXEs76Ik3BGjaac\n",
       "+EdxnMCpMrEP25DswliPsVlxJn6Ivaeh8X2VR4ibVfIgwmV4TFiihjAvSRKcblGa0vBuYENF6/CB\n",
       "irU3M6WJtSo5tcbNR6qFcwXnp+oRqZ+y0FLHnP9xrqwsU7MUrKilk1ldf+0RP1Q9Kv1nzDnnBYmG\n",
       "7h+UZWQvrLSozQc1y+4Ln2hX9e+3CTizqLPBZ6SY1HnlcAZxu236wfiEXYHUUPX38lo2eElFzAvw\n",
       "i9RTlmtPzLcQkOnLQ3WiOhL3rght9plu0LZm1ZvCNyz8MnlN0DXqXg/gVs5GTEL4hrXZOpWOtUVa\n",
       "/h1bibKM2m4mbFNEhjq6UOiAoD3dSLJKTOwbEpu8g/tKX9/RFNvUpHXlHhWodY6z4bF7TgcrzpJk\n",
       "fG4v25SO5S8ofl28ZExgKTt4qQyKxSqR1Sqh5YfnNSDbb2T7/AOr0a1bKN343QAAAABJRU5ErkJg\n",
       "gg==\n",
       "\" style=\"display:inline;vertical-align:middle;\" /></a><br>"
      ],
      "text/plain": [
       "CONTROL: CONTROL"
      ]
     },
     "execution_count": 13,
     "metadata": {},
     "output_type": "execute_result"
    }
   ],
   "source": [
    "# CONTROL: acts as an input for a Gate() to indicate a controlled MultiQubitGate\n",
    "CONTROL = Literal('CONTROL')"
   ]
  },
  {
   "cell_type": "code",
   "execution_count": 14,
   "metadata": {},
   "outputs": [
    {
     "data": {
      "text/html": [
       "<strong id=\"CLASSICAL_CONTROL\">CLASSICAL_CONTROL:</strong> <a class=\"ProveItLink\" href=\"__pv_it/7dcbbd1a21732e617720c09d14608705cc12458b0/expr.ipynb\"><img src=\"data:image/png;base64,iVBORw0KGgoAAAANSUhEUgAAAPoAAAAPBAMAAAA/nc+kAAAAMFBMVEX////MzMy6uroyMjJmZmYi\n",
       "IiKqqqoQEBB2dnbc3NyYmJhUVFRERESIiIju7u4AAACU7+9TAAAAAXRSTlMAQObYZgAAAAlwSFlz\n",
       "AAAOxAAADsQBlSsOGwAAA4VJREFUOMutVE1IVFEU/pw/31PnzSyCaKUEGRRhrSqQZggDwcA2FfQ7\n",
       "7VwIuok2lbMoMIRGKKhNONSqlQNKpFPoolpkMi6CoCRfkSsN0zFzdPR1zrnvvveiRZsezDtv7vnO\n",
       "d+/9zncv8PdjHsQ/n3v4T481Wxw3s4hPlN+qgfAPfsfa+uuadDBK5TEa+z5VzD8UTIpfn5zW/J8k\n",
       "BGkf4LFZJ4lY6ro9f6F4eur1RR6YevcGPkDXfviM2G36SpxymXpk9mlYJT9IMn7DRtc5WZojyJ/e\n",
       "FjSJcQgY4YFSAYja+GTjKjBOA1WgsRAAqNrFS/TqHKRc1mXqqNArkgaeeEGS1mubBjiJyAQVoGZd\n",
       "T65JrFaKtYQNdRPOAAowV4HHhN0CGio+wK09TJTYS7+5JsVkPFzmzSaBA16QZPgmfYR6GXMnl2Qt\n",
       "VvTsmiTMEtWTdsZXYm+GmUfdGvCZsEQarvgAVWus8XuHbiU9j+I81EIy7vICWP1chvebZl/OzGU8\n",
       "gwRJcrwDgyaK4CxwFyGaahvIKGzjpA9QtUPS7S/0K7tU6dgGj68n4QdOmtIpi/9H0MOWSejDoUlM\n",
       "4YisMGI4D14oapWdEpMwzwcAqjY34zKE3CaGMtKSuOOM+SFEXTO2PI81K5O0aKdoEgWJVhhBPpX0\n",
       "kKwBLdPvXyUDAFV7OanVc5sYgbkpDSj98gNrFV32Zk9jqABX5yCJgiz1suiRlZCkhzNqgYPWCzsA\n",
       "ULV97BfYfhNn2zqq6quzyQucrN0W5VmQV20TkwGneCQJgcxleX1m1ZDRCVv5ksTOBgCq9rIc36Rq\n",
       "RB2dmRk5ijFeYkYH7hqisrwrfGG455+b+DRIIhDrGr2Iv3RfJriqFkh6LhUCAFXLJ50PJlpo2noW\n",
       "HmzXeu6YrYMk1UnPivCI9iozoAD3umAS9jfql9k8VNMu1/aqchM5uScdAKjaITbMXW4M7f8jsE8p\n",
       "uodCuxckaXIBqxnKq1awGeJyXWqSmg3XDQyLipHq1pSbttmbNT5A1fLx6rKVesY2TL5MSoM4kYVB\n",
       "23KDkpZOWYzX+QBybYmMOemqR/IhicWjFOd5XulUg3LLTgrDM7s9gK79NjVKa7FGnOKIU7BKZRvd\n",
       "zhGk93c8Y40lmCPOc6Y4WTzOt6pzDLFSObuQ2iymNpFwHMcloc2P3mLIQt8ZtykDqepLlqy/P4/I\n",
       "dN4DqNrf+fhkg/nRVY8AAAAASUVORK5CYII=\n",
       "\" style=\"display:inline;vertical-align:middle;\" /></a><br>"
      ],
      "text/plain": [
       "CLASSICAL_CONTROL: CLASSICAL\\_CONTROL"
      ]
     },
     "execution_count": 14,
     "metadata": {},
     "output_type": "execute_result"
    }
   ],
   "source": [
    "# CLASSICAL_CONTROL: acts as an input for a Gate() to indicate a classically controlled MultiQubitGate\n",
    "CLASSICAL_CONTROL = Literal('CLASSICAL\\_CONTROL')"
   ]
  },
  {
   "cell_type": "code",
   "execution_count": 15,
   "metadata": {},
   "outputs": [
    {
     "data": {
      "text/html": [
       "<strong id=\"CTRL_UP\">CTRL_UP:</strong> <a class=\"ProveItLink\" href=\"__pv_it/2e5dba5a6dc3589b0010428e1632e92ef5fee44b0/expr.ipynb\"><img src=\"data:image/png;base64,iVBORw0KGgoAAAANSUhEUgAAAGQAAAAOBAMAAAAro6RbAAAAMFBMVEX////MzMy6uroyMjJmZmYi\n",
       "IiKqqqoQEBB2dnbc3NyYmJhUVFRERESIiIju7u4AAACU7+9TAAAAAXRSTlMAQObYZgAAAAlwSFlz\n",
       "AAAOxAAADsQBlSsOGwAAAcBJREFUKM89UjtPAkEQ/kREDg6kMLGE2FhqQWKjOf+ASqMWPrC0s6IV\n",
       "GhOMiWdpY7jYWYGJJgY0WqiFaLzCRBOIj0QrTQR8BAU8Z/Zu3WRnZr/Z+WZnZgEEy4W8knqeKUwU\n",
       "T2eBslW8OANQsoYM8FL2Ps+hJoeF6yD6QNDNHTzLRukBCSBP5yYQzpH+hLO8NRK3bL0D6hLwOkf2\n",
       "+HoOygewBbS1CP8mXZch7RUSY7BdHtqDnKlPMeD7Au6AQJUuUUigJkO6jklwXnYF6vB+MdrtAvy/\n",
       "wLzNGT52uMXqN6ngFBkqQWoVmRijj7Q7Y5JTmWY9IEP0EOCLOOkoXjelJzNic15en4RYp6Rjirab\n",
       "jbCJjUkgHpKe7LzNuR484PL0iIMHGyT8bN3vp6k/SLIbLI6EhUF6ACfQJJXnh8QmW1c2EBcop0rY\n",
       "AHG+5ewZYFuMhfqEFWcsEBNhlIf8Ic4u4lykqlwtp7PwVhxLTirD5a/R9oluw02t1s02wR0QP8ZD\n",
       "iJ+J5aT4pQtchforau0hlTV70UHcul1dFMrO/y/g9VTc5d6sas1DfkU6bcB9abxojYJGZVmWVfEW\n",
       "R/miX2uKgfwBHauUWPcQQTYAAAAASUVORK5CYII=\n",
       "\" style=\"display:inline;vertical-align:middle;\" /></a><br>\n",
       "<strong id=\"CTRL_DN\">CTRL_DN:</strong> <a class=\"ProveItLink\" href=\"__pv_it/39b56f48f9ce087035fc07b03cdae4baf59c97710/expr.ipynb\"><img src=\"data:image/png;base64,iVBORw0KGgoAAAANSUhEUgAAAGkAAAAOBAMAAADeXS/rAAAAMFBMVEX////MzMy6uroyMjJmZmYi\n",
       "IiKqqqoQEBB2dnbc3NyYmJhUVFRERESIiIju7u4AAACU7+9TAAAAAXRSTlMAQObYZgAAAAlwSFlz\n",
       "AAAOxAAADsQBlSsOGwAAAdlJREFUKM9FUT1IW1EU/nxN4ns2iRkKHRVBO0ZwcFB42dpOdWkdbNWx\n",
       "g+DkVjBLQRCaDN19uDnlDU5G0aHtEiUOgoOitigOCm21f5o0z++7V58X7j3nfOfnnnM+ANn96opX\n",
       "PHldfVn7/AbYj2qbXwDsRcMB7CG0OlQ2Sg4p/90R1d0DpN4He0eYAVZoN4GukPI34nMJdPyRUqcj\n",
       "qaTzcT4vyiG8X8Ai0PYfSF9R/ouTBOEprzNFhytoUKlPvMBUOwAyP4EHdGYu4ixByLNf9xtL9dFw\n",
       "zc+PHOBhC5hkxg92uGHl7UlLXSgCCYwCH2SMCP/K2240dG7AG5Psj7MI8a9QWZUABRql7TvfQsGI\n",
       "/NbOp5xkMc7qUsxhUc11jkD4RO7OV5k0olTOrmrUUnecdaiY9W41l7hwhM8qAnrWjYZBdqRy/v3i\n",
       "63r+8hbgNV2FTQhJqdiMDWkA30PLEZYsRAbRcc2H1eofYZiCpUB0iRJ6pzmhI47Ce7pOuRGHM+Sf\n",
       "mR1oUi3Tko9ESxtqg0uOMkFMV3ZAxdlc0tCYYu23ajXdkpl9TFHZ7kGSHJXspGKuVws+UXFL43Ft\n",
       "WVuZ95trKjc3FyCxFZz5jarPEaMoalDdfE7f2eyr265vAAAEnfxdKxV1AAAAAElFTkSuQmCC\n",
       "\" style=\"display:inline;vertical-align:middle;\" /></a><br>\n",
       "<strong id=\"CTRL_UPDN\">CTRL_UPDN:</strong> <a class=\"ProveItLink\" href=\"__pv_it/6153f8f7e3ef4ab44de58ffec7715eeaa8bd6ba50/expr.ipynb\"><img src=\"data:image/png;base64,iVBORw0KGgoAAAANSUhEUgAAAIkAAAAOBAMAAADpvyKaAAAAMFBMVEX////MzMy6uroyMjJmZmYi\n",
       "IiKqqqoQEBB2dnbc3NyYmJhUVFRERESIiIju7u4AAACU7+9TAAAAAXRSTlMAQObYZgAAAAlwSFlz\n",
       "AAAOxAAADsQBlSsOGwAAAkdJREFUKM89Uz1oU1EU/pom8b02f4Pg2CKoYwSFDgovmzrZxTpYTUcH\n",
       "IS7dxL5FCCgmg4PQoY9uTsnQQZtKO/gzpCVvEBxamigWhQra1p9q0sTznXufF+797j3nvPP3nQcg\n",
       "s9VYdv2d6ca15uubwNaguf4GwObgYgCu+eJ0gLcHoapWzncMXqiClxyS3j0R4f02kg+CzQ5mgWV5\n",
       "94CxuuBP2FUZB9I+bwdA6r7BkV8UtMQwQSdfb8lxtVqH+wNYBIaOxPSP4GHkxZMdpylVySODuCQ7\n",
       "dkcMHdpMUH/GDdT7tkTdA4ZFmd6PvEhyGOWFqvShQeSlXuejvE7Lw9HMjsfEsA/MiIfvUtGaQV0x\n",
       "Rv7CW0pEqT2DWJAa47gOPOZjkvoPso/pDdk1uDeIZ60Xh5EXrQr50CDydXqpBSiwdWGU+EJBIb/x\n",
       "7lWO6Ft54q4cqhsL8XTKIND2WUx2ErQr5iIvtRnDSDWz0rHM6PpGwrjRfl7WnNr8ZnWcxcT3Y7Sb\n",
       "4xfgsao3TEjGvmVGV0na6GrGLStR/K0Zuj2HnxUpSdL5rDHp2ugyE3imyYnSqdpx+U/ayF85JFrr\n",
       "CXRSYCjnuJAR0ZYKlhmtoxIRHU2Qjstn6XBMepC/rD1lriTLDCPifXZ8SJlJ6y9QkpRf6LjYCeK4\n",
       "ZM4xuGgSKkxK7NssLdXnM3NCoBaeREJmoqKdGi5gXimIJoh4iqTtMLgRfmouscsPvd5Lui+XA8Q3\n",
       "gl2v2/C6yA4GAzxa0t6Oej2L3cb6Fbnszk3Zqv8BnLDNZRrvhNsAAAAASUVORK5CYII=\n",
       "\" style=\"display:inline;vertical-align:middle;\" /></a><br>"
      ],
      "text/plain": [
       "CTRL_UP: CTRL\\_UP\n",
       "CTRL_DN: CTRL\\_DN\n",
       "CTRL_UPDN: CTRL\\_UPDN"
      ]
     },
     "execution_count": 15,
     "metadata": {},
     "output_type": "execute_result"
    }
   ],
   "source": [
    "CTRL_UP, CTRL_DN, CTRL_UPDN = (\n",
    "    Literal('CTRL\\_UP'),\n",
    "    Literal('CTRL\\_DN'),\n",
    "    Literal('CTRL\\_UPDN'))"
   ]
  },
  {
   "cell_type": "code",
   "execution_count": 16,
   "metadata": {},
   "outputs": [
    {
     "data": {
      "text/html": [
       "<strong id=\"WIRE_UP\">WIRE_UP:</strong> <a class=\"ProveItLink\" href=\"__pv_it/16c8a75cf5ad4da409ddd85bdd01f112887895330/expr.ipynb\"><img src=\"data:image/png;base64,iVBORw0KGgoAAAANSUhEUgAAAGgAAAAOBAMAAAAxn0TVAAAAMFBMVEX///+qqqqIiIhmZmbc3NzM\n",
       "zMyYmJju7u5ERERUVFS6uroyMjIQEBAiIiJ2dnYAAAApDa38AAAAAXRSTlMAQObYZgAAAAlwSFlz\n",
       "AAAOxAAADsQBlSsOGwAAAcRJREFUKM9FUj1LA0EQfbncecmJZ5XaA0GsNNgINgY7G8kPEBIrQRCD\n",
       "VlZqBDWFmEIhooZUFilUTCdCSkUMxlIQtLA1hhg1mo9zdnY9F3Znd2bem3lzh9fWBQ5bm5hvx2Hv\n",
       "NHeBQTe1tQayt6n97Wu6QD9qbyBwd86xTCEBqwPYP4CRpmhvWeQ0gJh4NQVSODgBQ5C+wBX0d+mz\n",
       "hSv2TIdRo0AdTIclBnVX6RhVMV8N5jf5PoG8CA7n6NA+yFNX9IsM6l2lI61iWocLDhBe1MDOH21s\n",
       "la0Gg0GnDmCKjADFAgQsQQ910BVRHTOt/iDtMeR6iwJdOVVSMDzCJl3chlVj2mT/elTYh0xdgR5p\n",
       "+1m0g6l7skWEzIbszv5g2oiZSTC9UZYYoRtBFp2tzLGOhIOmlfOGhEvq4pnZEIZAw0eDwoQnmtb4\n",
       "RAIl+39IINqVtPxcEdPxOnjxRIsuZqjnWW9IsIi2L6wEalzJrqqJGx0FGib6YtwbEvxfdHEMST/J\n",
       "fh+5gmK82o8CLdBrW16fhOhpylhw8ugheutGBgrQ9/5F0zqhPca/5YGbpVYqlTj8yfhy8Xs/c3cG\n",
       "uK5btVMjIiNYbLDGXzN7mcHpZ+RhAAAAAElFTkSuQmCC\n",
       "\" style=\"display:inline;vertical-align:middle;\" /></a><br>\n",
       "<strong id=\"WIRE_DN\">WIRE_DN:</strong> <a class=\"ProveItLink\" href=\"__pv_it/c44c110685b71a5b77ab4d666131ab2af5168b0b0/expr.ipynb\"><img src=\"data:image/png;base64,iVBORw0KGgoAAAANSUhEUgAAAG0AAAAOBAMAAADXto+RAAAAMFBMVEX///+qqqqIiIhmZmbc3NzM\n",
       "zMyYmJju7u5ERERUVFS6uroyMjIQEBAiIiJ2dnYAAAApDa38AAAAAXRSTlMAQObYZgAAAAlwSFlz\n",
       "AAAOxAAADsQBlSsOGwAAAehJREFUKM9FUr9rU1EYPSbv5ZVX8nQpuPlAELd2cBLRoJNT8wcIeU5O\n",
       "kodOFcVaB9uhJINDSkXj0qGgcfUHZC1iaR0LBbM52fojan7Z5zn3S0ng3Xveud857zvfDb6N3uHZ\n",
       "6Alu/0sQ1YZPgfPZyvIjcP+0sra6Bfcj13hbcqCME+2tFOEREA0Av0725K6KekBFb0PVmU648EOg\n",
       "xpNiCni/TBeJrHS4+D+BqS6cI+6aTBwu8QlPd6026APTf4BNHc82ueR+k+maG+6YThxaCcl7dHs5\n",
       "7uAc3TquCS3T3/nhRbfn4JtuihzmWZPHPvBV1Da8mSMUSmMPhlyEt2f7xjidML9Xl66aYE7UPiJm\n",
       "dP2ESoHW0tnHZe17je6xrhIrRUctcnautzZmgp7BSClwWAoaqfayv3usm5XRi6ZazA/CpsuUxhga\n",
       "VDLgA9vqOEM2lJrOBR9BjNeLHHnlaortaJICHPDDul1jKYhNR4wCp66+atccdXiTGW852FJVyOMz\n",
       "c+OwuXRyfffpGp5i1WVrna/txCyUIv+XIPYt7PXJ9QXvNQH6FAeOq/IGVu34i/4HN6irxpsoMmz4\n",
       "0Q4U/JWm/0D9uingNZ+LAt569pyOBwcJ8kvJQru/1th5A2RZ1idevsCShZ3PXBX+P8/ypExxAs/g\n",
       "AAAAAElFTkSuQmCC\n",
       "\" style=\"display:inline;vertical-align:middle;\" /></a><br>\n",
       "<strong id=\"WIRE_LINK\">WIRE_LINK:</strong> <a class=\"ProveItLink\" href=\"__pv_it/ea550b757f4389ad11973a88131d670ab61042390/expr.ipynb\"><img src=\"data:image/png;base64,iVBORw0KGgoAAAANSUhEUgAAAIcAAAAOBAMAAAD3dhIpAAAAMFBMVEX///+qqqqIiIhmZmbc3NzM\n",
       "zMyYmJju7u5ERERUVFS6uroyMjIQEBAiIiJ2dnYAAAApDa38AAAAAXRSTlMAQObYZgAAAAlwSFlz\n",
       "AAAOxAAADsQBlSsOGwAAAixJREFUKM9NUr9rE2EYfrjc5eqFXLMUBAcPBNHF3OzS4NbJ/AFiTxCc\n",
       "JIdOTsYqaIdyGRxSLHpdHDoYRytCHItYzCYFoTcIdWmjafrjmibn+37vHbmDfM/763vyvs/3Yv/8\n",
       "M9bOX+Lh2IMdjF4D15LlV89A+H15dWUL6ruefPII/iSbNWjBEXCJrlB0E3i3VYc1AewzwGhR0WyP\n",
       "b5wCi+yNmElIMM7BTEzHz8y9WAP0QyGxObgY0WEMqG4IRY/HctmY5GA9oHtR6hYrZJhEWzoGNjhd\n",
       "DenQqNvSUKjxSEi0sxzsdSJYFXHN3ypBTV8dCDMCPkp/qaWmQg2GkHCMB1Hglr/C9iV6V/Lb0Ocm\n",
       "KNZSQhKmCX1H8H2qCGY/5sAtHqMgbtGV/C/YpItq2xrw2Vm68rzOuNMeZiSdSMDhqgoJaku02pN8\n",
       "F3PmqUxjH/HZr5ltbrZfN3oZST8UYHKaZD5UEvZvFP5JPvAdjKxwOvkX6jNS7HDhZ/80BZrkdnNP\n",
       "uZ4+ksT8LR/bNlI16KPnetqSdamZDjL1cV+F1DLMDN10oYK6tHiPdHmQG5ne+7KbCqRJJ8pupZqt\n",
       "k38YpdFOSxVUm9zXdOTCCRmOIQItSCNsa16qGU+yG6bR8okqaNDjrkjtLi/fHQo3nA2USSDrmyTY\n",
       "7vsKYLLajSyqySp/oN9NNvQ3yVuiPzjwUFjynnTj1fYP2oskSWKyuzEWunEEc21My3qB6qnCwX7y\n",
       "AvgP/JLNk7sIwm0AAAAASUVORK5CYII=\n",
       "\" style=\"display:inline;vertical-align:middle;\" /></a><br>"
      ],
      "text/plain": [
       "WIRE_UP: WIRE\\_UP\n",
       "WIRE_DN: WIRE\\_DN\n",
       "WIRE_LINK: WIRE\\_LINK"
      ]
     },
     "execution_count": 16,
     "metadata": {},
     "output_type": "execute_result"
    }
   ],
   "source": [
    "# WIRE_UP: wire goes up to link with another wire\n",
    "# WIRE_DN: wire goes down to link with another wire\n",
    "# WIRE_LINK: link destination for WIRE_UP or WIRE_DN\n",
    "WIRE_UP, WIRE_DN, WIRE_LINK = (Literal('WIRE\\_UP'),\n",
    "                               Literal('WIRE\\_DN'),\n",
    "                               Literal('WIRE\\_LINK'))"
   ]
  },
  {
   "cell_type": "code",
   "execution_count": 17,
   "metadata": {},
   "outputs": [
    {
     "data": {
      "text/html": [
       "<strong id=\"QubitSpace\">QubitSpace:</strong> <a class=\"ProveItLink\" href=\"__pv_it/ea03945e0e203f02e712890f7aa6d68b4004a5ba0/expr.ipynb\"><img src=\"data:image/png;base64,iVBORw0KGgoAAAANSUhEUgAAAvEAAAAWCAMAAAB+ODPAAAAAM1BMVEX////Ozs7MzMwyMjJ2dnaq\n",
       "qqq6urpmZmbc3NyYmJgQEBCIiIhUVFREREQiIiLu7u4AAABzVVnyAAAAAXRSTlMAQObYZgAAAAlw\n",
       "SFlzAAAOxAAADsQBlSsOGwAAB3JJREFUeNrtW4mS4yoM5NnYYHP5/792xS1hnImdxG+qJlTtbgpQ\n",
       "q2mJM1nGvuVb/kRxnGvtvjp8y18pwv+xXx2+5a+UbWZMbsNXiG/5I2VxKeOdtUZr/5exVt3Kgdsn\n",
       "ppwzq31sOoyreGJT4/yVQ1zfSQFV4or5maKu2/cl/E1BBo4KslAvTPL34rZGXslwmo+SgMd7p932\n",
       "TK9R/GS6TT+PVQ/r9BLZjpMKavkF81MlenBWXjEeL02Xi86uBFmtyqfhxO3y3uSh6471TrT/KLcg\n",
       "yTLffJkYL6YaNZ23n1fvdZrNSxf1npMToM9wfKJM27tm6+ecnQ+yMzapIzb53uTBRYZgySXOlyCJ\n",
       "uvnx5qlTVD9XsCm3NyRcx8kZUG5vXCPeNPprzi4EeVwzv3l9b/KQhIfFfZAsruo6SjLdm/DP3Zy7\n",
       "uUJMn9izX0+4jpMzoKN4zxrB3zRbP+fsfJB53YIG8d7kISv8MAwiTy18s3FcKd8wcy0lV1qxgSvj\n",
       "Z8bMjRxUPPgz6KWhcuCGScHDTgH/KulnXq10SvgKp+t6U0HySazYRVg+IBY+V6ZFGVmavVdiOkTB\n",
       "sgVmlI98erU6a9khnu5OgSrTZOwHTghosqRGtScybxQgHBKvBGaJu1g5a7MZrQpMddfnnuPGRg0w\n",
       "P4jkhXeoC3JWmhiNUab8MFNypIoeztcPnE81d2v2udO4B8AoUIn+uvlSfNapNdvBCwIdmTEwYLf5\n",
       "0/3kdxvOtA8EiMWk9cGBQ5diRnDG17AjQVoav1vUSh4t0S0DgWiTdrJsB7DQJAxiAU5GaNbxupG9\n",
       "dkyLBWKEDrI5T3rE0x6OqJaxywMnBJTHzZgalZ7IvFUAcSi8kmKrprGI2z0+WWN3Xe4lbiChi/2O\n",
       "RTLQMAtCPDsrTVnBFCNE+UGm5EgVWOFfSxT6Mohv9HxyCvcAGAWqoZ+vvWjC+XmvZjbMbDWhgict\n",
       "5QSLRfocNzzL3cKs9a90QGz1lt5frQSTcBjM9CjIGkZa7RIsVBcWXvehAGSvjemIeSNGvS2wQzx1\n",
       "WRJV+KuOfeg7IaBpkMSo9kTmrQKYQ+aVFZs4AsmVGAa763PPcQMJXZyfxyJJ388sZIjJWWnCCnr9\n",
       "M+XHmRIjVWEXmHgK0rm+C7bPjGdwD4DRKFr6DB/jw4zYYA/gPlIwt+Yil884l+78fHMiGmxaOrYt\n",
       "+ZrtEt1a6RKztcxiBDLEe3m1Sx8xi6x7AChe2d60WCBGnVeHHnG2o5rHHvKl54SAurjaE6PaE5m3\n",
       "CvzXige8Mo15IrFI+wmBqe563GvcooQO8uZYJLmZRTbKJ2eliTAllB9kSopUhfXZbciVeEX7nzuJ\n",
       "ewCMRtHQ3x/jN92kCcq4dOc3a5x7AKbQO0CoixzR40D4NOBZXEDU2tqtZs8i6B6X0+p1b4osOi8T\n",
       "5erWI07s0sIdxx7ype+E3AendPGvRrUnlqVVoBEP81JtLNwOBrnrcEdxC7fmGXLlgUgczric+CzO\n",
       "chNmSik/yJQUKaocPcbYelSbhpO4B8C4ltLfH+NRox5Lxs0wo1yKsduEi714OELaLBCvB/Z6SAt0\n",
       "1domCoAwoz0msnPFeWURdU82xevOFPPu/FzIaEySEqd2aQBx7LAOugMnCJTFrRYb1Z5EllaBRjzM\n",
       "i1N30cO8xWWQte463FHcwnLul86HIs3hrlG7IGdzvYaUGGHKx5mSIkWV831A2LpryHo3OYl7AEwD\n",
       "NZt2cUPH+LyV+YqVl4wD13CGiouFWvOWuHK00boAAtvKJPHuG9LC6PadLoEoapd22hmxiFEETwv2\n",
       "ujdFvDuPauVU1SFOM9iY8AOMNV/d+IETDOq7cIaNak8iS6tA5YB4BRp+sUPukgcOGVBxkLs9dxy3\n",
       "LV8nDkWK29XmcJfkrDZhphAjRPlxpig8FGdmOESnKZ0X3CxkeBE6hXsAjEbR0M+nnlqxhDOfkHmP\n",
       "jBk38jj9YMMZVqgWQWAR6OaNdgQGixWM48rQc8ZnxgqyzU5ROxH2Gj4gFnHTBioce92bYt7z8dtt\n",
       "jzihuqYBeAOIORwBu04IKKyGcqFGtScy3ylQOVReIdPir0sqSPKgYWELM31k1N2eO46bv8sF7I5I\n",
       "EcuTZBPtkpzVpti1xAhLeZwpKVIFdtoGJ9Z4T0mIUBfyY4pPoKdwD4Cp/JF+nd563NArL1NcqXhk\n",
       "CrMj/oBpEkp6ZrNSMd6cKzHXXkE7rfggtRpwJdRCz7BtbbFUkCU+FSA7D6vCF7+FRbxlQz3x2jFt\n",
       "eFeH9FGvQzz381QnPABplunACQU1amHUqPZE5jsFkE6Fl39BWZYmFskDYIcWK1p3O+44bk6k1/iO\n",
       "SBFrgGq10C7JGWqyguEYNVL2MyVFqsACFwWdlgkhQqXROg//HO4BcBkFon/lW+eLX1zy8Q0gL303\n",
       "r38T6B/4bwmfGuLd0tnz35T7i6sjP1q04mb1J83G6TeB3q7A/eVTQ7xZOnfhF3j+5z6avwjyokrG\n",
       "jb8J9H4Fbi+fGuLN0k3jNp4+EE2qHE+vg7xWlnT1+CWg/4MCd5dPDfEtuP8A5xJ+sP4/jVEAAAAA\n",
       "SUVORK5CYII=\n",
       "\" style=\"display:inline;vertical-align:middle;\" /></a><br>"
      ],
      "text/plain": [
       "QubitSpace: Temporary_placeholder_for_undefined_proveit.number.sets.complex.Complexes^{2}"
      ]
     },
     "execution_count": 17,
     "metadata": {},
     "output_type": "execute_result"
    }
   ],
   "source": [
    "QubitSpace = Exp(Complexes, two)"
   ]
  },
  {
   "cell_type": "code",
   "execution_count": 18,
   "metadata": {},
   "outputs": [
    {
     "data": {
      "text/html": [
       "<a class=\"ProveItLink\" href=\"__pv_it/b4146a83d15e75f23a9e26d364e73bdcc89023230/expr.ipynb\"><img src=\"data:image/png;base64,iVBORw0KGgoAAAANSUhEUgAAAE8AAAAVBAMAAAD1D64kAAAAMFBMVEX///8QEBBUVFTc3NwyMjLu\n",
       "7u5ERESYmJhmZmaqqqq6urp2dnbMzMwiIiKIiIgAAADe9LGkAAAAAXRSTlMAQObYZgAAAAlwSFlz\n",
       "AAAOxAAADsQBlSsOGwAAAaxJREFUKM91k7FLw0AUh39tmtgmrc0sgsHJQSUgoovSRXCSDuJcXFwc\n",
       "Ci7FSURpoSAdHRzqP6BFN1HqLmjcijpkUZRSDJUilkp8l7uUtJJb8u7Ll3v33l3QesHgEEDis5Hi\n",
       "/TtgUnSF4cHJhxBP8xETZz4+Ltd2pZnfLSgTa5wkasDiwTbmW0hnMVrhomJjw4HWpbApPl2n5Abq\n",
       "VczilKYrHJcoRQYxh8JDIRaBaBYRHeMoJ4ECxz1AtZHOUWgIUQciHUS/JAdPJxRnGVa/gaSJcxuQ\n",
       "a1xUM7SihWhPNdDMA7E8w5J7zRap39IOqlyM17yaU47ohGZ4+NNtU6cemSD6QCuw8WALkUpgWHpz\n",
       "dchtiqJCTFW89w2/twlLtDfeRYJ2imUhRqoe3fPFpMMwfS3/QKPacTkgFvqnpeoMU0ukDjSHd4fv\n",
       "scJPZy6YWrW8KhMd2qJ/+gqr4g549YvJEY4/Axc0WYU07V8KjWVplPYtIcZtJqpTkyyTtnnUvz0s\n",
       "S8x13YwQU2bYNRu6pUuh97EwyIqhomIGkZQLFeVcEClZ4ObfPzPmPRaCbAf4A1lyfkWbj10kAAAA\n",
       "AElFTkSuQmCC\n",
       "\" style=\"display:inline;vertical-align:middle;\" /></a>"
      ],
      "text/plain": [
       "[SU](2^{n})"
      ]
     },
     "execution_count": 18,
     "metadata": {},
     "output_type": "execute_result"
    }
   ],
   "source": [
    "SU(Exp(two, n))"
   ]
  },
  {
   "cell_type": "code",
   "execution_count": 19,
   "metadata": {},
   "outputs": [],
   "source": [
    "# These eventually moved to separate definitions inside the quantum/quantumOps.py file\n",
    "# QubitRegisterSpace = lambda n : TensorExp(Exp(Complexes, two), n) \n",
    "# RegisterSU = lambda n : SU(Exp(two, n))"
   ]
  },
  {
   "cell_type": "code",
   "execution_count": 20,
   "metadata": {},
   "outputs": [
    {
     "data": {
      "text/html": [
       "<strong id=\"invRoot2\">invRoot2:</strong> <a class=\"ProveItLink\" href=\"__pv_it/afa1062b161dee432dc73b9b0c5f0debb47d132f0/expr.ipynb\"><img src=\"data:image/png;base64,iVBORw0KGgoAAAANSUhEUgAAABwAAAAwBAMAAADwTQfqAAAAMFBMVEX///+YmJiqqqrc3Ny6urp2\n",
       "dnYQEBBERESIiIgyMjJmZmZUVFTu7u4iIiLMzMwAAACoSBJeAAAAAXRSTlMAQObYZgAAAAlwSFlz\n",
       "AAAOxAAADsQBlSsOGwAAAMhJREFUKM9jYAADvjsMSOD0yj/IXAaOIcDlLvu7g2FAwX8UQBUj36Ma\n",
       "VYciyVeAwuV2QOFaMjCvmv4Azl3CYM3A+gXG45nAsIeBIQ3G5VJgyD/AsN8Ayj3LwLCXgWE/THMg\n",
       "mLwPxEwgKy6A7f4BJNomACOhAcTlXcDAwHz0H5ABVrsKbMdvBgYJEINxAVhwvQEDOJGpMjCDLLJf\n",
       "wBQAMiiAgeMAkGb/wwmibFet2gtSxPJDC0TN////J1jztMkontPfgMLlNYAzAQCnSpkHWozuAAAA\n",
       "AElFTkSuQmCC\n",
       "\" style=\"display:inline;vertical-align:middle;\" /></a><br>"
      ],
      "text/plain": [
       "invRoot2: 1 / sqrt(2)"
      ]
     },
     "execution_count": 20,
     "metadata": {},
     "output_type": "execute_result"
    }
   ],
   "source": [
    "invRoot2 = frac(one, sqrt(two))"
   ]
  },
  {
   "cell_type": "code",
   "execution_count": 21,
   "metadata": {},
   "outputs": [
    {
     "data": {
      "text/html": [
       "<strong id=\"B1\">B1:</strong> <a class=\"ProveItLink\" href=\"__pv_it/bde573cd49521470a42e9b28e5198845bc2eebe10/expr.ipynb\"><img src=\"data:image/png;base64,iVBORw0KGgoAAAANSUhEUgAAABoAAAAOBAMAAADDIxFwAAAAMFBMVEX///92dnaqqqoiIiLu7u5m\n",
       "Zma6urqIiIjc3NwQEBDMzMwyMjJUVFRERESYmJgAAAAeMT9/AAAAAXRSTlMAQObYZgAAAAlwSFlz\n",
       "AAAOxAAADsQBlSsOGwAAAINJREFUCNdjYGB4+//Omb0LGBi4TBhAYC4DA88vBp/oLyAOx3cGBrav\n",
       "DAzsYB7fLyD+DuPxfGBg4J4B43FeYGA5vADGW3+9/PQDBhivvoGBaR6cdxOI5eEq/wDx+wIoj+sf\n",
       "kDifAOWx/wCK/Ibp457AwJC5Bcrj2f/nzOlLIEfc/HwcAEo2MRlhTTRiAAAAAElFTkSuQmCC\n",
       "\" style=\"display:inline;vertical-align:middle;\" /></a><br>\n",
       "<strong id=\"B2\">B2:</strong> <a class=\"ProveItLink\" href=\"__pv_it/4dcc51f5e800becab282014a7a3c2cdf23baef660/expr.ipynb\"><img src=\"data:image/png;base64,iVBORw0KGgoAAAANSUhEUgAAABsAAAAOBAMAAAAs4XpOAAAAMFBMVEX///92dnaqqqoiIiLu7u5m\n",
       "Zma6urqIiIjc3NwQEBDMzMwyMjJUVFRERESYmJgAAAAeMT9/AAAAAXRSTlMAQObYZgAAAAlwSFlz\n",
       "AAAOxAAADsQBlSsOGwAAAK9JREFUCNcdjTsKwlAQRY8fNMYg7kBciVmCTXpbOztLA7YWllr42YGN\n",
       "raSIXQIRGxEs3IBoo5EkGGfy4B7mzpuZCzzyW3jYYjgCfSuwEmaUPuqMGGpvjrBU20pEMRubyBVr\n",
       "vaC5wIdIlxsnqn5xpafYXcbBXQszVk5cymstKn3lVdTRYaeIzUTPkVwvPs2fIBpAF0OC6l9ppaI2\n",
       "dVsi5zDcw9RxJNrysjA4y7yX5yl/Z80zyvT1husAAAAASUVORK5CYII=\n",
       "\" style=\"display:inline;vertical-align:middle;\" /></a><br>\n",
       "<strong id=\"B3\">B3:</strong> <a class=\"ProveItLink\" href=\"__pv_it/edaf2fbeac85c5c9583063603bdab68f085d03270/expr.ipynb\"><img src=\"data:image/png;base64,iVBORw0KGgoAAAANSUhEUgAAABsAAAAOBAMAAAAs4XpOAAAAMFBMVEX///92dnaqqqoiIiLu7u5m\n",
       "Zma6urqIiIjc3NwQEBDMzMwyMjJUVFRERESYmJgAAAAeMT9/AAAAAXRSTlMAQObYZgAAAAlwSFlz\n",
       "AAAOxAAADsQBlSsOGwAAAKxJREFUCNdjYGB4+//Omb0LGDgEYxMYQGAuAwPPLwZXBr5PIB7HdwYG\n",
       "tq8M9Qosv0Fcvl9A/J0hM4EBzOX5wMDAPQPIYPoH4nJeYGA5vADISH4A4q6/Xn4axFh+BiTGUN/A\n",
       "wDQPxGACm3wTiOXBEvMdgMQfIH5fwLCKgeG+AgMDF8i88wks/x3AXPYfQCGgjXMgirknMDBkbmFg\n",
       "eAe2l2f/nzOnLwHVs4UCvQAA39Q16r4AawMAAAAASUVORK5CYII=\n",
       "\" style=\"display:inline;vertical-align:middle;\" /></a><br>"
      ],
      "text/plain": [
       "B1: B1\n",
       "B2: B2\n",
       "B3: B3"
      ]
     },
     "execution_count": 21,
     "metadata": {},
     "output_type": "execute_result"
    }
   ],
   "source": [
    "B1, B2, B3 = Variable('B1'), Variable('B2'), Variable('B3')"
   ]
  },
  {
   "cell_type": "code",
   "execution_count": 22,
   "metadata": {},
   "outputs": [
    {
     "data": {
      "text/html": [
       "<strong id=\"C1\">C1:</strong> <a class=\"ProveItLink\" href=\"__pv_it/31c40e3a639764cf86ca4872a7dd53a4896aeda40/expr.ipynb\"><img src=\"data:image/png;base64,iVBORw0KGgoAAAANSUhEUgAAABkAAAAOBAMAAAAoFKpzAAAAMFBMVEX////MzMy6uroyMjJmZmYi\n",
       "IiKqqqoQEBB2dnbc3NyYmJhUVFRERESIiIju7u4AAACU7+9TAAAAAXRSTlMAQObYZgAAAAlwSFlz\n",
       "AAAOxAAADsQBlSsOGwAAAHdJREFUCNdjYGDgu7N7F2cDA4PoAwYguH6Pga11Ad8WexDvTRyQ8J/A\n",
       "wHAfxDMHEeoMEB7HN5BqEShvfgCI9xDK67/AAAUgXrwAMq8ebMsDmByIwyYA5YFsYuCAqZwPMqUP\n",
       "xmP7xcCQ8QDGY3hyeosCiLOnPvoCAI9bMLRSQ+7qAAAAAElFTkSuQmCC\n",
       "\" style=\"display:inline;vertical-align:middle;\" /></a><br>\n",
       "<strong id=\"C2\">C2:</strong> <a class=\"ProveItLink\" href=\"__pv_it/622953ecc79ccd434884d4d6f4c3a7fb1b019bdc0/expr.ipynb\"><img src=\"data:image/png;base64,iVBORw0KGgoAAAANSUhEUgAAABoAAAAOBAMAAADDIxFwAAAAMFBMVEX////MzMy6uroyMjJmZmYi\n",
       "IiKqqqoQEBB2dnbc3NyYmJhUVFRERESIiIju7u4AAACU7+9TAAAAAXRSTlMAQObYZgAAAAlwSFlz\n",
       "AAAOxAAADsQBlSsOGwAAAKJJREFUCNdjYGDgu7N7F2cDwxTngwxAcP0eA1vrAs4NDP0KDAxv4oAi\n",
       "/hO4HzCwFzAwmD8A8tQZ2P8xcP9k4PgGUi3CwB3AwP2RYX4AiPcQRLB+YOi/wAAD8hcY4gXgvBAG\n",
       "hnqQIQwggsWBgSEexGEDKVgCtglIcIBEGhhmMswHmdIHxBIMDEBH/WJgyABq4wxx8QZa9uT0FqD7\n",
       "GJj///9vAABhHCmmHaaE7AAAAABJRU5ErkJggg==\n",
       "\" style=\"display:inline;vertical-align:middle;\" /></a><br>\n",
       "<strong id=\"C3\">C3:</strong> <a class=\"ProveItLink\" href=\"__pv_it/2f60b41619ffac1718c1849094cd1ca9775f7af40/expr.ipynb\"><img src=\"data:image/png;base64,iVBORw0KGgoAAAANSUhEUgAAABoAAAAOBAMAAADDIxFwAAAAMFBMVEX////MzMy6uroyMjJmZmYi\n",
       "IiKqqqoQEBB2dnbc3NyYmJhUVFRERESIiIju7u4AAACU7+9TAAAAAXRSTlMAQObYZgAAAAlwSFlz\n",
       "AAAOxAAADsQBlSsOGwAAAKNJREFUCNdjYGDgu7N7F2cDw4yWQwxAcP0eA1vrAj4HhvUJDAxv4oAi\n",
       "/hN4vzG8N2BgMH8A5KkzMBUx8BswcHwDqRYBEfkLGOYHgBgPgZgpioGh/wIDBDDe3sjAEC/AAAP5\n",
       "CQz1IEMYwAT7P4Z4EM0mwMAowMDzDWgTkMfBwPD+H4g3H2RKH1DZBpBKtl8MDBlAbVwLQPYxPDm9\n",
       "RQGkV8XlEAMA/dwrwIpWyp0AAAAASUVORK5CYII=\n",
       "\" style=\"display:inline;vertical-align:middle;\" /></a><br>"
      ],
      "text/plain": [
       "C1: C1\n",
       "C2: C2\n",
       "C3: C3"
      ]
     },
     "execution_count": 22,
     "metadata": {},
     "output_type": "execute_result"
    }
   ],
   "source": [
    "C1, C2, C3 = Variable('C1'), Variable('C2'), Variable('C3')"
   ]
  },
  {
   "cell_type": "code",
   "execution_count": 23,
   "metadata": {},
   "outputs": [
    {
     "data": {
      "text/html": [
       "<strong id=\"I\">I:</strong> <a class=\"ProveItLink\" href=\"__pv_it/4f8f0280e7c3df04ebf74ae2485775c1e6a3c6790/expr.ipynb\"><img src=\"data:image/png;base64,iVBORw0KGgoAAAANSUhEUgAAAAsAAAAOBAMAAAALT/umAAAAIVBMVEX///+6urqIiIjMzMwiIiLc\n",
       "3NxUVFQyMjJERER2dnYAAACYWiDdAAAAAXRSTlMAQObYZgAAAAlwSFlzAAAOxAAADsQBlSsOGwAA\n",
       "AENJREFUCNdjYGCYsaosgAEIloAIBuaVYIppIZjiWACmuArAlJQCmJplAKaqwCTDCjDJuAhMcS4G\n",
       "UyxgbWFVyyYwMAAAJc0LPUmARaoAAAAASUVORK5CYII=\n",
       "\" style=\"display:inline;vertical-align:middle;\" /></a><br>\n",
       "<strong id=\"IB\">IB:</strong> <a class=\"ProveItLink\" href=\"__pv_it/a98c4f67abad528a0d4a5626985e4649dfc3360a0/expr.ipynb\"><img src=\"data:image/png;base64,iVBORw0KGgoAAAANSUhEUgAAABsAAAAOBAMAAAAs4XpOAAAAMFBMVEX///+qqqru7u5mZmYQEBCY\n",
       "mJi6urqIiIjMzMwiIiLc3NxUVFQyMjJERER2dnYAAADZUTlVAAAAAXRSTlMAQObYZgAAAAlwSFlz\n",
       "AAAOxAAADsQBlSsOGwAAAKZJREFUCNdjYGB4+//0AgbW+39377nBAAI/QQTLBQaG/Q1ABsc/EHd9\n",
       "AQNDvgGQwf4NxI0HysQDhRh4P4C4+4H4yAIgwX8AxPVlYNCeAWLkg5Rw/C2vPgo2+D3IPPZfDAwi\n",
       "ASDueRDB68DAwPcDxPoLIvg3MDCwfgcy2EAEQz9QITfIRoiSeqAd/SArOMHWHgEq81FgYFh9/vcD\n",
       "BoY9/3fvPivAwAAA2jQwLlTZ6g0AAAAASUVORK5CYII=\n",
       "\" style=\"display:inline;vertical-align:middle;\" /></a><br>\n",
       "<strong id=\"IC\">IC:</strong> <a class=\"ProveItLink\" href=\"__pv_it/cc9dfb1a83a36dcc496601948b0d05ead3fc2add0/expr.ipynb\"><img src=\"data:image/png;base64,iVBORw0KGgoAAAANSUhEUgAAABsAAAAOBAMAAAAs4XpOAAAAMFBMVEX///9mZmaqqqoQEBCYmJju\n",
       "7u66urqIiIjMzMwiIiLc3NxUVFQyMjJERER2dnYAAABKSL3PAAAAAXRSTlMAQObYZgAAAAlwSFlz\n",
       "AAAOxAAADsQBlSsOGwAAAJhJREFUCNdjYGB4+//0AgYG1trdW7geMADBTxBRXMrA9NIByOD4ByRi\n",
       "pwIJeaAqBvZvQOJwAJBIBinj/cDAwPcJxGoEEfwHGBjWTwCxIkBEfgEDw/sCBhh438DAML8Bzj0P\n",
       "xPYgkxjAxF8gng9iMIGUsH2H2cgHEuP7ASTWg4x6CuJyfgCp+8LAoAfSuvr8b5DDA29vTABSAGYM\n",
       "KLhNlvyoAAAAAElFTkSuQmCC\n",
       "\" style=\"display:inline;vertical-align:middle;\" /></a><br>"
      ],
      "text/plain": [
       "I: I\n",
       "IB: IB\n",
       "IC: IC"
      ]
     },
     "execution_count": 23,
     "metadata": {},
     "output_type": "execute_result"
    }
   ],
   "source": [
    "I, IB, IC = Variable('I'), Variable('IB'), Variable('IC')"
   ]
  },
  {
   "cell_type": "code",
   "execution_count": 24,
   "metadata": {},
   "outputs": [],
   "source": [
    "# These depend on Block, from an old multiExpression.py file\n",
    "# Still looking into this to see what we have now\n",
    "# some Variable labels\n",
    "# Ablock = Block(A)\n",
    "# Bblock = Block(B)\n",
    "# B1block = Block(B1)\n",
    "# B2block = Block(B2)\n",
    "# B3block = Block(B3)\n",
    "# Cblock = Block(C)\n",
    "# C1block = Block(C1)\n",
    "# C2block = Block(C2)\n",
    "# C3block = Block(C3)\n",
    "# Dblock = Block(D)"
   ]
  },
  {
   "cell_type": "code",
   "execution_count": 25,
   "metadata": {},
   "outputs": [
    {
     "data": {
      "text/plain": [
       "'\\n# for implicit identity gates\\nIs = ImplicitIdentities(I) \\nIsB = ImplicitIdentities(IB) \\nIsC = ImplicitIdentities(IC) \\n'"
      ]
     },
     "execution_count": 25,
     "metadata": {},
     "output_type": "execute_result"
    }
   ],
   "source": [
    "'''\n",
    "# for implicit identity gates\n",
    "Is = ImplicitIdentities(I) \n",
    "IsB = ImplicitIdentities(IB) \n",
    "IsC = ImplicitIdentities(IC) \n",
    "'''"
   ]
  },
  {
   "cell_type": "code",
   "execution_count": 26,
   "metadata": {},
   "outputs": [
    {
     "name": "stdout",
     "output_type": "stream",
     "text": [
      "MES expression notebook is being updated\n",
      "Common expressions may be imported from autogenerated _common_.py\n"
     ]
    }
   ],
   "source": [
    "%end common"
   ]
  }
 ],
 "metadata": {
  "kernelspec": {
   "display_name": "Python 3",
   "language": "python",
   "name": "python3"
  },
  "language_info": {
   "codemirror_mode": {
    "name": "ipython",
    "version": 3
   },
   "file_extension": ".py",
   "mimetype": "text/x-python",
   "name": "python",
   "nbconvert_exporter": "python",
   "pygments_lexer": "ipython3",
   "version": "3.7.3"
  }
 },
 "nbformat": 4,
 "nbformat_minor": 1
}
