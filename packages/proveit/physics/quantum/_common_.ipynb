{
 "cells": [
  {
   "cell_type": "markdown",
   "metadata": {},
   "source": [
    "Common expressions for context <a class=\"ProveItLink\" href=\"_context_.ipynb\">proveit.physics.quantum</a>\n",
    "========"
   ]
  },
  {
   "cell_type": "code",
   "execution_count": null,
   "metadata": {},
   "outputs": [],
   "source": [
    "import proveit\n",
    "# Automation is not needed when building common expressions:\n",
    "proveit.defaults.automation = False # This will speed things up.\n",
    "from proveit import Lambda # added 2/12/2020 by wdc\n",
    "from proveit._common_ import n, A, B, C, D\n",
    "from proveit import Variable, Literal\n",
    "# from proveit.multiExpression import Block\n",
    "from proveit.number import Exp, frac, sqrt\n",
    "from proveit.number import zero, one, two\n",
    "from proveit.number import Complexes\n",
    "from proveit.linalg import SU, TensorExp\n",
    "# from proveit.physics.quantum.circuit import Gate\n",
    "from proveit.physics.quantum.quantumOps import Ket\n",
    "# the context is in the current directory:\n",
    "context = proveit.Context('.') # adds context root to sys.path if necessary"
   ]
  },
  {
   "cell_type": "code",
   "execution_count": null,
   "metadata": {},
   "outputs": [],
   "source": [
    "%begin common"
   ]
  },
  {
   "cell_type": "code",
   "execution_count": null,
   "metadata": {},
   "outputs": [],
   "source": [
    " # Single qubit identity operator\n",
    "I = Literal('I')"
   ]
  },
  {
   "cell_type": "code",
   "execution_count": null,
   "metadata": {},
   "outputs": [],
   "source": [
    "# Pauli's X, Y, Z\n",
    "X, Y, Z = Literal('X'), Literal('Y'), Literal('Z')"
   ]
  },
  {
   "cell_type": "code",
   "execution_count": null,
   "metadata": {},
   "outputs": [],
   "source": [
    "# Hadamard\n",
    "H = Literal('H')"
   ]
  },
  {
   "cell_type": "code",
   "execution_count": null,
   "metadata": {},
   "outputs": [],
   "source": [
    "# PASS: either a blank spot or continuation of a wire in a quantum circuit.\n",
    "# Can be used when initializing the circuit with a list of lists -- these PASS elements\n",
    "# are subsequently removed and turned into empty spots of the quantum circuit tensor.\n",
    "PASS = Literal('PASS')"
   ]
  },
  {
   "cell_type": "code",
   "execution_count": null,
   "metadata": {},
   "outputs": [],
   "source": [
    "# For positive X eigenstate\n",
    "PLUS = Literal(stringFormat='+', latexFormat='+')"
   ]
  },
  {
   "cell_type": "code",
   "execution_count": null,
   "metadata": {},
   "outputs": [],
   "source": [
    "# For negative X eigenstate\n",
    "MINUS = Literal(stringFormat='-', latexFormat='-') "
   ]
  },
  {
   "cell_type": "code",
   "execution_count": null,
   "metadata": {},
   "outputs": [],
   "source": [
    "ket0, ket1, ketPlus, ketMinus = Ket(zero), Ket(one), Ket(PLUS), Ket(MINUS)"
   ]
  },
  {
   "cell_type": "code",
   "execution_count": null,
   "metadata": {},
   "outputs": [],
   "source": [
    "# These will require updates to quantum/circuit.py,\n",
    "# which will require some prolonged attention\n",
    "# Xgate = Gate(X)\n",
    "# Ygate = Gate(Y)\n",
    "# Zgate = Gate(Z)\n",
    "# Hgate = Gate(H)"
   ]
  },
  {
   "cell_type": "code",
   "execution_count": null,
   "metadata": {},
   "outputs": [],
   "source": [
    "CTRL_UP, CTRL_DN, CTRL_UPDN = (\n",
    "    Literal('CTRL\\_UP'),\n",
    "    Literal('CTRL\\_DN'),\n",
    "    Literal('CTRL\\_UPDN'))"
   ]
  },
  {
   "cell_type": "code",
   "execution_count": null,
   "metadata": {},
   "outputs": [],
   "source": [
    "# WIRE_UP: wire goes up to link with another wire\n",
    "# WIRE_DN: wire goes down to link with another wire\n",
    "# WIRE_LINK: link destination for WIRE_UP or WIRE_DN\n",
    "WIRE_UP, WIRE_DN, WIRE_LINK = (Literal('WIRE\\_UP'),\n",
    "                               Literal('WIRE\\_DN'),\n",
    "                               Literal('WIRE\\_LINK'))"
   ]
  },
  {
   "cell_type": "code",
   "execution_count": null,
   "metadata": {},
   "outputs": [],
   "source": [
    "QubitSpace = Exp(Complexes, two)"
   ]
  },
  {
   "cell_type": "code",
   "execution_count": null,
   "metadata": {},
   "outputs": [],
   "source": [
    "SU(Exp(two, n))"
   ]
  },
  {
   "cell_type": "code",
   "execution_count": null,
   "metadata": {},
   "outputs": [],
   "source": [
    "# These eventually moved to separate definitions inside the quantum/quantumOps.py file\n",
    "# QubitRegisterSpace = lambda n : TensorExp(Exp(Complexes, two), n) \n",
    "# RegisterSU = lambda n : SU(Exp(two, n))"
   ]
  },
  {
   "cell_type": "code",
   "execution_count": null,
   "metadata": {},
   "outputs": [],
   "source": [
    "invRoot2 = frac(one, sqrt(two))"
   ]
  },
  {
   "cell_type": "code",
   "execution_count": null,
   "metadata": {},
   "outputs": [],
   "source": [
    "B1, B2, B3 = Variable('B1'), Variable('B2'), Variable('B3')"
   ]
  },
  {
   "cell_type": "code",
   "execution_count": null,
   "metadata": {},
   "outputs": [],
   "source": [
    "C1, C2, C3 = Variable('C1'), Variable('C2'), Variable('C3')"
   ]
  },
  {
   "cell_type": "code",
   "execution_count": null,
   "metadata": {},
   "outputs": [],
   "source": [
    "I, IB, IC = Variable('I'), Variable('IB'), Variable('IC')"
   ]
  },
  {
   "cell_type": "code",
   "execution_count": null,
   "metadata": {},
   "outputs": [],
   "source": [
    "# These depend on Block, from an old multiExpression.py file\n",
    "# Still looking into this to see what we have now\n",
    "# some Variable labels\n",
    "# Ablock = Block(A)\n",
    "# Bblock = Block(B)\n",
    "# B1block = Block(B1)\n",
    "# B2block = Block(B2)\n",
    "# B3block = Block(B3)\n",
    "# Cblock = Block(C)\n",
    "# C1block = Block(C1)\n",
    "# C2block = Block(C2)\n",
    "# C3block = Block(C3)\n",
    "# Dblock = Block(D)"
   ]
  },
  {
   "cell_type": "code",
   "execution_count": null,
   "metadata": {},
   "outputs": [],
   "source": [
    "'''\n",
    "# for implicit identity gates\n",
    "Is = ImplicitIdentities(I) \n",
    "IsB = ImplicitIdentities(IB) \n",
    "IsC = ImplicitIdentities(IC) \n",
    "'''"
   ]
  },
  {
   "cell_type": "code",
   "execution_count": null,
   "metadata": {},
   "outputs": [],
   "source": [
    "%end common"
   ]
  }
 ],
 "metadata": {
  "kernelspec": {
   "display_name": "Python 3",
   "language": "python",
   "name": "python3"
  }
 },
 "nbformat": 4,
 "nbformat_minor": 0
}
