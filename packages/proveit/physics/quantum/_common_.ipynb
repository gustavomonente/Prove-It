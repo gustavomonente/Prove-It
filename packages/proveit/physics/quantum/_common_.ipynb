{
 "cells": [
  {
   "cell_type": "markdown",
   "metadata": {},
   "source": [
    "Common expressions for context <a class=\"ProveItLink\" href=\"_context_.ipynb\">proveit.physics.quantum</a>\n",
    "========"
   ]
  },
  {
   "cell_type": "code",
   "execution_count": 1,
   "metadata": {},
   "outputs": [],
   "source": [
    "import proveit\n",
    "# Automation is not needed when building common expressions:\n",
    "proveit.defaults.automation = False # This will speed things up.\n",
    "from proveit import Lambda # added 2/12/2020 by wdc\n",
    "from proveit._common_ import n, A, B, C, D\n",
    "from proveit import Variable, Literal\n",
    "# from proveit.multiExpression import Block\n",
    "from proveit.number import Exp, frac, sqrt\n",
    "from proveit.number import zero, one, two\n",
    "from proveit.number.numberSets import Complexes\n",
    "from proveit.linalg import SU, TensorExp\n",
    "from proveit.physics.quantum.circuit import Gate\n",
    "from proveit.physics.quantum.quantumOps import Ket\n",
    "# the context is in the current directory:\n",
    "context = proveit.Context('.') # adds context root to sys.path if necessary"
   ]
  },
  {
   "cell_type": "code",
   "execution_count": 2,
   "metadata": {},
   "outputs": [
    {
     "name": "stdout",
     "output_type": "stream",
     "text": [
      "Defining common sub-expressions for context 'proveit.physics.quantum'\n",
      "Subsequent end-of-cell assignments will define common sub-expressions\n",
      "%end_common will finalize the definitions\n"
     ]
    }
   ],
   "source": [
    "%begin common"
   ]
  },
  {
   "cell_type": "code",
   "execution_count": 3,
   "metadata": {},
   "outputs": [
    {
     "data": {
      "text/html": [
       "<strong id=\"I\">I:</strong> <a class=\"ProveItLink\" href=\"__pv_it/c53e3418af62c6a087a212ca3110f821b1d3ca7c0/expr.ipynb\"><img src=\"data:image/png;base64,iVBORw0KGgoAAAANSUhEUgAAAAsAAAAOBAMAAAALT/umAAAAIVBMVEX///+6urqIiIjMzMwiIiLc\n",
       "3NxUVFQyMjJERER2dnYAAACYWiDdAAAAAXRSTlMAQObYZgAAAAlwSFlzAAAOxAAADsQBlSsOGwAA\n",
       "AENJREFUCNdjYGCYsaosgAEIloAIBuaVYIppIZjiWACmuArAlJQCmJplAKaqwCTDCjDJuAhMcS4G\n",
       "UyxgbWFVyyYwMAAAJc0LPUmARaoAAAAASUVORK5CYII=\n",
       "\" style=\"display:inline;vertical-align:middle;\" /></a><br>"
      ],
      "text/plain": [
       "I: I"
      ]
     },
     "execution_count": 3,
     "metadata": {},
     "output_type": "execute_result"
    }
   ],
   "source": [
    " # Single qubit identity operator\n",
    "I = Literal('I')"
   ]
  },
  {
   "cell_type": "code",
   "execution_count": 4,
   "metadata": {},
   "outputs": [
    {
     "data": {
      "text/html": [
       "<strong id=\"X\">X:</strong> <a class=\"ProveItLink\" href=\"__pv_it/38248b2bc47f368dfc3977c8df851513134b54200/expr.ipynb\"><img src=\"data:image/png;base64,iVBORw0KGgoAAAANSUhEUgAAABIAAAAOBAMAAADQ9FGEAAAAMFBMVEX///+6urpmZmaYmJjMzMzc\n",
       "3NxUVFSqqqoyMjIiIiLu7u52dnYQEBBERESIiIgAAAApsOdKAAAAAXRSTlMAQObYZgAAAAlwSFlz\n",
       "AAAOxAAADsQBlSsOGwAAAGRJREFUCNdjYGB4+/80w8o/7QxAkF/AwH4VxGDwv8AQBmYwcHzlSoCw\n",
       "mD8tY4CC81kw1v4HMFb+BCiDKewjlKXC8hfC4HZgmB8AZm1kYLDfAGKsVWBg4P8FZPieP8LA2P8z\n",
       "gQEAVF0Z1F9+OPgAAAAASUVORK5CYII=\n",
       "\" style=\"display:inline;vertical-align:middle;\" /></a><br>\n",
       "<strong id=\"Y\">Y:</strong> <a class=\"ProveItLink\" href=\"__pv_it/03aece9ee1e29fa4fee2fdf6d919d807abddaa9d0/expr.ipynb\"><img src=\"data:image/png;base64,iVBORw0KGgoAAAANSUhEUgAAABAAAAAOBAMAAADUAYG5AAAALVBMVEX///9mZmZERER2dnYiIiKY\n",
       "mJgyMjK6urqIiIiqqqrc3NwQEBBUVFTu7u4AAAC5bdywAAAAAXRSTlMAQObYZgAAAAlwSFlzAAAO\n",
       "xAAADsQBlSsOGwAAAFlJREFUCNdjuLNvzwIGzn07GBjqEhgYGFKBmOUVAwNHAZDB8ZiBYSaQZuB9\n",
       "zcDeAGIw6BUsBtMM884KQBjcbyA0A9NbKIM7AcpYZwBlxBVAGXpQ+tC7EyAKAM9EE4HndApcAAAA\n",
       "AElFTkSuQmCC\n",
       "\" style=\"display:inline;vertical-align:middle;\" /></a><br>\n",
       "<strong id=\"Z\">Z:</strong> <a class=\"ProveItLink\" href=\"__pv_it/783edb764d1993fad1ae80b7c8d70eadf17eb2710/expr.ipynb\"><img src=\"data:image/png;base64,iVBORw0KGgoAAAANSUhEUgAAAA4AAAAOBAMAAADtZjDiAAAAMFBMVEX///+IiIh2dnbMzMxERETc\n",
       "3NyqqqpmZmbu7u6YmJi6uroiIiJUVFQyMjIQEBAAAADo4HZ1AAAAAXRSTlMAQObYZgAAAAlwSFlz\n",
       "AAAOxAAADsQBlSsOGwAAAGhJREFUCNdjYGB4//bM2d8MDFw/GRi6XzAwsCcwMNwLYGDgYWBg+czA\n",
       "wMDMwFC/gAEEmH6CKYb5AmCK7TuEu/4AAytI3RegXiAdd4GBYSUDA8fuBgaGHQwMvE8ZGGwdgGZs\n",
       "cbn3fwIDAIgFGN/camm4AAAAAElFTkSuQmCC\n",
       "\" style=\"display:inline;vertical-align:middle;\" /></a><br>"
      ],
      "text/plain": [
       "X: X\n",
       "Y: Y\n",
       "Z: Z"
      ]
     },
     "execution_count": 4,
     "metadata": {},
     "output_type": "execute_result"
    }
   ],
   "source": [
    "# Pauli's X, Y, Z\n",
    "X, Y, Z = Literal('X'), Literal('Y'), Literal('Z')"
   ]
  },
  {
   "cell_type": "code",
   "execution_count": 5,
   "metadata": {},
   "outputs": [
    {
     "data": {
      "text/html": [
       "<strong id=\"H\">H:</strong> <a class=\"ProveItLink\" href=\"__pv_it/0755e195d53d597439e6071125e6bffe22b34af90/expr.ipynb\"><img src=\"data:image/png;base64,iVBORw0KGgoAAAANSUhEUgAAABMAAAAOBAMAAAA/Njq6AAAAMFBMVEX///9ERESqqqq6urpmZmbc\n",
       "3Nx2dnbMzMwiIiIQEBCYmJju7u4yMjJUVFSIiIgAAAATN2ysAAAAAXRSTlMAQObYZgAAAAlwSFlz\n",
       "AAAOxAAADsQBlSsOGwAAAHdJREFUCNdjYGB4+//shrXzz25gAII/QDwDxGBg/8bAwPoFzGT7zMDA\n",
       "9QnM5PnAwMD4G8zkF2Bg4GwAM+1779697wBm5hcwMLxXADPPA7E82FSGj0A8B8xi/gcxGmTsdwYG\n",
       "vs9gJgfI2A8g1t7zfx/wyn98wMAAAH9tIltv2y/LAAAAAElFTkSuQmCC\n",
       "\" style=\"display:inline;vertical-align:middle;\" /></a><br>"
      ],
      "text/plain": [
       "H: H"
      ]
     },
     "execution_count": 5,
     "metadata": {},
     "output_type": "execute_result"
    }
   ],
   "source": [
    "# Hadamard\n",
    "H = Literal('H')"
   ]
  },
  {
   "cell_type": "code",
   "execution_count": 6,
   "metadata": {},
   "outputs": [
    {
     "data": {
      "text/html": [
       "<strong id=\"PASS\">PASS:</strong> <a class=\"ProveItLink\" href=\"__pv_it/7c1d2be682b1d815d617ac9ea9e04eda4ed372ec0/expr.ipynb\"><img src=\"data:image/png;base64,iVBORw0KGgoAAAANSUhEUgAAADwAAAAPBAMAAABKPLFCAAAAMFBMVEX///+YmJgiIiLc3Ny6urp2\n",
       "dnaqqqrMzMwQEBDu7u5mZmYyMjJUVFRERESIiIgAAACzCz+6AAAAAXRSTlMAQObYZgAAAAlwSFlz\n",
       "AAAOxAAADsQBlSsOGwAAAQxJREFUGNNlkLFKA0EQhj/NkeDqnRY+gI3W1wiChZ2tByI2gtY2+gax\n",
       "tfMFImlsUtlqExsbUZJahNwLhItoFDnNOrPe7QUcuPlm99/7d2ZhOjb5H0P78nR74cquy8dXyXIF\n",
       "cgjPtahbzWFKa+RBYyLCRAXTiyV3YObag+hTvrHKu4enkmUZpB6E6iQLaml2JHuvYhiXgMU+7Og5\n",
       "w8mSHLL76lQAminra1ps00wEmf2OK5Dd77kBaLN1p/8N7VkFBsX80XOn13eVeZ9CXsiX0sYKSHdz\n",
       "Hx40xoXchlmxE//alwfRnxOBdD0/IhADk5RwWy429AneMKtwQAkWuj86My17Q32QJyZ4eJR7C/wC\n",
       "T35cFtMOPpcAAAAASUVORK5CYII=\n",
       "\" style=\"display:inline;vertical-align:middle;\" /></a><br>"
      ],
      "text/plain": [
       "PASS: PASS"
      ]
     },
     "execution_count": 6,
     "metadata": {},
     "output_type": "execute_result"
    }
   ],
   "source": [
    "# PASS: either a blank spot or continuation of a wire in a quantum circuit.\n",
    "# Can be used when initializing the circuit with a list of lists -- these PASS elements\n",
    "# are subsequently removed and turned into empty spots of the quantum circuit tensor.\n",
    "PASS = Literal('PASS')"
   ]
  },
  {
   "cell_type": "code",
   "execution_count": 7,
   "metadata": {},
   "outputs": [
    {
     "data": {
      "text/html": [
       "<strong id=\"PLUS\">PLUS:</strong> <a class=\"ProveItLink\" href=\"__pv_it/9eae512379f2c3552c6a56d098811c7039efaaa90/expr.ipynb\"><img src=\"data:image/png;base64,iVBORw0KGgoAAAANSUhEUgAAAA4AAAAOBAMAAADtZjDiAAAAHlBMVEX///9UVFQQEBAiIiJmZmaI\n",
       "iIiqqqqYmJi6uroAAAAAFVhYAAAAAXRSTlMAQObYZgAAAAlwSFlzAAAOxAAADsQBlSsOGwAAAB9J\n",
       "REFUCNdjYGBgaGeAgFRiaGdjYyVjY0Oi1SPRIHsAgDEGyG9xCpgAAAAASUVORK5CYII=\n",
       "\" style=\"display:inline;vertical-align:middle;\" /></a><br>"
      ],
      "text/plain": [
       "PLUS: +"
      ]
     },
     "execution_count": 7,
     "metadata": {},
     "output_type": "execute_result"
    }
   ],
   "source": [
    "# For positive X eigenstate\n",
    "PLUS = Literal(stringFormat='+', latexFormat='+')"
   ]
  },
  {
   "cell_type": "code",
   "execution_count": 8,
   "metadata": {},
   "outputs": [
    {
     "data": {
      "text/html": [
       "<strong id=\"MINUS\">MINUS:</strong> <a class=\"ProveItLink\" href=\"__pv_it/18cf2b394631177fc952e04bc28dd3218c0320cc0/expr.ipynb\"><img src=\"data:image/png;base64,iVBORw0KGgoAAAANSUhEUgAAAA4AAAABBAMAAAAcMII3AAAAElBMVEX////MzMwiIiIyMjLu7u4A\n",
       "AADe/Ps1AAAAAXRSTlMAQObYZgAAAAlwSFlzAAAOxAAADsQBlSsOGwAAAA1JREFUCNdjcFYCAUUA\n",
       "BKYBD24TAeoAAAAASUVORK5CYII=\n",
       "\" style=\"display:inline;vertical-align:middle;\" /></a><br>"
      ],
      "text/plain": [
       "MINUS: -"
      ]
     },
     "execution_count": 8,
     "metadata": {},
     "output_type": "execute_result"
    }
   ],
   "source": [
    "# For negative X eigenstate\n",
    "MINUS = Literal(stringFormat='-', latexFormat='-') "
   ]
  },
  {
   "cell_type": "code",
   "execution_count": 9,
   "metadata": {},
   "outputs": [
    {
     "data": {
      "text/html": [
       "<strong id=\"ket0\">ket0:</strong> <a class=\"ProveItLink\" href=\"__pv_it/35bcbdd3f7a7f3b11d696bd376a9005b1248aa9d0/expr.ipynb\"><img src=\"data:image/png;base64,iVBORw0KGgoAAAANSUhEUgAAABQAAAAVBAMAAAC0+9ObAAAAMFBMVEX///8QEBBUVFRERESYmJgi\n",
       "IiLu7u6qqqoyMjJmZmbMzMyIiIi6urp2dnbc3NwAAADV54WuAAAAAXRSTlMAQObYZgAAAAlwSFlz\n",
       "AAAOxAAADsQBlSsOGwAAAKFJREFUCNdjeMAABlxAfAfCZF4AZvLensfAPgHMbGdIfcAQAGKyBDDw\n",
       "GjBcBzGZFRjYvzE8BjH5JzDwfGfgeABk5gOZXxjYLwCZ7y8wcP1mAOqDMP8yMMwBKbjAwAMUXQTR\n",
       "xv6dgaEWZJgBA8s3BoY+kBUCDJwNDHwGIIvDGRIXMPAWgJi5u7UYGFjhjmSoRDDt4Ey2BjiT24GB\n",
       "YRfUQwwMACjcMmWaDYiIAAAAAElFTkSuQmCC\n",
       "\" style=\"display:inline;vertical-align:middle;\" /></a><br>\n",
       "<strong id=\"ket1\">ket1:</strong> <a class=\"ProveItLink\" href=\"__pv_it/ec69f871195686be823e4989460d2913f85624160/expr.ipynb\"><img src=\"data:image/png;base64,iVBORw0KGgoAAAANSUhEUgAAABQAAAAVBAMAAAC0+9ObAAAAMFBMVEX///+YmJiqqqoQEBBEREQy\n",
       "MjJmZmZUVFTu7u4iIiLMzMyIiIi6urp2dnbc3NwAAACIMV78AAAAAXRSTlMAQObYZgAAAAlwSFlz\n",
       "AAAOxAAADsQBlSsOGwAAAGhJREFUCNdjeMAABlxAfAfCZFkAYa5sYGBKADE5yuIbGBgmQET3A5mX\n",
       "EMwnCCbrAziT6QKcCdQHZ+YgmMsRTF0EMw7O5HOAM3kVQMwS++kbGDjhjmRQQzD94EyOADiTW4CB\n",
       "YRfUQwwMAFPqLM6VMoBhAAAAAElFTkSuQmCC\n",
       "\" style=\"display:inline;vertical-align:middle;\" /></a><br>\n",
       "<strong id=\"ketPlus\">ketPlus:</strong> <a class=\"ProveItLink\" href=\"__pv_it/e5be8992c8a751ed405faee3306a8c19bfafeb370/expr.ipynb\"><img src=\"data:image/png;base64,iVBORw0KGgoAAAANSUhEUgAAABoAAAAVBAMAAACqMuMoAAAAMFBMVEX////u7u4yMjJERERUVFQQ\n",
       "EBAiIiJmZmaqqqqYmJjMzMyIiIi6urp2dnbc3NwAAAC2AzRPAAAAAXRSTlMAQObYZgAAAAlwSFlz\n",
       "AAAOxAAADsQBlSsOGwAAAGtJREFUGNNjeMAAA1xAfAfOY16AzOMoQOYxJEB5PBNA5A0oj2MDiHyM\n",
       "wmN6gMzjuIDMAxqDzKsB8tjT0lLD0tIcGBiWoMj1ovD0kHl8Bsg83gZkHhuKW9pRXG2H7CNGBWQe\n",
       "N1DBLkRIMDAAAE69JzN51K2cAAAAAElFTkSuQmCC\n",
       "\" style=\"display:inline;vertical-align:middle;\" /></a><br>\n",
       "<strong id=\"ketMinus\">ketMinus:</strong> <a class=\"ProveItLink\" href=\"__pv_it/9573409ee6d2e03421402f43933c594555a3697c0/expr.ipynb\"><img src=\"data:image/png;base64,iVBORw0KGgoAAAANSUhEUgAAABoAAAAVBAMAAACqMuMoAAAALVBMVEX///+YmJhUVFRmZmaqqqpE\n",
       "REQiIiIyMjLu7u7MzMyIiIi6urp2dnbc3NwAAABhMgNFAAAAAXRSTlMAQObYZgAAAAlwSFlzAAAO\n",
       "xAAADsQBlSsOGwAAAGBJREFUGNNjuMAAA5xAfBrOY52AzGMxQOYxJKDwjqDwrqLw2C8g81gOIPOA\n",
       "xiDzrIE8jrI0EADaPQlFzgeFV4vM4w1A5vE4IPPYUNzijMKLReZxFCDzuAQYGFYiQoKBAQD6ixvZ\n",
       "2EETeQAAAABJRU5ErkJggg==\n",
       "\" style=\"display:inline;vertical-align:middle;\" /></a><br>"
      ],
      "text/plain": [
       "ket0: |0〉\n",
       "ket1: |1〉\n",
       "ketPlus: |+〉\n",
       "ketMinus: |-〉"
      ]
     },
     "execution_count": 9,
     "metadata": {},
     "output_type": "execute_result"
    }
   ],
   "source": [
    "ket0, ket1, ketPlus, ketMinus = Ket(zero), Ket(one), Ket(PLUS), Ket(MINUS)"
   ]
  },
  {
   "cell_type": "code",
   "execution_count": 10,
   "metadata": {},
   "outputs": [
    {
     "data": {
      "text/html": [
       "<strong id=\"Hgate\">Hgate:</strong> <a class=\"ProveItLink\" href=\"__pv_it/c2ee9bcb7f1d7c8316c0aae94c8f9db06ce6ab570/expr.ipynb\"><img src=\"data:image/png;base64,iVBORw0KGgoAAAANSUhEUgAAAG0AAAAVBAMAAAC+p33JAAAAMFBMVEX///8yMjJmZmaqqqoQEBDc\n",
       "3NyYmJhUVFRERETu7u66urp2dnbMzMwiIiKIiIgAAACdyk6oAAAAAXRSTlMAQObYZgAAAAlwSFlz\n",
       "AAAOxAAADsQBlSsOGwAAAj9JREFUOMuNlM1rE1EUxU8+Jsk0zTQgWLrqkIUIbrLvQt2JUI0gbkQy\n",
       "COKyiZupC0mQSt3UzM6uSkW3mmxUKEjyD4gFi7owODtxIU2UaFrbjue+N2miombgTd477/3u3HPv\n",
       "TPD5Pf59We2W+i0MJZlu/Hrqwp9gel3h+aHyZMCt3XWdy0qaBcz28q13i20f1tIZd3Grqrk5jo/B\n",
       "tHf9/LQnMYSzznmYeyO7sYCrm4hvIukAU1muNGdmZbvLMc8xo7kVJhztyUa0UkASKNpI8HS9QcBW\n",
       "XJRhMPkDML5wclVxqR1OJ04J97TZwiVgIQ/LA5okTF9xceV0F0h8lZUnXFPFsnkz/O08eKziIabN\n",
       "+mgp7oFwkU74kIhDztgXzZRqR3FSYigPvPqYcMJ6npD1VBVinVKJXPrgsMAP8aqB0ANT33drhZA7\n",
       "KkL9retWJK9Ellxk75CzUSwh9EBgDy8H/XstAs1jW/oY2yQXZ8ZWLscHWbdzFaaC5A5CO1GYmjsb\n",
       "Nhc1T4rRIZfpiLNv0n5akPSVB2XHoDbk+hynoYu/gWQvLBXTREbaUbQVV/d5+6S5I3L6QLcwzNOQ\n",
       "uhSZnxRP8Qv6XRQ7Rklz97RfWLuyk6hK/1j7yTJjX6SS6g08AB84Hq1r7jmHGEp11GvlC2cev/HM\n",
       "9LAazCBW6zbS5WCZUcxy4LpL3bCej4H7s9/9ZK0vyWcKv39H+Mt3lGmNSlcwLpewR6VjY3O4M6IY\n",
       "1fG51RElxbq9+O//y5biDGcoXQN+Aop9rzNkHLmBAAAAAElFTkSuQmCC\n",
       "\" style=\"display:inline;vertical-align:middle;\" /></a><br>"
      ],
      "text/plain": [
       "Hgate: [GATE](H)"
      ]
     },
     "execution_count": 10,
     "metadata": {},
     "output_type": "execute_result"
    }
   ],
   "source": [
    "# These will require updates to quantum/circuit.py,\n",
    "# which will require some prolonged attention\n",
    "Xgate = Gate(X)\n",
    "Ygate = Gate(Y)\n",
    "Zgate = Gate(Z)\n",
    "Hgate = Gate(H)"
   ]
  },
  {
   "cell_type": "code",
   "execution_count": 11,
   "metadata": {},
   "outputs": [
    {
     "data": {
      "text/html": [
       "<strong id=\"CTRL_UP\">CTRL_UP:</strong> <a class=\"ProveItLink\" href=\"__pv_it/2e5dba5a6dc3589b0010428e1632e92ef5fee44b0/expr.ipynb\"><img src=\"data:image/png;base64,iVBORw0KGgoAAAANSUhEUgAAAGQAAAAOBAMAAAAro6RbAAAAMFBMVEX////MzMy6uroyMjJmZmYi\n",
       "IiKqqqoQEBB2dnbc3NyYmJhUVFRERESIiIju7u4AAACU7+9TAAAAAXRSTlMAQObYZgAAAAlwSFlz\n",
       "AAAOxAAADsQBlSsOGwAAAcBJREFUKM89UjtPAkEQ/kREDg6kMLGE2FhqQWKjOf+ASqMWPrC0s6IV\n",
       "GhOMiWdpY7jYWYGJJgY0WqiFaLzCRBOIj0QrTQR8BAU8Z/Zu3WRnZr/Z+WZnZgEEy4W8knqeKUwU\n",
       "T2eBslW8OANQsoYM8FL2Ps+hJoeF6yD6QNDNHTzLRukBCSBP5yYQzpH+hLO8NRK3bL0D6hLwOkf2\n",
       "+HoOygewBbS1CP8mXZch7RUSY7BdHtqDnKlPMeD7Au6AQJUuUUigJkO6jklwXnYF6vB+MdrtAvy/\n",
       "wLzNGT52uMXqN6ngFBkqQWoVmRijj7Q7Y5JTmWY9IEP0EOCLOOkoXjelJzNic15en4RYp6Rjirab\n",
       "jbCJjUkgHpKe7LzNuR484PL0iIMHGyT8bN3vp6k/SLIbLI6EhUF6ACfQJJXnh8QmW1c2EBcop0rY\n",
       "AHG+5ewZYFuMhfqEFWcsEBNhlIf8Ic4u4lykqlwtp7PwVhxLTirD5a/R9oluw02t1s02wR0QP8ZD\n",
       "iJ+J5aT4pQtchforau0hlTV70UHcul1dFMrO/y/g9VTc5d6sas1DfkU6bcB9abxojYJGZVmWVfEW\n",
       "R/miX2uKgfwBHauUWPcQQTYAAAAASUVORK5CYII=\n",
       "\" style=\"display:inline;vertical-align:middle;\" /></a><br>\n",
       "<strong id=\"CTRL_DN\">CTRL_DN:</strong> <a class=\"ProveItLink\" href=\"__pv_it/39b56f48f9ce087035fc07b03cdae4baf59c97710/expr.ipynb\"><img src=\"data:image/png;base64,iVBORw0KGgoAAAANSUhEUgAAAGkAAAAOBAMAAADeXS/rAAAAMFBMVEX////MzMy6uroyMjJmZmYi\n",
       "IiKqqqoQEBB2dnbc3NyYmJhUVFRERESIiIju7u4AAACU7+9TAAAAAXRSTlMAQObYZgAAAAlwSFlz\n",
       "AAAOxAAADsQBlSsOGwAAAdlJREFUKM9FUT1IW1EU/nxN4ns2iRkKHRVBO0ZwcFB42dpOdWkdbNWx\n",
       "g+DkVjBLQRCaDN19uDnlDU5G0aHtEiUOgoOitigOCm21f5o0z++7V58X7j3nfOfnnnM+ANn96opX\n",
       "PHldfVn7/AbYj2qbXwDsRcMB7CG0OlQ2Sg4p/90R1d0DpN4He0eYAVZoN4GukPI34nMJdPyRUqcj\n",
       "qaTzcT4vyiG8X8Ai0PYfSF9R/ouTBOEprzNFhytoUKlPvMBUOwAyP4EHdGYu4ixByLNf9xtL9dFw\n",
       "zc+PHOBhC5hkxg92uGHl7UlLXSgCCYwCH2SMCP/K2240dG7AG5Psj7MI8a9QWZUABRql7TvfQsGI\n",
       "/NbOp5xkMc7qUsxhUc11jkD4RO7OV5k0olTOrmrUUnecdaiY9W41l7hwhM8qAnrWjYZBdqRy/v3i\n",
       "63r+8hbgNV2FTQhJqdiMDWkA30PLEZYsRAbRcc2H1eofYZiCpUB0iRJ6pzmhI47Ce7pOuRGHM+Sf\n",
       "mR1oUi3Tko9ESxtqg0uOMkFMV3ZAxdlc0tCYYu23ajXdkpl9TFHZ7kGSHJXspGKuVws+UXFL43Ft\n",
       "WVuZ95trKjc3FyCxFZz5jarPEaMoalDdfE7f2eyr265vAAAEnfxdKxV1AAAAAElFTkSuQmCC\n",
       "\" style=\"display:inline;vertical-align:middle;\" /></a><br>\n",
       "<strong id=\"CTRL_UPDN\">CTRL_UPDN:</strong> <a class=\"ProveItLink\" href=\"__pv_it/6153f8f7e3ef4ab44de58ffec7715eeaa8bd6ba50/expr.ipynb\"><img src=\"data:image/png;base64,iVBORw0KGgoAAAANSUhEUgAAAIkAAAAOBAMAAADpvyKaAAAAMFBMVEX////MzMy6uroyMjJmZmYi\n",
       "IiKqqqoQEBB2dnbc3NyYmJhUVFRERESIiIju7u4AAACU7+9TAAAAAXRSTlMAQObYZgAAAAlwSFlz\n",
       "AAAOxAAADsQBlSsOGwAAAkdJREFUKM89Uz1oU1EU/pom8b02f4Pg2CKoYwSFDgovmzrZxTpYTUcH\n",
       "IS7dxL5FCCgmg4PQoY9uTsnQQZtKO/gzpCVvEBxamigWhQra1p9q0sTznXufF+797j3nvPP3nQcg\n",
       "s9VYdv2d6ca15uubwNaguf4GwObgYgCu+eJ0gLcHoapWzncMXqiClxyS3j0R4f02kg+CzQ5mgWV5\n",
       "94CxuuBP2FUZB9I+bwdA6r7BkV8UtMQwQSdfb8lxtVqH+wNYBIaOxPSP4GHkxZMdpylVySODuCQ7\n",
       "dkcMHdpMUH/GDdT7tkTdA4ZFmd6PvEhyGOWFqvShQeSlXuejvE7Lw9HMjsfEsA/MiIfvUtGaQV0x\n",
       "Rv7CW0pEqT2DWJAa47gOPOZjkvoPso/pDdk1uDeIZ60Xh5EXrQr50CDydXqpBSiwdWGU+EJBIb/x\n",
       "7lWO6Ft54q4cqhsL8XTKIND2WUx2ErQr5iIvtRnDSDWz0rHM6PpGwrjRfl7WnNr8ZnWcxcT3Y7Sb\n",
       "4xfgsao3TEjGvmVGV0na6GrGLStR/K0Zuj2HnxUpSdL5rDHp2ugyE3imyYnSqdpx+U/ayF85JFrr\n",
       "CXRSYCjnuJAR0ZYKlhmtoxIRHU2Qjstn6XBMepC/rD1lriTLDCPifXZ8SJlJ6y9QkpRf6LjYCeK4\n",
       "ZM4xuGgSKkxK7NssLdXnM3NCoBaeREJmoqKdGi5gXimIJoh4iqTtMLgRfmouscsPvd5Lui+XA8Q3\n",
       "gl2v2/C6yA4GAzxa0t6Oej2L3cb6Fbnszk3Zqv8BnLDNZRrvhNsAAAAASUVORK5CYII=\n",
       "\" style=\"display:inline;vertical-align:middle;\" /></a><br>"
      ],
      "text/plain": [
       "CTRL_UP: CTRL\\_UP\n",
       "CTRL_DN: CTRL\\_DN\n",
       "CTRL_UPDN: CTRL\\_UPDN"
      ]
     },
     "execution_count": 11,
     "metadata": {},
     "output_type": "execute_result"
    }
   ],
   "source": [
    "CTRL_UP, CTRL_DN, CTRL_UPDN = (\n",
    "    Literal('CTRL\\_UP'),\n",
    "    Literal('CTRL\\_DN'),\n",
    "    Literal('CTRL\\_UPDN'))"
   ]
  },
  {
   "cell_type": "code",
   "execution_count": 12,
   "metadata": {},
   "outputs": [
    {
     "data": {
      "text/html": [
       "<strong id=\"WIRE_UP\">WIRE_UP:</strong> <a class=\"ProveItLink\" href=\"__pv_it/16c8a75cf5ad4da409ddd85bdd01f112887895330/expr.ipynb\"><img src=\"data:image/png;base64,iVBORw0KGgoAAAANSUhEUgAAAGgAAAAOBAMAAAAxn0TVAAAAMFBMVEX///+qqqqIiIhmZmbc3NzM\n",
       "zMyYmJju7u5ERERUVFS6uroyMjIQEBAiIiJ2dnYAAAApDa38AAAAAXRSTlMAQObYZgAAAAlwSFlz\n",
       "AAAOxAAADsQBlSsOGwAAAcRJREFUKM9FUj1LA0EQfbncecmJZ5XaA0GsNNgINgY7G8kPEBIrQRCD\n",
       "VlZqBDWFmEIhooZUFilUTCdCSkUMxlIQtLA1hhg1mo9zdnY9F3Znd2bem3lzh9fWBQ5bm5hvx2Hv\n",
       "NHeBQTe1tQayt6n97Wu6QD9qbyBwd86xTCEBqwPYP4CRpmhvWeQ0gJh4NQVSODgBQ5C+wBX0d+mz\n",
       "hSv2TIdRo0AdTIclBnVX6RhVMV8N5jf5PoG8CA7n6NA+yFNX9IsM6l2lI61iWocLDhBe1MDOH21s\n",
       "la0Gg0GnDmCKjADFAgQsQQ910BVRHTOt/iDtMeR6iwJdOVVSMDzCJl3chlVj2mT/elTYh0xdgR5p\n",
       "+1m0g6l7skWEzIbszv5g2oiZSTC9UZYYoRtBFp2tzLGOhIOmlfOGhEvq4pnZEIZAw0eDwoQnmtb4\n",
       "RAIl+39IINqVtPxcEdPxOnjxRIsuZqjnWW9IsIi2L6wEalzJrqqJGx0FGib6YtwbEvxfdHEMST/J\n",
       "fh+5gmK82o8CLdBrW16fhOhpylhw8ugheutGBgrQ9/5F0zqhPca/5YGbpVYqlTj8yfhy8Xs/c3cG\n",
       "uK5btVMjIiNYbLDGXzN7mcHpZ+RhAAAAAElFTkSuQmCC\n",
       "\" style=\"display:inline;vertical-align:middle;\" /></a><br>\n",
       "<strong id=\"WIRE_DN\">WIRE_DN:</strong> <a class=\"ProveItLink\" href=\"__pv_it/c44c110685b71a5b77ab4d666131ab2af5168b0b0/expr.ipynb\"><img src=\"data:image/png;base64,iVBORw0KGgoAAAANSUhEUgAAAG0AAAAOBAMAAADXto+RAAAAMFBMVEX///+qqqqIiIhmZmbc3NzM\n",
       "zMyYmJju7u5ERERUVFS6uroyMjIQEBAiIiJ2dnYAAAApDa38AAAAAXRSTlMAQObYZgAAAAlwSFlz\n",
       "AAAOxAAADsQBlSsOGwAAAehJREFUKM9FUr9rU1EYPSbv5ZVX8nQpuPlAELd2cBLRoJNT8wcIeU5O\n",
       "kodOFcVaB9uhJINDSkXj0qGgcfUHZC1iaR0LBbM52fojan7Z5zn3S0ng3Xveud857zvfDb6N3uHZ\n",
       "6Alu/0sQ1YZPgfPZyvIjcP+0sra6Bfcj13hbcqCME+2tFOEREA0Av0725K6KekBFb0PVmU648EOg\n",
       "xpNiCni/TBeJrHS4+D+BqS6cI+6aTBwu8QlPd6026APTf4BNHc82ueR+k+maG+6YThxaCcl7dHs5\n",
       "7uAc3TquCS3T3/nhRbfn4JtuihzmWZPHPvBV1Da8mSMUSmMPhlyEt2f7xjidML9Xl66aYE7UPiJm\n",
       "dP2ESoHW0tnHZe17je6xrhIrRUctcnautzZmgp7BSClwWAoaqfayv3usm5XRi6ZazA/CpsuUxhga\n",
       "VDLgA9vqOEM2lJrOBR9BjNeLHHnlaortaJICHPDDul1jKYhNR4wCp66+atccdXiTGW852FJVyOMz\n",
       "c+OwuXRyfffpGp5i1WVrna/txCyUIv+XIPYt7PXJ9QXvNQH6FAeOq/IGVu34i/4HN6irxpsoMmz4\n",
       "0Q4U/JWm/0D9uingNZ+LAt569pyOBwcJ8kvJQru/1th5A2RZ1idevsCShZ3PXBX+P8/ypExxAs/g\n",
       "AAAAAElFTkSuQmCC\n",
       "\" style=\"display:inline;vertical-align:middle;\" /></a><br>\n",
       "<strong id=\"WIRE_LINK\">WIRE_LINK:</strong> <a class=\"ProveItLink\" href=\"__pv_it/ea550b757f4389ad11973a88131d670ab61042390/expr.ipynb\"><img src=\"data:image/png;base64,iVBORw0KGgoAAAANSUhEUgAAAIcAAAAOBAMAAAD3dhIpAAAAMFBMVEX///+qqqqIiIhmZmbc3NzM\n",
       "zMyYmJju7u5ERERUVFS6uroyMjIQEBAiIiJ2dnYAAAApDa38AAAAAXRSTlMAQObYZgAAAAlwSFlz\n",
       "AAAOxAAADsQBlSsOGwAAAixJREFUKM9NUr9rE2EYfrjc5eqFXLMUBAcPBNHF3OzS4NbJ/AFiTxCc\n",
       "JIdOTsYqaIdyGRxSLHpdHDoYRytCHItYzCYFoTcIdWmjafrjmibn+37vHbmDfM/763vyvs/3Yv/8\n",
       "M9bOX+Lh2IMdjF4D15LlV89A+H15dWUL6ruefPII/iSbNWjBEXCJrlB0E3i3VYc1AewzwGhR0WyP\n",
       "b5wCi+yNmElIMM7BTEzHz8y9WAP0QyGxObgY0WEMqG4IRY/HctmY5GA9oHtR6hYrZJhEWzoGNjhd\n",
       "DenQqNvSUKjxSEi0sxzsdSJYFXHN3ypBTV8dCDMCPkp/qaWmQg2GkHCMB1Hglr/C9iV6V/Lb0Ocm\n",
       "KNZSQhKmCX1H8H2qCGY/5sAtHqMgbtGV/C/YpItq2xrw2Vm68rzOuNMeZiSdSMDhqgoJaku02pN8\n",
       "F3PmqUxjH/HZr5ltbrZfN3oZST8UYHKaZD5UEvZvFP5JPvAdjKxwOvkX6jNS7HDhZ/80BZrkdnNP\n",
       "uZ4+ksT8LR/bNlI16KPnetqSdamZDjL1cV+F1DLMDN10oYK6tHiPdHmQG5ne+7KbCqRJJ8pupZqt\n",
       "k38YpdFOSxVUm9zXdOTCCRmOIQItSCNsa16qGU+yG6bR8okqaNDjrkjtLi/fHQo3nA2USSDrmyTY\n",
       "7vsKYLLajSyqySp/oN9NNvQ3yVuiPzjwUFjynnTj1fYP2oskSWKyuzEWunEEc21My3qB6qnCwX7y\n",
       "AvgP/JLNk7sIwm0AAAAASUVORK5CYII=\n",
       "\" style=\"display:inline;vertical-align:middle;\" /></a><br>"
      ],
      "text/plain": [
       "WIRE_UP: WIRE\\_UP\n",
       "WIRE_DN: WIRE\\_DN\n",
       "WIRE_LINK: WIRE\\_LINK"
      ]
     },
     "execution_count": 12,
     "metadata": {},
     "output_type": "execute_result"
    }
   ],
   "source": [
    "# WIRE_UP: wire goes up to link with another wire\n",
    "# WIRE_DN: wire goes down to link with another wire\n",
    "# WIRE_LINK: link destination for WIRE_UP or WIRE_DN\n",
    "WIRE_UP, WIRE_DN, WIRE_LINK = (Literal('WIRE\\_UP'),\n",
    "                               Literal('WIRE\\_DN'),\n",
    "                               Literal('WIRE\\_LINK'))"
   ]
  },
  {
   "cell_type": "code",
   "execution_count": 13,
   "metadata": {},
   "outputs": [
    {
     "data": {
      "text/html": [
       "<strong id=\"QubitSpace\">QubitSpace:</strong> <a class=\"ProveItLink\" href=\"__pv_it/e79e1533ca9493182a2c7c561c1c6239ee619b750/expr.ipynb\"><img src=\"data:image/png;base64,iVBORw0KGgoAAAANSUhEUgAAABcAAAATBAMAAACJlYuFAAAAMFBMVEX///+qqqq6urpUVFRmZmbu\n",
       "7u6YmJgQEBDMzMyIiIgyMjIiIiJERER2dnbc3NwAAADwZfnPAAAAAXRSTlMAQObYZgAAAAlwSFlz\n",
       "AAAOxAAADsQBlSsOGwAAAJNJREFUCNdjYICC2MumDHDgwOCN4HxieN8A56RCOG9Pr5rXC6RvAzHv\n",
       "8QRWfxMGBo6tQI6nLgMD2xEGhjcBQAGHo0AREwY+A44HDDwBB4CclwxvOloCGHj4HMCm1f//z8Dw\n",
       "mOMCwrJepgQE5wnTBASHhw9JGcQ0KGAC28ME5YFcwDAHyuFddZVVygGm8O3x334QFgB5EyY3va2P\n",
       "gAAAAABJRU5ErkJggg==\n",
       "\" style=\"display:inline;vertical-align:middle;\" /></a><br>"
      ],
      "text/plain": [
       "QubitSpace: Complexes^{2}"
      ]
     },
     "execution_count": 13,
     "metadata": {},
     "output_type": "execute_result"
    }
   ],
   "source": [
    "QubitSpace = Exp(Complexes, two)"
   ]
  },
  {
   "cell_type": "code",
   "execution_count": 14,
   "metadata": {},
   "outputs": [
    {
     "data": {
      "text/html": [
       "<a class=\"ProveItLink\" href=\"__pv_it/b4146a83d15e75f23a9e26d364e73bdcc89023230/expr.ipynb\"><img src=\"data:image/png;base64,iVBORw0KGgoAAAANSUhEUgAAAE8AAAAVBAMAAAD1D64kAAAAMFBMVEX///8QEBBUVFTc3NwyMjLu\n",
       "7u5ERESYmJhmZmaqqqq6urp2dnbMzMwiIiKIiIgAAADe9LGkAAAAAXRSTlMAQObYZgAAAAlwSFlz\n",
       "AAAOxAAADsQBlSsOGwAAAaxJREFUKM91k7FLw0AUh39tmtgmrc0sgsHJQSUgoovSRXCSDuJcXFwc\n",
       "Ci7FSURpoSAdHRzqP6BFN1HqLmjcijpkUZRSDJUilkp8l7uUtJJb8u7Ll3v33l3QesHgEEDis5Hi\n",
       "/TtgUnSF4cHJhxBP8xETZz4+Ltd2pZnfLSgTa5wkasDiwTbmW0hnMVrhomJjw4HWpbApPl2n5Abq\n",
       "VczilKYrHJcoRQYxh8JDIRaBaBYRHeMoJ4ECxz1AtZHOUWgIUQciHUS/JAdPJxRnGVa/gaSJcxuQ\n",
       "a1xUM7SihWhPNdDMA7E8w5J7zRap39IOqlyM17yaU47ohGZ4+NNtU6cemSD6QCuw8WALkUpgWHpz\n",
       "dchtiqJCTFW89w2/twlLtDfeRYJ2imUhRqoe3fPFpMMwfS3/QKPacTkgFvqnpeoMU0ukDjSHd4fv\n",
       "scJPZy6YWrW8KhMd2qJ/+gqr4g549YvJEY4/Axc0WYU07V8KjWVplPYtIcZtJqpTkyyTtnnUvz0s\n",
       "S8x13YwQU2bYNRu6pUuh97EwyIqhomIGkZQLFeVcEClZ4ObfPzPmPRaCbAf4A1lyfkWbj10kAAAA\n",
       "AElFTkSuQmCC\n",
       "\" style=\"display:inline;vertical-align:middle;\" /></a>"
      ],
      "text/plain": [
       "[SU](2^{n})"
      ]
     },
     "execution_count": 14,
     "metadata": {},
     "output_type": "execute_result"
    }
   ],
   "source": [
    "SU(Exp(two, n))"
   ]
  },
  {
   "cell_type": "code",
   "execution_count": 15,
   "metadata": {},
   "outputs": [],
   "source": [
    "# These eventually moved to separate definitions inside the quantum/quantumOps.py file\n",
    "# QubitRegisterSpace = lambda n : TensorExp(Exp(Complexes, two), n) \n",
    "# RegisterSU = lambda n : SU(Exp(two, n))"
   ]
  },
  {
   "cell_type": "code",
   "execution_count": 16,
   "metadata": {},
   "outputs": [
    {
     "data": {
      "text/html": [
       "<strong id=\"invRoot2\">invRoot2:</strong> <a class=\"ProveItLink\" href=\"__pv_it/afa1062b161dee432dc73b9b0c5f0debb47d132f0/expr.ipynb\"><img src=\"data:image/png;base64,iVBORw0KGgoAAAANSUhEUgAAABwAAAAwBAMAAADwTQfqAAAAMFBMVEX///+YmJiqqqrc3Ny6urp2\n",
       "dnYQEBBERESIiIgyMjJmZmZUVFTu7u4iIiLMzMwAAACoSBJeAAAAAXRSTlMAQObYZgAAAAlwSFlz\n",
       "AAAOxAAADsQBlSsOGwAAAMhJREFUKM9jYAADvjsMSOD0yj/IXAaOIcDlLvu7g2FAwX8UQBUj36Ma\n",
       "VYciyVeAwuV2QOFaMjCvmv4Azl3CYM3A+gXG45nAsIeBIQ3G5VJgyD/AsN8Ayj3LwLCXgWE/THMg\n",
       "mLwPxEwgKy6A7f4BJNomACOhAcTlXcDAwHz0H5ABVrsKbMdvBgYJEINxAVhwvQEDOJGpMjCDLLJf\n",
       "wBQAMiiAgeMAkGb/wwmibFet2gtSxPJDC0TN////J1jztMkontPfgMLlNYAzAQCnSpkHWozuAAAA\n",
       "AElFTkSuQmCC\n",
       "\" style=\"display:inline;vertical-align:middle;\" /></a><br>"
      ],
      "text/plain": [
       "invRoot2: 1 / sqrt(2)"
      ]
     },
     "execution_count": 16,
     "metadata": {},
     "output_type": "execute_result"
    }
   ],
   "source": [
    "invRoot2 = frac(one, sqrt(two))"
   ]
  },
  {
   "cell_type": "code",
   "execution_count": 17,
   "metadata": {},
   "outputs": [
    {
     "data": {
      "text/html": [
       "<strong id=\"B1\">B1:</strong> <a class=\"ProveItLink\" href=\"__pv_it/bde573cd49521470a42e9b28e5198845bc2eebe10/expr.ipynb\"><img src=\"data:image/png;base64,iVBORw0KGgoAAAANSUhEUgAAABoAAAAOBAMAAADDIxFwAAAAMFBMVEX///92dnaqqqoiIiLu7u5m\n",
       "Zma6urqIiIjc3NwQEBDMzMwyMjJUVFRERESYmJgAAAAeMT9/AAAAAXRSTlMAQObYZgAAAAlwSFlz\n",
       "AAAOxAAADsQBlSsOGwAAAINJREFUCNdjYGB4+//Omb0LGBi4TBhAYC4DA88vBp/oLyAOx3cGBrav\n",
       "DAzsYB7fLyD+DuPxfGBg4J4B43FeYGA5vADGW3+9/PQDBhivvoGBaR6cdxOI5eEq/wDx+wIoj+sf\n",
       "kDifAOWx/wCK/Ibp457AwJC5Bcrj2f/nzOlLIEfc/HwcAEo2MRlhTTRiAAAAAElFTkSuQmCC\n",
       "\" style=\"display:inline;vertical-align:middle;\" /></a><br>\n",
       "<strong id=\"B2\">B2:</strong> <a class=\"ProveItLink\" href=\"__pv_it/4dcc51f5e800becab282014a7a3c2cdf23baef660/expr.ipynb\"><img src=\"data:image/png;base64,iVBORw0KGgoAAAANSUhEUgAAABsAAAAOBAMAAAAs4XpOAAAAMFBMVEX///92dnaqqqoiIiLu7u5m\n",
       "Zma6urqIiIjc3NwQEBDMzMwyMjJUVFRERESYmJgAAAAeMT9/AAAAAXRSTlMAQObYZgAAAAlwSFlz\n",
       "AAAOxAAADsQBlSsOGwAAAK9JREFUCNcdjTsKwlAQRY8fNMYg7kBciVmCTXpbOztLA7YWllr42YGN\n",
       "raSIXQIRGxEs3IBoo5EkGGfy4B7mzpuZCzzyW3jYYjgCfSuwEmaUPuqMGGpvjrBU20pEMRubyBVr\n",
       "vaC5wIdIlxsnqn5xpafYXcbBXQszVk5cymstKn3lVdTRYaeIzUTPkVwvPs2fIBpAF0OC6l9ppaI2\n",
       "dVsi5zDcw9RxJNrysjA4y7yX5yl/Z80zyvT1husAAAAASUVORK5CYII=\n",
       "\" style=\"display:inline;vertical-align:middle;\" /></a><br>\n",
       "<strong id=\"B3\">B3:</strong> <a class=\"ProveItLink\" href=\"__pv_it/edaf2fbeac85c5c9583063603bdab68f085d03270/expr.ipynb\"><img src=\"data:image/png;base64,iVBORw0KGgoAAAANSUhEUgAAABsAAAAOBAMAAAAs4XpOAAAAMFBMVEX///92dnaqqqoiIiLu7u5m\n",
       "Zma6urqIiIjc3NwQEBDMzMwyMjJUVFRERESYmJgAAAAeMT9/AAAAAXRSTlMAQObYZgAAAAlwSFlz\n",
       "AAAOxAAADsQBlSsOGwAAAKxJREFUCNdjYGB4+//Omb0LGDgEYxMYQGAuAwPPLwZXBr5PIB7HdwYG\n",
       "tq8M9Qosv0Fcvl9A/J0hM4EBzOX5wMDAPQPIYPoH4nJeYGA5vADISH4A4q6/Xn4axFh+BiTGUN/A\n",
       "wDQPxGACm3wTiOXBEvMdgMQfIH5fwLCKgeG+AgMDF8i88wks/x3AXPYfQCGgjXMgirknMDBkbmFg\n",
       "eAe2l2f/nzOnLwHVs4UCvQAA39Q16r4AawMAAAAASUVORK5CYII=\n",
       "\" style=\"display:inline;vertical-align:middle;\" /></a><br>"
      ],
      "text/plain": [
       "B1: B1\n",
       "B2: B2\n",
       "B3: B3"
      ]
     },
     "execution_count": 17,
     "metadata": {},
     "output_type": "execute_result"
    }
   ],
   "source": [
    "B1, B2, B3 = Variable('B1'), Variable('B2'), Variable('B3')"
   ]
  },
  {
   "cell_type": "code",
   "execution_count": 18,
   "metadata": {},
   "outputs": [
    {
     "data": {
      "text/html": [
       "<strong id=\"C1\">C1:</strong> <a class=\"ProveItLink\" href=\"__pv_it/31c40e3a639764cf86ca4872a7dd53a4896aeda40/expr.ipynb\"><img src=\"data:image/png;base64,iVBORw0KGgoAAAANSUhEUgAAABkAAAAOBAMAAAAoFKpzAAAAMFBMVEX////MzMy6uroyMjJmZmYi\n",
       "IiKqqqoQEBB2dnbc3NyYmJhUVFRERESIiIju7u4AAACU7+9TAAAAAXRSTlMAQObYZgAAAAlwSFlz\n",
       "AAAOxAAADsQBlSsOGwAAAHdJREFUCNdjYGDgu7N7F2cDA4PoAwYguH6Pga11Ad8WexDvTRyQ8J/A\n",
       "wHAfxDMHEeoMEB7HN5BqEShvfgCI9xDK67/AAAUgXrwAMq8ebMsDmByIwyYA5YFsYuCAqZwPMqUP\n",
       "xmP7xcCQ8QDGY3hyeosCiLOnPvoCAI9bMLRSQ+7qAAAAAElFTkSuQmCC\n",
       "\" style=\"display:inline;vertical-align:middle;\" /></a><br>\n",
       "<strong id=\"C2\">C2:</strong> <a class=\"ProveItLink\" href=\"__pv_it/622953ecc79ccd434884d4d6f4c3a7fb1b019bdc0/expr.ipynb\"><img src=\"data:image/png;base64,iVBORw0KGgoAAAANSUhEUgAAABoAAAAOBAMAAADDIxFwAAAAMFBMVEX////MzMy6uroyMjJmZmYi\n",
       "IiKqqqoQEBB2dnbc3NyYmJhUVFRERESIiIju7u4AAACU7+9TAAAAAXRSTlMAQObYZgAAAAlwSFlz\n",
       "AAAOxAAADsQBlSsOGwAAAKJJREFUCNdjYGDgu7N7F2cDwxTngwxAcP0eA1vrAs4NDP0KDAxv4oAi\n",
       "/hO4HzCwFzAwmD8A8tQZ2P8xcP9k4PgGUi3CwB3AwP2RYX4AiPcQRLB+YOi/wAAD8hcY4gXgvBAG\n",
       "hnqQIQwggsWBgSEexGEDKVgCtglIcIBEGhhmMswHmdIHxBIMDEBH/WJgyABq4wxx8QZa9uT0FqD7\n",
       "GJj///9vAABhHCmmHaaE7AAAAABJRU5ErkJggg==\n",
       "\" style=\"display:inline;vertical-align:middle;\" /></a><br>\n",
       "<strong id=\"C3\">C3:</strong> <a class=\"ProveItLink\" href=\"__pv_it/2f60b41619ffac1718c1849094cd1ca9775f7af40/expr.ipynb\"><img src=\"data:image/png;base64,iVBORw0KGgoAAAANSUhEUgAAABoAAAAOBAMAAADDIxFwAAAAMFBMVEX////MzMy6uroyMjJmZmYi\n",
       "IiKqqqoQEBB2dnbc3NyYmJhUVFRERESIiIju7u4AAACU7+9TAAAAAXRSTlMAQObYZgAAAAlwSFlz\n",
       "AAAOxAAADsQBlSsOGwAAAKNJREFUCNdjYGDgu7N7F2cDw4yWQwxAcP0eA1vrAj4HhvUJDAxv4oAi\n",
       "/hN4vzG8N2BgMH8A5KkzMBUx8BswcHwDqRYBEfkLGOYHgBgPgZgpioGh/wIDBDDe3sjAEC/AAAP5\n",
       "CQz1IEMYwAT7P4Z4EM0mwMAowMDzDWgTkMfBwPD+H4g3H2RKH1DZBpBKtl8MDBlAbVwLQPYxPDm9\n",
       "RQGkV8XlEAMA/dwrwIpWyp0AAAAASUVORK5CYII=\n",
       "\" style=\"display:inline;vertical-align:middle;\" /></a><br>"
      ],
      "text/plain": [
       "C1: C1\n",
       "C2: C2\n",
       "C3: C3"
      ]
     },
     "execution_count": 18,
     "metadata": {},
     "output_type": "execute_result"
    }
   ],
   "source": [
    "C1, C2, C3 = Variable('C1'), Variable('C2'), Variable('C3')"
   ]
  },
  {
   "cell_type": "code",
   "execution_count": 19,
   "metadata": {},
   "outputs": [
    {
     "data": {
      "text/html": [
       "<strong id=\"I\">I:</strong> <a class=\"ProveItLink\" href=\"__pv_it/4f8f0280e7c3df04ebf74ae2485775c1e6a3c6790/expr.ipynb\"><img src=\"data:image/png;base64,iVBORw0KGgoAAAANSUhEUgAAAAsAAAAOBAMAAAALT/umAAAAIVBMVEX///+6urqIiIjMzMwiIiLc\n",
       "3NxUVFQyMjJERER2dnYAAACYWiDdAAAAAXRSTlMAQObYZgAAAAlwSFlzAAAOxAAADsQBlSsOGwAA\n",
       "AENJREFUCNdjYGCYsaosgAEIloAIBuaVYIppIZjiWACmuArAlJQCmJplAKaqwCTDCjDJuAhMcS4G\n",
       "UyxgbWFVyyYwMAAAJc0LPUmARaoAAAAASUVORK5CYII=\n",
       "\" style=\"display:inline;vertical-align:middle;\" /></a><br>\n",
       "<strong id=\"IB\">IB:</strong> <a class=\"ProveItLink\" href=\"__pv_it/a98c4f67abad528a0d4a5626985e4649dfc3360a0/expr.ipynb\"><img src=\"data:image/png;base64,iVBORw0KGgoAAAANSUhEUgAAABsAAAAOBAMAAAAs4XpOAAAAMFBMVEX///+qqqru7u5mZmYQEBCY\n",
       "mJi6urqIiIjMzMwiIiLc3NxUVFQyMjJERER2dnYAAADZUTlVAAAAAXRSTlMAQObYZgAAAAlwSFlz\n",
       "AAAOxAAADsQBlSsOGwAAAKZJREFUCNdjYGB4+//0AgbW+39377nBAAI/QQTLBQaG/Q1ABsc/EHd9\n",
       "AQNDvgGQwf4NxI0HysQDhRh4P4C4+4H4yAIgwX8AxPVlYNCeAWLkg5Rw/C2vPgo2+D3IPPZfDAwi\n",
       "ASDueRDB68DAwPcDxPoLIvg3MDCwfgcy2EAEQz9QITfIRoiSeqAd/SArOMHWHgEq81FgYFh9/vcD\n",
       "BoY9/3fvPivAwAAA2jQwLlTZ6g0AAAAASUVORK5CYII=\n",
       "\" style=\"display:inline;vertical-align:middle;\" /></a><br>\n",
       "<strong id=\"IC\">IC:</strong> <a class=\"ProveItLink\" href=\"__pv_it/cc9dfb1a83a36dcc496601948b0d05ead3fc2add0/expr.ipynb\"><img src=\"data:image/png;base64,iVBORw0KGgoAAAANSUhEUgAAABsAAAAOBAMAAAAs4XpOAAAAMFBMVEX///9mZmaqqqoQEBCYmJju\n",
       "7u66urqIiIjMzMwiIiLc3NxUVFQyMjJERER2dnYAAABKSL3PAAAAAXRSTlMAQObYZgAAAAlwSFlz\n",
       "AAAOxAAADsQBlSsOGwAAAJhJREFUCNdjYGB4+//0AgYG1trdW7geMADBTxBRXMrA9NIByOD4ByRi\n",
       "pwIJeaAqBvZvQOJwAJBIBinj/cDAwPcJxGoEEfwHGBjWTwCxIkBEfgEDw/sCBhh438DAML8Bzj0P\n",
       "xPYgkxjAxF8gng9iMIGUsH2H2cgHEuP7ASTWg4x6CuJyfgCp+8LAoAfSuvr8b5DDA29vTABSAGYM\n",
       "KLhNlvyoAAAAAElFTkSuQmCC\n",
       "\" style=\"display:inline;vertical-align:middle;\" /></a><br>"
      ],
      "text/plain": [
       "I: I\n",
       "IB: IB\n",
       "IC: IC"
      ]
     },
     "execution_count": 19,
     "metadata": {},
     "output_type": "execute_result"
    }
   ],
   "source": [
    "I, IB, IC = Variable('I'), Variable('IB'), Variable('IC')"
   ]
  },
  {
   "cell_type": "code",
   "execution_count": 20,
   "metadata": {},
   "outputs": [],
   "source": [
    "# These depend on Block, from an old multiExpression.py file\n",
    "# Still looking into this to see what we have now\n",
    "# some Variable labels\n",
    "# Ablock = Block(A)\n",
    "# Bblock = Block(B)\n",
    "# B1block = Block(B1)\n",
    "# B2block = Block(B2)\n",
    "# B3block = Block(B3)\n",
    "# Cblock = Block(C)\n",
    "# C1block = Block(C1)\n",
    "# C2block = Block(C2)\n",
    "# C3block = Block(C3)\n",
    "# Dblock = Block(D)"
   ]
  },
  {
   "cell_type": "code",
   "execution_count": 21,
   "metadata": {},
   "outputs": [
    {
     "data": {
      "text/plain": [
       "'\\n# for implicit identity gates\\nIs = ImplicitIdentities(I) \\nIsB = ImplicitIdentities(IB) \\nIsC = ImplicitIdentities(IC) \\n'"
      ]
     },
     "execution_count": 21,
     "metadata": {},
     "output_type": "execute_result"
    }
   ],
   "source": [
    "'''\n",
    "# for implicit identity gates\n",
    "Is = ImplicitIdentities(I) \n",
    "IsB = ImplicitIdentities(IB) \n",
    "IsC = ImplicitIdentities(IC) \n",
    "'''"
   ]
  },
  {
   "cell_type": "code",
   "execution_count": 22,
   "metadata": {},
   "outputs": [
    {
     "name": "stdout",
     "output_type": "stream",
     "text": [
      "Common expressions may be imported from autogenerated _common_.py\n"
     ]
    }
   ],
   "source": [
    "%end common"
   ]
  }
 ],
 "metadata": {
  "kernelspec": {
   "display_name": "Python 3",
   "language": "python",
   "name": "python3"
  },
  "language_info": {
   "codemirror_mode": {
    "name": "ipython",
    "version": 3
   },
   "file_extension": ".py",
   "mimetype": "text/x-python",
   "name": "python",
   "nbconvert_exporter": "python",
   "pygments_lexer": "ipython3",
   "version": "3.7.3"
  }
 },
 "nbformat": 4,
 "nbformat_minor": 1
}
