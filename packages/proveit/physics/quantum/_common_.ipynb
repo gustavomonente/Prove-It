{
 "cells": [
  {
   "cell_type": "markdown",
   "metadata": {},
   "source": [
    "Common expressions for context <a class=\"ProveItLink\" href=\"_context_.ipynb\">proveit.physics.quantum</a>\n",
    "========"
   ]
  },
  {
   "cell_type": "code",
   "execution_count": 1,
   "metadata": {},
   "outputs": [],
   "source": [
    "import proveit\n",
    "# Automation is not needed when building common expressions:\n",
    "proveit.defaults.automation = False # This will speed things up.\n",
    "from proveit import Lambda # added 2/12/2020 by wdc\n",
    "from proveit._common_ import n, A, B, C, D\n",
    "from proveit import Variable, Literal\n",
    "# from proveit.multiExpression import Block\n",
    "from proveit.number import Exp, frac, sqrt\n",
    "from proveit.number import zero, one, two\n",
    "from proveit.number.numberSets import Complexes\n",
    "from proveit.linalg import SU, TensorExp\n",
    "# from proveit.physics.quantum.circuit import Gate\n",
    "from proveit.physics.quantum.quantumOps import Ket\n",
    "# the context is in the current directory:\n",
    "context = proveit.Context('.') # adds context root to sys.path if necessary"
   ]
  },
  {
   "cell_type": "code",
   "execution_count": 2,
   "metadata": {},
   "outputs": [
    {
     "name": "stdout",
     "output_type": "stream",
     "text": [
      "Defining common sub-expressions for context 'proveit.physics.quantum'\n",
      "Subsequent end-of-cell assignments will define common sub-expressions\n",
      "%end_common will finalize the definitions\n"
     ]
    }
   ],
   "source": [
    "%begin common"
   ]
  },
  {
   "cell_type": "code",
   "execution_count": 3,
   "metadata": {},
   "outputs": [
    {
     "data": {
      "text/html": [
       "<strong id=\"I\">I:</strong> <a class=\"ProveItLink\" href=\"__pv_it/c53e3418af62c6a087a212ca3110f821b1d3ca7c0/expr.ipynb\"><img src=\"data:image/png;base64,iVBORw0KGgoAAAANSUhEUgAAAAsAAAAOBAMAAAALT/umAAAAJ1BMVEX////u7u4iIiLMzMxERER2\n",
       "dna6urrc3NxmZmYyMjJUVFSIiIgAAAD6sHTBAAAAAXRSTlMAQObYZgAAAEJJREFUCNdjYGDYdWZG\n",
       "AQMQnAQRDGxHwRTrMTDFeQBM8TiAqZwNYCrGAEzNAZMMRyDaTkO0HQZTTGBtUnNOBTAwAACo8g02\n",
       "4uJcHQAAAABJRU5ErkJggg==\n",
       "\" style=\"display:inline;vertical-align:middle;\" /></a><br>"
      ],
      "text/plain": [
       "I: I"
      ]
     },
     "execution_count": 3,
     "metadata": {},
     "output_type": "execute_result"
    }
   ],
   "source": [
    " # Single qubit identity operator\n",
    "I = Literal('I')"
   ]
  },
  {
   "cell_type": "code",
   "execution_count": 4,
   "metadata": {},
   "outputs": [
    {
     "data": {
      "text/html": [
       "<strong id=\"X\">X:</strong> <a class=\"ProveItLink\" href=\"__pv_it/38248b2bc47f368dfc3977c8df851513134b54200/expr.ipynb\"><img src=\"data:image/png;base64,iVBORw0KGgoAAAANSUhEUgAAABIAAAAOBAMAAADQ9FGEAAAAMFBMVEX///+6urpmZmaIiIh2dnYQ\n",
       "EBDc3NzMzMxUVFSqqqoyMjLu7u4iIiJERESYmJgAAADufbLkAAAAAXRSTlMAQObYZgAAAGJJREFU\n",
       "CNdjYGB4+/8cw67/NxmAoH8CA183iMFQv4ChAsxg4PrO1gBhcf7IYICC+Nswlr8BjNUfAGUwZfyE\n",
       "stTZ/0IYLAIM5xPALEMGhvcKIAYHkOT/DWRU/Q9nYF//p4EBACq0GGkYmwpjAAAAAElFTkSuQmCC\n",
       "\" style=\"display:inline;vertical-align:middle;\" /></a><br>\n",
       "<strong id=\"Y\">Y:</strong> <a class=\"ProveItLink\" href=\"__pv_it/03aece9ee1e29fa4fee2fdf6d919d807abddaa9d0/expr.ipynb\"><img src=\"data:image/png;base64,iVBORw0KGgoAAAANSUhEUgAAABAAAAAOBAMAAADUAYG5AAAAMFBMVEX///9mZmZERESYmJi6urp2\n",
       "dnYiIiIyMjLMzMyIiIiqqqrc3NwQEBBUVFTu7u4AAAAPaGnEAAAAAXRSTlMAQObYZgAAAFlJREFU\n",
       "CNdjeHv+7wYGrvMnGRj6CxgYGKqAmO03AwOrA5DB+ZWBwQpIM/D9YWCZAGIw6Du0gmmG9fcEIAye\n",
       "vxCagekflMFTAGXsD4Ay7B2gDH0off2/JogCAAqGE3PgySqdAAAAAElFTkSuQmCC\n",
       "\" style=\"display:inline;vertical-align:middle;\" /></a><br>\n",
       "<strong id=\"Z\">Z:</strong> <a class=\"ProveItLink\" href=\"__pv_it/783edb764d1993fad1ae80b7c8d70eadf17eb2710/expr.ipynb\"><img src=\"data:image/png;base64,iVBORw0KGgoAAAANSUhEUgAAAA4AAAAOBAMAAADtZjDiAAAAMFBMVEX///+IiIiYmJh2dnbMzMzc\n",
       "3NwiIiLu7u6qqqq6uroyMjJmZmZUVFREREQQEBAAAAB0/5/PAAAAAXRSTlMAQObYZgAAAGlJREFU\n",
       "CNdjYGB4//b03l8MDJw/GBjKnjMwcDcwMKwLYGDgYWDg/cLAwMDCwLB/AgMIMH8CUwz6AmCK4zeE\n",
       "O/8AAytIHdAMbiAdl8DAMImBgT2vgIEhnYGB6ykDg9cFBobzOWfX/VdgAABUNRfEfWVm3gAAAABJ\n",
       "RU5ErkJggg==\n",
       "\" style=\"display:inline;vertical-align:middle;\" /></a><br>"
      ],
      "text/plain": [
       "X: X\n",
       "Y: Y\n",
       "Z: Z"
      ]
     },
     "execution_count": 4,
     "metadata": {},
     "output_type": "execute_result"
    }
   ],
   "source": [
    "# Pauli's X, Y, Z\n",
    "X, Y, Z = Literal('X'), Literal('Y'), Literal('Z')"
   ]
  },
  {
   "cell_type": "code",
   "execution_count": 5,
   "metadata": {},
   "outputs": [
    {
     "data": {
      "text/html": [
       "<strong id=\"H\">H:</strong> <a class=\"ProveItLink\" href=\"__pv_it/0755e195d53d597439e6071125e6bffe22b34af90/expr.ipynb\"><img src=\"data:image/png;base64,iVBORw0KGgoAAAANSUhEUgAAABMAAAAOBAMAAAA/Njq6AAAAKlBMVEX///+qqqp2dnbMzMyIiIi6\n",
       "uroiIiLu7u4yMjJmZmZERERUVFSYmJgAAADrizvbAAAAAXRSTlMAQObYZgAAAGlJREFUCNdjYGA4\n",
       "fXclEHcWMADBDSC+BmIwsF5hYGC+CWYyXWZgYLkIZnJcYGDgug5m8i4A4gQwM7Zz5sy1CmCmrgED\n",
       "g28AmNkLxGvBpjLcghoNNfYSwtirYCYb3NjK3tsOnGtvOTAwAAAHtx0ScfZJBgAAAABJRU5ErkJg\n",
       "gg==\n",
       "\" style=\"display:inline;vertical-align:middle;\" /></a><br>"
      ],
      "text/plain": [
       "H: H"
      ]
     },
     "execution_count": 5,
     "metadata": {},
     "output_type": "execute_result"
    }
   ],
   "source": [
    "# Hadamard\n",
    "H = Literal('H')"
   ]
  },
  {
   "cell_type": "code",
   "execution_count": 6,
   "metadata": {},
   "outputs": [
    {
     "data": {
      "text/html": [
       "<strong id=\"PASS\">PASS:</strong> <a class=\"ProveItLink\" href=\"__pv_it/7c1d2be682b1d815d617ac9ea9e04eda4ed372ec0/expr.ipynb\"><img src=\"data:image/png;base64,iVBORw0KGgoAAAANSUhEUgAAADwAAAAOBAMAAACBYGLnAAAAMFBMVEX///8iIiLc3Ny6urqIiIiq\n",
       "qqp2dnbMzMwQEBDu7u5mZmYyMjJERERUVFSYmJgAAAA4CJ/KAAAAAXRSTlMAQObYZgAAAQdJREFU\n",
       "GNNNkLFOwlAUhj+tTW1F3Ryc8AnkEXyDOrvYCScTdwdYmSQxbgwMTiy66lJfwODkQEJs4kwCIhgg\n",
       "WM/p7W29yb3fyfl7v/RcYJS+Dp/b6LrOzrN69FmCFVRaWRDrUUnojAvgzcH91mAvVklPiscCbE1l\n",
       "zzW+e6iC/wPOiYVYRLE71TgJa9L7FeGVBeyL4rgrhdM+T+R2eqGf5oBGhHugxS0NtYXpulqC8L1+\n",
       "n81VMxJ/dNMqQd/MjDfofbxkVTD7h4lJcWBbfiOSi7MCeMs8PoWNJv6btBYWZmxdmxLvjHGbYo0s\n",
       "pLUw8ZE+wRfBIVxiQRCvdRo66RNuf9INnMFQPDn+APBsWuV/6h/AAAAAAElFTkSuQmCC\n",
       "\" style=\"display:inline;vertical-align:middle;\" /></a><br>"
      ],
      "text/plain": [
       "PASS: PASS"
      ]
     },
     "execution_count": 6,
     "metadata": {},
     "output_type": "execute_result"
    }
   ],
   "source": [
    "# PASS: either a blank spot or continuation of a wire in a quantum circuit.\n",
    "# Can be used when initializing the circuit with a list of lists -- these PASS elements\n",
    "# are subsequently removed and turned into empty spots of the quantum circuit tensor.\n",
    "PASS = Literal('PASS')"
   ]
  },
  {
   "cell_type": "code",
   "execution_count": 7,
   "metadata": {},
   "outputs": [
    {
     "data": {
      "text/html": [
       "<strong id=\"PLUS\">PLUS:</strong> <a class=\"ProveItLink\" href=\"__pv_it/9eae512379f2c3552c6a56d098811c7039efaaa90/expr.ipynb\"><img src=\"data:image/png;base64,iVBORw0KGgoAAAANSUhEUgAAAA4AAAAPBAMAAAAmOuNHAAAAHlBMVEX////u7u5UVFQQEBAiIiIy\n",
       "MjJ2dnaIiIiqqqoAAABCN83zAAAAAXRSTlMAQObYZgAAABxJREFUCNdjYECAdlLo1NBQ59DQIJL1\n",
       "AYEgEAMABwsItInrGUMAAAAASUVORK5CYII=\n",
       "\" style=\"display:inline;vertical-align:middle;\" /></a><br>"
      ],
      "text/plain": [
       "PLUS: +"
      ]
     },
     "execution_count": 7,
     "metadata": {},
     "output_type": "execute_result"
    }
   ],
   "source": [
    "# For positive X eigenstate\n",
    "PLUS = Literal(stringFormat='+', latexFormat='+')"
   ]
  },
  {
   "cell_type": "code",
   "execution_count": 8,
   "metadata": {},
   "outputs": [
    {
     "data": {
      "text/html": [
       "<strong id=\"MINUS\">MINUS:</strong> <a class=\"ProveItLink\" href=\"__pv_it/18cf2b394631177fc952e04bc28dd3218c0320cc0/expr.ipynb\"><img src=\"data:image/png;base64,iVBORw0KGgoAAAANSUhEUgAAAA4AAAACBAMAAACapPCZAAAAD1BMVEX////MzMwyMjLu7u4AAAC4\n",
       "fJKRAAAAAXRSTlMAQObYZgAAABBJREFUCNdjMFICAUUGKAAADB8A/huHQ9UAAAAASUVORK5CYII=\n",
       "\" style=\"display:inline;vertical-align:middle;\" /></a><br>"
      ],
      "text/plain": [
       "MINUS: -"
      ]
     },
     "execution_count": 8,
     "metadata": {},
     "output_type": "execute_result"
    }
   ],
   "source": [
    "# For negative X eigenstate\n",
    "MINUS = Literal(stringFormat='-', latexFormat='-') "
   ]
  },
  {
   "cell_type": "code",
   "execution_count": 9,
   "metadata": {},
   "outputs": [
    {
     "data": {
      "text/html": [
       "<strong id=\"ket0\">ket0:</strong> <a class=\"ProveItLink\" href=\"__pv_it/35bcbdd3f7a7f3b11d696bd376a9005b1248aa9d0/expr.ipynb\"><img src=\"data:image/png;base64,iVBORw0KGgoAAAANSUhEUgAAABQAAAAWBAMAAAAyb6E1AAAAMFBMVEX///9mZmZUVFREREQQEBDc\n",
       "3NwiIiKqqqoyMjKYmJiIiIi6urp2dnbu7u7MzMwAAAADxdujAAAAAXRSTlMAQObYZgAAAJ9JREFU\n",
       "CNdjeMsABuxAfBrCZNwAZvKsPMfApwBmtjNcC2BIADE5HRh4GhhWgpjMCgzsfxlugJj8Cgzc3xmY\n",
       "A4DM+wIM3L8Y2A8AmfEHGPh+MQD1AZkCDHx/GBik4QoYHkG0sX9nYKgBGWbAwPmXgcEUbgWrAcji\n",
       "dIYrDxh4CkDMO6v0GBjY4I5k2Ihg6sGZvA1wJucCBoZ1ECbzBQYkAACRLC8qbPIDBwAAAABJRU5E\n",
       "rkJggg==\n",
       "\" style=\"display:inline;vertical-align:middle;\" /></a><br>\n",
       "<strong id=\"ket1\">ket1:</strong> <a class=\"ProveItLink\" href=\"__pv_it/ec69f871195686be823e4989460d2913f85624160/expr.ipynb\"><img src=\"data:image/png;base64,iVBORw0KGgoAAAANSUhEUgAAABQAAAAWBAMAAAAyb6E1AAAAMFBMVEX////c3NxEREQiIiIyMjJm\n",
       "ZmaYmJhUVFQQEBCqqqqIiIi6urp2dnbu7u7MzMwAAABqK0sxAAAAAXRSTlMAQObYZgAAAG1JREFU\n",
       "CNdjeMsABpxAfBrCZN0AZ/IVQJgzLjAwGICYvDX1QOYyiGg+kHkFwWQSgDM5D8CZQH1wZjSC+RzB\n",
       "nINgKsKZjApg5nogk2cCiBne75rAwAx3GcNWBLMOzuR1gDPZFjAwrIMwmS4wIAEAg6Ar1v/VlKUA\n",
       "AAAASUVORK5CYII=\n",
       "\" style=\"display:inline;vertical-align:middle;\" /></a><br>\n",
       "<strong id=\"ketPlus\">ketPlus:</strong> <a class=\"ProveItLink\" href=\"__pv_it/e5be8992c8a751ed405faee3306a8c19bfafeb370/expr.ipynb\"><img src=\"data:image/png;base64,iVBORw0KGgoAAAANSUhEUgAAABoAAAAWBAMAAAAsppGGAAAAMFBMVEX////c3NxERESYmJhmZmZU\n",
       "VFQQEBAiIiIyMjKqqqqIiIi6urp2dnbu7u7MzMwAAAASOpYoAAAAAXRSTlMAQObYZgAAAGxJREFU\n",
       "GNNjeMsAA5xAfBrOY9mAzOMLQOYxFEB5nAtA5GIU3g0UHpMAMo/zADIPaAwyzxvI4+noaM/o6ADa\n",
       "9hRFbg4KTxGZx6iAzOOZgMxjR3HLFiiP9wKIjEP2EW8DMo8ZqHwdnMd0gQEVAABCVCb3JjLgFgAA\n",
       "AABJRU5ErkJggg==\n",
       "\" style=\"display:inline;vertical-align:middle;\" /></a><br>\n",
       "<strong id=\"ketMinus\">ketMinus:</strong> <a class=\"ProveItLink\" href=\"__pv_it/9573409ee6d2e03421402f43933c594555a3697c0/expr.ipynb\"><img src=\"data:image/png;base64,iVBORw0KGgoAAAANSUhEUgAAABoAAAAWBAMAAAAsppGGAAAALVBMVEX////c3NxERESYmJgiIiJU\n",
       "VFRmZmaqqqoyMjKIiIi6urp2dnbu7u7MzMwAAABM9KO7AAAAAXRSTlMAQObYZgAAAGJJREFUGNNj\n",
       "uMMAA+xAvAvOY1uAzOMNQOYxOKDwJqPwTqDwmASQeewbkHlAY5B5WUAeTwcYXGBguIoiV43CU0Tm\n",
       "MSog87gLkHksKG5ZhsKLRebxNCDzmCcwMMxFeOEAAyoAAN5qHGEuvhuNAAAAAElFTkSuQmCC\n",
       "\" style=\"display:inline;vertical-align:middle;\" /></a><br>"
      ],
      "text/plain": [
       "ket0: |0〉\n",
       "ket1: |1〉\n",
       "ketPlus: |+〉\n",
       "ketMinus: |-〉"
      ]
     },
     "execution_count": 9,
     "metadata": {},
     "output_type": "execute_result"
    }
   ],
   "source": [
    "ket0, ket1, ketPlus, ketMinus = Ket(zero), Ket(one), Ket(PLUS), Ket(MINUS)"
   ]
  },
  {
   "cell_type": "code",
   "execution_count": 10,
   "metadata": {},
   "outputs": [],
   "source": [
    "# These will require updates to quantum/circuit.py,\n",
    "# which will require some prolonged attention\n",
    "# Xgate = Gate(X)\n",
    "# Ygate = Gate(Y)\n",
    "# Zgate = Gate(Z)\n",
    "# Hgate = Gate(H)"
   ]
  },
  {
   "cell_type": "code",
   "execution_count": 11,
   "metadata": {},
   "outputs": [
    {
     "data": {
      "text/html": [
       "<strong id=\"CTRL_UP\">CTRL_UP:</strong> <a class=\"ProveItLink\" href=\"__pv_it/2e5dba5a6dc3589b0010428e1632e92ef5fee44b0/expr.ipynb\"><img src=\"data:image/png;base64,iVBORw0KGgoAAAANSUhEUgAAAGQAAAAOBAMAAAAro6RbAAAAMFBMVEX////MzMy6uroyMjIiIiKq\n",
       "qqoQEBB2dnbc3NyYmJhmZmZUVFRERESIiIju7u4AAACOKgoaAAAAAXRSTlMAQObYZgAAAcNJREFU\n",
       "KM89UTtMG0EQfUc4bGOfcZ0mrtKGioIIHRV0QJ3GFO6CgjuQIuXcQId8ggaJAiokhAxGIEVgobhJ\n",
       "pMhEXJUm4VNGCYX5Guzg483uHiPt7Ox7u292ZgCkfx/sxwulqWpY320CK2H16DtkfzsBsfje3Vek\n",
       "wiGB6tXBc0I/fdjr/gyQBzZ4/g/MV7hfw1jsiu4EGkp9AC7GGG8XK4i3gEXAegSSl0BXM3ryokG3\n",
       "xWURskkPSKbXlo/ELXAKOPdA973RVtZXo5O8DiGnid5bQV9alO4AWWaeBHI1o63sTcCCCwxShJJX\n",
       "KA0L+oerZ1hrVmC/l70/euJlgETWQKU1eEHE8CD2av9XKyPahYgY4epVVAH2KDCeiZhV3dOzcyxJ\n",
       "eV7W4Ok2XVJRn2fKpKaFhrgvKsI3fkASuHJbAPuBbkGiY31jXKGSKq9FqVmq6PFgWY2FHcesRDf6\n",
       "xnZRUBlyS50tauZYVRf7D1VdrGF6bLVM0VL+J66E6jYcanpBWmk7vvoCm58smrFEP30nf0x1nked\n",
       "C+bQzd3Tfx9EfEdRHdOQv/UD6c1H9/pQmum2fcR+BP/c9qbLssIwbMTqZWhKDeQJeeSUGE0JqRMA\n",
       "AAAASUVORK5CYII=\n",
       "\" style=\"display:inline;vertical-align:middle;\" /></a><br>\n",
       "<strong id=\"CTRL_DN\">CTRL_DN:</strong> <a class=\"ProveItLink\" href=\"__pv_it/39b56f48f9ce087035fc07b03cdae4baf59c97710/expr.ipynb\"><img src=\"data:image/png;base64,iVBORw0KGgoAAAANSUhEUgAAAGkAAAAOBAMAAADeXS/rAAAAMFBMVEX////MzMy6uroyMjIiIiKq\n",
       "qqoQEBB2dnbc3NyYmJhmZmZUVFRERESIiIju7u4AAACOKgoaAAAAAXRSTlMAQObYZgAAAdRJREFU\n",
       "KM89UjtMG0EQfb74YkP8oabBBdASKVKaFEebBqeOkJyCDiTcUSBhmqSg8QmaSBS4IokoOCkVnwgq\n",
       "JOREdkUDwhYFQkDBR4SAgct7u2JP2pnZmXmzM/MOQO5gfS1drk5sxPWft8BivPF7F9LvPsB+i3F9\n",
       "sz5L4yAuwC+Ot2nuhfCXwylgDPjB+wPwJaK+hvtodt3IaGwDLwQ6H6FYnY2QvgfmgcQj8OoS8G4d\n",
       "SC4s83ij/4CUXG8FHUyEptohkGUgqeCVQ2VZBEMhfUesPMBLt3m5N8EHnoACkPkElNTIhUNlZFbL\n",
       "TEYRmNFlWP4TnpfGQj6CPy792qHy23orEmopRI2XSvM5Vq0Z1be2f9+jrLJD9SmnVVZz+WHIX+x5\n",
       "ji3ZRbfaWNColYJDtZSzVVBzqStP/kllQGLLWNhhRyoX8OQsqiHxl6eG9INZYVHCV7Exm9Jhr5Gl\n",
       "DV+tS2bXHQWrNeZgmIKlQHSJG0ZLnNB7NLUdXcfciMcZhr6ZHWhSLdOSb7ipNHNIUWdD58q9UXHO\n",
       "kDQ0+qz9URNlnkyKaCo1PyNJXWk7V7+eTaq4pfG0vq6tTAfXv0R60AmR+tM8CzorAUeM47hDc/O7\n",
       "/r3J95Sa+T8X9ZyCW03OxwAAAABJRU5ErkJggg==\n",
       "\" style=\"display:inline;vertical-align:middle;\" /></a><br>\n",
       "<strong id=\"CTRL_UPDN\">CTRL_UPDN:</strong> <a class=\"ProveItLink\" href=\"__pv_it/6153f8f7e3ef4ab44de58ffec7715eeaa8bd6ba50/expr.ipynb\"><img src=\"data:image/png;base64,iVBORw0KGgoAAAANSUhEUgAAAIkAAAAOBAMAAADpvyKaAAAAMFBMVEX////MzMy6uroyMjIiIiKq\n",
       "qqoQEBB2dnbc3NyYmJhmZmZUVFRERESIiIju7u4AAACOKgoaAAAAAXRSTlMAQObYZgAAAkdJREFU\n",
       "KM9NUz1s01AQ/uLEOCV/nVmaAViLhMQAg7tVLHVnhBSGbq2otw4g0gUGOsQqCxJDMxVQhbDEAE2K\n",
       "2gkJBRRPLFQkYgAESEACFJq25r57tsST/O75vs939+47AyjvtjbzfmOhHXee7AH34varl6C9MAuu\n",
       "FW9hFt1hRFenfb6vdquzLNBuXIXtzYsLbwLY68ESMAc8lPcD4FYodohk1atAKYJxFa8aO/aLju4O\n",
       "kGWQrzOyPV4Okd8HVoHMIVD4AVh7aRRXnuOkZsRlHxoK1uWxLv8BHHLOET+dCTT6O8kqQI7gII0i\n",
       "xaHAQ0lcJYlUkiSYDITzXjKfYhKt7ERGiEeA1F68AtRY6PckiMXMH3kqiqswMBYNXz6GB9zgyxTx\n",
       "T/Ic0xMqIex52jNJFIeZV5G4Gk2xO6wlZJS1AE22LkoLJy5rYvPt/jhZfuLPSXFKxYQPe5qW3/R8\n",
       "XqYyBfK88TTKmhG218edfqKMrm8ULFTo6dIjQj1+s13lZZyBRd4i3eC2rSe8kIr9RJkyHTVpY14r\n",
       "7hoGutx+a4X5A5XI42Yz+JyhjORuYaLMXR0XAR3OGH7+J9rYX9kkW/c2dFJgJOe4cCYErTUTZbQb\n",
       "9VTojGGYcfkgHbakB5P3taeslWKZYdRZqEdlVaYU6I3kHs/ScUkp5bNMLkhOnbbkvsT7Fo+UwjGp\n",
       "RTeRE1vXPmSbWFEJsoahlJMsM8fkZqw+d1rs8jV3+JxD6I4COK+jL+5owx2hEscxrre0twKpLQi0\n",
       "9YD/zuLFRL1/WnjMDD/UsrMAAAAASUVORK5CYII=\n",
       "\" style=\"display:inline;vertical-align:middle;\" /></a><br>"
      ],
      "text/plain": [
       "CTRL_UP: CTRL\\_UP\n",
       "CTRL_DN: CTRL\\_DN\n",
       "CTRL_UPDN: CTRL\\_UPDN"
      ]
     },
     "execution_count": 11,
     "metadata": {},
     "output_type": "execute_result"
    }
   ],
   "source": [
    "CTRL_UP, CTRL_DN, CTRL_UPDN = (\n",
    "    Literal('CTRL\\_UP'),\n",
    "    Literal('CTRL\\_DN'),\n",
    "    Literal('CTRL\\_UPDN'))"
   ]
  },
  {
   "cell_type": "code",
   "execution_count": 12,
   "metadata": {},
   "outputs": [
    {
     "data": {
      "text/html": [
       "<strong id=\"WIRE_UP\">WIRE_UP:</strong> <a class=\"ProveItLink\" href=\"__pv_it/16c8a75cf5ad4da409ddd85bdd01f112887895330/expr.ipynb\"><img src=\"data:image/png;base64,iVBORw0KGgoAAAANSUhEUgAAAGgAAAAOBAMAAAAxn0TVAAAAMFBMVEX///8yMjJmZmbc3NzMzMx2\n",
       "dnaYmJiqqqru7u4QEBBUVFS6urpEREQiIiKIiIgAAAD7KGr9AAAAAXRSTlMAQObYZgAAAc9JREFU\n",
       "KM9FUb9LW2EUPfXl8z2S+JT8AY20S3GwbtJFnV0aKJ06RClUkEKXrJKHYwdxcBBBSEFLFUOzODko\n",
       "HSraYqcOmfKmDmKbHzai0fg8937P+OD7dc89595zH/5GP7DV/YKF7gz8r82nwHy0/fM7gLPo20i5\n",
       "yQuc8tUh0tFjwY63MwFSbcBcA4kS0cEhybkBXshLCO8loAn4BxtLr8Jp2ZiR0H6OW+IWSP4HUjyx\n",
       "qKRHDW7PBGMJ9xZeh7ELYE/AfIWbfw4McBkSsaSkwQNuUtynvN/Wgn+oKTWQlS29DBQPVN7AUdJ+\n",
       "CHiSkWbJJInrcApt+GOxG8qW4K5Z+XewX34K6K/EpieHgSoMfWkb6gIvP5+2pkQ+s3Uek6pcfYrl\n",
       "4P7Wlgreje1OXaAeYDaw8kOWI76RVGzz9ahgv4IQzVSlNyQcsYucNZiDlITLQWECmmxlnvO1bh6G\n",
       "BMpOlqzBwAt7HbySW/fe5Bx7ftsbEhKULQ7HBo0qm0Y88UQrJtUpnw17Q4JP2XzoWflpjbuXtDQW\n",
       "/yb9PvBVttfavbFiOI4BnqkVC2TgbCh2GZN2ud7ojD5Fm5xstjMDcxJ+zHae7NQ4viiKGuZ4VDKI\n",
       "aUt37SaY9lsNZaMAAAAASUVORK5CYII=\n",
       "\" style=\"display:inline;vertical-align:middle;\" /></a><br>\n",
       "<strong id=\"WIRE_DN\">WIRE_DN:</strong> <a class=\"ProveItLink\" href=\"__pv_it/c44c110685b71a5b77ab4d666131ab2af5168b0b0/expr.ipynb\"><img src=\"data:image/png;base64,iVBORw0KGgoAAAANSUhEUgAAAG0AAAAOBAMAAADXto+RAAAAMFBMVEX///8yMjJmZmbc3NzMzMx2\n",
       "dnaYmJiqqqru7u4QEBBUVFS6urpEREQiIiKIiIgAAAD7KGr9AAAAAXRSTlMAQObYZgAAAexJREFU\n",
       "KM9FUr9rU2EUPTV57cPXpK3/wAuKg10sLuJiM7s0o+CQiKBQhDp0VPJw8wfi4FQQ46DYktIs4iCS\n",
       "4iBYxTgJTnmTgyhpWqv4kvo857svJPDd775z77nfPfcGP9MPWD98gVuHNRS3+ieA5XTj4zsAP9K3\n",
       "85t9uN9yutPcWXBgC1PdtQjBAeANgHyD6MyskobAOX2Jc9148if/yOlsAxMRkNszniewXaHJ/wOO\n",
       "/gIC3rhtNGE4xRPc3LdcPyH/N/Ba4WqLpshIQVFy8cB4RfntGsF7fOdV1sE3VtNLCGWmHwJ1dbPL\n",
       "wjnjTe/SLDLnCLrARUGPkVs9QHEhU0aRDUyt6d7G1UydfL7XEG+lhpKgr/Co0fXjFGHp+fe9stKO\n",
       "re+PeEsxTa+iFmc+j3pb9YfmOkXoRbgcSWwZsyNeT4W2WmrRGwQtN9goRt/cCanAe7ZVMbEVlI3X\n",
       "kfnLU0Ju6EaP0+ep0RurAAe82DCxkR8bT8InOXX11TnjoOo1arzi3Lay8gzXS5lYLxqv7w6rBjeY\n",
       "ddJa52doZavlbFXV2DexF8br8+eyOoWBw1a4gU0Ld0ci6/FZFHgHjywg7I2mX1C/bgp4yXNJjv80\n",
       "fcYFhUkN3qf4bpgcb3Y50DRNkzCZb/Ifj/tPvtBK/H9Ea6QuGlbxWQAAAABJRU5ErkJggg==\n",
       "\" style=\"display:inline;vertical-align:middle;\" /></a><br>\n",
       "<strong id=\"WIRE_LINK\">WIRE_LINK:</strong> <a class=\"ProveItLink\" href=\"__pv_it/ea550b757f4389ad11973a88131d670ab61042390/expr.ipynb\"><img src=\"data:image/png;base64,iVBORw0KGgoAAAANSUhEUgAAAIcAAAAOBAMAAAD3dhIpAAAAMFBMVEX///8yMjJmZmbc3NzMzMx2\n",
       "dnaYmJiqqqru7u4QEBBUVFS6urpEREQiIiKIiIgAAAD7KGr9AAAAAXRSTlMAQObYZgAAAihJREFU\n",
       "KM9Nkz9oE3EUx782fzya5iydpMsdunUxm7jYLC4uHrgUHC5SUChCM3S05HB0EAcnQYiD0oqlWaSD\n",
       "Q4KCUBTj6pSbHIo1JrFVz6bn9/3e75oe/O793p97v/c+73fYTz9ic7yB9XEN7vbgIrCSvvr0AcD3\n",
       "9N3C1gDmWUnn6xR76VwFbvcfsP53Q9R5YHtQRekAKNCabzLo3Kx8cQRcEU0S3NMkGJwSMwzA+Uy9\n",
       "XwFyQ01SEGM74Ct/DEz/AkqUeKAfy1EnYqfL7wKrFqVCJwHOHAJvxR22+HJHQJmrwER4pEnkmBOx\n",
       "1PZRqqvq3Mwq/HasmeGZah8DjQ5T/2R5OU3C/UT4ZXoiVa+p/xlyawdwK5YGwTRx9qnIDu5YIhaW\n",
       "mCRJ8RBTai366v+KArmYsg0F3Hi5N6wKoLnNUZbEwKKIJaqOcYaw/0X9HtacI+3GUEA/wm0pNqxi\n",
       "NktiYBkTpJOwpQh/TP1WfzeKMSi1Ji3vss5AAQWoZidxBJYZO1nsKMJazo7+0lVyKZxqmeNabCqg\n",
       "yIk1SGAtW2aMnRn51trVU8K75LI8aTnPeTd8C8gMwe59y2yH+jCw1nbTBPR5vBdPWnYJJowdBXTd\n",
       "XhPu3ZpltsTVa1lr+Y8JWOVwtzS2l4FpxJfBy4DSE3XIPoyMAGQgq5nV1av8huuWbJzn6Qti8xIe\n",
       "+Tl+6CUXXvc4njRNEy9Z8BLQFMDZ5Z+KafkjvCTGfvoe+A/RmMR71f9b7AAAAABJRU5ErkJggg==\n",
       "\" style=\"display:inline;vertical-align:middle;\" /></a><br>"
      ],
      "text/plain": [
       "WIRE_UP: WIRE\\_UP\n",
       "WIRE_DN: WIRE\\_DN\n",
       "WIRE_LINK: WIRE\\_LINK"
      ]
     },
     "execution_count": 12,
     "metadata": {},
     "output_type": "execute_result"
    }
   ],
   "source": [
    "# WIRE_UP: wire goes up to link with another wire\n",
    "# WIRE_DN: wire goes down to link with another wire\n",
    "# WIRE_LINK: link destination for WIRE_UP or WIRE_DN\n",
    "WIRE_UP, WIRE_DN, WIRE_LINK = (Literal('WIRE\\_UP'),\n",
    "                               Literal('WIRE\\_DN'),\n",
    "                               Literal('WIRE\\_LINK'))"
   ]
  },
  {
   "cell_type": "code",
   "execution_count": 13,
   "metadata": {},
   "outputs": [
    {
     "data": {
      "text/html": [
       "<strong id=\"QubitSpace\">QubitSpace:</strong> <a class=\"ProveItLink\" href=\"__pv_it/e79e1533ca9493182a2c7c561c1c6239ee619b750/expr.ipynb\"><img src=\"data:image/png;base64,iVBORw0KGgoAAAANSUhEUgAAABcAAAAUBAMAAACUkLs9AAAAMFBMVEX///+6urp2dnbc3NxUVFSY\n",
       "mJju7u6qqqrMzMxmZmZEREQQEBAiIiIyMjKIiIgAAAAjslSOAAAAAXRSTlMAQObYZgAAAJVJREFU\n",
       "GNNjYIACplnTGOBAmcEXwTnM0G8A5xxksBdASDHUJyBxzoEIvjv396wEGjcByOboL2CbH8nAEAmS\n",
       "CPBjYGD9ycCowNjAwNqwDSjiydBbXpXAwMm8AMjJY9j//z8DQwrHBISBRowPEBxLZE4WhwKCw5vg\n",
       "gOCwTgBx2KC8dXJAQhbK4bylxla1DKaw8/afGRAWAC7tIMrpUS56AAAAAElFTkSuQmCC\n",
       "\" style=\"display:inline;vertical-align:middle;\" /></a><br>"
      ],
      "text/plain": [
       "QubitSpace: Complexes^{2}"
      ]
     },
     "execution_count": 13,
     "metadata": {},
     "output_type": "execute_result"
    }
   ],
   "source": [
    "QubitSpace = Exp(Complexes, two)"
   ]
  },
  {
   "cell_type": "code",
   "execution_count": 14,
   "metadata": {},
   "outputs": [
    {
     "data": {
      "text/html": [
       "<a class=\"ProveItLink\" href=\"__pv_it/b4146a83d15e75f23a9e26d364e73bdcc89023230/expr.ipynb\"><img src=\"data:image/png;base64,iVBORw0KGgoAAAANSUhEUgAAAE8AAAAVBAMAAAD1D64kAAAAMFBMVEX///8QEBDc3NxUVFTu7u5E\n",
       "RESYmJhmZmaqqqoiIiK6urp2dnbMzMwyMjKIiIgAAAB4i346AAAAAXRSTlMAQObYZgAAAatJREFU\n",
       "KM99k79LQlEUx7/v+czne5oOjUES0RhCQwQRNkS0BS0NDVKDEARCv4YgoqWlwWoIbNG/QKktQ92D\n",
       "cGuJkBaRsF4pISG8zv3x8inVWd653/s559xz7rvA/zawe18TXuOxb2szzT/jEszGlQiOyLthy+NC\n",
       "fkOdfl+B134SirYELOysYqyOUAyeiAC9ccxbML/IfZWhwQi0KEoZzCJLYRUh71GJCoIWudsSTAC+\n",
       "GJQwhrEfAIpc1jqAUUWIqiEqwTNAScHzoVpInwBzXDY+gUAZuSrF5AWopqh6C56OEcVLnPwMz2jf\n",
       "siSlMp0gI8DBJO/Z35KjMJNcfrOb1NYpeT78tMcsl3fGWeGytj4yBK1JnkeC/kO+f+4MV0+Jo8PX\n",
       "hk4nxYQElQxXkw4YsJhM+bU2TOodVz1gDT0gDRaBFkxLTKdbWk9iVIIGK62HqUgeOnXIrqrbzB3w\n",
       "7G7GdwFc0+IB6gwkSOOAelnYSkmQEhFoTE2ySubyARzQYAO3bdsBg2XZtducK3TbIv4CE71a8U/Q\n",
       "G3FLzm/2C8h+3K6xsHr/U2j0PAVha8A3PT57whDObbgAAAAASUVORK5CYII=\n",
       "\" style=\"display:inline;vertical-align:middle;\" /></a>"
      ],
      "text/plain": [
       "[SU](2^{n})"
      ]
     },
     "execution_count": 14,
     "metadata": {},
     "output_type": "execute_result"
    }
   ],
   "source": [
    "SU(Exp(two, n))"
   ]
  },
  {
   "cell_type": "code",
   "execution_count": 15,
   "metadata": {},
   "outputs": [],
   "source": [
    "# These eventually moved to separate definitions inside the quantum/quantumOps.py file\n",
    "# QubitRegisterSpace = lambda n : TensorExp(Exp(Complexes, two), n) \n",
    "# RegisterSU = lambda n : SU(Exp(two, n))"
   ]
  },
  {
   "cell_type": "code",
   "execution_count": 16,
   "metadata": {},
   "outputs": [
    {
     "data": {
      "text/html": [
       "<strong id=\"invRoot2\">invRoot2:</strong> <a class=\"ProveItLink\" href=\"__pv_it/afa1062b161dee432dc73b9b0c5f0debb47d132f0/expr.ipynb\"><img src=\"data:image/png;base64,iVBORw0KGgoAAAANSUhEUgAAABwAAAAwBAMAAADwTQfqAAAAMFBMVEX////MzMxEREQiIiK6urrc\n",
       "3NwyMjJmZmaIiIiYmJh2dnZUVFTu7u4QEBCqqqoAAACna3UaAAAAAXRSTlMAQObYZgAAAMpJREFU\n",
       "KM9jYMAG+O4g806v/oMiyzk4uBwoXPa93yoZBhT8RwFUMTIe1agtKJKsCShc9gco3MMMPOVKAnDu\n",
       "OobTDFxfYDweA4YaBoa7MC7XBIbLDAz7A+BaGfIPMOyHae4Ek/YHGBhYHIAMAxCP5ReQ6AU6gKMB\n",
       "xGXeAHTOCaDxzGC15WA7PjEwzADHUwFYsD6AwQZEP2dgBVkUX8C5AEgxLmDgAHG5/zADLWAIXrV8\n",
       "M0gR46/nICr////PYM25OSiee1+AwmUKgDMBtl9J3vYEU8kAAAAASUVORK5CYII=\n",
       "\" style=\"display:inline;vertical-align:middle;\" /></a><br>"
      ],
      "text/plain": [
       "invRoot2: 1 / sqrt(2)"
      ]
     },
     "execution_count": 16,
     "metadata": {},
     "output_type": "execute_result"
    }
   ],
   "source": [
    "invRoot2 = frac(one, sqrt(two))"
   ]
  },
  {
   "cell_type": "code",
   "execution_count": 17,
   "metadata": {},
   "outputs": [
    {
     "data": {
      "text/html": [
       "<strong id=\"B1\">B1:</strong> <a class=\"ProveItLink\" href=\"__pv_it/bde573cd49521470a42e9b28e5198845bc2eebe10/expr.ipynb\"><img src=\"data:image/png;base64,iVBORw0KGgoAAAANSUhEUgAAABoAAAAPBAMAAAAIf8LVAAAAMFBMVEX///92dnYyMjKqqqoiIiLu\n",
       "7u7c3NyIiIjMzMwQEBC6urpERERmZmZUVFSYmJgAAADEjrHzAAAAAXRSTlMAQObYZgAAAIRJREFU\n",
       "CNdjYGB4+//O2d0LGGBgNgMDzw8GBuapIA7HPwYGrj8MsbJfQTz2bwwMfN+BGMzjnsDAEOkK4/Ff\n",
       "YODwDYDx+u8932LAAOPVJzCwzoXzdoJEDGC8vyBeAZQHso7h/gIoD2Qdx2+YPiagdSu3goSBPF79\n",
       "v2dubwZyeG5+OseAAgB1ci4zv+Pk1AAAAABJRU5ErkJggg==\n",
       "\" style=\"display:inline;vertical-align:middle;\" /></a><br>\n",
       "<strong id=\"B2\">B2:</strong> <a class=\"ProveItLink\" href=\"__pv_it/4dcc51f5e800becab282014a7a3c2cdf23baef660/expr.ipynb\"><img src=\"data:image/png;base64,iVBORw0KGgoAAAANSUhEUgAAABsAAAAOBAMAAAAs4XpOAAAAMFBMVEX///92dnYyMjKqqqoiIiLu\n",
       "7u7c3NyIiIjMzMwQEBC6urpERERmZmZUVFSYmJgAAADEjrHzAAAAAXRSTlMAQObYZgAAAK9JREFU\n",
       "CNdjYGB4+//O2d0LGFjP7G5gAIHZDAw8PxhiGRh/gXgc/xgYuP4wHGVgmAnisn9jYOD7zjCFgeF+\n",
       "ApDLPYGBIdKVQT+A4T5IM/8FBg7fAJA6fxDZf+/5FgMQj+sjiKxPYGCdC2KwXACRO0FCIOkzYGv/\n",
       "grgFQBsOwKxluL+AgcGGgS0BYi3HbyAWYGAHcpmA1q7cysCQIihzhYGBV//vmdubger1////wgAA\n",
       "vmgxi6hTs0QAAAAASUVORK5CYII=\n",
       "\" style=\"display:inline;vertical-align:middle;\" /></a><br>\n",
       "<strong id=\"B3\">B3:</strong> <a class=\"ProveItLink\" href=\"__pv_it/edaf2fbeac85c5c9583063603bdab68f085d03270/expr.ipynb\"><img src=\"data:image/png;base64,iVBORw0KGgoAAAANSUhEUgAAABsAAAAOBAMAAAAs4XpOAAAAMFBMVEX///92dnYyMjKqqqoiIiLu\n",
       "7u7c3NyIiIjMzMwQEBC6urpERERmZmZUVFSYmJgAAADEjrHzAAAAAXRSTlMAQObYZgAAAKdJREFU\n",
       "CNdjYGB4+//O2d0LGNgEpQ0YQGA2AwPPD4YcBuZ/IB4HkOT6w1BvwPAFxGX/xsDA951h5QKGTyAu\n",
       "9wQGhkhXIAOimP8CA4dvAJARIgDi9t97vgVkZqIPSIyhPoGBdS7YkFkgcidICGzlTJD0XxC3gCGN\n",
       "gWG/AcRahvsLGP4HgLkgazl+g93mD1TMBLR25VYGhndge3n1/565vRmonuvM6QUMAObcMgaSicwN\n",
       "AAAAAElFTkSuQmCC\n",
       "\" style=\"display:inline;vertical-align:middle;\" /></a><br>"
      ],
      "text/plain": [
       "B1: B1\n",
       "B2: B2\n",
       "B3: B3"
      ]
     },
     "execution_count": 17,
     "metadata": {},
     "output_type": "execute_result"
    }
   ],
   "source": [
    "B1, B2, B3 = Variable('B1'), Variable('B2'), Variable('B3')"
   ]
  },
  {
   "cell_type": "code",
   "execution_count": 18,
   "metadata": {},
   "outputs": [
    {
     "data": {
      "text/html": [
       "<strong id=\"C1\">C1:</strong> <a class=\"ProveItLink\" href=\"__pv_it/31c40e3a639764cf86ca4872a7dd53a4896aeda40/expr.ipynb\"><img src=\"data:image/png;base64,iVBORw0KGgoAAAANSUhEUgAAABkAAAAPBAMAAADjSHnWAAAAMFBMVEX////MzMy6uroyMjIiIiKq\n",
       "qqoQEBB2dnbc3NyYmJhmZmZUVFRERESIiIju7u4AAACOKgoaAAAAAXRSTlMAQObYZgAAAHpJREFU\n",
       "CNdjYGDgu7NrJ0cBAxRcm8DAumwCA0PYAyDnjR+QWN/At30/iGcGItSAeD6QwfUVpFoKyut3APFe\n",
       "QHn1F2CmgXj+Asi8fJAhDA9gciAOqwCUt74ByGCHqewHmVIH47H+ZGCIAuu9DyJfnd6lAOKszrea\n",
       "wIACAFidLLvWRu5GAAAAAElFTkSuQmCC\n",
       "\" style=\"display:inline;vertical-align:middle;\" /></a><br>\n",
       "<strong id=\"C2\">C2:</strong> <a class=\"ProveItLink\" href=\"__pv_it/622953ecc79ccd434884d4d6f4c3a7fb1b019bdc0/expr.ipynb\"><img src=\"data:image/png;base64,iVBORw0KGgoAAAANSUhEUgAAABoAAAAOBAMAAADDIxFwAAAAMFBMVEX////MzMy6uroyMjIiIiKq\n",
       "qqoQEBB2dnbc3NyYmJhmZmZUVFRERESIiIju7u4AAACOKgoaAAAAAXRSTlMAQObYZgAAAKNJREFU\n",
       "CNdjYGDgu7NrJ0cBw6s1BxmA4NoEBtZlE/g2MNQrMDC88QOKrG/gesDAlsDAYPYAyFNjYHNg4P7B\n",
       "wPUVpFqKgfkfA/dHhn4HEO8FiGD5x1B/gQEG9AsY/AXgPG8GhnyQIQwggmsBA4M/iMMKUnALbBOQ\n",
       "YAeJLGDoYOgHmVIHxOIMDDcYWH8yMEQBtXG4l68GWvbq9C6g+xiY////7wAAsMMqzup8tEwAAAAA\n",
       "SUVORK5CYII=\n",
       "\" style=\"display:inline;vertical-align:middle;\" /></a><br>\n",
       "<strong id=\"C3\">C3:</strong> <a class=\"ProveItLink\" href=\"__pv_it/2f60b41619ffac1718c1849094cd1ca9775f7af40/expr.ipynb\"><img src=\"data:image/png;base64,iVBORw0KGgoAAAANSUhEUgAAABoAAAAOBAMAAADDIxFwAAAAMFBMVEX////MzMy6uroyMjIiIiKq\n",
       "qqoQEBB2dnbc3NyYmJhmZmZUVFRERESIiIju7u4AAACOKgoaAAAAAXRSTlMAQObYZgAAAKNJREFU\n",
       "CNdjYGDgu7NrJ0cBQ3v5UQYguDaBgXXZBI4FDPETGBje+AFF1jfwfmXgd2BgMHsA5KkxMCUx8Bsw\n",
       "cH0FqZYCEUCV/Q4gxgsg5nNnYKi/wAABHCXrGBj8BRhg4JoCQz7IEAYwwZbH4A+iWQUYOBoYeL4C\n",
       "bQLy2BkY+P+BeP0gU+qAyg4wsPxjYP3JwBAF1MY5AeyyV6d3KYD0aq06xAAA/tkpquomxroAAAAA\n",
       "SUVORK5CYII=\n",
       "\" style=\"display:inline;vertical-align:middle;\" /></a><br>"
      ],
      "text/plain": [
       "C1: C1\n",
       "C2: C2\n",
       "C3: C3"
      ]
     },
     "execution_count": 18,
     "metadata": {},
     "output_type": "execute_result"
    }
   ],
   "source": [
    "C1, C2, C3 = Variable('C1'), Variable('C2'), Variable('C3')"
   ]
  },
  {
   "cell_type": "code",
   "execution_count": 19,
   "metadata": {},
   "outputs": [
    {
     "data": {
      "text/html": [
       "<strong id=\"I\">I:</strong> <a class=\"ProveItLink\" href=\"__pv_it/4f8f0280e7c3df04ebf74ae2485775c1e6a3c6790/expr.ipynb\"><img src=\"data:image/png;base64,iVBORw0KGgoAAAANSUhEUgAAAAsAAAAOBAMAAAALT/umAAAAJ1BMVEX////u7u4iIiLMzMxERER2\n",
       "dna6urrc3NxmZmYyMjJUVFSIiIgAAAD6sHTBAAAAAXRSTlMAQObYZgAAAEJJREFUCNdjYGDYdWZG\n",
       "AQMQnAQRDGxHwRTrMTDFeQBM8TiAqZwNYCrGAEzNAZMMRyDaTkO0HQZTTGBtUnNOBTAwAACo8g02\n",
       "4uJcHQAAAABJRU5ErkJggg==\n",
       "\" style=\"display:inline;vertical-align:middle;\" /></a><br>\n",
       "<strong id=\"IB\">IB:</strong> <a class=\"ProveItLink\" href=\"__pv_it/a98c4f67abad528a0d4a5626985e4649dfc3360a0/expr.ipynb\"><img src=\"data:image/png;base64,iVBORw0KGgoAAAANSUhEUgAAABsAAAAOBAMAAAAs4XpOAAAAMFBMVEX///+qqqoQEBCYmJju7u4i\n",
       "IiLMzMxERER2dna6urrc3NxmZmYyMjJUVFSIiIgAAAAnOzgWAAAAAXRSTlMAQObYZgAAAKFJREFU\n",
       "CNdjYGB4+//0Agbm+393X69kAIE/IIKpgIFhfwKQwfkDxM03YGCYvwHI4PgJ4r5fwMBg/wDI4PkA\n",
       "4hYxMLCoOgAZ/AUg7l8GhtQrIMZ8kBK2v8bPA8EG94PM4/vFwOB0AcQ9DyLYFYBCH0Gs7yCCHyjD\n",
       "9w9k7T+YtbwgGzm+wazNB1nBCrb2EFCZOtBa3/N/GxgY7vy/vbdcgIEBANShL5jRmRIwAAAAAElF\n",
       "TkSuQmCC\n",
       "\" style=\"display:inline;vertical-align:middle;\" /></a><br>\n",
       "<strong id=\"IC\">IC:</strong> <a class=\"ProveItLink\" href=\"__pv_it/cc9dfb1a83a36dcc496601948b0d05ead3fc2add0/expr.ipynb\"><img src=\"data:image/png;base64,iVBORw0KGgoAAAANSUhEUgAAABsAAAAOBAMAAAAs4XpOAAAAMFBMVEX///+qqqoQEBCYmJju7u4i\n",
       "IiLMzMxERER2dna6urrc3NxmZmYyMjJUVFSIiIgAAAAnOzgWAAAAAXRSTlMAQObYZgAAAJdJREFU\n",
       "CNdjYGB4+//0AgYGlue3L3M1MADBHxDxyICBcZMBkMH5A0i4hwCJ/UBVDBw/gcQhByAxCaSM5wMD\n",
       "A/dHECsbRPAXMDCsDwCxvEDE/AcMDP0PGGCgP4GBIT4Bzj0PxPogkxjAxHcgjgcxGEFKOP/BbQSJ\n",
       "cXwDEutBRrWAuKwfQOo+MzBIg7T6nv8Lcrh37e0JQAoAU6knh3tGwB0AAAAASUVORK5CYII=\n",
       "\" style=\"display:inline;vertical-align:middle;\" /></a><br>"
      ],
      "text/plain": [
       "I: I\n",
       "IB: IB\n",
       "IC: IC"
      ]
     },
     "execution_count": 19,
     "metadata": {},
     "output_type": "execute_result"
    }
   ],
   "source": [
    "I, IB, IC = Variable('I'), Variable('IB'), Variable('IC')"
   ]
  },
  {
   "cell_type": "code",
   "execution_count": 20,
   "metadata": {},
   "outputs": [],
   "source": [
    "# These depend on Block, from an old multiExpression.py file\n",
    "# Still looking into this to see what we have now\n",
    "# some Variable labels\n",
    "# Ablock = Block(A)\n",
    "# Bblock = Block(B)\n",
    "# B1block = Block(B1)\n",
    "# B2block = Block(B2)\n",
    "# B3block = Block(B3)\n",
    "# Cblock = Block(C)\n",
    "# C1block = Block(C1)\n",
    "# C2block = Block(C2)\n",
    "# C3block = Block(C3)\n",
    "# Dblock = Block(D)"
   ]
  },
  {
   "cell_type": "code",
   "execution_count": 21,
   "metadata": {},
   "outputs": [
    {
     "data": {
      "text/plain": [
       "'\\n# for implicit identity gates\\nIs = ImplicitIdentities(I) \\nIsB = ImplicitIdentities(IB) \\nIsC = ImplicitIdentities(IC) \\n'"
      ]
     },
     "execution_count": 21,
     "metadata": {},
     "output_type": "execute_result"
    }
   ],
   "source": [
    "'''\n",
    "# for implicit identity gates\n",
    "Is = ImplicitIdentities(I) \n",
    "IsB = ImplicitIdentities(IB) \n",
    "IsC = ImplicitIdentities(IC) \n",
    "'''"
   ]
  },
  {
   "cell_type": "code",
   "execution_count": 22,
   "metadata": {},
   "outputs": [
    {
     "name": "stdout",
     "output_type": "stream",
     "text": [
      "Common expressions may be imported from autogenerated _common_.py\n"
     ]
    }
   ],
   "source": [
    "%end common"
   ]
  }
 ],
 "metadata": {
  "kernelspec": {
   "display_name": "Python 3",
   "language": "python",
   "name": "python3"
  }
 },
 "nbformat": 4,
 "nbformat_minor": 0
}
