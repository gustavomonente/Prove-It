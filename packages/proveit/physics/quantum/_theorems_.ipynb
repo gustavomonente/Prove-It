{
 "cells": [
  {
   "cell_type": "markdown",
   "metadata": {},
   "source": [
    "Theorems (or conjectures) for the theory of <a class=\"ProveItLink\" href=\"_theory_.ipynb\">proveit.physics.quantum</a>\n",
    "========"
   ]
  },
  {
   "cell_type": "code",
   "execution_count": null,
   "metadata": {},
   "outputs": [],
   "source": [
    "import proveit\n",
    "# Prepare this notebook for defining the theorems of a theory:\n",
    "%theorems_notebook # Keep this at the top following 'import proveit'.\n",
    "from proveit.core_expr_types._common_ import x_1_to_n\n",
    "from proveit.logic.set_theory import Set\n",
    "from proveit.logic import And, Equals, Forall, InSet, Implies\n",
    "from proveit._common_ import alpha, A, B, C, D, E, F, G, P, Q, R, S, f, g, h, i, j, k, l, m, n, p, x, y, Psi, U, Px, Py\n",
    "from proveit import Operation, IndexedVar, ExprTuple, ExprRange, varRange, ExprArray\n",
    "from proveit.number import zero, one, two, subtract, Abs, Add, Complexes, Exp, Mult, NaturalsPos, Sum\n",
    "from proveit.number.sets import Interval \n",
    "from proveit.physics.quantum import Ket, Meas, QubitRegisterSpace, RegisterBra, RegisterKet # RegisterBra, RegisterSU, \n",
    "from proveit.physics.quantum._common_ import (\n",
    "        H, invRoot2, ket0, ket1, ketPlus, QubitSpace, SPACE)\n",
    "from proveit.physics.quantum.circuit import MultiQubitGate, Gate, Circuit, CircuitEquiv, Input, Output\n",
    "from proveit.core_expr_types.expr_array._common_ import Aij, Bij, Cij, Dij, Eij, Pij, Qij, Rij, Sij, B11_to_Bmn, D11_to_Dmn, S11_to_Smn\n",
    "from proveit.statistics import Prob\n",
    "\n",
    "# from proveit.physics.quantum.common import I, H, Hgate, CTRL_DN, WIRE_DN, WIRE_LINK, PASS, \\\n",
    "#     , QubitRegisterSpace, RegisterSU \n",
    "from proveit.linalg import MatrixProd, ScalarProd, SU"
   ]
  },
  {
   "cell_type": "markdown",
   "metadata": {},
   "source": [
    "### *The following 3 cells require updates to Circuit class before they can proceed.<br/>These then affect a handful of theorems/expressions below that refer to the Circuits.*"
   ]
  },
  {
   "cell_type": "code",
   "execution_count": null,
   "metadata": {},
   "outputs": [],
   "source": [
    "# def controlledNgate(a, b, x, y):\n",
    "#     return Circuit([[Input(a), PASS, CTRL_DN, Output(b)],\n",
    "#                     [Input(x), MultiWire(n), Gate(U), Output(y)]])"
   ]
  },
  {
   "cell_type": "code",
   "execution_count": null,
   "metadata": {},
   "outputs": [],
   "source": [
    "# pregatedControlledNgate = Circuit([[Input(a), Gate(u), CTRL_DN, Output(b)],\n",
    "#                                    [Input(x), MultiWire(n), Gate(U), Output(y)]])"
   ]
  },
  {
   "cell_type": "code",
   "execution_count": null,
   "metadata": {},
   "outputs": [],
   "source": [
    "# pregatedControlledNgateWithMerge = Circuit([[Input(c), MultiWire(k), PASS, WIRE_DN, PASS, PASS],\n",
    "#                                             [Input(a), Gate(u), CTRL_DN, WIRE_LINK, MultiWire(Add(k, one)), Output(d)],\n",
    "#                                             [Input(x), MultiWire(n), Gate(U), Output(y), PASS, PASS]])"
   ]
  },
  {
   "cell_type": "code",
   "execution_count": null,
   "metadata": {},
   "outputs": [],
   "source": [
    "%begin theorems"
   ]
  },
  {
   "cell_type": "code",
   "execution_count": null,
   "metadata": {},
   "outputs": [],
   "source": [
    "ketPlusDistributed = Equals(ketPlus, Add(ScalarProd(invRoot2, ket0), ScalarProd(invRoot2, ket1)))"
   ]
  },
  {
   "cell_type": "code",
   "execution_count": null,
   "metadata": {},
   "outputs": [],
   "source": [
    "scaledQubitStateInQubitSpace = Forall(\n",
    "        x,\n",
    "        Forall(alpha,\n",
    "               InSet(ScalarProd(alpha, x), QubitSpace),\n",
    "               domain=Complexes),\n",
    "        domain=QubitSpace)"
   ]
  },
  {
   "cell_type": "code",
   "execution_count": null,
   "metadata": {},
   "outputs": [],
   "source": [
    "transformedQubitStateInQubitSpace = Forall(\n",
    "        x,\n",
    "        Forall(U,\n",
    "               InSet(MatrixProd(U, x), QubitSpace),\n",
    "               domain=SU(two)),\n",
    "        domain=QubitSpace)"
   ]
  },
  {
   "cell_type": "code",
   "execution_count": null,
   "metadata": {},
   "outputs": [],
   "source": [
    "# for use in reducing a MultiQubitGate to a gate within a Circuit.\n",
    "unary_multiQubitGate_reduction = Forall(U, Forall(A, Equals(MultiQubitGate(U, Set(A)), Gate(U)), domain=NaturalsPos))"
   ]
  },
  {
   "cell_type": "code",
   "execution_count": null,
   "metadata": {},
   "outputs": [],
   "source": [
    "empty_multiQubitGate_reduction = Forall(U, Equals(MultiQubitGate(U, Set()), SPACE))"
   ]
  },
  {
   "cell_type": "code",
   "execution_count": null,
   "metadata": {},
   "outputs": [],
   "source": [
    "input_gate_to_ket = Forall(U, Equals(Gate(Input(U)), Input(U)))"
   ]
  },
  {
   "cell_type": "code",
   "execution_count": null,
   "metadata": {},
   "outputs": [],
   "source": [
    "output_gate_to_ket = Forall(U, Equals(Gate(Output(U)), Output(U)))"
   ]
  },
  {
   "cell_type": "code",
   "execution_count": null,
   "metadata": {},
   "outputs": [],
   "source": [
    "single_time_equiv = Forall ((h, k, m), Forall((varRange(A, [one, one], [m, k]), varRange(B, one, m), \n",
    "                                                varRange(C, [one, one], [m, h]), varRange(D, one, m), \n",
    "                                                varRange(S, one, m), varRange(R, [one, one], [m, k]), \n",
    "                                                varRange(Q, [one, one], [m, h])), \n",
    "        Implies(\n",
    "            CircuitEquiv(\n",
    "                        Circuit(ExprArray(ExprRange(i, ExprTuple(MultiQubitGate(IndexedVar(B, i), IndexedVar(S, i))), one, m))),\n",
    "                        Circuit(ExprArray(ExprRange(i, ExprTuple(MultiQubitGate(IndexedVar(D, i), IndexedVar(S, i))), one, m)))\n",
    "            ),\n",
    "            CircuitEquiv(\n",
    "                        Circuit(ExprArray(ExprRange(i, ExprTuple(ExprRange(j, MultiQubitGate(Aij, Rij), one, k), \n",
    "                                            MultiQubitGate(IndexedVar(B, i), IndexedVar(S, i)),\n",
    "                                            ExprRange(j, MultiQubitGate(Cij, Qij), one, h)), \n",
    "                                    one, m))),\n",
    "                        Circuit(ExprArray(ExprRange(i, ExprTuple(ExprRange(j, MultiQubitGate(Aij, Rij), one, k), \n",
    "                                            MultiQubitGate(IndexedVar(D, i), IndexedVar(S, i)),\n",
    "                                            ExprRange(j, MultiQubitGate(Cij, Qij), one, h)), \n",
    "                                    one, m)))\n",
    "            )\n",
    "        ).withWrappingAt(2)\n",
    "    ).wrapParams(), domain=NaturalsPos)"
   ]
  },
  {
   "cell_type": "code",
   "execution_count": null,
   "metadata": {},
   "outputs": [],
   "source": [
    "single_time_equiv_judgement = Forall ((h, k, m), Forall((varRange(A, [one, one], [m, k]), varRange(B, one, m), \n",
    "                                                varRange(C, [one, one], [m, h]), varRange(D, one, m), \n",
    "                                                varRange(S, one, m), varRange(R, [one, one], [m, k]), \n",
    "                                                varRange(Q, [one, one], [m, h])), \n",
    "        Implies(And(\n",
    "            CircuitEquiv(\n",
    "                        Circuit(ExprArray(ExprRange(i, ExprTuple(MultiQubitGate(IndexedVar(B, i), IndexedVar(S, i))), one, m))),\n",
    "                        Circuit(ExprArray(ExprRange(i, ExprTuple(MultiQubitGate(IndexedVar(D, i), IndexedVar(S, i))), one, m)))\n",
    "            ), Circuit(ExprArray( ExprRange(i, ExprTuple(ExprRange(j, MultiQubitGate(Aij, Rij), one, k), \n",
    "                                            MultiQubitGate(IndexedVar(B, i), IndexedVar(S, i)),\n",
    "                                            ExprRange(j, MultiQubitGate(Cij, Qij), one, h)), \n",
    "                                    one, m)))),\n",
    "            \n",
    "                        Circuit(ExprArray(ExprRange(i, ExprTuple(ExprRange(j, MultiQubitGate(Aij, Rij), one, k), \n",
    "                                            MultiQubitGate(IndexedVar(D, i), IndexedVar(S, i)),\n",
    "                                            ExprRange(j, MultiQubitGate(Cij, Qij), one, h)), \n",
    "                                    one, m))\n",
    "            )\n",
    "        ).withWrappingAt(2)\n",
    "    ).wrapParams(), domain=NaturalsPos)"
   ]
  },
  {
   "cell_type": "code",
   "execution_count": null,
   "metadata": {},
   "outputs": [],
   "source": [
    "# temporal_circuit_substitution = Forall ((h, k, m, n), Forall((varRange(A, [one, one], [m, k]), B11_to_Bmn, \n",
    "#                                                 varRange(C, [one, one], [m, h]), D11_to_Dmn, \n",
    "#                                                 S11_to_Smn, varRange(R, [one, one], [m, k]), \n",
    "#                                                 varRange(Q, [one, one], [m, h])), \n",
    "#         Implies(\n",
    "#             And(CircuitEquiv(\n",
    "#                         Circuit(ExprArray(ExprRange(i, ExprTuple(ExprRange(j, MultiQubitGate(Bij, Sij), one, n)), one, m))),\n",
    "#                         Circuit(ExprArray(ExprRange(i, ExprTuple(ExprRange(j, MultiQubitGate(Dij, Sij), one, n)), one, m)))\n",
    "#                             ), \n",
    "#                 Circuit(ExprArray(ExprRange(i, ExprTuple(ExprRange(j, MultiQubitGate(Aij, Rij), one, k), \n",
    "#                                   ExprRange(j, MultiQubitGate(Bij, Sij), one, n),\n",
    "#                                   ExprRange(j, MultiQubitGate(Cij, Qij), one, h)), \n",
    "#                                             one, m)))),\n",
    "            \n",
    "#             Circuit(ExprArray(ExprRange(i, ExprTuple(ExprRange(j, MultiQubitGate(Aij, Rij), one, k), \n",
    "#                                 ExprRange(j, MultiQubitGate(Dij, Sij), one, n),\n",
    "#                                 ExprRange(j, MultiQubitGate(Cij, Qij), one, h)), \n",
    "#                         one, m)))\n",
    "            \n",
    "#         ).withWrappingAt(2)\n",
    "#     ).wrapParams(), domain=NaturalsPos)"
   ]
  },
  {
   "cell_type": "code",
   "execution_count": null,
   "metadata": {},
   "outputs": [],
   "source": [
    "temporal_circuit_substitution = Forall ((g, h, k, m, n), \n",
    "                                        Forall((varRange(A, [one, one], [m, g]), varRange(B, [one, one], [m, h]), \n",
    "                                                varRange(C, [one, one], [m, k]), D11_to_Dmn,\n",
    "                                                                 \n",
    "                                                varRange(P, [one, one], [m, g]), varRange(Q, [one, one], [m, h]), \n",
    "                                                varRange(R, [one, one], [m, k]), S11_to_Smn), \n",
    "        Implies(\n",
    "            And(CircuitEquiv(\n",
    "                        Circuit(ExprArray(ExprRange(i, ExprTuple(ExprRange(j, MultiQubitGate(Bij, Qij), one, h)), one, m))),\n",
    "                        Circuit(ExprArray(ExprRange(i, ExprTuple(ExprRange(j, MultiQubitGate(Dij, Sij), one, n)), one, m)))\n",
    "                            ),\n",
    "                Circuit(ExprArray(ExprRange(i, ExprTuple(ExprRange(j, MultiQubitGate(Aij, Pij), one, g), \n",
    "                                  ExprRange(j, MultiQubitGate(Bij, Qij), one, h),\n",
    "                                  ExprRange(j, MultiQubitGate(Cij, Rij), one, k)), \n",
    "                                            one, m)))),\n",
    "        \n",
    "            Circuit(ExprArray(ExprRange(i, ExprTuple(ExprRange(j, MultiQubitGate(Aij, Pij), one, g), \n",
    "                                ExprRange(j, MultiQubitGate(Dij, Sij), one, n),\n",
    "                                ExprRange(j, MultiQubitGate(Cij, Rij), one, k)), \n",
    "                        one, m)))\n",
    "            \n",
    "        ).withWrappingAt(2)\n",
    "    ).wrapParams(), domain=NaturalsPos)"
   ]
  },
  {
   "cell_type": "code",
   "execution_count": null,
   "metadata": {},
   "outputs": [],
   "source": []
  },
  {
   "cell_type": "code",
   "execution_count": null,
   "metadata": {},
   "outputs": [],
   "source": [
    "temporal_circuit_equiv = Forall ((h, k, m, n), Forall((varRange(A, [one, one], [m, k]), B11_to_Bmn, \n",
    "                                                varRange(C, [one, one], [m, h]), D11_to_Dmn, \n",
    "                                                S11_to_Smn, varRange(R, [one, one], [m, k]), \n",
    "                                                varRange(Q, [one, one], [m, h])), \n",
    "        Implies(\n",
    "            CircuitEquiv(\n",
    "                        Circuit(ExprArray(ExprRange(i, ExprTuple(ExprRange(j, MultiQubitGate(Bij, Sij), one, n)), one, m))),\n",
    "                        Circuit(ExprArray(ExprRange(i, ExprTuple(ExprRange(j, MultiQubitGate(Dij, Sij), one, n)), one, m)))\n",
    "            ),\n",
    "            CircuitEquiv(\n",
    "                        Circuit(ExprArray(ExprRange(i, ExprTuple(ExprRange(j, MultiQubitGate(Aij, Rij), one, k), \n",
    "                                            ExprRange(j, MultiQubitGate(Bij, Sij), one, n),\n",
    "                                            ExprRange(j, MultiQubitGate(Cij, Qij), one, h)), \n",
    "                                    one, m))),\n",
    "                        Circuit(ExprArray(ExprRange(i, ExprTuple(ExprRange(j, MultiQubitGate(Aij, Rij), one, k), \n",
    "                                            ExprRange(j, MultiQubitGate(Dij, Sij), one, n),\n",
    "                                            ExprRange(j, MultiQubitGate(Cij, Qij), one, h)), \n",
    "                                    one, m)))\n",
    "            )\n",
    "        ).withWrappingAt(2)\n",
    "    ).wrapParams(), domain=NaturalsPos)"
   ]
  },
  {
   "cell_type": "code",
   "execution_count": null,
   "metadata": {},
   "outputs": [],
   "source": [
    "single_space_equiv = Forall((k, m, n), Forall((varRange(A, [one, one], [m, n]), varRange(B, one, n),\n",
    "                                              varRange(C, [one, one], [k, n]), varRange(D, one, n),\n",
    "                                              S11_to_Smn, varRange(Q, one, n), \n",
    "                                              varRange(R, [one, one], [k, n])),\n",
    "        Implies(\n",
    "            CircuitEquiv(\n",
    "                    Circuit(ExprArray(ExprTuple(ExprRange(j, Gate(IndexedVar(B, j)), one, n)))),\n",
    "                    Circuit(ExprArray(ExprTuple(ExprRange(j, Gate(IndexedVar(D, j)), one, n))))\n",
    "            ),\n",
    "            CircuitEquiv(\n",
    "                    Circuit(ExprArray(ExprRange(i, ExprTuple(ExprRange(j, MultiQubitGate(Aij, Sij), one, n)), one, m),\n",
    "                            ExprTuple(ExprRange(j, Gate(IndexedVar(B, j)), one, n)),\n",
    "                            ExprRange(i, ExprTuple(ExprRange(j, MultiQubitGate(Cij, Rij), one, n)), one, k))),\n",
    "                    Circuit(ExprArray(ExprRange(i, ExprTuple(ExprRange(j, MultiQubitGate(Aij, Sij), one, n)), one, m),\n",
    "                            ExprTuple(ExprRange(j, Gate(IndexedVar(D, j)), one, n)),\n",
    "                            ExprRange(i, ExprTuple(ExprRange(j, MultiQubitGate(Cij, Rij), one, n)), one, k)))\n",
    "            )\n",
    "        ).withWrappingAt(2)\n",
    "    ).wrapParams(), domain=NaturalsPos)"
   ]
  },
  {
   "cell_type": "code",
   "execution_count": null,
   "metadata": {},
   "outputs": [],
   "source": [
    "double_space_equiv = Forall((h, k, m, n), Forall((varRange(A, [one, one], [m, n]), varRange(B, one, n),\n",
    "                                              varRange(C, [one, one], [k, n]), varRange(D, one, n), \n",
    "                                              varRange(E, [one, one], [h, n]), varRange(F, one, n), \n",
    "                                              varRange(G, one, n), \n",
    "                                              S11_to_Smn, varRange(Q, [one, one], [h, n]), \n",
    "                                              varRange(R, [one, one], [k, n])),\n",
    "        Implies(\n",
    "            CircuitEquiv(\n",
    "                    Circuit(ExprArray(ExprTuple(ExprRange(j, MultiQubitGate(IndexedVar(B, j), Set(Add(m, one), Add(m, k, two))), one, n)),\n",
    "                            ExprTuple(ExprRange(j, MultiQubitGate(IndexedVar(D, j), Set(Add(m, one), Add(m, k, two))), one, n)))),\n",
    "                    Circuit(ExprArray(ExprTuple(ExprRange(j, MultiQubitGate(IndexedVar(F, j), Set(Add(m, one), Add(m, k, two))), one, n)),\n",
    "                            ExprTuple(ExprRange(j, MultiQubitGate(IndexedVar(G, j), Set(Add(m, one), Add(m, k, two))), one, n))))\n",
    "            ),\n",
    "            CircuitEquiv(\n",
    "                    Circuit(ExprArray(ExprRange(i, ExprTuple(ExprRange(j, MultiQubitGate(Aij, Sij), one, n)), one, m),\n",
    "                            ExprTuple(ExprRange(j, MultiQubitGate(IndexedVar(B, j), Set(Add(m, one), Add(m, k, two))), one, n)),\n",
    "                            ExprRange(i, ExprTuple(ExprRange(j, MultiQubitGate(Cij, Rij), one, n)), one, k),\n",
    "                            ExprTuple(ExprRange(j, MultiQubitGate(IndexedVar(D, j), Set(Add(m, one), Add(m, k, two))), one, n)),\n",
    "                            ExprRange(i, ExprTuple(ExprRange(j, MultiQubitGate(Eij, Qij), one, n)), one, h))),\n",
    "                    Circuit(ExprArray(ExprRange(i, ExprTuple(ExprRange(j, MultiQubitGate(Aij, Sij), one, n)), one, m),\n",
    "                            ExprTuple(ExprRange(j, MultiQubitGate(IndexedVar(F, j), Set(Add(m, one), Add(m, k, two))), one, n)),\n",
    "                            ExprRange(i, ExprTuple(ExprRange(j, MultiQubitGate(Cij, Rij), one, n)), one, k),\n",
    "                            ExprTuple(ExprRange(j, MultiQubitGate(IndexedVar(G, j), Set(Add(m, one), Add(m, k, two))), one, n)),\n",
    "                            ExprRange(i, ExprTuple(ExprRange(j, MultiQubitGate(Eij, Qij), one, n)), one, h))))\n",
    "            ).withWrappingAt(2)\n",
    "    ).wrapParams(), domain=NaturalsPos)"
   ]
  },
  {
   "cell_type": "code",
   "execution_count": null,
   "metadata": {},
   "outputs": [],
   "source": [
    "# need to form an Iter to replace xEtc here\n",
    "# summedQubitStateInQubitSpace = Forall(xEtc, InSet(Add(xEtc), QubitSpace), domain=QubitSpace)\n",
    "summedQubitStateInQubitSpace = Forall(\n",
    "    n,\n",
    "    Forall(\n",
    "        x_1_to_n,\n",
    "        InSet(Add(x_1_to_n), QubitSpace),\n",
    "        domain=QubitSpace),\n",
    "    domain=NaturalsPos)"
   ]
  },
  {
   "cell_type": "code",
   "execution_count": null,
   "metadata": {},
   "outputs": [],
   "source": [
    "scaledQubitRegisterStateInQubitRegisterSpace = Forall(\n",
    "        n,\n",
    "        Forall(x,\n",
    "               Forall(alpha, InSet(ScalarProd(alpha, x), QubitRegisterSpace(n)),\n",
    "                      domain=Complexes),\n",
    "               domain=QubitRegisterSpace(n)),\n",
    "        domain=NaturalsPos)"
   ]
  },
  {
   "cell_type": "code",
   "execution_count": null,
   "metadata": {},
   "outputs": [],
   "source": [
    "registerKetInQubitRegisterSpace = Forall(\n",
    "        n,\n",
    "        Forall(k, InSet(RegisterKet(k, n), QubitRegisterSpace(n)),\n",
    "               domain = Interval(zero, subtract(Exp(two, n), one))),\n",
    "        domain=NaturalsPos)"
   ]
  },
  {
   "cell_type": "code",
   "execution_count": null,
   "metadata": {},
   "outputs": [],
   "source": [
    "# TOOK REALLY LONG TO RUN... MORE TESTING NEEDED\n",
    "#registerQubitComplexAmplitude = Forall(\n",
    " #       n,\n",
    "  #      Forall(k,\n",
    "   #            Forall(Psi,\n",
    "    #                  InSet(MatrixProd(RegisterBra(k, n), Ket(Psi)), Complexes),\n",
    "     #                 conditions = [InSet(Ket(Psi), QubitRegisterSpace(n))]),\n",
    "      #         domain=Interval(zero, subtract(Exp(two, n),one))),\n",
    "       # domain=NaturalsPos)"
   ]
  },
  {
   "cell_type": "code",
   "execution_count": null,
   "metadata": {},
   "outputs": [],
   "source": [
    "# TOOK REALLY LONG TO RUN... MORE TESTING NEEDED\n",
    "# registerQubitBornRule = Forall(\n",
    "  #      n,\n",
    "   #     Forall(k,\n",
    "    #           Forall((Psi, m),\n",
    "     #                 Equals(Prob(Equals(m, k), m),\n",
    "      #                       Exp(Abs(MatrixProd(RegisterBra(k, n), Ket(Psi))), two)),\n",
    "       #               conditions = [InSet(Ket(Psi), QubitRegisterSpace(n)), Equals(m, Meas(Ket(Psi)))]),\n",
    "        #       domain=Interval(zero, subtract(Exp(two, n), one))),\n",
    "        #domain=NaturalsPos)"
   ]
  },
  {
   "cell_type": "code",
   "execution_count": null,
   "metadata": {},
   "outputs": [],
   "source": [
    "registerQubitAllProbs = Forall(\n",
    "        n,\n",
    "        Forall((Psi, m),\n",
    "               Equals(Sum(k, Prob(Equals(m, k), m),\n",
    "                                domain=Interval(zero, subtract(Exp(two, n), one))),\n",
    "                      one),\n",
    "               conditions = [InSet(Ket(Psi), QubitRegisterSpace(n)), Equals(m, Meas(Ket(Psi)))]),\n",
    "        domain=NaturalsPos)"
   ]
  },
  {
   "cell_type": "code",
   "execution_count": null,
   "metadata": {},
   "outputs": [],
   "source": [
    "## This one requires pregatedControlledNgate, defined at the top of this page,\n",
    "## but that pregatedControlledNgate requires the Circuit class\n",
    "# pregatedControlledNgateEquiv = Forall(\n",
    "#         n,\n",
    "#         Forall(U,\n",
    "#                Forall(u,\n",
    "#                       Forall((a, b),\n",
    "#                              Forall((x, y),\n",
    "#                                     Equals(pregatedControlledNgate,\n",
    "#                                            controlledNgate(MatrixProd(u, a), b, x, y)),\n",
    "#                                     domain=QubitRegisterSpace(n)),\n",
    "#                              domain=QubitSpace),\n",
    "#                       domain=SU(two)),\n",
    "#                domain=RegisterSU(n)),\n",
    "#         domain=NaturalsPos)"
   ]
  },
  {
   "cell_type": "code",
   "execution_count": null,
   "metadata": {},
   "outputs": [],
   "source": [
    "## This one requires controlledNgate, defined at the top of this page,\n",
    "## but that controlledNgate requires the Circuit class\n",
    "# controlledNgateEquiv = Forall(\n",
    "#         n,\n",
    "#         Forall(U,\n",
    "#                Forall((a, b, c),\n",
    "#                       Forall((x, y, z),\n",
    "#                              Iff(Equals(controlledNgate(a, b, x, y),\n",
    "#                                         controlledNgate(a, c, x, z)),\n",
    "#                                  Equals(TensorProd(b, y), TensorProd(c, z))),\n",
    "#                              domain=QubitRegisterSpace(n)),\n",
    "#                       domain=QubitSpace),\n",
    "#                domain=RegisterSU(n)),\n",
    "#         domain=NaturalsPos)"
   ]
  },
  {
   "cell_type": "code",
   "execution_count": null,
   "metadata": {},
   "outputs": [],
   "source": [
    "## This one requires controlledNgate, defined at the top of this page,\n",
    "## but that controlledNgate requires the Circuit class\n",
    "# superpositionControlledNgate = Forall(\n",
    "#         n,\n",
    "#         Forall(U,\n",
    "#                Forall((a, b, c, d),\n",
    "#                       Forall((x, y),\n",
    "#                              Implies(And(controlledNgate(a, c, x, y),\n",
    "#                                          controlledNgate(b, d, x, y)),\n",
    "#                                      controlledNgate(Add(a, b), Add(c, d), x, y)),\n",
    "#                              domain=QubitRegisterSpace(n)),\n",
    "#                       domain=QubitSpace),\n",
    "#                domain=RegisterSU(n)),\n",
    "#         domain=NaturalsPos)"
   ]
  },
  {
   "cell_type": "code",
   "execution_count": null,
   "metadata": {},
   "outputs": [],
   "source": [
    "## This one requires pregatedControlledNgate, defined at the top of this page,\n",
    "## but that pregatedControlledNgate requires the Circuit class\n",
    "# pregatedControlledNgateMerger = Forall(\n",
    "#     (n, k),\n",
    "#     Forall(U,\n",
    "#            Forall(u,\n",
    "#                   Forall((a, b),\n",
    "#                          Forall(c,\n",
    "#                                 Forall(d,\n",
    "#                                        Forall((x, y),\n",
    "#                                               Implies(pregatedControlledNgate,\n",
    "#                                                       Implies(pregatedControlledNgateWithMerge,\n",
    "#                                                               Equals(d, TensorProd(c, b)))),\n",
    "#                                               domain=QubitRegisterSpace(n)),\n",
    "#                                        domain=QubitRegisterSpace(Add(k, one))),\n",
    "#                                 domain=QubitRegisterSpace(k)),\n",
    "#                          domain=QubitSpace),\n",
    "#                   domain=SU(two)),\n",
    "#            domain=RegisterSU(n)),\n",
    "#     domain=NaturalsPos)"
   ]
  },
  {
   "cell_type": "code",
   "execution_count": null,
   "metadata": {},
   "outputs": [],
   "source": [
    "# TOOK REALLY LONG TO RUN... MORE TESTING NEEDED\n",
    "#registerBraOverSummedKet = Forall(\n",
    " #   n,\n",
    "  #  Forall(U,\n",
    "   #        Forall(l,\n",
    "    #              Forall(f,\n",
    "     #                    Equals(MatrixProd(RegisterBra(l, n),\n",
    "      #                                     MatrixProd(U, Sum(k, ScalarProd(Operation(f, k), RegisterKet(k, n)),\n",
    "       #                                                      domain=Interval(zero, subtract(Exp(two, n), one))))),\n",
    "        #                        Sum(k, Mult(Operation(f, k),\n",
    "         #                                   MatrixProd(RegisterBra(l, n), U, RegisterKet(k, n))),\n",
    "          #                          domain=Interval(zero, subtract(Exp(two, n), one))))),\n",
    "           #       domain=Interval(zero, subtract(Exp(two, n), one))),\n",
    "           #domain=SU(Exp(two, n))),\n",
    "    #domain=NaturalsPos)"
   ]
  },
  {
   "cell_type": "code",
   "execution_count": null,
   "metadata": {},
   "outputs": [],
   "source": [
    "%end theorems"
   ]
  },
  {
   "cell_type": "code",
   "execution_count": null,
   "metadata": {},
   "outputs": [],
   "source": []
  }
 ],
 "metadata": {
  "kernelspec": {
   "display_name": "Python 3",
   "language": "python",
   "name": "python3"
  }
 },
 "nbformat": 4,
 "nbformat_minor": 0
}
