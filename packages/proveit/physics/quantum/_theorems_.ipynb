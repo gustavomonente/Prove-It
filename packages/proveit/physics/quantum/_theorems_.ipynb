{
 "cells": [
  {
   "cell_type": "markdown",
   "metadata": {},
   "source": [
    "Theorems for context <a class=\"ProveItLink\" href=\"_context_.ipynb\">proveit.physics.quantum</a>\n",
    "========"
   ]
  },
  {
   "cell_type": "code",
   "execution_count": 1,
   "metadata": {},
   "outputs": [],
   "source": [
    "import proveit\n",
    "# Automation is not needed when building theorem expressions:\n",
    "proveit.defaults.automation = False # This will speed things up.\n",
    "from proveit import Operation\n",
    "from proveit._common_ import alpha, A, B, f, k, l, m, n, x, Psi, U\n",
    "from proveit.logic import And, Equals, Forall, InSet\n",
    "from proveit.logic._common_ import xIter1n\n",
    "from proveit.logic.set_theory import Set\n",
    "from proveit.number import zero, one, two, subtract, Abs, Add, Complexes, Exp, Mult, NaturalsPos, Sum\n",
    "from proveit.number.sets import Interval \n",
    "from proveit.physics.quantum import Ket, Meas, QubitRegisterSpace, RegisterBra, RegisterKet # RegisterBra, RegisterSU, \n",
    "from proveit.physics.quantum._common_ import (\n",
    "        H, invRoot2, ket0, ket1, ketPlus, QubitSpace)\n",
    "from proveit.physics.quantum.circuit import MultiQubitGate, Gate\n",
    "from proveit.statistics import Prob\n",
    "\n",
    "# from proveit.physics.quantum.common import I, H, Hgate, CTRL_DN, WIRE_DN, WIRE_LINK, PASS, \\\n",
    "#     , QubitRegisterSpace, RegisterSU \n",
    "from proveit.linalg import MatrixProd, ScalarProd, SU\n",
    "# the context is in the current directory:\n",
    "context = proveit.Context('.') # adds context root to sys.path if necessary"
   ]
  },
  {
   "cell_type": "markdown",
   "metadata": {},
   "source": [
    "### *The following 3 cells require updates to Circuit class before they can proceed.<br/>These then affect a handful of theorems/expressions below that refer to the Circuits.*"
   ]
  },
  {
   "cell_type": "code",
   "execution_count": 2,
   "metadata": {},
   "outputs": [],
   "source": [
    "# def controlledNgate(a, b, x, y):\n",
    "#     return Circuit([[Input(a), PASS, CTRL_DN, Output(b)],\n",
    "#                     [Input(x), MultiWire(n), Gate(U), Output(y)]])"
   ]
  },
  {
   "cell_type": "code",
   "execution_count": 3,
   "metadata": {},
   "outputs": [],
   "source": [
    "# pregatedControlledNgate = Circuit([[Input(a), Gate(u), CTRL_DN, Output(b)],\n",
    "#                                    [Input(x), MultiWire(n), Gate(U), Output(y)]])"
   ]
  },
  {
   "cell_type": "code",
   "execution_count": 4,
   "metadata": {},
   "outputs": [],
   "source": [
    "# pregatedControlledNgateWithMerge = Circuit([[Input(c), MultiWire(k), PASS, WIRE_DN, PASS, PASS],\n",
    "#                                             [Input(a), Gate(u), CTRL_DN, WIRE_LINK, MultiWire(Add(k, one)), Output(d)],\n",
    "#                                             [Input(x), MultiWire(n), Gate(U), Output(y), PASS, PASS]])"
   ]
  },
  {
   "cell_type": "code",
   "execution_count": 5,
   "metadata": {},
   "outputs": [
    {
     "name": "stdout",
     "output_type": "stream",
     "text": [
      "Defining theorems for context 'proveit.physics.quantum'\n",
      "Subsequent end-of-cell assignments will define theorems\n",
      "'%end theorems' will finalize the definitions\n"
     ]
    }
   ],
   "source": [
    "%begin theorems"
   ]
  },
  {
   "cell_type": "code",
   "execution_count": 6,
   "metadata": {},
   "outputs": [
    {
     "data": {
      "text/html": [
       "<strong id=\"unitaryHadamard\"><a class=\"ProveItLink\" href=\"_proofs_/unitaryHadamard.ipynb\">unitaryHadamard</a>:</strong> <a class=\"ProveItLink\" href=\"__pv_it/2d33fbddaabcc841fb51bc4175eada838d5ef2bf0/expr.ipynb\"><img src=\"data:image/png;base64,iVBORw0KGgoAAAANSUhEUgAAAHEAAAAVBAMAAACDNRyvAAAAMFBMVEX///9ERESqqqq6urpmZmbc\n",
       "3Nx2dnbMzMwiIiIQEBCYmJju7u4yMjJUVFSIiIgAAAATN2ysAAAAAXRSTlMAQObYZgAAAAlwSFlz\n",
       "AAAOxAAADsQBlSsOGwAAAhBJREFUOMuVVM9rE1EQ/jYvL5vf5lgKkhzEc++C9RA8tFD2WEorW0Ts\n",
       "RcyfkF40gmLBSwUhhdZjYb0rRNBTaaNQaKGErB6kF23aiBVjss68t0m2dnPIg7c7MzvfzDcz7y0Q\n",
       "vo4fhxuk1iyMXHdHWL5q5aZ6fvd2ne3qrnPZ79pte1Me/p6EUd3TlogNWXxfQragvP7SXg/JYLh4\n",
       "00KsTeI3P9ZbYElZdlgzfxH9nyHIIpCsId0icdZHzgBHwEtgizUOkTzTgOxE5ekAeQ4IF1dyJH7y\n",
       "kWtA1UHTQoKL46BGR/mLPWeYU/whPhamXSBla6SoAYdAs4T0BqkcNFFW/otOgK307rP0sESUpjQy\n",
       "aquPz4koscD0s0ajeUuZPl6o88Tr0tyeMMK3qEwwe6oBOuiJ7nLtAlJ+8daQ6pKU8S1x5RanNBEm\n",
       "WaedVzTN9UqlshqYe7SNCFWLO74lMQXdc5jc8VPar5RjKhfMSfFTZ4hRh3EviExyZYK6LHp6pLzK\n",
       "QST1QHYQa+mh6DqZ7XVIS7HloNm29v8RQIqy6mWE5pWxhqcKpo2sgyTRi/M4W9o/XRgio4+AByR9\n",
       "gDzoV86zmC8WaaRRF+/qXTeTP3V1oZ9vDJFiv8GBYlfnBj1jHnXPo4Me//+eieXA6Qu5ZYNbOz/u\n",
       "/dzqazPjIg2fpMyNi+xP3HBGIlcu/YdeqNeC1l4D/wBxKpRZvpLBZgAAAABJRU5ErkJggg==\n",
       "\" style=\"display:inline;vertical-align:middle;\" /></a><br>"
      ],
      "text/plain": [
       "unitaryHadamard: H in [SU](2)"
      ]
     },
     "execution_count": 6,
     "metadata": {},
     "output_type": "execute_result"
    }
   ],
   "source": [
    "unitaryHadamard = InSet(H, SU(two))"
   ]
  },
  {
   "cell_type": "code",
   "execution_count": 7,
   "metadata": {},
   "outputs": [
    {
     "data": {
      "text/html": [
       "<strong id=\"ketPlusDistributed\"><a class=\"ProveItLink\" href=\"_proofs_/ketPlusDistributed.ipynb\">ketPlusDistributed</a>:</strong> <a class=\"ProveItLink\" href=\"__pv_it/d86999bd2a616793cd79334487cc3fe6a9ef98c00/expr.ipynb\"><img src=\"data:image/png;base64,iVBORw0KGgoAAAANSUhEUgAAASEAAAAyBAMAAADhBnCpAAAAMFBMVEX////u7u4yMjJERERUVFQQ\n",
       "EBAiIiJmZmaqqqqYmJjMzMyIiIi6urp2dnbc3NwAAAC2AzRPAAAAAXRSTlMAQObYZgAAAAlwSFlz\n",
       "AAAOxAAADsQBlSsOGwAABT1JREFUWMOdWUtvXDUUPpN53XmPwmOHZroqG8og0UhUqIwEBfFShlIh\n",
       "NkBAaQsLUFQVwQJBhQTdEHU2wDIjXjuUwgraRfMPMstKRJqLsmBHMmpFmqQN3Hv9uLbvObaDFcmZ\n",
       "O/4+f9f+fHzsAXCWwhqrX7I3u69NfuVA5h5zMujleS5saG9WPUK+kgMJ37UdDAbfmNUvy67fxht+\n",
       "STFIJPyEj0Kw4GDQyzesqnAU3H9hijcs9/HnEpl77lFiXi7aGfTS3GP11kg8qRGK4D38cYqEG4Si\n",
       "0tDKYDTmk/Y+OBV9gfeXIklFwStWBr18zYd+4FY0s4RO2sCtCI7aGIzyBquKY7ei+gH2VEHSitZD\n",
       "C4NeRPcKF6lIvKleVBWkIjE4Rz1sxO2/CB6KrmAdLoKHomBqYdDLKlso1T0fRZ2rSODc81GU26cZ\n",
       "jHKKh8mBj6L8AhJgBz6KYI5mMMoZbs++j6IKYkwVaVG0EpIMxpjv8skb+ijK7SLTPvRS1BlKhjDt\n",
       "HWnY4JonIa4o1KFnsgwqUlXU5PVIH8qIYSN1wQhxBnfBccUYx/95UX7Y0KFzWQYFCU+/tSid2+A5\n",
       "zgndQHOqogAJmMUeq18lBjtCN/74VEIn2RYUMlYUZxGX+cdtyZAqAsTnHdZVbodW9DA8GAroylrG\n",
       "Wju0oiSLKPFFcVcyJIrqia9uIr5ko1zdJxVFuUajJ6CrYlLqws8kMh6j2JGNS1q7iCFRFCRMm0gU\n",
       "Zu2DO6SifD8OuJvakApCG1Ioava0sYwYFEUzYTZMMMtW9khFrSWo3xHQVt9URCKFIjjGPt8GwaAo\n",
       "CsbZbZL1VDsgFUUvVd8V0FbPVEQipaJl9vkWCAZFEfNn+VxS2NtOWABpTElFW+PEA8zaxa6piERK\n",
       "Rdzap0EwqIo+yeA+Y4rKdkX3BLS0YCoqOxWV2fo8B4JhIx6Us68lg/JDBjfPoyKLFq1/1bLNZm0M\n",
       "9X0BLQ34KHNCC1IqqrLZOAuCQR2jZYciwtnxelpWFKljRCKlIm5BXNGxjI/cs5bvQWUqVsz/mTW+\n",
       "TNVZkwTNHrVPNui1FiX25a6AIs52rrVNi7N5+NRWP4tHNT2qVBUfwbvwwEhAi5l4RCKloptmIqYo\n",
       "KoFnhEyzhAj90PUXJLS15IiQKTJSxLIIPtE7kkFRdBnZRdjSDO5qT783sxEB7YwzuwiFFNkITxty\n",
       "9ySDstOeJDPA6i5x+yIUnSR3WgopFOVDdKdlMrtZRWIatJyi2YW/LpxQFQnolawTKaRQNKvvyBFD\n",
       "qqiGXPOUeFfvaJcga80+TNYURQJ6I7tXU0ih6Hd9/4sYrqWuA/psc0p9OAuFNhSTb67p0HnyeJVB\n",
       "1rjHe3oknXedRSo8wK2oh4iPoTiFAhZokBTWE+lKn9P4wad3VTFIbgEK0R+S+DSRhNEPCVtXSQb3\n",
       "CbKRmKa0ffgTJI30P0HCh9yS3E9fyUC6ipzQC8jZwQ8Jz9IM5sUOWxJ1Fuhq8e5zPfn3PNK4hfTl\n",
       "h4R9msFc/jwgMZo/JyORaWK3YSvYIdoLia4gr8XW6UMleY1vwXFVZMq0I5FrKs9bv/IBlNoszfr7\n",
       "cLd+VuRhbv3EK/Kxau6wbPFngF+ylwR9yyhbkfC4jcG8IeTb+SOseqod/1TQPP/RxeyqWMdN4IGs\n",
       "T60MRox8k9U/snFd/y025kyUdmX35ddxBg9k8ZKVwSi/8q2Q8cycDqmGBWLI3Uh4xs5gdqT9UhPc\n",
       "Jht+Tn3hRAZdB4NRnuCuYxnHB+T0kr9FuZCH/TUL8jyTedLebJZ2pQOZO6Iy/AeT2OeWJ79msgAA\n",
       "AABJRU5ErkJggg==\n",
       "\" style=\"display:inline;vertical-align:middle;\" /></a><br>"
      ],
      "text/plain": [
       "ketPlusDistributed: |+〉 = (((1 / sqrt(2)) * |0〉) + ((1 / sqrt(2)) * |1〉))"
      ]
     },
     "execution_count": 7,
     "metadata": {},
     "output_type": "execute_result"
    }
   ],
   "source": [
    "ketPlusDistributed = Equals(ketPlus, Add(ScalarProd(invRoot2, ket0), ScalarProd(invRoot2, ket1)))"
   ]
  },
  {
   "cell_type": "code",
   "execution_count": 8,
   "metadata": {},
   "outputs": [
    {
     "data": {
      "text/html": [
       "<strong id=\"scaledQubitStateInQubitSpace\"><a class=\"ProveItLink\" href=\"_proofs_/scaledQubitStateInQubitSpace.ipynb\">scaledQubitStateInQubitSpace</a>:</strong> <a class=\"ProveItLink\" href=\"__pv_it/7edef69346e0639bdecf1ed5cbf3762299d908de0/expr.ipynb\"><img src=\"data:image/png;base64,iVBORw0KGgoAAAANSUhEUgAACHEAAAAaCAMAAAANUKI+AAAAM1BMVEX////Ozs6IiIgiIiIQEBB2\n",
       "dnbu7u5UVFTMzMzc3NwyMjK6urpmZmaYmJiqqqpEREQAAACZvqi/AAAAAXRSTlMAQObYZgAAAAlw\n",
       "SFlzAAAOxAAADsQBlSsOGwAAERhJREFUeNrtXQuX66oK9pqoeZjH//+1V0AR06RNMu1M9zqy1tln\n",
       "msgHIlVUtEpVqlSpUqVKlSq9j6wxztlqh0pfTq5pmr6aodJX0TxWG1SqdIE8/NcoZdIDHXr2udql\n",
       "0pfRUE1Q6esCDp/+ehUM12C5UiWgNQTp/dqpbsnPpqnapVKNOCpVekqWnVK/mqSNupqrUqUQXViK\n",
       "ONSkZcSR44+5hh+VviXiqG5Z6YtoSU44m5dlX8UktmkW5+CfpWl+OTwxDYwAr8KrpW2esnZD608I\n",
       "88b8ZBd/X0oC1f4O9yXS9wH2TfhNjaysDl7oJtWb9+JueeDfxoqIw/P+5FDXAyt9S8RR3bLS91Df\n",
       "pm76zALc8Hyc1ZhNRyOS++1welpPfQX9C9b1xHa8cV37s137HSkM2pgb3NeIRNh7SWXDrXDFviWD\n",
       "7Uwj61ZbjKCb6c3OU8R9FGtoJyKOLn3ol9qzVPqWiKO6ZaXvIZ+GN3+me56eDzbo2f2Khabfzkf1\n",
       "p/YsdwdrwTquJxYv2nlcfnRSYU/KedBTOp6geb3Fdi/euSnsciPbJS07+LV/s/PISD22leW2gDyO\n",
       "FJGbmkVa6WsijuqWlb6H1hQYtKeKt8VYp5cmEHfW/UTTRfRr/duHB09t4+wP1oLVNHdBrtCOlAug\n",
       "5k3bGv5WXtnN2vvhdxp5YBcd2zc7jww4QnDdYUAzTCLiSNmjNWGv0hdFHNUtK30LdWn4GM954yBW\n",
       "QsZhE1VQ8OII8rfD6f7UTvzuYC1Zz2wZ/HzE35FyAXTw7zFZY+5w3az9PWGXG9nkFZjOv9l55ApH\n",
       "13Ue/dwvIuJQLYTgTWtqz1LpeyKO6paVvoV0Gj54d0UZo73of63WznYmLsgZl3vdg6QOmVhojdbQ\n",
       "MY/G9b3RTqvO6AUik9Esfacp8UOFUi487Myiem8wqAn/1z1MPPNDqz08sE7EOBkl7cQzI+GaTqgB\n",
       "g/U86aXn1yA2sQJnRwNWYpAaJZpc2zhfIDwWi7oqV1T+QIoEjYwlTy4ouDcGKHWIikW0phBHD0e3\n",
       "rIvTjJPl7eueGk4NLsC8sBIY3ooiQhi/UmUbJZWfukpsKbZH6ZwYOmTvs526iHsALNopat+uQPQN\n",
       "amXEQd+cpV4OVumbIo7qlpW+hNywWbzoGxio2l71sRf3kB2n8b4j6FbzUshB3nNM46BxrOlgPIKb\n",
       "kpZFw6Y3ZHfM0Ecb5WAcDGNVFLn2SqslBD4GXo9BA7XAakl+aIhTJvkJFEdzzcwYcGeagrIaQQpo\n",
       "7VyuKez1E6vgZAahkaBVS1uViqcATujKle8PpEhQQ5sBJQ8XFNxbA0gdWLFostaVjUH7DXNhyCxv\n",
       "V3duuGBCS+WOrbSEF6MvNE/C+FUyYWwjofITV4ktxailc+ISx2Z75AruAbBop432yJNaAyMO2G2h\n",
       "fyo9Idt/N94/SbM2btyPOKpb/pEfVcfc0pLWhNONibTytviUhzEFk+nQYcejJ3OzdeYtTauYcAKT\n",
       "HlU3qnbBByYOZSGeGVz8m9bbG2Mn1TS02mJbnDCGT/lhYMFcAJcTriVKi0NNZoy44TGrAeNexwhJ\n",
       "bGSNnIPUW2hUxFRxCWhH8VRkirqGf3Llu30pEjRWsuDJBQX31gCFDkmxZDI4+Mwo6aHEkfL2dU8N\n",
       "F0xoKT46tlIP5eDUtahiFMavlDAh2D+p/NxVsKUy6sY5AWC7PXIB9wBYVGKrPZouSaTNcphHmsOk\n",
       "6anxxrXe+A9eUGrdsxzdaZuxIor79snekvX++umzLWICMfo0yykivCtnP7vhwrmNu4dKnzdFiGnh\n",
       "QPyJc/YvcNLiMsTT+xHHC7esjhlB3u2X1TEfVU5xb0vu6GnGFsaHOH6AmRcxNLGEjvYGA5UWcnkG\n",
       "vqxaG/BzmBSPPFrBgG/jkQez2ihydb1Va/QdegajRX5o48DQZq8QKB0dTMiMqSpCjTTuIQKLVcQq\n",
       "OJlBaCTnEqtUslQ8K8a6psrjeL0nRYJaWuwoeHJBwb01wP+EDqxYUmOci8aI6ykFTpa3p3tuODKh\n",
       "DeP2sZX6dZn6jeWjMH5VaFqo/MRVqKUy6sY5QWmx/mMv4h4Ai0pstI81GmXEMeu9WLzTboGdHN7B\n",
       "+eRJrvlpStZDx5mL98+6DzeN17vcLeIJkP72mSZ7idOZDwGfbYqRBvel/XGTJstBp3wQcey7ZXXM\n",
       "8yD3/fI/75jlFNCXEUdL4YNpZYAjVqpz/r89CMVEGsfqNqO0GPDjanSoFonsQQivUOMzGiLE2Qj8\n",
       "qytmsYwSt9MFY7s8qoHjHi0nZLHEKjgFw97BjJQ6uad4yRgXLqjyOF7vSxGgcUiUPLmgNMvWAEKH\n",
       "B8X0tjHsA46Qt6O7aDhMWx3DWP3ESmZdcSkhF2Fh6ZXUtFT5iatQS5WGK7dRmvwdnLuLuAfA8mmp\n",
       "fVmzeCBgkPeQpsAqJkbhYS608fTB1Vb/rMvq2+Pi+tnsar2j8RbxBIhePtGLnhjg3tmtnmiKOZ6p\n",
       "mv1Pm1QuWR/squy7ZXXMCyD3/bI65u4ax0A5crE/NfLOhRGaw0Y1cjzRHISCWVHROVO+CA74AGfj\n",
       "EGtXH0UazCBoUi/Oi/hKbNLjaKHbh4E6oKjFAahgtCw9q0GjQ+RhscgqRQq9/U4tFyeULBVXJWOs\n",
       "AVV+nYIR96VkUG6RzJMLFmbZGiDr8KiYKcWRiHGN6wBbeTu6i4bD5QxYOnhqpRGTTXIRIWzMeSjc\n",
       "RlLlY1eJjVwYTjqnKu7gMFdxD4DLdhqXTXTVl7sqyswpo1pr3xsP+zNTnoWmnSFFCalwotZPkL8a\n",
       "SjlAmrye6C9ltDHwzZ/ngKSsn7Tp82c14u1jfFSG+SBzhUsDCow1UZiaXEKP8FQcyw86a8VSYjfk\n",
       "2pQ7XigVjcKaUGX8HmIGoeKyaCzBLEWFsiySjeyoeuTDB71pBpOagqG3mrGZu5VyhnerG0w2MzwD\n",
       "x6dcRLNGh01ITRFrx/5AbhOxulndxWHDJs38w2DFQ1J2S2WCZ9CX8TOOWfrlP+SY5/yyOuZ1x9yL\n",
       "OBYyaFwe5yxAG6Jmtyr+lcwpR3p6d89LpHGklXR40Boe8EPPD1mpOFfWbVqRxwIND0AzLWvPvVz8\n",
       "x1F5KSaiEkWXjLEqo1CDRtEgapJikVVyCr33znSmbZ0dxTcRxLLgL3C0KXXSHEgRoFDCKMmTCxZm\n",
       "2RpA6CAUQzVwtp/FRREm9EYZSMh71F023JrySQ6tRMs1q5VForD8Smoa2kio/NxVtEDdOmdazSAt\n",
       "7MYUL3EPgEUlNtrHfca+iDj6Njqo7mHWOMyb1UCOUCwkpDpYxwZrAhd1eCP8QhxIGka8uTe81wEG\n",
       "iuNZ9vgZlAsfeR2d+XCplUtDnxDKJGEYd9E9qRGeVmapfFdopeM0pPjil0pxcJc0iZXpdxAziLGx\n",
       "HqIolGCWskIsK8pGabPLfIQntM3QD5olM+vGwl3/u9X1I17TyYrT8/g0dm1oVWGN3SbkpgAY9geK\n",
       "5Isg/RYO65c0Cy5vjiIOdkuFXBp7y884ZumX/5BjnvPL6piXHbPYNEpOF4+9evzfZFbVxcX2zvqW\n",
       "MgHwvQgzhr0kIzkFxIMtFoIe8mYa8AcD3wu7LrDt2EWRi5db4goCyqnxysiHWHIsUgYyyjpaXTJ6\n",
       "DFNDEJjVoNoGXYwUS6yCU+o97qzidFmdreKq0LWNNcBAdIAVy10pEnRccYlT8uSCgvvBABs7kWI4\n",
       "0tPPi2SUKMKFiT0GaYMq5T3qLhsOkikRe8dKhIWzgbksEoXlV1SU20ja8thVqKUYtXBOAgzPaNYS\n",
       "dwWv4B4Al+Z/WGwsz6ooOs+CnzGMh8Mt5eHqtEQVTNKbMFOxeEIdTOgxbwnnRWtUHY70ggIdmgr6\n",
       "kvQ5lBybvNib+eZkWOzP4ByQ7ZIw2j3FpdAIH1dmsfwqtEpS8vp7tmdWKsmeoyapMvYRMYNQcVE0\n",
       "lWCWokIsK8nGeqMrJgvOZSiYoR81S9VfyJF2q7sMk5WKE3B8ShUhq7JGB02Itk0w7A8U4ftNZ3Ed\n",
       "h/WLmg3rujZHEQe7JcqahnH8lGOWfvkPOeY5v6yOedkxy92pltNFYuRhNHSdPmbtWq916GR5bUT+\n",
       "OIZ1y7jZv3fB6/MlD0obTSshhE5LVbPXsAS3jjquFsEFIKPUAaC16XqnO/kwPA0lcUq5EgmUiXaU\n",
       "BCPgajxxw2rQMQNDdWOxxCo5N3orIVEeKt1RnIuBrrOsQb+AEXelFKALrkdJnlxQcEdB2QDCTlkx\n",
       "aMg0EmZxJCKAT5zKU8h70F02XPAIuo1jz0qI1YXHcb2Wi0Rh4hVlEHEbbWy57yqxkRNq6ZwxJcn6\n",
       "xbn821VXcA+AuRJCe9FRF/dxbHaHO4r1FqS5jPHbgI9fH/i+YCccM7Y0nd7FH9lZTEolg687zQE5\n",
       "tQz+yF+2xId14dLx93+SsJ7lJHif0ZdCq3K6HE/Pb5TiiYtOmsC/mOz1iJiP4C9l0VSCWcoKJVks\n",
       "G1ewR4GMePKKWYbeaJbNjAOc269u164wDU3vInB8mlWR1thvQrStqL9IQeP89/k2Dj+Qmh1GHEqq\n",
       "PuKC36ccs/TLf8gxz/lldcyfOGbO+WvOJKz0ZQw9mkXecn4pdeXmvZ1meAfKj/Kf3BeB+r/7Hdff\n",
       "M3jzzbjcco8RB8yLenHlSvmN5m85rLLgbIcWFuEjXAaHeSRQCJO68QaUZYLEknbMK6gizyzxNaMV\n",
       "peOeDyebsJwED8VjeQ3lWatxL5+tVCq/RU36WC70Q90OIoPY1XaiaCqRWcoKJVksG+qtRaUIL4xj\n",
       "fPsBQ280y2aGfi/0p3vV7cMUFJaz0jsCTk9lomG2xn4Tom1z/aM/pIUEahB7Gyc9KDR7GXGg6rSv\n",
       "8SnHLP3y33HMk35ZHfNHjskVmk6lpr7tB2Gb6zd1Q+KoLX+ztfG/PPrNbn8z6a9Af90Af0CfquN7\n",
       "cIvfVZHBeYvRMS6U2p09OYVTSx2P3cEcInS6uI8VOhH4MTrcDDV8LC9MFrp1nOQxvVBizIu9kc+u\n",
       "AMqlB8yVZmFZToSn4lS+mzZaye1Lm5MAzMPrwB7mLomtGefuETGDzIMysmgqwSxFhVhWkg1/9KOw\n",
       "IOF5jVtldBotQW80E9W3OMhtqmtTxiJk5KV3BJyeYpFo1cIaj01Ito0w2R8QwVLHi4udN3GSfkmz\n",
       "cxEHqG7NipmjH3LMwi//Icc855fVMX/mmPl4y/L6lNH7fu3Y3vgBUrgiplwzs+tv/3pLs9jhi0B/\n",
       "3wC/T5+q43twy9+OlS/cNBq60L1Pe+hhVjmsKRXK+mmCDaURc8AgHcbBx2mIV6r3XtPJDpp0jH6a\n",
       "NeyOjrwcNvsJLg2hfTzmc3BZGZfuSUoSRnJAqwSPxXP5QquEnTfONkqlArADRXIx+Q3V3CJmEOtg\n",
       "UysXZZmRZVOhJCvJDg/I1okv4vkJ7oZtC+iNZtnMnddGPVQXuad5os3FrFaXn2KRaNXCGjtNiIIj\n",
       "TPYHRIA7p4yO1yzew0n6Jc3ORRw9GDkMVvPnHDP65Z86Znx/yTFf+WV1zHc4Zvfygg1Bb7uYfx7W\n",
       "4fJyyay1H3+M8jOaxMGsvwf9AwP8On2qjm/CnXj8n47RrIHt8nN3K50/4W57eQGq/+jPdE3+10H8\n",
       "P/u7Y+/S/A04L2YyH3HM0i+rY1bHLMnlS8lfdcBTvSS+UqVyfao/EXFcAjy98uK0/MXnD15PrZbZ\n",
       "db8O0vyzy3fv0vwNOMMf1Kr0y+qY1TE3EemgKlWqdG92lBOj3hNxmNWfXUic8San63w3lNL610E+\n",
       "WqGP0rs0fwfO8Ae1KvyyOmZ1zAcH+Q8kH1aq9AmSiU3TVO1R6ctoaJqmrkxX+i6ax2qDSpXuRPsp\n",
       "1tdN007/BzvbKlQbgte9AAAAAElFTkSuQmCC\n",
       "\" style=\"display:inline;vertical-align:middle;\" /></a><br>"
      ],
      "text/plain": [
       "scaledQubitStateInQubitSpace: forall_{x in Temporary_placeholder_for_undefined_proveit.number.sets.complex.Complexes^{2}} [forall_{alpha in Temporary_placeholder_for_undefined_proveit.number.sets.complex.Complexes} ((alpha * x) in Temporary_placeholder_for_undefined_proveit.number.sets.complex.Complexes^{2})]"
      ]
     },
     "execution_count": 8,
     "metadata": {},
     "output_type": "execute_result"
    }
   ],
   "source": [
    "scaledQubitStateInQubitSpace = Forall(\n",
    "        x,\n",
    "        Forall(alpha,\n",
    "               InSet(ScalarProd(alpha, x), QubitSpace),\n",
    "               domain=Complexes),\n",
    "        domain=QubitSpace)"
   ]
  },
  {
   "cell_type": "code",
   "execution_count": 9,
   "metadata": {},
   "outputs": [
    {
     "data": {
      "text/html": [
       "<strong id=\"transformedQubitStateInQubitSpace\"><a class=\"ProveItLink\" href=\"_proofs_/transformedQubitStateInQubitSpace.ipynb\">transformedQubitStateInQubitSpace</a>:</strong> <a class=\"ProveItLink\" href=\"__pv_it/8ba5b3e83e824fd92f63bfeee8218c023da652130/expr.ipynb\"><img src=\"data:image/png;base64,iVBORw0KGgoAAAANSUhEUgAABk8AAAAaCAMAAAApHDuzAAAAM1BMVEX////Ozs6IiIgiIiIQEBB2\n",
       "dnbu7u5UVFTMzMzc3NwyMjK6urpmZmaYmJiqqqpEREQAAACZvqi/AAAAAXRSTlMAQObYZgAAAAlw\n",
       "SFlzAAAOxAAADsQBlSsOGwAAERxJREFUeNrtXYuS9KgKzjFRczGX93/aFQTExPSke3p6e+vEqv13\n",
       "JoEPRAOKl2mau9zlLne5y12eKc5a791th7t8efFt2w6fFLhMt9HvcpfnSoD/2viPpQcmfrfLbZe7\n",
       "fFkZPyxvCfzThSg23O1zl7vEssVR2LD1TdOv8myeb7vc5f87njiRZy6MriZzN9Bd7hJjh6N40sxG\n",
       "xZMcXJY7uNzlW+LJ57rlyvgLTNwH324tPlq7bawEj5+Cjmvb1Xv4Z23bDwcf2+L3/YOCa9c+ZO3H\n",
       "LlwQFqz9Tfa8LoVBTXiF+6liXgeom/CbGrlxJvZCPzeDfS/ungf/17ocT4Ikj8d7Ln+Xb4knH+uW\n",
       "Q7ebp9iNRJv6pzg+9qIG1yiTv/GfHqHN2yUDhx9YtwsTNev77nfZ8ooUAW3tC9zPlSTCvbZUN74U\n",
       "jNxb1gWvNLLpjMMhUju/ufMUUZ0CifE5nvT887Deruwu3xJPPtYtA3uuQF/eyJ9VqAeO+bErQb2H\n",
       "DYnmTy/0h0u5wqorVqzTdmHi0S3T+qvdPTUp10Ev6XihLNtLbK9FsxeFPd3IbuUZQ9iGN3cePRTj\n",
       "tnLcGLB+wuMte6/N3+Vr4snHuiXPRhqep2yrjgw1T1p6MrO2sfC3OMxpqIdam09vp7yUYKu7YsVq\n",
       "21dBXsiVvAhq35RwCi+t1r1Y+zB+ppFH6aJT9+bOo8NJ/ED6FK7GOccTXpMfm7vc5WviyYe6Zc+e\n",
       "YRrZVdBn5c5SLqNOIUxjGTRSdPIJ9dMjtOFSBrzqijXrlWTO7/15RcoToGN4j8la+wrXi7V/TdjT\n",
       "jWzz7KkPb+48enbS9z3N4cOa40nTwfiq7Wxzl7t8TTz5ULc07Bk472X5s1LJKmeMd72lqZJVE5eh\n",
       "vpqil2udNQY+u8n6YbDGm6a3ZgXwya5Db9KCSxOpfHzY27UZgk0hK/5gBghv+akzAR64rINC4Qy4\n",
       "8CVc2ys1wBUvs1kHeQ1imRU4++SOmKHQiMrsu9aHAuFIRqo2vqj8iRQNSowlTyZU3HsLFEqQYoTW\n",
       "FuLSw8mv2+qNwGR5dd254ZrRR5gfrASGd4pECZNXTdlGrPLDrkItJfYoOycGhtz7XN88iXsCrNqJ\n",
       "tO82KPQVdSqeBJS53kcd7/JN8eQz3dKPu1lHyxkCNbILsORo0umt+NGoKVN9swAtnyQv1cIWfQvH\n",
       "vtbVQK4ZAtUCUmzjwctFT9QMLXi+bWhMs8bIZruUrIjoK0x18lObWNXaqULxa1PyRdwljR5FjSgF\n",
       "lPZpnYfFEqviFAatkUoTkheuKs5Wy6pK5YcTKRrUpjRNySOEivtgAaWEKEYW63zZGCkTpFc0tLyq\n",
       "7tJw0YQu0Z1baY0vplBozsLkFZuQ2kip/KCrUEsJatk5cUS0S1w9g3sCrNppp32R/8N4Anmw9M9d\n",
       "HhQ3fDfef7IsxvqpHk8udMtuPbXhvBLnkklq+eGVV0voaK/bWGKWPEcIEz9H2q61tAdd98I3NVgE\n",
       "JjM1/RTVxQeWHNWwxHEu/ZwyIa11c9O2NFlyHY724q/5aeTBJLyXXQoapcMaZj7CjY9FDfBqvQCw\n",
       "WGIlzlHrrTWqJEdqihPJTKrGf3Ll+7oUDUp1LHgyoeI+WEArwYqxxWA3uKDwQ42j5dV154aLJnQp\n",
       "+p1baQA62HeuqkjC5JXOgoH9WeXHXQVbKqPuOicA7BNXT+CeAKtK7LWnrHGvktQwBrSnW1HmNljf\n",
       "BRv+8DC98492Psz7lSJFHroHWT8XwvM7NveIDGLNZZZrOVhzPsA9yfWPT+x1enWb7eOmiCMWOCJw\n",
       "4eTBDzgcEcCD1+OJ6pa93/DTXNtyXOQ5UWHMbPodmZesldw0VEkmjxw2uvQBLBv1mCE3NzTuqhxP\n",
       "VrhPSblYipbxefS8bsZYqAUMaCfxReDOHW0TspsLiWHzg2tYgSY9BGeQnzr67jvRTqH0aTNP5qMf\n",
       "tRrs1RBAxDaJVXEKg9ZIjQM2reNO8eagKlcevXFNigZ1aaJS8GRCxX2wwP+yEqIYqzEtRWPQXEjh\n",
       "aHk13XPDJRO66JXPrTTErjjsLE/C5FWhaaHyg66SWiqj7jonKK3mbu5J3BNgVYmd9lzbScWTxdQG\n",
       "Wr3xK+TYJLf2l7sfl4fLrgd3ncmHR17Lz9Pzjn6PeAFkeHkfoHuK09s/Ar7aFFMaU6zdr5uULQc+\n",
       "+SSeqG5Jnmaaip5JIWMx7OQLMt/wOoPcNDQd7ScRiuKJLJ/YoZrfaYo9M64e4NXyyeZ3Pli5c0oT\n",
       "RGvisDF2I6O3DuHD5AHUU/yp10NQQaEstuLr1qMa6NXSVCCLTayKUzHUNjPxgnRV8YKRJh2p8uiN\n",
       "61IUKDk8zZMJtVUOFshKHBQz+8ZwBxwlr6K7ajjcDDBFT/zASnbbcBqQSUQYv9Kalio/6CqppUrD\n",
       "lQmuNn/6S/8k7gmwflpqX1aNNtGM6si8hM2Uv04bINHG8x8maMIjTzl05+Tm0ZB9e0XjPeIFELP+\n",
       "hfO+EFffBXyxKRbah7iE3zapzjid5Lt0t6RMgS16JseTTn4uyPAlHouUm4YqZxFlfjLSYvt2SHel\n",
       "zy72AucO+a72p+UT9emlpRp05wDnyIG6LbhEZTFz38o3avNCSc6OYx1Nt3fDEaVZPYAqPifSsxrp\n",
       "0yceEYusWqLSO1QqSdnEquIlI1UgVT6O4d2JlAwqjZJ5MmFhlYMFRImjYrYUl0RMG43h9/IququG\n",
       "w6kIDPsfWmnCRZ5MooRNef1H2kirfN5VqJELw+nO2RRnTuyzuCfAZTtN637oMBT5rsYu/KEZEwYb\n",
       "IHM25xEk5+yatMwPe4zDDLsCIpXHC1yCmdNPjY3zInA4yxKRGhdmAwM9/r2Z8Cglu9/MBytGQg0o\n",
       "4ElIWDN7Rif4RI70eCUGEYoU8n6+4x05hVJkFNEkVSbUEDNIItekRCEsRYWyrCQb2VF14sMHg21H\n",
       "y9uJBHqvmZi539JOjGp1o8kWgRdgeiokRjQ6bcLUFFQ76Q+p1xBWvzSv4ohhWbNwiJEST3K3pEwB\n",
       "/mvmXb4rJRqGHVl6iR95vmnoeJhF4slq9NC48YOahEyN3wS3mdXowZjHyyesEjzorLjz+F0PC41z\n",
       "Tce5ks7qDIxDlHXEFaCcl0Gnu+pop1FMyUc5mEmpkXxkFDVrsciqOZXetV2unG+rKV7Gh3VF+3e8\n",
       "IG1PpChQoLCN5smEhVUOFshKKMVQDRypZ3Ekwo56gU3JO+quG27jdZxTK6Wp1uY0CQnLr7SmsY2U\n",
       "yo+7ilGo+87JM5GkhduZ4kfcE2BViZ32nAIedDwZOuqfZoCpyLjsJvKy+uZgmd9D6gusCVzJzU6R\n",
       "oAdJ44S3TMT3JsIAOW7wp99BufirZDiED7MzQg2uKNKwMIyq6Ug/wadkTqLvC60MjzP1h18qJaGb\n",
       "NaHKDBXEDGId1UORAoWwlBUSWSQbpS0+8yU8pW2GPmjGZjatg1uHqtWNA/FewdNzekquDa2qrFFt\n",
       "QmkKgJH+kHxsMQR7CUf0Y81il7dn8US6JU2nndmlmNJrs21pfVCTpZfDWH7gx4mVLGzzLmD8wAbf\n",
       "6zRI70KXMvBoVB1Dxsqioh6+4WYwB5GU7s7DrjtaqLWDo5M9TDoDeq+gMtFAZHDxsrHFUyCddK4+\n",
       "o2wTVl3xBaxvHFlkNVKFoy5Wi02silPrPVVmYH3W5qB4oWpHFcBwPkKSoypFg8aB/DCXPJlQcR8t\n",
       "kJXIiqEfT9dYZRQS4T32FreNTSnvqLtuOFiiRuyKlRIWjjCXkoSE5VeJVNpI2/K8q6SWEtSicyZA\n",
       "XgNcaJXzGdwT4NL8x8+o2N/VpD1g+DuO02BDWLndXJIAPrZMHP463LYPJgy4XIiD7Y1Uh03OoECP\n",
       "pgIXxr9HyqnN6aHMt7Bh0Y3C3jnXs7CU2sbsCcFTMgfpN6UVS8kpu2zPrBTLXkgTrow7ImaQRK5I\n",
       "mUJYigqJLJaN9cauyBZcykCfoY+acfXX1JGq1V3H2WnFEzA9TRVJVhWNTpoQbcsw0h/S+C3snMXz\n",
       "OKIfaTZu29aexRPplrQugmNM3TM53CwBE7yaLL2cOFrQTUPTITEpmaOJ1bCrLyJG/I7iLGQJMtEr\n",
       "LmFyfp2KwZr1sU75UENj4oTMZAFpcrsEA7P2bTI0wbTWpBvLJnV2wBvbD970u6eRFIeDWyoZZU4p\n",
       "RsUHuAYPXIoaKfTatBtExCZWzbnTu8kCG73NtqY404Gqi67AsIIRq1IK0BXnoJonEypulpMtoJQQ\n",
       "xaBjsp/L4pKICD7LKloh76C7brjYI9Lpk5qVECtO2WkenklImHqVFu+kjXa2rHcVamRGLTsnrQa6\n",
       "sHqfb8B7BvcEWCqhtNcBQp8/2S0X9CmSr1iWchDXRXz8euB7Qd9PC7Qm7WfGy9xWyyvH4GXSxEJW\n",
       "kuGH/LExH9ZFqOmeORY2iByGDxl9LbQqh7p0pGCnlDgjw5rAv7jIekTM5xLWkpQphKWsEMsS2Zj0\n",
       "mhQy4unrEAR6p1k2M8ZVX69u320wt+F3BExPsyraGvUmRNuq+quVX9lUtLyMIw+0ZqfxpFgzoCm9\n",
       "7pmet7CkkF4sn+DLhSIO3zTUH+JJXkZtLy5ODbv4N9lV3bfy1ErVq2fM7fgOlN8sd/pvAg3/3mW/\n",
       "HzN4+9W43HTHeAIf5qCOGJWORJwLzJBwCL3h6BV+haOtuH4DRLhbBk/8rDMs6HRTTrqoZWXmayen\n",
       "qCkZJweVRQ7DAznRG6Dvyz06u+XrUqn8FjUZiC66v76CKCBuc70iZYrMUlaIZYlsqLdRlUp4MXzK\n",
       "MRSB3mmWzQyuL7rxWnWHOK+BqSi/S8D8VO8ryNaoNyHaNtef+gPPThtej3gRhx8Umv0cT3zOY+me\n",
       "iVOQJQWMHVl6SfFDbhqqbCQQI84Xr6YIb7s0uH3hzhCIma642LcNH/ZtMUiPyzeBftwCny9/VcU3\n",
       "4er7u/TQq8OhD+ZWXCVb2uCo0NAGWRiYRl+PGcbouyCjgNlxKxto4wi036ZZb6iNFNOWgROf2wBU\n",
       "qEfcgSLCshyCT+SJvp93Wum0qpOBp1JKHMkAg1Nma6elPyJmkGVsrCZlCmEpKiSyWDb8MEzKggkv\n",
       "GExiph2cDL3TTFXfYWzdVdfxBgVYgOd3CZifIglZtbDGsQmTbQkm9weXDtih78VExYs4rB9rdi2e\n",
       "4Dyd79NSPdNLEPHDnkytx+ebhirL53kb2nppN+D77jt2r1xSC0exinm22z59S1i7uvGbQD9vgY+X\n",
       "v6rim3CL+4WLZPA82XS1zLDKn9ex48YJZRfmGVJ9Ey75wjKUh1/nkS53GYJJu6HSSHYK82IgXT7J\n",
       "VHYJMxySSYlP4fNw9FKohySFhSU5oBXDI3mmL7Ri7JzS3CnFBJAbTHJxrRvV3CNmEOch3ZhJRSax\n",
       "7CrEslh2fJBszXyEF2a4x6AroHeaZTP3Af8kx666yD0vc0r7ZrX6/BRJyKqFNSpNiIIJJvcHRICj\n",
       "ndbQ/Yev4bB+rNm1eBJHrzZvOJSemeJJD/vMhgNZiicYI/JNQ5WQkY+/uEuR4m0XwCzjNj4/1VmM\n",
       "CdOvUX5VZrWH8gtA/wULfLr8VRXfhTurv39yGnMsZKmvHWEMl8/ZuUEf1g9/etnfHD4OEv6zl2q+\n",
       "S/M34Pw0Ts0982HCPR0wKNSpRgyf70a58G3N9y05d7nLbnI5/BxPnsK7PGvyRi4Gf4rv+bIuvv84\n",
       "SPufnXm/S/M34FzPe/wcT5pi1Fu9Jsbdf6jhLnf51dyyeWs8sVu4mgRYZvVXVJ/ge0EpYz4O8qcV\n",
       "+tPyLs3fgfPWeKJjyMmFQUu4XcJd7vJqUSuK83yb4y5fVsa2vfh3ttdH9wvzSKC8HK8aUKbb6He5\n",
       "y6tjSL5bpW27+R9KTeUo6CdfMQAAAABJRU5ErkJggg==\n",
       "\" style=\"display:inline;vertical-align:middle;\" /></a><br>"
      ],
      "text/plain": [
       "transformedQubitStateInQubitSpace: forall_{x in Temporary_placeholder_for_undefined_proveit.number.sets.complex.Complexes^{2}} [forall_{U in [SU](2)} ((U . x) in Temporary_placeholder_for_undefined_proveit.number.sets.complex.Complexes^{2})]"
      ]
     },
     "execution_count": 9,
     "metadata": {},
     "output_type": "execute_result"
    }
   ],
   "source": [
    "transformedQubitStateInQubitSpace = Forall(\n",
    "        x,\n",
    "        Forall(U,\n",
    "               InSet(MatrixProd(U, x), QubitSpace),\n",
    "               domain=SU(two)),\n",
    "        domain=QubitSpace)"
   ]
  },
  {
   "cell_type": "code",
   "execution_count": 10,
   "metadata": {},
   "outputs": [
    {
     "name": "stdout",
     "output_type": "stream",
     "text": [
      "operands\n",
      "MULTI_QUBIT_GATE\n",
      "(U, {_b})\n",
      "styles\n",
      "MULTI_QUBIT_GATE\n",
      "(U, {_b})\n"
     ]
    },
    {
     "ename": "AssertionError",
     "evalue": "(MULTI_QUBIT_GATE, ()) vs (MULTI_QUBIT_GATE, (U, {_b}))",
     "output_type": "error",
     "traceback": [
      "\u001b[1;31m---------------------------------------------------------------------------\u001b[0m",
      "\u001b[1;31mAssertionError\u001b[0m                            Traceback (most recent call last)",
      "\u001b[1;32m<ipython-input-10-58bbc1fcf968>\u001b[0m in \u001b[0;36m<module>\u001b[1;34m\u001b[0m\n\u001b[1;32m----> 1\u001b[1;33m \u001b[0munary_multiQubitGate_reduction\u001b[0m \u001b[1;33m=\u001b[0m \u001b[0mForall\u001b[0m\u001b[1;33m(\u001b[0m\u001b[0mU\u001b[0m\u001b[1;33m,\u001b[0m \u001b[0mForall\u001b[0m\u001b[1;33m(\u001b[0m\u001b[0mA\u001b[0m\u001b[1;33m,\u001b[0m \u001b[0mEquals\u001b[0m\u001b[1;33m(\u001b[0m\u001b[0mMultiQubitGate\u001b[0m\u001b[1;33m(\u001b[0m\u001b[0mU\u001b[0m\u001b[1;33m,\u001b[0m \u001b[0mSet\u001b[0m\u001b[1;33m(\u001b[0m\u001b[0mA\u001b[0m\u001b[1;33m)\u001b[0m\u001b[1;33m)\u001b[0m\u001b[1;33m,\u001b[0m \u001b[0mGate\u001b[0m\u001b[1;33m(\u001b[0m\u001b[0mU\u001b[0m\u001b[1;33m)\u001b[0m\u001b[1;33m)\u001b[0m\u001b[1;33m,\u001b[0m \u001b[0mdomain\u001b[0m\u001b[1;33m=\u001b[0m\u001b[0mNaturalsPos\u001b[0m\u001b[1;33m)\u001b[0m\u001b[1;33m)\u001b[0m\u001b[1;33m\u001b[0m\u001b[1;33m\u001b[0m\u001b[0m\n\u001b[0m\u001b[0;32m      2\u001b[0m \u001b[0mproveit\u001b[0m\u001b[1;33m.\u001b[0m\u001b[0mmagics\u001b[0m\u001b[1;33m.\u001b[0m\u001b[0mAssignments\u001b[0m\u001b[1;33m(\u001b[0m\u001b[1;33m[\u001b[0m\u001b[1;34m'unary_multiQubitGate_reduction'\u001b[0m\u001b[1;33m]\u001b[0m\u001b[1;33m,\u001b[0m \u001b[1;33m[\u001b[0m\u001b[0munary_multiQubitGate_reduction\u001b[0m\u001b[1;33m]\u001b[0m\u001b[1;33m)\u001b[0m\u001b[1;33m\u001b[0m\u001b[1;33m\u001b[0m\u001b[0m\n",
      "\u001b[1;32mc:\\users\\joaqu\\prove-it\\packages\\proveit\\logic\\boolean\\quantification\\universal\\forall.py\u001b[0m in \u001b[0;36m__init__\u001b[1;34m(self, instanceParamOrParams, instanceExpr, domain, domains, condition, conditions, _lambda_map)\u001b[0m\n\u001b[0;32m     26\u001b[0m                 \u001b[0mcondition\u001b[0m\u001b[1;33m=\u001b[0m\u001b[0mcondition\u001b[0m\u001b[1;33m,\u001b[0m \u001b[0mconditions\u001b[0m\u001b[1;33m=\u001b[0m\u001b[0mconditions\u001b[0m\u001b[1;33m,\u001b[0m\u001b[1;33m\u001b[0m\u001b[1;33m\u001b[0m\u001b[0m\n\u001b[0;32m     27\u001b[0m                 \u001b[1;31m#nestMultiIvars=True, _lambda_map=_lambda_map)\u001b[0m\u001b[1;33m\u001b[0m\u001b[1;33m\u001b[0m\u001b[1;33m\u001b[0m\u001b[0m\n\u001b[1;32m---> 28\u001b[1;33m                 nestMultiIvars=False, _lambda_map=_lambda_map)\n\u001b[0m\u001b[0;32m     29\u001b[0m \u001b[1;33m\u001b[0m\u001b[0m\n\u001b[0;32m     30\u001b[0m     \u001b[1;32mdef\u001b[0m \u001b[0msideEffects\u001b[0m\u001b[1;33m(\u001b[0m\u001b[0mself\u001b[0m\u001b[1;33m,\u001b[0m \u001b[0mknownTruth\u001b[0m\u001b[1;33m)\u001b[0m\u001b[1;33m:\u001b[0m\u001b[1;33m\u001b[0m\u001b[1;33m\u001b[0m\u001b[0m\n",
      "\u001b[1;32mc:\\users\\joaqu\\prove-it\\packages\\proveit\\_core_\\expression\\operation\\operation_over_instances.py\u001b[0m in \u001b[0;36m__init__\u001b[1;34m(self, operator, instanceParamOrParams, instanceExpr, domain, domains, condition, conditions, nestMultiIvars, styles, _lambda_map)\u001b[0m\n\u001b[0;32m    264\u001b[0m             lambda_map = OperationOverInstances._createOperand(instanceParamOrParams, \n\u001b[0;32m    265\u001b[0m                                                                \u001b[0minstanceExpr\u001b[0m\u001b[1;33m,\u001b[0m\u001b[1;33m\u001b[0m\u001b[1;33m\u001b[0m\u001b[0m\n\u001b[1;32m--> 266\u001b[1;33m                                                                conditions)\n\u001b[0m\u001b[0;32m    267\u001b[0m \u001b[1;33m\u001b[0m\u001b[0m\n\u001b[0;32m    268\u001b[0m         \u001b[0mself\u001b[0m\u001b[1;33m.\u001b[0m\u001b[0minstanceExpr\u001b[0m \u001b[1;33m=\u001b[0m \u001b[0minstanceExpr\u001b[0m\u001b[1;33m\u001b[0m\u001b[1;33m\u001b[0m\u001b[0m\n",
      "\u001b[1;32mc:\\users\\joaqu\\prove-it\\packages\\proveit\\_core_\\expression\\operation\\operation_over_instances.py\u001b[0m in \u001b[0;36m_createOperand\u001b[1;34m(instanceParamOrParams, instanceExpr, conditions)\u001b[0m\n\u001b[0;32m    311\u001b[0m         \u001b[1;32melse\u001b[0m\u001b[1;33m:\u001b[0m\u001b[1;33m\u001b[0m\u001b[1;33m\u001b[0m\u001b[0m\n\u001b[0;32m    312\u001b[0m             \u001b[0mconditional\u001b[0m \u001b[1;33m=\u001b[0m  \u001b[0mConditional\u001b[0m\u001b[1;33m(\u001b[0m\u001b[0minstanceExpr\u001b[0m\u001b[1;33m,\u001b[0m \u001b[0mconditions\u001b[0m\u001b[1;33m)\u001b[0m\u001b[1;33m\u001b[0m\u001b[1;33m\u001b[0m\u001b[0m\n\u001b[1;32m--> 313\u001b[1;33m             \u001b[1;32mreturn\u001b[0m \u001b[0mLambda\u001b[0m\u001b[1;33m(\u001b[0m\u001b[0minstanceParamOrParams\u001b[0m\u001b[1;33m,\u001b[0m \u001b[0mconditional\u001b[0m\u001b[1;33m)\u001b[0m\u001b[1;33m\u001b[0m\u001b[1;33m\u001b[0m\u001b[0m\n\u001b[0m\u001b[0;32m    314\u001b[0m \u001b[1;33m\u001b[0m\u001b[0m\n\u001b[0;32m    315\u001b[0m     \u001b[1;32mdef\u001b[0m \u001b[0mextractMyInitArgValue\u001b[0m\u001b[1;33m(\u001b[0m\u001b[0mself\u001b[0m\u001b[1;33m,\u001b[0m \u001b[0margName\u001b[0m\u001b[1;33m)\u001b[0m\u001b[1;33m:\u001b[0m\u001b[1;33m\u001b[0m\u001b[1;33m\u001b[0m\u001b[0m\n",
      "\u001b[1;32mc:\\users\\joaqu\\prove-it\\packages\\proveit\\_core_\\expression\\lambda_expr\\lambda_expr.py\u001b[0m in \u001b[0;36m__init__\u001b[1;34m(self, parameter_or_parameters, body, _generic_expr)\u001b[0m\n\u001b[0;32m    171\u001b[0m             \u001b[1;32mtry\u001b[0m\u001b[1;33m:\u001b[0m\u001b[1;33m\u001b[0m\u001b[1;33m\u001b[0m\u001b[0m\n\u001b[0;32m    172\u001b[0m                 \u001b[0mdefaults\u001b[0m\u001b[1;33m.\u001b[0m\u001b[0mautomation\u001b[0m \u001b[1;33m=\u001b[0m \u001b[1;32mFalse\u001b[0m\u001b[1;33m\u001b[0m\u001b[1;33m\u001b[0m\u001b[0m\n\u001b[1;32m--> 173\u001b[1;33m                 \u001b[0mgenericExpr\u001b[0m \u001b[1;33m=\u001b[0m \u001b[0mself\u001b[0m\u001b[1;33m.\u001b[0m\u001b[0m_generic_version\u001b[0m\u001b[1;33m(\u001b[0m\u001b[1;33m)\u001b[0m\u001b[1;33m\u001b[0m\u001b[1;33m\u001b[0m\u001b[0m\n\u001b[0m\u001b[0;32m    174\u001b[0m             \u001b[1;32mfinally\u001b[0m\u001b[1;33m:\u001b[0m\u001b[1;33m\u001b[0m\u001b[1;33m\u001b[0m\u001b[0m\n\u001b[0;32m    175\u001b[0m                 \u001b[0mdefaults\u001b[0m\u001b[1;33m.\u001b[0m\u001b[0mautomation\u001b[0m \u001b[1;33m=\u001b[0m \u001b[0mprev_automation\u001b[0m\u001b[1;33m\u001b[0m\u001b[1;33m\u001b[0m\u001b[0m\n",
      "\u001b[1;32mc:\\users\\joaqu\\prove-it\\packages\\proveit\\_core_\\expression\\lambda_expr\\lambda_expr.py\u001b[0m in \u001b[0;36m_generic_version\u001b[1;34m(self)\u001b[0m\n\u001b[0;32m    268\u001b[0m                 \u001b[0mgeneric_body\u001b[0m \u001b[1;33m=\u001b[0m \u001b[0mself\u001b[0m\u001b[1;33m.\u001b[0m\u001b[0mbody\u001b[0m\u001b[1;33m.\u001b[0m\u001b[0m_generic_version\u001b[0m\u001b[1;33m(\u001b[0m\u001b[1;33m)\u001b[0m\u001b[1;33m\u001b[0m\u001b[1;33m\u001b[0m\u001b[0m\n\u001b[0;32m    269\u001b[0m                 generic_body = generic_body.replaced(\n\u001b[1;32m--> 270\u001b[1;33m                         relabel_map, assumptions=tuple())\n\u001b[0m\u001b[0;32m    271\u001b[0m                 \u001b[0mgeneric_body\u001b[0m \u001b[1;33m=\u001b[0m \u001b[0mgeneric_body\u001b[0m\u001b[1;33m.\u001b[0m\u001b[0m_generic_version\u001b[0m\u001b[1;33m(\u001b[0m\u001b[1;33m)\u001b[0m\u001b[1;33m\u001b[0m\u001b[1;33m\u001b[0m\u001b[0m\n\u001b[0;32m    272\u001b[0m                 \u001b[1;32mreturn\u001b[0m \u001b[0mLambda\u001b[0m\u001b[1;33m(\u001b[0m\u001b[0mgeneric_parameters\u001b[0m\u001b[1;33m,\u001b[0m \u001b[0mgeneric_body\u001b[0m\u001b[1;33m)\u001b[0m\u001b[1;33m\u001b[0m\u001b[1;33m\u001b[0m\u001b[0m\n",
      "\u001b[1;32mc:\\users\\joaqu\\prove-it\\packages\\proveit\\_core_\\expression\\expr.py\u001b[0m in \u001b[0;36mreplaced\u001b[1;34m(self, repl_map, allow_relabeling, assumptions, requirements, equality_repl_requirements)\u001b[0m\n\u001b[0;32m    748\u001b[0m                 \u001b[0mrepl_map\u001b[0m\u001b[1;33m,\u001b[0m \u001b[0mallow_relabeling\u001b[0m\u001b[1;33m=\u001b[0m\u001b[0mallow_relabeling\u001b[0m\u001b[1;33m,\u001b[0m\u001b[1;33m\u001b[0m\u001b[1;33m\u001b[0m\u001b[0m\n\u001b[0;32m    749\u001b[0m                 \u001b[0massumptions\u001b[0m\u001b[1;33m=\u001b[0m\u001b[0massumptions\u001b[0m\u001b[1;33m,\u001b[0m \u001b[0mrequirements\u001b[0m\u001b[1;33m=\u001b[0m\u001b[0mrequirements\u001b[0m\u001b[1;33m,\u001b[0m\u001b[1;33m\u001b[0m\u001b[1;33m\u001b[0m\u001b[0m\n\u001b[1;32m--> 750\u001b[1;33m                 equality_repl_requirements=equality_repl_requirements)\\\n\u001b[0m\u001b[0;32m    751\u001b[0m                     ._auto_reduced(\n\u001b[0;32m    752\u001b[0m                             \u001b[0massumptions\u001b[0m\u001b[1;33m=\u001b[0m\u001b[0massumptions\u001b[0m\u001b[1;33m,\u001b[0m \u001b[0mrequirements\u001b[0m\u001b[1;33m=\u001b[0m\u001b[0mrequirements\u001b[0m\u001b[1;33m,\u001b[0m\u001b[1;33m\u001b[0m\u001b[1;33m\u001b[0m\u001b[0m\n",
      "\u001b[1;32mc:\\users\\joaqu\\prove-it\\packages\\proveit\\_core_\\expression\\conditional\\conditional.py\u001b[0m in \u001b[0;36m_replaced\u001b[1;34m(self, repl_map, allow_relabeling, assumptions, requirements, equality_repl_requirements)\u001b[0m\n\u001b[0;32m    166\u001b[0m                                     \u001b[0massumptions\u001b[0m\u001b[1;33m+\u001b[0m\u001b[1;33m(\u001b[0m\u001b[0msubbed_cond\u001b[0m\u001b[1;33m,\u001b[0m\u001b[1;33m)\u001b[0m\u001b[1;33m,\u001b[0m\u001b[1;33m\u001b[0m\u001b[1;33m\u001b[0m\u001b[0m\n\u001b[0;32m    167\u001b[0m                                     \u001b[0mrequirements\u001b[0m\u001b[1;33m,\u001b[0m\u001b[1;33m\u001b[0m\u001b[1;33m\u001b[0m\u001b[0m\n\u001b[1;32m--> 168\u001b[1;33m                                     equality_repl_requirements)\n\u001b[0m\u001b[0;32m    169\u001b[0m \u001b[1;33m\u001b[0m\u001b[0m\n\u001b[0;32m    170\u001b[0m         \u001b[1;32mreturn\u001b[0m \u001b[0mConditional\u001b[0m\u001b[1;33m(\u001b[0m\u001b[0msubbed_val\u001b[0m\u001b[1;33m,\u001b[0m \u001b[0msubbed_cond\u001b[0m\u001b[1;33m)\u001b[0m\u001b[1;33m\u001b[0m\u001b[1;33m\u001b[0m\u001b[0m\n",
      "\u001b[1;32mc:\\users\\joaqu\\prove-it\\packages\\proveit\\_core_\\expression\\expr.py\u001b[0m in \u001b[0;36mreplaced\u001b[1;34m(self, repl_map, allow_relabeling, assumptions, requirements, equality_repl_requirements)\u001b[0m\n\u001b[0;32m    748\u001b[0m                 \u001b[0mrepl_map\u001b[0m\u001b[1;33m,\u001b[0m \u001b[0mallow_relabeling\u001b[0m\u001b[1;33m=\u001b[0m\u001b[0mallow_relabeling\u001b[0m\u001b[1;33m,\u001b[0m\u001b[1;33m\u001b[0m\u001b[1;33m\u001b[0m\u001b[0m\n\u001b[0;32m    749\u001b[0m                 \u001b[0massumptions\u001b[0m\u001b[1;33m=\u001b[0m\u001b[0massumptions\u001b[0m\u001b[1;33m,\u001b[0m \u001b[0mrequirements\u001b[0m\u001b[1;33m=\u001b[0m\u001b[0mrequirements\u001b[0m\u001b[1;33m,\u001b[0m\u001b[1;33m\u001b[0m\u001b[1;33m\u001b[0m\u001b[0m\n\u001b[1;32m--> 750\u001b[1;33m                 equality_repl_requirements=equality_repl_requirements)\\\n\u001b[0m\u001b[0;32m    751\u001b[0m                     ._auto_reduced(\n\u001b[0;32m    752\u001b[0m                             \u001b[0massumptions\u001b[0m\u001b[1;33m=\u001b[0m\u001b[0massumptions\u001b[0m\u001b[1;33m,\u001b[0m \u001b[0mrequirements\u001b[0m\u001b[1;33m=\u001b[0m\u001b[0mrequirements\u001b[0m\u001b[1;33m,\u001b[0m\u001b[1;33m\u001b[0m\u001b[1;33m\u001b[0m\u001b[0m\n",
      "\u001b[1;32mc:\\users\\joaqu\\prove-it\\packages\\proveit\\_core_\\expression\\operation\\operation.py\u001b[0m in \u001b[0;36m_replaced\u001b[1;34m(self, repl_map, allow_relabeling, assumptions, requirements, equality_repl_requirements)\u001b[0m\n\u001b[0;32m    452\u001b[0m             self.operand_or_operands.replaced(repl_map, allow_relabeling,\n\u001b[0;32m    453\u001b[0m                                               \u001b[0massumptions\u001b[0m\u001b[1;33m,\u001b[0m \u001b[0mrequirements\u001b[0m\u001b[1;33m,\u001b[0m\u001b[1;33m\u001b[0m\u001b[1;33m\u001b[0m\u001b[0m\n\u001b[1;32m--> 454\u001b[1;33m                                               equality_repl_requirements)\n\u001b[0m\u001b[0;32m    455\u001b[0m         \u001b[0msubbed_operators\u001b[0m \u001b[1;33m=\u001b[0m \u001b[0mcompositeExpression\u001b[0m\u001b[1;33m(\u001b[0m\u001b[0msubbed_operator_or_operators\u001b[0m\u001b[1;33m)\u001b[0m\u001b[1;33m\u001b[0m\u001b[1;33m\u001b[0m\u001b[0m\n\u001b[0;32m    456\u001b[0m \u001b[1;33m\u001b[0m\u001b[0m\n",
      "\u001b[1;32mc:\\users\\joaqu\\prove-it\\packages\\proveit\\_core_\\expression\\expr.py\u001b[0m in \u001b[0;36mreplaced\u001b[1;34m(self, repl_map, allow_relabeling, assumptions, requirements, equality_repl_requirements)\u001b[0m\n\u001b[0;32m    748\u001b[0m                 \u001b[0mrepl_map\u001b[0m\u001b[1;33m,\u001b[0m \u001b[0mallow_relabeling\u001b[0m\u001b[1;33m=\u001b[0m\u001b[0mallow_relabeling\u001b[0m\u001b[1;33m,\u001b[0m\u001b[1;33m\u001b[0m\u001b[1;33m\u001b[0m\u001b[0m\n\u001b[0;32m    749\u001b[0m                 \u001b[0massumptions\u001b[0m\u001b[1;33m=\u001b[0m\u001b[0massumptions\u001b[0m\u001b[1;33m,\u001b[0m \u001b[0mrequirements\u001b[0m\u001b[1;33m=\u001b[0m\u001b[0mrequirements\u001b[0m\u001b[1;33m,\u001b[0m\u001b[1;33m\u001b[0m\u001b[1;33m\u001b[0m\u001b[0m\n\u001b[1;32m--> 750\u001b[1;33m                 equality_repl_requirements=equality_repl_requirements)\\\n\u001b[0m\u001b[0;32m    751\u001b[0m                     ._auto_reduced(\n\u001b[0;32m    752\u001b[0m                             \u001b[0massumptions\u001b[0m\u001b[1;33m=\u001b[0m\u001b[0massumptions\u001b[0m\u001b[1;33m,\u001b[0m \u001b[0mrequirements\u001b[0m\u001b[1;33m=\u001b[0m\u001b[0mrequirements\u001b[0m\u001b[1;33m,\u001b[0m\u001b[1;33m\u001b[0m\u001b[1;33m\u001b[0m\u001b[0m\n",
      "\u001b[1;32mc:\\users\\joaqu\\prove-it\\packages\\proveit\\_core_\\expression\\composite\\expr_tuple.py\u001b[0m in \u001b[0;36m_replaced\u001b[1;34m(self, repl_map, allow_relabeling, assumptions, requirements, equality_repl_requirements)\u001b[0m\n\u001b[0;32m    327\u001b[0m                 subbed_expr = expr.replaced(repl_map, allow_relabeling, \n\u001b[0;32m    328\u001b[0m                                             \u001b[0massumptions\u001b[0m\u001b[1;33m,\u001b[0m \u001b[0mrequirements\u001b[0m\u001b[1;33m,\u001b[0m\u001b[1;33m\u001b[0m\u001b[1;33m\u001b[0m\u001b[0m\n\u001b[1;32m--> 329\u001b[1;33m                                             equality_repl_requirements)\n\u001b[0m\u001b[0;32m    330\u001b[0m                 \u001b[0msubbed_exprs\u001b[0m\u001b[1;33m.\u001b[0m\u001b[0mappend\u001b[0m\u001b[1;33m(\u001b[0m\u001b[0msubbed_expr\u001b[0m\u001b[1;33m)\u001b[0m\u001b[1;33m\u001b[0m\u001b[1;33m\u001b[0m\u001b[0m\n\u001b[0;32m    331\u001b[0m         \u001b[1;32mreturn\u001b[0m \u001b[0mExprTuple\u001b[0m\u001b[1;33m(\u001b[0m\u001b[1;33m*\u001b[0m\u001b[0msubbed_exprs\u001b[0m\u001b[1;33m)\u001b[0m\u001b[1;33m\u001b[0m\u001b[1;33m\u001b[0m\u001b[0m\n",
      "\u001b[1;32mc:\\users\\joaqu\\prove-it\\packages\\proveit\\_core_\\expression\\expr.py\u001b[0m in \u001b[0;36mreplaced\u001b[1;34m(self, repl_map, allow_relabeling, assumptions, requirements, equality_repl_requirements)\u001b[0m\n\u001b[0;32m    748\u001b[0m                 \u001b[0mrepl_map\u001b[0m\u001b[1;33m,\u001b[0m \u001b[0mallow_relabeling\u001b[0m\u001b[1;33m=\u001b[0m\u001b[0mallow_relabeling\u001b[0m\u001b[1;33m,\u001b[0m\u001b[1;33m\u001b[0m\u001b[1;33m\u001b[0m\u001b[0m\n\u001b[0;32m    749\u001b[0m                 \u001b[0massumptions\u001b[0m\u001b[1;33m=\u001b[0m\u001b[0massumptions\u001b[0m\u001b[1;33m,\u001b[0m \u001b[0mrequirements\u001b[0m\u001b[1;33m=\u001b[0m\u001b[0mrequirements\u001b[0m\u001b[1;33m,\u001b[0m\u001b[1;33m\u001b[0m\u001b[1;33m\u001b[0m\u001b[0m\n\u001b[1;32m--> 750\u001b[1;33m                 equality_repl_requirements=equality_repl_requirements)\\\n\u001b[0m\u001b[0;32m    751\u001b[0m                     ._auto_reduced(\n\u001b[0;32m    752\u001b[0m                             \u001b[0massumptions\u001b[0m\u001b[1;33m=\u001b[0m\u001b[0massumptions\u001b[0m\u001b[1;33m,\u001b[0m \u001b[0mrequirements\u001b[0m\u001b[1;33m=\u001b[0m\u001b[0mrequirements\u001b[0m\u001b[1;33m,\u001b[0m\u001b[1;33m\u001b[0m\u001b[1;33m\u001b[0m\u001b[0m\n",
      "\u001b[1;32mc:\\users\\joaqu\\prove-it\\packages\\proveit\\_core_\\expression\\operation\\operation.py\u001b[0m in \u001b[0;36m_replaced\u001b[1;34m(self, repl_map, allow_relabeling, assumptions, requirements, equality_repl_requirements)\u001b[0m\n\u001b[0;32m    524\u001b[0m                             subbed_operand_or_operands)\n\u001b[0;32m    525\u001b[0m         substituted = self.__class__._checked_make(\n\u001b[1;32m--> 526\u001b[1;33m                 self._coreInfo, self.getStyles(), subbed_sub_exprs)\n\u001b[0m\u001b[0;32m    527\u001b[0m         return substituted._auto_reduced(assumptions, requirements,\n\u001b[0;32m    528\u001b[0m                                          equality_repl_requirements)\n",
      "\u001b[1;32mc:\\users\\joaqu\\prove-it\\packages\\proveit\\_core_\\expression\\expr.py\u001b[0m in \u001b[0;36m_checked_make\u001b[1;34m(cls, coreInfo, styles, subExpressions, genericExpr)\u001b[0m\n\u001b[0;32m    393\u001b[0m                 \"%s vs %s\"%(made._coreInfo, coreInfo))\n\u001b[0;32m    394\u001b[0m         assert made._subExpressions == subExpressions, (\n\u001b[1;32m--> 395\u001b[1;33m                 \"%s vs %s\"%(made._subExpressions, subExpressions))\n\u001b[0m\u001b[0;32m    396\u001b[0m         \u001b[1;32mreturn\u001b[0m \u001b[0mmade\u001b[0m\u001b[1;33m\u001b[0m\u001b[1;33m\u001b[0m\u001b[0m\n\u001b[0;32m    397\u001b[0m \u001b[1;33m\u001b[0m\u001b[0m\n",
      "\u001b[1;31mAssertionError\u001b[0m: (MULTI_QUBIT_GATE, ()) vs (MULTI_QUBIT_GATE, (U, {_b}))"
     ]
    }
   ],
   "source": [
    "unary_multiQubitGate_reduction = Forall(U, Forall(A, Equals(MultiQubitGate(U, Set(A)), Gate(U)), domain=NaturalsPos))"
   ]
  },
  {
   "cell_type": "code",
   "execution_count": null,
   "metadata": {},
   "outputs": [],
   "source": [
    "# need to form an Iter to replace xEtc here\n",
    "# summedQubitStateInQubitSpace = Forall(xEtc, InSet(Add(xEtc), QubitSpace), domain=QubitSpace)\n",
    "summedQubitStateInQubitSpace = Forall(\n",
    "    n,\n",
    "    Forall(\n",
    "        xIter1n,\n",
    "        InSet(Add(xIter1n), QubitSpace),\n",
    "        domain=QubitSpace),\n",
    "    domain=NaturalsPos)"
   ]
  },
  {
   "cell_type": "code",
   "execution_count": null,
   "metadata": {},
   "outputs": [],
   "source": [
    "scaledQubitRegisterStateInQubitRegisterSpace = Forall(\n",
    "        n,\n",
    "        Forall(x,\n",
    "               Forall(alpha, InSet(ScalarProd(alpha, x), QubitRegisterSpace(n)),\n",
    "                      domain=Complexes),\n",
    "               domain=QubitRegisterSpace(n)),\n",
    "        domain=NaturalsPos)"
   ]
  },
  {
   "cell_type": "code",
   "execution_count": null,
   "metadata": {},
   "outputs": [],
   "source": [
    "registerKetInQubitRegisterSpace = Forall(\n",
    "        n,\n",
    "        Forall(k, InSet(RegisterKet(k, n), QubitRegisterSpace(n)),\n",
    "               domain = Interval(zero, subtract(Exp(two, n), one))),\n",
    "        domain=NaturalsPos)"
   ]
  },
  {
   "cell_type": "code",
   "execution_count": null,
   "metadata": {},
   "outputs": [],
   "source": [
    "registerQubitComplexAmplitude = Forall(\n",
    "        n,\n",
    "        Forall(k,\n",
    "               Forall(Psi,\n",
    "                      InSet(MatrixProd(RegisterBra(k, n), Ket(Psi)), Complexes),\n",
    "                      conditions = [InSet(Ket(Psi), QubitRegisterSpace(n))]),\n",
    "               domain=Interval(zero, subtract(Exp(two, n),one))),\n",
    "        domain=NaturalsPos)"
   ]
  },
  {
   "cell_type": "code",
   "execution_count": null,
   "metadata": {},
   "outputs": [],
   "source": [
    "registerQubitBornRule = Forall(\n",
    "        n,\n",
    "        Forall(k,\n",
    "               Forall((Psi, m),\n",
    "                      Equals(Prob(Equals(m, k), m),\n",
    "                             Exp(Abs(MatrixProd(RegisterBra(k, n), Ket(Psi))), two)),\n",
    "                      conditions = [InSet(Ket(Psi), QubitRegisterSpace(n)), Equals(m, Meas(Ket(Psi)))]),\n",
    "               domain=Interval(zero, subtract(Exp(two, n), one))),\n",
    "        domain=NaturalsPos)"
   ]
  },
  {
   "cell_type": "code",
   "execution_count": null,
   "metadata": {},
   "outputs": [],
   "source": [
    "registerQubitAllProbs = Forall(\n",
    "        n,\n",
    "        Forall((Psi, m),\n",
    "               Equals(Sum(k, Prob(Equals(m, k), m),\n",
    "                                domain=Interval(zero, subtract(Exp(two, n), one))),\n",
    "                      one),\n",
    "               conditions = [InSet(Ket(Psi), QubitRegisterSpace(n)), Equals(m, Meas(Ket(Psi)))]),\n",
    "        domain=NaturalsPos)"
   ]
  },
  {
   "cell_type": "code",
   "execution_count": null,
   "metadata": {},
   "outputs": [],
   "source": [
    "## This one requires pregatedControlledNgate, defined at the top of this page,\n",
    "## but that pregatedControlledNgate requires the Circuit class\n",
    "# pregatedControlledNgateEquiv = Forall(\n",
    "#         n,\n",
    "#         Forall(U,\n",
    "#                Forall(u,\n",
    "#                       Forall((a, b),\n",
    "#                              Forall((x, y),\n",
    "#                                     Equals(pregatedControlledNgate,\n",
    "#                                            controlledNgate(MatrixProd(u, a), b, x, y)),\n",
    "#                                     domain=QubitRegisterSpace(n)),\n",
    "#                              domain=QubitSpace),\n",
    "#                       domain=SU(two)),\n",
    "#                domain=RegisterSU(n)),\n",
    "#         domain=NaturalsPos)"
   ]
  },
  {
   "cell_type": "code",
   "execution_count": null,
   "metadata": {},
   "outputs": [],
   "source": [
    "## This one requires controlledNgate, defined at the top of this page,\n",
    "## but that controlledNgate requires the Circuit class\n",
    "# controlledNgateEquiv = Forall(\n",
    "#         n,\n",
    "#         Forall(U,\n",
    "#                Forall((a, b, c),\n",
    "#                       Forall((x, y, z),\n",
    "#                              Iff(Equals(controlledNgate(a, b, x, y),\n",
    "#                                         controlledNgate(a, c, x, z)),\n",
    "#                                  Equals(TensorProd(b, y), TensorProd(c, z))),\n",
    "#                              domain=QubitRegisterSpace(n)),\n",
    "#                       domain=QubitSpace),\n",
    "#                domain=RegisterSU(n)),\n",
    "#         domain=NaturalsPos)"
   ]
  },
  {
   "cell_type": "code",
   "execution_count": null,
   "metadata": {},
   "outputs": [],
   "source": [
    "## This one requires controlledNgate, defined at the top of this page,\n",
    "## but that controlledNgate requires the Circuit class\n",
    "# superpositionControlledNgate = Forall(\n",
    "#         n,\n",
    "#         Forall(U,\n",
    "#                Forall((a, b, c, d),\n",
    "#                       Forall((x, y),\n",
    "#                              Implies(And(controlledNgate(a, c, x, y),\n",
    "#                                          controlledNgate(b, d, x, y)),\n",
    "#                                      controlledNgate(Add(a, b), Add(c, d), x, y)),\n",
    "#                              domain=QubitRegisterSpace(n)),\n",
    "#                       domain=QubitSpace),\n",
    "#                domain=RegisterSU(n)),\n",
    "#         domain=NaturalsPos)"
   ]
  },
  {
   "cell_type": "code",
   "execution_count": null,
   "metadata": {},
   "outputs": [],
   "source": [
    "## This one requires pregatedControlledNgate, defined at the top of this page,\n",
    "## but that pregatedControlledNgate requires the Circuit class\n",
    "# pregatedControlledNgateMerger = Forall(\n",
    "#     (n, k),\n",
    "#     Forall(U,\n",
    "#            Forall(u,\n",
    "#                   Forall((a, b),\n",
    "#                          Forall(c,\n",
    "#                                 Forall(d,\n",
    "#                                        Forall((x, y),\n",
    "#                                               Implies(pregatedControlledNgate,\n",
    "#                                                       Implies(pregatedControlledNgateWithMerge,\n",
    "#                                                               Equals(d, TensorProd(c, b)))),\n",
    "#                                               domain=QubitRegisterSpace(n)),\n",
    "#                                        domain=QubitRegisterSpace(Add(k, one))),\n",
    "#                                 domain=QubitRegisterSpace(k)),\n",
    "#                          domain=QubitSpace),\n",
    "#                   domain=SU(two)),\n",
    "#            domain=RegisterSU(n)),\n",
    "#     domain=NaturalsPos)"
   ]
  },
  {
   "cell_type": "code",
   "execution_count": null,
   "metadata": {},
   "outputs": [],
   "source": [
    "registerBraOverSummedKet = Forall(\n",
    "    n,\n",
    "    Forall(U,\n",
    "           Forall(l,\n",
    "                  Forall(f,\n",
    "                         Equals(MatrixProd(RegisterBra(l, n),\n",
    "                                           MatrixProd(U, Sum(k, ScalarProd(Operation(f, k), RegisterKet(k, n)),\n",
    "                                                             domain=Interval(zero, subtract(Exp(two, n), one))))),\n",
    "                                Sum(k, Mult(Operation(f, k),\n",
    "                                            MatrixProd(RegisterBra(l, n), U, RegisterKet(k, n))),\n",
    "                                    domain=Interval(zero, subtract(Exp(two, n), one))))),\n",
    "                  domain=Interval(zero, subtract(Exp(two, n), one))),\n",
    "           domain=SU(Exp(two, n))),\n",
    "    domain=NaturalsPos)"
   ]
  },
  {
   "cell_type": "code",
   "execution_count": null,
   "metadata": {},
   "outputs": [],
   "source": [
    "%end theorems"
   ]
  }
 ],
 "metadata": {
  "kernelspec": {
   "display_name": "Python 3",
   "language": "python",
   "name": "python3"
  },
  "language_info": {
   "codemirror_mode": {
    "name": "ipython",
    "version": 3
   },
   "file_extension": ".py",
   "mimetype": "text/x-python",
   "name": "python",
   "nbconvert_exporter": "python",
   "pygments_lexer": "ipython3",
   "version": "3.7.3"
  }
 },
 "nbformat": 4,
 "nbformat_minor": 1
}
