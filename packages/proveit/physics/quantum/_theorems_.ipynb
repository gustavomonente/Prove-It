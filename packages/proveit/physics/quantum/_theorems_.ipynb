{
 "cells": [
  {
   "cell_type": "markdown",
   "metadata": {},
   "source": [
    "Theorems for context <a class=\"ProveItLink\" href=\"_context_.ipynb\">proveit.physics.quantum</a>\n",
    "========"
   ]
  },
  {
   "cell_type": "code",
   "execution_count": null,
   "metadata": {},
   "outputs": [],
   "source": [
    "import proveit\n",
    "# Automation is not needed when building theorem expressions:\n",
    "proveit.defaults.automation = False # This will speed things up.\n",
    "from proveit import Operation\n",
    "from proveit._common_ import alpha, f, k, l, m, n, x, Psi, U\n",
    "from proveit.logic import And, Equals, Forall, InSet\n",
    "from proveit.core_expr_types._common_ import x_1_to_n\n",
    "from proveit.number import zero, one, two, subtract, Abs, Add, Complexes, Exp, Mult, NaturalsPos, Sum\n",
    "from proveit.number.sets import Interval\n",
    "from proveit.physics.quantum import Ket, Meas, QubitRegisterSpace, RegisterBra, RegisterKet # RegisterBra, RegisterSU, \n",
    "from proveit.physics.quantum._common_ import (\n",
    "        H, invRoot2, ket0, ket1, ketPlus, QubitSpace)\n",
    "from proveit.statistics import Prob\n",
    "\n",
    "# from proveit.physics.quantum.common import I, H, Hgate, CTRL_DN, WIRE_DN, WIRE_LINK, PASS, \\\n",
    "#     , QubitRegisterSpace, RegisterSU \n",
    "from proveit.linalg import MatrixProd, ScalarProd, SU\n",
    "# the context is in the current directory:\n",
    "context = proveit.Context('.') # adds context root to sys.path if necessary"
   ]
  },
  {
   "cell_type": "markdown",
   "metadata": {},
   "source": [
    "### *The following 3 cells require updates to Circuit class before they can proceed.<br/>These then affect a handful of theorems/expressions below that refer to the Circuits.*"
   ]
  },
  {
   "cell_type": "code",
   "execution_count": null,
   "metadata": {},
   "outputs": [],
   "source": [
    "# def controlledNgate(a, b, x, y):\n",
    "#     return Circuit([[Input(a), PASS, CTRL_DN, Output(b)],\n",
    "#                     [Input(x), MultiWire(n), Gate(U), Output(y)]])"
   ]
  },
  {
   "cell_type": "code",
   "execution_count": null,
   "metadata": {},
   "outputs": [],
   "source": [
    "# pregatedControlledNgate = Circuit([[Input(a), Gate(u), CTRL_DN, Output(b)],\n",
    "#                                    [Input(x), MultiWire(n), Gate(U), Output(y)]])"
   ]
  },
  {
   "cell_type": "code",
   "execution_count": null,
   "metadata": {},
   "outputs": [],
   "source": [
    "# pregatedControlledNgateWithMerge = Circuit([[Input(c), MultiWire(k), PASS, WIRE_DN, PASS, PASS],\n",
    "#                                             [Input(a), Gate(u), CTRL_DN, WIRE_LINK, MultiWire(Add(k, one)), Output(d)],\n",
    "#                                             [Input(x), MultiWire(n), Gate(U), Output(y), PASS, PASS]])"
   ]
  },
  {
   "cell_type": "code",
   "execution_count": null,
   "metadata": {},
   "outputs": [],
   "source": [
    "%begin theorems"
   ]
  },
  {
   "cell_type": "code",
   "execution_count": null,
   "metadata": {},
   "outputs": [],
   "source": [
    "unitaryHadamard = InSet(H, SU(two))"
   ]
  },
  {
   "cell_type": "code",
   "execution_count": null,
   "metadata": {},
   "outputs": [],
   "source": [
    "ketPlusDistributed = Equals(ketPlus, Add(ScalarProd(invRoot2, ket0), ScalarProd(invRoot2, ket1)))"
   ]
  },
  {
   "cell_type": "code",
   "execution_count": null,
   "metadata": {},
   "outputs": [],
   "source": [
    "scaledQubitStateInQubitSpace = Forall(\n",
    "        x,\n",
    "        Forall(alpha,\n",
    "               InSet(ScalarProd(alpha, x), QubitSpace),\n",
    "               domain=Complexes),\n",
    "        domain=QubitSpace)"
   ]
  },
  {
   "cell_type": "code",
   "execution_count": null,
   "metadata": {},
   "outputs": [],
   "source": [
    "transformedQubitStateInQubitSpace = Forall(\n",
    "        x,\n",
    "        Forall(U,\n",
    "               InSet(MatrixProd(U, x), QubitSpace),\n",
    "               domain=SU(two)),\n",
    "        domain=QubitSpace)"
   ]
  },
  {
   "cell_type": "code",
   "execution_count": null,
   "metadata": {},
   "outputs": [],
   "source": [
    "# need to form an Iter to replace xEtc here\n",
    "# summedQubitStateInQubitSpace = Forall(xEtc, InSet(Add(xEtc), QubitSpace), domain=QubitSpace)\n",
    "summedQubitStateInQubitSpace = Forall(\n",
    "    n,\n",
    "    Forall(\n",
    "        x_1_to_n,\n",
    "        InSet(Add(x_1_to_n), QubitSpace),\n",
    "        domain=QubitSpace),\n",
    "    domain=NaturalsPos)"
   ]
  },
  {
   "cell_type": "code",
   "execution_count": null,
   "metadata": {},
   "outputs": [],
   "source": [
    "scaledQubitRegisterStateInQubitRegisterSpace = Forall(\n",
    "        n,\n",
    "        Forall(x,\n",
    "               Forall(alpha, InSet(ScalarProd(alpha, x), QubitRegisterSpace(n)),\n",
    "                      domain=Complexes),\n",
    "               domain=QubitRegisterSpace(n)),\n",
    "        domain=NaturalsPos)"
   ]
  },
  {
   "cell_type": "code",
   "execution_count": null,
   "metadata": {},
   "outputs": [],
   "source": [
    "registerKetInQubitRegisterSpace = Forall(\n",
    "        n,\n",
    "        Forall(k, InSet(RegisterKet(k, n), QubitRegisterSpace(n)),\n",
    "               domain = Interval(zero, subtract(Exp(two, n), one))),\n",
    "        domain=NaturalsPos)"
   ]
  },
  {
   "cell_type": "code",
   "execution_count": null,
   "metadata": {},
   "outputs": [],
   "source": [
    "registerQubitComplexAmplitude = Forall(\n",
    "        n,\n",
    "        Forall(k,\n",
    "               Forall(Psi,\n",
    "                      InSet(MatrixProd(RegisterBra(k, n), Ket(Psi)), Complexes),\n",
    "                      conditions = [InSet(Ket(Psi), QubitRegisterSpace(n))]),\n",
    "               domain=Interval(zero, subtract(Exp(two, n),one))),\n",
    "        domain=NaturalsPos)"
   ]
  },
  {
   "cell_type": "code",
   "execution_count": null,
   "metadata": {},
   "outputs": [],
   "source": [
    "registerQubitBornRule = Forall(\n",
    "        n,\n",
    "        Forall(k,\n",
    "               Forall((Psi, m),\n",
    "                      Equals(Prob(Equals(m, k), m),\n",
    "                             Exp(Abs(MatrixProd(RegisterBra(k, n), Ket(Psi))), two)),\n",
    "                      conditions = [InSet(Ket(Psi), QubitRegisterSpace(n)), Equals(m, Meas(Ket(Psi)))]),\n",
    "               domain=Interval(zero, subtract(Exp(two, n), one))),\n",
    "        domain=NaturalsPos)"
   ]
  },
  {
   "cell_type": "code",
   "execution_count": null,
   "metadata": {},
   "outputs": [],
   "source": [
    "registerQubitAllProbs = Forall(\n",
    "        n,\n",
    "        Forall((Psi, m),\n",
    "               Equals(Sum(k, Prob(Equals(m, k), m),\n",
    "                                domain=Interval(zero, subtract(Exp(two, n), one))),\n",
    "                      one),\n",
    "               conditions = [InSet(Ket(Psi), QubitRegisterSpace(n)), Equals(m, Meas(Ket(Psi)))]),\n",
    "        domain=NaturalsPos)"
   ]
  },
  {
   "cell_type": "code",
   "execution_count": null,
   "metadata": {},
   "outputs": [],
   "source": [
    "## This one requires pregatedControlledNgate, defined at the top of this page,\n",
    "## but that pregatedControlledNgate requires the Circuit class\n",
    "# pregatedControlledNgateEquiv = Forall(\n",
    "#         n,\n",
    "#         Forall(U,\n",
    "#                Forall(u,\n",
    "#                       Forall((a, b),\n",
    "#                              Forall((x, y),\n",
    "#                                     Equals(pregatedControlledNgate,\n",
    "#                                            controlledNgate(MatrixProd(u, a), b, x, y)),\n",
    "#                                     domain=QubitRegisterSpace(n)),\n",
    "#                              domain=QubitSpace),\n",
    "#                       domain=SU(two)),\n",
    "#                domain=RegisterSU(n)),\n",
    "#         domain=NaturalsPos)"
   ]
  },
  {
   "cell_type": "code",
   "execution_count": null,
   "metadata": {},
   "outputs": [],
   "source": [
    "## This one requires controlledNgate, defined at the top of this page,\n",
    "## but that controlledNgate requires the Circuit class\n",
    "# controlledNgateEquiv = Forall(\n",
    "#         n,\n",
    "#         Forall(U,\n",
    "#                Forall((a, b, c),\n",
    "#                       Forall((x, y, z),\n",
    "#                              Iff(Equals(controlledNgate(a, b, x, y),\n",
    "#                                         controlledNgate(a, c, x, z)),\n",
    "#                                  Equals(TensorProd(b, y), TensorProd(c, z))),\n",
    "#                              domain=QubitRegisterSpace(n)),\n",
    "#                       domain=QubitSpace),\n",
    "#                domain=RegisterSU(n)),\n",
    "#         domain=NaturalsPos)"
   ]
  },
  {
   "cell_type": "code",
   "execution_count": null,
   "metadata": {},
   "outputs": [],
   "source": [
    "## This one requires controlledNgate, defined at the top of this page,\n",
    "## but that controlledNgate requires the Circuit class\n",
    "# superpositionControlledNgate = Forall(\n",
    "#         n,\n",
    "#         Forall(U,\n",
    "#                Forall((a, b, c, d),\n",
    "#                       Forall((x, y),\n",
    "#                              Implies(And(controlledNgate(a, c, x, y),\n",
    "#                                          controlledNgate(b, d, x, y)),\n",
    "#                                      controlledNgate(Add(a, b), Add(c, d), x, y)),\n",
    "#                              domain=QubitRegisterSpace(n)),\n",
    "#                       domain=QubitSpace),\n",
    "#                domain=RegisterSU(n)),\n",
    "#         domain=NaturalsPos)"
   ]
  },
  {
   "cell_type": "code",
   "execution_count": null,
   "metadata": {},
   "outputs": [],
   "source": [
    "## This one requires pregatedControlledNgate, defined at the top of this page,\n",
    "## but that pregatedControlledNgate requires the Circuit class\n",
    "# pregatedControlledNgateMerger = Forall(\n",
    "#     (n, k),\n",
    "#     Forall(U,\n",
    "#            Forall(u,\n",
    "#                   Forall((a, b),\n",
    "#                          Forall(c,\n",
    "#                                 Forall(d,\n",
    "#                                        Forall((x, y),\n",
    "#                                               Implies(pregatedControlledNgate,\n",
    "#                                                       Implies(pregatedControlledNgateWithMerge,\n",
    "#                                                               Equals(d, TensorProd(c, b)))),\n",
    "#                                               domain=QubitRegisterSpace(n)),\n",
    "#                                        domain=QubitRegisterSpace(Add(k, one))),\n",
    "#                                 domain=QubitRegisterSpace(k)),\n",
    "#                          domain=QubitSpace),\n",
    "#                   domain=SU(two)),\n",
    "#            domain=RegisterSU(n)),\n",
    "#     domain=NaturalsPos)"
   ]
  },
  {
   "cell_type": "code",
   "execution_count": null,
   "metadata": {},
   "outputs": [],
   "source": [
    "registerBraOverSummedKet = Forall(\n",
    "    n,\n",
    "    Forall(U,\n",
    "           Forall(l,\n",
    "                  Forall(f,\n",
    "                         Equals(MatrixProd(RegisterBra(l, n),\n",
    "                                           MatrixProd(U, Sum(k, ScalarProd(Operation(f, k), RegisterKet(k, n)),\n",
    "                                                             domain=Interval(zero, subtract(Exp(two, n), one))))),\n",
    "                                Sum(k, Mult(Operation(f, k),\n",
    "                                            MatrixProd(RegisterBra(l, n), U, RegisterKet(k, n))),\n",
    "                                    domain=Interval(zero, subtract(Exp(two, n), one))))),\n",
    "                  domain=Interval(zero, subtract(Exp(two, n), one))),\n",
    "           domain=SU(Exp(two, n))),\n",
    "    domain=NaturalsPos)"
   ]
  },
  {
   "cell_type": "code",
   "execution_count": null,
   "metadata": {},
   "outputs": [],
   "source": [
    "%end theorems"
   ]
  },
  {
   "cell_type": "code",
   "execution_count": null,
   "metadata": {},
   "outputs": [],
   "source": []
  }
 ],
 "metadata": {
  "kernelspec": {
   "display_name": "Python 3",
   "language": "python",
   "name": "python3"
  }
 },
 "nbformat": 4,
 "nbformat_minor": 0
}
