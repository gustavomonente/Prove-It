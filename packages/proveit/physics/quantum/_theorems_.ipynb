{
 "cells": [
  {
   "cell_type": "markdown",
   "metadata": {},
   "source": [
    "Theorems for context <a class=\"ProveItLink\" href=\"_context_.ipynb\">proveit.physics.quantum</a>\n",
    "========"
   ]
  },
  {
   "cell_type": "code",
   "execution_count": 1,
   "metadata": {},
   "outputs": [],
   "source": [
    "import proveit\n",
    "# Automation is not needed when building theorem expressions:\n",
    "proveit.defaults.automation = False # This will speed things up.\n",
    "from proveit import Operation\n",
    "from proveit._common_ import alpha, f, k, l, m, n, x, Psi, U\n",
    "from proveit.logic import And, Equals, Forall, InSet\n",
    "from proveit.core_expr_types._common_ import x_1_to_n\n",
    "from proveit.number import zero, one, two, subtract, Abs, Add, Complexes, Exp, Mult, NaturalsPos, Sum\n",
    "from proveit.number.sets import Interval\n",
    "from proveit.physics.quantum import Ket, Meas, QubitRegisterSpace, RegisterBra, RegisterKet # RegisterBra, RegisterSU, \n",
    "from proveit.physics.quantum._common_ import (\n",
    "        H, invRoot2, ket0, ket1, ketPlus, QubitSpace)\n",
    "from proveit.statistics import Prob\n",
    "\n",
    "# from proveit.physics.quantum.common import I, H, Hgate, CTRL_DN, WIRE_DN, WIRE_LINK, PASS, \\\n",
    "#     , QubitRegisterSpace, RegisterSU \n",
    "from proveit.linalg import MatrixProd, ScalarProd, SU\n",
    "# the context is in the current directory:\n",
    "context = proveit.Context('.') # adds context root to sys.path if necessary"
   ]
  },
  {
   "cell_type": "markdown",
   "metadata": {},
   "source": [
    "### *The following 3 cells require updates to Circuit class before they can proceed.<br/>These then affect a handful of theorems/expressions below that refer to the Circuits.*"
   ]
  },
  {
   "cell_type": "code",
   "execution_count": 2,
   "metadata": {},
   "outputs": [],
   "source": [
    "# def controlledNgate(a, b, x, y):\n",
    "#     return Circuit([[Input(a), PASS, CTRL_DN, Output(b)],\n",
    "#                     [Input(x), MultiWire(n), Gate(U), Output(y)]])"
   ]
  },
  {
   "cell_type": "code",
   "execution_count": 3,
   "metadata": {},
   "outputs": [],
   "source": [
    "# pregatedControlledNgate = Circuit([[Input(a), Gate(u), CTRL_DN, Output(b)],\n",
    "#                                    [Input(x), MultiWire(n), Gate(U), Output(y)]])"
   ]
  },
  {
   "cell_type": "code",
   "execution_count": 4,
   "metadata": {},
   "outputs": [],
   "source": [
    "# pregatedControlledNgateWithMerge = Circuit([[Input(c), MultiWire(k), PASS, WIRE_DN, PASS, PASS],\n",
    "#                                             [Input(a), Gate(u), CTRL_DN, WIRE_LINK, MultiWire(Add(k, one)), Output(d)],\n",
    "#                                             [Input(x), MultiWire(n), Gate(U), Output(y), PASS, PASS]])"
   ]
  },
  {
   "cell_type": "code",
   "execution_count": 5,
   "metadata": {},
   "outputs": [
    {
     "name": "stdout",
     "output_type": "stream",
     "text": [
      "Defining theorems for context 'proveit.physics.quantum'\n",
      "Subsequent end-of-cell assignments will define theorems\n",
      "'%end theorems' will finalize the definitions\n"
     ]
    }
   ],
   "source": [
    "%begin theorems"
   ]
  },
  {
   "cell_type": "code",
   "execution_count": 6,
   "metadata": {},
   "outputs": [
    {
     "data": {
      "text/html": [
       "<strong id=\"unitaryHadamard\"><a class=\"ProveItLink\" href=\"_proofs_/unitaryHadamard.ipynb\">unitaryHadamard</a>:</strong> <a class=\"ProveItLink\" href=\"__pv_it/2d33fbddaabcc841fb51bc4175eada838d5ef2bf0/expr.ipynb\"><img src=\"data:image/png;base64,iVBORw0KGgoAAAANSUhEUgAAAHEAAAAUBAMAAABIac8KAAAAMFBMVEX///8QEBDc3Nyqqqp2dnbM\n",
       "zMyIiIi6uroiIiLu7u4yMjJmZmZERERUVFSYmJgAAADCfy+7AAAAAXRSTlMAQObYZgAAAglJREFU\n",
       "OMuVVL9rFFEQ/rzbvb13e0m0Uxu3EisR2zRLiLHQ4P4JVwVJk2utcrGJaOHaiUkgTSy84qwCss2B\n",
       "IIFEToRAQEOCjWAInFw0P8y5zsx7694elyIP3u7MvPnmzXwzu8DgNb3SZ/gxL6+bWrstz/14nXY9\n",
       "zDje5cfouP89t/XzPcrxa21RTahoI8CQJ14ntI/6rmC/8i4W27AOSZwysUoeltiilllzfgP2nwHI\n",
       "CBheRqlN4juD3BPxEjDBmvULKHQ0YHjtydMEqcjuVDDSJPWTQT4GLgM7Hl5IBhS0fCz+9ocwvdP5\n",
       "S4YAsxUK4mtkrgY0QuwEKFVJ5aAjNfF/FfZkq+I7LD0IKJWqRhbeyuHzEBZLs/Uoavli+pypcybu\n",
       "EoVzJLkpZ0zMgRCgg85Uxb+ZQar9a1eguiQNGUvxFp8Vqeo8J9mg3ZI07atvaKX9hNtBnqrFdWO5\n",
       "IBdE7MqMn5qWEgGZO6kA1RHmMdaLlGIZKe080P4Xe5CKcrKPYbV1U9JsR5Hz4NRMOw+1/2oPMk9h\n",
       "XB956pfMWsKQ7aPgCUPFtJ2GAY10nwGTJNWR20wq517cGL+3JTEXGt2K2zqtiL/6+ihFOl+2OZD1\n",
       "cfU/Z5xjI45pyEtB37g699PpGzDJPH16vcRZ6wzkXqJNnBdZ1t+l+crOg1Sm40mEAeth/99kOvM3\n",
       "+Qb8A7OgkBWLWqOAAAAAAElFTkSuQmCC\n",
       "\" style=\"display:inline;vertical-align:middle;\" /></a><br>"
      ],
      "text/plain": [
       "unitaryHadamard: H in [SU](2)"
      ]
     },
     "execution_count": 6,
     "metadata": {},
     "output_type": "execute_result"
    }
   ],
   "source": [
    "unitaryHadamard = InSet(H, SU(two))"
   ]
  },
  {
   "cell_type": "code",
   "execution_count": 7,
   "metadata": {},
   "outputs": [
    {
     "data": {
      "text/html": [
       "<strong id=\"ketPlusDistributed\"><a class=\"ProveItLink\" href=\"_proofs_/ketPlusDistributed.ipynb\">ketPlusDistributed</a>:</strong> <a class=\"ProveItLink\" href=\"__pv_it/d86999bd2a616793cd79334487cc3fe6a9ef98c00/expr.ipynb\"><img src=\"data:image/png;base64,iVBORw0KGgoAAAANSUhEUgAAASEAAAAyBAMAAADhBnCpAAAAMFBMVEX////c3NxERESYmJhmZmZU\n",
       "VFQQEBAiIiIyMjKqqqqIiIi6urp2dnbu7u7MzMwAAAASOpYoAAAAAXRSTlMAQObYZgAABTFJREFU\n",
       "WMOdWU1sG0UUfv7drO21DQfEBcWVEFwAWZwQQooFChLKoXtAHBDEUaSISPxZVfmTiuRDJcItp3CJ\n",
       "lKLCpYfGBw5IHBoJcahSYR9omwNScuFGlYYaiaZ1wbtvZnf+3syauYzXnu/bb9689+bNGMDZagPs\n",
       "9+3DbtI/OZBB6GSQ2w0mbM8+rNonp+RAwo8uBrlV2Ay+dw18ifrBiSz0HQxy28LOX+Ff+B+aB+YJ\n",
       "U6RI2BqZhzxnZ1AW+X3sbw24v/wysY9UW4IM3umOrEMoBmXmHeyfTm08sVtTbSkSFkZ2M25lUbSD\n",
       "JP7ErcgzGl1Akorggo1BaefZ2I5bkX9i1NnJoGinaWFQwoCNWWi6FXH1chOQtCIu+7xbkdfC/hxk\n",
       "UGR84TnIoIhzkgPSdoxRUH+QRdHhJf07EUm/MDilGZT2OnbFlSyK5gxJV0RaTLBBMyhtDbtymEVR\n",
       "xeCYItKiaLdJMig2v8cWr51FUe6eYdnbmRTNtxOGO2nwWma9KwRMRVB0R4aukZNnD6miOvu4KZty\n",
       "TawUigNDxmZe8IzgGG/985paZ3DoszqDgITFjy+21Rpnib2olzCkiuqhwQtY8K/SlU/t8q8JdKiP\n",
       "WHVUXX+wx7sJg1BN9QzxjJkrGNOKvobbTQ5dONLCemxRFFURHnPORwlDrMiP08Blg19ifqifkooK\n",
       "K1Drc+gxTyc+/0Aip4riKqLSlsZNGQRFB4b9Bh3Pv08qyofRXnogmVRQRCIjG0VRG/QlW04ZBEX5\n",
       "pr4vHEk2NShqhFC9z6GNUFVEIrkiOIPPfwNnEBT5ezMnrv1oUtVTDm20VEUkMlG0jc9/AWcQFKF/\n",
       "1jbihvYfYtaoTUhF83uxD6Brl/uqIhKZKGKuvQ6cQVS0pOHOoqKiRVEH6g85tNxTFRWdilguew84\n",
       "w35klK/WNzbCJDcIrYtdCbNF41+x3RVWjUG9FWZlRmhBJopYLvsUOINoo22HIsKzo3jaFhSJNiKR\n",
       "iSLmgmZFZwQ/CjOuWr4VE2PEeP9j1ViYfgacQVCUa2m4IQ6vnTgyJIMaPNsZa49bPLu2qUc/5qOK\n",
       "nFVygh/BF3DriEPLWj4ikZGiuIq4rhZigiLPUDljIBQeSN+WBsK+9vuV5QTa0HI2iZwqwiqCLfQ4\n",
       "YRAU/WDYRZDBl3mf1G49GPRwT9tFKCTf+6tsL3+YMMScQezAy2QFWJeLwzc0RcvKThuMlCJUQ3JF\n",
       "pSPjTosshqqbL4NUUwQ9+O3VF0RFHLqjeyKF5IoO5B15ypAqKhhOJh571edSmGwGIQwHgiIOHep7\n",
       "NYXkil6WY3LKcDWtYA1leZEluLPil7ehOIJynAyvytCuzkAhK6y4e17OpF3nIdt01vw52n1KpkSz\n",
       "6jjn0khX+ZzW3mx5jzclZ5ibQMlQ+OQMBWM2JMxfIhncJ0isQ73J7CdIGpn9BMndgPvTT0kivWa4\n",
       "6sn3aE+0I/m5ysSgtGsYElVMdJVo97kSf/zEMLhhiNZsSDilGawXO0/tDljaL3ZMph+Rl0oOJD8n\n",
       "77pva5RgO2yx3POdxemMwWZHCodsZ/uAQXDxiyfgRW/wO/BYxlu/LMhZbv2Um9HcGF6J+j8BvtWv\n",
       "jzqWm1ErEi7aGIjXMEx39GVEf+HGoh4VxP15BiS/tN8aZVCU+wj7JzDrH1+PFM5Ny65e1ht2N3K2\n",
       "G3b4hk0DeebWyWmUCJO7kfCmnUFNcSwMFpF+TA58kfrBiSy0HAxKe5tNQDivmBr9X5QLOeu/WckF\n",
       "2pJ92E16URzI4F2R4T/6wgJUtRBhDAAAAABJRU5ErkJggg==\n",
       "\" style=\"display:inline;vertical-align:middle;\" /></a><br>"
      ],
      "text/plain": [
       "ketPlusDistributed: |+〉 = (((1 / sqrt(2)) * |0〉) + ((1 / sqrt(2)) * |1〉))"
      ]
     },
     "execution_count": 7,
     "metadata": {},
     "output_type": "execute_result"
    }
   ],
   "source": [
    "ketPlusDistributed = Equals(ketPlus, Add(ScalarProd(invRoot2, ket0), ScalarProd(invRoot2, ket1)))"
   ]
  },
  {
   "cell_type": "code",
   "execution_count": 8,
   "metadata": {},
   "outputs": [
    {
     "data": {
      "text/html": [
       "<strong id=\"scaledQubitStateInQubitSpace\"><a class=\"ProveItLink\" href=\"_proofs_/scaledQubitStateInQubitSpace.ipynb\">scaledQubitStateInQubitSpace</a>:</strong> <a class=\"ProveItLink\" href=\"__pv_it/b784c4c93e8249001cbc318d1c43c50b8aae1cd30/expr.ipynb\"><img src=\"data:image/png;base64,iVBORw0KGgoAAAANSUhEUgAAAPQAAAAcBAMAAACkFo8iAAAAMFBMVEX///8QEBCIiIhmZma6urrM\n",
       "zMxUVFQiIiJERETc3Nzu7u6qqqp2dnaYmJgyMjIAAAAcRTyBAAAAAXRSTlMAQObYZgAAA6NJREFU\n",
       "SMfFVl9IU1EY/7bd7Xrv7p0+9BAUtSR8CKlL/5CYtv5IEIGLMHsIFCmsl5CSVhQyCmqroD1EBRXe\n",
       "FHxQyYFEWD4MewlNWllQoTaiHrISg6DUxL5z7r3z3u12t8HIA9vOPfud73e/7/ud73wA/3c8vSjD\n",
       "0gwh6krmjm4KRq0BTn/uxtiocwbsOGGC57Ojm7MBDubhNevnfgLTQKY3C0A9mVfI3bMAIwWidnjx\n",
       "6146wT+TxCKclSk1zfq4JbU1pA3t8KH01eMZuPWtP85IKHGc2iVKPZwtZs1ZIMSWJ8PJB+kLtXPQ\n",
       "MS+BSFi5aUp9m0xDltTWkBX4Gc08RV7js+jChQ8S7INqfDpHqT0YLyFmSW0J4VA2cDZjmS9RKS8H\n",
       "W8nvGxsacUnOr0+u4FMFpRaHurpuWcvMEiIiB2cixU/Kmb+gFi+JhI732hYWSLDXKAr/HQ5nnG7n\n",
       "84he4WaQlMCTqmyE0s10ob3sRrlXkQCmXGXmGw7oN9XIlPooQCTdXhHU6anNICkoiqAogZ63wP1o\n",
       "N5LExZMsvs6EQehcfKd+U32AUu8C3lBW3deaGj3Qq6dOh1CMOvVgaWJRCGwciqR16LwszDIo+Ef0\n",
       "X02cnGSgbvNTahbsCU0bA5sS/CHZ+U3bqVLrIHqMUiIw2Da0tF3G2MfxfxoHdIwmbtUUDrIrdFhP\n",
       "3atQCwlWW3nb3wXiXYAB4L/oqXUQHUb1WqVejrCVNLPF3hT14pGcdJl4zSVJ/R/cUhZgiFqqH+IS\n",
       "dMp6agUilKNTOoyaayXg/B8EzKUSCbCHzks0K6OUWrNaH1VqeOQIalQ+wfo9ZPX9OxKfbT2GGk4g\n",
       "0AKNAixi1OFSZTaP1ITILW9Aa5rMNqbUuBZjwSSNCoc+NO6E7wAdZPVxP0ngwi8DNYE4QjCxW4dR\n",
       "hx35BAzFVoCxafS3JnadXiY+RQmpSlR1Te4Oa16/VG8uJTczAHXhcNh7p9bk5iIQWwx2SJkYBqsZ\n",
       "Q/QwMg4+hHWWtlcSTX5WRHlsr1YqqlafCmibKlRqkbyLc9oJNB2OdqLSNGoCKY5CvWyCWWZeSNUC\n",
       "xzxTCqlxfNTd121CUgCBvBXnC8Cg2X3t8fMveBOML6frw/heszrqzteDQwBXybRn6lLAjJqrfOUY\n",
       "NsHsJyLKfmka6n5DRpdixzxm61IyMK6YWasQsezQAoVpkGiNTW+QRMsudqxQbWFfvs24UuNyoA5m\n",
       "68Pd/jypHTLpw0/D0o2/pQ8LYRys8coAAAAASUVORK5CYII=\n",
       "\" style=\"display:inline;vertical-align:middle;\" /></a><br>"
      ],
      "text/plain": [
       "scaledQubitStateInQubitSpace: forall_{x in Complexes^{2}} [forall_{alpha in Complexes} ((alpha * x) in Complexes^{2})]"
      ]
     },
     "execution_count": 8,
     "metadata": {},
     "output_type": "execute_result"
    }
   ],
   "source": [
    "scaledQubitStateInQubitSpace = Forall(\n",
    "        x,\n",
    "        Forall(alpha,\n",
    "               InSet(ScalarProd(alpha, x), QubitSpace),\n",
    "               domain=Complexes),\n",
    "        domain=QubitSpace)"
   ]
  },
  {
   "cell_type": "code",
   "execution_count": 9,
   "metadata": {},
   "outputs": [
    {
     "data": {
      "text/html": [
       "<strong id=\"transformedQubitStateInQubitSpace\"><a class=\"ProveItLink\" href=\"_proofs_/transformedQubitStateInQubitSpace.ipynb\">transformedQubitStateInQubitSpace</a>:</strong> <a class=\"ProveItLink\" href=\"__pv_it/eae9d6f9ffdc4efb26c253422713fd322adfe1890/expr.ipynb\"><img src=\"data:image/png;base64,iVBORw0KGgoAAAANSUhEUgAAASYAAAAcBAMAAAA+fA+WAAAAMFBMVEX///8QEBCIiIhmZma6urrM\n",
       "zMxUVFQiIiJERETc3Nzu7u6qqqp2dnaYmJgyMjIAAAAcRTyBAAAAAXRSTlMAQObYZgAABNlJREFU\n",
       "WMPNl11oHFUUgE+Smdmd2ZlJH/LmQ8cqfah/gyK2IZZgaX2wkC1Sk4doFjEEQWRVdEsrZaHS7jaV\n",
       "LiIx4E+HFIOupV0oIrEVllQUmxYXtNIWf9ZWH1q1phKrjcR4zrkzs7OZddOpFjIwc2funLn3u+f3\n",
       "DsASOY7tcGCJHXpBqV679FCmcF2zyN1RpGMF+SpYeCNlXlxcOn2dK38kknSsW52BDXw7cuOYLkaU\n",
       "T8yCXrmxTG1kCLUSmvlfHSGGH2wVTOxZ3zRlMqkxKtGY9lEYvQPq0OVhiM+f8/ufDEneuf3yFhsD\n",
       "D29vEUxTi+k5DXoJGzNiqNIUcAEDagbbFbX+gwsFN/8F++dsMGxaiGAaJRVnmzLx69GItruJdIvz\n",
       "mNN40xkIeqtezlCw4zsbNsJ6tF+JmWj9rIgm/kRqnIqGpM5ygAO004JStRfaMtGezmTYbU61IIBi\n",
       "yz8d2Y1OmGUm43ix+NoiPv51sfhuRFc3aGoatwfVoJUDb37ga98q99EmA2hWy/w8KrR1mYi7P3O5\n",
       "UJaST+SDTO253K5yncCWYPgY50kx/F0t7Kquy36eRAFOn2MrX73dch1N8zxYSz0cGEmaFUyDAPmF\n",
       "THHoDTIpSYgXoO9vS/7VtUKKuKdOyXvPwWNXUBygTBUr4efuOFnhZTyfIUCevWw8G0PSb+lB8dak\n",
       "lh8I6uJ3wbQOtLpKk9gz9LgJh4JMkk3hQot4CHymdZCYhh4HpBIxKQWuWGu8r0yC34YkV4iAndvR\n",
       "ZyVE+UAs2mOyg0zqjGCKQauXerSj91S0Pkf+2f3Sz5lpuAMHxbtVQoiYML9l4VP0AYdm6BcVa9zP\n",
       "gBTaHbjCOWxf4cGF7mCALpsu4UGq0LL9ASbNZdIrMa/r9EQRjDcAjoJ2oY7pJF3jNlmIhYjpKkAJ\n",
       "duD3vOpBUbFMzyamy6STNT4Tfe2Wz1TLLBeVBnpSq1QtJ+9dmZRonPXvk7+OO3VMb8kI0V4hJhYi\n",
       "pu8/xnbOY0qLiuWrPO7aTp+upYKBJF0fpEuLP/wXzOROh5oW9S7/BBng6Vg315CzZ0iHnQfqmOIj\n",
       "6LwDBapfpudP+5d38BhvEpOaFhUr4WUixfVx5HQdOuHcRXYWPt7mZ874rXgrVevjDg6nKYh/wVmo\n",
       "+8MJGn3+jzqmxH14uRmDuiCEeOXqEOeTM8QkZUU5kbyKwJmGwv48qIPc01PaS/zQxU/b/PHX7nHe\n",
       "yzmBrDbimxlX3JvL5azXNzfaF/yG52q2Ewsh09uAsUl5t8xMKVFJ5Gow05CZ9J13i57xFWP3k2V/\n",
       "FE8ved4hr13+XNLLalmXyaC38rQsQrZtjEJkIdNZPD8BeNSNa2Q6Qrs2PQVyhZhkHIwqluRXkQ63\n",
       "tiw8NLcgbNyVCW92TSuwf9qnV3XQCVftSsJkw/1TL8ioExZCptWg7QY5Df2cbXAmrliGn+673Boc\n",
       "2nhbTSrSISfANP7l5HGAYbo9cGlnsiGT9NRJaoYF05quYzjAhhMVkQG3AlesNj+Rb6JLPjztwWZV\n",
       "8qvwPrOVXGWxfWar8Kf6UgS3ucr3+5QS7+lCR74Z0/P/Ze8bYnKLxUc1v6k23PsazX6ChOX/NyaJ\n",
       "Z9cCDnQ4+h5+9Fr/WzKN/u+2h/YqE2zXwAY50R2ZqZP/716AJXj8A9vpSmT25IFXAAAAAElFTkSu\n",
       "QmCC\n",
       "\" style=\"display:inline;vertical-align:middle;\" /></a><br>"
      ],
      "text/plain": [
       "transformedQubitStateInQubitSpace: forall_{x in Complexes^{2}} [forall_{U in [SU](2)} ((U . x) in Complexes^{2})]"
      ]
     },
     "execution_count": 9,
     "metadata": {},
     "output_type": "execute_result"
    }
   ],
   "source": [
    "transformedQubitStateInQubitSpace = Forall(\n",
    "        x,\n",
    "        Forall(U,\n",
    "               InSet(MatrixProd(U, x), QubitSpace),\n",
    "               domain=SU(two)),\n",
    "        domain=QubitSpace)"
   ]
  },
  {
   "cell_type": "code",
   "execution_count": 10,
   "metadata": {},
   "outputs": [
    {
     "data": {
      "text/html": [
       "<strong id=\"summedQubitStateInQubitSpace\"><a class=\"ProveItLink\" href=\"_proofs_/summedQubitStateInQubitSpace.ipynb\">summedQubitStateInQubitSpace</a>:</strong> <a class=\"ProveItLink\" href=\"__pv_it/bcd5e0257fa623743803e9db0bf6ae0c5d50c5d20/expr.ipynb\"><img src=\"data:image/png;base64,iVBORw0KGgoAAAANSUhEUgAAAY8AAAAcBAMAAABrMS6NAAAAMFBMVEX///8QEBCIiIhmZma6urrM\n",
       "zMxUVFQiIiJERETc3Nzu7u6qqqp2dnaYmJgyMjIAAAAcRTyBAAAAAXRSTlMAQObYZgAABL9JREFU\n",
       "WMPdWF1oHFUUPk1mstn52eShUtqCjgZqKQEXQrHEBLcW7UvRTUTbh2KG2FAQLGkbXWuLhCq6aRUX\n",
       "FQy1JWOEWGIli2Ux1YpLYh9Ma1lokLZYGF+sFjsGqtbmofH+zc3Mzkx21mEL9ix7d3bmO/fe797z\n",
       "dwfgfyzKhna4K+R72FUVviGzL8pwYqpWRPZBTw40dLE5UwyDj0Ub7tma7cgAjKTgCXwV1+8AkWs1\n",
       "NK5vDVBKd4hIPd77eClKF6cCn+xB31cpERP/v1KJSAhUkIwYqDkeaS0acuV36q7+seJ1FLaS6LqF\n",
       "EjlbefcRkbP/3UamcfNbJCKSWR4/evLSoxcALpCVokSG8c9gJSIhUEGyGn3VpOe2rAXgv/C5N1X2\n",
       "v9SL+rwBQlFIo+nlCZEE2nklX4lICFSAxOdxD7loRD5mvxczGbw5anoVap+H576eRPOqHyRE1Jnx\n",
       "8Q8rOnsIVICozajxUa2KSIKmom3rWPwgxjEK9y0sYH9pplHrn2z2gI9u0R21AlBBOfDcEA9aJvPH\n",
       "0TUftGpVEHHiiVODZDvpmOg0VWGeEukDGPLpL+kmEoAKkEbYyi/x4r2DZlFU98RMEAdDEmF4tq2m\n",
       "K3gdFZzK4l+UyCZvUPAhEoDyEfntnb0JmOBWgVPVfrSohjIv5MS2/pBEKN4G99PlYfK+i0j8T0ok\n",
       "BnXObCXu/Q7u1z1EylABYfJ0W0naZoi/A3zJlXFHy9EzujcCmZJiWVfvtSxvOj5vWbst6xfgeDap\n",
       "Odx2WUjwch4XnaWVxIgopcXM/dl0J0wqRr0x3ba3Le8k4kQFysVT46AeBTgNEk8cCUYEoEnjREI5\n",
       "e5NWRmSY92noPjsSN3lVpx4+YsA3WlLxmhZFTa1fk/YcClq6+5jXYZ3HCwgMYwb3EWZaAD3p6ohg\n",
       "vNrZ3cK1lvF5JnWyZ4zlLVZrDe2wFTbh+4XCez5ECKrO2BVLwQvugdc1mANsoXBz+RIeo/0ELy+Y\n",
       "s8vGQ0g/PBGKVzeWluVsZ6/nKgcfQ82TZVELTqK+qQKBF5TPt/sQwSgRrgNsX+UeOJ2wnecT3HyF\n",
       "K7zYwk1eFTXTMuWp/LtwzLsj0m27mTBdRCj+yIPQhHMe9Yn9PKb/OiNNHnJkKkIE2yJRkMjkC1Cc\n",
       "9iFCLfYWqzad0mTHlq3ZbFb76Bn3U7xesBnF/gdGO0s+pvWy3cR0FxGG74WNeK+pQY+9YVvs0z/f\n",
       "XM9ZDTIiKn6KFcRXstmDiMgxPPN0GRGCEudEL5EeSKuPXEFr1kC6HV20XiLLXSVKFT5C5B7oQEN+\n",
       "yv5teSvjTQIJzXkeIQo63RGhO+A8MqKYCiEybMQPkQZ95s5DUV4LaIIKJh/vSLtrvA5X0SjbRCQj\n",
       "gMi4q1Kbg4GCt2h0yYThIEIVzuDLWYCfAoiMzU7NECJdeXEldOXEleJq6cUtrQb0kYx9GINOWG+6\n",
       "IlsXCRX2OA//rVVTqQk6tJYq5OIfnSdEqtCIUofwWoraSOAJEZsWzzEy/emvm8WOjXzEeyrKRz5Y\n",
       "NeaWevqSz1F3LfKRSkfd7ht5kHPuU6ikyz8seSqKdtS9tGR5XYxwZlcXjziV1U/W9uXWcBVvUaK9\n",
       "15JTNSXSTt5r6XC3yL9XgU13HQsD1AAAAABJRU5ErkJggg==\n",
       "\" style=\"display:inline;vertical-align:middle;\" /></a><br>"
      ],
      "text/plain": [
       "summedQubitStateInQubitSpace: forall_{n in NaturalsPos} [forall_{x_{1}, ..x_{_a}.., x_{n} in Complexes^{2}} ((x_{1} + ..x_{_a}.. + x_{n}) in Complexes^{2})]"
      ]
     },
     "execution_count": 10,
     "metadata": {},
     "output_type": "execute_result"
    }
   ],
   "source": [
    "# need to form an Iter to replace xEtc here\n",
    "# summedQubitStateInQubitSpace = Forall(xEtc, InSet(Add(xEtc), QubitSpace), domain=QubitSpace)\n",
    "summedQubitStateInQubitSpace = Forall(\n",
    "    n,\n",
    "    Forall(\n",
    "        x_1_to_n,\n",
    "        InSet(Add(x_1_to_n), QubitSpace),\n",
    "        domain=QubitSpace),\n",
    "    domain=NaturalsPos)"
   ]
  },
  {
   "cell_type": "code",
   "execution_count": 11,
   "metadata": {},
   "outputs": [
    {
     "data": {
      "text/html": [
       "<strong id=\"scaledQubitRegisterStateInQubitRegisterSpace\"><a class=\"ProveItLink\" href=\"_proofs_/scaledQubitRegisterStateInQubitRegisterSpace.ipynb\">scaledQubitRegisterStateInQubitRegisterSpace</a>:</strong> <a class=\"ProveItLink\" href=\"__pv_it/c51389fd61cfc9caabb1030d0fb545acb66b6f140/expr.ipynb\"><img src=\"data:image/png;base64,iVBORw0KGgoAAAANSUhEUgAAAaAAAAAmBAMAAABwhlIbAAAAMFBMVEX///8QEBCIiIhmZma6urrM\n",
       "zMxUVFQiIiJERETc3Nzu7u6qqqp2dnaYmJgyMjIAAAAcRTyBAAAAAXRSTlMAQObYZgAABohJREFU\n",
       "WMPNWX9sE1Uc//baW3u3uw0S0TAhFpagDNAaJJIFtJuKGo0UDAqBQDNFo3+QRYiAGFzAaAE1VWIk\n",
       "gOkJOsgYbhFqhkK4bWJ0oqsOIuim1T8UieICGgU0+H3vru1r37W9dk3sS/r27u77fe99vr/e9/sG\n",
       "kL+9NXocFNzsMA1BKVor7W8eXWN2NvZWzDI2mIR4SQC5zGlqkl2+tqeYZWwwNWjFo5CnHvcmxpPK\n",
       "BJA8ZgRqWQLQHjbHVbHyAFQRLHhSZWa9OerVoF2HgZMTfQBSTXkAWhYueNJPYYXpflq9rO+HE+Nh\n",
       "LD49Vh6AfrI7lehPjNaiFAQKCJxLQJB2NcMlIhqtHABJF+1O9VBytAoifleQAkI7E6DC6xpFnMhb\n",
       "DoCctoP2WWZ8VIPPKaCdiiaAI+DUAwDqqHIA5KBilWIZrw/xyL3Mw1MAbjSwykU61C+GCLjvQ0DS\n",
       "HwygeP4jG/dmg6pQpkiA9Hu52MeFigjxEOHn36/ZiGEOg5qAPziOQHWYAwLRF4xjAH2WqVTLvdmg\n",
       "KpTpe9r/wp1OnCX2kriwrFO+fQBggCh1GLt2PzSmzuUVDKBthKQl395sUBXKdCvpVB/3vifzxbX4\n",
       "izUh7QVw6S7U6zrytrHHnyK5iQFUhTiVznx7s0FVKNMa0rnDWZPAU6tXU2VJGJjVANntI7D0wy6c\n",
       "cybHczScAqT2tbW9kXdvNqgKZbpAOovPVYbkF9aZzySEOamid8F1V67g3wn8Gd3JRLm/Q6FnLdbT\n",
       "0wNWFqrcUS4n03nS1VIjq6UY5IlPNPYYfo8PZ9nw3iqypjmXS2o7Ygyg5QCbLNbzpe8tC1Uqhx/6\n",
       "lgeUi0n+l/QvEy355bEyirgdvvauR43E04OdB5Wz08WG7mWBzMmqvQygOywCCw+Io5LMrPeTMJD5\n",
       "p4AU5ABxTJUvPd6U4KeAiH+jEjcKKPQ+6NfuRZpmCiNlgjjv1jRAET8HSGcAuUFgDzdx5UcwIcgB\n",
       "yqBKmmSL2AwHkasxrOyAgSODWZnkw9Nj8kJN/DWxzmXSX4UmhU5/m4JjDUL0A4nKMO8cNioNN+5k\n",
       "r6izBsYD8jGAlJg7+WFf72zoUjSn1jt95fROdm8sVcIkuj5+2huXh8EZBhUm6yq81+KGbEynDrWB\n",
       "uhPgcCYgB5pUd1/KrQxA21Ia8pF4GcytIRaQFE8mf+qW7Roc8foU3uQYKiJrUmC9sxmW6sRC5CAC\n",
       "cmMaXBFYaMGkTEXxush8d0WTppoyuQ782k+FJ/5JvZGanCM5kSdIjisCSM5ad3SwJgebHkWO2fNr\n",
       "ic1ji0ZfswBEqVKyJv5+GtHo8G6YHPcq6JMFNLFpfp5pFTQpUEUevznNBIXzZlCoRqvsJuMPhGGo\n",
       "SwSFVAJXQSL2hkbsHsga5SJslIMDKBK1IeYIG8lXVNm/xAIQoYKeGZMCVNbQDK7FGAzC8pP4MA2k\n",
       "QRAOQiscjnFMzhb47k7YTbfMZp7/mGmNE/XbL6JmLnuGSarqNNxlXfIqhaTSzjN9ctdm882Xuc8h\n",
       "GvO2Xw/Vmky3GgW91wIQoRK0FW4/lbXUDOp+ovndbbj++wBHIC0QMUyOTmjwwcOhUMi7YwFDcDXp\n",
       "7iZ55lDMieeP3FRXSzLZKiMotz5v6sFFSjh48Ie/ZiQ4+Uxhrp8FpBLOJmgAcU0otAEBvUlcOZCx\n",
       "N0Ilwm9gyNrVApX7CKDnrqAS7kGEQyctygfCVB0mFWUFtaNdKUeAV7KkPom64/4XjdSHBI709iOf\n",
       "6GpcPTQGZokQNDTkmp+1tMEqk8oay0YpmsS8NFc9VOWX+2VQCLE0K5DKPbvtJqezMo/kSxxPN1fg\n",
       "YUq+KgrHyPAEwGA2QOKwaMhaRE+t95Kzg7Q5uQBJs79yYiGxhYzbz70QYGpPsMgk+FN+XsazGrS+\n",
       "nkgDhBKfGgMP+pZrvd/Ys8XeIkpcMWQto6FtPQaK4TeDNipWAfXK5198gefhjLAiI2F3B6zTKKsS\n",
       "/Ab0oRx7az3R02fK+hmc5oszy433txRTgnuCliX4acinM158lRdHdKdAZT2FfRMvBpBxs2GnHUhP\n",
       "Iluy3LeM7JLEwwooVgwg+bJdQJVpqY6TvxF3dI4ckIsBsbu4q6IboVRtQiluTplDv644QI5AqQCN\n",
       "L4+rYDVeIjzm/5n+//8PbSgRoFfDZQJoT2lsTjbzWPuAOkJFyNIGk7S2JIA8MeMIvWR2+Zu4YFHh\n",
       "y9hher0kgN425loQoN1/U3Tnnc44VAAAAAAASUVORK5CYII=\n",
       "\" style=\"display:inline;vertical-align:middle;\" /></a><br>"
      ],
      "text/plain": [
       "scaledQubitRegisterStateInQubitRegisterSpace: forall_{n in NaturalsPos} [forall_{x in (Complexes^{2})^{otimes n}} [forall_{alpha in Complexes} ((alpha * x) in (Complexes^{2})^{otimes n})]]"
      ]
     },
     "execution_count": 11,
     "metadata": {},
     "output_type": "execute_result"
    }
   ],
   "source": [
    "scaledQubitRegisterStateInQubitRegisterSpace = Forall(\n",
    "        n,\n",
    "        Forall(x,\n",
    "               Forall(alpha, InSet(ScalarProd(alpha, x), QubitRegisterSpace(n)),\n",
    "                      domain=Complexes),\n",
    "               domain=QubitRegisterSpace(n)),\n",
    "        domain=NaturalsPos)"
   ]
  },
  {
   "cell_type": "code",
   "execution_count": 12,
   "metadata": {},
   "outputs": [
    {
     "data": {
      "text/html": [
       "<strong id=\"registerKetInQubitRegisterSpace\"><a class=\"ProveItLink\" href=\"_proofs_/registerKetInQubitRegisterSpace.ipynb\">registerKetInQubitRegisterSpace</a>:</strong> <a class=\"ProveItLink\" href=\"__pv_it/7974d8743fd082893f8ce8f516b2dbee98f321860/expr.ipynb\"><img src=\"data:image/png;base64,iVBORw0KGgoAAAANSUhEUgAAAWgAAAAmBAMAAAAb7hxOAAAAMFBMVEX///8QEBCIiIhmZma6urrM\n",
       "zMxUVFQiIiJERETc3Nzu7u6qqqp2dnaYmJgyMjIAAAAcRTyBAAAAAXRSTlMAQObYZgAABchJREFU\n",
       "WMO9mH9oG2UYx59ccvlxuaTdcEjrr9RuWscYN6so2pXMoYKKSzvqVAoLw4mCfxQ6daDUsIFmrUKc\n",
       "yMZQeu2QSeeWwIw/cG5hraCzhcx24B+bhvnfZFK1FZc65vPe+17ucpdLrku4B3J5L/fcm8/7vM89\n",
       "7/c9gNo2tuJWqNtC+Xp7EOLK14YVrXa8x6ABtr7+Lp5m37agjzSA2dN6gzeOT59Rm1zcYeix2I3d\n",
       "x+dA+EE9ueIw9IvLc5/cK9OG+BAI0xDa2NuOJ+/LjkLzV5flLqa8Bdpa65Y/E/KhTXlXCsAbdxQ6\n",
       "HLc1tChr+FI4So60InB/DiKH7oYmjDJfdBR6NGXH6xm14YsGFsATV6AxJyKwAzaR3y85Ct1NDs+z\n",
       "k4yV12WtGcSgzhDoQO4sQq+CLh7PzjkKvZIcptjJfRZO7ojW9mHbhxmR/Qjcn2QC87ArSyYsSqGV\n",
       "hL9YC9qGVzULLDLoT2/WZ4Exh0hxWD/0524Jywepy/gt5gC6SKasIyuqK0ehfzTMS2VoG15V1/B5\n",
       "NdK/kSha1Tn89C3B4WsShCQyVLxLmALP2pIHrSmtcJBcTdSCtuFVzdwDKvQSiaCFDLkFR+fFtPhV\n",
       "gqfgUfzhDbKUrluteXDzFDqMcyJmakHb8KpmvgSD9pCiJRTKZuGd14doDuG18y78I6/E//7NMP7y\n",
       "oLGf4FUKHTo7MXGg5oNow6uaNUkMWlRCvk9fm/fIKn0zgESmVIi4rl8nMW0zFfIlVj3+TSbfrPA/\n",
       "ufLqYeFlFzrCoMNScDYFJ3WXjsulHCqg+tyqv22LbFSn1xj0zvKRqyaVQ1OvNq0o9eeBO5MziwVm\n",
       "zwL0aumUzjPodOaeLfmyJ/HlUsufgEDuEX0n200q6y8GvdmQY5WhqZcvWipieOcF+MIsFqhtfQAP\n",
       "r2jFTIU+PS4fw5hGNc+EfqkPSGXQo1Ej1X8M2lf+NPODU9AWN0FTrzQJp3CyMw9BZNylCIKSWAg9\n",
       "fFGL/OP4OaWFLMOgNyjd8poS4W//A432IYGQ6Ncjpk3QfzNoMa/N1tHJjfCVKLvlyc7BzowemnoR\n",
       "FPj56wkg0MIiuDI6sRDsgIFa0K91kAQLaoPT1dEwDuiyt3qkVehAobRChUYOyfBtRBLN6UG9Jvm7\n",
       "wKNcQWgUYr68Xizs5BMW0Gp6CAsohDB7UzB7/k76D81aTmP8ZxVodf62G2WWoKYH7HsBmMreTH7K\n",
       "ZvdXgFa84MrnaTkMKnRRUQiaWBjg5iyg06x6hOaFJVFZquZugxbl0r3acodD9q9GT0/BqnoE1OoB\n",
       "J3BSqcpWnLPisf4K0MQL/sHH+TD9hxyJtCuiW4OFeHCmDHqsFKimHIVGrkWRiILA+ABQcewrZSFH\n",
       "gt79rnw0qbKes6zTShFVVLaggGYhN1kBmnjxK0cAtiWTyQi/F0hON5WSLsT8PXg1OUyh+VJld8Up\n",
       "tD8D7agkcPzeiIcmhvDSE+rel4yC775jsFToTCuiZ0GFDpGBEZXN704m9yD0x+SZixmgiReX6AmA\n",
       "V420vnowsQAWkfYX9NKUPBWumDtH/8LzPVvG4SYj4yWT8CqW6WlFZcdppD29FnraH9nGgRhjOQ3t\n",
       "WKcPyoFhPDCxoNmXZTktNuuhvdjDKPieNC4dXcbHrmjaOzbroanK/o4058iqURk6nPKuARhRoblp\n",
       "CXpSfAsemFgo2Qdv7dBDB4t66OP4eQy4GSNSjzGu8cpbTRWaqmxMOfAMRcFbdefCYU4r0LXslEEz\n",
       "qNA/Wfh7DTLSZ1rFqRwwbLc6MKftbbeWBw1vk8MadjJs9bLO0OcFk8fpVF17RKGl9n2a9jAXr4p2\n",
       "orwoJyrvj+vY2O6v+Ra0XzfbaVsbiGDZsu2WK+1tHNyNcwVogHHNzr7LW9UIaFfeWehfGviO2zFo\n",
       "f6T+PgItDkMLr9bfx5HMMqDTFav3Mu1Aqu4u3mNrSdHWG9i+5xowt7G6J4sWxA/7Yv8D4TeaMZON\n",
       "pEAAAAAASUVORK5CYII=\n",
       "\" style=\"display:inline;vertical-align:middle;\" /></a><br>"
      ],
      "text/plain": [
       "registerKetInQubitRegisterSpace: forall_{n in NaturalsPos} [forall_{k in {0...2^{n} - 1}} (|k〉_{n} in (Complexes^{2})^{otimes n})]"
      ]
     },
     "execution_count": 12,
     "metadata": {},
     "output_type": "execute_result"
    }
   ],
   "source": [
    "registerKetInQubitRegisterSpace = Forall(\n",
    "        n,\n",
    "        Forall(k, InSet(RegisterKet(k, n), QubitRegisterSpace(n)),\n",
    "               domain = Interval(zero, subtract(Exp(two, n), one))),\n",
    "        domain=NaturalsPos)"
   ]
  },
  {
   "cell_type": "code",
   "execution_count": 13,
   "metadata": {},
   "outputs": [
    {
     "data": {
      "text/html": [
       "<strong id=\"registerQubitComplexAmplitude\"><a class=\"ProveItLink\" href=\"_proofs_/registerQubitComplexAmplitude.ipynb\">registerQubitComplexAmplitude</a>:</strong> <a class=\"ProveItLink\" href=\"__pv_it/c8dcb99d336a2d53069225107826b2e068949cc00/expr.ipynb\"><img src=\"data:image/png;base64,iVBORw0KGgoAAAANSUhEUgAAAeUAAAAmBAMAAAAIFZ7/AAAAMFBMVEX///8QEBCIiIhmZma6urrM\n",
       "zMxUVFQiIiJERETc3Nzu7u6qqqp2dnaYmJgyMjIAAAAcRTyBAAAAAXRSTlMAQObYZgAABpZJREFU\n",
       "aN7tmQ2IVFUUgM/MvDc77817s04UshI0YtCqGS/sB0plVKwowXFlcoOlhiUJwWJAaaXEJo2cXQ0H\n",
       "IxPt56ngz/qzQ7ma6TaDWxCpMKSC6W4OWYEWarGS7hbbufe+3/lde5Iic+C9OXvffee+755zz/1Z\n",
       "gOoiBoNZcCabg/fCLZeHg2PAEwyqI6krjnLc3Ga4LWQMXq6RMccdN7a9xlxjrjHXmGvMNWaAHPvh\n",
       "TYz0ncks5HSNj7FfKWw8fKTMS/6UhTlP9P5qzAHyK+ccMDu1YMoOQ/OEYcdojZmbNvwr/jxfXP+h\n",
       "5X8sVWChhfko0S9WY5ZIzARUB8xOLZhywdDq8Dpv+Hm0XmSX6BBs/UeBvRbmDSRaEtWYaY0NTmLb\n",
       "qQVDZMVQD+M1xJifU6ENxEPgLowk2RsCOKeAFDKZSddL6arjmUTCUUfj2aEF07kpQ23HkB5kzNtH\n",
       "IXOgAcS89ux0WxtVT5Gc5VXYpkFjlr/r7Pyweg7r6+zcGXfE7NCCIebHCgglxRmzdBWZu2K0H4g0\n",
       "T9AqKSS2RHTyz5a8fS2ZXFbCdNbOXJ9Mrso6YnZowZBxhiZhHAcU/4kUMssDyPxplsU7frKeocTY\n",
       "PE3rtTAvMPrGJoqd2RsBXwrcdxmFLTlwHzEZelfa01MzQFPaxsws3Lhw/Wdtf79nS2Fd6fFzcsjs\n",
       "H0LmOTk9iXn1loTsDE370cI80xwDFZg5lvmWGHGFr/fBfqPLU16bkXmP422RjVmzMIL5l829x9AT\n",
       "EVQmghCzPn7T0Gbildmi7iGxLfyNzOfCdP5C8RnGFJ35gIW5zp7r+MVfw9hYETPEYRJqJGOIhyfn\n",
       "wJ8nHVCvGomFvy4/2W/6/Wm8vrKvSagFi//oXV9NSIWjygfzAfbh98xISZvgRE+f/vhuo+Kj5OxD\n",
       "0eaq5cj8trFOmXsJhXhBTLRotV+yMEs5c07b1TsVvpBUj9o7efHktI35OBBvE+30wU4gzOJVcOl1\n",
       "6sLCgL8R4pWYqQXYfflVANMVCa3EbSylMCz9a15pDUAXOi0FMozPyvBZoq6YmXTh640hxjw33cYN\n",
       "kAUX7TJzUrzoLcEs5I21i7x6owo9IUUqjm34hHSgpDTFOPoEmfnrUGdGiH8QFvCJSszUggoZsDOz\n",
       "EjGmR1ALiM0q/zsNRiyVMYbcmAyaLbEtT20imQyHijggDDBmYU3wWzIUWM5wGS2foMwq+yJjvd3+\n",
       "sm6FDBDo7l5Xitm3Hg0Hzj47GACdeRDqQmZCCUHcfbISM7UwVs3A9IiVWStZqEfQApA/IulXvEDX\n",
       "XDJkx7txAE4KmzlMnp5zpSiefEUcktg6TGSHe8zDHuPDfPejyuXtOQw+j+tWaBrqlva0lGD2k6xU\n",
       "j0l+K4vALPGzy2TuRaf4j9uYN6dszNSCK52Bx2x+1kpaaJajw35WN0lk21QavkIfuPfBNjicM+ec\n",
       "jQ/QTIJh7E3AVcm69tSXPWamm7ZG3ZXE2lOszPUhzYpI2+yGbG8JZviTpIbGNMxPJpMhfiWQ8Vwf\n",
       "LlwRcvg02cGY+WX2fRWxEAhl4Ccbs1aCf9IIEuJw5gfS6BO78Y4TQw9wIWvuI5ZbYTrrHl8axk1g\n",
       "e4zXhs+HaRmVbe/o6ZWfdt9iEli/WJllVbPCL00mVyDzxyRfRAqZz+DVyI9KeXU/W/M2zIZZUPhl\n",
       "BX6mFjyxjJaFdGatRE6zCOIS8OVBMlaG/8L7M9gJ/aeK1p73wBTesnG07CU53VezV7XlizbE9v0z\n",
       "tRJjfuaayu2fV/DxkBTRxjOuiPbDBlXowBv/26EO2zsHisczmy8bMu6EjVkrERQWQVwMNkWN914s\n",
       "uccQrsCSbkt2tjB7I2VmfeseQ/sUauUbop4ki40yzBegNQKrdWb3MQXmpvgGvLmGh69YX3n/rdbS\n",
       "zLB+7bGCuYqVYFfSCMLc79mCbbJKT5X4+nbAfnkwZ9maWpjLLnv2Fp2TMCs4OoBbHgZvxXMSN3qD\n",
       "MleTksxFc5VW4qPYbOM6JQJHWKW+imcGcqiI+ftyH9Ne7myoEcfzyM6G/jPz7stTi9YkpKQHLxpB\n",
       "b2DJpXcj5Y96zLMhfdHsNgO6o9yuO+X8PExsqP7eoornYaafDYVG0ERrpTzcVHF4Briu6tFWS/oG\n",
       "mAXFXq5FU+62YnZ87mln9hjzGmfh3HqHnW97bFtWv/ngoKlOqJ3p15hrzDeb+Voy5LCxrpIT//8s\n",
       "jclBnA7Xjuz/CtFoymFzfPSFW8/8QTQCQjQK/wJdovz2PuXdCQAAAABJRU5ErkJggg==\n",
       "\" style=\"display:inline;vertical-align:middle;\" /></a><br>"
      ],
      "text/plain": [
       "registerQubitComplexAmplitude: forall_{n in NaturalsPos} [forall_{k in {0...2^{n} - 1}} [forall_{Psi | |Psi〉 in (Complexes^{2})^{otimes n}} ({n}_〈k|Psi〉 in Complexes)]]"
      ]
     },
     "execution_count": 13,
     "metadata": {},
     "output_type": "execute_result"
    }
   ],
   "source": [
    "registerQubitComplexAmplitude = Forall(\n",
    "        n,\n",
    "        Forall(k,\n",
    "               Forall(Psi,\n",
    "                      InSet(MatrixProd(RegisterBra(k, n), Ket(Psi)), Complexes),\n",
    "                      conditions = [InSet(Ket(Psi), QubitRegisterSpace(n))]),\n",
    "               domain=Interval(zero, subtract(Exp(two, n),one))),\n",
    "        domain=NaturalsPos)"
   ]
  },
  {
   "cell_type": "code",
   "execution_count": 14,
   "metadata": {},
   "outputs": [
    {
     "data": {
      "text/html": [
       "<strong id=\"registerQubitBornRule\"><a class=\"ProveItLink\" href=\"_proofs_/registerQubitBornRule.ipynb\">registerQubitBornRule</a>:</strong> <a class=\"ProveItLink\" href=\"__pv_it/fc29cd92d54b16c4c1e90c83a2dae6e8f8a61a5a0/expr.ipynb\"><img src=\"data:image/png;base64,iVBORw0KGgoAAAANSUhEUgAAAtgAAAAmBAMAAAAM+vF2AAAAMFBMVEX///8QEBCIiIhmZma6urrM\n",
       "zMxUVFQiIiJERETc3Nzu7u6qqqp2dnaYmJgyMjIAAAAcRTyBAAAAAXRSTlMAQObYZgAACW5JREFU\n",
       "aN7lmg+MFNUZwL+bm9ndmdnduzOlhgPTBS0ChbLGVqsRsmCqTdAw0GBpJN7mUoglFC9qsU2pLjbR\n",
       "82zrUFJASXuDtlBPuV1bL9Ig7rSn1oqQtZSkrVA2EmhrY9nUg8BBu31/Zmfem53d2WObG5N9CW94\n",
       "b7/vvXm/973vfe/NAfimXV3TobmkdHWZEHiKFSa/z90kv66r28r8YTfdpdIJH4P02QD6FIv02W1n\n",
       "PmlP87D7Pgasxe4gep3VmrB3aZPc4ej3DIB4oSVhr53k/qJ6CPkQubsVYUsXJrnDsE66XNuKsOPp\n",
       "yYadksfQo8doQdiD+qR3qY7jSU60IOxF/zd/ZNj/LTA1THXOKoYx51hnC8K+omb4faruSehvKffG\n",
       "Z1dIaabGqYbPWcVRXCC+pAKbRN3HfWD7C/nBjgd1hrOSfJa8wH3n1264mf/l9Zo6v7iSh+iG3Z5i\n",
       "RHAmLiqfRo+7aDGWJFLTGdgH8eMDH9j+Qn6wo3htxY3gzuol8uhAZrPZaBA2nKwPO8yK0OorK/Wo\n",
       "eAd8EZc2MLB34GnP+MD2F/KDTbR3BOdF2qkn6zEB8olGYV+sD/tVVgRlSw14CJT9IBRwUfrn/gEs\n",
       "tYCBja2NmF092P5Cvj4br4uDwcEOU1NZgLgsMBuELY7Xh/0EK4KyPZ0IdnwqKEVcbCuXyWrK6w7s\n",
       "2NtDQ9v9Nkh/IV/Yx4aGng9wn+ygDvQp9O++VIOwo311YctFVgRl0bMIdjZNZsFR68kx0cj5/v5N\n",
       "vtGIr5Av7I7+/sfNAGFT3/FfxOgjWLJuyUwGtvjm0zN7pd9+reoclFSP6LVhRwusCN4RxxDsQZP4\n",
       "F0ctW2BgryEzUZVMDnYNoQnADmkQ0YODTYYM0iWAV0wwf5jbzMCORh6F7DXwEiH4L5LIOsjm5iwr\n",
       "UGqHSe1JDnaYE0GZehHBXlYgvziwyTRXYN9KfExVSnKwqdAMe2uRDgHMm+fM9hdc8dQqgBU5DraY\n",
       "hOGmcInH32vmAElgC+feGZ0LUm4jDRQs2HeHi9ggT7h18s8ae+u4kVs5EZTJlxDsEykSEzKwTQZ2\n",
       "mOyezgHpgddhRtoNmwqF7Ra2GBAzVfu64fc0wLHTl29E2Xr+UNMH8ycIiC6E1W/pIKHnZ0BON6xU\n",
       "GQxwnhMi4+R1lDHOZxvZFOQNuNfd1HXJuj7785wIzh5GsDfT0w4DO8nAjhbCdkMvjC6EfVGj3XDD\n",
       "pkJZw5KB1wj58YrIt6FHP3LgmPNGtwORYWEfAu/9UWRyzn1F6SMj9YGaAmmJHt0JXCeemxrXkspv\n",
       "U9BBX0Et8RtkHuBGjzPmxtmJerDncyI4W557SMTzqJq1YMvFu+zI/8lnDDiQSEZh9PoHrs8xsKnQ\n",
       "7RUZDDKrwbSK4oMwmPplJlwX9k/J6fbFM99wvXykkiuHz6HVc439w9cB9r25MVFUEJqbIAZzzBhw\n",
       "nbCbODZoxcRKXEs38W6kh5pQe5GHvQhgE4gXFMdn41dVxvBRm/XZpznYw5wIzuTvd72FP1GgzYnZ\n",
       "IFk3Ak+gbTi2cMXV1AvByMiPolU+mwjBqDSLymCQPTp8l/FvRkhbVRd2ZBvq38BW5A1boQa3u7LC\n",
       "JBN+PgD3mKD24doYhHUBuE5Y94pZ7jGxEtfSbnvIiUqYjVKbSUcszNII7OmIGpqBne5Dp3Ix6mnZ\n",
       "R47OTBKkjAjJlC5yOt3BLohBNhqBX6HBxBYX2nR6BTIS3bu6GjYWgg9fzhpFG7YB9zuvcD9y6/NT\n",
       "9WCr2I/PMPKwWPOELXSrJXEKhHRr9aDw5c8mXpHDqCaux8CcI/CdMOkwOrMoZwok5mFbiuvsNgVn\n",
       "6El9UKMjXiekMWxknWh24qYrMg1l4Kw37D9eBVOJs2BEmOM6PrzViLNJbPLMtdBhKATwCJij1bBJ\n",
       "AHNOAyqDNz9k2Y6XiyaREb1a4GDv0vlbv39jm8rl4QZcwMYxcw3nRqappfY0tk26esIg3o2g6Mo6\n",
       "HEYU5GMgvGx34qjTdBCZ8vAyDQddXEv23t+GHcOicq/9dnjEqXaTxNl9ICRBXeiKTCM5uHquF2z5\n",
       "2T6yXfWxIuQiakP5ZIr8wKgtS7GwY3i6e2ExSN/q738Uwf5JuBo2FpKueNKSWZUkPtvZ1I9Udrt+\n",
       "lAbocKRNPOy/kKv0PLyPC8g4PmnM4mC/r5bwTXvGumTcDrG9ePjPDeGdLg0HQHQuNSz1EO7uB8hZ\n",
       "zr0Iyim01ra7WrIDpkhVeNsLyyGcq3s3AjWikVBC7LSuUr2uWFGUyxRPGFX32VPgFgnS1LLFFeih\n",
       "Vd9nC5nlMpXBls1GI6Ip8r7By7LJ1pTOwyfwhouMYwxu4WDfoJba0Cu+Z62eL4H6Am7hkTKO0jMg\n",
       "Hz/qXJg66nS4+mMwrOWxEtcS1rMkqv50ZQrMhkHpsmC3ae2m5tyruWEjX8YUf1P18UAuwYMj8AYx\n",
       "GoBj3h8PIomvCFQG+2MhqablAdhhoOye/fv4e8tXqn027WdqXiDjDyWkTvgOB3vLztJs9L+t1uq5\n",
       "DeQRewYll2E66rQI+edPwbuAlLiWHD113H3BXUK2/afoZcEehPBSzbkxdsMe5oqnq2CLaZhXwC4I\n",
       "xIfRMvGGHddDnyYyFOS8UZCmwnIdZZ8qlzmVrY/0esOGbU+9Q32oJmTkksbClu+9hLcoNJtp6xB6\n",
       "cwLHL9b7cclSD+GA7EOApdD2uAa/I0pcS7ae8h93eJ+Gf8C2ty8L9m0gHMKuNeEN+w9skXbs9Vls\n",
       "NrIov89iROa1Bs5ynrBJ6IfWwiAyzljGZGFbZ40M0NWDut36BkTpgGJspMCp43Q0DeIHZMHucbXk\n",
       "6D1W6zWvrftZTKj6LCbYy61yzUFqnGoYYIvqhVqwa9761QY5QdgvnkHnT2kaMo64Lq83+EPNRyh2\n",
       "UAtAV0/YQDV/X2N/gWIO4aw6LpfpyF4ysRLXkqP3blBfLYpNw97VwAXeek/LptPtdYJkinj1COzH\n",
       "inhNdZyedswux7fk6GVzwcBuyzUNW/a/VFqdqw3717Vhb7V/YD/DHaip7koZviVHTygGA3sGNA17\n",
       "4vfZXCrUhm3fZsCdTAPJmuqudCfXEqs3JRjYVwUOm3NqTA70L1wsZ+G4KsFotCtVZ1ti9f4aCGtr\n",
       "QbXaX7FGEkH0ukVvSdjKN4Po1Dp4NQw76xV8T6zL8/2J4GlvD+ATaKRAg6txK/NN0sqvNtvnypV6\n",
       "8LBlbfL7/BnJf7xSI9n/AOFs/OP+lvOcAAAAAElFTkSuQmCC\n",
       "\" style=\"display:inline;vertical-align:middle;\" /></a><br>"
      ],
      "text/plain": [
       "registerQubitBornRule: forall_{n in NaturalsPos} [forall_{k in {0...2^{n} - 1}} [forall_{Psi, m | |Psi〉 in (Complexes^{2})^{otimes n}, m = MEAS(|Psi〉)} (Pr_{m}[m = k] = |{n}_〈k| . |Psi〉|^{2})]]"
      ]
     },
     "execution_count": 14,
     "metadata": {},
     "output_type": "execute_result"
    }
   ],
   "source": [
    "registerQubitBornRule = Forall(\n",
    "        n,\n",
    "        Forall(k,\n",
    "               Forall((Psi, m),\n",
    "                      Equals(Prob(Equals(m, k), m),\n",
    "                             Exp(Abs(MatrixProd(RegisterBra(k, n), Ket(Psi))), two)),\n",
    "                      conditions = [InSet(Ket(Psi), QubitRegisterSpace(n)), Equals(m, Meas(Ket(Psi)))]),\n",
    "               domain=Interval(zero, subtract(Exp(two, n), one))),\n",
    "        domain=NaturalsPos)"
   ]
  },
  {
   "cell_type": "code",
   "execution_count": 15,
   "metadata": {},
   "outputs": [
    {
     "data": {
      "text/html": [
       "<strong id=\"registerQubitAllProbs\"><a class=\"ProveItLink\" href=\"_proofs_/registerQubitAllProbs.ipynb\">registerQubitAllProbs</a>:</strong> <a class=\"ProveItLink\" href=\"__pv_it/b2a2f9c4ba140ebea81ff59fc360498402b1a8690/expr.ipynb\"><img src=\"data:image/png;base64,iVBORw0KGgoAAAANSUhEUgAAAlMAAABABAMAAADMsu/HAAAAMFBMVEX///8QEBCIiIhmZma6urrM\n",
       "zMxUVFQiIiJERETc3Nzu7u6qqqp2dnaYmJgyMjIAAAAcRTyBAAAAAXRSTlMAQObYZgAACexJREFU\n",
       "eNrVnH9sG2cZx5+cfXbuh52qqIi2m5KV0XWloxZDjE7r6hYxkKqq7pBg0qbGKxsq1bRGbBogBvXy\n",
       "x8haQTyK2I9qypVqrdZptbs1W1GIfCNbBxtKDaUMtFYJVKVjsMZd03RJkx3v3b3v3fuef7yX2Ybc\n",
       "SfHZ/r73+PXnnnve533eiwECualfuhlODJ5y37hjbvQrbBgfzYmO/AnvYx2/h/vhxUzUUb5+Ux1f\n",
       "L8GXeg0j78vWlYEjc4GU0oWfvAI/gM5sJEW50lfrsNvNl9YPFPyhKs0N7348Ze+lBfAg9CWjcEOy\n",
       "Iaj2Jn1ILYFC9V28j3agh4K2H35TbAiq8EIfUqBQqaP4yTDNrQGo4FYfUqBQ9eGLQRo3uSUaiCqX\n",
       "50uBQtWD960Z9HCC9K0HbTvrRKXO40tBQqVM4ieFLOqSHk41zqvkD/hSkFDFM/jJu+hv88BRjVFf\n",
       "qcv2cY0rBQlVJx7uxBn00G4YjLh7x5a6wmCRKwUJ1Xa8jzShN/FRrhQgVPIEGZPSjTcuTHKlAKGK\n",
       "jeMnI8kmnIdprhQgVK2kE73NsP53rhQgVG1kAPywGdaPp3hSgFBt1HFnpptivYMnBQjVcRyi1PFm\n",
       "WM9leFKAUI3hVDA+hfcGtXXUaz06jycFCNVlErNwfU8xLtlPnttwtzGvXuuRSZ4UHFQSieZ95FJZ\n",
       "c9kR375Sd2I1w5OCg0q5SCbLpPoSNdxc9Na6s7ZpnhQcVAKZ4a8kcUk0XE8IVR/r4XNnazI6Zw0X\n",
       "4Ynq336CoLKmOKe5qHw0a+oWItfYGufsjhhZR8Zz2r8Yj377jKdK8FrVPPwRM+ypFiqp+pIUlhCq\n",
       "t8z9e1xUPpo1dYuQHGG7M69pNbrKmqGv1brIJyqIJxxUcKHCNY8NXSConjTBZbiofDRr6hYnQ9SY\n",
       "40py+0VvKxHFFeUDv6ja8i6q9jJ1/zGclrQTVHHkr2qei8pHs6ZuLbjf0O5eXxvLljEF5HvCtF9U\n",
       "GzUKlVYexqboT0SoYm8ePPgEP6z7aNbcKSAZWqiSnmosqjCnjoz7RfUGuKh2ZKuisiVzBPywp+dh\n",
       "HyMgv9n/HBWMeYNxGxp9+hKwbtu6JRSq8LGnlmwRf3uP1+YZGFw1K1T3AjxWoW+6B1WVZv9XVHsN\n",
       "nW3VqYOCTqj+s/wjFCq1tRty18Jh89XweXM7Y8W6K8IvZgiqMTvdoGQHlS2ZqL4M8miFviU8qKo0\n",
       "87+FT7/TaFSK4bnYVt73h89rIOYfgq9QqO6MjkKfDiPeEW5quVwkqHpTVb2q10EVBYEuwosPvAbX\n",
       "pMtReZr52Wyfvut3WRDR/rMgpX0fhDe3/zk8zZOZUX3NBTYa91ovZXmciVVaLgkFDbZ6U7VPULGq\n",
       "N1kdVZKgUovuvTfPD62Go6oW0spR0c1Yb6EemQtXtXcZsQuUJIjrsuoe9p6oSpvKWDrCQRX1XIF4\n",
       "WqiU2LBeALgJYL63ZLCle5aopNFvOOKupzUY7EioMHTjAzfmGVR2M3l4wutbreTR1q51hO8AHD32\n",
       "UMeojA5fBTG4Xo8x90TR2wHTmWTdPIi2FHJ8LIe/vcwsakmX2bQKJ1ohFCpiq2//tLA0ZaFCU8SH\n",
       "ITwpO8Hon5bJpLm0z6Ki5Aqo4LF7bMNmPEJbf//P1QqxymomsyeMQYW1/cQ7RR2e3Qmbdeu2qP0I\n",
       "VTQrAHNPFLUVzBNwQDcPoi3J6ZqxCmILy9Iq62sh5rG1xZZtQtpCdRWgSzI0uof9zBHI5XVPWK/k\n",
       "VW5Yh5e6bMNZe6LXr75wVyVUZjNhkVIKL6iMCmuRLPbOSAr+hjjpcAi9E8/GQL9eAOaeKGobRhMB\n",
       "eaxoHsRY+ldtVBvZL0jKfn3o7aevg7ZkSDdRSeMm+7juGS63QluqFiqhHFVbh21Yky08/aAPVUJl\n",
       "NoPFSilknmnHvakL0NaQX9jeGYXwnahBVt5mfmxROgXCESD3RJ04uSSx5F73I95CH3EIffGox9IN\n",
       "NVGJbJ0qNDZhlx2sGxi2wCaI5q28qguEBCirPanTLhDQcEnyqjJUobs/Wk1JFqqYZhleC+L3e3q6\n",
       "EapnopVQWc3+oZTiZncc96ZQYS2DyxBPQOwFs3P7DqKvrKRhEMJuXffPV8MntaUQMe9j+SmKOcuv\n",
       "gHy2U0MHsZZerjWxgb21CsULYBn0ibWydaidrZPNTUGJ4VtESNteFb6dGafpetUXlVKLadtxbwoV\n",
       "1t4B2zu/Bsrz5ofsMAsA4QxIp0+64fhXXTAOt7j9zT4Kh1IF8yDGkvkaD1cE1Q6NTrdrlE1L6PT/\n",
       "VfWLqr16i3a2tIcMP9gPr1snHOBU1dLe43tKy4B2bwoV1nZj77wNpH6Ht+hJXyMd4jz4ofsSCs+d\n",
       "hT8COoixBJudiHgJwJsrttaqdITTKND98k2/qIzqLQwWFTK8ogit6GX4x0nU82qopK3TOuPeFCqs\n",
       "Id6Wd6Kh7mZ0gWjEPlsoSAkZqZSKmEPz+wDroeUnKXP6eofH0m01SnvwhutgNWoevlDJl6s2wJK3\n",
       "YLysp5tTMLaG8Sc1x70pVDiRyIDtnQeQW7wOqh1OYvToI+2EPuRXsQx582Qawu8BvGodxFg6VbZO\n",
       "sLJYIVOI1UB1Xc2CsWAXjMXqa9ZYmnVtXR6+iLq6Ke+4N5OCmpqC/kzvhKiG3nkXj3IhOkUQFyNv\n",
       "iWel+zRSJbcvqsO6eRBj6QvOKSJVqIJeIVNY27BVjqrSx12GyFfK1qmXpncKdKM4++kec0+5JznP\n",
       "WnJCnEjWCTrJpSy5mcK+i3WvcjRrcUvJVke12xHooDvIHP/r6p+VYSwpRbpq7pSk7EyBuJf0Mlk9\n",
       "rWOV4xJP+pioYlAd1SpH2ECFRvbW6Rolig2MpX1UdkOyBtKZMWu6dv5cu2FUWI+Ybem+xJMasQ4Y\n",
       "oh6Za5PyPUHzHTSytKXlVL0lxZ7/UEPvWWjr4kkBumehgF1RmWmG9c4ETwoQKnILqDzRDOsr8zwp\n",
       "QKii5BL5XjOsb+dKAUKlkjXT49kmWP8UVwoQKoksGvfhGH6NG8tXrKjTeHiGKwXpFv9zZPDGV2LU\n",
       "mQDEdCVdn+3IFFcKEqoRnC3EcLaQcxIQBG2qzlwhwZWChKqNZOd4Nuj+r1YuBYsbcxpqSEFCpZIb\n",
       "FF613WlIXEoynyz8qD7b5/lSoP518irSadu93j+S07aaBedip+b999zZRvVLfClQqEZwcMKLThPO\n",
       "RYO8an59M8AEXwoUqjgJVv+xqjLzd1Gxqr77/g9rfClQqMRJ14vQDDyzSYL7zdpCse4R8GofUrB+\n",
       "Z+FtkkeZmVVrxzcFUrdI1JdXRdI+pGChipC48S3zcsxGPuNk60MNOQU1JZ+o5srP5/ybRK2G3pQq\n",
       "LeRLfn8+Rx6YGz+fA8+SDqUaiirLl9YPDGj/BXM5md1BSk6JAAAAAElFTkSuQmCC\n",
       "\" style=\"display:inline;vertical-align:middle;\" /></a><br>"
      ],
      "text/plain": [
       "registerQubitAllProbs: forall_{n in NaturalsPos} [forall_{Psi, m | |Psi〉 in (Complexes^{2})^{otimes n}, m = MEAS(|Psi〉)} ((Sum_{k=0}^{2^{n} - 1} Pr_{m}[m = k]) = 1)]"
      ]
     },
     "execution_count": 15,
     "metadata": {},
     "output_type": "execute_result"
    }
   ],
   "source": [
    "registerQubitAllProbs = Forall(\n",
    "        n,\n",
    "        Forall((Psi, m),\n",
    "               Equals(Sum(k, Prob(Equals(m, k), m),\n",
    "                                domain=Interval(zero, subtract(Exp(two, n), one))),\n",
    "                      one),\n",
    "               conditions = [InSet(Ket(Psi), QubitRegisterSpace(n)), Equals(m, Meas(Ket(Psi)))]),\n",
    "        domain=NaturalsPos)"
   ]
  },
  {
   "cell_type": "code",
   "execution_count": 16,
   "metadata": {},
   "outputs": [],
   "source": [
    "## This one requires pregatedControlledNgate, defined at the top of this page,\n",
    "## but that pregatedControlledNgate requires the Circuit class\n",
    "# pregatedControlledNgateEquiv = Forall(\n",
    "#         n,\n",
    "#         Forall(U,\n",
    "#                Forall(u,\n",
    "#                       Forall((a, b),\n",
    "#                              Forall((x, y),\n",
    "#                                     Equals(pregatedControlledNgate,\n",
    "#                                            controlledNgate(MatrixProd(u, a), b, x, y)),\n",
    "#                                     domain=QubitRegisterSpace(n)),\n",
    "#                              domain=QubitSpace),\n",
    "#                       domain=SU(two)),\n",
    "#                domain=RegisterSU(n)),\n",
    "#         domain=NaturalsPos)"
   ]
  },
  {
   "cell_type": "code",
   "execution_count": 17,
   "metadata": {},
   "outputs": [],
   "source": [
    "## This one requires controlledNgate, defined at the top of this page,\n",
    "## but that controlledNgate requires the Circuit class\n",
    "# controlledNgateEquiv = Forall(\n",
    "#         n,\n",
    "#         Forall(U,\n",
    "#                Forall((a, b, c),\n",
    "#                       Forall((x, y, z),\n",
    "#                              Iff(Equals(controlledNgate(a, b, x, y),\n",
    "#                                         controlledNgate(a, c, x, z)),\n",
    "#                                  Equals(TensorProd(b, y), TensorProd(c, z))),\n",
    "#                              domain=QubitRegisterSpace(n)),\n",
    "#                       domain=QubitSpace),\n",
    "#                domain=RegisterSU(n)),\n",
    "#         domain=NaturalsPos)"
   ]
  },
  {
   "cell_type": "code",
   "execution_count": 18,
   "metadata": {},
   "outputs": [],
   "source": [
    "## This one requires controlledNgate, defined at the top of this page,\n",
    "## but that controlledNgate requires the Circuit class\n",
    "# superpositionControlledNgate = Forall(\n",
    "#         n,\n",
    "#         Forall(U,\n",
    "#                Forall((a, b, c, d),\n",
    "#                       Forall((x, y),\n",
    "#                              Implies(And(controlledNgate(a, c, x, y),\n",
    "#                                          controlledNgate(b, d, x, y)),\n",
    "#                                      controlledNgate(Add(a, b), Add(c, d), x, y)),\n",
    "#                              domain=QubitRegisterSpace(n)),\n",
    "#                       domain=QubitSpace),\n",
    "#                domain=RegisterSU(n)),\n",
    "#         domain=NaturalsPos)"
   ]
  },
  {
   "cell_type": "code",
   "execution_count": 19,
   "metadata": {},
   "outputs": [],
   "source": [
    "## This one requires pregatedControlledNgate, defined at the top of this page,\n",
    "## but that pregatedControlledNgate requires the Circuit class\n",
    "# pregatedControlledNgateMerger = Forall(\n",
    "#     (n, k),\n",
    "#     Forall(U,\n",
    "#            Forall(u,\n",
    "#                   Forall((a, b),\n",
    "#                          Forall(c,\n",
    "#                                 Forall(d,\n",
    "#                                        Forall((x, y),\n",
    "#                                               Implies(pregatedControlledNgate,\n",
    "#                                                       Implies(pregatedControlledNgateWithMerge,\n",
    "#                                                               Equals(d, TensorProd(c, b)))),\n",
    "#                                               domain=QubitRegisterSpace(n)),\n",
    "#                                        domain=QubitRegisterSpace(Add(k, one))),\n",
    "#                                 domain=QubitRegisterSpace(k)),\n",
    "#                          domain=QubitSpace),\n",
    "#                   domain=SU(two)),\n",
    "#            domain=RegisterSU(n)),\n",
    "#     domain=NaturalsPos)"
   ]
  },
  {
   "cell_type": "code",
   "execution_count": 20,
   "metadata": {},
   "outputs": [
    {
     "data": {
      "text/html": [
       "<strong id=\"registerBraOverSummedKet\"><a class=\"ProveItLink\" href=\"_proofs_/registerBraOverSummedKet.ipynb\">registerBraOverSummedKet</a>:</strong> <a class=\"ProveItLink\" href=\"__pv_it/9be0ac96e79c5698ffd9c0b6e7707676e8fcad630/expr.ipynb\"><img src=\"data:image/png;base64,iVBORw0KGgoAAAANSUhEUgAABBQAAABABAMAAABYYTldAAAAMFBMVEX///8QEBCIiIhmZma6urrM\n",
       "zMxUVFQiIiJERETc3Nzu7u6qqqp2dnaYmJgyMjIAAAAcRTyBAAAAAXRSTlMAQObYZgAAEZlJREFU\n",
       "eNrlXQ1sW9UVvnH8E/8m6kBQBqoh2mCoUEM3QVmhrtAogqEYpo1q6kgG6wZSRT2oGAhGvSKxtBWq\n",
       "gakwpBIXNihlkGyjBRa6mAZWGO1qUSZgKm1GQYyx0rRNSpOQeu/+vXfPfefZbuw44+2o9Xk5ufed\n",
       "z/d+795z/14I+f+U/nty0W++lzd/XlhP55ELLyK7tuw2f/ZlviCl5i0Wj01VbiptxeKAw6/e1DQi\n",
       "0Thmi2T9A+GzSFpavnNBVSWUEBeXatoB9OvkZvKHTMBkwux0PepRB9dULI7Bz/JfdKz3uSqKqarc\n",
       "jAq9vUn8N+E01Jg8j9oCWd8IWaw8jQuqgrhClm4cagfQd5D2rD9lNUTeulBBB+ft7R2Dn+Urc7Cq\n",
       "J2aw2q/Q5vib+1NQIxI8EbUFksEhkva8VSMqrBdcDZ0AtQPoZaQrGSDnJOtLBQTcl22fX1Qq3KJp\n",
       "RAJxB1t4NNQR3lEjKnini4v5WaidQPflniAvFepLBQSca6gQGYAak7852TSOVEcFconQjQNQO4GG\n",
       "5K0TFezgXEOFriTUWP8w5GTrJ7WkQnePaHzHoHYAHUlMBRXs4FxDhU5NY6FSxsEWFZXh7TRkVdVU\n",
       "iLSIi5c1jYPeJX64nHrP1YsKdnBuoUJ4BGpM+rIOtm+Tb9WyVQgdks1DHGoUtDfvTU1Bq2AH5xYq\n",
       "xDJQY/IvB5vvk95VZcecxyM7c6J5GIUaBX1d7ws5bFA82WID5xYqtBegRsQ37mBrKBYBrgeXX18d\n",
       "yC4BIjgONQp6RrEIgpcLjsTrQgUbOLdQYammEfEPVmarXmIyKv9U0w6gp0Z0cC6hQugI1Gjn2FGZ\n",
       "rXrxyIBlVhZqHPQUiQ7OJVSIDkGNyd5kZbYaDNQ+l0zLQ42DniLRwbmECk2DUGOypkJbDeSfsqdo\n",
       "gRoHPUWig3MJFZozUGNytEJbDWSnGB5GhqHGQU+R6OBcQoW2PNSY788rs9VC2sQgwHsIahz0FIkO\n",
       "ziVU2JmEGnsIhiqz1aQbFs976CjUOOgpEh2cS6hwIAc11jWOOttiRUVqMKwPyNjgp5pGQdfae6Wi\n",
       "gXMJFT7TNNYzp51t4aLoL5+66ofFluoL2S9Hk0uzUKOga+29UtHAuYMKwaNQY9KVKWGbZ3Ho7bHq\n",
       "C9kjZ/BmFaDGQNfce8UTCxCcO6gQPgy1EPYVfaIZ7kvY85m2QLHDNF5SMRh567BtxkCGo3vzUGOg\n",
       "J+pd98k+v18ZQAycO6jgOQS1KAhWwBERnM1CemHT5itaywSNcqFwHfF8yq+jH7GbBMVjFBYtq7x1\n",
       "oxn/vSi+p5xHbOuAGgONezd8nfshv9yzTMABPsxkQr7HPl+BYbENIIUu4WvgIBUGqHqvXGWWTzU5\n",
       "uQUVYqxyQIvbOAa1WQBnDpvFMY9tKAn+5OBq0lR8X7WxJ6OYhY2JEVlnRN7HW7P8YoPx7yR6cZNZ\n",
       "0qFfpCXnWJDA7xKU+7q7BqDGQOPeN4hqDZ0/R1xkuDPpw0wm5OvEszzFkq5dfnIPWXMsjgFk0G9C\n",
       "wUEqvEHVv8tVZvlUk5NbUCFC6y8Ghgr+IahFu2swZtCkwtKkNX48gwAboRu+bVFlLCvyLunr4Rcf\n",
       "G//30YtnrYcuRvsYM29IlO5BGZe2QI2Bxr1/LKjgf2OMXxhwuLPQAEwmxLjDXpGHjlI9cRQgg/4s\n",
       "Cg5S4WHK6Ey5yiyfanJyCyqwzA/DWhuBmstLxpOXMalwgD9MMdpHXUSAjZbvjMO6q12igQ0N/YZf\n",
       "sM1O7FGOxE0qNFNinmNm2srVDPFjwyDUGGjUO/XFqrX7iiS/oJudmDPpQyYTLb/R4V8o8hygbU4O\n",
       "B0ihC/gaOEgF+qxFespVZvlUk5Nbxgq0SXkDWBtGoeay0jDETSrM4O0Im+2V7eUMq21pK+qY7hBU\n",
       "CA+Ki4BBHC/zEGoxqdCWsx4zQ9bDG+PA7Dabd+qLVWufDADuIMKZ9CGTiYbFuJomktKhid8BIIUu\n",
       "4GvgIBWif9248aGylVk+1eTkllTYvXHjU7BBbR6EmnfYRkPalTKpIDaI0DnhkIznlU0jkeIp2lgv\n",
       "LRgQkRcPiR8M+cCkwjZZD+JR596WC0NgBGoMNOr9IcmAbeKCwuHOpA+ZjMujRpJhnpTNJP/OASCD\n",
       "/gEGThtBHO3svKv8GKBsqsnJLanQ3Nn5y3x5KkQKrPfUqEBXiqJJOxXIAe0InyfB80bPuzXBb9JK\n",
       "qyER3pWVW6SpdR/ZMoe1zsJpYkJUsHlvFQzYddJsfkHhcGfqFulW82oHC4xYUra+9JYDQAa9vwIq\n",
       "LGbNqk3ysDJtqQLgxz0UqkVDHymT+3ip4E9xljfuKEkFegzxRhsV6CxrI0GosL4I6dVUEHmb4+Li\n",
       "Ptp193ytzfjFHnMEMeb51bgSlkV5THdADAljw0BHPmWSsIPVvd8nW4VD4oLCEc6iAyCZGTX6Mzwp\n",
       "m/ZOOABk0Pdg4DQqXArjUykJWJkslW/N++Q6MX6mHdOi7VtSC4/FfQc6iAEpwk4I84AmieQOmZu5\n",
       "FhWIZ6v1VMlcUhYSck0PpII3wfu+rTNLUoGeDJ2mU4HtHPJjVAgX4dpUoEfkNToZfnEn7bofyz1D\n",
       "5EZYwxoePTtUoCM5eRde5msEFZqGoXZsFXTvd8p+YVhcUDjCGfeRk8l4ySZYYMSSsq1ZHQ4AGfTn\n",
       "MXAaFQLEow7Yfbe+Qk7vsFGBpzLiEW+PSQUDSx8Lqq4klAo3sRPCXOZgueUG86DRSe4mm2UKKxcX\n",
       "dqp5iTbFlOYR8QemtbsFaibfMPCPmFQI8fFdmE7mPCBDqIOqq3kHwQC1ISny9sm5Gnq88DxeFO2S\n",
       "Co1fUuZ3aInx+l0j+Nc0BLUqAKzu/QTBABqzsgsKRzhjPkLHZDJzZqpdhJp9RvEG4w4AGfR2DJxG\n",
       "hUjBPN1Nnu6/mLwQydFRiUYFnsqIRzw5nsygQiBHmlhQdTalgi/PTgjz9wY8geU2uqvQS7MLJGy0\n",
       "QstIc84M22UuIZQyf9aosIO3d6OlqWDQxdOiU4H1o6+jVAjANtqkwjaVCredFQdUCFy/Qoxbq6SC\n",
       "5l1SgYWpkgrCGfdxG6ACfbpOF0lpOBTJOgCsmArBAZM+0dWP5MiWeCJC+mffOrtHrUye6h7aDfBk\n",
       "BhWasyRMmhIsrsjQ7pyeEObvDYhliT230cu98+JGQqkQGiYN8v5WrhJUeJTNnr1z2GzAugeB3vX3\n",
       "MxJsANXUkTOpwDuDyKAylgzBbeef4R3EvcTqIEJD/GTdAkmF7iQ77LaSRC++hsZw4kCLAxVErNAB\n",
       "QKPeZQfR1KF0EMKZcmjGSMYd03793pCggtkHIgAZ9AUVUIGs/JG8OXsJw6ZND0TssQJLRcYZFS4V\n",
       "HUTsVDqdURBUYHXZl+PvDbD6HCX3iHgnhUEFoxkPWN2SzFWCCk1r2YxPxmkE8dZpZDobQDUX8lqs\n",
       "EB5VZ24BFaLT8bBxGrHCxuhgaCxClLBxrxFI5umsV3R+oSFbLmx0jhV07zJspP2/GTZyZ1rYKBwb\n",
       "kfh4RHQQOTm3jACsOGwkf0zLmzN/myLPLEKoQFPRfnidWFIwqBA672CS9lZ0fSTDx7u3EP7egHAH\n",
       "kruFryUwKoyqR5llrhJUCLPXojQmHKgQfCxNOw9jANV8RVwfQewjwcUEpUIbfDFDRAwmQ0OSCv0s\n",
       "SB+mVJgrS/pG0pzK0ymzR85kvVxjfoJU0Lz3CwZ0J2VPkSDCmfQhkgnHRg8w9BhPGkuQtSkngAz6\n",
       "3EqoQEdOLFOIFfQmku9HqEBT0X74XcKTseZobZr2VtEspcLlHDx/b4A3g+TOkMd5xJmnpGqIKzWg\n",
       "vm2AUWF9VluZPCQfW7xV8Me9LSy6jM61DSYj955PUCr4tJ0CXjGzxOObJIfS1ENajWCIfChLejXx\n",
       "nJ9jjeD1ZD4tVl4Hy0XFBoahdqSC7n2BYECbXG6kcLgz6UMm444NCLvyYgD62g1x4gSQQf8QA6dT\n",
       "IZoTmXy3d3auMKiwLoBQgaZqzNDOgCfzk1CKhAbpJDh9ZjLkMmKdECa+AXvupji5trOzM+4zIg4j\n",
       "VmhOKjP/PKlyqtl3l0aFf7C4LuU08dyQasyn5ABKm3gGotrWx/GJ50iGKBPPIshIg1uzXvJEMtdH\n",
       "yJOk4ikmMBmte5cTz68RdeKZy5MwGXcs1qHxRWoFIIUu4JeeYuLCMnXwVsF7jaFSGhWYmw7iK4gQ\n",
       "zE/CPXQl9C+E/IBRYaF6QtjbYc/d8F0R2RitgjqC0M8V460CD7usegyMAt1FAlem5JKVLI7lCBVU\n",
       "2z58OWpzrCBvYq39KMtRTIwuJzhIlm06ruWogEqFfehyVLhjv1m/u/QlL5FMOBYrfA5UsABWuhwl\n",
       "glmW6VXCpy9326eO+bOeJjSMeJVTwWgjNuTItXQUSanwpHpCOJq35272kEhKxAqklWwmD+eCq4wP\n",
       "/Vwxmw3RYwWLJASdybmMeHaYC9myONYg72hSbPaXLzSxRerbn7VuslJd6VVuTcN3g+8zC+YEXbHU\n",
       "3BexTzvZva+k1RpYNWDWr7mMACYBVwrHct0fp4IFECxSQ3AYFXgmo1sk3ruT1tScVpnksu0UAU1G\n",
       "qfDg9ouM3y5hc8EZOstgnRC29tBYuRtfoV2foIJne4JcnfVNNz60c8X8VDNOBesxcdi6Eo2rxTEP\n",
       "WQ1VbNssBsqXprAF7jfnWDfZoNSTemvrHYCivkJyZNidhloVFazdO9u6Em3NmvUbykAfZjIhb5ag\n",
       "gvKSwpUWfA1ciQ1tZ3WucFhQsiWDdDGo4FHLPeaQ22PECowK5QSlwv7Fyp3GoVYfH4948rGdppZN\n",
       "GctFJfZ1xHM3z+yBG9qiojLkrZvMinxXtJhyB2t7Bmrw9cdJCe+GrzPFhrZz4Ya2d8F0RAG2VF+B\n",
       "LmwAKXQJXwNXm72NNioQ9atvKZV7wlTYqgRa4c+hxqQvX8qmjOXmk6rF3MEq99Fie2wVsLX1Xqlo\n",
       "4CaLClcpD2eiVO7Q9PJOl6AdhDoUOwI1Ju0dJWxBq7F+/HD1hVzR5ncLbI29VyqTsvk98LH6E12k\n",
       "DlsdmidXMvcDhXI+F/WUowI5pmlEmgdK2NbL5iG4uThcfSE3ynvMS0GNgq6190pFA+eS01HLNY3R\n",
       "dbCE7QBfHPjIiFqLNXgXUsy8r6ZR0LX2Xqlo4FxChZJPn/akIrbGGp9aNA/llTzAJ8E2TtGZSQ2c\n",
       "S6jQV4AaC+XGK7PVQtpFeOQ7DDUOeopEB+cSKsh3KpV4txL25qPJehvSLBHdeMagxkFPkejgXEKF\n",
       "QBpqTH5Woa0GInfryRfA4S+CC6SnlAo6OJdQITICNSY7s5XZaiAnC92QgRoHPUWig3MJFYKHoMak\n",
       "K+5sO936nbLndsJfU4YgbQWocdCq95kz60YFHZxbXuH5kaaxEV7a2RZImiZlz+2Em1655rg0B7UD\n",
       "aMt7NB+uWwChg3MLFfamoEYkOuxsUxa8lRXzCY8l5fzqYU07gLa8G6QYrRcVdHBuoUJzHmpMPne2\n",
       "WQve6p7biYqsYkm06HBp0Jb37lRFtVALsYFzCxUip0CNycs5R1u/76tytA323E5M5FuT5buezXc+\n",
       "O4C2vLdnyc/rRAUbONf8aZBTNY2FzHlH2/7nunN+uoXuPrjndmLfUj5ncsGxLVUaNPV+I/VeaM+V\n",
       "+ttXtY0adXCuocLeHNRYkzjqaDtiVhbYczvB502GCvs07QTa8m60CtPqRAUbONdQIZaHGpP/ONl8\n",
       "01YrsYK153Zi8nvBxvApUDuBVrwbsUKd3gFuB+caKvhGoMakPetg82SuDhI/XR3cX4MRxGmy8ylA\n",
       "7QSaeb+Zei/UbwRhB+eevzP5tqaxHiLtYGuKX+uRhtZq5xX8cmbgx5p2Aq149yTqNa9gB+ceKvgT\n",
       "UGNyg4MtlvWbmwLpntuq5G2NeNESSw0MrOp9Zn+dhpJ2cMdNhf/dP0/+iaaxvrmnMls1EpQ79O7P\n",
       "Ql0SdL1FBzeBP08e6q3mD4xXl5vK045/npz8VtOY/1RltqqoIGv+15ouCbreooPz9vb+Sf38L3Td\n",
       "CTKDSD2yAAAAAElFTkSuQmCC\n",
       "\" style=\"display:inline;vertical-align:middle;\" /></a><br>"
      ],
      "text/plain": [
       "registerBraOverSummedKet: forall_{n in NaturalsPos} [forall_{U in [SU](2^{n})} [forall_{l in {0...2^{n} - 1}} [forall_{f} (({n}_〈l| . (U . (Sum_{k=0}^{2^{n} - 1} ([f](k) * |k〉_{n})))) = (Sum_{k=0}^{2^{n} - 1} ([f](k) * ({n}_〈l| . U . |k〉_{n}))))]]]"
      ]
     },
     "execution_count": 20,
     "metadata": {},
     "output_type": "execute_result"
    }
   ],
   "source": [
    "registerBraOverSummedKet = Forall(\n",
    "    n,\n",
    "    Forall(U,\n",
    "           Forall(l,\n",
    "                  Forall(f,\n",
    "                         Equals(MatrixProd(RegisterBra(l, n),\n",
    "                                           MatrixProd(U, Sum(k, ScalarProd(Operation(f, k), RegisterKet(k, n)),\n",
    "                                                             domain=Interval(zero, subtract(Exp(two, n), one))))),\n",
    "                                Sum(k, Mult(Operation(f, k),\n",
    "                                            MatrixProd(RegisterBra(l, n), U, RegisterKet(k, n))),\n",
    "                                    domain=Interval(zero, subtract(Exp(two, n), one))))),\n",
    "                  domain=Interval(zero, subtract(Exp(two, n), one))),\n",
    "           domain=SU(Exp(two, n))),\n",
    "    domain=NaturalsPos)"
   ]
  },
  {
   "cell_type": "code",
   "execution_count": 21,
   "metadata": {},
   "outputs": [
    {
     "name": "stdout",
     "output_type": "stream",
     "text": [
      "Theorems may be imported from autogenerated _theorems_.py\n"
     ]
    }
   ],
   "source": [
    "%end theorems"
   ]
  },
  {
   "cell_type": "code",
   "execution_count": null,
   "metadata": {},
   "outputs": [],
   "source": []
  }
 ],
 "metadata": {
  "kernelspec": {
   "display_name": "Python 3",
   "language": "python",
   "name": "python3"
  }
 },
 "nbformat": 4,
 "nbformat_minor": 0
}
