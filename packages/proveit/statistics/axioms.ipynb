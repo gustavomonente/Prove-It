{
 "cells": [
  {
   "cell_type": "code",
   "execution_count": null,
   "metadata": {},
   "outputs": [],
   "source": [
    "from proveit import special_statement_magic # for %begin_theorems and %end_theorems\n",
    "from proveit.expression import Operation\n",
    "from proveit.basiclogic import In, Forall, Equals, Implies\n",
    "from proveit.statistics import Prob\n",
    "from proveit.common import x, X\n",
    "from proveit.numbers.common import zero, one\n",
    "from proveit.numbers import Summation, Abs, Mod, ModAbs, Add, subtract, DiscreteContiguousSet#, Neg, Add, Multiply, frac, Exponentiate\n",
    "from proveit.numbers import greaterThanEquals\n",
    "from proveit.numbers import IntervalCC"
   ]
  },
  {
   "cell_type": "code",
   "execution_count": null,
   "metadata": {},
   "outputs": [],
   "source": [
    "%begin_axioms"
   ]
  },
  {
   "cell_type": "code",
   "execution_count": null,
   "metadata": {},
   "outputs": [],
   "source": [
    "# All probabilities are between zero and one.\n",
    "prob_between_zero_and_one = Forall((x, X), In(Prob(X, x), IntervalCC(zero, one)))\n",
    "prob_between_zero_and_one"
   ]
  },
  {
   "cell_type": "code",
   "execution_count": null,
   "metadata": {},
   "outputs": [],
   "source": [
    "%end_axioms"
   ]
  },
  {
   "cell_type": "code",
   "execution_count": null,
   "metadata": {},
   "outputs": [],
   "source": []
  }
 ],
 "metadata": {
  "kernelspec": {
   "display_name": "Python 3",
   "language": "python",
   "name": "python3"
  }
 },
 "nbformat": 4,
 "nbformat_minor": 0
}
