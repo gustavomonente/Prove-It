{
 "cells": [
  {
   "cell_type": "code",
   "execution_count": null,
   "metadata": {},
   "outputs": [],
   "source": [
    "from proveit import specialStatementMagic # for %begin_theorems and %end_theorems\n",
    "from proveit.expression import Operation\n",
    "from proveit.basiclogic import In, Forall, Equals, Implies\n",
    "from proveit.statistics import Prob\n",
    "from proveit.common import x, X\n",
    "from proveit.number.common import zero, one\n",
    "from proveit.number import Summation, Abs, Mod, ModAbs, Add, subtract, DiscreteContiguousSet#, Neg, Add, Multiply, frac, Exponentiate\n",
    "from proveit.number import GreaterThanEquals\n",
    "from proveit.number import IntervalCC"
   ]
  },
  {
   "cell_type": "code",
   "execution_count": null,
   "metadata": {},
   "outputs": [],
   "source": [
    "%begin_axioms"
   ]
  },
  {
   "cell_type": "code",
   "execution_count": null,
   "metadata": {},
   "outputs": [],
   "source": [
    "# All probabilities are between zero and one.\n",
    "probBetweenZeroAndOne = Forall((x, X), In(Prob(X, x), IntervalCC(zero, one)))\n",
    "probBetweenZeroAndOne"
   ]
  },
  {
   "cell_type": "code",
   "execution_count": null,
   "metadata": {},
   "outputs": [],
   "source": [
    "%end_axioms"
   ]
  },
  {
   "cell_type": "code",
   "execution_count": null,
   "metadata": {},
   "outputs": [],
   "source": []
  }
 ],
 "metadata": {
  "kernelspec": {
   "display_name": "Python 3",
   "language": "python",
   "name": "python3"
  }
 },
 "nbformat": 4,
 "nbformat_minor": 0
}
