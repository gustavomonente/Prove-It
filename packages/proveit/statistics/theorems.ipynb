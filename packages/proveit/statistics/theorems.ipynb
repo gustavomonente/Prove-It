{
 "cells": [
  {
   "cell_type": "code",
   "execution_count": null,
   "metadata": {},
   "outputs": [],
   "source": [
    "from proveit import specialStatementMagic # for %begin_theorems and %end_theorems\n",
    "from proveit.expression import Operation\n",
    "from proveit.basiclogic import In, Forall, Equals, Implies\n",
    "from proveit.statistics import Prob\n",
    "from proveit.number.common import q, s, x, y, X, P, Px, Pq, Q, Qx, Qy, S\n",
    "from proveit.number import Summation, Abs, Mod, ModAbs, Add, subtract, DiscreteContiguousSet#, Neg, Add, Multiply, frac, Exponentiate\n",
    "from proveit.number import GreaterThanEquals, IntervalCC\n",
    "from proveit.number import Reals"
   ]
  },
  {
   "cell_type": "code",
   "execution_count": null,
   "metadata": {},
   "outputs": [],
   "source": [
    "%begin_theorems"
   ]
  },
  {
   "cell_type": "code",
   "execution_count": null,
   "metadata": {},
   "outputs": [],
   "source": [
    "probInReals = Forall((x, X), In(Prob(X, x), Reals))\n",
    "probInReals"
   ]
  },
  {
   "cell_type": "code",
   "execution_count": null,
   "metadata": {},
   "outputs": [],
   "source": [
    "probLowerBound = Forall((P, Q, S, q), \n",
    "                        Implies(Forall(x, Operation(P, Qx), domain=S), \n",
    "                                GreaterThanEquals(Prob(Pq, q), \n",
    "                                                  Summation(y, Prob(Equals(q,Qy), q), \n",
    "                                                            domain=S))))\n",
    "probLowerBound"
   ]
  },
  {
   "cell_type": "code",
   "execution_count": null,
   "metadata": {},
   "outputs": [],
   "source": [
    "%end_theorems"
   ]
  },
  {
   "cell_type": "code",
   "execution_count": null,
   "metadata": {},
   "outputs": [],
   "source": []
  }
 ],
 "metadata": {
  "kernelspec": {
   "display_name": "Python 3",
   "language": "python",
   "name": "python3"
  }
 },
 "nbformat": 4,
 "nbformat_minor": 0
}
