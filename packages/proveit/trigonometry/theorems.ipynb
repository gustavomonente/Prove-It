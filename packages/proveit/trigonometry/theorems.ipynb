{
 "cells": [
  {
   "cell_type": "code",
   "execution_count": null,
   "metadata": {},
   "outputs": [],
   "source": [
    "import proveit.special_statement_magic # for %begin_theorems and %end_theorems\n",
    "from proveit.basiclogic import Forall, Equals, NotIn, NotEquals\n",
    "from proveit.numbers import subtract, Multiply, frac, Exponentiate, Neg, Mod, LessThanEquals, GreaterThanEquals, Abs, IntervalCC\n",
    "from proveit.common import n, r, x\n",
    "from proveit.numbers.common import theta, e, i, one, two, pi, Integer, Real"
   ]
  },
  {
   "cell_type": "code",
   "execution_count": null,
   "metadata": {},
   "outputs": [],
   "source": [
    "%begin_theorems"
   ]
  },
  {
   "cell_type": "code",
   "execution_count": null,
   "metadata": {},
   "outputs": [],
   "source": [
    "exp_2pi_i_n = Forall(n, Equals(Exponentiate(e, Multiply(two, pi, i, n)), one), domain=Integer)\n",
    "exp_2pi_i_n"
   ]
  },
  {
   "cell_type": "code",
   "execution_count": null,
   "metadata": {},
   "outputs": [],
   "source": [
    "exp_2pi_i_nonInt = Forall(x, NotEquals(Exponentiate(e, Multiply(two, pi, i, x)), one), domain=Real, conditions=[NotIn(x, Integer)])\n",
    "exp_2pi_i_nonInt\n"
   ]
  },
  {
   "cell_type": "code",
   "execution_count": null,
   "metadata": {},
   "outputs": [],
   "source": [
    "exp_2pi_i_x = Forall((x, r), Equals(Exponentiate(e, frac(Multiply(two, pi, i, Mod(x, r)), r)),\n",
    "                     Exponentiate(e, frac(Multiply(two, pi, i, x), r))), domain=Real)\n",
    "exp_2pi_i_x"
   ]
  },
  {
   "cell_type": "code",
   "execution_count": null,
   "metadata": {},
   "outputs": [],
   "source": [
    "exp_neg2pi_i_x = Forall((x, r), Equals(Exponentiate(e, frac(Neg(Multiply(two, pi, i, Mod(x, r))), r)),\n",
    "                     Exponentiate(e, frac(Neg(Multiply(two, pi, i, x)), r))), domain=Real)\n",
    "exp_neg2pi_i_x"
   ]
  },
  {
   "cell_type": "code",
   "execution_count": null,
   "metadata": {},
   "outputs": [],
   "source": [
    "bounded_unit_modulus_diff = Forall([theta], GreaterThanEquals(Abs(subtract(one, Exponentiate(e, Multiply(i,theta)))),\n",
    "                                                           frac(Multiply(two, Abs(theta)), pi)),\n",
    "                                domain = IntervalCC(Neg(pi),pi))\n",
    "bounded_unit_modulus_diff"
   ]
  },
  {
   "cell_type": "code",
   "execution_count": null,
   "metadata": {},
   "outputs": [],
   "source": [
    "%end_theorems"
   ]
  },
  {
   "cell_type": "code",
   "execution_count": null,
   "metadata": {},
   "outputs": [],
   "source": []
  }
 ],
 "metadata": {
  "kernelspec": {
   "display_name": "Python 3",
   "language": "python",
   "name": "python3"
  }
 },
 "nbformat": 4,
 "nbformat_minor": 0
}
