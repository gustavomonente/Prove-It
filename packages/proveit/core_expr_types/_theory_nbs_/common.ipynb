{
 "cells": [
  {
   "cell_type": "markdown",
   "metadata": {},
   "source": [
    "Common expressions for the theory of <a class=\"ProveItLink\" href=\"theory.ipynb\">proveit.core_expr_types</a>\n",
    "========"
   ]
  },
  {
   "cell_type": "code",
   "execution_count": 1,
   "metadata": {},
   "outputs": [],
   "source": [
    "import proveit\n",
    "# Prepare this notebook for defining the common expressions of a theory:\n",
    "%common_expressions_notebook # Keep this at the top following 'import proveit'.\n",
    "from proveit import ExprTuple, IndexedVar, Function, ExprRange, var_range\n",
    "from proveit import (a, b, c, d, f, g, i, j, k, l, m, n, \n",
    "                              x, y, z, A, B, C, D, P, Q, R, S, fa, fx, gx, Pk)\n",
    "from proveit.numbers import zero, one, two, Add, Neg, subtract\n",
    "from proveit.logic import Equals, Implies\n",
    "from proveit.core_expr_types import Len"
   ]
  },
  {
   "cell_type": "code",
   "execution_count": 2,
   "metadata": {},
   "outputs": [
    {
     "name": "stdout",
     "output_type": "stream",
     "text": [
      "Defining common sub-expressions for theory 'proveit.core_expr_types'\n",
      "Subsequent end-of-cell assignments will define common sub-expressions\n",
      "%end_common will finalize the definitions\n"
     ]
    }
   ],
   "source": [
    "%begin common"
   ]
  },
  {
   "cell_type": "code",
   "execution_count": 3,
   "metadata": {},
   "outputs": [
    {
     "data": {
      "text/html": [
       "<strong id=\"a_1_to_i\">a_1_to_i:</strong> <a class=\"ProveItLink\" href=\"../__pv_it/common/3143372b81f4215c0f48ddd93ca9c77fdfbd3fc20/common_expr.ipynb\"><img src=\"data:image/png;base64,iVBORw0KGgoAAAANSUhEUgAAAFMAAAANBAMAAAAnGE+0AAAAMFBMVEX///9UVFSqqqrMzMwiIiJE\n",
       "RESYmJgyMjK6urru7u4QEBCIiIh2dnZmZmbc3NwAAABRgo0vAAAAAXRSTlMAQObYZgAAAMVJREFU\n",
       "KM9jYOC7c3slAz6AUND1gP0DA4MpbqUQBXsZGDiXMfAGMNhewakSooDBjoGB9ycDywYGhhacSqEK\n",
       "gIArgGG+AT6lUAVAMP8Agz4DPqUQBd0CQJYCgzjTA3xKwQoO/GRgYN3A5sgDNpXzO0iiAMqA88AK\n",
       "+CY5AIWkNz/cAXGAywQGBhagRQyODFCCxROmgHUD3BqQUqYJGLZrwp0xGS6mAsQ8mA49AGOowyXf\n",
       "+kszMMzGDH64tRPPoUgkYChlQ+YAAOvvNxRJxxgfAAAAAElFTkSuQmCC\n",
       "\" style=\"display:inline;vertical-align:middle;\" /></a><br>"
      ],
      "text/plain": [
       "a_1_to_i: a_{1}, ..a_{_a}.., a_{i}"
      ]
     },
     "execution_count": 3,
     "metadata": {},
     "output_type": "execute_result"
    }
   ],
   "source": [
    "a_1_to_i = var_range(a, one, i)"
   ]
  },
  {
   "cell_type": "code",
   "execution_count": 4,
   "metadata": {},
   "outputs": [
    {
     "data": {
      "text/html": [
       "<strong id=\"a_1_to_ip1\">a_1_to_ip1:</strong> <a class=\"ProveItLink\" href=\"../__pv_it/common/6b9d9f952b43aa339aa5da35bbe502cb34ec6c110/common_expr.ipynb\"><img src=\"data:image/png;base64,iVBORw0KGgoAAAANSUhEUgAAAGcAAAAPBAMAAAALyMz9AAAAMFBMVEX///9UVFSqqqrMzMwiIiJE\n",
       "RESYmJgyMjK6urru7u4QEBCIiIh2dnZmZmbc3NwAAABRgo0vAAAAAXRSTlMAQObYZgAAAPNJREFU\n",
       "KM9jYOC7c3slAz6ATUHXA/YPDAymuDVBFOyFcZkDGBg4lzHwBjDYXsGpB6KAwQ6m564DAwPvTwaW\n",
       "DQwMLTg1QRWAACOI4ABq4gpgmG+ATxNUAQiwwjTNP8Cgz4BPE0RBtwCKJgUGcaYH+DSBFRz4iayJ\n",
       "dQObIw/YJs7vDFBifgESA6yAb5IDsiZO6c0Pd0Cc5zIBSDgCMYsAjOEJU8C6gUG8vKq8PAGsCQpA\n",
       "mpgmYLhNE+7Iycg2QYEKEPNgeugAjKHOA9PEBNf01l+agWE2ZsRugLEmnoNq4rvycQOykgQMTWyo\n",
       "XFYGMgBZmvigNAAUmD/Wzn6j0AAAAABJRU5ErkJggg==\n",
       "\" style=\"display:inline;vertical-align:middle;\" /></a><br>"
      ],
      "text/plain": [
       "a_1_to_ip1: a_{1}, ..a_{_a}.., a_{i + 1}"
      ]
     },
     "execution_count": 4,
     "metadata": {},
     "output_type": "execute_result"
    }
   ],
   "source": [
    "a_1_to_ip1 = var_range(a, one, Add(i, one))"
   ]
  },
  {
   "cell_type": "code",
   "execution_count": 5,
   "metadata": {},
   "outputs": [
    {
     "data": {
      "text/html": [
       "<strong id=\"a_1_to_j\">a_1_to_j:</strong> <a class=\"ProveItLink\" href=\"../__pv_it/common/c8a98ca85a9bbb295b39a2d1b136c123aaa30bd10/common_expr.ipynb\"><img src=\"data:image/png;base64,iVBORw0KGgoAAAANSUhEUgAAAFQAAAAPBAMAAACIDPXGAAAAMFBMVEX///9UVFSqqqrMzMwiIiJE\n",
       "RESYmJgyMjK6urru7u4QEBCIiIh2dnZmZmbc3NwAAABRgo0vAAAAAXRSTlMAQObYZgAAANNJREFU\n",
       "KM9jYOC7c3slAz6AUND1gP0DA4MpbqUQBQzFDJzLGHgDGGyv4FQJUcDAoMDA+5OBZQMDQwtOpVAF\n",
       "QMAVwDDfAJ9SqAIgmH+AQZ8Bn1KIAs69CgzzFRjEmR7gUwpWwMtRwMC6gc2RB2wq53eQRAGUAedB\n",
       "FMzjEWDglN78cAfEAS4TGBhYBIAMRwYoweLJAFPAmgCzBqSUaQKG7ZpwFv8DGEsFiHkwHXoAzrKC\n",
       "Md76SzMwzMYM/g1w5lYUiQQMpWwIZjQDkYCxbyXRSg8+YAAArMo3nDbtX60AAAAASUVORK5CYII=\n",
       "\" style=\"display:inline;vertical-align:middle;\" /></a><br>"
      ],
      "text/plain": [
       "a_1_to_j: a_{1}, ..a_{_a}.., a_{j}"
      ]
     },
     "execution_count": 5,
     "metadata": {},
     "output_type": "execute_result"
    }
   ],
   "source": [
    "a_1_to_j = var_range(a, one, j)"
   ]
  },
  {
   "cell_type": "code",
   "execution_count": 6,
   "metadata": {},
   "outputs": [
    {
     "data": {
      "text/html": [
       "<strong id=\"a_1_to_k\">a_1_to_k:</strong> <a class=\"ProveItLink\" href=\"../__pv_it/common/f3629d98d3adc0d5ec58a498a176acb7b7c7984e0/common_expr.ipynb\"><img src=\"data:image/png;base64,iVBORw0KGgoAAAANSUhEUgAAAFYAAAANBAMAAADBMYTwAAAAMFBMVEX///9UVFSqqqrMzMwiIiJE\n",
       "RESYmJgyMjK6urru7u4QEBCIiIh2dnZmZmbc3NwAAABRgo0vAAAAAXRSTlMAQObYZgAAANRJREFU\n",
       "KM9jYOC7c3slAz6ApKDrAfsHBgZT3GrBCrhXA1mcyxh4Axhsr+BUClHA4AFk8v5kYNnAwNCCUy1E\n",
       "AedPIJMrgGG+AT61EAUcDkDm/AMM+gz41EIU8FywFmCYr8AgzvQAn1qwAvakzp8MrBvYHHnA5nJ+\n",
       "B8kUQAk4D6KAXxjkTenND3dA3OAygYGBRYABSjiCGJ4wBVZbFeA2gdQyTcBwgCaMsZV5wQMYWwWI\n",
       "eTAdewDGiGZ22ABlvvWXZmCYjRkPMHmGOgZpA2SZBAy1bCg8ALcHOigbqkdeAAAAAElFTkSuQmCC\n",
       "\" style=\"display:inline;vertical-align:middle;\" /></a><br>"
      ],
      "text/plain": [
       "a_1_to_k: a_{1}, ..a_{_a}.., a_{k}"
      ]
     },
     "execution_count": 6,
     "metadata": {},
     "output_type": "execute_result"
    }
   ],
   "source": [
    "a_1_to_k = var_range(a, one, k)"
   ]
  },
  {
   "cell_type": "code",
   "execution_count": 7,
   "metadata": {},
   "outputs": [
    {
     "data": {
      "text/html": [
       "<strong id=\"a_1_to_m\">a_1_to_m:</strong> <a class=\"ProveItLink\" href=\"../__pv_it/common/bc38b7062774cc3b24ef5e8d35e599851e9b2a5f0/common_expr.ipynb\"><img src=\"data:image/png;base64,iVBORw0KGgoAAAANSUhEUgAAAFwAAAANBAMAAADWExQ5AAAAMFBMVEX///9UVFSqqqrMzMwiIiJE\n",
       "RESYmJgyMjK6urru7u4QEBCIiIh2dnZmZmbc3NwAAABRgo0vAAAAAXRSTlMAQObYZgAAAP1JREFU\n",
       "KM9jYOC7c3slA17w9uyuCXBO1wP2DwwMprhVc6xjqIdzOJcx8AYw2F7BrXxWAsNVOIf3JwPLBgaG\n",
       "FtzK709g8IZzuAIY5hvgVb6UgfMznDP/AIM+Az7lnH8YmD4wsF2z3su90YBhvgKDONMDfMo/MTAW\n",
       "6LF1JXBJcgswsG5gc+QBm875nQFKzC9AYjBEM6QIHHi5hYG/gfcAA6f05oc7II5xAYWuIxCzCMAY\n",
       "nkBi4m476QYGaQYrBhYFmJUg5UwTMFyiCWctZtjK8J4ZxlMBYh5Mhx+AMfg+AM1Phal46y/NwDAb\n",
       "05sb4FErwFDH8PAksmQChnI2dAEAbtA+DP/l6qQAAAAASUVORK5CYII=\n",
       "\" style=\"display:inline;vertical-align:middle;\" /></a><br>"
      ],
      "text/plain": [
       "a_1_to_m: a_{1}, ..a_{_a}.., a_{m}"
      ]
     },
     "execution_count": 7,
     "metadata": {},
     "output_type": "execute_result"
    }
   ],
   "source": [
    "a_1_to_m = var_range(a, one, m)"
   ]
  },
  {
   "cell_type": "code",
   "execution_count": 8,
   "metadata": {},
   "outputs": [
    {
     "data": {
      "text/html": [
       "<strong id=\"a_1_to_n\">a_1_to_n:</strong> <a class=\"ProveItLink\" href=\"../__pv_it/common/a5f13b212a38aa0f8472b7953ca9227038e6b4f50/common_expr.ipynb\"><img src=\"data:image/png;base64,iVBORw0KGgoAAAANSUhEUgAAAFgAAAANBAMAAADf+LRDAAAAMFBMVEX///9UVFSqqqrMzMwiIiJE\n",
       "RESYmJgyMjK6urru7u4QEBCIiIh2dnZmZmbc3NwAAABRgo0vAAAAAXRSTlMAQObYZgAAAO9JREFU\n",
       "KM9jYOC7c3slA17w9uyuCVBm1wP2DwwMprjVcqxjqIcyOZcx8AYw2F7BrXhWAsNVKJP3JwPLBgaG\n",
       "FtyK709g8IYyuQIY5hvgVbyUgfMzlDn/AIM+Az7FnH8YmD4wsF2z3gtUrMAgzvQAn+JPDIwFemxd\n",
       "CVwPGFg3sDnyQEyeXwCU+o7MABPRDCkCB15uYeCfwMApvfnhDohiFk8g4QhiCEAZDC7AAJ642066\n",
       "gUGaoQtuGdgZmhhuYILFBsNihjvMMLYKiDiAoZgHxuD7wOChDItRf2mgCzdgKJ4Nj0YBhj0JyDJs\n",
       "mEGBIs8AAET9O0ZmIZY6AAAAAElFTkSuQmCC\n",
       "\" style=\"display:inline;vertical-align:middle;\" /></a><br>"
      ],
      "text/plain": [
       "a_1_to_n: a_{1}, ..a_{_a}.., a_{n}"
      ]
     },
     "execution_count": 8,
     "metadata": {},
     "output_type": "execute_result"
    }
   ],
   "source": [
    "a_1_to_n = var_range(a, one, n)"
   ]
  },
  {
   "cell_type": "code",
   "execution_count": 9,
   "metadata": {},
   "outputs": [
    {
     "data": {
      "text/html": [
       "<strong id=\"a_i_to_j\">a_i_to_j:</strong> <a class=\"ProveItLink\" href=\"../__pv_it/common/a68dd9e631386013af8a6244688513902a02f7730/common_expr.ipynb\"><img src=\"data:image/png;base64,iVBORw0KGgoAAAANSUhEUgAAAFIAAAAPBAMAAACFEoWBAAAAMFBMVEX///9UVFSqqqrMzMwiIiJE\n",
       "RESYmJgyMjK6urru7u4QEBCIiIh2dnZmZmbc3NwAAABRgo0vAAAAAXRSTlMAQObYZgAAANdJREFU\n",
       "KM9jYOC7c3slAx6AkO96wP6BgWEvTpUQeYZiBs5lDLwBDAx2uBRC5RkUGHh/MrBswGM5Qp4rgGG+\n",
       "AR6VCPn5Bxj0GRi6BXCphMhz7lVgmK/AIM704MBPnCrB8rwcBQysG9gcefgmOTBwfgeJFzAgGGAC\n",
       "LM8wj0eAgVN688MdQD4Dg8sEBgYWkCscGaAMFk8GqDwDawLMjskMDEwTMKzWhLP4H0AZ6jwMDDyY\n",
       "jjwAZ1nBGBPPMTDMxgx1REBvRRZPwFDJhmBGMxAHGPtWEqvy4AMGAIezOMmD/c+XAAAAAElFTkSu\n",
       "QmCC\n",
       "\" style=\"display:inline;vertical-align:middle;\" /></a><br>"
      ],
      "text/plain": [
       "a_i_to_j: a_{i}, ..a_{_a}.., a_{j}"
      ]
     },
     "execution_count": 9,
     "metadata": {},
     "output_type": "execute_result"
    }
   ],
   "source": [
    "a_i_to_j = var_range(a, i, j)"
   ]
  },
  {
   "cell_type": "code",
   "execution_count": 10,
   "metadata": {},
   "outputs": [
    {
     "data": {
      "text/html": [
       "<strong id=\"a_1_to_0\">a_1_to_0:</strong> <a class=\"ProveItLink\" href=\"../__pv_it/common/8c5202c7a453b54b2dd15453f74938c117b3af500/common_expr.ipynb\"><img src=\"data:image/png;base64,iVBORw0KGgoAAAANSUhEUgAAAFYAAAANBAMAAADBMYTwAAAAMFBMVEX///9UVFSqqqrMzMwiIiJE\n",
       "RESYmJgyMjK6urru7u4QEBCIiIh2dnZmZmbc3NwAAABRgo0vAAAAAXRSTlMAQObYZgAAAPJJREFU\n",
       "KM9jYOC7c3slA17w9uyuCRBW1wP2DwwMpriVcqxjqGdg2LOHgYFzGQNvAIPtFdxqZyUwXGVgO8Ak\n",
       "wMD7k4FlAwNDC2619ycweDOwNDD8ZOAKYJhvgFftUgbOzyA1ixjmH2DQZ8CnlvMPA9MHBvsHDG4M\n",
       "8xUYxJke4FP7iYGxQM8e5BDWDWyOPBBz5xcAZb4jM8BENEOKwAGguasZOKU3P9wBUcviCSQcQQwB\n",
       "KIPBBRiwE3fbSTcA3fsDZhPYDZoYDmCCRgIkHKBABUQcwFDLA2NwX2ASgEWjvzTQdRsw1M6Gs/ac\n",
       "RZFgwwyEBGQOABn6P9mj5lscAAAAAElFTkSuQmCC\n",
       "\" style=\"display:inline;vertical-align:middle;\" /></a><br>"
      ],
      "text/plain": [
       "a_1_to_0: a_{1}, ..a_{_a}.., a_{0}"
      ]
     },
     "execution_count": 10,
     "metadata": {},
     "output_type": "execute_result"
    }
   ],
   "source": [
    "a_1_to_0 = var_range(a, one, zero)"
   ]
  },
  {
   "cell_type": "code",
   "execution_count": 11,
   "metadata": {},
   "outputs": [
    {
     "data": {
      "text/html": [
       "<strong id=\"a_ip1\">a_ip1:</strong> <a class=\"ProveItLink\" href=\"../__pv_it/common/c6721edda7aea2015fba37e72f6b3fb19ecbcace0/common_expr.ipynb\"><img src=\"data:image/png;base64,iVBORw0KGgoAAAANSUhEUgAAACUAAAAPBAMAAACRhxtgAAAAMFBMVEX///9UVFSqqqrMzMwiIiJE\n",
       "RESYmJgyMjK6urru7u4QEBCIiIh2dnZmZmbc3NwAAABRgo0vAAAAAXRSTlMAQObYZgAAAJBJREFU\n",
       "GNNjYOC7c3slAxroesD+gYFhL4zLHMDAwLmMgRdI2cGE7jowMPD+ZGDZAOEzgggOoBhXAMN8A4gY\n",
       "K0xs/gEGfQaGbgEUMQUGcaYHB34ii7FuYHPk4ZvkgCzGKb354Q6gDIN4eVV5eQJYDALmT0ZWBwHq\n",
       "PDAxJrjYxHNQMb4rHzcg+5KVARNgE+OD0gBuCR/n4rqQygAAAABJRU5ErkJggg==\n",
       "\" style=\"display:inline;vertical-align:middle;\" /></a><br>"
      ],
      "text/plain": [
       "a_ip1: a_{i + 1}"
      ]
     },
     "execution_count": 11,
     "metadata": {},
     "output_type": "execute_result"
    }
   ],
   "source": [
    "a_ip1 = IndexedVar(a, Add(i, one))"
   ]
  },
  {
   "cell_type": "code",
   "execution_count": 12,
   "metadata": {},
   "outputs": [
    {
     "data": {
      "text/html": [
       "<strong id=\"b_1_to_i\">b_1_to_i:</strong> <a class=\"ProveItLink\" href=\"../__pv_it/common/a6b36f310e1cf986ff833fe43f8f03603cba62b80/common_expr.ipynb\"><img src=\"data:image/png;base64,iVBORw0KGgoAAAANSUhEUgAAAE8AAAASBAMAAADoCp6cAAAAMFBMVEX////MzMyYmJjc3NyIiIhU\n",
       "VFR2dna6urqqqqpmZmYyMjIiIiIQEBBERETu7u4AAACIO4EmAAAAAXRSTlMAQObYZgAAANlJREFU\n",
       "KM9j4LuzgQEfQMhzTcCrECHP34BfIVy+/gF+hXD5bPzqEPJLXWbgVQiT5/v14L0BgyxuX4PlPRkY\n",
       "OP4x8DtIzsapECzPIMzAwLmA4X0CQzVOhRB5SDDVN+BRCJEHBZMCw/wHeBSC5UsCgIwCvkMM+BSC\n",
       "5BP+MTCwKvBOACvk+wUUfr8AyoDzQPLML4DxzTcliQFi4m5gFHAD7WDYygAluPdB5XkdYBaAFHJg\n",
       "xmUflH7/ECbSDcRsmA5MgNJdMDnL/SEMDE8wYwVm49NkZGEFDIVMSGwACFtBH+nTbEcAAAAASUVO\n",
       "RK5CYII=\n",
       "\" style=\"display:inline;vertical-align:middle;\" /></a><br>"
      ],
      "text/plain": [
       "b_1_to_i: b_{1}, ..b_{_a}.., b_{i}"
      ]
     },
     "execution_count": 12,
     "metadata": {},
     "output_type": "execute_result"
    }
   ],
   "source": [
    "b_1_to_i = var_range(b, one, i)"
   ]
  },
  {
   "cell_type": "code",
   "execution_count": 13,
   "metadata": {},
   "outputs": [
    {
     "data": {
      "text/html": [
       "<strong id=\"b_1_to_ip1\">b_1_to_ip1:</strong> <a class=\"ProveItLink\" href=\"../__pv_it/common/dbe2bbaa8b33be04a30a0d94d59850b951d6b2bb0/common_expr.ipynb\"><img src=\"data:image/png;base64,iVBORw0KGgoAAAANSUhEUgAAAGMAAAAUBAMAAABrMp7fAAAAMFBMVEX////MzMyYmJjc3NyIiIhU\n",
       "VFR2dna6urqqqqpmZmYyMjIiIiIQEBBERETu7u4AAACIO4EmAAAAAXRSTlMAQObYZgAAAQhJREFU\n",
       "KM9j4LuzgQEfwCbPNQGvFmzy/A34tWCRr3+AXwsW+Wz8OrDJL3WZgVcLpjzfrwfvDRhkcYcYWN4T\n",
       "xmW8wMDA8Y+B30FyNk4tYHkGYZiOmcAg51zA8D6BoRqnFog8CLCCCPYN4GCvb8CjBSIPArwwLfwK\n",
       "DPMf4NECli8JQNFSwHeIAZ8WkHzCP2QtrAq8E8Ba+H4xQIn3C5AYIHnmFxuQtfBNSWKA2LIbFM1b\n",
       "gZg7AMbYB5XndWCIWrVm1SoFsBYIAGnhwEwZfVD6/UNkWyCgG4jZMD2SAKW72GBaOGBaLPeHMDA8\n",
       "wYx5ByjjaTJUC/Psrw5IChQwtDCh8HgZSAZkaGGG0gCM3E5nuHGs3QAAAABJRU5ErkJggg==\n",
       "\" style=\"display:inline;vertical-align:middle;\" /></a><br>"
      ],
      "text/plain": [
       "b_1_to_ip1: b_{1}, ..b_{_a}.., b_{i + 1}"
      ]
     },
     "execution_count": 13,
     "metadata": {},
     "output_type": "execute_result"
    }
   ],
   "source": [
    "b_1_to_ip1 = var_range(b, one, Add(i, one))"
   ]
  },
  {
   "cell_type": "code",
   "execution_count": 14,
   "metadata": {},
   "outputs": [
    {
     "data": {
      "text/html": [
       "<strong id=\"b_1_to_j\">b_1_to_j:</strong> <a class=\"ProveItLink\" href=\"../__pv_it/common/04a009a369958ec3b80ac6387b0fb199d00619dd0/common_expr.ipynb\"><img src=\"data:image/png;base64,iVBORw0KGgoAAAANSUhEUgAAAFAAAAAUBAMAAADo9qfkAAAAMFBMVEX////MzMyYmJjc3NyIiIhU\n",
       "VFR2dna6urqqqqpmZmYyMjIiIiIQEBBERETu7u4AAACIO4EmAAAAAXRSTlMAQObYZgAAAOZJREFU\n",
       "KM9j4LuzgQEfQMhzTcCrECHP34BfIVy+/gF+hXD5bPzqEPJLXWbgVQiT5/v14L0BgyxuX4PlGRYy\n",
       "cPxj4HeQnI1TIViegaGBgXMBw/sEhmqcCiHykGCqb8CjECIPCiYFhvkP8CgEy/N5NjDwF/AdYsCn\n",
       "ECTPyb6AgVWBdwJYId8voPD7BVAGnAeWf8wWwMA3JYkBYuJuYBRwBwAZWxmgBPc+Bqg8rwLUApBC\n",
       "Dsy47IM7wADK6AZiNkwHJsAYMlDacn8IA8MTzFhxgLF8kYUVMBQywVlXGIgCrMXniFSYasAAAIuX\n",
       "QHvlRAe5AAAAAElFTkSuQmCC\n",
       "\" style=\"display:inline;vertical-align:middle;\" /></a><br>"
      ],
      "text/plain": [
       "b_1_to_j: b_{1}, ..b_{_a}.., b_{j}"
      ]
     },
     "execution_count": 14,
     "metadata": {},
     "output_type": "execute_result"
    }
   ],
   "source": [
    "b_1_to_j = var_range(b, one, j)"
   ]
  },
  {
   "cell_type": "code",
   "execution_count": 15,
   "metadata": {},
   "outputs": [
    {
     "data": {
      "text/html": [
       "<strong id=\"b_1_to_k\">b_1_to_k:</strong> <a class=\"ProveItLink\" href=\"../__pv_it/common/efdb683e8ec7c614876a019b8ff021fd45796d990/common_expr.ipynb\"><img src=\"data:image/png;base64,iVBORw0KGgoAAAANSUhEUgAAAFIAAAASBAMAAAA6WpTEAAAAMFBMVEX////MzMyYmJjc3NyIiIhU\n",
       "VFR2dna6urqqqqpmZmYyMjIiIiIQEBBERETu7u4AAACIO4EmAAAAAXRSTlMAQObYZgAAAOdJREFU\n",
       "KM9j4LuzgQEfQJLnmoBXJZI8fwN+lQj5+gf4VSLks/ErRJJf6jIDr0q4PN+vB+8NGGRx+x0kz3IE\n",
       "yOL4x8DvIDkbp0qwPMN2IItzAcP7BIZqnCrB8nz/IMFV34BHJVieHRT6/AoM8x/gUQmWZ5sgEsDA\n",
       "X8B3iAGfSpA8l0bdPwZWBd4JYJV8v4Di7xdACTgPLM8fCAqFKUkMEDN3AyODO4ABSmwFMfZB5WV8\n",
       "4VEKUsmBGa19UNqX8YABlNkNxGyYjkyA0lcYNzhAWJb7QxgYnmDGD1SaYTFDiACSuAKGSiZkDgDr\n",
       "pkR7blhhpAAAAABJRU5ErkJggg==\n",
       "\" style=\"display:inline;vertical-align:middle;\" /></a><br>"
      ],
      "text/plain": [
       "b_1_to_k: b_{1}, ..b_{_a}.., b_{k}"
      ]
     },
     "execution_count": 15,
     "metadata": {},
     "output_type": "execute_result"
    }
   ],
   "source": [
    "b_1_to_k = var_range(b, one, k)"
   ]
  },
  {
   "cell_type": "code",
   "execution_count": 16,
   "metadata": {},
   "outputs": [
    {
     "data": {
      "text/html": [
       "<strong id=\"b_1_to_m\">b_1_to_m:</strong> <a class=\"ProveItLink\" href=\"../__pv_it/common/3a975989c602fc03752e02a0281a61fa4bb3c5df0/common_expr.ipynb\"><img src=\"data:image/png;base64,iVBORw0KGgoAAAANSUhEUgAAAFgAAAASBAMAAAAteAQNAAAAMFBMVEX////MzMyYmJjc3NyIiIhU\n",
       "VFR2dna6urqqqqpmZmYyMjIiIiIQEBBERETu7u4AAACIO4EmAAAAAXRSTlMAQObYZgAAARJJREFU\n",
       "KM9j4LuzgQEveHsaicM1Ab9ihpVIbP4GAop/ILHrH+BXy/4PiZNNwGA2ZD8tdZmBVzFXiCfcoXy/\n",
       "Hrw3YJDFrfj9Or7PMDbHPwZ+B8nZuBX3P2D4AmNzLmB4n8BQjVvxLAa+b0jBXN+AT/FKBnZ44PEr\n",
       "MMx/gE/xJwbOf0yTRDxZXAUY+Av4DjHgU/yd4Y0CU40CTxxLAAOrAu8EsGK+XwxQ4v0CJAZDEMNN\n",
       "BjtvoKGcCQx8U5IYICbvBkXlViDmDoAx9gGJl24KDAwhDDIM3LDgBinmwIz3PhjjIIMvgz0jlNMN\n",
       "ildM9yZAaeYPQLN1oQos94cwMDzBUMvnAEtMAQyLGUzzkKQUMBQzofEBQLBEwrb9gHEAAAAASUVO\n",
       "RK5CYII=\n",
       "\" style=\"display:inline;vertical-align:middle;\" /></a><br>"
      ],
      "text/plain": [
       "b_1_to_m: b_{1}, ..b_{_a}.., b_{m}"
      ]
     },
     "execution_count": 16,
     "metadata": {},
     "output_type": "execute_result"
    }
   ],
   "source": [
    "b_1_to_m = var_range(b, one, m)"
   ]
  },
  {
   "cell_type": "code",
   "execution_count": 17,
   "metadata": {},
   "outputs": [
    {
     "data": {
      "text/html": [
       "<strong id=\"b_1_to_n\">b_1_to_n:</strong> <a class=\"ProveItLink\" href=\"../__pv_it/common/04c9c28c2d5bc8ef3d3d88a49d02e368be5e01cd0/common_expr.ipynb\"><img src=\"data:image/png;base64,iVBORw0KGgoAAAANSUhEUgAAAFQAAAASBAMAAAA3ROSDAAAAMFBMVEX////MzMyYmJjc3NyIiIhU\n",
       "VFR2dna6urqqqqpmZmYyMjIiIiIQEBBERETu7u4AAACIO4EmAAAAAXRSTlMAQObYZgAAAQRJREFU\n",
       "KM9j4LuzgQEveHsazuSagF8pw0o4i7+BgNIfcFb9A/wq2f/BmdkEDGVD+GWpywy8SrlCPKFO5Pv1\n",
       "4L0Bgyxupe/X8X2GsDj+MfA7SM7GrbT/AcMXCItzAcP7BIZq3EpnMfB9gwdrfQM+pSsZ2KHBxa/A\n",
       "MP8BPqWfGDj/MU0S8QQqLeA7xIBP6XeGNwpMNQo8BgysCrwTIErfLwCFBzIDTAQx3GSw82bgf8DA\n",
       "NyWJAaKUex+Q2ApiBEAZDLuBMfnSTYGBIYShBmYL2AF9GJZzwCL9IMM0RiizG0QkYEYqlGb+wLC9\n",
       "EcK03B8CdJkDhtInsCQTwAByBhwwYfoeWZoBAKXQQ54cJjgeAAAAAElFTkSuQmCC\n",
       "\" style=\"display:inline;vertical-align:middle;\" /></a><br>"
      ],
      "text/plain": [
       "b_1_to_n: b_{1}, ..b_{_a}.., b_{n}"
      ]
     },
     "execution_count": 17,
     "metadata": {},
     "output_type": "execute_result"
    }
   ],
   "source": [
    "b_1_to_n = var_range(b, one, n)"
   ]
  },
  {
   "cell_type": "code",
   "execution_count": 18,
   "metadata": {},
   "outputs": [
    {
     "data": {
      "text/html": [
       "<strong id=\"b_j_to_k\">b_j_to_k:</strong> <a class=\"ProveItLink\" href=\"../__pv_it/common/74933cb6cfa68d621476799ac6da9be437b34e7e0/common_expr.ipynb\"><img src=\"data:image/png;base64,iVBORw0KGgoAAAANSUhEUgAAAFIAAAAUBAMAAADsA3fZAAAAMFBMVEX////MzMyYmJjc3NyIiIhU\n",
       "VFR2dna6urqqqqpmZmYyMjIiIiIQEBBERETu7u4AAACIO4EmAAAAAXRSTlMAQObYZgAAAPtJREFU\n",
       "KM9j4LuzgQEfQJLnmoBXJZI8fwN+lQj5+gf4VSLks/ErRJJf6jIDr0q4PN+vB+8NGBgW4vQ7SJ7l\n",
       "CJDF8Y+B34GBAae3IPLbgSzOBQzvE/BYDpbn+wcJrvoG/MFZ38AOCn1+BYb5D/g8cSoGy7NNEAlg\n",
       "4C/gO8TAyb4Ap0qQPJdG3T8GVgXeCQyP2QKAngSKv1/AAGHAeWB5/kCQ0JQkIMmrwMCwGxgZ3AFA\n",
       "zlYGKMG9Dyov4wt3HT8wSDkwo7UPSvsyHjCAMmWAmA3TkbDgu8K4wQGmCYifYMYPTHoxQ4gATBMQ\n",
       "K2CoZMIQYS0+x0AcYE01IKwIADmPRbPhMl4tAAAAAElFTkSuQmCC\n",
       "\" style=\"display:inline;vertical-align:middle;\" /></a><br>"
      ],
      "text/plain": [
       "b_j_to_k: b_{j}, ..b_{_a}.., b_{k}"
      ]
     },
     "execution_count": 18,
     "metadata": {},
     "output_type": "execute_result"
    }
   ],
   "source": [
    "b_j_to_k = var_range(b, j, k)"
   ]
  },
  {
   "cell_type": "code",
   "execution_count": 19,
   "metadata": {},
   "outputs": [
    {
     "data": {
      "text/html": [
       "<strong id=\"b_ip1\">b_ip1:</strong> <a class=\"ProveItLink\" href=\"../__pv_it/common/282a2ffc2daeabef47811f1f3de1146444e1190c0/common_expr.ipynb\"><img src=\"data:image/png;base64,iVBORw0KGgoAAAANSUhEUgAAACMAAAAUBAMAAAD1iJl/AAAAMFBMVEX////MzMyYmJjc3NyIiIhU\n",
       "VFR2dna6urqqqqpmZmYyMjIiIiIQEBBERETu7u4AAACIO4EmAAAAAXRSTlMAQObYZgAAAJ1JREFU\n",
       "GNNj4LuzgQEdcE3AEOJvwBCqf4AhlI0hwrDUZQaaCN+vB+8NGDxhXMYLDAwc/xj4HRiEYSIzgU7i\n",
       "XMDwPgHMZQUR7BvAzqqHOIMXJsSvwDD/QUkAilAB3yGGhH/IQqwKvBOYX2xAFuKbkgTkOTBErVqz\n",
       "apUCWAgM3j9EVgUGXWwwIQ6Y0NNkqBDz7K8OSF7jxfQ/FiFmKA0AtlwoFSZevN4AAAAASUVORK5C\n",
       "YII=\n",
       "\" style=\"display:inline;vertical-align:middle;\" /></a><br>"
      ],
      "text/plain": [
       "b_ip1: b_{i + 1}"
      ]
     },
     "execution_count": 19,
     "metadata": {},
     "output_type": "execute_result"
    }
   ],
   "source": [
    "b_ip1 = IndexedVar(b, Add(i, one))"
   ]
  },
  {
   "cell_type": "code",
   "execution_count": 20,
   "metadata": {},
   "outputs": [
    {
     "data": {
      "text/html": [
       "<strong id=\"b_kp1\">b_kp1:</strong> <a class=\"ProveItLink\" href=\"../__pv_it/common/9a53d50a419fed4b23f6cfe1e1f4e7750f4656b50/common_expr.ipynb\"><img src=\"data:image/png;base64,iVBORw0KGgoAAAANSUhEUgAAACYAAAAUBAMAAAAToVI7AAAAMFBMVEX////MzMyYmJjc3NyIiIhU\n",
       "VFR2dna6urqqqqpmZmYyMjIiIiIQEBBERETu7u4AAACIO4EmAAAAAXRSTlMAQObYZgAAAKxJREFU\n",
       "GNNj4LuzgQEDcE3AFONvwBSrf4Aplo0pxLDUZQa6EN+vB+8NWI4gBGQZGDj+MfA7MGyHC0nOZmDg\n",
       "XMDwPoHvH5gfACKqwc6rb2CHuPsCVIxfgWH+A7YJIgHIYgV8hxi4NOr+IYmxKvBOYOAPRNHLNyWJ\n",
       "gUHGt4GBddWqU6sWgcXAwJfxgAGSOjC4wrjBASbWDRVbzBAiABWz3B+C4s8LWIIDm5gBhAIACPkv\n",
       "QKIamCUAAAAASUVORK5CYII=\n",
       "\" style=\"display:inline;vertical-align:middle;\" /></a><br>"
      ],
      "text/plain": [
       "b_kp1: b_{k + 1}"
      ]
     },
     "execution_count": 20,
     "metadata": {},
     "output_type": "execute_result"
    }
   ],
   "source": [
    "b_kp1 = IndexedVar(b, Add(k, one))"
   ]
  },
  {
   "cell_type": "code",
   "execution_count": 21,
   "metadata": {},
   "outputs": [
    {
     "data": {
      "text/html": [
       "<strong id=\"b_j_to_kp1\">b_j_to_kp1:</strong> <a class=\"ProveItLink\" href=\"../__pv_it/common/41df65f0f2b85d15675fbd7f52764f679d7e5b520/common_expr.ipynb\"><img src=\"data:image/png;base64,iVBORw0KGgoAAAANSUhEUgAAAGYAAAAUBAMAAACNG1WbAAAAMFBMVEX////MzMyYmJjc3NyIiIhU\n",
       "VFR2dna6urqqqqpmZmYyMjIiIiIQEBBERETu7u4AAACIO4EmAAAAAXRSTlMAQObYZgAAAShJREFU\n",
       "OMtj4LuzgQEfwCrPNQGvHqzy/A349WCTr3+AXw82+Wz8WrDKL3WZgVcPFnm+Xw/eGzAwLMQZbiB5\n",
       "liMIAVkGBo5/DPwODAw4AwIivx3Ol5zNwMC5gOF9Ah6ngeX5/oHZASCiGhz89Q34o6e+gR0Srxeg\n",
       "evgVGOY/4PPEqQ0szzZBJABZTwHfIQZO9gU49YDkuTTq/iHpYVXgncDwmC2A4T1IG4jg+4XMAMvz\n",
       "B6K4jW9KEpDBq8DAvQ9Ic4OcsBXG2P0AKi/j28DAumrVqVWLwHqgLgBGUR9mOMOSjS/jAQMkeyBA\n",
       "BogxQ5wNxrjCuMEBpqcbJugLdIQDhp4nMMZihhABqB7L/SEwgxgYmDDDTAGNfwGJzVp8joEYgKIn\n",
       "1YAoPVBVAFxbVyT/h0uoAAAAAElFTkSuQmCC\n",
       "\" style=\"display:inline;vertical-align:middle;\" /></a><br>"
      ],
      "text/plain": [
       "b_j_to_kp1: b_{j}, ..b_{_a}.., b_{k + 1}"
      ]
     },
     "execution_count": 21,
     "metadata": {},
     "output_type": "execute_result"
    }
   ],
   "source": [
    "b_j_to_kp1 = var_range(b, j, Add(k, one))"
   ]
  },
  {
   "cell_type": "code",
   "execution_count": 22,
   "metadata": {},
   "outputs": [
    {
     "data": {
      "text/html": [
       "<strong id=\"c_1_to_i\">c_1_to_i:</strong> <a class=\"ProveItLink\" href=\"../__pv_it/common/9bcf644997e508f457acd8d76360a4ecfa872fd30/common_expr.ipynb\"><img src=\"data:image/png;base64,iVBORw0KGgoAAAANSUhEUgAAAE8AAAANBAMAAAAaii7SAAAAMFBMVEX///+6urqYmJgQEBDu7u5m\n",
       "ZmZUVFQyMjJERESqqqoiIiLc3NzMzMyIiIh2dnYAAABqS+z4AAAAAXRSTlMAQObYZgAAALZJREFU\n",
       "KM9jYGB4e/cAAz4Ak981gaOA4QRudWD5q0DGOga2CUejcCsEyTOcZmBg/QLiSeFUB5EHAuYG/Aoh\n",
       "8kDg/wC/QrC8bAIDA78CA8MEPArB8g+A9rMmMLgeAClk+Q7SXwBlwHkg+dOeC4C8d0oXIFavcmBg\n",
       "4ALawbCMAUpwLYHKc1yAWQBSyOmAYe8UmEN9YCKzgJgP04EPoPR0mNzW9bkMDL4Y6lhgNrq9RhZW\n",
       "wFDIhMQGAHzbMIoy4LEjAAAAAElFTkSuQmCC\n",
       "\" style=\"display:inline;vertical-align:middle;\" /></a><br>"
      ],
      "text/plain": [
       "c_1_to_i: c_{1}, ..c_{_a}.., c_{i}"
      ]
     },
     "execution_count": 22,
     "metadata": {},
     "output_type": "execute_result"
    }
   ],
   "source": [
    "c_1_to_i = var_range(c, one, i)"
   ]
  },
  {
   "cell_type": "code",
   "execution_count": 23,
   "metadata": {},
   "outputs": [
    {
     "data": {
      "text/html": [
       "<strong id=\"c_1_to_j\">c_1_to_j:</strong> <a class=\"ProveItLink\" href=\"../__pv_it/common/a03477a6a8f64399894c4c3a761410f34122107f0/common_expr.ipynb\"><img src=\"data:image/png;base64,iVBORw0KGgoAAAANSUhEUgAAAFAAAAAPBAMAAACB51W8AAAAMFBMVEX///+6urqYmJgQEBDu7u5m\n",
       "ZmZUVFQyMjJERESqqqoiIiLc3NzMzMyIiIh2dnYAAABqS+z4AAAAAXRSTlMAQObYZgAAAMRJREFU\n",
       "KM9jYGB4e/cAAz4Ak981gaOA4QRudWB5hhoGhnUMbBOORuFWCJJnYJjAwPoFxJPCqQ4iDwTMDfgV\n",
       "QuSBwP8BfoVgeZarExj4FUAOwK0QLM/KWMDAmsDgegCkkOU7SH8BlAHngeW9+RIYGN4pXYBYvcqB\n",
       "gYELKMCwjAFKcC1hgMpzKEAtACnkdMCwdwrcARugjFlAzIfpwAcwxmEovXV9LgODL4Y6lgsw1g1k\n",
       "YQUMhUxwVi8DUYBN2oRIhc82MAAAxDUxAJ2tFg8AAAAASUVORK5CYII=\n",
       "\" style=\"display:inline;vertical-align:middle;\" /></a><br>"
      ],
      "text/plain": [
       "c_1_to_j: c_{1}, ..c_{_a}.., c_{j}"
      ]
     },
     "execution_count": 23,
     "metadata": {},
     "output_type": "execute_result"
    }
   ],
   "source": [
    "c_1_to_j = var_range(c, one, j)"
   ]
  },
  {
   "cell_type": "code",
   "execution_count": 24,
   "metadata": {},
   "outputs": [
    {
     "data": {
      "text/html": [
       "<strong id=\"c_1_to_k\">c_1_to_k:</strong> <a class=\"ProveItLink\" href=\"../__pv_it/common/020340b9181c055c5d15adf94352b57417320c0f0/common_expr.ipynb\"><img src=\"data:image/png;base64,iVBORw0KGgoAAAANSUhEUgAAAFIAAAANBAMAAADI2iSKAAAAMFBMVEX///+6urqYmJgQEBDu7u5m\n",
       "ZmZUVFQyMjJERESqqqoiIiLc3NzMzMyIiIh2dnYAAABqS+z4AAAAAXRSTlMAQObYZgAAAMNJREFU\n",
       "KM9jYGB4e/cAAz4Al981gaOA4QRuhSB5XlsQax0D24SjUbhVguQZFgIZrF9AXCmcCsHyLCCCuQG/\n",
       "SrA84wIg4f8Av0qwPF/A2QQGfgUGhgl4VILl2TVFvjCwJjC4HgCpZPkOMqEASsB5YHn+HJCmd0oX\n",
       "ILavcmBg4EpggBLLQIwlUPnDNybA7ACp5HTAsHoKlL7BY7ABypwFcjamIx9A6V6eBRcgrK3rcxkY\n",
       "fDEUskClGaoZcpFjXAFDJRMyBwDBOjVGsw4nRgAAAABJRU5ErkJggg==\n",
       "\" style=\"display:inline;vertical-align:middle;\" /></a><br>"
      ],
      "text/plain": [
       "c_1_to_k: c_{1}, ..c_{_a}.., c_{k}"
      ]
     },
     "execution_count": 24,
     "metadata": {},
     "output_type": "execute_result"
    }
   ],
   "source": [
    "c_1_to_k = var_range(c, one, k)"
   ]
  },
  {
   "cell_type": "code",
   "execution_count": 25,
   "metadata": {},
   "outputs": [
    {
     "data": {
      "text/html": [
       "<strong id=\"c_1_to_n\">c_1_to_n:</strong> <a class=\"ProveItLink\" href=\"../__pv_it/common/0b9106eab9e25a4824ecafe4c37faa3bbf6744d00/common_expr.ipynb\"><img src=\"data:image/png;base64,iVBORw0KGgoAAAANSUhEUgAAAFQAAAANBAMAAADFxFTNAAAAMFBMVEX///+6urqYmJgQEBDu7u5m\n",
       "ZmZUVFQyMjJERESqqqoiIiLc3NzMzMyIiIh2dnYAAABqS+z4AAAAAXRSTlMAQObYZgAAANNJREFU\n",
       "KM9jYGB4e/cAAz7Ad/cOlLVrAkcBwwncKrlXMrRDmesY2CYcjcKtlOsBQyaExfoFRErhVhrvAGMx\n",
       "NxBQagFn+T/Ar5TlH5BgCjp7lYGBX4GBYQI+Uz8xMHAyCSswb2BgTWBwPQBW6l8ANOM7MgNMhDGw\n",
       "xGy5xcAPdPI7pQsQB3AtARLLQIwEKINhFVCe75EuA0MugzDMFrADpmBYzgnzvQ1DHA+UOQtEPMCM\n",
       "KFg0fGBYOAfC3Lo+F+iyCxhKfaE0YwLDPQUkcSZM3yNLMwAA6c0ujBEQGUUAAAAASUVORK5CYII=\n",
       "\" style=\"display:inline;vertical-align:middle;\" /></a><br>"
      ],
      "text/plain": [
       "c_1_to_n: c_{1}, ..c_{_a}.., c_{n}"
      ]
     },
     "execution_count": 25,
     "metadata": {},
     "output_type": "execute_result"
    }
   ],
   "source": [
    "c_1_to_n = var_range(c, one, n)"
   ]
  },
  {
   "cell_type": "code",
   "execution_count": 26,
   "metadata": {},
   "outputs": [
    {
     "data": {
      "text/html": [
       "<strong id=\"d_1_to_k\">d_1_to_k:</strong> <a class=\"ProveItLink\" href=\"../__pv_it/common/f97aec7ad06cb84a0cebc1021cbfa8a894cb16cd0/common_expr.ipynb\"><img src=\"data:image/png;base64,iVBORw0KGgoAAAANSUhEUgAAAFYAAAASBAMAAAAzsTS+AAAAMFBMVEX///9UVFSYmJiIiIjc3Nwy\n",
       "MjIiIiJ2dnbu7u66urqqqqpmZmYQEBBERETMzMwAAAAYOWz6AAAAAXRSTlMAQObYZgAAAPNJREFU\n",
       "KM9jYGBg4LuzgQEvQFbAvwC/WmQF8xsIqEVSUEZAKbKCaEJqYQpYttv9wqsQScEcB94fDAxvcasF\n",
       "K2A+DGRxHGLgDmB4vQ2nUogChkwgk/sHA1sBA8M0nGohCjiAdjPwXGDon4BPLUQBZwKQ2V/AsJ4B\n",
       "n1qIAvYNjwUY+hcwiHI54FMLVsCqNeMHA68BUyI72FyOryCZACgB50EU8MuBvCls52gJcUMaMCbZ\n",
       "BBigRCKIkQFT8MYWkSRAarkwk8UKGMOW74ADjL0MiNkxHVsAY1zmSzCAMr3zhRkYmjHjASbPEMIg\n",
       "/ABZRgFDLRMKDwC6Nz/MrzJ3jgAAAABJRU5ErkJggg==\n",
       "\" style=\"display:inline;vertical-align:middle;\" /></a><br>"
      ],
      "text/plain": [
       "d_1_to_k: d_{1}, ..d_{_a}.., d_{k}"
      ]
     },
     "execution_count": 26,
     "metadata": {},
     "output_type": "execute_result"
    }
   ],
   "source": [
    "d_1_to_k = var_range(d, one, k)"
   ]
  },
  {
   "cell_type": "code",
   "execution_count": 27,
   "metadata": {},
   "outputs": [
    {
     "data": {
      "text/html": [
       "<strong id=\"f_k\">f_k:</strong> <a class=\"ProveItLink\" href=\"../__pv_it/common/fe274f3dc110b1f71dac5e209cbc5084427629c30/common_expr.ipynb\"><img src=\"data:image/png;base64,iVBORw0KGgoAAAANSUhEUgAAABIAAAASBAMAAACk4JNkAAAAMFBMVEX///8yMjJERETMzMwQEBCY\n",
       "mJgiIiK6urqqqqp2dnZUVFTc3NyIiIhmZmbu7u4AAADOOTK3AAAAAXRSTlMAQObYZgAAAIFJREFU\n",
       "CNdjYGBgeHt2AwMErOxvgDD4vj+HCnF8gDIYOBOgDNYruRegTP4DDDw+YNZ+AwaGdDCrH6j9H5g1\n",
       "jYGBHaJJC6j9gs0CIAuomjGi7h/ICqD2xSBJdqAVJodANnMqMDAcYnbYwNDFGMDAoMOccIAh6SFQ\n",
       "XJphjQFDzG2opQAvJh44V5XbYgAAAABJRU5ErkJggg==\n",
       "\" style=\"display:inline;vertical-align:middle;\" /></a><br>"
      ],
      "text/plain": [
       "f_k: f_{k}"
      ]
     },
     "execution_count": 27,
     "metadata": {},
     "output_type": "execute_result"
    }
   ],
   "source": [
    "f_k = IndexedVar(f, k)"
   ]
  },
  {
   "cell_type": "code",
   "execution_count": 28,
   "metadata": {},
   "outputs": [
    {
     "data": {
      "text/html": [
       "<strong id=\"i_k\">i_k:</strong> <a class=\"ProveItLink\" href=\"../__pv_it/common/fc8c19a21fa1cb9cd050ae080e83651dd2bca1190/common_expr.ipynb\"><img src=\"data:image/png;base64,iVBORw0KGgoAAAANSUhEUgAAABAAAAARBAMAAAAmgTH3AAAAMFBMVEX////MzMwiIiIyMjKqqqrc\n",
       "3NwQEBC6urp2dnZmZmaIiIju7u6YmJhERERUVFQAAAAbNDIbAAAAAXRSTlMAQObYZgAAAGZJREFU\n",
       "CNdjYGB4ywAFbxgIAe6VCyAMDvYEBq4sICOE04CBQR3I2MC/gIH7N0jOfwMDuwKIcQ+oboLUAwbu\n",
       "LxwMzEeqfzOwf4hh4H8ItuoAg9haB4hZaxkTAsCMW4wKEONNGV4JAABD7hcel9CiYgAAAABJRU5E\n",
       "rkJggg==\n",
       "\" style=\"display:inline;vertical-align:middle;\" /></a><br>"
      ],
      "text/plain": [
       "i_k: i_{k}"
      ]
     },
     "execution_count": 28,
     "metadata": {},
     "output_type": "execute_result"
    }
   ],
   "source": [
    "i_k = IndexedVar(i, k)"
   ]
  },
  {
   "cell_type": "code",
   "execution_count": 29,
   "metadata": {},
   "outputs": [
    {
     "data": {
      "text/html": [
       "<strong id=\"j_k\">j_k:</strong> <a class=\"ProveItLink\" href=\"../__pv_it/common/0bab661a3b9c749b090df6ad2f51bde3e424e8650/common_expr.ipynb\"><img src=\"data:image/png;base64,iVBORw0KGgoAAAANSUhEUgAAABMAAAASBAMAAABLIvhaAAAAMFBMVEX////MzMwyMjIiIiJ2dna6\n",
       "urrc3NxmZmZERESIiIhUVFSYmJju7u4QEBCqqqoAAACA8xhiAAAAAXRSTlMAQObYZgAAAH1JREFU\n",
       "CNdjYGBg4LvDAAPcCxiIBSdnwJkFvBsY5k4A60/gf8DAHABi8jDEH2A4fwCiwpmBIRiqWJ2BwZ1x\n",
       "FljFPwYG7adgJXx/GBh+CYDl2Q0YGG/2gZnMBQycDbJsDAyMB/IFGDgmCHMyMOQ7tDMwMCVwTWRg\n",
       "4Jq+AWomANnMGUpzIZtpAAAAAElFTkSuQmCC\n",
       "\" style=\"display:inline;vertical-align:middle;\" /></a><br>"
      ],
      "text/plain": [
       "j_k: j_{k}"
      ]
     },
     "execution_count": 29,
     "metadata": {},
     "output_type": "execute_result"
    }
   ],
   "source": [
    "j_k = IndexedVar(j, k)"
   ]
  },
  {
   "cell_type": "code",
   "execution_count": 30,
   "metadata": {},
   "outputs": [
    {
     "data": {
      "text/html": [
       "<strong id=\"i_1_to_n\">i_1_to_n:</strong> <a class=\"ProveItLink\" href=\"../__pv_it/common/1c32912d682df66f9c434a81bd0cc4e39d7bc67d0/common_expr.ipynb\"><img src=\"data:image/png;base64,iVBORw0KGgoAAAANSUhEUgAAAFAAAAASBAMAAAA+r0T5AAAAMFBMVEX///8iIiLMzMwyMjKqqqrc\n",
       "3NwQEBC6urp2dnZmZmaIiIju7u6YmJhERERUVFQAAAA/zElJAAAAAXRSTlMAQObYZgAAANNJREFU\n",
       "KM9jYGB4y4AX8F2Asd4QUHiAYaAB98oFeOV3zYIyONgTGBh0cStsKIMyQjgNGDQn4lTH6jAZytrA\n",
       "D7S6ELfLGH7BmP4b8ClkYPkNY91jwKuQ9wEDzxytlUCzv3DgVbjfoYGn7ABbAAP7hxiIwv0GQF2f\n",
       "kRlgop71QPRCBn6g+94cgChklAYSciDGAyiDQRAozXeGgeEVAyyMwFZ7Y3pkA4ROYpjBBGE5goMW\n",
       "QyEHNCw/MIg7gVmR8q+ALsKMyl0Qiv0BwwqktMaD6WPklAgAeaIxulInjJsAAAAASUVORK5CYII=\n",
       "\" style=\"display:inline;vertical-align:middle;\" /></a><br>"
      ],
      "text/plain": [
       "i_1_to_n: i_{1}, ..i_{_a}.., i_{n}"
      ]
     },
     "execution_count": 30,
     "metadata": {},
     "output_type": "execute_result"
    }
   ],
   "source": [
    "i_1_to_n = var_range(i, one, n)"
   ]
  },
  {
   "cell_type": "code",
   "execution_count": 31,
   "metadata": {},
   "outputs": [
    {
     "data": {
      "text/html": [
       "<strong id=\"j_1_to_n\">j_1_to_n:</strong> <a class=\"ProveItLink\" href=\"../__pv_it/common/47db520a5341097ac815853ce7cfcdd5820180500/common_expr.ipynb\"><img src=\"data:image/png;base64,iVBORw0KGgoAAAANSUhEUgAAAFQAAAASBAMAAAA3ROSDAAAAMFBMVEX////MzMwyMjIiIiJ2dna6\n",
       "urrc3NxmZmZERESIiIhUVFSYmJju7u4QEBCqqqoAAACA8xhiAAAAAXRSTlMAQObYZgAAANhJREFU\n",
       "KM9jYGBg4LvDgBcgyXMvwK+UkDwdwckZRMsX8G5gYGzArRQkD/VfAv8DxnID3P4HykOZPAzxBxhY\n",
       "cSsFy8OAMwM+pWB5GFAnoFSdgbtacjrYhn/4lQLluWM38CaAovgPROl5BaDwJwYkBpgAyedMZuAH\n",
       "OZjdAKKU2QbIsQJi5gVQBoMxTH4lQyyIz1wAdcAbzDR1ACp/kaGEkYHxQL4AUAyk1AFDKQsDRJ7t\n",
       "A4PpQ4Z8h3YGBrbiXxMYeCZgxikDRJ51AcOUDQxc0+HRhul5oBRCHgBotjYVDsmK2wAAAABJRU5E\n",
       "rkJggg==\n",
       "\" style=\"display:inline;vertical-align:middle;\" /></a><br>"
      ],
      "text/plain": [
       "j_1_to_n: j_{1}, ..j_{_a}.., j_{n}"
      ]
     },
     "execution_count": 31,
     "metadata": {},
     "output_type": "execute_result"
    }
   ],
   "source": [
    "j_1_to_n = var_range(j, one, n)"
   ]
  },
  {
   "cell_type": "code",
   "execution_count": 32,
   "metadata": {},
   "outputs": [
    {
     "data": {
      "text/html": [
       "<strong id=\"k_1_to_m\">k_1_to_m:</strong> <a class=\"ProveItLink\" href=\"../__pv_it/common/f03c83face7be8e1151f477c8c50fcb7fff10b130/common_expr.ipynb\"><img src=\"data:image/png;base64,iVBORw0KGgoAAAANSUhEUgAAAFsAAAASBAMAAADGT78OAAAAMFBMVEX////MzMxUVFSIiIjc3NyY\n",
       "mJh2dna6urqqqqpmZmYyMjIiIiIQEBBERETu7u4AAAA59f8xAAAAAXRSTlMAQObYZgAAARpJREFU\n",
       "KM9j4LuzgQE/eHsamcc1gYByhpXIHP4GQsp/IHPqHxBQzf4PmZdNyHC2Dagua52CVznXBI5IBxiH\n",
       "7wez+1cGxgu4lb9vMKkPgHE4/tnxBTDOxBOa/Y8fPIVzOE+CvYNH+RzkkOZWvkxA+SZbAySXFfgX\n",
       "4FXO953lOwNDZKDxBGNFBoZ4oFcS8Cln/cD3g40h/CjDoQdGDAy6DPwCEOXvFzBACL5fyAymCwwf\n",
       "2Vgeb2D4zjCNgeEGA/PkB2Dl3PtAXlEAuRbG2A2Mcd4GBks7BiYDxgMMO+ARDXJMH4ZDOOAJhEeA\n",
       "+QLLBwGYOEh5Amb8w1n+QPNZL0BVsMz+ZMDAZ4Ch/DGcVcTA5cCihpwaWTFDJQBdAAD/vU5g9+Dh\n",
       "bwAAAABJRU5ErkJggg==\n",
       "\" style=\"display:inline;vertical-align:middle;\" /></a><br>"
      ],
      "text/plain": [
       "k_1_to_m: k_{1}, ..k_{_a}.., k_{m}"
      ]
     },
     "execution_count": 32,
     "metadata": {},
     "output_type": "execute_result"
    }
   ],
   "source": [
    "k_1_to_m = var_range(k, one, m)"
   ]
  },
  {
   "cell_type": "code",
   "execution_count": 33,
   "metadata": {},
   "outputs": [
    {
     "data": {
      "text/html": [
       "<strong id=\"x_1_to_m\">x_1_to_m:</strong> <a class=\"ProveItLink\" href=\"../__pv_it/common/6bcde4e41c8fdd6debc41f42bf3e4d8829005b3c0/common_expr.ipynb\"><img src=\"data:image/png;base64,iVBORw0KGgoAAAANSUhEUgAAAF4AAAANBAMAAADS5sQEAAAAMFBMVEX///8QEBBmZmaqqqrMzMxE\n",
       "REQyMjIiIiKYmJh2dna6urrc3NxUVFSIiIju7u4AAAA6P00QAAAAAXRSTlMAQObYZgAAANtJREFU\n",
       "KM9jYHh7Z9fNCwz4AIoKvgkctewJDCwBOJVDVUAB5wPOf1wbWJQKcKqHqIDrZmAFGc2FWz1UBRzw\n",
       "X8CvHqoCDvwdCKkHqeDQ8L3Ee8eBgfnBfQbeB/jUQ1RwLGxgPMd7gGG9QTzDDoj570GBACL4viEz\n",
       "ICr2XWfgX8A0geHN3bcaDRD17HVAWfYDQKIGxih/wABTcZbBkYHdAGYp2D12WNwCZ4owXGXYzwKX\n",
       "AKmfgBn2cBb3B6ANrTA+t/qfCwx8mMniLZzFdYAhm2HPPGRJDsywaUAXAADeqkjrCxAbNgAAAABJ\n",
       "RU5ErkJggg==\n",
       "\" style=\"display:inline;vertical-align:middle;\" /></a><br>"
      ],
      "text/plain": [
       "x_1_to_m: x_{1}, ..x_{_a}.., x_{m}"
      ]
     },
     "execution_count": 33,
     "metadata": {},
     "output_type": "execute_result"
    }
   ],
   "source": [
    "x_1_to_m = var_range(x, one, m)"
   ]
  },
  {
   "cell_type": "code",
   "execution_count": 34,
   "metadata": {},
   "outputs": [
    {
     "data": {
      "text/html": [
       "<strong id=\"x_1_to_n\">x_1_to_n:</strong> <a class=\"ProveItLink\" href=\"../__pv_it/common/450167a24f71fe5474c458dd6e7d0df5b127faa80/common_expr.ipynb\"><img src=\"data:image/png;base64,iVBORw0KGgoAAAANSUhEUgAAAFoAAAANBAMAAADbDWR+AAAAMFBMVEX///8QEBBmZmaqqqrMzMxE\n",
       "REQyMjIiIiKYmJh2dna6urrc3NxUVFSIiIju7u4AAAA6P00QAAAAAXRSTlMAQObYZgAAANBJREFU\n",
       "KM9jYHh7Z9fNCwz4AJIKvgkctewJDCwBOBVDVYAB5wPOf1wbWJQKcKqGqIDqZGAFGcuFWzVUBRTw\n",
       "X8CvGqoCCvwdCKkGqeDQ8L3EwMD84D4D7wN8qiEqOBY2MG5gWG8Qz7ADYjbfN6Dc+wQkBpiAqNh3\n",
       "nYH/AcObu281GqAuKX/AwMB+AMioYYAy2OsYYCrOMiyEWwdWzfwAwxl2cJYIgyYL3HEg1ZyYjp4A\n",
       "Y3B/YKgygbHV/wBD6S1mWMPDjusAw80GFLkGDNUcqFwAM81EKjwVshUAAAAASUVORK5CYII=\n",
       "\" style=\"display:inline;vertical-align:middle;\" /></a><br>"
      ],
      "text/plain": [
       "x_1_to_n: x_{1}, ..x_{_a}.., x_{n}"
      ]
     },
     "execution_count": 34,
     "metadata": {},
     "output_type": "execute_result"
    }
   ],
   "source": [
    "x_1_to_n = var_range(x, one, n)"
   ]
  },
  {
   "cell_type": "code",
   "execution_count": 35,
   "metadata": {},
   "outputs": [
    {
     "data": {
      "text/html": [
       "<strong id=\"x_1_to_np1\">x_1_to_np1:</strong> <a class=\"ProveItLink\" href=\"../__pv_it/common/afb7fac5f96a35620bd281527fd426dea103b8ff0/common_expr.ipynb\"><img src=\"data:image/png;base64,iVBORw0KGgoAAAANSUhEUgAAAG0AAAAPBAMAAAAc6lw0AAAAMFBMVEX///8QEBBmZmaqqqrMzMxE\n",
       "REQyMjIiIiKYmJh2dna6urrc3NxUVFSIiIju7u4AAAA6P00QAAAAAXRSTlMAQObYZgAAARRJREFU\n",
       "KM9jYHh7Z9fNCwx4AN/d02vnYopO4KhlT2BgCcCp7yVD+4UyFBGQYs4HnP+4NrAoFeDUN49h/oPV\n",
       "KNpAivkYWEFWceHW94AhFMHhYYAr5r+AXx8Dw18EkxWhz9+BgD6WL0CiqeWuArI+5gf3GXgf4NNn\n",
       "x/uB4R5DlwSDNLK+9QbxDDsgzPcJQO9+Y4ASMB7XZ9YP3A3cbwsY/iHre3P3rUYDhMleBxSrYYAS\n",
       "7AeARPkDBr6z9y51AAPkApcAw7G0xLS0BmTHgZl2GG5kfgBjMTowTXBACReIAhBzAoY+TjhrPwP7\n",
       "Ypg+Zrg+bvU/Fxj4MJPbWzhrDQPvDKj/wIqRAAdmWDagC7AykAfI1ccNpQERAE2A3XP6tQAAAABJ\n",
       "RU5ErkJggg==\n",
       "\" style=\"display:inline;vertical-align:middle;\" /></a><br>"
      ],
      "text/plain": [
       "x_1_to_np1: x_{1}, ..x_{_a}.., x_{n + 1}"
      ]
     },
     "execution_count": 35,
     "metadata": {},
     "output_type": "execute_result"
    }
   ],
   "source": [
    "x_1_to_np1 = var_range(x, one, Add(n, one))"
   ]
  },
  {
   "cell_type": "code",
   "execution_count": 36,
   "metadata": {},
   "outputs": [
    {
     "data": {
      "text/html": [
       "<strong id=\"y_1_to_n\">y_1_to_n:</strong> <a class=\"ProveItLink\" href=\"../__pv_it/common/83815096a81411f4169bd53199aa8541663848780/common_expr.ipynb\"><img src=\"data:image/png;base64,iVBORw0KGgoAAAANSUhEUgAAAFYAAAANBAMAAADBMYTwAAAAMFBMVEX///8iIiKYmJhUVFTMzMxE\n",
       "REQyMjKqqqq6urp2dnYQEBDc3NxmZmaIiIju7u4AAACH5sGpAAAAAXRSTlMAQObYZgAAAOFJREFU\n",
       "KM9j4LtzgWHXAwbcAEkBJ8cChvsMLAE41UIUgMF2ngSGUJYzAjjVghVAmA+4LjD8ZeDArRaiAAL6\n",
       "H7B8wacWogACjjHwLsCrFqSA6ZDvHSAzmIHVAK9akAKmLgWuDQwMhxn6FcBq+b4BJd4nIDEgBEjB\n",
       "vosM/MBwe3z3/AaIuYJAHqMBkCHMAGUwyjFAFdgydEEdBFHLjhkldTAFSxhOsjAwJ/D9ACoDqeXE\n",
       "dOsEBogC7g8MEiUMjAqsFxi4D36+wMDwFjN+gaJgBRwGDDeBvrp7BCajgKGWCYgRCgAJUUiRD+Fp\n",
       "1wAAAABJRU5ErkJggg==\n",
       "\" style=\"display:inline;vertical-align:middle;\" /></a><br>"
      ],
      "text/plain": [
       "y_1_to_n: y_{1}, ..y_{_a}.., y_{n}"
      ]
     },
     "execution_count": 36,
     "metadata": {},
     "output_type": "execute_result"
    }
   ],
   "source": [
    "y_1_to_n = var_range(y, one, n)"
   ]
  },
  {
   "cell_type": "code",
   "execution_count": 37,
   "metadata": {},
   "outputs": [
    {
     "data": {
      "text/html": [
       "<strong id=\"y_1_to_m\">y_1_to_m:</strong> <a class=\"ProveItLink\" href=\"../__pv_it/common/b1d0816092152abc42b29f3dbb55087006443a150/common_expr.ipynb\"><img src=\"data:image/png;base64,iVBORw0KGgoAAAANSUhEUgAAAFoAAAANBAMAAADbDWR+AAAAMFBMVEX///8iIiKYmJhUVFTMzMxE\n",
       "REQyMjKqqqq6urp2dnYQEBDc3NxmZmaIiIju7u4AAACH5sGpAAAAAXRSTlMAQObYZgAAAPhJREFU\n",
       "KM9j4LtzgWHXAwbcAEUBJ8cChvsMLAE4VUMUQMF2ngSGUJYzAjhVgxXAOA+4LjD8ZeDArRqiAAb6\n",
       "H7B8wacaogAGjjHwLsCrGqSA6ZDvHd7LDgwMwQysBnhVgxQwdSlw2fEaMDAcZuhXAKt+n8AAIfi+\n",
       "ITPACvZdZOBv4JnAwPD47vkNYNWMckApRqB+BmEYQxAUzmAFtgxeDIwFEIdBXFKH4Qj2B1CXMyxh\n",
       "uMqwn4WBOYHvB1AYpHoCZswAMVgB9weg6aqcDIwKrBcYuA9+vsDAdwFD9VuQk0AKOAwYshk2z2Pg\n",
       "uHsEKsWEGRwKQIxQwMAAAOgwS1bhcs1yAAAAAElFTkSuQmCC\n",
       "\" style=\"display:inline;vertical-align:middle;\" /></a><br>"
      ],
      "text/plain": [
       "y_1_to_m: y_{1}, ..y_{_a}.., y_{m}"
      ]
     },
     "execution_count": 37,
     "metadata": {},
     "output_type": "execute_result"
    }
   ],
   "source": [
    "y_1_to_m = var_range(y, one, m)"
   ]
  },
  {
   "cell_type": "code",
   "execution_count": 38,
   "metadata": {},
   "outputs": [
    {
     "data": {
      "text/html": [
       "<strong id=\"z_1_to_n\">z_1_to_n:</strong> <a class=\"ProveItLink\" href=\"../__pv_it/common/a09bfe9a4c7e632b29d654d1bc593f4bceacae290/common_expr.ipynb\"><img src=\"data:image/png;base64,iVBORw0KGgoAAAANSUhEUgAAAFUAAAANBAMAAAAqBj/zAAAAMFBMVEX///8yMjJ2dnaqqqpUVFTc\n",
       "3NxmZmaIiIhERETu7u6YmJjMzMwQEBAiIiK6uroAAABWQA0ZAAAAAXRSTlMAQObYZgAAANhJREFU\n",
       "KM9jYOC782AXAz7w9hz3AihzxvK0BgbuBpxKObvKMmDsCQwRDNxpF3CrZWBFGMTdycDAdwGPI3ZM\n",
       "gDOfMOBXy+cAZzI7EFBrAsTLVpcnACkzBgYHfGqZExhYGNadYjgKdO0trcIHYLXzBYAe+ciAxAAT\n",
       "exctl2OdfoHhJwMDG8MaOYgbeG8CZa4AMa8DlMFwF+irBK6DDxhYCvgOwN0PcoMlpv2wEODZwKaw\n",
       "ASYIUquAoZYJxohn4H0MVcua+6WAgbMAQ+10RLiyayFLcGGGwQIUHgDC3Tgtm9TJVwAAAABJRU5E\n",
       "rkJggg==\n",
       "\" style=\"display:inline;vertical-align:middle;\" /></a><br>"
      ],
      "text/plain": [
       "z_1_to_n: z_{1}, ..z_{_a}.., z_{n}"
      ]
     },
     "execution_count": 38,
     "metadata": {},
     "output_type": "execute_result"
    }
   ],
   "source": [
    "z_1_to_n = var_range(z, one, n)"
   ]
  },
  {
   "cell_type": "code",
   "execution_count": 39,
   "metadata": {},
   "outputs": [
    {
     "data": {
      "text/html": [
       "<strong id=\"range_1_to_i\">range_1_to_i:</strong> <a class=\"ProveItLink\" href=\"../__pv_it/common/04768fa0cc7d5cf818d37c6283d2dedc234a9a370/common_expr.ipynb\"><img src=\"data:image/png;base64,iVBORw0KGgoAAAANSUhEUgAAAD4AAAASBAMAAADxgXA6AAAALVBMVEX////c3Ny6urpEREQiIiIy\n",
       "MjJmZmaIiIiYmJh2dnZUVFTu7u4QEBCqqqoAAACSZzJBAAAAAXRSTlMAQObYZgAAAIBJREFUKM9j\n",
       "YMAHuAwYGHhP45FvYNg16zVeIxg4aCe/PR2//AQdvPKMF1LxynMzPMdvPu9r/PLMC/DL77swgYGB\n",
       "HSi/LwBo21MGKAHn6TE2MLCteZrBwOIN5HkxQAkWkLEuG4DB3wEz6Tam2zaghASGPCeKTwswwxYl\n",
       "DjDd3gChAHesI6aS686kAAAAAElFTkSuQmCC\n",
       "\" style=\"display:inline;vertical-align:middle;\" /></a><br>"
      ],
      "text/plain": [
       "range_1_to_i: 1, ..k.., i"
      ]
     },
     "execution_count": 39,
     "metadata": {},
     "output_type": "execute_result"
    }
   ],
   "source": [
    "range_1_to_i = ExprRange(k, k, one, i)"
   ]
  },
  {
   "cell_type": "code",
   "execution_count": 40,
   "metadata": {},
   "outputs": [
    {
     "data": {
      "text/html": [
       "<strong id=\"range_1_to_ip1\">range_1_to_ip1:</strong> <a class=\"ProveItLink\" href=\"../__pv_it/common/c2dc25e62dc43ba23e3998f7d4019a6f2d97062b0/common_expr.ipynb\"><img src=\"data:image/png;base64,iVBORw0KGgoAAAANSUhEUgAAAHAAAAAUBAMAAACnq6Q0AAAAMFBMVEX////MzMy6urpERETc3Nwi\n",
       "IiIyMjJmZmaIiIiYmJh2dnZUVFTu7u4QEBCqqqoAAADgr4rhAAAAAXRSTlMAQObYZgAAASBJREFU\n",
       "OMtjYMALPLEL8zng18bAYwAkNmOR2ALSfQe3RjaQyTvRBN8eYGA4xsBwevUf3BqnI7FfQB2xaz9Q\n",
       "I1cDAwMnHo0hmBoZGOYDNfJcwKuRJQCXRoYkvBo5CoBmtzdg07gcr0bmCUDfMF3ApnEaXo2sDxgY\n",
       "/NgTsGl8ilcjrwIDwwF+kFOXpaXFpqVlIzTKE9TI8P4ANhvlCTqVwRprqKoSDByef1w4AocDqPE8\n",
       "KABABM83ZAYXMDqYPniiaewHaaxiYN/7rZKBNQbksA1AIhrGCAVKM4ESwM4JqBqr76cDRRKhvDeY\n",
       "OecAriQHTrGwNLUAQyMXeiI/gyILTU48DRgaT4BDB1eGPQalOTGlJsAzMjZgQqAEwFV0cDowAAB2\n",
       "I1xUzfPgWgAAAABJRU5ErkJggg==\n",
       "\" style=\"display:inline;vertical-align:middle;\" /></a><br>"
      ],
      "text/plain": [
       "range_1_to_ip1: 1, ..k.., (i + 1)"
      ]
     },
     "execution_count": 40,
     "metadata": {},
     "output_type": "execute_result"
    }
   ],
   "source": [
    "range_1_to_ip1 = ExprRange(k, k, one, Add(i, one))"
   ]
  },
  {
   "cell_type": "code",
   "execution_count": 41,
   "metadata": {},
   "outputs": [
    {
     "data": {
      "text/html": [
       "<strong id=\"range_i_to_j\">range_i_to_j:</strong> <a class=\"ProveItLink\" href=\"../__pv_it/common/237e4c1d63a8ca7d062c9a8c65b9b2d52ce930e60/common_expr.ipynb\"><img src=\"data:image/png;base64,iVBORw0KGgoAAAANSUhEUgAAAD4AAAASBAMAAADxgXA6AAAAMFBMVEX////MzMwiIiIyMjKqqqrc\n",
       "3NwQEBC6urp2dnZmZmaIiIju7u6YmJhERERUVFQAAAAbNDIbAAAAAXRSTlMAQObYZgAAAKZJREFU\n",
       "KM9jYGB4y4ATsGQDiTe45XkeMNAacK9cgFNu11oGBg72BJzyE9gOMIRwGuB0fQC/A8MGfpzmczPU\n",
       "b2Bg8N+A23FNQHwPj+MtgYZ84cDtty8MDOwfYhj2g5wIIrg/IzMYWH6Dgv8AA5M2kGYChbUejKEE\n",
       "chWnAtQgb8yYA8kzTYDyGjDkgY5i3BAvAHUHZhDsYmCIb7gJCyhMpx9gYOBbCSQA60skns1oZogA\n",
       "AAAASUVORK5CYII=\n",
       "\" style=\"display:inline;vertical-align:middle;\" /></a><br>"
      ],
      "text/plain": [
       "range_i_to_j: i, ..k.., j"
      ]
     },
     "execution_count": 41,
     "metadata": {},
     "output_type": "execute_result"
    }
   ],
   "source": [
    "range_i_to_j = ExprRange(k, k, i, j)"
   ]
  },
  {
   "cell_type": "code",
   "execution_count": 42,
   "metadata": {},
   "outputs": [
    {
     "data": {
      "text/html": [
       "<strong id=\"range_i_to_jp1\">range_i_to_jp1:</strong> <a class=\"ProveItLink\" href=\"../__pv_it/common/e7082c9868653bab837e3fb51148ed87bdaad9b40/common_expr.ipynb\"><img src=\"data:image/png;base64,iVBORw0KGgoAAAANSUhEUgAAAHEAAAAUBAMAAABIac8KAAAAMFBMVEX////MzMwiIiIyMjKqqqrc\n",
       "3NwQEBC6urp2dnZmZmaIiIju7u6YmJhERERUVFQAAAAbNDIbAAAAAXRSTlMAQObYZgAAAUZJREFU\n",
       "OMtjYMAHWA/gkHAFk29x69wLItw2YErwBYDIN7h1moKIc2iCLNkMDNwGeN3KwDMBWcMCCL2v7zeQ\n",
       "7MKvkykAi04GHpDObfh1BjHg1MlcwMC9cgFOnSuBmHvVBWw6OSYwcLAn4NR5B4g5GXKw6eQxYAjh\n",
       "xB1MKkB8lOELNp0sCgwb+HG7Nh2IN7CDHWdsbJRsbPwArpPxAwOD/wa8Ohk4FLDZCdJ5jwGvaxmY\n",
       "J2DTya7AwP2FA28IMex3wBFC7B9iGPaDAglEcH9GZjB0ggiYb+A6uUA6ORuAyfYAA5M2KMGAvK8H\n",
       "YyiB1BeBFE5CSwmczz7PAfpBAMLzxnAoywZY6tNET0NgsAlKN2Do5ICmeGnWj1ARbpQ4gKZ4bswo\n",
       "3QUmr7L+4J2ALexguYwHU+oANGe/moM11HkD8OcV3KXJUQYGAHL2U4kTJJW8AAAAAElFTkSuQmCC\n",
       "\" style=\"display:inline;vertical-align:middle;\" /></a><br>"
      ],
      "text/plain": [
       "range_i_to_jp1: i, ..k.., (j + 1)"
      ]
     },
     "execution_count": 42,
     "metadata": {},
     "output_type": "execute_result"
    }
   ],
   "source": [
    "range_i_to_jp1 = ExprRange(k, k, i, Add(j, one))"
   ]
  },
  {
   "cell_type": "code",
   "execution_count": 43,
   "metadata": {},
   "outputs": [
    {
     "data": {
      "text/html": [
       "<strong id=\"range_1_to_mp1\">range_1_to_mp1:</strong> <a class=\"ProveItLink\" href=\"../__pv_it/common/13804ec0f6c462071cde5a97fa35c168d5b297630/common_expr.ipynb\"><img src=\"data:image/png;base64,iVBORw0KGgoAAAANSUhEUgAAAHwAAAAUBAMAAAC9l0S6AAAAMFBMVEX////MzMy6urpERETc3Nwi\n",
       "IiIyMjJmZmaIiIiYmJh2dnZUVFTu7u4QEBCqqqoAAADgr4rhAAAAAXRSTlMAQObYZgAAAUpJREFU\n",
       "OMtjYMALWCbgkeRzYCAADuOV3QIy4w4eBSk4Zd4eYGA4xsBwevUf3Lo5C9BFXkAonl37gdq5GoBK\n",
       "8GhndcChnYFhPlA7zwX82l0Z8GpnSMKvvZ2BgWm1S8cOxhWbsGpfjl+7JdB/zBYM55sY3mLVPg2/\n",
       "9jgGBjnWBAb/BQzzsWp/il/7JQaGA+cVGN4fYNgM4i5LS4tNS8tGaJcnqJ3hPQNDKQPDDay2yxN0\n",
       "PEMZA0MUA9MXHmzaVQkGHcMtBp5PDOwJfjiCjgOo/XwCA4Tg+caAxANFDMsnBr4PDGwLFqBp7wdp\n",
       "r2Jg3/utkoE1BpTENgCJaBgDLAR0HFMAA0cBA1+lA6r26vvpwMyYCOW9wXT4G/yJFpzyA6CMBZja\n",
       "F2DNMmeQOaAsAzamAUM3RMgEb34/BsuYWPIqEcWFCaHSBm9hxenAAADmfmlV+x11JgAAAABJRU5E\n",
       "rkJggg==\n",
       "\" style=\"display:inline;vertical-align:middle;\" /></a><br>"
      ],
      "text/plain": [
       "range_1_to_mp1: 1, ..k.., (m + 1)"
      ]
     },
     "execution_count": 43,
     "metadata": {},
     "output_type": "execute_result"
    }
   ],
   "source": [
    "range_1_to_mp1 = ExprRange(k, k, one, Add(m, one))"
   ]
  },
  {
   "cell_type": "code",
   "execution_count": 44,
   "metadata": {},
   "outputs": [
    {
     "data": {
      "text/html": [
       "<strong id=\"f__a_1_to_i\">f__a_1_to_i:</strong> <a class=\"ProveItLink\" href=\"../__pv_it/common/3ef854842edd78699a9909ca1916a5ed91e45eef0/common_expr.ipynb\"><img src=\"data:image/png;base64,iVBORw0KGgoAAAANSUhEUgAAAG4AAAAUBAMAAACezBVvAAAAMFBMVEX///8yMjJERETMzMwQEBCY\n",
       "mJgiIiK6urqqqqp2dnZUVFTc3NyIiIhmZmbu7u4AAADOOTK3AAAAAXRSTlMAQObYZgAAAWpJREFU\n",
       "OMtjYIAC7gAGogHHBjD19iyQfsRAAlgNJlf2NzAwSJOi7yGI4Pv+nIGB9QIp+jgPgFz7AUiwbSBF\n",
       "H58DSHMCkNjGQBIQB7rwSi7QjWdBQXrzjh9e1QgFc4GYH+RYVSAu2cAIdLIRbn0QBSArAoF4vwGQ\n",
       "yAA62pWBV4HB9hpuX4EVMFgDmW1A3A8Sc2dg4P3HwAa0ugynPqgCELAH4mlQfSwKDO8N8OmDKoDp\n",
       "02KAuPP9BLDVuPVBFNQsgCryYYCEy/sGhoXAlIdHH1jBhH+QcOH7Dg1YpgOsWZxgo/g+glQJQBlw\n",
       "HlgB9wtQdN9kYGAHJRew6jWHdx2HOCHtATAFgdyTxQAl2PJgCphAQSMMTC4KDCjpDKSP4wGGI/vg\n",
       "rn0MNCGBoYsRnPEQ6RoUNZyYnpsAYzRygtN10kMIVxsqvDd/DQPDG8w4PwBjvZoNzkcxtyFclHyL\n",
       "mfdZUXjaSGmWhHKCdQMDABvNZNiWt4j9AAAAAElFTkSuQmCC\n",
       "\" style=\"display:inline;vertical-align:middle;\" /></a><br>"
      ],
      "text/plain": [
       "f__a_1_to_i: f(a_{1}, ..a_{_a}.., a_{i})"
      ]
     },
     "execution_count": 44,
     "metadata": {},
     "output_type": "execute_result"
    }
   ],
   "source": [
    "f__a_1_to_i = Function(f, a_1_to_i)"
   ]
  },
  {
   "cell_type": "code",
   "execution_count": 45,
   "metadata": {},
   "outputs": [
    {
     "data": {
      "text/html": [
       "<strong id=\"g__a_1_to_i\">g__a_1_to_i:</strong> <a class=\"ProveItLink\" href=\"../__pv_it/common/9708f3bcb6ee1ab5222dbf88f5692e17bfb3e2280/common_expr.ipynb\"><img src=\"data:image/png;base64,iVBORw0KGgoAAAANSUhEUgAAAG0AAAAUBAMAAAB1+65sAAAAMFBMVEX///8yMjK6urpUVFQiIiKY\n",
       "mJjMzMwQEBDu7u7c3Nx2dnZERESIiIhmZmaqqqoAAAA6bD3aAAAAAXRSTlMAQObYZgAAAXJJREFU\n",
       "OMuVVLFKw1AUPW2T+JLUtH9goT/QWQQLOig4dHARFFz9BOnyQMFFMIvgImRwVOwHVCg4CNKhg5uo\n",
       "HRwsIlZFaQWL970kz0BIMHe4nMc7Jzmc3BsgqEP8vwZ/kLUy6Aqugjk3g46VFdxAljpVaDmTbi8E\n",
       "Zj2TLleh9tJ9RrFH4PjsiqfSFcEiutUyf2A3gPw2ZgAjOVifIF6hUzCvHBNofTLdwC2Mu2THkgCD\n",
       "kneI1IQxwhQZfuBYoYcm63yCKGMI4xPFutQ1wb5SdT4h0Olj2D3hk33DGabpfEL+EpJEsNQXubAJ\n",
       "CuVBmk4SrBKXubAx5rkMto3Vmid1BxQXe0PQ1EkSjh4JTXtA9frEd7fT3ZqrSKQt0d0CgqbVqC3y\n",
       "kNAW331TXF5E50z6fIqZdMKJYCPS7FI0YO/RuRafBl5MZ6n7sifn+pzbYsbsYI/Mm48OWCem21fp\n",
       "zLpyj6rr97G91eNhNqIHO7KsWf4Ta8AvTKxhxT8dX/IAAAAASUVORK5CYII=\n",
       "\" style=\"display:inline;vertical-align:middle;\" /></a><br>"
      ],
      "text/plain": [
       "g__a_1_to_i: g(a_{1}, ..a_{_a}.., a_{i})"
      ]
     },
     "execution_count": 45,
     "metadata": {},
     "output_type": "execute_result"
    }
   ],
   "source": [
    "g__a_1_to_i = Function(g, a_1_to_i)"
   ]
  },
  {
   "cell_type": "code",
   "execution_count": 46,
   "metadata": {},
   "outputs": [
    {
     "data": {
      "text/html": [
       "<strong id=\"f__b_1_to_i\">f__b_1_to_i:</strong> <a class=\"ProveItLink\" href=\"../__pv_it/common/c3ee9cd547868e451e4173a75adab6640b0afc4a0/common_expr.ipynb\"><img src=\"data:image/png;base64,iVBORw0KGgoAAAANSUhEUgAAAGoAAAAUBAMAAACXJ7UVAAAAMFBMVEX///8yMjJERETMzMwQEBCY\n",
       "mJgiIiK6urqqqqp2dnZUVFTc3NyIiIhmZmbu7u4AAADOOTK3AAAAAXRSTlMAQObYZgAAAX5JREFU\n",
       "OMtjYIAC7gAGIgHHBjD19iyQfsTAp5KAVzVcfjWYXNnfwMAgzcDAeAG/JTD5h2Azvj9nYGAFivA3\n",
       "4NcFk+c8AHLnByDBBnRk/QP8umDyfA4grSDnbgPiaQSCAS4vDnTblVyg684COVJnbuDVBZefC3Iu\n",
       "yJmqQIs/Pni/gcEIdxiC5UHGBwLxfgMgkQH03z+gAbbXcMcTSJ7BGshqA+J+kJA7AwOvAMP7CQxl\n",
       "OHVB5EHAHuZJd3B01Dfg0QWRh+nSYoC4kD+A4f4DPLrA8jULgCyQGh8GSGjwF/C5MuDTBZKf8A8S\n",
       "GnzfoYHJFcB0AayL7yNQ4L0AlAHngeS5X4Ai9yYDAzsoaYAV35kKtT0NmAjYQE7JYoASbHlQeSZQ\n",
       "NAkDk4YCAzRFMUC1M3BgJq0+KP3+MVB7AkMXIzhjscLSOyguODE9NQFKN3KCU2/SQwhXG0LtzV/D\n",
       "wPAGM10cgDJezQbnlJjbEO4jJDWY2ZoVmaONYBJfArBuYAAAsqVrTOrxcKAAAAAASUVORK5CYII=\n",
       "\" style=\"display:inline;vertical-align:middle;\" /></a><br>"
      ],
      "text/plain": [
       "f__b_1_to_i: f(b_{1}, ..b_{_a}.., b_{i})"
      ]
     },
     "execution_count": 46,
     "metadata": {},
     "output_type": "execute_result"
    }
   ],
   "source": [
    "f__b_1_to_i = Function(f, b_1_to_i)"
   ]
  },
  {
   "cell_type": "code",
   "execution_count": 47,
   "metadata": {},
   "outputs": [
    {
     "data": {
      "text/html": [
       "<strong id=\"g__c_1_to_i\">g__c_1_to_i:</strong> <a class=\"ProveItLink\" href=\"../__pv_it/common/1993d5eac5781e10af0957a00feade51956410720/common_expr.ipynb\"><img src=\"data:image/png;base64,iVBORw0KGgoAAAANSUhEUgAAAGkAAAAUBAMAAAB8EA4WAAAAMFBMVEX///8yMjK6urpUVFQiIiKY\n",
       "mJjMzMwQEBDu7u7c3Nx2dnZERESIiIhmZmaqqqoAAAA6bD3aAAAAAXRSTlMAQObYZgAAAWJJREFU\n",
       "OMuVVD1LA0EQfYl3695tvOQnCPkD1hYa0EIbSStE8H9cs4VgI3iNYHmFdoKxVwgIFpIioNipKSwU\n",
       "EaMSSATF2b2PHB53XKYY3vHm7Q5vZw4I4wBF42UCebuwasaLYckrrOK1GG6heJzEaH0K1W4ErMYU\n",
       "qtI8pbfuKyo9Anb3Krc64m0qttvWD0ST7tvAGVi2l5pXx5tkx7vEL4w+YPhYYvfZrSoejLx2qMYF\n",
       "G2GWWn2URJWzVZpXwQZgQ1QaWuUiX+ViojLHED3VIf/OV2m+fBnUOANU+9qNIXWcd5fi7arUbvAx\n",
       "lqU28wb8Tqv2ySP+gTDFX4o/fCIw5wP166OgMfu4FQBjjagVhMlYoLQqQ/5cvfK24i4SE6U7fE51\n",
       "54T+8REpdsgQ8M/E9Kq3gJ8ei4iu+Xp6T6VQ0ySCTbFuvzrgnZRqLzJy0dObUm89/N9KM+1fM4FF\n",
       "YhWL/wE2gT/UlVYZ+2kxYAAAAABJRU5ErkJggg==\n",
       "\" style=\"display:inline;vertical-align:middle;\" /></a><br>"
      ],
      "text/plain": [
       "g__c_1_to_i: g(c_{1}, ..c_{_a}.., c_{i})"
      ]
     },
     "execution_count": 47,
     "metadata": {},
     "output_type": "execute_result"
    }
   ],
   "source": [
    "g__c_1_to_i = Function(g, c_1_to_i)"
   ]
  },
  {
   "cell_type": "code",
   "execution_count": 48,
   "metadata": {},
   "outputs": [
    {
     "data": {
      "text/html": [
       "<strong id=\"f__x_1_to_n\">f__x_1_to_n:</strong> <a class=\"ProveItLink\" href=\"../__pv_it/common/172cc4c75dda2afdf9b683509b3e51bc2125d3940/common_expr.ipynb\"><img src=\"data:image/png;base64,iVBORw0KGgoAAAANSUhEUgAAAHQAAAAUBAMAAACuQAROAAAAMFBMVEX///8yMjJERETMzMwQEBCY\n",
       "mJgiIiK6urqqqqp2dnZUVFTc3NyIiIhmZmbu7u4AAADOOTK3AAAAAXRSTlMAQObYZgAAAZZJREFU\n",
       "OMtjYIAC7gAGUgDHBjD19iyQfsRAGlgNJlf2NzAwSJOo9SGI4Pv+nIGB9QKJWjkPgJz9AUiwbSBR\n",
       "K58DSH8CkNjGQCoQBzr1Si7QsWeBnDentp88gNemM6tr5sA4c4GYH6RcFSgxgTWHTYCBWQGn1pcM\n",
       "YQcSYZxAIN5vACQygA5/wPmPfQPz3QScWucxzH9QDeO0AXE/iOEOtJWBCWQhO26tDxiUEBx7IJ4G\n",
       "1Qp1Oh6tDAx/ULVqMUAcDOQZENDK/BlIxAafASWCMiD2YYAEE8eD8ww8D/Bp7eP5wHCOIdyVwRsS\n",
       "THzfoUFd36DPsBVi63sBoPhHBggDzmP/wfSBO4D7TQLDP6DoTaAAKDGBrH915s3VAIhWtjygUBYo\n",
       "kS2AEWkPGPjWnDsbysDAdYAdlJKEgXECjkdEQgQ7uA8zlz2AsVgMeCcYMPAlMHQxgjMqIvlzgLRO\n",
       "wEzucNZ+BrYKA1DyT3oIEdCGZflrvw4w8GGmxzdwVhUDz1Rwpou5DRFAyeqsmKGLXohoI5gkFjCs\n",
       "GxgAMudnspfQ94QAAAAASUVORK5CYII=\n",
       "\" style=\"display:inline;vertical-align:middle;\" /></a><br>"
      ],
      "text/plain": [
       "f__x_1_to_n: f(x_{1}, ..x_{_a}.., x_{n})"
      ]
     },
     "execution_count": 48,
     "metadata": {},
     "output_type": "execute_result"
    }
   ],
   "source": [
    "f__x_1_to_n = Function(f, x_1_to_n)"
   ]
  },
  {
   "cell_type": "code",
   "execution_count": 49,
   "metadata": {},
   "outputs": [
    {
     "data": {
      "text/html": [
       "<strong id=\"f__y_1_to_n\">f__y_1_to_n:</strong> <a class=\"ProveItLink\" href=\"../__pv_it/common/0dc69e8fe1edb90532e7250471e74236508082110/common_expr.ipynb\"><img src=\"data:image/png;base64,iVBORw0KGgoAAAANSUhEUgAAAHAAAAAUBAMAAACnq6Q0AAAAMFBMVEX///8yMjJERETMzMwQEBCY\n",
       "mJgiIiK6urqqqqp2dnZUVFTc3NyIiIhmZmbu7u4AAADOOTK3AAAAAXRSTlMAQObYZgAAAY1JREFU\n",
       "OMuVVDFIw0AUfS1to6Y9Cw6undUhuEtdnCxScXCxEAQdLGoHERGHTg4OtotuQh2LHbI4Sjs4Wqgg\n",
       "gujQTi6V1kE6CMV/969ECA3kw/+5S967e/f/vwDa7hHAJhz1+Go6EKkgRNypWC0VEXICETsyiMEn\n",
       "kAvEw2RDCu5TyAcjimXJtgHTDkbELBB92W8h3gK6HzDX/MD/ATfk06Q3nAXKR4j3sTieyAC2dfK6\n",
       "BcSKMIvPCKeWXsfyGKAn5+Ql8kgBAhm5+fH4hDCALU1+zUQYQ6QtH6IGuMQ5KKlIJPEIP6IC5Dae\n",
       "KJEKlgEnJ1yRa/gQFWBzBaucHDGQtaRVEhXjh4m9JL3+1gN3JgFm18aQxm+kXGbYoAYQteYvE2MH\n",
       "FPbkoDIKu20NmGoYsmtmaDOV4bw+BEu99F6ktgZErETZgrBxEcrKV9Tkt+gVuEAoe7saGlBH7MSS\n",
       "Tb7d4YM72MEC8HBYI00Nb7uRK8Ap4lfqWm29c3VTOGuOihT1ZlTKcgGYd78E+nVEHfwBzd9oPuiJ\n",
       "+zMAAAAASUVORK5CYII=\n",
       "\" style=\"display:inline;vertical-align:middle;\" /></a><br>"
      ],
      "text/plain": [
       "f__y_1_to_n: f(y_{1}, ..y_{_a}.., y_{n})"
      ]
     },
     "execution_count": 49,
     "metadata": {},
     "output_type": "execute_result"
    }
   ],
   "source": [
    "f__y_1_to_n = Function(f, y_1_to_n)"
   ]
  },
  {
   "cell_type": "code",
   "execution_count": 50,
   "metadata": {},
   "outputs": [
    {
     "data": {
      "text/html": [
       "<strong id=\"A_1_to_l\">A_1_to_l:</strong> <a class=\"ProveItLink\" href=\"../__pv_it/common/88690fe244074d101627de9d933bdb8ba2a87d430/common_expr.ipynb\"><img src=\"data:image/png;base64,iVBORw0KGgoAAAANSUhEUgAAAFwAAAASBAMAAAAkk6R3AAAAMFBMVEX///92dnYiIiIQEBBERERU\n",
       "VFS6urqIiIjc3NxmZmaqqqru7u6YmJgyMjLMzMwAAADiRdoGAAAAAXRSTlMAQObYZgAAARVJREFU\n",
       "KM9jYACBtwwEAd8FBPs+YeW8H+BMnvsbCCo/+xvO3DW/gZBq7pU/4OwD9QmElPOwf4Mx2TasP0BI\n",
       "eTbXHxhzG8P7AqDXHfC5JYHvOwPDVrB3Exj6JzDwzVTAo5yNgeMnkAQp4YucGe8AZeMCT2dO/cLA\n",
       "wDgBrJOB+QIB5cCgsGVgYAF5cQEDA5MBfuVcQKzMwMAPDG+OBZAow6e8CxLzj4FUExCz/IAo3w90\n",
       "FPdfBigB53GATPJvYChhYNjy/zYDl/+nCWDlTNpAcVUGKMEUACSUNjBw+//dwLDkvyaDO3JYgYxY\n",
       "jelspORk9wBJHKRcAEM5IxL7QwGcyTHpawEDdwGG8u1I7IloSYsHM1BQUxMA46BD/CBRThMAAAAA\n",
       "SUVORK5CYII=\n",
       "\" style=\"display:inline;vertical-align:middle;\" /></a><br>"
      ],
      "text/plain": [
       "A_1_to_l: A_{1}, ..A_{_a}.., A_{l}"
      ]
     },
     "execution_count": 50,
     "metadata": {},
     "output_type": "execute_result"
    }
   ],
   "source": [
    "A_1_to_l = var_range(A, one, l)"
   ]
  },
  {
   "cell_type": "code",
   "execution_count": 51,
   "metadata": {},
   "outputs": [
    {
     "data": {
      "text/html": [
       "<strong id=\"A_1_to_m\">A_1_to_m:</strong> <a class=\"ProveItLink\" href=\"../__pv_it/common/91d05fae55026f965c0cd103d1c27b85b1e1aa760/common_expr.ipynb\"><img src=\"data:image/png;base64,iVBORw0KGgoAAAANSUhEUgAAAGUAAAASBAMAAACwdQ2FAAAAMFBMVEX///92dnYiIiIQEBBERERU\n",
       "VFS6urqIiIjc3NxmZmaqqqru7u6YmJgyMjLMzMwAAADiRdoGAAAAAXRSTlMAQObYZgAAAStJREFU\n",
       "KM9jYACBtwwEAd8FNIH7hPXwfkDl89zfQFDP2d+o/F3zGwhp4V75A1XgQH0CIT087N9Q+Gwb1h8g\n",
       "pCeb6w8KfxvD+wJgwDjgc1oC33cUgQSG/gkMfDMV8OhhY+D4iRLykTPjgXaw4dPzdObUL6hmMDBf\n",
       "IKAHGEa2yPwFDAxMBvj1cAGxMgPDyXPlE8rjgGyOBZBIxqenC5JWjtkwmG4oBbKbgJjlB1gP919Q\n",
       "EIGI/ReQGAwcIOP8Gzi2KzB8Y5jIwLDl/20GLv9PE8D2KIHSkCoQMwXAGNpAzf5/NzAs+a/JwFrA\n",
       "Z8CghRwUQD1cmOluNRKb+QG7A8eHB0j+BOphxPSKABK7H2gTjwNChGPS1wKG7ZgJoACJk8rA28AR\n",
       "iOYWzGTHgyUUAVqoSq+5zn5iAAAAAElFTkSuQmCC\n",
       "\" style=\"display:inline;vertical-align:middle;\" /></a><br>"
      ],
      "text/plain": [
       "A_1_to_m: A_{1}, ..A_{_a}.., A_{m}"
      ]
     },
     "execution_count": 51,
     "metadata": {},
     "output_type": "execute_result"
    }
   ],
   "source": [
    "A_1_to_m = var_range(A, one, m)"
   ]
  },
  {
   "cell_type": "code",
   "execution_count": 52,
   "metadata": {},
   "outputs": [
    {
     "data": {
      "text/html": [
       "<strong id=\"A_i_to_j\">A_i_to_j:</strong> <a class=\"ProveItLink\" href=\"../__pv_it/common/02348c83d6baea2d965fc947085f4df1e19425350/common_expr.ipynb\"><img src=\"data:image/png;base64,iVBORw0KGgoAAAANSUhEUgAAAFwAAAAUBAMAAADyykdqAAAAMFBMVEX///92dnYiIiIQEBBERERU\n",
       "VFS6urqIiIjc3NxmZmaqqqru7u6YmJgyMjLMzMwAAADiRdoGAAAAAXRSTlMAQObYZgAAASRJREFU\n",
       "KM9jYACBtwyEAN8FJM59gsp5PyDYPPc3EFJ+9jeCvWt+AwHV3Ct/IDgH6hMIKOdh/wZns21Yf4CA\n",
       "8myuP3D2Nob3BQwM7BPwuCWB7zuIvgciEhj6gUr58LifjYHjJ4heAArSyJnxDvjd8nTm1C8IrQzM\n",
       "F/ArB4aELYwNtIHJgIGtFLdqLiBWBvqgEqiUYwE4zhj5cUdVFyTiOdmAjmgCsll+MHQvYmDYD+Ry\n",
       "/2VAYoAJDgUg4d/AsIMxgGHL/9sMXP6fJjC4A92kDRRXBWKmACiDQWkDA7f/3w0MS/5rAk1FRA/3\n",
       "7wcMDKsxnY3sRH5EWHNdEGBgEMBQzojMeYwUcYENDNwFGMq3I3NK0BISZqCgJCZ3BhIAa4Y1ScpF\n",
       "GxgAd/JHNWzm6VwAAAAASUVORK5CYII=\n",
       "\" style=\"display:inline;vertical-align:middle;\" /></a><br>"
      ],
      "text/plain": [
       "A_i_to_j: A_{i}, ..A_{_a}.., A_{j}"
      ]
     },
     "execution_count": 52,
     "metadata": {},
     "output_type": "execute_result"
    }
   ],
   "source": [
    "A_i_to_j = var_range(A, i, j)"
   ]
  },
  {
   "cell_type": "code",
   "execution_count": 53,
   "metadata": {},
   "outputs": [
    {
     "data": {
      "text/html": [
       "<strong id=\"B_1_to_m\">B_1_to_m:</strong> <a class=\"ProveItLink\" href=\"../__pv_it/common/3e4d82792343c1b5f3c6c6e0400b2769320ff5030/common_expr.ipynb\"><img src=\"data:image/png;base64,iVBORw0KGgoAAAANSUhEUgAAAGYAAAASBAMAAABbQraGAAAAMFBMVEX///92dnYyMjKqqqoiIiLu\n",
       "7u7c3NyIiIjMzMwQEBC6urpERERmZmZUVFSYmJgAAADEjrHzAAAAAXRSTlMAQObYZgAAARhJREFU\n",
       "KM9jYGB4+//O2d0LGPACDDWzGRh4fuDXg66G4x8DA9cf/FrQ1bB/Y2Dg+45fD7oa7gkMDJGu+PWg\n",
       "q+G/wMDhG4BfD7qa/nvPtxgAnbwBjx6oGjioT2BgncvAccYBjx6IGgTYCRIzYODCpweqBg7+gvgF\n",
       "+PVA1SAHPcP9BXj1QNXwnWuvYa9tgAQ9x28GvHqgavhWPuC8yn6BgYEJGPQrt0L0xCswQAjWT8gM\n",
       "mJrUEgb+BTwCDLz6f8/c3swA0cMCijYWoEEMvjCGCzBW4GquM3QysCAFBdhtphjOYkaO7RkM1Qz5\n",
       "HEiSID0CGHoYkdhsH4A2vUaIsB35W8DAWoChJxyJzXWBQY0hVxRVAR9mkD3AFAIAzlNc5yNvfZcA\n",
       "AAAASUVORK5CYII=\n",
       "\" style=\"display:inline;vertical-align:middle;\" /></a><br>"
      ],
      "text/plain": [
       "B_1_to_m: B_{1}, ..B_{_a}.., B_{m}"
      ]
     },
     "execution_count": 53,
     "metadata": {},
     "output_type": "execute_result"
    }
   ],
   "source": [
    "B_1_to_m = var_range(B, one, m)"
   ]
  },
  {
   "cell_type": "code",
   "execution_count": 54,
   "metadata": {},
   "outputs": [
    {
     "data": {
      "text/html": [
       "<strong id=\"B_1_to_n\">B_1_to_n:</strong> <a class=\"ProveItLink\" href=\"../__pv_it/common/dd37dae6e0984aaddd7122e536812636683808790/common_expr.ipynb\"><img src=\"data:image/png;base64,iVBORw0KGgoAAAANSUhEUgAAAGEAAAASBAMAAAC5nq3/AAAAMFBMVEX///92dnYyMjKqqqoiIiLu\n",
       "7u7c3NyIiIjMzMwQEBC6urpERERmZmZUVFSYmJgAAADEjrHzAAAAAXRSTlMAQObYZgAAAURJREFU\n",
       "KM9jYGB4+//O2d0LGPABvvt/z9zeheDPZmDg+YFXBwPnBgaG8w0wHsc/BgauP/h19D9gYFh/AMZj\n",
       "/wa09jt+HfUJDAzvC2A87gkMDJGu+HXsZGBgnRIA4/FfYODwDcCv4y8DQ8tVhBvvPd9iAPTOBtwa\n",
       "OP6+q3ZGcSPrXAaOMw64dYC8GnkB2Y0M9QYMXHh0gLzK/hnZjQz1BXh1AL3KwP4dOToY7i/AqwMU\n",
       "Hby/GN68KD8AdSPHbwa8OkDR0b+B4dU8hmlAHhPQjSu3QnTEKwDD/RMDEgNMMGgCpWcHsIU7MHwF\n",
       "WqYPTGSbGSA6WEAR6QvELBegDAYXYExdAqVVYATwFnBNQLIZ7CpTDAcxI8UtZwOPQAOSFEiHAIYO\n",
       "RiR2PgPLYoQOtiN/CxhYCzB0hCOx1zKwy6HnHMxgeoAuAAD+f1tjD9OGnQAAAABJRU5ErkJggg==\n",
       "\" style=\"display:inline;vertical-align:middle;\" /></a><br>"
      ],
      "text/plain": [
       "B_1_to_n: B_{1}, ..B_{_a}.., B_{n}"
      ]
     },
     "execution_count": 54,
     "metadata": {},
     "output_type": "execute_result"
    }
   ],
   "source": [
    "B_1_to_n = var_range(B, one, n)"
   ]
  },
  {
   "cell_type": "code",
   "execution_count": 55,
   "metadata": {},
   "outputs": [
    {
     "data": {
      "text/html": [
       "<strong id=\"C_1_to_m\">C_1_to_m:</strong> <a class=\"ProveItLink\" href=\"../__pv_it/common/5f497db3219c2a277d00ea9788cbd56023692f7f0/common_expr.ipynb\"><img src=\"data:image/png;base64,iVBORw0KGgoAAAANSUhEUgAAAGMAAAASBAMAAAC9a33CAAAAMFBMVEX////MzMy6uroyMjIiIiKq\n",
       "qqoQEBB2dnbc3NyYmJhmZmZUVFRERESIiIju7u4AAACOKgoaAAAAAXRSTlMAQObYZgAAAUVJREFU\n",
       "KM9jYGDgu7NrJ0cBA17w9vTqCe0I7rUJDKzLJuDVwZvJwBCVCee+8QMS6xvw6eA78oCBgesHnG8G\n",
       "5DKo4bWEOQ9IMCXAuFxfQaQUXi3rA4AE4wIYt98BRL7Ap4PjC9h1cLfXX4DQjAdwamH/i8r3F4Do\n",
       "WOWAUwvLR1R+Psj3DA8YmHBrYfsHdhjCFhDBKoBPC8sHEBmICA2Qr9gZ8GmBxEgBw6yJdxfc3QgM\n",
       "MZD36/Bq4QB5n/0Bw6RMhuwHt4Fu+glMCw8gWt4bMEAIvs/IDIZ4YJJax8Dx1oHhE8NyIP/V6V0K\n",
       "DBAtLKC0w7IBSHjDGC6g0OFbs3sRkOK+wJjA4IqwHeywOAxHsT5ACjkB3gMcHwQQcg5gL2JEIxK7\n",
       "H2gP5wG4Go4lvy8w8F3AzChIbG0G5gaO7Q9Q5DkxQwtLPgIARtNULwizfhQAAAAASUVORK5CYII=\n",
       "\" style=\"display:inline;vertical-align:middle;\" /></a><br>"
      ],
      "text/plain": [
       "C_1_to_m: C_{1}, ..C_{_a}.., C_{m}"
      ]
     },
     "execution_count": 55,
     "metadata": {},
     "output_type": "execute_result"
    }
   ],
   "source": [
    "C_1_to_m = var_range(C, one, m)"
   ]
  },
  {
   "cell_type": "code",
   "execution_count": 56,
   "metadata": {},
   "outputs": [
    {
     "data": {
      "text/html": [
       "<strong id=\"C_1_to_n\">C_1_to_n:</strong> <a class=\"ProveItLink\" href=\"../__pv_it/common/e65c5945bd28d04ab16a8cf959c7330e438d17bc0/common_expr.ipynb\"><img src=\"data:image/png;base64,iVBORw0KGgoAAAANSUhEUgAAAF4AAAASBAMAAAAgZnRKAAAAMFBMVEX////MzMy6uroyMjIiIiKq\n",
       "qqoQEBB2dnbc3NyYmJhmZmZUVFRERESIiIju7u4AAACOKgoaAAAAAXRSTlMAQObYZgAAAP1JREFU\n",
       "KM9jYGDgu7NrJ0cBAz6AouTaBAbWZRPwqkdW8sYPSKxvwKccRYnZAyChhtd4ZCVcX0GkFD7lKEr6\n",
       "HUDkC3zqUZTUX4DQjAdwqocpAQN/AYjyVQ441UOVQEA+yC8MDxiYcKuHKYFoBhGsAvjUw5SAAThY\n",
       "2RnwqYcq4VwpewvoeZBn6vCqhyrhVJvA1sDA+pOBIeoBRP17A2BS+cyAxAATUCV9Vxj4gQpfnd6l\n",
       "wABRzwKKd28gZtkAZTC4gLwJVbIXORmA3ROH4RbWBwh2IsNyRoQESD1mqmZHMDk+MDgFwjlLfl9g\n",
       "4LuAof4tkgs2MFxHTfacmGGDni8A9J9NMUXVNtIAAAAASUVORK5CYII=\n",
       "\" style=\"display:inline;vertical-align:middle;\" /></a><br>"
      ],
      "text/plain": [
       "C_1_to_n: C_{1}, ..C_{_a}.., C_{n}"
      ]
     },
     "execution_count": 56,
     "metadata": {},
     "output_type": "execute_result"
    }
   ],
   "source": [
    "C_1_to_n = var_range(C, one, n)"
   ]
  },
  {
   "cell_type": "code",
   "execution_count": 57,
   "metadata": {},
   "outputs": [
    {
     "data": {
      "text/html": [
       "<strong id=\"D_1_to_n\">D_1_to_n:</strong> <a class=\"ProveItLink\" href=\"../__pv_it/common/8423edcd92f15422c6c08c449f03e50ef375213c0/common_expr.ipynb\"><img src=\"data:image/png;base64,iVBORw0KGgoAAAANSUhEUgAAAGQAAAASBAMAAABft2a7AAAAMFBMVEX///8iIiLu7u52dna6uroQ\n",
       "EBBmZmaIiIjMzMyqqqoyMjLc3NxERERUVFSYmJgAAAAdjRNVAAAAAXRSTlMAQObYZgAAATlJREFU\n",
       "KM9jYGB4+//snbMbGPACvvt/7p65jeD/Agr9xK+FgX8BA8P7CTAex3cgkUpAS38BAwNbAIzH/gNI\n",
       "+D/Ar6W+gYGB5R+Mx/MBSOw3wK/lPBBzf4Y78wDIlgv4tfwBYpa/yM5kqDdg6MGjA+xf9s/IzmS4\n",
       "79CWiEcL2L+8X5CdyfCVgcERjxawf/kDkJ3J9w+/FrB/3z9AdqbqAfxaQP5limHgy2svgzqTaRUD\n",
       "fi0g/2otYOBzfcAKTFpcQGc6JkC16APTBdMvZAaYYFgPDGIxBoZNhQz8Cgy86//m3slmgGphFAIS\n",
       "siDGBSiDQVCBgeHW/2t3j4FS7nUGV2TLwQ6bhOEmTgUkTgRDMgcSdyKIwEw3zEhs7g8MIjMQ3G3y\n",
       "14EuL8DQoo7EZrnAUIyefvkwAwsjiQMArpJVeeLJ6WoAAAAASUVORK5CYII=\n",
       "\" style=\"display:inline;vertical-align:middle;\" /></a><br>"
      ],
      "text/plain": [
       "D_1_to_n: D_{1}, ..D_{_a}.., D_{n}"
      ]
     },
     "execution_count": 57,
     "metadata": {},
     "output_type": "execute_result"
    }
   ],
   "source": [
    "D_1_to_n = var_range(D, one, n)"
   ]
  },
  {
   "cell_type": "code",
   "execution_count": 58,
   "metadata": {},
   "outputs": [
    {
     "data": {
      "text/html": [
       "<strong id=\"Q_1_to_m\">Q_1_to_m:</strong> <a class=\"ProveItLink\" href=\"../__pv_it/common/09cec181cd915ba5b46ab2fd4fb50688b1cd2d5e0/common_expr.ipynb\"><img src=\"data:image/png;base64,iVBORw0KGgoAAAANSUhEUgAAAGUAAAASBAMAAACwdQ2FAAAAMFBMVEX///+qqqq6urrc3NwQEBAy\n",
       "MjJERERUVFTMzMwiIiKYmJh2dnZmZmaIiIju7u4AAABsX1SbAAAAAXRSTlMAQObYZgAAATBJREFU\n",
       "KM9jYGDgu7P7FAMBgK5mZwMDewIBPWhqngYAjfHGrwVdTcgDIFGPXw+aGu5fIHK/AT4t6GrsJ4DI\n",
       "8wr49KCr2X8BROY3MLTh1gNXAwXzwaz/DD0nceuBqYGB/yDvMX5nYNDErQeuBgqmgAjOf3j1wNVA\n",
       "QQmIuH8Brx6YmjUr7h64W8HA0P/g7Q2OPwx49cDULPJicH9wnYGB98IC7vUbIHr4vjJAifcBSAyY\n",
       "Gua3Exg+MZwGCvRV30xmaIDYMxPk2ekgxxfAGPMYEGrYL3A4MEwEW83ewGUA0cP4AMNdcgwINSwN\n",
       "vAnMH8ABz3ZADUhKghIJpl82QCiwGnugTVwJYBGe/z8YGGzm1zIwvMXMOBcgNFiNOgOrAXM12C0c\n",
       "UwSgKhZg6OGC0gg1DAwAd5VtOovDLuEAAAAASUVORK5CYII=\n",
       "\" style=\"display:inline;vertical-align:middle;\" /></a><br>"
      ],
      "text/plain": [
       "Q_1_to_m: Q_{1}, ..Q_{_a}.., Q_{m}"
      ]
     },
     "execution_count": 58,
     "metadata": {},
     "output_type": "execute_result"
    }
   ],
   "source": [
    "Q_1_to_m = var_range(Q, one, m)"
   ]
  },
  {
   "cell_type": "code",
   "execution_count": 59,
   "metadata": {},
   "outputs": [
    {
     "data": {
      "text/html": [
       "<strong id=\"R_1_to_n\">R_1_to_n:</strong> <a class=\"ProveItLink\" href=\"../__pv_it/common/1b44c44a85c15e17452f3243c23714886b26144c0/common_expr.ipynb\"><img src=\"data:image/png;base64,iVBORw0KGgoAAAANSUhEUgAAAGEAAAASBAMAAAC5nq3/AAAAMFBMVEX///+6urp2dnYyMjLu7u5m\n",
       "ZmaqqqoiIiKIiIjMzMwQEBDc3NxERERUVFSYmJgAAAANh8IjAAAAAXRSTlMAQObYZgAAAURJREFU\n",
       "KM99k0FLAkEYhh9Nd9029dYt8AdEdejuHr0lRET3TnXIQ9ApmqOXcP+B3sPw1KGLHiMk9geUbkRQ\n",
       "hyBKwdDNxiXb1aUZmOF9Z3j43m+GAd7GD+07lCPT9e7bbuBHcO2okWwLs/7njAGkv9REVUDXnrrU\n",
       "EPShmqg04KwxdUs1OGqpiVvQRkFGB62uBvDgIGi12jnvy4iGoozhvXT3QhktniyMndL/RKpHZnMm\n",
       "YzYHMQUxafVjJmPTUROyVdMLMn7LqyqqiaqL1ofn13JxklE+3rpIKImKTXyA9XjJhXQL77KGuPKJ\n",
       "rQ1IfBIS/kJePsfAPCyU6EEy77nEb4RP6Mfy+FRO3fkVnFiwPe7Aapm0iNVClf1U+5FAmhXoRTuZ\n",
       "s0NHEyIXIeIh3URfDghz1xMkRIQohPQKqbX5nxO9Jnd+4wf9m1xobM0BQAAAAABJRU5ErkJggg==\n",
       "\" style=\"display:inline;vertical-align:middle;\" /></a><br>"
      ],
      "text/plain": [
       "R_1_to_n: R_{1}, ..R_{_a}.., R_{n}"
      ]
     },
     "execution_count": 59,
     "metadata": {},
     "output_type": "execute_result"
    }
   ],
   "source": [
    "R_1_to_n = var_range(R, one, n)"
   ]
  },
  {
   "cell_type": "code",
   "execution_count": 60,
   "metadata": {},
   "outputs": [
    {
     "data": {
      "text/html": [
       "<strong id=\"S_1_to_n\">S_1_to_n:</strong> <a class=\"ProveItLink\" href=\"../__pv_it/common/eb27bbecc333cc9507d976ab3ebdea4153cbab6b0/common_expr.ipynb\"><img src=\"data:image/png;base64,iVBORw0KGgoAAAANSUhEUgAAAFoAAAASBAMAAAApjdQwAAAAMFBMVEX///8iIiIQEBDc3NxUVFSI\n",
       "iIjMzMwyMjLu7u5ERES6urqYmJh2dnZmZmaqqqoAAABUl3CJAAAAAXRSTlMAQObYZgAAAPxJREFU\n",
       "KM9jYGDgu3OGewEDPoCsYjYDx3y8ipFV8F5gYNiOVzGyiv4EBoaleFUjq1i/gYEhDa9qZBX9fxLw\n",
       "uxpFBev//84MDGwTcKuGqICCbqdPDWx3BfAYDlKB4N1/wMAlgNcxQBVgwANyGF7VUBVg0ALE+Q34\n",
       "VENUcN9OjWVgeARk32HApxqignvRBiYDhosXGHgcIKr7CxgYOL4zIDHABESFRSADfwPDhSVX/Bgg\n",
       "qhklgAwRIGZ0gDIYBIFhAVXhyrAIbh3YJS8wUx8i5NQY7rDBhUGqD2ANDwhg/sAg9QzGvvglgIEj\n",
       "AEN1K8JyB4aYDchS3JjhsQGVCwCG+0vBF2+LOwAAAABJRU5ErkJggg==\n",
       "\" style=\"display:inline;vertical-align:middle;\" /></a><br>"
      ],
      "text/plain": [
       "S_1_to_n: S_{1}, ..S_{_a}.., S_{n}"
      ]
     },
     "execution_count": 60,
     "metadata": {},
     "output_type": "execute_result"
    }
   ],
   "source": [
    "S_1_to_n = var_range(S, one, n)"
   ]
  },
  {
   "cell_type": "code",
   "execution_count": 61,
   "metadata": {},
   "outputs": [
    {
     "data": {
      "text/html": [
       "<strong id=\"P__x_1_to_n\">P__x_1_to_n:</strong> <a class=\"ProveItLink\" href=\"../__pv_it/common/7fe1cafd85086b369e0eb3fc99bdc80bc0cc23a20/common_expr.ipynb\"><img src=\"data:image/png;base64,iVBORw0KGgoAAAANSUhEUgAAAHkAAAAUBAMAAABbvo/+AAAAMFBMVEX///8iIiLc3Ny6urqIiIiq\n",
       "qqp2dnbMzMwQEBDu7u5mZmYyMjJERERUVFSYmJgAAAA4CJ/KAAAAAXRSTlMAQObYZgAAAbJJREFU\n",
       "OMuVVE1LAlEUPTqj48c02gdBRCS0qkVltHCXgQgKobUJdy4kaJWLVhG4jHYTSLSJDKKluG5TP6BQ\n",
       "QtoFU8ugmNAKi6j7xnFGE425MHfOYzhvzrn3vgeYMQtLsabl55+b+wsZcF9ZYw8EtNcXIO4D3oA1\n",
       "trvEsvAOOOrAEyxGhiW+Rg/tMGSVfcSSqJKHGux+q2zvPCUf6Z8rgC+QlcjtYqYvI78yFQ3r2EkM\n",
       "5NJwjJIEBTjEQ3gc2O1dqbQ0YivpC4mBxN3GGTXMlgQ2sSUvYOe0J9spOxtcqzcO5rUsa9hFLmRc\n",
       "Mxjs/W+I5lQIVDC8wmAD9f5sqlK4gy18NjFTDuHjP3YuS4aL23GCnL/Zbq1xVLUUryLWj+2QE+Bl\n",
       "KaS4As2qeRtG/bk3UbUrGttN44uTUhvQ0lKyTIdpehk+KpYnDc/ld9MJ6XBXY/EXXfkga0OFwAR0\n",
       "YBsDjiP5Im1fRYhNS7ZNlTmpQU1jl+yUgfZwLgAH7R/NU7LKjHSbTreAXcXwun5KWiG2pmBmskoj\n",
       "2d1ro1dcBVFFP6HG147bQeliS3/WYud9YPFmegR+Abx4YO6J7VMIAAAAAElFTkSuQmCC\n",
       "\" style=\"display:inline;vertical-align:middle;\" /></a><br>"
      ],
      "text/plain": [
       "P__x_1_to_n: P(x_{1}, ..x_{_a}.., x_{n})"
      ]
     },
     "execution_count": 61,
     "metadata": {},
     "output_type": "execute_result"
    }
   ],
   "source": [
    "P__x_1_to_n = Function(P, x_1_to_n)"
   ]
  },
  {
   "cell_type": "code",
   "execution_count": 62,
   "metadata": {},
   "outputs": [
    {
     "data": {
      "text/html": [
       "<strong id=\"P__y_1_to_n\">P__y_1_to_n:</strong> <a class=\"ProveItLink\" href=\"../__pv_it/common/bfbf03bdc458628005bdae805200d6ed0937b9a20/common_expr.ipynb\"><img src=\"data:image/png;base64,iVBORw0KGgoAAAANSUhEUgAAAHUAAAAUBAMAAABBgm9wAAAAMFBMVEX///8iIiLc3Ny6urqIiIiq\n",
       "qqp2dnbMzMwQEBDu7u5mZmYyMjJERERUVFSYmJgAAAA4CJ/KAAAAAXRSTlMAQObYZgAAAaJJREFU\n",
       "OMuVVD1Iw0AU/tI0vf6kqSIKDkIcBJ3UrVsjFIcuBRdx6yAOTg7uFhzELYKDQ8UKomBRg6OL4my1\n",
       "g7gJwV2otFRURN/lElsJDeTBvXt3933Je+/eO+BPIjZCyIKjX3/qz1cmUAlDRVp3pi9A3QYuQ3ET\n",
       "FtesAyhtaNVQXCxzFW3R6EDSw3H3uFKb5H0L4+GoSM2QypDn01UUKIaCgUkzKMgeQIzHuFGCMgLc\n",
       "01Iuowh205crAEI0nqzi08oRfWsYmEhauGOnA325DsC1FQ57EE5sAmbcQBtyf64ACGGUJrzB4yJn\n",
       "svcgrgB0uexT2OQzaoiWA7kcoJ2vU14dGL9eLpQr1KE2ArkcoGXtuC5ylfoQ26s0zpCzHW6C6hQH\n",
       "Vo8hFAdMzSFDKUqWkLz+NhzuLI39/IUu/jtIp1KDjDG4hjTqAR6R5bWx1nVH1GRNBALFXyJLbsTY\n",
       "wjEDdnqOqBfSVqLlXlzMH2sJAhBpYmjR7QVPbiHZqoHIIQ9i11+PtOsA5AbmbbcHPalAzp94C/8b\n",
       "ovF76QLUf20X7s15AX4BS4Zqf0EHtD0AAAAASUVORK5CYII=\n",
       "\" style=\"display:inline;vertical-align:middle;\" /></a><br>"
      ],
      "text/plain": [
       "P__y_1_to_n: P(y_{1}, ..y_{_a}.., y_{n})"
      ]
     },
     "execution_count": 62,
     "metadata": {},
     "output_type": "execute_result"
    }
   ],
   "source": [
    "P__y_1_to_n = Function(P, y_1_to_n)"
   ]
  },
  {
   "cell_type": "code",
   "execution_count": 63,
   "metadata": {},
   "outputs": [
    {
     "data": {
      "text/html": [
       "<strong id=\"P__x_1_to_m_y_1_to_n\">P__x_1_to_m_y_1_to_n:</strong> <a class=\"ProveItLink\" href=\"../__pv_it/common/e79148ed857ab760cff5d5f3987b3d8d0ac60c3b0/common_expr.ipynb\"><img src=\"data:image/png;base64,iVBORw0KGgoAAAANSUhEUgAAAN0AAAAUBAMAAAD7DSVVAAAAMFBMVEX///8iIiLc3Ny6urqIiIiq\n",
       "qqp2dnbMzMwQEBDu7u5mZmYyMjJERERUVFSYmJgAAAA4CJ/KAAAAAXRSTlMAQObYZgAAAmdJREFU\n",
       "SMe1Vk9o02AU/yVpmqbNsolOEBEiIujFTfGwiyxCGKwwKl5ktx6GoBd78L6CB/GgfIMiHhxWkAkO\n",
       "Z/HoxeLZuSJjnoSoB0FQIp2TOUS/P8mXhtDoJQ/68vq+368v7/vee18BKaqPnOUi11//rL9/QYD7\n",
       "eYfDiMMfe4B1C3ieezyzw7SxA+jbsNu5x8MCU4U+/exAcfKPd48pK6A728fR/MOhMknVKN3ViTaq\n",
       "1GzNHZtxM0/Ae3t2IempujhBsigDgCI7s8U69IPAG7pUtw8oHRjdoeS7+OAeTniKWhO1LIoACLFZ\n",
       "wdS2Lj+i8cfpEinuao7xZGwo+QqukTMJz/FyB6+zKBwQ2jqDbYhkb9D8YLH31IaTiaRKT8nFdiaF\n",
       "A4QYtFTwHVE8epZudjxIqpRpYvzMpHBAHM/4JexxphYb/4jHqV8+e23vXehZRaGZSWEAe+16Nfxl\n",
       "1n5MaL3opIYCySLPFwLM4tMd3CZzoWsdVi8zHgPYU37JEfVS2RXuqzTzCxs4Jd7iAaskpsy9AUP7\n",
       "YQWqr7bG0MdKCHqKaZ9TEsj4GwecPI9RWiblOsovf4uOOw0se601X8RTDlGX0qPqSGTsIzA3Z6vf\n",
       "6HRwjSbbfw5a9p45Ij8KiCmCJwGbmGL93ojTjucZJ8+n9kWXXV1qFLpq0IhAqyFFT7e9BNzEigEs\n",
       "DSzF85p3ST3duNKaoBna3ToHjXTMfkgpps8uAqgB9l8K53Ukr6J79yHdYTM91lrSOoeKo24RDlJ8\n",
       "yxWUAYCcZRFA62HGD++jSBL3rZ1+1/T1z0Ca9/i/AVbiCsr//8RH4C+WIqdHPBXkCwAAAABJRU5E\n",
       "rkJggg==\n",
       "\" style=\"display:inline;vertical-align:middle;\" /></a><br>"
      ],
      "text/plain": [
       "P__x_1_to_m_y_1_to_n: P(x_{1}, ..x_{_a}.., x_{m}, y_{1}, ..y_{_a}.., y_{n})"
      ]
     },
     "execution_count": 63,
     "metadata": {},
     "output_type": "execute_result"
    }
   ],
   "source": [
    "P__x_1_to_m_y_1_to_n = Function(P, [x_1_to_m, y_1_to_n])"
   ]
  },
  {
   "cell_type": "code",
   "execution_count": 64,
   "metadata": {},
   "outputs": [
    {
     "data": {
      "text/html": [
       "<strong id=\"P__x_1_to_np1\">P__x_1_to_np1:</strong> <a class=\"ProveItLink\" href=\"../__pv_it/common/185bea0b9290b36eb93cb8f2c490a75776b5b9450/common_expr.ipynb\"><img src=\"data:image/png;base64,iVBORw0KGgoAAAANSUhEUgAAAI4AAAAVBAMAAABicsu7AAAAMFBMVEX///8iIiLc3Ny6urqIiIiq\n",
       "qqp2dnbMzMwQEBDu7u5mZmYyMjJERERUVFSYmJgAAAA4CJ/KAAAAAXRSTlMAQObYZgAAAdBJREFU\n",
       "OMullL9Lw1AQx7/prxhNawUriAgVd4uio5ihCBZEHbt1EEEH7X9g0clF3lBcVKwgDg4iOih2UJz9\n",
       "RREXESoOgqJUrJUqopekSRpiK6QHd9y7d3xyuffeAbo4srAp7qBsn3/Obg8ZsALbklHsFyAuALv2\n",
       "Ocuy4QtUWR6+lH2ORyLjeiMtgAva5wgJMmIO8L6hAzXIHmnjDhBKIUJucrhzUKr64XCmd/yP+BTp\n",
       "bAzuFuCcsmK+Zm4H/HFFzhLupDZTRE1+Ih25ntigYw9Qu5in6AzyW/6KnEnMsB4TRk0eI71gSmSe\n",
       "6oEo052VOQynxsILPXmW9BUah3olVecAecMVTRz+U40GlHX8Hw7/QebxIZwyc7rV6yML9dnNRuBi\n",
       "1ThRVw5DuF/EnJlDfW4o6kc3MHqBLnVrjS6D8IWS0VbOdzHnyDqSfhTNnE3UH32rN4ZKWw0nt7Pq\n",
       "FtdKoXaUDHdJpolBuBqKvFCDJWcCN+mDdDpb4uwbJRvvQtmKWqcD07y6eH0sXl6PUNYJ45265WjM\n",
       "+hh1LwSuT+MoyZ7yR3CizbN1+lPB+jySutcP13SpP0qyOjc0Mc0xn/WsLONStJRgb67qHF+wllkB\n",
       "R5n/C4fSalo7+vM2AAAAAElFTkSuQmCC\n",
       "\" style=\"display:inline;vertical-align:middle;\" /></a><br>"
      ],
      "text/plain": [
       "P__x_1_to_np1: P(x_{1}, ..x_{_a}.., x_{n + 1})"
      ]
     },
     "execution_count": 64,
     "metadata": {},
     "output_type": "execute_result"
    }
   ],
   "source": [
    "P__x_1_to_np1 = Function(P, x_1_to_np1)"
   ]
  },
  {
   "cell_type": "code",
   "execution_count": 65,
   "metadata": {},
   "outputs": [
    {
     "data": {
      "text/html": [
       "<strong id=\"Q__x_1_to_n\">Q__x_1_to_n:</strong> <a class=\"ProveItLink\" href=\"../__pv_it/common/243dc17d65d7910e0017f3be11a50095b70808a40/common_expr.ipynb\"><img src=\"data:image/png;base64,iVBORw0KGgoAAAANSUhEUgAAAHgAAAAUBAMAAAC0fOTAAAAAMFBMVEX///+qqqq6urrc3NwQEBAy\n",
       "MjJERERUVFTMzMwiIiKYmJh2dnZmZmaIiIju7u4AAABsX1SbAAAAAXRSTlMAQObYZgAAAZ9JREFU\n",
       "OMuVlD1Iw1AQx//9MG36Ebp2KRVBcRA6i9CCmy4iDo5CwVWhblLM5CS2YEVcbBAElYJd/WxXdTCj\n",
       "QluzOEmxDqKItr57+aAY2pKD3N17/H/J5Xj3AMsm4chcCfJS7fKOwpIzGBly5zJ8DBxKOIRf6Jlj\n",
       "X50FSg5ZBFVgQWPJBrDjFJZSCH5TUkl48k5hzCPJoYd4uMreVc9MXPf/WrfiChWV4oosKMArTtRd\n",
       "YLM3bCh0O0JRptiBGAFuUNFGsHXbG9YVhkXRoX65PuGNAxqWaXO8N2wodMuhQEFscxj4HQAbChNe\n",
       "o/Cs8rLh/xoEc0XpuF7lupzWfPT/ANSwWLiFRl9YVxzOYJo3LKwqwbMyOy9VuN+FlkfR4Tc6dx9G\n",
       "Yq10haeZR5vt3gPb609pyHDnIWUbtVOjbPGAuT1KVk23r5kKn+pOsY1FqsUnBxLdx5OXHbPPoGZm\n",
       "XjlUliHx4yVUR9E9GFFyZfsgWFkS4rDMBwMIdaiFgjmSU8Us+0PVBjetbAzhC30kWfsLEdtlELB3\n",
       "Wvm3TncvHF5DrE9/oHF5/JL4fLEAAAAASUVORK5CYII=\n",
       "\" style=\"display:inline;vertical-align:middle;\" /></a><br>"
      ],
      "text/plain": [
       "Q__x_1_to_n: Q(x_{1}, ..x_{_a}.., x_{n})"
      ]
     },
     "execution_count": 65,
     "metadata": {},
     "output_type": "execute_result"
    }
   ],
   "source": [
    "Q__x_1_to_n = Function(Q, x_1_to_n)"
   ]
  },
  {
   "cell_type": "code",
   "execution_count": 66,
   "metadata": {},
   "outputs": [
    {
     "data": {
      "text/html": [
       "<strong id=\"Q__x_1_to_m\">Q__x_1_to_m:</strong> <a class=\"ProveItLink\" href=\"../__pv_it/common/961e9f77a09a49d1385946f75f2b9f7eb0c974ae0/common_expr.ipynb\"><img src=\"data:image/png;base64,iVBORw0KGgoAAAANSUhEUgAAAHwAAAAUBAMAAAC9l0S6AAAAMFBMVEX///+qqqq6urrc3NwQEBAy\n",
       "MjJERERUVFTMzMwiIiKYmJh2dnZmZmaIiIju7u4AAABsX1SbAAAAAXRSTlMAQObYZgAAAa1JREFU\n",
       "OMuVlD1Iw1AQx/9tavplQtcupSAoDkJnEdpN0EXEwbFQcFWog1CKmZzEVqyIixZBUCnYVfxoV3Uw\n",
       "mwptzeIkxSqIImp995LUSmhLDnJ3Of6/vJfLuwAtG4VNc0TIy5XTKwpxuziS5E4UuBnaF7GNP9I1\n",
       "xVaeBAq2afhVYEZjyTKwYR+XY/B/UlKKCFn7OKYR5dhNWCqzp1WTI+fd1/uvOENJpTiviHngCYfq\n",
       "JrDSGTcUpu1jV6HYhDcAXKCkDWD1sjOuK1oWRJM653iHKwxomKPicGfcUJiWQY6C94fjwHcP3FD8\n",
       "4YsUHlS+eXg+euFcUTiolqtLXJnR6neeL4BaF5IaqHXFdcXeBMa1W946Sc37j4vsBJXhfBEbQl7H\n",
       "n+ksvrUn5HSFUM/iFdesxq611H0CCpxZyOla5cjYvHeHuS1KFowE25qpcKueGNZZaZbqbsUXaT+0\n",
       "fPMh63xqZuZSpLjQUCDzIyeWB9E+MkFyReuAtLIoW98XL/KRAfqb1E7RHNix3TR7U9WC11vZEJtu\n",
       "IaXxgWUfIxew/C581q7nLZVE+43tnxXr2C/bd4D7DxSEDAAAAABJRU5ErkJggg==\n",
       "\" style=\"display:inline;vertical-align:middle;\" /></a><br>"
      ],
      "text/plain": [
       "Q__x_1_to_m: Q(x_{1}, ..x_{_a}.., x_{m})"
      ]
     },
     "execution_count": 66,
     "metadata": {},
     "output_type": "execute_result"
    }
   ],
   "source": [
    "Q__x_1_to_m = Function(Q, x_1_to_m)"
   ]
  },
  {
   "cell_type": "code",
   "execution_count": 67,
   "metadata": {},
   "outputs": [
    {
     "data": {
      "text/html": [
       "<strong id=\"Q__y_1_to_n\">Q__y_1_to_n:</strong> <a class=\"ProveItLink\" href=\"../__pv_it/common/31d40cd78720d264f2e2fce8e578387d1c4c5da10/common_expr.ipynb\"><img src=\"data:image/png;base64,iVBORw0KGgoAAAANSUhEUgAAAHQAAAAUBAMAAACuQAROAAAAMFBMVEX///+qqqq6urrc3NwQEBAy\n",
       "MjJERERUVFTMzMwiIiKYmJh2dnZmZmaIiIju7u4AAABsX1SbAAAAAXRSTlMAQObYZgAAAbBJREFU\n",
       "OMuVVDtIA0EQffmYf860NhJBFAvhahEi2ClKEAvLQAorMaBWEtzKSkzAgGhhgiBYBEzrB5LGQkW8\n",
       "wkIh4jWWIYKIEiRx5vaigZCDG9iZWe69vbmZtwf82QRsmENlr1Qvbzkk7FCxxu5cwEu0PtUW9Y1X\n",
       "nN44CxRtMRHUgEWdki1gzx5VmUKwwUlZdWXtUbGAmEF5iIYrQO0ernkreCfgCmWN46rwFIDSMMLv\n",
       "2O5NlQBpJ8gLji34I3BFruFJ7Nz0ZEqAuRlAi7vk+II7CgVz6Ncw1rs1EiAtgxwHf5OpcDaRERZU\n",
       "E9CmrnN41bhghOJ4hBXVABRPX6ilBMvotSffD8Bt8qSwbEk1AMczmDbaFNYKwbMSqYNOCqWcDUmt\n",
       "s8Q+zeR/xwBXLYsm5XfA7uZzEgJOmq+Srn5Iqv+I3D4nqbY70E2AV3NO0X6Jy/CKgGoKkT5GFjzY\n",
       "fc10E+AWoZKAYkjJUxmBIf8N1KM8MB5+t95hAmLwDwlD/nRS65sPUHGIFWAyn6bKtG4R0jIAowhf\n",
       "yEsH+HIRedXHq+2hBbq7SxPoACDZ+czWD4a68ws35HpwmmC00wAAAABJRU5ErkJggg==\n",
       "\" style=\"display:inline;vertical-align:middle;\" /></a><br>"
      ],
      "text/plain": [
       "Q__y_1_to_n: Q(y_{1}, ..y_{_a}.., y_{n})"
      ]
     },
     "execution_count": 67,
     "metadata": {},
     "output_type": "execute_result"
    }
   ],
   "source": [
    "Q__y_1_to_n = Function(Q, y_1_to_n)"
   ]
  },
  {
   "cell_type": "code",
   "execution_count": 68,
   "metadata": {},
   "outputs": [
    {
     "data": {
      "text/html": [
       "<strong id=\"Q__z_1_to_n\">Q__z_1_to_n:</strong> <a class=\"ProveItLink\" href=\"../__pv_it/common/71d219a2b765bf52d80da69ad4f1b4f9afe44f3d0/common_expr.ipynb\"><img src=\"data:image/png;base64,iVBORw0KGgoAAAANSUhEUgAAAHQAAAAUBAMAAACuQAROAAAAMFBMVEX///+qqqq6urrc3NwQEBAy\n",
       "MjJERERUVFTMzMwiIiKYmJh2dnZmZmaIiIju7u4AAABsX1SbAAAAAXRSTlMAQObYZgAAAZZJREFU\n",
       "OMuVlDtIw1AUhv8+bJo+QjfpInVRumUWoUVx0UWKg2Ohm4sF3US8U0EQW7AgLrYIgmDFrj6gmQR1\n",
       "MKNCxSyOxUkUkdZ7bhINDURyIOfR/l9yenJugV+bgg8LqOSV7tUdhaIfFGvkLhgkjo2ovtBXuhb5\n",
       "ExeAli8ScR1YMniyBez5Q5U84l+UdNRQzR+KAnICecgkNR6yM9Gmp94huEZHp7jKIvwjZaV7A1Q8\n",
       "uhQC047RYBQHkFP8G4SK2Ln1QElgWRoDmlLgA+EM1RVeZb06JoFpVdQpyH0TDZbhjQqBja5TeNFF\n",
       "wxjFPygJWifPYqSoGr3H6DdAYwpokDxRITiax6wYU1Jvxs/bfDv4nbZPzwom+kYr9m4lfxUJQr0a\n",
       "+jy/B3Y3nkpgCPL3q8XmMiYqH3K3T0nZdgeGJZD0YJ7Xy9SGxGKqYxFFw2PuZu3ZhlmizaCIVYpo\n",
       "E3Csf5pc273vdpKDPM7E+gOJwSfdwDp0041N/st0F9qzk0kkL81DB0TrqeGjHnNPd2i5S87C1x8M\n",
       "n84PsWVoep9H+1UAAAAASUVORK5CYII=\n",
       "\" style=\"display:inline;vertical-align:middle;\" /></a><br>"
      ],
      "text/plain": [
       "Q__z_1_to_n: Q(z_{1}, ..z_{_a}.., z_{n})"
      ]
     },
     "execution_count": 68,
     "metadata": {},
     "output_type": "execute_result"
    }
   ],
   "source": [
    "Q__z_1_to_n = Function(Q, z_1_to_n)"
   ]
  },
  {
   "cell_type": "code",
   "execution_count": 69,
   "metadata": {},
   "outputs": [
    {
     "data": {
      "text/html": [
       "<strong id=\"Q__a_1_to_i\">Q__a_1_to_i:</strong> <a class=\"ProveItLink\" href=\"../__pv_it/common/ee84f3fbb9486b31d8222ccef5340fe14c0b6a640/common_expr.ipynb\"><img src=\"data:image/png;base64,iVBORw0KGgoAAAANSUhEUgAAAHIAAAAUBAMAAACjXnQJAAAAMFBMVEX///+qqqq6urrc3NwQEBAy\n",
       "MjJERERUVFTMzMwiIiKYmJh2dnZmZmaIiIju7u4AAABsX1SbAAAAAXRSTlMAQObYZgAAAbZJREFU\n",
       "OMuVlD9Iw0AUxr9Y+yeNDQVxcNEOIjgI2QQRFAQHBSni4KbQWRTUScSAuxUsFAc1i4MgGHASCzoJ\n",
       "WsUgDgoVKyi6SOsgFZXW95K2VEKDOci97477vXv37l2AauvF/5ugcC9njs7ZTLkgMcfdoQo/UV7F\n",
       "DfnMX5T2GwH23ICQDGA8S2IZWHdFygOQvlgcK541VyTG0G8SV5HQCZm+1E3Wcb0nfTlqqRSODbYz\n",
       "qk8DGgYxCQQcktyhePNAhtQOtlWeKUEMA08aThG4qB+3PIwm8rtCshUlDk8ooDFCMWexSTvXJ5uK\n",
       "EA1LxpFgIxZNcgjypyPZOIWcWiHn2TwYHK38DSHvSOZ0tAPdsyS7EM++3QZ+AMqQ/A5/tNmRDGNB\n",
       "UPSimaGQoUn7OhUF3co0dmd1k5Q/eF20LKojnxFMSp5Hdp0GVhfvYlDN9S/3K0sRa88NSpzIUSVR\n",
       "7sQtcrF023NNPA0neN6vBpWa6jNJwV4RbdWYX8mHeSTfSSdqKl7gScl+SL0iWiSr4umWSp/Ml1+Z\n",
       "56xAs2/2KjAq6uXAemVUbomw7WVrNjL4ZxSrHbj5m1BifgHS23hU0OKn0wAAAABJRU5ErkJggg==\n",
       "\" style=\"display:inline;vertical-align:middle;\" /></a><br>"
      ],
      "text/plain": [
       "Q__a_1_to_i: Q(a_{1}, ..a_{_a}.., a_{i})"
      ]
     },
     "execution_count": 69,
     "metadata": {},
     "output_type": "execute_result"
    }
   ],
   "source": [
    "Q__a_1_to_i = Function(Q, a_1_to_i)"
   ]
  },
  {
   "cell_type": "code",
   "execution_count": 70,
   "metadata": {},
   "outputs": [
    {
     "data": {
      "text/html": [
       "<strong id=\"Q__b_1_to_i\">Q__b_1_to_i:</strong> <a class=\"ProveItLink\" href=\"../__pv_it/common/136d6a4f226e5be228df7d9885251dce3e14676e0/common_expr.ipynb\"><img src=\"data:image/png;base64,iVBORw0KGgoAAAANSUhEUgAAAG4AAAAUBAMAAACezBVvAAAAMFBMVEX///+qqqq6urrc3NwQEBAy\n",
       "MjJERERUVFTMzMwiIiKYmJh2dnZmZmaIiIju7u4AAABsX1SbAAAAAXRSTlMAQObYZgAAAcZJREFU\n",
       "OMuNVDtIA0EQfUnMz9NLGgsbTSVYiKlttFWbIIIWIgEtBQWtFPHAXgUFsdFr7AQDVlHBWFj4wysV\n",
       "I57grzAcUUTxc3Fm9/xAyMWB23m7t2/u7czsAT/Wgv+aJ86jmt06YJfEbbv7fnVwToJRHtIagknA\n",
       "T0H6ynzIn5H+hp8EBeoE1gjny/AiUekVA+g2CUwB84DXLsNrNh3BbVDeGOzEfSRdmSvDS3+DLrSK\n",
       "vSexapLun8xGXXk9F7sSbGPHYD+sBXTA6lefEEqWzuezacWRJbSKFY1XCgjTl+pNfIaOSov12IgY\n",
       "mCZUiwIf1fOCihiwB/Ud3tK8qgSslECzWGAXtgWvD968G4/K1xx1eGPsLg2h8w1VthsvouPEbBoh\n",
       "1IhZM3ca+gA4L4+41l15MbUDKVvkpdrQlXUSrVAdxjEEwVOf6Z2VcMDPLKgHMr4rjnsIzEycDUAT\n",
       "2x/OdcnDEmUrzIIW4QzhZQpwvEnCuHC9vBzUKuOiz4QJnscsElnneOueAoizBDINkH0tisRrSvHh\n",
       "Uo6vUWRfU1kKr8wWlxG+/RdazBX3iuGAuw15j4DQQlTe21/Ti3iVfycDfyf//09QOr4AMFh/xF6j\n",
       "FscAAAAASUVORK5CYII=\n",
       "\" style=\"display:inline;vertical-align:middle;\" /></a><br>"
      ],
      "text/plain": [
       "Q__b_1_to_i: Q(b_{1}, ..b_{_a}.., b_{i})"
      ]
     },
     "execution_count": 70,
     "metadata": {},
     "output_type": "execute_result"
    }
   ],
   "source": [
    "Q__b_1_to_i = Function(Q, b_1_to_i)"
   ]
  },
  {
   "cell_type": "code",
   "execution_count": 71,
   "metadata": {},
   "outputs": [
    {
     "data": {
      "text/html": [
       "<strong id=\"Q__c_1_to_i\">Q__c_1_to_i:</strong> <a class=\"ProveItLink\" href=\"../__pv_it/common/902c4679d0ec4cf48cf64d53b8485e7b2e9fa1690/common_expr.ipynb\"><img src=\"data:image/png;base64,iVBORw0KGgoAAAANSUhEUgAAAG4AAAAUBAMAAACezBVvAAAAMFBMVEX///+qqqq6urrc3NwQEBAy\n",
       "MjJERERUVFTMzMwiIiKYmJh2dnZmZmaIiIju7u4AAABsX1SbAAAAAXRSTlMAQObYZgAAAZhJREFU\n",
       "OMuVVDtIA0EQfWdikssl5zUWNpJKsBCu1UYrG5sgFpaBYG1EOwsP0hvFgIigaWxEMWClUZLOL3hl\n",
       "hARjIVoYrCSikjizuXwweF4WbubtMm/27ezsAc0xBqdD0tmqhcw1u4hjHhbZnBjwEqdXd8574i9M\n",
       "e00BB85pUExgpkRgBdjogqdOQPlkkNVda13wMI1xEX8XCuZ4/2LePv68aAh/hqzJft7wpADXOubg\n",
       "s6nrqOYJo0BgD7siQQ2yBshpLPhubQRvw6shTmAANS6LVIE7RGoZ9/zNC1QbKIEkO7kqeJOw57kj\n",
       "Ld4SuweTdapf//De0mRGYmSGkSiV875vgOtCVyLZ8fooRktXRV2CZko5ojwK3cMF1EvBU985e9gC\n",
       "zVkghtf4I+e9AVaX76MwRLhyemjp3KIKySxoE5aRd8hk9k14+OJmedlr+PVWnwmeVOoQOdg45Asp\n",
       "EGfx5IbQ6muJ15TOw6Ut36/U+5pk1z6YXX9HrqsKLZY7W9m0wPNx/R0BvqT2+92mOnj+9km0feL8\n",
       "P0Hl+AFhZm3nLxLfVgAAAABJRU5ErkJggg==\n",
       "\" style=\"display:inline;vertical-align:middle;\" /></a><br>"
      ],
      "text/plain": [
       "Q__c_1_to_i: Q(c_{1}, ..c_{_a}.., c_{i})"
      ]
     },
     "execution_count": 71,
     "metadata": {},
     "output_type": "execute_result"
    }
   ],
   "source": [
    "Q__c_1_to_i = Function(Q, c_1_to_i)"
   ]
  },
  {
   "cell_type": "code",
   "execution_count": 72,
   "metadata": {},
   "outputs": [
    {
     "data": {
      "text/html": [
       "<strong id=\"R__x_1_to_n\">R__x_1_to_n:</strong> <a class=\"ProveItLink\" href=\"../__pv_it/common/5a8797440e3a562fd1a031d1bd3418dbe1b024d80/common_expr.ipynb\"><img src=\"data:image/png;base64,iVBORw0KGgoAAAANSUhEUgAAAHkAAAAUBAMAAABbvo/+AAAAMFBMVEX///+6urp2dnYyMjLu7u5m\n",
       "ZmaqqqoiIiKIiIjMzMwQEBDc3NxERERUVFSYmJgAAAANh8IjAAAAAXRSTlMAQObYZgAAAaFJREFU\n",
       "OMuVVDFIw1AQfU3TpNGaugldzCK42d3BbBZRLIK4FQcXcaiCqIsQCkWXYkc3dXQQIoiCg3YUFc3o\n",
       "ogQcRSioYKlV7+enSWtoJTfcv89/7/79u38HeNJrI5QsOfr15/H2jtbJcGT0mc7yBZxbwGhItphm\n",
       "WvkkPzWo2ZBsDDMVrwNyHbIZlj3BVGIfyFdwFpaMaD+ppAXpCCiSmSkdF4yujFaEwN6691T6KAOU\n",
       "dlFTN+Q0lErnTHEEF5UZOzqedWCNnOnCe8RUZpc7sjnC3UgMd03Ba8ABeUaCXRvpzHYRXJQqqQZw\n",
       "aTlscmN0Z7sIn618U8qzTuSUg/J/bIZQc7tFFxevASOGyLIm6TuI693YHKGm7B6TZy1K9+eNUwwB\n",
       "g/P3uOA+xTfCTqdbDEdxxMkWkpTnmIbYWMOGcGVgAJjazuRsN/J1OpYpHdiEa8irHuIBKfZbyn5Q\n",
       "/k912JIeCHvBsw4xowDjLWd+lzh1FIKP1rxJUMXKotslTblpns01qCqZYK29WkUsFGy3Q5vSPh2C\n",
       "g0b9s0+0NWXYyfQC/AJ6KGo8gOPHpQAAAABJRU5ErkJggg==\n",
       "\" style=\"display:inline;vertical-align:middle;\" /></a><br>"
      ],
      "text/plain": [
       "R__x_1_to_n: R(x_{1}, ..x_{_a}.., x_{n})"
      ]
     },
     "execution_count": 72,
     "metadata": {},
     "output_type": "execute_result"
    }
   ],
   "source": [
    "R__x_1_to_n = Function(R, x_1_to_n)"
   ]
  },
  {
   "cell_type": "code",
   "execution_count": 73,
   "metadata": {},
   "outputs": [
    {
     "data": {
      "text/html": [
       "<strong id=\"R__y_1_to_n\">R__y_1_to_n:</strong> <a class=\"ProveItLink\" href=\"../__pv_it/common/5440ad91de622faa67f7f311ab66ee1fb8ac70830/common_expr.ipynb\"><img src=\"data:image/png;base64,iVBORw0KGgoAAAANSUhEUgAAAHUAAAAUBAMAAABBgm9wAAAAMFBMVEX///+6urp2dnYyMjLu7u5m\n",
       "ZmaqqqoiIiKIiIjMzMwQEBDc3NxERERUVFSYmJgAAAANh8IjAAAAAXRSTlMAQObYZgAAAa1JREFU\n",
       "OMuVlD8sBEEUxn937m5v3Vk6iYZGonO9wnVECCEiCjQaUSARKslGIjRCqXNKheQKIdFQin/ZUkM2\n",
       "UYqEiIRweDOz504ud8m+4u3Mvu+bmffNewN/lvIJYbPaP/3cXd3Itz8MlYa8/nzBiQddobixjPL2\n",
       "u6zygTMUikuHcslPsD6x8uG4fcqlczB3xnE4KnVN4ho9EgewJjmsuZxkayVZBoiqHHfvN9+2QaSO\n",
       "RnJsYZ9V5RqAMUeJtZXlQdZagqN4hit7dL4qVwOCcULBLuTYbbAH2XqXdyLVuQZgzH4WV4BTT3Np\n",
       "zdoftbgGUOLa3yLzkD4zIyRzNbkK4EzuiK4alpSFOt2Y0opr0l5NrgI4LX593mhVJ3vPuUe0S2iC\n",
       "Vl9zY68yG8yUDYxTgMN1GkXbeBvx7oJP9NylWUIDG1N5s++yRC1RgRWCgbVYBNzSompju3QcU5Mj\n",
       "JhESlSUyHWTMPsM29JSFpBcaMrGX4OKilbnKPWpA6pmFmaAXinaJ5addUmMFF3or61H+akDEY9UP\n",
       "erBo/UQ2xouTyjfEUfdSAqT/tV24N+cRfgEZFXMOkrec0gAAAABJRU5ErkJggg==\n",
       "\" style=\"display:inline;vertical-align:middle;\" /></a><br>"
      ],
      "text/plain": [
       "R__y_1_to_n: R(y_{1}, ..y_{_a}.., y_{n})"
      ]
     },
     "execution_count": 73,
     "metadata": {},
     "output_type": "execute_result"
    }
   ],
   "source": [
    "R__y_1_to_n = Function(R, y_1_to_n)"
   ]
  },
  {
   "cell_type": "code",
   "execution_count": 74,
   "metadata": {},
   "outputs": [
    {
     "data": {
      "text/html": [
       "<strong id=\"R__y_1_to_m\">R__y_1_to_m:</strong> <a class=\"ProveItLink\" href=\"../__pv_it/common/589a7bae4f48561b8f15a81bddde83cc7f8712670/common_expr.ipynb\"><img src=\"data:image/png;base64,iVBORw0KGgoAAAANSUhEUgAAAHkAAAAUBAMAAABbvo/+AAAAMFBMVEX///+6urp2dnYyMjLu7u5m\n",
       "ZmaqqqoiIiKIiIjMzMwQEBDc3NxERERUVFSYmJgAAAANh8IjAAAAAXRSTlMAQObYZgAAAd5JREFU\n",
       "OMuVlM9rE0EUxz+bbLK73U3amyJI9yJ4M3cP7s0iLQ0G0R6KPXjz0B5ET8pcAkEozX/QFDx4qeTU\n",
       "Qi/NsWgri170UEmRHkoRWlRoiKm+WTdpSkhgB+bNPGY+M+995wf0itskUXka2R9/93c/SjudDCZX\n",
       "j5o/sBXC7YS0WdDWOZN1WuSLCWluamO3wWpj1ZPS97TxarDYYDMpTHpCzHhIdh3KkklZsRWMmD/1\n",
       "CPdNz0vpXFe/Lf+ugsieMmqs4DSG0v417JOel9eyrQR8lw2fw0amwK7zYGkY7C6U8C7WzuqJ7yV4\n",
       "H9YgGFOcYQylTd4yrnquo8PowHYY0UwGTmsEjfGL1eol2jkXyYtR5JSwa6Noyew1h0eVYuWrXksm\n",
       "2i24pUytGnt44ShaRvc4eMd6sByrlpb9F9UGN8SfZ7IZ0bNaTm3Mn/2dTGicu1NLnHJfez6ZO50m\n",
       "qR3FFfFnKo/rEW09E88SNXjZ7byQczG/lNvklFOL8kxfSBDf1NL/dHgyEHU2iDMfq9oN90TIu32j\n",
       "8kpyBfM0PkZ/gE5J/czsBNuye77hx6+kWz5gNT2F+7CjMNXgLZX6ih24TrrufgriF9ot0xiVuW4g\n",
       "g3rrn+dquS9V79KjTPozHcM/q7N6IPN+GasAAAAASUVORK5CYII=\n",
       "\" style=\"display:inline;vertical-align:middle;\" /></a><br>"
      ],
      "text/plain": [
       "R__y_1_to_m: R(y_{1}, ..y_{_a}.., y_{m})"
      ]
     },
     "execution_count": 74,
     "metadata": {},
     "output_type": "execute_result"
    }
   ],
   "source": [
    "R__y_1_to_m = Function(R, y_1_to_m)"
   ]
  },
  {
   "cell_type": "code",
   "execution_count": 75,
   "metadata": {},
   "outputs": [
    {
     "data": {
      "text/html": [
       "<strong id=\"R__x_1_to_m_y_1_to_n\">R__x_1_to_m_y_1_to_n:</strong> <a class=\"ProveItLink\" href=\"../__pv_it/common/82233c628f2491ad9b8b3d00713a11797587aec40/common_expr.ipynb\"><img src=\"data:image/png;base64,iVBORw0KGgoAAAANSUhEUgAAAN0AAAAUBAMAAAD7DSVVAAAAMFBMVEX///+6urp2dnYyMjLu7u5m\n",
       "ZmaqqqoiIiKIiIjMzMwQEBDc3NxERERUVFSYmJgAAAANh8IjAAAAAXRSTlMAQObYZgAAAnNJREFU\n",
       "SMe1Vk1o1EAU/rKb3SSbNPWmVKR7UOite/fg4MVFLC4tIh6sHnoRD60o6kUIpYu5LN2jN9ejh0oE\n",
       "qdCD3aNo1cVTRZSIiIgoW/yhpa76ZpLMbggbveQdXmbffF++vJk3bxaQZvrI2C4K/+XPm43n9DyR\n",
       "tRxGPPH4Bax1gMOZ66kV7o1tUt6BXctcDxPc6buAtgvNy17vOHdWC5hv42H2csjvITfaQXEFqNOw\n",
       "2ri/6KTugPt630Q8UnewxtIoA4Ac37Pbbxs/mgCVqFq2r2sVGO2h5KP46FyORXJKC8tplAAQmM0L\n",
       "ZpnhPelfpSmW+654xqmFoeSDmGT7Y5HVQgUbaRQBCMdFDntCS1oG7lB+sPh3KsPJTFJlpORgO5Ui\n",
       "AIEZXXI9YL0j9EjYSdeDpEobZ8ZOKkUA+nrGbyrPmlhP2svmP/QE9cMnt+a+CiMz0FupFA6wZ2/V\n",
       "wzfr9IZJR+X1UmTL0FkaeU7vYgnv7mGFNcLQM1idVD0OsMf8khfUS55ynHdWcYgyP/8Cj4KvOEkz\n",
       "6jeELvql/LS6pm9WF7CF6SCMsxj3BSWGDOYk4MFNjFJNFsooHOn5yD12sBeYcquzfqCnXSHkDYRO\n",
       "o/3FNQZ1c6n+lbqfY7T4+gvQlHvOC/IjQICUlD5gE2P8vDf7aff7mSDPJdalKE91qam3zW4zAs2E\n",
       "lGLy2EvAXUwbwLGBqX6/FqeknDy4crROGdrtsgCNVNStkJJL7l0EMLu4dCHs15E9je7d0z0HarKt\n",
       "VeXoAPKe+ZIJkOZbTkAZAMheFgGUDhb98D6KLHbf2slvTV7/HKS4Z/4bYMWuoOz/T3wG/gJoG7PP\n",
       "s989pAAAAABJRU5ErkJggg==\n",
       "\" style=\"display:inline;vertical-align:middle;\" /></a><br>"
      ],
      "text/plain": [
       "R__x_1_to_m_y_1_to_n: R(x_{1}, ..x_{_a}.., x_{m}, y_{1}, ..y_{_a}.., y_{n})"
      ]
     },
     "execution_count": 75,
     "metadata": {},
     "output_type": "execute_result"
    }
   ],
   "source": [
    "R__x_1_to_m_y_1_to_n = Function(R, [x_1_to_m, y_1_to_n])"
   ]
  },
  {
   "cell_type": "code",
   "execution_count": 76,
   "metadata": {},
   "outputs": [
    {
     "data": {
      "text/html": [
       "<strong id=\"R__z_1_to_n\">R__z_1_to_n:</strong> <a class=\"ProveItLink\" href=\"../__pv_it/common/0efec46add2cb425c260a4c2bf12bfdee6cf46a20/common_expr.ipynb\"><img src=\"data:image/png;base64,iVBORw0KGgoAAAANSUhEUgAAAHQAAAAUBAMAAACuQAROAAAAMFBMVEX///+6urp2dnYyMjLu7u5m\n",
       "ZmaqqqoiIiKIiIjMzMwQEBDc3NxERERUVFSYmJgAAAANh8IjAAAAAXRSTlMAQObYZgAAAZ5JREFU\n",
       "OMuVVD1Iw2AQfa1p0lhbO9mp0MW12lEcDLh0EAxCcXFUnMQOoiAoASm4iNlcxFocRemkIEI7OIiV\n",
       "kl2UahGqIAgqWGrVy6/B0GgO7vLy85KX9919gBWhGv4fbFGtT1/Xl1U6jsFLXGn1AzhRgGFP1FG1\n",
       "8O9AuImI6Inql6gEWwDXAlf0RGV2qfRQmS/jGN4iRdmrgD0AcgR9y9Ed1+djBd5ch37K/M3Gmwxo\n",
       "JjcyZfDlziqruSkT1yk3BdQFYJGggFPwmWxnKkLWe2cpL0hzAihobp+R6qyL4m3BRHnKNlBSDGoc\n",
       "7lSfAhuV/ySDRV0wq/xBnaO8f1hXWyBGy9oEBiRGs2kGUNyorIgwbg+xr9vU9UxflY5Us/nV5FpU\n",
       "o44PkicvsAGtbN01UqF0Fq+EJxAYadfgP5dUAQE8pnTB3ALdXKHkFANgiQwSI3tRhCWf2klDP2Ks\n",
       "RtQETzvFmt52y4GEDMb2W1b7s+rFhLPfTVAC1yfr7W9GxZj4ybYERnJQ0yaII5g0hs4M+6hHnO7+\n",
       "2kMq9hNPG0ykiG8vLGU1IyX3gAAAAABJRU5ErkJggg==\n",
       "\" style=\"display:inline;vertical-align:middle;\" /></a><br>"
      ],
      "text/plain": [
       "R__z_1_to_n: R(z_{1}, ..z_{_a}.., z_{n})"
      ]
     },
     "execution_count": 76,
     "metadata": {},
     "output_type": "execute_result"
    }
   ],
   "source": [
    "R__z_1_to_n = Function(R, z_1_to_n)"
   ]
  },
  {
   "cell_type": "code",
   "execution_count": 77,
   "metadata": {},
   "outputs": [
    {
     "data": {
      "text/html": [
       "<strong id=\"fi\">fi:</strong> <a class=\"ProveItLink\" href=\"../__pv_it/common/6f588c471ddf214a05661e01a2c0722fb7fcba8c0/common_expr.ipynb\"><img src=\"data:image/png;base64,iVBORw0KGgoAAAANSUhEUgAAACAAAAAUBAMAAAAevyJ8AAAAMFBMVEX///8yMjJERETMzMwQEBCY\n",
       "mJgiIiK6urqqqqp2dnZUVFTc3NyIiIhmZmbu7u4AAADOOTK3AAAAAXRSTlMAQObYZgAAAORJREFU\n",
       "GNNjYICCrSCCYwOY/fbsBgY+BQYGLgWG1WCBlf0NDIxAOa4AhocgPt/35wwMsRCNnAdAGj8AiWyI\n",
       "AJ8DSDSBgYE7AWq2OAMD65XcCww8FxgY3twBCswFYn6gPqYABoYJJUBOIBDvN2BgYGtg4G64COS0\n",
       "AXE/ELMUMPAx/AEy7IF4GkSAgeMfVECLAayFgWkBkFEGxD4MEEPfN0wAG8r3HeQWoLX13EDRmwwM\n",
       "7CCHsgMdxhUKZAgDJRUYkJyewNDFGABiITyXBPYxAxMkaICcmNsQtWCNDNoMDChByLqBAQDHuDDW\n",
       "H2EPaQAAAABJRU5ErkJggg==\n",
       "\" style=\"display:inline;vertical-align:middle;\" /></a><br>"
      ],
      "text/plain": [
       "fi: f(i)"
      ]
     },
     "execution_count": 77,
     "metadata": {},
     "output_type": "execute_result"
    }
   ],
   "source": [
    "fi = Function(f, i)"
   ]
  },
  {
   "cell_type": "code",
   "execution_count": 78,
   "metadata": {},
   "outputs": [
    {
     "data": {
      "text/html": [
       "<strong id=\"fj\">fj:</strong> <a class=\"ProveItLink\" href=\"../__pv_it/common/0e80921bd20706db00052a9fdaba8513f0ab45a40/common_expr.ipynb\"><img src=\"data:image/png;base64,iVBORw0KGgoAAAANSUhEUgAAACMAAAAUBAMAAAD1iJl/AAAAMFBMVEX///8yMjJERETMzMwQEBCY\n",
       "mJgiIiK6urqqqqp2dnZUVFTc3NyIiIhmZmbu7u4AAADOOTK3AAAAAXRSTlMAQObYZgAAAOtJREFU\n",
       "GNNdUD0PAUEUnPN5vvb8AcnVEokfIqJHIlqR+AfUFK5SKbS6a9REL7lCpyERGhIdlXize9vYZGfn\n",
       "zb43b98C8dqYY2aO5yGE8oW4TeRDLa3nEzik6RVUmYp634GuNVgS3JfAwEpXQq4HFHpWckZicBxG\n",
       "KEYSPfZMIPN2QKIlJEoJpum/rQOZiQShJ+jSYi47JQ4K4zOQZLNFLBmmpSpMIVCRnWVhA7G9+sDY\n",
       "q7dt7X4FSoFkvmx6ieBI/xz/QA+UYeoNmDq0kbGTZz6QY/cverREuA1qbCHunZOWlJ8/tPQV8PfR\n",
       "beAHQoM1rVabDaQAAAAASUVORK5CYII=\n",
       "\" style=\"display:inline;vertical-align:middle;\" /></a><br>"
      ],
      "text/plain": [
       "fj: f(j)"
      ]
     },
     "execution_count": 78,
     "metadata": {},
     "output_type": "execute_result"
    }
   ],
   "source": [
    "fj = Function(f, j)"
   ]
  },
  {
   "cell_type": "code",
   "execution_count": 79,
   "metadata": {},
   "outputs": [
    {
     "data": {
      "text/html": [
       "<strong id=\"fk\">fk:</strong> <a class=\"ProveItLink\" href=\"../__pv_it/common/b32e7e63f1c4b099c0c032db5dbb11b80bc3fcff0/common_expr.ipynb\"><img src=\"data:image/png;base64,iVBORw0KGgoAAAANSUhEUgAAACUAAAAUBAMAAAD4luk4AAAAMFBMVEX///8yMjJERETMzMwQEBCY\n",
       "mJgiIiK6urqqqqp2dnZUVFTc3NyIiIhmZmbu7u4AAADOOTK3AAAAAXRSTlMAQObYZgAAAP9JREFU\n",
       "GNNjYICCrVC6G0K9PbuBgU+BgU8lAcjh2gAWW9nfwMAIZDJeAHL4BEBCfN+fMzDEAhn8DSDuHBDB\n",
       "8QFIZANx/QMQ9wmI4AQaww0yahrYJMYCBgbWK7kXGHhARskytN4GKgEx+Q8wMDAFAM39wbP9K1AN\n",
       "yJL9BgwMbEDjOf6d4wNKcYCM6QdiFqAhvL5g85g/QI0GibGt0YGLaTFA9L4v2A+UYWAH6fVhgNgR\n",
       "z/C+YQLEDr7vDBAHLGLgNwCK8QIx+weoBg0GnjtAnzACncGpwAD1GwQ8Y2DoYgwAsWLhYsAwSHoI\n",
       "ZjFtgAqBwirmNoSpABWDSyKFfTQDAwCLUDqRohSOUQAAAABJRU5ErkJggg==\n",
       "\" style=\"display:inline;vertical-align:middle;\" /></a><br>"
      ],
      "text/plain": [
       "fk: f(k)"
      ]
     },
     "execution_count": 79,
     "metadata": {},
     "output_type": "execute_result"
    }
   ],
   "source": [
    "fk = Function(f, k)"
   ]
  },
  {
   "cell_type": "code",
   "execution_count": 80,
   "metadata": {},
   "outputs": [
    {
     "data": {
      "text/html": [
       "<strong id=\"f_jp1\">f_jp1:</strong> <a class=\"ProveItLink\" href=\"../__pv_it/common/e888d9c068722bfeb642a66972e33d632932ca780/common_expr.ipynb\"><img src=\"data:image/png;base64,iVBORw0KGgoAAAANSUhEUgAAAEYAAAAUBAMAAADCRlZLAAAAMFBMVEX///8yMjJERETMzMwQEBCY\n",
       "mJgiIiK6urqqqqp2dnZUVFTc3NyIiIhmZmbu7u4AAADOOTK3AAAAAXRSTlMAQObYZgAAASxJREFU\n",
       "KM9jYICCrQzYAccGMPX27AYGPgUQ3w+LotVgcmV/AwMjSDnrAjT5lgcMDA9BDL7vzxkYYlHMPwCm\n",
       "+FauB6rhBHE4PgCJbCxqGBjigWr4HIAMzgQGBu4EnGoYxIGOuJJ7gYHnApDz5hBWNXOBmB8owhQA\n",
       "ZFxgCcCmJhCI9xswMLA1AA3cwN+ATU0bEPcDMUsB0HEM9SAhTkFBMUdBwQVwNfZAPA2qBsLCNAek\n",
       "RosBYhcDgyxWNWVA7MMAdTPfDwYcbub7DnIEyO8c/9DVnAepucnAwA4KZnZQGPImoKm55S8LNF8Y\n",
       "aAQoxsFxwXYB3RxwrCUwdDGCAy6WgfkBKKAgwg+Q1ADjNAkc9wxMG/ZP0MWayIDyMbchWhW4zgZg\n",
       "VaONYOJKq6wbGABSUVLtWgHszQAAAABJRU5ErkJggg==\n",
       "\" style=\"display:inline;vertical-align:middle;\" /></a><br>"
      ],
      "text/plain": [
       "f_jp1: f(j + 1)"
      ]
     },
     "execution_count": 80,
     "metadata": {},
     "output_type": "execute_result"
    }
   ],
   "source": [
    "f_jp1 = Function(f, Add(j, one))"
   ]
  },
  {
   "cell_type": "code",
   "execution_count": 81,
   "metadata": {},
   "outputs": [
    {
     "data": {
      "text/html": [
       "<strong id=\"f_1_to_n\">f_1_to_n:</strong> <a class=\"ProveItLink\" href=\"../__pv_it/common/ca4a0f3bc23204a47af5cae884b574a8665458560/common_expr.ipynb\"><img src=\"data:image/png;base64,iVBORw0KGgoAAAANSUhEUgAAAFUAAAASBAMAAADYho+9AAAAMFBMVEX///8yMjJERETMzMwQEBCY\n",
       "mJgiIiK6urqqqqp2dnZUVFTc3NyIiIhmZmbu7u4AAADOOTK3AAAAAXRSTlMAQObYZgAAAOdJREFU\n",
       "KM9jYGBgeHt2AwNegKRgZX8DfrUIBXzfn+NXiqSA4wN+pcgKOBMIqEUoYL2SewGvUmQF/AcYGIzw\n",
       "KQYpgIL9Bgy21/CpBSqAgX4gLsOnth/BnEZI7TQEU4uQWqCC2OAzYP/5EFILVBDuyuANjhWo2vcC\n",
       "QM5HZAaYACngfpPA8A/IZP8AVcuWBySyQIwFUAZD2gOoAq4D7A6gWFGAuaEPM3YfQBWwGPBOMGDo\n",
       "YgwA8ttAMhMwYxeIwQr2M7BVGDAkPQTy9+avAbrrAIbaN0AMVlDFwDOVgSHmNjzeMUMAZCVCAQCE\n",
       "KUH9WBz9ewAAAABJRU5ErkJggg==\n",
       "\" style=\"display:inline;vertical-align:middle;\" /></a><br>"
      ],
      "text/plain": [
       "f_1_to_n: f_{1}, ..f_{_a}.., f_{n}"
      ]
     },
     "execution_count": 81,
     "metadata": {},
     "output_type": "execute_result"
    }
   ],
   "source": [
    "f_1_to_n = var_range(f, one, n)"
   ]
  },
  {
   "cell_type": "code",
   "execution_count": 82,
   "metadata": {},
   "outputs": [
    {
     "data": {
      "text/html": [
       "<strong id=\"f_m_to_n\">f_m_to_n:</strong> <a class=\"ProveItLink\" href=\"../__pv_it/common/e4c8a3ff3b4b35b88a70da5115bf4bc88b33e94e0/common_expr.ipynb\"><img src=\"data:image/png;base64,iVBORw0KGgoAAAANSUhEUgAAAFsAAAASBAMAAADGT78OAAAAMFBMVEX///8yMjJERETMzMwQEBCY\n",
       "mJgiIiK6urqqqqp2dnZUVFTc3NyIiIhmZmbu7u4AAADOOTK3AAAAAXRSTlMAQObYZgAAAPdJREFU\n",
       "KM+N0j0PwWAQB/C/oF7q7SN0NvUjWCwYJAYLiRhEJMxiMhvowiwx2XwDZiExWMRSk4VgsokrpZc0\n",
       "cZpcc9f8nme4fwHgvJ5BepiZDroid0zsfhQ1M8GrqLkJVWTuGP+2uZE0N/GFfDszc13mzAxkzc3o\n",
       "D85MEigXVpvV5Ae3jdXmgGIaGXP5g79N9hUY1FMFd+yAS4LmG96NM33Mg9oABRZeeFOoA0qLPjSo\n",
       "lPHnVTO/JpCyAtMAnx7R1Cstq++O3/yaqKGj58nTWumsXzMAwx0/lW2Uto7qgeYOPDN1aiLmDvhE\n",
       "ZZvIECjt+b/h3gndy8wTmftMyzp8ng4AAAAASUVORK5CYII=\n",
       "\" style=\"display:inline;vertical-align:middle;\" /></a><br>"
      ],
      "text/plain": [
       "f_m_to_n: f_{m}, ..f_{_a}.., f_{n}"
      ]
     },
     "execution_count": 82,
     "metadata": {},
     "output_type": "execute_result"
    }
   ],
   "source": [
    "f_m_to_n = var_range(f, m, n)"
   ]
  },
  {
   "cell_type": "code",
   "execution_count": 83,
   "metadata": {},
   "outputs": [
    {
     "data": {
      "text/html": [
       "<strong id=\"f_1_to_i\">f_1_to_i:</strong> <a class=\"ProveItLink\" href=\"../__pv_it/common/13713e51a6f187bc134cca754282f0c374c6894f0/common_expr.ipynb\"><img src=\"data:image/png;base64,iVBORw0KGgoAAAANSUhEUgAAAHYAAAAUBAMAAACqtdRzAAAAMFBMVEX///8yMjJERETMzMwQEBCY\n",
       "mJgiIiK6urqqqqp2dnZUVFTc3NyIiIhmZmbu7u4AAADOOTK3AAAAAXRSTlMAQObYZgAAAbdJREFU\n",
       "OMuNlDFLw0AUx/8tTU1SiQURBxGyuCiI36BOugjWwc1icRBRlA7iaDOIg4MtDuIidC0OdtHVfoFi\n",
       "BZfaCtXFpVLFoQ4ivne5pC0hsYG83OX+v7t37947QD6xpPioJfz73PQI3yv0fZUDV0GU0aiTMQHd\n",
       "lMJizgImqHHUBF6CWP3iGwjRSnrSFhqdN0CpwiheE6uVA9j2YQZI2W0hVD/IRNn9dWKN+QA2x2ZH\n",
       "+s9CLU3mFpLFeAB7zkFNyw4JlcfdKlBx2Ut/NLXwDAyTutWQwhF2fMplVwLW/aE3TIeZ35fCuzky\n",
       "Wy577I/GvjgyFmLWgxSKACy6bMKfFVGNZGAIBxIyAIOxIqrEQv2Vwmn0+Xzgz4YLts92g4VLGDRW\n",
       "kbKMVdvKC6HRgXMy98zWYHxyCsWl6fbQzrDjdEZZrpwaMMQBEA48LU/Sr1Fgk+aICv/YbHNjj0VZ\n",
       "NkO0aX0VQqiZcHJSpBoNqU2Pu6dsztCbk2mchEThUi10U1zzbpX2pxbG7OxyhRuy6GakiLstb+HS\n",
       "jNHZuB3tkiNcq9ujTu3zHEkPq/BbsSHD7Fuse+cog945JPwDVh51PUT/p+IAAAAASUVORK5CYII=\n",
       "\" style=\"display:inline;vertical-align:middle;\" /></a><br>"
      ],
      "text/plain": [
       "f_1_to_i: f(1), ..f(a).., f(i)"
      ]
     },
     "execution_count": 83,
     "metadata": {},
     "output_type": "execute_result"
    }
   ],
   "source": [
    "f_1_to_i = ExprRange(a, fa, one, i)"
   ]
  },
  {
   "cell_type": "code",
   "execution_count": 84,
   "metadata": {},
   "outputs": [
    {
     "data": {
      "text/html": [
       "<strong id=\"f_1_to_j\">f_1_to_j:</strong> <a class=\"ProveItLink\" href=\"../__pv_it/common/afc24fe001097695eff7e2762284af034ae9c3ad0/common_expr.ipynb\"><img src=\"data:image/png;base64,iVBORw0KGgoAAAANSUhEUgAAAHgAAAAUBAMAAAC0fOTAAAAAMFBMVEX///8yMjJERETMzMwQEBCY\n",
       "mJgiIiK6urqqqqp2dnZUVFTc3NyIiIhmZmbu7u4AAADOOTK3AAAAAXRSTlMAQObYZgAAAdJJREFU\n",
       "OMuNVD1LA0EUnMRccvk6BRELGxsbBckvUBu1EYmtMXBYiSGSylJTiIWCEQsRUUhhI1pco635AQZS\n",
       "GEGikARRECQJFlEQ8b29XRVCzhzM2923N7tzs/cWkM+F3Wzj3ycYFY1uieY1b8EYtGcClhPPuC8B\n",
       "Ve5tlHEmUqeZNFxE0mdpuseJHDh4Bwa4Nw9UxHLNZyAOvBx+0ejIiVxbS0EryIE/x+LrFBIEjcmP\n",
       "TuQMwas+zJjgFUwywVRkV8qBvE+4/Bn1E+UmWUCooMj+QntufOoByPOm1+zvMaGbtLujiqw5OfZJ\n",
       "GCKEMUlxjnAVoQ9JK7JuOpzwG4UlQgzkOjalC56UInfV25OFtdOEso9fHZcudEZmawXZ7jF5GH9l\n",
       "+xxku7NSNlxs6yphBp0a5slJw1BL24YZTXVAISaHd1FjPgejARlECrWUPCBkyhTuSGddig2fNIok\n",
       "KALvCn8IS1yGDCKFdUixuOXQS5uKekooaU+EnVbFIrUH9XsmWZKJLZcoz7h6iwtjt5VMKT3bxz0q\n",
       "jDFx4FQYixXbSPm7c0kaudZCppR31PZyJPjhZouIuFCyZ+VlwItorRtzSsvbG1RxXhSL/E7LayjW\n",
       "8TWkWfgGr3F3Uy42FVoAAAAASUVORK5CYII=\n",
       "\" style=\"display:inline;vertical-align:middle;\" /></a><br>"
      ],
      "text/plain": [
       "f_1_to_j: f(1), ..f(a).., f(j)"
      ]
     },
     "execution_count": 84,
     "metadata": {},
     "output_type": "execute_result"
    }
   ],
   "source": [
    "f_1_to_j = ExprRange(a, fa, one, j)"
   ]
  },
  {
   "cell_type": "code",
   "execution_count": 85,
   "metadata": {},
   "outputs": [
    {
     "data": {
      "text/html": [
       "<strong id=\"f_i_to_i\">f_i_to_i:</strong> <a class=\"ProveItLink\" href=\"../__pv_it/common/851250390b67443d27a7e5c1f84d949ffcb355f00/common_expr.ipynb\"><img src=\"data:image/png;base64,iVBORw0KGgoAAAANSUhEUgAAAHIAAAAUBAMAAACjXnQJAAAAMFBMVEX///8yMjJERETMzMwQEBCY\n",
       "mJgiIiK6urqqqqp2dnZUVFTc3NyIiIhmZmbu7u4AAADOOTK3AAAAAXRSTlMAQObYZgAAAUZJREFU\n",
       "OMuNlK1OA0EUhU83lO4PGUgQtavB8AbwAIhF4CBpEAgISQXBsgqBaRWOpJZgatDwAiQlwRAQRWFK\n",
       "CqqGEM7trNjshVs2mdn7852d2Zk7AxTPjXRhHzOfMvh+34dLgTjFtSlS4FUnR40fiTO8msoq6CZv\n",
       "wK7PRXeGUIHhB7vDIrlhKBUYtYCkVWSbhrIK1h+PBlgYAKMXBi7/FmpwkVMOMqB7TGfLGFOBt2vA\n",
       "fI4kf6BzZigV2GGba8Phi8a6oVTghQ8g/J6hVOAKppNA0KNxYigVuAn/4+O8a69QFXQT2Sou9mnC\n",
       "6BPcp2y0dOMllDwFoiGV0eAGx9s0loH9Id8HMrNeYfiQAqMUpaJiIhzqupNQFTyvZWKVCjn6pe7Y\n",
       "FLjnD1bgj6o4I62UkAJ3nv3o06lglS3TSglpsHxJ1P97mxD8ARWPbwbzNviQAAAAAElFTkSuQmCC\n",
       "\" style=\"display:inline;vertical-align:middle;\" /></a><br>"
      ],
      "text/plain": [
       "f_i_to_i: f(i), ..f(a).., f(i)"
      ]
     },
     "execution_count": 85,
     "metadata": {},
     "output_type": "execute_result"
    }
   ],
   "source": [
    "f_i_to_i = ExprRange(a, fa, i, i)"
   ]
  },
  {
   "cell_type": "code",
   "execution_count": 86,
   "metadata": {},
   "outputs": [
    {
     "data": {
      "text/html": [
       "<strong id=\"f_i_to_j\">f_i_to_j:</strong> <a class=\"ProveItLink\" href=\"../__pv_it/common/3d9a87ffd4be36627be73e54e63e856525119e8f0/common_expr.ipynb\"><img src=\"data:image/png;base64,iVBORw0KGgoAAAANSUhEUgAAAHUAAAAUBAMAAABBgm9wAAAAMFBMVEX///8yMjJERETMzMwQEBCY\n",
       "mJgiIiK6urqqqqp2dnZUVFTc3NyIiIhmZmbu7u4AAADOOTK3AAAAAXRSTlMAQObYZgAAAc1JREFU\n",
       "OMuNVDFLw0AU/tI2bZpqWhBxEjoriv9AJyeRODhpoTg4KEoHcbSdHBRscRAHhazikqVzi3uhgou0\n",
       "QgXRpdKKQzuI+N7dxRRKo4F7effu++69+3IvgHrKbAwXfz5l+TqVr/eaCysNmGncBrGsZgMCCGMV\n",
       "pkxzUyxAI9e08RzENS/7EEDoDqyU2K73BmTkcrwawO0c5X6BwJU4ZJfMriprKYBbhA8EXkSuLJDI\n",
       "qshUAPcCA0BoVIT+sFfHWB1oNylyPZqaWX6CAKJ9xynZS9IZQzZQOqDJWkDeL0gg6hGyOotVWQCi\n",
       "BSQK9zQ5Hk1NfEIAobtJskZWSRDJwRL7Lo7mCk0JSMh8Cwh3lQQcMr6DuaypAEqK4M6oUkIOOYej\n",
       "uWKdgcA0jRhvtaIk6BRKgVpFqp5WVh9SK6unBM8nKP4I64NX2XRSAw7ZnPdlxOnGKVOsqwow18mZ\n",
       "ALZJCOxwfY7n7DM3D6/ScTYafZ54euCqWRQ1WkPlnrE5hweMcvJX4ESzxaXxeyE+fFQqz3Am5e1C\n",
       "uMU3gnthS7ZdSLYjT9rDjUs7RudTClgpzXGMppsNuSwqxywNe4ir86i5CmjWbD+Z/yvR///P2QB+\n",
       "AIOvcgxMNAL/AAAAAElFTkSuQmCC\n",
       "\" style=\"display:inline;vertical-align:middle;\" /></a><br>"
      ],
      "text/plain": [
       "f_i_to_j: f(i), ..f(a).., f(j)"
      ]
     },
     "execution_count": 86,
     "metadata": {},
     "output_type": "execute_result"
    }
   ],
   "source": [
    "f_i_to_j = ExprRange(a, fa, i, j)"
   ]
  },
  {
   "cell_type": "code",
   "execution_count": 87,
   "metadata": {},
   "outputs": [
    {
     "data": {
      "text/html": [
       "<strong id=\"f_i_to_jp1\">f_i_to_jp1:</strong> <a class=\"ProveItLink\" href=\"../__pv_it/common/fcc5d0855723f6f6f4f54a98db9d6ea4fd2f74a10/common_expr.ipynb\"><img src=\"data:image/png;base64,iVBORw0KGgoAAAANSUhEUgAAAJgAAAAUBAMAAACDnumxAAAAMFBMVEX///8yMjJERETMzMwQEBCY\n",
       "mJgiIiK6urqqqqp2dnZUVFTc3NyIiIhmZmbu7u4AAADOOTK3AAAAAXRSTlMAQObYZgAAAdVJREFU\n",
       "OMullDtLA0EUhU9iHptENwYLQQikNgj+A/0BomthpxhELBTFQmzdQixETGzshLTBwjSpE+zFCDY+\n",
       "irWyiUarWIh4787susluJoUDM8zjO4d53LmALDVutCoGllqfeal9u6lCzwHJHC6VPg4IbT5gVWgr\n",
       "RRMh8k0aeFGaOSCi5Z6VQwtCq3degRUxmWgovLygKCdyoXJlSa32Qc2WnJ5VmHnBLjNg1ZLaRAFI\n",
       "FeTsuMKsC/SbsTZ6v93EcBNoPdPERX8vF0TrOtCMtWk6a9gASns0WFTszAHRjBhBZqytTwMxEynz\n",
       "jgZHCjMJIlpNm0FmrC1SjexCxzd1ZhRmEiTygLVnmcx6JjPxZ8bac8loPwPMHFD0/Dtj7STE7sMc\n",
       "ifsKMwcEsoFmrJ2DuNe2WVI/gANC/0KfB9A7HEL04gcpAh+gfzLOTXvU0/GA4kK6zG7Z7AGIc1zH\n",
       "KRaTS9QZAzZ4YZOPVHY6OyxwQYwUesweF7KGrU1wGnC/E2Ga5Tvgqf0BXDDW7N2Z1B6H7AD0fPSE\n",
       "/7boMv/AIYsDzi7vXb+tgTWRdcIitfGg5U8XnA9csF6aCnwfWl9+Erx9BuSpGv5fyY0LJm+MQLN8\n",
       "TzaO/iNtk/YXe+2NTiwaWjEAAAAASUVORK5CYII=\n",
       "\" style=\"display:inline;vertical-align:middle;\" /></a><br>"
      ],
      "text/plain": [
       "f_i_to_jp1: f(i), ..f(a).., f(j + 1)"
      ]
     },
     "execution_count": 87,
     "metadata": {},
     "output_type": "execute_result"
    }
   ],
   "source": [
    "f_i_to_jp1 = ExprRange(a, fa, i, Add(j, one))"
   ]
  },
  {
   "cell_type": "code",
   "execution_count": 88,
   "metadata": {},
   "outputs": [
    {
     "data": {
      "text/html": [
       "<strong id=\"f_i_to_jm1\">f_i_to_jm1:</strong> <a class=\"ProveItLink\" href=\"../__pv_it/common/7c50b76e81c335456be264d96dfa8bcc34a3e2410/common_expr.ipynb\"><img src=\"data:image/png;base64,iVBORw0KGgoAAAANSUhEUgAAAJgAAAAUBAMAAACDnumxAAAAMFBMVEX///8yMjJERETMzMwQEBCY\n",
       "mJgiIiK6urqqqqp2dnZUVFTc3NyIiIhmZmbu7u4AAADOOTK3AAAAAXRSTlMAQObYZgAAAclJREFU\n",
       "OMullDtPAkEUhQ/IYwFdNBZWJNQSE/+B/gCja2GnkVhYaDQWxpYtjIWFUNmZ0BILaawh9kRMbFCL\n",
       "pbLBoBUWxngvM7ss7DAUTrKTeXzn7DzuHUCWe66MKiaW+zHjUvvRqMLMAsksbrU+LghjXTErtJWi\n",
       "jRD5Ji20tWYuiGh5ZObcgdCavXdgRwwm6hovPzg8UblzpNb4pOpQDq9qzPzgSNl1pDaRB1J5Obqg\n",
       "MRsCg2asjT4fNTHdBDpvNHAz3ssD0XlQmrE2TXsNW0DplDqbmpW5IJoRS2XG2toyELORsp+oc6Ex\n",
       "kyCi1bStMmNtkb7ICUz8UGNFYyZBIgusbc9xmR+YsfZaMsbvBDMXFK3gyli7CLH6MEfimcbMBYGM\n",
       "0oy1axDn2rVL+gtwQZjfGHMBZo9DiG68kCKwBfOLca66s76GDxQHMlQe2awFxDmu4xSLyS1q0Hnu\n",
       "88QBb6nsNo5Z4IGYGY3cl42M1dcm+Bnw0okwwwls8KqfAB4YaypTN4/LUD8AfYmeCHJ0mANwyuGA\n",
       "U2RbHXvi1QmLp407neA/+T3wwFppSXk/NL/9Kvj+HpCjzwpmJVcemGxYSrPcyGsc/cezTdo/WMmF\n",
       "xtg/R44AAAAASUVORK5CYII=\n",
       "\" style=\"display:inline;vertical-align:middle;\" /></a><br>"
      ],
      "text/plain": [
       "f_i_to_jm1: f(i), ..f(a).., f(j - 1)"
      ]
     },
     "execution_count": 88,
     "metadata": {},
     "output_type": "execute_result"
    }
   ],
   "source": [
    "f_i_to_jm1 = ExprRange(a, fa, i, subtract(j, one))"
   ]
  },
  {
   "cell_type": "code",
   "execution_count": 89,
   "metadata": {},
   "outputs": [
    {
     "data": {
      "text/html": [
       "<strong id=\"f_i_to_k\">f_i_to_k:</strong> <a class=\"ProveItLink\" href=\"../__pv_it/common/bf92588fc79b8b9686fc761a06a57f46d2a289e00/common_expr.ipynb\"><img src=\"data:image/png;base64,iVBORw0KGgoAAAANSUhEUgAAAHcAAAAUBAMAAABFd79NAAAAMFBMVEX///8yMjJERETMzMwQEBCY\n",
       "mJgiIiK6urqqqqp2dnZUVFTc3NyIiIhmZmbu7u4AAADOOTK3AAAAAXRSTlMAQObYZgAAAbZJREFU\n",
       "OMuVlLFKA0EQhv+LJrlckk3AwkpIYSFqkTfQB1CIhZWKwcJCUVKIba7RQsGkslIIdqJFmmAZX0CJ\n",
       "YCNJEUG0iSQWEgsJztzuHReDG1zYvZnd79+dWXYOUK3Cg1nG0FZR32P5eb8rQ6QAK4UrrU6BYjJL\n",
       "jiUPuizYMMi0MnjWil3QqJEjkjwlum/AmlyO3Gq0Hpiw2T1zEu3QsK3W5zViD8w32X1xTqMMolkF\n",
       "jGvEHnjquEYOCD7u1BCjLFoNmjn/W+uBmMBBnfZiM0F5BjJAcY+cJc3JLii+YjeftBnfWDUNhGxE\n",
       "7QdyDjViBcLs3Qvaw+QMCtRHcxD4JmNOI1Yg4ouOO9JR6fOc2RsidsHQ9awnnoaMJlAiY18jdsF2\n",
       "rkpbIMxhL0DeQ9su6i/MBdclyhcmupDXno/SwhPEBz8WHtpJn+EDL5BIkzhOPdxRIVjLZIwBm/x+\n",
       "tjjEkmvsstgDpxBrEGPQ5UdS8D1PWjObAwGfOA/MD1J7BY6MDFu+wogMZksB/gJlYWzIKgzI6mSn\n",
       "NVhOXGv9oCzJ1bo0nZgwQz0z+Kp56Ad9u7h/l+A/fkMrwA/pnnezn0G9YAAAAABJRU5ErkJggg==\n",
       "\" style=\"display:inline;vertical-align:middle;\" /></a><br>"
      ],
      "text/plain": [
       "f_i_to_k: f(i), ..f(a).., f(k)"
      ]
     },
     "execution_count": 89,
     "metadata": {},
     "output_type": "execute_result"
    }
   ],
   "source": [
    "f_i_to_k = ExprRange(a, fa, i, k)"
   ]
  },
  {
   "cell_type": "code",
   "execution_count": 90,
   "metadata": {},
   "outputs": [
    {
     "data": {
      "text/html": [
       "<strong id=\"f_i_to_l\">f_i_to_l:</strong> <a class=\"ProveItLink\" href=\"../__pv_it/common/115957536ead8f6ae2d88ffb8837a31872dc7c320/common_expr.ipynb\"><img src=\"data:image/png;base64,iVBORw0KGgoAAAANSUhEUgAAAHIAAAAUBAMAAACjXnQJAAAAMFBMVEX///8yMjJERETMzMwQEBCY\n",
       "mJgiIiK6urqqqqp2dnZUVFTc3NyIiIhmZmbu7u4AAADOOTK3AAAAAXRSTlMAQObYZgAAAbZJREFU\n",
       "OMuNVD1LA0EQnYu5JJePVbCwsEljE5v8g9jZWGitwWAhYvCjsrayUDCpUimIkEJs0ih2prANBLER\n",
       "mySINooRkVj63u0aA+FWD2Zudve92bezcydinsQ8/YH8+VzQxWp+/NrAu4PgVOI1G4lAlZbkVlbO\n",
       "/Ymz0q7IJIKqqDEbk0AHuZdF2hyr3rOI29SLRxaiD8wjuBXx6tTchYsYmY8Wpg8swuaQZQZvrwB3\n",
       "aVad7WAmgQnaBwYT0Hm3AaUNpGlAgdcMJPrAJNZd7n0MG6XkKZCiUOBaSkRgCJcXT2OwALvOwq2J\n",
       "XKXAihWCmQRGcA1hbrUHK3F2VqTFnCPdYCaBYdQhx2rmYBXDlFLLzqwY5o0YZka0Wj+IWtRynWoz\n",
       "CsGOvh2/QurLs1eIQFbo09MVUj3RRY520cypsryBrN4xx+B3pIG8td4LgnsSxGxeRT4nK5FNxOtU\n",
       "dvLjVltigDxNvoxgHFl4O/3ue4IdDvcdmRpYND1ckH3H/zAHO7483HcwA8ybmbqstHU4rVPxVPUh\n",
       "Jg9mgCEtDoOlB73Y6c+7w1Xlbgao0gMbDfxNFv/5N3Fr8g1XR299pSANoAAAAABJRU5ErkJggg==\n",
       "\" style=\"display:inline;vertical-align:middle;\" /></a><br>"
      ],
      "text/plain": [
       "f_i_to_l: f(i), ..f(a).., f(l)"
      ]
     },
     "execution_count": 90,
     "metadata": {},
     "output_type": "execute_result"
    }
   ],
   "source": [
    "f_i_to_l = ExprRange(a, fa, i, l)"
   ]
  },
  {
   "cell_type": "code",
   "execution_count": 91,
   "metadata": {},
   "outputs": [
    {
     "data": {
      "text/html": [
       "<strong id=\"f_j_to_k\">f_j_to_k:</strong> <a class=\"ProveItLink\" href=\"../__pv_it/common/b73e4957e52c621666ac06a96ae76550f09a2c440/common_expr.ipynb\"><img src=\"data:image/png;base64,iVBORw0KGgoAAAANSUhEUgAAAHkAAAAUBAMAAABbvo/+AAAAMFBMVEX///8yMjJERETMzMwQEBCY\n",
       "mJgiIiK6urqqqqp2dnZUVFTc3NyIiIhmZmbu7u4AAADOOTK3AAAAAXRSTlMAQObYZgAAAaBJREFU\n",
       "OMuNlLFKA0EQhueS3OUSk40vIKSwEFHIg6ikVzFYWChK3sA0NgrmqlQWwU6wuEYsE+wjV9jFIoJo\n",
       "E0ksJKmCM7s7m8Bxqws39+/u98Ps3OwB6PGgXlfw59Ako1+9EEQZhb8D+dBm1KRYreFEo3fNBjgk\n",
       "3TaIZZubSSfCiULF5BNgn4Ebi9mQpYZB/TGGEybeLW5Dng8MmsNDLNWYcOrJbkO2DOq+nEZQoIMM\n",
       "n4iIEs1zcgUu+hotdQFSVRRRBqNrKRuTYlp4/NFopwLgYRnckIrh15LdTPqzZ1HVaBOfDB5ByGKk\n",
       "x8luJovbcirRll5TyuZm0rvfMO51UPlQMQCylsyZHNU7dUa3QFdNTMFeNSYPYNQIFCom/J38GYZi\n",
       "ACNa/UZthAxz8hZKlUCikB1zEkUKTgW8M3wfU5ZtLeCImsuQa1B4HUgUcnS7ZP95lMAHPtfxHiX3\n",
       "nFQD0UuHjoy9nx7Q55StH8R7FBbIhQt1+CZVKuwEm/raiW7MPYQFkm8cont9Jcv5XlXvufFq05Yh\n",
       "9VoqjP1vdv//Z0L0Fzb9fIoyqMfNAAAAAElFTkSuQmCC\n",
       "\" style=\"display:inline;vertical-align:middle;\" /></a><br>"
      ],
      "text/plain": [
       "f_j_to_k: f(j), ..f(a).., f(k)"
      ]
     },
     "execution_count": 91,
     "metadata": {},
     "output_type": "execute_result"
    }
   ],
   "source": [
    "f_j_to_k = ExprRange(a, fa, j, k)"
   ]
  },
  {
   "cell_type": "code",
   "execution_count": 92,
   "metadata": {},
   "outputs": [
    {
     "data": {
      "text/html": [
       "<strong id=\"f_k_to_l\">f_k_to_l:</strong> <a class=\"ProveItLink\" href=\"../__pv_it/common/aadb49554617766469d323f6dc4da4ccffb4bab90/common_expr.ipynb\"><img src=\"data:image/png;base64,iVBORw0KGgoAAAANSUhEUgAAAHYAAAAUBAMAAACqtdRzAAAAMFBMVEX///8yMjJERETMzMwQEBCY\n",
       "mJgiIiK6urqqqqp2dnZUVFTc3NyIiIhmZmbu7u4AAADOOTK3AAAAAXRSTlMAQObYZgAAAdpJREFU\n",
       "OMuNVDEvg0EYfr7q92lprxKDQSQdSARD/wGbhaRmpI1BhBCTkS4MJNrJRNJ0E4YuGHWykQ4WqQER\n",
       "FtKKCIlEPO/dkUjTry553+/eu+e5e+69ez/AtiP73ULT1p6kCxV1//m8CBWH6k0zaCv60QSKO+Ds\n",
       "FQd6YD+bgcMxp8xAdfhxBYpuwK3hVmL1/ghMsxPLSLjrQ9VQl1tE4wiXRHmNboG2diPz9z5cDfUo\n",
       "MViCGmE/zGO2y1F39Lyz3JgrUBzTThNAFyVcLpYRkaP2YL3C+XJDqobinL0UbU+OSeEBpl19RE7e\n",
       "CPBJlkDRRyvQJuz+HtMU+rpQXCKUbswVKOZoY7QNWpYW5CGj43q+pdaYK1CMEvPJ77BNkXC9w6Fm\n",
       "3B3LjYxY7gCM5uryqaS41UezQEVzIM/rXLHaJVcpVDM5/1wJVHIVS+Z0rtQ7zMUUEEtwKJpDlXT1\n",
       "Aut+IwOVu4mtMuFX1FizQvsRuaYUJwFviUPzsM7L083Km9NQ0eqSh05uGYd9k6Y90LbrX6NwDdQz\n",
       "labS2HSkGnUtmCa1kKt/jTQLdc3DYy3M6FpC4KdspQZVqY77RLNQDGrPYKpiKHELkkXc+gzLjhYq\n",
       "tf+7wp9/zuQ//zluEd9wgnkakuy3NQAAAABJRU5ErkJggg==\n",
       "\" style=\"display:inline;vertical-align:middle;\" /></a><br>"
      ],
      "text/plain": [
       "f_k_to_l: f(k), ..f(a).., f(l)"
      ]
     },
     "execution_count": 92,
     "metadata": {},
     "output_type": "execute_result"
    }
   ],
   "source": [
    "f_k_to_l = ExprRange(a, fa, k, l)"
   ]
  },
  {
   "cell_type": "code",
   "execution_count": 93,
   "metadata": {},
   "outputs": [
    {
     "data": {
      "text/html": [
       "<strong id=\"f_ip1_to_j\">f_ip1_to_j:</strong> <a class=\"ProveItLink\" href=\"../__pv_it/common/c94a8c9e27f332b8a9b134039443f964d2d488320/common_expr.ipynb\"><img src=\"data:image/png;base64,iVBORw0KGgoAAAANSUhEUgAAAJkAAAAUBAMAAABsXIKPAAAAMFBMVEX///8yMjJERETMzMwQEBCY\n",
       "mJgiIiK6urqqqqp2dnZUVFTc3NyIiIhmZmbu7u4AAADOOTK3AAAAAXRSTlMAQObYZgAAAg1JREFU\n",
       "OMuVlM1rE0EYxp9Nsul+mE2CiCAUclYs/Q/05ElqPHjSYBDxYLHkUDyaPUgPrZjoQTxUyLV4cC+e\n",
       "W7wHI3jRRIhQ6iU2kR6agxTfd2ZC1t2drQ7Mu7O78/zm/ZgZQLX3SGxWgFObkm7Jx89uAK8COJWE\n",
       "qW/TON6gDyGFtQJHLrzT8mHQ0KlGJj8dAt/TaM7rKYQUZgdeSSxw/AOoheY8UwvvvCOavZdCGz9p\n",
       "hKTbIjUTMqtxGnCXaN7VFFoLYek+G7sOuHUdDedTaK8QlhrkqPn5UQ9nesBokEh7o4fVrn2DkGL0\n",
       "gd3iUZEyk6ECtNcTaTdTfPsNKUUvR9bkMuwuA3kfrv8pkbahh7lHEFKYQZGsVVepzDXgiZXwoly+\n",
       "Xy5fmNOu6GmifiQlbZOmZicqlfzJOkn0LYXG9RNSCRG0i8rdTCeR9lhPEwqWAovUFxh+XaVy7Lf/\n",
       "swq5vVkVvClkFbxjVdymW43QPjLtC7xfvO1LyszfMG7M9oXIUoG8WZgoJ51bkUi/3lgk/lngAVHz\n",
       "Iio2D3mwxhOamMVXYGPQ5rAr0J0scVppnjWMBfmczUvMpHl28ADYNER84VN/+FfdKDd2PGUUlNU5\n",
       "J08EskPes3zq78krJ6O7Ffn3KH6x0Rr5pZKS7rYv8zd6vdOXvysa2iXq1dhXk3s3UFKnW404pLnJ\n",
       "zX+/yW8DfwDPhI0/SViS+QAAAABJRU5ErkJggg==\n",
       "\" style=\"display:inline;vertical-align:middle;\" /></a><br>"
      ],
      "text/plain": [
       "f_ip1_to_j: f(i + 1), ..f(a).., f(j)"
      ]
     },
     "execution_count": 93,
     "metadata": {},
     "output_type": "execute_result"
    }
   ],
   "source": [
    "f_ip1_to_j = ExprRange(a, fa, Add(i, one), j)"
   ]
  },
  {
   "cell_type": "code",
   "execution_count": 94,
   "metadata": {},
   "outputs": [
    {
     "data": {
      "text/html": [
       "<strong id=\"f_jp1_to_k\">f_jp1_to_k:</strong> <a class=\"ProveItLink\" href=\"../__pv_it/common/5a85871a52b2b265e9c4d84d24945ee028d864760/common_expr.ipynb\"><img src=\"data:image/png;base64,iVBORw0KGgoAAAANSUhEUgAAAJ0AAAAUBAMAAABltyL1AAAAMFBMVEX///8yMjJERETMzMwQEBCY\n",
       "mJgiIiK6urqqqqp2dnZUVFTc3NyIiIhmZmbu7u4AAADOOTK3AAAAAXRSTlMAQObYZgAAAftJREFU\n",
       "OMuVlL8vBEEUx797x9njbs5FIZFIFArxI/Ef8Af4cWrERURBJCqtK1AgQaMiEZ2Q2EaUJ/rjCo0f\n",
       "xUmEBncKoRLv7ezsnb0xYpKdnfd2vp95783OAF47gb7ZDv5sSrsmXy85B6KNtUOayYdGlKcV7Wky\n",
       "6uXaBxsZWDys3QvMXioA90ae0lp5MkQju8THEzBeOWldvsTBMfGiZwacr01k2NxxK1SiblbDAyaI\n",
       "J/oNPF+7WGDzgbsopd6Q/pWHZgPP1267pjVPRbuayyPG6T+fa3m7v+PK2lYs3xKehwkqUChFg3xN\n",
       "SscbMcSntOIzdvpOfN6QbC8QoXLWOrKoQd6Kgae09teFIKzNqW/QU0OJC1nUrWRyKplsKfP6DDyl\n",
       "jQ+6ZrjklZJ9qqjB+Ew8pY0cdfu8TsiYuag63oKBp7TF+SxHVMf5DsDbD/GJ/+6H0k6gmNmU+yE+\n",
       "4G20/RXkXTLvGuKNV+Ou2IgKq6zdR6KXeHF66koq0Hg6wLsZbqW1m4Bp5s5wbnveQLp8bQdid+Sw\n",
       "aLujfLO4ZyaSD8bnxkDT7UL1SWNXWSvbI7BquT/xOMIF/pnc9vrjSNEvG9WcNFRoVaP7YFLeRyEn\n",
       "u9mjLTl/f652s8vXqlSoumO3cthWn0tpeV30aL6wy9d6vpBTfWdXHfl/3PejwDf9IpgXXVCdHAAA\n",
       "AABJRU5ErkJggg==\n",
       "\" style=\"display:inline;vertical-align:middle;\" /></a><br>"
      ],
      "text/plain": [
       "f_jp1_to_k: f(j + 1), ..f(a).., f(k)"
      ]
     },
     "execution_count": 94,
     "metadata": {},
     "output_type": "execute_result"
    }
   ],
   "source": [
    "f_jp1_to_k = ExprRange(a, fa, Add(j, one), k)"
   ]
  },
  {
   "cell_type": "code",
   "execution_count": 95,
   "metadata": {},
   "outputs": [
    {
     "data": {
      "text/html": [
       "<strong id=\"g_k_to_l\">g_k_to_l:</strong> <a class=\"ProveItLink\" href=\"../__pv_it/common/9b3926d2aafecad20e0fb8a253a5b2984f84d2b60/common_expr.ipynb\"><img src=\"data:image/png;base64,iVBORw0KGgoAAAANSUhEUgAAAHQAAAAUBAMAAACuQAROAAAAMFBMVEX///8yMjK6urpUVFQiIiKY\n",
       "mJjMzMwQEBDu7u7c3Nx2dnZERESIiIhmZmaqqqoAAAA6bD3aAAAAAXRSTlMAQObYZgAAAbFJREFU\n",
       "OMuNlL9Lw0AUx5/atPlRojgIDoJQd12dLNRBF627Rf8DRdx0iIOTBTvo7uAqBsTBQejmz0I2QUEy\n",
       "OAgirYWWdrD4flxLNKTxyF1eLp/v3bt37w5AipGXt12CuHL8hzvAZ5uM2Til7kJ6eT3AjWOdIGMv\n",
       "TjqA860FOM3DpkOWWY6RFrC+BLgEDjXYYn82Y6SLWHcD3BHNl2VztL/SQMpoKu7z8QMqtAjPLuDk\n",
       "Z9EyItO4NK0GzJmu8Q2XaB/6d9O4RSuRSiYtRIZcYK7qYHyW0K4WnX18vUVKmUz4AKmycDuQbMEW\n",
       "2k8eAxuRUiZTk4iUmEs2IJ1lae6h3FcqJElvhNPaYHnksF436tQ1FSUVkhy+0JmzazDsU5i0mt4x\n",
       "oU+YhKQwNYTT2zDnUKQxbE3qegb9i+I9oprel5AmRqReZA4y96fspeVD5Ra7xgDmHcyvGVBNjowF\n",
       "UOQgpkThRDiAa0lEdTDwl+2EvH0HRXIiCpfE+Kj0h276m+GF4jxCcvoLd+5YJLvqMnSYiuFDigMq\n",
       "0ip1uczqqzrqUmiMfHhjoEfqbo/7fcFo/7xgkPsBfQV+1PkeLzcAAAAASUVORK5CYII=\n",
       "\" style=\"display:inline;vertical-align:middle;\" /></a><br>"
      ],
      "text/plain": [
       "g_k_to_l: g(k), ..g(x).., g(l)"
      ]
     },
     "execution_count": 95,
     "metadata": {},
     "output_type": "execute_result"
    }
   ],
   "source": [
    "g_k_to_l = ExprRange(x, gx, k, l)"
   ]
  },
  {
   "cell_type": "code",
   "execution_count": 96,
   "metadata": {},
   "outputs": [
    {
     "data": {
      "text/html": [
       "<strong id=\"Pk_1_to_n\">Pk_1_to_n:</strong> <a class=\"ProveItLink\" href=\"../__pv_it/common/067083b621845f7021a950ce6b8714dfc24a4ce40/common_expr.ipynb\"><img src=\"data:image/png;base64,iVBORw0KGgoAAAANSUhEUgAAAIMAAAAUBAMAAABc0JOuAAAAMFBMVEX///8iIiLc3Ny6urqIiIiq\n",
       "qqp2dnbMzMwQEBDu7u5mZmYyMjJERERUVFSYmJgAAAA4CJ/KAAAAAXRSTlMAQObYZgAAAfpJREFU\n",
       "OMuVlL9LG2EYx79Jc0kuOS9pwS5FaMFVPRfnrHWJOrl5Q3FIl/wHETp18gQHwYA3iCAiHHYouFg6\n",
       "dag/COIiklDo0lKaNhJprMTnuffNm5whR3zh/XHP+76fe36+gGrRmj9pLzFEm5Tzgj/+ah9fHTpA\n",
       "WUorITfN6v+ry11A/yQFI+KHt4DxHjig5SKhNsP+nvGALw7SHVV1j8dEk7S/hulCv6gSIp4LQZRs\n",
       "YCmHH0rwhodYg3oTEQb/JoS+EoLIW9RtPFOCDR6MOpnUwCtIBD6EIE6pV61oVgnSljRvysWsQhRC\n",
       "EOS3aAsxF5ipjM+SyXFXmKc9B04U4udgAvtt3oZB8be/5vS/FCP2Z/5ieZtujirE/GBE7G658BqI\n",
       "zCEx9wLRGwoE23Tq+LvvFKI0GGH886ekBV1vwCQvJqjjD4ZHZLIdBLQ6RjyBSLTEbteQ6ZC0cP2J\n",
       "DEHKQ6bm4ElWpAW3odzJacH2kDuTNpYc23dnWpgnQplnxA70W85dHrY89HzhSPiNIzll4a1ZRMpG\n",
       "6uhOJDSrv796SPyPwFM+OsYqn8mFL9prn/tnWXs6P/GdNCh2dYyoyqF9zemzISDqJvhabx27csFl\n",
       "Fu93Q0D0oMw67bOcudjX+xEBkREs9k4r96Bq/YiASD05RuCNkw+f+aiH7xtwDxnAhuOHv3csAAAA\n",
       "AElFTkSuQmCC\n",
       "\" style=\"display:inline;vertical-align:middle;\" /></a><br>"
      ],
      "text/plain": [
       "Pk_1_to_n: P(1), ..P(k).., P(n)"
      ]
     },
     "execution_count": 96,
     "metadata": {},
     "output_type": "execute_result"
    }
   ],
   "source": [
    "Pk_1_to_n = ExprRange(k, Pk, one, n)"
   ]
  },
  {
   "cell_type": "code",
   "execution_count": 97,
   "metadata": {},
   "outputs": [
    {
     "data": {
      "text/html": [
       "<strong id=\"Pk_a1_to_an\">Pk_a1_to_an:</strong> <a class=\"ProveItLink\" href=\"../__pv_it/common/b7ce262954ccccb343dffdec7887b9a84c33ca560/common_expr.ipynb\"><img src=\"data:image/png;base64,iVBORw0KGgoAAAANSUhEUgAAAJcAAAAUBAMAAABylbI8AAAAMFBMVEX///8iIiLc3Ny6urqIiIiq\n",
       "qqp2dnbMzMwQEBDu7u5mZmYyMjJERERUVFSYmJgAAAA4CJ/KAAAAAXRSTlMAQObYZgAAAj5JREFU\n",
       "OMuVVD9oE2EU/+XPJblceom1Cg7Fc7SgplvGk4raLmm7iFNvkA6ZSukkQsEOUhA5waFDJRFKoVS0\n",
       "OLoklA4u2gyHSyk9HQUhUo20Wur77rv7cpfLRf3gy/cu736/e+/93vcAseJ2x8Y0/mFdRQjx9fT9\n",
       "/lsTWPW7BrRoDvXg9/7eBiA3eiB+Abll4I3fJW/1iShPzncmFC2MSLcB6TvUWgBwrw/ZogHM6PiC\n",
       "MCJ5SLuNWDCxlT5k5SJtA4MII3ItSvgQl4IupRhNtkv7oBgv9ECwClyrYYIJur627LpStWgyKnL8\n",
       "GEn2xkjltulHUAWk88AHMkuaQmE+cCSLVoAVecpAjlop8RB1ITJDlD/OrhH7ORLkCbIN3H/BXFIh\n",
       "kix5MlsZB2KTVCcbL72/HcQuj3MJyB4hpgOjzudbkWS5I+fIUI1emxgSATPEN3hkmQaqc38nyxcE\n",
       "2WPIP/1k6WNuU5pVAzNwyRLRaS5ybShNuQ2pBfXVwoSLYG3GFglQncSepHGyPgKUedeQAPIPDGxN\n",
       "qyU7o3GEwiuACrl1dTjlRpY1UCWvTG3QMZwf1E3RCjv41DQuX0fedBDZ+onu+IhCtm5dGXPJlDnE\n",
       "LtA5zBJqugbOEGjz1IJXiOc35q0iLJQ4QqzOdXLIntK+G8pQMn0P4jo9wnqaI0TPiZaf8q6tESJL\n",
       "+R+8ix5v4eydrtGw7Z4jFy0+UGQ9RPYs0G9uLokmbtpdQ2u1+0U1LKQdmGCNXtQ9xvbn/x7bhPgD\n",
       "yjmNX/Iqc10AAAAASUVORK5CYII=\n",
       "\" style=\"display:inline;vertical-align:middle;\" /></a><br>"
      ],
      "text/plain": [
       "Pk_a1_to_an: P(a_{1}), ..P(a_{k}).., P(a_{n})"
      ]
     },
     "execution_count": 97,
     "metadata": {},
     "output_type": "execute_result"
    }
   ],
   "source": [
    "Pk_a1_to_an = ExprRange(k, Function(P, IndexedVar(a, k)), one, n)"
   ]
  },
  {
   "cell_type": "code",
   "execution_count": 98,
   "metadata": {},
   "outputs": [
    {
     "data": {
      "text/html": [
       "<strong id=\"Qk_a1_to_an\">Qk_a1_to_an:</strong> <a class=\"ProveItLink\" href=\"../__pv_it/common/b5bb6d73155a0d720e6956755c4fefafc1d2fd010/common_expr.ipynb\"><img src=\"data:image/png;base64,iVBORw0KGgoAAAANSUhEUgAAAJcAAAAUBAMAAABylbI8AAAAMFBMVEX///+qqqq6urrc3NwQEBAy\n",
       "MjJERERUVFTMzMwiIiKYmJh2dnZmZmaIiIju7u4AAABsX1SbAAAAAXRSTlMAQObYZgAAAoRJREFU\n",
       "OMuVlEtoE1EUhv/Jc2aSTANdubERRHE3O1GEqgUXFUrwAe4sdCeKAR8IUhxw5cZELFYX2qAICoKz\n",
       "tbYkK0GjdBAXFRqcRbW4CImKNFpNPOfOJJ3pMC0O5Jz7yP3uPf+59wD9b/96E5KOrb9o2dsbFFZb\n",
       "evmG3bh36sJmlEZtjjlffINJsf8LA0kCxX2H+bwJK3UXuEz+uG9Uy/MyMtpR4Jl/gRXK0k6SWTah\n",
       "Vv3j8/Q7YZO5Btz2rzgYCouPcVAtKBt0XaYj/OZGRY+W/FPHQmEV1iv1A/s2bpLDsIAs5DJ86ANz\n",
       "H2x3ai40h7/Ypr9jiTu1d2N9ZaqoCHHOGwnaLzKC04As0vo4VP6/bBNtnCG3U4+3ehNqHjMGN7pQ\n",
       "shR1Ga8gvxVn3RYGU9psB1q4RcqOIt2/UVIJXY5LWkUsR8HauE/nE7BiGGygw3aogMMUbAdKP+1y\n",
       "C1Nit46AHYHW3hKmiDzP2AyLjaNpeGAX2X+yOExtDVKrB9sTBksyLEPCUZhNE0N0Q5/UOXu0rmg3\n",
       "FuU/pGgZ2jck84MuLDQBckerG0VaTQloZnFJ0h+OYsRJQMYqp56bIrE4h6cF04XVoP0k1+T30Ws4\n",
       "pq5ids25PAlLnU5FGyWwjmmi3Lz6cQKGQKzUr0/mXNgp4B7lRilQexpuQ3nAR1uZv6PLQghtcnHv\n",
       "eyStCIceF+olDVX3PCcB08hIdiDG7Y67gkdYf04xI20S6KvoJKq74HnoUsl96KmgYKbjzkbodvUf\n",
       "+jCUHYbz0CnYLt/DhLtR9PWq5ZSgRrBguJdqocshTbiju5GZdUsQiTCVDRRH/mM5AFNdf+MQAsUx\n",
       "4Ssi3rKt/n/ZJhX/Ac4JsfL5SbaEAAAAAElFTkSuQmCC\n",
       "\" style=\"display:inline;vertical-align:middle;\" /></a><br>"
      ],
      "text/plain": [
       "Qk_a1_to_an: Q(a_{1}), ..Q(a_{k}).., Q(a_{n})"
      ]
     },
     "execution_count": 98,
     "metadata": {},
     "output_type": "execute_result"
    }
   ],
   "source": [
    "Qk_a1_to_an = ExprRange(k, Function(Q, IndexedVar(a, k)), one, n)"
   ]
  },
  {
   "cell_type": "code",
   "execution_count": 99,
   "metadata": {},
   "outputs": [
    {
     "data": {
      "text/html": [
       "<strong id=\"Qk_implies_Pk_a1_to_an\">Qk_implies_Pk_a1_to_an:</strong> <a class=\"ProveItLink\" href=\"../__pv_it/common/09d1eedaee50f52e4f081f7b38a10c5e4d783f170/common_expr.ipynb\"><img src=\"data:image/png;base64,iVBORw0KGgoAAAANSUhEUgAAAWUAAAAUBAMAAACnojFYAAAAMFBMVEX///9UVFTMzMx2dna6uroQ\n",
       "EBCqqqqIiIgiIiJmZmYyMjJERETu7u6YmJjc3NwAAAC+aOQFAAAAAXRSTlMAQObYZgAAA91JREFU\n",
       "SMedV09IFFEY/9xddf/MrGaHBYPcW0WQAx3Eg7UdDOkkIV1SkU4SoUt/MCFojSihSGEPmRUuUR0k\n",
       "0ktEh2w8iFIHl+iQHWS9JRStGpkm2ffefDP7xn1v1D74zXwz8773+8187883ANEsOCb60AVe9l3w\n",
       "y3IWPEzJsk2cSMMVcVUf2GE6XZ+1fdtKZL3pNX/2VD8C0MbFu/sJalOyyOPkNEwRV/US4b8BsI98\n",
       "x7SMrLcKvPvKhLDrhd4T1KZkUcRJaZgiBn0Qz6N4Y8rgvmB1ss5qDYDuJMy5bvqTFpTmwSKPk9Jw\n",
       "RYggvkm4lX34PPcFmyq4EefJ9QTCgHuullqzBaV5sIhxE+BJwxUhvuLpOBtl/r/cFyyccFyfM67e\n",
       "IWoS0ZS76VOCyjxYxLjD4E3DFCF6cR7/Ztehn8yHaPp+q501IYlOktaxyRqUs0eL9VdMultPUJkH\n",
       "ixhXGDZyGqYI8RaPqzz9y8yHxlw4Ty+s80k41M9sgHrzrQB0GhDBbxZohzE7A18IKpOzWMbjQpyl\n",
       "fw0UNPROGY5bONiW+UzNM19rg9A4HBriS6eYmfMd/FS+dLT+Gobg1VQWHoLvAW/USVCZlIVMjCt7\n",
       "DlIa+3GKowX72WDX3ZXMD21AECdyE3/ZvDhVnvHRHeFtoRQvRky4jZ+Ba64lqEzOQkuEa+VrASkN\n",
       "ff48B7YJ8pk7YDK/dBxm4zLNC8esdTPldHYWtOVdaJawFGuO7s3JaVyaMVMlrLfyVZ7BWQO6gTRb\n",
       "coZHudFGUGuNa0yatgJlebtRkx2jHhvFLHMfewbtuJDFMpqT0+iPD/SSIgTOCN+G1hNnrdCf7YBq\n",
       "LAGaCnPQslPCuslylwXtF5RkukjzDuZgMcunNmh3xwUyChq9MVuac+YgW2l6dGhYsVadSFLv89vv\n",
       "bhRG8wtyxkxn0XkNnysN0pwmzGbooK2LjpQlOp2CDYqzR7OpoPl2FSpMSxGCqfNN1t3J+bhSLXZx\n",
       "4TJpDscL1Qm5w5sxsIfNZM+RWII0PyEE77JDJR76bKffpPwXsZQkA80UR1YFKpoYNJIiBO2kVTAP\n",
       "wq7KNc8Ic2Nrsp1NlWvWUhYALhQNizITQM5SGg8ZcYqzLKekOQ1pn6Voxtl63gTGxW2oU1kjbd0X\n",
       "+SJeqJGMopZ+YYNzs/yA4Mm4d21l00TzcPOcUyNRXTKyGRdqlMWBmKoW3VI0RYeWkkItqhULmBaq\n",
       "HzfLCShv2KaGtWkClXAp69SiVIEfPANbq/GI1x+EuxifsJXoxS2zhZpfxiLUctvSMEVclfKvZ37H\n",
       "Pz16zsL//Fvpu/i3mrfwD1ssgNtr4AqtAAAAAElFTkSuQmCC\n",
       "\" style=\"display:inline;vertical-align:middle;\" /></a><br>"
      ],
      "text/plain": [
       "Qk_implies_Pk_a1_to_an: (Q(a_{1}) => P(a_{1})), ..(Q(a_{k}) => P(a_{k})).., (Q(a_{n}) => P(a_{n}))"
      ]
     },
     "execution_count": 99,
     "metadata": {},
     "output_type": "execute_result"
    }
   ],
   "source": [
    "Qk_implies_Pk_a1_to_an = ExprRange(k, Implies( Function(Q, IndexedVar(a, k)), Function(P, IndexedVar(a, k))), one, n)"
   ]
  },
  {
   "cell_type": "code",
   "execution_count": 100,
   "metadata": {},
   "outputs": [
    {
     "data": {
      "text/html": [
       "<strong id=\"i_to_j_len\">i_to_j_len:</strong> <a class=\"ProveItLink\" href=\"../__pv_it/common/0705e8c92140ffae7c39ed7d948d0a448a99d09c0/common_expr.ipynb\"><img src=\"data:image/png;base64,iVBORw0KGgoAAAANSUhEUgAAAE0AAAASBAMAAADs/06hAAAAMFBMVEX////MzMwyMjIiIiJ2dna6\n",
       "urrc3NxmZmZERESIiIhUVFSYmJju7u4QEBCqqqoAAACA8xhiAAAAAXRSTlMAQObYZgAAALVJREFU\n",
       "KM9jYGBg4LvDgApWMGAF3AvQBFaj8d8eYMAH+CaAKZ4l64lSx8CwnyR1J2egSvNMn4BVXQHvBhR1\n",
       "LKwXsKnjTuB/gKIuj10BmzoehngQdUgJBBSBrAP8IHkWJSXlS0pKC5D84Yzm/vcHsPtXHU1dF3b/\n",
       "8vxD8+8/Fqzq+P6gqmP9kI2mbj5YHbsBevRuQFVXdV8dJMJcQCg+QIDxQL4ADnU8yNGa79DOQAzg\n",
       "mr6BGGUAWoE5oUUsN3EAAAAASUVORK5CYII=\n",
       "\" style=\"display:inline;vertical-align:middle;\" /></a><br>"
      ],
      "text/plain": [
       "i_to_j_len: j - i + 1"
      ]
     },
     "execution_count": 100,
     "metadata": {},
     "output_type": "execute_result"
    }
   ],
   "source": [
    "i_to_j_len = Add(j, Neg(i), one)"
   ]
  },
  {
   "cell_type": "code",
   "execution_count": 101,
   "metadata": {},
   "outputs": [
    {
     "data": {
      "text/html": [
       "<strong id=\"j_to_k_len\">j_to_k_len:</strong> <a class=\"ProveItLink\" href=\"../__pv_it/common/feda9f5760ef60fc2633532e12c6ec319b26e7020/common_expr.ipynb\"><img src=\"data:image/png;base64,iVBORw0KGgoAAAANSUhEUgAAAE8AAAASBAMAAADoCp6cAAAAMFBMVEX////MzMxUVFSIiIjc3NyY\n",
       "mJh2dna6urqqqqpmZmYyMjIiIiIQEBBERETu7u4AAAA59f8xAAAAAXRSTlMAQObYZgAAAM9JREFU\n",
       "KM9j4LuzgQEdcJxjwAK4JmAIsSqgCfQ8ABL8DQy4AIcBmOJT0wcprH9ASCEDQzxITTYDkQpXMrRO\n",
       "QZV/bItNId8PZvevqAon8ARgUcjxz44vANXPDjD/oSjkPAlhv1oFAgtBnoT4j23VqtWnVq1SgCnk\n",
       "Vr6M4YlsbG58X+BfgK5wJTaF8QzvGxJQ1fH9wKZQl4FfAE0hxz90hfZAhTcYmCejxQ3nBjSFk86v\n",
       "DMAWIdwT0E3EChgf+AvAHPsAn0L/hJsMRAEmS6zuAQCzXz5s3FYebwAAAABJRU5ErkJggg==\n",
       "\" style=\"display:inline;vertical-align:middle;\" /></a><br>"
      ],
      "text/plain": [
       "j_to_k_len: k - j + 1"
      ]
     },
     "execution_count": 101,
     "metadata": {},
     "output_type": "execute_result"
    }
   ],
   "source": [
    "j_to_k_len = Add(k, Neg(j), one)"
   ]
  },
  {
   "cell_type": "code",
   "execution_count": 102,
   "metadata": {},
   "outputs": [
    {
     "data": {
      "text/html": [
       "<strong id=\"k_to_l_len\">k_to_l_len:</strong> <a class=\"ProveItLink\" href=\"../__pv_it/common/717318d6a6932c31a1cc7e5f8dbb80f68e54c3350/common_expr.ipynb\"><img src=\"data:image/png;base64,iVBORw0KGgoAAAANSUhEUgAAAE4AAAAQBAMAAABKAFSpAAAAMFBMVEX///+qqqoyMjK6urp2dnbu\n",
       "7u5UVFTc3NwQEBBERERmZmaYmJjMzMwiIiKIiIgAAABu1cpWAAAAAXRSTlMAQObYZgAAAMFJREFU\n",
       "KM9jYHj7hwEFRPYyYAXcH9AEtDCUMLYCCa4JaKIf4dIPIHSY21cgyfEAVRnzV3R1DNwgofoDqOpY\n",
       "LmBXtx/NWqYFjLsKsKjLRFMXL/DcfgMWdX1o6uTjAqKx2MvzHcQKUgIBHRBzxQKIM5WUdJuUlBJg\n",
       "6vga0My79vIBNn9wJgSgKGP9zP4Zmzr+DQ5o0cP6kQWbOlPUcGabwPAHXR0fUB33ElTncQowvHqK\n",
       "qo4r49NqBjyA8QEDUYAVyYcAN9c8mMVNSjEAAAAASUVORK5CYII=\n",
       "\" style=\"display:inline;vertical-align:middle;\" /></a><br>"
      ],
      "text/plain": [
       "k_to_l_len: l - k + 1"
      ]
     },
     "execution_count": 102,
     "metadata": {},
     "output_type": "execute_result"
    }
   ],
   "source": [
    "k_to_l_len = Add(l, Neg(k), one)"
   ]
  },
  {
   "cell_type": "code",
   "execution_count": 103,
   "metadata": {},
   "outputs": [
    {
     "data": {
      "text/html": [
       "<strong id=\"tuple_len_incr_equiv\">tuple_len_incr_equiv:</strong> <a class=\"ProveItLink\" href=\"../__pv_it/common/7f9a9cac121cc6b4989f10e406f0f42e6acecb260/common_expr.ipynb\"><img src=\"data:image/png;base64,iVBORw0KGgoAAAANSUhEUgAAAKcAAAAuBAMAAAC/hxTPAAAAMFBMVEX///9UVFQQEBCqqqoiIiJm\n",
       "ZmYyMjJERESYmJjc3NyIiIi6urp2dnbu7u7MzMwAAAADGpxCAAAAAXRSTlMAQObYZgAAAtdJREFU\n",
       "SMftlj9oE1Ecx3/2LskluSulg9hMDiJCEToUwUGaUhcHsYOISIcK9qAUJYvQbrdYcItQwTFLpkoo\n",
       "0skpDhFslrZqCg4mi4hDSaFQ/Bfw/T3f5fJe71fFyQf3uHe/333u9+699/t9AQD24Q/b8Hb8WZP1\n",
       "z06Cs8q0dzc0UK+EBe6dI92YEZouo8NcIFfLCH2En/sh5VVM0GtoZr5H/9pZAzRbRENd9sqSAZqb\n",
       "peS5OxeNnIhDulCdAGgYoJmAdC/K6QOAz3ood6jyQfu+9w1gNYS+9mlbUKA2+ah3AVIl+HRTy+QO\n",
       "8IWPprbhO8CkIdIh8jzVA5ss5qYWKhxEuwXeT4DuMdChErQ7JqhwCLdp/tAMpdNv12EKTFDu8HKE\n",
       "j77SyJm3+k/v9i1UewJOk8NsgDKHeo+PfsBuoC5UPFKXbKlMxZl22be9I4qYV25Yxxyyb4v88Rl4\n",
       "SPo5AzRPdrJXqD1Z5xO6SpKZTac5DeLGvi4dMhVuf/+cbsMHyY4phVrxDHkl/AkfFbtXTJZQ2M6L\n",
       "e9XlzSVXsZsTSkamvqc3CgAf4hs/3KA7bxR7C5Gkg5iTAwPtKzpo7eTlxGHzy3Xgf/sXbf+vv5gN\n",
       "hJrIBlgRIV6MtstME0jbHibGMS30FP3eorQtYqCtgVCLlEWPpDNnVtjoDaI+VxSoJY7wziuaardI\n",
       "SisLm43SPUxE9EPBodBdgDVpW8Mt/JIWmt5gRZzZqjg10dBCSRFZlrZlnJpY1UKdeZiRthmcmpjU\n",
       "Qq0ijEvbOE5NdMOS6fv3zvv+SAgdPohAMWqiq42UQNXpY9TEphZKCrO6UBg1YVyohrQ19GoiHIVq\n",
       "gouIGDRHoak6C6spyr1OTXBJEVETTET0Q1OjR7fJ5u8MOqZJ1AQTEbFIWXs3MKEkUhNqQvEiEWzx\n",
       "yt38XcKTqomWNp/S1KdJ0sepiRUtlEkdUkVq6HLCRYR4MdoeA/wC+ywqpBpzNHMAAAAASUVORK5C\n",
       "YII=\n",
       "\" style=\"display:inline;vertical-align:middle;\" /></a><br>"
      ],
      "text/plain": [
       "tuple_len_incr_equiv: |(a_{1}, ..a_{_a}.., a_{i}, b)| =  \\\\ (|(a_{1}, ..a_{_a}.., a_{i})| + 1)"
      ]
     },
     "execution_count": 103,
     "metadata": {},
     "output_type": "execute_result"
    }
   ],
   "source": [
    "tuple_len_incr_equiv = Equals(Len([a_1_to_i, b]),\n",
    "                             Add(Len([a_1_to_i]), one)) \\\n",
    "    .with_wrap_after_operator()"
   ]
  },
  {
   "cell_type": "code",
   "execution_count": 104,
   "metadata": {},
   "outputs": [
    {
     "data": {
      "text/html": [
       "<strong id=\"concat_len_equiv\">concat_len_equiv:</strong> <a class=\"ProveItLink\" href=\"../__pv_it/common/d6ddb59d8575683e6f3f747eac57a92725f1e93d0/common_expr.ipynb\"><img src=\"data:image/png;base64,iVBORw0KGgoAAAANSUhEUgAAAQ8AAAAuBAMAAADEhoEqAAAAMFBMVEX///9UVFQQEBCqqqoiIiJm\n",
       "ZmYyMjJERESYmJjc3NyIiIi6urp2dnbu7u7MzMwAAAADGpxCAAAAAXRSTlMAQObYZgAABDFJREFU\n",
       "WMPtmE1oE0EUx1+aNB9NJslNFEEPFVEoRvFgC9IoilQQYvGDFsF4aBAErYoHC0IOVtSLuQiCSKMQ\n",
       "ioIaxKs0YFWol1hqlYqkVw/SSEDEmuLMm9m4u7M7xjBFkQ5k2Z39vX3/3Xkz817gM/y1ZnX9Go+3\n",
       "Wn2YMOxumkS02+TaIoQM/7kEMjggDL1d4Mmp0LeFHCPJuSS9YCjHHYT4c38uxPO8JgyDcSBpFbq2\n",
       "N4GkP8VeIA0CdxAy2sKgVJ4VTYZTqm+3+IGTsYSBTrkI6WtBSK/FcFpBequCnCgb6LSzkFCyBSGT\n",
       "FkN/0Z2MJAU52UARl4V0sLG7+eJeWenZCox2HhaGc+PMWcrVLti/N8XJIdgxwFHEZSGBLEB4E5wB\n",
       "iLpPHw50NBx+F4aQaqPHoCJaY3lOklrH7W8cRRyFRDLYUnjlo0E0nYWjED3sPkgIQNSYX6ElYRjM\n",
       "sRj0KkZ3bJ6T3vpDkuUo4vIXaaMjdrwM++lruz+PA9YIZIYEYzBaVYc1I9s34CVDEXcWshHIklII\n",
       "BywRiIY8BlVCJgXpWzPyGyH0u5Ef+I7uQjgQvmtcB+JiaFgMKt8AzgqyUhwrCjSctMVI3AhWUgNP\n",
       "ulslBIFIzJg4bXkjWOkddbBuFuQNqCRK9mC1fBE2mUbgcryEQipsDf4K4tC4QuDOdt7DXs+YtN46\n",
       "PbSXfpGWE7awCnIVxOZLiOLPQQhz/+bBpzVFPPMdoF27QBx8bAj2lA1gRNyHCTAGpJ0d/PO/7NAE\n",
       "T5AMVwV5HjoGy4jiT7nE45N3you0MSCkPi/uvwLD0Mc+y4yjHfZEhq27yIz4KTc9nN8leZFu3E+X\n",
       "8L43fpKvrxAts2UCdzHZjvVs9Wet+6pq0wuIZSp06EseSF564FwjZNfm8L7vEg/OQG6sdMHY2yU7\n",
       "7Nk3C2YX6jTAkhgF5bjPgu1+sMCfS4Y9haxwI9thz/UBsLhgaMAhMXqkJVW81nyqeK2BP4KVttL+\n",
       "33ardVNvTqMOtgZ4bEnku04Hp10Oxqs1CmHFkSdr6xxySJPjto5tdI+a1SjEXH/1GCc1d77H2A/W\n",
       "USGRvD4hfQ5CwvXfCqGpEBVC1mvTYam/esw5azNC4JQ2IayWmRu0OfGnvKO2CYGVlizkhTYhLN8s\n",
       "PbE5qSTuT9jiFystWcgVbUJoBh5KHLEJ6Z0rv7fNmRyv9u1CtmsTQmsSghUmvMxkdmcyJ9hpP689\n",
       "Ca8GWJLGKy0zw4Us6BTCU3Xz2+4azztWUvIXWdA5NLyeMq8Ri6FFCRxyFPJUa7BiaWRyEqySWkSu\n",
       "wZY3WFlxNBGyzgi69SzZhUjDB4+ZkGPahLBix3PV6iSQgMJDG9eetAk5uGWIyj+9vEu8UyylnBiS\n",
       "1CfEvOl9dINEpSUxOje9QDPJDa+05KYzDWjqj2leacnt4j+SKgabTBV/AsKWUAOUYAe3AAAAAElF\n",
       "TkSuQmCC\n",
       "\" style=\"display:inline;vertical-align:middle;\" /></a><br>"
      ],
      "text/plain": [
       "concat_len_equiv: |(a_{1}, ..a_{_a}.., a_{i}, f(j), ..f(a).., f(k))| =  \\\\ (i + k - j + 1)"
      ]
     },
     "execution_count": 104,
     "metadata": {},
     "output_type": "execute_result"
    }
   ],
   "source": [
    "concat_len_equiv = Equals(Len([a_1_to_i, f_j_to_k]),\n",
    "                          Add(i, k, Neg(j), one)) \\\n",
    "    .with_wrap_after_operator()"
   ]
  },
  {
   "cell_type": "code",
   "execution_count": 105,
   "metadata": {},
   "outputs": [
    {
     "data": {
      "text/html": [
       "<strong id=\"concat_len_simple_equiv\">concat_len_simple_equiv:</strong> <a class=\"ProveItLink\" href=\"../__pv_it/common/e70452f19a31f4a7ef932e7a9646c3afa60c3b0c0/common_expr.ipynb\"><img src=\"data:image/png;base64,iVBORw0KGgoAAAANSUhEUgAAAQ4AAAAuBAMAAAArROoUAAAAMFBMVEX///9UVFQQEBCqqqoiIiJm\n",
       "ZmYyMjJERESYmJjc3NyIiIi6urp2dnbu7u7MzMwAAAADGpxCAAAAAXRSTlMAQObYZgAAA7dJREFU\n",
       "WMPtl01IVFEUgI/O3xvnvWloUSotXARZIVhEYBCOlURBMISSitC0KIqgbJdBMEIGtnqRgbsewWwM\n",
       "ZIhWQTRRFtlm7E8oSrcupAnBRal0z733/b+5yhDXCA+cN+/OO+e+j3PPu/ccWIANE9er39HrWLVz\n",
       "cce2tS3jOfoT0plar3ZyaANVIHzK65ZjjS6y1Pp6AWbwbn8JGshPQwWOqF4Fx472VuoYaiFvyoos\n",
       "a14uAlzCuyGAz8A0iGO4Cgzt91fqOP1ihYymRKazzwqgZPhANZgGcZyogiNU5o4KcrwXmbYTDZsh\n",
       "15qYBnDE01VwqGnuSDmiBYHpK6Kj1ugyVz9HHcbs/uTDkjjh+/ta7JFyujPDHCmHmqnsOLyzGyCP\n",
       "oRjHtJ7k6ueIkU8qsRuuAiQFH85jPVpm81HZYjBHxqGIEvUX0etEI9BMrre5Mo7XF1DO00G4lSxw\n",
       "Ds5AsrvyCmnNECGU8+b4wRxzZBwhwdLGV8nlKNERIN8NHODqj0ctWdyzJThJolJ5usgKhA1P8qEj\n",
       "40iW18jovURLCTT9wTWYYxdoq0KO2gGYnfMk3/o4MKMpB7urzEHCqy1TbAHHbBFD8DRljq+Bc10E\n",
       "jhBL8XWBKGbzE67O/Dhn5qm2CDXZNiFHK2wL6cUVc7wH1puntQbPU5zDm6fOeOBHdwNupYqUQ1tC\n",
       "j6zjhl5ihtKhxj+k2d9kOzW/1jrkiBRtS7cfuRbML7Udd4Z+rn4OfPv0+HxjgcXjGLEOYyw7gN+E\n",
       "T5HZGyfuPiI07DkkytwxsnWph0R8jhoF+AE8B3MluvByhatoX6ccIf9+dthane/8uTrgcvzoNPL4\n",
       "vQFzX+/EQKaZCs85ug2o/vmK5s1BlT3fF825HKecRi6/UOoi3X8zsEA3EtE5F+OHULzrJ7H44t/D\n",
       "rI1j+i17fpwd3aYjnvuaEegXvslSeDC+HMuA+Nx310E533wKeJ/f6QWnI/IoEOin5BnrDDT2UB6u\n",
       "Ho6Jv1IXjqy7LlR0ptarN2VT/n+J54JLDV0yB3ZF271/8i5JpmBXVO/9c8jcKaWJ4ijPD7lqL0Mq\n",
       "R1ivwME6JGkyChU4WIckTUgXo+UNN4fdJckTUm2qiSY3h90lyRNSfd+LZN0cdpckT0g3UsLGEsv+\n",
       "I1j2u7okqRys+HbmqdUlSV0X2ki5OKwuSWqeaouqh8PqkuTJJDYwYx4Oq0uSJxj9+pyHw+qSNnhf\n",
       "N7ukDTrnvrEfu0uSKYO+wsjukmTXQW6xu6R/oC5Uqq0L/wDAPBsYXSKjqgAAAABJRU5ErkJggg==\n",
       "\" style=\"display:inline;vertical-align:middle;\" /></a><br>"
      ],
      "text/plain": [
       "concat_len_simple_equiv: |(a_{1}, ..a_{_a}.., a_{i}, f(1), ..f(a).., f(j))| =  \\\\ (i + j)"
      ]
     },
     "execution_count": 105,
     "metadata": {},
     "output_type": "execute_result"
    }
   ],
   "source": [
    "concat_len_simple_equiv = Equals(Len([a_1_to_i, f_1_to_j]),\n",
    "                                 Add(i, j)) \\\n",
    "    .with_wrap_after_operator()"
   ]
  },
  {
   "cell_type": "code",
   "execution_count": 106,
   "metadata": {},
   "outputs": [
    {
     "data": {
      "text/html": [
       "<strong id=\"iter_ext_equiv\">iter_ext_equiv:</strong> <a class=\"ProveItLink\" href=\"../__pv_it/common/3b3480e6d44e5a86aa1b078393f7ca8650a07e9b0/common_expr.ipynb\"><img src=\"data:image/png;base64,iVBORw0KGgoAAAANSUhEUgAAANcAAAAtBAMAAADPWuP5AAAAMFBMVEX////MzMxUVFR2dna6uroQ\n",
       "EBCqqqqIiIgiIiJmZmYyMjJERETu7u6YmJjc3NwAAACgK8IjAAAAAXRSTlMAQObYZgAABFFJREFU\n",
       "WMPtV81rFFkQL2cm40zSPfoHCBkQ8SDGwYOfl1wED0L2ILgsKw7Csh7E5CaDB4NgUBQZFPEDlKx4\n",
       "MAO7BG/CKo0o8WMhzV5EwTgnyUWMKBEkB6vq1XtTne55M+DVB9VU1/yqfunq1/V+AZD1ARJesQ09\n",
       "14cuccr15gezdH3eaLOXm4URL48FQvH3jF9HxLqtQf5LNo7X2cvF8MJLZoEQVlf98kcEnOvLf82P\n",
       "9+WJeAD5CV8fFNCsP+WHjdsik+vLv8TNXrIepv3iIdPABBnAu8jkevIrk/w0k9bDdddDlgCmyTi3\n",
       "e/7aJvX/6vkme3PX8G53dy4HhLlTmWS7vflDMV3XTRivtg9v3niezAKhORBnkb1x+XtatGYS2aU6\n",
       "XT+uZ69Sv4k3xzxkAoSwva6eRXbMmz8wStdx4wXwFZ1hD5kAETkWmT//bKt1p0M27M03ZLvEK670\n",
       "INuVSEk/mZ/MtPG+eEP0pe73kN13KTOZZPtdvnlndzI2yCHx5us1/waxQAiWwb9BMj+cJs8F8cYq\n",
       "WOgKBN8oSJf5aeUooGl4guw0kV0Ry14F+kILS+Ll3qLzF8A5SjxDLata5yJoIJQnV5FdPjITcy6b\n",
       "Z1zlZ0GNKyxTjFK445AAlpqrn8zmBpPeQXx0MHYjWYZpGocvswNcE9EHx+u/xEvpMYiH2nDhhfVA\n",
       "joi59LinEg74sfYgs1ivIwZPwle31TEKj9Di9FSkiwPmGnFmsUdifZzx7IU/IAsot5/8n+vnSsmP\n",
       "OOmd6DslJUQrcZeEE7buS/5mrt023hbIeTetA5JAHEmqVhdPLarJdf/hux3LxtsKwbSPzAHh/8SU\n",
       "INXq4knZh5qZapKFPErnD4yKB7DTR6aBav6xanVx5pDfHm9fkZpopbYVFSXp31PooT4sUAlRVq2l\n",
       "dgYZhCtSE23RiYpFK/tHe6iPRXd3V6tWFU+RUU20Bp8Wv94A8oLGhBzB3U4iAUJwclYJUVatKp4i\n",
       "o5poDzlC2g29fAEbE/p2iAChDIe1ziDVquIpMqqJNsUfyCe8oPe+jMGi54y1QFiAZS1E+RDtxFNk\n",
       "VBPtoHu/6EX0F65Z6vHvC6VEhYS2pH2j4vlW695vrVbVkVFNtIPu/ZI3HvnJHNB4w3rfqHjqyYSM\n",
       "28iqdErUZ8HTRgeEwaYWspSn4ikyqonGG2RA3m+wnPdvEAskIas3CKlWFe+2QXj3zo+afVxYwqO+\n",
       "XDNaNKlMjTy1QNNwK2SNalVxTbaWyLAmGXdiDKQnW3FuD643WrSjTKtOnjogXAclZFm1qrgiK2/6\n",
       "dotrcl2aMXtBTZtnVotmyNMO8LwWska1unjiyVzNZzw9i9W/ublqENcy5WkHuIE/OCtkRbW6OHc2\n",
       "cdLIIEaBV/p32sk9OQ4mMuWpA1Y+DzWVkBXV6uLpZDli8MQLG6aBL50iDiFTnnaAm29pISuq1cWz\n",
       "9LZR2qtlwULfsiDsWxYsGPsOyXibZmRSmdUAAAAASUVORK5CYII=\n",
       "\" style=\"display:inline;vertical-align:middle;\" /></a><br>"
      ],
      "text/plain": [
       "iter_ext_equiv: (f(i), ..f(a).., f(j + 1)) =  \\\\ (f(i), ..f(a).., f(j), f(j + 1))"
      ]
     },
     "execution_count": 106,
     "metadata": {},
     "output_type": "execute_result"
    }
   ],
   "source": [
    "iter_ext_equiv = Equals(ExprTuple(f_i_to_jp1),\n",
    "                        ExprTuple(f_i_to_j, f_jp1))\\\n",
    "    .with_wrap_after_operator()"
   ]
  },
  {
   "cell_type": "code",
   "execution_count": 107,
   "metadata": {},
   "outputs": [
    {
     "data": {
      "text/html": [
       "<strong id=\"partition_equiv\">partition_equiv:</strong> <a class=\"ProveItLink\" href=\"../__pv_it/common/45525cc1eb9a683322b48f6a86d6ee1fca6f4d440/common_expr.ipynb\"><img src=\"data:image/png;base64,iVBORw0KGgoAAAANSUhEUgAAAS0AAAAtBAMAAAAJuiBpAAAAMFBMVEX////MzMxUVFR2dna6uroQ\n",
       "EBCqqqqIiIgiIiJmZmYyMjJERETu7u6YmJjc3NwAAACgK8IjAAAAAXRSTlMAQObYZgAABJhJREFU\n",
       "WMPtmM+LE1kQx8skZvKjOzN/wIKBRTyIMnjwB15yETwszByEdUUhCMIe1MlNgiLBgyiKBERGhRmy\n",
       "4GFdUIKgXlSCKKMOS8JeFgU1B5G5iBGHLEgWfK/ee9XV6Z7XEdK3KXhN9cu3KpXu1/3qE4CR7JPf\n",
       "S3dHDzmpRxzmNOXxZbWLXqIJ261yLXTu18RJoqtGHJbDvD/PldFLdOCVVW6Eubr8TQ014rDXeNFW\n",
       "n2kPIFmxXV0jnCzL0116xGBXcFH1jCe+etaiJuFMS54+12P8VqjhNaoZT9gti5yEu9UiKKkxfpuQ\n",
       "68S9drGO3tK8ONuztpqEcBtOLIoy62qM3/IdeZysKG96nzh5Y5EbodOf+PC/qLOhBiT/QhtfiRlc\n",
       "v5+n0CuUb4qT3y1yLYT04IwjykvX1Bi/bcTVMac8B/4TziaLXAsh+xuebuipEVddu7WXHkTUZYSZ\n",
       "LQ/jrUvdx3vayxeFs98iN8J26bP8QamaGmZ9Fce87n/VXrs8bV/3RvheSWndj93wKXdWtTdTEN95\n",
       "FZxvclIe2g3mMOFWmJwSdWX1GL/hXUj1tJd4K5w/AC7It/k5ec+KxrkMXPgAJuaFJjelRkz7ULIJ\n",
       "bB+Sz34roDsOw0JhL/SIZ98+muvQDq727WRQJ++WXxjvvp3vwqVXxpMmT5aCjYTsMvzCePsc0eT9\n",
       "u8g6RHgiRie4M8qDX6gKzMfUFw730e4P9NHv9Fi3dVu3EZr3jt87OXJIgG4LnTUCRs/pYfAyvm3m\n",
       "F5W3NYJBSQjHWpxuJcrSfMDsOU3s8kGOwXcxcGdfedsi3s0khH+A061EWZr3U9vhqPc9xd5m24OL\n",
       "GND+paS9iL2MCxndIsq6nCjS+rOnOwYROb3YPttOM13Tkmf0xbYyKBcyukWUzXRD6gJ3EJGTYlMD\n",
       "hsEr1JKvmD8jShG9+wqd3eIoy+YDddlyUiw6BoOr2JQcvAHSc6oVO4MaITinmoxuEWXZfKAuS04v\n",
       "NldPv+4aDH6MH0r0El4yNRvRi2shZOEIp1uJsmw+UJctJ8W2y2dnOgYHzuPL44s4CO9jtmFnUCMU\n",
       "HUKf061EWTYfqMuWk2Lnllp/EwYfoKUnvJas3cZ6RgitlI8i5ePA5gWR/XlIExnWZctJsdfqDDcP\n",
       "0NKT3lzLnoOEytvEHwc2H7hetpwUe+50xasL7yOi6nmNpCnLNSeh+i9wP0dZNh+oy5bTxDqrhVUP\n",
       "g3Hdb9RLz+kn7WvUCOUi5eteoiyb/6F1b2LdHn29GPiot0vqoU/1PiGDIqD6cVUxqxGqO27oVqEs\n",
       "m+d1Tci6QnMOxSaa8CVJGIy3Ygb0TdnWQQZFQPVwtUjMSkK4DoxuEWXZPKsru/nbwlo5/bH5MlTP\n",
       "EAbj5rEX2DbywgBqCLN6woucbhXK0rzvellyDsdyDBYbZrp4BxcC27enQ5nVE/6ELzJDtxplaR5v\n",
       "j6/dCc/pjx3C4CeQedQgKNSNRiWUWUlY+JqvM7rVKEvzweDwnL7YYQxeBreqLuIycagLoczqCbcs\n",
       "cLrVKEvzYbweltMfO4TBw330CAyqQ9yR++jRcxoM/g6kIdDcAkb8VwAAAABJRU5ErkJggg==\n",
       "\" style=\"display:inline;vertical-align:middle;\" /></a><br>"
      ],
      "text/plain": [
       "partition_equiv: (f(i), ..f(a).., f(k)) =  \\\\ (f(i), ..f(a).., f(j), f(j + 1), ..f(a).., f(k))"
      ]
     },
     "execution_count": 107,
     "metadata": {},
     "output_type": "execute_result"
    }
   ],
   "source": [
    "partition_equiv = Equals(ExprTuple(f_i_to_k),\n",
    "                         ExprTuple(f_i_to_j, f_jp1_to_k))\\\n",
    "    .with_wrap_after_operator()"
   ]
  },
  {
   "cell_type": "code",
   "execution_count": 108,
   "metadata": {},
   "outputs": [
    {
     "data": {
      "text/html": [
       "<strong id=\"merge_equiv\">merge_equiv:</strong> <a class=\"ProveItLink\" href=\"../__pv_it/common/f42a9d22bbfffc22d6bc93ea1a0e69d0bcf4873a0/common_expr.ipynb\"><img src=\"data:image/png;base64,iVBORw0KGgoAAAANSUhEUgAAAR4AAAAtBAMAAACKfhlSAAAAMFBMVEX////MzMxUVFR2dna6uroQ\n",
       "EBCqqqqIiIgiIiJmZmYyMjJERETu7u6YmJjc3NwAAACgK8IjAAAAAXRSTlMAQObYZgAAA6lJREFU\n",
       "WMPtl89rE0EUx1+TNk2b3bb/QXsXJCdt7SUXoYdCehDswUOOHsT2aKhI6KF4EAkUKXqQKl4qKL0K\n",
       "tuQiEYNkrxHUHL1IWygpSBHfmx87s9nM7maZnuyDN9m8fvhmOjM7M1+AKQ9k/KYm14XYYGCYlFIJ\n",
       "JDh6X6QeLWqcnZfY7ANk9uFqlI4PQu6OTrI6SrVW6Vu8BKIPTiCDHc/0df49NZlrPYBJ+qsHX6LE\n",
       "fBDcOZ1kdZLao2/xEoi6x+DsAkst3Dq17eUSQIdXsusRYjqok1RnUr1EEoRO4ChfB54q8my41qh5\n",
       "KsZzJUJMB3VyTUiNnieSIHQMO/0JeKr4xdp5WmI1UXoTIRYANXJeSGVriSQIPZrBmS/xVFGlprP6\n",
       "HGAcx7C5g98WzFo+CM0NnWR1kpqs5zrdeAlCf1L36zxVHLD2DLOAr2DxJj58i/jnJAj1MU8nz4RU\n",
       "u/Ko7MVLEHqFVu8uT4Abbyn2YIvtBic0pxWYqrzAh7sR24YAwe1OVzSS1Ulqrdn4mkCC0Nu0adR4\n",
       "qrjFNrBjbMZK4LDOz5rFJIhkuaGRrE5Sz/jgx0kgOvIXP0eOefb1h61C+pncebSYD/JlORuok9Tm\n",
       "xjokkEB0fGVgf9h8FebENLCHJbOYD/KNbylQRynndOoUEkhs0ScO8GiNp1w/r/l6pq2ALdN2pRi5\n",
       "GH0QnJ6+8ln9gPZcp5eFeAlEp72ivp5lsDezXRLvXpnOuW1w/lBxVzTqmwL5zApS1BfY8XeShYBE\n",
       "UEuh08vYsYkiTxVsZMvU0LhlvuPDK4DHOJZ5NjfUbNLDkwAIEzVFijpKFSpQfdgnsSllNAlE3W3a\n",
       "rmZ49p0Xi6CfF/QONkLjfA8CYL6uk4vq6EkkIdHPIgPnaW7uHd851SmZDc87jqoCRxq020tS1F1/\n",
       "o42VkGj4PIVDyH/kK6rAO02XhWb41oI/ocCj4geNlPVDCcdLcHTAfQNvRm6Vd4RdszjqhcRcSh/M\n",
       "VD2NlPWW+h/jJFr+CBS6gy+Z8hrqJr6vuqb7agIJjv4QeRmX8Z9HCtto9nwWIoVtNHs+C5HCNho9\n",
       "n4VIYRvNns9CpLCNZs9nIVLYRrPnsxApbKPZ81mIFLYx7PksRgrbaPZ8FiKFbTR7Plv9Gc42mj2f\n",
       "rfkazjaGPZ/t9TycbTR7PgsRbRvZQ79tNHs+CxFjG8nz9dtGs+ezdV4MZxvNns/OeTqsbYzwfBYi\n",
       "hW00ez4r97GhbaPZ813AffWCPN8/g4WgOkwloRoAAAAASUVORK5CYII=\n",
       "\" style=\"display:inline;vertical-align:middle;\" /></a><br>"
      ],
      "text/plain": [
       "merge_equiv: (f(i), ..f(a).., f(j), f(k), ..f(a).., f(l)) =  \\\\ (f(i), ..f(a).., f(l))"
      ]
     },
     "execution_count": 108,
     "metadata": {},
     "output_type": "execute_result"
    }
   ],
   "source": [
    "merge_equiv = Equals(ExprTuple(f_i_to_j, f_k_to_l),\n",
    "                     ExprTuple(f_i_to_l))\\\n",
    "    .with_wrap_after_operator()"
   ]
  },
  {
   "cell_type": "code",
   "execution_count": 109,
   "metadata": {},
   "outputs": [
    {
     "data": {
      "text/html": [
       "<strong id=\"partition_front_equiv\">partition_front_equiv:</strong> <a class=\"ProveItLink\" href=\"../__pv_it/common/6ed46916b78373f532200e7b7fa2829b6a2ab9160/common_expr.ipynb\"><img src=\"data:image/png;base64,iVBORw0KGgoAAAANSUhEUgAAANUAAAAtBAMAAADLrzPEAAAAMFBMVEX////MzMxUVFR2dna6uroQ\n",
       "EBCqqqqIiIgiIiJmZmYyMjJERETu7u6YmJjc3NwAAACgK8IjAAAAAXRSTlMAQObYZgAABCRJREFU\n",
       "WMPtmEFLVFEUx48z4zTOvFE/QOCAixahzSqtNrMJXAS2CGxRNARRi1B3IS0ahCIpZEjCChKLNg4U\n",
       "g7ugZBaJZoFDmzDIZhVuxInEIFx0z73nvnueb+bOe609cO6c0f+5x3ffvef9ngAHrLPqjUahpVFK\n",
       "vKY8uH3CwZmdU9FxiFizXSFcq0C/+OgPU+sNDpGTeyrqA2fepnaF8AVgDZQHtXQRx/VzOYoABmxy\n",
       "LoTouPKglpBLNuZGAMs2OReCc155UNuS46AbASRzFjkXArwiD2gTOGxcfCojZwJXpdhcrYXg3CqL\n",
       "8RR5QHsvxz8qisbEiqRtm4OE0AGXxfiNHKIlaUV7rXvywPxS0c8OUSdesJwsEsImiP0IN8gD2gV5\n",
       "KusqqnSJNWyrN1drIVRi+2LsIQ9TK1qgaKxir+UKVRSyllzDVIaiReExyxq6QkjivRki1/crE2Bv\n",
       "tI+ryNmL2veGFopDned7I5jJLbueU1Gsvi22WBbWsRwOzl8eGKFabZghD2hyCYZ11Cc6eLIbEg+x\n",
       "PeCKTOrgfsUjhCc4vCAP06POAGs9q8Jv+negrGWEU3igC8pD9N545rXpwqr3Zv07EOu5wqPyoIXt\n",
       "vbAEiXfzFMmGinfHP8EKXpAWdv5OFSH8M0U8+NITNfPUhJT4kvbL8FFshMee6z9uKUytgwywGTgl\n",
       "XVN+aIf2H2Y2HmxrpGwm8HSOAFtuW32MaqY18OkIZoiUOU5+xBOkmNRvduzEVJwQ4pckz0qmNfCZ\n",
       "xB9V+dHvHctrJvWaoNwWLQJTcUJIZ1TvmefwCRsGKQn4dj+Yvoh2nX7ee6LSovXJ1A39bUC5gU+Y\n",
       "NkjJcCJR89UC+FFpgZ0ydVp/W1Zu4LOzwJDS4MQWNKllxU5MdSeUPCvcwOcRsVgrswwn04+nioZJ\n",
       "/bUs2ClTcUJYuQ2KZ4Ub+EyJvZ09y5Gha5wxqb+WDS0wFSeEYntVMYtwA5+JPHTmn3Gc3OlmTOqv\n",
       "ZcNOTBUTisbflVc8K9zAZ3sOHHmBPfwtxGVSOF0q3S2VXppaPS1eYMSEYsZhYkzhhiTxV/F9Pscg\n",
       "MCb1X1dPixeY9pyOqJaBT7xkGQzphEVgTOqvNWSptUgTAiwQzwo38Im3cj2fZfd8BBiThtsbIzSh\n",
       "yAV3bxj4xI05jI12hlDT2QXGpJ5adxR6Sp0XUFmqfHOTd0XwLLqBT7zQyHeFkxI1Y3XOpLzWoysL\n",
       "VaOb5KTKUuWbQAcOgmcl07rw6faoAqFmtAzNepRH14BSVSpOmCgSz65y+OS9F+/P1WSVMynaZ08b\n",
       "Il0DSqXUDWiryDNKvZfBZ0pdwRqh5oM1YEzqN61rQKmUmqrtZN9qnp33wKd8tKm58c/6Osf+k9OQ\n",
       "kJWuAaVSqlOOTFTpIuSFHGSAdEAGCIKdtH03lf8Dep1+XKOTUfYAAAAASUVORK5CYII=\n",
       "\" style=\"display:inline;vertical-align:middle;\" /></a><br>"
      ],
      "text/plain": [
       "partition_front_equiv: (f(i), ..f(a).., f(j)) =  \\\\ (f(i), f(i + 1), ..f(a).., f(j))"
      ]
     },
     "execution_count": 109,
     "metadata": {},
     "output_type": "execute_result"
    }
   ],
   "source": [
    "partition_front_equiv = Equals(ExprTuple(f_i_to_j),\n",
    "                               ExprTuple(fi, f_ip1_to_j))\\\n",
    "    .with_wrap_after_operator()"
   ]
  },
  {
   "cell_type": "code",
   "execution_count": 110,
   "metadata": {},
   "outputs": [
    {
     "data": {
      "text/html": [
       "<strong id=\"merge_front_equiv\">merge_front_equiv:</strong> <a class=\"ProveItLink\" href=\"../__pv_it/common/456cd36e36311b5c6c6556d55b11d6db5412cbf20/common_expr.ipynb\"><img src=\"data:image/png;base64,iVBORw0KGgoAAAANSUhEUgAAAMwAAAAtBAMAAAAQFJnmAAAAMFBMVEX////MzMxUVFR2dna6uroQ\n",
       "EBCqqqqIiIgiIiJmZmYyMjJERETu7u6YmJjc3NwAAACgK8IjAAAAAXRSTlMAQObYZgAABCBJREFU\n",
       "WMPtls9rE0EUx1+TNE2TTdv/wIIHD6WSk616yUXoQWgPhVbwEDx50KbX0CKhB1GUEpBS9FCqeKmg\n",
       "lIKKoJKDJbVFkptEsO5BxEtpCqWCVHDemx+7s7szSc/6YCdvZr/7ZjPz9s0HoK8Bwrg3AwHb4z+h\n",
       "8bDJUDMR8h1snOUV7g1BzPXufSy54KwzJ3lVGw8bKjHAzjTroDQof4FN7NwR94bBWfXunS4WII36\n",
       "7KA2HjZUUoA1fOlVCMqzFWzrl/PCAxhR95zDDwBN2RuxzEJKCnAkpbo8RX+uqDyATXUv2WLNouxt\n",
       "WqYhJQZIHEupLv9J7ajyANJ5eS9eZttahtB42FBJAcghqS4vYdOcfkieU5plyopcz6W7FejBXm0O\n",
       "fONhIyWFSleSTZekuvwdtb+4F09MsGfU5vWzSTOYpJXuhn88bKikUPXCrfEGSbn8wjO0NbhNCX/A\n",
       "Gub96GX3kmqZ9gfYgrMMyrr9Bf942FBJoYq16icu1eWTageZV8W36mrJe5gY3WyJHRiv+sfDVpSh\n",
       "lmipUKrLJ9UOolfUwo2Kabhnm2ZUhlqYm42chhYtMyi8DXYl1L/FHi4a/+gSlkXbEKGcw75DIeVy\n",
       "vjdPeAp0ix10juL+rZ4CkQIOfnS2FJgS2ZRtqRC6/DwVgTz3Ei1WJ3tzUF/ln7ZM4yR+dHIcG+e3\n",
       "3+FKDBBbh4M4SenybAybcekNs3dPD0DqPg4kWnKperGR4ylc4QXp3KlKJQbIFKA0T1K6AsXmIviK\n",
       "zRa7blBiYG2mYpOq+Mf1MlNVypQqylvi0kpncvC5V0R5zcM/fC1Nx0cTuqr0WcjxQJnxlNmKv8oG\n",
       "Ku17SL1dFR7IKo4pcW+b+hl3P/fGP65bzVOKAJEHATuLsiXXO+BYWPZe6Hxe4c+sx0oN/7huDU8p\n",
       "AnBpxo0+WaW3azikdzs/pHc7k/+3f932dC/pdv7ITGfcyD8UPwmyYngW2oEgEzovywYQNBjxnyLB\n",
       "WAO2oR0IojBdMXz/BmsGSTA+2w4EUdhfMFQzgy0GSdCZaAeCKERciAJBU8Uoh0jwKdhBkISjEA2C\n",
       "BiP+UyRYW5YnrAUE6ZE1uLkCESBoMDr8FQnmLrHOF7CDIAqdo57vf6IowGAcZQQJ9hUesc51sIMg\n",
       "PpI8nncaUSBoMA5mggQdwt5TYAdBfKT3CkSDoHUaSYLENLZppDB15vWJpuGLJkmQQHEM7CCIwnp+\n",
       "P6+BYEcpIEmwXsjZU0AKv3FpxylA6ahIcBwP3gec+nQGDCDjEPQP5KJA0GD0lxUJxr4y57GgvgUN\n",
       "BnVkfAU9y9UoELQVG48E8Y3Lgvp0CyCjCQQtpVORoCqd8bBOQ0YLCJpywPVIkH62BfUFSrOGjBYQ\n",
       "NB9rigQVTDbC1UxDRgsIdnhIZ09wSJtA8C80q3TWMcCnRAAAAABJRU5ErkJggg==\n",
       "\" style=\"display:inline;vertical-align:middle;\" /></a><br>"
      ],
      "text/plain": [
       "merge_front_equiv: (f(i), f(j), ..f(a).., f(k)) =  \\\\ (f(i), ..f(a).., f(k))"
      ]
     },
     "execution_count": 110,
     "metadata": {},
     "output_type": "execute_result"
    }
   ],
   "source": [
    "merge_front_equiv = Equals(ExprTuple(fi, f_j_to_k),\n",
    "                           ExprTuple(f_i_to_k))\\\n",
    "    .with_wrap_after_operator()"
   ]
  },
  {
   "cell_type": "code",
   "execution_count": 111,
   "metadata": {},
   "outputs": [
    {
     "data": {
      "text/html": [
       "<strong id=\"partition_back_equiv\">partition_back_equiv:</strong> <a class=\"ProveItLink\" href=\"../__pv_it/common/582583758693eb3758b6569f28e3816e97b675da0/common_expr.ipynb\"><img src=\"data:image/png;base64,iVBORw0KGgoAAAANSUhEUgAAANcAAAAtBAMAAADPWuP5AAAAMFBMVEX////MzMxUVFR2dna6uroQ\n",
       "EBCqqqqIiIgiIiJmZmYyMjJERETu7u6YmJjc3NwAAACgK8IjAAAAAXRSTlMAQObYZgAAA7JJREFU\n",
       "WMPtl89rE0EUx1+TNObHbto/QDAg4kEqwYOteslF8CC0h4IeKgRB8CBpbhK8BA/FokhApCq0pOJF\n",
       "QQm9CVqCKI3tIYsXUbDsSXopjVgilBycefNjd7OT2d2e++AN322/L5OdnX3zCcBg7HpV0obA4CVl\n",
       "nuHDaNLxa9VGFWvCWa1dGCE5BzHyvWJ2lMky6D45X0IVs2BTaxdGMPNgNAAzfPzA29v/zBVAvKJb\n",
       "B5cRYJJn6HiMD6orFPm8GY3bbQT4wjNs5Gp4NzWhSLzS2D1GyBRZho1jdbr+TxfrqDaWyNWF4W5p\n",
       "hI17dOo6y7CRteg4VmGqcJlc/NTYhRHqo2Q0GywBLr6h8TpgslSJjnvjqHKlF+TitsbOjWDaY2RM\n",
       "1liGjVFc8nmmDPhHxAmNnRuJc7oFMNJlGW2yKa6S/YDJpjwlUSdjy7jGVTZPxBWNfU2W0OeTqLEU\n",
       "z+xlqA1yjatOqaDfIMIIRg/cGyRc4M419rmazpEPegLGAf0jHToNl3AZ2YKnCyzDBq5CostV7BcR\n",
       "qwAPyNOH+3TJ8kI8ArcR0nTIjLOM1K7iTXC1K7qfWz7fHfAYU/T22jyjNOKbGUu2ZNaI434fXS1p\n",
       "HGnRFy56I87a8HBTKBr0YsPf7ulZII17hfcAhzhiyEn4fcV1jMI6ScvfFekgjbGqxb9dNtLhOYgF\n",
       "Zngs2OZ5FEdx2MhZXlWOUjIQ5SB83cJXZWmFqTMBmCmNcMvfwjy1Snx9h67zPaYmAnqANMK3Qaqb\n",
       "8/YPFb6aSEOdq0WuArqb2+iJT+f6nlolvqZswRIp20FNLXSklAtt9j21SnzdkSyx40JNLXTswNDJ\n",
       "nFolvlbxkLj+HKgyqhU9ZgojGHebqslkrRpfP+L/KLIRFU/MBFAEN0Iabqgmc2qV+LqAL84fMhD1\n",
       "O93QY6Ywku7eU03m1CrxdVY+TaJa9PvoyE8YoZXo48mKyLYqJ3Nqlfg6K54mqvmWfjJpZMp3Z06t\n",
       "El9xGRFGFzh0JjTLKI2Qqasmc2qV+IobZLTCnrvRi+s3iDBSftVvECW+4q+vTpH9Dkt0dxEzEUG9\n",
       "QMqoVBjZgnt/2XFM1eErkvw0cKafsBAzEUEdIM1LKpVGeDYwV/rUwbJTOwRfsfdcAlcXagsEVVCp\n",
       "Y1xULnNbj6+kqybzb3HRXY24oKRSx3gcXzh/TAbg6zqkPjQkIXLUrCipVBpzf7PKniZrh+HrFphV\n",
       "toBbEoRNUFKpYzy9PAyn9fg6iAUhMHMoFmzr8fU/fid5PjFUgD4AAAAASUVORK5CYII=\n",
       "\" style=\"display:inline;vertical-align:middle;\" /></a><br>"
      ],
      "text/plain": [
       "partition_back_equiv: (f(i), ..f(a).., f(j)) =  \\\\ (f(i), ..f(a).., f(j - 1), f(j))"
      ]
     },
     "execution_count": 111,
     "metadata": {},
     "output_type": "execute_result"
    }
   ],
   "source": [
    "partition_back_equiv = Equals(ExprTuple(f_i_to_j),\n",
    "                              ExprTuple(f_i_to_jm1, fj))\\\n",
    "    .with_wrap_after_operator()"
   ]
  },
  {
   "cell_type": "code",
   "execution_count": 112,
   "metadata": {},
   "outputs": [
    {
     "data": {
      "text/html": [
       "<strong id=\"merge_back_equiv\">merge_back_equiv:</strong> <a class=\"ProveItLink\" href=\"../__pv_it/common/9a2e9fce309ce22a440922d387fb8dd871afd8080/common_expr.ipynb\"><img src=\"data:image/png;base64,iVBORw0KGgoAAAANSUhEUgAAAMwAAAAtBAMAAAAQFJnmAAAAMFBMVEX////MzMxUVFR2dna6uroQ\n",
       "EBCqqqqIiIgiIiJmZmYyMjJERETu7u6YmJjc3NwAAACgK8IjAAAAAXRSTlMAQObYZgAABBBJREFU\n",
       "WMPtV89rE0EUfiYxTZNN2j9AaMFDD6UlJ616yUXoQYiHQutBCILgQdvcJFgk9CAWpQSkVAVLFS8V\n",
       "lFBQLyo5KK0tkuBFKlhzEPFSmmKJIBWc9+bHzm5mtslZB3b48vrlm8zM2/e+AqRqIAZHk3DgEF+J\n",
       "1s1xkvDLbODkLCxyNAihetAKiggXKzDsxt8X6hTfmGAfUMIv8wyn0LEmR0PgLAUto4jwEWDdjR+d\n",
       "yvH4Mv6WJfDLJEs4V89kBAI4HrSMToRwXm1y762QakoJr0yMNjelEMC7oGV0IjhnZTjaEPHIvpTw\n",
       "yvygeUQhgHgmYBmdCPBYgnBRxAmQhFemgNPmxD1CToEdQ7hkX0USwblaZvMJefLzsyUej5eim3WS\n",
       "8Mq8pvkXR+EIO4ZkUA4IInTDeTZ/luGevIhXc9ezNZLgMief4FiGG5Twu2xi6Hs3+1u0GPDGCCJs\n",
       "0V1fkvGdXhGfWq184BJemTF1gwxV8FcdatiXkUSo0F336ZlB8Xk6KpTwyoypG0Q0VQleRhE56tMz\n",
       "g+Iz1/LGZejQEv0CrbAnEnBoisjumk2jMr4ipJy91J6Q4DL8bh7xFDgsbtBphoNTQBLxrvUUGBfZ\n",
       "lGwoCa8M5WQ1w1Gksc2SKA1VpODk/BaAT4rIjxfucALbhJAKlWE3TBL0uIP2nZVoiNXYeC/EbuNL\n",
       "jQc0IwGFXCLcxekhwE1cLtIQ8UQOCtMkQY+v2JwCrYassedy63lRyCXO4iYwb3GZcFkX4BJr/tIZ\n",
       "7X/qFlFe89Kty7CQSzxCLxCWTnZEcCFe0wVMpRPeQOzVkkAgq3i+tdGwkCKmfiZQEhvBKnturYMm\n",
       "YGwErBclC3W3wUGCfUi2bgZDLnHggZTFfXxa1DqkkEjUzZ1Voq22m3TS1qS32pP5P/71se1F0Xr7\n",
       "X5lsz0/Sy1WW/g4RK4bDgXRBdJ4XLUbQMuJ16e8QhWq66zMMSaQGZHr/be5F+btNv+sz7V0Se3KW\n",
       "amYZc6rpz/ldn80dIDFbMRtBWyUpylafKvpdn8UdEHEEzEbQMrpK0t8hWl3QXJ9hKCLz6FcWwWAE\n",
       "ba6iJv0dovRpveUbhiQ6za5vf0wuwDJiOenvGErl7uuuzzAEEaL7007NZARt5iUj/R1DDrnZvgP+\n",
       "RcCvdJ8DsxEMXGZEoOj+ActIYmzgZUfL8ENbEYj832gAXRKrmZ2Mxwi2lQLjAlVz6eAUkMSvnNp2\n",
       "ClA6kr9DlMXGK1yf8oauSXSJg9DTmzYZQcugLZO/QxT6orm+GY9JJH+oiC+ga6FiMoJBxYb7O1ls\n",
       "pOsz+EMP0WgEA0qn8Hda6Qwb/aGP2FHpZA5L+DvhtaTra/WHPmJHjYD1KOHveINTrq/VH/qIZiPY\n",
       "ZpNOdtCkbUbwLxumcZ1EVJ9nAAAAAElFTkSuQmCC\n",
       "\" style=\"display:inline;vertical-align:middle;\" /></a><br>"
      ],
      "text/plain": [
       "merge_back_equiv: (f(i), ..f(a).., f(j), f(k)) =  \\\\ (f(i), ..f(a).., f(k))"
      ]
     },
     "execution_count": 112,
     "metadata": {},
     "output_type": "execute_result"
    }
   ],
   "source": [
    "merge_back_equiv = Equals(ExprTuple(f_i_to_j, fk),\n",
    "                          ExprTuple(f_i_to_k))\\\n",
    "    .with_wrap_after_operator()"
   ]
  },
  {
   "cell_type": "code",
   "execution_count": 113,
   "metadata": {},
   "outputs": [
    {
     "data": {
      "text/html": [
       "<strong id=\"x_0_to_jmi\">x_0_to_jmi:</strong> <a class=\"ProveItLink\" href=\"../__pv_it/common/c5a667a7229e260c7bde6b6d8cf9e4186def90420/common_expr.ipynb\"><img src=\"data:image/png;base64,iVBORw0KGgoAAAANSUhEUgAAAGoAAAAPBAMAAAD+NkdNAAAAMFBMVEX///8QEBBmZmaqqqrMzMxE\n",
       "REQyMjIiIiKYmJh2dna6urrc3NxUVFSIiIju7u4AAAA6P00QAAAAAXRSTlMAQObYZgAAARNJREFU\n",
       "KM9jYHh7Z9fNCwz4ABYVfBM4atkTGG7exKkJqoKBzQEqwKvAwPmA8x/XBo4JzAdw6YKoYGBghgmw\n",
       "bGDgY2ANYGBgX8DwD6ddYBXogB/o5vcODMK4PcaPxd/+QPf6b2CowK0LpILhrTKUx3UH6NoH9xl4\n",
       "H/g/YKjFpQeigkFhGcyf/A8Y1hvEM+wA2SXLwPcNKPYeGFqoDIgKvg1zoLr2mTMwvLn7VqMB5K9f\n",
       "DAzlD4DhAgrLGgYoAyQCUcHAEMGwNBQIHjDEwlwBCUPmB5iuQ7B/w8L0HyLiQPHFiRlXCCaLAMyk\n",
       "hAkwsZuTQMGEmZgQTF5YpPGd3ICipgFDF5IIK/7Eih2c2viADF0nTyNxAGzQWIpcp1RtAAAAAElF\n",
       "TkSuQmCC\n",
       "\" style=\"display:inline;vertical-align:middle;\" /></a><br>"
      ],
      "text/plain": [
       "x_0_to_jmi: x_{0}, ..x_{i}.., x_{j - i}"
      ]
     },
     "execution_count": 113,
     "metadata": {},
     "output_type": "execute_result"
    }
   ],
   "source": [
    "x_0_to_jmi = ExprRange(i, IndexedVar(x, i), zero, subtract(j, i))"
   ]
  },
  {
   "cell_type": "code",
   "execution_count": 114,
   "metadata": {},
   "outputs": [
    {
     "data": {
      "text/html": [
       "<strong id=\"merge_series_conditions\">merge_series_conditions:</strong> <a class=\"ProveItLink\" href=\"../__pv_it/common/342862f0eeaf210d352d8317369f25126e9eda700/common_expr.ipynb\"><img src=\"data:image/png;base64,iVBORw0KGgoAAAANSUhEUgAAAYEAAAAVBAMAAABS90/2AAAAMFBMVEX////MzMxUVFR2dna6uroQ\n",
       "EBCqqqqIiIgiIiJmZmYyMjJERETu7u6YmJjc3NwAAACgK8IjAAAAAXRSTlMAQObYZgAAA+BJREFU\n",
       "SMe9V81rE0EUf+mmmzTZtf0LTKTeSkv04CdIbooI7aFYEQ/FiyJigzmUIGIQbBU/CIiKB0taRGzA\n",
       "EryJta7VmtoKyU3qQfag0ktJxZKCFHFmZ2d2Z3ZnG/HjwW+zGX7z3ryZ9968BdhSg81EQlFNgt+f\n",
       "2Tx3xZ97zgVYDFT7LmcSShc/rlzcAdADBHJZbG7x2r0xXyuglfFOnRBGu6AFrYoCpgJ1dw4NEko3\n",
       "P/4I5k1YQC8LgdOnmvOgZVfD1wrE8Ar1pDDaDVoRGPRC4OasveEpp8iP3gdKEZQMWJBKsHJHqkfS\n",
       "HFelSpdkM3Y7iAYGsroKPMX2IJ4EdQO0PrAglWDljgwJXObBLdmMOQfLgaqVPPAU24P2JITRwT8E\n",
       "ApksN5nEewQu9WBLXjYjlmbIob+V85+zvsGg37mGzhZRtFyG86BagPA6wF4gkEmgckeWjt3nrVAP\n",
       "IjiyKheEyMYspcDwAg2l9NFoEbJZi7CvhGXS3musClGUcB/nQT0FIeTBRyCQiaMcYh1ut0CxrJTs\n",
       "2F8XrFAP4rjAFlr5Mmux9CLDCBoylI2wqafUpGcJdWwXUb62FXkPChD6DnAaCGTClKNFscGt3pvg\n",
       "m2CFehBFhVA32wc5tsVS8wz9aJsgjspuNA0bvimGKYZ1GOh4rpRKE04UJYBAJkx5sFj1gllBx/P4\n",
       "eKmEt7M1jRX0GrhqW2c2DjYrtMrQT4Ol2gFHfVPMogwZYiarjaY8sCNx83rhtkLPAHtgL8K9rQbn\n",
       "wQgeS6BgSZhw08mDCUJ+ascCeXFV0zLo6MQOAUFAFBHlULlLxw4mXXmQpLWZt+KOIoBJQStmhfMM\n",
       "KIFU4xJEjIQBo54lDNB8bCg+N1ozmUyUQ+EwHUt5Y7U1I1jhMllrCLUIs1yZjIph7+BL1EGhMxjw\n",
       "XslA6mV4dYXzAO3YHNra20Cg/cC5UbQfzj+mXDN30qx9663x1bRghXqA6yW+OjmxWG0pBhQEs8OV\n",
       "BzWcB2ui6jBOMStOumu8B6+Ht6HnuA24ikIzimPBelzGLzfITKIcb3H4OZJpiHvTole0Qj3AcQJt\n",
       "osuYhYuzDXaZ+9UipQz+XYV9RHkCHCueZZ3lZ/5kG/7KQ90PQV1F1K+5mnfAGqpIwXMfnIzVxP7s\n",
       "Pecg6+wUr40UNzPE2qczIldNPhGtaAbr7EJGvSO4s4MZOpj19AfX7dZ5RpKoTndd8Xa1GW5mhF0K\n",
       "swfE9m+6KLUSN+upZ349s6u7DvoI+TAW/J0yw+x6P690fmZcfinoOVNqRSu35Gq+njn4g69M3SRo\n",
       "Yub2L8Zf/cr85ML/kc6ef6b6FxYHVcFDjVVgAAAAAElFTkSuQmCC\n",
       "\" style=\"display:inline;vertical-align:middle;\" /></a><br>"
      ],
      "text/plain": [
       "merge_series_conditions: (x_{0} = f(i + 0)), ..(x_{k} = f(i + k)).., (x_{j - i} = f(i + (j - i)))"
      ]
     },
     "execution_count": 114,
     "metadata": {},
     "output_type": "execute_result"
    }
   ],
   "source": [
    "merge_series_conditions = \\\n",
    "    ExprRange(k, Equals(IndexedVar(x, k), Function(f, Add(i, k))),\n",
    "              zero, subtract(j, i))"
   ]
  },
  {
   "cell_type": "code",
   "execution_count": 115,
   "metadata": {},
   "outputs": [
    {
     "data": {
      "text/html": [
       "<strong id=\"merge_series_equiv\">merge_series_equiv:</strong> <a class=\"ProveItLink\" href=\"../__pv_it/common/3c706e39afeda6ef3f3e208fef613c958fffb9e90/common_expr.ipynb\"><img src=\"data:image/png;base64,iVBORw0KGgoAAAANSUhEUgAAAI4AAAAtBAMAAACKW057AAAAMFBMVEX////MzMxUVFR2dna6uroQ\n",
       "EBCqqqqIiIgiIiJmZmYyMjJERETu7u6YmJjc3NwAAACgK8IjAAAAAXRSTlMAQObYZgAAA0tJREFU\n",
       "SMftVs9rE0EUfk3aTZrsJv0PEqhnWTxoq5dcBFEhPYj14CF46kHa0hwkeDB4aBV/EBAtCpYoXioo\n",
       "xYuIvxZRUushe5MKlj0oeLA0QqkgQXwz82Yzu5tdy3p1IMM30/e+mX3z3vsKkLMh1pj2rT/Eo4GE\n",
       "410/jsmjNz1LoxGTBw54VmknLs87z+pbXBrIlNRVDX+tuS/V2UiffhZJT0ReYsRMYyHdhGo1PKbC\n",
       "AjIjtJFCDoMH+uBDNpZhHomtZHfQMUytGMYjLAA0uTHAFnXV5ASeBtkVDHgJuqH34Ra+MdDx8QDk\n",
       "8dvbI3AyPED52b/wzLOpgN9dcOBaOA+zgNYtWg3Osanei899FmfNugApq2DBQhiLsIDGURmvvCXj\n",
       "LMc4QLnyGjbZfSZB/4VbbTTwAmGhO/vI6fsUTsOmynME4M251l2bxWcb4BIelGbvdhEIsB1hwZLk\n",
       "2HMcFjwFJQm8dSHeS7OC39TDv+X7dZFjtX+dphosf5LB3FFeaEJyN01/ncIrCarj7EmCJdGDKZlE\n",
       "+qjj7xu+PhZsjspOVk2irK9R7L6v7vmqBm8jdqMY3Qv/x7+MTS/SnF27TKuCqPP0el9zOEqsQOS7\n",
       "6ItL5KKd5mLoCmKGg9GZCkcJG9YidXT/DrkYRZ7UbmKv82O23xLCkooSj/bxkmsoikwW2nUelI5E\n",
       "yDkRwTMDPUMhhiSIOd4fk3WJcDyI4BkDxZCLIQki0yIwbl5ucNRaFE0ybKyfuk0urfMkhiSIWVsK\n",
       "AkPmYVx8irjPT+nSGLJFk6ZGna6weWuEo1zlDi6mwmlyP8jFcPIVIYYkiEMlGT5EOj+vEM7D34O5\n",
       "6FC2hIiRkAmeMUJaN5qHvYfiovCI73pCKFsUIhI2+N+FyzKJoRBEivMkoXbFjIzz0Kx00XfAE2f+\n",
       "bPo2oTLrszeE/AVVEeeSdOERYGJIgsivNdghlPiM4J6Qv54YcnCVWZddl+E6iaEURJbkyRUl3fV6\n",
       "P0GEs2w65Lqk2aVWoSeIWHRnMrZbsaJOg4IIeH2t+IhcBiyWcZ46RSW6sqZq0lpfQdSRPf2iSYZb\n",
       "5jP6J9rtG9iUPi4pHY1LbFDVDParOWSYqNl0cE8QfX3V2H1f3ZCC+AcYTgHyQ289wgAAAABJRU5E\n",
       "rkJggg==\n",
       "\" style=\"display:inline;vertical-align:middle;\" /></a><br>"
      ],
      "text/plain": [
       "merge_series_equiv: (x_{0}, ..x_{i}.., x_{j - i}) =  \\\\ (f(i), ..f(a).., f(j))"
      ]
     },
     "execution_count": 115,
     "metadata": {},
     "output_type": "execute_result"
    }
   ],
   "source": [
    "merge_series_equiv = Equals(ExprTuple(x_0_to_jmi),\n",
    "                            ExprTuple(f_i_to_j))\\\n",
    "    .with_wrap_after_operator()"
   ]
  },
  {
   "cell_type": "code",
   "execution_count": 116,
   "metadata": {},
   "outputs": [
    {
     "name": "stdout",
     "output_type": "stream",
     "text": [
      "These common expressions may now be imported from the theory package: proveit.core_expr_types\n"
     ]
    }
   ],
   "source": [
    "%end common"
   ]
  }
 ],
 "metadata": {
  "kernelspec": {
   "display_name": "Python 3",
   "language": "python",
   "name": "python3"
  }
 },
 "nbformat": 4,
 "nbformat_minor": 0
}