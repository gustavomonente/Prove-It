{
 "cells": [
  {
   "cell_type": "markdown",
   "metadata": {},
   "source": [
    "Proof of <a class=\"ProveItLink\" href=\"../../../../../_theory_nbs_/theory.ipynb\">proveit</a>.<a class=\"ProveItLink\" href=\"../../../../_theory_nbs_/theory.ipynb\">core_expr_types</a>.<a class=\"ProveItLink\" href=\"../../theory.ipynb\">tuples</a>.<a class=\"ProveItLink\" href=\"../../theorems.ipynb#empty_inside_range_of_range\">empty_inside_range_of_range</a> theorem\n",
    "========"
   ]
  },
  {
   "cell_type": "code",
   "execution_count": 1,
   "metadata": {},
   "outputs": [],
   "source": [
    "import proveit\n",
    "theory = proveit.Theory() # the theorem's theory"
   ]
  },
  {
   "cell_type": "code",
   "execution_count": 2,
   "metadata": {},
   "outputs": [
    {
     "data": {
      "text/html": [
       "Under these <a href=\"presumptions.txt\">presumptions</a>, we begin our proof of<br><strong id=\"empty_inside_range_of_range\">empty_inside_range_of_range:</strong> <a class=\"ProveItLink\" href=\"../../../__pv_it/theorems/d1d9733951bb886104bc0cd2cbd4783bc0fde2b80/expr.ipynb\"><img src=\"data:image/png;base64,iVBORw0KGgoAAAANSUhEUgAAAo8AAAAXBAMAAACYFLhPAAAAMFBMVEX///8QEBCIiIhmZma6urrM\n",
       "zMxUVFQiIiJERETc3Nzu7u6qqqp2dnaYmJgyMjIAAAAcRTyBAAAAAXRSTlMAQObYZgAABnRJREFU\n",
       "WMPtWW+IFVUUP7vv/5uZtyFFYAXLvtj80IeXfhDBlSdBVhT7tg8RFbRIgYaKYFSWxMNAVkF69EFN\n",
       "kR0tsvzgjkiFQexgoKIgQ5K4hPVCC4xaFtHIXYvOPffemTv/7tvdtm9euO/dO+f8zpz5zbnn/hmA\n",
       "/6ccFDXoRYrR6mij5MG8cB2snJyd93HQyURNKWmz7pWF5rHc5BXg42pLtNSSb8J6LX7pCoDP4teP\n",
       "23pcZyvrIK99FUn+GosJlABETSk5z/q/LTSRlRavABvGHdEKEenBMR0+f34G4Hr8+iXQ4zpb2Qjl\n",
       "tg6T5K81TKAEIGpKyT4W/c2FJvKiqFC++YloRYvZq8GPPV0HqwZzxs3KyildEKf5eyoReDGQVGz0\n",
       "zVloIreKCsaUbMVcvkeDH8daSB6CWtysrBzSQFL9PZQI3BpIrHNHj+5daB5Lm3nFd+S3YuWaxsAZ\n",
       "rGleXZu1GylWKvV0SKq/DBQDkqaU/DUysm2hieyu8QrWY1tq1Hpm/Yf9vS/3C08OL8WfbzWZ4f5l\n",
       "AFWA7OmP+tbmTr0qg7GvqcelW1kqLFQxMZi1VIjqb1XmkMNLgINiQHpGKXkNYOfcaIoMllxco+jx\n",
       "CtDTy1vuSG/5Rt0Qw9JdjT8/am5xA+tu9K+4HcYehuPiagYe6oBLt8KdNrPogaWZbVR/b4trtS6P\n",
       "gzjwwiQrV+Vz+pLHxWy00pMUA/ySeJOsiH5VIdcEox5+QywxObwCjDaolXPeg9IdsKb4iHBW4e9X\n",
       "mtRwC3/eBXip0IZRF34SlydgRo/TWGnQpQMZfFZjczpG9feWiNJWj8NBMSA9o5QUoJtRaPa5jBf+\n",
       "4pInnyL/W68o5JahhRVBcIpg7arzyvM9tsrlm2BMs+UjDTCKlVc6pPx7AeyxOozbuPbjxc5O63Hp\n",
       "VsS7sFnE5ab085PwV7x19HbQ5qAYkJ5RSkyv0CkDh4jMuXKVRlGKRH4a0wyIPCN6+FCZzdAl0o7R\n",
       "gRCW8hkF7LmWAywKXZ81kaqVTZIoW0+k4m++rV7sTGSp/TwlB3uWROYbapcRGV9vB0N7h+jhkCq4\n",
       "MNjidykO488azZ2G+aAETAHbIHu7LKfOmh6XbuVvYWKH8DmtKP72eJKSqwLEgTxH/uoPbV+yk02K\n",
       "1gcD7Fo/n9pQbg08V+3uZ6SxlkJkQSgERHbL3SyHhyabRaLX5QIOsFUlnhPGHFc7aVDk4jQBD+IK\n",
       "GR/qgFxhO3OZbBQrxrTJh+mMqZ9sFH/HbTH2yjOgTjaRSTWQnCCeL9NgoLjMZJlotdf1ejd7p6zV\n",
       "CojcKxQCIo1hWDeCxTNlWPtrBaSBt0brbID9bsIYgw6yk4SVUP6HkcO2WKzh94BxTsuc0k02xiqu\n",
       "SzI+MGM4goR6QluxYra/p4vZqYPovpsGDvl7wWpwbygRIYhqOHnUVEkPJa5l7Gc/zYifm8jf/keg\n",
       "p05y1rIDIp8UCgGRWbnD3C8nVD/as1Oit4ZWdCcmoPAOSw9X+Mz/FtotMFtvgvghMQwCH8KIxIWA\n",
       "MdAiTcqXcRw1wj2urVgpbXT4xY34BisNfpswmMSqv3t+EN5kaNnd4DW8jglJLLrrbpJsDyJ2LQyJ\n",
       "PLcWVitD+wmusGny58lJj0zl/IjfHt0imk2Ibrm+lqtrFsvxxEzisxDd3HHNLem48HxtJ1jxQUcU\n",
       "LyKYqL+kVqgJ0JHELWJEch893DRx3tOiC0tgNMdFK3MBkS9IhSAih5FWLJ6AB4cWX1Y82fOLqxw+\n",
       "mHEOXJYq/qD1m7qPYJov0souBRcecpBgxVTPH9xETMxfVMvZtAbteGgh4wPzwD7baLulXYChuM8u\n",
       "TWEkXjZ5640vAiIZ+UN+l61ELekVwmUWblF9+5jf828kN15MdDh+JIHiwi4e4uqGCzVLd4q1VFy4\n",
       "MHnMigTRuVdvIibqL1Mbdd+XoPgkVWxFJSyyhpzyhlbuAcBQHHIwzK7DnnO89ainzNo2UxDd0vI/\n",
       "eyEjl6AIDx/sfrfC7/m7WdlgDxg/Amdiq8rNqEeylGwG0nHh4iVZ8ZSXbCVjov4ytXzVCyIj4WA3\n",
       "IqERQBnRoFQX7G2cyDqy2xG5sOgfjMznU4M1z08N1n/+1DAxn08NEynAgxFJ5VJDfg45mX9qsfJl\n",
       "RPlGIphrMgWVyG/gbvEzbZ8/6rz86ZYS+lZsr/0sU2CvWoZ37S5/cyuZWIzysW7fpQbgX1w9MQqY\n",
       "48FeAAAAAElFTkSuQmCC\n",
       "\" style=\"display:inline;vertical-align:middle;\" /></a><br>(see <a class=\"ProveItLink\" href=\"../../../__pv_it/theorems/45a78f0cb1b2cc6c99e6ba8414003e3b275869620/dependencies.ipynb\">dependencies</a>)<br>"
      ],
      "text/plain": [
       "empty_inside_range_of_range: forall_{f, i, j, m, n | (j + 1) = i} ((f(m, i), ..f(m, b).., f(m, j), ....f(a, i), ..f(a, b).., f(a, j)...., f(n, i), ..f(n, b).., f(n, j)) = ())"
      ]
     },
     "execution_count": 2,
     "metadata": {},
     "output_type": "execute_result"
    }
   ],
   "source": [
    "%proving empty_inside_range_of_range"
   ]
  },
  {
   "cell_type": "code",
   "execution_count": null,
   "metadata": {},
   "outputs": [],
   "source": []
  }
 ],
 "metadata": {
  "kernelspec": {
   "display_name": "Python 3",
   "language": "python",
   "name": "python3"
  }
 },
 "nbformat": 4,
 "nbformat_minor": 0
}