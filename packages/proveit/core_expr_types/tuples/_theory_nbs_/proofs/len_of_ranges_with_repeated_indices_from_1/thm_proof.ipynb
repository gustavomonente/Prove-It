{
 "cells": [
  {
   "cell_type": "markdown",
   "metadata": {},
   "source": [
    "Proof of <a class=\"ProveItLink\" href=\"../../../../../_theory_nbs_/theory.ipynb\">proveit</a>.<a class=\"ProveItLink\" href=\"../../../../_theory_nbs_/theory.ipynb\">core_expr_types</a>.<a class=\"ProveItLink\" href=\"../../theory.ipynb\">tuples</a>.<a class=\"ProveItLink\" href=\"../../theorems.ipynb#len_of_ranges_with_repeated_indices_from_1\">len_of_ranges_with_repeated_indices_from_1</a> theorem\n",
    "========"
   ]
  },
  {
   "cell_type": "code",
   "execution_count": 1,
   "metadata": {},
   "outputs": [],
   "source": [
    "import proveit\n",
    "theory = proveit.Theory() # the theorem's theory"
   ]
  },
  {
   "cell_type": "code",
   "execution_count": 2,
   "metadata": {},
   "outputs": [
    {
     "data": {
      "text/html": [
       "Under these <a href=\"presumptions.txt\">presumptions</a>, we begin our proof of<br><strong id=\"len_of_ranges_with_repeated_indices_from_1\">len_of_ranges_with_repeated_indices_from_1:</strong> <a class=\"ProveItLink\" href=\"../../../__pv_it/theorems/498b74179f292d4ad58d56f7f63d17ab7aa8905d0/expr.ipynb\"><img src=\"data:image/png;base64,iVBORw0KGgoAAAANSUhEUgAAAqUAAAAyBAMAAACXCr/TAAAAMFBMVEX///8QEBCIiIhmZma6urrM\n",
       "zMxUVFQiIiJERETc3Nzu7u6qqqp2dnaYmJgyMjIAAAAcRTyBAAAAAXRSTlMAQObYZgAACHlJREFU\n",
       "eNrlnHtsFEUYwL973+3tto3hEfB10kT5A8NBEwmxlUMTSdTIwR8mJiQ9URIwEM7UyDOk4Q8oKPHC\n",
       "HzyDvaJChWiPmIo10V6KioqFi6ABFWmCmmACaVog0Cp1ZnZndm939lHaZLvlS/Y6t/vNzHe/m28e\n",
       "38wVwF58Q0NFGD0RUzD+RMgoH25oqMqJvq9jb34Uq/8RxqO8qLDdu98Z0/RoVu7PaN+F8t7FWGa7\n",
       "1EPvusD0GKcjiJW09w7IfzqclUe047m7MUWp1mlmWb2DmVbeib3jHlNhAodpK3kye66s0Sg/Clt+\n",
       "VK12uBFWDMMCJadSLRLrzO9X51T15cQs2bRypi0p15hGkxymVwjDU4PkVgUyOD4VffYeq3K02uES\n",
       "fOLcAppTrvYYcmDrzCs7C6r6KmKWbFo503iVa0w780amEuHc9pxs41mAQ98OoESXVTkabVJOwrEF\n",
       "NCeuVli5Om+TWbj+AVMn0kVN001gNrrGtIEzsYoQV+pUbq3D9mOmLZbfjUYbf/Iq598qTZBqL+Vt\n",
       "Msd7teqKWS0cpp05l5hKtzlMd5PkSWUkyFKmFVYTWa02lj8dm3CSJki1mKllZjGrVVfMIqbpmEaS\n",
       "LjGNNHKYVhMnnlwjz7WSlKmYNC9Hq31wNkqccGoBzalUS5haZJZmNSSZulCdkM0ipumYEpvdYFqf\n",
       "4jDdQZJ9yB5EPFqi9klWg5RGuzgfvf/DsQl9NLGDMbXKXJlQ1cVglWwWMU3HVOhzieks3kJ1A/Hi\n",
       "GxCqQX4WKVCm8azFXFHVjhWeQjeOO56U3qCpDYypVebmtKq+P9Ajm0VM0y+yr7nEdBKP6QQ6FgSR\n",
       "qb4UZRrqtR45FG2BtLx6pxawMUeuljCtdzKkIfU8brTYLGKanunMnCtMQ/+ZMsVjgXOmWu34wHCY\n",
       "sjHHIdOTWnU8EzRl2lxyhan/tqnvRzMyJdX3gxa+r9XGaVjgeNGRAalucXWZ71tl3oKGtZ+nJWX1\n",
       "LYpZQZ7v+zKuMI1WgdkY5UvIpjobo7TabYXiMMYolFOaX/LlnI5R9wGcexCmEHVhUDQfoyCadYWp\n",
       "r5HHlExl2lIyJTJN8WOmgSK0Ydvxi3BHScgvZdoLcXCjVlZhepx3LOe+x6Ayr1Q7EzOtNVcXrkPs\n",
       "YBYGiHqw9wAxi1wGpmKvwpRkvGjHtIJMwEojZtqW5DElrrdQ41aBV+7UoYl1GiLr8ZwW+9RbNEFu\n",
       "lWmHsfl/AazJa/VwovydmnMpzFeqfeLhyyWTzLJ6EIEKJ/AcCquvKhGzyGVgKt1QmJ7Cf/+xYyri\n",
       "Tq5i5LHO+gSYrU2/oz3oOvrsMLq+MJZBbum1BTzBsbOP5ZwItSF1sWmWmaiLjRhAoJhm6oeVy8A0\n",
       "1Kcw3YOnbI12TInGnlGIoBR4TKUkxDNX6Yz0LH2GAxVFYxnollEbh0FEu9ppzlgvvNmuBkXMMuO6\n",
       "P6tALbMZIs+nbWMoIPQrTHHjEwu2/SluyadGzvRSmscUtkFkO+qEYnNuok8XVdoDCaoZI0b4llEb\n",
       "h+sO2gVOac5gBmaUSLVgkZnUvRY/exb83UzdLNaH5KbCVPrhyJHd9mPU70eOfJQdOdOZOS7TVpCq\n",
       "2RMak8a0JM4CHF8Gbfx57bp7XU41Js3PTOr+aa5eHZsVzXGZ3qLj/q2mpo18P9EyrWxq2locOdMz\n",
       "+l7LTxoud+/kgrMiibY0kr0TaVh7JxeYaX690z1EmS5TfUAryXKm4bT85QS6Obq1DAkJ9UBKDTDp\n",
       "ZN7Ih7kxLJMp02f4mxQ6psGkvMPQNYOz2pvGWvDL5FV2x5ASo234Gh7JKM9Xj2ek8AZlGgG/1vMo\n",
       "Ah1TyMLjZqFfQ+xYnUYcPVEHn4v5QP7eYiqWIkYEJ2oaagplTLuBDFEDvAhj3oyp9Pa+PHyZSIr3\n",
       "hu+voUxjPS/xEOjb6Xsh7L/n+znj47t1NPl0RmUafBT3K0ja23cypmdy45kpG6Ng22ugRGq0CPRM\n",
       "o7vI7Jy3OjivThYGVKYiar6ko24XP17C5lJp+2G4TDq8xHQSY/opcmo5UqNFoGcan4OTAXT7dX1R\n",
       "NQzK0azKdN9xEEgh7VBk+z2XUhYmtRruLLc5ODHGpJ8xxbFrEqkpQ6BnKm/jREuwZKq+qB1qtCuh\n",
       "6U83Q2htU9NmVOAB1mN3WjG9YrizyubgxNgS4V/GVMorkZoyBGk9019pcr2+rIlq2OlDlakwkIaM\n",
       "/CUFF7MYisVaR+Juk3Z5hymLoTAutSEjAkP8tC1PmO7Jx7bTFwQPpCcvFgG9+0pUmcZ7ivANTpxD\n",
       "K1s2RbDYXo5w3bzFO0zjg2VM5UiNAYGBKY4hIqaLCqEpsCiHXwo45BafjmZaofvh0PeadroyB1E0\n",
       "HwtuSkGYcbNwZX7UwfLgxNgS8XYZUzlSY0BgYHpWZgpqIKtAfHYZ3muPG+f801FnopWAxbYdXte+\n",
       "sGJnNQtFsRMKHpFwb7nv8xHomV5dJjNVT2zGcxW/oMdZ/znNvKfRvM/UrxlOX8NymQ51xaaEwLYB\n",
       "2QkFj4i8MTTc/agu1HAW9xc0ITgJrfbxafZ4tyZcZs40NGhezQb0uLBJOdOAx012QsEj0py4G6YO\n",
       "JWkzLebLBPTdCNdBwh5ENtnYCQWPiEtnJmCeJVN8SCRMnJ3s0NETCh6RreAO04UpXn/6t+L7gLy9\n",
       "ssTiLPSEgkfErTNoEfN+AY9RviJqnEU67tMTCt4Qv1tnJaUB00d4RdycgtMSrY6dUPDIsJ9xiSk8\n",
       "YPpkgXzt+k1d7isnFLwhrp091/9GwnZtetgz3ellcItpRXKcxlDiU11jGpto+oi3feudWJ+Lvzmz\n",
       "OOfdyrkX9UxM+lVwj2kgY9qEOcHVC15BynaVQm781nwpjEcZ7m/NR/d/IgRS4xCpoOzS4f+J8D/k\n",
       "tpH4X3kwowAAAABJRU5ErkJggg==\n",
       "\" style=\"display:inline;vertical-align:middle;\" /></a><br>(see <a class=\"ProveItLink\" href=\"../../../__pv_it/theorems/7060decd684fdea3b2ab41d8ff73b77fc96369850/dependencies.ipynb\">dependencies</a>)<br>"
      ],
      "text/plain": [
       "len_of_ranges_with_repeated_indices_from_1: forall_{n in NaturalPos} [forall_{f_{1}, ..f_{_a}.., f_{n}, i | i in Natural} (|(f_{1}(1), ..f_{1}(x).., f_{1}(i), ....f_{k}(1), ..f_{k}(x).., f_{k}(i)...., f_{n}(1), ..f_{n}(x).., f_{n}(i))| \\\\  = (n * i))]"
      ]
     },
     "execution_count": 2,
     "metadata": {},
     "output_type": "execute_result"
    }
   ],
   "source": [
    "%proving len_of_ranges_with_repeated_indices_from_1"
   ]
  },
  {
   "cell_type": "code",
   "execution_count": null,
   "metadata": {},
   "outputs": [],
   "source": []
  }
 ],
 "metadata": {
  "kernelspec": {
   "display_name": "Python 3",
   "language": "python",
   "name": "python3"
  }
 },
 "nbformat": 4,
 "nbformat_minor": 0
}