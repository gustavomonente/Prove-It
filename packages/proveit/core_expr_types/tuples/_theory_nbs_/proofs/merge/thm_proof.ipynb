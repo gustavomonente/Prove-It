{
 "cells": [
  {
   "cell_type": "markdown",
   "metadata": {},
   "source": [
    "Proof of <a class=\"ProveItLink\" href=\"../../../../../_theory_nbs_/theory.ipynb\">proveit</a>.<a class=\"ProveItLink\" href=\"../../../../_theory_nbs_/theory.ipynb\">core_expr_types</a>.<a class=\"ProveItLink\" href=\"../../theory.ipynb\">tuples</a>.<a class=\"ProveItLink\" href=\"../../theorems.ipynb#merge\">merge</a> theorem\n",
    "========"
   ]
  },
  {
   "cell_type": "code",
   "execution_count": 1,
   "metadata": {},
   "outputs": [],
   "source": [
    "import proveit\n",
    "theory = proveit.Theory() # the theorem's theory"
   ]
  },
  {
   "cell_type": "code",
   "execution_count": 2,
   "metadata": {},
   "outputs": [
    {
     "data": {
      "text/html": [
       "Under these <a href=\"presumptions.txt\">presumptions</a>, we begin our proof of<br><strong id=\"merge\">merge:</strong> <a class=\"ProveItLink\" href=\"../../../__pv_it/theorems/d1fccad8c352771c41930d401a8c886e73d8ee4c0/expr.ipynb\"><img src=\"data:image/png;base64,iVBORw0KGgoAAAANSUhEUgAAAnYAAAAyBAMAAAAjLIuZAAAAMFBMVEX///8QEBCIiIhmZma6urrM\n",
       "zMxUVFQiIiJERETc3Nzu7u6qqqp2dnaYmJgyMjIAAAAcRTyBAAAAAXRSTlMAQObYZgAACVdJREFU\n",
       "aN7VW32MXFUVP/vm+82b2U0tkKCSoRuV6B8M9A+sljCRSJEEOzXRipLspELSNUXGNJEPjY77R91S\n",
       "iU9j0gaz6ROwQIndJVprjXUnFkGLCRNWCSTqjqH+oUk3m0KJ7VLjPed+vPvezLyP/ev2pvPmzOk5\n",
       "v7535p6Pe84UwNTlNIy9NbBbYPT6s8k391mjTWcZ/dVW+ibf3QuKKvWC1Ml4ZaFSdkP8OfGeAGJO\n",
       "AgyA0Pq+waazNyryWfp88xZO7Ya8G6X41KQrVF7wYDrItztgf7fNPsRDMFHrO00CmB4m81ODo3Gx\n",
       "rsh/4yX/yhqnHgA70l/2LC4IldcBjgX5VWayKgLHQ6DoMgc4NkymPGGu7RY9FVrIivN3NQQF8Puo\n",
       "/frO06AEwakF+EuMGF9IBIGiH+cAPoi+vmWu7fYqqkD+tago5i8ReuVVTRDsiQD/Efba7iWCQNEN\n",
       "HMAeusUWXWPz2EVFHqTry4pibhcRa5y2JghwVueX2gIoHgJFSxcEwNlhUoW6qbYrdBQ5iZelazYT\n",
       "ZU+iE42+7cpNe+tcxd6EEKd1voV6b8GpLfEQKFpZFQCnh4pdMtV2U/6+eJyu5znlZCeii6vxmlDJ\n",
       "wAfZ9R86v8gqF3vN+vHleAgUzXcEAIE4K7SUze3zptruJp/8JhVsFzj1kwx76HJ7tOLhplB5E1hi\n",
       "hhM6v8DSRPnSR+1ePASKjtUEwImhYium2u5qn9yo4jejPNwUudWI/CxVvCw61ZTOH2ObOfM++hgH\n",
       "gaJTrgCYGip2o6HJInc5ZDtKARtF7RL14C8HVaZ0PhqksGsmznZS9HqItN3hnqGH2Yshny22BLWP\n",
       "vbIRDrdPqVARvE3noyPONw43EkCg6D5bAGzT4p1/yh4z9MBd1EoqyhVjIgXYa050oN+gVOYX9FyB\n",
       "fEwAy4zfjYdA0cuOnisG77Ftpu3G/BKFVwjzDU5lV9kZPdOFeXx2vNj/0wl2JlAqdDLZqvOxMNkN\n",
       "482uglDaYQgUfedJAuCvIWXgKtAX8HfDbDevlV/kMdsl9QDbENUmFB5Fx0Kv+YYkHkJbZVeVyi14\n",
       "+ZfOR0c9ANbNng+htEMQKLrU5QD0GlLgXYBX8P0/ppV32hGSDlh/BO2o9Qx7/WbwKIUP7nSUIJ7q\n",
       "7HaA/4gSjoUQoghgD3fO3Hk4hNVTx7ROwIL2/dah3DrndwX4Qb476EPs9atqTwh+iSpCOsr7/CUl\n",
       "HAux5DcThvcCwH4bqszWzoJhtltuah/2Q+GxvqBANJDswefB6PSw6BftL71HTaxjQX5R9QhiIYTo\n",
       "yB4UW+9C5czRowdNyxWBuvNZqEy6fheUHqsyqIPb5bUtUmXXrdLYGt+W/hUPIUT3q29scP2X/Zmd\n",
       "TdyLKoVcflDCjRMYKasLv+rp/2io5/5mgvvkKpVRPfcEEHMSoDLq/HAdwP3Cslt7smmBWYiV1bSn\n",
       "7QeJI47mXcHlBWy93BiMGEKBwwwIaOoUXVQKy3VAE77NA/PXNQC38w60swlj5z0831CyavglAvAd\n",
       "nHcllx7XBeEisHNrw6Ij6LRWyiOMEMjtfRGub/mgIGRBBtrc5rYSZuvBK8B08HX2OGD1hnUD5z2/\n",
       "NBW2u1dxxTqCO/O3m3vlzhn4BJqgG+p2ocDzp2+FXztexoOAek7muTyIgurIFWc7p1egrlXYTbbp\n",
       "7TNuu/v1XUVeyWLBGyePQvm1DKX8fFMq+AKVA094cKpWdwAC6nmZS4vSdlX3ivLZh1hc7X8Bo+IP\n",
       "MDF9is63T36SNlzuw/h2UbNdW3HxaRnBdmwWa4Hyl++poe0KSkHAMIHbkT5+/EeOBgpc1p5c0G1n\n",
       "qaTwqnsF2O46zMH3IfUG5QJqJNfpFwPnfokOlpvwbYdNfM6lUM92arkFVYpszTN/RdsdVAoChglQ\n",
       "aXbc+fm9EjQ/y9bjKJvJ9nXblVVn4sZm+keZC2XZpCPw0fPrBD3GX9CZYzNiPY+k7b5EpR/dv9Xx\n",
       "bZftSC6uJ04Q5yluO4cmAHcqBQGT7dh0GDgO3dM+KC0m+5zT0m2XVceb5UbqJ+EFmZpsJx2Bf+TC\n",
       "6Pl1zHobRIufh6liTcW43IYDGofbrsW5d+LG8WCGCfVhJ6Nr5Waph2a/gxTE3yNMrp97eHZ2htlu\n",
       "ruCD0rqDt3q+tvLPlZUe2S6nGkOL6W3Hg6WabCcdgVdWI88OUV/WexjqyAmvotz6M5AxzurswEp4\n",
       "7PO+7VgNJrike6mJ1szzfQefRiN/USkIGCbQ4vsu+zkJmsce4jmUhXE3sO+Uz06l78ku8f7R05Bu\n",
       "BJ7pRJ1ZI3vbathjX4LSY/A7Bw55GLIOecXaTou9jVu+7ew2EFdUb/0uVLrgoBdWGoxk+s8wc1gK\n",
       "HEdaXfgD0n8B+JsE1VoZO1SexeFLRZ3Ox9MPP6nxEZhsJxqBj9Ui5teRq7wmKfa9594PR/4EOxYw\n",
       "ZO1YqLr5D7G3zItann0UiCusvceFTAM7Yqz0OAvQYvoFD4SCCJVMoMicI/vtBtugAlTmWbbdb5C2\n",
       "K93ybo3QxN/10z4Jza2Dk+1EI3Acio2cX0cu56LW6eHHCVbqY4wTBb+s+7ntPjYQZNBELN7Jc4Sl\n",
       "N2QQBgVumJ2BIBo3Lfs0o/adROMrs5r2SWhurSbbyUfgyxAxv45ceXmP1debIquX3ft+6MmkrXJ3\n",
       "BwJPKdepwKeTUo4WwgQFQpVAJ/+ZawOovnD6oXuRIqScbCcfge+GqJlE1FJzAWeTaMFABfZMqwaN\n",
       "6tNwuWwohNv1cAvnbi2TTYcFQl2fu/MvuXpzRhPOraV9kgLtaTnZTj4Cx8HO6Pl11DqcNL3U1c4K\n",
       "OMrA0Sm0tayos1W4INWFr069Cyi4ycl24hF4DoPW6Bls4h6jSeu29dlOTbaTjsCtiXXb7numnhW3\n",
       "N9bls2qynXQEXmx52vw61TL2tzypf93Gc4WcbCcegY/3uuvMFZaxvyFLnWipIFGTbX0EPnJ+jYLj\n",
       "d9Wi5tdRQaJlbIPnAynlyUH9ybY+Ah81v0bBCtps9Pw6Ypn7m1ntt9opzmTaZBuSjsAj59cR6y1z\n",
       "G4vVtAFvSZ9sq15Ad9C5ISy4rl5A+VpzbVe6Km2ycP3JNt9O/fgROF3X1YMy+f+mpC707Y422RbG\n",
       "jB+BSwvuT3t7XzHYdJBJm8fCPfekI/DI+fXIOqBjsu1gl8k3Z/b/AdW6eeYt+6t4/T/HIdOP6iXS\n",
       "1QAAAABJRU5ErkJggg==\n",
       "\" style=\"display:inline;vertical-align:middle;\" /></a><br>(see <a class=\"ProveItLink\" href=\"../../../__pv_it/theorems/02bda6ecc18dba8c7187a5d4b7e38a17c8be799e0/dependencies.ipynb\">dependencies</a>)<br>"
      ],
      "text/plain": [
       "merge: forall_{f, i, j, k, l | (k - i) in Natural, (l - j) in Natural, k = (j + 1)} ((f(i), ..f(a).., f(j), f(k), ..f(a).., f(l)) =  \\\\ (f(i), ..f(a).., f(l)))"
      ]
     },
     "execution_count": 2,
     "metadata": {},
     "output_type": "execute_result"
    }
   ],
   "source": [
    "%proving merge"
   ]
  },
  {
   "cell_type": "code",
   "execution_count": null,
   "metadata": {},
   "outputs": [],
   "source": []
  }
 ],
 "metadata": {
  "kernelspec": {
   "display_name": "Python 3",
   "language": "python",
   "name": "python3"
  }
 },
 "nbformat": 4,
 "nbformat_minor": 0
}