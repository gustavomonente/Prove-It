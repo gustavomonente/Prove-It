{
 "cells": [
  {
   "cell_type": "markdown",
   "metadata": {},
   "source": [
    "Proof of <a class=\"ProveItLink\" href=\"../../../../../_theory_nbs_/theory.ipynb\">proveit</a>.<a class=\"ProveItLink\" href=\"../../../../_theory_nbs_/theory.ipynb\">core_expr_types</a>.<a class=\"ProveItLink\" href=\"../../theory.ipynb\">tuples</a>.<a class=\"ProveItLink\" href=\"../../theorems.ipynb#merge\">merge</a> theorem\n",
    "========"
   ]
  },
  {
   "cell_type": "code",
   "execution_count": 1,
   "metadata": {},
   "outputs": [],
   "source": [
    "import proveit\n",
    "theory = proveit.Theory() # the theorem's theory"
   ]
  },
  {
   "cell_type": "code",
   "execution_count": 2,
   "metadata": {},
   "outputs": [
    {
     "data": {
      "text/html": [
       "Under these <a href=\"presumptions.txt\">presumptions</a>, we begin our proof of<br><strong id=\"merge\">merge:</strong> <a class=\"ProveItLink\" href=\"../../../__pv_it/theorems/fe17129cbbd0fa458b98e50d73b2f92d9c8a01510/expr.ipynb\"><img src=\"data:image/png;base64,iVBORw0KGgoAAAANSUhEUgAAAosAAAAyBAMAAADGnoywAAAAMFBMVEX///8QEBCIiIhmZma6urrM\n",
       "zMxUVFQiIiJERETc3Nzu7u6qqqp2dnaYmJgyMjIAAAAcRTyBAAAAAXRSTlMAQObYZgAACLxJREFU\n",
       "aN7VW32IVFUUPzs7n+/Nm5ElKyxiaqk2RRwzKGvLqahMqJ0tyiTRQRQUpBaMPjRoKCgzpIn+MIJo\n",
       "WkvNqJ1IjI3KQaMPjXwohZLlQB9goCyikbsY3XM/3rvvvtl54zjGncPOm3vvnPOb986959xzz5kF\n",
       "0JWSOegE2qL5/X3fEVqEcE3r2wsVOkON8KvWd/ex0n/L2zJLwRBcZFQZTtjsvQkIxjpaB8SleFVj\n",
       "LRoXKf0iXjf3lmgrWoRVDaWvn8tFzGkQLXnHt5G/S7AXDEFYrz1NAaKlZu9UK4pnvf0UfYzVuyq0\n",
       "FbXho0bS0X0TXMQqgFHzjh8jjd+wFwxBWK0xCmDUmrYbnWhX2ds/SCf+1Lu8RTbyTAPpkQU5hxFg\n",
       "t2fcwgmaaAoCWbuLDGD3pJwxja16jdJ/hnqzMdEiKp3SaBLAZQR4xzMeI4s0PN4UBLJ2ZRjAO5Ny\n",
       "mme01aKl3FpiiC6fIdEi9HsD8W9AYoRUTh7fxIGagEDWt/MMIJVresr1oVhRCX/QEq3Za7K0NXw9\n",
       "6e2ZXPrgJXO4yHAfKi0rj/eiYrPmwVIwBLIe5QDJ7KS8R8u6qnGpMvdxGnmkM6xVvT0gXjspRLJd\n",
       "5GrV5PGN6Pgq1w3YwRDIuhIYAAP54QTSb4obzeiqxtnq6qwANzDSSlRuI51PG4R7p7mIVUqTqzkk\n",
       "j69Dxzdc/rAJCGTtAQbggPgppe1B5mKl35UTbp+0DLpUlk4uTbciFDFggBhcZEwexzBvNrPQIAjC\n",
       "GkEnjQAOSJ0Dl657TORsXTV+w1vmeGMd0B3EFXE0QMdRjU/2ZaAJCMIamhKsxsRZXQ/UZ+oa9Yu8\n",
       "Fcfz9j0NYveCI4JuLDwkj6/D+DNxCpqAWIfvZQbAQJhv/DPAdrQ5w6gRHdtienhrpFJtuD9grMdE\n",
       "jAmQthg6vhFPJsZEEoIhCGvarspbTH16SVM1dhVVG8vSQwxvDWDKoB+Mf3EQLyM1qUGuOSFCzb+7\n",
       "Ko/voUfy06jGfkVahSCs6QUZCkBfk9F+ACr0i2ZqHFGDNGpS4THeiuL9/gHwFAZsT6IBF0RjLXIP\n",
       "OCLdeEnl5XFiyfEK9E53IRxpFYKwWv0MgL4mDRzzsA/f/9ItbPRFYniySxalM56BQYg/7v0ML986\n",
       "IjGcj62e8ZiTqwmEEKxb+avB7b6BW01Rt8RExXeqANiZsp0kBcsrJP2SxPTMwnEuEiljpEmzCu64\n",
       "5az0QAjB2jg1QY0nRaYjWdFMjUd9FhQvwdMfiZbIcg37k39EM7ENNc74dvUFYDkuefxlwRwMwVgD\n",
       "EmXEgRbA2rt9+ybdtphZviSpUYQDc0VLPKHtT2ngq7fEGaO9Nte7PL5NMAdDbHMmLt4oVZ4mt/TP\n",
       "+vXPNvt4CaXvd7veb4u0iLbf77GUIoLVfBHhsPq1XHVWs0WEw3VAvIEFWaor+Nrtt0UmhW5hcCV1\n",
       "88bjdCAn3Eaox5XuhR2+4F8IMBhTzS7J4uiE3P3vEZDQ5mmbM6mvRrJX3cnsPnkVBkYRNkPoK2NM\n",
       "BSzSZ4aEBYknXOlF0M0ndGF/LkRD+VWeo0EF5oLCIIkjmik6D94IDhrA4x2lRYiR00IMQjbUSUuO\n",
       "sBWxR1LjYrI6xz0ei0RcxudzbLO4F27GWagqSTwshssMsvhi0Sjw6TIKHazGpB2jblK1I76qNkpq\n",
       "XCGdTxkdAzg0uh3MA91oohDNCwGRQyp5GWTxFaJRFF93rEONOoZZ+drD6G9fvRWf8hq6xnrRqPdE\n",
       "aOeMpMYhPGI9INbMHaQxE8L0zPXoogxqKeYIcBiy0D0MkjiiDd/iUeNMZ4spdZZvRK/48nJsHqI7\n",
       "BF2T3fQHFcd3oFlHprhqxOpG6ucFwi6rpLETUjQ7l9/7I2ppkyPAYcyCl4GKr1xPyEa07P0eNe50\n",
       "Ap580E7ddLm/ca2+TWrEpfEJNbQ5eHmT5oPfT+Lw3/RRQkVXjWFyTTummPiAyM2HzUxLSZoJmO8I\n",
       "cBgi4mFwxfEjo/S1R43znfA7VyduhHMv94eeyzeu1beH0vTRMq4PfN5JS0V6XqHNjKRGot3BvgqE\n",
       "cTVtoB8tgYWknTHzCRsn424qwD9HmEjNy4DiQo0F+q3REyeuOHGcqXGJcxj0qbHFcv/R4CNIOzIp\n",
       "aGgW9edT6SyO0yWYLuGqGsTwuOshV40Rcu2LTBFTO/Ie6i3KFhvclWHBHxfgMERXHgYq/himPm1E\n",
       "Y47UWY13O2d9u86ZupVy/03BB+K2ZlIwEnmjbNaqCbKMBkkznlkYIm/pkKtGzIg8HxkSMl+SY/0R\n",
       "SKLirRxYKLmV6C7koA+SD6peBkkc0ZgjpeDoTo54rMSX4Wmh3N8TVKtvcyYFI5HBirG6FLmMrBnS\n",
       "TJWiV5O37q+knXotxiTLhPvf8h3ADQBo+/f8TqI/IhkrAxdA6iPbTM7LIIkjGnOkeHn9uWUUjUcQ\n",
       "qhW2WO7H+l5Arb4d5AYWNCdElWpSD1kB5zjjqnGGD4A8boi4PtYxIeRJFREY3KZlBplmCM9blND4\n",
       "Jq/Wj1os91tjgbX6dpBzWkj9lBdBxGj03mkinnDCCvakcVXe9PiwUUkjxM0TGPgCFAY59wXLXyvL\n",
       "anTRrHE1T9ZauZ/s6IGFlDbQpU5K4SqeIgKwo1+XeFO8iScNq55/s6dHPr1PUiOBMbIqg0Rhe/Uq\n",
       "T1bIRYtMqOeE1sr9XZnAWn0bKHGyWc5sveUEMN23PL0RWqjhoa4BWpvK/UtLgUXmNpC25X6YV1eN\n",
       "51zuvxL+DzXGh3RV40CunlGfc7n/RUOu1V+wQ0xG25xJtt4Wc87l/rPJ/2OLmaVtPkrdqlss958a\n",
       "Dq7Vnz/p+tsTQpd7uy2W+w9Wg2v1500a/2jZ9xP6Fsv9EFyrP29KZfVVo3pvLZX7KV3w1MTHZX3V\n",
       "mJiq7DGtlPvpyIVOlGn970XqIaWlcr9QZvxCpm2jWZ3V2F3w9lst9wfW6s+XDoHWtAw6gjT/R2Ca\n",
       "quwA2kI3mP8AIEjdK9VJjLYAAAAASUVORK5CYII=\n",
       "\" style=\"display:inline;vertical-align:middle;\" /></a><br>(see <a class=\"ProveItLink\" href=\"../../../__pv_it/theorems/845ce9515289816c3048a5d80af6ec2985b3fa2f0/dependencies.ipynb\">dependencies</a>)<br>"
      ],
      "text/plain": [
       "merge: forall_{f, i, j, k, l | (k - i) in Natural, (l - j) in Natural, k = (j + 1)} ((f(i), ..f(a).., f(j), f(k), ..f(a).., f(l)) =  \\\\ (f(i), ..f(a).., f(l)))"
      ]
     },
     "execution_count": 2,
     "metadata": {},
     "output_type": "execute_result"
    }
   ],
   "source": [
    "%proving merge"
   ]
  },
  {
   "cell_type": "code",
   "execution_count": null,
   "metadata": {},
   "outputs": [],
   "source": []
  }
 ],
 "metadata": {
  "kernelspec": {
   "display_name": "Python 3",
   "language": "python",
   "name": "python3"
  }
 },
 "nbformat": 4,
 "nbformat_minor": 0
}