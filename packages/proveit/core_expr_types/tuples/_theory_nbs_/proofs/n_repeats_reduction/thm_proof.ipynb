{
 "cells": [
  {
   "cell_type": "markdown",
   "metadata": {},
   "source": [
    "Proof of <a class=\"ProveItLink\" href=\"../../../../../_theory_nbs_/theory.ipynb\">proveit</a>.<a class=\"ProveItLink\" href=\"../../../../_theory_nbs_/theory.ipynb\">core_expr_types</a>.<a class=\"ProveItLink\" href=\"../../theory.ipynb\">tuples</a>.<a class=\"ProveItLink\" href=\"../../theorems.ipynb#n_repeats_reduction\">n_repeats_reduction</a> theorem\n",
    "========"
   ]
  },
  {
   "cell_type": "code",
   "execution_count": 1,
   "metadata": {},
   "outputs": [],
   "source": [
    "import proveit\n",
    "theory = proveit.Theory() # the theorem's theory"
   ]
  },
  {
   "cell_type": "code",
   "execution_count": 2,
   "metadata": {},
   "outputs": [
    {
     "data": {
      "text/html": [
       "Under these <a href=\"presumptions.txt\">presumptions</a>, we begin our proof of<br><strong id=\"n_repeats_reduction\">n_repeats_reduction:</strong> <a class=\"ProveItLink\" href=\"../../../__pv_it/theorems/2fcdb6f56c29ef2071f5bf2e65aa0dfc0332d3ea0/expr.ipynb\"><img src=\"data:image/png;base64,iVBORw0KGgoAAAANSUhEUgAAAh0AAAAXBAMAAABdSuCbAAAAMFBMVEX///8QEBCIiIhmZma6urrM\n",
       "zMxUVFQiIiJERETc3Nzu7u6qqqp2dnaYmJgyMjIAAAAcRTyBAAAAAXRSTlMAQObYZgAABR9JREFU\n",
       "WMPtWG9oG2UY/zW5NMnd5TrnFKcVQwoTat1CCwprq6myVVFm6AeH7EPDdELBumLHhDm07IupQxZQ\n",
       "nAqyM4KVMpoOkbEyaWilYKTz2Kz/sGtK3WQiWtZN+sdtvu+9F3J3eXNLQqkf5kN+8Fxy7/N77pfn\n",
       "fe59X6BS82sMq2ZSgk+yNnbKQJZeTFcQ4DMDq2ddfJK1seoEwzf04vcKAlwyUL5Finw/xCcpz06o\n",
       "lZGLWYb3aVX2lf9QgTBD+SYWGyUHeSTlxX5pr1oZOcYYFDJeHi7/qbwJhsqU5Oe6jkdSps2olZHj\n",
       "Y4ZAZnDwaAVPddRA+TZaNKVfeSSrq0dxciXCsBiPHyyVTM67dQaSm95tMNe5MPFBqJE6O9afvoR3\n",
       "fukSZidbusk1cSGFxhB4tLcZHV9uNsc1gozb+awEYqjrsTEeVaEewuwDZxL+1onEjtpzE5ozuRFW\n",
       "DjPsAfpL1cOdd99mENOBV7xZs2S+Q0jpZX77yDXhANrUqg0YCEN3TybcMXjDEPvgNWdkBDmvB/hT\n",
       "tzAKCI7jh+DrXKrC+qhqTmntqnA3bouIvY7kubCBLMPjelu1mXBTPV5jkFV5WTDntIskfyxKvd9I\n",
       "VmlUBZUYpCvMPREVlmlKJE+X+cGMICftfFaCDL5Vn+RSFeqh9AC1wHpcJHMk4kSeCyv1MHjhKlz0\n",
       "+GzXO1sirjstemxgEOGzvpzUVAQzukcy6Wyd/l5TyF+ywFx0jC/RlPDGIbOGuSCd9jSsBCrifKoh\n",
       "vaIuWPSIwbMwPd2NOSAVdiLPhfXMM8iaF456iKebNKkvg61y08NNzTY9gBrbW3IUeFl3SCaj9MVF\n",
       "9MAic4f6PSyl438tWAaxIDw9LASXi1Bx6iMMacXIoqbPmZyFzenhzz7rrMePpwYhnXUjzZsv5CFs\n",
       "FfsIcE2kzh/ktyBLjdYHdd+EZ0n1hl1+FTOWhREL0m7qHzEUEniuFqHi6JGG57KhB6kPR3IWVuhh\n",
       "QP8LpJG0dtTpydR17MnrcW4qRKYb7WzSrueCaV4/ldQtcFlecbWQlmVDDzLBRaN/6O4/kJa2KTG3\n",
       "EES1aZLmgpy3/y1WghHXPOq5VFw9QJpkkvUPJ/Jc2Fw/xedElECbVkUnVX11dl9ej+/uxUYoesbR\n",
       "zJRVj3GGZ4aP4COI1+m8uk4//iuQs1P0jl6i/ArcqrIRA2nm3gX56s/urJu0NF+C3U+HsiBAi10P\n",
       "C4Gw4psn+7tUtpDKZFuYHnRedA5jK2YT4kFHciMs3GkGfX5+eD9qaKCoouXniz/Zg2V8wvSQ6bvZ\n",
       "pEc7w6ehZCsZ8iodvJ9+SMn5u+l0feLGYfJzYwZKd4hUoO6+15jZrOHFr4XJB78y7qdDjSC4YNfD\n",
       "QiDurq8jG0/vgQIqkz103xyNJBxZHIb4fIOKi2c3RRzJjbBQogwI0GfZjTbW2BKm/lEdFNZhZzwe\n",
       "D0pRv0bKyFNsvS45rAoV501IfqjYU3y9biIYKWu9OlciOQYMMLsDLR7W4qN5Paqi7nS0mtUHtgUd\n",
       "9nMyKtZDLmk/ZyJIr6IecsF+zjh3mce+L/xv+efPMDqmxzF4n4rKeg1FELDl0Q/TwjbptPOLOaaU\n",
       "dNrvcwjEYFl67C+RPLffN9ajMTRonnvE7qcb1Lwe2+GaBA7TiUy2WjGH8yCHYyxh79+Ou1St8OE5\n",
       "50H5uwJlybH9Rldp5L4Eg2U2cdcfLtI/1uK8MPCfnhf+ZMB+hshfr9+apv2vx8039reW/QujrO2r\n",
       "IvSbOQAAAABJRU5ErkJggg==\n",
       "\" style=\"display:inline;vertical-align:middle;\" /></a><br>(see <a class=\"ProveItLink\" href=\"../../../__pv_it/theorems/f975bac1662ff877f5b70c448596ed5eee0e550a0/dependencies.ipynb\">dependencies</a>)<br>"
      ],
      "text/plain": [
       "n_repeats_reduction: forall_{n, x | n in NaturalPos} ((x, ..n repeats.., x) = (x, x, ..n - 1 repeats.., x))"
      ]
     },
     "execution_count": 2,
     "metadata": {},
     "output_type": "execute_result"
    }
   ],
   "source": [
    "%proving n_repeats_reduction"
   ]
  },
  {
   "cell_type": "code",
   "execution_count": null,
   "metadata": {},
   "outputs": [],
   "source": []
  }
 ],
 "metadata": {
  "kernelspec": {
   "display_name": "Python 3",
   "language": "python",
   "name": "python3"
  }
 },
 "nbformat": 4,
 "nbformat_minor": 0
}