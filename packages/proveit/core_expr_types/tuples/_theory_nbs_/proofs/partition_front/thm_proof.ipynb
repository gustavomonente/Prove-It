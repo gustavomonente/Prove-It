{
 "cells": [
  {
   "cell_type": "markdown",
   "metadata": {},
   "source": [
    "Proof of <a class=\"ProveItLink\" href=\"../../../../../_theory_nbs_/theory.ipynb\">proveit</a>.<a class=\"ProveItLink\" href=\"../../../../_theory_nbs_/theory.ipynb\">core_expr_types</a>.<a class=\"ProveItLink\" href=\"../../theory.ipynb\">tuples</a>.<a class=\"ProveItLink\" href=\"../../theorems.ipynb#partition_front\">partition_front</a> theorem\n",
    "========"
   ]
  },
  {
   "cell_type": "code",
   "execution_count": 1,
   "metadata": {},
   "outputs": [],
   "source": [
    "import proveit\n",
    "theory = proveit.Theory() # the theorem's theory"
   ]
  },
  {
   "cell_type": "code",
   "execution_count": 2,
   "metadata": {},
   "outputs": [
    {
     "data": {
      "text/html": [
       "Under these <a href=\"presumptions.txt\">presumptions</a>, we begin our proof of<br><strong id=\"partition_front\">partition_front:</strong> <a class=\"ProveItLink\" href=\"../../../__pv_it/theorems/99c12d6fb5186352c30d6e9ad06a564cc4e71f8a0/expr.ipynb\"><img src=\"data:image/png;base64,iVBORw0KGgoAAAANSUhEUgAAAaMAAAAyBAMAAAAD9qmVAAAAMFBMVEX///8QEBCIiIhmZma6urrM\n",
       "zMxUVFQiIiJERETc3Nzu7u6qqqp2dnaYmJgyMjIAAAAcRTyBAAAAAXRSTlMAQObYZgAABwpJREFU\n",
       "aN7NWn1oHEUUf8nt7eX29u5CqR9UlLMHUhTxbEURG40Kfv1hU/8QKmJPacFCi4GA1lbKWaGmleLV\n",
       "fyxK6ZpqrC02VzStCpqjra1asIeVUsGPQFtFwRBiBJvY4rw3s3u7e3tzl72RZGA2M7vzXua3+96b\n",
       "934JgLJ2DGa7DSrWZ5ZnHZI2qlbfDd7pLu8oUWysQYh8KnqI9rNSRIlOz9Qo4HVPtkgjvQBrpNL2\n",
       "QkgsAJ2h14uhNtGh1FLe6fZMU7SntSMlGukVOCCVthdCMg8GMx8jnAkZ81VCesU7PU2/YfJdMWKu\n",
       "lpFtxbUQ4IjoIdpBlXY35Z2/SDfH7RHbdadM2rWQfXDRQ7SYQsuL5TzTeC99mV57xNp5WbR0L4RU\n",
       "N+9h3uxFdZB+8fpzOyJM3tqXo9HAYjY7Wl/YWQgDixBgjvcwrU8dpPW+0FPBazrDR+V7GwRYeyHk\n",
       "2tg1Oco7wLdj2M7N5NVaqhBFJ312WMLr7h4axUt3s8lhibhYCMliml0TvbyHaUMZVZAiPudvI1cY\n",
       "4SMDJthgpURcLGQrl7G3HB3nPUxLKUsg2vJBkE6IEYVDGaQTHpFWILUriw8rK0GGt0WMOhDwgxLx\n",
       "LY4I+o3Wy7vtS7/OYCPxS6og3VIMCg/zxGioVJaHB3shGNPgDg8h2pWqIL3sP2hylBOI0bI42+5S\n",
       "MC7jTbwMjYJrVl3ITTRS5j1UexWA3sZPrUK62p/mo91o42Kko/4LAC9ghH0ejSwvBvyWsxAieEn1\n",
       "8B6qnQI4iT//aBGR8Zf/DmY3ZgFcCRFG5tpDg25VF1IS8r7o4c78HtiJPlVo9Via8N9hOeihVMVJ\n",
       "YHnaagakQuBaGLXwgGolbWWBKgMp9prMUqtJ63RN5VKE9QfsETacDNRK4i1n4e4y5vMtFBfopjlI\n",
       "frNv35utulLy7xpTLMB3d7qKQdjKeqVWEm85C/VsRbyDjmLYraSZm/7T3/9Sq5ACDjhfoZ5svlD/\n",
       "QfSQkNgbXM3fYP3DyzsNjETmFMyV1sZM9n5huEvxo2d5okT7FhVLmQdg3rLwcWCKN4cgscgag3YE\n",
       "Yy7Eva/g3k5X7gNEbDjhYwVEhAVF+47B9XZmp4/PGUgxlkCblZhdSnobh/Sk3+8Rxv6jXfCJaUWs\n",
       "uQkpPvo4uZUVDGm1//bvzNdfe8uCzzM5cw4aXgzzj62rMCK93sWu95ElDdzlgsRWGFnb8PD5zeh+\n",
       "rA0Pv+FAMhtGvBpqMl4J3lITpKQQRZW1jCeGB/iI8vizFArobecerUJCkiPiELP4/JDIC4fNDx2j\n",
       "bA86l6AeNWksZgfRXjZ4NmC/clISFZIoHLRI5ZrAyi1Nte0S3P9+RGcUj1chaez6gSnCAD1/CAyi\n",
       "Ooah7DAkycma6lJCTeonp8l+YZ0/CVnQKG9AhSQKZ3hCUsN4ponIIS/aTjkJr9y3uyDlqZTR+lnb\n",
       "Rs+fguj6/v7NDNKumLOXyYAcry41OfRINyRdDFBCPBo8PtUguyOFjiiljX6uYahalVxB8/dofLEK\n",
       "KYrXtG0M+PwBgDz/StpjTtp6KSgTr0dNItMQK9ZCguRUA1KSFDqiqLKG8VzpYDSmIL4NvjBhpwXR\n",
       "ziokrAlgub2KPYcfAb7E8fc0FM1fXEipSeQX3GmlF5KMlESFLtHzAYznSMlVs0WvgcGvYXkJ2guu\n",
       "iLeB9UX2KvYcbmOGyMS0Td2gO4o2+ZM+CTV5+qollKYY2UwQJAkpSQopwzEWFoRKP+N5yvn8aKA8\n",
       "aSjZHsUh3cT6ZrcMuu+i/s1eRffADKjJCe6uptYZBEnGOlAkQ0+PwLVCpZ/SeM4JUGd6xJGQKK7a\n",
       "YbkgdYD+8AK3lVSaITll1GQcI/5GgLcjo0GQZKQkVYgbKVOfFioP16MMzIV2OZOEtWvc2YNW0Y+7\n",
       "j4o9wbVkqXlqknx8PoBF79wcG/vturGxvANJxuChQhQFS7OpQR89GJ+QnQG5wOP8xpapSfJx3NeI\n",
       "FfSVZJBO2JC4kgBI6qjJyHjz1CTNNorHtZC0XjmFSaKQygmVPsazo1cVJG2yeWqyTfi4MW3ONDzM\n",
       "cxKBoVJweEhnlCXAfc1Sk2w33Tz2auO7fJDaBTHpZS6dGVfIwzYZ7VLR3bSvpQySL+RJqElYBsJe\n",
       "1lW8kCJPX+6ikjq2wWYuHR6zSmFyU7sDRLF94X/ij5k1lZumJr+CegkRNSQlP5NRmCTaJ1QaXt9R\n",
       "+YdN/5+f61KTifyf9tHuJGOeL3xE8B11KUwm+gSdbQFpayqnDhKca5KajG0bdXi9wGQbPScjozBh\n",
       "a/zfjhwEFhcHLYWQdvQ0R00msxzi3jp68A0kpRQmE32my1bpfTNq/5XDn8c0oibrFepNkJJCFFX6\n",
       "1Ooq7Q7g9jnApZxVq07PzDoi1f+8hoXULLdBCg7/AR4wKvEPDHlEAAAAAElFTkSuQmCC\n",
       "\" style=\"display:inline;vertical-align:middle;\" /></a><br>(see <a class=\"ProveItLink\" href=\"../../../__pv_it/theorems/fd677a0f26fc38c9fbe34b758b4d86678987bd180/dependencies.ipynb\">dependencies</a>)<br>"
      ],
      "text/plain": [
       "partition_front: forall_{f, i, j | (j - i) in Natural} ((f(i), ..f(a).., f(j)) =  \\\\ (f(i), f(i + 1), ..f(a).., f(j)))"
      ]
     },
     "execution_count": 2,
     "metadata": {},
     "output_type": "execute_result"
    }
   ],
   "source": [
    "%proving partition_front"
   ]
  },
  {
   "cell_type": "code",
   "execution_count": null,
   "metadata": {},
   "outputs": [],
   "source": []
  }
 ],
 "metadata": {
  "kernelspec": {
   "display_name": "Python 3",
   "language": "python",
   "name": "python3"
  }
 },
 "nbformat": 4,
 "nbformat_minor": 0
}