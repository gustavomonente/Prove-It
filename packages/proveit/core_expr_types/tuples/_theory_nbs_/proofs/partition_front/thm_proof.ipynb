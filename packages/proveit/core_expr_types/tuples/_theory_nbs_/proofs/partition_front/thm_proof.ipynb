{
 "cells": [
  {
   "cell_type": "markdown",
   "metadata": {},
   "source": [
    "Proof of <a class=\"ProveItLink\" href=\"../../../../../_theory_nbs_/theory.ipynb\">proveit</a>.<a class=\"ProveItLink\" href=\"../../../../_theory_nbs_/theory.ipynb\">core_expr_types</a>.<a class=\"ProveItLink\" href=\"../../theory.ipynb\">tuples</a>.<a class=\"ProveItLink\" href=\"../../theorems.ipynb#partition_front\">partition_front</a> theorem\n",
    "========"
   ]
  },
  {
   "cell_type": "code",
   "execution_count": 1,
   "metadata": {},
   "outputs": [],
   "source": [
    "import proveit\n",
    "theory = proveit.Theory() # the theorem's theory"
   ]
  },
  {
   "cell_type": "code",
   "execution_count": 2,
   "metadata": {},
   "outputs": [
    {
     "data": {
      "text/html": [
       "Under these <a href=\"presumptions.txt\">presumptions</a>, we begin our proof of<br><strong id=\"partition_front\">partition_front:</strong> <a class=\"ProveItLink\" href=\"../../../__pv_it/theorems/47b790304e4373fefd44e472f353f5834ad0394f0/expr.ipynb\"><img src=\"data:image/png;base64,iVBORw0KGgoAAAANSUhEUgAAAY8AAAAyBAMAAABWl0rLAAAAMFBMVEX///8QEBCIiIhmZma6urrM\n",
       "zMxUVFQiIiJERETc3Nzu7u6qqqp2dnaYmJgyMjIAAAAcRTyBAAAAAXRSTlMAQObYZgAAB1RJREFU\n",
       "aN7NWm2IVFUYfnc+d+7cO7uIfWAUkwuy/5w0CsmtLSEtKMd+REWwUxgkKC0slGbItILtGtHYH8VY\n",
       "vG61mdLOSGyWYDOoqeUPhwxRqFzQiIJk2VbI3ZLO+54zZ86d+zWxF8YL9+ydOe9573nufT+fWYDA\n",
       "jpPQmmMsYH16pUVAIpPB6lvi8n2iKi9HcEgW/HWRIEk2I/1LoDiSnS4TB3DQlq1gQx4glocNXmqk\n",
       "ICQXkeQG/1u3B2oL+3tdJn7HIXZ2DiDFnm6sCuNeaqQgGDmSHPe/tbYwSCDbXb43MjgWn2Q4zwtn\n",
       "SnuoUQVJ0lNaHIeDtKxZl4k4GXkZhy3iAXZ66FEFSdJTunaPAG0rnnGZ2E3jafT6fvHVVQ89FkGS\n",
       "vNrEU7wRHJDLbtGlC4fzdywHCDGso8vYpxPuaqQgjHYLyRNN3H0gOCCb3Sbeo3EagwuLw5VHfcJl\n",
       "TRAybVUuSdL6NTrcXvtlMygc0Rm3ma2US66j9ZUgUXqYXRxx11MTBKPQUeKSR5q4fTEdFJCwq0tS\n",
       "aExOsaGtFzR64n0e1i4EmeRak0v2NXH7VGDJvS3nCUTvF/uj4OaxNSnI3b5ZIKHAvL2v6mla7Tlh\n",
       "MXSx2iNJ1wQBrgjJ1YqPuD2uxL9BAVla8HT2trTw4WKp4unsUhC0OVCc3e+4PSggb7vOUPQsorHo\n",
       "LOasxRJyJWg38Utm2HQhPymC3AhXitP3eAeA1v88XyB3us6QZaylcpvZfwzv9CvAG8yT42gor4MY\n",
       "4m9aBCHczyXp9D3OAZzFv3/ME4f2l3vKR6M7A2qJwraYtAf+o2ARxFIBJbX+pvJxFvagr+Tnm0am\n",
       "XadY0ZjM/cnTtlIK2gWZ89QFo+a+bPNFIws2aUixZ6OX5lsyzrnPDUN8Jw/z7TwiYGE+an+pbMN1\n",
       "wX2V7UJyvKkNFDNgfH/w4O75uohx3X3uABhdHIGWF8gA7NHawFMKxrqqQnK4qQ10MH/7e2jorfkC\n",
       "8UpIja2u0XSri5LNSCMQ9oxe8UNtVRV1TMiz0NqjjdnkKtDIMldWa0U3pLIUBcUm1RAYyiSdWtpw\n",
       "y4Gw2BaHEELQF2Ob9Tz3Xe5yXAa7fxkMogVYIa4GTsK9tZIhNtViIHFWtOrVOL0F25PmQKIVBz7s\n",
       "0Ike+Eo3w+atBCQx+Sy5i+kMJJZtLJkLYLy714Rj6Yx+y5hWHNPm8HqMEO/3sPExspXRhxQg7HVp\n",
       "XTXTiiwBNMRVeD0x8YEEot+wxxx3Ri7hUip/7b9hsdRG3aGzwxdUBFyk7EpPNvO0AoTlmLAkJXX2\n",
       "3pI5Xp9N6J+/KGOAmkd4uviI5QQ7I0f8G1J2rzpxWp6hFhVytu+waaPuqB/qoCJgOeI9hJi0wikF\n",
       "yBqAz/SaU+9lfWckr1HrPAEVyQsYM1bbY8fGcsmBkSP+DSm7TY21wSIQ0dPtQIWc7btgz/kduCXD\n",
       "lH1De1ohDDiQx3mDsGaIHSYMMu+fjG4eGhpkQEbichsqECqptJmPnRg55N8MhUJIiqmxU2gLx73q\n",
       "UlQolzZWYcV6SLqNPn9C1zcUIM8h3to712azEMlBjr+RyDMyKqsd2hbZfNsZubKk7KxAwEAg+8Gn\n",
       "m5dLG6m7PglKm4XETvhGhz0mRDsVIJ+yc53UNlkBowLf4vWPAD9JRUoZz+k1bL4dGLnTkrJzApLq\n",
       "9enm60sbqLuyzHSsmYneBWPfwboShPJq1GKG1y3hbixAuBfa2bLItl6ISUXblLqLzPW+gYwDI0f8\n",
       "WxfGwbQTED3jXpaiQio8tMV5O3V3rqC0DSKhl2qewoGE2KYHLXmEnd1Dg9b7PKKkH4qQGEEcGLlp\n",
       "7oF6pNMJiOHh7RSS0HnDcLe9m39N7u5CVsTxZGH9LlMtUfKxJxapGo/5UH2cA8G+yM7IEf+2FeDD\n",
       "8KQTkKRHN4gKiZK5BHNgo+5kq60vrjUJBmzcoGZ2eCp2So3vmuPr76u3ZpyVKjsycuSxCwFMer76\n",
       "tWu/3SM4HgIS9ah0yjWSzIzM2hivxLQnewjgkJhDpg9BV6fX7IwceSzupmw6vREvIKetbJ8VSHAE\n",
       "XXiqwbR2ODJy9GmrmLYDiXiY1g7J9qUyKnXH9fYHBSQy0+DsCxwZuTbhsdqc/n+dfYHM1MWSzdk7\n",
       "AiOxlV8oKIZqMw6MnODfWNSMTI00AAkhkHDFgbXjS0khD7hkllbqbqkZGJB62CL7iEw5MHKCf0OL\n",
       "2FS1Agm/dLOHOlPi6eqsHZoiLSWF3JgeBBt1FxhjyoymYilR9LwjI3cG3EoUWUUctRcnplRISweg\n",
       "kboL8qc35cdQVip+mao6MHKCf1OLRs1iE8c5T9dYnIBUyJa+QLnIWjSmMgH2aFfq3l6AzeNOjFyN\n",
       "f3MjbbCM1+xui0uFQhhO/NOesVF3h80AgezKKo3VDyucGLka/3bARQXiNuxf41KhkC19uQcaqbtg\n",
       "/2FAKS9GfBg5t1b3UtOtrpW6iwVpWQAPtIx5uBisuli6RTiC/jcnuL9FQMbI1f8DQ9EZIUFAz0UA\n",
       "AAAASUVORK5CYII=\n",
       "\" style=\"display:inline;vertical-align:middle;\" /></a><br>(see <a class=\"ProveItLink\" href=\"../../../__pv_it/theorems/3cccf6fe2347f803e717edd863812fc72b463f800/dependencies.ipynb\">dependencies</a>)<br>"
      ],
      "text/plain": [
       "partition_front: forall_{f, i, j | (j - i) in Natural} ((f(i), ..f(a).., f(j)) =  \\\\ (f(i), f(i + 1), ..f(a).., f(j)))"
      ]
     },
     "execution_count": 2,
     "metadata": {},
     "output_type": "execute_result"
    }
   ],
   "source": [
    "%proving partition_front"
   ]
  },
  {
   "cell_type": "code",
   "execution_count": null,
   "metadata": {},
   "outputs": [],
   "source": []
  }
 ],
 "metadata": {
  "kernelspec": {
   "display_name": "Python 3",
   "language": "python",
   "name": "python3"
  }
 },
 "nbformat": 4,
 "nbformat_minor": 0
}