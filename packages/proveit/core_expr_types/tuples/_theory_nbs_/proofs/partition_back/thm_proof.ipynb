{
 "cells": [
  {
   "cell_type": "markdown",
   "metadata": {},
   "source": [
    "Proof of <a class=\"ProveItLink\" href=\"../../../../../_theory_nbs_/theory.ipynb\">proveit</a>.<a class=\"ProveItLink\" href=\"../../../../_theory_nbs_/theory.ipynb\">core_expr_types</a>.<a class=\"ProveItLink\" href=\"../../theory.ipynb\">tuples</a>.<a class=\"ProveItLink\" href=\"../../theorems.ipynb#partition_back\">partition_back</a> theorem\n",
    "========"
   ]
  },
  {
   "cell_type": "code",
   "execution_count": 1,
   "metadata": {},
   "outputs": [],
   "source": [
    "import proveit\n",
    "theory = proveit.Theory() # the theorem's theory"
   ]
  },
  {
   "cell_type": "code",
   "execution_count": 2,
   "metadata": {},
   "outputs": [
    {
     "data": {
      "text/html": [
       "Under these <a href=\"presumptions.txt\">presumptions</a>, we begin our proof of<br><strong id=\"partition_back\">partition_back:</strong> <a class=\"ProveItLink\" href=\"../../../__pv_it/theorems/c48cf0edadd981faf02e140a41ba7d54678b478b0/expr.ipynb\"><img src=\"data:image/png;base64,iVBORw0KGgoAAAANSUhEUgAAAacAAAAyBAMAAAAKHQnvAAAAMFBMVEX///8QEBCIiIhmZma6urrM\n",
       "zMxUVFQiIiJERETc3Nzu7u6qqqp2dnaYmJgyMjIAAAAcRTyBAAAAAXRSTlMAQObYZgAABl9JREFU\n",
       "aN7NWm9oHEUUf/d37/b2LlJSlagQE5B882o/SKGhBwWtgiTxg4gInkXBQIqBgLYqckSol4p4+KWl\n",
       "Erqt0taK3gWJGqH0aGsjVuhhpDSgJqB+UFBCUdDEFufNzM7s7mwu7e6U5MFs5s2+99jf7ntv3rwL\n",
       "gDaySrDudFy3wW/XHxMkF/Xai5c9bLblnc2sbYGr5GpshKKf9IKa8rIn8WI+sI3NXoB028d8v7fG\n",
       "VaZsGCZ/hkM+RaapE5PZ6eV/w0v64gqb7QGzrWOMnGlwlcsAnwAbOh4jGmWKHjZP2fqjJT4DONvu\n",
       "Uf76AIQgWN1s6HCYaHTG9rAG9bYzYgZwtI1ybsklCOZtbIQiQ6f/jXnZg/Q6K2YAhTYZ3xp1CQL8\n",
       "wkcYyv2rD1PeZ6sXL3N3bKUzsxcdqri68paxIlMxeyrkeo4PHW83ChkVL/82vV5lMytJnCnfJlN0\n",
       "dHOVBNzD8zLNzdaflIo38yQLtjZQz/ic61W68fzNZu8lCKDc6OraRwa5yjyQdAmf8xGK6t3aQG3x\n",
       "8Z0i/snMxi+RWmqTZRwVO7mMb4iPUFTQV1TcHgSKxn8nT43tQM16VSKBimvLFKlrEOB+mTKf7cey\n",
       "rI377RcqBYyfh/lwYqp8M4+Svaat8PO/HpooYjz+zRWrfaLYJFTqDXei0OI04esJ/15JM3K9xGbJ\n",
       "pUmS2JpQR1x4Ma+7J6SgECp0D9/ORzh6E4C+vx+jgor5MjrzngFntofU34VBMF7B5I/O9JIzeRlB\n",
       "JJeEyoN4+ZWPcHQJ4CL+/T0qqLp/K6E1z9fgqn5OkPGlWgAgKKsiBHHrNEfZCEkLg3AIY6sSeZvy\n",
       "bw6kOs2V/5ClLSto1bqMBBt8VmhxwafozhapoKXPUiCvympELmcVCxNgHFjkMxo3GEHqkx4jYy8/\n",
       "Z0xk/6O1fpSjB/Oa/DenTh2MnCgWBv0rJyHfW5PHRcgQJq8q4jf6bpujsrvfeQsT4Z+lg8TqP9Xq\n",
       "a5FB3V9b5WwuZvM3fJzP19gIDYoE0/NrvRav/VRwxtFXRUamGHH0nfykvR3fU5xFNc2nSRnKIr/G\n",
       "i7nAY9GOjQSKJE4D4gjH6sHUlGKfhYZ9hskMOzyw+zwAUmPn4V5Rv7y4cTCBQQoBq2UEH0wZqJQ/\n",
       "DWO/8KNz/fCFZSfsjQoqu/gEDS87GFTan9cKNci/ddiG091Fa0O6n4H79sRzmHLewWyavI9uKb0u\n",
       "9zMEz+8TZ92J8+npdyWoS2tmvxtvZqqk6E7K9ZnARAGf0orkCk0K9HslWPM243RQEqKZi/dzZVYv\n",
       "TlsfPy1TesA+BWGbmQq5dVHSxAoo10XXVbuxstMggK14OUwP0R9aZQlql+D5/WTFpClyGpqyObKg\n",
       "RGSEZqa3OOwCjy5KFhBIvsyqFMVuBz5e3padknEWTS0J6iHG76oSsvF+ajG1t1odJ6AmDVkmldTa\n",
       "L3Qz05OWLix7dKnknMOdDbJbl6ltM1VZpm7UUZOgnhQ8v58sQ5l9qeTjsohsBVXpIZuZ3rez7NGl\n",
       "kvsc7miQXVlcm0T3kJ1bbGYPAAy5sh+eGIaEycUm5JvwFc6/B/jB+8m1NTMVUFIXJbPiWILril1Z\n",
       "XGMHYahhjtRSdwH0uUAZtsMj9JEaJEqQIWrJ10uQlh/G79mRmpkKKKFLJWnZc6yPryt2ZSamDk0h\n",
       "5kRkscKo4fDO2yGjrzruNZRYAo3NTAWU1EVJGvLFWIutK3ZFIVC4POj80jWTfqTLBQoqDs/p9KpO\n",
       "oq2ZqViWuihpNLCM72iwdcXuncJVe8A57rTSF2puUI85PPfAQC9KrehsZpqsMzYoQEldlIyRKDJh\n",
       "gPcS/XazV9vtHQmeHLxJKW7f+mam8qWk7iwHxWZBoPQ1M2GHzmamAkrqoqRBY/9nvu63mxnVBmqg\n",
       "pLGZ2SZRbHJqA3MFghNFR7c2UEZRYzPT400IytFlkjSJ5/g6HZ7Ogr4Dgz/9RWpmugP72ev9UpdJ\n",
       "UodL4IWs03FLus6E7tbXzFRJ6DLJfY5rnODDbVDjz6N+v4nSzFTJ0eWSc5Cy6dYWUNAWihpB+Y1F\n",
       "aGaqRbyjyyUztSPNN5x1X56Y0nkGz27W1sxUSOhySbOS7m3x9Yx3G9X7zyH+H2nDNzNVml/lOD+v\n",
       "3ksXtYJKlDdC1+WKZnu7NwAm3f8ahwetdafjNE38DyFyHwYWK/nAAAAAAElFTkSuQmCC\n",
       "\" style=\"display:inline;vertical-align:middle;\" /></a><br>(see <a class=\"ProveItLink\" href=\"../../../__pv_it/theorems/2c6c6f975ba028843a063e1cf231bbf0cad754ac0/dependencies.ipynb\">dependencies</a>)<br>"
      ],
      "text/plain": [
       "partition_back: forall_{f, i, j | (j - i) in Natural} ((f(i), ..f(a).., f(j)) =  \\\\ (f(i), ..f(a).., f(j - 1), f(j)))"
      ]
     },
     "execution_count": 2,
     "metadata": {},
     "output_type": "execute_result"
    }
   ],
   "source": [
    "%proving partition_back"
   ]
  },
  {
   "cell_type": "code",
   "execution_count": null,
   "metadata": {},
   "outputs": [],
   "source": []
  }
 ],
 "metadata": {
  "kernelspec": {
   "display_name": "Python 3",
   "language": "python",
   "name": "python3"
  }
 },
 "nbformat": 4,
 "nbformat_minor": 0
}