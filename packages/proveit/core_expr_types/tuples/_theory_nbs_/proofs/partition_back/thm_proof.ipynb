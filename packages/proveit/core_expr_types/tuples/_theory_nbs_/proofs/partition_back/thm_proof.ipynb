{
 "cells": [
  {
   "cell_type": "markdown",
   "metadata": {},
   "source": [
    "Proof of <a class=\"ProveItLink\" href=\"../../../../../_theory_nbs_/theory.ipynb\">proveit</a>.<a class=\"ProveItLink\" href=\"../../../../_theory_nbs_/theory.ipynb\">core_expr_types</a>.<a class=\"ProveItLink\" href=\"../../theory.ipynb\">tuples</a>.<a class=\"ProveItLink\" href=\"../../theorems.ipynb#partition_back\">partition_back</a> theorem\n",
    "========"
   ]
  },
  {
   "cell_type": "code",
   "execution_count": 1,
   "metadata": {},
   "outputs": [],
   "source": [
    "import proveit\n",
    "theory = proveit.Theory() # the theorem's theory"
   ]
  },
  {
   "cell_type": "code",
   "execution_count": 2,
   "metadata": {},
   "outputs": [
    {
     "data": {
      "text/html": [
       "Under these <a href=\"presumptions.txt\">presumptions</a>, we begin our proof of<br><strong id=\"partition_back\">partition_back:</strong> <a class=\"ProveItLink\" href=\"../../../__pv_it/theorems/1b124f9f696fd8bf2a0474bb34b58b14813af16a0/expr.ipynb\"><img src=\"data:image/png;base64,iVBORw0KGgoAAAANSUhEUgAAAZEAAAAyBAMAAABv8PuQAAAAMFBMVEX///8QEBCIiIhmZma6urrM\n",
       "zMxUVFQiIiJERETc3Nzu7u6qqqp2dnaYmJgyMjIAAAAcRTyBAAAAAXRSTlMAQObYZgAAB0FJREFU\n",
       "aN7NWn2IVFUUP7vz/ebNrkRfFNHmQkgRThqFpLUVZPVHbv0RGNEOodCC4cJCaYVsBrUa0tg/SiE+\n",
       "11JT2h2p1QpqF9fMEnLIEIW0BTUwKBbdhdzN6J5zP959M+/dmdgL44V5e+be371zz3vnnHvO7y2A\n",
       "tXYYGtR2WV7PHW2UJvFxu+vdGTWwTUmZMl6/qr0WBxKyDjSctapIdk7EgNOH153tRYA9THgZkkXT\n",
       "OgoI+z1EmtG8pa2aw46OiIEW2sqqkRLARSa8Ao7RGBQQThLSqcN0nOttavJ21MAJ+q3JjwFyed5z\n",
       "yLQpHUjIQ3X8+H6bxjUdNbKWhifYJSUMZYdpHR1IyB11/HrKonml8lHO20OBDa9bpL11GCKgDiSk\n",
       "Ca30v2JPk9+iHLMZVczd28v+tDPjaW9ju81HLqOA4Mzt40gD2m+99jRZExlXKKC2MgVgE9tWnIW4\n",
       "nMGJJRBicBtHcvRPf2E7F3kjPVuKJCYjza6E1+2d7PIGwEcxtq9sT/RCEginYYYjTWjVhtpsaRKL\n",
       "Ok2gicx8BC8sVnp4zxMT0QtJIHjxaY40of1Qb+2YbyqYNflebnDEM+9NAcn369ak2ZrLd5XN1vUO\n",
       "CKNBIW6wFwWEljxHcjT3k98j05urtjSZXzR7/HXAHdmZcc0eL4HM9Eu6x9dqN9rS5K3oAyJPJzeK\n",
       "Y+wGT7B8MjYKQ5iH/Iv7HRcX+uYDuR0yJH1qt3cBSOMzs9Xk5uiUG40jTra+FNMu9ohaOiH1OpNf\n",
       "ReMryMtrXgAIDwAh6VO7HQc4hn//mKUizuXoMcxWXMqHZRKym32+rj6nvSCwVyB313cyd8JW9Je+\n",
       "2R4nl6LHWAZ5oIWcRc8gq02GOZAGfD4z9T8ySBZy2qCF3Qq3NNv8ccZQPBRhzSAXN/AHiF5RfZIN\n",
       "YKYggZl/0nmoO6tHV8tD7se9e7fM1k1yUwbL64OfF3Fxj1QNctU4fBo+8KUlApku1rWDVuZqf/f3\n",
       "vzlbTYwHU2X1e7ru6vd0fWjShDnISvnUo1YNfg2NJO40NLg1MSN8TJjiYrwP7TyLoe2KugB984Kc\n",
       "0A5fhKZdjdeEBfsUNKMO7lzc8nLuwHTlAY0YARURlkNM2G2i9zDcIbOt5ESjNUmxFNYtp8ILOa7J\n",
       "C5UOjLvfN7YEvnS9mHdNaZIZf45cxgvXZGVl90UWed770INv2vLutWNdKUwlNqzAOPo+hr1HyVwG\n",
       "HtQ06cGSVVoXjt+DrsXa8PAHShP3SniwIilbRxzdFnVQFcOjGvYHxtDj4XNKm0+Rd9O9zT/ta4KE\n",
       "QkzRlTh+QORqw+5nyvKap0KpOpSSfdBtTHQWLBJTsreEDHdXIAWnR/3dlQUSlc6wELe9D5Vyikd8\n",
       "TeLs+qkrPJvGnwCHso5hGB1TJ+NkKFWHUrIMgyZNksdmxJRcZbXGNqzPJaTg9KhfX7eViA9P1QRp\n",
       "nkRs0jQpUI0R72dtI42/CIk1/f3rmSbbUsoIJkOpuhPC9kxF9tBTHQoYfFirVnuBuYhUnB726+sO\n",
       "+YncDfT9E5Kv+Jok8NoqLRLHHwco8GcSf1ZlkFdDqbq1Yk9zoEbhvjaSMNHmjuicHvbr63YprZxp\n",
       "yGyEb13Y6kFijq+Jg/b2jESxcfgV4DuUfyFRtMthVF1GVrnnwVy4Z3qiqZ/zAaSfIZ4PrjtS0gqi\n",
       "xK2w6wd4pgTNfVrswpJonkSxcbiPWRubFl/XAUm10Lowqg6lgQWyBozI+W9aKKYMzAvVZCyAVJwe\n",
       "9WvrHleBDA2QH+0l6S1ck7vZZ72+Pgauef3rgz/6cBhVh9LoI2B+v3FJTsk3lcM0ORtAKk6P+rV1\n",
       "V6t4c7JTvHTJFlds9jRN0pB8Ug+P2XINDtCn6piUKT3Evhw05KdTYkqu2FoKW/RgAKk4Peo/GFJ+\n",
       "u3NFhcAqh1Xd+hkfLyeP6EfQzvCSrRRC1THJoTvZZajRJsQUB5bhxgeJDbrga9IVQCpOj/r9dTOX\n",
       "TJFeBLyK12N31WLufKoOpey0WRPi5jV2r+qZdAWQitOr0MQecxebCKHqUEoXJFcSURsX1JRzoZos\n",
       "DSAVp0f9/rrpHluaxCdDqDqUhkqjRo9vapNTnBkwejwhFadX4fGt1hhu7QWGT9WhtAxTvsWcl1NU\n",
       "nc/ZwVCHnFL9Vmw+aiLmCqTi9Fg//2hQO80PXj5Vh1LyDC85iZdTVB0JeFLBMjUlVmkg999+ruzP\n",
       "5UjF6VEZe8E+mcqe/WgIVSezlR7BywUbkXdH1ZTw93v+3KMBTg/7HaW7zbdzmm34VJ2WQbrVU5ju\n",
       "2cKfYkrC2x7OdYi5Aqk4vWAG2ZK3p4kWeXyqTnBVg4KXq7jbbB+pjeMCuH00/DW4nCuRgtOryOr3\n",
       "exY12dxZTdXxmotIqOrMAMm7XHtRAJPt4W9g5FyJFJwe9Styy+5/FmivAyuq39wsqt9cRPWL/f5Y\n",
       "0qZxsVDTODrilN3lkm2NUsT2f0Vh4dKYtov8/T/5Ay72qNJPYQAAAABJRU5ErkJggg==\n",
       "\" style=\"display:inline;vertical-align:middle;\" /></a><br>(see <a class=\"ProveItLink\" href=\"../../../__pv_it/theorems/0431e14d1236088af5f28e82c3f6fb50be74e09b0/dependencies.ipynb\">dependencies</a>)<br>"
      ],
      "text/plain": [
       "partition_back: forall_{f, i, j | (j - i) in Natural} ((f(i), ..f(a).., f(j)) =  \\\\ (f(i), ..f(a).., f(j - 1), f(j)))"
      ]
     },
     "execution_count": 2,
     "metadata": {},
     "output_type": "execute_result"
    }
   ],
   "source": [
    "%proving partition_back"
   ]
  },
  {
   "cell_type": "code",
   "execution_count": null,
   "metadata": {},
   "outputs": [],
   "source": []
  }
 ],
 "metadata": {
  "kernelspec": {
   "display_name": "Python 3",
   "language": "python",
   "name": "python3"
  }
 },
 "nbformat": 4,
 "nbformat_minor": 0
}