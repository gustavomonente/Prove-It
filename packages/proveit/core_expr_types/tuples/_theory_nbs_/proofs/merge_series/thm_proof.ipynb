{
 "cells": [
  {
   "cell_type": "markdown",
   "metadata": {},
   "source": [
    "Proof of <a class=\"ProveItLink\" href=\"../../../../../_theory_nbs_/theory.ipynb\">proveit</a>.<a class=\"ProveItLink\" href=\"../../../../_theory_nbs_/theory.ipynb\">core_expr_types</a>.<a class=\"ProveItLink\" href=\"../../theory.ipynb\">tuples</a>.<a class=\"ProveItLink\" href=\"../../theorems.ipynb#merge_series\">merge_series</a> theorem\n",
    "========"
   ]
  },
  {
   "cell_type": "code",
   "execution_count": 1,
   "metadata": {},
   "outputs": [],
   "source": [
    "import proveit\n",
    "theory = proveit.Theory() # the theorem's theory"
   ]
  },
  {
   "cell_type": "code",
   "execution_count": 2,
   "metadata": {},
   "outputs": [
    {
     "data": {
      "text/html": [
       "Under these <a href=\"presumptions.txt\">presumptions</a>, we begin our proof of<br><strong id=\"merge_series\">merge_series:</strong> <a class=\"ProveItLink\" href=\"../../../__pv_it/theorems/9181f49a9b5a9017bf25b67ac2507e2d05f0069d0/expr.ipynb\"><img src=\"data:image/png;base64,iVBORw0KGgoAAAANSUhEUgAAAswAAAAyBAMAAAC6+JBpAAAAMFBMVEX///8QEBCIiIhmZma6urrM\n",
       "zMxUVFQiIiJERETc3Nzu7u6qqqp2dnaYmJgyMjIAAAAcRTyBAAAAAXRSTlMAQObYZgAACZhJREFU\n",
       "eNrtXHtoHEUY/3J3e4+9zSWIzxb1bKBIrXiSqogWg0JVUEn6h6iIPaoBK22J1Ed9UM4KGqvBU5Da\n",
       "Su3WaKtttSfa+gBtSKpifXRRUQupRtQ/KjScthF7rdZ57szszt6dyeUwXKbcZXfzm2+++e3MN9/3\n",
       "zaQAtShnnzgOU7HsmVTpZpb+3Hfi99oInLlu/VRk2RqYXPk30B+vrXuzNvJOmZJjGWZPsvzmEXbR\n",
       "1cg0J1vV+w3jFJMP/NVT0zQDbOpQTWlunHKWVGyhoWl+VL1N5ccp542K86WRaU6W1Puvx72SpgN/\n",
       "9fA0zbGMev/AuB231sBf7c43PM0/qkYi0TNuSb9UepWNTPNK9TaEGDFnLblysPzI1SGGgl26UqPT\n",
       "bBxR7+MOwHb4Lr0KQoPBYQtFAPzKH7Shzw/EQo+Soloi849GpznssaixAsBe2GdfC8OwK7AWRQAU\n",
       "+IOb0eed4FZGG53mpqznHvm4NvSiq3ugxQ6qRRGesii4lQvyDU7zIsdPMwCa5OYYNBWC6/3xn2je\n",
       "6DQ4zRfk/UYDjDH0OQoxJ9ikj2GT28bfw5V4Tlwt2easbs40MM2PgH8JfD9UhDlGCWKBAQdBQDgy\n",
       "wu4HSnwJ1Jd4T4PTfLo3lstA5Fi8mHDQaG5Kww5EpPkPeq5cUAS8ZrFBm9iGaby8TIRYpDST13Jg\n",
       "4jTXRE4di3nY8yDSA+biOW0HsG1u6YDYg+jZfdiYZPkFekIReOhHelFZA/G07N1pHOcxSvNn+Mdv\n",
       "E6e5JnLq6Tb7ljI32Kaexvt+gyEuW7hh3/EK4r6nUjNd8Dwe+rmJ01wTOXUsyWPeJ1+LiAP7zf4Q\n",
       "RXriGtsPrbKpIzZpuiCFXpxVmDjNNZFTx0Jns7Ja8REa+hzH3T7u5Cfn8ovNn5ZLhKLyJ6W5ee/W\n",
       "rWtrsATWRE4dS+ioj0ZlLjb7X4x0vVr+xRPl2vmLDf6/ensfLodLqLedQZ5GJTnVl2paDCz5soKE\n",
       "LKvkq1r1JlX02hky/WW3A85iNHez13G5wxIhyAAQbTqERZISJW8H0dxd4bV6Sof+MdZigGTL6Jgb\n",
       "HNC3qM1SfIHY431gqqc6FdWFrHBp/OMg+nH1Gy2nMZqvAhM7Y9asAZYIQcsD+aZzKJpXEyVh1oKx\n",
       "Yg+ck5VoZnKqLfrVEmuBWjR4N3AWJ1xtnwbnkn25m1028rwrrupCVrRYH+N0N6M5BiE8jlMdeiJu\n",
       "9VowTO22ofnwrmWHbYlmJmdiNGMteItZ5luZ2SpF/oJePvMGogGqC1n1ptlyYsQTtPVEdHsfH0TW\n",
       "6Mn1NnyQzliy0WByJkYz1qJbIGgW52CVIpEZiDIbEQ9S/WAtjMZ/KfczmhMjN2I7/vR8ngiBly6T\n",
       "iOjxJkrOx/YBlZ07n1VopnIGL5rtW7KstoXdATR74ESLHojMZgiaxTnfYxs0TeDy/WEHTSnahzhT\n",
       "nXVFqO7Kso7Wh2a+BMITdxAl3UQIZG4QROAdMjVRsosF1jut129VchpYTsheHvNZnznRkXv0NLvw\n",
       "O3Ho6hAtUIsWmVqYZpLFUZPsviaiuG4fekeowlrWhzhTnXVFqO7KCo2V8TQSxPy9V4VTRO3ke8Ho\n",
       "UznNb5FYsd1NhJj5jwUREfStJkquAZP4ATthYEihGcsx4BDA9mHVAHWmsDL80EhKotkHbyctrn9H\n",
       "jOamNGpRCV9xHboyS+KwGchg5Wgf4lR13hVXdSGr+Yjeb+5vQ5JfxW9etKEtLhDetDEyAH2Y09xC\n",
       "ops+YtJooNMn0Zz1JkpuA2Nlb+9qRPOGmEIzlYPm4hrv+Z0WWQNTsc0eeB9tcTVER0fPGj1Eszi3\n",
       "eTRXprupZDIXkD4sH/1pdNQhqveBorqQlfTRTI/DLN1doBZ8WQXPyQXCtwSpR5vHOc3NtssUToS4\n",
       "/aDjLedNlCygPgCiObJQoZnIMYoGtIJnm22RJsSg1HL4cpwRd4gg1KJZ6mQIksVZ4MnGoDqK0cB1\n",
       "0QhvQpVuYn2Ic9XdV8JUd2UZf2tzGuaRl1FPmNtebpNbARLkYLnUEa9VgsQanAh53gajVRBBsk9K\n",
       "omQY4CN8/Q25lGjGZaM1YiVa4V4kBonDX+hf8UsUKBxgrlZylkSzCxda4BaTIwMMQbI4w0Ia+sJ1\n",
       "oJk3zcVhItFr3kJ1JDRj1Y1Wj+rD6mz2ZeiS2M+LsWG1qVzqSQYS5KbgDFWXlG01ZuJESFcBQjlp\n",
       "vD3oTZTMQ51A0yWyqoN6pwrNm78Z3Et46yoYZ0BX3jjDmGkuu26unbiFZQuTV0k0u3ChBW7RXJpn\n",
       "CJLFmSekoStcB57bAqo4oFtFMZvoSD0NpHoo51F9ngtf5V3NiIIW/l4refFBRQESpBZNHRqXZjz8\n",
       "acRU4BaaanieN1GCTdC5vat9wbYoRZghBY4sDotkoL+9vb3AvdmcChdakBYVxIgkjV8hdhVxbNKH\n",
       "CpLffJ672AhBwoBe4c0l4babL1yRIeG62ZYmGyqBCT4OBHNWjiK16GhRpjn1bSdzSZL5O56xpW7G\n",
       "PYmSpBOQ0xAFr2ni0C9zdHiS1Ozp8NAslkCiBaVIQqAWhTR+9Rmo4gAOdUuV4vSLd0UIEtr/6InH\n",
       "4o67jqOF2Iq0SsfAdYEUA0IYzqRILbopJ9NsYRPn0HTf0iVyNyOOmijph4o0Yw9NZA1Zx1K8V4tt\n",
       "D83CoSNaoBbVXFu/nIPkV+4+zWJeeZAM3Oul3FzEWaocPe5XtF/kSY6TnW3YiF/0QwAvhBFpyTLb\n",
       "IhwI++EYRWrRG9OK0dCUjDIa3VijMs26su5FvXRdqdxiYl3QOFOOzvsFSbJ0x2EAduOvkwFsPFqN\n",
       "MnkPDgQ7UqJILbrOx2GGL63p1sdQfsIywkUdzZ9w9nbb5Wl2gWQxDKT5cagrzf+/EjmiMxqPAbMF\n",
       "j3HHJ6C4QEhlKFKLbvijirBCtwSexGJR85hVfgk8yQ2XdxSCl8BQwx+89boaxB8zyRAfQkOzuAHZ\n",
       "lQFxGEY9GiOA1LwgJPn4HI1sw9PcpNJC5nykyAOdZQ7Z4XJPxYijMffbChAuAboXltKkZ6f/KML3\n",
       "Jz442LaIn8ljaBxq+k/FJG0VuIIht2ja+BkanmbOgRRF7ko5bjDKkkF+S4BzJgJ4S2IsOHWUnDFN\n",
       "MzyjzvJ4Hlayky10i56kN9O+ai+hjwtMHI9nIDAROv3nl+AL21DM/xXz7l/lvGtOxZCwVgAXz2fI\n",
       "uMaVvx2maQa4WL31blLtryyBbVLt16Obc7WleYr+Rw/R9OTKr/V/9DBV/9uSeZMq3byL/tx34vd/\n",
       "ATf87KNSAodBAAAAAElFTkSuQmCC\n",
       "\" style=\"display:inline;vertical-align:middle;\" /></a><br>(see <a class=\"ProveItLink\" href=\"../../../__pv_it/theorems/3c3945e5f9f62fafd2d63147d38a936683e33f5c0/dependencies.ipynb\">dependencies</a>)<br>"
      ],
      "text/plain": [
       "merge_series: forall_{f, i, j | (j - i) in Natural} [forall_{x_{0}, ..x_{i}.., x_{j - i} | x_{0} = f(i + 0), ..x_{k} = f(i + k).., x_{j - i} = f(i + (j - i))} ((x_{0}, ..x_{i}.., x_{j - i}) =  \\\\ (f(i), ..f(a).., f(j)))]"
      ]
     },
     "execution_count": 2,
     "metadata": {},
     "output_type": "execute_result"
    }
   ],
   "source": [
    "%proving merge_series"
   ]
  },
  {
   "cell_type": "code",
   "execution_count": null,
   "metadata": {},
   "outputs": [],
   "source": []
  }
 ],
 "metadata": {
  "kernelspec": {
   "display_name": "Python 3",
   "language": "python",
   "name": "python3"
  }
 },
 "nbformat": 4,
 "nbformat_minor": 0
}