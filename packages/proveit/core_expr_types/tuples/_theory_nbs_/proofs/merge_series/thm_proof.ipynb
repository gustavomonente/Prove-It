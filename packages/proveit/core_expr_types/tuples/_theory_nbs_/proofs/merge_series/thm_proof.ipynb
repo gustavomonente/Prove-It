{
 "cells": [
  {
   "cell_type": "markdown",
   "metadata": {},
   "source": [
    "Proof of <a class=\"ProveItLink\" href=\"../../../../../_theory_nbs_/theory.ipynb\">proveit</a>.<a class=\"ProveItLink\" href=\"../../../../_theory_nbs_/theory.ipynb\">core_expr_types</a>.<a class=\"ProveItLink\" href=\"../../theory.ipynb\">tuples</a>.<a class=\"ProveItLink\" href=\"../../theorems.ipynb#merge_series\">merge_series</a> theorem\n",
    "========"
   ]
  },
  {
   "cell_type": "code",
   "execution_count": 1,
   "metadata": {},
   "outputs": [],
   "source": [
    "import proveit\n",
    "theory = proveit.Theory() # the theorem's theory"
   ]
  },
  {
   "cell_type": "code",
   "execution_count": 2,
   "metadata": {},
   "outputs": [
    {
     "data": {
      "text/html": [
       "Under these <a href=\"presumptions.txt\">presumptions</a>, we begin our proof of<br><strong id=\"merge_series\">merge_series:</strong> <a class=\"ProveItLink\" href=\"../../../__pv_it/theorems/176190026b58ba8de6a91c884cb3f5b61b85d6170/expr.ipynb\"><img src=\"data:image/png;base64,iVBORw0KGgoAAAANSUhEUgAAAroAAAAyBAMAAABBr2W2AAAAMFBMVEX///8QEBCIiIhmZma6urrM\n",
       "zMxUVFQiIiJERETc3Nzu7u6qqqp2dnaYmJgyMjIAAAAcRTyBAAAAAXRSTlMAQObYZgAACb5JREFU\n",
       "eNrtXH1sW1cVP4m/n99zogk60cIwiVRNJVLNIoQqWmZWiW6I0WR/IJgmxSpEYtMoZgUGZUxW/yEp\n",
       "TDMI1LVS6VsQafeFPaAanVRqpbCPdiOWOg0mdcyI7Q+QYnkpRUtSKPf74737XCt9iYjiK9m+vjn3\n",
       "3HN/795zz/3d6wCEkj589QqsxWTnw9dpFejn7NV3Q9K46fCRNYnuKyuh9PP044nDz4ak8P1rElvo\n",
       "LayEVqfBMqPrG105uFL15Wk4ZSr8URdd7CHfJ7InlqkiXjYUPp7voguQzInsP5b7gBqGwnR/F12A\n",
       "M65wlbnl6pgxFT7URRdgn8glysvV8bjxsZW76DoLInto2Uoypog5keuimyiJ7CB6TW3+6VC2rY8d\n",
       "uPc2nyOwTT7FWeyiOyaH3SMIu5rzQKIBQ0OB8k/Dn7MPo893RLicY8Gt3SRJAG3Nd9H9mMx+DyHk\n",
       "2ovRslNLB+4wzsGsewf6rPKCGHKv6aJJtNlFd4PMosDXgiTyFIk8LAbJuzDhL4y1TKJby+sd3dh/\n",
       "NHQB+pDXrYzApuAq852ie6y+3tHtXdA8A/LDI+hVhu8HP4/L2KcOcs8Q3YzfitLvSp/SU1jv6Cb7\n",
       "QV3V0u5W6HXHXHggqMLzvS3YApEo357Zfa5C2ei6i+sd3R4ZkMFZgN3VR+EoHrs3QAUhZv0XFeOM\n",
       "+BZdSrZSdXjC5kP0yHPoLVIz6bZbFF0C/ZshoBuOolVMFSVS3QUwPTC1o4797r8gsR8VfRtHxAX+\n",
       "9qAL1p4tg7h/yTrcPoGSCwfwbmLEuFG5TNE9jz/+GQK64ShazXBX2TqInTCNGZ73EzOCkoA+Lmst\n",
       "ImSPmz30PEX3MfSeKoWAbjiKVpPDqSpjLSc2CDje9c92W2aFN003agEsDliXqGQGPRS7GgK64Sha\n",
       "xfSWOqcneWYIuWDLvyGektmbBYT3l80MJEr/pug655588hCEgG44ilYxbVV5MY09d/zCytHFAS04\n",
       "CCDX3mOj/L2JiYfaWqHXjwXGDNdU1HnqpMmglGqrSNE166q1Oj35id+xUf36RoDYTQzdcTYtttcZ\n",
       "L8F5iqj0OApvkc4HoTuuzK8OUtRcHHmVNDkoZuoQmJs0JdyHGu+E0XZF163uch58/IWOqOAbGbo7\n",
       "qe+wB2qMl+A8RZLK3evhLbax3L4/wEcKKro7A52QOZg3F88MkSa/xCcpZlW2dagS9yFe5p0w2y51\n",
       "fX0l3c43GLoJ6MWj1s8C0+7HvOvnNHo9dXYH/M52I66KLlN0nei+LZuM8whpukOVuA/3sHwhwPbp\n",
       "1UXXridIFOeaux/3RsuZMjg/POLC6WzO1jwDU3Sd6C7KJrEEYVUyHZ7L4D6Ms3wpwHapa3meocP0\n",
       "IEM31fgCnoGP7uC8BOcpaPcTXt4CDdCdOH/y5E90dKmimY9v9u9eTIVUvT1417ha+pdLddzkbQUm\n",
       "QVgVz5zw1hFLPe5DkXWiFGC71DVbXkF0+aoGk18h3RK8BOcpaPcPgYe3QH6QfD1pP3OPzjNgRb3u\n",
       "3oTPxxgLqfot8cY3yRTBe8tHEEIl0mRtkaOLWRUPoc3riPRVXLlO+pAqsk6UAmyXurbqD1yJGo6S\n",
       "vcK1wWdVsKRXegNH9zeEzxkWvATnKWj3bwcPbxEtWWRNPgm1szq6WFEM5gCevuh6IqE5UC5WNBR0\n",
       "RzJ1sF49J0OGHG4y9VRRjt0bUJOaOlyHrlhktss/DGPrWCdKZtsVXW/pD5xEvNYtaNWzkEi8JBow\n",
       "b8awIKnyrEskPdKXOLp9WcbBiUg5WZfd/4yXt4g1Yt+ZmDiA0D2a0NGlihYADlreHfGC+sVV/S7a\n",
       "tSddGcvjplGTySzsbf6t2awTViXmiUX61IFiaTxitIA7EW82b2rOmWxXdJ3R0SX3ReLnl4h3hngd\n",
       "ftU2MMOCpMrrQCR1aesKR9dxBT6El+DW0+5/0ctbIPsLdOxG79LRJYpirRj0Q7+H1GjFgla1MRjp\n",
       "gR6MRxPhAT0jpMnKL5kEiRmiBQ//Avqk3osr14kVsRLrRCnAdqlrTPPmlGmofBZBfoG5kmw7gg0J\n",
       "CnICS+rSnMURbQM85qYbtdRBXkq7f9zLWzg1+CPOvwZw0c/vHrMbdqofvoWUIU3sDReCw6V/nZXq\n",
       "U60/Qe3HkBBoVVzS5O9tJkFYFacmdaUOkjrwJou20gOg9sEqUnKFoGuy3RFRWp92Vk5ZsjP47btM\n",
       "XX87Ckgl1rCkLp1e0tDFBxijVev+cmwT5ylYzOB6eItIHpJoHY4+nCcBqQfd6ddmzhF0R6uxD8Bo\n",
       "Gb9VcSH8jHN1v81J9dbXPjfkqujuok1Ov8wlMKsSySOrqC5kH6mTupudxaZ3gtoH2E+MZDGDwfaI\n",
       "8AcJzd9QiuRFIAujCL0D04ugXjF52yttL2joklFOgpe08L50va96eAu8itw8ccC/E5apBRuVPRLP\n",
       "ob3c8PDwJ3kUKuPdPugRq+AF1qQmkSFW8WHBoMzBL5C6Kozrk/ujSrxrsl0ughHtvJFsvS/cOEzZ\n",
       "gKlbgBxYBCUiiKtYAyUmqUnHWyq6mddHeFRxivMUrHMlD29xOohnkAmvajJE4bnz7PvxqAddZVWb\n",
       "G+fIqBKn1XuyLMfJTquYV/sgKpUCbJfmO9rROl3V59nCWvs0yvy1zdidZ1Ui8CEmqUnTU6VRsUMX\n",
       "xFud8xTMzjt13sLKXRtdHJE5Pj6Pn1vEt3jQVSKyGeKT79TZLtxk3csFZvhw3+OqfYBoXWHH/LYr\n",
       "5seWVJvJqXAKH9gkqpCqfgplnmsT6V5mVd6AJSapSR/Lap7BxFbpQ0/sDK6NrtGeww2jelPqoMnD\n",
       "Pw+qfKqtIlXXBvVv5EZDGk/onjyK8uZJaBJsYYtVcaOLTHLMzx2v3pmwczbUjefFbdev41YfunaR\n",
       "ogvpxfboEkFZxYfuD2B10f0/TLvzXs+QLFDPQDO72lBQBV4lk2OSu7xueb3fMM15V7WeLFvVKtVa\n",
       "21WNCJIqlaphVevt3jDVgwYSUFXwaMY3cndjgma7vDJCMvICCRUkVcivA7azlwC/0EUXPqjkycTe\n",
       "zTclcXwt5B1ySYTeFsF3R+gFkv1CkFT5BFBJecIE3Zv9IMaduhN+CdSdcFG7JMITuUnykqiyj0la\n",
       "6j3ev0MXXboiyY1eujAn9oucm/FXQg6ZCaIqd5PA18vipDd20UUxuGr2JCQOMuaZzmvMKU75iV2E\n",
       "IhecTF0hP3nzMpDdXwOSpO6vToAzSGFl7PQkaJdElJ0nFzwBe3ZwSfWywZehiy7eLxaUgew5+XE6\n",
       "PvnBkqq0UwoZ3bX6HwT2rITS0P+DwFr97xeRfPg6rfvo5+zVd/8HCyzMLSzB9M0AAAAASUVORK5C\n",
       "YII=\n",
       "\" style=\"display:inline;vertical-align:middle;\" /></a><br>(see <a class=\"ProveItLink\" href=\"../../../__pv_it/theorems/aa30f35026fb1baa9a320fc81faa8e9c6751f9f20/dependencies.ipynb\">dependencies</a>)<br>"
      ],
      "text/plain": [
       "merge_series: forall_{f, i, j | (j - i) in Natural} [forall_{x_{0}, ..x_{i}.., x_{j - i} | x_{0} = f(i + 0), ..x_{k} = f(i + k).., x_{j - i} = f(i + (j - i))} ((x_{0}, ..x_{i}.., x_{j - i}) =  \\\\ (f(i), ..f(a).., f(j)))]"
      ]
     },
     "execution_count": 2,
     "metadata": {},
     "output_type": "execute_result"
    }
   ],
   "source": [
    "%proving merge_series"
   ]
  },
  {
   "cell_type": "code",
   "execution_count": null,
   "metadata": {},
   "outputs": [],
   "source": []
  }
 ],
 "metadata": {
  "kernelspec": {
   "display_name": "Python 3",
   "language": "python",
   "name": "python3"
  }
 },
 "nbformat": 4,
 "nbformat_minor": 0
}