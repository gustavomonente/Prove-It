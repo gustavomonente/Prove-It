{
 "cells": [
  {
   "cell_type": "markdown",
   "metadata": {},
   "source": [
    "Proof of <a class=\"ProveItLink\" href=\"../../../../../_theory_nbs_/theory.ipynb\">proveit</a>.<a class=\"ProveItLink\" href=\"../../../../_theory_nbs_/theory.ipynb\">core_expr_types</a>.<a class=\"ProveItLink\" href=\"../../theory.ipynb\">tuples</a>.<a class=\"ProveItLink\" href=\"../../theorems.ipynb#range_len\">range_len</a> theorem\n",
    "========"
   ]
  },
  {
   "cell_type": "code",
   "execution_count": 1,
   "metadata": {},
   "outputs": [],
   "source": [
    "import proveit\n",
    "theory = proveit.Theory() # the theorem's theory"
   ]
  },
  {
   "cell_type": "code",
   "execution_count": 2,
   "metadata": {},
   "outputs": [
    {
     "data": {
      "text/html": [
       "Under these <a href=\"presumptions.txt\">presumptions</a>, we begin our proof of<br><strong id=\"range_len\">range_len:</strong> <a class=\"ProveItLink\" href=\"../../../__pv_it/theorems/00ead3eaaf49a57b29828afd51a7e62314fded7a0/expr.ipynb\"><img src=\"data:image/png;base64,iVBORw0KGgoAAAANSUhEUgAAAb8AAAAXBAMAAABpBVx2AAAAMFBMVEX///8QEBCIiIhmZma6urrM\n",
       "zMxUVFQiIiJERETc3Nzu7u6qqqp2dnaYmJgyMjIAAAAcRTyBAAAAAXRSTlMAQObYZgAABQBJREFU\n",
       "WMPVWG9oHEUU/+X+3+7exQ9VoWI5ciBFEA4jFCWBgNhGQXpBsFVBz6LQQAMBQdEKHgolVyku+CFF\n",
       "ka4t2JoPbURRIkKPFqqkUBbF0oDKQVulQo8gCJJIcd78293bufWQ+2AH3t2b2Tfvvd/Me29mFxh+\n",
       "y3r/P03Da0UfzpRkgiHWVgaaS812BUFqirSPBnVkRVKHOj8PD+Ap5dYp+rEefFhw+5Fzk6ZpQXzm\n",
       "YZb9zZoBWk1aga09o/sNGske0UXq/D48gDeUWze4lYubgpuD1UmapgVxGTgNQQaAZVqmUqNndK6n\n",
       "TytA9oiOUmg0h4avVJNuEQOceWJKcsC5pHlhQTgVQQaAPyQpsSvi/5MLG9IeozLLY2d5aADzrnQr\n",
       "zyPyrOaAj5PmhQVh3SHIAPD1QQCitCHtMSqtLi0tDi9CF5VbQue3mmNLOZUwLywIXJMUA1icHxwg\n",
       "2SP6a2HhzUSf+xaHumGsqtyq8oC6e5xzVpWCrtbfhhKENUbpcl5SDGCKdBzf3lN4qhUTQLJH9DLQ\n",
       "osEJXykArtNPRiaE6iN4ztpe4AuDp0eUW0d49w/BORkWcKWkKiMFkca97PcXSQLgpS61q8QWyMna\n",
       "iB+Zy7XHAZI9okdFfXPG2nSyiu3iOVkQwrOqj+A58NQO5ozs7JmYSt0lxw8qtw7yiPpTcB+mmQk7\n",
       "IbyUINbAqim+khTbwTzzpOSORmsG1x4HSPaI8kj5xgwRALPtmDe8SO9iocEY65tx326u4hH5bIty\n",
       "awu3uC44b5SZzq4nZI8UhJch316QFAM4wgYs7KYLzmm+rxRbXDucbve3bd1uQwMke0SOn6exUc8M\n",
       "MBfPtKYESOfWlZUl2N+n0TYCdOYld9ZLBqgFBZcIUFSkSAn2TDuoABY7T9PQe5OUdveJpA2FaF73\n",
       "9XMN8AFkKCft556ptI0hWmhI7hBNTghRLYhyTSrf1ZODv6oQBa72zD5krKJkj9tsvURjV/jy8X1M\n",
       "ZzoBwEXd1881wC9R5nrrqz+2jUVmpCI4a9NJLjJKkJ34y7EiE14IyiZrs6eKkvb+RQaf85Udp58P\n",
       "KLPxqdMIAE7rvn6uAU7jhADo6CNAF/fz3FvJZdbZHTndxhmyRz/WrTATCMpwm5AUA8jt2BvRQa49\n",
       "AjBFEsweJ/AUlWX97WCdJMCdoj+9wJrHnue63W3dmwLg89jDRit2veir8NOBRQx2q6E5prFcR/4N\n",
       "CjNarlcV85oXEcQOdUxdNwHkIZfujfU5Pwow/eKtSW6PE0rcxJ18szd4SRl1A4B7dV8/1zu4Ezmx\n",
       "g3isYryqfYfQDewko6/j9ZNbDwRfITPzgvpc1fK1f7vJaHsngzhmm3rUszvt4mFgJlRFSWRGa+i0\n",
       "FUAK1p/g8BVi9+S24bJtN25CX7vF5Td+5lD6BILP8gMx8bKd9Y7V+71zRU6Cc5ELPu39zLJ1wM3e\n",
       "A2wPAcx7qk8aDrgS4Ptv7QMeAt6lzbwmz0ZqLeVWC/nDHTUE+fpSiTl1nGwoweLfhRoSX5cK7rH2\n",
       "OwPditXrUmjlxYXF1pko8nVZ9aPnIMTLcorlYL8X3lLVhX71Za4xK3E/KH0CwX2TakVa/V54c1V/\n",
       "IIBkr6Dv0eXLdfWZYCX3+NYQQDRVPwbQ9s2fHVJ10yeLtYE/WZRcQZCa/tsni7WITWcMan393AU3\n",
       "DPBJ1Y+9XpzA7d3S0J+AzO3+2wHFP5+3fWJBAebrAAAAAElFTkSuQmCC\n",
       "\" style=\"display:inline;vertical-align:middle;\" /></a><br>(see <a class=\"ProveItLink\" href=\"../../../__pv_it/theorems/300252e5ff26737b369663949ec502c7ccc1eafd0/dependencies.ipynb\">dependencies</a>)<br>"
      ],
      "text/plain": [
       "range_len: forall_{f, i, j | (j - i + 1) in Natural} (|(f(i), ..f(a).., f(j))| = (j - i + 1))"
      ]
     },
     "execution_count": 2,
     "metadata": {},
     "output_type": "execute_result"
    }
   ],
   "source": [
    "%proving range_len"
   ]
  },
  {
   "cell_type": "code",
   "execution_count": null,
   "metadata": {},
   "outputs": [],
   "source": []
  }
 ],
 "metadata": {
  "kernelspec": {
   "display_name": "Python 3",
   "language": "python",
   "name": "python3"
  }
 },
 "nbformat": 4,
 "nbformat_minor": 0
}