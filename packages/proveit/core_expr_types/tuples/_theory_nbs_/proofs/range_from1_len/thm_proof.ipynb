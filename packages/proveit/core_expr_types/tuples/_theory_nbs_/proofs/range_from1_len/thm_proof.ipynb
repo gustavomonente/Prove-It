{
 "cells": [
  {
   "cell_type": "markdown",
   "metadata": {},
   "source": [
    "Proof of <a class=\"ProveItLink\" href=\"../../../../../_theory_nbs_/theory.ipynb\">proveit</a>.<a class=\"ProveItLink\" href=\"../../../../_theory_nbs_/theory.ipynb\">core_expr_types</a>.<a class=\"ProveItLink\" href=\"../../theory.ipynb\">tuples</a>.<a class=\"ProveItLink\" href=\"../../theorems.ipynb#range_from1_len\">range_from1_len</a> theorem\n",
    "========"
   ]
  },
  {
   "cell_type": "code",
   "execution_count": 1,
   "metadata": {},
   "outputs": [],
   "source": [
    "import proveit\n",
    "theory = proveit.Theory() # the theorem's theory"
   ]
  },
  {
   "cell_type": "code",
   "execution_count": 2,
   "metadata": {},
   "outputs": [
    {
     "data": {
      "text/html": [
       "Under these <a href=\"presumptions.txt\">presumptions</a>, we begin our proof of<br><strong id=\"range_from1_len\">range_from1_len:</strong> <a class=\"ProveItLink\" href=\"../../../__pv_it/theorems/888839e3665572d43ec3a1885a90e70093fa888f0/expr.ipynb\"><img src=\"data:image/png;base64,iVBORw0KGgoAAAANSUhEUgAAASsAAAAWBAMAAABqGadAAAAAMFBMVEX///8QEBCIiIhmZma6urrM\n",
       "zMxUVFQiIiJERETc3Nzu7u6qqqp2dnaYmJgyMjIAAAAcRTyBAAAAAXRSTlMAQObYZgAAA59JREFU\n",
       "SMe9Vk1oE1EQnuanSZO3qYgieIoNiMdoTwULCx4ELwYPnjxEUPDQQqCg9YdSeiipIgYvSqWYqthS\n",
       "0RZK1ArS0KoVewlWxIJCbkXBUkRBWii+NzO72ebtrlHEB5vs+76Z2Y+ZeT8AfzrCRfhX469CBVYz\n",
       "OjgCwlT/LRUHhGPm9xHJacY2plBbh2SMFROq6v2TWxBh6lysn2ON4/RuqqAgHM0FP0WxAx3kdAYN\n",
       "yViXRazEF9Xsi7ssnUsUONZnnHbNTikI4rvlh6t+spoXN8ipGw3JWJdFrMRvquT2u8vSuSWOZaQx\n",
       "Bd/vIXT/1bqczfnJmjxishMZznkVUTEST8i2E1PusnTuPMeKYBHiawSBoWSN+smatZ3IcNRT1iji\n",
       "xpuJiRvgLkvjWnIci1CRI4hkJUwfWQu2ExmisassySj8Zz5/yUOWxgXSHCulZsb+njRCJEukvVUt\n",
       "7WpHp1gqSYZoXC/LYhV+GmCIPqjLIg7gIG8H0QrHuorT1iRBJMvw6/lv5CRC28gQjTGUWMWBMplV\n",
       "+CFs/jDVPdzzAvZkbVnEgWgrExSZ4lgXcXo7QxDJiud8dqwf5HQrWCVDNK7PlsUqPAIBzsWD+U54\n",
       "KorBoi2LObtrmkyOtcPu4ybTkhVe85aFi0M6FVWClSEa18uyWIWLSoRA48pwEZ4n06JWROZai+6y\n",
       "FhqWpRYHOs0WfWRZrMJbqscBQntVNeUola47ZCEHxrVOcC3iIDiLGPIpYjTLToNsGMrV9VYWaizi\n",
       "Q6ckJxOCHVsSD0/UZCEH8MGOvrXlt0OjLd+UJKfYhqhveedKZBbxaSl8+AnEcC2WoDzvkDWNGWi3\n",
       "a2FtEPO0yVvbQkDJCpZhUn1M/cQ2nS/ylZ1CayNoiI8my2IRV30GAxDuzecHpKyRiEMWcpwbTj/6\n",
       "HKYoDAVPbsoyJzIQuaDKqupx1no5h315FNipu4KG+Oi9xSydb9Ixtp6BLGUrdMwhy8CgO90PH9HP\n",
       "EI0x+TzT1yBGeA2Ow2eMH/ddfsyBx6tleKle3gF8dMiikq+7HtWPExWGaidwWV+DKnr2K9jne2NH\n",
       "NX+5qwBRuaZCfSY018tyLLGodbGRm3/vIwuiEKqTktpX7qg0XabVMFQzrHrJ4ouNY+yTvbX18OEN\n",
       "Le16DXzbYUG2PEP/DC7UFEkftw2jBS9Z0YJHFu1zuY8uzYn3GeelOZBxvzQvN3ppXraNAy63cskE\n",
       "VswG7vSiDf77+AXeNyiqd0d2wgAAAABJRU5ErkJggg==\n",
       "\" style=\"display:inline;vertical-align:middle;\" /></a><br>(see <a class=\"ProveItLink\" href=\"../../../__pv_it/theorems/c2125e55f72267672f2952c6f82eb1a055c574c00/dependencies.ipynb\">dependencies</a>)<br>"
      ],
      "text/plain": [
       "range_from1_len: forall_{i in Natural} [forall_{f} (|(f(1), ..f(a).., f(i))| = i)]"
      ]
     },
     "execution_count": 2,
     "metadata": {},
     "output_type": "execute_result"
    }
   ],
   "source": [
    "%proving range_from1_len"
   ]
  },
  {
   "cell_type": "code",
   "execution_count": null,
   "metadata": {},
   "outputs": [],
   "source": []
  }
 ],
 "metadata": {
  "kernelspec": {
   "display_name": "Python 3",
   "language": "python",
   "name": "python3"
  }
 },
 "nbformat": 4,
 "nbformat_minor": 0
}