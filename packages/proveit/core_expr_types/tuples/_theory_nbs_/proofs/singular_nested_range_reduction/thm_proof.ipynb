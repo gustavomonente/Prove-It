{
 "cells": [
  {
   "cell_type": "markdown",
   "metadata": {},
   "source": [
    "Proof of <a class=\"ProveItLink\" href=\"../../../../../_theory_nbs_/theory.ipynb\">proveit</a>.<a class=\"ProveItLink\" href=\"../../../../_theory_nbs_/theory.ipynb\">core_expr_types</a>.<a class=\"ProveItLink\" href=\"../../theory.ipynb\">tuples</a>.<a class=\"ProveItLink\" href=\"../../theorems.ipynb#singular_nested_range_reduction\">singular_nested_range_reduction</a> theorem\n",
    "========"
   ]
  },
  {
   "cell_type": "code",
   "execution_count": 1,
   "metadata": {},
   "outputs": [],
   "source": [
    "import proveit\n",
    "theory = proveit.Theory() # the theorem's theory"
   ]
  },
  {
   "cell_type": "code",
   "execution_count": 2,
   "metadata": {},
   "outputs": [
    {
     "data": {
      "text/html": [
       "Under these <a href=\"presumptions.txt\">presumptions</a>, we begin our proof of<br><strong id=\"singular_nested_range_reduction\">singular_nested_range_reduction:</strong> <a class=\"ProveItLink\" href=\"../../../__pv_it/theorems/53dc711c4c856179e727a3dcef199c581198538d0/expr.ipynb\"><img src=\"data:image/png;base64,iVBORw0KGgoAAAANSUhEUgAAAugAAAAWBAMAAABgc3TjAAAAMFBMVEX///8QEBCIiIhmZma6urrM\n",
       "zMxUVFQiIiJERETc3Nzu7u6qqqp2dnaYmJgyMjIAAAAcRTyBAAAAAXRSTlMAQObYZgAABjxJREFU\n",
       "aN7tWV1oHFUUPpvsZrOzO5tQFMEfCFmJfVzbByk2ZasPARGT+iD4Ay6hgpEWFgpqtEhQKElBXH3Q\n",
       "agmZxp+WCs2WglIfzBChqS3IYqE0D+pCqxBRCSWCTYp4zz13MnNn7k8S89gLZ/buzHzf+c7MnHvu\n",
       "3AFYV5sURi3XTJyQr6+PZDM4K8t5O0ohmXDnjS4mYUsjDayFO36ykDhjZACflhjmVPx4xxiMGAkQ\n",
       "RgSykHstOFnFjl2gYHkZOupW2CmVb8QpsGGkSWe2SDUa4azHccIu467fLeEW62QAB2YbAIsJKU04\n",
       "YyRAWDEZnlu14GQvl1dBwXIQnJYVtqjyjTgFNow06cwWqUYjXAWOE3YMc2/MEu4VYeAsf8bklhWn\n",
       "FHpM9x9hV5SHjDi5zTxR0bDM2WBKyYSbU0ZrkGxUrNfIccKKHvtpWMIdFQb5JbbJqrLZ6TbgOWxU\n",
       "fT+6133RZ0HHcsIGy6oHoBNK7KhZslGxXiPHCXMvnT79ka0K1cjY7cGt+vQbBoLCGsHGcHKbBx1L\n",
       "sWKBaSJEXAIbRqqRfGNTGgkn7J/x8cOWaNvKZOA+fIj9lADSFz7uHc7M7afj0zvY5js9nsOQ4MmR\n",
       "D/p6XugLwpzebsbFsv6enZBkcUqYsWULLCGZfCMugQ0jTUq2RarWCE7vmMAJewlgwhJuZ5MMoAvH\n",
       "s3eZ0s63YeZBOEvH/b1s87OBAGFI4I/3ODcr+SA/y6mmGSe3m6BgKaTZr9uywBKSyTfiCPvDX9iu\n",
       "B9HqJFsjVWqEdnhA4IQ9Lgr4bvRVoqwbkpmyDTKAKTzyJsDz2RZM+fAL5WNjD9t+bZCCMEaQabwF\n",
       "udvgLokEqHc1zDg57f8GBcvxdqY+X7PA4pKFb8QlsGGkCWfWSNUaYQFWBU5YFtrwchd6fbZ9lupe\n",
       "jCpVIRN14i4Ab6YCsx6bIvPk4ff3RUt5YQSOswz5FZzrCtygZ8Ylq3GCxcNHMrNkgcUlC9+IS2DD\n",
       "SBPOrJGqNYKXXhE4YYVm1laLwos+Ly46anoEYJtwtWK56POChGlqr0GqJ7p/3RedF/Eky6xnvugc\n",
       "lpBMvg0XXS3ZFqlGI+2PXPRc6xk+hnl6qnB4OQKUq8DS7DCkbzk05lfZZsBwvY4IEjYUZH0YrAe+\n",
       "rltwcmWpKlmQO12zwBKSyTfiCEtj+m/h8KKWbItUoxGKZYELbAILuvteP9s+VuUl+lHc0f90qa1v\n",
       "KFZI+XPCqhLcz94eGPNxeiNo+Obysk2QpHxgSb4nJ94LnFXYQCHlj02CxVktmAtpqkclmXyHhTQ2\n",
       "bdBJtkWq1og4uZDCOX6rr/HivMIL+1OoZ28z9UpblZIjmFkx1TTlyS1jAhV93/mX7RjE5aTdwPt8\n",
       "M9OCyD+CIcFUBZP8jwI/QSSrEsePy/8wCAVLemmSPVe+AkG+CZaQTL4Zjps8RJT1kqORrl8jjYEM\n",
       "FxqfBsJOrL1f4vV36hfY9pOHoKsiBK1lYZqPfwP8H5uN5vvr8Bqj68AFs1+B9+FVTLCq6NAuDkOC\n",
       "AT4/OrcA2Tf4TKqmw/FO+I+fPQhKloNNPt3ifRnPaQmWkEy+cZoWn6pFIk06i0a6AY1YTDhuzVwv\n",
       "GDOgkwZ+3h+GfWJ4C5cBCrwaS+/UeTFqObWwHz9MMOnl+BtOVNbi5MbPvghqFtZORvpxaRfVktE3\n",
       "x51ULgPoJOsjNWo8JHCBiXY3z47Pef8W7dgOUxlpweurIh/upNWjQnQ5R1HOYQ0mLQOxFMp4OBfW\n",
       "4OTGzs5X/wQVy9rCla/0LWBxyeRbv+ClkWyK1KDxOT59jyx4BbdvBXJH4dsCHPMg0822uSX2rF8T\n",
       "5J11bq+LVc3oG+y0+D0T6ccOC1hn5GlzmOMp/x09Tl4qYmdnj7aULPy3FfZjvgNYTDL51izthpGq\n",
       "nGkUGzTmbneWQVraDQeyzH3wxfewrwFtY2ybrsIifHhJ+ojx4y76G/0iEHyRmYj0Y4cFLLq07+L4\n",
       "WGrqcfLaDVqprmQJgnTVvgNYTDL5Fs+S4iOGRrIhUpPG4f4ANyHdf8w/ehFt8JG9scHPde4mP2K5\n",
       "W/G5bmGTn+sWNFjj57r/E2lgYvJ+dUh8LszX97/vbeLT5Z224VboDXLGhQMjymS907as/QcWOJuA\n",
       "/EQy9AAAAABJRU5ErkJggg==\n",
       "\" style=\"display:inline;vertical-align:middle;\" /></a><br>(see <a class=\"ProveItLink\" href=\"../../../__pv_it/theorems/583fa4baf0b16baf27bafcb4252558096112d3890/dependencies.ipynb\">dependencies</a>)<br>"
      ],
      "text/plain": [
       "singular_nested_range_reduction: forall_{f, i, j, m} ((f(m, i), ..f(m, b).., f(m, j), ....f(a, i), ..f(a, b).., f(a, j)...., f(m, i), ..f(m, b).., f(m, j)) = (f(m, i), ..f(m, b).., f(m, j)))"
      ]
     },
     "execution_count": 2,
     "metadata": {},
     "output_type": "execute_result"
    }
   ],
   "source": [
    "%proving singular_nested_range_reduction"
   ]
  },
  {
   "cell_type": "code",
   "execution_count": null,
   "metadata": {},
   "outputs": [],
   "source": []
  }
 ],
 "metadata": {
  "kernelspec": {
   "display_name": "Python 3",
   "language": "python",
   "name": "python3"
  }
 },
 "nbformat": 4,
 "nbformat_minor": 0
}