{
 "cells": [
  {
   "cell_type": "markdown",
   "metadata": {},
   "source": [
    "Proof of <a class=\"ProveItLink\" href=\"../../../../../_theory_nbs_/theory.ipynb\">proveit</a>.<a class=\"ProveItLink\" href=\"../../../../_theory_nbs_/theory.ipynb\">core_expr_types</a>.<a class=\"ProveItLink\" href=\"../../theory.ipynb\">tuples</a>.<a class=\"ProveItLink\" href=\"../../theorems.ipynb#range_from1_len_typical_eq\">range_from1_len_typical_eq</a> theorem\n",
    "========"
   ]
  },
  {
   "cell_type": "code",
   "execution_count": 1,
   "metadata": {},
   "outputs": [],
   "source": [
    "import proveit\n",
    "theory = proveit.Theory() # the theorem's theory"
   ]
  },
  {
   "cell_type": "code",
   "execution_count": 2,
   "metadata": {},
   "outputs": [
    {
     "data": {
      "text/html": [
       "Under these <a href=\"presumptions.txt\">presumptions</a>, we begin our proof of<br><strong id=\"range_from1_len_typical_eq\">range_from1_len_typical_eq:</strong> <a class=\"ProveItLink\" href=\"../../../__pv_it/theorems/750bab8a8cef357ce4b5658ab228891a4fc8cc0a0/expr.ipynb\"><img src=\"data:image/png;base64,iVBORw0KGgoAAAANSUhEUgAAAYYAAAAWBAMAAAA2vyYhAAAAMFBMVEX///8QEBCIiIhmZma6urrM\n",
       "zMxUVFQiIiJERETc3Nzu7u6qqqp2dnaYmJgyMjIAAAAcRTyBAAAAAXRSTlMAQObYZgAABDdJREFU\n",
       "WMPNV01oU0sUPq1p097cG0UUwY3R4s9Ko4IgtBJxUXBjceFChEbwLQqFV1D8R4oLaRSxuFGEYlAR\n",
       "UV6ah9SKIA0k/vDcBN/j4UL7Cq9dKCgiChJBnHPmzNxp7nQa0YUDN3PuzPd9N9/cmblnAL63tOTh\n",
       "Z5W98zZ8Hz1a1s9YGkfAz2DdXlUtHCWG51ccUUAGV+oBlRDmKpqOweQhmMK7VzZkxdLnDbKHW3S3\n",
       "aStHovQ5H3u9YxjJ0DpIwD6HB4S5CksQuo+qZ3j3xu4h2pccZg+vSe3ZFxn9KeZXwfng/okikqG1\n",
       "SsCCwwPCEssdHqohvUDVZZwOg3YP0b6/QXoI0ng3ujODkdf/u/DgpxwWvI83iIwFgRJs9yBgNx/X\n",
       "nCOi6RhUIImPL9o9RPuOsYc4zcgJFf0ngN4i1wx+L8nkZ5EC2z0gLHB70HQMKhD8dfv2JbB7iPS1\n",
       "D7AH2fpERegBpl0DNyDJVKYV2OqBYPN4COnTVH0eGjo5h4dIX3OaPXTQS1+2mSPyUJ77kcHGg2ki\n",
       "X9vEwPKcHhDm8qAlCF2m6jeAHDMjgrIPoJN30rYqezhPtx9URB4mHeO2MCXJpe0MnNQe/HdU0qoB\n",
       "YS4PWoLQk1TtAE/soS1yy205WIGVWe1B9oG/qiSb4kX2cIJm1icVkYdxh4erPURuL25j4Pic7wGf\n",
       "4fAQShB6nKo4NPMo3yl3wX0/vyCvBbkvmWGBpgx7WKIX6hLtodfhYUKSPXp1vQps9dCUcXoIJQjd\n",
       "K7enapwn7bkreXiYSvuhIPctzFs94EJt0MMTJidqP+ohlDA8tE/tAYitwYkjytjYRcMD9UFwoQts\n",
       "c6ktO2sudTs8nGEyUboV2FwP2QbnUihB6G5Z5Q4IITHUlFmM+X/sMwYF+wBeaP6sNd2UanhNL2by\n",
       "aLFUv6br38N8a1pLGGsa7oopcWUcPNoZxqBUNgTv0p6+WW/zam8lzKiONqCHTvC+4oTFn9Ep/qE7\n",
       "8Zlm8i7MEDtBXnYPCIPmWr2GDrQEoTtlhfsenIaWo0NDp4WHkbghSH28k4oSU984epe7gKMtK/4X\n",
       "uiLNPYJeDuOEyKofaoq9Z3IrZpAzfNk9IGzB/q9dED+uNA6bYlqC0DOyCjBRqPVAVr6H2G5DMKDV\n",
       "vNSeazwFnXXgWItnJ6JnC2ryB8HINQbk5co1qDywi4FBx0CpJKZK8AiDfwBezkrmkVGz5XyJ7FvQ\n",
       "2Z9K5SxZhrjuJatMbjDn46+ZVcyS8/Hf7B+GNrEhxE5loLXeQ2wg3BRU7p2D+FnaBOSHnNPpa5bU\n",
       "QFxHC4qsgK7cm2HgpaxiYNIL9SrrxHqIHKrMoZ51Bgo65LPUGQi9VKMesOn5VjAONzlt3H0GCuxi\n",
       "YNJzNhWjrOWzaPLfHvM42dxjPYsGjZ5FEcjg1fWA1Y2dRTUdg/WHGjh6+6vg1y7fAFBkjT1cLZQQ\n",
       "AAAAAElFTkSuQmCC\n",
       "\" style=\"display:inline;vertical-align:middle;\" /></a><br>(see <a class=\"ProveItLink\" href=\"../../../__pv_it/theorems/002e9b7cdbfd819af9b129a771dfbd4cdbde4ca40/dependencies.ipynb\">dependencies</a>)<br>"
      ],
      "text/plain": [
       "range_from1_len_typical_eq: forall_{i in Natural} [forall_{f} (|(f(1), ..f(a).., f(i))| = |(1, ..k.., i)|)]"
      ]
     },
     "execution_count": 2,
     "metadata": {},
     "output_type": "execute_result"
    }
   ],
   "source": [
    "%proving range_from1_len_typical_eq"
   ]
  },
  {
   "cell_type": "code",
   "execution_count": null,
   "metadata": {},
   "outputs": [],
   "source": []
  }
 ],
 "metadata": {
  "kernelspec": {
   "display_name": "Python 3",
   "language": "python",
   "name": "python3"
  }
 },
 "nbformat": 4,
 "nbformat_minor": 0
}