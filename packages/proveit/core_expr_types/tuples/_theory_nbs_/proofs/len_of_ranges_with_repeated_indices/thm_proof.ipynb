{
 "cells": [
  {
   "cell_type": "markdown",
   "metadata": {},
   "source": [
    "Proof of <a class=\"ProveItLink\" href=\"../../../../../_theory_nbs_/theory.ipynb\">proveit</a>.<a class=\"ProveItLink\" href=\"../../../../_theory_nbs_/theory.ipynb\">core_expr_types</a>.<a class=\"ProveItLink\" href=\"../../theory.ipynb\">tuples</a>.<a class=\"ProveItLink\" href=\"../../theorems.ipynb#len_of_ranges_with_repeated_indices\">len_of_ranges_with_repeated_indices</a> theorem\n",
    "========"
   ]
  },
  {
   "cell_type": "code",
   "execution_count": 1,
   "metadata": {},
   "outputs": [],
   "source": [
    "import proveit\n",
    "theory = proveit.Theory() # the theorem's theory"
   ]
  },
  {
   "cell_type": "code",
   "execution_count": 2,
   "metadata": {},
   "outputs": [
    {
     "data": {
      "text/html": [
       "Under these <a href=\"presumptions.txt\">presumptions</a>, we begin our proof of<br><strong id=\"len_of_ranges_with_repeated_indices\">len_of_ranges_with_repeated_indices:</strong> <a class=\"ProveItLink\" href=\"../../../__pv_it/theorems/093953c578a23c102c8761ec96efe50aa5bdbdcd0/expr.ipynb\"><img src=\"data:image/png;base64,iVBORw0KGgoAAAANSUhEUgAAAuQAAAAyBAMAAADmctNNAAAAMFBMVEX///8QEBCIiIhmZma6urrM\n",
       "zMxUVFQiIiJERETc3Nzu7u6qqqp2dnaYmJgyMjIAAAAcRTyBAAAAAXRSTlMAQObYZgAACYJJREFU\n",
       "eNrlnA+MHFUZwL/9vzu7s3cxKrZEsnhRSYSwWmNDtGGRRBMlsFcTA4SEFWkChpo1JdACqYskcBRI\n",
       "BkigYOpNq7ZQYrtCTq2x3KY9qdoUNi4mojUcKUIgYbO0V8Jdkfr+73szb2ZnS9gZji/ZndnvvW++\n",
       "md/Me+9737w7gIESO326BaOUOVh+YtTo9oXTbweoHdv3mD3Ksyu0liFyuJxunnzst0GQV0d7cl+Q\n",
       "f6Tsjy7lq+Uf5jzbmYwe8vy48shXyGabrMu18fe+YIdjlvvO5FSGciR72qfpIO+PLvLtFTdyo4G/\n",
       "fzlhEd0T6HMDpC3fvvMrF4GwzK8cUFsV7mcoR4onajKnva4IIr8L3MiL5BJumm0S3Rvosx6Meb+j\n",
       "pA+fAmFp1gbUVoX7GcqR4omazGlbb/SQ55c0yDvkMVr4Fe0Vy7TogN9h9n6HPlQdrjgQPLhgfoZz\n",
       "pHo6oIm87ogq8kxZg3wTuRk9VoM19O1+h5ll202iXQe/6T04A0eqp+0a5LNWRJG/bLmR5+pkt05V\n",
       "j7KiYsXnMIfYAFiHILVVl9xmGEcOT8RkTvswRQ/5RnAjj+OTNb+8gZ7zBGr7EyVUVPY+SuesVWRL\n",
       "LHecB/61FRF+hnLk8ERMHMjNpWgiTy1okGdJsDaGrv5KtH0AaZPjUqSrk+PoUA1mWY61B9RWBPsh\n",
       "EtQREdUTMXEgN45HE3liXIM8QyKI6Sp8bzXa3g7w8wS6pHzdJ6I+CalVdWppWmNN/9qqTPPrDeiI\n",
       "dRuKJ2LiTFx0o4k8VtMgj1X4QPVt9PkkgI2fxFTPfwhM1qmlAVfY/rU9BsSgjuiJK56IiRP5hVYk\n",
       "kV/b9kR+qI8cZgdAxEMgR04tgyM/JCEP5Egg73vSIp9uRxL5hZZnx3I3Q34720/6tPdsjZZTy2MD\n",
       "aquCjt35x+fKgR2Za9ZOOD0ldR0LbcGRQ34neA6fn2DI0ahmnCr4j2qxEr1sYmmcgmGGT+Tnxc/C\n",
       "isCOzEvaMcvhSTd8QrYeSeSf0SEnIZexwJAfRDR729BI24K9+Mrwl/G+vIN2KxQ5sSQTWlZbVNSY\n",
       "UVvkJ7ejDkuBHT3+RRizVU/k40Je6FHk5A7+ZwDyIokr2x8+ceOEDjlppskeQ44/69G5FKuQuQ13\n",
       "O7i93sJ3brWx2RVyA0/gL15bVFTN8A61xX7SJRwcBnV0HVzi8EQ+LuTmSYr8MN68OQB5AXdURXsE\n",
       "YflxHXIymS40GG4+D9+FPn90hxDkLP/Cb9QmPu3T19bYYj+xaqJVDezoU/CNlMPTLs2En13cJGzF\n",
       "wWVjAHJSYesoklqntMg7AL8r4kb2e0e2qeUOIfBRam8Bi407kLJJoK2v7bYlfqYh891qUEe5Htw8\n",
       "4/CkS2uxJjxJnt1Cc1BfjpvB4REgN09qkWct2LgHbR/+6XXo+156AbhDLbmOsAM/bFtQWW71OyVs\n",
       "Od26y7u225b4+RbEjwR2lKzB+W2Hp3kdcniHIjf/tnv3owOHz6O7dz9ZHwHy+KIWudGAv18kdE8A\n",
       "uw1guo+A24I5IUJNo5GeaHvXdttKfoZypHjKWlrk77KI5d2pqTs07lsK8rGpqXtaZwQx59lta5v2\n",
       "kvMe0HBJ8yLupWD+meVLZ3TuwziSPVGTzztrnMOQr+MNSJWygjxdpXcucUSTFunrJmj2kmCqiFtX\n",
       "rKrlQFJOeV1KNLEEy1jOYsgv1b9pUpEny7CHjCTnu2tKuqvoGEi+6ZCM3wLmHeVAU06sBac2zMG5\n",
       "PLOS7i1n5D9hyDMQlwNuTkBFDnW4AO+/qjnQq/rjU+TXuPRpYAHcTrR96uAa+EPBTtgfK+SFdkbo\n",
       "BIGDqzasasrIjwAZPXXtfskP+Tp3VoIjL1pg3ve4DftL5cLHo2O5lSHPzX9fhGgSAcdT/osUbvv/\n",
       "POGegUq6b5L+YcfXJeR18ZuXC+SocV2K92dmHhLIC4vLGTkfPuHe64Flw2QCDuTZR/BoZ2rmTJKu\n",
       "RZ7R8uV95PiNIPvNywXyfI1mG2YKvxHdT/xkgJjAV+Mh/QU9IcqnOfJn0OXTbJhMwIE8v5q0e6T9\n",
       "kTPIEDVzT+HOx7Ce6yNPNsRvXi6QJxsGMZ2B1kFx/xb8EjANrSa/0qG9QWPbX9ATopzgyPGLD5IN\n",
       "Uwg4kNN3fNk2XOO8wGy/r8nSOdoDEvIa+Z2cQrIFl/+4+0q32ybIU/OpjVNTP0MOt4nRJO+HvGhp\n",
       "NWbNoV3vzCKslOeE4YnxHkdu2iwbphCoOpD/i+/e5p3b3ftrslnsI8evfGFRKe8/5TWo0XucXCvi\n",
       "pf/5nHIngEYmzSbpO59bkjMf4QlPazEh2TAXARdTmyDfaue2kC+0wbrO/qOo29gCzxaQFlLjfeQG\n",
       "fprFG+RnCxw5TjmZLfgz3n8R4Kja9jxkUwCNBjldzSAW9IQnNGfHkdNsmJuAAznOnSLkk83UCpi0\n",
       "UitSZxPd0w3ULtD+zr+iIog3pIgF1Y6LLhiVU+Qk5ZSoQBYFosnNFRqrE9nsM/2uD9Z4IxcLesIT\n",
       "Go5x5DQb5ibgQN6hEEFkHvNEl65eKSadTd6jU9BfEj28EpeTjhh9zkM9mSIX+6S80PBy2Y0PTZQU\n",
       "DV2uI/eYvIKKXCzoCU/SPaVjoeIioCJ/ax1Fnrf6sRfWZeCCCovB8tb1D9oS8izw3y7k+3Wn9bJa\n",
       "GZ7vYjnGx+nWVMlYVEduslxHfpaS4zrk4o1keBJraJDrawrkB9BFrD3RlFKZbaLbCX9q02wmKrrp\n",
       "Rnn2mWzz387UoqF95K71Tt1nmpBqbmaLdWymYct1JCGrfdzIxYKe8GS6NDzyoaTcn4Po+wlb66zm\n",
       "fR4VMIwFMHHzpC97+8t1YA9pDf8FttoHCt3u6+d0uzWBXKwuCU8iunQo0fNDjhdHpclDfAvXSEt9\n",
       "mMzauqc8AsjvgUgiTy7o+vLXeDeCOo2xti11NUCX68hytzZiEe/7w5OILgOFDZ4leLCMtdBD3FKG\n",
       "T8Pxhpqs9oni8BmP6GJnV8gihSJodJiuwPNmVdY4/9KFrvZRkMeVBT3hBSy1iCKPeWLB3QKadz3y\n",
       "b0VDl+soKZa2ijzxg/fXSAt6QpPI/uFKfmnICX+mPGj2SUQs6AlN2JgTwT9CPDZUWost19Em7pQu\n",
       "KvS0Fs8xRxD5g57uspZbQ5frDJbwk7cR/lNb7ymi7hUFXa4zWPoLesKSH0JkkcPXPEs+wIu4/oKe\n",
       "kES8rwyEfMT/HCRdgmUow/1zkFH/C5yvLkPiBntl/MLpt/8PdbolQ5BA4ZkAAAAASUVORK5CYII=\n",
       "\" style=\"display:inline;vertical-align:middle;\" /></a><br>(see <a class=\"ProveItLink\" href=\"../../../__pv_it/theorems/8a4b225174bea10e8c14ea3e56dc3e461b08db0e0/dependencies.ipynb\">dependencies</a>)<br>"
      ],
      "text/plain": [
       "len_of_ranges_with_repeated_indices: forall_{n in NaturalPos} [forall_{f_{1}, ..f_{_a}.., f_{n}, i, j | (j - i + 1) in Natural} (|(f_{1}(i), ..f_{1}(x).., f_{1}(j), ....f_{k}(i), ..f_{k}(x).., f_{k}(j)...., f_{n}(i), ..f_{n}(x).., f_{n}(j))| \\\\  = (n * (j - i + 1)))]"
      ]
     },
     "execution_count": 2,
     "metadata": {},
     "output_type": "execute_result"
    }
   ],
   "source": [
    "%proving len_of_ranges_with_repeated_indices"
   ]
  },
  {
   "cell_type": "code",
   "execution_count": null,
   "metadata": {},
   "outputs": [],
   "source": []
  }
 ],
 "metadata": {
  "kernelspec": {
   "display_name": "Python 3",
   "language": "python",
   "name": "python3"
  }
 },
 "nbformat": 4,
 "nbformat_minor": 0
}