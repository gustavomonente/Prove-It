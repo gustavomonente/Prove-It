{
 "cells": [
  {
   "cell_type": "markdown",
   "metadata": {},
   "source": [
    "Proof of <a class=\"ProveItLink\" href=\"../../../../../_theory_nbs_/theory.ipynb\">proveit</a>.<a class=\"ProveItLink\" href=\"../../../../_theory_nbs_/theory.ipynb\">core_expr_types</a>.<a class=\"ProveItLink\" href=\"../../theory.ipynb\">tuples</a>.<a class=\"ProveItLink\" href=\"../../theorems.ipynb#general_len\">general_len</a> theorem\n",
    "========"
   ]
  },
  {
   "cell_type": "code",
   "execution_count": 1,
   "metadata": {},
   "outputs": [],
   "source": [
    "import proveit\n",
    "theory = proveit.Theory() # the theorem's theory"
   ]
  },
  {
   "cell_type": "code",
   "execution_count": 2,
   "metadata": {},
   "outputs": [
    {
     "data": {
      "text/html": [
       "Under these <a href=\"presumptions.txt\">presumptions</a>, we begin our proof of<br><strong id=\"general_len\">general_len:</strong> <a class=\"ProveItLink\" href=\"../../../__pv_it/theorems/fc4df86355ddb074aa6c503d66528ff23f0623150/expr.ipynb\"><img src=\"data:image/png;base64,iVBORw0KGgoAAAANSUhEUgAAA/sAAAAyBAMAAADxWdboAAAAMFBMVEX///8QEBCIiIhmZma6urrM\n",
       "zMxUVFQiIiJERETc3Nzu7u6qqqp2dnaYmJgyMjIAAAAcRTyBAAAAAXRSTlMAQObYZgAADCRJREFU\n",
       "eNrtXW2MXFUZfndnZnfmzr27/FAQjHV0E2iUphOW0Gi3OtVIG3+025pA0cYdK03A0DikRmglOJZE\n",
       "tkWSQRO7lNReSqh1id2xuq41YMcuorapmbhowLRlkxYMJp1s+kHoLlLv+bzn437NbPHHzn2TO3vO\n",
       "e85z7tzz3POez3cWIFQ6rl6tQTvIy23xlGAUyV/z6tXrImTvOPK03Q7VYrbHSw6whr4GTz8Tif7B\n",
       "9qiVm8VIamG98dLjWNNMG9PPJSvVhVlAn5m6qHNj2UqkIgV4RIQie6HpAgQIHKEXexwmP4rp1+TZ\n",
       "gk7/QWwkb/sM0aHYfSR4f2DnKgLgV3Y4wgdvlAG6ytDMLREEsjeRSFeFXCr97FFj+l15DHT638aV\n",
       "eGKO6FBsCwkeCipJAsA/IyB88D2IPmZBDkWGgEUHd8Y0uVT6maGL6XerZFan38qj4NiXSd2RGE3O\n",
       "BRTlBQhGeONhCqDJW8oQOEYvhX54JKZfke68Tn83NpxHWQ6h9zWCKs4LEIzwxsM2gCZvKUPgWXqp\n",
       "9B+txPTL8kZFp383Dv6ZqnaL6ecCivIEBCK88ZkSNHtLBdJTIJdKP33XY/q5PAw6/X3YnN7QT1RO\n",
       "zOhjFnjSvyQRAMYny+EIH3ynQ9L+27h+MiIE9i/mT5Enl0q/NRvTL0+ML3nQ/yQOXnBSyyRmJp0K\n",
       "24CUZwLKEgCQgI9FQGh4LGln1FdbydVnIkIg31EXZvh4lq/Qb1yI6ZckcZ0H/d/D9vQypPpLJPZM\n",
       "Yhq+sgxpJwJm+wIAXoe5cISGpya6Cpnq57h+IhoErEpvlY1nS+RS6YdGTL/8kEUP+j+Eq3AGIFki\n",
       "MbvXMf6rkHYoYA4hAMBOzoYjdDz5TgUweLsOvSWDOJi1NrNpM+TS6F9aiekXZajuR79ZEtg8aoeT\n",
       "KQFwrDn6zZLApTAfHYoIcQeC/vTvq8f0683By/ini5RNFPshUDJX+RclAaAnH47Q8NaK9X3EkvNI\n",
       "2C1dCMBZhkmyN1Glnxi7mH4mPwC/oV9HjlahEzPmTEpDwDhMBACMVcMRGt5aWe+o4HHcWLVGImG3\n",
       "dCHOt6Qx36EfpEsx/aJ8xIt+PNUaK1A2nVhyZi8lcwCM91FNo4+xaSEgA4TuYkDJrENxAOP33AK9\n",
       "Np6yrc3USUQvAN+N39KFoA6DYhI1cmn0mzOUfgw/HUJ/D55F1Bcu+8ZFL/oxbWupEcWxLXWqfRPg\n",
       "IcTJd9Fwu8gC2zUALAMZwTMrUBTAJWL8JlhJCuk6TSN6ATjg3pJDIFFimJ5Bcmn0W5cp/SfQ3/+E\n",
       "0G+iLqXHXsDT/gte9ONV278wNtkaLiLTQDMqvT5+DxpgazBCHsDbDP9hGEjxFVwSCbulC0FreiT2\n",
       "cyCXRj95Xof+ETRtLIfQjzOMLGDbn53zot/KQ7Z4ns6f+Q4Omn+j/RdTL8axszLgq3hGHoCQbwoU\n",
       "n5mB74yz/RsaCbklh6TsfYMs5rflQ62dQz9q02Y1rO9H5uHEAqbfuuxFP+yE7l1O75hZ9k4Ox5D8\n",
       "5PubyO7rfr0LcXJJgMx76XwgQhaUjvHJItzqdDNpbG9oJOSWHLKv9hiL+W34OvIOpd86Pjq6O3To\n",
       "d2p09BelBUx/5xVP+g+C1efOCA+6yehN0IdCFrokwKYVwQhZ6greEK1ytFsa5a4+ngu9PumKJ/3v\n",
       "spH/u8PDj4CnURHo7x0efrz2/2EiE5ZhcD5gH7g5q74POJvfYS+r6cNe1nwPe1ktHPZ6nV7scQRZ\n",
       "xOjfzKyaLHmJ/q5B8holTuo5BV2fniqoejxqXtAV+HsnZeyUNuI3APwm4OFVsIL2hSdmob3kBkb/\n",
       "F2n3EEh/Mk8OGx27Vc8p6O7RUwVV1mvM5QaJpUNn06SMKfG1R7snCaq4e6DQeb1cmgaW0RI8tfVl\n",
       "+ESRAWfajP4HGf3d0CmaOFYrMv1QgiUo7HXk4Nw1+kaE/o2+6UU660JuCsaL/fVs+Th8Vs6yMaB4\n",
       "EQ4vTK6A35l2wm57+s16N1fyWpns39pfFek/CXjk52UjZ68p/ZuD09EU+m2A146MQvbvCVDGI5vD\n",
       "iqdw64k9NryUy5tta/wfYvRnpu/iwwuhVpTW/7MUajSvXdTHnoLuC0UtVVDtX+4x1Vmu0l9SMiZv\n",
       "1vhbgvoix8p/7Z6cQr8KFtAi3OnwHBkf/zGn37zSZvTzoR/svBfoDpFYKwr96Z/idRCP9SFBV9Pb\n",
       "kKDKr/EYYaxR6EeH1aSMZq+t8vdbsgidHTz+D5l+DSygRThZ6R43f8k7i87LYaPpvU2vJDUx1t/b\n",
       "AoGuD0crcj2n/9dOpZEdIrFWFPqz+MRKwtF+Sx0085yZF0pqMlbRGWnlFQ2MdRI/ybKScc+E0zPb\n",
       "En+r4TlCv2nK43oGdmXPhN76V4OBYeNQ48fnrEsBVYWm35L7hCT3+cGiO3b4F+56eegp3IejFbnI\n",
       "6UcnWPAOkVQrCv3k1Em6DhvVb5l2+4N0TktO59zwkzqYHqcT6C/yjKuHHbFhB6T+aENXo7GocZ7w\n",
       "93W420nJZQczdXkpioKxcDSpKwmeenh4eIfzoHv5qCcbRD9ynZDcJyTZ4gVBrj3RHTv8C3e9PGTL\n",
       "cpPow9GCGO9x+i3UttAOkVQrgwr9/2LB7R6LglTGnteSkYrJFR0MVxT68RlJMaMxOwjdcuu/E7pI\n",
       "64cv5eRZXlkukaDV1n8nnQWMQ3I9R/43oK6mQHWf8JPD9K4PfNsW/DIOh2SPWLjzxLTEA6+gLpUv\n",
       "6LcgfMuHCt4h0mpF49fGxIzYmV34w/mDdFMvnXLs/C74g4mSaRr5cFQ4dcTGNxPBVIeTOT9oX4tm\n",
       "pI88XRPpR8b8FJjoK1kFsGpCWSM2BfMSMdpafrqmwOFPKPwqDorG0Ee2geo+EcYnvGELfhmh9G9r\n",
       "kn5yUJv7cLQgZIuL0092iPRaUehHjcchZl01dSOsq6RuTH0U6w6XHXvhhA/8FSU7AZSGPrAKp66r\n",
       "QmdZBlMdTnZH/k4OmpG1pIpAP949uR3gCfRlzjnN2L0ZKo6AeYkYnV1M5qwiPO1MapOPFogVwfJo\n",
       "wNJtSXOfiEQ/XxAJoz9Taol+7sPRgpCZDqef7BDptaLQP0X4gaqwaDeFloQ38AW87eK6Gw6R1Coe\n",
       "BkhgoiPJnP5PA8/IRWj9SJwOr9Pp+7VlwyoF8xLpYgDuEyQ4LB7eIdfH5/2rCq0bK+4TQu/Sl/Ol\n",
       "fzIi/b6FS14eGv3ch6MF6ZqRjT8RrVZk+s9vpvxW3NkH0nXDkgKbhWwXpyM4hFOzlXufshUw0REw\n",
       "5ycNLKMf/dm6Ov/hMy0C5iXSxYDOV/3hEl+C/K2B5Cwb23L3iZQyEncdP3T6z0SkX/HNkObNK/3p\n",
       "5wf5WpCOshf93lk5/cec26+/WMW7jETqWHcAXqzT3UiUXBeSgaZa8MD9KpjoCJjzk6yzjO44ZSle\n",
       "ymGvzXPStxM21RiYl0jaZzF70h/OZMj/yAM6PcvcJ4j/hiCu44dO/0RE+hXfDLHfEbw8NPq5D0cL\n",
       "si/XAv0frOTV5uwjnwpZC2kJ3lH0f/6C4D6BT3HBIWwb3gTR8QMZjAcbjbdc+odUrWpfaILimwEG\n",
       "Lr0xCJKXh9lo/HtRo1Hk9PND/C1I7OahLF7NhNKP3SeSanPjJ3n11j8UsfUrvhlSe5/1b/3zof9x\n",
       "iOmXVowuefX9b4nGH7lP6PRzxw+d/lVNGH/BN0NaNSuKWpl+7sPRgsQunops9U3hQz9jTq9v1/Fj\n",
       "nkM/1zdDWjVzvTyu5dCvM3bwDhn6C4N7NsFCllil33X8kIheikobUNYCFXcOnqD4ZogieHmI9GP6\n",
       "uA9HCwP/Yky/8pS+FcmNbMLL2nLHD5H+Oz5+to79MiSt5NchJCi+GdL8/LSoZfQnvvH+CsGHo3mJ\n",
       "f9wleJAlCVv0Re4Tnp2t3vpxay9FNP6Kb4YqrjYrLjG5PhzNy1mI6feuEg8hWz7YfcJ7os13lUel\n",
       "TiPnpRVllN9A9M1Q5/6u1pC6hta3fNjecky/K0/5PiY5Lo/dJ6j/hix4J0GX6Bu+km+G1vd4aue1\n",
       "4Rv/rKNHk/CdQ5HjHoL7RDTZGTlnC4WLPhxNyzchpl+TO3xTWjrsZX3Ah71cH46mv1m5Kfrb5Afd\n",
       "u3Lt8Zo3+4Pu7fLvHG5vD/YNeo4S/TuH/wEnvUktAIDVAAAAAABJRU5ErkJggg==\n",
       "\" style=\"display:inline;vertical-align:middle;\" /></a><br>(see <a class=\"ProveItLink\" href=\"../../../__pv_it/theorems/308e55b6d2d2792cc6aaa5ae3d7450ddcab633830/dependencies.ipynb\">dependencies</a>)<br>"
      ],
      "text/plain": [
       "general_len: forall_{n in NaturalPos} [forall_{f_{1}, ..f_{_a}.., f_{n}, i_{1}, ..i_{_a}.., i_{n}, j_{1}, ..j_{_a}.., j_{n} | (j_{1} - i_{1} + 1) in Natural, ..(j_{k} - i_{k} + 1) in Natural.., (j_{n} - i_{n} + 1) in Natural} (|(f_{1}(i_{1}), ..f_{1}(x).., f_{1}(j_{1}), ....f_{k}(i_{k}), ..f_{k}(x).., f_{k}(j_{k})...., f_{n}(i_{n}), ..f_{n}(x).., f_{n}(j_{n}))| \\\\  = ((j_{1} - i_{1} + 1) + ..(j_{k} - i_{k} + 1).. + (j_{n} - i_{n} + 1)))]"
      ]
     },
     "execution_count": 2,
     "metadata": {},
     "output_type": "execute_result"
    }
   ],
   "source": [
    "%proving general_len"
   ]
  },
  {
   "cell_type": "code",
   "execution_count": null,
   "metadata": {},
   "outputs": [],
   "source": []
  }
 ],
 "metadata": {
  "kernelspec": {
   "display_name": "Python 3",
   "language": "python",
   "name": "python3"
  }
 },
 "nbformat": 4,
 "nbformat_minor": 0
}