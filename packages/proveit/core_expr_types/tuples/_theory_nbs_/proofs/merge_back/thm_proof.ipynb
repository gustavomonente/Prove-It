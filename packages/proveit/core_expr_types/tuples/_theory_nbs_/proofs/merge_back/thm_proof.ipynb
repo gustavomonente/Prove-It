{
 "cells": [
  {
   "cell_type": "markdown",
   "metadata": {},
   "source": [
    "Proof of <a class=\"ProveItLink\" href=\"../../../../../_theory_nbs_/theory.ipynb\">proveit</a>.<a class=\"ProveItLink\" href=\"../../../../_theory_nbs_/theory.ipynb\">core_expr_types</a>.<a class=\"ProveItLink\" href=\"../../theory.ipynb\">tuples</a>.<a class=\"ProveItLink\" href=\"../../theorems.ipynb#merge_back\">merge_back</a> theorem\n",
    "========"
   ]
  },
  {
   "cell_type": "code",
   "execution_count": 1,
   "metadata": {},
   "outputs": [],
   "source": [
    "import proveit\n",
    "theory = proveit.Theory() # the theorem's theory"
   ]
  },
  {
   "cell_type": "code",
   "execution_count": 2,
   "metadata": {},
   "outputs": [
    {
     "data": {
      "text/html": [
       "Under these <a href=\"presumptions.txt\">presumptions</a>, we begin our proof of<br><strong id=\"merge_back\">merge_back:</strong> <a class=\"ProveItLink\" href=\"../../../__pv_it/theorems/37238015d33896152e82a55e0e1f0ea3ee6fc6710/expr.ipynb\"><img src=\"data:image/png;base64,iVBORw0KGgoAAAANSUhEUgAAAe0AAAAyBAMAAACDhZ6GAAAAMFBMVEX///8QEBCIiIhmZma6urrM\n",
       "zMxUVFQiIiJERETc3Nzu7u6qqqp2dnaYmJgyMjIAAAAcRTyBAAAAAXRSTlMAQObYZgAAB4RJREFU\n",
       "aN7NWl2IG1UUPpvdZJKZTLJUa0V9SLsoa30w7T7IarVR0S0F3awP1qKwobTgQtGAUrH6EOuD/aEY\n",
       "QWgRpGHFtVRsUhRKxbqBgq2t2GBRCqK70ipU6FJKW3SXiufcmblzZzI/ySgzeyF355577pn57s+5\n",
       "52cBwi/pAkRYpiJ783dRwoa+2YheHCtZmqkWf/yQKqXqL4IxtnMaoqjDXcyvEeE+Ym0epEpePYxV\n",
       "BSBRgQmvwZwRlDtETkZHUQeXUWtC/zmWZDMS2PKt1vYlqhJnFgAyuESJFhz2Gs0ZQS2JnIxOoi5Q\n",
       "67D+6+gDQirJvKWpsmZ9Peq6c7ray3mMFhlFTqIzUQtGh7uYI5Hgnq5ZmhI7h9NUva6vR7/XaIFR\n",
       "5JzWRfXNGx3uYqRINvor1uY+Vp8krVTWSRc9RlsYBc6Tuqh0mXe4ilH+jgC2anvpAFXnlg2hnsdt\n",
       "OrkaWyfcR3NGmBwUORmdRGXyyrmq1nGi06kPpUgVa3svq6/SwcdbqPmoz0VjMEK+pyVyXtVF1Rv3\n",
       "juodrPP7OSoXrEJmauHjHrcZa2+wi/c6zUgDUo1H8OGo+2iDEdRqtiFwMjqJmp6sfaaLcBdTz4WP\n",
       "e5WtzS4V5QpWPQWQ2bqNu482GJFztCZwMjqJWqXdFuOeYjIRmGy3OeFm2ojgKPPeuDmjpsnGLXQS\n",
       "tW0w5487Fr5ii98Eh32eLOnblz2MeFz+BqNmoIxY6ChKvpa6BnrHiHm+/7CdlpvhG+f2qWZ6rSen\n",
       "q6t6o+mp1zgjyAuiBmR0FKVekRfSIOi1zjZdCNaa3Zpgt02ddm4aj+YouRZrQP6HiHgK2QNvCYza\n",
       "idA5dfoJZt5fT7MO7edS3gFg4n4JDXeP7RrTduMocxDxjCboS34HeA2VlkR7dxvolbTdwgi9ZZNT\n",
       "p6OoZAMGVmod7OdSzgKcob9/hoa7nrff52SnngLRTkVESvsN+yVYGKW8yHnKNHkNEXLZ/StmirCf\n",
       "znklvOvbfnWiM6GULmtGl+ltpNtH4sE3GeO1A0WTU6erfE69/RL2FRmcr3QjPK+k7VW7QNqt3adJ\n",
       "bb3IgZxs9x4Rhsl4oPm2wGnQdxnMnn6otuvU04cO7QtPr+EOA3vcQR3QAMsV/vWtdruefpwxMdAS\n",
       "OA36QXMuhUlwKFlUHX/t3PlmeLjvbwv/2ONMasdxJtUtzkQdnmKyOMNbvKeGy7TZH57MVVfmsxG4\n",
       "BA63Cp6Lx0Fmp2NNy/AKIUObcbmuFwqGWlluKopYXinYDZIlgjVpyGCgKyAwr10cuFHXSxAjxOkV\n",
       "FIXYqFn57FbQP1Y7dIkqJxCWKgzrjxvWFGLM/HnVFDthyCDWIXzHMO96eTHABgmtp3RLYmtsX8B6\n",
       "TcT9gknQCoXf5a+GWkrlNDxIz/PmrBhxnIRhZUwtQtyp2WfZUa85GVIc9xa7u0AxzfPHDoHyQy9d\n",
       "rZoRpcM1tnjSwJ2pLq59LtHH7tpMKvDdh7F+jExDmHyIGc7xewTcZZOAUPABD0cfs5Of35hrMqP5\n",
       "mZIh1ZDBcce4zj7rq887zxv45Ad89Bp8zlbqPFNebLPmn6b68hfaxma4KZRnEBAjbg6lBBn27uLp\n",
       "Hwl35uf184mdWPay+B6TwXErJX6POdzfECBvIL9VBp/8gBdu+p4s09NDhO5TEiZXvyHCjaKwz/sq\n",
       "JgHgg6OM8pGGO838o+wWLnWdIYPj7uOG8IxdjQTNG2TyHdhlrvc3DVZr3A9O5rhPHF+yR8Rd0gjr\n",
       "aEVrsAP7Z2EDPueUYqpFszU2yC3QJzUZL839NjfXYrjjPLAzXWi3zyFI3oDCa752uKuUJn9cytof\n",
       "s2eKDcQqYykTN17CnEC6u0gzkdDWG56gNw/G+6sJim1chucMGeZ6830+3nLyxwLkDSi85pMf6MQ7\n",
       "wmsotRu+TsP+GsT7sU7mNsRM3OjUcQJinW2C2oQ0bXy1gI84dEe8bAj7hCaq38CtIG61adlhYgma\n",
       "NzjJWS/+F+8IVyV+J0x9C2MNXFmsM9XE3YI+3w6cgLOwtQq9uN/oJIzga0s49BJsMs6/VKPtouNO\n",
       "PXAjx5j1PnsoM2je4AIcH/bLD7jHHariMdNMrAY75aa7qOG+ry0WS2cBzzeYFh43WRu6pkiKzFrp\n",
       "veIUX+s+byAvxN6/6RtHcyvcesr8hIt1TLsTN79XE2/FimmCiOW4pXXM0qoAyRAGmczqvFM8tfu8\n",
       "gTK/Um755Qdcy+3ck1hhOL0qbJ3QvF0L7j6bPpKt59Ta+xSTYfpwAnN8wSl+3n3eoPcW8I+Tu87e\n",
       "1Q6Y8k4rCjEve9NuQ4nM/1PeQNq0IzjuCPIGsNZpn3efN6gXDhRAyA90F8wuh497tOCg13py0GXe\n",
       "YMZk7V6vZXPh45ZsF3jAvMGLkC02ffMDbsGuCJxCu0IPmDfYA7HVNd/8gEsJP02E5S4HOzVA3oCz\n",
       "yl0f1kj+z8P+fz3B8gYgsHZ9WDP5KHDb3xoob6ATg/mhRyKJ+aSW2uMOAfIGfM46C4JbZzCa/9uz\n",
       "25XB8wb++QHn0EU+Gty9pWiDiuejevGmSGFH9n/YgjceRZliWu1f0VJQ6/CXLcoAAAAASUVORK5C\n",
       "YII=\n",
       "\" style=\"display:inline;vertical-align:middle;\" /></a><br>(see <a class=\"ProveItLink\" href=\"../../../__pv_it/theorems/6086de2c9d399a3ae8f6d4385b26cc1826071d4f0/dependencies.ipynb\">dependencies</a>)<br>"
      ],
      "text/plain": [
       "merge_back: forall_{f, i, j, k | (k - i) in Natural, k = (j + 1)} ((f(i), ..f(a).., f(j), f(k)) =  \\\\ (f(i), ..f(a).., f(k)))"
      ]
     },
     "execution_count": 2,
     "metadata": {},
     "output_type": "execute_result"
    }
   ],
   "source": [
    "%proving merge_back"
   ]
  },
  {
   "cell_type": "code",
   "execution_count": null,
   "metadata": {},
   "outputs": [],
   "source": []
  }
 ],
 "metadata": {
  "kernelspec": {
   "display_name": "Python 3",
   "language": "python",
   "name": "python3"
  }
 },
 "nbformat": 4,
 "nbformat_minor": 0
}