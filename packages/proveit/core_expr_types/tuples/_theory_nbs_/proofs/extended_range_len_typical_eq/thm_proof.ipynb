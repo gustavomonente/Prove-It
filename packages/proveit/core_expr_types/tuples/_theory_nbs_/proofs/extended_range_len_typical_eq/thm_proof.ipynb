{
 "cells": [
  {
   "cell_type": "markdown",
   "metadata": {},
   "source": [
    "Proof of <a class=\"ProveItLink\" href=\"../../../../../_theory_nbs_/theory.ipynb\">proveit</a>.<a class=\"ProveItLink\" href=\"../../../../_theory_nbs_/theory.ipynb\">core_expr_types</a>.<a class=\"ProveItLink\" href=\"../../theory.ipynb\">tuples</a>.<a class=\"ProveItLink\" href=\"../../theorems.ipynb#extended_range_len_typical_eq\">extended_range_len_typical_eq</a> theorem\n",
    "========"
   ]
  },
  {
   "cell_type": "code",
   "execution_count": 1,
   "metadata": {},
   "outputs": [],
   "source": [
    "import proveit\n",
    "theory = proveit.Theory() # the theorem's theory"
   ]
  },
  {
   "cell_type": "code",
   "execution_count": 2,
   "metadata": {},
   "outputs": [
    {
     "data": {
      "text/html": [
       "Under these <a href=\"presumptions.txt\">presumptions</a>, we begin our proof of<br><strong id=\"extended_range_len_typical_eq\">extended_range_len_typical_eq:</strong> <a class=\"ProveItLink\" href=\"../../../__pv_it/theorems/4ef7e0b0328e0ca0a5581eed76c657071e4d13600/expr.ipynb\"><img src=\"data:image/png;base64,iVBORw0KGgoAAAANSUhEUgAAAooAAAAZBAMAAABENxJ7AAAAMFBMVEX///8QEBCIiIhmZma6urrM\n",
       "zMxUVFQiIiJERETc3Nzu7u6qqqp2dnaYmJgyMjIAAAAcRTyBAAAAAXRSTlMAQObYZgAABzRJREFU\n",
       "WMPtWX2IVFUUPzs732/eKNEHFdXgIoQlTSqJtcZUtC6BOf6TH4VOYX8sCE0IbpZ/PAhs1oimf3b9\n",
       "pxzXcmsDdypRNiKHVbQU46EkbpgNaIaBg5RBrSHdc+69b959787bzdgE6/Lefeedez7e/b17z/0C\n",
       "8KVo7yb4P009hXs3a7ixf8X36utQX6/PSOWf2ZP6/dcHxYQNB4l412ERZZQn1xUqoy34voQ2hd2D\n",
       "nqJULlAzII1K/VGOYh0f36sopvFh2tOH4oeiRkkL850dZaKiFvQEqklBMO6AaBPw5LxF4PD9qUfc\n",
       "rVAUrlumTzQtlntn+kT0w1F8/VlFMVVlj3Rl+lC8IGqUpo9Zv79KVNSG3YFqUhDMAiTrzSodvQIO\n",
       "348A2twdgKJw3TKd9DZu9qu4d6ZPRD9sww5mqSjS+7bpA9HMihqdoLZw+X1Bse/KBKi5BQHGHP7I\n",
       "UzkXH9OnQmH9SxVuk9vVo3hiah9tiE/bdWhCekf9MUIRmxy1PXdcxLZ5dPpQjJVFjWgyYFySFKv3\n",
       "zKB6uAQBdjj8/eDmu1AE+KHCbXK7ehQ3/T0UwZyQ3lF/B6FoHhkeHvCOLqeHhz8qTh+KA6JGCfKR\n",
       "KkqKpXMBaoogpHOSOgxuvg9FsnmuJYqJ4rWgSN5RHwk2Rv9eKm32ojijVHqjNn0odogahbL4UQ9u\n",
       "yBI1OI+9HQiIA1IQBu/FKmQF/8Rt88HF96N4QNrVoui4bhFGZlk6FMk76iPBUHwRoM+LYjQP8ZaT\n",
       "jrLrmddPZCjPtyqGt0SN4hTTZ2Q4VXuMvZwJAF8KQraN5aYzvPwCbr4fxTPSLqH4TQPTWQdFx7U+\n",
       "tcNdOhTJO+ojwVB8Qgw4nXYTxXCWRrUO3nUIC95/EHwhnMLyPX6vx9hHkRIr2+MoKuk1UaMYxePt\n",
       "eaIS1UfZy74AFIUgmOUZLDdkT0z8Bm6+H8V90q62LTqu9WkcruhQJO+oj0Q/ghZC/FKzaq5ZdxHm\n",
       "snwVV6fcknmPEO7B8nZfix27n+ZQTImVYbHoECs6c6FbhczNokZtOTk4MCpJbWptAIpCkEkuY+BE\n",
       "LrkHnSYfG9vLjcb5JoprpV0tio5rfaqEqQM3Gj/d3WgUHBTJO+ojwVBM2TE1WOPrMfDGXIlipMaF\n",
       "6QlJ7wQNw/hzIqIUqJgpJr+YbxvWEXhYi+JhQRkTk6B4WFFxUMRBx8X3t8VJUeSuA8Y0f1v0opio\n",
       "P0NBp+JG8b1IoQWK0TwXjubl/FlNExRpZdkFUjw1OgzG8XaoaXv0FkHF0eWSABS3OCoY1cLyP5Ne\n",
       "k+9HcYm064qL5909mptokdJZHYph2aPDvEdD3zosenuxG8V4PxN4nGwPPqKgGBPCMV4+1+Pz1K82\n",
       "NmNSmkuXhVGWfcSzqzI17ehyk6BGqrXg0UUKQvIKuEaXtozCn2x08bZFx3WLNFKdyugCn9FPPaXs\n",
       "RhgLWVajdp59WkFxQAgP8PK93umIRRMwUtpLl8WX5Ub+yLfyUw+IGtF0IXlZUMsSrD6dkLyKTMxG\n",
       "6uB6awryDtheIwEmllP4CooPIIqd4tajKFyrHskyN7+/4kExJLxzfST6xQQCYL66p8PCbeJjhDdZ\n",
       "PqSg2C2Eu3l5t3eIzkLYEkrddFmwk6OYcmZ4S0SNqFuELwkqinsiPwL04mdvxA8pCIKzHEFoL/Kp\n",
       "Q+xVLFwGCt+N4kP3nLXJJt16FKVr9OF4JIKbX+iZdbc/f3WxmLjQrDvPUTQrspe5UPwO23oGmiUS\n",
       "xS7B6uLlazwfxvpHuCCU1tBlwYpSqZQx8gm7qFsBpizXMizJRAz/NgixmoIx/B1D7P4cOV+Bwlfa\n",
       "orSZLE66AtS4JfMbvGsXSkNSf0jZX7zFv7848gE9/lBQXCmEV/LyLo/jtjxELKHURRcbkHhbhCcz\n",
       "mt2IvWnbtSVAOweacRJcgpEKThxpG4D1JqNwERQ+pmFFeWq7ERq3zPxqmo3Sz1BQ9uxGSJkJP4pf\n",
       "pmBbBSIzFRSHhPAQlcNpJpLYyjN2wUiF/jspnabLghRWzsyB6YTwPlEjtkB6hW9aiaUSvgz6q4Ms\n",
       "R3B77XXge1NJhk1sa13h+9NkO2PCtd8tM5/4M57Vrgs9O2Py8KDoR3HX17C8CiFLHaMrXJg9WTks\n",
       "YCKR22F5mWWRO3nIY+GElBbQxag3MRayiWRBs0t7fBE092tpLarZ6kOWIxjtsEXdTfw7HWWF7099\n",
       "INe4rXdptW7R/AuLtTbjcpc2XnajaGb1JwZVGR0liqEqFw7xCUAdRZzwxbvHfSKk1uliiiEWF70n\n",
       "BrN1Jwbm1E8Mxqd6YoA2hd3ZnqJQ/lpPDMal/rj73CV9Mq9F0Sive6eirgAtIUwMw3aflYzCRZxx\n",
       "x4GUsMx2VoA3cpIopmbpT69MWN+jrl1gqRBeSichvN07HW8M21zYJqWddP2XUFR2xrTn0VmZy7ZH\n",
       "zzkBJ2RzeHH2Rscw3LvxLwP1ZL93Iqd+AAAAAElFTkSuQmCC\n",
       "\" style=\"display:inline;vertical-align:middle;\" /></a><br>(see <a class=\"ProveItLink\" href=\"../../../__pv_it/theorems/5554ea8294c939927320154b9afd6374ae5aaeea0/dependencies.ipynb\">dependencies</a>)<br>"
      ],
      "text/plain": [
       "extended_range_len_typical_eq: forall_{f} [forall_{i, j | |(f(i), ..f(a).., f(j))| in Natural} (|(f(i), ..f(a).., f(j), f(j + 1))| = |(i, ..k.., j + 1)|)]"
      ]
     },
     "execution_count": 2,
     "metadata": {},
     "output_type": "execute_result"
    }
   ],
   "source": [
    "%proving extended_range_len_typical_eq"
   ]
  },
  {
   "cell_type": "code",
   "execution_count": null,
   "metadata": {},
   "outputs": [],
   "source": []
  }
 ],
 "metadata": {
  "kernelspec": {
   "display_name": "Python 3",
   "language": "python",
   "name": "python3"
  }
 },
 "nbformat": 4,
 "nbformat_minor": 0
}