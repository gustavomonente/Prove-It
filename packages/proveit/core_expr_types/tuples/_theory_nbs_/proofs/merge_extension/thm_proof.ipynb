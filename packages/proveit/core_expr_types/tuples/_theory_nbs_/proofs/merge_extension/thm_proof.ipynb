{
 "cells": [
  {
   "cell_type": "markdown",
   "metadata": {},
   "source": [
    "Proof of <a class=\"ProveItLink\" href=\"../../../../../_theory_nbs_/theory.ipynb\">proveit</a>.<a class=\"ProveItLink\" href=\"../../../../_theory_nbs_/theory.ipynb\">core_expr_types</a>.<a class=\"ProveItLink\" href=\"../../theory.ipynb\">tuples</a>.<a class=\"ProveItLink\" href=\"../../theorems.ipynb#merge_extension\">merge_extension</a> theorem\n",
    "========"
   ]
  },
  {
   "cell_type": "code",
   "execution_count": 1,
   "metadata": {},
   "outputs": [],
   "source": [
    "import proveit\n",
    "theory = proveit.Theory() # the theorem's theory"
   ]
  },
  {
   "cell_type": "code",
   "execution_count": 2,
   "metadata": {},
   "outputs": [
    {
     "data": {
      "text/html": [
       "Under these <a href=\"presumptions.txt\">presumptions</a>, we begin our proof of<br><strong id=\"merge_extension\">merge_extension:</strong> <a class=\"ProveItLink\" href=\"../../../__pv_it/theorems/229919c71b2372fb95a57b0f88a5eff622bc55bb0/expr.ipynb\"><img src=\"data:image/png;base64,iVBORw0KGgoAAAANSUhEUgAAAnsAAAAXBAMAAACBs5SsAAAAMFBMVEX///8QEBCIiIhmZma6urrM\n",
       "zMxUVFQiIiJERETc3Nzu7u6qqqp2dnaYmJgyMjIAAAAcRTyBAAAAAXRSTlMAQObYZgAABoxJREFU\n",
       "WMPlWX2IVFUUPzvfM++9SaIPUorBhYgsmDQIS2MqUgvK8Z/MkpxCIUFhQOjD+uPRH7JrRNNfSiGN\n",
       "WmoG7kRhbFQ7rKClFIOS7ELGQF8YuCyWUGtI55x775t733v73kJMBB7uuW/23N95597zzj33YwH+\n",
       "G8p3BEvaQ5XVmJNaGFJ7lUmjkv20x6c6CnO1PbsN4i4JzvXdfYckQ2HxUqxcgIwLm6M0GMgqHzV1\n",
       "pCEPUKYh2P8yl+r9gw2h+nwYRiMPGGmD+BQJfuu7+85LhsypywBFMt6BI1EaDGSVs6AjDblB1nz0\n",
       "U1ewj4rsrS1jLaG6NQyjkQeMtEG8m8LU7bf3nLJggJFHKwBnhNQuRagQUKiYSEPOI5JtB47PYD0u\n",
       "2SQ2WPjjPfBUx6MCXwdG2EAuYnTarX67L9sQDDBG1cuym/MiVMZAqZhIQ64PDRwa2l7JJrFBa1pT\n",
       "3Rth2gBG2EB2Th4+vKvvc3eXZIATFO11Kf4pQuWEp2IiTXlgaMWKYHMVYIN2XVMNYDQygBE2iP8c\n",
       "Gnq17+4blAxnblwCkMB5sW8x/nVsdg0GkkphoasjffLA0OyyYIPIIDh3bSuzamGwFILRMo0Cxtkg\n",
       "3gQwHLeEa890OIQjvcoljN6QDHAROYdbgvYD+OOHCKMXpUoSbjaQpjwwNKcrGODbKaIfQRoEuKYk\n",
       "VO3UPIUJJwWMs0H8kFyFlnVUhECRnZACVbdlcxs/oxUI+uQ32CN8/gyfABUImRavSIb8JUorLci3\n",
       "7scfn0Z8sktSZRIu60ifPDA0qy7YTL2c3N+tCtV3kt0QjEYKGGeDOAsJcpy9kJy0ToC5zqma9jfU\n",
       "jM90A5b6jY3fAbwva0GyQQVkwK9dVkncIDHXSRZZeaACBY6iDTHpm1SaqRkd6ZPbU1O/3jI1VfOG\n",
       "lp4WbNBAxVu1ULVJ0RXA+FatudggtjvZ8FTquW+9bF4v1m4/DrN6ui3WxxoVcl/h8yUdyz0J9/rd\n",
       "x1mZRmPNRLuPgT2VDbPIA5ER4b4TqidjzWj3ecAYG8T57hM835uzum+TbN6k7UA1whdmqt7m+Dy7\n",
       "b2L0MFink9D2T95cTc4l/rFy9iFwO6sUyzrSJw8MLVUXrHLfL73Ju0P1ZAcoTDh5wBgb/I7hjSR+\n",
       "cznWD3KA7rvPdF9dNtchdSuIqa7RxO8dTAC4nGEX7+TiQoqsWk+vK7X9S8dASWbykVY7cukYUOkb\n",
       "kfrS4ZNHLB36t+A+Xyt7UrhsRy8dChhng9/xMX+HCara1Ajlxw338aZpgjdPNgahVfMt8y7vkZIp\n",
       "fNdRLi4U2WT15HfKfcfU3mOkIhf+1XQiXwaFKySkExD98P6SQFahqaaQAbk+tAT1PtkWbGaCMp8l\n",
       "ZE9S03sYEzQrbHjAOBtsh5dpWEKr2ofkqULjuOG+lCua8fn2pyD+1Bde7NoqgA/sGj9Xkfv2C/fZ\n",
       "3uZqpZp/q0EGf+YcL9bwInYwS1/kBZBVdrsHZJV7oIcMyLWhJZ+9slzsGor+7RPPstS0Ut3aYQwb\n",
       "6pmlTrCNHjDGBttxml6s5kreVNPcVxMier6G+bIbnBgr5PMZLi6sHRoaKlnVfKfuP7R9BfqhjRb/\n",
       "4JXGZ6CArLLNQJpyIzKYDkoOHtpsF7Sz2EFlyFzvmyYw2oZm53qeGe/z778M96Vd0YzPwkxVeFNP\n",
       "UvgJnqQgbrAbV5D7MiL64OGSeWVg1S70TvDiIsAOph6cEhKIKk/xRk8h/XL+CMYHmPXK4Gixo3qi\n",
       "cO3geg86MM5Gz05hBvI74UsbdjchPc9wH315bKan1W2D00bg7qaqYKQpPsMa5O+5uGBzVFcQq94/\n",
       "zJzdKUI3J0KArqH2Be870FUKOJz/O1fWkH55UDn8wgoNvnSk1xOJC174kA0PGGdDs4PZIb0ADnwN\n",
       "a1qQcM2Vd7tMHtuhsAU3xhUErmmkb6JqgcgRWXThbfi8mwuqv07JAzeENfO61BlsaLeXPJLgla5D\n",
       "LIGH4LnlOtIvD/OT+ji+69LTS3s9ERgnqE42esAYG5odimlx2GipDOi5b5EM+UVi36eA8nxCEzHR\n",
       "4rRIV9dddl8Cc1/sZb0z58t6Z86X9ZOS4y7rJ//FZf1kwE7xbFXe/1uNjW81TfflRLMUfKH/o2AU\n",
       "LvBm2s08Mh91O1Sg75ev/zuyF6p55MCWzb5TR6rDzfikaVDWJ1wHxjnKHsscxwDZz+UqdF8YJb16\n",
       "VPsXU6IZesDn2XU7FyhfPT76B8EKTDfYQ6A+AAAAAElFTkSuQmCC\n",
       "\" style=\"display:inline;vertical-align:middle;\" /></a><br>(see <a class=\"ProveItLink\" href=\"../../../__pv_it/theorems/87d640b98d3d01ea914d63d49fe04b8a21f6d68b0/dependencies.ipynb\">dependencies</a>)<br>"
      ],
      "text/plain": [
       "merge_extension: forall_{f, i, j | |(f(i), ..f(a).., f(j))| in Natural} ((f(i), ..f(a).., f(j), f(j + 1)) = (f(i), ..f(a).., f(j + 1)))"
      ]
     },
     "execution_count": 2,
     "metadata": {},
     "output_type": "execute_result"
    }
   ],
   "source": [
    "%proving merge_extension"
   ]
  },
  {
   "cell_type": "code",
   "execution_count": null,
   "metadata": {},
   "outputs": [],
   "source": []
  }
 ],
 "metadata": {
  "kernelspec": {
   "display_name": "Python 3",
   "language": "python",
   "name": "python3"
  }
 },
 "nbformat": 4,
 "nbformat_minor": 0
}