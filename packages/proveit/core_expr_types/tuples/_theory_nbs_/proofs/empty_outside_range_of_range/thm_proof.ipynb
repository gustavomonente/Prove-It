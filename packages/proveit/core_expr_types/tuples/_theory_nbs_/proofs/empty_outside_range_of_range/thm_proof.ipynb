{
 "cells": [
  {
   "cell_type": "markdown",
   "metadata": {},
   "source": [
    "Proof of <a class=\"ProveItLink\" href=\"../../../../../_theory_nbs_/theory.ipynb\">proveit</a>.<a class=\"ProveItLink\" href=\"../../../../_theory_nbs_/theory.ipynb\">core_expr_types</a>.<a class=\"ProveItLink\" href=\"../../theory.ipynb\">tuples</a>.<a class=\"ProveItLink\" href=\"../../theorems.ipynb#empty_outside_range_of_range\">empty_outside_range_of_range</a> theorem\n",
    "========"
   ]
  },
  {
   "cell_type": "code",
   "execution_count": 1,
   "metadata": {},
   "outputs": [],
   "source": [
    "import proveit\n",
    "theory = proveit.Theory() # the theorem's theory"
   ]
  },
  {
   "cell_type": "code",
   "execution_count": 2,
   "metadata": {},
   "outputs": [
    {
     "data": {
      "text/html": [
       "Under these <a href=\"presumptions.txt\">presumptions</a>, we begin our proof of<br><strong id=\"empty_outside_range_of_range\">empty_outside_range_of_range:</strong> <a class=\"ProveItLink\" href=\"../../../__pv_it/theorems/0a18224611ee1e310d8b23d3a7867ec466dacd960/expr.ipynb\"><img src=\"data:image/png;base64,iVBORw0KGgoAAAANSUhEUgAAApkAAAAXBAMAAACypEngAAAAMFBMVEX///8QEBCIiIhmZma6urrM\n",
       "zMxUVFQiIiJERETc3Nzu7u6qqqp2dnaYmJgyMjIAAAAcRTyBAAAAAXRSTlMAQObYZgAABuJJREFU\n",
       "WMPtWW+IVFUUPzs7f3bezNsV6Q/9EYad2IT6MOkHkVwZCxQq2rEPQSU4LAptqAwYlSYxFMSuIE19\n",
       "UEtkXlupGOyOSEVC7UNBSymGTHGJciL7YOSyyBo5WnTOufe9d9+bN++5G/vNC+e9++5953fOPe+e\n",
       "c8+9D2Aey35JoiTrLS+kKrcGMhe+YJQvw1la9SWxfqL3MxxRgx5/nhdjamVBeF2yHOCQtz9ehqFA\n",
       "gI+yFQngHtS9IXxuLUi2B+VFiFdCebz6HjFY7JDfOAmO6Aw9/zEv1uyuCEJBZ24AXG6xZh3GAgE2\n",
       "TdQkgKvoxRA+txSS7UHZDFojlMer73lgsWN+4yQ4or00p8vzYs2zkgDGn8iDnvN5JZ0JmiEzH1sA\n",
       "s+JzF5Ltg3I8jMdPXxLbKvqshEPqNvCF2rxYc5skgAmkhJ9vaQsC+FPTNsCs+NxlAnxRPgzj8dOX\n",
       "xLaK3ibhkPTThw/vmRdjJkuCsJxC8hdyKQAg7QDMis9dToEvSnc+hGdPO7GXfMbJcER/Dw/vmBdr\n",
       "RnKC0BXuXgqQBYiefL93MHZ8g+gfXYKXE+359Ue25hjgqaH3+jLr+qzhjy4O5vO4IcmWKFnhpBrd\n",
       "07kQHqnvEmta9pal2BM+42Q4oo0AI7Obc96GmP97XXVBWK4i7UJxXW/C+ANwRPSbq/DyS4CgnowA\n",
       "MIcz2tV8yvKwXEc9mM9droKDcl3M+ShC6Y0QHktf6fCdsEiqy6LTU1xyEpzhiB6X69sKaswKLyj4\n",
       "ypCTw3Sbsgwpf6dJ1ASh/a/h5XWAFxINqJpwUXyU2kq8fhEwpmqBAWK1NyB5E/RpOWUrPbVgPve3\n",
       "vwYOyjVu2teJA06VQngsfaUtJuGGVPcLn3EyHFECImTHdC9Z6TkR/v2FiJXfnanFliLEct/XO/KC\n",
       "5HJyB4AxnocJA7M9dh2eAetD1gIE0LQZSDUpO5V8A0YwX+tSJlHkBzFo0semQ3ikvhdlmxFtSnXX\n",
       "+4yT4YjS9URoVFatuc7JyugSRWseCLEmLSekHdlnGcBCqXMzxJqnJAgOrrMEHRm1/ZatybIlSlx6\n",
       "N37RQGuq+m5xNYZaM9l4loOUcYvW3OgERsua3ZVgT+8qCs8B9O0dEL2ugd26JkDe2xIEHTNhwkDF\n",
       "0vC3ED539C46KD11wwaOlkJ4pL7/aFYSkJNi1yhx0wJnOIYcoTVWf6cfr48VedF8lBr6n8lG+gqy\n",
       "plgTWc6e682p1oxYO1rq6N3YsgrxtMKoDvdjRo7D2idS5JoZvJoslCAdJqDLrUzKrFi7AbNYhVi2\n",
       "RJkwTAGQDl6FFH1TzbSV0dfUVciz2tqrEBzlr3SBF5gmL5pPU/eqesdLkaKsVWxrUnb14yK4R7Vm\n",
       "qhgfxrKLOu4y+izXyFl5yHheJBbJGfK3btPU/sWGATpWWAFc58t4A5QnMrwAqObJ5f5M8wsyQvjy\n",
       "cb/7SciWKN/rBWqMTu/HqWr6va7wCH3TjXNCGw4PKFaQKy7QGBGOiRMRgKVkqU/JsFrlJF4/eBB6\n",
       "8txPNcO2ZrQMydESNFVrRuUCQR0ztjR78sMACAfBJ0zOUv0VeBUB43TW8jtwHV4hlynKimiKTkuQ\n",
       "NZxrHJ2ExHbOVUrt+LjiPG23ZUuU3T+Jxs11zlu47mHe7tE3ubkmBFHAZ7FMauExUhrEqZDOL+/i\n",
       "SSsiPdcHYa0Me4OwyvH0KAqNZzBj2zL169RUnbFiltfEM7EFHHDcO8tvwLtTS8kYqJWcurc7XW7Z\n",
       "Ex5joFxbPnc5ZstWUI7J+0Gl7svj6CsEbZXqaiW/neVBSbLcyVP8E65fFw2LoRoTtRUx25qYX0JH\n",
       "odMsqHOzGKeQfAU7IuXkdMF96pEqXuE8Ud18pNVjBJ9FFenz7jqA57wCXSVmUAbYhs9dTFu2gmIq\n",
       "px5mEI+jLwl6nnPQ0FMPa+PUhORO+DoNew3A+bXXSE7jnLyQFrWXP7OtSZ+mCoknLWtSyqpbalVx\n",
       "dupl66mrwpTYKaauuuMalfcxpe7pfm3MBrGVxIFUzbfa87mPKPBtS7aNoklb8BFaJpBnRNEmebMr\n",
       "B+1O5LqcEznH+WP3wYFvYW0NImW8okdfht2nRe3hurOmY2RZDZHvZNxMLvsrA51Wrroak6XkJsN9\n",
       "WqxnxVDU01crCRhR6p7uH5bbIPbOnYJJtt6ez73PJ5KybRRd+dJ6MM8hVZvBfkvdEb/TYjlxbJic\n",
       "tQWqcfR0zuhqnnzzIXe+yanYXP9k6HP8k6H/7z8Zk3P5k0Fidd8/GZMuyO7zBfmvJFXZ8K6h/P1Q\n",
       "/oOU3TZ0al/B7eIK+72W6+iwaUh1At27F4rWvYdJWu62AWdfpNFafvdFjNu2EeU/yDMzaL3vZu8A\n",
       "AAAASUVORK5CYII=\n",
       "\" style=\"display:inline;vertical-align:middle;\" /></a><br>(see <a class=\"ProveItLink\" href=\"../../../__pv_it/theorems/f326a4b9d1d386c6fd298f2ba43a96b60cb06dc50/dependencies.ipynb\">dependencies</a>)<br>"
      ],
      "text/plain": [
       "empty_outside_range_of_range: forall_{f, i, j, m, n | (n + 1) = m} ((f(m, i), ..f(m, b).., f(m, j), ....f(a, i), ..f(a, b).., f(a, j)...., f(n, i), ..f(n, b).., f(n, j)) = ())"
      ]
     },
     "execution_count": 2,
     "metadata": {},
     "output_type": "execute_result"
    }
   ],
   "source": [
    "%proving empty_outside_range_of_range"
   ]
  },
  {
   "cell_type": "code",
   "execution_count": null,
   "metadata": {},
   "outputs": [],
   "source": []
  }
 ],
 "metadata": {
  "kernelspec": {
   "display_name": "Python 3",
   "language": "python",
   "name": "python3"
  }
 },
 "nbformat": 4,
 "nbformat_minor": 0
}