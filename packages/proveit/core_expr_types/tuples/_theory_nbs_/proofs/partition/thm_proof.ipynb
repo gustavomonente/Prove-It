{
 "cells": [
  {
   "cell_type": "markdown",
   "metadata": {},
   "source": [
    "Proof of <a class=\"ProveItLink\" href=\"../../../../../_theory_nbs_/theory.ipynb\">proveit</a>.<a class=\"ProveItLink\" href=\"../../../../_theory_nbs_/theory.ipynb\">core_expr_types</a>.<a class=\"ProveItLink\" href=\"../../theory.ipynb\">tuples</a>.<a class=\"ProveItLink\" href=\"../../theorems.ipynb#partition\">partition</a> theorem\n",
    "========"
   ]
  },
  {
   "cell_type": "code",
   "execution_count": 1,
   "metadata": {},
   "outputs": [],
   "source": [
    "import proveit\n",
    "theory = proveit.Theory() # the theorem's theory"
   ]
  },
  {
   "cell_type": "code",
   "execution_count": 2,
   "metadata": {},
   "outputs": [
    {
     "data": {
      "text/html": [
       "Under these <a href=\"presumptions.txt\">presumptions</a>, we begin our proof of<br><strong id=\"partition\">partition:</strong> <a class=\"ProveItLink\" href=\"../../../__pv_it/theorems/8f033080ebba1295968df68eb6499e4e17535c4c0/expr.ipynb\"><img src=\"data:image/png;base64,iVBORw0KGgoAAAANSUhEUgAAAnEAAAAyBAMAAADB8JDgAAAAMFBMVEX///8QEBCIiIhmZma6urrM\n",
       "zMxUVFQiIiJERETc3Nzu7u6qqqp2dnaYmJgyMjIAAAAcRTyBAAAAAXRSTlMAQObYZgAACGBJREFU\n",
       "aN7VW32IVFUUPzvf3yuiGVYyuhRmiGMGYq24FKkF5UiQWeFOopCgtCBYWNDQH6VGNNEfChGNmqsZ\n",
       "uSuJYVQuBpYaNCiJQh8LKmHgssgauZvSPefed9+99719uzs0M28u7z7vPZ5z5s3v3XvP1yyAD1qq\n",
       "A5qpdfvnUX5qKuAg1O+XJwkUmgs5+N0vD3JYn8Yr+ujY2BoskWSJ9xq3WJ8/gEtM0ecHiPjgIj56\n",
       "GSKeUFiMB6bhbIPo9X3iRrVYTp9fxVvkzAgfbYKE57EiGS/h7JDo9d0ljWrHy9o0TUD2PNkhRgAn\n",
       "vKQl4whZ6SzvNW5Rf2zXzcZT0eY8LkcAuz1xF4yhYdpHk3ivcUve9ANwaeMpdtL9BzkCyHi5exZj\n",
       "qouml0Wv79tuTIsW9Xkb3s5NW0CjRBtuv9zo0hYjZHLJc2zpfQ+817j9UfYBcp3GinqP7tf5KBVi\n",
       "Wy/tZSIEI/T03r+iwl0tcrdSA9RytXnonqwPkJtvzF8nB+0GH30UZKgluzw8OcEIx/eUv2D/fCV6\n",
       "jVvGD2HEHcacfKXkIB+VW9nLDQ96nNWCEebz1dUpeq3DHh+YiPAtN+TovJ8iXBYv5CTjltnZOiIX\n",
       "v+WDoPWm226NFcTobYywPXarxZgYig/hfJno1jlXqNNOaUQEYXpfZCFasnyUGEl5WwiLMT1IrLaF\n",
       "qHF7p/HItRhOCfcpejr4KDT4MUCwD3oQPLwlbqsDmzFShBuIXLvotW4/A9D7/K1xyPWYfgPttRXW\n",
       "aBPzNDJ5iG5Fzw+33hZr8GpZZYz1QtscNrwies0dujycwX//aqA7Z3pGFHP9CEr0tZ/1r51WlZDT\n",
       "GNlK7OK9Ho+9Cy1FsYHxfq8ZjeUgWbhmx/484neG2Lg3Dca6Rfy0VTLs1aV6G4ccW/ZG2w7RHf1i\n",
       "ROsITzUnGntwsWmM9csyAbQWIH364MGdDbQQ8xx5ywOQbiuJEVlfNkk7BTENrDMKCLfXBTm2Tf/Z\n",
       "tu2N8fh+dGktP+qEmglJ2N1IOWJnM5t+cRwPJ0TSJd7r4BKwxb5evKX2ipWoQGMGMFNsEBGQ9/Gz\n",
       "Rtqt5wCOqAmOIy7n0Ex1j11JuiaLlvgh61AFcswMPcbT1alZCMxqbrbIYIkvyq1HpMTrAdaJ+MxC\n",
       "5mfZb3e1nKxq7wiQg73BVkGtFxaBwYLtlaYEDqLMgY9CAFebI33YU1aRe5Eu3grCh0qooQ1OEt8s\n",
       "qCSLp+Fh3Jt9tgrRsMKrsjQ7cqlKlI68sptHKpFbT5dCwf++qvKzyYVjByF5NkjbOpK3VVipmZLO\n",
       "0sy7Ncp2a7z/WTxb31/M7o/SKtrzCEVB4fsU5LroSrT1qsjNtfSg3FwIoVuVfGF1FmGJKiqAS7K1\n",
       "rbFwC1FqznMOT7jt63B4gcwAlUFyT+P92hG+2QineBdeEKQfBkjkjlp6UO4oZOiMzJ/+BWHZqagA\n",
       "Lpks6CzcK8mPZVvHX6l2FKltVUabQPX7mCt7C66xLylaWYDMn+MwUTqJhL/zyt4MFfGCz1IFFbnl\n",
       "1oeg3HLYy2FJUd1guaICuCTToLFwT7jD6c9BFZVqgMNltUi9F109i+5o3jotWap+I6uTvRW/QGtW\n",
       "JndiWZnoCU9+V0WugBdjqEQGBmYMXOPIrYHQNtZ2kNwaWMXG2WQ+XkH8lwoVgoNJQrhfZ+HRlwO5\n",
       "KivVcF4LHzZiWGfR9YB3OoyhU8peskIYB3sPbpo0vZOpNN9HZEw2Boor4zZy4SJeDOWSuuaWSj37\n",
       "cBLhCwoez3J/T6oALsmw11h46Fxxxq1QTaXaClvFUhz6VI1n8VPF/3WfHB5Dpy07Yn38idETFYlh\n",
       "iO+A71KwqwzhSewey64K2MglungKYqWkYJnkV0uaybFJCjdnmn2RPqZqP65goQK4ZLpPYdGWvSNX\n",
       "MvFKNf8WMk1K9YloyQU5SA+PoVPK8ur3bjd2O1ER6oLwXdB9ClYyG1hk90wpcq9iW7fSBbMtyodv\n",
       "rgV4SHpqp2iC+3vZZebwMVXRMkgVwCWDHQqLBMrcCFVWqnmTRWqqT2jxuI6cl04py6vfyOpgt10C\n",
       "XJxJ4evjqWVnTzhyD9AFb9kUEFlRZRJgh5h4TAgY+RcmiYbVZrGMrlmeqbJSnZhVBLtInZ6/OafS\n",
       "Hch56LRlefUbWR3s0oHPnM8L25ssrfugrNp3/sExvCJPTFeRS6pHlDZBVVrOjyS/dX3OYYNQZaU6\n",
       "CPeAUoIgs2fTHch56ZSyvPqNrA72O+UCnSXyNpCGjRu0rA5HIMS82ErkZElNguzVLLmZAnpKQ45J\n",
       "Jlxfc3jEIFRZqb5Ix7ksUn+S1+gO5Lx0Slle/UZWkz1+fRzeck6uItMfnDPqxNUtDbjHWf9TpbpM\n",
       "x3mnajgUempg4M8ZooZIyHnplLK8+o2sJrsfKtWwxA25iVeq+ahTNRwK3bHmvHRKWV79dkMu1uUD\n",
       "5FZ0uOzWCVeq8ThX0hQkp9AdyHnptGRF9RtZTfbWrB+yDjkXC9EiDulxV6rxOFctxGTQ6BOyEJas\n",
       "qH67WYh5fsjwmMa1ukq1+NFsu6AnhkCjq8gF8AOFTuI2dEpZUf1mrNS9DufGtLtd8oITrlQDLASe\n",
       "7Cd6aFCnK8gFX7q92NaJ6gydUlZUv7G2kNEzOv74tav5C+tqK9WbeZDI6amiRtfW3Fg6FVnJut/I\n",
       "0eZ8gZzxGNVVqp8nx44K1Zg4zFQ0Om1C7QWNrtOWVViNiP+wPxLZ8an6vJpKdfxf+quKQ4L+mkg3\n",
       "WXRnOmR0nVJWZdUNhF/+ksT8dWpVleq1i61vi/Szi0CjO52Z0XXasjZrTPfqIzmfIBcseGbTx1+p\n",
       "To87mz6B6vdFJ/sF8EtbC03V/PNXmpS4a6LWTfbhPwf11cG+nKIcAAAAAElFTkSuQmCC\n",
       "\" style=\"display:inline;vertical-align:middle;\" /></a><br>(see <a class=\"ProveItLink\" href=\"../../../__pv_it/theorems/708fd84859b9414e0af0dad6c7e9b278a39b5ec70/dependencies.ipynb\">dependencies</a>)<br>"
      ],
      "text/plain": [
       "partition: forall_{f, i, j, k | ((j + 1) - i) in Natural, (k - j) in Natural} ((f(i), ..f(a).., f(k)) =  \\\\ (f(i), ..f(a).., f(j), f(j + 1), ..f(a).., f(k)))"
      ]
     },
     "execution_count": 2,
     "metadata": {},
     "output_type": "execute_result"
    }
   ],
   "source": [
    "%proving partition"
   ]
  },
  {
   "cell_type": "code",
   "execution_count": null,
   "metadata": {},
   "outputs": [],
   "source": []
  }
 ],
 "metadata": {
  "kernelspec": {
   "display_name": "Python 3",
   "language": "python",
   "name": "python3"
  }
 },
 "nbformat": 4,
 "nbformat_minor": 0
}