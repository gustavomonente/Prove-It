{
 "cells": [
  {
   "cell_type": "markdown",
   "metadata": {},
   "source": [
    "Proof of <a class=\"ProveItLink\" href=\"../../../../../_theory_nbs_/theory.ipynb\">proveit</a>.<a class=\"ProveItLink\" href=\"../../../../_theory_nbs_/theory.ipynb\">core_expr_types</a>.<a class=\"ProveItLink\" href=\"../../theory.ipynb\">tuples</a>.<a class=\"ProveItLink\" href=\"../../theorems.ipynb#len_of_empty_range_of_ranges\">len_of_empty_range_of_ranges</a> theorem\n",
    "========"
   ]
  },
  {
   "cell_type": "code",
   "execution_count": 1,
   "metadata": {},
   "outputs": [],
   "source": [
    "import proveit\n",
    "theory = proveit.Theory() # the theorem's theory"
   ]
  },
  {
   "cell_type": "code",
   "execution_count": 2,
   "metadata": {},
   "outputs": [
    {
     "data": {
      "text/html": [
       "Under these <a href=\"presumptions.txt\">presumptions</a>, we begin our proof of<br><strong id=\"len_of_empty_range_of_ranges\">len_of_empty_range_of_ranges:</strong> <a class=\"ProveItLink\" href=\"../../../__pv_it/theorems/6d2292a00db594fd5661a0553dc15936447f927e0/expr.ipynb\"><img src=\"data:image/png;base64,iVBORw0KGgoAAAANSUhEUgAAA28AAAAyBAMAAAA5Gf57AAAAMFBMVEX///8QEBCIiIhmZma6urrM\n",
       "zMxUVFQiIiJERETc3Nzu7u6qqqp2dnaYmJgyMjIAAAAcRTyBAAAAAXRSTlMAQObYZgAACUVJREFU\n",
       "eNrtnH+IHGcZx5+9/T07uxckrUWtrDk9g7Z0rcVSbOpWoRUp3raCaA1mCQlYSXQhoklb4tpCuqkE\n",
       "thXSpOG8aappTdHbUK8aQW+41KoNTVfbSqLRW6gIFXMsyUW8S2J8f83szLzPu7OzuTD/zAPv3jM7\n",
       "w+eeme++z/u878wuwMpb7PJl0/+olyGyoHaI/9EvX151NfCxo/sN34N0M9IhsCU67I+2/8DVEa4y\n",
       "wEHjzo2kEYmisvudG3+3LlhowuVc/1kv09ds29rueU6b7LlHRfMxnDMEyBc7eeWBeRFHkSElY4Yt\n",
       "3DNlWbjnWRq4+TbhuexrZE+9t5lq8qY2BSf3nqAgtz071pSwztj8eRgBjhgyQmBcwmmrwxbuUZCF\n",
       "e4eFffyC8Fy2FaDguB5ahze1KTj5alCQ27bMtiSsMzZ/HkaAPyMIgXEXcUdCFi63LAuXL1F3+nNl\n",
       "4XntDefGnGhKU3MCgtz9ePFHgGHfGJinIiCIOUS4tBmucOmSLFyafeRmbc9rO1ypVjSlqTkBQe4P\n",
       "XBfH7hiYpyIgiGcQ4XJL4Qo335SFe4q5v7M973hec24VyrwpTckJCnIHWkOxDqQfT0HAEBzjme9u\n",
       "C1e47SALN8YSxrs/zrzEK/vXbEzObRL5ZawII6ST3vPAk+PF9ePkaL3Em8pwDhxcCwFB7hHyY9tK\n",
       "NvZmKTbi+fEwAmhr6hiCYzzCzRthCpdcRITbw9yz3NMzj8D0B62xWE+sggypoM1GUTtbplOJfIc3\n",
       "paEcKMXaQUEuGy06sE0ptiV/HkKAOFyPITjGI9x0MUzh4qsQ4R5iGeM8976S7sCUCfN8/4F4B9It\n",
       "SLZ2QvYi5MkwkavxppwooZx8c7QVEOS2qYoDW5FiO+/PQwhwCi5gCI7xCFfohClcrIoIt9oeu4ln\n",
       "TJdh1qBTJGoG+ZzGyqBpi7QeTZEZT7LLW98aQOJoMGEEBMklj4Wdl2LLd/15CAGMxDKG4BiPcCNL\n",
       "YQq3oa0Sjo3dq/kJ3grwLut02fWmcsRrECv6Xx8Fh9YswUByyWNhvyHFlur48zACjRZBoMJlL4Up\n",
       "3E1NVarMVIV3B8DDkFjS+AG7gOYSoFnJhImmAQkiTKJPRlJw4O2gILftgh72khTbaNufhxGgUMIQ\n",
       "CSxVwrVhCvc9UBUnMTF2w/vIVJWcyQGe4i7obPSOmUAyzB3Zlm8NgHMICAKC3MZ6LsfmlnVvbLOG\n",
       "6ctDCKTiaGEItDiBx8IU7jpMuGPsFISXXaSJo2Ca2v/IG4nuJCuOp8o0w/ybnG/cZG2anht9YYfZ\n",
       "jorDVmwGBGFYjVXDHKt33vLGdiJf8QsMI7BsKyNYk4V7XQjHVP3bSgtXYDVcW7Xscw4T7m7qTQD3\n",
       "SJogM5vcuiZ8h05ctrZZ4ribTYFePEWSS4W19IN0HYKmxW9bDjtexYmLDDQICMEmuj1sdmvLG9ve\n",
       "v/oGhhLoKCwjWJOFm69w4Y7TjX+ttHB6i2ZuQzWNO4sJx9aBfg/eFaGcga1UPSfar+R6kh2v4LCl\n",
       "tgFBCFavu7FIbD6B4YRtKOI5wITbUOTC7aOVSn2lhWPEfcqLcAETLk96RvUMgGcNVu+7NmzK9ST9\n",
       "BzgnabCZ04AgGftSoe3G6uoVYnNwwv1s0jnYIjNJuyUuHO0WrH+s7BhH+/Bx5brPeUw42A3px/mw\n",
       "vtux76BdKCJ3Y7SiBKfHKzhT5qMBQDJ2+8/AjZVj8wkMI2QvZkooooMKN1rlwuVfPXz4qZUvTk4f\n",
       "PvwTZVHMJ5GScM9DfoxH77zPaA+Uzvuf9Cxpy8tweryCkxprBwDJ2D/dBm6sHJtPYChh4zoUkWni\n",
       "wtVFVfnfRuPhwQTJet+oqIUbbTQeU2YffdmrJCMFeHThlGh+Efs+ujAgyBc7eeWBeREC8yHv1e0I\n",
       "4Ta7Mwpm4i6FW4gvAfxcLVyqwj8x8dfAWvgXVRJ9cxkiGzqf1YRwn1Hdak9uexk+wBYVeSd2P0rx\n",
       "BVLCxptK4RIlYOl87gb6+mVek1gHpLrR9R/a0quEcGkYQfrtC8fWwS91I270hFtv76yKuYhWVU/A\n",
       "a3Aj9f+BHRAJtxLC6e00Uvd9/2kDfl0s8XqXC7fZ3lsXwiEP49jCvQasNkGTYpQqr0Q4K1VmO18k\n",
       "Qq27b2xknF5w6tH8SWxm5kmncDWxzyHcjfY85q01pTWbncL9MEm748lztDd/mvXMg5+0i5Ol6PoP\n",
       "P8ZZxQns3kTkurMd+/oIvb7Ua/KFsBn9p+t7wmVrYp9DuJcg1SC2B968Hq41xp3CZfaySTU71GQ9\n",
       "rPR5u4g8H13/4YWrWsK9SPre0x+G0TJb1KSeobGZ/QyYx3rCJep8n1O4z1rV7cEaLMLtTuFyt7Kk\n",
       "SEHZF2jv1pqv2Il4sU9gc6crkTp9bLRkCceegtgI97JbQtS7E5LbG41HiHCTaYdwVb4vtbDw/oUz\n",
       "XLiv2uVGkaAecgrHHvpgNyvIK19G2GMvefURrtDSdkTq9LFp0xIuTzvRNbAWppLAvNuTvG6cgcR9\n",
       "PeGSdbHP0ePuojIuEBljlZF6tltxCveXnjv9Y/a+PbIlL6nj+iPAiUidPmYtMotc1yW96aQO+wzi\n",
       "fWsGfkvffBPgdE84rQZ8n9j+BVi7iU2RPpevm07h+MfDgOzj8BsKdt78O6eOaxe7OxWZ0ugT7L1r\n",
       "SfLgO7D3Vbi3Rbwb2pAhexM7y5ByVJUPAt/Ht3/w3Y0At1i0u6DQzG4xJOFIt0y+Fw79gYBhpG6/\n",
       "vVMd138AJlqRPGp7vQnYHXDrmq0lY5x73gYf9WwT66jncWKaYC+YtKyRjtqnlGHRe6wTxUgetX0T\n",
       "MOFy6CIWFyojCZdr+wh3hk7tjnLwpid6GXDekwxP0JFy4W2asy+KLB6Zwq5DhcPvbnChErZMlrrP\n",
       "go9wc1QCfusQtjzgGGCVyTBLetwGM5JHadmzqHC4ifu10jctP+InXN9JZJQqh7FwH4iNd/sVJ7NR\n",
       "caK2TC1M4RKL2Bj3T+o25BEwMufCSTFM4cS3vKIJeHC7yQhVOHWnSre0ayJ51MaeQA9PuJiycNTm\n",
       "xqNFZrWF/VXiXHQrdTgrlMIVjn5rJrIh7IgRsnBPRPlwGAv/B2oG//ZuZA5LlcIWDj4RqTCEnYSr\n",
       "KtwgP3uYKkYyBLar/bOHA/3Q6C2RDoHtEO8Q9IdG/w+Bc4ksS+/s+QAAAABJRU5ErkJggg==\n",
       "\" style=\"display:inline;vertical-align:middle;\" /></a><br>(see <a class=\"ProveItLink\" href=\"../../../__pv_it/theorems/6c9640c979ef549b1d4b034f892845f2fdb972870/dependencies.ipynb\">dependencies</a>)<br>"
      ],
      "text/plain": [
       "len_of_empty_range_of_ranges: forall_{m, n in Natural | (n + 1) = m} [forall_{f, i, j} (|(f(m, i(m)), ..f(m, l).., f(m, j(m)), ....f(k, i(k)), ..f(k, l).., f(k, j(k))...., f(n, i(n)), ..f(n, l).., f(n, j(n)))| \\\\  = 0)]"
      ]
     },
     "execution_count": 2,
     "metadata": {},
     "output_type": "execute_result"
    }
   ],
   "source": [
    "%proving len_of_empty_range_of_ranges"
   ]
  },
  {
   "cell_type": "code",
   "execution_count": null,
   "metadata": {},
   "outputs": [],
   "source": []
  }
 ],
 "metadata": {
  "kernelspec": {
   "display_name": "Python 3",
   "language": "python",
   "name": "python3"
  }
 },
 "nbformat": 4,
 "nbformat_minor": 0
}