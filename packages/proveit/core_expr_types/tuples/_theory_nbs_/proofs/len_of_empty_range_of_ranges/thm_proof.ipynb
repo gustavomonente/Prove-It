{
 "cells": [
  {
   "cell_type": "markdown",
   "metadata": {},
   "source": [
    "Proof of <a class=\"ProveItLink\" href=\"../../../../../_theory_nbs_/theory.ipynb\">proveit</a>.<a class=\"ProveItLink\" href=\"../../../../_theory_nbs_/theory.ipynb\">core_expr_types</a>.<a class=\"ProveItLink\" href=\"../../theory.ipynb\">tuples</a>.<a class=\"ProveItLink\" href=\"../../theorems.ipynb#len_of_empty_range_of_ranges\">len_of_empty_range_of_ranges</a> theorem\n",
    "========"
   ]
  },
  {
   "cell_type": "code",
   "execution_count": 1,
   "metadata": {},
   "outputs": [],
   "source": [
    "import proveit\n",
    "theory = proveit.Theory() # the theorem's theory"
   ]
  },
  {
   "cell_type": "code",
   "execution_count": 2,
   "metadata": {},
   "outputs": [
    {
     "data": {
      "text/html": [
       "Under these <a href=\"presumptions.txt\">presumptions</a>, we begin our proof of<br><strong id=\"len_of_empty_range_of_ranges\">len_of_empty_range_of_ranges:</strong> <a class=\"ProveItLink\" href=\"../../../__pv_it/theorems/7eda5abcff19dd8788894d2366768bdf96efdfd10/expr.ipynb\"><img src=\"data:image/png;base64,iVBORw0KGgoAAAANSUhEUgAAA1sAAAAyBAMAAABYAdw5AAAAMFBMVEX///8QEBCIiIhmZma6urrM\n",
       "zMxUVFQiIiJERETc3Nzu7u6qqqp2dnaYmJgyMjIAAAAcRTyBAAAAAXRSTlMAQObYZgAACbNJREFU\n",
       "eNrtXH+MHFUd/+7e/pzdubsQBOMPsvb0bJSGtRIbIq1bTcAYQhdIiGhjN7VNhFSypkZaSuoKCdyh\n",
       "TQZMSgs5d3qoxaLcGji0JHqTK1KlwWw8SECLtwn6B2ovm+ud4a6t9f2cn+91Z45rZv6Yb/Ldnf2+\n",
       "ed/32fnM+77ve29nAVZfEhcvGr3Pehli8SVKjb4XL14cvBz+E8cP6z1PKhoxET7lVkbb4acuD11V\n",
       "HycNs/evxXTIJM1uerXDDaHRVRh0xMQxsyDfFpxtMxY0qr1E6MfeEBxnGkjGpA29H2BjLkgUVrHC\n",
       "zD8Kna4jFTtdSoO8rr8B4Bn3mZmG03g3U7k8PaQJ/EDhQ7wh5lij6lewW3t9N7aVAXOg4pAoLJMu\n",
       "frHCo+shR8bRT+BlTp0DeNdDV9tpfI6pXHZNtQR+QK3xhthY0KHqV7Dbfk2ObWXAHKg4JArLpIuH\n",
       "otDoKiw76JohhxNfqYBaFpztMBZLVOWZ1MJPQeyHN8RkmqnPBA27nbkEtpUDm/FAmnbQBQ+ETFe2\n",
       "7KBrLzmcwgWi6OQwKoNU5bdCV+aHN8RjDFN/QtzuvQS2lQPb64F0xEnXlBYuXbOana58nRyeRPqE\n",
       "6Gyn8R9MpVOEuswPb4hJf4WqP8FunfXd2FYKzOaVQyKwLLrY3R0aXXscs+UkQTNz9WcBhgBSrxxe\n",
       "sz09vYOWj693G08wlYj6md1lgR8YX0sbuuXux4dLW4fRpSiWqfoS4pbVHyp5sK0PCGy9FxX2yiER\n",
       "WBZd6nKodKUXHHTlaG47j/QAQpl7ECY+Dr+m5cZmt/HvTGUyUBL5gXKiTRoyRkrKfAWP3ng+o/rO\n",
       "NbBbXn/Ji00LCEzzolqyIBFYFl3KfKh09Q066Mq2SExYRC/7AL6e7UDTgFkaKFqb3MbfMJVJsyrw\n",
       "A6o20MINpVv7IX8eVDSOFOpU/Ql2y+sverFVAwKrelEtWpAILIsumAuVrkTNQVeiYo7EVwLoExWY\n",
       "0uFb9L7Cfc5p3MZUJjhj8fhBjrbouCFFWcB5KZ4xpbtU/ckUBYrrq10PttmAwGa9qNSuBYnAstF1\n",
       "nRYmXdvaArrISHwl/VobAK6wUn6nsddVOQkiP8SOG0J3RV8dEqWgdJ0Es36m48F2b0Bg93pRYa8y\n",
       "uprtMOm6ThMEw1yNxgrYhCcaqSUFuNVpvBmoyuRhEPkBeIc21NeBrAFbNB1S6P5I+Q6GD4NZf6Ct\n",
       "u7FdCAjsghcV9sohpVzBkIajsOj6AQhSjQQbieEjaEKJ8D9F584tw2XsNaKT7uTxA8o52lDCABSM\n",
       "NuVbAVONK8CsP6UbLmyF5WIgYOR8FyrsVZJqQK4eJl0fdNJFs+mJCk2E8ws4NPQbhvI/ZNiSbzuM\n",
       "ADcCVlJIXiY67IV8whSJ/JDIhRtqVnAw+g+6XH0GUbOq6U3qltX/s1olpRa2YueNQMDQ+R5UyCuH\n",
       "RNROV7HL6CJ319urTVc/SXvastWYs066aETaAjSYoE9oJlLYqMF9KOZk3nYZ4Z9AFBfC93CEqvEX\n",
       "Ykp1hX7wgEUaupnMfZ5/C81Fq0Sz9zNHljeZW1b/4N9oJQtb/tutQMDw+W5UyCuHRNROl7rI6DqF\n",
       "3/+12nQV8WjUr8umXfNOuugqzB89600FXbQIVada8HonpmJD7IesDDgWkY4yfanX8pPl1qr/kncR\n",
       "KiAwEaqjNrXTRa8YousQnkA0Vpsu4vGQ9Pufc9E1g2y1M97V3Est8RYFqzxIX+xvi/ykdTLTES7x\n",
       "Gr2Wnyy3Vn1DusTrF5gIlWSJl8UjRBfuAqQvrO7YhfvrKelyzKKLrpwG2UfpoD9qO2+cH4wKNlDG\n",
       "vX6xac9zIPLTNB5iDXk2UJRSj+9jc2vWtyqNrhSYAJVkAwXJfxld6qvHjj2x+qnG6WPHfiHNkZNL\n",
       "LrqUBqhDFLN9984c++zGUaaCgRGb/nIDiPxkhtqsISvb0qiqvb6Pza1Z36r0zEqBCVBxSDnNTdd7\n",
       "PDN8b2TkAX805N2GqpyugZGRR6RBprhsHX+CvPrf/Fc1qj3B9tz8f4tpIJFv/r8fYGMuSBRW0nZ9\n",
       "r+F07XQGDpFUnOGaylcBXpDTlanSW6TvNWwZorsDvPm+ZYglmFzN6fqSbAc8vftl+BiZTdO+6vxd\n",
       "wx0b0GXXpHSlynQjfPpa/HoXzTD4CZlufP0Dync4XVlICrrnsyc2wm+Lep9u0bXVLKyxCYRSk0+T\n",
       "67AOHwu362K6Vk5XsZ0V5G4/fFKH35XKNCmldO00SxuMLsHvV0y6XgOSaQjDXhwMA8t9nK58505E\n",
       "z8bbh5LD+DLjIxwhkUxOPm6nq87KbHSt495m3lhTXrPTTtdP0rjrvXkW99wvkl44/nkz1ViKr39A\n",
       "MVMNGN2BSNrcTtyTxFcVH2l0aWqy+KutFl35Oiuz0fUiZEaQHIDXPwpX6cN2unIHcYKiklMN0pvK\n",
       "t5qJ/GJ8/QPKVSZdz6Oo9eQnYaBC1hXxka6QqfckGCcsulINWman68s8OR2vwwJZ4jTpKmwgYQ87\n",
       "yj+L46KivWKG2oUoX5niuj9ED9RZky7yE4LtcBvbdtoOmyG9Z2TkQUTXWNZGV42WZebmrpk7Q+n6\n",
       "hpk8lJCrfXa6yC8v2NZIji4BHDAXoSJN17/hqBY1TMp5ky4Vd5gPwFpopoEc3Zimud8kpG636Eo3\n",
       "WJmtd92EyZtD5CWqyUa+W7XT9VfrcOJnxG6OWOkLEWZLHYRiJ2qgzCVeFs26qOe8WYRDOjr67iSQ\n",
       "cPA6wGmLLqUOtIx9xj8iOc3dNVH/UhuGnS4iEzrkH4XfY8f2zbWzEaYrV7P9xjgqQhfFzSuIIt27\n",
       "cPBVuK2Fjq5tQw7FxdT+CmRsmeH9QMvo5x9/fzvA9dzdTdCv5XfpHrpQF0x/GH7+J+QYktZ63f4I\n",
       "0zVQg9S5yI2nSw66TOFr82vR2OWcZ8GnXZ+RdOTzLpbgm4sZLT6CYflChOmaKENqPmqgMl0hXeIH\n",
       "lCg9OQ9dhXYPus7gqdhx6njHY7p5xqwetbt3jgjOY5uGY/s0GpJoCOkSbyZQelImOZzTp6EHXdO4\n",
       "Q9FdOdhle/ZpWyu6vatZhvT5yIEqiYOhUNgGqOdRw0/1okt6s9TiYBhIwv1ZaF+E13hRqlGIXKrx\n",
       "CIRJVypq82Q2duFOn2vwBz4iJOE+0gC742lyEEmG+8BQ9FJDm+yDI9WIQWJjfWh0JYzo0vXLNTuj\n",
       "Binsh10L8QZlEHkHwqWLA4jFj+D/3giXrseqMQu+Jfy/QfH/kGks8E0Imy74XMyC76lF4/LS5ecP\n",
       "8jKlmAefcrn/IM/X309eH/PgT5R76Dv++8n/A4ZqfZITXjOXAAAAAElFTkSuQmCC\n",
       "\" style=\"display:inline;vertical-align:middle;\" /></a><br>(see <a class=\"ProveItLink\" href=\"../../../__pv_it/theorems/9aa45269bbba0a8ab10fa6501e6558fba37433710/dependencies.ipynb\">dependencies</a>)<br>"
      ],
      "text/plain": [
       "len_of_empty_range_of_ranges: forall_{m, n in Natural | (n + 1) = m} [forall_{f, i, j} (|(f(m, i(m)), ..f(m, l).., f(m, j(m)), ....f(k, i(k)), ..f(k, l).., f(k, j(k))...., f(n, i(n)), ..f(n, l).., f(n, j(n)))| \\\\  = 0)]"
      ]
     },
     "execution_count": 2,
     "metadata": {},
     "output_type": "execute_result"
    }
   ],
   "source": [
    "%proving len_of_empty_range_of_ranges"
   ]
  },
  {
   "cell_type": "code",
   "execution_count": null,
   "metadata": {},
   "outputs": [],
   "source": []
  }
 ],
 "metadata": {
  "kernelspec": {
   "display_name": "Python 3",
   "language": "python",
   "name": "python3"
  }
 },
 "nbformat": 4,
 "nbformat_minor": 0
}