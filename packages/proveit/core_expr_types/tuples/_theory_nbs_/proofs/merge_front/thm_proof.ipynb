{
 "cells": [
  {
   "cell_type": "markdown",
   "metadata": {},
   "source": [
    "Proof of <a class=\"ProveItLink\" href=\"../../../../../_theory_nbs_/theory.ipynb\">proveit</a>.<a class=\"ProveItLink\" href=\"../../../../_theory_nbs_/theory.ipynb\">core_expr_types</a>.<a class=\"ProveItLink\" href=\"../../theory.ipynb\">tuples</a>.<a class=\"ProveItLink\" href=\"../../theorems.ipynb#merge_front\">merge_front</a> theorem\n",
    "========"
   ]
  },
  {
   "cell_type": "code",
   "execution_count": 1,
   "metadata": {},
   "outputs": [],
   "source": [
    "import proveit\n",
    "theory = proveit.Theory() # the theorem's theory"
   ]
  },
  {
   "cell_type": "code",
   "execution_count": 2,
   "metadata": {},
   "outputs": [
    {
     "data": {
      "text/html": [
       "Under these <a href=\"presumptions.txt\">presumptions</a>, we begin our proof of<br><strong id=\"merge_front\">merge_front:</strong> <a class=\"ProveItLink\" href=\"../../../__pv_it/theorems/452bc41a4fb442772f42e08c97f3bce0d3e55b580/expr.ipynb\"><img src=\"data:image/png;base64,iVBORw0KGgoAAAANSUhEUgAAAesAAAAyBAMAAACOm+7BAAAAMFBMVEX///8QEBCIiIhmZma6urrM\n",
       "zMxUVFQiIiJERETc3Nzu7u6qqqp2dnaYmJgyMjIAAAAcRTyBAAAAAXRSTlMAQObYZgAACAJJREFU\n",
       "aN7NWnuIVFUY/3Zed+bemVnZfIT1x9SQbEY0ukFsGA5FZULs2B+ZFDlIgoHWgmFl/TEZmA+k+SNQ\n",
       "inDUWs2oGUmUjWyHFdrSyMGlcOmxG5uBgcsiKrWL0fnOuefcc58zbXTvfjB3zznzO3PP7zy+8z0W\n",
       "wHdJ5iFA6Qvqxd8GyRoiY8G8N1Q0VRMNc6nfin+f/elv/ss6kkLd4b8EQ/uYuXoEH+rSblbaALGy\n",
       "8d2hbBnUEiloC03tdtGR6hu9pIJQd3i8HgRrda65fgkfsbPTrLQJVGkTbhyoQRrHnyqa2u3Ckekc\n",
       "vmIMPODWAfgj8ZypmqLV6sq8XgIYNAZ49QOAYV4b9JpLjmyvcehgq9vNHxmomKoK3YwDogRwQHyn\n",
       "TZLHq7x2wONHBbKnwqHucCWIXb7ZXN1Ln0OiRPapuN+S5KAmesHW7nAncuSQgLrDtb/8Z52yvDOL\n",
       "j+EFXbSkZjOEAj8FqSWbcxDC2sFOkNodflQgx+FUN4N6wDf7T1spmet76PMKKyUjcwgHoYzaySTE\n",
       "8VbLtTXkdrtwpDodeucGgzL4dxMo42b0aMV32mste+81emNfY6X3wmSsmtjW+wtkmoiOSpVRUxnt\n",
       "duFIbWqx2mBQD3g14zvtJZb6XKGRSKmCqxadFNqPfNrINKlUUxntDnpSR4ZvolWEesDT/htq851o\n",
       "o0aipQETvSGdDCt50eZIZd22FmiHfNdp0RvgsMnjRb20HY1msTuxptCLeNzUbheOrOb353Uog7Oz\n",
       "/bsZnbjhu0FunWiq0toyrKROJ2XV1QG6SlOnwVulceQoVGt1WaW1tuX+fxttjqXhNNUxeVaKTBJv\n",
       "IlyH6hgzvfi1pU2BaFf/xg5j+oPWDOQGaC/UKZR+3OQtAPqGn/2i3Wa5v+BRfPTw0iayYukCKFup\n",
       "izjJt3YYH7x9C27oIn+8XJGRuyG0tEKh9OMm5wDO4t8//KJdtRoR1CT9GiTj9DD5fE4VHZ0iNDmV\n",
       "nNxuNrkqJqTxE4c9RjFagH14xku+XdvWK5M4IFrxsuGUMB8CN+iJNPW/hyFawWtZtFvMUhkpey2D\n",
       "3qNIk+lK1nxzRGxv2gnKrjG9BNxrxMl55VOmDcr762/K7WY5KCO5P+bpeLI9lzpz9Ohe31TaqO3E\n",
       "HYFUtmwEHOjgU1g43804lGLZhtxuloaM5HqzLM2Boy1LtMKfO3a87hvte2yjsQaVRlxCRSOtB5VG\n",
       "msHbyQSt59vLWxKWesELbCYXlXSo/16A031CTsBD+jlYhpMdYnrlIvncph8k3XeoQ6hD9heP237s\n",
       "oqxnsoJzCTTD/Vg+O2iTu06BEBJO3o5qMsrWCRWPog+WnRgMyb1kdFwDYX1FVy/Lh+aLTkyeR4DO\n",
       "uou8olt88+JsYA0KMZqSDcUxeFGtyLSfISpjyhS+ImpB/aKroZXOwP0Ww1u/Z2KgWxF9s5B2YuxJ\n",
       "eswrTvaToL3e5gtcArjQfxS082HrdRrTz32c006XZ9cmV5DJzufQWHj7ARzjIrqQWdyvp6OLJNq9\n",
       "aPQ+UdT7PUgKd0OE2stPr8nURSf2qwxg0A4JbX2uqSZvIQ3Au/S3BndWafAZXcULVBfRNQ/ThMnl\n",
       "42ybU9oYn0v/uJJv8zopnIA0tQ4LZ76v651iO4jswWAgAgzaWlFcYA73NrimB+yCaQAEHlkAzdIA\n",
       "XrSLeiAKoAsf757E50dJbL5ekDZ5hDzb14vp/phwWQGHGO0k9ZJYJyorGMCgHRHG76gtnumVHrAL\n",
       "pgEocLwVa8z13sYBpypGLG8bO5RkF0U7dsu0CadVnTWI4HrugjiZqWdhNSlntEKi0cs7MXkEEPDC\n",
       "xK8TEw1KOyrGNpC32+Tglh6wC00DUOB0K7a3q3FqKKN59Gen6BK3k50TKq1KGLTJ7Qud0Tl8R1U/\n",
       "RHIxttrwcEbvFMNQxmV4igGk1RYbYW3DyQNzSQ/YhQbdEBiZ4tAD/8khwttpX0Ubqyd2kXUlxXhm\n",
       "dcigrZLBb4v2cviXxCD5CZI4RymyTnonye9DAKONEcxU3bS9ZPFKD9iFBt328kKTNEArDhEuyqqa\n",
       "urEcvYWsKymmy7E7JE2+FY/UOq6Q+r4BuBe9enLP/QZQZJ3EClYogNJO3Hc9A2ExNMV6FD3SA3ah\n",
       "aQDaJZ3ThsvN0gDuYYay6YzRSdDoCTdMLkb7LltfQiBEzra++7haoAGzmnRv01URX4UnnWJpLukB\n",
       "B12kB92gWruzp9E0ZuYmwmhK/0AWUqOT0B97bKFelGjHbcfMdEppJ0sXo88pY72mnCKnLukBu9B4\n",
       "A3YZOFj5pGkawFVuFofmduDubCP2VVn2bBmHiFUXHTK7vdhJyONmp0019mF02ilO7pIecDiUvMuS\n",
       "XAvxcFdz50oLoJxhEsmy2Evhmm2IUMU9VuuVHrDLEO+ypTMzc9r+pwdgudMmd0kP2GW73kW9mrgK\n",
       "chrg30Wte32n3ZN3UGltuqaypAfs0qF3SU0K6AxUWnvGf+fHct+4pwdMuQApDYDAWAmuJZunAdwi\n",
       "W/67gVZV7p4eoNF/kQsw0gAIjNcgu7h5GsBFfM8FEbnVwTh1Tg+YtSTSZmkApSyZg55pABeFG8A/\n",
       "cVj/Zcc9PWAxS0GkAVLinMzMFUnnAqBtfalresAsUhpABHpn6HgeCyLCk5hnDTO4pAfMIqUBdGAL\n",
       "aQBn5zWQf8eDk95BpRbSALzLSGtwi8RygdAOF4ONH14I6L3rAmUd1D9WS953ENJHFdo/RDpkuFUn\n",
       "u84AAAAASUVORK5CYII=\n",
       "\" style=\"display:inline;vertical-align:middle;\" /></a><br>(see <a class=\"ProveItLink\" href=\"../../../__pv_it/theorems/8379b6ea159d40f0b426dc98d4ec0afbfe7845830/dependencies.ipynb\">dependencies</a>)<br>"
      ],
      "text/plain": [
       "merge_front: forall_{f, i, j, k | (k - i) in Natural, j = (i + 1)} ((f(i), f(j), ..f(a).., f(k)) =  \\\\ (f(i), ..f(a).., f(k)))"
      ]
     },
     "execution_count": 2,
     "metadata": {},
     "output_type": "execute_result"
    }
   ],
   "source": [
    "%proving merge_front"
   ]
  },
  {
   "cell_type": "code",
   "execution_count": null,
   "metadata": {},
   "outputs": [],
   "source": []
  }
 ],
 "metadata": {
  "kernelspec": {
   "display_name": "Python 3",
   "language": "python",
   "name": "python3"
  }
 },
 "nbformat": 4,
 "nbformat_minor": 0
}