{
 "cells": [
  {
   "cell_type": "markdown",
   "metadata": {},
   "source": [
    "Proof of <a class=\"ProveItLink\" href=\"../../../../../_theory_nbs_/theory.ipynb\">proveit</a>.<a class=\"ProveItLink\" href=\"../../../../_theory_nbs_/theory.ipynb\">core_expr_types</a>.<a class=\"ProveItLink\" href=\"../../theory.ipynb\">tuples</a>.<a class=\"ProveItLink\" href=\"../../theorems.ipynb#shift_equivalence_both\">shift_equivalence_both</a> theorem\n",
    "========"
   ]
  },
  {
   "cell_type": "code",
   "execution_count": 1,
   "metadata": {},
   "outputs": [],
   "source": [
    "import proveit\n",
    "theory = proveit.Theory() # the theorem's theory"
   ]
  },
  {
   "cell_type": "code",
   "execution_count": 2,
   "metadata": {},
   "outputs": [
    {
     "data": {
      "text/html": [
       "Under these <a href=\"presumptions.txt\">presumptions</a>, we begin our proof of<br><strong id=\"shift_equivalence_both\">shift_equivalence_both:</strong> <a class=\"ProveItLink\" href=\"../../../__pv_it/theorems/67ab6f6d00dc3ac10301e3fc29cff768ff68c4960/expr.ipynb\"><img src=\"data:image/png;base64,iVBORw0KGgoAAAANSUhEUgAAA8IAAAAZBAMAAAAI1IrvAAAAMFBMVEX///8QEBCIiIhmZma6urrM\n",
       "zMxUVFQiIiJERETc3Nzu7u6qqqp2dnaYmJgyMjIAAAAcRTyBAAAAAXRSTlMAQObYZgAACidJREFU\n",
       "aN7tWn1sHEcVf767va/dPUeBCtoKdI1paiWqdDiI1qoLV5BKCWpz6R+FSoEcVoEURdFBS1xChRYj\n",
       "FaclYvlQElVKc0nAaV1RnwouGCnklEANDa1WFAEp/ThUiFSkGKtqEXEAMW8+duft11niD+S2o313\n",
       "szvzmzc7v5k3b2YWIBw+N+FC37CiTG+F/2vITdzLJRJaK0G33mrAVRD2S3lTMlzyhMhwKD6XuQJL\n",
       "dSgpYV5KMiAVuoIXSFE6HzDcw+gLhLwK/tleOsMR3OoKD0uB8sgo+3EA8k5MtjvTyvChYF4Wk5x3\n",
       "hYRRXM+xIRdj5a+Fxwp/kk/tWYjFyl/1ejzSVywYPoOJfyPkWR32V2mnMxzBra7wihTIn7nIXhbb\n",
       "JK5LP5ZWhg8FuxnXAXpCQoEDYOfJDo9VapH0WixMC4jFyttL8UhfsWD4II54h5DHbw/2sdIR3KoK\n",
       "dk0IwOzmOsCzWtLjej6rmlJIBEqxcEoKDRxQfu37IjbYCWP5k1NppgOxWPmsk4BUIhjGsWp16BSL\n",
       "Q/NMH4YjuFUVCq4QgJP48+UklsprUgqJQEMMH5FCAweYSzK2pR3G8idHUtRyLFZ+oJqAVCIYtp+a\n",
       "mTkQcqKen5l5pNWH4QhuVYUDUgAW0Ba1Eln6S0ohEWgIW6kLoR4SB1gtGVuIYBcUNCkgllf+cCMB\n",
       "qUT60v+cmro3xPDg1NQ3uv186TBuVYUhKfDsOzYBZJjJOzoSaunvnr6CjYnTyWX4UDg6HMKWxkaY\n",
       "72XVhJDAAfZ776qJ2MtwYpRiz627LgamTTCI5ZV/CRKQSiTDnwHYGyIv34Ci24/hMC4+uPzSg5F4\n",
       "IxondN9ITjICHUkQmhZo2ycF4FUmReZkdW+g7ZW7FP7O/l5MeTcFhdqAR9v6BrfCTKndEwLwzCKG\n",
       "l0EBYLAqYuWLme/9m2DL/2nPuhIWHxDLK78DEpBKJMMflp7bmOeTl6tpTuQtvXiGBS4jOttfsXeu\n",
       "5dFp7uHlpEXhF1RUoxsOmHWtP5sRa9SVg0uFH+tJUoWslgQTBSGIJatDACx8RQqUcMVR6ECp8wHa\n",
       "Xkc8uJb9/SRlRSqhYLvKX1Jt/S7uBZktIdQD4FnRwGLMXN5Qpr3DXEYKzZRJkhtnrPxaSEAqkQwX\n",
       "IIM6rHXdYDOjBVcHjaQMxqe/ee0mjWGBM8Qg4dW+W3R+Xrmiv57EJaWpCN7EEkeDMeWqG+OuX8AV\n",
       "TbmIvF1/n6yrry/vJtUa9desZjyEpeVaEQALb5ci3JaBOpT5iMTB9oXFxXMs9sE2fJH9be/j8TAo\n",
       "w3IfJ8Bml6HABpqxJISEgbpy0jCWfZt4qmF7MNuNwsIOHqu8cSEJqUQybHkFMrdjizytbVpVkL1H\n",
       "T1/PXL+nNmgMS5zmdy5rPUIwbHTxkgQp+qd10LQs/KdWO4vNtE3PzUv1l5rbfBVNWa1pqSMRwtJ4\n",
       "dQiAMMzdFmxrc5mOiHdC+fV0hn1o4C9J7IADs41UhhdkrDA+GfK02KJ2SyeV4QX5Apk1ScgQw6Xe\n",
       "bdy6tzWGHzKCJfwgGxH2Aw+2oWOc9TSGJU7b6Ra9Qkw0gmE2oeeV/SyqPBWXrv954SeqNbS2OLuD\n",
       "ZgPUvoRMkiocWS1eElVAIehQeGEAsdLFprScxSZpr/K/xBj9SHJL+1D0l0hbs6F0Ur6sqLGYh88F\n",
       "Vvo+GZutH65T7KCH5iOXYqXvky9QbLYTkErUvvTeO9BD+9b1GsPF/Wh8RnZh421f93k253LrZ5F9\n",
       "acTl1vPmGOrwwXtrU7akau4Cv+DodTrDGdVPEMxueOFzc9+xZMEfaqrcx9az+f1q3W4IFY6sFi+J\n",
       "KqCQgqwOARBPi68psRfMdrqE4YuQ782nelo+FDNThjuwy3Q1T0vvF7wKa2XspbBeGKyzWTzV01or\n",
       "X2DQS0KGPC34Ee8vf9TJM69hP8cb27GTXNUeEpvQcHaOMIw4iw/9bA4zVP60GS3dVm1AHRALt9ot\n",
       "OsOmGi0IZje88Dnrh9vkarG7LHOXv2Sw6BOwY4oFD5OkCkdWi5dEFChIHiH7MG0rhAEYTkthg0hO\n",
       "LFtK1OOZhD80WQuOMReV+6mYt6dFNGjEwher9m7WX7NdIdS21/i2lIztgMEG5SnvFWsc5mujugUW\n",
       "Kz+4uRqP9EUxzL1v2ESOjV7lTz4uXvXFMp9ay9UuYRhxD3Jf8xGLD15hYYc1hm/iV9l9Umc4p/Y6\n",
       "EZxzROFz0MUWZ2mlR1syd7ZmtHgBYsQ7vgpHVEuURBRQCEaGIwCQxpcb4C2qVvkXKEvT624fr/NF\n",
       "wgR24t1oEZoqsodAIdsKrVvGr9z/HuHgEyffB+SWZOwByIxQW1seeVqsDbgS1Bbo5jXhWKy8PQbx\n",
       "SF8Uw3Yb/NWhYvg5JpfDejGnv9+4Z2pqEiyrXdIna46bDEzP1uEOBE/47438wsJ3Lf55cdHjb2X0\n",
       "4CYcYm3MavRE4XNwCM1trokjQOYe6GTY7adU0zSFivzi4rsXz2O1sKSQAgrBtMkIgOxa/grSdy3R\n",
       "5kTPYH4GBFqoxe5pHZcS3bW0nMiGJ8UeV0qo9972sQU3BamEng9fQhjGl7sA+2bY/zKjmhu3j30S\n",
       "LDecabmhvDEYNtbg3yWNgOFP8AvgAhnDTQ3MbppiDOduFetlmP2BzD3rFp9rM5Z2oZviYZJU4chq\n",
       "8ZKIAgXJI+Q8pvHqEIB28mA2zwenATLMhE8erOhU2AUNarTV9iHFJp88PFHxwlpD2FNCSdjCg4+1\n",
       "aylIevJAlzoaeXCp8ZpXuh/22A78Eu9rtcCzVJnMXpdlYZMd+500WlX2t1QNGD4u+pKxRj3Bdbjd\n",
       "DcB4wwv/HcDzcLCNY+bnlsw94G6/GR8HwwlVSMKwWjYqJwooBNOWKECl7OVSuF8M6sQdPNz4ORo9\n",
       "3WFlBtDD3a/HnwHFnx4yXfc8lq5VQKPHWlgTiU3aT4w5PaRLHZ3hGzcOecblcNtvWF1w5+azO5/Z\n",
       "HRnoO12WhU127PcVGG+wv7G65ku38YKMI5+UrvlHFbL1AIw3WHjuq3W2nt3aATb5TP9a5s6NP84c\n",
       "/PcpnXuAq5CEYbWydaaPKAhBWBqvTgBQKeILAHtINHI56RgU2zF6bmyj+ND8UPzHEkhgMfYLgN+O\n",
       "pmvlMDv6GPVIrPh8IVlp0Q0zHIx6uhKTm0XDU5PhXUs9y6Sf0SSL00wHL5xZteVqhZy/kMI7sDGy\n",
       "uPVHwUb/kROAzRgFASTTiQDUluOKvuKx/5eveM5KSQakQvuEhK94zuqKdYYrv2/EMzyfePIQZMl/\n",
       "9DI/4zxlyMHrjm+3dQJO6AWRG7aGLIYZNv03KUYYPsH1RRQEEJXTidP2xg86w9Y6iGfY68+wl3/S\n",
       "9TN6lI6b8dp5p34yVNYPxsgNGqacFzpHOhasM7zQgRGCvagCDYL6Q4A3K8NamFjJp9B9M2X9URn+\n",
       "XjHTTrqJNRobkpMkOPJB5AZiFVK1vZFDbmI3yn8BzCWXbpKcV04AAAAASUVORK5CYII=\n",
       "\" style=\"display:inline;vertical-align:middle;\" /></a><br>(see <a class=\"ProveItLink\" href=\"../../../__pv_it/theorems/45e9626f069d69cee9c7d429001cb7e9d575aca30/dependencies.ipynb\">dependencies</a>)<br>"
      ],
      "text/plain": [
       "shift_equivalence_both: forall_{f} [forall_{a, b in Integer} [forall_{i, j, k, l | ((j + 1) - i) in Natural, (i + a) = (k + b), (j + a) = (l + b)} ((f(i + a), ..f(k + a).., f(j + a)) = (f(k + b), ..f(i + b).., f(l + b)))]]"
      ]
     },
     "execution_count": 2,
     "metadata": {},
     "output_type": "execute_result"
    }
   ],
   "source": [
    "%proving shift_equivalence_both"
   ]
  },
  {
   "cell_type": "code",
   "execution_count": null,
   "metadata": {},
   "outputs": [],
   "source": []
  }
 ],
 "metadata": {
  "kernelspec": {
   "display_name": "Python 3",
   "language": "python",
   "name": "python3"
  }
 },
 "nbformat": 4,
 "nbformat_minor": 0
}