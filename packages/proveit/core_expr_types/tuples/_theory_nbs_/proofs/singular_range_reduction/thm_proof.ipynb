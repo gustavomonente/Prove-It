{
 "cells": [
  {
   "cell_type": "markdown",
   "metadata": {},
   "source": [
    "Proof of <a class=\"ProveItLink\" href=\"../../../../../_theory_nbs_/theory.ipynb\">proveit</a>.<a class=\"ProveItLink\" href=\"../../../../_theory_nbs_/theory.ipynb\">core_expr_types</a>.<a class=\"ProveItLink\" href=\"../../theory.ipynb\">tuples</a>.<a class=\"ProveItLink\" href=\"../../theorems.ipynb#singular_range_reduction\">singular_range_reduction</a> theorem\n",
    "========"
   ]
  },
  {
   "cell_type": "code",
   "execution_count": 1,
   "metadata": {},
   "outputs": [],
   "source": [
    "import proveit\n",
    "theory = proveit.Theory() # the theorem's theory"
   ]
  },
  {
   "cell_type": "code",
   "execution_count": 2,
   "metadata": {},
   "outputs": [
    {
     "data": {
      "text/html": [
       "Under these <a href=\"presumptions.txt\">presumptions</a>, we begin our proof of<br><strong id=\"singular_range_reduction\">singular_range_reduction:</strong> <a class=\"ProveItLink\" href=\"../../../__pv_it/theorems/c9afdcb1479f1c75c10e70eb46e085bf4b7c6a890/expr.ipynb\"><img src=\"data:image/png;base64,iVBORw0KGgoAAAANSUhEUgAAAQ4AAAAVBAMAAABF+R16AAAAMFBMVEX///8QEBCIiIhmZma6urrM\n",
       "zMxUVFQiIiJERETc3Nzu7u6qqqp2dnaYmJgyMjIAAAAcRTyBAAAAAXRSTlMAQObYZgAAAwNJREFU\n",
       "SMe9ls9rE0EUx79t06TZ7CYeFA9eQvsPlPYkVKl6KHhpT4Inc1DQQyEnxR+HnKQpiL1VECEW1FLB\n",
       "BDyIHmywB6u9BAqiByWHelBQiiBICuJ78yY72Z3JticHvpO3u595+/Lmzc4A7pZtiXR7wF1uCfu2\n",
       "EHTBxqFYL7WYbfONz9aQVS14E8epqwDpCq4kRRAHHbBxyNZlpOn9LGa3+Nl3a8g3LaS39oA8D2jh\n",
       "WVIccdABG4dszcOjJLCYvcdZqsRHBOMioH52GtiWu34xIY44aMPGoVjAGy1i8zX6acSHZJZEwDp3\n",
       "13XqDyXEEQdt2DjM6OJ5qEVs8H5tbdlyuqwFvOV8lfXtnYQ4LHDH5VS47gvz0yJm/yws3LKcjmlh\n",
       "++gkMEhpXJmgq43+YdjghsupcGR5Yzx34yJmLwFVBqZaXZTaHS3gF2mEHjVPkfElIR8WqGD/p2rj\n",
       "iDgky0/RvAVtEbNnpGT90Sb157XTm1rI/ubpbCDbOEnGi/5h2KAFG4dk3R+it+bKImYzGGzpqTLt\n",
       "sBZyu9QNTMNT/+NC/zhs0IKNQ7JqBZqX4V0Rs34rw88LNWccflncI9dJjsMG3XEojq31WjSObPsc\n",
       "r+27J6g/XYrPy0hJ0i3GTP84bHCmpz5KiDhk6zYpVRYptnqRn3/krtmJ1+lAUZdfvdFMrFMbtGDj\n",
       "kCxvz4/WKZ6rRT/JNfS0u/7DdVfnsuGlNctb0xS8v3yzrTtzZYGiSDMOyUrt0pY41BQptlAMgx3p\n",
       "fovDvM5Cpy/Ne+FX4BpNa0bNAXdX2bjhBJUizThka57Czc+JFBuoCj2ign0U/65vovdzzcusZk3J\n",
       "K7hAr+z8rm+i57v+RMuwXgfZRbz2o/tcrvRDPpY925ddGpRYF+ja5zTn2Od0o4wOH8Pjd93rqlJm\n",
       "sS2LQeLnrXzFPniQEwfo2PeNw6qM7Nn3exKQs85BwZj49Srh6JblPWDZYNV1Dupyq2HUKvKQzX+Y\n",
       "kyNa0rkwOOi5kMHgAOfCT1qG9Uedf/X/tX9bwBGThc8xUgAAAABJRU5ErkJggg==\n",
       "\" style=\"display:inline;vertical-align:middle;\" /></a><br>(see <a class=\"ProveItLink\" href=\"../../../__pv_it/theorems/cc738369d534ec555c309e362d73a47f6ec3a81d0/dependencies.ipynb\">dependencies</a>)<br>"
      ],
      "text/plain": [
       "singular_range_reduction: forall_{f, i} ((f(i), ..f(a).., f(i)) = (f(i)))"
      ]
     },
     "execution_count": 2,
     "metadata": {},
     "output_type": "execute_result"
    }
   ],
   "source": [
    "%proving singular_range_reduction"
   ]
  },
  {
   "cell_type": "code",
   "execution_count": null,
   "metadata": {},
   "outputs": [],
   "source": []
  }
 ],
 "metadata": {
  "kernelspec": {
   "display_name": "Python 3",
   "language": "python",
   "name": "python3"
  }
 },
 "nbformat": 4,
 "nbformat_minor": 0
}