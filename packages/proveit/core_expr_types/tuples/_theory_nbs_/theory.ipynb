{
 "cells": [
  {
   "cell_type": "markdown",
   "metadata": {},
   "source": [
    "Theory of <a class=\"ProveItLink\" href=\"../../../_theory_nbs_/theory.ipynb\">proveit</a>.<a class=\"ProveItLink\" href=\"../../_theory_nbs_/theory.ipynb\">core_expr_types</a>.tuples\n",
    "========\n",
    "\n",
    "Theory related to **ExprTuple** types of Prove-It expressions.  An **ExprTuple** is an ordered sequence of expressions.  It may contain an **ExprRange** that represents an indeterminant number of *elements* within the sequence.  For example, $(a, b_1, \\ldots, b_n, c)$ is a tuple of $n+2$ elements with $b_1, \\ldots, b_n$ as an **ExprRange** that is a single entry of this tuple.  Each *entry* of the **ExprTuple** is a single **Expression** which may represent zero or more elements of the tuple sequence."
   ]
  },
  {
   "cell_type": "code",
   "execution_count": 1,
   "metadata": {},
   "outputs": [
    {
     "data": {
      "text/html": [
       "<h3>Local content of this theory</h3>"
      ],
      "text/plain": [
       "<IPython.core.display.HTML object>"
      ]
     },
     "metadata": {},
     "output_type": "display_data"
    },
    {
     "data": {
      "text/html": [
       "<table><tr>\n",
       "<th><a class=\"ProveItLink\" href=\"common.ipynb\">common expressions</a></th>\n",
       "<th><a class=\"ProveItLink\" href=\"axioms.ipynb\">axioms</a></th>\n",
       "<th><a class=\"ProveItLink\" href=\"theorems.ipynb\">theorems</a></th>\n",
       "<th><a class=\"ProveItLink\" href=\"demonstrations.ipynb\">demonstrations</a></th>\n",
       "</tr></table>\n",
       "<h3>Sub-theories</h3>\n"
      ],
      "text/plain": [
       "<IPython.core.display.HTML object>"
      ]
     },
     "metadata": {},
     "output_type": "display_data"
    },
    {
     "data": {
      "text/html": [
       "<h3>All axioms contained within this theory</h3>"
      ],
      "text/plain": [
       "<IPython.core.display.HTML object>"
      ]
     },
     "metadata": {},
     "output_type": "display_data"
    },
    {
     "data": {
      "text/html": [
       "<dt><a class=\"ProveItLink\" href=\"axioms.ipynb#tuple_len_0\">proveit.core_expr_types.tuples.tuple_len_0</a></dt><dd><a class=\"ProveItLink\" href=\"../__pv_it/axioms/8e06b5fdb2c928054d6ef10c03bdacf08c588e480/expr.ipynb\"><img src=\"data:image/png;base64,iVBORw0KGgoAAAANSUhEUgAAAD8AAAAVBAMAAAADRiu8AAAAMFBMVEX///9UVFQQEBCqqqoiIiJm\n",
       "ZmYyMjJERESYmJjc3NyIiIi6urp2dnbu7u7MzMwAAAADGpxCAAAAAXRSTlMAQObYZgAAAN1JREFU\n",
       "KM9jeMsAB0hMJHAaiDkbmCdAmdgVXGdgkMSm4FTPA4hoJgPDNSwK2Ax4PcGiHAEMDDwLMBU0MTAc\n",
       "A4uyAB3Aq4CpoJCBwf4CSHQKiJeNqeAjA8N+A5DoUhDvKIYC3q9ABQtAohUgbhtUwbE0EEgFef4P\n",
       "A8N7sAJnkIQJhgmcQBPeHwCJaoO47/FYgUMByJH2BnArtqC4IRHELGdg6L+A4UhsAXUUxIvBVMBi\n",
       "wKsHFt0C4uVhKuA9tfABIqgd8EQ3rshCpIdK7NGNkmAqcSpYB05yHBOgTAwAAKtiVVg5HIChAAAA\n",
       "AElFTkSuQmCC\n",
       "\" style=\"display:inline;vertical-align:middle;\" /></a></dd>"
      ],
      "text/plain": [
       "<IPython.core.display.HTML object>"
      ]
     },
     "metadata": {},
     "output_type": "display_data"
    },
    {
     "data": {
      "text/html": [
       "<dt><a class=\"ProveItLink\" href=\"axioms.ipynb#tuple_len_incr\">proveit.core_expr_types.tuples.tuple_len_incr</a></dt><dd><a class=\"ProveItLink\" href=\"../__pv_it/axioms/b1f56cf9bfba6baccbc5d9766e9179cf68e46b430/expr.ipynb\"><img src=\"data:image/png;base64,iVBORw0KGgoAAAANSUhEUgAAAYgAAAAWBAMAAAAodhaSAAAAMFBMVEX///8QEBCIiIhmZma6urrM\n",
       "zMxUVFQiIiJERETc3Nzu7u6qqqp2dnaYmJgyMjIAAAAcRTyBAAAAAXRSTlMAQObYZgAABGJJREFU\n",
       "WMPNV29oHEUUf8ndZu/29i5+EKQGMRoTC0oNKeiXtLQVzCcxreA/CglH/VBp64m11ih6tF9ySuGo\n",
       "YEKhMFrUkGJvrYSoYHtw64dWkAP9IGLbgzaFVghS+8Gmrfjezsze5HZmkyt+6IPZe3Pvvd33m/fm\n",
       "zRuA/5deuQveoNK6hXYt0nXwJdM+ZcrBjx8RHDXr0zi/Fxo0P6dT8mNkepqRLsy0C2DmPnzs1INw\n",
       "igBdRY3RTjF8+ImmV/UgzDI9XZEuXGk7DBdxnNCDyOFqd7WG9mvG9U8EFtMU/aIehFmmpeygcIGY\n",
       "NukmDrdXC+IXhT8pgrPrdcb1afiQo5mnB2GWackuCxfscrsYkkvk2j1aEO9EQQBcYFyfhg/Zs7Oz\n",
       "U6AHYZZpaUq6MNV2INwCPS/pQKQLJhCB/qXA4p/JyfcMIMwyLfVJF4hJDw/dH1/KVIVcvg8jXtOB\n",
       "6MTc/GxIC6LGB1q8ClDiqlEQXLZCJixK7pB0gZjN5dxfAC+Z7bhCH59Urjo3sFiGIH5eJKLdDinc\n",
       "09XNWhDn+UCLp8HBUmrxNLbe9OGh8RAEl61ANcm8K11AxnkAEkV4/imjFVeAl/nsNINrAPO6SNge\n",
       "pL2NWhDzfKCFDZ2ifh2vbYBvXZZgIYimLIb+lMy90gVkEktgY+EYMVoJBUEbwbkFMKYD0bEJHEIY\n",
       "hOeNxcXLTRBjfKCFW7dFhfzoCIMfegfdZjqFsji6oQPRUYTKaBwIoRAeE8mbZhCQWdJGogki3XgB\n",
       "E3uAcgdpbu6wAiKQwbGBaAPiDO0RLljXBlg0nSpVOA1xILjCFpG6tykyXFvZE5dFOkFqXAtihA+y\n",
       "KO3AJe9mvMmYc7/a3gQRyJy3LPzAa8t9+HJ0jEEuqB4TsiioG7viwR5sbGJABApVscTX4dO6urEV\n",
       "oo1d8arxGxu+wUJ8ZB6cwJU5qNYUECRLDFoF2N5SL9fDiwgv+EhvttHc4b5g8N99brBOzr/kckMw\n",
       "4SxQSB8v8H92w0F8DutAuOjXc7KjDEE8wYT+MLfopv11AKz9k5MHEMRRWwFBsg6vE6M5sfzVPTAQ\n",
       "5mxCBHtEukCu5/s/eYT/9TZ+zyaVfSAe9oRUSPVy+bHHycsFHYgkrmPXuZZ0evLBi3Wuv8AtsnSC\n",
       "L43COI9EcpsCgmSVcup31gICq/qh2czDxHazDs/YdhCIDIvk0vdhUn2uyJ3C6tsOqU9DWmQaVfiR\n",
       "mF8B/lBABEtdHnuWIpH+EKaZfKyxrtczWAqmmc1+MzeAVMnd6IaoSuaUq8hX0QDOLku0sAGUbWEZ\n",
       "Urigyfc3QVcLiGT+5AYCYfXA1rK1hh498MxjfXU60Ld61q7QpZI0ksf8xx/ksWeIlrbwgPjijCI3\n",
       "tOIpUzvZbMUVWot7YnnboRCmU6Z5qRLhxBLurXgpih6XWdDKS+ZLkZZKYvgxh9ij6umw7W8Pvgtn\n",
       "gsszeacMr6f9d349zfJX9a/2ekr6NNbtbecrdQ2XhbuA/gPNon1mxoL+PAAAAABJRU5ErkJggg==\n",
       "\" style=\"display:inline;vertical-align:middle;\" /></a></dd>"
      ],
      "text/plain": [
       "<IPython.core.display.HTML object>"
      ]
     },
     "metadata": {},
     "output_type": "display_data"
    },
    {
     "data": {
      "text/html": [
       "<dt><a class=\"ProveItLink\" href=\"axioms.ipynb#tuple_eq_def\">proveit.core_expr_types.tuples.tuple_eq_def</a></dt><dd><a class=\"ProveItLink\" href=\"../__pv_it/axioms/01d357e885395c678d3e622119c8999d250ec11b0/expr.ipynb\"><img src=\"data:image/png;base64,iVBORw0KGgoAAAANSUhEUgAAAogAAAAyBAMAAAAtqTezAAAAMFBMVEX///8QEBCIiIhmZma6urrM\n",
       "zMxUVFQiIiJERETc3Nzu7u6qqqp2dnaYmJgyMjIAAAAcRTyBAAAAAXRSTlMAQObYZgAACI1JREFU\n",
       "aN7dW2tsFFUUPu3u7Lazuy2JDx6NupSIBh9sQJEEgQ1N9Jew5QdKQtJNlR/gI6uoQCWk4A+Kz1V+\n",
       "8EiQQSJViHQFG8REWVuMUUA2aGI0IpsUSeAHFmgJbUG8r5mdx53p3hmbSXuSMzt37j1nZ765r3O+\n",
       "XQAHuefWDRgpOQajXOQ0/Tx167Jju7rtO0bqFqL50Q4iLKQfn23/wrHZHSN3B1NHPYYQK7KTRp9A\n",
       "jIwzlncyFZYjnGtuHEWyVEXkHZ9B3J00zi+tVMUmpQ0ZgJD1wYUdATxzG6xAHyvcPYRfIL5pLNZk\n",
       "qYpJTQIhVrRezorfzxAcQMcD7oaTTyBGBo3lX5iKSW0OHbosl8UdQXAQonEgKiLrfAUxnDCW1zIV\n",
       "k0UKHlOWy+KOIJoBGXUreZyY2dGsnyCeNY646gxVQfmBDN6k6aoLR2RiOAdUxfuCTyCuMRYrE1Rh\n",
       "S/dkxdHQ0OB8/RzUiUydmjqK1t/rfAdd9amS064mNDF0A1WRTc6gjyBKfcZyVYFqcCL8g2rtV1fa\n",
       "oJLiJv+rdGTZbu3nS1h6VGfVb8B7Tn5ga66qCFM0p++jN/MXUNX7Gm5/cMVHEAOmuSeco7q7ALNB\n",
       "mmk/HkkDkLLq6lQbh4i5NXGWh+ed/KAlIZSDpZrTeejjMFMRueQjiBVpUzlJdb4Cr6CeYf/wtIH6\n",
       "KorQkQepF6zO5uMx7+AnMGh0ipfZJqYiMj3rH4hNBT6IE0Dud3x42qC0GizK8UGcAM4gVrQanfa5\n",
       "BHFXwT8Qp2e5w1m+AZFep4enDYIs7q4t4E5EW9N57DxzJt8YBsQOnP5YkNY5BXiSqd5XeUPKHxA3\n",
       "AHdhkYcgVDziBCJpEK2lC3RtUr5LlwbQO7uJZkwnEBH+kMsP6pzqFhYBqcr4B+IE8143QXUj/JbO\n",
       "k4fvKOLVF9hBK5EGOw7TK6FCFbIJ5DnOZoH8qOanZK6dBNKwZ+n+jM4pwONAVWiT3ktBJC/yjC2I\n",
       "TtVuRb5q3rlkqO6tX9qcJGfhFnT5dWCHMB41qxW1wUZaL884iWfGFMdZ9ORpKPkh5gY/cOJMHKri\n",
       "eqfwN1AV2ij2UxCP44+LtiA6VbveJl7hRWpr9SjA19Z4W91ly4MpXX27bdg3nJ+OT3QFkDNUXTxJ\n",
       "I2zDkVKrLYhO1a7TD0O8nIGWNyA7v7x16Gj1xbyu3j4BMZyfb6O6gqsEBBtTjVCD3kU0ZwuiU7Vb\n",
       "ifVbJugsVRL7PnYtDrL1cT7W7vyFbKmekwpjjob1s/dHXcFNKgzJNQpi7Kd9+7baLyxO1W6lcsDy\n",
       "RltNudSY1cqwt4yZEDM7K9dPqbCZqZhcZ6vz9ba2dQ6rs0O1W4kOWi65pgd+51xz4yiWpSoodzMQ\n",
       "l5M3UJmwAXF5GS9oYbGsiLmfF3SNbhnPQGwg8woL6qVVx2ByWg9iA2/a4WzNypiF1QAt1DtmQHyZ\n",
       "gRiGSjYz7O+eC19FlYCiB7FU7ZDTLGvliRTHLojRQphNC2/vUOCbeCJqGM5atYPUljWZaP11DA3n\n",
       "1QzE6uISIEF9A77Q2fmhEURSDXumWjfz8oyXWLTQVL+SbNnqOcjVx9XWD6v9NTowZkBUFxbY/Bx6\n",
       "LhTUk9HWGf18mTF2xtXyaxLqPSuNDtpTTQrU4LP7FJwkDicbIaSYvuVVaRx1TFqzLU6/7eossrB6\n",
       "4+2xtZWtt7W3IffvVEE8hHb2KKiXyWjrhHy3EURcHUhIGVg2yehgJjyN4AUSwuP0x2yQpO9MIAZa\n",
       "IQUKba0lO2J9dvtEId7dG29PrFdY7T8dz2lsS+5fVUGsjRMcpDVtbRsRiDvDRhBxdUWuEi3ZLUYH\n",
       "ddoPam6HWaSMeqMJxIqctTVELCCq5L0Q7+6NtyfWaoiS1dlzyRUbcp8mLjGIMYUG9WnaE4OLjSDi\n",
       "6o5s1R+KCUR5AN7dFyHT4CABcIADIl5yDsbV1mrYftMudhbj3b3x9l1QCpZ7dPZDnLZ25L6agCgF\n",
       "9d/jk18B/rTmEyuyTU/hnlj9FmxT1MNEqa8QacDXWmKt6HgOAgTEUottSk0SEl8mgLTuLxgGAS+L\n",
       "I8a7e+PtsTVj66VNimYf5G0d7Mh9mkpp1AX1VWjoBdcnIWQFMdh8cC4GUaqDxqw0ER/q4IkHphRQ\n",
       "QIPOlpzAxy0PTSMgNuZoC3TIVc84rYRSoLZmst50Lyp5L8i7e+PtiTVl60ML4pp9lOfDjtyn+wxD\n",
       "Zvt+NCdawj6dtOCku/YSWBYuyc7okQzn0tabnLUH9XZY5pszEglXBL433p5Yd7MMTkazr2meYg4d\n",
       "7Mn9UK8FRG7sXJLFV3O6bQU7a1bYGTlK0+fodwL0LDTNvB05a0JJJe8FCXxvvD2xpqTKcZp7JvYd\n",
       "F+UBo1czua9fN1tFQTSmjsxnBU76KcbPP0GT6V2r5L0gge+NtyfWlK3PwEea/VEFrli+0I7c3xV3\n",
       "A+L/I3bkvSCB7423J9aEaI7FIZRS7eexfYvhC+3IfT/J+0CvPYgCBL433r4EIprIpbRq3wPBIcsX\n",
       "2pH7m8A/EIN9tsNZhMD3xtuTNoStP4T0gnofN2lfLXm1kPs68fMHTbDKdmERIfC98falheUCA5LY\n",
       "9+E50PqF3IWl0s+f1pmXZ5W8txL4HOJdI/C98fbUGrP1ZCknezNs/6L59+QO5D6b230CscL4+Cp5\n",
       "zyHwrcS7RuB75O2JNU7whfCuuzLO7Pc8aM5B25P7/v7c2PzDd0vYVxaB7423bwfG1gfJpdQwYSOP\n",
       "3Gcht19/wegZJgFRFoHvjbfXJyDKSGBwEhCRSf6C+IFxJKrkvRiBb02FCfD2hlSYyZ4nnFSY338G\n",
       "MgUb3KTscMS7N96eWG8uP6nLIfefBX9BJFlcU1pelB7wxttj61j59ACH3I+1lgXiCP5VNxSH0S5l\n",
       "/lV3JP80/shox1BmvN2pW5f/AxWONHZ93T1xAAAAAElFTkSuQmCC\n",
       "\" style=\"display:inline;vertical-align:middle;\" /></a></dd>"
      ],
      "text/plain": [
       "<IPython.core.display.HTML object>"
      ]
     },
     "metadata": {},
     "output_type": "display_data"
    },
    {
     "data": {
      "text/html": [
       "<dt><a class=\"ProveItLink\" href=\"axioms.ipynb#empty_range_def\">proveit.core_expr_types.tuples.empty_range_def</a></dt><dd><a class=\"ProveItLink\" href=\"../__pv_it/axioms/230eb2c2f04391a653ca815cc3a7fefcb7115b4b0/expr.ipynb\"><img src=\"data:image/png;base64,iVBORw0KGgoAAAANSUhEUgAAAUkAAAAWBAMAAAC/C3MNAAAAMFBMVEX///8QEBCIiIhmZma6urrM\n",
       "zMxUVFQiIiJERETc3Nzu7u6qqqp2dnaYmJgyMjIAAAAcRTyBAAAAAXRSTlMAQObYZgAAA79JREFU\n",
       "SMfNV0toE1EUPW2SSTOTSYrgpm5CC9JltAspVqkIfhbadCPuzKKCQpGA4A8XoYK0gjiuLAVpjKLY\n",
       "RRsQlArSoFBBQQYF0UUlUnXhohQpohXE9583nWRaiIgP7uPe3PNuzr3vO8BfaTeFeBYsZ2PDSJsV\n",
       "EnRLT42aC02SNItcgNtdDtOMIk6GDpFAWB0wSEKGUy+q9Lyk9tcmWaYcLsDwXIVphovp0CESCDsP\n",
       "k5TKrNWLKj3jxEwUm2T5RgjMlTtCA5KZsOprQOCpkGBU4UmVSLxKkyzPC4G1LDVCpD1khA4EbgkJ\n",
       "RhUe+8XU1I0mSSYKXEi+SiPtU8gQHxCpfi6BqMrzY3T0YiiHNcs6FkS0ZrnA3nY6y7TydmI9axxT\n",
       "AVHuppyzXAJRlec4MEZ/7HOlB/hMu6jImmaUkxSLsPr9cUhrc7kA6QzXqnuI8SEkdQlEtoX0do0L\n",
       "8GqJtkUZVXn28u2V7KxSFrxwbJ228Xj0QLEkyR4yC71eWUWZ4xUuwGSOaYnKbmI8CmEpgLCdNOmt\n",
       "AhdfYxGlJ45WF3WWhWAZqwrTYPUlA+4G/rKlnwswxy0T34hyLISlABLkANm+sWUugajKk3TjbApK\n",
       "9VkaOd2kLFNOY5bPhWWtrsNSArm2PstE7Qid/2u7KImt7Ajp0macplDeqbNkpYdC+2b8srDa8kTZ\n",
       "H8JSAoFFETZa8NblFzXjyjM2RH97x3YKq2gkWvNY0lMqe1hnaeVxYpQ0Nynr7+2eTcKaqVTDd48E\n",
       "wvwFfffoc6nvHjxgSfTQboIt+PvJvMfyAAnkzOsso/KmmpDbQx0k5oqwBhLkL/pg/qY/0m6mpika\n",
       "kK+NSJWL/0jN6p40u8muMs+Il4VguY87Ty19XFpyGcuYSnpETr2cluiysIwFfp6dpdU+Q6cvL5UL\n",
       "0IGIFMRJp047aFE9j83mbTNLcZVB047H8ijtfvpqmSecSXMFWrshk0VoNyRdHYE9icfwAeO0YveE\n",
       "BG9Iv8ckhR8vWbVq4gowqO1xCom1S5MeXbacGoL2vzYeplxpiddGMrgi6RgFjJXowbn+a0Mr72DF\n",
       "HHZiW4BujWWcVKO1KMzEju8ZROTJStByoTtMzk0rizRqlIOPIbq+FHCyeglo9HJrc9Z67Ky8ciy1\n",
       "OvktSM+VjHcVkWXS8BX8uldZ4PeuG7zBaaeARpfrJVknqt+TepuT3wCzxsEOjSWKGLpe0lk+2dgX\n",
       "hb3xL4r3QoJuvyfZKdOEa8w7OstDGGbfBgmZYRb/U4uIPbKmJq2lf0/lDyC3MFmw9lfxAAAAAElF\n",
       "TkSuQmCC\n",
       "\" style=\"display:inline;vertical-align:middle;\" /></a></dd>"
      ],
      "text/plain": [
       "<IPython.core.display.HTML object>"
      ]
     },
     "metadata": {},
     "output_type": "display_data"
    },
    {
     "data": {
      "text/html": [
       "<dt><a class=\"ProveItLink\" href=\"axioms.ipynb#range_extension_def\">proveit.core_expr_types.tuples.range_extension_def</a></dt><dd><a class=\"ProveItLink\" href=\"../__pv_it/axioms/5f08340c4bf97054bf6ced0d9d20bef7d357d8960/expr.ipynb\"><img src=\"data:image/png;base64,iVBORw0KGgoAAAANSUhEUgAAAekAAAAyBAMAAACKbj78AAAAMFBMVEX///8QEBCIiIhmZma6urrM\n",
       "zMxUVFQiIiJERETc3Nzu7u6qqqp2dnaYmJgyMjIAAAAcRTyBAAAAAXRSTlMAQObYZgAAB2pJREFU\n",
       "aN7NWm2IVFUYfp3PnXvvzCyRfVkxuBDRB44ZhKW4FKkF5vgns6LdRCFBaUKosH5c+mGrEU2/lCIa\n",
       "tdQ2aEcLZaNyWcFKKwclWaHa/aGFgcNiBbmb0nnfc+7HuXPm7nzsXPdw7p1z73nfueeZe877cZ4B\n",
       "CK4Y3XDNy97An/jDtQcNkbGAHxjqlS4TZbk1OPU3OCqeMlifPpbfAkZ9QL7cjyftvoW89QLECn7K\n",
       "tiAcKFb3oq6/vl06hgIFrV0vX1+g4Z6Y5K1NoPnOPVsQznh69FuAdLWxpobR5tKRlS6TdDnweLdo\n",
       "AQz7absFeTkozNOxCaE73NSUa3M5Is/MOE3II3YLYJevtktQQg3JCaG7q75xxAOd4pvlyx10/tZu\n",
       "AaT8HJtbUIEadVP1OUb9coCgk56HdeHp9I0LqKV1ZZg7z9bWtgRBm2uqUKOun77Pz9/WEjfl67fp\n",
       "fIm3jEgnG76fORKCEIbbVKhRl+sbFSo+v8BoMTjUPZ759xo54H946/0wG7Ge9/HUQhDOwqQKNer6\n",
       "6UuGMRMc6vmea3Ig+jhvFdNsJNFxn8UoBKEYQZDwU6XyUqXyu40adf303SUVYHh2gwq1kRctNPB+\n",
       "o7YFeavqXTeCOhScOYteAcUM7+gVra0YIvvMUFsQUlkVatTl+mJd9/qslivBBeHeH5is2awMb2mT\n",
       "hr81swTZqiz5W7Mmpl0bI7NOz42jBKGbtyLjHzDzPAQDOHA8aVdFg59sQVewY6EOIWqmS0dd5U0A\n",
       "+tJf2456lsdxwTI8rbRam1g2lcpBfAv6OJydL1sNuuUIwgOeKCX8/NXFpEtHXeUkwAn8/LPtqAe8\n",
       "DpTCy+/AFWjuY8eX1Zp0yxHc7I3NbN199Y5lNAc7cX2b7XfXXifJUgm996KTh/DsQTFJ2S1H8Gly\n",
       "3FT63UINZB80lhRbJ0ap/blH1SO2QXz7mGhRCojLuTqAwFu2YOK/DmXQ1UCmyedd8nh//472W7PR\n",
       "qkW3H5JdBWd/ATrYRVIRv+NhC65drLaVBX7UV9LMXvzb1/d6+1HPK9TeDuKtsy3sIJ2tT99CzRb0\n",
       "emuK1S7WiBMYbviI5Kiq7WaAIf+U/oSthUfEilhUtvI/4QMi1GaO0rC6hyCU1auy2PCPXOQ8fAFY\n",
       "QZXnLplJqFkQF4cQ4jXmov1cw2N9vljozGbDBtEdK0C0AAu9XzJ8DxcpQbiAFYRHWL2oO2SHQS/O\n",
       "HNAQZxGTUY6rdzIs1NEh0f0s36jyyp0DLsLMaC9WRK19taCsm8fhwZmKOjH2JC3xYi3UsZzoXs+n\n",
       "v9cusYgwJpbzBaoM9chgP+inwo7/nUkzPI5pyrZ16BzeQZ/wMKUqux+SUMet7jxE7gC+Hlxl5K8y\n",
       "imhdzCPfS9WECHpV/Zk1GRv1ySlteP0sgF6o17ar2QG0ZvA5ZWgjFAdRyp59QkK9Q3Qn8mCwV657\n",
       "krikSft4YeRSDlE1IUWDyx3/2UY9T+GvoVkWYINzfw+68gbZgVmIIE0B0QL8zT7FH0ArHJNQLxfd\n",
       "ERPeO0wfsgln75WJfGL00udyVNnDURvOBt5oldlogQX4zLm/EYO+BtmBNI4qWbTz3Y6MayfPQr1U\n",
       "3IowWG8wy+X5lg42vZaKz+eomrC6r68vo+cSZXuj4Eh3dRwOzbIAhh24an9/BDI7oIs+H3ZgwIn2\n",
       "Z9P1x9S+LKF+SnRHTdAmcgRemi9s7qJIukDol5IB5O8aHrWH11NW5VxNsgBap7SfJrEDFmofdsDJ\n",
       "hLQJSGyHbwzYWYRop4R6H+8GLQ/62BAkh5jgzqJ1goEiT/JWseMXqiYYuIqT7O0MSbPKXVpiAc5J\n",
       "+2lSGiGjVrIDTiYUyUN0Duz9HlaVIGTKNrwo9qS2gLaRxSHdTHBVIXoznubwXB9F7mSf91Nl6m/h\n",
       "JgAbmz0v4t7V1RILcNRCNn9z1sMOyKiV7IDjT3Bt8JCsZK1uC3WoJJbO3fyVWIIiijuNuzglWvK4\n",
       "MTNGqENsXcs2b1y1b9YsC2CT0OkMeNgBGbVyP82OmFJncsKz6YV17xbliNTk3eLG124XOAgXKXYx\n",
       "Y48xk6mXsYJqj4LGULVH2iwLcNi6/2EOPOyAjFrJDtxkr4+57FTm+ezGDXJsBit4N0RQQMsKQSpl\n",
       "GKanrIgdY9NmD1Ul6uikaj+8WRagx23kXPeNSuWP28W2cM198sQlP7MZpnPWFQvhOw4pQ0suchdV\n",
       "yNazHdsSC9DjNnIyOyC/axXqAFkAWKKa4c2yAMus+1sBPOyAjNphB1zflQ8O9cruaWQBbGt2HYCH\n",
       "HZjamqUzASY62WlkARZxARaagZcdsFHXZAfmBZj+eY14SyzAeYBXcOyR8Sp2wEJdmx0IjvBh5dbp\n",
       "YwE09EeI2jCr2AE9MwU7EOg/NLz/xmmFBcDsA3fqDqXKVeyAVpyCHUhlg0TtfVoLLABmmrvZ8apI\n",
       "ORtiBw4EuquTmD1tLMA2EVKdWggNswMB/8vOCSNbZQGSde8gKdiBWDZY1OHembBVOBL0A9fOANCB\n",
       "/1OaZebXHvVesmX/AyixgyEXDVdaAAAAAElFTkSuQmCC\n",
       "\" style=\"display:inline;vertical-align:middle;\" /></a></dd>"
      ],
      "text/plain": [
       "<IPython.core.display.HTML object>"
      ]
     },
     "metadata": {},
     "output_type": "display_data"
    }
   ],
   "source": [
    "import proveit\n",
    "%theory # toggles between interactive and static modes"
   ]
  },
  {
   "cell_type": "code",
   "execution_count": null,
   "metadata": {},
   "outputs": [],
   "source": []
  }
 ],
 "metadata": {
  "kernelspec": {
   "display_name": "Python 3",
   "language": "python",
   "name": "python3"
  }
 },
 "nbformat": 4,
 "nbformat_minor": 0
}