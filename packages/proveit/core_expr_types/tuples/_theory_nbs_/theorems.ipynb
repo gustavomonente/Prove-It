{
 "cells": [
  {
   "cell_type": "markdown",
   "metadata": {},
   "source": [
    "Theorems (or conjectures) for the theory of <a class=\"ProveItLink\" href=\"theory.ipynb\">proveit.core_expr_types.tuples</a>\n",
    "========"
   ]
  },
  {
   "cell_type": "code",
   "execution_count": 1,
   "metadata": {},
   "outputs": [],
   "source": [
    "import proveit\n",
    "# Prepare this notebook for defining the theorems of a theory:\n",
    "%theorems_notebook # Keep this at the top following 'import proveit'.\n",
    "from proveit import ExprTuple, ExprRange, IndexedVar, Function, var_range\n",
    "from proveit import a, b, c, d, f, g, i, j, k, l, m, n, x, fab\n",
    "from proveit.core_expr_types import Len\n",
    "from proveit.core_expr_types import \\\n",
    "   (range_1_to_i, range_1_to_ip1, range_i_to_j, range_i_to_jp1,\n",
    "    a_1_to_i, b_1_to_i, b_1_to_j, fi, fj, f_jp1, \n",
    "    f_1_to_i, f_i_to_i, f_i_to_j, i_to_j_len, j_to_k_len,\n",
    "    f_1_to_n, i_1_to_n, j_1_to_n, x_0_to_jmi,\n",
    "    concat_len_equiv, concat_len_simple_equiv, iter_ext_equiv,\n",
    "    partition_equiv, merge_equiv,\n",
    "    partition_front_equiv, merge_front_equiv,\n",
    "    partition_back_equiv, merge_back_equiv,\n",
    "    merge_series_conditions, merge_series_equiv)\n",
    "from proveit.core_expr_types.tuples import \\\n",
    "    (f_i_to_j__1_to_n, f_1_to_i__1_to_n, f_ik_to_jk__1_to_n, fk_i_to_j,\n",
    "     general_range_of_ranges, range_len_conditions, range_len_sum, shift_equiv, shift_equiv_both)\n",
    "from proveit.logic import Forall, Equals, And, InSet\n",
    "from proveit.numbers import (Natural, NaturalPos, Integer, Add, Neg,\n",
    "                            Mult, zero, one, subtract)"
   ]
  },
  {
   "cell_type": "code",
   "execution_count": 2,
   "metadata": {},
   "outputs": [
    {
     "name": "stdout",
     "output_type": "stream",
     "text": [
      "Defining theorems for theory 'proveit.core_expr_types.tuples'\n",
      "Subsequent end-of-cell assignments will define theorems\n",
      "'%end theorems' will finalize the definitions\n"
     ]
    }
   ],
   "source": [
    "%begin theorems"
   ]
  },
  {
   "cell_type": "code",
   "execution_count": 3,
   "metadata": {},
   "outputs": [
    {
     "data": {
      "text/html": [
       "<strong id=\"tuple_len_0_typical_eq\"><a class=\"ProveItLink\" href=\"proofs/tuple_len_0_typical_eq/thm_proof.ipynb\">tuple_len_0_typical_eq</a> (conjecture without proof):<br></strong> <a class=\"ProveItLink\" href=\"../__pv_it/theorems/02b1a64be4d9f8f9b7809b8972a39f7c9f81910f0/theorem_expr.ipynb\"><img src=\"data:image/png;base64,iVBORw0KGgoAAAANSUhEUgAAAJkAAAAVBAMAAACnAFEqAAAAMFBMVEX///9UVFQQEBCqqqoiIiJm\n",
       "ZmYyMjJERESYmJjc3NyIiIi6urp2dnbu7u7MzMwAAAADGpxCAAAAAXRSTlMAQObYZgAAAatJREFU\n",
       "OMtjeMsAB0hMHAL4Ad8FhtNAirOBeQKQOo0uDRGYQdgcSzDJswGs4zoDgyRO03gL8Jt0qucBA+ME\n",
       "JNMyGRiu4TSNDaiSWRenYWwGvJ4MvAkI0zgCgKwFuExrZWC4ePAvTtOaGBiOAR2IMI0FaDuvAi7T\n",
       "PIGYA7dphQwM9hcYLiFMmwJiZuMwjdMBv2kfGRj2GzCwbYCbthQkehSHaVwBeE3j/Qo0bQEDTwDc\n",
       "tAqQcBvUNJ40MAiAmcbegNc0zj8MDO8XMHAkwE1zBgmb4HAbiwF+04Bue3+AgdkBbpo2SPg9DtOY\n",
       "NhDjU74PVDENFAv2BsimgX26BTXcBIj0KUM5A0P/BQZuB+yxgO42ArEATb1IsXAUJBqDwzRw3HMB\n",
       "TbsP0gAieL8hM1gMePUYGFgPwE3bAtKZh8M0kB9Yhb5FMLD4gvSCQsARxnC5ADTy1MIHwNz6ADVn\n",
       "OeDLWWBgi+FL5gsw1hUScj0EHMAwjQdRLCGVSJX4SiT2CdCUtQDDtFvwVJeAWlpWEiwtOTDjswHG\n",
       "YIeVluvAJTkHiLsOXfU6YkvyTjDJ9QAAefyjssLNpqIAAAAASUVORK5CYII=\n",
       "\" style=\"display:inline;vertical-align:middle;\" /></a><br>"
      ],
      "text/plain": [
       "tuple_len_0_typical_eq: |()| = |(1, ..a.., 0)|"
      ]
     },
     "execution_count": 3,
     "metadata": {},
     "output_type": "execute_result"
    }
   ],
   "source": [
    "tuple_len_0_typical_eq = Equals(Len([]), Len([ExprRange(a, a, one, zero)]))"
   ]
  },
  {
   "cell_type": "code",
   "execution_count": 4,
   "metadata": {},
   "outputs": [
    {
     "data": {
      "text/html": [
       "<strong id=\"tuple_len\"><a class=\"ProveItLink\" href=\"proofs/tuple_len/thm_proof.ipynb\">tuple_len</a> (conjecture without proof):<br></strong> <a class=\"ProveItLink\" href=\"../__pv_it/theorems/6bac3e88159fab5ddb0956d24c14e649c4d5c04f0/theorem_expr.ipynb\"><img src=\"data:image/png;base64,iVBORw0KGgoAAAANSUhEUgAAATYAAAAWBAMAAAC4Sa0YAAAAMFBMVEX///8QEBCIiIhmZma6urrM\n",
       "zMxUVFQiIiJERETc3Nzu7u6qqqp2dnaYmJgyMjIAAAAcRTyBAAAAAXRSTlMAQObYZgAAA4RJREFU\n",
       "SMe1lk1oE0EUx1+TbDfZbFIPXmoRorVVEEqoBy+ttBbsSUwr+EWhJehBkRKwVq2ioadEKSwKthQK\n",
       "i+IHLZqghKqgBhoPKkhAT2JLQCvoQUQ9aA7ivJlJstnsbN2i77A7u/+3b347M2/mAfwrO7TK7yR9\n",
       "FR+1Lf+9ry8POdqYcdCBX8Or2mWtLI1AAduLVp/mbDSz3QbGpsSd/P1Ra7b6OFVy8BKfPluziTWz\n",
       "feJsQc0J210BW54qOZjCGYlbs4k1kwXCnO21o1WjhgRzSpUcBMlSVNPWbGLNZLLG2c44YlPWiNhQ\n",
       "yUHgxezsJFiziTWTTQJj88WcpdsHERsqJODPROKcgE2smayZs7nCCNjRvs4+qcsOC1Zs19qZQgIe\n",
       "AUjyqDVsTFvZJjibN08u3VrwK8ABsTdzwP9ZKrO9+oL2HpvZbqaQgD2gkL1CYgkmncjBhqEyG9NW\n",
       "trOcTSaLU1kP7jjs3S5eZdQBDpLmvMW4+dI7mEICyuDKs7dzC53wQNXdepmtotnbWs5WR/pxF0Em\n",
       "WdYrdOYOaIMWbAp8YwoJqOZlvhFcmtbhcSisVua0rDlgq4tDKmLHxh1EbOAvltl8hX0AnlacQGKZ\n",
       "zGUDG9Xgemvt6aW0D0es5zSVhadgx8Ycdg5xJ+N6+4hNL1cwYPIwcWjQ2QmVUe8MVNioppyUyJ8c\n",
       "q+7gVmRQh6BVLqTSMEzOQxs26pAtVuVClZ4t5QLcJ5vS9DwoNFMzkF0wsKHmDksxGDBtC9tgPy4N\n",
       "qOwF6K6SGN5QYFSlP678xp4Khga9UAffHG6FHVZse0jhgAoGbMCFOQ7S6URinLDNyAY21OrSLjLK\n",
       "Y9UBmqDV8NTL3T2kQyXacnUTe3WKZJWMMzQKvCGPlRy82OuyFVv9IlMwYIBEUIoRGGLj5uk3sKGW\n",
       "0rxvdROb8gsmZv0bbc4sZPPXlmaPyjN3g0SJCc+sGA+IUQpZeIaNNwDvDGw0r7TB3XTcpnTfRXoh\n",
       "t0bpR97fY3PW062rttNsqfFEXfms55zHNfCSJPOc74J6E5sneq+TsvWlpUbo06RGqQl2bW3O47HB\n",
       "LcndvaUa6cqFKDl9ascjVGrdfC6skXj1lDO+2ELWW/WZZTCc03JJ4ucD32VfW9bu24Gqp6SQLVnT\n",
       "f7VtNu5q/d/TvIZGe8huUd1Qk7c4rskDNJ4rYq20jTipaAI2A/I/7A+ppBaClt+IyQAAAABJRU5E\n",
       "rkJggg==\n",
       "\" style=\"display:inline;vertical-align:middle;\" /></a><br>"
      ],
      "text/plain": [
       "tuple_len: forall_{i in Natural} [forall_{a_{1}, ..a_{_a}.., a_{i}} (|(a_{1}, ..a_{_a}.., a_{i})| = i)]"
      ]
     },
     "execution_count": 4,
     "metadata": {},
     "output_type": "execute_result"
    }
   ],
   "source": [
    "tuple_len = Forall(i, Forall(a_1_to_i, \n",
    "                             Equals(Len([a_1_to_i]), i)),\n",
    "                   domain=Natural)"
   ]
  },
  {
   "cell_type": "code",
   "execution_count": 5,
   "metadata": {},
   "outputs": [
    {
     "data": {
      "text/html": [
       "<strong id=\"range_len\"><a class=\"ProveItLink\" href=\"proofs/range_len/thm_proof.ipynb\">range_len</a> (conjecture without proof):<br></strong> <a class=\"ProveItLink\" href=\"../__pv_it/theorems/300252e5ff26737b369663949ec502c7ccc1eafd0/theorem_expr.ipynb\"><img src=\"data:image/png;base64,iVBORw0KGgoAAAANSUhEUgAAAb8AAAAXBAMAAABpBVx2AAAAMFBMVEX///8QEBCIiIhmZma6urrM\n",
       "zMxUVFQiIiJERETc3Nzu7u6qqqp2dnaYmJgyMjIAAAAcRTyBAAAAAXRSTlMAQObYZgAABQBJREFU\n",
       "WMPVWG9oHEUU/+X+3+7exQ9VoWI5ciBFEA4jFCWBgNhGQXpBsFVBz6LQQAMBQdEKHgolVyku+CFF\n",
       "ka4t2JoPbURRIkKPFqqkUBbF0oDKQVulQo8gCJJIcd78293bufWQ+2AH3t2b2Tfvvd/Me29mFxh+\n",
       "y3r/P03Da0UfzpRkgiHWVgaaS812BUFqirSPBnVkRVKHOj8PD+Ap5dYp+rEefFhw+5Fzk6ZpQXzm\n",
       "YZb9zZoBWk1aga09o/sNGske0UXq/D48gDeUWze4lYubgpuD1UmapgVxGTgNQQaAZVqmUqNndK6n\n",
       "TytA9oiOUmg0h4avVJNuEQOceWJKcsC5pHlhQTgVQQaAPyQpsSvi/5MLG9IeozLLY2d5aADzrnQr\n",
       "zyPyrOaAj5PmhQVh3SHIAPD1QQCitCHtMSqtLi0tDi9CF5VbQue3mmNLOZUwLywIXJMUA1icHxwg\n",
       "2SP6a2HhzUSf+xaHumGsqtyq8oC6e5xzVpWCrtbfhhKENUbpcl5SDGCKdBzf3lN4qhUTQLJH9DLQ\n",
       "osEJXykArtNPRiaE6iN4ztpe4AuDp0eUW0d49w/BORkWcKWkKiMFkca97PcXSQLgpS61q8QWyMna\n",
       "iB+Zy7XHAZI9okdFfXPG2nSyiu3iOVkQwrOqj+A58NQO5ozs7JmYSt0lxw8qtw7yiPpTcB+mmQk7\n",
       "IbyUINbAqim+khTbwTzzpOSORmsG1x4HSPaI8kj5xgwRALPtmDe8SO9iocEY65tx326u4hH5bIty\n",
       "awu3uC44b5SZzq4nZI8UhJch316QFAM4wgYs7KYLzmm+rxRbXDucbve3bd1uQwMke0SOn6exUc8M\n",
       "MBfPtKYESOfWlZUl2N+n0TYCdOYld9ZLBqgFBZcIUFSkSAn2TDuoABY7T9PQe5OUdveJpA2FaF73\n",
       "9XMN8AFkKCft556ptI0hWmhI7hBNTghRLYhyTSrf1ZODv6oQBa72zD5krKJkj9tsvURjV/jy8X1M\n",
       "ZzoBwEXd1881wC9R5nrrqz+2jUVmpCI4a9NJLjJKkJ34y7EiE14IyiZrs6eKkvb+RQaf85Udp58P\n",
       "KLPxqdMIAE7rvn6uAU7jhADo6CNAF/fz3FvJZdbZHTndxhmyRz/WrTATCMpwm5AUA8jt2BvRQa49\n",
       "AjBFEsweJ/AUlWX97WCdJMCdoj+9wJrHnue63W3dmwLg89jDRit2veir8NOBRQx2q6E5prFcR/4N\n",
       "CjNarlcV85oXEcQOdUxdNwHkIZfujfU5Pwow/eKtSW6PE0rcxJ18szd4SRl1A4B7dV8/1zu4Ezmx\n",
       "g3isYryqfYfQDewko6/j9ZNbDwRfITPzgvpc1fK1f7vJaHsngzhmm3rUszvt4mFgJlRFSWRGa+i0\n",
       "FUAK1p/g8BVi9+S24bJtN25CX7vF5Td+5lD6BILP8gMx8bKd9Y7V+71zRU6Cc5ELPu39zLJ1wM3e\n",
       "A2wPAcx7qk8aDrgS4Ptv7QMeAt6lzbwmz0ZqLeVWC/nDHTUE+fpSiTl1nGwoweLfhRoSX5cK7rH2\n",
       "OwPditXrUmjlxYXF1pko8nVZ9aPnIMTLcorlYL8X3lLVhX71Za4xK3E/KH0CwX2TakVa/V54c1V/\n",
       "IIBkr6Dv0eXLdfWZYCX3+NYQQDRVPwbQ9s2fHVJ10yeLtYE/WZRcQZCa/tsni7WITWcMan393AU3\n",
       "DPBJ1Y+9XpzA7d3S0J+AzO3+2wHFP5+3fWJBAebrAAAAAElFTkSuQmCC\n",
       "\" style=\"display:inline;vertical-align:middle;\" /></a><br>"
      ],
      "text/plain": [
       "range_len: forall_{f, i, j | (j - i + 1) in Natural} (|(f(i), ..f(a).., f(j))| = (j - i + 1))"
      ]
     },
     "execution_count": 5,
     "metadata": {},
     "output_type": "execute_result"
    }
   ],
   "source": [
    "range_len = Forall((f, i, j), \n",
    "                   Equals(Len([f_i_to_j]), i_to_j_len),\n",
    "                   conditions=InSet(i_to_j_len, Natural))"
   ]
  },
  {
   "cell_type": "code",
   "execution_count": 6,
   "metadata": {},
   "outputs": [
    {
     "data": {
      "text/html": [
       "<strong id=\"range_len_typical_eq\"><a class=\"ProveItLink\" href=\"proofs/range_len_typical_eq/thm_proof.ipynb\">range_len_typical_eq</a> (conjecture without proof):<br></strong> <a class=\"ProveItLink\" href=\"../__pv_it/theorems/a3991d44c89c29fcca537ca331b3b19d805840dc0/theorem_expr.ipynb\"><img src=\"data:image/png;base64,iVBORw0KGgoAAAANSUhEUgAAAcIAAAAXBAMAAABqslJeAAAAMFBMVEX///8QEBCIiIhmZma6urrM\n",
       "zMxUVFQiIiJERETc3Nzu7u6qqqp2dnaYmJgyMjIAAAAcRTyBAAAAAXRSTlMAQObYZgAABQxJREFU\n",
       "WMPVWE2IHEUUfpnp+euf3RDUw3oZsgQCXkb3INFVVkWCFzO5GDYKziEBA4kMCGrUw6Cw7ETE9pSA\n",
       "SDqJJrpCdkBQVtQdEklwvTRZlOQQWdEc9LAMEkSzIL736lVPZ7q6Z8HxkIJu3rz63jf1Vb16Xd0A\n",
       "o2/7R8ZUCP4T9X74P1olhG/Z+CDuwrY0PFZCliK0OzOAGKROaY4vaDLWyLw+OoUfyzDsFt3PTPrs\n",
       "gheg6GeFEZBDnAlGKrRZIeGKrQx9E3BIo9H4nszfR6fwNxnGGA/x8HKHXXAE7LWsMAJyiNdgpEKb\n",
       "FRKuGKZzIcV5jUbjBKVRa2QCvZoMY5Vn++aHykXtQkYYA1f1rwsabVa4OnwYblXQaIzhZnY7I1NY\n",
       "8mUYRzlfeuKidipr4/R0iEaeSld4dPgw7K2CRsNbWVg4ProkPS7DqDR5hE1xcXLNZMx5U4doJKON\n",
       "Cvu4jParRqPx1/z8G5nFMbWUm5yTQpyj1PTuf6nGLnsSs8atpec2ATnk9E5QSEYbFRLu9APpA2aK\n",
       "ixqNxkGANv2cDmWAOH91ugt7F68bcQFKXgsc05q8I8RlrgTjVeVyLcwaL6PUEJBDaltChWQ0K3TX\n",
       "udUgRt19LJ2LKX7SaDSeUHXL3U5SZtWu4LsqP1y2o306qwVOYarskh/7pmdy94j9uhCXOORkXbne\n",
       "z+NfOBnZRUAK8fzxjkIy2riGiKt0Hk3PB6b4QqPRKEEuNO4SpfC5BEWRbhYO4Cxt6a+mQqe1Ag9J\n",
       "511CvIXplsUV0BoVeukKlyXEhj2BQjLaqBBxNvyRXmSY4nmNRsMNS5wngVnhwQRFWSuk59LVpQVw\n",
       "ruQ5l5MKL2vXcpCt8PJtIUMVgnMLssniCitrz9DavvsI3h9v8FZ9OKawSXVCZyn3Rwpx7S3aHc6z\n",
       "s9WuMUvntGtOQtLaXBTyiyCt5sA+bMSyFMqNDIVEsVujyWgfoF9Xuarw1NSe7iuk0py3dI3g/kih\n",
       "04Ax3rb1lR+6xkqzTVz2hptdabbpEHsDBivN4BoSbrHTTU/TDbi90sBnPLdTJOdTMm3/Ul+hhfdP\n",
       "XJkx1R8pxL4zSqEbPQkuCjE77Jvisnp4WM53YZHOY/+gLzL4poAcwumHSL7MCgm3pxL2wwfImGJa\n",
       "o6d1SefJh3I1WgitkPMytOaxHaP+F9d/Xl8PWWFhDfahu+rUK6HOwN1CzElm9bTrSMjPoNJraL9M\n",
       "mdYQA14JNJBD8k15WvETy6iQcMXrEmkgY4obGk2GxzXmbrotfsQ8f/cVFug+rl8LuL+/hg1VV506\n",
       "PFk1ndrcFsRObefw+jJ5XgsiIIWUaoI8N/TU5gRmMqKwm/rUFm1++xZUjsE3LpwIoLC1r5ARezUK\n",
       "+0UhPa68Lrg0094MmcmT9+djoXbp83Ry9xCjAFfxjZefoJs7ebtgIlMU8ZO3NFyTwr1w9jvY24Fc\n",
       "K1ZLKa92ahT2K4WVB/+sQh7//21KQzz7RbWtLcMo+/Dq+cgF6n3IribPWHgJsOyf7L6lkRlvT2U/\n",
       "ikySKYr421Ns7tVRpqN3o1J4H15vJp+HfLijQyLuw7Q34Cu7IpeMy0sOilZPgHarOBkKsjzkDVgi\n",
       "k2SKoq3R7WiwP9bly4HjH3gviCksQ/GpCbPCr1O+YuwwfsW4tumvGNcidK4+gNixua8Yni9oL/qw\n",
       "4G7Xk+LB4UPxM40VFi/5xpcNuwZ3eKv1vwsZWy64I2T8C+Kymw01MVHcAAAAAElFTkSuQmCC\n",
       "\" style=\"display:inline;vertical-align:middle;\" /></a><br>"
      ],
      "text/plain": [
       "range_len_typical_eq: forall_{f, i, j | (j - i + 1) in Natural} (|(f(i), ..f(a).., f(j))| = |(i, ..k.., j)|)"
      ]
     },
     "execution_count": 6,
     "metadata": {},
     "output_type": "execute_result"
    }
   ],
   "source": [
    "range_len_typical_eq = Forall((f, i, j), \n",
    "                                 Equals(Len([f_i_to_j]), Len(range_i_to_j)),\n",
    "                                 conditions=InSet(i_to_j_len, Natural))"
   ]
  },
  {
   "cell_type": "code",
   "execution_count": 7,
   "metadata": {},
   "outputs": [
    {
     "data": {
      "text/html": [
       "<strong id=\"range_len_is_nat\"><a class=\"ProveItLink\" href=\"proofs/range_len_is_nat/thm_proof.ipynb\">range_len_is_nat</a> (conjecture without proof):<br></strong> <a class=\"ProveItLink\" href=\"../__pv_it/theorems/65e476bc422f4fe1e54a10562cb19f9a870c03710/theorem_expr.ipynb\"><img src=\"data:image/png;base64,iVBORw0KGgoAAAANSUhEUgAAAW0AAAAXBAMAAAAy4QMCAAAAMFBMVEX///8QEBCIiIhmZma6urrM\n",
       "zMxUVFQiIiJERETc3Nzu7u6qqqp2dnaYmJgyMjIAAAAcRTyBAAAAAXRSTlMAQObYZgAABNRJREFU\n",
       "WMPNl11oHFUUx//d752Z3QapCoqyJChSEFYjlGoKi2ITxY8NQpJW0aWk6EIKCwUjRnApUpNIdMQH\n",
       "gyKOjbY1QrOitLSI2ZrQ2vRlqFhaUNmH9qGVhq0o1FTEe+7XzrKzQx8W9cK9OTu559zfnHvOuXeA\n",
       "zrftHbMUdfBvtaSLZSU0HrF29IZ0qZm26ICV851Hpmok/Nw57oOQ3AdpMO7fLKSXELOD1OZ6bKny\n",
       "pYMi+1P04T507W0Hx6/myNRpenC5c9yXFPclGmKnrwtpF4xakNrYYkWqnGV8EL3F3zPRAow6NzVL\n",
       "+1PuGHYqK7lJABYez0kJ+C5Azfj9U+iJsDKit3C/mO8GuripNAt9q9Ix7rgtueM8LBa1BHwSoGbW\n",
       "PRNhdImuuc+Nj/PdGp2O5VHiplIr8/Pvdy5MyNSyEoCTWmIeyrVXs0qeicAF2SX3yEb5vDhkXCZu\n",
       "MnVtcvK1QJS2+ZT3edajuEnAD7f2csnooZ3Pto+u+3ZnhYrRTTG7JLvgNnT6Fc3MEHGTqZ3AFD3r\n",
       "c9VqSHOiiHQF6xeVYkivPQJ87UMwo7hn+M/fhGRF2K6nAhJzfUaqhHEHG3+RXXA3KlERy6lMSZh6\n",
       "RGS61V1l4zYRbXxMqLmAjv+oMvHMJraG/DHclwvdIp9PKO4JXpD/ENKHYbaEWWrP/XFeqpwHK0A4\n",
       "IrvgTqDBHXN2loSpOEKub/SJ6dFqyyIFGvrZ/jHB+KbXNcsreFD+b4Pi3qDTjUkO+TNab8+9qFSc\n",
       "yBobX5BdcA+uslYT3EYh3SVMWW6c75Tjzx1rjeKy5KZ6e+7oPMwzYVR9uXm6kbToBHOfbFZp5p71\n",
       "+BvPRSV3sjZEmfHOFjY+zF257yEPd5yySsVJ5O4m7nsRoXg3n92WqfrGSaIgpb2kHBAne7VKOiuN\n",
       "92vudV7uVKUsTU2N8hJJQ5U2CdmnPNysOIUjKqMsviua+zDSPBryKz9WffNynUw347oVnJc3aZWF\n",
       "SktehjNqGqshOFWWpr7ifuilNPqCRMM+4eEeAD63ClLvgyNN/h7AnOC2dI1bUtxLHCInpEj9I7Z8\n",
       "FQtsPeNvyEH/YselVqGIQp/ssn5PKO5f6S1q3JSsQeJlExk0apjg3kqSi4FJ1hzsQWx19c7VK4L7\n",
       "eQyzpxkzn3RVDPQrbhLwtJJ2uby6xl9l8suQQ5zcMU6ckbpW2QRZdy82uPe/IZJv+CpzGVU/XqhT\n",
       "/OHN3D+f8f//6eEeoTfTB/Ba3uvvrYgJf+PRjO85/z08x/cB1o+1nvC0ulXWE3fTMiXR9Tn/xJvj\n",
       "TUF2oHGxWUNyGt9amHVAGau5acqgXqRWVdwUMT/B4i/O7k5Vn3uVWbjSuGGJe1VrUaVj7XDalRO3\n",
       "84rf9l6lWuOKxjI0ejv2n8JgBaGyt54wf9yj327Mltzvvb4DeAB4i1x/QdZ0alPqHjuF+HRNPYLY\n",
       "XyPTgrCP9VcOSd3kX4ksAu6xCqPWdP8Ux2RFRbngDrH83uNTvyG+OUIsvtt9N6R67MYXBBLsR6qV\n",
       "gTx9ZrPS3bFFvehUAHdCH/zps3n5JWXao+863nO+HHvsNn9u0/X/1rrL9zvt/A1/p6Vs0ZlX8r7z\n",
       "GqasbvnqzCVjRe95iSdjJ2z/C+Ic/pctDP2V6t82/odw/wB+5VXdO0KkTQAAAABJRU5ErkJggg==\n",
       "\" style=\"display:inline;vertical-align:middle;\" /></a><br>"
      ],
      "text/plain": [
       "range_len_is_nat: forall_{f, i, j | (j - i + 1) in Natural} (|(f(i), ..f(a).., f(j))| in Natural)"
      ]
     },
     "execution_count": 7,
     "metadata": {},
     "output_type": "execute_result"
    }
   ],
   "source": [
    "range_len_is_nat = Forall((f, i, j), \n",
    "                           InSet(Len([f_i_to_j]), Natural),\n",
    "                           conditions=InSet(i_to_j_len, Natural))"
   ]
  },
  {
   "cell_type": "code",
   "execution_count": 8,
   "metadata": {},
   "outputs": [
    {
     "data": {
      "text/html": [
       "<strong id=\"range_from1_len\"><a class=\"ProveItLink\" href=\"proofs/range_from1_len/thm_proof.ipynb\">range_from1_len</a> (conjecture without proof):<br></strong> <a class=\"ProveItLink\" href=\"../__pv_it/theorems/9b94eba6ffb034a6740b1ae1de26d64b5e2904240/theorem_expr.ipynb\"><img src=\"data:image/png;base64,iVBORw0KGgoAAAANSUhEUgAAASsAAAAWBAMAAABqGadAAAAAMFBMVEX///8QEBCIiIhmZma6urrM\n",
       "zMxUVFQiIiJERETc3Nzu7u6qqqp2dnaYmJgyMjIAAAAcRTyBAAAAAXRSTlMAQObYZgAAA59JREFU\n",
       "SMe9Vk1oE1EQnuanSZO3qYgieIoNiMdoTwULCx4ELwYPnjxEUPDQQqCg9YdSeiipIgYvSqWYqthS\n",
       "0RZK1ArS0KoVewlWxIJCbkXBUkRBWii+NzO72ebtrlHEB5vs+76Z2Y+ZeT8AfzrCRfhX469CBVYz\n",
       "OjgCwlT/LRUHhGPm9xHJacY2plBbh2SMFROq6v2TWxBh6lysn2ON4/RuqqAgHM0FP0WxAx3kdAYN\n",
       "yViXRazEF9Xsi7ssnUsUONZnnHbNTikI4rvlh6t+spoXN8ipGw3JWJdFrMRvquT2u8vSuSWOZaQx\n",
       "Bd/vIXT/1bqczfnJmjxishMZznkVUTEST8i2E1PusnTuPMeKYBHiawSBoWSN+smatZ3IcNRT1iji\n",
       "xpuJiRvgLkvjWnIci1CRI4hkJUwfWQu2ExmisassySj8Zz5/yUOWxgXSHCulZsb+njRCJEukvVUt\n",
       "7WpHp1gqSYZoXC/LYhV+GmCIPqjLIg7gIG8H0QrHuorT1iRBJMvw6/lv5CRC28gQjTGUWMWBMplV\n",
       "+CFs/jDVPdzzAvZkbVnEgWgrExSZ4lgXcXo7QxDJiud8dqwf5HQrWCVDNK7PlsUqPAIBzsWD+U54\n",
       "KorBoi2LObtrmkyOtcPu4ybTkhVe85aFi0M6FVWClSEa18uyWIWLSoRA48pwEZ4n06JWROZai+6y\n",
       "FhqWpRYHOs0WfWRZrMJbqscBQntVNeUola47ZCEHxrVOcC3iIDiLGPIpYjTLToNsGMrV9VYWaizi\n",
       "Q6ckJxOCHVsSD0/UZCEH8MGOvrXlt0OjLd+UJKfYhqhveedKZBbxaSl8+AnEcC2WoDzvkDWNGWi3\n",
       "a2FtEPO0yVvbQkDJCpZhUn1M/cQ2nS/ylZ1CayNoiI8my2IRV30GAxDuzecHpKyRiEMWcpwbTj/6\n",
       "HKYoDAVPbsoyJzIQuaDKqupx1no5h315FNipu4KG+Oi9xSydb9Ixtp6BLGUrdMwhy8CgO90PH9HP\n",
       "EI0x+TzT1yBGeA2Ow2eMH/ddfsyBx6tleKle3gF8dMiikq+7HtWPExWGaidwWV+DKnr2K9jne2NH\n",
       "NX+5qwBRuaZCfSY018tyLLGodbGRm3/vIwuiEKqTktpX7qg0XabVMFQzrHrJ4ouNY+yTvbX18OEN\n",
       "Le16DXzbYUG2PEP/DC7UFEkftw2jBS9Z0YJHFu1zuY8uzYn3GeelOZBxvzQvN3ppXraNAy63cskE\n",
       "VswG7vSiDf77+AXeNyiqd0d2wgAAAABJRU5ErkJggg==\n",
       "\" style=\"display:inline;vertical-align:middle;\" /></a><br>"
      ],
      "text/plain": [
       "range_from1_len: forall_{i in Natural} [forall_{f} (|(f(1), ..f(a).., f(i))| = i)]"
      ]
     },
     "execution_count": 8,
     "metadata": {},
     "output_type": "execute_result"
    }
   ],
   "source": [
    "range_from1_len = Forall(i, Forall(f, Equals(Len([f_1_to_i]), i)),\n",
    "                         domain=Natural)"
   ]
  },
  {
   "cell_type": "code",
   "execution_count": 9,
   "metadata": {},
   "outputs": [
    {
     "data": {
      "text/html": [
       "<strong id=\"range_from1_len_typical_eq\"><a class=\"ProveItLink\" href=\"proofs/range_from1_len_typical_eq/thm_proof.ipynb\">range_from1_len_typical_eq</a> (conjecture without proof):<br></strong> <a class=\"ProveItLink\" href=\"../__pv_it/theorems/3cb5323bb033f8a4657415228eb1bc20b3f84acd0/theorem_expr.ipynb\"><img src=\"data:image/png;base64,iVBORw0KGgoAAAANSUhEUgAAAYYAAAAWBAMAAAA2vyYhAAAAMFBMVEX///8QEBCIiIhmZma6urrM\n",
       "zMxUVFQiIiJERETc3Nzu7u6qqqp2dnaYmJgyMjIAAAAcRTyBAAAAAXRSTlMAQObYZgAABDdJREFU\n",
       "WMPNV01oU0sUPq1p097cG0UUwY3R4s9Ko4IgtBJxUXBjceFChEbwLQqFV1D8R4oLaRSxuFGEYlAR\n",
       "UV6ah9SKIA0k/vDcBN/j4UL7Cq9dKCgiChJBnHPmzNxp7nQa0YUDN3PuzPd9N9/cmblnAL63tOTh\n",
       "Z5W98zZ8Hz1a1s9YGkfAz2DdXlUtHCWG51ccUUAGV+oBlRDmKpqOweQhmMK7VzZkxdLnDbKHW3S3\n",
       "aStHovQ5H3u9YxjJ0DpIwD6HB4S5CksQuo+qZ3j3xu4h2pccZg+vSe3ZFxn9KeZXwfng/okikqG1\n",
       "SsCCwwPCEssdHqohvUDVZZwOg3YP0b6/QXoI0ng3ujODkdf/u/DgpxwWvI83iIwFgRJs9yBgNx/X\n",
       "nCOi6RhUIImPL9o9RPuOsYc4zcgJFf0ngN4i1wx+L8nkZ5EC2z0gLHB70HQMKhD8dfv2JbB7iPS1\n",
       "D7AH2fpERegBpl0DNyDJVKYV2OqBYPN4COnTVH0eGjo5h4dIX3OaPXTQS1+2mSPyUJ77kcHGg2ki\n",
       "X9vEwPKcHhDm8qAlCF2m6jeAHDMjgrIPoJN30rYqezhPtx9URB4mHeO2MCXJpe0MnNQe/HdU0qoB\n",
       "YS4PWoLQk1TtAE/soS1yy205WIGVWe1B9oG/qiSb4kX2cIJm1icVkYdxh4erPURuL25j4Pic7wGf\n",
       "4fAQShB6nKo4NPMo3yl3wX0/vyCvBbkvmWGBpgx7WKIX6hLtodfhYUKSPXp1vQps9dCUcXoIJQjd\n",
       "K7enapwn7bkreXiYSvuhIPctzFs94EJt0MMTJidqP+ohlDA8tE/tAYitwYkjytjYRcMD9UFwoQts\n",
       "c6ktO2sudTs8nGEyUboV2FwP2QbnUihB6G5Z5Q4IITHUlFmM+X/sMwYF+wBeaP6sNd2UanhNL2by\n",
       "aLFUv6br38N8a1pLGGsa7oopcWUcPNoZxqBUNgTv0p6+WW/zam8lzKiONqCHTvC+4oTFn9Ep/qE7\n",
       "8Zlm8i7MEDtBXnYPCIPmWr2GDrQEoTtlhfsenIaWo0NDp4WHkbghSH28k4oSU984epe7gKMtK/4X\n",
       "uiLNPYJeDuOEyKofaoq9Z3IrZpAzfNk9IGzB/q9dED+uNA6bYlqC0DOyCjBRqPVAVr6H2G5DMKDV\n",
       "vNSeazwFnXXgWItnJ6JnC2ryB8HINQbk5co1qDywi4FBx0CpJKZK8AiDfwBezkrmkVGz5XyJ7FvQ\n",
       "2Z9K5SxZhrjuJatMbjDn46+ZVcyS8/Hf7B+GNrEhxE5loLXeQ2wg3BRU7p2D+FnaBOSHnNPpa5bU\n",
       "QFxHC4qsgK7cm2HgpaxiYNIL9SrrxHqIHKrMoZ51Bgo65LPUGQi9VKMesOn5VjAONzlt3H0GCuxi\n",
       "YNJzNhWjrOWzaPLfHvM42dxjPYsGjZ5FEcjg1fWA1Y2dRTUdg/WHGjh6+6vg1y7fAFBkjT1cLZQQ\n",
       "AAAAAElFTkSuQmCC\n",
       "\" style=\"display:inline;vertical-align:middle;\" /></a><br>"
      ],
      "text/plain": [
       "range_from1_len_typical_eq: forall_{i in Natural} [forall_{f} (|(f(1), ..f(a).., f(i))| = |(1, ..k.., i)|)]"
      ]
     },
     "execution_count": 9,
     "metadata": {},
     "output_type": "execute_result"
    }
   ],
   "source": [
    "range_from1_len_typical_eq = Forall(i, Forall(f, Equals(Len([f_1_to_i]), \n",
    "                                                           Len(range_1_to_i))),\n",
    "                                       domain=Natural)"
   ]
  },
  {
   "cell_type": "code",
   "execution_count": 10,
   "metadata": {},
   "outputs": [
    {
     "data": {
      "text/html": [
       "<strong id=\"range_from1_len_is_nat\"><a class=\"ProveItLink\" href=\"proofs/range_from1_len_is_nat/thm_proof.ipynb\">range_from1_len_is_nat</a> (conjecture without proof):<br></strong> <a class=\"ProveItLink\" href=\"../__pv_it/theorems/9f4bbaf2088997ec17d06baa3f65dd27c387502e0/theorem_expr.ipynb\"><img src=\"data:image/png;base64,iVBORw0KGgoAAAANSUhEUgAAATEAAAAWBAMAAABalbZhAAAAMFBMVEX///8QEBCIiIhmZma6urrM\n",
       "zMxUVFQiIiJERETc3Nzu7u6qqqp2dnaYmJgyMjIAAAAcRTyBAAAAAXRSTlMAQObYZgAABEpJREFU\n",
       "SMfFV11oFFcUPtmdzU5mZzZBCgWfRgOllBa29aH4IAz0QRDBqQ/RBx9WMLQBCwuC8afIIqVuLC1L\n",
       "H2ywpB2pGI2YBCT2B0q20dbWICxNH7Qo7ENBqihra0EiiOece+/MdWd2TKXQCzN7cr5vznycc8+c\n",
       "G4B/u3IB/FfreUNl7vlx5wTYnjQiF69vnx2xr6mIgixDdS4EnVsetMi+mUSwvSL9OE3NZ1VlODRw\n",
       "fTVYlxZAbz1NlPXGeoDTaLzLREHuUDb98JMAfrjvEYjQIvluJyuzZ/GnqKe8WJfhihx69/wsW4XV\n",
       "+O5WmrLexUcAf6LxHhMFuTNnH+fKYLUZRGicslxNVsb+cd23pMItcSIenGTr1E/L+NdCmrKZTR44\n",
       "JWEvKHKnsnf8tQADDCJEKeHcJCjjXC7qvv0q3H66FdrSckjZiTRl83jlZb1PKLJSdm10lHO462iv\n",
       "DxUGEXKuTE19Bl2U3ZiaOlPRt3BFhutjr12RFisreinKLuOlXkNEJktl21+RwMiQdZuUIUjQw1rt\n",
       "/W7K+mu1Iw29XUsyHBngvL6nJC1SZpe6C1t6cR3AINZ/0BVEJstmCnf5SMEdImUIEjQMMCZfFVOG\n",
       "yTWpBNmrwmU2ZTiTG7bflRYrc9Ja4C/a4PiwMSCITBbKoqYegUuOW2GQoLe4F3ICzu25BGvKoTKj\n",
       "BNO8Z18VrvysDJfnnfmlLy1WVqikfMn+wdtBgM+zLUFkslBmQqSsNxgWIEF5yMgv1tmLG+AbO8gG\n",
       "oTJM7Wtk/iEf7fFkuB5PbWu2WFmu3V0Z98oLAAGlmYhMFsrevoerJZRZ5eIAgwTZzbx42vnoeADf\n",
       "uyU7qiZcBU7EcrKyyytWRr1CymA+iCkb13IGO3KRsr7WEIDxEpUV19zcp7qyL3JU2mt/NxOr+SHo\n",
       "1TRSqmmWRTX5ESIaUTV7dGXObJVBhsZ2Iac/EHNqzj63Q1NmHuOUqC9xRwesgpV2QI8rOsB6ZMc6\n",
       "IOsqFjYj/FINOwDOo/zjX4PF3TkHjYuassKb/KxqXFt9NbjprQfKypCybANm6H10sx5LQ9xghh7C\n",
       "wEZ7gol8qe/ZQaXsDkVpMcgQbUo4DLl9tdphVDaR15Rxt8sMyTqwm4thtKWV3fl4A34ffcgfoPpS\n",
       "5fYqg12whW4baWw2mciXUnbqA9Fz2+5XxURFkCEH/dayD2WRM2Orrux3roWfOJ3sajinaE3i9V28\n",
       "kOz6GbTpNCmvcDptPjL61E6Y1EZqodWAH8n4DeCGrkyM4yBpol8oNsPZrgZ1I64MXYXyXW7+Z010\n",
       "LVIIWbvrYGKXGYfwwx9TtjHqMXUKQmPftHKJELS93PjBDF35oyIlYxGxlaJMnoK09TLus6enU5Sp\n",
       "hJPjr+shOkMKhU78NeRyBoX60yHRrKcoM+vd0ynG9yG5ve4O66ftjJ982r6+0tP29ZCc8RNpCGZu\n",
       "eSv5h2DBhf9hPQHrHEA9CnaIzgAAAABJRU5ErkJggg==\n",
       "\" style=\"display:inline;vertical-align:middle;\" /></a><br>"
      ],
      "text/plain": [
       "range_from1_len_is_nat: forall_{i in Natural} [forall_{f} (|(f(1), ..f(a).., f(i))| in Natural)]"
      ]
     },
     "execution_count": 10,
     "metadata": {},
     "output_type": "execute_result"
    }
   ],
   "source": [
    "range_from1_len_is_nat = Forall(i, Forall(f, \n",
    "                                           InSet(Len([f_1_to_i]), Natural)),\n",
    "                                 domain=Natural)"
   ]
  },
  {
   "cell_type": "code",
   "execution_count": 11,
   "metadata": {},
   "outputs": [
    {
     "data": {
      "text/html": [
       "<strong id=\"extended_range_len\"><a class=\"ProveItLink\" href=\"proofs/extended_range_len/thm_proof.ipynb\">extended_range_len</a> (conjecture without proof):<br></strong> <a class=\"ProveItLink\" href=\"../__pv_it/theorems/c12162c7c0eba1d9940f520d1ad8d936ab0b5af60/theorem_expr.ipynb\"><img src=\"data:image/png;base64,iVBORw0KGgoAAAANSUhEUgAAAj8AAAAZBAMAAAAs6FIGAAAAMFBMVEX///8QEBCIiIhmZma6urrM\n",
       "zMxUVFQiIiJERETc3Nzu7u6qqqp2dnaYmJgyMjIAAAAcRTyBAAAAAXRSTlMAQObYZgAABpdJREFU\n",
       "WMPtWW2IFVUYfnfv3K+Ze68hfZBSLS6GZNFNozA0NiLXgvD6J8skL5KQoHRBaNP6MRTIrhHNP6UQ\n",
       "J40+/OHeKJSNYi/rkqEEg0uyQtoFlTBwWawg1ojO+55zZs6ZOXPbYFOKDuee2fvM+7zzznPPec/H\n",
       "AiRKbmAn/F+o9A+0DGj+ujx7ww1437//zGL9xghUDGCc/tivQqyMzIqLxfFi+P4UezQUxuNpzlI5\n",
       "TKA2AudiAiXBuS0fi2Btl9plKwiClyDndaId6vW4IXzqw1YdJ1fOAgNrq/iYBJLO9Bzjhhwm0CmE\n",
       "fooJlATntlwWwVZIj9ypawTBdrDbnWjbRpvcEM4AHNFxclWOjwh8dzQ8kiKQdKYLFIQcJtA+vLgx\n",
       "gZLgnJZyVQQ7QV+Hn+ojCMtYB5r9ywcQGkKpR8MntCHC79nbXva5ITceNwViLJLDBKqgi2ZMoCQ4\n",
       "pyXviWD5dDkqICzvd6A504oh2Ddp+E6DQAA/+NyQG4+bAjH/FoLDBCqfPHx4bzxJJ8E5LXtFsMUG\n",
       "fT0hIBp0fem0UkMxBLio4sKVSSAyvGgUKP0dBQdnsd8GB19PzGIJcE5Lrwi2m3r4xG3LCbJ7sV9X\n",
       "0wfmAzuqnGsvwuF/XMXJ1cElRoGOS+NxUyDcmVIOLos4KNAWgKGEQAlQnRqVa9ZsQj23RtVU3hbB\n",
       "Fvgke5VDJYv16XKHLD2vR3AzcAdrz6s4uap2BSaBzktjEqg0RaUKmjOltB6LOCjQ42LqWBkoAnGQ\n",
       "/8JwCRsLZNsSxi1230mMiMy3LAYifQ5YwTBmXhPB5inNFX/l0HsZ9kinkS7QgZrgngU27cExFUdX\n",
       "ZW9e0yTQMWk8bgqEO1N+/+ajEQcFykM3SlNa1FIE4mCW5zB6agFEi0sVNGZXdn9F/Jlj9/IVRBMy\n",
       "HlYQHXj9yr7uW4XNzSLYrr4wxzLIx56QnU4XaFRyfWuGtZtUHF3ZsNbnXeTHO6em6qFAm6RxQqDI\n",
       "mc37VQ29XI04KFApyOvZEb8KUCmhQBuF8UYCPjRktyyX2q5jRYHsL5cHjnsSHjEKRLkXoVG/s0An\n",
       "JJdTNqk4d3XCmIM6C8SdqRl+Rheo2H6GBrKvCiRAk0BbhPEWiJZ6SmHec7VwFXaZBJocOQzO6Qy0\n",
       "jEOsUBfQbhzDHYbYbsmFCo79fhXnri4YBeqXxmoOquvO1DetRxzaiw29iFPBO6u0vRiC1t3UEXr1\n",
       "IdYQxg263x3bzEz+HKADIt1H1QULI3Cef66nZUzSXSL32tdKnZP0fMmF4aaapOdLV/Y1+OskHZ8t\n",
       "uDOlDDdbWpKGz+hHm9Q3qwiWqFdlrLYqEC04Jmnhgfed2OK+7NLqgkhHqbpQoZhrJ7+TAh0XwfI5\n",
       "fbiPQ9Y0229mWjDMqPYfIJrwG1swSy4NRlip4uSKBocm0P3ckH+SAkXOlLIWd7CCQwLR7AnLdYEQ\n",
       "fJdS/yeluiqQ5XJjdsX7VmwRkWGBrhGkNVRdOMQFKoVrnH4RLB9PayW0nQVWqUF+F/v7FRBNHp8+\n",
       "gO9gTUtDeFhMrhFOrjKNmEAP3XUh4LPwJaNAkTN1K3YOQg4JVPbD3hYJROAbXJRAE6jOjfHK7mdj\n",
       "QwKNV4vrC1RdWD84ONjj1IpBw7jV+EZd9H/EPl8kNxk0O7mh4Q7sOA0NR1f5arwHgTC0G+lbjR2m\n",
       "rYbgKOdBtyTPg+wZyrbzPFWgrMuN2RXvW7Eh1sUozwrSaqou5HgPgid6DJtVp35F3TaOiYVWbJPB\n",
       "PkcrgTDcQCsn2k9G+ARk/QNyYWr7ho2nebPKnXXYrIZiJAVy2q3iHoB12ixG2s6Qvuw+lNFkny8b\n",
       "GPZ5L0DS91RdKGHcZbZjD998SARb8CC/py0hDAMzTk8i3oPs86o43xgq/l6oitMIBS94B1pvGnN7\n",
       "p+MO6SyNEwmkTK9RD9rmZRcCLNGn+V3CeBfeh0wfM1nnZW/HZiEf1Xmfkx6kynrcWzjc2QKpbjgw\n",
       "K/d60dEVKgblZLzYR06vkNzNq6SiCm67uV7z8eBQKL/pwGzzqk6cSCDlZERbIjphJpLtUmG8lK+D\n",
       "yCQyxmOZ7iYntakygbpZDoqfdC42HrmenfWRa3m2R65oKIwXz/bINeSEAlXO1MwCjeSeXKALVBDG\n",
       "HPhKPUcegSu0fHSJ5ARY4Z87d7sOJRSotCjl0D7Ife3pAlkBN7ZoaVbl/VyOhDHqKU8T6RDV/4hA\n",
       "2txn/L9YJmxHwv7CBo+f9k8BgHuoQvVfrE//QP1P62MXkC0LbqQAAAAASUVORK5CYII=\n",
       "\" style=\"display:inline;vertical-align:middle;\" /></a><br>"
      ],
      "text/plain": [
       "extended_range_len: forall_{f} [forall_{i, j | |(f(i), ..f(a).., f(j))| in Natural} (|(f(i), ..f(a).., f(j), f(j + 1))| = (j - i))]"
      ]
     },
     "execution_count": 11,
     "metadata": {},
     "output_type": "execute_result"
    }
   ],
   "source": [
    "extended_range_len = Forall(f, Forall((i, j), \n",
    "                                      Equals(Len([f_i_to_j, f_jp1]),\n",
    "                                             subtract(j, i)),\n",
    "                                      conditions=[InSet(Len(f_i_to_j), Natural)]))"
   ]
  },
  {
   "cell_type": "code",
   "execution_count": 12,
   "metadata": {},
   "outputs": [
    {
     "data": {
      "text/html": [
       "<strong id=\"extended_range_len_typical_eq\"><a class=\"ProveItLink\" href=\"proofs/extended_range_len_typical_eq/thm_proof.ipynb\">extended_range_len_typical_eq</a> (conjecture without proof):<br></strong> <a class=\"ProveItLink\" href=\"../__pv_it/theorems/df2b467e1c538eca1086345d73953e1b5713a4820/theorem_expr.ipynb\"><img src=\"data:image/png;base64,iVBORw0KGgoAAAANSUhEUgAAAooAAAAZBAMAAABENxJ7AAAAMFBMVEX///8QEBCIiIhmZma6urrM\n",
       "zMxUVFQiIiJERETc3Nzu7u6qqqp2dnaYmJgyMjIAAAAcRTyBAAAAAXRSTlMAQObYZgAABzRJREFU\n",
       "WMPtWX2IVFUUPzs732/eKNEHFdXgIoQlTSqJtcZUtC6BOf6TH4VOYX8sCE0IbpZ/PAhs1oimf3b9\n",
       "pxzXcmsDdypRNiKHVbQU46EkbpgNaIaBg5RBrSHdc+69b959787bzdgE6/Lefeedez7e/b17z/0C\n",
       "8KVo7yb4P009hXs3a7ixf8X36utQX6/PSOWf2ZP6/dcHxYQNB4l412ERZZQn1xUqoy34voQ2hd2D\n",
       "nqJULlAzII1K/VGOYh0f36sopvFh2tOH4oeiRkkL850dZaKiFvQEqklBMO6AaBPw5LxF4PD9qUfc\n",
       "rVAUrlumTzQtlntn+kT0w1F8/VlFMVVlj3Rl+lC8IGqUpo9Zv79KVNSG3YFqUhDMAiTrzSodvQIO\n",
       "348A2twdgKJw3TKd9DZu9qu4d6ZPRD9sww5mqSjS+7bpA9HMihqdoLZw+X1Bse/KBKi5BQHGHP7I\n",
       "UzkXH9OnQmH9SxVuk9vVo3hiah9tiE/bdWhCekf9MUIRmxy1PXdcxLZ5dPpQjJVFjWgyYFySFKv3\n",
       "zKB6uAQBdjj8/eDmu1AE+KHCbXK7ehQ3/T0UwZyQ3lF/B6FoHhkeHvCOLqeHhz8qTh+KA6JGCfKR\n",
       "KkqKpXMBaoogpHOSOgxuvg9FsnmuJYqJ4rWgSN5RHwk2Rv9eKm32ojijVHqjNn0odogahbL4UQ9u\n",
       "yBI1OI+9HQiIA1IQBu/FKmQF/8Rt88HF96N4QNrVoui4bhFGZlk6FMk76iPBUHwRoM+LYjQP8ZaT\n",
       "jrLrmddPZCjPtyqGt0SN4hTTZ2Q4VXuMvZwJAF8KQraN5aYzvPwCbr4fxTPSLqH4TQPTWQdFx7U+\n",
       "tcNdOhTJO+ojwVB8Qgw4nXYTxXCWRrUO3nUIC95/EHwhnMLyPX6vx9hHkRIr2+MoKuk1UaMYxePt\n",
       "eaIS1UfZy74AFIUgmOUZLDdkT0z8Bm6+H8V90q62LTqu9WkcruhQJO+oj0Q/ghZC/FKzaq5ZdxHm\n",
       "snwVV6fcknmPEO7B8nZfix27n+ZQTImVYbHoECs6c6FbhczNokZtOTk4MCpJbWptAIpCkEkuY+BE\n",
       "LrkHnSYfG9vLjcb5JoprpV0tio5rfaqEqQM3Gj/d3WgUHBTJO+ojwVBM2TE1WOPrMfDGXIlipMaF\n",
       "6QlJ7wQNw/hzIqIUqJgpJr+YbxvWEXhYi+JhQRkTk6B4WFFxUMRBx8X3t8VJUeSuA8Y0f1v0opio\n",
       "P0NBp+JG8b1IoQWK0TwXjubl/FlNExRpZdkFUjw1OgzG8XaoaXv0FkHF0eWSABS3OCoY1cLyP5Ne\n",
       "k+9HcYm064qL5909mptokdJZHYph2aPDvEdD3zosenuxG8V4PxN4nGwPPqKgGBPCMV4+1+Pz1K82\n",
       "NmNSmkuXhVGWfcSzqzI17ehyk6BGqrXg0UUKQvIKuEaXtozCn2x08bZFx3WLNFKdyugCn9FPPaXs\n",
       "RhgLWVajdp59WkFxQAgP8PK93umIRRMwUtpLl8WX5Ub+yLfyUw+IGtF0IXlZUMsSrD6dkLyKTMxG\n",
       "6uB6awryDtheIwEmllP4CooPIIqd4tajKFyrHskyN7+/4kExJLxzfST6xQQCYL66p8PCbeJjhDdZ\n",
       "PqSg2C2Eu3l5t3eIzkLYEkrddFmwk6OYcmZ4S0SNqFuELwkqinsiPwL04mdvxA8pCIKzHEFoL/Kp\n",
       "Q+xVLFwGCt+N4kP3nLXJJt16FKVr9OF4JIKbX+iZdbc/f3WxmLjQrDvPUTQrspe5UPwO23oGmiUS\n",
       "xS7B6uLlazwfxvpHuCCU1tBlwYpSqZQx8gm7qFsBpizXMizJRAz/NgixmoIx/B1D7P4cOV+Bwlfa\n",
       "orSZLE66AtS4JfMbvGsXSkNSf0jZX7zFv7848gE9/lBQXCmEV/LyLo/jtjxELKHURRcbkHhbhCcz\n",
       "mt2IvWnbtSVAOweacRJcgpEKThxpG4D1JqNwERQ+pmFFeWq7ERq3zPxqmo3Sz1BQ9uxGSJkJP4pf\n",
       "pmBbBSIzFRSHhPAQlcNpJpLYyjN2wUiF/jspnabLghRWzsyB6YTwPlEjtkB6hW9aiaUSvgz6q4Ms\n",
       "R3B77XXge1NJhk1sa13h+9NkO2PCtd8tM5/4M57Vrgs9O2Py8KDoR3HX17C8CiFLHaMrXJg9WTks\n",
       "YCKR22F5mWWRO3nIY+GElBbQxag3MRayiWRBs0t7fBE092tpLarZ6kOWIxjtsEXdTfw7HWWF7099\n",
       "INe4rXdptW7R/AuLtTbjcpc2XnajaGb1JwZVGR0liqEqFw7xCUAdRZzwxbvHfSKk1uliiiEWF70n\n",
       "BrN1Jwbm1E8Mxqd6YoA2hd3ZnqJQ/lpPDMal/rj73CV9Mq9F0Sive6eirgAtIUwMw3aflYzCRZxx\n",
       "x4GUsMx2VoA3cpIopmbpT69MWN+jrl1gqRBeSichvN07HW8M21zYJqWddP2XUFR2xrTn0VmZy7ZH\n",
       "zzkBJ2RzeHH2Rscw3LvxLwP1ZL93Iqd+AAAAAElFTkSuQmCC\n",
       "\" style=\"display:inline;vertical-align:middle;\" /></a><br>"
      ],
      "text/plain": [
       "extended_range_len_typical_eq: forall_{f} [forall_{i, j | |(f(i), ..f(a).., f(j))| in Natural} (|(f(i), ..f(a).., f(j), f(j + 1))| = |(i, ..k.., j + 1)|)]"
      ]
     },
     "execution_count": 12,
     "metadata": {},
     "output_type": "execute_result"
    }
   ],
   "source": [
    "extended_range_len_typical_eq = \\\n",
    "    Forall(f, Forall((i, j), Equals(Len([f_i_to_j, f_jp1]), Len(range_i_to_jp1)),\n",
    "                     conditions=[InSet(Len(f_i_to_j), Natural)]))"
   ]
  },
  {
   "cell_type": "code",
   "execution_count": 13,
   "metadata": {},
   "outputs": [
    {
     "data": {
      "text/html": [
       "<strong id=\"extended_range_from1_len\"><a class=\"ProveItLink\" href=\"proofs/extended_range_from1_len/thm_proof.ipynb\">extended_range_from1_len</a> (conjecture without proof):<br></strong> <a class=\"ProveItLink\" href=\"../__pv_it/theorems/ae2d3287ca1219a65b7dd61aae950a12ec47cc4f0/theorem_expr.ipynb\"><img src=\"data:image/png;base64,iVBORw0KGgoAAAANSUhEUgAAAXwAAAAWBAMAAAAx0TpxAAAAMFBMVEX///8QEBCIiIhmZma6urrM\n",
       "zMxUVFQiIiJERETc3Nzu7u6qqqp2dnaYmJgyMjIAAAAcRTyBAAAAAXRSTlMAQObYZgAABGpJREFU\n",
       "WMPNV11oVEcUPupmf+7e3UhJ8cGHpln8eSg2KgiCyooPAR9U+uCDFAyiD4rSFMW/FllSKFlL6eKL\n",
       "IoSuPw+S0mRbiamCZGGvKCqymFJ8sOlCYkDBIBLBblQ658y5c+/dubNdig8dmOGec74z57tz58w9\n",
       "A/Df2i54/+39zrnqicmSqIJDD4N+FbZk4d/nHdSALDjhUL0hHvvkEaih/GcYyDHarnAoK4fjpUyB\n",
       "VNT2NyNurVkvnaI5BbyyRHlp9Bmqt/3cHbiH4rNw+ibbUw6VplU7OF4iFfxSBBhuRj96b146Rase\n",
       "cApcL40+Q4PNjTJMHufwy+fC6RtsqW4ONUFLNHeZVNbBL8TEdmcT+iNbs+zkA84rQaM/4Xv+lT+I\n",
       "ioLdgTRKpXD6BluswKFO0EZ8wSr4S8CtxU3ojysnDxipK0Gjf0Kn70XB7kDq7tDQWQinb7Cd5VCJ\n",
       "PlrGPlbRxDDdhP5t5eQByV0KjfQVVKNP+GnyeD0w8LWBvsGW4VALu3EnrT7cLVVy4oqZ/cSStdLp\n",
       "4hoPmN6TKbHQSF9BdfoV2YXHPoA8U9HoSxvABpE/22qu4XsOFaesau9klZx4ssnqv2Sn8mYPOPLM\n",
       "+psFov9gFhvmswfV6U/KLjy2gCWItcmjt+2wAx/3KvrSBnZXWQzqBb/iUDFKix93sEpOPGZmn3gl\n",
       "nRKlTR5wvIhvNRa2+gqq0x+TXXjEYCGfTT9VNsJvdnFRUdFnWzqLg8rhDg61IKvysUNNvNtMn5Jc\n",
       "OFn0GRi4Caw3LDTSV1D8JF/Ozs5AIMpu8rCrMT4PvztfhJud3ba3edjWjh7thXD6t1umT1mKTsm6\n",
       "B5yCyLyZvoTqq+/RT9R2iuNrOe4U0UZHz/jokw1SP2xEdNeB0M3zLQQ2T4+ZfryXneiBgW9hUZ0F\n",
       "396fAT9Up98jO3rk94qFEQtMqTlq//y5R59sAI9wWFHMhKbuB9Bq6i7oZKeRUlkB5+BC1Z+6/td1\n",
       "oc1SF66Kb3p+DCxKzVEoV3z0r9LRuxaHfsWswkZKZmvOVcGnOPEGsN7hgVLjwZNgJMtO27HAY+Ah\n",
       "+Ia8QugraIA+R6HuuCdfP7QdHxjoF/QHYz76ZJNr2wHr2NDDxgi+W+SFq1r30ZQIJcrUYyJAjDYK\n",
       "Dkfx4SSCtgM7RbEMZOClT6pS0OkrqJ++ioIdPVL4F67vgF65+pHPfPRTdAp9iEMdloYVDXbOVcla\n",
       "QIRMFrV9cwOHO/5KIAC0+lovGlw8dtcjWSvDLXz4HeCxj74E1yFxGk6mciEl27V01VWpSszWt73Y\n",
       "wMne5/46LABsoWQbCmwrVbK5hVwB4iLRI6eyEG2kLz5i21LYeV9559kYL8DxYaWihuJFvdAXoWKn\n",
       "5W87XtCBhoI5brr8eAWzr60Uez9YNHirnTRcVx6uVyr1GlW9xMaeKYB3xwkC8+brSmjLc3eaVCgr\n",
       "+LKY/kOUBdcbLovLwi+LqVYviwEgC8tavSwiHvuqIy3cee2u0BX9X7R/AEG5oorlF7c4AAAAAElF\n",
       "TkSuQmCC\n",
       "\" style=\"display:inline;vertical-align:middle;\" /></a><br>"
      ],
      "text/plain": [
       "extended_range_from1_len: forall_{i in Natural} [forall_{f, b} (|(f(1), ..f(a).., f(i), b)| = (i + 1))]"
      ]
     },
     "execution_count": 13,
     "metadata": {},
     "output_type": "execute_result"
    }
   ],
   "source": [
    "extended_range_from1_len = Forall(i, Forall((f, b), Equals(Len([f_1_to_i, b]), \n",
    "                                                           Add(i, one))),\n",
    "                                  domain=Natural)"
   ]
  },
  {
   "cell_type": "code",
   "execution_count": 14,
   "metadata": {},
   "outputs": [
    {
     "data": {
      "text/html": [
       "<strong id=\"extended_range_from1_len_typical_eq\"><a class=\"ProveItLink\" href=\"proofs/extended_range_from1_len_typical_eq/thm_proof.ipynb\">extended_range_from1_len_typical_eq</a> (conjecture without proof):<br></strong> <a class=\"ProveItLink\" href=\"../__pv_it/theorems/0749ad844202ef70a8c8b57664af6319c5bfd76d0/theorem_expr.ipynb\"><img src=\"data:image/png;base64,iVBORw0KGgoAAAANSUhEUgAAAcgAAAAWBAMAAAC2zBEyAAAAMFBMVEX///8QEBCIiIhmZma6urrM\n",
       "zMxUVFQiIiJERETc3Nzu7u6qqqp2dnaYmJgyMjIAAAAcRTyBAAAAAXRSTlMAQObYZgAABP9JREFU\n",
       "WMPVWF2IG1UUPrub38lMIrIiWMS4Ya1PNW6hUNzViA8LPpjFhz4UwQj6sLJgpEVrKxL3QTaVYvCl\n",
       "UijGKlpWNFFZVwVpcEe3WJWgIgp2DWgLFQxFFCRC8Zz7M793btKlLx7IzJl7zv3u+XLPPXPvAGxP\n",
       "9sO1l/3XepBh/Xdd0BjTXbCl4jaRZBrDhz4ZdvyYXe2gp+36X50IdJspWwehR0/nIYwfYSA5Lcc/\n",
       "TRdjZq/QUBa1g79eaIBRA0jUHEfj+So+N6JJkr9OEir7ouy/yG7n6Ol3BckIA8klGdAlNsq5f7n2\n",
       "XhPgXW1AS2fakEVCia7rmC0ikV40SfLP3KQh2Q00uGHYXLHhFcq1moJkhAHFKorxSQFo3V8izVh6\n",
       "AtHNvIaj8dcbAN9x3XHMtfHyWTRJ9H/zi8HwFH1fjOEJw+aKDVlqaitIRhhQkg0xfpJl2Rmp/YI9\n",
       "jOt0S+UyXp4RwUjHMvaC16JJkr81OklvGDZXbLC+XF09DgqSEQaU43J8bt6UGqHDb5o4TFx+6ap4\n",
       "kI6bLCdLUSSZ/1WT5Og2V/D2z8rKsyqSEQaUggyowNLpxt1CY+gb0WFYdx4owjim+KkZj+PFqbuQ\n",
       "fjGKJPnrSDKsMMkN2X+D3R4DqFPLLC7gB3oefG5gg/jlmAzoGHv8U2oMfUvzZ+dwgaRwmM69rqNx\n",
       "pdlqgNWTmGafSVEGSf46kgwrTHJL9t9it/t4bTOnOuIPlSS5Ic5fOfEDNtxa4bYjMqAj7A35t9QY\n",
       "+rqG5KsLuHrbkG7f7TpmBsQ9U42ayWRbS5JjhUmuy/7r7JaE8a5cFdm2B18YUN7emIOPzOZEkz9O\n",
       "yoAmnWoy6aA/rCFJJWqsBAabfOE40YNWB+KXo0iOlbQkORZ80+8/2e9fBH8YNleoyHaTLJXIlGt4\n",
       "8IUBh3jxRBM+zRdNUJGkajIiyU0RdGbgOuJrstzePkmOFZ7JAMl0bx/BvDRHLVOPu/jMELuN8hZl\n",
       "be1lSdKfrqmKL13nNSRfEOnHugjHXBfuaUKsGliTlRHTlWOFSc7L/vP8Vn+UGn6ky85mwfMnksHE\n",
       "GWbVaM185yFl4RnLj1x4rheFpNXuOI65knEzeApPcCaHFR6GNbTwwAfszbWbLstOjNJwYh0MVo3W\n",
       "oCOL/oYMiDW0SlK7g9BnsV6yokmmHniecMMDvLaVaTsvHBPdFLZMdKJIslo4PgiCOU9leUhwSIow\n",
       "RP9ZfsvlnVmZhD0efGZYhvihlZVlJHlSLFGWCrZUoCy1Pbf8iuPh6eVpGuUpSrWKUHhTjBYeJWaC\n",
       "9v3C0Zj5mlbmQhRJ8p945MocJA9LMAea+ifOB9LVCYP3v8BvFiuaN9BlADs8+GQwBgtQ4TMZe1C5\n",
       "rTvrbvDob8aYMs1weaAmswaebZ3P8S39to7JJ2rU0I5HovNtXdWDawwgfRQOWzXfUQ5xeh34nJTv\n",
       "AX5WbNAzlT/crbrYd5uKDR3+Psx2xYY77KjfoIvXvhLVkVWfxb9BF4JZEd8B+76CAEljqQEpLHCx\n",
       "50qQkMa6tNchebQnm5jQ0eaUYvOFv0P8/JNqhB11Ry3hD0ZeiaqWwFHLMzuZ0KFcyO24JiMOzVah\n",
       "4R6fBdlueFBq+nYveA7BPsfUCIdmS42qlrrsX/fgZn9YkB8huOwc8vljWv35wxr184ff8Sd2nQ56\n",
       "Tm/384dAn2bKroMyh6e0f8z/XP4DWhvZxhHbLAMAAAAASUVORK5CYII=\n",
       "\" style=\"display:inline;vertical-align:middle;\" /></a><br>"
      ],
      "text/plain": [
       "extended_range_from1_len_typical_eq: forall_{f, b} [forall_{i in Natural} (|(f(1), ..f(a).., f(i), b)| = |(1, ..k.., i + 1)|)]"
      ]
     },
     "execution_count": 14,
     "metadata": {},
     "output_type": "execute_result"
    }
   ],
   "source": [
    "extended_range_from1_len_typical_eq = \\\n",
    "    Forall((f, b), Forall(i, Equals(Len([f_1_to_i, b]), Len(range_1_to_ip1)),\n",
    "                          domain=Natural))"
   ]
  },
  {
   "cell_type": "code",
   "execution_count": null,
   "metadata": {},
   "outputs": [],
   "source": []
  },
  {
   "cell_type": "markdown",
   "metadata": {},
   "source": [
    "Compute the length of an ExprTuple with any number of expression ranges:"
   ]
  },
  {
   "cell_type": "code",
   "execution_count": 15,
   "metadata": {},
   "outputs": [
    {
     "data": {
      "text/html": [
       "<strong id=\"general_len\"><a class=\"ProveItLink\" href=\"proofs/general_len/thm_proof.ipynb\">general_len</a> (conjecture without proof):<br></strong> <a class=\"ProveItLink\" href=\"../__pv_it/theorems/308e55b6d2d2792cc6aaa5ae3d7450ddcab633830/theorem_expr.ipynb\"><img src=\"data:image/png;base64,iVBORw0KGgoAAAANSUhEUgAAA/sAAAAyBAMAAADxWdboAAAAMFBMVEX///8QEBCIiIhmZma6urrM\n",
       "zMxUVFQiIiJERETc3Nzu7u6qqqp2dnaYmJgyMjIAAAAcRTyBAAAAAXRSTlMAQObYZgAADCRJREFU\n",
       "eNrtXW2MXFUZfndnZnfmzr27/FAQjHV0E2iUphOW0Gi3OtVIG3+025pA0cYdK03A0DikRmglOJZE\n",
       "tkWSQRO7lNReSqh1id2xuq41YMcuorapmbhowLRlkxYMJp1s+kHoLlLv+bzn437NbPHHzn2TO3vO\n",
       "e85z7tzz3POez3cWIFQ6rl6tQTvIy23xlGAUyV/z6tXrImTvOPK03Q7VYrbHSw6whr4GTz8Tif7B\n",
       "9qiVm8VIamG98dLjWNNMG9PPJSvVhVlAn5m6qHNj2UqkIgV4RIQie6HpAgQIHKEXexwmP4rp1+TZ\n",
       "gk7/QWwkb/sM0aHYfSR4f2DnKgLgV3Y4wgdvlAG6ytDMLREEsjeRSFeFXCr97FFj+l15DHT638aV\n",
       "eGKO6FBsCwkeCipJAsA/IyB88D2IPmZBDkWGgEUHd8Y0uVT6maGL6XerZFan38qj4NiXSd2RGE3O\n",
       "BRTlBQhGeONhCqDJW8oQOEYvhX54JKZfke68Tn83NpxHWQ6h9zWCKs4LEIzwxsM2gCZvKUPgWXqp\n",
       "9B+txPTL8kZFp383Dv6ZqnaL6ecCivIEBCK88ZkSNHtLBdJTIJdKP33XY/q5PAw6/X3YnN7QT1RO\n",
       "zOhjFnjSvyQRAMYny+EIH3ynQ9L+27h+MiIE9i/mT5Enl0q/NRvTL0+ML3nQ/yQOXnBSyyRmJp0K\n",
       "24CUZwLKEgCQgI9FQGh4LGln1FdbydVnIkIg31EXZvh4lq/Qb1yI6ZckcZ0H/d/D9vQypPpLJPZM\n",
       "Yhq+sgxpJwJm+wIAXoe5cISGpya6Cpnq57h+IhoErEpvlY1nS+RS6YdGTL/8kEUP+j+Eq3AGIFki\n",
       "MbvXMf6rkHYoYA4hAMBOzoYjdDz5TgUweLsOvSWDOJi1NrNpM+TS6F9aiekXZajuR79ZEtg8aoeT\n",
       "KQFwrDn6zZLApTAfHYoIcQeC/vTvq8f0683By/ini5RNFPshUDJX+RclAaAnH47Q8NaK9X3EkvNI\n",
       "2C1dCMBZhkmyN1Glnxi7mH4mPwC/oV9HjlahEzPmTEpDwDhMBACMVcMRGt5aWe+o4HHcWLVGImG3\n",
       "dCHOt6Qx36EfpEsx/aJ8xIt+PNUaK1A2nVhyZi8lcwCM91FNo4+xaSEgA4TuYkDJrENxAOP33AK9\n",
       "Np6yrc3USUQvAN+N39KFoA6DYhI1cmn0mzOUfgw/HUJ/D55F1Bcu+8ZFL/oxbWupEcWxLXWqfRPg\n",
       "IcTJd9Fwu8gC2zUALAMZwTMrUBTAJWL8JlhJCuk6TSN6ATjg3pJDIFFimJ5Bcmn0W5cp/SfQ3/+E\n",
       "0G+iLqXHXsDT/gte9ONV278wNtkaLiLTQDMqvT5+DxpgazBCHsDbDP9hGEjxFVwSCbulC0FreiT2\n",
       "cyCXRj95Xof+ETRtLIfQjzOMLGDbn53zot/KQ7Z4ns6f+Q4Omn+j/RdTL8axszLgq3hGHoCQbwoU\n",
       "n5mB74yz/RsaCbklh6TsfYMs5rflQ62dQz9q02Y1rO9H5uHEAqbfuuxFP+yE7l1O75hZ9k4Ox5D8\n",
       "5PubyO7rfr0LcXJJgMx76XwgQhaUjvHJItzqdDNpbG9oJOSWHLKv9hiL+W34OvIOpd86Pjq6O3To\n",
       "d2p09BelBUx/5xVP+g+C1efOCA+6yehN0IdCFrokwKYVwQhZ6greEK1ytFsa5a4+ngu9PumKJ/3v\n",
       "spH/u8PDj4CnURHo7x0efrz2/2EiE5ZhcD5gH7g5q74POJvfYS+r6cNe1nwPe1ktHPZ6nV7scQRZ\n",
       "xOjfzKyaLHmJ/q5B8holTuo5BV2fniqoejxqXtAV+HsnZeyUNuI3APwm4OFVsIL2hSdmob3kBkb/\n",
       "F2n3EEh/Mk8OGx27Vc8p6O7RUwVV1mvM5QaJpUNn06SMKfG1R7snCaq4e6DQeb1cmgaW0RI8tfVl\n",
       "+ESRAWfajP4HGf3d0CmaOFYrMv1QgiUo7HXk4Nw1+kaE/o2+6UU660JuCsaL/fVs+Th8Vs6yMaB4\n",
       "EQ4vTK6A35l2wm57+s16N1fyWpns39pfFek/CXjk52UjZ68p/ZuD09EU+m2A146MQvbvCVDGI5vD\n",
       "iqdw64k9NryUy5tta/wfYvRnpu/iwwuhVpTW/7MUajSvXdTHnoLuC0UtVVDtX+4x1Vmu0l9SMiZv\n",
       "1vhbgvoix8p/7Z6cQr8KFtAi3OnwHBkf/zGn37zSZvTzoR/svBfoDpFYKwr96Z/idRCP9SFBV9Pb\n",
       "kKDKr/EYYaxR6EeH1aSMZq+t8vdbsgidHTz+D5l+DSygRThZ6R43f8k7i87LYaPpvU2vJDUx1t/b\n",
       "AoGuD0crcj2n/9dOpZEdIrFWFPqz+MRKwtF+Sx0085yZF0pqMlbRGWnlFQ2MdRI/ybKScc+E0zPb\n",
       "En+r4TlCv2nK43oGdmXPhN76V4OBYeNQ48fnrEsBVYWm35L7hCT3+cGiO3b4F+56eegp3IejFbnI\n",
       "6UcnWPAOkVQrCv3k1Em6DhvVb5l2+4N0TktO59zwkzqYHqcT6C/yjKuHHbFhB6T+aENXo7GocZ7w\n",
       "93W420nJZQczdXkpioKxcDSpKwmeenh4eIfzoHv5qCcbRD9ynZDcJyTZ4gVBrj3RHTv8C3e9PGTL\n",
       "cpPow9GCGO9x+i3UttAOkVQrgwr9/2LB7R6LglTGnteSkYrJFR0MVxT68RlJMaMxOwjdcuu/E7pI\n",
       "64cv5eRZXlkukaDV1n8nnQWMQ3I9R/43oK6mQHWf8JPD9K4PfNsW/DIOh2SPWLjzxLTEA6+gLpUv\n",
       "6LcgfMuHCt4h0mpF49fGxIzYmV34w/mDdFMvnXLs/C74g4mSaRr5cFQ4dcTGNxPBVIeTOT9oX4tm\n",
       "pI88XRPpR8b8FJjoK1kFsGpCWSM2BfMSMdpafrqmwOFPKPwqDorG0Ee2geo+EcYnvGELfhmh9G9r\n",
       "kn5yUJv7cLQgZIuL0092iPRaUehHjcchZl01dSOsq6RuTH0U6w6XHXvhhA/8FSU7AZSGPrAKp66r\n",
       "QmdZBlMdTnZH/k4OmpG1pIpAP949uR3gCfRlzjnN2L0ZKo6AeYkYnV1M5qwiPO1MapOPFogVwfJo\n",
       "wNJtSXOfiEQ/XxAJoz9Taol+7sPRgpCZDqef7BDptaLQP0X4gaqwaDeFloQ38AW87eK6Gw6R1Coe\n",
       "BkhgoiPJnP5PA8/IRWj9SJwOr9Pp+7VlwyoF8xLpYgDuEyQ4LB7eIdfH5/2rCq0bK+4TQu/Sl/Ol\n",
       "fzIi/b6FS14eGv3ch6MF6ZqRjT8RrVZk+s9vpvxW3NkH0nXDkgKbhWwXpyM4hFOzlXufshUw0REw\n",
       "5ycNLKMf/dm6Ov/hMy0C5iXSxYDOV/3hEl+C/K2B5Cwb23L3iZQyEncdP3T6z0SkX/HNkObNK/3p\n",
       "5wf5WpCOshf93lk5/cec26+/WMW7jETqWHcAXqzT3UiUXBeSgaZa8MD9KpjoCJjzk6yzjO44ZSle\n",
       "ymGvzXPStxM21RiYl0jaZzF70h/OZMj/yAM6PcvcJ4j/hiCu44dO/0RE+hXfDLHfEbw8NPq5D0cL\n",
       "si/XAv0frOTV5uwjnwpZC2kJ3lH0f/6C4D6BT3HBIWwb3gTR8QMZjAcbjbdc+odUrWpfaILimwEG\n",
       "Lr0xCJKXh9lo/HtRo1Hk9PND/C1I7OahLF7NhNKP3SeSanPjJ3n11j8UsfUrvhlSe5/1b/3zof9x\n",
       "iOmXVowuefX9b4nGH7lP6PRzxw+d/lVNGH/BN0NaNSuKWpl+7sPRgsQunops9U3hQz9jTq9v1/Fj\n",
       "nkM/1zdDWjVzvTyu5dCvM3bwDhn6C4N7NsFCllil33X8kIheikobUNYCFXcOnqD4ZogieHmI9GP6\n",
       "uA9HCwP/Yky/8pS+FcmNbMLL2nLHD5H+Oz5+to79MiSt5NchJCi+GdL8/LSoZfQnvvH+CsGHo3mJ\n",
       "f9wleJAlCVv0Re4Tnp2t3vpxay9FNP6Kb4YqrjYrLjG5PhzNy1mI6feuEg8hWz7YfcJ7os13lUel\n",
       "TiPnpRVllN9A9M1Q5/6u1pC6hta3fNjecky/K0/5PiY5Lo/dJ6j/hix4J0GX6Bu+km+G1vd4aue1\n",
       "4Rv/rKNHk/CdQ5HjHoL7RDTZGTlnC4WLPhxNyzchpl+TO3xTWjrsZX3Ah71cH46mv1m5Kfrb5Afd\n",
       "u3Lt8Zo3+4Pu7fLvHG5vD/YNeo4S/TuH/wEnvUktAIDVAAAAAABJRU5ErkJggg==\n",
       "\" style=\"display:inline;vertical-align:middle;\" /></a><br>"
      ],
      "text/plain": [
       "general_len: forall_{n in NaturalPos} [forall_{f_{1}, ..f_{_a}.., f_{n}, i_{1}, ..i_{_a}.., i_{n}, j_{1}, ..j_{_a}.., j_{n} | (j_{1} - i_{1} + 1) in Natural, ..(j_{k} - i_{k} + 1) in Natural.., (j_{n} - i_{n} + 1) in Natural} (|(f_{1}(i_{1}), ..f_{1}(x).., f_{1}(j_{1}), ....f_{k}(i_{k}), ..f_{k}(x).., f_{k}(j_{k})...., f_{n}(i_{n}), ..f_{n}(x).., f_{n}(j_{n}))| \\\\  = ((j_{1} - i_{1} + 1) + ..(j_{k} - i_{k} + 1).. + (j_{n} - i_{n} + 1)))]"
      ]
     },
     "execution_count": 15,
     "metadata": {},
     "output_type": "execute_result"
    }
   ],
   "source": [
    "general_len = \\\n",
    "    Forall(n, Forall((f_1_to_n, i_1_to_n, j_1_to_n),\n",
    "                     Equals(Len(f_ik_to_jk__1_to_n),\n",
    "                           range_len_sum).with_wrap_before_operator(),\n",
    "                     conditions=range_len_conditions),\n",
    "             domain=NaturalPos)"
   ]
  },
  {
   "cell_type": "code",
   "execution_count": 16,
   "metadata": {},
   "outputs": [
    {
     "data": {
      "text/html": [
       "<strong id=\"len_of_ranges_with_repeated_indices\"><a class=\"ProveItLink\" href=\"proofs/len_of_ranges_with_repeated_indices/thm_proof.ipynb\">len_of_ranges_with_repeated_indices</a> (conjecture without proof):<br></strong> <a class=\"ProveItLink\" href=\"../__pv_it/theorems/8a4b225174bea10e8c14ea3e56dc3e461b08db0e0/theorem_expr.ipynb\"><img src=\"data:image/png;base64,iVBORw0KGgoAAAANSUhEUgAAAuQAAAAyBAMAAADmctNNAAAAMFBMVEX///8QEBCIiIhmZma6urrM\n",
       "zMxUVFQiIiJERETc3Nzu7u6qqqp2dnaYmJgyMjIAAAAcRTyBAAAAAXRSTlMAQObYZgAACYJJREFU\n",
       "eNrlnA+MHFUZwL/9vzu7s3cxKrZEsnhRSYSwWmNDtGGRRBMlsFcTA4SEFWkChpo1JdACqYskcBRI\n",
       "BkigYOpNq7ZQYrtCTq2x3KY9qdoUNi4mojUcKUIgYbO0V8Jdkfr+73szb2ZnS9gZji/ZndnvvW++\n",
       "md/Me+9737w7gIESO326BaOUOVh+YtTo9oXTbweoHdv3mD3Ksyu0liFyuJxunnzst0GQV0d7cl+Q\n",
       "f6Tsjy7lq+Uf5jzbmYwe8vy48shXyGabrMu18fe+YIdjlvvO5FSGciR72qfpIO+PLvLtFTdyo4G/\n",
       "fzlhEd0T6HMDpC3fvvMrF4GwzK8cUFsV7mcoR4onajKnva4IIr8L3MiL5BJumm0S3Rvosx6Meb+j\n",
       "pA+fAmFp1gbUVoX7GcqR4omazGlbb/SQ55c0yDvkMVr4Fe0Vy7TogN9h9n6HPlQdrjgQPLhgfoZz\n",
       "pHo6oIm87ogq8kxZg3wTuRk9VoM19O1+h5ll202iXQe/6T04A0eqp+0a5LNWRJG/bLmR5+pkt05V\n",
       "j7KiYsXnMIfYAFiHILVVl9xmGEcOT8RkTvswRQ/5RnAjj+OTNb+8gZ7zBGr7EyVUVPY+SuesVWRL\n",
       "LHecB/61FRF+hnLk8ERMHMjNpWgiTy1okGdJsDaGrv5KtH0AaZPjUqSrk+PoUA1mWY61B9RWBPsh\n",
       "EtQREdUTMXEgN45HE3liXIM8QyKI6Sp8bzXa3g7w8wS6pHzdJ6I+CalVdWppWmNN/9qqTPPrDeiI\n",
       "dRuKJ2LiTFx0o4k8VtMgj1X4QPVt9PkkgI2fxFTPfwhM1qmlAVfY/rU9BsSgjuiJK56IiRP5hVYk\n",
       "kV/b9kR+qI8cZgdAxEMgR04tgyM/JCEP5Egg73vSIp9uRxL5hZZnx3I3Q34720/6tPdsjZZTy2MD\n",
       "aquCjt35x+fKgR2Za9ZOOD0ldR0LbcGRQ34neA6fn2DI0ahmnCr4j2qxEr1sYmmcgmGGT+Tnxc/C\n",
       "isCOzEvaMcvhSTd8QrYeSeSf0SEnIZexwJAfRDR729BI24K9+Mrwl/G+vIN2KxQ5sSQTWlZbVNSY\n",
       "UVvkJ7ejDkuBHT3+RRizVU/k40Je6FHk5A7+ZwDyIokr2x8+ceOEDjlppskeQ44/69G5FKuQuQ13\n",
       "O7i93sJ3brWx2RVyA0/gL15bVFTN8A61xX7SJRwcBnV0HVzi8EQ+LuTmSYr8MN68OQB5AXdURXsE\n",
       "YflxHXIymS40GG4+D9+FPn90hxDkLP/Cb9QmPu3T19bYYj+xaqJVDezoU/CNlMPTLs2En13cJGzF\n",
       "wWVjAHJSYesoklqntMg7AL8r4kb2e0e2qeUOIfBRam8Bi407kLJJoK2v7bYlfqYh891qUEe5Htw8\n",
       "4/CkS2uxJjxJnt1Cc1BfjpvB4REgN09qkWct2LgHbR/+6XXo+156AbhDLbmOsAM/bFtQWW71OyVs\n",
       "Od26y7u225b4+RbEjwR2lKzB+W2Hp3kdcniHIjf/tnv3owOHz6O7dz9ZHwHy+KIWudGAv18kdE8A\n",
       "uw1guo+A24I5IUJNo5GeaHvXdttKfoZypHjKWlrk77KI5d2pqTs07lsK8rGpqXtaZwQx59lta5v2\n",
       "kvMe0HBJ8yLupWD+meVLZ3TuwziSPVGTzztrnMOQr+MNSJWygjxdpXcucUSTFunrJmj2kmCqiFtX\n",
       "rKrlQFJOeV1KNLEEy1jOYsgv1b9pUpEny7CHjCTnu2tKuqvoGEi+6ZCM3wLmHeVAU06sBac2zMG5\n",
       "PLOS7i1n5D9hyDMQlwNuTkBFDnW4AO+/qjnQq/rjU+TXuPRpYAHcTrR96uAa+EPBTtgfK+SFdkbo\n",
       "BIGDqzasasrIjwAZPXXtfskP+Tp3VoIjL1pg3ve4DftL5cLHo2O5lSHPzX9fhGgSAcdT/osUbvv/\n",
       "POGegUq6b5L+YcfXJeR18ZuXC+SocV2K92dmHhLIC4vLGTkfPuHe64Flw2QCDuTZR/BoZ2rmTJKu\n",
       "RZ7R8uV95PiNIPvNywXyfI1mG2YKvxHdT/xkgJjAV+Mh/QU9IcqnOfJn0OXTbJhMwIE8v5q0e6T9\n",
       "kTPIEDVzT+HOx7Ce6yNPNsRvXi6QJxsGMZ2B1kFx/xb8EjANrSa/0qG9QWPbX9ATopzgyPGLD5IN\n",
       "Uwg4kNN3fNk2XOO8wGy/r8nSOdoDEvIa+Z2cQrIFl/+4+0q32ybIU/OpjVNTP0MOt4nRJO+HvGhp\n",
       "NWbNoV3vzCKslOeE4YnxHkdu2iwbphCoOpD/i+/e5p3b3ftrslnsI8evfGFRKe8/5TWo0XucXCvi\n",
       "pf/5nHIngEYmzSbpO59bkjMf4QlPazEh2TAXARdTmyDfaue2kC+0wbrO/qOo29gCzxaQFlLjfeQG\n",
       "fprFG+RnCxw5TjmZLfgz3n8R4Kja9jxkUwCNBjldzSAW9IQnNGfHkdNsmJuAAznOnSLkk83UCpi0\n",
       "UitSZxPd0w3ULtD+zr+iIog3pIgF1Y6LLhiVU+Qk5ZSoQBYFosnNFRqrE9nsM/2uD9Z4IxcLesIT\n",
       "Go5x5DQb5ibgQN6hEEFkHvNEl65eKSadTd6jU9BfEj28EpeTjhh9zkM9mSIX+6S80PBy2Y0PTZQU\n",
       "DV2uI/eYvIKKXCzoCU/SPaVjoeIioCJ/ax1Fnrf6sRfWZeCCCovB8tb1D9oS8izw3y7k+3Wn9bJa\n",
       "GZ7vYjnGx+nWVMlYVEduslxHfpaS4zrk4o1keBJraJDrawrkB9BFrD3RlFKZbaLbCX9q02wmKrrp\n",
       "Rnn2mWzz387UoqF95K71Tt1nmpBqbmaLdWymYct1JCGrfdzIxYKe8GS6NDzyoaTcn4Po+wlb66zm\n",
       "fR4VMIwFMHHzpC97+8t1YA9pDf8FttoHCt3u6+d0uzWBXKwuCU8iunQo0fNDjhdHpclDfAvXSEt9\n",
       "mMzauqc8AsjvgUgiTy7o+vLXeDeCOo2xti11NUCX68hytzZiEe/7w5OILgOFDZ4leLCMtdBD3FKG\n",
       "T8Pxhpqs9oni8BmP6GJnV8gihSJodJiuwPNmVdY4/9KFrvZRkMeVBT3hBSy1iCKPeWLB3QKadz3y\n",
       "b0VDl+soKZa2ijzxg/fXSAt6QpPI/uFKfmnICX+mPGj2SUQs6AlN2JgTwT9CPDZUWost19Em7pQu\n",
       "KvS0Fs8xRxD5g57uspZbQ5frDJbwk7cR/lNb7ymi7hUFXa4zWPoLesKSH0JkkcPXPEs+wIu4/oKe\n",
       "kES8rwyEfMT/HCRdgmUow/1zkFH/C5yvLkPiBntl/MLpt/8PdbolQ5BA4ZkAAAAASUVORK5CYII=\n",
       "\" style=\"display:inline;vertical-align:middle;\" /></a><br>"
      ],
      "text/plain": [
       "len_of_ranges_with_repeated_indices: forall_{n in NaturalPos} [forall_{f_{1}, ..f_{_a}.., f_{n}, i, j | (j - i + 1) in Natural} (|(f_{1}(i), ..f_{1}(x).., f_{1}(j), ....f_{k}(i), ..f_{k}(x).., f_{k}(j)...., f_{n}(i), ..f_{n}(x).., f_{n}(j))| \\\\  = (n * (j - i + 1)))]"
      ]
     },
     "execution_count": 16,
     "metadata": {},
     "output_type": "execute_result"
    }
   ],
   "source": [
    "len_of_ranges_with_repeated_indices = \\\n",
    "    Forall(n, Forall((f_1_to_n, i, j),\n",
    "                     Equals(Len(f_i_to_j__1_to_n),\n",
    "                           Mult(n, i_to_j_len)).with_wrap_before_operator(),\n",
    "                     condition=InSet(i_to_j_len, Natural)),\n",
    "          domain=NaturalPos)"
   ]
  },
  {
   "cell_type": "code",
   "execution_count": 17,
   "metadata": {},
   "outputs": [
    {
     "data": {
      "text/html": [
       "<strong id=\"len_of_ranges_with_repeated_indices_from_1\"><a class=\"ProveItLink\" href=\"proofs/len_of_ranges_with_repeated_indices_from_1/thm_proof.ipynb\">len_of_ranges_with_repeated_indices_from_1</a> (conjecture without proof):<br></strong> <a class=\"ProveItLink\" href=\"../__pv_it/theorems/7060decd684fdea3b2ab41d8ff73b77fc96369850/theorem_expr.ipynb\"><img src=\"data:image/png;base64,iVBORw0KGgoAAAANSUhEUgAAAqUAAAAyBAMAAACXCr/TAAAAMFBMVEX///8QEBCIiIhmZma6urrM\n",
       "zMxUVFQiIiJERETc3Nzu7u6qqqp2dnaYmJgyMjIAAAAcRTyBAAAAAXRSTlMAQObYZgAACHlJREFU\n",
       "eNrlnHtsFEUYwL973+3tto3hEfB10kT5A8NBEwmxlUMTSdTIwR8mJiQ9URIwEM7UyDOk4Q8oKPHC\n",
       "HzyDvaJChWiPmIo10V6KioqFi6ABFWmCmmACaVog0Cp1ZnZndm939lHaZLvlS/Y6t/vNzHe/m28e\n",
       "38wVwF58Q0NFGD0RUzD+RMgoH25oqMqJvq9jb34Uq/8RxqO8qLDdu98Z0/RoVu7PaN+F8t7FWGa7\n",
       "1EPvusD0GKcjiJW09w7IfzqclUe047m7MUWp1mlmWb2DmVbeib3jHlNhAodpK3kye66s0Sg/Clt+\n",
       "VK12uBFWDMMCJadSLRLrzO9X51T15cQs2bRypi0p15hGkxymVwjDU4PkVgUyOD4VffYeq3K02uES\n",
       "fOLcAppTrvYYcmDrzCs7C6r6KmKWbFo503iVa0w780amEuHc9pxs41mAQ98OoESXVTkabVJOwrEF\n",
       "NCeuVli5Om+TWbj+AVMn0kVN001gNrrGtIEzsYoQV+pUbq3D9mOmLZbfjUYbf/Iq598qTZBqL+Vt\n",
       "Msd7teqKWS0cpp05l5hKtzlMd5PkSWUkyFKmFVYTWa02lj8dm3CSJki1mKllZjGrVVfMIqbpmEaS\n",
       "LjGNNHKYVhMnnlwjz7WSlKmYNC9Hq31wNkqccGoBzalUS5haZJZmNSSZulCdkM0ipumYEpvdYFqf\n",
       "4jDdQZJ9yB5EPFqi9klWg5RGuzgfvf/DsQl9NLGDMbXKXJlQ1cVglWwWMU3HVOhzieks3kJ1A/Hi\n",
       "GxCqQX4WKVCm8azFXFHVjhWeQjeOO56U3qCpDYypVebmtKq+P9Ajm0VM0y+yr7nEdBKP6QQ6FgSR\n",
       "qb4UZRrqtR45FG2BtLx6pxawMUeuljCtdzKkIfU8brTYLGKanunMnCtMQ/+ZMsVjgXOmWu34wHCY\n",
       "sjHHIdOTWnU8EzRl2lxyhan/tqnvRzMyJdX3gxa+r9XGaVjgeNGRAalucXWZ71tl3oKGtZ+nJWX1\n",
       "LYpZQZ7v+zKuMI1WgdkY5UvIpjobo7TabYXiMMYolFOaX/LlnI5R9wGcexCmEHVhUDQfoyCadYWp\n",
       "r5HHlExl2lIyJTJN8WOmgSK0Ydvxi3BHScgvZdoLcXCjVlZhepx3LOe+x6Ayr1Q7EzOtNVcXrkPs\n",
       "YBYGiHqw9wAxi1wGpmKvwpRkvGjHtIJMwEojZtqW5DElrrdQ41aBV+7UoYl1GiLr8ZwW+9RbNEFu\n",
       "lWmHsfl/AazJa/VwovydmnMpzFeqfeLhyyWTzLJ6EIEKJ/AcCquvKhGzyGVgKt1QmJ7Cf/+xYyri\n",
       "Tq5i5LHO+gSYrU2/oz3oOvrsMLq+MJZBbum1BTzBsbOP5ZwItSF1sWmWmaiLjRhAoJhm6oeVy8A0\n",
       "1Kcw3YOnbI12TInGnlGIoBR4TKUkxDNX6Yz0LH2GAxVFYxnollEbh0FEu9ppzlgvvNmuBkXMMuO6\n",
       "P6tALbMZIs+nbWMoIPQrTHHjEwu2/SluyadGzvRSmscUtkFkO+qEYnNuok8XVdoDCaoZI0b4llEb\n",
       "h+sO2gVOac5gBmaUSLVgkZnUvRY/exb83UzdLNaH5KbCVPrhyJHd9mPU70eOfJQdOdOZOS7TVpCq\n",
       "2RMak8a0JM4CHF8Gbfx57bp7XU41Js3PTOr+aa5eHZsVzXGZ3qLj/q2mpo18P9EyrWxq2locOdMz\n",
       "+l7LTxoud+/kgrMiibY0kr0TaVh7JxeYaX690z1EmS5TfUAryXKm4bT85QS6Obq1DAkJ9UBKDTDp\n",
       "ZN7Ih7kxLJMp02f4mxQ6psGkvMPQNYOz2pvGWvDL5FV2x5ASo234Gh7JKM9Xj2ek8AZlGgG/1vMo\n",
       "Ah1TyMLjZqFfQ+xYnUYcPVEHn4v5QP7eYiqWIkYEJ2oaagplTLuBDFEDvAhj3oyp9Pa+PHyZSIr3\n",
       "hu+voUxjPS/xEOjb6Xsh7L/n+znj47t1NPl0RmUafBT3K0ja23cypmdy45kpG6Ng22ugRGq0CPRM\n",
       "o7vI7Jy3OjivThYGVKYiar6ko24XP17C5lJp+2G4TDq8xHQSY/opcmo5UqNFoGcan4OTAXT7dX1R\n",
       "NQzK0azKdN9xEEgh7VBk+z2XUhYmtRruLLc5ODHGpJ8xxbFrEqkpQ6BnKm/jREuwZKq+qB1qtCuh\n",
       "6U83Q2htU9NmVOAB1mN3WjG9YrizyubgxNgS4V/GVMorkZoyBGk9019pcr2+rIlq2OlDlakwkIaM\n",
       "/CUFF7MYisVaR+Juk3Z5hymLoTAutSEjAkP8tC1PmO7Jx7bTFwQPpCcvFgG9+0pUmcZ7ivANTpxD\n",
       "K1s2RbDYXo5w3bzFO0zjg2VM5UiNAYGBKY4hIqaLCqEpsCiHXwo45BafjmZaofvh0PeadroyB1E0\n",
       "HwtuSkGYcbNwZX7UwfLgxNgS8XYZUzlSY0BgYHpWZgpqIKtAfHYZ3muPG+f801FnopWAxbYdXte+\n",
       "sGJnNQtFsRMKHpFwb7nv8xHomV5dJjNVT2zGcxW/oMdZ/znNvKfRvM/UrxlOX8NymQ51xaaEwLYB\n",
       "2QkFj4i8MTTc/agu1HAW9xc0ITgJrfbxafZ4tyZcZs40NGhezQb0uLBJOdOAx012QsEj0py4G6YO\n",
       "JWkzLebLBPTdCNdBwh5ENtnYCQWPiEtnJmCeJVN8SCRMnJ3s0NETCh6RreAO04UpXn/6t+L7gLy9\n",
       "ssTiLPSEgkfErTNoEfN+AY9RviJqnEU67tMTCt4Qv1tnJaUB00d4RdycgtMSrY6dUPDIsJ9xiSk8\n",
       "YPpkgXzt+k1d7isnFLwhrp091/9GwnZtetgz3ellcItpRXKcxlDiU11jGpto+oi3feudWJ+Lvzmz\n",
       "OOfdyrkX9UxM+lVwj2kgY9qEOcHVC15BynaVQm781nwpjEcZ7m/NR/d/IgRS4xCpoOzS4f+J8D/k\n",
       "tpH4X3kwowAAAABJRU5ErkJggg==\n",
       "\" style=\"display:inline;vertical-align:middle;\" /></a><br>"
      ],
      "text/plain": [
       "len_of_ranges_with_repeated_indices_from_1: forall_{n in NaturalPos} [forall_{f_{1}, ..f_{_a}.., f_{n}, i | i in Natural} (|(f_{1}(1), ..f_{1}(x).., f_{1}(i), ....f_{k}(1), ..f_{k}(x).., f_{k}(i)...., f_{n}(1), ..f_{n}(x).., f_{n}(i))| \\\\  = (n * i))]"
      ]
     },
     "execution_count": 17,
     "metadata": {},
     "output_type": "execute_result"
    }
   ],
   "source": [
    "len_of_ranges_with_repeated_indices_from_1 = \\\n",
    "    Forall(n, Forall((f_1_to_n, i),\n",
    "                     Equals(Len(f_1_to_i__1_to_n),\n",
    "                           Mult(n, i)).with_wrap_before_operator(),\n",
    "                     condition=InSet(i, Natural)),\n",
    "          domain=NaturalPos)"
   ]
  },
  {
   "cell_type": "code",
   "execution_count": 18,
   "metadata": {},
   "outputs": [
    {
     "data": {
      "text/html": [
       "<strong id=\"len_of_empty_range_of_ranges\"><a class=\"ProveItLink\" href=\"proofs/len_of_empty_range_of_ranges/thm_proof.ipynb\">len_of_empty_range_of_ranges</a> (conjecture without proof):<br></strong> <a class=\"ProveItLink\" href=\"../__pv_it/theorems/6c9640c979ef549b1d4b034f892845f2fdb972870/theorem_expr.ipynb\"><img src=\"data:image/png;base64,iVBORw0KGgoAAAANSUhEUgAAA28AAAAyBAMAAAA5Gf57AAAAMFBMVEX///8QEBCIiIhmZma6urrM\n",
       "zMxUVFQiIiJERETc3Nzu7u6qqqp2dnaYmJgyMjIAAAAcRTyBAAAAAXRSTlMAQObYZgAACUVJREFU\n",
       "eNrtnH+IHGcZx5+9/T07uxckrUWtrDk9g7Z0rcVSbOpWoRUp3raCaA1mCQlYSXQhoklb4tpCuqkE\n",
       "thXSpOG8aappTdHbUK8aQW+41KoNTVfbSqLRW6gIFXMsyUW8S2J8f83szLzPu7OzuTD/zAPv3jM7\n",
       "w+eeme++z/u878wuwMpb7PJl0/+olyGyoHaI/9EvX151NfCxo/sN34N0M9IhsCU67I+2/8DVEa4y\n",
       "wEHjzo2kEYmisvudG3+3LlhowuVc/1kv09ds29rueU6b7LlHRfMxnDMEyBc7eeWBeRFHkSElY4Yt\n",
       "3DNlWbjnWRq4+TbhuexrZE+9t5lq8qY2BSf3nqAgtz071pSwztj8eRgBjhgyQmBcwmmrwxbuUZCF\n",
       "e4eFffyC8Fy2FaDguB5ahze1KTj5alCQ27bMtiSsMzZ/HkaAPyMIgXEXcUdCFi63LAuXL1F3+nNl\n",
       "4XntDefGnGhKU3MCgtz9ePFHgGHfGJinIiCIOUS4tBmucOmSLFyafeRmbc9rO1ypVjSlqTkBQe4P\n",
       "XBfH7hiYpyIgiGcQ4XJL4Qo335SFe4q5v7M973hec24VyrwpTckJCnIHWkOxDqQfT0HAEBzjme9u\n",
       "C1e47SALN8YSxrs/zrzEK/vXbEzObRL5ZawII6ST3vPAk+PF9ePkaL3Em8pwDhxcCwFB7hHyY9tK\n",
       "NvZmKTbi+fEwAmhr6hiCYzzCzRthCpdcRITbw9yz3NMzj8D0B62xWE+sggypoM1GUTtbplOJfIc3\n",
       "paEcKMXaQUEuGy06sE0ptiV/HkKAOFyPITjGI9x0MUzh4qsQ4R5iGeM8976S7sCUCfN8/4F4B9It\n",
       "SLZ2QvYi5MkwkavxppwooZx8c7QVEOS2qYoDW5FiO+/PQwhwCi5gCI7xCFfohClcrIoIt9oeu4ln\n",
       "TJdh1qBTJGoG+ZzGyqBpi7QeTZEZT7LLW98aQOJoMGEEBMklj4Wdl2LLd/15CAGMxDKG4BiPcCNL\n",
       "YQq3oa0Sjo3dq/kJ3grwLut02fWmcsRrECv6Xx8Fh9YswUByyWNhvyHFlur48zACjRZBoMJlL4Up\n",
       "3E1NVarMVIV3B8DDkFjS+AG7gOYSoFnJhImmAQkiTKJPRlJw4O2gILftgh72khTbaNufhxGgUMIQ\n",
       "CSxVwrVhCvc9UBUnMTF2w/vIVJWcyQGe4i7obPSOmUAyzB3Zlm8NgHMICAKC3MZ6LsfmlnVvbLOG\n",
       "6ctDCKTiaGEItDiBx8IU7jpMuGPsFISXXaSJo2Ca2v/IG4nuJCuOp8o0w/ybnG/cZG2anht9YYfZ\n",
       "jorDVmwGBGFYjVXDHKt33vLGdiJf8QsMI7BsKyNYk4V7XQjHVP3bSgtXYDVcW7Xscw4T7m7qTQD3\n",
       "SJogM5vcuiZ8h05ctrZZ4ribTYFePEWSS4W19IN0HYKmxW9bDjtexYmLDDQICMEmuj1sdmvLG9ve\n",
       "v/oGhhLoKCwjWJOFm69w4Y7TjX+ttHB6i2ZuQzWNO4sJx9aBfg/eFaGcga1UPSfar+R6kh2v4LCl\n",
       "tgFBCFavu7FIbD6B4YRtKOI5wITbUOTC7aOVSn2lhWPEfcqLcAETLk96RvUMgGcNVu+7NmzK9ST9\n",
       "BzgnabCZ04AgGftSoe3G6uoVYnNwwv1s0jnYIjNJuyUuHO0WrH+s7BhH+/Bx5brPeUw42A3px/mw\n",
       "vtux76BdKCJ3Y7SiBKfHKzhT5qMBQDJ2+8/AjZVj8wkMI2QvZkooooMKN1rlwuVfPXz4qZUvTk4f\n",
       "PvwTZVHMJ5GScM9DfoxH77zPaA+Uzvuf9Cxpy8tweryCkxprBwDJ2D/dBm6sHJtPYChh4zoUkWni\n",
       "wtVFVfnfRuPhwQTJet+oqIUbbTQeU2YffdmrJCMFeHThlGh+Efs+ujAgyBc7eeWBeREC8yHv1e0I\n",
       "4Ta7Mwpm4i6FW4gvAfxcLVyqwj8x8dfAWvgXVRJ9cxkiGzqf1YRwn1Hdak9uexk+wBYVeSd2P0rx\n",
       "BVLCxptK4RIlYOl87gb6+mVek1gHpLrR9R/a0quEcGkYQfrtC8fWwS91I270hFtv76yKuYhWVU/A\n",
       "a3Aj9f+BHRAJtxLC6e00Uvd9/2kDfl0s8XqXC7fZ3lsXwiEP49jCvQasNkGTYpQqr0Q4K1VmO18k\n",
       "Qq27b2xknF5w6tH8SWxm5kmncDWxzyHcjfY85q01pTWbncL9MEm748lztDd/mvXMg5+0i5Ol6PoP\n",
       "P8ZZxQns3kTkurMd+/oIvb7Ua/KFsBn9p+t7wmVrYp9DuJcg1SC2B968Hq41xp3CZfaySTU71GQ9\n",
       "rPR5u4g8H13/4YWrWsK9SPre0x+G0TJb1KSeobGZ/QyYx3rCJep8n1O4z1rV7cEaLMLtTuFyt7Kk\n",
       "SEHZF2jv1pqv2Il4sU9gc6crkTp9bLRkCceegtgI97JbQtS7E5LbG41HiHCTaYdwVb4vtbDw/oUz\n",
       "XLiv2uVGkaAecgrHHvpgNyvIK19G2GMvefURrtDSdkTq9LFp0xIuTzvRNbAWppLAvNuTvG6cgcR9\n",
       "PeGSdbHP0ePuojIuEBljlZF6tltxCveXnjv9Y/a+PbIlL6nj+iPAiUidPmYtMotc1yW96aQO+wzi\n",
       "fWsGfkvffBPgdE84rQZ8n9j+BVi7iU2RPpevm07h+MfDgOzj8BsKdt78O6eOaxe7OxWZ0ugT7L1r\n",
       "SfLgO7D3Vbi3Rbwb2pAhexM7y5ByVJUPAt/Ht3/w3Y0At1i0u6DQzG4xJOFIt0y+Fw79gYBhpG6/\n",
       "vVMd138AJlqRPGp7vQnYHXDrmq0lY5x73gYf9WwT66jncWKaYC+YtKyRjtqnlGHRe6wTxUgetX0T\n",
       "MOFy6CIWFyojCZdr+wh3hk7tjnLwpid6GXDekwxP0JFy4W2asy+KLB6Zwq5DhcPvbnChErZMlrrP\n",
       "go9wc1QCfusQtjzgGGCVyTBLetwGM5JHadmzqHC4ifu10jctP+InXN9JZJQqh7FwH4iNd/sVJ7NR\n",
       "caK2TC1M4RKL2Bj3T+o25BEwMufCSTFM4cS3vKIJeHC7yQhVOHWnSre0ayJ51MaeQA9PuJiycNTm\n",
       "xqNFZrWF/VXiXHQrdTgrlMIVjn5rJrIh7IgRsnBPRPlwGAv/B2oG//ZuZA5LlcIWDj4RqTCEnYSr\n",
       "KtwgP3uYKkYyBLar/bOHA/3Q6C2RDoHtEO8Q9IdG/w+Bc4ksS+/s+QAAAABJRU5ErkJggg==\n",
       "\" style=\"display:inline;vertical-align:middle;\" /></a><br>"
      ],
      "text/plain": [
       "len_of_empty_range_of_ranges: forall_{m, n in Natural | (n + 1) = m} [forall_{f, i, j} (|(f(m, i(m)), ..f(m, l).., f(m, j(m)), ....f(k, i(k)), ..f(k, l).., f(k, j(k))...., f(n, i(n)), ..f(n, l).., f(n, j(n)))| \\\\  = 0)]"
      ]
     },
     "execution_count": 18,
     "metadata": {},
     "output_type": "execute_result"
    }
   ],
   "source": [
    "len_of_empty_range_of_ranges = Forall((m, n), Forall((f, i, j),\n",
    "                                                  Equals(Len(general_range_of_ranges),\n",
    "                                                         zero).with_wrap_before_operator()),\n",
    "                                domain=Natural, condition=Equals(Add(n, one), m))"
   ]
  },
  {
   "cell_type": "code",
   "execution_count": null,
   "metadata": {},
   "outputs": [],
   "source": []
  },
  {
   "cell_type": "code",
   "execution_count": 19,
   "metadata": {},
   "outputs": [
    {
     "data": {
      "text/html": [
       "<strong id=\"n_repeats_reduction\"><a class=\"ProveItLink\" href=\"proofs/n_repeats_reduction/thm_proof.ipynb\">n_repeats_reduction</a> (conjecture without proof):<br></strong> <a class=\"ProveItLink\" href=\"../__pv_it/theorems/f975bac1662ff877f5b70c448596ed5eee0e550a0/theorem_expr.ipynb\"><img src=\"data:image/png;base64,iVBORw0KGgoAAAANSUhEUgAAAh0AAAAXBAMAAABdSuCbAAAAMFBMVEX///8QEBCIiIhmZma6urrM\n",
       "zMxUVFQiIiJERETc3Nzu7u6qqqp2dnaYmJgyMjIAAAAcRTyBAAAAAXRSTlMAQObYZgAABR9JREFU\n",
       "WMPtWG9oG2UY/zW5NMnd5TrnFKcVQwoTat1CCwprq6myVVFm6AeH7EPDdELBumLHhDm07IupQxZQ\n",
       "nAqyM4KVMpoOkbEyaWilYKTz2Kz/sGtK3WQiWtZN+sdtvu+9F3J3eXNLQqkf5kN+8Fxy7/N77pfn\n",
       "fe59X6BS82sMq2ZSgk+yNnbKQJZeTFcQ4DMDq2ddfJK1seoEwzf04vcKAlwyUL5Finw/xCcpz06o\n",
       "lZGLWYb3aVX2lf9QgTBD+SYWGyUHeSTlxX5pr1oZOcYYFDJeHi7/qbwJhsqU5Oe6jkdSps2olZHj\n",
       "Y4ZAZnDwaAVPddRA+TZaNKVfeSSrq0dxciXCsBiPHyyVTM67dQaSm95tMNe5MPFBqJE6O9afvoR3\n",
       "fukSZidbusk1cSGFxhB4tLcZHV9uNsc1gozb+awEYqjrsTEeVaEewuwDZxL+1onEjtpzE5ozuRFW\n",
       "DjPsAfpL1cOdd99mENOBV7xZs2S+Q0jpZX77yDXhANrUqg0YCEN3TybcMXjDEPvgNWdkBDmvB/hT\n",
       "tzAKCI7jh+DrXKrC+qhqTmntqnA3bouIvY7kubCBLMPjelu1mXBTPV5jkFV5WTDntIskfyxKvd9I\n",
       "VmlUBZUYpCvMPREVlmlKJE+X+cGMICftfFaCDL5Vn+RSFeqh9AC1wHpcJHMk4kSeCyv1MHjhKlz0\n",
       "+GzXO1sirjstemxgEOGzvpzUVAQzukcy6Wyd/l5TyF+ywFx0jC/RlPDGIbOGuSCd9jSsBCrifKoh\n",
       "vaIuWPSIwbMwPd2NOSAVdiLPhfXMM8iaF456iKebNKkvg61y08NNzTY9gBrbW3IUeFl3SCaj9MVF\n",
       "9MAic4f6PSyl438tWAaxIDw9LASXi1Bx6iMMacXIoqbPmZyFzenhzz7rrMePpwYhnXUjzZsv5CFs\n",
       "FfsIcE2kzh/ktyBLjdYHdd+EZ0n1hl1+FTOWhREL0m7qHzEUEniuFqHi6JGG57KhB6kPR3IWVuhh\n",
       "QP8LpJG0dtTpydR17MnrcW4qRKYb7WzSrueCaV4/ldQtcFlecbWQlmVDDzLBRaN/6O4/kJa2KTG3\n",
       "EES1aZLmgpy3/y1WghHXPOq5VFw9QJpkkvUPJ/Jc2Fw/xedElECbVkUnVX11dl9ej+/uxUYoesbR\n",
       "zJRVj3GGZ4aP4COI1+m8uk4//iuQs1P0jl6i/ArcqrIRA2nm3gX56s/urJu0NF+C3U+HsiBAi10P\n",
       "C4Gw4psn+7tUtpDKZFuYHnRedA5jK2YT4kFHciMs3GkGfX5+eD9qaKCoouXniz/Zg2V8wvSQ6bvZ\n",
       "pEc7w6ehZCsZ8iodvJ9+SMn5u+l0feLGYfJzYwZKd4hUoO6+15jZrOHFr4XJB78y7qdDjSC4YNfD\n",
       "QiDurq8jG0/vgQIqkz103xyNJBxZHIb4fIOKi2c3RRzJjbBQogwI0GfZjTbW2BKm/lEdFNZhZzwe\n",
       "D0pRv0bKyFNsvS45rAoV501IfqjYU3y9biIYKWu9OlciOQYMMLsDLR7W4qN5Paqi7nS0mtUHtgUd\n",
       "9nMyKtZDLmk/ZyJIr6IecsF+zjh3mce+L/xv+efPMDqmxzF4n4rKeg1FELDl0Q/TwjbptPOLOaaU\n",
       "dNrvcwjEYFl67C+RPLffN9ajMTRonnvE7qcb1Lwe2+GaBA7TiUy2WjGH8yCHYyxh79+Ou1St8OE5\n",
       "50H5uwJlybH9Rldp5L4Eg2U2cdcfLtI/1uK8MPCfnhf+ZMB+hshfr9+apv2vx8039reW/QujrO2r\n",
       "IvSbOQAAAABJRU5ErkJggg==\n",
       "\" style=\"display:inline;vertical-align:middle;\" /></a><br>"
      ],
      "text/plain": [
       "n_repeats_reduction: forall_{n, x | n in NaturalPos} ((x, ..n repeats.., x) = (x, x, ..n - 1 repeats.., x))"
      ]
     },
     "execution_count": 19,
     "metadata": {},
     "output_type": "execute_result"
    }
   ],
   "source": [
    "n_repeats_reduction = Forall((n, x), Equals([ExprRange(i, x, one, n)], ExprTuple(x, ExprRange(i, x, one, subtract(n, one)))), \n",
    "                             conditions=[InSet(n, NaturalPos)])"
   ]
  },
  {
   "cell_type": "code",
   "execution_count": 20,
   "metadata": {},
   "outputs": [
    {
     "data": {
      "text/html": [
       "<strong id=\"singular_range_reduction\"><a class=\"ProveItLink\" href=\"proofs/singular_range_reduction/thm_proof.ipynb\">singular_range_reduction</a> (conjecture without proof):<br></strong> <a class=\"ProveItLink\" href=\"../__pv_it/theorems/f484de6d1aef4b1db34a492f4d4eeda16e49c84b0/theorem_expr.ipynb\"><img src=\"data:image/png;base64,iVBORw0KGgoAAAANSUhEUgAAAQ4AAAAVBAMAAABF+R16AAAAMFBMVEX///8QEBCIiIhmZma6urrM\n",
       "zMxUVFQiIiJERETc3Nzu7u6qqqp2dnaYmJgyMjIAAAAcRTyBAAAAAXRSTlMAQObYZgAAAwNJREFU\n",
       "SMe9ls9rE0EUx79t06TZ7CYeFA9eQvsPlPYkVKl6KHhpT4Inc1DQQyEnxR+HnKQpiL1VECEW1FLB\n",
       "BDyIHmywB6u9BAqiByWHelBQiiBICuJ78yY72Z3JticHvpO3u595+/Lmzc4A7pZtiXR7wF1uCfu2\n",
       "EHTBxqFYL7WYbfONz9aQVS14E8epqwDpCq4kRRAHHbBxyNZlpOn9LGa3+Nl3a8g3LaS39oA8D2jh\n",
       "WVIccdABG4dszcOjJLCYvcdZqsRHBOMioH52GtiWu34xIY44aMPGoVjAGy1i8zX6acSHZJZEwDp3\n",
       "13XqDyXEEQdt2DjM6OJ5qEVs8H5tbdlyuqwFvOV8lfXtnYQ4LHDH5VS47gvz0yJm/yws3LKcjmlh\n",
       "++gkMEhpXJmgq43+YdjghsupcGR5Yzx34yJmLwFVBqZaXZTaHS3gF2mEHjVPkfElIR8WqGD/p2rj\n",
       "iDgky0/RvAVtEbNnpGT90Sb157XTm1rI/ubpbCDbOEnGi/5h2KAFG4dk3R+it+bKImYzGGzpqTLt\n",
       "sBZyu9QNTMNT/+NC/zhs0IKNQ7JqBZqX4V0Rs34rw88LNWccflncI9dJjsMG3XEojq31WjSObPsc\n",
       "r+27J6g/XYrPy0hJ0i3GTP84bHCmpz5KiDhk6zYpVRYptnqRn3/krtmJ1+lAUZdfvdFMrFMbtGDj\n",
       "kCxvz4/WKZ6rRT/JNfS0u/7DdVfnsuGlNctb0xS8v3yzrTtzZYGiSDMOyUrt0pY41BQptlAMgx3p\n",
       "fovDvM5Cpy/Ne+FX4BpNa0bNAXdX2bjhBJUizThka57Czc+JFBuoCj2ign0U/65vovdzzcusZk3J\n",
       "K7hAr+z8rm+i57v+RMuwXgfZRbz2o/tcrvRDPpY925ddGpRYF+ja5zTn2Od0o4wOH8Pjd93rqlJm\n",
       "sS2LQeLnrXzFPniQEwfo2PeNw6qM7Nn3exKQs85BwZj49Srh6JblPWDZYNV1Dupyq2HUKvKQzX+Y\n",
       "kyNa0rkwOOi5kMHgAOfCT1qG9Uedf/X/tX9bwBGThc8xUgAAAABJRU5ErkJggg==\n",
       "\" style=\"display:inline;vertical-align:middle;\" /></a><br>"
      ],
      "text/plain": [
       "singular_range_reduction: forall_{f, i} ((f(i), ..f(a).., f(i)) = (f(i)))"
      ]
     },
     "execution_count": 20,
     "metadata": {},
     "output_type": "execute_result"
    }
   ],
   "source": [
    "singular_range_reduction = Forall((f, i), Equals([f_i_to_i], [fi]))"
   ]
  },
  {
   "cell_type": "code",
   "execution_count": 21,
   "metadata": {},
   "outputs": [
    {
     "data": {
      "text/html": [
       "<strong id=\"empty_inside_range_of_range\"><a class=\"ProveItLink\" href=\"proofs/empty_inside_range_of_range/thm_proof.ipynb\">empty_inside_range_of_range</a> (conjecture without proof):<br></strong> <a class=\"ProveItLink\" href=\"../__pv_it/theorems/45a78f0cb1b2cc6c99e6ba8414003e3b275869620/theorem_expr.ipynb\"><img src=\"data:image/png;base64,iVBORw0KGgoAAAANSUhEUgAAAo8AAAAXBAMAAACYFLhPAAAAMFBMVEX///8QEBCIiIhmZma6urrM\n",
       "zMxUVFQiIiJERETc3Nzu7u6qqqp2dnaYmJgyMjIAAAAcRTyBAAAAAXRSTlMAQObYZgAABnRJREFU\n",
       "WMPtWW+IFVUUP7vv/5uZtyFFYAXLvtj80IeXfhDBlSdBVhT7tg8RFbRIgYaKYFSWxMNAVkF69EFN\n",
       "kR0tsvzgjkiFQexgoKIgQ5K4hPVCC4xaFtHIXYvOPffemTv/7tvdtm9euO/dO+f8zpz5zbnn/hmA\n",
       "/6ccFDXoRYrR6mij5MG8cB2snJyd93HQyURNKWmz7pWF5rHc5BXg42pLtNSSb8J6LX7pCoDP4teP\n",
       "23pcZyvrIK99FUn+GosJlABETSk5z/q/LTSRlRavABvGHdEKEenBMR0+f34G4Hr8+iXQ4zpb2Qjl\n",
       "tg6T5K81TKAEIGpKyT4W/c2FJvKiqFC++YloRYvZq8GPPV0HqwZzxs3KyildEKf5eyoReDGQVGz0\n",
       "zVloIreKCsaUbMVcvkeDH8daSB6CWtysrBzSQFL9PZQI3BpIrHNHj+5daB5Lm3nFd+S3YuWaxsAZ\n",
       "rGleXZu1GylWKvV0SKq/DBQDkqaU/DUysm2hieyu8QrWY1tq1Hpm/Yf9vS/3C08OL8WfbzWZ4f5l\n",
       "AFWA7OmP+tbmTr0qg7GvqcelW1kqLFQxMZi1VIjqb1XmkMNLgINiQHpGKXkNYOfcaIoMllxco+jx\n",
       "CtDTy1vuSG/5Rt0Qw9JdjT8/am5xA+tu9K+4HcYehuPiagYe6oBLt8KdNrPogaWZbVR/b4trtS6P\n",
       "gzjwwiQrV+Vz+pLHxWy00pMUA/ySeJOsiH5VIdcEox5+QywxObwCjDaolXPeg9IdsKb4iHBW4e9X\n",
       "mtRwC3/eBXip0IZRF34SlydgRo/TWGnQpQMZfFZjczpG9feWiNJWj8NBMSA9o5QUoJtRaPa5jBf+\n",
       "4pInnyL/W68o5JahhRVBcIpg7arzyvM9tsrlm2BMs+UjDTCKlVc6pPx7AeyxOozbuPbjxc5O63Hp\n",
       "VsS7sFnE5ab085PwV7x19HbQ5qAYkJ5RSkyv0CkDh4jMuXKVRlGKRH4a0wyIPCN6+FCZzdAl0o7R\n",
       "gRCW8hkF7LmWAywKXZ81kaqVTZIoW0+k4m++rV7sTGSp/TwlB3uWROYbapcRGV9vB0N7h+jhkCq4\n",
       "MNjidykO488azZ2G+aAETAHbIHu7LKfOmh6XbuVvYWKH8DmtKP72eJKSqwLEgTxH/uoPbV+yk02K\n",
       "1gcD7Fo/n9pQbg08V+3uZ6SxlkJkQSgERHbL3SyHhyabRaLX5QIOsFUlnhPGHFc7aVDk4jQBD+IK\n",
       "GR/qgFxhO3OZbBQrxrTJh+mMqZ9sFH/HbTH2yjOgTjaRSTWQnCCeL9NgoLjMZJlotdf1ejd7p6zV\n",
       "CojcKxQCIo1hWDeCxTNlWPtrBaSBt0brbID9bsIYgw6yk4SVUP6HkcO2WKzh94BxTsuc0k02xiqu\n",
       "SzI+MGM4goR6QluxYra/p4vZqYPovpsGDvl7wWpwbygRIYhqOHnUVEkPJa5l7Gc/zYifm8jf/keg\n",
       "p05y1rIDIp8UCgGRWbnD3C8nVD/as1Oit4ZWdCcmoPAOSw9X+Mz/FtotMFtvgvghMQwCH8KIxIWA\n",
       "MdAiTcqXcRw1wj2urVgpbXT4xY34BisNfpswmMSqv3t+EN5kaNnd4DW8jglJLLrrbpJsDyJ2LQyJ\n",
       "PLcWVitD+wmusGny58lJj0zl/IjfHt0imk2Ibrm+lqtrFsvxxEzisxDd3HHNLem48HxtJ1jxQUcU\n",
       "LyKYqL+kVqgJ0JHELWJEch893DRx3tOiC0tgNMdFK3MBkS9IhSAih5FWLJ6AB4cWX1Y82fOLqxw+\n",
       "mHEOXJYq/qD1m7qPYJov0souBRcecpBgxVTPH9xETMxfVMvZtAbteGgh4wPzwD7baLulXYChuM8u\n",
       "TWEkXjZ5640vAiIZ+UN+l61ELekVwmUWblF9+5jf828kN15MdDh+JIHiwi4e4uqGCzVLd4q1VFy4\n",
       "MHnMigTRuVdvIibqL1Mbdd+XoPgkVWxFJSyyhpzyhlbuAcBQHHIwzK7DnnO89ainzNo2UxDd0vI/\n",
       "eyEjl6AIDx/sfrfC7/m7WdlgDxg/Amdiq8rNqEeylGwG0nHh4iVZ8ZSXbCVjov4ytXzVCyIj4WA3\n",
       "IqERQBnRoFQX7G2cyDqy2xG5sOgfjMznU4M1z08N1n/+1DAxn08NEynAgxFJ5VJDfg45mX9qsfJl\n",
       "RPlGIphrMgWVyG/gbvEzbZ8/6rz86ZYS+lZsr/0sU2CvWoZ37S5/cyuZWIzysW7fpQbgX1w9MQqY\n",
       "48FeAAAAAElFTkSuQmCC\n",
       "\" style=\"display:inline;vertical-align:middle;\" /></a><br>"
      ],
      "text/plain": [
       "empty_inside_range_of_range: forall_{f, i, j, m, n | (j + 1) = i} ((f(m, i), ..f(m, b).., f(m, j), ....f(a, i), ..f(a, b).., f(a, j)...., f(n, i), ..f(n, b).., f(n, j)) = ())"
      ]
     },
     "execution_count": 21,
     "metadata": {},
     "output_type": "execute_result"
    }
   ],
   "source": [
    "empty_inside_range_of_range = Forall((f, i, j, m, n), Equals(ExprTuple(ExprRange(a, ExprRange(b, fab, i, j), m, n)), \n",
    "                                           ExprTuple()),\n",
    "                         conditions=[Equals(Add(j, one), i)])"
   ]
  },
  {
   "cell_type": "code",
   "execution_count": 22,
   "metadata": {},
   "outputs": [
    {
     "data": {
      "text/html": [
       "<strong id=\"empty_outside_range_of_range\"><a class=\"ProveItLink\" href=\"proofs/empty_outside_range_of_range/thm_proof.ipynb\">empty_outside_range_of_range</a> (conjecture without proof):<br></strong> <a class=\"ProveItLink\" href=\"../__pv_it/theorems/f326a4b9d1d386c6fd298f2ba43a96b60cb06dc50/theorem_expr.ipynb\"><img src=\"data:image/png;base64,iVBORw0KGgoAAAANSUhEUgAAApkAAAAXBAMAAACypEngAAAAMFBMVEX///8QEBCIiIhmZma6urrM\n",
       "zMxUVFQiIiJERETc3Nzu7u6qqqp2dnaYmJgyMjIAAAAcRTyBAAAAAXRSTlMAQObYZgAABuJJREFU\n",
       "WMPtWW+IVFUUPzs7f3bezNsV6Q/9EYad2IT6MOkHkVwZCxQq2rEPQSU4LAptqAwYlSYxFMSuIE19\n",
       "UEtkXlupGOyOSEVC7UNBSymGTHGJciL7YOSyyBo5WnTOufe9d9+bN++5G/vNC+e9++5953fOPe+e\n",
       "c8+9D2Aey35JoiTrLS+kKrcGMhe+YJQvw1la9SWxfqL3MxxRgx5/nhdjamVBeF2yHOCQtz9ehqFA\n",
       "gI+yFQngHtS9IXxuLUi2B+VFiFdCebz6HjFY7JDfOAmO6Aw9/zEv1uyuCEJBZ24AXG6xZh3GAgE2\n",
       "TdQkgKvoxRA+txSS7UHZDFojlMer73lgsWN+4yQ4or00p8vzYs2zkgDGn8iDnvN5JZ0JmiEzH1sA\n",
       "s+JzF5Ltg3I8jMdPXxLbKvqshEPqNvCF2rxYc5skgAmkhJ9vaQsC+FPTNsCs+NxlAnxRPgzj8dOX\n",
       "xLaK3ibhkPTThw/vmRdjJkuCsJxC8hdyKQAg7QDMis9dToEvSnc+hGdPO7GXfMbJcER/Dw/vmBdr\n",
       "RnKC0BXuXgqQBYiefL93MHZ8g+gfXYKXE+359Ue25hjgqaH3+jLr+qzhjy4O5vO4IcmWKFnhpBrd\n",
       "07kQHqnvEmta9pal2BM+42Q4oo0AI7Obc96GmP97XXVBWK4i7UJxXW/C+ANwRPSbq/DyS4CgnowA\n",
       "MIcz2tV8yvKwXEc9mM9droKDcl3M+ShC6Y0QHktf6fCdsEiqy6LTU1xyEpzhiB6X69sKaswKLyj4\n",
       "ypCTw3Sbsgwpf6dJ1ASh/a/h5XWAFxINqJpwUXyU2kq8fhEwpmqBAWK1NyB5E/RpOWUrPbVgPve3\n",
       "vwYOyjVu2teJA06VQngsfaUtJuGGVPcLn3EyHFECImTHdC9Z6TkR/v2FiJXfnanFliLEct/XO/KC\n",
       "5HJyB4AxnocJA7M9dh2eAetD1gIE0LQZSDUpO5V8A0YwX+tSJlHkBzFo0semQ3ikvhdlmxFtSnXX\n",
       "+4yT4YjS9URoVFatuc7JyugSRWseCLEmLSekHdlnGcBCqXMzxJqnJAgOrrMEHRm1/ZatybIlSlx6\n",
       "N37RQGuq+m5xNYZaM9l4loOUcYvW3OgERsua3ZVgT+8qCs8B9O0dEL2ugd26JkDe2xIEHTNhwkDF\n",
       "0vC3ED539C46KD11wwaOlkJ4pL7/aFYSkJNi1yhx0wJnOIYcoTVWf6cfr48VedF8lBr6n8lG+gqy\n",
       "plgTWc6e682p1oxYO1rq6N3YsgrxtMKoDvdjRo7D2idS5JoZvJoslCAdJqDLrUzKrFi7AbNYhVi2\n",
       "RJkwTAGQDl6FFH1TzbSV0dfUVciz2tqrEBzlr3SBF5gmL5pPU/eqesdLkaKsVWxrUnb14yK4R7Vm\n",
       "qhgfxrKLOu4y+izXyFl5yHheJBbJGfK3btPU/sWGATpWWAFc58t4A5QnMrwAqObJ5f5M8wsyQvjy\n",
       "cb/7SciWKN/rBWqMTu/HqWr6va7wCH3TjXNCGw4PKFaQKy7QGBGOiRMRgKVkqU/JsFrlJF4/eBB6\n",
       "8txPNcO2ZrQMydESNFVrRuUCQR0ztjR78sMACAfBJ0zOUv0VeBUB43TW8jtwHV4hlynKimiKTkuQ\n",
       "NZxrHJ2ExHbOVUrt+LjiPG23ZUuU3T+Jxs11zlu47mHe7tE3ubkmBFHAZ7FMauExUhrEqZDOL+/i\n",
       "SSsiPdcHYa0Me4OwyvH0KAqNZzBj2zL169RUnbFiltfEM7EFHHDcO8tvwLtTS8kYqJWcurc7XW7Z\n",
       "Ex5joFxbPnc5ZstWUI7J+0Gl7svj6CsEbZXqaiW/neVBSbLcyVP8E65fFw2LoRoTtRUx25qYX0JH\n",
       "odMsqHOzGKeQfAU7IuXkdMF96pEqXuE8Ud18pNVjBJ9FFenz7jqA57wCXSVmUAbYhs9dTFu2gmIq\n",
       "px5mEI+jLwl6nnPQ0FMPa+PUhORO+DoNew3A+bXXSE7jnLyQFrWXP7OtSZ+mCoknLWtSyqpbalVx\n",
       "dupl66mrwpTYKaauuuMalfcxpe7pfm3MBrGVxIFUzbfa87mPKPBtS7aNoklb8BFaJpBnRNEmebMr\n",
       "B+1O5LqcEznH+WP3wYFvYW0NImW8okdfht2nRe3hurOmY2RZDZHvZNxMLvsrA51Wrroak6XkJsN9\n",
       "WqxnxVDU01crCRhR6p7uH5bbIPbOnYJJtt6ez73PJ5KybRRd+dJ6MM8hVZvBfkvdEb/TYjlxbJic\n",
       "tQWqcfR0zuhqnnzzIXe+yanYXP9k6HP8k6H/7z8Zk3P5k0Fidd8/GZMuyO7zBfmvJFXZ8K6h/P1Q\n",
       "/oOU3TZ0al/B7eIK+72W6+iwaUh1At27F4rWvYdJWu62AWdfpNFafvdFjNu2EeU/yDMzaL3vZu8A\n",
       "AAAASUVORK5CYII=\n",
       "\" style=\"display:inline;vertical-align:middle;\" /></a><br>"
      ],
      "text/plain": [
       "empty_outside_range_of_range: forall_{f, i, j, m, n | (n + 1) = m} ((f(m, i), ..f(m, b).., f(m, j), ....f(a, i), ..f(a, b).., f(a, j)...., f(n, i), ..f(n, b).., f(n, j)) = ())"
      ]
     },
     "execution_count": 22,
     "metadata": {},
     "output_type": "execute_result"
    }
   ],
   "source": [
    "empty_outside_range_of_range = Forall((f, i, j, m, n), Equals(ExprTuple(ExprRange(a, ExprRange(b, fab, i, j), m, n)), \n",
    "                                           ExprTuple()),\n",
    "                         conditions=[Equals(Add(n, one), m)])"
   ]
  },
  {
   "cell_type": "code",
   "execution_count": 23,
   "metadata": {},
   "outputs": [
    {
     "data": {
      "text/html": [
       "<strong id=\"singular_nested_range_reduction\"><a class=\"ProveItLink\" href=\"proofs/singular_nested_range_reduction/thm_proof.ipynb\">singular_nested_range_reduction</a> (conjecture without proof):<br></strong> <a class=\"ProveItLink\" href=\"../__pv_it/theorems/1f36020825c027d1411094d9e5e2b4e07c67eeb60/theorem_expr.ipynb\"><img src=\"data:image/png;base64,iVBORw0KGgoAAAANSUhEUgAAAugAAAAWBAMAAABgc3TjAAAAMFBMVEX///8QEBCIiIhmZma6urrM\n",
       "zMxUVFQiIiJERETc3Nzu7u6qqqp2dnaYmJgyMjIAAAAcRTyBAAAAAXRSTlMAQObYZgAABjxJREFU\n",
       "aN7tWV1oHFUUPpvsZrOzO5tQFMEfCFmJfVzbByk2ZasPARGT+iD4Ay6hgpEWFgpqtEhQKElBXH3Q\n",
       "agmZxp+WCs2WglIfzBChqS3IYqE0D+pCqxBRCSWCTYp4zz13MnNn7k8S89gLZ/buzHzf+c7MnHvu\n",
       "3AFYV5sURi3XTJyQr6+PZDM4K8t5O0ohmXDnjS4mYUsjDayFO36ykDhjZACflhjmVPx4xxiMGAkQ\n",
       "RgSykHstOFnFjl2gYHkZOupW2CmVb8QpsGGkSWe2SDUa4azHccIu467fLeEW62QAB2YbAIsJKU04\n",
       "YyRAWDEZnlu14GQvl1dBwXIQnJYVtqjyjTgFNow06cwWqUYjXAWOE3YMc2/MEu4VYeAsf8bklhWn\n",
       "FHpM9x9hV5SHjDi5zTxR0bDM2WBKyYSbU0ZrkGxUrNfIccKKHvtpWMIdFQb5JbbJqrLZ6TbgOWxU\n",
       "fT+6133RZ0HHcsIGy6oHoBNK7KhZslGxXiPHCXMvnT79ka0K1cjY7cGt+vQbBoLCGsHGcHKbBx1L\n",
       "sWKBaSJEXAIbRqqRfGNTGgkn7J/x8cOWaNvKZOA+fIj9lADSFz7uHc7M7afj0zvY5js9nsOQ4MmR\n",
       "D/p6XugLwpzebsbFsv6enZBkcUqYsWULLCGZfCMugQ0jTUq2RarWCE7vmMAJewlgwhJuZ5MMoAvH\n",
       "s3eZ0s63YeZBOEvH/b1s87OBAGFI4I/3ODcr+SA/y6mmGSe3m6BgKaTZr9uywBKSyTfiCPvDX9iu\n",
       "B9HqJFsjVWqEdnhA4IQ9Lgr4bvRVoqwbkpmyDTKAKTzyJsDz2RZM+fAL5WNjD9t+bZCCMEaQabwF\n",
       "udvgLokEqHc1zDg57f8GBcvxdqY+X7PA4pKFb8QlsGGkCWfWSNUaYQFWBU5YFtrwchd6fbZ9lupe\n",
       "jCpVIRN14i4Ab6YCsx6bIvPk4ff3RUt5YQSOswz5FZzrCtygZ8Ylq3GCxcNHMrNkgcUlC9+IS2DD\n",
       "SBPOrJGqNYKXXhE4YYVm1laLwos+Ly46anoEYJtwtWK56POChGlqr0GqJ7p/3RedF/Eky6xnvugc\n",
       "lpBMvg0XXS3ZFqlGI+2PXPRc6xk+hnl6qnB4OQKUq8DS7DCkbzk05lfZZsBwvY4IEjYUZH0YrAe+\n",
       "rltwcmWpKlmQO12zwBKSyTfiCEtj+m/h8KKWbItUoxGKZYELbAILuvteP9s+VuUl+lHc0f90qa1v\n",
       "KFZI+XPCqhLcz94eGPNxeiNo+Obysk2QpHxgSb4nJ94LnFXYQCHlj02CxVktmAtpqkclmXyHhTQ2\n",
       "bdBJtkWq1og4uZDCOX6rr/HivMIL+1OoZ28z9UpblZIjmFkx1TTlyS1jAhV93/mX7RjE5aTdwPt8\n",
       "M9OCyD+CIcFUBZP8jwI/QSSrEsePy/8wCAVLemmSPVe+AkG+CZaQTL4Zjps8RJT1kqORrl8jjYEM\n",
       "FxqfBsJOrL1f4vV36hfY9pOHoKsiBK1lYZqPfwP8H5uN5vvr8Bqj68AFs1+B9+FVTLCq6NAuDkOC\n",
       "AT4/OrcA2Tf4TKqmw/FO+I+fPQhKloNNPt3ifRnPaQmWkEy+cZoWn6pFIk06i0a6AY1YTDhuzVwv\n",
       "GDOgkwZ+3h+GfWJ4C5cBCrwaS+/UeTFqObWwHz9MMOnl+BtOVNbi5MbPvghqFtZORvpxaRfVktE3\n",
       "x51ULgPoJOsjNWo8JHCBiXY3z47Pef8W7dgOUxlpweurIh/upNWjQnQ5R1HOYQ0mLQOxFMp4OBfW\n",
       "4OTGzs5X/wQVy9rCla/0LWBxyeRbv+ClkWyK1KDxOT59jyx4BbdvBXJH4dsCHPMg0822uSX2rF8T\n",
       "5J11bq+LVc3oG+y0+D0T6ccOC1hn5GlzmOMp/x09Tl4qYmdnj7aULPy3FfZjvgNYTDL51izthpGq\n",
       "nGkUGzTmbneWQVraDQeyzH3wxfewrwFtY2ybrsIifHhJ+ojx4y76G/0iEHyRmYj0Y4cFLLq07+L4\n",
       "WGrqcfLaDVqprmQJgnTVvgNYTDL5Fs+S4iOGRrIhUpPG4f4ANyHdf8w/ehFt8JG9scHPde4mP2K5\n",
       "W/G5bmGTn+sWNFjj57r/E2lgYvJ+dUh8LszX97/vbeLT5Z224VboDXLGhQMjymS907as/QcWOJuA\n",
       "/EQy9AAAAABJRU5ErkJggg==\n",
       "\" style=\"display:inline;vertical-align:middle;\" /></a><br>"
      ],
      "text/plain": [
       "singular_nested_range_reduction: forall_{f, i, j, m} ((f(m, i), ..f(m, b).., f(m, j), ....f(a, i), ..f(a, b).., f(a, j)...., f(m, i), ..f(m, b).., f(m, j)) = (f(m, i), ..f(m, b).., f(m, j)))"
      ]
     },
     "execution_count": 23,
     "metadata": {},
     "output_type": "execute_result"
    }
   ],
   "source": [
    "singular_nested_range_reduction = Forall((f, i, j, m), Equals(ExprTuple(ExprRange(a, ExprRange(b, fab, i, j), m, m)), \n",
    "                                           ExprTuple(ExprRange(b, Function(f, (m, b)), i, j))))"
   ]
  },
  {
   "cell_type": "code",
   "execution_count": 24,
   "metadata": {},
   "outputs": [
    {
     "data": {
      "text/html": [
       "<strong id=\"partition\"><a class=\"ProveItLink\" href=\"proofs/partition/thm_proof.ipynb\">partition</a> (conjecture without proof):<br></strong> <a class=\"ProveItLink\" href=\"../__pv_it/theorems/708fd84859b9414e0af0dad6c7e9b278a39b5ec70/theorem_expr.ipynb\"><img src=\"data:image/png;base64,iVBORw0KGgoAAAANSUhEUgAAAnEAAAAyBAMAAADB8JDgAAAAMFBMVEX///8QEBCIiIhmZma6urrM\n",
       "zMxUVFQiIiJERETc3Nzu7u6qqqp2dnaYmJgyMjIAAAAcRTyBAAAAAXRSTlMAQObYZgAACGBJREFU\n",
       "aN7VW32IVFUUPzvf3yuiGVYyuhRmiGMGYq24FKkF5UiQWeFOopCgtCBYWNDQH6VGNNEfChGNmqsZ\n",
       "uSuJYVQuBpYaNCiJQh8LKmHgssgauZvSPefed9+99719uzs0M28u7z7vPZ5z5s3v3XvP1yyAD1qq\n",
       "A5qpdfvnUX5qKuAg1O+XJwkUmgs5+N0vD3JYn8Yr+ujY2BoskWSJ9xq3WJ8/gEtM0ecHiPjgIj56\n",
       "GSKeUFiMB6bhbIPo9X3iRrVYTp9fxVvkzAgfbYKE57EiGS/h7JDo9d0ljWrHy9o0TUD2PNkhRgAn\n",
       "vKQl4whZ6SzvNW5Rf2zXzcZT0eY8LkcAuz1xF4yhYdpHk3ivcUve9ANwaeMpdtL9BzkCyHi5exZj\n",
       "qouml0Wv79tuTIsW9Xkb3s5NW0CjRBtuv9zo0hYjZHLJc2zpfQ+817j9UfYBcp3GinqP7tf5KBVi\n",
       "Wy/tZSIEI/T03r+iwl0tcrdSA9RytXnonqwPkJtvzF8nB+0GH30UZKgluzw8OcEIx/eUv2D/fCV6\n",
       "jVvGD2HEHcacfKXkIB+VW9nLDQ96nNWCEebz1dUpeq3DHh+YiPAtN+TovJ8iXBYv5CTjltnZOiIX\n",
       "v+WDoPWm226NFcTobYywPXarxZgYig/hfJno1jlXqNNOaUQEYXpfZCFasnyUGEl5WwiLMT1IrLaF\n",
       "qHF7p/HItRhOCfcpejr4KDT4MUCwD3oQPLwlbqsDmzFShBuIXLvotW4/A9D7/K1xyPWYfgPttRXW\n",
       "aBPzNDJ5iG5Fzw+33hZr8GpZZYz1QtscNrwies0dujycwX//aqA7Z3pGFHP9CEr0tZ/1r51WlZDT\n",
       "GNlK7OK9Ho+9Cy1FsYHxfq8ZjeUgWbhmx/484neG2Lg3Dca6Rfy0VTLs1aV6G4ccW/ZG2w7RHf1i\n",
       "ROsITzUnGntwsWmM9csyAbQWIH364MGdDbQQ8xx5ywOQbiuJEVlfNkk7BTENrDMKCLfXBTm2Tf/Z\n",
       "tu2N8fh+dGktP+qEmglJ2N1IOWJnM5t+cRwPJ0TSJd7r4BKwxb5evKX2ipWoQGMGMFNsEBGQ9/Gz\n",
       "Rtqt5wCOqAmOIy7n0Ex1j11JuiaLlvgh61AFcswMPcbT1alZCMxqbrbIYIkvyq1HpMTrAdaJ+MxC\n",
       "5mfZb3e1nKxq7wiQg73BVkGtFxaBwYLtlaYEDqLMgY9CAFebI33YU1aRe5Eu3grCh0qooQ1OEt8s\n",
       "qCSLp+Fh3Jt9tgrRsMKrsjQ7cqlKlI68sptHKpFbT5dCwf++qvKzyYVjByF5NkjbOpK3VVipmZLO\n",
       "0sy7Ncp2a7z/WTxb31/M7o/SKtrzCEVB4fsU5LroSrT1qsjNtfSg3FwIoVuVfGF1FmGJKiqAS7K1\n",
       "rbFwC1FqznMOT7jt63B4gcwAlUFyT+P92hG+2QineBdeEKQfBkjkjlp6UO4oZOiMzJ/+BWHZqagA\n",
       "Lpks6CzcK8mPZVvHX6l2FKltVUabQPX7mCt7C66xLylaWYDMn+MwUTqJhL/zyt4MFfGCz1IFFbnl\n",
       "1oeg3HLYy2FJUd1guaICuCTToLFwT7jD6c9BFZVqgMNltUi9F109i+5o3jotWap+I6uTvRW/QGtW\n",
       "JndiWZnoCU9+V0WugBdjqEQGBmYMXOPIrYHQNtZ2kNwaWMXG2WQ+XkH8lwoVgoNJQrhfZ+HRlwO5\n",
       "KivVcF4LHzZiWGfR9YB3OoyhU8peskIYB3sPbpo0vZOpNN9HZEw2Boor4zZy4SJeDOWSuuaWSj37\n",
       "cBLhCwoez3J/T6oALsmw11h46Fxxxq1QTaXaClvFUhz6VI1n8VPF/3WfHB5Dpy07Yn38idETFYlh\n",
       "iO+A71KwqwzhSewey64K2MglungKYqWkYJnkV0uaybFJCjdnmn2RPqZqP65goQK4ZLpPYdGWvSNX\n",
       "MvFKNf8WMk1K9YloyQU5SA+PoVPK8ur3bjd2O1ER6oLwXdB9ClYyG1hk90wpcq9iW7fSBbMtyodv\n",
       "rgV4SHpqp2iC+3vZZebwMVXRMkgVwCWDHQqLBMrcCFVWqnmTRWqqT2jxuI6cl04py6vfyOpgt10C\n",
       "XJxJ4evjqWVnTzhyD9AFb9kUEFlRZRJgh5h4TAgY+RcmiYbVZrGMrlmeqbJSnZhVBLtInZ6/OafS\n",
       "Hch56LRlefUbWR3s0oHPnM8L25ssrfugrNp3/sExvCJPTFeRS6pHlDZBVVrOjyS/dX3OYYNQZaU6\n",
       "CPeAUoIgs2fTHch56ZSyvPqNrA72O+UCnSXyNpCGjRu0rA5HIMS82ErkZElNguzVLLmZAnpKQ45J\n",
       "Jlxfc3jEIFRZqb5Ix7ksUn+S1+gO5Lx0Slle/UZWkz1+fRzeck6uItMfnDPqxNUtDbjHWf9TpbpM\n",
       "x3mnajgUempg4M8ZooZIyHnplLK8+o2sJrsfKtWwxA25iVeq+ahTNRwK3bHmvHRKWV79dkMu1uUD\n",
       "5FZ0uOzWCVeq8ThX0hQkp9AdyHnptGRF9RtZTfbWrB+yDjkXC9EiDulxV6rxOFctxGTQ6BOyEJas\n",
       "qH67WYh5fsjwmMa1ukq1+NFsu6AnhkCjq8gF8AOFTuI2dEpZUf1mrNS9DufGtLtd8oITrlQDLASe\n",
       "7Cd6aFCnK8gFX7q92NaJ6gydUlZUv7G2kNEzOv74tav5C+tqK9WbeZDI6amiRtfW3Fg6FVnJut/I\n",
       "0eZ8gZzxGNVVqp8nx44K1Zg4zFQ0Om1C7QWNrtOWVViNiP+wPxLZ8an6vJpKdfxf+quKQ4L+mkg3\n",
       "WXRnOmR0nVJWZdUNhF/+ksT8dWpVleq1i61vi/Szi0CjO52Z0XXasjZrTPfqIzmfIBcseGbTx1+p\n",
       "To87mz6B6vdFJ/sF8EtbC03V/PNXmpS4a6LWTfbhPwf11cG+nKIcAAAAAElFTkSuQmCC\n",
       "\" style=\"display:inline;vertical-align:middle;\" /></a><br>"
      ],
      "text/plain": [
       "partition: forall_{f, i, j, k | ((j + 1) - i) in Natural, (k - j) in Natural} ((f(i), ..f(a).., f(k)) =  \\\\ (f(i), ..f(a).., f(j), f(j + 1), ..f(a).., f(k)))"
      ]
     },
     "execution_count": 24,
     "metadata": {},
     "output_type": "execute_result"
    }
   ],
   "source": [
    "partition = \\\n",
    "    Forall((f, i, j, k), partition_equiv,\n",
    "           conditions=[InSet(subtract(Add(j, one), i), Natural),\n",
    "                       InSet(subtract(k, j), Natural)])"
   ]
  },
  {
   "cell_type": "code",
   "execution_count": 25,
   "metadata": {},
   "outputs": [
    {
     "data": {
      "text/html": [
       "<strong id=\"merge\"><a class=\"ProveItLink\" href=\"proofs/merge/thm_proof.ipynb\">merge</a> (conjecture without proof):<br></strong> <a class=\"ProveItLink\" href=\"../__pv_it/theorems/845ce9515289816c3048a5d80af6ec2985b3fa2f0/theorem_expr.ipynb\"><img src=\"data:image/png;base64,iVBORw0KGgoAAAANSUhEUgAAAosAAAAyBAMAAADGnoywAAAAMFBMVEX///8QEBCIiIhmZma6urrM\n",
       "zMxUVFQiIiJERETc3Nzu7u6qqqp2dnaYmJgyMjIAAAAcRTyBAAAAAXRSTlMAQObYZgAACLxJREFU\n",
       "aN7VW32IVFUUPzs7n+/Nm5ElKyxiaqk2RRwzKGvLqahMqJ0tyiTRQRQUpBaMPjRoKCgzpIn+MIJo\n",
       "WkvNqJ1IjI3KQaMPjXwohZLlQB9goCyikbsY3XM/3rvvvtl54zjGncPOm3vvnPOb986959xzz5kF\n",
       "0JWSOegE2qL5/X3fEVqEcE3r2wsVOkON8KvWd/ex0n/L2zJLwRBcZFQZTtjsvQkIxjpaB8SleFVj\n",
       "LRoXKf0iXjf3lmgrWoRVDaWvn8tFzGkQLXnHt5G/S7AXDEFYrz1NAaKlZu9UK4pnvf0UfYzVuyq0\n",
       "FbXho0bS0X0TXMQqgFHzjh8jjd+wFwxBWK0xCmDUmrYbnWhX2ds/SCf+1Lu8RTbyTAPpkQU5hxFg\n",
       "t2fcwgmaaAoCWbuLDGD3pJwxja16jdJ/hnqzMdEiKp3SaBLAZQR4xzMeI4s0PN4UBLJ2ZRjAO5Ny\n",
       "mme01aKl3FpiiC6fIdEi9HsD8W9AYoRUTh7fxIGagEDWt/MMIJVresr1oVhRCX/QEq3Za7K0NXw9\n",
       "6e2ZXPrgJXO4yHAfKi0rj/eiYrPmwVIwBLIe5QDJ7KS8R8u6qnGpMvdxGnmkM6xVvT0gXjspRLJd\n",
       "5GrV5PGN6Pgq1w3YwRDIuhIYAAP54QTSb4obzeiqxtnq6qwANzDSSlRuI51PG4R7p7mIVUqTqzkk\n",
       "j69Dxzdc/rAJCGTtAQbggPgppe1B5mKl35UTbp+0DLpUlk4uTbciFDFggBhcZEwexzBvNrPQIAjC\n",
       "GkEnjQAOSJ0Dl657TORsXTV+w1vmeGMd0B3EFXE0QMdRjU/2ZaAJCMIamhKsxsRZXQ/UZ+oa9Yu8\n",
       "Fcfz9j0NYveCI4JuLDwkj6/D+DNxCpqAWIfvZQbAQJhv/DPAdrQ5w6gRHdtienhrpFJtuD9grMdE\n",
       "jAmQthg6vhFPJsZEEoIhCGvarspbTH16SVM1dhVVG8vSQwxvDWDKoB+Mf3EQLyM1qUGuOSFCzb+7\n",
       "Ko/voUfy06jGfkVahSCs6QUZCkBfk9F+ACr0i2ZqHFGDNGpS4THeiuL9/gHwFAZsT6IBF0RjLXIP\n",
       "OCLdeEnl5XFiyfEK9E53IRxpFYKwWv0MgL4mDRzzsA/f/9ItbPRFYniySxalM56BQYg/7v0ML986\n",
       "IjGcj62e8ZiTqwmEEKxb+avB7b6BW01Rt8RExXeqANiZsp0kBcsrJP2SxPTMwnEuEiljpEmzCu64\n",
       "5az0QAjB2jg1QY0nRaYjWdFMjUd9FhQvwdMfiZbIcg37k39EM7ENNc74dvUFYDkuefxlwRwMwVgD\n",
       "EmXEgRbA2rt9+ybdtphZviSpUYQDc0VLPKHtT2ngq7fEGaO9Nte7PL5NMAdDbHMmLt4oVZ4mt/TP\n",
       "+vXPNvt4CaXvd7veb4u0iLbf77GUIoLVfBHhsPq1XHVWs0WEw3VAvIEFWaor+Nrtt0UmhW5hcCV1\n",
       "88bjdCAn3Eaox5XuhR2+4F8IMBhTzS7J4uiE3P3vEZDQ5mmbM6mvRrJX3cnsPnkVBkYRNkPoK2NM\n",
       "BSzSZ4aEBYknXOlF0M0ndGF/LkRD+VWeo0EF5oLCIIkjmik6D94IDhrA4x2lRYiR00IMQjbUSUuO\n",
       "sBWxR1LjYrI6xz0ei0RcxudzbLO4F27GWagqSTwshssMsvhi0Sjw6TIKHazGpB2jblK1I76qNkpq\n",
       "XCGdTxkdAzg0uh3MA91oohDNCwGRQyp5GWTxFaJRFF93rEONOoZZ+drD6G9fvRWf8hq6xnrRqPdE\n",
       "aOeMpMYhPGI9INbMHaQxE8L0zPXoogxqKeYIcBiy0D0MkjiiDd/iUeNMZ4spdZZvRK/48nJsHqI7\n",
       "BF2T3fQHFcd3oFlHprhqxOpG6ucFwi6rpLETUjQ7l9/7I2ppkyPAYcyCl4GKr1xPyEa07P0eNe50\n",
       "Ap580E7ddLm/ca2+TWrEpfEJNbQ5eHmT5oPfT+Lw3/RRQkVXjWFyTTummPiAyM2HzUxLSZoJmO8I\n",
       "cBgi4mFwxfEjo/S1R43znfA7VyduhHMv94eeyzeu1beH0vTRMq4PfN5JS0V6XqHNjKRGot3BvgqE\n",
       "cTVtoB8tgYWknTHzCRsn424qwD9HmEjNy4DiQo0F+q3REyeuOHGcqXGJcxj0qbHFcv/R4CNIOzIp\n",
       "aGgW9edT6SyO0yWYLuGqGsTwuOshV40Rcu2LTBFTO/Ie6i3KFhvclWHBHxfgMERXHgYq/himPm1E\n",
       "Y47UWY13O2d9u86ZupVy/03BB+K2ZlIwEnmjbNaqCbKMBkkznlkYIm/pkKtGzIg8HxkSMl+SY/0R\n",
       "SKLirRxYKLmV6C7koA+SD6peBkkc0ZgjpeDoTo54rMSX4Wmh3N8TVKtvcyYFI5HBirG6FLmMrBnS\n",
       "TJWiV5O37q+knXotxiTLhPvf8h3ADQBo+/f8TqI/IhkrAxdA6iPbTM7LIIkjGnOkeHn9uWUUjUcQ\n",
       "qhW2WO7H+l5Arb4d5AYWNCdElWpSD1kB5zjjqnGGD4A8boi4PtYxIeRJFREY3KZlBplmCM9blND4\n",
       "Jq/Wj1os91tjgbX6dpBzWkj9lBdBxGj03mkinnDCCvakcVXe9PiwUUkjxM0TGPgCFAY59wXLXyvL\n",
       "anTRrHE1T9ZauZ/s6IGFlDbQpU5K4SqeIgKwo1+XeFO8iScNq55/s6dHPr1PUiOBMbIqg0Rhe/Uq\n",
       "T1bIRYtMqOeE1sr9XZnAWn0bKHGyWc5sveUEMN23PL0RWqjhoa4BWpvK/UtLgUXmNpC25X6YV1eN\n",
       "51zuvxL+DzXGh3RV40CunlGfc7n/RUOu1V+wQ0xG25xJtt4Wc87l/rPJ/2OLmaVtPkrdqlss958a\n",
       "Dq7Vnz/p+tsTQpd7uy2W+w9Wg2v1500a/2jZ9xP6Fsv9EFyrP29KZfVVo3pvLZX7KV3w1MTHZX3V\n",
       "mJiq7DGtlPvpyIVOlGn970XqIaWlcr9QZvxCpm2jWZ3V2F3w9lst9wfW6s+XDoHWtAw6gjT/R2Ca\n",
       "quwA2kI3mP8AIEjdK9VJjLYAAAAASUVORK5CYII=\n",
       "\" style=\"display:inline;vertical-align:middle;\" /></a><br>"
      ],
      "text/plain": [
       "merge: forall_{f, i, j, k, l | (k - i) in Natural, (l - j) in Natural, k = (j + 1)} ((f(i), ..f(a).., f(j), f(k), ..f(a).., f(l)) =  \\\\ (f(i), ..f(a).., f(l)))"
      ]
     },
     "execution_count": 25,
     "metadata": {},
     "output_type": "execute_result"
    }
   ],
   "source": [
    "merge = Forall((f, i, j, k, l), merge_equiv,\n",
    "               conditions=[InSet(subtract(k, i), Natural),\n",
    "                           InSet(subtract(l, j), Natural),\n",
    "                           Equals(k, Add(j, one))])"
   ]
  },
  {
   "cell_type": "code",
   "execution_count": 26,
   "metadata": {},
   "outputs": [
    {
     "data": {
      "text/html": [
       "<strong id=\"partition_front\"><a class=\"ProveItLink\" href=\"proofs/partition_front/thm_proof.ipynb\">partition_front</a> (conjecture without proof):<br></strong> <a class=\"ProveItLink\" href=\"../__pv_it/theorems/fd677a0f26fc38c9fbe34b758b4d86678987bd180/theorem_expr.ipynb\"><img src=\"data:image/png;base64,iVBORw0KGgoAAAANSUhEUgAAAaMAAAAyBAMAAAAD9qmVAAAAMFBMVEX///8QEBCIiIhmZma6urrM\n",
       "zMxUVFQiIiJERETc3Nzu7u6qqqp2dnaYmJgyMjIAAAAcRTyBAAAAAXRSTlMAQObYZgAABwpJREFU\n",
       "aN7NWn1oHEUUf8nt7eX29u5CqR9UlLMHUhTxbEURG40Kfv1hU/8QKmJPacFCi4GA1lbKWaGmleLV\n",
       "fyxK6ZpqrC02VzStCpqjra1asIeVUsGPQFtFwRBiBJvY4rw3s3u7e3tzl72RZGA2M7vzXua3+96b\n",
       "934JgLJ2DGa7DSrWZ5ZnHZI2qlbfDd7pLu8oUWysQYh8KnqI9rNSRIlOz9Qo4HVPtkgjvQBrpNL2\n",
       "QkgsAJ2h14uhNtGh1FLe6fZMU7SntSMlGukVOCCVthdCMg8GMx8jnAkZ81VCesU7PU2/YfJdMWKu\n",
       "lpFtxbUQ4IjoIdpBlXY35Z2/SDfH7RHbdadM2rWQfXDRQ7SYQsuL5TzTeC99mV57xNp5WbR0L4RU\n",
       "N+9h3uxFdZB+8fpzOyJM3tqXo9HAYjY7Wl/YWQgDixBgjvcwrU8dpPW+0FPBazrDR+V7GwRYeyHk\n",
       "2tg1Oco7wLdj2M7N5NVaqhBFJ312WMLr7h4axUt3s8lhibhYCMliml0TvbyHaUMZVZAiPudvI1cY\n",
       "4SMDJthgpURcLGQrl7G3HB3nPUxLKUsg2vJBkE6IEYVDGaQTHpFWILUriw8rK0GGt0WMOhDwgxLx\n",
       "LY4I+o3Wy7vtS7/OYCPxS6og3VIMCg/zxGioVJaHB3shGNPgDg8h2pWqIL3sP2hylBOI0bI42+5S\n",
       "MC7jTbwMjYJrVl3ITTRS5j1UexWA3sZPrUK62p/mo91o42Kko/4LAC9ghH0ejSwvBvyWsxAieEn1\n",
       "8B6qnQI4iT//aBGR8Zf/DmY3ZgFcCRFG5tpDg25VF1IS8r7o4c78HtiJPlVo9Via8N9hOeihVMVJ\n",
       "YHnaagakQuBaGLXwgGolbWWBKgMp9prMUqtJ63RN5VKE9QfsETacDNRK4i1n4e4y5vMtFBfopjlI\n",
       "frNv35utulLy7xpTLMB3d7qKQdjKeqVWEm85C/VsRbyDjmLYraSZm/7T3/9Sq5ACDjhfoZ5svlD/\n",
       "QfSQkNgbXM3fYP3DyzsNjETmFMyV1sZM9n5huEvxo2d5okT7FhVLmQdg3rLwcWCKN4cgscgag3YE\n",
       "Yy7Eva/g3k5X7gNEbDjhYwVEhAVF+47B9XZmp4/PGUgxlkCblZhdSnobh/Sk3+8Rxv6jXfCJaUWs\n",
       "uQkpPvo4uZUVDGm1//bvzNdfe8uCzzM5cw4aXgzzj62rMCK93sWu95ElDdzlgsRWGFnb8PD5zeh+\n",
       "rA0Pv+FAMhtGvBpqMl4J3lITpKQQRZW1jCeGB/iI8vizFArobecerUJCkiPiELP4/JDIC4fNDx2j\n",
       "bA86l6AeNWksZgfRXjZ4NmC/clISFZIoHLRI5ZrAyi1Nte0S3P9+RGcUj1chaez6gSnCAD1/CAyi\n",
       "Ooah7DAkycma6lJCTeonp8l+YZ0/CVnQKG9AhSQKZ3hCUsN4ponIIS/aTjkJr9y3uyDlqZTR+lnb\n",
       "Rs+fguj6/v7NDNKumLOXyYAcry41OfRINyRdDFBCPBo8PtUguyOFjiiljX6uYahalVxB8/dofLEK\n",
       "KYrXtG0M+PwBgDz/StpjTtp6KSgTr0dNItMQK9ZCguRUA1KSFDqiqLKG8VzpYDSmIL4NvjBhpwXR\n",
       "ziokrAlgub2KPYcfAb7E8fc0FM1fXEipSeQX3GmlF5KMlESFLtHzAYznSMlVs0WvgcGvYXkJ2guu\n",
       "iLeB9UX2KvYcbmOGyMS0Td2gO4o2+ZM+CTV5+qollKYY2UwQJAkpSQopwzEWFoRKP+N5yvn8aKA8\n",
       "aSjZHsUh3cT6ZrcMuu+i/s1eRffADKjJCe6uptYZBEnGOlAkQ0+PwLVCpZ/SeM4JUGd6xJGQKK7a\n",
       "YbkgdYD+8AK3lVSaITll1GQcI/5GgLcjo0GQZKQkVYgbKVOfFioP16MMzIV2OZOEtWvc2YNW0Y+7\n",
       "j4o9wbVkqXlqknx8PoBF79wcG/vturGxvANJxuChQhQFS7OpQR89GJ+QnQG5wOP8xpapSfJx3NeI\n",
       "FfSVZJBO2JC4kgBI6qjJyHjz1CTNNorHtZC0XjmFSaKQygmVPsazo1cVJG2yeWqyTfi4MW3ONDzM\n",
       "cxKBoVJweEhnlCXAfc1Sk2w33Tz2auO7fJDaBTHpZS6dGVfIwzYZ7VLR3bSvpQySL+RJqElYBsJe\n",
       "1lW8kCJPX+6ikjq2wWYuHR6zSmFyU7sDRLF94X/ij5k1lZumJr+CegkRNSQlP5NRmCTaJ1QaXt9R\n",
       "+YdN/5+f61KTifyf9tHuJGOeL3xE8B11KUwm+gSdbQFpayqnDhKca5KajG0bdXi9wGQbPScjozBh\n",
       "a/zfjhwEFhcHLYWQdvQ0R00msxzi3jp68A0kpRQmE32my1bpfTNq/5XDn8c0oibrFepNkJJCFFX6\n",
       "1Ooq7Q7g9jnApZxVq07PzDoi1f+8hoXULLdBCg7/AR4wKvEPDHlEAAAAAElFTkSuQmCC\n",
       "\" style=\"display:inline;vertical-align:middle;\" /></a><br>"
      ],
      "text/plain": [
       "partition_front: forall_{f, i, j | (j - i) in Natural} ((f(i), ..f(a).., f(j)) =  \\\\ (f(i), f(i + 1), ..f(a).., f(j)))"
      ]
     },
     "execution_count": 26,
     "metadata": {},
     "output_type": "execute_result"
    }
   ],
   "source": [
    "partition_front = Forall((f, i, j), partition_front_equiv,\n",
    "                         conditions=[InSet(subtract(j, i),\n",
    "                                           Natural)])"
   ]
  },
  {
   "cell_type": "code",
   "execution_count": 27,
   "metadata": {},
   "outputs": [
    {
     "data": {
      "text/html": [
       "<strong id=\"merge_front\"><a class=\"ProveItLink\" href=\"proofs/merge_front/thm_proof.ipynb\">merge_front</a> (conjecture without proof):<br></strong> <a class=\"ProveItLink\" href=\"../__pv_it/theorems/8379b6ea159d40f0b426dc98d4ec0afbfe7845830/theorem_expr.ipynb\"><img src=\"data:image/png;base64,iVBORw0KGgoAAAANSUhEUgAAAesAAAAyBAMAAACOm+7BAAAAMFBMVEX///8QEBCIiIhmZma6urrM\n",
       "zMxUVFQiIiJERETc3Nzu7u6qqqp2dnaYmJgyMjIAAAAcRTyBAAAAAXRSTlMAQObYZgAACAJJREFU\n",
       "aN7NWnuIVFUY/3Zed+bemVnZfIT1x9SQbEY0ukFsGA5FZULs2B+ZFDlIgoHWgmFl/TEZmA+k+SNQ\n",
       "inDUWs2oGUmUjWyHFdrSyMGlcOmxG5uBgcsiKrWL0fnOuefcc58zbXTvfjB3zznzO3PP7zy+8z0W\n",
       "wHdJ5iFA6Qvqxd8GyRoiY8G8N1Q0VRMNc6nfin+f/elv/ss6kkLd4b8EQ/uYuXoEH+rSblbaALGy\n",
       "8d2hbBnUEiloC03tdtGR6hu9pIJQd3i8HgRrda65fgkfsbPTrLQJVGkTbhyoQRrHnyqa2u3Ckekc\n",
       "vmIMPODWAfgj8ZypmqLV6sq8XgIYNAZ49QOAYV4b9JpLjmyvcehgq9vNHxmomKoK3YwDogRwQHyn\n",
       "TZLHq7x2wONHBbKnwqHucCWIXb7ZXN1Ln0OiRPapuN+S5KAmesHW7nAncuSQgLrDtb/8Z52yvDOL\n",
       "j+EFXbSkZjOEAj8FqSWbcxDC2sFOkNodflQgx+FUN4N6wDf7T1spmet76PMKKyUjcwgHoYzaySTE\n",
       "8VbLtTXkdrtwpDodeucGgzL4dxMo42b0aMV32mste+81emNfY6X3wmSsmtjW+wtkmoiOSpVRUxnt\n",
       "duFIbWqx2mBQD3g14zvtJZb6XKGRSKmCqxadFNqPfNrINKlUUxntDnpSR4ZvolWEesDT/htq851o\n",
       "o0aipQETvSGdDCt50eZIZd22FmiHfNdp0RvgsMnjRb20HY1msTuxptCLeNzUbheOrOb353Uog7Oz\n",
       "/bsZnbjhu0FunWiq0toyrKROJ2XV1QG6SlOnwVulceQoVGt1WaW1tuX+fxttjqXhNNUxeVaKTBJv\n",
       "IlyH6hgzvfi1pU2BaFf/xg5j+oPWDOQGaC/UKZR+3OQtAPqGn/2i3Wa5v+BRfPTw0iayYukCKFup\n",
       "izjJt3YYH7x9C27oIn+8XJGRuyG0tEKh9OMm5wDO4t8//KJdtRoR1CT9GiTj9DD5fE4VHZ0iNDmV\n",
       "nNxuNrkqJqTxE4c9RjFagH14xku+XdvWK5M4IFrxsuGUMB8CN+iJNPW/hyFawWtZtFvMUhkpey2D\n",
       "3qNIk+lK1nxzRGxv2gnKrjG9BNxrxMl55VOmDcr762/K7WY5KCO5P+bpeLI9lzpz9Ohe31TaqO3E\n",
       "HYFUtmwEHOjgU1g43804lGLZhtxuloaM5HqzLM2Boy1LtMKfO3a87hvte2yjsQaVRlxCRSOtB5VG\n",
       "msHbyQSt59vLWxKWesELbCYXlXSo/16A031CTsBD+jlYhpMdYnrlIvncph8k3XeoQ6hD9heP237s\n",
       "oqxnsoJzCTTD/Vg+O2iTu06BEBJO3o5qMsrWCRWPog+WnRgMyb1kdFwDYX1FVy/Lh+aLTkyeR4DO\n",
       "uou8olt88+JsYA0KMZqSDcUxeFGtyLSfISpjyhS+ImpB/aKroZXOwP0Ww1u/Z2KgWxF9s5B2YuxJ\n",
       "eswrTvaToL3e5gtcArjQfxS082HrdRrTz32c006XZ9cmV5DJzufQWHj7ARzjIrqQWdyvp6OLJNq9\n",
       "aPQ+UdT7PUgKd0OE2stPr8nURSf2qwxg0A4JbX2uqSZvIQ3Au/S3BndWafAZXcULVBfRNQ/ThMnl\n",
       "42ybU9oYn0v/uJJv8zopnIA0tQ4LZ76v651iO4jswWAgAgzaWlFcYA73NrimB+yCaQAEHlkAzdIA\n",
       "XrSLeiAKoAsf757E50dJbL5ekDZ5hDzb14vp/phwWQGHGO0k9ZJYJyorGMCgHRHG76gtnumVHrAL\n",
       "pgEocLwVa8z13sYBpypGLG8bO5RkF0U7dsu0CadVnTWI4HrugjiZqWdhNSlntEKi0cs7MXkEEPDC\n",
       "xK8TEw1KOyrGNpC32+Tglh6wC00DUOB0K7a3q3FqKKN59Gen6BK3k50TKq1KGLTJ7Qud0Tl8R1U/\n",
       "RHIxttrwcEbvFMNQxmV4igGk1RYbYW3DyQNzSQ/YhQbdEBiZ4tAD/8khwttpX0Ubqyd2kXUlxXhm\n",
       "dcigrZLBb4v2cviXxCD5CZI4RymyTnonye9DAKONEcxU3bS9ZPFKD9iFBt328kKTNEArDhEuyqqa\n",
       "urEcvYWsKymmy7E7JE2+FY/UOq6Q+r4BuBe9enLP/QZQZJ3EClYogNJO3Hc9A2ExNMV6FD3SA3ah\n",
       "aQDaJZ3ThsvN0gDuYYay6YzRSdDoCTdMLkb7LltfQiBEzra++7haoAGzmnRv01URX4UnnWJpLukB\n",
       "B12kB92gWruzp9E0ZuYmwmhK/0AWUqOT0B97bKFelGjHbcfMdEppJ0sXo88pY72mnCKnLukBu9B4\n",
       "A3YZOFj5pGkawFVuFofmduDubCP2VVn2bBmHiFUXHTK7vdhJyONmp0019mF02ilO7pIecDiUvMuS\n",
       "XAvxcFdz50oLoJxhEsmy2Evhmm2IUMU9VuuVHrDLEO+ypTMzc9r+pwdgudMmd0kP2GW73kW9mrgK\n",
       "chrg30Wte32n3ZN3UGltuqaypAfs0qF3SU0K6AxUWnvGf+fHct+4pwdMuQApDYDAWAmuJZunAdwi\n",
       "W/67gVZV7p4eoNF/kQsw0gAIjNcgu7h5GsBFfM8FEbnVwTh1Tg+YtSTSZmkApSyZg55pABeFG8A/\n",
       "cVj/Zcc9PWAxS0GkAVLinMzMFUnnAqBtfalresAsUhpABHpn6HgeCyLCk5hnDTO4pAfMIqUBdGAL\n",
       "aQBn5zWQf8eDk95BpRbSALzLSGtwi8RygdAOF4ONH14I6L3rAmUd1D9WS953ENJHFdo/RDpkuFUn\n",
       "u84AAAAASUVORK5CYII=\n",
       "\" style=\"display:inline;vertical-align:middle;\" /></a><br>"
      ],
      "text/plain": [
       "merge_front: forall_{f, i, j, k | (k - i) in Natural, j = (i + 1)} ((f(i), f(j), ..f(a).., f(k)) =  \\\\ (f(i), ..f(a).., f(k)))"
      ]
     },
     "execution_count": 27,
     "metadata": {},
     "output_type": "execute_result"
    }
   ],
   "source": [
    "merge_front = Forall((f, i, j, k), merge_front_equiv,\n",
    "                     conditions=[InSet(subtract(k, i), Natural),\n",
    "                                 Equals(j, Add(i, one))])"
   ]
  },
  {
   "cell_type": "code",
   "execution_count": 28,
   "metadata": {},
   "outputs": [
    {
     "data": {
      "text/html": [
       "<strong id=\"partition_back\"><a class=\"ProveItLink\" href=\"proofs/partition_back/thm_proof.ipynb\">partition_back</a> (conjecture without proof):<br></strong> <a class=\"ProveItLink\" href=\"../__pv_it/theorems/2c6c6f975ba028843a063e1cf231bbf0cad754ac0/theorem_expr.ipynb\"><img src=\"data:image/png;base64,iVBORw0KGgoAAAANSUhEUgAAAacAAAAyBAMAAAAKHQnvAAAAMFBMVEX///8QEBCIiIhmZma6urrM\n",
       "zMxUVFQiIiJERETc3Nzu7u6qqqp2dnaYmJgyMjIAAAAcRTyBAAAAAXRSTlMAQObYZgAABl9JREFU\n",
       "aN7NWm9oHEUUf/d37/b2LlJSlagQE5B882o/SKGhBwWtgiTxg4gInkXBQIqBgLYqckSol4p4+KWl\n",
       "Erqt0taK3gWJGqH0aGsjVuhhpDSgJqB+UFBCUdDEFufNzM7s7mwu7e6U5MFs5s2+99jf7ntv3rwL\n",
       "gDaySrDudFy3wW/XHxMkF/Xai5c9bLblnc2sbYGr5GpshKKf9IKa8rIn8WI+sI3NXoB028d8v7fG\n",
       "VaZsGCZ/hkM+RaapE5PZ6eV/w0v64gqb7QGzrWOMnGlwlcsAnwAbOh4jGmWKHjZP2fqjJT4DONvu\n",
       "Uf76AIQgWN1s6HCYaHTG9rAG9bYzYgZwtI1ybsklCOZtbIQiQ6f/jXnZg/Q6K2YAhTYZ3xp1CQL8\n",
       "wkcYyv2rD1PeZ6sXL3N3bKUzsxcdqri68paxIlMxeyrkeo4PHW83ChkVL/82vV5lMytJnCnfJlN0\n",
       "dHOVBNzD8zLNzdaflIo38yQLtjZQz/ic61W68fzNZu8lCKDc6OraRwa5yjyQdAmf8xGK6t3aQG3x\n",
       "8Z0i/snMxi+RWmqTZRwVO7mMb4iPUFTQV1TcHgSKxn8nT43tQM16VSKBimvLFKlrEOB+mTKf7cey\n",
       "rI377RcqBYyfh/lwYqp8M4+Svaat8PO/HpooYjz+zRWrfaLYJFTqDXei0OI04esJ/15JM3K9xGbJ\n",
       "pUmS2JpQR1x4Ma+7J6SgECp0D9/ORzh6E4C+vx+jgor5MjrzngFntofU34VBMF7B5I/O9JIzeRlB\n",
       "JJeEyoN4+ZWPcHQJ4CL+/T0qqLp/K6E1z9fgqn5OkPGlWgAgKKsiBHHrNEfZCEkLg3AIY6sSeZvy\n",
       "bw6kOs2V/5ClLSto1bqMBBt8VmhxwafozhapoKXPUiCvympELmcVCxNgHFjkMxo3GEHqkx4jYy8/\n",
       "Z0xk/6O1fpSjB/Oa/DenTh2MnCgWBv0rJyHfW5PHRcgQJq8q4jf6bpujsrvfeQsT4Z+lg8TqP9Xq\n",
       "a5FB3V9b5WwuZvM3fJzP19gIDYoE0/NrvRav/VRwxtFXRUamGHH0nfykvR3fU5xFNc2nSRnKIr/G\n",
       "i7nAY9GOjQSKJE4D4gjH6sHUlGKfhYZ9hskMOzyw+zwAUmPn4V5Rv7y4cTCBQQoBq2UEH0wZqJQ/\n",
       "DWO/8KNz/fCFZSfsjQoqu/gEDS87GFTan9cKNci/ddiG091Fa0O6n4H79sRzmHLewWyavI9uKb0u\n",
       "9zMEz+8TZ92J8+npdyWoS2tmvxtvZqqk6E7K9ZnARAGf0orkCk0K9HslWPM243RQEqKZi/dzZVYv\n",
       "TlsfPy1TesA+BWGbmQq5dVHSxAoo10XXVbuxstMggK14OUwP0R9aZQlql+D5/WTFpClyGpqyObKg\n",
       "RGSEZqa3OOwCjy5KFhBIvsyqFMVuBz5e3padknEWTS0J6iHG76oSsvF+ajG1t1odJ6AmDVkmldTa\n",
       "L3Qz05OWLix7dKnknMOdDbJbl6ltM1VZpm7UUZOgnhQ8v58sQ5l9qeTjsohsBVXpIZuZ3rez7NGl\n",
       "kvsc7miQXVlcm0T3kJ1bbGYPAAy5sh+eGIaEycUm5JvwFc6/B/jB+8m1NTMVUFIXJbPiWILril1Z\n",
       "XGMHYahhjtRSdwH0uUAZtsMj9JEaJEqQIWrJ10uQlh/G79mRmpkKKKFLJWnZc6yPryt2ZSamDk0h\n",
       "5kRkscKo4fDO2yGjrzruNZRYAo3NTAWU1EVJGvLFWIutK3ZFIVC4POj80jWTfqTLBQoqDs/p9KpO\n",
       "oq2ZqViWuihpNLCM72iwdcXuncJVe8A57rTSF2puUI85PPfAQC9KrehsZpqsMzYoQEldlIyRKDJh\n",
       "gPcS/XazV9vtHQmeHLxJKW7f+mam8qWk7iwHxWZBoPQ1M2GHzmamAkrqoqRBY/9nvu63mxnVBmqg\n",
       "pLGZ2SZRbHJqA3MFghNFR7c2UEZRYzPT400IytFlkjSJ5/g6HZ7Ogr4Dgz/9RWpmugP72ev9UpdJ\n",
       "UodL4IWs03FLus6E7tbXzFRJ6DLJfY5rnODDbVDjz6N+v4nSzFTJ0eWSc5Cy6dYWUNAWihpB+Y1F\n",
       "aGaqRbyjyyUztSPNN5x1X56Y0nkGz27W1sxUSOhySbOS7m3x9Yx3G9X7zyH+H2nDNzNVml/lOD+v\n",
       "3ksXtYJKlDdC1+WKZnu7NwAm3f8ahwetdafjNE38DyFyHwYWK/nAAAAAAElFTkSuQmCC\n",
       "\" style=\"display:inline;vertical-align:middle;\" /></a><br>"
      ],
      "text/plain": [
       "partition_back: forall_{f, i, j | (j - i) in Natural} ((f(i), ..f(a).., f(j)) =  \\\\ (f(i), ..f(a).., f(j - 1), f(j)))"
      ]
     },
     "execution_count": 28,
     "metadata": {},
     "output_type": "execute_result"
    }
   ],
   "source": [
    "partition_back = Forall((f, i, j), partition_back_equiv,\n",
    "                        conditions=[InSet(subtract(j, i),\n",
    "                                          Natural)])"
   ]
  },
  {
   "cell_type": "code",
   "execution_count": 29,
   "metadata": {},
   "outputs": [
    {
     "data": {
      "text/html": [
       "<strong id=\"merge_back\"><a class=\"ProveItLink\" href=\"proofs/merge_back/thm_proof.ipynb\">merge_back</a> (conjecture without proof):<br></strong> <a class=\"ProveItLink\" href=\"../__pv_it/theorems/6086de2c9d399a3ae8f6d4385b26cc1826071d4f0/theorem_expr.ipynb\"><img src=\"data:image/png;base64,iVBORw0KGgoAAAANSUhEUgAAAe0AAAAyBAMAAACDhZ6GAAAAMFBMVEX///8QEBCIiIhmZma6urrM\n",
       "zMxUVFQiIiJERETc3Nzu7u6qqqp2dnaYmJgyMjIAAAAcRTyBAAAAAXRSTlMAQObYZgAAB4RJREFU\n",
       "aN7NWl2IG1UUPpvdZJKZTLJUa0V9SLsoa30w7T7IarVR0S0F3awP1qKwobTgQtGAUrH6EOuD/aEY\n",
       "QWgRpGHFtVRsUhRKxbqBgq2t2GBRCqK70ipU6FJKW3SXiufcmblzZzI/ySgzeyF355577pn57s+5\n",
       "52cBwi/pAkRYpiJ783dRwoa+2YheHCtZmqkWf/yQKqXqL4IxtnMaoqjDXcyvEeE+Ym0epEpePYxV\n",
       "BSBRgQmvwZwRlDtETkZHUQeXUWtC/zmWZDMS2PKt1vYlqhJnFgAyuESJFhz2Gs0ZQS2JnIxOoi5Q\n",
       "67D+6+gDQirJvKWpsmZ9Peq6c7ray3mMFhlFTqIzUQtGh7uYI5Hgnq5ZmhI7h9NUva6vR7/XaIFR\n",
       "5JzWRfXNGx3uYqRINvor1uY+Vp8krVTWSRc9RlsYBc6Tuqh0mXe4ilH+jgC2anvpAFXnlg2hnsdt\n",
       "OrkaWyfcR3NGmBwUORmdRGXyyrmq1nGi06kPpUgVa3svq6/SwcdbqPmoz0VjMEK+pyVyXtVF1Rv3\n",
       "juodrPP7OSoXrEJmauHjHrcZa2+wi/c6zUgDUo1H8OGo+2iDEdRqtiFwMjqJmp6sfaaLcBdTz4WP\n",
       "e5WtzS4V5QpWPQWQ2bqNu482GJFztCZwMjqJWqXdFuOeYjIRmGy3OeFm2ojgKPPeuDmjpsnGLXQS\n",
       "tW0w5487Fr5ii98Eh32eLOnblz2MeFz+BqNmoIxY6ChKvpa6BnrHiHm+/7CdlpvhG+f2qWZ6rSen\n",
       "q6t6o+mp1zgjyAuiBmR0FKVekRfSIOi1zjZdCNaa3Zpgt02ddm4aj+YouRZrQP6HiHgK2QNvCYza\n",
       "idA5dfoJZt5fT7MO7edS3gFg4n4JDXeP7RrTduMocxDxjCboS34HeA2VlkR7dxvolbTdwgi9ZZNT\n",
       "p6OoZAMGVmod7OdSzgKcob9/hoa7nrff52SnngLRTkVESvsN+yVYGKW8yHnKNHkNEXLZ/StmirCf\n",
       "znklvOvbfnWiM6GULmtGl+ltpNtH4sE3GeO1A0WTU6erfE69/RL2FRmcr3QjPK+k7VW7QNqt3adJ\n",
       "bb3IgZxs9x4Rhsl4oPm2wGnQdxnMnn6otuvU04cO7QtPr+EOA3vcQR3QAMsV/vWtdruefpwxMdAS\n",
       "OA36QXMuhUlwKFlUHX/t3PlmeLjvbwv/2ONMasdxJtUtzkQdnmKyOMNbvKeGy7TZH57MVVfmsxG4\n",
       "BA63Cp6Lx0Fmp2NNy/AKIUObcbmuFwqGWlluKopYXinYDZIlgjVpyGCgKyAwr10cuFHXSxAjxOkV\n",
       "FIXYqFn57FbQP1Y7dIkqJxCWKgzrjxvWFGLM/HnVFDthyCDWIXzHMO96eTHABgmtp3RLYmtsX8B6\n",
       "TcT9gknQCoXf5a+GWkrlNDxIz/PmrBhxnIRhZUwtQtyp2WfZUa85GVIc9xa7u0AxzfPHDoHyQy9d\n",
       "rZoRpcM1tnjSwJ2pLq59LtHH7tpMKvDdh7F+jExDmHyIGc7xewTcZZOAUPABD0cfs5Of35hrMqP5\n",
       "mZIh1ZDBcce4zj7rq887zxv45Ad89Bp8zlbqPFNebLPmn6b68hfaxma4KZRnEBAjbg6lBBn27uLp\n",
       "Hwl35uf184mdWPay+B6TwXErJX6POdzfECBvIL9VBp/8gBdu+p4s09NDhO5TEiZXvyHCjaKwz/sq\n",
       "JgHgg6OM8pGGO838o+wWLnWdIYPj7uOG8IxdjQTNG2TyHdhlrvc3DVZr3A9O5rhPHF+yR8Rd0gjr\n",
       "aEVrsAP7Z2EDPueUYqpFszU2yC3QJzUZL839NjfXYrjjPLAzXWi3zyFI3oDCa752uKuUJn9cytof\n",
       "s2eKDcQqYykTN17CnEC6u0gzkdDWG56gNw/G+6sJim1chucMGeZ6830+3nLyxwLkDSi85pMf6MQ7\n",
       "wmsotRu+TsP+GsT7sU7mNsRM3OjUcQJinW2C2oQ0bXy1gI84dEe8bAj7hCaq38CtIG61adlhYgma\n",
       "NzjJWS/+F+8IVyV+J0x9C2MNXFmsM9XE3YI+3w6cgLOwtQq9uN/oJIzga0s49BJsMs6/VKPtouNO\n",
       "PXAjx5j1PnsoM2je4AIcH/bLD7jHHariMdNMrAY75aa7qOG+ry0WS2cBzzeYFh43WRu6pkiKzFrp\n",
       "veIUX+s+byAvxN6/6RtHcyvcesr8hIt1TLsTN79XE2/FimmCiOW4pXXM0qoAyRAGmczqvFM8tfu8\n",
       "gTK/Um755Qdcy+3ck1hhOL0qbJ3QvF0L7j6bPpKt59Ta+xSTYfpwAnN8wSl+3n3eoPcW8I+Tu87e\n",
       "1Q6Y8k4rCjEve9NuQ4nM/1PeQNq0IzjuCPIGsNZpn3efN6gXDhRAyA90F8wuh497tOCg13py0GXe\n",
       "YMZk7V6vZXPh45ZsF3jAvMGLkC02ffMDbsGuCJxCu0IPmDfYA7HVNd/8gEsJP02E5S4HOzVA3oCz\n",
       "yl0f1kj+z8P+fz3B8gYgsHZ9WDP5KHDb3xoob6ATg/mhRyKJ+aSW2uMOAfIGfM46C4JbZzCa/9uz\n",
       "25XB8wb++QHn0EU+Gty9pWiDiuejevGmSGFH9n/YgjceRZliWu1f0VJQ6/CXLcoAAAAASUVORK5C\n",
       "YII=\n",
       "\" style=\"display:inline;vertical-align:middle;\" /></a><br>"
      ],
      "text/plain": [
       "merge_back: forall_{f, i, j, k | (k - i) in Natural, k = (j + 1)} ((f(i), ..f(a).., f(j), f(k)) =  \\\\ (f(i), ..f(a).., f(k)))"
      ]
     },
     "execution_count": 29,
     "metadata": {},
     "output_type": "execute_result"
    }
   ],
   "source": [
    "merge_back = Forall((f, i, j, k), merge_back_equiv,\n",
    "                    conditions=[InSet(subtract(k, i),\n",
    "                                      Natural),\n",
    "                                Equals(k, Add(j, one))])"
   ]
  },
  {
   "cell_type": "code",
   "execution_count": 30,
   "metadata": {},
   "outputs": [
    {
     "data": {
      "text/html": [
       "<strong id=\"merge_extension\"><a class=\"ProveItLink\" href=\"proofs/merge_extension/thm_proof.ipynb\">merge_extension</a> (conjecture without proof):<br></strong> <a class=\"ProveItLink\" href=\"../__pv_it/theorems/bb508c514c349e1d0c15a2433502965b7be9ef720/theorem_expr.ipynb\"><img src=\"data:image/png;base64,iVBORw0KGgoAAAANSUhEUgAAAnsAAAAXBAMAAACBs5SsAAAAMFBMVEX///8QEBCIiIhmZma6urrM\n",
       "zMxUVFQiIiJERETc3Nzu7u6qqqp2dnaYmJgyMjIAAAAcRTyBAAAAAXRSTlMAQObYZgAABoxJREFU\n",
       "WMPlWX2IVFUUPzvfM++9SaIPUorBhYgsmDQIS2MqUgvK8Z/MkpxCIUFhQOjD+uPRH7JrRNNfSiGN\n",
       "WmoG7kRhbFQ7rKClFIOS7ELGQF8YuCyWUGtI55x775t733v73kJMBB7uuW/23N95597zzj33YwH+\n",
       "G8p3BEvaQ5XVmJNaGFJ7lUmjkv20x6c6CnO1PbsN4i4JzvXdfYckQ2HxUqxcgIwLm6M0GMgqHzV1\n",
       "pCEPUKYh2P8yl+r9gw2h+nwYRiMPGGmD+BQJfuu7+85LhsypywBFMt6BI1EaDGSVs6AjDblB1nz0\n",
       "U1ewj4rsrS1jLaG6NQyjkQeMtEG8m8LU7bf3nLJggJFHKwBnhNQuRagQUKiYSEPOI5JtB47PYD0u\n",
       "2SQ2WPjjPfBUx6MCXwdG2EAuYnTarX67L9sQDDBG1cuym/MiVMZAqZhIQ64PDRwa2l7JJrFBa1pT\n",
       "3Rth2gBG2EB2Th4+vKvvc3eXZIATFO11Kf4pQuWEp2IiTXlgaMWKYHMVYIN2XVMNYDQygBE2iP8c\n",
       "Gnq17+4blAxnblwCkMB5sW8x/nVsdg0GkkphoasjffLA0OyyYIPIIDh3bSuzamGwFILRMo0Cxtkg\n",
       "3gQwHLeEa890OIQjvcoljN6QDHAROYdbgvYD+OOHCKMXpUoSbjaQpjwwNKcrGODbKaIfQRoEuKYk\n",
       "VO3UPIUJJwWMs0H8kFyFlnVUhECRnZACVbdlcxs/oxUI+uQ32CN8/gyfABUImRavSIb8JUorLci3\n",
       "7scfn0Z8sktSZRIu60ifPDA0qy7YTL2c3N+tCtV3kt0QjEYKGGeDOAsJcpy9kJy0ToC5zqma9jfU\n",
       "jM90A5b6jY3fAbwva0GyQQVkwK9dVkncIDHXSRZZeaACBY6iDTHpm1SaqRkd6ZPbU1O/3jI1VfOG\n",
       "lp4WbNBAxVu1ULVJ0RXA+FatudggtjvZ8FTquW+9bF4v1m4/DrN6ui3WxxoVcl/h8yUdyz0J9/rd\n",
       "x1mZRmPNRLuPgT2VDbPIA5ER4b4TqidjzWj3ecAYG8T57hM835uzum+TbN6k7UA1whdmqt7m+Dy7\n",
       "b2L0MFink9D2T95cTc4l/rFy9iFwO6sUyzrSJw8MLVUXrHLfL73Ju0P1ZAcoTDh5wBgb/I7hjSR+\n",
       "cznWD3KA7rvPdF9dNtchdSuIqa7RxO8dTAC4nGEX7+TiQoqsWk+vK7X9S8dASWbykVY7cukYUOkb\n",
       "kfrS4ZNHLB36t+A+Xyt7UrhsRy8dChhng9/xMX+HCara1Ajlxw338aZpgjdPNgahVfMt8y7vkZIp\n",
       "fNdRLi4U2WT15HfKfcfU3mOkIhf+1XQiXwaFKySkExD98P6SQFahqaaQAbk+tAT1PtkWbGaCMp8l\n",
       "ZE9S03sYEzQrbHjAOBtsh5dpWEKr2ofkqULjuOG+lCua8fn2pyD+1Bde7NoqgA/sGj9Xkfv2C/fZ\n",
       "3uZqpZp/q0EGf+YcL9bwInYwS1/kBZBVdrsHZJV7oIcMyLWhJZ+9slzsGor+7RPPstS0Ut3aYQwb\n",
       "6pmlTrCNHjDGBttxml6s5kreVNPcVxMier6G+bIbnBgr5PMZLi6sHRoaKlnVfKfuP7R9BfqhjRb/\n",
       "4JXGZ6CArLLNQJpyIzKYDkoOHtpsF7Sz2EFlyFzvmyYw2oZm53qeGe/z778M96Vd0YzPwkxVeFNP\n",
       "UvgJnqQgbrAbV5D7MiL64OGSeWVg1S70TvDiIsAOph6cEhKIKk/xRk8h/XL+CMYHmPXK4Gixo3qi\n",
       "cO3geg86MM5Gz05hBvI74UsbdjchPc9wH315bKan1W2D00bg7qaqYKQpPsMa5O+5uGBzVFcQq94/\n",
       "zJzdKUI3J0KArqH2Be870FUKOJz/O1fWkH55UDn8wgoNvnSk1xOJC174kA0PGGdDs4PZIb0ADnwN\n",
       "a1qQcM2Vd7tMHtuhsAU3xhUErmmkb6JqgcgRWXThbfi8mwuqv07JAzeENfO61BlsaLeXPJLgla5D\n",
       "LIGH4LnlOtIvD/OT+ji+69LTS3s9ERgnqE42esAYG5odimlx2GipDOi5b5EM+UVi36eA8nxCEzHR\n",
       "4rRIV9dddl8Cc1/sZb0z58t6Z86X9ZOS4y7rJ//FZf1kwE7xbFXe/1uNjW81TfflRLMUfKH/o2AU\n",
       "LvBm2s08Mh91O1Sg75ev/zuyF6p55MCWzb5TR6rDzfikaVDWJ1wHxjnKHsscxwDZz+UqdF8YJb16\n",
       "VPsXU6IZesDn2XU7FyhfPT76B8EKTDfYQ6A+AAAAAElFTkSuQmCC\n",
       "\" style=\"display:inline;vertical-align:middle;\" /></a><br>"
      ],
      "text/plain": [
       "merge_extension: forall_{f, i, j | |(f(i), ..f(a).., f(j))| in Natural} ((f(i), ..f(a).., f(j), f(j + 1)) = (f(i), ..f(a).., f(j + 1)))"
      ]
     },
     "execution_count": 30,
     "metadata": {},
     "output_type": "execute_result"
    }
   ],
   "source": [
    "merge_extension = Forall((f, i, j), iter_ext_equiv.reversed(),\n",
    "                         conditions=[InSet(Len([f_i_to_j]), \n",
    "                                           Natural)])"
   ]
  },
  {
   "cell_type": "code",
   "execution_count": 31,
   "metadata": {},
   "outputs": [
    {
     "data": {
      "text/html": [
       "<strong id=\"merge_pair\"><a class=\"ProveItLink\" href=\"proofs/merge_pair/thm_proof.ipynb\">merge_pair</a> (conjecture without proof):<br></strong> <a class=\"ProveItLink\" href=\"../__pv_it/theorems/47c125b9ac10ca2e5bda6b55f3f4db8f2477516f0/theorem_expr.ipynb\"><img src=\"data:image/png;base64,iVBORw0KGgoAAAANSUhEUgAAAZsAAAAWBAMAAADk7yx5AAAAMFBMVEX///8QEBCIiIhmZma6urrM\n",
       "zMxUVFQiIiJERETc3Nzu7u6qqqp2dnaYmJgyMjIAAAAcRTyBAAAAAXRSTlMAQObYZgAABJ1JREFU\n",
       "WMPVV99rHFUUPtkfs7Ozs2MQxQcRluQfWJuHEmwlKtgiaOOLqC8uUsFAKgsFtdaHfSpJITg+tVBC\n",
       "p2mtUsGMCEoFzZKCVQsyGCjmQdniD1BoCKLSpiLec+85M3dmbqaB9cEe+O7OnfPdb+ecOffOvQD/\n",
       "hdUjBbJFbBq+gSTsIiFrixnixZ39raaIGOCN74cM5z0COLsmRdMDsHowk/jPjvtE+DCwxKXl5yRw\n",
       "kEZ82cSBYkXEFbz125Dh/EoA68otAA+lI/gg8c+uhES4Co5IoDPISXh+injIxIFiRcRJfGm94aJp\n",
       "thUAlp+YAlhTd91WnPk/zjFB2CohbWs54mrBP5oVBbxA/HE4XDg1XwFgBZsj9Jej7G9sAhOEnSGk\n",
       "7UiOeKbgH82KAs2vL1w4MWStnSAAXMZ33aXbP7Hf7cYELKsphfSs7uaIOY5mZkXEjbm5N3f42OnJ\n",
       "WY2vxgmwdt8EQEnUwNIu0bvEtfjg4bYiOGOirN22QspwUEJ0xlsGjlbdZkXESwDzSNkT8UOBN41t\n",
       "BbSOTAn7MZYeNOLsLRAAfhewhVD/EXHxA/vvahGhDA+IZxkoAHyzgfYj0KCE6FZGmWM2syLiMbWG\n",
       "uGN90T6nKlO2NmgdtBn2i2gmxNueZMdRAtT/xJIOoR4+LC4+Yf/paSKsg1j4Gl2F9PQLdeKp8sDA\n",
       "0cysiKhBKTJWqp3pV/vq15KvTow8z557CGqGjkyBI1/TC+xfYVJQ2RI6mwopG5nSiQFmP8fRzKyI\n",
       "cKOafH3B7cKxprX7GI7nZ8ORMxSfrLGlh3MZdEJBODFxJSgOx6yIqA+ewcn11l7RPtpBxtJDWjjU\n",
       "wXogfxxOKcoWm92hupEX+3jkMSaB11ZDK91k7vySFFtMPAbMMZtZUY6YP4i3v8Omj0mF9lNaOKJj\n",
       "zQlbwHVR+uNwGp3sUjDSolm9HPa1peBuJon7+lKgl0KkE51bbvFSYFaUIz6SWZjAmfw+Xjr+F0k4\n",
       "3BG2n/xxOBXeTFziVXkZSwaXywO4O9wDzj/qE84kWUTlvkL6Q9LWiZXNRclZxq0LauBF0ttOUarK\n",
       "RU+FarfibMdzZ4H/8XHpf2Xj2sZGJMOpcvr2cWUd4Egt3NT+DPAazsjKJpNgN638yepPJuskIR6K\n",
       "JKf2hrh+FWuxw02RolRtykXgXpndd6T2TT2cm2BhhV+HZ8mfvJ1OdpPzJeibHKxH1HZ7TILDAu8S\n",
       "8pscjUicT/PbmwLFRNXZgvpx+NyFkwFUR7VwqvHOS5CFn+7jEt/sp7egjc71ZDeptqDI/9iLiPS8\n",
       "/C5tuwVNiPHGsp/f3hQoruovu3o/nP8Kng6h1NPCKcW77VqAfnW/vvuvFpTjT9W8RO24qj5bpRcP\n",
       "CEsCr9NJYb7+t92G7Q4IYlBMVAlGXivHK1DUVDEl6vsf8gxS4dixYinMfI+8zPGtOe5rJzH5VJjF\n",
       "byeZ9OJeCtY2Ht8SIielmV/TChQTVe/qNB1nG/7Bt4PksbmD1suE81nh4bq5zeF6nXC7w/X6jg/X\n",
       "6zlVd4wCFwmZndEee1Y7Ij9JIpzPNtxJVs4tKul8l4L/3zP/C7zxl/AtSX4TAAAAAElFTkSuQmCC\n",
       "\" style=\"display:inline;vertical-align:middle;\" /></a><br>"
      ],
      "text/plain": [
       "merge_pair: forall_{f, i, j | j = (i + 1)} ((f(i), f(j)) = (f(i), ..f(a).., f(j)))"
      ]
     },
     "execution_count": 31,
     "metadata": {},
     "output_type": "execute_result"
    }
   ],
   "source": [
    "merge_pair = Forall((f, i, j), Equals(ExprTuple(fi, fj), \n",
    "                                      ExprTuple(f_i_to_j)),\n",
    "                    conditions=[Equals(j, Add(i, one))])"
   ]
  },
  {
   "cell_type": "code",
   "execution_count": 32,
   "metadata": {},
   "outputs": [
    {
     "data": {
      "text/html": [
       "<strong id=\"merge_series\"><a class=\"ProveItLink\" href=\"proofs/merge_series/thm_proof.ipynb\">merge_series</a> (conjecture without proof):<br></strong> <a class=\"ProveItLink\" href=\"../__pv_it/theorems/3c3945e5f9f62fafd2d63147d38a936683e33f5c0/theorem_expr.ipynb\"><img src=\"data:image/png;base64,iVBORw0KGgoAAAANSUhEUgAAAswAAAAyBAMAAAC6+JBpAAAAMFBMVEX///8QEBCIiIhmZma6urrM\n",
       "zMxUVFQiIiJERETc3Nzu7u6qqqp2dnaYmJgyMjIAAAAcRTyBAAAAAXRSTlMAQObYZgAACZhJREFU\n",
       "eNrtXHtoHEUY/3J3e4+9zSWIzxb1bKBIrXiSqogWg0JVUEn6h6iIPaoBK22J1Ed9UM4KGqvBU5Da\n",
       "Su3WaKtttSfa+gBtSKpifXRRUQupRtQ/KjScthF7rdZ57szszt6dyeUwXKbcZXfzm2+++e3MN9/3\n",
       "zaQAtShnnzgOU7HsmVTpZpb+3Hfi99oInLlu/VRk2RqYXPk30B+vrXuzNvJOmZJjGWZPsvzmEXbR\n",
       "1cg0J1vV+w3jFJMP/NVT0zQDbOpQTWlunHKWVGyhoWl+VL1N5ccp542K86WRaU6W1Puvx72SpgN/\n",
       "9fA0zbGMev/AuB231sBf7c43PM0/qkYi0TNuSb9UepWNTPNK9TaEGDFnLblysPzI1SGGgl26UqPT\n",
       "bBxR7+MOwHb4Lr0KQoPBYQtFAPzKH7Shzw/EQo+Soloi849GpznssaixAsBe2GdfC8OwK7AWRQAU\n",
       "+IOb0eed4FZGG53mpqznHvm4NvSiq3ugxQ6qRRGesii4lQvyDU7zIsdPMwCa5OYYNBWC6/3xn2je\n",
       "6DQ4zRfk/UYDjDH0OQoxJ9ikj2GT28bfw5V4Tlwt2easbs40MM2PgH8JfD9UhDlGCWKBAQdBQDgy\n",
       "wu4HSnwJ1Jd4T4PTfLo3lstA5Fi8mHDQaG5Kww5EpPkPeq5cUAS8ZrFBm9iGaby8TIRYpDST13Jg\n",
       "4jTXRE4di3nY8yDSA+biOW0HsG1u6YDYg+jZfdiYZPkFekIReOhHelFZA/G07N1pHOcxSvNn+Mdv\n",
       "E6e5JnLq6Tb7ljI32Kaexvt+gyEuW7hh3/EK4r6nUjNd8Dwe+rmJ01wTOXUsyWPeJ1+LiAP7zf4Q\n",
       "RXriGtsPrbKpIzZpuiCFXpxVmDjNNZFTx0Jns7Ja8REa+hzH3T7u5Cfn8ovNn5ZLhKLyJ6W5ee/W\n",
       "rWtrsATWRE4dS+ioj0ZlLjb7X4x0vVr+xRPl2vmLDf6/ensfLodLqLedQZ5GJTnVl2paDCz5soKE\n",
       "LKvkq1r1JlX02hky/WW3A85iNHez13G5wxIhyAAQbTqERZISJW8H0dxd4bV6Sof+MdZigGTL6Jgb\n",
       "HNC3qM1SfIHY431gqqc6FdWFrHBp/OMg+nH1Gy2nMZqvAhM7Y9asAZYIQcsD+aZzKJpXEyVh1oKx\n",
       "Yg+ck5VoZnKqLfrVEmuBWjR4N3AWJ1xtnwbnkn25m1028rwrrupCVrRYH+N0N6M5BiE8jlMdeiJu\n",
       "9VowTO22ofnwrmWHbYlmJmdiNGMteItZ5luZ2SpF/oJePvMGogGqC1n1ptlyYsQTtPVEdHsfH0TW\n",
       "6Mn1NnyQzliy0WByJkYz1qJbIGgW52CVIpEZiDIbEQ9S/WAtjMZ/KfczmhMjN2I7/vR8ngiBly6T\n",
       "iOjxJkrOx/YBlZ07n1VopnIGL5rtW7KstoXdATR74ESLHojMZgiaxTnfYxs0TeDy/WEHTSnahzhT\n",
       "nXVFqO7Kso7Wh2a+BMITdxAl3UQIZG4QROAdMjVRsosF1jut129VchpYTsheHvNZnznRkXv0NLvw\n",
       "O3Ho6hAtUIsWmVqYZpLFUZPsviaiuG4fekeowlrWhzhTnXVFqO7KCo2V8TQSxPy9V4VTRO3ke8Ho\n",
       "UznNb5FYsd1NhJj5jwUREfStJkquAZP4ATthYEihGcsx4BDA9mHVAHWmsDL80EhKotkHbyctrn9H\n",
       "jOamNGpRCV9xHboyS+KwGchg5Wgf4lR13hVXdSGr+Yjeb+5vQ5JfxW9etKEtLhDetDEyAH2Y09xC\n",
       "ops+YtJooNMn0Zz1JkpuA2Nlb+9qRPOGmEIzlYPm4hrv+Z0WWQNTsc0eeB9tcTVER0fPGj1Eszi3\n",
       "eTRXprupZDIXkD4sH/1pdNQhqveBorqQlfTRTI/DLN1doBZ8WQXPyQXCtwSpR5vHOc3NtssUToS4\n",
       "/aDjLedNlCygPgCiObJQoZnIMYoGtIJnm22RJsSg1HL4cpwRd4gg1KJZ6mQIksVZ4MnGoDqK0cB1\n",
       "0QhvQpVuYn2Ic9XdV8JUd2UZf2tzGuaRl1FPmNtebpNbARLkYLnUEa9VgsQanAh53gajVRBBsk9K\n",
       "omQY4CN8/Q25lGjGZaM1YiVa4V4kBonDX+hf8UsUKBxgrlZylkSzCxda4BaTIwMMQbI4w0Ia+sJ1\n",
       "oJk3zcVhItFr3kJ1JDRj1Y1Wj+rD6mz2ZeiS2M+LsWG1qVzqSQYS5KbgDFWXlG01ZuJESFcBQjlp\n",
       "vD3oTZTMQ51A0yWyqoN6pwrNm78Z3Et46yoYZ0BX3jjDmGkuu26unbiFZQuTV0k0u3ChBW7RXJpn\n",
       "CJLFmSekoStcB57bAqo4oFtFMZvoSD0NpHoo51F9ngtf5V3NiIIW/l4refFBRQESpBZNHRqXZjz8\n",
       "acRU4BaaanieN1GCTdC5vat9wbYoRZghBY4sDotkoL+9vb3AvdmcChdakBYVxIgkjV8hdhVxbNKH\n",
       "CpLffJ672AhBwoBe4c0l4babL1yRIeG62ZYmGyqBCT4OBHNWjiK16GhRpjn1bSdzSZL5O56xpW7G\n",
       "PYmSpBOQ0xAFr2ni0C9zdHiS1Ozp8NAslkCiBaVIQqAWhTR+9Rmo4gAOdUuV4vSLd0UIEtr/6InH\n",
       "4o67jqOF2Iq0SsfAdYEUA0IYzqRILbopJ9NsYRPn0HTf0iVyNyOOmijph4o0Yw9NZA1Zx1K8V4tt\n",
       "D83CoSNaoBbVXFu/nIPkV+4+zWJeeZAM3Oul3FzEWaocPe5XtF/kSY6TnW3YiF/0QwAvhBFpyTLb\n",
       "IhwI++EYRWrRG9OK0dCUjDIa3VijMs26su5FvXRdqdxiYl3QOFOOzvsFSbJ0x2EAduOvkwFsPFqN\n",
       "MnkPDgQ7UqJILbrOx2GGL63p1sdQfsIywkUdzZ9w9nbb5Wl2gWQxDKT5cagrzf+/EjmiMxqPAbMF\n",
       "j3HHJ6C4QEhlKFKLbvijirBCtwSexGJR85hVfgk8yQ2XdxSCl8BQwx+89boaxB8zyRAfQkOzuAHZ\n",
       "lQFxGEY9GiOA1LwgJPn4HI1sw9PcpNJC5nykyAOdZQ7Z4XJPxYijMffbChAuAboXltKkZ6f/KML3\n",
       "Jz442LaIn8ljaBxq+k/FJG0VuIIht2ja+BkanmbOgRRF7ko5bjDKkkF+S4BzJgJ4S2IsOHWUnDFN\n",
       "MzyjzvJ4Hlayky10i56kN9O+ai+hjwtMHI9nIDAROv3nl+AL21DM/xXz7l/lvGtOxZCwVgAXz2fI\n",
       "uMaVvx2maQa4WL31blLtryyBbVLt16Obc7WleYr+Rw/R9OTKr/V/9DBV/9uSeZMq3byL/tx34vd/\n",
       "ATf87KNSAodBAAAAAElFTkSuQmCC\n",
       "\" style=\"display:inline;vertical-align:middle;\" /></a><br>"
      ],
      "text/plain": [
       "merge_series: forall_{f, i, j | (j - i) in Natural} [forall_{x_{0}, ..x_{i}.., x_{j - i} | x_{0} = f(i + 0), ..x_{k} = f(i + k).., x_{j - i} = f(i + (j - i))} ((x_{0}, ..x_{i}.., x_{j - i}) =  \\\\ (f(i), ..f(a).., f(j)))]"
      ]
     },
     "execution_count": 32,
     "metadata": {},
     "output_type": "execute_result"
    }
   ],
   "source": [
    "merge_series = Forall((f, i, j), Forall(x_0_to_jmi, \n",
    "                                        merge_series_equiv,\n",
    "                                        conditions = [merge_series_conditions]),\n",
    "                      conditions=[InSet(subtract(j, i), Natural)])"
   ]
  },
  {
   "cell_type": "code",
   "execution_count": 33,
   "metadata": {},
   "outputs": [
    {
     "data": {
      "text/html": [
       "<strong id=\"shift_equivalence\"><a class=\"ProveItLink\" href=\"proofs/shift_equivalence/thm_proof.ipynb\">shift_equivalence</a> (conjecture without proof):<br></strong> <a class=\"ProveItLink\" href=\"../__pv_it/theorems/0f3c880e5d7a8fd7a73def59e6fb029d92c2a5e60/theorem_expr.ipynb\"><img src=\"data:image/png;base64,iVBORw0KGgoAAAANSUhEUgAAAzAAAAAZBAMAAAAcbdZLAAAAMFBMVEX///8QEBCIiIhmZma6urrM\n",
       "zMxUVFQiIiJERETc3Nzu7u6qqqp2dnaYmJgyMjIAAAAcRTyBAAAAAXRSTlMAQObYZgAACQVJREFU\n",
       "aN7tWg2IVFUUPjszb37evJkNMyoj2HVLxAimNTDBaitQK8Qx6A8qJ+lPEJuSdvujJoNataVHhUpg\n",
       "Pq20NmqHaisDa2grK0mGjMroZ6IfKHBbwqTWiu65//f97VIEW3TgvJk395zvnb3fveeee98C+OX6\n",
       "PhdiZILm/+XvyqK+BqT67gw2VOP9qv933T8suQq5bPzPEZNrMuWyBS/5SUzyLexjF9cQVNMwRHZN\n",
       "+il+wQCFCmJa2PC50fNF/Cg0o4gJeEwpeYorwONdLtg1gHQNVsZ52N3zgRpCfgakSdek3VBUaWjf\n",
       "Ez4607H883ASd5dDGldqyonZi7//YPS8UycfRS+KmIDHlJLvuQKser0OReznJjwX55HeewSoIRQq\n",
       "YJNhZ7dCUZVhsRTOcCvuMSKcL8Man9OUE7MZv9aMnqe3myNTWcBjKkmhxJR006EnAPazX52OGJeh\n",
       "C3qkIcAbXAOommF7XTQ8b5i9ETcvRThnhLligEI5MTgznLq5iOB02BtJTMBjKknGZUry0hi53MZ7\n",
       "5agYl9dBGQJs4xpA1QyXeuHEbIt5igxnWpgrBiiUE1N4b3Bwk291/2xw8OlqJDEBj6kkm7iSsUP+\n",
       "gpz4K76JcdkDmiEUe5gGUDXDPRBOTMBPnxM8nNzPoa7fKBVV2S/9/Xf6iGnv77+/EV2V+T2mknRx\n",
       "hcJpa0qQICloeze5G4n22H/sXKCGsH02dmCJaQBVM/wads83eze3oHtGiJ+WDEU4hTEfMQ+PdHos\n",
       "QK6CmGsB1vl6Pl2GrBtNjN8jvGwl6sOwIm8C4vMsT9CuwAa4ktFF0nWWlJaNc8jNFzHP+gmYIZTa\n",
       "yLXQYgrOKJUSSERhaB9JPPK72bvnuMUx7hchIpx0zSQmdTz8yAPkKog5j1cTC5qy51Ol6DqmKjwS\n",
       "bHh8S7STrq32jexJzI7MOIc3s76rQV7N9EQp75/2ndoC7fBBKuRFDZ+3K2RM4BLsDq4AWwmbmTrk\n",
       "6meRm5djRhDmFmIIBRcX9XyVqSF3GIb58Tl20+hd+0RI1kL8NOHhQFuHScy2Ji0HXlYqiMlAAp/i\n",
       "zGyoHWQVTtVBr37gjLkaMczDYqMWq4AM65dF9JqVNf1K3kx5mUsc56sh7ooba82b0FlRIKKsv1wP\n",
       "IOkqfFH2G+WHRJ7OlS3VbT1g04G+fIJVmRgSS1zUrTGmhkw3DJNHs1/3jY7eNDr6HcY3DpmOED9f\n",
       "iYHOy13T9WwPbuYBchXEOM2MsXAhMe+rDf4zI2eSYuK9ORox3EMrOFmVMqIRcwUJUyxTaTqRiOMO\n",
       "3WkHB3/F8ZKeAqFk+Rc4uwL6QhFoV8iKmD28J/Lj8cTgqkwNmUs0MdIws2Ktb/Fvq8FQOZ4YEU6n\n",
       "z/U4sH8OJybXuoTmQE8j5jGrIhatDY96ULcONDViuId27qbyuyDmWrpSgfoFiSnqSwO5oeC7O0qO\n",
       "OR+Up7nBG4hul8gqld3HE0+2YoL7hbZn6Pz7mseJKtaYikxl0nCoZ2uP2btDDTojUjGpTIRzn224\n",
       "2r+xmbhIqTwrW3cNEvDgmRox2Y04tbtXl8l6QlOJY5yVoUdqFsXtwr9oxKI3v2rE0IzHmyUxCUEv\n",
       "OpMbCj48/BBF5yB02wBwbkUeZcwiq8mpCh80ZHZQQsKUyGrxn8aX6qF6I3bxp0mfLv72EdAWf10G\n",
       "DMMvGaZOTB1W593YxV+E87tjEnME0q1doYs/vEB5/kTv+fw8ctlZXu6xgzE4MGwQgx4OnWLJFBoc\n",
       "fBHzkHWUIgYr9k2iWRKTF72NzuSGgg87z14BHCTdT2QAPRvjot9vscjXl4Diq3aGDCJMiSzKTrLT\n",
       "5rXvUjyAXAD2H9iBLX5Rd2T8c0OW9JINpoaMGIY3QHvZJCbbUeh1qJ8BTr/Qiwrn0HZzsq2FjysN\n",
       "DFCqJKad1glzjePjn+gvl4LNTjc6GgYx6PEoLXSedhDlME0tiZqWuMj3xaJZEpMSpSI6p2oMfBga\n",
       "9O8+rPLTYsg9I7JCsmRVKZbABw0ZeJgKWaQESI3xh6Y/ZyVcHxk7GZqN8NKLX25Hw6UiOkjipVhm\n",
       "GszV0nADJLo9sypbcfLGk6gfxezVn0IfrMLZ3zCJ2THz8hU9rMbkKokpeEYCpz3yKdETYBZYt/b3\n",
       "rwXH8XL6EkQ92AKIs9OatoENG40YAr6QNa8e/Wp0tEmDslqwGMe8h85Wi4EPwxasJTgIlYUUjJm2\n",
       "1RME6yqFDwI5he3raZiI7DuScWraSYuN0zV4KvsqXt4BYZjBgbKTa/BIRhlCxM5/p8A0yz7PH07I\n",
       "kUxVqe99zDH+Fy72rzAwCHRcXnglOK6/eZwOq3YXh/Iy3E62XayIIbsWuIw3azOmojmTmwqbMamL\n",
       "gIOkcbk9iJ5DT4qKz81+6lEqCL5qZ8gyTIksDjFfKtJVRzvEdIJ5v4HZ9SDb/4Pl4VYj8hBTGeoy\n",
       "GDjEDJ6Y4IPNcIKuIYeYsqsCb8KOtw414S38ViqpskY051uN3HqAZbDZy3ZcmiAf7QlFDDKP42eZ\n",
       "/AU3X4WGcsYbCv4hwGcCRI2810Q/trnLlzCLdr2dIcswJTI9kyB6K9sh8wMMvNkePPAlvZBZ3+KG\n",
       "Wxv38qP7kOP7dZph9AFyi2H6BB9shjOpY39RJ1UDxCw8pasJWdwSX7dqX29gQq1yrRMAZsOyetFN\n",
       "n0w+km9qVRlJtRkPm/kvuXmHOyDZo5zxBsFTd/WQjQ4HEZnDgx3visBWPE/qxdMVPmjIMkyJLF6U\n",
       "fcC2nHZNshV88VdA7XK5YbqrybsuG/aiTBlGF94uw/QJwprhQAjxSk1iCqUAMUxm96/1H8mo7ElX\n",
       "Gl631vVdC5xCklOdL0RZudswth4GuLGPTwReKrQMC4kMQeSwV8uFyb9aPsDVf24zmVfLByb9lMAQ\n",
       "cZWaxBQ/KkcQE3JWJmVX+vwZ4oW6fK+eldcaNuvE7NaBjBvfW3n/wMo3TQuBHA72LxeDGGcm/AVi\n",
       "mum3XTF55RxmNKTIEFuCzfygmU5k/VTcuPFngCW+hz7usxDI4WD/JWI06Yv/x7G+if6vLMlnU/Cf\n",
       "UxJe1E2gwvR5zpmgPRbsXyaL+iqQ6uv9E3K992yeGugfAAAAAElFTkSuQmCC\n",
       "\" style=\"display:inline;vertical-align:middle;\" /></a><br>"
      ],
      "text/plain": [
       "shift_equivalence: forall_{f} [forall_{a in Integer} [forall_{i, j, k, l | ((j + 1) - i) in Natural, k = (i - a), l = (j - a)} ((f(i), ..f(a).., f(j)) = (f(k + a), ..f(i + a).., f(l + a)))]]"
      ]
     },
     "execution_count": 33,
     "metadata": {},
     "output_type": "execute_result"
    }
   ],
   "source": [
    "shift_equivalence = \\\n",
    "    Forall(f, Forall(a, Forall((i, j, k, l), \n",
    "                               shift_equiv,\n",
    "                               conditions = [InSet(subtract(Add(j, one), i), Natural),\n",
    "                                             Equals(k, subtract(i, a)),\n",
    "                                             Equals(l, subtract(j, a))\n",
    "                                            ]),\n",
    "                     domain=Integer))"
   ]
  },
  {
   "cell_type": "code",
   "execution_count": 34,
   "metadata": {},
   "outputs": [
    {
     "data": {
      "text/html": [
       "<strong id=\"shift_equivalence_both\"><a class=\"ProveItLink\" href=\"proofs/shift_equivalence_both/thm_proof.ipynb\">shift_equivalence_both</a> (conjecture without proof):<br></strong> <a class=\"ProveItLink\" href=\"../__pv_it/theorems/45e9626f069d69cee9c7d429001cb7e9d575aca30/theorem_expr.ipynb\"><img src=\"data:image/png;base64,iVBORw0KGgoAAAANSUhEUgAAA8IAAAAZBAMAAAAI1IrvAAAAMFBMVEX///8QEBCIiIhmZma6urrM\n",
       "zMxUVFQiIiJERETc3Nzu7u6qqqp2dnaYmJgyMjIAAAAcRTyBAAAAAXRSTlMAQObYZgAACidJREFU\n",
       "aN7tWn1sHEcVf767va/dPUeBCtoKdI1paiWqdDiI1qoLV5BKCWpz6R+FSoEcVoEURdFBS1xChRYj\n",
       "FaclYvlQElVKc0nAaV1RnwouGCnklEANDa1WFAEp/ThUiFSkGKtqEXEAMW8+duft11niD+S2o313\n",
       "szvzmzc7v5k3b2YWIBw+N+FC37CiTG+F/2vITdzLJRJaK0G33mrAVRD2S3lTMlzyhMhwKD6XuQJL\n",
       "dSgpYV5KMiAVuoIXSFE6HzDcw+gLhLwK/tleOsMR3OoKD0uB8sgo+3EA8k5MtjvTyvChYF4Wk5x3\n",
       "hYRRXM+xIRdj5a+Fxwp/kk/tWYjFyl/1ejzSVywYPoOJfyPkWR32V2mnMxzBra7wihTIn7nIXhbb\n",
       "JK5LP5ZWhg8FuxnXAXpCQoEDYOfJDo9VapH0WixMC4jFyttL8UhfsWD4II54h5DHbw/2sdIR3KoK\n",
       "dk0IwOzmOsCzWtLjej6rmlJIBEqxcEoKDRxQfu37IjbYCWP5k1NppgOxWPmsk4BUIhjGsWp16BSL\n",
       "Q/NMH4YjuFUVCq4QgJP48+UklsprUgqJQEMMH5FCAweYSzK2pR3G8idHUtRyLFZ+oJqAVCIYtp+a\n",
       "mTkQcqKen5l5pNWH4QhuVYUDUgAW0Ba1Eln6S0ohEWgIW6kLoR4SB1gtGVuIYBcUNCkgllf+cCMB\n",
       "qUT60v+cmro3xPDg1NQ3uv186TBuVYUhKfDsOzYBZJjJOzoSaunvnr6CjYnTyWX4UDg6HMKWxkaY\n",
       "72XVhJDAAfZ776qJ2MtwYpRiz627LgamTTCI5ZV/CRKQSiTDnwHYGyIv34Ci24/hMC4+uPzSg5F4\n",
       "IxondN9ITjICHUkQmhZo2ycF4FUmReZkdW+g7ZW7FP7O/l5MeTcFhdqAR9v6BrfCTKndEwLwzCKG\n",
       "l0EBYLAqYuWLme/9m2DL/2nPuhIWHxDLK78DEpBKJMMflp7bmOeTl6tpTuQtvXiGBS4jOttfsXeu\n",
       "5dFp7uHlpEXhF1RUoxsOmHWtP5sRa9SVg0uFH+tJUoWslgQTBSGIJatDACx8RQqUcMVR6ECp8wHa\n",
       "Xkc8uJb9/SRlRSqhYLvKX1Jt/S7uBZktIdQD4FnRwGLMXN5Qpr3DXEYKzZRJkhtnrPxaSEAqkQwX\n",
       "IIM6rHXdYDOjBVcHjaQMxqe/ee0mjWGBM8Qg4dW+W3R+Xrmiv57EJaWpCN7EEkeDMeWqG+OuX8AV\n",
       "TbmIvF1/n6yrry/vJtUa9desZjyEpeVaEQALb5ci3JaBOpT5iMTB9oXFxXMs9sE2fJH9be/j8TAo\n",
       "w3IfJ8Bml6HABpqxJISEgbpy0jCWfZt4qmF7MNuNwsIOHqu8cSEJqUQybHkFMrdjizytbVpVkL1H\n",
       "T1/PXL+nNmgMS5zmdy5rPUIwbHTxkgQp+qd10LQs/KdWO4vNtE3PzUv1l5rbfBVNWa1pqSMRwtJ4\n",
       "dQiAMMzdFmxrc5mOiHdC+fV0hn1o4C9J7IADs41UhhdkrDA+GfK02KJ2SyeV4QX5Apk1ScgQw6Xe\n",
       "bdy6tzWGHzKCJfwgGxH2Aw+2oWOc9TSGJU7b6Ra9Qkw0gmE2oeeV/SyqPBWXrv954SeqNbS2OLuD\n",
       "ZgPUvoRMkiocWS1eElVAIehQeGEAsdLFprScxSZpr/K/xBj9SHJL+1D0l0hbs6F0Ur6sqLGYh88F\n",
       "Vvo+GZutH65T7KCH5iOXYqXvky9QbLYTkErUvvTeO9BD+9b1GsPF/Wh8RnZh421f93k253LrZ5F9\n",
       "acTl1vPmGOrwwXtrU7akau4Cv+DodTrDGdVPEMxueOFzc9+xZMEfaqrcx9az+f1q3W4IFY6sFi+J\n",
       "KqCQgqwOARBPi68psRfMdrqE4YuQ782nelo+FDNThjuwy3Q1T0vvF7wKa2XspbBeGKyzWTzV01or\n",
       "X2DQS0KGPC34Ee8vf9TJM69hP8cb27GTXNUeEpvQcHaOMIw4iw/9bA4zVP60GS3dVm1AHRALt9ot\n",
       "OsOmGi0IZje88Dnrh9vkarG7LHOXv2Sw6BOwY4oFD5OkCkdWi5dEFChIHiH7MG0rhAEYTkthg0hO\n",
       "LFtK1OOZhD80WQuOMReV+6mYt6dFNGjEwher9m7WX7NdIdS21/i2lIztgMEG5SnvFWsc5mujugUW\n",
       "Kz+4uRqP9EUxzL1v2ESOjV7lTz4uXvXFMp9ay9UuYRhxD3Jf8xGLD15hYYc1hm/iV9l9Umc4p/Y6\n",
       "EZxzROFz0MUWZ2mlR1syd7ZmtHgBYsQ7vgpHVEuURBRQCEaGIwCQxpcb4C2qVvkXKEvT624fr/NF\n",
       "wgR24t1oEZoqsodAIdsKrVvGr9z/HuHgEyffB+SWZOwByIxQW1seeVqsDbgS1Bbo5jXhWKy8PQbx\n",
       "SF8Uw3Yb/NWhYvg5JpfDejGnv9+4Z2pqEiyrXdIna46bDEzP1uEOBE/47438wsJ3Lf55cdHjb2X0\n",
       "4CYcYm3MavRE4XNwCM1trokjQOYe6GTY7adU0zSFivzi4rsXz2O1sKSQAgrBtMkIgOxa/grSdy3R\n",
       "5kTPYH4GBFqoxe5pHZcS3bW0nMiGJ8UeV0qo9972sQU3BamEng9fQhjGl7sA+2bY/zKjmhu3j30S\n",
       "LDecabmhvDEYNtbg3yWNgOFP8AvgAhnDTQ3MbppiDOduFetlmP2BzD3rFp9rM5Z2oZviYZJU4chq\n",
       "8ZKIAgXJI+Q8pvHqEIB28mA2zwenATLMhE8erOhU2AUNarTV9iHFJp88PFHxwlpD2FNCSdjCg4+1\n",
       "aylIevJAlzoaeXCp8ZpXuh/22A78Eu9rtcCzVJnMXpdlYZMd+500WlX2t1QNGD4u+pKxRj3Bdbjd\n",
       "DcB4wwv/HcDzcLCNY+bnlsw94G6/GR8HwwlVSMKwWjYqJwooBNOWKECl7OVSuF8M6sQdPNz4ORo9\n",
       "3WFlBtDD3a/HnwHFnx4yXfc8lq5VQKPHWlgTiU3aT4w5PaRLHZ3hGzcOecblcNtvWF1w5+azO5/Z\n",
       "HRnoO12WhU127PcVGG+wv7G65ku38YKMI5+UrvlHFbL1AIw3WHjuq3W2nt3aATb5TP9a5s6NP84c\n",
       "/PcpnXuAq5CEYbWydaaPKAhBWBqvTgBQKeILAHtINHI56RgU2zF6bmyj+ND8UPzHEkhgMfYLgN+O\n",
       "pmvlMDv6GPVIrPh8IVlp0Q0zHIx6uhKTm0XDU5PhXUs9y6Sf0SSL00wHL5xZteVqhZy/kMI7sDGy\n",
       "uPVHwUb/kROAzRgFASTTiQDUluOKvuKx/5eveM5KSQakQvuEhK94zuqKdYYrv2/EMzyfePIQZMl/\n",
       "9DI/4zxlyMHrjm+3dQJO6AWRG7aGLIYZNv03KUYYPsH1RRQEEJXTidP2xg86w9Y6iGfY68+wl3/S\n",
       "9TN6lI6b8dp5p34yVNYPxsgNGqacFzpHOhasM7zQgRGCvagCDYL6Q4A3K8NamFjJp9B9M2X9URn+\n",
       "XjHTTrqJNRobkpMkOPJB5AZiFVK1vZFDbmI3yn8BzCWXbpKcV04AAAAASUVORK5CYII=\n",
       "\" style=\"display:inline;vertical-align:middle;\" /></a><br>"
      ],
      "text/plain": [
       "shift_equivalence_both: forall_{f} [forall_{a, b in Integer} [forall_{i, j, k, l | ((j + 1) - i) in Natural, (i + a) = (k + b), (j + a) = (l + b)} ((f(i + a), ..f(k + a).., f(j + a)) = (f(k + b), ..f(i + b).., f(l + b)))]]"
      ]
     },
     "execution_count": 34,
     "metadata": {},
     "output_type": "execute_result"
    }
   ],
   "source": [
    "shift_equivalence_both = \\\n",
    "    Forall(f, Forall((a, b), Forall((i, j, k, l), \n",
    "                                    shift_equiv_both,\n",
    "                                    conditions = [InSet(subtract(Add(j, one), i), Natural),\n",
    "                                                  Equals(Add(i, a), Add(k, b)),\n",
    "                                                  Equals(Add(j, a), Add(l, b))\n",
    "                                                 ]),\n",
    "                     domain=Integer))"
   ]
  },
  {
   "cell_type": "code",
   "execution_count": 35,
   "metadata": {},
   "outputs": [
    {
     "data": {
      "text/html": [
       "<strong id=\"tuple_eq_via_elem_eq\"><a class=\"ProveItLink\" href=\"proofs/tuple_eq_via_elem_eq/thm_proof.ipynb\">tuple_eq_via_elem_eq</a> (conjecture with conjecture-based proof):<br></strong> <a class=\"ProveItLink\" href=\"../__pv_it/theorems/d8fb4435686c0371ccfb05e453e59f46afef63fa0/theorem_expr.ipynb\"><img src=\"data:image/png;base64,iVBORw0KGgoAAAANSUhEUgAAAkoAAAAZBAMAAAA8iBzaAAAAMFBMVEX///8QEBCIiIhmZma6urrM\n",
       "zMxUVFQiIiJERETc3Nzu7u6qqqp2dnaYmJgyMjIAAAAcRTyBAAAAAXRSTlMAQObYZgAABVFJREFU\n",
       "WMPlWW9oHEUUf8nt3p+9P/kiaOyXawJR/IOHAStINVDwm3Lth4pQyHEYBKkSLPY0FAnxg1elcCjE\n",
       "UKhsLBg90Sy1QSOIZ6JfbJWDFrRF5SDoh4q11Co2UXHe/Nmd3Z2b3aiQKx14uzPz3u8l7zczb2fm\n",
       "AKLK47UGXNfFqB2KNpqE677MXlssHeMStyx38REfvcxY6uDrOy1LBXzl21tPkjXNJHZJNlQ+3rpR\n",
       "jxJ6RFMPs3AK2xe0LOUc8irYW89SocEkPq0dpY+1CNiah6YeZmGOPDPTWpaoeq4HFtwZLvHLitLH\n",
       "RgRqQ0KvUJZwjtDJoslLONVO9QBLz3GJX+ZVPoz1iI/auoSepyzlv2g2X4vI3t82m2/3QBLPTDLZ\n",
       "zBodU/jIRfhw9YhGId+4P+r1QxEsDdTrL7a2nqX+EhN4dXW7Pku6BrmSwkehOuxoqRV6RKMQliYA\n",
       "DocMWz6WkmVI98DWMt1mYgzCL/ol4xrkafr+6iKWNeFj8YJ1VQd39YhGISztonm83096yceSUYL3\n",
       "IneoF7V9hgrzcCfKq88i5TCZb8O9AGb3Tw4zwJCywcWF+E9suKyDU71AoxCWUtBP+DXZXDEPfAbb\n",
       "K0GWiNwZOdKr2r60MgGUopz6LPrGmDxgw9NgjnbPLtSAhmReCqgQfz9Yf+rgqHfRKISlXDvFte+s\n",
       "7oQPc3bCDrH0ZYwd+E/aPiVLBScy+zoKlm4C6zcyO7v/S8yAjrqKpTUwNnRwqhdozlKms5ev4ZeP\n",
       "2vBxsZSD1dEDo47M0utmJZKlq9o+JUsDkcnOZ8FXHBno7CUdS9yALvRJLy/9KHz8BYl1HUtUL9AG\n",
       "W3Fw+DFSH8EERcrS0iu5UF6C9CwZAuvup8ohj8dHfuCjdnkk9N2R+hhLARfjQ0+EQ/SZ+Cx49rY2\n",
       "INlZ1rFEDTAknr0DX4ArmLg0LKHeRfPsDe/jFmLAZie6pdy7+8IsZXeQx0J53IaknwrrGZPQjsj+\n",
       "KZLvAkHTvo7EknCRrJNyBG6xh4MOmUlBtijISQplBr6utGiYi3iG+BtYxWtRAwwJEi1FonsSXgAd\n",
       "HPUuGgVZGigCHP0ALMrMErRWwyyRnA8wCo+A+ak/qETJJHrsSxfznX03BwaO9IEtsRRwMQPfBx1S\n",
       "E7AkC68hFsCbQ49Wx2gtNUW6D+JCqohHzeYGJCSS14KzH1HH72iDDo56F42CLOVt+u+Yz9brM4Sl\n",
       "YykFS+eJbAMyC1P+oPqc/opIi4kKTAVTZaLiW3EBFzfAPUGHzARkiy4nFLpkPgotl6w0BmRmKk85\n",
       "ceACvSDdL1nrZaiwuWTsIa9y+H6J7LSONINBLTbS5+0TRZyRdp8TZAn7qJKz5LpIYjb9GdYJJwGH\n",
       "1CQ7JFmQhvK0S8MMnwhyIIXU5bQbA+6iVySWsp0WfI6Vs+TU1uUWbtC80sag5uzMS+LR1xh/CE6W\n",
       "SC1lfwPIkqdjfSdL0lwSLniZyk9jy4OQB5pkd0kWXoMeANxDAG73rGIozDdACklxcyLwEXCB5jcn\n",
       "nLr9DUiTj6Tx/Bgku7D04O3DNMTdjjkIuxv4cIzqiZ14gCF9+1uUJXMb1zVYX7IssSRc8LL3NF1/\n",
       "HoTUqMmEbDGhvIXL7Pi9CPnwB8q9LKQhKW/h4sAFOt0I3ujeWp+JvNHFEL2dHqstGKKGKy7r1y4Y\n",
       "wf2Sf41hy4OwmjUpHeXlxmZvdM/9pxvdc8LDZu+9zbvug6w7QLyWvI3X9vzqSHfNrI8o/SyhC79D\n",
       "6Xqa16oykdUtvyX9N78O5LU1b8r75nNa9yfailovlRgs1f6X3+MScM0Wo3bwHzav5Rz7Ig0WAAAA\n",
       "AElFTkSuQmCC\n",
       "\" style=\"display:inline;vertical-align:middle;\" /></a><br>"
      ],
      "text/plain": [
       "tuple_eq_via_elem_eq: forall_{i in NaturalPos} [forall_{a_{1}, ..a_{_a}.., a_{i}, b_{1}, ..b_{_a}.., b_{i} | a_{1} = b_{1}, ..a_{k} = b_{k}.., a_{i} = b_{i}} ((a_{1}, ..a_{_a}.., a_{i}) = (b_{1}, ..b_{_a}.., b_{i}))]"
      ]
     },
     "execution_count": 35,
     "metadata": {},
     "output_type": "execute_result"
    }
   ],
   "source": [
    "tuple_eq_via_elem_eq = Forall(i, Forall((a_1_to_i, b_1_to_i),\n",
    "                                        Equals(ExprTuple(a_1_to_i), ExprTuple(b_1_to_i)),\n",
    "                                        conditions=[ExprRange(k, Equals(IndexedVar(a, k),\n",
    "                                                                        IndexedVar(b, k)),\n",
    "                                                              one, i)]),\n",
    "                              domain=NaturalPos)"
   ]
  },
  {
   "cell_type": "code",
   "execution_count": 36,
   "metadata": {},
   "outputs": [
    {
     "name": "stdout",
     "output_type": "stream",
     "text": [
      "These theorems may now be imported from the theory package: proveit.core_expr_types.tuples\n"
     ]
    }
   ],
   "source": [
    "%end theorems"
   ]
  },
  {
   "cell_type": "code",
   "execution_count": null,
   "metadata": {},
   "outputs": [],
   "source": []
  }
 ],
 "metadata": {
  "kernelspec": {
   "display_name": "Python 3",
   "language": "python",
   "name": "python3"
  }
 },
 "nbformat": 4,
 "nbformat_minor": 0
}