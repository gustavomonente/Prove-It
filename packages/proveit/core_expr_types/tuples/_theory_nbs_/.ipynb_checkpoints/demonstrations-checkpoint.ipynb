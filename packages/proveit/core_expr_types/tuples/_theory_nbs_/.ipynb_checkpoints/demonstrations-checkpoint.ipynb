{
 "cells": [
  {
   "cell_type": "markdown",
   "metadata": {},
   "source": [
    "Demonstrations for the theory of <a class=\"ProveItLink\" href=\"theory.ipynb\">proveit.core_expr_types.tuples</a>\n",
    "========"
   ]
  },
  {
   "cell_type": "code",
   "execution_count": 1,
   "metadata": {},
   "outputs": [],
   "source": [
    "import proveit\n",
    "from proveit import Lambda, ExprTuple, ExprRange, IndexedVar, safe_dummy_var, defaults\n",
    "from proveit import A, a, b, f, i, j, k, l, m, n, x, y\n",
    "from proveit.logic import InSet\n",
    "#from proveit.logic.equality import multi_var_substitution\n",
    "from proveit.numbers import Add, Mult, Neg, subtract, Natural, NaturalPos, Integer, zero, one, two\n",
    "from proveit.core_expr_types import Len\n",
    "from proveit.core_expr_types import (\n",
    "    a_i_to_j, x_1_to_n, y_1_to_n, f_i_to_j, f_i_to_jp1)\n",
    "from proveit.core_expr_types.tuples import (singular_nested_range_reduction, \n",
    "len_of_ranges_with_repeated_indices_from_1, range_from1_len, len_of_ranges_with_repeated_indices_from_1, \n",
    "len_of_ranges_with_repeated_indices, len_of_empty_range_of_ranges)\n",
    "from proveit.core_expr_types.tuples import general_range_of_ranges\n",
    "%begin demonstrations"
   ]
  },
  {
   "cell_type": "code",
   "execution_count": 2,
   "metadata": {},
   "outputs": [
    {
     "data": {
      "text/html": [
       "<span style=\"font-size:20px;\"><a class=\"ProveItLink\" href=\"../../../numbers/number_sets/natural_numbers/__pv_it/theorems/2c629b73e558dcaacbf71c0a050e9fdf89a4ad830/expr.ipynb\"><img src=\"data:image/png;base64,iVBORw0KGgoAAAANSUhEUgAAAEEAAAAUBAMAAAAgmk0yAAAAMFBMVEX///8QEBCYmJgyMjIiIiKq\n",
       "qqrMzMzu7u5ERERmZmaIiIjc3NxUVFR2dna6uroAAABXsXCEAAAAAXRSTlMAQObYZgAAAO5JREFU\n",
       "KM9jYKAM8BBUwUFDFcU/mgsYLn58gMeMJrYDDOwfGA4bGxobK2BVcSRhFQODADZbNFxcDED0uXae\n",
       "BAYHLCoylkMZp3PYzREq+O7sXjULLA4UhalgXZCDUMHL0cVQvwEcgBvgKhjuMS2Aq0hlMWDYn4Dq\n",
       "+dMMPAXHQCq4QbyC+gcM+mDxRGMgMICoYD/ALADXEM/AcBjM2IFkBkMuG0LFZAaGT+wgBiOyCqaA\n",
       "BjhXloH1Oy+IwbkAJnQMiG/DVXD/Y+A1UAMzXWFipiD1BjAenwMD96EAMLOmrwBMp3wE6mc3wBYf\n",
       "b1tcMMUBZP03a848vAYAAAAASUVORK5CYII=\n",
       "\" style=\"display:inline;vertical-align:middle;\" /></a> <a class=\"ProveItLink\" href=\"../__pv_it/demonstrations/960d300fb9e51b7f5294e7976237e8c5ff8c35e80/proof.ipynb\" style=\"text-decoration: none\">&nbsp;&#x22A2;&nbsp;&nbsp;</a><a class=\"ProveItLink\" href=\"../__pv_it/demonstrations/6400906a9c26fd50381fa95da4735ac6e08e0fd90/expr.ipynb\"><img src=\"data:image/png;base64,iVBORw0KGgoAAAANSUhEUgAAAXcAAAAWBAMAAADJMcGGAAAAMFBMVEX///9UVFQQEBCqqqoiIiJm\n",
       "ZmYyMjJERESYmJjc3NyIiIi6urp2dnbu7u7MzMwAAAADGpxCAAAAAXRSTlMAQObYZgAAAyVJREFU\n",
       "WMPVl09oE0EUxr9mt3U3zaY9CeZU6MFWsWzBSw81KXpQi9hDRZGA9aAggtaTVhCCaC8WXUHpSYxi\n",
       "LzWUWHM3lxSpHlYPCr1kEaQoSFpEQWzFmZ3ZPzGz2bV4iA+6M+18b+a30zdv3uIL/gdLmsI/v7Kf\n",
       "aq5VsSWDPhPFJvDvW3fTd4jhl2csB/5c68K/E8J36NohDq+MtS58Ii+Cvw4scXjZaF14rUcEfwlI\n",
       "mwz+XitnmvMi+HXghc7g52jCyZ7cE2Wu+5XH5t8TRPUSUFQE8No3Ap9n8FfIz6LRsQassrQ6GTh7\n",
       "Zz8uOoL4cjkiO/NybDVYyCi4FQr0Oe3CL52ldoa+4wZQ4/D7ybv0oX0SH8dt9mOZwNnf5nDcEcxg\n",
       "MCK87eUYW0Qc4DYFN6UsdZNmr2DnVbLztTKD3w20b0Im57rENioY/pSJw45gFF0RI4h5OVYK1HEK\n",
       "ZnIRm6SphYQNgY9NompFgN8J7RcXkE5MjwbPvMLhOQUz0usNgKcHNq27YVMtI41weG0D0hoXJH9A\n",
       "jlZWMC/lxOe5EHhGcfP2PL14agYOcrU/5k/T7mXgjuke2KqO7aSOCIX/iraJIQ7v/x83h7e9lMVc\n",
       "zAiBtylu9aGfwrNYmw65pEg22pZXRhL+na9OkEW/gz/c367iRnfZ3flY3hsJcKAd5vXgCT8jJf9Q\n",
       "ndCmUFcyLNgN7CJNVgQv69oAh6ezpRbuPvXDy0dIZwT8IdNzf4As/Wb+U6roxnxX0dPZknoHu0PH\n",
       "mVcKi27Y0LlsTZ2QUbTlO3tYzP8kzQURvLb8yGooD3xhM9xYnrq5xZ9thkNixhsfQDbpLCKZwcKY\n",
       "1V62nGyjZUJKYq8wI0l11oREHRovoIT3Ghmo18jFPCjU1Zs7rq5hdB9xY5m7ifAh5OfWrBkfo3le\n",
       "XJj56/kp5xY/msIHXR1fz0NrPIsrLgYRJHsRf01eWgs5s954ZzcKOeJGF/HmEgifIf6SYKBQCSyJ\n",
       "Az9GWO5WGrX1eVFCkK7O/hyXRHOJhPwKmWoCv9DwGShFrI+HtlYkRnXjGIrdxK2IXkpE3RY/e3P/\n",
       "DuM36rERrIeR+goAAAAASUVORK5CYII=\n",
       "\" style=\"display:inline;vertical-align:middle;\" /></a></span>"
      ],
      "text/plain": [
       "{n in NaturalPos} |- |(a_{1, 1}, ..a_{1, x}.., a_{1, 0}, ....a_{k, 1}, ..a_{k, x}.., a_{k, 0}...., a_{n, 1}, ..a_{n, x}.., a_{n, 0})| = 0"
      ]
     },
     "execution_count": 2,
     "metadata": {},
     "output_type": "execute_result"
    }
   ],
   "source": [
    "Len(ExprRange(i, ExprRange(j, IndexedVar(a, [i, j]), one, zero), one, n)).computation(assumptions=[InSet(n, NaturalPos)])"
   ]
  },
  {
   "cell_type": "code",
   "execution_count": 3,
   "metadata": {},
   "outputs": [
    {
     "data": {
      "text/html": [
       "<span style=\"font-size:20px;\"> <a class=\"ProveItLink\" href=\"../__pv_it/demonstrations/da7b99d7fd3ee9a3f126f77af71b1263140e55f90/proof.ipynb\" style=\"text-decoration: none\">&nbsp;&#x22A2;&nbsp;&nbsp;</a><a class=\"ProveItLink\" href=\"../__pv_it/demonstrations/50fb44271f822e199ac040d6de6677587d3532220/expr.ipynb\"><img src=\"data:image/png;base64,iVBORw0KGgoAAAANSUhEUgAAAXcAAAAWBAMAAADJMcGGAAAAMFBMVEX///9UVFQQEBCqqqoiIiJm\n",
       "ZmYyMjJERESYmJjc3NyIiIi6urp2dnbu7u7MzMwAAAADGpxCAAAAAXRSTlMAQObYZgAAA2ZJREFU\n",
       "WMPVl0Fo01AYx7812UzbpetpYE+DHdwUZ2SC7KDt0IPbEHuYTGTiRBRE0HkQnTAo4rw4tIKyk66K\n",
       "u8wy6vQomsuGTg/Rg8IuDYITBWmHKIib9XvvpVli3tuy4qE+aPqa9/++/vLle1++wFf4H0bE4J5+\n",
       "RY/BVLViS2lyrM+tAv++eoO+kQ8/N2qW4U9VL/w7LnydpnZZ8EqyeuHrMzz4ywCzFrycrl54tYkH\n",
       "fw4gbjD4W9VcaU7z4BcBnmsMfoIUnP7DW/34uj1z36gAwacZh2KGA69+R/gMg7+In+l0XRHgE9Of\n",
       "F/5RuBXOYt0dXCc7M8tmaRb3HRHqKEVoTnecumrDz54k4wS5xiWAggW/B6+lBWoH4WMv9Z6uGRB5\n",
       "f5uCPogcTKwTnpopuhTF+UtoFCY4pRiF7Y5zOziRD2LkCzqD3wJQuwwy7usnbP9GforcHzWgGwO5\n",
       "XnhqJudgGeddUBAVCEbRAw2OO19YI20QPjAIebMMnwv+ElFsAvV3BfDUDP+gGec9MJ4TyCgFKgPa\n",
       "6vBkw8Y1O23yOsTBgseH8rLovi6BVCzDj1yf9PmAYGYY8H30Z1y0pSgF3nYZ2xXl0BdSSCiSM+eP\n",
       "kekFgBuGvWHzGjRiH2HBkwziU3yDmoEOC/5aC7T6hKdmBZpyOLpFOkpxl2WwMp0KpF0blv+Qwmq0\n",
       "IaN01tuRxxN53LPqD7AO9q9LcCWqM/jgfILksL0ksCATZoaR30wLQtKx4tJRCox8AOHvPGCp38+D\n",
       "lzW1zYJHZDU2dfNhGZ60C/J+nHSCdZBJmdiLvt5Mfo7lrMjXZMJNDiHVuC3ohKxTM8x5updGLF9U\n",
       "4tJRCsz5BgIbg2miPsODV+fumZ72gME/hWcAu7ztqZ2qDD5g1uomT+ge9rpVbcJ62HT48uqsatMG\n",
       "/RHETKzREq80ZlhUx4zI8fZhAN3bI61cRgKCwzAO8mOTJ3QPez2UlKJottC+03D48uomsM6PGcEi\n",
       "9OwWNWbOfn6o/BA/EIMPWqBUKoLq3bPz9jOidzETaYZHEHoBPKH7Dq+sZ2cAzbaVSg5fHF3odRIp\n",
       "wlHIpkQtsfBlhNVYxat1v25J1reyRuD/Wpd4vji6cqUfWgV+yvMaKPnsjzsqaxJ9mpUpFPodMn16\n",
       "V3zqKnztTf07ij+iqx/zBBJAJQAAAABJRU5ErkJggg==\n",
       "\" style=\"display:inline;vertical-align:middle;\" /></a></span>"
      ],
      "text/plain": [
       "|- |(a_{1, 2}, ..a_{1, l}.., a_{1, n}, ....a_{k, 2}, ..a_{k, l}.., a_{k, n}...., a_{0, 2}, ..a_{0, l}.., a_{0, n})| = 0"
      ]
     },
     "execution_count": 3,
     "metadata": {},
     "output_type": "execute_result"
    }
   ],
   "source": [
    "Len(ExprRange(i, ExprRange(j, IndexedVar(a, [i, j]), two, n), one, zero)).computation(assumptions=[InSet(n, Natural)])"
   ]
  },
  {
   "cell_type": "code",
   "execution_count": 4,
   "metadata": {},
   "outputs": [
    {
     "data": {
      "text/html": [
       "<span style=\"font-size:20px;\"><a class=\"ProveItLink\" href=\"../../../numbers/number_sets/natural_numbers/__pv_it/theorems/2c629b73e558dcaacbf71c0a050e9fdf89a4ad830/expr.ipynb\"><img src=\"data:image/png;base64,iVBORw0KGgoAAAANSUhEUgAAAEEAAAAUBAMAAAAgmk0yAAAAMFBMVEX///8QEBCYmJgyMjIiIiKq\n",
       "qqrMzMzu7u5ERERmZmaIiIjc3NxUVFR2dna6uroAAABXsXCEAAAAAXRSTlMAQObYZgAAAO5JREFU\n",
       "KM9jYKAM8BBUwUFDFcU/mgsYLn58gMeMJrYDDOwfGA4bGxobK2BVcSRhFQODADZbNFxcDED0uXae\n",
       "BAYHLCoylkMZp3PYzREq+O7sXjULLA4UhalgXZCDUMHL0cVQvwEcgBvgKhjuMS2Aq0hlMWDYn4Dq\n",
       "+dMMPAXHQCq4QbyC+gcM+mDxRGMgMICoYD/ALADXEM/AcBjM2IFkBkMuG0LFZAaGT+wgBiOyCqaA\n",
       "BjhXloH1Oy+IwbkAJnQMiG/DVXD/Y+A1UAMzXWFipiD1BjAenwMD96EAMLOmrwBMp3wE6mc3wBYf\n",
       "b1tcMMUBZP03a848vAYAAAAASUVORK5CYII=\n",
       "\" style=\"display:inline;vertical-align:middle;\" /></a>, <a class=\"ProveItLink\" href=\"../../../numbers/number_sets/natural_numbers/__pv_it/theorems/12ab02a6aa52e45203d5ea4187476fa00e51b3b50/expr.ipynb\"><img src=\"data:image/png;base64,iVBORw0KGgoAAAANSUhEUgAAADUAAAAPBAMAAAC2KZqIAAAAMFBMVEX///8QEBCYmJgyMjIiIiKq\n",
       "qqrMzMzu7u5ERERmZmaIiIjc3NxUVFR2dna6uroAAABXsXCEAAAAAXRSTlMAQObYZgAAAN5JREFU\n",
       "GNNjYMAExT+aCxgufnzAgA00sR1gYP+AVYrhSMIqBgYBVDENFxcDEH2unSeBwQFFKmM5lHE6h90c\n",
       "JMd3Z/eqWWARIB8mx7ogByTHy9HFUL8BJMKzAS7HcI9pAVAulcWAYX8CSISDASHHU3AMKFdQ/4BB\n",
       "HyySaAwEBhA59gPMIHfGMzAcBsvtQNLHkMsGkpvMwPCJHSTCiCzHFNAAZMgysH7nBYlwLoDJHQPi\n",
       "20A57n8MvAZqYCFXmJwpSCXQZj4HBu5DAWChmr4CMJ3yEaiH3QA1zN62uCCLAADDBTVfYPhN3gAA\n",
       "AABJRU5ErkJggg==\n",
       "\" style=\"display:inline;vertical-align:middle;\" /></a> <a class=\"ProveItLink\" href=\"../__pv_it/demonstrations/ae391d9826b91c10e5ae372a80d2deb0325dbbfc0/proof.ipynb\" style=\"text-decoration: none\">&nbsp;&#x22A2;&nbsp;&nbsp;</a><a class=\"ProveItLink\" href=\"../__pv_it/demonstrations/645e2e030e54f5cb3b1788150fb7ea5e37e6e1bb0/expr.ipynb\"><img src=\"data:image/png;base64,iVBORw0KGgoAAAANSUhEUgAAAaUAAAAWBAMAAACS1Z7yAAAAMFBMVEX///9UVFQQEBCqqqoiIiJm\n",
       "ZmYyMjJERESYmJjc3NyIiIi6urp2dnbu7u7MzMwAAAADGpxCAAAAAXRSTlMAQObYZgAAA2FJREFU\n",
       "WMPVl01oE0EUx1/zudtk05yK5iR4sMUPcvDSQzVFEVTEHlqVUjAnwZO9qYXCgvZQhJqCpSpIgthL\n",
       "lRJrjx7WQ0XsZZWC0EsWRURBiAii1BTnc7vZndlMc4pz2GyG3/v477x5uwPf4f8Yu8lznVzvd7Ca\n",
       "AU+e3qGbMpqwxkQHa+oqiTV9kNKETZQ6WJNRFGu6KqUJO93RW+mtUJM2LKUJe7qjNb0XaoqVpDRm\n",
       "9UJHa0pURZruyWnMduNlnF97bCsE0MfHDreRl7KZII30sEjTIkDq1YOlMXfi5d6HixVCYzaJumKq\n",
       "H64BZGgD/CKPuVJK1EOBMDM2MvI2S9Pw7Zwi15S+QgbZSTfQ3+Qk1NwStK5XjD+Exmwsj8rQhIuQ\n",
       "GSVV+HlE3oT6ID4RBoSZcUmj8lonafhGtCBapxMAn2JFKDvYPfaaPwX6NqExG0EFe9mGM+gx0Wir\n",
       "0pjxBsQqYUCoGV8MuSaaRvPI1EWaDgLYtSrcxfc1tJKGsQVandBc0wEwthU0RSag5uxeEzNrrYmm\n",
       "oagJjgP0kh6YxctZh66iqwnVnvEXz7XWVLOwIwpol74tKmqiZtOzS8Phmmga3DHjUwXffsqy2oML\n",
       "AL8NtxaK0GPamGY9wviJRA4oaMpDb7TENK2YEcUPEGp2pw/6W2giaXDHjN/pEd6BegQcgmgj7dYC\n",
       "em62xXsEbpaTcDtreTQZv4BdSLHym2RFG0oz0Y+eQI/tY4IWO2b6ZgEaXJPEgqRBHQPn45ZI0xoC\n",
       "tiBdnOUT5Sq81hxMr7MY75a+5qredTqJXxNDvFjJzTkUOLc895QvZA5WGOgyPotsk1lXJbWPa8Kz\n",
       "PgvsiKZBHXM+4Yg0rRI/+p68Z2LuFqGbv408mqLBN/Cg1yEaR2A8IwQlZhEnbjk8ymCA23FEHXN+\n",
       "Y1ffRhv+b1jU3PUpgKO4IIO45d4hYMHW63D2mBCUmJUh9sJZsOkLxwpwriPiGOVB+Ha/YZNMsz7y\n",
       "o5LZD/PncwCbwQ3svmEw8DGfysIzUwTKzJ5D9xtkh6N4Zt3hOiKOUR6El541boafNZrOhFH6EzxF\n",
       "as1/eSGbLTT5zJidFgR9jlge7IGrngkxvRw4uw+otedom+dIZTuexwy5Liue3WeEvky1kFqbJwdl\n",
       "O7PNAPAPXTUqwGVoDisAAAAASUVORK5CYII=\n",
       "\" style=\"display:inline;vertical-align:middle;\" /></a></span>"
      ],
      "text/plain": [
       "{n in NaturalPos, n in Natural} |- |(a_{1, 1}, ..a_{1, x}.., a_{1, n}, ....a_{k, 1}, ..a_{k, x}.., a_{k, n}...., a_{n, 1}, ..a_{n, x}.., a_{n, n})| = (n * n)"
      ]
     },
     "execution_count": 4,
     "metadata": {},
     "output_type": "execute_result"
    }
   ],
   "source": [
    "Len(ExprRange(i, ExprRange(j, IndexedVar(a, [i, j]), one, n), one, n)).computation(assumptions=[InSet(n, Natural), InSet(n, NaturalPos)])"
   ]
  },
  {
   "cell_type": "code",
   "execution_count": 5,
   "metadata": {},
   "outputs": [
    {
     "data": {
      "text/html": [
       "<span style=\"font-size:20px;\"> <a class=\"ProveItLink\" href=\"../__pv_it/demonstrations/7cc09c98ecfb9e17e526f1da13e3b72edb4d583e0/proof.ipynb\" style=\"text-decoration: none\">&nbsp;&#x22A2;&nbsp;&nbsp;</a><a class=\"ProveItLink\" href=\"../__pv_it/demonstrations/c1592f9fdca1c1960f13c4a0ca0b2ac42012f4c50/expr.ipynb\"><img src=\"data:image/png;base64,iVBORw0KGgoAAAANSUhEUgAAAXMAAAAWBAMAAADA2mH8AAAAMFBMVEX///9UVFQQEBCqqqoiIiJm\n",
       "ZmYyMjJERESYmJjc3NyIiIi6urp2dnbu7u7MzMwAAAADGpxCAAAAAXRSTlMAQObYZgAAAytJREFU\n",
       "WMPNl01IFGEYx/86o+3XrJ6EPAUe+qIaMQgPskod0og8GEIYGVEQQdkhykBYojoJbZB4bAu6lMgS\n",
       "HaP2opB1mDoUdNlFqOgQq0RBpG3P+zEf676zM0mHGfCdZ33/z8Nv3nne530G3xD9K20p//2aj/Fs\n",
       "NKG1HBtThQboH6K64FvV6EvTZRv9fFTR3yvRW01jUKLHhqOKnsqr0G8AixJdz0UV3dimQr8MZCyB\n",
       "fi+61eWCCn0VeGkK9EesyIyd2BMm1szCQ+vfCUJ61UMsKNCNH4SeF+jX6O9prnUFqdGTvJBO+AZP\n",
       "7sQlCniFgSSWiiHJhZcM+8VfxyGkYG6Ojbcd9MVz7DrLHnANqEj0g/QkO9AygVfoYOTH+32Dv8ti\n",
       "FKlc0zjZ0+gOic69ZNhPI/6ZzSGEIFbU2um2X7HqcVr1SlGg7wZa1qHnMYgK27FJf/RTFoZoW6d/\n",
       "kX0EbSFzh3vZYZ/5ygSEEOgFrNOtEpAwhN48gVKZYO4XGqNvh/GHwsZ/gxnNZjh07hWMLiCEgIwu\n",
       "H3S2TTOmkzClIjLMzFgN0Y01aCvshKYVoZXXwzUQ0isQXUJwAb3+w9L25vppZl4F7ljONi2Z6GAd\n",
       "wxAao39H03gv+HtNi9cbBl14BaMLCIHOc8yzTdVHElWgLfnYQIpUwzZ6iTai8RNycH5dx832oqhZ\n",
       "tOrNeXfGx4EZ0stFd2dqdBLCXvVddBtToeumsVeis2Cd83efALdgo+tHyRiAHHS22w9RMr19/LWz\n",
       "IDoHSt+2gqvjkloHbrB54eVZdRaKS2p0EsLOddpPuKhCN5YelDc2AslismwnTF99C+rUk+d44VSY\n",
       "voBscec96JrVQOepMEZ/QNPrtF+few5YsxY05lB/3KSc3v9Mz1R8ig7hbqWu9nLnKSx5iVLdSEeC\n",
       "WSsxzOq6uv3y9uuT8te+ahXLZnxkNQ+jfgd+dIpYtbqS7kLiDT2yEbBT3XkWlrxmjnV6Qil0TLBs\n",
       "Ym7Bt+n1/dQQtTpWr62thBr8dDXXhnlNFUqhkwfGZAP0+boPPC1kB9y7qU4wpJeEiPFbohwyeCyk\n",
       "bnOfs9n/BvEXUgYXc//p9LgAAAAASUVORK5CYII=\n",
       "\" style=\"display:inline;vertical-align:middle;\" /></a></span>"
      ],
      "text/plain": [
       "|- |(a_{2, 1}, ..a_{2, l}.., a_{2, 0}, ....a_{k, 1}, ..a_{k, l}.., a_{k, 0}...., a_{1, 1}, ..a_{1, l}.., a_{1, 0})| = 0"
      ]
     },
     "execution_count": 5,
     "metadata": {},
     "output_type": "execute_result"
    }
   ],
   "source": [
    "Len(ExprRange(i, ExprRange(j, IndexedVar(a, [i, j]), one, zero), two, one)).computation(assumptions=[InSet(n, Natural)])"
   ]
  },
  {
   "cell_type": "code",
   "execution_count": null,
   "metadata": {},
   "outputs": [],
   "source": []
  },
  {
   "cell_type": "code",
   "execution_count": 6,
   "metadata": {},
   "outputs": [
    {
     "data": {
      "text/html": [
       "<strong id=\"expr_range\">expr_range:</strong> <a class=\"ProveItLink\" href=\"../__pv_it/demonstrations/0d5b4e8b9c443d03d2fc71a7797b4195a7662f8c0/expr.ipynb\"><img src=\"data:image/png;base64,iVBORw0KGgoAAAANSUhEUgAAASkAAAAPBAMAAABKNSQuAAAAMFBMVEX///9UVFSqqqrMzMwiIiJE\n",
       "RESYmJgyMjK6urru7u4QEBCIiIh2dnZmZmbc3NwAAABRgo0vAAAAAXRSTlMAQObYZgAAAZtJREFU\n",
       "SMedlTFPwkAYhl8LojVA2By6dHBhQRcWEw1NXIyDrMaFwR/AP9CByamuMpCYaOJimrgYXfoH3HAS\n",
       "Iw6OJqiDMXGwXMtxx9fCV77hcr17n48HrrRAsfd8DUZ9PN67SF1Mikic9pcGQFXMM/VEbvkGxzJQ\n",
       "5UpxqUkJ8wqFOra64vqllsidN/A0CoRpTjEpIlH4RdYDWuFXS7Z6dbEnAy2uFZMiEit1dDYYVpcw\n",
       "v9NbMSki0fGxjtlW5h+MQWorLkUkOjZWjf5sqy8sNCuprZgUkVj0ck5e02wG3X4QDfLqEEclX+0v\n",
       "dxKA4YRQ4x0tRyRM6/btTl3I7gYTB9GQLQXDTvDIOXvYtk5UK5kTER1wRvuEGrYSES1HJKJSFsrk\n",
       "Bzbkg1A9i/KM4xvvK5ThTskRqzXg3YUxXPAJlx/71VA8EOm4nF5+HJWfllMkwhfDvoVNu9j99GB6\n",
       "hGvLF0MQyFyIdFxOv9O9OKo9JadIKGWLMUc/oKGfJ5JyWk3sG3GtYnL25N3T5/3dK5inmBSRyDH7\n",
       "N+ayYlKhxD83f5zDN+A+sAAAAABJRU5ErkJggg==\n",
       "\" style=\"display:inline;vertical-align:middle;\" /></a><br>"
      ],
      "text/plain": [
       "expr_range: a_{1, 1}, ..a_{1, j}.., a_{1, 1}, ....a_{i, 1}, ..a_{i, j}.., a_{i, 1}...., a_{1, 1}, ..a_{1, j}.., a_{1, 1}"
      ]
     },
     "execution_count": 6,
     "metadata": {},
     "output_type": "execute_result"
    }
   ],
   "source": [
    "expr_range = ExprRange(i, ExprRange(j, IndexedVar(a, [i, j]), one, one), one, one)"
   ]
  },
  {
   "cell_type": "code",
   "execution_count": 7,
   "metadata": {},
   "outputs": [
    {
     "data": {
      "text/html": [
       "<strong id=\"lambda_map\">lambda_map:</strong> <a class=\"ProveItLink\" href=\"../__pv_it/demonstrations/b0cfdb62b1f96466ca371b78e5955a617b1fcc000/expr.ipynb\"><img src=\"data:image/png;base64,iVBORw0KGgoAAAANSUhEUgAAAGYAAAAVCAMAAACDt2s/AAAANlBMVEX///8oKCgNDQ3MzMxUVFR2\n",
       "dna6uroQEBCqqqqIiIgiIiJmZmYyMjJERETu7u6YmJjc3NwAAADtE0dfAAAAAXRSTlMAQObYZgAA\n",
       "AZlJREFUSMetVdt2hCAMpCVcAwH+/2eLgHJRt7utedGDMTNMhsAYYzGwF6EjeyTI1yf4M4SivP4M\n",
       "jmtl4LypABsN9wRKwN8yhHkAxv6qCambD+Z9OaN9Q1Z54w58G8bUVDK4SkPGNFOIXm62yUIxokCz\n",
       "ueYcvjZeMLlKk2ur+jG4m8J6QpUqi+jSyL6pwZnVhYdmuBgq5H+SrtXsHX/jaWjhRgorMh/blquo\n",
       "ontOTotoeUmmWoSnY/X7y02R0tE3LNn22paqpel01lQ07gOMnbOk7e5Q2z4o8Ws/69YjuHAY7sVu\n",
       "RONu0CyJwrb8YGBwEurDApTbIFartdbcW8DFNRvcNgQF69ogk+4wq0xlglIajHDoiJ3ANJDkdG58\n",
       "7kqwkDEiddNQBoUuCIRSwQ7io+2GvAyc1gmM4RGMbJDzmVmGje4wtpEl++kAo0QDgxTPo7Ppw4nF\n",
       "3TSfj07ttjqxHipez72P04SpYyPbxu+b+fwiIBBxq6/rEZ6utanFYHB/9X+/1jQb+vT6kg7/QIkM\n",
       "ZLyepQ9Gpg+i3PE/2L0OsyfeBDQAAAAASUVORK5CYII=\n",
       "\" style=\"display:inline;vertical-align:middle;\" /></a><br>"
      ],
      "text/plain": [
       "lambda_map: (i, j) -> a_{i, j}"
      ]
     },
     "execution_count": 7,
     "metadata": {},
     "output_type": "execute_result"
    }
   ],
   "source": [
    "lambda_map = Lambda((expr_range.parameter, expr_range.body.parameter), expr_range.body.body)"
   ]
  },
  {
   "cell_type": "code",
   "execution_count": 8,
   "metadata": {},
   "outputs": [
    {
     "data": {
      "text/html": [
       "<span style=\"font-size:20px;\"> <a class=\"ProveItLink\" href=\"../__pv_it/demonstrations/9ada9743d54e2a184b0b6323e2431ca7483142d40/proof.ipynb\" style=\"text-decoration: none\">&nbsp;&#x22A2;&nbsp;&nbsp;</a><a class=\"ProveItLink\" href=\"../__pv_it/demonstrations/385751a243670f9bd449368a0b4451117bc4b3f70/expr.ipynb\"><img src=\"data:image/png;base64,iVBORw0KGgoAAAANSUhEUgAAAMsAAAAVBAMAAAAa4QdfAAAAMFBMVEX///9UVFTMzMx2dna6uroQ\n",
       "EBCqqqqIiIgiIiJmZmYyMjJERETu7u6YmJjc3NwAAAC+aOQFAAAAAXRSTlMAQObYZgAAAgtJREFU\n",
       "SMelVj8sQ0EY/2n1eW3fa2xNDNLFIBK6CVMXidEgFn/S0SDVCBFbLRiEJh1UDEosDHSz0NQghKEd\n",
       "MUhtRCRFYhCDu77Xund3bZ/2hrvvvvvl93t39933PcCXR6NNKYi+N9EVod0tGm+dgkdLi6gW+jXH\n",
       "TcjcCB6PZINaCtDjTcg4o7znXgbrB9RCEzLaCO/ZkMEugWc00w64uS8mQ3lCWKLjy8BC1gapL7E1\n",
       "YfUMcIi2uIzNGcc5GVqncAI4jCDpqS4zVPAUywAD/UC7wSPaDqnpzcvY9BRW6NnlsQPHdmnD3cnq\n",
       "NzEJd9oEmOhpDqKGZWxKDKNk2M1ilXyFca7DVWXcP1CjZYCB7uMgrpCMzVEsyYxD+7Ah40ojF6gv\n",
       "I7IRGXJo2ieUog2ZXBCzsMoM/93NnnloEjZikxDQvtCSitiQCaODpDFW5oGDkBCQsJEQoCF5irv2\n",
       "ILOgfVPSlGlUZt6ovuy07ibBp4W4yEYuNVgaLxZ7/SF2YY3EvdpOjGWYnbpO9PxzT/NWmX1OhnoF\n",
       "NngCTLJhFhTxsc5ULEZGi1VNNqzMNZs6SXT7zoyn4BQvJlixCOA1S9E1UyfDRlMnMuVMknyPOsbw\n",
       "sukHrsSnWSGkgK4wRcsKgbcgstFCYC1rijGIBVW3TsPGkKld1hRG2lKkI/+qznqdIm2yPQogm/8F\n",
       "uj3YH9sviZSj3A8718UAAAAASUVORK5CYII=\n",
       "\" style=\"display:inline;vertical-align:middle;\" /></a></span>"
      ],
      "text/plain": [
       "|- (a_{1, 1}, ..a_{1, b}.., a_{1, 1}) = (a_{1, 1})"
      ]
     },
     "execution_count": 8,
     "metadata": {},
     "output_type": "execute_result"
    }
   ],
   "source": [
    "singular_nested_range_reduction.instantiate({f:lambda_map, i:one, j:one, m:one})"
   ]
  },
  {
   "cell_type": "code",
   "execution_count": 9,
   "metadata": {},
   "outputs": [
    {
     "data": {
      "text/html": [
       "<span style=\"font-size:20px;\"> <a class=\"ProveItLink\" href=\"../__pv_it/demonstrations/9f3398005e03f1ba0e7ea1a91ec800468fc6bbc10/proof.ipynb\" style=\"text-decoration: none\">&nbsp;&#x22A2;&nbsp;&nbsp;</a><a class=\"ProveItLink\" href=\"../__pv_it/demonstrations/879b9bb35592061716f48cda2aa9165370d221550/expr.ipynb\"><img src=\"data:image/png;base64,iVBORw0KGgoAAAANSUhEUgAAAXIAAAAWBAMAAAAvGArCAAAAMFBMVEX///9UVFQQEBCqqqoiIiJm\n",
       "ZmYyMjJERESYmJjc3NyIiIi6urp2dnbu7u7MzMwAAAADGpxCAAAAAXRSTlMAQObYZgAAAlBJREFU\n",
       "SMfNl79Lw0AUx5+m1VQbKQ6CnQQHFRE6uDiILToJokNFkYI6KIigHVUQOohzBcU1CC4KItI/oA51\n",
       "cYkOCi4pgoiDqAhOKl5+X7yX5CoOOcg17X2/l0+ud+/ewTOEv7Qo2K+Xeh0rhJNZKGp1/NSb/Das\n",
       "w90eRL4UVvIbnFzoM8nFibCSx2WM/Or8yySPFMNKLnWgYy5a5LvhjSvL/uSHWnjJzfTxdLVXOVBq\n",
       "B+B0sRAVf/I1cp0VG14BHo0Amvfsu7kHVm3BIy84r4uF2LbJLxa1suAmHyYTqhuieXjI6p7JtGff\n",
       "1wWYsgSGmqdwuhCIfv8x7wWIfkGErOOSMUTe5LMKjNqCEi85pwuBeAkkr8+DWuUg7wLpu3ZyThcC\n",
       "EUBOZotahiEIJpc+QXitmZzXhUCUfs3zeWaFqiloI1lCIPk71M0N1EzO6UIgtv3HnISeRlnMxOnX\n",
       "VefIEz/ArOxvG7CVKNMMdouHQbthXE6LS8dAAORQ8iaLXOsrebJzTJsiY+QmA2YVSZBqhITkq6On\n",
       "5ClNbut0iduQsdoZl9aVLnHpGAiAFYw82vox/Xv3p0yDbM5pbyb0/z4YMFWcdsolKD46CkJK++eK\n",
       "TsZFwue+AoKmL7Ppj/MOaYhtGsEW0blLGXPF/XQUBJ5xUVnuurVJjyfhPhXLvskgyYz2zt6kiaCl\n",
       "U1djOvfqlDHXnY+OgvDKcj1OFilj+bJa98FJAC+dOwwA5ioE6QwIY0hx8hPmNCdwprwDf8r9OF0m\n",
       "hKh/NFX5TCInw9+OroX/gvgBkLXsTaULjBwAAAAASUVORK5CYII=\n",
       "\" style=\"display:inline;vertical-align:middle;\" /></a></span>"
      ],
      "text/plain": [
       "|- |(a_{1, 1}, ..a_{1, x}.., a_{1, 1}, ....a_{k, 1}, ..a_{k, x}.., a_{k, 1}...., a_{1, 1}, ..a_{1, x}.., a_{1, 1})| = 1"
      ]
     },
     "execution_count": 9,
     "metadata": {},
     "output_type": "execute_result"
    }
   ],
   "source": [
    "Len(ExprRange(i, ExprRange(j, IndexedVar(a, [i, j]), one, one), one, one)).computation()"
   ]
  },
  {
   "cell_type": "code",
   "execution_count": 10,
   "metadata": {},
   "outputs": [
    {
     "data": {
      "text/html": [
       "<span style=\"font-size:20px;\"> <a class=\"ProveItLink\" href=\"../__pv_it/demonstrations/f3d3cc49f0f6cc3908b69092a9b67c2f0a4d9ec80/proof.ipynb\" style=\"text-decoration: none\">&nbsp;&#x22A2;&nbsp;&nbsp;</a><a class=\"ProveItLink\" href=\"../__pv_it/demonstrations/dc9a6cb182b48f10ad6c1b29ddb97290621554930/expr.ipynb\"><img src=\"data:image/png;base64,iVBORw0KGgoAAAANSUhEUgAAAXMAAAAWBAMAAADA2mH8AAAAMFBMVEX///9UVFQQEBCqqqoiIiJm\n",
       "ZmYyMjJERESYmJjc3NyIiIi6urp2dnbu7u7MzMwAAAADGpxCAAAAAXRSTlMAQObYZgAAAuJJREFU\n",
       "WMPNl01oE0EUx//tbjUfu6EHKZhLRQUVEQNVpAdpgl6sSHNoKEiLFVEQweYifkAhB/W8QsWjQfCi\n",
       "UILkKJJLBNHD1oOClwRBxYM0ogjS1ji7M7s7051NxuJhB7K77fzfm98Mb968wTfEv2Vs6b9fu89k\n",
       "JZ7QmuU8jVoP9PdxXfCdUnSzdL3toV+OK/o7KfoKjDWGnijGFd2oytDngN0MXbfiim7ukqHvBUYt\n",
       "ir4U3+xyRYa+YGO0TdEfO0lm9uwhFV/3m4/sfydQtApDNCMyzJRN0W+Q3zNrWwf4QhNpOdJ5+gAW\n",
       "PIExM6dIzluxMaSNh2hecyZ710d/eclpF5nDdRbrJ0hQ7cdQGZ+mXfJSPtL52wpmPMErjCii81Z0\n",
       "DHlkcxCGNTBPXkfkq64PM/SDwNAGdLKb63RO0ejnbEx6glNYVdzfvBUbQ9Z4CN3K/CavVTl6CQH6\n",
       "YBmttgL6Pph/PMFpPKypofNWPdB5CL2WXItETxURBEyrgQn0RzfXoXUCwYTajhWtotEFCGgb7JuP\n",
       "9fNu11EkLX+btnIYIRVDX/QfGJgf9wWTitlZsOqBzkO4scNtU74eayDF0EkG2l5NFAx+1Vtkk5i/\n",
       "wB7+X7dwe7jhQRhFrifCwPkQrep8j6ATINy8iFkZ+tKb5g4WMI6z7PK9pzy6foZ8FMAezo7GSRIe\n",
       "K0++ZmsexB1wOlciGhS8fsGqzly5EkEnQNDq5Kr0SOp2f4YKAS5gjodLUD+yKUS6kW7LdGIL+jl0\n",
       "ze6hoxDP8YJMJt+n6A3KL5JGH9jQHINGuBYKJpFHchGfx47ZMp3YGpusaKrupXMhMhfGFqPKL75e\n",
       "v+md11NZfMwlp79XYVZD2g/+eU0EmT043O1CphO3aHWTlTNG4EqioxCD3W4nquiNvGrkaKiFteJV\n",
       "SkOUTmib+jWZK4mOQtA1jUBfDl3wNMUTcnxLlaCiFYNIuK9UW9F5QlG3tets5b9B/AWPq/4WKhG4\n",
       "DQAAAABJRU5ErkJggg==\n",
       "\" style=\"display:inline;vertical-align:middle;\" /></a></span>"
      ],
      "text/plain": [
       "|- |(a_{1, 1}, ..a_{1, x}.., a_{1, 2}, ....a_{k, 1}, ..a_{k, x}.., a_{k, 2}...., a_{1, 1}, ..a_{1, x}.., a_{1, 2})| = 2"
      ]
     },
     "execution_count": 10,
     "metadata": {},
     "output_type": "execute_result"
    }
   ],
   "source": [
    "Len(ExprRange(i, ExprRange(j, IndexedVar(a, [i, j]), one, two), one, one)).computation()"
   ]
  },
  {
   "cell_type": "code",
   "execution_count": 11,
   "metadata": {},
   "outputs": [
    {
     "data": {
      "text/html": [
       "<strong id=\"assumptions\">assumptions:</strong> <a class=\"ProveItLink\" href=\"../__pv_it/demonstrations/b5a3dbd53fcb7b99760d51500cce9681a695d7d40/expr.ipynb\"><img src=\"data:image/png;base64,iVBORw0KGgoAAAANSUhEUgAAAQcAAAAUBAMAAABysOUVAAAAMFBMVEX////MzMxUVFR2dna6uroQ\n",
       "EBCqqqqIiIgiIiJmZmYyMjJERETu7u6YmJjc3NwAAACgK8IjAAAAAXRSTlMAQObYZgAAAvNJREFU\n",
       "SMetVk1o1EAYfUm26+42aZdKoeDBLXoQqnUPiq2CFLwICu7Bkxbai9SDaG5SFFwPlkUEFz0InlJR\n",
       "oUvRIoL1pyUUpLIK7UlBQdeLCEXaS3tQD85MZpLJJNmu0IEvfPPzXt7MfPPNAB3LYNZSSTew1eUi\n",
       "/bznhvSw0t0XA+lX6vU/r1wcXB+KQ5hPX0/DGDktJjAci9TpvJ5wg1VQfrBPqZ9zCVRVNacVYK7F\n",
       "I9qXu4AlUVP5OdJ0SFfVs+Qyxue1az8RYdhK7578ZaAUj9Svb7PRlsQrkIeATMOzTUUA34gIk//P\n",
       "mq3cZM7uN3oe5TDiS6XiMBEn3F5kFLoI8i3wE561KAIPmau9cEWQdJnTiogdV8VKfC/UXUVEFJkb\n",
       "wjipUsPilfBoc9yOEzHoRZXrR2ra7uIiOIJQCxGNMa0gRHD+KNKoYo6GCG2rtoXPqZEqxYn4rByS\n",
       "fhyw7LKM0BuBCGPokxDB+aNIy8EEqVKzGp2jIRE/sk6ciPPMnZGodLe3LCPag8BsYK/ew0OB80eR\n",
       "6TLoKaZm4hT9R71GyyTx3E66uIdrtRu12oNAxE62sWfoKE5lFnLemnkIdNM+h4tYwCO+ux5/DFJb\n",
       "80UAA0pAXnLjVoKJ6JDng+1aSUasyCuhFbtFbSABSUSI7QCmFBHPYk/HceaWZCprdEZGtMki8NHf\n",
       "nakEZKocBKa5oZyODSM5MO/5w3qJHZ2REVk/n5E8AGPF50tAksAcFMcu/TcsIrX2SxFxjYq4y9yM\n",
       "H8SP6W8dLDkBYkL05eio+zB/S/wRJLJFtrxsibNl9epYDou4MzJFWia9afWd9Bp71slcSPrP3AoQ\n",
       "C8+9aNJunwW7bSpuwB9BIpcP0namulnGZBxcauoIT76iXJD8Y7MVJ/QAcCX+CPKdf4Fp7mo+QcSH\n",
       "UAqzE0YVmyR+EipN+MkFhnlmq8WXLT1B6gntpt0EtIgm/HRH+KNGH2/tcTWf0G41AxHqZP52Ggv/\n",
       "9byztv559xX4B54y9x1QQAnzAAAAAElFTkSuQmCC\n",
       "\" style=\"display:inline;vertical-align:middle;\" /></a><br>"
      ],
      "text/plain": [
       "assumptions: ((j - i + 1) in Natural, i in Natural, j in Natural)"
      ]
     },
     "execution_count": 11,
     "metadata": {},
     "output_type": "execute_result"
    }
   ],
   "source": [
    "assumptions = [InSet(Add(j, Neg(i), one), Natural), \n",
    "               InSet(i, Natural), InSet(j, Natural)]"
   ]
  },
  {
   "cell_type": "code",
   "execution_count": 12,
   "metadata": {},
   "outputs": [
    {
     "data": {
      "text/html": [
       "<a class=\"ProveItLink\" href=\"../../__pv_it/common/fcc5d0855723f6f6f4f54a98db9d6ea4fd2f74a10/expr.ipynb\"><img src=\"data:image/png;base64,iVBORw0KGgoAAAANSUhEUgAAAJgAAAAUBAMAAACDnumxAAAAMFBMVEX///8yMjJERETMzMwQEBCY\n",
       "mJgiIiK6urqqqqp2dnZUVFTc3NyIiIhmZmbu7u4AAADOOTK3AAAAAXRSTlMAQObYZgAAAdVJREFU\n",
       "OMullDtLA0EUhU9iHptENwYLQQikNgj+A/0BomthpxhELBTFQmzdQixETGzshLTBwjSpE+zFCDY+\n",
       "irWyiUarWIh4787susluJoUDM8zjO4d53LmALDVutCoGllqfeal9u6lCzwHJHC6VPg4IbT5gVWgr\n",
       "RRMh8k0aeFGaOSCi5Z6VQwtCq3degRUxmWgovLygKCdyoXJlSa32Qc2WnJ5VmHnBLjNg1ZLaRAFI\n",
       "FeTsuMKsC/SbsTZ6v93EcBNoPdPERX8vF0TrOtCMtWk6a9gASns0WFTszAHRjBhBZqytTwMxEynz\n",
       "jgZHCjMJIlpNm0FmrC1SjexCxzd1ZhRmEiTygLVnmcx6JjPxZ8bac8loPwPMHFD0/Dtj7STE7sMc\n",
       "ifsKMwcEsoFmrJ2DuNe2WVI/gANC/0KfB9A7HEL04gcpAh+gfzLOTXvU0/GA4kK6zG7Z7AGIc1zH\n",
       "KRaTS9QZAzZ4YZOPVHY6OyxwQYwUesweF7KGrU1wGnC/E2Ga5Tvgqf0BXDDW7N2Z1B6H7AD0fPSE\n",
       "/7boMv/AIYsDzi7vXb+tgTWRdcIitfGg5U8XnA9csF6aCnwfWl9+Erx9BuSpGv5fyY0LJm+MQLN8\n",
       "TzaO/iNtk/YXe+2NTiwaWjEAAAAASUVORK5CYII=\n",
       "\" style=\"display:inline;vertical-align:middle;\" /></a>"
      ],
      "text/plain": [
       "f(i), ..f(a).., f(j + 1)"
      ]
     },
     "execution_count": 12,
     "metadata": {},
     "output_type": "execute_result"
    }
   ],
   "source": [
    "f_i_to_jp1"
   ]
  },
  {
   "cell_type": "code",
   "execution_count": 13,
   "metadata": {},
   "outputs": [
    {
     "data": {
      "text/html": [
       "<strong id=\"eq\">eq:</strong> <span style=\"font-size:20px;\"><a class=\"ProveItLink\" href=\"../__pv_it/theorems/cc960de3189696fd63dbfef6ae439534d77762330/expr.ipynb\"><img src=\"data:image/png;base64,iVBORw0KGgoAAAANSUhEUgAAAIUAAAAUBAMAAABRzuPpAAAAMFBMVEX////MzMxUVFR2dna6uroQ\n",
       "EBCqqqqIiIgiIiJmZmYyMjJERETu7u6YmJjc3NwAAACgK8IjAAAAAXRSTlMAQObYZgAAAa5JREFU\n",
       "OMtjYOC7wEAcYHuAU+o0WD4GTVQbi0o9NP6p37sOMJh+dWBgWAfi8iqgyeui8VMPAPWgG7qXUYGB\n",
       "5wNQ9wR87k+HUDzK+kAzmAvQZDUEyhkYAhgYOB4QYQYDw32gGTwBEDbvjo4uMENlD5MAQwMDwwsG\n",
       "os1gWAJmMm4/AAsgIZ41IDMqQZzj1ahaeSoLsJlhCQnKA/BAZisQApmxF8SZwIoawcwsAdjMuIUW\n",
       "PXoMJrwFQDPaQB58wJ+AYsYzzgXYzMgAMzcgmcF0QBFoRgjI6Qz+ICWnVoHAQiDrAD/IL1arVrWu\n",
       "WrUIYYY8ODiiQKqgZvAocAVAzGBgsEALy/wD2NwBNoMP2R0MwowBEL8wMKxEM2MT1njxADMDkM3g\n",
       "TdgADVOeb2jx8o0Zd5hOhytTBGK7DdD4YvuDagbLh7doZtSDzJgMZnLAw38ZEINCH+w+zgb07HIB\n",
       "1YxJ8SuBIgshjtT2gQhKfAW6gWcBNK1zTCCUTsGaoTaxWEPTOgwA8xzjgfcCOMw4g5LyCnBliX0M\n",
       "7w12ElUIncJTBjFVEleU7cMpQ3RZyIurlAAALSZ150uFIO0AAAAASUVORK5CYII=\n",
       "\" style=\"display:inline;vertical-align:middle;\" /></a> <a class=\"ProveItLink\" href=\"../__pv_it/demonstrations/670aec6506636cfdd2eb5619e399edcd4754c3f50/proof.ipynb\" style=\"text-decoration: none\">&nbsp;&#x22A2;&nbsp;&nbsp;</a><a class=\"ProveItLink\" href=\"../__pv_it/demonstrations/5fa523dd4d9c5f97969a3995703c4a9a8a85350b0/expr.ipynb\"><img src=\"data:image/png;base64,iVBORw0KGgoAAAANSUhEUgAAAZ8AAAAUBAMAAACgzC0IAAAAMFBMVEX////MzMxUVFR2dna6uroQ\n",
       "EBCqqqqIiIgiIiJmZmYyMjJERETu7u6YmJjc3NwAAACgK8IjAAAAAXRSTlMAQObYZgAAA/FJREFU\n",
       "WMOlV89LFVEUPvn0+XzOmH9AoBDRIjRpUVkbN4GLoBZCEUUSRC1C3cVb9QiSoghJwgoUixb1oHi0\n",
       "Thmi0DLw0SYSMlfhJjIKg3DROef+mLk/Zhrowhnuu3O+77vn3jvnnQvQ0QDVvtGjuAb/agmI2Qjr\n",
       "w8cA0RuBvBoOW6r2iOJdokcwNYOPOkBTHXqzdNiRIecjz+teaVZbMqB7oGktt0aC7W1lLUObOJn3\n",
       "Of/avwlQpqEGvMsSY0eGfLBfkQphPfjnBrQHgtncGgm2naPDKdrF08CcZOEEjSwfHQD4JN4WxjLE\n",
       "yFFAVLsgl3Xn3khgXXysoaAHIK9GzBb8eg2mdlG+e7VvS3KilXj3R+lxWwKPZ4iRY2nNExDAl0hg\n",
       "XXysoaBvIK9GzFbcsLVVQBBuSU60dR45SJ9bVb5+nCFGjuuQGhBjHfy6Ay0P5NbQbIWqrW0GRJxo\n",
       "FRr4dPI+QCvu5sIU/upP12JHggSX696A+n34ShIaVOhYTuTWUGzh3RsTlrYZEHGizfHIb7R2TIh9\n",
       "R7CzkrF65EiQNjjjDWhF4Qs1bjzxuSS00IyHKJzNraFns33M1jYDIk60cU7uP+h4DkPH8APsXMz4\n",
       "dyBHgqzCpjegiz78eBL6tQ2Fi9XcGprte6etbQZEnGhD+ntrGYCAV6crXYwdCRI1EwccqtWu1WqP\n",
       "4oC6fPihJDSild62kVujK5krEuN4BJ6cqtW6dUDEiTakvzcMCIpb2QGxYwxxdyg9IA0djbIDsjS6\n",
       "krnC1DZ3SAbEx6G9Wxw50RlMF+P3DClPeAMaVHj5DXXrI6ehL9Caq7k19GxegK1tBkScaPzBtozJ\n",
       "pLA83JeZFFrUh4me2Ukh2eaS0GCzkJ0ULA3NdgJsbW9S4Ky4PCDT3jGq/SYh+EODVEtQR/+SjgwZ\n",
       "jeyArtDIpDSj9SehzRtYA7f1CUKtoTuOhpwNFgpga+uAWikg5CTjHT0GcsuaPmPnIcB1hJRo66+C\n",
       "fJRuaUeG3LP/WO+cfdpgLJvRBg1oD7qVOwWh1uDO9cijIWeDC+Foq4Dadv2ZZk7mpVriMCRLH0p/\n",
       "bjl7CZQjQ244lYLCBlVv6RNDsS0qQjO/Ra6Gnk2h7mgXjapxURhWe8XuZ+IvOi4HC+7Rxg2VjgjZ\n",
       "wX8W3N4bGSqtOI2hujjtc/MbuBpqNufKDUc7MJZdFqcwD6WX4hNtF8tHBfuCe0lBYuU43/Gz3V+7\n",
       "pFwfYo15QTYrCK1GqraGms1NSZuqra4PeGMKKyKSoK413WthSCYdl2D3tD9Dzes5Wxe8GKqWLnTd\n",
       "Gh4NNZuPM5CtTZy8JfYVPPyPKzhhwxxX8NXcV/Aw9xV8Vdhf+uCYPPYPJ18AAAAASUVORK5CYII=\n",
       "\" style=\"display:inline;vertical-align:middle;\" /></a></span><br>"
      ],
      "text/plain": [
       "eq: {(j - i + 1) in Natural} |- (f(i), ..f(a).., f(j + 1)) = (f(i), ..f(a).., f(j), f(j + 1))"
      ]
     },
     "execution_count": 13,
     "metadata": {},
     "output_type": "execute_result"
    }
   ],
   "source": [
    "eq = f_i_to_jp1.partition(j, assumptions)"
   ]
  },
  {
   "cell_type": "code",
   "execution_count": 14,
   "metadata": {},
   "outputs": [
    {
     "data": {
      "text/html": [
       "<span style=\"font-size:20px;\"><a class=\"ProveItLink\" href=\"../__pv_it/theorems/cc960de3189696fd63dbfef6ae439534d77762330/expr.ipynb\"><img src=\"data:image/png;base64,iVBORw0KGgoAAAANSUhEUgAAAIUAAAAUBAMAAABRzuPpAAAAMFBMVEX////MzMxUVFR2dna6uroQ\n",
       "EBCqqqqIiIgiIiJmZmYyMjJERETu7u6YmJjc3NwAAACgK8IjAAAAAXRSTlMAQObYZgAAAa5JREFU\n",
       "OMtjYOC7wEAcYHuAU+o0WD4GTVQbi0o9NP6p37sOMJh+dWBgWAfi8iqgyeui8VMPAPWgG7qXUYGB\n",
       "5wNQ9wR87k+HUDzK+kAzmAvQZDUEyhkYAhgYOB4QYQYDw32gGTwBEDbvjo4uMENlD5MAQwMDwwsG\n",
       "os1gWAJmMm4/AAsgIZ41IDMqQZzj1ahaeSoLsJlhCQnKA/BAZisQApmxF8SZwIoawcwsAdjMuIUW\n",
       "PXoMJrwFQDPaQB58wJ+AYsYzzgXYzMgAMzcgmcF0QBFoRgjI6Qz+ICWnVoHAQiDrAD/IL1arVrWu\n",
       "WrUIYYY8ODiiQKqgZvAocAVAzGBgsEALy/wD2NwBNoMP2R0MwowBEL8wMKxEM2MT1njxADMDkM3g\n",
       "TdgADVOeb2jx8o0Zd5hOhytTBGK7DdD4YvuDagbLh7doZtSDzJgMZnLAw38ZEINCH+w+zgb07HIB\n",
       "1YxJ8SuBIgshjtT2gQhKfAW6gWcBNK1zTCCUTsGaoTaxWEPTOgwA8xzjgfcCOMw4g5LyCnBliX0M\n",
       "7w12ElUIncJTBjFVEleU7cMpQ3RZyIurlAAALSZ150uFIO0AAAAASUVORK5CYII=\n",
       "\" style=\"display:inline;vertical-align:middle;\" /></a> <a class=\"ProveItLink\" href=\"../__pv_it/demonstrations/725ef10065db5c8a0ff400cec312c0585e9aa7790/proof.ipynb\" style=\"text-decoration: none\">&nbsp;&#x22A2;&nbsp;&nbsp;</a><a class=\"ProveItLink\" href=\"../__pv_it/theorems/5b604ee303bac2bce7095be356f716c8f35a7cd20/expr.ipynb\"><img src=\"data:image/png;base64,iVBORw0KGgoAAAANSUhEUgAAAZ8AAAAUBAMAAACgzC0IAAAAMFBMVEX////MzMxUVFR2dna6uroQ\n",
       "EBCqqqqIiIgiIiJmZmYyMjJERETu7u6YmJjc3NwAAACgK8IjAAAAAXRSTlMAQObYZgAAA7lJREFU\n",
       "WMOll89rE0EUx5/dJM2vrf0DhAZEPEgleLBVL7kIHoT2UFBEIQiCB2lzk9yCB7EoEhCpCi1VetCA\n",
       "EnrWEsTSag8NXkTBkpP0UowoFUoPznvzY2d2dmcLPphh9+3nO9/N7MxkBmCoCzJ2sMr0ICmExCK1\n",
       "psyYFiUcOyHpNBzU2+GxgVVxboFVbYCBNpx0tUcgSW50dNLIWzHQ4yXcWBvrj/Uel56IYrRQoNvj\n",
       "Dd2d3gXIY6oLn1yNEkiSz6CTRt6IzFX25ou8hCJP7390psqlo1GMFgp0evhNzGxerAB85U+9mqNR\n",
       "BLnEJI08eYhn70/ts3pMFDPIsPjnAyjpmGtw6GC8R5Z6aQarh0I46WgVwawcGBpp5HUz8NFsVRQz\n",
       "yDDT16SrDmsDjPfYpsw4TreGeLzkaBXBbXW3FJO3zPIVXsz5TYZeQ5NajBYGGO9Rp29/+SnAIPua\n",
       "a3Ps7kx8owSipHi7rZOhvGXmNXkxAg3BfzzbJGmxXotgglBggsc7yvxlpcAWxPJ5dvHN8YUQREkO\n",
       "rhmkmbfM/EVeAM62MF6BMAQ4XONSLzUpmeiQYILHXfr4v3B4VmGo+oxd3HT8CyCIki3Y1clQ3jLL\n",
       "NHgxghmy+DnMpT9yixGMFhJM8JhS8y1dgSL19EjCxERJJ7Wvk6G812q9vNJqlZTZoT4vRqQraj1i\n",
       "0g5+AYsJrUcH8JhS8w3bz+y7fxCBgWQkJm/1nuMHjcv3nOm4f5AC3R405AolMQLo4kJ8o/ScJPmm\n",
       "TobyllmqwYucQy+CIbcMQroMkokOBbo9aFFI18Qc3ayWnYtCWk5MRuqLQijvWBT03qFF4RJwaXHX\n",
       "cy8KEkzwoJV3syKWvQnc+z2C4h4mcS+BF+pOgCTBASJJK6+bDaJZrsyLOX6b9P8PXJrq7xCjbMlR\n",
       "3QVgggeNmgkQn2zgO7t4DnCPSbI4jO6AqLIPFEiSJxCQVl4zyx3bm2eDZJgXI2h8pfpSOtolhozI\n",
       "sSQr8ghAtwftJc6BvvXB5c/ezt4CCZJk1iDNvNF7FOui2Fsfrw3ajmZdGplra8cEnR5st5cpvQ72\n",
       "inzL6dlDmH1QATLJEfrjkWQ4T91idEns5vR6viukiivbayvoYJLHCmTf8qlY4N2Eh4I1e6/LXl6C\n",
       "K0O/C02NDOdtcfTxgRneF0eQlYCzN/voocBEjw3w6z3tvEVt28dCH4sAN+D4vE6G81FvLrsrdMD7\n",
       "sgCgjpnE+LYcPQIwySN8BPcPfAT3D3wE3xIl6Qi+9R9HcOHxD7rNlz3/BlTkAAAAAElFTkSuQmCC\n",
       "\" style=\"display:inline;vertical-align:middle;\" /></a></span>"
      ],
      "text/plain": [
       "{(j - i + 1) in Natural} |- (f(i), ..f(a).., f(j), f(j + 1)) = (f(i), ..f(a).., f(j + 1))"
      ]
     },
     "execution_count": 14,
     "metadata": {},
     "output_type": "execute_result"
    }
   ],
   "source": [
    "eq.rhs.merger(assumptions)"
   ]
  },
  {
   "cell_type": "code",
   "execution_count": 15,
   "metadata": {},
   "outputs": [
    {
     "data": {
      "text/html": [
       "<strong id=\"f_i_to_j__shift__eq\">f_i_to_j__shift__eq:</strong> <span style=\"font-size:20px;\"><a class=\"ProveItLink\" href=\"../__pv_it/theorems/156e173cad1e47c00ff4a4bff6e1c5bfa195d1390/expr.ipynb\"><img src=\"data:image/png;base64,iVBORw0KGgoAAAANSUhEUgAAAJUAAAAUBAMAAAB2YGIBAAAAMFBMVEX////MzMxUVFR2dna6uroQ\n",
       "EBCqqqqIiIgiIiJmZmYyMjJERETu7u6YmJjc3NwAAACgK8IjAAAAAXRSTlMAQObYZgAAAcxJREFU\n",
       "OMuNlD1Iw0AYht9ULVUvtejiZosOglA7KPgD4iI4CM3gJIJZRMduUhzsoohT0aHgpCKCQaSbP1jJ\n",
       "JlTBzIKY0a0u1UEHL7n851rywUvLk9zTL5d+ByQ1mOFWXI/GrHq2gvgq52o2CGLVEKv/3quYbM4D\n",
       "12CBmA7cs67S+0IuLcxqQhrkixrKLG5tsA8yPE5dHYVwryE2mtoCJCChs4RcwAd1ESnsspl4u39g\n",
       "fhl5iKVQAj7B0sKFc84mMibcqPam9pMrw1UEC562ua5pv+ap4rC66rygeKHfcNXAgnKXxnO9+V25\n",
       "BYdlPS97QixQ1x5YRL1P5rk2faqkfOywqscVUzPUtQwWgryxdEZRdhXlzHUNmY+jGHVq3PVjM2HF\n",
       "YJaLpHsk1wVMcfdrKPCn/7NZ0tsXBgTJfUbgkuta9Lt60w6TvC5Rrnr2nnwjwt6/yjmbVRyYoZmr\n",
       "svc77XTvc+0YriO/K28cA4wlZBte0HSfsH7NnrtLAdfh2iVddxoYx3fYjIwtMTbYpD2RE88MJcrB\n",
       "vswFJc4MWaxz1pohu6zZFtRGyiIvbee4BWP1aKaRu+NerUdk3rMwVtRa/lIUZo1FuzNa1KMxs/4B\n",
       "JISNV/v5/M0AAAAASUVORK5CYII=\n",
       "\" style=\"display:inline;vertical-align:middle;\" /></a> <a class=\"ProveItLink\" href=\"../__pv_it/demonstrations/987d785668cf66bd496d53e50ab7917f0b3e0ec70/proof.ipynb\" style=\"text-decoration: none\">&nbsp;&#x22A2;&nbsp;&nbsp;</a><a class=\"ProveItLink\" href=\"../__pv_it/demonstrations/6978030d2818611ec5e6fab622a33463238652c00/expr.ipynb\"><img src=\"data:image/png;base64,iVBORw0KGgoAAAANSUhEUgAAAdcAAAAUBAMAAAAtoWpcAAAAMFBMVEX////MzMxUVFR2dna6uroQ\n",
       "EBCqqqqIiIgiIiJmZmYyMjJERETu7u6YmJjc3NwAAACgK8IjAAAAAXRSTlMAQObYZgAAA8BJREFU\n",
       "WMOtWM9rE1EQHpO4Julu7R8gGBDxIC3Bg1a89CJ4EOqhoIhCEAQP0uQmuRUPxaKHgEhVaKngQQpK\n",
       "6VlLEKW1PaR4EQVLTtKLGFEqlB6ceT923+y+femKA992dnbyfbPd2bezCzC4CcqkNwl9Tf3E60qk\n",
       "HFZetMdtMkM0QZ9G6mAVRzZo48/OS+8k5LoupTARbrZhBP+MJHM4IyG3lMyy67jVPzS7ESlVkIFV\n",
       "HHkl9k7vSG8Y/AWXXJgIHwHWQSJmnJGQi10I7xpYdOxR047VaxEpVZCBlRC0KNK5OKY8gDMuOTMR\n",
       "8g0JbpwxTDbs7ak9Q8dr2KLWtvr9DlJJ+7IiiuK610F7AO9dJ2smgn9JghtnLNr6KtgzdHRZPGoz\n",
       "r+ci7ceK2BaRUdAeQHnMoWcmAjxXYMYZt1PL0jq8LJd6fspF2o8V0aTA5ytPgDy/SY3ZSpfTieDf\n",
       "oTXnrAIzxiiwOmsrS+vwshzqwaOZVkQqK8jAingjIn8Q6OUL2JSBa41QiVCC67j9ogD5RWFCiDEK\n",
       "VM/bytI6vCyX+uGGQSoryMCKmBaPrp+4Qe9bCYPelOMZpxJhC3CxhVsKzBgjYbD21FaW1uFludR/\n",
       "DEWkqoIMrIiJ8M5Hr03/uwO9PksE/aRdII6jCswYI8EXl9mXF38oLEDoYEu8uLq4WOFRx+qoSVUF\n",
       "GVgRE+GdT1697ZYLE6WXfrJhIsHbs10DrcOvgUt91DxZKZGBFSGabqCiemMZUXA0UpgIZbo/Lyjo\n",
       "e7YStnGYOK13EmUVrA3nUl8Gg1RWkIEVIZaTg+rO93fy7iVCJ+LQUDMXKNMYo0CnVv0vC9RlMEhl\n",
       "BdkWKPHk6IzJZ0ih9x2XuSp06Be08XeVIzdhomx4eKjAjDEKjMfn9kNUQKkaK0tHk+rCwQEKzMdd\n",
       "PT4au1kJogvHQfXjMFZVHoLiAxpVqPnuakeEokR4TJtnCsw4IyH3lWeUju/OCR1WVhi1qN+jEyv0\n",
       "TFJZwf5ZBTNNXufAmALXELeTPSRCUeIM/aunJCzjYphYTH2NWYsPdg51j042v8RIZzKyromZ2qu8\n",
       "jAZ4OTRXkywYihKPiOdo6ouAwRikTkR6ZPfb8WhSHZcSuFHeNEhlBVlYCStQfC1v6hWZRfdII/nG\n",
       "gaEwcfDXQAtSX/E440raK8xCWtSivoq4vw4RqaogC+uCeA8Omt3opRsGcCewDKaEMPHEnONcOONG\n",
       "2lOsmxa1qNM1/TQPBqmsIAOrOBL/LLO1788yQVfi3z7LbGWI7v+zTDor4i/igq0vokVEtgAAAABJ\n",
       "RU5ErkJggg==\n",
       "\" style=\"display:inline;vertical-align:middle;\" /></a></span><br>"
      ],
      "text/plain": [
       "f_i_to_j__shift__eq: {((j + 1) - i) in Natural} |- (f(i), ..f(a).., f(j)) = (f((i - 1) + 1), ..f(_a + 1).., f((j - 1) + 1))"
      ]
     },
     "execution_count": 15,
     "metadata": {},
     "output_type": "execute_result"
    }
   ],
   "source": [
    "f_i_to_j__shift__eq = \\\n",
    "    f_i_to_j.shift_equivalence(new_shift=one, assumptions=[InSet(subtract(Add(j, one), i),\n",
    "                                                                 Natural)])"
   ]
  },
  {
   "cell_type": "code",
   "execution_count": 16,
   "metadata": {},
   "outputs": [
    {
     "data": {
      "text/html": [
       "<a class=\"ProveItLink\" href=\"../__pv_it/demonstrations/24468d61d69c400d4eb9d222b79c04294dc14c5c0/expr.ipynb\"><img src=\"data:image/png;base64,iVBORw0KGgoAAAANSUhEUgAAATMAAAAUBAMAAAATqMdXAAAAMFBMVEX////MzMxUVFR2dna6uroQ\n",
       "EBCqqqqIiIgiIiJmZmYyMjJERETu7u6YmJjc3NwAAACgK8IjAAAAAXRSTlMAQObYZgAAAn5JREFU\n",
       "SMetlr9rFEEUx5+353o/di/3B1gciNgeFppgk0ZIIaQ5UCTCIdiJd51cFyyCQYttJCokXCkLCUdq\n",
       "Ew4xJGpxwUYsDFemM6JECFc4783O7uzu270M+OA7zH537nOz8+sNQO0QgsBa9BSPJwZuLPKgOVR6\n",
       "8wULZ21D1lCFQbp5YcxBeFfFp944gsKjoQmV3mzR041TWUMVEh9pL4m+95MA3tXjSqcdQeErmFBR\n",
       "rofO6M481eRTPD5cn4jypvptl3O5cP58hEzoVKpQica0A7JW4kbYxeZ7CUjc5cI+yYNOowodkzML\n",
       "snacCanMcxDlcmEt50GnUYV6aHy/9waohtpf4yCWx0EsL7Nn7qtVL4I6TwdmVKEdcv4K7QRq3uYg\n",
       "bp+DuDn7YKarQcvwwIwqtEKHzy9RrEjV2m85iL3MQZTLxc96BIUjODWjCrXCFduScmgIHZ+iHja/\n",
       "gE0s33933/cbcTcjcGspKAyLEzOqUCtcsYpiT7jvU52If19e12b1rsm/MKAK0YRWG9rY00MKUmSH\n",
       "vpgzodugQaHimVGFaBtc1FfsqN38L9vgLmhQQTXeBnP0Ozxe5gItJrPxJWxebiYgyh0hHQvnTK+I\n",
       "ZAAaFDrJFJpPRS2gsYjFQqDCjzijfPVsXUxIPQ4J3dJLPPRxETxTlefYjeKJDoXXYEQlMmaRW5Cb\n",
       "UzAOkikldB+nUxR2zRrEoKuG1APKvXZjk6Y5KxNTqETsDJNuM52ihB5WDjXoZTo5TaioXSi9l4tx\n",
       "NxB7jehnuU43Ze8LvfgMEbT2u+oZUvt0z3N7chrDWx8T1XGW66ZtHK9vG6BBr60bUunN+S7gRwbu\n",
       "+S/g2VShf7NYGPjaqmYgAAAAAElFTkSuQmCC\n",
       "\" style=\"display:inline;vertical-align:middle;\" /></a>"
      ],
      "text/plain": [
       "(f((i - 1) + 1), ..f(_a + 1).., f((j - 1) + 1))"
      ]
     },
     "execution_count": 16,
     "metadata": {},
     "output_type": "execute_result"
    }
   ],
   "source": [
    "f_i_to_j__shift__eq.rhs"
   ]
  },
  {
   "cell_type": "code",
   "execution_count": 17,
   "metadata": {},
   "outputs": [
    {
     "data": {
      "text/html": [
       "<span style=\"font-size:20px;\"> <a class=\"ProveItLink\" href=\"../__pv_it/demonstrations/94c6db5c5c5ce026b0c6923dcd15f95067886aca0/proof.ipynb\" style=\"text-decoration: none\">&nbsp;&#x22A2;&nbsp;&nbsp;</a><a class=\"ProveItLink\" href=\"../__pv_it/demonstrations/e127bd49f4affb9b2ddab3d96cf613e3ebd3e5710/expr.ipynb\"><img src=\"data:image/png;base64,iVBORw0KGgoAAAANSUhEUgAAAPUAAAAUBAMAAACnh2ZxAAAAMFBMVEX////MzMxUVFR2dna6uroQ\n",
       "EBCqqqqIiIgiIiJmZmYyMjJERETu7u6YmJjc3NwAAACgK8IjAAAAAXRSTlMAQObYZgAAAfpJREFU\n",
       "SMeVVj1LA0EQXe9iPi8x/8CAWEk02EisbIR0prASwTSClaZNZSpLCVoIghDFwlwhwd4QBFG0MK2C\n",
       "8SqxEVIpSAr3M567c2Ey8LLHy8x72c3ezhKS6hAOKLYhMuwB5KcEVkSwjxIzQIIF2ZBZk3KaAlYT\n",
       "K8LZS4msPr11KlfXSzbbhDyYSnFPwOpgRBSbrAnocTPfp58LKrsspjc1R73tspH9LIER+WOjnoAR\n",
       "SZZwq5WRN+rtFI3kfQmciGI/iABcFl8CvMm5npuqCiBFFFuhA4VTKUNldg3yzusWkZrA3RFKRLHX\n",
       "dKCwQ0WoLFmHvF/446LLosEeEx2B3DJKRLF7dKB4j9WhsnAV8t7S5x0tcaRKxygRxa7SgaI9wb5w\n",
       "+FTc9CBhrMdWx3Uv1lw3M/Ce1L3Hlzgc8o0SUaz0Jjtt6CfzMmPeQd4k3EeJKFauObkCt2gIXPOC\n",
       "7/8+8605SWRQIoqVe835skfda75Qe+2plBtlr+XFOxPq6Z0gwhJiOa1sl3kf6t7sLWJY0ZsSLKLY\n",
       "glzDrFYVm/45oQdA+n/ZwUaD5p3q3mxVGaxXjMiADTxTedzrxyE/1avoMzVYhLFBvUSEagOO/y3A\n",
       "95IhIpxtSUBhtj8WQA9NeAJ4Ec6quwMUsFwr+O6AF+HssDtTF2xwI96ZukHsLxGB23aWOKDDAAAA\n",
       "AElFTkSuQmCC\n",
       "\" style=\"display:inline;vertical-align:middle;\" /></a></span>"
      ],
      "text/plain": [
       "|- ((i - 1) + 1) = ((i - 1) + 1)"
      ]
     },
     "execution_count": 17,
     "metadata": {},
     "output_type": "execute_result"
    }
   ],
   "source": [
    "Add(subtract(i, one), one).simplification([InSet(i, Integer)])"
   ]
  },
  {
   "cell_type": "code",
   "execution_count": 18,
   "metadata": {},
   "outputs": [
    {
     "data": {
      "text/html": [
       "<span style=\"font-size:20px;\"> <a class=\"ProveItLink\" href=\"../__pv_it/demonstrations/4dc7fb68f5cea2f1164338ba25f58c3fc79eba810/proof.ipynb\" style=\"text-decoration: none\">&nbsp;&#x22A2;&nbsp;&nbsp;</a><a class=\"ProveItLink\" href=\"../__pv_it/demonstrations/d733333b0c0b8a7bafe6f648ecc8918470ec21b10/expr.ipynb\"><img src=\"data:image/png;base64,iVBORw0KGgoAAAANSUhEUgAAAPUAAAAUBAMAAACnh2ZxAAAAMFBMVEX////MzMxUVFR2dna6uroQ\n",
       "EBCqqqqIiIgiIiJmZmYyMjJERETu7u6YmJjc3NwAAACgK8IjAAAAAXRSTlMAQObYZgAAAk5JREFU\n",
       "SMeVVr9rFEEU/rJ7d0nuNpsD/wCvFCRmIYXExmsCdkkRQayu1EbTppFFwVIPLSRqkYhFsoWJtsGw\n",
       "COKvwmsVDFtJGiWiqMXh+ubHZndnZs/xwXc39+1739y+eTNvAH8ADpNdMZGNxEB+kbAVEew7iZPl\n",
       "Z97abhuOOs2bB0+BU7qStyPg7FiI5OwTiZmywwu4P+CtK1EdnO3irT53MxFwBv8WydmpvoBqD4Hz\n",
       "wOkszyv8azJGfQnuiub9QcJGJGcnEgHVLgCzCV6Ww+ohnD/wljTvWxI2Ijl7AAHVtmPMttHslsKa\n",
       "QzjfgMeqsx8KWInk7Cr9IHireiJvx3D75TDK0RCYVz3H+wKv7tmJSPY5jQhuTUtk7TtVwroathgA\n",
       "H/noTMRsiw1bA4FgwU5EsjdpSPg8qVYjJjrkHqph1wmXNNceh9+7byci2WUaEuJp9sDjrxK1ucMa\n",
       "YeyQPtwo2rwYRR1e6Sx/x9UZ6l0OD7+sRDJWzo2rsWENRVjxL7PyqJwbjaGVSMbKnOOZqncZfoKa\n",
       "kq5GH1+Bc4X1flTIOVodG5EjVtaa99MtR40FGE+0MjkGXMtqrWBZrb3vBRYiRyzbL4TaodIJDubm\n",
       "T9DyBqUw/8bcHXqJu+rcbBcxLCpNySiSsyx/DDNKK9tO0990mLTLZ0uapjT3hraTQgHnk4VIzlad\n",
       "qcJeQzsWaH1C2zN1hAhjq3qJsKwNeMVdYN9LRohwdk/CZFr742booa1EwF6Es9ndwWRmub3qu4O9\n",
       "CGdH3Zn2TeTUf96Z9qvYv5j+5K45WlF0AAAAAElFTkSuQmCC\n",
       "\" style=\"display:inline;vertical-align:middle;\" /></a></span>"
      ],
      "text/plain": [
       "|- ((i - 2) + 2) = ((i - 2) + 2)"
      ]
     },
     "execution_count": 18,
     "metadata": {},
     "output_type": "execute_result"
    }
   ],
   "source": [
    "Add(Add(i, Neg(two)), two).simplification([InSet(i, Integer)])"
   ]
  },
  {
   "cell_type": "code",
   "execution_count": 19,
   "metadata": {},
   "outputs": [
    {
     "data": {
      "text/html": [
       "<span style=\"font-size:20px;\"> <a class=\"ProveItLink\" href=\"../__pv_it/demonstrations/0aba6be8f02839280518819f3317bf8629d9358d0/proof.ipynb\" style=\"text-decoration: none\">&nbsp;&#x22A2;&nbsp;&nbsp;</a><a class=\"ProveItLink\" href=\"../__pv_it/demonstrations/37197bcca06c9a3ef51b972f44cea0714d2ee5440/expr.ipynb\"><img src=\"data:image/png;base64,iVBORw0KGgoAAAANSUhEUgAAAPsAAAAUBAMAAAC5TlbCAAAAMFBMVEX////MzMxUVFR2dna6uroQ\n",
       "EBCqqqqIiIgiIiJmZmYyMjJERETu7u6YmJjc3NwAAACgK8IjAAAAAXRSTlMAQObYZgAAAjdJREFU\n",
       "SMeVlrFLHEEUxp/eufF09rw/QPBAgl0UG6NVSjtTWIVIbIJWxi5IilyTgN2hTRpBxSK3hdimiBxC\n",
       "UC5CJGWKy5V2KgGLYOGb3X3jzuw3cjfwbu6+ne/9bt7Ozg5R+YLigC3oIHUNaI+mWfOrP9Og4DUY\n",
       "8gz5+sGfMmneNrszpOphGhRWncs6UStXD/6Tajefy6T53ZVB1LCeRK6p8UnGF9bTnytJdzJ9x58z\n",
       "udHeNLYhWHfUwU4SoP1lvHpp4ynUvh+5sf40lkHwRr2kJDx4OkD4oRfuWH8ay2DjWd3gTgedfoD4\n",
       "WYQv5MosadT7I4QXg41n9Tt3Oqg+cIHwfxA+jJdSIYpbnFnSlGgJ4cNdhGf1M3c6ws7IMsKvInxQ\n",
       "c2cvadp0i/BisPGsLnKnQ9GCprXiCe094Mf0t7ko+hRF+8bXd+3iJU2zqK+rpC4V28DV+voqiqpZ\n",
       "VXxEz+G9H0Oz9+OpUEOzF4M9e1alakQNiJ9H+GItc++r2eLTUB3hi7D4rJqlp26px6WXbSbNr+We\n",
       "lt6sPFzBnZvyo8ZvO/gnelhpyh1r0rxzt3zLYPCizkuBS+5N23rT4Edxz8aXnv7f4QpXXLxJ88W5\n",
       "YBsEb1SzWw6iHZtUzZl93M78m+4m3PrO3E1X1PRd0de8qiCfeeWcZ1XvK2e0fAPxYlBNVz2O42rq\n",
       "G/S1YEnACzdOU/43XO/WkKrJOaF/A59UjpE47D1uTOxQt4ZUffSUFEJfu9fDVtun3gOW5OS96VHw\n",
       "XgAAAABJRU5ErkJggg==\n",
       "\" style=\"display:inline;vertical-align:middle;\" /></a></span>"
      ],
      "text/plain": [
       "|- ((j - 1) + 1) = ((j - 1) + 1)"
      ]
     },
     "execution_count": 19,
     "metadata": {},
     "output_type": "execute_result"
    }
   ],
   "source": [
    "Add(subtract(j, one), one).simplification([InSet(j, Integer)])"
   ]
  },
  {
   "cell_type": "code",
   "execution_count": 20,
   "metadata": {},
   "outputs": [
    {
     "data": {
      "text/html": [
       "<span style=\"font-size:20px;\"> <a class=\"ProveItLink\" href=\"../__pv_it/demonstrations/f00a206d4dba9b9c7c44fdb59f0f1c67844922eb0/proof.ipynb\" style=\"text-decoration: none\">&nbsp;&#x22A2;&nbsp;&nbsp;</a><a class=\"ProveItLink\" href=\"../__pv_it/demonstrations/cd3311d6ba98329efcdbd7987079307d599368a50/expr.ipynb\"><img src=\"data:image/png;base64,iVBORw0KGgoAAAANSUhEUgAAAPsAAAAUBAMAAAC5TlbCAAAAMFBMVEX////MzMxUVFR2dna6uroQ\n",
       "EBCqqqqIiIgiIiJmZmYyMjJERETu7u6YmJjc3NwAAACgK8IjAAAAAXRSTlMAQObYZgAAAolJREFU\n",
       "SMeVVj2IE0EYfckme0luEwO2gum08gJX6Nl4pd1doSCiYCNqc14nhyBBUbBy8RoPFTyx0C38KUU8\n",
       "FkE8o6BYWoQtr/I8TsQiuM7M7kxmvpkNceAjuy/z3tv5ZuabAVpfIcLZ/MSFLjmwsTJLxeinPOCf\n",
       "Mf/9eP8VcIhQgrU3bZQdH6VkzscTEEbo8zzQ7Jg9Ojg2jz7hvYP3C8Ej217JfJuEoNBmmIXV6jGq\n",
       "i/CW89cL2c8D4CRw2OpdKGMS/GWC1pIsrFbtofwXwaJpfwqYSfDe6l0oYxKkvUK3kIXVGkOUd4An\n",
       "pv2LGDNtNOZp70IZkyDtFbrCXnjgw1V7SENgzrRn7U4Mz0qzlAmuvLRkNIK0V+hb9sQDYdXaNgtd\n",
       "4Du1r+yyWRZLyYtEE8pSpo6zVGVE0O1z9BZ75NFM9pyjxOssLlL7Gtsgfo92lTID/LZyqBFG9jl6\n",
       "gj3yCLDAN2xfDGg9W/t8XPv509EouhlFjwW6xqL0k3pImbgy5GJZXtomgWXr6eko6uio5AFHXPOZ\n",
       "2WujnwrH2sOjiTEIavQSlVkDntGCG+IHcJzYX0IrQaWnzX1HTz4adFVqBM1eomrpBXTS9gLXrKVX\n",
       "6mIqUStp1JTMF7KCTIK0VyjfWGJz+UNyhtyYvcu+edW035qdO8hWRZfaK5nLMSkIBkHaK5QnVyS4\n",
       "TiatkaYpg9ZJ2UnTP+y/NrVXMvdo2TEIquxIVFXLmqtiI+hZZYe1zeKie9t5tm7CKjsZmp8VpXi7\n",
       "7eKpI+ezjhYeOftaO057SQhiim6I2O6+dvL6zpQ4Dlwh09qdDicl5Gh2TyivuG8qGy5wuvC6ceAh\n",
       "JiXk6NhbUtPJG/zvZWtQhP4D/Grt9Y2oGDIAAAAASUVORK5CYII=\n",
       "\" style=\"display:inline;vertical-align:middle;\" /></a></span>"
      ],
      "text/plain": [
       "|- ((j - 2) + 2) = ((j - 2) + 2)"
      ]
     },
     "execution_count": 20,
     "metadata": {},
     "output_type": "execute_result"
    }
   ],
   "source": [
    "Add(subtract(j, two), two).simplification([InSet(j, Integer)])"
   ]
  },
  {
   "cell_type": "code",
   "execution_count": 21,
   "metadata": {},
   "outputs": [
    {
     "ename": "InstantiationFailure",
     "evalue": "Proof step failed assuming {j in Integer, i in Integer, (j - (i - 1)) in Natural}:\nAttempting to instantiate |- forall_{f} [forall_{a, b in Integer} [forall_{i, j, k, l | ((j + 1) - i) in Natural, (i + a) = (k + b), (j + a) = (l + b)} ((f(i + a), ..f(k + a).., f(j + a)) = (f(k + b), ..f(i + b).., f(l + b)))]] with {f: _a -> f(_a), a: 1, b: 2, i: i - 1, j: j - 1, k: (i - 1) - 1, l: (j - 1) - 1}:\nUnsatisfied condition: (((j - 1) + 1) - (i - 1)) in Natural",
     "output_type": "error",
     "traceback": [
      "\u001b[0;31m---------------------------------------------------------------------------\u001b[0m",
      "\u001b[0;31mProofFailure\u001b[0m                              Traceback (most recent call last)",
      "\u001b[0;32m/home/wwitzel/Prove-It/packages/proveit/_core_/expression/expr.py\u001b[0m in \u001b[0;36mprove\u001b[0;34m(self, assumptions, automation)\u001b[0m\n\u001b[1;32m    661\u001b[0m                     concluded_truth = self.conclude_via_implication(\n\u001b[0;32m--> 662\u001b[0;31m                         assumptions)\n\u001b[0m\u001b[1;32m    663\u001b[0m                 \u001b[0;32mexcept\u001b[0m \u001b[0mProofFailure\u001b[0m\u001b[0;34m:\u001b[0m\u001b[0;34m\u001b[0m\u001b[0;34m\u001b[0m\u001b[0m\n",
      "\u001b[0;32m/home/wwitzel/Prove-It/packages/proveit/_core_/expression/expr.py\u001b[0m in \u001b[0;36mconclude_via_implication\u001b[0;34m(self, assumptions)\u001b[0m\n\u001b[1;32m    753\u001b[0m         \u001b[0;32mfrom\u001b[0m \u001b[0mproveit\u001b[0m\u001b[0;34m.\u001b[0m\u001b[0mlogic\u001b[0m \u001b[0;32mimport\u001b[0m \u001b[0mconclude_via_implication\u001b[0m\u001b[0;34m\u001b[0m\u001b[0;34m\u001b[0m\u001b[0m\n\u001b[0;32m--> 754\u001b[0;31m         \u001b[0;32mreturn\u001b[0m \u001b[0mconclude_via_implication\u001b[0m\u001b[0;34m(\u001b[0m\u001b[0mself\u001b[0m\u001b[0;34m,\u001b[0m \u001b[0massumptions\u001b[0m\u001b[0;34m)\u001b[0m\u001b[0;34m\u001b[0m\u001b[0;34m\u001b[0m\u001b[0m\n\u001b[0m\u001b[1;32m    755\u001b[0m \u001b[0;34m\u001b[0m\u001b[0m\n",
      "\u001b[0;32m/home/wwitzel/Prove-It/packages/proveit/logic/booleans/implication/implies.py\u001b[0m in \u001b[0;36mconclude_via_implication\u001b[0;34m(consequent, assumptions)\u001b[0m\n\u001b[1;32m    377\u001b[0m         \u001b[0massumptions\u001b[0m\u001b[0;34m,\u001b[0m\u001b[0;34m\u001b[0m\u001b[0;34m\u001b[0m\u001b[0m\n\u001b[0;32m--> 378\u001b[0;31m         'Unable to conclude via implications')\n\u001b[0m\u001b[1;32m    379\u001b[0m \u001b[0;34m\u001b[0m\u001b[0m\n",
      "\u001b[0;31mProofFailure\u001b[0m: Unable to prove (((j - 1) + 1) - (i - 1)) in Natural assuming {j in Integer, i in Integer, (j - (i - 1)) in Natural}:\nUnable to conclude via implications",
      "\nDuring handling of the above exception, another exception occurred:\n",
      "\u001b[0;31mProofFailure\u001b[0m                              Traceback (most recent call last)",
      "\u001b[0;32m/home/wwitzel/Prove-It/packages/proveit/_core_/expression/expr.py\u001b[0m in \u001b[0;36mprove\u001b[0;34m(self, assumptions, automation)\u001b[0m\n\u001b[1;32m    661\u001b[0m                     concluded_truth = self.conclude_via_implication(\n\u001b[0;32m--> 662\u001b[0;31m                         assumptions)\n\u001b[0m\u001b[1;32m    663\u001b[0m                 \u001b[0;32mexcept\u001b[0m \u001b[0mProofFailure\u001b[0m\u001b[0;34m:\u001b[0m\u001b[0;34m\u001b[0m\u001b[0;34m\u001b[0m\u001b[0m\n",
      "\u001b[0;32m/home/wwitzel/Prove-It/packages/proveit/_core_/expression/expr.py\u001b[0m in \u001b[0;36mconclude_via_implication\u001b[0;34m(self, assumptions)\u001b[0m\n\u001b[1;32m    753\u001b[0m         \u001b[0;32mfrom\u001b[0m \u001b[0mproveit\u001b[0m\u001b[0;34m.\u001b[0m\u001b[0mlogic\u001b[0m \u001b[0;32mimport\u001b[0m \u001b[0mconclude_via_implication\u001b[0m\u001b[0;34m\u001b[0m\u001b[0;34m\u001b[0m\u001b[0m\n\u001b[0;32m--> 754\u001b[0;31m         \u001b[0;32mreturn\u001b[0m \u001b[0mconclude_via_implication\u001b[0m\u001b[0;34m(\u001b[0m\u001b[0mself\u001b[0m\u001b[0;34m,\u001b[0m \u001b[0massumptions\u001b[0m\u001b[0;34m)\u001b[0m\u001b[0;34m\u001b[0m\u001b[0;34m\u001b[0m\u001b[0m\n\u001b[0m\u001b[1;32m    755\u001b[0m \u001b[0;34m\u001b[0m\u001b[0m\n",
      "\u001b[0;32m/home/wwitzel/Prove-It/packages/proveit/logic/booleans/implication/implies.py\u001b[0m in \u001b[0;36mconclude_via_implication\u001b[0;34m(consequent, assumptions)\u001b[0m\n\u001b[1;32m    377\u001b[0m         \u001b[0massumptions\u001b[0m\u001b[0;34m,\u001b[0m\u001b[0;34m\u001b[0m\u001b[0;34m\u001b[0m\u001b[0m\n\u001b[0;32m--> 378\u001b[0;31m         'Unable to conclude via implications')\n\u001b[0m\u001b[1;32m    379\u001b[0m \u001b[0;34m\u001b[0m\u001b[0m\n",
      "\u001b[0;31mProofFailure\u001b[0m: Unable to prove ((j - 1) + 1) in Natural assuming {j in Integer, i in Integer, (j - (i - 1)) in Natural}:\nUnable to conclude via implications",
      "\nDuring handling of the above exception, another exception occurred:\n",
      "\u001b[0;31mProofFailure\u001b[0m                              Traceback (most recent call last)",
      "\u001b[0;32m/home/wwitzel/Prove-It/packages/proveit/_core_/expression/expr.py\u001b[0m in \u001b[0;36mprove\u001b[0;34m(self, assumptions, automation)\u001b[0m\n\u001b[1;32m    661\u001b[0m                     concluded_truth = self.conclude_via_implication(\n\u001b[0;32m--> 662\u001b[0;31m                         assumptions)\n\u001b[0m\u001b[1;32m    663\u001b[0m                 \u001b[0;32mexcept\u001b[0m \u001b[0mProofFailure\u001b[0m\u001b[0;34m:\u001b[0m\u001b[0;34m\u001b[0m\u001b[0;34m\u001b[0m\u001b[0m\n",
      "\u001b[0;32m/home/wwitzel/Prove-It/packages/proveit/_core_/expression/expr.py\u001b[0m in \u001b[0;36mconclude_via_implication\u001b[0;34m(self, assumptions)\u001b[0m\n\u001b[1;32m    753\u001b[0m         \u001b[0;32mfrom\u001b[0m \u001b[0mproveit\u001b[0m\u001b[0;34m.\u001b[0m\u001b[0mlogic\u001b[0m \u001b[0;32mimport\u001b[0m \u001b[0mconclude_via_implication\u001b[0m\u001b[0;34m\u001b[0m\u001b[0;34m\u001b[0m\u001b[0m\n\u001b[0;32m--> 754\u001b[0;31m         \u001b[0;32mreturn\u001b[0m \u001b[0mconclude_via_implication\u001b[0m\u001b[0;34m(\u001b[0m\u001b[0mself\u001b[0m\u001b[0;34m,\u001b[0m \u001b[0massumptions\u001b[0m\u001b[0;34m)\u001b[0m\u001b[0;34m\u001b[0m\u001b[0;34m\u001b[0m\u001b[0m\n\u001b[0m\u001b[1;32m    755\u001b[0m \u001b[0;34m\u001b[0m\u001b[0m\n",
      "\u001b[0;32m/home/wwitzel/Prove-It/packages/proveit/logic/booleans/implication/implies.py\u001b[0m in \u001b[0;36mconclude_via_implication\u001b[0;34m(consequent, assumptions)\u001b[0m\n\u001b[1;32m    377\u001b[0m         \u001b[0massumptions\u001b[0m\u001b[0;34m,\u001b[0m\u001b[0;34m\u001b[0m\u001b[0;34m\u001b[0m\u001b[0m\n\u001b[0;32m--> 378\u001b[0;31m         'Unable to conclude via implications')\n\u001b[0m\u001b[1;32m    379\u001b[0m \u001b[0;34m\u001b[0m\u001b[0m\n",
      "\u001b[0;31mProofFailure\u001b[0m: Unable to prove (j - 1) in Natural assuming {j in Integer, i in Integer, (j - (i - 1)) in Natural}:\nUnable to conclude via implications",
      "\nDuring handling of the above exception, another exception occurred:\n",
      "\u001b[0;31mProofFailure\u001b[0m                              Traceback (most recent call last)",
      "\u001b[0;32m/home/wwitzel/Prove-It/packages/proveit/_core_/expression/expr.py\u001b[0m in \u001b[0;36mprove\u001b[0;34m(self, assumptions, automation)\u001b[0m\n\u001b[1;32m    661\u001b[0m                     concluded_truth = self.conclude_via_implication(\n\u001b[0;32m--> 662\u001b[0;31m                         assumptions)\n\u001b[0m\u001b[1;32m    663\u001b[0m                 \u001b[0;32mexcept\u001b[0m \u001b[0mProofFailure\u001b[0m\u001b[0;34m:\u001b[0m\u001b[0;34m\u001b[0m\u001b[0;34m\u001b[0m\u001b[0m\n",
      "\u001b[0;32m/home/wwitzel/Prove-It/packages/proveit/_core_/expression/expr.py\u001b[0m in \u001b[0;36mconclude_via_implication\u001b[0;34m(self, assumptions)\u001b[0m\n\u001b[1;32m    753\u001b[0m         \u001b[0;32mfrom\u001b[0m \u001b[0mproveit\u001b[0m\u001b[0;34m.\u001b[0m\u001b[0mlogic\u001b[0m \u001b[0;32mimport\u001b[0m \u001b[0mconclude_via_implication\u001b[0m\u001b[0;34m\u001b[0m\u001b[0;34m\u001b[0m\u001b[0m\n\u001b[0;32m--> 754\u001b[0;31m         \u001b[0;32mreturn\u001b[0m \u001b[0mconclude_via_implication\u001b[0m\u001b[0;34m(\u001b[0m\u001b[0mself\u001b[0m\u001b[0;34m,\u001b[0m \u001b[0massumptions\u001b[0m\u001b[0;34m)\u001b[0m\u001b[0;34m\u001b[0m\u001b[0;34m\u001b[0m\u001b[0m\n\u001b[0m\u001b[1;32m    755\u001b[0m \u001b[0;34m\u001b[0m\u001b[0m\n",
      "\u001b[0;32m/home/wwitzel/Prove-It/packages/proveit/logic/booleans/implication/implies.py\u001b[0m in \u001b[0;36mconclude_via_implication\u001b[0;34m(consequent, assumptions)\u001b[0m\n\u001b[1;32m    377\u001b[0m         \u001b[0massumptions\u001b[0m\u001b[0;34m,\u001b[0m\u001b[0;34m\u001b[0m\u001b[0;34m\u001b[0m\u001b[0m\n\u001b[0;32m--> 378\u001b[0;31m         'Unable to conclude via implications')\n\u001b[0m\u001b[1;32m    379\u001b[0m \u001b[0;34m\u001b[0m\u001b[0m\n",
      "\u001b[0;31mProofFailure\u001b[0m: Unable to prove j in NaturalPos assuming {j in Integer, i in Integer, (j - (i - 1)) in Natural}:\nUnable to conclude via implications",
      "\nDuring handling of the above exception, another exception occurred:\n",
      "\u001b[0;31mProofFailure\u001b[0m                              Traceback (most recent call last)",
      "\u001b[0;32m/home/wwitzel/Prove-It/packages/proveit/_core_/proof.py\u001b[0m in \u001b[0;36m_instantiated_expr\u001b[0;34m(original_judgment, num_forall_eliminations, instantiation_params, repl_map, equiv_alt_expansions, assumptions, requirements, equality_repl_requirements)\u001b[0m\n\u001b[1;32m   1382\u001b[0m                     \u001b[0;32mtry\u001b[0m\u001b[0;34m:\u001b[0m\u001b[0;34m\u001b[0m\u001b[0;34m\u001b[0m\u001b[0m\n\u001b[0;32m-> 1383\u001b[0;31m                         \u001b[0mrequirements\u001b[0m\u001b[0;34m.\u001b[0m\u001b[0mappend\u001b[0m\u001b[0;34m(\u001b[0m\u001b[0msubbed_cond\u001b[0m\u001b[0;34m.\u001b[0m\u001b[0mprove\u001b[0m\u001b[0;34m(\u001b[0m\u001b[0massumptions\u001b[0m\u001b[0;34m)\u001b[0m\u001b[0;34m)\u001b[0m\u001b[0;34m\u001b[0m\u001b[0;34m\u001b[0m\u001b[0m\n\u001b[0m\u001b[1;32m   1384\u001b[0m                     \u001b[0;32mexcept\u001b[0m \u001b[0mProofFailure\u001b[0m\u001b[0;34m:\u001b[0m\u001b[0;34m\u001b[0m\u001b[0;34m\u001b[0m\u001b[0m\n",
      "\u001b[0;32m/home/wwitzel/Prove-It/packages/proveit/_core_/expression/expr.py\u001b[0m in \u001b[0;36mprove\u001b[0;34m(self, assumptions, automation)\u001b[0m\n\u001b[1;32m    665\u001b[0m                     \u001b[0;31m# class\u001b[0m\u001b[0;34m\u001b[0m\u001b[0;34m\u001b[0m\u001b[0;34m\u001b[0m\u001b[0m\n\u001b[0;32m--> 666\u001b[0;31m                     \u001b[0mconcluded_truth\u001b[0m \u001b[0;34m=\u001b[0m \u001b[0mself\u001b[0m\u001b[0;34m.\u001b[0m\u001b[0mconclude\u001b[0m\u001b[0;34m(\u001b[0m\u001b[0massumptions\u001b[0m\u001b[0;34m)\u001b[0m\u001b[0;34m\u001b[0m\u001b[0;34m\u001b[0m\u001b[0m\n\u001b[0m\u001b[1;32m    667\u001b[0m             \u001b[0;32mif\u001b[0m \u001b[0mconcluded_truth\u001b[0m \u001b[0;32mis\u001b[0m \u001b[0;32mNone\u001b[0m\u001b[0;34m:\u001b[0m\u001b[0;34m\u001b[0m\u001b[0;34m\u001b[0m\u001b[0m\n",
      "\u001b[0;32m/home/wwitzel/Prove-It/packages/proveit/logic/sets/membership/in_set.py\u001b[0m in \u001b[0;36mconclude\u001b[0;34m(self, assumptions)\u001b[0m\n\u001b[1;32m    142\u001b[0m             \u001b[0;32mif\u001b[0m \u001b[0mhasattr\u001b[0m\u001b[0;34m(\u001b[0m\u001b[0mself\u001b[0m\u001b[0;34m,\u001b[0m \u001b[0;34m'membership_object'\u001b[0m\u001b[0;34m)\u001b[0m\u001b[0;34m:\u001b[0m\u001b[0;34m\u001b[0m\u001b[0;34m\u001b[0m\u001b[0m\n\u001b[0;32m--> 143\u001b[0;31m                 \u001b[0;32mreturn\u001b[0m \u001b[0mself\u001b[0m\u001b[0;34m.\u001b[0m\u001b[0mmembership_object\u001b[0m\u001b[0;34m.\u001b[0m\u001b[0mconclude\u001b[0m\u001b[0;34m(\u001b[0m\u001b[0massumptions\u001b[0m\u001b[0;34m)\u001b[0m\u001b[0;34m\u001b[0m\u001b[0;34m\u001b[0m\u001b[0m\n\u001b[0m\u001b[1;32m    144\u001b[0m \u001b[0;34m\u001b[0m\u001b[0m\n",
      "\u001b[0;32m/home/wwitzel/Prove-It/packages/proveit/numbers/number_sets/number_set.py\u001b[0m in \u001b[0;36mconclude\u001b[0;34m(self, assumptions)\u001b[0m\n\u001b[1;32m     86\u001b[0m             raise ProofFailure(InSet(self.element, self.number_set),\n\u001b[0;32m---> 87\u001b[0;31m                                assumptions, msg)\n\u001b[0m\u001b[1;32m     88\u001b[0m \u001b[0;34m\u001b[0m\u001b[0m\n",
      "\u001b[0;31mProofFailure\u001b[0m: Unable to prove j in NaturalPos assuming {j in Integer, i in Integer, (j - (i - 1)) in Natural}:\nj has no 'deduce_in_number_set' method.",
      "\nDuring handling of the above exception, another exception occurred:\n",
      "\u001b[0;31mInstantiationFailure\u001b[0m                      Traceback (most recent call last)",
      "\u001b[0;32m/home/wwitzel/Prove-It/packages/proveit/_core_/proof.py\u001b[0m in \u001b[0;36m_instantiated_expr\u001b[0;34m(original_judgment, num_forall_eliminations, instantiation_params, repl_map, equiv_alt_expansions, assumptions, requirements, equality_repl_requirements)\u001b[0m\n\u001b[1;32m   1382\u001b[0m                     \u001b[0;32mtry\u001b[0m\u001b[0;34m:\u001b[0m\u001b[0;34m\u001b[0m\u001b[0;34m\u001b[0m\u001b[0m\n\u001b[0;32m-> 1383\u001b[0;31m                         \u001b[0mrequirements\u001b[0m\u001b[0;34m.\u001b[0m\u001b[0mappend\u001b[0m\u001b[0;34m(\u001b[0m\u001b[0msubbed_cond\u001b[0m\u001b[0;34m.\u001b[0m\u001b[0mprove\u001b[0m\u001b[0;34m(\u001b[0m\u001b[0massumptions\u001b[0m\u001b[0;34m)\u001b[0m\u001b[0;34m)\u001b[0m\u001b[0;34m\u001b[0m\u001b[0;34m\u001b[0m\u001b[0m\n\u001b[0m\u001b[1;32m   1384\u001b[0m                     \u001b[0;32mexcept\u001b[0m \u001b[0mProofFailure\u001b[0m\u001b[0;34m:\u001b[0m\u001b[0;34m\u001b[0m\u001b[0;34m\u001b[0m\u001b[0m\n",
      "\u001b[0;32m/home/wwitzel/Prove-It/packages/proveit/_core_/expression/expr.py\u001b[0m in \u001b[0;36mprove\u001b[0;34m(self, assumptions, automation)\u001b[0m\n\u001b[1;32m    665\u001b[0m                     \u001b[0;31m# class\u001b[0m\u001b[0;34m\u001b[0m\u001b[0;34m\u001b[0m\u001b[0;34m\u001b[0m\u001b[0m\n\u001b[0;32m--> 666\u001b[0;31m                     \u001b[0mconcluded_truth\u001b[0m \u001b[0;34m=\u001b[0m \u001b[0mself\u001b[0m\u001b[0;34m.\u001b[0m\u001b[0mconclude\u001b[0m\u001b[0;34m(\u001b[0m\u001b[0massumptions\u001b[0m\u001b[0;34m)\u001b[0m\u001b[0;34m\u001b[0m\u001b[0;34m\u001b[0m\u001b[0m\n\u001b[0m\u001b[1;32m    667\u001b[0m             \u001b[0;32mif\u001b[0m \u001b[0mconcluded_truth\u001b[0m \u001b[0;32mis\u001b[0m \u001b[0;32mNone\u001b[0m\u001b[0;34m:\u001b[0m\u001b[0;34m\u001b[0m\u001b[0;34m\u001b[0m\u001b[0m\n",
      "\u001b[0;32m/home/wwitzel/Prove-It/packages/proveit/logic/sets/membership/in_set.py\u001b[0m in \u001b[0;36mconclude\u001b[0;34m(self, assumptions)\u001b[0m\n\u001b[1;32m    142\u001b[0m             \u001b[0;32mif\u001b[0m \u001b[0mhasattr\u001b[0m\u001b[0;34m(\u001b[0m\u001b[0mself\u001b[0m\u001b[0;34m,\u001b[0m \u001b[0;34m'membership_object'\u001b[0m\u001b[0;34m)\u001b[0m\u001b[0;34m:\u001b[0m\u001b[0;34m\u001b[0m\u001b[0;34m\u001b[0m\u001b[0m\n\u001b[0;32m--> 143\u001b[0;31m                 \u001b[0;32mreturn\u001b[0m \u001b[0mself\u001b[0m\u001b[0;34m.\u001b[0m\u001b[0mmembership_object\u001b[0m\u001b[0;34m.\u001b[0m\u001b[0mconclude\u001b[0m\u001b[0;34m(\u001b[0m\u001b[0massumptions\u001b[0m\u001b[0;34m)\u001b[0m\u001b[0;34m\u001b[0m\u001b[0;34m\u001b[0m\u001b[0m\n\u001b[0m\u001b[1;32m    144\u001b[0m \u001b[0;34m\u001b[0m\u001b[0m\n",
      "\u001b[0;32m/home/wwitzel/Prove-It/packages/proveit/numbers/number_sets/number_set.py\u001b[0m in \u001b[0;36mconclude\u001b[0;34m(self, assumptions)\u001b[0m\n\u001b[1;32m     82\u001b[0m             return element.deduce_in_number_set(self.number_set,\n\u001b[0;32m---> 83\u001b[0;31m                                                 assumptions=assumptions)\n\u001b[0m\u001b[1;32m     84\u001b[0m         \u001b[0;32melse\u001b[0m\u001b[0;34m:\u001b[0m\u001b[0;34m\u001b[0m\u001b[0;34m\u001b[0m\u001b[0m\n",
      "\u001b[0;32m/home/wwitzel/Prove-It/packages/proveit/numbers/addition/add.py\u001b[0m in \u001b[0;36mdeduce_in_number_set\u001b[0;34m(self, number_set, assumptions)\u001b[0m\n\u001b[1;32m   1011\u001b[0m                         return sub_one_is_nat.instantiate(\n\u001b[0;32m-> 1012\u001b[0;31m                             {a: self.operands[0]}, assumptions=assumptions)\n\u001b[0m\u001b[1;32m   1013\u001b[0m                     \u001b[0;31m# (a-b) in Natural requires that b <= a.\u001b[0m\u001b[0;34m\u001b[0m\u001b[0;34m\u001b[0m\u001b[0;34m\u001b[0m\u001b[0m\n",
      "\u001b[0;32m/home/wwitzel/Prove-It/packages/proveit/_core_/judgment.py\u001b[0m in \u001b[0;36minstantiate\u001b[0;34m(self, repl_map, num_forall_eliminations, assumptions)\u001b[0m\n\u001b[1;32m    895\u001b[0m                           \u001b[0mequiv_alt_expansions\u001b[0m\u001b[0;34m=\u001b[0m\u001b[0mequiv_alt_expansions\u001b[0m\u001b[0;34m,\u001b[0m\u001b[0;34m\u001b[0m\u001b[0;34m\u001b[0m\u001b[0m\n\u001b[0;32m--> 896\u001b[0;31m                           assumptions=assumptions))\n\u001b[0m\u001b[1;32m    897\u001b[0m \u001b[0;34m\u001b[0m\u001b[0m\n",
      "\u001b[0;32m/home/wwitzel/Prove-It/packages/proveit/_core_/proof.py\u001b[0m in \u001b[0;36m__init__\u001b[0;34m(self, orig_judgment, num_forall_eliminations, repl_map, equiv_alt_expansions, assumptions)\u001b[0m\n\u001b[1;32m   1071\u001b[0m                     \u001b[0massumptions\u001b[0m\u001b[0;34m,\u001b[0m \u001b[0mrequirements\u001b[0m\u001b[0;34m,\u001b[0m\u001b[0;34m\u001b[0m\u001b[0;34m\u001b[0m\u001b[0m\n\u001b[0;32m-> 1072\u001b[0;31m                     equality_repl_requirements)\n\u001b[0m\u001b[1;32m   1073\u001b[0m \u001b[0;34m\u001b[0m\u001b[0m\n",
      "\u001b[0;32m/home/wwitzel/Prove-It/packages/proveit/_core_/proof.py\u001b[0m in \u001b[0;36m_instantiated_expr\u001b[0;34m(original_judgment, num_forall_eliminations, instantiation_params, repl_map, equiv_alt_expansions, assumptions, requirements, equality_repl_requirements)\u001b[0m\n\u001b[1;32m   1385\u001b[0m                         raise_failure('Unsatisfied condition: %s'\n\u001b[0;32m-> 1386\u001b[0;31m                                       % str(subbed_cond))\n\u001b[0m\u001b[1;32m   1387\u001b[0m \u001b[0;34m\u001b[0m\u001b[0m\n",
      "\u001b[0;32m/home/wwitzel/Prove-It/packages/proveit/_core_/proof.py\u001b[0m in \u001b[0;36mraise_failure\u001b[0;34m(msg)\u001b[0m\n\u001b[1;32m   1254\u001b[0m             raise InstantiationFailure(original_judgment, repl_map,\n\u001b[0;32m-> 1255\u001b[0;31m                                        assumptions, msg)\n\u001b[0m\u001b[1;32m   1256\u001b[0m         instantiation_param_vars = [get_param_var(param) for param\n",
      "\u001b[0;31mInstantiationFailure\u001b[0m: Proof step failed assuming {j in Integer, i in Integer, (j - (i - 1)) in Natural}:\nAttempting to instantiate |- forall_{a in NaturalPos} ((a - 1) in Natural) with {a: j}:\nUnsatisfied condition: j in NaturalPos",
      "\nDuring handling of the above exception, another exception occurred:\n",
      "\u001b[0;31mInstantiationFailure\u001b[0m                      Traceback (most recent call last)",
      "\u001b[0;32m/home/wwitzel/Prove-It/packages/proveit/_core_/proof.py\u001b[0m in \u001b[0;36m_instantiated_expr\u001b[0;34m(original_judgment, num_forall_eliminations, instantiation_params, repl_map, equiv_alt_expansions, assumptions, requirements, equality_repl_requirements)\u001b[0m\n\u001b[1;32m   1382\u001b[0m                     \u001b[0;32mtry\u001b[0m\u001b[0;34m:\u001b[0m\u001b[0;34m\u001b[0m\u001b[0;34m\u001b[0m\u001b[0m\n\u001b[0;32m-> 1383\u001b[0;31m                         \u001b[0mrequirements\u001b[0m\u001b[0;34m.\u001b[0m\u001b[0mappend\u001b[0m\u001b[0;34m(\u001b[0m\u001b[0msubbed_cond\u001b[0m\u001b[0;34m.\u001b[0m\u001b[0mprove\u001b[0m\u001b[0;34m(\u001b[0m\u001b[0massumptions\u001b[0m\u001b[0;34m)\u001b[0m\u001b[0;34m)\u001b[0m\u001b[0;34m\u001b[0m\u001b[0;34m\u001b[0m\u001b[0m\n\u001b[0m\u001b[1;32m   1384\u001b[0m                     \u001b[0;32mexcept\u001b[0m \u001b[0mProofFailure\u001b[0m\u001b[0;34m:\u001b[0m\u001b[0;34m\u001b[0m\u001b[0;34m\u001b[0m\u001b[0m\n",
      "\u001b[0;32m/home/wwitzel/Prove-It/packages/proveit/_core_/expression/expr.py\u001b[0m in \u001b[0;36mprove\u001b[0;34m(self, assumptions, automation)\u001b[0m\n\u001b[1;32m    665\u001b[0m                     \u001b[0;31m# class\u001b[0m\u001b[0;34m\u001b[0m\u001b[0;34m\u001b[0m\u001b[0;34m\u001b[0m\u001b[0m\n\u001b[0;32m--> 666\u001b[0;31m                     \u001b[0mconcluded_truth\u001b[0m \u001b[0;34m=\u001b[0m \u001b[0mself\u001b[0m\u001b[0;34m.\u001b[0m\u001b[0mconclude\u001b[0m\u001b[0;34m(\u001b[0m\u001b[0massumptions\u001b[0m\u001b[0;34m)\u001b[0m\u001b[0;34m\u001b[0m\u001b[0;34m\u001b[0m\u001b[0m\n\u001b[0m\u001b[1;32m    667\u001b[0m             \u001b[0;32mif\u001b[0m \u001b[0mconcluded_truth\u001b[0m \u001b[0;32mis\u001b[0m \u001b[0;32mNone\u001b[0m\u001b[0;34m:\u001b[0m\u001b[0;34m\u001b[0m\u001b[0;34m\u001b[0m\u001b[0m\n",
      "\u001b[0;32m/home/wwitzel/Prove-It/packages/proveit/logic/sets/membership/in_set.py\u001b[0m in \u001b[0;36mconclude\u001b[0;34m(self, assumptions)\u001b[0m\n\u001b[1;32m    142\u001b[0m             \u001b[0;32mif\u001b[0m \u001b[0mhasattr\u001b[0m\u001b[0;34m(\u001b[0m\u001b[0mself\u001b[0m\u001b[0;34m,\u001b[0m \u001b[0;34m'membership_object'\u001b[0m\u001b[0;34m)\u001b[0m\u001b[0;34m:\u001b[0m\u001b[0;34m\u001b[0m\u001b[0;34m\u001b[0m\u001b[0m\n\u001b[0;32m--> 143\u001b[0;31m                 \u001b[0;32mreturn\u001b[0m \u001b[0mself\u001b[0m\u001b[0;34m.\u001b[0m\u001b[0mmembership_object\u001b[0m\u001b[0;34m.\u001b[0m\u001b[0mconclude\u001b[0m\u001b[0;34m(\u001b[0m\u001b[0massumptions\u001b[0m\u001b[0;34m)\u001b[0m\u001b[0;34m\u001b[0m\u001b[0;34m\u001b[0m\u001b[0m\n\u001b[0m\u001b[1;32m    144\u001b[0m \u001b[0;34m\u001b[0m\u001b[0m\n",
      "\u001b[0;32m/home/wwitzel/Prove-It/packages/proveit/numbers/number_sets/number_set.py\u001b[0m in \u001b[0;36mconclude\u001b[0;34m(self, assumptions)\u001b[0m\n\u001b[1;32m     82\u001b[0m             return element.deduce_in_number_set(self.number_set,\n\u001b[0;32m---> 83\u001b[0;31m                                                 assumptions=assumptions)\n\u001b[0m\u001b[1;32m     84\u001b[0m         \u001b[0;32melse\u001b[0m\u001b[0;34m:\u001b[0m\u001b[0;34m\u001b[0m\u001b[0;34m\u001b[0m\u001b[0m\n",
      "\u001b[0;32m/home/wwitzel/Prove-It/packages/proveit/numbers/addition/add.py\u001b[0m in \u001b[0;36mdeduce_in_number_set\u001b[0;34m(self, number_set, assumptions)\u001b[0m\n\u001b[1;32m   1018\u001b[0m                     \u001b[0;34m{\u001b[0m\u001b[0ma\u001b[0m\u001b[0;34m:\u001b[0m \u001b[0mself\u001b[0m\u001b[0;34m.\u001b[0m\u001b[0moperands\u001b[0m\u001b[0;34m[\u001b[0m\u001b[0;36m0\u001b[0m\u001b[0;34m]\u001b[0m\u001b[0;34m,\u001b[0m \u001b[0mb\u001b[0m\u001b[0;34m:\u001b[0m \u001b[0mself\u001b[0m\u001b[0;34m.\u001b[0m\u001b[0moperands\u001b[0m\u001b[0;34m[\u001b[0m\u001b[0;36m1\u001b[0m\u001b[0;34m]\u001b[0m\u001b[0;34m}\u001b[0m\u001b[0;34m,\u001b[0m\u001b[0;34m\u001b[0m\u001b[0;34m\u001b[0m\u001b[0m\n\u001b[0;32m-> 1019\u001b[0;31m                     assumptions=assumptions)            \n\u001b[0m\u001b[1;32m   1020\u001b[0m             \u001b[0m_a\u001b[0m \u001b[0;34m=\u001b[0m \u001b[0mself\u001b[0m\u001b[0;34m.\u001b[0m\u001b[0moperands\u001b[0m\u001b[0;34m\u001b[0m\u001b[0;34m\u001b[0m\u001b[0m\n",
      "\u001b[0;32m/home/wwitzel/Prove-It/packages/proveit/_core_/judgment.py\u001b[0m in \u001b[0;36minstantiate\u001b[0;34m(self, repl_map, num_forall_eliminations, assumptions)\u001b[0m\n\u001b[1;32m    895\u001b[0m                           \u001b[0mequiv_alt_expansions\u001b[0m\u001b[0;34m=\u001b[0m\u001b[0mequiv_alt_expansions\u001b[0m\u001b[0;34m,\u001b[0m\u001b[0;34m\u001b[0m\u001b[0;34m\u001b[0m\u001b[0m\n\u001b[0;32m--> 896\u001b[0;31m                           assumptions=assumptions))\n\u001b[0m\u001b[1;32m    897\u001b[0m \u001b[0;34m\u001b[0m\u001b[0m\n",
      "\u001b[0;32m/home/wwitzel/Prove-It/packages/proveit/_core_/proof.py\u001b[0m in \u001b[0;36m__init__\u001b[0;34m(self, orig_judgment, num_forall_eliminations, repl_map, equiv_alt_expansions, assumptions)\u001b[0m\n\u001b[1;32m   1071\u001b[0m                     \u001b[0massumptions\u001b[0m\u001b[0;34m,\u001b[0m \u001b[0mrequirements\u001b[0m\u001b[0;34m,\u001b[0m\u001b[0;34m\u001b[0m\u001b[0;34m\u001b[0m\u001b[0m\n\u001b[0;32m-> 1072\u001b[0;31m                     equality_repl_requirements)\n\u001b[0m\u001b[1;32m   1073\u001b[0m \u001b[0;34m\u001b[0m\u001b[0m\n",
      "\u001b[0;32m/home/wwitzel/Prove-It/packages/proveit/_core_/proof.py\u001b[0m in \u001b[0;36m_instantiated_expr\u001b[0;34m(original_judgment, num_forall_eliminations, instantiation_params, repl_map, equiv_alt_expansions, assumptions, requirements, equality_repl_requirements)\u001b[0m\n\u001b[1;32m   1385\u001b[0m                         raise_failure('Unsatisfied condition: %s'\n\u001b[0;32m-> 1386\u001b[0;31m                                       % str(subbed_cond))\n\u001b[0m\u001b[1;32m   1387\u001b[0m \u001b[0;34m\u001b[0m\u001b[0m\n",
      "\u001b[0;32m/home/wwitzel/Prove-It/packages/proveit/_core_/proof.py\u001b[0m in \u001b[0;36mraise_failure\u001b[0;34m(msg)\u001b[0m\n\u001b[1;32m   1254\u001b[0m             raise InstantiationFailure(original_judgment, repl_map,\n\u001b[0;32m-> 1255\u001b[0;31m                                        assumptions, msg)\n\u001b[0m\u001b[1;32m   1256\u001b[0m         instantiation_param_vars = [get_param_var(param) for param\n",
      "\u001b[0;31mInstantiationFailure\u001b[0m: Proof step failed assuming {j in Integer, i in Integer, (j - (i - 1)) in Natural}:\nAttempting to instantiate |- forall_{a, b in Natural} ((a + b) in Natural) with {a: j - 1, b: 1}:\nUnsatisfied condition: (j - 1) in Natural",
      "\nDuring handling of the above exception, another exception occurred:\n",
      "\u001b[0;31mInstantiationFailure\u001b[0m                      Traceback (most recent call last)",
      "\u001b[0;32m/home/wwitzel/Prove-It/packages/proveit/_core_/proof.py\u001b[0m in \u001b[0;36m_instantiated_expr\u001b[0;34m(original_judgment, num_forall_eliminations, instantiation_params, repl_map, equiv_alt_expansions, assumptions, requirements, equality_repl_requirements)\u001b[0m\n\u001b[1;32m   1382\u001b[0m                     \u001b[0;32mtry\u001b[0m\u001b[0;34m:\u001b[0m\u001b[0;34m\u001b[0m\u001b[0;34m\u001b[0m\u001b[0m\n\u001b[0;32m-> 1383\u001b[0;31m                         \u001b[0mrequirements\u001b[0m\u001b[0;34m.\u001b[0m\u001b[0mappend\u001b[0m\u001b[0;34m(\u001b[0m\u001b[0msubbed_cond\u001b[0m\u001b[0;34m.\u001b[0m\u001b[0mprove\u001b[0m\u001b[0;34m(\u001b[0m\u001b[0massumptions\u001b[0m\u001b[0;34m)\u001b[0m\u001b[0;34m)\u001b[0m\u001b[0;34m\u001b[0m\u001b[0;34m\u001b[0m\u001b[0m\n\u001b[0m\u001b[1;32m   1384\u001b[0m                     \u001b[0;32mexcept\u001b[0m \u001b[0mProofFailure\u001b[0m\u001b[0;34m:\u001b[0m\u001b[0;34m\u001b[0m\u001b[0;34m\u001b[0m\u001b[0m\n",
      "\u001b[0;32m/home/wwitzel/Prove-It/packages/proveit/_core_/expression/expr.py\u001b[0m in \u001b[0;36mprove\u001b[0;34m(self, assumptions, automation)\u001b[0m\n\u001b[1;32m    665\u001b[0m                     \u001b[0;31m# class\u001b[0m\u001b[0;34m\u001b[0m\u001b[0;34m\u001b[0m\u001b[0;34m\u001b[0m\u001b[0m\n\u001b[0;32m--> 666\u001b[0;31m                     \u001b[0mconcluded_truth\u001b[0m \u001b[0;34m=\u001b[0m \u001b[0mself\u001b[0m\u001b[0;34m.\u001b[0m\u001b[0mconclude\u001b[0m\u001b[0;34m(\u001b[0m\u001b[0massumptions\u001b[0m\u001b[0;34m)\u001b[0m\u001b[0;34m\u001b[0m\u001b[0;34m\u001b[0m\u001b[0m\n\u001b[0m\u001b[1;32m    667\u001b[0m             \u001b[0;32mif\u001b[0m \u001b[0mconcluded_truth\u001b[0m \u001b[0;32mis\u001b[0m \u001b[0;32mNone\u001b[0m\u001b[0;34m:\u001b[0m\u001b[0;34m\u001b[0m\u001b[0;34m\u001b[0m\u001b[0m\n",
      "\u001b[0;32m/home/wwitzel/Prove-It/packages/proveit/logic/sets/membership/in_set.py\u001b[0m in \u001b[0;36mconclude\u001b[0;34m(self, assumptions)\u001b[0m\n\u001b[1;32m    142\u001b[0m             \u001b[0;32mif\u001b[0m \u001b[0mhasattr\u001b[0m\u001b[0;34m(\u001b[0m\u001b[0mself\u001b[0m\u001b[0;34m,\u001b[0m \u001b[0;34m'membership_object'\u001b[0m\u001b[0;34m)\u001b[0m\u001b[0;34m:\u001b[0m\u001b[0;34m\u001b[0m\u001b[0;34m\u001b[0m\u001b[0m\n\u001b[0;32m--> 143\u001b[0;31m                 \u001b[0;32mreturn\u001b[0m \u001b[0mself\u001b[0m\u001b[0;34m.\u001b[0m\u001b[0mmembership_object\u001b[0m\u001b[0;34m.\u001b[0m\u001b[0mconclude\u001b[0m\u001b[0;34m(\u001b[0m\u001b[0massumptions\u001b[0m\u001b[0;34m)\u001b[0m\u001b[0;34m\u001b[0m\u001b[0;34m\u001b[0m\u001b[0m\n\u001b[0m\u001b[1;32m    144\u001b[0m \u001b[0;34m\u001b[0m\u001b[0m\n",
      "\u001b[0;32m/home/wwitzel/Prove-It/packages/proveit/numbers/number_sets/number_set.py\u001b[0m in \u001b[0;36mconclude\u001b[0;34m(self, assumptions)\u001b[0m\n\u001b[1;32m     82\u001b[0m             return element.deduce_in_number_set(self.number_set,\n\u001b[0;32m---> 83\u001b[0;31m                                                 assumptions=assumptions)\n\u001b[0m\u001b[1;32m     84\u001b[0m         \u001b[0;32melse\u001b[0m\u001b[0;34m:\u001b[0m\u001b[0;34m\u001b[0m\u001b[0;34m\u001b[0m\u001b[0m\n",
      "\u001b[0;32m/home/wwitzel/Prove-It/packages/proveit/numbers/addition/add.py\u001b[0m in \u001b[0;36mdeduce_in_number_set\u001b[0;34m(self, number_set, assumptions)\u001b[0m\n\u001b[1;32m   1015\u001b[0m                         \u001b[0;34m{\u001b[0m\u001b[0ma\u001b[0m\u001b[0;34m:\u001b[0m \u001b[0mself\u001b[0m\u001b[0;34m.\u001b[0m\u001b[0moperands\u001b[0m\u001b[0;34m[\u001b[0m\u001b[0;36m0\u001b[0m\u001b[0;34m]\u001b[0m\u001b[0;34m,\u001b[0m \u001b[0mb\u001b[0m\u001b[0;34m:\u001b[0m \u001b[0mself\u001b[0m\u001b[0;34m.\u001b[0m\u001b[0moperands\u001b[0m\u001b[0;34m[\u001b[0m\u001b[0;36m1\u001b[0m\u001b[0;34m]\u001b[0m\u001b[0;34m.\u001b[0m\u001b[0moperand\u001b[0m\u001b[0;34m}\u001b[0m\u001b[0;34m,\u001b[0m\u001b[0;34m\u001b[0m\u001b[0;34m\u001b[0m\u001b[0m\n\u001b[0;32m-> 1016\u001b[0;31m                         assumptions=assumptions)\n\u001b[0m\u001b[1;32m   1017\u001b[0m                 return add_nat_closure_bin.instantiate(\n",
      "\u001b[0;32m/home/wwitzel/Prove-It/packages/proveit/_core_/judgment.py\u001b[0m in \u001b[0;36minstantiate\u001b[0;34m(self, repl_map, num_forall_eliminations, assumptions)\u001b[0m\n\u001b[1;32m    895\u001b[0m                           \u001b[0mequiv_alt_expansions\u001b[0m\u001b[0;34m=\u001b[0m\u001b[0mequiv_alt_expansions\u001b[0m\u001b[0;34m,\u001b[0m\u001b[0;34m\u001b[0m\u001b[0;34m\u001b[0m\u001b[0m\n\u001b[0;32m--> 896\u001b[0;31m                           assumptions=assumptions))\n\u001b[0m\u001b[1;32m    897\u001b[0m \u001b[0;34m\u001b[0m\u001b[0m\n",
      "\u001b[0;32m/home/wwitzel/Prove-It/packages/proveit/_core_/proof.py\u001b[0m in \u001b[0;36m__init__\u001b[0;34m(self, orig_judgment, num_forall_eliminations, repl_map, equiv_alt_expansions, assumptions)\u001b[0m\n\u001b[1;32m   1071\u001b[0m                     \u001b[0massumptions\u001b[0m\u001b[0;34m,\u001b[0m \u001b[0mrequirements\u001b[0m\u001b[0;34m,\u001b[0m\u001b[0;34m\u001b[0m\u001b[0;34m\u001b[0m\u001b[0m\n\u001b[0;32m-> 1072\u001b[0;31m                     equality_repl_requirements)\n\u001b[0m\u001b[1;32m   1073\u001b[0m \u001b[0;34m\u001b[0m\u001b[0m\n",
      "\u001b[0;32m/home/wwitzel/Prove-It/packages/proveit/_core_/proof.py\u001b[0m in \u001b[0;36m_instantiated_expr\u001b[0;34m(original_judgment, num_forall_eliminations, instantiation_params, repl_map, equiv_alt_expansions, assumptions, requirements, equality_repl_requirements)\u001b[0m\n\u001b[1;32m   1385\u001b[0m                         raise_failure('Unsatisfied condition: %s'\n\u001b[0;32m-> 1386\u001b[0;31m                                       % str(subbed_cond))\n\u001b[0m\u001b[1;32m   1387\u001b[0m \u001b[0;34m\u001b[0m\u001b[0m\n",
      "\u001b[0;32m/home/wwitzel/Prove-It/packages/proveit/_core_/proof.py\u001b[0m in \u001b[0;36mraise_failure\u001b[0;34m(msg)\u001b[0m\n\u001b[1;32m   1254\u001b[0m             raise InstantiationFailure(original_judgment, repl_map,\n\u001b[0;32m-> 1255\u001b[0;31m                                        assumptions, msg)\n\u001b[0m\u001b[1;32m   1256\u001b[0m         instantiation_param_vars = [get_param_var(param) for param\n",
      "\u001b[0;31mInstantiationFailure\u001b[0m: Proof step failed assuming {j in Integer, i in Integer, (j - (i - 1)) in Natural}:\nAttempting to instantiate |- forall_{a, b in Natural | b <= a} ((a - b) in Natural) with {a: (j - 1) + 1, b: i - 1}:\nUnsatisfied condition: ((j - 1) + 1) in Natural",
      "\nDuring handling of the above exception, another exception occurred:\n",
      "\u001b[0;31mInstantiationFailure\u001b[0m                      Traceback (most recent call last)",
      "\u001b[0;32m<ipython-input-21-f9544c0de50f>\u001b[0m in \u001b[0;36m<module>\u001b[0;34m\u001b[0m\n\u001b[1;32m      2\u001b[0m     \u001b[0mold_shift\u001b[0m\u001b[0;34m=\u001b[0m\u001b[0mone\u001b[0m\u001b[0;34m,\u001b[0m \u001b[0mnew_shift\u001b[0m\u001b[0;34m=\u001b[0m\u001b[0mtwo\u001b[0m\u001b[0;34m,\u001b[0m\u001b[0;34m\u001b[0m\u001b[0;34m\u001b[0m\u001b[0m\n\u001b[1;32m      3\u001b[0m     assumptions=[InSet(j, Integer), InSet(i, Integer),\n\u001b[0;32m----> 4\u001b[0;31m                  InSet(subtract(j, subtract(i, one)), Natural)])\n\u001b[0m",
      "\u001b[0;32m/home/wwitzel/Prove-It/packages/proveit/_core_/expression/composite/expr_range.py\u001b[0m in \u001b[0;36mshift_equivalence\u001b[0;34m(self, old_shift, new_start, new_end, new_shift, assumptions)\u001b[0m\n\u001b[1;32m   1276\u001b[0m             return shift_equivalence_both.instantiate(\n\u001b[1;32m   1277\u001b[0m                 \u001b[0;34m{\u001b[0m\u001b[0mf\u001b[0m\u001b[0;34m:\u001b[0m \u001b[0m_f\u001b[0m\u001b[0;34m,\u001b[0m \u001b[0ma\u001b[0m\u001b[0;34m:\u001b[0m \u001b[0mold_shift\u001b[0m\u001b[0;34m,\u001b[0m \u001b[0mb\u001b[0m\u001b[0;34m:\u001b[0m \u001b[0mnew_shift\u001b[0m\u001b[0;34m,\u001b[0m \u001b[0mi\u001b[0m\u001b[0;34m:\u001b[0m \u001b[0m_i\u001b[0m\u001b[0;34m,\u001b[0m \u001b[0mj\u001b[0m\u001b[0;34m:\u001b[0m \u001b[0m_j\u001b[0m\u001b[0;34m,\u001b[0m \u001b[0mk\u001b[0m\u001b[0;34m:\u001b[0m \u001b[0m_k\u001b[0m\u001b[0;34m,\u001b[0m \u001b[0ml\u001b[0m\u001b[0;34m:\u001b[0m \u001b[0m_l\u001b[0m\u001b[0;34m}\u001b[0m\u001b[0;34m,\u001b[0m\u001b[0;34m\u001b[0m\u001b[0;34m\u001b[0m\u001b[0m\n\u001b[0;32m-> 1278\u001b[0;31m                 assumptions=assumptions)\n\u001b[0m\u001b[1;32m   1279\u001b[0m \u001b[0;34m\u001b[0m\u001b[0m\n\u001b[1;32m   1280\u001b[0m     \"\"\"\n",
      "\u001b[0;32m/home/wwitzel/Prove-It/packages/proveit/_core_/judgment.py\u001b[0m in \u001b[0;36minstantiate\u001b[0;34m(self, repl_map, num_forall_eliminations, assumptions)\u001b[0m\n\u001b[1;32m    894\u001b[0m                           \u001b[0mrepl_map\u001b[0m\u001b[0;34m=\u001b[0m\u001b[0mprocessed_repl_map\u001b[0m\u001b[0;34m,\u001b[0m\u001b[0;34m\u001b[0m\u001b[0;34m\u001b[0m\u001b[0m\n\u001b[1;32m    895\u001b[0m                           \u001b[0mequiv_alt_expansions\u001b[0m\u001b[0;34m=\u001b[0m\u001b[0mequiv_alt_expansions\u001b[0m\u001b[0;34m,\u001b[0m\u001b[0;34m\u001b[0m\u001b[0;34m\u001b[0m\u001b[0m\n\u001b[0;32m--> 896\u001b[0;31m                           assumptions=assumptions))\n\u001b[0m\u001b[1;32m    897\u001b[0m \u001b[0;34m\u001b[0m\u001b[0m\n\u001b[1;32m    898\u001b[0m     def generalize(self, forall_var_or_vars_or_var_lists,\n",
      "\u001b[0;32m/home/wwitzel/Prove-It/packages/proveit/_core_/proof.py\u001b[0m in \u001b[0;36m__init__\u001b[0;34m(self, orig_judgment, num_forall_eliminations, repl_map, equiv_alt_expansions, assumptions)\u001b[0m\n\u001b[1;32m   1070\u001b[0m                     \u001b[0mparameters\u001b[0m\u001b[0;34m,\u001b[0m \u001b[0mrepl_map\u001b[0m\u001b[0;34m,\u001b[0m \u001b[0mequiv_alt_expansions\u001b[0m\u001b[0;34m,\u001b[0m\u001b[0;34m\u001b[0m\u001b[0;34m\u001b[0m\u001b[0m\n\u001b[1;32m   1071\u001b[0m                     \u001b[0massumptions\u001b[0m\u001b[0;34m,\u001b[0m \u001b[0mrequirements\u001b[0m\u001b[0;34m,\u001b[0m\u001b[0;34m\u001b[0m\u001b[0;34m\u001b[0m\u001b[0m\n\u001b[0;32m-> 1072\u001b[0;31m                     equality_repl_requirements)\n\u001b[0m\u001b[1;32m   1073\u001b[0m \u001b[0;34m\u001b[0m\u001b[0m\n\u001b[1;32m   1074\u001b[0m             \u001b[0;31m# Remove duplicates in the requirements.\u001b[0m\u001b[0;34m\u001b[0m\u001b[0;34m\u001b[0m\u001b[0;34m\u001b[0m\u001b[0m\n",
      "\u001b[0;32m/home/wwitzel/Prove-It/packages/proveit/_core_/proof.py\u001b[0m in \u001b[0;36m_instantiated_expr\u001b[0;34m(original_judgment, num_forall_eliminations, instantiation_params, repl_map, equiv_alt_expansions, assumptions, requirements, equality_repl_requirements)\u001b[0m\n\u001b[1;32m   1384\u001b[0m                     \u001b[0;32mexcept\u001b[0m \u001b[0mProofFailure\u001b[0m\u001b[0;34m:\u001b[0m\u001b[0;34m\u001b[0m\u001b[0;34m\u001b[0m\u001b[0m\n\u001b[1;32m   1385\u001b[0m                         raise_failure('Unsatisfied condition: %s'\n\u001b[0;32m-> 1386\u001b[0;31m                                       % str(subbed_cond))\n\u001b[0m\u001b[1;32m   1387\u001b[0m \u001b[0;34m\u001b[0m\u001b[0m\n\u001b[1;32m   1388\u001b[0m         \u001b[0;31m# Make final instantiations in the inner instance expression.\u001b[0m\u001b[0;34m\u001b[0m\u001b[0;34m\u001b[0m\u001b[0;34m\u001b[0m\u001b[0m\n",
      "\u001b[0;32m/home/wwitzel/Prove-It/packages/proveit/_core_/proof.py\u001b[0m in \u001b[0;36mraise_failure\u001b[0;34m(msg)\u001b[0m\n\u001b[1;32m   1253\u001b[0m         \u001b[0;32mdef\u001b[0m \u001b[0mraise_failure\u001b[0m\u001b[0;34m(\u001b[0m\u001b[0mmsg\u001b[0m\u001b[0;34m)\u001b[0m\u001b[0;34m:\u001b[0m\u001b[0;34m\u001b[0m\u001b[0;34m\u001b[0m\u001b[0m\n\u001b[1;32m   1254\u001b[0m             raise InstantiationFailure(original_judgment, repl_map,\n\u001b[0;32m-> 1255\u001b[0;31m                                        assumptions, msg)\n\u001b[0m\u001b[1;32m   1256\u001b[0m         instantiation_param_vars = [get_param_var(param) for param\n\u001b[1;32m   1257\u001b[0m                                     in instantiation_params]\n",
      "\u001b[0;31mInstantiationFailure\u001b[0m: Proof step failed assuming {j in Integer, i in Integer, (j - (i - 1)) in Natural}:\nAttempting to instantiate |- forall_{f} [forall_{a, b in Integer} [forall_{i, j, k, l | ((j + 1) - i) in Natural, (i + a) = (k + b), (j + a) = (l + b)} ((f(i + a), ..f(k + a).., f(j + a)) = (f(k + b), ..f(i + b).., f(l + b)))]] with {f: _a -> f(_a), a: 1, b: 2, i: i - 1, j: j - 1, k: (i - 1) - 1, l: (j - 1) - 1}:\nUnsatisfied condition: (((j - 1) + 1) - (i - 1)) in Natural"
     ]
    }
   ],
   "source": [
    "f_i_to_j__shift__eq.rhs.entries[0].shift_equivalence(\n",
    "    old_shift=one, new_shift=two, \n",
    "    assumptions=[InSet(j, Integer), InSet(i, Integer),\n",
    "                 InSet(subtract(j, subtract(i, one)), Natural)])"
   ]
  },
  {
   "cell_type": "code",
   "execution_count": null,
   "metadata": {},
   "outputs": [],
   "source": []
  },
  {
   "cell_type": "code",
   "execution_count": null,
   "metadata": {},
   "outputs": [],
   "source": [
    "tup=ExprTuple(a, b)"
   ]
  },
  {
   "cell_type": "code",
   "execution_count": null,
   "metadata": {},
   "outputs": [],
   "source": [
    "Len(a_i_to_j).computation([InSet(Add(j, Neg(i), one), Natural)],\n",
    "                          simplify=False)"
   ]
  },
  {
   "cell_type": "code",
   "execution_count": null,
   "metadata": {},
   "outputs": [],
   "source": [
    "tup.prove([tup]).instantiate({a:a_i_to_j},\n",
    "                            assumptions=[InSet(Add(j, Neg(i), one), Natural)])"
   ]
  },
  {
   "cell_type": "code",
   "execution_count": null,
   "metadata": {},
   "outputs": [],
   "source": []
  },
  {
   "cell_type": "code",
   "execution_count": null,
   "metadata": {},
   "outputs": [],
   "source": [
    "eq = f_i_to_jp1.partition(k, [InSet(subtract(Add(k, one), i), Natural),\n",
    "                              InSet(subtract(Add(j, one), k), Natural)])"
   ]
  },
  {
   "cell_type": "code",
   "execution_count": null,
   "metadata": {},
   "outputs": [],
   "source": [
    "eq.rhs.merger([InSet(subtract(Add(k, one), i), Natural),\n",
    "                              InSet(subtract(Add(j, one), k), Natural)])"
   ]
  },
  {
   "cell_type": "code",
   "execution_count": null,
   "metadata": {},
   "outputs": [],
   "source": [
    "eq = f_i_to_jp1.partition(i, [InSet(subtract(Add(j, one), i), Natural)])"
   ]
  },
  {
   "cell_type": "code",
   "execution_count": null,
   "metadata": {},
   "outputs": [],
   "source": [
    "eq.rhs.merger([InSet(subtract(Add(j, one), i), Natural)])"
   ]
  },
  {
   "cell_type": "code",
   "execution_count": null,
   "metadata": {},
   "outputs": [],
   "source": [
    "eq = f_i_to_j.partition(subtract(j, one), [InSet(subtract(j, i), Natural)])"
   ]
  },
  {
   "cell_type": "code",
   "execution_count": null,
   "metadata": {},
   "outputs": [],
   "source": [
    "Add(subtract(j, one), one).simplification([InSet(j, Natural)])"
   ]
  },
  {
   "cell_type": "code",
   "execution_count": null,
   "metadata": {},
   "outputs": [],
   "source": [
    "eq.rhs.merger([InSet(subtract(j, i), Natural), InSet(j, Natural)])"
   ]
  },
  {
   "cell_type": "code",
   "execution_count": null,
   "metadata": {},
   "outputs": [],
   "source": [
    "%end demonstrations"
   ]
  },
  {
   "cell_type": "code",
   "execution_count": null,
   "metadata": {},
   "outputs": [],
   "source": []
  }
 ],
 "metadata": {
  "kernelspec": {
   "display_name": "Python 3",
   "language": "python",
   "name": "python3"
  },
  "language_info": {
   "codemirror_mode": {
    "name": "ipython",
    "version": 3
   },
   "file_extension": ".py",
   "mimetype": "text/x-python",
   "name": "python",
   "nbconvert_exporter": "python",
   "pygments_lexer": "ipython3",
   "version": "3.7.3"
  }
 },
 "nbformat": 4,
 "nbformat_minor": 1
}
