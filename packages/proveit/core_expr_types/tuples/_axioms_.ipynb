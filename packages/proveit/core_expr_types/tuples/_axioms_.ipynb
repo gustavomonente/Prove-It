{
 "cells": [
  {
   "cell_type": "markdown",
   "metadata": {},
   "source": [
    "Axioms for context <a href=\"_context_.ipynb\" class=\"ProveItLink\">proveit.core_expr_types.tuples</a>\n",
    "========"
   ]
  },
  {
   "cell_type": "code",
   "execution_count": 1,
   "metadata": {},
   "outputs": [],
   "source": [
    "import proveit\n",
    "# Automation is not needed when building axiom expressions:\n",
    "proveit.defaults.automation = False # This will speed things up.\n",
    "# the context is in the current directory:\n",
    "context = proveit.Context('.') # adds context root to sys.path if necessary\n",
    "from proveit import ExprTuple, ExprRange\n",
    "from proveit._common_ import a, b, c, d, f, i, j, m, n, fab\n",
    "from proveit.logic import Forall, Equals, And, InSet\n",
    "from proveit.core_expr_types import Len\n",
    "from proveit.core_expr_types._common_ import \\\n",
    "    (a_1_to_i, a_1_to_ip1, b_1_to_i, b_1_to_ip1, c_1_to_i, a_ip1, b_ip1,\n",
    "     x_1_to_n, y_1_to_n, tuple_len_incr_equiv, fi, fj, f_jp1, \n",
    "     f_i_to_j, f_i_to_jp1, f__x_1_to_n, f__y_1_to_n, iter_ext_equiv)\n",
    "from proveit.number import zero, one\n",
    "from proveit.number import Naturals, NaturalsPos, Add, subtract"
   ]
  },
  {
   "cell_type": "code",
   "execution_count": 2,
   "metadata": {},
   "outputs": [
    {
     "name": "stdout",
     "output_type": "stream",
     "text": [
      "Defining axioms for context 'proveit.core_expr_types.tuples'\n",
      "Subsequent end-of-cell assignments will define axioms\n",
      "%end_axioms will finalize the definitions\n"
     ]
    }
   ],
   "source": [
    "%begin axioms"
   ]
  },
  {
   "cell_type": "markdown",
   "metadata": {},
   "source": [
    "### Define the length of an ExprTuple:"
   ]
  },
  {
   "cell_type": "code",
   "execution_count": 3,
   "metadata": {},
   "outputs": [
    {
     "data": {
      "text/html": [
       "<strong id=\"tuple_len_0\">tuple_len_0:</strong> <a class=\"ProveItLink\" href=\"__pv_it/384807160ac1057ba1750057d37a0062a1820e5a0/expr.ipynb\"><img src=\"data:image/png;base64,iVBORw0KGgoAAAANSUhEUgAAAD8AAAAVBAMAAAADRiu8AAAAMFBMVEX///9UVFREREQiIiIQEBCY\n",
       "mJhmZmYyMjLu7u6qqqrMzMyIiIi6urp2dnbc3NwAAABm9RoHAAAAAXRSTlMAQObYZgAAAAlwSFlz\n",
       "AAAOxAAADsQBlSsOGwAAAPVJREFUKM9jeMAABA/4wCQDNnAHiLkn8GyAMrErmMvAsBObgrvbHoBF\n",
       "OQoYGNgbMBWwT+CwA4uyBTAwsCZgKghmYLgEFmUB8TwwFSgyMMxvAIkeB/FKMRV8Y2A4PwEkmgvi\n",
       "XcRQwAFSEAASLQVxw6EKko1BwBDI4vvLwLB+A0jUEiQxGcMEsIILIFEfEHc9phVABec3wBUcwerI\n",
       "+WBHViJbgXADgxIDQzzYm9ogXhCmCSEMDOlg0YsgXjamAuYJHF5g0cMgnh2mAo7bGxeARZmBFJ8B\n",
       "nugGRRQownCnBz0Ghkd4E0wTA4MGTgW7QIEawPoAysQAAFSFU7mW6tUXAAAAAElFTkSuQmCC\n",
       "\" style=\"display:inline;vertical-align:middle;\" /></a><br>"
      ],
      "text/plain": [
       "tuple_len_0: |()| = 0"
      ]
     },
     "execution_count": 3,
     "metadata": {},
     "output_type": "execute_result"
    }
   ],
   "source": [
    "tuple_len_0 = Equals(Len([]), zero)"
   ]
  },
  {
   "cell_type": "code",
   "execution_count": 4,
   "metadata": {},
   "outputs": [
    {
     "data": {
      "text/html": [
       "<strong id=\"tuple_len_incr\">tuple_len_incr:</strong> <a class=\"ProveItLink\" href=\"__pv_it/abd37cd8db5d8781afe18e13d27690fa022b8ff00/expr.ipynb\"><img src=\"data:image/png;base64,iVBORw0KGgoAAAANSUhEUgAAAYgAAAAWBAMAAAAodhaSAAAAMFBMVEX///+IiIgiIiIQEBB2dnbu\n",
       "7u5UVFTMzMzc3NwyMjK6urpmZmaYmJiqqqpEREQAAACk/Np2AAAAAXRSTlMAQObYZgAAAAlwSFlz\n",
       "AAAOxAAADsQBlSsOGwAABHRJREFUWMPNV11oHFUUPtmdYWb/pmssScFWl0CaShBKtViqxVUwyqIy\n",
       "1dYqpdkEfFPKxoAPvmRF7ZOEfSkIxjYaX4qCGymUah62Dz5EadyE1lAVjA/B/mig4IIGBc+Ze+/s\n",
       "zc65W+fNs5zhzJxzds53z8+9A2Ck3iGIS1X8SSE+uSZX12zv3inOUuwweprSCYX4lM4bXrvLbB/4\n",
       "lGCN7n/iQZh1PF1RIVyJC2B0XxhsBESuiKtS73j4ui/sdwUeX9Kj93kQZh1Ldk2GQEJM+gA55bMg\n",
       "XkZOFLe+6dWzvrAnLsEbVFlrPAizjqVMQ4ZAQkz6BzlbZ0EsaPJnSrjPF/bEpQCK1eRBmHUsJVUI\n",
       "yfj90KLrfhbEXk1e1kEE9vvJI4urljI0tlnH0jkVwrnYIKwCXWc4EOmaEcSMYPTYNzDwkGk6GXUs\n",
       "nVchkOCe35HvPlF1g9T4PZjxEQ5EBtvh8DwLYkQwelwAWMdWqXIghO6/0owKgYS5qtfqai0MXhI3\n",
       "5dP2nwCLIYgvBoh2B/iwHIpzLIhFwehxCtwxzKdYFWe4BHePhSCErjs5Z5T0gAoBBftRyBTAXjSP\n",
       "ssAAHhd3P/twG2CFy0SiCW7zIgtiRTB6eL41KxQTJ2/C95af8UMQbV0XekUJB1UIKGRaNBYnes2j\n",
       "rKXPzYtg/wEwxYFIzoJNCIP0PCjTI0BMCUaPXF72buYCbW35utUup1DXjR7mQCTXoDwr15YfZcIg\n",
       "3CbSOGTnDCAg12IzMSeYPGqXcAT0Aewk5eoPb2kgAh0cv/R0tBoWtssucm73ydR9qEJAoVyE76Ab\n",
       "CGHwkazWvykzWjnpPYEdnxq7QznBs6exJcq+Hexqq9aJTzQQpLOHnGiLPl+ZkqH3DKozwS8qBBTK\n",
       "TbiRqwav8aMrAMrgyZbQb8IL2L9LXCa8PBkXORBLgsnjbYT57gqkg212Fer3aiBIl6k7e8HtmFJf\n",
       "waTcQ7x8Vk7yERUCCql8dtgK1sn+i0KuSSG8CwzcEwXx5DW4hdd5DoSFIXzuNjgQ84LJw6sEi5c9\n",
       "s7HxO4I4ktJAkG7bbM8YvDm49a83oS+s2YxM9scqBBTs8adO9YuED+D7EpSsYZCXxKAyoGUm/XHa\n",
       "JmAPu9nhDPN2dpTTycd254X9nraH3ao4RZGJ9HLHUbxc9b72YSsInOq/Hc3dReI2PylPJomKdCJB\n",
       "EIHIRevpatgZxzS9W2CPHUPcjq3siZVHrlYU29o3EC6x0iWrU3juGgS7CEfCywFns5H7EfAm4S9J\n",
       "Q3EYC09yCoQV7epwtl6zNL04N0ZAfMsdAJV9eOiklR2vwjSuX/r+CngdINILy88QCOcQTFadA3Q5\n",
       "BJ9e3t6AXwEmm858GNJ15XRdPnjnLJbs4Whjh+eNF3do+mn+e8IzfSZOS9Y97Oc2bpq/7LCccu3v\n",
       "FOFQwBGuH3JHldOo7hk9l2eB1a/zIGzTx8C65G6foE/oxTjxSLNdyUoa97cWPM6QfiXEp6xY8f6I\n",
       "4j2zPXHvwThvaTBSFv4H9C8GUC3eXXISRAAAAABJRU5ErkJggg==\n",
       "\" style=\"display:inline;vertical-align:middle;\" /></a><br>"
      ],
      "text/plain": [
       "tuple_len_incr: forall_{i in Naturals} [forall_{a_{1}, ..a_{_a}.., a_{i}, b} (|(a_{1}, ..a_{_a}.., a_{i}, b)| = (i + 1))]"
      ]
     },
     "execution_count": 4,
     "metadata": {},
     "output_type": "execute_result"
    }
   ],
   "source": [
    "tuple_len_incr = Forall(i, Forall((a_1_to_i, b), \n",
    "                                  Equals(Len([a_1_to_i, b]), \n",
    "                                         Add(i, one))),\n",
    "                        domain = Naturals)"
   ]
  },
  {
   "cell_type": "markdown",
   "metadata": {},
   "source": [
    "### Range length"
   ]
  },
  {
   "cell_type": "markdown",
   "metadata": {},
   "source": [
    "### Defining tuple equality"
   ]
  },
  {
   "cell_type": "code",
   "execution_count": 5,
   "metadata": {},
   "outputs": [
    {
     "data": {
      "text/html": [
       "<strong id=\"tuple_eq_def\">tuple_eq_def:</strong> <a class=\"ProveItLink\" href=\"__pv_it/8772c0c8945ad661fbb2571c603ea3643d98330e0/expr.ipynb\"><img src=\"data:image/png;base64,iVBORw0KGgoAAAANSUhEUgAAAnMAAAAzBAMAAAAOWZN4AAAAMFBMVEX///+IiIgiIiIQEBB2dnbu\n",
       "7u5UVFTMzMzc3NwyMjK6urpmZmaYmJiqqqpEREQAAACk/Np2AAAAAXRSTlMAQObYZgAAAAlwSFlz\n",
       "AAAOxAAADsQBlSsOGwAACZFJREFUaN7tW2uIHFUWPumumn4/RifqoqvNaNQlClF0CdlVemQ3WcVH\n",
       "GxMfRNM9iAgi2jKyKIpTZtf8yZJtWbIsvrZj/CMK09GgqFF7FMF3OrPRGB+kowTjY7MKDhuzCfG+\n",
       "qu6tvqfrMUwoRvbC6em6dc65t76+r3O+GoD+xVy5sgL/LzOBJnbkSOtotT3QnJuYreaI5Y8c6XpC\n",
       "dxQf79Y5OtwSG8SXbFTQDZSRyqSQ0CUZsC6IHz+7qaihew2r/KWQ0CVdxJ3NxA/mSy2ZWrTQJf+L\n",
       "VObKXEIuPueiOIV3BHf/JtCPd1a00MWwB7tOSMjyMJFUBXMWthxmflI+p4p/VSKF7nWscquQ0A9M\n",
       "nqOFOQs7XaeZn6zPqSLVihS687DKRUJCPzAp52POQhajxP2c79PggSihmzeNdanBZQYPDPAI4ixs\n",
       "ocPpEcQXtkJEBl2shm1dZS6wbuR+n01mywlyG0yNntgBWIo4AxgZqns6Uu+vGxkXfpb69H53JULo\n",
       "xrEnSrW5pBfDf7xX6k1Wngzba/lFdYNJZtBbDK9hVmrCGazpZDyfj90XbkSr1E+vr95SLUYI3Y1o\n",
       "ax0uV7XhGYDr+88487eQIbN0xBkD38uDquoMToN40XyrfzfofdsNafUFceCd8ul9vhQhdL/GKuNN\n",
       "Lq9WyDMlBkv9D6XT6uHmBTB/IOMYcZahK+odx3j5kYW1yv2M+/Q+eyA66BKHvKC7EMyD5EjbH7p4\n",
       "F6pNZdFOk+PJJsxZFzzHUFx9eN4q87PJL2tyKDrojAPoBtdhQsZQ9jtP6Kpl2AawUSxDh9jomepd\n",
       "6zpMzxM6dl+4Ea3KCeux1vFJEw10efTQlS8yMQ9DvvERh07fLWhNtQNf5azfT/Org3SZgvcRZwVS\n",
       "32RA6H5MEPeFG9Eq8/O+X/8/jw66ONqqUePyILzWKjPozB8pUI3eL6lidqGRvKHEr26Fb8jnZsRZ\n",
       "pgVGnUKn+2Ef9P5dthveKvOz2a//Vwjo2GN82g+6PAul27MLXRUNddIlLlcP3TVa56NumIyHGFVe\n",
       "COILrTFHl609no0rerWKHuvgTMQZ/G5wPp9+up/YAnHfdsNbZX7O9Ov/tiaH7kV68Y9+0GWoVsqa\n",
       "5WMdntc5QwjPfNBnz2kzTdZUr1GukiXMmZNf0/3AB5gb5idZCtR/At0fqUW3H3QJuk6un+UJu7uD\n",
       "Vr8jREJn6LPa+bbLUK4ybcyZA53uB8qYG+Yn0w40awh0NMdidPqudTSffNksQ7cND4/yFhf281/8\n",
       "P/LTXqnpyJqrT1Cu1qPOaPnzPzdjfswi5ob58R8ohRqHLkvjn/7bxLvkb2OWoTsFXwDMLhdZ9N+/\n",
       "jV/tRZ15+MniTveivjToumKHPXd4+Lz+0MWHh08tzzJ0V/QJUf8iJHTJWrizmfjJ+i/s8YaA7nkG\n",
       "tGnh0GXqkJ9tMvbVOc7uxkoCurWQpCcqPvkTCy+BY2sKdOTeWl9fd3eDtPisvcTdDnMcukUCunzF\n",
       "EEffO277Gj40KpmKeiTeC5f4+hoINKX/Cj836HJFsUtknqeH42LLcEUT2wPsEvF6kBZP/tlNWGhM\n",
       "ktP3cQAn0eqdH9/vhi6VJVPZ3Dqkr4WrJv9gnxEHb6J/Rib1Zpy6VZMPOtuEy5elSMCC0sxWKGsr\n",
       "uL3WOWebgMvI2c2oVvh2vtO44QkXdMYuMkaW18e1kWKekbATXsdUTmTqY8hOM+ZoO9zrKeogndeR\n",
       "ErRgNHNwe2a9Mbj9xl71eM2G7k/k2wNTkGbHm53QOtkFXZKmWF4CgsB6N3qZVmKROPPtYUnpV+Ca\n",
       "Xh1WlxLa36FH4h2KBC4IzbwjnLWG1A4wv0BCsMTfWtoPW2jZ0OXr7Omzj+3f/28C3YqUO3PyJcvs\n",
       "HAeJx92wFJrz7K14CTxHPi8ATYfWOdrONrxbyciYDSnBi04zh7Fn1uK1GzuQovYpLC1R6DDVDb2J\n",
       "PifpZE7XE2U+6tLbtaSTeQC+XQkxd3+rVv6NynY2daYZRDSB2aND63KDQnu+fW9cOd3bUaN/5Og6\n",
       "u2oPGcaeWYsgd3lD2hewOTtRcQfXSvgvou1GmUcgbwMZYFq+bnHiYJvCYpZhBf9YAXFr/Gn4rEUv\n",
       "F2S75PMhEkdT6FbYarwu9wlw7XtdA95eNxQJUTSaOR7WOs5/yJNukfYT2M5/EVeNV3rSF3LUjVqw\n",
       "nkzc9K/qPEfnhu6p94YYdIkLYMxKLCYfY5301u2X0slO6u4Zop/r3p3PoBvrMI3EYlH3Ja1i2rZf\n",
       "ZXI9qUiIotHMT4a1TvFhWrpP2l+E6T4saU5XDO7KEpuX7/9aC8TUSwJLzrnig3t52q7LOTrgjHtW\n",
       "Z5aaShU7QSsJ9i2KuKhp9FjhKGg08xZ2EvKhrI3BZY61wRbqXFkkI6n93wdf1ho8/rDMX7uO9GES\n",
       "7IljX5YZQjs9ODDfrvvA0ZGZQ35ntNKTa8xOuweALZya9iiSu9ZoZmrvR1knzyY7Pg3WqXWWDf2U\n",
       "lWvZ/TB/rFQtt1feIFXNKjPlwrDQufMz2d66NpLQaaM5Hkgclt/PlsKpaQ/OWeGuNZ6L+vCjrGNl\n",
       "OIcF61N2LpUmehfY9rlpKBS1BhtcVWHokt/PCLrZKQqFvUQKp6a9OeeYiJY1mnmJP2UtA0BqzY+Z\n",
       "NwMMOvYNwT/2NkhV5ak0UgobnkWhE9S0J+dsc9ebEOj8KGs+0Wzr9CJxmltu25Nj3UQHa5CqpuX6\n",
       "PFCKELoJ6fhRKZya9uacbe5ao5kf9aes6QsWLFiXE5YeiDMdYV9os3GpeBU96pmwhShf14nJg90e\n",
       "KZya9uCcJXet08x7/ClrOESQI8E6t2aPHqNLV8O2b5K1zf1b8R5RVQWpbVG+JKZssUulMGoaHM5Z\n",
       "J54d7hqhmZf2UtYIb/0SwLIHpoR1ho6dSTvSpPYD7XxPkCJ6RFUzcgM5HSKETnkh9nEpnJp2OGfJ\n",
       "N7MvC1TuWqeZqQ8XZa2bgzEyWGFDnFrHLBAUzp3C3tzce6wTPaKqMSftFO0LsWLMszbqUnjx4ZwZ\n",
       "6azTzI69jzkJ1rn1mj72SFnjUs/XIoUuVVZDcfd74z6cMyOd9WDfsfcxp8E6s97ql1CQxf1q/US0\n",
       "L/+TINcu+xShxY9zZqQzQjPvC2bOgnVAXnjY1z8I6brURR4tsn90+oXzbbUiehgCeDyC0Myrg5tT\n",
       "a40hXd23r1RVqg/UIoZOcmjJtpTAO7SFjI12KOs3g9u/6VLfBYGge+Po/SvxtzA3i/inTnPlld7Q\n",
       "HcV/Jc435yZ018l/Jf4JgJUAxhOlVdEAAAAASUVORK5CYII=\n",
       "\" style=\"display:inline;vertical-align:middle;\" /></a><br>"
      ],
      "text/plain": [
       "tuple_eq_def: forall_{i in Naturals} [forall_{a_{1}, ..a_{_a}.., a_{i}, b, c_{1}, ..c_{_a}.., c_{i}, d} (((a_{1}, ..a_{_a}.., a_{i}, b) = (c_{1}, ..c_{_a}.., c_{i}, d)) =  \\\\ (((a_{1}, ..a_{_a}.., a_{i}) = (c_{1}, ..c_{_a}.., c_{i})) and (b = d)))]"
      ]
     },
     "execution_count": 5,
     "metadata": {},
     "output_type": "execute_result"
    }
   ],
   "source": [
    "tuple_eq_def = Forall(i, Forall((a_1_to_i, b, c_1_to_i, d),\n",
    "                                Equals(Equals([a_1_to_i, b], [c_1_to_i, d]),\n",
    "                                       And(Equals([a_1_to_i], [c_1_to_i]), \n",
    "                                           Equals(b, d))) \\\n",
    "                                .withWrapAfterOperator()),\n",
    "                      domain = Naturals)"
   ]
  },
  {
   "cell_type": "markdown",
   "metadata": {},
   "source": [
    "### Collapsing and extending ranges"
   ]
  },
  {
   "cell_type": "code",
   "execution_count": 6,
   "metadata": {},
   "outputs": [
    {
     "data": {
      "text/html": [
       "<strong id=\"empty_range_def\">empty_range_def:</strong> <a class=\"ProveItLink\" href=\"__pv_it/ca6ffe1318fae163b39afeead4486c87e245314f0/expr.ipynb\"><img src=\"data:image/png;base64,iVBORw0KGgoAAAANSUhEUgAAAUkAAAAXBAMAAAB0V6CoAAAAMFBMVEX///+IiIgiIiIQEBB2dnbu\n",
       "7u5UVFTMzMzc3NwyMjK6urpmZmaYmJiqqqpEREQAAACk/Np2AAAAAXRSTlMAQObYZgAAAAlwSFlz\n",
       "AAAOxAAADsQBlSsOGwAAA8xJREFUSMfNV0trFEEQ/jbZyW52djbrxUtUQtBEECWK4klYRAURYQJ6\n",
       "CIhZyR9YCHg0QYkgiO5FEPEQUfCmG0F8y3rTBHQQDAiCEdFjiIfg62JXV3dPT3odxRWx4JtUTVXX\n",
       "fv2omg7wVySvEFuWmT5MyKSC6/6Z589krUJsoVD+vWFCrii4bu1ZIPNNmySDCgPw94RSyzQs1q1E\n",
       "ByL3AZkIEm5W7blP9sU2WY4oAPvGI6l1VNAdpg3RgcjUgQtguFmV5zjt/0KbLB8qALtuhEpDsZE2\n",
       "xAoE5hTcrMpDM85GbbIcUkBhWWtCdqSMSASiM2S4WZWn2BRM2yRZqDPEfPu0JuRyypBEILqbDCer\n",
       "8Wzr79/eJku/wkBxbKAhteEZOno/H2ECMbyOOFcZTlbjuQN8MB6Pm1NNRqlKE69y1uAMVkZbS9FT\n",
       "Zq1yVRjPUiamA9HoFM9inQHc6icZ0FmN5zTyNAvvAb3McpMbpEeJ881SxdZU8iNiQFwUKhodEQM4\n",
       "X5NaPronjJcpLFUgipM94hn0MRIiM2pPKcxOC7NrtrYiill6eiNoaXOrxIBrzk92TjOAt2x5+CSU\n",
       "iRSWKpA0UR+5JYaT1XiCsiyeHudDxCz9adukabl9MGa5W1kBlfDVFJa7DctbVChDDJel8dSf0M+P\n",
       "HaR3q+Xy9UYxyw464Y9slqZvcTSdoIgBfNRW9Rc7rgOB9bB33D6X9o7joOz6z+VBG6V18oN6zPIM\n",
       "nfDXNsuggceLQpocTa4yA9iqrNGoIlO6nx+P/+hA5L9RjSwwkntZtj2n5Ml7QI8pOf3D2UbM8oZI\n",
       "HB6wWRZ0uim9WKaR5D8r62Ze1OIMvK/Eix6jdUuxAlGk4+iXGcmWWrU9pVrcgt+ZzqJZzrPz8eJ7\n",
       "sXqSZc5M+p3e+j4GgiVlldYIZSPQT4u5iQ5OQysbYAeii7J1TDKSXb3P9eyU27FciyuJWZ6gx5eW\n",
       "O66iVeci+FXTx8R6Uay75a+QCOykhTqpkJRBx+OJojyEoF7xxIEaR7J6ckM2y4zeGhGdvC3Mcz2o\n",
       "e4MvdiTr1g2NMYFd0YswcVuxZc7x0PKOR96xydwuYLXFsiTWNVNVZn7/97J8wzM7pjV6JbBlxFhC\n",
       "zlF3cKuH5mgCJ6LN6k7W4l4m8qzwyGuWnGCgzyizLFTUOS3p0KPu+ngLEk/uGgv83W26X3B6mEC/\n",
       "l5piKWS4WZOe0nxNH6JX3deHLJa4i0vj1mcd2Nui/Z1ViC3x7fv1NUUNeargupOe7Co9TTT93tBm\n",
       "mQ1nbicWYxr/k+h/AsOWbfmfyg9t/Qyzr3zVCgAAAABJRU5ErkJggg==\n",
       "\" style=\"display:inline;vertical-align:middle;\" /></a><br>"
      ],
      "text/plain": [
       "empty_range_def: forall_{f, i, j | (j + 1) = i} ((f(i), ..f(a).., f(j)) = ())"
      ]
     },
     "execution_count": 6,
     "metadata": {},
     "output_type": "execute_result"
    }
   ],
   "source": [
    "empty_range_def = Forall((f, i, j), Equals(ExprTuple(f_i_to_j), \n",
    "                                           ExprTuple()),\n",
    "                         conditions=[Equals(Add(j, one), i)])"
   ]
  },
  {
   "cell_type": "code",
   "execution_count": 7,
   "metadata": {},
   "outputs": [
    {
     "data": {
      "text/html": [
       "<strong id=\"empty_range_of_range_def\">empty_range_of_range_def:</strong> <a class=\"ProveItLink\" href=\"__pv_it/7988caaa0b1a3625687348f684fd642350457e800/expr.ipynb\"><img src=\"data:image/png;base64,iVBORw0KGgoAAAANSUhEUgAAAtgAAAAYBAMAAAAyiperAAAAMFBMVEX///+IiIgiIiIQEBB2dnbu\n",
       "7u5UVFTMzMzc3NwyMjK6urpmZmaYmJiqqqpEREQAAACk/Np2AAAAAXRSTlMAQObYZgAAAAlwSFlz\n",
       "AAAOxAAADsQBlSsOGwAAB21JREFUaN7tWF9oFEcY/5Lbze39zUXaYInKEdoqLZYo2oKoXKQJlCJs\n",
       "oLX6UHPig5VSOUnpQx/0sFb6oOYeapFi6GmkxRdNirVtjHC+2JhQXay1tRY8HyKhiERo0IpCZ+ab\n",
       "3Z3Z2dtNhHIPdeDbm537fr/vm29nvvkDUMdS5ILF8FeYDcmT4AIRxiwgRkh/hHZjlpT/YWmwUHhZ\n",
       "qGocnR3Jk+CCWeKZcMxCX7NH/cgpHZUqff2zLsG+ygXgdBdAKuf9v80/km6hsKtq8y4zBCeVxOum\n",
       "l6VhyO/LezBef6OT3tEj9HMhfpwR+nq4HrHWSygA2rY1AJsUhecBDgURUBgSyOW5EJxcuvssL0tj\n",
       "DmJmGMbrb0MJzR7y6yelI/IRTSfVegQ7UUEBiPwxCTDqpzMRREBhSDA3nFzWnDR9WJJDYZjRGmYn\n",
       "/PpJ6YjQmGtWPYId4QJwig6jDl+doAFGYZEa3OZsvYjPgC/LyjBMRw2ziumITbcSkiTusbqk7BNc\n",
       "ANbRDpT8dGKVAIJ1DsHccHIuyvqzHAnB+PpLzSqmT9h0RJa3t6+oS7BPc4ELy98nk42sN8ff29ua\n",
       "+XBRGVNdG1m+tXxtPIMRgnj3Z51bop1/2SmypRqMk9PF1heHXBZs6xmmaTkE4/jLG3sWAZpVTLM+\n",
       "dqN8DzBZl2AfccbPPT4ocncz+qNyCieoFie/yVIAwT0k0NK3oHccfrFTJKwOwUmlOSOw4CY5N0ge\n",
       "F0Mwtr8PeNtQpIJmmelEOyt5Z45cRNkHhvstNuIuxt8GXzN+J1IQmoUt6UZHQSr+m9alXMC4T3cA\n",
       "FkTLa8H4G5LT7O8DCeJ1KhtwqLiPBB9HqtCfg8u8eQweB+Pk0l8QWFi3DOtH8rwSgrH9vc9He7HZ\n",
       "QrOKadbHKyhpU6PzVj9Lc00nbn0KvjZwz5Kk2ovtOXuRDiWndDoK7sZH1hDKKi6QotGNlEHXH0Jq\n",
       "BprQjknHT3S6dpcZjBCYvWW4acIOp30mGCeXm+Cy4PfS2ZTZHYLh/iYdQ8QFZlYxzfq4GyWVYetj\n",
       "03ghzC8MwgZxoO+cR7KdZ3e/AcI0PMFmaxRxnoaPDOdIxvU+3hGytK3CvpOxuMzZamWDceoqa7Ps\n",
       "cL8WDIZguL9Nzq75W0CzimnWx0EupfMsD4XfJyDviPR6Rd3Gj0CYBpYBLpCmaSxGZmFTiZ4nThVx\n",
       "8/QFBKcDBqME2+n5J/5Ad48kc0gjt8FleYQUsXxIGrnt+ttcMd0jmJtGxJw9IKQRWE9Dkdq6nh7s\n",
       "2b8952gyGN3Z2nChgLU2IdhZulGwxFCud+4G8qhgI1SNiZ9a8gu2Yf0WFxzKafKI5IBM5u2GRTut\n",
       "P9aI7SroamexfwxGCVYAmc9NpQO8vb9cC+fHsgwcltS0xhp7LfK5LtkKUk4EB8P9vQk5bDQeAjPL\n",
       "RCqsj5e4fJK336Brhs3+6xQ3WInkG/K8VnRiZ5BlK5EqiaG8AYm7pNxBOFGwEarG+Gp4FVr5mdfe\n",
       "YLF1ie6YSIWkzc816CX88en9xFKG1dlD/0escFg3WyhJ5ozlcrydZt7aOA8LLnDIopXGWOMpgyxf\n",
       "w37qjBMx3N83kkVsZMmbmGUin+3pY5hLmiXrs5TlXToFdPNN8vx0HjSX6WaS1Uwn2HHyfFsbEkN5\n",
       "0t4eMDhRsBGqRk8WHuLGE+AYF1yj4ln2RmbEjfnQ+AIdEaTLjUWsN1KDL9uVdtOBHWPIhiFIDRd5\n",
       "O828/jha8bCwVZazGHcs1pheQJqWcAUJzDgRw/09+DNvZMmbmGUiFdbHJVyEE1M649a3QB/d37Da\n",
       "oJtGUizBVshIXUtGKgvlLieLZrgCRfhqNGWiHbgXwj0P2/ecYa+LRQd/5b97hLqwD2FBPaNsnLB9\n",
       "WU2cD0siL7OkeO4wsm7d6xdiFsuNLKnt4SJfaxWQznDXkdfoo/cdVn+ADYugP4q101En2NGqvZqq\n",
       "SYLBqQJHqBqRQkPVmC44dz1EUvkB9e7I3r6MCnVhH8K+6YByYUTbP0jO1MSpLNdilsyiCbdHmorJ\n",
       "uZgJsbHJumxys6N+d1rupRtL/TOg5+C6Bm+RcHWQpzFNxuclDWsv/SYtkGTMi6FssUkQnnUQqkY/\n",
       "GdvJKg/DFJPGSTztpYXpp/O8R68jdfVI1EPHC4dNye3Rx3Q21sCpLK9sApmlh/8eFOoevzjG8Zc2\n",
       "7raWcnd9blCnkO6ge5GVhega2DAf+iwgy2KfFc/DYdj3LNaeqbjBpn612q97vxoWPEX4FNgIVeNr\n",
       "iBWNLXx6bmaSbEOvdcHLpJ2XTLcuFMptwzZ72odHauNUlvM/gMxij75Joe7xi2Mcf2ljoq3MzabV\n",
       "3LMZ6SalsZ5iNYsd+91LV8uzzz5uJ3XbmC59S4spiACvhnverqDwsl/VGAvfJxt+93uzwAWzJMNP\n",
       "HT7+jvmbNiqUzqVMXyvwRJ8yv+wT1wZhlcCQJYqxbzqEqxLQTHnVSRQ9lymyxtOitdjTJgnD34lz\n",
       "MOk9QUJXok0K3rh3onV52cefBnjOpSgdozwnMfWcFaDxPy3/ArXhWOFk/fbYAAAAAElFTkSuQmCC\n",
       "\" style=\"display:inline;vertical-align:middle;\" /></a><br>"
      ],
      "text/plain": [
       "empty_range_of_range_def: forall_{f, i, j, m, n | (j + 1) = i, (n + 1) = m} ((f(m, i), ..f(m, b).., f(m, j), ....f(a, i), ..f(a, b).., f(a, j)...., f(n, i), ..f(n, b).., f(n, j)) = ())"
      ]
     },
     "execution_count": 7,
     "metadata": {},
     "output_type": "execute_result"
    }
   ],
   "source": []
  },
  {
   "cell_type": "code",
   "execution_count": 8,
   "metadata": {},
   "outputs": [
    {
     "data": {
      "text/html": [
       "<strong id=\"range_extension_def\">range_extension_def:</strong> <a class=\"ProveItLink\" href=\"__pv_it/f0dc6bdd7189601fbfc584dc69175d03cba93e0c0/expr.ipynb\"><img src=\"data:image/png;base64,iVBORw0KGgoAAAANSUhEUgAAAdUAAAAyBAMAAAD4oVxKAAAAMFBMVEX///+IiIgiIiIQEBB2dnbu\n",
       "7u5UVFTMzMzc3NwyMjK6urpmZmaYmJiqqqpEREQAAACk/Np2AAAAAXRSTlMAQObYZgAAAAlwSFlz\n",
       "AAAOxAAADsQBlSsOGwAACEJJREFUaN7NWl1sFFUUPrvd2Z/uznZ5ITEVaSoUE8UUgmCI6IZY3ghD\n",
       "giTEpF3Cgw8oNtT4Jt1gNDFB7AtqIsTykyiJ0hZREUgsmhigCWxQCKJJB02xD6YpJo0/oYn3nPsz\n",
       "d+bOzvbBTr2Zn7P3nHN3vjvn3nvutwsQX0kPwgKVbifub3wx8Dnrl7JzaCIbUR/hnzkUM9R0OVCx\n",
       "xC81lxq3saROPfpG+V+PGes3gc82Yc8/65CUGK4LhBdpCJmJgGavwzshwj9fiRVq9s9AxQ66buqr\n",
       "kZQsQy5yVElDSAz46q3dHzK/nDjrlcdixZoMhvAFum445QgJCsNR/pqhiNtRISx1uG+U//exzk7f\n",
       "Bis66YFnpMTKExHuPkM+BkoaVvKN8M8Nx4l1TfDhKRRTbVJi5XCEu88wBOvhaP/mv2KEmpgJThcY\n",
       "04VdHcMkbR3BIVnfXRnC1odCsW6K9ocP4hyuwZkwR8OtpcSl8nH24XKEvzSE4abRMKyXlf/pdiwd\n",
       "Af/xGAdsf28QfA2v7/SSlK191WAVFIZQqLbUwrBeb+DfU4oP665gRRNljONcsuAe9keE/7jngtDy\n",
       "7e0Pr25vryis/Q38i23xYV0bjnWjkGwczscj/Dcql9Oh4/V4A/9CfJNT5r6xClAo3hVSrtIgBu8q\n",
       "l2UQHcPh49W6HxvWlNGtRXrUVULqqbE59iqAOYNY/CYNIftPKNar4px7YM1bKXYa6CsycURpKMtm\n",
       "1xGw/kZ0eOkZ0ATNEArToVhHxFm3/ALg4v3necfa5BqrO04W9rSQig8y4RGAdnzuR3GaHpbCctAN\n",
       "Ie0GsO55pqNEvnTWLVsAzuH9/XnH2mPmaCvU/mOF2B0wKLYZxDfAZ9hUCr5X6ZuNnGqvDcKraOjO\n",
       "//JqLm9jADf5bDMmMikWxinTFZMlZZiuXXOCub/0zY82eALcCKVq84513PyKYhUe3yElLAcxAzTn\n",
       "JuwlZdhfWxna/kFxRkZWgXVGbv7npmu9JggXLp6VEhbcg5uvpoAXZZhvDSetJsQZkWSyUcCyjzXz\n",
       "j3Vp1aw74JcK1cbNHKiXKVQb+rewDv2yUYf8J2VL7EyesRKwtetNyHpbEIv3DQVcHuT1ltDeYvpE\n",
       "aEN2FZ3YyMLBFbYt/nrBsSZxZXNSOASs8zhUUiW1HEARxLUwyNXszvQGElRdIac87xoxq+89M5hQ\n",
       "ycrLsOBYO3GZoqkpfSU4eyis24V6O1WcCDbCVBaPjOYyHog1s3hq0K50wef/L6wwcJGGrjGyFdZz\n",
       "Qn2O5+zBaGSqvJgcD9HBsJ5nHWdfzEM5PIarfmkOk5KwydapD7evBmMYNiMpbu/ajC9mMQVla82H\n",
       "tU2o20gfXIxRlRROm+lwIYHjwX7t45LCukX/3kTNLx2dA4XDXQy+O1EvNTgabBfnJnidApD2CKke\n",
       "2gfbAzrW7ABXszvq7eCAZaq3hNNPdLjQTZ3Q23VbYV2qj5Af6Hqmi0ut9R8YfIawz9H5biTHVb1/\n",
       "A7mcd4Kv3SaEWaTHOI+XN2gH+FxqWMfa7HI1u6O+OZhQMtUp4XSKDhc+4VjzCTcsl7A4g/jCBi4t\n",
       "o8CP2A5KQ3jAN4KQHFf1etn+1QwfT752W7x3xPnGOxrtJbHaFa7GO9NngliZ6qZw2keHC5enpqZq\n",
       "dq9VViTn+KA/d2X9fHtCZbBjkQujZqjz3UiO+1JglSATZzkWaLdHxRisox6f6fXmKYmVwK0jkKg3\n",
       "YngdASQnGcOv8PcKn6rh1a89VBNdhxwpsXvU6qsbanw3keNNoYQxYcU29Xa93YfF1NvAHihbDH4f\n",
       "BOcmVLM700OixEy2AV3wQBWbm8hpER0uW7OBluVEJSSC4KQikE76+NMIpulkIP6Ak+NavYEV29Tb\n",
       "9XYfuA3uq1k7q5kNAIv9WCfFLnkSmJ7tNZhJXzXzJLswF77TrnKnSTpcyP7GPhx7T6UVrDc0yv4M\n",
       "Xr5bvZskq7UkCIc6RRqCtcjV+G4ix7V6Ayu2qbfrZeQ0Dgi5LftOYT0h1DyL6CYTWWqkwgziMO1X\n",
       "cMvCjm1TU/79SLoTAq/mHpdSzUxTGIh4r8KQpWRP6Xw5kuNavYEV29TbVdlM8Wav5ARu5D7q9GPN\n",
       "V0nN7ljRJZgC3rzDVWfJKeXgAWE7/4L2E8dKRSAx6e08ex47glGQhnAJZnWuEclxrd7Aim3q7T6t\n",
       "gn+R3CnCaL7V8WOFLlITTEqOR7XNJVelnkenK3SEYs3MevJ6RSAxycH3k5muj1UaCg65XyfHtXqd\n",
       "HCes2KbWbvZe1FyfVVdLoy+tcGNHXJx6advaAFaaWtYLGr+5M2J5lYaQb9P57o3gqzfeK7aptRsj\n",
       "Fw6feeIRipeKkN6F6BhWhpAs6zF8F3z1jWI43RYf1iFvrqKEhehAJlmzKdbpbli88CppyEboIGh8\n",
       "+Srw1Ztzk8tPfSqLa0vlLbCb1NTCpObpAywKS5zy9hPgnAWXhizPBFB8ufj7hVdvYGVt0imT1BjJ\n",
       "Am0iPqamFpTusJkuWeWUt0eADysWXBnCHtD4cpqytHoNa/rXP3ZSm3SK0hHnXtkj8JL4pr5QEiv7\n",
       "QV/I/Cy4Z7hK58s5Oa7qDXKc2tzv5cpx/odACyKWfdiVI3omf0FQ3iYL7hm+RJEh+XJBjqt6gxyn\n",
       "Ni/4Z7jYSs4DMwnJiQEhgfjdwSqFsuDKMDNLP8RLvlyQ46reXDFd3+8ZQ7FyeyyBlqUbCq1VmXBi\n",
       "pzsykTFYcM9w5JzOlwtyXNWbS5XDT7kBjJfc8nbU2VG/dKmxs3Ax+O5svR3SJV+76Uq8WNPlhSMR\n",
       "f4z7C39fMKix/6cWioMLhXUHDdx/ARPCSD0+WILAAAAAAElFTkSuQmCC\n",
       "\" style=\"display:inline;vertical-align:middle;\" /></a><br>"
      ],
      "text/plain": [
       "range_extension_def: forall_{f, i, j | |(f(i), ..f(a).., f(j))| in Naturals} ((f(i), ..f(a).., f(j + 1)) =  \\\\ (f(i), ..f(a).., f(j), f(j + 1)))"
      ]
     },
     "execution_count": 8,
     "metadata": {},
     "output_type": "execute_result"
    }
   ],
   "source": [
    "range_extension_def = Forall((f, i, j), iter_ext_equiv,\n",
    "                             conditions=[InSet(Len([f_i_to_j]), \n",
    "                                               Naturals)])"
   ]
  },
  {
   "cell_type": "code",
   "execution_count": 9,
   "metadata": {},
   "outputs": [
    {
     "name": "stdout",
     "output_type": "stream",
     "text": [
      "Modifying axiom tuple_len_incr in proveit.core_expr_types.tuples context\n",
      "Modifying axiom tuple_eq_def in proveit.core_expr_types.tuples context\n",
      "Modifying axiom empty_range_def in proveit.core_expr_types.tuples context\n",
      "Adding axiom empty_range_of_range_def to proveit.core_expr_types.tuples context\n",
      "Modifying axiom range_extension_def in proveit.core_expr_types.tuples context\n",
      "tuple_len_incr expression notebook is being updated\n",
      "tuple_eq_def expression notebook is being updated\n",
      "empty_range_def expression notebook is being updated\n",
      "empty_range_of_range_def expression notebook is being updated\n",
      "range_extension_def expression notebook is being updated\n",
      "Axioms may be imported from autogenerated _axioms_.py\n"
     ]
    }
   ],
   "source": [
    "%end axioms"
   ]
  },
  {
   "cell_type": "code",
   "execution_count": null,
   "metadata": {},
   "outputs": [],
   "source": []
  }
 ],
 "metadata": {
  "kernelspec": {
   "display_name": "Python 3",
   "language": "python",
   "name": "python3"
  },
  "language_info": {
   "codemirror_mode": {
    "name": "ipython",
    "version": 3
   },
   "file_extension": ".py",
   "mimetype": "text/x-python",
   "name": "python",
   "nbconvert_exporter": "python",
   "pygments_lexer": "ipython3",
   "version": "3.7.3"
  }
 },
 "nbformat": 4,
 "nbformat_minor": 1
}
