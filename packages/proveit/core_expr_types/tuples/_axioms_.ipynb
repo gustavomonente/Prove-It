{
 "cells": [
  {
   "cell_type": "markdown",
   "metadata": {},
   "source": [
    "Axioms for context <a href=\"_context_.ipynb\" class=\"ProveItLink\">proveit.core_expr_types.tuples</a>\n",
    "========"
   ]
  },
  {
   "cell_type": "code",
   "execution_count": 1,
   "metadata": {},
   "outputs": [],
   "source": [
    "import proveit\n",
    "# Automation is not needed when building axiom expressions:\n",
    "proveit.defaults.automation = False # This will speed things up.\n",
    "# the context is in the current directory:\n",
    "context = proveit.Context('.') # adds context root to sys.path if necessary\n",
    "from proveit import ExprTuple, ExprRange\n",
    "from proveit._common_ import a, b, c, d, f, i, j\n",
    "from proveit.logic import Forall, Equals, And, InSet\n",
    "from proveit.core_expr_types import Len\n",
    "from proveit.core_expr_types._common_ import \\\n",
    "    (a_1_to_i, a_1_to_ip1, b_1_to_i, b_1_to_ip1, c_1_to_i, a_ip1, b_ip1,\n",
    "     x_1_to_n, y_1_to_n, tuple_len_incr_equiv, fi, fj, f_jp1, \n",
    "     f_i_to_j, f_i_to_jp1, f__x_1_to_n, f__y_1_to_n, iter_ext_equiv)\n",
    "from proveit.number import zero, one\n",
    "from proveit.number import Naturals, NaturalsPos, Add, subtract"
   ]
  },
  {
   "cell_type": "code",
   "execution_count": 2,
   "metadata": {},
   "outputs": [
    {
     "name": "stdout",
     "output_type": "stream",
     "text": [
      "Defining axioms for context 'proveit.core_expr_types.tuples'\n",
      "Subsequent end-of-cell assignments will define axioms\n",
      "%end_axioms will finalize the definitions\n"
     ]
    }
   ],
   "source": [
    "%begin axioms"
   ]
  },
  {
   "cell_type": "markdown",
   "metadata": {},
   "source": [
    "### Define the length of an ExprTuple:"
   ]
  },
  {
   "cell_type": "code",
   "execution_count": 3,
   "metadata": {},
   "outputs": [
    {
     "data": {
      "text/html": [
       "<strong id=\"tuple_len_0\">tuple_len_0:</strong> <a class=\"ProveItLink\" href=\"__pv_it/384807160ac1057ba1750057d37a0062a1820e5a0/expr.ipynb\"><img src=\"data:image/png;base64,iVBORw0KGgoAAAANSUhEUgAAAD8AAAAVBAMAAAADRiu8AAAAMFBMVEX///9UVFQQEBCqqqoiIiJm\n",
       "ZmYyMjJERESYmJjc3NyIiIi6urp2dnbu7u7MzMwAAAADGpxCAAAAAXRSTlMAQObYZgAAAN1JREFU\n",
       "KM9jeMsAB0hMJHAaiDkbmCdAmdgVXGdgkMSm4FTPA4hoJgPDNSwK2Ax4PcGiHAEMDDwLMBU0MTAc\n",
       "A4uyAB3Aq4CpoJCBwf4CSHQKiJeNqeAjA8N+A5DoUhDvKIYC3q9ABQtAohUgbhtUwbE0EEgFef4P\n",
       "A8N7sAJnkIQJhgmcQBPeHwCJaoO47/FYgUMByJH2BnArtqC4IRHELGdg6L+A4UhsAXUUxIvBVMBi\n",
       "wKsHFt0C4uVhKuA9tfABIqgd8EQ3rshCpIdK7NGNkmAqcSpYB05yHBOgTAwAAKtiVVg5HIChAAAA\n",
       "AElFTkSuQmCC\n",
       "\" style=\"display:inline;vertical-align:middle;\" /></a><br>"
      ],
      "text/plain": [
       "tuple_len_0: |()| = 0"
      ]
     },
     "execution_count": 3,
     "metadata": {},
     "output_type": "execute_result"
    }
   ],
   "source": [
    "tuple_len_0 = Equals(Len([]), zero)"
   ]
  },
  {
   "cell_type": "code",
   "execution_count": 4,
   "metadata": {},
   "outputs": [
    {
     "data": {
      "text/html": [
       "<strong id=\"tuple_len_incr\">tuple_len_incr:</strong> <a class=\"ProveItLink\" href=\"__pv_it/abd37cd8db5d8781afe18e13d27690fa022b8ff00/expr.ipynb\"><img src=\"data:image/png;base64,iVBORw0KGgoAAAANSUhEUgAAAYgAAAAWBAMAAAAodhaSAAAAMFBMVEX///8QEBCIiIhmZma6urrM\n",
       "zMxUVFQiIiJERETc3Nzu7u6qqqp2dnaYmJgyMjIAAAAcRTyBAAAAAXRSTlMAQObYZgAABGJJREFU\n",
       "WMPNV29oHEUUf8ndZu/29i5+EKQGMRoTC0oNKeiXtLQVzCcxreA/CglH/VBp64m11ih6tF9ySuGo\n",
       "YEKhMFrUkGJvrYSoYHtw64dWkAP9IGLbgzaFVghS+8Gmrfjezsze5HZmkyt+6IPZe3Pvvd33m/fm\n",
       "zRuA/5deuQveoNK6hXYt0nXwJdM+ZcrBjx8RHDXr0zi/Fxo0P6dT8mNkepqRLsy0C2DmPnzs1INw\n",
       "igBdRY3RTjF8+ImmV/UgzDI9XZEuXGk7DBdxnNCDyOFqd7WG9mvG9U8EFtMU/aIehFmmpeygcIGY\n",
       "NukmDrdXC+IXhT8pgrPrdcb1afiQo5mnB2GWackuCxfscrsYkkvk2j1aEO9EQQBcYFyfhg/Zs7Oz\n",
       "U6AHYZZpaUq6MNV2INwCPS/pQKQLJhCB/qXA4p/JyfcMIMwyLfVJF4hJDw/dH1/KVIVcvg8jXtOB\n",
       "6MTc/GxIC6LGB1q8ClDiqlEQXLZCJixK7pB0gZjN5dxfAC+Z7bhCH59Urjo3sFiGIH5eJKLdDinc\n",
       "09XNWhDn+UCLp8HBUmrxNLbe9OGh8RAEl61ANcm8K11AxnkAEkV4/imjFVeAl/nsNINrAPO6SNge\n",
       "pL2NWhDzfKCFDZ2ifh2vbYBvXZZgIYimLIb+lMy90gVkEktgY+EYMVoJBUEbwbkFMKYD0bEJHEIY\n",
       "hOeNxcXLTRBjfKCFW7dFhfzoCIMfegfdZjqFsji6oQPRUYTKaBwIoRAeE8mbZhCQWdJGogki3XgB\n",
       "E3uAcgdpbu6wAiKQwbGBaAPiDO0RLljXBlg0nSpVOA1xILjCFpG6tykyXFvZE5dFOkFqXAtihA+y\n",
       "KO3AJe9mvMmYc7/a3gQRyJy3LPzAa8t9+HJ0jEEuqB4TsiioG7viwR5sbGJABApVscTX4dO6urEV\n",
       "oo1d8arxGxu+wUJ8ZB6cwJU5qNYUECRLDFoF2N5SL9fDiwgv+EhvttHc4b5g8N99brBOzr/kckMw\n",
       "4SxQSB8v8H92w0F8DutAuOjXc7KjDEE8wYT+MLfopv11AKz9k5MHEMRRWwFBsg6vE6M5sfzVPTAQ\n",
       "5mxCBHtEukCu5/s/eYT/9TZ+zyaVfSAe9oRUSPVy+bHHycsFHYgkrmPXuZZ0evLBi3Wuv8AtsnSC\n",
       "L43COI9EcpsCgmSVcup31gICq/qh2czDxHazDs/YdhCIDIvk0vdhUn2uyJ3C6tsOqU9DWmQaVfiR\n",
       "mF8B/lBABEtdHnuWIpH+EKaZfKyxrtczWAqmmc1+MzeAVMnd6IaoSuaUq8hX0QDOLku0sAGUbWEZ\n",
       "Urigyfc3QVcLiGT+5AYCYfXA1rK1hh498MxjfXU60Ld61q7QpZI0ksf8xx/ksWeIlrbwgPjijCI3\n",
       "tOIpUzvZbMUVWot7YnnboRCmU6Z5qRLhxBLurXgpih6XWdDKS+ZLkZZKYvgxh9ij6umw7W8Pvgtn\n",
       "gsszeacMr6f9d349zfJX9a/2ekr6NNbtbecrdQ2XhbuA/gPNon1mxoL+PAAAAABJRU5ErkJggg==\n",
       "\" style=\"display:inline;vertical-align:middle;\" /></a><br>"
      ],
      "text/plain": [
       "tuple_len_incr: forall_{i in Naturals} [forall_{a_{1}, ..a_{_a}.., a_{i}, b} (|(a_{1}, ..a_{_a}.., a_{i}, b)| = (i + 1))]"
      ]
     },
     "execution_count": 4,
     "metadata": {},
     "output_type": "execute_result"
    }
   ],
   "source": [
    "tuple_len_incr = Forall(i, Forall((a_1_to_i, b), \n",
    "                                  Equals(Len([a_1_to_i, b]), \n",
    "                                         Add(i, one))),\n",
    "                        domain = Naturals)"
   ]
  },
  {
   "cell_type": "markdown",
   "metadata": {},
   "source": [
    "### Range length"
   ]
  },
  {
   "cell_type": "markdown",
   "metadata": {},
   "source": [
    "### Defining tuple equality"
   ]
  },
  {
   "cell_type": "code",
   "execution_count": 5,
   "metadata": {},
   "outputs": [
    {
     "data": {
      "text/html": [
       "<strong id=\"tuple_eq_def\">tuple_eq_def:</strong> <a class=\"ProveItLink\" href=\"__pv_it/8772c0c8945ad661fbb2571c603ea3643d98330e0/expr.ipynb\"><img src=\"data:image/png;base64,iVBORw0KGgoAAAANSUhEUgAAAnMAAAAyBAMAAADFBUDdAAAAMFBMVEX///8QEBCIiIhmZma6urrM\n",
       "zMxUVFQiIiJERETc3Nzu7u6qqqp2dnaYmJgyMjIAAAAcRTyBAAAAAXRSTlMAQObYZgAACWVJREFU\n",
       "aN7dW2uIHFUWPj09Nd1d/QpsfERXGHs2uuhKyogPMJpWwfzSTFaICSjTDPGH66tRfCVBx/jDGSVu\n",
       "Y8DEiFIxmMQJpttHmJ0FTe/MLrKaYKOCD9Q0GAUVNITs4swY431V1a26p+sRZyjGC7em6tY551Z9\n",
       "c+8995yvGqBzSZw82YQ5KrkyzMuySzz+yZML/MQS48+Zc/UIB+cnctDdZn/05573h65/zp6gqzJP\n",
       "oYMvxV8tLuhewxpfEDVyydZwY6diB7Mll3QzXuj0hVjjEK/Ryp4zyOF21FjEsuYPzM7t4R49LujS\n",
       "BtJYqPEasXxF6j7UWNQyw+zsCzdh4oLuAOZ+PhQ18gsTh9eLGYvqAaaZHdWWu6SasUJ3H9b4sKiR\n",
       "X5jMogWYsaj7pSqzoy8IWBCn4oQuP4U0Zqq8Rn9hUo4gxqKWgsHtHAn1f48JuhS2hncZvMKWyXP9\n",
       "t5OZZUvPcl54sK8BMIkYA5go+b+BfH/LxICwMxnw9IfNGKEbwEKJdIvX7kXwI3kyHw95Ta1wFKCP\n",
       "X9S/06fEbiv3AyuGMAZbG+k2rOlsh90XZkivfze5Ha8tb6n3xgjdxehQbPC6owVXgHZJ5xmnnwNJ\n",
       "Auxa2+McAxhDjMFG6GncdHnnx6D3LTOk16uB2xkLmtjtGKE7He2tzOtyE+4lo6AzdMlpSDle8GrQ\n",
       "fybjGDGWpA4EVvjZcQrpdSNwOwNBkdBUfNBpJ/ygOxP0//lClxiCer+0reuewaFLDPlDl5DXBNLr\n",
       "8ZDQZU7EB13XlM+EJWMoe9QXunoTDgBcK6LgE2z0rJDWp4owVm/6Q8fuCzOiVybttYVPmnigS6O9\n",
       "Cjehz0BPe9wXugbcna01xXQ7TpcpOyiXjRVJbfhAx+4LM6JXx034lSfigy6Bes+cwesm+LjSZNDp\n",
       "v1Cg2t6TdG/+gVxmb5Vf3QWPk+MyxFiyAjv7KXSqHXag99daZnivzM6yoOd/X0DH3MUXnaArsB1s\n",
       "a3ahqxtoWFDldVdp7WCZj7oHyXYhRefMAyBOaIs+uPjZPxEA+dXOv9Cn+xoxBge/6OXTT7WTWi/u\n",
       "W2Z4r8zO10HPf7ifQ/cevfiuE3Q56uQL5ixv6/Ao0RWIsXfPKh07LfWXpSu92jEQW4HagX9iZpgd\n",
       "vRrq+Ql026jPGOoEHbuzbbaD/wba7Ar/s/QFcuqsts/ezklXPuH/GGoHmpiZUOG/mDUEOjqkco2O\n",
       "ax0dj+/NMnSH8TU0XeOVbQAu/z95g5cUGadl13+lq32oMRZfPTqI2dF7MTOhkk7Ev1Q4dPl3R0e3\n",
       "dnYTn4+OvlKdZeiW4Lk0NdWprrEt/GrEP9Wp2snjRkdQWwp0Q8LD/jQ8vLEzdMXh4Seaswzd+x3W\n",
       "zlNOsOdnKcFO7eSDc6SJtoDuNgZ0l4FD19Nvj/3O5cZ2mAdb3u8EPfO6JKoCuutAJ2+ucXy0+/4N\n",
       "51Yk6LqNEJM/Z4Tak1gn98xv5CC1QECXgi4x2fdOXgX/yJlJU94SV+Gi4CRhI0yPb//uoMu1UmKm\n",
       "P7XdhLd6jZwrmjgEwV6iGIpDmYTfyYRNWRM2015N5uV5dOaSsn//M27oXtTI/NWX3q1uKHaeZ+27\n",
       "B0p/o38mSmo3dtvO0ve2m6jNb+hsNwEj68jQK5o8JNufe/UWF3TpZ0l8srt/wIQe92DR79dI6MyU\n",
       "zjdprjVVXuWVYW0FR1psTuR/Q6bl1LAFo5nD6zPt8fD6417xRMWC7g0y/raPgc7W+v3QnHRBl6Vp\n",
       "1kvgZtD+5YYlaWhEkbVtYtmGK0DzytA20IW0nWo4XJYk9kg1dEFo5j3RtHtqir7+GLI0aY8ZVNQl\n",
       "XjQs6Iq97O21h4aHNxHoXki5MyfHSD0byIROuWFJNOwPRxbCZUxIkWFtXmk4IEP3rVRDF8TpfxtN\n",
       "Wxf7qYykX8A2CsUGFdXb3kQfgy5PsxHT/VDho677r27oPiN3p2DzqBeWei39mfk6C2imGURTCHSk\n",
       "LVuypa2lUZobecOp4YsaZ0bRZ9oTYnNgOPpFbKOw0mSiE0j4L+Z/uwn/oScfkdhLzdct0o63KCyZ\n",
       "J2GbyQ7bzERt4AZ406Bt6/ND5HgEkgw6IZF5krdlr6NNRPpW14C3FsOaU8MXlWaOos+0d/DzNesd\n",
       "/ZWY53+Hi+7wpi9s6PQ7a5AmLd2PlKFHhe76C/sYdNrZsKqmLSKHVY3uwdevosEGaVt9kB63XHQB\n",
       "g25Vg0loi0TbbbSJSVuvKY3+rVKNUBSaeWtU7QJfNdaVHP13MNmvuGhBWmTYDsGdJf4zWet8ssQU\n",
       "lqx9xQf37m6rLWvLgD3uszwHVpaamMs46pz3SdVFTWPFEVBo5j6+E/LPa+dKi21tHgHp7ZSj/03p\n",
       "SqXDxTNO/tq1pY+SYNeWXCk5abE/6LnAahu3ZZytA78zaHp2E3mJxdssVU5N+3DODnet0MxUP4iy\n",
       "zmyAp1mwTrXzbOjnGiLhtpmm3816zW31mlp6movmpZlyZlTo3PmZvLethSR0WmiOB7QZ53yDUzk1\n",
       "7cM5S9y1QjNTG0GUdaoJd7BgfczKpZIoNNO29LPTfLPh7rDNRbPOxiVz7JSgm50iUdgLnSqoaV/O\n",
       "2eKuFa50YTBl7QSAVFtjq8YHLHMk9NuCf3R12OSimrPIxElhw3IUOkFN+3LOFneNQRdEWfOJ5oaO\n",
       "+NfVlj7Zp6xsKB2WFejS1RihW1nGJiynpv05Z4u7VmjmDcGUNf3AggXrTIbzRob1/ecGxsvScSlZ\n",
       "FU9kcXXW3qo3RuhSBuYmODXtB53DXSs08+ZgyhpOEKxosO64CQpb1nIzxTJZ25AOvW5iiRkjdJKL\n",
       "nXQqo6bB5pxV4tnmrhGaedJLWSO89WWgX7p9TGgn6RhdIyYt0+9peT9xFk9ERZNNz0od1wexf7TP\n",
       "VjiVU9M25+zwzexkvcxdqzQz1XJR1qo65A59QIN1rl2gL7eOqpaEvr70kHeK8yeiogUbi3g/iJU+\n",
       "w1YDsQDOmZHOKs1s6weo02Cdae+mV2zN1YICud2WuBz1xgWdk6NQw/8AzpmTzp3D/wB1GqzL4X+Y\n",
       "9IE7/H/NjBW6zGn26Qi46c8gzpmRzkjSaSScOg3W5aSTVx/zzK6kU9w/OZGiATTVGcA5Y++5J7w6\n",
       "1U7XQqdK5a8SiDMxYoYuWfktCfb8b0qwM+1Pw+t/6hL/BEJBN4c/6hyE+VnC/qhzDn9KnCzPT+h2\n",
       "8cFEf0r8Kww8GRlZFO+lAAAAAElFTkSuQmCC\n",
       "\" style=\"display:inline;vertical-align:middle;\" /></a><br>"
      ],
      "text/plain": [
       "tuple_eq_def: forall_{i in Naturals} [forall_{a_{1}, ..a_{_a}.., a_{i}, b, c_{1}, ..c_{_a}.., c_{i}, d} (((a_{1}, ..a_{_a}.., a_{i}, b) = (c_{1}, ..c_{_a}.., c_{i}, d)) =  \\\\ (((a_{1}, ..a_{_a}.., a_{i}) = (c_{1}, ..c_{_a}.., c_{i})) and (b = d)))]"
      ]
     },
     "execution_count": 5,
     "metadata": {},
     "output_type": "execute_result"
    }
   ],
   "source": [
    "tuple_eq_def = Forall(i, Forall((a_1_to_i, b, c_1_to_i, d),\n",
    "                                Equals(Equals([a_1_to_i, b], [c_1_to_i, d]),\n",
    "                                       And(Equals([a_1_to_i], [c_1_to_i]), \n",
    "                                           Equals(b, d))) \\\n",
    "                                .withWrapAfterOperator()),\n",
    "                      domain = Naturals)"
   ]
  },
  {
   "cell_type": "markdown",
   "metadata": {},
   "source": [
    "### Collapsing and extending ranges"
   ]
  },
  {
   "cell_type": "code",
   "execution_count": 6,
   "metadata": {},
   "outputs": [
    {
     "data": {
      "text/html": [
       "<strong id=\"empty_range_def\">empty_range_def:</strong> <a class=\"ProveItLink\" href=\"__pv_it/ca6ffe1318fae163b39afeead4486c87e245314f0/expr.ipynb\"><img src=\"data:image/png;base64,iVBORw0KGgoAAAANSUhEUgAAAUkAAAAWBAMAAAC/C3MNAAAAMFBMVEX///8QEBCIiIhmZma6urrM\n",
       "zMxUVFQiIiJERETc3Nzu7u6qqqp2dnaYmJgyMjIAAAAcRTyBAAAAAXRSTlMAQObYZgAAA79JREFU\n",
       "SMfNV0toE1EUPW2SSTOTSYrgpm5CC9JltAspVqkIfhbadCPuzKKCQpGA4A8XoYK0gjiuLAVpjKLY\n",
       "RRsQlArSoFBBQQYF0UUlUnXhohQpohXE9583nWRaiIgP7uPe3PNuzr3vO8BfaTeFeBYsZ2PDSJsV\n",
       "EnRLT42aC02SNItcgNtdDtOMIk6GDpFAWB0wSEKGUy+q9Lyk9tcmWaYcLsDwXIVphovp0CESCDsP\n",
       "k5TKrNWLKj3jxEwUm2T5RgjMlTtCA5KZsOprQOCpkGBU4UmVSLxKkyzPC4G1LDVCpD1khA4EbgkJ\n",
       "RhUe+8XU1I0mSSYKXEi+SiPtU8gQHxCpfi6BqMrzY3T0YiiHNcs6FkS0ZrnA3nY6y7TydmI9axxT\n",
       "AVHuppyzXAJRlec4MEZ/7HOlB/hMu6jImmaUkxSLsPr9cUhrc7kA6QzXqnuI8SEkdQlEtoX0do0L\n",
       "8GqJtkUZVXn28u2V7KxSFrxwbJ228Xj0QLEkyR4yC71eWUWZ4xUuwGSOaYnKbmI8CmEpgLCdNOmt\n",
       "AhdfYxGlJ45WF3WWhWAZqwrTYPUlA+4G/rKlnwswxy0T34hyLISlABLkANm+sWUugajKk3TjbApK\n",
       "9VkaOd2kLFNOY5bPhWWtrsNSArm2PstE7Qid/2u7KImt7Ajp0macplDeqbNkpYdC+2b8srDa8kTZ\n",
       "H8JSAoFFETZa8NblFzXjyjM2RH97x3YKq2gkWvNY0lMqe1hnaeVxYpQ0Nynr7+2eTcKaqVTDd48E\n",
       "wvwFfffoc6nvHjxgSfTQboIt+PvJvMfyAAnkzOsso/KmmpDbQx0k5oqwBhLkL/pg/qY/0m6mpika\n",
       "kK+NSJWL/0jN6p40u8muMs+Il4VguY87Ty19XFpyGcuYSnpETr2cluiysIwFfp6dpdU+Q6cvL5UL\n",
       "0IGIFMRJp047aFE9j83mbTNLcZVB047H8ijtfvpqmSecSXMFWrshk0VoNyRdHYE9icfwAeO0YveE\n",
       "BG9Iv8ckhR8vWbVq4gowqO1xCom1S5MeXbacGoL2vzYeplxpiddGMrgi6RgFjJXowbn+a0Mr72DF\n",
       "HHZiW4BujWWcVKO1KMzEju8ZROTJStByoTtMzk0rizRqlIOPIbq+FHCyeglo9HJrc9Z67Ky8ciy1\n",
       "OvktSM+VjHcVkWXS8BX8uldZ4PeuG7zBaaeARpfrJVknqt+TepuT3wCzxsEOjSWKGLpe0lk+2dgX\n",
       "hb3xL4r3QoJuvyfZKdOEa8w7OstDGGbfBgmZYRb/U4uIPbKmJq2lf0/lDyC3MFmw9lfxAAAAAElF\n",
       "TkSuQmCC\n",
       "\" style=\"display:inline;vertical-align:middle;\" /></a><br>"
      ],
      "text/plain": [
       "empty_range_def: forall_{f, i, j | (j + 1) = i} ((f(i), ..f(a).., f(j)) = ())"
      ]
     },
     "execution_count": 6,
     "metadata": {},
     "output_type": "execute_result"
    }
   ],
   "source": [
    "empty_range_def = Forall((f, i, j), Equals(ExprTuple(f_i_to_j), \n",
    "                                           ExprTuple()),\n",
    "                         conditions=[Equals(Add(j, one), i)])"
   ]
  },
  {
   "cell_type": "code",
   "execution_count": 7,
   "metadata": {},
   "outputs": [
    {
     "data": {
      "text/html": [
       "<strong id=\"range_extension_def\">range_extension_def:</strong> <a class=\"ProveItLink\" href=\"__pv_it/f0dc6bdd7189601fbfc584dc69175d03cba93e0c0/expr.ipynb\"><img src=\"data:image/png;base64,iVBORw0KGgoAAAANSUhEUgAAAdUAAAAyBAMAAAD4oVxKAAAAMFBMVEX///8QEBCIiIhmZma6urrM\n",
       "zMxUVFQiIiJERETc3Nzu7u6qqqp2dnaYmJgyMjIAAAAcRTyBAAAAAXRSTlMAQObYZgAACCpJREFU\n",
       "aN7NWn2IVFUUPztfb+e9ebMh2od9DS6EJOGoURhrTkRqQez4T/Yh7SQJCYoLQh/aH48C2zWi+W+l\n",
       "EEcNLf9wZymUjWKHBA2NfBjJCuUu2AcGLYsU1G5K95x73333fcwbI+atlzvvnbnnnPvu7737zj33\n",
       "NwMQX8mVYI7K4div+M1cQYXUZMwXTFR8Dfu8klFt3ce+Ju3oG+V/KWasI77vuoXHQ91VkjIWbIl0\n",
       "dwzBWBii3SI+TUpnI1ao+nxfQ56ew9axOkkZG45F+juGYPrnx0gNyPfYf7h4e0tn0dfwHQ3ij4+E\n",
       "xGJXIepWKYZi3nJzfev2GveN8h+JFetYzdfwBg142pHYqG+JcFcNPVgBJmrcN8pfi3US7/B9z/bT\n",
       "s+x3JFZ+ilqwVMMgVvKN8Df+jhGq6b9YAue0uWxHkaSDy9m3kxHujiEcXByK9WS0f+BWt7Nolv/9\n",
       "tfHYVeBS47EWK4NjCMUOOwzrJen/7RSWyz7/iVp8WPv8SZNWx+P+MknZ+qPsy4kIf2EIZrWrHob1\n",
       "RAv/4UJ8WJf5GzoI/BiXdLiK9yMqtAkXHXoRWm5q6td7pqYqEmtfC/98jKnTreFYTwvJmGkx1tMe\n",
       "l+BzbYU1EV9wSl+D0Dm8W0id+ITWRnSwW7pcDsW6Vvrz9/UXf9i/Fl8yHLitPDbNE9JwvREdmxxD\n",
       "0GchOjbd6MRqX9YUWOdzRcqGhNSbZTh6QL+OjXgYnlQExZDPdg/WpYi1R3yalncAqKcf2461wwrs\n",
       "szAxSE0LKYND+BngNRz3qzhfK46wE1RDSPb7sD5072WbfOnTtJwDOIvn39qOdbgYaMKEL2eBkiMy\n",
       "FEZwGfwcPIZa0f9cHV+9P2oEE2XYi++t1f7lNbi8sUT+eN6WuwCRvwddMZOVhukaLrQcnnpbWuX+\n",
       "NII8bhLq7c/8g5forMLrxxwJxJ7sYHCDgwik4f7G26H9t9jT8Zllnjl6dKj9sWmiHARhwfmVyq4d\n",
       "BtnHDmbCeJCGmW47tP9B8YlIMlkA+Gtg4M32Y11ajSJUSDL/BweDvi38u9gN3dzqhrD3WTmnw03o\n",
       "OmWq4VEwxtS7yUrAVpzHQad1p8d2NloieKfAOTaEusH0RinQC1PlyOkzwAqlkCutnnusLEprkECU\n",
       "uUWIKM3nAQWSThDHTJWr2ZnpVwaSAqbaQk7JKlYQUX1DTykhk5Xtcw0VNJbN5GyN9gGBpyGxbhTq\n",
       "jdQQ4JWZKs0ZDr2CFbHqX6ywDesMPHJzYc1OPkOvbq0p1s1CvVmh/9SXvgYZ8Zpeocqwjo8eBeN8\n",
       "Eho3zxzWMNMYfBkD2fur8OW8jx5Pt3cO9wt1P+kTvqCPKk04PUDVghQlri88V5BYz6l3KGt7pdHW\n",
       "IxUuAb47azdxGPX3i7EJPqXUapxePXq6Sf6TgIOVGK1xYrZQb1R8vTLVkHA6TtWCPI2rfOZ7iXWp\n",
       "GqA/pju6fCWXXqGA0LxIQySCFb4byXHZHijYp6ffjopgcgBW4OEDYjE+yVVUrCmLq9kZ9Sl/QslU\n",
       "64TTOqoWHOJYczmZBU+o4eAKDebsLJe2iYWgWZGGcMGTGyE5Ltu9pOFCoD49/XYRl0d35T1qeEvZ\n",
       "WkqsFa7GM9On/QNjqjXC6UWqFmwYGBgoGOWsLbPxMQWrSXdg+KmSkAC+ikzuFEMl5yVy3CyGkKiH\n",
       "T82IPtV+h+UcgwXkP0NTrauqYk1bXM3OqE/55zBTPSuc1lC1IMOfKzwhR9anvFda1SGQNDHJDkAL\n",
       "pskxVPhuIse1ahhhbM6IPg+E7j50pt5bMyYb2T0A6z1xmLZLM7RlYnow0WRvjQ5YUXUEuNMPVC3I\n",
       "4S0z2eNoeGaQKEOSQBpyl61opsnN2CXfjeQ4eDJ5L1bsU+3X3X3gNnh9Xd9aTd8JsNi75uwUu+Sd\n",
       "wPSQLDGT9dX0HezAXEil1bjTg1TZPHgX2R82LDkHNGXmd9P27LYVJOndBUE4NCmOIeiLLIXvJnJc\n",
       "aQ9gxT7Vft2VgCY+ITfkW+sclwj1Ev4MyMQpdVIl6txpkiq7dIK9r54RJ6c9LzgrV7mUS7FZaUYF\n",
       "J2EISbhb5ZQopLrtAazYp9qvzGbyF8rO4jWaeXKhF2snV4uGL9V1y6hylUVOho0Vwnb+5owr76KF\n",
       "8U8ufZhk4zEiGAXHEC7CrMp3057dbQ9gxT7Vfm93c1pnpwh25lTVizVlk5qdccYU1U2myT3haXI6\n",
       "RDUUa3rWlefL0MKkGj6f9HRzrI4h1FIeDnkMPO0qOU5YsU+l3+zVqPiXlMdRJRdJhCZ7fErcTxWK\n",
       "LSjL+TK0oIS/VUZhlYZc6lNDltIeeK4+rDFy4bDaN4eJ/N4lSO5UxByWhpAvqnz5bvC0B7Bin0q/\n",
       "nf3xYe0teWNThwgt+mwuOjY5hsiXq7FpHnjaW8WmrkKM2wx3ZtOyMVziUmp6H3tRGpzy9hLgnAV3\n",
       "DMUv84Iv5+S40q5iTSBW1id9VMI8pqIEYpqGvY60jUW6fJlT3i4BXpEsuDSEh0Hhy4kcV9oVrMmX\n",
       "rq+iPukTjBftL3d5c8SvQUnxjjiUdwgL7hruUPlyTo7L9gA5Tn0ecYNnnP8hUP4bwrIPo/K7uwvg\n",
       "OXojlAV3DZ+nhdbhywU5LtsD5Lgv988X48SqXG0QtD2TktYV+69CKAsuDbP/0J+GHL5ckOOyPejs\n",
       "3dONxMqLZBcoe3Wzu+ru2on3NyGUBXcNN61S+XJBjsv2sF8VnN8TIPb/cin/ZvBzMBdvmIMxb5iD\n",
       "uejpN1OMF2uyMnfE2njcF9w0Z1Bj/08t2/nOFdbDFJn+Be+odkxMlELlAAAAAElFTkSuQmCC\n",
       "\" style=\"display:inline;vertical-align:middle;\" /></a><br>"
      ],
      "text/plain": [
       "range_extension_def: forall_{f, i, j | |(f(i), ..f(a).., f(j))| in Naturals} ((f(i), ..f(a).., f(j + 1)) =  \\\\ (f(i), ..f(a).., f(j), f(j + 1)))"
      ]
     },
     "execution_count": 7,
     "metadata": {},
     "output_type": "execute_result"
    }
   ],
   "source": [
    "range_extension_def = Forall((f, i, j), iter_ext_equiv,\n",
    "                             conditions=[InSet(Len([f_i_to_j]), \n",
    "                                               Naturals)])"
   ]
  },
  {
   "cell_type": "code",
   "execution_count": 8,
   "metadata": {},
   "outputs": [
    {
     "name": "stdout",
     "output_type": "stream",
     "text": [
      "Axioms may be imported from autogenerated _axioms_.py\n"
     ]
    }
   ],
   "source": [
    "%end axioms"
   ]
  },
  {
   "cell_type": "code",
   "execution_count": null,
   "metadata": {},
   "outputs": [],
   "source": []
  }
 ],
 "metadata": {
  "kernelspec": {
   "display_name": "Python 3",
   "language": "python",
   "name": "python3"
  }
 },
 "nbformat": 4,
 "nbformat_minor": 0
}
