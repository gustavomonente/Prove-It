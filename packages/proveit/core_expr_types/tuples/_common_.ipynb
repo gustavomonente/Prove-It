{
 "cells": [
  {
   "cell_type": "markdown",
   "metadata": {},
   "source": [
    "Common expressions for context <a class=\"ProveItLink\" href=\"_context_.ipynb\">proveit.core_expr_types.tuples</a>\n",
    "========"
   ]
  },
  {
   "cell_type": "code",
   "execution_count": 1,
   "metadata": {},
   "outputs": [],
   "source": [
    "import proveit\n",
    "# Automation is not needed when only building common expressions:\n",
    "proveit.defaults.automation = False # This will speed things up.\n",
    "# the context is in the current directory:\n",
    "context = proveit.Context('.') # adds context root to sys.path if necessary\n",
    "from proveit import Function, ExprRange, IndexedVar\n",
    "from proveit.logic import Equals, InSet\n",
    "from proveit._common_ import a, b, f, k, i, j, k, l, n, x\n",
    "from proveit.core_expr_types._common_ import (\n",
    "    f_k, i_k, j_k, f_1_to_n, f_i_to_j, i_1_to_n, j_1_to_n)\n",
    "from proveit.number import Naturals, one, Add, Neg"
   ]
  },
  {
   "cell_type": "code",
   "execution_count": 2,
   "metadata": {},
   "outputs": [
    {
     "name": "stdout",
     "output_type": "stream",
     "text": [
      "Defining common sub-expressions for context 'proveit.core_expr_types.tuples'\n",
      "Subsequent end-of-cell assignments will define common sub-expressions\n",
      "%end_common will finalize the definitions\n"
     ]
    }
   ],
   "source": [
    "%begin common"
   ]
  },
  {
   "cell_type": "code",
   "execution_count": 3,
   "metadata": {},
   "outputs": [
    {
     "data": {
      "text/html": [
       "<strong id=\"fk_ik_to_jk\">fk_ik_to_jk:</strong> <a class=\"ProveItLink\" href=\"__pv_it/f802bb6a99a2e6c59feff36af07ac9611834cc810/expr.ipynb\"><img src=\"data:image/png;base64,iVBORw0KGgoAAAANSUhEUgAAAJgAAAAUBAMAAACDnumxAAAAMFBMVEX///8yMjJERETMzMwQEBCY\n",
       "mJgiIiK6urqqqqp2dnZUVFTc3NyIiIhmZmbu7u4AAADOOTK3AAAAAXRSTlMAQObYZgAAAhZJREFU\n",
       "OMuVlL9LHEEUx793652XvXMVJKQIwpVBE7hCrAL6B4icRSBgAotFAgmKhVjGrSIo6FZWEQ6sRItt\n",
       "rF0uqQLCCWmCFhcISXPhTJUgIn7nx3qz3O2qC2/fzLz5fJl5M28A4zvsNDdwp88gCoF0f46Vd8qA\n",
       "XVYhO0jTMAkUZtTgvvzvbXnSZzjDrqqIM5QmZhLI1dTgD8n9+616r835n1K0ehMPQrHMc917b4Z+\n",
       "poj1JpwpoeiqTtE1Q5mlZLHeBB5xy98WGrJdomud3QCNRK0YgVY9Gt+hDYYoTdNnmXt/GfgSSiLl\n",
       "BEwCjb6qRmZpRxXgLX3eQ9E7oZcbLLjJYgaBXDDoaeQjbYu5u6LvW4KDS6DdFBHrPFnMIIisNjUy\n",
       "SdsG+l0dKnDOCm4TMwnZU4gQGxXZfl6Ti87yAu5YX6FnJ3wmAYxEiJBkKjMvP1zJdLY9Hw/XxKrT\n",
       "DsAk4PyHRmbFdebx7OrLsFqs4qIigAEfbeo5f9kWjU4vTsjMKOQ798PkjNc9tTH7BazpJ/LSVpBf\n",
       "pH8nTq0W/d6ITMcIDLgRMkx5Vn7dmgqi4iiVx4t0v2ib3YUkxOJEvqERx8V6hht/arlhVLbZcKKk\n",
       "C93vLiRajLCavHQKYaHPi5fjMQ6462ygnhX7s3qCnLBLrEWLEUf+swjh8KvTTtmXO5QQznWfozi+\n",
       "GGEfV6POWOIjPHfvZzsX4BpPLqQNHAVR5gAAAABJRU5ErkJggg==\n",
       "\" style=\"display:inline;vertical-align:middle;\" /></a><br>"
      ],
      "text/plain": [
       "fk_ik_to_jk: f_{k}(i_{k}), ..f_{k}(x).., f_{k}(j_{k})"
      ]
     },
     "execution_count": 3,
     "metadata": {},
     "output_type": "execute_result"
    }
   ],
   "source": [
    "fk_ik_to_jk = ExprRange(x, Function(f_k, x), i_k, j_k)"
   ]
  },
  {
   "cell_type": "code",
   "execution_count": 4,
   "metadata": {},
   "outputs": [
    {
     "data": {
      "text/html": [
       "<strong id=\"f_ik_to_jk__1_to_n\">f_ik_to_jk__1_to_n:</strong> <a class=\"ProveItLink\" href=\"__pv_it/336a0975d9a3fb6b97c7116854c4f0144adbf22f0/expr.ipynb\"><img src=\"data:image/png;base64,iVBORw0KGgoAAAANSUhEUgAAAX4AAAAUBAMAAAB47EtHAAAAMFBMVEX///8yMjJERETMzMwQEBCY\n",
       "mJgiIiK6urqqqqp2dnZUVFTc3NyIiIhmZmbu7u4AAADOOTK3AAAAAXRSTlMAQObYZgAAA0VJREFU\n",
       "SMedlz1oFEEUx/+Xy33kLrcJWFiIcI2NQTjs1TTBQpELIoJn4LAQiURTiIhNrpAUCmYbUykEIYWY\n",
       "4pqIjeSwzsEJGhAVThFtThKxMIoE35ud2Z1xvx2YnX0z+3vvv7szs28Bray7Z/eQqHhAUsIs5Xpq\n",
       "BzpSbIvmW9dprSpQqorTUjvKhw6geCYBEczjE9XHsjNZSIHgTt8xnorjk6WWaDN0Scm5PWs8ypkO\n",
       "ILeSgAjmcYDqquxMFlIguCB7Pwrw51fHmtGufxjhKxCIJEL4XA9pQ5rISIcnwI60rmojnyOcBQKR\n",
       "RAifbyNtSBOxJvkmmnJlNLWRzHy4s0Agkgjm8QxIGfIfBPvpjbyec97JKDWD9wrohfoyAAxexhMh\n",
       "PLr0BLsdpAjJCKzNqhp4RHWMPByldoiWrn0DyPJoLmI16QB6w/V4ws+LcohEFyZdkePJEFQwpfqn\n",
       "qW7UcGyLp1YL5dYrZD/wuyo2w51pAHLtsVY84eOdcgV4XnFVx4R0ETSwq/oXqS5RvUl1eB4W/gAF\n",
       "9pPdCXemAUQs9OMJPy/KSaDvPtnYkApBv7CnzBNUlzU5xb0E+nVAWCn1L+tilvpJ9BuIt5qF/sNS\n",
       "Dk+HoRWpphDxMnUAOJiA8PEzZzd7zmRwjbiQHoJMTzEs47RseTlut2zHT9Ri0gFYu4gnfPz5KZwS\n",
       "i9HaHZFGXEgXYZWKmeZPm5TD+9cCpUdCTcXGNvmzvkMeXMsEvBmnE3xiWl438+VBE3ti9yvsrEvD\n",
       "58CLbSI85xTzlj1IOayidE6qydSQv0btLOQhz2nOZZ6sBoBKM4AQF4vDrHHC44IvdXjfZCerdWn4\n",
       "HYjYbkgPwZaysI+eYlXKUemAUPOF6n3/Z5ydmUC+F0mYRYwzP1yr2DWVDDhGXEgNmVOW1cTdTF3u\n",
       "oyodE/swJ1O2/zNO1QCyfd6ZIwiz2IrfQP5WTSVjjhEX0kWOl38oi/K3S5yDvri+xutRPI7y1u+O\n",
       "SGatjs/ZgKoBbNhHogkzi+wo/jZGH1AzIbodIy6kQsq/hnrKov6L7zz3blohbiXnF8BP3gBK3Xo0\n",
       "YaYxMHnnZyRVSELW3rjGRNjvYCP1/2MD/1H0n8FGeiTXxl9yqDziFDejWQAAAABJRU5ErkJggg==\n",
       "\" style=\"display:inline;vertical-align:middle;\" /></a><br>"
      ],
      "text/plain": [
       "f_ik_to_jk__1_to_n: f_{1}(i_{1}), ..f_{1}(x).., f_{1}(j_{1}), ....f_{k}(i_{k}), ..f_{k}(x).., f_{k}(j_{k})...., f_{n}(i_{n}), ..f_{n}(x).., f_{n}(j_{n})"
      ]
     },
     "execution_count": 4,
     "metadata": {},
     "output_type": "execute_result"
    }
   ],
   "source": [
    "f_ik_to_jk__1_to_n = ExprRange(k, fk_ik_to_jk, one, n)"
   ]
  },
  {
   "cell_type": "code",
   "execution_count": 5,
   "metadata": {},
   "outputs": [
    {
     "data": {
      "text/html": [
       "<strong id=\"fk_i_to_j\">fk_i_to_j:</strong> <a class=\"ProveItLink\" href=\"__pv_it/a28678844d3af18ecb3d9c6b91e91e3f4876ca900/expr.ipynb\"><img src=\"data:image/png;base64,iVBORw0KGgoAAAANSUhEUgAAAIUAAAAUBAMAAABRzuPpAAAAMFBMVEX///8yMjJERETMzMwQEBCY\n",
       "mJgiIiK6urqqqqp2dnZUVFTc3NyIiIhmZmbu7u4AAADOOTK3AAAAAXRSTlMAQObYZgAAAihJREFU\n",
       "OMuVVE1oE0EU/jabTTe76TZQigcp5Cj+0UPxJNiTpyLxIAhaCB4UFCUH8djsSUHBBg/iwcKCJ7GH\n",
       "vfTcJe1JCFTwIm0hhaKXSCoeKiLB781M0sSYRRf2vTcz33zz3jc/wMC3LsaN8U/funbPtPva1NOC\n",
       "EuCV8C5tZrC7gz4Y7hV4eu7blVB5i02vjP00Du/VD/TBcCIERcV49EV3L2mXT1I4OsvVITDwWglw\n",
       "aFr3TJYLKRwrGAYDB2rdim74xuNECsdL/AGGxcScj/e3VaNA195lsDqeYunyHvpgtBuSgkRTCQqL\n",
       "9JkyUH/I4GpKHr+ArcSAsZ2ldUTUjTngDn0uhB9+YPB4PIX/nbiqBsOJp2jdipYp6NJnqwhkHVwa\n",
       "zyH6d1oaTHSNoX2oZZqomG63m84h+j+CAWuFFcdp0eVipNLLRDCgv38yvmq/17UAszDrU0/r+nJX\n",
       "ydQJ66maZqnnzBNWozQN5MyKpsERt+aN2aSaz7FPCL4JQkynOBDQsoSfc70dVZVPctUJ1jPfCHVS\n",
       "3jX2TgO3Rbe7on/UCx4IR431L57qVTApxiJlnhewYS/Ex2edI25rpIznYl7wdJXmfXPWc5LMZ+Cp\n",
       "xezP2pVk6M7lR6Vgym40Q1mTCwV15+yWnCy5c7fkqp/EGpsZ/RRIR3v04SBz7nxRLr23KTsUb9TP\n",
       "ST+7bu4cw0rKneFfHuFw5G/GA2CvWUZ/4eHnzfm/t/AG8BtNiYqNXlMQagAAAABJRU5ErkJggg==\n",
       "\" style=\"display:inline;vertical-align:middle;\" /></a><br>"
      ],
      "text/plain": [
       "fk_i_to_j: f_{k}(i), ..f_{k}(x).., f_{k}(j)"
      ]
     },
     "execution_count": 5,
     "metadata": {},
     "output_type": "execute_result"
    }
   ],
   "source": [
    "fk_i_to_j = ExprRange(x, Function(f_k, x), i, j)"
   ]
  },
  {
   "cell_type": "code",
   "execution_count": 6,
   "metadata": {},
   "outputs": [
    {
     "data": {
      "text/html": [
       "<strong id=\"f_i_to_j__1_to_n\">f_i_to_j__1_to_n:</strong> <a class=\"ProveItLink\" href=\"__pv_it/a7c36f227b2be60b7ddd3a62a6a2923dab45d37c0/expr.ipynb\"><img src=\"data:image/png;base64,iVBORw0KGgoAAAANSUhEUgAAAVcAAAAUBAMAAADLpGNdAAAAMFBMVEX///8yMjJERETMzMwQEBCY\n",
       "mJgiIiK6urqqqqp2dnZUVFTc3NyIiIhmZmbu7u4AAADOOTK3AAAAAXRSTlMAQObYZgAAAqdJREFU\n",
       "SMedlz1oFEEUx98lt5v7yE3sRbgmjSIs9oKNWCjhwMIiBg4LCRE/KhEbU1koeNt4VYQQSCFYXKPY\n",
       "yB3WHmwhNjZnCLE5yVklVfDN19583M7N+GBmdnZ///m/25nd2QOYRr1F69fgFR9540nrEWRkOP0Z\n",
       "9lh7gGUPaj2XUrKkiVVlbQ49WxtkZDq972yz9jyWfSDnXGNItkSl0e4cerY2yMhwIie/2dko41d3\n",
       "HENIFjbkmR3vXHNtkJHhVJnwTizu+6FjDMnCA3nm0DvZXBtkZDhV27zzSZwsPSkeQ7L1NnjQs7VB\n",
       "RoZT9P0hn5Yh3vzhALmscIicXabN+Cs46QJtkJHptIK6K9iuYn/pGoKOhS/ZBfryycotN21rWfga\n",
       "sTCc+glc/YHtJsDnBp6otIvHkGyMj2rUW9l205aWh6eRWOC6UwfLUyw3AEb0By1OiseQbBnXD4EX\n",
       "Izdta1n4GrEwnLrTZKEzx76rJMt7/sl2lWS9jPJkFaeLIoFNcbzkmB3JxuyNfWEObWk3bn/LvI04\n",
       "bDjdEgnguienVfe6lyxb9uQUQh4w1N65Dje9jTisO5ETkcA7TH6CXw2NFI7pMLQif9WDKcteI5Uz\n",
       "yGkd1HvHYqOE+rgNZ75GAtacUCcSoGUff0cpgfgRnepdrLbkwf0RKCybkgatJL2lKvQeu860tQF9\n",
       "ZXkacVhzgmpTrkOxCx5heWPvf3SMnGWbYJwV0nqw61RbThpp4mvEYc3pVYkuipfG90Vq73+gsvh5\n",
       "sThi78LZtB6p1PYhfpb4GnFYc7r3C9svjz9gfYl/79CFM7DGGIPGLvT66eViWv+CGkjtc1h+620k\n",
       "YNXp7s8cO+D7G05SZDvSe6qwpFkbtoppfaMHXRtkpDlZ/zbWg/5srMN/RJCR4vQPBtkaEqDQYO4A\n",
       "AAAASUVORK5CYII=\n",
       "\" style=\"display:inline;vertical-align:middle;\" /></a><br>"
      ],
      "text/plain": [
       "f_i_to_j__1_to_n: f_{1}(i), ..f_{1}(x).., f_{1}(j), ....f_{k}(i), ..f_{k}(x).., f_{k}(j)...., f_{n}(i), ..f_{n}(x).., f_{n}(j)"
      ]
     },
     "execution_count": 6,
     "metadata": {},
     "output_type": "execute_result"
    }
   ],
   "source": [
    "f_i_to_j__1_to_n = ExprRange(k, fk_i_to_j, one, n)"
   ]
  },
  {
   "cell_type": "code",
   "execution_count": 7,
   "metadata": {},
   "outputs": [
    {
     "data": {
      "text/html": [
       "<strong id=\"fk_1_to_i\">fk_1_to_i:</strong> <a class=\"ProveItLink\" href=\"__pv_it/05b17adb904f62a59ec5ca08a7ea2f55e4cfbc520/expr.ipynb\"><img src=\"data:image/png;base64,iVBORw0KGgoAAAANSUhEUgAAAIYAAAAUBAMAAAC6+VjqAAAAMFBMVEX///8yMjJERETMzMwQEBCY\n",
       "mJgiIiK6urqqqqp2dnZUVFTc3NyIiIhmZmbu7u4AAADOOTK3AAAAAXRSTlMAQObYZgAAAg5JREFU\n",
       "OMuVVDFIA0EQ3CQmfj7hDEiwECGNICqSIlgJWmkTMBaCheJjoaIoFmKpX4iChQkWYiMIVqJgGm0N\n",
       "aiUEI9hoIiQ2NkoUC0UkuHt3n3x48sSH/7/bnZu7nd09ANPji/GfkoS6njMT+C0tFz1L57HdSpbL\n",
       "ykEIQA1J8FFcF9ZWfNfzAAU7DnXvWwwcuLMaE2D29SKM7gywo1Pk8KZsOIqrS2IwIX4crLxLr4dC\n",
       "mkQONmDDETcG8zIkAns1aTwHyQEtNhy7RgKMZQh23y9kxCRd5tivTTEx+CQGflz1mpPgphT4o2Rt\n",
       "L3OM2JzjF+CaJHBiISSWJfgiDDBD3tkyx0ZtCt8nCkeqenTw6XcSjCKxErmHyhz9tTkoA0XCNCwB\n",
       "o0NxMIrUqNXNQRlYAcEBSkmCO9GR6Tswx7JSm8OJwH3XDY+FTzgY9XSMrZbq1LQB9QxuYjSkaVFP\n",
       "cDD7wtQcgpHRW+J4APZBJRmQn8oMihjCT5iCwtyuUZc+oBYoUuRSl4d6HG5DczPANHJ56Kj8M0eD\n",
       "ReJYA3BFO0BoqI4CB3ux/S5dA0lZ67x80a3kLWFs02cHqysU8ZlqXYMtB+7b7dJSvOcqbeS1SoGx\n",
       "KwdBVDLV66/quakCb/oTCrFLgsn0ar04kNnTE6CmV68oQ0kDPJ6toIw7iLhiFg43venKHUd3kGnj\n",
       "6rvQ/Z+7EMF/0iqNvg1QPUoAAAAASUVORK5CYII=\n",
       "\" style=\"display:inline;vertical-align:middle;\" /></a><br>"
      ],
      "text/plain": [
       "fk_1_to_i: f_{k}(1), ..f_{k}(x).., f_{k}(i)"
      ]
     },
     "execution_count": 7,
     "metadata": {},
     "output_type": "execute_result"
    }
   ],
   "source": [
    "fk_1_to_i = ExprRange(x, Function(f_k, x), one, i)"
   ]
  },
  {
   "cell_type": "code",
   "execution_count": 8,
   "metadata": {},
   "outputs": [
    {
     "data": {
      "text/html": [
       "<strong id=\"f_1_to_i__1_to_n\">f_1_to_i__1_to_n:</strong> <a class=\"ProveItLink\" href=\"__pv_it/400572475467713b2a7d27da665a34e6ee21fb3c0/expr.ipynb\"><img src=\"data:image/png;base64,iVBORw0KGgoAAAANSUhEUgAAAVgAAAAUBAMAAAA6rzjQAAAAMFBMVEX///8yMjJERETMzMwQEBCY\n",
       "mJgiIiK6urqqqqp2dnZUVFTc3NyIiIhmZmbu7u4AAADOOTK3AAAAAXRSTlMAQObYZgAAAvRJREFU\n",
       "SMell0FoE0EUhl/abLKbtNuAiAcRcvFiQYpnpQVBL6LrwZMWgweVippD6NEGLB4UbPAQRBRy8FIs\n",
       "mIve1JwED8EIVoitEEUUpJIUD/UgxfdmZ2Z33HR2Fh/Mvt3Z7+3/h52ZnQAEkfdYsptgFM+SwENK\n",
       "Ae5AcqWfbT9/4feeaCsF7RYBcsUYWAl3fQ1kKUWuaYxLpeWlKst7sS32AD5rJQWdQqWcFwMrkbv/\n",
       "G2SpfRJdFIxxoeRufWd9Vgfc5ado1mnpfi+nYdZPWliN/o2yLP3xYBtPHpriUske+BcZeinn0aw7\n",
       "o3mEoOEKNz9jbHYJQqUWmf1qjAslp+RfPAduFvZoHiHoPM9aWI06hEqZ2VTZFOdK1vurHXbelmYf\n",
       "7fwESY9h2ljXw2rMHvsEstQ363QMcak0gWPhEOb90uxpjaSgR3Cdq1ViYDX+8EylvlmrYIhLpVdT\n",
       "cOQD5svS7C3NIwSdqUK++i4GViL/i59kqsKsXTLDAyUayPPYjkuz0zHDnuh0GVz246dNzcqpmS4L\n",
       "s6MDMzxQqicyWw/Mgr2dxKyYmoZmFVwqHeDywTCY10gKmt7lSCMGVgJpa/VwOzwMsiVDXCqd4Nls\n",
       "ggmahn2/WkswwdItsCpeumk4wRRcKLlbXJ6tQW/JbBfcTVqF6dAv8AO7CmhadRZo69MNuCEFQSX0\n",
       "y/DyNUz0/AVrjMyO1wxxrgTZAZen9vHUPuzdBXCRTM/R626IA+uSNL3B3BmQMEPUgjmlEhawrUDF\n",
       "Lx1/vLmKH4UpyFwzwYWSUxSjUOyBXLxr96LTk7okLT+Cw+FoJdzDdhS6o7IU4Bu2u6Y4Kt1OeXwJ\n",
       "s8TnhHYMzpDpiS2gw9sLJ24dIAeN3bh2DuDSTVnqb2RqpjgqXaCd14vrK3ic5DD1bEQlqStEjzR1\n",
       "cKQycxCHY7YBbzxZyraIbssUR6VzaxISm28y7UUlqStE8x30DnCk0mo3/y1lLixjfFL9wPmiVpK/\n",
       "Ndb//K05C8mU/gJuyyCS01ykZgAAAABJRU5ErkJggg==\n",
       "\" style=\"display:inline;vertical-align:middle;\" /></a><br>"
      ],
      "text/plain": [
       "f_1_to_i__1_to_n: f_{1}(1), ..f_{1}(x).., f_{1}(i), ....f_{k}(1), ..f_{k}(x).., f_{k}(i)...., f_{n}(1), ..f_{n}(x).., f_{n}(i)"
      ]
     },
     "execution_count": 8,
     "metadata": {},
     "output_type": "execute_result"
    }
   ],
   "source": [
    "f_1_to_i__1_to_n = ExprRange(k, fk_1_to_i, one, n)"
   ]
  },
  {
   "cell_type": "code",
   "execution_count": 9,
   "metadata": {},
   "outputs": [
    {
     "data": {
      "text/html": [
       "<strong id=\"range_len_conditions\">range_len_conditions:</strong> <a class=\"ProveItLink\" href=\"__pv_it/7ad945b078ae67535f3eed32c5eaf7618ec0bd170/expr.ipynb\"><img src=\"data:image/png;base64,iVBORw0KGgoAAAANSUhEUgAAAYEAAAAUBAMAAACZq5xTAAAAMFBMVEX////MzMxUVFR2dna6uroQ\n",
       "EBCqqqqIiIgiIiJmZmYyMjJERETu7u6YmJjc3NwAAACgK8IjAAAAAXRSTlMAQObYZgAAA4dJREFU\n",
       "SMe1l09o01Acx39J1m5tk1omw4mCGSjzIKWIMnZQhjIZeLDCTuq0HkQPogUPc+ChikgFYYMdnMKg\n",
       "goqUoT14EHUjDGRjHlZFFBVHvSkTrMoUZg++98sfkry8NBn44Je+fJv8Pvm9v78HkKwCWrhyjqNH\n",
       "a76vrQ3Gx6H+0jA4pbFPiBXOq6LrS+VHz6ZAOjEIad8v8YXxaQxu4e9TDXav9KH+0DB47fWmV3tF\n",
       "j5EvLrnERLUdYJH49o3AF+ZN88ZNCyrIddSVMd2al2he/53d2SDXHjf9cmseIgBS3sdFcFgz3PbU\n",
       "MEAW9baabsFdgkJdvjBuPhaL2D7iQa0L2khrZX1cBIc1w219LqaggPoX0C2sy3gf1jddMvvgs7qg\n",
       "kQjgro+L4LBmuHS7PEUjIPoIuaUmD3tMo7mbXJcSDgbixpprpwWVRtDr81W+MCetCS4dzbfTCIg+\n",
       "TacFsRgMkRBdPjP9AELF06VScq4RYk3qe0cj+OATgQPGFErjReDGpWGXki+gfo3cUluC37BxwrV6\n",
       "526DcKvg6TKKcsK+3u0QO0nljE8Edhi7VxAaNwI3Lg2i1lVAfZDcUtNayIMD2FVlLClSgz8ALfiu\n",
       "VC4/OFIuq5ZLoU6rHfRJs3lm4R6pbPGJwAEzNhInzShNcWmQ1XgWddMpSAUjAns7NMwImEbRXS7b\n",
       "+0DIdASMAGHs3G3w+8CNIxvnekGPwOxYiI+xESRUbgS6HHHsmm9pLw8EGEUU9v7V8BhDUyY3jATC\n",
       "kQiUXAV1c3LBYo6lL+YyvAj0qRWz9i+yPIO0HHAmU9ibITjO0JT+aqQWBNdFbG8F9V5zATyvsREc\n",
       "IlkYG0ErdRnLWK2KJU4aAOhUHKffUjIu8qq9Yocl5wrQYGjfLsI6LQjuPtVKqA+YHT/hMQLETx6j\n",
       "KLZtdZJ8cUrf8x/rQGH0KOhJ0R26996gFzoPr5iVomb4N2FiviXL0rqhPwiuc6WiJ0tEtzb665wx\n",
       "zPYBlnnjd/+ToiPrkvHxs+w01exZBYFFUrFMinnsMIwLYXDzVrK1OfmDs5ZHzQhkR0LcwxnqemaX\n",
       "YXVbZoew79B2gIkgWYerJ8PgqD5DLfkrQZx/He1m95mJn17ZJpPuWpk7/su+ModXG2wftO5hO1yF\n",
       "C9UQONT1Q0f3ZLhDU4KXYc5gW7N61XbCCQvj41Bf28FviXcC+D+nzCW+/g9RKUQqdpN3+AAAAABJ\n",
       "RU5ErkJggg==\n",
       "\" style=\"display:inline;vertical-align:middle;\" /></a><br>"
      ],
      "text/plain": [
       "range_len_conditions: ((j_{1} - i_{1} + 1) in Naturals), ..((j_{k} - i_{k} + 1) in Naturals).., ((j_{n} - i_{n} + 1) in Naturals)"
      ]
     },
     "execution_count": 9,
     "metadata": {},
     "output_type": "execute_result"
    }
   ],
   "source": [
    "range_len_conditions = ExprRange(k, InSet(Add(j_k, Neg(i_k), one), Naturals), one, n)"
   ]
  },
  {
   "cell_type": "code",
   "execution_count": 10,
   "metadata": {},
   "outputs": [
    {
     "data": {
      "text/html": [
       "<strong id=\"range_len_sum\">range_len_sum:</strong> <a class=\"ProveItLink\" href=\"__pv_it/7ef5950cde3a41f2335af9d6252116ad5f0608e00/expr.ipynb\"><img src=\"data:image/png;base64,iVBORw0KGgoAAAANSUhEUgAAASkAAAAUBAMAAAAjJNZ2AAAAMFBMVEX////MzMxUVFR2dna6uroQ\n",
       "EBCqqqqIiIgiIiJmZmYyMjJERETu7u6YmJjc3NwAAACgK8IjAAAAAXRSTlMAQObYZgAAAmRJREFU\n",
       "SMe1lr9rU0EcwL9J0zRp3nvNJlKHLJI1uBQLghQiblroVFqJg+hkCw61W5C24GSgQ1shUJ3kBuk/\n",
       "UAmCtFghaXFxsGSsINgfoFAy+L3rvWvefe/gTvA7vLt3ed/PfXLv7t0BRB3wjKfuj/rDJX6PXx61\n",
       "6K/pLUtauuvcgxVup1/g3/PagelX0//MzgAEm85WVriZrvBhw4Wenb8oP97o4XVMayXxWJZu8MsE\n",
       "hc91fawg5GmfXK1yXT8rhT8Cf6vh245WR/AvVohfxCJYMEy9nTWr1UDD0coKT9I1K8RvY5GHWYBR\n",
       "La9SBUhtGa3CTUcrBSfB6TYrxK9gcQi/4eq69qWpvYbURt1ola07WsVw+h1DutUK8VNYtDJ4c5e3\n",
       "BkxEEWvwByAjuh9g7N00YyWVljrWWhMxztgyY295VcFlfBb0N5JuSIjxU6LfurTqn0q92IqMlbBy\n",
       "GSsFp8unZx8rxPNBhuEGtSqUrFYZnzfI4d/2FxqEHjavLBqtEM8nJLRr1Kpdq9isvGY7h3+dhQeE\n",
       "HlY7g13LbL/Jb+Za1Ooe7qzUaoin5SvJ1jZaBuey0t+JhEc7degR+s/nMNLSrGK8kOHrT7dKfze8\n",
       "wfz18ya+k2KyNcen/Iu40tdJDE/PZ+5Tehmq2uAqvNgUXhqsAEzzSsSu146D8MFivlIkT03CakpL\n",
       "iPG4gV6LTrD+xLRSYqsgcRgZM7b2xZfL3VnAf0HuDrGKjmHpoZag8B+iswIukB+vyvRbt35qGg2P\n",
       "k4yET8DQLfoiSvCsY8PvQbnpd1gs+Jz6fOES73+IPfy/J2TE/wWSlNYrrfr5BwAAAABJRU5ErkJg\n",
       "gg==\n",
       "\" style=\"display:inline;vertical-align:middle;\" /></a><br>"
      ],
      "text/plain": [
       "range_len_sum: (j_{1} - i_{1} + 1) + ..(j_{k} - i_{k} + 1).. + (j_{n} - i_{n} + 1)"
      ]
     },
     "execution_count": 10,
     "metadata": {},
     "output_type": "execute_result"
    }
   ],
   "source": [
    "range_len_sum = Add(ExprRange(k, Add(j_k, Neg(i_k), one), one, n))"
   ]
  },
  {
   "cell_type": "code",
   "execution_count": 11,
   "metadata": {},
   "outputs": [
    {
     "data": {
      "text/html": [
       "<strong id=\"shift_equiv\">shift_equiv:</strong> <a class=\"ProveItLink\" href=\"__pv_it/b31598f9214ba9927c22cabcf3f1cea368cce0e10/expr.ipynb\"><img src=\"data:image/png;base64,iVBORw0KGgoAAAANSUhEUgAAAXIAAAAUBAMAAABi0KvJAAAAMFBMVEX////MzMxUVFR2dna6uroQ\n",
       "EBCqqqqIiIgiIiJmZmYyMjJERETu7u6YmJjc3NwAAACgK8IjAAAAAXRSTlMAQObYZgAAA4tJREFU\n",
       "SMedV89rE0EUfiZpmia7sX+AmNx6kJac1OIlxx6EehAsitKL0ENpcyklKBJ68AcUDYioiFqhBy2o\n",
       "oRcvGhahVFokxZPpoeYk9SCktEQQBd+bmd3s292ZSB9827fd931vsvPe7AxAdguUSW8GepqiJFsS\n",
       "msfMC1oUL2g/9VRB36Q76+Ez6Z2AmFHTC4SrDozgn5FwDFPcnIgWGumZxapB/71BDZXwhm5iJzvS\n",
       "GwZryaTpBcIXgA2QCBhXfBUttNEzSxpf4TcdFWFX6aZxtqg8gFMmTX8gxEsS3AKKHW+WWWSYF8gC\n",
       "TXSe6KiIlCiOWURKlcmaaeT+QLDOSXDjiok/0SMP8wJZ4C7igo6K2BU3pxG76kG6aND0BwIsKzDj\n",
       "ivFK9MjDvECWLBKze1rqMpTJbU48BvKsMk1EVS/pBoI1X8PrqAIzpgjparLZ4ul/jM45EbxAln4c\n",
       "ht0GHXUUPoj//EKgF0/gRNimFlWBMACX8bqtAPEVYeI3M0VoTN4Y32LpE1fgrcszZMkgK1YDHXUb\n",
       "bop1l2YFve8DOOpkxbCSq0DYEZ03pcCMKcLsuvOZp1/bEo031SNLahKgr6SlTsF58YRmBT3nKIYc\n",
       "aes13UBwROflFJgxRXggaw8n5eXFlZU8us8duBXFC2Tpw3bLtbTUnMwj2oi8Wcc8ci9QevqRe4EL\n",
       "10qBDr0E1p555IJMI5/TU3NybjN5NberVEyGavECsfPwMqbg1nneqxY30DrIHvD01r58p2M9slC1\n",
       "rFpa6pjsJ1FP6FmduLlD3UDqPH+H+o0p2m2h6U/fgdjSjLFDBZk69K+eui0Xp0ZRLm+JNu5yBgrQ\n",
       "oMHTxfrtd7qBsq7gvgIzpoirwx5PD+/ga75APC7u3SkyLc4H6xoqQUzaOKg5GMYfmh6E1CJNF83Z\n",
       "guvcdlggPKLLCwVmTDEzCeXrPP3H+eNDRcEjTS+LTLXokalomwUdFSG+1WfA91H/hJgO97sYeTfw\n",
       "Dr2mikTE158pRn7CK64ms2kvi/j6a6kI3BUl86+7OyW54yqE+50EvMBjYsnV7rgCiiqhE9o2hUu8\n",
       "4GUROy49FVGH1HvZk3UZRYUX3shRxXmB2f1MFbS73KCidpe7Ht6Yl7pZMi0DdUOcA+xyq3siEAQ7\n",
       "HE5f8G7g0FN3YPWokwVXjLS60gzMly+LVTNQ6xFnr53/Ps3ZLYnDnObsw5/mVNp/THpfRmX2LHsA\n",
       "AAAASUVORK5CYII=\n",
       "\" style=\"display:inline;vertical-align:middle;\" /></a><br>"
      ],
      "text/plain": [
       "shift_equiv: (f(i), ..f(a).., f(j)) = (f(k + a), ..f(i + a).., f(l + a))"
      ]
     },
     "execution_count": 11,
     "metadata": {},
     "output_type": "execute_result"
    }
   ],
   "source": [
    "shift_equiv = Equals([f_i_to_j], \n",
    "                     [ExprRange(i, Function(f, Add(i, a)), k, l)])"
   ]
  },
  {
   "cell_type": "code",
   "execution_count": 12,
   "metadata": {},
   "outputs": [
    {
     "data": {
      "text/html": [
       "<strong id=\"shift_equiv_both\">shift_equiv_both:</strong> <a class=\"ProveItLink\" href=\"__pv_it/499c4beb1159e8db08b95bc6a9f94870226545e20/expr.ipynb\"><img src=\"data:image/png;base64,iVBORw0KGgoAAAANSUhEUgAAAbcAAAAUBAMAAAD8Rm4sAAAAMFBMVEX////MzMxUVFR2dna6uroQ\n",
       "EBCqqqqIiIgiIiJmZmYyMjJERETu7u6YmJjc3NwAAACgK8IjAAAAAXRSTlMAQObYZgAABE5JREFU\n",
       "WMOlmM+LHFUQx2tndmbnR/fs/gU64GHBgMwts4Iwl4AHYXMIBH8yeNFDTFZQ4qKHIeAvlNCw6IJC\n",
       "HBcP7hx0CGjwEGnEZf0FMzeNYNKIBz2E3WCIIKtY9X5113vdryEW1E5vd3/mW/W6XvV7A9CZg7ab\n",
       "kGv1BErtZtGFs8qLAS9aYpngc0W/F/9+u5lAMAWoTHPufcAroFGoP5FztZJIt0wAGg0+G9mX6Uwl\n",
       "KZOl4F+6lU8K+hNx7r5zQ2jRqbyh+M6bnEYh7OZcDcbSLROAQVuRcz3KxSxZCj48zCfJQ/G9we2v\n",
       "Aa5lbnkme391wyPioJyF48q5XWPo8tBMASUlzhwvk6Xgm1Ouakj0hhjCOqV/sSjA4KRHxUGt5PaU\n",
       "c7vI0PXYTk6c2SuTpeBrG1zVkOi/y2eDhdoZFQb4kUfFQS22NZDOG8GIoX2wk+tr1Ccrgj9Y4ar9\n",
       "jOgmHYfvvBnBEj7j/W0rwD/WXsSRWCsWMSjsv2yxna1tbDHVSDozAaToLjx3iSe3c/7dHMySFcHf\n",
       "sFQNiX5VFip+Zxt7Se8Ev3XxKfgUP372PDmNQlSbc5kTSQtrJxxLB3hwQrZLhwIwaHBn6bd/WHLB\n",
       "3/EsUVixrAj+GI84JdFfE6fo2TaG0Bm+x2/dm8P7+PGsJzmFQpjotqBlnhSTvT6SzqwxzKL1o1eC\n",
       "OUuufkTRO5glK4I/zSNOSfRT4tQ59NoAAvhLDfGrk8kOHn0Qw+v4ca8nOYUiK6ZyyjaPoIGhLhxK\n",
       "Z1YbZNHmo2oeTSYfPzaZ4BulOYZZz8UsWQp+4V8ecUqinzKzkGQwbzYOj0NwqyS5vom1z9naFGYr\n",
       "3uQ02li9YjUUfFmtD73J9VVySye5akqiy7K8rEql3WW3Bn/KlvuwJ7nLpsp2uQwOIA3v4ki6nnM7\n",
       "aVlqdDY4GPDkludUNIsjvywF3+7GTDUl0WVDOa0m+WzYY8ndgcr4rL+haJRu5skN4f56kmkoGZMN\n",
       "RaM3Ul2d3ABnrLehiKl2lZLp8eQMib4mX/cg2+d6h3e8K/BTF+EtbEKiE1HM48xBBnVKur0RXqji\n",
       "JOhJ52+pKIseg+UVnlxl3o4EJkSYpDiQLAW//Ah/iRuSXFTc4qGqn8ovPMCvzt+zihXzIcAb9PQv\n",
       "UB119cHbDIXmyGrKq8//+gJOghXpzARg0M9haTvmr4Lth0BgQiSVpAMRiWAp+HDLUtWkoGn5VZ2C\n",
       "d/lFjTV2KuMMMLQR5a5QvlHuLr9c1fQlbtAz7sIrNmwjKYhYidLa8+nW3Cxmlf1gL5yrbtlTJRl0\n",
       "IdbrIM4WL5xzVHEcYwvtuQuvVDaMCiLWol8CvCX3NO2i/RNd3nfX5TTIBj3ofZG/es/f8qBWmapE\n",
       "3Q3JfipLwXtFcb/346XMBjLH6CvcfV5Ifwxa2czfFFPs7dzNapmqwEL39DyVVTvtYtHynxnC//Mz\n",
       "w3Xld/Ezw/W7/plBif4H5p2fKE/44nkAAAAASUVORK5CYII=\n",
       "\" style=\"display:inline;vertical-align:middle;\" /></a><br>"
      ],
      "text/plain": [
       "shift_equiv_both: (f(i + a), ..f(k + a).., f(j + a)) = (f(k + b), ..f(i + b).., f(l + b))"
      ]
     },
     "execution_count": 12,
     "metadata": {},
     "output_type": "execute_result"
    }
   ],
   "source": [
    "shift_equiv_both = Equals([ExprRange(k, Function(f, Add(k, a)), i, j)], \n",
    "                          [ExprRange(i, Function(f, Add(i, b)), k, l)])"
   ]
  },
  {
   "cell_type": "code",
   "execution_count": 13,
   "metadata": {},
   "outputs": [
    {
     "name": "stdout",
     "output_type": "stream",
     "text": [
      "Common expressions may be imported from autogenerated _common_.py\n"
     ]
    }
   ],
   "source": [
    "%end common"
   ]
  }
 ],
 "metadata": {
  "kernelspec": {
   "display_name": "Python 3",
   "language": "python",
   "name": "python3"
  }
 },
 "nbformat": 4,
 "nbformat_minor": 0
}
