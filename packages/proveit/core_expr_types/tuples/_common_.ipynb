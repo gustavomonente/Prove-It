{
 "cells": [
  {
   "cell_type": "markdown",
   "metadata": {},
   "source": [
    "Common expressions for context <a class=\"ProveItLink\" href=\"_context_.ipynb\">proveit.core_expr_types.tuples</a>\n",
    "========"
   ]
  },
  {
   "cell_type": "code",
   "execution_count": 1,
   "metadata": {},
   "outputs": [],
   "source": [
    "import proveit\n",
    "# Automation is not needed when only building common expressions:\n",
    "proveit.defaults.automation = False # This will speed things up.\n",
    "# the context is in the current directory:\n",
    "context = proveit.Context('.') # adds context root to sys.path if necessary\n",
    "from proveit import Function, ExprRange, IndexedVar, ExprTuple\n",
    "from proveit.logic import Equals, InSet\n",
    "from proveit._common_ import a, b, f, k, i, j, k, l, m, n, x\n",
    "from proveit.core_expr_types._common_ import (\n",
    "    f_k, i_k, j_k, f_1_to_n, f_i_to_j, i_1_to_n, j_1_to_n)\n",
    "from proveit.number import Naturals, one, Add, Neg"
   ]
  },
  {
   "cell_type": "code",
   "execution_count": 2,
   "metadata": {},
   "outputs": [
    {
     "name": "stdout",
     "output_type": "stream",
     "text": [
      "Defining common sub-expressions for context 'proveit.core_expr_types.tuples'\n",
      "Subsequent end-of-cell assignments will define common sub-expressions\n",
      "%end_common will finalize the definitions\n"
     ]
    }
   ],
   "source": [
    "%begin common"
   ]
  },
  {
   "cell_type": "code",
   "execution_count": 3,
   "metadata": {},
   "outputs": [
    {
     "data": {
      "text/html": [
       "<strong id=\"fk_ik_to_jk\">fk_ik_to_jk:</strong> <a class=\"ProveItLink\" href=\"__pv_it/f802bb6a99a2e6c59feff36af07ac9611834cc810/expr.ipynb\"><img src=\"data:image/png;base64,iVBORw0KGgoAAAANSUhEUgAAAJgAAAAVBAMAAABIwjoUAAAAMFBMVEX///8yMjLc3NyIiIiYmJgi\n",
       "IiJERES6urqqqqoQEBDMzMxUVFTu7u52dnZmZmYAAAD1zdHuAAAAAXRSTlMAQObYZgAAAAlwSFlz\n",
       "AAAOxAAADsQBlSsOGwAAAipJREFUOMuNlD2IE1EQx/+72SSbbC4XDkuLBT+wyyIiVkfO466w0EVR\n",
       "xC+294oDUbByGysPPLQ4C4U0FlZ3cDZ2kVRWt4VWIsSvxkJOLAQR8T+7b7Nv2WzMg8mbyZvf7My8\n",
       "D0AbZqa6mGmYE9V4nMrUW7MF04i6F0/tD4N4tiOgMkqWKuG0GDqB5poe+P2LhHxNqUbK/+C0YDqB\n",
       "Sif504g/8ORO8p0vuv/ZacEmEpYUVf+jrE19qTEojzWZwFPKnK9cOvqK0SsPNpnAAWb36mrS9Dbb\n",
       "Nfw8BnZKY+UIDE+OO0mZ97JcortjolOemU5g1EhrWKJ0+7AuyEaGMMOPwErsavvlwTQCljsfKuQ+\n",
       "5SFlS1q+jhZ+xrOcnv3yYBoh1kAp25R3vAr7asnmPnWT5m6WB9MJ4GuKSItuMtfg0AgGkzbY9lVz\n",
       "8T9l6gRwPUWkzMeAc3zjEWosfC+MsHvsjSveLLowksOnEzB/QSGrNH4z37fox4fhntnDs15Ttt3D\n",
       "Hje09YO6KJmVJ2Cx4AThsbJpdL/32SUWVjsB8+83Iaouqtc43xB9lP5clNRyBJwgRc4zBWlT3Wea\n",
       "V5IDFtyWp+kIZaNQpi3B8kTDU4jp44F0cbfpR+nddrznc+oOR8WLRMkRTnhuoJB2D5fkGVnAS2Zd\n",
       "i59Xw3XO8DMBO+QVgg0pOWI7vJwiR4HlT2PPVpBRNdZjFXdTbk6OaC+up8Za3vVwpp6e7dnWCMvF\n",
       "P8WxlcLSeLN2AAAAAElFTkSuQmCC\n",
       "\" style=\"display:inline;vertical-align:middle;\" /></a><br>"
      ],
      "text/plain": [
       "fk_ik_to_jk: f_{k}(i_{k}), ..f_{k}(x).., f_{k}(j_{k})"
      ]
     },
     "execution_count": 3,
     "metadata": {},
     "output_type": "execute_result"
    }
   ],
   "source": [
    "fk_ik_to_jk = ExprRange(x, Function(f_k, x), i_k, j_k)"
   ]
  },
  {
   "cell_type": "code",
   "execution_count": 4,
   "metadata": {},
   "outputs": [
    {
     "data": {
      "text/html": [
       "<strong id=\"f_ik_to_jk__1_to_n\">f_ik_to_jk__1_to_n:</strong> <a class=\"ProveItLink\" href=\"__pv_it/336a0975d9a3fb6b97c7116854c4f0144adbf22f0/expr.ipynb\"><img src=\"data:image/png;base64,iVBORw0KGgoAAAANSUhEUgAAAX4AAAAVBAMAAACzsJjiAAAAMFBMVEX///8yMjLc3NyIiIiYmJgi\n",
       "IiJERES6urqqqqoQEBDMzMxUVFTu7u52dnZmZmYAAAD1zdHuAAAAAXRSTlMAQObYZgAAAAlwSFlz\n",
       "AAAOxAAADsQBlSsOGwAAA2dJREFUSMeVlz1oFEEUx/+32fvMZZPCQjDgFVFsJCtRsQpnBAWL5BCU\n",
       "oDEEU2oREUWx8JpUKgkmoIXFgSBYJZVod3JimxW0EiEaxUo4sTBIEN/MzszOZD/vwezsm5nfe28+\n",
       "dxbQxFJvNWSSAMhK7JJa7wZqke65nFBvN7LZCoCshCl9zZ4N6EjR5Znzuc3zkkfVm6FWYdEBVK5l\n",
       "IKJ5PKQ0HhFYCoLnbX38Pr3w0TeU8p5fM5xkTAfQN5SBiOarDL0sS4czIzgiSnO8H09u+d35prWf\n",
       "TDIWBSQT0bxTR68uTcRmq6W4I7RlrabcjrcVCSQSMXwZ6NWlieAppYGGaDOkVeTq8cYigUQimsd1\n",
       "oEeXuxDsoTl4fcnfsw4t/c6WBNZjbRkAOsfTiRgeP2k9j7vowSVDUB2bU9uC0qAb9N+7I4mh+AB0\n",
       "AJvlejoRzbPRGyiqRZjFJUPgYFWWn6Q02kKV5fkmrOYX4C2zU2rEG9MA2LXBZjoR4n2ZBg45KuoU\n",
       "lwrBBLZl+SKlJeDZMbY1FlDFb1TGmJ1KN96YBjCtnU6EeF8eA201smkuFUI9lbsZa5Q+in6wcFgN\n",
       "H4ficrwxHQC+ZyDCvApmSZ06aS6D+B01U2y5XxXh5Gg55NZFNEmTqQP8+5NKhPjJs2O0IfeSsk8q\n",
       "aS4DhH1kBcPCWBF5gWZyo+n5duw5Wkwh8cdKB2D9QRJhiKgn/swqHgHzVLQ9IJQ0lwqh3bAgmdMU\n",
       "wF8RDju/7ll1PxrHxQbtrOoviIfSTAB2F2GCvZhaUMx4q9PADj/9it0RoYQMBL5NBJiSGui4L3VF\n",
       "OEWKonBURJOvIT9D+SzEI8+m6zwbDQNA/1wEwRvzx6zxMgPB97tstd8kbb4ulLAB7lu5DBC8lBrO\n",
       "UbfXRTi4qJ1jByg9CE1miRkzgbKbSJjC6xlfbjleC3n/VPSVNJcasiI1q4H7fBcuahcoHg27mnnh\n",
       "zzglA+hvTrUTCVM8yY8if7vlX7+kkuZSIa/sHanRbe4CuwQf3s/uDQX+a2O9/+fColVRdUPGOpQM\n",
       "YK05nUyY+9eV/F30faDsCi/2lTSXEqlss++mrx0ETn0NzKtrBQo0qnY4AHZVMABnfCGZMK8xMHm8\n",
       "0yqzuSRk64dSrpltR9TbRLaTPACyErv+n+s9G9ARu4b/EsYoG2cVLxoAAAAASUVORK5CYII=\n",
       "\" style=\"display:inline;vertical-align:middle;\" /></a><br>"
      ],
      "text/plain": [
       "f_ik_to_jk__1_to_n: f_{1}(i_{1}), ..f_{1}(x).., f_{1}(j_{1}), ....f_{k}(i_{k}), ..f_{k}(x).., f_{k}(j_{k})...., f_{n}(i_{n}), ..f_{n}(x).., f_{n}(j_{n})"
      ]
     },
     "execution_count": 4,
     "metadata": {},
     "output_type": "execute_result"
    }
   ],
   "source": [
    "f_ik_to_jk__1_to_n = ExprRange(k, fk_ik_to_jk, one, n)"
   ]
  },
  {
   "cell_type": "code",
   "execution_count": 5,
   "metadata": {},
   "outputs": [
    {
     "data": {
      "text/html": [
       "<strong id=\"fk_i_to_j\">fk_i_to_j:</strong> <a class=\"ProveItLink\" href=\"__pv_it/a28678844d3af18ecb3d9c6b91e91e3f4876ca900/expr.ipynb\"><img src=\"data:image/png;base64,iVBORw0KGgoAAAANSUhEUgAAAIUAAAAVBAMAAACakjBMAAAAMFBMVEX///8yMjLc3NyIiIiYmJgi\n",
       "IiJERES6urqqqqoQEBDMzMxUVFTu7u52dnZmZmYAAAD1zdHuAAAAAXRSTlMAQObYZgAAAAlwSFlz\n",
       "AAAOxAAADsQBlSsOGwAAAj9JREFUOMuNVD1oFFEQ/nZvs7f3tzkkhYXFQqLY3SISUh1nQlIo6GFQ\n",
       "JP5wvVcIopAq24iFgUiCJIWBNClS5SA2WsiFVKlyhVYqrEYbRTmxEETEmTcvm+WWW27hzbz35tt5\n",
       "M9/Me0DsMyMxwKdxXs/2BIusP5iPCVH3Rbkf2ko7HSATHhn7fN/fIwIj30QmUMt3W6J3aQx1YLRT\n",
       "XJRerSECI1MGTqnl2kP567NYrTDFR+5xE3EwcFkR8Fevnmr9PMXHQrsHjBzvlOqyyJb17kiKj7fo\n",
       "AcOoUegvb0rwLrG0d8j89Hdx6dlrRGDsjXMILRLD/rHDzjxNLqTE8St2OsIcx8ARVTZgzXJJApjB\n",
       "R5o8SmmsP8C0L2BY3jBJh6lYorHK5NxDUZ2z3d+H01U4LbBEfOa7QpPZ1dsO12g+pT3o0AoiH1+Y\n",
       "Xa7QXYqqMRrCoMCMVnouNtlnzCoUGLgNncsKUDi3uAyb8jwIiO8ZINmqRWkGwuyc3fcUGOZvbsmG\n",
       "0JR7gw1VpAWTmD5E8Sf/xeKgHJso/rFey+uKWkyB6wtNlR9ky1JQ9nnavQpc40DuMP/h0eQWhH/z\n",
       "31cIGIUGG+j2u5xitk6zOV0/MjvJZBZZfOPYH/DTMaczw2ngCbOzk6939O0hp5ROKUknAZzWSTrc\n",
       "3yypq1YIrrTl8l3nS3wCLygZW96kM9zFSU7pzKEmkWJ4hYtcIW87uMFRUz5Tn45hDaX4ctcSPiwe\n",
       "VS8GdqvcI3ZP1mMK7A32Fo6JmgT+A9sMfs1Dr4YFAAAAAElFTkSuQmCC\n",
       "\" style=\"display:inline;vertical-align:middle;\" /></a><br>"
      ],
      "text/plain": [
       "fk_i_to_j: f_{k}(i), ..f_{k}(x).., f_{k}(j)"
      ]
     },
     "execution_count": 5,
     "metadata": {},
     "output_type": "execute_result"
    }
   ],
   "source": [
    "fk_i_to_j = ExprRange(x, Function(f_k, x), i, j)"
   ]
  },
  {
   "cell_type": "code",
   "execution_count": 6,
   "metadata": {},
   "outputs": [
    {
     "data": {
      "text/html": [
       "<strong id=\"f_i_to_j__1_to_n\">f_i_to_j__1_to_n:</strong> <a class=\"ProveItLink\" href=\"__pv_it/a7c36f227b2be60b7ddd3a62a6a2923dab45d37c0/expr.ipynb\"><img src=\"data:image/png;base64,iVBORw0KGgoAAAANSUhEUgAAAVcAAAAVBAMAAAAA+LD4AAAAMFBMVEX///8yMjLc3NyIiIiYmJgi\n",
       "IiJERES6urqqqqoQEBDMzMxUVFTu7u52dnZmZmYAAAD1zdHuAAAAAXRSTlMAQObYZgAAAAlwSFlz\n",
       "AAAOxAAADsQBlSsOGwAAAspJREFUSMedlz2IE0EUx9/lNtnsZW8vhYWgYIoTbOQWRLEK8SwEi5hG\n",
       "OdQ7gpZanByKYJPmKj3uUEHLgJWV19qtBGxNodUhBD9KIVaKXOF787HZmc1sZu7BzmRmf+/9387O\n",
       "zE4AMtZIi9lWyrg4m4uQQWm+R+WWXYiLvNo6Sq5OQppS9DVh9Q5eTRHJZJKtDrFYuD+Dnu7rJKQr\n",
       "HbxldVjHYh3gZFEMwcIHNkL1GfR0XychXen1I/YQUYvfbRfFECz8kB1t+2Slr5OQpuQf8kYgOoPE\n",
       "HEKysAcWtMHXSUhTWuzwxgPROdcyx5CsXwcLerqvk5Cm5L2/NWKNXzibmjFy+8YQKRvRrB9cgELa\n",
       "4OskpCstxbz7GLZ9HHSvblaULBuUUdAqpqf7OgnpSit9CC9hvQZwJsKOasccQ7JlXKpeY6lXTOd8\n",
       "uVkKcdOUdgHenMf6FUBCD7QwNseQbLDJWkkxnfPlZikklpWq9AWvbR6Ddfp75hiS5SF+QjGd95XJ\n",
       "Wgllkk2V7okEjuN1AorfjmTn2I69Di7TAH3bV8+NrIU4rCm9EAncxUX6dxFnSBfCvDffEyVboflf\n",
       "+gMmWjFxH32vvITn1kIcVpSg9E8kcIAjPV7GzSKGT7TwqAh/Z39MWLaNeDSJBK2CaotFI9/SoAOH\n",
       "tkICVpSgOhYJPKTRxS2i3IDybVqHtNNtyB/X6YlT1qdXUuvChN7Ieqgtdp/51mKaeJZCHFaUINoX\n",
       "CZTFbnEar2e5t1OlGCkLN2nux0ZaNXaffIN+NOzbCnFYUXrKZjAl4I0mJ4dh/vsHWRZPFbXetcRI\n",
       "qzaUvitQfty3FeKwonSDjmBnT33H8g4/mOOQh3EuxgAUttJ411sz0+oCi6XvE5j/bC0k4KzS5W8p\n",
       "9pGVFXwKL69IX70MG3aj5qaZVj/0oPo6CSlK2T877BS0ardrLvNqFY5gTkIZpf8BMQGUEn2dMQAA\n",
       "AABJRU5ErkJggg==\n",
       "\" style=\"display:inline;vertical-align:middle;\" /></a><br>"
      ],
      "text/plain": [
       "f_i_to_j__1_to_n: f_{1}(i), ..f_{1}(x).., f_{1}(j), ....f_{k}(i), ..f_{k}(x).., f_{k}(j)...., f_{n}(i), ..f_{n}(x).., f_{n}(j)"
      ]
     },
     "execution_count": 6,
     "metadata": {},
     "output_type": "execute_result"
    }
   ],
   "source": [
    "f_i_to_j__1_to_n = ExprRange(k, fk_i_to_j, one, n)"
   ]
  },
  {
   "cell_type": "code",
   "execution_count": 7,
   "metadata": {},
   "outputs": [
    {
     "data": {
      "text/html": [
       "<strong id=\"fk_1_to_i\">fk_1_to_i:</strong> <a class=\"ProveItLink\" href=\"__pv_it/05b17adb904f62a59ec5ca08a7ea2f55e4cfbc520/expr.ipynb\"><img src=\"data:image/png;base64,iVBORw0KGgoAAAANSUhEUgAAAIYAAAAVBAMAAABxpYtPAAAAMFBMVEX///8yMjLc3NyIiIiYmJgi\n",
       "IiJERES6urqqqqoQEBDMzMxUVFTu7u52dnZmZmYAAAD1zdHuAAAAAXRSTlMAQObYZgAAAAlwSFlz\n",
       "AAAOxAAADsQBlSsOGwAAAiNJREFUOMuNVD9IG1EY/3K9S87kEkPp0M2DluKWUBw62UhpBgslVFqK\n",
       "SpE61sEOCk5mKR2qtFhKMyhmcehkwFKog0SEQqfcYCdb8N9UUSzdioi/773vLilnjhx8f+7e737v\n",
       "vd/3vUfU+rjKG9TZY1wGvlJWIZHvjONOCzjzq64/zsNW6jLY9jn+qaPtYdZdAe980vM7WXI2esAR\n",
       "q0dQpNcrOtmEWZ6AK9P6n0wB7i5yczeCo+v1hE4OdVDgxJk/SsJBixEcs/4i30lkcLokLy8DjmsR\n",
       "HD8kJrKSAGx+HZGlHwccO+0pHnzY0EkGkm4dCLg73yQUjoGIdfyVGIN63oyAc1Uyh/jr04DjVURj\n",
       "/SO6z7NaZTLKewJ+C/tIvlMcq+057FOIP0nKOWpRq1ok4/R/jpmI9kAFcqQ5yD4T8AvoOnYDul7v\n",
       "ZC/xGlHR6IceaMxYTcDviVK35xaIxgOOIlG4VR3dRNBirfe7S3EkjbKnwCxS1zZVpaKK44CcPwiN\n",
       "rLjmG1eAlgpJbAprmDUKDFYi5U4wQlOwL8sj4H9E9BhcFjeOcs84GSVdAeP8N/cYhIn3kQJneIOJ\n",
       "Eq4Oq+rXD8N2eDNz7I5YvSm+NYYD8BvWZi1Z8lqOGh++dFhOQOwahE/lV3j0YQB+wkf4Kn3mNTwX\n",
       "8C3YVlhTbNKagCgxNzXIFXJ98L39JuqbRD7chRCHydbvNjnHAnBrH+sfTbezu/CmgC8AHhuDBzEj\n",
       "FBEAAAAASUVORK5CYII=\n",
       "\" style=\"display:inline;vertical-align:middle;\" /></a><br>"
      ],
      "text/plain": [
       "fk_1_to_i: f_{k}(1), ..f_{k}(x).., f_{k}(i)"
      ]
     },
     "execution_count": 7,
     "metadata": {},
     "output_type": "execute_result"
    }
   ],
   "source": [
    "fk_1_to_i = ExprRange(x, Function(f_k, x), one, i)"
   ]
  },
  {
   "cell_type": "code",
   "execution_count": 8,
   "metadata": {},
   "outputs": [
    {
     "data": {
      "text/html": [
       "<strong id=\"f_1_to_i__1_to_n\">f_1_to_i__1_to_n:</strong> <a class=\"ProveItLink\" href=\"__pv_it/400572475467713b2a7d27da665a34e6ee21fb3c0/expr.ipynb\"><img src=\"data:image/png;base64,iVBORw0KGgoAAAANSUhEUgAAAVgAAAAVBAMAAADx8+t1AAAAMFBMVEX///8yMjLc3NyIiIiYmJgi\n",
       "IiJERES6urqqqqoQEBDMzMxUVFTu7u52dnZmZmYAAAD1zdHuAAAAAXRSTlMAQObYZgAAAAlwSFlz\n",
       "AAAOxAAADsQBlSsOGwAAAxRJREFUSMedl01oE0EUx1/S3ewmbtIcevAgNAf1pJiDBS/WqOBFkCL4\n",
       "gS0l6EnsoSIKOTWXIPiBBRGLFCwUD54aKAh6KCsFLx6aS09VSG1vEoiIF8nBN7Mzs7vdzexbB2Zn\n",
       "s/v7z//tzpvZCUCgVPgxC7SSTQPHSKXf/zmNNHljVWldnEkDx0gBHkB6p9J3l7fPsb5zVVdDiqTt\n",
       "Dj5eNwEOl943UNLCjHo7FFw57bznIqcMzsY4RpJxdV0IGj5jNTsJcKgUPy2BlH7dHeDJESruOy09\n",
       "4k2phodzeGp0dX0IGva9n3o4VPKP50BJR1iwV8i4dLIG4iaIYGFZ04WkYVG0y+RgF9yAlAebd6m4\n",
       "dCpOeef3VbBjusERtFUWF8bIwW5DQMqDzdSouHAyPk57I9lTwe4M70HRJcz6zT09HC6XX22AknrB\n",
       "FttEXDmNVgOviAd7XmMpafZSOo0EOFx+gy/1gjXKRFw5nVoBh7U3VbAtTReSNpuQbe4mwOGl/a84\n",
       "MZsyWHuKhvtOLwBWJ7B9rYJd01hKOj8PDn/4NWqwdl9O83kZbKFPw32nbRG0H2wjIe1bwtEeJMCx\n",
       "UzMQrLVIxJXTPWF/mJQGks7gWGbaadIg1wZjf3XSkyanQQhXTi9Fe0cFewkgZgH0Lkk6hxNtq9kZ\n",
       "Bsco81UwGrV8hUvFBKvjCFNw6cQTuSXXIB7sHji/2PeXHbbK4sB/+TRbdRayNQUrJCzwlWxqnpiA\n",
       "UddbsHiwpSoRF05eIjP7h1g/vJ3G57gKcI0FPcvmYlce+CVFWziCudOgYI6EBbMhJZuasM4Sj0kP\n",
       "3f2zjncrYM5QcOlUkulgrshFA+/a0aHllxQNt7RwVAk/sb6BXkFJAY5hfUbF0ekpT/dWcEvCdjTF\n",
       "mOmJ1aflJmQIHFHabZzA2T7ceBLYv7AtSoeKo9N1tgE7Oc4+Z7cFfBzrZtSSXQrQuYoOjijNOUxH\n",
       "qw1na0oK2TpmaJWKo9PFHwr6Ilq2M4vZYbBLAdqp6+CI0pisHJRCju1Hyfhc+APnmRrEv0ZH08Ax\n",
       "UoALkM7pH+wNEXl9/n09AAAAAElFTkSuQmCC\n",
       "\" style=\"display:inline;vertical-align:middle;\" /></a><br>"
      ],
      "text/plain": [
       "f_1_to_i__1_to_n: f_{1}(1), ..f_{1}(x).., f_{1}(i), ....f_{k}(1), ..f_{k}(x).., f_{k}(i)...., f_{n}(1), ..f_{n}(x).., f_{n}(i)"
      ]
     },
     "execution_count": 8,
     "metadata": {},
     "output_type": "execute_result"
    }
   ],
   "source": [
    "f_1_to_i__1_to_n = ExprRange(k, fk_1_to_i, one, n)"
   ]
  },
  {
   "cell_type": "code",
   "execution_count": 9,
   "metadata": {},
   "outputs": [
    {
     "data": {
      "text/html": [
       "<strong id=\"general_range_of_ranges\">general_range_of_ranges:</strong> <a class=\"ProveItLink\" href=\"__pv_it/ea435c4a4bcba53bebd9d11d468abee5a60221860/expr.ipynb\"><img src=\"data:image/png;base64,iVBORw0KGgoAAAANSUhEUgAAAiUAAAAVBAMAAABrpoNcAAAAMFBMVEX////MzMxUVFREREQiIiK6\n",
       "uroQEBCYmJhmZmYyMjLu7u52dnaqqqqIiIjc3NwAAACFAiZ1AAAAAXRSTlMAQObYZgAAAAlwSFlz\n",
       "AAAOxAAADsQBlSsOGwAABIBJREFUWMOdmE2IHEUUx9/ufPRMT2/vXvTiISuCmIOyKEFY2LB+HIIG\n",
       "GVACQWQXdC8aYVCECJosIiwSIoMXIebQkJOHZZshF5VAIyqihx3MwT0sMpDAHgxmcgjBqMH36qOr\n",
       "arpqu2se/IfXr6p/89/a6uqqAYARyFCZFjEY7dY+E2HvMwWoDDtS5Hg6Qn7fSLc1l8lmlemxr9I3\n",
       "hErCzpkCVIaVlcaQaxpj+xOWmK1fWenCtzLTYw8gSk2m4w8W0fousXFmln1Bpdi5Ta2ybw55RWOG\n",
       "K2mJFPap0nn0jMiMeBnga/36kpAzBg9nNs5c3xdUiq2nWqWdcPkZM11dUmr1qND8cVlkk7GlX5wV\n",
       "csaZVxMHxxNUBasqwSaXv7GtgiVUkxXWEplNxrp+0Uy4XNG4Dy6OH6gSVqu8LeRtbL1gCXWaFa6i\n",
       "Tlthxnxr97hc0Vl1cTxBlbBa5UshX2OaK2kJdYGu33vrCaCsMfjr2pMz147xXuHeEFq4Br3+1J+/\n",
       "DR+53kX0Ipcjgsef37RwYPs6+IEOwwrkRaMyEPIgmK6UJRQf3f/4OHdqK7DzAfwkBrexzkYufWYY\n",
       "3utGOM2CPpcr5oc2Dmw2e56gQ7B8j5GeMiofApcHwXD1QFlCnWQblzv4gdlDzSW4ncJ5ftOtVh/q\n",
       "Gcx034T4HwjG+OZa5XLF7QUbJxjNZ56gQ7ALzHD2mVH5AbiqE0xXd5Ql1Aa1R2iTsmSnC7sJPMZB\n",
       "CY5uswtheBei+zC7hG/0MZcrdsHGAcr9QG4sH+eQZrZWOSJUnWC4CsbKEmojX4I2+L34D3jXuIlG\n",
       "DGdMkzaL61yuuApWDnwKniA3Vowzjq1eOSXkQdBd0b9JWkJdptYaLXeUHaV9WuNByG/6Aldh3NbN\n",
       "9mmHtDZKSqf802Dl0N7PD+TG3uPM9qJRKXt2LATd1Xwv0Z+dFfZupiWIsncAZ9Js/xbQ3iH8twM1\n",
       "bGmmgFPuaJxBgOOJCotfyvcabGIUOBDfhcqgEmw07rDiTpZqFXgfmBIPgu5qF1JpiTTIl6ABW2vx\n",
       "0Wqnafg3vbzHB+zthK34DH6FX90aMu3g8sx6sI/8ii/VRQ57XJ0gdb+ROLCd/jlWXIt7qgKAb2aU\n",
       "8nSIMUnQXX0TjKQl0mv5EoRZY5XOVtHFEbxIQ7nSowo14GHw5z/wkDFiqr+EjSdAfNRpU836s6Xa\n",
       "wmGPqxPE7j9RSOzY+NmMFWu/6xV4BZhY9xJjkqC7uvFRbonZoinyCTtVLWhTLpLT8Dl9It4U+qUw\n",
       "RVn/1qKdwx7NiqAKWOlNVeJVrijxIEy4uqmER6do8bI8SKnNsH40Mk5MpLS4eUZ9385snNnsfFId\n",
       "VAHb0U5+6jRI6lQnFFxtaToO9WW+ozyuobZlUtN+m4qXuMLi7zfU/wVx8J7gHMlOeoAqYHNveeWG\n",
       "0HZ1wqQraYkEVyDY4w1XNFR+PguXVLGWcAXFr6b+H38ONk5rr+sBqoDNveWVZaFedcKkK2mJBHEO\n",
       "iq0H1QOVnhMqCTtnClAZVlbwrcE0jbGDCUuo/wGIPxeoqpmzbgAAAABJRU5ErkJggg==\n",
       "\" style=\"display:inline;vertical-align:middle;\" /></a><br>"
      ],
      "text/plain": [
       "general_range_of_ranges: (f(m, i(m)), ..f(m, l).., f(m, j(m)), ....f(k, i(k)), ..f(k, l).., f(k, j(k))...., f(n, i(n)), ..f(n, l).., f(n, j(n)))"
      ]
     },
     "execution_count": 9,
     "metadata": {},
     "output_type": "execute_result"
    }
   ],
   "source": [
    "general_range_of_ranges = ExprTuple(ExprRange(k, ExprRange(l, Function(f, (k, l)),\n",
    "                                                           Function(i, k), Function(j, k)), m, n))"
   ]
  },
  {
   "cell_type": "code",
   "execution_count": 10,
   "metadata": {},
   "outputs": [
    {
     "data": {
      "text/html": [
       "<strong id=\"range_len_conditions\">range_len_conditions:</strong> <a class=\"ProveItLink\" href=\"__pv_it/7ad945b078ae67535f3eed32c5eaf7618ec0bd170/expr.ipynb\"><img src=\"data:image/png;base64,iVBORw0KGgoAAAANSUhEUgAAAYEAAAAVBAMAAABS90/2AAAAMFBMVEX////MzMxUVFREREQiIiK6\n",
       "uroQEBCYmJhmZmYyMjLu7u52dnaqqqqIiIjc3NwAAACFAiZ1AAAAAXRSTlMAQObYZgAAAAlwSFlz\n",
       "AAAOxAAADsQBlSsOGwAAA6hJREFUSMedl19o00Acx39J2yVN11qYiC/DiuKDbCWiGygqeYgiQ7Yx\n",
       "ZDBUrOgYCGpFhAk6+yJjjEEfhMEYWraB+DBW9uDwrTKf9KXiwD9zEFAQ9WEDZWiZ4N0vbZf2kkvS\n",
       "g1969yX3++R7d7lcAcAAM3wVpw4xD/18w5y7oB4tmOGvXKxrKz2HpyByczBU5HZrDMbi5n4dzcHz\n",
       "zV7U35QDWnI2xIxNOqHL5jEChT6AhRx85j4JF2ZPs8cdDyVAKaGuZM0A+GjTO5hntZmxErlO1ali\n",
       "dyQNTQDhHMcAH2ZLc8DtN5YAUqjLaTPcS6hyV5SmHK53sAyPIQggZTgpvMPccG1q2AANdTJsGO6l\n",
       "uWhN2VQe63e6joMqfit+pw7gGieFd5gbLnk/lqUOiD5AmgMNpAybQzTwqTIHxt5onjqY5KTwDnPD\n",
       "JcX4KnVA9HHSpKGsqWyW+QnHlJEEbp7V9SkaAeigDhY5T8WF1dJccElQA70a6pPlYZNhiM2Z73dM\n",
       "KeFkho1tB0Jmbo5U7nIccGG1NBdcEnYrXRrqZ0mTxghsgVJHjxXGAJ5mbVM2a5hy+0024F5zJ6m8\n",
       "4jiwwtiPIaU5OajHJUEqLKdQHyTNQexRgtYV3PIe6bTESQ3+gbCGfWVdP31V1xPVlMIGre6id6pl\n",
       "B2LuAKns4TiwwiobbA2tumm54ZIAB8UU6tWkssaOHwWZ7plBCaVoddY6B0qCrqJ+Lw5kze7dLTnP\n",
       "QT2OOJhRNNSnSXO68jmpdxBOODow5aDVAbQGXFaRFTZ8ay3D0KTR1g+ecMSBUFRRP0GaNGC9l6Uv\n",
       "FPJODiSczGj1GBQg6yDaQiq36dJgHx73cyvszhDcYGhSf7rJ8II7ROKtivpiZQN8YDN+l2JpJwdy\n",
       "sTqq5omAnlzoq0i3xIVs+aL8tVassNi8BiWG9mMFduS84Oh+IGdRP0eqNGCfjYPAe5tVJHb+bidP\n",
       "bA7VTIcJFHqukOszEt3UThe90EVyplLRc2VQBSYWzbVdS2uvvkdc3M5N1TxhET1IZp8GXHdYw+wc\n",
       "YPla/j1/RM/W7Il4+2s2DUVbYU1xOR9nbrsM44If3FfzJEaiTSq5OQjVHMlGOYc38nFi9Ai9WGHr\n",
       "ELzAOIhtwKmXfnBUP0lD2KLr+OeTCfY78+KP3Z+WmOqQ8gtu8myXebxaYH0QXWIPpAlYTfvAoT6L\n",
       "MfHQ35+mgNPfgGM41qxuPldjMGcc6mS7wfBXRhx0if8nuDGYM47o/wGKfDbEVUuWfgAAAABJRU5E\n",
       "rkJggg==\n",
       "\" style=\"display:inline;vertical-align:middle;\" /></a><br>"
      ],
      "text/plain": [
       "range_len_conditions: ((j_{1} - i_{1} + 1) in Naturals), ..((j_{k} - i_{k} + 1) in Naturals).., ((j_{n} - i_{n} + 1) in Naturals)"
      ]
     },
     "execution_count": 10,
     "metadata": {},
     "output_type": "execute_result"
    }
   ],
   "source": [
    "range_len_conditions = ExprRange(k, InSet(Add(j_k, Neg(i_k), one), Naturals), one, n)"
   ]
  },
  {
   "cell_type": "code",
   "execution_count": 11,
   "metadata": {},
   "outputs": [
    {
     "data": {
      "text/html": [
       "<strong id=\"range_len_sum\">range_len_sum:</strong> <a class=\"ProveItLink\" href=\"__pv_it/7ef5950cde3a41f2335af9d6252116ad5f0608e00/expr.ipynb\"><img src=\"data:image/png;base64,iVBORw0KGgoAAAANSUhEUgAAASkAAAAVBAMAAADoeAXTAAAAMFBMVEX////MzMxUVFREREQiIiK6\n",
       "uroQEBCYmJhmZmYyMjLu7u52dnaqqqqIiIjc3NwAAACFAiZ1AAAAAXRSTlMAQObYZgAAAAlwSFlz\n",
       "AAAOxAAADsQBlSsOGwAAAmFJREFUSMe1lj9IHEEUxt/qurtevPXAWjhIq3BVOsXIKCIpJIQTwZAI\n",
       "JlYJm0LQxlyhyCEHVwiCBHIkRUghHmnE7gS7IFwhGJGDK1IlhRYpkkUhM+vOujt/8K3gK3Znhvf9\n",
       "5mPezO4AQBtSRvuecuOSbCOt7Dk+NT08xH9nj76aglhSSIzJVFNp4Wp6hM9UWe9UkWHW5bFPZZ8+\n",
       "t7Gm9HAl/QbveBh8F8/KMtmSOCrGdPjGwWMCjrdQqp5mXGbVhFExjsK3hV3UIwE/cwdX3R7S1cyd\n",
       "XFH8Bit/qyAn7lS0rh7kka608CRdcEXxW6z8sCDr6kWtK7uKdKWFJ+mCK4p/Ql8rcAmZ5aTMbZQB\n",
       "vlSVrnpGkK44XIqArnNF8a8CvA/9x8FR3iQscrQFV2C0gukdQsbnCclHMuNCGE3EKiGvCRllTQ7n\n",
       "8TWgP76mqwQcHwgdOvuhuMH9m0UR1qrrJXKtIrh8fHz9WlH8B/5JE11157Wu0BXk8KV3rZJEt9f7\n",
       "f+gqOMQ651Oyq91GXefKLiBdcfjiAryV6HbRs9rK3V6Ab6zzHmRXL1xP58ppJkd36aHI/Asb8UlC\n",
       "uLszAr5E/3UMvTWVK4p/xjoPFa46TxQV7Hj0Z5DWpJ0cNVl5JngjNgmHdzT5VozTB6EoLG6EN+l5\n",
       "gzcKVwCqfRXET0BWkMOtnFPPSVlzsGEIAo63SzBg+7e5Sv6H17F/Zw4/B3NWcuVewNiBIIjww8al\n",
       "SW80vz9W5G/d/l/VargF9P0qhD+F7J58D8nDmafDf4bKWrrLYmcNnZoeHuJdL61sBZ+aHh7g/wOQ\n",
       "+NZpfinWpgAAAABJRU5ErkJggg==\n",
       "\" style=\"display:inline;vertical-align:middle;\" /></a><br>"
      ],
      "text/plain": [
       "range_len_sum: (j_{1} - i_{1} + 1) + ..(j_{k} - i_{k} + 1).. + (j_{n} - i_{n} + 1)"
      ]
     },
     "execution_count": 11,
     "metadata": {},
     "output_type": "execute_result"
    }
   ],
   "source": [
    "range_len_sum = Add(ExprRange(k, Add(j_k, Neg(i_k), one), one, n))"
   ]
  },
  {
   "cell_type": "code",
   "execution_count": 12,
   "metadata": {},
   "outputs": [
    {
     "data": {
      "text/html": [
       "<strong id=\"shift_equiv\">shift_equiv:</strong> <a class=\"ProveItLink\" href=\"__pv_it/b31598f9214ba9927c22cabcf3f1cea368cce0e10/expr.ipynb\"><img src=\"data:image/png;base64,iVBORw0KGgoAAAANSUhEUgAAAXIAAAAVBAMAAACpjHhsAAAAMFBMVEX////MzMxUVFREREQiIiK6\n",
       "uroQEBCYmJhmZmYyMjLu7u52dnaqqqqIiIjc3NwAAACFAiZ1AAAAAXRSTlMAQObYZgAAAAlwSFlz\n",
       "AAAOxAAADsQBlSsOGwAAA8NJREFUSMeVV0toE1EUvW0ySTqTxoIrNzbixoVCcFmwViii9buQQhdi\n",
       "wYpQVOJn0W5qET9IKRY3FakQLAgupKG4EoQu4qaKzUriDwJV60JpuihijeC9895M5r43b1IvnMmd\n",
       "mXPOnZn3DQBUwYuqf2gSgpORMNyONMtsokrGfNm91b7gXRLZ6eaWUmKVBQy3WaZGmE6NT2apK3/t\n",
       "nk68EFklohojwtaCax1izxxnh/7rsQJV0kVwTnQYpAh7ik6cHRdEdgTgYZSlT4T3AG0FAR6K44Nw\n",
       "I12nVIGnmFw3SRGpPJ0kXnXJDGAk6smDREiOC/BQHOt+K+eDLF2nVIE7mNw1SREJ9+QMvkbCk0V9\n",
       "jSARYFiCl2VEa8O7nuZde7hJFRhEHDNKh2HAzZ8jBrzGyEd4BokA0xIsuKMzaHjy6SZVLOxqmTWj\n",
       "dBomKL0ytAsosytIcbJmS48I9uccHucl+OhixLZsulLg5b+//BmmU6qkitgnamCSzstX/yvexLHw\n",
       "CyWnIr6GJEIKzuNxVAJSvW5kGx/TI87l33zLs/LWJdhfkLqIKtT0rTkwSUfhqDu5U6tg9iOFT53u\n",
       "iVgcJBHG3JFXkmDBHGHp68K2Kiv/JA83w3RKlTjOzokymKQlOOfeoVbBrLAFKS01s6dHxIxGXqcE\n",
       "C+YIty+DbJSDQ6JR7hVo7tV1SpXESeRUjdJOUcfpkXWWsC2swYiJ1iNCirJ+Cf3JfeLhiQ5lhJ4F\n",
       "ez1Mp1ShJ39nlvbDDF2J0QtRdh+ie4tPhHgx2FuC/Zw52uvWGi9v/xEDr9SkShv2lr22UVqCfe4U\n",
       "THcws+sOjtAc2LqbmB88IsAqfhK4KsGCOSZrdr2dl69DbOqtq9MXDrtRJYaHX0Ypwp2cVjvEXGPV\n",
       "VvD7lWGOphc62L+DSYMo1+VJCRbMsTVnrzm8yR/BtfEi6bi5fybFNDmvPzNICafoyhIdKNuHU1G8\n",
       "CvE+6g+0Ph/ykt4CI8JOOhyXYMEcYwtQ+cDLP/64fU+HqyNPv4oo1eeLLey0I0WTFBGn97vh9lw5\n",
       "lL4gFvXx7j55g3iRZq8eAR66Y9hCSLq03l0W/SpwIEqKwK1LOjsT3APRTqeoj3cy8Im7kxtyb5XS\n",
       "9gq6Y9i2iXSOPpyKfpXgzk+XEroh3iVWzW7xRrhu2fq+n3qcT2yp0zoByxJKqI6hsSw9lRFablSJ\n",
       "VSOkhFlIVgRnVgiwCZM6nd66QZy8Rb9dEkqojqHRJT2V9gpUsXMRUkLG14tsbBN/EIUkWRUw3GaZ\n",
       "9oib+Lu7YpYi/gHxkU9Bbl1mywAAAABJRU5ErkJggg==\n",
       "\" style=\"display:inline;vertical-align:middle;\" /></a><br>"
      ],
      "text/plain": [
       "shift_equiv: (f(i), ..f(a).., f(j)) = (f(k + a), ..f(i + a).., f(l + a))"
      ]
     },
     "execution_count": 12,
     "metadata": {},
     "output_type": "execute_result"
    }
   ],
   "source": [
    "shift_equiv = Equals([f_i_to_j], \n",
    "                     [ExprRange(i, Function(f, Add(i, a)), k, l)])"
   ]
  },
  {
   "cell_type": "code",
   "execution_count": 13,
   "metadata": {},
   "outputs": [
    {
     "data": {
      "text/html": [
       "<strong id=\"shift_equiv_both\">shift_equiv_both:</strong> <a class=\"ProveItLink\" href=\"__pv_it/499c4beb1159e8db08b95bc6a9f94870226545e20/expr.ipynb\"><img src=\"data:image/png;base64,iVBORw0KGgoAAAANSUhEUgAAAbcAAAAVBAMAAAA3Gr2JAAAAMFBMVEX////MzMxUVFREREQiIiK6\n",
       "uroQEBCYmJhmZmYyMjLu7u52dnaqqqqIiIjc3NwAAACFAiZ1AAAAAXRSTlMAQObYZgAAAAlwSFlz\n",
       "AAAOxAAADsQBlSsOGwAABH9JREFUWMOVmE2IHEUUx9/ufPX2zM7syaMZCOQWGDwIih9JHCTEIANK\n",
       "gqLsgsYF0dCgh/WgO4eFRTerQy6RoNIoCDksMwmLFxEa8RRJHPGgYJRBhXgR4yGIaxKs96q7ul51\n",
       "VXUseDuz1fXr//91v6quHgCYQdbaYG2O7rsbMwNdwQZ40bI284suJqrvmv0EtWm5yDXXgefTcANe\n",
       "tKRp5q2iX9O/wecxtCZi9PD/OGcozD3okLdYICBDw/sPGYepx+Fck0Xzu3/ZSYxwRH2X7knggvis\n",
       "TiznWYh9KhkKiyPb4fNp8HaBoQuFS0o958tk0XzjhoMUEUTU9cpTMWxqQ07q4xtDn4qJchbW0uBt\n",
       "k6EddY9q0o7sWSuTRfPBiKsqUkRdnnNP/FnR0CvsRC97RAqowdZjGbytMHRZHW+l85t66nGJLJqv\n",
       "TrmqIkU8Qz1NUai1kdPgOU9yBdRgFyIZ3NqIoZ+BmdxuhvpkyfyfS1x1VxPdoro7cGQIgZhuO9uG\n",
       "wd+/+APr2y2iUNj5zmDbWz8Lq82uDL4aTBh6Fq68w5M7+9MZC2bIkvl1Q1WRIuRN6UxltpMTfGjt\n",
       "NDwq7vAbnjuXoTCsR1zmxKwiaqcxkgGw0cd2JL8nGRr+3bq6ypIL/4nHsxRzy5L5/dxxToo4Tl14\n",
       "b6sJtJO3+dBPI9gQH195kktRaMyyZSGTWYVA1E4rDdaqiY627jw39xFLrrWH7guYIUvmX+WOc1LE\n",
       "Ker6BifhAEK4nV7il+Qlfi+GJ8THPk9yKYrfYsYGe/Rgmbshg68yAx0NVuW8Cfr9x1/s97u0BI4n\n",
       "RcyQRfNzd7jjnBRxSs1ClGnt8evwAoQ3scA8ye0qrxucrfdgLPprKzIsyWVo9f2LxoIiHlbLSREz\n",
       "ZNH84gpXzUkRH1DXfdgtCmShy4aG/8pnpK8sMxToHmsy4gLiZM/LUp9ziY6OB8tLPLlOhEXjK0tk\n",
       "0XylGzPVnBTxMHVh4VbEecfJhCV3CyqjqwCvARQfOSEwFNo3jeQSeKAl5nYPKFgjQKHrYuyUJzcQ\n",
       "MxaxsJhWrGTRfCfizzlFYtAq38b9GS6fy22+4n0Irw9FuttiEaKVCD2PtC8amu+DsgKZNo42xSSY\n",
       "yuBPqa6O7ofx0oQlNx9VhoSRCJOkL5JF851neXKKxHiaTom+auJWVr7nBj/+8d6DomKeBOjjBTuK\n",
       "C90w+3KMoTDfMxblgxd/+VYMm8ngD/FDOvoQLG7H/FGwfQYII5FcEr+QE2LRfGPLUM1IorHaA5pq\n",
       "h127jDZWcLEuLwND61PrDuW3NHg7bFXNH+IKvVx8oYgVW11yOE5FcVP8pZzfa67NL+5Pm8Xix0pS\n",
       "6HyyHls3zptqm2xspy2q+cZZocW3lGYuq+/oT9pEHwF4TL6AVFyvvr/i5qq4oOBFVui+5Lj9Fb0n\n",
       "w1xRZqWqhIXFF+WdXBbNe0U/AXjzXem251DBl9DiHraBfxQa/DCwspVYhnlleqWqhDWK3VEui+a9\n",
       "ou3c9nXHJvUufsy47jrwVhpuwIuW/XQT+UT/A7FukqsWLiAxAAAAAElFTkSuQmCC\n",
       "\" style=\"display:inline;vertical-align:middle;\" /></a><br>"
      ],
      "text/plain": [
       "shift_equiv_both: (f(i + a), ..f(k + a).., f(j + a)) = (f(k + b), ..f(i + b).., f(l + b))"
      ]
     },
     "execution_count": 13,
     "metadata": {},
     "output_type": "execute_result"
    }
   ],
   "source": [
    "shift_equiv_both = Equals([ExprRange(k, Function(f, Add(k, a)), i, j)], \n",
    "                          [ExprRange(i, Function(f, Add(i, b)), k, l)])"
   ]
  },
  {
   "cell_type": "code",
   "execution_count": 14,
   "metadata": {},
   "outputs": [
    {
     "name": "stdout",
     "output_type": "stream",
     "text": [
      "Common expressions may be imported from autogenerated _common_.py\n"
     ]
    }
   ],
   "source": [
    "%end common"
   ]
  }
 ],
 "metadata": {
  "kernelspec": {
   "display_name": "Python 3",
   "language": "python",
   "name": "python3"
  },
  "language_info": {
   "codemirror_mode": {
    "name": "ipython",
    "version": 3
   },
   "file_extension": ".py",
   "mimetype": "text/x-python",
   "name": "python",
   "nbconvert_exporter": "python",
   "pygments_lexer": "ipython3",
   "version": "3.7.3"
  }
 },
 "nbformat": 4,
 "nbformat_minor": 1
}
