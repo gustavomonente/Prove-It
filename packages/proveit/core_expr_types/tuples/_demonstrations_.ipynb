{
 "cells": [
  {
   "cell_type": "markdown",
   "metadata": {},
   "source": [
    "Demonstrations for context <a href=\"_context_.ipynb\" class=\"ProveItLink\">proveit.core_expr_types.tuples</a>\n",
    "========"
   ]
  },
  {
   "cell_type": "code",
   "execution_count": 1,
   "metadata": {},
   "outputs": [],
   "source": [
    "import proveit\n",
    "from proveit import Lambda, ExprTuple, ExprRange, indexed_var\n",
    "from proveit._common_ import A, a, b, f, i, j, k, l, m, n, x, y, xx, yy\n",
    "from proveit.logic import InSet\n",
    "#from proveit.logic.equality._theorems_ import multiVarSubstitution\n",
    "from proveit.number import Add, Mult, Neg, subtract, Naturals, Integers, one, two\n",
    "from proveit.core_expr_types import Len\n",
    "from proveit.core_expr_types._common_ import (\n",
    "    a_i_to_j, x_1_to_n, y_1_to_n, f_i_to_j, f_i_to_jp1)\n",
    "from proveit.core_expr_types.tuples._theorems_ import singular_nested_range_reduction\n",
    "%begin demonstrations"
   ]
  },
  {
   "cell_type": "code",
   "execution_count": 2,
   "metadata": {},
   "outputs": [
    {
     "data": {
      "text/html": [
       "<strong id=\"expr_range\">expr_range:</strong> <a class=\"ProveItLink\" href=\"__pv_it/1012453768bf64358619ac6a1f88d19362f0d41f0/expr.ipynb\"><img src=\"data:image/png;base64,iVBORw0KGgoAAAANSUhEUgAAASkAAAAPBAMAAABKNSQuAAAAMFBMVEX////MzMxUVFQyMjKqqqoi\n",
       "IiKYmJju7u5EREQQEBC6urqIiIh2dnZmZmbc3NwAAAD0tjQRAAAAAXRSTlMAQObYZgAAAAlwSFlz\n",
       "AAAOxAAADsQBlSsOGwAAAZxJREFUSMedlTFLw0AUx//FNFelLa4i+AW6dHcwS+kmXcTFQkGcDQ6C\n",
       "VKjgB3ARcRJXtzg4KXLi6OLipGBxVUFQKIiC6TVN7/ouzYtvOJJ7/9/rr8lBgPLTdQBGvd+9Insx\n",
       "KSJx1i30GNzMCQ78zFJcalxCHKHUgFhXN9vVRG6nhYdhIEozikkRiVIPeYn5i/597rKRCD77WBsG\n",
       "BmlOMSkiMb2HzilQU10n2eoY4jsO1LhWTIpIdCQ2kW4lfuB+ZLbiUkSi42Hf6WobgkLheRVfKFSX\n",
       "9fkizQg2yrfmiMRU4DaLhmZ42MQnoiW+W8TGvdTnx50EoH9BqFHHyBEJUbl5Odc38qvhRRPRkr8P\n",
       "l5XwH25dLVRmdas4pyIm0Bz2CdUfpSJGjkhEpW3UyUN24ueun5B6yisc9TXK8SfkbFa70YYkXFGf\n",
       "L2SEyxQraaOKk3KahKq3pUfMeeXb3wCCfn/a8YchDOQOVdqWM09xYKPaE3KahFaeWl36Ay3zfSIp\n",
       "Z9RY37GNsuS8xNPDPS9ZikkRCZc5v/UvKyY1kPgDD3mbcrGnTYkAAAAASUVORK5CYII=\n",
       "\" style=\"display:inline;vertical-align:middle;\" /></a><br>"
      ],
      "text/plain": [
       "expr_range: a_{1,1}, ..a_{1,j}.., a_{1,1}, ....a_{i,1}, ..a_{i,j}.., a_{i,1}...., a_{1,1}, ..a_{1,j}.., a_{1,1}"
      ]
     },
     "execution_count": 2,
     "metadata": {},
     "output_type": "execute_result"
    }
   ],
   "source": [
    "expr_range = ExprRange(i, ExprRange(j, indexed_var(a, [i, j]), one, one), one, one)"
   ]
  },
  {
   "cell_type": "code",
   "execution_count": 3,
   "metadata": {},
   "outputs": [
    {
     "data": {
      "text/html": [
       "<strong id=\"lambda_map\">lambda_map:</strong> <a class=\"ProveItLink\" href=\"__pv_it/be58c56f93518fa7825a0df3aaaf124d1c17c0dc0/expr.ipynb\"><img src=\"data:image/png;base64,iVBORw0KGgoAAAANSUhEUgAAAGYAAAAWCAMAAAAFIxmRAAAANlBMVEX///8WFhYNDQ3MzMxUVFRE\n",
       "REQiIiK6uroQEBCYmJhmZmYyMjLu7u52dnaqqqqIiIjc3NwAAACgirQNAAAAAXRSTlMAQObYZgAA\n",
       "AAlwSFlzAAAOxAAADsQBlSsOGwAAAaVJREFUSMe1Vtt2hCAMTMsdQoD//9kioIAW1+3Z8uSR2SQz\n",
       "mcQFyCfCzbm9fOcEurtV4TNZyLds9nLFBL6q4ulB1x6kv/Isdw4/kMaaVwhjP5BGP4As6ITn9lDu\n",
       "NcZ1wlNCek7T1o5gsGdHYQiiPnl+vJQTRJ68b32I4a5SD+qsXi5V10vjFoFJTMLoLKJIhTCOerL8\n",
       "u2LXSGBP6pkMTNXLJFf1B9FVxFKUrQg/kpIMtGqSpytbqpUBS8er7y85nZTUwb6gfxmL4iI1h5xk\n",
       "k7saKzbKqR5pUxB72rk3bcYdv97tlS1FY8PkYtrQJtUFxQcn2ZxChAYi8CfDxr0yIxZp3NBoLI0U\n",
       "DiiCx66NBXKHWVWCaDbsYASzt2Tw+iSJmubGZZSRNlcbsfNHBJ9hqr0QoZhXys6H7yTkYtotm+aM\n",
       "B88iDwwOjYaZkWx2V0+jGzbKt9dxwiFqitfF2LrOKWuGT5frZRLcFgdrLFZ9KuK0YdqkUBvcTEa8\n",
       "/3Hh21ZlukRorsMxjDm6bvdui79/bmhcvPFWFPP3PwO5z04xDf98TFFlE+MHGzIOSwTA5iQAAAAA\n",
       "SUVORK5CYII=\n",
       "\" style=\"display:inline;vertical-align:middle;\" /></a><br>"
      ],
      "text/plain": [
       "lambda_map: (i, j) -> a_{i,j}"
      ]
     },
     "execution_count": 3,
     "metadata": {},
     "output_type": "execute_result"
    }
   ],
   "source": [
    "lambda_map = Lambda((expr_range.parameter, expr_range.body.parameter), expr_range.body.body)"
   ]
  },
  {
   "cell_type": "code",
   "execution_count": 4,
   "metadata": {},
   "outputs": [
    {
     "data": {
      "text/html": [
       "<span style=\"font-size:20px;\"> <a class=\"ProveItLink\" href=\"__pv_it/e63b2d4dc5003498b0e1d1673b723d884d55e90b0/proof.ipynb\" style=\"text-decoration: none\">&#x22A2;&nbsp;</a><a class=\"ProveItLink\" href=\"__pv_it/7ad2858138788e1f08407e5712d5b6bcd71d45810/expr.ipynb\"><img src=\"data:image/png;base64,iVBORw0KGgoAAAANSUhEUgAAAMsAAAAWBAMAAACcdXXxAAAAMFBMVEX////MzMxUVFREREQiIiK6\n",
       "uroQEBCYmJhmZmYyMjLu7u52dnaqqqqIiIjc3NwAAACFAiZ1AAAAAXRSTlMAQObYZgAAAAlwSFlz\n",
       "AAAOxAAADsQBlSsOGwAAAiBJREFUSMdjYGB4wEAu4CNODGwB7wGyrWG9gCl2B1MoFkScZiAfYJrJ\n",
       "swFTFcgjXBMosIZzAbrISmzKZjEwcBRQYA17A7pIOzZlFQwMbAyUgCx0gQRsqtgWMERSZM109ESB\n",
       "NQo4Cxi6QfSLvW+JSsDd99DS1iY0FRwbsJnGrQB2D2seg/0CIqwJe8D8C1WkEkS0uICAE9TdWExj\n",
       "n8DgA6SWFTC0MDAsB3uYqxKnLVzpDBwOMAUQ1UfQlLAcwGYajwNDKpDqX8DgzcB41wEkJHsFpzUc\n",
       "vxhYNkAVQFXLo0d2ADbTGD+ArUlm4PoKthObA5HMMGBYHwBTAFEdhsUaTNNYExjmAH32m4H9AxHW\n",
       "rN/AUM+Aas0R9Lg5gM00INsWaM0fBuYJ55AlMNMDF8iaAwyWPA9QrClGU8Z8AYtpDOwG4CQ5l6Gk\n",
       "YQOSBNdPkKEToAw4j/MCuwc3qm96GTCSLoZpwEi9wBACpBbdltMVQJZwAXqHBVSQeDBACRYvoH26\n",
       "Gx9dRLXGDz17OmAxjYHlAQOLALxwRUjwYIbaKTgLyRo+B3RljlhMY3iCXPoBJbg2QCS4MeN/A7I1\n",
       "q6HGYJa7FVhMA5endrCSZOePC4w5DK/nA8N7LWYSgJcyIAViB0CqGRgeY6hjfoBpGp8BUGAxSq0E\n",
       "oTArB3ZULrTGtcJ0jgGmacygKOArwBoDeAE07tixNCOeY5pWh6GIyDqOnThlCNMA/CymV1Jp8PkA\n",
       "AAAASUVORK5CYII=\n",
       "\" style=\"display:inline;vertical-align:middle;\" /></a></span>"
      ],
      "text/plain": [
       "|- (a_{1,1}, ..a_{1,b}.., a_{1,1}) = (a_{1,1})"
      ]
     },
     "execution_count": 4,
     "metadata": {},
     "output_type": "execute_result"
    }
   ],
   "source": [
    "singular_nested_range_reduction.instantiate({f:lambda_map, i:one, j:one, m:one})"
   ]
  },
  {
   "cell_type": "code",
   "execution_count": 5,
   "metadata": {},
   "outputs": [
    {
     "data": {
      "text/html": [
       "<span style=\"font-size:20px;\"> <a class=\"ProveItLink\" href=\"__pv_it/2d57bb70710a493542746619ca99994f4657fd3c0/proof.ipynb\" style=\"text-decoration: none\">&#x22A2;&nbsp;</a><a class=\"ProveItLink\" href=\"__pv_it/b7fb5e85d64b0129391990d4b0c0706908ebccc20/expr.ipynb\"><img src=\"data:image/png;base64,iVBORw0KGgoAAAANSUhEUgAAAXMAAAAWBAMAAADA2mH8AAAAMFBMVEX///9UVFREREQiIiIQEBCY\n",
       "mJhmZmYyMjLu7u6qqqrMzMyIiIi6urp2dnbc3NwAAABm9RoHAAAAAXRSTlMAQObYZgAAAAlwSFlz\n",
       "AAAOxAAADsQBlSsOGwAAAuNJREFUWMPNl01oE0EYhl+abLpJzKr0Uuih3iwKGikUPaggCgpigx7q\n",
       "zUAhCKVYBA/ioVvRk5QE9uKlElA8VKgBT1aUgILXLR4EfyCN4EVET7ZqJM7fbma6s5uteNjvMPnZ\n",
       "9515Zvabb2fRAgvxkbSwpDYQH1ibryUTfUeDtoVmBPoSEhpPtehW5WpdoJtzSUUftHXo6yh0BHqm\n",
       "lFR0o6xDHwZOCvQ0EhundeiTNkZbHP11ctGv6dCHgNE6R5+lqT/7ohGnr8/vv/wDQUxXEGItpMIc\n",
       "FwlDp/aqNbAZp1ydw0F7+0UupisIMeWjT4/TOMT/zv0W6EdIkTmFTBHmFLtwO7zi3Cph2hMsrg3H\n",
       "RJddYgxdyBDmx910so5+1VNlgX6WFJlNpFw8esKm9KwY2vsVG0c9QZnyxArZxcfQhgyRobMAHuvR\n",
       "K+ihp/eg2uSTBLLh6CdgdjxBB9/q8dBllxhDFzLEzqb1i6aQFp3VTIZ+Hai6uIT+6OYfGN89wcW4\n",
       "6IorAl2GMGyG7mhzfQmWKI77iauGvdmWhG4Geya5Z/7EwNw9f25vtDoVG1tdDu9Ko1MgUKDy87pV\n",
       "z7nI2xydVKDBhjFRkFe9SvaUuQHR+L9u4ELZ9SByh6UrIQb6RXU58hVFp0DgPp3fjA79U6UyJBLm\n",
       "JbGPvFtfldFTBAsTEA3d0RgnfS08XxmpexBtW9IxiWpgX+h1xeWIrphE0SkQ1hhtj+nQ57vdDYGe\n",
       "8lNWyvW7gXua9W8zh7B25Vo6nRq96xJ61o7QOeKMtUKGKPY59LIN67kWxRhuQFuQIUwX7eWHtk6n\n",
       "hrvFxXdelI5BWPuWL4uDYeR5/YD49XV+Bg9q1tsfDZjBY8Ed/3lNBLkzmOx2odOp26+xxUXH6HWl\n",
       "0XGIdLdLilK776vGTfkv/sZkBLXq0TiLMJ1agqFzlfrpxGvbWAT6Kl+Qki6j4+bwdiKmS0AY7J05\n",
       "H/PB13cZ9fcA/9cVA+IvzO38kvxzz/cAAAAASUVORK5CYII=\n",
       "\" style=\"display:inline;vertical-align:middle;\" /></a></span>"
      ],
      "text/plain": [
       "|- |(a_{1,1}, ..a_{1,x}.., a_{1,2}, ....a_{k,1}, ..a_{k,x}.., a_{k,2}...., a_{1,1}, ..a_{1,x}.., a_{1,2})| = 2"
      ]
     },
     "execution_count": 5,
     "metadata": {},
     "output_type": "execute_result"
    }
   ],
   "source": [
    "Len(ExprRange(i, ExprRange(j, indexed_var(a, [i, j]), one, two), one, one)).computation()"
   ]
  },
  {
   "cell_type": "code",
   "execution_count": 6,
   "metadata": {},
   "outputs": [
    {
     "data": {
      "text/html": [
       "<strong id=\"assumptions\">assumptions:</strong> <a class=\"ProveItLink\" href=\"__pv_it/b9f764a12d5a004ac6c1e0d7994dc8e35e12d0350/expr.ipynb\"><img src=\"data:image/png;base64,iVBORw0KGgoAAAANSUhEUgAAAQcAAAAVBAMAAAC57DawAAAAMFBMVEX////MzMxUVFREREQiIiK6\n",
       "uroQEBCYmJhmZmYyMjLu7u52dnaqqqqIiIjc3NwAAACFAiZ1AAAAAXRSTlMAQObYZgAAAAlwSFlz\n",
       "AAAOxAAADsQBlSsOGwAAAxhJREFUSMetVk1o1EAU/jb7k91suy0o4kVaqYiIlIitYLGy1lyspS1S\n",
       "lCpCwZ+Dly54UfCnh4KICMGLUGoNbS8eSouCXhfqSZFGein+YEChCB4KYkHx4Pwkm9nJZBvBgQfv\n",
       "JfN9+ea9NzMB4IFbklHCfx/s081VbolG1pUezP844uDF5rBqsjF0aArF8ctqqgB5gQZvfEOqR5q2\n",
       "JsXbHeCjzHU02w7jtxqRrp4GFh0/kvl9JE2AYXMj6bAl/lP169r3hNAVHGnSHu8lMKZEQBssVpAL\n",
       "Ipk/QE4B+Qq3+HE2cD4TAfqE9PaAWfBQViO1ZcwgE8cbIK+DCc017IO3oghc9ZfVZZ1kTuetki2L\n",
       "WLUstmpt3f0WERFB5hyMknD0H0Q84g36OChLp9b6QRIx+j7IhLe7eUkSEUUWKrhPQmpYWJV6e81V\n",
       "iXjG3G+11uiEmR4ui4jSVK0cXhrdgQifP4ostrOVsdVN5Oo7o5gdU4m4wdwZhFQ7jf6yiCh4oYjU\n",
       "xPy8H/j8UaRuY4CE1HSvpf6w+J63VSJeMdcWqPTq8piIKISN6eFm02HuB/xRZFMZ9Cjhx8kK/cZT\n",
       "i47jxHNaaHInLeuKZfWFItrYlr9EJp3wqbBf4yI4Ajsog+mL0Jy9wUcZvwKZ2hBETEoNueKoMnGG\n",
       "Vd8U1oNZoywi5sRMGO1BOTi/AkmKOE3CadVJg4eIL0dZpEq5pojIiCKwK11/9kWRpBy9JOxlTf1T\n",
       "2h1/iioR15j7qTbtILF3JowQ0Vy7X9KtJNpG6iTwR5DQTbbl2LbTN6QNvbGuEvGAuYVaE9OmJg25\n",
       "aIeI6eBdhs66B+OXwB9BIu9ihLgjLHemVI7eSr2IjvE+ssZBnqaOc/6ltmmyuyfTHyJmu3k3pYYu\n",
       "0lYHLCfkjyCR8ZAhKaOGnLvVicmS6tc0+9w/fIPxWvDPd1l1l1WTI/BHkF/5jURMq95xtrrA6Ii9\n",
       "65YaHPykVRrw3yV2jFlbdSDRX82XmOeG2wC0gAb8JdPf1nPIrw0nEtET81xvBKJ/C7H8aZqhUoVb\n",
       "oqEn/RlNPm4DfwEtHe9hfOSn1wAAAABJRU5ErkJggg==\n",
       "\" style=\"display:inline;vertical-align:middle;\" /></a><br>"
      ],
      "text/plain": [
       "assumptions: ((j - i + 1) in Naturals, i in Naturals, j in Naturals)"
      ]
     },
     "execution_count": 6,
     "metadata": {},
     "output_type": "execute_result"
    }
   ],
   "source": [
    "assumptions = [InSet(Add(j, Neg(i), one), Naturals), \n",
    "               InSet(i, Naturals), InSet(j, Naturals)]"
   ]
  },
  {
   "cell_type": "code",
   "execution_count": 7,
   "metadata": {},
   "outputs": [
    {
     "data": {
      "text/html": [
       "<a class=\"ProveItLink\" href=\"../__pv_it/82ac923a3af9d063c57c5188cdb2e6bb29d238160/expr.ipynb\"><img src=\"data:image/png;base64,iVBORw0KGgoAAAANSUhEUgAAAJgAAAAVBAMAAABIwjoUAAAAMFBMVEX///8yMjLc3NyIiIiYmJgi\n",
       "IiJERES6urqqqqoQEBDMzMxUVFTu7u52dnZmZmYAAAD1zdHuAAAAAXRSTlMAQObYZgAAAAlwSFlz\n",
       "AAAOxAAADsQBlSsOGwAAAepJREFUOMuNVL9Lw0AU/prW/rA/B3c7FFc7iHTSiuCoIkTEqrjr0EGE\n",
       "TgbESUHBRUHQxcGpToKLRPoHtEsnEaK1u+IgiIPvJZeYNpfUg7t7ufu+L+/eu3uAaIozDGjKP9ZL\n",
       "PMSKg8VKPuuCm3nWEW8BYcMXiR4ghrf7dq51+y9PNxoeaR5qIaQHidlAhHM966mHUeJZ3LNdHW/W\n",
       "csQIEnMBrbZjG9O64MZ+aDgRqxcBWj1As+27xUxuepFwtt8jAWI9QIkYcSP3FQMZCmujw2Hx13KA\n",
       "aExKxZibpZyGykCrRh8zAZ7ZQBiJskyMueNXlEgNivZCHwcBYgKISD6rycSYe0w9UUUKn2TUA8QE\n",
       "kC3mdlX1XFUrf2LMbQtMnJNVCxBrO2JdacyYu0U9RH6Hbgcc0wYC6/A75in1KMW2qVGm5gDvI0hZ\n",
       "kw2E8iUVI67yzVeIvNpTKEcdpD6YzkMz5zJcQETepWJ0teK8E6P7GJ0gYwlQeWOD36phG2tMcIBI\n",
       "bvaJ3V1WiiY3w//CqihKhI17z3lk1gwHmCj2eya4h1ZI50WRoZOmvaHna+8Ak9qC3v/QBXfZrCmI\n",
       "5s1pjB+LNwHsiQOsayvSZBN39tXCW2Hgolf2vkoeHGBmqioVcxXMgsnKDy7bBb86kMcvpCuGXQGd\n",
       "88MAAAAASUVORK5CYII=\n",
       "\" style=\"display:inline;vertical-align:middle;\" /></a>"
      ],
      "text/plain": [
       "f(i), ..f(a).., f(j + 1)"
      ]
     },
     "execution_count": 7,
     "metadata": {},
     "output_type": "execute_result"
    }
   ],
   "source": [
    "f_i_to_jp1"
   ]
  },
  {
   "cell_type": "code",
   "execution_count": 8,
   "metadata": {},
   "outputs": [
    {
     "data": {
      "text/html": [
       "<strong id=\"eq\">eq:</strong> <span style=\"font-size:20px;\"><a class=\"ProveItLink\" href=\"__pv_it/35d7769c56c159b6da208786b3d93de8329350c50/expr.ipynb\"><img src=\"data:image/png;base64,iVBORw0KGgoAAAANSUhEUgAAAJkAAAAVBAMAAACnAFEqAAAAMFBMVEX///8QEBBERERUVFTMzMyY\n",
       "mJjc3NxmZmYiIiJ2dnaqqqoyMjKIiIi6urru7u4AAAAvZeGPAAAAAXRSTlMAQObYZgAAAAlwSFlz\n",
       "AAAOxAAADsQBlSsOGwAAAhRJREFUOMuNlE8oBFEYwD+zY2dmd3aSUhJZXJRoyUkO/lwd9kS5mIso\n",
       "By5OS62S5oKRi+Pk4MieJEVLuSCRk5CNi6I4Stp835vZ2X3TDPMOb77vzXu/9/19AKA9AkAUQg49\n",
       "YD26Y38vdnE6D0t78OjaeusxKM1NMNxFaqxIk0niUIHfqc7xuriGa5YHJ1i3AB94so00JYvTm22l\n",
       "Z6NscupLhi4+9myKrChpqEJhy6XN/+VcIl2ylWhjXto27IPM0Wr+osXylbQqJxynhpFjtMn8DE9L\n",
       "5MLT4ral91cl2/Re1eRoEgVIu0zylPcFP5qSYgXhhi+iC9Dp0qScc58EdTzNvPGjVTM/4nqZJs69\n",
       "vqJwQtoskmRK+yh88/VoZfxosSyjlbOgw3ishUAIGV6lyF67lacdGDQGUIIfstgwluoNI+XSxE8S\n",
       "B2lT0qFFCt10e4cFWqZQoklZT/SLfrYlWP6fK23TUuSpckS1jNfGLZ9ihXgq2FO5kgYjAgp7upNT\n",
       "ge2fveZpH5bplwXmn5p3OwuDog6hsFGqEDvrE546e4qmfWiSrR267Ud+ZbjqZdb3ePv5jPc00vLV\n",
       "j6ft2njptHtCXK91+rzcWcskNf7XC2xMO9+7doPvoDINW7mvuvhf17MR+EAwmkoZF3TxW7bCvJbR\n",
       "ZNAfVutaA01JWFgM9fYKhYAfmt2XU304TYZ9yUcD1sVNdO0X8IyL0lZMU1gAAAAASUVORK5CYII=\n",
       "\" style=\"display:inline;vertical-align:middle;\" /></a> <a class=\"ProveItLink\" href=\"__pv_it/17c34b9211b78ccbfde11c51dba4801a36af85e50/proof.ipynb\" style=\"text-decoration: none\">&#x22A2;&nbsp;</a><a class=\"ProveItLink\" href=\"__pv_it/7f7f53844e06c2d9593f3c0d4587da8109b658dd0/expr.ipynb\"><img src=\"data:image/png;base64,iVBORw0KGgoAAAANSUhEUgAAAZ8AAAAVBAMAAABrkP6tAAAAMFBMVEX////MzMxUVFREREQiIiK6\n",
       "uroQEBCYmJhmZmYyMjLu7u52dnaqqqqIiIjc3NwAAACFAiZ1AAAAAXRSTlMAQObYZgAAAAlwSFlz\n",
       "AAAOxAAADsQBlSsOGwAABB5JREFUWMONV01IFVEUPub7nfd8BUVbXwjhokBatBAUs0eESQiJ4UJ0\n",
       "kQWhJLnJRSZRiIghbYQQGnLlQhRpVZtH2KaI3i6DogcJbgIN2iQGnXP/Zu7PjHPgDHfuPd/33XPn\n",
       "/g0A1EFaST2OsHpEfSkKX9dL9cQapcTaddnWVFV13+iRrh2pFYLoRlgXPgDw0hAk1bDYIrWHJO9H\n",
       "9jr/BqC4gfEzPK1Io0AGOekbLad8PiQO/EcNuh3dK1sjxJZ760doN/TwTMm9RaopnBkDWMVCagPy\n",
       "fowWBXLIV73Ba32JuLxwo21Rg14DeAFJNUJsm6erbu1XcwfAOdFzE1SVed8OMMubszMxYhTIIdJu\n",
       "ysIPn2NtfKAhoQ8gqUaIbeyGr2un5UvTgeBEz7CaYRqHEdF8N0aMAjNazadwQgxr4TMWNOMn1lBs\n",
       "6QMwtIu1cELEiT7Ial4TYFE0L8WIUeBgTEJLLvygBc1PJNZQbIUuU1tPiDjR56ni/q1WnBi4J6wt\n",
       "0FyN1mKBBPG+tzkT2nTh58NQbxu7USgn1pBs2bPdM4a2nhBxovMB+Ccy3BjAwlTM6P0TY5aDO86E\n",
       "piQ+V2FWDgZZQAtpnNrZxcQaqjfHa6a2nhBxovey4+s3bXBVKFXnsLAVrcUCCTINh86Etlz43jD0\n",
       "Vw6Fi12JNRTb3glTW0+IONFHWcs+Lao+8NjoNEeLsUAOIQ54UqncrlS6g4SaXfjRMNSnkW7YT6yh\n",
       "2D6DVo9T4MotMQVYQsSJPqrWGybEQwdijoguSZrrcn6hARd+VIN+xrj0SGKNgfBeoWvrX4g40Zep\n",
       "opHyzOMxmy/HTzkWyCB4AsdOufAaWtagzyF+yhkaqjcXwNR2TrkOdixQSyM+1qsYO4nzwpLxQAUy\n",
       "yF6fM6FJ4Zp1hKHeYQEXb5sg1Mx3aajejIOpbWwKbcw31XqjbW+4hFvdAnh/8X0dFy8rqDcRyCCP\n",
       "3OfQgnDNNsPQ9P4ufr8aJ1QaqmBpiN7wvULX1hNCTvJ+td7S+Mkav2DhOkAFO5eiS8dVEI9Ujwpk\n",
       "kBYzoZZ73TWGZa5ZvwbtwDFL1Tmh0mCFiu/QEL3he4WuLRM6dvHPecbJeGk8HrP6S2LbpLloz7kP\n",
       "IAMZZNz6QhJbstZHoMFKaDuSUN/ffFtD9SZXtrSL2r/FDne8/BXLy+EbI93/CvYEx8UlAhFyLntg\n",
       "XU4lNmddawINedWc5YTm/ga2huzNu3zV0k5rSrPCOyHVzs/tRv4z+BN9zd4UcDRkYGfDYcr9R/NT\n",
       "uGGBRif/kG2c0DBSNTVkby6vQrw2cZLDCmS3eSYevyLhjwTYd8csuQhcgYWn7i23XbhhKyEoGzqf\n",
       "Exo24dCQvXn4DOK1iZMcSkHnd1nPj/7hL0XdlQnrwgcAXpqGpBoWW6T2NPf/pbh/GHF0DP4AAAAA\n",
       "SUVORK5CYII=\n",
       "\" style=\"display:inline;vertical-align:middle;\" /></a></span><br>"
      ],
      "text/plain": [
       "eq: {(j - i + 1) in Naturals} |- (f(i), ..f(a).., f(j + 1)) = (f(i), ..f(a).., f(j), f(j + 1))"
      ]
     },
     "execution_count": 8,
     "metadata": {},
     "output_type": "execute_result"
    }
   ],
   "source": [
    "eq = f_i_to_jp1.partition(j, assumptions)"
   ]
  },
  {
   "cell_type": "code",
   "execution_count": 9,
   "metadata": {},
   "outputs": [
    {
     "data": {
      "text/html": [
       "<span style=\"font-size:20px;\"><a class=\"ProveItLink\" href=\"__pv_it/35d7769c56c159b6da208786b3d93de8329350c50/expr.ipynb\"><img src=\"data:image/png;base64,iVBORw0KGgoAAAANSUhEUgAAAJkAAAAVBAMAAACnAFEqAAAAMFBMVEX///8QEBBERERUVFTMzMyY\n",
       "mJjc3NxmZmYiIiJ2dnaqqqoyMjKIiIi6urru7u4AAAAvZeGPAAAAAXRSTlMAQObYZgAAAAlwSFlz\n",
       "AAAOxAAADsQBlSsOGwAAAhRJREFUOMuNlE8oBFEYwD+zY2dmd3aSUhJZXJRoyUkO/lwd9kS5mIso\n",
       "By5OS62S5oKRi+Pk4MieJEVLuSCRk5CNi6I4Stp835vZ2X3TDPMOb77vzXu/9/19AKA9AkAUQg49\n",
       "YD26Y38vdnE6D0t78OjaeusxKM1NMNxFaqxIk0niUIHfqc7xuriGa5YHJ1i3AB94so00JYvTm22l\n",
       "Z6NscupLhi4+9myKrChpqEJhy6XN/+VcIl2ylWhjXto27IPM0Wr+osXylbQqJxynhpFjtMn8DE9L\n",
       "5MLT4ral91cl2/Re1eRoEgVIu0zylPcFP5qSYgXhhi+iC9Dp0qScc58EdTzNvPGjVTM/4nqZJs69\n",
       "vqJwQtoskmRK+yh88/VoZfxosSyjlbOgw3ishUAIGV6lyF67lacdGDQGUIIfstgwluoNI+XSxE8S\n",
       "B2lT0qFFCt10e4cFWqZQoklZT/SLfrYlWP6fK23TUuSpckS1jNfGLZ9ihXgq2FO5kgYjAgp7upNT\n",
       "ge2fveZpH5bplwXmn5p3OwuDog6hsFGqEDvrE546e4qmfWiSrR267Ud+ZbjqZdb3ePv5jPc00vLV\n",
       "j6ft2njptHtCXK91+rzcWcskNf7XC2xMO9+7doPvoDINW7mvuvhf17MR+EAwmkoZF3TxW7bCvJbR\n",
       "ZNAfVutaA01JWFgM9fYKhYAfmt2XU304TYZ9yUcD1sVNdO0X8IyL0lZMU1gAAAAASUVORK5CYII=\n",
       "\" style=\"display:inline;vertical-align:middle;\" /></a> <a class=\"ProveItLink\" href=\"__pv_it/2c37e9a104c698ff230ddfcadddc206748c230dc0/proof.ipynb\" style=\"text-decoration: none\">&#x22A2;&nbsp;</a><a class=\"ProveItLink\" href=\"__pv_it/2d048d4436e8c43aca3a4a6d78f749dade6304730/expr.ipynb\"><img src=\"data:image/png;base64,iVBORw0KGgoAAAANSUhEUgAAAZ8AAAAVBAMAAABrkP6tAAAAMFBMVEX////MzMxUVFREREQiIiK6\n",
       "uroQEBCYmJhmZmYyMjLu7u52dnaqqqqIiIjc3NwAAACFAiZ1AAAAAXRSTlMAQObYZgAAAAlwSFlz\n",
       "AAAOxAAADsQBlSsOGwAAA+9JREFUWMONlz1oFEEUx1/MfWUvnoJg64kgFgrBwkJQzniIqEhACaQI\n",
       "SZEgiELQRgvjIUoQiQSbgFgsWlmEHCGVNodoE4tcZ4QIBwppBCPYGCI4772ZufnYnb0Hb9l9+3vz\n",
       "n519MzsLAB1QVtGHDOtAMtkJ8En3Kk5qp2ftgMbelo5t4iHfzmxTpnik0ZRt49Jd23RSx6FX7YDG\n",
       "Z7p89g5gsCn4hqGSZAhSyoHYIs24ZX2XuBcJPUFBgNL7mFM30nsLFhjUiBYwUj58C+CtOMk1YSAO\n",
       "NIogp3wFk7Tipr1+uiOOL6Xb9paOKwdbnHo5iTFMg0GN0gyGCp9OA8zx7WIj0CiCnGKTVpzqUV3s\n",
       "RbF70m1jwVvXYp16L/RAJpiuUaDIBI71pLx9M9AoggV9dTMljuXUNsUKMbttJJin+2pcAtVhgeka\n",
       "YxRZxYQFeXsx8EAIjumrxZS4JzYww273kKu9ZqR6jFnttZ40nmHgztQxUXxiii7NY62mN0ogpkTf\n",
       "hkzSiXti5Sq7PclxTSgeHW5QarTRTmC6psEMDR7kf/IJm6Pi5H7gDf2T76UENyzSjntixQV2gMd1\n",
       "tOHu69jX5tRyflIxyabADI0r9IH7jQtcCyqtp+LkY3qjBGLKLOyapBP3xAZr7JblaJH+tZ9Tf5YW\n",
       "EhjDFJihMU13tnFSjUBEI30ovVECOWXHJJ14qV6/MFWvV7VY3za7vWKO4HEdODXGN+AxhikwQ2Na\n",
       "zzdsn9DRjIlJKaWaSTpxb/SwnPKTiQ+0qvq5HicwznrUg8YrDPTjcw6IChiohkuOQErJNU3SiQdK\n",
       "zpxDVHInQaa+gHDJaTCscYbGCu/0i8NyS7B3xfv3motAg5TyC4dXk07cn7BD7PboEHIbODXaLRMT\n",
       "+Y/CGgrM0FjR8w2XvYmKWHnmIforrpfFJKUTfSVBSnmIB0l6cU+s1Ga367eqlhNMzW9vEaNlSVFf\n",
       "dcEMjet6vuXFK+v/Ik6uAtTFoORwY3MR5CF3SYOUcgS6pBc3xPac+nNCZHfY7Q9rTS0nlHpmhhgS\n",
       "IsWGOpBGFwxr5HBsH1H8nFyCsRb9mlsDBVLKbYu049bokf2QbhsKlqo6VTJr/toa22BQQ2wwB6uv\n",
       "zJ0h7v/KfiGLySVBkXK8uGOQbtzaOOpt6JzXpBD8wCuD2ubOsZBbm2CCWRpnIXeav8/9XBPfhS/5\n",
       "i4IYDQWe7dulj6Ii3bj/PR5id1eFDpznXwjRC8VF/g8mamgwU+MNFDf4SSKWFD8S4O8Ri+gSfAPz\n",
       "T0zSjfs9j9ndQRqCB89Bpiqu6KejRhfM0qh0O79FPc/+sZcpHllJ2yvPSndty0mdhV61UzX+A7No\n",
       "fgoEy9JaAAAAAElFTkSuQmCC\n",
       "\" style=\"display:inline;vertical-align:middle;\" /></a></span>"
      ],
      "text/plain": [
       "{(j - i + 1) in Naturals} |- (f(i), ..f(a).., f(j), f(j + 1)) = (f(i), ..f(a).., f(j + 1))"
      ]
     },
     "execution_count": 9,
     "metadata": {},
     "output_type": "execute_result"
    }
   ],
   "source": [
    "eq.rhs.merger(assumptions)"
   ]
  },
  {
   "cell_type": "code",
   "execution_count": 10,
   "metadata": {},
   "outputs": [
    {
     "data": {
      "text/html": [
       "<strong id=\"f_i_to_j__shift__eq\">f_i_to_j__shift__eq:</strong> <span style=\"font-size:20px;\"><a class=\"ProveItLink\" href=\"__pv_it/290bc4503e47543650cbb00a0db08145f7e0f94a0/expr.ipynb\"><img src=\"data:image/png;base64,iVBORw0KGgoAAAANSUhEUgAAAKkAAAAVBAMAAADP89MSAAAAMFBMVEX///8QEBBERERUVFTMzMyY\n",
       "mJjc3NxmZmYiIiJ2dnaqqqoyMjKIiIi6urru7u4AAAAvZeGPAAAAAXRSTlMAQObYZgAAAAlwSFlz\n",
       "AAAOxAAADsQBlSsOGwAAAkdJREFUOMuNlD9oFEEUxl92N7e3d7ubIxAQSXCjjaAJZ7AKKUzSWlyV\n",
       "gI3bHIoW2lx1CicEWQvNSRrLJUXK5CAgQTCsNgETQiCVaGBJmoCFKeWK4Lz5dzd7E9gH39zsx95v\n",
       "3r55MwDgnwBAgUsbYU4Po7DBfvc3yfCDSxu/c3j+6s1dcG5MwOI0PpYucWgzASyk6tvWBwA3zjL3\n",
       "Bj0jPgb4S/59C5+cFhn+cJHM1XfPmrjobpb6btAz3zo1GCKTT5La4JLh1fjEReqypgRZz1yHz1BU\n",
       "qBUuGaWknzqUDlKF9z2KOpRaT56rVK/DdBW1XBukcu/Xocg1vO+2FardZgL/INBRnaq633uJ8Aqy\n",
       "vGZowJSk2h22Ll3bhjEddVj5DnC8ivDKYY9qvTw/J5Nv+PSC0IoxEyxBV0cttRTqM8yEeeXeboXw\n",
       "qDSJQAJafI+VP2Li3WtH0ZtrUVSVVOsCv3snwngAkI4k3IN5tAJONdN7WJQ7MfjNtJ9qt3S5ehV1\n",
       "p7ZS4Z325+pXsQLOVzwTJKVyzETq0M5RAdiWXrGfCg8NXDLkPWAkTKQoR9rdCtQe6DrCcxN5Yklp\n",
       "3AUy+Sg6C7uEdcpjbb/aiUL1LurS+yJMuttN5RRwAcxkqObkvznyj8y9d7cmvbMpdsas1VF+l/RO\n",
       "7AoXjGdzpfFUcw8I7+ftSO3mHnWZaXb4Mnu70GhoqI2rbmNKdbFDjBBldYux9n4P8nksmnRDr+MQ\n",
       "UL16rX3PSPN5rEHYmX8yS4Y6lzaWcnp019bI5/4HedOhKfJbYFcAAAAASUVORK5CYII=\n",
       "\" style=\"display:inline;vertical-align:middle;\" /></a> <a class=\"ProveItLink\" href=\"__pv_it/0bea25deb24d443c0a8c8e503920e5942a2f9a130/proof.ipynb\" style=\"text-decoration: none\">&#x22A2;&nbsp;</a><a class=\"ProveItLink\" href=\"__pv_it/f836b392d62689590b9187eb8103a4b717fde7550/expr.ipynb\"><img src=\"data:image/png;base64,iVBORw0KGgoAAAANSUhEUgAAAdcAAAAVBAMAAADm/bn5AAAAMFBMVEX////MzMxUVFREREQiIiK6\n",
       "uroQEBCYmJhmZmYyMjLu7u52dnaqqqqIiIjc3NwAAACFAiZ1AAAAAXRSTlMAQObYZgAAAAlwSFlz\n",
       "AAAOxAAADsQBlSsOGwAAA/RJREFUWMOtWE1oE1EQntqk2WxiLAhejQjiQSF48FBoCVpEqoigFHoo\n",
       "9dAiSAtBL3qwLYKUUipFBEF6WOzJQ2kpPekliF700NysUCFgwYtgBS+GFpx5P7s72fdeuuDA93Yy\n",
       "b/J9s/t+9iUA0ARtzbDpYDKnpGDp1l7TxXG4aDKnCWlZRc/Rug5Jb7SzmvpKtiFh6VZe9InbaIpo\n",
       "gt5G6mAVPZ/Fx4W30tu28wBLhOMB7OBlJ5nCGQlHZ3lG15CpXnM0bt67ICKlClKwEvwlihROTUrv\n",
       "GsArl1yYCF8B8oEEN84oPmXWWcbr+RYkdcxRZhsn6hEpVZCGFeHVKNTzsU95AA9dcvFEyM1KtD1+\n",
       "xhgms5nYiulka6ao0SZvBXbSTqyIHhEZC7SH18AhF08EuKfAnwdL7LGWpXWKDVPUZNkWOEg7sSJG\n",
       "RGQTMaJ68zXHzcYTAV4qMOOMI9aytA4vy6VeqLpIO7EiFihwf/wskOdvY0qhbJfTieB/q9AaUuBb\n",
       "GEskrC6aytI6vCyHeu7MpdmIVFaQghUhB+ZADlEhewc5lxwjqxLBg7vYPlIAb1BYGcKhPogN/Pqw\n",
       "qSytw8tyqR9rxEhlBSlYEdfF8eA3Nuj99DBYrNrldCJMwz62HxSYMUZCqT5vKkvr8LJc6r96I1JV\n",
       "QQpWxITo2cMGvYCeXdeeXU4nokccJxWYMUaCL4bZfyEGvzcsQOjglLgyrqZEFLXYFkSkqoIUrIiJ\n",
       "cOWTt4W7Fk1l5xYhvuKRN6yQvNkwcUKXlRgDrcPHwKW+yW7Wq6ZjRSxToJueAXnPO0ykMFGeE8Jp\n",
       "HF+znJGQL/+faXwBYqTtJ5XDTON+8WqkHvT8/QIu5ApOvITJkE7E9XMTmwcKzBijwFp93bSVVIxb\n",
       "iVFdvjynIEYqKzg8K2EjXPnoZfd+4Cg1YI22NGr8v8qRTZgIMEPNogI/07FEwlipZijLa5jKMqoL\n",
       "R2560etuxvietbISbocrn7x+rCrThMwQTRM6CF7VjghFiXCamhsKzDgjofsLzzhy8c95ocPKCqMG\n",
       "9cFAb3ohqazg8KyCmYbgiVgDvbJ7F/EpOZNEKEqkKVWqSnDjjJo1abvQNgYO9SLdrFdmpFMpWXfF\n",
       "Qb5YXtbHerI5OgYkWTAUJZ7LtdSRP3km54zJHwra5tqP7A513Ergfb4eI5UVpGElDECmT546BuS5\n",
       "Adeyn/xJTqEwsWs/Q8LfFdqMMw7YzicVW9Sgvoq4/AYiUlVBClbRswK5bTnPV+TbBWdMznAwJYSJ\n",
       "i0/p2qfQZpxxxfYWC2xRgzoN0+NnECOVFaRgFT3RTim96c5/jKiv5JoSlm7llSw/Y6ZTRBP0NlIH\n",
       "K+IfeTWRYkN0EFMAAAAASUVORK5CYII=\n",
       "\" style=\"display:inline;vertical-align:middle;\" /></a></span><br>"
      ],
      "text/plain": [
       "f_i_to_j__shift__eq: {((j + 1) - i) in Naturals} |- (f(i), ..f(a).., f(j)) = (f((i - 1) + 1), ..f(_a + 1).., f((j - 1) + 1))"
      ]
     },
     "execution_count": 10,
     "metadata": {},
     "output_type": "execute_result"
    }
   ],
   "source": [
    "f_i_to_j__shift__eq = \\\n",
    "    f_i_to_j.shift_equivalence(new_shift=one, assumptions=[InSet(subtract(Add(j, one), i),\n",
    "                                                                 Naturals)])"
   ]
  },
  {
   "cell_type": "code",
   "execution_count": 11,
   "metadata": {},
   "outputs": [
    {
     "data": {
      "text/html": [
       "<a class=\"ProveItLink\" href=\"__pv_it/2fa6ac0f860954407e37df1986661a8fcad9ff5f0/expr.ipynb\"><img src=\"data:image/png;base64,iVBORw0KGgoAAAANSUhEUgAAATMAAAAVBAMAAADY9BTyAAAAMFBMVEX////MzMxUVFREREQiIiK6\n",
       "uroQEBCYmJhmZmYyMjLu7u52dnaqqqqIiIjc3NwAAACFAiZ1AAAAAXRSTlMAQObYZgAAAAlwSFlz\n",
       "AAAOxAAADsQBlSsOGwAAApZJREFUSMetlj1o1GAYx5/zPpLLXeOB4BwRxEHhcHAotBwaREoHwSJ0\n",
       "kDr0cGkhOLlYD0GklEoHoSAdgp0cSo+jky5BcNHB29RByOBeBRePCj7Pm883eZLzBf/wD8/7f19+\n",
       "l+T9yAGAD5F8SLck+QppfowPqlTRM+NFEVVJS9ZdhVRSGbSEKno+iubWm6AizwzkoZUFjs6naelv\n",
       "3QQKZ1wVKtnYoaR1bk1UolUbSqNfbU7w+jLD4FNJo7NeAoWvoERF6w5Fjfezogpa2Tmh4Q/DRt3h\n",
       "UlZrt91i6DQquiGSFTeoGoWQRjgf7TGXcqpPoAQ6jYpeFskRejk0D2k6HKTpFN9aq1cGnUZFb1Hw\n",
       "YPUiiIp8sM1BWhYHiVJG2oVrgwRqfOuqUdG7IvmD3g09vMNBtB0OEqWcTo9TUB3uq1HRixSYP/Gy\n",
       "GNj0NjlIu8dBopTTcSeBwgacqFHRfdHzAy/9wIZ4hcYLm9SJh1doiG7bN1Zt25LTAn2CBIo/MVGj\n",
       "ovvxio0oApJ7vvo97vmilNORdGt6T42K3qOgSne8F7pp/Z8JvQIpaPYc/5cJnRMnLvXMhT70htyC\n",
       "7bILtosLIKfgsFqHFBSOb4EKlTyKV+wo9IrpMBB9zEEwPaRNRhfjd7oItlYMhcfsuVZIJS/FK3Yp\n",
       "dPWzzDh19ddlnBBfhsRpbYGmi/4R3IwK2422VgyF86BEFWR6YU/EaugE5vUdMs8Xpx9yY9t0a7ol\n",
       "QdcVqWhtAG1LLFSshHk9y36I43SY/0Sh3zW9FPSSNlGkkuehNhucyfOhOZndotQY5+ID9PXXkEAr\n",
       "JzVPjSp69kH7Esz4fmhOVbco1fIxvYJHzyEF3X6qSBU9yX6kyiz4K7GhkMqvoARaQkX/Bfd9CZBV\n",
       "wwuzAAAAAElFTkSuQmCC\n",
       "\" style=\"display:inline;vertical-align:middle;\" /></a>"
      ],
      "text/plain": [
       "(f((i - 1) + 1), ..f(_a + 1).., f((j - 1) + 1))"
      ]
     },
     "execution_count": 11,
     "metadata": {},
     "output_type": "execute_result"
    }
   ],
   "source": [
    "f_i_to_j__shift__eq.rhs"
   ]
  },
  {
   "cell_type": "code",
   "execution_count": 12,
   "metadata": {},
   "outputs": [
    {
     "data": {
      "text/html": [
       "<span style=\"font-size:20px;\"><a class=\"ProveItLink\" href=\"__pv_it/c5ad101432a07c76594e5259d3fe0e4140154f780/expr.ipynb\"><img src=\"data:image/png;base64,iVBORw0KGgoAAAANSUhEUgAAAEEAAAAVBAMAAADrxp6XAAAAMFBMVEX///8QEBBERERUVFTMzMyY\n",
       "mJjc3NxmZmYiIiJ2dnaqqqoyMjKIiIi6urru7u4AAAAvZeGPAAAAAXRSTlMAQObYZgAAAAlwSFlz\n",
       "AAAOxAAADsQBlSsOGwAAATRJREFUKM9jYGDgu8uAA7Atg9Cn12FIcW38uKlDMYDBWQ/M+wcij6Oo\n",
       "4FF2YNjADWQog3icDSCyE0UFewEDT8AsIGMGQgUqYE5geMSngE0Fj0ZHN4jmY2AoYXbAooJ3zwMY\n",
       "k8XAnQFZBd/xAyBmNlwBA9MDPbgK9g1AVbwCIOY2hH0rWcF6DoKI/AAGhiyQMgaGDQgVYL8CJRcw\n",
       "MDj3AhkP+EE6WCQ6OjqaIE5eMBcoCgxV7QUMfNUgy9eDCLD/IOARG5BtBrR+L8hNBkBiM1gc4SsT\n",
       "YIjwfQDqTID55RcnSPwM3K8F14HBBpSYCPMt74dUEJN7Adyv+xjYtBSQQ0wnAByURvcgKi5qCynJ\n",
       "C03AEuq8kyChDgc4Yw5VBY8AHhXVYMulcCvgEwVT6Va4FLBMBnoOAAnzSV5G6oJgAAAAAElFTkSu\n",
       "QmCC\n",
       "\" style=\"display:inline;vertical-align:middle;\" /></a> <a class=\"ProveItLink\" href=\"__pv_it/bbd849df06876ea6f9708379d8087214e800b9a70/proof.ipynb\" style=\"text-decoration: none\">&#x22A2;&nbsp;</a><a class=\"ProveItLink\" href=\"__pv_it/d38c892f92501e8d44c714ac99d55f2a3d897e400/expr.ipynb\"><img src=\"data:image/png;base64,iVBORw0KGgoAAAANSUhEUgAAAI8AAAAVBAMAAACNsKCFAAAAMFBMVEX////MzMxUVFREREQiIiK6\n",
       "uroQEBCYmJhmZmYyMjLu7u52dnaqqqqIiIjc3NwAAACFAiZ1AAAAAXRSTlMAQObYZgAAAAlwSFlz\n",
       "AAAOxAAADsQBlSsOGwAAAVFJREFUOMuVlDFLw0Acxd9gNF61dnBXcPEzCBUph4viJAU3B11cDHRy\n",
       "c3CTQhEhi2DAb5BP4NDNwYwdBAsOLg5+AAdz9z9r7/KG5MEP0pf/e7lLuAKYQqiq3cAFVp8Foqio\n",
       "7wIvjkngr2fAW2WauyasRgIOvDtq+7GMLGeo4Uo4ToSK3svxpeu/7STM9bTooEW4cD9WCuZ6OnHw\n",
       "opQWpWz+VlCTghXltCgPRm04lSe0olNWdEWLxL3RRj248CEsX/GIFY1p0TgYteFzWLI1M6ru7VM6\n",
       "s8iGuYq13j/TetN352TDrgivGVtRn66oH75oE36AcIemW/t/RzbcFdRPixUNaNEg/GomnMvnjL4/\n",
       "WdGQFg3DY2zCxxC6wTHZuuyV4aOgyHdnMuGFjsD/evbCFXmuJ3MC+SnE3GmOEub62nUwfTRw8eRg\n",
       "2mngop0IbNvT+u4v/MR9Dbd0etEAAAAASUVORK5CYII=\n",
       "\" style=\"display:inline;vertical-align:middle;\" /></a></span>"
      ],
      "text/plain": [
       "{i in Integers} |- ((i - 1) + 1) = i"
      ]
     },
     "execution_count": 12,
     "metadata": {},
     "output_type": "execute_result"
    }
   ],
   "source": [
    "Add(subtract(i, one), one).simplification([InSet(i, Integers)])"
   ]
  },
  {
   "cell_type": "code",
   "execution_count": 13,
   "metadata": {},
   "outputs": [
    {
     "data": {
      "text/html": [
       "<span style=\"font-size:20px;\"><a class=\"ProveItLink\" href=\"__pv_it/c5ad101432a07c76594e5259d3fe0e4140154f780/expr.ipynb\"><img src=\"data:image/png;base64,iVBORw0KGgoAAAANSUhEUgAAAEEAAAAVBAMAAADrxp6XAAAAMFBMVEX///8QEBBERERUVFTMzMyY\n",
       "mJjc3NxmZmYiIiJ2dnaqqqoyMjKIiIi6urru7u4AAAAvZeGPAAAAAXRSTlMAQObYZgAAAAlwSFlz\n",
       "AAAOxAAADsQBlSsOGwAAATRJREFUKM9jYGDgu8uAA7Atg9Cn12FIcW38uKlDMYDBWQ/M+wcij6Oo\n",
       "4FF2YNjADWQog3icDSCyE0UFewEDT8AsIGMGQgUqYE5geMSngE0Fj0ZHN4jmY2AoYXbAooJ3zwMY\n",
       "k8XAnQFZBd/xAyBmNlwBA9MDPbgK9g1AVbwCIOY2hH0rWcF6DoKI/AAGhiyQMgaGDQgVYL8CJRcw\n",
       "MDj3AhkP+EE6WCQ6OjqaIE5eMBcoCgxV7QUMfNUgy9eDCLD/IOARG5BtBrR+L8hNBkBiM1gc4SsT\n",
       "YIjwfQDqTID55RcnSPwM3K8F14HBBpSYCPMt74dUEJN7Adyv+xjYtBSQQ0wnAByURvcgKi5qCynJ\n",
       "C03AEuq8kyChDgc4Yw5VBY8AHhXVYMulcCvgEwVT6Va4FLBMBnoOAAnzSV5G6oJgAAAAAElFTkSu\n",
       "QmCC\n",
       "\" style=\"display:inline;vertical-align:middle;\" /></a> <a class=\"ProveItLink\" href=\"__pv_it/b203982035fb53c446dcbce4eab4891c813e763e0/proof.ipynb\" style=\"text-decoration: none\">&#x22A2;&nbsp;</a><a class=\"ProveItLink\" href=\"__pv_it/e9e33b004333065a6b40f2511ffd8e665ae57ddf0/expr.ipynb\"><img src=\"data:image/png;base64,iVBORw0KGgoAAAANSUhEUgAAAI8AAAAVBAMAAACNsKCFAAAAMFBMVEX////MzMxUVFREREQiIiK6\n",
       "uroQEBCYmJhmZmYyMjLu7u52dnaqqqqIiIjc3NwAAACFAiZ1AAAAAXRSTlMAQObYZgAAAAlwSFlz\n",
       "AAAOxAAADsQBlSsOGwAAAXxJREFUOMuVlD9Lw1AUxQ+hqWlaa3eH9iu4CpUgQQqKOBTBrYMuTgEX\n",
       "3UQcFBGKCC4OAb+A+AV0cHOwYxGHgoMOInUVMeb9SZp784bmwCnN7+WevNebWwAjKOdVL0CB2Qdl\n",
       "g+zB9BR40h5S/HG6ALzym81UFrt9ZazS/bdwv4FKiCmoKnYCZSYrRLmHmcPkOIGJEpW1Of6B9Qfs\n",
       "6svawESJtrT5jjxY38AVDWKU6EzZHeZ6URoDdzSI0USyWKTHrto9HtSMVw9yQRN67AstQxevQfrT\n",
       "6fOgTuzHXFCWJpLFO5AO58St7qV8SkOsOqI3TfnN91e2fb9FaUayWAfhmb8c++Jjk++I0FSi+BrK\n",
       "F2ytdouv/NGydPIbyeK2svtbpUHzwAuwx4IoTbsmikUrY9vjdzoMnZMjDzinQYymYyyKu1Bu0zGp\n",
       "RFEUt2KdBjGaShSXGsrmvx4v1/4sJRITaJ5CZKbZDkyUaknbpLcCFDfaJi0WoKgHyqZjj6an/wa2\n",
       "eMlfOWiUAAAAAElFTkSuQmCC\n",
       "\" style=\"display:inline;vertical-align:middle;\" /></a></span>"
      ],
      "text/plain": [
       "{i in Integers} |- ((i - 2) + 2) = i"
      ]
     },
     "execution_count": 13,
     "metadata": {},
     "output_type": "execute_result"
    }
   ],
   "source": [
    "Add(Add(i, Neg(two)), two).simplification([InSet(i, Integers)])"
   ]
  },
  {
   "cell_type": "code",
   "execution_count": 14,
   "metadata": {},
   "outputs": [
    {
     "data": {
      "text/html": [
       "<span style=\"font-size:20px;\"><a class=\"ProveItLink\" href=\"__pv_it/63e5fa154aeaa69ed221641140eac89b049a1d590/expr.ipynb\"><img src=\"data:image/png;base64,iVBORw0KGgoAAAANSUhEUgAAAEMAAAAVBAMAAADvM06qAAAAMFBMVEX///8QEBBERERUVFTMzMyY\n",
       "mJjc3NxmZmYiIiJ2dnaqqqoyMjKIiIi6urru7u4AAAAvZeGPAAAAAXRSTlMAQObYZgAAAAlwSFlz\n",
       "AAAOxAAADsQBlSsOGwAAAUNJREFUKM9jYGDgu8uAC7Atg9Cn12HKcW38uKlDMYDBWQ/M+wciWfRQ\n",
       "lPAoOzBs4AYylEE8zgaw2AYUJewFDDwBs4CMGQglaIA5geERnwJ2JYc6OkDm8TEwlDA7YFVy+xyM\n",
       "xWLgzoCi5M0hiCf3wRUzPdCDK2EHGVzAGABicyfAlaxkPQCiDoKIfKAkawL/ArAShJUbIOx8oLhz\n",
       "L5i5/gGIdOwAAgVwICyYy8AAFGPTXsDAVw2WrAArfAQ35BEbUKUZ0KV7Qe4yAAl1giU44EpMgCHD\n",
       "9wFoegLMR2x/IeF+AOblguvA8APKTIR7mvUDRGoX3Mv7GNi0FJDDhVkBIvVYF+wyhovaQkryQhOQ\n",
       "lTDCbLip0YESoTAlzAviH+BIVGAlPAIM/gu6cKW7ahDBJ8XAfvwCDhV8omAq3Qpn2mWZDAx/ABvd\n",
       "TttEesoqAAAAAElFTkSuQmCC\n",
       "\" style=\"display:inline;vertical-align:middle;\" /></a> <a class=\"ProveItLink\" href=\"__pv_it/6d0be1aa70185c939d165f514c74c2f3ce0af4a90/proof.ipynb\" style=\"text-decoration: none\">&#x22A2;&nbsp;</a><a class=\"ProveItLink\" href=\"__pv_it/cb0c91d4903e0b6e4d0d598e3b6cb8c5b9e73d210/expr.ipynb\"><img src=\"data:image/png;base64,iVBORw0KGgoAAAANSUhEUgAAAJQAAAAVBAMAAABS/tqaAAAAMFBMVEX////MzMxUVFREREQiIiK6\n",
       "uroQEBCYmJhmZmYyMjLu7u52dnaqqqqIiIjc3NwAAACFAiZ1AAAAAXRSTlMAQObYZgAAAAlwSFlz\n",
       "AAAOxAAADsQBlSsOGwAAAYJJREFUOMuVlD1Lw1AYhU+1NmmtVfAHKLgqZHIQlCqZ1MFBEAfBRZ2E\n",
       "jE5th4qICN0EcSg6OQjiL8guouCig5DBXQddSgfvRz684RSSA0+anJucvO/NvQUQQMMU5HCBMV9D\n",
       "tZPDBR5DMNk1Bwqr7B3cFf4CKh0ogHdz7Pq0J46XyOLK5jqwPSjIoHzoKLraoq6hUsiAqFLU9RN1\n",
       "DW2HDIgqeyyqTNs4C6l8OCxqdJpFxW6su1fgAhobByzK6rAo7dqukoptlTysi19JA30WVa2zqNiN\n",
       "ZAXjPvbEiQRVeQ9u1YuW44cK3/K07br7rruScg09d5Mou86qGtllVcVuojZwBQ2K93kb/D9XWAMW\n",
       "ocHXBp12h057+muj9gs8QIMmXVf2C4uK3WTexextQoOZ1ODQ/M+caDswo1JucreoszihwSFd8p9I\n",
       "VWW6yf4TdVotxazVo1En6e1sulFNflPuyiVJoV+k/341J5M75ctVjhvF+TEtaribybXf1OeveRqq\n",
       "Rg73Dx6UdkR2magDAAAAAElFTkSuQmCC\n",
       "\" style=\"display:inline;vertical-align:middle;\" /></a></span>"
      ],
      "text/plain": [
       "{j in Integers} |- ((j - 1) + 1) = j"
      ]
     },
     "execution_count": 14,
     "metadata": {},
     "output_type": "execute_result"
    }
   ],
   "source": [
    "Add(subtract(j, one), one).simplification([InSet(j, Integers)])"
   ]
  },
  {
   "cell_type": "code",
   "execution_count": 15,
   "metadata": {},
   "outputs": [
    {
     "data": {
      "text/html": [
       "<span style=\"font-size:20px;\"><a class=\"ProveItLink\" href=\"__pv_it/63e5fa154aeaa69ed221641140eac89b049a1d590/expr.ipynb\"><img src=\"data:image/png;base64,iVBORw0KGgoAAAANSUhEUgAAAEMAAAAVBAMAAADvM06qAAAAMFBMVEX///8QEBBERERUVFTMzMyY\n",
       "mJjc3NxmZmYiIiJ2dnaqqqoyMjKIiIi6urru7u4AAAAvZeGPAAAAAXRSTlMAQObYZgAAAAlwSFlz\n",
       "AAAOxAAADsQBlSsOGwAAAUNJREFUKM9jYGDgu8uAC7Atg9Cn12HKcW38uKlDMYDBWQ/M+wciWfRQ\n",
       "lPAoOzBs4AYylEE8zgaw2AYUJewFDDwBs4CMGQglaIA5geERnwJ2JYc6OkDm8TEwlDA7YFVy+xyM\n",
       "xWLgzoCi5M0hiCf3wRUzPdCDK2EHGVzAGABicyfAlaxkPQCiDoKIfKAkawL/ArAShJUbIOx8oLhz\n",
       "L5i5/gGIdOwAAgVwICyYy8AAFGPTXsDAVw2WrAArfAQ35BEbUKUZ0KV7Qe4yAAl1giU44EpMgCHD\n",
       "9wFoegLMR2x/IeF+AOblguvA8APKTIR7mvUDRGoX3Mv7GNi0FJDDhVkBIvVYF+wyhovaQkryQhOQ\n",
       "lTDCbLip0YESoTAlzAviH+BIVGAlPAIM/gu6cKW7ahDBJ8XAfvwCDhV8omAq3Qpn2mWZDAx/ABvd\n",
       "TttEesoqAAAAAElFTkSuQmCC\n",
       "\" style=\"display:inline;vertical-align:middle;\" /></a> <a class=\"ProveItLink\" href=\"__pv_it/01a62e6480e312f55c880d6ed91bbf321df9c45b0/proof.ipynb\" style=\"text-decoration: none\">&#x22A2;&nbsp;</a><a class=\"ProveItLink\" href=\"__pv_it/5fd533cac05034bda16c81c381bbd19e449cb9460/expr.ipynb\"><img src=\"data:image/png;base64,iVBORw0KGgoAAAANSUhEUgAAAJQAAAAVBAMAAABS/tqaAAAAMFBMVEX////MzMxUVFREREQiIiK6\n",
       "uroQEBCYmJhmZmYyMjLu7u52dnaqqqqIiIjc3NwAAACFAiZ1AAAAAXRSTlMAQObYZgAAAAlwSFlz\n",
       "AAAOxAAADsQBlSsOGwAAAaNJREFUOMuVlDtLw2AYhU81NrGtseAPUNBJhHYWFJVsCjoI4iC4WCcx\n",
       "o1PboWJAhIKDIIIBJweh+Auyi1hw0UEI0l0XB0ulfpek6XcZ2gMnTZ4Xznd9CyAEt07hEBSYCLi1\n",
       "2huCAk+RMeUL3PYu8+oYekqUWkSmDmbgXax9IvsDXGMQShdXh+WCWdE8UAJO4s8dLRWUjqzo2Ech\n",
       "RDpe9bOWCtqNrGgOKOQx7opREhV0HjnzUVRqm0B2RoySaE8Pr8AVuC0cKofyB5h1OSqhlsPEYqtp\n",
       "Fxvkl7qMjhxlVIHcihwl0FhmOBnggLxQI9emz3s20Cqre3QO3/St5jglx1mTqKAXP4mylJHI8Bjb\n",
       "l2Yl0kQ14AbcMBpKG9ihusA+2r9XWAeWwI2vLWnTG5jwYRbFKIkmDUV64BHcqEjFlueRS2Q1xSiJ\n",
       "JrtBdm8b3JiVirfd7i9ZdihGSbSnETJPI8+NI21ftaBc0X6a9F+TnwjxgtnWRp1J7SzReE5BhXbl\n",
       "MnWqY2j//eziQHQ6oLccd8wXp9pJjfoDUeuNHb/tcmtVHoL+A2/2e7ocRwMNAAAAAElFTkSuQmCC\n",
       "\" style=\"display:inline;vertical-align:middle;\" /></a></span>"
      ],
      "text/plain": [
       "{j in Integers} |- ((j - 2) + 2) = j"
      ]
     },
     "execution_count": 15,
     "metadata": {},
     "output_type": "execute_result"
    }
   ],
   "source": [
    "Add(subtract(j, two), two).simplification([InSet(j, Integers)])"
   ]
  },
  {
   "cell_type": "code",
   "execution_count": 16,
   "metadata": {},
   "outputs": [
    {
     "data": {
      "text/html": [
       "<span style=\"font-size:20px;\"><a class=\"ProveItLink\" href=\"__pv_it/8892e72af5410f9d111d498aec17526ba8943e180/expr.ipynb\"><img src=\"data:image/png;base64,iVBORw0KGgoAAAANSUhEUgAAARsAAAAVBAMAAACEflfWAAAAMFBMVEX///8QEBBERERUVFTMzMyY\n",
       "mJjc3NxmZmYiIiJ2dnaqqqoyMjKIiIi6urru7u4AAAAvZeGPAAAAAXRSTlMAQObYZgAAAAlwSFlz\n",
       "AAAOxAAADsQBlSsOGwAAA6NJREFUSMetVktoE0EY/vPcpNlsS0EQsfYFUuyDWMRD8VDbgxfB4KGC\n",
       "HhqEothDc1BQUiFIKbGijfYigrB4EHuxq2KRUkMsSEGLtHhQqY+lvRQstN6kPnD+2Z3Z3cmsBXFg\n",
       "J5n95p/55vsfswCgfQLSMiBpUZC2jD/07y163/p9/ZB0qi6b8kpu+ZE8ybL3nTbeVIJ4fZ3courR\n",
       "t8eFxvRfsd4OOvqN/SR2PaYwsUh4Zr3vwjds7iLVoP4WYIOtEO7wgGpzNxgJNpqXY804iufxbAbV\n",
       "SdjhK3liRc+r1RyyL5EnIXAPjcbTEOB7GB5QyYKavsNGV+XYbU5Hkep4QfJORTonyBMRZAvdg2mI\n",
       "+QRGKAMrWsM2mEMnIJ1Y40cngMrssV+0FK7RVQfKg5V05goF1EkDOB/qFlayDTnm0FmWsUkafnQS\n",
       "KOZTa9KsyQ55QC2KdJbf8JhLHRFWnzUFzKFzCVkuCGoqJGzWh2V04inSTdDxoMk1D0I7o7M+ZyVv\n",
       "yYl0kwW3Nl/2GHKM0lEM+6QK7PDujBoUl2R0Imhzio6nnRAIZ9fW7EE2QIMx4VSzyQirDPFkjceQ\n",
       "Yy+wG0LDMfL0wZZ355gOUT0no1OFij6gY8MVkSerGq3/kUw1rWMJx85J83NUADAqsCFi03sd/9Xx\n",
       "CqQ9K2DD0AoskjD7STOevhvhdMKbpDtG3b6TAFdsOiFzP9thirriMJrREFD1uwCWe8zqsseQY9FW\n",
       "HbScyegoea8QhI5dJEV1qNzUjU72EjpaijkLLtJ+hZutRMnEgy6qrrRnWPw5xhGG5QxUVjxIEPES\n",
       "qW2clXfRgaNBb6VzEu0Ast20/j/xGnJsKsMyq436blEo+0TUDb0oC2U82nE6XuCziX/VHtsj0V/W\n",
       "ZBa+4ew7QjhPQW0r7jFkGNzkiU6Ttl8QAtP5SzQtoaPgNsNcQhb4ADnQftBYtoWY4alcgui+Bgom\n",
       "Nwc8hjbmrjvv8V+nWAYJEnwpVPTG74fI1ijrqFVFOj9bZxyvtW65AioQsiNjtd0K36XW2qb62qIF\n",
       "tqXdhhxz0YlhJu0WK/CI37fJWfSH7fzkLavW888A3DHAvPShpWCIIMgNXXTIfdgVEZOI3pTgd7fK\n",
       "b12yHtFG7zd9Qf9G6ai0Ru4Nb8UqvsCCGZ8PN3TFaZ9F10lF0sf8Qf9GK662y6oQw5crcL9PgiCe\n",
       "vcNnUSKaMr/oD/o2zbqjznThgaUTB+SGffQe+M/fyuEJ4p0/6cMDfNmsDa8AAAAASUVORK5CYII=\n",
       "\" style=\"display:inline;vertical-align:middle;\" /></a> <a class=\"ProveItLink\" href=\"__pv_it/850b9c1535b03a74c6171900fbc0eac6230573240/proof.ipynb\" style=\"text-decoration: none\">&#x22A2;&nbsp;</a><a class=\"ProveItLink\" href=\"__pv_it/ca194a726ded61f2065a92d6fc90705b1045da2a0/expr.ipynb\"><img src=\"data:image/png;base64,iVBORw0KGgoAAAANSUhEUgAAAscAAAAVBAMAAABYsV4QAAAAMFBMVEX////MzMxUVFREREQiIiK6\n",
       "uroQEBCYmJhmZmYyMjLu7u52dnaqqqqIiIjc3NwAAACFAiZ1AAAAAXRSTlMAQObYZgAAAAlwSFlz\n",
       "AAAOxAAADsQBlSsOGwAABdNJREFUWMOtWE1oXFUUPkkmMy8zkzEguHHREYuIKI1duAgkTOogpQYN\n",
       "GApdSLNoFKTBQTd1YRuK0oQQCSoUJODDrrIoHUJXunAQ3ZhFZmcqEQYbiAuxKeiiITW+c3/Pfffc\n",
       "zDzwwAmT8937ne+ed//eA4AOaKsoZ6yTIeq36UBWVg6pdG/S8TuwOSo9CA9Xo9LrCA0y3DKxHeWM\n",
       "vZ0h6hjSkxS9snLITlfSVGywHcohkC4WrsZOb3oJsin+Xf4WoNyUPrzgNu07xw2JjzqGpJs6xZNx\n",
       "FlaGGaUBRN/FlnQ71WTT/vxj6WVZDY/JIGHDJLoavnIZlXN68YsRXq+DFFcxVHrmMsA6SM81nebf\n",
       "LB0kf79KkfBRx5AU6WWKe5CJ1WdeF383nmpZ0tfdFjKRHGMVvp+GodhnIkjQMMm6SXmPFSLsdyj9\n",
       "w+t1kKiBofxPYwA3QLq3CHHgV/RCa3BR1pAU6aMGZGf1maW0y2/FHqnuTWL9MeRnobDg5yBI0DCJ\n",
       "Vw2jkURfAHjH1atbOUhehC7ig51VzpYjrx59uc1FWUNSpM8DZGf1mYW0wQPwSXVvEssfQP+/AO/5\n",
       "OQgSMpHEq4bRSKLvx3Cq4+jVrRzkggjdRepV6Xw5hhpcOYYax2hF0gvKM7N6zFJaqcaQ6t4k1l+D\n",
       "/ocAN/0cBAnuczWuGjoLjZ4EODXi6NWtHGQZIx9cej5ZbE3pt1e4cpSqXDl0lDNBivToxd9Gs7F6\n",
       "zCgNCs+dWTCkxe2223vZ6ZDbTzZXLodBAiaS6GpY5bp/5B5Zb7p6bRaCyCf6mMyf5nmuHIVVrhyF\n",
       "1WMmBJLeVB7Bu9lYJfJJHe0MmAn5RNuSlgZn3d7u7DyRRD/ichgkZJjEzE6jXPd311jfY6qXZiHI\n",
       "lDhxH+LzbQmvtJa4cpRrXDl0lL2yI+mU8qtwmI3VY86JS9KDEUv6Z5Qa2JTT4WziP3I5DBIyTKKq\n",
       "QZTr/jnntpZbcPWS9WKROYHs44kwLbwoZmDxSzGHRszA+7BJVK+/dqler7rRgAnSOeVQPsjG6jGj\n",
       "PIAtsKSxmNak9xzNEOH94QSXwyAh27LV0MpJf4yuiyyTyX+LVC/NQpE5c5xoWkHqzbn00nSjoePD\n",
       "FjmqZWP1mOWI75Iiw1bqRJ+j7cWd6jyXwyDHndi2yFFqjsqo3r8XUnpNFoqsYWAAaz/UUl79f7YL\n",
       "QbqmPP2G0+N2QfdksUpPAyH9PHXur7mvZX/x24VFQnaaVMMqN3tyy3nHrHT47YIi4+LhIDLQln6n\n",
       "1eSOqFH2iBpNthfP5AQTpOPK4cE0ZGE1iH1mosk8WNLiYcntPU6aPw3wK8CHTA6DxCHl86QaVrnu\n",
       "P0C+e/Q1YTh29OpWDrJhjhN9EblYaTDliNpcOZLoHTx98E/xEf2hSDeUwzX2nhxkNYjdfar6MNWk\n",
       "g/t7bm9yLaucXbyezKIVP4dBhEwjmigXSey17FpqvdDL5e7i4klXr27lIDPmOBmsSR/4xR1d/yt/\n",
       "v5Qsmo5LYqK5c+okFYe2+FGPDemMcngWMrEaxL6M1PRhakjHUy8AM7b10NHRUVK1N8DLYREh04i2\n",
       "ykUSXQ2r3LyMkC3y66OjR65e3cpBcjjfrov4pHLWdsG7bKvoz/69QhRZkCK9SDGfkXXXa4vSoqpD\n",
       "mupNY3LW1kI5ECnHvHKZxFRjPt1/khvFsSNJDsFydc2cusEvPjfSn0lMtOnfKzCZJMUzNvEXCwcZ\n",
       "Wf0vVYm0H+Sho0i9TzfeVx/xxYjNgUgJWOUqiaqGVW76X+FGcfxIJiA3Ji/1Ax3p7JvFaCha9L9/\n",
       "38ZZpUgn0PsOc61srAySSHtVfWWcUJ62dOx+MMd9JZNRrpLIanDK0zUK6KXILShsy17FUensfSwO\n",
       "RQt+GB+mJr0lfOXTjKwMkkj7+DMgpL6lY2PBHGNKJqNcJVHVYJSnaxTQSxFyl9hTztjVDFH3YTac\n",
       "FL2ycsheV9JUrNAJ5Sh0uisPV2OvN70G+Q/OZm6vJ4SbIAAAAABJRU5ErkJggg==\n",
       "\" style=\"display:inline;vertical-align:middle;\" /></a></span>"
      ],
      "text/plain": [
       "{(j - (i - 1)) in Naturals, j in Integers, i in Integers} |- (f((i - 1) + 1), ..f(k + 1).., f((j - 1) + 1)) = (f((i + (-2)) + 2), ..f(_a + 2).., f((j + (-2)) + 2))"
      ]
     },
     "execution_count": 16,
     "metadata": {},
     "output_type": "execute_result"
    }
   ],
   "source": [
    "f_i_to_j__shift__eq.rhs.entries[0].shift_equivalence(\n",
    "    old_shift=one, new_shift=two, \n",
    "    assumptions=[InSet(j, Integers), InSet(i, Integers),\n",
    "                 InSet(subtract(j, subtract(i, one)), Naturals)])"
   ]
  },
  {
   "cell_type": "code",
   "execution_count": null,
   "metadata": {},
   "outputs": [],
   "source": []
  },
  {
   "cell_type": "code",
   "execution_count": 17,
   "metadata": {},
   "outputs": [
    {
     "data": {
      "text/html": [
       "<strong id=\"tup\">tup:</strong> <a class=\"ProveItLink\" href=\"../../__pv_it/a3d20cac658c44d47089f7343d9cf5f6c66e52ad0/expr.ipynb\"><img src=\"data:image/png;base64,iVBORw0KGgoAAAANSUhEUgAAACkAAAAVBAMAAAAp9toTAAAAMFBMVEX////MzMxUVFREREQiIiK6\n",
       "uroQEBCYmJhmZmYyMjLu7u52dnaqqqqIiIjc3NwAAACFAiZ1AAAAAXRSTlMAQObYZgAAAAlwSFlz\n",
       "AAAOxAAADsQBlSsOGwAAARFJREFUGNNdkbFOhEAQhj8FATnk7hF8ARMqEwsNpTEWVxiTK8xdY2wp\n",
       "rfQ6i9NIbEyMBYkPABofgFobfAANMT6ArVTOApvAkeww8+3w7z8LUNJ/6nojX6InKrx3gLsdNm1u\n",
       "3O1bn0t4ACfq0qGSOwerpzlNJFgJkx59rWUiFvLyF19FQ+8+r2Gwyb3kx6VRNR7+krTEjjmU/Awn\n",
       "rKlXMSzwQk7FRoWZ1dSJSTNWfhW1AtKxtjvNWZvxiNq+bO1G3CZKYVdozo5XuoqO5QzsgBf5rrD3\n",
       "B6Qy+mpkyMhOwZF42Hr+/sA8kOxG7GKWmCM915tOfkRkrotMJ1ey9vTdtkPjBxKe2sLWrYa6Nz9a\n",
       "+kMX8A+nBjzFoJaLpgAAAABJRU5ErkJggg==\n",
       "\" style=\"display:inline;vertical-align:middle;\" /></a><br>"
      ],
      "text/plain": [
       "tup: (a, b)"
      ]
     },
     "execution_count": 17,
     "metadata": {},
     "output_type": "execute_result"
    }
   ],
   "source": [
    "tup=ExprTuple(a, b)"
   ]
  },
  {
   "cell_type": "code",
   "execution_count": 18,
   "metadata": {},
   "outputs": [
    {
     "data": {
      "text/html": [
       "<span style=\"font-size:20px;\"><a class=\"ProveItLink\" href=\"__pv_it/35d7769c56c159b6da208786b3d93de8329350c50/expr.ipynb\"><img src=\"data:image/png;base64,iVBORw0KGgoAAAANSUhEUgAAAJkAAAAVBAMAAACnAFEqAAAAMFBMVEX///8QEBBERERUVFTMzMyY\n",
       "mJjc3NxmZmYiIiJ2dnaqqqoyMjKIiIi6urru7u4AAAAvZeGPAAAAAXRSTlMAQObYZgAAAAlwSFlz\n",
       "AAAOxAAADsQBlSsOGwAAAhRJREFUOMuNlE8oBFEYwD+zY2dmd3aSUhJZXJRoyUkO/lwd9kS5mIso\n",
       "By5OS62S5oKRi+Pk4MieJEVLuSCRk5CNi6I4Stp835vZ2X3TDPMOb77vzXu/9/19AKA9AkAUQg49\n",
       "YD26Y38vdnE6D0t78OjaeusxKM1NMNxFaqxIk0niUIHfqc7xuriGa5YHJ1i3AB94so00JYvTm22l\n",
       "Z6NscupLhi4+9myKrChpqEJhy6XN/+VcIl2ylWhjXto27IPM0Wr+osXylbQqJxynhpFjtMn8DE9L\n",
       "5MLT4ral91cl2/Re1eRoEgVIu0zylPcFP5qSYgXhhi+iC9Dp0qScc58EdTzNvPGjVTM/4nqZJs69\n",
       "vqJwQtoskmRK+yh88/VoZfxosSyjlbOgw3ishUAIGV6lyF67lacdGDQGUIIfstgwluoNI+XSxE8S\n",
       "B2lT0qFFCt10e4cFWqZQoklZT/SLfrYlWP6fK23TUuSpckS1jNfGLZ9ihXgq2FO5kgYjAgp7upNT\n",
       "ge2fveZpH5bplwXmn5p3OwuDog6hsFGqEDvrE546e4qmfWiSrR267Ud+ZbjqZdb3ePv5jPc00vLV\n",
       "j6ft2njptHtCXK91+rzcWcskNf7XC2xMO9+7doPvoDINW7mvuvhf17MR+EAwmkoZF3TxW7bCvJbR\n",
       "ZNAfVutaA01JWFgM9fYKhYAfmt2XU304TYZ9yUcD1sVNdO0X8IyL0lZMU1gAAAAASUVORK5CYII=\n",
       "\" style=\"display:inline;vertical-align:middle;\" /></a> <a class=\"ProveItLink\" href=\"__pv_it/ab7bf009640de07462da4fe01f628232b88ef9ef0/proof.ipynb\" style=\"text-decoration: none\">&#x22A2;&nbsp;</a><a class=\"ProveItLink\" href=\"__pv_it/296ae907ce871af2ef303b2c2f5209b51a0a136e0/expr.ipynb\"><img src=\"data:image/png;base64,iVBORw0KGgoAAAANSUhEUgAAAOsAAAAWBAMAAADTKHYhAAAAMFBMVEX///9UVFREREQiIiIQEBCY\n",
       "mJhmZmYyMjLu7u6qqqrMzMyIiIi6urp2dnbc3NwAAABm9RoHAAAAAXRSTlMAQObYZgAAAAlwSFlz\n",
       "AAAOxAAADsQBlSsOGwAAApFJREFUSMetVT2IE1EQHnezuXcxCYedpElhJ+jJgqggBNFKkQXhynPh\n",
       "kFOiuCCCosXeIVikuICFgiiHWEssRDwRDlQsLIyNjSkChyJYeGBhgj84M7trdvMme7vgQB4vM/t9\n",
       "33vz3puBPpBVIbv1Y6MQyEbQ49mzHLJveexp/u3tHAQMn+7mkA3oddl7NDzwxz52k/9LBwICht+E\n",
       "PHZFlFUejU/HvGZyQ0uLg4CA4Wdyyc6JskUnDfM62v0gIGB4I5dswZdkC6mYu3FZJCB42cslO+VI\n",
       "sm+yyyIBwYt0AJ8/fk0FjuKVGUn2Ap3v83rS2WpKskjQC5dfPgl7fVAT314QhxJOLS+SLdpstAy4\n",
       "TP/hWBLVfSXJIgHBTbzRNxxYwHV0JskGcTBX8bnNSrs9iL95GCZ81faiJIsEBC+sA1z04XBajmPx\n",
       "0qYke4ILALGqS5wDXKCCn+RdsO2jtr3vnywSRLJHQP1Kk43Fy42JssXZpJOXoe0WCfhs26B+g7UJ\n",
       "5ceTVIM4tM5BPMnxs70qVAeYmklJstEBNQTDu19ZwVula+JVCuLg3qYbUZd2u5uGb+tJ50q7K12p\n",
       "OsPpRVyDU273yy38Eu+p+gGxCQ8cV/4H2mNHkn1Pw+kx57uqI8giAZcLzNrSi0e1VVqyicUa9lPC\n",
       "3HACth/F+ZmYfUn2JQ07xpzGk2SSt+36XmMChh+KTnCAzHe0JE+P2sof/G2INZmeFhzfqkqxbYTw\n",
       "uYjfw6PQm2Bl1LcaUePQZC0XdlqDrVoBhJ2H4UZYnFStD0qvGK1R+8RbUK3L/XZPaWhm6vREwHAV\n",
       "K6WW/p2T6AKGL8suQ/N8plZCBGs8+5St91x/yBWQbE3fhJOxg81DTmuehf9jfwFkj7z8c8QbgwAA\n",
       "AABJRU5ErkJggg==\n",
       "\" style=\"display:inline;vertical-align:middle;\" /></a></span>"
      ],
      "text/plain": [
       "{(j - i + 1) in Naturals} |- |(a_{i}, ..a_{_a}.., a_{j})| = (j - i + 1)"
      ]
     },
     "execution_count": 18,
     "metadata": {},
     "output_type": "execute_result"
    }
   ],
   "source": [
    "Len(a_i_to_j).computation([InSet(Add(j, Neg(i), one), Naturals)],\n",
    "                          simplify=False)"
   ]
  },
  {
   "cell_type": "code",
   "execution_count": 19,
   "metadata": {},
   "outputs": [
    {
     "data": {
      "text/html": [
       "<span style=\"font-size:20px;\"><a class=\"ProveItLink\" href=\"__pv_it/620abae64b804cc0bdd9420c53c4bc274e3b0d770/expr.ipynb\"><img src=\"data:image/png;base64,iVBORw0KGgoAAAANSUhEUgAAAJwAAAAWBAMAAADHvejAAAAAMFBMVEX///8QEBBERERUVFTMzMyY\n",
       "mJjc3NxmZmYiIiJ2dnaqqqoyMjKIiIi6urru7u4AAAAvZeGPAAAAAXRSTlMAQObYZgAAAAlwSFlz\n",
       "AAAOxAAADsQBlSsOGwAAAhpJREFUOMudVL9rFFEQ/lzvLtm73LtD0MLq7AWDZUgREYR0WxnLRZAE\n",
       "Ed0mIGfQFIJaKNdFSIqtJCCEhZBGVA6s/FHcH6DkBUsDl0owYnDem3m7tyx3rA58w3wz3Hf73sw8\n",
       "AOobgJqgrIVFeptzn3fIfRKUta9FWrmsyddPjOsxSttM7CJ1YV2oN0vOJ4YfgvL2Po0akVCrZN2q\n",
       "oLwtpVErFprJtQXl7ZR20b4Wmso1E8Y/WCNw0UtHU7mpHgPLW3cmimR1f9bldr90mVq5qYS1DZrn\n",
       "cElDhePUuI4KhVV3GPVbD0NLZ8x13SOZ6ZhxEOA+/Ut/nBzXMb1AY7UuORq0Vt/S2jFw9bm5yAHj\n",
       "kcazSWcdqVeOJKDTDXtMb76BeqAzuTNQfybJjdSb7Wzs9mOmmwOe5UZsoX6heoTmh3FqXMdhFyOH\n",
       "bQXmow2t/5TOen0LdQwveeUPqRtFLToE1xG9Nq3ocA6tgTrL1G+LnG0z4S1uRL2728AwMS0DBxmz\n",
       "daU3zJX1JXc68CKm2RgLvn+8Nr+Ai9S7F1R5YpoYOfdUuzr2TC6UnFrrCs2W7LHA3tAJ/WKncNh6\n",
       "ulUwd7SSz63kdnZpZKnrCe1H8bHy06jSdg9Gllt1SnaWvZBhv24+hCpO8mH21tEt1zq5nKVmv6DO\n",
       "G9dhOKsWOxvktt/TuZylB5Yuz5G7JShh766Qu57PGbo4h/+xtYfja38Bae+hV6vIVTUAAAAASUVO\n",
       "RK5CYII=\n",
       "\" style=\"display:inline;vertical-align:middle;\" /></a> <a class=\"ProveItLink\" href=\"__pv_it/e94bfcea976e033ae4d0f507d9498242e6f73c640/proof.ipynb\" style=\"text-decoration: none\">&#x22A2;&nbsp;</a><a class=\"ProveItLink\" href=\"__pv_it/6f702863e3318a0373b06556de251a4a53309d2b0/expr.ipynb\"><img src=\"data:image/png;base64,iVBORw0KGgoAAAANSUhEUgAAAIYAAAAWBAMAAAD3MfnhAAAAMFBMVEX////MzMxUVFREREQiIiK6\n",
       "uroQEBCYmJhmZmYyMjLu7u52dnaqqqqIiIjc3NwAAACFAiZ1AAAAAXRSTlMAQObYZgAAAAlwSFlz\n",
       "AAAOxAAADsQBlSsOGwAAAcJJREFUOMuVVD1LA0EQfZCvyyWeVrbaWQUsVVAiWASRoCCBFIKFIlgF\n",
       "rKy0lSDYRcQiGhARNTGlIKSwUQujVQoJh/4GEWMUZ7J7ezkuCZeBt5n3Jjfszs4sABMCHs3oQAcq\n",
       "Al4tUHXTJwnP9qa8wpqg+oGAdwvnlXsoqJZBC94ttKvcpqBB+gmiL9tUtWgImqY13V+OnOVE4oJm\n",
       "aWUY2Xq155Xa8bKqTKxWYZqTiVOmj3Z23TWHiGOIsG1pxSP9j+kC+QR9Axrt7K5bChnHLOHeEp/z\n",
       "+GW6Tj5Ba8Bf6nGU9viIJe5B/2EqcwTHUVzskaM9nrLbI9Bkekw+oVjCDrAy2i2HiOtcQ/ssX7w9\n",
       "otPkE4oVTEbNW5Ly7lrAimtR7ugtqeETZxmmZXFZ4WooETEu49C/+QseAHYUa8VxEeEe3ZcaxjDR\n",
       "osu0EvTYzfsLfNQCc7QRP/81Abn45604wjwVSanhvHW0JPx04wxx6hMg6j7Mo/IG6aEx4g6NKE+Q\n",
       "mqKHCDWwu6D2pQ/DmlClMZ2BANtpHbhy19QeglfCh1NjWpCwzP0OhJzjNuXUmBoZAS+vz9Iqfe18\n",
       "e0Nmf0Ov1fKd5H9WVYHdyy5I2QAAAABJRU5ErkJggg==\n",
       "\" style=\"display:inline;vertical-align:middle;\" /></a></span>"
      ],
      "text/plain": [
       "{((a_{i}, ..a_{_a}.., a_{j}), b)} |- ((a_{i}, ..a_{_a}.., a_{j}), b)"
      ]
     },
     "execution_count": 19,
     "metadata": {},
     "output_type": "execute_result"
    }
   ],
   "source": [
    "tup.prove([tup]).instantiate({a:a_i_to_j},\n",
    "                            assumptions=[InSet(Add(j, Neg(i), one), Naturals)])"
   ]
  },
  {
   "cell_type": "code",
   "execution_count": null,
   "metadata": {},
   "outputs": [],
   "source": []
  },
  {
   "cell_type": "code",
   "execution_count": 20,
   "metadata": {},
   "outputs": [
    {
     "data": {
      "text/html": [
       "<strong id=\"eq\">eq:</strong> <span style=\"font-size:20px;\"><a class=\"ProveItLink\" href=\"__pv_it/dbd6813fb455eb9bfb73936d5ef87a55be0fc95c0/expr.ipynb\"><img src=\"data:image/png;base64,iVBORw0KGgoAAAANSUhEUgAAAU8AAAAVBAMAAAA0gXHkAAAAMFBMVEX///8QEBBERERUVFTMzMyY\n",
       "mJjc3NxmZmYiIiJ2dnaqqqoyMjKIiIi6urru7u4AAAAvZeGPAAAAAXRSTlMAQObYZgAAAAlwSFlz\n",
       "AAAOxAAADsQBlSsOGwAAA6BJREFUSMeVl19IFEEYwL/b+7v3Z5UgkCC9CiJI5Yog6MnyJSjwkEjI\n",
       "h7bgKIrQHoREH4xCNiM07qXHpYewHvIgLBCyy5cDA1N6KSxY7EUw8B58MpTmm53d25ub0Wngm935\n",
       "bvb3ffPNzDdzAGD8AoAYETBBXGIipaxz4JvY//D26P7KfX55S6pFImlb0jNTFih/cm1j8ug86G2H\n",
       "WXORiTKvUe0TuzuxmdzFaopUrwHWWho+v+iILFYah6XZ3wA2HbeBQAqNdKrwXLuLMuIxbOljpNrA\n",
       "AZRI9YGP09lPpGPK4clPAOY5VXhcz0OINTaYQLqkxKN2ebVPfOE7OkQknifVtj8PefbylXwdHRTM\n",
       "VB/v6Et4DwnWGGICijxql1f7xJqjzUTQ9cyu1ylZDoChVeBoiI1/wbJo1MKF8l3f0WYmoMZjdlsl\n",
       "RN/RDOpXsdEsBs8KHE25MVpd8sZvnklPMUcRmCnJHeV5zO6shOg7GsdlP4zGc8mKIwAXuZVbIb/q\n",
       "OZo7/KUaNjXoYI4ikEL/LAgdLfKDdu0WJUTqaLzEgoPD2cy/uZEXgPu5AGRIBKI0Yimzho0Mrq/X\n",
       "ok2hg6E87M/z7PZLiJ+xNUA6JDDVTBCZuWdfMgXg6XruHRxdcoxia0vfhGvJI+47AlGiZpMN+/M8\n",
       "u9MS4gCBdD/DfbFMKkzV96+4M2dZD1ssK+eDe2jKsbA8Jm9OEzEbqaLyPOqyDBt2TrGNtsygMOMo\n",
       "8Dy7PRJi7KQNxogTcPTpcJdwTa3wESDKDN0Aa8HxG7l13tEHSjxmd0VC1D9i+ifjTOH8zJFNspPZ\n",
       "ApWpegfe1CeCWLissTVqMyieDPvzPLvTEuKMyXa9hpR2sqSqxnZaBO7lwNs66UynJ+0f0BoJSvoC\n",
       "WRfgAik0tgMKPM9ur5gIz730RDMNyQ3hrLGli8CjXH6uFsjCc3vMeUq6I0fA+AsukEKjVVDgeXZH\n",
       "hcRgwsdZ/I63AKgs1YNPtz0ib+Pc1LdjqnDTw+8ON/FGJg+457vluEAKDWdBgefZHRcTA0cobr1E\n",
       "l/AkoTl4THAy3WbPHyes+jPIYUCUUFmZV1PzxICjfQ1XAv8SAd59hS9Dktum7t1Y+iBsX3eUeVI1\n",
       "czSNWUbDaTwuva7fFA0/K+n8BxhQM3vsCWWeXO2uUzAOYZWtS2B86RToNEfSmYYFgUY2XllW5snV\n",
       "YBykj1vnSFXAGMkiHxX9P7q693+mAhNlnlQNkSLZ/f8AtopN8bUIrUEAAAAASUVORK5CYII=\n",
       "\" style=\"display:inline;vertical-align:middle;\" /></a> <a class=\"ProveItLink\" href=\"__pv_it/90b18faf0cdbb58a09681802bb4df6e63fd373480/proof.ipynb\" style=\"text-decoration: none\">&#x22A2;&nbsp;</a><a class=\"ProveItLink\" href=\"__pv_it/528f4189278136a9f68c47628f86222324668bb80/expr.ipynb\"><img src=\"data:image/png;base64,iVBORw0KGgoAAAANSUhEUgAAAhsAAAAVBAMAAAAdnDHXAAAAMFBMVEX////MzMxUVFREREQiIiK6\n",
       "uroQEBCYmJhmZmYyMjLu7u52dnaqqqqIiIjc3NwAAACFAiZ1AAAAAXRSTlMAQObYZgAAAAlwSFlz\n",
       "AAAOxAAADsQBlSsOGwAABTdJREFUWMOlWE1oXFUUPsnMm583P81CBFcZKUg3Quiii2BDjINoLRJQ\n",
       "RgpKskgsSMXRbuxCO0ix1BAJblok6MOsuiiJQVzo5iF1o9YMuHCQggOtZlMwBYsYUvGcc+999933\n",
       "7n1vSi+cx5n7zne+b86798y7AwBDUKMZXXJGM2Peem9oesMROIYOquaDihopZqgYG2E0d5MuXj8/\n",
       "603HPGFteM0hvNfyKRQklc7F/VDCWRGr+pE/rnwDUN9CFT03xAiEsenEnUcCQWfBaw7yBvFH4OLA\n",
       "wI2lxDeofBsQt39sNgVR5O4hwRbhYydE9cn8NZqpPX4G4Co6xS2oBhlJo0BorBk3/COfI64qzRya\n",
       "g70XAD6FHA4OvEKfYum2Hw2Zu9pLEkTk7qHASeHwxaV9EIrQKl2aKn2PJbsobpd7GUnjgWK8opzf\n",
       "A4FN4zWH8ADehRwODjxIyDnzUsDch6LF5XUT5O6hwJDCNvalIrQSzyxQYRfl7TcykhqBPG7Ey8HY\n",
       "FF5zlNRMkMNBgd6+KYc/LyoRPOr9JLmzs+wnhUdYLgcpQjvFM18RQC2iyxlZjUBLOS7b8JrjlJyp\n",
       "dnM4KLC2aMqpzUrur8FejizhEdhRDlKEtkIT7ywdwSWNfebaKu0yd9IoEK79Yi3Htg2vOdDzByij\n",
       "1srhIEi1VR8EOl35ibme4P4EbnxkK0eGcA2OhJvlIEVooqL3ZX22OuicyyiyCoReqWsrxzmFr7R5\n",
       "tPTzvS+8mocPvbyWw0GQze5Pf3Zjcg71Bbf/T/3n07ZyZAlXYC3cLAcpQjvJbyd36UclhGZ4CZ3r\n",
       "Ga8xMhDKQ9XPzHJct+E1B3p3Kkhcn83hIMjOH+Fjw1i6vyYEd/2/V8c+s5UjQ3gE1sLNcpAitGW+\n",
       "s0fNZB58fjKT7qQqkMSSgAvt9uvt9pxWNGnDaw70AnpOY3s5HAT58G3+HKXbkdyV0xMgF+CzS3IB\n",
       "RuSusWMKj2O5HKQIbVn1GQ6u051OdkOSWS9Ye0fHhtccy1KOt5jDQYHPr/DX7sRbLHEXr3xpb6Wd\n",
       "nP5sCjdXBylCW6eJAlWpGlL3yl5zUSC/TGVtlnjv0Bzr3AizN4sK9O95tG20nKOSe3N+YQIedLMc\n",
       "TQm3bpbj/BpAdwp42Qyx+Z7FFZ1K54MRCM171nKclWYMzYGef1DDHTwlE7o4MLC85x80ICbnTcl9\n",
       "HmX2beWwCk+AtfBEK51i21Z9hn9qFprYdlfB/5ca+5q86E86EMVay7EqzXw/jqDoeXu7uHb6tvQx\n",
       "Dgwcn/Lv1iCSI1oscR+GzYktWzlkpEW9BmvhZjlQEdnLqs+Ah8ul8Cs6LwK0MXuR3nn58hw5J4xA\n",
       "FJsox+G35vqMZTOG5iDvOFa8OBQJdfqeyYGBhRAGv2k5osUS91PQWA3MrxSRc6ROSBcTrIUr7Pix\n",
       "v59kRayKnsUHPP+0/KGjXZRedD+AEVjqJ1eHwjZTfUFzFOWmv60SujhUYExOpRUTmXzCGcIT4Ei4\n",
       "gWVFt/ncU2+tx89VdHqqpaXi8tSB4+H5IHmEU9hK6gVcc6hT1kWR0M2hj2NKzneiEZqHP6+bILcI\n",
       "N8Ax4QaWFZHNQHFavCMWxB9Qt+hNNt3msJY6cDI8ae3ft6QlhuaYEc9xSiTM4JiJpyQ5z1yNi3SR\n",
       "p4WbYJdwUkQGG1AeCApf7Cr6dyR9wiqTRYGVwbw167S0xNAcG0JWIBJmcGzEU5Kc9z6Oi3SRW46G\n",
       "BtglnBSRQVNn2GVNI/yRues6KA3teM0hvPdH+Fezq1OOxP1QwlkR2v9xOvU/t6XIOgAAAABJRU5E\n",
       "rkJggg==\n",
       "\" style=\"display:inline;vertical-align:middle;\" /></a></span><br>"
      ],
      "text/plain": [
       "eq: {((k + 1) - i) in Naturals, ((j + 1) - k) in Naturals} |- (f(i), ..f(a).., f(j + 1)) = (f(i), ..f(a).., f(k), f(k + 1), ..f(a).., f(j + 1))"
      ]
     },
     "execution_count": 20,
     "metadata": {},
     "output_type": "execute_result"
    }
   ],
   "source": [
    "eq = f_i_to_jp1.partition(k, [InSet(subtract(Add(k, one), i), Naturals),\n",
    "                              InSet(subtract(Add(j, one), k), Naturals)])"
   ]
  },
  {
   "cell_type": "code",
   "execution_count": 21,
   "metadata": {},
   "outputs": [
    {
     "data": {
      "text/html": [
       "<span style=\"font-size:20px;\"><a class=\"ProveItLink\" href=\"__pv_it/dbd6813fb455eb9bfb73936d5ef87a55be0fc95c0/expr.ipynb\"><img src=\"data:image/png;base64,iVBORw0KGgoAAAANSUhEUgAAAU8AAAAVBAMAAAA0gXHkAAAAMFBMVEX///8QEBBERERUVFTMzMyY\n",
       "mJjc3NxmZmYiIiJ2dnaqqqoyMjKIiIi6urru7u4AAAAvZeGPAAAAAXRSTlMAQObYZgAAAAlwSFlz\n",
       "AAAOxAAADsQBlSsOGwAAA6BJREFUSMeVl19IFEEYwL/b+7v3Z5UgkCC9CiJI5Yog6MnyJSjwkEjI\n",
       "h7bgKIrQHoREH4xCNiM07qXHpYewHvIgLBCyy5cDA1N6KSxY7EUw8B58MpTmm53d25ub0Wngm935\n",
       "bvb3ffPNzDdzAGD8AoAYETBBXGIipaxz4JvY//D26P7KfX55S6pFImlb0jNTFih/cm1j8ug86G2H\n",
       "WXORiTKvUe0TuzuxmdzFaopUrwHWWho+v+iILFYah6XZ3wA2HbeBQAqNdKrwXLuLMuIxbOljpNrA\n",
       "AZRI9YGP09lPpGPK4clPAOY5VXhcz0OINTaYQLqkxKN2ebVPfOE7OkQknifVtj8PefbylXwdHRTM\n",
       "VB/v6Et4DwnWGGICijxql1f7xJqjzUTQ9cyu1ylZDoChVeBoiI1/wbJo1MKF8l3f0WYmoMZjdlsl\n",
       "RN/RDOpXsdEsBs8KHE25MVpd8sZvnklPMUcRmCnJHeV5zO6shOg7GsdlP4zGc8mKIwAXuZVbIb/q\n",
       "OZo7/KUaNjXoYI4ikEL/LAgdLfKDdu0WJUTqaLzEgoPD2cy/uZEXgPu5AGRIBKI0Yimzho0Mrq/X\n",
       "ok2hg6E87M/z7PZLiJ+xNUA6JDDVTBCZuWdfMgXg6XruHRxdcoxia0vfhGvJI+47AlGiZpMN+/M8\n",
       "u9MS4gCBdD/DfbFMKkzV96+4M2dZD1ssK+eDe2jKsbA8Jm9OEzEbqaLyPOqyDBt2TrGNtsygMOMo\n",
       "8Dy7PRJi7KQNxogTcPTpcJdwTa3wESDKDN0Aa8HxG7l13tEHSjxmd0VC1D9i+ifjTOH8zJFNspPZ\n",
       "ApWpegfe1CeCWLissTVqMyieDPvzPLvTEuKMyXa9hpR2sqSqxnZaBO7lwNs66UynJ+0f0BoJSvoC\n",
       "WRfgAik0tgMKPM9ur5gIz730RDMNyQ3hrLGli8CjXH6uFsjCc3vMeUq6I0fA+AsukEKjVVDgeXZH\n",
       "hcRgwsdZ/I63AKgs1YNPtz0ib+Pc1LdjqnDTw+8ON/FGJg+457vluEAKDWdBgefZHRcTA0cobr1E\n",
       "l/AkoTl4THAy3WbPHyes+jPIYUCUUFmZV1PzxICjfQ1XAv8SAd59hS9Dktum7t1Y+iBsX3eUeVI1\n",
       "czSNWUbDaTwuva7fFA0/K+n8BxhQM3vsCWWeXO2uUzAOYZWtS2B86RToNEfSmYYFgUY2XllW5snV\n",
       "YBykj1vnSFXAGMkiHxX9P7q693+mAhNlnlQNkSLZ/f8AtopN8bUIrUEAAAAASUVORK5CYII=\n",
       "\" style=\"display:inline;vertical-align:middle;\" /></a> <a class=\"ProveItLink\" href=\"__pv_it/3e2bcf587cb973d23904a7dc2ff220fd14074bd20/proof.ipynb\" style=\"text-decoration: none\">&#x22A2;&nbsp;</a><a class=\"ProveItLink\" href=\"__pv_it/bde20664c238cb80cb18d8b5e878b6764c1b20950/expr.ipynb\"><img src=\"data:image/png;base64,iVBORw0KGgoAAAANSUhEUgAAAhsAAAAVBAMAAAAdnDHXAAAAMFBMVEX////MzMxUVFREREQiIiK6\n",
       "uroQEBCYmJhmZmYyMjLu7u52dnaqqqqIiIjc3NwAAACFAiZ1AAAAAXRSTlMAQObYZgAAAAlwSFlz\n",
       "AAAOxAAADsQBlSsOGwAABMVJREFUWMOVmF9oHEUcx3+Xu73d27tcDgTBp54I4oPC4UMfipWkHqJt\n",
       "kYBSEAy5h5SAtLDqS3wwDVINNUSOvlikyGKe+lByluKDviyiL/7rgQ+eEmHBal6EXsAihijOb2Z3\n",
       "dmZnZ2ZduLm92e/n+52dnZndPQCIId3avLBsbelL2GIdEZdwjQ31sb4VHI1LN9yQMRvxuj0snLHd\n",
       "dY99KVLBK7ct2U218JKG38uhS6Ubbsj4hv7c+gygNSLGG3pEFPrH52V37/OQeu2sKEjltKmjRBjg\n",
       "gbCYLeCxuQI6KZFBkcoJ0Gf4Q6xpPnwB4AbZqY2gERpMubCxgUUmvfVgxLyu5ZGPrxyS8kNTUzkM\n",
       "P+lYlb8ho2dKZFBkdmjI8AKsqn9FumyTHXY3DKZcOBfJ0gsvhszrKK1xgnQoY9yaqakc1rMqv6mg\n",
       "1oxNsGXUac0yXuZBcvhVgykX0p1M6qBlPd1hg3ksxtUNY47DoGdVfqCg1oyBNeNlWnMbgXQQfWDo\n",
       "Di78VJY2cSlBr+agOK4RGGZgCoOeVXjWXAm1ZThDa8YWVry+8hiZNmSdubmNs0xvyoVwFb57L5O6\n",
       "j54i8wa9Gt3WJCyIa3a1phns/9IDDavwtBUc9SdjewZFbv4Ahgx2ff9J+md0juy8aRgdqdD/q/X9\n",
       "qiCdGydjZTf49vegIM4d6k057MEqaFjGX+7jdiobCinadAb2DIps1ANDxln6dHKAN5UI2tEVsvOl\n",
       "4TEmEULr31cqHwnSex1SoNed36KH4oK41rzelcPr6UKssgpfi0T0D29oz0DEjeciQ8Z5emSKi8ki\n",
       "+PTqH9ObpkLwVrEdmfQOFuj17mtsKPf7z670+10eV5nqXTkMrUMdq/DYigwN8erbMhIkNGSc5wsS\n",
       "imlzzlkWPRTWrn0CovR2ekbPb3UK56YzMK/PrCHevI5VeHZuHMWTtGUw5DIYMq5jRRV7qRHhQmie\n",
       "LFy4u7jcEaVPYkG8/PvOAcD/nCwpTJ8CjZNFXDsiCb1aIoMhZ8CQcZL2NB6pkmI3Iu15g4w9xc4H\n",
       "SXiJSMeC9CIWxMud+kezhUtVL7GQNhkmM3xRw9KPfGXGIuofNe0ZFGnfB0PGLb4g4a1muU2W3W3w\n",
       "/8Z7xDApsl+Z8BHY7Yy4lC2x6DXT8w+aRXHeOPPihjkYe1nD0o88b7si6kz35Qy59UxIEXdqyniJ\n",
       "L0gOGS7VH8nOCwB90qU1fAKnxXO4c1oSPgWz2yGXsiUWvaoRTH6W42aO//kE4WNmgV7MEJ1lGHtZ\n",
       "w9KP/Bg2L6EnAzkja32WQZGZnimjhtf7bVq/kNxMcRaps+VryAsFqUeX6Fqn8KmPbndTC/lOlYMv\n",
       "atm7Crug5FozFtL5rs0gb2Gt7nXxDQhfiJrqFCRTIyfMpF+wRUp++XOC/AvXSL1TSfDj7qGW3VTY\n",
       "NSXXmrEGM9Gl0JjxNNROsKe5KhuPv+KTrLqUkr7MCTPpM+xlm3hpn996zCK3SXDlqBbp2HZPvcvF\n",
       "uVx7RjU+Fp0FY8YOuBN2ej6LxH9H1HchFz+yMJO+9T77vaO/Q4fMIrfJ8PY7WrZacK/r5XLtGX7P\n",
       "myyaM9rZqe/T8y7xl+N+0kV5aVv7Srle4n/MwMCu61vB0fXSDddm/Ae7Qeze4axtTAAAAABJRU5E\n",
       "rkJggg==\n",
       "\" style=\"display:inline;vertical-align:middle;\" /></a></span>"
      ],
      "text/plain": [
       "{((k + 1) - i) in Naturals, ((j + 1) - k) in Naturals} |- (f(i), ..f(a).., f(k), f(k + 1), ..f(a).., f(j + 1)) = (f(i), ..f(a).., f(j + 1))"
      ]
     },
     "execution_count": 21,
     "metadata": {},
     "output_type": "execute_result"
    }
   ],
   "source": [
    "eq.rhs.merger([InSet(subtract(Add(k, one), i), Naturals),\n",
    "                              InSet(subtract(Add(j, one), k), Naturals)])"
   ]
  },
  {
   "cell_type": "code",
   "execution_count": 22,
   "metadata": {},
   "outputs": [
    {
     "data": {
      "text/html": [
       "<strong id=\"eq\">eq:</strong> <span style=\"font-size:20px;\"><a class=\"ProveItLink\" href=\"__pv_it/290bc4503e47543650cbb00a0db08145f7e0f94a0/expr.ipynb\"><img src=\"data:image/png;base64,iVBORw0KGgoAAAANSUhEUgAAAKkAAAAVBAMAAADP89MSAAAAMFBMVEX///8QEBBERERUVFTMzMyY\n",
       "mJjc3NxmZmYiIiJ2dnaqqqoyMjKIiIi6urru7u4AAAAvZeGPAAAAAXRSTlMAQObYZgAAAAlwSFlz\n",
       "AAAOxAAADsQBlSsOGwAAAkdJREFUOMuNlD9oFEEUxl92N7e3d7ubIxAQSXCjjaAJZ7AKKUzSWlyV\n",
       "gI3bHIoW2lx1CicEWQvNSRrLJUXK5CAgQTCsNgETQiCVaGBJmoCFKeWK4Lz5dzd7E9gH39zsx95v\n",
       "3r55MwDgnwBAgUsbYU4Po7DBfvc3yfCDSxu/c3j+6s1dcG5MwOI0PpYucWgzASyk6tvWBwA3zjL3\n",
       "Bj0jPgb4S/59C5+cFhn+cJHM1XfPmrjobpb6btAz3zo1GCKTT5La4JLh1fjEReqypgRZz1yHz1BU\n",
       "qBUuGaWknzqUDlKF9z2KOpRaT56rVK/DdBW1XBukcu/Xocg1vO+2FardZgL/INBRnaq633uJ8Aqy\n",
       "vGZowJSk2h22Ll3bhjEddVj5DnC8ivDKYY9qvTw/J5Nv+PSC0IoxEyxBV0cttRTqM8yEeeXeboXw\n",
       "qDSJQAJafI+VP2Li3WtH0ZtrUVSVVOsCv3snwngAkI4k3IN5tAJONdN7WJQ7MfjNtJ9qt3S5ehV1\n",
       "p7ZS4Z325+pXsQLOVzwTJKVyzETq0M5RAdiWXrGfCg8NXDLkPWAkTKQoR9rdCtQe6DrCcxN5Yklp\n",
       "3AUy+Sg6C7uEdcpjbb/aiUL1LurS+yJMuttN5RRwAcxkqObkvznyj8y9d7cmvbMpdsas1VF+l/RO\n",
       "7AoXjGdzpfFUcw8I7+ftSO3mHnWZaXb4Mnu70GhoqI2rbmNKdbFDjBBldYux9n4P8nksmnRDr+MQ\n",
       "UL16rX3PSPN5rEHYmX8yS4Y6lzaWcnp019bI5/4HedOhKfJbYFcAAAAASUVORK5CYII=\n",
       "\" style=\"display:inline;vertical-align:middle;\" /></a> <a class=\"ProveItLink\" href=\"__pv_it/f6a800269245dfd7a75a5fe8ec3c9b2ddf9988100/proof.ipynb\" style=\"text-decoration: none\">&#x22A2;&nbsp;</a><a class=\"ProveItLink\" href=\"__pv_it/28ee549d970a215a7c41b94401c1c5bf729a76f50/expr.ipynb\"><img src=\"data:image/png;base64,iVBORw0KGgoAAAANSUhEUgAAAb8AAAAVBAMAAAAkzf19AAAAMFBMVEX////MzMxUVFREREQiIiK6\n",
       "uroQEBCYmJhmZmYyMjLu7u52dnaqqqqIiIjc3NwAAACFAiZ1AAAAAXRSTlMAQObYZgAAAAlwSFlz\n",
       "AAAOxAAADsQBlSsOGwAAA/RJREFUWMOlWE9IVEEYH3PXfe7qJgSdN4LoULB06CAomy0R1kEoCg+i\n",
       "B62LgnTyki1SiIghXYLosOSpg7iIp7osQZci3FsGBnsQvAQZdEkUmm++efPmezPfe4gfzPrtvO/3\n",
       "Z96bmTerEKItwmibj5RoJ/T7rhVFikbxZDon8tLbDLswG0vnjCCxGGPwuyJFY5fnO7WXr+rr8gfM\n",
       "dniEiuBjXUPO1emVjmFU8+B7GgRKNUAZCnprfr6ECE0nesmvQk/hwjRmd4R4k8S5eb6pIT/ohXdL\n",
       "hwKxLv49hRINUFYFmQbDx4YxneglmIWurs/9OhNiLol0+l7dFKrIhl96DzXWxS860KgGlHUBw8eG\n",
       "bRrjocdLl+oZr4eZ/FvnObOA7CLTr2WTAtbFTzjQqAaUsYDjY8M2jfHN42VU9WzJNqqvds8mzIqK\n",
       "VegxBFgHn111oFHNling+NjYinuhA9RelqHjyeRlAVl+R9IXSixl7tJQTRWK/M+yzxBgHXzQsKFU\n",
       "QylDwfoKx8dFaDryQgeovbxWPceyyayQlZMlt8qTnm1hoQjEY58hwCL+eRViKHpcITSmcawLGg84\n",
       "PjaO417oALWXu+o9+0d+yOxXIDt7Kjzn7z4sFPPiyGcIsA4+07ShVEMpy4Jic4nj4yI0HXmhA9Re\n",
       "phTrgfyQWR1uc8cBT7otsFBCgCOoVm9NVqslQwpYB981YkOphlKWBXn1PLx8XISmtReYM4/0nLG9\n",
       "TJkNALJtufNkJ5LXNUKCiu+OA9bB4wANlGgoZShAkz6+xA2PeKFPUHt5Cx2dcM8ge5UyLa4JXWje\n",
       "y9wUtddgk0CJhlKGgu7SSaeoMR2dEXxTdEDdY2CVWf6oIBdmWU4YJ/CFNCOwUC6pEe+mUMZGnbRs\n",
       "KNVQylCw0Wz4+TxeLCjxEttk0Mum2QBklj3Ylw+8JTZg84KP/D87wXWNkGfe95bEqkbnUsmGEg1U\n",
       "hoLx4qyfz/ViQ4kXOkDt5b7ZACAbkCqZtsgMw4OH0+/tMKnWw3WNkIuxAZ65/veqwqpGX/QVArU1\n",
       "UBkKOr8zfB4vFpR4CQdIvGTgPiyomdyHl/dk++LuWTDAoGQKZ+JP0GD3HOwNCrU1FkwBy+d6saDE\n",
       "i3mCtpdcTfSU1FLN1aKjccPds2T7hNuFLLySO4wfjg120cHO2VBbQyvbZ2qXz/ViQYkXc9gmXgZF\n",
       "ph/PC4P4/pRrM99yONdlu4m/e8Rgx1HG+0sNsMWyu9+1IyjRCJU7mZ/ljBcbmu5lTeR2kH8NxeRc\n",
       "zLn1cGOfvhS6cOWFf+euY4sbKltQWyNUzpcFy+fxYkPTvRTNnMBsPv3fBEXujD/P4PdFisY+z3dK\n",
       "L/8BrGmYdq1mSiAAAAAASUVORK5CYII=\n",
       "\" style=\"display:inline;vertical-align:middle;\" /></a></span><br>"
      ],
      "text/plain": [
       "eq: {((j + 1) - i) in Naturals} |- (f(i), ..f(a).., f(j + 1)) = (f(i), f(i + 1), ..f(a).., f(j + 1))"
      ]
     },
     "execution_count": 22,
     "metadata": {},
     "output_type": "execute_result"
    }
   ],
   "source": [
    "eq = f_i_to_jp1.partition(i, [InSet(subtract(Add(j, one), i), Naturals)])"
   ]
  },
  {
   "cell_type": "code",
   "execution_count": 23,
   "metadata": {},
   "outputs": [
    {
     "data": {
      "text/html": [
       "<span style=\"font-size:20px;\"><a class=\"ProveItLink\" href=\"__pv_it/290bc4503e47543650cbb00a0db08145f7e0f94a0/expr.ipynb\"><img src=\"data:image/png;base64,iVBORw0KGgoAAAANSUhEUgAAAKkAAAAVBAMAAADP89MSAAAAMFBMVEX///8QEBBERERUVFTMzMyY\n",
       "mJjc3NxmZmYiIiJ2dnaqqqoyMjKIiIi6urru7u4AAAAvZeGPAAAAAXRSTlMAQObYZgAAAAlwSFlz\n",
       "AAAOxAAADsQBlSsOGwAAAkdJREFUOMuNlD9oFEEUxl92N7e3d7ubIxAQSXCjjaAJZ7AKKUzSWlyV\n",
       "gI3bHIoW2lx1CicEWQvNSRrLJUXK5CAgQTCsNgETQiCVaGBJmoCFKeWK4Lz5dzd7E9gH39zsx95v\n",
       "3r55MwDgnwBAgUsbYU4Po7DBfvc3yfCDSxu/c3j+6s1dcG5MwOI0PpYucWgzASyk6tvWBwA3zjL3\n",
       "Bj0jPgb4S/59C5+cFhn+cJHM1XfPmrjobpb6btAz3zo1GCKTT5La4JLh1fjEReqypgRZz1yHz1BU\n",
       "qBUuGaWknzqUDlKF9z2KOpRaT56rVK/DdBW1XBukcu/Xocg1vO+2FardZgL/INBRnaq633uJ8Aqy\n",
       "vGZowJSk2h22Ll3bhjEddVj5DnC8ivDKYY9qvTw/J5Nv+PSC0IoxEyxBV0cttRTqM8yEeeXeboXw\n",
       "qDSJQAJafI+VP2Li3WtH0ZtrUVSVVOsCv3snwngAkI4k3IN5tAJONdN7WJQ7MfjNtJ9qt3S5ehV1\n",
       "p7ZS4Z325+pXsQLOVzwTJKVyzETq0M5RAdiWXrGfCg8NXDLkPWAkTKQoR9rdCtQe6DrCcxN5Yklp\n",
       "3AUy+Sg6C7uEdcpjbb/aiUL1LurS+yJMuttN5RRwAcxkqObkvznyj8y9d7cmvbMpdsas1VF+l/RO\n",
       "7AoXjGdzpfFUcw8I7+ftSO3mHnWZaXb4Mnu70GhoqI2rbmNKdbFDjBBldYux9n4P8nksmnRDr+MQ\n",
       "UL16rX3PSPN5rEHYmX8yS4Y6lzaWcnp019bI5/4HedOhKfJbYFcAAAAASUVORK5CYII=\n",
       "\" style=\"display:inline;vertical-align:middle;\" /></a> <a class=\"ProveItLink\" href=\"__pv_it/b91682d7d67fff6bab154b06b713bf3a20661bc20/proof.ipynb\" style=\"text-decoration: none\">&#x22A2;&nbsp;</a><a class=\"ProveItLink\" href=\"__pv_it/2af88be4a5ce467941e8cb9e52e22ce435e6c4e50/expr.ipynb\"><img src=\"data:image/png;base64,iVBORw0KGgoAAAANSUhEUgAAAb8AAAAVBAMAAAAkzf19AAAAMFBMVEX////MzMxUVFREREQiIiK6\n",
       "uroQEBCYmJhmZmYyMjLu7u52dnaqqqqIiIjc3NwAAACFAiZ1AAAAAXRSTlMAQObYZgAAAAlwSFlz\n",
       "AAAOxAAADsQBlSsOGwAABDJJREFUWMOVmE9IVEEcx3/q/nn7Vleh6KohhIeCpUOHBWWzPYRKCIXh\n",
       "QfSQBaEUdbFDuoQhIsbSJYigR548iCKd6rJEXYpI6JBB0YKCl0CDOrQo9Pv9Zt9z3878Zm3gt/vb\n",
       "efP5/b4zb2bevAWAEvilFHxUlxQYi1B9pDYp6Vo9LVZEr+drLUW/SnkjtS2/mQNEN+onF1BmTXxd\n",
       "LTakpoz4/Af+ufBKeZshwnntQfMaRsnX0Mc9WT0EAQmFhozAGnibFiEHI8e88IWGPtVzMrdANcmT\n",
       "E8rrB3h62HD9RBGW8TuyFuLdrucYMeFZclNARqGlILA6b9VizqGQr+ELL+bLoFg05zZVxd5lKh7A\n",
       "1GHLicsezFWRV33nB4qL5y3JKWAI1Vmdt2ox5/AbhnO0lCssWoxrRj3fw+9gZKPUbqwqwMdqkXDT\n",
       "kpwChlADq/E2LUKOGJhycAeJRRvmmpdow5WriWBQklnsZEEU+cSSnAKGUAOr8TYtQo5huYPEoi1Q\n",
       "xZ1rXUCeu4lbW7Kj0ix+qjcPDi6/lUWjyHU5NwckFFY+i6zGW7RIOQhxv6dNHSQWTQ3jgRrQZBRn\n",
       "VTwY+NYNNQ5rQ0aR9yyje+APfz52W2KZd3JcuCM2LUIOQhy4YeogsWgD/OD9hR/o/XSwsjnrR9ht\n",
       "ww20CKnivLGDby1PeAqIKMRLrUWJ1XibFiEHIdOwb+ogsWjjVNG8hx/oeXTPGvb8EJ9oqQ6Cy2MF\n",
       "s7nc9Vyu91Bku5ycAyJKQTyJ1XibFiGHQso1+riDxKKN+7sJe6QmOla9ikmlCqDdhSHLIyobdHBW\n",
       "ZIeMHRS0CDkYcbKmO0gs2jOqaKIlQN5jqJ4WZ2kh4QxLdPzvFOWACZ6c/WCdotVr0KZFyMFIcA4x\n",
       "TdFuftzQuRA9dz+JyyaNk5LLJIXBS6vFNZPIuziPtLQK5YCEQuoPCCxbqNi0CDkY2R00bjJptnV/\n",
       "NyEvureDY7oBq4VgFdNmO5oy7oSL4P7FL2rMTvCrEpD3+PgemFlloSJrCXIEvw4bAswYn4PIkl3x\n",
       "dxP2urEnkRJE+oJVHMUb3fSlJkDnrV6kLwHkUGyEjlwXofKhUA5IKDSmJZYtVGQtQQ52qnIw0lnT\n",
       "wcZzv88wyzyNwwOeyW3q8jbae14evDDOm04jfINpjutzlFEOyGhsQ2JT2vqyaJFycMNJo75tZXjk\n",
       "be7gpeoffumITGvujdokpkwHZv9onNSTI1oJiGhjccaTWEc7hslaxBzY8HS8bNQ3V7EeiGTUeaFH\n",
       "DS7OKZeG/cKy2qykV+YtOojpGwCifsCmUntxQGS39GpRi5yjp2E/YnxrJJYMliC+qfqwpFTR2ww5\n",
       "9x+paGmhg/Qiq5+FCfUDumlnc1BkM3q1qEXOsQSLD81PEU8ZpAKRypuubblj7l/8CH+YCCizJr6u\n",
       "FhtSU6aV/QOo26AUW6Ba0AAAAABJRU5ErkJggg==\n",
       "\" style=\"display:inline;vertical-align:middle;\" /></a></span>"
      ],
      "text/plain": [
       "{((j + 1) - i) in Naturals} |- (f(i), f(i + 1), ..f(a).., f(j + 1)) = (f(i), ..f(a).., f(j + 1))"
      ]
     },
     "execution_count": 23,
     "metadata": {},
     "output_type": "execute_result"
    }
   ],
   "source": [
    "eq.rhs.merger([InSet(subtract(Add(j, one), i), Naturals)])"
   ]
  },
  {
   "cell_type": "code",
   "execution_count": 24,
   "metadata": {},
   "outputs": [
    {
     "data": {
      "text/html": [
       "<strong id=\"eq\">eq:</strong> <span style=\"font-size:20px;\"><a class=\"ProveItLink\" href=\"__pv_it/2cf19db258a57882a809bd32b7d1f5d04e33a14e0/expr.ipynb\"><img src=\"data:image/png;base64,iVBORw0KGgoAAAANSUhEUgAAAHUAAAAVBAMAAACK3rzVAAAAMFBMVEX///8QEBBERERUVFTMzMyY\n",
       "mJjc3NxmZmYiIiJ2dnaqqqoyMjKIiIi6urru7u4AAAAvZeGPAAAAAXRSTlMAQObYZgAAAAlwSFlz\n",
       "AAAOxAAADsQBlSsOGwAAAe1JREFUOMt1lM9LAkEUx5+7pq4/tgi6BJXVJQjFoFOnymugdAnq0BJI\n",
       "hw55CQI7eAixIDS8dFw6RKfyUkSQmBBBQRidIqKlLkJC/QEVvTfq2ky7e/jOm/F9dt6++Y4AoD4D\n",
       "gAssH5tlcB00xtsjlBvrnECZn6u5oRIoA30QDdPU+0OSR3GGBdKf/PdOSX8A+DAAhmmmpFHeWWpR\n",
       "SPTkwWfwS3JGiYMDgz2TXbP5LuhICuw+nIKHY7vsWOhvDJVsllUlJ8orPBso2rInTJ/uWvtq4/48\n",
       "x7qpVfWKgNU3UArsSEpmzZoEIZN1456+OAZJR5xn8/coCxT5tDbrTNZqGFzSbBUJj45d0Tp1/vz1\n",
       "FOohY9u90mDeO0gYJkd3MHBUaf2YzkM9y9IziRF84TxGv0zRUrDJysYYvXlUBzVltNh14XuZa6hu\n",
       "eP27rxqhmpULckoEa2LVbgmsL9Kq2fOXhRmJitSafZbItq5vgf3Qsf2zzHGmrSX8GP80BrutM1Jo\n",
       "h45PgX1xYRs3WHhu2pQqTHHeIG/JQdH3VygZFr6FGr525rqb7m97cpOaXba6qOnG+DiS5b3XZudA\n",
       "1hcNC9Ydt/EqY/10DyQtpm9bpSzZ+TzF/gp6SYLu66pVStgGVXvYsDyBkrC5vpr1urOA/f4FY8Fx\n",
       "04fMwfQAAAAASUVORK5CYII=\n",
       "\" style=\"display:inline;vertical-align:middle;\" /></a> <a class=\"ProveItLink\" href=\"__pv_it/53f35ef7e9605cc7085a05a44b2b83f8d2df9ef50/proof.ipynb\" style=\"text-decoration: none\">&#x22A2;&nbsp;</a><a class=\"ProveItLink\" href=\"__pv_it/b1472131e5250050d2d0a4da266e9a1f6e139c480/expr.ipynb\"><img src=\"data:image/png;base64,iVBORw0KGgoAAAANSUhEUgAAAXsAAAAVBAMAAABVmVOmAAAAMFBMVEX////MzMxUVFREREQiIiK6\n",
       "uroQEBCYmJhmZmYyMjLu7u52dnaqqqqIiIjc3NwAAACFAiZ1AAAAAXRSTlMAQObYZgAAAAlwSFlz\n",
       "AAAOxAAADsQBlSsOGwAAA2FJREFUSMelV01IVFEUPtqM7/lmGoWgrUYQLQqGFi0GFK0WoRJCEbiI\n",
       "XCRBGEhtbJFKFBFiDG2CcPHIlYtIxFVthqhNLRLaTGAwkOAmaIJaJAadc8/9edfLeyNzD3x3zj0/\n",
       "37333d8BgAYoaeiihXBMSSLF3QbjAewlYxe+wzXlYe1a67ZkSn6TkeJug9EVJ3fL2IXvk6guvmGt\n",
       "ns4EViAciQXVlhviwWhJx4g9rvBtDMU1clSEnRBVyVM4Ns3aKMCLrLZ0IHwF6I4ZtvgwJuXlk12w\n",
       "cteP1mBVzFWV7YhwhgxdHypSA5jNaiwZCMECwxYfRntF7dq505djeKwqs4wuUbkeKw1/44zGkoEA\n",
       "tyTs/vgwOt03uXmqTkKCEzEhKhuICenonsloLBkI8FzCEi9Gp/smtzCEQ6hCghOxSPqdGyeBtKiO\n",
       "B0mhP70tFQjRtzKtRgl7K/owOt3XucGJcwsQ0s599UXaEfzx/vFnLORxcoJqxreSgRDCTSzvSUB4\n",
       "QUg/6Olok9Hpvsnt2ZRzsdA1w3bEmLgLfmGB2o8QjcWh9LZUIMzBHpbvJSzxYnS6b3J/9gLk8KwM\n",
       "Gj01tiOmyFNsYoFaTCPsaKY3pgJRI+4+CUu8GGFVTOOw7r7J/UwbdlxoMdsRU2pXCI0c+cmMQ1oF\n",
       "QkjaVQm3++0yOl/f5G7o7j+UdsQy1Q/RoiXtGWRPtQ6E3Fpy8STXvhdjxuI5Q+eNuIRHQS+eAXGI\n",
       "0ssFtWivgGurDJHbDJtUIK5E+g53JSzxYnS3rs69TYOl6NIfthPW1a4gLd/cwS+5Ca9pu1MR/ZUK\n",
       "FzoQYJ6KJQlLvBid7qtc3uPiGA2abCdcUbtCaAN4JOUakBuhyaTnwEWlCJMJhONUXJKwxIsxIZ1n\n",
       "f582ubzH87SUOumCQLvw0egfiLXXy2nbiI/uXAuTCaSpLA0xbPFhdEXnhmJjDav1ts3AJ1exf1k9\n",
       "wEjoVbTm8qDJBJ4KduXjzH1t+TC6onLf8a6dhc7afCzthEHIVfhmG+R7BKcmcv+EkEkHduzR/QHf\n",
       "JfaJB6N7q6nc86t8UDX6amPSToAVCOr8l2yFA3BsgctDJhO49Ih+KxL7xIPRPVdV7v2nPOZyWB+X\n",
       "dgKU9OyzNtf6r51MCRqMFHcbjK44uTvGjvgPg/BX7wY3hDUAAAAASUVORK5CYII=\n",
       "\" style=\"display:inline;vertical-align:middle;\" /></a></span><br>"
      ],
      "text/plain": [
       "eq: {(j - i) in Naturals} |- (f(i), ..f(a).., f(j)) = (f(i), ..f(a).., f(j - 1), f(j))"
      ]
     },
     "execution_count": 24,
     "metadata": {},
     "output_type": "execute_result"
    }
   ],
   "source": [
    "eq = f_i_to_j.partition(subtract(j, one), [InSet(subtract(j, i), Naturals)])"
   ]
  },
  {
   "cell_type": "code",
   "execution_count": 25,
   "metadata": {},
   "outputs": [
    {
     "data": {
      "text/html": [
       "<span style=\"font-size:20px;\"><a class=\"ProveItLink\" href=\"__pv_it/d687abcec3152afe51495eaae0f82c6062b0d38a0/expr.ipynb\"><img src=\"data:image/png;base64,iVBORw0KGgoAAAANSUhEUgAAAEUAAAAVBAMAAADiLT7tAAAAMFBMVEX///8QEBBERERUVFTMzMyY\n",
       "mJjc3NxmZmYiIiJ2dnaqqqoyMjKIiIi6urru7u4AAAAvZeGPAAAAAXRSTlMAQObYZgAAAAlwSFlz\n",
       "AAAOxAAADsQBlSsOGwAAAT5JREFUKM9jYGDgu8uAE7Atg9Cn12HK8fUr7WPglJdlcNYDcbn+gUWd\n",
       "HqAoYlpwmYHhPVBMGcTjbICYhmoQcxtnAAMjkDEDSQ0aYF7EsI2BA7uaQx0dG8BqUg9k41Bz+xzM\n",
       "nAQTngmoavjOKIC9ug9uVwITgy5cDTvIbHYGURCbOwGhhqXgxQsg4yCIlx8AJMIYfoHVINycwBDF\n",
       "pQiSXsDA4NzLgAglxw4gUICqYX5gCLJeewEDXzU48NjBLn+EbA6fAcguzr2gEDUAiXFMAJPIahh8\n",
       "mICM9Qlwv+dfAJE8B+Bx4QDkOQEZExHhEw+R2gVTwwF0KkM1ahgaQaQe60KilqVfCEi+RlUjA9V/\n",
       "UwMSF3AAV2PF+g9XKgOr4RFgYPkFth4rqAYnOSkGhppaXEr4wHHEkG6FOz2zTAZaAACwH0sB5Ayo\n",
       "PgAAAABJRU5ErkJggg==\n",
       "\" style=\"display:inline;vertical-align:middle;\" /></a> <a class=\"ProveItLink\" href=\"__pv_it/557880749bf38fdb1b5b6f0d034dd787b83395a70/proof.ipynb\" style=\"text-decoration: none\">&#x22A2;&nbsp;</a><a class=\"ProveItLink\" href=\"__pv_it/cb0c91d4903e0b6e4d0d598e3b6cb8c5b9e73d210/expr.ipynb\"><img src=\"data:image/png;base64,iVBORw0KGgoAAAANSUhEUgAAAJQAAAAVBAMAAABS/tqaAAAAMFBMVEX////MzMxUVFREREQiIiK6\n",
       "uroQEBCYmJhmZmYyMjLu7u52dnaqqqqIiIjc3NwAAACFAiZ1AAAAAXRSTlMAQObYZgAAAAlwSFlz\n",
       "AAAOxAAADsQBlSsOGwAAAYJJREFUOMuVlD1Lw1AYhU+1NmmtVfAHKLgqZHIQlCqZ1MFBEAfBRZ2E\n",
       "jE5th4qICN0EcSg6OQjiL8guouCig5DBXQddSgfvRz684RSSA0+anJucvO/NvQUQQMMU5HCBMV9D\n",
       "tZPDBR5DMNk1Bwqr7B3cFf4CKh0ogHdz7Pq0J46XyOLK5jqwPSjIoHzoKLraoq6hUsiAqFLU9RN1\n",
       "DW2HDIgqeyyqTNs4C6l8OCxqdJpFxW6su1fgAhobByzK6rAo7dqukoptlTysi19JA30WVa2zqNiN\n",
       "ZAXjPvbEiQRVeQ9u1YuW44cK3/K07br7rruScg09d5Mou86qGtllVcVuojZwBQ2K93kb/D9XWAMW\n",
       "ocHXBp12h057+muj9gs8QIMmXVf2C4uK3WTexextQoOZ1ODQ/M+caDswo1JucreoszihwSFd8p9I\n",
       "VWW6yf4TdVotxazVo1En6e1sulFNflPuyiVJoV+k/341J5M75ctVjhvF+TEtaribybXf1OeveRqq\n",
       "Rg73Dx6UdkR2magDAAAAAElFTkSuQmCC\n",
       "\" style=\"display:inline;vertical-align:middle;\" /></a></span>"
      ],
      "text/plain": [
       "{j in Naturals} |- ((j - 1) + 1) = j"
      ]
     },
     "execution_count": 25,
     "metadata": {},
     "output_type": "execute_result"
    }
   ],
   "source": [
    "Add(subtract(j, one), one).simplification([InSet(j, Naturals)])"
   ]
  },
  {
   "cell_type": "code",
   "execution_count": 26,
   "metadata": {},
   "outputs": [
    {
     "data": {
      "text/html": [
       "<span style=\"font-size:20px;\"><a class=\"ProveItLink\" href=\"__pv_it/2cf19db258a57882a809bd32b7d1f5d04e33a14e0/expr.ipynb\"><img src=\"data:image/png;base64,iVBORw0KGgoAAAANSUhEUgAAAHUAAAAVBAMAAACK3rzVAAAAMFBMVEX///8QEBBERERUVFTMzMyY\n",
       "mJjc3NxmZmYiIiJ2dnaqqqoyMjKIiIi6urru7u4AAAAvZeGPAAAAAXRSTlMAQObYZgAAAAlwSFlz\n",
       "AAAOxAAADsQBlSsOGwAAAe1JREFUOMt1lM9LAkEUx5+7pq4/tgi6BJXVJQjFoFOnymugdAnq0BJI\n",
       "hw55CQI7eAixIDS8dFw6RKfyUkSQmBBBQRidIqKlLkJC/QEVvTfq2ky7e/jOm/F9dt6++Y4AoD4D\n",
       "gAssH5tlcB00xtsjlBvrnECZn6u5oRIoA30QDdPU+0OSR3GGBdKf/PdOSX8A+DAAhmmmpFHeWWpR\n",
       "SPTkwWfwS3JGiYMDgz2TXbP5LuhICuw+nIKHY7vsWOhvDJVsllUlJ8orPBso2rInTJ/uWvtq4/48\n",
       "x7qpVfWKgNU3UArsSEpmzZoEIZN1456+OAZJR5xn8/coCxT5tDbrTNZqGFzSbBUJj45d0Tp1/vz1\n",
       "FOohY9u90mDeO0gYJkd3MHBUaf2YzkM9y9IziRF84TxGv0zRUrDJysYYvXlUBzVltNh14XuZa6hu\n",
       "eP27rxqhmpULckoEa2LVbgmsL9Kq2fOXhRmJitSafZbItq5vgf3Qsf2zzHGmrSX8GP80BrutM1Jo\n",
       "h45PgX1xYRs3WHhu2pQqTHHeIG/JQdH3VygZFr6FGr525rqb7m97cpOaXba6qOnG+DiS5b3XZudA\n",
       "1hcNC9Ydt/EqY/10DyQtpm9bpSzZ+TzF/gp6SYLu66pVStgGVXvYsDyBkrC5vpr1urOA/f4FY8Fx\n",
       "04fMwfQAAAAASUVORK5CYII=\n",
       "\" style=\"display:inline;vertical-align:middle;\" /></a> <a class=\"ProveItLink\" href=\"__pv_it/9eeb484bc04fefae3c3ecb5d3f95064cbc448bc50/proof.ipynb\" style=\"text-decoration: none\">&#x22A2;&nbsp;</a><a class=\"ProveItLink\" href=\"__pv_it/702e5e27e715306507ea41a292060489cd31481b0/expr.ipynb\"><img src=\"data:image/png;base64,iVBORw0KGgoAAAANSUhEUgAAAXsAAAAVBAMAAABVmVOmAAAAMFBMVEX////MzMxUVFREREQiIiK6\n",
       "uroQEBCYmJhmZmYyMjLu7u52dnaqqqqIiIjc3NwAAACFAiZ1AAAAAXRSTlMAQObYZgAAAAlwSFlz\n",
       "AAAOxAAADsQBlSsOGwAAA65JREFUSMeVlzFoE1EYx7+0Se68pGlBcDUiiINC6OBQaElrB2k7FHTp\n",
       "UOxgcWkhOGUxDVIpUpTgIhSHw04OxVA66RIEFx0acIlQIUOhi2AEHQwVfN97d997L/fuXXtw1+++\n",
       "9/v/v5e79969AkAXwqNLl4Sje+Z8l64mTQHOXbsAuuNIK2wR0XKyhZQMHMsx5HKM7xGcu/YR6I5f\n",
       "+O32exF14vsGGggXfb0hNaf/LveDTyTmDb75pgYm1UaQS1ITEDp6DWzJXVkT0TzAjs2CQPimN7x5\n",
       "1gdNu3+pJckdMPm+1cGk2ghyyUiDHN0KJrKfJoIIoGqzUMGBcdLXtWt3fUlWjb5bEdBaG8Et0B2z\n",
       "/Oa+H0bsr2+xUEFD96U2w29B8Yz6rkRAW20Orgw4LvGbA3YuBQ0XKpbuq6Ch+1KbK6sk5iO+mUYE\n",
       "tNVGUEgUx22MHz24Dhh5nTbDivEWIQje95Kp+6R1rs3UFRLzEV+3qYJJtTnIJXtfgRxf8bZ/7GRR\n",
       "LsNejtOwPP0ABBcemrovtaNtlcS8aNucxWNGPuoQTKyNIJfUsxVyXODfgl/swqIfLkvmy5aPRgBC\n",
       "DU5N3Zfan2MqifmIb7qlgom1EUSJ0x1tkeMqX4B77MIiH39hqhdvEYIs6vOljz/Laeq+1B6CSmI+\n",
       "4ptdVMHE2odS4pPjKk2f1aAhs2KfPkLilk1PX2oPQCUxH/EVfSEwqfYBSTaBHF/j/TDOGIxegv0F\n",
       "Egjppn3wjINKysGjjv2WBibVHifJPJDjJH8OOH1Y5J3m2NgqgRcVi1QIspG4aJy6pF0HlWR5furP\n",
       "oq2Clto+OXJJ4Q+Q4z5NHxZleifsZbfhHS4AePH+BoG4EAiwYVz3Q62Y45JkeX7qI7GogmptvSy/\n",
       "EyCXOD3peI+mD0aTbElKdyE9hy+drcdwJwx4SoJwdaAvQ7d+35RaMcclyfL81D9bZQ1Ua8uyeJn1\n",
       "Q5BLhkrSMY3P8wkfo2PC9Zidn6NvkKckuG4cn6R1ixp5HJz6Ma2DsbXzPoHT4QgOHJ065It8ijl1\n",
       "uZFqRnuGE5DAG07f2P1Q+1HMMSK3aIOmHlUVtNTOSccqDLU2fMVxCtIT4ls3Jb5M7NV47ejUZSkC\n",
       "U6dp486ctLfFXjgkMV8oRdexrgRttfek43D3cmsBFMddcDpiVO4KgP02x7DlwJPA50/N62qoffwC\n",
       "VBLzw9HNpFdSQEvtinT0Sm5nUXUs0CZPRLUz/L8Zty+sxZC1GN8TOHftE1Ad/wPuSlyfsh2BQgAA\n",
       "AABJRU5ErkJggg==\n",
       "\" style=\"display:inline;vertical-align:middle;\" /></a></span>"
      ],
      "text/plain": [
       "{(j - i) in Naturals} |- (f(i), ..f(a).., f(j - 1), f(j)) = (f(i), ..f(a).., f(j))"
      ]
     },
     "execution_count": 26,
     "metadata": {},
     "output_type": "execute_result"
    }
   ],
   "source": [
    "eq.rhs.merger([InSet(subtract(j, i), Naturals), InSet(j, Naturals)])"
   ]
  },
  {
   "cell_type": "code",
   "execution_count": 28,
   "metadata": {},
   "outputs": [],
   "source": [
    "%end demonstrations"
   ]
  },
  {
   "cell_type": "code",
   "execution_count": null,
   "metadata": {},
   "outputs": [],
   "source": []
  }
 ],
 "metadata": {
  "kernelspec": {
   "display_name": "Python 3",
   "language": "python",
   "name": "python3"
  },
  "language_info": {
   "codemirror_mode": {
    "name": "ipython",
    "version": 3
   },
   "file_extension": ".py",
   "mimetype": "text/x-python",
   "name": "python",
   "nbconvert_exporter": "python",
   "pygments_lexer": "ipython3",
   "version": "3.7.3"
  }
 },
 "nbformat": 4,
 "nbformat_minor": 1
}
