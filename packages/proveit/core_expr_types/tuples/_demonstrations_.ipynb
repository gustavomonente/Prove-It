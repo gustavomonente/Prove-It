{
 "cells": [
  {
   "cell_type": "markdown",
   "metadata": {},
   "source": [
    "Demonstrations for context <a href=\"_context_.ipynb\" class=\"ProveItLink\">proveit.core_expr_types.tuples</a>\n",
    "========"
   ]
  },
  {
   "cell_type": "code",
   "execution_count": 1,
   "metadata": {},
   "outputs": [],
   "source": [
    "import proveit\n",
    "from proveit import Lambda, ExprTuple\n",
    "from proveit._common_ import a, b, f, i, j, k, l, n, x, y, xx, yy\n",
    "from proveit.logic import InSet\n",
    "#from proveit.logic.equality._theorems_ import multiVarSubstitution\n",
    "from proveit.number import Add, Mult, Neg, subtract, Naturals, Integers, one, two\n",
    "from proveit.core_expr_types import Len\n",
    "from proveit.core_expr_types._common_ import (\n",
    "    a_i_to_j, x_1_to_n, y_1_to_n, f_i_to_j, f_i_to_jp1)\n",
    "%begin demonstrations"
   ]
  },
  {
   "cell_type": "code",
   "execution_count": 2,
   "metadata": {},
   "outputs": [
    {
     "data": {
      "text/html": [
       "<strong id=\"assumptions\">assumptions:</strong> <a class=\"ProveItLink\" href=\"__pv_it/65ead08742f9ad5a28b35376cc37c302579c145a0/expr.ipynb\"><img src=\"data:image/png;base64,iVBORw0KGgoAAAANSUhEUgAAAQcAAAAUBAMAAABysOUVAAAAMFBMVEX////MzMxUVFR2dna6uroQ\n",
       "EBCqqqqIiIgiIiJmZmYyMjJERETu7u6YmJjc3NwAAACgK8IjAAAAAXRSTlMAQObYZgAAAvNJREFU\n",
       "SMetVk1o1EAYfUm26+42aZdKoeDBLXoQqnUPiq2CFLwICu7Bkxbai9SDaG5SFFwPlkUEFz0InlJR\n",
       "oUvRIoL1pyUUpLIK7UlBQdeLCEXaS3tQD85MZpLJJNmu0IEvfPPzXt7MfPPNAB3LYNZSSTew1eUi\n",
       "/bznhvSw0t0XA+lX6vU/r1wcXB+KQ5hPX0/DGDktJjAci9TpvJ5wg1VQfrBPqZ9zCVRVNacVYK7F\n",
       "I9qXu4AlUVP5OdJ0SFfVs+Qyxue1az8RYdhK7578ZaAUj9Svb7PRlsQrkIeATMOzTUUA34gIk//P\n",
       "mq3cZM7uN3oe5TDiS6XiMBEn3F5kFLoI8i3wE561KAIPmau9cEWQdJnTiogdV8VKfC/UXUVEFJkb\n",
       "wjipUsPilfBoc9yOEzHoRZXrR2ra7uIiOIJQCxGNMa0gRHD+KNKoYo6GCG2rtoXPqZEqxYn4rByS\n",
       "fhyw7LKM0BuBCGPokxDB+aNIy8EEqVKzGp2jIRE/sk6ciPPMnZGodLe3LCPag8BsYK/ew0OB80eR\n",
       "6TLoKaZm4hT9R71GyyTx3E66uIdrtRu12oNAxE62sWfoKE5lFnLemnkIdNM+h4tYwCO+ux5/DFJb\n",
       "80UAA0pAXnLjVoKJ6JDng+1aSUasyCuhFbtFbSABSUSI7QCmFBHPYk/HceaWZCprdEZGtMki8NHf\n",
       "nakEZKocBKa5oZyODSM5MO/5w3qJHZ2REVk/n5E8AGPF50tAksAcFMcu/TcsIrX2SxFxjYq4y9yM\n",
       "H8SP6W8dLDkBYkL05eio+zB/S/wRJLJFtrxsibNl9epYDou4MzJFWia9afWd9Bp71slcSPrP3AoQ\n",
       "C8+9aNJunwW7bSpuwB9BIpcP0namulnGZBxcauoIT76iXJD8Y7MVJ/QAcCX+CPKdf4Fp7mo+QcSH\n",
       "UAqzE0YVmyR+EipN+MkFhnlmq8WXLT1B6gntpt0EtIgm/HRH+KNGH2/tcTWf0G41AxHqZP52Ggv/\n",
       "9byztv559xX4B54y9x1QQAnzAAAAAElFTkSuQmCC\n",
       "\" style=\"display:inline;vertical-align:middle;\" /></a><br>"
      ],
      "text/plain": [
       "assumptions: ((j - i + 1) in Naturals, i in Naturals, j in Naturals)"
      ]
     },
     "execution_count": 2,
     "metadata": {},
     "output_type": "execute_result"
    }
   ],
   "source": [
    "assumptions = [InSet(Add(j, Neg(i), one), Naturals), \n",
    "               InSet(i, Naturals), InSet(j, Naturals)]"
   ]
  },
  {
   "cell_type": "code",
   "execution_count": 3,
   "metadata": {},
   "outputs": [
    {
     "data": {
      "text/html": [
       "<a class=\"ProveItLink\" href=\"../__pv_it/82ac923a3af9d063c57c5188cdb2e6bb29d238160/expr.ipynb\"><img src=\"data:image/png;base64,iVBORw0KGgoAAAANSUhEUgAAAJgAAAAUBAMAAACDnumxAAAAMFBMVEX///8yMjJERETMzMwQEBCY\n",
       "mJgiIiK6urqqqqp2dnZUVFTc3NyIiIhmZmbu7u4AAADOOTK3AAAAAXRSTlMAQObYZgAAAdVJREFU\n",
       "OMullDtLA0EUhU9iHptENwYLQQikNgj+A/0BomthpxhELBTFQmzdQixETGzshLTBwjSpE+zFCDY+\n",
       "irWyiUarWIh4787susluJoUDM8zjO4d53LmALDVutCoGllqfeal9u6lCzwHJHC6VPg4IbT5gVWgr\n",
       "RRMh8k0aeFGaOSCi5Z6VQwtCq3degRUxmWgovLygKCdyoXJlSa32Qc2WnJ5VmHnBLjNg1ZLaRAFI\n",
       "FeTsuMKsC/SbsTZ6v93EcBNoPdPERX8vF0TrOtCMtWk6a9gASns0WFTszAHRjBhBZqytTwMxEynz\n",
       "jgZHCjMJIlpNm0FmrC1SjexCxzd1ZhRmEiTygLVnmcx6JjPxZ8bac8loPwPMHFD0/Dtj7STE7sMc\n",
       "ifsKMwcEsoFmrJ2DuNe2WVI/gANC/0KfB9A7HEL04gcpAh+gfzLOTXvU0/GA4kK6zG7Z7AGIc1zH\n",
       "KRaTS9QZAzZ4YZOPVHY6OyxwQYwUesweF7KGrU1wGnC/E2Ga5Tvgqf0BXDDW7N2Z1B6H7AD0fPSE\n",
       "/7boMv/AIYsDzi7vXb+tgTWRdcIitfGg5U8XnA9csF6aCnwfWl9+Erx9BuSpGv5fyY0LJm+MQLN8\n",
       "TzaO/iNtk/YXe+2NTiwaWjEAAAAASUVORK5CYII=\n",
       "\" style=\"display:inline;vertical-align:middle;\" /></a>"
      ],
      "text/plain": [
       "f(i), ..f(a).., f(j + 1)"
      ]
     },
     "execution_count": 3,
     "metadata": {},
     "output_type": "execute_result"
    }
   ],
   "source": [
    "f_i_to_jp1"
   ]
  },
  {
   "cell_type": "code",
   "execution_count": 4,
   "metadata": {},
   "outputs": [
    {
     "data": {
      "text/html": [
       "<strong id=\"eq\">eq:</strong> <span style=\"font-size:20px;\"><a class=\"ProveItLink\" href=\"__pv_it/efad86352cd8b259f46f10071cd32cd216784f250/expr.ipynb\"><img src=\"data:image/png;base64,iVBORw0KGgoAAAANSUhEUgAAAJkAAAAVBAMAAACnAFEqAAAAMFBMVEX///+IiIi6urrc3NxERETM\n",
       "zMwQEBCqqqpUVFQiIiJ2dnYyMjLu7u5mZmaYmJgAAABN0h6tAAAAAXRSTlMAQObYZgAAAgdJREFU\n",
       "OMtjYGDgu8dABcB68QCI4tkFIu2I1VWMS4IpFUTyfQAZ6QBilh1AVcDhgKmJwwCVz7PfZQ8DV34S\n",
       "A8NtEJdrApDgBqt5ga7zASqfPQeoewOaIpYHEQwM54GMlXDT3uLzHLsAhD6x4g+QXIhu5VRGAQY2\n",
       "FNMmE2MaAx/ItGNQzpOZM8HO5FA50MrAiWwa8wTiTeNWALNDZGBuM204fQDFNMYLoPAURAv0gxex\n",
       "mcZ1ARz4exDRUsjaADJtGZi3ARSSQAYvQx6qaQvUsJnGtwE1ajkMuBQegkx7D04WAQwMnAVAxmOG\n",
       "7yiGMRfcxmYaOzhUWJCTTA9HJCgIgI4OAUUAGygsDjCBFPPsBgOgFTwMH0Ee2717Z/bu3Q1w01hB\n",
       "6ZMhDKQI5soTDNtArE6grWoBUNMgsYsc+n+wuQ1imgmy21gXhIHc1gBN8GCfgp2Kki4bsJnGBLaT\n",
       "DSVzPGeBhRvIReBYYDhfgGra+YIFOGOBVwBuGtBvXCawOAWZBon1erRsqs/8ANU0RpBpvBArpsNU\n",
       "cYPccBs5vUFcfxM9z7xD9Slv229g4cUdAMlmThC7WeenAMnTmDlrLqG8AAYnobSW50zUAgBiWgIk\n",
       "18cwf8VhGg9KCCzElQFXwss3FgPmXywXiCktMUokOICk9V2Q0rKRuAKdxQBX2ZsECZZ7pJTkj/HV\n",
       "CwB++I08MybfBwAAAABJRU5ErkJggg==\n",
       "\" style=\"display:inline;vertical-align:middle;\" /></a> <a class=\"ProveItLink\" href=\"__pv_it/46460c50b121e306b109b9941b4c68c5a8cb40250/proof.ipynb\" style=\"text-decoration: none\">&#x22A2;&nbsp;</a><a class=\"ProveItLink\" href=\"__pv_it/7f7f53844e06c2d9593f3c0d4587da8109b658dd0/expr.ipynb\"><img src=\"data:image/png;base64,iVBORw0KGgoAAAANSUhEUgAAAZ8AAAAUBAMAAACgzC0IAAAAMFBMVEX////MzMxUVFR2dna6uroQ\n",
       "EBCqqqqIiIgiIiJmZmYyMjJERETu7u6YmJjc3NwAAACgK8IjAAAAAXRSTlMAQObYZgAAA/FJREFU\n",
       "WMOlV89LFVEUPvn0+XzOmH9AoBDRIjRpUVkbN4GLoBZCEUUSRC1C3cVb9QiSoghJwgoUixb1oHi0\n",
       "Thmi0DLw0SYSMlfhJjIKg3DROef+mLk/Zhrowhnuu3O+77vn3jvnnQvQ0QDVvtGjuAb/agmI2Qjr\n",
       "w8cA0RuBvBoOW6r2iOJdokcwNYOPOkBTHXqzdNiRIecjz+teaVZbMqB7oGktt0aC7W1lLUObOJn3\n",
       "Of/avwlQpqEGvMsSY0eGfLBfkQphPfjnBrQHgtncGgm2naPDKdrF08CcZOEEjSwfHQD4JN4WxjLE\n",
       "yFFAVLsgl3Xn3khgXXysoaAHIK9GzBb8eg2mdlG+e7VvS3KilXj3R+lxWwKPZ4iRY2nNExDAl0hg\n",
       "XXysoaBvIK9GzFbcsLVVQBBuSU60dR45SJ9bVb5+nCFGjuuQGhBjHfy6Ay0P5NbQbIWqrW0GRJxo\n",
       "FRr4dPI+QCvu5sIU/upP12JHggSX696A+n34ShIaVOhYTuTWUGzh3RsTlrYZEHGizfHIb7R2TIh9\n",
       "R7CzkrF65EiQNjjjDWhF4Qs1bjzxuSS00IyHKJzNraFns33M1jYDIk60cU7uP+h4DkPH8APsXMz4\n",
       "dyBHgqzCpjegiz78eBL6tQ2Fi9XcGprte6etbQZEnGhD+ntrGYCAV6crXYwdCRI1EwccqtWu1WqP\n",
       "4oC6fPihJDSild62kVujK5krEuN4BJ6cqtW6dUDEiTakvzcMCIpb2QGxYwxxdyg9IA0djbIDsjS6\n",
       "krnC1DZ3SAbEx6G9Wxw50RlMF+P3DClPeAMaVHj5DXXrI6ehL9Caq7k19GxegK1tBkScaPzBtozJ\n",
       "pLA83JeZFFrUh4me2Ukh2eaS0GCzkJ0ULA3NdgJsbW9S4Ky4PCDT3jGq/SYh+EODVEtQR/+SjgwZ\n",
       "jeyArtDIpDSj9SehzRtYA7f1CUKtoTuOhpwNFgpga+uAWikg5CTjHT0GcsuaPmPnIcB1hJRo66+C\n",
       "fJRuaUeG3LP/WO+cfdpgLJvRBg1oD7qVOwWh1uDO9cijIWeDC+Foq4Dadv2ZZk7mpVriMCRLH0p/\n",
       "bjl7CZQjQ244lYLCBlVv6RNDsS0qQjO/Ra6Gnk2h7mgXjapxURhWe8XuZ+IvOi4HC+7Rxg2VjgjZ\n",
       "wX8W3N4bGSqtOI2hujjtc/MbuBpqNufKDUc7MJZdFqcwD6WX4hNtF8tHBfuCe0lBYuU43/Gz3V+7\n",
       "pFwfYo15QTYrCK1GqraGms1NSZuqra4PeGMKKyKSoK413WthSCYdl2D3tD9Dzes5Wxe8GKqWLnTd\n",
       "Gh4NNZuPM5CtTZy8JfYVPPyPKzhhwxxX8NXcV/Aw9xV8Vdhf+uCYPPYPJ18AAAAASUVORK5CYII=\n",
       "\" style=\"display:inline;vertical-align:middle;\" /></a></span><br>"
      ],
      "text/plain": [
       "eq: {(j - i + 1) in Naturals} |- (f(i), ..f(a).., f(j + 1)) = (f(i), ..f(a).., f(j), f(j + 1))"
      ]
     },
     "execution_count": 4,
     "metadata": {},
     "output_type": "execute_result"
    }
   ],
   "source": [
    "eq = f_i_to_jp1.partition(j, assumptions)"
   ]
  },
  {
   "cell_type": "code",
   "execution_count": 5,
   "metadata": {},
   "outputs": [
    {
     "data": {
      "text/html": [
       "<span style=\"font-size:20px;\"><a class=\"ProveItLink\" href=\"__pv_it/efad86352cd8b259f46f10071cd32cd216784f250/expr.ipynb\"><img src=\"data:image/png;base64,iVBORw0KGgoAAAANSUhEUgAAAJkAAAAVBAMAAACnAFEqAAAAMFBMVEX///+IiIi6urrc3NxERETM\n",
       "zMwQEBCqqqpUVFQiIiJ2dnYyMjLu7u5mZmaYmJgAAABN0h6tAAAAAXRSTlMAQObYZgAAAgdJREFU\n",
       "OMtjYGDgu8dABcB68QCI4tkFIu2I1VWMS4IpFUTyfQAZ6QBilh1AVcDhgKmJwwCVz7PfZQ8DV34S\n",
       "A8NtEJdrApDgBqt5ga7zASqfPQeoewOaIpYHEQwM54GMlXDT3uLzHLsAhD6x4g+QXIhu5VRGAQY2\n",
       "FNMmE2MaAx/ItGNQzpOZM8HO5FA50MrAiWwa8wTiTeNWALNDZGBuM204fQDFNMYLoPAURAv0gxex\n",
       "mcZ1ARz4exDRUsjaADJtGZi3ARSSQAYvQx6qaQvUsJnGtwE1ajkMuBQegkx7D04WAQwMnAVAxmOG\n",
       "7yiGMRfcxmYaOzhUWJCTTA9HJCgIgI4OAUUAGygsDjCBFPPsBgOgFTwMH0Ee2717Z/bu3Q1w01hB\n",
       "6ZMhDKQI5soTDNtArE6grWoBUNMgsYsc+n+wuQ1imgmy21gXhIHc1gBN8GCfgp2Kki4bsJnGBLaT\n",
       "DSVzPGeBhRvIReBYYDhfgGra+YIFOGOBVwBuGtBvXCawOAWZBon1erRsqs/8ANU0RpBpvBArpsNU\n",
       "cYPccBs5vUFcfxM9z7xD9Slv229g4cUdAMlmThC7WeenAMnTmDlrLqG8AAYnobSW50zUAgBiWgIk\n",
       "18cwf8VhGg9KCCzElQFXwss3FgPmXywXiCktMUokOICk9V2Q0rKRuAKdxQBX2ZsECZZ7pJTkj/HV\n",
       "CwB++I08MybfBwAAAABJRU5ErkJggg==\n",
       "\" style=\"display:inline;vertical-align:middle;\" /></a> <a class=\"ProveItLink\" href=\"__pv_it/8591bb11a0f6d0c5fff42c7f2a52ee239d2300c30/proof.ipynb\" style=\"text-decoration: none\">&#x22A2;&nbsp;</a><a class=\"ProveItLink\" href=\"__pv_it/2d048d4436e8c43aca3a4a6d78f749dade6304730/expr.ipynb\"><img src=\"data:image/png;base64,iVBORw0KGgoAAAANSUhEUgAAAZ8AAAAUBAMAAACgzC0IAAAAMFBMVEX////MzMxUVFR2dna6uroQ\n",
       "EBCqqqqIiIgiIiJmZmYyMjJERETu7u6YmJjc3NwAAACgK8IjAAAAAXRSTlMAQObYZgAAA7lJREFU\n",
       "WMOll89rE0EUx5/dJM2vrf0DhAZEPEgleLBVL7kIHoT2UFBEIQiCB2lzk9yCB7EoEhCpCi1VetCA\n",
       "EnrWEsTSag8NXkTBkpP0UowoFUoPznvzY2d2dmcLPphh9+3nO9/N7MxkBmCoCzJ2sMr0ICmExCK1\n",
       "psyYFiUcOyHpNBzU2+GxgVVxboFVbYCBNpx0tUcgSW50dNLIWzHQ4yXcWBvrj/Uel56IYrRQoNvj\n",
       "Dd2d3gXIY6oLn1yNEkiSz6CTRt6IzFX25ou8hCJP7390psqlo1GMFgp0evhNzGxerAB85U+9mqNR\n",
       "BLnEJI08eYhn70/ts3pMFDPIsPjnAyjpmGtw6GC8R5Z6aQarh0I46WgVwawcGBpp5HUz8NFsVRQz\n",
       "yDDT16SrDmsDjPfYpsw4TreGeLzkaBXBbXW3FJO3zPIVXsz5TYZeQ5NajBYGGO9Rp29/+SnAIPua\n",
       "a3Ps7kx8owSipHi7rZOhvGXmNXkxAg3BfzzbJGmxXotgglBggsc7yvxlpcAWxPJ5dvHN8YUQREkO\n",
       "rhmkmbfM/EVeAM62MF6BMAQ4XONSLzUpmeiQYILHXfr4v3B4VmGo+oxd3HT8CyCIki3Y1clQ3jLL\n",
       "NHgxghmy+DnMpT9yixGMFhJM8JhS8y1dgSL19EjCxERJJ7Wvk6G812q9vNJqlZTZoT4vRqQraj1i\n",
       "0g5+AYsJrUcH8JhS8w3bz+y7fxCBgWQkJm/1nuMHjcv3nOm4f5AC3R405AolMQLo4kJ8o/ScJPmm\n",
       "TobyllmqwYucQy+CIbcMQroMkokOBbo9aFFI18Qc3ayWnYtCWk5MRuqLQijvWBT03qFF4RJwaXHX\n",
       "cy8KEkzwoJV3syKWvQnc+z2C4h4mcS+BF+pOgCTBASJJK6+bDaJZrsyLOX6b9P8PXJrq7xCjbMlR\n",
       "3QVgggeNmgkQn2zgO7t4DnCPSbI4jO6AqLIPFEiSJxCQVl4zyx3bm2eDZJgXI2h8pfpSOtolhozI\n",
       "sSQr8ghAtwftJc6BvvXB5c/ezt4CCZJk1iDNvNF7FOui2Fsfrw3ajmZdGplra8cEnR5st5cpvQ72\n",
       "inzL6dlDmH1QATLJEfrjkWQ4T91idEns5vR6viukiivbayvoYJLHCmTf8qlY4N2Eh4I1e6/LXl6C\n",
       "K0O/C02NDOdtcfTxgRneF0eQlYCzN/voocBEjw3w6z3tvEVt28dCH4sAN+D4vE6G81FvLrsrdMD7\n",
       "sgCgjpnE+LYcPQIwySN8BPcPfAT3D3wE3xIl6Qi+9R9HcOHxD7rNlz3/BlTkAAAAAElFTkSuQmCC\n",
       "\" style=\"display:inline;vertical-align:middle;\" /></a></span>"
      ],
      "text/plain": [
       "{(j - i + 1) in Naturals} |- (f(i), ..f(a).., f(j), f(j + 1)) = (f(i), ..f(a).., f(j + 1))"
      ]
     },
     "execution_count": 5,
     "metadata": {},
     "output_type": "execute_result"
    }
   ],
   "source": [
    "eq.rhs.merger(assumptions)"
   ]
  },
  {
   "cell_type": "code",
   "execution_count": 6,
   "metadata": {},
   "outputs": [
    {
     "data": {
      "text/html": [
       "<strong id=\"f_i_to_j__shift__eq\">f_i_to_j__shift__eq:</strong> <span style=\"font-size:20px;\"><a class=\"ProveItLink\" href=\"__pv_it/52c1faa3856dac3db77f72fcca70208fc9274ed50/expr.ipynb\"><img src=\"data:image/png;base64,iVBORw0KGgoAAAANSUhEUgAAAKkAAAAVBAMAAADP89MSAAAAMFBMVEX///+IiIi6urrc3NxERETM\n",
       "zMwQEBCqqqpUVFQiIiJ2dnYyMjLu7u5mZmaYmJgAAABN0h6tAAAAAXRSTlMAQObYZgAAAi9JREFU\n",
       "OMutlTFIHEEUht/t7Z7r3u5l0xu4Ilik2sJgJ4ekSLor5FBIIRIrxRiEtF5ABUFEEJErQkwTtLsq\n",
       "4K2QqcIFCy9lEMSgoE2ITRDUIvNmdmZ3dke9wgdvdu+/3Y837715CwClI3hAs34SvLgtXIci19pc\n",
       "lxozYxLX0gWiK9wB3pPsg3aQVhYymvvtxR44bycADvGns0aXYsAd4Dz1fs80faOZpq5mNfN4FOCA\n",
       "3uxI6p/IY5jPr+3tG7p+1uw0rdkbOR8KCnU98gwVSkj9rqEK7bTRYGHbT8ki9Cap+chvoxbLWWqk\n",
       "jfSJWJ/X94lCzXW4g/u4oqM6HbUyT3yhuXtxSd9ZdaR+Yb+amGnu4MGMjlpSS+MY40KLW8EOnPJv\n",
       "pP5lrVQF6J3lDidwqaP2KNmBQa8pNDPZfiv2GKaGbmIEi1QocwdisA2H4e5UGNYl1WI9HTKjQZBH\n",
       "fqRBDSURdRu+4t0y/be/mqDyjsjEygmxzROhDSRjtbZqGCtGY1cSGWDhZ6mGmgF4KbWCcgDPTJFX\n",
       "jE5WCw5mu6iWe+kIzfMlle7ZGRA9gFTsEt4p8yRFzSHV21IHyMWQ1DZl/2I8h8l+NdbEjn6lToG3\n",
       "dE0HZbGaGgPHUmsP8zisT2/ouq8/sR/TZ4vZD82JFdqzVw01P5w6Hk+X1/l/InXkrklymxZT2Xw1\n",
       "A/T8ldnRPZedhHqNG5uv0Iqn9gf9x8YMutN4KSd4Co/u+8KcdKnJ79Z/5SWhtzsbHk4AAAAASUVO\n",
       "RK5CYII=\n",
       "\" style=\"display:inline;vertical-align:middle;\" /></a> <a class=\"ProveItLink\" href=\"__pv_it/91f472505d9fa6804895741a2f19aaf21b1a215a0/proof.ipynb\" style=\"text-decoration: none\">&#x22A2;&nbsp;</a><a class=\"ProveItLink\" href=\"__pv_it/3d20f644c8cf6b71845bebfb40d7492f53c6ebb40/expr.ipynb\"><img src=\"data:image/png;base64,iVBORw0KGgoAAAANSUhEUgAAAdcAAAAUBAMAAAAtoWpcAAAAMFBMVEX////MzMxUVFR2dna6uroQ\n",
       "EBCqqqqIiIgiIiJmZmYyMjJERETu7u6YmJjc3NwAAACgK8IjAAAAAXRSTlMAQObYZgAAA8BJREFU\n",
       "WMOtWM9rE1EQHpO4Julu7R8gGBDxIC3Bg1a89CJ4EOqhoIhCEAQP0uQmuRUPxaKHgEhVaKngQQpK\n",
       "6VlLEKW1PaR4EQVLTtKLGFEqlB6ceT923+y+femKA992dnbyfbPd2bezCzC4CcqkNwl9Tf3E60qk\n",
       "HFZetMdtMkM0QZ9G6mAVRzZo48/OS+8k5LoupTARbrZhBP+MJHM4IyG3lMyy67jVPzS7ESlVkIFV\n",
       "HHkl9k7vSG8Y/AWXXJgIHwHWQSJmnJGQi10I7xpYdOxR047VaxEpVZCBlRC0KNK5OKY8gDMuOTMR\n",
       "8g0JbpwxTDbs7ak9Q8dr2KLWtvr9DlJJ+7IiiuK610F7AO9dJ2smgn9JghtnLNr6KtgzdHRZPGoz\n",
       "r+ci7ceK2BaRUdAeQHnMoWcmAjxXYMYZt1PL0jq8LJd6fspF2o8V0aTA5ytPgDy/SY3ZSpfTieDf\n",
       "oTXnrAIzxiiwOmsrS+vwshzqwaOZVkQqK8jAingjIn8Q6OUL2JSBa41QiVCC67j9ogD5RWFCiDEK\n",
       "VM/bytI6vCyX+uGGQSoryMCKmBaPrp+4Qe9bCYPelOMZpxJhC3CxhVsKzBgjYbD21FaW1uFludR/\n",
       "DEWkqoIMrIiJ8M5Hr03/uwO9PksE/aRdII6jCswYI8EXl9mXF38oLEDoYEu8uLq4WOFRx+qoSVUF\n",
       "GVgRE+GdT1697ZYLE6WXfrJhIsHbs10DrcOvgUt91DxZKZGBFSGabqCiemMZUXA0UpgIZbo/Lyjo\n",
       "e7YStnGYOK13EmUVrA3nUl8Gg1RWkIEVIZaTg+rO93fy7iVCJ+LQUDMXKNMYo0CnVv0vC9RlMEhl\n",
       "BdkWKPHk6IzJZ0ih9x2XuSp06Be08XeVIzdhomx4eKjAjDEKjMfn9kNUQKkaK0tHk+rCwQEKzMdd\n",
       "PT4au1kJogvHQfXjMFZVHoLiAxpVqPnuakeEokR4TJtnCsw4IyH3lWeUju/OCR1WVhi1qN+jEyv0\n",
       "TFJZwf5ZBTNNXufAmALXELeTPSRCUeIM/aunJCzjYphYTH2NWYsPdg51j042v8RIZzKyromZ2qu8\n",
       "jAZ4OTRXkywYihKPiOdo6ouAwRikTkR6ZPfb8WhSHZcSuFHeNEhlBVlYCStQfC1v6hWZRfdII/nG\n",
       "gaEwcfDXQAtSX/E440raK8xCWtSivoq4vw4RqaogC+uCeA8Omt3opRsGcCewDKaEMPHEnONcOONG\n",
       "2lOsmxa1qNM1/TQPBqmsIAOrOBL/LLO1788yQVfi3z7LbGWI7v+zTDor4i/igq0vokVEtgAAAABJ\n",
       "RU5ErkJggg==\n",
       "\" style=\"display:inline;vertical-align:middle;\" /></a></span><br>"
      ],
      "text/plain": [
       "f_i_to_j__shift__eq: {((j + 1) - i) in Naturals} |- (f(i), ..f(a).., f(j)) = (f((i - 1) + 1), ..f(_a + 1).., f((j - 1) + 1))"
      ]
     },
     "execution_count": 6,
     "metadata": {},
     "output_type": "execute_result"
    }
   ],
   "source": [
    "f_i_to_j__shift__eq = \\\n",
    "    f_i_to_j.shift_equivalence(new_shift=one, assumptions=[InSet(subtract(Add(j, one), i),\n",
    "                                                                 Naturals)])"
   ]
  },
  {
   "cell_type": "code",
   "execution_count": 7,
   "metadata": {},
   "outputs": [
    {
     "data": {
      "text/html": [
       "<a class=\"ProveItLink\" href=\"__pv_it/c1bad0b2c60d770aad5a2b5733edc44c4df3cd690/expr.ipynb\"><img src=\"data:image/png;base64,iVBORw0KGgoAAAANSUhEUgAAATMAAAAUBAMAAAATqMdXAAAAMFBMVEX////MzMxUVFR2dna6uroQ\n",
       "EBCqqqqIiIgiIiJmZmYyMjJERETu7u6YmJjc3NwAAACgK8IjAAAAAXRSTlMAQObYZgAAAn5JREFU\n",
       "SMetlr9rFEEUx5+353o/di/3B1gciNgeFppgk0ZIIaQ5UCTCIdiJd51cFyyCQYttJCokXCkLCUdq\n",
       "Ew4xJGpxwUYsDFemM6JECFc4783O7uzu270M+OA7zH537nOz8+sNQO0QgsBa9BSPJwZuLPKgOVR6\n",
       "8wULZ21D1lCFQbp5YcxBeFfFp944gsKjoQmV3mzR041TWUMVEh9pL4m+95MA3tXjSqcdQeErmFBR\n",
       "rofO6M481eRTPD5cn4jypvptl3O5cP58hEzoVKpQica0A7JW4kbYxeZ7CUjc5cI+yYNOowodkzML\n",
       "snacCanMcxDlcmEt50GnUYV6aHy/9waohtpf4yCWx0EsL7Nn7qtVL4I6TwdmVKEdcv4K7QRq3uYg\n",
       "bp+DuDn7YKarQcvwwIwqtEKHzy9RrEjV2m85iL3MQZTLxc96BIUjODWjCrXCFduScmgIHZ+iHja/\n",
       "gE0s33933/cbcTcjcGspKAyLEzOqUCtcsYpiT7jvU52If19e12b1rsm/MKAK0YRWG9rY00MKUmSH\n",
       "vpgzodugQaHimVGFaBtc1FfsqN38L9vgLmhQQTXeBnP0Ozxe5gItJrPxJWxebiYgyh0hHQvnTK+I\n",
       "ZAAaFDrJFJpPRS2gsYjFQqDCjzijfPVsXUxIPQ4J3dJLPPRxETxTlefYjeKJDoXXYEQlMmaRW5Cb\n",
       "UzAOkikldB+nUxR2zRrEoKuG1APKvXZjk6Y5KxNTqETsDJNuM52ihB5WDjXoZTo5TaioXSi9l4tx\n",
       "NxB7jehnuU43Ze8LvfgMEbT2u+oZUvt0z3N7chrDWx8T1XGW66ZtHK9vG6BBr60bUunN+S7gRwbu\n",
       "+S/g2VShf7NYGPjaqmYgAAAAAElFTkSuQmCC\n",
       "\" style=\"display:inline;vertical-align:middle;\" /></a>"
      ],
      "text/plain": [
       "(f((i - 1) + 1), ..f(_a + 1).., f((j - 1) + 1))"
      ]
     },
     "execution_count": 7,
     "metadata": {},
     "output_type": "execute_result"
    }
   ],
   "source": [
    "f_i_to_j__shift__eq.rhs"
   ]
  },
  {
   "cell_type": "code",
   "execution_count": 8,
   "metadata": {},
   "outputs": [
    {
     "data": {
      "text/html": [
       "<span style=\"font-size:20px;\"><a class=\"ProveItLink\" href=\"__pv_it/c5ad101432a07c76594e5259d3fe0e4140154f780/expr.ipynb\"><img src=\"data:image/png;base64,iVBORw0KGgoAAAANSUhEUgAAAEEAAAAVBAMAAADrxp6XAAAAMFBMVEX///+IiIi6urrc3NxERETM\n",
       "zMwQEBCqqqpUVFQiIiJ2dnYyMjLu7u5mZmaYmJgAAABN0h6tAAAAAXRSTlMAQObYZgAAASdJREFU\n",
       "KM9jYGDgu8eAA7BePACieHYx4ARMqSCS7wOIbEGVmfZtd+a2BwwMt0E8rgkgsg9FBaNvAMMGFiBj\n",
       "JUIFKuBdwMBVsAibCj7PmbPBKg4wWLBewKKC1fEAnO3DcgBZBY+sAIh5GqGAT+AdiFoGIjg2AFUx\n",
       "JYCYzQj7jvA4gKj3IKIsgIHBnHcDiOmAUNHKYQCiuIGOCZkMZBzgB9nCmr0bCCABckELorITKKEG\n",
       "NIOhHuQCZoQZ3CDz1gDpBpA7QOIeYPEEuIrlXApg7nu4X75zgZgXYQqYGyyAgZIA9QtIBdMHOxCT\n",
       "swCqguWADwNPnwNyiPU9AEdziw5EhZp3ikt+ygUsoc60BBLqcABRkYA7fUBUQNIHDgBOHwz40lgS\n",
       "mGLHn04BJ7BJ9VHHkfkAAAAASUVORK5CYII=\n",
       "\" style=\"display:inline;vertical-align:middle;\" /></a> <a class=\"ProveItLink\" href=\"__pv_it/2514ec1d0c24a75fc82bbcf25de0e5caea651e700/proof.ipynb\" style=\"text-decoration: none\">&#x22A2;&nbsp;</a><a class=\"ProveItLink\" href=\"__pv_it/d38c892f92501e8d44c714ac99d55f2a3d897e400/expr.ipynb\"><img src=\"data:image/png;base64,iVBORw0KGgoAAAANSUhEUgAAAI8AAAAUBAMAAABG7HMgAAAAMFBMVEX////MzMxUVFR2dna6uroQ\n",
       "EBCqqqqIiIgiIiJmZmYyMjJERETu7u6YmJjc3NwAAACgK8IjAAAAAXRSTlMAQObYZgAAAUFJREFU\n",
       "OMuVVLFKA0EQHbggChv1DyJYSrQ+v+DKFFY2VkI6r02llbXoD6hYmC0s7JWrY5PaxqvERrCy9nZ2\n",
       "ct5MXsLlwYPj7b23s7PMEm1OiQmwVrZXid6Ee2BtHzqAGsxPwr5ZOy2IJnMOrAZz9yrSwO0eVJYk\n",
       "nx0nR6rCehk5h4/K4gY6yKgKX0IYRA8oqFYVRpFulKOgFAaltg/B/ELMpDNAQe8wKKqHPmBMYr4k\n",
       "5ufGLQoawqCh+ZXNR8QstsKvjjfx27WlF74S7x+Pvd/RagNsliA6K1BFPViRDWKzHI2e4a1lMChr\n",
       "9OiexCzNdr/Jqs1u3Fowp/E6Oz/fZvU8WG5skFJnYHMmpfbNA3B9Mq6UOxOk1f9Rmy4ZEa75wlak\n",
       "VIUFQxtRj6crkKrxKkSYrKDWD9uiTdqqy57abtle/QPVPINnZhECFgAAAABJRU5ErkJggg==\n",
       "\" style=\"display:inline;vertical-align:middle;\" /></a></span>"
      ],
      "text/plain": [
       "{i in Integers} |- ((i - 1) + 1) = i"
      ]
     },
     "execution_count": 8,
     "metadata": {},
     "output_type": "execute_result"
    }
   ],
   "source": [
    "Add(subtract(i, one), one).simplification([InSet(i, Integers)])"
   ]
  },
  {
   "cell_type": "code",
   "execution_count": 9,
   "metadata": {},
   "outputs": [
    {
     "data": {
      "text/html": [
       "<span style=\"font-size:20px;\"><a class=\"ProveItLink\" href=\"__pv_it/c5ad101432a07c76594e5259d3fe0e4140154f780/expr.ipynb\"><img src=\"data:image/png;base64,iVBORw0KGgoAAAANSUhEUgAAAEEAAAAVBAMAAADrxp6XAAAAMFBMVEX///+IiIi6urrc3NxERETM\n",
       "zMwQEBCqqqpUVFQiIiJ2dnYyMjLu7u5mZmaYmJgAAABN0h6tAAAAAXRSTlMAQObYZgAAASdJREFU\n",
       "KM9jYGDgu8eAA7BePACieHYx4ARMqSCS7wOIbEGVmfZtd+a2BwwMt0E8rgkgsg9FBaNvAMMGFiBj\n",
       "JUIFKuBdwMBVsAibCj7PmbPBKg4wWLBewKKC1fEAnO3DcgBZBY+sAIh5GqGAT+AdiFoGIjg2AFUx\n",
       "JYCYzQj7jvA4gKj3IKIsgIHBnHcDiOmAUNHKYQCiuIGOCZkMZBzgB9nCmr0bCCABckELorITKKEG\n",
       "NIOhHuQCZoQZ3CDz1gDpBpA7QOIeYPEEuIrlXApg7nu4X75zgZgXYQqYGyyAgZIA9QtIBdMHOxCT\n",
       "swCqguWADwNPnwNyiPU9AEdziw5EhZp3ikt+ygUsoc60BBLqcABRkYA7fUBUQNIHDgBOHwz40lgS\n",
       "mGLHn04BJ7BJ9VHHkfkAAAAASUVORK5CYII=\n",
       "\" style=\"display:inline;vertical-align:middle;\" /></a> <a class=\"ProveItLink\" href=\"__pv_it/ed3a6f57359a278234b1d122b385c437c898ce7d0/proof.ipynb\" style=\"text-decoration: none\">&#x22A2;&nbsp;</a><a class=\"ProveItLink\" href=\"__pv_it/e9e33b004333065a6b40f2511ffd8e665ae57ddf0/expr.ipynb\"><img src=\"data:image/png;base64,iVBORw0KGgoAAAANSUhEUgAAAI8AAAAUBAMAAABG7HMgAAAAMFBMVEX////MzMxUVFR2dna6uroQ\n",
       "EBCqqqqIiIgiIiJmZmYyMjJERETu7u6YmJjc3NwAAACgK8IjAAAAAXRSTlMAQObYZgAAAWxJREFU\n",
       "OMuVlD9Lw1AUxQ9NK21Jq+AHsLtUBCdddHSzg5OfwM2uXSQoOBcdXVQc9A2C7kpW69LZKVNxUXRx\n",
       "Ksa8P3nNvXmReOBA+eWdm5t3+x7QHkPZobmoPAVejJcpfj6/B1b4YjfV4TvjLnnid7C5hRFb76Y6\n",
       "3BpqMzVC1Hrw+unn9F2UqB5pM9UCVH7g92ghRonejJmaU1S+gGtaiFGigbY/yPVbnwLrtBCjdutk\n",
       "+BHKXjXX784q8JorNKMbQuoWJnwC5Unjghc6SryfK5SlqVR4F8rhvFzqq5eIBTUhOcol+csT4mZP\n",
       "iA6lGamwKYSD0LF5NmI7ItRKhs2n4YEfhCE+gG1WKEv1Hl3BhM1m+98eLbQIHOY3m1I7NRmWo0xc\n",
       "/Xwnz9rHa6cBcEYLMZpKhWWb0l16ATTjOE4il+wPSensqI0Lj4jpOciNP0uJCg6tlj2efuiiVE/G\n",
       "Lo3+Qe3FVvSSsvSvq7YVlae/YRx+Kx/NFrIAAAAASUVORK5CYII=\n",
       "\" style=\"display:inline;vertical-align:middle;\" /></a></span>"
      ],
      "text/plain": [
       "{i in Integers} |- ((i - 2) + 2) = i"
      ]
     },
     "execution_count": 9,
     "metadata": {},
     "output_type": "execute_result"
    }
   ],
   "source": [
    "Add(Add(i, Neg(two)), two).simplification([InSet(i, Integers)])"
   ]
  },
  {
   "cell_type": "code",
   "execution_count": 10,
   "metadata": {},
   "outputs": [
    {
     "data": {
      "text/html": [
       "<span style=\"font-size:20px;\"><a class=\"ProveItLink\" href=\"__pv_it/63e5fa154aeaa69ed221641140eac89b049a1d590/expr.ipynb\"><img src=\"data:image/png;base64,iVBORw0KGgoAAAANSUhEUgAAAEMAAAAVBAMAAADvM06qAAAAMFBMVEX///+IiIi6urrc3NxERETM\n",
       "zMwQEBCqqqpUVFQiIiJ2dnYyMjLu7u5mZmaYmJgAAABN0h6tAAAAAXRSTlMAQObYZgAAATtJREFU\n",
       "KM9jYGDgu8eAC7BePACieHYx4AZMqSCS7wOIZM9BlZr2bXfmtgcMDLdBPK4JYIUNKEoYfQMYNrAA\n",
       "GSsRStAA7wIGroJF2JU8mTlzA0jJAQYL1gtYlYTIwJk+LAdQlBwUAQvz7IGr4BN4B6KWgQgOkMEX\n",
       "2B6A2QZwJUd4HEDUexBRFgDUYsBfAGKzIKxshSjnBjooZDLIAgZ9cDCG7QaCDeCAuaAFUdopwMCg\n",
       "FsAAcxaDCdwQbgagPWuANCi8OMB27gVLsMGVLOdSYGBIgLoF7COe75AQE4CqYG6wAPISoD4CK2H/\n",
       "A5GaDlXCcsCHgafPATlceKHhd8IJ7GwGNe8Ul/yUC8hKOC9AtWt5giMADiBKEhhYD9gH4EgwK6Hp\n",
       "xX6BL640BU4vDLsYOGQf4Ep1SWCKnUDaBQDDHU7GO72DygAAAABJRU5ErkJggg==\n",
       "\" style=\"display:inline;vertical-align:middle;\" /></a> <a class=\"ProveItLink\" href=\"__pv_it/bc8b4361d2054aa1dac4be8b29124c876dfc02ff0/proof.ipynb\" style=\"text-decoration: none\">&#x22A2;&nbsp;</a><a class=\"ProveItLink\" href=\"__pv_it/cb0c91d4903e0b6e4d0d598e3b6cb8c5b9e73d210/expr.ipynb\"><img src=\"data:image/png;base64,iVBORw0KGgoAAAANSUhEUgAAAJQAAAAUBAMAAACZogk/AAAAMFBMVEX////MzMxUVFR2dna6uroQ\n",
       "EBCqqqqIiIgiIiJmZmYyMjJERETu7u6YmJjc3NwAAACgK8IjAAAAAXRSTlMAQObYZgAAAXZJREFU\n",
       "OMuVlL9Lw0AUx79tajVtEv0DHLqIa3Hxx+To5uKo0EW66SjFJYuCW0aXQnUzg7g6KEEQRQWLf0DJ\n",
       "6FZFcBAH70e8612e0jz4tunn7n1z9+h7QNCHEBk7BSjwmAnbSX6xnFIpFK1uAueQwgux6PUwFgX8\n",
       "BvwIQrm4Wfhmn4u/P9skNWIqlSLew5NuLSuLGvGa6Q+r2iplpagRnUze3gVl5USUlZOryN0+cAUp\n",
       "F1uUld+jrCR1YhHCNpro45B9cw3wSVlVQ8pKUbU3nW5hgz1wJRW+Bw/iRScqqfTGH1fi+CCOTy06\n",
       "Eh7WE2UFJ6ROpZLaJNWxBHVB1CLKqkJeUNKsVg3Bz3TZ8dwqWnbjhqzSy5DCrt2CkzzJbVpWJtX9\n",
       "xPAapHBsLbpzX1127RnTyqJ6dzjSOEfkX/7ebhyT6v7LWplpNngnrVTjPpE0i1Iy5Oe85go+6tR0\n",
       "IMcJQYfNSz365rvkoerpWLTcEWP434E8KEB/ALoogzCVYaRvAAAAAElFTkSuQmCC\n",
       "\" style=\"display:inline;vertical-align:middle;\" /></a></span>"
      ],
      "text/plain": [
       "{j in Integers} |- ((j - 1) + 1) = j"
      ]
     },
     "execution_count": 10,
     "metadata": {},
     "output_type": "execute_result"
    }
   ],
   "source": [
    "Add(subtract(j, one), one).simplification([InSet(j, Integers)])"
   ]
  },
  {
   "cell_type": "code",
   "execution_count": 11,
   "metadata": {},
   "outputs": [
    {
     "data": {
      "text/html": [
       "<span style=\"font-size:20px;\"><a class=\"ProveItLink\" href=\"__pv_it/63e5fa154aeaa69ed221641140eac89b049a1d590/expr.ipynb\"><img src=\"data:image/png;base64,iVBORw0KGgoAAAANSUhEUgAAAEMAAAAVBAMAAADvM06qAAAAMFBMVEX///+IiIi6urrc3NxERETM\n",
       "zMwQEBCqqqpUVFQiIiJ2dnYyMjLu7u5mZmaYmJgAAABN0h6tAAAAAXRSTlMAQObYZgAAATtJREFU\n",
       "KM9jYGDgu8eAC7BePACieHYx4AZMqSCS7wOIZM9BlZr2bXfmtgcMDLdBPK4JYIUNKEoYfQMYNrAA\n",
       "GSsRStAA7wIGroJF2JU8mTlzA0jJAQYL1gtYlYTIwJk+LAdQlBwUAQvz7IGr4BN4B6KWgQgOkMEX\n",
       "2B6A2QZwJUd4HEDUexBRFgDUYsBfAGKzIKxshSjnBjooZDLIAgZ9cDCG7QaCDeCAuaAFUdopwMCg\n",
       "FsAAcxaDCdwQbgagPWuANCi8OMB27gVLsMGVLOdSYGBIgLoF7COe75AQE4CqYG6wAPISoD4CK2H/\n",
       "A5GaDlXCcsCHgafPATlceKHhd8IJ7GwGNe8Ul/yUC8hKOC9AtWt5giMADiBKEhhYD9gH4EgwK6Hp\n",
       "xX6BL640BU4vDLsYOGQf4Ep1SWCKnUDaBQDDHU7GO72DygAAAABJRU5ErkJggg==\n",
       "\" style=\"display:inline;vertical-align:middle;\" /></a> <a class=\"ProveItLink\" href=\"__pv_it/bdc28e0650ed7179880b95bda763961fd591c31e0/proof.ipynb\" style=\"text-decoration: none\">&#x22A2;&nbsp;</a><a class=\"ProveItLink\" href=\"__pv_it/5fd533cac05034bda16c81c381bbd19e449cb9460/expr.ipynb\"><img src=\"data:image/png;base64,iVBORw0KGgoAAAANSUhEUgAAAJQAAAAUBAMAAACZogk/AAAAMFBMVEX////MzMxUVFR2dna6uroQ\n",
       "EBCqqqqIiIgiIiJmZmYyMjJERETu7u6YmJjc3NwAAACgK8IjAAAAAXRSTlMAQObYZgAAAZ5JREFU\n",
       "OMuVlL9Lw0AUx79tqrW/Yv8Ah266teCgdXJ0c1FwUOgixUVHKS5dFJzMaEGhuplBXUWUQxBFBYt/\n",
       "QMnoVqUiDkK9XNJc7uWQ9gtfknyufcm9e+8BZgvCWm0OQYFn31hnCs82rvOIO+TXeso1ugqcwzPe\n",
       "1LU7GF/INjEI5coVkLMgHNERsAzM9B+rWqpozPEc0QpQdHBPQhGq6N13RBcMxTzS82ooQhXVfGe3\n",
       "LyNrBwyGpYYiNNDDDnADzyms0eVEl6exSUNJathCIqw10sIev7pu4zuSxgI/4zoNpdDg/JzxCpb4\n",
       "jWuW+HXZk3jRiVhvcMc+3Ls529617VNCw+WGRRaEgkHflLTCf6pqqdQsgg0iTVO5AdNBgm4wRP1c\n",
       "FQQ/k2nHa0WNFCsh6UTSTqjcIc90GZ6xxUjBTZen+MGW1FCEyhbkmV6AZxzSEu31fvi286REVRoo\n",
       "VQ81zr62GR4RKdEwlYXjtzL3hPmpDRU07ouW9vPKOu533ro2uxnddNCOEw3tlK7k6Js81n5UxhmI\n",
       "xmtiDP87kNtD0D9Yn4sUEQSUygAAAABJRU5ErkJggg==\n",
       "\" style=\"display:inline;vertical-align:middle;\" /></a></span>"
      ],
      "text/plain": [
       "{j in Integers} |- ((j - 2) + 2) = j"
      ]
     },
     "execution_count": 11,
     "metadata": {},
     "output_type": "execute_result"
    }
   ],
   "source": [
    "Add(subtract(j, two), two).simplification([InSet(j, Integers)])"
   ]
  },
  {
   "cell_type": "code",
   "execution_count": 12,
   "metadata": {},
   "outputs": [
    {
     "data": {
      "text/html": [
       "<span style=\"font-size:20px;\"><a class=\"ProveItLink\" href=\"__pv_it/8892e72af5410f9d111d498aec17526ba8943e180/expr.ipynb\"><img src=\"data:image/png;base64,iVBORw0KGgoAAAANSUhEUgAAARsAAAAVBAMAAACEflfWAAAAMFBMVEX///+IiIi6urrc3NxERETM\n",
       "zMwQEBCqqqpUVFQiIiJ2dnYyMjLu7u5mZmaYmJgAAABN0h6tAAAAAXRSTlMAQObYZgAAA3JJREFU\n",
       "SMfNVk1IVFEUPvP/5s2bcYKWCbMIIQl0UWQbndJFksYsRAqChrBFFDkRBK2aUIMgRIiSIaIpwhIS\n",
       "pNCFGj1BwnDhuCxBJgwKIrVFBemie+7fm3fnvjIo6MLcefd997z7ne+ee84FgMQK/A8ttGTjnzWF\n",
       "faCsm9Kst7xEfpHGv83Hfwb7xAb2c9hdtt0TrDSAka42NJBKnzL3ZdsMmL2n+TBy3r3UnW/TZyeF\n",
       "y/16bBlH5hD2z7H7qCwbI8saimy4jjVOHhaUycHycYBFMUrkXaCvMwPjQTEa1GOjkk6ipJPvc/Wr\n",
       "+SdbpH+AdklFstu+JIQ9NiJeBDP38DeYQyeqjYRbmncJpPMKdyfLX7QX7lI6u+0BiKrT3xcKKGXc\n",
       "hqaQ4rIwlJhD56COTWDIi04sRbpn7EAc4gFn7M8v2Cqdrl3ysSPojkxpKDGHTi26u0OJWh+hPLuk\n",
       "o2OiM2N0vGDL+L4Yygs6sztZfM84dsk1EfS1SZehxEboZ1DMYygaXFCDE6BYp6OTQJtPdNznHDcz\n",
       "9U7QKYXL8giyNmcJZ01/Ftwnk2Pr9HRnSDdMfqvw3b1yNAeB3LKOTgQVvULH6YrTf9M4wSc11uSo\n",
       "Q47dgKR2ID7uMpRYjGjeReMV04Xtx5WsadqQYzgFFnyhwtJ3E5JOCHPVKRoB5xDhdOZhku8HNNCt\n",
       "6EaQLu4v1YvF7Zqky9DBbhCgLsPp8AzkNEIHIls6dRw6gUp1QsVuMaJhCfucFIZqPGXPV22XocRi\n",
       "mKto2h0WYimbBcG8jo4fie+h42xlqv4gd+cFc0iaPTZTcu4Rt6HE1qUmGMqwmKsO5cVc8dehLE+e\n",
       "QVQ2hRwWC8O4SJWBfBMZZTlmugwlNiLpjEkRKxoe5wa1tvq2WCIFeCslZJLjwzJYm7SU8D0eFp7Z\n",
       "HWANpino32h2GXKsMu9Q4d+oJZYgxpqS0a9vkvtIDONtgvnav5dltfs9rJAV0Kk4D8P5w8zFuqM9\n",
       "bb09JQYOlisNJaYWiXvbKRK0vcbP8RX9j1iulzUWV4yKMKxvp0XCBYLekNPJshJ6MvB1GyWUNV0J\n",
       "lVtMlLJbMp6gdxt17jutgR/Bqqoe9LhiaS8Yos0CtBQ7vUHvxjLuFLt+Xau+o1ppvR2l2erxURIY\n",
       "Rm3ZG/S+DbKrW2TlTy+nq7QO/Iu78k8vVAYM/AkJpwAAAABJRU5ErkJggg==\n",
       "\" style=\"display:inline;vertical-align:middle;\" /></a> <a class=\"ProveItLink\" href=\"__pv_it/3890ef457c812e970e96e01213dfe8ad28958c5f0/proof.ipynb\" style=\"text-decoration: none\">&#x22A2;&nbsp;</a><a class=\"ProveItLink\" href=\"__pv_it/64a8c797efdd6e09e397787d6be159f79e15016e0/expr.ipynb\"><img src=\"data:image/png;base64,iVBORw0KGgoAAAANSUhEUgAAAscAAAAUBAMAAACT7Y21AAAAMFBMVEX////MzMxUVFR2dna6uroQ\n",
       "EBCqqqqIiIgiIiJmZmYyMjJERETu7u6YmJjc3NwAAACgK8IjAAAAAXRSTlMAQObYZgAABZpJREFU\n",
       "WMOtWV1oY0UUPpubpPm5qQFfhQ2IKMi6wQXdug/mRdgHoX2I7CIKQRAUxOZN8rIEhWJRNCiyW3WX\n",
       "Kj5owG7sq7ZcRNnd5qHFF6lgyZP0pdplS5WlGO/MnZ8zd87c5koHziU55873fXNyZ87cCcD0Fsi2\n",
       "J4xob6bwGo3BI4pJUanI3rGgMV9+5OLgkWOaOxt7k+lFkSG7+FdvhJdBZJmBfXuGVJVJ1MpBh5Li\n",
       "1SANKhHxuaw7nZEGfTx2y1B/vPPZdwBPUBwq4m6MRGbDVu7r/PhL31dpvWZkhY/rqUOA0iiyTOwZ\n",
       "yb8U9lm2HgbSaySLga5Iil8gDSqBXOLjeHi+pUHPxG5Z0WOswbMN2AAbSUfcjZHIbNjKSzqhP4J3\n",
       "QOs1IpUec20+3wDYhsjitz95FF6fllloU16yMVAGH1GkRLWRuTT/4CewQGVv5CsGkJsDr21zoIhz\n",
       "CjISKxuSBXs/B3jB1CvvMiIF/rPMs8sHwuKtwgb+c5zK8JKNgTL4ArkoHINqI3Np+X0CVPZGvlwX\n",
       "Mv+CP2dzoIircRIrG0oj8l4GODsy9Mq7jMgud51nVaMbGZ2OUoNKh/SSjYHugqRIiWohR9K8LgEq\n",
       "eyNf6QgydwG+sjlQxNW8LpUNyYK9NwM4WzX0yruMSIdPgMtLAFO9yG5dpdLh9ah0eD23VA7K4Jn5\n",
       "bw3SoVrITBpUPlnsKVC/0zZ7d4wOhRBqhuJQEUfjJDIbWrnsP2Uq+zAw9GoWFFnj3/8OrbwVWf05\n",
       "Kh2VZSodlaTKx0DXhBXh5XSoUeSZPmvfgJAH8EBbg3rZObP3mkEwWwf4jeJQEVdjJDIbWrnsXzb2\n",
       "Bdl7WC9mQZEFPgPust+3xW269SmVjnyXSke+m7BDZqALwnbgMB2qhczkAfxV1aB/FGMDWzA6vB3a\n",
       "axSHirgaIxHZQMrVyt8yZNVMvWi+6EhTrfS5BjefP4E+f4T6VTXwU+wWr9//+sV+v2Z6k8pHU1iQ\n",
       "PUqHaiHnGqpCC9CAP9aodxMzFNn8PU1xqEhSxRbZkMpRf+bd4CxfhN+WsF7MgiNNVU4kbP6Ieubk\n",
       "oM1nLinJHFQmOfqWAtWR5PMoyTAfmL2b+H6+QJ+mOFQkqWKrJCvlsn+uEa8UWK9iwRE+xco1vVxE\n",
       "X6x0ZMmJnU1YLjiOXC6g1EuHGkWiNflLPUtXAYGugnu5yPfgT4CLBIeOuNoqyoZWTi4Xr8P0COlF\n",
       "I8ERXixybVT4Nlv1Eyl8OVSjGOr/KXz4N+P15hJoUP/Qcxe+BwGu0IVPR1ztEsqGVk4VvlN1mBqR\n",
       "hc+I8K3MZgNtnGbjRy9TbODFenw6CO8mQ2cX/z7+IEBnhKmpPSGqiujVh++nDkCDZvf3zN5oWzb9\n",
       "zrmPwqfoY5tDRbhMJRop5yR6WxZflPDmcvfczGOmXrVnxxE+bWYBTdLM7+boio/cvx5OmqoJoryF\n",
       "90Ul5UWbf3g3UKAXhcE1SIWqInqvxOZjdh+Dntkye6MloDQej8MOrDTFOHSEy1SitXJOopeAa7FF\n",
       "CS+RN8fjf0y96mUER/ir6AVIeq3m7TZYm23hfcPeV/AkXwD8BryYEvU2+VrtDWCy12pxCNF1cbBI\n",
       "PqCVRyQqG4sJr9W2XnIklR7ka9+qg49tV5LlAYgfxL11e1/ByCJQcZbzEN80p0ElD4heKW0hUJ2x\n",
       "wDogEkLaLg4W8YBULkhENrRy1X+bGkXySNah8EO0aJdHkZEHU8sur2+fZ91iT5UAXWc2fa/cS4lq\n",
       "R0Jp74kTynVh8Rb3bTg5NoRMQrkgibJBKY/nyKEXR4ZQ6YzUYbQ/cOzHRi5vxXazJ0GCRufrj15P\n",
       "iVomD+1/vQEI1G5DIuk0x7qQSSgXJCIbhPJ4jtwPp4pM9vfTTgrv5H8/uVF3TuLvp8rIxVE5yb+f\n",
       "do4byX/MsJGhBlk1pwAAAABJRU5ErkJggg==\n",
       "\" style=\"display:inline;vertical-align:middle;\" /></a></span>"
      ],
      "text/plain": [
       "{(j - (i - 1)) in Naturals, j in Integers, i in Integers} |- (f((i - 1) + 1), ..f(k + 1).., f((j - 1) + 1)) = (f((i + (-2)) + 2), ..f(_a + 2).., f((j + (-2)) + 2))"
      ]
     },
     "execution_count": 12,
     "metadata": {},
     "output_type": "execute_result"
    }
   ],
   "source": [
    "f_i_to_j__shift__eq.rhs.entries[0].shift_equivalence(\n",
    "    old_shift=one, new_shift=two, \n",
    "    assumptions=[InSet(j, Integers), InSet(i, Integers),\n",
    "                 InSet(subtract(j, subtract(i, one)), Naturals)])"
   ]
  },
  {
   "cell_type": "code",
   "execution_count": null,
   "metadata": {},
   "outputs": [],
   "source": []
  },
  {
   "cell_type": "code",
   "execution_count": 13,
   "metadata": {},
   "outputs": [
    {
     "data": {
      "text/html": [
       "<strong id=\"tup\">tup:</strong> <a class=\"ProveItLink\" href=\"__pv_it/bbc1b69eb12288f0ad04da0d0cc6b9b8079b8b3f0/expr.ipynb\"><img src=\"data:image/png;base64,iVBORw0KGgoAAAANSUhEUgAAACkAAAAUBAMAAADiqgm2AAAAMFBMVEX///9UVFTMzMx2dna6uroQ\n",
       "EBCqqqqIiIgiIiJmZmYyMjJERETu7u6YmJjc3NwAAAC+aOQFAAAAAXRSTlMAQObYZgAAAQNJREFU\n",
       "GNNjYOC7wIAK8kDEaSQBnq0NDAyMD4CsdcjquCYApRYwMPBOQBblTwAS5gwMHA+QRf0PAImjDAwv\n",
       "UGyyABvjwFAJpPgmT4+BiC4sn8bAwDyBYS+Q7fqA6wPEDb8OnH/AwLuAoQ3IjmXg3AAWZfvDwF/A\n",
       "wNbAEMLAwPmHgaMALMq5gOG8AQPTB5Ao6waG8wow5/ongESBJgCl86HOvcAw/wADSwPItvMJDFJs\n",
       "YGfzOwDtANlmycDAXcDbyMxwHuhRxgvcQK9yGjB4AN0gXvSwhIGjB8iabgsyXQHJxzkwxgnk0DGA\n",
       "MYChw7APFrYFMMYCpFDnhSnlBpmJEUP3GBgAwQA85Uf1dX8AAAAASUVORK5CYII=\n",
       "\" style=\"display:inline;vertical-align:middle;\" /></a><br>"
      ],
      "text/plain": [
       "tup: (a, b)"
      ]
     },
     "execution_count": 13,
     "metadata": {},
     "output_type": "execute_result"
    }
   ],
   "source": [
    "tup=ExprTuple(a, b)"
   ]
  },
  {
   "cell_type": "code",
   "execution_count": 14,
   "metadata": {},
   "outputs": [
    {
     "data": {
      "text/html": [
       "<span style=\"font-size:20px;\"><a class=\"ProveItLink\" href=\"__pv_it/efad86352cd8b259f46f10071cd32cd216784f250/expr.ipynb\"><img src=\"data:image/png;base64,iVBORw0KGgoAAAANSUhEUgAAAJkAAAAVBAMAAACnAFEqAAAAMFBMVEX///+IiIi6urrc3NxERETM\n",
       "zMwQEBCqqqpUVFQiIiJ2dnYyMjLu7u5mZmaYmJgAAABN0h6tAAAAAXRSTlMAQObYZgAAAgdJREFU\n",
       "OMtjYGDgu8dABcB68QCI4tkFIu2I1VWMS4IpFUTyfQAZ6QBilh1AVcDhgKmJwwCVz7PfZQ8DV34S\n",
       "A8NtEJdrApDgBqt5ga7zASqfPQeoewOaIpYHEQwM54GMlXDT3uLzHLsAhD6x4g+QXIhu5VRGAQY2\n",
       "FNMmE2MaAx/ItGNQzpOZM8HO5FA50MrAiWwa8wTiTeNWALNDZGBuM204fQDFNMYLoPAURAv0gxex\n",
       "mcZ1ARz4exDRUsjaADJtGZi3ARSSQAYvQx6qaQvUsJnGtwE1ajkMuBQegkx7D04WAQwMnAVAxmOG\n",
       "7yiGMRfcxmYaOzhUWJCTTA9HJCgIgI4OAUUAGygsDjCBFPPsBgOgFTwMH0Ee2717Z/bu3Q1w01hB\n",
       "6ZMhDKQI5soTDNtArE6grWoBUNMgsYsc+n+wuQ1imgmy21gXhIHc1gBN8GCfgp2Kki4bsJnGBLaT\n",
       "DSVzPGeBhRvIReBYYDhfgGra+YIFOGOBVwBuGtBvXCawOAWZBon1erRsqs/8ANU0RpBpvBArpsNU\n",
       "cYPccBs5vUFcfxM9z7xD9Slv229g4cUdAMlmThC7WeenAMnTmDlrLqG8AAYnobSW50zUAgBiWgIk\n",
       "18cwf8VhGg9KCCzElQFXwss3FgPmXywXiCktMUokOICk9V2Q0rKRuAKdxQBX2ZsECZZ7pJTkj/HV\n",
       "CwB++I08MybfBwAAAABJRU5ErkJggg==\n",
       "\" style=\"display:inline;vertical-align:middle;\" /></a> <a class=\"ProveItLink\" href=\"__pv_it/279b1717c2969fce5545f724d24adc9be7cb80870/proof.ipynb\" style=\"text-decoration: none\">&#x22A2;&nbsp;</a><a class=\"ProveItLink\" href=\"__pv_it/bf6bee7b7505cb97a1ee290c5ae393eda50fcec30/expr.ipynb\"><img src=\"data:image/png;base64,iVBORw0KGgoAAAANSUhEUgAAAOsAAAAWBAMAAADTKHYhAAAAMFBMVEX///9UVFQQEBCqqqoiIiJm\n",
       "ZmYyMjJERESYmJjc3NyIiIi6urp2dnbu7u7MzMwAAAADGpxCAAAAAXRSTlMAQObYZgAAAm9JREFU\n",
       "SMetVj1oFEEUfnEvt/ezcx52xhR2KiIcYhNBPP8KBeFA0WDj2SxYeaVaRYhgukUUbIQo2KQIQcTW\n",
       "TREL02wkIBxIbC0CgUBAyYrvzeze7c6+XW8OH8zccG+/79t58+a9hW0Yz8bFRbYu51cGiJkELmnV\n",
       "OQMCCRc9A9kJj5f9RtPpQHu4xxNIeNkzkBVdXvY+TU90CS0E1ilFIOFPjc7lCytb6RRhzqqfjdVQ\n",
       "EUj4VSPZr6xsyRtBFiqhIiB4tW0kW17hZF/AyLJIQPAaxefl2tugCDj0Ox1O9h0d+5KWQf07nCwS\n",
       "ENzGc6+fgAfRC7Cm/FD+gdBuLOu40iToIY5JOJ5G+e85WSQgeKmF8Z6D2wCN3ANSfrBotLndXsKx\n",
       "ALvpq9y6xckiAcEP4GHdDeBaUYwT/sYOJ3sSR1AnVqFigHER8Jtcn133ouveG8giQSx7DMSfItmE\n",
       "P18WHC05rZDbbSSLQRb7YO1A/U1ujZB+6N+gY25rZ9uMgwxlLTfsJidbb8cpJXZhojvjHMxLZuWH\n",
       "zkdIplTSKKVgq5X+c6vl56cU3YjHMN/0X5/BJ5FU7EFiISfpF94q5avPya7RdF577U9xf4hla6Ei\n",
       "WI+itrH0c2oFyaF0Hf+5QKFvRgu4HMR+uSe6RFnZDzTd1Evys3SQJw/tzUqCVHEUITKey0TYGu7h\n",
       "F47N/OJ45V9VStqm1gqsLsbPz2CcwapxtKgVbFdzL8N3rZdIuB1VCTHtgVjMYPqDVa2X3/geVfft\n",
       "zqidM9PmK9nnhj3TXozfkWvzU7MjtRIiWDb5qDnyPKAKSLY8/kfNgumH1/Rh+D/2F7PQvd+TlgrV\n",
       "AAAAAElFTkSuQmCC\n",
       "\" style=\"display:inline;vertical-align:middle;\" /></a></span>"
      ],
      "text/plain": [
       "{(j - i + 1) in Naturals} |- |(a_{i}, ..a_{_a}.., a_{j})| = (j - i + 1)"
      ]
     },
     "execution_count": 14,
     "metadata": {},
     "output_type": "execute_result"
    }
   ],
   "source": [
    "Len(a_i_to_j).computation([InSet(Add(j, Neg(i), one), Naturals)],\n",
    "                          simplify=False)"
   ]
  },
  {
   "cell_type": "code",
   "execution_count": 15,
   "metadata": {},
   "outputs": [
    {
     "data": {
      "text/html": [
       "<span style=\"font-size:20px;\"><a class=\"ProveItLink\" href=\"__pv_it/620abae64b804cc0bdd9420c53c4bc274e3b0d770/expr.ipynb\"><img src=\"data:image/png;base64,iVBORw0KGgoAAAANSUhEUgAAAJwAAAAWBAMAAADHvejAAAAAMFBMVEX///+IiIi6urrc3NxERETM\n",
       "zMwQEBCqqqpUVFQiIiJ2dnYyMjLu7u5mZmaYmJgAAABN0h6tAAAAAXRSTlMAQObYZgAAAgFJREFU\n",
       "OMutVTtIA0EQHWPiJZc1lzRiYZEqjUWuslKJjaUI2goBrSUgCIKFny6VYqNgETstlCuDIF4aMVVO\n",
       "EOz0wMpCCIgImsLZnd1NYj5cwIG3zNvhXm73zU0AIPEM/xIrE3xl13ydlQgaG11oZhGXRJ1r5giB\n",
       "I2qrjM0fSDrq4GIig7hNCBzM0Wnck1QoieVdInic6cwqSNqUO5IIHnc6y7qSarlhiQEinlbZhaJa\n",
       "bsgjwMzlmNtPpFk3PbVXTj0RNfPcI7zFsE8IrcKtFO4aVIc4dkRCecF+3JotqOiRTazFCoQ7Hx4B\n",
       "Ij0tpjoYHOpujAZYSaI3AMvcgZE04cWFw35nbalH6jLBbquViEYPqZeV3Bqwz35yLXUth22XLRAt\n",
       "c8mcPiz7BqMOofGevSvqUHni16gOa/n8pTkVd8edlVawLzRmw7R6mUt18CahxQorzdaJCme5nLAZ\n",
       "MQdvO6XpLYCawy0DSppM1Jl9zq+sJPeiftgjqvsuJHGfWtpN40MQO8XKMSK2o5YTV9VhQTaL2GMP\n",
       "V5J2/8hYA0vbHSc1mlfwgai271X1R5b/MwIMB1+81CFn6iySVyPAbJsIQk74EbYJ4u2KNrBkh1xF\n",
       "Z0M5NaAqbfNKzDu47jI+E522+joLJ9Vv6z1BM2IqGM+DDfe9Kbyx1/a9V/1fMXAU93vXfgGpR6B/\n",
       "Ht93sAAAAABJRU5ErkJggg==\n",
       "\" style=\"display:inline;vertical-align:middle;\" /></a> <a class=\"ProveItLink\" href=\"__pv_it/e94bfcea976e033ae4d0f507d9498242e6f73c640/proof.ipynb\" style=\"text-decoration: none\">&#x22A2;&nbsp;</a><a class=\"ProveItLink\" href=\"__pv_it/6f702863e3318a0373b06556de251a4a53309d2b0/expr.ipynb\"><img src=\"data:image/png;base64,iVBORw0KGgoAAAANSUhEUgAAAIYAAAAVBAMAAABxpYtPAAAAMFBMVEX///9UVFTMzMx2dna6uroQ\n",
       "EBCqqqqIiIgiIiJmZmYyMjJERETu7u6YmJjc3NwAAAC+aOQFAAAAAXRSTlMAQObYZgAAAbFJREFU\n",
       "OMtjYOC7wADGxAK2B5jc01BMNJCDs05HQLnroJhocArBXAnh8k6AYOIBcwGc+Q3C5QD6h+MBKWbw\n",
       "BMBYLH8g3BdA6gUDSWAJ3EUNEG4lkARhvsnTY/BpRJK3hIlxiVcmgLh7gWwQdn3A9QFiGnYAkWdY\n",
       "BMS3YGLn1/D8A3HbgGwg5oll4NzAwKCHMxAg8gxAexkyYIL5Bxi+g7ghQDYQc/5h4CjA4xVkeX2Y\n",
       "4CwGns8gLtQM1g0M5xXwmIEsr49IHizfQFyoX84bMOQzMLgL4DIDIs8DCkMGD5jgX5DzgFxomJ5P\n",
       "YJBie2DwB6cZYHlOlgXIYfqF4egFENcSElncBbyNzHzHGhh4foF0AJWCGXAeWJ7hHDPIoZOhYgyy\n",
       "DDvBXA+I43jEix6WAFUyMHQcACZckNJGBijB0QOTZ+C+AI1fkBjDyWIIFyWtnz8EzMwHMDySA2fx\n",
       "A1XyNKCIAbkoeS6LGZiAMQPDAM5Shec5A+QsuI8BgkHgoB0Dw3HM9IVIONWwvI8QO4WlDMIs0ngR\n",
       "zO0wCxFiIC4JZSGjHzDb8aIWFLwPSMv0jIZYNQAA2Pd//InsBm0AAAAASUVORK5CYII=\n",
       "\" style=\"display:inline;vertical-align:middle;\" /></a></span>"
      ],
      "text/plain": [
       "{((a_{i}, ..a_{_a}.., a_{j}), b)} |- ((a_{i}, ..a_{_a}.., a_{j}), b)"
      ]
     },
     "execution_count": 15,
     "metadata": {},
     "output_type": "execute_result"
    }
   ],
   "source": [
    "tup.prove([tup]).instantiate({a:a_i_to_j},\n",
    "                            assumptions=[InSet(Add(j, Neg(i), one), Naturals)])"
   ]
  },
  {
   "cell_type": "code",
   "execution_count": null,
   "metadata": {},
   "outputs": [],
   "source": []
  },
  {
   "cell_type": "code",
   "execution_count": 16,
   "metadata": {},
   "outputs": [
    {
     "data": {
      "text/html": [
       "<strong id=\"eq\">eq:</strong> <span style=\"font-size:20px;\"><a class=\"ProveItLink\" href=\"__pv_it/8751e2256bfe11026aa8bbf51292856f9b9a94570/expr.ipynb\"><img src=\"data:image/png;base64,iVBORw0KGgoAAAANSUhEUgAAAU8AAAAVBAMAAAA0gXHkAAAAMFBMVEX///+IiIi6urrc3NxERETM\n",
       "zMwQEBCqqqpUVFQiIiJ2dnYyMjLu7u5mZmaYmJgAAABN0h6tAAAAAXRSTlMAQObYZgAAA2dJREFU\n",
       "SMfNl01oE0EUgF+TTXaz2WwD9thgDyLUS/dQES9tUQ96UHIoRU8pogdRaEQQejJQPSiihSI1J+ul\n",
       "4CFQKhVsWtyCSCVg40WkhRJR8FBKQ0F6sAfnd3czmWlHTy6d2ZmX6ffevDc/bwHA3YT/+0l89vHL\n",
       "WcT1ACrxhmKk6UmEdw6mD7CizVOKAWLXce02sbVDqHqP/m5IR060Se6DJWCdd+eWwB67ynpDDGre\n",
       "0uFRvRMq4gbu2pOoSmOtr1FZboPeRX6vtUmfgDMniIzGZYA11sFAAnVLWjyit6YivgoM3cbIOqr2\n",
       "gjhk6awePUVgOytxy0uhbz3ryEKSdbZZAU0e0SuKA2Jo6BQqKeSA2L4ABthBYGdUYugH9v5RLhPn\n",
       "Wsf8B5BiwilWQI9H9XJxGzEwNI6NPc2tbgfDvMTQdA95DXfz+Z8s1XxmaJxDQY/H9M4riIGhHTjq\n",
       "Oay8bm57EnBFWOY59KtdJ82lIFDe7USJGYqBBLrSJTW0Ik6a6q0oiLOkN4dXLWpcQmWteKSvIQFv\n",
       "CQ6IoSC5NDxeiLV7vqX4NmDQerIBh/O43i0FcYfswjxankXUmEbl3or/SQYeb+WeyiAjTRIuI1z6\n",
       "Hjy2rtA2BuLiep1FDR7XO64gplFwhvGST+Llhk/AL3XqsWr17c1qtRSAC+T0qOJnAbX8TqQ2gQ9g\n",
       "GMEy7ttVeENVYCAuDvT5Gjyut6AiPkT6jucjhj7vykrXVEH0gM8N7Y/OPzEz0moo2weH8pjegoKY\n",
       "xlO0hsLQO7vxXSm4VwCfx0cKCX0yioWfRmvowxvkQB7X26sg7vBdzzeT23T2bI3FT0bRzZQJDmkL\n",
       "hcbuFzaTswcaPK53S0Gc5YaSk6ZCvPtLNPQoBq8L53MT5RuZGdKeDo4Y7MENcH4DBRKouQ8aPK53\n",
       "XUqMnKMkisjvRhFy3a3gr2PLyDML4lWPZOk8aa6e8Wky9uIava7LPgUSaGYSNHhc74KcKLlCJTcJ\n",
       "CfWk5Gb6yN4nLpRb8hPTj1yhqbo2LxSLRGboaDQpCf/Jjx7wOklJMDhMShL+YF6bpxQzQ0k+amBv\n",
       "nlVmwTXZ9OcUg1eAAQ1vcOaiNk8tZvkoLEYSZ8Ujm4KhyscbYeJs5RravAM8FaPZuLl52KeIK7Pp\n",
       "+79/irje34jpN9MfmX075NqHRuAAAAAASUVORK5CYII=\n",
       "\" style=\"display:inline;vertical-align:middle;\" /></a> <a class=\"ProveItLink\" href=\"__pv_it/99d229734f272b849f0709115370c76230e948d50/proof.ipynb\" style=\"text-decoration: none\">&#x22A2;&nbsp;</a><a class=\"ProveItLink\" href=\"__pv_it/528f4189278136a9f68c47628f86222324668bb80/expr.ipynb\"><img src=\"data:image/png;base64,iVBORw0KGgoAAAANSUhEUgAAAhsAAAAUBAMAAADWwOJyAAAAMFBMVEX////MzMxUVFR2dna6uroQ\n",
       "EBCqqqqIiIgiIiJmZmYyMjJERETu7u6YmJjc3NwAAACgK8IjAAAAAXRSTlMAQObYZgAABPtJREFU\n",
       "WMOlWN9rHFUUPs0mm93NTJL/IAtFfCitiw+a2Jd9EfogxIdCqwgugtgHNXldWnQpWCwVWSwlKBii\n",
       "+GAWlFBQEWwYREntKrtvkoJ2H0T6UpJCiVBW8Jxzf8/cuRPJhTN7Z/Z85/vmzL1n7h2A2SGo9oAO\n",
       "5REUtgc51wnrwxsO0Xu7mEJBMuHyuI8knBWxqj4dorV1PGwBTGzBqVA87QjlVzx/n5KWaoaDeidg\n",
       "YlTIgY798+CG+6U9Iu7om44XFxSuwDnCSRGr+prPnjkAqNGlIdwJBdWOENdTf72eAGM9eMNBvZMQ\n",
       "bRRykOMmuOGOr7SYu9bNYBR5flPgrHDKDykiizn04IUmwK74t7QaCGo7ivaGfKTHn0oENos3HLG8\n",
       "kWehgIMdD1w50aOfBPdcS9/Jaoo8f8gpMKSw8OPTY6kIrcLjdoUOH0rgi4GotqOTDoB7icBm8Yaj\n",
       "ImfJz1DAQY6TY1dOeV9yLyfpW9LkuU2DM+mAeCwVod3nK4tUvNSM/CIQ1XHMpoOxGbzhuC+v1JoF\n",
       "HORY6rhy6Jy5F8GbjqBwDc5JBylCa9OF3fMfA0zj+NxZw7Ol/KDaEXYuetOx5MMbDuxFbZpQ3QIO\n",
       "gtS65d2RCRffuNoV3Jvw1rovHQHhBqyFu+kgRWi3+Mo/aDP4ams8j527gSQrR+hODX3puKvwpR43\n",
       "vm3Dgb3SJI7peKOAgyCD1jvLQ0vO3Krgjg6m//rXl46QcAU2wt10kCK0K/ySf0jTtQWzrU+wcyGw\n",
       "GpCOEI9UPXPTccGHNxzY+7uKxOVOAQdBVnaS3+xwe/OCuzy+FA196QgI12Aj3E0HKUI7q+vMVBMi\n",
       "fjILBQUJHdGT69lzvd57vd7nRtGCD284sJfQczq2X8BBkBtiRi3YJZa4qy/JctDrfflyr1d3yEP1\n",
       "2RJuYzkdpAjtrKoz7Fweh6NqR1PP3NGRnw6GUm8lCadDO16+uOqkY1FyV578zl9KFwrqsyvcHR0y\n",
       "HTyQZ+pyDnDnTH5Q7SjXSJl0nFF4WTvqerIwlHo30SY7BRxXaKUw+whsOTcl96C51/SmIyBcg41w\n",
       "Nx2kCI3L3NSqrJCDViNYkbQj1jMIllK7GY5bBCyFS6lyjPfZ1YQ7J7nvCZn/r5Seywj3llJ+OQ2a\n",
       "8lWzTDun6xA9posb8mDOjKOYVk463iVF16U5zXBgb3If91HVhi+8xbHE26eHJdBycLRI7hMwN59O\n",
       "hyRnT496AzbCNXaarqAiMh5gyyCHy8Qf2PkM4H2MXuGJQYfL1PnAcYRqJ5WOj17dHDKWzWmGg3on\n",
       "0a02LwKa8HWXAx1nWtC+ZORgHiX3tzC9lri3pMnZ0wSkgws2whW2+sTjT1kRq6Jl82mwF+n0ykky\n",
       "o+1NcBwr3fToUNio412knwZrkX5bBczjqIzskCyntJXZIJgnHBCeAmvhDpYV3ebtVbn+lVgOmi1c\n",
       "KSsVB5NxPJbQe5zbr85bIW8LJ6H2Fq4R4oi7Tkj8fa02tESqDCRpcs+bygZbwh2s2sLBNlR+EIVt\n",
       "RjwR2ifvZHeEyGUc9xrfewtWzgbfcGyLYBsiYIBj2w5Jcq7dsUXmkWeFu+A84WqDD32I24KCP44I\n",
       "IcPsop9MO060h96o2/aN2J9/FLSv7ymGIEffDklkv6/bIvPIPbIccJ5wUsSZTn8cjI/wjY2w8SE+\n",
       "Dv55+I+D8aE/Dh5FOCtC+w93igZ3DiIV/gAAAABJRU5ErkJggg==\n",
       "\" style=\"display:inline;vertical-align:middle;\" /></a></span><br>"
      ],
      "text/plain": [
       "eq: {((k + 1) - i) in Naturals, ((j + 1) - k) in Naturals} |- (f(i), ..f(a).., f(j + 1)) = (f(i), ..f(a).., f(k), f(k + 1), ..f(a).., f(j + 1))"
      ]
     },
     "execution_count": 16,
     "metadata": {},
     "output_type": "execute_result"
    }
   ],
   "source": [
    "eq = f_i_to_jp1.partition(k, [InSet(subtract(Add(k, one), i), Naturals),\n",
    "                              InSet(subtract(Add(j, one), k), Naturals)])"
   ]
  },
  {
   "cell_type": "code",
   "execution_count": 17,
   "metadata": {},
   "outputs": [
    {
     "data": {
      "text/html": [
       "<span style=\"font-size:20px;\"><a class=\"ProveItLink\" href=\"__pv_it/8751e2256bfe11026aa8bbf51292856f9b9a94570/expr.ipynb\"><img src=\"data:image/png;base64,iVBORw0KGgoAAAANSUhEUgAAAU8AAAAVBAMAAAA0gXHkAAAAMFBMVEX///+IiIi6urrc3NxERETM\n",
       "zMwQEBCqqqpUVFQiIiJ2dnYyMjLu7u5mZmaYmJgAAABN0h6tAAAAAXRSTlMAQObYZgAAA2dJREFU\n",
       "SMfNl01oE0EUgF+TTXaz2WwD9thgDyLUS/dQES9tUQ96UHIoRU8pogdRaEQQejJQPSiihSI1J+ul\n",
       "4CFQKhVsWtyCSCVg40WkhRJR8FBKQ0F6sAfnd3czmWlHTy6d2ZmX6ffevDc/bwHA3YT/+0l89vHL\n",
       "WcT1ACrxhmKk6UmEdw6mD7CizVOKAWLXce02sbVDqHqP/m5IR060Se6DJWCdd+eWwB67ynpDDGre\n",
       "0uFRvRMq4gbu2pOoSmOtr1FZboPeRX6vtUmfgDMniIzGZYA11sFAAnVLWjyit6YivgoM3cbIOqr2\n",
       "gjhk6awePUVgOytxy0uhbz3ryEKSdbZZAU0e0SuKA2Jo6BQqKeSA2L4ABthBYGdUYugH9v5RLhPn\n",
       "Wsf8B5BiwilWQI9H9XJxGzEwNI6NPc2tbgfDvMTQdA95DXfz+Z8s1XxmaJxDQY/H9M4riIGhHTjq\n",
       "Oay8bm57EnBFWOY59KtdJ82lIFDe7USJGYqBBLrSJTW0Ik6a6q0oiLOkN4dXLWpcQmWteKSvIQFv\n",
       "CQ6IoSC5NDxeiLV7vqX4NmDQerIBh/O43i0FcYfswjxankXUmEbl3or/SQYeb+WeyiAjTRIuI1z6\n",
       "Hjy2rtA2BuLiep1FDR7XO64gplFwhvGST+Llhk/AL3XqsWr17c1qtRSAC+T0qOJnAbX8TqQ2gQ9g\n",
       "GMEy7ttVeENVYCAuDvT5Gjyut6AiPkT6jucjhj7vykrXVEH0gM8N7Y/OPzEz0moo2weH8pjegoKY\n",
       "xlO0hsLQO7vxXSm4VwCfx0cKCX0yioWfRmvowxvkQB7X26sg7vBdzzeT23T2bI3FT0bRzZQJDmkL\n",
       "hcbuFzaTswcaPK53S0Gc5YaSk6ZCvPtLNPQoBq8L53MT5RuZGdKeDo4Y7MENcH4DBRKouQ8aPK53\n",
       "XUqMnKMkisjvRhFy3a3gr2PLyDML4lWPZOk8aa6e8Wky9uIava7LPgUSaGYSNHhc74KcKLlCJTcJ\n",
       "CfWk5Gb6yN4nLpRb8hPTj1yhqbo2LxSLRGboaDQpCf/Jjx7wOklJMDhMShL+YF6bpxQzQ0k+amBv\n",
       "nlVmwTXZ9OcUg1eAAQ1vcOaiNk8tZvkoLEYSZ8Ujm4KhyscbYeJs5RravAM8FaPZuLl52KeIK7Pp\n",
       "+79/irje34jpN9MfmX075NqHRuAAAAAASUVORK5CYII=\n",
       "\" style=\"display:inline;vertical-align:middle;\" /></a> <a class=\"ProveItLink\" href=\"__pv_it/1c2d3a699363b8ed9dfd02b3b9f77ae5273d487a0/proof.ipynb\" style=\"text-decoration: none\">&#x22A2;&nbsp;</a><a class=\"ProveItLink\" href=\"__pv_it/bde20664c238cb80cb18d8b5e878b6764c1b20950/expr.ipynb\"><img src=\"data:image/png;base64,iVBORw0KGgoAAAANSUhEUgAAAhsAAAAUBAMAAADWwOJyAAAAMFBMVEX////MzMxUVFR2dna6uroQ\n",
       "EBCqqqqIiIgiIiJmZmYyMjJERETu7u6YmJjc3NwAAACgK8IjAAAAAXRSTlMAQObYZgAABI9JREFU\n",
       "WMOlmM9rFGcYxx+zyWR/zCT5A4QEingQZfFQo172IngoJAehtlhYhEIPbZKbLIYSPIhBCQsSooWE\n",
       "tPRQFypBaEVQWYoltqHs4KVsoekeRHIJiRi2ICv0fZ535p155/210oGdzEy+n+/33dn3fd55B2Ak\n",
       "hHjbxZ3XAee2y/8o0pRXZptxmxrhGQO/m0Fn+m64JWMLd/7KGtttAAxswAmbXyz0f1pgZynpb7UO\n",
       "eW1d1HID1pscwwCfN/WshsfmptBjfWQQ4l0CS8Z9OvuwC1DESyH8bjMVwmKdnaWkH8xWudc9hcF8\n",
       "f93mKmB4YWA1fLEjocf7yCAkmLBkBPi1oPVRBaDN/5ubs5gK4WhVkvoHzyKvrkiJ/vnLyR7bn7J1\n",
       "OQGbWZVvK6gzow2ujDzd41ncLUXgtMVVCKeaktTbB+412MvGQYCXfrWYChjMrMovKagzYwlcGTt0\n",
       "ZRLr0UL07+8trkI4KUtzeG0nPtDEFStmUwGDmVV43lwJdWWIb2jOqFG/u3gXYJh1uc0VdnbabCqE\n",
       "rER8tZZIg+VFdhG9inWv3dHE5epG0wT2r2yAgVV4aoVA/dqcO4OQzatgyXhCV/5lnxKbrcrn2MFf\n",
       "lt4RC/3u8Mt3KekoeqNXq/r1VKiJCyx1TsAF+AwMLOfPNHCjal0K02hucNqdQUh9KLRkXKeO9xpH\n",
       "YBVGqt+wgy8szwaRELzevB+mpHtjbIdes5vNP3Rx3oLZVcDbcSFWWYXHViToq8K6OwORoEOTgCnj\n",
       "gqgzQxXw6dcfdxQkJoTCJ3Q+LpVY9FrmHTbXaPzwaaMxIeIO7TvqM8JNKsRaVuGHKmm0ib++KwMR\n",
       "n08CpowLoiCh2OvZb4cQ5o8+lG7HZPyNrl2d045NW1MFLAqxyhpuh0Bnm+6MFGLKoMFSmoh6Hx2c\n",
       "N5sKYauyV0lLHwDvtP7ByIE2btDSkWM4erjTspznteO7ZLAI9EEfGRy5B5YMKqVDc1FtalXL1lIq\n",
       "hP9kpB8DL2nBvt/NwXuW0hjGfHspTf8yYRqlVFcGIX4XLBk0VbYq0VQzhYuh2+C/xYvr0S45S4TH\n",
       "YHSsLKSsUwCfodma53X2dgxjXKGceAnDDMy7vJaljzxu62l0cH9XzpBbz4WEeD2wZFB3n4Kouwz8\n",
       "zQ6+BbjBmpWngYG7a3hwSxL+DMMrTSFlrQE+dEpVqM3LcYUjb1fZMBjjFujFDdFZhgHugIGlj7TR\n",
       "yEjQ46GckbQ+ySCksGDLoAfcs5B+SMcpR11YfglZYUqao8cn6Tk7ufu0PY8t5JkqAy8a2efah3Q5\n",
       "15mBSL5uy2DLH2/ix2RNxNdlOXXwsc6UESbSy0UayNIqDHzplp7iFtkeL8GH6bFGz2qXcJlcZ0Yb\n",
       "DjX3xqwZTyH/mJegEr/JuGrfVFeE7JtnhIn0ZrTSf2peUK5zi8wmwSNvSnUjq1ZJ1go5151R6uyV\n",
       "H4E1YwuCWif1PoW81RdTAX5kYSL9c42fb5ln6A63yGwyfHTVyJa0r3/kXHeGvzFQC+0Z2ZeDQf8v\n",
       "B4P+Xw5u/4+Xg9sGPvtycLvvhhsz/gPDQAMCCWzRiwAAAABJRU5ErkJggg==\n",
       "\" style=\"display:inline;vertical-align:middle;\" /></a></span>"
      ],
      "text/plain": [
       "{((k + 1) - i) in Naturals, ((j + 1) - k) in Naturals} |- (f(i), ..f(a).., f(k), f(k + 1), ..f(a).., f(j + 1)) = (f(i), ..f(a).., f(j + 1))"
      ]
     },
     "execution_count": 17,
     "metadata": {},
     "output_type": "execute_result"
    }
   ],
   "source": [
    "eq.rhs.merger([InSet(subtract(Add(k, one), i), Naturals),\n",
    "                              InSet(subtract(Add(j, one), k), Naturals)])"
   ]
  },
  {
   "cell_type": "code",
   "execution_count": 18,
   "metadata": {},
   "outputs": [
    {
     "data": {
      "text/html": [
       "<strong id=\"eq\">eq:</strong> <span style=\"font-size:20px;\"><a class=\"ProveItLink\" href=\"__pv_it/52c1faa3856dac3db77f72fcca70208fc9274ed50/expr.ipynb\"><img src=\"data:image/png;base64,iVBORw0KGgoAAAANSUhEUgAAAKkAAAAVBAMAAADP89MSAAAAMFBMVEX///+IiIi6urrc3NxERETM\n",
       "zMwQEBCqqqpUVFQiIiJ2dnYyMjLu7u5mZmaYmJgAAABN0h6tAAAAAXRSTlMAQObYZgAAAi9JREFU\n",
       "OMutlTFIHEEUht/t7Z7r3u5l0xu4Ilik2sJgJ4ekSLor5FBIIRIrxRiEtF5ABUFEEJErQkwTtLsq\n",
       "4K2QqcIFCy9lEMSgoE2ITRDUIvNmdmZ3dke9wgdvdu+/3Y837715CwClI3hAs34SvLgtXIci19pc\n",
       "lxozYxLX0gWiK9wB3pPsg3aQVhYymvvtxR44bycADvGns0aXYsAd4Dz1fs80faOZpq5mNfN4FOCA\n",
       "3uxI6p/IY5jPr+3tG7p+1uw0rdkbOR8KCnU98gwVSkj9rqEK7bTRYGHbT8ki9Cap+chvoxbLWWqk\n",
       "jfSJWJ/X94lCzXW4g/u4oqM6HbUyT3yhuXtxSd9ZdaR+Yb+amGnu4MGMjlpSS+MY40KLW8EOnPJv\n",
       "pP5lrVQF6J3lDidwqaP2KNmBQa8pNDPZfiv2GKaGbmIEi1QocwdisA2H4e5UGNYl1WI9HTKjQZBH\n",
       "fqRBDSURdRu+4t0y/be/mqDyjsjEygmxzROhDSRjtbZqGCtGY1cSGWDhZ6mGmgF4KbWCcgDPTJFX\n",
       "jE5WCw5mu6iWe+kIzfMlle7ZGRA9gFTsEt4p8yRFzSHV21IHyMWQ1DZl/2I8h8l+NdbEjn6lToG3\n",
       "dE0HZbGaGgPHUmsP8zisT2/ouq8/sR/TZ4vZD82JFdqzVw01P5w6Hk+X1/l/InXkrklymxZT2Xw1\n",
       "A/T8ldnRPZedhHqNG5uv0Iqn9gf9x8YMutN4KSd4Co/u+8KcdKnJ79Z/5SWhtzsbHk4AAAAASUVO\n",
       "RK5CYII=\n",
       "\" style=\"display:inline;vertical-align:middle;\" /></a> <a class=\"ProveItLink\" href=\"__pv_it/399ed7ad8b0e47d5a48db2403ab4882e072003a10/proof.ipynb\" style=\"text-decoration: none\">&#x22A2;&nbsp;</a><a class=\"ProveItLink\" href=\"__pv_it/28ee549d970a215a7c41b94401c1c5bf729a76f50/expr.ipynb\"><img src=\"data:image/png;base64,iVBORw0KGgoAAAANSUhEUgAAAb8AAAAUBAMAAADvkS7YAAAAMFBMVEX////MzMxUVFR2dna6uroQ\n",
       "EBCqqqqIiIgiIiJmZmYyMjJERETu7u6YmJjc3NwAAACgK8IjAAAAAXRSTlMAQObYZgAAA8pJREFU\n",
       "WMOtWM1rE0EUfyZpmo9N7B/goSDiQQrBg0Z76UXwINRDQRGFIIgXaXqT3IqgWBTJRapCi/SkC0rw\n",
       "rCWI0mqFBC/iwZCTeCmmKC2UHpz3ZnZ2ZucjSn2w29fd9/uY3beT2QUod0EEz2ZhaMSQRMw68Jsw\n",
       "RGPTzbdvLxu4CxaXeXYMUn0f34dGX0Cutc2ziLXgg5YG1TRIGQtSLTufO6Rpv5eX9N+JbZ5NQPDU\n",
       "R3q4XhOQz4kz2ctAWAu+0NegmgYpY0Gqa+dzhzTt9VJq4pHOuSmRAZz0XbTf70AWcq45/vft8T2B\n",
       "NfFfDWhcg8q8wMXnDNU0j+sWLzm6unWIMoD3Hs7sQCnUDEFpT2BN/AMDGtfUZYGLzxn1pJdogJqX\n",
       "H3SkClHG+mXKzZmeVwothhBr4MvzBjSuqcoCF58zqkkv+gCFlwb10MXHgFnQYPTpppOy9HChSYUQ\n",
       "3GzZDCHWwI82VaiuQcpYsLbo4nNFZDr2og9QeHlDR3bYxrJ05jw763myD87xQsjDFZshxHL86RDj\n",
       "OabFrgpNaOyIgsoZF58zdpJe9AEKL3eoibbYjmXf8+xgdt7N+XOMF0IPtm2GEGvgczUVqmuQMiso\n",
       "1564+Jy/gFtJL/oAhZcZOQGwrI2X+cDA/1wTpJ2hLgjDZ5fCcFySItbAj0ypUF2DlFlBQPfDyued\n",
       "8GIv2DO3w3Al6WVGTgCY1dt+0mo0QA4xrrhngBKqaRANFmT3XHzeCU/zot9B4YVatDgu7vYrtmU8\n",
       "bYHnOaTQtBlCLMfzZ3AlblEJ1TRIGQsosfK5QpqWXvQBCi80yYyICSDYTvsf7AsgHmzo1PyTjOqk\n",
       "q0J1DVLGgk6t8o+TTGQ69mKdZE5RBTYRyzIDturNV6CDvLgLdtWErUaAF/JG0wyNIinD0qb3UlOF\n",
       "ahpcGQumxarZ4DO9qFDNixyg6uUsHpjGHWYTTKUwBrn72DjYArei5C6SZAZRITxK/DDnj+wuEZY2\n",
       "LajPYqiqwZWxIPXNwWfxokA1L9EANS+01pkEZdWzzrYb5pyFA0y3ZOFCcuUhsevWpZoCVTUmwbVU\n",
       "83hRoJoXeQdVL2y1mh1/QY2rLIQr5pzFtquFrig8RD9C1LXam4pzsR1DVQ2hrC62TT7TiwLVvMAn\n",
       "m5dVyL3mj/IqV8B2nzM419h27yPPV8u/itY1lON1qdiPoZpGpFx0vPc5vKjQ4V42oNTg/BtSrGTW\n",
       "4w34sgyi8OiSfebuW82y99kYqmpEykELnHwWLyp0uJfkJ4vePj4T9Bz45CeL3l9+svgPXv4ArW+p\n",
       "a9zFqPwAAAAASUVORK5CYII=\n",
       "\" style=\"display:inline;vertical-align:middle;\" /></a></span><br>"
      ],
      "text/plain": [
       "eq: {((j + 1) - i) in Naturals} |- (f(i), ..f(a).., f(j + 1)) = (f(i), f(i + 1), ..f(a).., f(j + 1))"
      ]
     },
     "execution_count": 18,
     "metadata": {},
     "output_type": "execute_result"
    }
   ],
   "source": [
    "eq = f_i_to_jp1.partition(i, [InSet(subtract(Add(j, one), i), Naturals)])"
   ]
  },
  {
   "cell_type": "code",
   "execution_count": 19,
   "metadata": {},
   "outputs": [
    {
     "data": {
      "text/html": [
       "<span style=\"font-size:20px;\"><a class=\"ProveItLink\" href=\"__pv_it/52c1faa3856dac3db77f72fcca70208fc9274ed50/expr.ipynb\"><img src=\"data:image/png;base64,iVBORw0KGgoAAAANSUhEUgAAAKkAAAAVBAMAAADP89MSAAAAMFBMVEX///+IiIi6urrc3NxERETM\n",
       "zMwQEBCqqqpUVFQiIiJ2dnYyMjLu7u5mZmaYmJgAAABN0h6tAAAAAXRSTlMAQObYZgAAAi9JREFU\n",
       "OMutlTFIHEEUht/t7Z7r3u5l0xu4Ilik2sJgJ4ekSLor5FBIIRIrxRiEtF5ABUFEEJErQkwTtLsq\n",
       "4K2QqcIFCy9lEMSgoE2ITRDUIvNmdmZ3dke9wgdvdu+/3Y837715CwClI3hAs34SvLgtXIci19pc\n",
       "lxozYxLX0gWiK9wB3pPsg3aQVhYymvvtxR44bycADvGns0aXYsAd4Dz1fs80faOZpq5mNfN4FOCA\n",
       "3uxI6p/IY5jPr+3tG7p+1uw0rdkbOR8KCnU98gwVSkj9rqEK7bTRYGHbT8ki9Cap+chvoxbLWWqk\n",
       "jfSJWJ/X94lCzXW4g/u4oqM6HbUyT3yhuXtxSd9ZdaR+Yb+amGnu4MGMjlpSS+MY40KLW8EOnPJv\n",
       "pP5lrVQF6J3lDidwqaP2KNmBQa8pNDPZfiv2GKaGbmIEi1QocwdisA2H4e5UGNYl1WI9HTKjQZBH\n",
       "fqRBDSURdRu+4t0y/be/mqDyjsjEygmxzROhDSRjtbZqGCtGY1cSGWDhZ6mGmgF4KbWCcgDPTJFX\n",
       "jE5WCw5mu6iWe+kIzfMlle7ZGRA9gFTsEt4p8yRFzSHV21IHyMWQ1DZl/2I8h8l+NdbEjn6lToG3\n",
       "dE0HZbGaGgPHUmsP8zisT2/ouq8/sR/TZ4vZD82JFdqzVw01P5w6Hk+X1/l/InXkrklymxZT2Xw1\n",
       "A/T8ldnRPZedhHqNG5uv0Iqn9gf9x8YMutN4KSd4Co/u+8KcdKnJ79Z/5SWhtzsbHk4AAAAASUVO\n",
       "RK5CYII=\n",
       "\" style=\"display:inline;vertical-align:middle;\" /></a> <a class=\"ProveItLink\" href=\"__pv_it/1c5254056b0fd6c264818e0702d17b3d54a806d60/proof.ipynb\" style=\"text-decoration: none\">&#x22A2;&nbsp;</a><a class=\"ProveItLink\" href=\"__pv_it/2af88be4a5ce467941e8cb9e52e22ce435e6c4e50/expr.ipynb\"><img src=\"data:image/png;base64,iVBORw0KGgoAAAANSUhEUgAAAb8AAAAUBAMAAADvkS7YAAAAMFBMVEX////MzMxUVFR2dna6uroQ\n",
       "EBCqqqqIiIgiIiJmZmYyMjJERETu7u6YmJjc3NwAAACgK8IjAAAAAXRSTlMAQObYZgAABAxJREFU\n",
       "WMOlmM9rE0EUx1+bNM2P3bZ/gGCgiAepFg9a9ZKL0INQDwU9KAZB9CBtbxI8WATFokhQpCq0VPHS\n",
       "gBJ6EzQEUVqtkOJFKlhzkl6kESVC6cH33s5uNjvzxkoHXpjdzOd93+y8mZ1ZgJ4VUMWrjUGk/ABj\n",
       "SdThn0VAmTXx/4zFhkTKmM8v048zPevV9kFnSPh9oQ5OGaCzbPCw36bLDgmFxBmBNfC2WAQNRi5U\n",
       "9X+JZf4FXx1qerUBcOZajfrH85CmhtHHRB4/2MTZIaHgZgXWwNtiETQY+RTNEHyoxJK5RbpTO5FT\n",
       "NYDDrUf0+y3Aagi8qO73H8AgYxMWcXLYhuqszttiETT8hm0abw5uKRYtyVkwDn4N4F3rQTTw567u\n",
       "AOAbBumctIiTwzZUZ3XeFougkaybNNwtxaKt850h8GuYWDm/fWwSJ/GkFCQ8s4iTwzbUwGq8LRZB\n",
       "Yx3EDhKLVqAbq6cfAdWcAqWOP+rug6kidOPV4rQxyCOyNjskFBaviqzGW2KRNAhxrpRNHSQW7TXf\n",
       "+YOGtVgc08YNZnYvSmRwfRk8bgzyi+XpkkNCodi1IrHMx0pcuCO2WAQNQlJw1tRBYtFu8svkJ/5g\n",
       "7XsKbyaCzNrowyTPQ0/+sbGDlyxvJ3KIKLj13rzEarwtFkGDkDVomjpILNposJpgrUpj1tEIz+Ku\n",
       "HDj8rOBoqXSjVHraCnK3LM4OEUV2pCqxGm+LRdAgpBrfisTHHSQWbdRfTbg2Xg07HVJRJraMI2jp\n",
       "IDvsyvlOzKy5g0IsgkYL0UZQdZDTIpNVo72AFg/SYkHlWSZrDHJYFmciyck5L7LDoTmYDVJUiEXQ\n",
       "YCRdNHWQWDSe2F0T3nx1mrHwxD6lVopafvA/Fxl2yIuM0wTrIhMutlgEDUZqecsiw2t1Leet2vEG\n",
       "bo9Tg1Cb8zYyarEd6YmuhNcoyPvgbBJMeyKqBFfKIa/xenor1rO2IscSaARXrYZeMrdpdJMosmSc\n",
       "JyOgMmYAe5Lug+QduhFvqIHu/BpxcO/cPDZ8AnALXScpVa6D+vFQdsj5lZqUWLa2IscSaHAlpMHI\n",
       "w8iLPrVnc4ZZ5mmvcwxCu54ltMs8PcogbdV4gGkZ1rfxjLJDRpNFiXUmjVs1cyySBjecMsa35Bnu\n",
       "VhPZ562trrdJpTl3Ps2JGd4xf2xbxWinoYsjqhwi2lGld6nAmjbbQiyiBjbcxS9EXUNttqECyVfe\n",
       "VK54D5fSnbRve+eZjHQmo78X9UMaor7DTH1j8KXIGo5LYiyyRqXnV8a4n/OPS3hidAv11nGTO+RS\n",
       "5fOs17AsdJBi0I/ThPoOnXJnYUVkK6YDrxCLrLEMe2fMb5G6GpzoZ4K1bX53cHfwyYJYdxufLNZ2\n",
       "8MlizbO/GOSusWTlVYAAAAAASUVORK5CYII=\n",
       "\" style=\"display:inline;vertical-align:middle;\" /></a></span>"
      ],
      "text/plain": [
       "{((j + 1) - i) in Naturals} |- (f(i), f(i + 1), ..f(a).., f(j + 1)) = (f(i), ..f(a).., f(j + 1))"
      ]
     },
     "execution_count": 19,
     "metadata": {},
     "output_type": "execute_result"
    }
   ],
   "source": [
    "eq.rhs.merger([InSet(subtract(Add(j, one), i), Naturals)])"
   ]
  },
  {
   "cell_type": "code",
   "execution_count": 20,
   "metadata": {},
   "outputs": [
    {
     "data": {
      "text/html": [
       "<strong id=\"eq\">eq:</strong> <span style=\"font-size:20px;\"><a class=\"ProveItLink\" href=\"__pv_it/2cf19db258a57882a809bd32b7d1f5d04e33a14e0/expr.ipynb\"><img src=\"data:image/png;base64,iVBORw0KGgoAAAANSUhEUgAAAHUAAAAVBAMAAACK3rzVAAAAMFBMVEX///+IiIi6urrc3NxERETM\n",
       "zMwQEBCqqqpUVFQiIiJ2dnYyMjLu7u5mZmaYmJgAAABN0h6tAAAAAXRSTlMAQObYZgAAAdJJREFU\n",
       "OMtjYGDgu8dAMmC9eABE8ewCkXbY1bAb4NDMlAoi+T6ADHAAKcxBU8DhwNCMKsKz32UPA1d+EgPD\n",
       "bRCXawKQ4AaZz9eArvcBw2k0IZYHEQwM54GMlXC9b3F5jEsAzbipjAIMbCh6J+PSy5MAoZ/MnLkB\n",
       "rFflQCsDJ7Je5gk4Q3QTmAyRgdlr2nD6AIpexgtAxkERNG0HLwKJtWDb98DdbFDI2gDSuwzM2wAK\n",
       "ASDjAtsDVL0L1IDEa4gOhF4uhYcgve9BvLIABgbOAmAoG/AXoGhlLgDFQyU4dBFhZcDQwxEJihmg\n",
       "U0NAwcSmAHQXgz4orfDsBoMAkMBHID8epCMMJLQBqvcEwzYQqxMYA2oBEL1Q7yMnqj8wvSbI9rIu\n",
       "CAPZ2wBJPGA3MzDsRU8HIGlNEIsNWS/DcxaYf0HhDA4rnu9oes8XLICGFS88hXAAXcllAgtnkF6u\n",
       "CzAnIgN9ZqCRt8DM6TAxbpALbyPHLxMobfCiJxCOd0BiK5h5wukAJO/NTwGSpzHSJOcFbGkSaqCW\n",
       "JyRNwgFEbwI4L7AesA8gIi+g6gXnXxYD+wW+2JScxpXOwfmXYRc473PIPsCmxBlXuZEESQL3cJc5\n",
       "fAZ4yisAeKNx2u3CNwQAAAAASUVORK5CYII=\n",
       "\" style=\"display:inline;vertical-align:middle;\" /></a> <a class=\"ProveItLink\" href=\"__pv_it/26465f18e11e97cf18635a5885294f75410b62c20/proof.ipynb\" style=\"text-decoration: none\">&#x22A2;&nbsp;</a><a class=\"ProveItLink\" href=\"__pv_it/b1472131e5250050d2d0a4da266e9a1f6e139c480/expr.ipynb\"><img src=\"data:image/png;base64,iVBORw0KGgoAAAANSUhEUgAAAXsAAAAUBAMAAACexYADAAAAMFBMVEX////MzMxUVFR2dna6uroQ\n",
       "EBCqqqqIiIgiIiJmZmYyMjJERETu7u6YmJjc3NwAAACgK8IjAAAAAXRSTlMAQObYZgAAA0NJREFU\n",
       "SMelV71rVEEQ/yV3udzHuyR/gOCBiIUkBAsTsUlpIcQioIXCIQgWYtLJYXNYCEGRAxG1SEjARkEJ\n",
       "doKGQwzGWCTYSCyOV4mNJKJECCmc2c+3bt5LuB347c2bnZmd293ZnQUGNqBIcjdxICmTQiyR0t2F\n",
       "R588259WLvo+cxM9npfcSfTGWeMYRVxrY4R+RnydAI8eJW0/NWJESzxvl4Vc9L0SWqd3JDeMaCFr\n",
       "MKOIL8AaJP6jAI8OUZSO7bHpOsoccrUm5Ixqi3vWz08oDhjLGiypiNyMhEshHpP0/tSeYxv9+QBs\n",
       "6q8xiaJYnWloDljJGiypiOiChEshHt152HNsC9vUPNBfKxI/xMc4NAeUJzIGSyoCzxQcCvLohW9t\n",
       "c01K8SYSPgkN5jcvPQVzUYO3Qyt9LK2I6Bbn0BkFh4I8euEb2+qj2Rb6+evjbSUnvBN9fwnE5fK0\n",
       "FapZmaYUUcIVar8pIPdCkBgqyKMXvrUdpImo8AHb6tuQcsJdcez+ooa47yUSFpoZ57NSRAd0XuC6\n",
       "gkNBHr3wre3WECVJncTxYF3KCVMmK4hr8z/s2U4fTCuinWffRxUcCvKINbGMiyZ8a8s53kc7PsJk\n",
       "W8oJUzorBDfdzh7MKEouPfxuPXqzb23HVfiSU+GLpa7U1Aq+JuQzltooosz7/JyC3vs1s3m69eiF\n",
       "b23ZE28e4LmSE0Si9c3I/Il2ctmJphXptqknUzdJQR4zUvciVOpGOzCpK8699Ql5Aua3qSIqjWKd\n",
       "bbiJdhUjG6MoNwUeKjgU5DFJ/Ry+tqVLVx+jBSVniLWfhNoFw/TvykMo3ueF4mW9oxkhsop4ws2i\n",
       "gkNBHhNUOr47Z21pIvRWKnFDctHH9/VZJG7uVcINf5WFyCrO8oQ0JfYpGrr06JOxzYlbjYuGYkvJ\n",
       "V0WBVai9tKWWLIZGfT8ksopHxHGdWrJ17dEnbXu1LJ4Em+hp8wWgSzYso/hWpseyrMN4g874ZTmJ\n",
       "jOLA70oLqQVzgEdfSdvekwNV4q3RN1q+IB4X1UZsnxmkQLOxT/3EMIon5nR0y/s9V7r26J+r2vbr\n",
       "vPw7S72NDSVneE+7zqGfdtVY4qDH4uE9+tRJeSx2JP4B0GJx3OWlAr8AAAAASUVORK5CYII=\n",
       "\" style=\"display:inline;vertical-align:middle;\" /></a></span><br>"
      ],
      "text/plain": [
       "eq: {(j - i) in Naturals} |- (f(i), ..f(a).., f(j)) = (f(i), ..f(a).., f(j - 1), f(j))"
      ]
     },
     "execution_count": 20,
     "metadata": {},
     "output_type": "execute_result"
    }
   ],
   "source": [
    "eq = f_i_to_j.partition(subtract(j, one), [InSet(subtract(j, i), Naturals)])"
   ]
  },
  {
   "cell_type": "code",
   "execution_count": 21,
   "metadata": {},
   "outputs": [
    {
     "data": {
      "text/html": [
       "<span style=\"font-size:20px;\"><a class=\"ProveItLink\" href=\"__pv_it/d687abcec3152afe51495eaae0f82c6062b0d38a0/expr.ipynb\"><img src=\"data:image/png;base64,iVBORw0KGgoAAAANSUhEUgAAAEUAAAAVBAMAAADiLT7tAAAAMFBMVEX///+IiIi6urrc3NxERETM\n",
       "zMwQEBCqqqpUVFQiIiJ2dnYyMjLu7u5mZmaYmJgAAABN0h6tAAAAAXRSTlMAQObYZgAAATNJREFU\n",
       "KM9jYGDgu8eAE7BePACieHYx4AFMqSCS7wOYU3YAWYpnv8seBq78JAaG2yAu1wSw6AtU/SwPIhgY\n",
       "zgMZK5HUoAGOqYwCDGzY1TyZOXMDWI3KgVYGTqxqQmRg5pg2nD6AqoZH0AHs1D1wuwwKWRtAapaB\n",
       "eSCzeRnyIDIINVwKD0Fq3oM9HQAkHjN8B/sG4WYDhh6OSCCD+wLQBZNBQgeY/oCosN1AsAGq5gTD\n",
       "NhCrU4CBQS0A4XITZHNYF4SBzGkA8cCuBRnJAA4QuBqG5yww90BMOF8AInkF4GqApnOZwPwFUVMP\n",
       "ia7pMDXcID23UcPwJkTqhBNELev8FCB5GlXNXKh+LU9IXMABRE0CA0MM81dcCWglNP0w/2K5gEsN\n",
       "OP0wANNhI87kypQEptgJpWcAcJNQISK8PfQAAAAASUVORK5CYII=\n",
       "\" style=\"display:inline;vertical-align:middle;\" /></a> <a class=\"ProveItLink\" href=\"__pv_it/9f949abe578cf462257fa6b91b8de837b5536a700/proof.ipynb\" style=\"text-decoration: none\">&#x22A2;&nbsp;</a><a class=\"ProveItLink\" href=\"__pv_it/cb0c91d4903e0b6e4d0d598e3b6cb8c5b9e73d210/expr.ipynb\"><img src=\"data:image/png;base64,iVBORw0KGgoAAAANSUhEUgAAAJQAAAAUBAMAAACZogk/AAAAMFBMVEX////MzMxUVFR2dna6uroQ\n",
       "EBCqqqqIiIgiIiJmZmYyMjJERETu7u6YmJjc3NwAAACgK8IjAAAAAXRSTlMAQObYZgAAAXZJREFU\n",
       "OMuVlL9Lw0AUx79tajVtEv0DHLqIa3Hxx+To5uKo0EW66SjFJYuCW0aXQnUzg7g6KEEQRQWLf0DJ\n",
       "6FZFcBAH70e8612e0jz4tunn7n1z9+h7QNCHEBk7BSjwmAnbSX6xnFIpFK1uAueQwgux6PUwFgX8\n",
       "BvwIQrm4Wfhmn4u/P9skNWIqlSLew5NuLSuLGvGa6Q+r2iplpagRnUze3gVl5USUlZOryN0+cAUp\n",
       "F1uUld+jrCR1YhHCNpro45B9cw3wSVlVQ8pKUbU3nW5hgz1wJRW+Bw/iRScqqfTGH1fi+CCOTy06\n",
       "Eh7WE2UFJ6ROpZLaJNWxBHVB1CLKqkJeUNKsVg3Bz3TZ8dwqWnbjhqzSy5DCrt2CkzzJbVpWJtX9\n",
       "xPAapHBsLbpzX1127RnTyqJ6dzjSOEfkX/7ebhyT6v7LWplpNngnrVTjPpE0i1Iy5Oe85go+6tR0\n",
       "IMcJQYfNSz365rvkoerpWLTcEWP434E8KEB/ALoogzCVYaRvAAAAAElFTkSuQmCC\n",
       "\" style=\"display:inline;vertical-align:middle;\" /></a></span>"
      ],
      "text/plain": [
       "{j in Naturals} |- ((j - 1) + 1) = j"
      ]
     },
     "execution_count": 21,
     "metadata": {},
     "output_type": "execute_result"
    }
   ],
   "source": [
    "Add(subtract(j, one), one).simplification([InSet(j, Naturals)])"
   ]
  },
  {
   "cell_type": "code",
   "execution_count": 22,
   "metadata": {},
   "outputs": [
    {
     "data": {
      "text/html": [
       "<span style=\"font-size:20px;\"><a class=\"ProveItLink\" href=\"__pv_it/2cf19db258a57882a809bd32b7d1f5d04e33a14e0/expr.ipynb\"><img src=\"data:image/png;base64,iVBORw0KGgoAAAANSUhEUgAAAHUAAAAVBAMAAACK3rzVAAAAMFBMVEX///+IiIi6urrc3NxERETM\n",
       "zMwQEBCqqqpUVFQiIiJ2dnYyMjLu7u5mZmaYmJgAAABN0h6tAAAAAXRSTlMAQObYZgAAAdJJREFU\n",
       "OMtjYGDgu8dAMmC9eABE8ewCkXbY1bAb4NDMlAoi+T6ADHAAKcxBU8DhwNCMKsKz32UPA1d+EgPD\n",
       "bRCXawKQ4AaZz9eArvcBw2k0IZYHEQwM54GMlXC9b3F5jEsAzbipjAIMbCh6J+PSy5MAoZ/MnLkB\n",
       "rFflQCsDJ7Je5gk4Q3QTmAyRgdlr2nD6AIpexgtAxkERNG0HLwKJtWDb98DdbFDI2gDSuwzM2wAK\n",
       "ASDjAtsDVL0L1IDEa4gOhF4uhYcgve9BvLIABgbOAmAoG/AXoGhlLgDFQyU4dBFhZcDQwxEJihmg\n",
       "U0NAwcSmAHQXgz4orfDsBoMAkMBHID8epCMMJLQBqvcEwzYQqxMYA2oBEL1Q7yMnqj8wvSbI9rIu\n",
       "CAPZ2wBJPGA3MzDsRU8HIGlNEIsNWS/DcxaYf0HhDA4rnu9oes8XLICGFS88hXAAXcllAgtnkF6u\n",
       "CzAnIgN9ZqCRt8DM6TAxbpALbyPHLxMobfCiJxCOd0BiK5h5wukAJO/NTwGSpzHSJOcFbGkSaqCW\n",
       "JyRNwgFEbwI4L7AesA8gIi+g6gXnXxYD+wW+2JScxpXOwfmXYRc473PIPsCmxBlXuZEESQL3cJc5\n",
       "fAZ4yisAeKNx2u3CNwQAAAAASUVORK5CYII=\n",
       "\" style=\"display:inline;vertical-align:middle;\" /></a> <a class=\"ProveItLink\" href=\"__pv_it/ae9b75f4d8de5695138b5f8f30e66118d5ddea9e0/proof.ipynb\" style=\"text-decoration: none\">&#x22A2;&nbsp;</a><a class=\"ProveItLink\" href=\"__pv_it/702e5e27e715306507ea41a292060489cd31481b0/expr.ipynb\"><img src=\"data:image/png;base64,iVBORw0KGgoAAAANSUhEUgAAAXsAAAAUBAMAAACexYADAAAAMFBMVEX////MzMxUVFR2dna6uroQ\n",
       "EBCqqqqIiIgiIiJmZmYyMjJERETu7u6YmJjc3NwAAACgK8IjAAAAAXRSTlMAQObYZgAAA3tJREFU\n",
       "SMell79rFEEUx19yl/N+7Cb5AywCIhYSCBYmapPSQohFIBYKh2AnuXRy2BwWYlDCNmIsEtQugnKk\n",
       "EzQsYkhMiiw2kua4SmxCIsoJIYXz3u7OvLmZnVUcmOXd28/3++ZuZm5nAYYjSFoczUNuU5K+Np9B\n",
       "zmf4HsA/1z4A3XEXL96z1Tg6D4Ndl1qCcCc073Lt52ZXkpi3+HptDcyrjSBJSjdBOr6luhd7cTQO\n",
       "3guXhQThS98d4alpzzTqksS8xbfa1cC82giSxB+Tjn6Ad/auTScRwKTLgoNa+3jhRNN6vz6BIiet\n",
       "vvsG6KpN4D7ojmX6BRqQRgCbruFzUG/+iaYtHXFy0+q7ZICu2gQuge74nT5MQRqJKZ12eHDQMnyl\n",
       "LbQ4iXnDd7hlgK7aCMYS5tikWbzxHDDymgsCC7ItUhC8e23b8KXWf7oYMBLzhu+pgIN5tQkkydZ9\n",
       "kI4f6N5v0UVUKF4XnGv/JCBU4JZt+Eo7ssBJzMf3Lr/GtoZhLeJgbm0ESRIMRdLxIU3jD3ER0beK\n",
       "SJZajn/8BIQO9GzDV9rDUU5i3vAt1zmYWxtBlPjdkbp0nJW7QkQhfsOBo5ztg5KwiKOFHfotX8rh\n",
       "Ky3ucUVi3vAdmuZgbu1GIvFgJpSOs3L7YNQI3RYSjCPj11faKeCkY/gSzKs9pUkSR1o8tbFkptdF\n",
       "LzomUIJQDWzDV1p0UiTm43vx2n+lFo8E82qvS8kaSEfaukPJ9vF6Bff2SUHx/Kq7t+4ccFJtXf5b\n",
       "RBzMrT2XSrweSMdLVAHnRETFI3EiqkzAHrrgxTtOgvgiwXiq9b9BHH6qFY9I4KTIU9dXYsBBXlsv\n",
       "S59ikCSlpBL2q3hrBi8YjYtvVx2F8hOcKFwoD9KAUgqE5b6xVM4eryitGIxGijx1rdFKUSCvrcri\n",
       "5VGYgiSptJQjPa6vAHtwb4t+15w7Silw0TrBUltoa+R20s1DAwMza5dCCaKkHChHcVgqjb2hxcuO\n",
       "TRPmyERKgafpAWC2VHu7Gmlk5pFNgY7aBeW4DwMhPSlSxw0ov483zEZ8sMPVtmCe90RKgsM/a9an\n",
       "u9Q+3gFOZhyYa10FumpvKcda93DiHTDHXfCb8dTtpp7gW44c2CV4bsX+v5pqv64CJzFfs76uKNBR\n",
       "O1KOXnuwGXHH/pfFzn+8LHYyyE6Gb//L4l/UPgDu+AcNwnpqAUmzwgAAAABJRU5ErkJggg==\n",
       "\" style=\"display:inline;vertical-align:middle;\" /></a></span>"
      ],
      "text/plain": [
       "{(j - i) in Naturals} |- (f(i), ..f(a).., f(j - 1), f(j)) = (f(i), ..f(a).., f(j))"
      ]
     },
     "execution_count": 22,
     "metadata": {},
     "output_type": "execute_result"
    }
   ],
   "source": [
    "eq.rhs.merger([InSet(subtract(j, i), Naturals), InSet(j, Naturals)])"
   ]
  },
  {
   "cell_type": "code",
   "execution_count": 23,
   "metadata": {},
   "outputs": [],
   "source": [
    "%end demonstrations"
   ]
  },
  {
   "cell_type": "code",
   "execution_count": null,
   "metadata": {},
   "outputs": [],
   "source": []
  }
 ],
 "metadata": {
  "kernelspec": {
   "display_name": "Python 3",
   "language": "python",
   "name": "python3"
  }
 },
 "nbformat": 4,
 "nbformat_minor": 0
}
