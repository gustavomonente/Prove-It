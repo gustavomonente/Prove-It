{
 "cells": [
  {
   "cell_type": "markdown",
   "metadata": {},
   "source": [
    "Demonstrations for context <a href=\"_context_.ipynb\" class=\"ProveItLink\">proveit.core_expr_types.tuples</a>\n",
    "========"
   ]
  },
  {
   "cell_type": "code",
   "execution_count": null,
   "metadata": {},
   "outputs": [],
   "source": [
    "import proveit\n",
    "from proveit import Lambda, ExprTuple, Len\n",
    "from proveit._common_ import a, b, f, i, j, k, l, n, x, y, xx, yy\n",
    "from proveit.logic import InSet\n",
    "#from proveit.logic.equality._theorems_ import multiVarSubstitution\n",
    "from proveit.number import Add, Mult, Neg, subtract, Naturals, Integers, one, two\n",
    "from proveit.core_expr_types._common_ import (\n",
    "    a_i_to_j, x_1_to_n, y_1_to_n, f_i_to_j, f_i_to_jp1)\n",
    "%begin demonstrations"
   ]
  },
  {
   "cell_type": "code",
   "execution_count": null,
   "metadata": {},
   "outputs": [],
   "source": [
    "assumptions = [InSet(Add(j, Neg(i), one), Naturals), \n",
    "               InSet(i, Naturals), InSet(j, Naturals)]"
   ]
  },
  {
   "cell_type": "code",
   "execution_count": null,
   "metadata": {},
   "outputs": [],
   "source": [
    "f_i_to_jp1"
   ]
  },
  {
   "cell_type": "code",
   "execution_count": null,
   "metadata": {},
   "outputs": [],
   "source": [
    "eq = f_i_to_jp1.partition(j, assumptions)"
   ]
  },
  {
   "cell_type": "code",
   "execution_count": null,
   "metadata": {},
   "outputs": [],
   "source": [
    "eq.rhs.merger(assumptions)"
   ]
  },
  {
   "cell_type": "code",
   "execution_count": null,
   "metadata": {},
   "outputs": [],
   "source": [
    "f_i_to_j__shift__eq = \\\n",
    "    f_i_to_j.shift_equivalence(new_shift=one, assumptions=[InSet(subtract(Add(j, one), i),\n",
    "                                                                 Naturals)])"
   ]
  },
  {
   "cell_type": "code",
   "execution_count": null,
   "metadata": {},
   "outputs": [],
   "source": [
    "f_i_to_j__shift__eq.rhs"
   ]
  },
  {
   "cell_type": "code",
   "execution_count": null,
   "metadata": {},
   "outputs": [],
   "source": [
    "Add(subtract(i, one), one).simplification([InSet(i, Integers)])"
   ]
  },
  {
   "cell_type": "code",
   "execution_count": null,
   "metadata": {},
   "outputs": [],
   "source": [
    "Add(Add(i, Neg(two)), two).simplification([InSet(i, Integers)])"
   ]
  },
  {
   "cell_type": "code",
   "execution_count": null,
   "metadata": {},
   "outputs": [],
   "source": [
    "Add(subtract(j, one), one).simplification([InSet(j, Integers)])"
   ]
  },
  {
   "cell_type": "code",
   "execution_count": null,
   "metadata": {},
   "outputs": [],
   "source": [
    "Add(subtract(j, two), two).simplification([InSet(j, Integers)])"
   ]
  },
  {
   "cell_type": "code",
   "execution_count": null,
   "metadata": {},
   "outputs": [],
   "source": [
    "f_i_to_j__shift__eq.rhs.entries[0].shift_equivalence(\n",
    "    old_shift=one, new_shift=two, \n",
    "    assumptions=[InSet(j, Integers), InSet(i, Integers),\n",
    "                 InSet(subtract(j, subtract(i, one)), Naturals)])"
   ]
  },
  {
   "cell_type": "code",
   "execution_count": null,
   "metadata": {},
   "outputs": [],
   "source": []
  },
  {
   "cell_type": "code",
   "execution_count": null,
   "metadata": {},
   "outputs": [],
   "source": [
    "tup=ExprTuple(a, b)"
   ]
  },
  {
   "cell_type": "code",
   "execution_count": null,
   "metadata": {},
   "outputs": [],
   "source": [
    "Len(a_i_to_j).computation([InSet(Add(j, Neg(i), one), Naturals)],\n",
    "                          simplify=False)"
   ]
  },
  {
   "cell_type": "code",
   "execution_count": null,
   "metadata": {},
   "outputs": [],
   "source": [
    "tup.prove([tup]).instantiate({a:a_i_to_j},\n",
    "                            assumptions=[InSet(Add(j, Neg(i), one), Naturals)])"
   ]
  },
  {
   "cell_type": "code",
   "execution_count": null,
   "metadata": {},
   "outputs": [],
   "source": []
  },
  {
   "cell_type": "code",
   "execution_count": null,
   "metadata": {},
   "outputs": [],
   "source": [
    "eq = f_i_to_jp1.partition(k, [InSet(subtract(Add(k, one), i), Naturals),\n",
    "                              InSet(subtract(Add(j, one), k), Naturals)])"
   ]
  },
  {
   "cell_type": "code",
   "execution_count": null,
   "metadata": {},
   "outputs": [],
   "source": [
    "eq.rhs.merger([InSet(subtract(Add(k, one), i), Naturals),\n",
    "                              InSet(subtract(Add(j, one), k), Naturals)])"
   ]
  },
  {
   "cell_type": "code",
   "execution_count": null,
   "metadata": {},
   "outputs": [],
   "source": [
    "eq = f_i_to_jp1.partition(i, [InSet(subtract(Add(j, one), i), Naturals)])"
   ]
  },
  {
   "cell_type": "code",
   "execution_count": null,
   "metadata": {},
   "outputs": [],
   "source": [
    "eq.rhs.merger([InSet(subtract(Add(j, one), i), Naturals)])"
   ]
  },
  {
   "cell_type": "code",
   "execution_count": null,
   "metadata": {},
   "outputs": [],
   "source": [
    "eq = f_i_to_j.partition(subtract(j, one), [InSet(subtract(j, i), Naturals)])"
   ]
  },
  {
   "cell_type": "code",
   "execution_count": null,
   "metadata": {},
   "outputs": [],
   "source": [
    "Add(subtract(j, one), one).simplification([InSet(j, Naturals)])"
   ]
  },
  {
   "cell_type": "code",
   "execution_count": null,
   "metadata": {},
   "outputs": [],
   "source": [
    "eq.rhs.merger([InSet(subtract(j, i), Naturals), InSet(j, Naturals)])"
   ]
  },
  {
   "cell_type": "code",
   "execution_count": null,
   "metadata": {},
   "outputs": [],
   "source": [
    "%end demonstrations"
   ]
  },
  {
   "cell_type": "code",
   "execution_count": null,
   "metadata": {},
   "outputs": [],
   "source": []
  }
 ],
 "metadata": {
  "kernelspec": {
   "display_name": "Python 3",
   "language": "python",
   "name": "python3"
  }
 },
 "nbformat": 4,
 "nbformat_minor": 0
}
