{
 "cells": [
  {
   "cell_type": "markdown",
   "metadata": {},
   "source": [
    "Proof of <a class=\"ProveItLink\" href=\"../../../_context_.ipynb\">proveit</a>.<a class=\"ProveItLink\" href=\"../../_context_.ipynb\">core_expr_types</a>.<a class=\"ProveItLink\" href=\"../_context_.ipynb\">tuples</a>.<a class=\"ProveItLink\" href=\"../_theorems_.ipynb#len_of_ranges_with_repeated_indices_from_1\">len_of_ranges_with_repeated_indices_from_1</a> theorem\n",
    "========"
   ]
  },
  {
   "cell_type": "code",
   "execution_count": 1,
   "metadata": {},
   "outputs": [],
   "source": [
    "import proveit\n",
    "context = proveit.Context('..') # the theorem's context is in the parent directory"
   ]
  },
  {
   "cell_type": "code",
   "execution_count": 2,
   "metadata": {},
   "outputs": [
    {
     "name": "stdout",
     "output_type": "stream",
     "text": [
      "Beginning proof of len_of_ranges_with_repeated_indices_from_1\n",
      "Recorded 'presuming' information\n",
      "Presuming previous theorems (applied transitively).\n"
     ]
    },
    {
     "data": {
      "text/html": [
       "<strong id=\"len_of_ranges_with_repeated_indices_from_1\">len_of_ranges_with_repeated_indices_from_1:</strong> <a class=\"ProveItLink\" href=\"../__pv_it/41fffdd466643a2ac4db13aa422b84c8e57162270/expr.ipynb\"><img src=\"data:image/png;base64,iVBORw0KGgoAAAANSUhEUgAAApAAAAAyBAMAAAAZ0PavAAAAMFBMVEX///8QEBCIiIhmZma6urrM\n",
       "zMxUVFQiIiJERETc3Nzu7u6qqqp2dnaYmJgyMjIAAAAcRTyBAAAAAXRSTlMAQObYZgAACG1JREFU\n",
       "eNrlm31sE2Ucx39d37br3bYYEJEolSXIHyarzGAImw5NNFEjHX+YmJisvpCIgVgzIyCETExwoIuV\n",
       "PwRmlhVUQIiuhEzERFcBRSVAI2gkiiwBTTSRjLkRGAg+r3fPvfR6h7terE/S9vr0+9zv93zunrff\n",
       "PQVwkKZfuwITmA5CpSQpRT+PXTvvSD9tc88EWpfzFQMSHqUfH2ze7Ug+eUKNz2Sf4ex/FyD3XRli\n",
       "GW3lBxmr53dmK36vKYg/9tKPfc5ORdSxzPV4wcw6LUzl+1TXqO8oveEfyC2tOpA7SF8zey7tczrp\n",
       "TxHb+onqSCcsdtGnsZLMLEr2hd9tyGjyZ4lb1DUVJK+NDyBfBR3I3wm4w5dJVi3yMnYzqvCQ3RlE\n",
       "daQAHzm3zUtSs7tR+7QvvGQwp8mXEreoaypI3r7KDzI2rgOpJPBh/0PUseMA277Cgv12pxDU5Dxx\n",
       "x8Z5SWxWWvJ8tkRhafQ9VU7Sfu6aChJW+QUymtCBjJKWMsiyVmCnMcgtdqcQ1bi69Y6ND6peYLOn\n",
       "syUKx4ZFOXNrix7kYMYnkKczOpAbyeEh1qWnOcjaVptTiGqczjo2fogfELMYpG1hOS3KmVvENQ0k\n",
       "uzHKD3I56EA2kDY6pYnkVCU4SDlR/AyieutsdHDAqW1ekpklIG0KK3d2JFS51BCnbhHXNJDKuD8g\n",
       "w6N6kN3kcAT9gIbg6gL3TLEbbQR1fj76/otj6yP8oFsFaVe4Lq7J5VA9dYu4poGURvwBGazXg1xJ\n",
       "GukYhJtQM4rmOMhY2mZOp6lrcvegjL2OJ49j/GilCtKucF9Sk78THKJuEdc0kHDOH5CBlB7kJN6p\n",
       "h5B/gVYOMjxsPwQwtUTusXbHMwb1rJNUkO1OxiYkz+LbE7tFXBNANmZ8AdlesACJO3XnIEU1mUw5\n",
       "BqkOHg5BHhLlg1lrkH0FX0A2ZiyadnWKotGadsimaYtqfAwPOjWO1ErLwgZd07YrvBaNT9/PSFD5\n",
       "WuZWyNC0aRsrO8hXwGKwCcSpf84GG1Hdn8u7GGxQSWV+IZBxOtjcAHDiFphK5NJl2XKwgeq0LyBv\n",
       "MoAks4/+VoqGzCyqMMhgHvqxw/hNusoO6JtOvQBHE5qpRNVZfFNL9twOdVlmthGDbC4ul0ahZmsa\n",
       "xok8NNxL3CIvEaQ8TEGSIqdKgnQicxI1+MsAkrSsBUKrCT55tQXNepMQfRlPd3G7eYkfkCydOoJd\n",
       "+hVgWVbU4QP9N63kUzCfmZ0z/UyhSGEqDyFEkTie9mD50gJxi7xEkMoYBXkYf/xREqQTmZNp5IgB\n",
       "JFl8fc17xRX8t+3o9am5OMkyqiU8JykV21RLTobmsLbmK1aYyGU0WQ0kg/mkKt/OXiJIWqU22ITn\n",
       "V50lQTqROZmAXDaAVBIQS/3JZ47H+W84MpA3F0dZZjWOO8ilDPOSNcPw4oAWhShWGNv+uBbdg30Q\n",
       "fThpF7RgjawNanEIJFcSpBOZg6SMGUDCOoiuR/1Gzd0XUJWq2ZUn8SpzXAZnmdU4Era1VJfCS4ZS\n",
       "cEeBmAWbwsT2cvzbA1B1RJVbhNFQukBBKt/u3Lmx9GDjROYgVV0ygtwBSoM6JeKBXYxIsbgM+GVS\n",
       "40oWSl1AfUktsGtdmNj+bq5Rjt2qzhhBXmSj9sWurlXWbUE3aheRuUzyuACVLMAsHzWcdHY2olb+\n",
       "zaMGxdWjhpOqa1VJ7bdbGchF2n0upoQBJJc1W1x8LY9EVaBVi+UYl9rjUHFpCgN5v3Vg3wiSyeQZ\n",
       "5jFAyHucvNMmF6ZXO9xxEG7jK+zIcOWBfIGBjEKVeJPxehtBMplVxNWUp43uuw60wCdyNpj9H4CU\n",
       "C1FzvQ80dTTldCCZrM5iwmbKU0Eqr/dk4bN4Qq7kpr2MgawZesyq3sY7ksqUN1vMQ5yWd19KAxma\n",
       "ifsDlAYGNqgg5UuVB5IPNrDuGWBBEbHeRpBEBvCjxZm0vPy4BlJGNyrpfAfkD59QR+qxclSt12Il\n",
       "kPHM2o0c5B60SqBBEbHeJpB7SJSjCfVzxpbcpE4SdqU1kD17QSInGYC8+mBEGS0DR8m0AnO3jcBl\n",
       "+ouDxKFfEhTR1dsEkj7A6IbwF0aQ3VpIKS70kWsgvLyraw06Ya/aC8fKAbLWdPe520bg8rJd4SCV\n",
       "LAuK6OqdNIIkMnwYzRaNsvW/r4GUxpOQolcmtFCdE/xdBpDHLZcCcY+s8aCFCqM5bK63iZQ0TkBu\n",
       "ytas5284T5l3Kg/o2+eyBjI2lIcv8cEJgJ/17cDjtMLyxqn3yBqNw3CQNChirrcRJAnxZ6EtF54K\n",
       "bRn8lsN5sVmQhvA02PaNcEcuyUA1mkKFVrdCRD3Bau851lg/pjjrkTk6EeEgaVDEXG8jSBxPwk1b\n",
       "m2PmSN4i/KA5Zp6Qz0J9hS7d6z1IvDR9ZPGGBq0tu9tG4DJFhnVNu0i9DSBrf0gSkNpkIpYheemq\n",
       "E8KuRpu45emsN9U5eg6nM2TEwxsHuuKSNmV1uY3AXQp0WoAsHkbjq2rUuTbOE0JcCsmTUrEjQjjK\n",
       "BmR7zvM7MpqDcG412w2Ar5vLbQQuU1/8OkA6TDYbd4QNAl4lvHFAGgUFNzn6YMvdNgKXyacNAsHh\n",
       "coDEeyoiZHlBnoO520bgMr0GvoAMeTQjp33kb6xpQ3AI6gpqd+xuG4HL5NMmKujw/I7Eg00gD4PZ\n",
       "vLpOcLWNwOUcwadtfZ4N28LEDnXRfa1wVFEXZ2wbgTcdSconkIG81yDxogG147d/0qZ6bBuBF8m3\n",
       "rc8x70O71kvEtDfGzoBPILnlCgla4D+z+ATyraTno41VENejMJqPf1iKpb0GKVmtrNZ5Y+tp8A0k\n",
       "zPG8bVs8alC8edSgdLoCObF/M47EoWKSy78ZT/Af3++qGI7Sc/Tz2LXz/wCtxpOcdcve4AAAAABJ\n",
       "RU5ErkJggg==\n",
       "\" style=\"display:inline;vertical-align:middle;\" /></a><br>(see <a class=\"ProveItLink\" href=\"../__pv_it/41fffdd466643a2ac4db13aa422b84c8e57162270/dependencies.ipynb\">dependencies</a>)<br>"
      ],
      "text/plain": [
       "len_of_ranges_with_repeated_indices_from_1: forall_{n in NaturalsPos} [forall_{f_{1}, ..f_{_a}.., f_{n}, i | i in Naturals} (|(f_{1}(1), ..f_{1}(x).., f_{1}(i), ....f_{k}(1), ..f_{k}(x).., f_{k}(i)...., f_{n}(1), ..f_{n}(x).., f_{n}(i))| \\\\  = (n * i))]"
      ]
     },
     "execution_count": 2,
     "metadata": {},
     "output_type": "execute_result"
    }
   ],
   "source": [
    "%proving len_of_ranges_with_repeated_indices_from_1 presuming []"
   ]
  },
  {
   "cell_type": "code",
   "execution_count": null,
   "metadata": {},
   "outputs": [],
   "source": []
  }
 ],
 "metadata": {
  "kernelspec": {
   "display_name": "Python 3",
   "language": "python",
   "name": "python3"
  }
 },
 "nbformat": 4,
 "nbformat_minor": 0
}
