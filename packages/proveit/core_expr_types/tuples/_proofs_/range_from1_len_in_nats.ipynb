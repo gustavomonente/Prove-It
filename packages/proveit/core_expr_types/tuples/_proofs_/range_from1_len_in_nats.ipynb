{
 "cells": [
  {
   "cell_type": "markdown",
   "metadata": {},
   "source": [
    "Proof of <a class=\"ProveItLink\" href=\"../../../_context_.ipynb\">proveit</a>.<a class=\"ProveItLink\" href=\"../../_context_.ipynb\">core_expr_types</a>.<a class=\"ProveItLink\" href=\"../_context_.ipynb\">tuples</a>.<a class=\"ProveItLink\" href=\"../_theorems_.ipynb#range_from1_len_in_nats\">range_from1_len_in_nats</a> theorem\n",
    "========"
   ]
  },
  {
   "cell_type": "code",
   "execution_count": 1,
   "metadata": {},
   "outputs": [],
   "source": [
    "import proveit\n",
    "context = proveit.Context('..') # the theorem's context is in the parent directory"
   ]
  },
  {
   "cell_type": "code",
   "execution_count": 2,
   "metadata": {},
   "outputs": [
    {
     "name": "stdout",
     "output_type": "stream",
     "text": [
      "Beginning proof of range_from1_len_in_nats\n",
      "Recorded 'presuming' information\n",
      "Presuming previous theorems (applied transitively).\n"
     ]
    },
    {
     "data": {
      "text/html": [
       "<strong id=\"range_from1_len_in_nats\">range_from1_len_in_nats:</strong> <a class=\"ProveItLink\" href=\"../__pv_it/8dff9c87cf1fa1770b11f59a490d0c4ab42f81140/expr.ipynb\"><img src=\"data:image/png;base64,iVBORw0KGgoAAAANSUhEUgAAATEAAAAWBAMAAABalbZhAAAAMFBMVEX///8QEBCIiIhmZma6urrM\n",
       "zMxUVFQiIiJERETc3Nzu7u6qqqp2dnaYmJgyMjIAAAAcRTyBAAAAAXRSTlMAQObYZgAABEpJREFU\n",
       "SMfFV11oFFcUPtmdzU5mZzZBCgWfRgOllBa29aH4IAz0QRDBqQ/RBx9WMLQBCwuC8afIIqVuLC1L\n",
       "H2ywpB2pGI2YBCT2B0q20dbWICxNH7Qo7ENBqihra0EiiOece+/MdWd2TKXQCzN7cr5vznycc8+c\n",
       "G4B/u3IB/FfreUNl7vlx5wTYnjQiF69vnx2xr6mIgixDdS4EnVsetMi+mUSwvSL9OE3NZ1VlODRw\n",
       "fTVYlxZAbz1NlPXGeoDTaLzLREHuUDb98JMAfrjvEYjQIvluJyuzZ/GnqKe8WJfhihx69/wsW4XV\n",
       "+O5WmrLexUcAf6LxHhMFuTNnH+fKYLUZRGicslxNVsb+cd23pMItcSIenGTr1E/L+NdCmrKZTR44\n",
       "JWEvKHKnsnf8tQADDCJEKeHcJCjjXC7qvv0q3H66FdrSckjZiTRl83jlZb1PKLJSdm10lHO462iv\n",
       "DxUGEXKuTE19Bl2U3ZiaOlPRt3BFhutjr12RFisreinKLuOlXkNEJktl21+RwMiQdZuUIUjQw1rt\n",
       "/W7K+mu1Iw29XUsyHBngvL6nJC1SZpe6C1t6cR3AINZ/0BVEJstmCnf5SMEdImUIEjQMMCZfFVOG\n",
       "yTWpBNmrwmU2ZTiTG7bflRYrc9Ja4C/a4PiwMSCITBbKoqYegUuOW2GQoLe4F3ICzu25BGvKoTKj\n",
       "BNO8Z18VrvysDJfnnfmlLy1WVqikfMn+wdtBgM+zLUFkslBmQqSsNxgWIEF5yMgv1tmLG+AbO8gG\n",
       "oTJM7Wtk/iEf7fFkuB5PbWu2WFmu3V0Z98oLAAGlmYhMFsrevoerJZRZ5eIAgwTZzbx42vnoeADf\n",
       "uyU7qiZcBU7EcrKyyytWRr1CymA+iCkb13IGO3KRsr7WEIDxEpUV19zcp7qyL3JU2mt/NxOr+SHo\n",
       "1TRSqmmWRTX5ESIaUTV7dGXObJVBhsZ2Iac/EHNqzj63Q1NmHuOUqC9xRwesgpV2QI8rOsB6ZMc6\n",
       "IOsqFjYj/FINOwDOo/zjX4PF3TkHjYuassKb/KxqXFt9NbjprQfKypCybANm6H10sx5LQ9xghh7C\n",
       "wEZ7gol8qe/ZQaXsDkVpMcgQbUo4DLl9tdphVDaR15Rxt8sMyTqwm4thtKWV3fl4A34ffcgfoPpS\n",
       "5fYqg12whW4baWw2mciXUnbqA9Fz2+5XxURFkCEH/dayD2WRM2Orrux3roWfOJ3sajinaE3i9V28\n",
       "kOz6GbTpNCmvcDptPjL61E6Y1EZqodWAH8n4DeCGrkyM4yBpol8oNsPZrgZ1I64MXYXyXW7+Z010\n",
       "LVIIWbvrYGKXGYfwwx9TtjHqMXUKQmPftHKJELS93PjBDF35oyIlYxGxlaJMnoK09TLus6enU5Sp\n",
       "hJPjr+shOkMKhU78NeRyBoX60yHRrKcoM+vd0ynG9yG5ve4O66ftjJ982r6+0tP29ZCc8RNpCGZu\n",
       "eSv5h2DBhf9hPQHrHEA9CnaIzgAAAABJRU5ErkJggg==\n",
       "\" style=\"display:inline;vertical-align:middle;\" /></a><br>(see <a class=\"ProveItLink\" href=\"../__pv_it/8dff9c87cf1fa1770b11f59a490d0c4ab42f81140/dependencies.ipynb\">dependencies</a>)<br>"
      ],
      "text/plain": [
       "range_from1_len_in_nats: forall_{i in Naturals} [forall_{f} (|(f(1), ..f(a).., f(i))| in Naturals)]"
      ]
     },
     "execution_count": 2,
     "metadata": {},
     "output_type": "execute_result"
    }
   ],
   "source": [
    "%proving range_from1_len_in_nats presuming []"
   ]
  },
  {
   "cell_type": "code",
   "execution_count": null,
   "metadata": {},
   "outputs": [],
   "source": []
  }
 ],
 "metadata": {
  "kernelspec": {
   "display_name": "Python 3",
   "language": "python",
   "name": "python3"
  }
 },
 "nbformat": 4,
 "nbformat_minor": 0
}
