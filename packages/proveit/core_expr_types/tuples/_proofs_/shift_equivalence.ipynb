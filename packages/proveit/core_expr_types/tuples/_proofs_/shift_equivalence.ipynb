{
 "cells": [
  {
   "cell_type": "markdown",
   "metadata": {},
   "source": [
    "Proof of <a class=\"ProveItLink\" href=\"../../../_context_.ipynb\">proveit</a>.<a class=\"ProveItLink\" href=\"../../_context_.ipynb\">core_expr_types</a>.<a class=\"ProveItLink\" href=\"../_context_.ipynb\">tuples</a>.<a class=\"ProveItLink\" href=\"../_theorems_.ipynb#shift_equivalence\">shift_equivalence</a> theorem\n",
    "========"
   ]
  },
  {
   "cell_type": "code",
   "execution_count": 1,
   "metadata": {},
   "outputs": [],
   "source": [
    "import proveit\n",
    "context = proveit.Context('..') # the theorem's context is in the parent directory"
   ]
  },
  {
   "cell_type": "code",
   "execution_count": 2,
   "metadata": {},
   "outputs": [
    {
     "name": "stdout",
     "output_type": "stream",
     "text": [
      "Beginning proof of shift_equivalence\n",
      "Recorded 'presuming' information\n",
      "Presuming previous theorems (applied transitively).\n"
     ]
    },
    {
     "data": {
      "text/html": [
       "<strong id=\"shift_equivalence\">shift_equivalence:</strong> <a class=\"ProveItLink\" href=\"../__pv_it/e61ff455547e23493c6cb08f550a783528488bda0/expr.ipynb\"><img src=\"data:image/png;base64,iVBORw0KGgoAAAANSUhEUgAAAzAAAAAZBAMAAAAcbdZLAAAAMFBMVEX///8QEBCIiIhmZma6urrM\n",
       "zMxUVFQiIiJERETc3Nzu7u6qqqp2dnaYmJgyMjIAAAAcRTyBAAAAAXRSTlMAQObYZgAACQVJREFU\n",
       "aN7tWg2IVFUUPjszb37evJkNMyoj2HVLxAimNTDBaitQK8Qx6A8qJ+lPEJuSdvujJoNataVHhUpg\n",
       "Pq20NmqHaisDa2grK0mGjMroZ6IfKHBbwqTWiu65//f97VIEW3TgvJk395zvnb3fveeee98C+OX6\n",
       "PhdiZILm/+XvyqK+BqT67gw2VOP9qv933T8suQq5bPzPEZNrMuWyBS/5SUzyLexjF9cQVNMwRHZN\n",
       "+il+wQCFCmJa2PC50fNF/Cg0o4gJeEwpeYorwONdLtg1gHQNVsZ52N3zgRpCfgakSdek3VBUaWjf\n",
       "Ez4607H883ASd5dDGldqyonZi7//YPS8UycfRS+KmIDHlJLvuQKser0OReznJjwX55HeewSoIRQq\n",
       "YJNhZ7dCUZVhsRTOcCvuMSKcL8Man9OUE7MZv9aMnqe3myNTWcBjKkmhxJR006EnAPazX52OGJeh\n",
       "C3qkIcAbXAOommF7XTQ8b5i9ETcvRThnhLligEI5MTgznLq5iOB02BtJTMBjKknGZUry0hi53MZ7\n",
       "5agYl9dBGQJs4xpA1QyXeuHEbIt5igxnWpgrBiiUE1N4b3Bwk291/2xw8OlqJDEBj6kkm7iSsUP+\n",
       "gpz4K76JcdkDmiEUe5gGUDXDPRBOTMBPnxM8nNzPoa7fKBVV2S/9/Xf6iGnv77+/EV2V+T2mknRx\n",
       "hcJpa0qQICloeze5G4n22H/sXKCGsH02dmCJaQBVM/wads83eze3oHtGiJ+WDEU4hTEfMQ+PdHos\n",
       "QK6CmGsB1vl6Pl2GrBtNjN8jvGwl6sOwIm8C4vMsT9CuwAa4ktFF0nWWlJaNc8jNFzHP+gmYIZTa\n",
       "yLXQYgrOKJUSSERhaB9JPPK72bvnuMUx7hchIpx0zSQmdTz8yAPkKog5j1cTC5qy51Ol6DqmKjwS\n",
       "bHh8S7STrq32jexJzI7MOIc3s76rQV7N9EQp75/2ndoC7fBBKuRFDZ+3K2RM4BLsDq4AWwmbmTrk\n",
       "6meRm5djRhDmFmIIBRcX9XyVqSF3GIb58Tl20+hd+0RI1kL8NOHhQFuHScy2Ji0HXlYqiMlAAp/i\n",
       "zGyoHWQVTtVBr37gjLkaMczDYqMWq4AM65dF9JqVNf1K3kx5mUsc56sh7ooba82b0FlRIKKsv1wP\n",
       "IOkqfFH2G+WHRJ7OlS3VbT1g04G+fIJVmRgSS1zUrTGmhkw3DJNHs1/3jY7eNDr6HcY3DpmOED9f\n",
       "iYHOy13T9WwPbuYBchXEOM2MsXAhMe+rDf4zI2eSYuK9ORox3EMrOFmVMqIRcwUJUyxTaTqRiOMO\n",
       "3WkHB3/F8ZKeAqFk+Rc4uwL6QhFoV8iKmD28J/Lj8cTgqkwNmUs0MdIws2Ktb/Fvq8FQOZ4YEU6n\n",
       "z/U4sH8OJybXuoTmQE8j5jGrIhatDY96ULcONDViuId27qbyuyDmWrpSgfoFiSnqSwO5oeC7O0qO\n",
       "OR+Up7nBG4hul8gqld3HE0+2YoL7hbZn6Pz7mseJKtaYikxl0nCoZ2uP2btDDTojUjGpTIRzn224\n",
       "2r+xmbhIqTwrW3cNEvDgmRox2Y04tbtXl8l6QlOJY5yVoUdqFsXtwr9oxKI3v2rE0IzHmyUxCUEv\n",
       "OpMbCj48/BBF5yB02wBwbkUeZcwiq8mpCh80ZHZQQsKUyGrxn8aX6qF6I3bxp0mfLv72EdAWf10G\n",
       "DMMvGaZOTB1W593YxV+E87tjEnME0q1doYs/vEB5/kTv+fw8ctlZXu6xgzE4MGwQgx4OnWLJFBoc\n",
       "fBHzkHWUIgYr9k2iWRKTF72NzuSGgg87z14BHCTdT2QAPRvjot9vscjXl4Diq3aGDCJMiSzKTrLT\n",
       "5rXvUjyAXAD2H9iBLX5Rd2T8c0OW9JINpoaMGIY3QHvZJCbbUeh1qJ8BTr/Qiwrn0HZzsq2FjysN\n",
       "DFCqJKad1glzjePjn+gvl4LNTjc6GgYx6PEoLXSedhDlME0tiZqWuMj3xaJZEpMSpSI6p2oMfBga\n",
       "9O8+rPLTYsg9I7JCsmRVKZbABw0ZeJgKWaQESI3xh6Y/ZyVcHxk7GZqN8NKLX25Hw6UiOkjipVhm\n",
       "GszV0nADJLo9sypbcfLGk6gfxezVn0IfrMLZ3zCJ2THz8hU9rMbkKokpeEYCpz3yKdETYBZYt/b3\n",
       "rwXH8XL6EkQ92AKIs9OatoENG40YAr6QNa8e/Wp0tEmDslqwGMe8h85Wi4EPwxasJTgIlYUUjJm2\n",
       "1RME6yqFDwI5he3raZiI7DuScWraSYuN0zV4KvsqXt4BYZjBgbKTa/BIRhlCxM5/p8A0yz7PH07I\n",
       "kUxVqe99zDH+Fy72rzAwCHRcXnglOK6/eZwOq3YXh/Iy3E62XayIIbsWuIw3azOmojmTmwqbMamL\n",
       "gIOkcbk9iJ5DT4qKz81+6lEqCL5qZ8gyTIksDjFfKtJVRzvEdIJ5v4HZ9SDb/4Pl4VYj8hBTGeoy\n",
       "GDjEDJ6Y4IPNcIKuIYeYsqsCb8KOtw414S38ViqpskY051uN3HqAZbDZy3ZcmiAf7QlFDDKP42eZ\n",
       "/AU3X4WGcsYbCv4hwGcCRI2810Q/trnLlzCLdr2dIcswJTI9kyB6K9sh8wMMvNkePPAlvZBZ3+KG\n",
       "Wxv38qP7kOP7dZph9AFyi2H6BB9shjOpY39RJ1UDxCw8pasJWdwSX7dqX29gQq1yrRMAZsOyetFN\n",
       "n0w+km9qVRlJtRkPm/kvuXmHOyDZo5zxBsFTd/WQjQ4HEZnDgx3visBWPE/qxdMVPmjIMkyJLF6U\n",
       "fcC2nHZNshV88VdA7XK5YbqrybsuG/aiTBlGF94uw/QJwprhQAjxSk1iCqUAMUxm96/1H8mo7ElX\n",
       "Gl631vVdC5xCklOdL0RZudswth4GuLGPTwReKrQMC4kMQeSwV8uFyb9aPsDVf24zmVfLByb9lMAQ\n",
       "cZWaxBQ/KkcQE3JWJmVX+vwZ4oW6fK+eldcaNuvE7NaBjBvfW3n/wMo3TQuBHA72LxeDGGcm/AVi\n",
       "mum3XTF55RxmNKTIEFuCzfygmU5k/VTcuPFngCW+hz7usxDI4WD/JWI06Yv/x7G+if6vLMlnU/Cf\n",
       "UxJe1E2gwvR5zpmgPRbsXyaL+iqQ6uv9E3K992yeGugfAAAAAElFTkSuQmCC\n",
       "\" style=\"display:inline;vertical-align:middle;\" /></a><br>(see <a class=\"ProveItLink\" href=\"../__pv_it/e61ff455547e23493c6cb08f550a783528488bda0/dependencies.ipynb\">dependencies</a>)<br>"
      ],
      "text/plain": [
       "shift_equivalence: forall_{f} [forall_{a in Integers} [forall_{i, j, k, l | ((j + 1) - i) in Naturals, k = (i - a), l = (j - a)} ((f(i), ..f(a).., f(j)) = (f(k + a), ..f(i + a).., f(l + a)))]]"
      ]
     },
     "execution_count": 2,
     "metadata": {},
     "output_type": "execute_result"
    }
   ],
   "source": [
    "%proving shift_equivalence presuming []"
   ]
  },
  {
   "cell_type": "code",
   "execution_count": null,
   "metadata": {},
   "outputs": [],
   "source": []
  }
 ],
 "metadata": {
  "kernelspec": {
   "display_name": "Python 3",
   "language": "python",
   "name": "python3"
  }
 },
 "nbformat": 4,
 "nbformat_minor": 0
}
