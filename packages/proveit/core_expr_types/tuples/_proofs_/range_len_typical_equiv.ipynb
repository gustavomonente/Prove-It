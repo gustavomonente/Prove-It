{
 "cells": [
  {
   "cell_type": "markdown",
   "metadata": {},
   "source": [
    "Proof of <a class=\"ProveItLink\" href=\"../../../_context_.ipynb\">proveit</a>.<a class=\"ProveItLink\" href=\"../../_context_.ipynb\">core_expr_types</a>.<a class=\"ProveItLink\" href=\"../_context_.ipynb\">tuples</a>.<a class=\"ProveItLink\" href=\"../_theorems_.ipynb#range_len_typical_equiv\">range_len_typical_equiv</a> theorem\n",
    "========"
   ]
  },
  {
   "cell_type": "code",
   "execution_count": 1,
   "metadata": {},
   "outputs": [],
   "source": [
    "import proveit\n",
    "context = proveit.Context('..') # the theorem's context is in the parent directory"
   ]
  },
  {
   "cell_type": "code",
   "execution_count": 2,
   "metadata": {},
   "outputs": [
    {
     "name": "stdout",
     "output_type": "stream",
     "text": [
      "Beginning proof of range_len_typical_equiv\n",
      "Recorded 'presuming' information\n",
      "Presuming previous theorems (applied transitively).\n"
     ]
    },
    {
     "data": {
      "text/html": [
       "<strong id=\"range_len_typical_equiv\">range_len_typical_equiv:</strong> <a class=\"ProveItLink\" href=\"../__pv_it/b12ecdf0b99eb011495a07e7609c91d50326f8100/expr.ipynb\"><img src=\"data:image/png;base64,iVBORw0KGgoAAAANSUhEUgAAAcIAAAAXBAMAAABqslJeAAAAMFBMVEX///8QEBCIiIhmZma6urrM\n",
       "zMxUVFQiIiJERETc3Nzu7u6qqqp2dnaYmJgyMjIAAAAcRTyBAAAAAXRSTlMAQObYZgAABQxJREFU\n",
       "WMPVWE2IHEUUfpnp+euf3RDUw3oZsgQCXkb3INFVVkWCFzO5GDYKziEBA4kMCGrUw6Cw7ETE9pSA\n",
       "SDqJJrpCdkBQVtQdEklwvTRZlOQQWdEc9LAMEkSzIL736lVPZ7q6Z8HxkIJu3rz63jf1Vb16Xd0A\n",
       "o2/7R8ZUCP4T9X74P1olhG/Z+CDuwrY0PFZCliK0OzOAGKROaY4vaDLWyLw+OoUfyzDsFt3PTPrs\n",
       "gheg6GeFEZBDnAlGKrRZIeGKrQx9E3BIo9H4nszfR6fwNxnGGA/x8HKHXXAE7LWsMAJyiNdgpEKb\n",
       "FRKuGKZzIcV5jUbjBKVRa2QCvZoMY5Vn++aHykXtQkYYA1f1rwsabVa4OnwYblXQaIzhZnY7I1NY\n",
       "8mUYRzlfeuKidipr4/R0iEaeSld4dPgw7K2CRsNbWVg4ProkPS7DqDR5hE1xcXLNZMx5U4doJKON\n",
       "Cvu4jParRqPx1/z8G5nFMbWUm5yTQpyj1PTuf6nGLnsSs8atpec2ATnk9E5QSEYbFRLu9APpA2aK\n",
       "ixqNxkGANv2cDmWAOH91ugt7F68bcQFKXgsc05q8I8RlrgTjVeVyLcwaL6PUEJBDaltChWQ0K3TX\n",
       "udUgRt19LJ2LKX7SaDSeUHXL3U5SZtWu4LsqP1y2o306qwVOYarskh/7pmdy94j9uhCXOORkXbne\n",
       "z+NfOBnZRUAK8fzxjkIy2riGiKt0Hk3PB6b4QqPRKEEuNO4SpfC5BEWRbhYO4Cxt6a+mQqe1Ag9J\n",
       "511CvIXplsUV0BoVeukKlyXEhj2BQjLaqBBxNvyRXmSY4nmNRsMNS5wngVnhwQRFWSuk59LVpQVw\n",
       "ruQ5l5MKL2vXcpCt8PJtIUMVgnMLssniCitrz9DavvsI3h9v8FZ9OKawSXVCZyn3Rwpx7S3aHc6z\n",
       "s9WuMUvntGtOQtLaXBTyiyCt5sA+bMSyFMqNDIVEsVujyWgfoF9Xuarw1NSe7iuk0py3dI3g/kih\n",
       "04Ax3rb1lR+6xkqzTVz2hptdabbpEHsDBivN4BoSbrHTTU/TDbi90sBnPLdTJOdTMm3/Ul+hhfdP\n",
       "XJkx1R8pxL4zSqEbPQkuCjE77Jvisnp4WM53YZHOY/+gLzL4poAcwumHSL7MCgm3pxL2wwfImGJa\n",
       "o6d1SefJh3I1WgitkPMytOaxHaP+F9d/Xl8PWWFhDfahu+rUK6HOwN1CzElm9bTrSMjPoNJraL9M\n",
       "mdYQA14JNJBD8k15WvETy6iQcMXrEmkgY4obGk2GxzXmbrotfsQ8f/cVFug+rl8LuL+/hg1VV506\n",
       "PFk1ndrcFsRObefw+jJ5XgsiIIWUaoI8N/TU5gRmMqKwm/rUFm1++xZUjsE3LpwIoLC1r5ARezUK\n",
       "+0UhPa68Lrg0094MmcmT9+djoXbp83Ry9xCjAFfxjZefoJs7ebtgIlMU8ZO3NFyTwr1w9jvY24Fc\n",
       "K1ZLKa92ahT2K4WVB/+sQh7//21KQzz7RbWtLcMo+/Dq+cgF6n3IribPWHgJsOyf7L6lkRlvT2U/\n",
       "ikySKYr421Ns7tVRpqN3o1J4H15vJp+HfLijQyLuw7Q34Cu7IpeMy0sOilZPgHarOBkKsjzkDVgi\n",
       "k2SKoq3R7WiwP9bly4HjH3gviCksQ/GpCbPCr1O+YuwwfsW4tumvGNcidK4+gNixua8Yni9oL/qw\n",
       "4G7Xk+LB4UPxM40VFi/5xpcNuwZ3eKv1vwsZWy64I2T8C+Kymw01MVHcAAAAAElFTkSuQmCC\n",
       "\" style=\"display:inline;vertical-align:middle;\" /></a><br>(see <a class=\"ProveItLink\" href=\"../__pv_it/b12ecdf0b99eb011495a07e7609c91d50326f8100/dependencies.ipynb\">dependencies</a>)<br>"
      ],
      "text/plain": [
       "range_len_typical_equiv: forall_{f, i, j | (j - i + 1) in Naturals} (|(f(i), ..f(a).., f(j))| = |(i, ..k.., j)|)"
      ]
     },
     "execution_count": 2,
     "metadata": {},
     "output_type": "execute_result"
    }
   ],
   "source": [
    "%proving range_len_typical_equiv presuming []"
   ]
  },
  {
   "cell_type": "code",
   "execution_count": null,
   "metadata": {},
   "outputs": [],
   "source": []
  }
 ],
 "metadata": {
  "kernelspec": {
   "display_name": "Python 3",
   "language": "python",
   "name": "python3"
  }
 },
 "nbformat": 4,
 "nbformat_minor": 0
}
