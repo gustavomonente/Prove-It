{
 "cells": [
  {
   "cell_type": "markdown",
   "metadata": {},
   "source": [
    "Proof of <a class=\"ProveItLink\" href=\"../../../_context_.ipynb\">proveit</a>.<a class=\"ProveItLink\" href=\"../../_context_.ipynb\">core_expr_types</a>.<a class=\"ProveItLink\" href=\"../_context_.ipynb\">tuples</a>.<a class=\"ProveItLink\" href=\"../_theorems_.ipynb#merge_pair\">merge_pair</a> theorem\n",
    "========"
   ]
  },
  {
   "cell_type": "code",
   "execution_count": 1,
   "metadata": {},
   "outputs": [],
   "source": [
    "import proveit\n",
    "context = proveit.Context('..') # the theorem's context is in the parent directory"
   ]
  },
  {
   "cell_type": "code",
   "execution_count": 2,
   "metadata": {},
   "outputs": [
    {
     "name": "stdout",
     "output_type": "stream",
     "text": [
      "Beginning proof of merge_pair\n",
      "Recorded 'presuming' information\n",
      "Presuming previous theorems (applied transitively).\n"
     ]
    },
    {
     "data": {
      "text/html": [
       "<strong id=\"merge_pair\">merge_pair:</strong> <a class=\"ProveItLink\" href=\"../__pv_it/fd9c28c526cc03751e882ae18488649d6ebd5ba90/expr.ipynb\"><img src=\"data:image/png;base64,iVBORw0KGgoAAAANSUhEUgAAAZsAAAAWBAMAAADk7yx5AAAAMFBMVEX///8QEBCIiIhmZma6urrM\n",
       "zMxUVFQiIiJERETc3Nzu7u6qqqp2dnaYmJgyMjIAAAAcRTyBAAAAAXRSTlMAQObYZgAABJ1JREFU\n",
       "WMPVV99rHFUUPtkfs7Ozs2MQxQcRluQfWJuHEmwlKtgiaOOLqC8uUsFAKgsFtdaHfSpJITg+tVBC\n",
       "p2mtUsGMCEoFzZKCVQsyGCjmQdniD1BoCKLSpiLec+85M3dmbqaB9cEe+O7OnfPdb+ecOffOvQD/\n",
       "hdUjBbJFbBq+gSTsIiFrixnixZ39raaIGOCN74cM5z0COLsmRdMDsHowk/jPjvtE+DCwxKXl5yRw\n",
       "kEZ82cSBYkXEFbz125Dh/EoA68otAA+lI/gg8c+uhES4Co5IoDPISXh+injIxIFiRcRJfGm94aJp\n",
       "thUAlp+YAlhTd91WnPk/zjFB2CohbWs54mrBP5oVBbxA/HE4XDg1XwFgBZsj9Jej7G9sAhOEnSGk\n",
       "7UiOeKbgH82KAs2vL1w4MWStnSAAXMZ33aXbP7Hf7cYELKsphfSs7uaIOY5mZkXEjbm5N3f42OnJ\n",
       "WY2vxgmwdt8EQEnUwNIu0bvEtfjg4bYiOGOirN22QspwUEJ0xlsGjlbdZkXESwDzSNkT8UOBN41t\n",
       "BbSOTAn7MZYeNOLsLRAAfhewhVD/EXHxA/vvahGhDA+IZxkoAHyzgfYj0KCE6FZGmWM2syLiMbWG\n",
       "uGN90T6nKlO2NmgdtBn2i2gmxNueZMdRAtT/xJIOoR4+LC4+Yf/paSKsg1j4Gl2F9PQLdeKp8sDA\n",
       "0cysiKhBKTJWqp3pV/vq15KvTow8z557CGqGjkyBI1/TC+xfYVJQ2RI6mwopG5nSiQFmP8fRzKyI\n",
       "cKOafH3B7cKxprX7GI7nZ8ORMxSfrLGlh3MZdEJBODFxJSgOx6yIqA+ewcn11l7RPtpBxtJDWjjU\n",
       "wXogfxxOKcoWm92hupEX+3jkMSaB11ZDK91k7vySFFtMPAbMMZtZUY6YP4i3v8Omj0mF9lNaOKJj\n",
       "zQlbwHVR+uNwGp3sUjDSolm9HPa1peBuJon7+lKgl0KkE51bbvFSYFaUIz6SWZjAmfw+Xjr+F0k4\n",
       "3BG2n/xxOBXeTFziVXkZSwaXywO4O9wDzj/qE84kWUTlvkL6Q9LWiZXNRclZxq0LauBF0ttOUarK\n",
       "RU+FarfibMdzZ4H/8XHpf2Xj2sZGJMOpcvr2cWUd4Egt3NT+DPAazsjKJpNgN638yepPJuskIR6K\n",
       "JKf2hrh+FWuxw02RolRtykXgXpndd6T2TT2cm2BhhV+HZ8mfvJ1OdpPzJeibHKxH1HZ7TILDAu8S\n",
       "8pscjUicT/PbmwLFRNXZgvpx+NyFkwFUR7VwqvHOS5CFn+7jEt/sp7egjc71ZDeptqDI/9iLiPS8\n",
       "/C5tuwVNiPHGsp/f3hQoruovu3o/nP8Kng6h1NPCKcW77VqAfnW/vvuvFpTjT9W8RO24qj5bpRcP\n",
       "CEsCr9NJYb7+t92G7Q4IYlBMVAlGXivHK1DUVDEl6vsf8gxS4dixYinMfI+8zPGtOe5rJzH5VJjF\n",
       "byeZ9OJeCtY2Ht8SIielmV/TChQTVe/qNB1nG/7Bt4PksbmD1suE81nh4bq5zeF6nXC7w/X6jg/X\n",
       "6zlVd4wCFwmZndEee1Y7Ij9JIpzPNtxJVs4tKul8l4L/3zP/C7zxl/AtSX4TAAAAAElFTkSuQmCC\n",
       "\" style=\"display:inline;vertical-align:middle;\" /></a><br>(see <a class=\"ProveItLink\" href=\"../__pv_it/fd9c28c526cc03751e882ae18488649d6ebd5ba90/dependencies.ipynb\">dependencies</a>)<br>"
      ],
      "text/plain": [
       "merge_pair: forall_{f, i, j | j = (i + 1)} ((f(i), f(j)) = (f(i), ..f(a).., f(j)))"
      ]
     },
     "execution_count": 2,
     "metadata": {},
     "output_type": "execute_result"
    }
   ],
   "source": [
    "%proving merge_pair presuming []"
   ]
  },
  {
   "cell_type": "code",
   "execution_count": null,
   "metadata": {},
   "outputs": [],
   "source": []
  }
 ],
 "metadata": {
  "kernelspec": {
   "display_name": "Python 3",
   "language": "python",
   "name": "python3"
  }
 },
 "nbformat": 4,
 "nbformat_minor": 0
}
