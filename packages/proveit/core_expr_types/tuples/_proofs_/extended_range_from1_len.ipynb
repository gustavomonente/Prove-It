{
 "cells": [
  {
   "cell_type": "markdown",
   "metadata": {},
   "source": [
    "Proof of <a class=\"ProveItLink\" href=\"../../../_context_.ipynb\">proveit</a>.<a class=\"ProveItLink\" href=\"../../_context_.ipynb\">core_expr_types</a>.<a class=\"ProveItLink\" href=\"../_context_.ipynb\">tuples</a>.<a class=\"ProveItLink\" href=\"../_theorems_.ipynb#extended_range_from1_len\">extended_range_from1_len</a> theorem\n",
    "========"
   ]
  },
  {
   "cell_type": "code",
   "execution_count": 1,
   "metadata": {},
   "outputs": [],
   "source": [
    "import proveit\n",
    "context = proveit.Context('..') # the theorem's context is in the parent directory"
   ]
  },
  {
   "cell_type": "code",
   "execution_count": 2,
   "metadata": {},
   "outputs": [
    {
     "name": "stdout",
     "output_type": "stream",
     "text": [
      "Beginning proof of extended_range_from1_len\n",
      "Recorded 'presuming' information\n",
      "Presuming previous theorems (applied transitively).\n"
     ]
    },
    {
     "data": {
      "text/html": [
       "<strong id=\"extended_range_from1_len\">extended_range_from1_len:</strong> <a class=\"ProveItLink\" href=\"../__pv_it/422d4684fa4deedc7b50197c9d90192782364c890/expr.ipynb\"><img src=\"data:image/png;base64,iVBORw0KGgoAAAANSUhEUgAAAXwAAAAWBAMAAAAx0TpxAAAAMFBMVEX///8QEBCIiIhmZma6urrM\n",
       "zMxUVFQiIiJERETc3Nzu7u6qqqp2dnaYmJgyMjIAAAAcRTyBAAAAAXRSTlMAQObYZgAABGpJREFU\n",
       "WMPNV11oVEcUPupmf+7e3UhJ8cGHpln8eSg2KgiCyooPAR9U+uCDFAyiD4rSFMW/FllSKFlL6eKL\n",
       "IoSuPw+S0mRbiamCZGGvKCqymFJ8sOlCYkDBIBLBblQ658y5c+/dubNdig8dmOGec74z57tz58w9\n",
       "A/Df2i54/+39zrnqicmSqIJDD4N+FbZk4d/nHdSALDjhUL0hHvvkEaih/GcYyDHarnAoK4fjpUyB\n",
       "VNT2NyNurVkvnaI5BbyyRHlp9Bmqt/3cHbiH4rNw+ibbUw6VplU7OF4iFfxSBBhuRj96b146Rase\n",
       "cApcL40+Q4PNjTJMHufwy+fC6RtsqW4ONUFLNHeZVNbBL8TEdmcT+iNbs+zkA84rQaM/4Xv+lT+I\n",
       "ioLdgTRKpXD6BluswKFO0EZ8wSr4S8CtxU3ojysnDxipK0Gjf0Kn70XB7kDq7tDQWQinb7Cd5VCJ\n",
       "PlrGPlbRxDDdhP5t5eQByV0KjfQVVKNP+GnyeD0w8LWBvsGW4VALu3EnrT7cLVVy4oqZ/cSStdLp\n",
       "4hoPmN6TKbHQSF9BdfoV2YXHPoA8U9HoSxvABpE/22qu4XsOFaesau9klZx4ssnqv2Sn8mYPOPLM\n",
       "+psFov9gFhvmswfV6U/KLjy2gCWItcmjt+2wAx/3KvrSBnZXWQzqBb/iUDFKix93sEpOPGZmn3gl\n",
       "nRKlTR5wvIhvNRa2+gqq0x+TXXjEYCGfTT9VNsJvdnFRUdFnWzqLg8rhDg61IKvysUNNvNtMn5Jc\n",
       "OFn0GRi4Caw3LDTSV1D8JF/Ozs5AIMpu8rCrMT4PvztfhJud3ba3edjWjh7thXD6t1umT1mKTsm6\n",
       "B5yCyLyZvoTqq+/RT9R2iuNrOe4U0UZHz/jokw1SP2xEdNeB0M3zLQQ2T4+ZfryXneiBgW9hUZ0F\n",
       "396fAT9Up98jO3rk94qFEQtMqTlq//y5R59sAI9wWFHMhKbuB9Bq6i7oZKeRUlkB5+BC1Z+6/td1\n",
       "oc1SF66Kb3p+DCxKzVEoV3z0r9LRuxaHfsWswkZKZmvOVcGnOPEGsN7hgVLjwZNgJMtO27HAY+Ah\n",
       "+Ia8QugraIA+R6HuuCdfP7QdHxjoF/QHYz76ZJNr2wHr2NDDxgi+W+SFq1r30ZQIJcrUYyJAjDYK\n",
       "Dkfx4SSCtgM7RbEMZOClT6pS0OkrqJ++ioIdPVL4F67vgF65+pHPfPRTdAp9iEMdloYVDXbOVcla\n",
       "QIRMFrV9cwOHO/5KIAC0+lovGlw8dtcjWSvDLXz4HeCxj74E1yFxGk6mciEl27V01VWpSszWt73Y\n",
       "wMne5/46LABsoWQbCmwrVbK5hVwB4iLRI6eyEG2kLz5i21LYeV9559kYL8DxYaWihuJFvdAXoWKn\n",
       "5W87XtCBhoI5brr8eAWzr60Uez9YNHirnTRcVx6uVyr1GlW9xMaeKYB3xwkC8+brSmjLc3eaVCgr\n",
       "+LKY/kOUBdcbLovLwi+LqVYviwEgC8tavSwiHvuqIy3cee2u0BX9X7R/AEG5oorlF7c4AAAAAElF\n",
       "TkSuQmCC\n",
       "\" style=\"display:inline;vertical-align:middle;\" /></a><br>(see <a class=\"ProveItLink\" href=\"../__pv_it/422d4684fa4deedc7b50197c9d90192782364c890/dependencies.ipynb\">dependencies</a>)<br>"
      ],
      "text/plain": [
       "extended_range_from1_len: forall_{i in Naturals} [forall_{f, b} (|(f(1), ..f(a).., f(i), b)| = (i + 1))]"
      ]
     },
     "execution_count": 2,
     "metadata": {},
     "output_type": "execute_result"
    }
   ],
   "source": [
    "%proving extended_range_from1_len presuming []"
   ]
  },
  {
   "cell_type": "code",
   "execution_count": null,
   "metadata": {},
   "outputs": [],
   "source": []
  }
 ],
 "metadata": {
  "kernelspec": {
   "display_name": "Python 3",
   "language": "python",
   "name": "python3"
  }
 },
 "nbformat": 4,
 "nbformat_minor": 0
}
