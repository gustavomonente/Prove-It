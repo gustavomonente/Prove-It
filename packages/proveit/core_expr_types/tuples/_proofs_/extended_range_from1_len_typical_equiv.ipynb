{
 "cells": [
  {
   "cell_type": "markdown",
   "metadata": {},
   "source": [
    "Proof of <a class=\"ProveItLink\" href=\"../../../_context_.ipynb\">proveit</a>.<a class=\"ProveItLink\" href=\"../../_context_.ipynb\">core_expr_types</a>.<a class=\"ProveItLink\" href=\"../_context_.ipynb\">tuples</a>.<a class=\"ProveItLink\" href=\"../_theorems_.ipynb#extended_range_from1_len_typical_equiv\">extended_range_from1_len_typical_equiv</a> theorem\n",
    "========"
   ]
  },
  {
   "cell_type": "code",
   "execution_count": 1,
   "metadata": {},
   "outputs": [],
   "source": [
    "import proveit\n",
    "context = proveit.Context('..') # the theorem's context is in the parent directory"
   ]
  },
  {
   "cell_type": "code",
   "execution_count": 2,
   "metadata": {},
   "outputs": [
    {
     "name": "stdout",
     "output_type": "stream",
     "text": [
      "Beginning proof of extended_range_from1_len_typical_equiv\n",
      "Recorded 'presuming' information\n",
      "Presuming previous theorems (applied transitively).\n"
     ]
    },
    {
     "data": {
      "text/html": [
       "<strong id=\"extended_range_from1_len_typical_equiv\">extended_range_from1_len_typical_equiv:</strong> <a class=\"ProveItLink\" href=\"../__pv_it/a2bf112434cecad79c2a741e59e9cf48476c3f000/expr.ipynb\"><img src=\"data:image/png;base64,iVBORw0KGgoAAAANSUhEUgAAAcgAAAAWBAMAAAC2zBEyAAAAMFBMVEX///8QEBCIiIhmZma6urrM\n",
       "zMxUVFQiIiJERETc3Nzu7u6qqqp2dnaYmJgyMjIAAAAcRTyBAAAAAXRSTlMAQObYZgAABP9JREFU\n",
       "WMPVWF2IG1UUPrub38lMIrIiWMS4Ya1PNW6hUNzViA8LPpjFhz4UwQj6sLJgpEVrKxL3QTaVYvCl\n",
       "UijGKlpWNFFZVwVpcEe3WJWgIgp2DWgLFQxFFCRC8Zz7M793btKlLx7IzJl7zv3u+XLPPXPvAGxP\n",
       "9sO1l/3XepBh/Xdd0BjTXbCl4jaRZBrDhz4ZdvyYXe2gp+36X50IdJspWwehR0/nIYwfYSA5Lcc/\n",
       "TRdjZq/QUBa1g79eaIBRA0jUHEfj+So+N6JJkr9OEir7ouy/yG7n6Ol3BckIA8klGdAlNsq5f7n2\n",
       "XhPgXW1AS2fakEVCia7rmC0ikV40SfLP3KQh2Q00uGHYXLHhFcq1moJkhAHFKorxSQFo3V8izVh6\n",
       "AtHNvIaj8dcbAN9x3XHMtfHyWTRJ9H/zi8HwFH1fjOEJw+aKDVlqaitIRhhQkg0xfpJl2Rmp/YI9\n",
       "jOt0S+UyXp4RwUjHMvaC16JJkr81OklvGDZXbLC+XF09DgqSEQaU43J8bt6UGqHDb5o4TFx+6ap4\n",
       "kI6bLCdLUSSZ/1WT5Og2V/D2z8rKsyqSEQaUggyowNLpxt1CY+gb0WFYdx4owjim+KkZj+PFqbuQ\n",
       "fjGKJPnrSDKsMMkN2X+D3R4DqFPLLC7gB3oefG5gg/jlmAzoGHv8U2oMfUvzZ+dwgaRwmM69rqNx\n",
       "pdlqgNWTmGafSVEGSf46kgwrTHJL9t9it/t4bTOnOuIPlSS5Ic5fOfEDNtxa4bYjMqAj7A35t9QY\n",
       "+rqG5KsLuHrbkG7f7TpmBsQ9U42ayWRbS5JjhUmuy/7r7JaE8a5cFdm2B18YUN7emIOPzOZEkz9O\n",
       "yoAmnWoy6aA/rCFJJWqsBAabfOE40YNWB+KXo0iOlbQkORZ80+8/2e9fBH8YNleoyHaTLJXIlGt4\n",
       "8IUBh3jxRBM+zRdNUJGkajIiyU0RdGbgOuJrstzePkmOFZ7JAMl0bx/BvDRHLVOPu/jMELuN8hZl\n",
       "be1lSdKfrqmKL13nNSRfEOnHugjHXBfuaUKsGliTlRHTlWOFSc7L/vP8Vn+UGn6ky85mwfMnksHE\n",
       "GWbVaM185yFl4RnLj1x4rheFpNXuOI65knEzeApPcCaHFR6GNbTwwAfszbWbLstOjNJwYh0MVo3W\n",
       "oCOL/oYMiDW0SlK7g9BnsV6yokmmHniecMMDvLaVaTsvHBPdFLZMdKJIslo4PgiCOU9leUhwSIow\n",
       "RP9ZfsvlnVmZhD0efGZYhvihlZVlJHlSLFGWCrZUoCy1Pbf8iuPh6eVpGuUpSrWKUHhTjBYeJWaC\n",
       "9v3C0Zj5mlbmQhRJ8p945MocJA9LMAea+ifOB9LVCYP3v8BvFiuaN9BlADs8+GQwBgtQ4TMZe1C5\n",
       "rTvrbvDob8aYMs1weaAmswaebZ3P8S39to7JJ2rU0I5HovNtXdWDawwgfRQOWzXfUQ5xeh34nJTv\n",
       "AX5WbNAzlT/crbrYd5uKDR3+Psx2xYY77KjfoIvXvhLVkVWfxb9BF4JZEd8B+76CAEljqQEpLHCx\n",
       "50qQkMa6tNchebQnm5jQ0eaUYvOFv0P8/JNqhB11Ry3hD0ZeiaqWwFHLMzuZ0KFcyO24JiMOzVah\n",
       "4R6fBdlueFBq+nYveA7BPsfUCIdmS42qlrrsX/fgZn9YkB8huOwc8vljWv35wxr184ff8Sd2nQ56\n",
       "Tm/384dAn2bKroMyh6e0f8z/XP4DWhvZxhHbLAMAAAAASUVORK5CYII=\n",
       "\" style=\"display:inline;vertical-align:middle;\" /></a><br>(see <a class=\"ProveItLink\" href=\"../__pv_it/a2bf112434cecad79c2a741e59e9cf48476c3f000/dependencies.ipynb\">dependencies</a>)<br>"
      ],
      "text/plain": [
       "extended_range_from1_len_typical_equiv: forall_{f, b} [forall_{i in Naturals} (|(f(1), ..f(a).., f(i), b)| = |(1, ..k.., i + 1)|)]"
      ]
     },
     "execution_count": 2,
     "metadata": {},
     "output_type": "execute_result"
    }
   ],
   "source": [
    "%proving extended_range_from1_len_typical_equiv presuming []"
   ]
  },
  {
   "cell_type": "code",
   "execution_count": null,
   "metadata": {},
   "outputs": [],
   "source": []
  }
 ],
 "metadata": {
  "kernelspec": {
   "display_name": "Python 3",
   "language": "python",
   "name": "python3"
  }
 },
 "nbformat": 4,
 "nbformat_minor": 0
}
