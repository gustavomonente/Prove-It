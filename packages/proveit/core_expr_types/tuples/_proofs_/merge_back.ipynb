{
 "cells": [
  {
   "cell_type": "markdown",
   "metadata": {},
   "source": [
    "Proof of <a class=\"ProveItLink\" href=\"../../../_context_.ipynb\">proveit</a>.<a class=\"ProveItLink\" href=\"../../_context_.ipynb\">core_expr_types</a>.<a class=\"ProveItLink\" href=\"../_context_.ipynb\">tuples</a>.<a class=\"ProveItLink\" href=\"../_theorems_.ipynb#merge_back\">merge_back</a> theorem\n",
    "========"
   ]
  },
  {
   "cell_type": "code",
   "execution_count": 1,
   "metadata": {},
   "outputs": [],
   "source": [
    "import proveit\n",
    "context = proveit.Context('..') # the theorem's context is in the parent directory"
   ]
  },
  {
   "cell_type": "code",
   "execution_count": 2,
   "metadata": {},
   "outputs": [
    {
     "name": "stdout",
     "output_type": "stream",
     "text": [
      "Beginning proof of merge_back\n",
      "Recorded 'presuming' information\n",
      "Presuming previous theorems (applied transitively).\n"
     ]
    },
    {
     "data": {
      "text/html": [
       "<strong id=\"merge_back\">merge_back:</strong> <a class=\"ProveItLink\" href=\"../__pv_it/22af6230335818daec6b91db35c44e2350f9d0260/expr.ipynb\"><img src=\"data:image/png;base64,iVBORw0KGgoAAAANSUhEUgAAAdkAAAAyBAMAAADinbzEAAAAMFBMVEX///8QEBCIiIhmZma6urrM\n",
       "zMxUVFQiIiJERETc3Nzu7u6qqqp2dnaYmJgyMjIAAAAcRTyBAAAAAXRSTlMAQObYZgAACAJJREFU\n",
       "aN7NWn2IVFUUPzvf++bNzGIfhkGMLslmiKNGYVlNRa71RzsWZJK4gygoSA0YphY1rlB+EI0UKEE4\n",
       "rmWbkTuSGEa1Q4ZrCjkohZHlwlZg4LKsu5G7FN1zv959M/PuvPpjXhfe875zf/fMO++ee+45vxXA\n",
       "g/Z183/yEHjVzHLzfzMw5JW1s0WntSJl7+ItWmg8mQJrkUIVDtRV87NHxkbbRK8Pb8aCReSWBwjl\n",
       "Yb1ungRCdIaKpHKiqm86Pq3nV3WLlL2x9kBa9K7gLXR2CiBOliNUgSO6eRIIsayKpHJUNYxPR/hV\n",
       "861u9Mba7aITS+G9/3Fi/QW+o5OaeSpQRaKcqpoSA3XVHPXGkSdFL0z31wDetvAFaNNMVIEqcoCr\n",
       "CkyKgbpqwp64cjglenvpfRBjTI6LftFMtAEV5CBXZebkQD010eteWHtZRsx2vF2YvhDAR75A7wLy\n",
       "dNJ5ngRCb4eKpHJUFU9FLxTYQF01G72wdrPsvUHvYxgwyflRfqjBOSGAkGqpqMgxrqq/dEcXH6CD\n",
       "345gG7Y+c7H5xgbHZfclelBOoHeXoLX0AOl86jxRACFWSJQUJJWjqoHe4sdcRV01/cnmW+u3Igg9\n",
       "E6Kj5NaSBoOuUbcmunEgQXYVFSSVo6r5LCB0O6mJe5BOtWTt1tLYgkbQWK2xVgJZXOq2yVHVpo6k\n",
       "1lqfB2Gqu2L35EiWOyjtdDpPlECWRnTa5ESVMd5KN0mnGGT79jdrK/zVfGvnFexRqiXJg09/qayN\n",
       "UhIIxpQaz6icqIqNGlMmKFGqpt3cfGu3WV16TvSjb5pky3VhYr8YjL9RSLYY7cgnBch8niO5/CRN\n",
       "sydMOsCu2vY6ANX0U/OsvcXqUn/rovUY2XshfIlfAV4kISiM3rkJ+C281QYEf85CcjlRFSlB+xw2\n",
       "QK/adg7gLP77e9OMNa4pWRU69WlQM0diR7T2WPwMbEDMxizkaSsJFSqMXP28JgP7cP/mm3fcjll9\n",
       "kspHs1dZQmTl+mbtJLKhLWCwuD9jIbk8JtNRx6qABMgkxMkHMkvNqwmmlIedEN7FDsEIWxss1Xpr\n",
       "/YG8vAXcX96uIIV8pwA7VXy4w1MQO3P48N7mbdvYhPLQB7F2ZqaRl+9cqZ2DlwSG2isKUsj7rC+o\n",
       "mG5vCRIN/tyx4+XmWWs74quZmphrpibmxNTggJOaBPmkax2/hV1d1XPmv4HNSc/IP2ghTv8IGNT1\n",
       "F+PX8bHdjhF8Jt/qaREpZip7vx2OVS/aNHtYiUsLnwEF7PfSWhKqw+BDO81ZWNsHmRNg1ApzM9mO\n",
       "ChWkANsK8HN3Wb447aNJygsKU4TEn3h46h6QYDI06p21YVKQmJUwrRDS1RGsqFq70hLwQEm2vPH5\n",
       "wko0fwbuxWdl0VaKTpaf/Eb2/2Jt69DTdAtXH+oi7WbWrq3J2K8AXDxxGKLn/ei4LMvhbS2oczsF\n",
       "u+i1J4fxFXeuwVj25v34ypTYNtrRk08GZyvW5iwBaQ+TtZoLAZq0PrsiWaYZ7JNyAQm49z6btXNl\n",
       "lLruIuLKnns6HeAEv/RRCj6hq3KRvgtdYT/9M8LVY8x16Rsj+yUEGIXICh2HOH2hzJnv0Nr4j49P\n",
       "wrodpFUQnHrCZu1xGcwmtHklnXCQnKFu6HQBNLbleLAIFRqW1gkaaxfi7R1KcXxooviPjOKNgbwl\n",
       "ILZ/RNQvhYPMWpMWJgnpvgg2Cqds1i6VmcK47n0oNw4bBkqu6HQJjOML4MliaOmJBMJiRYsS62Hp\n",
       "GQnSwWm7VWuzTBDAxdsFEfKBVsFy0k9GM60V/LTLOmT6GchSfaGRkdtGrjJrV8nMUWstTZeN8ffc\n",
       "0ekSmKA//RW/HFt/WXZvovMn6folyPfy5Ze1WtYG85YA570PsARCbG3hUXyljmBbAZ5DtqASxCnX\n",
       "bWu7RFYFWgJhiySa3NDpEthF1+sAv5xpE/np8ADZV4wOlVt3kXUi3Uhyuc+yltRQUkDal6T8uAQm\n",
       "fppYGmI4qSeYSypFV7BNzsXdcUn+5DVdCpYTRJMrOl0CB0GcoTXnqNoGLO8js5aVjA2F4K1knUg3\n",
       "XgjdrsTkrSAFpB36BuAuAPT1TvI+WTLpCqyW+3oruoaY+9arqymYt1d0STTdWPM3plzR6RIIw/DF\n",
       "IsZrmCmN+nMFpdZkKRQmQT28q1h7Z81cEhB8ZN9yp7INEXAkac0FzpDQ9qDmdSjrRKOmKzpdAI0p\n",
       "39tkg8SG2OXYnpfB8PuMON1OhB6boR507I0jNZvGVpnZD7oIrNlTVK1VwDrGnjGKWKy7odMFEKKT\n",
       "cwzyA9EcuxqTROYsXkeSqjF0qsC7irWB6rLzoO3JPhqobGAHZaEW3K1hDhhbPOCSThdA8N/AAuAo\n",
       "uxyjwpiLfCtVb/UA5ujmaMAKe+5g7aBLOl0Cw6t73FjrBXvuH23kya+5pNMlsD+9P80DbUDjyZFc\n",
       "860NjDeKUtNc0ukSeJlBG0WpRNKDSkTzZ1R6fhjjdej0Opy6BVwHiQyx1s8vpzav6IG1mqBM/TAw\n",
       "WodOZyx6lneYSAJ3g29BkbElcQ2B5MEfRkhcKeszRzMP0IhOpyIbkLQP+OWUZ3ryPxGik9qq4Hi8\n",
       "IusDRzodRXZg46ognvKEQhjWhKkCbD4ietjq0+lUZAc2rviOFj2xdk9GV82fX6TU9Q50OhXZgczs\n",
       "iHM179X/DtNld1VMTexfMDU/8MuhhbxxZIC7vfjRi15xfyEPjnnv/seuUu02rR2iMeof1uVlqSgf\n",
       "51UAAAAASUVORK5CYII=\n",
       "\" style=\"display:inline;vertical-align:middle;\" /></a><br>(see <a class=\"ProveItLink\" href=\"../__pv_it/22af6230335818daec6b91db35c44e2350f9d0260/dependencies.ipynb\">dependencies</a>)<br>"
      ],
      "text/plain": [
       "merge_back: forall_{f, i, j, k | (k - i) in Naturals, k = (j + 1)} ((f(i), ..f(a).., f(j), f(k)) =  \\\\ (f(i), ..f(a).., f(k)))"
      ]
     },
     "execution_count": 2,
     "metadata": {},
     "output_type": "execute_result"
    }
   ],
   "source": [
    "%proving merge_back presuming []"
   ]
  },
  {
   "cell_type": "code",
   "execution_count": null,
   "metadata": {},
   "outputs": [],
   "source": []
  }
 ],
 "metadata": {
  "kernelspec": {
   "display_name": "Python 3",
   "language": "python",
   "name": "python3"
  }
 },
 "nbformat": 4,
 "nbformat_minor": 0
}
