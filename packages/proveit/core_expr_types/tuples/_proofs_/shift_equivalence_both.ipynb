{
 "cells": [
  {
   "cell_type": "markdown",
   "metadata": {},
   "source": [
    "Proof of <a class=\"ProveItLink\" href=\"../../../_context_.ipynb\">proveit</a>.<a class=\"ProveItLink\" href=\"../../_context_.ipynb\">core_expr_types</a>.<a class=\"ProveItLink\" href=\"../_context_.ipynb\">tuples</a>.<a class=\"ProveItLink\" href=\"../_theorems_.ipynb#shift_equivalence_both\">shift_equivalence_both</a> theorem\n",
    "========"
   ]
  },
  {
   "cell_type": "code",
   "execution_count": 1,
   "metadata": {},
   "outputs": [],
   "source": [
    "import proveit\n",
    "context = proveit.Context('..') # the theorem's context is in the parent directory"
   ]
  },
  {
   "cell_type": "code",
   "execution_count": 2,
   "metadata": {},
   "outputs": [
    {
     "name": "stdout",
     "output_type": "stream",
     "text": [
      "Beginning proof of shift_equivalence_both\n",
      "Recorded 'presuming' information\n",
      "Presuming previous theorems (applied transitively).\n"
     ]
    },
    {
     "data": {
      "text/html": [
       "<strong id=\"shift_equivalence_both\">shift_equivalence_both:</strong> <a class=\"ProveItLink\" href=\"../__pv_it/e46c79ccb6fcbdd004ea2763195f4afdbcf164ff0/expr.ipynb\"><img src=\"data:image/png;base64,iVBORw0KGgoAAAANSUhEUgAAA9cAAAAZBAMAAADJU8BDAAAAMFBMVEX///8QEBCIiIhmZma6urrM\n",
       "zMxUVFQiIiJERETc3Nzu7u6qqqp2dnaYmJgyMjIAAAAcRTyBAAAAAXRSTlMAQObYZgAACoFJREFU\n",
       "aN7tWn+MXEUd/97+3re7R9Og5UcgR0+b85Bk4UgAbfXU2CsYZKvRWhW6XgAhudZTSA+KCZuS1Lvi\n",
       "xTUk2JRUH3dayhG9VQtNjXobTylchbzQiC2irmmRgOl6ae4SewfG+X5n5r2ZeT9u778z5Zv33Z23\n",
       "M5/5ft983sx8Z2YBTPn6UBWWIamhB+E9WeHSN1Qn9cng8upJv9eU/weSLXO94Mk+IFQ0ixNc6mgL\n",
       "LRoChVyVazggEtrKA4QbpRoE2Q3M+KtGdjt+FZxWyV5W8ZUnVoUrwHgna5dDLHFP0HQV2eouFH5u\n",
       "B2TfK9QQAljX3USpQ2t82WuCYYrviGXOxx4uBSOlCrKPY+bbGtn5Gvtqt1sle1nFV560V7kCDEyx\n",
       "J3mLJbYHtWsjqhIXCq8GZf9MqCEESB1f5KnTvvzTwTDlDUQsOv/3EKRUQfY+TFY0sul2X8vD+LKK\n",
       "rzw5IRSsuR+zEaro5fxCK/e7qB5mQiHXoebnO7jqwgGTt/Ty1KIPuwhBMEUQS87fGIKUKsjGLkl9\n",
       "U5mzsaMfb33OXk7xlScPCoXcLD5ONYzsJyPq8EENsq1VXI2mI8CUSCUWTCz94ocpMiUfYHUIUqog\n",
       "uzAzMfEDI0B7fWLi6cHWyV5O8ZUXpw5yZa88fqpNoZPd3hteiQ9qkA1nhGrCAcdEKj9oYvkvZyKc\n",
       "PyYfYD4MKVRG4/8ZHv62QfZFw8PfqbdO9nKKrziJFblC4dr72Fcn6wmdHTrZ2fXXXcYasBhahwsF\n",
       "a23FIPux6avY2DkNXDXppFlkTQ9PtRdzJ6oatr2/sxYAU2YgxKLzhVkIQQqVZN8FMGKQnSpBpto6\n",
       "2a0Vz9KlSSn0hsSoMxmeJcGmgaRuP8haxuHK3llsqVHGamKVTvYnqu2sMQsREZqEQhyuMAbUS+Hf\n",
       "7OtvQiHfJKEXZ5RKnBOpydqHbnM07OTb1nkBC5Fz4gFSxivmIYVKsj8lAs31jkt2ohgYBCaawWSL\n",
       "4p38pWLNGONTiPUN+hLDX50ueEMCvwRwWH3LD/vGRtHl3NGtV8kSJqRbh10bngEdAnXhjgZg/te4\n",
       "AvwIX4CHAJ6INzSyrSsgzhozFzFTSSickmGWbPYnHQqejgjV5CF6B+dFamrM/qmOnbKRzSMR/Wde\n",
       "PEBbRxhSqCQ7DTGkOb+27m2qDMI1aqVf++6NPaAMRKlLph8pKpsqvPhWbg8/7he7dPRZketUWqrK\n",
       "WPDzN7B+4HXQre7NlvW9sfeLxWlS68E3qevW+73fp2VNmgEDwvL6fAAmbb1cRbRzMYBN/fTlZvOb\n",
       "zeY/sbcuQJr9kpxdIlBiULApNGLd980rm03csfq4Dd9iX9uEanKxG9th6lreogr2Y2C9EwAz4kJ0\n",
       "fls1DClUkp130lr8gWS/5O2jPTO9gcV7M92Y/he+57/ucdLV/JitkP2Sse1mLbiN6pL9Vbq4lMWb\n",
       "YKkbeHiDlecqM/ARHILrammUg+7oXJcmUsItXpNuQINg3rQPoJF9TBIwZWs9u60Ck6Vosl2oG2bJ\n",
       "PnYJWPORZBMAUzu7OowA7TQkFiPJJiw6f1Uo0iA72/giTTu2QvYPk7ItCo/ut6GWPEVjPJsH4OTR\n",
       "CdZ7bz+gbpd6xcU4KZ54VCH7LrrA+6VP7iooWwxU+StxGo5TJbW03P7gFJekiYx06y1hIwyCeaM+\n",
       "gDaM75FD6x49Gp+sU89NRAzjLpSFWVqzsw5G3a9PjnNizi67gEyZp6y57JxB2bs4qHjjkV8Ii87v\n",
       "scKQQt298ZE7kdTvbVDIzjzei3txO0psRkeJ56lDnVtnJ/jDFOsq2VT8k/QAYx/FJyp+riwbVbb8\n",
       "IF0WRoke2e5kgeBrgCrPfWVrR10EA+sknnyJOZ5NYSIj3OI1aQZ0COad9wG0AG21eD+txbxOdg12\n",
       "5KqRAdpq99WerOlkL0KqcVQJ0FQhQJuI7Qqzrl1J2RzO+FEBGmHR+XdDkUaABr+kV/ak0iqQYxMq\n",
       "PFXaZvOtczj1LK1SdsWK7by/P1FSyabidRpYi5/F1/svt+BNcpVHNlsN4oIwnmioZD/nRk8LeEOV\n",
       "50ozf6rztWeehpuK9CVXTg0zGcUsYSIj3KKadAMCAvcgxmF55I4GoK5WFKsqa07MPInZAxrZmY7C\n",
       "TtaY8TpMsrqt/4L4cO88qDcFyGbfDX8us6dZD1w1IcBkL0+xgHreoGw7PEIw3Zp7J7Do/NxYMNJV\n",
       "l2yKR6BHJZti+h7YAhZ1ZIu6Gj51Y5zKjOXVaJyKZ59BoFV9Hmvk42ms4pGdqOAFT+fLKtmbZFiJ\n",
       "4E0wzsnOU+OzvP1HJB59oQpINrkmMsItqkk3oENYgtzRAHLKoRE6MSu92u7o0Xj/Bx//AC0z0rtw\n",
       "bgXxkUZLQ7YGhRuMofjg2q39vXyJ8IZJNgFuE6lMDTq7dez4hx0OQyNkzbO9y8Wi8yfqIUipLtkF\n",
       "25tfJdmvMb0c1kHygeHh3ZDP21kbQ4F4eQvrJh1Qn4H9KtmvURO6Y9Pmrhp4v3Cyy3jhoJNqNq9s\n",
       "nuWPegcksN/tpaJ3AFWeK2Ud9GEj9QtRGn2BpBxINwoTO5r/aDYddIuBwTCgQ1ges2EAtO3SfAUi\n",
       "t0ufYvorf0Bs69D7grdLB7kGbJe+YFo1sAjL+U+ZyJMX3AcIQ0o1zrPfp5GNZc/D6ASPaz9zO+Sr\n",
       "GMO11SiaTTzrwIsq2TSm/ATkPN2VXIXet33BIztZwYvVUVV79kYVvJGHyrkSfLqDr8OthRIvzX1J\n",
       "lFMY3JzFLGEiA9wtqkkzICGMYCYOyyN3NIB6EPJcu+MdTnCZ8B2E+PcJcYjzoF+W+5Zg2S0dhOTK\n",
       "Z02rBpag/umaeSKw/BQnDKkfhBirJeXPC5cm5xz4A03ERUbNPjttn4Q8Nn887sWmLtm/zbMibGLM\n",
       "7oXdycEOdnNRzCObvV70am92f8Eh+nUFzG6o8kIvFOqsEtaTco26KE2+FOpeJyMTnDt0i4H32boB\n",
       "HcLyyB0FICO0KukDYhtpJOxgC+dM/wkUTpYuNPtOJnhPNeSIcwTSexuRVjlszO8N80Riw3YvA444\n",
       "jdWSQvbGqzsdnEqgcPfAyzthcy05wJruUTyzvfuPb5ZNsg++yIqwiTF5OVvW9JfYTfz3SjS+iy7o\n",
       "kr889nA/wPUKGG+w8r4zbJ3MKknbYA3IcYB8icutAJZFJkRwjW5dj8Y1AzqE5ZE7CkC2W4X0FbH/\n",
       "cihsmcNcKfh/xj7tQfs3BINHgvk8BIXOaqRVDvP/MQQ9kVirEm10xEe2N5AYU0sXm7O58EVFDOds\n",
       "fbvUkxpOjDmtvCT7arpgt7YM1lYzDbXyHMRqvkWze3jh7pJlFHAtwIALoTwDIKS1vyWdauEALezf\n",
       "OoUq13BAJHQpORBptFA1yW5/tRRCtjf5V8MOQpQid37flv/WcstXZCtnIHXzZSoXOfURtRuspGKS\n",
       "/RvwbZpkPDCz5zOgQDI+wIUkGtn5tbAU2QVYkuwCDNzrDjoFnZmEw67U81X1zGpcrWjcHB5vNU64\n",
       "LG8+vNU8yhonez4DCiThmIALlmxFhpb3v/H0kv8bL7p91fyHZnfoTdBQErPDR5lu10YYxMjrvqC4\n",
       "7hsqo/4P3QqM7MhCr7kAAAAASUVORK5CYII=\n",
       "\" style=\"display:inline;vertical-align:middle;\" /></a><br>(see <a class=\"ProveItLink\" href=\"../__pv_it/e46c79ccb6fcbdd004ea2763195f4afdbcf164ff0/dependencies.ipynb\">dependencies</a>)<br>"
      ],
      "text/plain": [
       "shift_equivalence_both: forall_{f} [forall_{a in Integers, b in Integers} [forall_{i, j, k, l | ((j + 1) - i) in Naturals, (i + a) = (k + b), (j + a) = (l + b)} ((f(i + a), ..f(k + a).., f(j + a)) = (f(k + b), ..f(i + b).., f(l + b)))]]"
      ]
     },
     "execution_count": 2,
     "metadata": {},
     "output_type": "execute_result"
    }
   ],
   "source": [
    "%proving shift_equivalence_both presuming []"
   ]
  },
  {
   "cell_type": "code",
   "execution_count": null,
   "metadata": {},
   "outputs": [],
   "source": []
  }
 ],
 "metadata": {
  "kernelspec": {
   "display_name": "Python 3",
   "language": "python",
   "name": "python3"
  }
 },
 "nbformat": 4,
 "nbformat_minor": 0
}
