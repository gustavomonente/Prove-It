{
 "cells": [
  {
   "cell_type": "markdown",
   "metadata": {},
   "source": [
    "Proof of <a class=\"ProveItLink\" href=\"../../../_context_.ipynb\">proveit</a>.<a class=\"ProveItLink\" href=\"../../_context_.ipynb\">core_expr_types</a>.<a class=\"ProveItLink\" href=\"../_context_.ipynb\">tuples</a>.<a class=\"ProveItLink\" href=\"../_theorems_.ipynb#partition\">partition</a> theorem\n",
    "========"
   ]
  },
  {
   "cell_type": "code",
   "execution_count": 1,
   "metadata": {},
   "outputs": [],
   "source": [
    "import proveit\n",
    "context = proveit.Context('..') # the theorem's context is in the parent directory"
   ]
  },
  {
   "cell_type": "code",
   "execution_count": 2,
   "metadata": {},
   "outputs": [
    {
     "name": "stdout",
     "output_type": "stream",
     "text": [
      "Beginning proof of partition\n",
      "Recorded 'presuming' information\n",
      "Presuming previous theorems (applied transitively).\n"
     ]
    },
    {
     "data": {
      "text/html": [
       "<strong id=\"partition\">partition:</strong> <a class=\"ProveItLink\" href=\"../__pv_it/c0d76bc0cc168606280e31f410e5f72915cdb89e0/expr.ipynb\"><img src=\"data:image/png;base64,iVBORw0KGgoAAAANSUhEUgAAAl0AAAAyBAMAAACUkXO+AAAAMFBMVEX///8QEBCIiIhmZma6urrM\n",
       "zMxUVFQiIiJERETc3Nzu7u6qqqp2dnaYmJgyMjIAAAAcRTyBAAAAAXRSTlMAQObYZgAACYdJREFU\n",
       "aN7VW32IXNUVPzvf896bWUm1FvvBmKWSRiSTRJCUpE5bqlYoO+sfTW3FbIOCgrYDKdbaUqb7R7ox\n",
       "lA6lYLAEx6SNacTMhJrYSNMd3NZoFBy0lUhts8VIseCyhCjtbiO959yPd9682TfzdtnM2wtv9sx9\n",
       "v3Pfe79377nnYxYgAs0pQfTboejcyqurgC5IzETlTmLjq4Ev+EdUbuRYOPh+r2TX+lZBaD/w7i3T\n",
       "igZd1pXh4FX8PDhSIylVhfsD4Qpo/aQivtyvjstxnyvWMsVQ8DxNkAemmiSl2nA0EK6BebzKUXVc\n",
       "lnWwUm2qHgr+Br3ri79WkthdC0GTQgOHmwoaCA9s6WgsyF3h4D8gSzSnJUHJFQFoAxytK2ggPLDZ\n",
       "/40CXblwd5Gt0JyqaEm080GunQaeNtDzl+vNrkxLV8M5H2iHcht3FUk6sEl8mw54GRoI78CpLRI6\n",
       "veRbPVePAF87wjn3mTZ+Dhek1PpiD8dIA62F2C8vSSjBnVlq4baaRiECfG0MOR3RbsMTZZKyzS+I\n",
       "L88FwBUQ7Pn1VltCn1vyreaj4OJ/PBx8iKbjlJQsuIAzNGjzVSrxj8nJ3APewxZEwOAnLy2Fr9NK\n",
       "sud7EKCB6Z0Ty+cre2nwfIV9Z3I97lZSBkPPWwPgGtgoPVFS0FuZ/Rpf0bWwIt59SHdI2vs1Smo0\n",
       "W8H2XgPPudBlxM0/HTxfQ+HcCXCK5LUraTQruNgK1kfYiR+NGSYw4H0wXG4hVB5LbK8B0LB/Hxxf\n",
       "jXBbOiTQ+UzMKSmFd/4uwPfRM3oI1964Fh4BDtwLsU11gtKxVAesDK/g338P0P0K69NgcONUgcVD\n",
       "gg7b70k+D51ACbUqy7rZfWj3q4Pja6oZUkEEzyfybRN5qyDaj8Pg2AtcbrxNiyEv3ozTHBxfYoqH\n",
       "NPg1ePiolkAlaA74ExNIixe43HyOiBbGIXfmyJHHBmjvN4TNd1pVeH2LlrDtEUfbHznihxcooXuW\n",
       "w5cY6D+Tkz/qx1cTR8ejJfmXclcNCIbglhM6hu3IR+f6z0cjNFdbBl9DYne8V1G+ta2jf7mFXKvW\n",
       "ecmYA4dvLskq2G6kPALPdjEgsTXs67tdIKLdHIWYv2++xF7xZbDQp3DWooFMSvbRnqUVG3Iup2oy\n",
       "860tXXKzUN1iBroT4uq9JXf9Ca4dVxrfY9dqGsj2raWY8ZS/u4rogrRwrtMQw5mV70yrNOqcr7sE\n",
       "Ey11JqX9IF7CtJCjp6e3we+derwuNax5r+UREOsPm9t29Qx8ftXy5bTTZMo614WOyiRfYtWmtP3J\n",
       "aL7y3Ba8J2zD3sfrcKpQdJRGosPVEZCzJ4+A/XocWqtyPaYxWzvzdTSFP9+GJFxH82AEV9108jrG\n",
       "VwUnojpj+IrpbelLYubcgEtbtOPHf+EoDad4hw5oSfMGSKB9tL91Z8Hw9VptNdkvtFx77kHxLPlz\n",
       "NMviVPp+/1m5IokvTIE/ps8YvmzNRkssvBMqtjruPHOX0sj/7Xa9IknzBORRtstn/mr42sB3zWzb\n",
       "K53sY9+WKr4ybLa9iEL/YxLUAx/CB/4drZrN+PE45R5/62D3h2W2HhPi8zZ9xvCVUH5N9ukKnrZo\n",
       "cz0OrWmlMXyvuRJp3gYHJV+OY6LGc9xuHqapuGmLlO6jPSPAE9NAOFbnZVgs0Zp+XwseU+sevlpB\n",
       "PfBhvO1hchx+Rh0TJmeSXLOX8yWe9hZ55juz/5ydbRNfyZnEpGiPQkYMcTckH56cnBB87U8rjbF1\n",
       "TVAIGvNu2C6+FOxytm0s21TJa+DEHb6yIKUH5c69aDNAeNPjtmOJ1vR7mn0N9BjT6L4DEuqBN3BZ\n",
       "5OglXEVvbJ4m1bDgNFYdy7p8CW8LvqHOsPml12PjN0TnuJxfiTuUxrrkFebtoOYtcmu1y/AVE8Tt\n",
       "YOsmR7OucXtJSQAvBEZzDMjCQirR5njaw1bnDr0432NMV3dBX/6FrskB3Pr31e2ZVlbMhTEhZgrb\n",
       "Yy5fGNQ/BXhG82WLnpy2Qn8UFv5tgD+j/BcU99VRYyJZMRdAzbfBwfeRK7macorr7YfYnTISwJOB\n",
       "oToDsjIslWjTtS58QW6+x5hGNzGvL/9k1+QATpexpvVALflJMS+EmK+lPsv2x0fEMHU8o/jK3vRh\n",
       "AeJ6LR16GeBGcUIMl/hxScyisSZqvAc7jTVHzRsxDyU8lfNqKhJHbL7LOPa0kbp4hbxxICvDYokW\n",
       "PCGxl6+gMY0uCQTlcHczpzlI7NlkxdyMheTrerFCm8q+ZfSpPL8UPve6yQnjzV/vvZMJCYkJ++Xp\n",
       "j88Bi6ow+XL1ZpKskYLKpi6W2FFAsNbiPeoyLJVoWb+Pr4AxXd180X6jRlAON851/s2y3pNPpr56\n",
       "Dd+eq8ZHreIZztcp/g49+7fQz3hMM2ra3bb4HIsB5J5zQUpOQqywXJBxVkCIw6eBpeVp/3L7fXwF\n",
       "jWl0G83PjbYJyuGfMPNwrU6BQDv1Yk2JjK+EeNav4RmWeLD4izrYmU1JcHZI82C3O0wuuPIPafQP\n",
       "pPSr+Iy0kot6SQoIb5FxNmVYLNGyfh9fQWMa3akD9WcklMGzF/rwaYvGd+v0CWPcu1nf2zFc33V8\n",
       "VqO60phcIdXxXSfnethmVKknPFXIKfD0O7Oz//qMqpwRX0FjGt2N9NgIZfAo1Gvh5g6+yNKihL8L\n",
       "C3o2A5TSDr4NsH7f/Aoa0+g+tK7g5ytTiQBfoyXveqQSLEq7wR+xexLTGih/O2iqtrvB0+/jK2hM\n",
       "rWtdzF7UTmbFa90GHvMXvfZ+SJlca8EJts0aiMaZ2/s14OkPZe+1bm7OXJ7BN0Qhl8I2SHIJGiUp\n",
       "Jeb2iy2uJQuvnjIsCS5Q/aJTVW1liZb1c75ieC01Zpcar6ubqsIHDkHp8JvaAbZPeVNuo1p6UGyw\n",
       "+bIsvLplWBSoOusC4SaVQ6d+KtGyfsZX/NsfbXPHxOE6xjS6wvMeWU9QOtQwkfg9Jvu9LwUxLwEL\n",
       "ZzAGe96/M5KGC9wFrGorS7Sm3zO/eo3JdA30KQPJFyPBl3sbIsiwx993I28Z7Lb8OyM+nwF+kxwx\n",
       "XbVVJVrTT8vMY3cWH9PVZVA33j4WjVRw9ioj7oH0ozNKAp1Q8W9KWJ01wOz/Mvqn9divSrSm35+C\n",
       "WHxMo8uhxtxH5f8V2A8kD0NupOZmDqkwnfMr4CxwgTu36WfEflWiNf1+N2TxMV1dF2pq45AqRoSv\n",
       "+Phi+ei3+s4d5/rOR/c/JkFd+NnIlBF2wipo0fl/PjePFuV2iKz9/wFVkdqPhlbkIgAAAABJRU5E\n",
       "rkJggg==\n",
       "\" style=\"display:inline;vertical-align:middle;\" /></a><br>(see <a class=\"ProveItLink\" href=\"../__pv_it/c0d76bc0cc168606280e31f410e5f72915cdb89e0/dependencies.ipynb\">dependencies</a>)<br>"
      ],
      "text/plain": [
       "partition: forall_{f, i, j, k | ((j + 1) - i) in Naturals, (k - j) in Naturals} ((f(i), ..f(a).., f(k)) =  \\\\ (f(i), ..f(a).., f(j), f(j + 1), ..f(a).., f(k)))"
      ]
     },
     "execution_count": 2,
     "metadata": {},
     "output_type": "execute_result"
    }
   ],
   "source": [
    "%proving partition presuming []"
   ]
  },
  {
   "cell_type": "code",
   "execution_count": null,
   "metadata": {},
   "outputs": [],
   "source": []
  }
 ],
 "metadata": {
  "kernelspec": {
   "display_name": "Python 3",
   "language": "python",
   "name": "python3"
  }
 },
 "nbformat": 4,
 "nbformat_minor": 0
}
