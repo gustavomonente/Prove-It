{
 "cells": [
  {
   "cell_type": "markdown",
   "metadata": {},
   "source": [
    "Proof of <a class=\"ProveItLink\" href=\"../../../_context_.ipynb\">proveit</a>.<a class=\"ProveItLink\" href=\"../../_context_.ipynb\">core_expr_types</a>.<a class=\"ProveItLink\" href=\"../_context_.ipynb\">tuples</a>.<a class=\"ProveItLink\" href=\"../_theorems_.ipynb#extended_range_len\">extended_range_len</a> theorem\n",
    "========"
   ]
  },
  {
   "cell_type": "code",
   "execution_count": 1,
   "metadata": {},
   "outputs": [],
   "source": [
    "import proveit\n",
    "context = proveit.Context('..') # the theorem's context is in the parent directory"
   ]
  },
  {
   "cell_type": "code",
   "execution_count": 2,
   "metadata": {},
   "outputs": [
    {
     "name": "stdout",
     "output_type": "stream",
     "text": [
      "Beginning proof of extended_range_len\n",
      "Recorded 'presuming' information\n",
      "Presuming previous theorems (applied transitively).\n"
     ]
    },
    {
     "data": {
      "text/html": [
       "<strong id=\"extended_range_len\">extended_range_len:</strong> <a class=\"ProveItLink\" href=\"../__pv_it/fcf73e5fba5b0a29f4ef2a2a6f6afdbc36e3f3eb0/expr.ipynb\"><img src=\"data:image/png;base64,iVBORw0KGgoAAAANSUhEUgAAAj8AAAAZBAMAAAAs6FIGAAAAMFBMVEX///8QEBCIiIhmZma6urrM\n",
       "zMxUVFQiIiJERETc3Nzu7u6qqqp2dnaYmJgyMjIAAAAcRTyBAAAAAXRSTlMAQObYZgAABpdJREFU\n",
       "WMPtWW2IFVUYfnfv3K+Ze68hfZBSLS6GZNFNozA0NiLXgvD6J8skL5KQoHRBaNP6MRTIrhHNP6UQ\n",
       "J40+/OHeKJSNYi/rkqEEg0uyQtoFlTBwWawg1ojO+55zZs6ZOXPbYFOKDuee2fvM+7zzznPPec/H\n",
       "AiRKbmAn/F+o9A+0DGj+ujx7ww1437//zGL9xghUDGCc/tivQqyMzIqLxfFi+P4UezQUxuNpzlI5\n",
       "TKA2AudiAiXBuS0fi2Btl9plKwiClyDndaId6vW4IXzqw1YdJ1fOAgNrq/iYBJLO9Bzjhhwm0CmE\n",
       "fooJlATntlwWwVZIj9ypawTBdrDbnWjbRpvcEM4AHNFxclWOjwh8dzQ8kiKQdKYLFIQcJtA+vLgx\n",
       "gZLgnJZyVQQ7QV+Hn+ojCMtYB5r9ywcQGkKpR8MntCHC79nbXva5ITceNwViLJLDBKqgi2ZMoCQ4\n",
       "pyXviWD5dDkqICzvd6A504oh2Ddp+E6DQAA/+NyQG4+bAjH/FoLDBCqfPHx4bzxJJ8E5LXtFsMUG\n",
       "fT0hIBp0fem0UkMxBLio4sKVSSAyvGgUKP0dBQdnsd8GB19PzGIJcE5Lrwi2m3r4xG3LCbJ7sV9X\n",
       "0wfmAzuqnGsvwuF/XMXJ1cElRoGOS+NxUyDcmVIOLos4KNAWgKGEQAlQnRqVa9ZsQj23RtVU3hbB\n",
       "Fvgke5VDJYv16XKHLD2vR3AzcAdrz6s4uap2BSaBzktjEqg0RaUKmjOltB6LOCjQ42LqWBkoAnGQ\n",
       "/8JwCRsLZNsSxi1230mMiMy3LAYifQ5YwTBmXhPB5inNFX/l0HsZ9kinkS7QgZrgngU27cExFUdX\n",
       "ZW9e0yTQMWk8bgqEO1N+/+ajEQcFykM3SlNa1FIE4mCW5zB6agFEi0sVNGZXdn9F/Jlj9/IVRBMy\n",
       "HlYQHXj9yr7uW4XNzSLYrr4wxzLIx56QnU4XaFRyfWuGtZtUHF3ZsNbnXeTHO6em6qFAm6RxQqDI\n",
       "mc37VQ29XI04KFApyOvZEb8KUCmhQBuF8UYCPjRktyyX2q5jRYHsL5cHjnsSHjEKRLkXoVG/s0An\n",
       "JJdTNqk4d3XCmIM6C8SdqRl+Rheo2H6GBrKvCiRAk0BbhPEWiJZ6SmHec7VwFXaZBJocOQzO6Qy0\n",
       "jEOsUBfQbhzDHYbYbsmFCo79fhXnri4YBeqXxmoOquvO1DetRxzaiw29iFPBO6u0vRiC1t3UEXr1\n",
       "IdYQxg263x3bzEz+HKADIt1H1QULI3Cef66nZUzSXSL32tdKnZP0fMmF4aaapOdLV/Y1+OskHZ8t\n",
       "uDOlDDdbWpKGz+hHm9Q3qwiWqFdlrLYqEC04Jmnhgfed2OK+7NLqgkhHqbpQoZhrJ7+TAh0XwfI5\n",
       "fbiPQ9Y0229mWjDMqPYfIJrwG1swSy4NRlip4uSKBocm0P3ckH+SAkXOlLIWd7CCQwLR7AnLdYEQ\n",
       "fJdS/yeluiqQ5XJjdsX7VmwRkWGBrhGkNVRdOMQFKoVrnH4RLB9PayW0nQVWqUF+F/v7FRBNHp8+\n",
       "gO9gTUtDeFhMrhFOrjKNmEAP3XUh4LPwJaNAkTN1K3YOQg4JVPbD3hYJROAbXJRAE6jOjfHK7mdj\n",
       "QwKNV4vrC1RdWD84ONjj1IpBw7jV+EZd9H/EPl8kNxk0O7mh4Q7sOA0NR1f5arwHgTC0G+lbjR2m\n",
       "rYbgKOdBtyTPg+wZyrbzPFWgrMuN2RXvW7Eh1sUozwrSaqou5HgPgid6DJtVp35F3TaOiYVWbJPB\n",
       "PkcrgTDcQCsn2k9G+ARk/QNyYWr7ho2nebPKnXXYrIZiJAVy2q3iHoB12ixG2s6Qvuw+lNFkny8b\n",
       "GPZ5L0DS91RdKGHcZbZjD998SARb8CC/py0hDAMzTk8i3oPs86o43xgq/l6oitMIBS94B1pvGnN7\n",
       "p+MO6SyNEwmkTK9RD9rmZRcCLNGn+V3CeBfeh0wfM1nnZW/HZiEf1Xmfkx6kynrcWzjc2QKpbjgw\n",
       "K/d60dEVKgblZLzYR06vkNzNq6SiCm67uV7z8eBQKL/pwGzzqk6cSCDlZERbIjphJpLtUmG8lK+D\n",
       "yCQyxmOZ7iYntakygbpZDoqfdC42HrmenfWRa3m2R65oKIwXz/bINeSEAlXO1MwCjeSeXKALVBDG\n",
       "HPhKPUcegSu0fHSJ5ARY4Z87d7sOJRSotCjl0D7Ife3pAlkBN7ZoaVbl/VyOhDHqKU8T6RDV/4hA\n",
       "2txn/L9YJmxHwv7CBo+f9k8BgHuoQvVfrE//QP1P62MXkC0LbqQAAAAASUVORK5CYII=\n",
       "\" style=\"display:inline;vertical-align:middle;\" /></a><br>(see <a class=\"ProveItLink\" href=\"../__pv_it/fcf73e5fba5b0a29f4ef2a2a6f6afdbc36e3f3eb0/dependencies.ipynb\">dependencies</a>)<br>"
      ],
      "text/plain": [
       "extended_range_len: forall_{f} [forall_{i, j | |(f(i), ..f(a).., f(j))| in Naturals} (|(f(i), ..f(a).., f(j), f(j + 1))| = (j - i))]"
      ]
     },
     "execution_count": 2,
     "metadata": {},
     "output_type": "execute_result"
    }
   ],
   "source": [
    "%proving extended_range_len presuming []"
   ]
  },
  {
   "cell_type": "code",
   "execution_count": null,
   "metadata": {},
   "outputs": [],
   "source": []
  }
 ],
 "metadata": {
  "kernelspec": {
   "display_name": "Python 3",
   "language": "python",
   "name": "python3"
  }
 },
 "nbformat": 4,
 "nbformat_minor": 0
}
