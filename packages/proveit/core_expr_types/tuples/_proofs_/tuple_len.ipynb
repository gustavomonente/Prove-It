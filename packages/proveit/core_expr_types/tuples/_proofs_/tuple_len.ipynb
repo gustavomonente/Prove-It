{
 "cells": [
  {
   "cell_type": "markdown",
   "metadata": {},
   "source": [
    "Proof of <a class=\"ProveItLink\" href=\"../../../_context_.ipynb\">proveit</a>.<a class=\"ProveItLink\" href=\"../../_context_.ipynb\">core_expr_types</a>.<a class=\"ProveItLink\" href=\"../_context_.ipynb\">tuples</a>.<a class=\"ProveItLink\" href=\"../_theorems_.ipynb#tuple_len\">tuple_len</a> theorem\n",
    "========"
   ]
  },
  {
   "cell_type": "code",
   "execution_count": 1,
   "metadata": {},
   "outputs": [],
   "source": [
    "import proveit\n",
    "context = proveit.Context('..') # the theorem's context is in the parent directory"
   ]
  },
  {
   "cell_type": "code",
   "execution_count": 2,
   "metadata": {},
   "outputs": [
    {
     "name": "stdout",
     "output_type": "stream",
     "text": [
      "Beginning proof of tuple_len\n",
      "Recorded 'presuming' information\n",
      "Presuming previous theorem (applied transitively).\n"
     ]
    },
    {
     "data": {
      "text/html": [
       "<strong id=\"tuple_len\">tuple_len:</strong> <a class=\"ProveItLink\" href=\"../__pv_it/405172023099c7abff92f3e358b4aaa804e16db70/expr.ipynb\"><img src=\"data:image/png;base64,iVBORw0KGgoAAAANSUhEUgAAATYAAAAWBAMAAAC4Sa0YAAAAMFBMVEX///8QEBCIiIhmZma6urrM\n",
       "zMxUVFQiIiJERETc3Nzu7u6qqqp2dnaYmJgyMjIAAAAcRTyBAAAAAXRSTlMAQObYZgAAA4RJREFU\n",
       "SMe1lk1oE0EUx1+TbDfZbFIPXmoRorVVEEqoBy+ttBbsSUwr+EWhJehBkRKwVq2ioadEKSwKthQK\n",
       "i+IHLZqghKqgBhoPKkhAT2JLQCvoQUQ9aA7ivJlJstnsbN2i77A7u/+3b347M2/mAfwrO7TK7yR9\n",
       "FR+1Lf+9ry8POdqYcdCBX8Or2mWtLI1AAduLVp/mbDSz3QbGpsSd/P1Ra7b6OFVy8BKfPluziTWz\n",
       "feJsQc0J210BW54qOZjCGYlbs4k1kwXCnO21o1WjhgRzSpUcBMlSVNPWbGLNZLLG2c44YlPWiNhQ\n",
       "yUHgxezsJFiziTWTTQJj88WcpdsHERsqJODPROKcgE2smayZs7nCCNjRvs4+qcsOC1Zs19qZQgIe\n",
       "AUjyqDVsTFvZJjibN08u3VrwK8ABsTdzwP9ZKrO9+oL2HpvZbqaQgD2gkL1CYgkmncjBhqEyG9NW\n",
       "trOcTSaLU1kP7jjs3S5eZdQBDpLmvMW4+dI7mEICyuDKs7dzC53wQNXdepmtotnbWs5WR/pxF0Em\n",
       "WdYrdOYOaIMWbAp8YwoJqOZlvhFcmtbhcSisVua0rDlgq4tDKmLHxh1EbOAvltl8hX0AnlacQGKZ\n",
       "zGUDG9Xgemvt6aW0D0es5zSVhadgx8Ycdg5xJ+N6+4hNL1cwYPIwcWjQ2QmVUe8MVNioppyUyJ8c\n",
       "q+7gVmRQh6BVLqTSMEzOQxs26pAtVuVClZ4t5QLcJ5vS9DwoNFMzkF0wsKHmDksxGDBtC9tgPy4N\n",
       "qOwF6K6SGN5QYFSlP678xp4Khga9UAffHG6FHVZse0jhgAoGbMCFOQ7S6URinLDNyAY21OrSLjLK\n",
       "Y9UBmqDV8NTL3T2kQyXacnUTe3WKZJWMMzQKvCGPlRy82OuyFVv9IlMwYIBEUIoRGGLj5uk3sKGW\n",
       "0rxvdROb8gsmZv0bbc4sZPPXlmaPyjN3g0SJCc+sGA+IUQpZeIaNNwDvDGw0r7TB3XTcpnTfRXoh\n",
       "t0bpR97fY3PW062rttNsqfFEXfms55zHNfCSJPOc74J6E5sneq+TsvWlpUbo06RGqQl2bW3O47HB\n",
       "LcndvaUa6cqFKDl9ascjVGrdfC6skXj1lDO+2ELWW/WZZTCc03JJ4ucD32VfW9bu24Gqp6SQLVnT\n",
       "f7VtNu5q/d/TvIZGe8huUd1Qk7c4rskDNJ4rYq20jTipaAI2A/I/7A+ppBaClt+IyQAAAABJRU5E\n",
       "rkJggg==\n",
       "\" style=\"display:inline;vertical-align:middle;\" /></a><br>(see <a class=\"ProveItLink\" href=\"../__pv_it/405172023099c7abff92f3e358b4aaa804e16db70/dependencies.ipynb\">dependencies</a>)<br>"
      ],
      "text/plain": [
       "tuple_len: forall_{i in Naturals} [forall_{a_{1}, ..a_{_a}.., a_{i}} (|(a_{1}, ..a_{_a}.., a_{i})| = i)]"
      ]
     },
     "execution_count": 2,
     "metadata": {},
     "output_type": "execute_result"
    }
   ],
   "source": [
    "%proving tuple_len presuming []"
   ]
  },
  {
   "cell_type": "code",
   "execution_count": null,
   "metadata": {},
   "outputs": [],
   "source": []
  }
 ],
 "metadata": {
  "kernelspec": {
   "display_name": "Python 3",
   "language": "python",
   "name": "python3"
  }
 },
 "nbformat": 4,
 "nbformat_minor": 0
}
