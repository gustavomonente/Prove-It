{
 "cells": [
  {
   "cell_type": "markdown",
   "metadata": {},
   "source": [
    "Proof of <a class=\"ProveItLink\" href=\"../../../_context_.ipynb\">proveit</a>.<a class=\"ProveItLink\" href=\"../../_context_.ipynb\">core_expr_types</a>.<a class=\"ProveItLink\" href=\"../_context_.ipynb\">tuples</a>.<a class=\"ProveItLink\" href=\"../_theorems_.ipynb#range_len_in_nats\">range_len_in_nats</a> theorem\n",
    "========"
   ]
  },
  {
   "cell_type": "code",
   "execution_count": 1,
   "metadata": {},
   "outputs": [],
   "source": [
    "import proveit\n",
    "context = proveit.Context('..') # the theorem's context is in the parent directory"
   ]
  },
  {
   "cell_type": "code",
   "execution_count": 2,
   "metadata": {},
   "outputs": [
    {
     "name": "stdout",
     "output_type": "stream",
     "text": [
      "Beginning proof of range_len_in_nats\n",
      "Recorded 'presuming' information\n",
      "Presuming previous theorems (applied transitively).\n"
     ]
    },
    {
     "data": {
      "text/html": [
       "<strong id=\"range_len_in_nats\">range_len_in_nats:</strong> <a class=\"ProveItLink\" href=\"../__pv_it/0cc552a0b58836f252ce4f0e3297b18ac17c24eb0/expr.ipynb\"><img src=\"data:image/png;base64,iVBORw0KGgoAAAANSUhEUgAAAW0AAAAXBAMAAAAy4QMCAAAAMFBMVEX///8QEBCIiIhmZma6urrM\n",
       "zMxUVFQiIiJERETc3Nzu7u6qqqp2dnaYmJgyMjIAAAAcRTyBAAAAAXRSTlMAQObYZgAABNRJREFU\n",
       "WMPNl11oHFUUx//d752Z3QapCoqyJChSEFYjlGoKi2ITxY8NQpJW0aWk6EIKCwUjRnApUpNIdMQH\n",
       "gyKOjbY1QrOitLSI2ZrQ2vRlqFhaUNmH9qGVhq0o1FTEe+7XzrKzQx8W9cK9OTu559zfnHvOuXeA\n",
       "zrftHbMUdfBvtaSLZSU0HrF29IZ0qZm26ICV851Hpmok/Nw57oOQ3AdpMO7fLKSXELOD1OZ6bKny\n",
       "pYMi+1P04T507W0Hx6/myNRpenC5c9yXFPclGmKnrwtpF4xakNrYYkWqnGV8EL3F3zPRAow6NzVL\n",
       "+1PuGHYqK7lJABYez0kJ+C5Azfj9U+iJsDKit3C/mO8GuripNAt9q9Ix7rgtueM8LBa1BHwSoGbW\n",
       "PRNhdImuuc+Nj/PdGp2O5VHiplIr8/Pvdy5MyNSyEoCTWmIeyrVXs0qeicAF2SX3yEb5vDhkXCZu\n",
       "MnVtcvK1QJS2+ZT3edajuEnAD7f2csnooZ3Pto+u+3ZnhYrRTTG7JLvgNnT6Fc3MEHGTqZ3AFD3r\n",
       "c9VqSHOiiHQF6xeVYkivPQJ87UMwo7hn+M/fhGRF2K6nAhJzfUaqhHEHG3+RXXA3KlERy6lMSZh6\n",
       "RGS61V1l4zYRbXxMqLmAjv+oMvHMJraG/DHclwvdIp9PKO4JXpD/ENKHYbaEWWrP/XFeqpwHK0A4\n",
       "IrvgTqDBHXN2loSpOEKub/SJ6dFqyyIFGvrZ/jHB+KbXNcsreFD+b4Pi3qDTjUkO+TNab8+9qFSc\n",
       "yBobX5BdcA+uslYT3EYh3SVMWW6c75Tjzx1rjeKy5KZ6e+7oPMwzYVR9uXm6kbToBHOfbFZp5p71\n",
       "+BvPRSV3sjZEmfHOFjY+zF257yEPd5yySsVJ5O4m7nsRoXg3n92WqfrGSaIgpb2kHBAne7VKOiuN\n",
       "92vudV7uVKUsTU2N8hJJQ5U2CdmnPNysOIUjKqMsviua+zDSPBryKz9WffNynUw347oVnJc3aZWF\n",
       "SktehjNqGqshOFWWpr7ifuilNPqCRMM+4eEeAD63ClLvgyNN/h7AnOC2dI1bUtxLHCInpEj9I7Z8\n",
       "FQtsPeNvyEH/YselVqGIQp/ssn5PKO5f6S1q3JSsQeJlExk0apjg3kqSi4FJ1hzsQWx19c7VK4L7\n",
       "eQyzpxkzn3RVDPQrbhLwtJJ2uby6xl9l8suQQ5zcMU6ckbpW2QRZdy82uPe/IZJv+CpzGVU/XqhT\n",
       "/OHN3D+f8f//6eEeoTfTB/Ba3uvvrYgJf+PRjO85/z08x/cB1o+1nvC0ulXWE3fTMiXR9Tn/xJvj\n",
       "TUF2oHGxWUNyGt9amHVAGau5acqgXqRWVdwUMT/B4i/O7k5Vn3uVWbjSuGGJe1VrUaVj7XDalRO3\n",
       "84rf9l6lWuOKxjI0ejv2n8JgBaGyt54wf9yj327Mltzvvb4DeAB4i1x/QdZ0alPqHjuF+HRNPYLY\n",
       "XyPTgrCP9VcOSd3kX4ksAu6xCqPWdP8Ux2RFRbngDrH83uNTvyG+OUIsvtt9N6R67MYXBBLsR6qV\n",
       "gTx9ZrPS3bFFvehUAHdCH/zps3n5JWXao+863nO+HHvsNn9u0/X/1rrL9zvt/A1/p6Vs0ZlX8r7z\n",
       "GqasbvnqzCVjRe95iSdjJ2z/C+Ic/pctDP2V6t82/odw/wB+5VXdO0KkTQAAAABJRU5ErkJggg==\n",
       "\" style=\"display:inline;vertical-align:middle;\" /></a><br>(see <a class=\"ProveItLink\" href=\"../__pv_it/0cc552a0b58836f252ce4f0e3297b18ac17c24eb0/dependencies.ipynb\">dependencies</a>)<br>"
      ],
      "text/plain": [
       "range_len_in_nats: forall_{f, i, j | (j - i + 1) in Naturals} (|(f(i), ..f(a).., f(j))| in Naturals)"
      ]
     },
     "execution_count": 2,
     "metadata": {},
     "output_type": "execute_result"
    }
   ],
   "source": [
    "%proving range_len_in_nats presuming []"
   ]
  },
  {
   "cell_type": "code",
   "execution_count": null,
   "metadata": {},
   "outputs": [],
   "source": []
  }
 ],
 "metadata": {
  "kernelspec": {
   "display_name": "Python 3",
   "language": "python",
   "name": "python3"
  }
 },
 "nbformat": 4,
 "nbformat_minor": 0
}
