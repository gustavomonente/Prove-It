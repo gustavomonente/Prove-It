{
 "cells": [
  {
   "cell_type": "markdown",
   "metadata": {},
   "source": [
    "Proof of <a class=\"ProveItLink\" href=\"../../../_context_.ipynb\">proveit</a>.<a class=\"ProveItLink\" href=\"../../_context_.ipynb\">core_expr_types</a>.<a class=\"ProveItLink\" href=\"../_context_.ipynb\">tuples</a>.<a class=\"ProveItLink\" href=\"../_theorems_.ipynb#len_of_ranges_with_repeated_indices\">len_of_ranges_with_repeated_indices</a> theorem\n",
    "========"
   ]
  },
  {
   "cell_type": "code",
   "execution_count": 1,
   "metadata": {},
   "outputs": [],
   "source": [
    "import proveit\n",
    "context = proveit.Context('..') # the theorem's context is in the parent directory"
   ]
  },
  {
   "cell_type": "code",
   "execution_count": 2,
   "metadata": {},
   "outputs": [
    {
     "name": "stdout",
     "output_type": "stream",
     "text": [
      "Beginning proof of len_of_ranges_with_repeated_indices\n",
      "Recorded 'presuming' information\n",
      "Presuming previous theorems (applied transitively).\n"
     ]
    },
    {
     "data": {
      "text/html": [
       "<strong id=\"len_of_ranges_with_repeated_indices\">len_of_ranges_with_repeated_indices:</strong> <a class=\"ProveItLink\" href=\"../__pv_it/9159d349fcf6b35fb8da5f6014b3fa05c49799ad0/expr.ipynb\"><img src=\"data:image/png;base64,iVBORw0KGgoAAAANSUhEUgAAAtAAAAAyBAMAAACHavEPAAAAMFBMVEX///8QEBCIiIhmZma6urrM\n",
       "zMxUVFQiIiJERETc3Nzu7u6qqqp2dnaYmJgyMjIAAAAcRTyBAAAAAXRSTlMAQObYZgAACZ1JREFU\n",
       "eNrlnA+IHFcZwL/dnf03O7t3SNUm/mHtUVuwpWMjhqLRrQULCnYTQaoWspYGqjR1IaJNKnVtIb1G\n",
       "ClsFk1RiJrFe0xRzl8qpKaZZcm1aDSGL10Ir1VuxIhV6XPNHvDvS+P7Pe29md2dvpst4frAz8/7M\n",
       "fjO/nfe+733z3QH0lcTlyy0YpjwPq0Um2P7s5bcD9E4c2+sM8+qs1qoBbXTo/qm9R4OArg736j7K\n",
       "9mnnf5fw19j+r7xiY/xAF0b5k13B23xbbqSlY8G+aR/dHVvJVQykSNZ0TJn9cq34gj5QUUAfwhvz\n",
       "xptoHS7dDZlmry/4xRhtNhv4Z1vbp7ciQs9AihRN9BQO2rwivqAfAgX0m3iTOb1M63BpK5idXl9w\n",
       "z4kpsi/hWy7W+vRWROgZSJGiiZ4i7PnR2IIuLCmgizY+nPwCfcxpCeBkr6fywhP0YJbXnAysnOsZ\n",
       "TJGq6aQCOtuKK+isrYDOkpF4gjeysXqg1y+1wA62i8kosPITsBJFqqYDCujCYlxBzzUV0LvJ4Yus\n",
       "ajfblyo9vMM6M2d1CNBbFa5nIEWaJnKKuxTYFlfQ94ECeowMzfevo1WoZI6VUZPd9fzix7fRxiTe\n",
       "HbwWevZWRegZSJGmiZzigp5z4gk6fUEF/Sg5PIcaGrRkGcj9K/YwUiOIz+3Ys8IOmp1o9+6tyjl+\n",
       "EFQR9eEUTeQUF/RkOZ6gU6Mq6PvJ2LwI6XV1WvpZCt1Iod79G/ZX4cvr8TSLXIJic2Sqd2/Veb7I\n",
       "jwIqYhO6oomc4oIudeIJOlFTQV/BzY5RpyUHP0jphd4G7Vb8Teh0E25zevfuYt6CKqLXrGgip7ig\n",
       "k4vxBL257QMamx0OGk70QfeiBJqWAoMW5i2wIgHa1aSBzl+KJ+gbmj5TR67GQOPSTmCFLrKTgc6S\n",
       "1cTf+/RWBOkpbtg0FlzR7CtX2bomQ5064H3xBP1D8DGGiTK7flQyl63eNuo9DDQxUSZe6QU2hkhP\n",
       "8eZ2ohlY0csfgjW6Js0YwsPxBH2lBnqGWO4KA41KxsI+ZDJbMImXu+8A24gSWq8x0MTNIutMubdy\n",
       "oJWwnsevgREnqKL8wTosaZrIRwZ9loEmGv7SB3SJOI7td5+zeV4DjZHBbXwQ49JWdBmlKmR3oOPv\n",
       "AttksQ39HnZZjQXWj5yQwhu5N+koDtzSDq7nTrg5uKJMGfuAiibykUHPVSno03j3rz6gLTwLlZwh\n",
       "uNHnNNBkLfwS58ZXxk+iz7NepwFfoNXgP892vqD3760Kacd63gufTgdWlKimWlVN05Oggt5cpqD3\n",
       "YMvY6AOadNgzjJDSsga6aEOh9hYw91SO9bS8TgP6/KaEx91vaagn7RBf17+3Kqid6MkvwHemAyva\n",
       "D9kvVjVNJzXQkzYFjZ9Ta6rfHI0f+dNDAF28qIGGRyC7C01v+fX/LpMSmWDwRFn2nHwQr+CPoM1P\n",
       "fnAntobN/a2HuvdWpyzUTvQYNbiuHVjR5yF5RtfU0UCP1Cjo4h8PH97d1xi+fvjwU/UhgGbuvQT6\n",
       "EBTHXJfvEHXDUEXRezIG9KebXHiNzFi7e2/1B8YfSc9AihRNuaYOusG8jv+Mj3/ffyxJoEfGxx9u\n",
       "rQhdvut07LtkWJKgEyvi9yrrtWCq2Qum11Z02YMokjXRU66WntMOA72FjxNVbAV0pkp/qtQZn/CE\n",
       "WzdGl/eEUEX8YKWq2g4kRFTwi0CmlmC1SaLOQN/i/8JGBW3YcIQYh+u8PaW6r1KLRrbUwOJXaAWt\n",
       "HWiIiI299Lbn4SM8wpFZWHWgs6MMdBaS8ujk962Chjpcj4/f8PmmN/wVUNB3eOozwJw1nF3y9MwG\n",
       "+J3lpJz/A9BWOysqxX3PrNu2bkoGfQbICPAb2Uu9QG/xBhQ46FITij963IHjZdtaxVNHlk8d+c5X\n",
       "hO2V7lt7on+exqP71fPe1aFU9zkyAxz8lAS6Lsq8XYBGA+kWfDw9/WMB2lpcfXM0N4bwyF3Aglby\n",
       "fWugcz8lyweflY1U1yLPo/0lFzR+ncbKvF2ALtTo+n/a+pWYYJIXo73LfLuLg9Bf3GyYkKBrHPSv\n",
       "0U3ToJV83xrownoyslHtt3RHQfTMP41Hidk85YI2GqLM2wVoo2GSU6ehNSN+tQvRgj7kWZngyyqs\n",
       "1Wrv9jnVzYYJJyM2B43fJJCglXLfGmj6Oi3Xhjv0i8y5D02OLqIelUDXSNkYR7ILt987/7f5+TYB\n",
       "ne6k7xsffxAp3CesRCFi0G/qFTzXRZWteiRgrbzMCyeTLQ666LCglXLfVQ30n/nhju5R1Mlfkt2i\n",
       "C5q8Ul1U2t0nugY1+ssam4TPcynaFb3nJfZsz0gLW21PnFqSAxfhhAeVmJCglee+PSQdAnqPk99F\n",
       "NmiH62aPv44mhl3wnIVqIT3qgjbxkyvetz5ncdA4RFRswQv4+GW0whcazkdr8T1Df3sQ0FDEoEU2\n",
       "TDiheWMcNA1aee9bA43Djwj0xqn0GtjYTK9Jf4DUPdNAYwAdT/wBNUGyIXkdqHdSWEvUTkGTEFGq\n",
       "Ajl0EcYDFepbE3kgUtCeIE6+Hhy0yIYJJ2ebMmgatPLetwZ6lqIDEe0rkLpM9XaxIJziMzXF+zEx\n",
       "cyt+NJku0edaNFcp8tlIQSNPyji196ob3fiJyHWRDeRY2Q+0yIYJJ98GZeqg4rlvFfRbWyjoQtP1\n",
       "gXBdFq6vMF+o0LzrMUcCnQNe9oA+7ndZc07YG7PmidjMLFu5B2GyqVhukusin2GM+oEWLwDDyZV+\n",
       "oLuGSVlUA13IpvNTUuSwTeom4PdtGjxETfd8U14ZGm1e1sN5pu/Dsnkqyif6foCvZzs01cUkk7bI\n",
       "dZGEpMp4QYtsmHCe/LkVgB5IbNfv95Wk0929j0pwHsxkBeaIIcc03VwXOEIe/H8AS5XBI+GfH56f\n",
       "rwnQIkkjlMQ1gSa1EDFonFB0L3mYayDnuiiOgeP3REcDOlePJ2gj9IqFzdE1NnXAZwAumcLfE7ku\n",
       "suz09TpENky4hWE5nqB5PnE0gteoH4TCkqUYQ3NZ8zqWrXfPGN7gxBR0eLdDkhlkjC6A1XlFPO4i\n",
       "10UeRQv7NNBJJRsmlNCMsBiCTrQi/LJbyeDPbxVehpvrooQ62iro1Dfe2SBlw4SR+P5pRSHK0L//\n",
       "Ejxr91sZEhHZMGGkZMcVtMdSRR1UYrkufmIq01YkQaWjTmxBPxalOs/7fZ7r0l8iCZPG+Q86C1Em\n",
       "6vgE/mmuSwAHWGTDhJCMHV/Q8MkIvyvEqyw3GyaEvAqDgB7yv5HIlGG1yID/RmLY/xjlE6sG9AR7\n",
       "Qs9efvu/owwd/5KRRqIAAAAASUVORK5CYII=\n",
       "\" style=\"display:inline;vertical-align:middle;\" /></a><br>(see <a class=\"ProveItLink\" href=\"../__pv_it/9159d349fcf6b35fb8da5f6014b3fa05c49799ad0/dependencies.ipynb\">dependencies</a>)<br>"
      ],
      "text/plain": [
       "len_of_ranges_with_repeated_indices: forall_{n in NaturalsPos} [forall_{f_{1}, ..f_{_a}.., f_{n}, i, j | (j - i + 1) in Naturals} (|(f_{1}(i), ..f_{1}(x).., f_{1}(j), ....f_{k}(i), ..f_{k}(x).., f_{k}(j)...., f_{n}(i), ..f_{n}(x).., f_{n}(j))| \\\\  = (n * (j - i + 1)))]"
      ]
     },
     "execution_count": 2,
     "metadata": {},
     "output_type": "execute_result"
    }
   ],
   "source": [
    "%proving len_of_ranges_with_repeated_indices presuming []"
   ]
  },
  {
   "cell_type": "code",
   "execution_count": null,
   "metadata": {},
   "outputs": [],
   "source": []
  }
 ],
 "metadata": {
  "kernelspec": {
   "display_name": "Python 3",
   "language": "python",
   "name": "python3"
  }
 },
 "nbformat": 4,
 "nbformat_minor": 0
}
