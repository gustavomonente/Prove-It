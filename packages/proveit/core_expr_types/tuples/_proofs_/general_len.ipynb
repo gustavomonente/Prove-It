{
 "cells": [
  {
   "cell_type": "markdown",
   "metadata": {},
   "source": [
    "Proof of <a class=\"ProveItLink\" href=\"../../../_context_.ipynb\">proveit</a>.<a class=\"ProveItLink\" href=\"../../_context_.ipynb\">core_expr_types</a>.<a class=\"ProveItLink\" href=\"../_context_.ipynb\">tuples</a>.<a class=\"ProveItLink\" href=\"../_theorems_.ipynb#general_len\">general_len</a> theorem\n",
    "========"
   ]
  },
  {
   "cell_type": "code",
   "execution_count": 1,
   "metadata": {},
   "outputs": [],
   "source": [
    "import proveit\n",
    "context = proveit.Context('..') # the theorem's context is in the parent directory"
   ]
  },
  {
   "cell_type": "code",
   "execution_count": 2,
   "metadata": {},
   "outputs": [
    {
     "name": "stdout",
     "output_type": "stream",
     "text": [
      "Beginning proof of general_len\n",
      "Recorded 'presuming' information\n",
      "Presuming previous theorems (applied transitively).\n"
     ]
    },
    {
     "data": {
      "text/html": [
       "<strong id=\"general_len\">general_len:</strong> <a class=\"ProveItLink\" href=\"../__pv_it/6460c644f76903b540091a1099872626cc23bc9d0/expr.ipynb\"><img src=\"data:image/png;base64,iVBORw0KGgoAAAANSUhEUgAAA+YAAAAyBAMAAAAjCdywAAAAMFBMVEX///8QEBCIiIhmZma6urrM\n",
       "zMxUVFQiIiJERETc3Nzu7u6qqqp2dnaYmJgyMjIAAAAcRTyBAAAAAXRSTlMAQObYZgAADHRJREFU\n",
       "eNrtXH2MVFcVPzsfO98LMbWVmuLYjZUohLE0JRXQRWNLNIFZTCytREYsiRgap1ljKW3qSpN2oTaZ\n",
       "aiIUgwyglG5jmVa3iGllBGwVgn3pUlMMtJtANZgw2fLRlKUW7/c7977P2Vb/2H0nmZ27997fee/d\n",
       "37vnnvtxBiBQOq5cacJkkEMT+eGyFf79ypW3Q9Tu2PdEfTJQnp/Yb/Zi/vXUE8+G4bw8KXo53CC+\n",
       "kxPrDb9TfBdGRKI34lxKbqrs7z30b8bChVvtarVQ2hB837hux75iaAUIwjD79BHrJxHnpmzv0Tjf\n",
       "zQbBG2/hg2E/QGc/L17tO2oKAIc/yyxGZy38TezsFpXxFf0VaBDIXWtjOO6Q+YAR50oeAo3zM6zl\n",
       "jlxmWV20BUXPfcZPiQRw+N85FyPhb2LN/gY4ruivQINAoWJjOO6QacgizlWLjGmcF0o0ueervG8M\n",
       "Y1ev6KNFAjhcyIHwzvWFX4kUvqKvAg8IwxzQZyMPRJzrkippnKeYXdwvsu7DjTzVR4sEpLA53h7+\n",
       "xRsFlyv6KvCAMMx2nfP9tYhzTd6saZxvYsmXhUNWxTVP+2gRAAEX0tUTerooL6Rf0U+BB4RhGO6Q\n",
       "+VpHnEtZCxrn3cxaXjOH5cRIY+24UZYf9FYiAQyevV74YPlSyHsofK5PVNWv6KNAh8COGRjDcDbn\n",
       "hbGIcyzJCzrnj7HkOVJAiEsTZ6q5kKcB3vBRIwAMHofrAJbhmXGgTJG+gryiMbUOgkCpw0IYhrM5\n",
       "z56LOMcSn6pzfj8zlxchOYeYzFQDMo0v8DTAXp9ZuQAw+HG4DF+fS4fcati72CabWlxRjtnVcBAo\n",
       "1KY0EIbh0IpyK+Jce8iKzvlV0j9KkHbr6IEs7cIJ1vYr/B0qVonC6wliS2+jNmQ07F3sV7cjriiM\n",
       "0Gg4CMEsqSMMwyHOZ9cizpGssFw4p/6R4JzN5QI5lwAb3h7nL2MC7dmjnwINgv5143ybFXEOZhcw\n",
       "bHu6wimkZlOmOY0eoioxeFeJV06Etu0PEzfwtetL6oqFBUu7AxRoEIBTGJMwbDs3ZhHnQn4MLj5c\n",
       "R5G3G3WP9jSaou19fDgJ4PA9Dc55eB/uIwDHroNp6oqFhVZHzV+BBoHsZUAYw4eDdDXiHMnHDM7Z\n",
       "hGxPD6eQznmWZCzB+XzIvk8LSYOyhPrPBnD4/jrnPN7kxQrhhLIEZC9AZkcVxtQVt3waptT9FBgQ\n",
       "Oh7YGPbBnOdHOefsXk8GcN7FvH9r4lKePW9wzgz4EmQjO09KG/sWwL2kUVPUUP4QxJ/UOgzg8Lki\n",
       "0VXmxQphQOl/VCMkCCedxcRU+4orYaGnAhcIxKsIwz6Y88JFzvkR+vXvAM7zdKzoqk/g6fk5g3O2\n",
       "ePoXSaFY1mTpLJ0EOZviD4ABDN4nOH9SFvsI05jvp60db5bVFT8K85NeCtwgdKnNxtAP5pw/ZS9s\n",
       "ptPK/gDOWYXNE9i05y4bnBdKkKuclXPjYTRPpnsseacGYkYRgMDvzFwUk/kDvNhXqMbnu4gl3Qap\n",
       "r5XlFTOj8IMhLwVOSLJOZusIY+yxCGvWy3pvvhE0nlNDcGQCc86tHuIcNkBqIxn3MnPfIRynmVfP\n",
       "03QvdYdzcCAlCAAbMu+lSZ/72Y9W8m3NYsANUI1rqepbIXYU5BUTFZhpeSlwQrY1H9IwIwbn8A7n\n",
       "vHB4cHBToA93YnDwqeoE5jx2yeR8NxS61fwtiwzhBvJxejYF+rEBBL5ygfSWa7zYV6jGV29B7xC6\n",
       "oocCJ6Sz28KYdM3k/F3ht787MPAAuNoqxPmUgYFHmv+f5s8EVSh/ELAHPD+G+Gc1vM5GFdo+G3V8\n",
       "XM2ADjodbx/CMBz3KZQ7XXC+ir+6ppQ0zjvL/K2JH3XWRHndzlKU1eXS3CivR71sWsWYtqm0DOB3\n",
       "Po9tgg20Jzw+BpNBrhGcf9n97I3OeaLEzwQdmOmsifLucJairJyb82QnuTWjh7i0ikncseieRVxk\n",
       "3D6/J3a1rs0B1tEaPNl3CD5ZkcDRScH5PYLzFMSwGZNNoXMOVZhF027nBU5/SDfEOV/uWV4RC5/0\n",
       "dH72hTlWrv8wfF6vstxHPYbD0wcXwO/z9Xh9cnKet1IqTzXFwTl9cxqY86PAXDg3Ezj2oXK+yr+c\n",
       "znfPALy+bxByr8bNGcyqIPUCXnh0Sx1eLJbyk8y23ys4z4x8Q/knqCmMfv7LJO0er593eqwo70sV\n",
       "RynK2jHPZYoyz+S8alRM3OAgbRYdaogR/+YdRYNzE4zQGE7GMyJDQz9VnOcvTQrOpQ8HG+4CsRmD\n",
       "m8LgPP1ztlLhsniD8prO3oKySotdvIbFBuf0VJdWMT+lbpL2PF8LzpUPv6Zz7gAjNIbzBeeh/G/U\n",
       "WBC72MbEwjK9+jDSTmTD1nEsKtXChFtcLTn/LWkpvhmDm8LgPDeXmUCS+z3T5VU1M09XzWKWJaaP\n",
       "tZccYJankZLoNypu2UtG27pG2iLYyTnPGwfFJNiWLXud/XwRZBlsCJrqaFvhQvjm3Q1ayIIh3/VA\n",
       "tRHZoAUnhNPOQy1WB2k+LzmnJ6rYZozWFAbn/NBG2oLl5r2k7Vc+XXQUp9H60WNOsDh3hjivqIqL\n",
       "BojUYT0k/1SHzlZreussJ+1bcDspKebKGUtfJxJgJgrNW1yDJ9cODKwnD7pVeTK5Njg/A1rIgiF3\n",
       "u3XCa9uKbNCCE4K185ePTqueCXqZ3pOcF+jrSjdjtKYoG5z/QybXuSzTCdnza0cxzZJyyQmGSwbn\n",
       "7AQhrpgdK0NK7+e3Qifv5/AVfUVSgtFTjpUd/fxW4cMPQWKpQv4nNCM0XKEQ7iTrc/xr10t0gJOB\n",
       "Cbmil3mWBcMh70Soz675fl1sAxT9AXKPRQjbjHE0hYPUOmNjcz2zkf0hXzRv+MUTxIxvhD/mabEo\n",
       "439IFivdXIfkVB0s8lixIoXuWomKoiVGmphzaqtPQJ7eUqEHCk2ka3NdgJVGhi7MO9k04PBnmj7G\n",
       "ktjqhRK6ZZaqtUMKP2S8PTTn97XHOcCbdR5q4RtuAXInSXLON2OcTWFwTrsJYaO3kZwGvbXktOTH\n",
       "Wd5z/cQykPSuv9JikqBl9A/LYqW9DYj162CRx4ptv53UEBXlW1xDnNM9C7gJ4FF6M6dJh7UvRtVx\n",
       "sNLI0LkZfJqJ4WkyD0082MPtBZMHQ3O+CYyQhZCcy8CEQM4z1fFwzpZJApZK+Oyk1x4JZ1ouTWFw\n",
       "PsxJgQZaRhumK7PL1JLaOrwSxlK8tMGGdg3M83ix4vyzoCraXcvu51TIyBgj47ljIa8hwEqjmLTz\n",
       "Y+kYDjMG1uvN8cXQnHeDEbKgjSXdRS/Opb8ZyLkRnOCp3eD8IPiGW9grT8bZKEdT6JyfXSVIrdkz\n",
       "EJqXglk9cjayDk9LWIqV5mp3PV43wDyPgxUpaZAVvTjPWe5zIKKYg5VGMWmPHfOGa83m3UFaTErS\n",
       "69RCFrSK9MTKMlfO5aG2QM6N4ARTuxfnb4B/uAVlst+Fc/eaivMD5K6Wnm+gjT2L5e2CFyyxwUiL\n",
       "LVQMorQAa1abYJ7HwYqUhCUr2q7HbLbOIt+VndrdWUidACuNvHNUcke94VJWNML28/vBCFnA8ov4\n",
       "CMrUOJeBCYGcG8EJhnZPzveCb7gFlW3F9jn/30op5OLFZz7Yyoc7vKMS9javAiNkgcyRmBV4i2bS\n",
       "iS/P/FurdU+r9U/FOTtsTgzGv6a3WhU3SyILjOAEU7sQpJ5zvgJ8j95TiWIa9JWl0XY5VyELmsiz\n",
       "rs5+LgMTAvu5EZxgavfq5yE4fwQizvFyzoUQ43kF23YVsqDJw+DFeaId246CEwztPIDBhfPbwDfc\n",
       "Qq2rRZwr6QtbUfpwKmRB86wv5704b8+Hs4MTDO08gGFcPlwsikVux3FHouZEmhmX5mJ0qwvnrLFZ\n",
       "gAGiVg9sQAVGcIKuXQQw6JzPptXmi48PkZWIc/0pmyErKhs6182Y3m05OY9/+/0F9pktZcIpAyqw\n",
       "ARUYwQmGdh7AoHF+8ydOWSzUgn28JfptEdOyhj01odZe+7wGUEc/Z/JkW2uvdnCCgw0WwOBQT9ed\n",
       "s/4reKcg4ty1RQJF7LHYIQsOUZmDOFfusWS9BhFVoAcnmHNsHsDgUB+8xyJ3ZyPOlTwe9jHpKWEU\n",
       "suAQ18x29lK14ARTRACDQ4L3UqPfBHR2g7BbG/zMhApZCE1k6KpacAK08yb61vgORJybcnPIeuM7\n",
       "G9VOZMM4zkbRUAv/cAt1hi0U55Pkt7w7ixP68dr7Le/J8pv9N03kh8uKE4avXHn7v0yzXVXQXb5x\n",
       "AAAAAElFTkSuQmCC\n",
       "\" style=\"display:inline;vertical-align:middle;\" /></a><br>(see <a class=\"ProveItLink\" href=\"../__pv_it/6460c644f76903b540091a1099872626cc23bc9d0/dependencies.ipynb\">dependencies</a>)<br>"
      ],
      "text/plain": [
       "general_len: forall_{n in NaturalsPos} [forall_{f_{1}, ..f_{_a}.., f_{n}, i_{1}, ..i_{_a}.., i_{n}, j_{1}, ..j_{_a}.., j_{n} | (j_{1} - i_{1} + 1) in Naturals, ..(j_{k} - i_{k} + 1) in Naturals.., (j_{n} - i_{n} + 1) in Naturals} (|(f_{1}(i_{1}), ..f_{1}(x).., f_{1}(j_{1}), ....f_{k}(i_{k}), ..f_{k}(x).., f_{k}(j_{k})...., f_{n}(i_{n}), ..f_{n}(x).., f_{n}(j_{n}))| \\\\  = ((j_{1} - i_{1} + 1) + ..(j_{k} - i_{k} + 1).. + (j_{n} - i_{n} + 1)))]"
      ]
     },
     "execution_count": 2,
     "metadata": {},
     "output_type": "execute_result"
    }
   ],
   "source": [
    "%proving general_len presuming []"
   ]
  },
  {
   "cell_type": "code",
   "execution_count": null,
   "metadata": {},
   "outputs": [],
   "source": []
  }
 ],
 "metadata": {
  "kernelspec": {
   "display_name": "Python 3",
   "language": "python",
   "name": "python3"
  }
 },
 "nbformat": 4,
 "nbformat_minor": 0
}
