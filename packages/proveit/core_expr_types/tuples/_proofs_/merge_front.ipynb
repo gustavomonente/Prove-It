{
 "cells": [
  {
   "cell_type": "markdown",
   "metadata": {},
   "source": [
    "Proof of <a class=\"ProveItLink\" href=\"../../../_context_.ipynb\">proveit</a>.<a class=\"ProveItLink\" href=\"../../_context_.ipynb\">core_expr_types</a>.<a class=\"ProveItLink\" href=\"../_context_.ipynb\">tuples</a>.<a class=\"ProveItLink\" href=\"../_theorems_.ipynb#merge_front\">merge_front</a> theorem\n",
    "========"
   ]
  },
  {
   "cell_type": "code",
   "execution_count": 1,
   "metadata": {},
   "outputs": [],
   "source": [
    "import proveit\n",
    "context = proveit.Context('..') # the theorem's context is in the parent directory"
   ]
  },
  {
   "cell_type": "code",
   "execution_count": 2,
   "metadata": {},
   "outputs": [
    {
     "name": "stdout",
     "output_type": "stream",
     "text": [
      "Beginning proof of merge_front\n",
      "Recorded 'presuming' information\n",
      "Presuming previous theorems (applied transitively).\n"
     ]
    },
    {
     "data": {
      "text/html": [
       "<strong id=\"merge_front\">merge_front:</strong> <a class=\"ProveItLink\" href=\"../__pv_it/0064fdd0c996e4c195b83ef71ce3d1342bfc0ff60/expr.ipynb\"><img src=\"data:image/png;base64,iVBORw0KGgoAAAANSUhEUgAAAdUAAAAyBAMAAAD4oVxKAAAAMFBMVEX///8QEBCIiIhmZma6urrM\n",
       "zMxUVFQiIiJERETc3Nzu7u6qqqp2dnaYmJgyMjIAAAAcRTyBAAAAAXRSTlMAQObYZgAACBRJREFU\n",
       "aN7NWm+IVFUUPzv/Z97MrIhlFMXokpgSjhqFZTUVpfUhR4LMknYQBQWtAcHMoiYDUyMa6YNiSKOW\n",
       "mZE7krhsVDtkaOmHBiVRqFxQPxi4LLobtVvRPefdf+/NzJ3ty3seeG/PO/N7b+5599xzz/nNAngu\n",
       "33v/lfvBH0nWvP/O0IA/vk6T2m6nZpVdyHgdmtobhSMJ2hT+my+uWhOElijheV9XmbRICVYrVGLO\n",
       "PIADqB2u6PZGEcgDk/FqNT/cEqv54euenNDSNAFr+qukRepwSKEip8YArqB2FnR7o0jkRbw6BM3h\n",
       "iUl++Pq21M7QIIY/5hpbyRn5Wc9TOUhlocHeKBI5JqBN4Yf9COFRqb5K10NCY37L8IZ+dkTFwtPs\n",
       "jSKQoVEBbQqP+hDE0azMJ0WaiKLQmFySsBPs2CGvLhkeKJDJooQ2g1t/ee/rBZklA+h1ava6LGl7\n",
       "57CrYzK8J88F6MJ5mlrS7Y0ikemsdaZsQ5vC13nv6waVGmmf6MzYWu0Rx85wjR3vsSMIt7fZMQSy\n",
       "p3rXoroNJXhykESG0YWK166Gh1U0V/H8UZ60ePUhdtEr43uEnV5jx3lKOb2GnVUg+/dWvuDQpvCe\n",
       "jNe+BlXe6MiJ1MK0BM1Pt1xdmLFwm6hQyuk25DqBnG3PYHcreNrz0qmj4PL1BNcsh0+UaCZJzeCr\n",
       "RK6fnjH6GvA8OXXXXTG8mWsxfAkL5Fou8MhkKUe3NymIODIxHKflsUDA+XqV7zb+j9e+ziq7ctNE\n",
       "rvVUa1oO6sjwjMPs5twkkKmhxFgStNzUIDd77etbWvRlqWzi2iIs3+dD4l87keTE1tGP6ZPbe9iS\n",
       "I0VeKSQrp0eSBLWPRnkHgO741Stfb9H6LFxpoSGuRXAIlwFeoa1hkQhHuA+UPYoBuR74KbpRR8aq\n",
       "0DXDhtLRKD8BnMK/v3vkauK6doGVYbIEWo3IfLbI1x9A1IjrHHaHfOVEykckis2rmDzsxHVb8mp7\n",
       "vaaXPABH03XZBfDCHfeRwlW8ZBX987R9CrtLajpSaxNatArdGUizF5aselX5j+kptAwbDglNNGR7\n",
       "cZq22Xvh1vjfsaxmd8VIRkMKY6ueDld2FlInDx7c4dVyTY3ogy3B6Xla104jxnlOddm+H4DlD+p2\n",
       "17McSC5bdced0slW+59btrzula/ODd3FwaRacDCp8XMwCG0F72QvdGXLN+F8nGvl/Q9sXu0zo+Cb\n",
       "dLBwfwwSFPTz8d102bUjjm4KX+I5kQmmqDUfyFq5hodd1rJGQGaL5wCOqHLYT19Zeo5CAL1MTsXO\n",
       "famdQiiRc2/stRQpSwPOahnmcXXJ/FzALklkgmPYsAikZ9gGGZRRFRnyz9coazuS9SjNpXuieiq6\n",
       "r8uUwRaklxNfz61bpZNwv/POZfxvge/zicKN4mt84Flauu7NWhTctq8r3RU4cn/n+g6CdToILi5n\n",
       "pX4n3nXlRojhKJYYW1dgBnsf0/ujNAN7H8DzsfA0zdeiMrCijiks8EO4KK0XlmbQ10SXjOEiATRf\n",
       "75a5ydxY7XYl1r5xpEyegfvawjE3wZdUU52jpELvPfs0nq8esYO2JIgwYWBDZkFgFSBNazt/8mf0\n",
       "NRgagFVbmNQZNklRIn09KnPaiLGCpBuQHKcNcxUufIMIILHgCDXDqXXupPw6Fz36HN1OlI+j4Y+8\n",
       "FomhkjIA7Oolyz7b1yR1LJ8lxapkn+zqdczrQrn/D5tGo8hxivq1fINoJRKILDhCzfBO4vJotqhb\n",
       "jNnbCurhie/qvhZsw0KcuQpsYp8PwBKmZ6x8vF5U/aiNZYDI4OAdg1dtX1+UNaLRV0WOiwL3O1MU\n",
       "SOCYgJrg0KOyyk10/QnpuKoCpcVx5Wu4pAzsa0bz6FHEnld4nN5QZxleQiagzrAI0Ob1CblXGckB\n",
       "RY6LxmUPtGGaFAu+pw0ca385fIhvg2+TsLMC4QnsHMssCShfWZ8kDexrBmqQqkESHUrlmMpuhcVa\n",
       "X4UAfidG8y/yC6+b0owkxyUNns61YZoUC45QExz6q1rnHL4N9v8Ii6tsBtk5XY7cqeXhjSANzJs1\n",
       "ZQiy52KUL7jENlJ2K0yXT91IAPvOD95cDnCP/OgNU7EsyXEs3xJdGc5dtGgjBJCz4Ag1wFmvLjMX\n",
       "Br7Fyx9ctarLs32d2ZBIcHRsvYKotDbJj2Y67gTOfZA8bBiMIscxYSRDbO9PGbKNAHIWHKEmOLws\n",
       "R342z/cnq7xie0X/wdYeccx96zeOq77Ik7eqQbt8tVRDZmLfFTmOxOCHQTZwq9gaLoCcBUeoCa7o\n",
       "n+RU0SOmYM1quzl0jDjkaiATznCpR46rtyOwwrJPSxAGVkCR40j4VnDewoaaUgA5C45QEzx+bRy1\n",
       "VVYVJvriMkyQGzujKRfewtcTwgVkEE2Dl0CbBW/nq/dceHCoXQwjOU6huVlwjS1EADkLjlATPFb0\n",
       "2tfQcLvcNJEXM0Rtm5KNAHIWvF1u6sx43m0YfgZV5DiS26Eh1gkEa4oAJ+5bXikgZ8EZlI5WMqvi\n",
       "ua+GRKzIcSq21taJICHKm7jvgjgRXy6BnAVHLiWdb/3Fnv/EwRJQzVwj2uS4qBE/FZS3szqsNABt\n",
       "6KeGitKH/yGwRo21PyfH9dq/8eUgL+4Ctq3901kf6IGLhuQkyXHObFKj1phTkBd3Atv3dIcrPvi6\n",
       "PW/q1Tk5zslt/D0g1YjDGXUCbWisda/uz/9ymeo4NwdzfvwczHkzPOJHCAPc68eXnvOHz4t4v6n7\n",
       "9j+1WjfrmeynzPQfALxifm/s9NgAAAAASUVORK5CYII=\n",
       "\" style=\"display:inline;vertical-align:middle;\" /></a><br>(see <a class=\"ProveItLink\" href=\"../__pv_it/0064fdd0c996e4c195b83ef71ce3d1342bfc0ff60/dependencies.ipynb\">dependencies</a>)<br>"
      ],
      "text/plain": [
       "merge_front: forall_{f, i, j, k | (k - i) in Naturals, j = (i + 1)} ((f(i), f(j), ..f(a).., f(k)) =  \\\\ (f(i), ..f(a).., f(k)))"
      ]
     },
     "execution_count": 2,
     "metadata": {},
     "output_type": "execute_result"
    }
   ],
   "source": [
    "%proving merge_front presuming []"
   ]
  },
  {
   "cell_type": "code",
   "execution_count": null,
   "metadata": {},
   "outputs": [],
   "source": []
  }
 ],
 "metadata": {
  "kernelspec": {
   "display_name": "Python 3",
   "language": "python",
   "name": "python3"
  }
 },
 "nbformat": 4,
 "nbformat_minor": 0
}
