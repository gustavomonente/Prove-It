{
 "cells": [
  {
   "cell_type": "markdown",
   "metadata": {},
   "source": [
    "Theory of <a class=\"ProveItLink\" href=\"../../_theory_.ipynb\">proveit</a>.<a class=\"ProveItLink\" href=\"../_theory_.ipynb\">core_expr_types</a>.tuples\n",
    "========\n",
    "\n",
    "Theory related to **ExprTuple** types of Prove-It expressions.  An **ExprTuple** is an ordered sequence of expressions.  It may contain an **ExprRange** that represents an indeterminant number of *elements* within the sequence.  For example, $(a, b_1, \\ldots, b_n, c)$ is a tuple of $n+2$ elements with $b_1, \\ldots, b_n$ as an **ExprRange** that is a single entry of this tuple.  Each *entry* of the **ExprTuple** is a single **Expression** which may represent zero or more elements of the tuple sequence."
   ]
  },
  {
   "cell_type": "code",
   "execution_count": null,
   "metadata": {},
   "outputs": [],
   "source": [
    "import proveit\n",
    "%theory # toggles between interactive and static modes"
   ]
  },
  {
   "cell_type": "code",
   "execution_count": null,
   "metadata": {},
   "outputs": [],
   "source": []
  }
 ],
 "metadata": {
  "kernelspec": {
   "display_name": "Python 3",
   "language": "python",
   "name": "python3"
  }
 },
 "nbformat": 4,
 "nbformat_minor": 0
}
