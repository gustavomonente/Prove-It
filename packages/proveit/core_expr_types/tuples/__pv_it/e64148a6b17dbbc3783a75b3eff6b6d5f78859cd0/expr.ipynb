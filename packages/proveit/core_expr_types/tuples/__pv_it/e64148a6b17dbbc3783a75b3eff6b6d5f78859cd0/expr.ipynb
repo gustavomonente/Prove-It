{
 "cells": [
  {
   "cell_type": "markdown",
   "metadata": {},
   "source": [
    "Expression of type <a class=\"ProveItLink\" href=\"../../../../../../doc/html/api/proveit.ExprTuple.html\">ExprTuple</a>\n",
    "=======================\n",
    "# from context <a class=\"ProveItLink\" href=\"../../_context_.ipynb\">proveit.core_expr_types.tuples</a>"
   ]
  },
  {
   "cell_type": "code",
   "execution_count": 1,
   "metadata": {},
   "outputs": [],
   "source": [
    "import proveit\n",
    "# Automation is not needed when building an expression:\n",
    "proveit.defaults.automation = False # This will speed things up.\n",
    "proveit.defaults.inline_pngs = False # Makes files smaller.\n",
    "# import Expression classes needed to build the expression\n",
    "from proveit import ExprRange, ExprTuple, IndexedVar, Variable\n",
    "from proveit._common_ import a\n",
    "from proveit.number import one, zero"
   ]
  },
  {
   "cell_type": "code",
   "execution_count": 2,
   "metadata": {},
   "outputs": [
    {
     "data": {
      "text/html": [
       "<strong id=\"expr\">expr:</strong> <a class=\"ProveItLink\" href=\"expr.ipynb\"><img src=\"expr.png\" style=\"display:inline;vertical-align:middle;\" /></a><br>"
      ],
      "text/plain": [
       "expr: ((a_{1}, ..a_{_a}.., a_{0}), ())"
      ]
     },
     "execution_count": 2,
     "metadata": {},
     "output_type": "execute_result"
    }
   ],
   "source": [
    "# build up the expression from sub-expressions\n",
    "subExpr1 = Variable(\"_a\", latexFormat = r\"{_{-}a}\")\n",
    "expr = ExprTuple([ExprRange(subExpr1, IndexedVar(a, subExpr1), one, zero)], [])"
   ]
  },
  {
   "cell_type": "code",
   "execution_count": 3,
   "metadata": {},
   "outputs": [
    {
     "name": "stdout",
     "output_type": "stream",
     "text": [
      "Passed sanity check: built 'expr' is the same as the stored Expression.\n"
     ]
    }
   ],
   "source": [
    "# check that the built expression is the same as the stored expression\n",
    "%check_expr"
   ]
  },
  {
   "cell_type": "code",
   "execution_count": 4,
   "metadata": {},
   "outputs": [
    {
     "name": "stdout",
     "output_type": "stream",
     "text": [
      "\\left(\\left(a_{1}, \\ldots, a_{0}\\right), ()\\right)\n"
     ]
    }
   ],
   "source": [
    "# Show the LaTeX representation of the expression for convenience if you need it.\n",
    "print(expr.latex())"
   ]
  },
  {
   "cell_type": "code",
   "execution_count": 5,
   "metadata": {},
   "outputs": [
    {
     "data": {
      "text/html": [
       "<table><tr><th>&nbsp;</th><th>core type</th><th>sub-expressions</th><th>expression</th></tr>\n",
       "<tr><td>0</td><td>ExprTuple</td><td>1, 2</td><td><a class=\"ProveItLink\" href=\"expr.ipynb\"><img src=\"expr.png\" style=\"display:inline;vertical-align:middle;\" /></a></td></tr>\n",
       "<tr><td>1</td><td>ExprTuple</td><td>3</td><td><a class=\"ProveItLink\" href=\"../952b2296422013bd2a45fb22e7d58ed4e55cd0bc0/expr.ipynb\"><img src=\"../952b2296422013bd2a45fb22e7d58ed4e55cd0bc0/expr.png\" style=\"display:inline;vertical-align:middle;\" /></a></td></tr>\n",
       "<tr><td>2</td><td>ExprTuple</td><td></td><td><a class=\"ProveItLink\" href=\"../30d23d36f0994fc28429b458d9f08265f0433d5f0/expr.ipynb\"><img src=\"../30d23d36f0994fc28429b458d9f08265f0433d5f0/expr.png\" style=\"display:inline;vertical-align:middle;\" /></a></td></tr>\n",
       "<tr><td>3</td><td>ExprRange</td><td>lambda_map:&nbsp;4<br>start_index:&nbsp;5<br>end_index:&nbsp;6<br></td><td><a class=\"ProveItLink\" href=\"../72059dda9554533079fadf6564f5b8374568f9a20/expr.ipynb\"><img src=\"../72059dda9554533079fadf6564f5b8374568f9a20/expr.png\" style=\"display:inline;vertical-align:middle;\" /></a></td></tr>\n",
       "<tr><td>4</td><td>Lambda</td><td>parameter:&nbsp;9<br>body:&nbsp;7<br></td><td><a class=\"ProveItLink\" href=\"../c512bca05a0e191e5f76f2677a0e9e227e81e9f10/expr.ipynb\"><img src=\"../c512bca05a0e191e5f76f2677a0e9e227e81e9f10/expr.png\" style=\"display:inline;vertical-align:middle;\" /></a></td></tr>\n",
       "<tr><td>5</td><td>Literal</td><td></td><td><a class=\"ProveItLink\" href=\"../../../../number/numeral/__pv_it/f086f8c372bd40a2458306ddfdbb29f3dc6f63030/expr.ipynb\"><img src=\"../../../../number/numeral/__pv_it/f086f8c372bd40a2458306ddfdbb29f3dc6f63030/expr.png\" style=\"display:inline;vertical-align:middle;\" /></a></td></tr>\n",
       "<tr><td>6</td><td>Literal</td><td></td><td><a class=\"ProveItLink\" href=\"../../../../number/numeral/__pv_it/bcb6bc33e5975ec2290a3272bf7802d26ab8421d0/expr.ipynb\"><img src=\"../../../../number/numeral/__pv_it/bcb6bc33e5975ec2290a3272bf7802d26ab8421d0/expr.png\" style=\"display:inline;vertical-align:middle;\" /></a></td></tr>\n",
       "<tr><td>7</td><td>IndexedVar</td><td>variable:&nbsp;8<br>index:&nbsp;9<br></td><td><a class=\"ProveItLink\" href=\"../976fe6b95e8535cc9e0861bdc030337becead6960/expr.ipynb\"><img src=\"../976fe6b95e8535cc9e0861bdc030337becead6960/expr.png\" style=\"display:inline;vertical-align:middle;\" /></a></td></tr>\n",
       "<tr><td>8</td><td>Variable</td><td></td><td><a class=\"ProveItLink\" href=\"../../../../__pv_it/a8d4b3a34d2189508f9082853fbac36935714f280/expr.ipynb\"><img src=\"../../../../__pv_it/a8d4b3a34d2189508f9082853fbac36935714f280/expr.png\" style=\"display:inline;vertical-align:middle;\" /></a></td></tr>\n",
       "<tr><td>9</td><td>Variable</td><td></td><td><a class=\"ProveItLink\" href=\"../1e653f789234b245ee7fea7caad998c139d617410/expr.ipynb\"><img src=\"../1e653f789234b245ee7fea7caad998c139d617410/expr.png\" style=\"display:inline;vertical-align:middle;\" /></a></td></tr>\n",
       "</table>\n"
      ],
      "text/plain": [
       "0. ((a_{1}, ..a_{_a}.., a_{0}), ())\n",
       "   core type: ExprTuple\n",
       "   sub-expressions: 1, 2\n",
       "1. (a_{1}, ..a_{_a}.., a_{0})\n",
       "   core type: ExprTuple\n",
       "   sub-expressions: 3\n",
       "2. ()\n",
       "   core type: ExprTuple\n",
       "   sub-expressions: \n",
       "3. a_{1}, ..a_{_a}.., a_{0}\n",
       "   core type: ExprRange\n",
       "   lambda_map: 4\n",
       "   start_index: 5\n",
       "   end_index: 6\n",
       "4. _a -> a_{_a}\n",
       "   core type: Lambda\n",
       "   parameter: 9\n",
       "   body: 7\n",
       "5. 1\n",
       "   core type: Literal\n",
       "   sub-expressions: \n",
       "6. 0\n",
       "   core type: Literal\n",
       "   sub-expressions: \n",
       "7. a_{_a}\n",
       "   core type: IndexedVar\n",
       "variable: 8\n",
       "index: 9\n",
       "8. a\n",
       "   core type: Variable\n",
       "   sub-expressions: \n",
       "9. _a\n",
       "   core type: Variable\n",
       "   sub-expressions: "
      ]
     },
     "execution_count": 5,
     "metadata": {},
     "output_type": "execute_result"
    }
   ],
   "source": [
    "# display the expression information\n",
    "expr.exprInfo()"
   ]
  },
  {
   "cell_type": "code",
   "execution_count": null,
   "metadata": {},
   "outputs": [],
   "source": []
  }
 ],
 "metadata": {
  "kernelspec": {
   "display_name": "Python 3",
   "language": "python",
   "name": "python3"
  },
  "language_info": {
   "codemirror_mode": {
    "name": "ipython",
    "version": 3
   },
   "file_extension": ".py",
   "mimetype": "text/x-python",
   "name": "python",
   "nbconvert_exporter": "python",
   "pygments_lexer": "ipython3",
   "version": "3.7.3"
  }
 },
 "nbformat": 4,
 "nbformat_minor": 1
}
