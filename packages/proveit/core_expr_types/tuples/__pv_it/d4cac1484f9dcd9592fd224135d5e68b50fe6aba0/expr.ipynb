{
 "cells": [
  {
   "cell_type": "markdown",
   "metadata": {},
   "source": [
    "Expression of type <a class=\"ProveItLink\" href=\"../../../../../../doc/html/api/proveit.logic.Forall.html\">Forall</a>\n",
    "=======================\n",
    "# from context <a class=\"ProveItLink\" href=\"../../_context_.ipynb\">proveit.core_expr_types.tuples</a>"
   ]
  },
  {
   "cell_type": "code",
   "execution_count": 1,
   "metadata": {},
   "outputs": [],
   "source": [
    "import proveit\n",
    "# Automation is not needed when building an expression:\n",
    "proveit.defaults.automation = False # This will speed things up.\n",
    "proveit.defaults.inline_pngs = False # Makes files smaller.\n",
    "# import Expression classes needed to build the expression\n",
    "from proveit._common_ import b, d\n",
    "from proveit.logic import And, Equals, Forall"
   ]
  },
  {
   "cell_type": "code",
   "execution_count": 2,
   "metadata": {},
   "outputs": [
    {
     "data": {
      "text/html": [
       "<strong id=\"expr\">expr:</strong> <a class=\"ProveItLink\" href=\"expr.ipynb\"><img src=\"expr.png\" style=\"display:inline;vertical-align:middle;\" /></a><br>"
      ],
      "text/plain": [
       "expr: forall_{b, d} (((b) = (d)) =  \\\\ ((() = ()) and (b = d)))"
      ]
     },
     "execution_count": 2,
     "metadata": {},
     "output_type": "execute_result"
    }
   ],
   "source": [
    "# build up the expression from sub-expressions\n",
    "subExpr1 = []\n",
    "expr = Forall([b, d], Equals(Equals([b], [d]), And(Equals(subExpr1, subExpr1), Equals(b, d))).withWrappingAt(2))"
   ]
  },
  {
   "cell_type": "code",
   "execution_count": 3,
   "metadata": {},
   "outputs": [
    {
     "name": "stdout",
     "output_type": "stream",
     "text": [
      "Passed sanity check: built 'expr' is the same as the stored Expression.\n"
     ]
    }
   ],
   "source": [
    "# check that the built expression is the same as the stored expression\n",
    "%check_expr"
   ]
  },
  {
   "cell_type": "code",
   "execution_count": 4,
   "metadata": {},
   "outputs": [
    {
     "name": "stdout",
     "output_type": "stream",
     "text": [
      "\\forall_{b, d}~\\left(\\begin{array}{c} \\left(\\left(b\\right) = \\left(d\\right)\\right) =  \\\\ \\left(\\left(() = ()\\right) \\land \\left(b = d\\right)\\right) \\end{array}\\right)\n"
     ]
    }
   ],
   "source": [
    "# Show the LaTeX representation of the expression for convenience if you need it.\n",
    "print(expr.latex())"
   ]
  },
  {
   "cell_type": "code",
   "execution_count": 5,
   "metadata": {},
   "outputs": [
    {
     "data": {
      "text/html": [
       "<table><tr><th>&nbsp;</th><th>core type</th><th>sub-expressions</th><th>expression</th></tr>\n",
       "<tr><td>0</td><td>Operation</td><td>operator:&nbsp;1<br>operand:&nbsp;2<br></td><td><a class=\"ProveItLink\" href=\"expr.ipynb\"><img src=\"expr.png\" style=\"display:inline;vertical-align:middle;\" /></a></td></tr>\n",
       "<tr><td>1</td><td>Literal</td><td></td><td><a class=\"ProveItLink\" href=\"../../../../logic/boolean/quantification/universal/__pv_it/fd9c772d6675566ed52a6897806f45eb08a4ea910/expr.ipynb\"><img src=\"../../../../logic/boolean/quantification/universal/__pv_it/fd9c772d6675566ed52a6897806f45eb08a4ea910/expr.png\" style=\"display:inline;vertical-align:middle;\" /></a></td></tr>\n",
       "<tr><td>2</td><td>Lambda</td><td>parameters:&nbsp;16<br>body:&nbsp;3<br></td><td><a class=\"ProveItLink\" href=\"../93a94e252e830fc08ebaf2e32d8df5bff368d61f0/expr.ipynb\"><img src=\"../93a94e252e830fc08ebaf2e32d8df5bff368d61f0/expr.png\" style=\"display:inline;vertical-align:middle;\" /></a></td></tr>\n",
       "<tr><td>3</td><td>Operation</td><td>operator:&nbsp;15<br>operands:&nbsp;4<br></td><td><a class=\"ProveItLink\" href=\"../a38c30a43bfa022dfb6d9a760843180204edf0e90/expr.ipynb\"><img src=\"../a38c30a43bfa022dfb6d9a760843180204edf0e90/expr.png\" style=\"display:inline;vertical-align:middle;\" /></a></td></tr>\n",
       "<tr><td>4</td><td>ExprTuple</td><td>5, 6</td><td><a class=\"ProveItLink\" href=\"../48d623bf4bcf6a522b1bf93b17a24279d62489bc0/expr.ipynb\"><img src=\"../48d623bf4bcf6a522b1bf93b17a24279d62489bc0/expr.png\" style=\"display:inline;vertical-align:middle;\" /></a></td></tr>\n",
       "<tr><td>5</td><td>Operation</td><td>operator:&nbsp;15<br>operands:&nbsp;7<br></td><td><a class=\"ProveItLink\" href=\"../10224bb7063dd4991df570d7f726801a71fde5890/expr.ipynb\"><img src=\"../10224bb7063dd4991df570d7f726801a71fde5890/expr.png\" style=\"display:inline;vertical-align:middle;\" /></a></td></tr>\n",
       "<tr><td>6</td><td>Operation</td><td>operator:&nbsp;8<br>operands:&nbsp;9<br></td><td><a class=\"ProveItLink\" href=\"../7095ef772c163c7639562ee714b726473e35c56b0/expr.ipynb\"><img src=\"../7095ef772c163c7639562ee714b726473e35c56b0/expr.png\" style=\"display:inline;vertical-align:middle;\" /></a></td></tr>\n",
       "<tr><td>7</td><td>ExprTuple</td><td>10, 11</td><td><a class=\"ProveItLink\" href=\"../201271861d73b5d8febdac3e4c07de7463f45f830/expr.ipynb\"><img src=\"../201271861d73b5d8febdac3e4c07de7463f45f830/expr.png\" style=\"display:inline;vertical-align:middle;\" /></a></td></tr>\n",
       "<tr><td>8</td><td>Literal</td><td></td><td><a class=\"ProveItLink\" href=\"../../../../logic/boolean/conjunction/__pv_it/f41cc6b553210927c09f19a8a39cdf860a5585930/expr.ipynb\"><img src=\"../../../../logic/boolean/conjunction/__pv_it/f41cc6b553210927c09f19a8a39cdf860a5585930/expr.png\" style=\"display:inline;vertical-align:middle;\" /></a></td></tr>\n",
       "<tr><td>9</td><td>ExprTuple</td><td>12, 13</td><td><a class=\"ProveItLink\" href=\"../f37572f3e784a0173556a09855592def36578a4a0/expr.ipynb\"><img src=\"../f37572f3e784a0173556a09855592def36578a4a0/expr.png\" style=\"display:inline;vertical-align:middle;\" /></a></td></tr>\n",
       "<tr><td>10</td><td>ExprTuple</td><td>18</td><td><a class=\"ProveItLink\" href=\"../67e68b45fa8a3d637e6f583936656046457b45780/expr.ipynb\"><img src=\"../67e68b45fa8a3d637e6f583936656046457b45780/expr.png\" style=\"display:inline;vertical-align:middle;\" /></a></td></tr>\n",
       "<tr><td>11</td><td>ExprTuple</td><td>19</td><td><a class=\"ProveItLink\" href=\"../64fcd0d728a14ae040d6f22cd7832f64672443390/expr.ipynb\"><img src=\"../64fcd0d728a14ae040d6f22cd7832f64672443390/expr.png\" style=\"display:inline;vertical-align:middle;\" /></a></td></tr>\n",
       "<tr><td>12</td><td>Operation</td><td>operator:&nbsp;15<br>operands:&nbsp;14<br></td><td><a class=\"ProveItLink\" href=\"../4cd9b75ac28990fe982c9490be945c267b6be5700/expr.ipynb\"><img src=\"../4cd9b75ac28990fe982c9490be945c267b6be5700/expr.png\" style=\"display:inline;vertical-align:middle;\" /></a></td></tr>\n",
       "<tr><td>13</td><td>Operation</td><td>operator:&nbsp;15<br>operands:&nbsp;16<br></td><td><a class=\"ProveItLink\" href=\"../f05b8f5a71647f59cc910320779a05c70acd59600/expr.ipynb\"><img src=\"../f05b8f5a71647f59cc910320779a05c70acd59600/expr.png\" style=\"display:inline;vertical-align:middle;\" /></a></td></tr>\n",
       "<tr><td>14</td><td>ExprTuple</td><td>17, 17</td><td><a class=\"ProveItLink\" href=\"../f9ea21399fc514c69aa179065174bb8c06923cc20/expr.ipynb\"><img src=\"../f9ea21399fc514c69aa179065174bb8c06923cc20/expr.png\" style=\"display:inline;vertical-align:middle;\" /></a></td></tr>\n",
       "<tr><td>15</td><td>Literal</td><td></td><td><a class=\"ProveItLink\" href=\"../../../../logic/equality/__pv_it/e16d2caa26a16688b658bdb9c422caf4b84579e10/expr.ipynb\"><img src=\"../../../../logic/equality/__pv_it/e16d2caa26a16688b658bdb9c422caf4b84579e10/expr.png\" style=\"display:inline;vertical-align:middle;\" /></a></td></tr>\n",
       "<tr><td>16</td><td>ExprTuple</td><td>18, 19</td><td><a class=\"ProveItLink\" href=\"../4522c91b84e7485f16d6ba2ce5edb44ec5f7e5ee0/expr.ipynb\"><img src=\"../4522c91b84e7485f16d6ba2ce5edb44ec5f7e5ee0/expr.png\" style=\"display:inline;vertical-align:middle;\" /></a></td></tr>\n",
       "<tr><td>17</td><td>ExprTuple</td><td></td><td><a class=\"ProveItLink\" href=\"../30d23d36f0994fc28429b458d9f08265f0433d5f0/expr.ipynb\"><img src=\"../30d23d36f0994fc28429b458d9f08265f0433d5f0/expr.png\" style=\"display:inline;vertical-align:middle;\" /></a></td></tr>\n",
       "<tr><td>18</td><td>Variable</td><td></td><td><a class=\"ProveItLink\" href=\"../../../../__pv_it/53e304ff98ebc000dbe3ef224f4637dbafd46ba70/expr.ipynb\"><img src=\"../../../../__pv_it/53e304ff98ebc000dbe3ef224f4637dbafd46ba70/expr.png\" style=\"display:inline;vertical-align:middle;\" /></a></td></tr>\n",
       "<tr><td>19</td><td>Variable</td><td></td><td><a class=\"ProveItLink\" href=\"../../../../__pv_it/445e790c2b62732eb8597a2ddda4cbd1a8fb79140/expr.ipynb\"><img src=\"../../../../__pv_it/445e790c2b62732eb8597a2ddda4cbd1a8fb79140/expr.png\" style=\"display:inline;vertical-align:middle;\" /></a></td></tr>\n",
       "</table>\n"
      ],
      "text/plain": [
       "0. forall_{b, d} (((b) = (d)) =  \\\\ ((() = ()) and (b = d)))\n",
       "   core type: Operation\n",
       "   operator: 1\n",
       "   operand: 2\n",
       "1. forall\n",
       "   core type: Literal\n",
       "   sub-expressions: \n",
       "2. (b, d) -> (((b) = (d)) =  \\\\ ((() = ()) and (b = d)))\n",
       "   core type: Lambda\n",
       "   parameters: 16\\n   body: 3\n",
       "3. ((b) = (d)) =  \\\\ ((() = ()) and (b = d))\n",
       "   core type: Operation\n",
       "   operator: 15\n",
       "   operands: 4\n",
       "4. ((b) = (d), (() = ()) and (b = d))\n",
       "   core type: ExprTuple\n",
       "   sub-expressions: 5, 6\n",
       "5. (b) = (d)\n",
       "   core type: Operation\n",
       "   operator: 15\n",
       "   operands: 7\n",
       "6. (() = ()) and (b = d)\n",
       "   core type: Operation\n",
       "   operator: 8\n",
       "   operands: 9\n",
       "7. ((b), (d))\n",
       "   core type: ExprTuple\n",
       "   sub-expressions: 10, 11\n",
       "8. and\n",
       "   core type: Literal\n",
       "   sub-expressions: \n",
       "9. (() = (), b = d)\n",
       "   core type: ExprTuple\n",
       "   sub-expressions: 12, 13\n",
       "10. (b)\n",
       "    core type: ExprTuple\n",
       "    sub-expressions: 18\n",
       "11. (d)\n",
       "    core type: ExprTuple\n",
       "    sub-expressions: 19\n",
       "12. () = ()\n",
       "    core type: Operation\n",
       "    operator: 15\n",
       "    operands: 14\n",
       "13. b = d\n",
       "    core type: Operation\n",
       "    operator: 15\n",
       "    operands: 16\n",
       "14. ((), ())\n",
       "    core type: ExprTuple\n",
       "    sub-expressions: 17, 17\n",
       "15. =\n",
       "    core type: Literal\n",
       "    sub-expressions: \n",
       "16. (b, d)\n",
       "    core type: ExprTuple\n",
       "    sub-expressions: 18, 19\n",
       "17. ()\n",
       "    core type: ExprTuple\n",
       "    sub-expressions: \n",
       "18. b\n",
       "    core type: Variable\n",
       "    sub-expressions: \n",
       "19. d\n",
       "    core type: Variable\n",
       "    sub-expressions: "
      ]
     },
     "execution_count": 5,
     "metadata": {},
     "output_type": "execute_result"
    }
   ],
   "source": [
    "# display the expression information\n",
    "expr.exprInfo()"
   ]
  },
  {
   "cell_type": "code",
   "execution_count": null,
   "metadata": {},
   "outputs": [],
   "source": []
  }
 ],
 "metadata": {
  "kernelspec": {
   "display_name": "Python 3",
   "language": "python",
   "name": "python3"
  },
  "language_info": {
   "codemirror_mode": {
    "name": "ipython",
    "version": 3
   },
   "file_extension": ".py",
   "mimetype": "text/x-python",
   "name": "python",
   "nbconvert_exporter": "python",
   "pygments_lexer": "ipython3",
   "version": "3.7.3"
  }
 },
 "nbformat": 4,
 "nbformat_minor": 1
}
