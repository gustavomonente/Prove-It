{
 "cells": [
  {
   "cell_type": "markdown",
   "metadata": {},
   "source": [
    "Expression of type <a class=\"ProveItLink\" href=\"../../../../../../doc/html/api/proveit.logic.Set.html\">Set</a>\n",
    "=======================\n",
    "# from context <a class=\"ProveItLink\" href=\"../../_context_.ipynb\">proveit.core_expr_types.tuples</a>"
   ]
  },
  {
   "cell_type": "code",
   "execution_count": 1,
   "metadata": {},
   "outputs": [],
   "source": [
    "import proveit\n",
    "# Automation is not needed when building an expression:\n",
    "proveit.defaults.automation = False # This will speed things up.\n",
    "proveit.defaults.inline_pngs = False # Makes files smaller.\n",
    "# import Expression classes needed to build the expression\n",
    "from proveit._common_ import i, j\n",
    "from proveit.logic import InSet, Set\n",
    "from proveit.number import Add, Integers, Naturals, Neg, one"
   ]
  },
  {
   "cell_type": "code",
   "execution_count": 2,
   "metadata": {},
   "outputs": [
    {
     "data": {
      "text/html": [
       "<strong id=\"expr\">expr:</strong> <a class=\"ProveItLink\" href=\"../57537333580d7109d3003a0882025b226d8a61130/expr.ipynb\"><img src=\"../57537333580d7109d3003a0882025b226d8a61130/expr.png\" style=\"display:inline;vertical-align:middle;\" /></a><br>"
      ],
      "text/plain": [
       "expr: {(j - (i - 1)) in Naturals, j in Integers, i in Integers}"
      ]
     },
     "execution_count": 2,
     "metadata": {},
     "output_type": "execute_result"
    }
   ],
   "source": [
    "# build up the expression from sub-expressions\n",
    "expr = Set(InSet(Add(j, Neg(Add(i, Neg(one)))), Naturals), InSet(j, Integers), InSet(i, Integers))"
   ]
  },
  {
   "cell_type": "code",
   "execution_count": 3,
   "metadata": {},
   "outputs": [
    {
     "name": "stdout",
     "output_type": "stream",
     "text": [
      "Passed sanity check: built 'expr' is the same as the stored Expression.\n"
     ]
    }
   ],
   "source": [
    "# check that the built expression is the same as the stored expression\n",
    "%check_expr"
   ]
  },
  {
   "cell_type": "code",
   "execution_count": 4,
   "metadata": {},
   "outputs": [
    {
     "name": "stdout",
     "output_type": "stream",
     "text": [
      "\\left\\{\\left(j - \\left(i - 1\\right)\\right) \\in \\mathbb{N}, j \\in \\mathbb{Z}, i \\in \\mathbb{Z}\\right\\}\n"
     ]
    }
   ],
   "source": [
    "# Show the LaTeX representation of the expression for convenience if you need it.\n",
    "print(expr.latex())"
   ]
  },
  {
   "cell_type": "code",
   "execution_count": 5,
   "metadata": {},
   "outputs": [
    {
     "data": {
      "text/html": [
       "<table><tr><th>&nbsp;</th><th>core type</th><th>sub-expressions</th><th>expression</th></tr>\n",
       "<tr><td>0</td><td>Operation</td><td>operator:&nbsp;1<br>operands:&nbsp;2<br></td><td><a class=\"ProveItLink\" href=\"../57537333580d7109d3003a0882025b226d8a61130/expr.ipynb\"><img src=\"../57537333580d7109d3003a0882025b226d8a61130/expr.png\" style=\"display:inline;vertical-align:middle;\" /></a></td></tr>\n",
       "<tr><td>1</td><td>Literal</td><td></td><td><a class=\"ProveItLink\" href=\"../../../../logic/set_theory/enumeration/__pv_it/031f443c811429025ee9cba8d75037dd468e2c850/expr.ipynb\"><img src=\"../../../../logic/set_theory/enumeration/__pv_it/031f443c811429025ee9cba8d75037dd468e2c850/expr.png\" style=\"display:inline;vertical-align:middle;\" /></a></td></tr>\n",
       "<tr><td>2</td><td>ExprTuple</td><td>3, 4, 5</td><td><a class=\"ProveItLink\" href=\"../7043480312e127747477d6eedc64192af01f14480/expr.ipynb\"><img src=\"../7043480312e127747477d6eedc64192af01f14480/expr.png\" style=\"display:inline;vertical-align:middle;\" /></a></td></tr>\n",
       "<tr><td>3</td><td>Operation</td><td>operator:&nbsp;8<br>operands:&nbsp;6<br></td><td><a class=\"ProveItLink\" href=\"../799f06551dd54abd716446d5afb52fb08a8524db0/expr.ipynb\"><img src=\"../799f06551dd54abd716446d5afb52fb08a8524db0/expr.png\" style=\"display:inline;vertical-align:middle;\" /></a></td></tr>\n",
       "<tr><td>4</td><td>Operation</td><td>operator:&nbsp;8<br>operands:&nbsp;7<br></td><td><a class=\"ProveItLink\" href=\"../31e1d4bc0072dbf32bc6f5a44b86366ab603262d0/expr.ipynb\"><img src=\"../31e1d4bc0072dbf32bc6f5a44b86366ab603262d0/expr.png\" style=\"display:inline;vertical-align:middle;\" /></a></td></tr>\n",
       "<tr><td>5</td><td>Operation</td><td>operator:&nbsp;8<br>operands:&nbsp;9<br></td><td><a class=\"ProveItLink\" href=\"../25439da4cc9b73bffe61ba84dcc80ea7c6a32ec50/expr.ipynb\"><img src=\"../25439da4cc9b73bffe61ba84dcc80ea7c6a32ec50/expr.png\" style=\"display:inline;vertical-align:middle;\" /></a></td></tr>\n",
       "<tr><td>6</td><td>ExprTuple</td><td>10, 11</td><td><a class=\"ProveItLink\" href=\"../631c5ebf553704308daa6958de78c1eaf380f1350/expr.ipynb\"><img src=\"../631c5ebf553704308daa6958de78c1eaf380f1350/expr.png\" style=\"display:inline;vertical-align:middle;\" /></a></td></tr>\n",
       "<tr><td>7</td><td>ExprTuple</td><td>14, 12</td><td><a class=\"ProveItLink\" href=\"../7acdb259c202c19b34ec7a334ebe7ee6eb9a807a0/expr.ipynb\"><img src=\"../7acdb259c202c19b34ec7a334ebe7ee6eb9a807a0/expr.png\" style=\"display:inline;vertical-align:middle;\" /></a></td></tr>\n",
       "<tr><td>8</td><td>Literal</td><td></td><td><a class=\"ProveItLink\" href=\"../../../../logic/set_theory/membership/__pv_it/7776fc89cb67d0b5b1ec2c0c8e08da5587921ccf0/expr.ipynb\"><img src=\"../../../../logic/set_theory/membership/__pv_it/7776fc89cb67d0b5b1ec2c0c8e08da5587921ccf0/expr.png\" style=\"display:inline;vertical-align:middle;\" /></a></td></tr>\n",
       "<tr><td>9</td><td>ExprTuple</td><td>19, 12</td><td><a class=\"ProveItLink\" href=\"../1e88d7611304f95a653a5688a69e91039f45e3b40/expr.ipynb\"><img src=\"../1e88d7611304f95a653a5688a69e91039f45e3b40/expr.png\" style=\"display:inline;vertical-align:middle;\" /></a></td></tr>\n",
       "<tr><td>10</td><td>Operation</td><td>operator:&nbsp;17<br>operands:&nbsp;13<br></td><td><a class=\"ProveItLink\" href=\"../9eccb62a73df8a30605d26bbdae9d54123fcc2cc0/expr.ipynb\"><img src=\"../9eccb62a73df8a30605d26bbdae9d54123fcc2cc0/expr.png\" style=\"display:inline;vertical-align:middle;\" /></a></td></tr>\n",
       "<tr><td>11</td><td>Literal</td><td></td><td><a class=\"ProveItLink\" href=\"../../../../number/sets/integer/__pv_it/b49c37b99b7e8d73a8d7971bcf454d693b90a2c60/expr.ipynb\"><img src=\"../../../../number/sets/integer/__pv_it/b49c37b99b7e8d73a8d7971bcf454d693b90a2c60/expr.png\" style=\"display:inline;vertical-align:middle;\" /></a></td></tr>\n",
       "<tr><td>12</td><td>Literal</td><td></td><td><a class=\"ProveItLink\" href=\"../../../../number/sets/integer/__pv_it/4b6f17dbfe8c62b413ab248a9ec52df6403e103e0/expr.ipynb\"><img src=\"../../../../number/sets/integer/__pv_it/4b6f17dbfe8c62b413ab248a9ec52df6403e103e0/expr.png\" style=\"display:inline;vertical-align:middle;\" /></a></td></tr>\n",
       "<tr><td>13</td><td>ExprTuple</td><td>14, 15</td><td><a class=\"ProveItLink\" href=\"../0f5ce6ee2accbc10bbc9078ec07a171ad273f5fa0/expr.ipynb\"><img src=\"../0f5ce6ee2accbc10bbc9078ec07a171ad273f5fa0/expr.png\" style=\"display:inline;vertical-align:middle;\" /></a></td></tr>\n",
       "<tr><td>14</td><td>Variable</td><td></td><td><a class=\"ProveItLink\" href=\"../../../../__pv_it/6a5b5879f51878868f626bf09e4d76392d4779cd0/expr.ipynb\"><img src=\"../../../../__pv_it/6a5b5879f51878868f626bf09e4d76392d4779cd0/expr.png\" style=\"display:inline;vertical-align:middle;\" /></a></td></tr>\n",
       "<tr><td>15</td><td>Operation</td><td>operator:&nbsp;21<br>operand:&nbsp;16<br></td><td><a class=\"ProveItLink\" href=\"../fa600a504ac2deed327d7bae009b88ec7ce239a20/expr.ipynb\"><img src=\"../fa600a504ac2deed327d7bae009b88ec7ce239a20/expr.png\" style=\"display:inline;vertical-align:middle;\" /></a></td></tr>\n",
       "<tr><td>16</td><td>Operation</td><td>operator:&nbsp;17<br>operands:&nbsp;18<br></td><td><a class=\"ProveItLink\" href=\"../41ce0ea9ea512a1a662af0ea1323cf88e7d117d80/expr.ipynb\"><img src=\"../41ce0ea9ea512a1a662af0ea1323cf88e7d117d80/expr.png\" style=\"display:inline;vertical-align:middle;\" /></a></td></tr>\n",
       "<tr><td>17</td><td>Literal</td><td></td><td><a class=\"ProveItLink\" href=\"../../../../number/addition/__pv_it/65ad7e8aee19b10110d590375ba95a879c4fb7ea0/expr.ipynb\"><img src=\"../../../../number/addition/__pv_it/65ad7e8aee19b10110d590375ba95a879c4fb7ea0/expr.png\" style=\"display:inline;vertical-align:middle;\" /></a></td></tr>\n",
       "<tr><td>18</td><td>ExprTuple</td><td>19, 20</td><td><a class=\"ProveItLink\" href=\"../2f3fc0c6ecddc46d88d2a03e8b5a14550eccfe9f0/expr.ipynb\"><img src=\"../2f3fc0c6ecddc46d88d2a03e8b5a14550eccfe9f0/expr.png\" style=\"display:inline;vertical-align:middle;\" /></a></td></tr>\n",
       "<tr><td>19</td><td>Variable</td><td></td><td><a class=\"ProveItLink\" href=\"../../../../__pv_it/557ab5defdcd46aa58168b08767502985122cd490/expr.ipynb\"><img src=\"../../../../__pv_it/557ab5defdcd46aa58168b08767502985122cd490/expr.png\" style=\"display:inline;vertical-align:middle;\" /></a></td></tr>\n",
       "<tr><td>20</td><td>Operation</td><td>operator:&nbsp;21<br>operand:&nbsp;22<br></td><td><a class=\"ProveItLink\" href=\"../../../__pv_it/01559348096b98a1dd2ebcf5c288189c829b18930/expr.ipynb\"><img src=\"../../../__pv_it/01559348096b98a1dd2ebcf5c288189c829b18930/expr.png\" style=\"display:inline;vertical-align:middle;\" /></a></td></tr>\n",
       "<tr><td>21</td><td>Literal</td><td></td><td><a class=\"ProveItLink\" href=\"../../../../number/negation/__pv_it/2867787e35502987d81a45cac8e7f1c6996d6ff40/expr.ipynb\"><img src=\"../../../../number/negation/__pv_it/2867787e35502987d81a45cac8e7f1c6996d6ff40/expr.png\" style=\"display:inline;vertical-align:middle;\" /></a></td></tr>\n",
       "<tr><td>22</td><td>Literal</td><td></td><td><a class=\"ProveItLink\" href=\"../../../../number/numeral/__pv_it/f086f8c372bd40a2458306ddfdbb29f3dc6f63030/expr.ipynb\"><img src=\"../../../../number/numeral/__pv_it/f086f8c372bd40a2458306ddfdbb29f3dc6f63030/expr.png\" style=\"display:inline;vertical-align:middle;\" /></a></td></tr>\n",
       "</table>\n"
      ],
      "text/plain": [
       "0. {(j - (i - 1)) in Naturals, j in Integers, i in Integers}\n",
       "   core type: Operation\n",
       "   operator: 1\n",
       "   operands: 2\n",
       "1. Set\n",
       "   core type: Literal\n",
       "   sub-expressions: \n",
       "2. ((j - (i - 1)) in Naturals, j in Integers, i in Integers)\n",
       "   core type: ExprTuple\n",
       "   sub-expressions: 3, 4, 5\n",
       "3. (j - (i - 1)) in Naturals\n",
       "   core type: Operation\n",
       "   operator: 8\n",
       "   operands: 6\n",
       "4. j in Integers\n",
       "   core type: Operation\n",
       "   operator: 8\n",
       "   operands: 7\n",
       "5. i in Integers\n",
       "   core type: Operation\n",
       "   operator: 8\n",
       "   operands: 9\n",
       "6. (j - (i - 1), Naturals)\n",
       "   core type: ExprTuple\n",
       "   sub-expressions: 10, 11\n",
       "7. (j, Integers)\n",
       "   core type: ExprTuple\n",
       "   sub-expressions: 14, 12\n",
       "8. in\n",
       "   core type: Literal\n",
       "   sub-expressions: \n",
       "9. (i, Integers)\n",
       "   core type: ExprTuple\n",
       "   sub-expressions: 19, 12\n",
       "10. j - (i - 1)\n",
       "    core type: Operation\n",
       "    operator: 17\n",
       "    operands: 13\n",
       "11. Naturals\n",
       "    core type: Literal\n",
       "    sub-expressions: \n",
       "12. Integers\n",
       "    core type: Literal\n",
       "    sub-expressions: \n",
       "13. (j, -(i - 1))\n",
       "    core type: ExprTuple\n",
       "    sub-expressions: 14, 15\n",
       "14. j\n",
       "    core type: Variable\n",
       "    sub-expressions: \n",
       "15. -(i - 1)\n",
       "    core type: Operation\n",
       "    operator: 21\n",
       "    operand: 16\n",
       "16. i - 1\n",
       "    core type: Operation\n",
       "    operator: 17\n",
       "    operands: 18\n",
       "17. +\n",
       "    core type: Literal\n",
       "    sub-expressions: \n",
       "18. (i, -1)\n",
       "    core type: ExprTuple\n",
       "    sub-expressions: 19, 20\n",
       "19. i\n",
       "    core type: Variable\n",
       "    sub-expressions: \n",
       "20. -1\n",
       "    core type: Operation\n",
       "    operator: 21\n",
       "    operand: 22\n",
       "21. -\n",
       "    core type: Literal\n",
       "    sub-expressions: \n",
       "22. 1\n",
       "    core type: Literal\n",
       "    sub-expressions: "
      ]
     },
     "execution_count": 5,
     "metadata": {},
     "output_type": "execute_result"
    }
   ],
   "source": [
    "# display the expression information\n",
    "expr.exprInfo()"
   ]
  },
  {
   "cell_type": "code",
   "execution_count": null,
   "metadata": {},
   "outputs": [],
   "source": []
  }
 ],
 "metadata": {
  "kernelspec": {
   "display_name": "Python 3",
   "language": "python",
   "name": "python3"
  },
  "language_info": {
   "codemirror_mode": {
    "name": "ipython",
    "version": 3
   },
   "file_extension": ".py",
   "mimetype": "text/x-python",
   "name": "python",
   "nbconvert_exporter": "python",
   "pygments_lexer": "ipython3",
   "version": "3.7.3"
  }
 },
 "nbformat": 4,
 "nbformat_minor": 1
}
