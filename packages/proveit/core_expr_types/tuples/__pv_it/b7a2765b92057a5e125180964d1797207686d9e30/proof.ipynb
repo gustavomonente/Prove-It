{
 "cells": [
  {
   "cell_type": "markdown",
   "metadata": {},
   "source": [
    "Show the Proof\n",
    "========"
   ]
  },
  {
   "cell_type": "code",
   "execution_count": 1,
   "metadata": {},
   "outputs": [
    {
     "data": {
      "text/html": [
       "<table><tr><th>&nbsp;</th><th>step type</th><th>requirements</th><th>statement</th></tr>\n",
       "<tr><td><a name=\"proveit.core_expr_types.tuples.b7a2765b92057a5e125180964d1797207686d9e30_step0\">0</a></td><td>instantiation</td><td><a href=\"#proveit.core_expr_types.tuples.b7a2765b92057a5e125180964d1797207686d9e30_step1\">1</a>, <a href=\"#proveit.core_expr_types.tuples.b7a2765b92057a5e125180964d1797207686d9e30_step2\">2</a></td><td><span style=\"font-size:20px;\"> <a class=\"ProveItLink\" href=\"proof.ipynb\" style=\"text-decoration: none\">&#x22A2;&nbsp;</a><a class=\"ProveItLink\" href=\"../2a16ed19a28c8f6865feb7035c447623131c901e0/expr.ipynb\"><img src=\"../2a16ed19a28c8f6865feb7035c447623131c901e0/expr.png\" style=\"display:inline;vertical-align:middle;\" /></a></span></td></tr>\n",
       "<tr><td>&nbsp;</td><td colspan=4 style=\"text-align:left\"><span style=\"font-size:20px;\"><a class=\"ProveItLink\" href=\"../../../../__pv_it/d3792d0d8642fdf1cd2a3a9b32c673ee13653de00/expr.ipynb\"><img src=\"../../../../__pv_it/d3792d0d8642fdf1cd2a3a9b32c673ee13653de00/expr.png\" style=\"display:inline;vertical-align:middle;\" /></a> : <a class=\"ProveItLink\" href=\"../f84aafe7ca62fbde526dde608e7bda64a152af530/expr.ipynb\"><img src=\"../f84aafe7ca62fbde526dde608e7bda64a152af530/expr.png\" style=\"display:inline;vertical-align:middle;\" /></a></span></td></tr><tr><td><a name=\"proveit.core_expr_types.tuples.b7a2765b92057a5e125180964d1797207686d9e30_step1\">1</a></td><td>theorem</td><td></td><td><span style=\"font-size:20px;\"> <a class=\"ProveItLink\" href=\"../../../../logic/boolean/conjunction/_proofs_/unary_and_reduction.ipynb\" style=\"text-decoration: none\">&#x22A2;&nbsp;</a><a class=\"ProveItLink\" href=\"../a9b99e21438332d46ecccb8904beeb2e277cc3370/expr.ipynb\"><img src=\"../a9b99e21438332d46ecccb8904beeb2e277cc3370/expr.png\" style=\"display:inline;vertical-align:middle;\" /></a></span></td></tr>\n",
       "<tr><td>&nbsp;</td><td colspan=4 style-\"text-align:left\"><a class=\"ProveItLink\" href=\"../../../../logic/boolean/conjunction/_proofs_/unary_and_reduction.ipynb\">proveit.logic.boolean.conjunction.unary_and_reduction</a></td></tr><tr><td><a name=\"proveit.core_expr_types.tuples.b7a2765b92057a5e125180964d1797207686d9e30_step2\">2</a></td><td>instantiation</td><td><a href=\"#proveit.core_expr_types.tuples.b7a2765b92057a5e125180964d1797207686d9e30_step3\">3</a></td><td><span style=\"font-size:20px;\"> <a class=\"ProveItLink\" href=\"../72a7809d845b4e6aa4375750a4628566e45634cd0/proof.ipynb\" style=\"text-decoration: none\">&#x22A2;&nbsp;</a><a class=\"ProveItLink\" href=\"../65265c396c276218ce13d9776c4c84884b41d7b70/expr.ipynb\"><img src=\"../65265c396c276218ce13d9776c4c84884b41d7b70/expr.png\" style=\"display:inline;vertical-align:middle;\" /></a></span></td></tr>\n",
       "<tr><td>&nbsp;</td><td colspan=4 style=\"text-align:left\"><span style=\"font-size:20px;\"><a class=\"ProveItLink\" href=\"../../../../__pv_it/72df168d2bfb4e0140af90912ebf83b13772060b0/expr.ipynb\"><img src=\"../../../../__pv_it/72df168d2bfb4e0140af90912ebf83b13772060b0/expr.png\" style=\"display:inline;vertical-align:middle;\" /></a> : <a class=\"ProveItLink\" href=\"../edbecc501e6ad0839a93e14246f0e7c8af21a4910/expr.ipynb\"><img src=\"../edbecc501e6ad0839a93e14246f0e7c8af21a4910/expr.png\" style=\"display:inline;vertical-align:middle;\" /></a>, <a class=\"ProveItLink\" href=\"../../../../__pv_it/c6e291955561f22a0e6708fd793ea93f1c7dbb5d0/expr.ipynb\"><img src=\"../../../../__pv_it/c6e291955561f22a0e6708fd793ea93f1c7dbb5d0/expr.png\" style=\"display:inline;vertical-align:middle;\" /></a> : <a class=\"ProveItLink\" href=\"../adc2105a2686b1f88bfda1bf26513057846168b90/expr.ipynb\"><img src=\"../adc2105a2686b1f88bfda1bf26513057846168b90/expr.png\" style=\"display:inline;vertical-align:middle;\" /></a></span></td></tr><tr><td><a name=\"proveit.core_expr_types.tuples.b7a2765b92057a5e125180964d1797207686d9e30_step3\">3</a></td><td>axiom</td><td></td><td><span style=\"font-size:20px;\"> <a class=\"ProveItLink\" href=\"../../../../logic/equality/_axioms_.ipynb#equalityInBool\" style=\"text-decoration: none\">&#x22A2;&nbsp;</a><a class=\"ProveItLink\" href=\"../0d544cb49b996777dd68c699e0454e3ea800b00b0/expr.ipynb\"><img src=\"../0d544cb49b996777dd68c699e0454e3ea800b00b0/expr.png\" style=\"display:inline;vertical-align:middle;\" /></a></span></td></tr>\n",
       "<tr><td>&nbsp;</td><td colspan=4 style-\"text-align:left\"><a class=\"ProveItLink\" href=\"../../../../logic/equality/_axioms_.ipynb#equalityInBool\">proveit.logic.equality.equalityInBool</a></td></tr></table>"
      ],
      "text/plain": [
       "<proveit._core_.proof._ShowProof at 0x7f5b8d4365f8>"
      ]
     },
     "execution_count": 1,
     "metadata": {},
     "output_type": "execute_result"
    }
   ],
   "source": [
    "import proveit\n",
    "# Automation is not needed when only showing a stored proof:\n",
    "proveit.defaults.automation = False # This will speed things up.\n",
    "proveit.defaults.inline_pngs = False # Makes files smaller.\n",
    "%show_proof"
   ]
  },
  {
   "cell_type": "code",
   "execution_count": null,
   "metadata": {},
   "outputs": [],
   "source": []
  }
 ],
 "metadata": {
  "kernelspec": {
   "display_name": "Python 3",
   "language": "python",
   "name": "python3"
  },
  "language_info": {
   "codemirror_mode": {
    "name": "ipython",
    "version": 3
   },
   "file_extension": ".py",
   "mimetype": "text/x-python",
   "name": "python",
   "nbconvert_exporter": "python",
   "pygments_lexer": "ipython3",
   "version": "3.7.3"
  }
 },
 "nbformat": 4,
 "nbformat_minor": 1
}
