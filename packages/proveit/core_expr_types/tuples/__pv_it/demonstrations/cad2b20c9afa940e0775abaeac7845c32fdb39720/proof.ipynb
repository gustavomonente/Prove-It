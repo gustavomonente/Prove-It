{
 "cells": [
  {
   "cell_type": "markdown",
   "metadata": {},
   "source": [
    "Show the Proof\n",
    "========"
   ]
  },
  {
   "cell_type": "code",
   "execution_count": 1,
   "metadata": {},
   "outputs": [
    {
     "data": {
      "text/html": [
       "<table><tr><th>&nbsp;</th><th>step type</th><th>requirements</th><th>statement</th></tr>\n",
       "<tr><td><a name=\"proveit.core_expr_types.tuples.demonstrations.cad2b20c9afa940e0775abaeac7845c32fdb39720_step0\">0</a></td><td>instantiation</td><td><a href=\"#proveit.core_expr_types.tuples.demonstrations.cad2b20c9afa940e0775abaeac7845c32fdb39720_step1\">1</a>, <a href=\"#proveit.core_expr_types.tuples.demonstrations.cad2b20c9afa940e0775abaeac7845c32fdb39720_step2\">2</a></td><td><span style=\"font-size:20px;\"><a class=\"ProveItLink\" href=\"../../theorems/206f454f40c180c01b531b28d4c1a21e14f50ba80/expr.ipynb\"><img src=\"../../theorems/206f454f40c180c01b531b28d4c1a21e14f50ba80/expr.png\" style=\"display:inline;vertical-align:middle;\" /></a> <a class=\"ProveItLink\" href=\"proof.ipynb\" style=\"text-decoration: none\">&nbsp;&#x22A2;&nbsp;&nbsp;</a><a class=\"ProveItLink\" href=\"../3b9a34ed7d40e7ffca508e842ed89928afa8f7d60/expr.ipynb\"><img src=\"../3b9a34ed7d40e7ffca508e842ed89928afa8f7d60/expr.png\" style=\"display:inline;vertical-align:middle;\" /></a></span></td></tr>\n",
       "<tr><td>&nbsp;</td><td colspan=4 style=\"text-align:left\"><span style=\"font-size:20px;\"><a class=\"ProveItLink\" href=\"../../../../../__pv_it/common/a2581dc5df71d9a30bad37de14965fa5fec97a240/expr.ipynb\"><img src=\"../../../../../__pv_it/common/a2581dc5df71d9a30bad37de14965fa5fec97a240/expr.png\" style=\"display:inline;vertical-align:middle;\" /></a> : <a class=\"ProveItLink\" href=\"../../../../__pv_it/common/d314b34e93a9dd019b37fafe2e64f2174ebf938c0/expr.ipynb\"><img src=\"../../../../__pv_it/common/d314b34e93a9dd019b37fafe2e64f2174ebf938c0/expr.png\" style=\"display:inline;vertical-align:middle;\" /></a>, <a class=\"ProveItLink\" href=\"../../../../../__pv_it/common/0f21cbfd5644a1cae6781c1d58354abc2ffbc9000/expr.ipynb\"><img src=\"../../../../../__pv_it/common/0f21cbfd5644a1cae6781c1d58354abc2ffbc9000/expr.png\" style=\"display:inline;vertical-align:middle;\" /></a> : <a class=\"ProveItLink\" href=\"../../../../__pv_it/common/7a072c69f15054b1b89cf86d05b206beaaafb0f10/expr.ipynb\"><img src=\"../../../../__pv_it/common/7a072c69f15054b1b89cf86d05b206beaaafb0f10/expr.png\" style=\"display:inline;vertical-align:middle;\" /></a></span></td></tr><tr><td><a name=\"proveit.core_expr_types.tuples.demonstrations.cad2b20c9afa940e0775abaeac7845c32fdb39720_step1\">1</a></td><td>theorem</td><td></td><td><span style=\"font-size:20px;\"> <a class=\"ProveItLink\" href=\"../../../../../logic/equality/_theory_nbs_/proofs/equals_reversal/thm_proof.ipynb\" style=\"text-decoration: none\">&nbsp;&#x22A2;&nbsp;&nbsp;</a><a class=\"ProveItLink\" href=\"../../../../../logic/equality/__pv_it/theorems/dc152814dc196fecb1397c6db676c4086227b8ad0/expr.ipynb\"><img src=\"../../../../../logic/equality/__pv_it/theorems/dc152814dc196fecb1397c6db676c4086227b8ad0/expr.png\" style=\"display:inline;vertical-align:middle;\" /></a></span></td></tr>\n",
       "<tr><td>&nbsp;</td><td colspan=4 style-\"text-align:left\"><a class=\"ProveItLink\" href=\"../../../../../logic/equality/_theory_nbs_/proofs/equals_reversal/thm_proof.ipynb\">proveit.logic.equality.equals_reversal</a></td></tr><tr><td><a name=\"proveit.core_expr_types.tuples.demonstrations.cad2b20c9afa940e0775abaeac7845c32fdb39720_step2\">2</a></td><td>instantiation</td><td><a href=\"#proveit.core_expr_types.tuples.demonstrations.cad2b20c9afa940e0775abaeac7845c32fdb39720_step3\">3</a>, <a href=\"#proveit.core_expr_types.tuples.demonstrations.cad2b20c9afa940e0775abaeac7845c32fdb39720_step4\">4</a></td><td><span style=\"font-size:20px;\"><a class=\"ProveItLink\" href=\"../../theorems/206f454f40c180c01b531b28d4c1a21e14f50ba80/expr.ipynb\"><img src=\"../../theorems/206f454f40c180c01b531b28d4c1a21e14f50ba80/expr.png\" style=\"display:inline;vertical-align:middle;\" /></a> <a class=\"ProveItLink\" href=\"../11982b38924a62af80d0e4823c110c987c3bfb330/proof.ipynb\" style=\"text-decoration: none\">&nbsp;&#x22A2;&nbsp;&nbsp;</a><a class=\"ProveItLink\" href=\"../../../../__pv_it/common/b8fe420ce2290cf2676f66a2fd7d69d9bbfae51a0/expr.ipynb\"><img src=\"../../../../__pv_it/common/b8fe420ce2290cf2676f66a2fd7d69d9bbfae51a0/expr.png\" style=\"display:inline;vertical-align:middle;\" /></a></span></td></tr>\n",
       "<tr><td>&nbsp;</td><td colspan=4 style=\"text-align:left\"><span style=\"font-size:20px;\"><a class=\"ProveItLink\" href=\"../../../../../__pv_it/common/9ac5f21595b2ed44b42a15e8a4723b3ae344c0140/expr.ipynb\"><img src=\"../../../../../__pv_it/common/9ac5f21595b2ed44b42a15e8a4723b3ae344c0140/expr.png\" style=\"display:inline;vertical-align:middle;\" /></a> : <a class=\"ProveItLink\" href=\"../../../../../__pv_it/common/9ac5f21595b2ed44b42a15e8a4723b3ae344c0140/expr.ipynb\"><img src=\"../../../../../__pv_it/common/9ac5f21595b2ed44b42a15e8a4723b3ae344c0140/expr.png\" style=\"display:inline;vertical-align:middle;\" /></a>, <a class=\"ProveItLink\" href=\"../../../../../__pv_it/common/575a6156bb1c87c5beeaf38c302b5905ad57f5780/expr.ipynb\"><img src=\"../../../../../__pv_it/common/575a6156bb1c87c5beeaf38c302b5905ad57f5780/expr.png\" style=\"display:inline;vertical-align:middle;\" /></a> : <a class=\"ProveItLink\" href=\"../../../../../__pv_it/common/575a6156bb1c87c5beeaf38c302b5905ad57f5780/expr.ipynb\"><img src=\"../../../../../__pv_it/common/575a6156bb1c87c5beeaf38c302b5905ad57f5780/expr.png\" style=\"display:inline;vertical-align:middle;\" /></a>, <a class=\"ProveItLink\" href=\"../../../../../__pv_it/common/5514cc9a63b9c2ed9b63934dd5e088ab0d4f10080/expr.ipynb\"><img src=\"../../../../../__pv_it/common/5514cc9a63b9c2ed9b63934dd5e088ab0d4f10080/expr.png\" style=\"display:inline;vertical-align:middle;\" /></a> : <a class=\"ProveItLink\" href=\"../../../../../__pv_it/common/5514cc9a63b9c2ed9b63934dd5e088ab0d4f10080/expr.ipynb\"><img src=\"../../../../../__pv_it/common/5514cc9a63b9c2ed9b63934dd5e088ab0d4f10080/expr.png\" style=\"display:inline;vertical-align:middle;\" /></a></span></td></tr><tr><td><a name=\"proveit.core_expr_types.tuples.demonstrations.cad2b20c9afa940e0775abaeac7845c32fdb39720_step3\">3</a></td><td>theorem</td><td></td><td><span style=\"font-size:20px;\"> <a class=\"ProveItLink\" href=\"../../../_theory_nbs_/proofs/partition_back/thm_proof.ipynb\" style=\"text-decoration: none\">&nbsp;&#x22A2;&nbsp;&nbsp;</a><a class=\"ProveItLink\" href=\"../../theorems/c48cf0edadd981faf02e140a41ba7d54678b478b0/expr.ipynb\"><img src=\"../../theorems/c48cf0edadd981faf02e140a41ba7d54678b478b0/expr.png\" style=\"display:inline;vertical-align:middle;\" /></a></span></td></tr>\n",
       "<tr><td>&nbsp;</td><td colspan=4 style-\"text-align:left\"><a class=\"ProveItLink\" href=\"../../../_theory_nbs_/proofs/partition_back/thm_proof.ipynb\">proveit.core_expr_types.tuples.partition_back</a></td></tr><tr><td><a name=\"proveit.core_expr_types.tuples.demonstrations.cad2b20c9afa940e0775abaeac7845c32fdb39720_step4\">4</a></td><td>assumption</td><td></td><td><span style=\"font-size:20px;\"><a class=\"ProveItLink\" href=\"../../theorems/206f454f40c180c01b531b28d4c1a21e14f50ba80/expr.ipynb\"><img src=\"../../theorems/206f454f40c180c01b531b28d4c1a21e14f50ba80/expr.png\" style=\"display:inline;vertical-align:middle;\" /></a> <a class=\"ProveItLink\" href=\"../051198aad85c731bc49fe8c69db0e6904c42f2850/proof.ipynb\" style=\"text-decoration: none\">&nbsp;&#x22A2;&nbsp;&nbsp;</a><a class=\"ProveItLink\" href=\"../../theorems/206f454f40c180c01b531b28d4c1a21e14f50ba80/expr.ipynb\"><img src=\"../../theorems/206f454f40c180c01b531b28d4c1a21e14f50ba80/expr.png\" style=\"display:inline;vertical-align:middle;\" /></a></span></td></tr>\n",
       "</table>"
      ],
      "text/plain": [
       "<proveit._core_.proof._ShowProof at 0x7ff5f2badcf8>"
      ]
     },
     "execution_count": 1,
     "metadata": {},
     "output_type": "execute_result"
    }
   ],
   "source": [
    "import proveit\n",
    "# Automation is not needed when only showing a stored proof:\n",
    "proveit.defaults.automation = False # This will speed things up.\n",
    "proveit.defaults.inline_pngs = False # Makes files smaller.\n",
    "%show_proof"
   ]
  },
  {
   "cell_type": "code",
   "execution_count": null,
   "metadata": {},
   "outputs": [],
   "source": []
  }
 ],
 "metadata": {
  "kernelspec": {
   "display_name": "Python 3",
   "language": "python",
   "name": "python3"
  },
  "language_info": {
   "codemirror_mode": {
    "name": "ipython",
    "version": 3
   },
   "file_extension": ".py",
   "mimetype": "text/x-python",
   "name": "python",
   "nbconvert_exporter": "python",
   "pygments_lexer": "ipython3",
   "version": "3.7.3"
  }
 },
 "nbformat": 4,
 "nbformat_minor": 1
}