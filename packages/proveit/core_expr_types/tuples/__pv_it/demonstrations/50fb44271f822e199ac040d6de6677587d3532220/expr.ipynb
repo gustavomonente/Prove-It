{
 "cells": [
  {
   "cell_type": "markdown",
   "metadata": {},
   "source": [
    "Expression of type <a class=\"ProveItLink\" href=\"../../../../../../../doc/html/api/proveit.logic.Equals.html\">Equals</a>\n",
    "=======================\n",
    "# from the theory of <a class=\"ProveItLink\" href=\"../../../_theory_nbs_/theory.ipynb\">proveit.core_expr_types.tuples</a>"
   ]
  },
  {
   "cell_type": "code",
   "execution_count": 1,
   "metadata": {},
   "outputs": [],
   "source": [
    "import proveit\n",
    "# Automation is not needed when building an expression:\n",
    "proveit.defaults.automation = False # This will speed things up.\n",
    "proveit.defaults.inline_pngs = False # Makes files smaller.\n",
    "%load_expr # Load the stored expression as 'stored_expr'\n",
    "# import Expression classes needed to build the expression\n",
    "from proveit import ExprRange, IndexedVar, a, k, l, n\n",
    "from proveit.core_expr_types import Len\n",
    "from proveit.logic import Equals\n",
    "from proveit.numbers import one, two, zero"
   ]
  },
  {
   "cell_type": "code",
   "execution_count": 2,
   "metadata": {},
   "outputs": [
    {
     "data": {
      "text/html": [
       "<strong id=\"expr\">expr:</strong> <a class=\"ProveItLink\" href=\"expr.ipynb\"><img src=\"expr.png\" style=\"display:inline;vertical-align:middle;\" /></a><br>"
      ],
      "text/plain": [
       "expr: |(a_{1, 2}, ..a_{1, l}.., a_{1, n}, ....a_{k, 2}, ..a_{k, l}.., a_{k, n}...., a_{0, 2}, ..a_{0, l}.., a_{0, n})| = 0"
      ]
     },
     "execution_count": 2,
     "metadata": {},
     "output_type": "execute_result"
    }
   ],
   "source": [
    "# build up the expression from sub-expressions\n",
    "expr = Equals(Len([ExprRange(k, ExprRange(l, IndexedVar(a, [k, l]), two, n), one, zero)]), zero)"
   ]
  },
  {
   "cell_type": "code",
   "execution_count": 3,
   "metadata": {},
   "outputs": [
    {
     "name": "stdout",
     "output_type": "stream",
     "text": [
      "Passed sanity check: expr matches stored_expr\n"
     ]
    }
   ],
   "source": [
    "# check that the built expression is the same as the stored expression\n",
    "assert expr == stored_expr\n",
    "assert expr._style_id == stored_expr._style_id\n",
    "print(\"Passed sanity check: expr matches stored_expr\")"
   ]
  },
  {
   "cell_type": "code",
   "execution_count": 4,
   "metadata": {},
   "outputs": [
    {
     "name": "stdout",
     "output_type": "stream",
     "text": [
      "|\\left(a_{1, 2}, \\ldots, a_{1, n}, \\ldots\\ldots, a_{0, 2}, \\ldots, a_{0, n}\\right)| = 0\n"
     ]
    }
   ],
   "source": [
    "# Show the LaTeX representation of the expression for convenience if you need it.\n",
    "print(expr.latex())"
   ]
  },
  {
   "cell_type": "code",
   "execution_count": 5,
   "metadata": {},
   "outputs": [
    {
     "data": {
      "text/html": [
       "<table><tr><th>&nbsp;</th><th>core type</th><th>sub-expressions</th><th>expression</th></tr>\n",
       "<tr><td>0</td><td>Operation</td><td>operator:&nbsp;1<br>operands:&nbsp;2<br></td><td><a class=\"ProveItLink\" href=\"expr.ipynb\"><img src=\"expr.png\" style=\"display:inline;vertical-align:middle;\" /></a></td></tr>\n",
       "<tr><td>1</td><td>Literal</td><td></td><td><a class=\"ProveItLink\" href=\"../../../../../logic/equality/__pv_it/common/fb96dc12b2aa8801dda64d0132b396c63d1502bb0/expr.ipynb\"><img src=\"../../../../../logic/equality/__pv_it/common/fb96dc12b2aa8801dda64d0132b396c63d1502bb0/expr.png\" style=\"display:inline;vertical-align:middle;\" /></a></td></tr>\n",
       "<tr><td>2</td><td>ExprTuple</td><td>3, 10</td><td><a class=\"ProveItLink\" href=\"../a4fe9a018464b71a25eb677f911b36d6b8ba4afa0/expr.ipynb\"><img src=\"../a4fe9a018464b71a25eb677f911b36d6b8ba4afa0/expr.png\" style=\"display:inline;vertical-align:middle;\" /></a></td></tr>\n",
       "<tr><td>3</td><td>Operation</td><td>operator:&nbsp;4<br>operand:&nbsp;6<br></td><td><a class=\"ProveItLink\" href=\"../784605cb32cd477ef941903071e67e83b0a883bb0/expr.ipynb\"><img src=\"../784605cb32cd477ef941903071e67e83b0a883bb0/expr.png\" style=\"display:inline;vertical-align:middle;\" /></a></td></tr>\n",
       "<tr><td>4</td><td>Literal</td><td></td><td><a class=\"ProveItLink\" href=\"../../common/43df765abf1294d8f1fd177863f57f08bf5ad0080/expr.ipynb\"><img src=\"../../common/43df765abf1294d8f1fd177863f57f08bf5ad0080/expr.png\" style=\"display:inline;vertical-align:middle;\" /></a></td></tr>\n",
       "<tr><td>5</td><td>ExprTuple</td><td>6</td><td><a class=\"ProveItLink\" href=\"../0f6007f1cc67cea00359dcdc03c6b8de0a1a3f880/expr.ipynb\"><img src=\"../0f6007f1cc67cea00359dcdc03c6b8de0a1a3f880/expr.png\" style=\"display:inline;vertical-align:middle;\" /></a></td></tr>\n",
       "<tr><td>6</td><td>ExprTuple</td><td>7</td><td><a class=\"ProveItLink\" href=\"../fd62a8af5787d37b864cb19bf7b31996324633490/expr.ipynb\"><img src=\"../fd62a8af5787d37b864cb19bf7b31996324633490/expr.png\" style=\"display:inline;vertical-align:middle;\" /></a></td></tr>\n",
       "<tr><td>7</td><td>ExprRange</td><td>lambda_map:&nbsp;8<br>start_index:&nbsp;9<br>end_index:&nbsp;10<br></td><td><a class=\"ProveItLink\" href=\"../886d4bb06d9328bc6c6c26136a435e689d68db590/expr.ipynb\"><img src=\"../886d4bb06d9328bc6c6c26136a435e689d68db590/expr.png\" style=\"display:inline;vertical-align:middle;\" /></a></td></tr>\n",
       "<tr><td>8</td><td>Lambda</td><td>parameter:&nbsp;18<br>body:&nbsp;11<br></td><td><a class=\"ProveItLink\" href=\"../79260e4a75314d8ea51fd54058905d9e8abcf98a0/expr.ipynb\"><img src=\"../79260e4a75314d8ea51fd54058905d9e8abcf98a0/expr.png\" style=\"display:inline;vertical-align:middle;\" /></a></td></tr>\n",
       "<tr><td>9</td><td>Literal</td><td></td><td><a class=\"ProveItLink\" href=\"../../../../../numbers/numerals/__pv_it/common/2778428c7f555b2bdc06aa0530bc142c6e6335100/expr.ipynb\"><img src=\"../../../../../numbers/numerals/__pv_it/common/2778428c7f555b2bdc06aa0530bc142c6e6335100/expr.png\" style=\"display:inline;vertical-align:middle;\" /></a></td></tr>\n",
       "<tr><td>10</td><td>Literal</td><td></td><td><a class=\"ProveItLink\" href=\"../../../../../numbers/numerals/__pv_it/common/7d0a36793ffe8d307a5c120ee5598162e8cd2db10/expr.ipynb\"><img src=\"../../../../../numbers/numerals/__pv_it/common/7d0a36793ffe8d307a5c120ee5598162e8cd2db10/expr.png\" style=\"display:inline;vertical-align:middle;\" /></a></td></tr>\n",
       "<tr><td>11</td><td>ExprRange</td><td>lambda_map:&nbsp;12<br>start_index:&nbsp;13<br>end_index:&nbsp;14<br></td><td><a class=\"ProveItLink\" href=\"../ea52ddb926e07c92124e20e3a3c9ef23523f1abf0/expr.ipynb\"><img src=\"../ea52ddb926e07c92124e20e3a3c9ef23523f1abf0/expr.png\" style=\"display:inline;vertical-align:middle;\" /></a></td></tr>\n",
       "<tr><td>12</td><td>Lambda</td><td>parameter:&nbsp;19<br>body:&nbsp;15<br></td><td><a class=\"ProveItLink\" href=\"../492dd1974c1225f620ee65624e547d671fd1c1ae0/expr.ipynb\"><img src=\"../492dd1974c1225f620ee65624e547d671fd1c1ae0/expr.png\" style=\"display:inline;vertical-align:middle;\" /></a></td></tr>\n",
       "<tr><td>13</td><td>Literal</td><td></td><td><a class=\"ProveItLink\" href=\"../../../../../numbers/numerals/__pv_it/common/ba3b059982e8b49413dc653e957beb11e974e4bc0/expr.ipynb\"><img src=\"../../../../../numbers/numerals/__pv_it/common/ba3b059982e8b49413dc653e957beb11e974e4bc0/expr.png\" style=\"display:inline;vertical-align:middle;\" /></a></td></tr>\n",
       "<tr><td>14</td><td>Variable</td><td></td><td><a class=\"ProveItLink\" href=\"../../../../../__pv_it/common/8968bb04eb3f7dfa02353397ce929b025bbd79c20/expr.ipynb\"><img src=\"../../../../../__pv_it/common/8968bb04eb3f7dfa02353397ce929b025bbd79c20/expr.png\" style=\"display:inline;vertical-align:middle;\" /></a></td></tr>\n",
       "<tr><td>15</td><td>IndexedVar</td><td>variable:&nbsp;16<br>indices:&nbsp;17<br></td><td><a class=\"ProveItLink\" href=\"../2bf1ca8cef595d5eb6810c1617f8b2a6941c99780/expr.ipynb\"><img src=\"../2bf1ca8cef595d5eb6810c1617f8b2a6941c99780/expr.png\" style=\"display:inline;vertical-align:middle;\" /></a></td></tr>\n",
       "<tr><td>16</td><td>Variable</td><td></td><td><a class=\"ProveItLink\" href=\"../../../../../__pv_it/common/c06c606ec12678c58933ac85412ecadc2ae28be60/expr.ipynb\"><img src=\"../../../../../__pv_it/common/c06c606ec12678c58933ac85412ecadc2ae28be60/expr.png\" style=\"display:inline;vertical-align:middle;\" /></a></td></tr>\n",
       "<tr><td>17</td><td>ExprTuple</td><td>18, 19</td><td><a class=\"ProveItLink\" href=\"../../common/9715d4b9bea00e4d99beaad97f85d31d117be5a00/expr.ipynb\"><img src=\"../../common/9715d4b9bea00e4d99beaad97f85d31d117be5a00/expr.png\" style=\"display:inline;vertical-align:middle;\" /></a></td></tr>\n",
       "<tr><td>18</td><td>Variable</td><td></td><td><a class=\"ProveItLink\" href=\"../../../../../__pv_it/common/63b7c64bf9ec7a04ecc396c7a1670f3f12fb59490/expr.ipynb\"><img src=\"../../../../../__pv_it/common/63b7c64bf9ec7a04ecc396c7a1670f3f12fb59490/expr.png\" style=\"display:inline;vertical-align:middle;\" /></a></td></tr>\n",
       "<tr><td>19</td><td>Variable</td><td></td><td><a class=\"ProveItLink\" href=\"../../../../../__pv_it/common/27cc275d44b4f4499fb9ccfb3fab1a98165d2fa60/expr.ipynb\"><img src=\"../../../../../__pv_it/common/27cc275d44b4f4499fb9ccfb3fab1a98165d2fa60/expr.png\" style=\"display:inline;vertical-align:middle;\" /></a></td></tr>\n",
       "</table>\n"
      ],
      "text/plain": [
       "0. |(a_{1, 2}, ..a_{1, l}.., a_{1, n}, ....a_{k, 2}, ..a_{k, l}.., a_{k, n}...., a_{0, 2}, ..a_{0, l}.., a_{0, n})| = 0\n",
       "   core type: Operation\n",
       "   operator: 1\n",
       "   operands: 2\n",
       "1. =\n",
       "   core type: Literal\n",
       "   sub-expressions: \n",
       "2. (|(a_{1, 2}, ..a_{1, l}.., a_{1, n}, ....a_{k, 2}, ..a_{k, l}.., a_{k, n}...., a_{0, 2}, ..a_{0, l}.., a_{0, n})|, 0)\n",
       "   core type: ExprTuple\n",
       "   sub-expressions: 3, 10\n",
       "3. |(a_{1, 2}, ..a_{1, l}.., a_{1, n}, ....a_{k, 2}, ..a_{k, l}.., a_{k, n}...., a_{0, 2}, ..a_{0, l}.., a_{0, n})|\n",
       "   core type: Operation\n",
       "   operator: 4\n",
       "   operand: 6\n",
       "4. length\n",
       "   core type: Literal\n",
       "   sub-expressions: \n",
       "5. ((a_{1, 2}, ..a_{1, l}.., a_{1, n}, ....a_{k, 2}, ..a_{k, l}.., a_{k, n}...., a_{0, 2}, ..a_{0, l}.., a_{0, n}))\n",
       "   core type: ExprTuple\n",
       "   sub-expressions: 6\n",
       "6. (a_{1, 2}, ..a_{1, l}.., a_{1, n}, ....a_{k, 2}, ..a_{k, l}.., a_{k, n}...., a_{0, 2}, ..a_{0, l}.., a_{0, n})\n",
       "   core type: ExprTuple\n",
       "   sub-expressions: 7\n",
       "7. a_{1, 2}, ..a_{1, l}.., a_{1, n}, ....a_{k, 2}, ..a_{k, l}.., a_{k, n}...., a_{0, 2}, ..a_{0, l}.., a_{0, n}\n",
       "   core type: ExprRange\n",
       "   lambda_map: 8\n",
       "   start_index: 9\n",
       "   end_index: 10\n",
       "8. k -> a_{k, 2}, ..a_{k, l}.., a_{k, n}\n",
       "   core type: Lambda\n",
       "   parameter: 18\n",
       "   body: 11\n",
       "9. 1\n",
       "   core type: Literal\n",
       "   sub-expressions: \n",
       "10. 0\n",
       "    core type: Literal\n",
       "    sub-expressions: \n",
       "11. a_{k, 2}, ..a_{k, l}.., a_{k, n}\n",
       "    core type: ExprRange\n",
       "    lambda_map: 12\n",
       "    start_index: 13\n",
       "    end_index: 14\n",
       "12. l -> a_{k, l}\n",
       "    core type: Lambda\n",
       "    parameter: 19\n",
       "    body: 15\n",
       "13. 2\n",
       "    core type: Literal\n",
       "    sub-expressions: \n",
       "14. n\n",
       "    core type: Variable\n",
       "    sub-expressions: \n",
       "15. a_{k, l}\n",
       "    core type: IndexedVar\n",
       "variable: 16\n",
       "indices: 17\n",
       "16. a\n",
       "    core type: Variable\n",
       "    sub-expressions: \n",
       "17. (k, l)\n",
       "    core type: ExprTuple\n",
       "    sub-expressions: 18, 19\n",
       "18. k\n",
       "    core type: Variable\n",
       "    sub-expressions: \n",
       "19. l\n",
       "    core type: Variable\n",
       "    sub-expressions: "
      ]
     },
     "execution_count": 5,
     "metadata": {},
     "output_type": "execute_result"
    }
   ],
   "source": [
    "# display the expression information\n",
    "expr.expr_info()"
   ]
  },
  {
   "cell_type": "code",
   "execution_count": null,
   "metadata": {},
   "outputs": [],
   "source": []
  }
 ],
 "metadata": {
  "kernelspec": {
   "display_name": "Python 3",
   "language": "python",
   "name": "python3"
  }
 },
 "nbformat": 4,
 "nbformat_minor": 0
}