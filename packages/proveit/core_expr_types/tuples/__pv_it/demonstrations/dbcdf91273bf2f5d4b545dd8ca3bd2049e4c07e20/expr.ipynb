{
 "cells": [
  {
   "cell_type": "markdown",
   "metadata": {},
   "source": [
    "Expression of type <a class=\"ProveItLink\" href=\"../../../../../../../doc/html/api/proveit.core_expr_types.Len.html\">Len</a>\n",
    "=======================\n",
    "# from the theory of <a class=\"ProveItLink\" href=\"../../../_theory_nbs_/theory.ipynb\">proveit.core_expr_types.tuples</a>"
   ]
  },
  {
   "cell_type": "code",
   "execution_count": 1,
   "metadata": {},
   "outputs": [],
   "source": [
    "import proveit\n",
    "# Automation is not needed when building an expression:\n",
    "proveit.defaults.automation = False # This will speed things up.\n",
    "proveit.defaults.inline_pngs = False # Makes files smaller.\n",
    "%load_expr # Load the stored expression as 'stored_expr'\n",
    "# import Expression classes needed to build the expression\n",
    "from proveit import ExprRange, IndexedVar, a, k, l\n",
    "from proveit.core_expr_types import Len\n",
    "from proveit.numbers import one, two, zero"
   ]
  },
  {
   "cell_type": "code",
   "execution_count": 2,
   "metadata": {},
   "outputs": [
    {
     "data": {
      "text/html": [
       "<strong id=\"expr\">expr:</strong> <a class=\"ProveItLink\" href=\"expr.ipynb\"><img src=\"expr.png\" style=\"display:inline;vertical-align:middle;\" /></a><br>"
      ],
      "text/plain": [
       "expr: |(a_{2, 1}, ..a_{2, l}.., a_{2, 0}, ....a_{k, 1}, ..a_{k, l}.., a_{k, 0}...., a_{1, 1}, ..a_{1, l}.., a_{1, 0})|"
      ]
     },
     "execution_count": 2,
     "metadata": {},
     "output_type": "execute_result"
    }
   ],
   "source": [
    "# build up the expression from sub-expressions\n",
    "expr = Len([ExprRange(k, ExprRange(l, IndexedVar(a, [k, l]), one, zero), two, one)])"
   ]
  },
  {
   "cell_type": "code",
   "execution_count": 3,
   "metadata": {},
   "outputs": [
    {
     "name": "stdout",
     "output_type": "stream",
     "text": [
      "Passed sanity check: expr matches stored_expr\n"
     ]
    }
   ],
   "source": [
    "# check that the built expression is the same as the stored expression\n",
    "assert expr == stored_expr\n",
    "assert expr._style_id == stored_expr._style_id\n",
    "print(\"Passed sanity check: expr matches stored_expr\")"
   ]
  },
  {
   "cell_type": "code",
   "execution_count": 4,
   "metadata": {},
   "outputs": [
    {
     "name": "stdout",
     "output_type": "stream",
     "text": [
      "|\\left(a_{2, 1}, \\ldots, a_{2, 0}, \\ldots\\ldots, a_{1, 1}, \\ldots, a_{1, 0}\\right)|\n"
     ]
    }
   ],
   "source": [
    "# Show the LaTeX representation of the expression for convenience if you need it.\n",
    "print(expr.latex())"
   ]
  },
  {
   "cell_type": "code",
   "execution_count": 5,
   "metadata": {},
   "outputs": [
    {
     "data": {
      "text/html": [
       "<table>\n",
       "<tr><th>name</th><th>description</th><th>default</th><th>current value</th><th>related methods</th></tr><tr><td>operation</td><td>'infix' or 'function' style formatting</td><td>function</td><td>function</td><td></td></tr>\n",
       "</table>\n"
      ],
      "text/plain": [
       "style name: operation\n",
       "description: 'infix' or 'function' style formatting\n",
       "default: function\n",
       "current value: function\n",
       "related methods: ()"
      ]
     },
     "execution_count": 5,
     "metadata": {},
     "output_type": "execute_result"
    }
   ],
   "source": [
    "expr.style_options()"
   ]
  },
  {
   "cell_type": "code",
   "execution_count": 6,
   "metadata": {},
   "outputs": [
    {
     "data": {
      "text/html": [
       "<table><tr><th>&nbsp;</th><th>core type</th><th>sub-expressions</th><th>expression</th></tr>\n",
       "<tr><td>0</td><td>Operation</td><td>operator:&nbsp;1<br>operand:&nbsp;3<br></td><td><a class=\"ProveItLink\" href=\"expr.ipynb\"><img src=\"expr.png\" style=\"display:inline;vertical-align:middle;\" /></a></td></tr>\n",
       "<tr><td>1</td><td>Literal</td><td></td><td><a class=\"ProveItLink\" href=\"../../common/29138a46bfd9f58652485fe2e3b1ee46d90d773e0/expr.ipynb\"><img src=\"../../common/29138a46bfd9f58652485fe2e3b1ee46d90d773e0/expr.png\" style=\"display:inline;vertical-align:middle;\" /></a></td></tr>\n",
       "<tr><td>2</td><td>ExprTuple</td><td>3</td><td><a class=\"ProveItLink\" href=\"../240ab5619693bdceea308c2c301790b39bb3b4230/expr.ipynb\"><img src=\"../240ab5619693bdceea308c2c301790b39bb3b4230/expr.png\" style=\"display:inline;vertical-align:middle;\" /></a></td></tr>\n",
       "<tr><td>3</td><td>ExprTuple</td><td>4</td><td><a class=\"ProveItLink\" href=\"../544fdef97782ffefae2179bb0416a03de573e85a0/expr.ipynb\"><img src=\"../544fdef97782ffefae2179bb0416a03de573e85a0/expr.png\" style=\"display:inline;vertical-align:middle;\" /></a></td></tr>\n",
       "<tr><td>4</td><td>ExprRange</td><td>lambda_map:&nbsp;5<br>start_index:&nbsp;6<br>end_index:&nbsp;9<br></td><td><a class=\"ProveItLink\" href=\"../ba0795444b3897c98eae9256b7247d599c6aabf00/expr.ipynb\"><img src=\"../ba0795444b3897c98eae9256b7247d599c6aabf00/expr.png\" style=\"display:inline;vertical-align:middle;\" /></a></td></tr>\n",
       "<tr><td>5</td><td>Lambda</td><td>parameter:&nbsp;14<br>body:&nbsp;7<br></td><td><a class=\"ProveItLink\" href=\"../de15c922620fc89827aa837d1e752cd00fa4add20/expr.ipynb\"><img src=\"../de15c922620fc89827aa837d1e752cd00fa4add20/expr.png\" style=\"display:inline;vertical-align:middle;\" /></a></td></tr>\n",
       "<tr><td>6</td><td>Literal</td><td></td><td><a class=\"ProveItLink\" href=\"../../../../../numbers/numerals/__pv_it/common/3829356ce3fdf8f35810c63c00bc1a19e838663e0/expr.ipynb\"><img src=\"../../../../../numbers/numerals/__pv_it/common/3829356ce3fdf8f35810c63c00bc1a19e838663e0/expr.png\" style=\"display:inline;vertical-align:middle;\" /></a></td></tr>\n",
       "<tr><td>7</td><td>ExprRange</td><td>lambda_map:&nbsp;8<br>start_index:&nbsp;9<br>end_index:&nbsp;10<br></td><td><a class=\"ProveItLink\" href=\"../3f3862361c072ce83c4c427857090e1b9fd3e2730/expr.ipynb\"><img src=\"../3f3862361c072ce83c4c427857090e1b9fd3e2730/expr.png\" style=\"display:inline;vertical-align:middle;\" /></a></td></tr>\n",
       "<tr><td>8</td><td>Lambda</td><td>parameter:&nbsp;15<br>body:&nbsp;11<br></td><td><a class=\"ProveItLink\" href=\"../6b0fe0ed4d92ec0fe6b1e8616dc1725b4c64e6030/expr.ipynb\"><img src=\"../6b0fe0ed4d92ec0fe6b1e8616dc1725b4c64e6030/expr.png\" style=\"display:inline;vertical-align:middle;\" /></a></td></tr>\n",
       "<tr><td>9</td><td>Literal</td><td></td><td><a class=\"ProveItLink\" href=\"../../../../../numbers/numerals/__pv_it/common/d278e359da0695d9652dd541d45264f93703e2e40/expr.ipynb\"><img src=\"../../../../../numbers/numerals/__pv_it/common/d278e359da0695d9652dd541d45264f93703e2e40/expr.png\" style=\"display:inline;vertical-align:middle;\" /></a></td></tr>\n",
       "<tr><td>10</td><td>Literal</td><td></td><td><a class=\"ProveItLink\" href=\"../../../../../numbers/numerals/__pv_it/common/c35fdf7268947ca3e24174d2909dc9d0a7f3aac60/expr.ipynb\"><img src=\"../../../../../numbers/numerals/__pv_it/common/c35fdf7268947ca3e24174d2909dc9d0a7f3aac60/expr.png\" style=\"display:inline;vertical-align:middle;\" /></a></td></tr>\n",
       "<tr><td>11</td><td>IndexedVar</td><td>variable:&nbsp;12<br>indices:&nbsp;13<br></td><td><a class=\"ProveItLink\" href=\"../1c81b68f9585e980308b115840afe24212a7eeee0/expr.ipynb\"><img src=\"../1c81b68f9585e980308b115840afe24212a7eeee0/expr.png\" style=\"display:inline;vertical-align:middle;\" /></a></td></tr>\n",
       "<tr><td>12</td><td>Variable</td><td></td><td><a class=\"ProveItLink\" href=\"../../../../../__pv_it/common/66c90e66682f107a881f2d666959f64e2e72ad750/expr.ipynb\"><img src=\"../../../../../__pv_it/common/66c90e66682f107a881f2d666959f64e2e72ad750/expr.png\" style=\"display:inline;vertical-align:middle;\" /></a></td></tr>\n",
       "<tr><td>13</td><td>ExprTuple</td><td>14, 15</td><td><a class=\"ProveItLink\" href=\"../../common/2fe32a12ab3874b69e0e26efbf3c75f55733bbf00/expr.ipynb\"><img src=\"../../common/2fe32a12ab3874b69e0e26efbf3c75f55733bbf00/expr.png\" style=\"display:inline;vertical-align:middle;\" /></a></td></tr>\n",
       "<tr><td>14</td><td>Variable</td><td></td><td><a class=\"ProveItLink\" href=\"../../../../../__pv_it/common/b9fd37fc619babc74a6203459f110251586df6970/expr.ipynb\"><img src=\"../../../../../__pv_it/common/b9fd37fc619babc74a6203459f110251586df6970/expr.png\" style=\"display:inline;vertical-align:middle;\" /></a></td></tr>\n",
       "<tr><td>15</td><td>Variable</td><td></td><td><a class=\"ProveItLink\" href=\"../../../../../__pv_it/common/5f60d32873626c7ce57e35d1d9e427fb112cfe7a0/expr.ipynb\"><img src=\"../../../../../__pv_it/common/5f60d32873626c7ce57e35d1d9e427fb112cfe7a0/expr.png\" style=\"display:inline;vertical-align:middle;\" /></a></td></tr>\n",
       "</table>\n"
      ],
      "text/plain": [
       "0. |(a_{2, 1}, ..a_{2, l}.., a_{2, 0}, ....a_{k, 1}, ..a_{k, l}.., a_{k, 0}...., a_{1, 1}, ..a_{1, l}.., a_{1, 0})|\n",
       "   core type: Operation\n",
       "   operator: 1\n",
       "   operand: 3\n",
       "1. length\n",
       "   core type: Literal\n",
       "   sub-expressions: \n",
       "2. ((a_{2, 1}, ..a_{2, l}.., a_{2, 0}, ....a_{k, 1}, ..a_{k, l}.., a_{k, 0}...., a_{1, 1}, ..a_{1, l}.., a_{1, 0}))\n",
       "   core type: ExprTuple\n",
       "   sub-expressions: 3\n",
       "3. (a_{2, 1}, ..a_{2, l}.., a_{2, 0}, ....a_{k, 1}, ..a_{k, l}.., a_{k, 0}...., a_{1, 1}, ..a_{1, l}.., a_{1, 0})\n",
       "   core type: ExprTuple\n",
       "   sub-expressions: 4\n",
       "4. a_{2, 1}, ..a_{2, l}.., a_{2, 0}, ....a_{k, 1}, ..a_{k, l}.., a_{k, 0}...., a_{1, 1}, ..a_{1, l}.., a_{1, 0}\n",
       "   core type: ExprRange\n",
       "   lambda_map: 5\n",
       "   start_index: 6\n",
       "   end_index: 9\n",
       "5. k -> a_{k, 1}, ..a_{k, l}.., a_{k, 0}\n",
       "   core type: Lambda\n",
       "   parameter: 14\n",
       "   body: 7\n",
       "6. 2\n",
       "   core type: Literal\n",
       "   sub-expressions: \n",
       "7. a_{k, 1}, ..a_{k, l}.., a_{k, 0}\n",
       "   core type: ExprRange\n",
       "   lambda_map: 8\n",
       "   start_index: 9\n",
       "   end_index: 10\n",
       "8. l -> a_{k, l}\n",
       "   core type: Lambda\n",
       "   parameter: 15\n",
       "   body: 11\n",
       "9. 1\n",
       "   core type: Literal\n",
       "   sub-expressions: \n",
       "10. 0\n",
       "    core type: Literal\n",
       "    sub-expressions: \n",
       "11. a_{k, l}\n",
       "    core type: IndexedVar\n",
       "variable: 12\n",
       "indices: 13\n",
       "12. a\n",
       "    core type: Variable\n",
       "    sub-expressions: \n",
       "13. (k, l)\n",
       "    core type: ExprTuple\n",
       "    sub-expressions: 14, 15\n",
       "14. k\n",
       "    core type: Variable\n",
       "    sub-expressions: \n",
       "15. l\n",
       "    core type: Variable\n",
       "    sub-expressions: "
      ]
     },
     "execution_count": 6,
     "metadata": {},
     "output_type": "execute_result"
    }
   ],
   "source": [
    "# display the expression information\n",
    "expr.expr_info()"
   ]
  },
  {
   "cell_type": "code",
   "execution_count": null,
   "metadata": {},
   "outputs": [],
   "source": []
  }
 ],
 "metadata": {
  "kernelspec": {
   "display_name": "Python 3",
   "language": "python",
   "name": "python3"
  }
 },
 "nbformat": 4,
 "nbformat_minor": 0
}