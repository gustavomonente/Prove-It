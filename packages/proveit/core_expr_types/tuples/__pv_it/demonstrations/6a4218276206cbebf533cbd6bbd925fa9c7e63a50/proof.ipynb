{
 "cells": [
  {
   "cell_type": "markdown",
   "metadata": {},
   "source": [
    "Show the Proof\n",
    "========"
   ]
  },
  {
   "cell_type": "code",
   "execution_count": 1,
   "metadata": {},
   "outputs": [
    {
     "data": {
      "text/html": [
       "<table><tr><th>&nbsp;</th><th>step type</th><th>requirements</th><th>statement</th></tr>\n",
       "<tr><td><a name=\"proveit.core_expr_types.tuples.demonstrations.6a4218276206cbebf533cbd6bbd925fa9c7e63a50_step0\">0</a></td><td>instantiation</td><td><a href=\"#proveit.core_expr_types.tuples.demonstrations.6a4218276206cbebf533cbd6bbd925fa9c7e63a50_step1\">1</a>, <a href=\"#proveit.core_expr_types.tuples.demonstrations.6a4218276206cbebf533cbd6bbd925fa9c7e63a50_step2\">2</a></td><td><span style=\"font-size:20px;\"> <a class=\"ProveItLink\" href=\"proof.ipynb\" style=\"text-decoration: none\">&nbsp;&#x22A2;&nbsp;&nbsp;</a><a class=\"ProveItLink\" href=\"../69ca4b6b0bc4f677e16a31c5f9c60276d156bf4f0/expr.ipynb\"><img src=\"../69ca4b6b0bc4f677e16a31c5f9c60276d156bf4f0/expr.png\" style=\"display:inline;vertical-align:middle;\" /></a></span></td></tr>\n",
       "<tr><td>&nbsp;</td><td colspan=4 style=\"text-align:left\"><span style=\"font-size:20px;\"><a class=\"ProveItLink\" href=\"../../../../../__pv_it/common/ae955345c83abf786c3aff8681cd5465beae262d0/expr.ipynb\"><img src=\"../../../../../__pv_it/common/ae955345c83abf786c3aff8681cd5465beae262d0/expr.png\" style=\"display:inline;vertical-align:middle;\" /></a> : <a class=\"ProveItLink\" href=\"../../../../../numbers/numerals/__pv_it/common/2778428c7f555b2bdc06aa0530bc142c6e6335100/expr.ipynb\"><img src=\"../../../../../numbers/numerals/__pv_it/common/2778428c7f555b2bdc06aa0530bc142c6e6335100/expr.png\" style=\"display:inline;vertical-align:middle;\" /></a>, <a class=\"ProveItLink\" href=\"../6f588c471ddf214a05661e01a2c0722fb7fcba8c0/expr.ipynb\"><img src=\"../6f588c471ddf214a05661e01a2c0722fb7fcba8c0/expr.png\" style=\"display:inline;vertical-align:middle;\" /></a> : <a class=\"ProveItLink\" href=\"../acad20b1ca7b903b40d7cd509c89d8752db30e730/expr.ipynb\"><img src=\"../acad20b1ca7b903b40d7cd509c89d8752db30e730/expr.png\" style=\"display:inline;vertical-align:middle;\" /></a></span></td></tr><tr><td><a name=\"proveit.core_expr_types.tuples.demonstrations.6a4218276206cbebf533cbd6bbd925fa9c7e63a50_step1\">1</a></td><td>theorem</td><td></td><td><span style=\"font-size:20px;\"> <a class=\"ProveItLink\" href=\"../../../_theory_nbs_/proofs/range_from1_len_typical_eq/thm_proof.ipynb\" style=\"text-decoration: none\">&nbsp;&#x22A2;&nbsp;&nbsp;</a><a class=\"ProveItLink\" href=\"../../theorems/750bab8a8cef357ce4b5658ab228891a4fc8cc0a0/expr.ipynb\"><img src=\"../../theorems/750bab8a8cef357ce4b5658ab228891a4fc8cc0a0/expr.png\" style=\"display:inline;vertical-align:middle;\" /></a></span></td></tr>\n",
       "<tr><td>&nbsp;</td><td colspan=4 style-\"text-align:left\"><a class=\"ProveItLink\" href=\"../../../_theory_nbs_/proofs/range_from1_len_typical_eq/thm_proof.ipynb\">proveit.core_expr_types.tuples.range_from1_len_typical_eq</a></td></tr><tr><td><a name=\"proveit.core_expr_types.tuples.demonstrations.6a4218276206cbebf533cbd6bbd925fa9c7e63a50_step2\">2</a></td><td>theorem</td><td></td><td><span style=\"font-size:20px;\"> <a class=\"ProveItLink\" href=\"../../../../../numbers/numerals/decimals/_theory_nbs_/proofs/nat1/thm_proof.ipynb\" style=\"text-decoration: none\">&nbsp;&#x22A2;&nbsp;&nbsp;</a><a class=\"ProveItLink\" href=\"../../../../../numbers/numerals/decimals/__pv_it/theorems/7fb9a05424b991456a1d535347793e2786ff41910/expr.ipynb\"><img src=\"../../../../../numbers/numerals/decimals/__pv_it/theorems/7fb9a05424b991456a1d535347793e2786ff41910/expr.png\" style=\"display:inline;vertical-align:middle;\" /></a></span></td></tr>\n",
       "<tr><td>&nbsp;</td><td colspan=4 style-\"text-align:left\"><a class=\"ProveItLink\" href=\"../../../../../numbers/numerals/decimals/_theory_nbs_/proofs/nat1/thm_proof.ipynb\">proveit.numbers.numerals.decimals.nat1</a></td></tr></table>"
      ],
      "text/plain": [
       "<proveit._core_.proof._ShowProof at 0x7f2274286390>"
      ]
     },
     "execution_count": 1,
     "metadata": {},
     "output_type": "execute_result"
    }
   ],
   "source": [
    "import proveit\n",
    "# Automation is not needed when only showing a stored proof:\n",
    "proveit.defaults.automation = False # This will speed things up.\n",
    "proveit.defaults.inline_pngs = False # Makes files smaller.\n",
    "%show_proof"
   ]
  },
  {
   "cell_type": "code",
   "execution_count": null,
   "metadata": {},
   "outputs": [],
   "source": []
  }
 ],
 "metadata": {
  "kernelspec": {
   "display_name": "Python 3",
   "language": "python",
   "name": "python3"
  }
 },
 "nbformat": 4,
 "nbformat_minor": 0
}