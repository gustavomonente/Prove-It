{
 "cells": [
  {
   "cell_type": "markdown",
   "metadata": {},
   "source": [
    "Expression of type <a class=\"ProveItLink\" href=\"../../../../../../../doc/html/api/proveit.logic.Equals.html\">Equals</a>\n",
    "=======================\n",
    "# from the theory of <a class=\"ProveItLink\" href=\"../../../_theory_nbs_/theory.ipynb\">proveit.core_expr_types.tuples</a>"
   ]
  },
  {
   "cell_type": "code",
   "execution_count": 1,
   "metadata": {},
   "outputs": [],
   "source": [
    "import proveit\n",
    "# Automation is not needed when building an expression:\n",
    "proveit.defaults.automation = False # This will speed things up.\n",
    "proveit.defaults.inline_pngs = False # Makes files smaller.\n",
    "%load_expr # Load the stored expression as 'stored_expr'\n",
    "# import Expression classes needed to build the expression\n",
    "from proveit import i, j\n",
    "from proveit.logic import Equals\n",
    "from proveit.numbers import Add, Neg, one"
   ]
  },
  {
   "cell_type": "code",
   "execution_count": 2,
   "metadata": {},
   "outputs": [
    {
     "data": {
      "text/html": [
       "<strong id=\"expr\">expr:</strong> <a class=\"ProveItLink\" href=\"expr.ipynb\"><img src=\"expr.png\" style=\"display:inline;vertical-align:middle;\" /></a><br>"
      ],
      "text/plain": [
       "expr: (j - (i - 1)) = (j - i + (-(-1)))"
      ]
     },
     "execution_count": 2,
     "metadata": {},
     "output_type": "execute_result"
    }
   ],
   "source": [
    "# build up the expression from sub-expressions\n",
    "sub_expr1 = Neg(one)\n",
    "expr = Equals(Add(j, Neg(Add(i, sub_expr1))), Add(j, Neg(i), Neg(sub_expr1)).with_subtraction_at(1))"
   ]
  },
  {
   "cell_type": "code",
   "execution_count": 3,
   "metadata": {},
   "outputs": [
    {
     "name": "stdout",
     "output_type": "stream",
     "text": [
      "Passed sanity check: expr matches stored_expr\n"
     ]
    }
   ],
   "source": [
    "# check that the built expression is the same as the stored expression\n",
    "assert expr == stored_expr\n",
    "assert expr._style_id == stored_expr._style_id\n",
    "print(\"Passed sanity check: expr matches stored_expr\")"
   ]
  },
  {
   "cell_type": "code",
   "execution_count": 4,
   "metadata": {},
   "outputs": [
    {
     "name": "stdout",
     "output_type": "stream",
     "text": [
      "\\left(j - \\left(i - 1\\right)\\right) = \\left(j - i + \\left(-\\left(-1\\right)\\right)\\right)\n"
     ]
    }
   ],
   "source": [
    "# Show the LaTeX representation of the expression for convenience if you need it.\n",
    "print(expr.latex())"
   ]
  },
  {
   "cell_type": "code",
   "execution_count": 5,
   "metadata": {},
   "outputs": [
    {
     "data": {
      "text/html": [
       "<table><tr><th>&nbsp;</th><th>core type</th><th>sub-expressions</th><th>expression</th></tr>\n",
       "<tr><td>0</td><td>Operation</td><td>operator:&nbsp;1<br>operands:&nbsp;2<br></td><td><a class=\"ProveItLink\" href=\"expr.ipynb\"><img src=\"expr.png\" style=\"display:inline;vertical-align:middle;\" /></a></td></tr>\n",
       "<tr><td>1</td><td>Literal</td><td></td><td><a class=\"ProveItLink\" href=\"../../../../../logic/equality/__pv_it/common/fb96dc12b2aa8801dda64d0132b396c63d1502bb0/expr.ipynb\"><img src=\"../../../../../logic/equality/__pv_it/common/fb96dc12b2aa8801dda64d0132b396c63d1502bb0/expr.png\" style=\"display:inline;vertical-align:middle;\" /></a></td></tr>\n",
       "<tr><td>2</td><td>ExprTuple</td><td>3, 4</td><td><a class=\"ProveItLink\" href=\"../7db1b6dbf2ca143e09cb36718e427ef97027e9250/expr.ipynb\"><img src=\"../7db1b6dbf2ca143e09cb36718e427ef97027e9250/expr.png\" style=\"display:inline;vertical-align:middle;\" /></a></td></tr>\n",
       "<tr><td>3</td><td>Operation</td><td>operator:&nbsp;12<br>operands:&nbsp;5<br></td><td><a class=\"ProveItLink\" href=\"../a383772f56888fc5877053dfce871046742f11fc0/expr.ipynb\"><img src=\"../a383772f56888fc5877053dfce871046742f11fc0/expr.png\" style=\"display:inline;vertical-align:middle;\" /></a></td></tr>\n",
       "<tr><td>4</td><td>Operation</td><td>operator:&nbsp;12<br>operands:&nbsp;6<br></td><td><a class=\"ProveItLink\" href=\"../f1b8d71e6aa7409c42079a5a1b5dd21168f0883c0/expr.ipynb\"><img src=\"../f1b8d71e6aa7409c42079a5a1b5dd21168f0883c0/expr.png\" style=\"display:inline;vertical-align:middle;\" /></a></td></tr>\n",
       "<tr><td>5</td><td>ExprTuple</td><td>8, 7</td><td><a class=\"ProveItLink\" href=\"../451c6a25db92ff000e2f792e2251c0a5548319520/expr.ipynb\"><img src=\"../451c6a25db92ff000e2f792e2251c0a5548319520/expr.png\" style=\"display:inline;vertical-align:middle;\" /></a></td></tr>\n",
       "<tr><td>6</td><td>ExprTuple</td><td>8, 9, 10</td><td><a class=\"ProveItLink\" href=\"../ff5ab96782b6991f9d7d59e37a2841f693fc3e020/expr.ipynb\"><img src=\"../ff5ab96782b6991f9d7d59e37a2841f693fc3e020/expr.png\" style=\"display:inline;vertical-align:middle;\" /></a></td></tr>\n",
       "<tr><td>7</td><td>Operation</td><td>operator:&nbsp;16<br>operand:&nbsp;11<br></td><td><a class=\"ProveItLink\" href=\"../603770f74511f7856c36ee84d04e3d1d4935be930/expr.ipynb\"><img src=\"../603770f74511f7856c36ee84d04e3d1d4935be930/expr.png\" style=\"display:inline;vertical-align:middle;\" /></a></td></tr>\n",
       "<tr><td>8</td><td>Variable</td><td></td><td><a class=\"ProveItLink\" href=\"../../../../../__pv_it/common/1ed21df18baca2f42b561a7ffbf30a2743d594650/expr.ipynb\"><img src=\"../../../../../__pv_it/common/1ed21df18baca2f42b561a7ffbf30a2743d594650/expr.png\" style=\"display:inline;vertical-align:middle;\" /></a></td></tr>\n",
       "<tr><td>9</td><td>Operation</td><td>operator:&nbsp;16<br>operand:&nbsp;14<br></td><td><a class=\"ProveItLink\" href=\"../../../../__pv_it/common/921f21683d6acb91084eedf132b7cf0feab52de00/expr.ipynb\"><img src=\"../../../../__pv_it/common/921f21683d6acb91084eedf132b7cf0feab52de00/expr.png\" style=\"display:inline;vertical-align:middle;\" /></a></td></tr>\n",
       "<tr><td>10</td><td>Operation</td><td>operator:&nbsp;16<br>operand:&nbsp;15<br></td><td><a class=\"ProveItLink\" href=\"../6f1a0a11ff5e8338e399fc7ec41878ecb17d2be30/expr.ipynb\"><img src=\"../6f1a0a11ff5e8338e399fc7ec41878ecb17d2be30/expr.png\" style=\"display:inline;vertical-align:middle;\" /></a></td></tr>\n",
       "<tr><td>11</td><td>Operation</td><td>operator:&nbsp;12<br>operands:&nbsp;13<br></td><td><a class=\"ProveItLink\" href=\"../8494ca4dc914160b4b1d241ca1b3d9ccc2ff33ac0/expr.ipynb\"><img src=\"../8494ca4dc914160b4b1d241ca1b3d9ccc2ff33ac0/expr.png\" style=\"display:inline;vertical-align:middle;\" /></a></td></tr>\n",
       "<tr><td>12</td><td>Literal</td><td></td><td><a class=\"ProveItLink\" href=\"../../../../../numbers/addition/__pv_it/common/4b7effaab3619a1c2c38fe2dee8601df8ec714590/expr.ipynb\"><img src=\"../../../../../numbers/addition/__pv_it/common/4b7effaab3619a1c2c38fe2dee8601df8ec714590/expr.png\" style=\"display:inline;vertical-align:middle;\" /></a></td></tr>\n",
       "<tr><td>13</td><td>ExprTuple</td><td>14, 15</td><td><a class=\"ProveItLink\" href=\"../898a5c9eef34a37f797b97911bc1f092619675440/expr.ipynb\"><img src=\"../898a5c9eef34a37f797b97911bc1f092619675440/expr.png\" style=\"display:inline;vertical-align:middle;\" /></a></td></tr>\n",
       "<tr><td>14</td><td>Variable</td><td></td><td><a class=\"ProveItLink\" href=\"../../../../../__pv_it/common/ae955345c83abf786c3aff8681cd5465beae262d0/expr.ipynb\"><img src=\"../../../../../__pv_it/common/ae955345c83abf786c3aff8681cd5465beae262d0/expr.png\" style=\"display:inline;vertical-align:middle;\" /></a></td></tr>\n",
       "<tr><td>15</td><td>Operation</td><td>operator:&nbsp;16<br>operand:&nbsp;17<br></td><td><a class=\"ProveItLink\" href=\"../../../../__pv_it/common/44da79c41f096863320e2aca2d20b6c16cdd623b0/expr.ipynb\"><img src=\"../../../../__pv_it/common/44da79c41f096863320e2aca2d20b6c16cdd623b0/expr.png\" style=\"display:inline;vertical-align:middle;\" /></a></td></tr>\n",
       "<tr><td>16</td><td>Literal</td><td></td><td><a class=\"ProveItLink\" href=\"../../../../../numbers/negation/__pv_it/common/221b3c4d1770ee9051b7c044c3f9ec61196fc34b0/expr.ipynb\"><img src=\"../../../../../numbers/negation/__pv_it/common/221b3c4d1770ee9051b7c044c3f9ec61196fc34b0/expr.png\" style=\"display:inline;vertical-align:middle;\" /></a></td></tr>\n",
       "<tr><td>17</td><td>Literal</td><td></td><td><a class=\"ProveItLink\" href=\"../../../../../numbers/numerals/__pv_it/common/2778428c7f555b2bdc06aa0530bc142c6e6335100/expr.ipynb\"><img src=\"../../../../../numbers/numerals/__pv_it/common/2778428c7f555b2bdc06aa0530bc142c6e6335100/expr.png\" style=\"display:inline;vertical-align:middle;\" /></a></td></tr>\n",
       "</table>\n"
      ],
      "text/plain": [
       "0. (j - (i - 1)) = (j - i + (-(-1)))\n",
       "   core type: Operation\n",
       "   operator: 1\n",
       "   operands: 2\n",
       "1. =\n",
       "   core type: Literal\n",
       "   sub-expressions: \n",
       "2. (j - (i - 1), j - i + (-(-1)))\n",
       "   core type: ExprTuple\n",
       "   sub-expressions: 3, 4\n",
       "3. j - (i - 1)\n",
       "   core type: Operation\n",
       "   operator: 12\n",
       "   operands: 5\n",
       "4. j - i + (-(-1))\n",
       "   core type: Operation\n",
       "   operator: 12\n",
       "   operands: 6\n",
       "5. (j, -(i - 1))\n",
       "   core type: ExprTuple\n",
       "   sub-expressions: 8, 7\n",
       "6. (j, -i, -(-1))\n",
       "   core type: ExprTuple\n",
       "   sub-expressions: 8, 9, 10\n",
       "7. -(i - 1)\n",
       "   core type: Operation\n",
       "   operator: 16\n",
       "   operand: 11\n",
       "8. j\n",
       "   core type: Variable\n",
       "   sub-expressions: \n",
       "9. -i\n",
       "   core type: Operation\n",
       "   operator: 16\n",
       "   operand: 14\n",
       "10. -(-1)\n",
       "    core type: Operation\n",
       "    operator: 16\n",
       "    operand: 15\n",
       "11. i - 1\n",
       "    core type: Operation\n",
       "    operator: 12\n",
       "    operands: 13\n",
       "12. +\n",
       "    core type: Literal\n",
       "    sub-expressions: \n",
       "13. (i, -1)\n",
       "    core type: ExprTuple\n",
       "    sub-expressions: 14, 15\n",
       "14. i\n",
       "    core type: Variable\n",
       "    sub-expressions: \n",
       "15. -1\n",
       "    core type: Operation\n",
       "    operator: 16\n",
       "    operand: 17\n",
       "16. -\n",
       "    core type: Literal\n",
       "    sub-expressions: \n",
       "17. 1\n",
       "    core type: Literal\n",
       "    sub-expressions: "
      ]
     },
     "execution_count": 5,
     "metadata": {},
     "output_type": "execute_result"
    }
   ],
   "source": [
    "# display the expression information\n",
    "expr.expr_info()"
   ]
  },
  {
   "cell_type": "code",
   "execution_count": null,
   "metadata": {},
   "outputs": [],
   "source": []
  }
 ],
 "metadata": {
  "kernelspec": {
   "display_name": "Python 3",
   "language": "python",
   "name": "python3"
  }
 },
 "nbformat": 4,
 "nbformat_minor": 0
}