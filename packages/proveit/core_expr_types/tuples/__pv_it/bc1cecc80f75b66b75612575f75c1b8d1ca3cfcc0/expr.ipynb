{
 "cells": [
  {
   "cell_type": "markdown",
   "metadata": {},
   "source": [
    "Expression of type <a class=\"ProveItLink\" href=\"../../../../../../doc/html/api/proveit.ExprTuple.html\">ExprTuple</a>\n",
    "=======================\n",
    "# from context <a class=\"ProveItLink\" href=\"../../_context_.ipynb\">proveit.core_expr_types.tuples</a>"
   ]
  },
  {
   "cell_type": "code",
   "execution_count": 1,
   "metadata": {},
   "outputs": [],
   "source": [
    "import proveit\n",
    "# Automation is not needed when building an expression:\n",
    "proveit.defaults.automation = False # This will speed things up.\n",
    "proveit.defaults.inline_pngs = False # Makes files smaller.\n",
    "# import Expression classes needed to build the expression\n",
    "from proveit import ExprTuple\n",
    "from proveit._common_ import a, b, i, j, k, l\n",
    "from proveit.logic import Equals, InSet\n",
    "from proveit.number import Add, Naturals, Neg, one"
   ]
  },
  {
   "cell_type": "code",
   "execution_count": 2,
   "metadata": {},
   "outputs": [
    {
     "data": {
      "text/html": [
       "<strong id=\"expr\">expr:</strong> <a class=\"ProveItLink\" href=\"expr.ipynb\"><img src=\"expr.png\" style=\"display:inline;vertical-align:middle;\" /></a><br>"
      ],
      "text/plain": [
       "expr: (((j + 1) - i) in Naturals, (i + a) = (k + b), (j + a) = (l + b))"
      ]
     },
     "execution_count": 2,
     "metadata": {},
     "output_type": "execute_result"
    }
   ],
   "source": [
    "# build up the expression from sub-expressions\n",
    "expr = ExprTuple(InSet(Add(Add(j, one), Neg(i)), Naturals), Equals(Add(i, a), Add(k, b)), Equals(Add(j, a), Add(l, b)))"
   ]
  },
  {
   "cell_type": "code",
   "execution_count": 3,
   "metadata": {},
   "outputs": [
    {
     "name": "stdout",
     "output_type": "stream",
     "text": [
      "Passed sanity check: built 'expr' is the same as the stored Expression.\n"
     ]
    }
   ],
   "source": [
    "# check that the built expression is the same as the stored expression\n",
    "%check_expr"
   ]
  },
  {
   "cell_type": "code",
   "execution_count": 4,
   "metadata": {},
   "outputs": [
    {
     "name": "stdout",
     "output_type": "stream",
     "text": [
      "\\left(\\left(\\left(j + 1\\right) - i\\right) \\in \\mathbb{N}, \\left(i + a\\right) = \\left(k + b\\right), \\left(j + a\\right) = \\left(l + b\\right)\\right)\n"
     ]
    }
   ],
   "source": [
    "# Show the LaTeX representation of the expression for convenience if you need it.\n",
    "print(expr.latex())"
   ]
  },
  {
   "cell_type": "code",
   "execution_count": 5,
   "metadata": {},
   "outputs": [
    {
     "data": {
      "text/html": [
       "<table><tr><th>&nbsp;</th><th>core type</th><th>sub-expressions</th><th>expression</th></tr>\n",
       "<tr><td>0</td><td>ExprTuple</td><td>1, 2, 3</td><td><a class=\"ProveItLink\" href=\"expr.ipynb\"><img src=\"expr.png\" style=\"display:inline;vertical-align:middle;\" /></a></td></tr>\n",
       "<tr><td>1</td><td>Operation</td><td>operator:&nbsp;4<br>operands:&nbsp;5<br></td><td><a class=\"ProveItLink\" href=\"../37aa1d741145e9e4d5c72ca0740f21d781ee7f760/expr.ipynb\"><img src=\"../37aa1d741145e9e4d5c72ca0740f21d781ee7f760/expr.png\" style=\"display:inline;vertical-align:middle;\" /></a></td></tr>\n",
       "<tr><td>2</td><td>Operation</td><td>operator:&nbsp;7<br>operands:&nbsp;6<br></td><td><a class=\"ProveItLink\" href=\"../1bb3ede551800ca03726e9d3e85110ff2090481e0/expr.ipynb\"><img src=\"../1bb3ede551800ca03726e9d3e85110ff2090481e0/expr.png\" style=\"display:inline;vertical-align:middle;\" /></a></td></tr>\n",
       "<tr><td>3</td><td>Operation</td><td>operator:&nbsp;7<br>operands:&nbsp;8<br></td><td><a class=\"ProveItLink\" href=\"../14aaf3a4fdc63a6b2737954a979293716b12a8040/expr.ipynb\"><img src=\"../14aaf3a4fdc63a6b2737954a979293716b12a8040/expr.png\" style=\"display:inline;vertical-align:middle;\" /></a></td></tr>\n",
       "<tr><td>4</td><td>Literal</td><td></td><td><a class=\"ProveItLink\" href=\"../../../../logic/set_theory/membership/__pv_it/7776fc89cb67d0b5b1ec2c0c8e08da5587921ccf0/expr.ipynb\"><img src=\"../../../../logic/set_theory/membership/__pv_it/7776fc89cb67d0b5b1ec2c0c8e08da5587921ccf0/expr.png\" style=\"display:inline;vertical-align:middle;\" /></a></td></tr>\n",
       "<tr><td>5</td><td>ExprTuple</td><td>9, 10</td><td><a class=\"ProveItLink\" href=\"../598657569168e3dad0031afc8295b3336ca2a8750/expr.ipynb\"><img src=\"../598657569168e3dad0031afc8295b3336ca2a8750/expr.png\" style=\"display:inline;vertical-align:middle;\" /></a></td></tr>\n",
       "<tr><td>6</td><td>ExprTuple</td><td>11, 12</td><td><a class=\"ProveItLink\" href=\"../fcee677a2d5156ce840c82f143ef9ce8ddc83b030/expr.ipynb\"><img src=\"../fcee677a2d5156ce840c82f143ef9ce8ddc83b030/expr.png\" style=\"display:inline;vertical-align:middle;\" /></a></td></tr>\n",
       "<tr><td>7</td><td>Literal</td><td></td><td><a class=\"ProveItLink\" href=\"../../../../logic/equality/__pv_it/e16d2caa26a16688b658bdb9c422caf4b84579e10/expr.ipynb\"><img src=\"../../../../logic/equality/__pv_it/e16d2caa26a16688b658bdb9c422caf4b84579e10/expr.png\" style=\"display:inline;vertical-align:middle;\" /></a></td></tr>\n",
       "<tr><td>8</td><td>ExprTuple</td><td>13, 14</td><td><a class=\"ProveItLink\" href=\"../7dafef1e8d8c17dccf397cd23a67d909234152040/expr.ipynb\"><img src=\"../7dafef1e8d8c17dccf397cd23a67d909234152040/expr.png\" style=\"display:inline;vertical-align:middle;\" /></a></td></tr>\n",
       "<tr><td>9</td><td>Operation</td><td>operator:&nbsp;26<br>operands:&nbsp;15<br></td><td><a class=\"ProveItLink\" href=\"../e522943c3507fe68782aec5eb5bee1488cc8614d0/expr.ipynb\"><img src=\"../e522943c3507fe68782aec5eb5bee1488cc8614d0/expr.png\" style=\"display:inline;vertical-align:middle;\" /></a></td></tr>\n",
       "<tr><td>10</td><td>Literal</td><td></td><td><a class=\"ProveItLink\" href=\"../../../../number/sets/integer/__pv_it/b49c37b99b7e8d73a8d7971bcf454d693b90a2c60/expr.ipynb\"><img src=\"../../../../number/sets/integer/__pv_it/b49c37b99b7e8d73a8d7971bcf454d693b90a2c60/expr.png\" style=\"display:inline;vertical-align:middle;\" /></a></td></tr>\n",
       "<tr><td>11</td><td>Operation</td><td>operator:&nbsp;26<br>operands:&nbsp;16<br></td><td><a class=\"ProveItLink\" href=\"../dcdb5322f9b0073ac015bf3b9be881f9c9db77d50/expr.ipynb\"><img src=\"../dcdb5322f9b0073ac015bf3b9be881f9c9db77d50/expr.png\" style=\"display:inline;vertical-align:middle;\" /></a></td></tr>\n",
       "<tr><td>12</td><td>Operation</td><td>operator:&nbsp;26<br>operands:&nbsp;17<br></td><td><a class=\"ProveItLink\" href=\"../5575807ed523d8af7b2be56fd3a95fbbcde2f9f30/expr.ipynb\"><img src=\"../5575807ed523d8af7b2be56fd3a95fbbcde2f9f30/expr.png\" style=\"display:inline;vertical-align:middle;\" /></a></td></tr>\n",
       "<tr><td>13</td><td>Operation</td><td>operator:&nbsp;26<br>operands:&nbsp;18<br></td><td><a class=\"ProveItLink\" href=\"../c89951ee13af8214f4e81ad40c9f36e44e675d850/expr.ipynb\"><img src=\"../c89951ee13af8214f4e81ad40c9f36e44e675d850/expr.png\" style=\"display:inline;vertical-align:middle;\" /></a></td></tr>\n",
       "<tr><td>14</td><td>Operation</td><td>operator:&nbsp;26<br>operands:&nbsp;19<br></td><td><a class=\"ProveItLink\" href=\"../1d1b28a653a35bfedcc662124e46c65b324243460/expr.ipynb\"><img src=\"../1d1b28a653a35bfedcc662124e46c65b324243460/expr.png\" style=\"display:inline;vertical-align:middle;\" /></a></td></tr>\n",
       "<tr><td>15</td><td>ExprTuple</td><td>20, 21</td><td><a class=\"ProveItLink\" href=\"../49d8574381ae116168cd53d6fd873f0eda307a6e0/expr.ipynb\"><img src=\"../49d8574381ae116168cd53d6fd873f0eda307a6e0/expr.png\" style=\"display:inline;vertical-align:middle;\" /></a></td></tr>\n",
       "<tr><td>16</td><td>ExprTuple</td><td>29, 23</td><td><a class=\"ProveItLink\" href=\"../b0b45a9bfddec816d28304b97c50b88551b2796d0/expr.ipynb\"><img src=\"../b0b45a9bfddec816d28304b97c50b88551b2796d0/expr.png\" style=\"display:inline;vertical-align:middle;\" /></a></td></tr>\n",
       "<tr><td>17</td><td>ExprTuple</td><td>22, 25</td><td><a class=\"ProveItLink\" href=\"../b44579d33198fdc081df89fd4061fffa52523b120/expr.ipynb\"><img src=\"../b44579d33198fdc081df89fd4061fffa52523b120/expr.png\" style=\"display:inline;vertical-align:middle;\" /></a></td></tr>\n",
       "<tr><td>18</td><td>ExprTuple</td><td>30, 23</td><td><a class=\"ProveItLink\" href=\"../61fec66fd6e636846ff876b96944966a918a28c30/expr.ipynb\"><img src=\"../61fec66fd6e636846ff876b96944966a918a28c30/expr.png\" style=\"display:inline;vertical-align:middle;\" /></a></td></tr>\n",
       "<tr><td>19</td><td>ExprTuple</td><td>24, 25</td><td><a class=\"ProveItLink\" href=\"../cfe673a603147f8e026a1af1ded7898af22527950/expr.ipynb\"><img src=\"../cfe673a603147f8e026a1af1ded7898af22527950/expr.png\" style=\"display:inline;vertical-align:middle;\" /></a></td></tr>\n",
       "<tr><td>20</td><td>Operation</td><td>operator:&nbsp;26<br>operands:&nbsp;27<br></td><td><a class=\"ProveItLink\" href=\"../c24113b5c38ba32e99d87d214af69362016a17fe0/expr.ipynb\"><img src=\"../c24113b5c38ba32e99d87d214af69362016a17fe0/expr.png\" style=\"display:inline;vertical-align:middle;\" /></a></td></tr>\n",
       "<tr><td>21</td><td>Operation</td><td>operator:&nbsp;28<br>operand:&nbsp;29<br></td><td><a class=\"ProveItLink\" href=\"../e30e84c6c241a2e59facf3853e0cf2095a9c3cb00/expr.ipynb\"><img src=\"../e30e84c6c241a2e59facf3853e0cf2095a9c3cb00/expr.png\" style=\"display:inline;vertical-align:middle;\" /></a></td></tr>\n",
       "<tr><td>22</td><td>Variable</td><td></td><td><a class=\"ProveItLink\" href=\"../../../../__pv_it/273f49450ca25e1b56abbd98a7aef618f8f6c1360/expr.ipynb\"><img src=\"../../../../__pv_it/273f49450ca25e1b56abbd98a7aef618f8f6c1360/expr.png\" style=\"display:inline;vertical-align:middle;\" /></a></td></tr>\n",
       "<tr><td>23</td><td>Variable</td><td></td><td><a class=\"ProveItLink\" href=\"../../../../__pv_it/a8d4b3a34d2189508f9082853fbac36935714f280/expr.ipynb\"><img src=\"../../../../__pv_it/a8d4b3a34d2189508f9082853fbac36935714f280/expr.png\" style=\"display:inline;vertical-align:middle;\" /></a></td></tr>\n",
       "<tr><td>24</td><td>Variable</td><td></td><td><a class=\"ProveItLink\" href=\"../../../../__pv_it/146a2ac733407ae00030c58af25a3e0f465a566a0/expr.ipynb\"><img src=\"../../../../__pv_it/146a2ac733407ae00030c58af25a3e0f465a566a0/expr.png\" style=\"display:inline;vertical-align:middle;\" /></a></td></tr>\n",
       "<tr><td>25</td><td>Variable</td><td></td><td><a class=\"ProveItLink\" href=\"../../../../__pv_it/53e304ff98ebc000dbe3ef224f4637dbafd46ba70/expr.ipynb\"><img src=\"../../../../__pv_it/53e304ff98ebc000dbe3ef224f4637dbafd46ba70/expr.png\" style=\"display:inline;vertical-align:middle;\" /></a></td></tr>\n",
       "<tr><td>26</td><td>Literal</td><td></td><td><a class=\"ProveItLink\" href=\"../../../../number/addition/__pv_it/65ad7e8aee19b10110d590375ba95a879c4fb7ea0/expr.ipynb\"><img src=\"../../../../number/addition/__pv_it/65ad7e8aee19b10110d590375ba95a879c4fb7ea0/expr.png\" style=\"display:inline;vertical-align:middle;\" /></a></td></tr>\n",
       "<tr><td>27</td><td>ExprTuple</td><td>30, 31</td><td><a class=\"ProveItLink\" href=\"../a6730aa6a9af9a6e7774016b6b9febfe2d879d590/expr.ipynb\"><img src=\"../a6730aa6a9af9a6e7774016b6b9febfe2d879d590/expr.png\" style=\"display:inline;vertical-align:middle;\" /></a></td></tr>\n",
       "<tr><td>28</td><td>Literal</td><td></td><td><a class=\"ProveItLink\" href=\"../../../../number/negation/__pv_it/2867787e35502987d81a45cac8e7f1c6996d6ff40/expr.ipynb\"><img src=\"../../../../number/negation/__pv_it/2867787e35502987d81a45cac8e7f1c6996d6ff40/expr.png\" style=\"display:inline;vertical-align:middle;\" /></a></td></tr>\n",
       "<tr><td>29</td><td>Variable</td><td></td><td><a class=\"ProveItLink\" href=\"../../../../__pv_it/557ab5defdcd46aa58168b08767502985122cd490/expr.ipynb\"><img src=\"../../../../__pv_it/557ab5defdcd46aa58168b08767502985122cd490/expr.png\" style=\"display:inline;vertical-align:middle;\" /></a></td></tr>\n",
       "<tr><td>30</td><td>Variable</td><td></td><td><a class=\"ProveItLink\" href=\"../../../../__pv_it/6a5b5879f51878868f626bf09e4d76392d4779cd0/expr.ipynb\"><img src=\"../../../../__pv_it/6a5b5879f51878868f626bf09e4d76392d4779cd0/expr.png\" style=\"display:inline;vertical-align:middle;\" /></a></td></tr>\n",
       "<tr><td>31</td><td>Literal</td><td></td><td><a class=\"ProveItLink\" href=\"../../../../number/numeral/__pv_it/f086f8c372bd40a2458306ddfdbb29f3dc6f63030/expr.ipynb\"><img src=\"../../../../number/numeral/__pv_it/f086f8c372bd40a2458306ddfdbb29f3dc6f63030/expr.png\" style=\"display:inline;vertical-align:middle;\" /></a></td></tr>\n",
       "</table>\n"
      ],
      "text/plain": [
       "0. (((j + 1) - i) in Naturals, (i + a) = (k + b), (j + a) = (l + b))\n",
       "   core type: ExprTuple\n",
       "   sub-expressions: 1, 2, 3\n",
       "1. ((j + 1) - i) in Naturals\n",
       "   core type: Operation\n",
       "   operator: 4\n",
       "   operands: 5\n",
       "2. (i + a) = (k + b)\n",
       "   core type: Operation\n",
       "   operator: 7\n",
       "   operands: 6\n",
       "3. (j + a) = (l + b)\n",
       "   core type: Operation\n",
       "   operator: 7\n",
       "   operands: 8\n",
       "4. in\n",
       "   core type: Literal\n",
       "   sub-expressions: \n",
       "5. ((j + 1) - i, Naturals)\n",
       "   core type: ExprTuple\n",
       "   sub-expressions: 9, 10\n",
       "6. (i + a, k + b)\n",
       "   core type: ExprTuple\n",
       "   sub-expressions: 11, 12\n",
       "7. =\n",
       "   core type: Literal\n",
       "   sub-expressions: \n",
       "8. (j + a, l + b)\n",
       "   core type: ExprTuple\n",
       "   sub-expressions: 13, 14\n",
       "9. (j + 1) - i\n",
       "   core type: Operation\n",
       "   operator: 26\n",
       "   operands: 15\n",
       "10. Naturals\n",
       "    core type: Literal\n",
       "    sub-expressions: \n",
       "11. i + a\n",
       "    core type: Operation\n",
       "    operator: 26\n",
       "    operands: 16\n",
       "12. k + b\n",
       "    core type: Operation\n",
       "    operator: 26\n",
       "    operands: 17\n",
       "13. j + a\n",
       "    core type: Operation\n",
       "    operator: 26\n",
       "    operands: 18\n",
       "14. l + b\n",
       "    core type: Operation\n",
       "    operator: 26\n",
       "    operands: 19\n",
       "15. (j + 1, -i)\n",
       "    core type: ExprTuple\n",
       "    sub-expressions: 20, 21\n",
       "16. (i, a)\n",
       "    core type: ExprTuple\n",
       "    sub-expressions: 29, 23\n",
       "17. (k, b)\n",
       "    core type: ExprTuple\n",
       "    sub-expressions: 22, 25\n",
       "18. (j, a)\n",
       "    core type: ExprTuple\n",
       "    sub-expressions: 30, 23\n",
       "19. (l, b)\n",
       "    core type: ExprTuple\n",
       "    sub-expressions: 24, 25\n",
       "20. j + 1\n",
       "    core type: Operation\n",
       "    operator: 26\n",
       "    operands: 27\n",
       "21. -i\n",
       "    core type: Operation\n",
       "    operator: 28\n",
       "    operand: 29\n",
       "22. k\n",
       "    core type: Variable\n",
       "    sub-expressions: \n",
       "23. a\n",
       "    core type: Variable\n",
       "    sub-expressions: \n",
       "24. l\n",
       "    core type: Variable\n",
       "    sub-expressions: \n",
       "25. b\n",
       "    core type: Variable\n",
       "    sub-expressions: \n",
       "26. +\n",
       "    core type: Literal\n",
       "    sub-expressions: \n",
       "27. (j, 1)\n",
       "    core type: ExprTuple\n",
       "    sub-expressions: 30, 31\n",
       "28. -\n",
       "    core type: Literal\n",
       "    sub-expressions: \n",
       "29. i\n",
       "    core type: Variable\n",
       "    sub-expressions: \n",
       "30. j\n",
       "    core type: Variable\n",
       "    sub-expressions: \n",
       "31. 1\n",
       "    core type: Literal\n",
       "    sub-expressions: "
      ]
     },
     "execution_count": 5,
     "metadata": {},
     "output_type": "execute_result"
    }
   ],
   "source": [
    "# display the expression information\n",
    "expr.exprInfo()"
   ]
  },
  {
   "cell_type": "code",
   "execution_count": null,
   "metadata": {},
   "outputs": [],
   "source": []
  }
 ],
 "metadata": {
  "kernelspec": {
   "display_name": "Python 3",
   "language": "python",
   "name": "python3"
  },
  "language_info": {
   "codemirror_mode": {
    "name": "ipython",
    "version": 3
   },
   "file_extension": ".py",
   "mimetype": "text/x-python",
   "name": "python",
   "nbconvert_exporter": "python",
   "pygments_lexer": "ipython3",
   "version": "3.7.3"
  }
 },
 "nbformat": 4,
 "nbformat_minor": 1
}
