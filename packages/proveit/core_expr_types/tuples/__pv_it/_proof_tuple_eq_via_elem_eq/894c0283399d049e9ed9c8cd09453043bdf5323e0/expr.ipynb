{
 "cells": [
  {
   "cell_type": "markdown",
   "metadata": {},
   "source": [
    "Expression of type <a class=\"ProveItLink\" href=\"../../../../../../../doc/html/api/proveit.Conditional.html\">Conditional</a>\n",
    "=======================\n",
    "# from the theory of <a class=\"ProveItLink\" href=\"../../../_theory_nbs_/theory.ipynb\">proveit.core_expr_types.tuples</a>"
   ]
  },
  {
   "cell_type": "code",
   "execution_count": 1,
   "metadata": {},
   "outputs": [],
   "source": [
    "import proveit\n",
    "# Automation is not needed when building an expression:\n",
    "proveit.defaults.automation = False # This will speed things up.\n",
    "proveit.defaults.inline_pngs = False # Makes files smaller.\n",
    "%load_expr # Load the stored expression as 'stored_expr'\n",
    "# import Expression classes needed to build the expression\n",
    "from proveit import Conditional, ExprRange, IndexedVar, Variable, a, b, k, n\n",
    "from proveit.logic import Equals, Forall, InSet\n",
    "from proveit.numbers import NaturalPos, one"
   ]
  },
  {
   "cell_type": "code",
   "execution_count": 2,
   "metadata": {},
   "outputs": [
    {
     "data": {
      "text/html": [
       "<strong id=\"expr\">expr:</strong> <a class=\"ProveItLink\" href=\"expr.ipynb\"><img src=\"expr.png\" style=\"display:inline;vertical-align:middle;\" /></a><br>"
      ],
      "text/plain": [
       "expr: {forall_{a_{1}, ..a_{_a}.., a_{n}, b_{1}, ..b_{_a}.., b_{n} | a_{1} = b_{1}, ..a_{k} = b_{k}.., a_{n} = b_{n}} ((a_{1}, ..a_{_a}.., a_{n}) = (b_{1}, ..b_{_a}.., b_{n})) if n in NaturalPos."
      ]
     },
     "execution_count": 2,
     "metadata": {},
     "output_type": "execute_result"
    }
   ],
   "source": [
    "# build up the expression from sub-expressions\n",
    "sub_expr1 = Variable(\"_a\", latex_format = r\"{_{-}a}\")\n",
    "sub_expr2 = ExprRange(sub_expr1, IndexedVar(a, sub_expr1), one, n)\n",
    "sub_expr3 = ExprRange(sub_expr1, IndexedVar(b, sub_expr1), one, n)\n",
    "expr = Conditional(Forall([sub_expr2, sub_expr3], Equals([sub_expr2], [sub_expr3]), condition = ExprRange(k, Equals(IndexedVar(a, k), IndexedVar(b, k)), one, n)), InSet(n, NaturalPos))"
   ]
  },
  {
   "cell_type": "code",
   "execution_count": 3,
   "metadata": {},
   "outputs": [
    {
     "name": "stdout",
     "output_type": "stream",
     "text": [
      "Passed sanity check: expr matches stored_expr\n"
     ]
    }
   ],
   "source": [
    "# check that the built expression is the same as the stored expression\n",
    "assert expr == stored_expr\n",
    "assert expr._style_id == stored_expr._style_id\n",
    "print(\"Passed sanity check: expr matches stored_expr\")"
   ]
  },
  {
   "cell_type": "code",
   "execution_count": 4,
   "metadata": {},
   "outputs": [
    {
     "name": "stdout",
     "output_type": "stream",
     "text": [
      "\\left\\{\\forall_{a_{1}, \\ldots, a_{n}, b_{1}, \\ldots, b_{n}~|~a_{1} = b_{1}, \\ldots, a_{n} = b_{n}}~\\left(\\left(a_{1}, \\ldots, a_{n}\\right) = \\left(b_{1}, \\ldots, b_{n}\\right)\\right) \\textrm{ if } n \\in \\mathbb{N}^+\\right..\n"
     ]
    }
   ],
   "source": [
    "# Show the LaTeX representation of the expression for convenience if you need it.\n",
    "print(expr.latex())"
   ]
  },
  {
   "cell_type": "code",
   "execution_count": 5,
   "metadata": {},
   "outputs": [
    {
     "data": {
      "text/html": [
       "<table>\n",
       "<tr><th>name</th><th>description</th><th>default</th><th>current value</th><th>related methods</th></tr><tr><td>condition_delimiter</td><td>'comma' or 'and'</td><td>comma</td><td>comma</td><td>('with_comma_delimiter', 'with_conjunction_delimiter')</td></tr>\n",
       "</table>\n"
      ],
      "text/plain": [
       "style name: condition_delimiter\n",
       "description: 'comma' or 'and'\n",
       "default: comma\n",
       "current value: comma\n",
       "related methods: ('with_comma_delimiter', 'with_conjunction_delimiter')"
      ]
     },
     "execution_count": 5,
     "metadata": {},
     "output_type": "execute_result"
    }
   ],
   "source": [
    "expr.style_options()"
   ]
  },
  {
   "cell_type": "code",
   "execution_count": 6,
   "metadata": {},
   "outputs": [
    {
     "data": {
      "text/html": [
       "<table><tr><th>&nbsp;</th><th>core type</th><th>sub-expressions</th><th>expression</th></tr>\n",
       "<tr><td>0</td><td>Conditional</td><td>value:&nbsp;1<br>condition:&nbsp;2<br></td><td><a class=\"ProveItLink\" href=\"expr.ipynb\"><img src=\"expr.png\" style=\"display:inline;vertical-align:middle;\" /></a></td></tr>\n",
       "<tr><td>1</td><td>Operation</td><td>operator:&nbsp;3<br>operand:&nbsp;7<br></td><td><a class=\"ProveItLink\" href=\"../75178dc20188f450905ee09293ac8c6115486f210/expr.ipynb\"><img src=\"../75178dc20188f450905ee09293ac8c6115486f210/expr.png\" style=\"display:inline;vertical-align:middle;\" /></a></td></tr>\n",
       "<tr><td>2</td><td>Operation</td><td>operator:&nbsp;5<br>operands:&nbsp;6<br></td><td><a class=\"ProveItLink\" href=\"../../../../../numbers/number_sets/natural_numbers/__pv_it/theorems/c137fc4bdb69d9d8200a128e712a550420acc4790/expr.ipynb\"><img src=\"../../../../../numbers/number_sets/natural_numbers/__pv_it/theorems/c137fc4bdb69d9d8200a128e712a550420acc4790/expr.png\" style=\"display:inline;vertical-align:middle;\" /></a></td></tr>\n",
       "<tr><td>3</td><td>Literal</td><td></td><td><a class=\"ProveItLink\" href=\"../../../../../logic/booleans/quantification/universality/__pv_it/common/684d35ba98fcbf8ca5011f865e530a51e77730630/expr.ipynb\"><img src=\"../../../../../logic/booleans/quantification/universality/__pv_it/common/684d35ba98fcbf8ca5011f865e530a51e77730630/expr.png\" style=\"display:inline;vertical-align:middle;\" /></a></td></tr>\n",
       "<tr><td>4</td><td>ExprTuple</td><td>7</td><td><a class=\"ProveItLink\" href=\"../d3fb46a08e9079a0a7a7923ca01f2a5939f2f2b00/expr.ipynb\"><img src=\"../d3fb46a08e9079a0a7a7923ca01f2a5939f2f2b00/expr.png\" style=\"display:inline;vertical-align:middle;\" /></a></td></tr>\n",
       "<tr><td>5</td><td>Literal</td><td></td><td><a class=\"ProveItLink\" href=\"../../../../../logic/sets/membership/__pv_it/common/7171deca84f71f47a6ec7696972d1632274a12880/expr.ipynb\"><img src=\"../../../../../logic/sets/membership/__pv_it/common/7171deca84f71f47a6ec7696972d1632274a12880/expr.png\" style=\"display:inline;vertical-align:middle;\" /></a></td></tr>\n",
       "<tr><td>6</td><td>ExprTuple</td><td>25, 8</td><td><a class=\"ProveItLink\" href=\"../../../../../numbers/number_sets/natural_numbers/__pv_it/theorems/7228b855ca92cba683b50e93e2a2e59565fe73200/expr.ipynb\"><img src=\"../../../../../numbers/number_sets/natural_numbers/__pv_it/theorems/7228b855ca92cba683b50e93e2a2e59565fe73200/expr.png\" style=\"display:inline;vertical-align:middle;\" /></a></td></tr>\n",
       "<tr><td>7</td><td>Lambda</td><td>parameters:&nbsp;9<br>body:&nbsp;10<br></td><td><a class=\"ProveItLink\" href=\"../d0a0ec698e24250e6b2b69db4c79b6589d74e7940/expr.ipynb\"><img src=\"../d0a0ec698e24250e6b2b69db4c79b6589d74e7940/expr.png\" style=\"display:inline;vertical-align:middle;\" /></a></td></tr>\n",
       "<tr><td>8</td><td>Literal</td><td></td><td><a class=\"ProveItLink\" href=\"../../../../../numbers/number_sets/natural_numbers/__pv_it/common/a2a7252783c385c028dad802e97575c19e456b990/expr.ipynb\"><img src=\"../../../../../numbers/number_sets/natural_numbers/__pv_it/common/a2a7252783c385c028dad802e97575c19e456b990/expr.png\" style=\"display:inline;vertical-align:middle;\" /></a></td></tr>\n",
       "<tr><td>9</td><td>ExprTuple</td><td>19, 20</td><td><a class=\"ProveItLink\" href=\"../3719de1bd3fdbabd10a09d897ea87a31a0f5c3610/expr.ipynb\"><img src=\"../3719de1bd3fdbabd10a09d897ea87a31a0f5c3610/expr.png\" style=\"display:inline;vertical-align:middle;\" /></a></td></tr>\n",
       "<tr><td>10</td><td>Conditional</td><td>value:&nbsp;11<br>condition:&nbsp;12<br></td><td><a class=\"ProveItLink\" href=\"../61885bbb42791f9dca602aa84d9c5612cbfc01450/expr.ipynb\"><img src=\"../61885bbb42791f9dca602aa84d9c5612cbfc01450/expr.png\" style=\"display:inline;vertical-align:middle;\" /></a></td></tr>\n",
       "<tr><td>11</td><td>Operation</td><td>operator:&nbsp;29<br>operands:&nbsp;13<br></td><td><a class=\"ProveItLink\" href=\"../db09243a402f7688627fc6bda8586d74f83419700/expr.ipynb\"><img src=\"../db09243a402f7688627fc6bda8586d74f83419700/expr.png\" style=\"display:inline;vertical-align:middle;\" /></a></td></tr>\n",
       "<tr><td>12</td><td>Operation</td><td>operator:&nbsp;14<br>operands:&nbsp;15<br></td><td><a class=\"ProveItLink\" href=\"../6454f4e8f011e0b9b85690b15a443e80aa50b2c10/expr.ipynb\"><img src=\"../6454f4e8f011e0b9b85690b15a443e80aa50b2c10/expr.png\" style=\"display:inline;vertical-align:middle;\" /></a></td></tr>\n",
       "<tr><td>13</td><td>ExprTuple</td><td>16, 17</td><td><a class=\"ProveItLink\" href=\"../f73f8c966e6ec95c40620250cd785744f3747e6f0/expr.ipynb\"><img src=\"../f73f8c966e6ec95c40620250cd785744f3747e6f0/expr.png\" style=\"display:inline;vertical-align:middle;\" /></a></td></tr>\n",
       "<tr><td>14</td><td>Literal</td><td></td><td><a class=\"ProveItLink\" href=\"../../../../../logic/booleans/conjunction/__pv_it/common/26b94b53e70b1d77b70f0d9d4236347db37731060/expr.ipynb\"><img src=\"../../../../../logic/booleans/conjunction/__pv_it/common/26b94b53e70b1d77b70f0d9d4236347db37731060/expr.png\" style=\"display:inline;vertical-align:middle;\" /></a></td></tr>\n",
       "<tr><td>15</td><td>ExprTuple</td><td>18</td><td><a class=\"ProveItLink\" href=\"../d806ce2644bad292fc82acf04d22e3e7c853888e0/expr.ipynb\"><img src=\"../d806ce2644bad292fc82acf04d22e3e7c853888e0/expr.png\" style=\"display:inline;vertical-align:middle;\" /></a></td></tr>\n",
       "<tr><td>16</td><td>ExprTuple</td><td>19</td><td><a class=\"ProveItLink\" href=\"../a9bcb76bf9f12976067df2c6749fc3914885fc6e0/expr.ipynb\"><img src=\"../a9bcb76bf9f12976067df2c6749fc3914885fc6e0/expr.png\" style=\"display:inline;vertical-align:middle;\" /></a></td></tr>\n",
       "<tr><td>17</td><td>ExprTuple</td><td>20</td><td><a class=\"ProveItLink\" href=\"../d10e7dd6f2e8678e60e355ed09df7a0da3e219010/expr.ipynb\"><img src=\"../d10e7dd6f2e8678e60e355ed09df7a0da3e219010/expr.png\" style=\"display:inline;vertical-align:middle;\" /></a></td></tr>\n",
       "<tr><td>18</td><td>ExprRange</td><td>lambda_map:&nbsp;21<br>start_index:&nbsp;24<br>end_index:&nbsp;25<br></td><td><a class=\"ProveItLink\" href=\"../c024b9edc2b5a1fb7705aefb9469a1b027ac1ee60/expr.ipynb\"><img src=\"../c024b9edc2b5a1fb7705aefb9469a1b027ac1ee60/expr.png\" style=\"display:inline;vertical-align:middle;\" /></a></td></tr>\n",
       "<tr><td>19</td><td>ExprRange</td><td>lambda_map:&nbsp;22<br>start_index:&nbsp;24<br>end_index:&nbsp;25<br></td><td><a class=\"ProveItLink\" href=\"../f5523e6e993af3e7606f5e9e5f8935b61712aa960/expr.ipynb\"><img src=\"../f5523e6e993af3e7606f5e9e5f8935b61712aa960/expr.png\" style=\"display:inline;vertical-align:middle;\" /></a></td></tr>\n",
       "<tr><td>20</td><td>ExprRange</td><td>lambda_map:&nbsp;23<br>start_index:&nbsp;24<br>end_index:&nbsp;25<br></td><td><a class=\"ProveItLink\" href=\"../7481d1b652031bc991870496762068a2b16670100/expr.ipynb\"><img src=\"../7481d1b652031bc991870496762068a2b16670100/expr.png\" style=\"display:inline;vertical-align:middle;\" /></a></td></tr>\n",
       "<tr><td>21</td><td>Lambda</td><td>parameter:&nbsp;38<br>body:&nbsp;26<br></td><td><a class=\"ProveItLink\" href=\"../../theorems/b04e7ae0d584458df77a9670fcb97b08821dcd7e0/expr.ipynb\"><img src=\"../../theorems/b04e7ae0d584458df77a9670fcb97b08821dcd7e0/expr.png\" style=\"display:inline;vertical-align:middle;\" /></a></td></tr>\n",
       "<tr><td>22</td><td>Lambda</td><td>parameter:&nbsp;34<br>body:&nbsp;27<br></td><td><a class=\"ProveItLink\" href=\"../../../../__pv_it/common/99ea59f1b92e70eddeee736182b1abeb9f49c91b0/expr.ipynb\"><img src=\"../../../../__pv_it/common/99ea59f1b92e70eddeee736182b1abeb9f49c91b0/expr.png\" style=\"display:inline;vertical-align:middle;\" /></a></td></tr>\n",
       "<tr><td>23</td><td>Lambda</td><td>parameter:&nbsp;34<br>body:&nbsp;28<br></td><td><a class=\"ProveItLink\" href=\"../../../../__pv_it/common/ba19487284205e8bd037599d68730451639874da0/expr.ipynb\"><img src=\"../../../../__pv_it/common/ba19487284205e8bd037599d68730451639874da0/expr.png\" style=\"display:inline;vertical-align:middle;\" /></a></td></tr>\n",
       "<tr><td>24</td><td>Literal</td><td></td><td><a class=\"ProveItLink\" href=\"../../../../../numbers/numerals/__pv_it/common/d278e359da0695d9652dd541d45264f93703e2e40/expr.ipynb\"><img src=\"../../../../../numbers/numerals/__pv_it/common/d278e359da0695d9652dd541d45264f93703e2e40/expr.png\" style=\"display:inline;vertical-align:middle;\" /></a></td></tr>\n",
       "<tr><td>25</td><td>Variable</td><td></td><td><a class=\"ProveItLink\" href=\"../../../../../__pv_it/common/6165c9bb82ce3c7097cdba4440a1aeeb6eaca8a40/expr.ipynb\"><img src=\"../../../../../__pv_it/common/6165c9bb82ce3c7097cdba4440a1aeeb6eaca8a40/expr.png\" style=\"display:inline;vertical-align:middle;\" /></a></td></tr>\n",
       "<tr><td>26</td><td>Operation</td><td>operator:&nbsp;29<br>operands:&nbsp;30<br></td><td><a class=\"ProveItLink\" href=\"../../theorems/538e3f3073dc08355f808961ffcfcc264ef680870/expr.ipynb\"><img src=\"../../theorems/538e3f3073dc08355f808961ffcfcc264ef680870/expr.png\" style=\"display:inline;vertical-align:middle;\" /></a></td></tr>\n",
       "<tr><td>27</td><td>IndexedVar</td><td>variable:&nbsp;35<br>index:&nbsp;34<br></td><td><a class=\"ProveItLink\" href=\"../../../../__pv_it/common/d8d3053e77ba1db68c0cd106952422881db586670/expr.ipynb\"><img src=\"../../../../__pv_it/common/d8d3053e77ba1db68c0cd106952422881db586670/expr.png\" style=\"display:inline;vertical-align:middle;\" /></a></td></tr>\n",
       "<tr><td>28</td><td>IndexedVar</td><td>variable:&nbsp;36<br>index:&nbsp;34<br></td><td><a class=\"ProveItLink\" href=\"../../../../__pv_it/common/d970eb18e3a42edf466b1db01e5cbdd3ba6971b60/expr.ipynb\"><img src=\"../../../../__pv_it/common/d970eb18e3a42edf466b1db01e5cbdd3ba6971b60/expr.png\" style=\"display:inline;vertical-align:middle;\" /></a></td></tr>\n",
       "<tr><td>29</td><td>Literal</td><td></td><td><a class=\"ProveItLink\" href=\"../../../../../logic/equality/__pv_it/common/731dd3955b346c1320ed5c0ba7a618bcda61457d0/expr.ipynb\"><img src=\"../../../../../logic/equality/__pv_it/common/731dd3955b346c1320ed5c0ba7a618bcda61457d0/expr.png\" style=\"display:inline;vertical-align:middle;\" /></a></td></tr>\n",
       "<tr><td>30</td><td>ExprTuple</td><td>32, 33</td><td><a class=\"ProveItLink\" href=\"../../theorems/1bf610de2bf90455fd08382f5a92eb1a7717192a0/expr.ipynb\"><img src=\"../../theorems/1bf610de2bf90455fd08382f5a92eb1a7717192a0/expr.png\" style=\"display:inline;vertical-align:middle;\" /></a></td></tr>\n",
       "<tr><td>31</td><td>ExprTuple</td><td>34</td><td><a class=\"ProveItLink\" href=\"../../../../__pv_it/common/ecf50ade416ab41c42c9f4e777b4c862cd9469670/expr.ipynb\"><img src=\"../../../../__pv_it/common/ecf50ade416ab41c42c9f4e777b4c862cd9469670/expr.png\" style=\"display:inline;vertical-align:middle;\" /></a></td></tr>\n",
       "<tr><td>32</td><td>IndexedVar</td><td>variable:&nbsp;35<br>index:&nbsp;38<br></td><td><a class=\"ProveItLink\" href=\"../../theorems/910ff783c5bd10af92c87a24c4fec49ec6529c750/expr.ipynb\"><img src=\"../../theorems/910ff783c5bd10af92c87a24c4fec49ec6529c750/expr.png\" style=\"display:inline;vertical-align:middle;\" /></a></td></tr>\n",
       "<tr><td>33</td><td>IndexedVar</td><td>variable:&nbsp;36<br>index:&nbsp;38<br></td><td><a class=\"ProveItLink\" href=\"../../theorems/86fb57b637165fa2afe38a1b6ce0ed70d732e5e60/expr.ipynb\"><img src=\"../../theorems/86fb57b637165fa2afe38a1b6ce0ed70d732e5e60/expr.png\" style=\"display:inline;vertical-align:middle;\" /></a></td></tr>\n",
       "<tr><td>34</td><td>Variable</td><td></td><td><a class=\"ProveItLink\" href=\"../../../../__pv_it/common/9e6d9d5d7eeb0342cf5bca68def0eb165a1a9bb10/expr.ipynb\"><img src=\"../../../../__pv_it/common/9e6d9d5d7eeb0342cf5bca68def0eb165a1a9bb10/expr.png\" style=\"display:inline;vertical-align:middle;\" /></a></td></tr>\n",
       "<tr><td>35</td><td>Variable</td><td></td><td><a class=\"ProveItLink\" href=\"../../../../../__pv_it/common/66c90e66682f107a881f2d666959f64e2e72ad750/expr.ipynb\"><img src=\"../../../../../__pv_it/common/66c90e66682f107a881f2d666959f64e2e72ad750/expr.png\" style=\"display:inline;vertical-align:middle;\" /></a></td></tr>\n",
       "<tr><td>36</td><td>Variable</td><td></td><td><a class=\"ProveItLink\" href=\"../../../../../__pv_it/common/4a5db8cc5c67969ec864bd3ea598be37cb6f5e550/expr.ipynb\"><img src=\"../../../../../__pv_it/common/4a5db8cc5c67969ec864bd3ea598be37cb6f5e550/expr.png\" style=\"display:inline;vertical-align:middle;\" /></a></td></tr>\n",
       "<tr><td>37</td><td>ExprTuple</td><td>38</td><td><a class=\"ProveItLink\" href=\"../../../../../__pv_it/common/797070a9ef2f9957a44157444d93fbe100e2d7430/expr.ipynb\"><img src=\"../../../../../__pv_it/common/797070a9ef2f9957a44157444d93fbe100e2d7430/expr.png\" style=\"display:inline;vertical-align:middle;\" /></a></td></tr>\n",
       "<tr><td>38</td><td>Variable</td><td></td><td><a class=\"ProveItLink\" href=\"../../../../../__pv_it/common/b9fd37fc619babc74a6203459f110251586df6970/expr.ipynb\"><img src=\"../../../../../__pv_it/common/b9fd37fc619babc74a6203459f110251586df6970/expr.png\" style=\"display:inline;vertical-align:middle;\" /></a></td></tr>\n",
       "</table>\n"
      ],
      "text/plain": [
       "0. {forall_{a_{1}, ..a_{_a}.., a_{n}, b_{1}, ..b_{_a}.., b_{n} | a_{1} = b_{1}, ..a_{k} = b_{k}.., a_{n} = b_{n}} ((a_{1}, ..a_{_a}.., a_{n}) = (b_{1}, ..b_{_a}.., b_{n})) if n in NaturalPos.\n",
       "   core type: Conditional\n",
       "   value: 1\n",
       "   condition: 2\n",
       "1. forall_{a_{1}, ..a_{_a}.., a_{n}, b_{1}, ..b_{_a}.., b_{n} | a_{1} = b_{1}, ..a_{k} = b_{k}.., a_{n} = b_{n}} ((a_{1}, ..a_{_a}.., a_{n}) = (b_{1}, ..b_{_a}.., b_{n}))\n",
       "   core type: Operation\n",
       "   operator: 3\n",
       "   operand: 7\n",
       "2. n in NaturalPos\n",
       "   core type: Operation\n",
       "   operator: 5\n",
       "   operands: 6\n",
       "3. forall\n",
       "   core type: Literal\n",
       "   sub-expressions: \n",
       "4. ((a_{1}, ..a_{_a}.., a_{n}, b_{1}, ..b_{_a}.., b_{n}) -> {(a_{1}, ..a_{_a}.., a_{n}) = (b_{1}, ..b_{_a}.., b_{n}) if (a_{1} = b_{1}) and ..(a_{k} = b_{k}).. and (a_{n} = b_{n}).)\n",
       "   core type: ExprTuple\n",
       "   sub-expressions: 7\n",
       "5. in\n",
       "   core type: Literal\n",
       "   sub-expressions: \n",
       "6. (n, NaturalPos)\n",
       "   core type: ExprTuple\n",
       "   sub-expressions: 25, 8\n",
       "7. (a_{1}, ..a_{_a}.., a_{n}, b_{1}, ..b_{_a}.., b_{n}) -> {(a_{1}, ..a_{_a}.., a_{n}) = (b_{1}, ..b_{_a}.., b_{n}) if (a_{1} = b_{1}) and ..(a_{k} = b_{k}).. and (a_{n} = b_{n}).\n",
       "   core type: Lambda\n",
       "   parameters: 9\\n   body: 10\n",
       "8. NaturalPos\n",
       "   core type: Literal\n",
       "   sub-expressions: \n",
       "9. (a_{1}, ..a_{_a}.., a_{n}, b_{1}, ..b_{_a}.., b_{n})\n",
       "   core type: ExprTuple\n",
       "   sub-expressions: 19, 20\n",
       "10. {(a_{1}, ..a_{_a}.., a_{n}) = (b_{1}, ..b_{_a}.., b_{n}) if (a_{1} = b_{1}) and ..(a_{k} = b_{k}).. and (a_{n} = b_{n}).\n",
       "    core type: Conditional\n",
       "    value: 11\n",
       "    condition: 12\n",
       "11. (a_{1}, ..a_{_a}.., a_{n}) = (b_{1}, ..b_{_a}.., b_{n})\n",
       "    core type: Operation\n",
       "    operator: 29\n",
       "    operands: 13\n",
       "12. (a_{1} = b_{1}) and ..(a_{k} = b_{k}).. and (a_{n} = b_{n})\n",
       "    core type: Operation\n",
       "    operator: 14\n",
       "    operands: 15\n",
       "13. ((a_{1}, ..a_{_a}.., a_{n}), (b_{1}, ..b_{_a}.., b_{n}))\n",
       "    core type: ExprTuple\n",
       "    sub-expressions: 16, 17\n",
       "14. and\n",
       "    core type: Literal\n",
       "    sub-expressions: \n",
       "15. (a_{1} = b_{1}, ..a_{k} = b_{k}.., a_{n} = b_{n})\n",
       "    core type: ExprTuple\n",
       "    sub-expressions: 18\n",
       "16. (a_{1}, ..a_{_a}.., a_{n})\n",
       "    core type: ExprTuple\n",
       "    sub-expressions: 19\n",
       "17. (b_{1}, ..b_{_a}.., b_{n})\n",
       "    core type: ExprTuple\n",
       "    sub-expressions: 20\n",
       "18. (a_{1} = b_{1}), ..(a_{k} = b_{k}).., (a_{n} = b_{n})\n",
       "    core type: ExprRange\n",
       "    lambda_map: 21\n",
       "    start_index: 24\n",
       "    end_index: 25\n",
       "19. a_{1}, ..a_{_a}.., a_{n}\n",
       "    core type: ExprRange\n",
       "    lambda_map: 22\n",
       "    start_index: 24\n",
       "    end_index: 25\n",
       "20. b_{1}, ..b_{_a}.., b_{n}\n",
       "    core type: ExprRange\n",
       "    lambda_map: 23\n",
       "    start_index: 24\n",
       "    end_index: 25\n",
       "21. k -> (a_{k} = b_{k})\n",
       "    core type: Lambda\n",
       "    parameter: 38\n",
       "    body: 26\n",
       "22. _a -> a_{_a}\n",
       "    core type: Lambda\n",
       "    parameter: 34\n",
       "    body: 27\n",
       "23. _a -> b_{_a}\n",
       "    core type: Lambda\n",
       "    parameter: 34\n",
       "    body: 28\n",
       "24. 1\n",
       "    core type: Literal\n",
       "    sub-expressions: \n",
       "25. n\n",
       "    core type: Variable\n",
       "    sub-expressions: \n",
       "26. a_{k} = b_{k}\n",
       "    core type: Operation\n",
       "    operator: 29\n",
       "    operands: 30\n",
       "27. a_{_a}\n",
       "    core type: IndexedVar\n",
       "variable: 35\n",
       "index: 34\n",
       "28. b_{_a}\n",
       "    core type: IndexedVar\n",
       "variable: 36\n",
       "index: 34\n",
       "29. =\n",
       "    core type: Literal\n",
       "    sub-expressions: \n",
       "30. (a_{k}, b_{k})\n",
       "    core type: ExprTuple\n",
       "    sub-expressions: 32, 33\n",
       "31. (_a)\n",
       "    core type: ExprTuple\n",
       "    sub-expressions: 34\n",
       "32. a_{k}\n",
       "    core type: IndexedVar\n",
       "variable: 35\n",
       "index: 38\n",
       "33. b_{k}\n",
       "    core type: IndexedVar\n",
       "variable: 36\n",
       "index: 38\n",
       "34. _a\n",
       "    core type: Variable\n",
       "    sub-expressions: \n",
       "35. a\n",
       "    core type: Variable\n",
       "    sub-expressions: \n",
       "36. b\n",
       "    core type: Variable\n",
       "    sub-expressions: \n",
       "37. (k)\n",
       "    core type: ExprTuple\n",
       "    sub-expressions: 38\n",
       "38. k\n",
       "    core type: Variable\n",
       "    sub-expressions: "
      ]
     },
     "execution_count": 6,
     "metadata": {},
     "output_type": "execute_result"
    }
   ],
   "source": [
    "# display the expression information\n",
    "expr.expr_info()"
   ]
  },
  {
   "cell_type": "code",
   "execution_count": null,
   "metadata": {},
   "outputs": [],
   "source": []
  }
 ],
 "metadata": {
  "kernelspec": {
   "display_name": "Python 3",
   "language": "python",
   "name": "python3"
  }
 },
 "nbformat": 4,
 "nbformat_minor": 0
}