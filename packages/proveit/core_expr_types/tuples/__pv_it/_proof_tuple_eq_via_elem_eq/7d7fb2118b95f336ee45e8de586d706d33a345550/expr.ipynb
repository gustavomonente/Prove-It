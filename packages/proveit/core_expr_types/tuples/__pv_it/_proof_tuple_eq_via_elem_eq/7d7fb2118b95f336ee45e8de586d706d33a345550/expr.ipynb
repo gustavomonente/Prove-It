{
 "cells": [
  {
   "cell_type": "markdown",
   "metadata": {},
   "source": [
    "Expression of type <a class=\"ProveItLink\" href=\"../../../../../../../doc/html/api/proveit.ExprTuple.html\">ExprTuple</a>\n",
    "=======================\n",
    "# from the theory of <a class=\"ProveItLink\" href=\"../../../_theory_nbs_/theory.ipynb\">proveit.core_expr_types.tuples</a>"
   ]
  },
  {
   "cell_type": "code",
   "execution_count": 1,
   "metadata": {},
   "outputs": [],
   "source": [
    "import proveit\n",
    "# Automation is not needed when building an expression:\n",
    "proveit.defaults.automation = False # This will speed things up.\n",
    "proveit.defaults.inline_pngs = False # Makes files smaller.\n",
    "%load_expr # Load the stored expression as 'stored_expr'\n",
    "# import Expression classes needed to build the expression\n",
    "from proveit import ExprRange, ExprTuple, IndexedVar, Variable, a, b, m\n",
    "from proveit.logic import And, Equals\n",
    "from proveit.numbers import Add, one"
   ]
  },
  {
   "cell_type": "code",
   "execution_count": 2,
   "metadata": {},
   "outputs": [
    {
     "data": {
      "text/html": [
       "<strong id=\"expr\">expr:</strong> <a class=\"ProveItLink\" href=\"expr.ipynb\"><img src=\"expr.png\" style=\"display:inline;vertical-align:middle;\" /></a><br>"
      ],
      "text/plain": [
       "expr: ((a_{1}, ..a_{_a}.., a_{m}, a_{m + 1}) = (b_{1}, ..b_{_a}.., b_{m}, b_{m + 1}), ((a_{1}, ..a_{_a}.., a_{m}) = (b_{1}, ..b_{_a}.., b_{m})) and (a_{m + 1} = b_{m + 1}))"
      ]
     },
     "execution_count": 2,
     "metadata": {},
     "output_type": "execute_result"
    }
   ],
   "source": [
    "# build up the expression from sub-expressions\n",
    "sub_expr1 = Variable(\"_a\", latex_format = r\"{_{-}a}\")\n",
    "sub_expr2 = Add(m, one)\n",
    "sub_expr3 = ExprRange(sub_expr1, IndexedVar(a, sub_expr1), one, m)\n",
    "sub_expr4 = IndexedVar(a, sub_expr2)\n",
    "sub_expr5 = ExprRange(sub_expr1, IndexedVar(b, sub_expr1), one, m)\n",
    "sub_expr6 = IndexedVar(b, sub_expr2)\n",
    "expr = ExprTuple(Equals([sub_expr3, sub_expr4], [sub_expr5, sub_expr6]), And(Equals([sub_expr3], [sub_expr5]), Equals(sub_expr4, sub_expr6)))"
   ]
  },
  {
   "cell_type": "code",
   "execution_count": 3,
   "metadata": {},
   "outputs": [
    {
     "name": "stdout",
     "output_type": "stream",
     "text": [
      "Passed sanity check: expr matches stored_expr\n"
     ]
    }
   ],
   "source": [
    "# check that the built expression is the same as the stored expression\n",
    "assert expr == stored_expr\n",
    "assert expr._style_id == stored_expr._style_id\n",
    "print(\"Passed sanity check: expr matches stored_expr\")"
   ]
  },
  {
   "cell_type": "code",
   "execution_count": 4,
   "metadata": {},
   "outputs": [
    {
     "name": "stdout",
     "output_type": "stream",
     "text": [
      "\\left(\\left(a_{1}, \\ldots, a_{m}, a_{m + 1}\\right) = \\left(b_{1}, \\ldots, b_{m}, b_{m + 1}\\right), \\left(\\left(a_{1}, \\ldots, a_{m}\\right) = \\left(b_{1}, \\ldots, b_{m}\\right)\\right) \\land \\left(a_{m + 1} = b_{m + 1}\\right)\\right)\n"
     ]
    }
   ],
   "source": [
    "# Show the LaTeX representation of the expression for convenience if you need it.\n",
    "print(expr.latex())"
   ]
  },
  {
   "cell_type": "code",
   "execution_count": 5,
   "metadata": {},
   "outputs": [
    {
     "data": {
      "text/html": [
       "<table>\n",
       "<tr><th>name</th><th>description</th><th>default</th><th>current value</th><th>related methods</th></tr><tr><td>wrap_positions</td><td>position(s) at which wrapping is to occur; 'n' is after the nth comma.</td><td>()</td><td>()</td><td>('with_wrapping_at',)</td></tr>\n",
       "<tr><td>justification</td><td>if any wrap positions are set, justify to the 'left', 'center', or 'right'</td><td>left</td><td>left</td><td>('with_justification',)</td></tr>\n",
       "</table>\n"
      ],
      "text/plain": [
       "style name: wrap_positions\n",
       "description: position(s) at which wrapping is to occur; 'n' is after the nth comma.\n",
       "default: ()\n",
       "current value: ()\n",
       "related methods: ('with_wrapping_at',)\n",
       "style name: justification\n",
       "description: if any wrap positions are set, justify to the 'left', 'center', or 'right'\n",
       "default: left\n",
       "current value: left\n",
       "related methods: ('with_justification',)"
      ]
     },
     "execution_count": 5,
     "metadata": {},
     "output_type": "execute_result"
    }
   ],
   "source": [
    "expr.style_options()"
   ]
  },
  {
   "cell_type": "code",
   "execution_count": 6,
   "metadata": {},
   "outputs": [
    {
     "data": {
      "text/html": [
       "<table><tr><th>&nbsp;</th><th>core type</th><th>sub-expressions</th><th>expression</th></tr>\n",
       "<tr><td>0</td><td>ExprTuple</td><td>1, 2</td><td><a class=\"ProveItLink\" href=\"expr.ipynb\"><img src=\"expr.png\" style=\"display:inline;vertical-align:middle;\" /></a></td></tr>\n",
       "<tr><td>1</td><td>Operation</td><td>operator:&nbsp;11<br>operands:&nbsp;3<br></td><td><a class=\"ProveItLink\" href=\"../5b49a6db5520d7deb0972ea45018fc232d7d2a100/expr.ipynb\"><img src=\"../5b49a6db5520d7deb0972ea45018fc232d7d2a100/expr.png\" style=\"display:inline;vertical-align:middle;\" /></a></td></tr>\n",
       "<tr><td>2</td><td>Operation</td><td>operator:&nbsp;4<br>operands:&nbsp;5<br></td><td><a class=\"ProveItLink\" href=\"../e7f2ef43bfa3ad64833e2ed8b72e0203b2ddb91c0/expr.ipynb\"><img src=\"../e7f2ef43bfa3ad64833e2ed8b72e0203b2ddb91c0/expr.png\" style=\"display:inline;vertical-align:middle;\" /></a></td></tr>\n",
       "<tr><td>3</td><td>ExprTuple</td><td>6, 7</td><td><a class=\"ProveItLink\" href=\"../362f1f702026e405023f7342bda18c7e2527c6860/expr.ipynb\"><img src=\"../362f1f702026e405023f7342bda18c7e2527c6860/expr.png\" style=\"display:inline;vertical-align:middle;\" /></a></td></tr>\n",
       "<tr><td>4</td><td>Literal</td><td></td><td><a class=\"ProveItLink\" href=\"../../../../../logic/booleans/conjunction/__pv_it/common/26b94b53e70b1d77b70f0d9d4236347db37731060/expr.ipynb\"><img src=\"../../../../../logic/booleans/conjunction/__pv_it/common/26b94b53e70b1d77b70f0d9d4236347db37731060/expr.png\" style=\"display:inline;vertical-align:middle;\" /></a></td></tr>\n",
       "<tr><td>5</td><td>ExprTuple</td><td>8, 9</td><td><a class=\"ProveItLink\" href=\"../c9c6a14ead5fe7c4e09a78e1076150e927718d620/expr.ipynb\"><img src=\"../c9c6a14ead5fe7c4e09a78e1076150e927718d620/expr.png\" style=\"display:inline;vertical-align:middle;\" /></a></td></tr>\n",
       "<tr><td>6</td><td>ExprTuple</td><td>17, 15</td><td><a class=\"ProveItLink\" href=\"../7116e1e9e63eae5140f92245056abf1109bff07f0/expr.ipynb\"><img src=\"../7116e1e9e63eae5140f92245056abf1109bff07f0/expr.png\" style=\"display:inline;vertical-align:middle;\" /></a></td></tr>\n",
       "<tr><td>7</td><td>ExprTuple</td><td>18, 16</td><td><a class=\"ProveItLink\" href=\"../b82a5dcfdd7b43a3c4f10a58539414e8b1b69eb50/expr.ipynb\"><img src=\"../b82a5dcfdd7b43a3c4f10a58539414e8b1b69eb50/expr.png\" style=\"display:inline;vertical-align:middle;\" /></a></td></tr>\n",
       "<tr><td>8</td><td>Operation</td><td>operator:&nbsp;11<br>operands:&nbsp;10<br></td><td><a class=\"ProveItLink\" href=\"../df03324aabdada4cfc8d8a0e62365709c51f789d0/expr.ipynb\"><img src=\"../df03324aabdada4cfc8d8a0e62365709c51f789d0/expr.png\" style=\"display:inline;vertical-align:middle;\" /></a></td></tr>\n",
       "<tr><td>9</td><td>Operation</td><td>operator:&nbsp;11<br>operands:&nbsp;12<br></td><td><a class=\"ProveItLink\" href=\"../db36266b878b533bc7ef88cda35a755353c915780/expr.ipynb\"><img src=\"../db36266b878b533bc7ef88cda35a755353c915780/expr.png\" style=\"display:inline;vertical-align:middle;\" /></a></td></tr>\n",
       "<tr><td>10</td><td>ExprTuple</td><td>13, 14</td><td><a class=\"ProveItLink\" href=\"../d40d91f837373610c0b1c80a1256a636c4eefcd70/expr.ipynb\"><img src=\"../d40d91f837373610c0b1c80a1256a636c4eefcd70/expr.png\" style=\"display:inline;vertical-align:middle;\" /></a></td></tr>\n",
       "<tr><td>11</td><td>Literal</td><td></td><td><a class=\"ProveItLink\" href=\"../../../../../logic/equality/__pv_it/common/731dd3955b346c1320ed5c0ba7a618bcda61457d0/expr.ipynb\"><img src=\"../../../../../logic/equality/__pv_it/common/731dd3955b346c1320ed5c0ba7a618bcda61457d0/expr.png\" style=\"display:inline;vertical-align:middle;\" /></a></td></tr>\n",
       "<tr><td>12</td><td>ExprTuple</td><td>15, 16</td><td><a class=\"ProveItLink\" href=\"../9862f54b98f2ca9ace0080ddbf5c1becdcc5466b0/expr.ipynb\"><img src=\"../9862f54b98f2ca9ace0080ddbf5c1becdcc5466b0/expr.png\" style=\"display:inline;vertical-align:middle;\" /></a></td></tr>\n",
       "<tr><td>13</td><td>ExprTuple</td><td>17</td><td><a class=\"ProveItLink\" href=\"../19a260442f940bd9dbf6b9c6e82a0a7f9372a2cc0/expr.ipynb\"><img src=\"../19a260442f940bd9dbf6b9c6e82a0a7f9372a2cc0/expr.png\" style=\"display:inline;vertical-align:middle;\" /></a></td></tr>\n",
       "<tr><td>14</td><td>ExprTuple</td><td>18</td><td><a class=\"ProveItLink\" href=\"../9da07ab1dddb81465fc0d0534621c106e82d74550/expr.ipynb\"><img src=\"../9da07ab1dddb81465fc0d0534621c106e82d74550/expr.png\" style=\"display:inline;vertical-align:middle;\" /></a></td></tr>\n",
       "<tr><td>15</td><td>IndexedVar</td><td>variable:&nbsp;27<br>index:&nbsp;22<br></td><td><a class=\"ProveItLink\" href=\"../62a9f78c9729ce225fc2e9e61c5bf940b6a3ab5a0/expr.ipynb\"><img src=\"../62a9f78c9729ce225fc2e9e61c5bf940b6a3ab5a0/expr.png\" style=\"display:inline;vertical-align:middle;\" /></a></td></tr>\n",
       "<tr><td>16</td><td>IndexedVar</td><td>variable:&nbsp;28<br>index:&nbsp;22<br></td><td><a class=\"ProveItLink\" href=\"../e789c29ae2502a675ab7fd481b0771ccbd2ff3320/expr.ipynb\"><img src=\"../e789c29ae2502a675ab7fd481b0771ccbd2ff3320/expr.png\" style=\"display:inline;vertical-align:middle;\" /></a></td></tr>\n",
       "<tr><td>17</td><td>ExprRange</td><td>lambda_map:&nbsp;20<br>start_index:&nbsp;31<br>end_index:&nbsp;30<br></td><td><a class=\"ProveItLink\" href=\"../e99ac57c59c7f7613c8b4a245e8497111bd08a340/expr.ipynb\"><img src=\"../e99ac57c59c7f7613c8b4a245e8497111bd08a340/expr.png\" style=\"display:inline;vertical-align:middle;\" /></a></td></tr>\n",
       "<tr><td>18</td><td>ExprRange</td><td>lambda_map:&nbsp;21<br>start_index:&nbsp;31<br>end_index:&nbsp;30<br></td><td><a class=\"ProveItLink\" href=\"../1438b2829c8dfbf08336c477d1d282f878df9b510/expr.ipynb\"><img src=\"../1438b2829c8dfbf08336c477d1d282f878df9b510/expr.png\" style=\"display:inline;vertical-align:middle;\" /></a></td></tr>\n",
       "<tr><td>19</td><td>ExprTuple</td><td>22</td><td><a class=\"ProveItLink\" href=\"../../../../../numbers/__pv_it/common/453059dd5ffbe49150930401a4d14800bfeb9b880/expr.ipynb\"><img src=\"../../../../../numbers/__pv_it/common/453059dd5ffbe49150930401a4d14800bfeb9b880/expr.png\" style=\"display:inline;vertical-align:middle;\" /></a></td></tr>\n",
       "<tr><td>20</td><td>Lambda</td><td>parameter:&nbsp;32<br>body:&nbsp;23<br></td><td><a class=\"ProveItLink\" href=\"../../../../__pv_it/common/99ea59f1b92e70eddeee736182b1abeb9f49c91b0/expr.ipynb\"><img src=\"../../../../__pv_it/common/99ea59f1b92e70eddeee736182b1abeb9f49c91b0/expr.png\" style=\"display:inline;vertical-align:middle;\" /></a></td></tr>\n",
       "<tr><td>21</td><td>Lambda</td><td>parameter:&nbsp;32<br>body:&nbsp;24<br></td><td><a class=\"ProveItLink\" href=\"../../../../__pv_it/common/ba19487284205e8bd037599d68730451639874da0/expr.ipynb\"><img src=\"../../../../__pv_it/common/ba19487284205e8bd037599d68730451639874da0/expr.png\" style=\"display:inline;vertical-align:middle;\" /></a></td></tr>\n",
       "<tr><td>22</td><td>Operation</td><td>operator:&nbsp;25<br>operands:&nbsp;26<br></td><td><a class=\"ProveItLink\" href=\"../../../../../numbers/__pv_it/common/efd1d07d2fb8417de5db55be233e5799d8cec0b20/expr.ipynb\"><img src=\"../../../../../numbers/__pv_it/common/efd1d07d2fb8417de5db55be233e5799d8cec0b20/expr.png\" style=\"display:inline;vertical-align:middle;\" /></a></td></tr>\n",
       "<tr><td>23</td><td>IndexedVar</td><td>variable:&nbsp;27<br>index:&nbsp;32<br></td><td><a class=\"ProveItLink\" href=\"../../../../__pv_it/common/d8d3053e77ba1db68c0cd106952422881db586670/expr.ipynb\"><img src=\"../../../../__pv_it/common/d8d3053e77ba1db68c0cd106952422881db586670/expr.png\" style=\"display:inline;vertical-align:middle;\" /></a></td></tr>\n",
       "<tr><td>24</td><td>IndexedVar</td><td>variable:&nbsp;28<br>index:&nbsp;32<br></td><td><a class=\"ProveItLink\" href=\"../../../../__pv_it/common/d970eb18e3a42edf466b1db01e5cbdd3ba6971b60/expr.ipynb\"><img src=\"../../../../__pv_it/common/d970eb18e3a42edf466b1db01e5cbdd3ba6971b60/expr.png\" style=\"display:inline;vertical-align:middle;\" /></a></td></tr>\n",
       "<tr><td>25</td><td>Literal</td><td></td><td><a class=\"ProveItLink\" href=\"../../../../../numbers/addition/__pv_it/common/1f38fe5cce441387feef296e2c0a2eac260bb4f30/expr.ipynb\"><img src=\"../../../../../numbers/addition/__pv_it/common/1f38fe5cce441387feef296e2c0a2eac260bb4f30/expr.png\" style=\"display:inline;vertical-align:middle;\" /></a></td></tr>\n",
       "<tr><td>26</td><td>ExprTuple</td><td>30, 31</td><td><a class=\"ProveItLink\" href=\"../../../../../numbers/__pv_it/common/03a40d63027ce00fe578e986fa3bc5aefc3f8df10/expr.ipynb\"><img src=\"../../../../../numbers/__pv_it/common/03a40d63027ce00fe578e986fa3bc5aefc3f8df10/expr.png\" style=\"display:inline;vertical-align:middle;\" /></a></td></tr>\n",
       "<tr><td>27</td><td>Variable</td><td></td><td><a class=\"ProveItLink\" href=\"../../../../../__pv_it/common/66c90e66682f107a881f2d666959f64e2e72ad750/expr.ipynb\"><img src=\"../../../../../__pv_it/common/66c90e66682f107a881f2d666959f64e2e72ad750/expr.png\" style=\"display:inline;vertical-align:middle;\" /></a></td></tr>\n",
       "<tr><td>28</td><td>Variable</td><td></td><td><a class=\"ProveItLink\" href=\"../../../../../__pv_it/common/4a5db8cc5c67969ec864bd3ea598be37cb6f5e550/expr.ipynb\"><img src=\"../../../../../__pv_it/common/4a5db8cc5c67969ec864bd3ea598be37cb6f5e550/expr.png\" style=\"display:inline;vertical-align:middle;\" /></a></td></tr>\n",
       "<tr><td>29</td><td>ExprTuple</td><td>32</td><td><a class=\"ProveItLink\" href=\"../../../../__pv_it/common/ecf50ade416ab41c42c9f4e777b4c862cd9469670/expr.ipynb\"><img src=\"../../../../__pv_it/common/ecf50ade416ab41c42c9f4e777b4c862cd9469670/expr.png\" style=\"display:inline;vertical-align:middle;\" /></a></td></tr>\n",
       "<tr><td>30</td><td>Variable</td><td></td><td><a class=\"ProveItLink\" href=\"../../../../../__pv_it/common/2dc4f15b3407a25e8d70754a86bf74f1871f92650/expr.ipynb\"><img src=\"../../../../../__pv_it/common/2dc4f15b3407a25e8d70754a86bf74f1871f92650/expr.png\" style=\"display:inline;vertical-align:middle;\" /></a></td></tr>\n",
       "<tr><td>31</td><td>Literal</td><td></td><td><a class=\"ProveItLink\" href=\"../../../../../numbers/numerals/__pv_it/common/d278e359da0695d9652dd541d45264f93703e2e40/expr.ipynb\"><img src=\"../../../../../numbers/numerals/__pv_it/common/d278e359da0695d9652dd541d45264f93703e2e40/expr.png\" style=\"display:inline;vertical-align:middle;\" /></a></td></tr>\n",
       "<tr><td>32</td><td>Variable</td><td></td><td><a class=\"ProveItLink\" href=\"../../../../__pv_it/common/9e6d9d5d7eeb0342cf5bca68def0eb165a1a9bb10/expr.ipynb\"><img src=\"../../../../__pv_it/common/9e6d9d5d7eeb0342cf5bca68def0eb165a1a9bb10/expr.png\" style=\"display:inline;vertical-align:middle;\" /></a></td></tr>\n",
       "</table>\n"
      ],
      "text/plain": [
       "0. ((a_{1}, ..a_{_a}.., a_{m}, a_{m + 1}) = (b_{1}, ..b_{_a}.., b_{m}, b_{m + 1}), ((a_{1}, ..a_{_a}.., a_{m}) = (b_{1}, ..b_{_a}.., b_{m})) and (a_{m + 1} = b_{m + 1}))\n",
       "   core type: ExprTuple\n",
       "   sub-expressions: 1, 2\n",
       "1. (a_{1}, ..a_{_a}.., a_{m}, a_{m + 1}) = (b_{1}, ..b_{_a}.., b_{m}, b_{m + 1})\n",
       "   core type: Operation\n",
       "   operator: 11\n",
       "   operands: 3\n",
       "2. ((a_{1}, ..a_{_a}.., a_{m}) = (b_{1}, ..b_{_a}.., b_{m})) and (a_{m + 1} = b_{m + 1})\n",
       "   core type: Operation\n",
       "   operator: 4\n",
       "   operands: 5\n",
       "3. ((a_{1}, ..a_{_a}.., a_{m}, a_{m + 1}), (b_{1}, ..b_{_a}.., b_{m}, b_{m + 1}))\n",
       "   core type: ExprTuple\n",
       "   sub-expressions: 6, 7\n",
       "4. and\n",
       "   core type: Literal\n",
       "   sub-expressions: \n",
       "5. ((a_{1}, ..a_{_a}.., a_{m}) = (b_{1}, ..b_{_a}.., b_{m}), a_{m + 1} = b_{m + 1})\n",
       "   core type: ExprTuple\n",
       "   sub-expressions: 8, 9\n",
       "6. (a_{1}, ..a_{_a}.., a_{m}, a_{m + 1})\n",
       "   core type: ExprTuple\n",
       "   sub-expressions: 17, 15\n",
       "7. (b_{1}, ..b_{_a}.., b_{m}, b_{m + 1})\n",
       "   core type: ExprTuple\n",
       "   sub-expressions: 18, 16\n",
       "8. (a_{1}, ..a_{_a}.., a_{m}) = (b_{1}, ..b_{_a}.., b_{m})\n",
       "   core type: Operation\n",
       "   operator: 11\n",
       "   operands: 10\n",
       "9. a_{m + 1} = b_{m + 1}\n",
       "   core type: Operation\n",
       "   operator: 11\n",
       "   operands: 12\n",
       "10. ((a_{1}, ..a_{_a}.., a_{m}), (b_{1}, ..b_{_a}.., b_{m}))\n",
       "    core type: ExprTuple\n",
       "    sub-expressions: 13, 14\n",
       "11. =\n",
       "    core type: Literal\n",
       "    sub-expressions: \n",
       "12. (a_{m + 1}, b_{m + 1})\n",
       "    core type: ExprTuple\n",
       "    sub-expressions: 15, 16\n",
       "13. (a_{1}, ..a_{_a}.., a_{m})\n",
       "    core type: ExprTuple\n",
       "    sub-expressions: 17\n",
       "14. (b_{1}, ..b_{_a}.., b_{m})\n",
       "    core type: ExprTuple\n",
       "    sub-expressions: 18\n",
       "15. a_{m + 1}\n",
       "    core type: IndexedVar\n",
       "variable: 27\n",
       "index: 22\n",
       "16. b_{m + 1}\n",
       "    core type: IndexedVar\n",
       "variable: 28\n",
       "index: 22\n",
       "17. a_{1}, ..a_{_a}.., a_{m}\n",
       "    core type: ExprRange\n",
       "    lambda_map: 20\n",
       "    start_index: 31\n",
       "    end_index: 30\n",
       "18. b_{1}, ..b_{_a}.., b_{m}\n",
       "    core type: ExprRange\n",
       "    lambda_map: 21\n",
       "    start_index: 31\n",
       "    end_index: 30\n",
       "19. (m + 1)\n",
       "    core type: ExprTuple\n",
       "    sub-expressions: 22\n",
       "20. _a -> a_{_a}\n",
       "    core type: Lambda\n",
       "    parameter: 32\n",
       "    body: 23\n",
       "21. _a -> b_{_a}\n",
       "    core type: Lambda\n",
       "    parameter: 32\n",
       "    body: 24\n",
       "22. m + 1\n",
       "    core type: Operation\n",
       "    operator: 25\n",
       "    operands: 26\n",
       "23. a_{_a}\n",
       "    core type: IndexedVar\n",
       "variable: 27\n",
       "index: 32\n",
       "24. b_{_a}\n",
       "    core type: IndexedVar\n",
       "variable: 28\n",
       "index: 32\n",
       "25. +\n",
       "    core type: Literal\n",
       "    sub-expressions: \n",
       "26. (m, 1)\n",
       "    core type: ExprTuple\n",
       "    sub-expressions: 30, 31\n",
       "27. a\n",
       "    core type: Variable\n",
       "    sub-expressions: \n",
       "28. b\n",
       "    core type: Variable\n",
       "    sub-expressions: \n",
       "29. (_a)\n",
       "    core type: ExprTuple\n",
       "    sub-expressions: 32\n",
       "30. m\n",
       "    core type: Variable\n",
       "    sub-expressions: \n",
       "31. 1\n",
       "    core type: Literal\n",
       "    sub-expressions: \n",
       "32. _a\n",
       "    core type: Variable\n",
       "    sub-expressions: "
      ]
     },
     "execution_count": 6,
     "metadata": {},
     "output_type": "execute_result"
    }
   ],
   "source": [
    "# display the expression information\n",
    "expr.expr_info()"
   ]
  },
  {
   "cell_type": "code",
   "execution_count": null,
   "metadata": {},
   "outputs": [],
   "source": []
  }
 ],
 "metadata": {
  "kernelspec": {
   "display_name": "Python 3",
   "language": "python",
   "name": "python3"
  }
 },
 "nbformat": 4,
 "nbformat_minor": 0
}