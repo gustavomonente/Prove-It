{
 "cells": [
  {
   "cell_type": "markdown",
   "metadata": {},
   "source": [
    "Expression of type <a class=\"ProveItLink\" href=\"../../../../../../../doc/html/api/proveit.Lambda.html\">Lambda</a>\n",
    "=======================\n",
    "# from the theory of <a class=\"ProveItLink\" href=\"../../../_theory_nbs_/theory.ipynb\">proveit.core_expr_types.tuples</a>"
   ]
  },
  {
   "cell_type": "code",
   "execution_count": 1,
   "metadata": {},
   "outputs": [],
   "source": [
    "import proveit\n",
    "# Automation is not needed when building an expression:\n",
    "proveit.defaults.automation = False # This will speed things up.\n",
    "proveit.defaults.inline_pngs = False # Makes files smaller.\n",
    "%load_expr # Load the stored expression as 'stored_expr'\n",
    "# import Expression classes needed to build the expression\n",
    "from proveit import Conditional, ExprRange, IndexedVar, Lambda, Variable, a, b, k, n\n",
    "from proveit.logic import Equals, Forall, InSet\n",
    "from proveit.numbers import NaturalPos, one"
   ]
  },
  {
   "cell_type": "code",
   "execution_count": 2,
   "metadata": {},
   "outputs": [
    {
     "data": {
      "text/html": [
       "<strong id=\"expr\">expr:</strong> <a class=\"ProveItLink\" href=\"expr.ipynb\"><img src=\"expr.png\" style=\"display:inline;vertical-align:middle;\" /></a><br>"
      ],
      "text/plain": [
       "expr: n -> {forall_{a_{1}, ..a_{_a}.., a_{n}, b_{1}, ..b_{_a}.., b_{n} | a_{1} = b_{1}, ..a_{k} = b_{k}.., a_{n} = b_{n}} ((a_{1}, ..a_{_a}.., a_{n}) = (b_{1}, ..b_{_a}.., b_{n})) if n in NaturalPos."
      ]
     },
     "execution_count": 2,
     "metadata": {},
     "output_type": "execute_result"
    }
   ],
   "source": [
    "# build up the expression from sub-expressions\n",
    "sub_expr1 = Variable(\"_a\", latex_format = r\"{_{-}a}\")\n",
    "sub_expr2 = ExprRange(sub_expr1, IndexedVar(a, sub_expr1), one, n)\n",
    "sub_expr3 = ExprRange(sub_expr1, IndexedVar(b, sub_expr1), one, n)\n",
    "expr = Lambda(n, Conditional(Forall([sub_expr2, sub_expr3], Equals([sub_expr2], [sub_expr3]), condition = ExprRange(k, Equals(IndexedVar(a, k), IndexedVar(b, k)), one, n)), InSet(n, NaturalPos)))"
   ]
  },
  {
   "cell_type": "code",
   "execution_count": 3,
   "metadata": {},
   "outputs": [
    {
     "name": "stdout",
     "output_type": "stream",
     "text": [
      "Passed sanity check: expr matches stored_expr\n"
     ]
    }
   ],
   "source": [
    "# check that the built expression is the same as the stored expression\n",
    "assert expr == stored_expr\n",
    "assert expr._style_id == stored_expr._style_id\n",
    "print(\"Passed sanity check: expr matches stored_expr\")"
   ]
  },
  {
   "cell_type": "code",
   "execution_count": 4,
   "metadata": {},
   "outputs": [
    {
     "name": "stdout",
     "output_type": "stream",
     "text": [
      "n \\mapsto \\left\\{\\forall_{a_{1}, \\ldots, a_{n}, b_{1}, \\ldots, b_{n}~|~a_{1} = b_{1}, \\ldots, a_{n} = b_{n}}~\\left(\\left(a_{1}, \\ldots, a_{n}\\right) = \\left(b_{1}, \\ldots, b_{n}\\right)\\right) \\textrm{ if } n \\in \\mathbb{N}^+\\right..\n"
     ]
    }
   ],
   "source": [
    "# Show the LaTeX representation of the expression for convenience if you need it.\n",
    "print(expr.latex())"
   ]
  },
  {
   "cell_type": "code",
   "execution_count": 5,
   "metadata": {},
   "outputs": [
    {
     "data": {
      "text/html": [
       "<table><tr><th>&nbsp;</th><th>core type</th><th>sub-expressions</th><th>expression</th></tr>\n",
       "<tr><td>0</td><td>Lambda</td><td>parameter:&nbsp;25<br>body:&nbsp;1<br></td><td><a class=\"ProveItLink\" href=\"expr.ipynb\"><img src=\"expr.png\" style=\"display:inline;vertical-align:middle;\" /></a></td></tr>\n",
       "<tr><td>1</td><td>Conditional</td><td>value:&nbsp;2<br>condition:&nbsp;3<br></td><td><a class=\"ProveItLink\" href=\"../d08a5e18825fe167c8ca10cda4cd0faf8f30612d0/expr.ipynb\"><img src=\"../d08a5e18825fe167c8ca10cda4cd0faf8f30612d0/expr.png\" style=\"display:inline;vertical-align:middle;\" /></a></td></tr>\n",
       "<tr><td>2</td><td>Operation</td><td>operator:&nbsp;4<br>operand:&nbsp;5<br></td><td><a class=\"ProveItLink\" href=\"../bb891faaeb0a5d9ee20a0afed714fe2c13f6233c0/expr.ipynb\"><img src=\"../bb891faaeb0a5d9ee20a0afed714fe2c13f6233c0/expr.png\" style=\"display:inline;vertical-align:middle;\" /></a></td></tr>\n",
       "<tr><td>3</td><td>Operation</td><td>operator:&nbsp;6<br>operands:&nbsp;7<br></td><td><a class=\"ProveItLink\" href=\"../../../../../numbers/number_sets/natural_numbers/__pv_it/theorems/2c629b73e558dcaacbf71c0a050e9fdf89a4ad830/expr.ipynb\"><img src=\"../../../../../numbers/number_sets/natural_numbers/__pv_it/theorems/2c629b73e558dcaacbf71c0a050e9fdf89a4ad830/expr.png\" style=\"display:inline;vertical-align:middle;\" /></a></td></tr>\n",
       "<tr><td>4</td><td>Literal</td><td></td><td><a class=\"ProveItLink\" href=\"../../../../../logic/booleans/quantification/universality/__pv_it/common/083d2baa0b8ecab1d230f9ec29a15aa1355809fb0/expr.ipynb\"><img src=\"../../../../../logic/booleans/quantification/universality/__pv_it/common/083d2baa0b8ecab1d230f9ec29a15aa1355809fb0/expr.png\" style=\"display:inline;vertical-align:middle;\" /></a></td></tr>\n",
       "<tr><td>5</td><td>Lambda</td><td>parameters:&nbsp;8<br>body:&nbsp;9<br></td><td><a class=\"ProveItLink\" href=\"../dbd7914bae016f80f1d5c3c0012cfee3bad56bd90/expr.ipynb\"><img src=\"../dbd7914bae016f80f1d5c3c0012cfee3bad56bd90/expr.png\" style=\"display:inline;vertical-align:middle;\" /></a></td></tr>\n",
       "<tr><td>6</td><td>Literal</td><td></td><td><a class=\"ProveItLink\" href=\"../../../../../logic/sets/membership/__pv_it/common/477487d8796864d23d5810f83761435f25167f690/expr.ipynb\"><img src=\"../../../../../logic/sets/membership/__pv_it/common/477487d8796864d23d5810f83761435f25167f690/expr.png\" style=\"display:inline;vertical-align:middle;\" /></a></td></tr>\n",
       "<tr><td>7</td><td>ExprTuple</td><td>25, 10</td><td><a class=\"ProveItLink\" href=\"../../../../../numbers/number_sets/natural_numbers/__pv_it/theorems/443ee719f2afe90923a7e0e147169eb97be9a35c0/expr.ipynb\"><img src=\"../../../../../numbers/number_sets/natural_numbers/__pv_it/theorems/443ee719f2afe90923a7e0e147169eb97be9a35c0/expr.png\" style=\"display:inline;vertical-align:middle;\" /></a></td></tr>\n",
       "<tr><td>8</td><td>ExprTuple</td><td>19, 20</td><td><a class=\"ProveItLink\" href=\"../fe48b295641f2a0c4dd0f45d4891199ed814fa530/expr.ipynb\"><img src=\"../fe48b295641f2a0c4dd0f45d4891199ed814fa530/expr.png\" style=\"display:inline;vertical-align:middle;\" /></a></td></tr>\n",
       "<tr><td>9</td><td>Conditional</td><td>value:&nbsp;11<br>condition:&nbsp;12<br></td><td><a class=\"ProveItLink\" href=\"../76e56f7f5d50d9df048d8ba59adbd4cc78936cac0/expr.ipynb\"><img src=\"../76e56f7f5d50d9df048d8ba59adbd4cc78936cac0/expr.png\" style=\"display:inline;vertical-align:middle;\" /></a></td></tr>\n",
       "<tr><td>10</td><td>Literal</td><td></td><td><a class=\"ProveItLink\" href=\"../../../../../numbers/number_sets/natural_numbers/__pv_it/common/6111329435c43892c831c4793de96afbf80bdb3e0/expr.ipynb\"><img src=\"../../../../../numbers/number_sets/natural_numbers/__pv_it/common/6111329435c43892c831c4793de96afbf80bdb3e0/expr.png\" style=\"display:inline;vertical-align:middle;\" /></a></td></tr>\n",
       "<tr><td>11</td><td>Operation</td><td>operator:&nbsp;29<br>operands:&nbsp;13<br></td><td><a class=\"ProveItLink\" href=\"../fb7839739771e49a4875c59a78bf8b8746c6463a0/expr.ipynb\"><img src=\"../fb7839739771e49a4875c59a78bf8b8746c6463a0/expr.png\" style=\"display:inline;vertical-align:middle;\" /></a></td></tr>\n",
       "<tr><td>12</td><td>Operation</td><td>operator:&nbsp;14<br>operands:&nbsp;15<br></td><td><a class=\"ProveItLink\" href=\"../55f9c168713faeca74ffe490de60665e8f0113300/expr.ipynb\"><img src=\"../55f9c168713faeca74ffe490de60665e8f0113300/expr.png\" style=\"display:inline;vertical-align:middle;\" /></a></td></tr>\n",
       "<tr><td>13</td><td>ExprTuple</td><td>16, 17</td><td><a class=\"ProveItLink\" href=\"../304c8eb27ff9e919d71eccfbb6506482eb480e200/expr.ipynb\"><img src=\"../304c8eb27ff9e919d71eccfbb6506482eb480e200/expr.png\" style=\"display:inline;vertical-align:middle;\" /></a></td></tr>\n",
       "<tr><td>14</td><td>Literal</td><td></td><td><a class=\"ProveItLink\" href=\"../../../../../logic/booleans/conjunction/__pv_it/common/42118ff318bd65d98b1393f64ce7c2269feef76e0/expr.ipynb\"><img src=\"../../../../../logic/booleans/conjunction/__pv_it/common/42118ff318bd65d98b1393f64ce7c2269feef76e0/expr.png\" style=\"display:inline;vertical-align:middle;\" /></a></td></tr>\n",
       "<tr><td>15</td><td>ExprTuple</td><td>18</td><td><a class=\"ProveItLink\" href=\"../03a72bd378ed656b9ae8156e66e2f089378406780/expr.ipynb\"><img src=\"../03a72bd378ed656b9ae8156e66e2f089378406780/expr.png\" style=\"display:inline;vertical-align:middle;\" /></a></td></tr>\n",
       "<tr><td>16</td><td>ExprTuple</td><td>19</td><td><a class=\"ProveItLink\" href=\"../2036224d0d1ac8a9a1638b04db8c3ed69bcc714f0/expr.ipynb\"><img src=\"../2036224d0d1ac8a9a1638b04db8c3ed69bcc714f0/expr.png\" style=\"display:inline;vertical-align:middle;\" /></a></td></tr>\n",
       "<tr><td>17</td><td>ExprTuple</td><td>20</td><td><a class=\"ProveItLink\" href=\"../a44328432dfdaeee7d9cf264595406995b5987870/expr.ipynb\"><img src=\"../a44328432dfdaeee7d9cf264595406995b5987870/expr.png\" style=\"display:inline;vertical-align:middle;\" /></a></td></tr>\n",
       "<tr><td>18</td><td>ExprRange</td><td>lambda_map:&nbsp;21<br>start_index:&nbsp;24<br>end_index:&nbsp;25<br></td><td><a class=\"ProveItLink\" href=\"../b180cd7834e036f83737e417423be57fb18bd05f0/expr.ipynb\"><img src=\"../b180cd7834e036f83737e417423be57fb18bd05f0/expr.png\" style=\"display:inline;vertical-align:middle;\" /></a></td></tr>\n",
       "<tr><td>19</td><td>ExprRange</td><td>lambda_map:&nbsp;22<br>start_index:&nbsp;24<br>end_index:&nbsp;25<br></td><td><a class=\"ProveItLink\" href=\"../0922da9b2c0597634d30d04994b9ee5c3d0b4e3d0/expr.ipynb\"><img src=\"../0922da9b2c0597634d30d04994b9ee5c3d0b4e3d0/expr.png\" style=\"display:inline;vertical-align:middle;\" /></a></td></tr>\n",
       "<tr><td>20</td><td>ExprRange</td><td>lambda_map:&nbsp;23<br>start_index:&nbsp;24<br>end_index:&nbsp;25<br></td><td><a class=\"ProveItLink\" href=\"../8881424ba5dc6f33dc6b73fb4563a84578af50e40/expr.ipynb\"><img src=\"../8881424ba5dc6f33dc6b73fb4563a84578af50e40/expr.png\" style=\"display:inline;vertical-align:middle;\" /></a></td></tr>\n",
       "<tr><td>21</td><td>Lambda</td><td>parameter:&nbsp;36<br>body:&nbsp;26<br></td><td><a class=\"ProveItLink\" href=\"../../theorems/6e89cae2affa2e24c4e843b5084d792f2e5e70a10/expr.ipynb\"><img src=\"../../theorems/6e89cae2affa2e24c4e843b5084d792f2e5e70a10/expr.png\" style=\"display:inline;vertical-align:middle;\" /></a></td></tr>\n",
       "<tr><td>22</td><td>Lambda</td><td>parameter:&nbsp;31<br>body:&nbsp;27<br></td><td><a class=\"ProveItLink\" href=\"../../../../__pv_it/common/9f0c64ef8ae0c02b5dcba32e0fb15bd29f85872a0/expr.ipynb\"><img src=\"../../../../__pv_it/common/9f0c64ef8ae0c02b5dcba32e0fb15bd29f85872a0/expr.png\" style=\"display:inline;vertical-align:middle;\" /></a></td></tr>\n",
       "<tr><td>23</td><td>Lambda</td><td>parameter:&nbsp;31<br>body:&nbsp;28<br></td><td><a class=\"ProveItLink\" href=\"../../../../__pv_it/common/c2df84a66e11f720c679abb1b2e017879a8ed4350/expr.ipynb\"><img src=\"../../../../__pv_it/common/c2df84a66e11f720c679abb1b2e017879a8ed4350/expr.png\" style=\"display:inline;vertical-align:middle;\" /></a></td></tr>\n",
       "<tr><td>24</td><td>Literal</td><td></td><td><a class=\"ProveItLink\" href=\"../../../../../numbers/numerals/__pv_it/common/2778428c7f555b2bdc06aa0530bc142c6e6335100/expr.ipynb\"><img src=\"../../../../../numbers/numerals/__pv_it/common/2778428c7f555b2bdc06aa0530bc142c6e6335100/expr.png\" style=\"display:inline;vertical-align:middle;\" /></a></td></tr>\n",
       "<tr><td>25</td><td>Variable</td><td></td><td><a class=\"ProveItLink\" href=\"../../../../../__pv_it/common/8968bb04eb3f7dfa02353397ce929b025bbd79c20/expr.ipynb\"><img src=\"../../../../../__pv_it/common/8968bb04eb3f7dfa02353397ce929b025bbd79c20/expr.png\" style=\"display:inline;vertical-align:middle;\" /></a></td></tr>\n",
       "<tr><td>26</td><td>Operation</td><td>operator:&nbsp;29<br>operands:&nbsp;30<br></td><td><a class=\"ProveItLink\" href=\"../../theorems/cd53dee383f1cb4c4de3b940c8d2982cc69a275e0/expr.ipynb\"><img src=\"../../theorems/cd53dee383f1cb4c4de3b940c8d2982cc69a275e0/expr.png\" style=\"display:inline;vertical-align:middle;\" /></a></td></tr>\n",
       "<tr><td>27</td><td>IndexedVar</td><td>variable:&nbsp;34<br>index:&nbsp;31<br></td><td><a class=\"ProveItLink\" href=\"../../../../__pv_it/common/ea36c59b79decceeaf696ef762cc9648f9ddbf5c0/expr.ipynb\"><img src=\"../../../../__pv_it/common/ea36c59b79decceeaf696ef762cc9648f9ddbf5c0/expr.png\" style=\"display:inline;vertical-align:middle;\" /></a></td></tr>\n",
       "<tr><td>28</td><td>IndexedVar</td><td>variable:&nbsp;35<br>index:&nbsp;31<br></td><td><a class=\"ProveItLink\" href=\"../../../../__pv_it/common/be357322e6b23f6bdf544b2cf09607618adbd09b0/expr.ipynb\"><img src=\"../../../../__pv_it/common/be357322e6b23f6bdf544b2cf09607618adbd09b0/expr.png\" style=\"display:inline;vertical-align:middle;\" /></a></td></tr>\n",
       "<tr><td>29</td><td>Literal</td><td></td><td><a class=\"ProveItLink\" href=\"../../../../../logic/equality/__pv_it/common/fb96dc12b2aa8801dda64d0132b396c63d1502bb0/expr.ipynb\"><img src=\"../../../../../logic/equality/__pv_it/common/fb96dc12b2aa8801dda64d0132b396c63d1502bb0/expr.png\" style=\"display:inline;vertical-align:middle;\" /></a></td></tr>\n",
       "<tr><td>30</td><td>ExprTuple</td><td>32, 33</td><td><a class=\"ProveItLink\" href=\"../../theorems/5f456b4bc51c829ae20a22f5e70c7e17f31bca830/expr.ipynb\"><img src=\"../../theorems/5f456b4bc51c829ae20a22f5e70c7e17f31bca830/expr.png\" style=\"display:inline;vertical-align:middle;\" /></a></td></tr>\n",
       "<tr><td>31</td><td>Variable</td><td></td><td><a class=\"ProveItLink\" href=\"../../../../__pv_it/common/006c465e50948aa2b52285e2de47974f741255cc0/expr.ipynb\"><img src=\"../../../../__pv_it/common/006c465e50948aa2b52285e2de47974f741255cc0/expr.png\" style=\"display:inline;vertical-align:middle;\" /></a></td></tr>\n",
       "<tr><td>32</td><td>IndexedVar</td><td>variable:&nbsp;34<br>index:&nbsp;36<br></td><td><a class=\"ProveItLink\" href=\"../../theorems/3d7141ed2fe50363421809925c1e7fc69188ccea0/expr.ipynb\"><img src=\"../../theorems/3d7141ed2fe50363421809925c1e7fc69188ccea0/expr.png\" style=\"display:inline;vertical-align:middle;\" /></a></td></tr>\n",
       "<tr><td>33</td><td>IndexedVar</td><td>variable:&nbsp;35<br>index:&nbsp;36<br></td><td><a class=\"ProveItLink\" href=\"../../theorems/64027b822c4b49d2d8fcf8b05437c4513f65adb90/expr.ipynb\"><img src=\"../../theorems/64027b822c4b49d2d8fcf8b05437c4513f65adb90/expr.png\" style=\"display:inline;vertical-align:middle;\" /></a></td></tr>\n",
       "<tr><td>34</td><td>Variable</td><td></td><td><a class=\"ProveItLink\" href=\"../../../../../__pv_it/common/c06c606ec12678c58933ac85412ecadc2ae28be60/expr.ipynb\"><img src=\"../../../../../__pv_it/common/c06c606ec12678c58933ac85412ecadc2ae28be60/expr.png\" style=\"display:inline;vertical-align:middle;\" /></a></td></tr>\n",
       "<tr><td>35</td><td>Variable</td><td></td><td><a class=\"ProveItLink\" href=\"../../../../../__pv_it/common/195236b98c6c564a75b5dbada74b173bc52d5c3e0/expr.ipynb\"><img src=\"../../../../../__pv_it/common/195236b98c6c564a75b5dbada74b173bc52d5c3e0/expr.png\" style=\"display:inline;vertical-align:middle;\" /></a></td></tr>\n",
       "<tr><td>36</td><td>Variable</td><td></td><td><a class=\"ProveItLink\" href=\"../../../../../__pv_it/common/63b7c64bf9ec7a04ecc396c7a1670f3f12fb59490/expr.ipynb\"><img src=\"../../../../../__pv_it/common/63b7c64bf9ec7a04ecc396c7a1670f3f12fb59490/expr.png\" style=\"display:inline;vertical-align:middle;\" /></a></td></tr>\n",
       "</table>\n"
      ],
      "text/plain": [
       "0. n -> {forall_{a_{1}, ..a_{_a}.., a_{n}, b_{1}, ..b_{_a}.., b_{n} | a_{1} = b_{1}, ..a_{k} = b_{k}.., a_{n} = b_{n}} ((a_{1}, ..a_{_a}.., a_{n}) = (b_{1}, ..b_{_a}.., b_{n})) if n in NaturalPos.\n",
       "   core type: Lambda\n",
       "   parameter: 25\n",
       "   body: 1\n",
       "1. {forall_{a_{1}, ..a_{_a}.., a_{n}, b_{1}, ..b_{_a}.., b_{n} | a_{1} = b_{1}, ..a_{k} = b_{k}.., a_{n} = b_{n}} ((a_{1}, ..a_{_a}.., a_{n}) = (b_{1}, ..b_{_a}.., b_{n})) if n in NaturalPos.\n",
       "   core type: Conditional\n",
       "   value: 2\n",
       "   condition: 3\n",
       "2. forall_{a_{1}, ..a_{_a}.., a_{n}, b_{1}, ..b_{_a}.., b_{n} | a_{1} = b_{1}, ..a_{k} = b_{k}.., a_{n} = b_{n}} ((a_{1}, ..a_{_a}.., a_{n}) = (b_{1}, ..b_{_a}.., b_{n}))\n",
       "   core type: Operation\n",
       "   operator: 4\n",
       "   operand: 5\n",
       "3. n in NaturalPos\n",
       "   core type: Operation\n",
       "   operator: 6\n",
       "   operands: 7\n",
       "4. forall\n",
       "   core type: Literal\n",
       "   sub-expressions: \n",
       "5. (a_{1}, ..a_{_a}.., a_{n}, b_{1}, ..b_{_a}.., b_{n}) -> {(a_{1}, ..a_{_a}.., a_{n}) = (b_{1}, ..b_{_a}.., b_{n}) if (a_{1} = b_{1}) and ..(a_{k} = b_{k}).. and (a_{n} = b_{n}).\n",
       "   core type: Lambda\n",
       "   parameters: 8\\n   body: 9\n",
       "6. in\n",
       "   core type: Literal\n",
       "   sub-expressions: \n",
       "7. (n, NaturalPos)\n",
       "   core type: ExprTuple\n",
       "   sub-expressions: 25, 10\n",
       "8. (a_{1}, ..a_{_a}.., a_{n}, b_{1}, ..b_{_a}.., b_{n})\n",
       "   core type: ExprTuple\n",
       "   sub-expressions: 19, 20\n",
       "9. {(a_{1}, ..a_{_a}.., a_{n}) = (b_{1}, ..b_{_a}.., b_{n}) if (a_{1} = b_{1}) and ..(a_{k} = b_{k}).. and (a_{n} = b_{n}).\n",
       "   core type: Conditional\n",
       "   value: 11\n",
       "   condition: 12\n",
       "10. NaturalPos\n",
       "    core type: Literal\n",
       "    sub-expressions: \n",
       "11. (a_{1}, ..a_{_a}.., a_{n}) = (b_{1}, ..b_{_a}.., b_{n})\n",
       "    core type: Operation\n",
       "    operator: 29\n",
       "    operands: 13\n",
       "12. (a_{1} = b_{1}) and ..(a_{k} = b_{k}).. and (a_{n} = b_{n})\n",
       "    core type: Operation\n",
       "    operator: 14\n",
       "    operands: 15\n",
       "13. ((a_{1}, ..a_{_a}.., a_{n}), (b_{1}, ..b_{_a}.., b_{n}))\n",
       "    core type: ExprTuple\n",
       "    sub-expressions: 16, 17\n",
       "14. and\n",
       "    core type: Literal\n",
       "    sub-expressions: \n",
       "15. (a_{1} = b_{1}, ..a_{k} = b_{k}.., a_{n} = b_{n})\n",
       "    core type: ExprTuple\n",
       "    sub-expressions: 18\n",
       "16. (a_{1}, ..a_{_a}.., a_{n})\n",
       "    core type: ExprTuple\n",
       "    sub-expressions: 19\n",
       "17. (b_{1}, ..b_{_a}.., b_{n})\n",
       "    core type: ExprTuple\n",
       "    sub-expressions: 20\n",
       "18. (a_{1} = b_{1}), ..(a_{k} = b_{k}).., (a_{n} = b_{n})\n",
       "    core type: ExprRange\n",
       "    lambda_map: 21\n",
       "    start_index: 24\n",
       "    end_index: 25\n",
       "19. a_{1}, ..a_{_a}.., a_{n}\n",
       "    core type: ExprRange\n",
       "    lambda_map: 22\n",
       "    start_index: 24\n",
       "    end_index: 25\n",
       "20. b_{1}, ..b_{_a}.., b_{n}\n",
       "    core type: ExprRange\n",
       "    lambda_map: 23\n",
       "    start_index: 24\n",
       "    end_index: 25\n",
       "21. k -> (a_{k} = b_{k})\n",
       "    core type: Lambda\n",
       "    parameter: 36\n",
       "    body: 26\n",
       "22. _a -> a_{_a}\n",
       "    core type: Lambda\n",
       "    parameter: 31\n",
       "    body: 27\n",
       "23. _a -> b_{_a}\n",
       "    core type: Lambda\n",
       "    parameter: 31\n",
       "    body: 28\n",
       "24. 1\n",
       "    core type: Literal\n",
       "    sub-expressions: \n",
       "25. n\n",
       "    core type: Variable\n",
       "    sub-expressions: \n",
       "26. a_{k} = b_{k}\n",
       "    core type: Operation\n",
       "    operator: 29\n",
       "    operands: 30\n",
       "27. a_{_a}\n",
       "    core type: IndexedVar\n",
       "variable: 34\n",
       "index: 31\n",
       "28. b_{_a}\n",
       "    core type: IndexedVar\n",
       "variable: 35\n",
       "index: 31\n",
       "29. =\n",
       "    core type: Literal\n",
       "    sub-expressions: \n",
       "30. (a_{k}, b_{k})\n",
       "    core type: ExprTuple\n",
       "    sub-expressions: 32, 33\n",
       "31. _a\n",
       "    core type: Variable\n",
       "    sub-expressions: \n",
       "32. a_{k}\n",
       "    core type: IndexedVar\n",
       "variable: 34\n",
       "index: 36\n",
       "33. b_{k}\n",
       "    core type: IndexedVar\n",
       "variable: 35\n",
       "index: 36\n",
       "34. a\n",
       "    core type: Variable\n",
       "    sub-expressions: \n",
       "35. b\n",
       "    core type: Variable\n",
       "    sub-expressions: \n",
       "36. k\n",
       "    core type: Variable\n",
       "    sub-expressions: "
      ]
     },
     "execution_count": 5,
     "metadata": {},
     "output_type": "execute_result"
    }
   ],
   "source": [
    "# display the expression information\n",
    "expr.expr_info()"
   ]
  },
  {
   "cell_type": "code",
   "execution_count": null,
   "metadata": {},
   "outputs": [],
   "source": []
  }
 ],
 "metadata": {
  "kernelspec": {
   "display_name": "Python 3",
   "language": "python",
   "name": "python3"
  }
 },
 "nbformat": 4,
 "nbformat_minor": 0
}