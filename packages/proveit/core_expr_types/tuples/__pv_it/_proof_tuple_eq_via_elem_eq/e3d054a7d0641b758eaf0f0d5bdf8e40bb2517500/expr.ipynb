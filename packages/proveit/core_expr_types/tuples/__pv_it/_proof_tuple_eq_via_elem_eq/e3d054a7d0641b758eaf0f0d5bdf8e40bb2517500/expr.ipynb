{
 "cells": [
  {
   "cell_type": "markdown",
   "metadata": {},
   "source": [
    "Expression of type <a class=\"ProveItLink\" href=\"../../../../../../../doc/html/api/proveit.ExprTuple.html\">ExprTuple</a>\n",
    "=======================\n",
    "# from the theory of <a class=\"ProveItLink\" href=\"../../../_theory_nbs_/theory.ipynb\">proveit.core_expr_types.tuples</a>"
   ]
  },
  {
   "cell_type": "code",
   "execution_count": 1,
   "metadata": {},
   "outputs": [],
   "source": [
    "import proveit\n",
    "# Automation is not needed when building an expression:\n",
    "proveit.defaults.automation = False # This will speed things up.\n",
    "proveit.defaults.inline_pngs = False # Makes files smaller.\n",
    "%load_expr # Load the stored expression as 'stored_expr'\n",
    "# import Expression classes needed to build the expression\n",
    "from proveit import ExprRange, ExprTuple, IndexedVar, Variable, a, b, k, m\n",
    "from proveit.logic import Equals, Forall, InSet\n",
    "from proveit.numbers import Add, NaturalPos, one"
   ]
  },
  {
   "cell_type": "code",
   "execution_count": 2,
   "metadata": {},
   "outputs": [
    {
     "data": {
      "text/html": [
       "<strong id=\"expr\">expr:</strong> <a class=\"ProveItLink\" href=\"expr.ipynb\"><img src=\"expr.png\" style=\"display:inline;vertical-align:middle;\" /></a><br>"
      ],
      "text/plain": [
       "expr: (m in NaturalPos, forall_{a_{1}, ..a_{_a}.., a_{m}, b_{1}, ..b_{_a}.., b_{m} | a_{1} = b_{1}, ..a_{k} = b_{k}.., a_{m} = b_{m}} ((a_{1}, ..a_{_a}.., a_{m}) = (b_{1}, ..b_{_a}.., b_{m})), a_{1} = b_{1}, ..a_{k} = b_{k}.., a_{m + 1} = b_{m + 1})"
      ]
     },
     "execution_count": 2,
     "metadata": {},
     "output_type": "execute_result"
    }
   ],
   "source": [
    "# build up the expression from sub-expressions\n",
    "sub_expr1 = Variable(\"_a\", latex_format = r\"{_{-}a}\")\n",
    "sub_expr2 = ExprRange(sub_expr1, IndexedVar(a, sub_expr1), one, m)\n",
    "sub_expr3 = ExprRange(sub_expr1, IndexedVar(b, sub_expr1), one, m)\n",
    "sub_expr4 = Equals(IndexedVar(a, k), IndexedVar(b, k))\n",
    "expr = ExprTuple(InSet(m, NaturalPos), Forall([sub_expr2, sub_expr3], Equals([sub_expr2], [sub_expr3]), condition = ExprRange(k, sub_expr4, one, m)), ExprRange(k, sub_expr4, one, Add(m, one)))"
   ]
  },
  {
   "cell_type": "code",
   "execution_count": 3,
   "metadata": {},
   "outputs": [
    {
     "name": "stdout",
     "output_type": "stream",
     "text": [
      "Passed sanity check: expr matches stored_expr\n"
     ]
    }
   ],
   "source": [
    "# check that the built expression is the same as the stored expression\n",
    "assert expr == stored_expr\n",
    "assert expr._style_id == stored_expr._style_id\n",
    "print(\"Passed sanity check: expr matches stored_expr\")"
   ]
  },
  {
   "cell_type": "code",
   "execution_count": 4,
   "metadata": {},
   "outputs": [
    {
     "name": "stdout",
     "output_type": "stream",
     "text": [
      "\\left(m \\in \\mathbb{N}^+, \\forall_{a_{1}, \\ldots, a_{m}, b_{1}, \\ldots, b_{m}~|~a_{1} = b_{1}, \\ldots, a_{m} = b_{m}}~\\left(\\left(a_{1}, \\ldots, a_{m}\\right) = \\left(b_{1}, \\ldots, b_{m}\\right)\\right), a_{1} = b_{1}, \\ldots, a_{m + 1} = b_{m + 1}\\right)\n"
     ]
    }
   ],
   "source": [
    "# Show the LaTeX representation of the expression for convenience if you need it.\n",
    "print(expr.latex())"
   ]
  },
  {
   "cell_type": "code",
   "execution_count": 5,
   "metadata": {},
   "outputs": [
    {
     "data": {
      "text/html": [
       "<table><tr><th>&nbsp;</th><th>core type</th><th>sub-expressions</th><th>expression</th></tr>\n",
       "<tr><td>0</td><td>ExprTuple</td><td>1, 2, 3</td><td><a class=\"ProveItLink\" href=\"expr.ipynb\"><img src=\"expr.png\" style=\"display:inline;vertical-align:middle;\" /></a></td></tr>\n",
       "<tr><td>1</td><td>Operation</td><td>operator:&nbsp;4<br>operands:&nbsp;5<br></td><td><a class=\"ProveItLink\" href=\"../../../../../numbers/number_sets/natural_numbers/__pv_it/theorems/4bc9b82a35918956261d5407364d88047987ad430/expr.ipynb\"><img src=\"../../../../../numbers/number_sets/natural_numbers/__pv_it/theorems/4bc9b82a35918956261d5407364d88047987ad430/expr.png\" style=\"display:inline;vertical-align:middle;\" /></a></td></tr>\n",
       "<tr><td>2</td><td>Operation</td><td>operator:&nbsp;6<br>operand:&nbsp;7<br></td><td><a class=\"ProveItLink\" href=\"../7bf0102b94a3f1d36efe8adc1169c9740bdf6b290/expr.ipynb\"><img src=\"../7bf0102b94a3f1d36efe8adc1169c9740bdf6b290/expr.png\" style=\"display:inline;vertical-align:middle;\" /></a></td></tr>\n",
       "<tr><td>3</td><td>ExprRange</td><td>lambda_map:&nbsp;24<br>start_index:&nbsp;27<br>end_index:&nbsp;8<br></td><td><a class=\"ProveItLink\" href=\"../2c3ae1966f7d3eb7c351f3d56fa373aa666156b80/expr.ipynb\"><img src=\"../2c3ae1966f7d3eb7c351f3d56fa373aa666156b80/expr.png\" style=\"display:inline;vertical-align:middle;\" /></a></td></tr>\n",
       "<tr><td>4</td><td>Literal</td><td></td><td><a class=\"ProveItLink\" href=\"../../../../../logic/sets/membership/__pv_it/common/477487d8796864d23d5810f83761435f25167f690/expr.ipynb\"><img src=\"../../../../../logic/sets/membership/__pv_it/common/477487d8796864d23d5810f83761435f25167f690/expr.png\" style=\"display:inline;vertical-align:middle;\" /></a></td></tr>\n",
       "<tr><td>5</td><td>ExprTuple</td><td>28, 9</td><td><a class=\"ProveItLink\" href=\"../../../../../numbers/number_sets/natural_numbers/__pv_it/theorems/043e59715aeac62085ccdd708e6053fdab35b87c0/expr.ipynb\"><img src=\"../../../../../numbers/number_sets/natural_numbers/__pv_it/theorems/043e59715aeac62085ccdd708e6053fdab35b87c0/expr.png\" style=\"display:inline;vertical-align:middle;\" /></a></td></tr>\n",
       "<tr><td>6</td><td>Literal</td><td></td><td><a class=\"ProveItLink\" href=\"../../../../../logic/booleans/quantification/universality/__pv_it/common/083d2baa0b8ecab1d230f9ec29a15aa1355809fb0/expr.ipynb\"><img src=\"../../../../../logic/booleans/quantification/universality/__pv_it/common/083d2baa0b8ecab1d230f9ec29a15aa1355809fb0/expr.png\" style=\"display:inline;vertical-align:middle;\" /></a></td></tr>\n",
       "<tr><td>7</td><td>Lambda</td><td>parameters:&nbsp;10<br>body:&nbsp;11<br></td><td><a class=\"ProveItLink\" href=\"../e1b346d83d6844ffcb282bb6465664d3173b52150/expr.ipynb\"><img src=\"../e1b346d83d6844ffcb282bb6465664d3173b52150/expr.png\" style=\"display:inline;vertical-align:middle;\" /></a></td></tr>\n",
       "<tr><td>8</td><td>Operation</td><td>operator:&nbsp;12<br>operands:&nbsp;13<br></td><td><a class=\"ProveItLink\" href=\"../../../../../numbers/__pv_it/common/e4061993af513a849b79a657e87a3daf729860f60/expr.ipynb\"><img src=\"../../../../../numbers/__pv_it/common/e4061993af513a849b79a657e87a3daf729860f60/expr.png\" style=\"display:inline;vertical-align:middle;\" /></a></td></tr>\n",
       "<tr><td>9</td><td>Literal</td><td></td><td><a class=\"ProveItLink\" href=\"../../../../../numbers/number_sets/natural_numbers/__pv_it/common/6111329435c43892c831c4793de96afbf80bdb3e0/expr.ipynb\"><img src=\"../../../../../numbers/number_sets/natural_numbers/__pv_it/common/6111329435c43892c831c4793de96afbf80bdb3e0/expr.png\" style=\"display:inline;vertical-align:middle;\" /></a></td></tr>\n",
       "<tr><td>10</td><td>ExprTuple</td><td>22, 23</td><td><a class=\"ProveItLink\" href=\"../b475b9cba7a978974d05cf280e897380745f0e780/expr.ipynb\"><img src=\"../b475b9cba7a978974d05cf280e897380745f0e780/expr.png\" style=\"display:inline;vertical-align:middle;\" /></a></td></tr>\n",
       "<tr><td>11</td><td>Conditional</td><td>value:&nbsp;14<br>condition:&nbsp;15<br></td><td><a class=\"ProveItLink\" href=\"../adb4c05d337f0b2db9e9aeca8ac18d3b23eac44d0/expr.ipynb\"><img src=\"../adb4c05d337f0b2db9e9aeca8ac18d3b23eac44d0/expr.png\" style=\"display:inline;vertical-align:middle;\" /></a></td></tr>\n",
       "<tr><td>12</td><td>Literal</td><td></td><td><a class=\"ProveItLink\" href=\"../../../../../numbers/addition/__pv_it/common/4b7effaab3619a1c2c38fe2dee8601df8ec714590/expr.ipynb\"><img src=\"../../../../../numbers/addition/__pv_it/common/4b7effaab3619a1c2c38fe2dee8601df8ec714590/expr.png\" style=\"display:inline;vertical-align:middle;\" /></a></td></tr>\n",
       "<tr><td>13</td><td>ExprTuple</td><td>28, 27</td><td><a class=\"ProveItLink\" href=\"../../../../../numbers/__pv_it/common/c75997494363a372da41f935d52adeefa2e242a80/expr.ipynb\"><img src=\"../../../../../numbers/__pv_it/common/c75997494363a372da41f935d52adeefa2e242a80/expr.png\" style=\"display:inline;vertical-align:middle;\" /></a></td></tr>\n",
       "<tr><td>14</td><td>Operation</td><td>operator:&nbsp;32<br>operands:&nbsp;16<br></td><td><a class=\"ProveItLink\" href=\"../db78d2f6dd6fcce1d0b065db6a94dd069d50ae8d0/expr.ipynb\"><img src=\"../db78d2f6dd6fcce1d0b065db6a94dd069d50ae8d0/expr.png\" style=\"display:inline;vertical-align:middle;\" /></a></td></tr>\n",
       "<tr><td>15</td><td>Operation</td><td>operator:&nbsp;17<br>operands:&nbsp;18<br></td><td><a class=\"ProveItLink\" href=\"../88e3809e27da4c7f3fb79c71cd1c58a035c0e9ab0/expr.ipynb\"><img src=\"../88e3809e27da4c7f3fb79c71cd1c58a035c0e9ab0/expr.png\" style=\"display:inline;vertical-align:middle;\" /></a></td></tr>\n",
       "<tr><td>16</td><td>ExprTuple</td><td>19, 20</td><td><a class=\"ProveItLink\" href=\"../1d7890e822df2fe1b20a3398ad614cb2c84c53bf0/expr.ipynb\"><img src=\"../1d7890e822df2fe1b20a3398ad614cb2c84c53bf0/expr.png\" style=\"display:inline;vertical-align:middle;\" /></a></td></tr>\n",
       "<tr><td>17</td><td>Literal</td><td></td><td><a class=\"ProveItLink\" href=\"../../../../../logic/booleans/conjunction/__pv_it/common/42118ff318bd65d98b1393f64ce7c2269feef76e0/expr.ipynb\"><img src=\"../../../../../logic/booleans/conjunction/__pv_it/common/42118ff318bd65d98b1393f64ce7c2269feef76e0/expr.png\" style=\"display:inline;vertical-align:middle;\" /></a></td></tr>\n",
       "<tr><td>18</td><td>ExprTuple</td><td>21</td><td><a class=\"ProveItLink\" href=\"../a5919362fe107f365d3fb3cf2bbdf41d90122d710/expr.ipynb\"><img src=\"../a5919362fe107f365d3fb3cf2bbdf41d90122d710/expr.png\" style=\"display:inline;vertical-align:middle;\" /></a></td></tr>\n",
       "<tr><td>19</td><td>ExprTuple</td><td>22</td><td><a class=\"ProveItLink\" href=\"../23c44e05106749a6b980cc55ffd215bccf084b610/expr.ipynb\"><img src=\"../23c44e05106749a6b980cc55ffd215bccf084b610/expr.png\" style=\"display:inline;vertical-align:middle;\" /></a></td></tr>\n",
       "<tr><td>20</td><td>ExprTuple</td><td>23</td><td><a class=\"ProveItLink\" href=\"../ae38fdb01f2474c2ee3dd273dc9c427e12fd648b0/expr.ipynb\"><img src=\"../ae38fdb01f2474c2ee3dd273dc9c427e12fd648b0/expr.png\" style=\"display:inline;vertical-align:middle;\" /></a></td></tr>\n",
       "<tr><td>21</td><td>ExprRange</td><td>lambda_map:&nbsp;24<br>start_index:&nbsp;27<br>end_index:&nbsp;28<br></td><td><a class=\"ProveItLink\" href=\"../93d96a474b1f4c128059e3b2b6f357b7c1d06b690/expr.ipynb\"><img src=\"../93d96a474b1f4c128059e3b2b6f357b7c1d06b690/expr.png\" style=\"display:inline;vertical-align:middle;\" /></a></td></tr>\n",
       "<tr><td>22</td><td>ExprRange</td><td>lambda_map:&nbsp;25<br>start_index:&nbsp;27<br>end_index:&nbsp;28<br></td><td><a class=\"ProveItLink\" href=\"../14847804aec18b241fdd581869bf00cc8e24a0370/expr.ipynb\"><img src=\"../14847804aec18b241fdd581869bf00cc8e24a0370/expr.png\" style=\"display:inline;vertical-align:middle;\" /></a></td></tr>\n",
       "<tr><td>23</td><td>ExprRange</td><td>lambda_map:&nbsp;26<br>start_index:&nbsp;27<br>end_index:&nbsp;28<br></td><td><a class=\"ProveItLink\" href=\"../eca277c885fae075d7d3d43796f9a5e23261393f0/expr.ipynb\"><img src=\"../eca277c885fae075d7d3d43796f9a5e23261393f0/expr.png\" style=\"display:inline;vertical-align:middle;\" /></a></td></tr>\n",
       "<tr><td>24</td><td>Lambda</td><td>parameter:&nbsp;39<br>body:&nbsp;29<br></td><td><a class=\"ProveItLink\" href=\"../../theorems/6e89cae2affa2e24c4e843b5084d792f2e5e70a10/expr.ipynb\"><img src=\"../../theorems/6e89cae2affa2e24c4e843b5084d792f2e5e70a10/expr.png\" style=\"display:inline;vertical-align:middle;\" /></a></td></tr>\n",
       "<tr><td>25</td><td>Lambda</td><td>parameter:&nbsp;34<br>body:&nbsp;30<br></td><td><a class=\"ProveItLink\" href=\"../../../../__pv_it/common/9f0c64ef8ae0c02b5dcba32e0fb15bd29f85872a0/expr.ipynb\"><img src=\"../../../../__pv_it/common/9f0c64ef8ae0c02b5dcba32e0fb15bd29f85872a0/expr.png\" style=\"display:inline;vertical-align:middle;\" /></a></td></tr>\n",
       "<tr><td>26</td><td>Lambda</td><td>parameter:&nbsp;34<br>body:&nbsp;31<br></td><td><a class=\"ProveItLink\" href=\"../../../../__pv_it/common/c2df84a66e11f720c679abb1b2e017879a8ed4350/expr.ipynb\"><img src=\"../../../../__pv_it/common/c2df84a66e11f720c679abb1b2e017879a8ed4350/expr.png\" style=\"display:inline;vertical-align:middle;\" /></a></td></tr>\n",
       "<tr><td>27</td><td>Literal</td><td></td><td><a class=\"ProveItLink\" href=\"../../../../../numbers/numerals/__pv_it/common/2778428c7f555b2bdc06aa0530bc142c6e6335100/expr.ipynb\"><img src=\"../../../../../numbers/numerals/__pv_it/common/2778428c7f555b2bdc06aa0530bc142c6e6335100/expr.png\" style=\"display:inline;vertical-align:middle;\" /></a></td></tr>\n",
       "<tr><td>28</td><td>Variable</td><td></td><td><a class=\"ProveItLink\" href=\"../../../../../__pv_it/common/674a03b9c3ca221b3aabd5636837b31528ff33830/expr.ipynb\"><img src=\"../../../../../__pv_it/common/674a03b9c3ca221b3aabd5636837b31528ff33830/expr.png\" style=\"display:inline;vertical-align:middle;\" /></a></td></tr>\n",
       "<tr><td>29</td><td>Operation</td><td>operator:&nbsp;32<br>operands:&nbsp;33<br></td><td><a class=\"ProveItLink\" href=\"../../theorems/cd53dee383f1cb4c4de3b940c8d2982cc69a275e0/expr.ipynb\"><img src=\"../../theorems/cd53dee383f1cb4c4de3b940c8d2982cc69a275e0/expr.png\" style=\"display:inline;vertical-align:middle;\" /></a></td></tr>\n",
       "<tr><td>30</td><td>IndexedVar</td><td>variable:&nbsp;37<br>index:&nbsp;34<br></td><td><a class=\"ProveItLink\" href=\"../../../../__pv_it/common/ea36c59b79decceeaf696ef762cc9648f9ddbf5c0/expr.ipynb\"><img src=\"../../../../__pv_it/common/ea36c59b79decceeaf696ef762cc9648f9ddbf5c0/expr.png\" style=\"display:inline;vertical-align:middle;\" /></a></td></tr>\n",
       "<tr><td>31</td><td>IndexedVar</td><td>variable:&nbsp;38<br>index:&nbsp;34<br></td><td><a class=\"ProveItLink\" href=\"../../../../__pv_it/common/be357322e6b23f6bdf544b2cf09607618adbd09b0/expr.ipynb\"><img src=\"../../../../__pv_it/common/be357322e6b23f6bdf544b2cf09607618adbd09b0/expr.png\" style=\"display:inline;vertical-align:middle;\" /></a></td></tr>\n",
       "<tr><td>32</td><td>Literal</td><td></td><td><a class=\"ProveItLink\" href=\"../../../../../logic/equality/__pv_it/common/fb96dc12b2aa8801dda64d0132b396c63d1502bb0/expr.ipynb\"><img src=\"../../../../../logic/equality/__pv_it/common/fb96dc12b2aa8801dda64d0132b396c63d1502bb0/expr.png\" style=\"display:inline;vertical-align:middle;\" /></a></td></tr>\n",
       "<tr><td>33</td><td>ExprTuple</td><td>35, 36</td><td><a class=\"ProveItLink\" href=\"../../theorems/5f456b4bc51c829ae20a22f5e70c7e17f31bca830/expr.ipynb\"><img src=\"../../theorems/5f456b4bc51c829ae20a22f5e70c7e17f31bca830/expr.png\" style=\"display:inline;vertical-align:middle;\" /></a></td></tr>\n",
       "<tr><td>34</td><td>Variable</td><td></td><td><a class=\"ProveItLink\" href=\"../../../../__pv_it/common/006c465e50948aa2b52285e2de47974f741255cc0/expr.ipynb\"><img src=\"../../../../__pv_it/common/006c465e50948aa2b52285e2de47974f741255cc0/expr.png\" style=\"display:inline;vertical-align:middle;\" /></a></td></tr>\n",
       "<tr><td>35</td><td>IndexedVar</td><td>variable:&nbsp;37<br>index:&nbsp;39<br></td><td><a class=\"ProveItLink\" href=\"../../theorems/3d7141ed2fe50363421809925c1e7fc69188ccea0/expr.ipynb\"><img src=\"../../theorems/3d7141ed2fe50363421809925c1e7fc69188ccea0/expr.png\" style=\"display:inline;vertical-align:middle;\" /></a></td></tr>\n",
       "<tr><td>36</td><td>IndexedVar</td><td>variable:&nbsp;38<br>index:&nbsp;39<br></td><td><a class=\"ProveItLink\" href=\"../../theorems/64027b822c4b49d2d8fcf8b05437c4513f65adb90/expr.ipynb\"><img src=\"../../theorems/64027b822c4b49d2d8fcf8b05437c4513f65adb90/expr.png\" style=\"display:inline;vertical-align:middle;\" /></a></td></tr>\n",
       "<tr><td>37</td><td>Variable</td><td></td><td><a class=\"ProveItLink\" href=\"../../../../../__pv_it/common/c06c606ec12678c58933ac85412ecadc2ae28be60/expr.ipynb\"><img src=\"../../../../../__pv_it/common/c06c606ec12678c58933ac85412ecadc2ae28be60/expr.png\" style=\"display:inline;vertical-align:middle;\" /></a></td></tr>\n",
       "<tr><td>38</td><td>Variable</td><td></td><td><a class=\"ProveItLink\" href=\"../../../../../__pv_it/common/195236b98c6c564a75b5dbada74b173bc52d5c3e0/expr.ipynb\"><img src=\"../../../../../__pv_it/common/195236b98c6c564a75b5dbada74b173bc52d5c3e0/expr.png\" style=\"display:inline;vertical-align:middle;\" /></a></td></tr>\n",
       "<tr><td>39</td><td>Variable</td><td></td><td><a class=\"ProveItLink\" href=\"../../../../../__pv_it/common/63b7c64bf9ec7a04ecc396c7a1670f3f12fb59490/expr.ipynb\"><img src=\"../../../../../__pv_it/common/63b7c64bf9ec7a04ecc396c7a1670f3f12fb59490/expr.png\" style=\"display:inline;vertical-align:middle;\" /></a></td></tr>\n",
       "</table>\n"
      ],
      "text/plain": [
       "0. (m in NaturalPos, forall_{a_{1}, ..a_{_a}.., a_{m}, b_{1}, ..b_{_a}.., b_{m} | a_{1} = b_{1}, ..a_{k} = b_{k}.., a_{m} = b_{m}} ((a_{1}, ..a_{_a}.., a_{m}) = (b_{1}, ..b_{_a}.., b_{m})), a_{1} = b_{1}, ..a_{k} = b_{k}.., a_{m + 1} = b_{m + 1})\n",
       "   core type: ExprTuple\n",
       "   sub-expressions: 1, 2, 3\n",
       "1. m in NaturalPos\n",
       "   core type: Operation\n",
       "   operator: 4\n",
       "   operands: 5\n",
       "2. forall_{a_{1}, ..a_{_a}.., a_{m}, b_{1}, ..b_{_a}.., b_{m} | a_{1} = b_{1}, ..a_{k} = b_{k}.., a_{m} = b_{m}} ((a_{1}, ..a_{_a}.., a_{m}) = (b_{1}, ..b_{_a}.., b_{m}))\n",
       "   core type: Operation\n",
       "   operator: 6\n",
       "   operand: 7\n",
       "3. (a_{1} = b_{1}), ..(a_{k} = b_{k}).., (a_{m + 1} = b_{m + 1})\n",
       "   core type: ExprRange\n",
       "   lambda_map: 24\n",
       "   start_index: 27\n",
       "   end_index: 8\n",
       "4. in\n",
       "   core type: Literal\n",
       "   sub-expressions: \n",
       "5. (m, NaturalPos)\n",
       "   core type: ExprTuple\n",
       "   sub-expressions: 28, 9\n",
       "6. forall\n",
       "   core type: Literal\n",
       "   sub-expressions: \n",
       "7. (a_{1}, ..a_{_a}.., a_{m}, b_{1}, ..b_{_a}.., b_{m}) -> {(a_{1}, ..a_{_a}.., a_{m}) = (b_{1}, ..b_{_a}.., b_{m}) if (a_{1} = b_{1}) and ..(a_{k} = b_{k}).. and (a_{m} = b_{m}).\n",
       "   core type: Lambda\n",
       "   parameters: 10\\n   body: 11\n",
       "8. m + 1\n",
       "   core type: Operation\n",
       "   operator: 12\n",
       "   operands: 13\n",
       "9. NaturalPos\n",
       "   core type: Literal\n",
       "   sub-expressions: \n",
       "10. (a_{1}, ..a_{_a}.., a_{m}, b_{1}, ..b_{_a}.., b_{m})\n",
       "    core type: ExprTuple\n",
       "    sub-expressions: 22, 23\n",
       "11. {(a_{1}, ..a_{_a}.., a_{m}) = (b_{1}, ..b_{_a}.., b_{m}) if (a_{1} = b_{1}) and ..(a_{k} = b_{k}).. and (a_{m} = b_{m}).\n",
       "    core type: Conditional\n",
       "    value: 14\n",
       "    condition: 15\n",
       "12. +\n",
       "    core type: Literal\n",
       "    sub-expressions: \n",
       "13. (m, 1)\n",
       "    core type: ExprTuple\n",
       "    sub-expressions: 28, 27\n",
       "14. (a_{1}, ..a_{_a}.., a_{m}) = (b_{1}, ..b_{_a}.., b_{m})\n",
       "    core type: Operation\n",
       "    operator: 32\n",
       "    operands: 16\n",
       "15. (a_{1} = b_{1}) and ..(a_{k} = b_{k}).. and (a_{m} = b_{m})\n",
       "    core type: Operation\n",
       "    operator: 17\n",
       "    operands: 18\n",
       "16. ((a_{1}, ..a_{_a}.., a_{m}), (b_{1}, ..b_{_a}.., b_{m}))\n",
       "    core type: ExprTuple\n",
       "    sub-expressions: 19, 20\n",
       "17. and\n",
       "    core type: Literal\n",
       "    sub-expressions: \n",
       "18. (a_{1} = b_{1}, ..a_{k} = b_{k}.., a_{m} = b_{m})\n",
       "    core type: ExprTuple\n",
       "    sub-expressions: 21\n",
       "19. (a_{1}, ..a_{_a}.., a_{m})\n",
       "    core type: ExprTuple\n",
       "    sub-expressions: 22\n",
       "20. (b_{1}, ..b_{_a}.., b_{m})\n",
       "    core type: ExprTuple\n",
       "    sub-expressions: 23\n",
       "21. (a_{1} = b_{1}), ..(a_{k} = b_{k}).., (a_{m} = b_{m})\n",
       "    core type: ExprRange\n",
       "    lambda_map: 24\n",
       "    start_index: 27\n",
       "    end_index: 28\n",
       "22. a_{1}, ..a_{_a}.., a_{m}\n",
       "    core type: ExprRange\n",
       "    lambda_map: 25\n",
       "    start_index: 27\n",
       "    end_index: 28\n",
       "23. b_{1}, ..b_{_a}.., b_{m}\n",
       "    core type: ExprRange\n",
       "    lambda_map: 26\n",
       "    start_index: 27\n",
       "    end_index: 28\n",
       "24. k -> (a_{k} = b_{k})\n",
       "    core type: Lambda\n",
       "    parameter: 39\n",
       "    body: 29\n",
       "25. _a -> a_{_a}\n",
       "    core type: Lambda\n",
       "    parameter: 34\n",
       "    body: 30\n",
       "26. _a -> b_{_a}\n",
       "    core type: Lambda\n",
       "    parameter: 34\n",
       "    body: 31\n",
       "27. 1\n",
       "    core type: Literal\n",
       "    sub-expressions: \n",
       "28. m\n",
       "    core type: Variable\n",
       "    sub-expressions: \n",
       "29. a_{k} = b_{k}\n",
       "    core type: Operation\n",
       "    operator: 32\n",
       "    operands: 33\n",
       "30. a_{_a}\n",
       "    core type: IndexedVar\n",
       "variable: 37\n",
       "index: 34\n",
       "31. b_{_a}\n",
       "    core type: IndexedVar\n",
       "variable: 38\n",
       "index: 34\n",
       "32. =\n",
       "    core type: Literal\n",
       "    sub-expressions: \n",
       "33. (a_{k}, b_{k})\n",
       "    core type: ExprTuple\n",
       "    sub-expressions: 35, 36\n",
       "34. _a\n",
       "    core type: Variable\n",
       "    sub-expressions: \n",
       "35. a_{k}\n",
       "    core type: IndexedVar\n",
       "variable: 37\n",
       "index: 39\n",
       "36. b_{k}\n",
       "    core type: IndexedVar\n",
       "variable: 38\n",
       "index: 39\n",
       "37. a\n",
       "    core type: Variable\n",
       "    sub-expressions: \n",
       "38. b\n",
       "    core type: Variable\n",
       "    sub-expressions: \n",
       "39. k\n",
       "    core type: Variable\n",
       "    sub-expressions: "
      ]
     },
     "execution_count": 5,
     "metadata": {},
     "output_type": "execute_result"
    }
   ],
   "source": [
    "# display the expression information\n",
    "expr.expr_info()"
   ]
  },
  {
   "cell_type": "code",
   "execution_count": null,
   "metadata": {},
   "outputs": [],
   "source": []
  }
 ],
 "metadata": {
  "kernelspec": {
   "display_name": "Python 3",
   "language": "python",
   "name": "python3"
  }
 },
 "nbformat": 4,
 "nbformat_minor": 0
}