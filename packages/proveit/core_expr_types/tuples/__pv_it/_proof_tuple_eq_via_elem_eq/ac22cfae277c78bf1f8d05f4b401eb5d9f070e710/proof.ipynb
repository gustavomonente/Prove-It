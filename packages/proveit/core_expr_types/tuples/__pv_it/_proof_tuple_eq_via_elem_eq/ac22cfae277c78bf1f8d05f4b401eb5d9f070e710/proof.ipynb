{
 "cells": [
  {
   "cell_type": "markdown",
   "metadata": {},
   "source": [
    "Show the Proof\n",
    "========"
   ]
  },
  {
   "cell_type": "code",
   "execution_count": 1,
   "metadata": {},
   "outputs": [
    {
     "data": {
      "text/html": [
       "<table><tr><th>&nbsp;</th><th>step type</th><th>requirements</th><th>statement</th></tr>\n",
       "<tr><td><a name=\"proveit.core_expr_types.tuples._proof_tuple_eq_via_elem_eq.ac22cfae277c78bf1f8d05f4b401eb5d9f070e710_step0\">0</a></td><td>instantiation</td><td><a href=\"#proveit.core_expr_types.tuples._proof_tuple_eq_via_elem_eq.ac22cfae277c78bf1f8d05f4b401eb5d9f070e710_step1\">1</a>, <a href=\"#proveit.core_expr_types.tuples._proof_tuple_eq_via_elem_eq.ac22cfae277c78bf1f8d05f4b401eb5d9f070e710_step2\">2</a>, <a href=\"#proveit.core_expr_types.tuples._proof_tuple_eq_via_elem_eq.ac22cfae277c78bf1f8d05f4b401eb5d9f070e710_step3\">3</a></td><td><span style=\"font-size:20px;\"><a class=\"ProveItLink\" href=\"../ad47c75943b802490135ff8e2211e76180648eed0/expr.ipynb\"><img src=\"../ad47c75943b802490135ff8e2211e76180648eed0/expr.png\" style=\"display:inline;vertical-align:middle;\" /></a> <a class=\"ProveItLink\" href=\"proof.ipynb\" style=\"text-decoration: none\">&nbsp;&#x22A2;&nbsp;&nbsp;</a><a class=\"ProveItLink\" href=\"../f9f2b8500572a97e4a45721bac9395ef453c983b0/expr.ipynb\"><img src=\"../f9f2b8500572a97e4a45721bac9395ef453c983b0/expr.png\" style=\"display:inline;vertical-align:middle;\" /></a></span></td></tr>\n",
       "<tr><td>&nbsp;</td><td colspan=4 style=\"text-align:left\"><span style=\"font-size:20px;\"><a class=\"ProveItLink\" href=\"../../../../../__pv_it/common/e4aad701f7f5516d8e7f0d805d518bf02c13322a0/expr.ipynb\"><img src=\"../../../../../__pv_it/common/e4aad701f7f5516d8e7f0d805d518bf02c13322a0/expr.png\" style=\"display:inline;vertical-align:middle;\" /></a> : <a class=\"ProveItLink\" href=\"../0c42ba8b7361a0d20480fa17e7e31aebb7ad25290/expr.ipynb\"><img src=\"../0c42ba8b7361a0d20480fa17e7e31aebb7ad25290/expr.png\" style=\"display:inline;vertical-align:middle;\" /></a>, <a class=\"ProveItLink\" href=\"../../../../../__pv_it/common/4eca3b30dcf58a58494e201d1b7886d8643a617b0/expr.ipynb\"><img src=\"../../../../../__pv_it/common/4eca3b30dcf58a58494e201d1b7886d8643a617b0/expr.png\" style=\"display:inline;vertical-align:middle;\" /></a> : <a class=\"ProveItLink\" href=\"../ad47c75943b802490135ff8e2211e76180648eed0/expr.ipynb\"><img src=\"../ad47c75943b802490135ff8e2211e76180648eed0/expr.png\" style=\"display:inline;vertical-align:middle;\" /></a></span></td></tr><tr><td><a name=\"proveit.core_expr_types.tuples._proof_tuple_eq_via_elem_eq.ac22cfae277c78bf1f8d05f4b401eb5d9f070e710_step1\">1</a></td><td>theorem</td><td></td><td><span style=\"font-size:20px;\"> <a class=\"ProveItLink\" href=\"../../../../../logic/booleans/conjunction/_theory_nbs_/proofs/and_if_both/thm_proof.ipynb\" style=\"text-decoration: none\">&nbsp;&#x22A2;&nbsp;&nbsp;</a><a class=\"ProveItLink\" href=\"../../../../../logic/booleans/conjunction/__pv_it/theorems/008b0a99de239a049527e6b5d7f3470fecf84f5f0/expr.ipynb\"><img src=\"../../../../../logic/booleans/conjunction/__pv_it/theorems/008b0a99de239a049527e6b5d7f3470fecf84f5f0/expr.png\" style=\"display:inline;vertical-align:middle;\" /></a></span></td></tr>\n",
       "<tr><td>&nbsp;</td><td colspan=4 style-\"text-align:left\"><a class=\"ProveItLink\" href=\"../../../../../logic/booleans/conjunction/_theory_nbs_/proofs/and_if_both/thm_proof.ipynb\">proveit.logic.booleans.conjunction.and_if_both</a></td></tr><tr><td><a name=\"proveit.core_expr_types.tuples._proof_tuple_eq_via_elem_eq.ac22cfae277c78bf1f8d05f4b401eb5d9f070e710_step2\">2</a></td><td>instantiation</td><td><a href=\"#proveit.core_expr_types.tuples._proof_tuple_eq_via_elem_eq.ac22cfae277c78bf1f8d05f4b401eb5d9f070e710_step4\">4</a></td><td><span style=\"font-size:20px;\"> <a class=\"ProveItLink\" href=\"../7701e735be4fe6bd8f54870a3658a0fc0203989c0/proof.ipynb\" style=\"text-decoration: none\">&nbsp;&#x22A2;&nbsp;&nbsp;</a><a class=\"ProveItLink\" href=\"../0c42ba8b7361a0d20480fa17e7e31aebb7ad25290/expr.ipynb\"><img src=\"../0c42ba8b7361a0d20480fa17e7e31aebb7ad25290/expr.png\" style=\"display:inline;vertical-align:middle;\" /></a></span></td></tr>\n",
       "<tr><td>&nbsp;</td><td colspan=4 style=\"text-align:left\"><span style=\"font-size:20px;\"><a class=\"ProveItLink\" href=\"../../../../../__pv_it/common/a2581dc5df71d9a30bad37de14965fa5fec97a240/expr.ipynb\"><img src=\"../../../../../__pv_it/common/a2581dc5df71d9a30bad37de14965fa5fec97a240/expr.png\" style=\"display:inline;vertical-align:middle;\" /></a> : <a class=\"ProveItLink\" href=\"../../axioms/1a4193f1deeaf7a4a6b6289328d46189ae6a257f0/expr.ipynb\"><img src=\"../../axioms/1a4193f1deeaf7a4a6b6289328d46189ae6a257f0/expr.png\" style=\"display:inline;vertical-align:middle;\" /></a></span></td></tr><tr><td><a name=\"proveit.core_expr_types.tuples._proof_tuple_eq_via_elem_eq.ac22cfae277c78bf1f8d05f4b401eb5d9f070e710_step3\">3</a></td><td>assumption</td><td></td><td><span style=\"font-size:20px;\"><a class=\"ProveItLink\" href=\"../ad47c75943b802490135ff8e2211e76180648eed0/expr.ipynb\"><img src=\"../ad47c75943b802490135ff8e2211e76180648eed0/expr.png\" style=\"display:inline;vertical-align:middle;\" /></a> <a class=\"ProveItLink\" href=\"../74c1f935edafb501530019e6df48fa0190b49bca0/proof.ipynb\" style=\"text-decoration: none\">&nbsp;&#x22A2;&nbsp;&nbsp;</a><a class=\"ProveItLink\" href=\"../ad47c75943b802490135ff8e2211e76180648eed0/expr.ipynb\"><img src=\"../ad47c75943b802490135ff8e2211e76180648eed0/expr.png\" style=\"display:inline;vertical-align:middle;\" /></a></span></td></tr>\n",
       "<tr><td><a name=\"proveit.core_expr_types.tuples._proof_tuple_eq_via_elem_eq.ac22cfae277c78bf1f8d05f4b401eb5d9f070e710_step4\">4</a></td><td>axiom</td><td></td><td><span style=\"font-size:20px;\"> <a class=\"ProveItLink\" href=\"../../../../../logic/equality/_theory_nbs_/axioms.ipynb#equals_reflexivity\" style=\"text-decoration: none\">&nbsp;&#x22A2;&nbsp;&nbsp;</a><a class=\"ProveItLink\" href=\"../../../../../logic/equality/__pv_it/axioms/1323d646948b67e1f22d6b53e3da8bd16e1229770/expr.ipynb\"><img src=\"../../../../../logic/equality/__pv_it/axioms/1323d646948b67e1f22d6b53e3da8bd16e1229770/expr.png\" style=\"display:inline;vertical-align:middle;\" /></a></span></td></tr>\n",
       "<tr><td>&nbsp;</td><td colspan=4 style-\"text-align:left\"><a class=\"ProveItLink\" href=\"../../../../../logic/equality/_theory_nbs_/axioms.ipynb#equals_reflexivity\">proveit.logic.equality.equals_reflexivity</a></td></tr></table>"
      ],
      "text/plain": [
       "<proveit._core_.proof._ShowProof at 0x7f92f84a0d68>"
      ]
     },
     "execution_count": 1,
     "metadata": {},
     "output_type": "execute_result"
    }
   ],
   "source": [
    "import proveit\n",
    "# Automation is not needed when only showing a stored proof:\n",
    "proveit.defaults.automation = False # This will speed things up.\n",
    "proveit.defaults.inline_pngs = False # Makes files smaller.\n",
    "%show_proof"
   ]
  },
  {
   "cell_type": "code",
   "execution_count": null,
   "metadata": {},
   "outputs": [],
   "source": []
  }
 ],
 "metadata": {
  "kernelspec": {
   "display_name": "Python 3",
   "language": "python",
   "name": "python3"
  },
  "language_info": {
   "codemirror_mode": {
    "name": "ipython",
    "version": 3
   },
   "file_extension": ".py",
   "mimetype": "text/x-python",
   "name": "python",
   "nbconvert_exporter": "python",
   "pygments_lexer": "ipython3",
   "version": "3.7.3"
  }
 },
 "nbformat": 4,
 "nbformat_minor": 1
}