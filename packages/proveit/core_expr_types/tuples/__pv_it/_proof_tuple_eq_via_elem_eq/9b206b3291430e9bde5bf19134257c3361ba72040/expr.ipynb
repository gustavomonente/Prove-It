{
 "cells": [
  {
   "cell_type": "markdown",
   "metadata": {},
   "source": [
    "Expression of type <a class=\"ProveItLink\" href=\"../../../../../../../doc/html/api/proveit.ExprTuple.html\">ExprTuple</a>\n",
    "=======================\n",
    "# from the theory of <a class=\"ProveItLink\" href=\"../../../_theory_nbs_/theory.ipynb\">proveit.core_expr_types.tuples</a>"
   ]
  },
  {
   "cell_type": "code",
   "execution_count": 1,
   "metadata": {},
   "outputs": [],
   "source": [
    "import proveit\n",
    "# Automation is not needed when building an expression:\n",
    "proveit.defaults.automation = False # This will speed things up.\n",
    "proveit.defaults.inline_pngs = False # Makes files smaller.\n",
    "%load_expr # Load the stored expression as 'stored_expr'\n",
    "# import Expression classes needed to build the expression\n",
    "from proveit import ExprRange, ExprTuple, IndexedVar, Variable, a, m\n",
    "from proveit.core_expr_types import Len\n",
    "from proveit.numbers import one"
   ]
  },
  {
   "cell_type": "code",
   "execution_count": 2,
   "metadata": {},
   "outputs": [
    {
     "data": {
      "text/html": [
       "<strong id=\"expr\">expr:</strong> <a class=\"ProveItLink\" href=\"expr.ipynb\"><img src=\"expr.png\" style=\"display:inline;vertical-align:middle;\" /></a><br>"
      ],
      "text/plain": [
       "expr: (|(a_{1}, ..a_{_a}.., a_{m})|, m)"
      ]
     },
     "execution_count": 2,
     "metadata": {},
     "output_type": "execute_result"
    }
   ],
   "source": [
    "# build up the expression from sub-expressions\n",
    "sub_expr1 = Variable(\"_a\", latex_format = r\"{_{-}a}\")\n",
    "expr = ExprTuple(Len([ExprRange(sub_expr1, IndexedVar(a, sub_expr1), one, m)]), m)"
   ]
  },
  {
   "cell_type": "code",
   "execution_count": 3,
   "metadata": {},
   "outputs": [
    {
     "name": "stdout",
     "output_type": "stream",
     "text": [
      "Passed sanity check: expr matches stored_expr\n"
     ]
    }
   ],
   "source": [
    "# check that the built expression is the same as the stored expression\n",
    "assert expr == stored_expr\n",
    "assert expr._style_id == stored_expr._style_id\n",
    "print(\"Passed sanity check: expr matches stored_expr\")"
   ]
  },
  {
   "cell_type": "code",
   "execution_count": 4,
   "metadata": {},
   "outputs": [
    {
     "name": "stdout",
     "output_type": "stream",
     "text": [
      "\\left(|\\left(a_{1}, \\ldots, a_{m}\\right)|, m\\right)\n"
     ]
    }
   ],
   "source": [
    "# Show the LaTeX representation of the expression for convenience if you need it.\n",
    "print(expr.latex())"
   ]
  },
  {
   "cell_type": "code",
   "execution_count": 5,
   "metadata": {},
   "outputs": [
    {
     "data": {
      "text/html": [
       "<table>\n",
       "<tr><th>name</th><th>description</th><th>default</th><th>current value</th><th>related methods</th></tr><tr><td>wrap_positions</td><td>position(s) at which wrapping is to occur; 'n' is after the nth comma.</td><td>()</td><td>()</td><td>('with_wrapping_at',)</td></tr>\n",
       "<tr><td>justification</td><td>if any wrap positions are set, justify to the 'left', 'center', or 'right'</td><td>left</td><td>left</td><td>('with_justification',)</td></tr>\n",
       "</table>\n"
      ],
      "text/plain": [
       "style name: wrap_positions\n",
       "description: position(s) at which wrapping is to occur; 'n' is after the nth comma.\n",
       "default: ()\n",
       "current value: ()\n",
       "related methods: ('with_wrapping_at',)\n",
       "style name: justification\n",
       "description: if any wrap positions are set, justify to the 'left', 'center', or 'right'\n",
       "default: left\n",
       "current value: left\n",
       "related methods: ('with_justification',)"
      ]
     },
     "execution_count": 5,
     "metadata": {},
     "output_type": "execute_result"
    }
   ],
   "source": [
    "expr.style_options()"
   ]
  },
  {
   "cell_type": "code",
   "execution_count": 6,
   "metadata": {},
   "outputs": [
    {
     "data": {
      "text/html": [
       "<table><tr><th>&nbsp;</th><th>core type</th><th>sub-expressions</th><th>expression</th></tr>\n",
       "<tr><td>0</td><td>ExprTuple</td><td>1, 8</td><td><a class=\"ProveItLink\" href=\"expr.ipynb\"><img src=\"expr.png\" style=\"display:inline;vertical-align:middle;\" /></a></td></tr>\n",
       "<tr><td>1</td><td>Operation</td><td>operator:&nbsp;2<br>operand:&nbsp;4<br></td><td><a class=\"ProveItLink\" href=\"../00a604dfecf0e065b255d06cf84903874579d1720/expr.ipynb\"><img src=\"../00a604dfecf0e065b255d06cf84903874579d1720/expr.png\" style=\"display:inline;vertical-align:middle;\" /></a></td></tr>\n",
       "<tr><td>2</td><td>Literal</td><td></td><td><a class=\"ProveItLink\" href=\"../../common/29138a46bfd9f58652485fe2e3b1ee46d90d773e0/expr.ipynb\"><img src=\"../../common/29138a46bfd9f58652485fe2e3b1ee46d90d773e0/expr.png\" style=\"display:inline;vertical-align:middle;\" /></a></td></tr>\n",
       "<tr><td>3</td><td>ExprTuple</td><td>4</td><td><a class=\"ProveItLink\" href=\"../3254d7efe7d9b2df2bbb47a88eae32f9824f8e510/expr.ipynb\"><img src=\"../3254d7efe7d9b2df2bbb47a88eae32f9824f8e510/expr.png\" style=\"display:inline;vertical-align:middle;\" /></a></td></tr>\n",
       "<tr><td>4</td><td>ExprTuple</td><td>5</td><td><a class=\"ProveItLink\" href=\"../19a260442f940bd9dbf6b9c6e82a0a7f9372a2cc0/expr.ipynb\"><img src=\"../19a260442f940bd9dbf6b9c6e82a0a7f9372a2cc0/expr.png\" style=\"display:inline;vertical-align:middle;\" /></a></td></tr>\n",
       "<tr><td>5</td><td>ExprRange</td><td>lambda_map:&nbsp;6<br>start_index:&nbsp;7<br>end_index:&nbsp;8<br></td><td><a class=\"ProveItLink\" href=\"../e99ac57c59c7f7613c8b4a245e8497111bd08a340/expr.ipynb\"><img src=\"../e99ac57c59c7f7613c8b4a245e8497111bd08a340/expr.png\" style=\"display:inline;vertical-align:middle;\" /></a></td></tr>\n",
       "<tr><td>6</td><td>Lambda</td><td>parameter:&nbsp;12<br>body:&nbsp;9<br></td><td><a class=\"ProveItLink\" href=\"../../../../__pv_it/common/99ea59f1b92e70eddeee736182b1abeb9f49c91b0/expr.ipynb\"><img src=\"../../../../__pv_it/common/99ea59f1b92e70eddeee736182b1abeb9f49c91b0/expr.png\" style=\"display:inline;vertical-align:middle;\" /></a></td></tr>\n",
       "<tr><td>7</td><td>Literal</td><td></td><td><a class=\"ProveItLink\" href=\"../../../../../numbers/numerals/__pv_it/common/d278e359da0695d9652dd541d45264f93703e2e40/expr.ipynb\"><img src=\"../../../../../numbers/numerals/__pv_it/common/d278e359da0695d9652dd541d45264f93703e2e40/expr.png\" style=\"display:inline;vertical-align:middle;\" /></a></td></tr>\n",
       "<tr><td>8</td><td>Variable</td><td></td><td><a class=\"ProveItLink\" href=\"../../../../../__pv_it/common/2dc4f15b3407a25e8d70754a86bf74f1871f92650/expr.ipynb\"><img src=\"../../../../../__pv_it/common/2dc4f15b3407a25e8d70754a86bf74f1871f92650/expr.png\" style=\"display:inline;vertical-align:middle;\" /></a></td></tr>\n",
       "<tr><td>9</td><td>IndexedVar</td><td>variable:&nbsp;10<br>index:&nbsp;12<br></td><td><a class=\"ProveItLink\" href=\"../../../../__pv_it/common/d8d3053e77ba1db68c0cd106952422881db586670/expr.ipynb\"><img src=\"../../../../__pv_it/common/d8d3053e77ba1db68c0cd106952422881db586670/expr.png\" style=\"display:inline;vertical-align:middle;\" /></a></td></tr>\n",
       "<tr><td>10</td><td>Variable</td><td></td><td><a class=\"ProveItLink\" href=\"../../../../../__pv_it/common/66c90e66682f107a881f2d666959f64e2e72ad750/expr.ipynb\"><img src=\"../../../../../__pv_it/common/66c90e66682f107a881f2d666959f64e2e72ad750/expr.png\" style=\"display:inline;vertical-align:middle;\" /></a></td></tr>\n",
       "<tr><td>11</td><td>ExprTuple</td><td>12</td><td><a class=\"ProveItLink\" href=\"../../../../__pv_it/common/ecf50ade416ab41c42c9f4e777b4c862cd9469670/expr.ipynb\"><img src=\"../../../../__pv_it/common/ecf50ade416ab41c42c9f4e777b4c862cd9469670/expr.png\" style=\"display:inline;vertical-align:middle;\" /></a></td></tr>\n",
       "<tr><td>12</td><td>Variable</td><td></td><td><a class=\"ProveItLink\" href=\"../../../../__pv_it/common/9e6d9d5d7eeb0342cf5bca68def0eb165a1a9bb10/expr.ipynb\"><img src=\"../../../../__pv_it/common/9e6d9d5d7eeb0342cf5bca68def0eb165a1a9bb10/expr.png\" style=\"display:inline;vertical-align:middle;\" /></a></td></tr>\n",
       "</table>\n"
      ],
      "text/plain": [
       "0. (|(a_{1}, ..a_{_a}.., a_{m})|, m)\n",
       "   core type: ExprTuple\n",
       "   sub-expressions: 1, 8\n",
       "1. |(a_{1}, ..a_{_a}.., a_{m})|\n",
       "   core type: Operation\n",
       "   operator: 2\n",
       "   operand: 4\n",
       "2. length\n",
       "   core type: Literal\n",
       "   sub-expressions: \n",
       "3. ((a_{1}, ..a_{_a}.., a_{m}))\n",
       "   core type: ExprTuple\n",
       "   sub-expressions: 4\n",
       "4. (a_{1}, ..a_{_a}.., a_{m})\n",
       "   core type: ExprTuple\n",
       "   sub-expressions: 5\n",
       "5. a_{1}, ..a_{_a}.., a_{m}\n",
       "   core type: ExprRange\n",
       "   lambda_map: 6\n",
       "   start_index: 7\n",
       "   end_index: 8\n",
       "6. _a -> a_{_a}\n",
       "   core type: Lambda\n",
       "   parameter: 12\n",
       "   body: 9\n",
       "7. 1\n",
       "   core type: Literal\n",
       "   sub-expressions: \n",
       "8. m\n",
       "   core type: Variable\n",
       "   sub-expressions: \n",
       "9. a_{_a}\n",
       "   core type: IndexedVar\n",
       "variable: 10\n",
       "index: 12\n",
       "10. a\n",
       "    core type: Variable\n",
       "    sub-expressions: \n",
       "11. (_a)\n",
       "    core type: ExprTuple\n",
       "    sub-expressions: 12\n",
       "12. _a\n",
       "    core type: Variable\n",
       "    sub-expressions: "
      ]
     },
     "execution_count": 6,
     "metadata": {},
     "output_type": "execute_result"
    }
   ],
   "source": [
    "# display the expression information\n",
    "expr.expr_info()"
   ]
  },
  {
   "cell_type": "code",
   "execution_count": null,
   "metadata": {},
   "outputs": [],
   "source": []
  }
 ],
 "metadata": {
  "kernelspec": {
   "display_name": "Python 3",
   "language": "python",
   "name": "python3"
  }
 },
 "nbformat": 4,
 "nbformat_minor": 0
}