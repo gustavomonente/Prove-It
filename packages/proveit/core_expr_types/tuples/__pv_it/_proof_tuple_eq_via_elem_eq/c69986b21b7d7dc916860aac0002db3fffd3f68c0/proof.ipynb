{
 "cells": [
  {
   "cell_type": "markdown",
   "metadata": {},
   "source": [
    "Show the Proof\n",
    "========"
   ]
  },
  {
   "cell_type": "code",
   "execution_count": 1,
   "metadata": {},
   "outputs": [
    {
     "data": {
      "text/html": [
       "<table><tr><th>&nbsp;</th><th>step type</th><th>requirements</th><th>statement</th></tr>\n",
       "<tr><td><a name=\"proveit.core_expr_types.tuples._proof_tuple_eq_via_elem_eq.c69986b21b7d7dc916860aac0002db3fffd3f68c0_step0\">0</a></td><td>instantiation</td><td><a href=\"#proveit.core_expr_types.tuples._proof_tuple_eq_via_elem_eq.c69986b21b7d7dc916860aac0002db3fffd3f68c0_step1\">1</a>, <a href=\"#proveit.core_expr_types.tuples._proof_tuple_eq_via_elem_eq.c69986b21b7d7dc916860aac0002db3fffd3f68c0_step2\">2</a>, <a href=\"#proveit.core_expr_types.tuples._proof_tuple_eq_via_elem_eq.c69986b21b7d7dc916860aac0002db3fffd3f68c0_step3\">3</a></td><td><span style=\"font-size:20px;\"><a class=\"ProveItLink\" href=\"../f80f234a5c0dc94e48f57b6a17167aaf1c089cbc0/expr.ipynb\"><img src=\"../f80f234a5c0dc94e48f57b6a17167aaf1c089cbc0/expr.png\" style=\"display:inline;vertical-align:middle;\" /></a> <a class=\"ProveItLink\" href=\"proof.ipynb\" style=\"text-decoration: none\">&nbsp;&#x22A2;&nbsp;&nbsp;</a><a class=\"ProveItLink\" href=\"../fe74b7b35ea98e10f3e6af94f6f61614b9fc3de50/expr.ipynb\"><img src=\"../fe74b7b35ea98e10f3e6af94f6f61614b9fc3de50/expr.png\" style=\"display:inline;vertical-align:middle;\" /></a></span></td></tr>\n",
       "<tr><td>&nbsp;</td><td colspan=4 style=\"text-align:left\"><span style=\"font-size:20px;\"><a class=\"ProveItLink\" href=\"../../../../../__pv_it/common/09585084922504426caf1db2ff588a23a0932a960/expr.ipynb\"><img src=\"../../../../../__pv_it/common/09585084922504426caf1db2ff588a23a0932a960/expr.png\" style=\"display:inline;vertical-align:middle;\" /></a> : <a class=\"ProveItLink\" href=\"../58db7ac855c3a7ec4af7d006b7962317641071b10/expr.ipynb\"><img src=\"../58db7ac855c3a7ec4af7d006b7962317641071b10/expr.png\" style=\"display:inline;vertical-align:middle;\" /></a>, <a class=\"ProveItLink\" href=\"../../../../../__pv_it/common/a9162d1c3cc0470c02e5daf414500903a7a419230/expr.ipynb\"><img src=\"../../../../../__pv_it/common/a9162d1c3cc0470c02e5daf414500903a7a419230/expr.png\" style=\"display:inline;vertical-align:middle;\" /></a> : <a class=\"ProveItLink\" href=\"../f80f234a5c0dc94e48f57b6a17167aaf1c089cbc0/expr.ipynb\"><img src=\"../f80f234a5c0dc94e48f57b6a17167aaf1c089cbc0/expr.png\" style=\"display:inline;vertical-align:middle;\" /></a></span></td></tr><tr><td><a name=\"proveit.core_expr_types.tuples._proof_tuple_eq_via_elem_eq.c69986b21b7d7dc916860aac0002db3fffd3f68c0_step1\">1</a></td><td>theorem</td><td></td><td><span style=\"font-size:20px;\"> <a class=\"ProveItLink\" href=\"../../../../../logic/booleans/conjunction/_theory_nbs_/proofs/and_if_both/thm_proof.ipynb\" style=\"text-decoration: none\">&nbsp;&#x22A2;&nbsp;&nbsp;</a><a class=\"ProveItLink\" href=\"../../../../../logic/booleans/conjunction/__pv_it/theorems/476a12431311272afdc4871f98066dc5006610aa0/expr.ipynb\"><img src=\"../../../../../logic/booleans/conjunction/__pv_it/theorems/476a12431311272afdc4871f98066dc5006610aa0/expr.png\" style=\"display:inline;vertical-align:middle;\" /></a></span></td></tr>\n",
       "<tr><td>&nbsp;</td><td colspan=4 style-\"text-align:left\"><a class=\"ProveItLink\" href=\"../../../../../logic/booleans/conjunction/_theory_nbs_/proofs/and_if_both/thm_proof.ipynb\">proveit.logic.booleans.conjunction.and_if_both</a></td></tr><tr><td><a name=\"proveit.core_expr_types.tuples._proof_tuple_eq_via_elem_eq.c69986b21b7d7dc916860aac0002db3fffd3f68c0_step2\">2</a></td><td>instantiation</td><td><a href=\"#proveit.core_expr_types.tuples._proof_tuple_eq_via_elem_eq.c69986b21b7d7dc916860aac0002db3fffd3f68c0_step4\">4</a></td><td><span style=\"font-size:20px;\"> <a class=\"ProveItLink\" href=\"../350fbeda014bde7e23f5121f110095d02581079c0/proof.ipynb\" style=\"text-decoration: none\">&nbsp;&#x22A2;&nbsp;&nbsp;</a><a class=\"ProveItLink\" href=\"../58db7ac855c3a7ec4af7d006b7962317641071b10/expr.ipynb\"><img src=\"../58db7ac855c3a7ec4af7d006b7962317641071b10/expr.png\" style=\"display:inline;vertical-align:middle;\" /></a></span></td></tr>\n",
       "<tr><td>&nbsp;</td><td colspan=4 style=\"text-align:left\"><span style=\"font-size:20px;\"><a class=\"ProveItLink\" href=\"../../../../../__pv_it/common/a0d9d672aa5e272d907247690c152cc2c6daafb70/expr.ipynb\"><img src=\"../../../../../__pv_it/common/a0d9d672aa5e272d907247690c152cc2c6daafb70/expr.png\" style=\"display:inline;vertical-align:middle;\" /></a> : <a class=\"ProveItLink\" href=\"../../axioms/4bb7d36ca64d107000d79d4921539d4617258ebf0/expr.ipynb\"><img src=\"../../axioms/4bb7d36ca64d107000d79d4921539d4617258ebf0/expr.png\" style=\"display:inline;vertical-align:middle;\" /></a></span></td></tr><tr><td><a name=\"proveit.core_expr_types.tuples._proof_tuple_eq_via_elem_eq.c69986b21b7d7dc916860aac0002db3fffd3f68c0_step3\">3</a></td><td>assumption</td><td></td><td><span style=\"font-size:20px;\"><a class=\"ProveItLink\" href=\"../f80f234a5c0dc94e48f57b6a17167aaf1c089cbc0/expr.ipynb\"><img src=\"../f80f234a5c0dc94e48f57b6a17167aaf1c089cbc0/expr.png\" style=\"display:inline;vertical-align:middle;\" /></a> <a class=\"ProveItLink\" href=\"../2984382322387755e144a8044ef994ec18a37a420/proof.ipynb\" style=\"text-decoration: none\">&nbsp;&#x22A2;&nbsp;&nbsp;</a><a class=\"ProveItLink\" href=\"../f80f234a5c0dc94e48f57b6a17167aaf1c089cbc0/expr.ipynb\"><img src=\"../f80f234a5c0dc94e48f57b6a17167aaf1c089cbc0/expr.png\" style=\"display:inline;vertical-align:middle;\" /></a></span></td></tr>\n",
       "<tr><td><a name=\"proveit.core_expr_types.tuples._proof_tuple_eq_via_elem_eq.c69986b21b7d7dc916860aac0002db3fffd3f68c0_step4\">4</a></td><td>axiom</td><td></td><td><span style=\"font-size:20px;\"> <a class=\"ProveItLink\" href=\"../../../../../logic/equality/_theory_nbs_/axioms.ipynb#equals_reflexivity\" style=\"text-decoration: none\">&nbsp;&#x22A2;&nbsp;&nbsp;</a><a class=\"ProveItLink\" href=\"../../../../../logic/equality/__pv_it/axioms/0c02b1327017968f316ebce717ba48d58a50c60b0/expr.ipynb\"><img src=\"../../../../../logic/equality/__pv_it/axioms/0c02b1327017968f316ebce717ba48d58a50c60b0/expr.png\" style=\"display:inline;vertical-align:middle;\" /></a></span></td></tr>\n",
       "<tr><td>&nbsp;</td><td colspan=4 style-\"text-align:left\"><a class=\"ProveItLink\" href=\"../../../../../logic/equality/_theory_nbs_/axioms.ipynb#equals_reflexivity\">proveit.logic.equality.equals_reflexivity</a></td></tr></table>"
      ],
      "text/plain": [
       "<proveit._core_.proof._ShowProof at 0x7f22743b1f28>"
      ]
     },
     "execution_count": 1,
     "metadata": {},
     "output_type": "execute_result"
    }
   ],
   "source": [
    "import proveit\n",
    "# Automation is not needed when only showing a stored proof:\n",
    "proveit.defaults.automation = False # This will speed things up.\n",
    "proveit.defaults.inline_pngs = False # Makes files smaller.\n",
    "%show_proof"
   ]
  },
  {
   "cell_type": "code",
   "execution_count": null,
   "metadata": {},
   "outputs": [],
   "source": []
  }
 ],
 "metadata": {
  "kernelspec": {
   "display_name": "Python 3",
   "language": "python",
   "name": "python3"
  },
  "language_info": {
   "codemirror_mode": {
    "name": "ipython",
    "version": 3
   },
   "file_extension": ".py",
   "mimetype": "text/x-python",
   "name": "python",
   "nbconvert_exporter": "python",
   "pygments_lexer": "ipython3",
   "version": "3.7.3"
  }
 },
 "nbformat": 4,
 "nbformat_minor": 1
}