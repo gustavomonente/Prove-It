{
 "cells": [
  {
   "cell_type": "markdown",
   "metadata": {},
   "source": [
    "Expression of type <a class=\"ProveItLink\" href=\"../../../../../../doc/html/api/proveit.logic.And.html\">And</a>\n",
    "=======================\n",
    "# from context <a class=\"ProveItLink\" href=\"../../_context_.ipynb\">proveit.core_expr_types.tuples</a>"
   ]
  },
  {
   "cell_type": "code",
   "execution_count": 1,
   "metadata": {},
   "outputs": [],
   "source": [
    "import proveit\n",
    "# Automation is not needed when building an expression:\n",
    "proveit.defaults.automation = False # This will speed things up.\n",
    "proveit.defaults.inline_pngs = False # Makes files smaller.\n",
    "# import Expression classes needed to build the expression\n",
    "from proveit import ExprRange, IndexedVar\n",
    "from proveit._common_ import a, b, i, k\n",
    "from proveit.logic import And, Equals\n",
    "from proveit.number import one"
   ]
  },
  {
   "cell_type": "code",
   "execution_count": 2,
   "metadata": {},
   "outputs": [
    {
     "data": {
      "text/html": [
       "<strong id=\"expr\">expr:</strong> <a class=\"ProveItLink\" href=\"../88aa27d536f965b125a80d78e3c8c4fd962195d50/expr.ipynb\"><img src=\"../88aa27d536f965b125a80d78e3c8c4fd962195d50/expr.png\" style=\"display:inline;vertical-align:middle;\" /></a><br>"
      ],
      "text/plain": [
       "expr: (a_{1} = b_{1}) and ..(a_{k} = b_{k}).. and (a_{i} = b_{i})"
      ]
     },
     "execution_count": 2,
     "metadata": {},
     "output_type": "execute_result"
    }
   ],
   "source": [
    "# build up the expression from sub-expressions\n",
    "expr = And(ExprRange(k, Equals(IndexedVar(a, k), IndexedVar(b, k)), one, i))"
   ]
  },
  {
   "cell_type": "code",
   "execution_count": 3,
   "metadata": {},
   "outputs": [
    {
     "name": "stdout",
     "output_type": "stream",
     "text": [
      "Passed sanity check: built 'expr' is the same as the stored Expression.\n"
     ]
    }
   ],
   "source": [
    "# check that the built expression is the same as the stored expression\n",
    "%check_expr"
   ]
  },
  {
   "cell_type": "code",
   "execution_count": 4,
   "metadata": {},
   "outputs": [
    {
     "name": "stdout",
     "output_type": "stream",
     "text": [
      "\\left(a_{1} = b_{1}\\right) \\land \\ldots \\land \\left(a_{i} = b_{i}\\right)\n"
     ]
    }
   ],
   "source": [
    "# Show the LaTeX representation of the expression for convenience if you need it.\n",
    "print(expr.latex())"
   ]
  },
  {
   "cell_type": "code",
   "execution_count": 5,
   "metadata": {},
   "outputs": [
    {
     "data": {
      "text/html": [
       "<table><tr><th>&nbsp;</th><th>core type</th><th>sub-expressions</th><th>expression</th></tr>\n",
       "<tr><td>0</td><td>Operation</td><td>operator:&nbsp;1<br>operands:&nbsp;2<br></td><td><a class=\"ProveItLink\" href=\"../88aa27d536f965b125a80d78e3c8c4fd962195d50/expr.ipynb\"><img src=\"../88aa27d536f965b125a80d78e3c8c4fd962195d50/expr.png\" style=\"display:inline;vertical-align:middle;\" /></a></td></tr>\n",
       "<tr><td>1</td><td>Literal</td><td></td><td><a class=\"ProveItLink\" href=\"../../../../logic/boolean/conjunction/__pv_it/f41cc6b553210927c09f19a8a39cdf860a5585930/expr.ipynb\"><img src=\"../../../../logic/boolean/conjunction/__pv_it/f41cc6b553210927c09f19a8a39cdf860a5585930/expr.png\" style=\"display:inline;vertical-align:middle;\" /></a></td></tr>\n",
       "<tr><td>2</td><td>ExprTuple</td><td>3</td><td><a class=\"ProveItLink\" href=\"../b7756ea2df53d641a811b6fef988798804bc13aa0/expr.ipynb\"><img src=\"../b7756ea2df53d641a811b6fef988798804bc13aa0/expr.png\" style=\"display:inline;vertical-align:middle;\" /></a></td></tr>\n",
       "<tr><td>3</td><td>ExprRange</td><td>lambda_map:&nbsp;4<br>start_index:&nbsp;5<br>end_index:&nbsp;6<br></td><td><a class=\"ProveItLink\" href=\"../c211fd8927b6ea2a3235cb0b496209fb43b50b300/expr.ipynb\"><img src=\"../c211fd8927b6ea2a3235cb0b496209fb43b50b300/expr.png\" style=\"display:inline;vertical-align:middle;\" /></a></td></tr>\n",
       "<tr><td>4</td><td>Lambda</td><td>parameter:&nbsp;14<br>body:&nbsp;7<br></td><td><a class=\"ProveItLink\" href=\"../92fab72838081b77cd03a83ec4832afb6e59ab990/expr.ipynb\"><img src=\"../92fab72838081b77cd03a83ec4832afb6e59ab990/expr.png\" style=\"display:inline;vertical-align:middle;\" /></a></td></tr>\n",
       "<tr><td>5</td><td>Literal</td><td></td><td><a class=\"ProveItLink\" href=\"../../../../number/numeral/__pv_it/f086f8c372bd40a2458306ddfdbb29f3dc6f63030/expr.ipynb\"><img src=\"../../../../number/numeral/__pv_it/f086f8c372bd40a2458306ddfdbb29f3dc6f63030/expr.png\" style=\"display:inline;vertical-align:middle;\" /></a></td></tr>\n",
       "<tr><td>6</td><td>Variable</td><td></td><td><a class=\"ProveItLink\" href=\"../../../../__pv_it/557ab5defdcd46aa58168b08767502985122cd490/expr.ipynb\"><img src=\"../../../../__pv_it/557ab5defdcd46aa58168b08767502985122cd490/expr.png\" style=\"display:inline;vertical-align:middle;\" /></a></td></tr>\n",
       "<tr><td>7</td><td>Operation</td><td>operator:&nbsp;8<br>operands:&nbsp;9<br></td><td><a class=\"ProveItLink\" href=\"../da2917d0d11bd0f0556c024afd1e25039b12e4f90/expr.ipynb\"><img src=\"../da2917d0d11bd0f0556c024afd1e25039b12e4f90/expr.png\" style=\"display:inline;vertical-align:middle;\" /></a></td></tr>\n",
       "<tr><td>8</td><td>Literal</td><td></td><td><a class=\"ProveItLink\" href=\"../../../../logic/equality/__pv_it/e16d2caa26a16688b658bdb9c422caf4b84579e10/expr.ipynb\"><img src=\"../../../../logic/equality/__pv_it/e16d2caa26a16688b658bdb9c422caf4b84579e10/expr.png\" style=\"display:inline;vertical-align:middle;\" /></a></td></tr>\n",
       "<tr><td>9</td><td>ExprTuple</td><td>10, 11</td><td><a class=\"ProveItLink\" href=\"../c31aaf64045138a770e871ed28d25d43c91902140/expr.ipynb\"><img src=\"../c31aaf64045138a770e871ed28d25d43c91902140/expr.png\" style=\"display:inline;vertical-align:middle;\" /></a></td></tr>\n",
       "<tr><td>10</td><td>IndexedVar</td><td>variable:&nbsp;12<br>index:&nbsp;14<br></td><td><a class=\"ProveItLink\" href=\"../b293c0ee013c53339b52eb6f97821f06329d44930/expr.ipynb\"><img src=\"../b293c0ee013c53339b52eb6f97821f06329d44930/expr.png\" style=\"display:inline;vertical-align:middle;\" /></a></td></tr>\n",
       "<tr><td>11</td><td>IndexedVar</td><td>variable:&nbsp;13<br>index:&nbsp;14<br></td><td><a class=\"ProveItLink\" href=\"../e07caa39bce44f9ad5993a061b65fae426cffae30/expr.ipynb\"><img src=\"../e07caa39bce44f9ad5993a061b65fae426cffae30/expr.png\" style=\"display:inline;vertical-align:middle;\" /></a></td></tr>\n",
       "<tr><td>12</td><td>Variable</td><td></td><td><a class=\"ProveItLink\" href=\"../../../../__pv_it/a8d4b3a34d2189508f9082853fbac36935714f280/expr.ipynb\"><img src=\"../../../../__pv_it/a8d4b3a34d2189508f9082853fbac36935714f280/expr.png\" style=\"display:inline;vertical-align:middle;\" /></a></td></tr>\n",
       "<tr><td>13</td><td>Variable</td><td></td><td><a class=\"ProveItLink\" href=\"../../../../__pv_it/53e304ff98ebc000dbe3ef224f4637dbafd46ba70/expr.ipynb\"><img src=\"../../../../__pv_it/53e304ff98ebc000dbe3ef224f4637dbafd46ba70/expr.png\" style=\"display:inline;vertical-align:middle;\" /></a></td></tr>\n",
       "<tr><td>14</td><td>Variable</td><td></td><td><a class=\"ProveItLink\" href=\"../../../../__pv_it/273f49450ca25e1b56abbd98a7aef618f8f6c1360/expr.ipynb\"><img src=\"../../../../__pv_it/273f49450ca25e1b56abbd98a7aef618f8f6c1360/expr.png\" style=\"display:inline;vertical-align:middle;\" /></a></td></tr>\n",
       "</table>\n"
      ],
      "text/plain": [
       "0. (a_{1} = b_{1}) and ..(a_{k} = b_{k}).. and (a_{i} = b_{i})\n",
       "   core type: Operation\n",
       "   operator: 1\n",
       "   operands: 2\n",
       "1. and\n",
       "   core type: Literal\n",
       "   sub-expressions: \n",
       "2. (a_{1} = b_{1}, ..a_{k} = b_{k}.., a_{i} = b_{i})\n",
       "   core type: ExprTuple\n",
       "   sub-expressions: 3\n",
       "3. (a_{1} = b_{1}), ..(a_{k} = b_{k}).., (a_{i} = b_{i})\n",
       "   core type: ExprRange\n",
       "   lambda_map: 4\n",
       "   start_index: 5\n",
       "   end_index: 6\n",
       "4. k -> (a_{k} = b_{k})\n",
       "   core type: Lambda\n",
       "   parameter: 14\n",
       "   body: 7\n",
       "5. 1\n",
       "   core type: Literal\n",
       "   sub-expressions: \n",
       "6. i\n",
       "   core type: Variable\n",
       "   sub-expressions: \n",
       "7. a_{k} = b_{k}\n",
       "   core type: Operation\n",
       "   operator: 8\n",
       "   operands: 9\n",
       "8. =\n",
       "   core type: Literal\n",
       "   sub-expressions: \n",
       "9. (a_{k}, b_{k})\n",
       "   core type: ExprTuple\n",
       "   sub-expressions: 10, 11\n",
       "10. a_{k}\n",
       "    core type: IndexedVar\n",
       "variable: 12\n",
       "index: 14\n",
       "11. b_{k}\n",
       "    core type: IndexedVar\n",
       "variable: 13\n",
       "index: 14\n",
       "12. a\n",
       "    core type: Variable\n",
       "    sub-expressions: \n",
       "13. b\n",
       "    core type: Variable\n",
       "    sub-expressions: \n",
       "14. k\n",
       "    core type: Variable\n",
       "    sub-expressions: "
      ]
     },
     "execution_count": 5,
     "metadata": {},
     "output_type": "execute_result"
    }
   ],
   "source": [
    "# display the expression information\n",
    "expr.exprInfo()"
   ]
  },
  {
   "cell_type": "code",
   "execution_count": null,
   "metadata": {},
   "outputs": [],
   "source": []
  }
 ],
 "metadata": {
  "kernelspec": {
   "display_name": "Python 3",
   "language": "python",
   "name": "python3"
  },
  "language_info": {
   "codemirror_mode": {
    "name": "ipython",
    "version": 3
   },
   "file_extension": ".py",
   "mimetype": "text/x-python",
   "name": "python",
   "nbconvert_exporter": "python",
   "pygments_lexer": "ipython3",
   "version": "3.7.3"
  }
 },
 "nbformat": 4,
 "nbformat_minor": 1
}
