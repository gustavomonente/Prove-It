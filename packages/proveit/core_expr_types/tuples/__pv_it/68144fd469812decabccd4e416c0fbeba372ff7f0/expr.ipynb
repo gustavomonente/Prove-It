{
 "cells": [
  {
   "cell_type": "markdown",
   "metadata": {},
   "source": [
    "Expression of type <a class=\"ProveItLink\" href=\"../../../../../../doc/html/api/proveit.logic.And.html\">And</a>\n",
    "=======================\n",
    "# from context <a class=\"ProveItLink\" href=\"../../_context_.ipynb\">proveit.core_expr_types.tuples</a>"
   ]
  },
  {
   "cell_type": "code",
   "execution_count": 1,
   "metadata": {},
   "outputs": [],
   "source": [
    "import proveit\n",
    "# Automation is not needed when building an expression:\n",
    "proveit.defaults.automation = False # This will speed things up.\n",
    "proveit.defaults.inline_pngs = False # Makes files smaller.\n",
    "# import Expression classes needed to build the expression\n",
    "from proveit import ExprRange, IndexedVar, Variable\n",
    "from proveit._common_ import a, b, k, m\n",
    "from proveit.logic import And, Equals, Forall, InSet\n",
    "from proveit.number import NaturalsPos, one"
   ]
  },
  {
   "cell_type": "code",
   "execution_count": 2,
   "metadata": {},
   "outputs": [
    {
     "data": {
      "text/html": [
       "<strong id=\"expr\">expr:</strong> <a class=\"ProveItLink\" href=\"expr.ipynb\"><img src=\"expr.png\" style=\"display:inline;vertical-align:middle;\" /></a><br>"
      ],
      "text/plain": [
       "expr: (m in NaturalsPos) and [forall_{a_{1}, ..a_{_a}.., a_{m}, b_{1}, ..b_{_a}.., b_{m} | a_{1} = b_{1}, ..a_{k} = b_{k}.., a_{m} = b_{m}} ((a_{1}, ..a_{_a}.., a_{m}) = (b_{1}, ..b_{_a}.., b_{m}))]"
      ]
     },
     "execution_count": 2,
     "metadata": {},
     "output_type": "execute_result"
    }
   ],
   "source": [
    "# build up the expression from sub-expressions\n",
    "subExpr1 = Variable(\"_a\", latexFormat = r\"{_{-}a}\")\n",
    "subExpr2 = ExprRange(subExpr1, IndexedVar(a, subExpr1), one, m)\n",
    "subExpr3 = ExprRange(subExpr1, IndexedVar(b, subExpr1), one, m)\n",
    "expr = And(InSet(m, NaturalsPos), Forall([subExpr2, subExpr3], Equals([subExpr2], [subExpr3]), condition = ExprRange(k, Equals(IndexedVar(a, k), IndexedVar(b, k)), one, m)))"
   ]
  },
  {
   "cell_type": "code",
   "execution_count": 3,
   "metadata": {},
   "outputs": [
    {
     "name": "stdout",
     "output_type": "stream",
     "text": [
      "Passed sanity check: built 'expr' is the same as the stored Expression.\n"
     ]
    }
   ],
   "source": [
    "# check that the built expression is the same as the stored expression\n",
    "%check_expr"
   ]
  },
  {
   "cell_type": "code",
   "execution_count": 4,
   "metadata": {},
   "outputs": [
    {
     "name": "stdout",
     "output_type": "stream",
     "text": [
      "\\left(m \\in \\mathbb{N}^+\\right) \\land \\left[\\forall_{a_{1}, \\ldots, a_{m}, b_{1}, \\ldots, b_{m}~|~a_{1} = b_{1}, \\ldots, a_{m} = b_{m}}~\\left(\\left(a_{1}, \\ldots, a_{m}\\right) = \\left(b_{1}, \\ldots, b_{m}\\right)\\right)\\right]\n"
     ]
    }
   ],
   "source": [
    "# Show the LaTeX representation of the expression for convenience if you need it.\n",
    "print(expr.latex())"
   ]
  },
  {
   "cell_type": "code",
   "execution_count": 5,
   "metadata": {},
   "outputs": [
    {
     "data": {
      "text/html": [
       "<table><tr><th>&nbsp;</th><th>core type</th><th>sub-expressions</th><th>expression</th></tr>\n",
       "<tr><td>0</td><td>Operation</td><td>operator:&nbsp;14<br>operands:&nbsp;1<br></td><td><a class=\"ProveItLink\" href=\"expr.ipynb\"><img src=\"expr.png\" style=\"display:inline;vertical-align:middle;\" /></a></td></tr>\n",
       "<tr><td>1</td><td>ExprTuple</td><td>2, 3</td><td><a class=\"ProveItLink\" href=\"../a7dc1a7a94145e5f241b8d1dc89d3783c62286650/expr.ipynb\"><img src=\"../a7dc1a7a94145e5f241b8d1dc89d3783c62286650/expr.png\" style=\"display:inline;vertical-align:middle;\" /></a></td></tr>\n",
       "<tr><td>2</td><td>Operation</td><td>operator:&nbsp;4<br>operands:&nbsp;5<br></td><td><a class=\"ProveItLink\" href=\"../00c4f166702e2c8605a21d18d6f4afa30ce5ae770/expr.ipynb\"><img src=\"../00c4f166702e2c8605a21d18d6f4afa30ce5ae770/expr.png\" style=\"display:inline;vertical-align:middle;\" /></a></td></tr>\n",
       "<tr><td>3</td><td>Operation</td><td>operator:&nbsp;6<br>operand:&nbsp;7<br></td><td><a class=\"ProveItLink\" href=\"../e9d6a5a98bb08e4a552ebe16324297ed1debe74c0/expr.ipynb\"><img src=\"../e9d6a5a98bb08e4a552ebe16324297ed1debe74c0/expr.png\" style=\"display:inline;vertical-align:middle;\" /></a></td></tr>\n",
       "<tr><td>4</td><td>Literal</td><td></td><td><a class=\"ProveItLink\" href=\"../../../../logic/set_theory/membership/__pv_it/7776fc89cb67d0b5b1ec2c0c8e08da5587921ccf0/expr.ipynb\"><img src=\"../../../../logic/set_theory/membership/__pv_it/7776fc89cb67d0b5b1ec2c0c8e08da5587921ccf0/expr.png\" style=\"display:inline;vertical-align:middle;\" /></a></td></tr>\n",
       "<tr><td>5</td><td>ExprTuple</td><td>25, 8</td><td><a class=\"ProveItLink\" href=\"../bb11328f0b34b1a3f0f6a8b2fc1564eaf9723c990/expr.ipynb\"><img src=\"../bb11328f0b34b1a3f0f6a8b2fc1564eaf9723c990/expr.png\" style=\"display:inline;vertical-align:middle;\" /></a></td></tr>\n",
       "<tr><td>6</td><td>Literal</td><td></td><td><a class=\"ProveItLink\" href=\"../../../../logic/boolean/quantification/universal/__pv_it/fd9c772d6675566ed52a6897806f45eb08a4ea910/expr.ipynb\"><img src=\"../../../../logic/boolean/quantification/universal/__pv_it/fd9c772d6675566ed52a6897806f45eb08a4ea910/expr.png\" style=\"display:inline;vertical-align:middle;\" /></a></td></tr>\n",
       "<tr><td>7</td><td>Lambda</td><td>parameters:&nbsp;9<br>body:&nbsp;10<br></td><td><a class=\"ProveItLink\" href=\"../43db1b977f5cf7a205d70fcf2f5605390c15b3270/expr.ipynb\"><img src=\"../43db1b977f5cf7a205d70fcf2f5605390c15b3270/expr.png\" style=\"display:inline;vertical-align:middle;\" /></a></td></tr>\n",
       "<tr><td>8</td><td>Literal</td><td></td><td><a class=\"ProveItLink\" href=\"../../../../number/sets/integer/__pv_it/f6a9f4b6dec6ab4d2dcb6ba1b0ba3cceefc643530/expr.ipynb\"><img src=\"../../../../number/sets/integer/__pv_it/f6a9f4b6dec6ab4d2dcb6ba1b0ba3cceefc643530/expr.png\" style=\"display:inline;vertical-align:middle;\" /></a></td></tr>\n",
       "<tr><td>9</td><td>ExprTuple</td><td>19, 20</td><td><a class=\"ProveItLink\" href=\"../f438a82c74e5d464f8b9bb47295d34f94868c76c0/expr.ipynb\"><img src=\"../f438a82c74e5d464f8b9bb47295d34f94868c76c0/expr.png\" style=\"display:inline;vertical-align:middle;\" /></a></td></tr>\n",
       "<tr><td>10</td><td>Conditional</td><td>value:&nbsp;11<br>condition:&nbsp;12<br></td><td><a class=\"ProveItLink\" href=\"../50080cd4068bbad68ba3ec639363f60450f4b63f0/expr.ipynb\"><img src=\"../50080cd4068bbad68ba3ec639363f60450f4b63f0/expr.png\" style=\"display:inline;vertical-align:middle;\" /></a></td></tr>\n",
       "<tr><td>11</td><td>Operation</td><td>operator:&nbsp;29<br>operands:&nbsp;13<br></td><td><a class=\"ProveItLink\" href=\"../b5bb60303415c3b77be7f9829141cb70c2ac80620/expr.ipynb\"><img src=\"../b5bb60303415c3b77be7f9829141cb70c2ac80620/expr.png\" style=\"display:inline;vertical-align:middle;\" /></a></td></tr>\n",
       "<tr><td>12</td><td>Operation</td><td>operator:&nbsp;14<br>operands:&nbsp;15<br></td><td><a class=\"ProveItLink\" href=\"../95da4d13bd14c1a3367c9cc27bd2cd64e1c6908c0/expr.ipynb\"><img src=\"../95da4d13bd14c1a3367c9cc27bd2cd64e1c6908c0/expr.png\" style=\"display:inline;vertical-align:middle;\" /></a></td></tr>\n",
       "<tr><td>13</td><td>ExprTuple</td><td>16, 17</td><td><a class=\"ProveItLink\" href=\"../380fcf8298582000548c613d11d7d150e72013430/expr.ipynb\"><img src=\"../380fcf8298582000548c613d11d7d150e72013430/expr.png\" style=\"display:inline;vertical-align:middle;\" /></a></td></tr>\n",
       "<tr><td>14</td><td>Literal</td><td></td><td><a class=\"ProveItLink\" href=\"../../../../logic/boolean/conjunction/__pv_it/f41cc6b553210927c09f19a8a39cdf860a5585930/expr.ipynb\"><img src=\"../../../../logic/boolean/conjunction/__pv_it/f41cc6b553210927c09f19a8a39cdf860a5585930/expr.png\" style=\"display:inline;vertical-align:middle;\" /></a></td></tr>\n",
       "<tr><td>15</td><td>ExprTuple</td><td>18</td><td><a class=\"ProveItLink\" href=\"../578967588a0cf3d1625300314461e40192d3227c0/expr.ipynb\"><img src=\"../578967588a0cf3d1625300314461e40192d3227c0/expr.png\" style=\"display:inline;vertical-align:middle;\" /></a></td></tr>\n",
       "<tr><td>16</td><td>ExprTuple</td><td>19</td><td><a class=\"ProveItLink\" href=\"../b1a624785382bc52ffe5cc5a2bb6a12e545c163a0/expr.ipynb\"><img src=\"../b1a624785382bc52ffe5cc5a2bb6a12e545c163a0/expr.png\" style=\"display:inline;vertical-align:middle;\" /></a></td></tr>\n",
       "<tr><td>17</td><td>ExprTuple</td><td>20</td><td><a class=\"ProveItLink\" href=\"../cd73219ffe8b805b77e8e176690304bbf1a60ca90/expr.ipynb\"><img src=\"../cd73219ffe8b805b77e8e176690304bbf1a60ca90/expr.png\" style=\"display:inline;vertical-align:middle;\" /></a></td></tr>\n",
       "<tr><td>18</td><td>ExprRange</td><td>lambda_map:&nbsp;21<br>start_index:&nbsp;24<br>end_index:&nbsp;25<br></td><td><a class=\"ProveItLink\" href=\"../6ad0a288b7282dac919481d69f5fcf980f7c23220/expr.ipynb\"><img src=\"../6ad0a288b7282dac919481d69f5fcf980f7c23220/expr.png\" style=\"display:inline;vertical-align:middle;\" /></a></td></tr>\n",
       "<tr><td>19</td><td>ExprRange</td><td>lambda_map:&nbsp;22<br>start_index:&nbsp;24<br>end_index:&nbsp;25<br></td><td><a class=\"ProveItLink\" href=\"../a2145da5c679cbf5b85303b370e2301da4fac3350/expr.ipynb\"><img src=\"../a2145da5c679cbf5b85303b370e2301da4fac3350/expr.png\" style=\"display:inline;vertical-align:middle;\" /></a></td></tr>\n",
       "<tr><td>20</td><td>ExprRange</td><td>lambda_map:&nbsp;23<br>start_index:&nbsp;24<br>end_index:&nbsp;25<br></td><td><a class=\"ProveItLink\" href=\"../06ab6edfa2f25a00f4fed2de43da28f3d35b43020/expr.ipynb\"><img src=\"../06ab6edfa2f25a00f4fed2de43da28f3d35b43020/expr.png\" style=\"display:inline;vertical-align:middle;\" /></a></td></tr>\n",
       "<tr><td>21</td><td>Lambda</td><td>parameter:&nbsp;36<br>body:&nbsp;26<br></td><td><a class=\"ProveItLink\" href=\"../92fab72838081b77cd03a83ec4832afb6e59ab990/expr.ipynb\"><img src=\"../92fab72838081b77cd03a83ec4832afb6e59ab990/expr.png\" style=\"display:inline;vertical-align:middle;\" /></a></td></tr>\n",
       "<tr><td>22</td><td>Lambda</td><td>parameter:&nbsp;31<br>body:&nbsp;27<br></td><td><a class=\"ProveItLink\" href=\"../c512bca05a0e191e5f76f2677a0e9e227e81e9f10/expr.ipynb\"><img src=\"../c512bca05a0e191e5f76f2677a0e9e227e81e9f10/expr.png\" style=\"display:inline;vertical-align:middle;\" /></a></td></tr>\n",
       "<tr><td>23</td><td>Lambda</td><td>parameter:&nbsp;31<br>body:&nbsp;28<br></td><td><a class=\"ProveItLink\" href=\"../996f2ec6331c8b2d1be4799856e0d232802586e80/expr.ipynb\"><img src=\"../996f2ec6331c8b2d1be4799856e0d232802586e80/expr.png\" style=\"display:inline;vertical-align:middle;\" /></a></td></tr>\n",
       "<tr><td>24</td><td>Literal</td><td></td><td><a class=\"ProveItLink\" href=\"../../../../number/numeral/__pv_it/f086f8c372bd40a2458306ddfdbb29f3dc6f63030/expr.ipynb\"><img src=\"../../../../number/numeral/__pv_it/f086f8c372bd40a2458306ddfdbb29f3dc6f63030/expr.png\" style=\"display:inline;vertical-align:middle;\" /></a></td></tr>\n",
       "<tr><td>25</td><td>Variable</td><td></td><td><a class=\"ProveItLink\" href=\"../../../../__pv_it/6e8a38e9a7e2b6af352562cd77e0eb4751f142620/expr.ipynb\"><img src=\"../../../../__pv_it/6e8a38e9a7e2b6af352562cd77e0eb4751f142620/expr.png\" style=\"display:inline;vertical-align:middle;\" /></a></td></tr>\n",
       "<tr><td>26</td><td>Operation</td><td>operator:&nbsp;29<br>operands:&nbsp;30<br></td><td><a class=\"ProveItLink\" href=\"../da2917d0d11bd0f0556c024afd1e25039b12e4f90/expr.ipynb\"><img src=\"../da2917d0d11bd0f0556c024afd1e25039b12e4f90/expr.png\" style=\"display:inline;vertical-align:middle;\" /></a></td></tr>\n",
       "<tr><td>27</td><td>IndexedVar</td><td>variable:&nbsp;34<br>index:&nbsp;31<br></td><td><a class=\"ProveItLink\" href=\"../976fe6b95e8535cc9e0861bdc030337becead6960/expr.ipynb\"><img src=\"../976fe6b95e8535cc9e0861bdc030337becead6960/expr.png\" style=\"display:inline;vertical-align:middle;\" /></a></td></tr>\n",
       "<tr><td>28</td><td>IndexedVar</td><td>variable:&nbsp;35<br>index:&nbsp;31<br></td><td><a class=\"ProveItLink\" href=\"../9bc57456e5b3b4b9fd388151d23275520992cab00/expr.ipynb\"><img src=\"../9bc57456e5b3b4b9fd388151d23275520992cab00/expr.png\" style=\"display:inline;vertical-align:middle;\" /></a></td></tr>\n",
       "<tr><td>29</td><td>Literal</td><td></td><td><a class=\"ProveItLink\" href=\"../../../../logic/equality/__pv_it/e16d2caa26a16688b658bdb9c422caf4b84579e10/expr.ipynb\"><img src=\"../../../../logic/equality/__pv_it/e16d2caa26a16688b658bdb9c422caf4b84579e10/expr.png\" style=\"display:inline;vertical-align:middle;\" /></a></td></tr>\n",
       "<tr><td>30</td><td>ExprTuple</td><td>32, 33</td><td><a class=\"ProveItLink\" href=\"../c31aaf64045138a770e871ed28d25d43c91902140/expr.ipynb\"><img src=\"../c31aaf64045138a770e871ed28d25d43c91902140/expr.png\" style=\"display:inline;vertical-align:middle;\" /></a></td></tr>\n",
       "<tr><td>31</td><td>Variable</td><td></td><td><a class=\"ProveItLink\" href=\"../1e653f789234b245ee7fea7caad998c139d617410/expr.ipynb\"><img src=\"../1e653f789234b245ee7fea7caad998c139d617410/expr.png\" style=\"display:inline;vertical-align:middle;\" /></a></td></tr>\n",
       "<tr><td>32</td><td>IndexedVar</td><td>variable:&nbsp;34<br>index:&nbsp;36<br></td><td><a class=\"ProveItLink\" href=\"../b293c0ee013c53339b52eb6f97821f06329d44930/expr.ipynb\"><img src=\"../b293c0ee013c53339b52eb6f97821f06329d44930/expr.png\" style=\"display:inline;vertical-align:middle;\" /></a></td></tr>\n",
       "<tr><td>33</td><td>IndexedVar</td><td>variable:&nbsp;35<br>index:&nbsp;36<br></td><td><a class=\"ProveItLink\" href=\"../e07caa39bce44f9ad5993a061b65fae426cffae30/expr.ipynb\"><img src=\"../e07caa39bce44f9ad5993a061b65fae426cffae30/expr.png\" style=\"display:inline;vertical-align:middle;\" /></a></td></tr>\n",
       "<tr><td>34</td><td>Variable</td><td></td><td><a class=\"ProveItLink\" href=\"../../../../__pv_it/a8d4b3a34d2189508f9082853fbac36935714f280/expr.ipynb\"><img src=\"../../../../__pv_it/a8d4b3a34d2189508f9082853fbac36935714f280/expr.png\" style=\"display:inline;vertical-align:middle;\" /></a></td></tr>\n",
       "<tr><td>35</td><td>Variable</td><td></td><td><a class=\"ProveItLink\" href=\"../../../../__pv_it/53e304ff98ebc000dbe3ef224f4637dbafd46ba70/expr.ipynb\"><img src=\"../../../../__pv_it/53e304ff98ebc000dbe3ef224f4637dbafd46ba70/expr.png\" style=\"display:inline;vertical-align:middle;\" /></a></td></tr>\n",
       "<tr><td>36</td><td>Variable</td><td></td><td><a class=\"ProveItLink\" href=\"../../../../__pv_it/273f49450ca25e1b56abbd98a7aef618f8f6c1360/expr.ipynb\"><img src=\"../../../../__pv_it/273f49450ca25e1b56abbd98a7aef618f8f6c1360/expr.png\" style=\"display:inline;vertical-align:middle;\" /></a></td></tr>\n",
       "</table>\n"
      ],
      "text/plain": [
       "0. (m in NaturalsPos) and [forall_{a_{1}, ..a_{_a}.., a_{m}, b_{1}, ..b_{_a}.., b_{m} | a_{1} = b_{1}, ..a_{k} = b_{k}.., a_{m} = b_{m}} ((a_{1}, ..a_{_a}.., a_{m}) = (b_{1}, ..b_{_a}.., b_{m}))]\n",
       "   core type: Operation\n",
       "   operator: 14\n",
       "   operands: 1\n",
       "1. (m in NaturalsPos, forall_{a_{1}, ..a_{_a}.., a_{m}, b_{1}, ..b_{_a}.., b_{m} | a_{1} = b_{1}, ..a_{k} = b_{k}.., a_{m} = b_{m}} ((a_{1}, ..a_{_a}.., a_{m}) = (b_{1}, ..b_{_a}.., b_{m})))\n",
       "   core type: ExprTuple\n",
       "   sub-expressions: 2, 3\n",
       "2. m in NaturalsPos\n",
       "   core type: Operation\n",
       "   operator: 4\n",
       "   operands: 5\n",
       "3. forall_{a_{1}, ..a_{_a}.., a_{m}, b_{1}, ..b_{_a}.., b_{m} | a_{1} = b_{1}, ..a_{k} = b_{k}.., a_{m} = b_{m}} ((a_{1}, ..a_{_a}.., a_{m}) = (b_{1}, ..b_{_a}.., b_{m}))\n",
       "   core type: Operation\n",
       "   operator: 6\n",
       "   operand: 7\n",
       "4. in\n",
       "   core type: Literal\n",
       "   sub-expressions: \n",
       "5. (m, NaturalsPos)\n",
       "   core type: ExprTuple\n",
       "   sub-expressions: 25, 8\n",
       "6. forall\n",
       "   core type: Literal\n",
       "   sub-expressions: \n",
       "7. (a_{1}, ..a_{_a}.., a_{m}, b_{1}, ..b_{_a}.., b_{m}) -> {(a_{1}, ..a_{_a}.., a_{m}) = (b_{1}, ..b_{_a}.., b_{m}) if (a_{1} = b_{1}) and ..(a_{k} = b_{k}).. and (a_{m} = b_{m}).\n",
       "   core type: Lambda\n",
       "   parameters: 9\\n   body: 10\n",
       "8. NaturalsPos\n",
       "   core type: Literal\n",
       "   sub-expressions: \n",
       "9. (a_{1}, ..a_{_a}.., a_{m}, b_{1}, ..b_{_a}.., b_{m})\n",
       "   core type: ExprTuple\n",
       "   sub-expressions: 19, 20\n",
       "10. {(a_{1}, ..a_{_a}.., a_{m}) = (b_{1}, ..b_{_a}.., b_{m}) if (a_{1} = b_{1}) and ..(a_{k} = b_{k}).. and (a_{m} = b_{m}).\n",
       "    core type: Conditional\n",
       "    value: 11\n",
       "    condition: 12\n",
       "11. (a_{1}, ..a_{_a}.., a_{m}) = (b_{1}, ..b_{_a}.., b_{m})\n",
       "    core type: Operation\n",
       "    operator: 29\n",
       "    operands: 13\n",
       "12. (a_{1} = b_{1}) and ..(a_{k} = b_{k}).. and (a_{m} = b_{m})\n",
       "    core type: Operation\n",
       "    operator: 14\n",
       "    operands: 15\n",
       "13. ((a_{1}, ..a_{_a}.., a_{m}), (b_{1}, ..b_{_a}.., b_{m}))\n",
       "    core type: ExprTuple\n",
       "    sub-expressions: 16, 17\n",
       "14. and\n",
       "    core type: Literal\n",
       "    sub-expressions: \n",
       "15. (a_{1} = b_{1}, ..a_{k} = b_{k}.., a_{m} = b_{m})\n",
       "    core type: ExprTuple\n",
       "    sub-expressions: 18\n",
       "16. (a_{1}, ..a_{_a}.., a_{m})\n",
       "    core type: ExprTuple\n",
       "    sub-expressions: 19\n",
       "17. (b_{1}, ..b_{_a}.., b_{m})\n",
       "    core type: ExprTuple\n",
       "    sub-expressions: 20\n",
       "18. (a_{1} = b_{1}), ..(a_{k} = b_{k}).., (a_{m} = b_{m})\n",
       "    core type: ExprRange\n",
       "    lambda_map: 21\n",
       "    start_index: 24\n",
       "    end_index: 25\n",
       "19. a_{1}, ..a_{_a}.., a_{m}\n",
       "    core type: ExprRange\n",
       "    lambda_map: 22\n",
       "    start_index: 24\n",
       "    end_index: 25\n",
       "20. b_{1}, ..b_{_a}.., b_{m}\n",
       "    core type: ExprRange\n",
       "    lambda_map: 23\n",
       "    start_index: 24\n",
       "    end_index: 25\n",
       "21. k -> (a_{k} = b_{k})\n",
       "    core type: Lambda\n",
       "    parameter: 36\n",
       "    body: 26\n",
       "22. _a -> a_{_a}\n",
       "    core type: Lambda\n",
       "    parameter: 31\n",
       "    body: 27\n",
       "23. _a -> b_{_a}\n",
       "    core type: Lambda\n",
       "    parameter: 31\n",
       "    body: 28\n",
       "24. 1\n",
       "    core type: Literal\n",
       "    sub-expressions: \n",
       "25. m\n",
       "    core type: Variable\n",
       "    sub-expressions: \n",
       "26. a_{k} = b_{k}\n",
       "    core type: Operation\n",
       "    operator: 29\n",
       "    operands: 30\n",
       "27. a_{_a}\n",
       "    core type: IndexedVar\n",
       "variable: 34\n",
       "index: 31\n",
       "28. b_{_a}\n",
       "    core type: IndexedVar\n",
       "variable: 35\n",
       "index: 31\n",
       "29. =\n",
       "    core type: Literal\n",
       "    sub-expressions: \n",
       "30. (a_{k}, b_{k})\n",
       "    core type: ExprTuple\n",
       "    sub-expressions: 32, 33\n",
       "31. _a\n",
       "    core type: Variable\n",
       "    sub-expressions: \n",
       "32. a_{k}\n",
       "    core type: IndexedVar\n",
       "variable: 34\n",
       "index: 36\n",
       "33. b_{k}\n",
       "    core type: IndexedVar\n",
       "variable: 35\n",
       "index: 36\n",
       "34. a\n",
       "    core type: Variable\n",
       "    sub-expressions: \n",
       "35. b\n",
       "    core type: Variable\n",
       "    sub-expressions: \n",
       "36. k\n",
       "    core type: Variable\n",
       "    sub-expressions: "
      ]
     },
     "execution_count": 5,
     "metadata": {},
     "output_type": "execute_result"
    }
   ],
   "source": [
    "# display the expression information\n",
    "expr.exprInfo()"
   ]
  },
  {
   "cell_type": "code",
   "execution_count": null,
   "metadata": {},
   "outputs": [],
   "source": []
  }
 ],
 "metadata": {
  "kernelspec": {
   "display_name": "Python 3",
   "language": "python",
   "name": "python3"
  },
  "language_info": {
   "codemirror_mode": {
    "name": "ipython",
    "version": 3
   },
   "file_extension": ".py",
   "mimetype": "text/x-python",
   "name": "python",
   "nbconvert_exporter": "python",
   "pygments_lexer": "ipython3",
   "version": "3.7.3"
  }
 },
 "nbformat": 4,
 "nbformat_minor": 1
}
