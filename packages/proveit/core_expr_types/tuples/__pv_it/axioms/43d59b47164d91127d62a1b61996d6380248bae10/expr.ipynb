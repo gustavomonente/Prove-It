{
 "cells": [
  {
   "cell_type": "markdown",
   "metadata": {},
   "source": [
    "Expression of type <a class=\"ProveItLink\" href=\"../../../../../../../doc/html/api/proveit.Lambda.html\">Lambda</a>\n",
    "=======================\n",
    "# from the theory of <a class=\"ProveItLink\" href=\"../../../_theory_nbs_/theory.ipynb\">proveit.core_expr_types.tuples</a>"
   ]
  },
  {
   "cell_type": "code",
   "execution_count": 1,
   "metadata": {},
   "outputs": [],
   "source": [
    "import proveit\n",
    "# Automation is not needed when building an expression:\n",
    "proveit.defaults.automation = False # This will speed things up.\n",
    "proveit.defaults.inline_pngs = False # Makes files smaller.\n",
    "%load_expr # Load the stored expression as 'stored_expr'\n",
    "# import Expression classes needed to build the expression\n",
    "from proveit import Conditional, Lambda, b, d, i\n",
    "from proveit.core_expr_types import a_1_to_i, c_1_to_i\n",
    "from proveit.logic import And, Equals, Forall, InSet\n",
    "from proveit.numbers import Natural"
   ]
  },
  {
   "cell_type": "code",
   "execution_count": 2,
   "metadata": {},
   "outputs": [
    {
     "data": {
      "text/html": [
       "<strong id=\"expr\">expr:</strong> <a class=\"ProveItLink\" href=\"expr.ipynb\"><img src=\"expr.png\" style=\"display:inline;vertical-align:middle;\" /></a><br>"
      ],
      "text/plain": [
       "expr: i -> {forall_{a_{1}, ..a_{_a}.., a_{i}, b, c_{1}, ..c_{_a}.., c_{i}, d} (((a_{1}, ..a_{_a}.., a_{i}, b) = (c_{1}, ..c_{_a}.., c_{i}, d)) =  \\\\ (((a_{1}, ..a_{_a}.., a_{i}) = (c_{1}, ..c_{_a}.., c_{i})) and (b = d))) if i in Natural."
      ]
     },
     "execution_count": 2,
     "metadata": {},
     "output_type": "execute_result"
    }
   ],
   "source": [
    "# build up the expression from sub-expressions\n",
    "expr = Lambda(i, Conditional(Forall([a_1_to_i, b, c_1_to_i, d], Equals(Equals([a_1_to_i, b], [c_1_to_i, d]), And(Equals([a_1_to_i], [c_1_to_i]), Equals(b, d))).with_wrapping_at(2)), InSet(i, Natural)))"
   ]
  },
  {
   "cell_type": "code",
   "execution_count": 3,
   "metadata": {},
   "outputs": [
    {
     "name": "stdout",
     "output_type": "stream",
     "text": [
      "Passed sanity check: expr matches stored_expr\n"
     ]
    }
   ],
   "source": [
    "# check that the built expression is the same as the stored expression\n",
    "assert expr == stored_expr\n",
    "assert expr._style_id == stored_expr._style_id\n",
    "print(\"Passed sanity check: expr matches stored_expr\")"
   ]
  },
  {
   "cell_type": "code",
   "execution_count": 4,
   "metadata": {},
   "outputs": [
    {
     "name": "stdout",
     "output_type": "stream",
     "text": [
      "i \\mapsto \\left\\{\\forall_{a_{1}, \\ldots, a_{i}, b, c_{1}, \\ldots, c_{i}, d}~\\left(\\begin{array}{c} \\begin{array}{l} \\left(\\left(a_{1}, \\ldots, a_{i}, b\\right) = \\left(c_{1}, \\ldots, c_{i}, d\\right)\\right) =  \\\\ \\left(\\left(\\left(a_{1}, \\ldots, a_{i}\\right) = \\left(c_{1}, \\ldots, c_{i}\\right)\\right) \\land \\left(b = d\\right)\\right) \\end{array} \\end{array}\\right) \\textrm{ if } i \\in \\mathbb{N}\\right..\n"
     ]
    }
   ],
   "source": [
    "# Show the LaTeX representation of the expression for convenience if you need it.\n",
    "print(expr.latex())"
   ]
  },
  {
   "cell_type": "code",
   "execution_count": 5,
   "metadata": {},
   "outputs": [
    {
     "data": {
      "text/html": [
       "no style options"
      ],
      "text/plain": [
       "no style options"
      ]
     },
     "execution_count": 5,
     "metadata": {},
     "output_type": "execute_result"
    }
   ],
   "source": [
    "expr.style_options()"
   ]
  },
  {
   "cell_type": "code",
   "execution_count": 6,
   "metadata": {},
   "outputs": [
    {
     "data": {
      "text/html": [
       "<table><tr><th>&nbsp;</th><th>core type</th><th>sub-expressions</th><th>expression</th></tr>\n",
       "<tr><td>0</td><td>Lambda</td><td>parameter:&nbsp;34<br>body:&nbsp;1<br></td><td><a class=\"ProveItLink\" href=\"expr.ipynb\"><img src=\"expr.png\" style=\"display:inline;vertical-align:middle;\" /></a></td></tr>\n",
       "<tr><td>1</td><td>Conditional</td><td>value:&nbsp;2<br>condition:&nbsp;3<br></td><td><a class=\"ProveItLink\" href=\"../71c25a7f145ee3e46828ef2318893ed67c1d9d6a0/expr.ipynb\"><img src=\"../71c25a7f145ee3e46828ef2318893ed67c1d9d6a0/expr.png\" style=\"display:inline;vertical-align:middle;\" /></a></td></tr>\n",
       "<tr><td>2</td><td>Operation</td><td>operator:&nbsp;4<br>operand:&nbsp;8<br></td><td><a class=\"ProveItLink\" href=\"../30e3e37833dfd90e554d4e5704725bd6c00a6c7c0/expr.ipynb\"><img src=\"../30e3e37833dfd90e554d4e5704725bd6c00a6c7c0/expr.png\" style=\"display:inline;vertical-align:middle;\" /></a></td></tr>\n",
       "<tr><td>3</td><td>Operation</td><td>operator:&nbsp;6<br>operands:&nbsp;7<br></td><td><a class=\"ProveItLink\" href=\"../fcd2b46c59afcc7fb32c4a2119639ff11faa0aea0/expr.ipynb\"><img src=\"../fcd2b46c59afcc7fb32c4a2119639ff11faa0aea0/expr.png\" style=\"display:inline;vertical-align:middle;\" /></a></td></tr>\n",
       "<tr><td>4</td><td>Literal</td><td></td><td><a class=\"ProveItLink\" href=\"../../../../../logic/booleans/quantification/universality/__pv_it/common/684d35ba98fcbf8ca5011f865e530a51e77730630/expr.ipynb\"><img src=\"../../../../../logic/booleans/quantification/universality/__pv_it/common/684d35ba98fcbf8ca5011f865e530a51e77730630/expr.png\" style=\"display:inline;vertical-align:middle;\" /></a></td></tr>\n",
       "<tr><td>5</td><td>ExprTuple</td><td>8</td><td><a class=\"ProveItLink\" href=\"../63441e0470ba804d4dfbb597343f2338d4e61ad50/expr.ipynb\"><img src=\"../63441e0470ba804d4dfbb597343f2338d4e61ad50/expr.png\" style=\"display:inline;vertical-align:middle;\" /></a></td></tr>\n",
       "<tr><td>6</td><td>Literal</td><td></td><td><a class=\"ProveItLink\" href=\"../../../../../logic/sets/membership/__pv_it/common/7171deca84f71f47a6ec7696972d1632274a12880/expr.ipynb\"><img src=\"../../../../../logic/sets/membership/__pv_it/common/7171deca84f71f47a6ec7696972d1632274a12880/expr.png\" style=\"display:inline;vertical-align:middle;\" /></a></td></tr>\n",
       "<tr><td>7</td><td>ExprTuple</td><td>34, 9</td><td><a class=\"ProveItLink\" href=\"../86ec3e8e1e29889fb06e7c39ae8675450a2538b90/expr.ipynb\"><img src=\"../86ec3e8e1e29889fb06e7c39ae8675450a2538b90/expr.png\" style=\"display:inline;vertical-align:middle;\" /></a></td></tr>\n",
       "<tr><td>8</td><td>Lambda</td><td>parameters:&nbsp;10<br>body:&nbsp;11<br></td><td><a class=\"ProveItLink\" href=\"../c6334576f63dff15d4a2227a321c0f1fd7a60aad0/expr.ipynb\"><img src=\"../c6334576f63dff15d4a2227a321c0f1fd7a60aad0/expr.png\" style=\"display:inline;vertical-align:middle;\" /></a></td></tr>\n",
       "<tr><td>9</td><td>Literal</td><td></td><td><a class=\"ProveItLink\" href=\"../../../../../numbers/number_sets/natural_numbers/__pv_it/common/85c8b43c90a7392ebb5459360d343dfa7c7408b50/expr.ipynb\"><img src=\"../../../../../numbers/number_sets/natural_numbers/__pv_it/common/85c8b43c90a7392ebb5459360d343dfa7c7408b50/expr.png\" style=\"display:inline;vertical-align:middle;\" /></a></td></tr>\n",
       "<tr><td>10</td><td>ExprTuple</td><td>29, 27, 30, 28</td><td><a class=\"ProveItLink\" href=\"../b1e85c0e37fbdf3ab56875a015a853bb03404ab00/expr.ipynb\"><img src=\"../b1e85c0e37fbdf3ab56875a015a853bb03404ab00/expr.png\" style=\"display:inline;vertical-align:middle;\" /></a></td></tr>\n",
       "<tr><td>11</td><td>Operation</td><td>operator:&nbsp;23<br>operands:&nbsp;12<br></td><td><a class=\"ProveItLink\" href=\"../88ba2cda3c0330fdb10ebab563a6d9d443ae170b0/expr.ipynb\"><img src=\"../88ba2cda3c0330fdb10ebab563a6d9d443ae170b0/expr.png\" style=\"display:inline;vertical-align:middle;\" /></a></td></tr>\n",
       "<tr><td>12</td><td>ExprTuple</td><td>13, 14</td><td><a class=\"ProveItLink\" href=\"../5d7658a0d852b5049f3850e372ad1fa96718ec8e0/expr.ipynb\"><img src=\"../5d7658a0d852b5049f3850e372ad1fa96718ec8e0/expr.png\" style=\"display:inline;vertical-align:middle;\" /></a></td></tr>\n",
       "<tr><td>13</td><td>Operation</td><td>operator:&nbsp;23<br>operands:&nbsp;15<br></td><td><a class=\"ProveItLink\" href=\"../898ef4df283997d99ef7948277f2564ca80a7dfa0/expr.ipynb\"><img src=\"../898ef4df283997d99ef7948277f2564ca80a7dfa0/expr.png\" style=\"display:inline;vertical-align:middle;\" /></a></td></tr>\n",
       "<tr><td>14</td><td>Operation</td><td>operator:&nbsp;16<br>operands:&nbsp;17<br></td><td><a class=\"ProveItLink\" href=\"../fc79016ff37afe445e7b281b1c46f3c7189bdfe70/expr.ipynb\"><img src=\"../fc79016ff37afe445e7b281b1c46f3c7189bdfe70/expr.png\" style=\"display:inline;vertical-align:middle;\" /></a></td></tr>\n",
       "<tr><td>15</td><td>ExprTuple</td><td>18, 19</td><td><a class=\"ProveItLink\" href=\"../4c6d39cad8605d370ce1bf554a0791135a3441ad0/expr.ipynb\"><img src=\"../4c6d39cad8605d370ce1bf554a0791135a3441ad0/expr.png\" style=\"display:inline;vertical-align:middle;\" /></a></td></tr>\n",
       "<tr><td>16</td><td>Literal</td><td></td><td><a class=\"ProveItLink\" href=\"../../../../../logic/booleans/conjunction/__pv_it/common/26b94b53e70b1d77b70f0d9d4236347db37731060/expr.ipynb\"><img src=\"../../../../../logic/booleans/conjunction/__pv_it/common/26b94b53e70b1d77b70f0d9d4236347db37731060/expr.png\" style=\"display:inline;vertical-align:middle;\" /></a></td></tr>\n",
       "<tr><td>17</td><td>ExprTuple</td><td>20, 21</td><td><a class=\"ProveItLink\" href=\"../9d7398178de5ca2ceb8c9650d2eb95526a1c4c2b0/expr.ipynb\"><img src=\"../9d7398178de5ca2ceb8c9650d2eb95526a1c4c2b0/expr.png\" style=\"display:inline;vertical-align:middle;\" /></a></td></tr>\n",
       "<tr><td>18</td><td>ExprTuple</td><td>29, 27</td><td><a class=\"ProveItLink\" href=\"../../../../__pv_it/common/e05e080d6a23b620a5b3f3846dbc77206afa69d00/expr.ipynb\"><img src=\"../../../../__pv_it/common/e05e080d6a23b620a5b3f3846dbc77206afa69d00/expr.png\" style=\"display:inline;vertical-align:middle;\" /></a></td></tr>\n",
       "<tr><td>19</td><td>ExprTuple</td><td>30, 28</td><td><a class=\"ProveItLink\" href=\"../f9d332efd41326e4a3c171e8c008594442979d1d0/expr.ipynb\"><img src=\"../f9d332efd41326e4a3c171e8c008594442979d1d0/expr.png\" style=\"display:inline;vertical-align:middle;\" /></a></td></tr>\n",
       "<tr><td>20</td><td>Operation</td><td>operator:&nbsp;23<br>operands:&nbsp;22<br></td><td><a class=\"ProveItLink\" href=\"../554707e8863847dcc469c413c248aa8e5ae44f9b0/expr.ipynb\"><img src=\"../554707e8863847dcc469c413c248aa8e5ae44f9b0/expr.png\" style=\"display:inline;vertical-align:middle;\" /></a></td></tr>\n",
       "<tr><td>21</td><td>Operation</td><td>operator:&nbsp;23<br>operands:&nbsp;24<br></td><td><a class=\"ProveItLink\" href=\"../fd95dbdddbbc76c1743b49da1c5199dce06437f30/expr.ipynb\"><img src=\"../fd95dbdddbbc76c1743b49da1c5199dce06437f30/expr.png\" style=\"display:inline;vertical-align:middle;\" /></a></td></tr>\n",
       "<tr><td>22</td><td>ExprTuple</td><td>25, 26</td><td><a class=\"ProveItLink\" href=\"../44917e366e943664fe1364f20b5679221793a1170/expr.ipynb\"><img src=\"../44917e366e943664fe1364f20b5679221793a1170/expr.png\" style=\"display:inline;vertical-align:middle;\" /></a></td></tr>\n",
       "<tr><td>23</td><td>Literal</td><td></td><td><a class=\"ProveItLink\" href=\"../../../../../logic/equality/__pv_it/common/731dd3955b346c1320ed5c0ba7a618bcda61457d0/expr.ipynb\"><img src=\"../../../../../logic/equality/__pv_it/common/731dd3955b346c1320ed5c0ba7a618bcda61457d0/expr.png\" style=\"display:inline;vertical-align:middle;\" /></a></td></tr>\n",
       "<tr><td>24</td><td>ExprTuple</td><td>27, 28</td><td><a class=\"ProveItLink\" href=\"../3df05bc6b86843bbd4212ddbd74eb2962d2c8ff60/expr.ipynb\"><img src=\"../3df05bc6b86843bbd4212ddbd74eb2962d2c8ff60/expr.png\" style=\"display:inline;vertical-align:middle;\" /></a></td></tr>\n",
       "<tr><td>25</td><td>ExprTuple</td><td>29</td><td><a class=\"ProveItLink\" href=\"../../../../__pv_it/common/3278021aa85a27c610b6ccb6e0603f5294ddba510/expr.ipynb\"><img src=\"../../../../__pv_it/common/3278021aa85a27c610b6ccb6e0603f5294ddba510/expr.png\" style=\"display:inline;vertical-align:middle;\" /></a></td></tr>\n",
       "<tr><td>26</td><td>ExprTuple</td><td>30</td><td><a class=\"ProveItLink\" href=\"../08dee9fb2b8bdffd4b97f069d858d67f66c14c910/expr.ipynb\"><img src=\"../08dee9fb2b8bdffd4b97f069d858d67f66c14c910/expr.png\" style=\"display:inline;vertical-align:middle;\" /></a></td></tr>\n",
       "<tr><td>27</td><td>Variable</td><td></td><td><a class=\"ProveItLink\" href=\"../../../../../__pv_it/common/4a5db8cc5c67969ec864bd3ea598be37cb6f5e550/expr.ipynb\"><img src=\"../../../../../__pv_it/common/4a5db8cc5c67969ec864bd3ea598be37cb6f5e550/expr.png\" style=\"display:inline;vertical-align:middle;\" /></a></td></tr>\n",
       "<tr><td>28</td><td>Variable</td><td></td><td><a class=\"ProveItLink\" href=\"../../../../../__pv_it/common/ba27da3f6d5512be14b05498f34744a70c9279220/expr.ipynb\"><img src=\"../../../../../__pv_it/common/ba27da3f6d5512be14b05498f34744a70c9279220/expr.png\" style=\"display:inline;vertical-align:middle;\" /></a></td></tr>\n",
       "<tr><td>29</td><td>ExprRange</td><td>lambda_map:&nbsp;31<br>start_index:&nbsp;33<br>end_index:&nbsp;34<br></td><td><a class=\"ProveItLink\" href=\"../../../../__pv_it/common/a8faf3b27fe552f144fda91135c3a6148ee990d00/expr.ipynb\"><img src=\"../../../../__pv_it/common/a8faf3b27fe552f144fda91135c3a6148ee990d00/expr.png\" style=\"display:inline;vertical-align:middle;\" /></a></td></tr>\n",
       "<tr><td>30</td><td>ExprRange</td><td>lambda_map:&nbsp;32<br>start_index:&nbsp;33<br>end_index:&nbsp;34<br></td><td><a class=\"ProveItLink\" href=\"../../../../__pv_it/common/02adee98e2026ca8ea3916b7b44f05e457dc057d0/expr.ipynb\"><img src=\"../../../../__pv_it/common/02adee98e2026ca8ea3916b7b44f05e457dc057d0/expr.png\" style=\"display:inline;vertical-align:middle;\" /></a></td></tr>\n",
       "<tr><td>31</td><td>Lambda</td><td>parameter:&nbsp;40<br>body:&nbsp;35<br></td><td><a class=\"ProveItLink\" href=\"../../../../__pv_it/common/99ea59f1b92e70eddeee736182b1abeb9f49c91b0/expr.ipynb\"><img src=\"../../../../__pv_it/common/99ea59f1b92e70eddeee736182b1abeb9f49c91b0/expr.png\" style=\"display:inline;vertical-align:middle;\" /></a></td></tr>\n",
       "<tr><td>32</td><td>Lambda</td><td>parameter:&nbsp;40<br>body:&nbsp;36<br></td><td><a class=\"ProveItLink\" href=\"../../../../__pv_it/common/a194210cc943a5475599de362bce34740df0415a0/expr.ipynb\"><img src=\"../../../../__pv_it/common/a194210cc943a5475599de362bce34740df0415a0/expr.png\" style=\"display:inline;vertical-align:middle;\" /></a></td></tr>\n",
       "<tr><td>33</td><td>Literal</td><td></td><td><a class=\"ProveItLink\" href=\"../../../../../numbers/numerals/__pv_it/common/d278e359da0695d9652dd541d45264f93703e2e40/expr.ipynb\"><img src=\"../../../../../numbers/numerals/__pv_it/common/d278e359da0695d9652dd541d45264f93703e2e40/expr.png\" style=\"display:inline;vertical-align:middle;\" /></a></td></tr>\n",
       "<tr><td>34</td><td>Variable</td><td></td><td><a class=\"ProveItLink\" href=\"../../../../../__pv_it/common/575a6156bb1c87c5beeaf38c302b5905ad57f5780/expr.ipynb\"><img src=\"../../../../../__pv_it/common/575a6156bb1c87c5beeaf38c302b5905ad57f5780/expr.png\" style=\"display:inline;vertical-align:middle;\" /></a></td></tr>\n",
       "<tr><td>35</td><td>IndexedVar</td><td>variable:&nbsp;37<br>index:&nbsp;40<br></td><td><a class=\"ProveItLink\" href=\"../../../../__pv_it/common/d8d3053e77ba1db68c0cd106952422881db586670/expr.ipynb\"><img src=\"../../../../__pv_it/common/d8d3053e77ba1db68c0cd106952422881db586670/expr.png\" style=\"display:inline;vertical-align:middle;\" /></a></td></tr>\n",
       "<tr><td>36</td><td>IndexedVar</td><td>variable:&nbsp;38<br>index:&nbsp;40<br></td><td><a class=\"ProveItLink\" href=\"../../../../__pv_it/common/9bc0e9f465041db0a300264677d344fd5e47b7ea0/expr.ipynb\"><img src=\"../../../../__pv_it/common/9bc0e9f465041db0a300264677d344fd5e47b7ea0/expr.png\" style=\"display:inline;vertical-align:middle;\" /></a></td></tr>\n",
       "<tr><td>37</td><td>Variable</td><td></td><td><a class=\"ProveItLink\" href=\"../../../../../__pv_it/common/66c90e66682f107a881f2d666959f64e2e72ad750/expr.ipynb\"><img src=\"../../../../../__pv_it/common/66c90e66682f107a881f2d666959f64e2e72ad750/expr.png\" style=\"display:inline;vertical-align:middle;\" /></a></td></tr>\n",
       "<tr><td>38</td><td>Variable</td><td></td><td><a class=\"ProveItLink\" href=\"../../../../../__pv_it/common/9a9d28748f90dec84e90f2ace4610208194e524e0/expr.ipynb\"><img src=\"../../../../../__pv_it/common/9a9d28748f90dec84e90f2ace4610208194e524e0/expr.png\" style=\"display:inline;vertical-align:middle;\" /></a></td></tr>\n",
       "<tr><td>39</td><td>ExprTuple</td><td>40</td><td><a class=\"ProveItLink\" href=\"../../../../__pv_it/common/ecf50ade416ab41c42c9f4e777b4c862cd9469670/expr.ipynb\"><img src=\"../../../../__pv_it/common/ecf50ade416ab41c42c9f4e777b4c862cd9469670/expr.png\" style=\"display:inline;vertical-align:middle;\" /></a></td></tr>\n",
       "<tr><td>40</td><td>Variable</td><td></td><td><a class=\"ProveItLink\" href=\"../../../../__pv_it/common/9e6d9d5d7eeb0342cf5bca68def0eb165a1a9bb10/expr.ipynb\"><img src=\"../../../../__pv_it/common/9e6d9d5d7eeb0342cf5bca68def0eb165a1a9bb10/expr.png\" style=\"display:inline;vertical-align:middle;\" /></a></td></tr>\n",
       "</table>\n"
      ],
      "text/plain": [
       "0. i -> {forall_{a_{1}, ..a_{_a}.., a_{i}, b, c_{1}, ..c_{_a}.., c_{i}, d} (((a_{1}, ..a_{_a}.., a_{i}, b) = (c_{1}, ..c_{_a}.., c_{i}, d)) =  \\\\ (((a_{1}, ..a_{_a}.., a_{i}) = (c_{1}, ..c_{_a}.., c_{i})) and (b = d))) if i in Natural.\n",
       "   core type: Lambda\n",
       "   parameter: 34\n",
       "   body: 1\n",
       "1. {forall_{a_{1}, ..a_{_a}.., a_{i}, b, c_{1}, ..c_{_a}.., c_{i}, d} (((a_{1}, ..a_{_a}.., a_{i}, b) = (c_{1}, ..c_{_a}.., c_{i}, d)) =  \\\\ (((a_{1}, ..a_{_a}.., a_{i}) = (c_{1}, ..c_{_a}.., c_{i})) and (b = d))) if i in Natural.\n",
       "   core type: Conditional\n",
       "   value: 2\n",
       "   condition: 3\n",
       "2. forall_{a_{1}, ..a_{_a}.., a_{i}, b, c_{1}, ..c_{_a}.., c_{i}, d} (((a_{1}, ..a_{_a}.., a_{i}, b) = (c_{1}, ..c_{_a}.., c_{i}, d)) =  \\\\ (((a_{1}, ..a_{_a}.., a_{i}) = (c_{1}, ..c_{_a}.., c_{i})) and (b = d)))\n",
       "   core type: Operation\n",
       "   operator: 4\n",
       "   operand: 8\n",
       "3. i in Natural\n",
       "   core type: Operation\n",
       "   operator: 6\n",
       "   operands: 7\n",
       "4. forall\n",
       "   core type: Literal\n",
       "   sub-expressions: \n",
       "5. ((a_{1}, ..a_{_a}.., a_{i}, b, c_{1}, ..c_{_a}.., c_{i}, d) -> (((a_{1}, ..a_{_a}.., a_{i}, b) = (c_{1}, ..c_{_a}.., c_{i}, d)) =  \\\\ (((a_{1}, ..a_{_a}.., a_{i}) = (c_{1}, ..c_{_a}.., c_{i})) and (b = d))))\n",
       "   core type: ExprTuple\n",
       "   sub-expressions: 8\n",
       "6. in\n",
       "   core type: Literal\n",
       "   sub-expressions: \n",
       "7. (i, Natural)\n",
       "   core type: ExprTuple\n",
       "   sub-expressions: 34, 9\n",
       "8. (a_{1}, ..a_{_a}.., a_{i}, b, c_{1}, ..c_{_a}.., c_{i}, d) -> (((a_{1}, ..a_{_a}.., a_{i}, b) = (c_{1}, ..c_{_a}.., c_{i}, d)) =  \\\\ (((a_{1}, ..a_{_a}.., a_{i}) = (c_{1}, ..c_{_a}.., c_{i})) and (b = d)))\n",
       "   core type: Lambda\n",
       "   parameters: 10\\n   body: 11\n",
       "9. Natural\n",
       "   core type: Literal\n",
       "   sub-expressions: \n",
       "10. (a_{1}, ..a_{_a}.., a_{i}, b, c_{1}, ..c_{_a}.., c_{i}, d)\n",
       "    core type: ExprTuple\n",
       "    sub-expressions: 29, 27, 30, 28\n",
       "11. ((a_{1}, ..a_{_a}.., a_{i}, b) = (c_{1}, ..c_{_a}.., c_{i}, d)) =  \\\\ (((a_{1}, ..a_{_a}.., a_{i}) = (c_{1}, ..c_{_a}.., c_{i})) and (b = d))\n",
       "    core type: Operation\n",
       "    operator: 23\n",
       "    operands: 12\n",
       "12. ((a_{1}, ..a_{_a}.., a_{i}, b) = (c_{1}, ..c_{_a}.., c_{i}, d), ((a_{1}, ..a_{_a}.., a_{i}) = (c_{1}, ..c_{_a}.., c_{i})) and (b = d))\n",
       "    core type: ExprTuple\n",
       "    sub-expressions: 13, 14\n",
       "13. (a_{1}, ..a_{_a}.., a_{i}, b) = (c_{1}, ..c_{_a}.., c_{i}, d)\n",
       "    core type: Operation\n",
       "    operator: 23\n",
       "    operands: 15\n",
       "14. ((a_{1}, ..a_{_a}.., a_{i}) = (c_{1}, ..c_{_a}.., c_{i})) and (b = d)\n",
       "    core type: Operation\n",
       "    operator: 16\n",
       "    operands: 17\n",
       "15. ((a_{1}, ..a_{_a}.., a_{i}, b), (c_{1}, ..c_{_a}.., c_{i}, d))\n",
       "    core type: ExprTuple\n",
       "    sub-expressions: 18, 19\n",
       "16. and\n",
       "    core type: Literal\n",
       "    sub-expressions: \n",
       "17. ((a_{1}, ..a_{_a}.., a_{i}) = (c_{1}, ..c_{_a}.., c_{i}), b = d)\n",
       "    core type: ExprTuple\n",
       "    sub-expressions: 20, 21\n",
       "18. (a_{1}, ..a_{_a}.., a_{i}, b)\n",
       "    core type: ExprTuple\n",
       "    sub-expressions: 29, 27\n",
       "19. (c_{1}, ..c_{_a}.., c_{i}, d)\n",
       "    core type: ExprTuple\n",
       "    sub-expressions: 30, 28\n",
       "20. (a_{1}, ..a_{_a}.., a_{i}) = (c_{1}, ..c_{_a}.., c_{i})\n",
       "    core type: Operation\n",
       "    operator: 23\n",
       "    operands: 22\n",
       "21. b = d\n",
       "    core type: Operation\n",
       "    operator: 23\n",
       "    operands: 24\n",
       "22. ((a_{1}, ..a_{_a}.., a_{i}), (c_{1}, ..c_{_a}.., c_{i}))\n",
       "    core type: ExprTuple\n",
       "    sub-expressions: 25, 26\n",
       "23. =\n",
       "    core type: Literal\n",
       "    sub-expressions: \n",
       "24. (b, d)\n",
       "    core type: ExprTuple\n",
       "    sub-expressions: 27, 28\n",
       "25. (a_{1}, ..a_{_a}.., a_{i})\n",
       "    core type: ExprTuple\n",
       "    sub-expressions: 29\n",
       "26. (c_{1}, ..c_{_a}.., c_{i})\n",
       "    core type: ExprTuple\n",
       "    sub-expressions: 30\n",
       "27. b\n",
       "    core type: Variable\n",
       "    sub-expressions: \n",
       "28. d\n",
       "    core type: Variable\n",
       "    sub-expressions: \n",
       "29. a_{1}, ..a_{_a}.., a_{i}\n",
       "    core type: ExprRange\n",
       "    lambda_map: 31\n",
       "    start_index: 33\n",
       "    end_index: 34\n",
       "30. c_{1}, ..c_{_a}.., c_{i}\n",
       "    core type: ExprRange\n",
       "    lambda_map: 32\n",
       "    start_index: 33\n",
       "    end_index: 34\n",
       "31. _a -> a_{_a}\n",
       "    core type: Lambda\n",
       "    parameter: 40\n",
       "    body: 35\n",
       "32. _a -> c_{_a}\n",
       "    core type: Lambda\n",
       "    parameter: 40\n",
       "    body: 36\n",
       "33. 1\n",
       "    core type: Literal\n",
       "    sub-expressions: \n",
       "34. i\n",
       "    core type: Variable\n",
       "    sub-expressions: \n",
       "35. a_{_a}\n",
       "    core type: IndexedVar\n",
       "variable: 37\n",
       "index: 40\n",
       "36. c_{_a}\n",
       "    core type: IndexedVar\n",
       "variable: 38\n",
       "index: 40\n",
       "37. a\n",
       "    core type: Variable\n",
       "    sub-expressions: \n",
       "38. c\n",
       "    core type: Variable\n",
       "    sub-expressions: \n",
       "39. (_a)\n",
       "    core type: ExprTuple\n",
       "    sub-expressions: 40\n",
       "40. _a\n",
       "    core type: Variable\n",
       "    sub-expressions: "
      ]
     },
     "execution_count": 6,
     "metadata": {},
     "output_type": "execute_result"
    }
   ],
   "source": [
    "# display the expression information\n",
    "expr.expr_info()"
   ]
  },
  {
   "cell_type": "code",
   "execution_count": null,
   "metadata": {},
   "outputs": [],
   "source": []
  }
 ],
 "metadata": {
  "kernelspec": {
   "display_name": "Python 3",
   "language": "python",
   "name": "python3"
  }
 },
 "nbformat": 4,
 "nbformat_minor": 0
}