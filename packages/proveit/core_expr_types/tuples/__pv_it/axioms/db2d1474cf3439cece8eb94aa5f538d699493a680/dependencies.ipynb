{
 "cells": [
  {
   "cell_type": "markdown",
   "metadata": {},
   "source": [
    "Axiom Dependencies\n",
    "=======================\n",
    "\n",
    "## <a class=\"ProveItLink\" href=\"../../../_theory_nbs_/theory.ipynb\">proveit.core_expr_types.tuples</a>.<a class=\"ProveItLink\" href=\"../../../_axioms_.ipynb#tuple_len_incr\">tuple_len_incr</a> \n"
   ]
  },
  {
   "cell_type": "code",
   "execution_count": 1,
   "metadata": {},
   "outputs": [],
   "source": [
    "import proveit\n",
    "# Automation is not needed when querying dependencies:\n",
    "proveit.defaults.automation = False # This will speed things up.\n",
    "proveit.defaults.inline_pngs = False # Makes files smaller.\n",
    "from proveit.core_expr_types.tuples import tuple_len_incr"
   ]
  },
  {
   "cell_type": "code",
   "execution_count": 2,
   "metadata": {},
   "outputs": [
    {
     "data": {
      "text/html": [
       "<h3>Theorems/conjectures that depend directly on tuple_len_incr</h3>"
      ],
      "text/plain": [
       "<IPython.core.display.HTML object>"
      ]
     },
     "metadata": {},
     "output_type": "display_data"
    },
    {
     "data": {
      "text/html": [
       "<dl>"
      ],
      "text/plain": [
       "<IPython.core.display.HTML object>"
      ]
     },
     "metadata": {},
     "output_type": "display_data"
    },
    {
     "data": {
      "text/html": [
       "<dt><a class=\"ProveItLink\" href=\"../../../../../numbers/numerals/decimals/_theory_nbs_/proofs/tuple_len_2/thm_proof.ipynb\">proveit.numbers.numerals.decimals.tuple_len_2</a></dt><dd><a class=\"ProveItLink\" href=\"../../../../../numbers/numerals/decimals/__pv_it/theorems/7c9541d2b47b4e1b7aa143b50908f9cd94d8d14a0/expr.ipynb\"><img src=\"../../../../../numbers/numerals/decimals/__pv_it/theorems/7c9541d2b47b4e1b7aa143b50908f9cd94d8d14a0/expr.png\" style=\"display:inline;vertical-align:middle;\" /></a></dd>"
      ],
      "text/plain": [
       "<IPython.core.display.HTML object>"
      ]
     },
     "metadata": {},
     "output_type": "display_data"
    },
    {
     "data": {
      "text/html": [
       "<dt><a class=\"ProveItLink\" href=\"../../../../../numbers/numerals/decimals/_theory_nbs_/proofs/tuple_len_3/thm_proof.ipynb\">proveit.numbers.numerals.decimals.tuple_len_3</a></dt><dd><a class=\"ProveItLink\" href=\"../../../../../numbers/numerals/decimals/__pv_it/theorems/256bfcb494dcdd73881d226903ce55927003538c0/expr.ipynb\"><img src=\"../../../../../numbers/numerals/decimals/__pv_it/theorems/256bfcb494dcdd73881d226903ce55927003538c0/expr.png\" style=\"display:inline;vertical-align:middle;\" /></a></dd>"
      ],
      "text/plain": [
       "<IPython.core.display.HTML object>"
      ]
     },
     "metadata": {},
     "output_type": "display_data"
    },
    {
     "data": {
      "text/html": [
       "<dt><a class=\"ProveItLink\" href=\"../../../../../numbers/numerals/decimals/_theory_nbs_/proofs/tuple_len_4/thm_proof.ipynb\">proveit.numbers.numerals.decimals.tuple_len_4</a></dt><dd><a class=\"ProveItLink\" href=\"../../../../../numbers/numerals/decimals/__pv_it/theorems/cbc59aa88ba50c8d9701e532f875a53c2cbd49020/expr.ipynb\"><img src=\"../../../../../numbers/numerals/decimals/__pv_it/theorems/cbc59aa88ba50c8d9701e532f875a53c2cbd49020/expr.png\" style=\"display:inline;vertical-align:middle;\" /></a></dd>"
      ],
      "text/plain": [
       "<IPython.core.display.HTML object>"
      ]
     },
     "metadata": {},
     "output_type": "display_data"
    },
    {
     "data": {
      "text/html": [
       "<dt><a class=\"ProveItLink\" href=\"../../../../../numbers/numerals/decimals/_theory_nbs_/proofs/tuple_len_5/thm_proof.ipynb\">proveit.numbers.numerals.decimals.tuple_len_5</a></dt><dd><a class=\"ProveItLink\" href=\"../../../../../numbers/numerals/decimals/__pv_it/theorems/75b3da0d78f6e5a8e15fcfaf381d9b8553fdf61f0/expr.ipynb\"><img src=\"../../../../../numbers/numerals/decimals/__pv_it/theorems/75b3da0d78f6e5a8e15fcfaf381d9b8553fdf61f0/expr.png\" style=\"display:inline;vertical-align:middle;\" /></a></dd>"
      ],
      "text/plain": [
       "<IPython.core.display.HTML object>"
      ]
     },
     "metadata": {},
     "output_type": "display_data"
    },
    {
     "data": {
      "text/html": [
       "</dl>"
      ],
      "text/plain": [
       "<IPython.core.display.HTML object>"
      ]
     },
     "metadata": {},
     "output_type": "display_data"
    }
   ],
   "source": [
    "%dependencies tuple_len_incr"
   ]
  }
 ],
 "metadata": {
  "kernelspec": {
   "display_name": "Python 3",
   "language": "python",
   "name": "python3"
  }
 },
 "nbformat": 4,
 "nbformat_minor": 0
}