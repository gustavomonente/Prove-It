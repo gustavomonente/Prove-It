{
 "cells": [
  {
   "cell_type": "markdown",
   "metadata": {},
   "source": [
    "Expression of type <a class=\"ProveItLink\" href=\"../../../../../../../doc/html/api/proveit.logic.Forall.html\">Forall</a>\n",
    "=======================\n",
    "# from the theory of <a class=\"ProveItLink\" href=\"../../../_theory_nbs_/theory.ipynb\">proveit.core_expr_types.tuples</a>"
   ]
  },
  {
   "cell_type": "code",
   "execution_count": 1,
   "metadata": {},
   "outputs": [],
   "source": [
    "import proveit\n",
    "# Automation is not needed when building an expression:\n",
    "proveit.defaults.automation = False # This will speed things up.\n",
    "proveit.defaults.inline_pngs = False # Makes files smaller.\n",
    "%load_expr # Load the stored expression as 'stored_expr'\n",
    "# import Expression classes needed to build the expression\n",
    "from proveit import b, d, i\n",
    "from proveit.core_expr_types import a_1_to_i, c_1_to_i\n",
    "from proveit.logic import And, Equals, Forall\n",
    "from proveit.numbers import Natural"
   ]
  },
  {
   "cell_type": "code",
   "execution_count": 2,
   "metadata": {},
   "outputs": [
    {
     "data": {
      "text/html": [
       "<strong id=\"expr\">expr:</strong> <a class=\"ProveItLink\" href=\"expr.ipynb\"><img src=\"expr.png\" style=\"display:inline;vertical-align:middle;\" /></a><br>"
      ],
      "text/plain": [
       "expr: forall_{i in Natural} [forall_{a_{1}, ..a_{_a}.., a_{i}, b, c_{1}, ..c_{_a}.., c_{i}, d} (((a_{1}, ..a_{_a}.., a_{i}, b) = (c_{1}, ..c_{_a}.., c_{i}, d)) =  \\\\ (((a_{1}, ..a_{_a}.., a_{i}) = (c_{1}, ..c_{_a}.., c_{i})) and (b = d)))]"
      ]
     },
     "execution_count": 2,
     "metadata": {},
     "output_type": "execute_result"
    }
   ],
   "source": [
    "# build up the expression from sub-expressions\n",
    "expr = Forall([i], Forall([a_1_to_i, b, c_1_to_i, d], Equals(Equals([a_1_to_i, b], [c_1_to_i, d]), And(Equals([a_1_to_i], [c_1_to_i]), Equals(b, d))).with_wrapping_at(2)), domains = [Natural])"
   ]
  },
  {
   "cell_type": "code",
   "execution_count": 3,
   "metadata": {},
   "outputs": [
    {
     "name": "stdout",
     "output_type": "stream",
     "text": [
      "Passed sanity check: expr matches stored_expr\n"
     ]
    }
   ],
   "source": [
    "# check that the built expression is the same as the stored expression\n",
    "assert expr == stored_expr\n",
    "assert expr._style_id == stored_expr._style_id\n",
    "print(\"Passed sanity check: expr matches stored_expr\")"
   ]
  },
  {
   "cell_type": "code",
   "execution_count": 4,
   "metadata": {},
   "outputs": [
    {
     "name": "stdout",
     "output_type": "stream",
     "text": [
      "\\forall_{i \\in \\mathbb{N}}~\\left[\\forall_{a_{1}, \\ldots, a_{i}, b, c_{1}, \\ldots, c_{i}, d}~\\left(\\begin{array}{c} \\left(\\left(a_{1}, \\ldots, a_{i}, b\\right) = \\left(c_{1}, \\ldots, c_{i}, d\\right)\\right) =  \\\\ \\left(\\left(\\left(a_{1}, \\ldots, a_{i}\\right) = \\left(c_{1}, \\ldots, c_{i}\\right)\\right) \\land \\left(b = d\\right)\\right) \\end{array}\\right)\\right]\n"
     ]
    }
   ],
   "source": [
    "# Show the LaTeX representation of the expression for convenience if you need it.\n",
    "print(expr.latex())"
   ]
  },
  {
   "cell_type": "code",
   "execution_count": 5,
   "metadata": {},
   "outputs": [
    {
     "data": {
      "text/html": [
       "<table><tr><th>&nbsp;</th><th>core type</th><th>sub-expressions</th><th>expression</th></tr>\n",
       "<tr><td>0</td><td>Operation</td><td>operator:&nbsp;5<br>operand:&nbsp;1<br></td><td><a class=\"ProveItLink\" href=\"expr.ipynb\"><img src=\"expr.png\" style=\"display:inline;vertical-align:middle;\" /></a></td></tr>\n",
       "<tr><td>1</td><td>Lambda</td><td>parameter:&nbsp;34<br>body:&nbsp;2<br></td><td><a class=\"ProveItLink\" href=\"../972a908c6bada8518fda06bac8de4ead32045ec50/expr.ipynb\"><img src=\"../972a908c6bada8518fda06bac8de4ead32045ec50/expr.png\" style=\"display:inline;vertical-align:middle;\" /></a></td></tr>\n",
       "<tr><td>2</td><td>Conditional</td><td>value:&nbsp;3<br>condition:&nbsp;4<br></td><td><a class=\"ProveItLink\" href=\"../49e7b4aed49a50f07822b322fd62169f1fa5bc6e0/expr.ipynb\"><img src=\"../49e7b4aed49a50f07822b322fd62169f1fa5bc6e0/expr.png\" style=\"display:inline;vertical-align:middle;\" /></a></td></tr>\n",
       "<tr><td>3</td><td>Operation</td><td>operator:&nbsp;5<br>operand:&nbsp;6<br></td><td><a class=\"ProveItLink\" href=\"../2d89594288e4e1982b3139d6cc57c95b4be464f60/expr.ipynb\"><img src=\"../2d89594288e4e1982b3139d6cc57c95b4be464f60/expr.png\" style=\"display:inline;vertical-align:middle;\" /></a></td></tr>\n",
       "<tr><td>4</td><td>Operation</td><td>operator:&nbsp;7<br>operands:&nbsp;8<br></td><td><a class=\"ProveItLink\" href=\"../77453244b9b142f8e48d56f8430a0ce1c1c2842e0/expr.ipynb\"><img src=\"../77453244b9b142f8e48d56f8430a0ce1c1c2842e0/expr.png\" style=\"display:inline;vertical-align:middle;\" /></a></td></tr>\n",
       "<tr><td>5</td><td>Literal</td><td></td><td><a class=\"ProveItLink\" href=\"../../../../../logic/booleans/quantification/universality/__pv_it/common/083d2baa0b8ecab1d230f9ec29a15aa1355809fb0/expr.ipynb\"><img src=\"../../../../../logic/booleans/quantification/universality/__pv_it/common/083d2baa0b8ecab1d230f9ec29a15aa1355809fb0/expr.png\" style=\"display:inline;vertical-align:middle;\" /></a></td></tr>\n",
       "<tr><td>6</td><td>Lambda</td><td>parameters:&nbsp;9<br>body:&nbsp;10<br></td><td><a class=\"ProveItLink\" href=\"../3a1014f136abe798be9d58fc500e91047be7f05e0/expr.ipynb\"><img src=\"../3a1014f136abe798be9d58fc500e91047be7f05e0/expr.png\" style=\"display:inline;vertical-align:middle;\" /></a></td></tr>\n",
       "<tr><td>7</td><td>Literal</td><td></td><td><a class=\"ProveItLink\" href=\"../../../../../logic/sets/membership/__pv_it/common/477487d8796864d23d5810f83761435f25167f690/expr.ipynb\"><img src=\"../../../../../logic/sets/membership/__pv_it/common/477487d8796864d23d5810f83761435f25167f690/expr.png\" style=\"display:inline;vertical-align:middle;\" /></a></td></tr>\n",
       "<tr><td>8</td><td>ExprTuple</td><td>34, 11</td><td><a class=\"ProveItLink\" href=\"../da20b1ea4e358a467d39b599d0db223dcf1dcb930/expr.ipynb\"><img src=\"../da20b1ea4e358a467d39b599d0db223dcf1dcb930/expr.png\" style=\"display:inline;vertical-align:middle;\" /></a></td></tr>\n",
       "<tr><td>9</td><td>ExprTuple</td><td>29, 27, 30, 28</td><td><a class=\"ProveItLink\" href=\"../37c0614bbc864631b09f373015c57cf78a5edbae0/expr.ipynb\"><img src=\"../37c0614bbc864631b09f373015c57cf78a5edbae0/expr.png\" style=\"display:inline;vertical-align:middle;\" /></a></td></tr>\n",
       "<tr><td>10</td><td>Operation</td><td>operator:&nbsp;23<br>operands:&nbsp;12<br></td><td><a class=\"ProveItLink\" href=\"../d44d69d4ccd791dba0d34d10147ecbb537ffe7ec0/expr.ipynb\"><img src=\"../d44d69d4ccd791dba0d34d10147ecbb537ffe7ec0/expr.png\" style=\"display:inline;vertical-align:middle;\" /></a></td></tr>\n",
       "<tr><td>11</td><td>Literal</td><td></td><td><a class=\"ProveItLink\" href=\"../../../../../numbers/number_sets/natural_numbers/__pv_it/common/8b7c321957f52ed3b05b36af612eeae4fa4783bc0/expr.ipynb\"><img src=\"../../../../../numbers/number_sets/natural_numbers/__pv_it/common/8b7c321957f52ed3b05b36af612eeae4fa4783bc0/expr.png\" style=\"display:inline;vertical-align:middle;\" /></a></td></tr>\n",
       "<tr><td>12</td><td>ExprTuple</td><td>13, 14</td><td><a class=\"ProveItLink\" href=\"../d4d7f30f943bece8c939b212d30fbfc8ed2bf1b00/expr.ipynb\"><img src=\"../d4d7f30f943bece8c939b212d30fbfc8ed2bf1b00/expr.png\" style=\"display:inline;vertical-align:middle;\" /></a></td></tr>\n",
       "<tr><td>13</td><td>Operation</td><td>operator:&nbsp;23<br>operands:&nbsp;15<br></td><td><a class=\"ProveItLink\" href=\"../5be5e4d5177614f78d82b96a255ef90327a4200e0/expr.ipynb\"><img src=\"../5be5e4d5177614f78d82b96a255ef90327a4200e0/expr.png\" style=\"display:inline;vertical-align:middle;\" /></a></td></tr>\n",
       "<tr><td>14</td><td>Operation</td><td>operator:&nbsp;16<br>operands:&nbsp;17<br></td><td><a class=\"ProveItLink\" href=\"../cb204621a9a086a4ec3a69d6f29f261b2f7c6f930/expr.ipynb\"><img src=\"../cb204621a9a086a4ec3a69d6f29f261b2f7c6f930/expr.png\" style=\"display:inline;vertical-align:middle;\" /></a></td></tr>\n",
       "<tr><td>15</td><td>ExprTuple</td><td>18, 19</td><td><a class=\"ProveItLink\" href=\"../405dd72781b3496d21a4c0b5421556a8199a0f1b0/expr.ipynb\"><img src=\"../405dd72781b3496d21a4c0b5421556a8199a0f1b0/expr.png\" style=\"display:inline;vertical-align:middle;\" /></a></td></tr>\n",
       "<tr><td>16</td><td>Literal</td><td></td><td><a class=\"ProveItLink\" href=\"../../../../../logic/booleans/conjunction/__pv_it/common/42118ff318bd65d98b1393f64ce7c2269feef76e0/expr.ipynb\"><img src=\"../../../../../logic/booleans/conjunction/__pv_it/common/42118ff318bd65d98b1393f64ce7c2269feef76e0/expr.png\" style=\"display:inline;vertical-align:middle;\" /></a></td></tr>\n",
       "<tr><td>17</td><td>ExprTuple</td><td>20, 21</td><td><a class=\"ProveItLink\" href=\"../80d116854b247784e8732378cb6ae328a11060040/expr.ipynb\"><img src=\"../80d116854b247784e8732378cb6ae328a11060040/expr.png\" style=\"display:inline;vertical-align:middle;\" /></a></td></tr>\n",
       "<tr><td>18</td><td>ExprTuple</td><td>29, 27</td><td><a class=\"ProveItLink\" href=\"../../../../__pv_it/common/8e43cb1a5e49d916a1d55b8ad2c7e0b7444d5a140/expr.ipynb\"><img src=\"../../../../__pv_it/common/8e43cb1a5e49d916a1d55b8ad2c7e0b7444d5a140/expr.png\" style=\"display:inline;vertical-align:middle;\" /></a></td></tr>\n",
       "<tr><td>19</td><td>ExprTuple</td><td>30, 28</td><td><a class=\"ProveItLink\" href=\"../1f21b88aaf7948c8273858a51ab9fc43c381ca040/expr.ipynb\"><img src=\"../1f21b88aaf7948c8273858a51ab9fc43c381ca040/expr.png\" style=\"display:inline;vertical-align:middle;\" /></a></td></tr>\n",
       "<tr><td>20</td><td>Operation</td><td>operator:&nbsp;23<br>operands:&nbsp;22<br></td><td><a class=\"ProveItLink\" href=\"../7ffe073c3cdb47ef2edce6f5d2c9a3456c693a240/expr.ipynb\"><img src=\"../7ffe073c3cdb47ef2edce6f5d2c9a3456c693a240/expr.png\" style=\"display:inline;vertical-align:middle;\" /></a></td></tr>\n",
       "<tr><td>21</td><td>Operation</td><td>operator:&nbsp;23<br>operands:&nbsp;24<br></td><td><a class=\"ProveItLink\" href=\"../e5727552288bf2d1336ff36cb25fce0bf90358ec0/expr.ipynb\"><img src=\"../e5727552288bf2d1336ff36cb25fce0bf90358ec0/expr.png\" style=\"display:inline;vertical-align:middle;\" /></a></td></tr>\n",
       "<tr><td>22</td><td>ExprTuple</td><td>25, 26</td><td><a class=\"ProveItLink\" href=\"../54a0c80a2eff072d4a9e3d47b082dbfa9cee93a80/expr.ipynb\"><img src=\"../54a0c80a2eff072d4a9e3d47b082dbfa9cee93a80/expr.png\" style=\"display:inline;vertical-align:middle;\" /></a></td></tr>\n",
       "<tr><td>23</td><td>Literal</td><td></td><td><a class=\"ProveItLink\" href=\"../../../../../logic/equality/__pv_it/common/fb96dc12b2aa8801dda64d0132b396c63d1502bb0/expr.ipynb\"><img src=\"../../../../../logic/equality/__pv_it/common/fb96dc12b2aa8801dda64d0132b396c63d1502bb0/expr.png\" style=\"display:inline;vertical-align:middle;\" /></a></td></tr>\n",
       "<tr><td>24</td><td>ExprTuple</td><td>27, 28</td><td><a class=\"ProveItLink\" href=\"../84ded3cd32ec9c4dba8d8595ab3ce5aea9920f620/expr.ipynb\"><img src=\"../84ded3cd32ec9c4dba8d8595ab3ce5aea9920f620/expr.png\" style=\"display:inline;vertical-align:middle;\" /></a></td></tr>\n",
       "<tr><td>25</td><td>ExprTuple</td><td>29</td><td><a class=\"ProveItLink\" href=\"../../../../__pv_it/common/13f9959a2f59661ace2a9122b3bcf5af7feaba7c0/expr.ipynb\"><img src=\"../../../../__pv_it/common/13f9959a2f59661ace2a9122b3bcf5af7feaba7c0/expr.png\" style=\"display:inline;vertical-align:middle;\" /></a></td></tr>\n",
       "<tr><td>26</td><td>ExprTuple</td><td>30</td><td><a class=\"ProveItLink\" href=\"../10726fc7400cddd0649b7ad307c70e20ece48e740/expr.ipynb\"><img src=\"../10726fc7400cddd0649b7ad307c70e20ece48e740/expr.png\" style=\"display:inline;vertical-align:middle;\" /></a></td></tr>\n",
       "<tr><td>27</td><td>Variable</td><td></td><td><a class=\"ProveItLink\" href=\"../../../../../__pv_it/common/195236b98c6c564a75b5dbada74b173bc52d5c3e0/expr.ipynb\"><img src=\"../../../../../__pv_it/common/195236b98c6c564a75b5dbada74b173bc52d5c3e0/expr.png\" style=\"display:inline;vertical-align:middle;\" /></a></td></tr>\n",
       "<tr><td>28</td><td>Variable</td><td></td><td><a class=\"ProveItLink\" href=\"../../../../../__pv_it/common/4f5c524ffda87296de1c79b96880123fe2efedd50/expr.ipynb\"><img src=\"../../../../../__pv_it/common/4f5c524ffda87296de1c79b96880123fe2efedd50/expr.png\" style=\"display:inline;vertical-align:middle;\" /></a></td></tr>\n",
       "<tr><td>29</td><td>ExprRange</td><td>lambda_map:&nbsp;31<br>start_index:&nbsp;33<br>end_index:&nbsp;34<br></td><td><a class=\"ProveItLink\" href=\"../../../../__pv_it/common/3143372b81f4215c0f48ddd93ca9c77fdfbd3fc20/expr.ipynb\"><img src=\"../../../../__pv_it/common/3143372b81f4215c0f48ddd93ca9c77fdfbd3fc20/expr.png\" style=\"display:inline;vertical-align:middle;\" /></a></td></tr>\n",
       "<tr><td>30</td><td>ExprRange</td><td>lambda_map:&nbsp;32<br>start_index:&nbsp;33<br>end_index:&nbsp;34<br></td><td><a class=\"ProveItLink\" href=\"../../../../__pv_it/common/9bcf644997e508f457acd8d76360a4ecfa872fd30/expr.ipynb\"><img src=\"../../../../__pv_it/common/9bcf644997e508f457acd8d76360a4ecfa872fd30/expr.png\" style=\"display:inline;vertical-align:middle;\" /></a></td></tr>\n",
       "<tr><td>31</td><td>Lambda</td><td>parameter:&nbsp;39<br>body:&nbsp;35<br></td><td><a class=\"ProveItLink\" href=\"../../../../__pv_it/common/9f0c64ef8ae0c02b5dcba32e0fb15bd29f85872a0/expr.ipynb\"><img src=\"../../../../__pv_it/common/9f0c64ef8ae0c02b5dcba32e0fb15bd29f85872a0/expr.png\" style=\"display:inline;vertical-align:middle;\" /></a></td></tr>\n",
       "<tr><td>32</td><td>Lambda</td><td>parameter:&nbsp;39<br>body:&nbsp;36<br></td><td><a class=\"ProveItLink\" href=\"../../../../__pv_it/common/eba5dead6140ec223e25e265b736e83e185c334c0/expr.ipynb\"><img src=\"../../../../__pv_it/common/eba5dead6140ec223e25e265b736e83e185c334c0/expr.png\" style=\"display:inline;vertical-align:middle;\" /></a></td></tr>\n",
       "<tr><td>33</td><td>Literal</td><td></td><td><a class=\"ProveItLink\" href=\"../../../../../numbers/numerals/__pv_it/common/2778428c7f555b2bdc06aa0530bc142c6e6335100/expr.ipynb\"><img src=\"../../../../../numbers/numerals/__pv_it/common/2778428c7f555b2bdc06aa0530bc142c6e6335100/expr.png\" style=\"display:inline;vertical-align:middle;\" /></a></td></tr>\n",
       "<tr><td>34</td><td>Variable</td><td></td><td><a class=\"ProveItLink\" href=\"../../../../../__pv_it/common/ae955345c83abf786c3aff8681cd5465beae262d0/expr.ipynb\"><img src=\"../../../../../__pv_it/common/ae955345c83abf786c3aff8681cd5465beae262d0/expr.png\" style=\"display:inline;vertical-align:middle;\" /></a></td></tr>\n",
       "<tr><td>35</td><td>IndexedVar</td><td>variable:&nbsp;37<br>index:&nbsp;39<br></td><td><a class=\"ProveItLink\" href=\"../../../../__pv_it/common/ea36c59b79decceeaf696ef762cc9648f9ddbf5c0/expr.ipynb\"><img src=\"../../../../__pv_it/common/ea36c59b79decceeaf696ef762cc9648f9ddbf5c0/expr.png\" style=\"display:inline;vertical-align:middle;\" /></a></td></tr>\n",
       "<tr><td>36</td><td>IndexedVar</td><td>variable:&nbsp;38<br>index:&nbsp;39<br></td><td><a class=\"ProveItLink\" href=\"../../../../__pv_it/common/ce0e3deabb2d7b0cf29fae3ec1fe2c2fd5d1de600/expr.ipynb\"><img src=\"../../../../__pv_it/common/ce0e3deabb2d7b0cf29fae3ec1fe2c2fd5d1de600/expr.png\" style=\"display:inline;vertical-align:middle;\" /></a></td></tr>\n",
       "<tr><td>37</td><td>Variable</td><td></td><td><a class=\"ProveItLink\" href=\"../../../../../__pv_it/common/c06c606ec12678c58933ac85412ecadc2ae28be60/expr.ipynb\"><img src=\"../../../../../__pv_it/common/c06c606ec12678c58933ac85412ecadc2ae28be60/expr.png\" style=\"display:inline;vertical-align:middle;\" /></a></td></tr>\n",
       "<tr><td>38</td><td>Variable</td><td></td><td><a class=\"ProveItLink\" href=\"../../../../../__pv_it/common/ceef4280a2f1cc604b455b54e735507244cc62cd0/expr.ipynb\"><img src=\"../../../../../__pv_it/common/ceef4280a2f1cc604b455b54e735507244cc62cd0/expr.png\" style=\"display:inline;vertical-align:middle;\" /></a></td></tr>\n",
       "<tr><td>39</td><td>Variable</td><td></td><td><a class=\"ProveItLink\" href=\"../../../../__pv_it/common/006c465e50948aa2b52285e2de47974f741255cc0/expr.ipynb\"><img src=\"../../../../__pv_it/common/006c465e50948aa2b52285e2de47974f741255cc0/expr.png\" style=\"display:inline;vertical-align:middle;\" /></a></td></tr>\n",
       "</table>\n"
      ],
      "text/plain": [
       "0. forall_{i in Natural} [forall_{a_{1}, ..a_{_a}.., a_{i}, b, c_{1}, ..c_{_a}.., c_{i}, d} (((a_{1}, ..a_{_a}.., a_{i}, b) = (c_{1}, ..c_{_a}.., c_{i}, d)) =  \\\\ (((a_{1}, ..a_{_a}.., a_{i}) = (c_{1}, ..c_{_a}.., c_{i})) and (b = d)))]\n",
       "   core type: Operation\n",
       "   operator: 5\n",
       "   operand: 1\n",
       "1. i -> {forall_{a_{1}, ..a_{_a}.., a_{i}, b, c_{1}, ..c_{_a}.., c_{i}, d} (((a_{1}, ..a_{_a}.., a_{i}, b) = (c_{1}, ..c_{_a}.., c_{i}, d)) =  \\\\ (((a_{1}, ..a_{_a}.., a_{i}) = (c_{1}, ..c_{_a}.., c_{i})) and (b = d))) if i in Natural.\n",
       "   core type: Lambda\n",
       "   parameter: 34\n",
       "   body: 2\n",
       "2. {forall_{a_{1}, ..a_{_a}.., a_{i}, b, c_{1}, ..c_{_a}.., c_{i}, d} (((a_{1}, ..a_{_a}.., a_{i}, b) = (c_{1}, ..c_{_a}.., c_{i}, d)) =  \\\\ (((a_{1}, ..a_{_a}.., a_{i}) = (c_{1}, ..c_{_a}.., c_{i})) and (b = d))) if i in Natural.\n",
       "   core type: Conditional\n",
       "   value: 3\n",
       "   condition: 4\n",
       "3. forall_{a_{1}, ..a_{_a}.., a_{i}, b, c_{1}, ..c_{_a}.., c_{i}, d} (((a_{1}, ..a_{_a}.., a_{i}, b) = (c_{1}, ..c_{_a}.., c_{i}, d)) =  \\\\ (((a_{1}, ..a_{_a}.., a_{i}) = (c_{1}, ..c_{_a}.., c_{i})) and (b = d)))\n",
       "   core type: Operation\n",
       "   operator: 5\n",
       "   operand: 6\n",
       "4. i in Natural\n",
       "   core type: Operation\n",
       "   operator: 7\n",
       "   operands: 8\n",
       "5. forall\n",
       "   core type: Literal\n",
       "   sub-expressions: \n",
       "6. (a_{1}, ..a_{_a}.., a_{i}, b, c_{1}, ..c_{_a}.., c_{i}, d) -> (((a_{1}, ..a_{_a}.., a_{i}, b) = (c_{1}, ..c_{_a}.., c_{i}, d)) =  \\\\ (((a_{1}, ..a_{_a}.., a_{i}) = (c_{1}, ..c_{_a}.., c_{i})) and (b = d)))\n",
       "   core type: Lambda\n",
       "   parameters: 9\\n   body: 10\n",
       "7. in\n",
       "   core type: Literal\n",
       "   sub-expressions: \n",
       "8. (i, Natural)\n",
       "   core type: ExprTuple\n",
       "   sub-expressions: 34, 11\n",
       "9. (a_{1}, ..a_{_a}.., a_{i}, b, c_{1}, ..c_{_a}.., c_{i}, d)\n",
       "   core type: ExprTuple\n",
       "   sub-expressions: 29, 27, 30, 28\n",
       "10. ((a_{1}, ..a_{_a}.., a_{i}, b) = (c_{1}, ..c_{_a}.., c_{i}, d)) =  \\\\ (((a_{1}, ..a_{_a}.., a_{i}) = (c_{1}, ..c_{_a}.., c_{i})) and (b = d))\n",
       "    core type: Operation\n",
       "    operator: 23\n",
       "    operands: 12\n",
       "11. Natural\n",
       "    core type: Literal\n",
       "    sub-expressions: \n",
       "12. ((a_{1}, ..a_{_a}.., a_{i}, b) = (c_{1}, ..c_{_a}.., c_{i}, d), ((a_{1}, ..a_{_a}.., a_{i}) = (c_{1}, ..c_{_a}.., c_{i})) and (b = d))\n",
       "    core type: ExprTuple\n",
       "    sub-expressions: 13, 14\n",
       "13. (a_{1}, ..a_{_a}.., a_{i}, b) = (c_{1}, ..c_{_a}.., c_{i}, d)\n",
       "    core type: Operation\n",
       "    operator: 23\n",
       "    operands: 15\n",
       "14. ((a_{1}, ..a_{_a}.., a_{i}) = (c_{1}, ..c_{_a}.., c_{i})) and (b = d)\n",
       "    core type: Operation\n",
       "    operator: 16\n",
       "    operands: 17\n",
       "15. ((a_{1}, ..a_{_a}.., a_{i}, b), (c_{1}, ..c_{_a}.., c_{i}, d))\n",
       "    core type: ExprTuple\n",
       "    sub-expressions: 18, 19\n",
       "16. and\n",
       "    core type: Literal\n",
       "    sub-expressions: \n",
       "17. ((a_{1}, ..a_{_a}.., a_{i}) = (c_{1}, ..c_{_a}.., c_{i}), b = d)\n",
       "    core type: ExprTuple\n",
       "    sub-expressions: 20, 21\n",
       "18. (a_{1}, ..a_{_a}.., a_{i}, b)\n",
       "    core type: ExprTuple\n",
       "    sub-expressions: 29, 27\n",
       "19. (c_{1}, ..c_{_a}.., c_{i}, d)\n",
       "    core type: ExprTuple\n",
       "    sub-expressions: 30, 28\n",
       "20. (a_{1}, ..a_{_a}.., a_{i}) = (c_{1}, ..c_{_a}.., c_{i})\n",
       "    core type: Operation\n",
       "    operator: 23\n",
       "    operands: 22\n",
       "21. b = d\n",
       "    core type: Operation\n",
       "    operator: 23\n",
       "    operands: 24\n",
       "22. ((a_{1}, ..a_{_a}.., a_{i}), (c_{1}, ..c_{_a}.., c_{i}))\n",
       "    core type: ExprTuple\n",
       "    sub-expressions: 25, 26\n",
       "23. =\n",
       "    core type: Literal\n",
       "    sub-expressions: \n",
       "24. (b, d)\n",
       "    core type: ExprTuple\n",
       "    sub-expressions: 27, 28\n",
       "25. (a_{1}, ..a_{_a}.., a_{i})\n",
       "    core type: ExprTuple\n",
       "    sub-expressions: 29\n",
       "26. (c_{1}, ..c_{_a}.., c_{i})\n",
       "    core type: ExprTuple\n",
       "    sub-expressions: 30\n",
       "27. b\n",
       "    core type: Variable\n",
       "    sub-expressions: \n",
       "28. d\n",
       "    core type: Variable\n",
       "    sub-expressions: \n",
       "29. a_{1}, ..a_{_a}.., a_{i}\n",
       "    core type: ExprRange\n",
       "    lambda_map: 31\n",
       "    start_index: 33\n",
       "    end_index: 34\n",
       "30. c_{1}, ..c_{_a}.., c_{i}\n",
       "    core type: ExprRange\n",
       "    lambda_map: 32\n",
       "    start_index: 33\n",
       "    end_index: 34\n",
       "31. _a -> a_{_a}\n",
       "    core type: Lambda\n",
       "    parameter: 39\n",
       "    body: 35\n",
       "32. _a -> c_{_a}\n",
       "    core type: Lambda\n",
       "    parameter: 39\n",
       "    body: 36\n",
       "33. 1\n",
       "    core type: Literal\n",
       "    sub-expressions: \n",
       "34. i\n",
       "    core type: Variable\n",
       "    sub-expressions: \n",
       "35. a_{_a}\n",
       "    core type: IndexedVar\n",
       "variable: 37\n",
       "index: 39\n",
       "36. c_{_a}\n",
       "    core type: IndexedVar\n",
       "variable: 38\n",
       "index: 39\n",
       "37. a\n",
       "    core type: Variable\n",
       "    sub-expressions: \n",
       "38. c\n",
       "    core type: Variable\n",
       "    sub-expressions: \n",
       "39. _a\n",
       "    core type: Variable\n",
       "    sub-expressions: "
      ]
     },
     "execution_count": 5,
     "metadata": {},
     "output_type": "execute_result"
    }
   ],
   "source": [
    "# display the expression information\n",
    "expr.expr_info()"
   ]
  },
  {
   "cell_type": "code",
   "execution_count": null,
   "metadata": {},
   "outputs": [],
   "source": []
  }
 ],
 "metadata": {
  "kernelspec": {
   "display_name": "Python 3",
   "language": "python",
   "name": "python3"
  }
 },
 "nbformat": 4,
 "nbformat_minor": 0
}