{
 "cells": [
  {
   "cell_type": "markdown",
   "metadata": {},
   "source": [
    "Expression of type <a class=\"ProveItLink\" href=\"../../../../../../doc/html/api/proveit.logic.Forall.html\">Forall</a>\n",
    "=======================\n",
    "# from context <a class=\"ProveItLink\" href=\"../../_context_.ipynb\">proveit.core_expr_types.tuples</a>"
   ]
  },
  {
   "cell_type": "code",
   "execution_count": 1,
   "metadata": {},
   "outputs": [],
   "source": [
    "import proveit\n",
    "# Automation is not needed when building an expression:\n",
    "proveit.defaults.automation = False # This will speed things up.\n",
    "proveit.defaults.inline_pngs = False # Makes files smaller.\n",
    "# import Expression classes needed to build the expression\n",
    "from proveit import ExprRange, Function\n",
    "from proveit._common_ import i, j, k, n, x\n",
    "from proveit.core_expr_types import Len\n",
    "from proveit.core_expr_types._common_ import f_1_to_n, f_k, i_to_j_len\n",
    "from proveit.logic import Equals, Forall, InSet\n",
    "from proveit.number import Mult, Naturals, one"
   ]
  },
  {
   "cell_type": "code",
   "execution_count": 2,
   "metadata": {},
   "outputs": [
    {
     "data": {
      "text/html": [
       "<strong id=\"expr\">expr:</strong> <a class=\"ProveItLink\" href=\"../631839f3fa3edf1748e2e222975201206254f0440/expr.ipynb\"><img src=\"../631839f3fa3edf1748e2e222975201206254f0440/expr.png\" style=\"display:inline;vertical-align:middle;\" /></a><br>"
      ],
      "text/plain": [
       "expr: forall_{f_{1}, ..f_{_a}.., f_{n}, i, j | (j - i + 1) in Naturals} (|(f_{1}(i), ..f_{1}(x).., f_{1}(j), ....f_{k}(i), ..f_{k}(x).., f_{k}(j)...., f_{n}(i), ..f_{n}(x).., f_{n}(j))| \\\\  = (n * (j - i + 1)))"
      ]
     },
     "execution_count": 2,
     "metadata": {},
     "output_type": "execute_result"
    }
   ],
   "source": [
    "# build up the expression from sub-expressions\n",
    "expr = Forall([f_1_to_n, i, j], Equals(Len([ExprRange(k, ExprRange(x, Function(f_k, x), i, j), one, n)]), Mult(n, i_to_j_len)).withWrappingAt(1), condition = InSet(i_to_j_len, Naturals))"
   ]
  },
  {
   "cell_type": "code",
   "execution_count": 3,
   "metadata": {},
   "outputs": [
    {
     "name": "stdout",
     "output_type": "stream",
     "text": [
      "Passed sanity check: built 'expr' is the same as the stored Expression.\n"
     ]
    }
   ],
   "source": [
    "# check that the built expression is the same as the stored expression\n",
    "%check_expr"
   ]
  },
  {
   "cell_type": "code",
   "execution_count": 4,
   "metadata": {},
   "outputs": [
    {
     "name": "stdout",
     "output_type": "stream",
     "text": [
      "\\forall_{f_{1}, \\ldots, f_{n}, i, j~|~\\left(j - i + 1\\right) \\in \\mathbb{N}}~\\left(\\begin{array}{c} |\\left(f_{1}(i), \\ldots, f_{1}(j), \\ldots\\ldots, f_{n}(i), \\ldots, f_{n}(j)\\right)| \\\\  = \\left(n \\cdot \\left(j - i + 1\\right)\\right) \\end{array}\\right)\n"
     ]
    }
   ],
   "source": [
    "# Show the LaTeX representation of the expression for convenience if you need it.\n",
    "print(expr.latex())"
   ]
  },
  {
   "cell_type": "code",
   "execution_count": 5,
   "metadata": {},
   "outputs": [
    {
     "data": {
      "text/html": [
       "<table><tr><th>&nbsp;</th><th>core type</th><th>sub-expressions</th><th>expression</th></tr>\n",
       "<tr><td>0</td><td>Operation</td><td>operator:&nbsp;1<br>operand:&nbsp;2<br></td><td><a class=\"ProveItLink\" href=\"../631839f3fa3edf1748e2e222975201206254f0440/expr.ipynb\"><img src=\"../631839f3fa3edf1748e2e222975201206254f0440/expr.png\" style=\"display:inline;vertical-align:middle;\" /></a></td></tr>\n",
       "<tr><td>1</td><td>Literal</td><td></td><td><a class=\"ProveItLink\" href=\"../../../../logic/boolean/quantification/universal/__pv_it/fd9c772d6675566ed52a6897806f45eb08a4ea910/expr.ipynb\"><img src=\"../../../../logic/boolean/quantification/universal/__pv_it/fd9c772d6675566ed52a6897806f45eb08a4ea910/expr.png\" style=\"display:inline;vertical-align:middle;\" /></a></td></tr>\n",
       "<tr><td>2</td><td>Lambda</td><td>parameters:&nbsp;3<br>body:&nbsp;4<br></td><td><a class=\"ProveItLink\" href=\"../c3db1dba93868e4bf572aa63200fb46bb8eb07830/expr.ipynb\"><img src=\"../c3db1dba93868e4bf572aa63200fb46bb8eb07830/expr.png\" style=\"display:inline;vertical-align:middle;\" /></a></td></tr>\n",
       "<tr><td>3</td><td>ExprTuple</td><td>5, 34, 35</td><td><a class=\"ProveItLink\" href=\"../2d74385c038200eca612cd7226984aa858c621b60/expr.ipynb\"><img src=\"../2d74385c038200eca612cd7226984aa858c621b60/expr.png\" style=\"display:inline;vertical-align:middle;\" /></a></td></tr>\n",
       "<tr><td>4</td><td>Conditional</td><td>value:&nbsp;6<br>condition:&nbsp;7<br></td><td><a class=\"ProveItLink\" href=\"../08eb3be16d5ef0bb817488fe1614b68ef6877abc0/expr.ipynb\"><img src=\"../08eb3be16d5ef0bb817488fe1614b68ef6877abc0/expr.png\" style=\"display:inline;vertical-align:middle;\" /></a></td></tr>\n",
       "<tr><td>5</td><td>ExprRange</td><td>lambda_map:&nbsp;8<br>start_index:&nbsp;30<br>end_index:&nbsp;28<br></td><td><a class=\"ProveItLink\" href=\"../../../__pv_it/6a89ba25815ecac76ee5cadd11b515a38033ce980/expr.ipynb\"><img src=\"../../../__pv_it/6a89ba25815ecac76ee5cadd11b515a38033ce980/expr.png\" style=\"display:inline;vertical-align:middle;\" /></a></td></tr>\n",
       "<tr><td>6</td><td>Operation</td><td>operator:&nbsp;9<br>operands:&nbsp;10<br></td><td><a class=\"ProveItLink\" href=\"../ce2c2bec3de374918a05bd403582cc7cb8f7d6a90/expr.ipynb\"><img src=\"../ce2c2bec3de374918a05bd403582cc7cb8f7d6a90/expr.png\" style=\"display:inline;vertical-align:middle;\" /></a></td></tr>\n",
       "<tr><td>7</td><td>Operation</td><td>operator:&nbsp;11<br>operands:&nbsp;12<br></td><td><a class=\"ProveItLink\" href=\"../44117aeabc72534a14ed7fa81efd38de0d4ad55e0/expr.ipynb\"><img src=\"../44117aeabc72534a14ed7fa81efd38de0d4ad55e0/expr.png\" style=\"display:inline;vertical-align:middle;\" /></a></td></tr>\n",
       "<tr><td>8</td><td>Lambda</td><td>parameter:&nbsp;17<br>body:&nbsp;13<br></td><td><a class=\"ProveItLink\" href=\"../../../__pv_it/136f66be1a92f4c6ebdc1648d8395e97e440e30a0/expr.ipynb\"><img src=\"../../../__pv_it/136f66be1a92f4c6ebdc1648d8395e97e440e30a0/expr.png\" style=\"display:inline;vertical-align:middle;\" /></a></td></tr>\n",
       "<tr><td>9</td><td>Literal</td><td></td><td><a class=\"ProveItLink\" href=\"../../../../logic/equality/__pv_it/e16d2caa26a16688b658bdb9c422caf4b84579e10/expr.ipynb\"><img src=\"../../../../logic/equality/__pv_it/e16d2caa26a16688b658bdb9c422caf4b84579e10/expr.png\" style=\"display:inline;vertical-align:middle;\" /></a></td></tr>\n",
       "<tr><td>10</td><td>ExprTuple</td><td>14, 15</td><td><a class=\"ProveItLink\" href=\"../c7ef606f430dccff589a6a8733695f93359cdaae0/expr.ipynb\"><img src=\"../c7ef606f430dccff589a6a8733695f93359cdaae0/expr.png\" style=\"display:inline;vertical-align:middle;\" /></a></td></tr>\n",
       "<tr><td>11</td><td>Literal</td><td></td><td><a class=\"ProveItLink\" href=\"../../../../logic/set_theory/membership/__pv_it/7776fc89cb67d0b5b1ec2c0c8e08da5587921ccf0/expr.ipynb\"><img src=\"../../../../logic/set_theory/membership/__pv_it/7776fc89cb67d0b5b1ec2c0c8e08da5587921ccf0/expr.png\" style=\"display:inline;vertical-align:middle;\" /></a></td></tr>\n",
       "<tr><td>12</td><td>ExprTuple</td><td>23, 16</td><td><a class=\"ProveItLink\" href=\"../23b1db1644a28d1745ad2b2c1c29057340fd25ad0/expr.ipynb\"><img src=\"../23b1db1644a28d1745ad2b2c1c29057340fd25ad0/expr.png\" style=\"display:inline;vertical-align:middle;\" /></a></td></tr>\n",
       "<tr><td>13</td><td>IndexedVar</td><td>variable:&nbsp;39<br>index:&nbsp;17<br></td><td><a class=\"ProveItLink\" href=\"../../../__pv_it/f17ba44e08a1c82299ccefa4352e3e3ec21342020/expr.ipynb\"><img src=\"../../../__pv_it/f17ba44e08a1c82299ccefa4352e3e3ec21342020/expr.png\" style=\"display:inline;vertical-align:middle;\" /></a></td></tr>\n",
       "<tr><td>14</td><td>Operation</td><td>operator:&nbsp;18<br>operand:&nbsp;22<br></td><td><a class=\"ProveItLink\" href=\"../9717ba0a9a98b2d2c8e1c83a034ae4f72eee2deb0/expr.ipynb\"><img src=\"../9717ba0a9a98b2d2c8e1c83a034ae4f72eee2deb0/expr.png\" style=\"display:inline;vertical-align:middle;\" /></a></td></tr>\n",
       "<tr><td>15</td><td>Operation</td><td>operator:&nbsp;20<br>operands:&nbsp;21<br></td><td><a class=\"ProveItLink\" href=\"../7106790f99bccac1d142cf9670b2fa1599aad34d0/expr.ipynb\"><img src=\"../7106790f99bccac1d142cf9670b2fa1599aad34d0/expr.png\" style=\"display:inline;vertical-align:middle;\" /></a></td></tr>\n",
       "<tr><td>16</td><td>Literal</td><td></td><td><a class=\"ProveItLink\" href=\"../../../../number/sets/integer/__pv_it/b49c37b99b7e8d73a8d7971bcf454d693b90a2c60/expr.ipynb\"><img src=\"../../../../number/sets/integer/__pv_it/b49c37b99b7e8d73a8d7971bcf454d693b90a2c60/expr.png\" style=\"display:inline;vertical-align:middle;\" /></a></td></tr>\n",
       "<tr><td>17</td><td>Variable</td><td></td><td><a class=\"ProveItLink\" href=\"../../../__pv_it/1e653f789234b245ee7fea7caad998c139d617410/expr.ipynb\"><img src=\"../../../__pv_it/1e653f789234b245ee7fea7caad998c139d617410/expr.png\" style=\"display:inline;vertical-align:middle;\" /></a></td></tr>\n",
       "<tr><td>18</td><td>Literal</td><td></td><td><a class=\"ProveItLink\" href=\"../92831c6291223dfbd76a11e90e750ae52564aa9f0/expr.ipynb\"><img src=\"../92831c6291223dfbd76a11e90e750ae52564aa9f0/expr.png\" style=\"display:inline;vertical-align:middle;\" /></a></td></tr>\n",
       "<tr><td>19</td><td>ExprTuple</td><td>22</td><td><a class=\"ProveItLink\" href=\"../fc51850e195a4d10bdfd2ad0e04615841d99e8860/expr.ipynb\"><img src=\"../fc51850e195a4d10bdfd2ad0e04615841d99e8860/expr.png\" style=\"display:inline;vertical-align:middle;\" /></a></td></tr>\n",
       "<tr><td>20</td><td>Literal</td><td></td><td><a class=\"ProveItLink\" href=\"../../../../number/multiplication/__pv_it/f7a1ed7c35c8c884cf4c236d27cb79bf85638cad0/expr.ipynb\"><img src=\"../../../../number/multiplication/__pv_it/f7a1ed7c35c8c884cf4c236d27cb79bf85638cad0/expr.png\" style=\"display:inline;vertical-align:middle;\" /></a></td></tr>\n",
       "<tr><td>21</td><td>ExprTuple</td><td>28, 23</td><td><a class=\"ProveItLink\" href=\"../52b712924da7dcd858f14e5fc74cc42c951b52640/expr.ipynb\"><img src=\"../52b712924da7dcd858f14e5fc74cc42c951b52640/expr.png\" style=\"display:inline;vertical-align:middle;\" /></a></td></tr>\n",
       "<tr><td>22</td><td>ExprTuple</td><td>24</td><td><a class=\"ProveItLink\" href=\"../4eae237e3ffe4d3e2138f321665ec0e71a04ea140/expr.ipynb\"><img src=\"../4eae237e3ffe4d3e2138f321665ec0e71a04ea140/expr.png\" style=\"display:inline;vertical-align:middle;\" /></a></td></tr>\n",
       "<tr><td>23</td><td>Operation</td><td>operator:&nbsp;25<br>operands:&nbsp;26<br></td><td><a class=\"ProveItLink\" href=\"../../../__pv_it/06164da2c331df3e74bfd5b587d4a522e183a4500/expr.ipynb\"><img src=\"../../../__pv_it/06164da2c331df3e74bfd5b587d4a522e183a4500/expr.png\" style=\"display:inline;vertical-align:middle;\" /></a></td></tr>\n",
       "<tr><td>24</td><td>ExprRange</td><td>lambda_map:&nbsp;27<br>start_index:&nbsp;30<br>end_index:&nbsp;28<br></td><td><a class=\"ProveItLink\" href=\"../a7c36f227b2be60b7ddd3a62a6a2923dab45d37c0/expr.ipynb\"><img src=\"../a7c36f227b2be60b7ddd3a62a6a2923dab45d37c0/expr.png\" style=\"display:inline;vertical-align:middle;\" /></a></td></tr>\n",
       "<tr><td>25</td><td>Literal</td><td></td><td><a class=\"ProveItLink\" href=\"../../../../number/addition/__pv_it/65ad7e8aee19b10110d590375ba95a879c4fb7ea0/expr.ipynb\"><img src=\"../../../../number/addition/__pv_it/65ad7e8aee19b10110d590375ba95a879c4fb7ea0/expr.png\" style=\"display:inline;vertical-align:middle;\" /></a></td></tr>\n",
       "<tr><td>26</td><td>ExprTuple</td><td>35, 29, 30</td><td><a class=\"ProveItLink\" href=\"../../../__pv_it/f10e336a4978e822d356a08daad39a177ad4fcf20/expr.ipynb\"><img src=\"../../../__pv_it/f10e336a4978e822d356a08daad39a177ad4fcf20/expr.png\" style=\"display:inline;vertical-align:middle;\" /></a></td></tr>\n",
       "<tr><td>27</td><td>Lambda</td><td>parameter:&nbsp;40<br>body:&nbsp;31<br></td><td><a class=\"ProveItLink\" href=\"../1094b639278cea8f6d7cb090aacd1de315e604460/expr.ipynb\"><img src=\"../1094b639278cea8f6d7cb090aacd1de315e604460/expr.png\" style=\"display:inline;vertical-align:middle;\" /></a></td></tr>\n",
       "<tr><td>28</td><td>Variable</td><td></td><td><a class=\"ProveItLink\" href=\"../../../../__pv_it/0c1c4cb515e0f4344b1ac06650f349123e526deb0/expr.ipynb\"><img src=\"../../../../__pv_it/0c1c4cb515e0f4344b1ac06650f349123e526deb0/expr.png\" style=\"display:inline;vertical-align:middle;\" /></a></td></tr>\n",
       "<tr><td>29</td><td>Operation</td><td>operator:&nbsp;32<br>operand:&nbsp;34<br></td><td><a class=\"ProveItLink\" href=\"../../../__pv_it/e30e84c6c241a2e59facf3853e0cf2095a9c3cb00/expr.ipynb\"><img src=\"../../../__pv_it/e30e84c6c241a2e59facf3853e0cf2095a9c3cb00/expr.png\" style=\"display:inline;vertical-align:middle;\" /></a></td></tr>\n",
       "<tr><td>30</td><td>Literal</td><td></td><td><a class=\"ProveItLink\" href=\"../../../../number/numeral/__pv_it/f086f8c372bd40a2458306ddfdbb29f3dc6f63030/expr.ipynb\"><img src=\"../../../../number/numeral/__pv_it/f086f8c372bd40a2458306ddfdbb29f3dc6f63030/expr.png\" style=\"display:inline;vertical-align:middle;\" /></a></td></tr>\n",
       "<tr><td>31</td><td>ExprRange</td><td>lambda_map:&nbsp;33<br>start_index:&nbsp;34<br>end_index:&nbsp;35<br></td><td><a class=\"ProveItLink\" href=\"../a28678844d3af18ecb3d9c6b91e91e3f4876ca900/expr.ipynb\"><img src=\"../a28678844d3af18ecb3d9c6b91e91e3f4876ca900/expr.png\" style=\"display:inline;vertical-align:middle;\" /></a></td></tr>\n",
       "<tr><td>32</td><td>Literal</td><td></td><td><a class=\"ProveItLink\" href=\"../../../../number/negation/__pv_it/2867787e35502987d81a45cac8e7f1c6996d6ff40/expr.ipynb\"><img src=\"../../../../number/negation/__pv_it/2867787e35502987d81a45cac8e7f1c6996d6ff40/expr.png\" style=\"display:inline;vertical-align:middle;\" /></a></td></tr>\n",
       "<tr><td>33</td><td>Lambda</td><td>parameter:&nbsp;38<br>body:&nbsp;36<br></td><td><a class=\"ProveItLink\" href=\"../9f15d7bd1ab5459f17735db9e329c4ba6a4e7b680/expr.ipynb\"><img src=\"../9f15d7bd1ab5459f17735db9e329c4ba6a4e7b680/expr.png\" style=\"display:inline;vertical-align:middle;\" /></a></td></tr>\n",
       "<tr><td>34</td><td>Variable</td><td></td><td><a class=\"ProveItLink\" href=\"../../../../__pv_it/557ab5defdcd46aa58168b08767502985122cd490/expr.ipynb\"><img src=\"../../../../__pv_it/557ab5defdcd46aa58168b08767502985122cd490/expr.png\" style=\"display:inline;vertical-align:middle;\" /></a></td></tr>\n",
       "<tr><td>35</td><td>Variable</td><td></td><td><a class=\"ProveItLink\" href=\"../../../../__pv_it/6a5b5879f51878868f626bf09e4d76392d4779cd0/expr.ipynb\"><img src=\"../../../../__pv_it/6a5b5879f51878868f626bf09e4d76392d4779cd0/expr.png\" style=\"display:inline;vertical-align:middle;\" /></a></td></tr>\n",
       "<tr><td>36</td><td>Operation</td><td>operator:&nbsp;37<br>operand:&nbsp;38<br></td><td><a class=\"ProveItLink\" href=\"../2eed11002272ec502af6baee392c5b91932464db0/expr.ipynb\"><img src=\"../2eed11002272ec502af6baee392c5b91932464db0/expr.png\" style=\"display:inline;vertical-align:middle;\" /></a></td></tr>\n",
       "<tr><td>37</td><td>IndexedVar</td><td>variable:&nbsp;39<br>index:&nbsp;40<br></td><td><a class=\"ProveItLink\" href=\"../../../__pv_it/759987d721c586f2d31ad4cdd4ac831446524ea00/expr.ipynb\"><img src=\"../../../__pv_it/759987d721c586f2d31ad4cdd4ac831446524ea00/expr.png\" style=\"display:inline;vertical-align:middle;\" /></a></td></tr>\n",
       "<tr><td>38</td><td>Variable</td><td></td><td><a class=\"ProveItLink\" href=\"../../../../__pv_it/72df168d2bfb4e0140af90912ebf83b13772060b0/expr.ipynb\"><img src=\"../../../../__pv_it/72df168d2bfb4e0140af90912ebf83b13772060b0/expr.png\" style=\"display:inline;vertical-align:middle;\" /></a></td></tr>\n",
       "<tr><td>39</td><td>Variable</td><td></td><td><a class=\"ProveItLink\" href=\"../../../../__pv_it/d7bbb04e874e28c7cefb21d4eea40806ae52f1f70/expr.ipynb\"><img src=\"../../../../__pv_it/d7bbb04e874e28c7cefb21d4eea40806ae52f1f70/expr.png\" style=\"display:inline;vertical-align:middle;\" /></a></td></tr>\n",
       "<tr><td>40</td><td>Variable</td><td></td><td><a class=\"ProveItLink\" href=\"../../../../__pv_it/273f49450ca25e1b56abbd98a7aef618f8f6c1360/expr.ipynb\"><img src=\"../../../../__pv_it/273f49450ca25e1b56abbd98a7aef618f8f6c1360/expr.png\" style=\"display:inline;vertical-align:middle;\" /></a></td></tr>\n",
       "</table>\n"
      ],
      "text/plain": [
       "0. forall_{f_{1}, ..f_{_a}.., f_{n}, i, j | (j - i + 1) in Naturals} (|(f_{1}(i), ..f_{1}(x).., f_{1}(j), ....f_{k}(i), ..f_{k}(x).., f_{k}(j)...., f_{n}(i), ..f_{n}(x).., f_{n}(j))| \\\\  = (n * (j - i + 1)))\n",
       "   core type: Operation\n",
       "   operator: 1\n",
       "   operand: 2\n",
       "1. forall\n",
       "   core type: Literal\n",
       "   sub-expressions: \n",
       "2. (f_{1}, ..f_{_a}.., f_{n}, i, j) -> {|(f_{1}(i), ..f_{1}(x).., f_{1}(j), ....f_{k}(i), ..f_{k}(x).., f_{k}(j)...., f_{n}(i), ..f_{n}(x).., f_{n}(j))| \\\\  = (n * (j - i + 1)) if (j - i + 1) in Naturals.\n",
       "   core type: Lambda\n",
       "   parameters: 3\\n   body: 4\n",
       "3. (f_{1}, ..f_{_a}.., f_{n}, i, j)\n",
       "   core type: ExprTuple\n",
       "   sub-expressions: 5, 34, 35\n",
       "4. {|(f_{1}(i), ..f_{1}(x).., f_{1}(j), ....f_{k}(i), ..f_{k}(x).., f_{k}(j)...., f_{n}(i), ..f_{n}(x).., f_{n}(j))| \\\\  = (n * (j - i + 1)) if (j - i + 1) in Naturals.\n",
       "   core type: Conditional\n",
       "   value: 6\n",
       "   condition: 7\n",
       "5. f_{1}, ..f_{_a}.., f_{n}\n",
       "   core type: ExprRange\n",
       "   lambda_map: 8\n",
       "   start_index: 30\n",
       "   end_index: 28\n",
       "6. |(f_{1}(i), ..f_{1}(x).., f_{1}(j), ....f_{k}(i), ..f_{k}(x).., f_{k}(j)...., f_{n}(i), ..f_{n}(x).., f_{n}(j))| \\\\  = (n * (j - i + 1))\n",
       "   core type: Operation\n",
       "   operator: 9\n",
       "   operands: 10\n",
       "7. (j - i + 1) in Naturals\n",
       "   core type: Operation\n",
       "   operator: 11\n",
       "   operands: 12\n",
       "8. _a -> f_{_a}\n",
       "   core type: Lambda\n",
       "   parameter: 17\n",
       "   body: 13\n",
       "9. =\n",
       "   core type: Literal\n",
       "   sub-expressions: \n",
       "10. (|(f_{1}(i), ..f_{1}(x).., f_{1}(j), ....f_{k}(i), ..f_{k}(x).., f_{k}(j)...., f_{n}(i), ..f_{n}(x).., f_{n}(j))|, n * (j - i + 1))\n",
       "    core type: ExprTuple\n",
       "    sub-expressions: 14, 15\n",
       "11. in\n",
       "    core type: Literal\n",
       "    sub-expressions: \n",
       "12. (j - i + 1, Naturals)\n",
       "    core type: ExprTuple\n",
       "    sub-expressions: 23, 16\n",
       "13. f_{_a}\n",
       "    core type: IndexedVar\n",
       "variable: 39\n",
       "index: 17\n",
       "14. |(f_{1}(i), ..f_{1}(x).., f_{1}(j), ....f_{k}(i), ..f_{k}(x).., f_{k}(j)...., f_{n}(i), ..f_{n}(x).., f_{n}(j))|\n",
       "    core type: Operation\n",
       "    operator: 18\n",
       "    operand: 22\n",
       "15. n * (j - i + 1)\n",
       "    core type: Operation\n",
       "    operator: 20\n",
       "    operands: 21\n",
       "16. Naturals\n",
       "    core type: Literal\n",
       "    sub-expressions: \n",
       "17. _a\n",
       "    core type: Variable\n",
       "    sub-expressions: \n",
       "18. length\n",
       "    core type: Literal\n",
       "    sub-expressions: \n",
       "19. ((f_{1}(i), ..f_{1}(x).., f_{1}(j), ....f_{k}(i), ..f_{k}(x).., f_{k}(j)...., f_{n}(i), ..f_{n}(x).., f_{n}(j)))\n",
       "    core type: ExprTuple\n",
       "    sub-expressions: 22\n",
       "20. *\n",
       "    core type: Literal\n",
       "    sub-expressions: \n",
       "21. (n, j - i + 1)\n",
       "    core type: ExprTuple\n",
       "    sub-expressions: 28, 23\n",
       "22. (f_{1}(i), ..f_{1}(x).., f_{1}(j), ....f_{k}(i), ..f_{k}(x).., f_{k}(j)...., f_{n}(i), ..f_{n}(x).., f_{n}(j))\n",
       "    core type: ExprTuple\n",
       "    sub-expressions: 24\n",
       "23. j - i + 1\n",
       "    core type: Operation\n",
       "    operator: 25\n",
       "    operands: 26\n",
       "24. f_{1}(i), ..f_{1}(x).., f_{1}(j), ....f_{k}(i), ..f_{k}(x).., f_{k}(j)...., f_{n}(i), ..f_{n}(x).., f_{n}(j)\n",
       "    core type: ExprRange\n",
       "    lambda_map: 27\n",
       "    start_index: 30\n",
       "    end_index: 28\n",
       "25. +\n",
       "    core type: Literal\n",
       "    sub-expressions: \n",
       "26. (j, -i, 1)\n",
       "    core type: ExprTuple\n",
       "    sub-expressions: 35, 29, 30\n",
       "27. k -> f_{k}(i), ..f_{k}(x).., f_{k}(j)\n",
       "    core type: Lambda\n",
       "    parameter: 40\n",
       "    body: 31\n",
       "28. n\n",
       "    core type: Variable\n",
       "    sub-expressions: \n",
       "29. -i\n",
       "    core type: Operation\n",
       "    operator: 32\n",
       "    operand: 34\n",
       "30. 1\n",
       "    core type: Literal\n",
       "    sub-expressions: \n",
       "31. f_{k}(i), ..f_{k}(x).., f_{k}(j)\n",
       "    core type: ExprRange\n",
       "    lambda_map: 33\n",
       "    start_index: 34\n",
       "    end_index: 35\n",
       "32. -\n",
       "    core type: Literal\n",
       "    sub-expressions: \n",
       "33. x -> f_{k}(x)\n",
       "    core type: Lambda\n",
       "    parameter: 38\n",
       "    body: 36\n",
       "34. i\n",
       "    core type: Variable\n",
       "    sub-expressions: \n",
       "35. j\n",
       "    core type: Variable\n",
       "    sub-expressions: \n",
       "36. f_{k}(x)\n",
       "    core type: Operation\n",
       "    operator: 37\n",
       "    operand: 38\n",
       "37. f_{k}\n",
       "    core type: IndexedVar\n",
       "variable: 39\n",
       "index: 40\n",
       "38. x\n",
       "    core type: Variable\n",
       "    sub-expressions: \n",
       "39. f\n",
       "    core type: Variable\n",
       "    sub-expressions: \n",
       "40. k\n",
       "    core type: Variable\n",
       "    sub-expressions: "
      ]
     },
     "execution_count": 5,
     "metadata": {},
     "output_type": "execute_result"
    }
   ],
   "source": [
    "# display the expression information\n",
    "expr.exprInfo()"
   ]
  },
  {
   "cell_type": "code",
   "execution_count": null,
   "metadata": {},
   "outputs": [],
   "source": []
  }
 ],
 "metadata": {
  "kernelspec": {
   "display_name": "Python 3",
   "language": "python",
   "name": "python3"
  },
  "language_info": {
   "codemirror_mode": {
    "name": "ipython",
    "version": 3
   },
   "file_extension": ".py",
   "mimetype": "text/x-python",
   "name": "python",
   "nbconvert_exporter": "python",
   "pygments_lexer": "ipython3",
   "version": "3.7.3"
  }
 },
 "nbformat": 4,
 "nbformat_minor": 1
}
