{
 "cells": [
  {
   "cell_type": "markdown",
   "metadata": {},
   "source": [
    "Expression of type <a class=\"ProveItLink\" href=\"../../../../../../doc/html/api/proveit.ExprTuple.html\">ExprTuple</a>\n",
    "=======================\n",
    "# from context <a class=\"ProveItLink\" href=\"../../_context_.ipynb\">proveit.core_expr_types.tuples</a>"
   ]
  },
  {
   "cell_type": "code",
   "execution_count": 1,
   "metadata": {},
   "outputs": [],
   "source": [
    "import proveit\n",
    "# Automation is not needed when building an expression:\n",
    "proveit.defaults.automation = False # This will speed things up.\n",
    "proveit.defaults.inline_pngs = False # Makes files smaller.\n",
    "# import Expression classes needed to build the expression\n",
    "from proveit import ExprTuple\n",
    "from proveit._common_ import b, d\n",
    "from proveit.core_expr_types._common_ import a_1_to_i, c_1_to_i\n",
    "from proveit.logic import And, Equals"
   ]
  },
  {
   "cell_type": "code",
   "execution_count": 2,
   "metadata": {},
   "outputs": [
    {
     "data": {
      "text/html": [
       "<strong id=\"expr\">expr:</strong> <a class=\"ProveItLink\" href=\"expr.ipynb\"><img src=\"expr.png\" style=\"display:inline;vertical-align:middle;\" /></a><br>"
      ],
      "text/plain": [
       "expr: ((a_{1}, ..a_{_a}.., a_{i}, b) = (c_{1}, ..c_{_a}.., c_{i}, d), ((a_{1}, ..a_{_a}.., a_{i}) = (c_{1}, ..c_{_a}.., c_{i})) and (b = d))"
      ]
     },
     "execution_count": 2,
     "metadata": {},
     "output_type": "execute_result"
    }
   ],
   "source": [
    "# build up the expression from sub-expressions\n",
    "expr = ExprTuple(Equals([a_1_to_i, b], [c_1_to_i, d]), And(Equals([a_1_to_i], [c_1_to_i]), Equals(b, d)))"
   ]
  },
  {
   "cell_type": "code",
   "execution_count": 3,
   "metadata": {},
   "outputs": [
    {
     "name": "stdout",
     "output_type": "stream",
     "text": [
      "Passed sanity check: built 'expr' is the same as the stored Expression.\n"
     ]
    }
   ],
   "source": [
    "# check that the built expression is the same as the stored expression\n",
    "%check_expr"
   ]
  },
  {
   "cell_type": "code",
   "execution_count": 4,
   "metadata": {},
   "outputs": [
    {
     "name": "stdout",
     "output_type": "stream",
     "text": [
      "\\left(\\left(a_{1}, \\ldots, a_{i}, b\\right) = \\left(c_{1}, \\ldots, c_{i}, d\\right), \\left(\\left(a_{1}, \\ldots, a_{i}\\right) = \\left(c_{1}, \\ldots, c_{i}\\right)\\right) \\land \\left(b = d\\right)\\right)\n"
     ]
    }
   ],
   "source": [
    "# Show the LaTeX representation of the expression for convenience if you need it.\n",
    "print(expr.latex())"
   ]
  },
  {
   "cell_type": "code",
   "execution_count": 5,
   "metadata": {},
   "outputs": [
    {
     "data": {
      "text/html": [
       "<table><tr><th>&nbsp;</th><th>core type</th><th>sub-expressions</th><th>expression</th></tr>\n",
       "<tr><td>0</td><td>ExprTuple</td><td>1, 2</td><td><a class=\"ProveItLink\" href=\"expr.ipynb\"><img src=\"expr.png\" style=\"display:inline;vertical-align:middle;\" /></a></td></tr>\n",
       "<tr><td>1</td><td>Operation</td><td>operator:&nbsp;11<br>operands:&nbsp;3<br></td><td><a class=\"ProveItLink\" href=\"../75ed0292c79488f8b04ea9b4030b508c0ffdbf5b0/expr.ipynb\"><img src=\"../75ed0292c79488f8b04ea9b4030b508c0ffdbf5b0/expr.png\" style=\"display:inline;vertical-align:middle;\" /></a></td></tr>\n",
       "<tr><td>2</td><td>Operation</td><td>operator:&nbsp;4<br>operands:&nbsp;5<br></td><td><a class=\"ProveItLink\" href=\"../7bce6f611326df5a4e796aacdeb301b32a56ac380/expr.ipynb\"><img src=\"../7bce6f611326df5a4e796aacdeb301b32a56ac380/expr.png\" style=\"display:inline;vertical-align:middle;\" /></a></td></tr>\n",
       "<tr><td>3</td><td>ExprTuple</td><td>6, 7</td><td><a class=\"ProveItLink\" href=\"../0dd768d42a2029b3421617b92a0d09f39b1ef6970/expr.ipynb\"><img src=\"../0dd768d42a2029b3421617b92a0d09f39b1ef6970/expr.png\" style=\"display:inline;vertical-align:middle;\" /></a></td></tr>\n",
       "<tr><td>4</td><td>Literal</td><td></td><td><a class=\"ProveItLink\" href=\"../../../../logic/boolean/conjunction/__pv_it/f41cc6b553210927c09f19a8a39cdf860a5585930/expr.ipynb\"><img src=\"../../../../logic/boolean/conjunction/__pv_it/f41cc6b553210927c09f19a8a39cdf860a5585930/expr.png\" style=\"display:inline;vertical-align:middle;\" /></a></td></tr>\n",
       "<tr><td>5</td><td>ExprTuple</td><td>8, 9</td><td><a class=\"ProveItLink\" href=\"../358b68fbba4f6bbfdc07b740bf3a22fe8ff3a6760/expr.ipynb\"><img src=\"../358b68fbba4f6bbfdc07b740bf3a22fe8ff3a6760/expr.png\" style=\"display:inline;vertical-align:middle;\" /></a></td></tr>\n",
       "<tr><td>6</td><td>ExprTuple</td><td>17, 15</td><td><a class=\"ProveItLink\" href=\"../54893cc5a0e76f7d0d593695ad6d4adbc7aa29a70/expr.ipynb\"><img src=\"../54893cc5a0e76f7d0d593695ad6d4adbc7aa29a70/expr.png\" style=\"display:inline;vertical-align:middle;\" /></a></td></tr>\n",
       "<tr><td>7</td><td>ExprTuple</td><td>18, 16</td><td><a class=\"ProveItLink\" href=\"../df7b3cce5531664530ac7bf30dc4320d26ef24830/expr.ipynb\"><img src=\"../df7b3cce5531664530ac7bf30dc4320d26ef24830/expr.png\" style=\"display:inline;vertical-align:middle;\" /></a></td></tr>\n",
       "<tr><td>8</td><td>Operation</td><td>operator:&nbsp;11<br>operands:&nbsp;10<br></td><td><a class=\"ProveItLink\" href=\"../a76cc23d75fb065bdc22e9f8a5eca04a162aeaf90/expr.ipynb\"><img src=\"../a76cc23d75fb065bdc22e9f8a5eca04a162aeaf90/expr.png\" style=\"display:inline;vertical-align:middle;\" /></a></td></tr>\n",
       "<tr><td>9</td><td>Operation</td><td>operator:&nbsp;11<br>operands:&nbsp;12<br></td><td><a class=\"ProveItLink\" href=\"../f05b8f5a71647f59cc910320779a05c70acd59600/expr.ipynb\"><img src=\"../f05b8f5a71647f59cc910320779a05c70acd59600/expr.png\" style=\"display:inline;vertical-align:middle;\" /></a></td></tr>\n",
       "<tr><td>10</td><td>ExprTuple</td><td>13, 14</td><td><a class=\"ProveItLink\" href=\"../ab2c96735934195b053d3e1041aa8845cb4927500/expr.ipynb\"><img src=\"../ab2c96735934195b053d3e1041aa8845cb4927500/expr.png\" style=\"display:inline;vertical-align:middle;\" /></a></td></tr>\n",
       "<tr><td>11</td><td>Literal</td><td></td><td><a class=\"ProveItLink\" href=\"../../../../logic/equality/__pv_it/e16d2caa26a16688b658bdb9c422caf4b84579e10/expr.ipynb\"><img src=\"../../../../logic/equality/__pv_it/e16d2caa26a16688b658bdb9c422caf4b84579e10/expr.png\" style=\"display:inline;vertical-align:middle;\" /></a></td></tr>\n",
       "<tr><td>12</td><td>ExprTuple</td><td>15, 16</td><td><a class=\"ProveItLink\" href=\"../4522c91b84e7485f16d6ba2ce5edb44ec5f7e5ee0/expr.ipynb\"><img src=\"../4522c91b84e7485f16d6ba2ce5edb44ec5f7e5ee0/expr.png\" style=\"display:inline;vertical-align:middle;\" /></a></td></tr>\n",
       "<tr><td>13</td><td>ExprTuple</td><td>17</td><td><a class=\"ProveItLink\" href=\"../684f355b83b14ec889c4359c559a0086da6e8dee0/expr.ipynb\"><img src=\"../684f355b83b14ec889c4359c559a0086da6e8dee0/expr.png\" style=\"display:inline;vertical-align:middle;\" /></a></td></tr>\n",
       "<tr><td>14</td><td>ExprTuple</td><td>18</td><td><a class=\"ProveItLink\" href=\"../61a530f4fe09140d9cc835354a4624f43c3fa7fd0/expr.ipynb\"><img src=\"../61a530f4fe09140d9cc835354a4624f43c3fa7fd0/expr.png\" style=\"display:inline;vertical-align:middle;\" /></a></td></tr>\n",
       "<tr><td>15</td><td>Variable</td><td></td><td><a class=\"ProveItLink\" href=\"../../../../__pv_it/53e304ff98ebc000dbe3ef224f4637dbafd46ba70/expr.ipynb\"><img src=\"../../../../__pv_it/53e304ff98ebc000dbe3ef224f4637dbafd46ba70/expr.png\" style=\"display:inline;vertical-align:middle;\" /></a></td></tr>\n",
       "<tr><td>16</td><td>Variable</td><td></td><td><a class=\"ProveItLink\" href=\"../../../../__pv_it/445e790c2b62732eb8597a2ddda4cbd1a8fb79140/expr.ipynb\"><img src=\"../../../../__pv_it/445e790c2b62732eb8597a2ddda4cbd1a8fb79140/expr.png\" style=\"display:inline;vertical-align:middle;\" /></a></td></tr>\n",
       "<tr><td>17</td><td>ExprRange</td><td>lambda_map:&nbsp;19<br>start_index:&nbsp;21<br>end_index:&nbsp;22<br></td><td><a class=\"ProveItLink\" href=\"../../../__pv_it/196a4822a947788226dd6f6295906f44615646a20/expr.ipynb\"><img src=\"../../../__pv_it/196a4822a947788226dd6f6295906f44615646a20/expr.png\" style=\"display:inline;vertical-align:middle;\" /></a></td></tr>\n",
       "<tr><td>18</td><td>ExprRange</td><td>lambda_map:&nbsp;20<br>start_index:&nbsp;21<br>end_index:&nbsp;22<br></td><td><a class=\"ProveItLink\" href=\"../../../__pv_it/47e63d34459d29e0a418a9af3c0094602e0ce9380/expr.ipynb\"><img src=\"../../../__pv_it/47e63d34459d29e0a418a9af3c0094602e0ce9380/expr.png\" style=\"display:inline;vertical-align:middle;\" /></a></td></tr>\n",
       "<tr><td>19</td><td>Lambda</td><td>parameter:&nbsp;27<br>body:&nbsp;23<br></td><td><a class=\"ProveItLink\" href=\"../../../__pv_it/c512bca05a0e191e5f76f2677a0e9e227e81e9f10/expr.ipynb\"><img src=\"../../../__pv_it/c512bca05a0e191e5f76f2677a0e9e227e81e9f10/expr.png\" style=\"display:inline;vertical-align:middle;\" /></a></td></tr>\n",
       "<tr><td>20</td><td>Lambda</td><td>parameter:&nbsp;27<br>body:&nbsp;24<br></td><td><a class=\"ProveItLink\" href=\"../../../__pv_it/50b93df91ad1ed6c16f081e3492ea5505773aa060/expr.ipynb\"><img src=\"../../../__pv_it/50b93df91ad1ed6c16f081e3492ea5505773aa060/expr.png\" style=\"display:inline;vertical-align:middle;\" /></a></td></tr>\n",
       "<tr><td>21</td><td>Literal</td><td></td><td><a class=\"ProveItLink\" href=\"../../../../number/numeral/__pv_it/f086f8c372bd40a2458306ddfdbb29f3dc6f63030/expr.ipynb\"><img src=\"../../../../number/numeral/__pv_it/f086f8c372bd40a2458306ddfdbb29f3dc6f63030/expr.png\" style=\"display:inline;vertical-align:middle;\" /></a></td></tr>\n",
       "<tr><td>22</td><td>Variable</td><td></td><td><a class=\"ProveItLink\" href=\"../../../../__pv_it/557ab5defdcd46aa58168b08767502985122cd490/expr.ipynb\"><img src=\"../../../../__pv_it/557ab5defdcd46aa58168b08767502985122cd490/expr.png\" style=\"display:inline;vertical-align:middle;\" /></a></td></tr>\n",
       "<tr><td>23</td><td>IndexedVar</td><td>variable:&nbsp;25<br>index:&nbsp;27<br></td><td><a class=\"ProveItLink\" href=\"../../../__pv_it/976fe6b95e8535cc9e0861bdc030337becead6960/expr.ipynb\"><img src=\"../../../__pv_it/976fe6b95e8535cc9e0861bdc030337becead6960/expr.png\" style=\"display:inline;vertical-align:middle;\" /></a></td></tr>\n",
       "<tr><td>24</td><td>IndexedVar</td><td>variable:&nbsp;26<br>index:&nbsp;27<br></td><td><a class=\"ProveItLink\" href=\"../../../__pv_it/e6421d02a0ea05a52c0ad299b2c18b261b8a0fc30/expr.ipynb\"><img src=\"../../../__pv_it/e6421d02a0ea05a52c0ad299b2c18b261b8a0fc30/expr.png\" style=\"display:inline;vertical-align:middle;\" /></a></td></tr>\n",
       "<tr><td>25</td><td>Variable</td><td></td><td><a class=\"ProveItLink\" href=\"../../../../__pv_it/a8d4b3a34d2189508f9082853fbac36935714f280/expr.ipynb\"><img src=\"../../../../__pv_it/a8d4b3a34d2189508f9082853fbac36935714f280/expr.png\" style=\"display:inline;vertical-align:middle;\" /></a></td></tr>\n",
       "<tr><td>26</td><td>Variable</td><td></td><td><a class=\"ProveItLink\" href=\"../../../../__pv_it/b2b446b221a34ee579eb9a1fbdd4ac4e2891d8c70/expr.ipynb\"><img src=\"../../../../__pv_it/b2b446b221a34ee579eb9a1fbdd4ac4e2891d8c70/expr.png\" style=\"display:inline;vertical-align:middle;\" /></a></td></tr>\n",
       "<tr><td>27</td><td>Variable</td><td></td><td><a class=\"ProveItLink\" href=\"../../../__pv_it/1e653f789234b245ee7fea7caad998c139d617410/expr.ipynb\"><img src=\"../../../__pv_it/1e653f789234b245ee7fea7caad998c139d617410/expr.png\" style=\"display:inline;vertical-align:middle;\" /></a></td></tr>\n",
       "</table>\n"
      ],
      "text/plain": [
       "0. ((a_{1}, ..a_{_a}.., a_{i}, b) = (c_{1}, ..c_{_a}.., c_{i}, d), ((a_{1}, ..a_{_a}.., a_{i}) = (c_{1}, ..c_{_a}.., c_{i})) and (b = d))\n",
       "   core type: ExprTuple\n",
       "   sub-expressions: 1, 2\n",
       "1. (a_{1}, ..a_{_a}.., a_{i}, b) = (c_{1}, ..c_{_a}.., c_{i}, d)\n",
       "   core type: Operation\n",
       "   operator: 11\n",
       "   operands: 3\n",
       "2. ((a_{1}, ..a_{_a}.., a_{i}) = (c_{1}, ..c_{_a}.., c_{i})) and (b = d)\n",
       "   core type: Operation\n",
       "   operator: 4\n",
       "   operands: 5\n",
       "3. ((a_{1}, ..a_{_a}.., a_{i}, b), (c_{1}, ..c_{_a}.., c_{i}, d))\n",
       "   core type: ExprTuple\n",
       "   sub-expressions: 6, 7\n",
       "4. and\n",
       "   core type: Literal\n",
       "   sub-expressions: \n",
       "5. ((a_{1}, ..a_{_a}.., a_{i}) = (c_{1}, ..c_{_a}.., c_{i}), b = d)\n",
       "   core type: ExprTuple\n",
       "   sub-expressions: 8, 9\n",
       "6. (a_{1}, ..a_{_a}.., a_{i}, b)\n",
       "   core type: ExprTuple\n",
       "   sub-expressions: 17, 15\n",
       "7. (c_{1}, ..c_{_a}.., c_{i}, d)\n",
       "   core type: ExprTuple\n",
       "   sub-expressions: 18, 16\n",
       "8. (a_{1}, ..a_{_a}.., a_{i}) = (c_{1}, ..c_{_a}.., c_{i})\n",
       "   core type: Operation\n",
       "   operator: 11\n",
       "   operands: 10\n",
       "9. b = d\n",
       "   core type: Operation\n",
       "   operator: 11\n",
       "   operands: 12\n",
       "10. ((a_{1}, ..a_{_a}.., a_{i}), (c_{1}, ..c_{_a}.., c_{i}))\n",
       "    core type: ExprTuple\n",
       "    sub-expressions: 13, 14\n",
       "11. =\n",
       "    core type: Literal\n",
       "    sub-expressions: \n",
       "12. (b, d)\n",
       "    core type: ExprTuple\n",
       "    sub-expressions: 15, 16\n",
       "13. (a_{1}, ..a_{_a}.., a_{i})\n",
       "    core type: ExprTuple\n",
       "    sub-expressions: 17\n",
       "14. (c_{1}, ..c_{_a}.., c_{i})\n",
       "    core type: ExprTuple\n",
       "    sub-expressions: 18\n",
       "15. b\n",
       "    core type: Variable\n",
       "    sub-expressions: \n",
       "16. d\n",
       "    core type: Variable\n",
       "    sub-expressions: \n",
       "17. a_{1}, ..a_{_a}.., a_{i}\n",
       "    core type: ExprRange\n",
       "    lambda_map: 19\n",
       "    start_index: 21\n",
       "    end_index: 22\n",
       "18. c_{1}, ..c_{_a}.., c_{i}\n",
       "    core type: ExprRange\n",
       "    lambda_map: 20\n",
       "    start_index: 21\n",
       "    end_index: 22\n",
       "19. _a -> a_{_a}\n",
       "    core type: Lambda\n",
       "    parameter: 27\n",
       "    body: 23\n",
       "20. _a -> c_{_a}\n",
       "    core type: Lambda\n",
       "    parameter: 27\n",
       "    body: 24\n",
       "21. 1\n",
       "    core type: Literal\n",
       "    sub-expressions: \n",
       "22. i\n",
       "    core type: Variable\n",
       "    sub-expressions: \n",
       "23. a_{_a}\n",
       "    core type: IndexedVar\n",
       "variable: 25\n",
       "index: 27\n",
       "24. c_{_a}\n",
       "    core type: IndexedVar\n",
       "variable: 26\n",
       "index: 27\n",
       "25. a\n",
       "    core type: Variable\n",
       "    sub-expressions: \n",
       "26. c\n",
       "    core type: Variable\n",
       "    sub-expressions: \n",
       "27. _a\n",
       "    core type: Variable\n",
       "    sub-expressions: "
      ]
     },
     "execution_count": 5,
     "metadata": {},
     "output_type": "execute_result"
    }
   ],
   "source": [
    "# display the expression information\n",
    "expr.exprInfo()"
   ]
  },
  {
   "cell_type": "code",
   "execution_count": null,
   "metadata": {},
   "outputs": [],
   "source": []
  }
 ],
 "metadata": {
  "kernelspec": {
   "display_name": "Python 3",
   "language": "python",
   "name": "python3"
  },
  "language_info": {
   "codemirror_mode": {
    "name": "ipython",
    "version": 3
   },
   "file_extension": ".py",
   "mimetype": "text/x-python",
   "name": "python",
   "nbconvert_exporter": "python",
   "pygments_lexer": "ipython3",
   "version": "3.7.3"
  }
 },
 "nbformat": 4,
 "nbformat_minor": 1
}
