{
 "cells": [
  {
   "cell_type": "markdown",
   "metadata": {},
   "source": [
    "Expression of type <a class=\"ProveItLink\" href=\"../../../../../../doc/html/api/proveit.ExprTuple.html\">ExprTuple</a>\n",
    "=======================\n",
    "# from context <a class=\"ProveItLink\" href=\"../../_context_.ipynb\">proveit.core_expr_types.tuples</a>"
   ]
  },
  {
   "cell_type": "code",
   "execution_count": 1,
   "metadata": {},
   "outputs": [],
   "source": [
    "import proveit\n",
    "# Automation is not needed when building an expression:\n",
    "proveit.defaults.automation = False # This will speed things up.\n",
    "proveit.defaults.inline_pngs = False # Makes files smaller.\n",
    "# import Expression classes needed to build the expression\n",
    "from proveit import ExprRange, ExprTuple, IndexedVar, Variable\n",
    "from proveit._common_ import a, b, k, m\n",
    "from proveit.logic import Equals, Forall, InSet\n",
    "from proveit.number import Add, NaturalsPos, one"
   ]
  },
  {
   "cell_type": "code",
   "execution_count": 2,
   "metadata": {},
   "outputs": [
    {
     "data": {
      "text/html": [
       "<strong id=\"expr\">expr:</strong> <a class=\"ProveItLink\" href=\"../44790a02fd57b3c7904edef7bab24166cd6a75560/expr.ipynb\"><img src=\"../44790a02fd57b3c7904edef7bab24166cd6a75560/expr.png\" style=\"display:inline;vertical-align:middle;\" /></a><br>"
      ],
      "text/plain": [
       "expr: (m in NaturalsPos, forall_{a_{1}, ..a_{_a}.., a_{m}, b_{1}, ..b_{_a}.., b_{m} | a_{1} = b_{1}, ..a_{k} = b_{k}.., a_{m} = b_{m}} ((a_{1}, ..a_{_a}.., a_{m}) = (b_{1}, ..b_{_a}.., b_{m})), a_{1} = b_{1}, ..a_{k} = b_{k}.., a_{m + 1} = b_{m + 1})"
      ]
     },
     "execution_count": 2,
     "metadata": {},
     "output_type": "execute_result"
    }
   ],
   "source": [
    "# build up the expression from sub-expressions\n",
    "subExpr1 = Variable(\"_a\", latexFormat = r\"{_{-}a}\")\n",
    "subExpr2 = ExprRange(subExpr1, IndexedVar(a, subExpr1), one, m)\n",
    "subExpr3 = ExprRange(subExpr1, IndexedVar(b, subExpr1), one, m)\n",
    "subExpr4 = Equals(IndexedVar(a, k), IndexedVar(b, k))\n",
    "expr = ExprTuple(InSet(m, NaturalsPos), Forall([subExpr2, subExpr3], Equals([subExpr2], [subExpr3]), condition = ExprRange(k, subExpr4, one, m)), ExprRange(k, subExpr4, one, Add(m, one)))"
   ]
  },
  {
   "cell_type": "code",
   "execution_count": 3,
   "metadata": {},
   "outputs": [
    {
     "name": "stdout",
     "output_type": "stream",
     "text": [
      "Passed sanity check: built 'expr' is the same as the stored Expression.\n"
     ]
    }
   ],
   "source": [
    "# check that the built expression is the same as the stored expression\n",
    "%check_expr"
   ]
  },
  {
   "cell_type": "code",
   "execution_count": 4,
   "metadata": {},
   "outputs": [
    {
     "name": "stdout",
     "output_type": "stream",
     "text": [
      "\\left(m \\in \\mathbb{N}^+, \\forall_{a_{1}, \\ldots, a_{m}, b_{1}, \\ldots, b_{m}~|~a_{1} = b_{1}, \\ldots, a_{m} = b_{m}}~\\left(\\left(a_{1}, \\ldots, a_{m}\\right) = \\left(b_{1}, \\ldots, b_{m}\\right)\\right), a_{1} = b_{1}, \\ldots, a_{m + 1} = b_{m + 1}\\right)\n"
     ]
    }
   ],
   "source": [
    "# Show the LaTeX representation of the expression for convenience if you need it.\n",
    "print(expr.latex())"
   ]
  },
  {
   "cell_type": "code",
   "execution_count": 5,
   "metadata": {},
   "outputs": [
    {
     "data": {
      "text/html": [
       "<table><tr><th>&nbsp;</th><th>core type</th><th>sub-expressions</th><th>expression</th></tr>\n",
       "<tr><td>0</td><td>ExprTuple</td><td>1, 2, 3</td><td><a class=\"ProveItLink\" href=\"../44790a02fd57b3c7904edef7bab24166cd6a75560/expr.ipynb\"><img src=\"../44790a02fd57b3c7904edef7bab24166cd6a75560/expr.png\" style=\"display:inline;vertical-align:middle;\" /></a></td></tr>\n",
       "<tr><td>1</td><td>Operation</td><td>operator:&nbsp;4<br>operands:&nbsp;5<br></td><td><a class=\"ProveItLink\" href=\"../00c4f166702e2c8605a21d18d6f4afa30ce5ae770/expr.ipynb\"><img src=\"../00c4f166702e2c8605a21d18d6f4afa30ce5ae770/expr.png\" style=\"display:inline;vertical-align:middle;\" /></a></td></tr>\n",
       "<tr><td>2</td><td>Operation</td><td>operator:&nbsp;6<br>operand:&nbsp;7<br></td><td><a class=\"ProveItLink\" href=\"../e9d6a5a98bb08e4a552ebe16324297ed1debe74c0/expr.ipynb\"><img src=\"../e9d6a5a98bb08e4a552ebe16324297ed1debe74c0/expr.png\" style=\"display:inline;vertical-align:middle;\" /></a></td></tr>\n",
       "<tr><td>3</td><td>ExprRange</td><td>lambda_map:&nbsp;24<br>start_index:&nbsp;27<br>end_index:&nbsp;8<br></td><td><a class=\"ProveItLink\" href=\"../7a43ec0fc61ef0f5ecd7a837cddee7bb40348fd60/expr.ipynb\"><img src=\"../7a43ec0fc61ef0f5ecd7a837cddee7bb40348fd60/expr.png\" style=\"display:inline;vertical-align:middle;\" /></a></td></tr>\n",
       "<tr><td>4</td><td>Literal</td><td></td><td><a class=\"ProveItLink\" href=\"../../../../logic/set_theory/membership/__pv_it/7776fc89cb67d0b5b1ec2c0c8e08da5587921ccf0/expr.ipynb\"><img src=\"../../../../logic/set_theory/membership/__pv_it/7776fc89cb67d0b5b1ec2c0c8e08da5587921ccf0/expr.png\" style=\"display:inline;vertical-align:middle;\" /></a></td></tr>\n",
       "<tr><td>5</td><td>ExprTuple</td><td>28, 9</td><td><a class=\"ProveItLink\" href=\"../bb11328f0b34b1a3f0f6a8b2fc1564eaf9723c990/expr.ipynb\"><img src=\"../bb11328f0b34b1a3f0f6a8b2fc1564eaf9723c990/expr.png\" style=\"display:inline;vertical-align:middle;\" /></a></td></tr>\n",
       "<tr><td>6</td><td>Literal</td><td></td><td><a class=\"ProveItLink\" href=\"../../../../logic/boolean/quantification/universal/__pv_it/fd9c772d6675566ed52a6897806f45eb08a4ea910/expr.ipynb\"><img src=\"../../../../logic/boolean/quantification/universal/__pv_it/fd9c772d6675566ed52a6897806f45eb08a4ea910/expr.png\" style=\"display:inline;vertical-align:middle;\" /></a></td></tr>\n",
       "<tr><td>7</td><td>Lambda</td><td>parameters:&nbsp;10<br>body:&nbsp;11<br></td><td><a class=\"ProveItLink\" href=\"../43db1b977f5cf7a205d70fcf2f5605390c15b3270/expr.ipynb\"><img src=\"../43db1b977f5cf7a205d70fcf2f5605390c15b3270/expr.png\" style=\"display:inline;vertical-align:middle;\" /></a></td></tr>\n",
       "<tr><td>8</td><td>Operation</td><td>operator:&nbsp;12<br>operands:&nbsp;13<br></td><td><a class=\"ProveItLink\" href=\"../../../../number/__pv_it/2405c78a618b87810578a8f1ea9b7025f87fb8f80/expr.ipynb\"><img src=\"../../../../number/__pv_it/2405c78a618b87810578a8f1ea9b7025f87fb8f80/expr.png\" style=\"display:inline;vertical-align:middle;\" /></a></td></tr>\n",
       "<tr><td>9</td><td>Literal</td><td></td><td><a class=\"ProveItLink\" href=\"../../../../number/sets/integer/__pv_it/f6a9f4b6dec6ab4d2dcb6ba1b0ba3cceefc643530/expr.ipynb\"><img src=\"../../../../number/sets/integer/__pv_it/f6a9f4b6dec6ab4d2dcb6ba1b0ba3cceefc643530/expr.png\" style=\"display:inline;vertical-align:middle;\" /></a></td></tr>\n",
       "<tr><td>10</td><td>ExprTuple</td><td>22, 23</td><td><a class=\"ProveItLink\" href=\"../f438a82c74e5d464f8b9bb47295d34f94868c76c0/expr.ipynb\"><img src=\"../f438a82c74e5d464f8b9bb47295d34f94868c76c0/expr.png\" style=\"display:inline;vertical-align:middle;\" /></a></td></tr>\n",
       "<tr><td>11</td><td>Conditional</td><td>value:&nbsp;14<br>condition:&nbsp;15<br></td><td><a class=\"ProveItLink\" href=\"../50080cd4068bbad68ba3ec639363f60450f4b63f0/expr.ipynb\"><img src=\"../50080cd4068bbad68ba3ec639363f60450f4b63f0/expr.png\" style=\"display:inline;vertical-align:middle;\" /></a></td></tr>\n",
       "<tr><td>12</td><td>Literal</td><td></td><td><a class=\"ProveItLink\" href=\"../../../../number/addition/__pv_it/65ad7e8aee19b10110d590375ba95a879c4fb7ea0/expr.ipynb\"><img src=\"../../../../number/addition/__pv_it/65ad7e8aee19b10110d590375ba95a879c4fb7ea0/expr.png\" style=\"display:inline;vertical-align:middle;\" /></a></td></tr>\n",
       "<tr><td>13</td><td>ExprTuple</td><td>28, 27</td><td><a class=\"ProveItLink\" href=\"../../../../number/__pv_it/2245a4534d7703e5e3dc7e3cfd7b6bb4ebb3f45b0/expr.ipynb\"><img src=\"../../../../number/__pv_it/2245a4534d7703e5e3dc7e3cfd7b6bb4ebb3f45b0/expr.png\" style=\"display:inline;vertical-align:middle;\" /></a></td></tr>\n",
       "<tr><td>14</td><td>Operation</td><td>operator:&nbsp;32<br>operands:&nbsp;16<br></td><td><a class=\"ProveItLink\" href=\"../b5bb60303415c3b77be7f9829141cb70c2ac80620/expr.ipynb\"><img src=\"../b5bb60303415c3b77be7f9829141cb70c2ac80620/expr.png\" style=\"display:inline;vertical-align:middle;\" /></a></td></tr>\n",
       "<tr><td>15</td><td>Operation</td><td>operator:&nbsp;17<br>operands:&nbsp;18<br></td><td><a class=\"ProveItLink\" href=\"../95da4d13bd14c1a3367c9cc27bd2cd64e1c6908c0/expr.ipynb\"><img src=\"../95da4d13bd14c1a3367c9cc27bd2cd64e1c6908c0/expr.png\" style=\"display:inline;vertical-align:middle;\" /></a></td></tr>\n",
       "<tr><td>16</td><td>ExprTuple</td><td>19, 20</td><td><a class=\"ProveItLink\" href=\"../380fcf8298582000548c613d11d7d150e72013430/expr.ipynb\"><img src=\"../380fcf8298582000548c613d11d7d150e72013430/expr.png\" style=\"display:inline;vertical-align:middle;\" /></a></td></tr>\n",
       "<tr><td>17</td><td>Literal</td><td></td><td><a class=\"ProveItLink\" href=\"../../../../logic/boolean/conjunction/__pv_it/f41cc6b553210927c09f19a8a39cdf860a5585930/expr.ipynb\"><img src=\"../../../../logic/boolean/conjunction/__pv_it/f41cc6b553210927c09f19a8a39cdf860a5585930/expr.png\" style=\"display:inline;vertical-align:middle;\" /></a></td></tr>\n",
       "<tr><td>18</td><td>ExprTuple</td><td>21</td><td><a class=\"ProveItLink\" href=\"../578967588a0cf3d1625300314461e40192d3227c0/expr.ipynb\"><img src=\"../578967588a0cf3d1625300314461e40192d3227c0/expr.png\" style=\"display:inline;vertical-align:middle;\" /></a></td></tr>\n",
       "<tr><td>19</td><td>ExprTuple</td><td>22</td><td><a class=\"ProveItLink\" href=\"../b1a624785382bc52ffe5cc5a2bb6a12e545c163a0/expr.ipynb\"><img src=\"../b1a624785382bc52ffe5cc5a2bb6a12e545c163a0/expr.png\" style=\"display:inline;vertical-align:middle;\" /></a></td></tr>\n",
       "<tr><td>20</td><td>ExprTuple</td><td>23</td><td><a class=\"ProveItLink\" href=\"../cd73219ffe8b805b77e8e176690304bbf1a60ca90/expr.ipynb\"><img src=\"../cd73219ffe8b805b77e8e176690304bbf1a60ca90/expr.png\" style=\"display:inline;vertical-align:middle;\" /></a></td></tr>\n",
       "<tr><td>21</td><td>ExprRange</td><td>lambda_map:&nbsp;24<br>start_index:&nbsp;27<br>end_index:&nbsp;28<br></td><td><a class=\"ProveItLink\" href=\"../6ad0a288b7282dac919481d69f5fcf980f7c23220/expr.ipynb\"><img src=\"../6ad0a288b7282dac919481d69f5fcf980f7c23220/expr.png\" style=\"display:inline;vertical-align:middle;\" /></a></td></tr>\n",
       "<tr><td>22</td><td>ExprRange</td><td>lambda_map:&nbsp;25<br>start_index:&nbsp;27<br>end_index:&nbsp;28<br></td><td><a class=\"ProveItLink\" href=\"../a2145da5c679cbf5b85303b370e2301da4fac3350/expr.ipynb\"><img src=\"../a2145da5c679cbf5b85303b370e2301da4fac3350/expr.png\" style=\"display:inline;vertical-align:middle;\" /></a></td></tr>\n",
       "<tr><td>23</td><td>ExprRange</td><td>lambda_map:&nbsp;26<br>start_index:&nbsp;27<br>end_index:&nbsp;28<br></td><td><a class=\"ProveItLink\" href=\"../06ab6edfa2f25a00f4fed2de43da28f3d35b43020/expr.ipynb\"><img src=\"../06ab6edfa2f25a00f4fed2de43da28f3d35b43020/expr.png\" style=\"display:inline;vertical-align:middle;\" /></a></td></tr>\n",
       "<tr><td>24</td><td>Lambda</td><td>parameter:&nbsp;39<br>body:&nbsp;29<br></td><td><a class=\"ProveItLink\" href=\"../92fab72838081b77cd03a83ec4832afb6e59ab990/expr.ipynb\"><img src=\"../92fab72838081b77cd03a83ec4832afb6e59ab990/expr.png\" style=\"display:inline;vertical-align:middle;\" /></a></td></tr>\n",
       "<tr><td>25</td><td>Lambda</td><td>parameter:&nbsp;34<br>body:&nbsp;30<br></td><td><a class=\"ProveItLink\" href=\"../../../__pv_it/c512bca05a0e191e5f76f2677a0e9e227e81e9f10/expr.ipynb\"><img src=\"../../../__pv_it/c512bca05a0e191e5f76f2677a0e9e227e81e9f10/expr.png\" style=\"display:inline;vertical-align:middle;\" /></a></td></tr>\n",
       "<tr><td>26</td><td>Lambda</td><td>parameter:&nbsp;34<br>body:&nbsp;31<br></td><td><a class=\"ProveItLink\" href=\"../../../__pv_it/996f2ec6331c8b2d1be4799856e0d232802586e80/expr.ipynb\"><img src=\"../../../__pv_it/996f2ec6331c8b2d1be4799856e0d232802586e80/expr.png\" style=\"display:inline;vertical-align:middle;\" /></a></td></tr>\n",
       "<tr><td>27</td><td>Literal</td><td></td><td><a class=\"ProveItLink\" href=\"../../../../number/numeral/__pv_it/f086f8c372bd40a2458306ddfdbb29f3dc6f63030/expr.ipynb\"><img src=\"../../../../number/numeral/__pv_it/f086f8c372bd40a2458306ddfdbb29f3dc6f63030/expr.png\" style=\"display:inline;vertical-align:middle;\" /></a></td></tr>\n",
       "<tr><td>28</td><td>Variable</td><td></td><td><a class=\"ProveItLink\" href=\"../../../../__pv_it/6e8a38e9a7e2b6af352562cd77e0eb4751f142620/expr.ipynb\"><img src=\"../../../../__pv_it/6e8a38e9a7e2b6af352562cd77e0eb4751f142620/expr.png\" style=\"display:inline;vertical-align:middle;\" /></a></td></tr>\n",
       "<tr><td>29</td><td>Operation</td><td>operator:&nbsp;32<br>operands:&nbsp;33<br></td><td><a class=\"ProveItLink\" href=\"../da2917d0d11bd0f0556c024afd1e25039b12e4f90/expr.ipynb\"><img src=\"../da2917d0d11bd0f0556c024afd1e25039b12e4f90/expr.png\" style=\"display:inline;vertical-align:middle;\" /></a></td></tr>\n",
       "<tr><td>30</td><td>IndexedVar</td><td>variable:&nbsp;37<br>index:&nbsp;34<br></td><td><a class=\"ProveItLink\" href=\"../../../__pv_it/976fe6b95e8535cc9e0861bdc030337becead6960/expr.ipynb\"><img src=\"../../../__pv_it/976fe6b95e8535cc9e0861bdc030337becead6960/expr.png\" style=\"display:inline;vertical-align:middle;\" /></a></td></tr>\n",
       "<tr><td>31</td><td>IndexedVar</td><td>variable:&nbsp;38<br>index:&nbsp;34<br></td><td><a class=\"ProveItLink\" href=\"../../../__pv_it/9bc57456e5b3b4b9fd388151d23275520992cab00/expr.ipynb\"><img src=\"../../../__pv_it/9bc57456e5b3b4b9fd388151d23275520992cab00/expr.png\" style=\"display:inline;vertical-align:middle;\" /></a></td></tr>\n",
       "<tr><td>32</td><td>Literal</td><td></td><td><a class=\"ProveItLink\" href=\"../../../../logic/equality/__pv_it/e16d2caa26a16688b658bdb9c422caf4b84579e10/expr.ipynb\"><img src=\"../../../../logic/equality/__pv_it/e16d2caa26a16688b658bdb9c422caf4b84579e10/expr.png\" style=\"display:inline;vertical-align:middle;\" /></a></td></tr>\n",
       "<tr><td>33</td><td>ExprTuple</td><td>35, 36</td><td><a class=\"ProveItLink\" href=\"../c31aaf64045138a770e871ed28d25d43c91902140/expr.ipynb\"><img src=\"../c31aaf64045138a770e871ed28d25d43c91902140/expr.png\" style=\"display:inline;vertical-align:middle;\" /></a></td></tr>\n",
       "<tr><td>34</td><td>Variable</td><td></td><td><a class=\"ProveItLink\" href=\"../../../__pv_it/1e653f789234b245ee7fea7caad998c139d617410/expr.ipynb\"><img src=\"../../../__pv_it/1e653f789234b245ee7fea7caad998c139d617410/expr.png\" style=\"display:inline;vertical-align:middle;\" /></a></td></tr>\n",
       "<tr><td>35</td><td>IndexedVar</td><td>variable:&nbsp;37<br>index:&nbsp;39<br></td><td><a class=\"ProveItLink\" href=\"../b293c0ee013c53339b52eb6f97821f06329d44930/expr.ipynb\"><img src=\"../b293c0ee013c53339b52eb6f97821f06329d44930/expr.png\" style=\"display:inline;vertical-align:middle;\" /></a></td></tr>\n",
       "<tr><td>36</td><td>IndexedVar</td><td>variable:&nbsp;38<br>index:&nbsp;39<br></td><td><a class=\"ProveItLink\" href=\"../e07caa39bce44f9ad5993a061b65fae426cffae30/expr.ipynb\"><img src=\"../e07caa39bce44f9ad5993a061b65fae426cffae30/expr.png\" style=\"display:inline;vertical-align:middle;\" /></a></td></tr>\n",
       "<tr><td>37</td><td>Variable</td><td></td><td><a class=\"ProveItLink\" href=\"../../../../__pv_it/a8d4b3a34d2189508f9082853fbac36935714f280/expr.ipynb\"><img src=\"../../../../__pv_it/a8d4b3a34d2189508f9082853fbac36935714f280/expr.png\" style=\"display:inline;vertical-align:middle;\" /></a></td></tr>\n",
       "<tr><td>38</td><td>Variable</td><td></td><td><a class=\"ProveItLink\" href=\"../../../../__pv_it/53e304ff98ebc000dbe3ef224f4637dbafd46ba70/expr.ipynb\"><img src=\"../../../../__pv_it/53e304ff98ebc000dbe3ef224f4637dbafd46ba70/expr.png\" style=\"display:inline;vertical-align:middle;\" /></a></td></tr>\n",
       "<tr><td>39</td><td>Variable</td><td></td><td><a class=\"ProveItLink\" href=\"../../../../__pv_it/273f49450ca25e1b56abbd98a7aef618f8f6c1360/expr.ipynb\"><img src=\"../../../../__pv_it/273f49450ca25e1b56abbd98a7aef618f8f6c1360/expr.png\" style=\"display:inline;vertical-align:middle;\" /></a></td></tr>\n",
       "</table>\n"
      ],
      "text/plain": [
       "0. (m in NaturalsPos, forall_{a_{1}, ..a_{_a}.., a_{m}, b_{1}, ..b_{_a}.., b_{m} | a_{1} = b_{1}, ..a_{k} = b_{k}.., a_{m} = b_{m}} ((a_{1}, ..a_{_a}.., a_{m}) = (b_{1}, ..b_{_a}.., b_{m})), a_{1} = b_{1}, ..a_{k} = b_{k}.., a_{m + 1} = b_{m + 1})\n",
       "   core type: ExprTuple\n",
       "   sub-expressions: 1, 2, 3\n",
       "1. m in NaturalsPos\n",
       "   core type: Operation\n",
       "   operator: 4\n",
       "   operands: 5\n",
       "2. forall_{a_{1}, ..a_{_a}.., a_{m}, b_{1}, ..b_{_a}.., b_{m} | a_{1} = b_{1}, ..a_{k} = b_{k}.., a_{m} = b_{m}} ((a_{1}, ..a_{_a}.., a_{m}) = (b_{1}, ..b_{_a}.., b_{m}))\n",
       "   core type: Operation\n",
       "   operator: 6\n",
       "   operand: 7\n",
       "3. (a_{1} = b_{1}), ..(a_{k} = b_{k}).., (a_{m + 1} = b_{m + 1})\n",
       "   core type: ExprRange\n",
       "   lambda_map: 24\n",
       "   start_index: 27\n",
       "   end_index: 8\n",
       "4. in\n",
       "   core type: Literal\n",
       "   sub-expressions: \n",
       "5. (m, NaturalsPos)\n",
       "   core type: ExprTuple\n",
       "   sub-expressions: 28, 9\n",
       "6. forall\n",
       "   core type: Literal\n",
       "   sub-expressions: \n",
       "7. (a_{1}, ..a_{_a}.., a_{m}, b_{1}, ..b_{_a}.., b_{m}) -> {(a_{1}, ..a_{_a}.., a_{m}) = (b_{1}, ..b_{_a}.., b_{m}) if (a_{1} = b_{1}) and ..(a_{k} = b_{k}).. and (a_{m} = b_{m}).\n",
       "   core type: Lambda\n",
       "   parameters: 10\\n   body: 11\n",
       "8. m + 1\n",
       "   core type: Operation\n",
       "   operator: 12\n",
       "   operands: 13\n",
       "9. NaturalsPos\n",
       "   core type: Literal\n",
       "   sub-expressions: \n",
       "10. (a_{1}, ..a_{_a}.., a_{m}, b_{1}, ..b_{_a}.., b_{m})\n",
       "    core type: ExprTuple\n",
       "    sub-expressions: 22, 23\n",
       "11. {(a_{1}, ..a_{_a}.., a_{m}) = (b_{1}, ..b_{_a}.., b_{m}) if (a_{1} = b_{1}) and ..(a_{k} = b_{k}).. and (a_{m} = b_{m}).\n",
       "    core type: Conditional\n",
       "    value: 14\n",
       "    condition: 15\n",
       "12. +\n",
       "    core type: Literal\n",
       "    sub-expressions: \n",
       "13. (m, 1)\n",
       "    core type: ExprTuple\n",
       "    sub-expressions: 28, 27\n",
       "14. (a_{1}, ..a_{_a}.., a_{m}) = (b_{1}, ..b_{_a}.., b_{m})\n",
       "    core type: Operation\n",
       "    operator: 32\n",
       "    operands: 16\n",
       "15. (a_{1} = b_{1}) and ..(a_{k} = b_{k}).. and (a_{m} = b_{m})\n",
       "    core type: Operation\n",
       "    operator: 17\n",
       "    operands: 18\n",
       "16. ((a_{1}, ..a_{_a}.., a_{m}), (b_{1}, ..b_{_a}.., b_{m}))\n",
       "    core type: ExprTuple\n",
       "    sub-expressions: 19, 20\n",
       "17. and\n",
       "    core type: Literal\n",
       "    sub-expressions: \n",
       "18. (a_{1} = b_{1}, ..a_{k} = b_{k}.., a_{m} = b_{m})\n",
       "    core type: ExprTuple\n",
       "    sub-expressions: 21\n",
       "19. (a_{1}, ..a_{_a}.., a_{m})\n",
       "    core type: ExprTuple\n",
       "    sub-expressions: 22\n",
       "20. (b_{1}, ..b_{_a}.., b_{m})\n",
       "    core type: ExprTuple\n",
       "    sub-expressions: 23\n",
       "21. (a_{1} = b_{1}), ..(a_{k} = b_{k}).., (a_{m} = b_{m})\n",
       "    core type: ExprRange\n",
       "    lambda_map: 24\n",
       "    start_index: 27\n",
       "    end_index: 28\n",
       "22. a_{1}, ..a_{_a}.., a_{m}\n",
       "    core type: ExprRange\n",
       "    lambda_map: 25\n",
       "    start_index: 27\n",
       "    end_index: 28\n",
       "23. b_{1}, ..b_{_a}.., b_{m}\n",
       "    core type: ExprRange\n",
       "    lambda_map: 26\n",
       "    start_index: 27\n",
       "    end_index: 28\n",
       "24. k -> (a_{k} = b_{k})\n",
       "    core type: Lambda\n",
       "    parameter: 39\n",
       "    body: 29\n",
       "25. _a -> a_{_a}\n",
       "    core type: Lambda\n",
       "    parameter: 34\n",
       "    body: 30\n",
       "26. _a -> b_{_a}\n",
       "    core type: Lambda\n",
       "    parameter: 34\n",
       "    body: 31\n",
       "27. 1\n",
       "    core type: Literal\n",
       "    sub-expressions: \n",
       "28. m\n",
       "    core type: Variable\n",
       "    sub-expressions: \n",
       "29. a_{k} = b_{k}\n",
       "    core type: Operation\n",
       "    operator: 32\n",
       "    operands: 33\n",
       "30. a_{_a}\n",
       "    core type: IndexedVar\n",
       "variable: 37\n",
       "index: 34\n",
       "31. b_{_a}\n",
       "    core type: IndexedVar\n",
       "variable: 38\n",
       "index: 34\n",
       "32. =\n",
       "    core type: Literal\n",
       "    sub-expressions: \n",
       "33. (a_{k}, b_{k})\n",
       "    core type: ExprTuple\n",
       "    sub-expressions: 35, 36\n",
       "34. _a\n",
       "    core type: Variable\n",
       "    sub-expressions: \n",
       "35. a_{k}\n",
       "    core type: IndexedVar\n",
       "variable: 37\n",
       "index: 39\n",
       "36. b_{k}\n",
       "    core type: IndexedVar\n",
       "variable: 38\n",
       "index: 39\n",
       "37. a\n",
       "    core type: Variable\n",
       "    sub-expressions: \n",
       "38. b\n",
       "    core type: Variable\n",
       "    sub-expressions: \n",
       "39. k\n",
       "    core type: Variable\n",
       "    sub-expressions: "
      ]
     },
     "execution_count": 5,
     "metadata": {},
     "output_type": "execute_result"
    }
   ],
   "source": [
    "# display the expression information\n",
    "expr.exprInfo()"
   ]
  },
  {
   "cell_type": "code",
   "execution_count": null,
   "metadata": {},
   "outputs": [],
   "source": []
  }
 ],
 "metadata": {
  "kernelspec": {
   "display_name": "Python 3",
   "language": "python",
   "name": "python3"
  },
  "language_info": {
   "codemirror_mode": {
    "name": "ipython",
    "version": 3
   },
   "file_extension": ".py",
   "mimetype": "text/x-python",
   "name": "python",
   "nbconvert_exporter": "python",
   "pygments_lexer": "ipython3",
   "version": "3.7.3"
  }
 },
 "nbformat": 4,
 "nbformat_minor": 1
}
