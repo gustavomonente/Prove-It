{
 "cells": [
  {
   "cell_type": "markdown",
   "metadata": {},
   "source": [
    "Expression of type <a class=\"ProveItLink\" href=\"../../../../../../doc/html/api/proveit.Conditional.html\">Conditional</a>\n",
    "=======================\n",
    "# from context <a class=\"ProveItLink\" href=\"../../_context_.ipynb\">proveit.core_expr_types.tuples</a>"
   ]
  },
  {
   "cell_type": "code",
   "execution_count": 1,
   "metadata": {},
   "outputs": [],
   "source": [
    "import proveit\n",
    "# Automation is not needed when building an expression:\n",
    "proveit.defaults.automation = False # This will speed things up.\n",
    "proveit.defaults.inline_pngs = False # Makes files smaller.\n",
    "# import Expression classes needed to build the expression\n",
    "from proveit import Conditional\n",
    "from proveit._common_ import i, j\n",
    "from proveit.core_expr_types._common_ import merge_series_conditions, merge_series_equiv, x_0_to_jmi\n",
    "from proveit.logic import Forall, InSet\n",
    "from proveit.number import Add, Naturals, Neg"
   ]
  },
  {
   "cell_type": "code",
   "execution_count": 2,
   "metadata": {},
   "outputs": [
    {
     "data": {
      "text/html": [
       "<strong id=\"expr\">expr:</strong> <a class=\"ProveItLink\" href=\"../d680ef0330c961bbab6b12b3f0d8cd51d6976c180/expr.ipynb\"><img src=\"../d680ef0330c961bbab6b12b3f0d8cd51d6976c180/expr.png\" style=\"display:inline;vertical-align:middle;\" /></a><br>"
      ],
      "text/plain": [
       "expr: {forall_{x_{0}, ..x_{i}.., x_{j - i} | x_{0} = f(i + 0), ..x_{k} = f(i + k).., x_{j - i} = f(i + (j - i))} ((x_{0}, ..x_{i}.., x_{j - i}) =  \\\\ (f(i), ..f(a).., f(j))) if (j - i) in Naturals."
      ]
     },
     "execution_count": 2,
     "metadata": {},
     "output_type": "execute_result"
    }
   ],
   "source": [
    "# build up the expression from sub-expressions\n",
    "expr = Conditional(Forall([x_0_to_jmi], merge_series_equiv, condition = merge_series_conditions), InSet(Add(j, Neg(i)), Naturals))"
   ]
  },
  {
   "cell_type": "code",
   "execution_count": 3,
   "metadata": {},
   "outputs": [
    {
     "name": "stdout",
     "output_type": "stream",
     "text": [
      "Passed sanity check: built 'expr' is the same as the stored Expression.\n"
     ]
    }
   ],
   "source": [
    "# check that the built expression is the same as the stored expression\n",
    "%check_expr"
   ]
  },
  {
   "cell_type": "code",
   "execution_count": 4,
   "metadata": {},
   "outputs": [
    {
     "name": "stdout",
     "output_type": "stream",
     "text": [
      "\\left\\{\\forall_{x_{0}, \\ldots, x_{j - i}~|~x_{0} = f(i + 0), \\ldots, x_{j - i} = f(i + \\left(j - i\\right))}~\\left(\\begin{array}{c} \\left(x_{0}, \\ldots, x_{j - i}\\right) =  \\\\ \\left(f(i), \\ldots, f(j)\\right) \\end{array}\\right) \\textrm{ if } \\left(j - i\\right) \\in \\mathbb{N}\\right..\n"
     ]
    }
   ],
   "source": [
    "# Show the LaTeX representation of the expression for convenience if you need it.\n",
    "print(expr.latex())"
   ]
  },
  {
   "cell_type": "code",
   "execution_count": 5,
   "metadata": {},
   "outputs": [
    {
     "data": {
      "text/html": [
       "<table><tr><th>&nbsp;</th><th>core type</th><th>sub-expressions</th><th>expression</th></tr>\n",
       "<tr><td>0</td><td>Conditional</td><td>value:&nbsp;1<br>condition:&nbsp;2<br></td><td><a class=\"ProveItLink\" href=\"../d680ef0330c961bbab6b12b3f0d8cd51d6976c180/expr.ipynb\"><img src=\"../d680ef0330c961bbab6b12b3f0d8cd51d6976c180/expr.png\" style=\"display:inline;vertical-align:middle;\" /></a></td></tr>\n",
       "<tr><td>1</td><td>Operation</td><td>operator:&nbsp;3<br>operand:&nbsp;4<br></td><td><a class=\"ProveItLink\" href=\"../7fdf268bdfc44a9e9ce2877674db82285ca403080/expr.ipynb\"><img src=\"../7fdf268bdfc44a9e9ce2877674db82285ca403080/expr.png\" style=\"display:inline;vertical-align:middle;\" /></a></td></tr>\n",
       "<tr><td>2</td><td>Operation</td><td>operator:&nbsp;5<br>operands:&nbsp;6<br></td><td><a class=\"ProveItLink\" href=\"../4d64596515040694fa2b17cfecae1df70ade857f0/expr.ipynb\"><img src=\"../4d64596515040694fa2b17cfecae1df70ade857f0/expr.png\" style=\"display:inline;vertical-align:middle;\" /></a></td></tr>\n",
       "<tr><td>3</td><td>Literal</td><td></td><td><a class=\"ProveItLink\" href=\"../../../../logic/boolean/quantification/universal/__pv_it/fd9c772d6675566ed52a6897806f45eb08a4ea910/expr.ipynb\"><img src=\"../../../../logic/boolean/quantification/universal/__pv_it/fd9c772d6675566ed52a6897806f45eb08a4ea910/expr.png\" style=\"display:inline;vertical-align:middle;\" /></a></td></tr>\n",
       "<tr><td>4</td><td>Lambda</td><td>parameter:&nbsp;17<br>body:&nbsp;7<br></td><td><a class=\"ProveItLink\" href=\"../d8ab7fa43db4bb785da724647018b8cca3b0a8c70/expr.ipynb\"><img src=\"../d8ab7fa43db4bb785da724647018b8cca3b0a8c70/expr.png\" style=\"display:inline;vertical-align:middle;\" /></a></td></tr>\n",
       "<tr><td>5</td><td>Literal</td><td></td><td><a class=\"ProveItLink\" href=\"../../../../logic/set_theory/membership/__pv_it/7776fc89cb67d0b5b1ec2c0c8e08da5587921ccf0/expr.ipynb\"><img src=\"../../../../logic/set_theory/membership/__pv_it/7776fc89cb67d0b5b1ec2c0c8e08da5587921ccf0/expr.png\" style=\"display:inline;vertical-align:middle;\" /></a></td></tr>\n",
       "<tr><td>6</td><td>ExprTuple</td><td>22, 8</td><td><a class=\"ProveItLink\" href=\"../c88446cdc4d39ef5b2e43166419f4499b5c6247e0/expr.ipynb\"><img src=\"../c88446cdc4d39ef5b2e43166419f4499b5c6247e0/expr.png\" style=\"display:inline;vertical-align:middle;\" /></a></td></tr>\n",
       "<tr><td>7</td><td>Conditional</td><td>value:&nbsp;9<br>condition:&nbsp;10<br></td><td><a class=\"ProveItLink\" href=\"../3c776269df1299e9b5d2e0eecbb75a6114168f630/expr.ipynb\"><img src=\"../3c776269df1299e9b5d2e0eecbb75a6114168f630/expr.png\" style=\"display:inline;vertical-align:middle;\" /></a></td></tr>\n",
       "<tr><td>8</td><td>Literal</td><td></td><td><a class=\"ProveItLink\" href=\"../../../../number/sets/integer/__pv_it/b49c37b99b7e8d73a8d7971bcf454d693b90a2c60/expr.ipynb\"><img src=\"../../../../number/sets/integer/__pv_it/b49c37b99b7e8d73a8d7971bcf454d693b90a2c60/expr.png\" style=\"display:inline;vertical-align:middle;\" /></a></td></tr>\n",
       "<tr><td>9</td><td>Operation</td><td>operator:&nbsp;28<br>operands:&nbsp;11<br></td><td><a class=\"ProveItLink\" href=\"../../../__pv_it/63b0b1ca679ccbfa324fb89597e966087032caa60/expr.ipynb\"><img src=\"../../../__pv_it/63b0b1ca679ccbfa324fb89597e966087032caa60/expr.png\" style=\"display:inline;vertical-align:middle;\" /></a></td></tr>\n",
       "<tr><td>10</td><td>Operation</td><td>operator:&nbsp;12<br>operands:&nbsp;13<br></td><td><a class=\"ProveItLink\" href=\"../33ece288e77a5603af8cd9a82e97cc483c88cd080/expr.ipynb\"><img src=\"../33ece288e77a5603af8cd9a82e97cc483c88cd080/expr.png\" style=\"display:inline;vertical-align:middle;\" /></a></td></tr>\n",
       "<tr><td>11</td><td>ExprTuple</td><td>14, 15</td><td><a class=\"ProveItLink\" href=\"../../../__pv_it/6a2251a674f2e86ffd35ac8687eedecf961f71b20/expr.ipynb\"><img src=\"../../../__pv_it/6a2251a674f2e86ffd35ac8687eedecf961f71b20/expr.png\" style=\"display:inline;vertical-align:middle;\" /></a></td></tr>\n",
       "<tr><td>12</td><td>Literal</td><td></td><td><a class=\"ProveItLink\" href=\"../../../../logic/boolean/conjunction/__pv_it/f41cc6b553210927c09f19a8a39cdf860a5585930/expr.ipynb\"><img src=\"../../../../logic/boolean/conjunction/__pv_it/f41cc6b553210927c09f19a8a39cdf860a5585930/expr.png\" style=\"display:inline;vertical-align:middle;\" /></a></td></tr>\n",
       "<tr><td>13</td><td>ExprTuple</td><td>16</td><td><a class=\"ProveItLink\" href=\"../534a7a5df2e60437b2d605b7a2d576d2103dce6e0/expr.ipynb\"><img src=\"../534a7a5df2e60437b2d605b7a2d576d2103dce6e0/expr.png\" style=\"display:inline;vertical-align:middle;\" /></a></td></tr>\n",
       "<tr><td>14</td><td>ExprTuple</td><td>17</td><td><a class=\"ProveItLink\" href=\"../../../__pv_it/3b7895f5dc09dafbe3d539cbf501ccc2b1fd460f0/expr.ipynb\"><img src=\"../../../__pv_it/3b7895f5dc09dafbe3d539cbf501ccc2b1fd460f0/expr.png\" style=\"display:inline;vertical-align:middle;\" /></a></td></tr>\n",
       "<tr><td>15</td><td>ExprTuple</td><td>18</td><td><a class=\"ProveItLink\" href=\"../../../__pv_it/a90447d807c4de0b17528f6a84bc37c4321c36950/expr.ipynb\"><img src=\"../../../__pv_it/a90447d807c4de0b17528f6a84bc37c4321c36950/expr.png\" style=\"display:inline;vertical-align:middle;\" /></a></td></tr>\n",
       "<tr><td>16</td><td>ExprRange</td><td>lambda_map:&nbsp;19<br>start_index:&nbsp;21<br>end_index:&nbsp;22<br></td><td><a class=\"ProveItLink\" href=\"../../../__pv_it/69d7ec674c3087510dd9dcf2947775963c3720ec0/expr.ipynb\"><img src=\"../../../__pv_it/69d7ec674c3087510dd9dcf2947775963c3720ec0/expr.png\" style=\"display:inline;vertical-align:middle;\" /></a></td></tr>\n",
       "<tr><td>17</td><td>ExprRange</td><td>lambda_map:&nbsp;20<br>start_index:&nbsp;21<br>end_index:&nbsp;22<br></td><td><a class=\"ProveItLink\" href=\"../../../__pv_it/4c10ff7f16d6004c6e5b70fc72913eb26993581f0/expr.ipynb\"><img src=\"../../../__pv_it/4c10ff7f16d6004c6e5b70fc72913eb26993581f0/expr.png\" style=\"display:inline;vertical-align:middle;\" /></a></td></tr>\n",
       "<tr><td>18</td><td>ExprRange</td><td>lambda_map:&nbsp;23<br>start_index:&nbsp;41<br>end_index:&nbsp;30<br></td><td><a class=\"ProveItLink\" href=\"../../../__pv_it/4364953c923fa6ca90559992aee2d3b09264c0360/expr.ipynb\"><img src=\"../../../__pv_it/4364953c923fa6ca90559992aee2d3b09264c0360/expr.png\" style=\"display:inline;vertical-align:middle;\" /></a></td></tr>\n",
       "<tr><td>19</td><td>Lambda</td><td>parameter:&nbsp;42<br>body:&nbsp;24<br></td><td><a class=\"ProveItLink\" href=\"../../../__pv_it/d9f14502e1687435c11a7ed9b3b4d23b0bb70b6b0/expr.ipynb\"><img src=\"../../../__pv_it/d9f14502e1687435c11a7ed9b3b4d23b0bb70b6b0/expr.png\" style=\"display:inline;vertical-align:middle;\" /></a></td></tr>\n",
       "<tr><td>20</td><td>Lambda</td><td>parameter:&nbsp;41<br>body:&nbsp;25<br></td><td><a class=\"ProveItLink\" href=\"../../../__pv_it/cff4e91787f46c693e74373bbea25926e107ff5e0/expr.ipynb\"><img src=\"../../../__pv_it/cff4e91787f46c693e74373bbea25926e107ff5e0/expr.png\" style=\"display:inline;vertical-align:middle;\" /></a></td></tr>\n",
       "<tr><td>21</td><td>Literal</td><td></td><td><a class=\"ProveItLink\" href=\"../../../../number/numeral/__pv_it/bcb6bc33e5975ec2290a3272bf7802d26ab8421d0/expr.ipynb\"><img src=\"../../../../number/numeral/__pv_it/bcb6bc33e5975ec2290a3272bf7802d26ab8421d0/expr.png\" style=\"display:inline;vertical-align:middle;\" /></a></td></tr>\n",
       "<tr><td>22</td><td>Operation</td><td>operator:&nbsp;39<br>operands:&nbsp;26<br></td><td><a class=\"ProveItLink\" href=\"../../../__pv_it/b6d8b5c28695e1edc6c07b7b7c74c9b5f91239970/expr.ipynb\"><img src=\"../../../__pv_it/b6d8b5c28695e1edc6c07b7b7c74c9b5f91239970/expr.png\" style=\"display:inline;vertical-align:middle;\" /></a></td></tr>\n",
       "<tr><td>23</td><td>Lambda</td><td>parameter:&nbsp;32<br>body:&nbsp;27<br></td><td><a class=\"ProveItLink\" href=\"../../../__pv_it/4df79cbef650a27c8a09538689706d4ef348e6770/expr.ipynb\"><img src=\"../../../__pv_it/4df79cbef650a27c8a09538689706d4ef348e6770/expr.png\" style=\"display:inline;vertical-align:middle;\" /></a></td></tr>\n",
       "<tr><td>24</td><td>Operation</td><td>operator:&nbsp;28<br>operands:&nbsp;29<br></td><td><a class=\"ProveItLink\" href=\"../../../__pv_it/e4697c9bc7b2cf841a70363bc784d4f9ced41d3d0/expr.ipynb\"><img src=\"../../../__pv_it/e4697c9bc7b2cf841a70363bc784d4f9ced41d3d0/expr.png\" style=\"display:inline;vertical-align:middle;\" /></a></td></tr>\n",
       "<tr><td>25</td><td>IndexedVar</td><td>variable:&nbsp;36<br>index:&nbsp;41<br></td><td><a class=\"ProveItLink\" href=\"../../../__pv_it/5806935187de2ebea4a8552dee6b2164eb38f3ad0/expr.ipynb\"><img src=\"../../../__pv_it/5806935187de2ebea4a8552dee6b2164eb38f3ad0/expr.png\" style=\"display:inline;vertical-align:middle;\" /></a></td></tr>\n",
       "<tr><td>26</td><td>ExprTuple</td><td>30, 31</td><td><a class=\"ProveItLink\" href=\"../../../__pv_it/ca4a1f92524517c4abff9cefdd82a6c41e145bb00/expr.ipynb\"><img src=\"../../../__pv_it/ca4a1f92524517c4abff9cefdd82a6c41e145bb00/expr.png\" style=\"display:inline;vertical-align:middle;\" /></a></td></tr>\n",
       "<tr><td>27</td><td>Operation</td><td>operator:&nbsp;37<br>operand:&nbsp;32<br></td><td><a class=\"ProveItLink\" href=\"../../../../__pv_it/e80bce2a0c2e8c976be76e7b3ce08f76e74ec5550/expr.ipynb\"><img src=\"../../../../__pv_it/e80bce2a0c2e8c976be76e7b3ce08f76e74ec5550/expr.png\" style=\"display:inline;vertical-align:middle;\" /></a></td></tr>\n",
       "<tr><td>28</td><td>Literal</td><td></td><td><a class=\"ProveItLink\" href=\"../../../../logic/equality/__pv_it/e16d2caa26a16688b658bdb9c422caf4b84579e10/expr.ipynb\"><img src=\"../../../../logic/equality/__pv_it/e16d2caa26a16688b658bdb9c422caf4b84579e10/expr.png\" style=\"display:inline;vertical-align:middle;\" /></a></td></tr>\n",
       "<tr><td>29</td><td>ExprTuple</td><td>33, 34</td><td><a class=\"ProveItLink\" href=\"../../../__pv_it/fd11f1da3b3f1c86d05cc0c347207dd2407cb3ba0/expr.ipynb\"><img src=\"../../../__pv_it/fd11f1da3b3f1c86d05cc0c347207dd2407cb3ba0/expr.png\" style=\"display:inline;vertical-align:middle;\" /></a></td></tr>\n",
       "<tr><td>30</td><td>Variable</td><td></td><td><a class=\"ProveItLink\" href=\"../../../../__pv_it/6a5b5879f51878868f626bf09e4d76392d4779cd0/expr.ipynb\"><img src=\"../../../../__pv_it/6a5b5879f51878868f626bf09e4d76392d4779cd0/expr.png\" style=\"display:inline;vertical-align:middle;\" /></a></td></tr>\n",
       "<tr><td>31</td><td>Operation</td><td>operator:&nbsp;35<br>operand:&nbsp;41<br></td><td><a class=\"ProveItLink\" href=\"../../../__pv_it/e30e84c6c241a2e59facf3853e0cf2095a9c3cb00/expr.ipynb\"><img src=\"../../../__pv_it/e30e84c6c241a2e59facf3853e0cf2095a9c3cb00/expr.png\" style=\"display:inline;vertical-align:middle;\" /></a></td></tr>\n",
       "<tr><td>32</td><td>Variable</td><td></td><td><a class=\"ProveItLink\" href=\"../../../../__pv_it/a8d4b3a34d2189508f9082853fbac36935714f280/expr.ipynb\"><img src=\"../../../../__pv_it/a8d4b3a34d2189508f9082853fbac36935714f280/expr.png\" style=\"display:inline;vertical-align:middle;\" /></a></td></tr>\n",
       "<tr><td>33</td><td>IndexedVar</td><td>variable:&nbsp;36<br>index:&nbsp;42<br></td><td><a class=\"ProveItLink\" href=\"../../../__pv_it/57c2bba44053ef0828dc1fe5b02bad07b65fbfca0/expr.ipynb\"><img src=\"../../../__pv_it/57c2bba44053ef0828dc1fe5b02bad07b65fbfca0/expr.png\" style=\"display:inline;vertical-align:middle;\" /></a></td></tr>\n",
       "<tr><td>34</td><td>Operation</td><td>operator:&nbsp;37<br>operand:&nbsp;38<br></td><td><a class=\"ProveItLink\" href=\"../../../__pv_it/e2c9f199df05360a04a4935e35fc050171aff81a0/expr.ipynb\"><img src=\"../../../__pv_it/e2c9f199df05360a04a4935e35fc050171aff81a0/expr.png\" style=\"display:inline;vertical-align:middle;\" /></a></td></tr>\n",
       "<tr><td>35</td><td>Literal</td><td></td><td><a class=\"ProveItLink\" href=\"../../../../number/negation/__pv_it/2867787e35502987d81a45cac8e7f1c6996d6ff40/expr.ipynb\"><img src=\"../../../../number/negation/__pv_it/2867787e35502987d81a45cac8e7f1c6996d6ff40/expr.png\" style=\"display:inline;vertical-align:middle;\" /></a></td></tr>\n",
       "<tr><td>36</td><td>Variable</td><td></td><td><a class=\"ProveItLink\" href=\"../../../../__pv_it/72df168d2bfb4e0140af90912ebf83b13772060b0/expr.ipynb\"><img src=\"../../../../__pv_it/72df168d2bfb4e0140af90912ebf83b13772060b0/expr.png\" style=\"display:inline;vertical-align:middle;\" /></a></td></tr>\n",
       "<tr><td>37</td><td>Variable</td><td></td><td><a class=\"ProveItLink\" href=\"../../../../__pv_it/d7bbb04e874e28c7cefb21d4eea40806ae52f1f70/expr.ipynb\"><img src=\"../../../../__pv_it/d7bbb04e874e28c7cefb21d4eea40806ae52f1f70/expr.png\" style=\"display:inline;vertical-align:middle;\" /></a></td></tr>\n",
       "<tr><td>38</td><td>Operation</td><td>operator:&nbsp;39<br>operands:&nbsp;40<br></td><td><a class=\"ProveItLink\" href=\"../../../__pv_it/90912d62937216e565f7c668f9857733a6822ff40/expr.ipynb\"><img src=\"../../../__pv_it/90912d62937216e565f7c668f9857733a6822ff40/expr.png\" style=\"display:inline;vertical-align:middle;\" /></a></td></tr>\n",
       "<tr><td>39</td><td>Literal</td><td></td><td><a class=\"ProveItLink\" href=\"../../../../number/addition/__pv_it/65ad7e8aee19b10110d590375ba95a879c4fb7ea0/expr.ipynb\"><img src=\"../../../../number/addition/__pv_it/65ad7e8aee19b10110d590375ba95a879c4fb7ea0/expr.png\" style=\"display:inline;vertical-align:middle;\" /></a></td></tr>\n",
       "<tr><td>40</td><td>ExprTuple</td><td>41, 42</td><td><a class=\"ProveItLink\" href=\"../../../__pv_it/aa177fde1fcac7b6d18a38176d5f741830b844b00/expr.ipynb\"><img src=\"../../../__pv_it/aa177fde1fcac7b6d18a38176d5f741830b844b00/expr.png\" style=\"display:inline;vertical-align:middle;\" /></a></td></tr>\n",
       "<tr><td>41</td><td>Variable</td><td></td><td><a class=\"ProveItLink\" href=\"../../../../__pv_it/557ab5defdcd46aa58168b08767502985122cd490/expr.ipynb\"><img src=\"../../../../__pv_it/557ab5defdcd46aa58168b08767502985122cd490/expr.png\" style=\"display:inline;vertical-align:middle;\" /></a></td></tr>\n",
       "<tr><td>42</td><td>Variable</td><td></td><td><a class=\"ProveItLink\" href=\"../../../../__pv_it/273f49450ca25e1b56abbd98a7aef618f8f6c1360/expr.ipynb\"><img src=\"../../../../__pv_it/273f49450ca25e1b56abbd98a7aef618f8f6c1360/expr.png\" style=\"display:inline;vertical-align:middle;\" /></a></td></tr>\n",
       "</table>\n"
      ],
      "text/plain": [
       "0. {forall_{x_{0}, ..x_{i}.., x_{j - i} | x_{0} = f(i + 0), ..x_{k} = f(i + k).., x_{j - i} = f(i + (j - i))} ((x_{0}, ..x_{i}.., x_{j - i}) =  \\\\ (f(i), ..f(a).., f(j))) if (j - i) in Naturals.\n",
       "   core type: Conditional\n",
       "   value: 1\n",
       "   condition: 2\n",
       "1. forall_{x_{0}, ..x_{i}.., x_{j - i} | x_{0} = f(i + 0), ..x_{k} = f(i + k).., x_{j - i} = f(i + (j - i))} ((x_{0}, ..x_{i}.., x_{j - i}) =  \\\\ (f(i), ..f(a).., f(j)))\n",
       "   core type: Operation\n",
       "   operator: 3\n",
       "   operand: 4\n",
       "2. (j - i) in Naturals\n",
       "   core type: Operation\n",
       "   operator: 5\n",
       "   operands: 6\n",
       "3. forall\n",
       "   core type: Literal\n",
       "   sub-expressions: \n",
       "4. (x_{0}, ..x_{i}.., x_{j - i}) -> {(x_{0}, ..x_{i}.., x_{j - i}) =  \\\\ (f(i), ..f(a).., f(j)) if (x_{0} = f(i + 0)) and ..(x_{k} = f(i + k)).. and (x_{j - i} = f(i + (j - i))).\n",
       "   core type: Lambda\n",
       "   parameter: 17\n",
       "   body: 7\n",
       "5. in\n",
       "   core type: Literal\n",
       "   sub-expressions: \n",
       "6. (j - i, Naturals)\n",
       "   core type: ExprTuple\n",
       "   sub-expressions: 22, 8\n",
       "7. {(x_{0}, ..x_{i}.., x_{j - i}) =  \\\\ (f(i), ..f(a).., f(j)) if (x_{0} = f(i + 0)) and ..(x_{k} = f(i + k)).. and (x_{j - i} = f(i + (j - i))).\n",
       "   core type: Conditional\n",
       "   value: 9\n",
       "   condition: 10\n",
       "8. Naturals\n",
       "   core type: Literal\n",
       "   sub-expressions: \n",
       "9. (x_{0}, ..x_{i}.., x_{j - i}) =  \\\\ (f(i), ..f(a).., f(j))\n",
       "   core type: Operation\n",
       "   operator: 28\n",
       "   operands: 11\n",
       "10. (x_{0} = f(i + 0)) and ..(x_{k} = f(i + k)).. and (x_{j - i} = f(i + (j - i)))\n",
       "    core type: Operation\n",
       "    operator: 12\n",
       "    operands: 13\n",
       "11. ((x_{0}, ..x_{i}.., x_{j - i}), (f(i), ..f(a).., f(j)))\n",
       "    core type: ExprTuple\n",
       "    sub-expressions: 14, 15\n",
       "12. and\n",
       "    core type: Literal\n",
       "    sub-expressions: \n",
       "13. (x_{0} = f(i + 0), ..x_{k} = f(i + k).., x_{j - i} = f(i + (j - i)))\n",
       "    core type: ExprTuple\n",
       "    sub-expressions: 16\n",
       "14. (x_{0}, ..x_{i}.., x_{j - i})\n",
       "    core type: ExprTuple\n",
       "    sub-expressions: 17\n",
       "15. (f(i), ..f(a).., f(j))\n",
       "    core type: ExprTuple\n",
       "    sub-expressions: 18\n",
       "16. (x_{0} = f(i + 0)), ..(x_{k} = f(i + k)).., (x_{j - i} = f(i + (j - i)))\n",
       "    core type: ExprRange\n",
       "    lambda_map: 19\n",
       "    start_index: 21\n",
       "    end_index: 22\n",
       "17. x_{0}, ..x_{i}.., x_{j - i}\n",
       "    core type: ExprRange\n",
       "    lambda_map: 20\n",
       "    start_index: 21\n",
       "    end_index: 22\n",
       "18. f(i), ..f(a).., f(j)\n",
       "    core type: ExprRange\n",
       "    lambda_map: 23\n",
       "    start_index: 41\n",
       "    end_index: 30\n",
       "19. k -> (x_{k} = f(i + k))\n",
       "    core type: Lambda\n",
       "    parameter: 42\n",
       "    body: 24\n",
       "20. i -> x_{i}\n",
       "    core type: Lambda\n",
       "    parameter: 41\n",
       "    body: 25\n",
       "21. 0\n",
       "    core type: Literal\n",
       "    sub-expressions: \n",
       "22. j - i\n",
       "    core type: Operation\n",
       "    operator: 39\n",
       "    operands: 26\n",
       "23. a -> f(a)\n",
       "    core type: Lambda\n",
       "    parameter: 32\n",
       "    body: 27\n",
       "24. x_{k} = f(i + k)\n",
       "    core type: Operation\n",
       "    operator: 28\n",
       "    operands: 29\n",
       "25. x_{i}\n",
       "    core type: IndexedVar\n",
       "variable: 36\n",
       "index: 41\n",
       "26. (j, -i)\n",
       "    core type: ExprTuple\n",
       "    sub-expressions: 30, 31\n",
       "27. f(a)\n",
       "    core type: Operation\n",
       "    operator: 37\n",
       "    operand: 32\n",
       "28. =\n",
       "    core type: Literal\n",
       "    sub-expressions: \n",
       "29. (x_{k}, f(i + k))\n",
       "    core type: ExprTuple\n",
       "    sub-expressions: 33, 34\n",
       "30. j\n",
       "    core type: Variable\n",
       "    sub-expressions: \n",
       "31. -i\n",
       "    core type: Operation\n",
       "    operator: 35\n",
       "    operand: 41\n",
       "32. a\n",
       "    core type: Variable\n",
       "    sub-expressions: \n",
       "33. x_{k}\n",
       "    core type: IndexedVar\n",
       "variable: 36\n",
       "index: 42\n",
       "34. f(i + k)\n",
       "    core type: Operation\n",
       "    operator: 37\n",
       "    operand: 38\n",
       "35. -\n",
       "    core type: Literal\n",
       "    sub-expressions: \n",
       "36. x\n",
       "    core type: Variable\n",
       "    sub-expressions: \n",
       "37. f\n",
       "    core type: Variable\n",
       "    sub-expressions: \n",
       "38. i + k\n",
       "    core type: Operation\n",
       "    operator: 39\n",
       "    operands: 40\n",
       "39. +\n",
       "    core type: Literal\n",
       "    sub-expressions: \n",
       "40. (i, k)\n",
       "    core type: ExprTuple\n",
       "    sub-expressions: 41, 42\n",
       "41. i\n",
       "    core type: Variable\n",
       "    sub-expressions: \n",
       "42. k\n",
       "    core type: Variable\n",
       "    sub-expressions: "
      ]
     },
     "execution_count": 5,
     "metadata": {},
     "output_type": "execute_result"
    }
   ],
   "source": [
    "# display the expression information\n",
    "expr.exprInfo()"
   ]
  },
  {
   "cell_type": "code",
   "execution_count": null,
   "metadata": {},
   "outputs": [],
   "source": []
  }
 ],
 "metadata": {
  "kernelspec": {
   "display_name": "Python 3",
   "language": "python",
   "name": "python3"
  },
  "language_info": {
   "codemirror_mode": {
    "name": "ipython",
    "version": 3
   },
   "file_extension": ".py",
   "mimetype": "text/x-python",
   "name": "python",
   "nbconvert_exporter": "python",
   "pygments_lexer": "ipython3",
   "version": "3.7.3"
  }
 },
 "nbformat": 4,
 "nbformat_minor": 1
}
