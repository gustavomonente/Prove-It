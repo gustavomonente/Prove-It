{
 "cells": [
  {
   "cell_type": "markdown",
   "metadata": {},
   "source": [
    "Expression of type <a class=\"ProveItLink\" href=\"../../../../../../doc/html/api/proveit.Lambda.html\">Lambda</a>\n",
    "=======================\n",
    "# from context <a class=\"ProveItLink\" href=\"../../_context_.ipynb\">proveit.core_expr_types.tuples</a>"
   ]
  },
  {
   "cell_type": "code",
   "execution_count": 1,
   "metadata": {},
   "outputs": [],
   "source": [
    "import proveit\n",
    "# Automation is not needed when building an expression:\n",
    "proveit.defaults.automation = False # This will speed things up.\n",
    "proveit.defaults.inline_pngs = False # Makes files smaller.\n",
    "# import Expression classes needed to build the expression\n",
    "from proveit import Conditional, Lambda\n",
    "from proveit._common_ import f, i, j\n",
    "from proveit.core_expr_types._common_ import f_i_to_j\n",
    "from proveit.logic import Equals\n",
    "from proveit.number import Add, one"
   ]
  },
  {
   "cell_type": "code",
   "execution_count": 2,
   "metadata": {},
   "outputs": [
    {
     "data": {
      "text/html": [
       "<strong id=\"expr\">expr:</strong> <a class=\"ProveItLink\" href=\"expr.ipynb\"><img src=\"expr.png\" style=\"display:inline;vertical-align:middle;\" /></a><br>"
      ],
      "text/plain": [
       "expr: (f, i, j) -> {(f(i), ..f(a).., f(j)) = () if (j + 1) = i."
      ]
     },
     "execution_count": 2,
     "metadata": {},
     "output_type": "execute_result"
    }
   ],
   "source": [
    "# build up the expression from sub-expressions\n",
    "expr = Lambda([f, i, j], Conditional(Equals([f_i_to_j], []), Equals(Add(j, one), i)))"
   ]
  },
  {
   "cell_type": "code",
   "execution_count": 3,
   "metadata": {},
   "outputs": [
    {
     "name": "stdout",
     "output_type": "stream",
     "text": [
      "Passed sanity check: built 'expr' is the same as the stored Expression.\n"
     ]
    }
   ],
   "source": [
    "# check that the built expression is the same as the stored expression\n",
    "%check_expr"
   ]
  },
  {
   "cell_type": "code",
   "execution_count": 4,
   "metadata": {},
   "outputs": [
    {
     "name": "stdout",
     "output_type": "stream",
     "text": [
      "\\left(f, i, j\\right) \\mapsto \\left\\{\\left(f(i), \\ldots, f(j)\\right) = () \\textrm{ if } \\left(j + 1\\right) = i\\right..\n"
     ]
    }
   ],
   "source": [
    "# Show the LaTeX representation of the expression for convenience if you need it.\n",
    "print(expr.latex())"
   ]
  },
  {
   "cell_type": "code",
   "execution_count": 5,
   "metadata": {},
   "outputs": [
    {
     "data": {
      "text/html": [
       "<table><tr><th>&nbsp;</th><th>core type</th><th>sub-expressions</th><th>expression</th></tr>\n",
       "<tr><td>0</td><td>Lambda</td><td>parameters:&nbsp;1<br>body:&nbsp;2<br></td><td><a class=\"ProveItLink\" href=\"expr.ipynb\"><img src=\"expr.png\" style=\"display:inline;vertical-align:middle;\" /></a></td></tr>\n",
       "<tr><td>1</td><td>ExprTuple</td><td>19, 15, 16</td><td><a class=\"ProveItLink\" href=\"../1b0b5cbcb0ce477d7184ad35c83ae430b3c21a2c0/expr.ipynb\"><img src=\"../1b0b5cbcb0ce477d7184ad35c83ae430b3c21a2c0/expr.png\" style=\"display:inline;vertical-align:middle;\" /></a></td></tr>\n",
       "<tr><td>2</td><td>Conditional</td><td>value:&nbsp;3<br>condition:&nbsp;4<br></td><td><a class=\"ProveItLink\" href=\"../2f96a16858ed7a58fbcdd5fcd95e68620f47472c0/expr.ipynb\"><img src=\"../2f96a16858ed7a58fbcdd5fcd95e68620f47472c0/expr.png\" style=\"display:inline;vertical-align:middle;\" /></a></td></tr>\n",
       "<tr><td>3</td><td>Operation</td><td>operator:&nbsp;6<br>operands:&nbsp;5<br></td><td><a class=\"ProveItLink\" href=\"../245fb2ebcb052a916773465b13977c018ff8edc60/expr.ipynb\"><img src=\"../245fb2ebcb052a916773465b13977c018ff8edc60/expr.png\" style=\"display:inline;vertical-align:middle;\" /></a></td></tr>\n",
       "<tr><td>4</td><td>Operation</td><td>operator:&nbsp;6<br>operands:&nbsp;7<br></td><td><a class=\"ProveItLink\" href=\"../655b61f21458d902eb21747add5605528c008e3e0/expr.ipynb\"><img src=\"../655b61f21458d902eb21747add5605528c008e3e0/expr.png\" style=\"display:inline;vertical-align:middle;\" /></a></td></tr>\n",
       "<tr><td>5</td><td>ExprTuple</td><td>8, 9</td><td><a class=\"ProveItLink\" href=\"../f8d8bf03b2ac4d323c147d42ca6aaa3c62d9bbe00/expr.ipynb\"><img src=\"../f8d8bf03b2ac4d323c147d42ca6aaa3c62d9bbe00/expr.png\" style=\"display:inline;vertical-align:middle;\" /></a></td></tr>\n",
       "<tr><td>6</td><td>Literal</td><td></td><td><a class=\"ProveItLink\" href=\"../../../../logic/equality/__pv_it/e16d2caa26a16688b658bdb9c422caf4b84579e10/expr.ipynb\"><img src=\"../../../../logic/equality/__pv_it/e16d2caa26a16688b658bdb9c422caf4b84579e10/expr.png\" style=\"display:inline;vertical-align:middle;\" /></a></td></tr>\n",
       "<tr><td>7</td><td>ExprTuple</td><td>10, 15</td><td><a class=\"ProveItLink\" href=\"../905db5536053cca10f9613f60143ddc0095db1760/expr.ipynb\"><img src=\"../905db5536053cca10f9613f60143ddc0095db1760/expr.png\" style=\"display:inline;vertical-align:middle;\" /></a></td></tr>\n",
       "<tr><td>8</td><td>ExprTuple</td><td>11</td><td><a class=\"ProveItLink\" href=\"../97b8e21db31cdb2e85faed61a1b631e99b0d8c0b0/expr.ipynb\"><img src=\"../97b8e21db31cdb2e85faed61a1b631e99b0d8c0b0/expr.png\" style=\"display:inline;vertical-align:middle;\" /></a></td></tr>\n",
       "<tr><td>9</td><td>ExprTuple</td><td></td><td><a class=\"ProveItLink\" href=\"../30d23d36f0994fc28429b458d9f08265f0433d5f0/expr.ipynb\"><img src=\"../30d23d36f0994fc28429b458d9f08265f0433d5f0/expr.png\" style=\"display:inline;vertical-align:middle;\" /></a></td></tr>\n",
       "<tr><td>10</td><td>Operation</td><td>operator:&nbsp;12<br>operands:&nbsp;13<br></td><td><a class=\"ProveItLink\" href=\"../c24113b5c38ba32e99d87d214af69362016a17fe0/expr.ipynb\"><img src=\"../c24113b5c38ba32e99d87d214af69362016a17fe0/expr.png\" style=\"display:inline;vertical-align:middle;\" /></a></td></tr>\n",
       "<tr><td>11</td><td>ExprRange</td><td>lambda_map:&nbsp;14<br>start_index:&nbsp;15<br>end_index:&nbsp;16<br></td><td><a class=\"ProveItLink\" href=\"../../../__pv_it/4364953c923fa6ca90559992aee2d3b09264c0360/expr.ipynb\"><img src=\"../../../__pv_it/4364953c923fa6ca90559992aee2d3b09264c0360/expr.png\" style=\"display:inline;vertical-align:middle;\" /></a></td></tr>\n",
       "<tr><td>12</td><td>Literal</td><td></td><td><a class=\"ProveItLink\" href=\"../../../../number/addition/__pv_it/65ad7e8aee19b10110d590375ba95a879c4fb7ea0/expr.ipynb\"><img src=\"../../../../number/addition/__pv_it/65ad7e8aee19b10110d590375ba95a879c4fb7ea0/expr.png\" style=\"display:inline;vertical-align:middle;\" /></a></td></tr>\n",
       "<tr><td>13</td><td>ExprTuple</td><td>16, 17</td><td><a class=\"ProveItLink\" href=\"../a6730aa6a9af9a6e7774016b6b9febfe2d879d590/expr.ipynb\"><img src=\"../a6730aa6a9af9a6e7774016b6b9febfe2d879d590/expr.png\" style=\"display:inline;vertical-align:middle;\" /></a></td></tr>\n",
       "<tr><td>14</td><td>Lambda</td><td>parameter:&nbsp;20<br>body:&nbsp;18<br></td><td><a class=\"ProveItLink\" href=\"../../../__pv_it/4df79cbef650a27c8a09538689706d4ef348e6770/expr.ipynb\"><img src=\"../../../__pv_it/4df79cbef650a27c8a09538689706d4ef348e6770/expr.png\" style=\"display:inline;vertical-align:middle;\" /></a></td></tr>\n",
       "<tr><td>15</td><td>Variable</td><td></td><td><a class=\"ProveItLink\" href=\"../../../../__pv_it/557ab5defdcd46aa58168b08767502985122cd490/expr.ipynb\"><img src=\"../../../../__pv_it/557ab5defdcd46aa58168b08767502985122cd490/expr.png\" style=\"display:inline;vertical-align:middle;\" /></a></td></tr>\n",
       "<tr><td>16</td><td>Variable</td><td></td><td><a class=\"ProveItLink\" href=\"../../../../__pv_it/6a5b5879f51878868f626bf09e4d76392d4779cd0/expr.ipynb\"><img src=\"../../../../__pv_it/6a5b5879f51878868f626bf09e4d76392d4779cd0/expr.png\" style=\"display:inline;vertical-align:middle;\" /></a></td></tr>\n",
       "<tr><td>17</td><td>Literal</td><td></td><td><a class=\"ProveItLink\" href=\"../../../../number/numeral/__pv_it/f086f8c372bd40a2458306ddfdbb29f3dc6f63030/expr.ipynb\"><img src=\"../../../../number/numeral/__pv_it/f086f8c372bd40a2458306ddfdbb29f3dc6f63030/expr.png\" style=\"display:inline;vertical-align:middle;\" /></a></td></tr>\n",
       "<tr><td>18</td><td>Operation</td><td>operator:&nbsp;19<br>operand:&nbsp;20<br></td><td><a class=\"ProveItLink\" href=\"../../../../__pv_it/e80bce2a0c2e8c976be76e7b3ce08f76e74ec5550/expr.ipynb\"><img src=\"../../../../__pv_it/e80bce2a0c2e8c976be76e7b3ce08f76e74ec5550/expr.png\" style=\"display:inline;vertical-align:middle;\" /></a></td></tr>\n",
       "<tr><td>19</td><td>Variable</td><td></td><td><a class=\"ProveItLink\" href=\"../../../../__pv_it/d7bbb04e874e28c7cefb21d4eea40806ae52f1f70/expr.ipynb\"><img src=\"../../../../__pv_it/d7bbb04e874e28c7cefb21d4eea40806ae52f1f70/expr.png\" style=\"display:inline;vertical-align:middle;\" /></a></td></tr>\n",
       "<tr><td>20</td><td>Variable</td><td></td><td><a class=\"ProveItLink\" href=\"../../../../__pv_it/a8d4b3a34d2189508f9082853fbac36935714f280/expr.ipynb\"><img src=\"../../../../__pv_it/a8d4b3a34d2189508f9082853fbac36935714f280/expr.png\" style=\"display:inline;vertical-align:middle;\" /></a></td></tr>\n",
       "</table>\n"
      ],
      "text/plain": [
       "0. (f, i, j) -> {(f(i), ..f(a).., f(j)) = () if (j + 1) = i.\n",
       "   core type: Lambda\n",
       "   parameters: 1\\n   body: 2\n",
       "1. (f, i, j)\n",
       "   core type: ExprTuple\n",
       "   sub-expressions: 19, 15, 16\n",
       "2. {(f(i), ..f(a).., f(j)) = () if (j + 1) = i.\n",
       "   core type: Conditional\n",
       "   value: 3\n",
       "   condition: 4\n",
       "3. (f(i), ..f(a).., f(j)) = ()\n",
       "   core type: Operation\n",
       "   operator: 6\n",
       "   operands: 5\n",
       "4. (j + 1) = i\n",
       "   core type: Operation\n",
       "   operator: 6\n",
       "   operands: 7\n",
       "5. ((f(i), ..f(a).., f(j)), ())\n",
       "   core type: ExprTuple\n",
       "   sub-expressions: 8, 9\n",
       "6. =\n",
       "   core type: Literal\n",
       "   sub-expressions: \n",
       "7. (j + 1, i)\n",
       "   core type: ExprTuple\n",
       "   sub-expressions: 10, 15\n",
       "8. (f(i), ..f(a).., f(j))\n",
       "   core type: ExprTuple\n",
       "   sub-expressions: 11\n",
       "9. ()\n",
       "   core type: ExprTuple\n",
       "   sub-expressions: \n",
       "10. j + 1\n",
       "    core type: Operation\n",
       "    operator: 12\n",
       "    operands: 13\n",
       "11. f(i), ..f(a).., f(j)\n",
       "    core type: ExprRange\n",
       "    lambda_map: 14\n",
       "    start_index: 15\n",
       "    end_index: 16\n",
       "12. +\n",
       "    core type: Literal\n",
       "    sub-expressions: \n",
       "13. (j, 1)\n",
       "    core type: ExprTuple\n",
       "    sub-expressions: 16, 17\n",
       "14. a -> f(a)\n",
       "    core type: Lambda\n",
       "    parameter: 20\n",
       "    body: 18\n",
       "15. i\n",
       "    core type: Variable\n",
       "    sub-expressions: \n",
       "16. j\n",
       "    core type: Variable\n",
       "    sub-expressions: \n",
       "17. 1\n",
       "    core type: Literal\n",
       "    sub-expressions: \n",
       "18. f(a)\n",
       "    core type: Operation\n",
       "    operator: 19\n",
       "    operand: 20\n",
       "19. f\n",
       "    core type: Variable\n",
       "    sub-expressions: \n",
       "20. a\n",
       "    core type: Variable\n",
       "    sub-expressions: "
      ]
     },
     "execution_count": 5,
     "metadata": {},
     "output_type": "execute_result"
    }
   ],
   "source": [
    "# display the expression information\n",
    "expr.exprInfo()"
   ]
  },
  {
   "cell_type": "code",
   "execution_count": null,
   "metadata": {},
   "outputs": [],
   "source": []
  }
 ],
 "metadata": {
  "kernelspec": {
   "display_name": "Python 3",
   "language": "python",
   "name": "python3"
  },
  "language_info": {
   "codemirror_mode": {
    "name": "ipython",
    "version": 3
   },
   "file_extension": ".py",
   "mimetype": "text/x-python",
   "name": "python",
   "nbconvert_exporter": "python",
   "pygments_lexer": "ipython3",
   "version": "3.7.3"
  }
 },
 "nbformat": 4,
 "nbformat_minor": 1
}
