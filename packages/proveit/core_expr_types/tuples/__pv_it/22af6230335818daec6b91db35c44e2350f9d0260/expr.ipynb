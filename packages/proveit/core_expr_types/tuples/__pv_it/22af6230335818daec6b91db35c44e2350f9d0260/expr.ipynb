{
 "cells": [
  {
   "cell_type": "markdown",
   "metadata": {},
   "source": [
    "Theorem <a class=\"ProveItLink\" href=\"../../_theorems_.ipynb#merge_back\">merge_back</a> of type <a class=\"ProveItLink\" href=\"../../../../../../doc/html/api/proveit.logic.Forall.html\">Forall</a>\n",
    "=======================\n",
    "# from context <a class=\"ProveItLink\" href=\"../../_context_.ipynb\">proveit.core_expr_types.tuples</a>\n",
    "*** see <a class=\"ProveItLink\" href=\"dependencies.ipynb\">dependencies</a> ***"
   ]
  },
  {
   "cell_type": "code",
   "execution_count": 1,
   "metadata": {},
   "outputs": [],
   "source": [
    "import proveit\n",
    "# Automation is not needed when only building an expression:\n",
    "proveit.defaults.automation = False # This will speed things up.\n",
    "proveit.defaults.inline_pngs = False # Makes files smaller.\n",
    "# import the special expression\n",
    "from proveit.core_expr_types.tuples._theorems_ import merge_back"
   ]
  },
  {
   "cell_type": "code",
   "execution_count": 2,
   "metadata": {},
   "outputs": [
    {
     "name": "stdout",
     "output_type": "stream",
     "text": [
      "Passed sanity check: built 'merge_back' is the same as the stored Expression.\n"
     ]
    }
   ],
   "source": [
    "# check that the built expression is the same as the stored expression\n",
    "%check_expr merge_back"
   ]
  },
  {
   "cell_type": "code",
   "execution_count": 3,
   "metadata": {},
   "outputs": [
    {
     "name": "stdout",
     "output_type": "stream",
     "text": [
      "\\vdash \\forall_{f, i, j, k~|~\\left(k - i\\right) \\in \\mathbb{N}, k = \\left(j + 1\\right)}~\\left(\\begin{array}{c} \\left(f(i), \\ldots, f(j), f(k)\\right) =  \\\\ \\left(f(i), \\ldots, f(k)\\right) \\end{array}\\right)\n"
     ]
    }
   ],
   "source": [
    "# Show the LaTeX representation of the expression for convenience if you need it.\n",
    "print(merge_back.latex())"
   ]
  },
  {
   "cell_type": "code",
   "execution_count": 4,
   "metadata": {},
   "outputs": [
    {
     "data": {
      "text/html": [
       "<table><tr><th>&nbsp;</th><th>core type</th><th>sub-expressions</th><th>expression</th></tr>\n",
       "<tr><td>0</td><td>Operation</td><td>operator:&nbsp;1<br>operand:&nbsp;2<br></td><td><a class=\"ProveItLink\" href=\"expr.ipynb\"><img src=\"expr.png\" style=\"display:inline;vertical-align:middle;\" /></a></td></tr>\n",
       "<tr><td>1</td><td>Literal</td><td></td><td><a class=\"ProveItLink\" href=\"../../../../logic/boolean/quantification/universal/__pv_it/fd9c772d6675566ed52a6897806f45eb08a4ea910/expr.ipynb\"><img src=\"../../../../logic/boolean/quantification/universal/__pv_it/fd9c772d6675566ed52a6897806f45eb08a4ea910/expr.png\" style=\"display:inline;vertical-align:middle;\" /></a></td></tr>\n",
       "<tr><td>2</td><td>Lambda</td><td>parameters:&nbsp;3<br>body:&nbsp;4<br></td><td><a class=\"ProveItLink\" href=\"../6daea308f3789b938cee4b9afd8d2023ca7868080/expr.ipynb\"><img src=\"../6daea308f3789b938cee4b9afd8d2023ca7868080/expr.png\" style=\"display:inline;vertical-align:middle;\" /></a></td></tr>\n",
       "<tr><td>3</td><td>ExprTuple</td><td>29, 36, 33, 31</td><td><a class=\"ProveItLink\" href=\"../a142ee0d64e92386abf3a88ad1b4a2c699e43d6a0/expr.ipynb\"><img src=\"../a142ee0d64e92386abf3a88ad1b4a2c699e43d6a0/expr.png\" style=\"display:inline;vertical-align:middle;\" /></a></td></tr>\n",
       "<tr><td>4</td><td>Conditional</td><td>value:&nbsp;5<br>condition:&nbsp;6<br></td><td><a class=\"ProveItLink\" href=\"../96be70321ed05fa53ce9c23b41530997b7bb63b00/expr.ipynb\"><img src=\"../96be70321ed05fa53ce9c23b41530997b7bb63b00/expr.png\" style=\"display:inline;vertical-align:middle;\" /></a></td></tr>\n",
       "<tr><td>5</td><td>Operation</td><td>operator:&nbsp;19<br>operands:&nbsp;7<br></td><td><a class=\"ProveItLink\" href=\"../../../__pv_it/857504d5a7dac5a9a188fa85c3afa325d78038220/expr.ipynb\"><img src=\"../../../__pv_it/857504d5a7dac5a9a188fa85c3afa325d78038220/expr.png\" style=\"display:inline;vertical-align:middle;\" /></a></td></tr>\n",
       "<tr><td>6</td><td>Operation</td><td>operator:&nbsp;8<br>operands:&nbsp;9<br></td><td><a class=\"ProveItLink\" href=\"../4c3ea15127cd46c78ff112f16e39b7fcb747537e0/expr.ipynb\"><img src=\"../4c3ea15127cd46c78ff112f16e39b7fcb747537e0/expr.png\" style=\"display:inline;vertical-align:middle;\" /></a></td></tr>\n",
       "<tr><td>7</td><td>ExprTuple</td><td>10, 11</td><td><a class=\"ProveItLink\" href=\"../../../__pv_it/84016fd938d9565b2e34c9b16d519325f79858750/expr.ipynb\"><img src=\"../../../__pv_it/84016fd938d9565b2e34c9b16d519325f79858750/expr.png\" style=\"display:inline;vertical-align:middle;\" /></a></td></tr>\n",
       "<tr><td>8</td><td>Literal</td><td></td><td><a class=\"ProveItLink\" href=\"../../../../logic/boolean/conjunction/__pv_it/f41cc6b553210927c09f19a8a39cdf860a5585930/expr.ipynb\"><img src=\"../../../../logic/boolean/conjunction/__pv_it/f41cc6b553210927c09f19a8a39cdf860a5585930/expr.png\" style=\"display:inline;vertical-align:middle;\" /></a></td></tr>\n",
       "<tr><td>9</td><td>ExprTuple</td><td>12, 13</td><td><a class=\"ProveItLink\" href=\"../9a1e9967442316e2d9fd2145b409e65425753bf30/expr.ipynb\"><img src=\"../9a1e9967442316e2d9fd2145b409e65425753bf30/expr.png\" style=\"display:inline;vertical-align:middle;\" /></a></td></tr>\n",
       "<tr><td>10</td><td>ExprTuple</td><td>14, 15</td><td><a class=\"ProveItLink\" href=\"../../../__pv_it/e092ef5032d7215b058b54c83e0022ca3e1b348a0/expr.ipynb\"><img src=\"../../../__pv_it/e092ef5032d7215b058b54c83e0022ca3e1b348a0/expr.png\" style=\"display:inline;vertical-align:middle;\" /></a></td></tr>\n",
       "<tr><td>11</td><td>ExprTuple</td><td>16</td><td><a class=\"ProveItLink\" href=\"../../../__pv_it/6a32f6a2da316f3e747d373f586b58781d8c8eb60/expr.ipynb\"><img src=\"../../../__pv_it/6a32f6a2da316f3e747d373f586b58781d8c8eb60/expr.png\" style=\"display:inline;vertical-align:middle;\" /></a></td></tr>\n",
       "<tr><td>12</td><td>Operation</td><td>operator:&nbsp;17<br>operands:&nbsp;18<br></td><td><a class=\"ProveItLink\" href=\"../3949b8112a8167d14e7a9cd4882fdd98bcc420a90/expr.ipynb\"><img src=\"../3949b8112a8167d14e7a9cd4882fdd98bcc420a90/expr.png\" style=\"display:inline;vertical-align:middle;\" /></a></td></tr>\n",
       "<tr><td>13</td><td>Operation</td><td>operator:&nbsp;19<br>operands:&nbsp;20<br></td><td><a class=\"ProveItLink\" href=\"../f422190ee452e45c0641f59b2727523857cb33310/expr.ipynb\"><img src=\"../f422190ee452e45c0641f59b2727523857cb33310/expr.png\" style=\"display:inline;vertical-align:middle;\" /></a></td></tr>\n",
       "<tr><td>14</td><td>ExprRange</td><td>lambda_map:&nbsp;21<br>start_index:&nbsp;36<br>end_index:&nbsp;33<br></td><td><a class=\"ProveItLink\" href=\"../../../__pv_it/4364953c923fa6ca90559992aee2d3b09264c0360/expr.ipynb\"><img src=\"../../../__pv_it/4364953c923fa6ca90559992aee2d3b09264c0360/expr.png\" style=\"display:inline;vertical-align:middle;\" /></a></td></tr>\n",
       "<tr><td>15</td><td>Operation</td><td>operator:&nbsp;29<br>operand:&nbsp;31<br></td><td><a class=\"ProveItLink\" href=\"../../../__pv_it/ebf9417aa601af1c193fba78e519ea751286ccf40/expr.ipynb\"><img src=\"../../../__pv_it/ebf9417aa601af1c193fba78e519ea751286ccf40/expr.png\" style=\"display:inline;vertical-align:middle;\" /></a></td></tr>\n",
       "<tr><td>16</td><td>ExprRange</td><td>lambda_map:&nbsp;21<br>start_index:&nbsp;36<br>end_index:&nbsp;31<br></td><td><a class=\"ProveItLink\" href=\"../../../__pv_it/37ccf5da1e67802712ced306b4cf933295b0e01e0/expr.ipynb\"><img src=\"../../../__pv_it/37ccf5da1e67802712ced306b4cf933295b0e01e0/expr.png\" style=\"display:inline;vertical-align:middle;\" /></a></td></tr>\n",
       "<tr><td>17</td><td>Literal</td><td></td><td><a class=\"ProveItLink\" href=\"../../../../logic/set_theory/membership/__pv_it/7776fc89cb67d0b5b1ec2c0c8e08da5587921ccf0/expr.ipynb\"><img src=\"../../../../logic/set_theory/membership/__pv_it/7776fc89cb67d0b5b1ec2c0c8e08da5587921ccf0/expr.png\" style=\"display:inline;vertical-align:middle;\" /></a></td></tr>\n",
       "<tr><td>18</td><td>ExprTuple</td><td>22, 23</td><td><a class=\"ProveItLink\" href=\"../c12787c2e5ed83bb38e86a799cb45a2e7f8fa60e0/expr.ipynb\"><img src=\"../c12787c2e5ed83bb38e86a799cb45a2e7f8fa60e0/expr.png\" style=\"display:inline;vertical-align:middle;\" /></a></td></tr>\n",
       "<tr><td>19</td><td>Literal</td><td></td><td><a class=\"ProveItLink\" href=\"../../../../logic/equality/__pv_it/e16d2caa26a16688b658bdb9c422caf4b84579e10/expr.ipynb\"><img src=\"../../../../logic/equality/__pv_it/e16d2caa26a16688b658bdb9c422caf4b84579e10/expr.png\" style=\"display:inline;vertical-align:middle;\" /></a></td></tr>\n",
       "<tr><td>20</td><td>ExprTuple</td><td>31, 24</td><td><a class=\"ProveItLink\" href=\"../96509c5f8bda4be08943c2274a815d0f7a0c00930/expr.ipynb\"><img src=\"../96509c5f8bda4be08943c2274a815d0f7a0c00930/expr.png\" style=\"display:inline;vertical-align:middle;\" /></a></td></tr>\n",
       "<tr><td>21</td><td>Lambda</td><td>parameter:&nbsp;30<br>body:&nbsp;25<br></td><td><a class=\"ProveItLink\" href=\"../../../__pv_it/4df79cbef650a27c8a09538689706d4ef348e6770/expr.ipynb\"><img src=\"../../../__pv_it/4df79cbef650a27c8a09538689706d4ef348e6770/expr.png\" style=\"display:inline;vertical-align:middle;\" /></a></td></tr>\n",
       "<tr><td>22</td><td>Operation</td><td>operator:&nbsp;27<br>operands:&nbsp;26<br></td><td><a class=\"ProveItLink\" href=\"../11fae649baef14693333f8cde259b364cb3c83aa0/expr.ipynb\"><img src=\"../11fae649baef14693333f8cde259b364cb3c83aa0/expr.png\" style=\"display:inline;vertical-align:middle;\" /></a></td></tr>\n",
       "<tr><td>23</td><td>Literal</td><td></td><td><a class=\"ProveItLink\" href=\"../../../../number/sets/integer/__pv_it/b49c37b99b7e8d73a8d7971bcf454d693b90a2c60/expr.ipynb\"><img src=\"../../../../number/sets/integer/__pv_it/b49c37b99b7e8d73a8d7971bcf454d693b90a2c60/expr.png\" style=\"display:inline;vertical-align:middle;\" /></a></td></tr>\n",
       "<tr><td>24</td><td>Operation</td><td>operator:&nbsp;27<br>operands:&nbsp;28<br></td><td><a class=\"ProveItLink\" href=\"../c24113b5c38ba32e99d87d214af69362016a17fe0/expr.ipynb\"><img src=\"../c24113b5c38ba32e99d87d214af69362016a17fe0/expr.png\" style=\"display:inline;vertical-align:middle;\" /></a></td></tr>\n",
       "<tr><td>25</td><td>Operation</td><td>operator:&nbsp;29<br>operand:&nbsp;30<br></td><td><a class=\"ProveItLink\" href=\"../../../../__pv_it/e80bce2a0c2e8c976be76e7b3ce08f76e74ec5550/expr.ipynb\"><img src=\"../../../../__pv_it/e80bce2a0c2e8c976be76e7b3ce08f76e74ec5550/expr.png\" style=\"display:inline;vertical-align:middle;\" /></a></td></tr>\n",
       "<tr><td>26</td><td>ExprTuple</td><td>31, 32</td><td><a class=\"ProveItLink\" href=\"../38b79677557cc529bf63e1072c373dacce46ca4b0/expr.ipynb\"><img src=\"../38b79677557cc529bf63e1072c373dacce46ca4b0/expr.png\" style=\"display:inline;vertical-align:middle;\" /></a></td></tr>\n",
       "<tr><td>27</td><td>Literal</td><td></td><td><a class=\"ProveItLink\" href=\"../../../../number/addition/__pv_it/65ad7e8aee19b10110d590375ba95a879c4fb7ea0/expr.ipynb\"><img src=\"../../../../number/addition/__pv_it/65ad7e8aee19b10110d590375ba95a879c4fb7ea0/expr.png\" style=\"display:inline;vertical-align:middle;\" /></a></td></tr>\n",
       "<tr><td>28</td><td>ExprTuple</td><td>33, 34</td><td><a class=\"ProveItLink\" href=\"../a6730aa6a9af9a6e7774016b6b9febfe2d879d590/expr.ipynb\"><img src=\"../a6730aa6a9af9a6e7774016b6b9febfe2d879d590/expr.png\" style=\"display:inline;vertical-align:middle;\" /></a></td></tr>\n",
       "<tr><td>29</td><td>Variable</td><td></td><td><a class=\"ProveItLink\" href=\"../../../../__pv_it/d7bbb04e874e28c7cefb21d4eea40806ae52f1f70/expr.ipynb\"><img src=\"../../../../__pv_it/d7bbb04e874e28c7cefb21d4eea40806ae52f1f70/expr.png\" style=\"display:inline;vertical-align:middle;\" /></a></td></tr>\n",
       "<tr><td>30</td><td>Variable</td><td></td><td><a class=\"ProveItLink\" href=\"../../../../__pv_it/a8d4b3a34d2189508f9082853fbac36935714f280/expr.ipynb\"><img src=\"../../../../__pv_it/a8d4b3a34d2189508f9082853fbac36935714f280/expr.png\" style=\"display:inline;vertical-align:middle;\" /></a></td></tr>\n",
       "<tr><td>31</td><td>Variable</td><td></td><td><a class=\"ProveItLink\" href=\"../../../../__pv_it/273f49450ca25e1b56abbd98a7aef618f8f6c1360/expr.ipynb\"><img src=\"../../../../__pv_it/273f49450ca25e1b56abbd98a7aef618f8f6c1360/expr.png\" style=\"display:inline;vertical-align:middle;\" /></a></td></tr>\n",
       "<tr><td>32</td><td>Operation</td><td>operator:&nbsp;35<br>operand:&nbsp;36<br></td><td><a class=\"ProveItLink\" href=\"../e30e84c6c241a2e59facf3853e0cf2095a9c3cb00/expr.ipynb\"><img src=\"../e30e84c6c241a2e59facf3853e0cf2095a9c3cb00/expr.png\" style=\"display:inline;vertical-align:middle;\" /></a></td></tr>\n",
       "<tr><td>33</td><td>Variable</td><td></td><td><a class=\"ProveItLink\" href=\"../../../../__pv_it/6a5b5879f51878868f626bf09e4d76392d4779cd0/expr.ipynb\"><img src=\"../../../../__pv_it/6a5b5879f51878868f626bf09e4d76392d4779cd0/expr.png\" style=\"display:inline;vertical-align:middle;\" /></a></td></tr>\n",
       "<tr><td>34</td><td>Literal</td><td></td><td><a class=\"ProveItLink\" href=\"../../../../number/numeral/__pv_it/f086f8c372bd40a2458306ddfdbb29f3dc6f63030/expr.ipynb\"><img src=\"../../../../number/numeral/__pv_it/f086f8c372bd40a2458306ddfdbb29f3dc6f63030/expr.png\" style=\"display:inline;vertical-align:middle;\" /></a></td></tr>\n",
       "<tr><td>35</td><td>Literal</td><td></td><td><a class=\"ProveItLink\" href=\"../../../../number/negation/__pv_it/2867787e35502987d81a45cac8e7f1c6996d6ff40/expr.ipynb\"><img src=\"../../../../number/negation/__pv_it/2867787e35502987d81a45cac8e7f1c6996d6ff40/expr.png\" style=\"display:inline;vertical-align:middle;\" /></a></td></tr>\n",
       "<tr><td>36</td><td>Variable</td><td></td><td><a class=\"ProveItLink\" href=\"../../../../__pv_it/557ab5defdcd46aa58168b08767502985122cd490/expr.ipynb\"><img src=\"../../../../__pv_it/557ab5defdcd46aa58168b08767502985122cd490/expr.png\" style=\"display:inline;vertical-align:middle;\" /></a></td></tr>\n",
       "</table>\n"
      ],
      "text/plain": [
       "0. forall_{f, i, j, k | (k - i) in Naturals, k = (j + 1)} ((f(i), ..f(a).., f(j), f(k)) =  \\\\ (f(i), ..f(a).., f(k)))\n",
       "   core type: Operation\n",
       "   operator: 1\n",
       "   operand: 2\n",
       "1. forall\n",
       "   core type: Literal\n",
       "   sub-expressions: \n",
       "2. (f, i, j, k) -> {(f(i), ..f(a).., f(j), f(k)) =  \\\\ (f(i), ..f(a).., f(k)) if (k - i) in Naturals ,  k = (j + 1).\n",
       "   core type: Lambda\n",
       "   parameters: 3\\n   body: 4\n",
       "3. (f, i, j, k)\n",
       "   core type: ExprTuple\n",
       "   sub-expressions: 29, 36, 33, 31\n",
       "4. {(f(i), ..f(a).., f(j), f(k)) =  \\\\ (f(i), ..f(a).., f(k)) if (k - i) in Naturals ,  k = (j + 1).\n",
       "   core type: Conditional\n",
       "   value: 5\n",
       "   condition: 6\n",
       "5. (f(i), ..f(a).., f(j), f(k)) =  \\\\ (f(i), ..f(a).., f(k))\n",
       "   core type: Operation\n",
       "   operator: 19\n",
       "   operands: 7\n",
       "6. ((k - i) in Naturals) and (k = (j + 1))\n",
       "   core type: Operation\n",
       "   operator: 8\n",
       "   operands: 9\n",
       "7. ((f(i), ..f(a).., f(j), f(k)), (f(i), ..f(a).., f(k)))\n",
       "   core type: ExprTuple\n",
       "   sub-expressions: 10, 11\n",
       "8. and\n",
       "   core type: Literal\n",
       "   sub-expressions: \n",
       "9. ((k - i) in Naturals, k = (j + 1))\n",
       "   core type: ExprTuple\n",
       "   sub-expressions: 12, 13\n",
       "10. (f(i), ..f(a).., f(j), f(k))\n",
       "    core type: ExprTuple\n",
       "    sub-expressions: 14, 15\n",
       "11. (f(i), ..f(a).., f(k))\n",
       "    core type: ExprTuple\n",
       "    sub-expressions: 16\n",
       "12. (k - i) in Naturals\n",
       "    core type: Operation\n",
       "    operator: 17\n",
       "    operands: 18\n",
       "13. k = (j + 1)\n",
       "    core type: Operation\n",
       "    operator: 19\n",
       "    operands: 20\n",
       "14. f(i), ..f(a).., f(j)\n",
       "    core type: ExprRange\n",
       "    lambda_map: 21\n",
       "    start_index: 36\n",
       "    end_index: 33\n",
       "15. f(k)\n",
       "    core type: Operation\n",
       "    operator: 29\n",
       "    operand: 31\n",
       "16. f(i), ..f(a).., f(k)\n",
       "    core type: ExprRange\n",
       "    lambda_map: 21\n",
       "    start_index: 36\n",
       "    end_index: 31\n",
       "17. in\n",
       "    core type: Literal\n",
       "    sub-expressions: \n",
       "18. (k - i, Naturals)\n",
       "    core type: ExprTuple\n",
       "    sub-expressions: 22, 23\n",
       "19. =\n",
       "    core type: Literal\n",
       "    sub-expressions: \n",
       "20. (k, j + 1)\n",
       "    core type: ExprTuple\n",
       "    sub-expressions: 31, 24\n",
       "21. a -> f(a)\n",
       "    core type: Lambda\n",
       "    parameter: 30\n",
       "    body: 25\n",
       "22. k - i\n",
       "    core type: Operation\n",
       "    operator: 27\n",
       "    operands: 26\n",
       "23. Naturals\n",
       "    core type: Literal\n",
       "    sub-expressions: \n",
       "24. j + 1\n",
       "    core type: Operation\n",
       "    operator: 27\n",
       "    operands: 28\n",
       "25. f(a)\n",
       "    core type: Operation\n",
       "    operator: 29\n",
       "    operand: 30\n",
       "26. (k, -i)\n",
       "    core type: ExprTuple\n",
       "    sub-expressions: 31, 32\n",
       "27. +\n",
       "    core type: Literal\n",
       "    sub-expressions: \n",
       "28. (j, 1)\n",
       "    core type: ExprTuple\n",
       "    sub-expressions: 33, 34\n",
       "29. f\n",
       "    core type: Variable\n",
       "    sub-expressions: \n",
       "30. a\n",
       "    core type: Variable\n",
       "    sub-expressions: \n",
       "31. k\n",
       "    core type: Variable\n",
       "    sub-expressions: \n",
       "32. -i\n",
       "    core type: Operation\n",
       "    operator: 35\n",
       "    operand: 36\n",
       "33. j\n",
       "    core type: Variable\n",
       "    sub-expressions: \n",
       "34. 1\n",
       "    core type: Literal\n",
       "    sub-expressions: \n",
       "35. -\n",
       "    core type: Literal\n",
       "    sub-expressions: \n",
       "36. i\n",
       "    core type: Variable\n",
       "    sub-expressions: "
      ]
     },
     "execution_count": 4,
     "metadata": {},
     "output_type": "execute_result"
    }
   ],
   "source": [
    "# display the expression information\n",
    "merge_back.exprInfo()"
   ]
  },
  {
   "cell_type": "code",
   "execution_count": null,
   "metadata": {},
   "outputs": [],
   "source": []
  }
 ],
 "metadata": {
  "kernelspec": {
   "display_name": "Python 3",
   "language": "python",
   "name": "python3"
  },
  "language_info": {
   "codemirror_mode": {
    "name": "ipython",
    "version": 3
   },
   "file_extension": ".py",
   "mimetype": "text/x-python",
   "name": "python",
   "nbconvert_exporter": "python",
   "pygments_lexer": "ipython3",
   "version": "3.7.3"
  }
 },
 "nbformat": 4,
 "nbformat_minor": 1
}
