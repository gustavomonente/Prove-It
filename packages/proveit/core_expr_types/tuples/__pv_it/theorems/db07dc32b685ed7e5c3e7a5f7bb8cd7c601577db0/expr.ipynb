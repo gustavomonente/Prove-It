{
 "cells": [
  {
   "cell_type": "markdown",
   "metadata": {},
   "source": [
    "Expression of type <a class=\"ProveItLink\" href=\"../../../../../../../doc/html/api/proveit.core_expr_types.Len.html\">Len</a>\n",
    "=======================\n",
    "# from the theory of <a class=\"ProveItLink\" href=\"../../../_theory_nbs_/theory.ipynb\">proveit.core_expr_types.tuples</a>"
   ]
  },
  {
   "cell_type": "code",
   "execution_count": 1,
   "metadata": {},
   "outputs": [],
   "source": [
    "import proveit\n",
    "# Automation is not needed when building an expression:\n",
    "proveit.defaults.automation = False # This will speed things up.\n",
    "proveit.defaults.inline_pngs = False # Makes files smaller.\n",
    "%load_expr # Load the stored expression as 'stored_expr'\n",
    "# import Expression classes needed to build the expression\n",
    "from proveit.core_expr_types import Len\n",
    "from proveit.core_expr_types.tuples import f_1_to_i__1_to_n"
   ]
  },
  {
   "cell_type": "code",
   "execution_count": 2,
   "metadata": {},
   "outputs": [
    {
     "data": {
      "text/html": [
       "<strong id=\"expr\">expr:</strong> <a class=\"ProveItLink\" href=\"expr.ipynb\"><img src=\"expr.png\" style=\"display:inline;vertical-align:middle;\" /></a><br>"
      ],
      "text/plain": [
       "expr: |(f_{1}(1), ..f_{1}(x).., f_{1}(i), ....f_{k}(1), ..f_{k}(x).., f_{k}(i)...., f_{n}(1), ..f_{n}(x).., f_{n}(i))|"
      ]
     },
     "execution_count": 2,
     "metadata": {},
     "output_type": "execute_result"
    }
   ],
   "source": [
    "# build up the expression from sub-expressions\n",
    "expr = Len([f_1_to_i__1_to_n])"
   ]
  },
  {
   "cell_type": "code",
   "execution_count": 3,
   "metadata": {},
   "outputs": [
    {
     "name": "stdout",
     "output_type": "stream",
     "text": [
      "Passed sanity check: expr matches stored_expr\n"
     ]
    }
   ],
   "source": [
    "# check that the built expression is the same as the stored expression\n",
    "assert expr == stored_expr\n",
    "assert expr._style_id == stored_expr._style_id\n",
    "print(\"Passed sanity check: expr matches stored_expr\")"
   ]
  },
  {
   "cell_type": "code",
   "execution_count": 4,
   "metadata": {},
   "outputs": [
    {
     "name": "stdout",
     "output_type": "stream",
     "text": [
      "|\\left(f_{1}(1), \\ldots, f_{1}(i), \\ldots\\ldots, f_{n}(1), \\ldots, f_{n}(i)\\right)|\n"
     ]
    }
   ],
   "source": [
    "# Show the LaTeX representation of the expression for convenience if you need it.\n",
    "print(expr.latex())"
   ]
  },
  {
   "cell_type": "code",
   "execution_count": 5,
   "metadata": {},
   "outputs": [
    {
     "data": {
      "text/html": [
       "<table><tr><th>&nbsp;</th><th>core type</th><th>sub-expressions</th><th>expression</th></tr>\n",
       "<tr><td>0</td><td>Operation</td><td>operator:&nbsp;1<br>operand:&nbsp;3<br></td><td><a class=\"ProveItLink\" href=\"expr.ipynb\"><img src=\"expr.png\" style=\"display:inline;vertical-align:middle;\" /></a></td></tr>\n",
       "<tr><td>1</td><td>Literal</td><td></td><td><a class=\"ProveItLink\" href=\"../../common/43df765abf1294d8f1fd177863f57f08bf5ad0080/expr.ipynb\"><img src=\"../../common/43df765abf1294d8f1fd177863f57f08bf5ad0080/expr.png\" style=\"display:inline;vertical-align:middle;\" /></a></td></tr>\n",
       "<tr><td>2</td><td>ExprTuple</td><td>3</td><td><a class=\"ProveItLink\" href=\"../fa80f97061fa64ea927104cb1e513aa0cf1e10020/expr.ipynb\"><img src=\"../fa80f97061fa64ea927104cb1e513aa0cf1e10020/expr.png\" style=\"display:inline;vertical-align:middle;\" /></a></td></tr>\n",
       "<tr><td>3</td><td>ExprTuple</td><td>4</td><td><a class=\"ProveItLink\" href=\"../0eae614679d119f46e3d4ddb6f124a1de7c243ce0/expr.ipynb\"><img src=\"../0eae614679d119f46e3d4ddb6f124a1de7c243ce0/expr.png\" style=\"display:inline;vertical-align:middle;\" /></a></td></tr>\n",
       "<tr><td>4</td><td>ExprRange</td><td>lambda_map:&nbsp;5<br>start_index:&nbsp;9<br>end_index:&nbsp;6<br></td><td><a class=\"ProveItLink\" href=\"../../common/b3d269cd8135ccedb57fdb58769bdc55927869980/expr.ipynb\"><img src=\"../../common/b3d269cd8135ccedb57fdb58769bdc55927869980/expr.png\" style=\"display:inline;vertical-align:middle;\" /></a></td></tr>\n",
       "<tr><td>5</td><td>Lambda</td><td>parameter:&nbsp;15<br>body:&nbsp;7<br></td><td><a class=\"ProveItLink\" href=\"../../common/ee5c5610e153e73c3ba5529e69b3e3d994c50d980/expr.ipynb\"><img src=\"../../common/ee5c5610e153e73c3ba5529e69b3e3d994c50d980/expr.png\" style=\"display:inline;vertical-align:middle;\" /></a></td></tr>\n",
       "<tr><td>6</td><td>Variable</td><td></td><td><a class=\"ProveItLink\" href=\"../../../../../__pv_it/common/8968bb04eb3f7dfa02353397ce929b025bbd79c20/expr.ipynb\"><img src=\"../../../../../__pv_it/common/8968bb04eb3f7dfa02353397ce929b025bbd79c20/expr.png\" style=\"display:inline;vertical-align:middle;\" /></a></td></tr>\n",
       "<tr><td>7</td><td>ExprRange</td><td>lambda_map:&nbsp;8<br>start_index:&nbsp;9<br>end_index:&nbsp;10<br></td><td><a class=\"ProveItLink\" href=\"../../common/008d8f1be5272fe9b3dd3a5d065743fa3fd024e00/expr.ipynb\"><img src=\"../../common/008d8f1be5272fe9b3dd3a5d065743fa3fd024e00/expr.png\" style=\"display:inline;vertical-align:middle;\" /></a></td></tr>\n",
       "<tr><td>8</td><td>Lambda</td><td>parameter:&nbsp;13<br>body:&nbsp;11<br></td><td><a class=\"ProveItLink\" href=\"../../common/17e9f7bf6953e6d4e8246dd325bfa03ebb28bee40/expr.ipynb\"><img src=\"../../common/17e9f7bf6953e6d4e8246dd325bfa03ebb28bee40/expr.png\" style=\"display:inline;vertical-align:middle;\" /></a></td></tr>\n",
       "<tr><td>9</td><td>Literal</td><td></td><td><a class=\"ProveItLink\" href=\"../../../../../numbers/numerals/__pv_it/common/2778428c7f555b2bdc06aa0530bc142c6e6335100/expr.ipynb\"><img src=\"../../../../../numbers/numerals/__pv_it/common/2778428c7f555b2bdc06aa0530bc142c6e6335100/expr.png\" style=\"display:inline;vertical-align:middle;\" /></a></td></tr>\n",
       "<tr><td>10</td><td>Variable</td><td></td><td><a class=\"ProveItLink\" href=\"../../../../../__pv_it/common/ae955345c83abf786c3aff8681cd5465beae262d0/expr.ipynb\"><img src=\"../../../../../__pv_it/common/ae955345c83abf786c3aff8681cd5465beae262d0/expr.png\" style=\"display:inline;vertical-align:middle;\" /></a></td></tr>\n",
       "<tr><td>11</td><td>Operation</td><td>operator:&nbsp;12<br>operand:&nbsp;13<br></td><td><a class=\"ProveItLink\" href=\"../../common/e2c78e71edcbe514291a76462282c0e1e27911160/expr.ipynb\"><img src=\"../../common/e2c78e71edcbe514291a76462282c0e1e27911160/expr.png\" style=\"display:inline;vertical-align:middle;\" /></a></td></tr>\n",
       "<tr><td>12</td><td>IndexedVar</td><td>variable:&nbsp;14<br>index:&nbsp;15<br></td><td><a class=\"ProveItLink\" href=\"../../../../__pv_it/common/fe274f3dc110b1f71dac5e209cbc5084427629c30/expr.ipynb\"><img src=\"../../../../__pv_it/common/fe274f3dc110b1f71dac5e209cbc5084427629c30/expr.png\" style=\"display:inline;vertical-align:middle;\" /></a></td></tr>\n",
       "<tr><td>13</td><td>Variable</td><td></td><td><a class=\"ProveItLink\" href=\"../../../../../__pv_it/common/a0d9d672aa5e272d907247690c152cc2c6daafb70/expr.ipynb\"><img src=\"../../../../../__pv_it/common/a0d9d672aa5e272d907247690c152cc2c6daafb70/expr.png\" style=\"display:inline;vertical-align:middle;\" /></a></td></tr>\n",
       "<tr><td>14</td><td>Variable</td><td></td><td><a class=\"ProveItLink\" href=\"../../../../../__pv_it/common/01b6dbb444a31fc38af4c2379badef6c75b363710/expr.ipynb\"><img src=\"../../../../../__pv_it/common/01b6dbb444a31fc38af4c2379badef6c75b363710/expr.png\" style=\"display:inline;vertical-align:middle;\" /></a></td></tr>\n",
       "<tr><td>15</td><td>Variable</td><td></td><td><a class=\"ProveItLink\" href=\"../../../../../__pv_it/common/63b7c64bf9ec7a04ecc396c7a1670f3f12fb59490/expr.ipynb\"><img src=\"../../../../../__pv_it/common/63b7c64bf9ec7a04ecc396c7a1670f3f12fb59490/expr.png\" style=\"display:inline;vertical-align:middle;\" /></a></td></tr>\n",
       "</table>\n"
      ],
      "text/plain": [
       "0. |(f_{1}(1), ..f_{1}(x).., f_{1}(i), ....f_{k}(1), ..f_{k}(x).., f_{k}(i)...., f_{n}(1), ..f_{n}(x).., f_{n}(i))|\n",
       "   core type: Operation\n",
       "   operator: 1\n",
       "   operand: 3\n",
       "1. length\n",
       "   core type: Literal\n",
       "   sub-expressions: \n",
       "2. ((f_{1}(1), ..f_{1}(x).., f_{1}(i), ....f_{k}(1), ..f_{k}(x).., f_{k}(i)...., f_{n}(1), ..f_{n}(x).., f_{n}(i)))\n",
       "   core type: ExprTuple\n",
       "   sub-expressions: 3\n",
       "3. (f_{1}(1), ..f_{1}(x).., f_{1}(i), ....f_{k}(1), ..f_{k}(x).., f_{k}(i)...., f_{n}(1), ..f_{n}(x).., f_{n}(i))\n",
       "   core type: ExprTuple\n",
       "   sub-expressions: 4\n",
       "4. f_{1}(1), ..f_{1}(x).., f_{1}(i), ....f_{k}(1), ..f_{k}(x).., f_{k}(i)...., f_{n}(1), ..f_{n}(x).., f_{n}(i)\n",
       "   core type: ExprRange\n",
       "   lambda_map: 5\n",
       "   start_index: 9\n",
       "   end_index: 6\n",
       "5. k -> f_{k}(1), ..f_{k}(x).., f_{k}(i)\n",
       "   core type: Lambda\n",
       "   parameter: 15\n",
       "   body: 7\n",
       "6. n\n",
       "   core type: Variable\n",
       "   sub-expressions: \n",
       "7. f_{k}(1), ..f_{k}(x).., f_{k}(i)\n",
       "   core type: ExprRange\n",
       "   lambda_map: 8\n",
       "   start_index: 9\n",
       "   end_index: 10\n",
       "8. x -> f_{k}(x)\n",
       "   core type: Lambda\n",
       "   parameter: 13\n",
       "   body: 11\n",
       "9. 1\n",
       "   core type: Literal\n",
       "   sub-expressions: \n",
       "10. i\n",
       "    core type: Variable\n",
       "    sub-expressions: \n",
       "11. f_{k}(x)\n",
       "    core type: Operation\n",
       "    operator: 12\n",
       "    operand: 13\n",
       "12. f_{k}\n",
       "    core type: IndexedVar\n",
       "variable: 14\n",
       "index: 15\n",
       "13. x\n",
       "    core type: Variable\n",
       "    sub-expressions: \n",
       "14. f\n",
       "    core type: Variable\n",
       "    sub-expressions: \n",
       "15. k\n",
       "    core type: Variable\n",
       "    sub-expressions: "
      ]
     },
     "execution_count": 5,
     "metadata": {},
     "output_type": "execute_result"
    }
   ],
   "source": [
    "# display the expression information\n",
    "expr.expr_info()"
   ]
  },
  {
   "cell_type": "code",
   "execution_count": null,
   "metadata": {},
   "outputs": [],
   "source": []
  }
 ],
 "metadata": {
  "kernelspec": {
   "display_name": "Python 3",
   "language": "python",
   "name": "python3"
  }
 },
 "nbformat": 4,
 "nbformat_minor": 0
}