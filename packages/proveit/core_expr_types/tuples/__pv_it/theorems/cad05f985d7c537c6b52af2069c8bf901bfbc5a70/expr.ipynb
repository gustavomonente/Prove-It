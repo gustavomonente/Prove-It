{
 "cells": [
  {
   "cell_type": "markdown",
   "metadata": {},
   "source": [
    "Expression of type <a class=\"ProveItLink\" href=\"../../../../../../../doc/html/api/proveit.logic.Forall.html\">Forall</a>\n",
    "=======================\n",
    "# from the theory of <a class=\"ProveItLink\" href=\"../../../_theory_nbs_/theory.ipynb\">proveit.core_expr_types.tuples</a>"
   ]
  },
  {
   "cell_type": "code",
   "execution_count": 1,
   "metadata": {},
   "outputs": [],
   "source": [
    "import proveit\n",
    "# Automation is not needed when building an expression:\n",
    "proveit.defaults.automation = False # This will speed things up.\n",
    "proveit.defaults.inline_pngs = False # Makes files smaller.\n",
    "%load_expr # Load the stored expression as 'stored_expr'\n",
    "# import Expression classes needed to build the expression\n",
    "from proveit import a, i, j, k, l\n",
    "from proveit.core_expr_types.tuples import shift_equiv\n",
    "from proveit.logic import Equals, Forall, InSet\n",
    "from proveit.numbers import Add, Natural, Neg, one"
   ]
  },
  {
   "cell_type": "code",
   "execution_count": 2,
   "metadata": {},
   "outputs": [
    {
     "data": {
      "text/html": [
       "<strong id=\"expr\">expr:</strong> <a class=\"ProveItLink\" href=\"expr.ipynb\"><img src=\"expr.png\" style=\"display:inline;vertical-align:middle;\" /></a><br>"
      ],
      "text/plain": [
       "expr: forall_{i, j, k, l | ((j + 1) - i) in Natural, k = (i - a), l = (j - a)} ((f(i), ..f(a).., f(j)) = (f(k + a), ..f(i + a).., f(l + a)))"
      ]
     },
     "execution_count": 2,
     "metadata": {},
     "output_type": "execute_result"
    }
   ],
   "source": [
    "# build up the expression from sub-expressions\n",
    "sub_expr1 = Neg(a)\n",
    "expr = Forall([i, j, k, l], shift_equiv, conditions = [InSet(Add(Add(j, one), Neg(i)), Natural), Equals(k, Add(i, sub_expr1)), Equals(l, Add(j, sub_expr1))])"
   ]
  },
  {
   "cell_type": "code",
   "execution_count": 3,
   "metadata": {},
   "outputs": [
    {
     "name": "stdout",
     "output_type": "stream",
     "text": [
      "Passed sanity check: expr matches stored_expr\n"
     ]
    }
   ],
   "source": [
    "# check that the built expression is the same as the stored expression\n",
    "assert expr == stored_expr\n",
    "assert expr._style_id == stored_expr._style_id\n",
    "print(\"Passed sanity check: expr matches stored_expr\")"
   ]
  },
  {
   "cell_type": "code",
   "execution_count": 4,
   "metadata": {},
   "outputs": [
    {
     "name": "stdout",
     "output_type": "stream",
     "text": [
      "\\forall_{i, j, k, l~|~\\left(\\left(j + 1\\right) - i\\right) \\in \\mathbb{N}, k = \\left(i - a\\right), l = \\left(j - a\\right)}~\\left(\\left(f(i), \\ldots, f(j)\\right) = \\left(f(k + a), \\ldots, f(l + a)\\right)\\right)\n"
     ]
    }
   ],
   "source": [
    "# Show the LaTeX representation of the expression for convenience if you need it.\n",
    "print(expr.latex())"
   ]
  },
  {
   "cell_type": "code",
   "execution_count": 5,
   "metadata": {},
   "outputs": [
    {
     "data": {
      "text/html": [
       "<table>\n",
       "<tr><th>name</th><th>description</th><th>default</th><th>current value</th><th>related methods</th></tr><tr><td>with_wrapping</td><td>If 'True', wrap the Expression after the parameters</td><td>None</td><td>None/False</td><td>('with_wrapping',)</td></tr>\n",
       "<tr><td>wrap_params</td><td>If 'True', wraps every two parameters AND wraps the Expression after the parameters</td><td>None</td><td>None/False</td><td>('with_params',)</td></tr>\n",
       "<tr><td>justification</td><td>justify to the 'left', 'center', or 'right' in the array cells</td><td>center</td><td>center</td><td>('with_justification',)</td></tr>\n",
       "</table>\n"
      ],
      "text/plain": [
       "style name: with_wrapping\n",
       "description: If 'True', wrap the Expression after the parameters\n",
       "default: None\n",
       "current value: None/False\n",
       "related methods: ('with_wrapping',)\n",
       "style name: wrap_params\n",
       "description: If 'True', wraps every two parameters AND wraps the Expression after the parameters\n",
       "default: None\n",
       "current value: None/False\n",
       "related methods: ('with_params',)\n",
       "style name: justification\n",
       "description: justify to the 'left', 'center', or 'right' in the array cells\n",
       "default: center\n",
       "current value: center\n",
       "related methods: ('with_justification',)"
      ]
     },
     "execution_count": 5,
     "metadata": {},
     "output_type": "execute_result"
    }
   ],
   "source": [
    "expr.style_options()"
   ]
  },
  {
   "cell_type": "code",
   "execution_count": 6,
   "metadata": {},
   "outputs": [
    {
     "data": {
      "text/html": [
       "<table><tr><th>&nbsp;</th><th>core type</th><th>sub-expressions</th><th>expression</th></tr>\n",
       "<tr><td>0</td><td>Operation</td><td>operator:&nbsp;1<br>operand:&nbsp;3<br></td><td><a class=\"ProveItLink\" href=\"expr.ipynb\"><img src=\"expr.png\" style=\"display:inline;vertical-align:middle;\" /></a></td></tr>\n",
       "<tr><td>1</td><td>Literal</td><td></td><td><a class=\"ProveItLink\" href=\"../../../../../logic/booleans/quantification/universality/__pv_it/common/684d35ba98fcbf8ca5011f865e530a51e77730630/expr.ipynb\"><img src=\"../../../../../logic/booleans/quantification/universality/__pv_it/common/684d35ba98fcbf8ca5011f865e530a51e77730630/expr.png\" style=\"display:inline;vertical-align:middle;\" /></a></td></tr>\n",
       "<tr><td>2</td><td>ExprTuple</td><td>3</td><td><a class=\"ProveItLink\" href=\"../4945685323e52cd2973fe929e462b4a7c3e82c1c0/expr.ipynb\"><img src=\"../4945685323e52cd2973fe929e462b4a7c3e82c1c0/expr.png\" style=\"display:inline;vertical-align:middle;\" /></a></td></tr>\n",
       "<tr><td>3</td><td>Lambda</td><td>parameters:&nbsp;4<br>body:&nbsp;5<br></td><td><a class=\"ProveItLink\" href=\"../487d194fa274f8261e52cd011b4afe9f5f45e0080/expr.ipynb\"><img src=\"../487d194fa274f8261e52cd011b4afe9f5f45e0080/expr.png\" style=\"display:inline;vertical-align:middle;\" /></a></td></tr>\n",
       "<tr><td>4</td><td>ExprTuple</td><td>50, 48, 27, 29</td><td><a class=\"ProveItLink\" href=\"../14b72ba35a1825867623448ad2c47392b5f036150/expr.ipynb\"><img src=\"../14b72ba35a1825867623448ad2c47392b5f036150/expr.png\" style=\"display:inline;vertical-align:middle;\" /></a></td></tr>\n",
       "<tr><td>5</td><td>Conditional</td><td>value:&nbsp;6<br>condition:&nbsp;7<br></td><td><a class=\"ProveItLink\" href=\"../c29fdf207ba0cc9f33263e83e4eb6f38b5b5bc840/expr.ipynb\"><img src=\"../c29fdf207ba0cc9f33263e83e4eb6f38b5b5bc840/expr.png\" style=\"display:inline;vertical-align:middle;\" /></a></td></tr>\n",
       "<tr><td>6</td><td>Operation</td><td>operator:&nbsp;21<br>operands:&nbsp;8<br></td><td><a class=\"ProveItLink\" href=\"../../common/c3457781ab63a716b68dd676f934d1de225c46460/expr.ipynb\"><img src=\"../../common/c3457781ab63a716b68dd676f934d1de225c46460/expr.png\" style=\"display:inline;vertical-align:middle;\" /></a></td></tr>\n",
       "<tr><td>7</td><td>Operation</td><td>operator:&nbsp;9<br>operands:&nbsp;10<br></td><td><a class=\"ProveItLink\" href=\"../62f5298dfb0ac67ecde677f72f237f9ebd2641850/expr.ipynb\"><img src=\"../62f5298dfb0ac67ecde677f72f237f9ebd2641850/expr.png\" style=\"display:inline;vertical-align:middle;\" /></a></td></tr>\n",
       "<tr><td>8</td><td>ExprTuple</td><td>11, 12</td><td><a class=\"ProveItLink\" href=\"../../common/fd76da02680e78e52249ac191543b9590a5c72d10/expr.ipynb\"><img src=\"../../common/fd76da02680e78e52249ac191543b9590a5c72d10/expr.png\" style=\"display:inline;vertical-align:middle;\" /></a></td></tr>\n",
       "<tr><td>9</td><td>Literal</td><td></td><td><a class=\"ProveItLink\" href=\"../../../../../logic/booleans/conjunction/__pv_it/common/26b94b53e70b1d77b70f0d9d4236347db37731060/expr.ipynb\"><img src=\"../../../../../logic/booleans/conjunction/__pv_it/common/26b94b53e70b1d77b70f0d9d4236347db37731060/expr.png\" style=\"display:inline;vertical-align:middle;\" /></a></td></tr>\n",
       "<tr><td>10</td><td>ExprTuple</td><td>13, 14, 15</td><td><a class=\"ProveItLink\" href=\"../991ccfaff5bc9cbe4fb890f4c8d04aebf14feb330/expr.ipynb\"><img src=\"../991ccfaff5bc9cbe4fb890f4c8d04aebf14feb330/expr.png\" style=\"display:inline;vertical-align:middle;\" /></a></td></tr>\n",
       "<tr><td>11</td><td>ExprTuple</td><td>16</td><td><a class=\"ProveItLink\" href=\"../../common/31e4f20063aa7afaa3967f942d1c9d81324c696d0/expr.ipynb\"><img src=\"../../common/31e4f20063aa7afaa3967f942d1c9d81324c696d0/expr.png\" style=\"display:inline;vertical-align:middle;\" /></a></td></tr>\n",
       "<tr><td>12</td><td>ExprTuple</td><td>17</td><td><a class=\"ProveItLink\" href=\"../../common/ffe0f4e49d2be819314f5b71395697f46e5e58b40/expr.ipynb\"><img src=\"../../common/ffe0f4e49d2be819314f5b71395697f46e5e58b40/expr.png\" style=\"display:inline;vertical-align:middle;\" /></a></td></tr>\n",
       "<tr><td>13</td><td>Operation</td><td>operator:&nbsp;18<br>operands:&nbsp;19<br></td><td><a class=\"ProveItLink\" href=\"../c695e7f95a12c510ca30544bb99f1e8c60d19f7c0/expr.ipynb\"><img src=\"../c695e7f95a12c510ca30544bb99f1e8c60d19f7c0/expr.png\" style=\"display:inline;vertical-align:middle;\" /></a></td></tr>\n",
       "<tr><td>14</td><td>Operation</td><td>operator:&nbsp;21<br>operands:&nbsp;20<br></td><td><a class=\"ProveItLink\" href=\"../07c3df0fbf95aed0c8a1ca7b2622e72e45c7034f0/expr.ipynb\"><img src=\"../07c3df0fbf95aed0c8a1ca7b2622e72e45c7034f0/expr.png\" style=\"display:inline;vertical-align:middle;\" /></a></td></tr>\n",
       "<tr><td>15</td><td>Operation</td><td>operator:&nbsp;21<br>operands:&nbsp;22<br></td><td><a class=\"ProveItLink\" href=\"../18e4b38f30e2f30d1199d0ee2e59c5725ab9c35e0/expr.ipynb\"><img src=\"../18e4b38f30e2f30d1199d0ee2e59c5725ab9c35e0/expr.png\" style=\"display:inline;vertical-align:middle;\" /></a></td></tr>\n",
       "<tr><td>16</td><td>ExprRange</td><td>lambda_map:&nbsp;23<br>start_index:&nbsp;50<br>end_index:&nbsp;48<br></td><td><a class=\"ProveItLink\" href=\"../../../../__pv_it/common/dd03b52b7b3be2483eb03113135b55bf45652af00/expr.ipynb\"><img src=\"../../../../__pv_it/common/dd03b52b7b3be2483eb03113135b55bf45652af00/expr.png\" style=\"display:inline;vertical-align:middle;\" /></a></td></tr>\n",
       "<tr><td>17</td><td>ExprRange</td><td>lambda_map:&nbsp;24<br>start_index:&nbsp;27<br>end_index:&nbsp;29<br></td><td><a class=\"ProveItLink\" href=\"../../common/4fd121f85be837f228175c14fe62116b2a81f57e0/expr.ipynb\"><img src=\"../../common/4fd121f85be837f228175c14fe62116b2a81f57e0/expr.png\" style=\"display:inline;vertical-align:middle;\" /></a></td></tr>\n",
       "<tr><td>18</td><td>Literal</td><td></td><td><a class=\"ProveItLink\" href=\"../../../../../logic/sets/membership/__pv_it/common/7171deca84f71f47a6ec7696972d1632274a12880/expr.ipynb\"><img src=\"../../../../../logic/sets/membership/__pv_it/common/7171deca84f71f47a6ec7696972d1632274a12880/expr.png\" style=\"display:inline;vertical-align:middle;\" /></a></td></tr>\n",
       "<tr><td>19</td><td>ExprTuple</td><td>25, 26</td><td><a class=\"ProveItLink\" href=\"../b523098d2c6e89ed286877943b6ee3d867ba78480/expr.ipynb\"><img src=\"../b523098d2c6e89ed286877943b6ee3d867ba78480/expr.png\" style=\"display:inline;vertical-align:middle;\" /></a></td></tr>\n",
       "<tr><td>20</td><td>ExprTuple</td><td>27, 28</td><td><a class=\"ProveItLink\" href=\"../87d7295f8107b875fef826ff5700be1166cb9dfb0/expr.ipynb\"><img src=\"../87d7295f8107b875fef826ff5700be1166cb9dfb0/expr.png\" style=\"display:inline;vertical-align:middle;\" /></a></td></tr>\n",
       "<tr><td>21</td><td>Literal</td><td></td><td><a class=\"ProveItLink\" href=\"../../../../../logic/equality/__pv_it/common/731dd3955b346c1320ed5c0ba7a618bcda61457d0/expr.ipynb\"><img src=\"../../../../../logic/equality/__pv_it/common/731dd3955b346c1320ed5c0ba7a618bcda61457d0/expr.png\" style=\"display:inline;vertical-align:middle;\" /></a></td></tr>\n",
       "<tr><td>22</td><td>ExprTuple</td><td>29, 30</td><td><a class=\"ProveItLink\" href=\"../6e64010f42668730dc2029fe584f1bfd3b5f03280/expr.ipynb\"><img src=\"../6e64010f42668730dc2029fe584f1bfd3b5f03280/expr.png\" style=\"display:inline;vertical-align:middle;\" /></a></td></tr>\n",
       "<tr><td>23</td><td>Lambda</td><td>parameter:&nbsp;51<br>body:&nbsp;31<br></td><td><a class=\"ProveItLink\" href=\"../../../../__pv_it/common/09ed8cba4cb6053ff71bcbe5926287f2a89ca1850/expr.ipynb\"><img src=\"../../../../__pv_it/common/09ed8cba4cb6053ff71bcbe5926287f2a89ca1850/expr.png\" style=\"display:inline;vertical-align:middle;\" /></a></td></tr>\n",
       "<tr><td>24</td><td>Lambda</td><td>parameter:&nbsp;50<br>body:&nbsp;32<br></td><td><a class=\"ProveItLink\" href=\"../../common/1f57aef13c642795f1326e57b9004e9ca04f55f20/expr.ipynb\"><img src=\"../../common/1f57aef13c642795f1326e57b9004e9ca04f55f20/expr.png\" style=\"display:inline;vertical-align:middle;\" /></a></td></tr>\n",
       "<tr><td>25</td><td>Operation</td><td>operator:&nbsp;46<br>operands:&nbsp;33<br></td><td><a class=\"ProveItLink\" href=\"../5047519f9a01f22be4508484945fa48969d5daf90/expr.ipynb\"><img src=\"../5047519f9a01f22be4508484945fa48969d5daf90/expr.png\" style=\"display:inline;vertical-align:middle;\" /></a></td></tr>\n",
       "<tr><td>26</td><td>Literal</td><td></td><td><a class=\"ProveItLink\" href=\"../../../../../numbers/number_sets/natural_numbers/__pv_it/common/85c8b43c90a7392ebb5459360d343dfa7c7408b50/expr.ipynb\"><img src=\"../../../../../numbers/number_sets/natural_numbers/__pv_it/common/85c8b43c90a7392ebb5459360d343dfa7c7408b50/expr.png\" style=\"display:inline;vertical-align:middle;\" /></a></td></tr>\n",
       "<tr><td>27</td><td>Variable</td><td></td><td><a class=\"ProveItLink\" href=\"../../../../../__pv_it/common/b9fd37fc619babc74a6203459f110251586df6970/expr.ipynb\"><img src=\"../../../../../__pv_it/common/b9fd37fc619babc74a6203459f110251586df6970/expr.png\" style=\"display:inline;vertical-align:middle;\" /></a></td></tr>\n",
       "<tr><td>28</td><td>Operation</td><td>operator:&nbsp;46<br>operands:&nbsp;34<br></td><td><a class=\"ProveItLink\" href=\"../46a8494701a3e59d8383e732deb61151cb5794150/expr.ipynb\"><img src=\"../46a8494701a3e59d8383e732deb61151cb5794150/expr.png\" style=\"display:inline;vertical-align:middle;\" /></a></td></tr>\n",
       "<tr><td>29</td><td>Variable</td><td></td><td><a class=\"ProveItLink\" href=\"../../../../../__pv_it/common/5f60d32873626c7ce57e35d1d9e427fb112cfe7a0/expr.ipynb\"><img src=\"../../../../../__pv_it/common/5f60d32873626c7ce57e35d1d9e427fb112cfe7a0/expr.png\" style=\"display:inline;vertical-align:middle;\" /></a></td></tr>\n",
       "<tr><td>30</td><td>Operation</td><td>operator:&nbsp;46<br>operands:&nbsp;35<br></td><td><a class=\"ProveItLink\" href=\"../b2fbc33121dbeda19052c878680b139cfe618b490/expr.ipynb\"><img src=\"../b2fbc33121dbeda19052c878680b139cfe618b490/expr.png\" style=\"display:inline;vertical-align:middle;\" /></a></td></tr>\n",
       "<tr><td>31</td><td>Operation</td><td>operator:&nbsp;36<br>operand:&nbsp;51<br></td><td><a class=\"ProveItLink\" href=\"../../../../../__pv_it/common/9ac5f21595b2ed44b42a15e8a4723b3ae344c0140/expr.ipynb\"><img src=\"../../../../../__pv_it/common/9ac5f21595b2ed44b42a15e8a4723b3ae344c0140/expr.png\" style=\"display:inline;vertical-align:middle;\" /></a></td></tr>\n",
       "<tr><td>32</td><td>Operation</td><td>operator:&nbsp;36<br>operand:&nbsp;41<br></td><td><a class=\"ProveItLink\" href=\"../../common/ac6c0c42130f585d2a7aa6ac1a4c83941d33836b0/expr.ipynb\"><img src=\"../../common/ac6c0c42130f585d2a7aa6ac1a4c83941d33836b0/expr.png\" style=\"display:inline;vertical-align:middle;\" /></a></td></tr>\n",
       "<tr><td>33</td><td>ExprTuple</td><td>38, 39</td><td><a class=\"ProveItLink\" href=\"../0f500c5dd29b773646e451df78a0a5f2c292abad0/expr.ipynb\"><img src=\"../0f500c5dd29b773646e451df78a0a5f2c292abad0/expr.png\" style=\"display:inline;vertical-align:middle;\" /></a></td></tr>\n",
       "<tr><td>34</td><td>ExprTuple</td><td>50, 40</td><td><a class=\"ProveItLink\" href=\"../e9f922bab8c31bc41cc846ba7fd1f71b338d90f10/expr.ipynb\"><img src=\"../e9f922bab8c31bc41cc846ba7fd1f71b338d90f10/expr.png\" style=\"display:inline;vertical-align:middle;\" /></a></td></tr>\n",
       "<tr><td>35</td><td>ExprTuple</td><td>48, 40</td><td><a class=\"ProveItLink\" href=\"../16a3b47eda20a03a03f3cbfb5617e1a1f2c937360/expr.ipynb\"><img src=\"../16a3b47eda20a03a03f3cbfb5617e1a1f2c937360/expr.png\" style=\"display:inline;vertical-align:middle;\" /></a></td></tr>\n",
       "<tr><td>36</td><td>Variable</td><td></td><td><a class=\"ProveItLink\" href=\"../../../../../__pv_it/common/c03f8781a34c741744d7dee8670bbb5419fe0ac50/expr.ipynb\"><img src=\"../../../../../__pv_it/common/c03f8781a34c741744d7dee8670bbb5419fe0ac50/expr.png\" style=\"display:inline;vertical-align:middle;\" /></a></td></tr>\n",
       "<tr><td>37</td><td>ExprTuple</td><td>41</td><td><a class=\"ProveItLink\" href=\"../../common/e9bfff23938926a2af1a0613b8825981f047112e0/expr.ipynb\"><img src=\"../../common/e9bfff23938926a2af1a0613b8825981f047112e0/expr.png\" style=\"display:inline;vertical-align:middle;\" /></a></td></tr>\n",
       "<tr><td>38</td><td>Operation</td><td>operator:&nbsp;46<br>operands:&nbsp;42<br></td><td><a class=\"ProveItLink\" href=\"../../../../__pv_it/common/4814704443f7a3da916367bb0f04502e29962d0a0/expr.ipynb\"><img src=\"../../../../__pv_it/common/4814704443f7a3da916367bb0f04502e29962d0a0/expr.png\" style=\"display:inline;vertical-align:middle;\" /></a></td></tr>\n",
       "<tr><td>39</td><td>Operation</td><td>operator:&nbsp;44<br>operand:&nbsp;50<br></td><td><a class=\"ProveItLink\" href=\"../../../../__pv_it/common/309cf9a0d8815deace91b753264f18a87f6a59340/expr.ipynb\"><img src=\"../../../../__pv_it/common/309cf9a0d8815deace91b753264f18a87f6a59340/expr.png\" style=\"display:inline;vertical-align:middle;\" /></a></td></tr>\n",
       "<tr><td>40</td><td>Operation</td><td>operator:&nbsp;44<br>operand:&nbsp;51<br></td><td><a class=\"ProveItLink\" href=\"../1f9e00f7b1c5474732939f8232451b18bdeb10290/expr.ipynb\"><img src=\"../1f9e00f7b1c5474732939f8232451b18bdeb10290/expr.png\" style=\"display:inline;vertical-align:middle;\" /></a></td></tr>\n",
       "<tr><td>41</td><td>Operation</td><td>operator:&nbsp;46<br>operands:&nbsp;47<br></td><td><a class=\"ProveItLink\" href=\"../../common/4c5d73de7cf846b772f0f7ea1ffb6d59f2d42c910/expr.ipynb\"><img src=\"../../common/4c5d73de7cf846b772f0f7ea1ffb6d59f2d42c910/expr.png\" style=\"display:inline;vertical-align:middle;\" /></a></td></tr>\n",
       "<tr><td>42</td><td>ExprTuple</td><td>48, 49</td><td><a class=\"ProveItLink\" href=\"../../../../__pv_it/common/79583c14cfeaf0a2d44e0878c8ca4854e36f2ddd0/expr.ipynb\"><img src=\"../../../../__pv_it/common/79583c14cfeaf0a2d44e0878c8ca4854e36f2ddd0/expr.png\" style=\"display:inline;vertical-align:middle;\" /></a></td></tr>\n",
       "<tr><td>43</td><td>ExprTuple</td><td>50</td><td><a class=\"ProveItLink\" href=\"../../../../__pv_it/common/6420c4d2520c27c1137ad22005291620057456040/expr.ipynb\"><img src=\"../../../../__pv_it/common/6420c4d2520c27c1137ad22005291620057456040/expr.png\" style=\"display:inline;vertical-align:middle;\" /></a></td></tr>\n",
       "<tr><td>44</td><td>Literal</td><td></td><td><a class=\"ProveItLink\" href=\"../../../../../numbers/negation/__pv_it/common/31a69a5c76809537045e3884859f178d8d9c845c0/expr.ipynb\"><img src=\"../../../../../numbers/negation/__pv_it/common/31a69a5c76809537045e3884859f178d8d9c845c0/expr.png\" style=\"display:inline;vertical-align:middle;\" /></a></td></tr>\n",
       "<tr><td>45</td><td>ExprTuple</td><td>51</td><td><a class=\"ProveItLink\" href=\"../../../../../__pv_it/common/aeccce8d95479ba619df8522b7bd661732f6c68f0/expr.ipynb\"><img src=\"../../../../../__pv_it/common/aeccce8d95479ba619df8522b7bd661732f6c68f0/expr.png\" style=\"display:inline;vertical-align:middle;\" /></a></td></tr>\n",
       "<tr><td>46</td><td>Literal</td><td></td><td><a class=\"ProveItLink\" href=\"../../../../../numbers/addition/__pv_it/common/1f38fe5cce441387feef296e2c0a2eac260bb4f30/expr.ipynb\"><img src=\"../../../../../numbers/addition/__pv_it/common/1f38fe5cce441387feef296e2c0a2eac260bb4f30/expr.png\" style=\"display:inline;vertical-align:middle;\" /></a></td></tr>\n",
       "<tr><td>47</td><td>ExprTuple</td><td>50, 51</td><td><a class=\"ProveItLink\" href=\"../../common/8c4a5b190222c17a313c9fecbb541f74b17675580/expr.ipynb\"><img src=\"../../common/8c4a5b190222c17a313c9fecbb541f74b17675580/expr.png\" style=\"display:inline;vertical-align:middle;\" /></a></td></tr>\n",
       "<tr><td>48</td><td>Variable</td><td></td><td><a class=\"ProveItLink\" href=\"../../../../../__pv_it/common/5514cc9a63b9c2ed9b63934dd5e088ab0d4f10080/expr.ipynb\"><img src=\"../../../../../__pv_it/common/5514cc9a63b9c2ed9b63934dd5e088ab0d4f10080/expr.png\" style=\"display:inline;vertical-align:middle;\" /></a></td></tr>\n",
       "<tr><td>49</td><td>Literal</td><td></td><td><a class=\"ProveItLink\" href=\"../../../../../numbers/numerals/__pv_it/common/d278e359da0695d9652dd541d45264f93703e2e40/expr.ipynb\"><img src=\"../../../../../numbers/numerals/__pv_it/common/d278e359da0695d9652dd541d45264f93703e2e40/expr.png\" style=\"display:inline;vertical-align:middle;\" /></a></td></tr>\n",
       "<tr><td>50</td><td>Variable</td><td></td><td><a class=\"ProveItLink\" href=\"../../../../../__pv_it/common/575a6156bb1c87c5beeaf38c302b5905ad57f5780/expr.ipynb\"><img src=\"../../../../../__pv_it/common/575a6156bb1c87c5beeaf38c302b5905ad57f5780/expr.png\" style=\"display:inline;vertical-align:middle;\" /></a></td></tr>\n",
       "<tr><td>51</td><td>Variable</td><td></td><td><a class=\"ProveItLink\" href=\"../../../../../__pv_it/common/66c90e66682f107a881f2d666959f64e2e72ad750/expr.ipynb\"><img src=\"../../../../../__pv_it/common/66c90e66682f107a881f2d666959f64e2e72ad750/expr.png\" style=\"display:inline;vertical-align:middle;\" /></a></td></tr>\n",
       "</table>\n"
      ],
      "text/plain": [
       "0. forall_{i, j, k, l | ((j + 1) - i) in Natural, k = (i - a), l = (j - a)} ((f(i), ..f(a).., f(j)) = (f(k + a), ..f(i + a).., f(l + a)))\n",
       "   core type: Operation\n",
       "   operator: 1\n",
       "   operand: 3\n",
       "1. forall\n",
       "   core type: Literal\n",
       "   sub-expressions: \n",
       "2. ((i, j, k, l) -> {(f(i), ..f(a).., f(j)) = (f(k + a), ..f(i + a).., f(l + a)) if ((j + 1) - i) in Natural ,  k = (i - a) ,  l = (j - a).)\n",
       "   core type: ExprTuple\n",
       "   sub-expressions: 3\n",
       "3. (i, j, k, l) -> {(f(i), ..f(a).., f(j)) = (f(k + a), ..f(i + a).., f(l + a)) if ((j + 1) - i) in Natural ,  k = (i - a) ,  l = (j - a).\n",
       "   core type: Lambda\n",
       "   parameters: 4\\n   body: 5\n",
       "4. (i, j, k, l)\n",
       "   core type: ExprTuple\n",
       "   sub-expressions: 50, 48, 27, 29\n",
       "5. {(f(i), ..f(a).., f(j)) = (f(k + a), ..f(i + a).., f(l + a)) if ((j + 1) - i) in Natural ,  k = (i - a) ,  l = (j - a).\n",
       "   core type: Conditional\n",
       "   value: 6\n",
       "   condition: 7\n",
       "6. (f(i), ..f(a).., f(j)) = (f(k + a), ..f(i + a).., f(l + a))\n",
       "   core type: Operation\n",
       "   operator: 21\n",
       "   operands: 8\n",
       "7. (((j + 1) - i) in Natural) and (k = (i - a)) and (l = (j - a))\n",
       "   core type: Operation\n",
       "   operator: 9\n",
       "   operands: 10\n",
       "8. ((f(i), ..f(a).., f(j)), (f(k + a), ..f(i + a).., f(l + a)))\n",
       "   core type: ExprTuple\n",
       "   sub-expressions: 11, 12\n",
       "9. and\n",
       "   core type: Literal\n",
       "   sub-expressions: \n",
       "10. (((j + 1) - i) in Natural, k = (i - a), l = (j - a))\n",
       "    core type: ExprTuple\n",
       "    sub-expressions: 13, 14, 15\n",
       "11. (f(i), ..f(a).., f(j))\n",
       "    core type: ExprTuple\n",
       "    sub-expressions: 16\n",
       "12. (f(k + a), ..f(i + a).., f(l + a))\n",
       "    core type: ExprTuple\n",
       "    sub-expressions: 17\n",
       "13. ((j + 1) - i) in Natural\n",
       "    core type: Operation\n",
       "    operator: 18\n",
       "    operands: 19\n",
       "14. k = (i - a)\n",
       "    core type: Operation\n",
       "    operator: 21\n",
       "    operands: 20\n",
       "15. l = (j - a)\n",
       "    core type: Operation\n",
       "    operator: 21\n",
       "    operands: 22\n",
       "16. f(i), ..f(a).., f(j)\n",
       "    core type: ExprRange\n",
       "    lambda_map: 23\n",
       "    start_index: 50\n",
       "    end_index: 48\n",
       "17. f(k + a), ..f(i + a).., f(l + a)\n",
       "    core type: ExprRange\n",
       "    lambda_map: 24\n",
       "    start_index: 27\n",
       "    end_index: 29\n",
       "18. in\n",
       "    core type: Literal\n",
       "    sub-expressions: \n",
       "19. ((j + 1) - i, Natural)\n",
       "    core type: ExprTuple\n",
       "    sub-expressions: 25, 26\n",
       "20. (k, i - a)\n",
       "    core type: ExprTuple\n",
       "    sub-expressions: 27, 28\n",
       "21. =\n",
       "    core type: Literal\n",
       "    sub-expressions: \n",
       "22. (l, j - a)\n",
       "    core type: ExprTuple\n",
       "    sub-expressions: 29, 30\n",
       "23. a -> f(a)\n",
       "    core type: Lambda\n",
       "    parameter: 51\n",
       "    body: 31\n",
       "24. i -> f(i + a)\n",
       "    core type: Lambda\n",
       "    parameter: 50\n",
       "    body: 32\n",
       "25. (j + 1) - i\n",
       "    core type: Operation\n",
       "    operator: 46\n",
       "    operands: 33\n",
       "26. Natural\n",
       "    core type: Literal\n",
       "    sub-expressions: \n",
       "27. k\n",
       "    core type: Variable\n",
       "    sub-expressions: \n",
       "28. i - a\n",
       "    core type: Operation\n",
       "    operator: 46\n",
       "    operands: 34\n",
       "29. l\n",
       "    core type: Variable\n",
       "    sub-expressions: \n",
       "30. j - a\n",
       "    core type: Operation\n",
       "    operator: 46\n",
       "    operands: 35\n",
       "31. f(a)\n",
       "    core type: Operation\n",
       "    operator: 36\n",
       "    operand: 51\n",
       "32. f(i + a)\n",
       "    core type: Operation\n",
       "    operator: 36\n",
       "    operand: 41\n",
       "33. (j + 1, -i)\n",
       "    core type: ExprTuple\n",
       "    sub-expressions: 38, 39\n",
       "34. (i, -a)\n",
       "    core type: ExprTuple\n",
       "    sub-expressions: 50, 40\n",
       "35. (j, -a)\n",
       "    core type: ExprTuple\n",
       "    sub-expressions: 48, 40\n",
       "36. f\n",
       "    core type: Variable\n",
       "    sub-expressions: \n",
       "37. (i + a)\n",
       "    core type: ExprTuple\n",
       "    sub-expressions: 41\n",
       "38. j + 1\n",
       "    core type: Operation\n",
       "    operator: 46\n",
       "    operands: 42\n",
       "39. -i\n",
       "    core type: Operation\n",
       "    operator: 44\n",
       "    operand: 50\n",
       "40. -a\n",
       "    core type: Operation\n",
       "    operator: 44\n",
       "    operand: 51\n",
       "41. i + a\n",
       "    core type: Operation\n",
       "    operator: 46\n",
       "    operands: 47\n",
       "42. (j, 1)\n",
       "    core type: ExprTuple\n",
       "    sub-expressions: 48, 49\n",
       "43. (i)\n",
       "    core type: ExprTuple\n",
       "    sub-expressions: 50\n",
       "44. -\n",
       "    core type: Literal\n",
       "    sub-expressions: \n",
       "45. (a)\n",
       "    core type: ExprTuple\n",
       "    sub-expressions: 51\n",
       "46. +\n",
       "    core type: Literal\n",
       "    sub-expressions: \n",
       "47. (i, a)\n",
       "    core type: ExprTuple\n",
       "    sub-expressions: 50, 51\n",
       "48. j\n",
       "    core type: Variable\n",
       "    sub-expressions: \n",
       "49. 1\n",
       "    core type: Literal\n",
       "    sub-expressions: \n",
       "50. i\n",
       "    core type: Variable\n",
       "    sub-expressions: \n",
       "51. a\n",
       "    core type: Variable\n",
       "    sub-expressions: "
      ]
     },
     "execution_count": 6,
     "metadata": {},
     "output_type": "execute_result"
    }
   ],
   "source": [
    "# display the expression information\n",
    "expr.expr_info()"
   ]
  },
  {
   "cell_type": "code",
   "execution_count": null,
   "metadata": {},
   "outputs": [],
   "source": []
  }
 ],
 "metadata": {
  "kernelspec": {
   "display_name": "Python 3",
   "language": "python",
   "name": "python3"
  }
 },
 "nbformat": 4,
 "nbformat_minor": 0
}