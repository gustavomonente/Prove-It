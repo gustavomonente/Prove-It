{
 "cells": [
  {
   "cell_type": "markdown",
   "metadata": {},
   "source": [
    "Expression of type <a class=\"ProveItLink\" href=\"../../../../../../../doc/html/api/proveit.Conditional.html\">Conditional</a>\n",
    "=======================\n",
    "# from the theory of <a class=\"ProveItLink\" href=\"../../../_theory_nbs_/theory.ipynb\">proveit.core_expr_types.tuples</a>"
   ]
  },
  {
   "cell_type": "code",
   "execution_count": 1,
   "metadata": {},
   "outputs": [],
   "source": [
    "import proveit\n",
    "# Automation is not needed when building an expression:\n",
    "proveit.defaults.automation = False # This will speed things up.\n",
    "proveit.defaults.inline_pngs = False # Makes files smaller.\n",
    "%load_expr # Load the stored expression as 'stored_expr'\n",
    "# import Expression classes needed to build the expression\n",
    "from proveit import Conditional, ExprRange, IndexedVar, a, b, i, k\n",
    "from proveit.core_expr_types import a_1_to_i, b_1_to_i\n",
    "from proveit.logic import And, Equals\n",
    "from proveit.numbers import one"
   ]
  },
  {
   "cell_type": "code",
   "execution_count": 2,
   "metadata": {},
   "outputs": [
    {
     "data": {
      "text/html": [
       "<strong id=\"expr\">expr:</strong> <a class=\"ProveItLink\" href=\"expr.ipynb\"><img src=\"expr.png\" style=\"display:inline;vertical-align:middle;\" /></a><br>"
      ],
      "text/plain": [
       "expr: {(a_{1}, ..a_{_a}.., a_{i}) = (b_{1}, ..b_{_a}.., b_{i}) if (a_{1} = b_{1}) and ..(a_{k} = b_{k}).. and (a_{i} = b_{i})."
      ]
     },
     "execution_count": 2,
     "metadata": {},
     "output_type": "execute_result"
    }
   ],
   "source": [
    "# build up the expression from sub-expressions\n",
    "expr = Conditional(Equals([a_1_to_i], [b_1_to_i]), And(ExprRange(k, Equals(IndexedVar(a, k), IndexedVar(b, k)), one, i)))"
   ]
  },
  {
   "cell_type": "code",
   "execution_count": 3,
   "metadata": {},
   "outputs": [
    {
     "name": "stdout",
     "output_type": "stream",
     "text": [
      "Passed sanity check: expr matches stored_expr\n"
     ]
    }
   ],
   "source": [
    "# check that the built expression is the same as the stored expression\n",
    "assert expr == stored_expr\n",
    "assert expr._style_id == stored_expr._style_id\n",
    "print(\"Passed sanity check: expr matches stored_expr\")"
   ]
  },
  {
   "cell_type": "code",
   "execution_count": 4,
   "metadata": {},
   "outputs": [
    {
     "name": "stdout",
     "output_type": "stream",
     "text": [
      "\\left\\{\\left(a_{1}, \\ldots, a_{i}\\right) = \\left(b_{1}, \\ldots, b_{i}\\right) \\textrm{ if } \\left(a_{1} = b_{1}\\right) \\land \\ldots \\land \\left(a_{i} = b_{i}\\right)\\right..\n"
     ]
    }
   ],
   "source": [
    "# Show the LaTeX representation of the expression for convenience if you need it.\n",
    "print(expr.latex())"
   ]
  },
  {
   "cell_type": "code",
   "execution_count": 5,
   "metadata": {},
   "outputs": [
    {
     "data": {
      "text/html": [
       "<table><tr><th>&nbsp;</th><th>core type</th><th>sub-expressions</th><th>expression</th></tr>\n",
       "<tr><td>0</td><td>Conditional</td><td>value:&nbsp;1<br>condition:&nbsp;2<br></td><td><a class=\"ProveItLink\" href=\"expr.ipynb\"><img src=\"expr.png\" style=\"display:inline;vertical-align:middle;\" /></a></td></tr>\n",
       "<tr><td>1</td><td>Operation</td><td>operator:&nbsp;19<br>operands:&nbsp;3<br></td><td><a class=\"ProveItLink\" href=\"../89c9eccfb3511bd813e6d7a15ff3e70d630145550/expr.ipynb\"><img src=\"../89c9eccfb3511bd813e6d7a15ff3e70d630145550/expr.png\" style=\"display:inline;vertical-align:middle;\" /></a></td></tr>\n",
       "<tr><td>2</td><td>Operation</td><td>operator:&nbsp;4<br>operands:&nbsp;5<br></td><td><a class=\"ProveItLink\" href=\"../62a8f56f28f25bbac5553a85817078610f018ad40/expr.ipynb\"><img src=\"../62a8f56f28f25bbac5553a85817078610f018ad40/expr.png\" style=\"display:inline;vertical-align:middle;\" /></a></td></tr>\n",
       "<tr><td>3</td><td>ExprTuple</td><td>6, 7</td><td><a class=\"ProveItLink\" href=\"../a31618056cb01452c89fde3ec4f2a3b0ebe2ecd80/expr.ipynb\"><img src=\"../a31618056cb01452c89fde3ec4f2a3b0ebe2ecd80/expr.png\" style=\"display:inline;vertical-align:middle;\" /></a></td></tr>\n",
       "<tr><td>4</td><td>Literal</td><td></td><td><a class=\"ProveItLink\" href=\"../../../../../logic/booleans/conjunction/__pv_it/common/42118ff318bd65d98b1393f64ce7c2269feef76e0/expr.ipynb\"><img src=\"../../../../../logic/booleans/conjunction/__pv_it/common/42118ff318bd65d98b1393f64ce7c2269feef76e0/expr.png\" style=\"display:inline;vertical-align:middle;\" /></a></td></tr>\n",
       "<tr><td>5</td><td>ExprTuple</td><td>8</td><td><a class=\"ProveItLink\" href=\"../317891f4711c554566f7c238842c8887d3d471e50/expr.ipynb\"><img src=\"../317891f4711c554566f7c238842c8887d3d471e50/expr.png\" style=\"display:inline;vertical-align:middle;\" /></a></td></tr>\n",
       "<tr><td>6</td><td>ExprTuple</td><td>9</td><td><a class=\"ProveItLink\" href=\"../b4aeecdaeeb4be0b7dab0578a6f142feaf2c9eb90/expr.ipynb\"><img src=\"../b4aeecdaeeb4be0b7dab0578a6f142feaf2c9eb90/expr.png\" style=\"display:inline;vertical-align:middle;\" /></a></td></tr>\n",
       "<tr><td>7</td><td>ExprTuple</td><td>10</td><td><a class=\"ProveItLink\" href=\"../7e5ec7de0d72d2204695d9b2a61df310b4310f660/expr.ipynb\"><img src=\"../7e5ec7de0d72d2204695d9b2a61df310b4310f660/expr.png\" style=\"display:inline;vertical-align:middle;\" /></a></td></tr>\n",
       "<tr><td>8</td><td>ExprRange</td><td>lambda_map:&nbsp;11<br>start_index:&nbsp;14<br>end_index:&nbsp;15<br></td><td><a class=\"ProveItLink\" href=\"../ef433f19d9cf676d60819c10b90da8a44bb16bc20/expr.ipynb\"><img src=\"../ef433f19d9cf676d60819c10b90da8a44bb16bc20/expr.png\" style=\"display:inline;vertical-align:middle;\" /></a></td></tr>\n",
       "<tr><td>9</td><td>ExprRange</td><td>lambda_map:&nbsp;12<br>start_index:&nbsp;14<br>end_index:&nbsp;15<br></td><td><a class=\"ProveItLink\" href=\"../../../../__pv_it/common/3143372b81f4215c0f48ddd93ca9c77fdfbd3fc20/expr.ipynb\"><img src=\"../../../../__pv_it/common/3143372b81f4215c0f48ddd93ca9c77fdfbd3fc20/expr.png\" style=\"display:inline;vertical-align:middle;\" /></a></td></tr>\n",
       "<tr><td>10</td><td>ExprRange</td><td>lambda_map:&nbsp;13<br>start_index:&nbsp;14<br>end_index:&nbsp;15<br></td><td><a class=\"ProveItLink\" href=\"../../../../__pv_it/common/a6b36f310e1cf986ff833fe43f8f03603cba62b80/expr.ipynb\"><img src=\"../../../../__pv_it/common/a6b36f310e1cf986ff833fe43f8f03603cba62b80/expr.png\" style=\"display:inline;vertical-align:middle;\" /></a></td></tr>\n",
       "<tr><td>11</td><td>Lambda</td><td>parameter:&nbsp;26<br>body:&nbsp;16<br></td><td><a class=\"ProveItLink\" href=\"../6e89cae2affa2e24c4e843b5084d792f2e5e70a10/expr.ipynb\"><img src=\"../6e89cae2affa2e24c4e843b5084d792f2e5e70a10/expr.png\" style=\"display:inline;vertical-align:middle;\" /></a></td></tr>\n",
       "<tr><td>12</td><td>Lambda</td><td>parameter:&nbsp;21<br>body:&nbsp;17<br></td><td><a class=\"ProveItLink\" href=\"../../../../__pv_it/common/9f0c64ef8ae0c02b5dcba32e0fb15bd29f85872a0/expr.ipynb\"><img src=\"../../../../__pv_it/common/9f0c64ef8ae0c02b5dcba32e0fb15bd29f85872a0/expr.png\" style=\"display:inline;vertical-align:middle;\" /></a></td></tr>\n",
       "<tr><td>13</td><td>Lambda</td><td>parameter:&nbsp;21<br>body:&nbsp;18<br></td><td><a class=\"ProveItLink\" href=\"../../../../__pv_it/common/c2df84a66e11f720c679abb1b2e017879a8ed4350/expr.ipynb\"><img src=\"../../../../__pv_it/common/c2df84a66e11f720c679abb1b2e017879a8ed4350/expr.png\" style=\"display:inline;vertical-align:middle;\" /></a></td></tr>\n",
       "<tr><td>14</td><td>Literal</td><td></td><td><a class=\"ProveItLink\" href=\"../../../../../numbers/numerals/__pv_it/common/2778428c7f555b2bdc06aa0530bc142c6e6335100/expr.ipynb\"><img src=\"../../../../../numbers/numerals/__pv_it/common/2778428c7f555b2bdc06aa0530bc142c6e6335100/expr.png\" style=\"display:inline;vertical-align:middle;\" /></a></td></tr>\n",
       "<tr><td>15</td><td>Variable</td><td></td><td><a class=\"ProveItLink\" href=\"../../../../../__pv_it/common/ae955345c83abf786c3aff8681cd5465beae262d0/expr.ipynb\"><img src=\"../../../../../__pv_it/common/ae955345c83abf786c3aff8681cd5465beae262d0/expr.png\" style=\"display:inline;vertical-align:middle;\" /></a></td></tr>\n",
       "<tr><td>16</td><td>Operation</td><td>operator:&nbsp;19<br>operands:&nbsp;20<br></td><td><a class=\"ProveItLink\" href=\"../cd53dee383f1cb4c4de3b940c8d2982cc69a275e0/expr.ipynb\"><img src=\"../cd53dee383f1cb4c4de3b940c8d2982cc69a275e0/expr.png\" style=\"display:inline;vertical-align:middle;\" /></a></td></tr>\n",
       "<tr><td>17</td><td>IndexedVar</td><td>variable:&nbsp;24<br>index:&nbsp;21<br></td><td><a class=\"ProveItLink\" href=\"../../../../__pv_it/common/ea36c59b79decceeaf696ef762cc9648f9ddbf5c0/expr.ipynb\"><img src=\"../../../../__pv_it/common/ea36c59b79decceeaf696ef762cc9648f9ddbf5c0/expr.png\" style=\"display:inline;vertical-align:middle;\" /></a></td></tr>\n",
       "<tr><td>18</td><td>IndexedVar</td><td>variable:&nbsp;25<br>index:&nbsp;21<br></td><td><a class=\"ProveItLink\" href=\"../../../../__pv_it/common/be357322e6b23f6bdf544b2cf09607618adbd09b0/expr.ipynb\"><img src=\"../../../../__pv_it/common/be357322e6b23f6bdf544b2cf09607618adbd09b0/expr.png\" style=\"display:inline;vertical-align:middle;\" /></a></td></tr>\n",
       "<tr><td>19</td><td>Literal</td><td></td><td><a class=\"ProveItLink\" href=\"../../../../../logic/equality/__pv_it/common/fb96dc12b2aa8801dda64d0132b396c63d1502bb0/expr.ipynb\"><img src=\"../../../../../logic/equality/__pv_it/common/fb96dc12b2aa8801dda64d0132b396c63d1502bb0/expr.png\" style=\"display:inline;vertical-align:middle;\" /></a></td></tr>\n",
       "<tr><td>20</td><td>ExprTuple</td><td>22, 23</td><td><a class=\"ProveItLink\" href=\"../5f456b4bc51c829ae20a22f5e70c7e17f31bca830/expr.ipynb\"><img src=\"../5f456b4bc51c829ae20a22f5e70c7e17f31bca830/expr.png\" style=\"display:inline;vertical-align:middle;\" /></a></td></tr>\n",
       "<tr><td>21</td><td>Variable</td><td></td><td><a class=\"ProveItLink\" href=\"../../../../__pv_it/common/006c465e50948aa2b52285e2de47974f741255cc0/expr.ipynb\"><img src=\"../../../../__pv_it/common/006c465e50948aa2b52285e2de47974f741255cc0/expr.png\" style=\"display:inline;vertical-align:middle;\" /></a></td></tr>\n",
       "<tr><td>22</td><td>IndexedVar</td><td>variable:&nbsp;24<br>index:&nbsp;26<br></td><td><a class=\"ProveItLink\" href=\"../3d7141ed2fe50363421809925c1e7fc69188ccea0/expr.ipynb\"><img src=\"../3d7141ed2fe50363421809925c1e7fc69188ccea0/expr.png\" style=\"display:inline;vertical-align:middle;\" /></a></td></tr>\n",
       "<tr><td>23</td><td>IndexedVar</td><td>variable:&nbsp;25<br>index:&nbsp;26<br></td><td><a class=\"ProveItLink\" href=\"../64027b822c4b49d2d8fcf8b05437c4513f65adb90/expr.ipynb\"><img src=\"../64027b822c4b49d2d8fcf8b05437c4513f65adb90/expr.png\" style=\"display:inline;vertical-align:middle;\" /></a></td></tr>\n",
       "<tr><td>24</td><td>Variable</td><td></td><td><a class=\"ProveItLink\" href=\"../../../../../__pv_it/common/c06c606ec12678c58933ac85412ecadc2ae28be60/expr.ipynb\"><img src=\"../../../../../__pv_it/common/c06c606ec12678c58933ac85412ecadc2ae28be60/expr.png\" style=\"display:inline;vertical-align:middle;\" /></a></td></tr>\n",
       "<tr><td>25</td><td>Variable</td><td></td><td><a class=\"ProveItLink\" href=\"../../../../../__pv_it/common/195236b98c6c564a75b5dbada74b173bc52d5c3e0/expr.ipynb\"><img src=\"../../../../../__pv_it/common/195236b98c6c564a75b5dbada74b173bc52d5c3e0/expr.png\" style=\"display:inline;vertical-align:middle;\" /></a></td></tr>\n",
       "<tr><td>26</td><td>Variable</td><td></td><td><a class=\"ProveItLink\" href=\"../../../../../__pv_it/common/63b7c64bf9ec7a04ecc396c7a1670f3f12fb59490/expr.ipynb\"><img src=\"../../../../../__pv_it/common/63b7c64bf9ec7a04ecc396c7a1670f3f12fb59490/expr.png\" style=\"display:inline;vertical-align:middle;\" /></a></td></tr>\n",
       "</table>\n"
      ],
      "text/plain": [
       "0. {(a_{1}, ..a_{_a}.., a_{i}) = (b_{1}, ..b_{_a}.., b_{i}) if (a_{1} = b_{1}) and ..(a_{k} = b_{k}).. and (a_{i} = b_{i}).\n",
       "   core type: Conditional\n",
       "   value: 1\n",
       "   condition: 2\n",
       "1. (a_{1}, ..a_{_a}.., a_{i}) = (b_{1}, ..b_{_a}.., b_{i})\n",
       "   core type: Operation\n",
       "   operator: 19\n",
       "   operands: 3\n",
       "2. (a_{1} = b_{1}) and ..(a_{k} = b_{k}).. and (a_{i} = b_{i})\n",
       "   core type: Operation\n",
       "   operator: 4\n",
       "   operands: 5\n",
       "3. ((a_{1}, ..a_{_a}.., a_{i}), (b_{1}, ..b_{_a}.., b_{i}))\n",
       "   core type: ExprTuple\n",
       "   sub-expressions: 6, 7\n",
       "4. and\n",
       "   core type: Literal\n",
       "   sub-expressions: \n",
       "5. (a_{1} = b_{1}, ..a_{k} = b_{k}.., a_{i} = b_{i})\n",
       "   core type: ExprTuple\n",
       "   sub-expressions: 8\n",
       "6. (a_{1}, ..a_{_a}.., a_{i})\n",
       "   core type: ExprTuple\n",
       "   sub-expressions: 9\n",
       "7. (b_{1}, ..b_{_a}.., b_{i})\n",
       "   core type: ExprTuple\n",
       "   sub-expressions: 10\n",
       "8. (a_{1} = b_{1}), ..(a_{k} = b_{k}).., (a_{i} = b_{i})\n",
       "   core type: ExprRange\n",
       "   lambda_map: 11\n",
       "   start_index: 14\n",
       "   end_index: 15\n",
       "9. a_{1}, ..a_{_a}.., a_{i}\n",
       "   core type: ExprRange\n",
       "   lambda_map: 12\n",
       "   start_index: 14\n",
       "   end_index: 15\n",
       "10. b_{1}, ..b_{_a}.., b_{i}\n",
       "    core type: ExprRange\n",
       "    lambda_map: 13\n",
       "    start_index: 14\n",
       "    end_index: 15\n",
       "11. k -> (a_{k} = b_{k})\n",
       "    core type: Lambda\n",
       "    parameter: 26\n",
       "    body: 16\n",
       "12. _a -> a_{_a}\n",
       "    core type: Lambda\n",
       "    parameter: 21\n",
       "    body: 17\n",
       "13. _a -> b_{_a}\n",
       "    core type: Lambda\n",
       "    parameter: 21\n",
       "    body: 18\n",
       "14. 1\n",
       "    core type: Literal\n",
       "    sub-expressions: \n",
       "15. i\n",
       "    core type: Variable\n",
       "    sub-expressions: \n",
       "16. a_{k} = b_{k}\n",
       "    core type: Operation\n",
       "    operator: 19\n",
       "    operands: 20\n",
       "17. a_{_a}\n",
       "    core type: IndexedVar\n",
       "variable: 24\n",
       "index: 21\n",
       "18. b_{_a}\n",
       "    core type: IndexedVar\n",
       "variable: 25\n",
       "index: 21\n",
       "19. =\n",
       "    core type: Literal\n",
       "    sub-expressions: \n",
       "20. (a_{k}, b_{k})\n",
       "    core type: ExprTuple\n",
       "    sub-expressions: 22, 23\n",
       "21. _a\n",
       "    core type: Variable\n",
       "    sub-expressions: \n",
       "22. a_{k}\n",
       "    core type: IndexedVar\n",
       "variable: 24\n",
       "index: 26\n",
       "23. b_{k}\n",
       "    core type: IndexedVar\n",
       "variable: 25\n",
       "index: 26\n",
       "24. a\n",
       "    core type: Variable\n",
       "    sub-expressions: \n",
       "25. b\n",
       "    core type: Variable\n",
       "    sub-expressions: \n",
       "26. k\n",
       "    core type: Variable\n",
       "    sub-expressions: "
      ]
     },
     "execution_count": 5,
     "metadata": {},
     "output_type": "execute_result"
    }
   ],
   "source": [
    "# display the expression information\n",
    "expr.expr_info()"
   ]
  },
  {
   "cell_type": "code",
   "execution_count": null,
   "metadata": {},
   "outputs": [],
   "source": []
  }
 ],
 "metadata": {
  "kernelspec": {
   "display_name": "Python 3",
   "language": "python",
   "name": "python3"
  }
 },
 "nbformat": 4,
 "nbformat_minor": 0
}