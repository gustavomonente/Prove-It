{
 "cells": [
  {
   "cell_type": "markdown",
   "metadata": {},
   "source": [
    "Expression of type <a class=\"ProveItLink\" href=\"../../../../../../../doc/html/api/proveit.Lambda.html\">Lambda</a>\n",
    "=======================\n",
    "# from the theory of <a class=\"ProveItLink\" href=\"../../../_theory_nbs_/theory.ipynb\">proveit.core_expr_types.tuples</a>"
   ]
  },
  {
   "cell_type": "code",
   "execution_count": 1,
   "metadata": {},
   "outputs": [],
   "source": [
    "import proveit\n",
    "# Automation is not needed when building an expression:\n",
    "proveit.defaults.automation = False # This will speed things up.\n",
    "proveit.defaults.inline_pngs = False # Makes files smaller.\n",
    "%load_expr # Load the stored expression as 'stored_expr'\n",
    "# import Expression classes needed to build the expression\n",
    "from proveit import Conditional, ExprRange, IndexedVar, Lambda, a, b, i, k\n",
    "from proveit.core_expr_types import a_1_to_i, b_1_to_i\n",
    "from proveit.logic import And, Equals\n",
    "from proveit.numbers import one"
   ]
  },
  {
   "cell_type": "code",
   "execution_count": 2,
   "metadata": {},
   "outputs": [
    {
     "data": {
      "text/html": [
       "<strong id=\"expr\">expr:</strong> <a class=\"ProveItLink\" href=\"expr.ipynb\"><img src=\"expr.png\" style=\"display:inline;vertical-align:middle;\" /></a><br>"
      ],
      "text/plain": [
       "expr: (a_{1}, ..a_{_a}.., a_{i}, b_{1}, ..b_{_a}.., b_{i}) -> {(a_{1}, ..a_{_a}.., a_{i}) = (b_{1}, ..b_{_a}.., b_{i}) if (a_{1} = b_{1}) and ..(a_{k} = b_{k}).. and (a_{i} = b_{i})."
      ]
     },
     "execution_count": 2,
     "metadata": {},
     "output_type": "execute_result"
    }
   ],
   "source": [
    "# build up the expression from sub-expressions\n",
    "expr = Lambda([a_1_to_i, b_1_to_i], Conditional(Equals([a_1_to_i], [b_1_to_i]), And(ExprRange(k, Equals(IndexedVar(a, k), IndexedVar(b, k)), one, i))))"
   ]
  },
  {
   "cell_type": "code",
   "execution_count": 3,
   "metadata": {},
   "outputs": [
    {
     "name": "stdout",
     "output_type": "stream",
     "text": [
      "Passed sanity check: expr matches stored_expr\n"
     ]
    }
   ],
   "source": [
    "# check that the built expression is the same as the stored expression\n",
    "assert expr == stored_expr\n",
    "assert expr._style_id == stored_expr._style_id\n",
    "print(\"Passed sanity check: expr matches stored_expr\")"
   ]
  },
  {
   "cell_type": "code",
   "execution_count": 4,
   "metadata": {},
   "outputs": [
    {
     "name": "stdout",
     "output_type": "stream",
     "text": [
      "\\left(a_{1}, \\ldots, a_{i}, b_{1}, \\ldots, b_{i}\\right) \\mapsto \\left\\{\\left(a_{1}, \\ldots, a_{i}\\right) = \\left(b_{1}, \\ldots, b_{i}\\right) \\textrm{ if } \\left(a_{1} = b_{1}\\right) \\land \\ldots \\land \\left(a_{i} = b_{i}\\right)\\right..\n"
     ]
    }
   ],
   "source": [
    "# Show the LaTeX representation of the expression for convenience if you need it.\n",
    "print(expr.latex())"
   ]
  },
  {
   "cell_type": "code",
   "execution_count": 5,
   "metadata": {},
   "outputs": [
    {
     "data": {
      "text/html": [
       "no style options"
      ],
      "text/plain": [
       "no style options"
      ]
     },
     "execution_count": 5,
     "metadata": {},
     "output_type": "execute_result"
    }
   ],
   "source": [
    "expr.style_options()"
   ]
  },
  {
   "cell_type": "code",
   "execution_count": 6,
   "metadata": {},
   "outputs": [
    {
     "data": {
      "text/html": [
       "<table><tr><th>&nbsp;</th><th>core type</th><th>sub-expressions</th><th>expression</th></tr>\n",
       "<tr><td>0</td><td>Lambda</td><td>parameters:&nbsp;1<br>body:&nbsp;2<br></td><td><a class=\"ProveItLink\" href=\"expr.ipynb\"><img src=\"expr.png\" style=\"display:inline;vertical-align:middle;\" /></a></td></tr>\n",
       "<tr><td>1</td><td>ExprTuple</td><td>11, 12</td><td><a class=\"ProveItLink\" href=\"../590fc5b1703b482e7dad049082f382c20643b39d0/expr.ipynb\"><img src=\"../590fc5b1703b482e7dad049082f382c20643b39d0/expr.png\" style=\"display:inline;vertical-align:middle;\" /></a></td></tr>\n",
       "<tr><td>2</td><td>Conditional</td><td>value:&nbsp;3<br>condition:&nbsp;4<br></td><td><a class=\"ProveItLink\" href=\"../876a1f0fd078840180b7a10e2004124da4d3e5d50/expr.ipynb\"><img src=\"../876a1f0fd078840180b7a10e2004124da4d3e5d50/expr.png\" style=\"display:inline;vertical-align:middle;\" /></a></td></tr>\n",
       "<tr><td>3</td><td>Operation</td><td>operator:&nbsp;21<br>operands:&nbsp;5<br></td><td><a class=\"ProveItLink\" href=\"../68fb847691f3066f5c94ecee0c4bd9682228d54d0/expr.ipynb\"><img src=\"../68fb847691f3066f5c94ecee0c4bd9682228d54d0/expr.png\" style=\"display:inline;vertical-align:middle;\" /></a></td></tr>\n",
       "<tr><td>4</td><td>Operation</td><td>operator:&nbsp;6<br>operands:&nbsp;7<br></td><td><a class=\"ProveItLink\" href=\"../78668267e39a40f790210ad7a22e24384e5a27f60/expr.ipynb\"><img src=\"../78668267e39a40f790210ad7a22e24384e5a27f60/expr.png\" style=\"display:inline;vertical-align:middle;\" /></a></td></tr>\n",
       "<tr><td>5</td><td>ExprTuple</td><td>8, 9</td><td><a class=\"ProveItLink\" href=\"../ef5c3b8a0100bfae2ac01879f85953ff9771decc0/expr.ipynb\"><img src=\"../ef5c3b8a0100bfae2ac01879f85953ff9771decc0/expr.png\" style=\"display:inline;vertical-align:middle;\" /></a></td></tr>\n",
       "<tr><td>6</td><td>Literal</td><td></td><td><a class=\"ProveItLink\" href=\"../../../../../logic/booleans/conjunction/__pv_it/common/26b94b53e70b1d77b70f0d9d4236347db37731060/expr.ipynb\"><img src=\"../../../../../logic/booleans/conjunction/__pv_it/common/26b94b53e70b1d77b70f0d9d4236347db37731060/expr.png\" style=\"display:inline;vertical-align:middle;\" /></a></td></tr>\n",
       "<tr><td>7</td><td>ExprTuple</td><td>10</td><td><a class=\"ProveItLink\" href=\"../5d58c3412363eee9a1a4d9ae1f9410f2f4637e110/expr.ipynb\"><img src=\"../5d58c3412363eee9a1a4d9ae1f9410f2f4637e110/expr.png\" style=\"display:inline;vertical-align:middle;\" /></a></td></tr>\n",
       "<tr><td>8</td><td>ExprTuple</td><td>11</td><td><a class=\"ProveItLink\" href=\"../a3b302517b8fc1133cb007ad1965347bc1418e000/expr.ipynb\"><img src=\"../a3b302517b8fc1133cb007ad1965347bc1418e000/expr.png\" style=\"display:inline;vertical-align:middle;\" /></a></td></tr>\n",
       "<tr><td>9</td><td>ExprTuple</td><td>12</td><td><a class=\"ProveItLink\" href=\"../640898e2bec380fa38a817b88181d37b9826b2040/expr.ipynb\"><img src=\"../640898e2bec380fa38a817b88181d37b9826b2040/expr.png\" style=\"display:inline;vertical-align:middle;\" /></a></td></tr>\n",
       "<tr><td>10</td><td>ExprRange</td><td>lambda_map:&nbsp;13<br>start_index:&nbsp;16<br>end_index:&nbsp;17<br></td><td><a class=\"ProveItLink\" href=\"../907ce02237a22981b8a52d4c1e1d3d91ce23d9b60/expr.ipynb\"><img src=\"../907ce02237a22981b8a52d4c1e1d3d91ce23d9b60/expr.png\" style=\"display:inline;vertical-align:middle;\" /></a></td></tr>\n",
       "<tr><td>11</td><td>ExprRange</td><td>lambda_map:&nbsp;14<br>start_index:&nbsp;16<br>end_index:&nbsp;17<br></td><td><a class=\"ProveItLink\" href=\"../../../../__pv_it/common/a8faf3b27fe552f144fda91135c3a6148ee990d00/expr.ipynb\"><img src=\"../../../../__pv_it/common/a8faf3b27fe552f144fda91135c3a6148ee990d00/expr.png\" style=\"display:inline;vertical-align:middle;\" /></a></td></tr>\n",
       "<tr><td>12</td><td>ExprRange</td><td>lambda_map:&nbsp;15<br>start_index:&nbsp;16<br>end_index:&nbsp;17<br></td><td><a class=\"ProveItLink\" href=\"../../../../__pv_it/common/6c07be51382834e0d7493be863ccb1787b92d4b60/expr.ipynb\"><img src=\"../../../../__pv_it/common/6c07be51382834e0d7493be863ccb1787b92d4b60/expr.png\" style=\"display:inline;vertical-align:middle;\" /></a></td></tr>\n",
       "<tr><td>13</td><td>Lambda</td><td>parameter:&nbsp;30<br>body:&nbsp;18<br></td><td><a class=\"ProveItLink\" href=\"../b04e7ae0d584458df77a9670fcb97b08821dcd7e0/expr.ipynb\"><img src=\"../b04e7ae0d584458df77a9670fcb97b08821dcd7e0/expr.png\" style=\"display:inline;vertical-align:middle;\" /></a></td></tr>\n",
       "<tr><td>14</td><td>Lambda</td><td>parameter:&nbsp;26<br>body:&nbsp;19<br></td><td><a class=\"ProveItLink\" href=\"../../../../__pv_it/common/99ea59f1b92e70eddeee736182b1abeb9f49c91b0/expr.ipynb\"><img src=\"../../../../__pv_it/common/99ea59f1b92e70eddeee736182b1abeb9f49c91b0/expr.png\" style=\"display:inline;vertical-align:middle;\" /></a></td></tr>\n",
       "<tr><td>15</td><td>Lambda</td><td>parameter:&nbsp;26<br>body:&nbsp;20<br></td><td><a class=\"ProveItLink\" href=\"../../../../__pv_it/common/ba19487284205e8bd037599d68730451639874da0/expr.ipynb\"><img src=\"../../../../__pv_it/common/ba19487284205e8bd037599d68730451639874da0/expr.png\" style=\"display:inline;vertical-align:middle;\" /></a></td></tr>\n",
       "<tr><td>16</td><td>Literal</td><td></td><td><a class=\"ProveItLink\" href=\"../../../../../numbers/numerals/__pv_it/common/d278e359da0695d9652dd541d45264f93703e2e40/expr.ipynb\"><img src=\"../../../../../numbers/numerals/__pv_it/common/d278e359da0695d9652dd541d45264f93703e2e40/expr.png\" style=\"display:inline;vertical-align:middle;\" /></a></td></tr>\n",
       "<tr><td>17</td><td>Variable</td><td></td><td><a class=\"ProveItLink\" href=\"../../../../../__pv_it/common/575a6156bb1c87c5beeaf38c302b5905ad57f5780/expr.ipynb\"><img src=\"../../../../../__pv_it/common/575a6156bb1c87c5beeaf38c302b5905ad57f5780/expr.png\" style=\"display:inline;vertical-align:middle;\" /></a></td></tr>\n",
       "<tr><td>18</td><td>Operation</td><td>operator:&nbsp;21<br>operands:&nbsp;22<br></td><td><a class=\"ProveItLink\" href=\"../538e3f3073dc08355f808961ffcfcc264ef680870/expr.ipynb\"><img src=\"../538e3f3073dc08355f808961ffcfcc264ef680870/expr.png\" style=\"display:inline;vertical-align:middle;\" /></a></td></tr>\n",
       "<tr><td>19</td><td>IndexedVar</td><td>variable:&nbsp;27<br>index:&nbsp;26<br></td><td><a class=\"ProveItLink\" href=\"../../../../__pv_it/common/d8d3053e77ba1db68c0cd106952422881db586670/expr.ipynb\"><img src=\"../../../../__pv_it/common/d8d3053e77ba1db68c0cd106952422881db586670/expr.png\" style=\"display:inline;vertical-align:middle;\" /></a></td></tr>\n",
       "<tr><td>20</td><td>IndexedVar</td><td>variable:&nbsp;28<br>index:&nbsp;26<br></td><td><a class=\"ProveItLink\" href=\"../../../../__pv_it/common/d970eb18e3a42edf466b1db01e5cbdd3ba6971b60/expr.ipynb\"><img src=\"../../../../__pv_it/common/d970eb18e3a42edf466b1db01e5cbdd3ba6971b60/expr.png\" style=\"display:inline;vertical-align:middle;\" /></a></td></tr>\n",
       "<tr><td>21</td><td>Literal</td><td></td><td><a class=\"ProveItLink\" href=\"../../../../../logic/equality/__pv_it/common/731dd3955b346c1320ed5c0ba7a618bcda61457d0/expr.ipynb\"><img src=\"../../../../../logic/equality/__pv_it/common/731dd3955b346c1320ed5c0ba7a618bcda61457d0/expr.png\" style=\"display:inline;vertical-align:middle;\" /></a></td></tr>\n",
       "<tr><td>22</td><td>ExprTuple</td><td>24, 25</td><td><a class=\"ProveItLink\" href=\"../1bf610de2bf90455fd08382f5a92eb1a7717192a0/expr.ipynb\"><img src=\"../1bf610de2bf90455fd08382f5a92eb1a7717192a0/expr.png\" style=\"display:inline;vertical-align:middle;\" /></a></td></tr>\n",
       "<tr><td>23</td><td>ExprTuple</td><td>26</td><td><a class=\"ProveItLink\" href=\"../../../../__pv_it/common/ecf50ade416ab41c42c9f4e777b4c862cd9469670/expr.ipynb\"><img src=\"../../../../__pv_it/common/ecf50ade416ab41c42c9f4e777b4c862cd9469670/expr.png\" style=\"display:inline;vertical-align:middle;\" /></a></td></tr>\n",
       "<tr><td>24</td><td>IndexedVar</td><td>variable:&nbsp;27<br>index:&nbsp;30<br></td><td><a class=\"ProveItLink\" href=\"../910ff783c5bd10af92c87a24c4fec49ec6529c750/expr.ipynb\"><img src=\"../910ff783c5bd10af92c87a24c4fec49ec6529c750/expr.png\" style=\"display:inline;vertical-align:middle;\" /></a></td></tr>\n",
       "<tr><td>25</td><td>IndexedVar</td><td>variable:&nbsp;28<br>index:&nbsp;30<br></td><td><a class=\"ProveItLink\" href=\"../86fb57b637165fa2afe38a1b6ce0ed70d732e5e60/expr.ipynb\"><img src=\"../86fb57b637165fa2afe38a1b6ce0ed70d732e5e60/expr.png\" style=\"display:inline;vertical-align:middle;\" /></a></td></tr>\n",
       "<tr><td>26</td><td>Variable</td><td></td><td><a class=\"ProveItLink\" href=\"../../../../__pv_it/common/9e6d9d5d7eeb0342cf5bca68def0eb165a1a9bb10/expr.ipynb\"><img src=\"../../../../__pv_it/common/9e6d9d5d7eeb0342cf5bca68def0eb165a1a9bb10/expr.png\" style=\"display:inline;vertical-align:middle;\" /></a></td></tr>\n",
       "<tr><td>27</td><td>Variable</td><td></td><td><a class=\"ProveItLink\" href=\"../../../../../__pv_it/common/66c90e66682f107a881f2d666959f64e2e72ad750/expr.ipynb\"><img src=\"../../../../../__pv_it/common/66c90e66682f107a881f2d666959f64e2e72ad750/expr.png\" style=\"display:inline;vertical-align:middle;\" /></a></td></tr>\n",
       "<tr><td>28</td><td>Variable</td><td></td><td><a class=\"ProveItLink\" href=\"../../../../../__pv_it/common/4a5db8cc5c67969ec864bd3ea598be37cb6f5e550/expr.ipynb\"><img src=\"../../../../../__pv_it/common/4a5db8cc5c67969ec864bd3ea598be37cb6f5e550/expr.png\" style=\"display:inline;vertical-align:middle;\" /></a></td></tr>\n",
       "<tr><td>29</td><td>ExprTuple</td><td>30</td><td><a class=\"ProveItLink\" href=\"../../../../../__pv_it/common/797070a9ef2f9957a44157444d93fbe100e2d7430/expr.ipynb\"><img src=\"../../../../../__pv_it/common/797070a9ef2f9957a44157444d93fbe100e2d7430/expr.png\" style=\"display:inline;vertical-align:middle;\" /></a></td></tr>\n",
       "<tr><td>30</td><td>Variable</td><td></td><td><a class=\"ProveItLink\" href=\"../../../../../__pv_it/common/b9fd37fc619babc74a6203459f110251586df6970/expr.ipynb\"><img src=\"../../../../../__pv_it/common/b9fd37fc619babc74a6203459f110251586df6970/expr.png\" style=\"display:inline;vertical-align:middle;\" /></a></td></tr>\n",
       "</table>\n"
      ],
      "text/plain": [
       "0. (a_{1}, ..a_{_a}.., a_{i}, b_{1}, ..b_{_a}.., b_{i}) -> {(a_{1}, ..a_{_a}.., a_{i}) = (b_{1}, ..b_{_a}.., b_{i}) if (a_{1} = b_{1}) and ..(a_{k} = b_{k}).. and (a_{i} = b_{i}).\n",
       "   core type: Lambda\n",
       "   parameters: 1\\n   body: 2\n",
       "1. (a_{1}, ..a_{_a}.., a_{i}, b_{1}, ..b_{_a}.., b_{i})\n",
       "   core type: ExprTuple\n",
       "   sub-expressions: 11, 12\n",
       "2. {(a_{1}, ..a_{_a}.., a_{i}) = (b_{1}, ..b_{_a}.., b_{i}) if (a_{1} = b_{1}) and ..(a_{k} = b_{k}).. and (a_{i} = b_{i}).\n",
       "   core type: Conditional\n",
       "   value: 3\n",
       "   condition: 4\n",
       "3. (a_{1}, ..a_{_a}.., a_{i}) = (b_{1}, ..b_{_a}.., b_{i})\n",
       "   core type: Operation\n",
       "   operator: 21\n",
       "   operands: 5\n",
       "4. (a_{1} = b_{1}) and ..(a_{k} = b_{k}).. and (a_{i} = b_{i})\n",
       "   core type: Operation\n",
       "   operator: 6\n",
       "   operands: 7\n",
       "5. ((a_{1}, ..a_{_a}.., a_{i}), (b_{1}, ..b_{_a}.., b_{i}))\n",
       "   core type: ExprTuple\n",
       "   sub-expressions: 8, 9\n",
       "6. and\n",
       "   core type: Literal\n",
       "   sub-expressions: \n",
       "7. (a_{1} = b_{1}, ..a_{k} = b_{k}.., a_{i} = b_{i})\n",
       "   core type: ExprTuple\n",
       "   sub-expressions: 10\n",
       "8. (a_{1}, ..a_{_a}.., a_{i})\n",
       "   core type: ExprTuple\n",
       "   sub-expressions: 11\n",
       "9. (b_{1}, ..b_{_a}.., b_{i})\n",
       "   core type: ExprTuple\n",
       "   sub-expressions: 12\n",
       "10. (a_{1} = b_{1}), ..(a_{k} = b_{k}).., (a_{i} = b_{i})\n",
       "    core type: ExprRange\n",
       "    lambda_map: 13\n",
       "    start_index: 16\n",
       "    end_index: 17\n",
       "11. a_{1}, ..a_{_a}.., a_{i}\n",
       "    core type: ExprRange\n",
       "    lambda_map: 14\n",
       "    start_index: 16\n",
       "    end_index: 17\n",
       "12. b_{1}, ..b_{_a}.., b_{i}\n",
       "    core type: ExprRange\n",
       "    lambda_map: 15\n",
       "    start_index: 16\n",
       "    end_index: 17\n",
       "13. k -> (a_{k} = b_{k})\n",
       "    core type: Lambda\n",
       "    parameter: 30\n",
       "    body: 18\n",
       "14. _a -> a_{_a}\n",
       "    core type: Lambda\n",
       "    parameter: 26\n",
       "    body: 19\n",
       "15. _a -> b_{_a}\n",
       "    core type: Lambda\n",
       "    parameter: 26\n",
       "    body: 20\n",
       "16. 1\n",
       "    core type: Literal\n",
       "    sub-expressions: \n",
       "17. i\n",
       "    core type: Variable\n",
       "    sub-expressions: \n",
       "18. a_{k} = b_{k}\n",
       "    core type: Operation\n",
       "    operator: 21\n",
       "    operands: 22\n",
       "19. a_{_a}\n",
       "    core type: IndexedVar\n",
       "variable: 27\n",
       "index: 26\n",
       "20. b_{_a}\n",
       "    core type: IndexedVar\n",
       "variable: 28\n",
       "index: 26\n",
       "21. =\n",
       "    core type: Literal\n",
       "    sub-expressions: \n",
       "22. (a_{k}, b_{k})\n",
       "    core type: ExprTuple\n",
       "    sub-expressions: 24, 25\n",
       "23. (_a)\n",
       "    core type: ExprTuple\n",
       "    sub-expressions: 26\n",
       "24. a_{k}\n",
       "    core type: IndexedVar\n",
       "variable: 27\n",
       "index: 30\n",
       "25. b_{k}\n",
       "    core type: IndexedVar\n",
       "variable: 28\n",
       "index: 30\n",
       "26. _a\n",
       "    core type: Variable\n",
       "    sub-expressions: \n",
       "27. a\n",
       "    core type: Variable\n",
       "    sub-expressions: \n",
       "28. b\n",
       "    core type: Variable\n",
       "    sub-expressions: \n",
       "29. (k)\n",
       "    core type: ExprTuple\n",
       "    sub-expressions: 30\n",
       "30. k\n",
       "    core type: Variable\n",
       "    sub-expressions: "
      ]
     },
     "execution_count": 6,
     "metadata": {},
     "output_type": "execute_result"
    }
   ],
   "source": [
    "# display the expression information\n",
    "expr.expr_info()"
   ]
  },
  {
   "cell_type": "code",
   "execution_count": null,
   "metadata": {},
   "outputs": [],
   "source": []
  }
 ],
 "metadata": {
  "kernelspec": {
   "display_name": "Python 3",
   "language": "python",
   "name": "python3"
  }
 },
 "nbformat": 4,
 "nbformat_minor": 0
}