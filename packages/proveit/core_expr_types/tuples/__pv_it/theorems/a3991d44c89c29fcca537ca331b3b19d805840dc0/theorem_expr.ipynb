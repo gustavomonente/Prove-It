{
 "cells": [
  {
   "cell_type": "markdown",
   "metadata": {},
   "source": [
    "Theorem <a class=\"ProveItLink\" href=\"../../../_theorems_.ipynb#range_len_typical_eq\">range_len_typical_eq</a> of type <a class=\"ProveItLink\" href=\"../../../../../../../doc/html/api/proveit.logic.Forall.html\">Forall</a>\n",
    "=======================\n",
    "# from the theory of <a class=\"ProveItLink\" href=\"../../../_theory_nbs_/theory.ipynb\">proveit.core_expr_types.tuples</a>\n",
    "*** see <a class=\"ProveItLink\" href=\"dependencies.ipynb\">dependencies</a> ***"
   ]
  },
  {
   "cell_type": "code",
   "execution_count": 1,
   "metadata": {},
   "outputs": [],
   "source": [
    "import proveit\n",
    "# Automation is not needed when only building an expression:\n",
    "proveit.defaults.automation = False # This will speed things up.\n",
    "proveit.defaults.inline_pngs = False # Makes files smaller.\n",
    "%load_theorem_expr # Load the stored theorem expression as 'stored_expr'\n",
    "# import the special expression\n",
    "from proveit.core_expr_types.tuples import range_len_typical_eq"
   ]
  },
  {
   "cell_type": "code",
   "execution_count": 2,
   "metadata": {},
   "outputs": [
    {
     "name": "stdout",
     "output_type": "stream",
     "text": [
      "Passed sanity check: range_len_typical_eq matches stored_expr\n"
     ]
    }
   ],
   "source": [
    "# check that the built expression is the same as the stored expression\n",
    "assert range_len_typical_eq.expr == stored_expr\n",
    "assert range_len_typical_eq.expr._style_id == stored_expr._style_id\n",
    "print(\"Passed sanity check: range_len_typical_eq matches stored_expr\")"
   ]
  },
  {
   "cell_type": "code",
   "execution_count": 3,
   "metadata": {},
   "outputs": [
    {
     "name": "stdout",
     "output_type": "stream",
     "text": [
      "\\vdash \\forall_{f, i, j~|~\\left(j - i + 1\\right) \\in \\mathbb{N}}~\\left(|\\left(f(i), \\ldots, f(j)\\right)| = |\\left(i, \\ldots, j\\right)|\\right)\n"
     ]
    }
   ],
   "source": [
    "# Show the LaTeX representation of the expression for convenience if you need it.\n",
    "print(range_len_typical_eq.latex())"
   ]
  },
  {
   "cell_type": "code",
   "execution_count": 4,
   "metadata": {},
   "outputs": [
    {
     "data": {
      "text/html": [
       "<table>\n",
       "<tr><th>name</th><th>description</th><th>default</th><th>current value</th><th>related methods</th></tr><tr><td>with_wrapping</td><td>If 'True', wrap the Expression after the parameters</td><td>None</td><td>None/False</td><td>('with_wrapping',)</td></tr>\n",
       "<tr><td>wrap_params</td><td>If 'True', wraps every two parameters AND wraps the Expression after the parameters</td><td>None</td><td>None/False</td><td>('with_params',)</td></tr>\n",
       "<tr><td>justification</td><td>justify to the 'left', 'center', or 'right' in the array cells</td><td>center</td><td>center</td><td>('with_justification',)</td></tr>\n",
       "</table>\n"
      ],
      "text/plain": [
       "style name: with_wrapping\n",
       "description: If 'True', wrap the Expression after the parameters\n",
       "default: None\n",
       "current value: None/False\n",
       "related methods: ('with_wrapping',)\n",
       "style name: wrap_params\n",
       "description: If 'True', wraps every two parameters AND wraps the Expression after the parameters\n",
       "default: None\n",
       "current value: None/False\n",
       "related methods: ('with_params',)\n",
       "style name: justification\n",
       "description: justify to the 'left', 'center', or 'right' in the array cells\n",
       "default: center\n",
       "current value: center\n",
       "related methods: ('with_justification',)"
      ]
     },
     "execution_count": 4,
     "metadata": {},
     "output_type": "execute_result"
    }
   ],
   "source": [
    "range_len_typical_eq.style_options()"
   ]
  },
  {
   "cell_type": "code",
   "execution_count": 5,
   "metadata": {},
   "outputs": [
    {
     "data": {
      "text/html": [
       "<table><tr><th>&nbsp;</th><th>core type</th><th>sub-expressions</th><th>expression</th></tr>\n",
       "<tr><td>0</td><td>Operation</td><td>operator:&nbsp;1<br>operand:&nbsp;3<br></td><td><a class=\"ProveItLink\" href=\"../07ae94879b385fcea12727e6f0f68902f119d8870/expr.ipynb\"><img src=\"../07ae94879b385fcea12727e6f0f68902f119d8870/expr.png\" style=\"display:inline;vertical-align:middle;\" /></a></td></tr>\n",
       "<tr><td>1</td><td>Literal</td><td></td><td><a class=\"ProveItLink\" href=\"../../../../../logic/booleans/quantification/universality/__pv_it/common/684d35ba98fcbf8ca5011f865e530a51e77730630/expr.ipynb\"><img src=\"../../../../../logic/booleans/quantification/universality/__pv_it/common/684d35ba98fcbf8ca5011f865e530a51e77730630/expr.png\" style=\"display:inline;vertical-align:middle;\" /></a></td></tr>\n",
       "<tr><td>2</td><td>ExprTuple</td><td>3</td><td><a class=\"ProveItLink\" href=\"../ffe33e731fd2cd60027179e5f2177d384d5e30670/expr.ipynb\"><img src=\"../ffe33e731fd2cd60027179e5f2177d384d5e30670/expr.png\" style=\"display:inline;vertical-align:middle;\" /></a></td></tr>\n",
       "<tr><td>3</td><td>Lambda</td><td>parameters:&nbsp;4<br>body:&nbsp;5<br></td><td><a class=\"ProveItLink\" href=\"../737f0f0d51adabce2d14670331ffca63440b3db90/expr.ipynb\"><img src=\"../737f0f0d51adabce2d14670331ffca63440b3db90/expr.png\" style=\"display:inline;vertical-align:middle;\" /></a></td></tr>\n",
       "<tr><td>4</td><td>ExprTuple</td><td>35, 32, 31</td><td><a class=\"ProveItLink\" href=\"../10366286cf08458ce1300289af3c05e1809febad0/expr.ipynb\"><img src=\"../10366286cf08458ce1300289af3c05e1809febad0/expr.png\" style=\"display:inline;vertical-align:middle;\" /></a></td></tr>\n",
       "<tr><td>5</td><td>Conditional</td><td>value:&nbsp;6<br>condition:&nbsp;7<br></td><td><a class=\"ProveItLink\" href=\"../99e8abaf9ce3d761cb3c38b373baec7e7f39d59b0/expr.ipynb\"><img src=\"../99e8abaf9ce3d761cb3c38b373baec7e7f39d59b0/expr.png\" style=\"display:inline;vertical-align:middle;\" /></a></td></tr>\n",
       "<tr><td>6</td><td>Operation</td><td>operator:&nbsp;8<br>operands:&nbsp;9<br></td><td><a class=\"ProveItLink\" href=\"../8060a54e7414877f996f60b86ad1e94f6fdfbf230/expr.ipynb\"><img src=\"../8060a54e7414877f996f60b86ad1e94f6fdfbf230/expr.png\" style=\"display:inline;vertical-align:middle;\" /></a></td></tr>\n",
       "<tr><td>7</td><td>Operation</td><td>operator:&nbsp;10<br>operands:&nbsp;11<br></td><td><a class=\"ProveItLink\" href=\"../e0250fb22b7a368a9af3612349f50b55a93e230e0/expr.ipynb\"><img src=\"../e0250fb22b7a368a9af3612349f50b55a93e230e0/expr.png\" style=\"display:inline;vertical-align:middle;\" /></a></td></tr>\n",
       "<tr><td>8</td><td>Literal</td><td></td><td><a class=\"ProveItLink\" href=\"../../../../../logic/equality/__pv_it/common/731dd3955b346c1320ed5c0ba7a618bcda61457d0/expr.ipynb\"><img src=\"../../../../../logic/equality/__pv_it/common/731dd3955b346c1320ed5c0ba7a618bcda61457d0/expr.png\" style=\"display:inline;vertical-align:middle;\" /></a></td></tr>\n",
       "<tr><td>9</td><td>ExprTuple</td><td>12, 13</td><td><a class=\"ProveItLink\" href=\"../86eb356ddbf24baad13e19677ae0dad3fcd37fe60/expr.ipynb\"><img src=\"../86eb356ddbf24baad13e19677ae0dad3fcd37fe60/expr.png\" style=\"display:inline;vertical-align:middle;\" /></a></td></tr>\n",
       "<tr><td>10</td><td>Literal</td><td></td><td><a class=\"ProveItLink\" href=\"../../../../../logic/sets/membership/__pv_it/common/7171deca84f71f47a6ec7696972d1632274a12880/expr.ipynb\"><img src=\"../../../../../logic/sets/membership/__pv_it/common/7171deca84f71f47a6ec7696972d1632274a12880/expr.png\" style=\"display:inline;vertical-align:middle;\" /></a></td></tr>\n",
       "<tr><td>11</td><td>ExprTuple</td><td>14, 15</td><td><a class=\"ProveItLink\" href=\"../3d54c1c30a9cf9c37981bfea7142a9a8700ef6910/expr.ipynb\"><img src=\"../3d54c1c30a9cf9c37981bfea7142a9a8700ef6910/expr.png\" style=\"display:inline;vertical-align:middle;\" /></a></td></tr>\n",
       "<tr><td>12</td><td>Operation</td><td>operator:&nbsp;17<br>operand:&nbsp;21<br></td><td><a class=\"ProveItLink\" href=\"../30becc795c793460634d1e46ecccfac965fb531d0/expr.ipynb\"><img src=\"../30becc795c793460634d1e46ecccfac965fb531d0/expr.png\" style=\"display:inline;vertical-align:middle;\" /></a></td></tr>\n",
       "<tr><td>13</td><td>Operation</td><td>operator:&nbsp;17<br>operand:&nbsp;22<br></td><td><a class=\"ProveItLink\" href=\"../e97a5afcc088b8edeb131e97804f9b00146e36490/expr.ipynb\"><img src=\"../e97a5afcc088b8edeb131e97804f9b00146e36490/expr.png\" style=\"display:inline;vertical-align:middle;\" /></a></td></tr>\n",
       "<tr><td>14</td><td>Operation</td><td>operator:&nbsp;19<br>operands:&nbsp;20<br></td><td><a class=\"ProveItLink\" href=\"../../../../__pv_it/common/4b5a578b772064c63150ea13c0bba626a3d05eff0/expr.ipynb\"><img src=\"../../../../__pv_it/common/4b5a578b772064c63150ea13c0bba626a3d05eff0/expr.png\" style=\"display:inline;vertical-align:middle;\" /></a></td></tr>\n",
       "<tr><td>15</td><td>Literal</td><td></td><td><a class=\"ProveItLink\" href=\"../../../../../numbers/number_sets/natural_numbers/__pv_it/common/85c8b43c90a7392ebb5459360d343dfa7c7408b50/expr.ipynb\"><img src=\"../../../../../numbers/number_sets/natural_numbers/__pv_it/common/85c8b43c90a7392ebb5459360d343dfa7c7408b50/expr.png\" style=\"display:inline;vertical-align:middle;\" /></a></td></tr>\n",
       "<tr><td>16</td><td>ExprTuple</td><td>21</td><td><a class=\"ProveItLink\" href=\"../6d769c1ab50ac5039d6b92b2248e703817e7c8b60/expr.ipynb\"><img src=\"../6d769c1ab50ac5039d6b92b2248e703817e7c8b60/expr.png\" style=\"display:inline;vertical-align:middle;\" /></a></td></tr>\n",
       "<tr><td>17</td><td>Literal</td><td></td><td><a class=\"ProveItLink\" href=\"../../common/29138a46bfd9f58652485fe2e3b1ee46d90d773e0/expr.ipynb\"><img src=\"../../common/29138a46bfd9f58652485fe2e3b1ee46d90d773e0/expr.png\" style=\"display:inline;vertical-align:middle;\" /></a></td></tr>\n",
       "<tr><td>18</td><td>ExprTuple</td><td>22</td><td><a class=\"ProveItLink\" href=\"../4b6c47139bb5c9ce1074c4155c982e4a700414db0/expr.ipynb\"><img src=\"../4b6c47139bb5c9ce1074c4155c982e4a700414db0/expr.png\" style=\"display:inline;vertical-align:middle;\" /></a></td></tr>\n",
       "<tr><td>19</td><td>Literal</td><td></td><td><a class=\"ProveItLink\" href=\"../../../../../numbers/addition/__pv_it/common/1f38fe5cce441387feef296e2c0a2eac260bb4f30/expr.ipynb\"><img src=\"../../../../../numbers/addition/__pv_it/common/1f38fe5cce441387feef296e2c0a2eac260bb4f30/expr.png\" style=\"display:inline;vertical-align:middle;\" /></a></td></tr>\n",
       "<tr><td>20</td><td>ExprTuple</td><td>31, 23, 24</td><td><a class=\"ProveItLink\" href=\"../../../../__pv_it/common/efec7cc2873d78f5f8ead71c8b321ecd8ecfacb30/expr.ipynb\"><img src=\"../../../../__pv_it/common/efec7cc2873d78f5f8ead71c8b321ecd8ecfacb30/expr.png\" style=\"display:inline;vertical-align:middle;\" /></a></td></tr>\n",
       "<tr><td>21</td><td>ExprTuple</td><td>25</td><td><a class=\"ProveItLink\" href=\"../../../../__pv_it/common/d314b34e93a9dd019b37fafe2e64f2174ebf938c0/expr.ipynb\"><img src=\"../../../../__pv_it/common/d314b34e93a9dd019b37fafe2e64f2174ebf938c0/expr.png\" style=\"display:inline;vertical-align:middle;\" /></a></td></tr>\n",
       "<tr><td>22</td><td>ExprTuple</td><td>26</td><td><a class=\"ProveItLink\" href=\"../1ba837db40faa8e61c7ba7e99acaa7deba40568f0/expr.ipynb\"><img src=\"../1ba837db40faa8e61c7ba7e99acaa7deba40568f0/expr.png\" style=\"display:inline;vertical-align:middle;\" /></a></td></tr>\n",
       "<tr><td>23</td><td>Operation</td><td>operator:&nbsp;27<br>operand:&nbsp;32<br></td><td><a class=\"ProveItLink\" href=\"../../../../__pv_it/common/309cf9a0d8815deace91b753264f18a87f6a59340/expr.ipynb\"><img src=\"../../../../__pv_it/common/309cf9a0d8815deace91b753264f18a87f6a59340/expr.png\" style=\"display:inline;vertical-align:middle;\" /></a></td></tr>\n",
       "<tr><td>24</td><td>Literal</td><td></td><td><a class=\"ProveItLink\" href=\"../../../../../numbers/numerals/__pv_it/common/d278e359da0695d9652dd541d45264f93703e2e40/expr.ipynb\"><img src=\"../../../../../numbers/numerals/__pv_it/common/d278e359da0695d9652dd541d45264f93703e2e40/expr.png\" style=\"display:inline;vertical-align:middle;\" /></a></td></tr>\n",
       "<tr><td>25</td><td>ExprRange</td><td>lambda_map:&nbsp;29<br>start_index:&nbsp;32<br>end_index:&nbsp;31<br></td><td><a class=\"ProveItLink\" href=\"../../../../__pv_it/common/dd03b52b7b3be2483eb03113135b55bf45652af00/expr.ipynb\"><img src=\"../../../../__pv_it/common/dd03b52b7b3be2483eb03113135b55bf45652af00/expr.png\" style=\"display:inline;vertical-align:middle;\" /></a></td></tr>\n",
       "<tr><td>26</td><td>ExprRange</td><td>lambda_map:&nbsp;30<br>start_index:&nbsp;32<br>end_index:&nbsp;31<br></td><td><a class=\"ProveItLink\" href=\"../../../../__pv_it/common/3a2a3a3dd71d2a59b6184ce5403e7386b1de8d830/expr.ipynb\"><img src=\"../../../../__pv_it/common/3a2a3a3dd71d2a59b6184ce5403e7386b1de8d830/expr.png\" style=\"display:inline;vertical-align:middle;\" /></a></td></tr>\n",
       "<tr><td>27</td><td>Literal</td><td></td><td><a class=\"ProveItLink\" href=\"../../../../../numbers/negation/__pv_it/common/31a69a5c76809537045e3884859f178d8d9c845c0/expr.ipynb\"><img src=\"../../../../../numbers/negation/__pv_it/common/31a69a5c76809537045e3884859f178d8d9c845c0/expr.png\" style=\"display:inline;vertical-align:middle;\" /></a></td></tr>\n",
       "<tr><td>28</td><td>ExprTuple</td><td>32</td><td><a class=\"ProveItLink\" href=\"../../../../__pv_it/common/6420c4d2520c27c1137ad22005291620057456040/expr.ipynb\"><img src=\"../../../../__pv_it/common/6420c4d2520c27c1137ad22005291620057456040/expr.png\" style=\"display:inline;vertical-align:middle;\" /></a></td></tr>\n",
       "<tr><td>29</td><td>Lambda</td><td>parameter:&nbsp;37<br>body:&nbsp;33<br></td><td><a class=\"ProveItLink\" href=\"../../../../__pv_it/common/09ed8cba4cb6053ff71bcbe5926287f2a89ca1850/expr.ipynb\"><img src=\"../../../../__pv_it/common/09ed8cba4cb6053ff71bcbe5926287f2a89ca1850/expr.png\" style=\"display:inline;vertical-align:middle;\" /></a></td></tr>\n",
       "<tr><td>30</td><td>Lambda</td><td>parameter:&nbsp;34<br>body:&nbsp;34<br></td><td><a class=\"ProveItLink\" href=\"../../../../__pv_it/common/b1d642f7aaf9195ba4b1745a45dad8ff33c89e460/expr.ipynb\"><img src=\"../../../../__pv_it/common/b1d642f7aaf9195ba4b1745a45dad8ff33c89e460/expr.png\" style=\"display:inline;vertical-align:middle;\" /></a></td></tr>\n",
       "<tr><td>31</td><td>Variable</td><td></td><td><a class=\"ProveItLink\" href=\"../../../../../__pv_it/common/5514cc9a63b9c2ed9b63934dd5e088ab0d4f10080/expr.ipynb\"><img src=\"../../../../../__pv_it/common/5514cc9a63b9c2ed9b63934dd5e088ab0d4f10080/expr.png\" style=\"display:inline;vertical-align:middle;\" /></a></td></tr>\n",
       "<tr><td>32</td><td>Variable</td><td></td><td><a class=\"ProveItLink\" href=\"../../../../../__pv_it/common/575a6156bb1c87c5beeaf38c302b5905ad57f5780/expr.ipynb\"><img src=\"../../../../../__pv_it/common/575a6156bb1c87c5beeaf38c302b5905ad57f5780/expr.png\" style=\"display:inline;vertical-align:middle;\" /></a></td></tr>\n",
       "<tr><td>33</td><td>Operation</td><td>operator:&nbsp;35<br>operand:&nbsp;37<br></td><td><a class=\"ProveItLink\" href=\"../../../../../__pv_it/common/9ac5f21595b2ed44b42a15e8a4723b3ae344c0140/expr.ipynb\"><img src=\"../../../../../__pv_it/common/9ac5f21595b2ed44b42a15e8a4723b3ae344c0140/expr.png\" style=\"display:inline;vertical-align:middle;\" /></a></td></tr>\n",
       "<tr><td>34</td><td>Variable</td><td></td><td><a class=\"ProveItLink\" href=\"../../../../../__pv_it/common/b9fd37fc619babc74a6203459f110251586df6970/expr.ipynb\"><img src=\"../../../../../__pv_it/common/b9fd37fc619babc74a6203459f110251586df6970/expr.png\" style=\"display:inline;vertical-align:middle;\" /></a></td></tr>\n",
       "<tr><td>35</td><td>Variable</td><td></td><td><a class=\"ProveItLink\" href=\"../../../../../__pv_it/common/c03f8781a34c741744d7dee8670bbb5419fe0ac50/expr.ipynb\"><img src=\"../../../../../__pv_it/common/c03f8781a34c741744d7dee8670bbb5419fe0ac50/expr.png\" style=\"display:inline;vertical-align:middle;\" /></a></td></tr>\n",
       "<tr><td>36</td><td>ExprTuple</td><td>37</td><td><a class=\"ProveItLink\" href=\"../../../../../__pv_it/common/aeccce8d95479ba619df8522b7bd661732f6c68f0/expr.ipynb\"><img src=\"../../../../../__pv_it/common/aeccce8d95479ba619df8522b7bd661732f6c68f0/expr.png\" style=\"display:inline;vertical-align:middle;\" /></a></td></tr>\n",
       "<tr><td>37</td><td>Variable</td><td></td><td><a class=\"ProveItLink\" href=\"../../../../../__pv_it/common/66c90e66682f107a881f2d666959f64e2e72ad750/expr.ipynb\"><img src=\"../../../../../__pv_it/common/66c90e66682f107a881f2d666959f64e2e72ad750/expr.png\" style=\"display:inline;vertical-align:middle;\" /></a></td></tr>\n",
       "</table>\n"
      ],
      "text/plain": [
       "0. forall_{f, i, j | (j - i + 1) in Natural} (|(f(i), ..f(a).., f(j))| = |(i, ..k.., j)|)\n",
       "   core type: Operation\n",
       "   operator: 1\n",
       "   operand: 3\n",
       "1. forall\n",
       "   core type: Literal\n",
       "   sub-expressions: \n",
       "2. ((f, i, j) -> {|(f(i), ..f(a).., f(j))| = |(i, ..k.., j)| if (j - i + 1) in Natural.)\n",
       "   core type: ExprTuple\n",
       "   sub-expressions: 3\n",
       "3. (f, i, j) -> {|(f(i), ..f(a).., f(j))| = |(i, ..k.., j)| if (j - i + 1) in Natural.\n",
       "   core type: Lambda\n",
       "   parameters: 4\\n   body: 5\n",
       "4. (f, i, j)\n",
       "   core type: ExprTuple\n",
       "   sub-expressions: 35, 32, 31\n",
       "5. {|(f(i), ..f(a).., f(j))| = |(i, ..k.., j)| if (j - i + 1) in Natural.\n",
       "   core type: Conditional\n",
       "   value: 6\n",
       "   condition: 7\n",
       "6. |(f(i), ..f(a).., f(j))| = |(i, ..k.., j)|\n",
       "   core type: Operation\n",
       "   operator: 8\n",
       "   operands: 9\n",
       "7. (j - i + 1) in Natural\n",
       "   core type: Operation\n",
       "   operator: 10\n",
       "   operands: 11\n",
       "8. =\n",
       "   core type: Literal\n",
       "   sub-expressions: \n",
       "9. (|(f(i), ..f(a).., f(j))|, |(i, ..k.., j)|)\n",
       "   core type: ExprTuple\n",
       "   sub-expressions: 12, 13\n",
       "10. in\n",
       "    core type: Literal\n",
       "    sub-expressions: \n",
       "11. (j - i + 1, Natural)\n",
       "    core type: ExprTuple\n",
       "    sub-expressions: 14, 15\n",
       "12. |(f(i), ..f(a).., f(j))|\n",
       "    core type: Operation\n",
       "    operator: 17\n",
       "    operand: 21\n",
       "13. |(i, ..k.., j)|\n",
       "    core type: Operation\n",
       "    operator: 17\n",
       "    operand: 22\n",
       "14. j - i + 1\n",
       "    core type: Operation\n",
       "    operator: 19\n",
       "    operands: 20\n",
       "15. Natural\n",
       "    core type: Literal\n",
       "    sub-expressions: \n",
       "16. ((f(i), ..f(a).., f(j)))\n",
       "    core type: ExprTuple\n",
       "    sub-expressions: 21\n",
       "17. length\n",
       "    core type: Literal\n",
       "    sub-expressions: \n",
       "18. ((i, ..k.., j))\n",
       "    core type: ExprTuple\n",
       "    sub-expressions: 22\n",
       "19. +\n",
       "    core type: Literal\n",
       "    sub-expressions: \n",
       "20. (j, -i, 1)\n",
       "    core type: ExprTuple\n",
       "    sub-expressions: 31, 23, 24\n",
       "21. (f(i), ..f(a).., f(j))\n",
       "    core type: ExprTuple\n",
       "    sub-expressions: 25\n",
       "22. (i, ..k.., j)\n",
       "    core type: ExprTuple\n",
       "    sub-expressions: 26\n",
       "23. -i\n",
       "    core type: Operation\n",
       "    operator: 27\n",
       "    operand: 32\n",
       "24. 1\n",
       "    core type: Literal\n",
       "    sub-expressions: \n",
       "25. f(i), ..f(a).., f(j)\n",
       "    core type: ExprRange\n",
       "    lambda_map: 29\n",
       "    start_index: 32\n",
       "    end_index: 31\n",
       "26. i, ..k.., j\n",
       "    core type: ExprRange\n",
       "    lambda_map: 30\n",
       "    start_index: 32\n",
       "    end_index: 31\n",
       "27. -\n",
       "    core type: Literal\n",
       "    sub-expressions: \n",
       "28. (i)\n",
       "    core type: ExprTuple\n",
       "    sub-expressions: 32\n",
       "29. a -> f(a)\n",
       "    core type: Lambda\n",
       "    parameter: 37\n",
       "    body: 33\n",
       "30. k -> k\n",
       "    core type: Lambda\n",
       "    parameter: 34\n",
       "    body: 34\n",
       "31. j\n",
       "    core type: Variable\n",
       "    sub-expressions: \n",
       "32. i\n",
       "    core type: Variable\n",
       "    sub-expressions: \n",
       "33. f(a)\n",
       "    core type: Operation\n",
       "    operator: 35\n",
       "    operand: 37\n",
       "34. k\n",
       "    core type: Variable\n",
       "    sub-expressions: \n",
       "35. f\n",
       "    core type: Variable\n",
       "    sub-expressions: \n",
       "36. (a)\n",
       "    core type: ExprTuple\n",
       "    sub-expressions: 37\n",
       "37. a\n",
       "    core type: Variable\n",
       "    sub-expressions: "
      ]
     },
     "execution_count": 5,
     "metadata": {},
     "output_type": "execute_result"
    }
   ],
   "source": [
    "# display the expression information\n",
    "range_len_typical_eq.expr_info()"
   ]
  },
  {
   "cell_type": "code",
   "execution_count": null,
   "metadata": {},
   "outputs": [],
   "source": []
  }
 ],
 "metadata": {
  "kernelspec": {
   "display_name": "Python 3",
   "language": "python",
   "name": "python3"
  }
 },
 "nbformat": 4,
 "nbformat_minor": 0
}