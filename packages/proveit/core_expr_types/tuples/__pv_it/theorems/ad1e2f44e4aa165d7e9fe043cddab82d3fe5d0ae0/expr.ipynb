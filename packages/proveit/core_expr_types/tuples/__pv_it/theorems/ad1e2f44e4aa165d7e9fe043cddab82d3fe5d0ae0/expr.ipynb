{
 "cells": [
  {
   "cell_type": "markdown",
   "metadata": {},
   "source": [
    "Expression of type <a class=\"ProveItLink\" href=\"../../../../../../../doc/html/api/proveit.Lambda.html\">Lambda</a>\n",
    "=======================\n",
    "# from the theory of <a class=\"ProveItLink\" href=\"../../../_theory_nbs_/theory.ipynb\">proveit.core_expr_types.tuples</a>"
   ]
  },
  {
   "cell_type": "code",
   "execution_count": 1,
   "metadata": {},
   "outputs": [],
   "source": [
    "import proveit\n",
    "# Automation is not needed when building an expression:\n",
    "proveit.defaults.automation = False # This will speed things up.\n",
    "proveit.defaults.inline_pngs = False # Makes files smaller.\n",
    "%load_expr # Load the stored expression as 'stored_expr'\n",
    "# import Expression classes needed to build the expression\n",
    "from proveit import Conditional, Lambda, i, n\n",
    "from proveit.core_expr_types import Len, f_1_to_n\n",
    "from proveit.core_expr_types.tuples import f_1_to_i__1_to_n\n",
    "from proveit.logic import Equals, InSet\n",
    "from proveit.numbers import Mult, Natural"
   ]
  },
  {
   "cell_type": "code",
   "execution_count": 2,
   "metadata": {},
   "outputs": [
    {
     "data": {
      "text/html": [
       "<strong id=\"expr\">expr:</strong> <a class=\"ProveItLink\" href=\"expr.ipynb\"><img src=\"expr.png\" style=\"display:inline;vertical-align:middle;\" /></a><br>"
      ],
      "text/plain": [
       "expr: (f_{1}, ..f_{_a}.., f_{n}, i) -> {|(f_{1}(1), ..f_{1}(x).., f_{1}(i), ....f_{k}(1), ..f_{k}(x).., f_{k}(i)...., f_{n}(1), ..f_{n}(x).., f_{n}(i))| \\\\  = (n * i) if i in Natural."
      ]
     },
     "execution_count": 2,
     "metadata": {},
     "output_type": "execute_result"
    }
   ],
   "source": [
    "# build up the expression from sub-expressions\n",
    "expr = Lambda([f_1_to_n, i], Conditional(Equals(Len([f_1_to_i__1_to_n]), Mult(n, i)).with_wrapping_at(1), InSet(i, Natural)))"
   ]
  },
  {
   "cell_type": "code",
   "execution_count": 3,
   "metadata": {},
   "outputs": [
    {
     "name": "stdout",
     "output_type": "stream",
     "text": [
      "Passed sanity check: expr matches stored_expr\n"
     ]
    }
   ],
   "source": [
    "# check that the built expression is the same as the stored expression\n",
    "assert expr == stored_expr\n",
    "assert expr._style_id == stored_expr._style_id\n",
    "print(\"Passed sanity check: expr matches stored_expr\")"
   ]
  },
  {
   "cell_type": "code",
   "execution_count": 4,
   "metadata": {},
   "outputs": [
    {
     "name": "stdout",
     "output_type": "stream",
     "text": [
      "\\left(f_{1}, \\ldots, f_{n}, i\\right) \\mapsto \\left\\{\\begin{array}{c} |\\left(f_{1}(1), \\ldots, f_{1}(i), \\ldots\\ldots, f_{n}(1), \\ldots, f_{n}(i)\\right)| \\\\  = \\left(n \\cdot i\\right) \\end{array} \\textrm{ if } i \\in \\mathbb{N}\\right..\n"
     ]
    }
   ],
   "source": [
    "# Show the LaTeX representation of the expression for convenience if you need it.\n",
    "print(expr.latex())"
   ]
  },
  {
   "cell_type": "code",
   "execution_count": 5,
   "metadata": {},
   "outputs": [
    {
     "data": {
      "text/html": [
       "<table><tr><th>&nbsp;</th><th>core type</th><th>sub-expressions</th><th>expression</th></tr>\n",
       "<tr><td>0</td><td>Lambda</td><td>parameters:&nbsp;1<br>body:&nbsp;2<br></td><td><a class=\"ProveItLink\" href=\"expr.ipynb\"><img src=\"expr.png\" style=\"display:inline;vertical-align:middle;\" /></a></td></tr>\n",
       "<tr><td>1</td><td>ExprTuple</td><td>3, 27</td><td><a class=\"ProveItLink\" href=\"../53a267769bbcabf25d305adea35042101c185a530/expr.ipynb\"><img src=\"../53a267769bbcabf25d305adea35042101c185a530/expr.png\" style=\"display:inline;vertical-align:middle;\" /></a></td></tr>\n",
       "<tr><td>2</td><td>Conditional</td><td>value:&nbsp;4<br>condition:&nbsp;5<br></td><td><a class=\"ProveItLink\" href=\"../4c719e51f35b180e9b6c1c8c7643c00cea2c2db20/expr.ipynb\"><img src=\"../4c719e51f35b180e9b6c1c8c7643c00cea2c2db20/expr.png\" style=\"display:inline;vertical-align:middle;\" /></a></td></tr>\n",
       "<tr><td>3</td><td>ExprRange</td><td>lambda_map:&nbsp;6<br>start_index:&nbsp;26<br>end_index:&nbsp;23<br></td><td><a class=\"ProveItLink\" href=\"../../../../__pv_it/common/ca4a0f3bc23204a47af5cae884b574a8665458560/expr.ipynb\"><img src=\"../../../../__pv_it/common/ca4a0f3bc23204a47af5cae884b574a8665458560/expr.png\" style=\"display:inline;vertical-align:middle;\" /></a></td></tr>\n",
       "<tr><td>4</td><td>Operation</td><td>operator:&nbsp;7<br>operands:&nbsp;8<br></td><td><a class=\"ProveItLink\" href=\"../bd1a758e26d194bf2960ee91582a49470949868b0/expr.ipynb\"><img src=\"../bd1a758e26d194bf2960ee91582a49470949868b0/expr.png\" style=\"display:inline;vertical-align:middle;\" /></a></td></tr>\n",
       "<tr><td>5</td><td>Operation</td><td>operator:&nbsp;9<br>operands:&nbsp;10<br></td><td><a class=\"ProveItLink\" href=\"../77453244b9b142f8e48d56f8430a0ce1c1c2842e0/expr.ipynb\"><img src=\"../77453244b9b142f8e48d56f8430a0ce1c1c2842e0/expr.png\" style=\"display:inline;vertical-align:middle;\" /></a></td></tr>\n",
       "<tr><td>6</td><td>Lambda</td><td>parameter:&nbsp;15<br>body:&nbsp;11<br></td><td><a class=\"ProveItLink\" href=\"../../../../__pv_it/common/87cb04c49c796c6354caa294e6bfbc3195aede140/expr.ipynb\"><img src=\"../../../../__pv_it/common/87cb04c49c796c6354caa294e6bfbc3195aede140/expr.png\" style=\"display:inline;vertical-align:middle;\" /></a></td></tr>\n",
       "<tr><td>7</td><td>Literal</td><td></td><td><a class=\"ProveItLink\" href=\"../../../../../logic/equality/__pv_it/common/fb96dc12b2aa8801dda64d0132b396c63d1502bb0/expr.ipynb\"><img src=\"../../../../../logic/equality/__pv_it/common/fb96dc12b2aa8801dda64d0132b396c63d1502bb0/expr.png\" style=\"display:inline;vertical-align:middle;\" /></a></td></tr>\n",
       "<tr><td>8</td><td>ExprTuple</td><td>12, 13</td><td><a class=\"ProveItLink\" href=\"../d91f4225832e2b5f335120339a4644c56a2b87470/expr.ipynb\"><img src=\"../d91f4225832e2b5f335120339a4644c56a2b87470/expr.png\" style=\"display:inline;vertical-align:middle;\" /></a></td></tr>\n",
       "<tr><td>9</td><td>Literal</td><td></td><td><a class=\"ProveItLink\" href=\"../../../../../logic/sets/membership/__pv_it/common/477487d8796864d23d5810f83761435f25167f690/expr.ipynb\"><img src=\"../../../../../logic/sets/membership/__pv_it/common/477487d8796864d23d5810f83761435f25167f690/expr.png\" style=\"display:inline;vertical-align:middle;\" /></a></td></tr>\n",
       "<tr><td>10</td><td>ExprTuple</td><td>27, 14</td><td><a class=\"ProveItLink\" href=\"../da20b1ea4e358a467d39b599d0db223dcf1dcb930/expr.ipynb\"><img src=\"../da20b1ea4e358a467d39b599d0db223dcf1dcb930/expr.png\" style=\"display:inline;vertical-align:middle;\" /></a></td></tr>\n",
       "<tr><td>11</td><td>IndexedVar</td><td>variable:&nbsp;31<br>index:&nbsp;15<br></td><td><a class=\"ProveItLink\" href=\"../../../../__pv_it/common/978cfd13fb3a49d83ced92414299c3a01872bf240/expr.ipynb\"><img src=\"../../../../__pv_it/common/978cfd13fb3a49d83ced92414299c3a01872bf240/expr.png\" style=\"display:inline;vertical-align:middle;\" /></a></td></tr>\n",
       "<tr><td>12</td><td>Operation</td><td>operator:&nbsp;16<br>operand:&nbsp;20<br></td><td><a class=\"ProveItLink\" href=\"../db07dc32b685ed7e5c3e7a5f7bb8cd7c601577db0/expr.ipynb\"><img src=\"../db07dc32b685ed7e5c3e7a5f7bb8cd7c601577db0/expr.png\" style=\"display:inline;vertical-align:middle;\" /></a></td></tr>\n",
       "<tr><td>13</td><td>Operation</td><td>operator:&nbsp;18<br>operands:&nbsp;19<br></td><td><a class=\"ProveItLink\" href=\"../e812774fe60120b0dc9ab95fcd73a0dfcf300e0d0/expr.ipynb\"><img src=\"../e812774fe60120b0dc9ab95fcd73a0dfcf300e0d0/expr.png\" style=\"display:inline;vertical-align:middle;\" /></a></td></tr>\n",
       "<tr><td>14</td><td>Literal</td><td></td><td><a class=\"ProveItLink\" href=\"../../../../../numbers/number_sets/natural_numbers/__pv_it/common/8b7c321957f52ed3b05b36af612eeae4fa4783bc0/expr.ipynb\"><img src=\"../../../../../numbers/number_sets/natural_numbers/__pv_it/common/8b7c321957f52ed3b05b36af612eeae4fa4783bc0/expr.png\" style=\"display:inline;vertical-align:middle;\" /></a></td></tr>\n",
       "<tr><td>15</td><td>Variable</td><td></td><td><a class=\"ProveItLink\" href=\"../../../../__pv_it/common/006c465e50948aa2b52285e2de47974f741255cc0/expr.ipynb\"><img src=\"../../../../__pv_it/common/006c465e50948aa2b52285e2de47974f741255cc0/expr.png\" style=\"display:inline;vertical-align:middle;\" /></a></td></tr>\n",
       "<tr><td>16</td><td>Literal</td><td></td><td><a class=\"ProveItLink\" href=\"../../common/43df765abf1294d8f1fd177863f57f08bf5ad0080/expr.ipynb\"><img src=\"../../common/43df765abf1294d8f1fd177863f57f08bf5ad0080/expr.png\" style=\"display:inline;vertical-align:middle;\" /></a></td></tr>\n",
       "<tr><td>17</td><td>ExprTuple</td><td>20</td><td><a class=\"ProveItLink\" href=\"../fa80f97061fa64ea927104cb1e513aa0cf1e10020/expr.ipynb\"><img src=\"../fa80f97061fa64ea927104cb1e513aa0cf1e10020/expr.png\" style=\"display:inline;vertical-align:middle;\" /></a></td></tr>\n",
       "<tr><td>18</td><td>Literal</td><td></td><td><a class=\"ProveItLink\" href=\"../../../../../numbers/multiplication/__pv_it/common/ed719cef37831779c16481533a4d380a2f95ab270/expr.ipynb\"><img src=\"../../../../../numbers/multiplication/__pv_it/common/ed719cef37831779c16481533a4d380a2f95ab270/expr.png\" style=\"display:inline;vertical-align:middle;\" /></a></td></tr>\n",
       "<tr><td>19</td><td>ExprTuple</td><td>23, 27</td><td><a class=\"ProveItLink\" href=\"../df7ca7921b21e87835a0662dd26652d479e4acce0/expr.ipynb\"><img src=\"../df7ca7921b21e87835a0662dd26652d479e4acce0/expr.png\" style=\"display:inline;vertical-align:middle;\" /></a></td></tr>\n",
       "<tr><td>20</td><td>ExprTuple</td><td>21</td><td><a class=\"ProveItLink\" href=\"../0eae614679d119f46e3d4ddb6f124a1de7c243ce0/expr.ipynb\"><img src=\"../0eae614679d119f46e3d4ddb6f124a1de7c243ce0/expr.png\" style=\"display:inline;vertical-align:middle;\" /></a></td></tr>\n",
       "<tr><td>21</td><td>ExprRange</td><td>lambda_map:&nbsp;22<br>start_index:&nbsp;26<br>end_index:&nbsp;23<br></td><td><a class=\"ProveItLink\" href=\"../../common/b3d269cd8135ccedb57fdb58769bdc55927869980/expr.ipynb\"><img src=\"../../common/b3d269cd8135ccedb57fdb58769bdc55927869980/expr.png\" style=\"display:inline;vertical-align:middle;\" /></a></td></tr>\n",
       "<tr><td>22</td><td>Lambda</td><td>parameter:&nbsp;32<br>body:&nbsp;24<br></td><td><a class=\"ProveItLink\" href=\"../../common/ee5c5610e153e73c3ba5529e69b3e3d994c50d980/expr.ipynb\"><img src=\"../../common/ee5c5610e153e73c3ba5529e69b3e3d994c50d980/expr.png\" style=\"display:inline;vertical-align:middle;\" /></a></td></tr>\n",
       "<tr><td>23</td><td>Variable</td><td></td><td><a class=\"ProveItLink\" href=\"../../../../../__pv_it/common/8968bb04eb3f7dfa02353397ce929b025bbd79c20/expr.ipynb\"><img src=\"../../../../../__pv_it/common/8968bb04eb3f7dfa02353397ce929b025bbd79c20/expr.png\" style=\"display:inline;vertical-align:middle;\" /></a></td></tr>\n",
       "<tr><td>24</td><td>ExprRange</td><td>lambda_map:&nbsp;25<br>start_index:&nbsp;26<br>end_index:&nbsp;27<br></td><td><a class=\"ProveItLink\" href=\"../../common/008d8f1be5272fe9b3dd3a5d065743fa3fd024e00/expr.ipynb\"><img src=\"../../common/008d8f1be5272fe9b3dd3a5d065743fa3fd024e00/expr.png\" style=\"display:inline;vertical-align:middle;\" /></a></td></tr>\n",
       "<tr><td>25</td><td>Lambda</td><td>parameter:&nbsp;30<br>body:&nbsp;28<br></td><td><a class=\"ProveItLink\" href=\"../../common/17e9f7bf6953e6d4e8246dd325bfa03ebb28bee40/expr.ipynb\"><img src=\"../../common/17e9f7bf6953e6d4e8246dd325bfa03ebb28bee40/expr.png\" style=\"display:inline;vertical-align:middle;\" /></a></td></tr>\n",
       "<tr><td>26</td><td>Literal</td><td></td><td><a class=\"ProveItLink\" href=\"../../../../../numbers/numerals/__pv_it/common/2778428c7f555b2bdc06aa0530bc142c6e6335100/expr.ipynb\"><img src=\"../../../../../numbers/numerals/__pv_it/common/2778428c7f555b2bdc06aa0530bc142c6e6335100/expr.png\" style=\"display:inline;vertical-align:middle;\" /></a></td></tr>\n",
       "<tr><td>27</td><td>Variable</td><td></td><td><a class=\"ProveItLink\" href=\"../../../../../__pv_it/common/ae955345c83abf786c3aff8681cd5465beae262d0/expr.ipynb\"><img src=\"../../../../../__pv_it/common/ae955345c83abf786c3aff8681cd5465beae262d0/expr.png\" style=\"display:inline;vertical-align:middle;\" /></a></td></tr>\n",
       "<tr><td>28</td><td>Operation</td><td>operator:&nbsp;29<br>operand:&nbsp;30<br></td><td><a class=\"ProveItLink\" href=\"../../common/e2c78e71edcbe514291a76462282c0e1e27911160/expr.ipynb\"><img src=\"../../common/e2c78e71edcbe514291a76462282c0e1e27911160/expr.png\" style=\"display:inline;vertical-align:middle;\" /></a></td></tr>\n",
       "<tr><td>29</td><td>IndexedVar</td><td>variable:&nbsp;31<br>index:&nbsp;32<br></td><td><a class=\"ProveItLink\" href=\"../../../../__pv_it/common/fe274f3dc110b1f71dac5e209cbc5084427629c30/expr.ipynb\"><img src=\"../../../../__pv_it/common/fe274f3dc110b1f71dac5e209cbc5084427629c30/expr.png\" style=\"display:inline;vertical-align:middle;\" /></a></td></tr>\n",
       "<tr><td>30</td><td>Variable</td><td></td><td><a class=\"ProveItLink\" href=\"../../../../../__pv_it/common/a0d9d672aa5e272d907247690c152cc2c6daafb70/expr.ipynb\"><img src=\"../../../../../__pv_it/common/a0d9d672aa5e272d907247690c152cc2c6daafb70/expr.png\" style=\"display:inline;vertical-align:middle;\" /></a></td></tr>\n",
       "<tr><td>31</td><td>Variable</td><td></td><td><a class=\"ProveItLink\" href=\"../../../../../__pv_it/common/01b6dbb444a31fc38af4c2379badef6c75b363710/expr.ipynb\"><img src=\"../../../../../__pv_it/common/01b6dbb444a31fc38af4c2379badef6c75b363710/expr.png\" style=\"display:inline;vertical-align:middle;\" /></a></td></tr>\n",
       "<tr><td>32</td><td>Variable</td><td></td><td><a class=\"ProveItLink\" href=\"../../../../../__pv_it/common/63b7c64bf9ec7a04ecc396c7a1670f3f12fb59490/expr.ipynb\"><img src=\"../../../../../__pv_it/common/63b7c64bf9ec7a04ecc396c7a1670f3f12fb59490/expr.png\" style=\"display:inline;vertical-align:middle;\" /></a></td></tr>\n",
       "</table>\n"
      ],
      "text/plain": [
       "0. (f_{1}, ..f_{_a}.., f_{n}, i) -> {|(f_{1}(1), ..f_{1}(x).., f_{1}(i), ....f_{k}(1), ..f_{k}(x).., f_{k}(i)...., f_{n}(1), ..f_{n}(x).., f_{n}(i))| \\\\  = (n * i) if i in Natural.\n",
       "   core type: Lambda\n",
       "   parameters: 1\\n   body: 2\n",
       "1. (f_{1}, ..f_{_a}.., f_{n}, i)\n",
       "   core type: ExprTuple\n",
       "   sub-expressions: 3, 27\n",
       "2. {|(f_{1}(1), ..f_{1}(x).., f_{1}(i), ....f_{k}(1), ..f_{k}(x).., f_{k}(i)...., f_{n}(1), ..f_{n}(x).., f_{n}(i))| \\\\  = (n * i) if i in Natural.\n",
       "   core type: Conditional\n",
       "   value: 4\n",
       "   condition: 5\n",
       "3. f_{1}, ..f_{_a}.., f_{n}\n",
       "   core type: ExprRange\n",
       "   lambda_map: 6\n",
       "   start_index: 26\n",
       "   end_index: 23\n",
       "4. |(f_{1}(1), ..f_{1}(x).., f_{1}(i), ....f_{k}(1), ..f_{k}(x).., f_{k}(i)...., f_{n}(1), ..f_{n}(x).., f_{n}(i))| \\\\  = (n * i)\n",
       "   core type: Operation\n",
       "   operator: 7\n",
       "   operands: 8\n",
       "5. i in Natural\n",
       "   core type: Operation\n",
       "   operator: 9\n",
       "   operands: 10\n",
       "6. _a -> f_{_a}\n",
       "   core type: Lambda\n",
       "   parameter: 15\n",
       "   body: 11\n",
       "7. =\n",
       "   core type: Literal\n",
       "   sub-expressions: \n",
       "8. (|(f_{1}(1), ..f_{1}(x).., f_{1}(i), ....f_{k}(1), ..f_{k}(x).., f_{k}(i)...., f_{n}(1), ..f_{n}(x).., f_{n}(i))|, n * i)\n",
       "   core type: ExprTuple\n",
       "   sub-expressions: 12, 13\n",
       "9. in\n",
       "   core type: Literal\n",
       "   sub-expressions: \n",
       "10. (i, Natural)\n",
       "    core type: ExprTuple\n",
       "    sub-expressions: 27, 14\n",
       "11. f_{_a}\n",
       "    core type: IndexedVar\n",
       "variable: 31\n",
       "index: 15\n",
       "12. |(f_{1}(1), ..f_{1}(x).., f_{1}(i), ....f_{k}(1), ..f_{k}(x).., f_{k}(i)...., f_{n}(1), ..f_{n}(x).., f_{n}(i))|\n",
       "    core type: Operation\n",
       "    operator: 16\n",
       "    operand: 20\n",
       "13. n * i\n",
       "    core type: Operation\n",
       "    operator: 18\n",
       "    operands: 19\n",
       "14. Natural\n",
       "    core type: Literal\n",
       "    sub-expressions: \n",
       "15. _a\n",
       "    core type: Variable\n",
       "    sub-expressions: \n",
       "16. length\n",
       "    core type: Literal\n",
       "    sub-expressions: \n",
       "17. ((f_{1}(1), ..f_{1}(x).., f_{1}(i), ....f_{k}(1), ..f_{k}(x).., f_{k}(i)...., f_{n}(1), ..f_{n}(x).., f_{n}(i)))\n",
       "    core type: ExprTuple\n",
       "    sub-expressions: 20\n",
       "18. *\n",
       "    core type: Literal\n",
       "    sub-expressions: \n",
       "19. (n, i)\n",
       "    core type: ExprTuple\n",
       "    sub-expressions: 23, 27\n",
       "20. (f_{1}(1), ..f_{1}(x).., f_{1}(i), ....f_{k}(1), ..f_{k}(x).., f_{k}(i)...., f_{n}(1), ..f_{n}(x).., f_{n}(i))\n",
       "    core type: ExprTuple\n",
       "    sub-expressions: 21\n",
       "21. f_{1}(1), ..f_{1}(x).., f_{1}(i), ....f_{k}(1), ..f_{k}(x).., f_{k}(i)...., f_{n}(1), ..f_{n}(x).., f_{n}(i)\n",
       "    core type: ExprRange\n",
       "    lambda_map: 22\n",
       "    start_index: 26\n",
       "    end_index: 23\n",
       "22. k -> f_{k}(1), ..f_{k}(x).., f_{k}(i)\n",
       "    core type: Lambda\n",
       "    parameter: 32\n",
       "    body: 24\n",
       "23. n\n",
       "    core type: Variable\n",
       "    sub-expressions: \n",
       "24. f_{k}(1), ..f_{k}(x).., f_{k}(i)\n",
       "    core type: ExprRange\n",
       "    lambda_map: 25\n",
       "    start_index: 26\n",
       "    end_index: 27\n",
       "25. x -> f_{k}(x)\n",
       "    core type: Lambda\n",
       "    parameter: 30\n",
       "    body: 28\n",
       "26. 1\n",
       "    core type: Literal\n",
       "    sub-expressions: \n",
       "27. i\n",
       "    core type: Variable\n",
       "    sub-expressions: \n",
       "28. f_{k}(x)\n",
       "    core type: Operation\n",
       "    operator: 29\n",
       "    operand: 30\n",
       "29. f_{k}\n",
       "    core type: IndexedVar\n",
       "variable: 31\n",
       "index: 32\n",
       "30. x\n",
       "    core type: Variable\n",
       "    sub-expressions: \n",
       "31. f\n",
       "    core type: Variable\n",
       "    sub-expressions: \n",
       "32. k\n",
       "    core type: Variable\n",
       "    sub-expressions: "
      ]
     },
     "execution_count": 5,
     "metadata": {},
     "output_type": "execute_result"
    }
   ],
   "source": [
    "# display the expression information\n",
    "expr.expr_info()"
   ]
  },
  {
   "cell_type": "code",
   "execution_count": null,
   "metadata": {},
   "outputs": [],
   "source": []
  }
 ],
 "metadata": {
  "kernelspec": {
   "display_name": "Python 3",
   "language": "python",
   "name": "python3"
  }
 },
 "nbformat": 4,
 "nbformat_minor": 0
}