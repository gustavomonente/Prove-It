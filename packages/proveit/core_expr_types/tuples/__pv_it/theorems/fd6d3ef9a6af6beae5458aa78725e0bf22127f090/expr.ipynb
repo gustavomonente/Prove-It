{
 "cells": [
  {
   "cell_type": "markdown",
   "metadata": {},
   "source": [
    "Expression of type <a class=\"ProveItLink\" href=\"../../../../../../../doc/html/api/proveit.Conditional.html\">Conditional</a>\n",
    "=======================\n",
    "# from the theory of <a class=\"ProveItLink\" href=\"../../../_theory_nbs_/theory.ipynb\">proveit.core_expr_types.tuples</a>"
   ]
  },
  {
   "cell_type": "code",
   "execution_count": 1,
   "metadata": {},
   "outputs": [],
   "source": [
    "import proveit\n",
    "# Automation is not needed when building an expression:\n",
    "proveit.defaults.automation = False # This will speed things up.\n",
    "proveit.defaults.inline_pngs = False # Makes files smaller.\n",
    "%load_expr # Load the stored expression as 'stored_expr'\n",
    "# import Expression classes needed to build the expression\n",
    "from proveit import Conditional, n\n",
    "from proveit.core_expr_types import Len, i_to_j_len\n",
    "from proveit.core_expr_types.tuples import f_i_to_j__1_to_n\n",
    "from proveit.logic import Equals, InSet\n",
    "from proveit.numbers import Mult, Natural"
   ]
  },
  {
   "cell_type": "code",
   "execution_count": 2,
   "metadata": {},
   "outputs": [
    {
     "data": {
      "text/html": [
       "<strong id=\"expr\">expr:</strong> <a class=\"ProveItLink\" href=\"expr.ipynb\"><img src=\"expr.png\" style=\"display:inline;vertical-align:middle;\" /></a><br>"
      ],
      "text/plain": [
       "expr: {|(f_{1}(i), ..f_{1}(x).., f_{1}(j), ....f_{k}(i), ..f_{k}(x).., f_{k}(j)...., f_{n}(i), ..f_{n}(x).., f_{n}(j))| \\\\  = (n * (j - i + 1)) if (j - i + 1) in Natural."
      ]
     },
     "execution_count": 2,
     "metadata": {},
     "output_type": "execute_result"
    }
   ],
   "source": [
    "# build up the expression from sub-expressions\n",
    "expr = Conditional(Equals(Len([f_i_to_j__1_to_n]), Mult(n, i_to_j_len)).with_wrapping_at(1), InSet(i_to_j_len, Natural))"
   ]
  },
  {
   "cell_type": "code",
   "execution_count": 3,
   "metadata": {},
   "outputs": [
    {
     "name": "stdout",
     "output_type": "stream",
     "text": [
      "Passed sanity check: expr matches stored_expr\n"
     ]
    }
   ],
   "source": [
    "# check that the built expression is the same as the stored expression\n",
    "assert expr == stored_expr\n",
    "assert expr._style_id == stored_expr._style_id\n",
    "print(\"Passed sanity check: expr matches stored_expr\")"
   ]
  },
  {
   "cell_type": "code",
   "execution_count": 4,
   "metadata": {},
   "outputs": [
    {
     "name": "stdout",
     "output_type": "stream",
     "text": [
      "\\left\\{\\begin{array}{c} |\\left(f_{1}(i), \\ldots, f_{1}(j), \\ldots\\ldots, f_{n}(i), \\ldots, f_{n}(j)\\right)| \\\\  = \\left(n \\cdot \\left(j - i + 1\\right)\\right) \\end{array} \\textrm{ if } \\left(j - i + 1\\right) \\in \\mathbb{N}\\right..\n"
     ]
    }
   ],
   "source": [
    "# Show the LaTeX representation of the expression for convenience if you need it.\n",
    "print(expr.latex())"
   ]
  },
  {
   "cell_type": "code",
   "execution_count": 5,
   "metadata": {},
   "outputs": [
    {
     "data": {
      "text/html": [
       "<table><tr><th>&nbsp;</th><th>core type</th><th>sub-expressions</th><th>expression</th></tr>\n",
       "<tr><td>0</td><td>Conditional</td><td>value:&nbsp;1<br>condition:&nbsp;2<br></td><td><a class=\"ProveItLink\" href=\"expr.ipynb\"><img src=\"expr.png\" style=\"display:inline;vertical-align:middle;\" /></a></td></tr>\n",
       "<tr><td>1</td><td>Operation</td><td>operator:&nbsp;3<br>operands:&nbsp;4<br></td><td><a class=\"ProveItLink\" href=\"../68ac8df0c5f6424741c90df29ca46d278521a2e10/expr.ipynb\"><img src=\"../68ac8df0c5f6424741c90df29ca46d278521a2e10/expr.png\" style=\"display:inline;vertical-align:middle;\" /></a></td></tr>\n",
       "<tr><td>2</td><td>Operation</td><td>operator:&nbsp;5<br>operands:&nbsp;6<br></td><td><a class=\"ProveItLink\" href=\"../cc960de3189696fd63dbfef6ae439534d77762330/expr.ipynb\"><img src=\"../cc960de3189696fd63dbfef6ae439534d77762330/expr.png\" style=\"display:inline;vertical-align:middle;\" /></a></td></tr>\n",
       "<tr><td>3</td><td>Literal</td><td></td><td><a class=\"ProveItLink\" href=\"../../../../../logic/equality/__pv_it/common/fb96dc12b2aa8801dda64d0132b396c63d1502bb0/expr.ipynb\"><img src=\"../../../../../logic/equality/__pv_it/common/fb96dc12b2aa8801dda64d0132b396c63d1502bb0/expr.png\" style=\"display:inline;vertical-align:middle;\" /></a></td></tr>\n",
       "<tr><td>4</td><td>ExprTuple</td><td>7, 8</td><td><a class=\"ProveItLink\" href=\"../f0554de189541bbfaf21acf16d1b6f963880d0bb0/expr.ipynb\"><img src=\"../f0554de189541bbfaf21acf16d1b6f963880d0bb0/expr.png\" style=\"display:inline;vertical-align:middle;\" /></a></td></tr>\n",
       "<tr><td>5</td><td>Literal</td><td></td><td><a class=\"ProveItLink\" href=\"../../../../../logic/sets/membership/__pv_it/common/477487d8796864d23d5810f83761435f25167f690/expr.ipynb\"><img src=\"../../../../../logic/sets/membership/__pv_it/common/477487d8796864d23d5810f83761435f25167f690/expr.png\" style=\"display:inline;vertical-align:middle;\" /></a></td></tr>\n",
       "<tr><td>6</td><td>ExprTuple</td><td>15, 9</td><td><a class=\"ProveItLink\" href=\"../e5c3edb29e5f9b7a432bd47052acbdc257be85240/expr.ipynb\"><img src=\"../e5c3edb29e5f9b7a432bd47052acbdc257be85240/expr.png\" style=\"display:inline;vertical-align:middle;\" /></a></td></tr>\n",
       "<tr><td>7</td><td>Operation</td><td>operator:&nbsp;10<br>operand:&nbsp;14<br></td><td><a class=\"ProveItLink\" href=\"../c233a954e32ea7eb039858acc5651d8f85b135b50/expr.ipynb\"><img src=\"../c233a954e32ea7eb039858acc5651d8f85b135b50/expr.png\" style=\"display:inline;vertical-align:middle;\" /></a></td></tr>\n",
       "<tr><td>8</td><td>Operation</td><td>operator:&nbsp;12<br>operands:&nbsp;13<br></td><td><a class=\"ProveItLink\" href=\"../76fed7daab4fc276a4986e4adc4dd65da244e0e20/expr.ipynb\"><img src=\"../76fed7daab4fc276a4986e4adc4dd65da244e0e20/expr.png\" style=\"display:inline;vertical-align:middle;\" /></a></td></tr>\n",
       "<tr><td>9</td><td>Literal</td><td></td><td><a class=\"ProveItLink\" href=\"../../../../../numbers/number_sets/natural_numbers/__pv_it/common/8b7c321957f52ed3b05b36af612eeae4fa4783bc0/expr.ipynb\"><img src=\"../../../../../numbers/number_sets/natural_numbers/__pv_it/common/8b7c321957f52ed3b05b36af612eeae4fa4783bc0/expr.png\" style=\"display:inline;vertical-align:middle;\" /></a></td></tr>\n",
       "<tr><td>10</td><td>Literal</td><td></td><td><a class=\"ProveItLink\" href=\"../../common/43df765abf1294d8f1fd177863f57f08bf5ad0080/expr.ipynb\"><img src=\"../../common/43df765abf1294d8f1fd177863f57f08bf5ad0080/expr.png\" style=\"display:inline;vertical-align:middle;\" /></a></td></tr>\n",
       "<tr><td>11</td><td>ExprTuple</td><td>14</td><td><a class=\"ProveItLink\" href=\"../0680fe7f4b8fb78bf01c5d878aa62e02feb1087f0/expr.ipynb\"><img src=\"../0680fe7f4b8fb78bf01c5d878aa62e02feb1087f0/expr.png\" style=\"display:inline;vertical-align:middle;\" /></a></td></tr>\n",
       "<tr><td>12</td><td>Literal</td><td></td><td><a class=\"ProveItLink\" href=\"../../../../../numbers/multiplication/__pv_it/common/ed719cef37831779c16481533a4d380a2f95ab270/expr.ipynb\"><img src=\"../../../../../numbers/multiplication/__pv_it/common/ed719cef37831779c16481533a4d380a2f95ab270/expr.png\" style=\"display:inline;vertical-align:middle;\" /></a></td></tr>\n",
       "<tr><td>13</td><td>ExprTuple</td><td>20, 15</td><td><a class=\"ProveItLink\" href=\"../6723252c6d810d933d632f38d160a7b0c2fdc2400/expr.ipynb\"><img src=\"../6723252c6d810d933d632f38d160a7b0c2fdc2400/expr.png\" style=\"display:inline;vertical-align:middle;\" /></a></td></tr>\n",
       "<tr><td>14</td><td>ExprTuple</td><td>16</td><td><a class=\"ProveItLink\" href=\"../83f03e272cea59213c1ea8258fc61764eba61b3c0/expr.ipynb\"><img src=\"../83f03e272cea59213c1ea8258fc61764eba61b3c0/expr.png\" style=\"display:inline;vertical-align:middle;\" /></a></td></tr>\n",
       "<tr><td>15</td><td>Operation</td><td>operator:&nbsp;17<br>operands:&nbsp;18<br></td><td><a class=\"ProveItLink\" href=\"../../../../__pv_it/common/0705e8c92140ffae7c39ed7d948d0a448a99d09c0/expr.ipynb\"><img src=\"../../../../__pv_it/common/0705e8c92140ffae7c39ed7d948d0a448a99d09c0/expr.png\" style=\"display:inline;vertical-align:middle;\" /></a></td></tr>\n",
       "<tr><td>16</td><td>ExprRange</td><td>lambda_map:&nbsp;19<br>start_index:&nbsp;22<br>end_index:&nbsp;20<br></td><td><a class=\"ProveItLink\" href=\"../../common/ee09fb9d5cedf13a4b8871a12f5054677526e1b40/expr.ipynb\"><img src=\"../../common/ee09fb9d5cedf13a4b8871a12f5054677526e1b40/expr.png\" style=\"display:inline;vertical-align:middle;\" /></a></td></tr>\n",
       "<tr><td>17</td><td>Literal</td><td></td><td><a class=\"ProveItLink\" href=\"../../../../../numbers/addition/__pv_it/common/4b7effaab3619a1c2c38fe2dee8601df8ec714590/expr.ipynb\"><img src=\"../../../../../numbers/addition/__pv_it/common/4b7effaab3619a1c2c38fe2dee8601df8ec714590/expr.png\" style=\"display:inline;vertical-align:middle;\" /></a></td></tr>\n",
       "<tr><td>18</td><td>ExprTuple</td><td>27, 21, 22</td><td><a class=\"ProveItLink\" href=\"../../../../__pv_it/common/9c2dbefc456f49116557e09217a42499304968240/expr.ipynb\"><img src=\"../../../../__pv_it/common/9c2dbefc456f49116557e09217a42499304968240/expr.png\" style=\"display:inline;vertical-align:middle;\" /></a></td></tr>\n",
       "<tr><td>19</td><td>Lambda</td><td>parameter:&nbsp;32<br>body:&nbsp;23<br></td><td><a class=\"ProveItLink\" href=\"../../common/50781bbf1dbc0472f77889a0c412a096974f5bbe0/expr.ipynb\"><img src=\"../../common/50781bbf1dbc0472f77889a0c412a096974f5bbe0/expr.png\" style=\"display:inline;vertical-align:middle;\" /></a></td></tr>\n",
       "<tr><td>20</td><td>Variable</td><td></td><td><a class=\"ProveItLink\" href=\"../../../../../__pv_it/common/8968bb04eb3f7dfa02353397ce929b025bbd79c20/expr.ipynb\"><img src=\"../../../../../__pv_it/common/8968bb04eb3f7dfa02353397ce929b025bbd79c20/expr.png\" style=\"display:inline;vertical-align:middle;\" /></a></td></tr>\n",
       "<tr><td>21</td><td>Operation</td><td>operator:&nbsp;24<br>operand:&nbsp;26<br></td><td><a class=\"ProveItLink\" href=\"../../../../__pv_it/common/921f21683d6acb91084eedf132b7cf0feab52de00/expr.ipynb\"><img src=\"../../../../__pv_it/common/921f21683d6acb91084eedf132b7cf0feab52de00/expr.png\" style=\"display:inline;vertical-align:middle;\" /></a></td></tr>\n",
       "<tr><td>22</td><td>Literal</td><td></td><td><a class=\"ProveItLink\" href=\"../../../../../numbers/numerals/__pv_it/common/2778428c7f555b2bdc06aa0530bc142c6e6335100/expr.ipynb\"><img src=\"../../../../../numbers/numerals/__pv_it/common/2778428c7f555b2bdc06aa0530bc142c6e6335100/expr.png\" style=\"display:inline;vertical-align:middle;\" /></a></td></tr>\n",
       "<tr><td>23</td><td>ExprRange</td><td>lambda_map:&nbsp;25<br>start_index:&nbsp;26<br>end_index:&nbsp;27<br></td><td><a class=\"ProveItLink\" href=\"../../common/fd762c3533aeb38855ac1238382de5b9d0e20d840/expr.ipynb\"><img src=\"../../common/fd762c3533aeb38855ac1238382de5b9d0e20d840/expr.png\" style=\"display:inline;vertical-align:middle;\" /></a></td></tr>\n",
       "<tr><td>24</td><td>Literal</td><td></td><td><a class=\"ProveItLink\" href=\"../../../../../numbers/negation/__pv_it/common/221b3c4d1770ee9051b7c044c3f9ec61196fc34b0/expr.ipynb\"><img src=\"../../../../../numbers/negation/__pv_it/common/221b3c4d1770ee9051b7c044c3f9ec61196fc34b0/expr.png\" style=\"display:inline;vertical-align:middle;\" /></a></td></tr>\n",
       "<tr><td>25</td><td>Lambda</td><td>parameter:&nbsp;30<br>body:&nbsp;28<br></td><td><a class=\"ProveItLink\" href=\"../../common/17e9f7bf6953e6d4e8246dd325bfa03ebb28bee40/expr.ipynb\"><img src=\"../../common/17e9f7bf6953e6d4e8246dd325bfa03ebb28bee40/expr.png\" style=\"display:inline;vertical-align:middle;\" /></a></td></tr>\n",
       "<tr><td>26</td><td>Variable</td><td></td><td><a class=\"ProveItLink\" href=\"../../../../../__pv_it/common/ae955345c83abf786c3aff8681cd5465beae262d0/expr.ipynb\"><img src=\"../../../../../__pv_it/common/ae955345c83abf786c3aff8681cd5465beae262d0/expr.png\" style=\"display:inline;vertical-align:middle;\" /></a></td></tr>\n",
       "<tr><td>27</td><td>Variable</td><td></td><td><a class=\"ProveItLink\" href=\"../../../../../__pv_it/common/1ed21df18baca2f42b561a7ffbf30a2743d594650/expr.ipynb\"><img src=\"../../../../../__pv_it/common/1ed21df18baca2f42b561a7ffbf30a2743d594650/expr.png\" style=\"display:inline;vertical-align:middle;\" /></a></td></tr>\n",
       "<tr><td>28</td><td>Operation</td><td>operator:&nbsp;29<br>operand:&nbsp;30<br></td><td><a class=\"ProveItLink\" href=\"../../common/e2c78e71edcbe514291a76462282c0e1e27911160/expr.ipynb\"><img src=\"../../common/e2c78e71edcbe514291a76462282c0e1e27911160/expr.png\" style=\"display:inline;vertical-align:middle;\" /></a></td></tr>\n",
       "<tr><td>29</td><td>IndexedVar</td><td>variable:&nbsp;31<br>index:&nbsp;32<br></td><td><a class=\"ProveItLink\" href=\"../../../../__pv_it/common/fe274f3dc110b1f71dac5e209cbc5084427629c30/expr.ipynb\"><img src=\"../../../../__pv_it/common/fe274f3dc110b1f71dac5e209cbc5084427629c30/expr.png\" style=\"display:inline;vertical-align:middle;\" /></a></td></tr>\n",
       "<tr><td>30</td><td>Variable</td><td></td><td><a class=\"ProveItLink\" href=\"../../../../../__pv_it/common/a0d9d672aa5e272d907247690c152cc2c6daafb70/expr.ipynb\"><img src=\"../../../../../__pv_it/common/a0d9d672aa5e272d907247690c152cc2c6daafb70/expr.png\" style=\"display:inline;vertical-align:middle;\" /></a></td></tr>\n",
       "<tr><td>31</td><td>Variable</td><td></td><td><a class=\"ProveItLink\" href=\"../../../../../__pv_it/common/01b6dbb444a31fc38af4c2379badef6c75b363710/expr.ipynb\"><img src=\"../../../../../__pv_it/common/01b6dbb444a31fc38af4c2379badef6c75b363710/expr.png\" style=\"display:inline;vertical-align:middle;\" /></a></td></tr>\n",
       "<tr><td>32</td><td>Variable</td><td></td><td><a class=\"ProveItLink\" href=\"../../../../../__pv_it/common/63b7c64bf9ec7a04ecc396c7a1670f3f12fb59490/expr.ipynb\"><img src=\"../../../../../__pv_it/common/63b7c64bf9ec7a04ecc396c7a1670f3f12fb59490/expr.png\" style=\"display:inline;vertical-align:middle;\" /></a></td></tr>\n",
       "</table>\n"
      ],
      "text/plain": [
       "0. {|(f_{1}(i), ..f_{1}(x).., f_{1}(j), ....f_{k}(i), ..f_{k}(x).., f_{k}(j)...., f_{n}(i), ..f_{n}(x).., f_{n}(j))| \\\\  = (n * (j - i + 1)) if (j - i + 1) in Natural.\n",
       "   core type: Conditional\n",
       "   value: 1\n",
       "   condition: 2\n",
       "1. |(f_{1}(i), ..f_{1}(x).., f_{1}(j), ....f_{k}(i), ..f_{k}(x).., f_{k}(j)...., f_{n}(i), ..f_{n}(x).., f_{n}(j))| \\\\  = (n * (j - i + 1))\n",
       "   core type: Operation\n",
       "   operator: 3\n",
       "   operands: 4\n",
       "2. (j - i + 1) in Natural\n",
       "   core type: Operation\n",
       "   operator: 5\n",
       "   operands: 6\n",
       "3. =\n",
       "   core type: Literal\n",
       "   sub-expressions: \n",
       "4. (|(f_{1}(i), ..f_{1}(x).., f_{1}(j), ....f_{k}(i), ..f_{k}(x).., f_{k}(j)...., f_{n}(i), ..f_{n}(x).., f_{n}(j))|, n * (j - i + 1))\n",
       "   core type: ExprTuple\n",
       "   sub-expressions: 7, 8\n",
       "5. in\n",
       "   core type: Literal\n",
       "   sub-expressions: \n",
       "6. (j - i + 1, Natural)\n",
       "   core type: ExprTuple\n",
       "   sub-expressions: 15, 9\n",
       "7. |(f_{1}(i), ..f_{1}(x).., f_{1}(j), ....f_{k}(i), ..f_{k}(x).., f_{k}(j)...., f_{n}(i), ..f_{n}(x).., f_{n}(j))|\n",
       "   core type: Operation\n",
       "   operator: 10\n",
       "   operand: 14\n",
       "8. n * (j - i + 1)\n",
       "   core type: Operation\n",
       "   operator: 12\n",
       "   operands: 13\n",
       "9. Natural\n",
       "   core type: Literal\n",
       "   sub-expressions: \n",
       "10. length\n",
       "    core type: Literal\n",
       "    sub-expressions: \n",
       "11. ((f_{1}(i), ..f_{1}(x).., f_{1}(j), ....f_{k}(i), ..f_{k}(x).., f_{k}(j)...., f_{n}(i), ..f_{n}(x).., f_{n}(j)))\n",
       "    core type: ExprTuple\n",
       "    sub-expressions: 14\n",
       "12. *\n",
       "    core type: Literal\n",
       "    sub-expressions: \n",
       "13. (n, j - i + 1)\n",
       "    core type: ExprTuple\n",
       "    sub-expressions: 20, 15\n",
       "14. (f_{1}(i), ..f_{1}(x).., f_{1}(j), ....f_{k}(i), ..f_{k}(x).., f_{k}(j)...., f_{n}(i), ..f_{n}(x).., f_{n}(j))\n",
       "    core type: ExprTuple\n",
       "    sub-expressions: 16\n",
       "15. j - i + 1\n",
       "    core type: Operation\n",
       "    operator: 17\n",
       "    operands: 18\n",
       "16. f_{1}(i), ..f_{1}(x).., f_{1}(j), ....f_{k}(i), ..f_{k}(x).., f_{k}(j)...., f_{n}(i), ..f_{n}(x).., f_{n}(j)\n",
       "    core type: ExprRange\n",
       "    lambda_map: 19\n",
       "    start_index: 22\n",
       "    end_index: 20\n",
       "17. +\n",
       "    core type: Literal\n",
       "    sub-expressions: \n",
       "18. (j, -i, 1)\n",
       "    core type: ExprTuple\n",
       "    sub-expressions: 27, 21, 22\n",
       "19. k -> f_{k}(i), ..f_{k}(x).., f_{k}(j)\n",
       "    core type: Lambda\n",
       "    parameter: 32\n",
       "    body: 23\n",
       "20. n\n",
       "    core type: Variable\n",
       "    sub-expressions: \n",
       "21. -i\n",
       "    core type: Operation\n",
       "    operator: 24\n",
       "    operand: 26\n",
       "22. 1\n",
       "    core type: Literal\n",
       "    sub-expressions: \n",
       "23. f_{k}(i), ..f_{k}(x).., f_{k}(j)\n",
       "    core type: ExprRange\n",
       "    lambda_map: 25\n",
       "    start_index: 26\n",
       "    end_index: 27\n",
       "24. -\n",
       "    core type: Literal\n",
       "    sub-expressions: \n",
       "25. x -> f_{k}(x)\n",
       "    core type: Lambda\n",
       "    parameter: 30\n",
       "    body: 28\n",
       "26. i\n",
       "    core type: Variable\n",
       "    sub-expressions: \n",
       "27. j\n",
       "    core type: Variable\n",
       "    sub-expressions: \n",
       "28. f_{k}(x)\n",
       "    core type: Operation\n",
       "    operator: 29\n",
       "    operand: 30\n",
       "29. f_{k}\n",
       "    core type: IndexedVar\n",
       "variable: 31\n",
       "index: 32\n",
       "30. x\n",
       "    core type: Variable\n",
       "    sub-expressions: \n",
       "31. f\n",
       "    core type: Variable\n",
       "    sub-expressions: \n",
       "32. k\n",
       "    core type: Variable\n",
       "    sub-expressions: "
      ]
     },
     "execution_count": 5,
     "metadata": {},
     "output_type": "execute_result"
    }
   ],
   "source": [
    "# display the expression information\n",
    "expr.expr_info()"
   ]
  },
  {
   "cell_type": "code",
   "execution_count": null,
   "metadata": {},
   "outputs": [],
   "source": []
  }
 ],
 "metadata": {
  "kernelspec": {
   "display_name": "Python 3",
   "language": "python",
   "name": "python3"
  }
 },
 "nbformat": 4,
 "nbformat_minor": 0
}