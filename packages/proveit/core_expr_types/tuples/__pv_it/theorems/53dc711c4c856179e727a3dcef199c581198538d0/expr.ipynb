{
 "cells": [
  {
   "cell_type": "markdown",
   "metadata": {},
   "source": [
    "Expression of type <a class=\"ProveItLink\" href=\"../../../../../../../doc/html/api/proveit.logic.Forall.html\">Forall</a>\n",
    "=======================\n",
    "# from the theory of <a class=\"ProveItLink\" href=\"../../../_theory_nbs_/theory.ipynb\">proveit.core_expr_types.tuples</a>"
   ]
  },
  {
   "cell_type": "code",
   "execution_count": 1,
   "metadata": {},
   "outputs": [],
   "source": [
    "import proveit\n",
    "# Automation is not needed when building an expression:\n",
    "proveit.defaults.automation = False # This will speed things up.\n",
    "proveit.defaults.inline_pngs = False # Makes files smaller.\n",
    "%load_expr # Load the stored expression as 'stored_expr'\n",
    "# import Expression classes needed to build the expression\n",
    "from proveit import ExprRange, Function, a, b, f, fab, i, j, m\n",
    "from proveit.logic import Equals, Forall"
   ]
  },
  {
   "cell_type": "code",
   "execution_count": 2,
   "metadata": {},
   "outputs": [
    {
     "data": {
      "text/html": [
       "<strong id=\"expr\">expr:</strong> <a class=\"ProveItLink\" href=\"expr.ipynb\"><img src=\"expr.png\" style=\"display:inline;vertical-align:middle;\" /></a><br>"
      ],
      "text/plain": [
       "expr: forall_{f, i, j, m} ((f(m, i), ..f(m, b).., f(m, j), ....f(a, i), ..f(a, b).., f(a, j)...., f(m, i), ..f(m, b).., f(m, j)) = (f(m, i), ..f(m, b).., f(m, j)))"
      ]
     },
     "execution_count": 2,
     "metadata": {},
     "output_type": "execute_result"
    }
   ],
   "source": [
    "# build up the expression from sub-expressions\n",
    "expr = Forall([f, i, j, m], Equals([ExprRange(a, ExprRange(b, fab, i, j), m, m)], [ExprRange(b, Function(f, [m, b]), i, j)]))"
   ]
  },
  {
   "cell_type": "code",
   "execution_count": 3,
   "metadata": {},
   "outputs": [
    {
     "name": "stdout",
     "output_type": "stream",
     "text": [
      "Passed sanity check: expr matches stored_expr\n"
     ]
    }
   ],
   "source": [
    "# check that the built expression is the same as the stored expression\n",
    "assert expr == stored_expr\n",
    "assert expr._style_id == stored_expr._style_id\n",
    "print(\"Passed sanity check: expr matches stored_expr\")"
   ]
  },
  {
   "cell_type": "code",
   "execution_count": 4,
   "metadata": {},
   "outputs": [
    {
     "name": "stdout",
     "output_type": "stream",
     "text": [
      "\\forall_{f, i, j, m}~\\left(\\left(f(m, i), \\ldots, f(m, j), \\ldots\\ldots, f(m, i), \\ldots, f(m, j)\\right) = \\left(f(m, i), \\ldots, f(m, j)\\right)\\right)\n"
     ]
    }
   ],
   "source": [
    "# Show the LaTeX representation of the expression for convenience if you need it.\n",
    "print(expr.latex())"
   ]
  },
  {
   "cell_type": "code",
   "execution_count": 5,
   "metadata": {},
   "outputs": [
    {
     "data": {
      "text/html": [
       "<table><tr><th>&nbsp;</th><th>core type</th><th>sub-expressions</th><th>expression</th></tr>\n",
       "<tr><td>0</td><td>Operation</td><td>operator:&nbsp;1<br>operand:&nbsp;2<br></td><td><a class=\"ProveItLink\" href=\"expr.ipynb\"><img src=\"expr.png\" style=\"display:inline;vertical-align:middle;\" /></a></td></tr>\n",
       "<tr><td>1</td><td>Literal</td><td></td><td><a class=\"ProveItLink\" href=\"../../../../../logic/booleans/quantification/universality/__pv_it/common/083d2baa0b8ecab1d230f9ec29a15aa1355809fb0/expr.ipynb\"><img src=\"../../../../../logic/booleans/quantification/universality/__pv_it/common/083d2baa0b8ecab1d230f9ec29a15aa1355809fb0/expr.png\" style=\"display:inline;vertical-align:middle;\" /></a></td></tr>\n",
       "<tr><td>2</td><td>Lambda</td><td>parameters:&nbsp;3<br>body:&nbsp;4<br></td><td><a class=\"ProveItLink\" href=\"../61e13dc1704e5c9cd5314aff886651e9c9a879460/expr.ipynb\"><img src=\"../61e13dc1704e5c9cd5314aff886651e9c9a879460/expr.png\" style=\"display:inline;vertical-align:middle;\" /></a></td></tr>\n",
       "<tr><td>3</td><td>ExprTuple</td><td>21, 16, 17, 20</td><td><a class=\"ProveItLink\" href=\"../af6dce7f83ab3c050fa7efd59e39bc05ad6248a40/expr.ipynb\"><img src=\"../af6dce7f83ab3c050fa7efd59e39bc05ad6248a40/expr.png\" style=\"display:inline;vertical-align:middle;\" /></a></td></tr>\n",
       "<tr><td>4</td><td>Operation</td><td>operator:&nbsp;5<br>operands:&nbsp;6<br></td><td><a class=\"ProveItLink\" href=\"../3efb592ec459d9acb584f323c814ba4c8841c06e0/expr.ipynb\"><img src=\"../3efb592ec459d9acb584f323c814ba4c8841c06e0/expr.png\" style=\"display:inline;vertical-align:middle;\" /></a></td></tr>\n",
       "<tr><td>5</td><td>Literal</td><td></td><td><a class=\"ProveItLink\" href=\"../../../../../logic/equality/__pv_it/common/fb96dc12b2aa8801dda64d0132b396c63d1502bb0/expr.ipynb\"><img src=\"../../../../../logic/equality/__pv_it/common/fb96dc12b2aa8801dda64d0132b396c63d1502bb0/expr.png\" style=\"display:inline;vertical-align:middle;\" /></a></td></tr>\n",
       "<tr><td>6</td><td>ExprTuple</td><td>7, 8</td><td><a class=\"ProveItLink\" href=\"../5190c85dceb27d4744c4c3c3ffaecca402dfbace0/expr.ipynb\"><img src=\"../5190c85dceb27d4744c4c3c3ffaecca402dfbace0/expr.png\" style=\"display:inline;vertical-align:middle;\" /></a></td></tr>\n",
       "<tr><td>7</td><td>ExprTuple</td><td>9</td><td><a class=\"ProveItLink\" href=\"../f6cca48cf6f691e98c3f6da6e820e9e1d04b1c820/expr.ipynb\"><img src=\"../f6cca48cf6f691e98c3f6da6e820e9e1d04b1c820/expr.png\" style=\"display:inline;vertical-align:middle;\" /></a></td></tr>\n",
       "<tr><td>8</td><td>ExprTuple</td><td>10</td><td><a class=\"ProveItLink\" href=\"../8bd7fe20a3dfceb8bd36f43df55aad5c725a6a670/expr.ipynb\"><img src=\"../8bd7fe20a3dfceb8bd36f43df55aad5c725a6a670/expr.png\" style=\"display:inline;vertical-align:middle;\" /></a></td></tr>\n",
       "<tr><td>9</td><td>ExprRange</td><td>lambda_map:&nbsp;11<br>start_index:&nbsp;20<br>end_index:&nbsp;20<br></td><td><a class=\"ProveItLink\" href=\"../dab2875e29cd5ef6d5f285e3bd35efebe28879360/expr.ipynb\"><img src=\"../dab2875e29cd5ef6d5f285e3bd35efebe28879360/expr.png\" style=\"display:inline;vertical-align:middle;\" /></a></td></tr>\n",
       "<tr><td>10</td><td>ExprRange</td><td>lambda_map:&nbsp;12<br>start_index:&nbsp;16<br>end_index:&nbsp;17<br></td><td><a class=\"ProveItLink\" href=\"../06f7f919b3c837598693e911b54fdbf7da7f681a0/expr.ipynb\"><img src=\"../06f7f919b3c837598693e911b54fdbf7da7f681a0/expr.png\" style=\"display:inline;vertical-align:middle;\" /></a></td></tr>\n",
       "<tr><td>11</td><td>Lambda</td><td>parameter:&nbsp;23<br>body:&nbsp;13<br></td><td><a class=\"ProveItLink\" href=\"../1978d8d4ef447482553e427cdff62c0c981682f70/expr.ipynb\"><img src=\"../1978d8d4ef447482553e427cdff62c0c981682f70/expr.png\" style=\"display:inline;vertical-align:middle;\" /></a></td></tr>\n",
       "<tr><td>12</td><td>Lambda</td><td>parameter:&nbsp;24<br>body:&nbsp;14<br></td><td><a class=\"ProveItLink\" href=\"../a909c2e2568032760aeed51f4c43f9fbdfacc8b90/expr.ipynb\"><img src=\"../a909c2e2568032760aeed51f4c43f9fbdfacc8b90/expr.png\" style=\"display:inline;vertical-align:middle;\" /></a></td></tr>\n",
       "<tr><td>13</td><td>ExprRange</td><td>lambda_map:&nbsp;15<br>start_index:&nbsp;16<br>end_index:&nbsp;17<br></td><td><a class=\"ProveItLink\" href=\"../6b434998e6500b1a75c70434c99fd487aa1543210/expr.ipynb\"><img src=\"../6b434998e6500b1a75c70434c99fd487aa1543210/expr.png\" style=\"display:inline;vertical-align:middle;\" /></a></td></tr>\n",
       "<tr><td>14</td><td>Operation</td><td>operator:&nbsp;21<br>operands:&nbsp;18<br></td><td><a class=\"ProveItLink\" href=\"../6cb2ce501d411d20dbf098b6219252f8ecf61be10/expr.ipynb\"><img src=\"../6cb2ce501d411d20dbf098b6219252f8ecf61be10/expr.png\" style=\"display:inline;vertical-align:middle;\" /></a></td></tr>\n",
       "<tr><td>15</td><td>Lambda</td><td>parameter:&nbsp;24<br>body:&nbsp;19<br></td><td><a class=\"ProveItLink\" href=\"../62cbeb502f71282f7c8937b1a46fc876d14f6e3e0/expr.ipynb\"><img src=\"../62cbeb502f71282f7c8937b1a46fc876d14f6e3e0/expr.png\" style=\"display:inline;vertical-align:middle;\" /></a></td></tr>\n",
       "<tr><td>16</td><td>Variable</td><td></td><td><a class=\"ProveItLink\" href=\"../../../../../__pv_it/common/ae955345c83abf786c3aff8681cd5465beae262d0/expr.ipynb\"><img src=\"../../../../../__pv_it/common/ae955345c83abf786c3aff8681cd5465beae262d0/expr.png\" style=\"display:inline;vertical-align:middle;\" /></a></td></tr>\n",
       "<tr><td>17</td><td>Variable</td><td></td><td><a class=\"ProveItLink\" href=\"../../../../../__pv_it/common/1ed21df18baca2f42b561a7ffbf30a2743d594650/expr.ipynb\"><img src=\"../../../../../__pv_it/common/1ed21df18baca2f42b561a7ffbf30a2743d594650/expr.png\" style=\"display:inline;vertical-align:middle;\" /></a></td></tr>\n",
       "<tr><td>18</td><td>ExprTuple</td><td>20, 24</td><td><a class=\"ProveItLink\" href=\"../9ad15f9535616e3d8bd3b557e92b08125597c8cd0/expr.ipynb\"><img src=\"../9ad15f9535616e3d8bd3b557e92b08125597c8cd0/expr.png\" style=\"display:inline;vertical-align:middle;\" /></a></td></tr>\n",
       "<tr><td>19</td><td>Operation</td><td>operator:&nbsp;21<br>operands:&nbsp;22<br></td><td><a class=\"ProveItLink\" href=\"../../../../../__pv_it/common/c38572bb30fa8c04197e336f5e201212d3ebb9250/expr.ipynb\"><img src=\"../../../../../__pv_it/common/c38572bb30fa8c04197e336f5e201212d3ebb9250/expr.png\" style=\"display:inline;vertical-align:middle;\" /></a></td></tr>\n",
       "<tr><td>20</td><td>Variable</td><td></td><td><a class=\"ProveItLink\" href=\"../../../../../__pv_it/common/674a03b9c3ca221b3aabd5636837b31528ff33830/expr.ipynb\"><img src=\"../../../../../__pv_it/common/674a03b9c3ca221b3aabd5636837b31528ff33830/expr.png\" style=\"display:inline;vertical-align:middle;\" /></a></td></tr>\n",
       "<tr><td>21</td><td>Variable</td><td></td><td><a class=\"ProveItLink\" href=\"../../../../../__pv_it/common/01b6dbb444a31fc38af4c2379badef6c75b363710/expr.ipynb\"><img src=\"../../../../../__pv_it/common/01b6dbb444a31fc38af4c2379badef6c75b363710/expr.png\" style=\"display:inline;vertical-align:middle;\" /></a></td></tr>\n",
       "<tr><td>22</td><td>ExprTuple</td><td>23, 24</td><td><a class=\"ProveItLink\" href=\"../../../../../__pv_it/common/e7063031a6706c0c23e90a5d7fa2e967f407fc6c0/expr.ipynb\"><img src=\"../../../../../__pv_it/common/e7063031a6706c0c23e90a5d7fa2e967f407fc6c0/expr.png\" style=\"display:inline;vertical-align:middle;\" /></a></td></tr>\n",
       "<tr><td>23</td><td>Variable</td><td></td><td><a class=\"ProveItLink\" href=\"../../../../../__pv_it/common/c06c606ec12678c58933ac85412ecadc2ae28be60/expr.ipynb\"><img src=\"../../../../../__pv_it/common/c06c606ec12678c58933ac85412ecadc2ae28be60/expr.png\" style=\"display:inline;vertical-align:middle;\" /></a></td></tr>\n",
       "<tr><td>24</td><td>Variable</td><td></td><td><a class=\"ProveItLink\" href=\"../../../../../__pv_it/common/195236b98c6c564a75b5dbada74b173bc52d5c3e0/expr.ipynb\"><img src=\"../../../../../__pv_it/common/195236b98c6c564a75b5dbada74b173bc52d5c3e0/expr.png\" style=\"display:inline;vertical-align:middle;\" /></a></td></tr>\n",
       "</table>\n"
      ],
      "text/plain": [
       "0. forall_{f, i, j, m} ((f(m, i), ..f(m, b).., f(m, j), ....f(a, i), ..f(a, b).., f(a, j)...., f(m, i), ..f(m, b).., f(m, j)) = (f(m, i), ..f(m, b).., f(m, j)))\n",
       "   core type: Operation\n",
       "   operator: 1\n",
       "   operand: 2\n",
       "1. forall\n",
       "   core type: Literal\n",
       "   sub-expressions: \n",
       "2. (f, i, j, m) -> ((f(m, i), ..f(m, b).., f(m, j), ....f(a, i), ..f(a, b).., f(a, j)...., f(m, i), ..f(m, b).., f(m, j)) = (f(m, i), ..f(m, b).., f(m, j)))\n",
       "   core type: Lambda\n",
       "   parameters: 3\\n   body: 4\n",
       "3. (f, i, j, m)\n",
       "   core type: ExprTuple\n",
       "   sub-expressions: 21, 16, 17, 20\n",
       "4. (f(m, i), ..f(m, b).., f(m, j), ....f(a, i), ..f(a, b).., f(a, j)...., f(m, i), ..f(m, b).., f(m, j)) = (f(m, i), ..f(m, b).., f(m, j))\n",
       "   core type: Operation\n",
       "   operator: 5\n",
       "   operands: 6\n",
       "5. =\n",
       "   core type: Literal\n",
       "   sub-expressions: \n",
       "6. ((f(m, i), ..f(m, b).., f(m, j), ....f(a, i), ..f(a, b).., f(a, j)...., f(m, i), ..f(m, b).., f(m, j)), (f(m, i), ..f(m, b).., f(m, j)))\n",
       "   core type: ExprTuple\n",
       "   sub-expressions: 7, 8\n",
       "7. (f(m, i), ..f(m, b).., f(m, j), ....f(a, i), ..f(a, b).., f(a, j)...., f(m, i), ..f(m, b).., f(m, j))\n",
       "   core type: ExprTuple\n",
       "   sub-expressions: 9\n",
       "8. (f(m, i), ..f(m, b).., f(m, j))\n",
       "   core type: ExprTuple\n",
       "   sub-expressions: 10\n",
       "9. f(m, i), ..f(m, b).., f(m, j), ....f(a, i), ..f(a, b).., f(a, j)...., f(m, i), ..f(m, b).., f(m, j)\n",
       "   core type: ExprRange\n",
       "   lambda_map: 11\n",
       "   start_index: 20\n",
       "   end_index: 20\n",
       "10. f(m, i), ..f(m, b).., f(m, j)\n",
       "    core type: ExprRange\n",
       "    lambda_map: 12\n",
       "    start_index: 16\n",
       "    end_index: 17\n",
       "11. a -> f(a, i), ..f(a, b).., f(a, j)\n",
       "    core type: Lambda\n",
       "    parameter: 23\n",
       "    body: 13\n",
       "12. b -> f(m, b)\n",
       "    core type: Lambda\n",
       "    parameter: 24\n",
       "    body: 14\n",
       "13. f(a, i), ..f(a, b).., f(a, j)\n",
       "    core type: ExprRange\n",
       "    lambda_map: 15\n",
       "    start_index: 16\n",
       "    end_index: 17\n",
       "14. f(m, b)\n",
       "    core type: Operation\n",
       "    operator: 21\n",
       "    operands: 18\n",
       "15. b -> f(a, b)\n",
       "    core type: Lambda\n",
       "    parameter: 24\n",
       "    body: 19\n",
       "16. i\n",
       "    core type: Variable\n",
       "    sub-expressions: \n",
       "17. j\n",
       "    core type: Variable\n",
       "    sub-expressions: \n",
       "18. (m, b)\n",
       "    core type: ExprTuple\n",
       "    sub-expressions: 20, 24\n",
       "19. f(a, b)\n",
       "    core type: Operation\n",
       "    operator: 21\n",
       "    operands: 22\n",
       "20. m\n",
       "    core type: Variable\n",
       "    sub-expressions: \n",
       "21. f\n",
       "    core type: Variable\n",
       "    sub-expressions: \n",
       "22. (a, b)\n",
       "    core type: ExprTuple\n",
       "    sub-expressions: 23, 24\n",
       "23. a\n",
       "    core type: Variable\n",
       "    sub-expressions: \n",
       "24. b\n",
       "    core type: Variable\n",
       "    sub-expressions: "
      ]
     },
     "execution_count": 5,
     "metadata": {},
     "output_type": "execute_result"
    }
   ],
   "source": [
    "# display the expression information\n",
    "expr.expr_info()"
   ]
  },
  {
   "cell_type": "code",
   "execution_count": null,
   "metadata": {},
   "outputs": [],
   "source": []
  }
 ],
 "metadata": {
  "kernelspec": {
   "display_name": "Python 3",
   "language": "python",
   "name": "python3"
  }
 },
 "nbformat": 4,
 "nbformat_minor": 0
}