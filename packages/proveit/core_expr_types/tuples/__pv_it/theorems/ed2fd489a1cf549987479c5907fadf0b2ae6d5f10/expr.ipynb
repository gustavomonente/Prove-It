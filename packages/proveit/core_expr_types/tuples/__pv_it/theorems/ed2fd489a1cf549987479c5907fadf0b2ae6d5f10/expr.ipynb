{
 "cells": [
  {
   "cell_type": "markdown",
   "metadata": {},
   "source": [
    "Expression of type <a class=\"ProveItLink\" href=\"../../../../../../../doc/html/api/proveit.Lambda.html\">Lambda</a>\n",
    "=======================\n",
    "# from the theory of <a class=\"ProveItLink\" href=\"../../../_theory_nbs_/theory.ipynb\">proveit.core_expr_types.tuples</a>"
   ]
  },
  {
   "cell_type": "code",
   "execution_count": 1,
   "metadata": {},
   "outputs": [],
   "source": [
    "import proveit\n",
    "# Automation is not needed when building an expression:\n",
    "proveit.defaults.automation = False # This will speed things up.\n",
    "proveit.defaults.inline_pngs = False # Makes files smaller.\n",
    "%load_expr # Load the stored expression as 'stored_expr'\n",
    "# import Expression classes needed to build the expression\n",
    "from proveit import Conditional, Lambda, f, i, j, k\n",
    "from proveit.core_expr_types import partition_equiv\n",
    "from proveit.logic import And, InSet\n",
    "from proveit.numbers import Add, Natural, Neg, one"
   ]
  },
  {
   "cell_type": "code",
   "execution_count": 2,
   "metadata": {},
   "outputs": [
    {
     "data": {
      "text/html": [
       "<strong id=\"expr\">expr:</strong> <a class=\"ProveItLink\" href=\"expr.ipynb\"><img src=\"expr.png\" style=\"display:inline;vertical-align:middle;\" /></a><br>"
      ],
      "text/plain": [
       "expr: (f, i, j, k) -> {(f(i), ..f(a).., f(k)) =  \\\\ (f(i), ..f(a).., f(j), f(j + 1), ..f(a).., f(k)) if ((j + 1) - i) in Natural ,  (k - j) in Natural."
      ]
     },
     "execution_count": 2,
     "metadata": {},
     "output_type": "execute_result"
    }
   ],
   "source": [
    "# build up the expression from sub-expressions\n",
    "expr = Lambda([f, i, j, k], Conditional(partition_equiv, And(InSet(Add(Add(j, one), Neg(i)), Natural), InSet(Add(k, Neg(j)), Natural))))"
   ]
  },
  {
   "cell_type": "code",
   "execution_count": 3,
   "metadata": {},
   "outputs": [
    {
     "name": "stdout",
     "output_type": "stream",
     "text": [
      "Passed sanity check: expr matches stored_expr\n"
     ]
    }
   ],
   "source": [
    "# check that the built expression is the same as the stored expression\n",
    "assert expr == stored_expr\n",
    "assert expr._style_id == stored_expr._style_id\n",
    "print(\"Passed sanity check: expr matches stored_expr\")"
   ]
  },
  {
   "cell_type": "code",
   "execution_count": 4,
   "metadata": {},
   "outputs": [
    {
     "name": "stdout",
     "output_type": "stream",
     "text": [
      "\\left(f, i, j, k\\right) \\mapsto \\left\\{\\begin{array}{c} \\left(f(i), \\ldots, f(k)\\right) =  \\\\ \\left(f(i), \\ldots, f(j), f(j + 1), \\ldots, f(k)\\right) \\end{array} \\textrm{ if } \\left(\\left(j + 1\\right) - i\\right) \\in \\mathbb{N} ,  \\left(k - j\\right) \\in \\mathbb{N}\\right..\n"
     ]
    }
   ],
   "source": [
    "# Show the LaTeX representation of the expression for convenience if you need it.\n",
    "print(expr.latex())"
   ]
  },
  {
   "cell_type": "code",
   "execution_count": 5,
   "metadata": {},
   "outputs": [
    {
     "data": {
      "text/html": [
       "<table><tr><th>&nbsp;</th><th>core type</th><th>sub-expressions</th><th>expression</th></tr>\n",
       "<tr><td>0</td><td>Lambda</td><td>parameters:&nbsp;1<br>body:&nbsp;2<br></td><td><a class=\"ProveItLink\" href=\"expr.ipynb\"><img src=\"expr.png\" style=\"display:inline;vertical-align:middle;\" /></a></td></tr>\n",
       "<tr><td>1</td><td>ExprTuple</td><td>26, 34, 36, 30</td><td><a class=\"ProveItLink\" href=\"../481d07b6e3c02a4eb22b8f4d9f33046768d218ea0/expr.ipynb\"><img src=\"../481d07b6e3c02a4eb22b8f4d9f33046768d218ea0/expr.png\" style=\"display:inline;vertical-align:middle;\" /></a></td></tr>\n",
       "<tr><td>2</td><td>Conditional</td><td>value:&nbsp;3<br>condition:&nbsp;4<br></td><td><a class=\"ProveItLink\" href=\"../4d60eaca701a788031356c720b917c6215cc80a00/expr.ipynb\"><img src=\"../4d60eaca701a788031356c720b917c6215cc80a00/expr.png\" style=\"display:inline;vertical-align:middle;\" /></a></td></tr>\n",
       "<tr><td>3</td><td>Operation</td><td>operator:&nbsp;5<br>operands:&nbsp;6<br></td><td><a class=\"ProveItLink\" href=\"../../../../__pv_it/common/45525cc1eb9a683322b48f6a86d6ee1fca6f4d440/expr.ipynb\"><img src=\"../../../../__pv_it/common/45525cc1eb9a683322b48f6a86d6ee1fca6f4d440/expr.png\" style=\"display:inline;vertical-align:middle;\" /></a></td></tr>\n",
       "<tr><td>4</td><td>Operation</td><td>operator:&nbsp;7<br>operands:&nbsp;8<br></td><td><a class=\"ProveItLink\" href=\"../d8b791830cc5e197a2a0d69ffff6e1e7d69e138d0/expr.ipynb\"><img src=\"../d8b791830cc5e197a2a0d69ffff6e1e7d69e138d0/expr.png\" style=\"display:inline;vertical-align:middle;\" /></a></td></tr>\n",
       "<tr><td>5</td><td>Literal</td><td></td><td><a class=\"ProveItLink\" href=\"../../../../../logic/equality/__pv_it/common/fb96dc12b2aa8801dda64d0132b396c63d1502bb0/expr.ipynb\"><img src=\"../../../../../logic/equality/__pv_it/common/fb96dc12b2aa8801dda64d0132b396c63d1502bb0/expr.png\" style=\"display:inline;vertical-align:middle;\" /></a></td></tr>\n",
       "<tr><td>6</td><td>ExprTuple</td><td>9, 10</td><td><a class=\"ProveItLink\" href=\"../../../../__pv_it/common/83c2b591d9191a6016df80140942725b43aebb1c0/expr.ipynb\"><img src=\"../../../../__pv_it/common/83c2b591d9191a6016df80140942725b43aebb1c0/expr.png\" style=\"display:inline;vertical-align:middle;\" /></a></td></tr>\n",
       "<tr><td>7</td><td>Literal</td><td></td><td><a class=\"ProveItLink\" href=\"../../../../../logic/booleans/conjunction/__pv_it/common/42118ff318bd65d98b1393f64ce7c2269feef76e0/expr.ipynb\"><img src=\"../../../../../logic/booleans/conjunction/__pv_it/common/42118ff318bd65d98b1393f64ce7c2269feef76e0/expr.png\" style=\"display:inline;vertical-align:middle;\" /></a></td></tr>\n",
       "<tr><td>8</td><td>ExprTuple</td><td>11, 12</td><td><a class=\"ProveItLink\" href=\"../b7c0e845642ecb917d8ef433231d0c416ac8ef4a0/expr.ipynb\"><img src=\"../b7c0e845642ecb917d8ef433231d0c416ac8ef4a0/expr.png\" style=\"display:inline;vertical-align:middle;\" /></a></td></tr>\n",
       "<tr><td>9</td><td>ExprTuple</td><td>13</td><td><a class=\"ProveItLink\" href=\"../../../../__pv_it/common/78931ad2f01e4db12caa53a42e2ee67a70bfb6860/expr.ipynb\"><img src=\"../../../../__pv_it/common/78931ad2f01e4db12caa53a42e2ee67a70bfb6860/expr.png\" style=\"display:inline;vertical-align:middle;\" /></a></td></tr>\n",
       "<tr><td>10</td><td>ExprTuple</td><td>14, 15</td><td><a class=\"ProveItLink\" href=\"../../../../__pv_it/common/435f30568542fcf1c03983b9b75053106edb1bca0/expr.ipynb\"><img src=\"../../../../__pv_it/common/435f30568542fcf1c03983b9b75053106edb1bca0/expr.png\" style=\"display:inline;vertical-align:middle;\" /></a></td></tr>\n",
       "<tr><td>11</td><td>Operation</td><td>operator:&nbsp;17<br>operands:&nbsp;16<br></td><td><a class=\"ProveItLink\" href=\"../156e173cad1e47c00ff4a4bff6e1c5bfa195d1390/expr.ipynb\"><img src=\"../156e173cad1e47c00ff4a4bff6e1c5bfa195d1390/expr.png\" style=\"display:inline;vertical-align:middle;\" /></a></td></tr>\n",
       "<tr><td>12</td><td>Operation</td><td>operator:&nbsp;17<br>operands:&nbsp;18<br></td><td><a class=\"ProveItLink\" href=\"../bed58942934d599b4489a022f333c8dae05ecb1d0/expr.ipynb\"><img src=\"../bed58942934d599b4489a022f333c8dae05ecb1d0/expr.png\" style=\"display:inline;vertical-align:middle;\" /></a></td></tr>\n",
       "<tr><td>13</td><td>ExprRange</td><td>lambda_map:&nbsp;19<br>start_index:&nbsp;34<br>end_index:&nbsp;30<br></td><td><a class=\"ProveItLink\" href=\"../../../../__pv_it/common/bf92588fc79b8b9686fc761a06a57f46d2a289e00/expr.ipynb\"><img src=\"../../../../__pv_it/common/bf92588fc79b8b9686fc761a06a57f46d2a289e00/expr.png\" style=\"display:inline;vertical-align:middle;\" /></a></td></tr>\n",
       "<tr><td>14</td><td>ExprRange</td><td>lambda_map:&nbsp;19<br>start_index:&nbsp;34<br>end_index:&nbsp;36<br></td><td><a class=\"ProveItLink\" href=\"../../../../__pv_it/common/3d9a87ffd4be36627be73e54e63e856525119e8f0/expr.ipynb\"><img src=\"../../../../__pv_it/common/3d9a87ffd4be36627be73e54e63e856525119e8f0/expr.png\" style=\"display:inline;vertical-align:middle;\" /></a></td></tr>\n",
       "<tr><td>15</td><td>ExprRange</td><td>lambda_map:&nbsp;19<br>start_index:&nbsp;28<br>end_index:&nbsp;30<br></td><td><a class=\"ProveItLink\" href=\"../../../../__pv_it/common/5a85871a52b2b265e9c4d84d24945ee028d864760/expr.ipynb\"><img src=\"../../../../__pv_it/common/5a85871a52b2b265e9c4d84d24945ee028d864760/expr.png\" style=\"display:inline;vertical-align:middle;\" /></a></td></tr>\n",
       "<tr><td>16</td><td>ExprTuple</td><td>20, 22</td><td><a class=\"ProveItLink\" href=\"../96f0c5e89c8acea5398edf21a9e297982c7eda350/expr.ipynb\"><img src=\"../96f0c5e89c8acea5398edf21a9e297982c7eda350/expr.png\" style=\"display:inline;vertical-align:middle;\" /></a></td></tr>\n",
       "<tr><td>17</td><td>Literal</td><td></td><td><a class=\"ProveItLink\" href=\"../../../../../logic/sets/membership/__pv_it/common/477487d8796864d23d5810f83761435f25167f690/expr.ipynb\"><img src=\"../../../../../logic/sets/membership/__pv_it/common/477487d8796864d23d5810f83761435f25167f690/expr.png\" style=\"display:inline;vertical-align:middle;\" /></a></td></tr>\n",
       "<tr><td>18</td><td>ExprTuple</td><td>21, 22</td><td><a class=\"ProveItLink\" href=\"../8f142d5e4585263960373c4a6d4dd683c740114f0/expr.ipynb\"><img src=\"../8f142d5e4585263960373c4a6d4dd683c740114f0/expr.png\" style=\"display:inline;vertical-align:middle;\" /></a></td></tr>\n",
       "<tr><td>19</td><td>Lambda</td><td>parameter:&nbsp;27<br>body:&nbsp;23<br></td><td><a class=\"ProveItLink\" href=\"../../../../__pv_it/common/49704c41a9c4f8fed48d37ee4f0d99179dd65e120/expr.ipynb\"><img src=\"../../../../__pv_it/common/49704c41a9c4f8fed48d37ee4f0d99179dd65e120/expr.png\" style=\"display:inline;vertical-align:middle;\" /></a></td></tr>\n",
       "<tr><td>20</td><td>Operation</td><td>operator:&nbsp;32<br>operands:&nbsp;24<br></td><td><a class=\"ProveItLink\" href=\"../b3602b51d32de0fe68cc4e239fcd529a37e520430/expr.ipynb\"><img src=\"../b3602b51d32de0fe68cc4e239fcd529a37e520430/expr.png\" style=\"display:inline;vertical-align:middle;\" /></a></td></tr>\n",
       "<tr><td>21</td><td>Operation</td><td>operator:&nbsp;32<br>operands:&nbsp;25<br></td><td><a class=\"ProveItLink\" href=\"../bffd75977857e1fd265107b3905b5cd6a68acc6b0/expr.ipynb\"><img src=\"../bffd75977857e1fd265107b3905b5cd6a68acc6b0/expr.png\" style=\"display:inline;vertical-align:middle;\" /></a></td></tr>\n",
       "<tr><td>22</td><td>Literal</td><td></td><td><a class=\"ProveItLink\" href=\"../../../../../numbers/number_sets/natural_numbers/__pv_it/common/8b7c321957f52ed3b05b36af612eeae4fa4783bc0/expr.ipynb\"><img src=\"../../../../../numbers/number_sets/natural_numbers/__pv_it/common/8b7c321957f52ed3b05b36af612eeae4fa4783bc0/expr.png\" style=\"display:inline;vertical-align:middle;\" /></a></td></tr>\n",
       "<tr><td>23</td><td>Operation</td><td>operator:&nbsp;26<br>operand:&nbsp;27<br></td><td><a class=\"ProveItLink\" href=\"../../../../../__pv_it/common/4c8d0743cd9cbb7082cfd21cb457a06c7998dd150/expr.ipynb\"><img src=\"../../../../../__pv_it/common/4c8d0743cd9cbb7082cfd21cb457a06c7998dd150/expr.png\" style=\"display:inline;vertical-align:middle;\" /></a></td></tr>\n",
       "<tr><td>24</td><td>ExprTuple</td><td>28, 29</td><td><a class=\"ProveItLink\" href=\"../44c884a08d137e1073fd6a0ea973010f4d89e0880/expr.ipynb\"><img src=\"../44c884a08d137e1073fd6a0ea973010f4d89e0880/expr.png\" style=\"display:inline;vertical-align:middle;\" /></a></td></tr>\n",
       "<tr><td>25</td><td>ExprTuple</td><td>30, 31</td><td><a class=\"ProveItLink\" href=\"../fb411a4a0388ab74ac4506ce6b7cb856aa1888790/expr.ipynb\"><img src=\"../fb411a4a0388ab74ac4506ce6b7cb856aa1888790/expr.png\" style=\"display:inline;vertical-align:middle;\" /></a></td></tr>\n",
       "<tr><td>26</td><td>Variable</td><td></td><td><a class=\"ProveItLink\" href=\"../../../../../__pv_it/common/01b6dbb444a31fc38af4c2379badef6c75b363710/expr.ipynb\"><img src=\"../../../../../__pv_it/common/01b6dbb444a31fc38af4c2379badef6c75b363710/expr.png\" style=\"display:inline;vertical-align:middle;\" /></a></td></tr>\n",
       "<tr><td>27</td><td>Variable</td><td></td><td><a class=\"ProveItLink\" href=\"../../../../../__pv_it/common/c06c606ec12678c58933ac85412ecadc2ae28be60/expr.ipynb\"><img src=\"../../../../../__pv_it/common/c06c606ec12678c58933ac85412ecadc2ae28be60/expr.png\" style=\"display:inline;vertical-align:middle;\" /></a></td></tr>\n",
       "<tr><td>28</td><td>Operation</td><td>operator:&nbsp;32<br>operands:&nbsp;33<br></td><td><a class=\"ProveItLink\" href=\"../../../../__pv_it/common/b70930439f623bf29327b809b7a7535698b7f7e40/expr.ipynb\"><img src=\"../../../../__pv_it/common/b70930439f623bf29327b809b7a7535698b7f7e40/expr.png\" style=\"display:inline;vertical-align:middle;\" /></a></td></tr>\n",
       "<tr><td>29</td><td>Operation</td><td>operator:&nbsp;35<br>operand:&nbsp;34<br></td><td><a class=\"ProveItLink\" href=\"../../../../__pv_it/common/921f21683d6acb91084eedf132b7cf0feab52de00/expr.ipynb\"><img src=\"../../../../__pv_it/common/921f21683d6acb91084eedf132b7cf0feab52de00/expr.png\" style=\"display:inline;vertical-align:middle;\" /></a></td></tr>\n",
       "<tr><td>30</td><td>Variable</td><td></td><td><a class=\"ProveItLink\" href=\"../../../../../__pv_it/common/63b7c64bf9ec7a04ecc396c7a1670f3f12fb59490/expr.ipynb\"><img src=\"../../../../../__pv_it/common/63b7c64bf9ec7a04ecc396c7a1670f3f12fb59490/expr.png\" style=\"display:inline;vertical-align:middle;\" /></a></td></tr>\n",
       "<tr><td>31</td><td>Operation</td><td>operator:&nbsp;35<br>operand:&nbsp;36<br></td><td><a class=\"ProveItLink\" href=\"../../../../__pv_it/common/48cb85836b6be59b320941a02fa935a4a528cdd20/expr.ipynb\"><img src=\"../../../../__pv_it/common/48cb85836b6be59b320941a02fa935a4a528cdd20/expr.png\" style=\"display:inline;vertical-align:middle;\" /></a></td></tr>\n",
       "<tr><td>32</td><td>Literal</td><td></td><td><a class=\"ProveItLink\" href=\"../../../../../numbers/addition/__pv_it/common/4b7effaab3619a1c2c38fe2dee8601df8ec714590/expr.ipynb\"><img src=\"../../../../../numbers/addition/__pv_it/common/4b7effaab3619a1c2c38fe2dee8601df8ec714590/expr.png\" style=\"display:inline;vertical-align:middle;\" /></a></td></tr>\n",
       "<tr><td>33</td><td>ExprTuple</td><td>36, 37</td><td><a class=\"ProveItLink\" href=\"../../../../__pv_it/common/d00d31a0b619247566ffcfb37d559e2c8c5236580/expr.ipynb\"><img src=\"../../../../__pv_it/common/d00d31a0b619247566ffcfb37d559e2c8c5236580/expr.png\" style=\"display:inline;vertical-align:middle;\" /></a></td></tr>\n",
       "<tr><td>34</td><td>Variable</td><td></td><td><a class=\"ProveItLink\" href=\"../../../../../__pv_it/common/ae955345c83abf786c3aff8681cd5465beae262d0/expr.ipynb\"><img src=\"../../../../../__pv_it/common/ae955345c83abf786c3aff8681cd5465beae262d0/expr.png\" style=\"display:inline;vertical-align:middle;\" /></a></td></tr>\n",
       "<tr><td>35</td><td>Literal</td><td></td><td><a class=\"ProveItLink\" href=\"../../../../../numbers/negation/__pv_it/common/221b3c4d1770ee9051b7c044c3f9ec61196fc34b0/expr.ipynb\"><img src=\"../../../../../numbers/negation/__pv_it/common/221b3c4d1770ee9051b7c044c3f9ec61196fc34b0/expr.png\" style=\"display:inline;vertical-align:middle;\" /></a></td></tr>\n",
       "<tr><td>36</td><td>Variable</td><td></td><td><a class=\"ProveItLink\" href=\"../../../../../__pv_it/common/1ed21df18baca2f42b561a7ffbf30a2743d594650/expr.ipynb\"><img src=\"../../../../../__pv_it/common/1ed21df18baca2f42b561a7ffbf30a2743d594650/expr.png\" style=\"display:inline;vertical-align:middle;\" /></a></td></tr>\n",
       "<tr><td>37</td><td>Literal</td><td></td><td><a class=\"ProveItLink\" href=\"../../../../../numbers/numerals/__pv_it/common/2778428c7f555b2bdc06aa0530bc142c6e6335100/expr.ipynb\"><img src=\"../../../../../numbers/numerals/__pv_it/common/2778428c7f555b2bdc06aa0530bc142c6e6335100/expr.png\" style=\"display:inline;vertical-align:middle;\" /></a></td></tr>\n",
       "</table>\n"
      ],
      "text/plain": [
       "0. (f, i, j, k) -> {(f(i), ..f(a).., f(k)) =  \\\\ (f(i), ..f(a).., f(j), f(j + 1), ..f(a).., f(k)) if ((j + 1) - i) in Natural ,  (k - j) in Natural.\n",
       "   core type: Lambda\n",
       "   parameters: 1\\n   body: 2\n",
       "1. (f, i, j, k)\n",
       "   core type: ExprTuple\n",
       "   sub-expressions: 26, 34, 36, 30\n",
       "2. {(f(i), ..f(a).., f(k)) =  \\\\ (f(i), ..f(a).., f(j), f(j + 1), ..f(a).., f(k)) if ((j + 1) - i) in Natural ,  (k - j) in Natural.\n",
       "   core type: Conditional\n",
       "   value: 3\n",
       "   condition: 4\n",
       "3. (f(i), ..f(a).., f(k)) =  \\\\ (f(i), ..f(a).., f(j), f(j + 1), ..f(a).., f(k))\n",
       "   core type: Operation\n",
       "   operator: 5\n",
       "   operands: 6\n",
       "4. (((j + 1) - i) in Natural) and ((k - j) in Natural)\n",
       "   core type: Operation\n",
       "   operator: 7\n",
       "   operands: 8\n",
       "5. =\n",
       "   core type: Literal\n",
       "   sub-expressions: \n",
       "6. ((f(i), ..f(a).., f(k)), (f(i), ..f(a).., f(j), f(j + 1), ..f(a).., f(k)))\n",
       "   core type: ExprTuple\n",
       "   sub-expressions: 9, 10\n",
       "7. and\n",
       "   core type: Literal\n",
       "   sub-expressions: \n",
       "8. (((j + 1) - i) in Natural, (k - j) in Natural)\n",
       "   core type: ExprTuple\n",
       "   sub-expressions: 11, 12\n",
       "9. (f(i), ..f(a).., f(k))\n",
       "   core type: ExprTuple\n",
       "   sub-expressions: 13\n",
       "10. (f(i), ..f(a).., f(j), f(j + 1), ..f(a).., f(k))\n",
       "    core type: ExprTuple\n",
       "    sub-expressions: 14, 15\n",
       "11. ((j + 1) - i) in Natural\n",
       "    core type: Operation\n",
       "    operator: 17\n",
       "    operands: 16\n",
       "12. (k - j) in Natural\n",
       "    core type: Operation\n",
       "    operator: 17\n",
       "    operands: 18\n",
       "13. f(i), ..f(a).., f(k)\n",
       "    core type: ExprRange\n",
       "    lambda_map: 19\n",
       "    start_index: 34\n",
       "    end_index: 30\n",
       "14. f(i), ..f(a).., f(j)\n",
       "    core type: ExprRange\n",
       "    lambda_map: 19\n",
       "    start_index: 34\n",
       "    end_index: 36\n",
       "15. f(j + 1), ..f(a).., f(k)\n",
       "    core type: ExprRange\n",
       "    lambda_map: 19\n",
       "    start_index: 28\n",
       "    end_index: 30\n",
       "16. ((j + 1) - i, Natural)\n",
       "    core type: ExprTuple\n",
       "    sub-expressions: 20, 22\n",
       "17. in\n",
       "    core type: Literal\n",
       "    sub-expressions: \n",
       "18. (k - j, Natural)\n",
       "    core type: ExprTuple\n",
       "    sub-expressions: 21, 22\n",
       "19. a -> f(a)\n",
       "    core type: Lambda\n",
       "    parameter: 27\n",
       "    body: 23\n",
       "20. (j + 1) - i\n",
       "    core type: Operation\n",
       "    operator: 32\n",
       "    operands: 24\n",
       "21. k - j\n",
       "    core type: Operation\n",
       "    operator: 32\n",
       "    operands: 25\n",
       "22. Natural\n",
       "    core type: Literal\n",
       "    sub-expressions: \n",
       "23. f(a)\n",
       "    core type: Operation\n",
       "    operator: 26\n",
       "    operand: 27\n",
       "24. (j + 1, -i)\n",
       "    core type: ExprTuple\n",
       "    sub-expressions: 28, 29\n",
       "25. (k, -j)\n",
       "    core type: ExprTuple\n",
       "    sub-expressions: 30, 31\n",
       "26. f\n",
       "    core type: Variable\n",
       "    sub-expressions: \n",
       "27. a\n",
       "    core type: Variable\n",
       "    sub-expressions: \n",
       "28. j + 1\n",
       "    core type: Operation\n",
       "    operator: 32\n",
       "    operands: 33\n",
       "29. -i\n",
       "    core type: Operation\n",
       "    operator: 35\n",
       "    operand: 34\n",
       "30. k\n",
       "    core type: Variable\n",
       "    sub-expressions: \n",
       "31. -j\n",
       "    core type: Operation\n",
       "    operator: 35\n",
       "    operand: 36\n",
       "32. +\n",
       "    core type: Literal\n",
       "    sub-expressions: \n",
       "33. (j, 1)\n",
       "    core type: ExprTuple\n",
       "    sub-expressions: 36, 37\n",
       "34. i\n",
       "    core type: Variable\n",
       "    sub-expressions: \n",
       "35. -\n",
       "    core type: Literal\n",
       "    sub-expressions: \n",
       "36. j\n",
       "    core type: Variable\n",
       "    sub-expressions: \n",
       "37. 1\n",
       "    core type: Literal\n",
       "    sub-expressions: "
      ]
     },
     "execution_count": 5,
     "metadata": {},
     "output_type": "execute_result"
    }
   ],
   "source": [
    "# display the expression information\n",
    "expr.expr_info()"
   ]
  },
  {
   "cell_type": "code",
   "execution_count": null,
   "metadata": {},
   "outputs": [],
   "source": []
  }
 ],
 "metadata": {
  "kernelspec": {
   "display_name": "Python 3",
   "language": "python",
   "name": "python3"
  }
 },
 "nbformat": 4,
 "nbformat_minor": 0
}