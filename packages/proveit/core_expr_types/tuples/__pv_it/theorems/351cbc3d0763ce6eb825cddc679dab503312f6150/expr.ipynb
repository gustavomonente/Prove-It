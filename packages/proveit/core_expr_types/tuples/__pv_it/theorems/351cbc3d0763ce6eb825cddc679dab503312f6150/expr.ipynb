{
 "cells": [
  {
   "cell_type": "markdown",
   "metadata": {},
   "source": [
    "Expression of type <a class=\"ProveItLink\" href=\"../../../../../../../doc/html/api/proveit.Lambda.html\">Lambda</a>\n",
    "=======================\n",
    "# from the theory of <a class=\"ProveItLink\" href=\"../../../_theory_nbs_/theory.ipynb\">proveit.core_expr_types.tuples</a>"
   ]
  },
  {
   "cell_type": "code",
   "execution_count": 1,
   "metadata": {},
   "outputs": [],
   "source": [
    "import proveit\n",
    "# Automation is not needed when building an expression:\n",
    "proveit.defaults.automation = False # This will speed things up.\n",
    "proveit.defaults.inline_pngs = False # Makes files smaller.\n",
    "%load_expr # Load the stored expression as 'stored_expr'\n",
    "# import Expression classes needed to build the expression\n",
    "from proveit import Conditional, Lambda, i, j, n\n",
    "from proveit.core_expr_types import Len, f_1_to_n, i_to_j_len\n",
    "from proveit.core_expr_types.tuples import f_i_to_j__1_to_n\n",
    "from proveit.logic import Equals, Forall, InSet\n",
    "from proveit.numbers import Mult, Natural, NaturalPos"
   ]
  },
  {
   "cell_type": "code",
   "execution_count": 2,
   "metadata": {},
   "outputs": [
    {
     "data": {
      "text/html": [
       "<strong id=\"expr\">expr:</strong> <a class=\"ProveItLink\" href=\"expr.ipynb\"><img src=\"expr.png\" style=\"display:inline;vertical-align:middle;\" /></a><br>"
      ],
      "text/plain": [
       "expr: n -> {forall_{f_{1}, ..f_{_a}.., f_{n}, i, j | (j - i + 1) in Natural} (|(f_{1}(i), ..f_{1}(x).., f_{1}(j), ....f_{k}(i), ..f_{k}(x).., f_{k}(j)...., f_{n}(i), ..f_{n}(x).., f_{n}(j))| \\\\  = (n * (j - i + 1))) if n in NaturalPos."
      ]
     },
     "execution_count": 2,
     "metadata": {},
     "output_type": "execute_result"
    }
   ],
   "source": [
    "# build up the expression from sub-expressions\n",
    "expr = Lambda(n, Conditional(Forall([f_1_to_n, i, j], Equals(Len([f_i_to_j__1_to_n]), Mult(n, i_to_j_len)).with_wrapping_at(1), condition = InSet(i_to_j_len, Natural)), InSet(n, NaturalPos)))"
   ]
  },
  {
   "cell_type": "code",
   "execution_count": 3,
   "metadata": {},
   "outputs": [
    {
     "name": "stdout",
     "output_type": "stream",
     "text": [
      "Passed sanity check: expr matches stored_expr\n"
     ]
    }
   ],
   "source": [
    "# check that the built expression is the same as the stored expression\n",
    "assert expr == stored_expr\n",
    "assert expr._style_id == stored_expr._style_id\n",
    "print(\"Passed sanity check: expr matches stored_expr\")"
   ]
  },
  {
   "cell_type": "code",
   "execution_count": 4,
   "metadata": {},
   "outputs": [
    {
     "name": "stdout",
     "output_type": "stream",
     "text": [
      "n \\mapsto \\left\\{\\forall_{f_{1}, \\ldots, f_{n}, i, j~|~\\left(j - i + 1\\right) \\in \\mathbb{N}}~\\left(\\begin{array}{c} \\begin{array}{l} |\\left(f_{1}(i), \\ldots, f_{1}(j), \\ldots\\ldots, f_{n}(i), \\ldots, f_{n}(j)\\right)| \\\\  = \\left(n \\cdot \\left(j - i + 1\\right)\\right) \\end{array} \\end{array}\\right) \\textrm{ if } n \\in \\mathbb{N}^+\\right..\n"
     ]
    }
   ],
   "source": [
    "# Show the LaTeX representation of the expression for convenience if you need it.\n",
    "print(expr.latex())"
   ]
  },
  {
   "cell_type": "code",
   "execution_count": 5,
   "metadata": {},
   "outputs": [
    {
     "data": {
      "text/html": [
       "no style options"
      ],
      "text/plain": [
       "no style options"
      ]
     },
     "execution_count": 5,
     "metadata": {},
     "output_type": "execute_result"
    }
   ],
   "source": [
    "expr.style_options()"
   ]
  },
  {
   "cell_type": "code",
   "execution_count": 6,
   "metadata": {},
   "outputs": [
    {
     "data": {
      "text/html": [
       "<table><tr><th>&nbsp;</th><th>core type</th><th>sub-expressions</th><th>expression</th></tr>\n",
       "<tr><td>0</td><td>Lambda</td><td>parameter:&nbsp;35<br>body:&nbsp;1<br></td><td><a class=\"ProveItLink\" href=\"expr.ipynb\"><img src=\"expr.png\" style=\"display:inline;vertical-align:middle;\" /></a></td></tr>\n",
       "<tr><td>1</td><td>Conditional</td><td>value:&nbsp;2<br>condition:&nbsp;3<br></td><td><a class=\"ProveItLink\" href=\"../664b63da472fa9710efadd15c97b94adf3f987c50/expr.ipynb\"><img src=\"../664b63da472fa9710efadd15c97b94adf3f987c50/expr.png\" style=\"display:inline;vertical-align:middle;\" /></a></td></tr>\n",
       "<tr><td>2</td><td>Operation</td><td>operator:&nbsp;4<br>operand:&nbsp;7<br></td><td><a class=\"ProveItLink\" href=\"../edfc7f1ca869d2474a550a4f72c82df7349da8b10/expr.ipynb\"><img src=\"../edfc7f1ca869d2474a550a4f72c82df7349da8b10/expr.png\" style=\"display:inline;vertical-align:middle;\" /></a></td></tr>\n",
       "<tr><td>3</td><td>Operation</td><td>operator:&nbsp;17<br>operands:&nbsp;6<br></td><td><a class=\"ProveItLink\" href=\"../ae59bd0f03e1fa8f7acebab16a13247bdc6eea470/expr.ipynb\"><img src=\"../ae59bd0f03e1fa8f7acebab16a13247bdc6eea470/expr.png\" style=\"display:inline;vertical-align:middle;\" /></a></td></tr>\n",
       "<tr><td>4</td><td>Literal</td><td></td><td><a class=\"ProveItLink\" href=\"../../../../../logic/booleans/quantification/universality/__pv_it/common/684d35ba98fcbf8ca5011f865e530a51e77730630/expr.ipynb\"><img src=\"../../../../../logic/booleans/quantification/universality/__pv_it/common/684d35ba98fcbf8ca5011f865e530a51e77730630/expr.png\" style=\"display:inline;vertical-align:middle;\" /></a></td></tr>\n",
       "<tr><td>5</td><td>ExprTuple</td><td>7</td><td><a class=\"ProveItLink\" href=\"../3522543151a2350f0aa1f59c57b2bb0be234db450/expr.ipynb\"><img src=\"../3522543151a2350f0aa1f59c57b2bb0be234db450/expr.png\" style=\"display:inline;vertical-align:middle;\" /></a></td></tr>\n",
       "<tr><td>6</td><td>ExprTuple</td><td>35, 8</td><td><a class=\"ProveItLink\" href=\"../080dd91cc3570be1095df8a1115684c8dda0284e0/expr.ipynb\"><img src=\"../080dd91cc3570be1095df8a1115684c8dda0284e0/expr.png\" style=\"display:inline;vertical-align:middle;\" /></a></td></tr>\n",
       "<tr><td>7</td><td>Lambda</td><td>parameters:&nbsp;9<br>body:&nbsp;10<br></td><td><a class=\"ProveItLink\" href=\"../945a0102648a0ba347444cb7c8e333ffc876a01d0/expr.ipynb\"><img src=\"../945a0102648a0ba347444cb7c8e333ffc876a01d0/expr.png\" style=\"display:inline;vertical-align:middle;\" /></a></td></tr>\n",
       "<tr><td>8</td><td>Literal</td><td></td><td><a class=\"ProveItLink\" href=\"../../../../../numbers/number_sets/natural_numbers/__pv_it/common/a2a7252783c385c028dad802e97575c19e456b990/expr.ipynb\"><img src=\"../../../../../numbers/number_sets/natural_numbers/__pv_it/common/a2a7252783c385c028dad802e97575c19e456b990/expr.png\" style=\"display:inline;vertical-align:middle;\" /></a></td></tr>\n",
       "<tr><td>9</td><td>ExprTuple</td><td>11, 43, 42</td><td><a class=\"ProveItLink\" href=\"../54ccb915d85d10378211d7a5651101d3a6532a370/expr.ipynb\"><img src=\"../54ccb915d85d10378211d7a5651101d3a6532a370/expr.png\" style=\"display:inline;vertical-align:middle;\" /></a></td></tr>\n",
       "<tr><td>10</td><td>Conditional</td><td>value:&nbsp;12<br>condition:&nbsp;13<br></td><td><a class=\"ProveItLink\" href=\"../3cb038ccac44fd2d224b333bae9607825167c78c0/expr.ipynb\"><img src=\"../3cb038ccac44fd2d224b333bae9607825167c78c0/expr.png\" style=\"display:inline;vertical-align:middle;\" /></a></td></tr>\n",
       "<tr><td>11</td><td>ExprRange</td><td>lambda_map:&nbsp;14<br>start_index:&nbsp;37<br>end_index:&nbsp;35<br></td><td><a class=\"ProveItLink\" href=\"../../../../__pv_it/common/a1b9d8e169a89da3d6809269d7b702b0f3fb89910/expr.ipynb\"><img src=\"../../../../__pv_it/common/a1b9d8e169a89da3d6809269d7b702b0f3fb89910/expr.png\" style=\"display:inline;vertical-align:middle;\" /></a></td></tr>\n",
       "<tr><td>12</td><td>Operation</td><td>operator:&nbsp;15<br>operands:&nbsp;16<br></td><td><a class=\"ProveItLink\" href=\"../eb58c18f66f9a3b01ada6b6f77215332253caa190/expr.ipynb\"><img src=\"../eb58c18f66f9a3b01ada6b6f77215332253caa190/expr.png\" style=\"display:inline;vertical-align:middle;\" /></a></td></tr>\n",
       "<tr><td>13</td><td>Operation</td><td>operator:&nbsp;17<br>operands:&nbsp;18<br></td><td><a class=\"ProveItLink\" href=\"../e0250fb22b7a368a9af3612349f50b55a93e230e0/expr.ipynb\"><img src=\"../e0250fb22b7a368a9af3612349f50b55a93e230e0/expr.png\" style=\"display:inline;vertical-align:middle;\" /></a></td></tr>\n",
       "<tr><td>14</td><td>Lambda</td><td>parameter:&nbsp;28<br>body:&nbsp;19<br></td><td><a class=\"ProveItLink\" href=\"../../../../__pv_it/common/009224388a1d2e8c2d87110b542140089767b6dd0/expr.ipynb\"><img src=\"../../../../__pv_it/common/009224388a1d2e8c2d87110b542140089767b6dd0/expr.png\" style=\"display:inline;vertical-align:middle;\" /></a></td></tr>\n",
       "<tr><td>15</td><td>Literal</td><td></td><td><a class=\"ProveItLink\" href=\"../../../../../logic/equality/__pv_it/common/731dd3955b346c1320ed5c0ba7a618bcda61457d0/expr.ipynb\"><img src=\"../../../../../logic/equality/__pv_it/common/731dd3955b346c1320ed5c0ba7a618bcda61457d0/expr.png\" style=\"display:inline;vertical-align:middle;\" /></a></td></tr>\n",
       "<tr><td>16</td><td>ExprTuple</td><td>20, 21</td><td><a class=\"ProveItLink\" href=\"../3ad5afa1c2c952ed822b5cfe0e3a06de63d4b9600/expr.ipynb\"><img src=\"../3ad5afa1c2c952ed822b5cfe0e3a06de63d4b9600/expr.png\" style=\"display:inline;vertical-align:middle;\" /></a></td></tr>\n",
       "<tr><td>17</td><td>Literal</td><td></td><td><a class=\"ProveItLink\" href=\"../../../../../logic/sets/membership/__pv_it/common/7171deca84f71f47a6ec7696972d1632274a12880/expr.ipynb\"><img src=\"../../../../../logic/sets/membership/__pv_it/common/7171deca84f71f47a6ec7696972d1632274a12880/expr.png\" style=\"display:inline;vertical-align:middle;\" /></a></td></tr>\n",
       "<tr><td>18</td><td>ExprTuple</td><td>30, 22</td><td><a class=\"ProveItLink\" href=\"../3d54c1c30a9cf9c37981bfea7142a9a8700ef6910/expr.ipynb\"><img src=\"../3d54c1c30a9cf9c37981bfea7142a9a8700ef6910/expr.png\" style=\"display:inline;vertical-align:middle;\" /></a></td></tr>\n",
       "<tr><td>19</td><td>IndexedVar</td><td>variable:&nbsp;47<br>index:&nbsp;28<br></td><td><a class=\"ProveItLink\" href=\"../../../../__pv_it/common/f1e613bb24ef235f39f2b207d48d6db3d55d380a0/expr.ipynb\"><img src=\"../../../../__pv_it/common/f1e613bb24ef235f39f2b207d48d6db3d55d380a0/expr.png\" style=\"display:inline;vertical-align:middle;\" /></a></td></tr>\n",
       "<tr><td>20</td><td>Operation</td><td>operator:&nbsp;24<br>operand:&nbsp;29<br></td><td><a class=\"ProveItLink\" href=\"../f32ad7182d42eb1963c34b8bd6efbfcd8145cdfe0/expr.ipynb\"><img src=\"../f32ad7182d42eb1963c34b8bd6efbfcd8145cdfe0/expr.png\" style=\"display:inline;vertical-align:middle;\" /></a></td></tr>\n",
       "<tr><td>21</td><td>Operation</td><td>operator:&nbsp;26<br>operands:&nbsp;27<br></td><td><a class=\"ProveItLink\" href=\"../e6119c23387c55f63aef88024e511df0acad7b9d0/expr.ipynb\"><img src=\"../e6119c23387c55f63aef88024e511df0acad7b9d0/expr.png\" style=\"display:inline;vertical-align:middle;\" /></a></td></tr>\n",
       "<tr><td>22</td><td>Literal</td><td></td><td><a class=\"ProveItLink\" href=\"../../../../../numbers/number_sets/natural_numbers/__pv_it/common/85c8b43c90a7392ebb5459360d343dfa7c7408b50/expr.ipynb\"><img src=\"../../../../../numbers/number_sets/natural_numbers/__pv_it/common/85c8b43c90a7392ebb5459360d343dfa7c7408b50/expr.png\" style=\"display:inline;vertical-align:middle;\" /></a></td></tr>\n",
       "<tr><td>23</td><td>ExprTuple</td><td>28</td><td><a class=\"ProveItLink\" href=\"../../../../__pv_it/common/ecf50ade416ab41c42c9f4e777b4c862cd9469670/expr.ipynb\"><img src=\"../../../../__pv_it/common/ecf50ade416ab41c42c9f4e777b4c862cd9469670/expr.png\" style=\"display:inline;vertical-align:middle;\" /></a></td></tr>\n",
       "<tr><td>24</td><td>Literal</td><td></td><td><a class=\"ProveItLink\" href=\"../../common/29138a46bfd9f58652485fe2e3b1ee46d90d773e0/expr.ipynb\"><img src=\"../../common/29138a46bfd9f58652485fe2e3b1ee46d90d773e0/expr.png\" style=\"display:inline;vertical-align:middle;\" /></a></td></tr>\n",
       "<tr><td>25</td><td>ExprTuple</td><td>29</td><td><a class=\"ProveItLink\" href=\"../f02de630af616bfd10464318e1c93b0283cf0fb80/expr.ipynb\"><img src=\"../f02de630af616bfd10464318e1c93b0283cf0fb80/expr.png\" style=\"display:inline;vertical-align:middle;\" /></a></td></tr>\n",
       "<tr><td>26</td><td>Literal</td><td></td><td><a class=\"ProveItLink\" href=\"../../../../../numbers/multiplication/__pv_it/common/c57d60974865e78d434abd3ff22c405685c80ade0/expr.ipynb\"><img src=\"../../../../../numbers/multiplication/__pv_it/common/c57d60974865e78d434abd3ff22c405685c80ade0/expr.png\" style=\"display:inline;vertical-align:middle;\" /></a></td></tr>\n",
       "<tr><td>27</td><td>ExprTuple</td><td>35, 30</td><td><a class=\"ProveItLink\" href=\"../44f19313e7650f335767ed81a5d05611ce56a77d0/expr.ipynb\"><img src=\"../44f19313e7650f335767ed81a5d05611ce56a77d0/expr.png\" style=\"display:inline;vertical-align:middle;\" /></a></td></tr>\n",
       "<tr><td>28</td><td>Variable</td><td></td><td><a class=\"ProveItLink\" href=\"../../../../__pv_it/common/9e6d9d5d7eeb0342cf5bca68def0eb165a1a9bb10/expr.ipynb\"><img src=\"../../../../__pv_it/common/9e6d9d5d7eeb0342cf5bca68def0eb165a1a9bb10/expr.png\" style=\"display:inline;vertical-align:middle;\" /></a></td></tr>\n",
       "<tr><td>29</td><td>ExprTuple</td><td>31</td><td><a class=\"ProveItLink\" href=\"../b8c6152305887274bd403ac08988e964f4209ab30/expr.ipynb\"><img src=\"../b8c6152305887274bd403ac08988e964f4209ab30/expr.png\" style=\"display:inline;vertical-align:middle;\" /></a></td></tr>\n",
       "<tr><td>30</td><td>Operation</td><td>operator:&nbsp;32<br>operands:&nbsp;33<br></td><td><a class=\"ProveItLink\" href=\"../../../../__pv_it/common/4b5a578b772064c63150ea13c0bba626a3d05eff0/expr.ipynb\"><img src=\"../../../../__pv_it/common/4b5a578b772064c63150ea13c0bba626a3d05eff0/expr.png\" style=\"display:inline;vertical-align:middle;\" /></a></td></tr>\n",
       "<tr><td>31</td><td>ExprRange</td><td>lambda_map:&nbsp;34<br>start_index:&nbsp;37<br>end_index:&nbsp;35<br></td><td><a class=\"ProveItLink\" href=\"../../common/8559282606f14b871a3ba4edb56faccbb0d1319d0/expr.ipynb\"><img src=\"../../common/8559282606f14b871a3ba4edb56faccbb0d1319d0/expr.png\" style=\"display:inline;vertical-align:middle;\" /></a></td></tr>\n",
       "<tr><td>32</td><td>Literal</td><td></td><td><a class=\"ProveItLink\" href=\"../../../../../numbers/addition/__pv_it/common/1f38fe5cce441387feef296e2c0a2eac260bb4f30/expr.ipynb\"><img src=\"../../../../../numbers/addition/__pv_it/common/1f38fe5cce441387feef296e2c0a2eac260bb4f30/expr.png\" style=\"display:inline;vertical-align:middle;\" /></a></td></tr>\n",
       "<tr><td>33</td><td>ExprTuple</td><td>42, 36, 37</td><td><a class=\"ProveItLink\" href=\"../../../../__pv_it/common/efec7cc2873d78f5f8ead71c8b321ecd8ecfacb30/expr.ipynb\"><img src=\"../../../../__pv_it/common/efec7cc2873d78f5f8ead71c8b321ecd8ecfacb30/expr.png\" style=\"display:inline;vertical-align:middle;\" /></a></td></tr>\n",
       "<tr><td>34</td><td>Lambda</td><td>parameter:&nbsp;50<br>body:&nbsp;38<br></td><td><a class=\"ProveItLink\" href=\"../../common/003edda03ec8279bfd4d8b7029c631b198c73e9d0/expr.ipynb\"><img src=\"../../common/003edda03ec8279bfd4d8b7029c631b198c73e9d0/expr.png\" style=\"display:inline;vertical-align:middle;\" /></a></td></tr>\n",
       "<tr><td>35</td><td>Variable</td><td></td><td><a class=\"ProveItLink\" href=\"../../../../../__pv_it/common/6165c9bb82ce3c7097cdba4440a1aeeb6eaca8a40/expr.ipynb\"><img src=\"../../../../../__pv_it/common/6165c9bb82ce3c7097cdba4440a1aeeb6eaca8a40/expr.png\" style=\"display:inline;vertical-align:middle;\" /></a></td></tr>\n",
       "<tr><td>36</td><td>Operation</td><td>operator:&nbsp;39<br>operand:&nbsp;43<br></td><td><a class=\"ProveItLink\" href=\"../../../../__pv_it/common/309cf9a0d8815deace91b753264f18a87f6a59340/expr.ipynb\"><img src=\"../../../../__pv_it/common/309cf9a0d8815deace91b753264f18a87f6a59340/expr.png\" style=\"display:inline;vertical-align:middle;\" /></a></td></tr>\n",
       "<tr><td>37</td><td>Literal</td><td></td><td><a class=\"ProveItLink\" href=\"../../../../../numbers/numerals/__pv_it/common/d278e359da0695d9652dd541d45264f93703e2e40/expr.ipynb\"><img src=\"../../../../../numbers/numerals/__pv_it/common/d278e359da0695d9652dd541d45264f93703e2e40/expr.png\" style=\"display:inline;vertical-align:middle;\" /></a></td></tr>\n",
       "<tr><td>38</td><td>ExprRange</td><td>lambda_map:&nbsp;41<br>start_index:&nbsp;43<br>end_index:&nbsp;42<br></td><td><a class=\"ProveItLink\" href=\"../../common/30dfd4b5e75ff959706b4f1dc4b045647f481c390/expr.ipynb\"><img src=\"../../common/30dfd4b5e75ff959706b4f1dc4b045647f481c390/expr.png\" style=\"display:inline;vertical-align:middle;\" /></a></td></tr>\n",
       "<tr><td>39</td><td>Literal</td><td></td><td><a class=\"ProveItLink\" href=\"../../../../../numbers/negation/__pv_it/common/31a69a5c76809537045e3884859f178d8d9c845c0/expr.ipynb\"><img src=\"../../../../../numbers/negation/__pv_it/common/31a69a5c76809537045e3884859f178d8d9c845c0/expr.png\" style=\"display:inline;vertical-align:middle;\" /></a></td></tr>\n",
       "<tr><td>40</td><td>ExprTuple</td><td>43</td><td><a class=\"ProveItLink\" href=\"../../../../__pv_it/common/6420c4d2520c27c1137ad22005291620057456040/expr.ipynb\"><img src=\"../../../../__pv_it/common/6420c4d2520c27c1137ad22005291620057456040/expr.png\" style=\"display:inline;vertical-align:middle;\" /></a></td></tr>\n",
       "<tr><td>41</td><td>Lambda</td><td>parameter:&nbsp;49<br>body:&nbsp;44<br></td><td><a class=\"ProveItLink\" href=\"../../common/4945e6117c49e8abbd2f954acdc3113f895a14090/expr.ipynb\"><img src=\"../../common/4945e6117c49e8abbd2f954acdc3113f895a14090/expr.png\" style=\"display:inline;vertical-align:middle;\" /></a></td></tr>\n",
       "<tr><td>42</td><td>Variable</td><td></td><td><a class=\"ProveItLink\" href=\"../../../../../__pv_it/common/5514cc9a63b9c2ed9b63934dd5e088ab0d4f10080/expr.ipynb\"><img src=\"../../../../../__pv_it/common/5514cc9a63b9c2ed9b63934dd5e088ab0d4f10080/expr.png\" style=\"display:inline;vertical-align:middle;\" /></a></td></tr>\n",
       "<tr><td>43</td><td>Variable</td><td></td><td><a class=\"ProveItLink\" href=\"../../../../../__pv_it/common/575a6156bb1c87c5beeaf38c302b5905ad57f5780/expr.ipynb\"><img src=\"../../../../../__pv_it/common/575a6156bb1c87c5beeaf38c302b5905ad57f5780/expr.png\" style=\"display:inline;vertical-align:middle;\" /></a></td></tr>\n",
       "<tr><td>44</td><td>Operation</td><td>operator:&nbsp;45<br>operand:&nbsp;49<br></td><td><a class=\"ProveItLink\" href=\"../../common/e94527cc7f06e09c479dbe43a2f7e98d48bf9e8a0/expr.ipynb\"><img src=\"../../common/e94527cc7f06e09c479dbe43a2f7e98d48bf9e8a0/expr.png\" style=\"display:inline;vertical-align:middle;\" /></a></td></tr>\n",
       "<tr><td>45</td><td>IndexedVar</td><td>variable:&nbsp;47<br>index:&nbsp;50<br></td><td><a class=\"ProveItLink\" href=\"../../../../__pv_it/common/3c462942beb9bf9160606176783dc70836870e4e0/expr.ipynb\"><img src=\"../../../../__pv_it/common/3c462942beb9bf9160606176783dc70836870e4e0/expr.png\" style=\"display:inline;vertical-align:middle;\" /></a></td></tr>\n",
       "<tr><td>46</td><td>ExprTuple</td><td>49</td><td><a class=\"ProveItLink\" href=\"../../../../../__pv_it/common/a49c8f25f899a16b1dbcf2257505d5464a9a7bb50/expr.ipynb\"><img src=\"../../../../../__pv_it/common/a49c8f25f899a16b1dbcf2257505d5464a9a7bb50/expr.png\" style=\"display:inline;vertical-align:middle;\" /></a></td></tr>\n",
       "<tr><td>47</td><td>Variable</td><td></td><td><a class=\"ProveItLink\" href=\"../../../../../__pv_it/common/c03f8781a34c741744d7dee8670bbb5419fe0ac50/expr.ipynb\"><img src=\"../../../../../__pv_it/common/c03f8781a34c741744d7dee8670bbb5419fe0ac50/expr.png\" style=\"display:inline;vertical-align:middle;\" /></a></td></tr>\n",
       "<tr><td>48</td><td>ExprTuple</td><td>50</td><td><a class=\"ProveItLink\" href=\"../../../../../__pv_it/common/797070a9ef2f9957a44157444d93fbe100e2d7430/expr.ipynb\"><img src=\"../../../../../__pv_it/common/797070a9ef2f9957a44157444d93fbe100e2d7430/expr.png\" style=\"display:inline;vertical-align:middle;\" /></a></td></tr>\n",
       "<tr><td>49</td><td>Variable</td><td></td><td><a class=\"ProveItLink\" href=\"../../../../../__pv_it/common/a2581dc5df71d9a30bad37de14965fa5fec97a240/expr.ipynb\"><img src=\"../../../../../__pv_it/common/a2581dc5df71d9a30bad37de14965fa5fec97a240/expr.png\" style=\"display:inline;vertical-align:middle;\" /></a></td></tr>\n",
       "<tr><td>50</td><td>Variable</td><td></td><td><a class=\"ProveItLink\" href=\"../../../../../__pv_it/common/b9fd37fc619babc74a6203459f110251586df6970/expr.ipynb\"><img src=\"../../../../../__pv_it/common/b9fd37fc619babc74a6203459f110251586df6970/expr.png\" style=\"display:inline;vertical-align:middle;\" /></a></td></tr>\n",
       "</table>\n"
      ],
      "text/plain": [
       "0. n -> {forall_{f_{1}, ..f_{_a}.., f_{n}, i, j | (j - i + 1) in Natural} (|(f_{1}(i), ..f_{1}(x).., f_{1}(j), ....f_{k}(i), ..f_{k}(x).., f_{k}(j)...., f_{n}(i), ..f_{n}(x).., f_{n}(j))| \\\\  = (n * (j - i + 1))) if n in NaturalPos.\n",
       "   core type: Lambda\n",
       "   parameter: 35\n",
       "   body: 1\n",
       "1. {forall_{f_{1}, ..f_{_a}.., f_{n}, i, j | (j - i + 1) in Natural} (|(f_{1}(i), ..f_{1}(x).., f_{1}(j), ....f_{k}(i), ..f_{k}(x).., f_{k}(j)...., f_{n}(i), ..f_{n}(x).., f_{n}(j))| \\\\  = (n * (j - i + 1))) if n in NaturalPos.\n",
       "   core type: Conditional\n",
       "   value: 2\n",
       "   condition: 3\n",
       "2. forall_{f_{1}, ..f_{_a}.., f_{n}, i, j | (j - i + 1) in Natural} (|(f_{1}(i), ..f_{1}(x).., f_{1}(j), ....f_{k}(i), ..f_{k}(x).., f_{k}(j)...., f_{n}(i), ..f_{n}(x).., f_{n}(j))| \\\\  = (n * (j - i + 1)))\n",
       "   core type: Operation\n",
       "   operator: 4\n",
       "   operand: 7\n",
       "3. n in NaturalPos\n",
       "   core type: Operation\n",
       "   operator: 17\n",
       "   operands: 6\n",
       "4. forall\n",
       "   core type: Literal\n",
       "   sub-expressions: \n",
       "5. ((f_{1}, ..f_{_a}.., f_{n}, i, j) -> {|(f_{1}(i), ..f_{1}(x).., f_{1}(j), ....f_{k}(i), ..f_{k}(x).., f_{k}(j)...., f_{n}(i), ..f_{n}(x).., f_{n}(j))| \\\\  = (n * (j - i + 1)) if (j - i + 1) in Natural.)\n",
       "   core type: ExprTuple\n",
       "   sub-expressions: 7\n",
       "6. (n, NaturalPos)\n",
       "   core type: ExprTuple\n",
       "   sub-expressions: 35, 8\n",
       "7. (f_{1}, ..f_{_a}.., f_{n}, i, j) -> {|(f_{1}(i), ..f_{1}(x).., f_{1}(j), ....f_{k}(i), ..f_{k}(x).., f_{k}(j)...., f_{n}(i), ..f_{n}(x).., f_{n}(j))| \\\\  = (n * (j - i + 1)) if (j - i + 1) in Natural.\n",
       "   core type: Lambda\n",
       "   parameters: 9\\n   body: 10\n",
       "8. NaturalPos\n",
       "   core type: Literal\n",
       "   sub-expressions: \n",
       "9. (f_{1}, ..f_{_a}.., f_{n}, i, j)\n",
       "   core type: ExprTuple\n",
       "   sub-expressions: 11, 43, 42\n",
       "10. {|(f_{1}(i), ..f_{1}(x).., f_{1}(j), ....f_{k}(i), ..f_{k}(x).., f_{k}(j)...., f_{n}(i), ..f_{n}(x).., f_{n}(j))| \\\\  = (n * (j - i + 1)) if (j - i + 1) in Natural.\n",
       "    core type: Conditional\n",
       "    value: 12\n",
       "    condition: 13\n",
       "11. f_{1}, ..f_{_a}.., f_{n}\n",
       "    core type: ExprRange\n",
       "    lambda_map: 14\n",
       "    start_index: 37\n",
       "    end_index: 35\n",
       "12. |(f_{1}(i), ..f_{1}(x).., f_{1}(j), ....f_{k}(i), ..f_{k}(x).., f_{k}(j)...., f_{n}(i), ..f_{n}(x).., f_{n}(j))| \\\\  = (n * (j - i + 1))\n",
       "    core type: Operation\n",
       "    operator: 15\n",
       "    operands: 16\n",
       "13. (j - i + 1) in Natural\n",
       "    core type: Operation\n",
       "    operator: 17\n",
       "    operands: 18\n",
       "14. _a -> f_{_a}\n",
       "    core type: Lambda\n",
       "    parameter: 28\n",
       "    body: 19\n",
       "15. =\n",
       "    core type: Literal\n",
       "    sub-expressions: \n",
       "16. (|(f_{1}(i), ..f_{1}(x).., f_{1}(j), ....f_{k}(i), ..f_{k}(x).., f_{k}(j)...., f_{n}(i), ..f_{n}(x).., f_{n}(j))|, n * (j - i + 1))\n",
       "    core type: ExprTuple\n",
       "    sub-expressions: 20, 21\n",
       "17. in\n",
       "    core type: Literal\n",
       "    sub-expressions: \n",
       "18. (j - i + 1, Natural)\n",
       "    core type: ExprTuple\n",
       "    sub-expressions: 30, 22\n",
       "19. f_{_a}\n",
       "    core type: IndexedVar\n",
       "variable: 47\n",
       "index: 28\n",
       "20. |(f_{1}(i), ..f_{1}(x).., f_{1}(j), ....f_{k}(i), ..f_{k}(x).., f_{k}(j)...., f_{n}(i), ..f_{n}(x).., f_{n}(j))|\n",
       "    core type: Operation\n",
       "    operator: 24\n",
       "    operand: 29\n",
       "21. n * (j - i + 1)\n",
       "    core type: Operation\n",
       "    operator: 26\n",
       "    operands: 27\n",
       "22. Natural\n",
       "    core type: Literal\n",
       "    sub-expressions: \n",
       "23. (_a)\n",
       "    core type: ExprTuple\n",
       "    sub-expressions: 28\n",
       "24. length\n",
       "    core type: Literal\n",
       "    sub-expressions: \n",
       "25. ((f_{1}(i), ..f_{1}(x).., f_{1}(j), ....f_{k}(i), ..f_{k}(x).., f_{k}(j)...., f_{n}(i), ..f_{n}(x).., f_{n}(j)))\n",
       "    core type: ExprTuple\n",
       "    sub-expressions: 29\n",
       "26. *\n",
       "    core type: Literal\n",
       "    sub-expressions: \n",
       "27. (n, j - i + 1)\n",
       "    core type: ExprTuple\n",
       "    sub-expressions: 35, 30\n",
       "28. _a\n",
       "    core type: Variable\n",
       "    sub-expressions: \n",
       "29. (f_{1}(i), ..f_{1}(x).., f_{1}(j), ....f_{k}(i), ..f_{k}(x).., f_{k}(j)...., f_{n}(i), ..f_{n}(x).., f_{n}(j))\n",
       "    core type: ExprTuple\n",
       "    sub-expressions: 31\n",
       "30. j - i + 1\n",
       "    core type: Operation\n",
       "    operator: 32\n",
       "    operands: 33\n",
       "31. f_{1}(i), ..f_{1}(x).., f_{1}(j), ....f_{k}(i), ..f_{k}(x).., f_{k}(j)...., f_{n}(i), ..f_{n}(x).., f_{n}(j)\n",
       "    core type: ExprRange\n",
       "    lambda_map: 34\n",
       "    start_index: 37\n",
       "    end_index: 35\n",
       "32. +\n",
       "    core type: Literal\n",
       "    sub-expressions: \n",
       "33. (j, -i, 1)\n",
       "    core type: ExprTuple\n",
       "    sub-expressions: 42, 36, 37\n",
       "34. k -> f_{k}(i), ..f_{k}(x).., f_{k}(j)\n",
       "    core type: Lambda\n",
       "    parameter: 50\n",
       "    body: 38\n",
       "35. n\n",
       "    core type: Variable\n",
       "    sub-expressions: \n",
       "36. -i\n",
       "    core type: Operation\n",
       "    operator: 39\n",
       "    operand: 43\n",
       "37. 1\n",
       "    core type: Literal\n",
       "    sub-expressions: \n",
       "38. f_{k}(i), ..f_{k}(x).., f_{k}(j)\n",
       "    core type: ExprRange\n",
       "    lambda_map: 41\n",
       "    start_index: 43\n",
       "    end_index: 42\n",
       "39. -\n",
       "    core type: Literal\n",
       "    sub-expressions: \n",
       "40. (i)\n",
       "    core type: ExprTuple\n",
       "    sub-expressions: 43\n",
       "41. x -> f_{k}(x)\n",
       "    core type: Lambda\n",
       "    parameter: 49\n",
       "    body: 44\n",
       "42. j\n",
       "    core type: Variable\n",
       "    sub-expressions: \n",
       "43. i\n",
       "    core type: Variable\n",
       "    sub-expressions: \n",
       "44. f_{k}(x)\n",
       "    core type: Operation\n",
       "    operator: 45\n",
       "    operand: 49\n",
       "45. f_{k}\n",
       "    core type: IndexedVar\n",
       "variable: 47\n",
       "index: 50\n",
       "46. (x)\n",
       "    core type: ExprTuple\n",
       "    sub-expressions: 49\n",
       "47. f\n",
       "    core type: Variable\n",
       "    sub-expressions: \n",
       "48. (k)\n",
       "    core type: ExprTuple\n",
       "    sub-expressions: 50\n",
       "49. x\n",
       "    core type: Variable\n",
       "    sub-expressions: \n",
       "50. k\n",
       "    core type: Variable\n",
       "    sub-expressions: "
      ]
     },
     "execution_count": 6,
     "metadata": {},
     "output_type": "execute_result"
    }
   ],
   "source": [
    "# display the expression information\n",
    "expr.expr_info()"
   ]
  },
  {
   "cell_type": "code",
   "execution_count": null,
   "metadata": {},
   "outputs": [],
   "source": []
  }
 ],
 "metadata": {
  "kernelspec": {
   "display_name": "Python 3",
   "language": "python",
   "name": "python3"
  }
 },
 "nbformat": 4,
 "nbformat_minor": 0
}