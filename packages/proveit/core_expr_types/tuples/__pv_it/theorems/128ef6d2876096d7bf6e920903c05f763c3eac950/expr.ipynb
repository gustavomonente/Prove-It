{
 "cells": [
  {
   "cell_type": "markdown",
   "metadata": {},
   "source": [
    "Expression of type <a class=\"ProveItLink\" href=\"../../../../../../../doc/html/api/proveit.ExprTuple.html\">ExprTuple</a>\n",
    "=======================\n",
    "# from the theory of <a class=\"ProveItLink\" href=\"../../../_theory_nbs_/theory.ipynb\">proveit.core_expr_types.tuples</a>"
   ]
  },
  {
   "cell_type": "code",
   "execution_count": 1,
   "metadata": {},
   "outputs": [],
   "source": [
    "import proveit\n",
    "# Automation is not needed when building an expression:\n",
    "proveit.defaults.automation = False # This will speed things up.\n",
    "proveit.defaults.inline_pngs = False # Makes files smaller.\n",
    "%load_expr # Load the stored expression as 'stored_expr'\n",
    "# import Expression classes needed to build the expression\n",
    "from proveit import Conditional, ExprTuple, Lambda\n",
    "from proveit.core_expr_types import merge_series_conditions, merge_series_equiv, x_0_to_jmi\n",
    "from proveit.logic import And"
   ]
  },
  {
   "cell_type": "code",
   "execution_count": 2,
   "metadata": {},
   "outputs": [
    {
     "data": {
      "text/html": [
       "<strong id=\"expr\">expr:</strong> <a class=\"ProveItLink\" href=\"expr.ipynb\"><img src=\"expr.png\" style=\"display:inline;vertical-align:middle;\" /></a><br>"
      ],
      "text/plain": [
       "expr: ((x_{0}, ..x_{i}.., x_{j - i}) -> {(x_{0}, ..x_{i}.., x_{j - i}) =  \\\\ (f(i), ..f(a).., f(j)) if (x_{0} = f(i + 0)) and ..(x_{k} = f(i + k)).. and (x_{j - i} = f(i + (j - i))).)"
      ]
     },
     "execution_count": 2,
     "metadata": {},
     "output_type": "execute_result"
    }
   ],
   "source": [
    "# build up the expression from sub-expressions\n",
    "expr = ExprTuple(Lambda([x_0_to_jmi], Conditional(merge_series_equiv, And(merge_series_conditions))))"
   ]
  },
  {
   "cell_type": "code",
   "execution_count": 3,
   "metadata": {},
   "outputs": [
    {
     "name": "stdout",
     "output_type": "stream",
     "text": [
      "Passed sanity check: expr matches stored_expr\n"
     ]
    }
   ],
   "source": [
    "# check that the built expression is the same as the stored expression\n",
    "assert expr == stored_expr\n",
    "assert expr._style_id == stored_expr._style_id\n",
    "print(\"Passed sanity check: expr matches stored_expr\")"
   ]
  },
  {
   "cell_type": "code",
   "execution_count": 4,
   "metadata": {},
   "outputs": [
    {
     "name": "stdout",
     "output_type": "stream",
     "text": [
      "\\left(\\left(x_{0}, \\ldots, x_{j - i}\\right) \\mapsto \\left\\{\\begin{array}{c} \\begin{array}{l} \\left(x_{0}, \\ldots, x_{j - i}\\right) =  \\\\ \\left(f(i), \\ldots, f(j)\\right) \\end{array} \\end{array} \\textrm{ if } \\left(x_{0} = f(i + 0)\\right) \\land \\ldots \\land \\left(x_{j - i} = f(i + \\left(j - i\\right))\\right)\\right..\\right)\n"
     ]
    }
   ],
   "source": [
    "# Show the LaTeX representation of the expression for convenience if you need it.\n",
    "print(expr.latex())"
   ]
  },
  {
   "cell_type": "code",
   "execution_count": 5,
   "metadata": {},
   "outputs": [
    {
     "data": {
      "text/html": [
       "no style options"
      ],
      "text/plain": [
       "no style options"
      ]
     },
     "execution_count": 5,
     "metadata": {},
     "output_type": "execute_result"
    }
   ],
   "source": [
    "expr.style_options()"
   ]
  },
  {
   "cell_type": "code",
   "execution_count": 6,
   "metadata": {},
   "outputs": [
    {
     "data": {
      "text/html": [
       "<table><tr><th>&nbsp;</th><th>core type</th><th>sub-expressions</th><th>expression</th></tr>\n",
       "<tr><td>0</td><td>ExprTuple</td><td>1</td><td><a class=\"ProveItLink\" href=\"expr.ipynb\"><img src=\"expr.png\" style=\"display:inline;vertical-align:middle;\" /></a></td></tr>\n",
       "<tr><td>1</td><td>Lambda</td><td>parameters:&nbsp;8<br>body:&nbsp;2<br></td><td><a class=\"ProveItLink\" href=\"../ff78be3b294600c3a9fe61bbe8037e27407a15540/expr.ipynb\"><img src=\"../ff78be3b294600c3a9fe61bbe8037e27407a15540/expr.png\" style=\"display:inline;vertical-align:middle;\" /></a></td></tr>\n",
       "<tr><td>2</td><td>Conditional</td><td>value:&nbsp;3<br>condition:&nbsp;4<br></td><td><a class=\"ProveItLink\" href=\"../6f3769bff91340f1513adaee0260223c4de3c2270/expr.ipynb\"><img src=\"../6f3769bff91340f1513adaee0260223c4de3c2270/expr.png\" style=\"display:inline;vertical-align:middle;\" /></a></td></tr>\n",
       "<tr><td>3</td><td>Operation</td><td>operator:&nbsp;22<br>operands:&nbsp;5<br></td><td><a class=\"ProveItLink\" href=\"../../../../__pv_it/common/e0e00c5a277630ecdf323d0ddf81cec575243d3f0/expr.ipynb\"><img src=\"../../../../__pv_it/common/e0e00c5a277630ecdf323d0ddf81cec575243d3f0/expr.png\" style=\"display:inline;vertical-align:middle;\" /></a></td></tr>\n",
       "<tr><td>4</td><td>Operation</td><td>operator:&nbsp;6<br>operands:&nbsp;7<br></td><td><a class=\"ProveItLink\" href=\"../dd09e5975e789f5a3acd6178078e5fe4ab078f2d0/expr.ipynb\"><img src=\"../dd09e5975e789f5a3acd6178078e5fe4ab078f2d0/expr.png\" style=\"display:inline;vertical-align:middle;\" /></a></td></tr>\n",
       "<tr><td>5</td><td>ExprTuple</td><td>8, 9</td><td><a class=\"ProveItLink\" href=\"../../../../__pv_it/common/284eb8d1531672bb77885fae1fbb4cbbc9622c5a0/expr.ipynb\"><img src=\"../../../../__pv_it/common/284eb8d1531672bb77885fae1fbb4cbbc9622c5a0/expr.png\" style=\"display:inline;vertical-align:middle;\" /></a></td></tr>\n",
       "<tr><td>6</td><td>Literal</td><td></td><td><a class=\"ProveItLink\" href=\"../../../../../logic/booleans/conjunction/__pv_it/common/26b94b53e70b1d77b70f0d9d4236347db37731060/expr.ipynb\"><img src=\"../../../../../logic/booleans/conjunction/__pv_it/common/26b94b53e70b1d77b70f0d9d4236347db37731060/expr.png\" style=\"display:inline;vertical-align:middle;\" /></a></td></tr>\n",
       "<tr><td>7</td><td>ExprTuple</td><td>10</td><td><a class=\"ProveItLink\" href=\"../14894cc2b8e9d4dbfe42115385698cab1368f1540/expr.ipynb\"><img src=\"../14894cc2b8e9d4dbfe42115385698cab1368f1540/expr.png\" style=\"display:inline;vertical-align:middle;\" /></a></td></tr>\n",
       "<tr><td>8</td><td>ExprTuple</td><td>11</td><td><a class=\"ProveItLink\" href=\"../../../../__pv_it/common/840ae9a2d087ee1f60849cb918be342a14c070870/expr.ipynb\"><img src=\"../../../../__pv_it/common/840ae9a2d087ee1f60849cb918be342a14c070870/expr.png\" style=\"display:inline;vertical-align:middle;\" /></a></td></tr>\n",
       "<tr><td>9</td><td>ExprTuple</td><td>12</td><td><a class=\"ProveItLink\" href=\"../../../../__pv_it/common/d314b34e93a9dd019b37fafe2e64f2174ebf938c0/expr.ipynb\"><img src=\"../../../../__pv_it/common/d314b34e93a9dd019b37fafe2e64f2174ebf938c0/expr.png\" style=\"display:inline;vertical-align:middle;\" /></a></td></tr>\n",
       "<tr><td>10</td><td>ExprRange</td><td>lambda_map:&nbsp;13<br>start_index:&nbsp;15<br>end_index:&nbsp;16<br></td><td><a class=\"ProveItLink\" href=\"../../../../__pv_it/common/50da1acb1a979f9023f543c3281ca786a5469bc90/expr.ipynb\"><img src=\"../../../../__pv_it/common/50da1acb1a979f9023f543c3281ca786a5469bc90/expr.png\" style=\"display:inline;vertical-align:middle;\" /></a></td></tr>\n",
       "<tr><td>11</td><td>ExprRange</td><td>lambda_map:&nbsp;14<br>start_index:&nbsp;15<br>end_index:&nbsp;16<br></td><td><a class=\"ProveItLink\" href=\"../../../../__pv_it/common/11072e614fd111266c5becfb96ed26b3394ad97f0/expr.ipynb\"><img src=\"../../../../__pv_it/common/11072e614fd111266c5becfb96ed26b3394ad97f0/expr.png\" style=\"display:inline;vertical-align:middle;\" /></a></td></tr>\n",
       "<tr><td>12</td><td>ExprRange</td><td>lambda_map:&nbsp;17<br>start_index:&nbsp;39<br>end_index:&nbsp;24<br></td><td><a class=\"ProveItLink\" href=\"../../../../__pv_it/common/dd03b52b7b3be2483eb03113135b55bf45652af00/expr.ipynb\"><img src=\"../../../../__pv_it/common/dd03b52b7b3be2483eb03113135b55bf45652af00/expr.png\" style=\"display:inline;vertical-align:middle;\" /></a></td></tr>\n",
       "<tr><td>13</td><td>Lambda</td><td>parameter:&nbsp;40<br>body:&nbsp;18<br></td><td><a class=\"ProveItLink\" href=\"../../../../__pv_it/common/b6b5ed8b4107d290e244ff3f010712abfa4564100/expr.ipynb\"><img src=\"../../../../__pv_it/common/b6b5ed8b4107d290e244ff3f010712abfa4564100/expr.png\" style=\"display:inline;vertical-align:middle;\" /></a></td></tr>\n",
       "<tr><td>14</td><td>Lambda</td><td>parameter:&nbsp;39<br>body:&nbsp;19<br></td><td><a class=\"ProveItLink\" href=\"../../../../__pv_it/common/5ac752ee2690533eefba3c7aa417256cfc973d6e0/expr.ipynb\"><img src=\"../../../../__pv_it/common/5ac752ee2690533eefba3c7aa417256cfc973d6e0/expr.png\" style=\"display:inline;vertical-align:middle;\" /></a></td></tr>\n",
       "<tr><td>15</td><td>Literal</td><td></td><td><a class=\"ProveItLink\" href=\"../../../../../numbers/numerals/__pv_it/common/c35fdf7268947ca3e24174d2909dc9d0a7f3aac60/expr.ipynb\"><img src=\"../../../../../numbers/numerals/__pv_it/common/c35fdf7268947ca3e24174d2909dc9d0a7f3aac60/expr.png\" style=\"display:inline;vertical-align:middle;\" /></a></td></tr>\n",
       "<tr><td>16</td><td>Operation</td><td>operator:&nbsp;37<br>operands:&nbsp;20<br></td><td><a class=\"ProveItLink\" href=\"../../../../__pv_it/common/05ed9436ecfb2c82a8574f59fec08ece86a528370/expr.ipynb\"><img src=\"../../../../__pv_it/common/05ed9436ecfb2c82a8574f59fec08ece86a528370/expr.png\" style=\"display:inline;vertical-align:middle;\" /></a></td></tr>\n",
       "<tr><td>17</td><td>Lambda</td><td>parameter:&nbsp;31<br>body:&nbsp;21<br></td><td><a class=\"ProveItLink\" href=\"../../../../__pv_it/common/09ed8cba4cb6053ff71bcbe5926287f2a89ca1850/expr.ipynb\"><img src=\"../../../../__pv_it/common/09ed8cba4cb6053ff71bcbe5926287f2a89ca1850/expr.png\" style=\"display:inline;vertical-align:middle;\" /></a></td></tr>\n",
       "<tr><td>18</td><td>Operation</td><td>operator:&nbsp;22<br>operands:&nbsp;23<br></td><td><a class=\"ProveItLink\" href=\"../../../../__pv_it/common/502e74ad329493c312a2f6117fd336a513107f900/expr.ipynb\"><img src=\"../../../../__pv_it/common/502e74ad329493c312a2f6117fd336a513107f900/expr.png\" style=\"display:inline;vertical-align:middle;\" /></a></td></tr>\n",
       "<tr><td>19</td><td>IndexedVar</td><td>variable:&nbsp;32<br>index:&nbsp;39<br></td><td><a class=\"ProveItLink\" href=\"../../../../__pv_it/common/3708fa6fd3d04458ab16eb7c4b059dc7522594760/expr.ipynb\"><img src=\"../../../../__pv_it/common/3708fa6fd3d04458ab16eb7c4b059dc7522594760/expr.png\" style=\"display:inline;vertical-align:middle;\" /></a></td></tr>\n",
       "<tr><td>20</td><td>ExprTuple</td><td>24, 25</td><td><a class=\"ProveItLink\" href=\"../../../../__pv_it/common/35062dbf1d705f45a65b940dca13566fbf70d7730/expr.ipynb\"><img src=\"../../../../__pv_it/common/35062dbf1d705f45a65b940dca13566fbf70d7730/expr.png\" style=\"display:inline;vertical-align:middle;\" /></a></td></tr>\n",
       "<tr><td>21</td><td>Operation</td><td>operator:&nbsp;34<br>operand:&nbsp;31<br></td><td><a class=\"ProveItLink\" href=\"../../../../../__pv_it/common/9ac5f21595b2ed44b42a15e8a4723b3ae344c0140/expr.ipynb\"><img src=\"../../../../../__pv_it/common/9ac5f21595b2ed44b42a15e8a4723b3ae344c0140/expr.png\" style=\"display:inline;vertical-align:middle;\" /></a></td></tr>\n",
       "<tr><td>22</td><td>Literal</td><td></td><td><a class=\"ProveItLink\" href=\"../../../../../logic/equality/__pv_it/common/731dd3955b346c1320ed5c0ba7a618bcda61457d0/expr.ipynb\"><img src=\"../../../../../logic/equality/__pv_it/common/731dd3955b346c1320ed5c0ba7a618bcda61457d0/expr.png\" style=\"display:inline;vertical-align:middle;\" /></a></td></tr>\n",
       "<tr><td>23</td><td>ExprTuple</td><td>27, 28</td><td><a class=\"ProveItLink\" href=\"../../../../__pv_it/common/63a9ec7713411d3dfa51f0679372c10d1b43885a0/expr.ipynb\"><img src=\"../../../../__pv_it/common/63a9ec7713411d3dfa51f0679372c10d1b43885a0/expr.png\" style=\"display:inline;vertical-align:middle;\" /></a></td></tr>\n",
       "<tr><td>24</td><td>Variable</td><td></td><td><a class=\"ProveItLink\" href=\"../../../../../__pv_it/common/5514cc9a63b9c2ed9b63934dd5e088ab0d4f10080/expr.ipynb\"><img src=\"../../../../../__pv_it/common/5514cc9a63b9c2ed9b63934dd5e088ab0d4f10080/expr.png\" style=\"display:inline;vertical-align:middle;\" /></a></td></tr>\n",
       "<tr><td>25</td><td>Operation</td><td>operator:&nbsp;29<br>operand:&nbsp;39<br></td><td><a class=\"ProveItLink\" href=\"../../../../__pv_it/common/309cf9a0d8815deace91b753264f18a87f6a59340/expr.ipynb\"><img src=\"../../../../__pv_it/common/309cf9a0d8815deace91b753264f18a87f6a59340/expr.png\" style=\"display:inline;vertical-align:middle;\" /></a></td></tr>\n",
       "<tr><td>26</td><td>ExprTuple</td><td>31</td><td><a class=\"ProveItLink\" href=\"../../../../../__pv_it/common/aeccce8d95479ba619df8522b7bd661732f6c68f0/expr.ipynb\"><img src=\"../../../../../__pv_it/common/aeccce8d95479ba619df8522b7bd661732f6c68f0/expr.png\" style=\"display:inline;vertical-align:middle;\" /></a></td></tr>\n",
       "<tr><td>27</td><td>IndexedVar</td><td>variable:&nbsp;32<br>index:&nbsp;40<br></td><td><a class=\"ProveItLink\" href=\"../../../../__pv_it/common/b4cf1dd248c1d411128ff619ce221efbe9c146e00/expr.ipynb\"><img src=\"../../../../__pv_it/common/b4cf1dd248c1d411128ff619ce221efbe9c146e00/expr.png\" style=\"display:inline;vertical-align:middle;\" /></a></td></tr>\n",
       "<tr><td>28</td><td>Operation</td><td>operator:&nbsp;34<br>operand:&nbsp;36<br></td><td><a class=\"ProveItLink\" href=\"../../../../__pv_it/common/5248498ea8320476066603e566c3231c818d65dd0/expr.ipynb\"><img src=\"../../../../__pv_it/common/5248498ea8320476066603e566c3231c818d65dd0/expr.png\" style=\"display:inline;vertical-align:middle;\" /></a></td></tr>\n",
       "<tr><td>29</td><td>Literal</td><td></td><td><a class=\"ProveItLink\" href=\"../../../../../numbers/negation/__pv_it/common/31a69a5c76809537045e3884859f178d8d9c845c0/expr.ipynb\"><img src=\"../../../../../numbers/negation/__pv_it/common/31a69a5c76809537045e3884859f178d8d9c845c0/expr.png\" style=\"display:inline;vertical-align:middle;\" /></a></td></tr>\n",
       "<tr><td>30</td><td>ExprTuple</td><td>39</td><td><a class=\"ProveItLink\" href=\"../../../../__pv_it/common/6420c4d2520c27c1137ad22005291620057456040/expr.ipynb\"><img src=\"../../../../__pv_it/common/6420c4d2520c27c1137ad22005291620057456040/expr.png\" style=\"display:inline;vertical-align:middle;\" /></a></td></tr>\n",
       "<tr><td>31</td><td>Variable</td><td></td><td><a class=\"ProveItLink\" href=\"../../../../../__pv_it/common/66c90e66682f107a881f2d666959f64e2e72ad750/expr.ipynb\"><img src=\"../../../../../__pv_it/common/66c90e66682f107a881f2d666959f64e2e72ad750/expr.png\" style=\"display:inline;vertical-align:middle;\" /></a></td></tr>\n",
       "<tr><td>32</td><td>Variable</td><td></td><td><a class=\"ProveItLink\" href=\"../../../../../__pv_it/common/a2581dc5df71d9a30bad37de14965fa5fec97a240/expr.ipynb\"><img src=\"../../../../../__pv_it/common/a2581dc5df71d9a30bad37de14965fa5fec97a240/expr.png\" style=\"display:inline;vertical-align:middle;\" /></a></td></tr>\n",
       "<tr><td>33</td><td>ExprTuple</td><td>40</td><td><a class=\"ProveItLink\" href=\"../../../../../__pv_it/common/797070a9ef2f9957a44157444d93fbe100e2d7430/expr.ipynb\"><img src=\"../../../../../__pv_it/common/797070a9ef2f9957a44157444d93fbe100e2d7430/expr.png\" style=\"display:inline;vertical-align:middle;\" /></a></td></tr>\n",
       "<tr><td>34</td><td>Variable</td><td></td><td><a class=\"ProveItLink\" href=\"../../../../../__pv_it/common/c03f8781a34c741744d7dee8670bbb5419fe0ac50/expr.ipynb\"><img src=\"../../../../../__pv_it/common/c03f8781a34c741744d7dee8670bbb5419fe0ac50/expr.png\" style=\"display:inline;vertical-align:middle;\" /></a></td></tr>\n",
       "<tr><td>35</td><td>ExprTuple</td><td>36</td><td><a class=\"ProveItLink\" href=\"../../../../__pv_it/common/8a775802cf6796cba5bf31493be44da3a33b584a0/expr.ipynb\"><img src=\"../../../../__pv_it/common/8a775802cf6796cba5bf31493be44da3a33b584a0/expr.png\" style=\"display:inline;vertical-align:middle;\" /></a></td></tr>\n",
       "<tr><td>36</td><td>Operation</td><td>operator:&nbsp;37<br>operands:&nbsp;38<br></td><td><a class=\"ProveItLink\" href=\"../../../../__pv_it/common/284889d1288f5ef9414c696c431cc923c7eb07c10/expr.ipynb\"><img src=\"../../../../__pv_it/common/284889d1288f5ef9414c696c431cc923c7eb07c10/expr.png\" style=\"display:inline;vertical-align:middle;\" /></a></td></tr>\n",
       "<tr><td>37</td><td>Literal</td><td></td><td><a class=\"ProveItLink\" href=\"../../../../../numbers/addition/__pv_it/common/1f38fe5cce441387feef296e2c0a2eac260bb4f30/expr.ipynb\"><img src=\"../../../../../numbers/addition/__pv_it/common/1f38fe5cce441387feef296e2c0a2eac260bb4f30/expr.png\" style=\"display:inline;vertical-align:middle;\" /></a></td></tr>\n",
       "<tr><td>38</td><td>ExprTuple</td><td>39, 40</td><td><a class=\"ProveItLink\" href=\"../../../../__pv_it/common/726eea49e32e0b0897464dee896530ca5ed6817d0/expr.ipynb\"><img src=\"../../../../__pv_it/common/726eea49e32e0b0897464dee896530ca5ed6817d0/expr.png\" style=\"display:inline;vertical-align:middle;\" /></a></td></tr>\n",
       "<tr><td>39</td><td>Variable</td><td></td><td><a class=\"ProveItLink\" href=\"../../../../../__pv_it/common/575a6156bb1c87c5beeaf38c302b5905ad57f5780/expr.ipynb\"><img src=\"../../../../../__pv_it/common/575a6156bb1c87c5beeaf38c302b5905ad57f5780/expr.png\" style=\"display:inline;vertical-align:middle;\" /></a></td></tr>\n",
       "<tr><td>40</td><td>Variable</td><td></td><td><a class=\"ProveItLink\" href=\"../../../../../__pv_it/common/b9fd37fc619babc74a6203459f110251586df6970/expr.ipynb\"><img src=\"../../../../../__pv_it/common/b9fd37fc619babc74a6203459f110251586df6970/expr.png\" style=\"display:inline;vertical-align:middle;\" /></a></td></tr>\n",
       "</table>\n"
      ],
      "text/plain": [
       "0. ((x_{0}, ..x_{i}.., x_{j - i}) -> {(x_{0}, ..x_{i}.., x_{j - i}) =  \\\\ (f(i), ..f(a).., f(j)) if (x_{0} = f(i + 0)) and ..(x_{k} = f(i + k)).. and (x_{j - i} = f(i + (j - i))).)\n",
       "   core type: ExprTuple\n",
       "   sub-expressions: 1\n",
       "1. (x_{0}, ..x_{i}.., x_{j - i}) -> {(x_{0}, ..x_{i}.., x_{j - i}) =  \\\\ (f(i), ..f(a).., f(j)) if (x_{0} = f(i + 0)) and ..(x_{k} = f(i + k)).. and (x_{j - i} = f(i + (j - i))).\n",
       "   core type: Lambda\n",
       "   parameters: 8\\n   body: 2\n",
       "2. {(x_{0}, ..x_{i}.., x_{j - i}) =  \\\\ (f(i), ..f(a).., f(j)) if (x_{0} = f(i + 0)) and ..(x_{k} = f(i + k)).. and (x_{j - i} = f(i + (j - i))).\n",
       "   core type: Conditional\n",
       "   value: 3\n",
       "   condition: 4\n",
       "3. (x_{0}, ..x_{i}.., x_{j - i}) =  \\\\ (f(i), ..f(a).., f(j))\n",
       "   core type: Operation\n",
       "   operator: 22\n",
       "   operands: 5\n",
       "4. (x_{0} = f(i + 0)) and ..(x_{k} = f(i + k)).. and (x_{j - i} = f(i + (j - i)))\n",
       "   core type: Operation\n",
       "   operator: 6\n",
       "   operands: 7\n",
       "5. ((x_{0}, ..x_{i}.., x_{j - i}), (f(i), ..f(a).., f(j)))\n",
       "   core type: ExprTuple\n",
       "   sub-expressions: 8, 9\n",
       "6. and\n",
       "   core type: Literal\n",
       "   sub-expressions: \n",
       "7. (x_{0} = f(i + 0), ..x_{k} = f(i + k).., x_{j - i} = f(i + (j - i)))\n",
       "   core type: ExprTuple\n",
       "   sub-expressions: 10\n",
       "8. (x_{0}, ..x_{i}.., x_{j - i})\n",
       "   core type: ExprTuple\n",
       "   sub-expressions: 11\n",
       "9. (f(i), ..f(a).., f(j))\n",
       "   core type: ExprTuple\n",
       "   sub-expressions: 12\n",
       "10. (x_{0} = f(i + 0)), ..(x_{k} = f(i + k)).., (x_{j - i} = f(i + (j - i)))\n",
       "    core type: ExprRange\n",
       "    lambda_map: 13\n",
       "    start_index: 15\n",
       "    end_index: 16\n",
       "11. x_{0}, ..x_{i}.., x_{j - i}\n",
       "    core type: ExprRange\n",
       "    lambda_map: 14\n",
       "    start_index: 15\n",
       "    end_index: 16\n",
       "12. f(i), ..f(a).., f(j)\n",
       "    core type: ExprRange\n",
       "    lambda_map: 17\n",
       "    start_index: 39\n",
       "    end_index: 24\n",
       "13. k -> (x_{k} = f(i + k))\n",
       "    core type: Lambda\n",
       "    parameter: 40\n",
       "    body: 18\n",
       "14. i -> x_{i}\n",
       "    core type: Lambda\n",
       "    parameter: 39\n",
       "    body: 19\n",
       "15. 0\n",
       "    core type: Literal\n",
       "    sub-expressions: \n",
       "16. j - i\n",
       "    core type: Operation\n",
       "    operator: 37\n",
       "    operands: 20\n",
       "17. a -> f(a)\n",
       "    core type: Lambda\n",
       "    parameter: 31\n",
       "    body: 21\n",
       "18. x_{k} = f(i + k)\n",
       "    core type: Operation\n",
       "    operator: 22\n",
       "    operands: 23\n",
       "19. x_{i}\n",
       "    core type: IndexedVar\n",
       "variable: 32\n",
       "index: 39\n",
       "20. (j, -i)\n",
       "    core type: ExprTuple\n",
       "    sub-expressions: 24, 25\n",
       "21. f(a)\n",
       "    core type: Operation\n",
       "    operator: 34\n",
       "    operand: 31\n",
       "22. =\n",
       "    core type: Literal\n",
       "    sub-expressions: \n",
       "23. (x_{k}, f(i + k))\n",
       "    core type: ExprTuple\n",
       "    sub-expressions: 27, 28\n",
       "24. j\n",
       "    core type: Variable\n",
       "    sub-expressions: \n",
       "25. -i\n",
       "    core type: Operation\n",
       "    operator: 29\n",
       "    operand: 39\n",
       "26. (a)\n",
       "    core type: ExprTuple\n",
       "    sub-expressions: 31\n",
       "27. x_{k}\n",
       "    core type: IndexedVar\n",
       "variable: 32\n",
       "index: 40\n",
       "28. f(i + k)\n",
       "    core type: Operation\n",
       "    operator: 34\n",
       "    operand: 36\n",
       "29. -\n",
       "    core type: Literal\n",
       "    sub-expressions: \n",
       "30. (i)\n",
       "    core type: ExprTuple\n",
       "    sub-expressions: 39\n",
       "31. a\n",
       "    core type: Variable\n",
       "    sub-expressions: \n",
       "32. x\n",
       "    core type: Variable\n",
       "    sub-expressions: \n",
       "33. (k)\n",
       "    core type: ExprTuple\n",
       "    sub-expressions: 40\n",
       "34. f\n",
       "    core type: Variable\n",
       "    sub-expressions: \n",
       "35. (i + k)\n",
       "    core type: ExprTuple\n",
       "    sub-expressions: 36\n",
       "36. i + k\n",
       "    core type: Operation\n",
       "    operator: 37\n",
       "    operands: 38\n",
       "37. +\n",
       "    core type: Literal\n",
       "    sub-expressions: \n",
       "38. (i, k)\n",
       "    core type: ExprTuple\n",
       "    sub-expressions: 39, 40\n",
       "39. i\n",
       "    core type: Variable\n",
       "    sub-expressions: \n",
       "40. k\n",
       "    core type: Variable\n",
       "    sub-expressions: "
      ]
     },
     "execution_count": 6,
     "metadata": {},
     "output_type": "execute_result"
    }
   ],
   "source": [
    "# display the expression information\n",
    "expr.expr_info()"
   ]
  },
  {
   "cell_type": "code",
   "execution_count": null,
   "metadata": {},
   "outputs": [],
   "source": []
  }
 ],
 "metadata": {
  "kernelspec": {
   "display_name": "Python 3",
   "language": "python",
   "name": "python3"
  }
 },
 "nbformat": 4,
 "nbformat_minor": 0
}