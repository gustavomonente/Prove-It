{
 "cells": [
  {
   "cell_type": "markdown",
   "metadata": {},
   "source": [
    "Expression of type <a class=\"ProveItLink\" href=\"../../../../../../../doc/html/api/proveit.logic.And.html\">And</a>\n",
    "=======================\n",
    "# from the theory of <a class=\"ProveItLink\" href=\"../../../_theory_nbs_/theory.ipynb\">proveit.core_expr_types.tuples</a>"
   ]
  },
  {
   "cell_type": "code",
   "execution_count": 1,
   "metadata": {},
   "outputs": [],
   "source": [
    "import proveit\n",
    "# Automation is not needed when building an expression:\n",
    "proveit.defaults.automation = False # This will speed things up.\n",
    "proveit.defaults.inline_pngs = False # Makes files smaller.\n",
    "%load_expr # Load the stored expression as 'stored_expr'\n",
    "# import Expression classes needed to build the expression\n",
    "from proveit.core_expr_types.tuples import range_len_conditions\n",
    "from proveit.logic import And"
   ]
  },
  {
   "cell_type": "code",
   "execution_count": 2,
   "metadata": {},
   "outputs": [
    {
     "data": {
      "text/html": [
       "<strong id=\"expr\">expr:</strong> <a class=\"ProveItLink\" href=\"expr.ipynb\"><img src=\"expr.png\" style=\"display:inline;vertical-align:middle;\" /></a><br>"
      ],
      "text/plain": [
       "expr: ((j_{1} - i_{1} + 1) in Natural) and ..((j_{k} - i_{k} + 1) in Natural).. and ((j_{n} - i_{n} + 1) in Natural)"
      ]
     },
     "execution_count": 2,
     "metadata": {},
     "output_type": "execute_result"
    }
   ],
   "source": [
    "# build up the expression from sub-expressions\n",
    "expr = And(range_len_conditions)"
   ]
  },
  {
   "cell_type": "code",
   "execution_count": 3,
   "metadata": {},
   "outputs": [
    {
     "name": "stdout",
     "output_type": "stream",
     "text": [
      "Passed sanity check: expr matches stored_expr\n"
     ]
    }
   ],
   "source": [
    "# check that the built expression is the same as the stored expression\n",
    "assert expr == stored_expr\n",
    "assert expr._style_id == stored_expr._style_id\n",
    "print(\"Passed sanity check: expr matches stored_expr\")"
   ]
  },
  {
   "cell_type": "code",
   "execution_count": 4,
   "metadata": {},
   "outputs": [
    {
     "name": "stdout",
     "output_type": "stream",
     "text": [
      "\\left(\\left(j_{1} - i_{1} + 1\\right) \\in \\mathbb{N}\\right) \\land \\ldots \\land \\left(\\left(j_{n} - i_{n} + 1\\right) \\in \\mathbb{N}\\right)\n"
     ]
    }
   ],
   "source": [
    "# Show the LaTeX representation of the expression for convenience if you need it.\n",
    "print(expr.latex())"
   ]
  },
  {
   "cell_type": "code",
   "execution_count": 5,
   "metadata": {},
   "outputs": [
    {
     "data": {
      "text/html": [
       "<table>\n",
       "<tr><th>name</th><th>description</th><th>default</th><th>current value</th><th>related methods</th></tr><tr><td>operation</td><td>'infix' or 'function' style formatting</td><td>infix</td><td>infix</td><td></td></tr>\n",
       "<tr><td>wrap_positions</td><td>position(s) at which wrapping is to occur; '2 n - 1' is after the nth operand, '2 n' is after the nth operation.</td><td>()</td><td>()</td><td>('with_wrapping_at', 'with_wrap_before_operator', 'with_wrap_after_operator', 'wrap_positions')</td></tr>\n",
       "<tr><td>justification</td><td>if any wrap positions are set, justify to the 'left', 'center', or 'right'</td><td>center</td><td>center</td><td>('with_justification',)</td></tr>\n",
       "</table>\n"
      ],
      "text/plain": [
       "style name: operation\n",
       "description: 'infix' or 'function' style formatting\n",
       "default: infix\n",
       "current value: infix\n",
       "related methods: ()\n",
       "style name: wrap_positions\n",
       "description: position(s) at which wrapping is to occur; '2 n - 1' is after the nth operand, '2 n' is after the nth operation.\n",
       "default: ()\n",
       "current value: ()\n",
       "related methods: ('with_wrapping_at', 'with_wrap_before_operator', 'with_wrap_after_operator', 'wrap_positions')\n",
       "style name: justification\n",
       "description: if any wrap positions are set, justify to the 'left', 'center', or 'right'\n",
       "default: center\n",
       "current value: center\n",
       "related methods: ('with_justification',)"
      ]
     },
     "execution_count": 5,
     "metadata": {},
     "output_type": "execute_result"
    }
   ],
   "source": [
    "expr.style_options()"
   ]
  },
  {
   "cell_type": "code",
   "execution_count": 6,
   "metadata": {},
   "outputs": [
    {
     "data": {
      "text/html": [
       "<table><tr><th>&nbsp;</th><th>core type</th><th>sub-expressions</th><th>expression</th></tr>\n",
       "<tr><td>0</td><td>Operation</td><td>operator:&nbsp;1<br>operands:&nbsp;2<br></td><td><a class=\"ProveItLink\" href=\"expr.ipynb\"><img src=\"expr.png\" style=\"display:inline;vertical-align:middle;\" /></a></td></tr>\n",
       "<tr><td>1</td><td>Literal</td><td></td><td><a class=\"ProveItLink\" href=\"../../../../../logic/booleans/conjunction/__pv_it/common/26b94b53e70b1d77b70f0d9d4236347db37731060/expr.ipynb\"><img src=\"../../../../../logic/booleans/conjunction/__pv_it/common/26b94b53e70b1d77b70f0d9d4236347db37731060/expr.png\" style=\"display:inline;vertical-align:middle;\" /></a></td></tr>\n",
       "<tr><td>2</td><td>ExprTuple</td><td>3</td><td><a class=\"ProveItLink\" href=\"../f80b442fb7c8d354a844664d6be7d6accd6d6f7b0/expr.ipynb\"><img src=\"../f80b442fb7c8d354a844664d6be7d6accd6d6f7b0/expr.png\" style=\"display:inline;vertical-align:middle;\" /></a></td></tr>\n",
       "<tr><td>3</td><td>ExprRange</td><td>lambda_map:&nbsp;4<br>start_index:&nbsp;15<br>end_index:&nbsp;5<br></td><td><a class=\"ProveItLink\" href=\"../../common/a9fac36fbdc99914707f2d73743c51296691cc410/expr.ipynb\"><img src=\"../../common/a9fac36fbdc99914707f2d73743c51296691cc410/expr.png\" style=\"display:inline;vertical-align:middle;\" /></a></td></tr>\n",
       "<tr><td>4</td><td>Lambda</td><td>parameter:&nbsp;22<br>body:&nbsp;6<br></td><td><a class=\"ProveItLink\" href=\"../../common/cebe8c90dd948d0aea5d5f1f7908700c4eb8c8360/expr.ipynb\"><img src=\"../../common/cebe8c90dd948d0aea5d5f1f7908700c4eb8c8360/expr.png\" style=\"display:inline;vertical-align:middle;\" /></a></td></tr>\n",
       "<tr><td>5</td><td>Variable</td><td></td><td><a class=\"ProveItLink\" href=\"../../../../../__pv_it/common/6165c9bb82ce3c7097cdba4440a1aeeb6eaca8a40/expr.ipynb\"><img src=\"../../../../../__pv_it/common/6165c9bb82ce3c7097cdba4440a1aeeb6eaca8a40/expr.png\" style=\"display:inline;vertical-align:middle;\" /></a></td></tr>\n",
       "<tr><td>6</td><td>Operation</td><td>operator:&nbsp;7<br>operands:&nbsp;8<br></td><td><a class=\"ProveItLink\" href=\"../../common/5a59637d8236f3cac4adaa5c742b1cdc623395e40/expr.ipynb\"><img src=\"../../common/5a59637d8236f3cac4adaa5c742b1cdc623395e40/expr.png\" style=\"display:inline;vertical-align:middle;\" /></a></td></tr>\n",
       "<tr><td>7</td><td>Literal</td><td></td><td><a class=\"ProveItLink\" href=\"../../../../../logic/sets/membership/__pv_it/common/7171deca84f71f47a6ec7696972d1632274a12880/expr.ipynb\"><img src=\"../../../../../logic/sets/membership/__pv_it/common/7171deca84f71f47a6ec7696972d1632274a12880/expr.png\" style=\"display:inline;vertical-align:middle;\" /></a></td></tr>\n",
       "<tr><td>8</td><td>ExprTuple</td><td>9, 10</td><td><a class=\"ProveItLink\" href=\"../../common/ce40103689388f369c3be63db8c4ec094ef23ea60/expr.ipynb\"><img src=\"../../common/ce40103689388f369c3be63db8c4ec094ef23ea60/expr.png\" style=\"display:inline;vertical-align:middle;\" /></a></td></tr>\n",
       "<tr><td>9</td><td>Operation</td><td>operator:&nbsp;11<br>operands:&nbsp;12<br></td><td><a class=\"ProveItLink\" href=\"../../common/9be380e9856265b517b34bf226249a67a16c51bf0/expr.ipynb\"><img src=\"../../common/9be380e9856265b517b34bf226249a67a16c51bf0/expr.png\" style=\"display:inline;vertical-align:middle;\" /></a></td></tr>\n",
       "<tr><td>10</td><td>Literal</td><td></td><td><a class=\"ProveItLink\" href=\"../../../../../numbers/number_sets/natural_numbers/__pv_it/common/85c8b43c90a7392ebb5459360d343dfa7c7408b50/expr.ipynb\"><img src=\"../../../../../numbers/number_sets/natural_numbers/__pv_it/common/85c8b43c90a7392ebb5459360d343dfa7c7408b50/expr.png\" style=\"display:inline;vertical-align:middle;\" /></a></td></tr>\n",
       "<tr><td>11</td><td>Literal</td><td></td><td><a class=\"ProveItLink\" href=\"../../../../../numbers/addition/__pv_it/common/1f38fe5cce441387feef296e2c0a2eac260bb4f30/expr.ipynb\"><img src=\"../../../../../numbers/addition/__pv_it/common/1f38fe5cce441387feef296e2c0a2eac260bb4f30/expr.png\" style=\"display:inline;vertical-align:middle;\" /></a></td></tr>\n",
       "<tr><td>12</td><td>ExprTuple</td><td>13, 14, 15</td><td><a class=\"ProveItLink\" href=\"../../common/3bdcf29a764adb23951f1f15190c561e42c543190/expr.ipynb\"><img src=\"../../common/3bdcf29a764adb23951f1f15190c561e42c543190/expr.png\" style=\"display:inline;vertical-align:middle;\" /></a></td></tr>\n",
       "<tr><td>13</td><td>IndexedVar</td><td>variable:&nbsp;16<br>index:&nbsp;22<br></td><td><a class=\"ProveItLink\" href=\"../../../../__pv_it/common/5a5705bb5e1ef8d37281d9008089a0b3f23ad6ff0/expr.ipynb\"><img src=\"../../../../__pv_it/common/5a5705bb5e1ef8d37281d9008089a0b3f23ad6ff0/expr.png\" style=\"display:inline;vertical-align:middle;\" /></a></td></tr>\n",
       "<tr><td>14</td><td>Operation</td><td>operator:&nbsp;17<br>operand:&nbsp;19<br></td><td><a class=\"ProveItLink\" href=\"../../common/872bf058b34b22cfeb7aeb388fc0071238dda2830/expr.ipynb\"><img src=\"../../common/872bf058b34b22cfeb7aeb388fc0071238dda2830/expr.png\" style=\"display:inline;vertical-align:middle;\" /></a></td></tr>\n",
       "<tr><td>15</td><td>Literal</td><td></td><td><a class=\"ProveItLink\" href=\"../../../../../numbers/numerals/__pv_it/common/d278e359da0695d9652dd541d45264f93703e2e40/expr.ipynb\"><img src=\"../../../../../numbers/numerals/__pv_it/common/d278e359da0695d9652dd541d45264f93703e2e40/expr.png\" style=\"display:inline;vertical-align:middle;\" /></a></td></tr>\n",
       "<tr><td>16</td><td>Variable</td><td></td><td><a class=\"ProveItLink\" href=\"../../../../../__pv_it/common/5514cc9a63b9c2ed9b63934dd5e088ab0d4f10080/expr.ipynb\"><img src=\"../../../../../__pv_it/common/5514cc9a63b9c2ed9b63934dd5e088ab0d4f10080/expr.png\" style=\"display:inline;vertical-align:middle;\" /></a></td></tr>\n",
       "<tr><td>17</td><td>Literal</td><td></td><td><a class=\"ProveItLink\" href=\"../../../../../numbers/negation/__pv_it/common/31a69a5c76809537045e3884859f178d8d9c845c0/expr.ipynb\"><img src=\"../../../../../numbers/negation/__pv_it/common/31a69a5c76809537045e3884859f178d8d9c845c0/expr.png\" style=\"display:inline;vertical-align:middle;\" /></a></td></tr>\n",
       "<tr><td>18</td><td>ExprTuple</td><td>19</td><td><a class=\"ProveItLink\" href=\"../../common/c4fec4e6b71c2a3c77c9adc6d4c9a59a508f9e860/expr.ipynb\"><img src=\"../../common/c4fec4e6b71c2a3c77c9adc6d4c9a59a508f9e860/expr.png\" style=\"display:inline;vertical-align:middle;\" /></a></td></tr>\n",
       "<tr><td>19</td><td>IndexedVar</td><td>variable:&nbsp;20<br>index:&nbsp;22<br></td><td><a class=\"ProveItLink\" href=\"../../../../__pv_it/common/1e40f444924b706d96c9e4e8f287fed125ac31b80/expr.ipynb\"><img src=\"../../../../__pv_it/common/1e40f444924b706d96c9e4e8f287fed125ac31b80/expr.png\" style=\"display:inline;vertical-align:middle;\" /></a></td></tr>\n",
       "<tr><td>20</td><td>Variable</td><td></td><td><a class=\"ProveItLink\" href=\"../../../../../__pv_it/common/575a6156bb1c87c5beeaf38c302b5905ad57f5780/expr.ipynb\"><img src=\"../../../../../__pv_it/common/575a6156bb1c87c5beeaf38c302b5905ad57f5780/expr.png\" style=\"display:inline;vertical-align:middle;\" /></a></td></tr>\n",
       "<tr><td>21</td><td>ExprTuple</td><td>22</td><td><a class=\"ProveItLink\" href=\"../../../../../__pv_it/common/797070a9ef2f9957a44157444d93fbe100e2d7430/expr.ipynb\"><img src=\"../../../../../__pv_it/common/797070a9ef2f9957a44157444d93fbe100e2d7430/expr.png\" style=\"display:inline;vertical-align:middle;\" /></a></td></tr>\n",
       "<tr><td>22</td><td>Variable</td><td></td><td><a class=\"ProveItLink\" href=\"../../../../../__pv_it/common/b9fd37fc619babc74a6203459f110251586df6970/expr.ipynb\"><img src=\"../../../../../__pv_it/common/b9fd37fc619babc74a6203459f110251586df6970/expr.png\" style=\"display:inline;vertical-align:middle;\" /></a></td></tr>\n",
       "</table>\n"
      ],
      "text/plain": [
       "0. ((j_{1} - i_{1} + 1) in Natural) and ..((j_{k} - i_{k} + 1) in Natural).. and ((j_{n} - i_{n} + 1) in Natural)\n",
       "   core type: Operation\n",
       "   operator: 1\n",
       "   operands: 2\n",
       "1. and\n",
       "   core type: Literal\n",
       "   sub-expressions: \n",
       "2. ((j_{1} - i_{1} + 1) in Natural, ..(j_{k} - i_{k} + 1) in Natural.., (j_{n} - i_{n} + 1) in Natural)\n",
       "   core type: ExprTuple\n",
       "   sub-expressions: 3\n",
       "3. ((j_{1} - i_{1} + 1) in Natural), ..((j_{k} - i_{k} + 1) in Natural).., ((j_{n} - i_{n} + 1) in Natural)\n",
       "   core type: ExprRange\n",
       "   lambda_map: 4\n",
       "   start_index: 15\n",
       "   end_index: 5\n",
       "4. k -> ((j_{k} - i_{k} + 1) in Natural)\n",
       "   core type: Lambda\n",
       "   parameter: 22\n",
       "   body: 6\n",
       "5. n\n",
       "   core type: Variable\n",
       "   sub-expressions: \n",
       "6. (j_{k} - i_{k} + 1) in Natural\n",
       "   core type: Operation\n",
       "   operator: 7\n",
       "   operands: 8\n",
       "7. in\n",
       "   core type: Literal\n",
       "   sub-expressions: \n",
       "8. (j_{k} - i_{k} + 1, Natural)\n",
       "   core type: ExprTuple\n",
       "   sub-expressions: 9, 10\n",
       "9. j_{k} - i_{k} + 1\n",
       "   core type: Operation\n",
       "   operator: 11\n",
       "   operands: 12\n",
       "10. Natural\n",
       "    core type: Literal\n",
       "    sub-expressions: \n",
       "11. +\n",
       "    core type: Literal\n",
       "    sub-expressions: \n",
       "12. (j_{k}, -i_{k}, 1)\n",
       "    core type: ExprTuple\n",
       "    sub-expressions: 13, 14, 15\n",
       "13. j_{k}\n",
       "    core type: IndexedVar\n",
       "variable: 16\n",
       "index: 22\n",
       "14. -i_{k}\n",
       "    core type: Operation\n",
       "    operator: 17\n",
       "    operand: 19\n",
       "15. 1\n",
       "    core type: Literal\n",
       "    sub-expressions: \n",
       "16. j\n",
       "    core type: Variable\n",
       "    sub-expressions: \n",
       "17. -\n",
       "    core type: Literal\n",
       "    sub-expressions: \n",
       "18. (i_{k})\n",
       "    core type: ExprTuple\n",
       "    sub-expressions: 19\n",
       "19. i_{k}\n",
       "    core type: IndexedVar\n",
       "variable: 20\n",
       "index: 22\n",
       "20. i\n",
       "    core type: Variable\n",
       "    sub-expressions: \n",
       "21. (k)\n",
       "    core type: ExprTuple\n",
       "    sub-expressions: 22\n",
       "22. k\n",
       "    core type: Variable\n",
       "    sub-expressions: "
      ]
     },
     "execution_count": 6,
     "metadata": {},
     "output_type": "execute_result"
    }
   ],
   "source": [
    "# display the expression information\n",
    "expr.expr_info()"
   ]
  },
  {
   "cell_type": "code",
   "execution_count": null,
   "metadata": {},
   "outputs": [],
   "source": []
  }
 ],
 "metadata": {
  "kernelspec": {
   "display_name": "Python 3",
   "language": "python",
   "name": "python3"
  }
 },
 "nbformat": 4,
 "nbformat_minor": 0
}