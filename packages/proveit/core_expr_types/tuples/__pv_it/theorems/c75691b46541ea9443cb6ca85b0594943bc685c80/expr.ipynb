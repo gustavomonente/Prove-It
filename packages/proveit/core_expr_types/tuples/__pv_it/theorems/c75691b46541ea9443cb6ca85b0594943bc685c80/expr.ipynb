{
 "cells": [
  {
   "cell_type": "markdown",
   "metadata": {},
   "source": [
    "Expression of type <a class=\"ProveItLink\" href=\"../../../../../../../doc/html/api/proveit.ExprTuple.html\">ExprTuple</a>\n",
    "=======================\n",
    "# from the theory of <a class=\"ProveItLink\" href=\"../../../_theory_nbs_/theory.ipynb\">proveit.core_expr_types.tuples</a>"
   ]
  },
  {
   "cell_type": "code",
   "execution_count": 1,
   "metadata": {},
   "outputs": [],
   "source": [
    "import proveit\n",
    "# Automation is not needed when building an expression:\n",
    "proveit.defaults.automation = False # This will speed things up.\n",
    "proveit.defaults.inline_pngs = False # Makes files smaller.\n",
    "%load_expr # Load the stored expression as 'stored_expr'\n",
    "# import Expression classes needed to build the expression\n",
    "from proveit import Conditional, ExprTuple, Lambda, a, b, i, j, k, l\n",
    "from proveit.core_expr_types.tuples import shift_equiv_both\n",
    "from proveit.logic import And, Equals, InSet\n",
    "from proveit.numbers import Add, Natural, Neg, one"
   ]
  },
  {
   "cell_type": "code",
   "execution_count": 2,
   "metadata": {},
   "outputs": [
    {
     "data": {
      "text/html": [
       "<strong id=\"expr\">expr:</strong> <a class=\"ProveItLink\" href=\"expr.ipynb\"><img src=\"expr.png\" style=\"display:inline;vertical-align:middle;\" /></a><br>"
      ],
      "text/plain": [
       "expr: ((i, j, k, l) -> {(f(i + a), ..f(k + a).., f(j + a)) = (f(k + b), ..f(i + b).., f(l + b)) if ((j + 1) - i) in Natural ,  (i + a) = (k + b) ,  (j + a) = (l + b).)"
      ]
     },
     "execution_count": 2,
     "metadata": {},
     "output_type": "execute_result"
    }
   ],
   "source": [
    "# build up the expression from sub-expressions\n",
    "expr = ExprTuple(Lambda([i, j, k, l], Conditional(shift_equiv_both, And(InSet(Add(Add(j, one), Neg(i)), Natural), Equals(Add(i, a), Add(k, b)), Equals(Add(j, a), Add(l, b))))))"
   ]
  },
  {
   "cell_type": "code",
   "execution_count": 3,
   "metadata": {},
   "outputs": [
    {
     "name": "stdout",
     "output_type": "stream",
     "text": [
      "Passed sanity check: expr matches stored_expr\n"
     ]
    }
   ],
   "source": [
    "# check that the built expression is the same as the stored expression\n",
    "assert expr == stored_expr\n",
    "assert expr._style_id == stored_expr._style_id\n",
    "print(\"Passed sanity check: expr matches stored_expr\")"
   ]
  },
  {
   "cell_type": "code",
   "execution_count": 4,
   "metadata": {},
   "outputs": [
    {
     "name": "stdout",
     "output_type": "stream",
     "text": [
      "\\left(\\left(i, j, k, l\\right) \\mapsto \\left\\{\\left(f(i + a), \\ldots, f(j + a)\\right) = \\left(f(k + b), \\ldots, f(l + b)\\right) \\textrm{ if } \\left(\\left(j + 1\\right) - i\\right) \\in \\mathbb{N} ,  \\left(i + a\\right) = \\left(k + b\\right) ,  \\left(j + a\\right) = \\left(l + b\\right)\\right..\\right)\n"
     ]
    }
   ],
   "source": [
    "# Show the LaTeX representation of the expression for convenience if you need it.\n",
    "print(expr.latex())"
   ]
  },
  {
   "cell_type": "code",
   "execution_count": 5,
   "metadata": {},
   "outputs": [
    {
     "data": {
      "text/html": [
       "no style options"
      ],
      "text/plain": [
       "no style options"
      ]
     },
     "execution_count": 5,
     "metadata": {},
     "output_type": "execute_result"
    }
   ],
   "source": [
    "expr.style_options()"
   ]
  },
  {
   "cell_type": "code",
   "execution_count": 6,
   "metadata": {},
   "outputs": [
    {
     "data": {
      "text/html": [
       "<table><tr><th>&nbsp;</th><th>core type</th><th>sub-expressions</th><th>expression</th></tr>\n",
       "<tr><td>0</td><td>ExprTuple</td><td>1</td><td><a class=\"ProveItLink\" href=\"expr.ipynb\"><img src=\"expr.png\" style=\"display:inline;vertical-align:middle;\" /></a></td></tr>\n",
       "<tr><td>1</td><td>Lambda</td><td>parameters:&nbsp;2<br>body:&nbsp;3<br></td><td><a class=\"ProveItLink\" href=\"../7bf99e916817c254dc0316b95bd30d9d0d787dff0/expr.ipynb\"><img src=\"../7bf99e916817c254dc0316b95bd30d9d0d787dff0/expr.png\" style=\"display:inline;vertical-align:middle;\" /></a></td></tr>\n",
       "<tr><td>2</td><td>ExprTuple</td><td>54, 50, 52, 41</td><td><a class=\"ProveItLink\" href=\"../14b72ba35a1825867623448ad2c47392b5f036150/expr.ipynb\"><img src=\"../14b72ba35a1825867623448ad2c47392b5f036150/expr.png\" style=\"display:inline;vertical-align:middle;\" /></a></td></tr>\n",
       "<tr><td>3</td><td>Conditional</td><td>value:&nbsp;4<br>condition:&nbsp;5<br></td><td><a class=\"ProveItLink\" href=\"../8a1b3f4cb400f4ae465eb257f4a2026289b8afc20/expr.ipynb\"><img src=\"../8a1b3f4cb400f4ae465eb257f4a2026289b8afc20/expr.png\" style=\"display:inline;vertical-align:middle;\" /></a></td></tr>\n",
       "<tr><td>4</td><td>Operation</td><td>operator:&nbsp;19<br>operands:&nbsp;6<br></td><td><a class=\"ProveItLink\" href=\"../../common/d74179cdecce4771c3e49932fedda56d08f9de520/expr.ipynb\"><img src=\"../../common/d74179cdecce4771c3e49932fedda56d08f9de520/expr.png\" style=\"display:inline;vertical-align:middle;\" /></a></td></tr>\n",
       "<tr><td>5</td><td>Operation</td><td>operator:&nbsp;7<br>operands:&nbsp;8<br></td><td><a class=\"ProveItLink\" href=\"../66e8f6bca9faf982c02e53b80085efe5a3838b1f0/expr.ipynb\"><img src=\"../66e8f6bca9faf982c02e53b80085efe5a3838b1f0/expr.png\" style=\"display:inline;vertical-align:middle;\" /></a></td></tr>\n",
       "<tr><td>6</td><td>ExprTuple</td><td>9, 10</td><td><a class=\"ProveItLink\" href=\"../../common/cb8e9f7815c4dc2730ddac92ccf07a5fed46d66a0/expr.ipynb\"><img src=\"../../common/cb8e9f7815c4dc2730ddac92ccf07a5fed46d66a0/expr.png\" style=\"display:inline;vertical-align:middle;\" /></a></td></tr>\n",
       "<tr><td>7</td><td>Literal</td><td></td><td><a class=\"ProveItLink\" href=\"../../../../../logic/booleans/conjunction/__pv_it/common/26b94b53e70b1d77b70f0d9d4236347db37731060/expr.ipynb\"><img src=\"../../../../../logic/booleans/conjunction/__pv_it/common/26b94b53e70b1d77b70f0d9d4236347db37731060/expr.png\" style=\"display:inline;vertical-align:middle;\" /></a></td></tr>\n",
       "<tr><td>8</td><td>ExprTuple</td><td>11, 12, 13</td><td><a class=\"ProveItLink\" href=\"../33f6283104ce8d872395a62380ee2aea5afcaa220/expr.ipynb\"><img src=\"../33f6283104ce8d872395a62380ee2aea5afcaa220/expr.png\" style=\"display:inline;vertical-align:middle;\" /></a></td></tr>\n",
       "<tr><td>9</td><td>ExprTuple</td><td>14</td><td><a class=\"ProveItLink\" href=\"../../common/303c8be0a3e07f0f7089af07af1cb9bb016c83c00/expr.ipynb\"><img src=\"../../common/303c8be0a3e07f0f7089af07af1cb9bb016c83c00/expr.png\" style=\"display:inline;vertical-align:middle;\" /></a></td></tr>\n",
       "<tr><td>10</td><td>ExprTuple</td><td>15</td><td><a class=\"ProveItLink\" href=\"../../common/4ac3464d9a89344388c5f847a8b0741441d376310/expr.ipynb\"><img src=\"../../common/4ac3464d9a89344388c5f847a8b0741441d376310/expr.png\" style=\"display:inline;vertical-align:middle;\" /></a></td></tr>\n",
       "<tr><td>11</td><td>Operation</td><td>operator:&nbsp;16<br>operands:&nbsp;17<br></td><td><a class=\"ProveItLink\" href=\"../c695e7f95a12c510ca30544bb99f1e8c60d19f7c0/expr.ipynb\"><img src=\"../c695e7f95a12c510ca30544bb99f1e8c60d19f7c0/expr.png\" style=\"display:inline;vertical-align:middle;\" /></a></td></tr>\n",
       "<tr><td>12</td><td>Operation</td><td>operator:&nbsp;19<br>operands:&nbsp;18<br></td><td><a class=\"ProveItLink\" href=\"../56ca7b3e7295da24e3d3af4a013b69a81fe003fa0/expr.ipynb\"><img src=\"../56ca7b3e7295da24e3d3af4a013b69a81fe003fa0/expr.png\" style=\"display:inline;vertical-align:middle;\" /></a></td></tr>\n",
       "<tr><td>13</td><td>Operation</td><td>operator:&nbsp;19<br>operands:&nbsp;20<br></td><td><a class=\"ProveItLink\" href=\"../1b15448747af4e0b57508719efa84cbc9f82a0040/expr.ipynb\"><img src=\"../1b15448747af4e0b57508719efa84cbc9f82a0040/expr.png\" style=\"display:inline;vertical-align:middle;\" /></a></td></tr>\n",
       "<tr><td>14</td><td>ExprRange</td><td>lambda_map:&nbsp;21<br>start_index:&nbsp;54<br>end_index:&nbsp;50<br></td><td><a class=\"ProveItLink\" href=\"../../common/02751fd101b84c6de3fd7aa5127fdfae85cc09740/expr.ipynb\"><img src=\"../../common/02751fd101b84c6de3fd7aa5127fdfae85cc09740/expr.png\" style=\"display:inline;vertical-align:middle;\" /></a></td></tr>\n",
       "<tr><td>15</td><td>ExprRange</td><td>lambda_map:&nbsp;22<br>start_index:&nbsp;52<br>end_index:&nbsp;41<br></td><td><a class=\"ProveItLink\" href=\"../../common/42f64570513a7519886bbb296efb645c93ceadd70/expr.ipynb\"><img src=\"../../common/42f64570513a7519886bbb296efb645c93ceadd70/expr.png\" style=\"display:inline;vertical-align:middle;\" /></a></td></tr>\n",
       "<tr><td>16</td><td>Literal</td><td></td><td><a class=\"ProveItLink\" href=\"../../../../../logic/sets/membership/__pv_it/common/7171deca84f71f47a6ec7696972d1632274a12880/expr.ipynb\"><img src=\"../../../../../logic/sets/membership/__pv_it/common/7171deca84f71f47a6ec7696972d1632274a12880/expr.png\" style=\"display:inline;vertical-align:middle;\" /></a></td></tr>\n",
       "<tr><td>17</td><td>ExprTuple</td><td>23, 24</td><td><a class=\"ProveItLink\" href=\"../b523098d2c6e89ed286877943b6ee3d867ba78480/expr.ipynb\"><img src=\"../b523098d2c6e89ed286877943b6ee3d867ba78480/expr.png\" style=\"display:inline;vertical-align:middle;\" /></a></td></tr>\n",
       "<tr><td>18</td><td>ExprTuple</td><td>25, 26</td><td><a class=\"ProveItLink\" href=\"../0b29d4a5ca29949b960573ba719836a1e2a4acff0/expr.ipynb\"><img src=\"../0b29d4a5ca29949b960573ba719836a1e2a4acff0/expr.png\" style=\"display:inline;vertical-align:middle;\" /></a></td></tr>\n",
       "<tr><td>19</td><td>Literal</td><td></td><td><a class=\"ProveItLink\" href=\"../../../../../logic/equality/__pv_it/common/731dd3955b346c1320ed5c0ba7a618bcda61457d0/expr.ipynb\"><img src=\"../../../../../logic/equality/__pv_it/common/731dd3955b346c1320ed5c0ba7a618bcda61457d0/expr.png\" style=\"display:inline;vertical-align:middle;\" /></a></td></tr>\n",
       "<tr><td>20</td><td>ExprTuple</td><td>27, 28</td><td><a class=\"ProveItLink\" href=\"../4b37ff9562acdb748a964abe0d5b4676dd15f91f0/expr.ipynb\"><img src=\"../4b37ff9562acdb748a964abe0d5b4676dd15f91f0/expr.png\" style=\"display:inline;vertical-align:middle;\" /></a></td></tr>\n",
       "<tr><td>21</td><td>Lambda</td><td>parameter:&nbsp;52<br>body:&nbsp;29<br></td><td><a class=\"ProveItLink\" href=\"../../common/38068861a8703025db77d7b56d23b5e21679ffae0/expr.ipynb\"><img src=\"../../common/38068861a8703025db77d7b56d23b5e21679ffae0/expr.png\" style=\"display:inline;vertical-align:middle;\" /></a></td></tr>\n",
       "<tr><td>22</td><td>Lambda</td><td>parameter:&nbsp;54<br>body:&nbsp;30<br></td><td><a class=\"ProveItLink\" href=\"../../common/42c4f42e4612195b60ecadb828f924efc0608f1a0/expr.ipynb\"><img src=\"../../common/42c4f42e4612195b60ecadb828f924efc0608f1a0/expr.png\" style=\"display:inline;vertical-align:middle;\" /></a></td></tr>\n",
       "<tr><td>23</td><td>Operation</td><td>operator:&nbsp;48<br>operands:&nbsp;31<br></td><td><a class=\"ProveItLink\" href=\"../5047519f9a01f22be4508484945fa48969d5daf90/expr.ipynb\"><img src=\"../5047519f9a01f22be4508484945fa48969d5daf90/expr.png\" style=\"display:inline;vertical-align:middle;\" /></a></td></tr>\n",
       "<tr><td>24</td><td>Literal</td><td></td><td><a class=\"ProveItLink\" href=\"../../../../../numbers/number_sets/natural_numbers/__pv_it/common/85c8b43c90a7392ebb5459360d343dfa7c7408b50/expr.ipynb\"><img src=\"../../../../../numbers/number_sets/natural_numbers/__pv_it/common/85c8b43c90a7392ebb5459360d343dfa7c7408b50/expr.png\" style=\"display:inline;vertical-align:middle;\" /></a></td></tr>\n",
       "<tr><td>25</td><td>Operation</td><td>operator:&nbsp;48<br>operands:&nbsp;32<br></td><td><a class=\"ProveItLink\" href=\"../../common/4c5d73de7cf846b772f0f7ea1ffb6d59f2d42c910/expr.ipynb\"><img src=\"../../common/4c5d73de7cf846b772f0f7ea1ffb6d59f2d42c910/expr.png\" style=\"display:inline;vertical-align:middle;\" /></a></td></tr>\n",
       "<tr><td>26</td><td>Operation</td><td>operator:&nbsp;48<br>operands:&nbsp;33<br></td><td><a class=\"ProveItLink\" href=\"../565b33efd97c76a73ebf773d9bd23bb1a90b8ca30/expr.ipynb\"><img src=\"../565b33efd97c76a73ebf773d9bd23bb1a90b8ca30/expr.png\" style=\"display:inline;vertical-align:middle;\" /></a></td></tr>\n",
       "<tr><td>27</td><td>Operation</td><td>operator:&nbsp;48<br>operands:&nbsp;34<br></td><td><a class=\"ProveItLink\" href=\"../241fb3474fc3fc21a88d77bed81c0b0e9eaa698c0/expr.ipynb\"><img src=\"../241fb3474fc3fc21a88d77bed81c0b0e9eaa698c0/expr.png\" style=\"display:inline;vertical-align:middle;\" /></a></td></tr>\n",
       "<tr><td>28</td><td>Operation</td><td>operator:&nbsp;48<br>operands:&nbsp;35<br></td><td><a class=\"ProveItLink\" href=\"../ec1b9da6cdcf250860f5d4ae56fba6f25e9a94780/expr.ipynb\"><img src=\"../ec1b9da6cdcf250860f5d4ae56fba6f25e9a94780/expr.png\" style=\"display:inline;vertical-align:middle;\" /></a></td></tr>\n",
       "<tr><td>29</td><td>Operation</td><td>operator:&nbsp;37<br>operand:&nbsp;42<br></td><td><a class=\"ProveItLink\" href=\"../../common/c992a3e4431e43ea8c824e1bf685abe0a416e6e20/expr.ipynb\"><img src=\"../../common/c992a3e4431e43ea8c824e1bf685abe0a416e6e20/expr.png\" style=\"display:inline;vertical-align:middle;\" /></a></td></tr>\n",
       "<tr><td>30</td><td>Operation</td><td>operator:&nbsp;37<br>operand:&nbsp;43<br></td><td><a class=\"ProveItLink\" href=\"../../common/5b91a993eaf68608a6c76daa142ba93bfd60a4130/expr.ipynb\"><img src=\"../../common/5b91a993eaf68608a6c76daa142ba93bfd60a4130/expr.png\" style=\"display:inline;vertical-align:middle;\" /></a></td></tr>\n",
       "<tr><td>31</td><td>ExprTuple</td><td>39, 40</td><td><a class=\"ProveItLink\" href=\"../0f500c5dd29b773646e451df78a0a5f2c292abad0/expr.ipynb\"><img src=\"../0f500c5dd29b773646e451df78a0a5f2c292abad0/expr.png\" style=\"display:inline;vertical-align:middle;\" /></a></td></tr>\n",
       "<tr><td>32</td><td>ExprTuple</td><td>54, 53</td><td><a class=\"ProveItLink\" href=\"../../common/8c4a5b190222c17a313c9fecbb541f74b17675580/expr.ipynb\"><img src=\"../../common/8c4a5b190222c17a313c9fecbb541f74b17675580/expr.png\" style=\"display:inline;vertical-align:middle;\" /></a></td></tr>\n",
       "<tr><td>33</td><td>ExprTuple</td><td>52, 55</td><td><a class=\"ProveItLink\" href=\"../184c80f7ee8eaea02d831419add19b5724aa5eb10/expr.ipynb\"><img src=\"../184c80f7ee8eaea02d831419add19b5724aa5eb10/expr.png\" style=\"display:inline;vertical-align:middle;\" /></a></td></tr>\n",
       "<tr><td>34</td><td>ExprTuple</td><td>50, 53</td><td><a class=\"ProveItLink\" href=\"../3c635e6c068544293b64029b57e6502421e889840/expr.ipynb\"><img src=\"../3c635e6c068544293b64029b57e6502421e889840/expr.png\" style=\"display:inline;vertical-align:middle;\" /></a></td></tr>\n",
       "<tr><td>35</td><td>ExprTuple</td><td>41, 55</td><td><a class=\"ProveItLink\" href=\"../480646ad0171e1e3a01e47053461fce39efef1b50/expr.ipynb\"><img src=\"../480646ad0171e1e3a01e47053461fce39efef1b50/expr.png\" style=\"display:inline;vertical-align:middle;\" /></a></td></tr>\n",
       "<tr><td>36</td><td>ExprTuple</td><td>42</td><td><a class=\"ProveItLink\" href=\"../../common/4ee4a9560313ef041b3aafe76e261e1510572c350/expr.ipynb\"><img src=\"../../common/4ee4a9560313ef041b3aafe76e261e1510572c350/expr.png\" style=\"display:inline;vertical-align:middle;\" /></a></td></tr>\n",
       "<tr><td>37</td><td>Variable</td><td></td><td><a class=\"ProveItLink\" href=\"../../../../../__pv_it/common/c03f8781a34c741744d7dee8670bbb5419fe0ac50/expr.ipynb\"><img src=\"../../../../../__pv_it/common/c03f8781a34c741744d7dee8670bbb5419fe0ac50/expr.png\" style=\"display:inline;vertical-align:middle;\" /></a></td></tr>\n",
       "<tr><td>38</td><td>ExprTuple</td><td>43</td><td><a class=\"ProveItLink\" href=\"../../common/5d28545d667f2fe3e8ae3d33505d9f843d5a335a0/expr.ipynb\"><img src=\"../../common/5d28545d667f2fe3e8ae3d33505d9f843d5a335a0/expr.png\" style=\"display:inline;vertical-align:middle;\" /></a></td></tr>\n",
       "<tr><td>39</td><td>Operation</td><td>operator:&nbsp;48<br>operands:&nbsp;44<br></td><td><a class=\"ProveItLink\" href=\"../../../../__pv_it/common/4814704443f7a3da916367bb0f04502e29962d0a0/expr.ipynb\"><img src=\"../../../../__pv_it/common/4814704443f7a3da916367bb0f04502e29962d0a0/expr.png\" style=\"display:inline;vertical-align:middle;\" /></a></td></tr>\n",
       "<tr><td>40</td><td>Operation</td><td>operator:&nbsp;45<br>operand:&nbsp;54<br></td><td><a class=\"ProveItLink\" href=\"../../../../__pv_it/common/309cf9a0d8815deace91b753264f18a87f6a59340/expr.ipynb\"><img src=\"../../../../__pv_it/common/309cf9a0d8815deace91b753264f18a87f6a59340/expr.png\" style=\"display:inline;vertical-align:middle;\" /></a></td></tr>\n",
       "<tr><td>41</td><td>Variable</td><td></td><td><a class=\"ProveItLink\" href=\"../../../../../__pv_it/common/5f60d32873626c7ce57e35d1d9e427fb112cfe7a0/expr.ipynb\"><img src=\"../../../../../__pv_it/common/5f60d32873626c7ce57e35d1d9e427fb112cfe7a0/expr.png\" style=\"display:inline;vertical-align:middle;\" /></a></td></tr>\n",
       "<tr><td>42</td><td>Operation</td><td>operator:&nbsp;48<br>operands:&nbsp;47<br></td><td><a class=\"ProveItLink\" href=\"../../common/56e2a61af69024500d1ec3b3576427db01f342990/expr.ipynb\"><img src=\"../../common/56e2a61af69024500d1ec3b3576427db01f342990/expr.png\" style=\"display:inline;vertical-align:middle;\" /></a></td></tr>\n",
       "<tr><td>43</td><td>Operation</td><td>operator:&nbsp;48<br>operands:&nbsp;49<br></td><td><a class=\"ProveItLink\" href=\"../../common/480aaad07d5b1c3d01d69899d78842feae3a87760/expr.ipynb\"><img src=\"../../common/480aaad07d5b1c3d01d69899d78842feae3a87760/expr.png\" style=\"display:inline;vertical-align:middle;\" /></a></td></tr>\n",
       "<tr><td>44</td><td>ExprTuple</td><td>50, 51</td><td><a class=\"ProveItLink\" href=\"../../../../__pv_it/common/79583c14cfeaf0a2d44e0878c8ca4854e36f2ddd0/expr.ipynb\"><img src=\"../../../../__pv_it/common/79583c14cfeaf0a2d44e0878c8ca4854e36f2ddd0/expr.png\" style=\"display:inline;vertical-align:middle;\" /></a></td></tr>\n",
       "<tr><td>45</td><td>Literal</td><td></td><td><a class=\"ProveItLink\" href=\"../../../../../numbers/negation/__pv_it/common/31a69a5c76809537045e3884859f178d8d9c845c0/expr.ipynb\"><img src=\"../../../../../numbers/negation/__pv_it/common/31a69a5c76809537045e3884859f178d8d9c845c0/expr.png\" style=\"display:inline;vertical-align:middle;\" /></a></td></tr>\n",
       "<tr><td>46</td><td>ExprTuple</td><td>54</td><td><a class=\"ProveItLink\" href=\"../../../../__pv_it/common/6420c4d2520c27c1137ad22005291620057456040/expr.ipynb\"><img src=\"../../../../__pv_it/common/6420c4d2520c27c1137ad22005291620057456040/expr.png\" style=\"display:inline;vertical-align:middle;\" /></a></td></tr>\n",
       "<tr><td>47</td><td>ExprTuple</td><td>52, 53</td><td><a class=\"ProveItLink\" href=\"../../common/c734049f9466339a08f6ad7f453b1a6863c47bbb0/expr.ipynb\"><img src=\"../../common/c734049f9466339a08f6ad7f453b1a6863c47bbb0/expr.png\" style=\"display:inline;vertical-align:middle;\" /></a></td></tr>\n",
       "<tr><td>48</td><td>Literal</td><td></td><td><a class=\"ProveItLink\" href=\"../../../../../numbers/addition/__pv_it/common/1f38fe5cce441387feef296e2c0a2eac260bb4f30/expr.ipynb\"><img src=\"../../../../../numbers/addition/__pv_it/common/1f38fe5cce441387feef296e2c0a2eac260bb4f30/expr.png\" style=\"display:inline;vertical-align:middle;\" /></a></td></tr>\n",
       "<tr><td>49</td><td>ExprTuple</td><td>54, 55</td><td><a class=\"ProveItLink\" href=\"../../common/8dbdc7041a0875016cce2fdf6f68ffe80515c55c0/expr.ipynb\"><img src=\"../../common/8dbdc7041a0875016cce2fdf6f68ffe80515c55c0/expr.png\" style=\"display:inline;vertical-align:middle;\" /></a></td></tr>\n",
       "<tr><td>50</td><td>Variable</td><td></td><td><a class=\"ProveItLink\" href=\"../../../../../__pv_it/common/5514cc9a63b9c2ed9b63934dd5e088ab0d4f10080/expr.ipynb\"><img src=\"../../../../../__pv_it/common/5514cc9a63b9c2ed9b63934dd5e088ab0d4f10080/expr.png\" style=\"display:inline;vertical-align:middle;\" /></a></td></tr>\n",
       "<tr><td>51</td><td>Literal</td><td></td><td><a class=\"ProveItLink\" href=\"../../../../../numbers/numerals/__pv_it/common/d278e359da0695d9652dd541d45264f93703e2e40/expr.ipynb\"><img src=\"../../../../../numbers/numerals/__pv_it/common/d278e359da0695d9652dd541d45264f93703e2e40/expr.png\" style=\"display:inline;vertical-align:middle;\" /></a></td></tr>\n",
       "<tr><td>52</td><td>Variable</td><td></td><td><a class=\"ProveItLink\" href=\"../../../../../__pv_it/common/b9fd37fc619babc74a6203459f110251586df6970/expr.ipynb\"><img src=\"../../../../../__pv_it/common/b9fd37fc619babc74a6203459f110251586df6970/expr.png\" style=\"display:inline;vertical-align:middle;\" /></a></td></tr>\n",
       "<tr><td>53</td><td>Variable</td><td></td><td><a class=\"ProveItLink\" href=\"../../../../../__pv_it/common/66c90e66682f107a881f2d666959f64e2e72ad750/expr.ipynb\"><img src=\"../../../../../__pv_it/common/66c90e66682f107a881f2d666959f64e2e72ad750/expr.png\" style=\"display:inline;vertical-align:middle;\" /></a></td></tr>\n",
       "<tr><td>54</td><td>Variable</td><td></td><td><a class=\"ProveItLink\" href=\"../../../../../__pv_it/common/575a6156bb1c87c5beeaf38c302b5905ad57f5780/expr.ipynb\"><img src=\"../../../../../__pv_it/common/575a6156bb1c87c5beeaf38c302b5905ad57f5780/expr.png\" style=\"display:inline;vertical-align:middle;\" /></a></td></tr>\n",
       "<tr><td>55</td><td>Variable</td><td></td><td><a class=\"ProveItLink\" href=\"../../../../../__pv_it/common/4a5db8cc5c67969ec864bd3ea598be37cb6f5e550/expr.ipynb\"><img src=\"../../../../../__pv_it/common/4a5db8cc5c67969ec864bd3ea598be37cb6f5e550/expr.png\" style=\"display:inline;vertical-align:middle;\" /></a></td></tr>\n",
       "</table>\n"
      ],
      "text/plain": [
       "0. ((i, j, k, l) -> {(f(i + a), ..f(k + a).., f(j + a)) = (f(k + b), ..f(i + b).., f(l + b)) if ((j + 1) - i) in Natural ,  (i + a) = (k + b) ,  (j + a) = (l + b).)\n",
       "   core type: ExprTuple\n",
       "   sub-expressions: 1\n",
       "1. (i, j, k, l) -> {(f(i + a), ..f(k + a).., f(j + a)) = (f(k + b), ..f(i + b).., f(l + b)) if ((j + 1) - i) in Natural ,  (i + a) = (k + b) ,  (j + a) = (l + b).\n",
       "   core type: Lambda\n",
       "   parameters: 2\\n   body: 3\n",
       "2. (i, j, k, l)\n",
       "   core type: ExprTuple\n",
       "   sub-expressions: 54, 50, 52, 41\n",
       "3. {(f(i + a), ..f(k + a).., f(j + a)) = (f(k + b), ..f(i + b).., f(l + b)) if ((j + 1) - i) in Natural ,  (i + a) = (k + b) ,  (j + a) = (l + b).\n",
       "   core type: Conditional\n",
       "   value: 4\n",
       "   condition: 5\n",
       "4. (f(i + a), ..f(k + a).., f(j + a)) = (f(k + b), ..f(i + b).., f(l + b))\n",
       "   core type: Operation\n",
       "   operator: 19\n",
       "   operands: 6\n",
       "5. (((j + 1) - i) in Natural) and ((i + a) = (k + b)) and ((j + a) = (l + b))\n",
       "   core type: Operation\n",
       "   operator: 7\n",
       "   operands: 8\n",
       "6. ((f(i + a), ..f(k + a).., f(j + a)), (f(k + b), ..f(i + b).., f(l + b)))\n",
       "   core type: ExprTuple\n",
       "   sub-expressions: 9, 10\n",
       "7. and\n",
       "   core type: Literal\n",
       "   sub-expressions: \n",
       "8. (((j + 1) - i) in Natural, (i + a) = (k + b), (j + a) = (l + b))\n",
       "   core type: ExprTuple\n",
       "   sub-expressions: 11, 12, 13\n",
       "9. (f(i + a), ..f(k + a).., f(j + a))\n",
       "   core type: ExprTuple\n",
       "   sub-expressions: 14\n",
       "10. (f(k + b), ..f(i + b).., f(l + b))\n",
       "    core type: ExprTuple\n",
       "    sub-expressions: 15\n",
       "11. ((j + 1) - i) in Natural\n",
       "    core type: Operation\n",
       "    operator: 16\n",
       "    operands: 17\n",
       "12. (i + a) = (k + b)\n",
       "    core type: Operation\n",
       "    operator: 19\n",
       "    operands: 18\n",
       "13. (j + a) = (l + b)\n",
       "    core type: Operation\n",
       "    operator: 19\n",
       "    operands: 20\n",
       "14. f(i + a), ..f(k + a).., f(j + a)\n",
       "    core type: ExprRange\n",
       "    lambda_map: 21\n",
       "    start_index: 54\n",
       "    end_index: 50\n",
       "15. f(k + b), ..f(i + b).., f(l + b)\n",
       "    core type: ExprRange\n",
       "    lambda_map: 22\n",
       "    start_index: 52\n",
       "    end_index: 41\n",
       "16. in\n",
       "    core type: Literal\n",
       "    sub-expressions: \n",
       "17. ((j + 1) - i, Natural)\n",
       "    core type: ExprTuple\n",
       "    sub-expressions: 23, 24\n",
       "18. (i + a, k + b)\n",
       "    core type: ExprTuple\n",
       "    sub-expressions: 25, 26\n",
       "19. =\n",
       "    core type: Literal\n",
       "    sub-expressions: \n",
       "20. (j + a, l + b)\n",
       "    core type: ExprTuple\n",
       "    sub-expressions: 27, 28\n",
       "21. k -> f(k + a)\n",
       "    core type: Lambda\n",
       "    parameter: 52\n",
       "    body: 29\n",
       "22. i -> f(i + b)\n",
       "    core type: Lambda\n",
       "    parameter: 54\n",
       "    body: 30\n",
       "23. (j + 1) - i\n",
       "    core type: Operation\n",
       "    operator: 48\n",
       "    operands: 31\n",
       "24. Natural\n",
       "    core type: Literal\n",
       "    sub-expressions: \n",
       "25. i + a\n",
       "    core type: Operation\n",
       "    operator: 48\n",
       "    operands: 32\n",
       "26. k + b\n",
       "    core type: Operation\n",
       "    operator: 48\n",
       "    operands: 33\n",
       "27. j + a\n",
       "    core type: Operation\n",
       "    operator: 48\n",
       "    operands: 34\n",
       "28. l + b\n",
       "    core type: Operation\n",
       "    operator: 48\n",
       "    operands: 35\n",
       "29. f(k + a)\n",
       "    core type: Operation\n",
       "    operator: 37\n",
       "    operand: 42\n",
       "30. f(i + b)\n",
       "    core type: Operation\n",
       "    operator: 37\n",
       "    operand: 43\n",
       "31. (j + 1, -i)\n",
       "    core type: ExprTuple\n",
       "    sub-expressions: 39, 40\n",
       "32. (i, a)\n",
       "    core type: ExprTuple\n",
       "    sub-expressions: 54, 53\n",
       "33. (k, b)\n",
       "    core type: ExprTuple\n",
       "    sub-expressions: 52, 55\n",
       "34. (j, a)\n",
       "    core type: ExprTuple\n",
       "    sub-expressions: 50, 53\n",
       "35. (l, b)\n",
       "    core type: ExprTuple\n",
       "    sub-expressions: 41, 55\n",
       "36. (k + a)\n",
       "    core type: ExprTuple\n",
       "    sub-expressions: 42\n",
       "37. f\n",
       "    core type: Variable\n",
       "    sub-expressions: \n",
       "38. (i + b)\n",
       "    core type: ExprTuple\n",
       "    sub-expressions: 43\n",
       "39. j + 1\n",
       "    core type: Operation\n",
       "    operator: 48\n",
       "    operands: 44\n",
       "40. -i\n",
       "    core type: Operation\n",
       "    operator: 45\n",
       "    operand: 54\n",
       "41. l\n",
       "    core type: Variable\n",
       "    sub-expressions: \n",
       "42. k + a\n",
       "    core type: Operation\n",
       "    operator: 48\n",
       "    operands: 47\n",
       "43. i + b\n",
       "    core type: Operation\n",
       "    operator: 48\n",
       "    operands: 49\n",
       "44. (j, 1)\n",
       "    core type: ExprTuple\n",
       "    sub-expressions: 50, 51\n",
       "45. -\n",
       "    core type: Literal\n",
       "    sub-expressions: \n",
       "46. (i)\n",
       "    core type: ExprTuple\n",
       "    sub-expressions: 54\n",
       "47. (k, a)\n",
       "    core type: ExprTuple\n",
       "    sub-expressions: 52, 53\n",
       "48. +\n",
       "    core type: Literal\n",
       "    sub-expressions: \n",
       "49. (i, b)\n",
       "    core type: ExprTuple\n",
       "    sub-expressions: 54, 55\n",
       "50. j\n",
       "    core type: Variable\n",
       "    sub-expressions: \n",
       "51. 1\n",
       "    core type: Literal\n",
       "    sub-expressions: \n",
       "52. k\n",
       "    core type: Variable\n",
       "    sub-expressions: \n",
       "53. a\n",
       "    core type: Variable\n",
       "    sub-expressions: \n",
       "54. i\n",
       "    core type: Variable\n",
       "    sub-expressions: \n",
       "55. b\n",
       "    core type: Variable\n",
       "    sub-expressions: "
      ]
     },
     "execution_count": 6,
     "metadata": {},
     "output_type": "execute_result"
    }
   ],
   "source": [
    "# display the expression information\n",
    "expr.expr_info()"
   ]
  },
  {
   "cell_type": "code",
   "execution_count": null,
   "metadata": {},
   "outputs": [],
   "source": []
  }
 ],
 "metadata": {
  "kernelspec": {
   "display_name": "Python 3",
   "language": "python",
   "name": "python3"
  }
 },
 "nbformat": 4,
 "nbformat_minor": 0
}