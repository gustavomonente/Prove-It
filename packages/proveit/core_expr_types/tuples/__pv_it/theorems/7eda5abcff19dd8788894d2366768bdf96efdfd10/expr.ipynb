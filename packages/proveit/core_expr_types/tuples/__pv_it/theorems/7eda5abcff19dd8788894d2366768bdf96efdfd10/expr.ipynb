{
 "cells": [
  {
   "cell_type": "markdown",
   "metadata": {},
   "source": [
    "Expression of type <a class=\"ProveItLink\" href=\"../../../../../../../doc/html/api/proveit.logic.Forall.html\">Forall</a>\n",
    "=======================\n",
    "# from the theory of <a class=\"ProveItLink\" href=\"../../../_theory_nbs_/theory.ipynb\">proveit.core_expr_types.tuples</a>"
   ]
  },
  {
   "cell_type": "code",
   "execution_count": 1,
   "metadata": {},
   "outputs": [],
   "source": [
    "import proveit\n",
    "# Automation is not needed when building an expression:\n",
    "proveit.defaults.automation = False # This will speed things up.\n",
    "proveit.defaults.inline_pngs = False # Makes files smaller.\n",
    "%load_expr # Load the stored expression as 'stored_expr'\n",
    "# import Expression classes needed to build the expression\n",
    "from proveit import f, i, j, m, n\n",
    "from proveit.core_expr_types import Len\n",
    "from proveit.core_expr_types.tuples import general_range_of_ranges\n",
    "from proveit.logic import Equals, Forall\n",
    "from proveit.numbers import Add, Natural, one, zero"
   ]
  },
  {
   "cell_type": "code",
   "execution_count": 2,
   "metadata": {},
   "outputs": [
    {
     "data": {
      "text/html": [
       "<strong id=\"expr\">expr:</strong> <a class=\"ProveItLink\" href=\"expr.ipynb\"><img src=\"expr.png\" style=\"display:inline;vertical-align:middle;\" /></a><br>"
      ],
      "text/plain": [
       "expr: forall_{m, n in Natural | (n + 1) = m} [forall_{f, i, j} (|(f(m, i(m)), ..f(m, l).., f(m, j(m)), ....f(k, i(k)), ..f(k, l).., f(k, j(k))...., f(n, i(n)), ..f(n, l).., f(n, j(n)))| \\\\  = 0)]"
      ]
     },
     "execution_count": 2,
     "metadata": {},
     "output_type": "execute_result"
    }
   ],
   "source": [
    "# build up the expression from sub-expressions\n",
    "expr = Forall([m, n], Forall([f, i, j], Equals(Len(general_range_of_ranges), zero).with_wrapping_at(1)), domains = [Natural, Natural], condition = Equals(Add(n, one), m))"
   ]
  },
  {
   "cell_type": "code",
   "execution_count": 3,
   "metadata": {},
   "outputs": [
    {
     "name": "stdout",
     "output_type": "stream",
     "text": [
      "Passed sanity check: expr matches stored_expr\n"
     ]
    }
   ],
   "source": [
    "# check that the built expression is the same as the stored expression\n",
    "assert expr == stored_expr\n",
    "assert expr._style_id == stored_expr._style_id\n",
    "print(\"Passed sanity check: expr matches stored_expr\")"
   ]
  },
  {
   "cell_type": "code",
   "execution_count": 4,
   "metadata": {},
   "outputs": [
    {
     "name": "stdout",
     "output_type": "stream",
     "text": [
      "\\forall_{m, n \\in \\mathbb{N}~|~\\left(n + 1\\right) = m}~\\left[\\forall_{f, i, j}~\\left(\\begin{array}{c} |\\left(f(m, i(m)), \\ldots, f(m, j(m)), \\ldots\\ldots, f(n, i(n)), \\ldots, f(n, j(n))\\right)| \\\\  = 0 \\end{array}\\right)\\right]\n"
     ]
    }
   ],
   "source": [
    "# Show the LaTeX representation of the expression for convenience if you need it.\n",
    "print(expr.latex())"
   ]
  },
  {
   "cell_type": "code",
   "execution_count": 5,
   "metadata": {},
   "outputs": [
    {
     "data": {
      "text/html": [
       "<table><tr><th>&nbsp;</th><th>core type</th><th>sub-expressions</th><th>expression</th></tr>\n",
       "<tr><td>0</td><td>Operation</td><td>operator:&nbsp;6<br>operand:&nbsp;1<br></td><td><a class=\"ProveItLink\" href=\"expr.ipynb\"><img src=\"expr.png\" style=\"display:inline;vertical-align:middle;\" /></a></td></tr>\n",
       "<tr><td>1</td><td>Lambda</td><td>parameters:&nbsp;2<br>body:&nbsp;3<br></td><td><a class=\"ProveItLink\" href=\"../f5dbf68ca163d87e7c88d6dbaeede7b2a2e577300/expr.ipynb\"><img src=\"../f5dbf68ca163d87e7c88d6dbaeede7b2a2e577300/expr.png\" style=\"display:inline;vertical-align:middle;\" /></a></td></tr>\n",
       "<tr><td>2</td><td>ExprTuple</td><td>33, 34</td><td><a class=\"ProveItLink\" href=\"../092ed828b5223350e0e312743205cd26029752560/expr.ipynb\"><img src=\"../092ed828b5223350e0e312743205cd26029752560/expr.png\" style=\"display:inline;vertical-align:middle;\" /></a></td></tr>\n",
       "<tr><td>3</td><td>Conditional</td><td>value:&nbsp;4<br>condition:&nbsp;5<br></td><td><a class=\"ProveItLink\" href=\"../89209b8187f2cc85fc34cdf2544bbda60f109fc30/expr.ipynb\"><img src=\"../89209b8187f2cc85fc34cdf2544bbda60f109fc30/expr.png\" style=\"display:inline;vertical-align:middle;\" /></a></td></tr>\n",
       "<tr><td>4</td><td>Operation</td><td>operator:&nbsp;6<br>operand:&nbsp;7<br></td><td><a class=\"ProveItLink\" href=\"../7a1e7514b7b82e52ace0ea297a0dc00d83768ab40/expr.ipynb\"><img src=\"../7a1e7514b7b82e52ace0ea297a0dc00d83768ab40/expr.png\" style=\"display:inline;vertical-align:middle;\" /></a></td></tr>\n",
       "<tr><td>5</td><td>Operation</td><td>operator:&nbsp;8<br>operands:&nbsp;9<br></td><td><a class=\"ProveItLink\" href=\"../244d81514ce93618f3fc46ec38f022f6a6e01af20/expr.ipynb\"><img src=\"../244d81514ce93618f3fc46ec38f022f6a6e01af20/expr.png\" style=\"display:inline;vertical-align:middle;\" /></a></td></tr>\n",
       "<tr><td>6</td><td>Literal</td><td></td><td><a class=\"ProveItLink\" href=\"../../../../../logic/booleans/quantification/universality/__pv_it/common/083d2baa0b8ecab1d230f9ec29a15aa1355809fb0/expr.ipynb\"><img src=\"../../../../../logic/booleans/quantification/universality/__pv_it/common/083d2baa0b8ecab1d230f9ec29a15aa1355809fb0/expr.png\" style=\"display:inline;vertical-align:middle;\" /></a></td></tr>\n",
       "<tr><td>7</td><td>Lambda</td><td>parameters:&nbsp;10<br>body:&nbsp;11<br></td><td><a class=\"ProveItLink\" href=\"../1d2a058d32b0c22b6c743eebd180c9e544944ad10/expr.ipynb\"><img src=\"../1d2a058d32b0c22b6c743eebd180c9e544944ad10/expr.png\" style=\"display:inline;vertical-align:middle;\" /></a></td></tr>\n",
       "<tr><td>8</td><td>Literal</td><td></td><td><a class=\"ProveItLink\" href=\"../../../../../logic/booleans/conjunction/__pv_it/common/42118ff318bd65d98b1393f64ce7c2269feef76e0/expr.ipynb\"><img src=\"../../../../../logic/booleans/conjunction/__pv_it/common/42118ff318bd65d98b1393f64ce7c2269feef76e0/expr.png\" style=\"display:inline;vertical-align:middle;\" /></a></td></tr>\n",
       "<tr><td>9</td><td>ExprTuple</td><td>12, 13, 14</td><td><a class=\"ProveItLink\" href=\"../7828fec124766215e9a6836b2d87002a528047270/expr.ipynb\"><img src=\"../7828fec124766215e9a6836b2d87002a528047270/expr.png\" style=\"display:inline;vertical-align:middle;\" /></a></td></tr>\n",
       "<tr><td>10</td><td>ExprTuple</td><td>42, 40, 41</td><td><a class=\"ProveItLink\" href=\"../9470c9423ffd89681b11c5be40faae0b4941ce790/expr.ipynb\"><img src=\"../9470c9423ffd89681b11c5be40faae0b4941ce790/expr.png\" style=\"display:inline;vertical-align:middle;\" /></a></td></tr>\n",
       "<tr><td>11</td><td>Operation</td><td>operator:&nbsp;19<br>operands:&nbsp;15<br></td><td><a class=\"ProveItLink\" href=\"../4a640c3935d19837d4c83258a930bab6e74c48f70/expr.ipynb\"><img src=\"../4a640c3935d19837d4c83258a930bab6e74c48f70/expr.png\" style=\"display:inline;vertical-align:middle;\" /></a></td></tr>\n",
       "<tr><td>12</td><td>Operation</td><td>operator:&nbsp;17<br>operands:&nbsp;16<br></td><td><a class=\"ProveItLink\" href=\"../98023afa4ea0d397f8a177bad4a359b36939fb170/expr.ipynb\"><img src=\"../98023afa4ea0d397f8a177bad4a359b36939fb170/expr.png\" style=\"display:inline;vertical-align:middle;\" /></a></td></tr>\n",
       "<tr><td>13</td><td>Operation</td><td>operator:&nbsp;17<br>operands:&nbsp;18<br></td><td><a class=\"ProveItLink\" href=\"../7351e7b0b5ab4699fe31eac3b02ba02b17a05bf60/expr.ipynb\"><img src=\"../7351e7b0b5ab4699fe31eac3b02ba02b17a05bf60/expr.png\" style=\"display:inline;vertical-align:middle;\" /></a></td></tr>\n",
       "<tr><td>14</td><td>Operation</td><td>operator:&nbsp;19<br>operands:&nbsp;20<br></td><td><a class=\"ProveItLink\" href=\"../2dfb3102898a4ef7d7dabe13f86d3402e2f492d40/expr.ipynb\"><img src=\"../2dfb3102898a4ef7d7dabe13f86d3402e2f492d40/expr.png\" style=\"display:inline;vertical-align:middle;\" /></a></td></tr>\n",
       "<tr><td>15</td><td>ExprTuple</td><td>21, 22</td><td><a class=\"ProveItLink\" href=\"../73ec0560f76482db7660c71b5cf72bde3fe42d6b0/expr.ipynb\"><img src=\"../73ec0560f76482db7660c71b5cf72bde3fe42d6b0/expr.png\" style=\"display:inline;vertical-align:middle;\" /></a></td></tr>\n",
       "<tr><td>16</td><td>ExprTuple</td><td>33, 23</td><td><a class=\"ProveItLink\" href=\"../cd7d4f1c848a714c5e3ee950f74fc6919eb17af50/expr.ipynb\"><img src=\"../cd7d4f1c848a714c5e3ee950f74fc6919eb17af50/expr.png\" style=\"display:inline;vertical-align:middle;\" /></a></td></tr>\n",
       "<tr><td>17</td><td>Literal</td><td></td><td><a class=\"ProveItLink\" href=\"../../../../../logic/sets/membership/__pv_it/common/477487d8796864d23d5810f83761435f25167f690/expr.ipynb\"><img src=\"../../../../../logic/sets/membership/__pv_it/common/477487d8796864d23d5810f83761435f25167f690/expr.png\" style=\"display:inline;vertical-align:middle;\" /></a></td></tr>\n",
       "<tr><td>18</td><td>ExprTuple</td><td>34, 23</td><td><a class=\"ProveItLink\" href=\"../361f8713efdd17d455c1f3e958d6205fdaeaf3c70/expr.ipynb\"><img src=\"../361f8713efdd17d455c1f3e958d6205fdaeaf3c70/expr.png\" style=\"display:inline;vertical-align:middle;\" /></a></td></tr>\n",
       "<tr><td>19</td><td>Literal</td><td></td><td><a class=\"ProveItLink\" href=\"../../../../../logic/equality/__pv_it/common/fb96dc12b2aa8801dda64d0132b396c63d1502bb0/expr.ipynb\"><img src=\"../../../../../logic/equality/__pv_it/common/fb96dc12b2aa8801dda64d0132b396c63d1502bb0/expr.png\" style=\"display:inline;vertical-align:middle;\" /></a></td></tr>\n",
       "<tr><td>20</td><td>ExprTuple</td><td>24, 33</td><td><a class=\"ProveItLink\" href=\"../488d706340cd9ffec22eb3ac201af0cda00d88360/expr.ipynb\"><img src=\"../488d706340cd9ffec22eb3ac201af0cda00d88360/expr.png\" style=\"display:inline;vertical-align:middle;\" /></a></td></tr>\n",
       "<tr><td>21</td><td>Operation</td><td>operator:&nbsp;25<br>operand:&nbsp;29<br></td><td><a class=\"ProveItLink\" href=\"../40088872a4edcece4c151b9edb411099746dc9f10/expr.ipynb\"><img src=\"../40088872a4edcece4c151b9edb411099746dc9f10/expr.png\" style=\"display:inline;vertical-align:middle;\" /></a></td></tr>\n",
       "<tr><td>22</td><td>Literal</td><td></td><td><a class=\"ProveItLink\" href=\"../../../../../numbers/numerals/__pv_it/common/7d0a36793ffe8d307a5c120ee5598162e8cd2db10/expr.ipynb\"><img src=\"../../../../../numbers/numerals/__pv_it/common/7d0a36793ffe8d307a5c120ee5598162e8cd2db10/expr.png\" style=\"display:inline;vertical-align:middle;\" /></a></td></tr>\n",
       "<tr><td>23</td><td>Literal</td><td></td><td><a class=\"ProveItLink\" href=\"../../../../../numbers/number_sets/natural_numbers/__pv_it/common/8b7c321957f52ed3b05b36af612eeae4fa4783bc0/expr.ipynb\"><img src=\"../../../../../numbers/number_sets/natural_numbers/__pv_it/common/8b7c321957f52ed3b05b36af612eeae4fa4783bc0/expr.png\" style=\"display:inline;vertical-align:middle;\" /></a></td></tr>\n",
       "<tr><td>24</td><td>Operation</td><td>operator:&nbsp;27<br>operands:&nbsp;28<br></td><td><a class=\"ProveItLink\" href=\"../b2c8bb3f7e888de43490a5d2c485bc5fd8be70ac0/expr.ipynb\"><img src=\"../b2c8bb3f7e888de43490a5d2c485bc5fd8be70ac0/expr.png\" style=\"display:inline;vertical-align:middle;\" /></a></td></tr>\n",
       "<tr><td>25</td><td>Literal</td><td></td><td><a class=\"ProveItLink\" href=\"../../common/43df765abf1294d8f1fd177863f57f08bf5ad0080/expr.ipynb\"><img src=\"../../common/43df765abf1294d8f1fd177863f57f08bf5ad0080/expr.png\" style=\"display:inline;vertical-align:middle;\" /></a></td></tr>\n",
       "<tr><td>26</td><td>ExprTuple</td><td>29</td><td><a class=\"ProveItLink\" href=\"../1445d45c404c2006ac3a6f764bdcdf21d09f92a40/expr.ipynb\"><img src=\"../1445d45c404c2006ac3a6f764bdcdf21d09f92a40/expr.png\" style=\"display:inline;vertical-align:middle;\" /></a></td></tr>\n",
       "<tr><td>27</td><td>Literal</td><td></td><td><a class=\"ProveItLink\" href=\"../../../../../numbers/addition/__pv_it/common/4b7effaab3619a1c2c38fe2dee8601df8ec714590/expr.ipynb\"><img src=\"../../../../../numbers/addition/__pv_it/common/4b7effaab3619a1c2c38fe2dee8601df8ec714590/expr.png\" style=\"display:inline;vertical-align:middle;\" /></a></td></tr>\n",
       "<tr><td>28</td><td>ExprTuple</td><td>34, 30</td><td><a class=\"ProveItLink\" href=\"../75c507f5e87d8a62f5631ecdd8d409d16c2df7980/expr.ipynb\"><img src=\"../75c507f5e87d8a62f5631ecdd8d409d16c2df7980/expr.png\" style=\"display:inline;vertical-align:middle;\" /></a></td></tr>\n",
       "<tr><td>29</td><td>ExprTuple</td><td>31</td><td><a class=\"ProveItLink\" href=\"../../common/f3dbb0bae19a337ad149751c91ddcddfe034eba40/expr.ipynb\"><img src=\"../../common/f3dbb0bae19a337ad149751c91ddcddfe034eba40/expr.png\" style=\"display:inline;vertical-align:middle;\" /></a></td></tr>\n",
       "<tr><td>30</td><td>Literal</td><td></td><td><a class=\"ProveItLink\" href=\"../../../../../numbers/numerals/__pv_it/common/2778428c7f555b2bdc06aa0530bc142c6e6335100/expr.ipynb\"><img src=\"../../../../../numbers/numerals/__pv_it/common/2778428c7f555b2bdc06aa0530bc142c6e6335100/expr.png\" style=\"display:inline;vertical-align:middle;\" /></a></td></tr>\n",
       "<tr><td>31</td><td>ExprRange</td><td>lambda_map:&nbsp;32<br>start_index:&nbsp;33<br>end_index:&nbsp;34<br></td><td><a class=\"ProveItLink\" href=\"../../common/6ccff4016a60be8b67ef429e47213bb8189048290/expr.ipynb\"><img src=\"../../common/6ccff4016a60be8b67ef429e47213bb8189048290/expr.png\" style=\"display:inline;vertical-align:middle;\" /></a></td></tr>\n",
       "<tr><td>32</td><td>Lambda</td><td>parameter:&nbsp;44<br>body:&nbsp;35<br></td><td><a class=\"ProveItLink\" href=\"../../common/6522b4bfff2582913039f810aeca8efd51f771a90/expr.ipynb\"><img src=\"../../common/6522b4bfff2582913039f810aeca8efd51f771a90/expr.png\" style=\"display:inline;vertical-align:middle;\" /></a></td></tr>\n",
       "<tr><td>33</td><td>Variable</td><td></td><td><a class=\"ProveItLink\" href=\"../../../../../__pv_it/common/674a03b9c3ca221b3aabd5636837b31528ff33830/expr.ipynb\"><img src=\"../../../../../__pv_it/common/674a03b9c3ca221b3aabd5636837b31528ff33830/expr.png\" style=\"display:inline;vertical-align:middle;\" /></a></td></tr>\n",
       "<tr><td>34</td><td>Variable</td><td></td><td><a class=\"ProveItLink\" href=\"../../../../../__pv_it/common/8968bb04eb3f7dfa02353397ce929b025bbd79c20/expr.ipynb\"><img src=\"../../../../../__pv_it/common/8968bb04eb3f7dfa02353397ce929b025bbd79c20/expr.png\" style=\"display:inline;vertical-align:middle;\" /></a></td></tr>\n",
       "<tr><td>35</td><td>ExprRange</td><td>lambda_map:&nbsp;36<br>start_index:&nbsp;37<br>end_index:&nbsp;38<br></td><td><a class=\"ProveItLink\" href=\"../../common/87816a3cf9a39c72288fd0e3f09053f90b4bee9f0/expr.ipynb\"><img src=\"../../common/87816a3cf9a39c72288fd0e3f09053f90b4bee9f0/expr.png\" style=\"display:inline;vertical-align:middle;\" /></a></td></tr>\n",
       "<tr><td>36</td><td>Lambda</td><td>parameter:&nbsp;45<br>body:&nbsp;39<br></td><td><a class=\"ProveItLink\" href=\"../../common/046908c4ad4b60f2b66efd10d7b59fbabc2a1fbb0/expr.ipynb\"><img src=\"../../common/046908c4ad4b60f2b66efd10d7b59fbabc2a1fbb0/expr.png\" style=\"display:inline;vertical-align:middle;\" /></a></td></tr>\n",
       "<tr><td>37</td><td>Operation</td><td>operator:&nbsp;40<br>operand:&nbsp;44<br></td><td><a class=\"ProveItLink\" href=\"../../common/ac22caf9eb5a67b080045d5e790575830fedf2c00/expr.ipynb\"><img src=\"../../common/ac22caf9eb5a67b080045d5e790575830fedf2c00/expr.png\" style=\"display:inline;vertical-align:middle;\" /></a></td></tr>\n",
       "<tr><td>38</td><td>Operation</td><td>operator:&nbsp;41<br>operand:&nbsp;44<br></td><td><a class=\"ProveItLink\" href=\"../../common/bffe71b49f1d92c9c5ceda8ca270a93a315615810/expr.ipynb\"><img src=\"../../common/bffe71b49f1d92c9c5ceda8ca270a93a315615810/expr.png\" style=\"display:inline;vertical-align:middle;\" /></a></td></tr>\n",
       "<tr><td>39</td><td>Operation</td><td>operator:&nbsp;42<br>operands:&nbsp;43<br></td><td><a class=\"ProveItLink\" href=\"../../common/006311e47c79d17eda402d5ed8f0511adc14a8000/expr.ipynb\"><img src=\"../../common/006311e47c79d17eda402d5ed8f0511adc14a8000/expr.png\" style=\"display:inline;vertical-align:middle;\" /></a></td></tr>\n",
       "<tr><td>40</td><td>Variable</td><td></td><td><a class=\"ProveItLink\" href=\"../../../../../__pv_it/common/ae955345c83abf786c3aff8681cd5465beae262d0/expr.ipynb\"><img src=\"../../../../../__pv_it/common/ae955345c83abf786c3aff8681cd5465beae262d0/expr.png\" style=\"display:inline;vertical-align:middle;\" /></a></td></tr>\n",
       "<tr><td>41</td><td>Variable</td><td></td><td><a class=\"ProveItLink\" href=\"../../../../../__pv_it/common/1ed21df18baca2f42b561a7ffbf30a2743d594650/expr.ipynb\"><img src=\"../../../../../__pv_it/common/1ed21df18baca2f42b561a7ffbf30a2743d594650/expr.png\" style=\"display:inline;vertical-align:middle;\" /></a></td></tr>\n",
       "<tr><td>42</td><td>Variable</td><td></td><td><a class=\"ProveItLink\" href=\"../../../../../__pv_it/common/01b6dbb444a31fc38af4c2379badef6c75b363710/expr.ipynb\"><img src=\"../../../../../__pv_it/common/01b6dbb444a31fc38af4c2379badef6c75b363710/expr.png\" style=\"display:inline;vertical-align:middle;\" /></a></td></tr>\n",
       "<tr><td>43</td><td>ExprTuple</td><td>44, 45</td><td><a class=\"ProveItLink\" href=\"../../common/9715d4b9bea00e4d99beaad97f85d31d117be5a00/expr.ipynb\"><img src=\"../../common/9715d4b9bea00e4d99beaad97f85d31d117be5a00/expr.png\" style=\"display:inline;vertical-align:middle;\" /></a></td></tr>\n",
       "<tr><td>44</td><td>Variable</td><td></td><td><a class=\"ProveItLink\" href=\"../../../../../__pv_it/common/63b7c64bf9ec7a04ecc396c7a1670f3f12fb59490/expr.ipynb\"><img src=\"../../../../../__pv_it/common/63b7c64bf9ec7a04ecc396c7a1670f3f12fb59490/expr.png\" style=\"display:inline;vertical-align:middle;\" /></a></td></tr>\n",
       "<tr><td>45</td><td>Variable</td><td></td><td><a class=\"ProveItLink\" href=\"../../../../../__pv_it/common/27cc275d44b4f4499fb9ccfb3fab1a98165d2fa60/expr.ipynb\"><img src=\"../../../../../__pv_it/common/27cc275d44b4f4499fb9ccfb3fab1a98165d2fa60/expr.png\" style=\"display:inline;vertical-align:middle;\" /></a></td></tr>\n",
       "</table>\n"
      ],
      "text/plain": [
       "0. forall_{m, n in Natural | (n + 1) = m} [forall_{f, i, j} (|(f(m, i(m)), ..f(m, l).., f(m, j(m)), ....f(k, i(k)), ..f(k, l).., f(k, j(k))...., f(n, i(n)), ..f(n, l).., f(n, j(n)))| \\\\  = 0)]\n",
       "   core type: Operation\n",
       "   operator: 6\n",
       "   operand: 1\n",
       "1. (m, n) -> {forall_{f, i, j} (|(f(m, i(m)), ..f(m, l).., f(m, j(m)), ....f(k, i(k)), ..f(k, l).., f(k, j(k))...., f(n, i(n)), ..f(n, l).., f(n, j(n)))| \\\\  = 0) if m in Natural ,  n in Natural ,  (n + 1) = m.\n",
       "   core type: Lambda\n",
       "   parameters: 2\\n   body: 3\n",
       "2. (m, n)\n",
       "   core type: ExprTuple\n",
       "   sub-expressions: 33, 34\n",
       "3. {forall_{f, i, j} (|(f(m, i(m)), ..f(m, l).., f(m, j(m)), ....f(k, i(k)), ..f(k, l).., f(k, j(k))...., f(n, i(n)), ..f(n, l).., f(n, j(n)))| \\\\  = 0) if m in Natural ,  n in Natural ,  (n + 1) = m.\n",
       "   core type: Conditional\n",
       "   value: 4\n",
       "   condition: 5\n",
       "4. forall_{f, i, j} (|(f(m, i(m)), ..f(m, l).., f(m, j(m)), ....f(k, i(k)), ..f(k, l).., f(k, j(k))...., f(n, i(n)), ..f(n, l).., f(n, j(n)))| \\\\  = 0)\n",
       "   core type: Operation\n",
       "   operator: 6\n",
       "   operand: 7\n",
       "5. (m in Natural) and (n in Natural) and ((n + 1) = m)\n",
       "   core type: Operation\n",
       "   operator: 8\n",
       "   operands: 9\n",
       "6. forall\n",
       "   core type: Literal\n",
       "   sub-expressions: \n",
       "7. (f, i, j) -> (|(f(m, i(m)), ..f(m, l).., f(m, j(m)), ....f(k, i(k)), ..f(k, l).., f(k, j(k))...., f(n, i(n)), ..f(n, l).., f(n, j(n)))| \\\\  = 0)\n",
       "   core type: Lambda\n",
       "   parameters: 10\\n   body: 11\n",
       "8. and\n",
       "   core type: Literal\n",
       "   sub-expressions: \n",
       "9. (m in Natural, n in Natural, (n + 1) = m)\n",
       "   core type: ExprTuple\n",
       "   sub-expressions: 12, 13, 14\n",
       "10. (f, i, j)\n",
       "    core type: ExprTuple\n",
       "    sub-expressions: 42, 40, 41\n",
       "11. |(f(m, i(m)), ..f(m, l).., f(m, j(m)), ....f(k, i(k)), ..f(k, l).., f(k, j(k))...., f(n, i(n)), ..f(n, l).., f(n, j(n)))| \\\\  = 0\n",
       "    core type: Operation\n",
       "    operator: 19\n",
       "    operands: 15\n",
       "12. m in Natural\n",
       "    core type: Operation\n",
       "    operator: 17\n",
       "    operands: 16\n",
       "13. n in Natural\n",
       "    core type: Operation\n",
       "    operator: 17\n",
       "    operands: 18\n",
       "14. (n + 1) = m\n",
       "    core type: Operation\n",
       "    operator: 19\n",
       "    operands: 20\n",
       "15. (|(f(m, i(m)), ..f(m, l).., f(m, j(m)), ....f(k, i(k)), ..f(k, l).., f(k, j(k))...., f(n, i(n)), ..f(n, l).., f(n, j(n)))|, 0)\n",
       "    core type: ExprTuple\n",
       "    sub-expressions: 21, 22\n",
       "16. (m, Natural)\n",
       "    core type: ExprTuple\n",
       "    sub-expressions: 33, 23\n",
       "17. in\n",
       "    core type: Literal\n",
       "    sub-expressions: \n",
       "18. (n, Natural)\n",
       "    core type: ExprTuple\n",
       "    sub-expressions: 34, 23\n",
       "19. =\n",
       "    core type: Literal\n",
       "    sub-expressions: \n",
       "20. (n + 1, m)\n",
       "    core type: ExprTuple\n",
       "    sub-expressions: 24, 33\n",
       "21. |(f(m, i(m)), ..f(m, l).., f(m, j(m)), ....f(k, i(k)), ..f(k, l).., f(k, j(k))...., f(n, i(n)), ..f(n, l).., f(n, j(n)))|\n",
       "    core type: Operation\n",
       "    operator: 25\n",
       "    operand: 29\n",
       "22. 0\n",
       "    core type: Literal\n",
       "    sub-expressions: \n",
       "23. Natural\n",
       "    core type: Literal\n",
       "    sub-expressions: \n",
       "24. n + 1\n",
       "    core type: Operation\n",
       "    operator: 27\n",
       "    operands: 28\n",
       "25. length\n",
       "    core type: Literal\n",
       "    sub-expressions: \n",
       "26. ((f(m, i(m)), ..f(m, l).., f(m, j(m)), ....f(k, i(k)), ..f(k, l).., f(k, j(k))...., f(n, i(n)), ..f(n, l).., f(n, j(n))))\n",
       "    core type: ExprTuple\n",
       "    sub-expressions: 29\n",
       "27. +\n",
       "    core type: Literal\n",
       "    sub-expressions: \n",
       "28. (n, 1)\n",
       "    core type: ExprTuple\n",
       "    sub-expressions: 34, 30\n",
       "29. (f(m, i(m)), ..f(m, l).., f(m, j(m)), ....f(k, i(k)), ..f(k, l).., f(k, j(k))...., f(n, i(n)), ..f(n, l).., f(n, j(n)))\n",
       "    core type: ExprTuple\n",
       "    sub-expressions: 31\n",
       "30. 1\n",
       "    core type: Literal\n",
       "    sub-expressions: \n",
       "31. f(m, i(m)), ..f(m, l).., f(m, j(m)), ....f(k, i(k)), ..f(k, l).., f(k, j(k))...., f(n, i(n)), ..f(n, l).., f(n, j(n))\n",
       "    core type: ExprRange\n",
       "    lambda_map: 32\n",
       "    start_index: 33\n",
       "    end_index: 34\n",
       "32. k -> f(k, i(k)), ..f(k, l).., f(k, j(k))\n",
       "    core type: Lambda\n",
       "    parameter: 44\n",
       "    body: 35\n",
       "33. m\n",
       "    core type: Variable\n",
       "    sub-expressions: \n",
       "34. n\n",
       "    core type: Variable\n",
       "    sub-expressions: \n",
       "35. f(k, i(k)), ..f(k, l).., f(k, j(k))\n",
       "    core type: ExprRange\n",
       "    lambda_map: 36\n",
       "    start_index: 37\n",
       "    end_index: 38\n",
       "36. l -> f(k, l)\n",
       "    core type: Lambda\n",
       "    parameter: 45\n",
       "    body: 39\n",
       "37. i(k)\n",
       "    core type: Operation\n",
       "    operator: 40\n",
       "    operand: 44\n",
       "38. j(k)\n",
       "    core type: Operation\n",
       "    operator: 41\n",
       "    operand: 44\n",
       "39. f(k, l)\n",
       "    core type: Operation\n",
       "    operator: 42\n",
       "    operands: 43\n",
       "40. i\n",
       "    core type: Variable\n",
       "    sub-expressions: \n",
       "41. j\n",
       "    core type: Variable\n",
       "    sub-expressions: \n",
       "42. f\n",
       "    core type: Variable\n",
       "    sub-expressions: \n",
       "43. (k, l)\n",
       "    core type: ExprTuple\n",
       "    sub-expressions: 44, 45\n",
       "44. k\n",
       "    core type: Variable\n",
       "    sub-expressions: \n",
       "45. l\n",
       "    core type: Variable\n",
       "    sub-expressions: "
      ]
     },
     "execution_count": 5,
     "metadata": {},
     "output_type": "execute_result"
    }
   ],
   "source": [
    "# display the expression information\n",
    "expr.expr_info()"
   ]
  },
  {
   "cell_type": "code",
   "execution_count": null,
   "metadata": {},
   "outputs": [],
   "source": []
  }
 ],
 "metadata": {
  "kernelspec": {
   "display_name": "Python 3",
   "language": "python",
   "name": "python3"
  }
 },
 "nbformat": 4,
 "nbformat_minor": 0
}