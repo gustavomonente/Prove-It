{
 "cells": [
  {
   "cell_type": "markdown",
   "metadata": {},
   "source": [
    "Expression of type <a class=\"ProveItLink\" href=\"../../../../../../../doc/html/api/proveit.ExprTuple.html\">ExprTuple</a>\n",
    "=======================\n",
    "# from the theory of <a class=\"ProveItLink\" href=\"../../../_theory_nbs_/theory.ipynb\">proveit.core_expr_types.tuples</a>"
   ]
  },
  {
   "cell_type": "code",
   "execution_count": 1,
   "metadata": {},
   "outputs": [],
   "source": [
    "import proveit\n",
    "# Automation is not needed when building an expression:\n",
    "proveit.defaults.automation = False # This will speed things up.\n",
    "proveit.defaults.inline_pngs = False # Makes files smaller.\n",
    "%load_expr # Load the stored expression as 'stored_expr'\n",
    "# import Expression classes needed to build the expression\n",
    "from proveit import ExprTuple\n",
    "from proveit.core_expr_types import Len\n",
    "from proveit.core_expr_types.tuples import general_range_of_ranges\n",
    "from proveit.numbers import zero"
   ]
  },
  {
   "cell_type": "code",
   "execution_count": 2,
   "metadata": {},
   "outputs": [
    {
     "data": {
      "text/html": [
       "<strong id=\"expr\">expr:</strong> <a class=\"ProveItLink\" href=\"expr.ipynb\"><img src=\"expr.png\" style=\"display:inline;vertical-align:middle;\" /></a><br>"
      ],
      "text/plain": [
       "expr: (|(f(m, i(m)), ..f(m, l).., f(m, j(m)), ....f(k, i(k)), ..f(k, l).., f(k, j(k))...., f(n, i(n)), ..f(n, l).., f(n, j(n)))|, 0)"
      ]
     },
     "execution_count": 2,
     "metadata": {},
     "output_type": "execute_result"
    }
   ],
   "source": [
    "# build up the expression from sub-expressions\n",
    "expr = ExprTuple(Len(general_range_of_ranges), zero)"
   ]
  },
  {
   "cell_type": "code",
   "execution_count": 3,
   "metadata": {},
   "outputs": [
    {
     "name": "stdout",
     "output_type": "stream",
     "text": [
      "Passed sanity check: expr matches stored_expr\n"
     ]
    }
   ],
   "source": [
    "# check that the built expression is the same as the stored expression\n",
    "assert expr == stored_expr\n",
    "assert expr._style_id == stored_expr._style_id\n",
    "print(\"Passed sanity check: expr matches stored_expr\")"
   ]
  },
  {
   "cell_type": "code",
   "execution_count": 4,
   "metadata": {},
   "outputs": [
    {
     "name": "stdout",
     "output_type": "stream",
     "text": [
      "\\left(|\\left(f(m, i(m)), \\ldots, f(m, j(m)), \\ldots\\ldots, f(n, i(n)), \\ldots, f(n, j(n))\\right)|, 0\\right)\n"
     ]
    }
   ],
   "source": [
    "# Show the LaTeX representation of the expression for convenience if you need it.\n",
    "print(expr.latex())"
   ]
  },
  {
   "cell_type": "code",
   "execution_count": 5,
   "metadata": {},
   "outputs": [
    {
     "data": {
      "text/html": [
       "<table>\n",
       "<tr><th>name</th><th>description</th><th>default</th><th>current value</th><th>related methods</th></tr><tr><td>wrap_positions</td><td>position(s) at which wrapping is to occur; 'n' is after the nth comma.</td><td>()</td><td>()</td><td>('with_wrapping_at',)</td></tr>\n",
       "<tr><td>justification</td><td>if any wrap positions are set, justify to the 'left', 'center', or 'right'</td><td>left</td><td>left</td><td>('with_justification',)</td></tr>\n",
       "</table>\n"
      ],
      "text/plain": [
       "style name: wrap_positions\n",
       "description: position(s) at which wrapping is to occur; 'n' is after the nth comma.\n",
       "default: ()\n",
       "current value: ()\n",
       "related methods: ('with_wrapping_at',)\n",
       "style name: justification\n",
       "description: if any wrap positions are set, justify to the 'left', 'center', or 'right'\n",
       "default: left\n",
       "current value: left\n",
       "related methods: ('with_justification',)"
      ]
     },
     "execution_count": 5,
     "metadata": {},
     "output_type": "execute_result"
    }
   ],
   "source": [
    "expr.style_options()"
   ]
  },
  {
   "cell_type": "code",
   "execution_count": 6,
   "metadata": {},
   "outputs": [
    {
     "data": {
      "text/html": [
       "<table><tr><th>&nbsp;</th><th>core type</th><th>sub-expressions</th><th>expression</th></tr>\n",
       "<tr><td>0</td><td>ExprTuple</td><td>1, 2</td><td><a class=\"ProveItLink\" href=\"expr.ipynb\"><img src=\"expr.png\" style=\"display:inline;vertical-align:middle;\" /></a></td></tr>\n",
       "<tr><td>1</td><td>Operation</td><td>operator:&nbsp;3<br>operand:&nbsp;5<br></td><td><a class=\"ProveItLink\" href=\"../e1c6d4bc8561486ce954ec4e9e96ef81d1087c2f0/expr.ipynb\"><img src=\"../e1c6d4bc8561486ce954ec4e9e96ef81d1087c2f0/expr.png\" style=\"display:inline;vertical-align:middle;\" /></a></td></tr>\n",
       "<tr><td>2</td><td>Literal</td><td></td><td><a class=\"ProveItLink\" href=\"../../../../../numbers/numerals/__pv_it/common/c35fdf7268947ca3e24174d2909dc9d0a7f3aac60/expr.ipynb\"><img src=\"../../../../../numbers/numerals/__pv_it/common/c35fdf7268947ca3e24174d2909dc9d0a7f3aac60/expr.png\" style=\"display:inline;vertical-align:middle;\" /></a></td></tr>\n",
       "<tr><td>3</td><td>Literal</td><td></td><td><a class=\"ProveItLink\" href=\"../../common/29138a46bfd9f58652485fe2e3b1ee46d90d773e0/expr.ipynb\"><img src=\"../../common/29138a46bfd9f58652485fe2e3b1ee46d90d773e0/expr.png\" style=\"display:inline;vertical-align:middle;\" /></a></td></tr>\n",
       "<tr><td>4</td><td>ExprTuple</td><td>5</td><td><a class=\"ProveItLink\" href=\"../20576206e2cd034ed110bdc6e7a69ab20f34b60b0/expr.ipynb\"><img src=\"../20576206e2cd034ed110bdc6e7a69ab20f34b60b0/expr.png\" style=\"display:inline;vertical-align:middle;\" /></a></td></tr>\n",
       "<tr><td>5</td><td>ExprTuple</td><td>6</td><td><a class=\"ProveItLink\" href=\"../../common/02671cd9962aaef2ce655976c38cd16f6e5d2c720/expr.ipynb\"><img src=\"../../common/02671cd9962aaef2ce655976c38cd16f6e5d2c720/expr.png\" style=\"display:inline;vertical-align:middle;\" /></a></td></tr>\n",
       "<tr><td>6</td><td>ExprRange</td><td>lambda_map:&nbsp;7<br>start_index:&nbsp;8<br>end_index:&nbsp;9<br></td><td><a class=\"ProveItLink\" href=\"../../common/357c5ddbc5be6416936c2d3a4745b78835f0df810/expr.ipynb\"><img src=\"../../common/357c5ddbc5be6416936c2d3a4745b78835f0df810/expr.png\" style=\"display:inline;vertical-align:middle;\" /></a></td></tr>\n",
       "<tr><td>7</td><td>Lambda</td><td>parameter:&nbsp;20<br>body:&nbsp;10<br></td><td><a class=\"ProveItLink\" href=\"../../common/ba2633ff23d282cdfa2b82dde35a6b7c2c3f8e7c0/expr.ipynb\"><img src=\"../../common/ba2633ff23d282cdfa2b82dde35a6b7c2c3f8e7c0/expr.png\" style=\"display:inline;vertical-align:middle;\" /></a></td></tr>\n",
       "<tr><td>8</td><td>Variable</td><td></td><td><a class=\"ProveItLink\" href=\"../../../../../__pv_it/common/2dc4f15b3407a25e8d70754a86bf74f1871f92650/expr.ipynb\"><img src=\"../../../../../__pv_it/common/2dc4f15b3407a25e8d70754a86bf74f1871f92650/expr.png\" style=\"display:inline;vertical-align:middle;\" /></a></td></tr>\n",
       "<tr><td>9</td><td>Variable</td><td></td><td><a class=\"ProveItLink\" href=\"../../../../../__pv_it/common/6165c9bb82ce3c7097cdba4440a1aeeb6eaca8a40/expr.ipynb\"><img src=\"../../../../../__pv_it/common/6165c9bb82ce3c7097cdba4440a1aeeb6eaca8a40/expr.png\" style=\"display:inline;vertical-align:middle;\" /></a></td></tr>\n",
       "<tr><td>10</td><td>ExprRange</td><td>lambda_map:&nbsp;11<br>start_index:&nbsp;12<br>end_index:&nbsp;13<br></td><td><a class=\"ProveItLink\" href=\"../../common/9e0daf3c8b12a15e125aa323d893d784113dc09e0/expr.ipynb\"><img src=\"../../common/9e0daf3c8b12a15e125aa323d893d784113dc09e0/expr.png\" style=\"display:inline;vertical-align:middle;\" /></a></td></tr>\n",
       "<tr><td>11</td><td>Lambda</td><td>parameter:&nbsp;21<br>body:&nbsp;14<br></td><td><a class=\"ProveItLink\" href=\"../../common/9e79017229e3e8f5e6e16f7b51880ea846e53df40/expr.ipynb\"><img src=\"../../common/9e79017229e3e8f5e6e16f7b51880ea846e53df40/expr.png\" style=\"display:inline;vertical-align:middle;\" /></a></td></tr>\n",
       "<tr><td>12</td><td>Operation</td><td>operator:&nbsp;15<br>operand:&nbsp;20<br></td><td><a class=\"ProveItLink\" href=\"../../common/7b1e29beee3a0141d528640ddf712b9131cc05b70/expr.ipynb\"><img src=\"../../common/7b1e29beee3a0141d528640ddf712b9131cc05b70/expr.png\" style=\"display:inline;vertical-align:middle;\" /></a></td></tr>\n",
       "<tr><td>13</td><td>Operation</td><td>operator:&nbsp;16<br>operand:&nbsp;20<br></td><td><a class=\"ProveItLink\" href=\"../../common/043a29b3789e91680b241222cbac8dd60270a8cb0/expr.ipynb\"><img src=\"../../common/043a29b3789e91680b241222cbac8dd60270a8cb0/expr.png\" style=\"display:inline;vertical-align:middle;\" /></a></td></tr>\n",
       "<tr><td>14</td><td>Operation</td><td>operator:&nbsp;18<br>operands:&nbsp;19<br></td><td><a class=\"ProveItLink\" href=\"../../common/4810089430774dbacc883b4090f468d3fbf80d3a0/expr.ipynb\"><img src=\"../../common/4810089430774dbacc883b4090f468d3fbf80d3a0/expr.png\" style=\"display:inline;vertical-align:middle;\" /></a></td></tr>\n",
       "<tr><td>15</td><td>Variable</td><td></td><td><a class=\"ProveItLink\" href=\"../../../../../__pv_it/common/575a6156bb1c87c5beeaf38c302b5905ad57f5780/expr.ipynb\"><img src=\"../../../../../__pv_it/common/575a6156bb1c87c5beeaf38c302b5905ad57f5780/expr.png\" style=\"display:inline;vertical-align:middle;\" /></a></td></tr>\n",
       "<tr><td>16</td><td>Variable</td><td></td><td><a class=\"ProveItLink\" href=\"../../../../../__pv_it/common/5514cc9a63b9c2ed9b63934dd5e088ab0d4f10080/expr.ipynb\"><img src=\"../../../../../__pv_it/common/5514cc9a63b9c2ed9b63934dd5e088ab0d4f10080/expr.png\" style=\"display:inline;vertical-align:middle;\" /></a></td></tr>\n",
       "<tr><td>17</td><td>ExprTuple</td><td>20</td><td><a class=\"ProveItLink\" href=\"../../../../../__pv_it/common/797070a9ef2f9957a44157444d93fbe100e2d7430/expr.ipynb\"><img src=\"../../../../../__pv_it/common/797070a9ef2f9957a44157444d93fbe100e2d7430/expr.png\" style=\"display:inline;vertical-align:middle;\" /></a></td></tr>\n",
       "<tr><td>18</td><td>Variable</td><td></td><td><a class=\"ProveItLink\" href=\"../../../../../__pv_it/common/c03f8781a34c741744d7dee8670bbb5419fe0ac50/expr.ipynb\"><img src=\"../../../../../__pv_it/common/c03f8781a34c741744d7dee8670bbb5419fe0ac50/expr.png\" style=\"display:inline;vertical-align:middle;\" /></a></td></tr>\n",
       "<tr><td>19</td><td>ExprTuple</td><td>20, 21</td><td><a class=\"ProveItLink\" href=\"../../common/2fe32a12ab3874b69e0e26efbf3c75f55733bbf00/expr.ipynb\"><img src=\"../../common/2fe32a12ab3874b69e0e26efbf3c75f55733bbf00/expr.png\" style=\"display:inline;vertical-align:middle;\" /></a></td></tr>\n",
       "<tr><td>20</td><td>Variable</td><td></td><td><a class=\"ProveItLink\" href=\"../../../../../__pv_it/common/b9fd37fc619babc74a6203459f110251586df6970/expr.ipynb\"><img src=\"../../../../../__pv_it/common/b9fd37fc619babc74a6203459f110251586df6970/expr.png\" style=\"display:inline;vertical-align:middle;\" /></a></td></tr>\n",
       "<tr><td>21</td><td>Variable</td><td></td><td><a class=\"ProveItLink\" href=\"../../../../../__pv_it/common/5f60d32873626c7ce57e35d1d9e427fb112cfe7a0/expr.ipynb\"><img src=\"../../../../../__pv_it/common/5f60d32873626c7ce57e35d1d9e427fb112cfe7a0/expr.png\" style=\"display:inline;vertical-align:middle;\" /></a></td></tr>\n",
       "</table>\n"
      ],
      "text/plain": [
       "0. (|(f(m, i(m)), ..f(m, l).., f(m, j(m)), ....f(k, i(k)), ..f(k, l).., f(k, j(k))...., f(n, i(n)), ..f(n, l).., f(n, j(n)))|, 0)\n",
       "   core type: ExprTuple\n",
       "   sub-expressions: 1, 2\n",
       "1. |(f(m, i(m)), ..f(m, l).., f(m, j(m)), ....f(k, i(k)), ..f(k, l).., f(k, j(k))...., f(n, i(n)), ..f(n, l).., f(n, j(n)))|\n",
       "   core type: Operation\n",
       "   operator: 3\n",
       "   operand: 5\n",
       "2. 0\n",
       "   core type: Literal\n",
       "   sub-expressions: \n",
       "3. length\n",
       "   core type: Literal\n",
       "   sub-expressions: \n",
       "4. ((f(m, i(m)), ..f(m, l).., f(m, j(m)), ....f(k, i(k)), ..f(k, l).., f(k, j(k))...., f(n, i(n)), ..f(n, l).., f(n, j(n))))\n",
       "   core type: ExprTuple\n",
       "   sub-expressions: 5\n",
       "5. (f(m, i(m)), ..f(m, l).., f(m, j(m)), ....f(k, i(k)), ..f(k, l).., f(k, j(k))...., f(n, i(n)), ..f(n, l).., f(n, j(n)))\n",
       "   core type: ExprTuple\n",
       "   sub-expressions: 6\n",
       "6. f(m, i(m)), ..f(m, l).., f(m, j(m)), ....f(k, i(k)), ..f(k, l).., f(k, j(k))...., f(n, i(n)), ..f(n, l).., f(n, j(n))\n",
       "   core type: ExprRange\n",
       "   lambda_map: 7\n",
       "   start_index: 8\n",
       "   end_index: 9\n",
       "7. k -> f(k, i(k)), ..f(k, l).., f(k, j(k))\n",
       "   core type: Lambda\n",
       "   parameter: 20\n",
       "   body: 10\n",
       "8. m\n",
       "   core type: Variable\n",
       "   sub-expressions: \n",
       "9. n\n",
       "   core type: Variable\n",
       "   sub-expressions: \n",
       "10. f(k, i(k)), ..f(k, l).., f(k, j(k))\n",
       "    core type: ExprRange\n",
       "    lambda_map: 11\n",
       "    start_index: 12\n",
       "    end_index: 13\n",
       "11. l -> f(k, l)\n",
       "    core type: Lambda\n",
       "    parameter: 21\n",
       "    body: 14\n",
       "12. i(k)\n",
       "    core type: Operation\n",
       "    operator: 15\n",
       "    operand: 20\n",
       "13. j(k)\n",
       "    core type: Operation\n",
       "    operator: 16\n",
       "    operand: 20\n",
       "14. f(k, l)\n",
       "    core type: Operation\n",
       "    operator: 18\n",
       "    operands: 19\n",
       "15. i\n",
       "    core type: Variable\n",
       "    sub-expressions: \n",
       "16. j\n",
       "    core type: Variable\n",
       "    sub-expressions: \n",
       "17. (k)\n",
       "    core type: ExprTuple\n",
       "    sub-expressions: 20\n",
       "18. f\n",
       "    core type: Variable\n",
       "    sub-expressions: \n",
       "19. (k, l)\n",
       "    core type: ExprTuple\n",
       "    sub-expressions: 20, 21\n",
       "20. k\n",
       "    core type: Variable\n",
       "    sub-expressions: \n",
       "21. l\n",
       "    core type: Variable\n",
       "    sub-expressions: "
      ]
     },
     "execution_count": 6,
     "metadata": {},
     "output_type": "execute_result"
    }
   ],
   "source": [
    "# display the expression information\n",
    "expr.expr_info()"
   ]
  },
  {
   "cell_type": "code",
   "execution_count": null,
   "metadata": {},
   "outputs": [],
   "source": []
  }
 ],
 "metadata": {
  "kernelspec": {
   "display_name": "Python 3",
   "language": "python",
   "name": "python3"
  }
 },
 "nbformat": 4,
 "nbformat_minor": 0
}