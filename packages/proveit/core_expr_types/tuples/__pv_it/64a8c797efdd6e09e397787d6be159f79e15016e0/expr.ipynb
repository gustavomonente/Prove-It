{
 "cells": [
  {
   "cell_type": "markdown",
   "metadata": {},
   "source": [
    "Expression of type <a class=\"ProveItLink\" href=\"../../../../../../doc/html/api/proveit.logic.Equals.html\">Equals</a>\n",
    "=======================\n",
    "# from context <a class=\"ProveItLink\" href=\"../../_context_.ipynb\">proveit.core_expr_types.tuples</a>"
   ]
  },
  {
   "cell_type": "code",
   "execution_count": 1,
   "metadata": {},
   "outputs": [],
   "source": [
    "import proveit\n",
    "# Automation is not needed when building an expression:\n",
    "proveit.defaults.automation = False # This will speed things up.\n",
    "proveit.defaults.inline_pngs = False # Makes files smaller.\n",
    "# import Expression classes needed to build the expression\n",
    "from proveit import ExprRange, Function, Variable\n",
    "from proveit._common_ import f, i, j, k\n",
    "from proveit.logic import Equals\n",
    "from proveit.number import Add, Neg, one, two"
   ]
  },
  {
   "cell_type": "code",
   "execution_count": 2,
   "metadata": {},
   "outputs": [
    {
     "data": {
      "text/html": [
       "<strong id=\"expr\">expr:</strong> <a class=\"ProveItLink\" href=\"../2a2b3e978290f2c44b10846f5ccc59d3f7a0adb70/expr.ipynb\"><img src=\"../2a2b3e978290f2c44b10846f5ccc59d3f7a0adb70/expr.png\" style=\"display:inline;vertical-align:middle;\" /></a><br>"
      ],
      "text/plain": [
       "expr: (f((i - 1) + 1), ..f(k + 1).., f((j - 1) + 1)) = (f((i + (-2)) + 2), ..f(_a + 2).., f((j + (-2)) + 2))"
      ]
     },
     "execution_count": 2,
     "metadata": {},
     "output_type": "execute_result"
    }
   ],
   "source": [
    "# build up the expression from sub-expressions\n",
    "subExpr1 = Variable(\"_a\", latexFormat = r\"{_{-}a}\")\n",
    "subExpr2 = Neg(one)\n",
    "subExpr3 = Neg(two)\n",
    "expr = Equals([ExprRange(k, Function(f, Add(k, one)), Add(i, subExpr2), Add(j, subExpr2))], [ExprRange(subExpr1, Function(f, Add(subExpr1, two)), Add(i, subExpr3).withSubtractionAt(), Add(j, subExpr3).withSubtractionAt())])"
   ]
  },
  {
   "cell_type": "code",
   "execution_count": 3,
   "metadata": {},
   "outputs": [
    {
     "name": "stdout",
     "output_type": "stream",
     "text": [
      "Passed sanity check: built 'expr' is the same as the stored Expression.\n"
     ]
    }
   ],
   "source": [
    "# check that the built expression is the same as the stored expression\n",
    "%check_expr"
   ]
  },
  {
   "cell_type": "code",
   "execution_count": 4,
   "metadata": {},
   "outputs": [
    {
     "name": "stdout",
     "output_type": "stream",
     "text": [
      "\\left(f(\\left(i - 1\\right) + 1), \\ldots, f(\\left(j - 1\\right) + 1)\\right) = \\left(f(\\left(i + \\left(-2\\right)\\right) + 2), \\ldots, f(\\left(j + \\left(-2\\right)\\right) + 2)\\right)\n"
     ]
    }
   ],
   "source": [
    "# Show the LaTeX representation of the expression for convenience if you need it.\n",
    "print(expr.latex())"
   ]
  },
  {
   "cell_type": "code",
   "execution_count": 5,
   "metadata": {},
   "outputs": [
    {
     "data": {
      "text/html": [
       "<table><tr><th>&nbsp;</th><th>core type</th><th>sub-expressions</th><th>expression</th></tr>\n",
       "<tr><td>0</td><td>Operation</td><td>operator:&nbsp;1<br>operands:&nbsp;2<br></td><td><a class=\"ProveItLink\" href=\"../2a2b3e978290f2c44b10846f5ccc59d3f7a0adb70/expr.ipynb\"><img src=\"../2a2b3e978290f2c44b10846f5ccc59d3f7a0adb70/expr.png\" style=\"display:inline;vertical-align:middle;\" /></a></td></tr>\n",
       "<tr><td>1</td><td>Literal</td><td></td><td><a class=\"ProveItLink\" href=\"../../../../logic/equality/__pv_it/e16d2caa26a16688b658bdb9c422caf4b84579e10/expr.ipynb\"><img src=\"../../../../logic/equality/__pv_it/e16d2caa26a16688b658bdb9c422caf4b84579e10/expr.png\" style=\"display:inline;vertical-align:middle;\" /></a></td></tr>\n",
       "<tr><td>2</td><td>ExprTuple</td><td>3, 4</td><td><a class=\"ProveItLink\" href=\"../d1be79a3fd53ff36ee2137acc0fe2456cd3a15cd0/expr.ipynb\"><img src=\"../d1be79a3fd53ff36ee2137acc0fe2456cd3a15cd0/expr.png\" style=\"display:inline;vertical-align:middle;\" /></a></td></tr>\n",
       "<tr><td>3</td><td>ExprTuple</td><td>5</td><td><a class=\"ProveItLink\" href=\"../2cfb5412add4e77d989106e8de660b59ea8f0c9f0/expr.ipynb\"><img src=\"../2cfb5412add4e77d989106e8de660b59ea8f0c9f0/expr.png\" style=\"display:inline;vertical-align:middle;\" /></a></td></tr>\n",
       "<tr><td>4</td><td>ExprTuple</td><td>6</td><td><a class=\"ProveItLink\" href=\"../d1e104e0439baead1d69d5f3519e89932219c5830/expr.ipynb\"><img src=\"../d1e104e0439baead1d69d5f3519e89932219c5830/expr.png\" style=\"display:inline;vertical-align:middle;\" /></a></td></tr>\n",
       "<tr><td>5</td><td>ExprRange</td><td>lambda_map:&nbsp;7<br>start_index:&nbsp;8<br>end_index:&nbsp;9<br></td><td><a class=\"ProveItLink\" href=\"../98d4328f50cbcdaf350297143d32c5d8e861055d0/expr.ipynb\"><img src=\"../98d4328f50cbcdaf350297143d32c5d8e861055d0/expr.png\" style=\"display:inline;vertical-align:middle;\" /></a></td></tr>\n",
       "<tr><td>6</td><td>ExprRange</td><td>lambda_map:&nbsp;10<br>start_index:&nbsp;11<br>end_index:&nbsp;12<br></td><td><a class=\"ProveItLink\" href=\"../456c6511c192c34588321ba0e7918084c7e0bfce0/expr.ipynb\"><img src=\"../456c6511c192c34588321ba0e7918084c7e0bfce0/expr.png\" style=\"display:inline;vertical-align:middle;\" /></a></td></tr>\n",
       "<tr><td>7</td><td>Lambda</td><td>parameter:&nbsp;30<br>body:&nbsp;13<br></td><td><a class=\"ProveItLink\" href=\"../15bb42a0602b591c0b8f0b341eb664c60d6be47e0/expr.ipynb\"><img src=\"../15bb42a0602b591c0b8f0b341eb664c60d6be47e0/expr.png\" style=\"display:inline;vertical-align:middle;\" /></a></td></tr>\n",
       "<tr><td>8</td><td>Operation</td><td>operator:&nbsp;27<br>operands:&nbsp;14<br></td><td><a class=\"ProveItLink\" href=\"../41ce0ea9ea512a1a662af0ea1323cf88e7d117d80/expr.ipynb\"><img src=\"../41ce0ea9ea512a1a662af0ea1323cf88e7d117d80/expr.png\" style=\"display:inline;vertical-align:middle;\" /></a></td></tr>\n",
       "<tr><td>9</td><td>Operation</td><td>operator:&nbsp;27<br>operands:&nbsp;15<br></td><td><a class=\"ProveItLink\" href=\"../../../__pv_it/a62844b4413d5dd3e44129e9069bd0a168c80d2a0/expr.ipynb\"><img src=\"../../../__pv_it/a62844b4413d5dd3e44129e9069bd0a168c80d2a0/expr.png\" style=\"display:inline;vertical-align:middle;\" /></a></td></tr>\n",
       "<tr><td>10</td><td>Lambda</td><td>parameter:&nbsp;32<br>body:&nbsp;16<br></td><td><a class=\"ProveItLink\" href=\"../fd77c3ddc88921e396187d1d95aecaecdc6c0d8f0/expr.ipynb\"><img src=\"../fd77c3ddc88921e396187d1d95aecaecdc6c0d8f0/expr.png\" style=\"display:inline;vertical-align:middle;\" /></a></td></tr>\n",
       "<tr><td>11</td><td>Operation</td><td>operator:&nbsp;27<br>operands:&nbsp;17<br></td><td><a class=\"ProveItLink\" href=\"../ac6ebd9d4d342b096db7448d31c4981b8be5f6d30/expr.ipynb\"><img src=\"../ac6ebd9d4d342b096db7448d31c4981b8be5f6d30/expr.png\" style=\"display:inline;vertical-align:middle;\" /></a></td></tr>\n",
       "<tr><td>12</td><td>Operation</td><td>operator:&nbsp;27<br>operands:&nbsp;18<br></td><td><a class=\"ProveItLink\" href=\"../f14e8145a8f116396b34fea8535e90036aa9870e0/expr.ipynb\"><img src=\"../f14e8145a8f116396b34fea8535e90036aa9870e0/expr.png\" style=\"display:inline;vertical-align:middle;\" /></a></td></tr>\n",
       "<tr><td>13</td><td>Operation</td><td>operator:&nbsp;21<br>operand:&nbsp;19<br></td><td><a class=\"ProveItLink\" href=\"../7ec6b66598687ab75bd9b5c232fe3de4c30498220/expr.ipynb\"><img src=\"../7ec6b66598687ab75bd9b5c232fe3de4c30498220/expr.png\" style=\"display:inline;vertical-align:middle;\" /></a></td></tr>\n",
       "<tr><td>14</td><td>ExprTuple</td><td>23, 20</td><td><a class=\"ProveItLink\" href=\"../2f3fc0c6ecddc46d88d2a03e8b5a14550eccfe9f0/expr.ipynb\"><img src=\"../2f3fc0c6ecddc46d88d2a03e8b5a14550eccfe9f0/expr.png\" style=\"display:inline;vertical-align:middle;\" /></a></td></tr>\n",
       "<tr><td>15</td><td>ExprTuple</td><td>24, 20</td><td><a class=\"ProveItLink\" href=\"../../../__pv_it/139087f71e6bbeb086d59048faf8ee982808c5970/expr.ipynb\"><img src=\"../../../__pv_it/139087f71e6bbeb086d59048faf8ee982808c5970/expr.png\" style=\"display:inline;vertical-align:middle;\" /></a></td></tr>\n",
       "<tr><td>16</td><td>Operation</td><td>operator:&nbsp;21<br>operand:&nbsp;22<br></td><td><a class=\"ProveItLink\" href=\"../5263b227125410fec2bfb5fca8d39edc1006687b0/expr.ipynb\"><img src=\"../5263b227125410fec2bfb5fca8d39edc1006687b0/expr.png\" style=\"display:inline;vertical-align:middle;\" /></a></td></tr>\n",
       "<tr><td>17</td><td>ExprTuple</td><td>23, 25</td><td><a class=\"ProveItLink\" href=\"../0082a8cb96aab10fdd38b070c6afe0ff05f07c3d0/expr.ipynb\"><img src=\"../0082a8cb96aab10fdd38b070c6afe0ff05f07c3d0/expr.png\" style=\"display:inline;vertical-align:middle;\" /></a></td></tr>\n",
       "<tr><td>18</td><td>ExprTuple</td><td>24, 25</td><td><a class=\"ProveItLink\" href=\"../8b60c337fe239650ab51c1d07ee8133822992ab30/expr.ipynb\"><img src=\"../8b60c337fe239650ab51c1d07ee8133822992ab30/expr.png\" style=\"display:inline;vertical-align:middle;\" /></a></td></tr>\n",
       "<tr><td>19</td><td>Operation</td><td>operator:&nbsp;27<br>operands:&nbsp;26<br></td><td><a class=\"ProveItLink\" href=\"../0017f0f4a400c5736f10ff6de59633c08eb6d30a0/expr.ipynb\"><img src=\"../0017f0f4a400c5736f10ff6de59633c08eb6d30a0/expr.png\" style=\"display:inline;vertical-align:middle;\" /></a></td></tr>\n",
       "<tr><td>20</td><td>Operation</td><td>operator:&nbsp;29<br>operand:&nbsp;31<br></td><td><a class=\"ProveItLink\" href=\"../../../__pv_it/01559348096b98a1dd2ebcf5c288189c829b18930/expr.ipynb\"><img src=\"../../../__pv_it/01559348096b98a1dd2ebcf5c288189c829b18930/expr.png\" style=\"display:inline;vertical-align:middle;\" /></a></td></tr>\n",
       "<tr><td>21</td><td>Variable</td><td></td><td><a class=\"ProveItLink\" href=\"../../../../__pv_it/d7bbb04e874e28c7cefb21d4eea40806ae52f1f70/expr.ipynb\"><img src=\"../../../../__pv_it/d7bbb04e874e28c7cefb21d4eea40806ae52f1f70/expr.png\" style=\"display:inline;vertical-align:middle;\" /></a></td></tr>\n",
       "<tr><td>22</td><td>Operation</td><td>operator:&nbsp;27<br>operands:&nbsp;28<br></td><td><a class=\"ProveItLink\" href=\"../96e8079df635aa52cae215039f1f4796a11b67fd0/expr.ipynb\"><img src=\"../96e8079df635aa52cae215039f1f4796a11b67fd0/expr.png\" style=\"display:inline;vertical-align:middle;\" /></a></td></tr>\n",
       "<tr><td>23</td><td>Variable</td><td></td><td><a class=\"ProveItLink\" href=\"../../../../__pv_it/557ab5defdcd46aa58168b08767502985122cd490/expr.ipynb\"><img src=\"../../../../__pv_it/557ab5defdcd46aa58168b08767502985122cd490/expr.png\" style=\"display:inline;vertical-align:middle;\" /></a></td></tr>\n",
       "<tr><td>24</td><td>Variable</td><td></td><td><a class=\"ProveItLink\" href=\"../../../../__pv_it/6a5b5879f51878868f626bf09e4d76392d4779cd0/expr.ipynb\"><img src=\"../../../../__pv_it/6a5b5879f51878868f626bf09e4d76392d4779cd0/expr.png\" style=\"display:inline;vertical-align:middle;\" /></a></td></tr>\n",
       "<tr><td>25</td><td>Operation</td><td>operator:&nbsp;29<br>operand:&nbsp;33<br></td><td><a class=\"ProveItLink\" href=\"../df27ab2f45b70f005578c8e2b0bbac51a557f34e0/expr.ipynb\"><img src=\"../df27ab2f45b70f005578c8e2b0bbac51a557f34e0/expr.png\" style=\"display:inline;vertical-align:middle;\" /></a></td></tr>\n",
       "<tr><td>26</td><td>ExprTuple</td><td>30, 31</td><td><a class=\"ProveItLink\" href=\"../1554360654b27406b43eded4e75e61e401b3b4590/expr.ipynb\"><img src=\"../1554360654b27406b43eded4e75e61e401b3b4590/expr.png\" style=\"display:inline;vertical-align:middle;\" /></a></td></tr>\n",
       "<tr><td>27</td><td>Literal</td><td></td><td><a class=\"ProveItLink\" href=\"../../../../number/addition/__pv_it/65ad7e8aee19b10110d590375ba95a879c4fb7ea0/expr.ipynb\"><img src=\"../../../../number/addition/__pv_it/65ad7e8aee19b10110d590375ba95a879c4fb7ea0/expr.png\" style=\"display:inline;vertical-align:middle;\" /></a></td></tr>\n",
       "<tr><td>28</td><td>ExprTuple</td><td>32, 33</td><td><a class=\"ProveItLink\" href=\"../e3d602cd65a6b7921b295993378113e95bdfbdee0/expr.ipynb\"><img src=\"../e3d602cd65a6b7921b295993378113e95bdfbdee0/expr.png\" style=\"display:inline;vertical-align:middle;\" /></a></td></tr>\n",
       "<tr><td>29</td><td>Literal</td><td></td><td><a class=\"ProveItLink\" href=\"../../../../number/negation/__pv_it/2867787e35502987d81a45cac8e7f1c6996d6ff40/expr.ipynb\"><img src=\"../../../../number/negation/__pv_it/2867787e35502987d81a45cac8e7f1c6996d6ff40/expr.png\" style=\"display:inline;vertical-align:middle;\" /></a></td></tr>\n",
       "<tr><td>30</td><td>Variable</td><td></td><td><a class=\"ProveItLink\" href=\"../../../../__pv_it/273f49450ca25e1b56abbd98a7aef618f8f6c1360/expr.ipynb\"><img src=\"../../../../__pv_it/273f49450ca25e1b56abbd98a7aef618f8f6c1360/expr.png\" style=\"display:inline;vertical-align:middle;\" /></a></td></tr>\n",
       "<tr><td>31</td><td>Literal</td><td></td><td><a class=\"ProveItLink\" href=\"../../../../number/numeral/__pv_it/f086f8c372bd40a2458306ddfdbb29f3dc6f63030/expr.ipynb\"><img src=\"../../../../number/numeral/__pv_it/f086f8c372bd40a2458306ddfdbb29f3dc6f63030/expr.png\" style=\"display:inline;vertical-align:middle;\" /></a></td></tr>\n",
       "<tr><td>32</td><td>Variable</td><td></td><td><a class=\"ProveItLink\" href=\"../../../__pv_it/1e653f789234b245ee7fea7caad998c139d617410/expr.ipynb\"><img src=\"../../../__pv_it/1e653f789234b245ee7fea7caad998c139d617410/expr.png\" style=\"display:inline;vertical-align:middle;\" /></a></td></tr>\n",
       "<tr><td>33</td><td>Literal</td><td></td><td><a class=\"ProveItLink\" href=\"../../../../number/numeral/__pv_it/fb4ccffdbfd0f653ebaacb95e7ff4802fd48a6f20/expr.ipynb\"><img src=\"../../../../number/numeral/__pv_it/fb4ccffdbfd0f653ebaacb95e7ff4802fd48a6f20/expr.png\" style=\"display:inline;vertical-align:middle;\" /></a></td></tr>\n",
       "</table>\n"
      ],
      "text/plain": [
       "0. (f((i - 1) + 1), ..f(k + 1).., f((j - 1) + 1)) = (f((i + (-2)) + 2), ..f(_a + 2).., f((j + (-2)) + 2))\n",
       "   core type: Operation\n",
       "   operator: 1\n",
       "   operands: 2\n",
       "1. =\n",
       "   core type: Literal\n",
       "   sub-expressions: \n",
       "2. ((f((i - 1) + 1), ..f(k + 1).., f((j - 1) + 1)), (f((i + (-2)) + 2), ..f(_a + 2).., f((j + (-2)) + 2)))\n",
       "   core type: ExprTuple\n",
       "   sub-expressions: 3, 4\n",
       "3. (f((i - 1) + 1), ..f(k + 1).., f((j - 1) + 1))\n",
       "   core type: ExprTuple\n",
       "   sub-expressions: 5\n",
       "4. (f((i + (-2)) + 2), ..f(_a + 2).., f((j + (-2)) + 2))\n",
       "   core type: ExprTuple\n",
       "   sub-expressions: 6\n",
       "5. f((i - 1) + 1), ..f(k + 1).., f((j - 1) + 1)\n",
       "   core type: ExprRange\n",
       "   lambda_map: 7\n",
       "   start_index: 8\n",
       "   end_index: 9\n",
       "6. f((i + (-2)) + 2), ..f(_a + 2).., f((j + (-2)) + 2)\n",
       "   core type: ExprRange\n",
       "   lambda_map: 10\n",
       "   start_index: 11\n",
       "   end_index: 12\n",
       "7. k -> f(k + 1)\n",
       "   core type: Lambda\n",
       "   parameter: 30\n",
       "   body: 13\n",
       "8. i - 1\n",
       "   core type: Operation\n",
       "   operator: 27\n",
       "   operands: 14\n",
       "9. j - 1\n",
       "   core type: Operation\n",
       "   operator: 27\n",
       "   operands: 15\n",
       "10. _a -> f(_a + 2)\n",
       "    core type: Lambda\n",
       "    parameter: 32\n",
       "    body: 16\n",
       "11. i + (-2)\n",
       "    core type: Operation\n",
       "    operator: 27\n",
       "    operands: 17\n",
       "12. j + (-2)\n",
       "    core type: Operation\n",
       "    operator: 27\n",
       "    operands: 18\n",
       "13. f(k + 1)\n",
       "    core type: Operation\n",
       "    operator: 21\n",
       "    operand: 19\n",
       "14. (i, -1)\n",
       "    core type: ExprTuple\n",
       "    sub-expressions: 23, 20\n",
       "15. (j, -1)\n",
       "    core type: ExprTuple\n",
       "    sub-expressions: 24, 20\n",
       "16. f(_a + 2)\n",
       "    core type: Operation\n",
       "    operator: 21\n",
       "    operand: 22\n",
       "17. (i, -2)\n",
       "    core type: ExprTuple\n",
       "    sub-expressions: 23, 25\n",
       "18. (j, -2)\n",
       "    core type: ExprTuple\n",
       "    sub-expressions: 24, 25\n",
       "19. k + 1\n",
       "    core type: Operation\n",
       "    operator: 27\n",
       "    operands: 26\n",
       "20. -1\n",
       "    core type: Operation\n",
       "    operator: 29\n",
       "    operand: 31\n",
       "21. f\n",
       "    core type: Variable\n",
       "    sub-expressions: \n",
       "22. _a + 2\n",
       "    core type: Operation\n",
       "    operator: 27\n",
       "    operands: 28\n",
       "23. i\n",
       "    core type: Variable\n",
       "    sub-expressions: \n",
       "24. j\n",
       "    core type: Variable\n",
       "    sub-expressions: \n",
       "25. -2\n",
       "    core type: Operation\n",
       "    operator: 29\n",
       "    operand: 33\n",
       "26. (k, 1)\n",
       "    core type: ExprTuple\n",
       "    sub-expressions: 30, 31\n",
       "27. +\n",
       "    core type: Literal\n",
       "    sub-expressions: \n",
       "28. (_a, 2)\n",
       "    core type: ExprTuple\n",
       "    sub-expressions: 32, 33\n",
       "29. -\n",
       "    core type: Literal\n",
       "    sub-expressions: \n",
       "30. k\n",
       "    core type: Variable\n",
       "    sub-expressions: \n",
       "31. 1\n",
       "    core type: Literal\n",
       "    sub-expressions: \n",
       "32. _a\n",
       "    core type: Variable\n",
       "    sub-expressions: \n",
       "33. 2\n",
       "    core type: Literal\n",
       "    sub-expressions: "
      ]
     },
     "execution_count": 5,
     "metadata": {},
     "output_type": "execute_result"
    }
   ],
   "source": [
    "# display the expression information\n",
    "expr.exprInfo()"
   ]
  },
  {
   "cell_type": "code",
   "execution_count": null,
   "metadata": {},
   "outputs": [],
   "source": []
  }
 ],
 "metadata": {
  "kernelspec": {
   "display_name": "Python 3",
   "language": "python",
   "name": "python3"
  },
  "language_info": {
   "codemirror_mode": {
    "name": "ipython",
    "version": 3
   },
   "file_extension": ".py",
   "mimetype": "text/x-python",
   "name": "python",
   "nbconvert_exporter": "python",
   "pygments_lexer": "ipython3",
   "version": "3.7.3"
  }
 },
 "nbformat": 4,
 "nbformat_minor": 1
}
