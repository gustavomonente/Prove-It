{
 "cells": [
  {
   "cell_type": "markdown",
   "metadata": {},
   "source": [
    "Expression of type <a class=\"ProveItLink\" href=\"../../../../../../doc/html/api/proveit.Lambda.html\">Lambda</a>\n",
    "=======================\n",
    "# from context <a class=\"ProveItLink\" href=\"../../_context_.ipynb\">proveit.core_expr_types.tuples</a>"
   ]
  },
  {
   "cell_type": "code",
   "execution_count": 1,
   "metadata": {},
   "outputs": [],
   "source": [
    "import proveit\n",
    "# Automation is not needed when building an expression:\n",
    "proveit.defaults.automation = False # This will speed things up.\n",
    "proveit.defaults.inline_pngs = False # Makes files smaller.\n",
    "# import Expression classes needed to build the expression\n",
    "from proveit import Conditional, ExprRange, Function, Lambda\n",
    "from proveit._common_ import i, k, n, x\n",
    "from proveit.core_expr_types import Len\n",
    "from proveit.core_expr_types._common_ import f_1_to_n, f_k\n",
    "from proveit.logic import Equals, Forall, InSet\n",
    "from proveit.number import Mult, Naturals, NaturalsPos, one"
   ]
  },
  {
   "cell_type": "code",
   "execution_count": 2,
   "metadata": {},
   "outputs": [
    {
     "data": {
      "text/html": [
       "<strong id=\"expr\">expr:</strong> <a class=\"ProveItLink\" href=\"expr.ipynb\"><img src=\"expr.png\" style=\"display:inline;vertical-align:middle;\" /></a><br>"
      ],
      "text/plain": [
       "expr: n -> {forall_{f_{1}, ..f_{_a}.., f_{n}, i | i in Naturals} (|(f_{1}(1), ..f_{1}(x).., f_{1}(i), ....f_{k}(1), ..f_{k}(x).., f_{k}(i)...., f_{n}(1), ..f_{n}(x).., f_{n}(i))| \\\\  = (n * i)) if n in NaturalsPos."
      ]
     },
     "execution_count": 2,
     "metadata": {},
     "output_type": "execute_result"
    }
   ],
   "source": [
    "# build up the expression from sub-expressions\n",
    "expr = Lambda(n, Conditional(Forall([f_1_to_n, i], Equals(Len([ExprRange(k, ExprRange(x, Function(f_k, x), one, i), one, n)]), Mult(n, i)).withWrappingAt(1), condition = InSet(i, Naturals)), InSet(n, NaturalsPos)))"
   ]
  },
  {
   "cell_type": "code",
   "execution_count": 3,
   "metadata": {},
   "outputs": [
    {
     "name": "stdout",
     "output_type": "stream",
     "text": [
      "Passed sanity check: built 'expr' is the same as the stored Expression.\n"
     ]
    }
   ],
   "source": [
    "# check that the built expression is the same as the stored expression\n",
    "%check_expr"
   ]
  },
  {
   "cell_type": "code",
   "execution_count": 4,
   "metadata": {},
   "outputs": [
    {
     "name": "stdout",
     "output_type": "stream",
     "text": [
      "n \\mapsto \\left\\{\\forall_{f_{1}, \\ldots, f_{n}, i~|~i \\in \\mathbb{N}}~\\left(\\begin{array}{c} |\\left(f_{1}(1), \\ldots, f_{1}(i), \\ldots\\ldots, f_{n}(1), \\ldots, f_{n}(i)\\right)| \\\\  = \\left(n \\cdot i\\right) \\end{array}\\right) \\textrm{ if } n \\in \\mathbb{N}^+\\right..\n"
     ]
    }
   ],
   "source": [
    "# Show the LaTeX representation of the expression for convenience if you need it.\n",
    "print(expr.latex())"
   ]
  },
  {
   "cell_type": "code",
   "execution_count": 5,
   "metadata": {},
   "outputs": [
    {
     "data": {
      "text/html": [
       "<table><tr><th>&nbsp;</th><th>core type</th><th>sub-expressions</th><th>expression</th></tr>\n",
       "<tr><td>0</td><td>Lambda</td><td>parameter:&nbsp;30<br>body:&nbsp;1<br></td><td><a class=\"ProveItLink\" href=\"expr.ipynb\"><img src=\"expr.png\" style=\"display:inline;vertical-align:middle;\" /></a></td></tr>\n",
       "<tr><td>1</td><td>Conditional</td><td>value:&nbsp;2<br>condition:&nbsp;3<br></td><td><a class=\"ProveItLink\" href=\"../fb83d01d86758f785e33587a2a0023885946924d0/expr.ipynb\"><img src=\"../fb83d01d86758f785e33587a2a0023885946924d0/expr.png\" style=\"display:inline;vertical-align:middle;\" /></a></td></tr>\n",
       "<tr><td>2</td><td>Operation</td><td>operator:&nbsp;4<br>operand:&nbsp;5<br></td><td><a class=\"ProveItLink\" href=\"../7499dd32a42be3434a70d39b4d636417d934f92a0/expr.ipynb\"><img src=\"../7499dd32a42be3434a70d39b4d636417d934f92a0/expr.png\" style=\"display:inline;vertical-align:middle;\" /></a></td></tr>\n",
       "<tr><td>3</td><td>Operation</td><td>operator:&nbsp;16<br>operands:&nbsp;6<br></td><td><a class=\"ProveItLink\" href=\"../a720bba6cdd6f51499c0bd8820ee89528186f3d30/expr.ipynb\"><img src=\"../a720bba6cdd6f51499c0bd8820ee89528186f3d30/expr.png\" style=\"display:inline;vertical-align:middle;\" /></a></td></tr>\n",
       "<tr><td>4</td><td>Literal</td><td></td><td><a class=\"ProveItLink\" href=\"../../../../logic/boolean/quantification/universal/__pv_it/fd9c772d6675566ed52a6897806f45eb08a4ea910/expr.ipynb\"><img src=\"../../../../logic/boolean/quantification/universal/__pv_it/fd9c772d6675566ed52a6897806f45eb08a4ea910/expr.png\" style=\"display:inline;vertical-align:middle;\" /></a></td></tr>\n",
       "<tr><td>5</td><td>Lambda</td><td>parameters:&nbsp;7<br>body:&nbsp;8<br></td><td><a class=\"ProveItLink\" href=\"../84228c7492a96f216a0c36c8c03f519adcf8c7d70/expr.ipynb\"><img src=\"../84228c7492a96f216a0c36c8c03f519adcf8c7d70/expr.png\" style=\"display:inline;vertical-align:middle;\" /></a></td></tr>\n",
       "<tr><td>6</td><td>ExprTuple</td><td>30, 9</td><td><a class=\"ProveItLink\" href=\"../e498da148cb0e1035a34d74f79377ecf4d06d21d0/expr.ipynb\"><img src=\"../e498da148cb0e1035a34d74f79377ecf4d06d21d0/expr.png\" style=\"display:inline;vertical-align:middle;\" /></a></td></tr>\n",
       "<tr><td>7</td><td>ExprTuple</td><td>10, 34</td><td><a class=\"ProveItLink\" href=\"../989d1c890afb36a363086a562fd0ff89c0e57b700/expr.ipynb\"><img src=\"../989d1c890afb36a363086a562fd0ff89c0e57b700/expr.png\" style=\"display:inline;vertical-align:middle;\" /></a></td></tr>\n",
       "<tr><td>8</td><td>Conditional</td><td>value:&nbsp;11<br>condition:&nbsp;12<br></td><td><a class=\"ProveItLink\" href=\"../4ebffee1970493ad7497dd74aed3e7f89b6130730/expr.ipynb\"><img src=\"../4ebffee1970493ad7497dd74aed3e7f89b6130730/expr.png\" style=\"display:inline;vertical-align:middle;\" /></a></td></tr>\n",
       "<tr><td>9</td><td>Literal</td><td></td><td><a class=\"ProveItLink\" href=\"../../../../number/sets/integer/__pv_it/f6a9f4b6dec6ab4d2dcb6ba1b0ba3cceefc643530/expr.ipynb\"><img src=\"../../../../number/sets/integer/__pv_it/f6a9f4b6dec6ab4d2dcb6ba1b0ba3cceefc643530/expr.png\" style=\"display:inline;vertical-align:middle;\" /></a></td></tr>\n",
       "<tr><td>10</td><td>ExprRange</td><td>lambda_map:&nbsp;13<br>start_index:&nbsp;33<br>end_index:&nbsp;30<br></td><td><a class=\"ProveItLink\" href=\"../../../__pv_it/6a89ba25815ecac76ee5cadd11b515a38033ce980/expr.ipynb\"><img src=\"../../../__pv_it/6a89ba25815ecac76ee5cadd11b515a38033ce980/expr.png\" style=\"display:inline;vertical-align:middle;\" /></a></td></tr>\n",
       "<tr><td>11</td><td>Operation</td><td>operator:&nbsp;14<br>operands:&nbsp;15<br></td><td><a class=\"ProveItLink\" href=\"../4ac52c0e1f140fd6097f1a1761c18eeb0c0e6b8e0/expr.ipynb\"><img src=\"../4ac52c0e1f140fd6097f1a1761c18eeb0c0e6b8e0/expr.png\" style=\"display:inline;vertical-align:middle;\" /></a></td></tr>\n",
       "<tr><td>12</td><td>Operation</td><td>operator:&nbsp;16<br>operands:&nbsp;17<br></td><td><a class=\"ProveItLink\" href=\"../1574b47177a5c3d1f67d6b05ac3a78b63f89a71d0/expr.ipynb\"><img src=\"../1574b47177a5c3d1f67d6b05ac3a78b63f89a71d0/expr.png\" style=\"display:inline;vertical-align:middle;\" /></a></td></tr>\n",
       "<tr><td>13</td><td>Lambda</td><td>parameter:&nbsp;22<br>body:&nbsp;18<br></td><td><a class=\"ProveItLink\" href=\"../../../__pv_it/136f66be1a92f4c6ebdc1648d8395e97e440e30a0/expr.ipynb\"><img src=\"../../../__pv_it/136f66be1a92f4c6ebdc1648d8395e97e440e30a0/expr.png\" style=\"display:inline;vertical-align:middle;\" /></a></td></tr>\n",
       "<tr><td>14</td><td>Literal</td><td></td><td><a class=\"ProveItLink\" href=\"../../../../logic/equality/__pv_it/e16d2caa26a16688b658bdb9c422caf4b84579e10/expr.ipynb\"><img src=\"../../../../logic/equality/__pv_it/e16d2caa26a16688b658bdb9c422caf4b84579e10/expr.png\" style=\"display:inline;vertical-align:middle;\" /></a></td></tr>\n",
       "<tr><td>15</td><td>ExprTuple</td><td>19, 20</td><td><a class=\"ProveItLink\" href=\"../4093c2f56c4ca3e31d0f5e60fda9b7c28a1e40c40/expr.ipynb\"><img src=\"../4093c2f56c4ca3e31d0f5e60fda9b7c28a1e40c40/expr.png\" style=\"display:inline;vertical-align:middle;\" /></a></td></tr>\n",
       "<tr><td>16</td><td>Literal</td><td></td><td><a class=\"ProveItLink\" href=\"../../../../logic/set_theory/membership/__pv_it/7776fc89cb67d0b5b1ec2c0c8e08da5587921ccf0/expr.ipynb\"><img src=\"../../../../logic/set_theory/membership/__pv_it/7776fc89cb67d0b5b1ec2c0c8e08da5587921ccf0/expr.png\" style=\"display:inline;vertical-align:middle;\" /></a></td></tr>\n",
       "<tr><td>17</td><td>ExprTuple</td><td>34, 21</td><td><a class=\"ProveItLink\" href=\"../6db1c2cd42d8864aeef6770d5b1924842513ba650/expr.ipynb\"><img src=\"../6db1c2cd42d8864aeef6770d5b1924842513ba650/expr.png\" style=\"display:inline;vertical-align:middle;\" /></a></td></tr>\n",
       "<tr><td>18</td><td>IndexedVar</td><td>variable:&nbsp;38<br>index:&nbsp;22<br></td><td><a class=\"ProveItLink\" href=\"../../../__pv_it/f17ba44e08a1c82299ccefa4352e3e3ec21342020/expr.ipynb\"><img src=\"../../../__pv_it/f17ba44e08a1c82299ccefa4352e3e3ec21342020/expr.png\" style=\"display:inline;vertical-align:middle;\" /></a></td></tr>\n",
       "<tr><td>19</td><td>Operation</td><td>operator:&nbsp;23<br>operand:&nbsp;27<br></td><td><a class=\"ProveItLink\" href=\"../aeac25334b2cf9ebf051c7301f6c59991608d0910/expr.ipynb\"><img src=\"../aeac25334b2cf9ebf051c7301f6c59991608d0910/expr.png\" style=\"display:inline;vertical-align:middle;\" /></a></td></tr>\n",
       "<tr><td>20</td><td>Operation</td><td>operator:&nbsp;25<br>operands:&nbsp;26<br></td><td><a class=\"ProveItLink\" href=\"../aaf17c1b2aae15810b12d083c038986375dab91c0/expr.ipynb\"><img src=\"../aaf17c1b2aae15810b12d083c038986375dab91c0/expr.png\" style=\"display:inline;vertical-align:middle;\" /></a></td></tr>\n",
       "<tr><td>21</td><td>Literal</td><td></td><td><a class=\"ProveItLink\" href=\"../../../../number/sets/integer/__pv_it/b49c37b99b7e8d73a8d7971bcf454d693b90a2c60/expr.ipynb\"><img src=\"../../../../number/sets/integer/__pv_it/b49c37b99b7e8d73a8d7971bcf454d693b90a2c60/expr.png\" style=\"display:inline;vertical-align:middle;\" /></a></td></tr>\n",
       "<tr><td>22</td><td>Variable</td><td></td><td><a class=\"ProveItLink\" href=\"../../../__pv_it/1e653f789234b245ee7fea7caad998c139d617410/expr.ipynb\"><img src=\"../../../__pv_it/1e653f789234b245ee7fea7caad998c139d617410/expr.png\" style=\"display:inline;vertical-align:middle;\" /></a></td></tr>\n",
       "<tr><td>23</td><td>Literal</td><td></td><td><a class=\"ProveItLink\" href=\"../92831c6291223dfbd76a11e90e750ae52564aa9f0/expr.ipynb\"><img src=\"../92831c6291223dfbd76a11e90e750ae52564aa9f0/expr.png\" style=\"display:inline;vertical-align:middle;\" /></a></td></tr>\n",
       "<tr><td>24</td><td>ExprTuple</td><td>27</td><td><a class=\"ProveItLink\" href=\"../9a0a26c2f4a412ec161a38d79921b00e905b057e0/expr.ipynb\"><img src=\"../9a0a26c2f4a412ec161a38d79921b00e905b057e0/expr.png\" style=\"display:inline;vertical-align:middle;\" /></a></td></tr>\n",
       "<tr><td>25</td><td>Literal</td><td></td><td><a class=\"ProveItLink\" href=\"../../../../number/multiplication/__pv_it/f7a1ed7c35c8c884cf4c236d27cb79bf85638cad0/expr.ipynb\"><img src=\"../../../../number/multiplication/__pv_it/f7a1ed7c35c8c884cf4c236d27cb79bf85638cad0/expr.png\" style=\"display:inline;vertical-align:middle;\" /></a></td></tr>\n",
       "<tr><td>26</td><td>ExprTuple</td><td>30, 34</td><td><a class=\"ProveItLink\" href=\"../22949996ff9eba4ced2f8d275804364cd1ceab180/expr.ipynb\"><img src=\"../22949996ff9eba4ced2f8d275804364cd1ceab180/expr.png\" style=\"display:inline;vertical-align:middle;\" /></a></td></tr>\n",
       "<tr><td>27</td><td>ExprTuple</td><td>28</td><td><a class=\"ProveItLink\" href=\"../29a8178a364e1d7cd3b030df5a9a4074b464a3d30/expr.ipynb\"><img src=\"../29a8178a364e1d7cd3b030df5a9a4074b464a3d30/expr.png\" style=\"display:inline;vertical-align:middle;\" /></a></td></tr>\n",
       "<tr><td>28</td><td>ExprRange</td><td>lambda_map:&nbsp;29<br>start_index:&nbsp;33<br>end_index:&nbsp;30<br></td><td><a class=\"ProveItLink\" href=\"../400572475467713b2a7d27da665a34e6ee21fb3c0/expr.ipynb\"><img src=\"../400572475467713b2a7d27da665a34e6ee21fb3c0/expr.png\" style=\"display:inline;vertical-align:middle;\" /></a></td></tr>\n",
       "<tr><td>29</td><td>Lambda</td><td>parameter:&nbsp;39<br>body:&nbsp;31<br></td><td><a class=\"ProveItLink\" href=\"../dd87823440928379b8584c8d73378784277e1e110/expr.ipynb\"><img src=\"../dd87823440928379b8584c8d73378784277e1e110/expr.png\" style=\"display:inline;vertical-align:middle;\" /></a></td></tr>\n",
       "<tr><td>30</td><td>Variable</td><td></td><td><a class=\"ProveItLink\" href=\"../../../../__pv_it/0c1c4cb515e0f4344b1ac06650f349123e526deb0/expr.ipynb\"><img src=\"../../../../__pv_it/0c1c4cb515e0f4344b1ac06650f349123e526deb0/expr.png\" style=\"display:inline;vertical-align:middle;\" /></a></td></tr>\n",
       "<tr><td>31</td><td>ExprRange</td><td>lambda_map:&nbsp;32<br>start_index:&nbsp;33<br>end_index:&nbsp;34<br></td><td><a class=\"ProveItLink\" href=\"../05b17adb904f62a59ec5ca08a7ea2f55e4cfbc520/expr.ipynb\"><img src=\"../05b17adb904f62a59ec5ca08a7ea2f55e4cfbc520/expr.png\" style=\"display:inline;vertical-align:middle;\" /></a></td></tr>\n",
       "<tr><td>32</td><td>Lambda</td><td>parameter:&nbsp;37<br>body:&nbsp;35<br></td><td><a class=\"ProveItLink\" href=\"../9f15d7bd1ab5459f17735db9e329c4ba6a4e7b680/expr.ipynb\"><img src=\"../9f15d7bd1ab5459f17735db9e329c4ba6a4e7b680/expr.png\" style=\"display:inline;vertical-align:middle;\" /></a></td></tr>\n",
       "<tr><td>33</td><td>Literal</td><td></td><td><a class=\"ProveItLink\" href=\"../../../../number/numeral/__pv_it/f086f8c372bd40a2458306ddfdbb29f3dc6f63030/expr.ipynb\"><img src=\"../../../../number/numeral/__pv_it/f086f8c372bd40a2458306ddfdbb29f3dc6f63030/expr.png\" style=\"display:inline;vertical-align:middle;\" /></a></td></tr>\n",
       "<tr><td>34</td><td>Variable</td><td></td><td><a class=\"ProveItLink\" href=\"../../../../__pv_it/557ab5defdcd46aa58168b08767502985122cd490/expr.ipynb\"><img src=\"../../../../__pv_it/557ab5defdcd46aa58168b08767502985122cd490/expr.png\" style=\"display:inline;vertical-align:middle;\" /></a></td></tr>\n",
       "<tr><td>35</td><td>Operation</td><td>operator:&nbsp;36<br>operand:&nbsp;37<br></td><td><a class=\"ProveItLink\" href=\"../2eed11002272ec502af6baee392c5b91932464db0/expr.ipynb\"><img src=\"../2eed11002272ec502af6baee392c5b91932464db0/expr.png\" style=\"display:inline;vertical-align:middle;\" /></a></td></tr>\n",
       "<tr><td>36</td><td>IndexedVar</td><td>variable:&nbsp;38<br>index:&nbsp;39<br></td><td><a class=\"ProveItLink\" href=\"../../../__pv_it/759987d721c586f2d31ad4cdd4ac831446524ea00/expr.ipynb\"><img src=\"../../../__pv_it/759987d721c586f2d31ad4cdd4ac831446524ea00/expr.png\" style=\"display:inline;vertical-align:middle;\" /></a></td></tr>\n",
       "<tr><td>37</td><td>Variable</td><td></td><td><a class=\"ProveItLink\" href=\"../../../../__pv_it/72df168d2bfb4e0140af90912ebf83b13772060b0/expr.ipynb\"><img src=\"../../../../__pv_it/72df168d2bfb4e0140af90912ebf83b13772060b0/expr.png\" style=\"display:inline;vertical-align:middle;\" /></a></td></tr>\n",
       "<tr><td>38</td><td>Variable</td><td></td><td><a class=\"ProveItLink\" href=\"../../../../__pv_it/d7bbb04e874e28c7cefb21d4eea40806ae52f1f70/expr.ipynb\"><img src=\"../../../../__pv_it/d7bbb04e874e28c7cefb21d4eea40806ae52f1f70/expr.png\" style=\"display:inline;vertical-align:middle;\" /></a></td></tr>\n",
       "<tr><td>39</td><td>Variable</td><td></td><td><a class=\"ProveItLink\" href=\"../../../../__pv_it/273f49450ca25e1b56abbd98a7aef618f8f6c1360/expr.ipynb\"><img src=\"../../../../__pv_it/273f49450ca25e1b56abbd98a7aef618f8f6c1360/expr.png\" style=\"display:inline;vertical-align:middle;\" /></a></td></tr>\n",
       "</table>\n"
      ],
      "text/plain": [
       "0. n -> {forall_{f_{1}, ..f_{_a}.., f_{n}, i | i in Naturals} (|(f_{1}(1), ..f_{1}(x).., f_{1}(i), ....f_{k}(1), ..f_{k}(x).., f_{k}(i)...., f_{n}(1), ..f_{n}(x).., f_{n}(i))| \\\\  = (n * i)) if n in NaturalsPos.\n",
       "   core type: Lambda\n",
       "   parameter: 30\n",
       "   body: 1\n",
       "1. {forall_{f_{1}, ..f_{_a}.., f_{n}, i | i in Naturals} (|(f_{1}(1), ..f_{1}(x).., f_{1}(i), ....f_{k}(1), ..f_{k}(x).., f_{k}(i)...., f_{n}(1), ..f_{n}(x).., f_{n}(i))| \\\\  = (n * i)) if n in NaturalsPos.\n",
       "   core type: Conditional\n",
       "   value: 2\n",
       "   condition: 3\n",
       "2. forall_{f_{1}, ..f_{_a}.., f_{n}, i | i in Naturals} (|(f_{1}(1), ..f_{1}(x).., f_{1}(i), ....f_{k}(1), ..f_{k}(x).., f_{k}(i)...., f_{n}(1), ..f_{n}(x).., f_{n}(i))| \\\\  = (n * i))\n",
       "   core type: Operation\n",
       "   operator: 4\n",
       "   operand: 5\n",
       "3. n in NaturalsPos\n",
       "   core type: Operation\n",
       "   operator: 16\n",
       "   operands: 6\n",
       "4. forall\n",
       "   core type: Literal\n",
       "   sub-expressions: \n",
       "5. (f_{1}, ..f_{_a}.., f_{n}, i) -> {|(f_{1}(1), ..f_{1}(x).., f_{1}(i), ....f_{k}(1), ..f_{k}(x).., f_{k}(i)...., f_{n}(1), ..f_{n}(x).., f_{n}(i))| \\\\  = (n * i) if i in Naturals.\n",
       "   core type: Lambda\n",
       "   parameters: 7\\n   body: 8\n",
       "6. (n, NaturalsPos)\n",
       "   core type: ExprTuple\n",
       "   sub-expressions: 30, 9\n",
       "7. (f_{1}, ..f_{_a}.., f_{n}, i)\n",
       "   core type: ExprTuple\n",
       "   sub-expressions: 10, 34\n",
       "8. {|(f_{1}(1), ..f_{1}(x).., f_{1}(i), ....f_{k}(1), ..f_{k}(x).., f_{k}(i)...., f_{n}(1), ..f_{n}(x).., f_{n}(i))| \\\\  = (n * i) if i in Naturals.\n",
       "   core type: Conditional\n",
       "   value: 11\n",
       "   condition: 12\n",
       "9. NaturalsPos\n",
       "   core type: Literal\n",
       "   sub-expressions: \n",
       "10. f_{1}, ..f_{_a}.., f_{n}\n",
       "    core type: ExprRange\n",
       "    lambda_map: 13\n",
       "    start_index: 33\n",
       "    end_index: 30\n",
       "11. |(f_{1}(1), ..f_{1}(x).., f_{1}(i), ....f_{k}(1), ..f_{k}(x).., f_{k}(i)...., f_{n}(1), ..f_{n}(x).., f_{n}(i))| \\\\  = (n * i)\n",
       "    core type: Operation\n",
       "    operator: 14\n",
       "    operands: 15\n",
       "12. i in Naturals\n",
       "    core type: Operation\n",
       "    operator: 16\n",
       "    operands: 17\n",
       "13. _a -> f_{_a}\n",
       "    core type: Lambda\n",
       "    parameter: 22\n",
       "    body: 18\n",
       "14. =\n",
       "    core type: Literal\n",
       "    sub-expressions: \n",
       "15. (|(f_{1}(1), ..f_{1}(x).., f_{1}(i), ....f_{k}(1), ..f_{k}(x).., f_{k}(i)...., f_{n}(1), ..f_{n}(x).., f_{n}(i))|, n * i)\n",
       "    core type: ExprTuple\n",
       "    sub-expressions: 19, 20\n",
       "16. in\n",
       "    core type: Literal\n",
       "    sub-expressions: \n",
       "17. (i, Naturals)\n",
       "    core type: ExprTuple\n",
       "    sub-expressions: 34, 21\n",
       "18. f_{_a}\n",
       "    core type: IndexedVar\n",
       "variable: 38\n",
       "index: 22\n",
       "19. |(f_{1}(1), ..f_{1}(x).., f_{1}(i), ....f_{k}(1), ..f_{k}(x).., f_{k}(i)...., f_{n}(1), ..f_{n}(x).., f_{n}(i))|\n",
       "    core type: Operation\n",
       "    operator: 23\n",
       "    operand: 27\n",
       "20. n * i\n",
       "    core type: Operation\n",
       "    operator: 25\n",
       "    operands: 26\n",
       "21. Naturals\n",
       "    core type: Literal\n",
       "    sub-expressions: \n",
       "22. _a\n",
       "    core type: Variable\n",
       "    sub-expressions: \n",
       "23. length\n",
       "    core type: Literal\n",
       "    sub-expressions: \n",
       "24. ((f_{1}(1), ..f_{1}(x).., f_{1}(i), ....f_{k}(1), ..f_{k}(x).., f_{k}(i)...., f_{n}(1), ..f_{n}(x).., f_{n}(i)))\n",
       "    core type: ExprTuple\n",
       "    sub-expressions: 27\n",
       "25. *\n",
       "    core type: Literal\n",
       "    sub-expressions: \n",
       "26. (n, i)\n",
       "    core type: ExprTuple\n",
       "    sub-expressions: 30, 34\n",
       "27. (f_{1}(1), ..f_{1}(x).., f_{1}(i), ....f_{k}(1), ..f_{k}(x).., f_{k}(i)...., f_{n}(1), ..f_{n}(x).., f_{n}(i))\n",
       "    core type: ExprTuple\n",
       "    sub-expressions: 28\n",
       "28. f_{1}(1), ..f_{1}(x).., f_{1}(i), ....f_{k}(1), ..f_{k}(x).., f_{k}(i)...., f_{n}(1), ..f_{n}(x).., f_{n}(i)\n",
       "    core type: ExprRange\n",
       "    lambda_map: 29\n",
       "    start_index: 33\n",
       "    end_index: 30\n",
       "29. k -> f_{k}(1), ..f_{k}(x).., f_{k}(i)\n",
       "    core type: Lambda\n",
       "    parameter: 39\n",
       "    body: 31\n",
       "30. n\n",
       "    core type: Variable\n",
       "    sub-expressions: \n",
       "31. f_{k}(1), ..f_{k}(x).., f_{k}(i)\n",
       "    core type: ExprRange\n",
       "    lambda_map: 32\n",
       "    start_index: 33\n",
       "    end_index: 34\n",
       "32. x -> f_{k}(x)\n",
       "    core type: Lambda\n",
       "    parameter: 37\n",
       "    body: 35\n",
       "33. 1\n",
       "    core type: Literal\n",
       "    sub-expressions: \n",
       "34. i\n",
       "    core type: Variable\n",
       "    sub-expressions: \n",
       "35. f_{k}(x)\n",
       "    core type: Operation\n",
       "    operator: 36\n",
       "    operand: 37\n",
       "36. f_{k}\n",
       "    core type: IndexedVar\n",
       "variable: 38\n",
       "index: 39\n",
       "37. x\n",
       "    core type: Variable\n",
       "    sub-expressions: \n",
       "38. f\n",
       "    core type: Variable\n",
       "    sub-expressions: \n",
       "39. k\n",
       "    core type: Variable\n",
       "    sub-expressions: "
      ]
     },
     "execution_count": 5,
     "metadata": {},
     "output_type": "execute_result"
    }
   ],
   "source": [
    "# display the expression information\n",
    "expr.exprInfo()"
   ]
  },
  {
   "cell_type": "code",
   "execution_count": null,
   "metadata": {},
   "outputs": [],
   "source": []
  }
 ],
 "metadata": {
  "kernelspec": {
   "display_name": "Python 3",
   "language": "python",
   "name": "python3"
  },
  "language_info": {
   "codemirror_mode": {
    "name": "ipython",
    "version": 3
   },
   "file_extension": ".py",
   "mimetype": "text/x-python",
   "name": "python",
   "nbconvert_exporter": "python",
   "pygments_lexer": "ipython3",
   "version": "3.7.3"
  }
 },
 "nbformat": 4,
 "nbformat_minor": 1
}
