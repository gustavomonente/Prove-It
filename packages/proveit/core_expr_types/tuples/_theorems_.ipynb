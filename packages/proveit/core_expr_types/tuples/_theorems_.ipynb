{
 "cells": [
  {
   "cell_type": "markdown",
   "metadata": {},
   "source": [
    "Theorems for context <a href=\"_context_.ipynb\" class=\"ProveItLink\">proveit.core_expr_types.tuples</a>\n",
    "========"
   ]
  },
  {
   "cell_type": "code",
   "execution_count": null,
   "metadata": {},
   "outputs": [],
   "source": [
    "import proveit\n",
    "# Automation is not needed when building theorem expressions:\n",
    "proveit.defaults.automation = False # This will speed things up.\n",
    "# the context is in the current directory:\n",
    "context = proveit.Context('.') # adds context root to sys.path if necessary\n",
    "from proveit import ExprTuple, ExprRange, IndexedVar, Function, varRange\n",
    "from proveit._common_ import a, b, c, d, f, g, i, j, k, l, m, n, x, fab\n",
    "from proveit.core_expr_types import Len\n",
    "from proveit.core_expr_types._common_ import \\\n",
    "   (range_1_to_i, range_1_to_ip1, range_i_to_j, range_i_to_jp1,\n",
    "    a_1_to_i, b_1_to_i, b_1_to_j, fi, fj, f_jp1, \n",
    "    f_1_to_i, f_i_to_i, f_i_to_j, i_to_j_len, j_to_k_len,\n",
    "    f_1_to_n, i_1_to_n, j_1_to_n, x_0_to_jmi,\n",
    "    concat_len_equiv, concat_len_simple_equiv, iter_ext_equiv,\n",
    "    partition_equiv, merge_equiv,\n",
    "    partition_front_equiv, merge_front_equiv,\n",
    "    partition_back_equiv, merge_back_equiv,\n",
    "    merge_series_conditions, merge_series_equiv)\n",
    "from proveit.core_expr_types.tuples._common_ import \\\n",
    "    (f_i_to_j__1_to_n, f_1_to_i__1_to_n, f_ik_to_jk__1_to_n, fk_i_to_j,\n",
    "     general_range_of_ranges, range_len_conditions, range_len_sum, shift_equiv, shift_equiv_both)\n",
    "from proveit.logic import Forall, Equals, And, InSet\n",
    "from proveit.number import (Naturals, NaturalsPos, Integers, Add, Neg,\n",
    "                            Mult, zero, one, subtract)"
   ]
  },
  {
   "cell_type": "code",
   "execution_count": null,
   "metadata": {},
   "outputs": [],
   "source": [
    "%begin theorems"
   ]
  },
  {
   "cell_type": "code",
   "execution_count": null,
   "metadata": {},
   "outputs": [],
   "source": [
    "tuple_len_0_typical_eq = Equals(Len([]), Len([ExprRange(a, a, one, zero)]))"
   ]
  },
  {
   "cell_type": "code",
   "execution_count": null,
   "metadata": {},
   "outputs": [],
   "source": [
    "tuple_len = Forall(i, Forall(a_1_to_i, \n",
    "                             Equals(Len([a_1_to_i]), i)),\n",
    "                   domain=Naturals)"
   ]
  },
  {
   "cell_type": "code",
   "execution_count": null,
   "metadata": {},
   "outputs": [],
   "source": [
    "range_len = Forall((f, i, j), \n",
    "                   Equals(Len([f_i_to_j]), i_to_j_len),\n",
    "                   conditions=InSet(i_to_j_len, Naturals))"
   ]
  },
  {
   "cell_type": "code",
   "execution_count": null,
   "metadata": {},
   "outputs": [],
   "source": [
    "range_len_typical_eq = Forall((f, i, j), \n",
    "                                 Equals(Len([f_i_to_j]), Len(range_i_to_j)),\n",
    "                                 conditions=InSet(i_to_j_len, Naturals))"
   ]
  },
  {
   "cell_type": "code",
   "execution_count": null,
   "metadata": {},
   "outputs": [],
   "source": [
    "range_len_in_nats = Forall((f, i, j), \n",
    "                           InSet(Len([f_i_to_j]), Naturals),\n",
    "                           conditions=InSet(i_to_j_len, Naturals))"
   ]
  },
  {
   "cell_type": "code",
   "execution_count": null,
   "metadata": {},
   "outputs": [],
   "source": [
    "range_from1_len = Forall(i, Forall(f, Equals(Len([f_1_to_i]), i)),\n",
    "                         domain=Naturals)"
   ]
  },
  {
   "cell_type": "code",
   "execution_count": null,
   "metadata": {},
   "outputs": [],
   "source": [
    "range_from1_len_typical_eq = Forall(i, Forall(f, Equals(Len([f_1_to_i]), \n",
    "                                                           Len(range_1_to_i))),\n",
    "                                       domain=Naturals)"
   ]
  },
  {
   "cell_type": "code",
   "execution_count": null,
   "metadata": {},
   "outputs": [],
   "source": [
    "range_from1_len_in_nats = Forall(i, Forall(f, \n",
    "                                           InSet(Len([f_1_to_i]), Naturals)),\n",
    "                                 domain=Naturals)"
   ]
  },
  {
   "cell_type": "code",
   "execution_count": null,
   "metadata": {},
   "outputs": [],
   "source": [
    "extended_range_len = Forall(f, Forall((i, j), \n",
    "                                      Equals(Len([f_i_to_j, f_jp1]),\n",
    "                                             subtract(j, i)),\n",
    "                                      conditions=[InSet(Len(f_i_to_j), Naturals)]))"
   ]
  },
  {
   "cell_type": "code",
   "execution_count": null,
   "metadata": {},
   "outputs": [],
   "source": [
    "extended_range_len_typical_eq = \\\n",
    "    Forall(f, Forall((i, j), Equals(Len([f_i_to_j, f_jp1]), Len(range_i_to_jp1)),\n",
    "                     conditions=[InSet(Len(f_i_to_j), Naturals)]))"
   ]
  },
  {
   "cell_type": "code",
   "execution_count": null,
   "metadata": {},
   "outputs": [],
   "source": [
    "extended_range_from1_len = Forall(i, Forall((f, b), Equals(Len([f_1_to_i, b]), \n",
    "                                                           Add(i, one))),\n",
    "                                  domain=Naturals)"
   ]
  },
  {
   "cell_type": "code",
   "execution_count": null,
   "metadata": {},
   "outputs": [],
   "source": [
    "extended_range_from1_len_typical_eq = \\\n",
    "    Forall((f, b), Forall(i, Equals(Len([f_1_to_i, b]), Len(range_1_to_ip1)),\n",
    "                          domain=Naturals))"
   ]
  },
  {
   "cell_type": "code",
   "execution_count": null,
   "metadata": {},
   "outputs": [],
   "source": []
  },
  {
   "cell_type": "markdown",
   "metadata": {},
   "source": [
    "Compute the length of an ExprTuple with any number of expression ranges:"
   ]
  },
  {
   "cell_type": "code",
   "execution_count": null,
   "metadata": {},
   "outputs": [],
   "source": [
    "general_len = \\\n",
    "    Forall(n, Forall((f_1_to_n, i_1_to_n, j_1_to_n),\n",
    "                     Equals(Len(f_ik_to_jk__1_to_n),\n",
    "                           range_len_sum).withWrapBeforeOperator(),\n",
    "                     conditions=range_len_conditions),\n",
    "             domain=NaturalsPos)"
   ]
  },
  {
   "cell_type": "code",
   "execution_count": null,
   "metadata": {},
   "outputs": [],
   "source": [
    "len_of_ranges_with_repeated_indices = \\\n",
    "    Forall(n, Forall((f_1_to_n, i, j),\n",
    "                     Equals(Len(f_i_to_j__1_to_n),\n",
    "                           Mult(n, i_to_j_len)).withWrapBeforeOperator(),\n",
    "                     condition=InSet(i_to_j_len, Naturals)),\n",
    "          domain=NaturalsPos)"
   ]
  },
  {
   "cell_type": "code",
   "execution_count": null,
   "metadata": {},
   "outputs": [],
   "source": [
    "len_of_ranges_with_repeated_indices_from_1 = \\\n",
    "    Forall(n, Forall((f_1_to_n, i),\n",
    "                     Equals(Len(f_1_to_i__1_to_n),\n",
    "                           Mult(n, i)).withWrapBeforeOperator(),\n",
    "                     condition=InSet(i, Naturals)),\n",
    "          domain=NaturalsPos)"
   ]
  },
  {
   "cell_type": "code",
   "execution_count": null,
   "metadata": {},
   "outputs": [],
   "source": [
    "len_of_empty_range_of_ranges = Forall((m, n), Forall((f, i, j),\n",
    "                                                  Equals(Len(general_range_of_ranges),\n",
    "                                                         zero).withWrapBeforeOperator()),\n",
    "                                domain=Naturals, condition=Equals(Add(n, one), m))"
   ]
  },
  {
   "cell_type": "code",
   "execution_count": null,
   "metadata": {},
   "outputs": [],
   "source": []
  },
  {
   "cell_type": "code",
   "execution_count": null,
   "metadata": {},
   "outputs": [],
   "source": [
    "n_repeats_reduction = Forall((n, x), Equals([ExprRange(i, x, one, n)], ExprTuple(x, ExprRange(i, x, one, subtract(n, one)))), \n",
    "                             conditions=[InSet(n, NaturalsPos)])"
   ]
  },
  {
   "cell_type": "code",
   "execution_count": null,
   "metadata": {},
   "outputs": [],
   "source": [
    "singular_range_reduction = Forall((f, i), Equals([f_i_to_i], [fi]))"
   ]
  },
  {
   "cell_type": "code",
   "execution_count": null,
   "metadata": {},
   "outputs": [],
   "source": [
    "empty_inside_range_of_range = Forall((f, i, j, m, n), Equals(ExprTuple(ExprRange(a, ExprRange(b, fab, i, j), m, n)), \n",
    "                                           ExprTuple()),\n",
    "                         conditions=[Equals(Add(j, one), i)])"
   ]
  },
  {
   "cell_type": "code",
   "execution_count": null,
   "metadata": {},
   "outputs": [],
   "source": [
    "empty_outside_range_of_range = Forall((f, i, j, m, n), Equals(ExprTuple(ExprRange(a, ExprRange(b, fab, i, j), m, n)), \n",
    "                                           ExprTuple()),\n",
    "                         conditions=[Equals(Add(n, one), m)])"
   ]
  },
  {
   "cell_type": "code",
   "execution_count": null,
   "metadata": {},
   "outputs": [],
   "source": [
    "singular_nested_range_reduction = Forall((f, i, j, m), Equals(ExprTuple(ExprRange(a, ExprRange(b, fab, i, j), m, m)), \n",
    "                                           ExprTuple(ExprRange(b, Function(f, (m, b)), i, j))))"
   ]
  },
  {
   "cell_type": "code",
   "execution_count": null,
   "metadata": {},
   "outputs": [],
   "source": [
    "partition = \\\n",
    "    Forall((f, i, j, k), partition_equiv,\n",
    "           conditions=[InSet(subtract(Add(j, one), i), Naturals),\n",
    "                       InSet(subtract(k, j), Naturals)])"
   ]
  },
  {
   "cell_type": "code",
   "execution_count": null,
   "metadata": {},
   "outputs": [],
   "source": [
    "merge = Forall((f, i, j, k, l), merge_equiv,\n",
    "               conditions=[InSet(subtract(k, i), Naturals),\n",
    "                           InSet(subtract(l, j), Naturals),\n",
    "                           Equals(k, Add(j, one))])"
   ]
  },
  {
   "cell_type": "code",
   "execution_count": null,
   "metadata": {},
   "outputs": [],
   "source": [
    "partition_front = Forall((f, i, j), partition_front_equiv,\n",
    "                         conditions=[InSet(subtract(j, i),\n",
    "                                           Naturals)])"
   ]
  },
  {
   "cell_type": "code",
   "execution_count": null,
   "metadata": {},
   "outputs": [],
   "source": [
    "merge_front = Forall((f, i, j, k), merge_front_equiv,\n",
    "                     conditions=[InSet(subtract(k, i), Naturals),\n",
    "                                 Equals(j, Add(i, one))])"
   ]
  },
  {
   "cell_type": "code",
   "execution_count": null,
   "metadata": {},
   "outputs": [],
   "source": [
    "partition_back = Forall((f, i, j), partition_back_equiv,\n",
    "                        conditions=[InSet(subtract(j, i),\n",
    "                                          Naturals)])"
   ]
  },
  {
   "cell_type": "code",
   "execution_count": null,
   "metadata": {},
   "outputs": [],
   "source": [
    "merge_back = Forall((f, i, j, k), merge_back_equiv,\n",
    "                    conditions=[InSet(subtract(k, i),\n",
    "                                      Naturals),\n",
    "                                Equals(k, Add(j, one))])"
   ]
  },
  {
   "cell_type": "code",
   "execution_count": null,
   "metadata": {},
   "outputs": [],
   "source": [
    "merge_extension = Forall((f, i, j), iter_ext_equiv.reversed(),\n",
    "                         conditions=[InSet(Len([f_i_to_j]), \n",
    "                                           Naturals)])"
   ]
  },
  {
   "cell_type": "code",
   "execution_count": null,
   "metadata": {},
   "outputs": [],
   "source": [
    "merge_pair = Forall((f, i, j), Equals(ExprTuple(fi, fj), \n",
    "                                      ExprTuple(f_i_to_j)),\n",
    "                    conditions=[Equals(j, Add(i, one))])"
   ]
  },
  {
   "cell_type": "code",
   "execution_count": null,
   "metadata": {},
   "outputs": [],
   "source": [
    "merge_series = Forall((f, i, j), Forall(x_0_to_jmi, \n",
    "                                        merge_series_equiv,\n",
    "                                        conditions = [merge_series_conditions]),\n",
    "                      conditions=[InSet(subtract(j, i), Naturals)])"
   ]
  },
  {
   "cell_type": "code",
   "execution_count": null,
   "metadata": {},
   "outputs": [],
   "source": [
    "shift_equivalence = \\\n",
    "    Forall(f, Forall(a, Forall((i, j, k, l), \n",
    "                               shift_equiv,\n",
    "                               conditions = [InSet(subtract(Add(j, one), i), Naturals),\n",
    "                                             Equals(k, subtract(i, a)),\n",
    "                                             Equals(l, subtract(j, a))\n",
    "                                            ]),\n",
    "                     domain=Integers))"
   ]
  },
  {
   "cell_type": "code",
   "execution_count": null,
   "metadata": {},
   "outputs": [],
   "source": [
    "shift_equivalence_both = \\\n",
    "    Forall(f, Forall((a, b), Forall((i, j, k, l), \n",
    "                                    shift_equiv_both,\n",
    "                                    conditions = [InSet(subtract(Add(j, one), i), Naturals),\n",
    "                                                  Equals(Add(i, a), Add(k, b)),\n",
    "                                                  Equals(Add(j, a), Add(l, b))\n",
    "                                                 ]),\n",
    "                     domain=Integers))"
   ]
  },
  {
   "cell_type": "code",
   "execution_count": null,
   "metadata": {},
   "outputs": [],
   "source": [
    "tuple_eq_via_elem_eq = Forall(i, Forall((a_1_to_i, b_1_to_i),\n",
    "                                        Equals(ExprTuple(a_1_to_i), ExprTuple(b_1_to_i)),\n",
    "                                        conditions=[ExprRange(k, Equals(IndexedVar(a, k),\n",
    "                                                                        IndexedVar(b, k)),\n",
    "                                                              one, i)]),\n",
    "                              domain=NaturalsPos)"
   ]
  },
  {
   "cell_type": "code",
   "execution_count": null,
   "metadata": {},
   "outputs": [],
   "source": [
    "%end theorems"
   ]
  },
  {
   "cell_type": "code",
   "execution_count": null,
   "metadata": {},
   "outputs": [],
   "source": []
  }
 ],
 "metadata": {
  "kernelspec": {
   "display_name": "Python 3",
   "language": "python",
   "name": "python3"
  }
 },
 "nbformat": 4,
 "nbformat_minor": 0
}
