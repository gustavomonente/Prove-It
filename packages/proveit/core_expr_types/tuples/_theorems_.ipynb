{
 "cells": [
  {
   "cell_type": "markdown",
   "metadata": {},
   "source": [
    "Theorems for context <a href=\"_context_.ipynb\" class=\"ProveItLink\">proveit.core_expr_types.tuples</a>\n",
    "========"
   ]
  },
  {
   "cell_type": "code",
   "execution_count": 1,
   "metadata": {},
   "outputs": [],
   "source": [
    "import proveit\n",
    "# Automation is not needed when building theorem expressions:\n",
    "proveit.defaults.automation = False # This will speed things up.\n",
    "# the context is in the current directory:\n",
    "context = proveit.Context('.') # adds context root to sys.path if necessary\n",
    "from proveit import ExprTuple, ExprRange, IndexedVar, Function, varRange\n",
    "from proveit._common_ import a, b, c, d, f, g, i, j, k, l, m, n, x, aa, bb, fab\n",
    "from proveit.core_expr_types import Len\n",
    "from proveit.core_expr_types._common_ import \\\n",
    "   (range_1_to_i, range_1_to_ip1, range_i_to_j, range_i_to_jp1,\n",
    "    a_1_to_i, b_1_to_i, b_1_to_j, fi, fj, f_jp1, \n",
    "    f_1_to_i, f_i_to_i, f_i_to_j, i_to_j_len, j_to_k_len,\n",
    "    f_1_to_n, i_1_to_n, j_1_to_n, x_0_to_jmi,\n",
    "    concat_len_equiv, concat_len_simple_equiv, iter_ext_equiv,\n",
    "    partition_equiv, merge_equiv,\n",
    "    partition_front_equiv, merge_front_equiv,\n",
    "    partition_back_equiv, merge_back_equiv,\n",
    "    merge_series_conditions, merge_series_equiv)\n",
    "from proveit.core_expr_types.tuples._common_ import \\\n",
    "    (f_i_to_j__1_to_n, f_1_to_i__1_to_n, f_ik_to_jk__1_to_n, fk_i_to_j,\n",
    "     general_range_of_ranges, range_len_conditions, range_len_sum, shift_equiv, shift_equiv_both)\n",
    "from proveit.logic import Forall, Equals, And, InSet\n",
    "from proveit.number import (Naturals, NaturalsPos, Integers, Add, Neg,\n",
    "                            Mult, zero, one, subtract)"
   ]
  },
  {
   "cell_type": "code",
   "execution_count": 2,
   "metadata": {},
   "outputs": [
    {
     "name": "stdout",
     "output_type": "stream",
     "text": [
      "Defining theorems for context 'proveit.core_expr_types.tuples'\n",
      "Subsequent end-of-cell assignments will define theorems\n",
      "'%end theorems' will finalize the definitions\n"
     ]
    }
   ],
   "source": [
    "%begin theorems"
   ]
  },
  {
   "cell_type": "code",
   "execution_count": 3,
   "metadata": {},
   "outputs": [
    {
     "data": {
      "text/html": [
       "<strong id=\"tuple_len_0_typical_equiv\"><a class=\"ProveItLink\" href=\"_proofs_/tuple_len_0_typical_equiv.ipynb\">tuple_len_0_typical_equiv</a>:</strong> <a class=\"ProveItLink\" href=\"__pv_it/8dde35d099caf288d8835906f81ea6b8eac2deb50/expr.ipynb\"><img src=\"data:image/png;base64,iVBORw0KGgoAAAANSUhEUgAAAJkAAAAVBAMAAACnAFEqAAAAMFBMVEX///9UVFREREQiIiIQEBCY\n",
       "mJhmZmYyMjLu7u6qqqrMzMyIiIi6urp2dnbc3NwAAABm9RoHAAAAAXRSTlMAQObYZgAAAAlwSFlz\n",
       "AAAOxAAADsQBlSsOGwAAActJREFUOMud1DtLA0EQB/C/uTw2moT0NlEsBEECgqhFsBSxOFRipzYh\n",
       "hQhpBO1OGwsLD2xsJPkGno1gqoCChUUSWxWCYi8IaiO4c4/NxXMu4Bab2cndLzvZBzqQrZOxe/xq\n",
       "TiKDvk09+Cg/hsyUBSfsaU7iqr92Z/fphv3GmfPK31qyBQzO8NLTZUdOp6uJCpAwOO0Q2C9/sVjC\n",
       "FAVgt6vFdSC2yWkl+it4bQW4B4pdLUrhAqfNh2sjQNVA1FDaLWV3GC1VCdc+gKaJhK60bcq2GS3e\n",
       "CtUEaTrSWaXtUHrN1eJTdst6mv2rvJb5Bs4txCpKm6X0CTM3zeyvtZDMK22J0ueMFm2EVyq1poXB\n",
       "t17t5n8arULVRGpeaXv+SgP/W3ilGAU2DH+lE5RdZuYWsVxNBCXaZKtAWW7+nNLa9M0Wo9lrT9ox\n",
       "LRt14tMfaKZYlBVZSrumNwvc7pU1DIy9D0Ojk6/JA4hpL5iSkxMPFzU57ChNk8NMnjtZc97oNFBp\n",
       "0vCil+45pRNPJ/9vreiNWgEtraKS736bBJ7Z+y3iXsnCCmhHag/nfNoBMM5qIucMYsE11b0gYrha\n",
       "nWg9RhOo/37aSbz2v8nX7X6o9gPqXKN4tSyaggAAAABJRU5ErkJggg==\n",
       "\" style=\"display:inline;vertical-align:middle;\" /></a><br>"
      ],
      "text/plain": [
       "tuple_len_0_typical_equiv: |()| = |(1, ..a.., 0)|"
      ]
     },
     "execution_count": 3,
     "metadata": {},
     "output_type": "execute_result"
    }
   ],
   "source": [
    "tuple_len_0_typical_equiv = Equals(Len([]), Len([ExprRange(a, a, one, zero)]))"
   ]
  },
  {
   "cell_type": "code",
   "execution_count": 4,
   "metadata": {},
   "outputs": [
    {
     "data": {
      "text/html": [
       "<strong id=\"tuple_len\"><a class=\"ProveItLink\" href=\"_proofs_/tuple_len.ipynb\">tuple_len</a>:</strong> <a class=\"ProveItLink\" href=\"__pv_it/8e97cdfb621151f37b6a5030f528d2d03ae02fcf0/expr.ipynb\"><img src=\"data:image/png;base64,iVBORw0KGgoAAAANSUhEUgAAATYAAAAWBAMAAAC4Sa0YAAAAMFBMVEX///+IiIgiIiIQEBB2dnbu\n",
       "7u5UVFTMzMzc3NwyMjK6urpmZmaYmJiqqqpEREQAAACk/Np2AAAAAXRSTlMAQObYZgAAAAlwSFlz\n",
       "AAAOxAAADsQBlSsOGwAAA5dJREFUSMe1ls9rE0EUx1+aXXbzY2Ospe2hSgnUHxShiEKpCqtglaCy\n",
       "lfoLqUn/AUkpePDSFbUnKbkIHqpW60UUTKVQ1B7Sg4cqalrU4o9DPRS1aMFDQHtyfu1kszuTdg8+\n",
       "IZ31+3bmM/Pem30AUqvfBus3G/3Dpgd4R5e+oa+1fDrAMqESc98c4KVoEv8qYxIlDYt4/EXMJte8\n",
       "9o5txTADsNGN+NlCBaKk4Rl+uilmk2seU/OM7WwQNIhYQrY6kyhpuIjDuyhmk2seixUZ23QgtnhB\n",
       "ElOipAmhUhKzyTWPhZ307AjEBntkbFhJQxxtOSKpBbnmsQeMLZoPxjYqZRslE+5KpXbL6lSqeWyS\n",
       "scVwKeiTzcnadwd36Bax9UxQBU04BbCEstkWsVFtffvHbBF00DBuJ8o1vanDGTSa5WxPUti24qE5\n",
       "ThU04TDoWeRBd6K1p2FTlrNRbW3bydjqUHKq+yDWCuqsvKiJAxxAw3nBuemlp1RBEyYsRx24sAwf\n",
       "FCtmcbaKVtu6GFsYecfK+BIYqJcXNXEgNiRgU+E3VdCERpKle2wK37TJglKJKdcCsIUXITNGj0RS\n",
       "1NSBRFeUb0aZKnjC/AwqsEaAFiwsfLrsYiManJs54g/MdIMrQ285+YZimjHhLdRiow53s1UxdeVb\n",
       "JMtjCsduIIeMpZJLdkHpu+9iw5q6TfPn9onckFV5+srcEyhrMyX4YdhkWcu/JXAcDuE534jOLVMy\n",
       "iYInvII4r81DtEjYoLDFxYa1WEHrAN1Tr89h0HX3dTN3BblHkvF2hWxc/YtXyrsG5Ic46H2oHGBC\n",
       "xPZYLxKFbDZHdh6/vbLyC7H1RlxsWNswFsrCpbbqCVah0fV0z7l70YJq/+HhJhquFDq4Ovxdagc2\n",
       "qGtzHPARw3YRW6KFKk4fpJZzmknPLTrn6ZEyduKFBdVs6h/4edLYyL/OOeZe6bkwm+EP6nseudPo\n",
       "umiVfRew4qxv5E16y74EfiCOFraHHgFm6wXVJD/oT6e2WjQ+V3+akb2qYlP8i/Ie6qNCWwQxG28e\n",
       "8Dn02zCCNh/dkYOEhy06PXeUsA2WtE4YtLVObT88fN1QhG98ru/MPeEU79U7KGN6/LXAv2anmgFG\n",
       "ZL0lUdy9rXp8ZVne9+KY8pbEoC+08mnPM3e1qqMq+nufqqclKdvSGn33QXfDPrC35EofljX9/D9Q\n",
       "aTWRwfUg7Rs55FBOrNR3BWoFaxzI/7B/fBnpf4PI39wAAAAASUVORK5CYII=\n",
       "\" style=\"display:inline;vertical-align:middle;\" /></a><br>"
      ],
      "text/plain": [
       "tuple_len: forall_{i in Naturals} [forall_{a_{1}, ..a_{_a}.., a_{i}} (|(a_{1}, ..a_{_a}.., a_{i})| = i)]"
      ]
     },
     "execution_count": 4,
     "metadata": {},
     "output_type": "execute_result"
    }
   ],
   "source": [
    "tuple_len = Forall(i, Forall(a_1_to_i, \n",
    "                             Equals(Len([a_1_to_i]), i)),\n",
    "                   domain=Naturals)"
   ]
  },
  {
   "cell_type": "code",
   "execution_count": 5,
   "metadata": {},
   "outputs": [
    {
     "data": {
      "text/html": [
       "<strong id=\"range_len\"><a class=\"ProveItLink\" href=\"_proofs_/range_len.ipynb\">range_len</a>:</strong> <a class=\"ProveItLink\" href=\"__pv_it/8b572103ea5a0b3bd56c23a382bf063889fda15e0/expr.ipynb\"><img src=\"data:image/png;base64,iVBORw0KGgoAAAANSUhEUgAAAb8AAAAXBAMAAABpBVx2AAAAMFBMVEX///+IiIgiIiIQEBB2dnbu\n",
       "7u5UVFTMzMzc3NwyMjK6urpmZmaYmJiqqqpEREQAAACk/Np2AAAAAXRSTlMAQObYZgAAAAlwSFlz\n",
       "AAAOxAAADsQBlSsOGwAABShJREFUWMPVV02IHEUUfjPTvTM7PT0762FBhsgyJkaQhRj8gWBkEDa3\n",
       "hQ5EIQibWTx4EENrxJubJv6AEHUu/hx2cRIPGtC4Cevv5jC5SHYXkiEkOcRAZpDFPciwCosoLFjv\n",
       "Vb3q7umezghz0ILX86rq1Xvve/XqVQ3AsJsHOWb8oVA3aS22nCL+hlpucD8Gs/lvW6oFRkMx/pBo\n",
       "ZwZaiy1fkgRKU6jtGtSRM4ra2LkzPIA32K0b1F2ellw5ADi2sSDMOwRiVzxAuyo+2Y2e0XJPP7tH\n",
       "RgvpRxz4ZGj4zLpyCxnBvnhQcrsBPkxapwXhfoBRR1IMwKO00/We0d3h7nM/bIO0J+h1zOv20ABa\n",
       "TeUWMgCZ2xuKA1hPWhcUhMKSpBiAl5KU5FlBalvZW5eRMlpDA5hhtzLU/dphTvw6CeuCggCPK4oC\n",
       "3Jdk3C4FAaI9QQWBenR4R/Acu3WOus9oTlhpJqwLCgIsKIoAzNcHB4j2kPZXKo8ND+Ayu4UM/LT/\n",
       "JeLMsjBt1PovY0Ewx/G4HFIUAWhhjTn8QM+5L5fiAKI9pO8A/KJkypvDJWVqlaf6gXnZSjGe6rgv\n",
       "UPd3yRl5kVqFpOgrQWH0KfFdVSQBXqxge0hnwVImnAukPQoQ7SG9AzkMrbmCqwwpshc/RSm8xn3w\n",
       "54X4qo4AvLrcSD2h+Cl2a4pu5T8l954lDNmT/fGxIFyBHfG9riiyg2lRLQreWLhmkPYoQLSHVHRI\n",
       "zcia26NMAjSjiYX17ZX7xIEQ+ZKd6Dbs2jR8o+YOsFsHyOKW5JwxYTq7lXB6tvQS9O2kogjADA3c\n",
       "xXJ1lPYVQ0/awapUHhTHraYBoj0ku0Q1ZizyrJEArehjgi6V6/KWWRFhsS9bUI0FaEwqDl3KJ1RA\n",
       "LQgWcp8p6gPwYs/oXSduB9Ee2axfxrkXZnBsQh7alg8wrft6XgOcgRTmtf3GFyUGuMhuLZKKmuI+\n",
       "guQU1YKQrkZSNHgGWzH3Omnvn6IwQ0+MqxTIYxgLy677AN/VfT2vAf4Ms6TXnb7NADvsVocCXpKc\n",
       "uWOIs9MGMwpNBp8FAT5oKGeuxu1gEeVyf/dUUdQeU2TakuBNStsV/LyNbsOzxpIP8Lzu63kN8Dx8\n",
       "KQFaKX4L6eJ+iLx1JZffOi3iVIJjGCn8mH8FGV8Q4Bp+LiiKAKSrptBzmEl7FKCwRwRFF3RZ7wSu\n",
       "ZAnwluzPd0XzxLzV7T7d/U0CnIdVMdqyXbPKe3yW3TpLh4OHOkJj2oP0HkxCDNcjzFSckCAcx8/D\n",
       "iqIXPabcSO/LstMMAxz55Y85skek2pO02duuX3AkwPlgAZLzgRR9Te4gfMWxS7vKLWTgWx7CdkrQ\n",
       "zWj9JIC+4KOYg5OSYp5qezmfE18y2t4pP4/Fph4Bu141xWk6AaEio/qooV4NAhwXdwymTANStcA7\n",
       "mdwSjF1b5CF+J1ej9RPVasGXC9vqoU4v7yjAdRhpXXPu9djW9i6F9v5Ey5zzsgcBJgIAix73MQxz\n",
       "ngL41qfijGxC7ldMrY8VaGyb7NYmpDfqPKT+spjR2B/GILJgdgdvcnhfUQzAoneyNTXQoxHtBf4m\n",
       "UZipBtt8HiVAvM0XYu5BhCuYI91u2IlZdmsWCmWPh1CdiHsh6gcG3Re8QH9PNxTFADTbVrkxEEC0\n",
       "V9R7Xbzl8nG4Ofr5vgBA+J77oZcMmY9LlVwTUq5i/CF6hN076HJJwZMESlOonR702X8lZNMYB45v\n",
       "0yo7QYDG8+U+Ob8G/++WC13F0O+O/o+3fwAl5XSGYosIegAAAABJRU5ErkJggg==\n",
       "\" style=\"display:inline;vertical-align:middle;\" /></a><br>"
      ],
      "text/plain": [
       "range_len: forall_{f, i, j | (j - i + 1) in Naturals} (|(f(i), ..f(a).., f(j))| = (j - i + 1))"
      ]
     },
     "execution_count": 5,
     "metadata": {},
     "output_type": "execute_result"
    }
   ],
   "source": [
    "range_len = Forall((f, i, j), \n",
    "                   Equals(Len([f_i_to_j]), i_to_j_len),\n",
    "                   conditions=InSet(i_to_j_len, Naturals))"
   ]
  },
  {
   "cell_type": "code",
   "execution_count": 6,
   "metadata": {},
   "outputs": [
    {
     "data": {
      "text/html": [
       "<strong id=\"range_len_typical_equiv\"><a class=\"ProveItLink\" href=\"_proofs_/range_len_typical_equiv.ipynb\">range_len_typical_equiv</a>:</strong> <a class=\"ProveItLink\" href=\"__pv_it/08d611ccfa5e0dd9bb8726cbbe6440894a47213f0/expr.ipynb\"><img src=\"data:image/png;base64,iVBORw0KGgoAAAANSUhEUgAAAcIAAAAXBAMAAABqslJeAAAAMFBMVEX///+IiIgiIiIQEBB2dnbu\n",
       "7u5UVFTMzMzc3NwyMjK6urpmZmaYmJiqqqpEREQAAACk/Np2AAAAAXRSTlMAQObYZgAAAAlwSFlz\n",
       "AAAOxAAADsQBlSsOGwAABTZJREFUWMPVmN9rHFUUx89udrKTnZnN9qUKsbKEaAtSScUqCIVtMQEj\n",
       "hQnUakGbhf4DixHfpEsFn2rdl6qIQmoLKvhjIy1qE2Xz1hqoi2ixInSLpPZpiQ/BXwiec+65d2d3\n",
       "5k582JfeMMPZcz/nzP3eub8mAMMudfyj4kZd+pZe3B4eyxHJFHdbE7kw/JJpwxwbu6IuLOe2j5WQ\n",
       "c4bOLQ0Qg6ktpVASmowOmb8MT+EP0oygQnfvyZBdMCE6bYVADslvMKnoZIXEZZr2XJhil6bRuEzm\n",
       "20MT6DSkGcf45+xim10wBXA2LY5ADsk0FHnWrpC4bCVlGDVgLBQajZdp2HaGptBrSTNW+eeBT0N2\n",
       "UVlPiyNwVf9Y13SywtXtm+E3hUaD1ObaQ1M4opsxzfNhS1xcFaZMnC0dokmmkxVO/4927Nf0fvCx\n",
       "h8eGNw0/ksSFBr+DsriojLXsYQSqEE0ynaiwx6WUdzWNxiOTk48OT+FFSezRPPFPPNhklzOBa1qu\n",
       "ah9UBHLI/P2gSKYTFRI3v2xvAqeY1TQaXwBsmNrn1GLEd1mtfsKr1l8vE9rWd3PmhY2XlCtXwJHl\n",
       "p/Q9gRzSHGkpkmlW6E1yqUIkdeW8PRenuKppNF4Dl4KdFXrAQWayrEgtPz49ZLeOPqiN5xumC+DF\n",
       "i0uZx8TeK4mzPLXfqCnX6x7iQdneKgIpxK+PtxXJdOI7RM5tf2UfD5zie02jUQw5z+i3tQFUKTwa\n",
       "Xy7pLe/ABlwgY2d3KajOwCWpfEISj3DbboorpHeU37QrvNkLCRXJdKJC5Bz4PWWmUIqTmkYjKPFC\n",
       "Mx47VSmFl2MJirzrlnmvgRXsl2DNg0qiwkPaRQ8tpKyBh0zI56BIpm0KIdhKUUgpzmuajMYatfjE\n",
       "YTor8WCf/zqisEzrhN5NuN4oxE0mQ0M7eOXDklb4np4sHHJbu96E9FF624RMweAojc1D5MaqKQqn\n",
       "oH+UwmE+Plyj2wx3TfNGT6GLE8gL9BrB9UZh0ITjbNdmftYKb0niIp8M94nL+TeHE6SDoytW1Ca5\n",
       "T4e4fwOTfCW/Q+IW2hUILck4xTVNk/Eq98cK1b1AHeeET/cUFvD+TE7WFFVvFGLdx0qhl9GnollJ\n",
       "zIu9+4e4CpunsaNKsIBd5fyFPmPwTYEc4tP0Q5KvZIXEfea2euEDyTjFsqbJKNbMFql6XtlKYVDl\n",
       "9TnfxXKH6r/p/trttlhhvgNX0d0Oak5Fv+X39bZMfRFsatctHM3ZOmQfQPshWg+bYsBkqEEOGaWn\n",
       "IsmXZcdHrnifRCYk4xR7NL3HxD5Ot4Vn2f6zpzDfia5CXB8dpS+pdwiflISgjYaPVrTBeNXe3gNw\n",
       "Cq8fYwMrCA1IISMlIU/Zz6W7I5EJySiFWxbaNZPf2QKnAjdycARVTfevNLCoKayPKMyUcKtRW2am\n",
       "Gjnyzsnp+bpaO3wZ43Rgjn8RUEYB12G0/V0o5Kpd4XovMp5MpVCn/Tkwx35+9fkDcPRewK8Yaa5S\n",
       "eAevnZrCeqXQfeoflIff0L/RMHxLw4rnZmDlw8eMSz5gnFL8jIWXgMX6yfZeIdXnTrLCYt1ExpOp\n",
       "FGc0fabvcyNgq62PyKrRF8y87NsPqdBCeqTb7W/FcWmG04G1L3sc8Ov2442iZwnodLyJJSF5cFgU\n",
       "Oh0TGU+mUmxo2hxIi9drMkmC8J3F6I7v1cc+mI6dadTekfgvkhbcw8bpqAvLle2P7RJyxdCZwXPW\n",
       "YGrryU1o35xjcjt0p/iwfCmqEGa8ieQPO38J7vIi8h3rPyzuDhn/AYotbq5A/YyhAAAAAElFTkSu\n",
       "QmCC\n",
       "\" style=\"display:inline;vertical-align:middle;\" /></a><br>"
      ],
      "text/plain": [
       "range_len_typical_equiv: forall_{f, i, j | (j - i + 1) in Naturals} (|(f(i), ..f(a).., f(j))| = |(i, ..k.., j)|)"
      ]
     },
     "execution_count": 6,
     "metadata": {},
     "output_type": "execute_result"
    }
   ],
   "source": [
    "range_len_typical_equiv = Forall((f, i, j), \n",
    "                                 Equals(Len([f_i_to_j]), Len(range_i_to_j)),\n",
    "                                 conditions=InSet(i_to_j_len, Naturals))"
   ]
  },
  {
   "cell_type": "code",
   "execution_count": 7,
   "metadata": {},
   "outputs": [
    {
     "data": {
      "text/html": [
       "<strong id=\"range_len_in_nats\"><a class=\"ProveItLink\" href=\"_proofs_/range_len_in_nats.ipynb\">range_len_in_nats</a>:</strong> <a class=\"ProveItLink\" href=\"__pv_it/1ed9cf3b5d7e7bb7ffaa964030e48d283e4e2fb50/expr.ipynb\"><img src=\"data:image/png;base64,iVBORw0KGgoAAAANSUhEUgAAAW0AAAAXBAMAAAAy4QMCAAAAMFBMVEX///+IiIgiIiIQEBB2dnbu\n",
       "7u5UVFTMzMzc3NwyMjK6urpmZmaYmJiqqqpEREQAAACk/Np2AAAAAXRSTlMAQObYZgAAAAlwSFlz\n",
       "AAAOxAAADsQBlSsOGwAABP1JREFUWMPNl29oHEUUwN9ddnN/9vZ6EU2VUDkOq4JUzuIfKEbOavIh\n",
       "GthKjYqYnBYxIJW1Eb+I8ah/QFB7X/yDJHhGQQMaE0hrMRWSL2Ii1KPUQqvYixCNokekHOqHiO/N\n",
       "vJndc2+jHw50ypu8ndv39jdv5r2ZArS7lfAfK95Q0+NWttTiLKoPea29LVKFAaV4Q9je/le21JIZ\n",
       "KQBGpen3u/780YHbLlTIVY0Gvmkf92lg7tOin++TWo9vHq2adbvDJuMO7MA/O1pwwy/JIpgN4eoT\n",
       "en6jbdhmmblJwQ8/0iu1KwBe3cquf6zKJpcBJBwpAe6HSncC5IWrJ2kb1drGbS0yNykAHefWWAP4\n",
       "Yiu73hlHvwipWSkB7oO1RAmywhXNy6i2jbsDmLtDPH7kKA3/OuFmyQZ4LwLcwKK4L8/lxFqMLsXL\n",
       "xI2uUjjJRPu297TinhaPe7WGX1kMNzOyvhcBJliYe/oSHh/tdC8mbnK1O5e7vn3c84qbFPhs96NC\n",
       "M3uwPBjFUKvUgStnpYnZRXu2n0Vyx3VmjEItXclKVx8DrGkH94o+JreqHLKxWro67fylM9OCYEJx\n",
       "T4jHX6VmJDGZUuXw6W7LsIkFN2O/zCK5EyWP+ylzZ1a6egHiFAhzgZbxVvFzVHCm5bsrKFfp9VSs\n",
       "5rKeGByar0RuZH2X4t4lIvWb1F628EN2Npz7iMsmn8Mm9qdYmBs87lT127x0lXbEr50r7t98SW4z\n",
       "uLqU6Y9fhMlUwKXprlfsYh8c5d/2KO49Yq02pOZQPGMb4dznPRPK0GdYJPdYDltNcsPDnXnpys6I\n",
       "+WwLHJ6S26oEPiJcUDhw3y3gbO0lCwotuUW6kXYeawntlbC2V5tYZPIOi+Qe9sUbhswsuyov0TQP\n",
       "DNJZLIK771Mfd5SyStXJZHcT9yBEaHPZT7+fUdyTintSuCiy9hpsvU++1ybRQmCfRP3csUyNXQ2K\n",
       "dD1JXV9D7IOzPu4XMQS2yihjxPFzfy1DYbt95xT3quJeFSU7IzVz08BkqoEZJJZF/TptcqTCMCc1\n",
       "d0QXgB9QtteEK4BnRZAXKI0eoHmYzh0+7hmAu41Ztnv+VFO8Z+ADyW1F1Inbr7j7dbqhltx4Caef\n",
       "gREMgPkHcKefZP5Kky+pm2Ph+j0JvqynFLdoJmlX1610BrwaJrnPyBNjvI6thCGx6vVb6j9L7nFY\n",
       "xtGq7ZoFtSJTintKpxtpq7ifoiWI7kT9GuAuSuHIOSp/pclj1F3NwtxDP8lVOXShJi8+US8Zb6Ju\n",
       "5B6h/+7jHvfnrNlwm/fJEzLe8KFaSiqhA7qWHvOqKsBhlK8C+8QmJKuoX6QdE89K0ef8u9/lmor/\n",
       "Ye8e1wCzAGcN2I9bP9+clzCmP1Iu+Lm7sIjSaVeBSNF3JRpgxS5OqiFqJ1AKwROe1jRR5RcPphp8\n",
       "JxOXLKPSOo1PeBebLMR6YehSwPskQ0juNMa6W8/uwRJzP/cW7r91iFOmTL3Oc6G2ru7f6xBdK6sh\n",
       "vnSawSN2H8q197FtbDNKM3iFJYzbd3+loNhCq6oLkOSmw2WiRf2mWaCyv15v9j2suIch1VMCr/7S\n",
       "0qSCDPStpePKdk78d2CNJYw7rW+W6TMubz7beXPMf+7A8cR7+eB5Kby2upjGF2G7UrwhcYL/Y2OT\n",
       "VEkKVkC35XueK6OLp44hmTvaxG3c3xNycV6B/2WLN50MEHZk/DftL/ptT7rWtSNmAAAAAElFTkSu\n",
       "QmCC\n",
       "\" style=\"display:inline;vertical-align:middle;\" /></a><br>"
      ],
      "text/plain": [
       "range_len_in_nats: forall_{f, i, j | (j - i + 1) in Naturals} (|(f(i), ..f(a).., f(j))| in Naturals)"
      ]
     },
     "execution_count": 7,
     "metadata": {},
     "output_type": "execute_result"
    }
   ],
   "source": [
    "range_len_in_nats = Forall((f, i, j), \n",
    "                           InSet(Len([f_i_to_j]), Naturals),\n",
    "                           conditions=InSet(i_to_j_len, Naturals))"
   ]
  },
  {
   "cell_type": "code",
   "execution_count": 8,
   "metadata": {},
   "outputs": [
    {
     "data": {
      "text/html": [
       "<strong id=\"range_from1_len\"><a class=\"ProveItLink\" href=\"_proofs_/range_from1_len.ipynb\">range_from1_len</a>:</strong> <a class=\"ProveItLink\" href=\"__pv_it/f1b36abb86f7af27d6d690771dffd9ed08dc67f90/expr.ipynb\"><img src=\"data:image/png;base64,iVBORw0KGgoAAAANSUhEUgAAASsAAAAWBAMAAABqGadAAAAAMFBMVEX///+IiIgiIiIQEBB2dnbu\n",
       "7u5UVFTMzMzc3NwyMjK6urpmZmaYmJiqqqpEREQAAACk/Np2AAAAAXRSTlMAQObYZgAAAAlwSFlz\n",
       "AAAOxAAADsQBlSsOGwAAA8RJREFUSMe9V09IFFEcfuvOuP/XicCLFcuWRUhhEgSBsEh5CIwJIvCQ\n",
       "rnjoEMRG0HlT6mS1F6NDhUaXLrUHyUoP6yVEIbYoBQlUwhAhsWCJDkHv9+eN47yZtVMvZpv3fd/v\n",
       "zTfv/X5vnkIEtlC2oINR+Q9b0QV5gOBWVD9Fd6RX4vtgpxljPuB+hkNVF4RtfHdXFDTuiP2eME74\n",
       "Ctx/8belc6kcj/UJu4kzNkAi0rrDqF+bOEtBLSgksW6LWIm/hd5Df1s618tjmSXsdt+oAnTpTU12\n",
       "Ruu5Mq50UtAhEo762yJW4jdhjVf8bencNI+VqGC384UNkAiBrfl6tsJLayoIhfOBaTKPeMyW/1X9\n",
       "belcO48Vxl68RhDZCtt1bL20VRAJUexrSzIST8pXiAWkvMbFSzzWc1JkCCJbsUodW11OEAlR7GtL\n",
       "MoB3ZLMngyrRyyVyPNYE9JKDh8sIkS0jH+zqXcdVDDJbLBKi2GtLsYBPCrEmkaKfLeJ2vAmN9Qi7\n",
       "TRa/NtpKlurM1g8KMuLtJEQxpWkWG9pkFvA7IgruLYyOtJ0Te/OOLeKEOcXr01DlsY5h936BILKV\n",
       "ygS7iv6ioLuJEglR7J0txQKethV7/dqGWDDshO3YYq5xjrfd8BiPdRq7ywyRrchWsK3UFgXZMMEg\n",
       "RLHXlmIBT1mc1YlJ2DytsrG9iMw1qRX22OraYQtWIHDbynDQsk1CFGspzyzipRl53yzEPiAWl265\n",
       "bCEnUoM9KrfUIj7G7jeGdl/EdJ6DHgjvIrpyS7GI98C+2m+buG8uGpefuWz14G783hnd4rFWsXuC\n",
       "IU75FWHqhigjwhYFmX8MFOKlVyKziA9Lo7c/ijim9aIoH3DZGsaXmHLWIs9jdTt5jJWOthKW6If6\n",
       "gh/zt/uGigOC4lsjKMRLs6VYxNMFfJPkk83N79LWxZjLFnK8HUBchsd66uQxQI1ffw7ImiyKhlYo\n",
       "17L8aVM3WVsVBwatVlCIl55bzDq4WStEcjRb8Q/aweaUE3eE4Qawm8gzRG1IXp/1GkRbr4QKYuFQ\n",
       "4DdxyIWnSjnaOOeEaPbaMmue76hMADkRC5jt219o+Gbn9BqE0fNYIhCkhNOBtqbdTx4oinvyZeJH\n",
       "CyLttRXfLrG0muF1IY73Koh2TJnEpqU95QJM0xp9ANYdIZ1L/GwBswM3z29u+J5O1VuChstE9Akx\n",
       "81pBZE+uVlJ/DBRSsoWs9znCtB1kCxjfWXRs8ZE6veA6Wo+IEPaiFReEbXb3QzMFzTrikM+ZXTKh\n",
       "g2P/8HeBsUf89/YXs+QgyEAaS68AAAAASUVORK5CYII=\n",
       "\" style=\"display:inline;vertical-align:middle;\" /></a><br>"
      ],
      "text/plain": [
       "range_from1_len: forall_{i in Naturals} [forall_{f} (|(f(1), ..f(a).., f(i))| = i)]"
      ]
     },
     "execution_count": 8,
     "metadata": {},
     "output_type": "execute_result"
    }
   ],
   "source": [
    "range_from1_len = Forall(i, Forall(f, Equals(Len([f_1_to_i]), i)),\n",
    "                         domain=Naturals)"
   ]
  },
  {
   "cell_type": "code",
   "execution_count": 9,
   "metadata": {},
   "outputs": [
    {
     "data": {
      "text/html": [
       "<strong id=\"range_from1_len_typical_equiv\"><a class=\"ProveItLink\" href=\"_proofs_/range_from1_len_typical_equiv.ipynb\">range_from1_len_typical_equiv</a>:</strong> <a class=\"ProveItLink\" href=\"__pv_it/6c5f76f26f7864e2f2b8725b9b8a219e2f8ebc300/expr.ipynb\"><img src=\"data:image/png;base64,iVBORw0KGgoAAAANSUhEUgAAAYYAAAAWBAMAAAA2vyYhAAAAMFBMVEX///+IiIgiIiIQEBB2dnbu\n",
       "7u5UVFTMzMzc3NwyMjK6urpmZmaYmJiqqqpEREQAAACk/Np2AAAAAXRSTlMAQObYZgAAAAlwSFlz\n",
       "AAAOxAAADsQBlSsOGwAABGZJREFUWMPNl01oVFcUx0+S98x8Oyroop02BNSUoKgYBEEcpJ3FgPIK\n",
       "UnChGXHhQpBpC91mRHQlcTaCi9hK042bOgGptXYxboQohDG0CYigpYyI0FALQ3HXe849577nvPvu\n",
       "VFfe8Oaee+//nJff/X4AiWnjdktlSv1RapiqBjcMTin5icV4u1DGPZX0b0qq2ipL4F3HfKgjNWxl\n",
       "ioMZSiJkcdX+ytKgOMadjCo8w9ITO0O8LV9mht+oeOszbX0VDHpz9tMAnWGoRcKSgwFlo1uTQ3EI\n",
       "Upco+wVLV+0M8bZjoBn8Jpa80wfQ8s98pxjSgYuh8nUHnWG4TEIttjMo2Rd3esmhOASp0ajCNzi/\n",
       "ntkZ4m2/MkO2jaWRx11tfaxC5VouhgM/BuiMCYVabGdA2VDPOarGHY0qkXgdO0O8bRczjFDpZsAW\n",
       "MsCUawb3tDOlKRHbGXYNZgjdpzDLqX5MJ6zpWFumyQw3qHhILGKYc7zTG9POlOZEbGUg2SAG4z5H\n",
       "2Z7x8b1J+1J/W7bMDLewdH/PGbaIoeIY+1PbWuT8+QILK4kMKHMxmBCkrlB2G6CrFmnDxqDbwpRu\n",
       "M4Pu81diEcOio9/WF7VzeZ6Fi4YhO06pJhUoczGYEKRepOwipJS/p7fc0ckqbKoZBt0G/t02bwkd\n",
       "ZthBR82/YhHDsoPhcp2cU507LFxOHAd8h4MhDEHqZcoKgd7xAb48+xJWvCAbmIDctu5BXVeNXGeG\n",
       "/bSR/y0WMcw4GJ5qZ5+GbkbEVgZ8h4MhDEHqGcryRV622dt4ohVbXhiQ29bLRHuTARdqhGHewXCI\n",
       "nfM9Fs6/K0MYgtTzOmveU5vBZoAPsX718bkIA7VB/tRhWQ8yl65hqVATa+Bces7O6VpsLsXWg3su\n",
       "hSEicwkOX1H/2HTg02G26h3/IcKAbQBL4l8oMsMfNCpFsYhBqSxHta7azc7TnbIOt5Q4DigjBt8e\n",
       "zIQg9ZLOziuwC8uQoXW7Cq2PIgHPU/fcNdt8jRkqslC1RQwL4L/GCYs/003+oZJe/eh8M9VGoX7s\n",
       "DCgjhjdjGMOEIPUCg9epO3Pfrq39pRiOpqOdUofo6ZUZY4bvZaGSdfbgNtV5EwDjyDKJm0tLfqiK\n",
       "Vj86F3DCTvCTcMYp2bo//zkJw1slxmQ0mAlB6okwit+rj5b1OGQexe7e+4y1nRmGke0nEIv6Wr07\n",
       "H59MVJWtsbMI8Um6a5jvgd/twSDijoZEyTfL+jR7ALC5n8EPF9hDZlB3rXztWnj94mugZ7llqGeF\n",
       "1ik6i1DfGe0MD81pZg0GEHFHw4zDyQbMqh7NfFKHQj9DZswEKTT4++EFDHf1/ecFN83iPcByNVDP\n",
       "zmPiLMJZx/cDy8AvWoNB1H22L4p/ZO2l9TsucqtWm5dmOAG5D/S7TnATDmM7zoBV934WZxF2HQws\n",
       "g5w9GETdu0nfm3Iu8cQsrNTDykswRKWU+XfZyjUGf4teEiGLt/QLtoQy5+eDuKOxcf//+JL3NsD7\n",
       "nf4DwXo9J4z6pfAAAAAASUVORK5CYII=\n",
       "\" style=\"display:inline;vertical-align:middle;\" /></a><br>"
      ],
      "text/plain": [
       "range_from1_len_typical_equiv: forall_{i in Naturals} [forall_{f} (|(f(1), ..f(a).., f(i))| = |(1, ..k.., i)|)]"
      ]
     },
     "execution_count": 9,
     "metadata": {},
     "output_type": "execute_result"
    }
   ],
   "source": [
    "range_from1_len_typical_equiv = Forall(i, Forall(f, Equals(Len([f_1_to_i]), \n",
    "                                                           Len(range_1_to_i))),\n",
    "                                       domain=Naturals)"
   ]
  },
  {
   "cell_type": "code",
   "execution_count": 10,
   "metadata": {},
   "outputs": [
    {
     "data": {
      "text/html": [
       "<strong id=\"range_from1_len_in_nats\"><a class=\"ProveItLink\" href=\"_proofs_/range_from1_len_in_nats.ipynb\">range_from1_len_in_nats</a>:</strong> <a class=\"ProveItLink\" href=\"__pv_it/55fd86323c44eb6e6756f2b3b4099b7766f1cbc00/expr.ipynb\"><img src=\"data:image/png;base64,iVBORw0KGgoAAAANSUhEUgAAATEAAAAWBAMAAABalbZhAAAAMFBMVEX///+IiIgiIiIQEBB2dnbu\n",
       "7u5UVFTMzMzc3NwyMjK6urpmZmaYmJiqqqpEREQAAACk/Np2AAAAAXRSTlMAQObYZgAAAAlwSFlz\n",
       "AAAOxAAADsQBlSsOGwAABHFJREFUSMfFV09oHFUY/3Z3Jrs7O7sOVOshtgxTY5HSspbiQSisVXso\n",
       "VgaRQBCbrSIN+IfVghcva8Seat1LxYOVTSlIL7oHsSo5JBcR42ErmtAi7VaJ1UBCtQT1oPj9eW/m\n",
       "JTOz8eYLM/Pt9/vN937v+9578wKQ2XJBK+ks4Z8yYhe3Nmzd2vrW3hRjMyu176hZ3RTnDu3eYbi4\n",
       "zWwtLNfXxJm0Hp7859cQHrndnRFoQL4f0pXV6FGdM3zVhgqHBrbKoyFbxTHdbWb75DGA7/A5ykQh\n",
       "bx77qtMEe51BhL4g13vpyir0Ztks04QON8E/D5/skzX++Tr+ODtMmHXiINgdNO4V4tk0Zc+2Hweo\n",
       "M4jQa1TvQbqyYhMfZ0zfrA43yz8PfhSylSNlC8OUFa4uQ0Vlf0GTNyt7aYBp8BlEqBzio58xz2hk\n",
       "R01fXYer081ZVxYrK4RDlH2MYEGrDBVZK9sZBJROmJovdUgZggi5OJBy1gr4Bh8dw+V0VDiHvZav\n",
       "LFZWnhui7BBeF5VNRCYrZRfvUsDUSOtOUoYgQfuD4ECWskIQ7GoYrkpDhSMD3Ofu64nFyqxmtrAv\n",
       "97+AiwDAHvWEyGRRVoom6BQMal2fQYIuASzjK+00ZZUW1Mwa0Ug5nOTnDk9ZrMztDMnZb3i9jy87\n",
       "dSEyWZTFS2wKXrfHfAYJOgUlGoPHWHHPEdjWjJQhcorMp2XCQ76vwuV5Zr7TUhYrq/rZwkp/4G0v\n",
       "wNuVjhCZrJRBrMztX6szSFAt1BPxlZdXYNEKK2G80y7DETJf/FDN3a4KV+BXrmuLlRVvZSurEvYQ\n",
       "QEhpJiKTpeOTAbaBKIPnR+oMElT1lOjKJdpzvZ5lfAMuywL4E1KVHdqgzKkP2c58UQbXQyEyWZQd\n",
       "M3IG47bPIEOdebS3A9xD4NLVN0xlZZeqvHhAbStlXc0yO37W1pbVrNEMOYfXu5CoZt5UVvQGUTXh\n",
       "KG25k6HNCV2ynrlgKLOuUGldvRPXPBWuxtPyAW3JChiAndQkrgKxbuCvvy0JxyFFWc7T3Jt43S0g\n",
       "Q2/ieN76FhxebkvQ22koKz3Ide5pV1OF40XP05otVlbxYJJqTzf7L2XIjdcKHMba3DrNRL70fnZO\n",
       "K9tLUToMyvhbPB73g7W1VVT2VNk8a9wEcw91fL3T+npakzXy0+/HsSptyI9RdWgce7TBLl4rcJ76\n",
       "mWMiX1rZ+IqsuVdvY77o44pg9OGy11vFhuTMuZw4BRWiw9Ju7d5Nw2tqi9s0Xt8ny8muT3lCtWLi\n",
       "tNnDhR+DDXvhtNF5tdOg/Rbga4DtCWWT0W67oN1oLMoyWDC+9tBIKkNXtckFc3sxcTbzBGieGyhn\n",
       "x9twBofk3I+7fkLZ+XiN6TyjsW9Cu2QzpVJ4yRWArvyypOSXiCinmwxlBG6A7CfWVtLPtPH5xlar\n",
       "hoz5z7RLFGJi3WQ35HJHRf2xiCjfvAxlBGalU5Tps/jqidh5GnItZcQubl9tfdouzWmikHPph30E\n",
       "c7u6/+HfCnjYg/+h/QuSYDie6j6QsAAAAABJRU5ErkJggg==\n",
       "\" style=\"display:inline;vertical-align:middle;\" /></a><br>"
      ],
      "text/plain": [
       "range_from1_len_in_nats: forall_{i in Naturals} [forall_{f} (|(f(1), ..f(a).., f(i))| in Naturals)]"
      ]
     },
     "execution_count": 10,
     "metadata": {},
     "output_type": "execute_result"
    }
   ],
   "source": [
    "range_from1_len_in_nats = Forall(i, Forall(f, \n",
    "                                           InSet(Len([f_1_to_i]), Naturals)),\n",
    "                                 domain=Naturals)"
   ]
  },
  {
   "cell_type": "code",
   "execution_count": 11,
   "metadata": {},
   "outputs": [
    {
     "data": {
      "text/html": [
       "<strong id=\"extended_range_len\"><a class=\"ProveItLink\" href=\"_proofs_/extended_range_len.ipynb\">extended_range_len</a>:</strong> <a class=\"ProveItLink\" href=\"__pv_it/1b8819ec7371f9fcac2da616298edb3fc3866d700/expr.ipynb\"><img src=\"data:image/png;base64,iVBORw0KGgoAAAANSUhEUgAAAj8AAAAZBAMAAAAs6FIGAAAAMFBMVEX///+IiIgiIiIQEBB2dnbu\n",
       "7u5UVFTMzMzc3NwyMjK6urpmZmaYmJiqqqpEREQAAACk/Np2AAAAAXRSTlMAQObYZgAAAAlwSFlz\n",
       "AAAOxAAADsQBlSsOGwAABrJJREFUWMPtWV+oFFUY/3Z35u66s7OuPihxs5arqRDGTTRDurRJ9z4s\n",
       "CCNYIEJu+OCDJYtGb+lSFASmS2D1cKUtBQtK7w0rUx/Wl0gFXSRFLHB8uHZfutweLv0BofN95zsz\n",
       "Z2bOaA+bUfQ5c2bnN9/vm29+95xvzhkBEjYwtBL+N7KFQz0DOu8+3Lkl/qEVdEg19+TGmGAGNLyg\n",
       "Mw3BUjml7j8jUKYHdfqxRIeEffSXuGjFSgxfkuKPjuxcTwuWyhEC+Qj8GBMoCfbXvudk3Rqdnhwl\n",
       "CAbTEmZznvWkI+z1dEEQp1D5qRhjtyeVW5IikAoWVW0i4AiBTiP0QUygJNhXs9uc7BY6tXaMEATL\n",
       "AA7djTe2pycd4QGRphfBKVSmHb3Pzg896Sid66ZEKFjEsrWAIwR6FYebHxMoCfbVnC4ne5ZOczem\n",
       "CEK7eDfeyHEvcITSRAQ/GxkiyulhTzpK57opEaMpjhAIdbJ6MYGSYF8tp5IdptMTnoTokpdOK85B\n",
       "6AiwNoIP655uRROIHNcaBcql3os5QiCs0/PiRToJ9tU+5WSLckRsYIhu3k2nWVXNEWBcx4vtdIHG\n",
       "lXPdlIjZmINCrB4aWpN4iyXAvtpJTtahGv3t6p0E2YPisaxGKqu0ffmE5NoLcPiP6TiF2vSQUaAx\n",
       "5Vw3JSKDabZpMuSgQF8DTCUESoB9tXFOlrvLLxKyimKYlNrptPkV5jrwlGjP6ziFmsh1TQKdV84k\n",
       "kDNE1oBIMM1qR0IOCvQWFBoJgSRoy2lUk+KCaq+z33VxPWN8EreFJJEk5jmRvL6Kk81SmSv8KqF3\n",
       "HCGOW00X6GCTud/BHdFe0XEMVWrN75kEuqKc66ZEZDBtktj7JuSgQGXP6mBPO9PVBJKgJe+zApsy\n",
       "cFvqSGdxFNcTj79VvE4uEMmRenIH3n2yk3mCfdZzsrkOPc2shDzsCfnZdIFuKi64WJb36bgMddOT\n",
       "XWTpau4iJNA+5ZwQKAxmv0v9SkhtU49mDgrkVqgcD1xoagIxqFkg0PPs/DwBR+P3fOkY2LJHFmu4\n",
       "oUD5RTMdtzEKXxoFotq7nh+vOJwu0IbgmRykHNFxGeoLYw06opzNAjmxTkuCMYeWGu1zNJBbkaWG\n",
       "BE0CnWbn09I5/lr+TdyxI38eok0IdEZo755zoMY+h1UNohFRbjD0Htx9iN1WXJzKaUPsdhBqGdx7\n",
       "iOk1KAyml5hGdIjBRpy9uts3RgRCsLiIZpuDvYhAVXau0vX4bOnamh5kmbSRNh8yeBf3tU8qKpNb\n",
       "nGyZniNXkZB9xxIZ+aKPJ0z+FR5XXDiIf4JLOk6hCn8YBbrEe7IHhcE029arBRwS6A0S81J0sYqg\n",
       "tY2GtNvWBSq0pbM44nU3VoTEA8LbTPqBNh9eoJybozeUQGOcrHynU+0VUHF2vyBWYJug2r8DN8GZ\n",
       "LObyfX0Zm0kdp1ClWaNAk7wnBQqDaXai0A04JFCZis+ZqEAIvkn98jlrQheo6EtnccTrxdgkwhHO\n",
       "x5l0nDYfPpMCORnl+7GaKFaD2ovQLZFNtgXZR8TvR4GbLN59yFPFnBxhFzYrdZxCDfgxgXY9vbxC\n",
       "jrQnBQqD6cXkQQg42ueOccPnjlva5FYJ5DakMx7F9XxMIHS+xse9tPlwfmZmpuc27Zqa42SbnCy9\n",
       "H79SENrrYr+anDdQV24EjjioCtUIvkIN1kgPAnYsVI0CBcESH4SYowm0LimQPdcMy7cSiBRZR8rg\n",
       "9fgQyzVJFSKpIfaK7EHweUVbCtZ5aeo2DutLT1xz1pKLDKxusg4Lx5dLc7zQ1PCLMNC77MUXq2pF\n",
       "KleldcOaVAYzrWJxDwWy55ICue2aLZLdA/EiTc5VvA6ZinDZDKoBLFuiSBNpAW2+mFQBTZ8ywYR0\n",
       "mpMtiwE11VYQf0KwK4l8N4n9sS3Mzd+hCeaBKF5u7eutMr78DvBu+h6kgqVxQoGKVUMPerGVHwFY\n",
       "FBVomp2n8brIS7jsaeWfxGZEjmrx2ESaps2Hwk843N8P5oyAZZuStX0oDbYURBNUkVQyX0zz3CnF\n",
       "naQZxlQUt31nsGMUaArUuikpkAqWxgkF0r6uRKaIrqpOgUBH2fmoei5Xd74oZ4hIEk8vNlRl88xM\n",
       "NHfxnlhMP/brEM3772nSUawrYvj+tDVuK3BenBYslRMIVL7WNAt0dd6x4ahATks6O3TTUb2mXoWf\n",
       "d+DxFJEsDzf4+7673QcLBLIWpHy07zqDXlQgGGXnUVlZoKuNhGeoflhbkXRBLsr+GwJF3tTG/xcr\n",
       "BK2a6drab9PM15PH1r9Yn4VLu38Czlni/yu7nYgAAAAASUVORK5CYII=\n",
       "\" style=\"display:inline;vertical-align:middle;\" /></a><br>"
      ],
      "text/plain": [
       "extended_range_len: forall_{f} [forall_{i, j | |(f(i), ..f(a).., f(j))| in Naturals} (|(f(i), ..f(a).., f(j), f(j + 1))| = (j - i))]"
      ]
     },
     "execution_count": 11,
     "metadata": {},
     "output_type": "execute_result"
    }
   ],
   "source": [
    "extended_range_len = Forall(f, Forall((i, j), \n",
    "                                      Equals(Len([f_i_to_j, f_jp1]),\n",
    "                                             subtract(j, i)),\n",
    "                                      conditions=[InSet(Len(f_i_to_j), Naturals)]))"
   ]
  },
  {
   "cell_type": "code",
   "execution_count": 12,
   "metadata": {},
   "outputs": [
    {
     "data": {
      "text/html": [
       "<strong id=\"extended_range_len_typical_equiv\"><a class=\"ProveItLink\" href=\"_proofs_/extended_range_len_typical_equiv.ipynb\">extended_range_len_typical_equiv</a>:</strong> <a class=\"ProveItLink\" href=\"__pv_it/2a6c720853f61c2aaed379bea3d907e4eed064ea0/expr.ipynb\"><img src=\"data:image/png;base64,iVBORw0KGgoAAAANSUhEUgAAAooAAAAZBAMAAABENxJ7AAAAMFBMVEX///+IiIgiIiIQEBB2dnbu\n",
       "7u5UVFTMzMzc3NwyMjK6urpmZmaYmJiqqqpEREQAAACk/Np2AAAAAXRSTlMAQObYZgAAAAlwSFlz\n",
       "AAAOxAAADsQBlSsOGwAAB15JREFUWMPtWV1oXEUUPrvZze5m9243L1ap1WW1PyCVWFsVaXFbTB8q\n",
       "gRsotSKalT70oVqWRnwzXSoUCqXNS1CkxcQKKmi6Ka32J0L6Im0S2m2xwbZCr0javhiqEPyBgnPO\n",
       "/OzMvXNvghCF6sndm3PPnJ87386cMzMLEKDW0kr4n+ZPsdIqizTzD0SusT+ktJKkzcdwSksPdrlV\n",
       "P8QmHW0Z+f7CkJjJfwfFWAM2E7NUiYhrK8xtK0yGQuQBQp/C72ZfU2Iw0jKChqT9EEfRw38/mCjm\n",
       "8Z8ztnAofid65JTxnn3RJS5Wn6NDUhFS0/hFKDrRCUpu0m6Xg7Q0AkUROpT6XPM5tQxEdGZPzCSc\n",
       "wccPTBSz6D1TWzAQk/2iR6/Q46beBnHxMmTcKDupCDHmYKAJxo710JTrcXZ+xPxlxCcMRRE6lB4y\n",
       "H7eengURHe0HCMV3cH57JoqpCvt3cOGGYnZM9GiUHtcPu4KDXD3KTlMEmFDiluvT0JQjfSGZR13u\n",
       "k/u1ozg6v5duk3MzNiujo/0EoYjfUqLhy4sIcNfCodgie9RBrzcrOUZro/qhK0KLGrbHXF2OdFlH\n",
       "kXyuDUexY34v7RR0FCk62iMzCbkxfz3J8KLTv3Aofi561EYxEkXJMTocYWYoQkbl7Y2gy4MoHpZ+\n",
       "rSi29f8dFCk62iPD4FpdKq3xo9hSKj1WXjgUT4geZTFGbvvyOnHdI5j6wq2UInQ/gl2oCPm3q3eC\n",
       "Jg+iuEn6taKoQofk8HbPhiJFR3tkGIpfA0z7UcxWIe8uHIqHRY/4cFpU4Fz5KHu4EGEmFaHewu45\n",
       "NYZ+AV0eRPGC9EsoHi8hLVcoqtAhORzW2VCk6GiPDENxH6QrfhSZZB/jtvHKTve6vDuidrP/28C+\n",
       "vvuejAp0gaVerBI9ilM+PlQlLt04zR6uRKAoFCFXW8TuTlGunX8DXR5E8Yr0ax2LKrSdzsM9G4oU\n",
       "He2RYSjmXXKWPDumrbqnKeIGeo5X8c7HNbuPC+VxbM8Gor46CrlBMsoCNYsJsfvEYOwZofO86FEL\n",
       "ZfebnEvSmNoTgeLNpgkDJ3VXJqy7hhwH29NisHEU90i/VhRV6LB8iKBlWYpjqa+iUKToaI/MJGJM\n",
       "xaV1vKqheDlQXCSKyQpXpv/QFsieb34KW0VJLVMzM0w9MDPoVDrhpBXFjYKj1z0ageJGZXIc3Xdo\n",
       "RUeTB8fiUek3DEUeOmxKF21jkaKjPTJUjM9R0qnpO8BMrhCCIq3ImXKW754G/EF/B76Q520DZHiW\n",
       "fUHOuSxIyI/IvEgT8JbgMpU5ZvQtZfI4aDM6XzHkc83oQF6UoUNILsijZzR0IRLO9i4dxcQ1Fn6I\n",
       "fHd/Y6AYF8px3u5fVU6taUBRGHXR5UEMc4Xz7mcFieKPokd5erGnBNfTYO0XASxljYukIqT/xPzO\n",
       "5gVfOBYMeRDFi+JjH4sydDAsd39o0FpdPFldPI7iewTWReM0Io0prJPGef2ageJ+obyft9/wL0c8\n",
       "SPcLoxt0efA6vUS187pEcZPoES0XqDggdyzN0B6B5B/YAbz19IP21FSEHCalbIEUeNHR5EEUR8TH\n",
       "jqIIbUYkz9z9Jet6MVsQ9sgginlKiGfNM53b7K1fw1GbdF8yUBwWysO8fdifRerQ5gmjYbo8vh9z\n",
       "qtmY3Gh+LFfdRVkckMs/zJiVACXs+RM4l+qC4SKlCK3oKF6D+DJZdDS5juKuF5YXyCd9QlbdIjTG\n",
       "UBGJ4e53+VBs/enXNyg6t0dm0ljD+U7G+IQTLRLFKSGa4u19/mO1MXAqwqiPLg8uzMzMNJxqsiwr\n",
       "FlZ96tEKxL0iORxvrEtOcG6RqKlIc3gv+1xFyVdgyI2xKH2mi+E7wBVaDJOuyjxijEWivdJ+r3G+\n",
       "+GwQxZ6XZb3QUOwTyn283T+jW6qQ8oSRnNFv87EIX8r3wLOBzeJEYYrXhYnmOUXCsvcDTbG1cckV\n",
       "hwgsRTiVI2DIjdMI6TM7Fo7iRDOGj5j7t3Kz/tMIUEcYaD+qo5icDaJ4LQFb2DKlI1BdUDlO7dDO\n",
       "VJJlfmMX9LCOFIVRO10e3waxRWRMVcI7okf5GjzJT8fyfImAB0ndwe6gSCnuaawS51BJ9rXEp/sN\n",
       "eZAOqgMqO4oidDAsc5+6F29YD9A9YU+MQrGtGERx64PQ25B9lyhiTEolNWxnePQ2Us9Bb43dUut5\n",
       "ymMYkdEduli5uY258H21AAesN9SjpAfnToHgAPhe1HI6jCKlmF1CpRXPvPDbWVIz5EGaBrnHtaMo\n",
       "QgfDovuRM1affH/M7IlRKGoHe8YJT0OenUgUcSGNyny9jW/Q/LIcPj0+4ZtT1obN7NoyM2N2kFXj\n",
       "xcQcUCLicvM4GT4gd2Z2eRCLmvK72P/DRTXSMoLOS/vz+u8u+amqFUXH/bDXXHXDKaFMQyPh6ln5\n",
       "Kvy8AxNRjYxYG7vAg/ueJIqJdvuvVzkYOelDMeFyZUQIN9M5feJtoALSSUbjfM/9H0LRWKxYf4+u\n",
       "qburbSjsx2dJ2e6C5SfP+41ipXV/AbE+NXLaMU2cAAAAAElFTkSuQmCC\n",
       "\" style=\"display:inline;vertical-align:middle;\" /></a><br>"
      ],
      "text/plain": [
       "extended_range_len_typical_equiv: forall_{f} [forall_{i, j | |(f(i), ..f(a).., f(j))| in Naturals} (|(f(i), ..f(a).., f(j), f(j + 1))| = |(i, ..k.., j + 1)|)]"
      ]
     },
     "execution_count": 12,
     "metadata": {},
     "output_type": "execute_result"
    }
   ],
   "source": [
    "extended_range_len_typical_equiv = \\\n",
    "    Forall(f, Forall((i, j), Equals(Len([f_i_to_j, f_jp1]), Len(range_i_to_jp1)),\n",
    "                     conditions=[InSet(Len(f_i_to_j), Naturals)]))"
   ]
  },
  {
   "cell_type": "code",
   "execution_count": 13,
   "metadata": {},
   "outputs": [
    {
     "data": {
      "text/html": [
       "<strong id=\"extended_range_from1_len\"><a class=\"ProveItLink\" href=\"_proofs_/extended_range_from1_len.ipynb\">extended_range_from1_len</a>:</strong> <a class=\"ProveItLink\" href=\"__pv_it/8d26ed74977e322fdbc375783edc31f745e1d3e90/expr.ipynb\"><img src=\"data:image/png;base64,iVBORw0KGgoAAAANSUhEUgAAAXwAAAAWBAMAAAAx0TpxAAAAMFBMVEX///+IiIgiIiIQEBB2dnbu\n",
       "7u5UVFTMzMzc3NwyMjK6urpmZmaYmJiqqqpEREQAAACk/Np2AAAAAXRSTlMAQObYZgAAAAlwSFlz\n",
       "AAAOxAAADsQBlSsOGwAABJZJREFUWMPNV11oHFUUPk1mmv2b6bZK+xCjIdCkpSg1WoRAcCk1DwuV\n",
       "KfpSxGZLER9ayqogiA9dKfpU4r4UhMYfTF8KxW6kWGv7sH0R2kLZBk2gCI0PEWkxVHCpigXv+bl3\n",
       "JnvvTHz0LneYe8733fPNnXPP3AVIbVvGUl0N9cOWS5p6DKktZwFzySkcDpc5l60QoJrq2dAR51DS\n",
       "hK1QXl/+kAWUQdUNtRviiVOFZRz/5Jaf5vtBQgUVvBb3RWSCt6PUgNIuvsSkDS0DPDRuZFryBbq2\n",
       "6ShDxPgOTZ+45af4/KaEOkjDqXc6aPKPfq4mzkcZ6r03J5nUV4mBZ0CzLPkCXRPbRMFehXcxj5bd\n",
       "8lN8xbaEukrDya8iMsFTasJSK0N+/50VTYqBj8zAkn81cX9e3+go2Kv0EF7HLT/F169D7aZE7IqJ\n",
       "JoY9GfIvRJoUA4nOA0v+7sT97aR8wu9BRkmtWz5l66b4zkmoQpMyYlhMPPFshvy9hhQDic6DXvkG\n",
       "asuf5a4Y4yMjz6dVHrfvooQqYlqWjoy22MQTT6Wr/378KJMOzMfA/OHBjgx65RuoLX+Ku2JcAlAZ\n",
       "6Tdc8tnX22YlVB4THjaV9erRxNczVv93IVXmYuD0af9PGZD8r0ewjUISasu/zl0xPoJcTb1DLr0D\n",
       "u6rwWM3IZx/4V9RE75k9/LSE6qNt8XFdTDzxQsb36iGTcp3LMfBuhE+14Fp9A7XlL3BXjDDyvmDH\n",
       "W8fvwaIXFSMjX3wbbyiJG00Fm5BQ/cS7q0088Yl0+cEDJvn0GgR4Gfw/ZNAr30DxlTwnrySOcoIY\n",
       "QVl2Z/ESfqTKLS9OHvFtwszqr7vl710rfy6j7A8LKejGwDNQeCQDh3yG2qs/xx0ZzWtqk28FeAKd\n",
       "S3c+SMgnHwRH9uPDbn5DHJ/q3Kfk+UWb1k2esCakfC0G/gPFbjJ5krmvoVnJA/tPq4WZjnzK7SXv\n",
       "9bMJ+egDuEUnuGhQHD+LM6T98qw28cQKa394fV7NspCmOxUD/BteaUuE3tU3UFv+Le7IOKke8MMF\n",
       "KFAdWYLWkwn5J+nhr7BCXVSmxOnV9H7kwkcTz4P/FxaUplziEW9yJF3ItQ3wGNwnlkO+gdry57nT\n",
       "ItZJXOmz1dXflPxX8wn55OOyOAHfiONL/dka1vuRTMdfHFXLtQNgRAXow2MAXXbhzXazyZEUYp4K\n",
       "8DUs+zhwfLY0NCnfRMGuGX63PlDh1S/ctg7ML+ClC5O6oNXFicftYk2buDiqkIGdPT/ihR9/zAHM\n",
       "DTsPDWOur67GY9eMoFnhD9QNgK298v0u+BXYXtKFnw9Lqt0EWOT9aw5geHbz7F2rliao0f5GkgWk\n",
       "E58t/6bryKbx5uCICg83YEatYGFnHcJe+eolDkzC+48b9q/iDBvwzEFjojaj+gF766r33bfCR5iw\n",
       "YQNn3Of9sJFSw2akJxn+y6v3nP+2cGmDpOeQOFWxuvatMVHDV9i2wpWwD7IYrnBrgStu+f5yivwV\n",
       "6dWs86GkXrhYl+Q1qdeGbXRzKmkinY31/yyesoAy2OaG2g3x2LdM/Ie/1t5m54r+L9q/NNFF3fuG\n",
       "YsQAAAAASUVORK5CYII=\n",
       "\" style=\"display:inline;vertical-align:middle;\" /></a><br>"
      ],
      "text/plain": [
       "extended_range_from1_len: forall_{i in Naturals} [forall_{f, b} (|(f(1), ..f(a).., f(i), b)| = (i + 1))]"
      ]
     },
     "execution_count": 13,
     "metadata": {},
     "output_type": "execute_result"
    }
   ],
   "source": [
    "extended_range_from1_len = Forall(i, Forall((f, b), Equals(Len([f_1_to_i, b]), \n",
    "                                                           Add(i, one))),\n",
    "                                  domain=Naturals)"
   ]
  },
  {
   "cell_type": "code",
   "execution_count": 14,
   "metadata": {},
   "outputs": [
    {
     "data": {
      "text/html": [
       "<strong id=\"extended_range_from1_len_typical_equiv\"><a class=\"ProveItLink\" href=\"_proofs_/extended_range_from1_len_typical_equiv.ipynb\">extended_range_from1_len_typical_equiv</a>:</strong> <a class=\"ProveItLink\" href=\"__pv_it/8545e33bc0f04f9ccd24513dac4fd5e108b01c940/expr.ipynb\"><img src=\"data:image/png;base64,iVBORw0KGgoAAAANSUhEUgAAAcgAAAAWBAMAAAC2zBEyAAAAMFBMVEX///+IiIgiIiIQEBB2dnbu\n",
       "7u5UVFTMzMzc3NwyMjK6urpmZmaYmJiqqqpEREQAAACk/Np2AAAAAXRSTlMAQObYZgAAAAlwSFlz\n",
       "AAAOxAAADsQBlSsOGwAABSVJREFUWMPVWF1oHFUUPt2dyW72P1Wah/pTFpJWSiVWRQgGh6D7MFAZ\n",
       "QYQ+2Gwp4kOhrAqC+OCq6JPEfVF8SDU2vhTE7IpYa1vcvohpIWxDTaAIbikrpWCowiK+ec+598zM\n",
       "7tw7a3zzhmTO3PPdb853751zzwRA33bvh5hWFz/KCLqwpWF0S0eB9SGyHXPqHoHj07FS3DiOXR3l\n",
       "F0bQhS1TGh3B/VHg5/pnugF+Z02xu9JwoYt3v2hEGhzYrvPzr9Pfb56R1qveqIiyT3uQd8SUNH2g\n",
       "fWsfT5FeJOJTUzEz3hzqCMJwpeHC93j3iUakwYFxNdTz0QCwXp5Dyz75mWAf9+JEVl7rwFFxTTgB\n",
       "cByD/MgsUuBfON83cwqugeBCYbjScOF13MJdjUiDA9ejrZ6PBkDyRk9aDwrCXDNO5NxXHlyUpg8s\n",
       "4ipeNYtE/K7+6C36JRtBGK40XJJqdTQiDQ5Uxc9P0u2qpyxkh8fjXhWMdUbdMBCHQ9Izipz5lyKv\n",
       "hUVKdlcaLuTEGozrEo/BIdpZfv5Zup1ni9iXYuKwxOuXaagbBs7Tnm2bRBJ+5yKXePwSXQ6Xy49p\n",
       "s6vegYmGA0IDfjx8UlnEXjGHkTsx3YSseIWea4WAH09cEvKrJpGIjxNJXFGRFR5focs5gJ5WpHTY\n",
       "kdOLZskNFuMPtoh9LWayiyW5Zs5KALT/9hbqkGswZ7ZMrcpB0hrHiCSuqMg1Hr9Gl/chjYz2BcH2\n",
       "RjckUjoseeSkDrpwT1X6DnFAh+jg/YstYt+IEflhTSTDDqQ75wNgvo/a8/tMK5noxIqUXFGRGzx+\n",
       "gy4Fz1oWN2NXRARjTohfOUR75dQd2LS8rMr6sxzQLEV5ly1ifytG5K+YYpbBpsVXwGwDFhxI3TWJ\n",
       "TC7HipRc8HW5/Gi5PA2DYbjSEJd8idJLEbdlshbiVw4RxzksC0pNC3QiMZuERK7EiJxXQef7AVAc\n",
       "k6sdyMz8R5GSK7qSKzx+RV4alxF74gjKnngpxI+OzB6A+7Bj68bbLPI0B4QGFKpsjdyuv6Eosf3G\n",
       "qwGw2IYfvNB2jbyT8dtVco3crnCEyo11Ksu9vSGR6LAWPJte1C3rxS+U7yYHdJMOyxJbxC54NEWP\n",
       "7HoE50TAFzqODywu20+KxNs1rSTiSaStZyWuqMh1Hr8uL+/SXFyQUa+F+NHx3gZkqK7ZguYDXJxx\n",
       "QBXOJtIi9pbIl5Q0MYAGhO5kisLDYjXd9oFj7YIoSrIlk0g6XFDkIJl/R1xRkS0e31JzVfOPg1n4\n",
       "NjyJNdKd+3R7+3ch8nkuDc5wQGc4m5B16qlpEeoBgDI+5SBmxqYyZBelqIzYmAV8ARTQbl1CZN1Y\n",
       "DAj82K0/j0Niisl8ahxPXGGRfhhy/IEw7xP4pw9zQ59adr+WcuRKZpgmUVN+NOS0JDhjpUVM+eh+\n",
       "pa4sbZn9OuA75trV/xr8Wc8aqXiYncaj4fPafbAdmMp1h0TmG46sFa4A7IGgtnaVka+eHii3sVK3\n",
       "NAWd+N2kHCJr8WHgRbPIq/6xr2WNFujBp4Mb+pgAuStSc/DmvcMfzfbxOiyKZco8VIMCO2+z/zYk\n",
       "eg3uoraIlZam+BK/Dx8ls1CPAuXXjl6kwoNd0rLq2yKPXwzz4lLkDf8ZsJ/dvjNAcYz9xyC3t85d\n",
       "1HDV29GHYtfl7yRbNwoseGaRCg85Pau+9Xh8L8Rb2KwNbvr5uP/xiIQ2yUbQRZHUR38ufBAF/kR/\n",
       "J4eRkwF+Z02xT5Kxe5Z390TsxPzP2z/TkGx5WfNUZAAAAABJRU5ErkJggg==\n",
       "\" style=\"display:inline;vertical-align:middle;\" /></a><br>"
      ],
      "text/plain": [
       "extended_range_from1_len_typical_equiv: forall_{f, b} [forall_{i in Naturals} (|(f(1), ..f(a).., f(i), b)| = |(1, ..k.., i + 1)|)]"
      ]
     },
     "execution_count": 14,
     "metadata": {},
     "output_type": "execute_result"
    }
   ],
   "source": [
    "extended_range_from1_len_typical_equiv = \\\n",
    "    Forall((f, b), Forall(i, Equals(Len([f_1_to_i, b]), Len(range_1_to_ip1)),\n",
    "                          domain=Naturals))"
   ]
  },
  {
   "cell_type": "code",
   "execution_count": null,
   "metadata": {},
   "outputs": [],
   "source": []
  },
  {
   "cell_type": "markdown",
   "metadata": {},
   "source": [
    "Compute the length of an ExprTuple with any number of expression ranges:"
   ]
  },
  {
   "cell_type": "code",
   "execution_count": 15,
   "metadata": {},
   "outputs": [
    {
     "data": {
      "text/html": [
       "<strong id=\"general_len\"><a class=\"ProveItLink\" href=\"_proofs_/general_len.ipynb\">general_len</a>:</strong> <a class=\"ProveItLink\" href=\"__pv_it/f4857cf403d51e259e122b8a98a943abe1204d4c0/expr.ipynb\"><img src=\"data:image/png;base64,iVBORw0KGgoAAAANSUhEUgAAA+YAAAAzBAMAAADoVQ8VAAAAMFBMVEX///+IiIgiIiIQEBB2dnbu\n",
       "7u5UVFTMzMzc3NwyMjK6urpmZmaYmJiqqqpEREQAAACk/Np2AAAAAXRSTlMAQObYZgAAAAlwSFlz\n",
       "AAAOxAAADsQBlSsOGwAADJNJREFUeNrtXH2MVFcVPzsfO2/nzSxDa1ADxc1Q0EowWywVa6lT4pLY\n",
       "ig4JixptGWwjiVUyuMZEE2Gstn8hzB9WjYLdQqM2oWW2oa2FJRn+UAsoDISC0CZubaiE2O1iXEEQ\n",
       "8H6+d+59X3c2Gs3sO8ns3L33/s597/7ePffce98ZgEhJDw6WIZYOkcHBQYNaiRs3GtOiO77SyTeX\n",
       "Pse/37lx3YTz4ekxArqbHX1735LG+mjMuSMPi2+Lf9VwmeWTCpeaT6odsaBtBZbWfE1B5/tiznXJ\n",
       "yT5JsfvtauHCW5xUtmCkDcGfmtLluC0aK0AQhuG4+2TWizHnumyrKpyfZOm9A3yMlAiLDW/PekUA\n",
       "OHxT2fv0hIv9CWGBcYvhChQIZM65GI5zOE80Y841uRUw5+k6S65fxrI+T7uhxIt7whYxEsDh7+WZ\n",
       "T5hfxIohwS9uMVyBAoGuOsI8oXCeXxJzrpn2foVzmw2K5Fk+bEZxxbBFjATY2B88Yn4Vy54TTxRu\n",
       "MVyBP4Rhjiicw89izjW2SgrnSZbcI7qzH9dcEqJFApKKauPtjeykTPWbKgiAMAzDuZzvqcWcK/K+\n",
       "ssL5Myy5XPRrHdfcHqJFAARcSI/xIjAl/Ui1xTAFARCGYTiX855GzLkiC0DhfC9N/XbxI9xSExuw\n",
       "asSZQIOVSACDp2eOCYUV0/nloQVi4lBbDFGgQmDVXIxhOJfz/GTMOZbMJZVzPpgvumOmtEuWHwpR\n",
       "cxHZAhvuFrzUTa9iRgH8WgxToECgkWwiDMO5nKcvxpxj6e5XOV/ENjnIg/BF0m+JFlitl3ka4ETI\n",
       "rogAMPgrcA3Sh/BuiPl6UbaobadEQCBXm9FCGIZzOYc/x5wrLk9F5fwu1m8TkJlJ+i05DGkyhFka\n",
       "YHOwFgkQ8EnYeBO1IROmV/En53J4i9IITZhB6L9lhGE4xPmxWsw5ks1NH85TYqzQ7qSTIR9vu8Id\n",
       "qrzDud3HjUK23/QqlmMC845HHqZgucr58xjDcIjztc2YcySfqamc76Cp3gqnsIcYzJ6K5DzEtksA\n",
       "h9M9lRNt2fa3yJr6dzMbTou50Y2zIxQoELqzhDC6befGLOZcyJugcv4G66MC77de8r22VRJ9T/rM\n",
       "u15OAwZw+LZhznluTBSHCNd4O8Dhu2Gp02JuVzNZC1LgAwHrCrgY9sGc9/bFnCO5R+N8hfSPKIV0\n",
       "zbPHagrORyD9T2ooia/GEs5/LoDDjwmjYBd4sYPwQlmCuoDWqj6YdFp87CaYUQ5ToEEgNwEuhn0w\n",
       "56kJzjlbQ74ewXkvc0manUt5+qrG+U7pH1EKs3Ssz5E29gMARdKpCbouXgjiT2I+BnD4BsF5osaL\n",
       "HYQGpf9RjdQFhO4Cm4lFi+uY9+CvwAcC3WMIwz6Y89wVzvk++vWTCM5t2g09tQ5enl/UOE/QJdCL\n",
       "ksL3ozWTRSdKr3F/FTCAwW8XnD8qi0OEabTJUE1W7VLVafEjsDcTpMAPQicXF0M/mHN+l0fhm/Q2\n",
       "xiI4z1C7sbWDTXv+msZ5rgH5yg5J4RHEOT0+SXk1EH8NAQj8a7lJwfkoLw4VqvEUdcO2QeLZqmzR\n",
       "moAPng5S4IV0t46VMWZU45xbs6PsaDDViprP6ancyg7mPHdJ4xzOQ+IcmTWtT14lQ6eXmTiepo/+\n",
       "Ku/kQEoQAM5nrtFNku8/OcJGVDrqTQuq8UP0NPQX0PUpkC1mK/CuZpACL2RzaxHG8KGMOId/cM5z\n",
       "5LHtifThfk++6x3MeddlnfMHITfbmczSyBDSw1KvZ5OjHxdA4CP7pLdc5sWhQjUe/DV6hlCLAQq8\n",
       "EHv2MMb0lnXOrwu/fXGxeEck58licV6pgzlPTSL+2W6mpfC6xSXXzKtB8FemdEVui8YKEIRhOO7d\n",
       "KPejgvOX+KPrMz8hzu2qeGrC5XOhWRk/58lNivOhP2oV03onh5lJHexF+8PtSZgOUhScPw5Wxae4\n",
       "oXBOqjxO018Y9dZEefd6S1FWoupjRNw8bs1yw1rFFCaJnlnYIv31vcNdd2oWVgeraAWeWXgf3Czv\n",
       "vHtiWnA+T3DeW07hTRfZFSrnxBSweeGrv/Qq8subinDO1wSW0yuiZxZZYoIys8aH85UBeEGtsiZE\n",
       "PYbDxg0X4FSqbJenJ+f5guvCoa7QOD/OXbjLPoouw3+S833h5XTtQxYR++mG10FbX8Hsi1Iv4PZL\n",
       "dCOq0EhNU9sO9YPOnTtdcf/+hfuHMec9OWokT93hXdWhvKe8kwTKWnXAZ4lyQOe8T6uYneUhbSV0\n",
       "UQ8p/51fFTTOdTBCYzjMoenTZ7/rcJ5q58GtwRQCFdoBWO2zaRnBpA8HK8mDzw9jcFdo4zx1hprB\n",
       "nM/mDcob8I4WlNU442Nwz2icW3WtYmptWSftNbISopxXB86qnHvACI3hfCF0OvXA046vfqmNdV2r\n",
       "vXfWxcPfRt1b2uechlpEh1vcKTn/HhmK7DBG6QqNc4tVt33e83XzrAf6PI+fm5Uu3+/dycB5rPXs\n",
       "mFbxsRMe0p6D3Zxzu0t9Bj1ghMbwLFtInYbGXL89mSg5CUrIgiaz/RYn89t6SpTghGjtxJst8+ck\n",
       "8lm5KjnvJXMjO4xRukLjHP5C//Q0wdKvBb2U2VvwFPeiZ2+7F4xfImWk5CtOxU3jRGr0WHJrGezx\n",
       "8XvG/8pJ2wSHSEkrX02X1H0iAWbiotmDqcBzPx8ff5vc6GrHk8lfMWaEhisoIQuq3OrNWvPyJLQT\n",
       "2aAGJ0Rph/QjT5Z5qEVPxHI6/XfJORN6GKN0RUnjnEmyCt+erylKumujtZ/1FJMs5Ox5wNgBZJxn\n",
       "xrSK6clqZmdZM87f4OMcnlWtmQDju5ys+tj2TIk/3NnjDvJfxozQ/Xa7aVR1t5wNKOcyMCEbhHUK\n",
       "Rg2vRKpn72nTUItcRMy4PGMRQg9jvF2hc05nR8LGakiX2B/yRfNee53YOpI+k6LFooz/IVmsdDVp\n",
       "sV8FizxWrPhwoqIYgfUSJFTOZ/L9IbIY76ogXasl2NHI0PkDfyhpcL4JdRhglmr1jCQJWshCsBzH\n",
       "nMvAhHzQrOsUmL5KdRxzzkItlkRMGtcw5/wwxtsVGuf0WJiwMdTKLIWhWmZpZhnLOz5GOoGk17yH\n",
       "FpMELaN/WBYrHWoRglSwyGPFLufnQVYUI3VdDXFOzyxIFYvONDt/TPLcxqg6DnY0MnR+Lu9EBIet\n",
       "ZPRnb6vy9wKY3GbM+TOghSwYci7nwEjOs/Upcb4dwsMtQJ4qSM75YYy3KzTOj3DOwfFH8iyvu7qJ\n",
       "p3lxHlCxLG2xm1bAPI8XO5w/DU5F9wrccQ78+GH1+PgwakKq42BHI5f1zOQr8PSnxy+o3fGQMed7\n",
       "QQtZUOaS2YUgzmVgQiTnWnBCoHaN8xUQGm7h7jyp70Z5u0Ll/O31glTHV3iV5SVgzrA81Z+Pj/dZ\n",
       "ipXmyz8d0sE8j4MdUuyarKhzLierlOKpuI0RxRzsaBSL9q7DwXApx0LdH7vIpAJoPDkhC8raUHlF\n",
       "VeFcBiZEcq4FJwRq1zg/BOHhFnR6GfNy7i8u5/eSq9r4sRY62GuyvDVwsiUOGGlxExWDKM3ByAs6\n",
       "mOdxsDsQB2RF1/W4WdlnOaxcXROpE2BHI3+QK/mVwXApm42XUotAC1nA8gO7jjIVzuXLq5Gca8EJ\n",
       "mvZAzk9A6Cu5VLYV2uf8vytip8rwFdGA1Uh0M/7wZMX0Mu8CLWSBLK6YFaDvJpVnFGTm88Xih4vF\n",
       "BQ7nLMCAGIx5i4XB0C2JLNCCEzTtUpB6zvlmCA23YMas9v/G+f9U7P62OZchC4pQqk74jnNplyPH\n",
       "uRacoGsPGue7IDTcgsqXIOYcL46vmM7nO0ALWVDkRxDEubFt14ITNO08gGFqtj2OUVRloWnFN0AL\n",
       "WVDmlmupIM7luUQk51pwgqadBzD4cH40ks5cHIvcjuOOxFkTHfMZWNmJLUGc2wWVWjWwARVowQmq\n",
       "dhHA4MP5iPiEEFmJOVeduJJhxZ2ghSyoVqDp5bz7zb+tEwEG2D1XAhvwngydBNzgBE07D2BQON/w\n",
       "8QUFFmrBPsES/7aIv+Ez6I6qFrLgEc84Z/IomO69qsEJ+rPJAxg86mmohdUXeuVvQcy5Kj80fTga\n",
       "WshCMOe7ca48OYk+Y1GDE/Q1Ng9g8KiPPvqRvzYUc+7IUM2w4nlQQhY84psZESukiBKcoIsIYPDI\n",
       "VoiKNEq2Ys416TI92ngQlJAFUyLNfw9dCU4wlXPg/866K1+GmHNdHjasR8MVrGa72tuJbNgyBXek\n",
       "FhVuka+3w/lvpsdv9vc2O/r2xG95Dw7ONeF8uvxm/4VOvrm0eDfrnRvX/w2G7kCIcg07mAAAAABJ\n",
       "RU5ErkJggg==\n",
       "\" style=\"display:inline;vertical-align:middle;\" /></a><br>"
      ],
      "text/plain": [
       "general_len: forall_{n in NaturalsPos} [forall_{f_{1}, ..f_{_a}.., f_{n}, i_{1}, ..i_{_a}.., i_{n}, j_{1}, ..j_{_a}.., j_{n} | (j_{1} - i_{1} + 1) in Naturals, ..(j_{k} - i_{k} + 1) in Naturals.., (j_{n} - i_{n} + 1) in Naturals} (|(f_{1}(i_{1}), ..f_{1}(x).., f_{1}(j_{1}), ....f_{k}(i_{k}), ..f_{k}(x).., f_{k}(j_{k})...., f_{n}(i_{n}), ..f_{n}(x).., f_{n}(j_{n}))| \\\\  = ((j_{1} - i_{1} + 1) + ..(j_{k} - i_{k} + 1).. + (j_{n} - i_{n} + 1)))]"
      ]
     },
     "execution_count": 15,
     "metadata": {},
     "output_type": "execute_result"
    }
   ],
   "source": [
    "general_len = \\\n",
    "    Forall(n, Forall((f_1_to_n, i_1_to_n, j_1_to_n),\n",
    "                     Equals(Len(f_ik_to_jk__1_to_n),\n",
    "                           range_len_sum).withWrapBeforeOperator(),\n",
    "                     conditions=range_len_conditions),\n",
    "             domain=NaturalsPos)"
   ]
  },
  {
   "cell_type": "code",
   "execution_count": 16,
   "metadata": {},
   "outputs": [
    {
     "data": {
      "text/html": [
       "<strong id=\"len_of_ranges_with_repeated_indices\"><a class=\"ProveItLink\" href=\"_proofs_/len_of_ranges_with_repeated_indices.ipynb\">len_of_ranges_with_repeated_indices</a>:</strong> <a class=\"ProveItLink\" href=\"__pv_it/8102aa5a4a3edea20e1647c8a306eba3c603cc7d0/expr.ipynb\"><img src=\"data:image/png;base64,iVBORw0KGgoAAAANSUhEUgAAAtAAAAAzBAMAAABMNiKqAAAAMFBMVEX///+IiIgiIiIQEBB2dnbu\n",
       "7u5UVFTMzMzc3NwyMjK6urpmZmaYmJiqqqpEREQAAACk/Np2AAAAAXRSTlMAQObYZgAAAAlwSFlz\n",
       "AAAOxAAADsQBlSsOGwAACcNJREFUeNrtnF+MG0cZwL+z116f1/a5BUGla9PTtSkqIeiIIohaUrmI\n",
       "RKKldE/qBSJozlGRKv6oODqJhz4QU2jFQ2j9QCoELThtBMoD1EVpC+21ch+A0kOcE9KElEpxiAJR\n",
       "RI8L0ilHkxJmvvmzM7vr9Tq7Oa2ufJLtmZ2Z/WZ+nr/ffjZAX8lMTdnwf4kiU1NTIXKlLl1qrWi1\n",
       "vrpqAO/gPfRfl/4bBnRzZWuXba8a0OZeEfpTAkF/mX/m2EddS6x7L/UU3xuElUEUqZrqms7DCQZd\n",
       "GOMBA/UOddREFtsX7k7XsY99l1OLgRSpmliRO3iCVU0u6MdqGugjGD64hV2jsVEXfLdYn2YzY7FC\n",
       "B+/pPrl1EXoGUqRpYkUEaPhIckHfCCroTAOD929mG6AGy7A36AZbZxie7dgzG31yayL0DKZI17RX\n",
       "A/1nO6mgCxMaaAtXxvSbp1kf4uvkXNAdNv+SNW5WXJgLrVzoGUyRrmlOAz3cSirodEUDncbgM7xF\n",
       "aZEpYGOfX+IB+Y2lQx8DhJ7BFOmasIgEnV9OKujrbQ30AQx+il86IPpJwA7Q4ItpvgEhcusi9Ayk\n",
       "yKUJi0jQ8OOkgr4JNNAHaeh3G77G1yoye46WSVK199Rz301stFp0aEyugcDcukg9AylyacIiDugT\n",
       "djJBm+d10E9g8By/RGJGngzUQqP3HUbKSmdspdvBuXURegZS5NKERRzQ0+Vkgs5O6KDX43mA0P9S\n",
       "g8W+b5FAcSxwe5j5A6022RIU6iOd4Nz6uUN+yyEVcUCaJizigC6NJRN0uqqDvgX3qYtgXjXGYjbt\n",
       "SOZi7zucANh1Nb1TU4zcoNyaFGXGkIp4nTVNWMQBXVhOJujdbR/Qhugot/AG5SeCF7TDsvm/guDc\n",
       "/stbaEUKaKEJizigMxeTCfruug76SRx+VQ6axh6H4BH9dw56uCOOP6GnDqKnMLtrNLyiud9f1XJr\n",
       "ck0d8PFkgj4FOuiT2GXKvP4klnnXIOOxCxlvWba+f4yDLtFVKPcO9MqtCUsnegpPt9P10Ipe/yRs\n",
       "cmnClwr6b8kEfZsL9Fax7CBoEssv7iEbqjJMk6Uq8x/gbzLGFrTDYlNXoBOmmlsLuGJUz8NXw4gd\n",
       "VlFucgyWXJrwpYK+m4Om/OGtPqBLuFS0rzznzAUX6KfEsoOgaewkqUaqDqm1JLwO+FuKbmnHbbGg\n",
       "UdB5WiBLm6fmxowy4MTWCj074enwirJlnJVVTfhSQc83GegX6ccP+4C2aObh+pUHbZ5zgU7RPdTz\n",
       "AnSK76geIq83vJsGWxgm0Qz8IT7p9MitC6ZTPZ+Ag2ZoRemaVam5ND0EOujdZQb6m3QUdPuANmnt\n",
       "H12BmaP4rgt0oQXF6pMCdKHlWHEq3k0DeR3Flekws/BkO/N2z9y6kHTUk1uEDx8LregxSP2i5tI0\n",
       "6wI93WKgh0kGo9Nvjqa2v7tWwnZ33gUazkDqNJkXc5+5UMYY8I6RKXsKT5LXR6nJ8rs/fZauhvXd\n",
       "nfW9c+tTFklHPfkqvL8dWtHPYOizLk2s0yqgR6oMdIHaQfouhn8kn40VAD207Aa9Awqjzpy1g23D\n",
       "SOcoeAtTQK/+2oHXtUabvXPrXzB9KXoGUqRpKtlu0F2+69gwPr6xL+j0+PgNlRUAbSwp0HGezGlL\n",
       "MIu9Fu5me9jHa5dTkYEUqZpYkQ8qZ90GB/0CwGn/SUsBbdX4VxUsX2ArGr7zWe4vIu6kc45+N7CW\n",
       "YLVJaoyDfgRyfrbAlgaaZHmEhr84682pXLudFcCuyBbYQtNZwkU6MBMR12CuuwPeJ2qQXVx9oCc4\n",
       "6JJtqCcS0W4dNOn0OO18/efeO/ldk6C3eTstVUJNRPtJYNcDZ+GoYVv2ewB0seyshUq7XaAPsbVw\n",
       "2edOyxAA+kWvQQH4Zo3sd6wX6Gmp3DLeC1MHNF6VzZTtvvOldS81VdDDBbrLObrRuxFUru3DGWDy\n",
       "ZQX0mIyLdAmabCqvpeFjb35bgjaWY26m55CVG6RkHEc0uRjCXWSTzIxWartdPdo4bnOjiWdn5Fzb\n",
       "gv2xddwBnWvIuEiXoIutDOY5Zty7X66Q52PeLno6xnVhizreMBFBVwXo75AQGq20drtA59DaZ/l4\n",
       "OzrXcvfSUZKx73RA57syLtIl6Hw3j3uoY9Ba43dgiUOOeI6edDdlurdZo25LwFpQvGGiyUhLgC6R\n",
       "TQEarbR2u0DDP+jbcBty7koqD4pL7BD1hAO6WMW4uUDkDE1/ZeHUwkIbQZvdwk8WFt4mCu+Rq0Tx\n",
       "nXhtVJ5DlvR10eRGPbrtN3ToSW+YaDJd0cyk1GiltbviZyZN1+DBte6hUXPu+XlldUTQZlddLTFd\n",
       "mTrMCvtm84dkV7oYK2jLY3CcDcqeF9mHlkDxhokmwqjEhRqtvO12g54mEzUBfQ9kKvhGPui1v75F\n",
       "higJHzfIVTAn9MXQlI+Djhsq6KEyOym9DvABqeFCrKDTniuBT7WKZRW09IaJJic6KmhmtPK22wWa\n",
       "mmkJ6JmOuQlm6uYmczNeO9QlLSLhbdeQJBiqKqDPgIjTIXkNB40molIdHiWjIX9zjcFHuTlW0Ac8\n",
       "fbYRHrT0hokm19dV0Mxo5W23C/QcAw1yjSjitWztWyyMSbxyDPR+T2VLit0m87mFs3q17osV9EHS\n",
       "nq3fu32nM5fQQTu5xjWTj5b9QEtvmGjyDdCmDqbR024d9Nv3M9BFOaDewGspuLbJDeRF+0cz6oHF\n",
       "qou4ejJkmz2/as1HHqvWOEqVL8tG6SRM17WVG31dVEuWeNatg5beMNHkNh/Qva133FRBKrLr1o5i\n",
       "OWzjtW1wpMOMhyTp2edU0LBFxD3776bv0tGJs0evB3gw3XVcXRRfF0XQVcYLWj7SjiS5c5cB+nLO\n",
       "ZD2fP2cCtvdxCfWDmW7CPC7klKbj6wLbsePTp1DoKkNHwg0b+EhA0NIbJpIk1YHGmogZNH3i+gA2\n",
       "owWqr4u2MbD9erT0hokk2bFkgs5HPrGoczR92PgVgIty9Di+Lqo8Dldu6hhJqJMje7Afl1D3m41Q\n",
       "XDS0s2vO9WWiq4zPYtj1N+4MJvMJdduNYduhyFb0czEa8pGU4+uijqLFPX6gpTdMJOH+3kn+aUUM\n",
       "8hR6t+T+KXcZjq+L1vHbOujsqX/vVLxhIk2Fif1pRSFO07/zEE2I9HUJPBmiSG+YKFKqJhU0/CDO\n",
       "b81j1pW+LoFGJWl/mo1ag2cS+/M3mKnHeLMznh7GfV1CnDS6/Vy4wgj/3WISQQ/F6aizw3NM4r4u\n",
       "IQa99IaJsouuJhe0/NF9HKK731DZE7ao4w0TQeRTvFCgf7uyf4xSasNqEfE3ElNTa8KAXuk/Rjm7\n",
       "akBvd/4Y5X+SJQccKJimRgAAAABJRU5ErkJggg==\n",
       "\" style=\"display:inline;vertical-align:middle;\" /></a><br>"
      ],
      "text/plain": [
       "len_of_ranges_with_repeated_indices: forall_{n in NaturalsPos} [forall_{f_{1}, ..f_{_a}.., f_{n}, i, j | (j - i + 1) in Naturals} (|(f_{1}(i), ..f_{1}(x).., f_{1}(j), ....f_{k}(i), ..f_{k}(x).., f_{k}(j)...., f_{n}(i), ..f_{n}(x).., f_{n}(j))| \\\\  = (n * (j - i + 1)))]"
      ]
     },
     "execution_count": 16,
     "metadata": {},
     "output_type": "execute_result"
    }
   ],
   "source": [
    "len_of_ranges_with_repeated_indices = \\\n",
    "    Forall(n, Forall((f_1_to_n, i, j),\n",
    "                     Equals(Len(f_i_to_j__1_to_n),\n",
    "                           Mult(n, i_to_j_len)).withWrapBeforeOperator(),\n",
    "                     condition=InSet(i_to_j_len, Naturals)),\n",
    "          domain=NaturalsPos)"
   ]
  },
  {
   "cell_type": "code",
   "execution_count": 17,
   "metadata": {},
   "outputs": [
    {
     "data": {
      "text/html": [
       "<strong id=\"len_of_ranges_with_repeated_indices_from_1\"><a class=\"ProveItLink\" href=\"_proofs_/len_of_ranges_with_repeated_indices_from_1.ipynb\">len_of_ranges_with_repeated_indices_from_1</a>:</strong> <a class=\"ProveItLink\" href=\"__pv_it/a8923e026c4601ed5e6c1bca8efe0b1a8c9d68930/expr.ipynb\"><img src=\"data:image/png;base64,iVBORw0KGgoAAAANSUhEUgAAApAAAAAzBAMAAADSjCUKAAAAMFBMVEX///+IiIgiIiIQEBB2dnbu\n",
       "7u5UVFTMzMzc3NwyMjK6urpmZmaYmJiqqqpEREQAAACk/Np2AAAAAXRSTlMAQObYZgAAAAlwSFlz\n",
       "AAAOxAAADsQBlSsOGwAACJJJREFUeNrtm2+IFGUYwJ/bndnd23+3ZkhwpcuVmpp1SaZJ2iYpWFkj\n",
       "eJaQ3ZqRkSBrB0Gf3DT7ZN5+yAjSOj0J/FCuIZl5wvqlTFE3SY8kUBMlhPQu2jQvtffvzDt/bvYd\n",
       "ubmBswdmdvbd55nnmd+8/+aZdwEkpK2tDf6XIQD0yK2BoXT71ogBqF6gn1du3ZTSnzyk3iOVkVMV\n",
       "39XYwbEAQL7OPmP0oyj+5lQ2uMQEE69SBE/GRb4z26WywYFMct9KF943VMUf76Mf2+RORbTjmduJ\n",
       "grmVNabq2/TQaOxIvgkOZGfBBPJncrxnHr3BOYDoeCtdmwjaDWUOX0qYJXX7tgZ1jBPPaIZ6MwmL\n",
       "hqaDDFUCA/kAiCDVEjlcOZsULQVYsq+GDja7nUHQhlAOGjVp39wSu1VXfY4M3Y3nd1S5Ogl8Mw9N\n",
       "B5maHhTIZKsJZILc0fBpOvz14FaEQR5xO4Wojc9YlnbOLanbcVo949lfaYY6C+uICSR8GhTIcM4E\n",
       "MkwOd7F60cpBht0qiqiNZbq0c25J3WKQrsbxmqjOwiKhGSB3FQMCOU4zgdxJDueywEscZKPbFEnU\n",
       "xrJF2vlcfrBTD8XNWMmK6iwsEpoBsrEcEMgJYAK5Bx99P20VbUE5DlLJD34GUXvRbtyTyfrmlswt\n",
       "AelinFwxoayrq80ZGhYJzQCZqgUDMnrVDJJWiH7jhlOQyZLLOQTtXDc6+FHaez+IlZiAdDNuyhjq\n",
       "SryVhkVCM0Cq/cGAjLSaQU4l01tE9xUUX6jKQeoTXadpuKEdq+5DBSdkncf0uzhVB3lCZqaG1D9M\n",
       "lGhYJDQDJPwWDMhw3gxyFmkefRAdheILd3GQ0b7BTyFoq6SOrZV1ntLPOksH6WZ8RlDXcPXEYZHQ\n",
       "BJDHi4GAXFtxAKmwG22AjLe6DwFcm/RQ3dLTyKwdZLfM2ITVz2g0LBKaALK9EgjIF4tmkFvxUTpP\n",
       "0TRKNW1RuzHvpWkjy2TPmmbutm7TvohmjT+MKlP1j8G5adM2Nuwgz4MZ5DkSS4bGl87og81Z1Gzt\n",
       "WSuwardXc+Qi6j3c6JbJ7kq4yNwSkI7GzPejAIefhJlEXb2hkLDIJoJMZwMBOccCcj7v1DEaMrMg\n",
       "IBMZaMejI96p/7ADujNp74qhhrWbquh6Dt90yw13QZPG3BKQuwdXR2NTbFEWakQ93reRhEU2EaTS\n",
       "R0FivvBrXZAyajKZ0AELyO28U8do4miLnP9zORqRixAajx+l8URuCj8gRSbt9L3oy4MALZqohw/M\n",
       "3wzL5aRXxG5XPzUhM4gxVcdjUySD+0Ssfq5CwiKbCDJ5nYL8Dn98UhekjJrMNLLfAjJUYLko0vVM\n",
       "5L+tQ9tJu/lJcNCO4Y6rXtvWLWfAnihz62JM1BOoyocLiVxBV1/HNhEkvaRj8A4+29m6IGXUZCYg\n",
       "Nywgk2VI5bdyNHquAucjcnZzVGTXxhkFpZ5jbhnrg8m9Qq5iEGPs+xQezToh9GVBV+/hqRIBJG1k\n",
       "x0geSanWBSmjJpP7uWoBCb9D6ALqkWILBlA7S7MxHd8y1Z5zxUV27U1oW1SvS+GW8TzcXSFuwcWY\n",
       "+H4Yp+m+gIbndXUcFq1NAkj4m4JM4ufw+oONjJpMpvmaFeSrkGzWp0Qqq/NpnOByuA14s2njzFil\n",
       "3g00W2K34GJMfB/81qqOw0prVpA32ag9raXlMYlRW0JNZkpcE6CSjidmuoyN9OOQ3NmIdrJ4O4Ew\n",
       "t7LGVP2QHlpDwfjtCQZyL70tTr2ECHIQNYu8TPa0R1EdgkzUYMRJCwP5AcScclZlC0impu63NwSh\n",
       "7Gmyp01OoZ1cdMqzMJp7iPSNPJD3M5BpTWzw+nVbQTK1yOGCPaNjLTNG9zWrL8EpRUtodwDIVKbR\n",
       "6bqtIJlak0N7tZXpIBN78TQ+U1buhKYNpYP2635u/5T9XeZHRKKWWrHQPjc0yrblDZDxMQD4uQN6\n",
       "T7+ng1SuDcelxaSKhkr4YAMLNwNLiojXba2RRM354dwom1czQCrtGp2f9CrLdugj9dXhAOnwsvr2\n",
       "lhFIyeOcwXpUjUhSxHTdNpDrSW3b73AmvSy2LGuA3HAC4mQQ6oXyWKcJuW+Ssj0TeVxG4E0GOMg0\n",
       "GipIUsR03TaQaTKibEEPA9ZHU+NFXDoj9JHnIPnZ5ct/oBMu1nvh1PVhALnUVhLytIzAYx7mL1Or\n",
       "xEkR03XnnNNoMyC63RrSDCNb/JIBUq0Vojl6Z+I/6XOCf4cBZI/js03ZJ288aaHD2BO1X7cNpIo6\n",
       "wZAGi0HN8R0uSx04msPfflEMkKlSjk7hDwOMMbcDn8X5NcV0vzqSGyJImhSxX7cVJM4BIpAd1ehM\n",
       "6CjiXRWXpcai6KOzYck9Qo1cXoRNqDuITypAWj/BJP85xp1f5W7xyR1NH3CQNCliv24rSNxAEEgw\n",
       "8kBVUrYyiuClbPNI9YXLl8ynWuE/SLxwYMeb748xxmlvywg8SqTPPpuxX7cFZPpUgYA0UqEpjZRl\n",
       "Gw4LmViXvOVxn/r8r1uwkGUcZOHA5YxqTFk9LiPwJuGzg00LXUAqo1DnOvqAkOJKkjI1n1oopKNc\n",
       "QK6t+l4jQ1WIds0RVgN4XEbgUToztwFSUlxyU+G87yDxwgH1OiRxk6MvtrwtI/AoAS0QSLQOB0j8\n",
       "3ipC2gV5D+ZtGYFHeQ0CARn3aUYu9pGo94iUoKmid8felhF4lIAWUdEq4qvgx6twDs4YzxR8GYEf\n",
       "kgxoWZ9vw7YheOFAZwEWGK8R2DICf4a2fEAgwznfJ+RZ8kZ/01GjjrJlBH5IYEufk/6ndic6Fcay\n",
       "/ji7CAGBhI98B+n4l4hExZ/qXwsMZEfR99HGycMmn+Za1cBANpT8Bqk6PVld8MfXGxAYSP1Pnf7J\n",
       "Roeu2Z92kCp5AvnQkP7xPV2BESPsb8ZtbWOl1If4j++XRgxHlf1n8sqtm/8B41eB4/KKTFgAAAAA\n",
       "SUVORK5CYII=\n",
       "\" style=\"display:inline;vertical-align:middle;\" /></a><br>"
      ],
      "text/plain": [
       "len_of_ranges_with_repeated_indices_from_1: forall_{n in NaturalsPos} [forall_{f_{1}, ..f_{_a}.., f_{n}, i | i in Naturals} (|(f_{1}(1), ..f_{1}(x).., f_{1}(i), ....f_{k}(1), ..f_{k}(x).., f_{k}(i)...., f_{n}(1), ..f_{n}(x).., f_{n}(i))| \\\\  = (n * i))]"
      ]
     },
     "execution_count": 17,
     "metadata": {},
     "output_type": "execute_result"
    }
   ],
   "source": [
    "len_of_ranges_with_repeated_indices_from_1 = \\\n",
    "    Forall(n, Forall((f_1_to_n, i),\n",
    "                     Equals(Len(f_1_to_i__1_to_n),\n",
    "                           Mult(n, i)).withWrapBeforeOperator(),\n",
    "                     condition=InSet(i, Naturals)),\n",
    "          domain=NaturalsPos)"
   ]
  },
  {
   "cell_type": "code",
   "execution_count": 18,
   "metadata": {},
   "outputs": [
    {
     "data": {
      "text/html": [
       "<strong id=\"len_of_empty_range_of_ranges\"><a class=\"ProveItLink\" href=\"_proofs_/len_of_empty_range_of_ranges.ipynb\">len_of_empty_range_of_ranges</a>:</strong> <a class=\"ProveItLink\" href=\"__pv_it/def0a26a93dfc2f50ad0896137c797b0ebdfe7d90/expr.ipynb\"><img src=\"data:image/png;base64,iVBORw0KGgoAAAANSUhEUgAAA3AAAAAzBAMAAAAk4Pe7AAAAMFBMVEX///+IiIgiIiIQEBB2dnbu\n",
       "7u5UVFTMzMzc3NwyMjK6urpmZmaYmJiqqqpEREQAAACk/Np2AAAAAXRSTlMAQObYZgAAAAlwSFlz\n",
       "AAAOxAAADsQBlSsOGwAACWZJREFUeNrtnH+IHGcZx5/dndnfs7cp9VTOpMe1WrFErpLGKm2ZFBtQ\n",
       "LN2ruT+K4G1a6A8odWuLoGAzaBss1Nz+YbGgxTURa6FNNjXaqEE3itoktbf+SEQr5CIkisTrBXLm\n",
       "TPPD9+e8z7szk52568L7xz7w7M4+8853n5vP+3Nm9gAGavb0dA2G9k7b9PT0gL8hfflyu2+hbGuI\n",
       "ImY7OMnf37p8adDg4jB5eEgkrn1J9l9vGAAu64oNj73m1R4vrLgK5vXSkRZRJrlQX1lv9YnlkZQX\n",
       "OCnOuEHgfiU3PsVe1/o7Ut2Q0ihYrHLvZ2tDoysQ6icrJVeTmIx9DzmAJc/jT8wBlz+ngXNY+yt9\n",
       "gvQJfw6cmLYeXBtJRRrVcdxAOHcyqVBfWS23lSVGs/JjtBJIR+DSHWPApV0N3D1sc/NjXbCbIUW1\n",
       "YKHGPdqozj0hra2ZVKivrJbbyhIjWaHYs8gVOOcmY8D9GjRwB9jmrbtrUOqE1VQcLLe5RxvVORBe\n",
       "5ZMJxZFVkitPTMWOIFfg4NvGgNugg5tkg8QSecmEldaDNwmPMqYzCasXiiWbeQcSU7FMTTkCt8cz\n",
       "BFxqSQNXZN2NRSdPL4YV14PfER5lVKfYhNULxZJ9cfWJoVihoxyBK7QNAZeua+BKdMQr3/cBkt4+\n",
       "8nds/vqmrblN/+b7p/b2BjcLjzCmQxW//+CTo9XH18lkptYlFLqSbDC3pImhrFDMqitH4JwlQ8Bt\n",
       "a2jgWP2CkSqvsVblBMwchj/x/e6u3uAh4VFGdaiiu1C1L7Qc2Q+1M52EQtGyy8HcvGSJLaOsUKzc\n",
       "VI7A2WcMAXcfaODSbPY7S2muB/hyZh5mXZjj64buT3uDfxQeZVSHKOZat0H+LJQXRX33RroJhaJl\n",
       "zwVzayRL7BzKCsXoWls6Agf/MATcRh1chh1wnL58HKA204LjNXiE1zU40xvcJjzKjnNF2z5Pu5js\n",
       "vB+vJRSKlBWVAec2lywxWZ1YViiWQ47BzXlGgMtdCAN3uwBH/0BSlW9U3bse3CU8ym4Xis4ilJqQ\n",
       "8S9mvJJUKFJWVgaU2yPJElPV6RUtVpxUjsHNdIwAZy3r4AqsqzxFX54n/hDAdVBctvmEqt4b7Ncj\n",
       "nRKK2SZdIO/x5Jr4uqRCkbIjnVpvbheSJSYVWFYoFtVVZupGgKtM6uAqrFWwJnaCLfJIx5FtfgPo\n",
       "HzfTdfUgS594yDUKHrpRKGZcIH3YQ/kurwH58xBbSDN+OJY9Di4LqtycRStRYlKBZaViUCatTjoG\n",
       "Vxk3AlxmXgfHJr98vN7MNkh3X3Bd+3907ZnvaEEAMgcnznayl5kmoE9chyqSuQAZeb5psQLAhpD+\n",
       "QkpN29BlP1n2WFDlZjVfS5SYVGBZqRiUCEPpGJy1yMGxE/f3AYKrsCGgE1Fgpq2DK9L65LDcdrJP\n",
       "qTY4ez2YIDW18r6eIHwQmNOdcAP9urbY4CGmQxXJUWMAb74H0u+nO+kQEkPIV1Mb7HAsu+P3PKhy\n",
       "y5/uJkpMKvCBzY9B2lOOwZXPc3A/o2/PDRBciX5nwYtaxlV1cHA9XYWzbjzdQOUc0etowfw4dyfY\n",
       "JbEQ17kex4+yZl6NL6QbO7xX9ij05pY0MT8rFPsqcgwud4aD+yL9nvkBgsvRJHdEzou7PeCOABzj\n",
       "MxTtKq2FLt9qV3WpWyGTHvB1juA46Raz3blafCHd3DBZN5Bb0sT8rFDsAHIMzn6bg6N3H6zuIMc4\n",
       "el/izqgCc40ecBUPPizubfwLlZuSGzi4Q/hUUJeGhE4FtXab1Opt3fUJhPTJSTVE1q4GckuYGMrK\n",
       "j9HGJF0DB//l4Mr0OuZAJyevk/dmVIFrvB5w9jwc3M8/fw6V88dIHDwpPGQApSGhY6P+pEybw1gr\n",
       "gZB+jRFCZMsQyC1hYigrP1apKdfBXRKzyo9MTGwYKLjMxMS1blSBu9Ao8G72+owaecLOIwqSqRfz\n",
       "fvZMaHQFQv1kpeRqEpOx15ADpFDH9DEB7lVeOeJZSYywgayq0eBKDVFtWI3iR/p5/HL42GVSmxDg\n",
       "tkO+ru/5wr5WamN4pMI/H9Z7/kM+0TBwRH473f4sHWYtTtifPH1+CCKpXSvAVWq4A82NLrSc+h3w\n",
       "4/AIB2cr0nQi9ehVZAHiRi/AT/LR6+EXQgoMwa0YnFPFc5Ofk07MOVgCNzzCwZUUaTaW0qtyz0aD\n",
       "+wOfmyyHFRh2lSvuKqF5kAylBx4dTf22ASk6vDpf+WGVYjryuzVtPSLApdkBYxo4OeGXSghcoUz7\n",
       "x2MbyKKjOMpa7Ji//rjLG5JIaHJyAneSxlLe1cnUU3U+oXUad/yNYjp8C9ysRwS4p/kBHgb3Jvxi\n",
       "gVhHKiFw1l9ps+IXS2fYhQPHXx5c0xiSSGgbJbivkbP81FUw0iq58BLHVErRpd/UOCxpEQluNz+g\n",
       "hsHtFrJSCYHLs68q0eHwKXavY9pqhy3AzTNr037zknpbgqvQc7cVHqP3zQ+RRtN1GrZLm0S2WpzU\n",
       "IwLcMXbALigtLNy2cJqDe0LqCiUEDv5JX/jTJCdAbbNLXi2TwT0PdxvXldtnJThmH4V1MJuDx3n7\n",
       "gpfpqJRplNyGFhHgnmAH7MuFdZVSCYNjlqH1w15iLWzEPx3bOgZzK4+DNW9aUvIis1jzL5KW8obF\n",
       "V8rlFqTqtguzkH65oSLa5IQc8KG/YHBrepQC4MjotgWcpkuESZuUNtI2GFylLp+GM8icixhcsQ7P\n",
       "wfZ3QZ72aju/RYDkboUfQOrTKKLAVTx6wNUdAe7J7+5VF1ilUgDcTsKra2/1iDCMqvVC02BwpFYV\n",
       "L5qWVGpZ6yqlbVlYEOfaCUR8cGi1LXsSez56HceN3rDoCmH1kG920mBwMwTcBdOSyi6GglN2NLTz\n",
       "4G/7tSsnbP5V6wPuPw/I+4pHCy8oWmXjuqLSBDM6Msy6YkQxyfjDHlcA17kCuCCmw9AH3KaqvAHS\n",
       "KY2pw3MXDW5xFNxZ45Kq9gEXavInrQFwtX7grricNLWrdKFoXIsz5IFY+JHZkxPHuB7hXjAD3B7T\n",
       "VuBojKvMGzgGm/Kjj7TBC7nyJH1y3bCcTPmZlXlVGtl6+Ixp11LF7wmN+imxebZlzQOmpWTMT4lh\n",
       "bngrNYmdAlPAFdwhjfhWXDIGXO7mIY74lukaAw7eO8QR3+4Hc8Blh31lbPOf+Rg4uN/E+Eejp4dA\n",
       "4pr4t4fT0+sGDS7OPxqttIZE4pktHoJ86/Kl/wPqrYtnjHd7zwAAAABJRU5ErkJggg==\n",
       "\" style=\"display:inline;vertical-align:middle;\" /></a><br>"
      ],
      "text/plain": [
       "len_of_empty_range_of_ranges: forall_{m in Naturals, n in Naturals | (n + 1) = m} [forall_{f, i, j} (|(f(m, i(m)), ..f(m, l).., f(m, j(m)), ....f(k, i(k)), ..f(k, l).., f(k, j(k))...., f(n, i(n)), ..f(n, l).., f(n, j(n)))| \\\\  = 0)]"
      ]
     },
     "execution_count": 18,
     "metadata": {},
     "output_type": "execute_result"
    }
   ],
   "source": [
    "len_of_empty_range_of_ranges = Forall((m, n), Forall((f, i, j),\n",
    "                                                  Equals(Len(general_range_of_ranges),\n",
    "                                                         zero).withWrapBeforeOperator()),\n",
    "                                domain=Naturals, condition=Equals(Add(n, one), m))"
   ]
  },
  {
   "cell_type": "code",
   "execution_count": null,
   "metadata": {},
   "outputs": [],
   "source": []
  },
  {
   "cell_type": "code",
   "execution_count": 19,
   "metadata": {},
   "outputs": [
    {
     "data": {
      "text/html": [
       "<strong id=\"singular_range_reduction\"><a class=\"ProveItLink\" href=\"_proofs_/singular_range_reduction.ipynb\">singular_range_reduction</a>:</strong> <a class=\"ProveItLink\" href=\"__pv_it/5df420bc507911cc27b0afcb17d89e73e859b6610/expr.ipynb\"><img src=\"data:image/png;base64,iVBORw0KGgoAAAANSUhEUgAAAQ4AAAAWBAMAAADDbW/UAAAAMFBMVEX///+IiIgiIiIQEBB2dnbu\n",
       "7u5UVFTMzMzc3NwyMjK6urpmZmaYmJiqqqpEREQAAACk/Np2AAAAAXRSTlMAQObYZgAAAAlwSFlz\n",
       "AAAOxAAADsQBlSsOGwAAAy9JREFUSMe9lj1oU1EUx4/pe/alTV7rJlQhBEVBBCkWQShEod0K6eLH\n",
       "YBNwcHDJ5GpQcKo1i+LQQrVTp7YgirZDXcQPkFBUUISmQ6BjHYo4CJ5zz3nvJu/cvG5e+F/Ou/nd\n",
       "/zvvfgagR6mLuARxdUCJwaCXaUcUvSPF+FCTJeU4VQPDB+cRgy7YGnL0TERsixp+qi5fRAAvJgDy\n",
       "Jey6yi/pWRKgA7aGFI3Yj0X2Df30NNnDb7AAvFvjANcxyJQgW05JIwlq2Bqa6ATAY2Ahe4fmp5Xs\n",
       "MrjJAuj70QbY4NbcakoeSVDD1pAjgE8iZCltr6lMRQAr9FnnpHksJQ8FjrlMmeuLWsosZHOYWlaZ\n",
       "LosALtM6akjzfEoeCpx3mTK3LC3ZTRaxo8Xieb3mRPBu9DYOKK6+6TV8muydhgYnXabMYeSP4Cbx\n",
       "qixiXwG0Y/Sa+p5fknZpCYMPKeOhQAMPFk2pQpchRt4AzmGuwSL2AQRE+es0PpfE9KwIgt+0A5oQ\n",
       "NF9jsJVygClQwdYQo4eD+P58gUVsWPYWMTr8sdbR5aII8nu0nBbBN99xt3ceGlSwNcSoPITz0r/H\n",
       "IjY/bJbpUB1ceXgFtof8PgZLKceHApeceRiOom3cJzQ3JMM23lKaN6fokK1KlwURhNSSxX2drabP\n",
       "iwa3kuvDGlL0BLrnBaboRIPPVE3si+uOCPromgixqjRLBtJHqg9OkB07izXEyP/r4RptsQx73yS7\n",
       "TmvoRkG6xPvuEa0a2lorAa7jNfD/4HOlIZV9UiCrq1hDjAb2ZnG0hlmGDWvxpgqjS/K5CLbN/Ynp\n",
       "hccwOA1QxAHJ0JFtqjMUnHSCRl3FGlK0g+lm6qwO9gJVlavylKmx4KV5PCV7k6ZTT8xXcIFBIclZ\n",
       "w4zszXsiy/r74JfguwddF1W+uhDfR3JReXqJ4npwgNFdZos1jO7ADZFlcUT7x+HK0eh51yjT5gsj\n",
       "5E09h5rW6xQn0wHO6YSt4S4PW0vu+rnOXCHf0WXGKDfCvj7/MaDzX30l5EgabOs8rOEMZ11mWTb8\n",
       "VpN5jo7pTZaUWfPC+sH/C2PQBVtDjt6LLOsdcX7q/yv/AJgW+taPaHTTAAAAAElFTkSuQmCC\n",
       "\" style=\"display:inline;vertical-align:middle;\" /></a><br>"
      ],
      "text/plain": [
       "singular_range_reduction: forall_{f, i} ((f(i), ..f(a).., f(i)) = (f(i)))"
      ]
     },
     "execution_count": 19,
     "metadata": {},
     "output_type": "execute_result"
    }
   ],
   "source": [
    "singular_range_reduction = Forall((f, i), Equals([f_i_to_i], [fi]))"
   ]
  },
  {
   "cell_type": "code",
   "execution_count": 20,
   "metadata": {},
   "outputs": [
    {
     "data": {
      "text/html": [
       "<strong id=\"empty_range_of_range\"><a class=\"ProveItLink\" href=\"_proofs_/empty_range_of_range.ipynb\">empty_range_of_range</a>:</strong> <a class=\"ProveItLink\" href=\"__pv_it/d67619824e39877b295da5d3c7e169fd531101c40/expr.ipynb\"><img src=\"data:image/png;base64,iVBORw0KGgoAAAANSUhEUgAAAtgAAAAYBAMAAAAyiperAAAAMFBMVEX///+IiIgiIiIQEBB2dnbu\n",
       "7u5UVFTMzMzc3NwyMjK6urpmZmaYmJiqqqpEREQAAACk/Np2AAAAAXRSTlMAQObYZgAAAAlwSFlz\n",
       "AAAOxAAADsQBlSsOGwAAB21JREFUaN7tWF9oFEcY/5Lbze39zUXaYInKEdoqLZYo2oKoXKQJlCJs\n",
       "oLX6UHPig5VSOUnpQx/0sFb6oOYeapFi6GmkxRdNirVtjHC+2JhQXay1tRY8HyKhiERo0IpCZ+ab\n",
       "3Z3Z2dtNhHIPdeDbm537fr/vm29nvvkDUMdS5ILF8FeYDcmT4AIRxiwgRkh/hHZjlpT/YWmwUHhZ\n",
       "qGocnR3Jk+CCWeKZcMxCX7NH/cgpHZUqff2zLsG+ygXgdBdAKuf9v80/km6hsKtq8y4zBCeVxOum\n",
       "l6VhyO/LezBef6OT3tEj9HMhfpwR+nq4HrHWSygA2rY1AJsUhecBDgURUBgSyOW5EJxcuvssL0tj\n",
       "DmJmGMbrb0MJzR7y6yelI/IRTSfVegQ7UUEBiPwxCTDqpzMRREBhSDA3nFzWnDR9WJJDYZjRGmYn\n",
       "/PpJ6YjQmGtWPYId4QJwig6jDl+doAFGYZEa3OZsvYjPgC/LyjBMRw2ziumITbcSkiTusbqk7BNc\n",
       "ANbRDpT8dGKVAIJ1DsHccHIuyvqzHAnB+PpLzSqmT9h0RJa3t6+oS7BPc4ELy98nk42sN8ff29ua\n",
       "+XBRGVNdG1m+tXxtPIMRgnj3Z51bop1/2SmypRqMk9PF1heHXBZs6xmmaTkE4/jLG3sWAZpVTLM+\n",
       "dqN8DzBZl2AfccbPPT4ocncz+qNyCieoFie/yVIAwT0k0NK3oHccfrFTJKwOwUmlOSOw4CY5N0ge\n",
       "F0Mwtr8PeNtQpIJmmelEOyt5Z45cRNkHhvstNuIuxt8GXzN+J1IQmoUt6UZHQSr+m9alXMC4T3cA\n",
       "FkTLa8H4G5LT7O8DCeJ1KhtwqLiPBB9HqtCfg8u8eQweB+Pk0l8QWFi3DOtH8rwSgrH9vc9He7HZ\n",
       "QrOKadbHKyhpU6PzVj9Lc00nbn0KvjZwz5Kk2ovtOXuRDiWndDoK7sZH1hDKKi6QotGNlEHXH0Jq\n",
       "BprQjknHT3S6dpcZjBCYvWW4acIOp30mGCeXm+Cy4PfS2ZTZHYLh/iYdQ8QFZlYxzfq4GyWVYetj\n",
       "03ghzC8MwgZxoO+cR7KdZ3e/AcI0PMFmaxRxnoaPDOdIxvU+3hGytK3CvpOxuMzZamWDceoqa7Ps\n",
       "cL8WDIZguL9Nzq75W0CzimnWx0EupfMsD4XfJyDviPR6Rd3Gj0CYBpYBLpCmaSxGZmFTiZ4nThVx\n",
       "8/QFBKcDBqME2+n5J/5Ad48kc0gjt8FleYQUsXxIGrnt+ttcMd0jmJtGxJw9IKQRWE9Dkdq6nh7s\n",
       "2b8952gyGN3Z2nChgLU2IdhZulGwxFCud+4G8qhgI1SNiZ9a8gu2Yf0WFxzKafKI5IBM5u2GRTut\n",
       "P9aI7SroamexfwxGCVYAmc9NpQO8vb9cC+fHsgwcltS0xhp7LfK5LtkKUk4EB8P9vQk5bDQeAjPL\n",
       "RCqsj5e4fJK336Brhs3+6xQ3WInkG/K8VnRiZ5BlK5EqiaG8AYm7pNxBOFGwEarG+Gp4FVr5mdfe\n",
       "YLF1ie6YSIWkzc816CX88en9xFKG1dlD/0escFg3WyhJ5ozlcrydZt7aOA8LLnDIopXGWOMpgyxf\n",
       "w37qjBMx3N83kkVsZMmbmGUin+3pY5hLmiXrs5TlXToFdPNN8vx0HjSX6WaS1Uwn2HHyfFsbEkN5\n",
       "0t4eMDhRsBGqRk8WHuLGE+AYF1yj4ln2RmbEjfnQ+AIdEaTLjUWsN1KDL9uVdtOBHWPIhiFIDRd5\n",
       "O828/jha8bCwVZazGHcs1pheQJqWcAUJzDgRw/09+DNvZMmbmGUiFdbHJVyEE1M649a3QB/d37Da\n",
       "oJtGUizBVshIXUtGKgvlLieLZrgCRfhqNGWiHbgXwj0P2/ecYa+LRQd/5b97hLqwD2FBPaNsnLB9\n",
       "WU2cD0siL7OkeO4wsm7d6xdiFsuNLKnt4SJfaxWQznDXkdfoo/cdVn+ADYugP4q101En2NGqvZqq\n",
       "SYLBqQJHqBqRQkPVmC44dz1EUvkB9e7I3r6MCnVhH8K+6YByYUTbP0jO1MSpLNdilsyiCbdHmorJ\n",
       "uZgJsbHJumxys6N+d1rupRtL/TOg5+C6Bm+RcHWQpzFNxuclDWsv/SYtkGTMi6FssUkQnnUQqkY/\n",
       "GdvJKg/DFJPGSTztpYXpp/O8R68jdfVI1EPHC4dNye3Rx3Q21sCpLK9sApmlh/8eFOoevzjG8Zc2\n",
       "7raWcnd9blCnkO6ge5GVhega2DAf+iwgy2KfFc/DYdj3LNaeqbjBpn612q97vxoWPEX4FNgIVeNr\n",
       "iBWNLXx6bmaSbEOvdcHLpJ2XTLcuFMptwzZ72odHauNUlvM/gMxij75Joe7xi2Mcf2ljoq3MzabV\n",
       "3LMZ6SalsZ5iNYsd+91LV8uzzz5uJ3XbmC59S4spiACvhnverqDwsl/VGAvfJxt+93uzwAWzJMNP\n",
       "HT7+jvmbNiqUzqVMXyvwRJ8yv+wT1wZhlcCQJYqxbzqEqxLQTHnVSRQ9lymyxtOitdjTJgnD34lz\n",
       "MOk9QUJXok0K3rh3onV52cefBnjOpSgdozwnMfWcFaDxPy3/ArXhWOFk/fbYAAAAAElFTkSuQmCC\n",
       "\" style=\"display:inline;vertical-align:middle;\" /></a><br>"
      ],
      "text/plain": [
       "empty_range_of_range: forall_{f, i, j, m, n | (j + 1) = i, (n + 1) = m} ((f(m, i), ..f(m, b).., f(m, j), ....f(a, i), ..f(a, b).., f(a, j)...., f(n, i), ..f(n, b).., f(n, j)) = ())"
      ]
     },
     "execution_count": 20,
     "metadata": {},
     "output_type": "execute_result"
    }
   ],
   "source": [
    "empty_range_of_range = Forall((f, i, j, m, n), Equals(ExprTuple(ExprRange(a, ExprRange(b, fab, i, j), m, n)), \n",
    "                                           ExprTuple()),\n",
    "                         conditions=[Equals(Add(j, one), i), Equals(Add(n, one), m)])"
   ]
  },
  {
   "cell_type": "code",
   "execution_count": 21,
   "metadata": {},
   "outputs": [
    {
     "data": {
      "text/html": [
       "<strong id=\"singular_nested_range_reduction\"><a class=\"ProveItLink\" href=\"_proofs_/singular_nested_range_reduction.ipynb\">singular_nested_range_reduction</a>:</strong> <a class=\"ProveItLink\" href=\"__pv_it/166f536c8ab3f07c2111b3e2066f0353c5de15a50/expr.ipynb\"><img src=\"data:image/png;base64,iVBORw0KGgoAAAANSUhEUgAAAugAAAAXBAMAAACrL6dGAAAAMFBMVEX///+IiIgiIiIQEBB2dnbu\n",
       "7u5UVFTMzMzc3NwyMjK6urpmZmaYmJiqqqpEREQAAACk/Np2AAAAAXRSTlMAQObYZgAAAAlwSFlz\n",
       "AAAOxAAADsQBlSsOGwAABnNJREFUaN7tWF+IVFUY/3Zn7s7s/HMMEmNThiVdIYxVlCDamJX0JYS7\n",
       "EJUPtSM+lESxsdFDDzlYSQ+rOw8ZEgqj9tJL7opZqcH6IqaglzLBCpx9WIkeYoOWTFrofOc7d+49\n",
       "9/ybXX30g+/OmXvv7/f9vnvPOd+5B6AjywoXVtfe0AnJcnBORL0DWN1wrm4NkYUHmml2SRmvEU7W\n",
       "FSg35MqdkSwH52Q57kZpJBPuuDXEGnigmYbewhO/OUiKVXKA/PM+wA0lpSltnMgQRgSSZeYcONnO\n",
       "bAcNS5/+icqwG7rYiNNgo0zVYM5M9RrhA7/dcZmfw1NHHNnuEg6wYzwAr5G83l2FXt9GgLBdmv7X\n",
       "cOAkS78+BBqWJwAOu2CqZIzNcYe12ZokuzI1aITHgOOEv4fTTMuR7gXhAENf+ZCf0dxSmLIRIOyC\n",
       "9oodJ1nqlznQs1x1wbSSCXdVm61FslWxWSPHCcdnnw4c6Q4Kh9wCEmvv2WrBc9ggLBkn2ynfxJLy\n",
       "HbCU4RH5OuygQ/LWZWkkHHmB9YFeR7a5Bjl7PRV2+FJ701HboKuEBEvDybYNTCy9Mw6YXjLHKdgo\n",
       "U4Pko8vSSDjhm/v7tziyzVfJobBnPRsfZxjvjk+Gd2eG/6DrI9M4B5rxHIYEX7zx0aryu2ub4vzI\n",
       "WjtOtkub3wSVxetjq4F0zQFTJFNsxCnYKFNVsitTvUbwVrYETvg3AHOOdKMOsaJMbypdmoXRK/AT\n",
       "Xa+eZIcfLAQIQ4Lqn2Xvv2YxHH5TqRk7Tra/QMOSzrHfQsMBUyRTbMQR9nQ/2vpo2OglOzPVaoQ8\n",
       "PCtwwg9ANnrXr9BqKlmyA3KAyTF22AjwfqoFk1W4Tsv+4Dt2/NEiBWGMINN8DrJ/Q2FeDID6isCO\n",
       "k78u/gENy8E8e2jFigOWlCxiI07BRpkqwZyZ6jXCZVgUOOElP42DwDuPL3iYwo4l6k2THOA2Hp4B\n",
       "8EebcNuHt2nw8Pe7z/K8bhOJ592D4gL0tBdLjMKKk5fP8zoWH7tkZt4BS0oWsRGnYKNMlWDOTPUa\n",
       "AduEE14s8zrac2XMvA5qP/Rt4qGjJvbSN8UoTzrKCxIwTaxjptrfdKcdOKUaa1jw4eUGHTBFMsVG\n",
       "nIKNMlWDuTI1aIR8ReBCb1zkc5hlA6M3IAe4g4djzPfiR0nurkfXa47p5Y4g6Wng18Wpuh9913Q+\n",
       "vZRqWpbPwD69cJgimWJH00t8Tg/Mkl2ZGjRiW5peYCd+kxX37MSNCD67j3yPk96Fd1Z1XaLeXyqT\n",
       "i34yy3wLsAHU0zgIyDoaMM5rAJrVMp3aJEhSVWCDfG82oMyz98CEk4zu5t1GYfEW00xsCzxTbA5T\n",
       "JFNshuMuP7iyWbI5U5tGViGalGnbP+RPGluwfYEX9luo5+RMqtZFJba9suJ1Apc8rMGKRG+16v2L\n",
       "XwRZVg+mgbf5YbQBsX8EQwJWnVgh+zTNbwCqM1ocvy7/oyKusOTmJ9joLWsQFJtgimSKzXDc5Smi\n",
       "ZpYcz7RzjUDlezrmJd6dz2OkV3Goef4L7PjxI7Cimaedm1yFnOoEnOD/uqagOF2HfvbSS4+zsxuA\n",
       "t+FJHE1TokGnOAwJTuD2FPy6GrrX8TrSMuF4I/q3rl3EVZZZ9hi669SW8ZyWYIpkis1w3OWPo4pZ\n",
       "cjzTJWik8r0h5rHPLBpZ1N4N42L1BDAgPF9TFjdFMdKylaidvEywgfj5n8PBaMDJxu8+C3oWZvtj\n",
       "7aS0s3rJfCLYL1y2AYtkc6ZWjZsELnRhT/Mp62Xevksn1sJkRtoYukk1RtrxSYf1eSZqJy4LmLSz\n",
       "xIZQT3DdN+Jkw53l2jHQsbS3qKra2AKWlEyxYxt5iW0wg2RbphaNbxUWBC50UQcWwKvCrTS8yFau\n",
       "g+yYnWd9/ZogL9W5PyX2LH+PcY6I30OxduKygJVi49hj/WxfsNGMk4sUu7t7rqFlAbFL6pW1sUNY\n",
       "QjLFRpxmhzXKVBfMoNiiMbPIZ4xDMW9PZJkheGk1jAfAyud4kKvBETjwqEC2uF/8lv6+FgsWvra5\n",
       "WDtxWcC8WHoFfPN9TTNO3rtB76trWXiSftROxA5hCckUG3ElzUKkZZJsydSmcfpciAs92uwt8lbA\n",
       "9w4Sm70TwkXP0sSsuxfaE7rn2QHOyXK5gz0E3Yu9bMBO2ILdT6ahi75yc0xM+UX/8/EOSttDu39L\n",
       "rwzHTAGmv9YO1of2wOx/01NfZdYwLzgAAAAASUVORK5CYII=\n",
       "\" style=\"display:inline;vertical-align:middle;\" /></a><br>"
      ],
      "text/plain": [
       "singular_nested_range_reduction: forall_{f, i, j, m} ((f(m, i), ..f(m, b).., f(m, j), ....f(a, i), ..f(a, b).., f(a, j)...., f(m, i), ..f(m, b).., f(m, j)) = (f(m, i), ..f(m, b).., f(m, j)))"
      ]
     },
     "execution_count": 21,
     "metadata": {},
     "output_type": "execute_result"
    }
   ],
   "source": [
    "singular_nested_range_reduction = Forall((f, i, j, m), Equals(ExprTuple(ExprRange(a, ExprRange(b, fab, i, j), m, m)), \n",
    "                                           ExprTuple(ExprRange(b, Function(f, (m, b)), i, j))))"
   ]
  },
  {
   "cell_type": "code",
   "execution_count": 22,
   "metadata": {},
   "outputs": [],
   "source": [
    "#singular_nested_range_reduction = Forall((f, i), Equals([ExprRange(a, ExprRange(b, fab, i, i), i, i)], \n",
    " #                                                       [Function(f, (i, i))]))"
   ]
  },
  {
   "cell_type": "code",
   "execution_count": 23,
   "metadata": {},
   "outputs": [
    {
     "data": {
      "text/html": [
       "<strong id=\"partition\"><a class=\"ProveItLink\" href=\"_proofs_/partition.ipynb\">partition</a>:</strong> <a class=\"ProveItLink\" href=\"__pv_it/9951d554e1186ed1192c02927a244a67cc0e713f0/expr.ipynb\"><img src=\"data:image/png;base64,iVBORw0KGgoAAAANSUhEUgAAAl0AAAAyBAMAAACUkXO+AAAAMFBMVEX///+IiIgiIiIQEBB2dnbu\n",
       "7u5UVFTMzMzc3NwyMjK6urpmZmaYmJiqqqpEREQAAACk/Np2AAAAAXRSTlMAQObYZgAAAAlwSFlz\n",
       "AAAOxAAADsQBlSsOGwAACZJJREFUaN7VW2+MG0cVfz7v2mt7984nxKnoKDUHbakK6BqlUFUJOgoJ\n",
       "AhHiihCIoGdH+cAHSjANQuIDidsKJFCb+EtLpaTITSIBEk0uakpaUsGlSNAmUuIC+dMEdFeilKii\n",
       "1gXplEJzEvPe/NkZr732+oS8N9LuPc/+3njmt/PevJnnA4hBSdUh/mW6GJuuPLgC6IL0E3HpSWoq\n",
       "EtwxJad3FadHePvy57jw9XI0+M2mlM33rILQXuDtS64cD7qc65HgHs3G3GeLJCVmNP7ajpID7csF\n",
       "wdvNfXf0o/HgayiaOW6h+/odDZKYcibUEUtgZgZvRegCDyt/iYfH/0M0+Et0X3uoKCRwZ8LgEjjS\n",
       "ENBweFjJzMSCr9XR4JPkiRalxMrdIWgFPFyU0Lv77Wj2nTjQlViM1uka3q2ClFjZFwJXwM8o6L6+\n",
       "u7o3Fu4r2rKTQ2/nbrtthqT7j6CL6oxWQHgSXnueQ9f33dW5ODiwXZVoTmQW7yN5Lk0dYB9eDYFL\n",
       "oH3Du7CGQwmem6AS7V2V8jHga1vE6Yh+G/ZUSHIaL3YJJAUQvHeeTT/Fof3HncOFGPD1iWjwJO01\n",
       "57hkwzWcoWEmJFRya2ga7+oCDy9uDBx++kY/fN0nJA8XiwMhcAkc2vs5ENADfffVvjF4vqyI7yxD\n",
       "9vimkDLlLgYmgaX64Qpo9tiX/4pqC/+PMjwZEU8+9y4hlRps7TsNEFy4bP5HAs8waJ6gdPVZ/jF4\n",
       "vpLzEedjWW45UTrssLXvCNj/QYbwVqppggbcDqXKFEL51WfZCEDd/dvg+CpF3GRkcY3yFoQ0/H4m\n",
       "fARgAifYnbh8zkjhVtCBb0PiSJGgdPVZztTht/j3qQGGX1FjmtvV0crt4nyD0eEFDfIstAI51Cks\n",
       "q7Pfx2bmB8fXXCOiwimAc9zpnxIRPzNJK4jDoN4EcmhudlnGgMcbVmNwfJ2pRFQYrsLHt0gJy252\n",
       "3R/09zhvTSCH7l5GZ0fK4DK6MwP097dUowZB83DiBSlhucKu4Jxx8WYCOfTKcvhiDa2amFg9QL42\n",
       "Rt7DPmZKbrVnFYS61WV0NskW3WM65TZvTbcRsX5dYE61aj5J+OLXIOi2L5gfK9DWs/8+PmmqHjav\n",
       "bK34MTi4iNjHcU5bebUGvSyGx+eyy/YUJ/Wl5hs1RSUrn4ac3N/c+QV4T5lruB801jUJeehoPaEi\n",
       "5e/ASuKLBdfDRQu3ZKmTlXYbNcnXZsao3DzguNOjjOqDelyE69F3t78F56xirsg14F4zdGKQ9Fiz\n",
       "7pXXwfMrli8vT+5+pNWu94DOFwvTcnW5QlEkWGhJHTzBEMcw9s3PWELDWTCbZJDj7K14J3K02q9M\n",
       "e4TaCRz+tg04A8bIiY1jfHHaGdf4YsAh+UTxpeKQZ9jUY/oYbMP5iw9bQsOdf1iaLGlugAQavffD\n",
       "X+YVXxuN91Q1pV58M8c4Heqh5/o2mGorHP09bKBEN+1CrRK+7ZyH1Vsf/3JV8eWwmp/IJ4ovT7Kx\n",
       "bhHgkli2z1sPHBQaqZvO3iNtGDUvwTSpVtZdVHzdYqwgDVN6pvvQhEogDZvoFFP23iZBDXgSXdKj\n",
       "5JeO4+1HdNbxFQt5WD2b9udXlt0PySeKr6yIa5wHCvg4S1HQeZj5gNBIflGtp6R5CH7N+col5tvG\n",
       "q3+l+9F1XBrvPGgwgLCzqKdhMUWr6s3DtluhS5tSd3qV4M2Aj9Dwqcc8a/IGP2NiA3fePab5L49x\n",
       "eo4/+V3zcrM5S3yl59NNVq7SiclOcH/ebL7N+NqUERp7mLcSCGpzJ7zKPjS8ij1VU/uhuhaK8tzP\n",
       "N9dy6cPk8UKOKiQQ3mf4UkzRqnq9bH5xEbq0qXT3CodrwEvKLOCT1OHFivT97vx+x+crPY+jFatC\n",
       "0B5LX0VjS0/x+ZV9TWiczhaU+aPmJfgen1/wrDKfXVpozrd2yYtX1CbvVGj0qAH1NCymaI1dYlZ+\n",
       "oNxdaJtKd0l+/am2hwM2a2kTeLUpmw16BxNT+YesgL9nT3S+ElL9dQYdFXEvi9LGmD5qbE0X1AtB\n",
       "zVEWvPDILFE2prgkgO6YWU3KmrDVUwdqaVhK0SZ1oJfX+QprU+mSQFAd7h8O4BnRjoa9tZpei+Pd\n",
       "0chUU3/S+LrKd61jki/n8+/m/X3s5psIsZvNzuwdFQZgs/oqHhM9qLzTGDXi/JP92f8z2Sou0TW/\n",
       "O7+i+31KktmzDkUHamlYTNFq9QG+wtpUutak/Hod7m92aToTex59te/l+MgO8nBzn5pfWKbNbTDY\n",
       "X2q+JT42jGCWDwchm5rNulGf0s6jj+Ltj6u+RZI9nhenqR2KBII9in2UaVhK0Wr1Ab5C2vR1M2Vv\n",
       "vEhQHa6C6+FzFXnodjbzi0n9/I1/Z44x+wI+EfE9DyP0N2PMcqaf0yMX0rTaGYK7CC1T5BqXrCxT\n",
       "cWsh80sAWX/WgJa1xRStVh/gK6xNpVua/fujswTV4Z9Sox2VRyAwm2PEutDCF3JjfX3cGLGrz5ST\n",
       "gdMUnU1sswUil/glX/6YOnJn0uO5GveSnYoEwivknFWWCFO0Wn2Ar7A2le7cTxs/qPJFzYc713qP\n",
       "dTHf0jI/bP1DxwxNGASLlqO6Vx25M6mI7zq90LljEiiykCoNOwdGfW5i4kOrROaM+AprU+k+R84b\n",
       "oRo8DvlaeK6FL3K5KOGvO7KTXXwzqeRQOqAvA1p9YH6Ftal07zhaEVANnirEgK/DvlU/Ta60LKQn\n",
       "u9iOAsLQlG6Pb4JRH8kepa793+x1GWQWTO828D2/H4DR7iKZ55K9ZGHUHDRradgSyLxOHbSs7V1g\n",
       "1Af9fUibUtddsJcSBKVL7t3icJaiLZDrlctlUnbhMWZReZ54NdKwJPhATF6DytqKnw/79QG+RJtt\n",
       "cry+bmrevm4RlC5RbovFoZKfPdivXC5Kb7BAcajKE69+GhYFys76QNiON5m1pWVAq9f4Sl3+91a/\n",
       "TWyupU2lO9yA8fcSlC4R08fi95jaLB/CGfMbJbHyCIjEK7REdwYQrUhlbXmKVtUb86tbm5qugj5i\n",
       "OszBl8yUtsnwyk/ru2f8ZfNUcGWk8w8J/DZZtMzaihStqjf2213a9HU16EvGfjUGJX2PEq/C0JWa\n",
       "3K8CT7zbwUUJs7MKmF6inxzKrK1I0ar6YJjbuU2lq0G13P/amJyK+6dU0+COV7WtKR5nuEEFnC4+\n",
       "8Aj9BERmbUWKVtUHw5DObfq6PnRYTapUOSZ8+f9v5cya0ivdlYVKIA3rdDqF6L1Ngvrw1yEu5V+w\n",
       "Akp8/p8PhusrgK8tZJj/A2kGuBOpdxwsAAAAAElFTkSuQmCC\n",
       "\" style=\"display:inline;vertical-align:middle;\" /></a><br>"
      ],
      "text/plain": [
       "partition: forall_{f, i, j, k | ((j + 1) - i) in Naturals, (k - j) in Naturals} ((f(i), ..f(a).., f(k)) =  \\\\ (f(i), ..f(a).., f(j), f(j + 1), ..f(a).., f(k)))"
      ]
     },
     "execution_count": 23,
     "metadata": {},
     "output_type": "execute_result"
    }
   ],
   "source": [
    "partition = \\\n",
    "    Forall((f, i, j, k), partition_equiv,\n",
    "           conditions=[InSet(subtract(Add(j, one), i), Naturals),\n",
    "                       InSet(subtract(k, j), Naturals)])"
   ]
  },
  {
   "cell_type": "code",
   "execution_count": 24,
   "metadata": {},
   "outputs": [
    {
     "data": {
      "text/html": [
       "<strong id=\"merge\"><a class=\"ProveItLink\" href=\"_proofs_/merge.ipynb\">merge</a>:</strong> <a class=\"ProveItLink\" href=\"__pv_it/9c6b6738e1a61424f62aa99bc6253d2c9e86dec20/expr.ipynb\"><img src=\"data:image/png;base64,iVBORw0KGgoAAAANSUhEUgAAAnYAAAAyBAMAAAAjLIuZAAAAMFBMVEX///+IiIgiIiIQEBB2dnbu\n",
       "7u5UVFTMzMzc3NwyMjK6urpmZmaYmJiqqqpEREQAAACk/Np2AAAAAXRSTlMAQObYZgAAAAlwSFlz\n",
       "AAAOxAAADsQBlSsOGwAACWlJREFUaN7VW32MXFUVPzP73ny993ZfQ9IIa2Vd/CZAIQXUtMlYXYwa\n",
       "ZIgVJQIz0ET/AMpAjQl/2B01mpiUdv4RiYAZvoImQqextZWibjFRaBN2aGALjUkHyAIhMNkmrFTa\n",
       "Jdxz7n333TfzPvuHuT3J3Hfm7jm/fe+8+3Hu+e0C6CqFjra3BuYiaC236Xxzd9d0vrtCVaqtoNZK\n",
       "4c1tSsPdpRHESCl5TSnsp86UzrF7Rmq5XlB7KNlZuFTcof414poCYo0HMAJC8heNQ1d6X6ovUrtn\n",
       "hmuTSizDxPpaTbhsq8lYiX6nCubrU4HXEQXBTI1LmgSwJswmP6dv7PJyypptbI0fbeDapwB+E+d4\n",
       "1daecDkXoFwL9F/PruUufkuEQNN5DlAOW9ucy/WN3T/9UUBveOzYotAADsc5bniyJg3B7gb6n2bX\n",
       "iV4qCDT9KwdQQBS5X9/YrZPaGLW7ap7GrjGbXGUZfEOAywP9awVQCgg0/aQACB1iu1q6hi63LNU/\n",
       "UrtRamwSxaw1xpRiCPCA2l/BqfzVVBBoSkvuAyqIKuWutstdQ6p7sPnXZbeSZk6yXc9oRPrZmz/T\n",
       "5S7mqj4uXWq/hWvovfDC3mQINLWXBMBVoVnKsq6xm20ODZ0TXDMqbDLZ7WjHCVe4WLCetc+p/TjY\n",
       "zNPOy+uTIdC00BcABGJNk8iYmyd0jd1mX71IpixMu8dqxyemO5vC5VlYYe0RtT/Ptgnn5BPF+5Ih\n",
       "0HTMFQBHQs1e0zV2V/jql2mGLHGthoOiuBTteNx3wUk1q/aPsROytZ5GdBIEms62BMBsqNm8pptF\n",
       "8fRQ7GgLQO042yBx3kbJRuliocsjaj8GJH//12kvTYBA03NAADwSalbXNDs2Tvr6g9iMN4R2b8Jh\n",
       "8g3pQtn1EbW/zCZivbOrmQICTd8w1Tk7vN7BWEPP2I0rw+JVulGXa+aKwRb6PpijPjxju1S67MQa\n",
       "1vNq/7iLZ4V6z02GQNPTOQ5An5B71LQcMNZXTkhyC2BaZWk7GwIu1HGfxMb8n6qIYzC5zGOzW+3H\n",
       "xGQL1JtVCSG9hyHQ9INrCYB/QubGEtBd/kez2NWVxPNhuQWg9ipbZfItyH8aZyVaXegp0zVvT+Eu\n",
       "W7D5nNpfYSPlXcjtrvkQ0nsIAk0PVzkAfULywA/gKbzep1t6p9R98k2v5JMXSd/P2eel0WQVH9xq\n",
       "SEOceqWpQP9npXEihDBFgFL45CyegJ+gRV+z2B1XakTsKO40HlRP9nhOr47OIfZZKPeE4e32sqgj\n",
       "KP1+BSAR4rBfiLDCN1TzFFVYjJ5msZtvKl/egvxiW2gg3rQ5WpDE1eni64VLcQWzW9gR7B/3UrJk\n",
       "CGG6Q3zC5L9gs6iWddsrzlfzzpvAnmwJjR6LvW171AdHx8H9nstuWosWg/2mN7+SIYTpoviEyYcA\n",
       "l01Pr9MtdteoJaLSXFB7NtlfuNjDqf92cU0Bsd0DsKPOD18C2KdG9vt8GRyxEyvNy4EJ38qNrrbq\n",
       "LypCLu7u0Fadm4rxP7SmoYRMA/wKSrizmAfwXX3F39qeofXAvIN6+Ai2O6KXr6yuF1K4a08nR0fQ\n",
       "Q56DgBEGxQu/Cec0JCiXQ+rOd0NbviAmd5wFoYMLcO4bmIEXDjWH8tMOXV5RYned7BXyKMZl9aDj\n",
       "NGZgL0a64TkoBndueRsWjJpVg4C76Z1pLARZNcWNz67YOS5tFRPD03qnUnoUsXtK9nrFUxaPAyzm\n",
       "zkGLtnyr4zn4BtY+TL7drqGAgrDlCzeIA6ZPqpwtcxbaB/HeN1/N2odoLFz7N2yfL03i5QtK7KZk\n",
       "L6beqym5yeFUd376Bxdjl5cOAoYZfBz1o8d+ZiigwG3NyZ4aOz9VuuYM6jsKB92STYK0IIa/ThK2\n",
       "V8DVRLjRgXeGCsldmnY33/MdBm0u+bErtb1eWu7qNXC6PG9wmjPHMHa/lg4Cxunyzf6oceOjHqg1\n",
       "YPIO2lpOW42dIxe885vZH8WnUbNR4NH8dYoa4y9osB3A4NyIxw+z9i3sWDeH263T9mNX6Xu9KL88\n",
       "Qj1/4rGzcmjypHQQMJV+hdKFo9D9hA9Kwmy/a3TV2FX6oblxOnHomCCZ7bQU+Mb3o/nrBDmF9043\n",
       "SrTAOI8/6qVT++h3VP3YOQ3euw0HTgsrPcU+PMf0ntM0qxizBXIQP0eYYt/+/WDwLovdprIPSrIA\n",
       "RAv8ffD6YDBHsSvK2B3vZH4SfhyQzHZaCtxeiuav48V8T6pXUv3ie6Rj5dHuP4yrQP4xP3bs2UQv\n",
       "+S43cZb9mI87eALDvk06CBinW6zycVd5wQMVc3abt0GFzNnZ7DXZp6lVme1UFLjVjuGv42vbkuwx\n",
       "l8GswisGbGK9a1lbcO/CL/VcYK+gXjFJ2lXIuXS8wcQv12D+bP2vyxSXwaDBosjlVnug/l4BWwP7\n",
       "bE6uOhPZH4WqpQFmOxUFnndj+Ov4RWJFgk1BcQNc9zFgYznXYG25Vfg3uxTOU2L3FlCviPbNLTwx\n",
       "l97EgtlvmQnzZ9+FA67EDTpS72BLQuXzTRYiAeqlJi2Mp4hd6RunXP+oDvl21iep8L9awfU6EwWO\n",
       "RdVI/jp+ozmpVHrAIa1Hv1QstN5625eZbkBwk900GIjVyYGKWtdBGGZgfnvwNgTR+NNWvUVWReNS\n",
       "WJv1SWhdlsx2egp8HmL461gpeAnF+EJTFAOd2u+2iiqgvHixs4ZzppnAN+a/3/+GMEEDJziJ9pcf\n",
       "X+udK4bQ7MykOx9kHrOdngLH6rLkrzOJ5AWMVaIEAzbs3isLNLJO0w+LFS5zQyUcww8PwQQMhqo+\n",
       "xg8maxFoxZWsT0LlOslsp6fAsboczV/Hyc60OaEYcEPcUiTVFGMQaRswviLzKKDAe8x2agq8iItW\n",
       "NH8dW589g7PP/0X+fGaxk8x2Wgo8hzbR/HWc3KLrOXtX1uSYswyS2U5LgY83amc6Z7X9W5581gSP\n",
       "n4g8Zjs1BT4x58bx1zFia/s3ZJnvjBISyWyrFHgkf42GE4+5cfx13NttaFscy0qhIBmtMNsqBR7F\n",
       "X6OhjTleNH8dt6q0tI3dfNbDOVbvFWYb0lLgsfw1JKyYekq5mtHhsMpsy+rAKEqQAqfcfC6Sv044\n",
       "EGsqxS9m3SxaPrPNh1M/mQKnNo6/js6JevrGDv+zJFs5ra8w2xTMNBQ4Shx/HSk/1Dh06v/ipZPt\n",
       "UstGgcfy15EFqLbOsYN3dL45vf8HFMY7+t6bSfX8jwC+T8LQZfCQlQAAAABJRU5ErkJggg==\n",
       "\" style=\"display:inline;vertical-align:middle;\" /></a><br>"
      ],
      "text/plain": [
       "merge: forall_{f, i, j, k, l | (k - i) in Naturals, (l - j) in Naturals, k = (j + 1)} ((f(i), ..f(a).., f(j), f(k), ..f(a).., f(l)) =  \\\\ (f(i), ..f(a).., f(l)))"
      ]
     },
     "execution_count": 24,
     "metadata": {},
     "output_type": "execute_result"
    }
   ],
   "source": [
    "merge = Forall((f, i, j, k, l), merge_equiv,\n",
    "               conditions=[InSet(subtract(k, i), Naturals),\n",
    "                           InSet(subtract(l, j), Naturals),\n",
    "                           Equals(k, Add(j, one))])"
   ]
  },
  {
   "cell_type": "code",
   "execution_count": 25,
   "metadata": {},
   "outputs": [
    {
     "data": {
      "text/html": [
       "<strong id=\"partition_front\"><a class=\"ProveItLink\" href=\"_proofs_/partition_front.ipynb\">partition_front</a>:</strong> <a class=\"ProveItLink\" href=\"__pv_it/332f3c3193e7a2d8753ce70fa3ec9d55b2b247fb0/expr.ipynb\"><img src=\"data:image/png;base64,iVBORw0KGgoAAAANSUhEUgAAAY8AAAAyBAMAAABWl0rLAAAAMFBMVEX///+IiIgiIiIQEBB2dnbu\n",
       "7u5UVFTMzMzc3NwyMjK6urpmZmaYmJiqqqpEREQAAACk/Np2AAAAAXRSTlMAQObYZgAAAAlwSFlz\n",
       "AAAOxAAADsQBlSsOGwAAB41JREFUaN7Nmm9oHEUUwN9ddu/P7u3lilCU2DZEWy21kharUIycwfaD\n",
       "Ut1CrQZpc6WCoFgjAT82p6Ig1PY+qIhWSW1B+qW9SK39J6RfpFYw57+UFqFXS0opGBrhaK0GnHmz\n",
       "O/tvZvckI3HgNpvbt2/3zbw3771fAqBsvAjzM7baavVlxiUXqvwsxw8JI8ePbUhn31dryPOS71MN\n",
       "frqIHoxSsi4URMl2pH9UakehW3LhZzweWQdglYlZdectZcMVhOwUSi5KfrRZUWnIniHx93qNHrUX\n",
       "+gAGyEm6DPk4n+aCkKqhZL6NCLhPpSF3y6YLQ6fjwhTAKWft6jFq/IIoGSvtjJ8UhnuhV/ZmeDxM\n",
       "H+WKrInRExBEyTXJD8/X1RnSUZZcOIjHfhq7NeervTF6AoIouTf54cZNdYYska3uEXr4ZvVLxMmI\n",
       "rRvHyG/r5Wq4IGxc7Eiub+PpH6szZJnsApvQGeoAJFrK+8nJtzF6XEGod4wzSZQ2e3DItqeLyoIk\n",
       "e0N2ZSWmNno53YBc43j8vu8KQqHa2WCS7WSJwZIqQzKyWIe19GBdp2E0CjrO+IhcjyvozPJIvDQf\n",
       "xW5lsV6JNUTrdt7PapGT/TFppJsb8oUjub+dPVNZtI/ICi34BGeM2pknvpKvxDsLF2SJibtWQozo\n",
       "f6sy5Kmq7MolXDDqw0VyGGyQHel7gGhw6hAQhNwtQEn8JI4HVRlyWXplPa9fNDKfh3Nk6cZA/5NG\n",
       "KEkXeMJ/8wlCgUbLmPNJHL8BNOnPX+dqyCPSK59h4GLaIv5fvJOc3AvQQ5YkTfPxCnAO6aUBQcg0\n",
       "mSR+kj0C4AT9+eEc7dD/kl5K0zk+iqf3OFsseU8r6lu/QECQOhmVzLW1IU2MwmtUdXOuaWRGvqHU\n",
       "wapgxMN3XhmpRQVJ8HiCmcaEzSTN8bY2mxKWyVpjjoZYs/JrVyE9xYqnItsRdtMCJLqoZAU8wZHG\n",
       "Skdyd1svMFiHArE4P+fa90ZMSw2FLmaBzhae1OkQneYC/XBBs2vUkZxq6wU6yf6wuqfngbkakopJ\n",
       "SDnvpXfhG1eT9e0CV7IdaWoImaOv2rU6rq9rwfyODuKTb0POS5jPsthlQen4P5kT3sbq1ZSwDZxv\n",
       "Q9J0a7c16o/6SeoCj3pbJhSZzFlv4yRTXwKnG8uueBxuc2cgc32+DSFFq1XCWM+cDdMDZogerm8O\n",
       "kM+rO67BpGab9v/JEKidxnCJRBUzxBwNN8g2mF/RaqBU18SulUsictUkkicfVTG6o64FGyips7Zv\n",
       "IMd9OP0bv/YZkiaL0uXmGWMhJh1aZ8C5C69zQ7SbUbwmJ3IpSdra18b22BCjOxrs8Ca+PRaZ63Bm\n",
       "6+d9hrxD5ttyaYA2aINVZ/ngnLblANfvzyOI18B8zBYROcrfKLLrCtcGS+UGOqtOFDLat9OOoDvs\n",
       "h4oYHCfpam2hK6TbT/gMOQTwtObilrdIc2A0DcwM56C+WJgQB1jVO9wQEDnK3xDZhTDY5uN0CmMh\n",
       "LlXIaN8dEEF3nfUgJCiWfMCAGTLJaMDOaTKqtLvINgufTk//TgzZxCsC65bviQyv9R2yBUSO8jd/\n",
       "9WS456mWV4yJB1XIbw2ju0GPRj2Evz+D5zd9huz0bwR6a4i4VrbMVsT4gTuGv0PD9t1oCYkc5W8d\n",
       "fjcs+Q3piIEhqNC7NYTuRnjA6C3Qy3Beg03ktXqDwQ7D/Lm1MqRKrBIg+WUhV+Qr4xleo823gMj1\n",
       "c2QnMiQ/ntDNHwQJurvIw4s0M9k+2Hw7EE9MVXyG0JKVv7C+rUq/2E2iylg+5KZMMpb7gpKuV2H7\n",
       "srqAyCF/O0L3wZLIEK0iL0upQqR9+oJmFN0tqfraBrDwrOFODHtNoxyilluJrienrwWfs92XZ/Du\n",
       "zpKQyM2widSMXpEhhVpMWVhy1sCEh8GH7th4hSe/ySGnR7Psj4b9CRGO5T8PQKt1wg7N8+50w22+\n",
       "o0QO+RvpNN41ayJDrJhuELt52qScgVmIoDveamsL3CahAGNfBgzRnuvyx2BhVNiheSnAwWtCIof8\n",
       "bS2AjfNr9vTctdphPGhINqbSuejRvhaE0V1uJm6/c2sAW4BtYgAdM6RfSOQwYtf6YG1wRYxe+dv0\n",
       "c0PM7gi6UwfoTO8VGF67IiRyyN9oX/4B/FvXusJpX7occa2MMmRqeBmRJdVVQiKH/I0kVX1WEwZ7\n",
       "U7Tg7NZVnPbtGY2gu05lEJvxKeY+FTeqw0TOiViyaxrXd4kMMUsCasduRYVsw52ACLqbUPe3N08V\n",
       "4jWM6jCRcyKWIrtL40FDMpf/2Eacpso4nUftaBWCt6JCRvt2QATdLVPYNHvFDm0n2V+MI0TuqNd/\n",
       "hlYExxsupwuyJpsrxFtXQRjdqfzTW8FrrUjpN8kiPkTkHP7mL/aMQFFyinG6cHECXCG59WV8UhDd\n",
       "FSsKm833vGivwv0DIiLn8rersv2+yThdaNBbHYVwNTuLCTeI7g6r/G+UYV7tkL7r9DERkXP521aJ\n",
       "iqLNOF1o0FsdheTWsRMQQXd9Ktv/VC2E1+RELicpcs8kP8W5NYjuMio9S/5PNf/9OK9WXXF8nuxQ\n",
       "/W9OcG2eDBnAUP8HRP/w3cRgBHwAAAAASUVORK5CYII=\n",
       "\" style=\"display:inline;vertical-align:middle;\" /></a><br>"
      ],
      "text/plain": [
       "partition_front: forall_{f, i, j | (j - i) in Naturals} ((f(i), ..f(a).., f(j)) =  \\\\ (f(i), f(i + 1), ..f(a).., f(j)))"
      ]
     },
     "execution_count": 25,
     "metadata": {},
     "output_type": "execute_result"
    }
   ],
   "source": [
    "partition_front = Forall((f, i, j), partition_front_equiv,\n",
    "                         conditions=[InSet(subtract(j, i),\n",
    "                                           Naturals)])"
   ]
  },
  {
   "cell_type": "code",
   "execution_count": 26,
   "metadata": {},
   "outputs": [
    {
     "data": {
      "text/html": [
       "<strong id=\"merge_front\"><a class=\"ProveItLink\" href=\"_proofs_/merge_front.ipynb\">merge_front</a>:</strong> <a class=\"ProveItLink\" href=\"__pv_it/1220d621755955721d34ad8c0d58f1c35cf2ad0d0/expr.ipynb\"><img src=\"data:image/png;base64,iVBORw0KGgoAAAANSUhEUgAAAdUAAAAyBAMAAAD4oVxKAAAAMFBMVEX///+IiIgiIiIQEBB2dnbu\n",
       "7u5UVFTMzMzc3NwyMjK6urpmZmaYmJiqqqpEREQAAACk/Np2AAAAAXRSTlMAQObYZgAAAAlwSFlz\n",
       "AAAOxAAADsQBlSsOGwAACCBJREFUaN7NWl1sFFUUPtvutNudnXYxkWiqYdMgSFBTCWBiLFmJ9cUQ\n",
       "l4goD9IlmJho1EqNiQ/CBsQHw08fRI1ALD+JmihsI4gWNIsP8pfQDSoR1FA0VWJMUx6aKtjEe879\n",
       "nZ3ZWx7MjCeZ2zNnvp29595zzz336wJELs9G/5WrCxCLNFWklgKflgpASxBuhzpIgobBm3fE4+vT\n",
       "Srvdr6WzNchEFULtQRFIgobCz8XiaiYnNS+PrftQgbRE2fAd4FA3wHeorC/47EERyNUL5KCFwd1i\n",
       "HL5u75XaKmof7quS1pCHFr2qks90gdOP2q1g2oOikDvxDqGh8Lvi8HW20o5R23WgIDTIlNWzxouj\n",
       "4MqFbdiDopBTEhoK/zaG7JTpVCpp6QmpMVmknh1kXWtUd4ssL5RIehGHhsFbytH72piXWppCNJmT\n",
       "GpNdCraUXR+pu12WF0pkslNBw+Dpv6L3dZaKJRe9zqydUyZt+SCuXfnsmwXPsaTDFGfGiGkPikK2\n",
       "FL32AoeGwndG7+scHVW0HNuyXMvvYzen1MOrYnpceMBnD4pE9lR+3lThUIK7HSQq/16KfME2Tyq1\n",
       "oSrTMtNS1S/MXTCFsLvZdZJSjmV3VMhLb1ZfLXFoKLwnG7WvTTo1NQ7QcHPNofnZoLbecdbcT9qE\n",
       "aQ+KQn56gu431IO35iJPTcUaX5cKjXzapzbNnPTVzZn2kO1VIucdoo17Xz14JvLktKGi1yvF8G9C\n",
       "aymawdeKd7uBlxjWGJZI51p6UhaD58LWq/NP1L4+WtK9pAV0r9B6qsypswA8gzTis8u0nnH2ld0U\n",
       "x4fMjDtTCQ6lKyiLo/b1VyP6ijK1oHYwxWZ8EJy/dSFJW8cwNsLew/ZhUtSdRjaNOJNJgvIrKL8A\n",
       "4P4FP0Xl6xJjd8/J1IJa621MuROgoyAzFuzF5gXQ9gasfeaDaBruMJGtVWi/mUPpCgkpgCH8+25E\n",
       "rjrXjZu56vwxV+wfzGePfP2MlmqviHFt98n3fqR6RSo84w4PwCuIGIlqe71q3JwBOM8T1BlRSbEw\n",
       "xjj0irtFHf98ZsKw10jeRIJ+hVsJT4tZOgElqxH56k2ZKbQE96ySGso2di3HaRrlBfKV5ikqOKS9\n",
       "JkayBlIat4krrJgoQ4aNQktkp5xJs7MjcPxzqaGMsgvnJNPOfV8Ng0OmveZdPqSQUXGFSBtbLgs6\n",
       "OhZG5WvCt6Fv8WuZUm39xx0M2EMqRTEUCK0Hb2MDeqTuSPz3kpyA2KSRhfsbkNKF25M8hZgYse5/\n",
       "8K2VUiL4MpUMGdYxB1dX3W6MvjbgzlZIYm3iHMU4eBBUDv9adJGvpcyAMuD8ZOUQwLpDA4nFYOwc\n",
       "hE1KrHMKD2aq9B+P0Vd27PCylJqaTvfWzPmA6etKbeCyH+d/5tiAV+yGw/5PrjQi4qWbWK2Q/7/4\n",
       "Cv3HaenWLuntYPo6pA2idGd71VE2PN5xF/L+Tw6Zn8RCfMcNxrBBY5dUM42U9J/StDEMy7Ar3tpl\n",
       "rN1DK3f5l9ieTbUbvua0gU3UTNqTExj13msfZtFXp11t0jkCGL4uU7FvP1hpZpeT23tuILOLb90z\n",
       "LRxzE2wiB+lw0E3jXr6A7Zqtj5VUj1P92sC63FMAr8x3Na+3+yL66nr98NUYkwrDIsDw9UfVs0lr\n",
       "pUHxgeQ40eDtypFwkUBiwRFqh9PRuZUW6lH06CmcZ6fwCBoWVpr1vKZHtAFg8zmyfMx9dRMIeTwp\n",
       "sxV7svmcb14PhNYSAdHkOJHbs43gDxMFJNpsB0wDbyv7eUl+piQ9df2Iseq8Ijesx5kr4YGxeQRO\n",
       "Mb3q9Tr5fs2VcSwDuGNjS8b+5L6uVzN3zdYbTY7LkvaMDa6AUxJqhfforHIf3T9BOq6qzMjelPaV\n",
       "eaYMbOYnejGGX+bzCp9kRXLjMcywCAiL4WYrOaDJcUmDN1rIPwXkLDhCbXCs/VX3wcnDhSSsYD3q\n",
       "ZG1Tdl3Sl5uUgfnXn4dElu3MfDNNFNlHoQ90bkKA4esM9ei6pTOaHFc0eEtlGqZJs+AItcHhUtU4\n",
       "OTd3wcpbgC2CRJG1LaWmE4avV0AZ2MCsKeHZJPU7npPfYRD2UZip3nqFAPyTr78/aBxDYJ4t1+D4\n",
       "EDmO5LbTnhXcRZ1jhAQKFhyhFjjALLUl4RHQI61Kw6NT2ogqHXyCSXjF2JioLzzzPwv7fZ9UxxiU\n",
       "tZbOaHIc35VMs+nK9FtyTdbHgiPUBocX1VnyfK846HuF9/p8NADvqFu7UXf7OYKWDzTzK7Ey8SX1\n",
       "y4YtK0qT40hub3VZxz0LqSuBggVHqA2u6Z/kDHlGzMDgYX449M9Od00I+QpGqLjthXrjAKeNBGHZ\n",
       "AjU5joRvAeet2VJTSqBgwRFqg6eu3ngR5oQxlvVoJf9tIZQLr+PrUukC/gMm3VkfroCcBUeoDR49\n",
       "F+5aeqPJcaLB3wZ7UEqgYMGni+GmXNS+pi3FhCbHsVZxppK4yYcFEI8TCRQsOIPSZU1l0cp8y4ap\n",
       "yHEkt9PjW1gYZDUBTty3utNAwYIzKF31ZDj6HxFYvlKT40SDX2apsqHEKW/ivsuyIb5cAQULzqB0\n",
       "1ZM5MbA++frPNDkuye2NkvL2n4cKASCHbrQsnhh+Q5CxnNY1OS7JbTwNBAcHS9UaIIcesySDYgxU\n",
       "yFuW/ihyXFSV+P8IJ7gGkRf3AznU9u+Lg3H8IrGv/prS5Lggt/FwkQnisObxAzm01eJPVxwUV8JS\n",
       "s2pynJPbJ6d/nWTBT9rhTXGEsPnbywjlQjzcZWsl+u+M6ze18Ef0X7mKVvK/9tZS/sAv+/8AAAAA\n",
       "SUVORK5CYII=\n",
       "\" style=\"display:inline;vertical-align:middle;\" /></a><br>"
      ],
      "text/plain": [
       "merge_front: forall_{f, i, j, k | (k - i) in Naturals, j = (i + 1)} ((f(i), f(j), ..f(a).., f(k)) =  \\\\ (f(i), ..f(a).., f(k)))"
      ]
     },
     "execution_count": 26,
     "metadata": {},
     "output_type": "execute_result"
    }
   ],
   "source": [
    "merge_front = Forall((f, i, j, k), merge_front_equiv,\n",
    "                     conditions=[InSet(subtract(k, i), Naturals),\n",
    "                                 Equals(j, Add(i, one))])"
   ]
  },
  {
   "cell_type": "code",
   "execution_count": 27,
   "metadata": {},
   "outputs": [
    {
     "data": {
      "text/html": [
       "<strong id=\"partition_back\"><a class=\"ProveItLink\" href=\"_proofs_/partition_back.ipynb\">partition_back</a>:</strong> <a class=\"ProveItLink\" href=\"__pv_it/c48ebaa5cc7c980e9264a34c27dcc2366961257e0/expr.ipynb\"><img src=\"data:image/png;base64,iVBORw0KGgoAAAANSUhEUgAAAZEAAAAyBAMAAABv8PuQAAAAMFBMVEX///+IiIgiIiIQEBB2dnbu\n",
       "7u5UVFTMzMzc3NwyMjK6urpmZmaYmJiqqqpEREQAAACk/Np2AAAAAXRSTlMAQObYZgAAAAlwSFlz\n",
       "AAAOxAAADsQBlSsOGwAAB2BJREFUaN7NWl1sVEUUPu3e2/27u11iYjQV2DRQJIgpRDQxVhcjPGjQ\n",
       "bYJoH7CbYGIiEatNfKQrJj5V7IMYo6DVkhheYEsQlJ+kvBh+ElhRQcCEqsEQEpvy0IBAE+ecmTtz\n",
       "7+7M3ZvsJXWSO53OfGfunLnnzJzztQCRlTdhjsprxWjna5swDCRUsyyrBqUs6xDo+I5oNXndNDBf\n",
       "tlqqWH/deC4OJGQINJyLVBEnbxjIFLBOP8dM4BfW6HCXaSgSCFuLiAxGC5lSlJp8PGAY6KN67WAV\n",
       "7BHWWAQQaAwSCA9yZBjTeSRKTRaZBo5S3bO3CGnhSaeD5vECCXk6xMt/jtDnnW7TCA2kZlgVEz2x\n",
       "gPf6gISMhVhlshKdJrGCaWlkKRZ60R73vRPmeXxAQgah5UtuRafJQtPOpVFFZ1MX27UDAHZHjq3W\n",
       "7KASCPa8SY60wrjzF9Fp0mX88LSl7UwB2MmWlWLG5oyY53GBkIanOJKj93diMb7lSmSOEr9pGmmt\n",
       "ypNtOcBHabauTL7BEciAcAJmOTIILUt/LrIL3ujwsVHaM6yeBCjinsenzRO5QKbBDEcGoWXJ5iNz\n",
       "+FKwJs+6C0QzSHWbJ5JASOc5Mgit/Csylx8yHjBJsq6/sdrFnk8h2F4kEFoLXutq4Cf23ag0eckY\n",
       "6GXJgldg9Qd746zFNnAS7Hog91kXyDxmlJD0NC6PR6XJX+YLAu0uQQfCWmYq08PMbnLQzxzf/hdd\n",
       "dURU9JsCApwFQtLTuPwJQBr/3qwmT5svLTSODHntN7jdzAxby9C6mLWXoQ1V3Kqz6APCFiAkPSGM\n",
       "AuAw/vysSUXsO+axJTJYbRVB5jb2/FofMxf9wBUCuS3UCs6Ownv4TSeb1CR+wzzGIsDz3O2dioop\n",
       "64Mb5kAe4FvOjEAeDXfk5CDJtsKqNqlJZjbgqC/Dozyyh2s8h2T7Ztcbfy97JDA+izcqIkPucn8F\n",
       "HAzSmo6EbwZY3iQc/14k3Fw1tndOPQ7PcQUcPyyQ2XBxSDszy5WdnY81q0lL0MU0rDJ6unVONJ6P\n",
       "Awl5ItwK2tmnOwRwtVlNrBmY4xJjB/mHkFChxqvcgakW/vkbewbUuPZ0T8+5Jq15NEQLQyP7CH7R\n",
       "1aCOS+5qzqg4SamsZtG2OK6WPQ/3uVvQNj3nmrDoLJMjh287VUspcE021N50eH6+s+U6nLeK6eL/\n",
       "ShMYOU4uU3eVck0O13bvYMZ0COOCXMXSW1fC30qEWEgidH9Z9idqrQvWIQ+T2bQOaTIyl95jHk3y\n",
       "mLK69w2OM9xD2L5w6X2piXVLT9VRKxUicJpvinVyek4P+31j6PHwAS3/DFZraG8rF5UmCYZIZ9x0\n",
       "Fccv4w2Bmlgbd8v5b2qpOmy1VIzL5OXAGiESrz1C3y36VUSk4PSof35tgpQlBzmCy96I38guvqA0\n",
       "SbH6ZUscYzS+F1J02l+AygLtzaiouj6eZiSDLjfrjR4h0uJP7+3NXzE5jywiJaeX9I9Bu+KJdqpk\n",
       "gre5JpkSsQrxKVau0fhWcL6cmvqHabJexgaZ21qqToRMThAbFbt01RRbIV/jkUWk5PSw3ztvvwrk\n",
       "nqDfX6H2LaVJfNJ7GuD4ZYgX+DdJ/SQjyLtaqs7NW1cFaLKv6AFqmKdVPqTk9Kh/lS+CdL/lDNgF\n",
       "uGjBeraubr/Hw6CLYuMwT8QEpwDulxPd0VF1qRHv9w5I3FMjZk12+pB7fDbkmfdK1ZMQxXtgwwPA\n",
       "zLul5NEE41e5YjaOHduZZ6WWDkBWTrRUR9Vhq3fczQH15ceVm4VI7wKtJmt9SMnpUb9n3oXyEkGb\n",
       "y1Cr6vKXXJPdNXuKB5f94tR1/0s36ag6bBXG2C8nA77JDVekEpvQaXLSh5ScHvV75n1bJhHnB0Qe\n",
       "lyl+Pui9GdPl5LdeM7a0B9HZooaqY61E9QcI/EsNJe4o4pTbqzpNzvmQktOj/nOa9NuaJzIEljmM\n",
       "f+fVBNakO7yLP6VP2aoaqo61bNrJoYAcbVqJ4Gv6iA1aojQZ8iElp0f9at7EjaArS1ierSNzApg7\n",
       "RdVhi946FnCd5KXIfq2fjPmQktOj/rF7wNyluzVUHbaSpWDrypakyCIItC5CSk6vxrraImNTU7c1\n",
       "VB22+qsFioTqPyX/1rGcK5K4rdVEyhJScnoUXZ1RV3xkDDdxV7VUHbb2YSI7znk5SdUpzo5z8yTi\n",
       "TGs1EbICKTk9GBdP3YnTbFFTKaoOW1mMmx8WvJyk6qix2D0ZuEhbLYmy5ZmunJLlSMnpYT89vHRF\n",
       "mEcXNFSdSDUTecHL+Qsd+gelSExrIEr2oI/Tw/6EdI4o/zrnzGioOvFnWwz7rHoR5OJLu4RIW1Vv\n",
       "IK6sQEpOD/tlOMlPg6jKJxqqLssP8u2Cl6vxePYNWq+OCOBQdbl2WlfWRQpOj/q3+8PQqMpguZ6q\n",
       "4ykZBZwT9V8Rn46yAKY7RrXTurIuUnB61K8ys54oKQFPnjTsbzkhyPZhk9GW9Zwe9quxtiiNK+A/\n",
       "cO59uRjtdNmJuVIk6v+KgutzpUkf+ft/hzf33JWHjXoAAAAASUVORK5CYII=\n",
       "\" style=\"display:inline;vertical-align:middle;\" /></a><br>"
      ],
      "text/plain": [
       "partition_back: forall_{f, i, j | (j - i) in Naturals} ((f(i), ..f(a).., f(j)) =  \\\\ (f(i), ..f(a).., f(j - 1), f(j)))"
      ]
     },
     "execution_count": 27,
     "metadata": {},
     "output_type": "execute_result"
    }
   ],
   "source": [
    "partition_back = Forall((f, i, j), partition_back_equiv,\n",
    "                        conditions=[InSet(subtract(j, i),\n",
    "                                          Naturals)])"
   ]
  },
  {
   "cell_type": "code",
   "execution_count": 28,
   "metadata": {},
   "outputs": [
    {
     "data": {
      "text/html": [
       "<strong id=\"merge_back\"><a class=\"ProveItLink\" href=\"_proofs_/merge_back.ipynb\">merge_back</a>:</strong> <a class=\"ProveItLink\" href=\"__pv_it/8992efc5d0d2cbcd7394b417c0a0053ebc9252a10/expr.ipynb\"><img src=\"data:image/png;base64,iVBORw0KGgoAAAANSUhEUgAAAdkAAAAyBAMAAADinbzEAAAAMFBMVEX///+IiIgiIiIQEBB2dnbu\n",
       "7u5UVFTMzMzc3NwyMjK6urpmZmaYmJiqqqpEREQAAACk/Np2AAAAAXRSTlMAQObYZgAAAAlwSFlz\n",
       "AAAOxAAADsQBlSsOGwAACBxJREFUaN7NWl1sVEUUPrvduz/dve1iIiGpyNooShBTCf7EUFLR4oMS\n",
       "l4g/fZAuwcREja7UmPggXUV9MAh9ECWicQUSNRG6xQJK0RQfRCCh1yqEHw1FUm2MNu0DKfKTeM7M\n",
       "3Llzu/fO7ot7nWTuzj3zzdk5M3POzHy7AAGkZ2r/lauyEFCKDtqlgpTF5aNCioM3suBUe6mJbQ7K\n",
       "2qfsQsiSstn0qE9XbsyA5UhbFVV4qhkOyNhUxi79zJ797QBmG3a4JEzxSzYQYqMuJMlR1aqF9mh4\n",
       "qUnmgrF2U14UjB56Rp5uBejAQrgNEjrvkkAI9ahIkjNVW+mNKjzV3BqMtTfK4Wb+W3d6FOCAmPaS\n",
       "pp0KVJEkZ6qu2hWean4KJE6lWmQ32bOXemHL7tA0dAEVJMlJVf0FWeGlJlEKwtq6Nrv0OXsupY72\n",
       "CNGHmoYuoIJcKlRFWmSFl5r6i0FYO0euqH56fL/wWVzTOAIr+vBtmX87CYQV16tIJidViZzZlOUV\n",
       "nmq2BmHtXHBPzyR1FN2ubTsWDmsa2kAo1Q2qyEmhqnPw1/WiglXubqbkfN3ZABw3NiWLC9hxgN7D\n",
       "FsStr/W7og2EVKHRUpBMTqrOvm29UuAVnmo607W3NirjDNxDD3OCfLkIBpujbv+GNlDMUrdLTqq+\n",
       "PMTeu/3UNGQCCFI5t7WRjDDCpJC6XbPdZqS1u1Ukk5Oqef1sI9/upyYVQJjqlodk+IiNOFmfsCjI\n",
       "6FeyBPIde9glR1XGpfop+4g47OW3xpXaW/uwcxM4x+aavKkBH50WxttjAOWxxAAXEOKXQEEyOapK\n",
       "TRhXQ7yC5fJ0Z+2tPe8Ul8lzZATnpzeOs94Hxj8UUHBbZQX5pgDRLpBIIUdV0RFjKsIqeC5PvwGM\n",
       "0OcvtbN2iVPcxiIO2/nR9xquw8ItAM04ZWE698wH8Qjf5AKiXQ5SyFFVgwVN1/IKlj2WFcB++txS\n",
       "M2ONy045TLOylxVvFrsJGmOWL+Xj4ALS2nWQe6UqqSLuHX2HivAyIUZqt91OKkGyBGaOhSo46twT\n",
       "IuWN0KEdYNQayjpIIXfuAVSRHPQOkGl2O4pYNbPWvKq8jEF4lB98G3js2kjnwvL1gHPpALutBQrS\n",
       "lo/Z4I0iex0vSpDCcUjU8AY0pZJFkGriZhp8deGVDsrnJUVZApNNRQVpy1fZ4FGRPVIjhriFzc2L\n",
       "amdtSN3i445lG5hZhcoKNoAn0lZFFX5qGnFI9/mOxX+RIhcgsFSHi/4tiDuHOYMPS17BCP8/6Wr4\n",
       "BGiP2AiOqe8OOBmgtWHa57IRcgRjgNZCJC3j/Heii9yjUkUpoHQvJEVpbX8xRIeU1A2KoxWVPcHA\n",
       "61fSuRRMBGgtXkjMNAtS0SP5afNeVK19zBEIKgC3hdjM8aKZa4c98owPNthZFy9ew8H/D2uh5yBz\n",
       "4emuvQlUa/c7ApE2AwzgAJkHk7QfQlwxYz+obYc5uKqVHHeXqqfTOX1eqLiSYTl1xVyznCZsJlt7\n",
       "TbT/Hos3KdZmHAGmT9DTl0OI1r756mdpsjY18prc4RG84huXtctllNJfu2a7S9XT6dgnkfVRCtaz\n",
       "IMWuDZFOOowlTRKvfueRguxxvMcRYGrHGTrD9zgz336arI3OOn43fDuOaZDApVMua8/IHWhKe/Zg\n",
       "Kz55f7Y6Ol0AjfM0afRrQciqeLVuYA47QI832cXw0QjN0qLBmDO39SOOAG1/EtXvgi+4tckQQeoe\n",
       "kpEcwUb2QZe1uzxPF2Wpg9+Nuqyq6HQJ5OTpZtVjPPfb0jRK7BynXnGJxi/vU3zPzHFBjCZvjF0z\n",
       "18FhLFtm3mijpbBpQEY5M8f0JcfHl4z/xa1dJ+su6frDufHWXdmq6HQJbLTss/ZRHbxTxkq4i3ns\n",
       "hbwdsVIj2+KOtbERR0DtHqfF+RKfW9hJ3nWsPlMQKzlGTS56r+SYlkBgnBVjwauh0yWQ8epQl+XZ\n",
       "nzaRUcDAlivB7GkzcAC6sBhNr424opQUYDqFpRm4U/O9NZTDRqtjmTYlSsVaXNbOkF95Wdf9Hpto\n",
       "qopOl8D75IpMDGrwZ6VX0zW5yzJWF2KtADOxmChEDynWjoEU0IY6iyTxP+ge/T5CsNEWeC7v3G1w\n",
       "BOy2b3zcp1xRYJ4u6rDgvmZuqSo6XQLhPfhxD+c1IjmN+jkF5a4JwGw32YA6wY1bu6PsGobylePj\n",
       "4sRhuup22IM8ooBFWqPpDm/UmK6STreBxhXz5GI0oYdn3/SCJO5O5G0u4Hji0xaVQOAdTU7fuCPZ\n",
       "MnbBmaPCB13qGVsFD2k8K2zZRFM1dLoNBPPiztgW/MjwXJkkiswQ90i8NSabsqKoWAvt05oecb1N\n",
       "c5f2vj1+4G7Nlii48SrpdBsIycXMh2ITPPseuiarOJkVVJrTSdqNUAOuy1WydmmVdLoEhrc+wEJP\n",
       "C8++fh4Ae57U9Idz479XSadLYGexlya30kqOZmpvbb3meMG4cbgdKtHpQmQDhxCaphMCz7qgVvM0\n",
       "X7OB0myy3+ym0+kenLoDfB468zgwyTTPfmkoiL8iaL6UcePsN7vpdDpn0SWnzkQS+DeE+ohyL/Ds\n",
       "l+YGwg61+dcRZ8L/6qOn05nIBcT0ush+QxnIPxFSmvs8HupPJOQRH3zpdBK5geJKcUATFHKBECbv\n",
       "anpUgNs67BIlbzqdidxA/oOH7keP3mD+6djl71t4wjz4lXrW9KbTmcgNBHZHadBY1BoMGRbSnGU3\n",
       "uEvV0+kAP4jst9sGs5CVf3XWMp0KiulsGKz9dwb3j134s/Zf2cE8+l80HVUhOUu8rwAAAABJRU5E\n",
       "rkJggg==\n",
       "\" style=\"display:inline;vertical-align:middle;\" /></a><br>"
      ],
      "text/plain": [
       "merge_back: forall_{f, i, j, k | (k - i) in Naturals, k = (j + 1)} ((f(i), ..f(a).., f(j), f(k)) =  \\\\ (f(i), ..f(a).., f(k)))"
      ]
     },
     "execution_count": 28,
     "metadata": {},
     "output_type": "execute_result"
    }
   ],
   "source": [
    "merge_back = Forall((f, i, j, k), merge_back_equiv,\n",
    "                    conditions=[InSet(subtract(k, i),\n",
    "                                      Naturals),\n",
    "                                Equals(k, Add(j, one))])"
   ]
  },
  {
   "cell_type": "code",
   "execution_count": 29,
   "metadata": {},
   "outputs": [
    {
     "data": {
      "text/html": [
       "<strong id=\"merge_extension\"><a class=\"ProveItLink\" href=\"_proofs_/merge_extension.ipynb\">merge_extension</a>:</strong> <a class=\"ProveItLink\" href=\"__pv_it/7b87e8440be207f85cf2c7cc115e13fad2b828b90/expr.ipynb\"><img src=\"data:image/png;base64,iVBORw0KGgoAAAANSUhEUgAAAnsAAAAYBAMAAABw5SZ5AAAAMFBMVEX///+IiIgiIiIQEBB2dnbu\n",
       "7u5UVFTMzMzc3NwyMjK6urpmZmaYmJiqqqpEREQAAACk/Np2AAAAAXRSTlMAQObYZgAAAAlwSFlz\n",
       "AAAOxAAADsQBlSsOGwAABrVJREFUWMPlWV+IVFUY/2bmXmd2Zu40vkixCcOWGkSximZEC6O0voRw\n",
       "BdsSyR3xwYf+MLTRWzYUBYHlvFgRK4wpWFC6G1q6Gqwv4R+wQXJRCxwJa19aNFiqB6Hzfd85955z\n",
       "z8ydeRkJPNzv3Dvf+X33d853zvnOOXcA7lGqSeGUCbIezNohaz3RgEmomdZ65u7MUYN7lhJNFpmW\n",
       "Y5Yt9mTWDqm9ykwHpUTT8ojpQeiVuzMHSgsVv/bdfT9LATg+CuCVRe2mtDa1Swgkkz2+gdT1Rkqv\n",
       "sLpJJSQEyD3ns+lgZ9+AAYzlQJlB5Wf99p5bZwFwdo8AbBMPyTIM+DEmCGSTh0BHGno9jZ1aFPl+\n",
       "KWbaRvmmiSabPtoOo6UAGM8h5C0MDK1+uy83ywKQun4L4Axr81MxJghkExNp6Glmqx8JbNpFKWZi\n",
       "wpGjfmB6Ma66OjCG4yL3q9Pst/tSUgCO4Tgalup1MSYITAW/1nXQ48Qs6k1L+SxmIsLsIoSmqZiR\n",
       "bwBjOITkhV8H+h76vpICsBGrV5fqyRiTjYGJiTT1VtMGZllMf3DcKGmmFkaPG6XeOFDWDA2t7bv7\n",
       "jkuBH9e8IqaxCORbpjHGdLYgIJq4S1s6MqK3muZUWMzYgStHftfKKTJ1B4ttMGEKgN04UL4HuNV3\n",
       "900GA+iO7L3yIfFwPsbkjjTJwbMG0tRbTcvXWQC+HcK0MhxqDxTZ1MkOK0z7pIDdOFA+gEzYES/x\n",
       "6sxdFuRXZelVcGuJtoSe2EJWQXAgTZsF4QkpkPkbF90mZJqnxMPlzk0gIJqcg7s6MqK3muaVWIyU\n",
       "pOC+r8qmH+XqbTBaUsBuHCgF32ngOD2NPbSB2dAcCiDzfIOLxd0p2s7ZLpa1C+K+Cl2dU1tJgDeO\n",
       "NxJPScwzUsC7jaG3AS6Nonc6N4GAbLKoIyP63NDQIyL8VIKmpW+zmCsXthBuyJr4OLosjJYUsBsH\n",
       "ileklWPJhWrkJYH7xmTxGCkOR8lePQIuj99sGS90X3rZQsOrjMKJqPsoKmNrqGKHuoRvMsmVdGRE\n",
       "b40MnJjZ4bbu26hqcsNvg4msWr1w0DvqZ2m+Wye4wH0zsniGl6zoiv+PYGnw4366hPtOi77wzuag\n",
       "LDEHpEABHT0g5tJAJX7yEpBMkmUdGdHHTF499tHk/V3V5BOIn7wBsAsHvWMzbqC9XZvxFEejaMsP\n",
       "pvtKsrgE2WX2JnFubROSuJwJ/Wa6WpDAQOC9/WVRue+mFEhhPQoiG2+KsktiJtknFAiAZLIP+yZA\n",
       "RvR2WG+xmH1BkNWyJu5dhzCu7TjmUMBuHMTzHvnsEmajWAhT1wz3ZepcLO7OuA9eJPjhOz4UA9AT\n",
       "sF/oasEOoqyOXlfu26T2HhSVccE/lhEungb3X/F7HI90+BD8kkAy+QkzibT0VtNyRRYzElTUooOm\n",
       "2dt7CWPTMkcA7MZBPAUKeqfR7mUcja7/vOG+bIuLxf39y8A/9T2VcOdRgBccvh9F933N7sslFPYL\n",
       "KRyVs7hiPSweHgMYEh2exB55HGSWXBEAyeR1CJGWXmvakt/+2imsayzmtrmkFh0yvTlLGCIKabES\n",
       "xBECu3BoPJPhIJc7NOU+r8IqvIsRnY64D/dUc/K+h64WnF9YWGh6VbesNle4ltN6/h39XCU3IRgW\n",
       "7Nl7BRSQTFYbSFNvjAxK70oxExLmKuGugjFX7PXeN4HxHBrPeszGX1SLgeY+8td68pu7WLUmb6pK\n",
       "PqPFRU3eN3n0wTdF7cgvxKsc0M/reCp37ABUBgUUJq/lFzVkVG8c54OPA2esVwrCOV4/1MeHM0wU\n",
       "neWgA7txhDzuIrhluObAVuGnYWvpcPE9JfDqZUgUBXArqAzGcfaJ0gkhS+lqib0k0HYxEWzI50mS\n",
       "t3g4FnjUf4zrlL10CJ8r4Hz6Lm15FTKqt3fbrbYfkAThk9vCmjDGtT/XIkcA7Mah8YjokB6BsQdh\n",
       "oqkaHbhvXgaPeXB31kRNBHCiln4asxGOEeiOZVy1eXRf5g8MHp8GO2igxWQH5AfZby7r8bBon9zz\n",
       "KBK4A6ZndGRUb/vJZ4l2SQvOngxrwpi8bY4cIbALh8aDY9qjp6b6GBG477Ac8ocVvRfGCp6IuFme\n",
       "pEqiY8S1dWGhYfbYLItMe4mz+58F0sRCZjp9LzknJZr2RkzPQa/cnTnCdxTmqjKSev7nE5Ftc65G\n",
       "xeJOmxs95F6BP3fj/eTAETHjHR8v6PvH1/9dcpaqeZSH6RMR98EoFZPn6AA8qw32DRRAnO2DPp18\n",
       "L8D96L62gzfIXe084LYH+zLDe+3+8dF/ZSopGvO0vzcAAAAASUVORK5CYII=\n",
       "\" style=\"display:inline;vertical-align:middle;\" /></a><br>"
      ],
      "text/plain": [
       "merge_extension: forall_{f, i, j | |(f(i), ..f(a).., f(j))| in Naturals} ((f(i), ..f(a).., f(j), f(j + 1)) = (f(i), ..f(a).., f(j + 1)))"
      ]
     },
     "execution_count": 29,
     "metadata": {},
     "output_type": "execute_result"
    }
   ],
   "source": [
    "merge_extension = Forall((f, i, j), iter_ext_equiv.reversed(),\n",
    "                         conditions=[InSet(Len([f_i_to_j]), \n",
    "                                           Naturals)])"
   ]
  },
  {
   "cell_type": "code",
   "execution_count": 30,
   "metadata": {},
   "outputs": [
    {
     "data": {
      "text/html": [
       "<strong id=\"merge_pair\"><a class=\"ProveItLink\" href=\"_proofs_/merge_pair.ipynb\">merge_pair</a>:</strong> <a class=\"ProveItLink\" href=\"__pv_it/f382382616deefb42e9d57ed2468ac16c192ed7b0/expr.ipynb\"><img src=\"data:image/png;base64,iVBORw0KGgoAAAANSUhEUgAAAZsAAAAXBAMAAAAvs//cAAAAMFBMVEX///+IiIgiIiIQEBB2dnbu\n",
       "7u5UVFTMzMzc3NwyMjK6urpmZmaYmJiqqqpEREQAAACk/Np2AAAAAXRSTlMAQObYZgAAAAlwSFlz\n",
       "AAAOxAAADsQBlSsOGwAABLFJREFUWMPVV02IHEUUfjvb7fx3Zm/KGlgWTQRRJkERxIUxmIBIoAOi\n",
       "Lmh2IAcPogwEckyGCIKwmrkoIglMjBcvyaxEjWaVyUXWLGgjuhARskFWPMiyHpYkyILvVb2qft1d\n",
       "2wYmB33wNfXz1at6Va9evQa4K9JlaCnZT4aUpkJykCB273DaWGMX7pKMRRosO+lTaThIKGcZadmZ\n",
       "Ip69s2mFRsIqNfw6ojk/MQAu7geot3CmgVgfVJ8JmXA8TJluhAYJ4qSLA/kaCV9R0wejWeP3NAC8\n",
       "V2cAZrFQaEE5tIQDRyMm3AfwHmgkZTZJfMDFEeLUiDhGbrs6mjnVoQbA+C9rAIu6tTawhJnzIRNQ\n",
       "lhlJWcwQl/OmdGpE0B560WjmjDMALtCJNLn5cdNf2bQEKoQaSWlmiFlOLG6NiBqaWB7x6nzCANhH\n",
       "U/W4+bTp96YsAaU81Eiur5chZjhC3BoJe6enHxvRnIsM+Hbva+h2eKkPLZB/c3ftyK6BJvgT6NZe\n",
       "WyPpry1J9CcbDk4s22gkfAGwZnkvqW9RzwCiooJPl/s5TNrSaXsUf/Fetc5h4TvTv6PBhCo8hWvp\n",
       "aQB8Ok2yKz4KQ/QqTcNxi1sj4S0o0Tb4l0nh04pc6NA3AFEhuWr6UV7GkfaqP8KA0k0aEEEp+hIL\n",
       "P5r+Ux0mLMEW7sqURkIKkSS+U+05OELcGglB6PWx/Z6rndSQIB2O+fDp1IoTOPJj0/MkA+obdDH7\n",
       "4KtjOmH6r4Ml4BUubmgko0lfEkPa/QxHiFsjod5QkWBHJkVIm1Pti3baCPuwWHPUDaWV0SRwzozc\n",
       "ZyevIoEcqdJ0mmOJ10MHR4hboxrRu0LLO3KQ0gR1AIe+FuZwhfyB+605Nr6fYUBA/WVsLrels/1u\n",
       "SPS6CmeTdydKEN+HfGdza1QjDqrn93v67KdNhcE1YQ5Wqusof8Lb3G/NqZvLc4MB43RDA/zMRS2l\n",
       "Up/fHkOCU3gItVWNpCs0JNHf8hTHzxqSp1FpfVMdyWW6ya+QeX74XGyOqaCc535rTsWs6YCJyuqG\n",
       "Uri8UMLAsgD+bRsgNOEHco+GRvIhaUtiZWNeceYoeyIdVIhr22lUWoOOffP0HnHQDVKP4Yrq/2b9\n",
       "t/X1oTKnaMz5iKFvaIXiy/1YeAhgOjQBQhPeIPfoaiSf0akE8cZQcQoPYvlhGjMwnzyNQusT9Jl7\n",
       "UZVvSXNuGWc7zv1ZZ6NYruL556q6m39giEKTV9s24JOTnGQkZXeSyJyfs5l3jsZYq78JfguuefA8\n",
       "7npTmFNsilCA/cKcMeMxlGwi6u0zMnekDJH4K/qaI+H12iYnm4uZZS5Lok1KW9n0Jkfjojzs4gy8\n",
       "cC9g4j3WFuaM2VQj6FK/bi89+3eDGlj+UCis9QyR5F2Ki4hHZ5lU3KLHktJ3RwqPgyxRHy5y/EaG\n",
       "l6NRaKUtqatSZHK/IJUIVlqp9+gwyNJhqE1qO3ytllInGnzlkiEt0M9VEGqkH+lVQQTm1bKRLUdj\n",
       "rDVY6bCj1sMPj4plmwrJJZC5HIbt+D9/qMEyrzYofduZsMRIy3yKuPTvqW9KYzzCm2DDcUMWPhPm\n",
       "mIoiJfe01of/k5S2ecKse/wH1/wPZ/N1TlyD2T8AAAAASUVORK5CYII=\n",
       "\" style=\"display:inline;vertical-align:middle;\" /></a><br>"
      ],
      "text/plain": [
       "merge_pair: forall_{f, i, j | j = (i + 1)} ((f(i), f(j)) = (f(i), ..f(a).., f(j)))"
      ]
     },
     "execution_count": 30,
     "metadata": {},
     "output_type": "execute_result"
    }
   ],
   "source": [
    "merge_pair = Forall((f, i, j), Equals(ExprTuple(fi, fj), \n",
    "                                      ExprTuple(f_i_to_j)),\n",
    "                    conditions=[Equals(j, Add(i, one))])"
   ]
  },
  {
   "cell_type": "code",
   "execution_count": 31,
   "metadata": {},
   "outputs": [
    {
     "data": {
      "text/html": [
       "<strong id=\"merge_series\"><a class=\"ProveItLink\" href=\"_proofs_/merge_series.ipynb\">merge_series</a>:</strong> <a class=\"ProveItLink\" href=\"__pv_it/35155b3277c3a6cac066d9037013d5b897b293bc0/expr.ipynb\"><img src=\"data:image/png;base64,iVBORw0KGgoAAAANSUhEUgAAAroAAAAzBAMAAACK87YTAAAAMFBMVEX///+IiIgiIiIQEBB2dnbu\n",
       "7u5UVFTMzMzc3NwyMjK6urpmZmaYmJiqqqpEREQAAACk/Np2AAAAAXRSTlMAQObYZgAAAAlwSFlz\n",
       "AAAOxAAADsQBlSsOGwAACbtJREFUeNrtXH2MG0cVf/bt+ts+nwhR0dHGOlQV2kZcqqQNiCCnyiGg\n",
       "CnVKL6WKeudQQRGE1CiAxD/J0g8EAiX+pxISKXKbkyr+aOOjURtyERiKEKTAuVWbQEMVBxQIUZve\n",
       "SRw5CJcwb752Zj3rO5yNRXQ7ku3x3HtvZn47++a9344PIJAyOjoKYblamHzw8sVrEoFYLXib9hn2\n",
       "+c7lSwFZvPkaXV87robRb5R45ffLG91YUVad7iyY1LKFEF0sv5C1SLM7C0+ZGl8I0SUlcUFWX+vS\n",
       "hPGqRBshugQF6Rjsarc2njC5hnUhugAvyVq60a2Nl02NPwjRBVgra31d2+grGRoPOiG6kTlZ/VHX\n",
       "RpKmVZ+sh+hGy7J6iLy2rLxvU8fIwR743Fc3exutssnxzoXo7qnI6n7yqke2pwud5NOwMv9j8inV\n",
       "bOIAMrgfpodokUDbsyG6D7rV1QQmJzIfa8CmFb7yv4ZVDiZ3N8l1m1dSB638OUT3drf6YYA45KoI\n",
       "WKrlJ1+Bv7c3xmdMotPOckc3/h8NXYB+shT7KjDvrzLb3pQaNgmON5Y7upYC45MsjrJL+xzY4KuR\n",
       "modRsAfF1pdaKUgFr9+FvvJyRzenrLrTAGO1h8GCPSW4Fex2YRLV2udiM1CEdFbkddY4ac0YHUmu\n",
       "sNzR7VNw+RjAqa89D88iumtgnOBn/wtv8Cp/w2/ZC9uGU00Ytepc6fFXcdnmjffFDEOXdvGnANAN\n",
       "xlAPy3jdrT8NsG0ge7QJxDMsQPRG0nQLRsR18TZUAnsyf/J3LH/YfZ4UB1c8RB2T7cy/GbpH8OP7\n",
       "AaAbjKFehrvKqouKGJbtaq+35wduwtsv8LTniNYj5h1zlqH7dfKeaAWAbjCGelhOKYlZpi5D2BRx\n",
       "BMX2W92t7pKIV4ncUXNad5GhmyQXxWoGgG4whnpYpivKl7OismmQ+IB2X7rFra6UEG53fNfTPxm6\n",
       "GRKZJYPY1YIx1MOySvWYY5rXbBdWuJr9WnBQMhu/xGOG24aG1gYSMwRiqIflbhWYRGOJWslnhvXs\n",
       "2Fw+xNF9EeAMqLyE4CnS3Ls4Gm8R8UVXM7R4Sfv/iXT5GeVr5H8C7Q9iEsaxK7Z+VurmmqQHl6Q2\n",
       "xNH9FiQwsbCnGpyXEDxFjskd8/AW3P/Hb/kkvKusossNLTmYNzdvO0q73Cj94AqA+hJN4hwyNTEJ\n",
       "89hdWw9fzRvjfRzdXMmqkVrsWMU4fduL2AR5fWXnOThuldIlFV1u6ArR3fGM7DINnFWZWKJJnMNW\n",
       "Xq/7jH2it+hm80ktivNMP+1FjMQG6RcxccjXLc0zcENXiO6822VOxJ/JJd7DOIcjvN7yGbtrqzvP\n",
       "sMQiPANUf47QPLhZ8BKCp2DTj4KHtyBR13uxfuKNb+roMkMDh+9qz15Mjcx8ZPCxw2rr8bVN7PKp\n",
       "MpegrIon0PPqSC+LcyjwSbR8xu7autszJPdrQr4tUhwpnvDZ1WDzE5JxoLyE4CnY9L8DHt4iW7dp\n",
       "jHfCemBCRxcNRZydybag19jIzF8Xa1F+Ko255VuMFCFdjsxxCcqqZHXHK3Rk+SkqN+gcElU+iZZ5\n",
       "7IqtVborVE4mXE+vRn5RcLkKSnqlbxeYPkq905TkJQRPwab/HHh4i1QrRaOXE1C/QUcXDWXgdLw9\n",
       "6zY1MvONXF6bZLqOXSYeKLjorgEPoe3VkWUKR8cn0TKPXbE1rRth50UOjZB7gKRgkTrD2LegIFXZ\n",
       "XaKSHumLAt1cxY2RTzP31HCnf9zLW8RbmR+eP/82QffepI4uM3QB4LHXvH4AD73ERGNV9bv9FUhs\n",
       "/rjrGRu0y1yeLMi/kAVJWZW4JyHqx46+IDS0OD9bxkmQO+Gj5E4wjF2xdUrzyuy8iPXQBoD7gR4k\n",
       "6ejtUZCpvIelqbq0/Q+dgbxD8hJih2PT3+3lLbL1eJGt3dQrBgYyPpMg8HmOtmCjz662B5wkQUh4\n",
       "BrKLYZfj96m7msczoI7RM9xB8WOTaJnHrtjaoyUQ7LxI3xtnJHWQ6RQIoqA8YoKSurRgcWTfAPci\n",
       "L2EXBU8hdzWdt4jkWdJwTMm4XXQftaqWPQzriDFiib9hI2TEqZVX8q75xPAnoPhp5cgF+kzS5R8t\n",
       "LkFZlUjetWUXqQ78ls8mOwDqHMiuRskVsau1jT0iHWS/hgc7L3IQByKSsXUd0EVB94jJOq90dkFD\n",
       "N0Uc3a6mvd2JbxCoMXRzjoe3IA17yeJIfaCiBFUS3a3HNo4kCiSE39WMr4ddDr41sRG+fT8XebPu\n",
       "mrd3TKwoPeISgEi0Yg9brxMSyKrkcFTMFqlRncTj/PbIngR1DnCWDpKhaxp7Ti77qHaDsfMid6KZ\n",
       "qolQ8JQ7QT1ist8rHZnX0KULm26BWSHIsEsVPYpjZKCfOn+uPRN219AwrOfGaOG1X0JiamrqCHfP\n",
       "yqUha1dO+WXepSYxRkcllgUfcBG+S8zV4G86jTihxLumsbt0TUwjDPC8CPzqti8RH0G0tkwCfWDh\n",
       "V6ggqtgDLS6pScdmVHRzxyuCIX5d8BR8coc9vMWIH8/gFvS7Lt0sal/k3+9JedBNujvT2w/RLj1M\n",
       "xIjKZ/OaOJNvF2rqHCDtuLmaaezu8DNz6p/YVZjlG2vxAKn8psPaneUqafgIl9Sk2VMlga41IIm3\n",
       "huAp+PStbRpvkaktji7GDJk2Pq8gruu7PegqMcNG6hUtfbfGLhteLjAqvm8vqXPQr3772JXhxxfU\n",
       "TlbTkWBsE21CovkTUnnVH1wquJpyZAtcUpPel9djBoMF/qlP1YbF0TVG3m/WzeZNZfEurz/pS+V0\n",
       "NGR7I35R6ImGLN7QfTUiNUtDE38Wb0aqzHFJTbrXp0WyhwLN408Wr9zG823oWgWGLsPsQIdwtyBU\n",
       "6NGzA17pz0Jv0f0/LAdVJ0dz6xymrZi0J8udPQMVpCrRoskzhKf02KN0UWiW2ofukuSJMN4sUnBK\n",
       "Po6HClKVfTUOowplJjxhqgcNNKDah1EHnsg9iE+CJt0jI7TiHiBhglRlGt8m+Utet3KILqiPAZ+m\n",
       "1INISnJIsr6fHhJhSxzPjrADJDdKQaqyE5gkfUmf44TowrRy49N0kf3QjD8rIimnekhEi7dfkCpr\n",
       "uGSioMj8FUJ0IakEHiTRy5aflPki53WsdqUiCEGi8mXqXVBS/dVQai5El+QT65UvZyF6piqpFVL2\n",
       "gnZIROxqZD8TgmfjC9Eml9yrZmrNEF3GzSocRGaQwcqevVAmsNG+FeKLC47B5BEhqR42+DyE6IL2\n",
       "K2z1vMj3KIzOoupcBSVVafmwKSh0b71G//vFW1fDKP8PAqOjNwRk8Fr97xe5WvA2bf7T4XcuX/ov\n",
       "ESbAekrZi80AAAAASUVORK5CYII=\n",
       "\" style=\"display:inline;vertical-align:middle;\" /></a><br>"
      ],
      "text/plain": [
       "merge_series: forall_{f, i, j | (j - i) in Naturals} [forall_{x_{0}, ..x_{i}.., x_{j - i} | x_{0} = f(i + 0), ..x_{k} = f(i + k).., x_{j - i} = f(i + (j - i))} ((x_{0}, ..x_{i}.., x_{j - i}) =  \\\\ (f(i), ..f(a).., f(j)))]"
      ]
     },
     "execution_count": 31,
     "metadata": {},
     "output_type": "execute_result"
    }
   ],
   "source": [
    "merge_series = Forall((f, i, j), Forall(x_0_to_jmi, \n",
    "                                        merge_series_equiv,\n",
    "                                        conditions = [merge_series_conditions]),\n",
    "                      conditions=[InSet(subtract(j, i), Naturals)])"
   ]
  },
  {
   "cell_type": "code",
   "execution_count": 32,
   "metadata": {},
   "outputs": [
    {
     "data": {
      "text/html": [
       "<strong id=\"shift_equivalence\"><a class=\"ProveItLink\" href=\"_proofs_/shift_equivalence.ipynb\">shift_equivalence</a>:</strong> <a class=\"ProveItLink\" href=\"__pv_it/09d0eac3c6a87c5ea87a3afd41aea4e13964e1780/expr.ipynb\"><img src=\"data:image/png;base64,iVBORw0KGgoAAAANSUhEUgAAAzAAAAAZBAMAAAAcbdZLAAAAMFBMVEX///+IiIgiIiIQEBB2dnbu\n",
       "7u5UVFTMzMzc3NwyMjK6urpmZmaYmJiqqqpEREQAAACk/Np2AAAAAXRSTlMAQObYZgAAAAlwSFlz\n",
       "AAAOxAAADsQBlSsOGwAACQ5JREFUaN7tWn2MVNUVP7P73s6beTPDoEiNWw0O9ZNQ8asaA82IotUW\n",
       "86hKNX7MrCTtHyZ2lMT4R8M+NZIYLY4mEBIXs4BN01hhIKhYN3YwqVJQmDV2F6xJh+haanSLiZsq\n",
       "auI99/u++95bo/+spic58/a9e87vnXd+9+PcCwBRuaMSQopM0/x/+bZyQqUDmcpCu6GZ7tec6R8W\n",
       "cmXiyZ9pxIvzNlENw1Sb6d4S91goFNrk5/XvHTGZDlMup+JPvjy936nssplrDKppGCObv/ZbooIB\n",
       "ChXEdLHhHSPzJbwU20nEWB4zSt7iCuBfGUCxSpLaSkkmyq5lQA0hOxHlVUeVhu678xL7RLLwcJzz\n",
       "GgmECeXE/AWfbzQy7w+TSy5MIsbymEniNpkSuWp1B24m154q5IIUF+c3S4AaQoY4rgemFqpmmGvF\n",
       "I61Pi0yEczCuEQMUyom5F6e2rpH5bJ1c1iVOZZbHTBK/zZTIkm0BjLCnhVaKS+/bEyAMAfZztVA1\n",
       "w1lyaPzZMNufFpkI58U4VwxQKiMGOXI65iKCzC9PJMbymEnSy5XM11PkZxF/fHGKy/ZAM4TegKmF\n",
       "qhlul+2jplnKwJThnB7rerFSTgxecpHV/fWURb5pe8wk+RNX0nfIQpAXXzGU4rIUNEPItZlaqJrh\n",
       "FRBPTK6dMmHycLz/xboOKRVV2QWVykURYnorlfnV5Kos6jGTZBdXKKw6swU++YoVO3CCT/Z49YI7\n",
       "gRrCitMwgXWmFqpmuAFGnzOz6+06uRzjp81VIpzCsQgxj1x+Pw+QqyDmBYCJSOb9BpSCZGKiHjNJ\n",
       "huTwmFVmXbi6ldz8PcXlY9HXW73kt9BkCn6FSl0NOGHoflE8tNjM7tawNMX9EkSE09c1iclfCv8N\n",
       "WIBcBTFrwatHMk8erE3ZxzAPl5VtVvHns8shUlmGZnNGK3PCTFp6iedN+n3Zbk9AXsgV4DFi0NMB\n",
       "r4Or7Zspez6cW4ghFEJc1IvzmBqy0DAsfvpsdqORXXcx+HF+mvBwoLdsEnN9G3byALkKYkqBg+Wx\n",
       "+1Jb7SAn4FoddNV7L/9cI4Z5OOwNZxF9hf7p/pY+KLGhSyz28WYqtxJHVRsRZ36TXXAtnFiXIEyI\n",
       "5+UW2RyftytkFIl8GVeAf+FqPAwu7eiDKZ3gGDNEF9J1s8eYGnKZYegvZp1iZ6VyYaVyJsY3hUW5\n",
       "7acJDwcGQ9P1rwH8iAfIVRBTLNOVvG9fQxEzqtb+u+/6AM6GZSdpxHAPrRqhnwWHNWJWkkTWtbRm\n",
       "Z5Pe9LTu9DQHH3MCP1AglILoXJ2vKvy4doWsiFnKMYtYDm1NX5X5y7Hr5hcxtYmRhj1PXh1Z/Hu7\n",
       "UBuO8YuUGOh8YsT1p+Ae5wFylUcyzT10Dgy1M5dcQXRfnywo0M4eautHMsxDG6baEsmJIbtQX2Sa\n",
       "nSTMA3OfR24o+DvllqOB0JcOx27ddiW3S+RNXAHex8dk7sjV06eyUp0bAu26cirT15hNhmFteHvD\n",
       "zG6tSveNaVOZCOd913B1P2HlQMxUBsvxq4urlmuZdw6TD3VH5oTwQ5YJ3zgrQ4/8XIrbj190wOvH\n",
       "m3M1YkiIPaJZEiN3P+hMbij4+Nv3U2I4CArx3CwHxS17fsZ3Vedq7QyZhoBhSuQjXAHOxzeT/lXr\n",
       "kOF2AMCuZliK6KSPhuBh1y10mRpyxDA8SDDLJjEd+A9Z94ifa1MSGOF8kTGJ+RJKzUM0QKGSmAdp\n",
       "Dg7omfd+Qn5+2RgMXBbi3nGDGPRwavhCv4j3A7+/now395gixiOPHxbNkpiiWArQudhi4OPObXQi\n",
       "QhB/ksiH6LlsSmTvrCz5859A8VU7QwYepkIWZSdbqrF+3e6RD90B7meYwCb/UXd0VWaFLu26fpmp\n",
       "eZxiGN4FtUbVICZXLixwqJ8BTv+gPyqc4yvMwfY4vNKqYoBSJTElOi5fMo6P/02frIY8ncLcctUg\n",
       "Bj0eorPDjQ5m5KJ2FlPfVMTkSc63iWZJTF70RHTOdxn4OLRw/8BBqGwD7zYxK/it7CKKBZIKhQw8\n",
       "TIW8hStbqvMEpYTj8myACulIPehEfxbgH2eIVZkaskq2J2RqyBbD8CPI7AjMqmzg6rU/oH4Uc4H+\n",
       "FvpiFc7+qknMyjn3DTRogEIjx/5D1rn+cZgLhacmJz8Cxwm8INp8RG52vc9foCmsaisK6RtjrPnl\n",
       "yXcnJ9uUmGwX1mCfD9E522Xg43AD1hIchMoYHfXMdNZwhmCtUfggkLPYfpSGich8lmswBb8OqnTz\n",
       "cLjac9k/8Od5WVzSueoBroZQRGUICTv/BwSmWfYF0XBsVwxQaISYS6LEuJ/ChzdmaTKe/R04UWLc\n",
       "qYaoGQrdLfgvPD1/UMRgotaIksKeytC52GLg45AfBQ7CpyriWfsVN62Fpb8FdCoj+KpdFis0TIUs\n",
       "TgLH2HK+Xx1COvbsX8UetImfP/Z1DuI3joB2oqmdMSpDXcxDzBGGGS37IBqO7SrOXlFNYtwpa8Rc\n",
       "mj3eZlv8aosNZr252Ky6JIjVcAP0le9xyKWWsRZ/nGU0YjJl5Yw3E3xPMleAqMX9sLjpDQfJJ8xW\n",
       "+KAhyzAlMhxl+uObWTCMPjwqX2Ev/sSpZ4JPwOFgZyE/No85Oj+qGSZvVbsMMyL4YjMcW9ZpahKT\n",
       "n2cR88wbc9qwjoyLwq8HrttgDaiBMLsEc7q6kwv7XiOXvlM0Yo6yKOaKJ941n5dVXMQZbxA8f06D\n",
       "GHAQUcGGsPJkEdjI6C8QTuKDhizDVF98O9M9u9mLWI6xB9gHjAXU/pAb+v1YhONRVMxx1O2aYXLh\n",
       "HTDMiOCLzXBsmdDUJEb9i4V53uNeN/lB9EhGzZ50aeKVakffteCOD3eFQ+oJT5r2rTp4x95P6lF0\n",
       "DQuJDDYy1mCeIuFR+nHh9Idsj7LLXq7RwdCOGsbI3q/9FquLhEpNYkpjjXhi4s7K1OKZ++MisajK\n",
       "tZXR4JNX7MZmdXpGamAdaJm1QCrZHZ2mA9NCIMeDfcfFIMaZDd+AmLbfH4jBK8dwSabKuaXfyHdh\n",
       "OOkmOgM4kclkX8QiFfl7RYwmT6T/x7Enpvt/ZZ7aVgdxO+24m4TdctJtOvJ3XE6YT2qZyuKvAOp6\n",
       "39CKx3LGAAAAAElFTkSuQmCC\n",
       "\" style=\"display:inline;vertical-align:middle;\" /></a><br>"
      ],
      "text/plain": [
       "shift_equivalence: forall_{f} [forall_{a in Integers} [forall_{i, j, k, l | ((j + 1) - i) in Naturals, k = (i - a), l = (j - a)} ((f(i), ..f(a).., f(j)) = (f(k + a), ..f(i + a).., f(l + a)))]]"
      ]
     },
     "execution_count": 32,
     "metadata": {},
     "output_type": "execute_result"
    }
   ],
   "source": [
    "shift_equivalence = \\\n",
    "    Forall(f, Forall(a, Forall((i, j, k, l), \n",
    "                               shift_equiv,\n",
    "                               conditions = [InSet(subtract(Add(j, one), i), Naturals),\n",
    "                                             Equals(k, subtract(i, a)),\n",
    "                                             Equals(l, subtract(j, a))\n",
    "                                            ]),\n",
    "                     domain=Integers))"
   ]
  },
  {
   "cell_type": "code",
   "execution_count": 33,
   "metadata": {},
   "outputs": [
    {
     "data": {
      "text/html": [
       "<strong id=\"shift_equivalence_both\"><a class=\"ProveItLink\" href=\"_proofs_/shift_equivalence_both.ipynb\">shift_equivalence_both</a>:</strong> <a class=\"ProveItLink\" href=\"__pv_it/7942a32c1f900855d1776faf508a46b46bdede790/expr.ipynb\"><img src=\"data:image/png;base64,iVBORw0KGgoAAAANSUhEUgAAA9cAAAAZBAMAAADJU8BDAAAAMFBMVEX///+IiIgiIiIQEBB2dnbu\n",
       "7u5UVFTMzMzc3NwyMjK6urpmZmaYmJiqqqpEREQAAACk/Np2AAAAAXRSTlMAQObYZgAAAAlwSFlz\n",
       "AAAOxAAADsQBlSsOGwAACoJJREFUaN7tWm+MXFUVPzv73s7uvHnDtJZaXUnWqYUKQZcq0hDaTBsX\n",
       "E7HkrZaKMXZnrcEPIg6WGE2kHUSaqKWsJkViCy61Ro1Qd3HB0mKd+gHbonXaSKFU0yGyWBDXbeJm\n",
       "sWETzzn33vfuff9259tqvZkz896793fPeff37rnnnjcA4fLZUg1aKB2l5fD/Ms/LwlKDJVKGWuun\n",
       "679+JDqlyJLwqM9lBtTmpiEOkAadyw0kK+XafF3IRU/2ZVJEaWvEt3p09o6SoJArCkkGpELncgPJ\n",
       "SrkHSXaTKv5skF2gH7c+V7Jbaj7/ilsWAuB82AP4Ex50t8IkGFDY4s36PPmFATDWx0cbV4Sr+cpl\n",
       "qcYTFo233l+NRyqRZB+gyocMsp1hIrE2V7Jbaj7/yqekANy4uQE2Obb3xLXbmdaJD4V3xA6SJ8Qs\n",
       "AmB9fpU42hWB7YI4mFYIy8b/MQGpRJL9FXLrTYPsbAV/dszZjbfUfP6VZ6QArNrngaN5qMeMds+l\n",
       "dRKGQs7wdPkRISF3wG3aXxoXRzMR7AzEwbRCWDb+6QSkL4Js4t1qmGs2PcTr5r5mt9J8/pVeKZCb\n",
       "ouHTak6YA5syxSJQcM219lopZo/8/QtPHHEfBlZcuTbFdsKy8e9OQkqRZNNPVyhA+30LcVpXa83n\n",
       "XckNCcFHvge/fpZIdldKVBKBhsneLcUoArBWHlm9YSz3GoVpZa28gc7pJKQUFY2vKJU+GCK7vVRa\n",
       "Wp472a00n3fFKQuB/KbL0d+N4VLaXTTJ7hxbglesSmIfPhTsBc0Q2d9Zcw+t6VLM6Iq+nl3xBXHU\n",
       "VXG7PQPbNdjdiIEFhbFkfH4SEpBSFNm/AhgPke1UoeDNnexWms+7QhNWTNpLimIWWLlek+wf1Qro\n",
       "FvMpzktBwYEbQg51JfwTx+YoCAGnxKUSzNnz8mig/pd76wZ2YKf9poQllPPyBjpCj1iAlKLI3gad\n",
       "lRDZeGFbC/ts2fxWPs9GWsgI40X+gL5H0FzdrRDZULo1sPUYv82oMkvR12Eo0CBcF6M60xAC8AAh\n",
       "rwa43xkyyLZvAAfdotuTPAgKCkdUmKWG/RN1eAJ/TkoxytXsNqbl0dlvN75WM7BnPWLzZEo2ZVre\n",
       "QHsREpBSFNkFz6K9k32wHiRVxuGjeqebXjl0E/H4iDzvWH3TKyNaUkU0XyMGD+87L+IF+0v8I566\n",
       "/DB9AK5Q+46jNA/8ssY/+fLYcNuH6OAYTrJizFPDVVIFSLMcpSNQEILkh6U5OoCipGEhOEL0dT2A\n",
       "x/P0iVLpA6XS5TQZpyCDrjI7mTzqCorDPSWm79IVYvr+xuON3FYpRhGASXn0y98BmNinwf5XDEx7\n",
       "5iflDWytJSGlKLLdIsdnHceqAdkngoDrzjteh+XQdykdf45GavHEcKZm9Xsa2SfC8dn14ue0RvYG\n",
       "/gQU3LkQfZy+0tMJde5W+uBJehoqYcL2+hvUilLhSLNETxsgEUJ1pyMAg+y1yvKznjGz25swgA1y\n",
       "vemBkrDI6THn2GqwL9BKICU6ShxL0dF7x6qhAG0X5GZiYKG4kIx/WyJSip8uHTrMy05NS5d25dWU\n",
       "cnBJh3r2RZ7216EcpJkLd2/X06VBc+leJrUIRJJ9AET+xr9yMpyo2Ck6dw87QExwribA6/kFrJIq\n",
       "CsqsnVJHEoTqxiIAatEQAvAqfT2M8qAZjQ+UOWeR5sZ9KPsAbdhxgnHw5Ltxfc1mQKEijuwLuekQ\n",
       "ZW+RU0lz44wl41+1k5AhNw7r6L7dTes0sq3TOEj2M4tq8C4xujwhsucXe23C2Y+M6GRz80f5Bvp/\n",
       "TS6zeQ/XX6mNfA9/bIoSA7L93TmB1wF37t790yKNWAYn02KFZ1v8dEDGV1GQZomeDAUmhOqujADo\n",
       "QlEIwDX09TICZyyT7Aa8hkFCvgl2dLzFw6SguHoPm2TPQGEIo4XjIMQoDODl9mUKqO2ZNpOyC7Ti\n",
       "Eywa/QpLGEvGv5WEVOKTfS+zdFwL0KCTFs2PV7d6tmDqyAsc7ixrG9koFsD7qzrZ3LyPN/Ij5Cs7\n",
       "ljy/kiyaDMjuHKIPOO6QTvYZ1QuBzwB37lb7XiKyv4UP0YAnW5Mt4I44E1jeoCqpoiDN4p5MBRIC\n",
       "hwhTxzo2xwCwK6zIXZXYq+I2JTe53SC7q5i/Cul3ijCAfdv/BvnlnwXQIG+phv278NsRvJtREGLm\n",
       "WP3Y7kYKqO1py8TeDn9nmKnNP5NYMv5CfzzSF5/sAhN3UCcb/sZXNsv8m81TDZ+h/JBIIfZbejTO\n",
       "zTs/Q27O9iiSa/8Yx8TuUEB2rkkfuMUa0cnep/w+gfeJ/KRbddqaou6+kwpPtnAHXPb5KgrSLO7J\n",
       "VGBC8IDNMQBc0SNERDuwh+ZZ3YzGBz+y7e3oTmqQWYanV4H8ypCmkmdA4Y4Q2RsWfXUQDaV3/pH3\n",
       "/nv82A6PCg3ovtTEfpq91HKhhLUFupf5WDL+uXICUknoFedug2zhCxZD/pGJiX+AZXmdlNQbdipH\n",
       "cZo0oNwH9+lkK38o+3ngYFXlKxS1boU+tCvE2bkaZyeTvQWyNO/OMXgLcOdu1S6TDafYvcnWZAtk\n",
       "FXOnpIpDE3/FSUtmIRhCCkwI1qE5IQCXK6Q4FbWZiM+gfQPl+WhA7JnQa2IzaJ09QszCgKfCWkNY\n",
       "grlRP86WPOXfQBJSSYjs68Jk47b8jVuyzNfjXwcL9V3itTfu4ofphTr0hcke+CT/vElLQq6Hwr3M\n",
       "jwOycdR54DkOjLpxAp+Bu8TMhseL/CCAPVUVrdmWwI1v8VXQRCWzuCdDgYJIN451bI4B8F9woJwS\n",
       "UZr+3uGxyAuTaJ6QXFwA/WJ+KvZFCL3ocCLpVgS4lYch8rbDwBLMisYKZVBY/Q1NBKnEJNueiszs\n",
       "ldkLdZFcK4+go1kPGe+4SJVZjvB8BtmnLWwC2V67DIPZnjKeDLRFAjRyrRrZCzQwnnDnuFluq2An\n",
       "GVoHyrI129JWDAI0ViG4I7MQvD6kwIRgHZujAZRHqrG8T7zmhHNJCQx6gKL/JKDF0odmZzLxb713\n",
       "xL8XPAeZ8aFUrQLWHw3Q0BKFLdQgVSmJSbZPXkD2z/+wqA47aKd12+DND8LmRna0DJ20mj9726LX\n",
       "KmGyNyzBJshTdhU8BLdX8aTjnRrZ58Qd+fH1N384qt0jgvGEO9/zfWyAneA92IPKD7At/l3hAauQ\n",
       "wTWahWBUbigwIVjH5mgANW5NlsP7xenGpG0OvRWOXqYBDKCjB+LB4xDKSStAvruWqlXAoq9gyBKF\n",
       "tZvpSscjZAeOxMyP2DdPvC4PxUO7fmJiOJQuDUqDMrWu0V6RvVdkOHbr22DDTDoJOneDtEczGBst\n",
       "/wLBPluCG1EF2iDujQJk2S5FzuCEl1tHZs8cJ0EhXxOSDEiFzla2pyrlHgyyC6eq8WSHQpHY3LjW\n",
       "5Aeb/SjGby+G1anhp+snvXqCy9K7NE6ok/3hdFifX7vfX5cCMOqLKNAgTi0MuJiKQba1AGYjOw+z\n",
       "kp2H0Sd9p5MPpbNw3PucbmOMjyWeUCdhPvLDCQ+GAJO+sAINovEe1XZxka2V77X2v/GuWf83XvOT\n",
       "PnZs+inuJO6KndLYizYJn9uQru1/uSxcWif5D0XTgZmg6fA5AAAAAElFTkSuQmCC\n",
       "\" style=\"display:inline;vertical-align:middle;\" /></a><br>"
      ],
      "text/plain": [
       "shift_equivalence_both: forall_{f} [forall_{a in Integers, b in Integers} [forall_{i, j, k, l | ((j + 1) - i) in Naturals, (i + a) = (k + b), (j + a) = (l + b)} ((f(i + a), ..f(k + a).., f(j + a)) = (f(k + b), ..f(i + b).., f(l + b)))]]"
      ]
     },
     "execution_count": 33,
     "metadata": {},
     "output_type": "execute_result"
    }
   ],
   "source": [
    "shift_equivalence_both = \\\n",
    "    Forall(f, Forall((a, b), Forall((i, j, k, l), \n",
    "                                    shift_equiv_both,\n",
    "                                    conditions = [InSet(subtract(Add(j, one), i), Naturals),\n",
    "                                                  Equals(Add(i, a), Add(k, b)),\n",
    "                                                  Equals(Add(j, a), Add(l, b))\n",
    "                                                 ]),\n",
    "                     domain=Integers))"
   ]
  },
  {
   "cell_type": "code",
   "execution_count": 34,
   "metadata": {},
   "outputs": [
    {
     "data": {
      "text/html": [
       "<strong id=\"tuple_eq_via_elem_eq\"><a class=\"ProveItLink\" href=\"_proofs_/tuple_eq_via_elem_eq.ipynb\">tuple_eq_via_elem_eq</a>:</strong> <a class=\"ProveItLink\" href=\"__pv_it/69f91c87ee5ed8b72b85a899310e80392f3c9e610/expr.ipynb\"><img src=\"data:image/png;base64,iVBORw0KGgoAAAANSUhEUgAAAkoAAAAZBAMAAAA8iBzaAAAAMFBMVEX///+IiIgiIiIQEBB2dnbu\n",
       "7u5UVFTMzMzc3NwyMjK6urpmZmaYmJiqqqpEREQAAACk/Np2AAAAAXRSTlMAQObYZgAAAAlwSFlz\n",
       "AAAOxAAADsQBlSsOGwAABU9JREFUWMPlWV1oXEUUPpu9t3f37u7txsa8VGVZTYMEIRTRoFbWN61W\n",
       "rrUK0mp2Rd9EtgTEn4dsK/bFUlYhIATKVnzTh7UPFk3ErSBUs5VdQeNfMT6EQK2xBQM1GnDO/Nw7\n",
       "92fn3tZCtjhw7s7MOd/JnO/OnJm5AYgqzxZr8L8uieId0Ub1PhpwikvcUuvhIz6aemhfXyzdzCVu\n",
       "OdHDR3z0CcbSEv78rGTJwp9ca/NJypWYxF8snTAfz+xUo4Qe0dRDGz7B9jtKljIN8pPug+z0FJf4\n",
       "ZSbUx2wEalZCz1CWXsKluqRkySiTn2N9sODmucQvC6E+NiJQGxJ6gbKUtgG0jjovIZ97+oClcS7x\n",
       "S9IO8WGuqUGOHtEobciSfJOOyN7t/kjiZp3JFZR0K8SHVlCDHD2iUUj8O4vFOyNYShaLt5Y2n6VM\n",
       "iQm8+cAhtaVjoJVDfKQr2ztKaoUe0SiEpVMAyxEsZapg2ZvPkni15gT8oRyOa5ClU+9kEcsO4WNy\n",
       "Rr+sgjt6RGfZWjoCKUKX7t3CSh6WiMGR/zoPrgFLAx0mj7fgpNKQGWBIuUKIj19suKSCU71AoxCW\n",
       "LFsjO72WpwbG2G7YRkhrek+Vy7A7KgTjuLLPCsO8shTl1WORbDD5zIbbAA70zlDMAEMyLvrTOcF/\n",
       "DPqfKjjVCzQKYSmXF8n74Ivn4TvNztgBlroxkvdzyr5QlrZEJjuPhWDpftDXwRjsnYOpAVt74yEs\n",
       "zYK5oYKj3kGj0N3rNF8Up/AUnm9qEGApnc1HsnS3si+UpWQ1cieXLdIdKuRFZy+GLCancAN60i74\n",
       "8xLx8Q9k1hRwphdovuJgDzkOmcMAN6Fi8cdDGjw8NzbXkFnSfiDzS58fCp6/959+kK+uS8OBjCr1\n",
       "MZZ8LqYHnw+G6DHxWFh5KvoGWPXv6fD1YIg4UGqAIUHWv6bRxzomrt5wqnfQKMjS67jfTdo6dbio\n",
       "Pf1ecC6l7iKPvdXpAA/6qMGPYImRRDNwjXL7GEvCRWaVlAtwg709MExuEmYhNua34PNmiYY5SQan\n",
       "/wWs4raoAQmJuPGvAcS/AL+BCo56B42CLFlkVr/xDZj0ALYIzVuCLMEKkTmYIhcVL1GZpjHOTKx8\n",
       "tp5a9r84so/WJZZ8Ln6FL/0OmUlatnAaZoHJk0MvV6o0zIER0j2GW1dTPIo2NyAhkS7/7Ef8fjwO\n",
       "KeCod9AobXc42eOrq78TlvalQ1gCOhGHwXjXG9TWRqIs0mKm/OqIP1Vmyp655HNxD3zkd0hN3EIs\n",
       "pNYoFzflfBu880vvAOBwQD8aEy7Qh6XvS/pa1SixuWR2A+clZnIZLjwBA96gJmvWF3YXp/VWO9kB\n",
       "H0vY1827LDku+Hpag11+h9QkNyhZkAb4bp9umMFNUgM3pLC78UI8uIOel1jK1UvsBP4VeN6lPJcm\n",
       "jPUWBrUP9JJ4JGvTH8C5JqkN2F8DsuTqWN+5pjSXhAteRkhqJC0XQh5okvtJsnAbYNWYOGHqwa33\n",
       "MZBCCvnYIfARcIGmHpy5VKnBMcKeeXvVv2k7LL1/doiGONUxJmCqho+OOd99BBMb6fuwRFkydnFd\n",
       "jfVZVYkl4YKX14YAWy6E1KjJimyx4k60JSb0w+xDf+chG9yknOsthhRyr+L4KLhAUw/yF1390dXz\n",
       "kV90MUT3qshqe01RwxWX82pR6T0vedcYtlwIq+mFhjQsqXGUS9xyJqTv6BWhz1zNd29j26dSfuS1\n",
       "LTfy2sF7O1JGZH1E6WUJXXgdSkmU1yoykZVNv2hfzX8HssqaO+U989lS/YlWSK2fSgyW3r4m/49L\n",
       "wXVbEsX7/gWanbMG55HFIgAAAABJRU5ErkJggg==\n",
       "\" style=\"display:inline;vertical-align:middle;\" /></a><br>"
      ],
      "text/plain": [
       "tuple_eq_via_elem_eq: forall_{i in NaturalsPos} [forall_{a_{1}, ..a_{_a}.., a_{i}, b_{1}, ..b_{_a}.., b_{i} | a_{1} = b_{1}, ..a_{k} = b_{k}.., a_{i} = b_{i}} ((a_{1}, ..a_{_a}.., a_{i}) = (b_{1}, ..b_{_a}.., b_{i}))]"
      ]
     },
     "execution_count": 34,
     "metadata": {},
     "output_type": "execute_result"
    }
   ],
   "source": [
    "tuple_eq_via_elem_eq = Forall(i, Forall((a_1_to_i, b_1_to_i),\n",
    "                                        Equals(ExprTuple(a_1_to_i), ExprTuple(b_1_to_i)),\n",
    "                                        conditions=[ExprRange(k, Equals(IndexedVar(a, k),\n",
    "                                                                        IndexedVar(b, k)),\n",
    "                                                              one, i)]),\n",
    "                              domain=NaturalsPos)"
   ]
  },
  {
   "cell_type": "code",
   "execution_count": 35,
   "metadata": {},
   "outputs": [
    {
     "name": "stdout",
     "output_type": "stream",
     "text": [
      "Modifying theorem tuple_len in proveit.core_expr_types.tuples context\n",
      "Modifying theorem range_len in proveit.core_expr_types.tuples context\n",
      "Modifying theorem range_len_typical_equiv in proveit.core_expr_types.tuples context\n",
      "Modifying theorem range_len_in_nats in proveit.core_expr_types.tuples context\n",
      "Modifying theorem range_from1_len in proveit.core_expr_types.tuples context\n",
      "Modifying theorem range_from1_len_typical_equiv in proveit.core_expr_types.tuples context\n",
      "Modifying theorem range_from1_len_in_nats in proveit.core_expr_types.tuples context\n",
      "Modifying theorem extended_range_len in proveit.core_expr_types.tuples context\n",
      "Modifying theorem extended_range_len_typical_equiv in proveit.core_expr_types.tuples context\n",
      "Modifying theorem extended_range_from1_len in proveit.core_expr_types.tuples context\n",
      "Modifying theorem extended_range_from1_len_typical_equiv in proveit.core_expr_types.tuples context\n",
      "Modifying theorem general_len in proveit.core_expr_types.tuples context\n",
      "Modifying theorem len_of_ranges_with_repeated_indices in proveit.core_expr_types.tuples context\n",
      "Modifying theorem len_of_ranges_with_repeated_indices_from_1 in proveit.core_expr_types.tuples context\n",
      "Adding theorem len_of_empty_range_of_ranges to proveit.core_expr_types.tuples context\n",
      "Modifying theorem singular_range_reduction in proveit.core_expr_types.tuples context\n",
      "Modifying theorem empty_range_of_range in proveit.core_expr_types.tuples context\n",
      "Modifying theorem singular_nested_range_reduction in proveit.core_expr_types.tuples context\n",
      "Modifying theorem partition in proveit.core_expr_types.tuples context\n",
      "Modifying theorem merge in proveit.core_expr_types.tuples context\n",
      "Modifying theorem partition_front in proveit.core_expr_types.tuples context\n",
      "Modifying theorem merge_front in proveit.core_expr_types.tuples context\n",
      "Modifying theorem partition_back in proveit.core_expr_types.tuples context\n",
      "Modifying theorem merge_back in proveit.core_expr_types.tuples context\n",
      "Modifying theorem merge_extension in proveit.core_expr_types.tuples context\n",
      "Modifying theorem merge_pair in proveit.core_expr_types.tuples context\n",
      "Modifying theorem merge_series in proveit.core_expr_types.tuples context\n",
      "Modifying theorem shift_equivalence in proveit.core_expr_types.tuples context\n",
      "Modifying theorem shift_equivalence_both in proveit.core_expr_types.tuples context\n",
      "Modifying theorem tuple_eq_via_elem_eq in proveit.core_expr_types.tuples context\n",
      "tuple_len expression notebook is being updated\n",
      "range_len expression notebook is being updated\n",
      "range_len_typical_equiv expression notebook is being updated\n",
      "range_len_in_nats expression notebook is being updated\n",
      "range_from1_len expression notebook is being updated\n",
      "range_from1_len_typical_equiv expression notebook is being updated\n",
      "range_from1_len_in_nats expression notebook is being updated\n",
      "extended_range_len expression notebook is being updated\n",
      "extended_range_len_typical_equiv expression notebook is being updated\n",
      "extended_range_from1_len expression notebook is being updated\n",
      "extended_range_from1_len_typical_equiv expression notebook is being updated\n",
      "general_len expression notebook is being updated\n",
      "len_of_ranges_with_repeated_indices expression notebook is being updated\n",
      "len_of_ranges_with_repeated_indices_from_1 expression notebook is being updated\n",
      "len_of_empty_range_of_ranges expression notebook is being updated\n",
      "singular_range_reduction expression notebook is being updated\n",
      "empty_range_of_range expression notebook is being updated\n",
      "singular_nested_range_reduction expression notebook is being updated\n",
      "partition expression notebook is being updated\n",
      "merge expression notebook is being updated\n",
      "partition_front expression notebook is being updated\n",
      "merge_front expression notebook is being updated\n",
      "partition_back expression notebook is being updated\n",
      "merge_back expression notebook is being updated\n",
      "merge_extension expression notebook is being updated\n",
      "merge_pair expression notebook is being updated\n",
      "merge_series expression notebook is being updated\n",
      "shift_equivalence expression notebook is being updated\n",
      "shift_equivalence_both expression notebook is being updated\n",
      "tuple_eq_via_elem_eq expression notebook is being updated\n",
      "Theorems may be imported from autogenerated _theorems_.py\n"
     ]
    }
   ],
   "source": [
    "%end theorems"
   ]
  },
  {
   "cell_type": "code",
   "execution_count": null,
   "metadata": {},
   "outputs": [],
   "source": []
  }
 ],
 "metadata": {
  "kernelspec": {
   "display_name": "Python 3",
   "language": "python",
   "name": "python3"
  },
  "language_info": {
   "codemirror_mode": {
    "name": "ipython",
    "version": 3
   },
   "file_extension": ".py",
   "mimetype": "text/x-python",
   "name": "python",
   "nbconvert_exporter": "python",
   "pygments_lexer": "ipython3",
   "version": "3.7.3"
  }
 },
 "nbformat": 4,
 "nbformat_minor": 1
}
