{
 "cells": [
  {
   "cell_type": "markdown",
   "metadata": {},
   "source": [
    "Expression of type <a class=\"ProveItLink\" href=\"../../../../../../doc/html/api/proveit.Lambda.html\">Lambda</a>\n",
    "=======================\n",
    "# from context <a class=\"ProveItLink\" href=\"../../_context_.ipynb\">proveit.core_expr_types.conditionals</a>"
   ]
  },
  {
   "cell_type": "code",
   "execution_count": 1,
   "metadata": {},
   "outputs": [],
   "source": [
    "import proveit\n",
    "# Automation is not needed when building an expression:\n",
    "proveit.defaults.automation = False # This will speed things up.\n",
    "proveit.defaults.inline_pngs = False # Makes files smaller.\n",
    "# import Expression classes needed to build the expression\n",
    "from proveit import Conditional, Lambda\n",
    "from proveit._common_ import a\n",
    "from proveit.core_expr_types._common_ import Q_1_to_m, R_1_to_n\n",
    "from proveit.logic import And, Equals"
   ]
  },
  {
   "cell_type": "code",
   "execution_count": 2,
   "metadata": {},
   "outputs": [
    {
     "data": {
      "text/html": [
       "<strong id=\"expr\">expr:</strong> <a class=\"ProveItLink\" href=\"../68863e6a918841bb4d2d54b68b7c8ec452f7f5d70/expr.ipynb\"><img src=\"../68863e6a918841bb4d2d54b68b7c8ec452f7f5d70/expr.png\" style=\"display:inline;vertical-align:middle;\" /></a><br>"
      ],
      "text/plain": [
       "expr: (a, Q_{1}, ..Q_{_a}.., Q_{m}, R_{1}, ..R_{_a}.., R_{n}) -> ({a if Q_{1} and ..Q_{_a}.. and Q_{m} ,  R_{1} and ..R_{_a}.. and R_{n}. \\\\  = {a if Q_{1} ,  ..Q_{_a}.. ,  Q_{m} ,  R_{1} ,  ..R_{_a}.. ,  R_{n}.)"
      ]
     },
     "execution_count": 2,
     "metadata": {},
     "output_type": "execute_result"
    }
   ],
   "source": [
    "# build up the expression from sub-expressions\n",
    "expr = Lambda([a, Q_1_to_m, R_1_to_n], Equals(Conditional(a, And(And(Q_1_to_m), And(R_1_to_n))), Conditional(a, And(Q_1_to_m, R_1_to_n))).withWrappingAt(1))"
   ]
  },
  {
   "cell_type": "code",
   "execution_count": 3,
   "metadata": {},
   "outputs": [
    {
     "name": "stdout",
     "output_type": "stream",
     "text": [
      "Passed sanity check: built 'expr' is the same as the stored Expression.\n"
     ]
    }
   ],
   "source": [
    "# check that the built expression is the same as the stored expression\n",
    "%check_expr"
   ]
  },
  {
   "cell_type": "code",
   "execution_count": 4,
   "metadata": {},
   "outputs": [
    {
     "name": "stdout",
     "output_type": "stream",
     "text": [
      "\\left(a, Q_{1}, \\ldots, Q_{m}, R_{1}, \\ldots, R_{n}\\right) \\mapsto \\left(\\begin{array}{c} \\left\\{a \\textrm{ if } Q_{1} \\land \\ldots \\land Q_{m} ,  R_{1} \\land \\ldots \\land R_{n}\\right.. \\\\  = \\left\\{a \\textrm{ if } Q_{1} ,  \\ldots ,  Q_{m} ,  R_{1} ,  \\ldots ,  R_{n}\\right.. \\end{array}\\right)\n"
     ]
    }
   ],
   "source": [
    "# Show the LaTeX representation of the expression for convenience if you need it.\n",
    "print(expr.latex())"
   ]
  },
  {
   "cell_type": "code",
   "execution_count": 5,
   "metadata": {},
   "outputs": [
    {
     "data": {
      "text/html": [
       "<table><tr><th>&nbsp;</th><th>core type</th><th>sub-expressions</th><th>expression</th></tr>\n",
       "<tr><td>0</td><td>Lambda</td><td>parameters:&nbsp;1<br>body:&nbsp;2<br></td><td><a class=\"ProveItLink\" href=\"../68863e6a918841bb4d2d54b68b7c8ec452f7f5d70/expr.ipynb\"><img src=\"../68863e6a918841bb4d2d54b68b7c8ec452f7f5d70/expr.png\" style=\"display:inline;vertical-align:middle;\" /></a></td></tr>\n",
       "<tr><td>1</td><td>ExprTuple</td><td>8, 17, 18</td><td><a class=\"ProveItLink\" href=\"../1564d4fa569eb61bd0ed3a97559b8b71788f6df00/expr.ipynb\"><img src=\"../1564d4fa569eb61bd0ed3a97559b8b71788f6df00/expr.png\" style=\"display:inline;vertical-align:middle;\" /></a></td></tr>\n",
       "<tr><td>2</td><td>Operation</td><td>operator:&nbsp;3<br>operands:&nbsp;4<br></td><td><a class=\"ProveItLink\" href=\"../7e95d81c25919436a1cd00d887463668ec53815a0/expr.ipynb\"><img src=\"../7e95d81c25919436a1cd00d887463668ec53815a0/expr.png\" style=\"display:inline;vertical-align:middle;\" /></a></td></tr>\n",
       "<tr><td>3</td><td>Literal</td><td></td><td><a class=\"ProveItLink\" href=\"../../../../logic/equality/__pv_it/e16d2caa26a16688b658bdb9c422caf4b84579e10/expr.ipynb\"><img src=\"../../../../logic/equality/__pv_it/e16d2caa26a16688b658bdb9c422caf4b84579e10/expr.png\" style=\"display:inline;vertical-align:middle;\" /></a></td></tr>\n",
       "<tr><td>4</td><td>ExprTuple</td><td>5, 6</td><td><a class=\"ProveItLink\" href=\"../a00a19b1b529517130d45af52682c56098b6784b0/expr.ipynb\"><img src=\"../a00a19b1b529517130d45af52682c56098b6784b0/expr.png\" style=\"display:inline;vertical-align:middle;\" /></a></td></tr>\n",
       "<tr><td>5</td><td>Conditional</td><td>value:&nbsp;8<br>condition:&nbsp;7<br></td><td><a class=\"ProveItLink\" href=\"../eaa0abc8f30d8b0348556c452133f5bef818563f0/expr.ipynb\"><img src=\"../eaa0abc8f30d8b0348556c452133f5bef818563f0/expr.png\" style=\"display:inline;vertical-align:middle;\" /></a></td></tr>\n",
       "<tr><td>6</td><td>Conditional</td><td>value:&nbsp;8<br>condition:&nbsp;9<br></td><td><a class=\"ProveItLink\" href=\"../771774efc66b5f4284273f80f0b45d0908061c260/expr.ipynb\"><img src=\"../771774efc66b5f4284273f80f0b45d0908061c260/expr.png\" style=\"display:inline;vertical-align:middle;\" /></a></td></tr>\n",
       "<tr><td>7</td><td>Operation</td><td>operator:&nbsp;15<br>operands:&nbsp;10<br></td><td><a class=\"ProveItLink\" href=\"../f889408aa2c8c821fe33245b86647622e9c244130/expr.ipynb\"><img src=\"../f889408aa2c8c821fe33245b86647622e9c244130/expr.png\" style=\"display:inline;vertical-align:middle;\" /></a></td></tr>\n",
       "<tr><td>8</td><td>Variable</td><td></td><td><a class=\"ProveItLink\" href=\"../../../../__pv_it/a8d4b3a34d2189508f9082853fbac36935714f280/expr.ipynb\"><img src=\"../../../../__pv_it/a8d4b3a34d2189508f9082853fbac36935714f280/expr.png\" style=\"display:inline;vertical-align:middle;\" /></a></td></tr>\n",
       "<tr><td>9</td><td>Operation</td><td>operator:&nbsp;15<br>operands:&nbsp;11<br></td><td><a class=\"ProveItLink\" href=\"../bfb4620468985e2852f5eb275b7586b14b855e8a0/expr.ipynb\"><img src=\"../bfb4620468985e2852f5eb275b7586b14b855e8a0/expr.png\" style=\"display:inline;vertical-align:middle;\" /></a></td></tr>\n",
       "<tr><td>10</td><td>ExprTuple</td><td>12, 13</td><td><a class=\"ProveItLink\" href=\"../ca89f4ecac2436c405d87ac374bd48c43e5639b20/expr.ipynb\"><img src=\"../ca89f4ecac2436c405d87ac374bd48c43e5639b20/expr.png\" style=\"display:inline;vertical-align:middle;\" /></a></td></tr>\n",
       "<tr><td>11</td><td>ExprTuple</td><td>17, 18</td><td><a class=\"ProveItLink\" href=\"../59c73ec7298b25503e096a742f053971ca3c447e0/expr.ipynb\"><img src=\"../59c73ec7298b25503e096a742f053971ca3c447e0/expr.png\" style=\"display:inline;vertical-align:middle;\" /></a></td></tr>\n",
       "<tr><td>12</td><td>Operation</td><td>operator:&nbsp;15<br>operands:&nbsp;14<br></td><td><a class=\"ProveItLink\" href=\"../7875c5825364e3f6725c8add9904ea9ca0c8c7580/expr.ipynb\"><img src=\"../7875c5825364e3f6725c8add9904ea9ca0c8c7580/expr.png\" style=\"display:inline;vertical-align:middle;\" /></a></td></tr>\n",
       "<tr><td>13</td><td>Operation</td><td>operator:&nbsp;15<br>operands:&nbsp;16<br></td><td><a class=\"ProveItLink\" href=\"../e96a6ce69bf554c26a26a3ad435d8ca23424259f0/expr.ipynb\"><img src=\"../e96a6ce69bf554c26a26a3ad435d8ca23424259f0/expr.png\" style=\"display:inline;vertical-align:middle;\" /></a></td></tr>\n",
       "<tr><td>14</td><td>ExprTuple</td><td>17</td><td><a class=\"ProveItLink\" href=\"../f035ac946b546d3249b80fe09ae55a8e7d19ffc10/expr.ipynb\"><img src=\"../f035ac946b546d3249b80fe09ae55a8e7d19ffc10/expr.png\" style=\"display:inline;vertical-align:middle;\" /></a></td></tr>\n",
       "<tr><td>15</td><td>Literal</td><td></td><td><a class=\"ProveItLink\" href=\"../../../../logic/boolean/conjunction/__pv_it/f41cc6b553210927c09f19a8a39cdf860a5585930/expr.ipynb\"><img src=\"../../../../logic/boolean/conjunction/__pv_it/f41cc6b553210927c09f19a8a39cdf860a5585930/expr.png\" style=\"display:inline;vertical-align:middle;\" /></a></td></tr>\n",
       "<tr><td>16</td><td>ExprTuple</td><td>18</td><td><a class=\"ProveItLink\" href=\"../21cc81b60a605df2da75fe1966471dc562c0782e0/expr.ipynb\"><img src=\"../21cc81b60a605df2da75fe1966471dc562c0782e0/expr.png\" style=\"display:inline;vertical-align:middle;\" /></a></td></tr>\n",
       "<tr><td>17</td><td>ExprRange</td><td>lambda_map:&nbsp;19<br>start_index:&nbsp;22<br>end_index:&nbsp;20<br></td><td><a class=\"ProveItLink\" href=\"../../../__pv_it/157c0aec227073263e35e1a5104873dccf880cd50/expr.ipynb\"><img src=\"../../../__pv_it/157c0aec227073263e35e1a5104873dccf880cd50/expr.png\" style=\"display:inline;vertical-align:middle;\" /></a></td></tr>\n",
       "<tr><td>18</td><td>ExprRange</td><td>lambda_map:&nbsp;21<br>start_index:&nbsp;22<br>end_index:&nbsp;23<br></td><td><a class=\"ProveItLink\" href=\"../../../__pv_it/e7cf71d1173bd34472aca8f19fdd2be36584d8800/expr.ipynb\"><img src=\"../../../__pv_it/e7cf71d1173bd34472aca8f19fdd2be36584d8800/expr.png\" style=\"display:inline;vertical-align:middle;\" /></a></td></tr>\n",
       "<tr><td>19</td><td>Lambda</td><td>parameter:&nbsp;28<br>body:&nbsp;24<br></td><td><a class=\"ProveItLink\" href=\"../../../__pv_it/11292d1237f77d44ad4f5db9d3e2671c61cd855b0/expr.ipynb\"><img src=\"../../../__pv_it/11292d1237f77d44ad4f5db9d3e2671c61cd855b0/expr.png\" style=\"display:inline;vertical-align:middle;\" /></a></td></tr>\n",
       "<tr><td>20</td><td>Variable</td><td></td><td><a class=\"ProveItLink\" href=\"../../../../__pv_it/6e8a38e9a7e2b6af352562cd77e0eb4751f142620/expr.ipynb\"><img src=\"../../../../__pv_it/6e8a38e9a7e2b6af352562cd77e0eb4751f142620/expr.png\" style=\"display:inline;vertical-align:middle;\" /></a></td></tr>\n",
       "<tr><td>21</td><td>Lambda</td><td>parameter:&nbsp;28<br>body:&nbsp;25<br></td><td><a class=\"ProveItLink\" href=\"../../../__pv_it/63dc60a3bb008212be3a2032cc59408d30c88d4b0/expr.ipynb\"><img src=\"../../../__pv_it/63dc60a3bb008212be3a2032cc59408d30c88d4b0/expr.png\" style=\"display:inline;vertical-align:middle;\" /></a></td></tr>\n",
       "<tr><td>22</td><td>Literal</td><td></td><td><a class=\"ProveItLink\" href=\"../../../../number/numeral/__pv_it/f086f8c372bd40a2458306ddfdbb29f3dc6f63030/expr.ipynb\"><img src=\"../../../../number/numeral/__pv_it/f086f8c372bd40a2458306ddfdbb29f3dc6f63030/expr.png\" style=\"display:inline;vertical-align:middle;\" /></a></td></tr>\n",
       "<tr><td>23</td><td>Variable</td><td></td><td><a class=\"ProveItLink\" href=\"../../../../__pv_it/0c1c4cb515e0f4344b1ac06650f349123e526deb0/expr.ipynb\"><img src=\"../../../../__pv_it/0c1c4cb515e0f4344b1ac06650f349123e526deb0/expr.png\" style=\"display:inline;vertical-align:middle;\" /></a></td></tr>\n",
       "<tr><td>24</td><td>IndexedVar</td><td>variable:&nbsp;26<br>index:&nbsp;28<br></td><td><a class=\"ProveItLink\" href=\"../../../__pv_it/467d61a1b1534f550eeb25f48454e5d1b31677cd0/expr.ipynb\"><img src=\"../../../__pv_it/467d61a1b1534f550eeb25f48454e5d1b31677cd0/expr.png\" style=\"display:inline;vertical-align:middle;\" /></a></td></tr>\n",
       "<tr><td>25</td><td>IndexedVar</td><td>variable:&nbsp;27<br>index:&nbsp;28<br></td><td><a class=\"ProveItLink\" href=\"../../../__pv_it/adcb293ddf83ed2a5c74e3e820fa8c7e0cd863fe0/expr.ipynb\"><img src=\"../../../__pv_it/adcb293ddf83ed2a5c74e3e820fa8c7e0cd863fe0/expr.png\" style=\"display:inline;vertical-align:middle;\" /></a></td></tr>\n",
       "<tr><td>26</td><td>Variable</td><td></td><td><a class=\"ProveItLink\" href=\"../../../../__pv_it/dbe7145e53d9411a5ba89652cbfea9d54e4b581a0/expr.ipynb\"><img src=\"../../../../__pv_it/dbe7145e53d9411a5ba89652cbfea9d54e4b581a0/expr.png\" style=\"display:inline;vertical-align:middle;\" /></a></td></tr>\n",
       "<tr><td>27</td><td>Variable</td><td></td><td><a class=\"ProveItLink\" href=\"../../../../__pv_it/0a2bba13f1df910578e611e3c0100cd5999bfe270/expr.ipynb\"><img src=\"../../../../__pv_it/0a2bba13f1df910578e611e3c0100cd5999bfe270/expr.png\" style=\"display:inline;vertical-align:middle;\" /></a></td></tr>\n",
       "<tr><td>28</td><td>Variable</td><td></td><td><a class=\"ProveItLink\" href=\"../../../__pv_it/1e653f789234b245ee7fea7caad998c139d617410/expr.ipynb\"><img src=\"../../../__pv_it/1e653f789234b245ee7fea7caad998c139d617410/expr.png\" style=\"display:inline;vertical-align:middle;\" /></a></td></tr>\n",
       "</table>\n"
      ],
      "text/plain": [
       "0. (a, Q_{1}, ..Q_{_a}.., Q_{m}, R_{1}, ..R_{_a}.., R_{n}) -> ({a if Q_{1} and ..Q_{_a}.. and Q_{m} ,  R_{1} and ..R_{_a}.. and R_{n}. \\\\  = {a if Q_{1} ,  ..Q_{_a}.. ,  Q_{m} ,  R_{1} ,  ..R_{_a}.. ,  R_{n}.)\n",
       "   core type: Lambda\n",
       "   parameters: 1\\n   body: 2\n",
       "1. (a, Q_{1}, ..Q_{_a}.., Q_{m}, R_{1}, ..R_{_a}.., R_{n})\n",
       "   core type: ExprTuple\n",
       "   sub-expressions: 8, 17, 18\n",
       "2. {a if Q_{1} and ..Q_{_a}.. and Q_{m} ,  R_{1} and ..R_{_a}.. and R_{n}. \\\\  = {a if Q_{1} ,  ..Q_{_a}.. ,  Q_{m} ,  R_{1} ,  ..R_{_a}.. ,  R_{n}.\n",
       "   core type: Operation\n",
       "   operator: 3\n",
       "   operands: 4\n",
       "3. =\n",
       "   core type: Literal\n",
       "   sub-expressions: \n",
       "4. (a if Q_{1} and ..Q_{_a}.. and Q_{m} ,  R_{1} and ..R_{_a}.. and R_{n}, a if Q_{1} ,  ..Q_{_a}.. ,  Q_{m} ,  R_{1} ,  ..R_{_a}.. ,  R_{n})\n",
       "   core type: ExprTuple\n",
       "   sub-expressions: 5, 6\n",
       "5. {a if Q_{1} and ..Q_{_a}.. and Q_{m} ,  R_{1} and ..R_{_a}.. and R_{n}.\n",
       "   core type: Conditional\n",
       "   value: 8\n",
       "   condition: 7\n",
       "6. {a if Q_{1} ,  ..Q_{_a}.. ,  Q_{m} ,  R_{1} ,  ..R_{_a}.. ,  R_{n}.\n",
       "   core type: Conditional\n",
       "   value: 8\n",
       "   condition: 9\n",
       "7. (Q_{1} and ..Q_{_a}.. and Q_{m}) and (R_{1} and ..R_{_a}.. and R_{n})\n",
       "   core type: Operation\n",
       "   operator: 15\n",
       "   operands: 10\n",
       "8. a\n",
       "   core type: Variable\n",
       "   sub-expressions: \n",
       "9. Q_{1} and ..Q_{_a}.. and Q_{m} and R_{1} and ..R_{_a}.. and R_{n}\n",
       "   core type: Operation\n",
       "   operator: 15\n",
       "   operands: 11\n",
       "10. (Q_{1} and ..Q_{_a}.. and Q_{m}, R_{1} and ..R_{_a}.. and R_{n})\n",
       "    core type: ExprTuple\n",
       "    sub-expressions: 12, 13\n",
       "11. (Q_{1}, ..Q_{_a}.., Q_{m}, R_{1}, ..R_{_a}.., R_{n})\n",
       "    core type: ExprTuple\n",
       "    sub-expressions: 17, 18\n",
       "12. Q_{1} and ..Q_{_a}.. and Q_{m}\n",
       "    core type: Operation\n",
       "    operator: 15\n",
       "    operands: 14\n",
       "13. R_{1} and ..R_{_a}.. and R_{n}\n",
       "    core type: Operation\n",
       "    operator: 15\n",
       "    operands: 16\n",
       "14. (Q_{1}, ..Q_{_a}.., Q_{m})\n",
       "    core type: ExprTuple\n",
       "    sub-expressions: 17\n",
       "15. and\n",
       "    core type: Literal\n",
       "    sub-expressions: \n",
       "16. (R_{1}, ..R_{_a}.., R_{n})\n",
       "    core type: ExprTuple\n",
       "    sub-expressions: 18\n",
       "17. Q_{1}, ..Q_{_a}.., Q_{m}\n",
       "    core type: ExprRange\n",
       "    lambda_map: 19\n",
       "    start_index: 22\n",
       "    end_index: 20\n",
       "18. R_{1}, ..R_{_a}.., R_{n}\n",
       "    core type: ExprRange\n",
       "    lambda_map: 21\n",
       "    start_index: 22\n",
       "    end_index: 23\n",
       "19. _a -> Q_{_a}\n",
       "    core type: Lambda\n",
       "    parameter: 28\n",
       "    body: 24\n",
       "20. m\n",
       "    core type: Variable\n",
       "    sub-expressions: \n",
       "21. _a -> R_{_a}\n",
       "    core type: Lambda\n",
       "    parameter: 28\n",
       "    body: 25\n",
       "22. 1\n",
       "    core type: Literal\n",
       "    sub-expressions: \n",
       "23. n\n",
       "    core type: Variable\n",
       "    sub-expressions: \n",
       "24. Q_{_a}\n",
       "    core type: IndexedVar\n",
       "variable: 26\n",
       "index: 28\n",
       "25. R_{_a}\n",
       "    core type: IndexedVar\n",
       "variable: 27\n",
       "index: 28\n",
       "26. Q\n",
       "    core type: Variable\n",
       "    sub-expressions: \n",
       "27. R\n",
       "    core type: Variable\n",
       "    sub-expressions: \n",
       "28. _a\n",
       "    core type: Variable\n",
       "    sub-expressions: "
      ]
     },
     "execution_count": 5,
     "metadata": {},
     "output_type": "execute_result"
    }
   ],
   "source": [
    "# display the expression information\n",
    "expr.exprInfo()"
   ]
  },
  {
   "cell_type": "code",
   "execution_count": null,
   "metadata": {},
   "outputs": [],
   "source": []
  }
 ],
 "metadata": {
  "kernelspec": {
   "display_name": "Python 3",
   "language": "python",
   "name": "python3"
  },
  "language_info": {
   "codemirror_mode": {
    "name": "ipython",
    "version": 3
   },
   "file_extension": ".py",
   "mimetype": "text/x-python",
   "name": "python",
   "nbconvert_exporter": "python",
   "pygments_lexer": "ipython3",
   "version": "3.7.3"
  }
 },
 "nbformat": 4,
 "nbformat_minor": 1
}
