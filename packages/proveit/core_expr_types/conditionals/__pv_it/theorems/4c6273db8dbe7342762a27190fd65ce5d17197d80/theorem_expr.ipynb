{
 "cells": [
  {
   "cell_type": "markdown",
   "metadata": {},
   "source": [
    "Theorem <a class=\"ProveItLink\" href=\"../../../_theorems_.ipynb#condition_append_reduction\">condition_append_reduction</a> of type <a class=\"ProveItLink\" href=\"../../../../../../../doc/html/api/proveit.logic.Forall.html\">Forall</a>\n",
    "=======================\n",
    "# from the theory of <a class=\"ProveItLink\" href=\"../../../_theory_nbs_/theory.ipynb\">proveit.core_expr_types.conditionals</a>\n",
    "*** see <a class=\"ProveItLink\" href=\"dependencies.ipynb\">dependencies</a> ***"
   ]
  },
  {
   "cell_type": "code",
   "execution_count": 1,
   "metadata": {},
   "outputs": [],
   "source": [
    "import proveit\n",
    "# Automation is not needed when only building an expression:\n",
    "proveit.defaults.automation = False # This will speed things up.\n",
    "proveit.defaults.inline_pngs = False # Makes files smaller.\n",
    "%load_theorem_expr # Load the stored theorem expression as 'stored_expr'\n",
    "# import the special expression\n",
    "from proveit.core_expr_types.conditionals import condition_append_reduction"
   ]
  },
  {
   "cell_type": "code",
   "execution_count": 2,
   "metadata": {},
   "outputs": [
    {
     "name": "stdout",
     "output_type": "stream",
     "text": [
      "Passed sanity check: condition_append_reduction matches stored_expr\n"
     ]
    }
   ],
   "source": [
    "# check that the built expression is the same as the stored expression\n",
    "assert condition_append_reduction.expr == stored_expr\n",
    "assert condition_append_reduction.expr._style_id == stored_expr._style_id\n",
    "print(\"Passed sanity check: condition_append_reduction matches stored_expr\")"
   ]
  },
  {
   "cell_type": "code",
   "execution_count": 3,
   "metadata": {},
   "outputs": [
    {
     "name": "stdout",
     "output_type": "stream",
     "text": [
      "\\vdash \\forall_{m \\in \\mathbb{N}}~\\left[\\forall_{a, Q_{1}, \\ldots, Q_{m}, R}~\\left(\\begin{array}{c} \\left\\{a \\textrm{ if } Q_{1} \\land \\ldots \\land Q_{m} ,  R\\right.. \\\\  = \\left\\{a \\textrm{ if } Q_{1} ,  \\ldots ,  Q_{m} ,  R\\right.. \\end{array}\\right)\\right]\n"
     ]
    }
   ],
   "source": [
    "# Show the LaTeX representation of the expression for convenience if you need it.\n",
    "print(condition_append_reduction.latex())"
   ]
  },
  {
   "cell_type": "code",
   "execution_count": 4,
   "metadata": {},
   "outputs": [
    {
     "data": {
      "text/html": [
       "<table><tr><th>&nbsp;</th><th>core type</th><th>sub-expressions</th><th>expression</th></tr>\n",
       "<tr><td>0</td><td>Operation</td><td>operator:&nbsp;5<br>operand:&nbsp;1<br></td><td><a class=\"ProveItLink\" href=\"../11bc8e3a4c26b97ce8c6986184e1d6141917b5d70/expr.ipynb\"><img src=\"../11bc8e3a4c26b97ce8c6986184e1d6141917b5d70/expr.png\" style=\"display:inline;vertical-align:middle;\" /></a></td></tr>\n",
       "<tr><td>1</td><td>Lambda</td><td>parameter:&nbsp;28<br>body:&nbsp;2<br></td><td><a class=\"ProveItLink\" href=\"../7567b75a84a28643b21b8fd213407d387c7441de0/expr.ipynb\"><img src=\"../7567b75a84a28643b21b8fd213407d387c7441de0/expr.png\" style=\"display:inline;vertical-align:middle;\" /></a></td></tr>\n",
       "<tr><td>2</td><td>Conditional</td><td>value:&nbsp;3<br>condition:&nbsp;4<br></td><td><a class=\"ProveItLink\" href=\"../8a6290d6d8f5514399d48563df8f928af13ff53e0/expr.ipynb\"><img src=\"../8a6290d6d8f5514399d48563df8f928af13ff53e0/expr.png\" style=\"display:inline;vertical-align:middle;\" /></a></td></tr>\n",
       "<tr><td>3</td><td>Operation</td><td>operator:&nbsp;5<br>operand:&nbsp;6<br></td><td><a class=\"ProveItLink\" href=\"../994bc6d4c8db193838108b3c21f92f43b21b61f40/expr.ipynb\"><img src=\"../994bc6d4c8db193838108b3c21f92f43b21b61f40/expr.png\" style=\"display:inline;vertical-align:middle;\" /></a></td></tr>\n",
       "<tr><td>4</td><td>Operation</td><td>operator:&nbsp;7<br>operands:&nbsp;8<br></td><td><a class=\"ProveItLink\" href=\"../98023afa4ea0d397f8a177bad4a359b36939fb170/expr.ipynb\"><img src=\"../98023afa4ea0d397f8a177bad4a359b36939fb170/expr.png\" style=\"display:inline;vertical-align:middle;\" /></a></td></tr>\n",
       "<tr><td>5</td><td>Literal</td><td></td><td><a class=\"ProveItLink\" href=\"../../../../../logic/booleans/quantification/universality/__pv_it/common/083d2baa0b8ecab1d230f9ec29a15aa1355809fb0/expr.ipynb\"><img src=\"../../../../../logic/booleans/quantification/universality/__pv_it/common/083d2baa0b8ecab1d230f9ec29a15aa1355809fb0/expr.png\" style=\"display:inline;vertical-align:middle;\" /></a></td></tr>\n",
       "<tr><td>6</td><td>Lambda</td><td>parameters:&nbsp;9<br>body:&nbsp;10<br></td><td><a class=\"ProveItLink\" href=\"../901937ce0745b30f04232c16a131a086a750a8970/expr.ipynb\"><img src=\"../901937ce0745b30f04232c16a131a086a750a8970/expr.png\" style=\"display:inline;vertical-align:middle;\" /></a></td></tr>\n",
       "<tr><td>7</td><td>Literal</td><td></td><td><a class=\"ProveItLink\" href=\"../../../../../logic/sets/membership/__pv_it/common/477487d8796864d23d5810f83761435f25167f690/expr.ipynb\"><img src=\"../../../../../logic/sets/membership/__pv_it/common/477487d8796864d23d5810f83761435f25167f690/expr.png\" style=\"display:inline;vertical-align:middle;\" /></a></td></tr>\n",
       "<tr><td>8</td><td>ExprTuple</td><td>28, 11</td><td><a class=\"ProveItLink\" href=\"../cd7d4f1c848a714c5e3ee950f74fc6919eb17af50/expr.ipynb\"><img src=\"../cd7d4f1c848a714c5e3ee950f74fc6919eb17af50/expr.png\" style=\"display:inline;vertical-align:middle;\" /></a></td></tr>\n",
       "<tr><td>9</td><td>ExprTuple</td><td>17, 25, 22</td><td><a class=\"ProveItLink\" href=\"../f46197a5afe4b35122a6d040761db665cf078c880/expr.ipynb\"><img src=\"../f46197a5afe4b35122a6d040761db665cf078c880/expr.png\" style=\"display:inline;vertical-align:middle;\" /></a></td></tr>\n",
       "<tr><td>10</td><td>Operation</td><td>operator:&nbsp;12<br>operands:&nbsp;13<br></td><td><a class=\"ProveItLink\" href=\"../72ff4753bd99ba7d395956b5eaca28f38cbc7ec40/expr.ipynb\"><img src=\"../72ff4753bd99ba7d395956b5eaca28f38cbc7ec40/expr.png\" style=\"display:inline;vertical-align:middle;\" /></a></td></tr>\n",
       "<tr><td>11</td><td>Literal</td><td></td><td><a class=\"ProveItLink\" href=\"../../../../../numbers/number_sets/natural_numbers/__pv_it/common/8b7c321957f52ed3b05b36af612eeae4fa4783bc0/expr.ipynb\"><img src=\"../../../../../numbers/number_sets/natural_numbers/__pv_it/common/8b7c321957f52ed3b05b36af612eeae4fa4783bc0/expr.png\" style=\"display:inline;vertical-align:middle;\" /></a></td></tr>\n",
       "<tr><td>12</td><td>Literal</td><td></td><td><a class=\"ProveItLink\" href=\"../../../../../logic/equality/__pv_it/common/fb96dc12b2aa8801dda64d0132b396c63d1502bb0/expr.ipynb\"><img src=\"../../../../../logic/equality/__pv_it/common/fb96dc12b2aa8801dda64d0132b396c63d1502bb0/expr.png\" style=\"display:inline;vertical-align:middle;\" /></a></td></tr>\n",
       "<tr><td>13</td><td>ExprTuple</td><td>14, 15</td><td><a class=\"ProveItLink\" href=\"../4542c90a1670110ecdc61cd34d7dc61b7e9cd7720/expr.ipynb\"><img src=\"../4542c90a1670110ecdc61cd34d7dc61b7e9cd7720/expr.png\" style=\"display:inline;vertical-align:middle;\" /></a></td></tr>\n",
       "<tr><td>14</td><td>Conditional</td><td>value:&nbsp;17<br>condition:&nbsp;16<br></td><td><a class=\"ProveItLink\" href=\"../2d6ce3f3f576bf4bd178513a81fcf4f702c84e600/expr.ipynb\"><img src=\"../2d6ce3f3f576bf4bd178513a81fcf4f702c84e600/expr.png\" style=\"display:inline;vertical-align:middle;\" /></a></td></tr>\n",
       "<tr><td>15</td><td>Conditional</td><td>value:&nbsp;17<br>condition:&nbsp;18<br></td><td><a class=\"ProveItLink\" href=\"../695a75803ddd5c3a6d3a8020279d630c950fb3090/expr.ipynb\"><img src=\"../695a75803ddd5c3a6d3a8020279d630c950fb3090/expr.png\" style=\"display:inline;vertical-align:middle;\" /></a></td></tr>\n",
       "<tr><td>16</td><td>Operation</td><td>operator:&nbsp;23<br>operands:&nbsp;19<br></td><td><a class=\"ProveItLink\" href=\"../c069be5a95ffddbee7d7643aa0fd919e8d2d2f120/expr.ipynb\"><img src=\"../c069be5a95ffddbee7d7643aa0fd919e8d2d2f120/expr.png\" style=\"display:inline;vertical-align:middle;\" /></a></td></tr>\n",
       "<tr><td>17</td><td>Variable</td><td></td><td><a class=\"ProveItLink\" href=\"../../../../../__pv_it/common/c06c606ec12678c58933ac85412ecadc2ae28be60/expr.ipynb\"><img src=\"../../../../../__pv_it/common/c06c606ec12678c58933ac85412ecadc2ae28be60/expr.png\" style=\"display:inline;vertical-align:middle;\" /></a></td></tr>\n",
       "<tr><td>18</td><td>Operation</td><td>operator:&nbsp;23<br>operands:&nbsp;20<br></td><td><a class=\"ProveItLink\" href=\"../492741070e8fbe94332d43fc4be62d6a2c3f53a20/expr.ipynb\"><img src=\"../492741070e8fbe94332d43fc4be62d6a2c3f53a20/expr.png\" style=\"display:inline;vertical-align:middle;\" /></a></td></tr>\n",
       "<tr><td>19</td><td>ExprTuple</td><td>21, 22</td><td><a class=\"ProveItLink\" href=\"../6fac3f4176a773919ecf476704946b0c83c2b72d0/expr.ipynb\"><img src=\"../6fac3f4176a773919ecf476704946b0c83c2b72d0/expr.png\" style=\"display:inline;vertical-align:middle;\" /></a></td></tr>\n",
       "<tr><td>20</td><td>ExprTuple</td><td>25, 22</td><td><a class=\"ProveItLink\" href=\"../4d01bfc5d2c8eb905be1912fff5a3ad236227d7a0/expr.ipynb\"><img src=\"../4d01bfc5d2c8eb905be1912fff5a3ad236227d7a0/expr.png\" style=\"display:inline;vertical-align:middle;\" /></a></td></tr>\n",
       "<tr><td>21</td><td>Operation</td><td>operator:&nbsp;23<br>operands:&nbsp;24<br></td><td><a class=\"ProveItLink\" href=\"../472cd00e6dd191e8fb8a4aea7a5da0c8169baee70/expr.ipynb\"><img src=\"../472cd00e6dd191e8fb8a4aea7a5da0c8169baee70/expr.png\" style=\"display:inline;vertical-align:middle;\" /></a></td></tr>\n",
       "<tr><td>22</td><td>Variable</td><td></td><td><a class=\"ProveItLink\" href=\"../../../../../__pv_it/common/647ca33d6b96e29d5aa85a15d2241c7ebd0c6e4b0/expr.ipynb\"><img src=\"../../../../../__pv_it/common/647ca33d6b96e29d5aa85a15d2241c7ebd0c6e4b0/expr.png\" style=\"display:inline;vertical-align:middle;\" /></a></td></tr>\n",
       "<tr><td>23</td><td>Literal</td><td></td><td><a class=\"ProveItLink\" href=\"../../../../../logic/booleans/conjunction/__pv_it/common/42118ff318bd65d98b1393f64ce7c2269feef76e0/expr.ipynb\"><img src=\"../../../../../logic/booleans/conjunction/__pv_it/common/42118ff318bd65d98b1393f64ce7c2269feef76e0/expr.png\" style=\"display:inline;vertical-align:middle;\" /></a></td></tr>\n",
       "<tr><td>24</td><td>ExprTuple</td><td>25</td><td><a class=\"ProveItLink\" href=\"../70ea18114744a46b76f8c94538437b4ae62d0d900/expr.ipynb\"><img src=\"../70ea18114744a46b76f8c94538437b4ae62d0d900/expr.png\" style=\"display:inline;vertical-align:middle;\" /></a></td></tr>\n",
       "<tr><td>25</td><td>ExprRange</td><td>lambda_map:&nbsp;26<br>start_index:&nbsp;27<br>end_index:&nbsp;28<br></td><td><a class=\"ProveItLink\" href=\"../../../../__pv_it/common/09cec181cd915ba5b46ab2fd4fb50688b1cd2d5e0/expr.ipynb\"><img src=\"../../../../__pv_it/common/09cec181cd915ba5b46ab2fd4fb50688b1cd2d5e0/expr.png\" style=\"display:inline;vertical-align:middle;\" /></a></td></tr>\n",
       "<tr><td>26</td><td>Lambda</td><td>parameter:&nbsp;31<br>body:&nbsp;29<br></td><td><a class=\"ProveItLink\" href=\"../../../../__pv_it/common/37828762a018e66dcfd7edb82c2ba6f46325d8ad0/expr.ipynb\"><img src=\"../../../../__pv_it/common/37828762a018e66dcfd7edb82c2ba6f46325d8ad0/expr.png\" style=\"display:inline;vertical-align:middle;\" /></a></td></tr>\n",
       "<tr><td>27</td><td>Literal</td><td></td><td><a class=\"ProveItLink\" href=\"../../../../../numbers/numerals/__pv_it/common/2778428c7f555b2bdc06aa0530bc142c6e6335100/expr.ipynb\"><img src=\"../../../../../numbers/numerals/__pv_it/common/2778428c7f555b2bdc06aa0530bc142c6e6335100/expr.png\" style=\"display:inline;vertical-align:middle;\" /></a></td></tr>\n",
       "<tr><td>28</td><td>Variable</td><td></td><td><a class=\"ProveItLink\" href=\"../../../../../__pv_it/common/674a03b9c3ca221b3aabd5636837b31528ff33830/expr.ipynb\"><img src=\"../../../../../__pv_it/common/674a03b9c3ca221b3aabd5636837b31528ff33830/expr.png\" style=\"display:inline;vertical-align:middle;\" /></a></td></tr>\n",
       "<tr><td>29</td><td>IndexedVar</td><td>variable:&nbsp;30<br>index:&nbsp;31<br></td><td><a class=\"ProveItLink\" href=\"../../../../__pv_it/common/e3d1486c0cb59252413aa1409e799d0579c2ce690/expr.ipynb\"><img src=\"../../../../__pv_it/common/e3d1486c0cb59252413aa1409e799d0579c2ce690/expr.png\" style=\"display:inline;vertical-align:middle;\" /></a></td></tr>\n",
       "<tr><td>30</td><td>Variable</td><td></td><td><a class=\"ProveItLink\" href=\"../../../../../__pv_it/common/d72bb8b07403efe79afab564c36a28e21330e5f90/expr.ipynb\"><img src=\"../../../../../__pv_it/common/d72bb8b07403efe79afab564c36a28e21330e5f90/expr.png\" style=\"display:inline;vertical-align:middle;\" /></a></td></tr>\n",
       "<tr><td>31</td><td>Variable</td><td></td><td><a class=\"ProveItLink\" href=\"../../../../__pv_it/common/006c465e50948aa2b52285e2de47974f741255cc0/expr.ipynb\"><img src=\"../../../../__pv_it/common/006c465e50948aa2b52285e2de47974f741255cc0/expr.png\" style=\"display:inline;vertical-align:middle;\" /></a></td></tr>\n",
       "</table>\n"
      ],
      "text/plain": [
       "0. forall_{m in Natural} [forall_{a, Q_{1}, ..Q_{_a}.., Q_{m}, R} ({a if Q_{1} and ..Q_{_a}.. and Q_{m} ,  R. \\\\  = {a if Q_{1} ,  ..Q_{_a}.. ,  Q_{m} ,  R.)]\n",
       "   core type: Operation\n",
       "   operator: 5\n",
       "   operand: 1\n",
       "1. m -> {forall_{a, Q_{1}, ..Q_{_a}.., Q_{m}, R} ({a if Q_{1} and ..Q_{_a}.. and Q_{m} ,  R. \\\\  = {a if Q_{1} ,  ..Q_{_a}.. ,  Q_{m} ,  R.) if m in Natural.\n",
       "   core type: Lambda\n",
       "   parameter: 28\n",
       "   body: 2\n",
       "2. {forall_{a, Q_{1}, ..Q_{_a}.., Q_{m}, R} ({a if Q_{1} and ..Q_{_a}.. and Q_{m} ,  R. \\\\  = {a if Q_{1} ,  ..Q_{_a}.. ,  Q_{m} ,  R.) if m in Natural.\n",
       "   core type: Conditional\n",
       "   value: 3\n",
       "   condition: 4\n",
       "3. forall_{a, Q_{1}, ..Q_{_a}.., Q_{m}, R} ({a if Q_{1} and ..Q_{_a}.. and Q_{m} ,  R. \\\\  = {a if Q_{1} ,  ..Q_{_a}.. ,  Q_{m} ,  R.)\n",
       "   core type: Operation\n",
       "   operator: 5\n",
       "   operand: 6\n",
       "4. m in Natural\n",
       "   core type: Operation\n",
       "   operator: 7\n",
       "   operands: 8\n",
       "5. forall\n",
       "   core type: Literal\n",
       "   sub-expressions: \n",
       "6. (a, Q_{1}, ..Q_{_a}.., Q_{m}, R) -> ({a if Q_{1} and ..Q_{_a}.. and Q_{m} ,  R. \\\\  = {a if Q_{1} ,  ..Q_{_a}.. ,  Q_{m} ,  R.)\n",
       "   core type: Lambda\n",
       "   parameters: 9\\n   body: 10\n",
       "7. in\n",
       "   core type: Literal\n",
       "   sub-expressions: \n",
       "8. (m, Natural)\n",
       "   core type: ExprTuple\n",
       "   sub-expressions: 28, 11\n",
       "9. (a, Q_{1}, ..Q_{_a}.., Q_{m}, R)\n",
       "   core type: ExprTuple\n",
       "   sub-expressions: 17, 25, 22\n",
       "10. {a if Q_{1} and ..Q_{_a}.. and Q_{m} ,  R. \\\\  = {a if Q_{1} ,  ..Q_{_a}.. ,  Q_{m} ,  R.\n",
       "    core type: Operation\n",
       "    operator: 12\n",
       "    operands: 13\n",
       "11. Natural\n",
       "    core type: Literal\n",
       "    sub-expressions: \n",
       "12. =\n",
       "    core type: Literal\n",
       "    sub-expressions: \n",
       "13. (a if Q_{1} and ..Q_{_a}.. and Q_{m} ,  R, a if Q_{1} ,  ..Q_{_a}.. ,  Q_{m} ,  R)\n",
       "    core type: ExprTuple\n",
       "    sub-expressions: 14, 15\n",
       "14. {a if Q_{1} and ..Q_{_a}.. and Q_{m} ,  R.\n",
       "    core type: Conditional\n",
       "    value: 17\n",
       "    condition: 16\n",
       "15. {a if Q_{1} ,  ..Q_{_a}.. ,  Q_{m} ,  R.\n",
       "    core type: Conditional\n",
       "    value: 17\n",
       "    condition: 18\n",
       "16. (Q_{1} and ..Q_{_a}.. and Q_{m}) and R\n",
       "    core type: Operation\n",
       "    operator: 23\n",
       "    operands: 19\n",
       "17. a\n",
       "    core type: Variable\n",
       "    sub-expressions: \n",
       "18. Q_{1} and ..Q_{_a}.. and Q_{m} and R\n",
       "    core type: Operation\n",
       "    operator: 23\n",
       "    operands: 20\n",
       "19. (Q_{1} and ..Q_{_a}.. and Q_{m}, R)\n",
       "    core type: ExprTuple\n",
       "    sub-expressions: 21, 22\n",
       "20. (Q_{1}, ..Q_{_a}.., Q_{m}, R)\n",
       "    core type: ExprTuple\n",
       "    sub-expressions: 25, 22\n",
       "21. Q_{1} and ..Q_{_a}.. and Q_{m}\n",
       "    core type: Operation\n",
       "    operator: 23\n",
       "    operands: 24\n",
       "22. R\n",
       "    core type: Variable\n",
       "    sub-expressions: \n",
       "23. and\n",
       "    core type: Literal\n",
       "    sub-expressions: \n",
       "24. (Q_{1}, ..Q_{_a}.., Q_{m})\n",
       "    core type: ExprTuple\n",
       "    sub-expressions: 25\n",
       "25. Q_{1}, ..Q_{_a}.., Q_{m}\n",
       "    core type: ExprRange\n",
       "    lambda_map: 26\n",
       "    start_index: 27\n",
       "    end_index: 28\n",
       "26. _a -> Q_{_a}\n",
       "    core type: Lambda\n",
       "    parameter: 31\n",
       "    body: 29\n",
       "27. 1\n",
       "    core type: Literal\n",
       "    sub-expressions: \n",
       "28. m\n",
       "    core type: Variable\n",
       "    sub-expressions: \n",
       "29. Q_{_a}\n",
       "    core type: IndexedVar\n",
       "variable: 30\n",
       "index: 31\n",
       "30. Q\n",
       "    core type: Variable\n",
       "    sub-expressions: \n",
       "31. _a\n",
       "    core type: Variable\n",
       "    sub-expressions: "
      ]
     },
     "execution_count": 4,
     "metadata": {},
     "output_type": "execute_result"
    }
   ],
   "source": [
    "# display the expression information\n",
    "condition_append_reduction.expr_info()"
   ]
  },
  {
   "cell_type": "code",
   "execution_count": null,
   "metadata": {},
   "outputs": [],
   "source": []
  }
 ],
 "metadata": {
  "kernelspec": {
   "display_name": "Python 3",
   "language": "python",
   "name": "python3"
  }
 },
 "nbformat": 4,
 "nbformat_minor": 0
}