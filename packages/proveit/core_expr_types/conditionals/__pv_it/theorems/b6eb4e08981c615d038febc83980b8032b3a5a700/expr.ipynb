{
 "cells": [
  {
   "cell_type": "markdown",
   "metadata": {},
   "source": [
    "Expression of type <a class=\"ProveItLink\" href=\"../../../../../../../doc/html/api/proveit.Lambda.html\">Lambda</a>\n",
    "=======================\n",
    "# from the theory of <a class=\"ProveItLink\" href=\"../../../_theory_nbs_/theory.ipynb\">proveit.core_expr_types.conditionals</a>"
   ]
  },
  {
   "cell_type": "code",
   "execution_count": 1,
   "metadata": {},
   "outputs": [],
   "source": [
    "import proveit\n",
    "# Automation is not needed when building an expression:\n",
    "proveit.defaults.automation = False # This will speed things up.\n",
    "proveit.defaults.inline_pngs = False # Makes files smaller.\n",
    "%load_expr # Load the stored expression as 'stored_expr'\n",
    "# import Expression classes needed to build the expression\n",
    "from proveit import Conditional, Lambda, a, m\n",
    "from proveit.core_expr_types import Q_1_to_m\n",
    "from proveit.logic import And, Equals, Forall, InSet, TRUE\n",
    "from proveit.numbers import Natural"
   ]
  },
  {
   "cell_type": "code",
   "execution_count": 2,
   "metadata": {},
   "outputs": [
    {
     "data": {
      "text/html": [
       "<strong id=\"expr\">expr:</strong> <a class=\"ProveItLink\" href=\"expr.ipynb\"><img src=\"expr.png\" style=\"display:inline;vertical-align:middle;\" /></a><br>"
      ],
      "text/plain": [
       "expr: m -> {forall_{a, Q_{1}, ..Q_{_a}.., Q_{m}} ({a if TRUE ,  Q_{1} and ..Q_{_a}.. and Q_{m}. \\\\  = {a if Q_{1} and ..Q_{_a}.. and Q_{m}.) if m in Natural."
      ]
     },
     "execution_count": 2,
     "metadata": {},
     "output_type": "execute_result"
    }
   ],
   "source": [
    "# build up the expression from sub-expressions\n",
    "sub_expr1 = And(Q_1_to_m)\n",
    "expr = Lambda(m, Conditional(Forall([a, Q_1_to_m], Equals(Conditional(a, And(TRUE, sub_expr1)), Conditional(a, sub_expr1)).with_wrapping_at(1)), InSet(m, Natural)))"
   ]
  },
  {
   "cell_type": "code",
   "execution_count": 3,
   "metadata": {},
   "outputs": [
    {
     "name": "stdout",
     "output_type": "stream",
     "text": [
      "Passed sanity check: expr matches stored_expr\n"
     ]
    }
   ],
   "source": [
    "# check that the built expression is the same as the stored expression\n",
    "assert expr == stored_expr\n",
    "assert expr._style_id == stored_expr._style_id\n",
    "print(\"Passed sanity check: expr matches stored_expr\")"
   ]
  },
  {
   "cell_type": "code",
   "execution_count": 4,
   "metadata": {},
   "outputs": [
    {
     "name": "stdout",
     "output_type": "stream",
     "text": [
      "m \\mapsto \\left\\{\\forall_{a, Q_{1}, \\ldots, Q_{m}}~\\left(\\begin{array}{c} \\left\\{a \\textrm{ if } \\top ,  Q_{1} \\land \\ldots \\land Q_{m}\\right.. \\\\  = \\left\\{a \\textrm{ if } Q_{1} \\land \\ldots \\land Q_{m}\\right.. \\end{array}\\right) \\textrm{ if } m \\in \\mathbb{N}\\right..\n"
     ]
    }
   ],
   "source": [
    "# Show the LaTeX representation of the expression for convenience if you need it.\n",
    "print(expr.latex())"
   ]
  },
  {
   "cell_type": "code",
   "execution_count": 5,
   "metadata": {},
   "outputs": [
    {
     "data": {
      "text/html": [
       "<table><tr><th>&nbsp;</th><th>core type</th><th>sub-expressions</th><th>expression</th></tr>\n",
       "<tr><td>0</td><td>Lambda</td><td>parameter:&nbsp;25<br>body:&nbsp;1<br></td><td><a class=\"ProveItLink\" href=\"expr.ipynb\"><img src=\"expr.png\" style=\"display:inline;vertical-align:middle;\" /></a></td></tr>\n",
       "<tr><td>1</td><td>Conditional</td><td>value:&nbsp;2<br>condition:&nbsp;3<br></td><td><a class=\"ProveItLink\" href=\"../0ad26f52bcfc7476dd268db933bba04f5a40d2590/expr.ipynb\"><img src=\"../0ad26f52bcfc7476dd268db933bba04f5a40d2590/expr.png\" style=\"display:inline;vertical-align:middle;\" /></a></td></tr>\n",
       "<tr><td>2</td><td>Operation</td><td>operator:&nbsp;4<br>operand:&nbsp;5<br></td><td><a class=\"ProveItLink\" href=\"../a2f6686fbe34b376ee65edf11b12bd3052ad2ec20/expr.ipynb\"><img src=\"../a2f6686fbe34b376ee65edf11b12bd3052ad2ec20/expr.png\" style=\"display:inline;vertical-align:middle;\" /></a></td></tr>\n",
       "<tr><td>3</td><td>Operation</td><td>operator:&nbsp;6<br>operands:&nbsp;7<br></td><td><a class=\"ProveItLink\" href=\"../98023afa4ea0d397f8a177bad4a359b36939fb170/expr.ipynb\"><img src=\"../98023afa4ea0d397f8a177bad4a359b36939fb170/expr.png\" style=\"display:inline;vertical-align:middle;\" /></a></td></tr>\n",
       "<tr><td>4</td><td>Literal</td><td></td><td><a class=\"ProveItLink\" href=\"../../../../../logic/booleans/quantification/universality/__pv_it/common/083d2baa0b8ecab1d230f9ec29a15aa1355809fb0/expr.ipynb\"><img src=\"../../../../../logic/booleans/quantification/universality/__pv_it/common/083d2baa0b8ecab1d230f9ec29a15aa1355809fb0/expr.png\" style=\"display:inline;vertical-align:middle;\" /></a></td></tr>\n",
       "<tr><td>5</td><td>Lambda</td><td>parameters:&nbsp;8<br>body:&nbsp;9<br></td><td><a class=\"ProveItLink\" href=\"../fa4c4c67a04cb1a96cce298f832d6ad48b3444730/expr.ipynb\"><img src=\"../fa4c4c67a04cb1a96cce298f832d6ad48b3444730/expr.png\" style=\"display:inline;vertical-align:middle;\" /></a></td></tr>\n",
       "<tr><td>6</td><td>Literal</td><td></td><td><a class=\"ProveItLink\" href=\"../../../../../logic/sets/membership/__pv_it/common/477487d8796864d23d5810f83761435f25167f690/expr.ipynb\"><img src=\"../../../../../logic/sets/membership/__pv_it/common/477487d8796864d23d5810f83761435f25167f690/expr.png\" style=\"display:inline;vertical-align:middle;\" /></a></td></tr>\n",
       "<tr><td>7</td><td>ExprTuple</td><td>25, 10</td><td><a class=\"ProveItLink\" href=\"../cd7d4f1c848a714c5e3ee950f74fc6919eb17af50/expr.ipynb\"><img src=\"../cd7d4f1c848a714c5e3ee950f74fc6919eb17af50/expr.png\" style=\"display:inline;vertical-align:middle;\" /></a></td></tr>\n",
       "<tr><td>8</td><td>ExprTuple</td><td>16, 22</td><td><a class=\"ProveItLink\" href=\"../4b01424c8fde09834a6d0e01ecd4dbf6afb0d26a0/expr.ipynb\"><img src=\"../4b01424c8fde09834a6d0e01ecd4dbf6afb0d26a0/expr.png\" style=\"display:inline;vertical-align:middle;\" /></a></td></tr>\n",
       "<tr><td>9</td><td>Operation</td><td>operator:&nbsp;11<br>operands:&nbsp;12<br></td><td><a class=\"ProveItLink\" href=\"../9a32a11eb85be5fee23cfaf21b229ec1433816560/expr.ipynb\"><img src=\"../9a32a11eb85be5fee23cfaf21b229ec1433816560/expr.png\" style=\"display:inline;vertical-align:middle;\" /></a></td></tr>\n",
       "<tr><td>10</td><td>Literal</td><td></td><td><a class=\"ProveItLink\" href=\"../../../../../numbers/number_sets/natural_numbers/__pv_it/common/8b7c321957f52ed3b05b36af612eeae4fa4783bc0/expr.ipynb\"><img src=\"../../../../../numbers/number_sets/natural_numbers/__pv_it/common/8b7c321957f52ed3b05b36af612eeae4fa4783bc0/expr.png\" style=\"display:inline;vertical-align:middle;\" /></a></td></tr>\n",
       "<tr><td>11</td><td>Literal</td><td></td><td><a class=\"ProveItLink\" href=\"../../../../../logic/equality/__pv_it/common/fb96dc12b2aa8801dda64d0132b396c63d1502bb0/expr.ipynb\"><img src=\"../../../../../logic/equality/__pv_it/common/fb96dc12b2aa8801dda64d0132b396c63d1502bb0/expr.png\" style=\"display:inline;vertical-align:middle;\" /></a></td></tr>\n",
       "<tr><td>12</td><td>ExprTuple</td><td>13, 14</td><td><a class=\"ProveItLink\" href=\"../a45a683fe225800704ac328a3a2a483be14a68b30/expr.ipynb\"><img src=\"../a45a683fe225800704ac328a3a2a483be14a68b30/expr.png\" style=\"display:inline;vertical-align:middle;\" /></a></td></tr>\n",
       "<tr><td>13</td><td>Conditional</td><td>value:&nbsp;16<br>condition:&nbsp;15<br></td><td><a class=\"ProveItLink\" href=\"../53dce4e095ff865c8b82af0ed278246fb926715b0/expr.ipynb\"><img src=\"../53dce4e095ff865c8b82af0ed278246fb926715b0/expr.png\" style=\"display:inline;vertical-align:middle;\" /></a></td></tr>\n",
       "<tr><td>14</td><td>Conditional</td><td>value:&nbsp;16<br>condition:&nbsp;19<br></td><td><a class=\"ProveItLink\" href=\"../1eb4802d291c2bab110ad064abf417647b5e98b00/expr.ipynb\"><img src=\"../1eb4802d291c2bab110ad064abf417647b5e98b00/expr.png\" style=\"display:inline;vertical-align:middle;\" /></a></td></tr>\n",
       "<tr><td>15</td><td>Operation</td><td>operator:&nbsp;20<br>operands:&nbsp;17<br></td><td><a class=\"ProveItLink\" href=\"../54c651e9850ee7925276136c7f2ef0e8c966c8b90/expr.ipynb\"><img src=\"../54c651e9850ee7925276136c7f2ef0e8c966c8b90/expr.png\" style=\"display:inline;vertical-align:middle;\" /></a></td></tr>\n",
       "<tr><td>16</td><td>Variable</td><td></td><td><a class=\"ProveItLink\" href=\"../../../../../__pv_it/common/c06c606ec12678c58933ac85412ecadc2ae28be60/expr.ipynb\"><img src=\"../../../../../__pv_it/common/c06c606ec12678c58933ac85412ecadc2ae28be60/expr.png\" style=\"display:inline;vertical-align:middle;\" /></a></td></tr>\n",
       "<tr><td>17</td><td>ExprTuple</td><td>18, 19</td><td><a class=\"ProveItLink\" href=\"../07aae7de7a43ef0e75d8289356f0ca6bc2b95b8e0/expr.ipynb\"><img src=\"../07aae7de7a43ef0e75d8289356f0ca6bc2b95b8e0/expr.png\" style=\"display:inline;vertical-align:middle;\" /></a></td></tr>\n",
       "<tr><td>18</td><td>Literal</td><td></td><td><a class=\"ProveItLink\" href=\"../../../../../logic/booleans/__pv_it/common/95025295868b9266d37330b4427adf122f6061770/expr.ipynb\"><img src=\"../../../../../logic/booleans/__pv_it/common/95025295868b9266d37330b4427adf122f6061770/expr.png\" style=\"display:inline;vertical-align:middle;\" /></a></td></tr>\n",
       "<tr><td>19</td><td>Operation</td><td>operator:&nbsp;20<br>operands:&nbsp;21<br></td><td><a class=\"ProveItLink\" href=\"../472cd00e6dd191e8fb8a4aea7a5da0c8169baee70/expr.ipynb\"><img src=\"../472cd00e6dd191e8fb8a4aea7a5da0c8169baee70/expr.png\" style=\"display:inline;vertical-align:middle;\" /></a></td></tr>\n",
       "<tr><td>20</td><td>Literal</td><td></td><td><a class=\"ProveItLink\" href=\"../../../../../logic/booleans/conjunction/__pv_it/common/42118ff318bd65d98b1393f64ce7c2269feef76e0/expr.ipynb\"><img src=\"../../../../../logic/booleans/conjunction/__pv_it/common/42118ff318bd65d98b1393f64ce7c2269feef76e0/expr.png\" style=\"display:inline;vertical-align:middle;\" /></a></td></tr>\n",
       "<tr><td>21</td><td>ExprTuple</td><td>22</td><td><a class=\"ProveItLink\" href=\"../70ea18114744a46b76f8c94538437b4ae62d0d900/expr.ipynb\"><img src=\"../70ea18114744a46b76f8c94538437b4ae62d0d900/expr.png\" style=\"display:inline;vertical-align:middle;\" /></a></td></tr>\n",
       "<tr><td>22</td><td>ExprRange</td><td>lambda_map:&nbsp;23<br>start_index:&nbsp;24<br>end_index:&nbsp;25<br></td><td><a class=\"ProveItLink\" href=\"../../../../__pv_it/common/09cec181cd915ba5b46ab2fd4fb50688b1cd2d5e0/expr.ipynb\"><img src=\"../../../../__pv_it/common/09cec181cd915ba5b46ab2fd4fb50688b1cd2d5e0/expr.png\" style=\"display:inline;vertical-align:middle;\" /></a></td></tr>\n",
       "<tr><td>23</td><td>Lambda</td><td>parameter:&nbsp;28<br>body:&nbsp;26<br></td><td><a class=\"ProveItLink\" href=\"../../../../__pv_it/common/37828762a018e66dcfd7edb82c2ba6f46325d8ad0/expr.ipynb\"><img src=\"../../../../__pv_it/common/37828762a018e66dcfd7edb82c2ba6f46325d8ad0/expr.png\" style=\"display:inline;vertical-align:middle;\" /></a></td></tr>\n",
       "<tr><td>24</td><td>Literal</td><td></td><td><a class=\"ProveItLink\" href=\"../../../../../numbers/numerals/__pv_it/common/2778428c7f555b2bdc06aa0530bc142c6e6335100/expr.ipynb\"><img src=\"../../../../../numbers/numerals/__pv_it/common/2778428c7f555b2bdc06aa0530bc142c6e6335100/expr.png\" style=\"display:inline;vertical-align:middle;\" /></a></td></tr>\n",
       "<tr><td>25</td><td>Variable</td><td></td><td><a class=\"ProveItLink\" href=\"../../../../../__pv_it/common/674a03b9c3ca221b3aabd5636837b31528ff33830/expr.ipynb\"><img src=\"../../../../../__pv_it/common/674a03b9c3ca221b3aabd5636837b31528ff33830/expr.png\" style=\"display:inline;vertical-align:middle;\" /></a></td></tr>\n",
       "<tr><td>26</td><td>IndexedVar</td><td>variable:&nbsp;27<br>index:&nbsp;28<br></td><td><a class=\"ProveItLink\" href=\"../../../../__pv_it/common/e3d1486c0cb59252413aa1409e799d0579c2ce690/expr.ipynb\"><img src=\"../../../../__pv_it/common/e3d1486c0cb59252413aa1409e799d0579c2ce690/expr.png\" style=\"display:inline;vertical-align:middle;\" /></a></td></tr>\n",
       "<tr><td>27</td><td>Variable</td><td></td><td><a class=\"ProveItLink\" href=\"../../../../../__pv_it/common/d72bb8b07403efe79afab564c36a28e21330e5f90/expr.ipynb\"><img src=\"../../../../../__pv_it/common/d72bb8b07403efe79afab564c36a28e21330e5f90/expr.png\" style=\"display:inline;vertical-align:middle;\" /></a></td></tr>\n",
       "<tr><td>28</td><td>Variable</td><td></td><td><a class=\"ProveItLink\" href=\"../../../../__pv_it/common/006c465e50948aa2b52285e2de47974f741255cc0/expr.ipynb\"><img src=\"../../../../__pv_it/common/006c465e50948aa2b52285e2de47974f741255cc0/expr.png\" style=\"display:inline;vertical-align:middle;\" /></a></td></tr>\n",
       "</table>\n"
      ],
      "text/plain": [
       "0. m -> {forall_{a, Q_{1}, ..Q_{_a}.., Q_{m}} ({a if TRUE ,  Q_{1} and ..Q_{_a}.. and Q_{m}. \\\\  = {a if Q_{1} and ..Q_{_a}.. and Q_{m}.) if m in Natural.\n",
       "   core type: Lambda\n",
       "   parameter: 25\n",
       "   body: 1\n",
       "1. {forall_{a, Q_{1}, ..Q_{_a}.., Q_{m}} ({a if TRUE ,  Q_{1} and ..Q_{_a}.. and Q_{m}. \\\\  = {a if Q_{1} and ..Q_{_a}.. and Q_{m}.) if m in Natural.\n",
       "   core type: Conditional\n",
       "   value: 2\n",
       "   condition: 3\n",
       "2. forall_{a, Q_{1}, ..Q_{_a}.., Q_{m}} ({a if TRUE ,  Q_{1} and ..Q_{_a}.. and Q_{m}. \\\\  = {a if Q_{1} and ..Q_{_a}.. and Q_{m}.)\n",
       "   core type: Operation\n",
       "   operator: 4\n",
       "   operand: 5\n",
       "3. m in Natural\n",
       "   core type: Operation\n",
       "   operator: 6\n",
       "   operands: 7\n",
       "4. forall\n",
       "   core type: Literal\n",
       "   sub-expressions: \n",
       "5. (a, Q_{1}, ..Q_{_a}.., Q_{m}) -> ({a if TRUE ,  Q_{1} and ..Q_{_a}.. and Q_{m}. \\\\  = {a if Q_{1} and ..Q_{_a}.. and Q_{m}.)\n",
       "   core type: Lambda\n",
       "   parameters: 8\\n   body: 9\n",
       "6. in\n",
       "   core type: Literal\n",
       "   sub-expressions: \n",
       "7. (m, Natural)\n",
       "   core type: ExprTuple\n",
       "   sub-expressions: 25, 10\n",
       "8. (a, Q_{1}, ..Q_{_a}.., Q_{m})\n",
       "   core type: ExprTuple\n",
       "   sub-expressions: 16, 22\n",
       "9. {a if TRUE ,  Q_{1} and ..Q_{_a}.. and Q_{m}. \\\\  = {a if Q_{1} and ..Q_{_a}.. and Q_{m}.\n",
       "   core type: Operation\n",
       "   operator: 11\n",
       "   operands: 12\n",
       "10. Natural\n",
       "    core type: Literal\n",
       "    sub-expressions: \n",
       "11. =\n",
       "    core type: Literal\n",
       "    sub-expressions: \n",
       "12. (a if TRUE ,  Q_{1} and ..Q_{_a}.. and Q_{m}, a if Q_{1} and ..Q_{_a}.. and Q_{m})\n",
       "    core type: ExprTuple\n",
       "    sub-expressions: 13, 14\n",
       "13. {a if TRUE ,  Q_{1} and ..Q_{_a}.. and Q_{m}.\n",
       "    core type: Conditional\n",
       "    value: 16\n",
       "    condition: 15\n",
       "14. {a if Q_{1} and ..Q_{_a}.. and Q_{m}.\n",
       "    core type: Conditional\n",
       "    value: 16\n",
       "    condition: 19\n",
       "15. TRUE and (Q_{1} and ..Q_{_a}.. and Q_{m})\n",
       "    core type: Operation\n",
       "    operator: 20\n",
       "    operands: 17\n",
       "16. a\n",
       "    core type: Variable\n",
       "    sub-expressions: \n",
       "17. (TRUE, Q_{1} and ..Q_{_a}.. and Q_{m})\n",
       "    core type: ExprTuple\n",
       "    sub-expressions: 18, 19\n",
       "18. TRUE\n",
       "    core type: Literal\n",
       "    sub-expressions: \n",
       "19. Q_{1} and ..Q_{_a}.. and Q_{m}\n",
       "    core type: Operation\n",
       "    operator: 20\n",
       "    operands: 21\n",
       "20. and\n",
       "    core type: Literal\n",
       "    sub-expressions: \n",
       "21. (Q_{1}, ..Q_{_a}.., Q_{m})\n",
       "    core type: ExprTuple\n",
       "    sub-expressions: 22\n",
       "22. Q_{1}, ..Q_{_a}.., Q_{m}\n",
       "    core type: ExprRange\n",
       "    lambda_map: 23\n",
       "    start_index: 24\n",
       "    end_index: 25\n",
       "23. _a -> Q_{_a}\n",
       "    core type: Lambda\n",
       "    parameter: 28\n",
       "    body: 26\n",
       "24. 1\n",
       "    core type: Literal\n",
       "    sub-expressions: \n",
       "25. m\n",
       "    core type: Variable\n",
       "    sub-expressions: \n",
       "26. Q_{_a}\n",
       "    core type: IndexedVar\n",
       "variable: 27\n",
       "index: 28\n",
       "27. Q\n",
       "    core type: Variable\n",
       "    sub-expressions: \n",
       "28. _a\n",
       "    core type: Variable\n",
       "    sub-expressions: "
      ]
     },
     "execution_count": 5,
     "metadata": {},
     "output_type": "execute_result"
    }
   ],
   "source": [
    "# display the expression information\n",
    "expr.expr_info()"
   ]
  },
  {
   "cell_type": "code",
   "execution_count": null,
   "metadata": {},
   "outputs": [],
   "source": []
  }
 ],
 "metadata": {
  "kernelspec": {
   "display_name": "Python 3",
   "language": "python",
   "name": "python3"
  }
 },
 "nbformat": 4,
 "nbformat_minor": 0
}