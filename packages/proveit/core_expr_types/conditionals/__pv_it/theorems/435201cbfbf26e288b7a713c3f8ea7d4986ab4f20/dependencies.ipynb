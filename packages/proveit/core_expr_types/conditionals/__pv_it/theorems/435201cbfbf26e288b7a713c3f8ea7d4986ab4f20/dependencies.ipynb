{
 "cells": [
  {
   "cell_type": "markdown",
   "metadata": {},
   "source": [
    "Theorem Dependencies\n",
    "=======================\n",
    "\n",
    "## <a class=\"ProveItLink\" href=\"../../../_theory_nbs_/theory.ipynb\">proveit.core_expr_types.conditionals</a>.<a class=\"ProveItLink\" href=\"../../../_theorems_.ipynb#condition_prepend_reduction\">condition_prepend_reduction</a> \n",
    "***see <a class=\"ProveItLink\" href=\"../../../_theory_nbs_/proofs/condition_prepend_reduction/thm_proof.ipynb\">proof</a>***"
   ]
  },
  {
   "cell_type": "code",
   "execution_count": 1,
   "metadata": {},
   "outputs": [],
   "source": [
    "import proveit\n",
    "# Automation is not needed when querying dependencies:\n",
    "proveit.defaults.automation = False # This will speed things up.\n",
    "proveit.defaults.inline_pngs = False # Makes files smaller.\n",
    "from proveit.core_expr_types.conditionals import condition_prepend_reduction"
   ]
  },
  {
   "cell_type": "code",
   "execution_count": 2,
   "metadata": {},
   "outputs": [
    {
     "data": {
      "text/html": [
       "<h3>This theorem has not been proven yet.</h3>"
      ],
      "text/plain": [
       "<IPython.core.display.HTML object>"
      ]
     },
     "metadata": {},
     "output_type": "display_data"
    },
    {
     "data": {
      "text/html": [
       "<h3>Theorems/conjectures that depend directly on condition_prepend_reduction</h3>"
      ],
      "text/plain": [
       "<IPython.core.display.HTML object>"
      ]
     },
     "metadata": {},
     "output_type": "display_data"
    },
    {
     "data": {
      "text/html": [
       "<dl>"
      ],
      "text/plain": [
       "<IPython.core.display.HTML object>"
      ]
     },
     "metadata": {},
     "output_type": "display_data"
    },
    {
     "data": {
      "text/html": [
       "<dt><a class=\"ProveItLink\" href=\"../../../../../logic/booleans/conjunction/_theory_nbs_/proofs/nand_if_not_left/thm_proof.ipynb\">proveit.logic.booleans.conjunction.nand_if_not_left</a></dt><dd><a class=\"ProveItLink\" href=\"../../../../../logic/booleans/conjunction/__pv_it/theorems/1e4138d3d56cc65675dd9444dec31647956f57c90/expr.ipynb\"><img src=\"../../../../../logic/booleans/conjunction/__pv_it/theorems/1e4138d3d56cc65675dd9444dec31647956f57c90/expr.png\" style=\"display:inline;vertical-align:middle;\" /></a></dd>"
      ],
      "text/plain": [
       "<IPython.core.display.HTML object>"
      ]
     },
     "metadata": {},
     "output_type": "display_data"
    },
    {
     "data": {
      "text/html": [
       "<dt><a class=\"ProveItLink\" href=\"../../../../../logic/booleans/conjunction/_theory_nbs_/proofs/nand_if_not_right/thm_proof.ipynb\">proveit.logic.booleans.conjunction.nand_if_not_right</a></dt><dd><a class=\"ProveItLink\" href=\"../../../../../logic/booleans/conjunction/__pv_it/theorems/c9caac436242bb07f5e8915c2b30b84041df73250/expr.ipynb\"><img src=\"../../../../../logic/booleans/conjunction/__pv_it/theorems/c9caac436242bb07f5e8915c2b30b84041df73250/expr.png\" style=\"display:inline;vertical-align:middle;\" /></a></dd>"
      ],
      "text/plain": [
       "<IPython.core.display.HTML object>"
      ]
     },
     "metadata": {},
     "output_type": "display_data"
    },
    {
     "data": {
      "text/html": [
       "<dt><a class=\"ProveItLink\" href=\"../../../../../logic/booleans/disjunction/_theory_nbs_/proofs/demorgans_law_and_to_or_bin_explicit/thm_proof.ipynb\">proveit.logic.booleans.disjunction.demorgans_law_and_to_or_bin_explicit</a></dt><dd><a class=\"ProveItLink\" href=\"../../../../../logic/booleans/disjunction/__pv_it/theorems/999cb470c0e318f861be975008b9ea20366fb87e0/expr.ipynb\"><img src=\"../../../../../logic/booleans/disjunction/__pv_it/theorems/999cb470c0e318f861be975008b9ea20366fb87e0/expr.png\" style=\"display:inline;vertical-align:middle;\" /></a></dd>"
      ],
      "text/plain": [
       "<IPython.core.display.HTML object>"
      ]
     },
     "metadata": {},
     "output_type": "display_data"
    },
    {
     "data": {
      "text/html": [
       "<dt><a class=\"ProveItLink\" href=\"../../../../../logic/booleans/implication/_theory_nbs_/proofs/eq_from_iff/thm_proof.ipynb\">proveit.logic.booleans.implication.eq_from_iff</a></dt><dd><a class=\"ProveItLink\" href=\"../../../../../logic/booleans/implication/__pv_it/theorems/0f36347affce4dfe8dd59b51976d4641241912ed0/expr.ipynb\"><img src=\"../../../../../logic/booleans/implication/__pv_it/theorems/0f36347affce4dfe8dd59b51976d4641241912ed0/expr.png\" style=\"display:inline;vertical-align:middle;\" /></a></dd>"
      ],
      "text/plain": [
       "<IPython.core.display.HTML object>"
      ]
     },
     "metadata": {},
     "output_type": "display_data"
    },
    {
     "data": {
      "text/html": [
       "<dt><a class=\"ProveItLink\" href=\"../../../../../logic/booleans/implication/_theory_nbs_/proofs/eq_from_mutual_impl/thm_proof.ipynb\">proveit.logic.booleans.implication.eq_from_mutual_impl</a></dt><dd><a class=\"ProveItLink\" href=\"../../../../../logic/booleans/implication/__pv_it/theorems/a2188e22582e89c66a43fe495c838302fc06f96c0/expr.ipynb\"><img src=\"../../../../../logic/booleans/implication/__pv_it/theorems/a2188e22582e89c66a43fe495c838302fc06f96c0/expr.png\" style=\"display:inline;vertical-align:middle;\" /></a></dd>"
      ],
      "text/plain": [
       "<IPython.core.display.HTML object>"
      ]
     },
     "metadata": {},
     "output_type": "display_data"
    },
    {
     "data": {
      "text/html": [
       "</dl>"
      ],
      "text/plain": [
       "<IPython.core.display.HTML object>"
      ]
     },
     "metadata": {},
     "output_type": "display_data"
    }
   ],
   "source": [
    "%dependencies condition_prepend_reduction"
   ]
  }
 ],
 "metadata": {
  "kernelspec": {
   "display_name": "Python 3",
   "language": "python",
   "name": "python3"
  }
 },
 "nbformat": 4,
 "nbformat_minor": 0
}