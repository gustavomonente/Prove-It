{
 "cells": [
  {
   "cell_type": "markdown",
   "metadata": {},
   "source": [
    "Expression of type <a class=\"ProveItLink\" href=\"../../../../../../../doc/html/api/proveit.logic.Forall.html\">Forall</a>\n",
    "=======================\n",
    "# from the theory of <a class=\"ProveItLink\" href=\"../../../_theory_nbs_/theory.ipynb\">proveit.core_expr_types.conditionals</a>"
   ]
  },
  {
   "cell_type": "code",
   "execution_count": 1,
   "metadata": {},
   "outputs": [],
   "source": [
    "import proveit\n",
    "# Automation is not needed when building an expression:\n",
    "proveit.defaults.automation = False # This will speed things up.\n",
    "proveit.defaults.inline_pngs = False # Makes files smaller.\n",
    "%load_expr # Load the stored expression as 'stored_expr'\n",
    "# import Expression classes needed to build the expression\n",
    "from proveit import Conditional, a, m\n",
    "from proveit.core_expr_types import Q_1_to_m\n",
    "from proveit.logic import And, Equals, Forall, TRUE\n",
    "from proveit.numbers import Natural"
   ]
  },
  {
   "cell_type": "code",
   "execution_count": 2,
   "metadata": {},
   "outputs": [
    {
     "data": {
      "text/html": [
       "<strong id=\"expr\">expr:</strong> <a class=\"ProveItLink\" href=\"expr.ipynb\"><img src=\"expr.png\" style=\"display:inline;vertical-align:middle;\" /></a><br>"
      ],
      "text/plain": [
       "expr: forall_{m in Natural} [forall_{a, Q_{1}, ..Q_{_a}.., Q_{m}} ({a if Q_{1} and ..Q_{_a}.. and Q_{m} ,  TRUE. \\\\  = {a if Q_{1} and ..Q_{_a}.. and Q_{m}.)]"
      ]
     },
     "execution_count": 2,
     "metadata": {},
     "output_type": "execute_result"
    }
   ],
   "source": [
    "# build up the expression from sub-expressions\n",
    "sub_expr1 = And(Q_1_to_m)\n",
    "expr = Forall([m], Forall([a, Q_1_to_m], Equals(Conditional(a, And(sub_expr1, TRUE)), Conditional(a, sub_expr1)).with_wrapping_at(1)), domains = [Natural])"
   ]
  },
  {
   "cell_type": "code",
   "execution_count": 3,
   "metadata": {},
   "outputs": [
    {
     "name": "stdout",
     "output_type": "stream",
     "text": [
      "Passed sanity check: expr matches stored_expr\n"
     ]
    }
   ],
   "source": [
    "# check that the built expression is the same as the stored expression\n",
    "assert expr == stored_expr\n",
    "assert expr._style_id == stored_expr._style_id\n",
    "print(\"Passed sanity check: expr matches stored_expr\")"
   ]
  },
  {
   "cell_type": "code",
   "execution_count": 4,
   "metadata": {},
   "outputs": [
    {
     "name": "stdout",
     "output_type": "stream",
     "text": [
      "\\forall_{m \\in \\mathbb{N}}~\\left[\\forall_{a, Q_{1}, \\ldots, Q_{m}}~\\left(\\begin{array}{c} \\begin{array}{l} \\left\\{a \\textrm{ if } Q_{1} \\land \\ldots \\land Q_{m} ,  \\top\\right.. \\\\  = \\left\\{a \\textrm{ if } Q_{1} \\land \\ldots \\land Q_{m}\\right.. \\end{array} \\end{array}\\right)\\right]\n"
     ]
    }
   ],
   "source": [
    "# Show the LaTeX representation of the expression for convenience if you need it.\n",
    "print(expr.latex())"
   ]
  },
  {
   "cell_type": "code",
   "execution_count": 5,
   "metadata": {},
   "outputs": [
    {
     "data": {
      "text/html": [
       "<table>\n",
       "<tr><th>name</th><th>description</th><th>default</th><th>current value</th><th>related methods</th></tr><tr><td>with_wrapping</td><td>If 'True', wrap the Expression after the parameters</td><td>None</td><td>None/False</td><td>('with_wrapping',)</td></tr>\n",
       "<tr><td>wrap_params</td><td>If 'True', wraps every two parameters AND wraps the Expression after the parameters</td><td>None</td><td>None/False</td><td>('with_params',)</td></tr>\n",
       "<tr><td>justification</td><td>justify to the 'left', 'center', or 'right' in the array cells</td><td>center</td><td>center</td><td>('with_justification',)</td></tr>\n",
       "</table>\n"
      ],
      "text/plain": [
       "style name: with_wrapping\n",
       "description: If 'True', wrap the Expression after the parameters\n",
       "default: None\n",
       "current value: None/False\n",
       "related methods: ('with_wrapping',)\n",
       "style name: wrap_params\n",
       "description: If 'True', wraps every two parameters AND wraps the Expression after the parameters\n",
       "default: None\n",
       "current value: None/False\n",
       "related methods: ('with_params',)\n",
       "style name: justification\n",
       "description: justify to the 'left', 'center', or 'right' in the array cells\n",
       "default: center\n",
       "current value: center\n",
       "related methods: ('with_justification',)"
      ]
     },
     "execution_count": 5,
     "metadata": {},
     "output_type": "execute_result"
    }
   ],
   "source": [
    "expr.style_options()"
   ]
  },
  {
   "cell_type": "code",
   "execution_count": 6,
   "metadata": {},
   "outputs": [
    {
     "data": {
      "text/html": [
       "<table><tr><th>&nbsp;</th><th>core type</th><th>sub-expressions</th><th>expression</th></tr>\n",
       "<tr><td>0</td><td>Operation</td><td>operator:&nbsp;6<br>operand:&nbsp;2<br></td><td><a class=\"ProveItLink\" href=\"expr.ipynb\"><img src=\"expr.png\" style=\"display:inline;vertical-align:middle;\" /></a></td></tr>\n",
       "<tr><td>1</td><td>ExprTuple</td><td>2</td><td><a class=\"ProveItLink\" href=\"../4113a6a2b74b70814ecf4e5677ab058ac6bf68820/expr.ipynb\"><img src=\"../4113a6a2b74b70814ecf4e5677ab058ac6bf68820/expr.png\" style=\"display:inline;vertical-align:middle;\" /></a></td></tr>\n",
       "<tr><td>2</td><td>Lambda</td><td>parameter:&nbsp;28<br>body:&nbsp;3<br></td><td><a class=\"ProveItLink\" href=\"../38461d637b41cf300447108712b2665aed0c3e1d0/expr.ipynb\"><img src=\"../38461d637b41cf300447108712b2665aed0c3e1d0/expr.png\" style=\"display:inline;vertical-align:middle;\" /></a></td></tr>\n",
       "<tr><td>3</td><td>Conditional</td><td>value:&nbsp;4<br>condition:&nbsp;5<br></td><td><a class=\"ProveItLink\" href=\"../7b155af55c7e7382ec6ee8facc3a6f2eba6c31680/expr.ipynb\"><img src=\"../7b155af55c7e7382ec6ee8facc3a6f2eba6c31680/expr.png\" style=\"display:inline;vertical-align:middle;\" /></a></td></tr>\n",
       "<tr><td>4</td><td>Operation</td><td>operator:&nbsp;6<br>operand:&nbsp;10<br></td><td><a class=\"ProveItLink\" href=\"../0508ebc7903aae77b5feda375b19ce5b8e80d9bd0/expr.ipynb\"><img src=\"../0508ebc7903aae77b5feda375b19ce5b8e80d9bd0/expr.png\" style=\"display:inline;vertical-align:middle;\" /></a></td></tr>\n",
       "<tr><td>5</td><td>Operation</td><td>operator:&nbsp;8<br>operands:&nbsp;9<br></td><td><a class=\"ProveItLink\" href=\"../3287be28b2126783aeddb65edbf04637df184bd00/expr.ipynb\"><img src=\"../3287be28b2126783aeddb65edbf04637df184bd00/expr.png\" style=\"display:inline;vertical-align:middle;\" /></a></td></tr>\n",
       "<tr><td>6</td><td>Literal</td><td></td><td><a class=\"ProveItLink\" href=\"../../../../../logic/booleans/quantification/universality/__pv_it/common/684d35ba98fcbf8ca5011f865e530a51e77730630/expr.ipynb\"><img src=\"../../../../../logic/booleans/quantification/universality/__pv_it/common/684d35ba98fcbf8ca5011f865e530a51e77730630/expr.png\" style=\"display:inline;vertical-align:middle;\" /></a></td></tr>\n",
       "<tr><td>7</td><td>ExprTuple</td><td>10</td><td><a class=\"ProveItLink\" href=\"../35efd8ba2b7f383fd0919e9d2a6acd7386ca55150/expr.ipynb\"><img src=\"../35efd8ba2b7f383fd0919e9d2a6acd7386ca55150/expr.png\" style=\"display:inline;vertical-align:middle;\" /></a></td></tr>\n",
       "<tr><td>8</td><td>Literal</td><td></td><td><a class=\"ProveItLink\" href=\"../../../../../logic/sets/membership/__pv_it/common/7171deca84f71f47a6ec7696972d1632274a12880/expr.ipynb\"><img src=\"../../../../../logic/sets/membership/__pv_it/common/7171deca84f71f47a6ec7696972d1632274a12880/expr.png\" style=\"display:inline;vertical-align:middle;\" /></a></td></tr>\n",
       "<tr><td>9</td><td>ExprTuple</td><td>28, 11</td><td><a class=\"ProveItLink\" href=\"../04159094d330187d96682e7798bfbb21b0aae5810/expr.ipynb\"><img src=\"../04159094d330187d96682e7798bfbb21b0aae5810/expr.png\" style=\"display:inline;vertical-align:middle;\" /></a></td></tr>\n",
       "<tr><td>10</td><td>Lambda</td><td>parameters:&nbsp;12<br>body:&nbsp;13<br></td><td><a class=\"ProveItLink\" href=\"../44f95f1619bd5569287152f8e67c6fd1c8cdb72e0/expr.ipynb\"><img src=\"../44f95f1619bd5569287152f8e67c6fd1c8cdb72e0/expr.png\" style=\"display:inline;vertical-align:middle;\" /></a></td></tr>\n",
       "<tr><td>11</td><td>Literal</td><td></td><td><a class=\"ProveItLink\" href=\"../../../../../numbers/number_sets/natural_numbers/__pv_it/common/85c8b43c90a7392ebb5459360d343dfa7c7408b50/expr.ipynb\"><img src=\"../../../../../numbers/number_sets/natural_numbers/__pv_it/common/85c8b43c90a7392ebb5459360d343dfa7c7408b50/expr.png\" style=\"display:inline;vertical-align:middle;\" /></a></td></tr>\n",
       "<tr><td>12</td><td>ExprTuple</td><td>19, 25</td><td><a class=\"ProveItLink\" href=\"../37561b882c737bfa62154e7b5f72483635c31e960/expr.ipynb\"><img src=\"../37561b882c737bfa62154e7b5f72483635c31e960/expr.png\" style=\"display:inline;vertical-align:middle;\" /></a></td></tr>\n",
       "<tr><td>13</td><td>Operation</td><td>operator:&nbsp;14<br>operands:&nbsp;15<br></td><td><a class=\"ProveItLink\" href=\"../5869431122a243179903d9045b55f03454752f660/expr.ipynb\"><img src=\"../5869431122a243179903d9045b55f03454752f660/expr.png\" style=\"display:inline;vertical-align:middle;\" /></a></td></tr>\n",
       "<tr><td>14</td><td>Literal</td><td></td><td><a class=\"ProveItLink\" href=\"../../../../../logic/equality/__pv_it/common/731dd3955b346c1320ed5c0ba7a618bcda61457d0/expr.ipynb\"><img src=\"../../../../../logic/equality/__pv_it/common/731dd3955b346c1320ed5c0ba7a618bcda61457d0/expr.png\" style=\"display:inline;vertical-align:middle;\" /></a></td></tr>\n",
       "<tr><td>15</td><td>ExprTuple</td><td>16, 17</td><td><a class=\"ProveItLink\" href=\"../31f890cb8cb276a7104671c2261fd686d988ff780/expr.ipynb\"><img src=\"../31f890cb8cb276a7104671c2261fd686d988ff780/expr.png\" style=\"display:inline;vertical-align:middle;\" /></a></td></tr>\n",
       "<tr><td>16</td><td>Conditional</td><td>value:&nbsp;19<br>condition:&nbsp;18<br></td><td><a class=\"ProveItLink\" href=\"../e0f78e9b0a48ede6b32a4f4645e92892c4ce99e70/expr.ipynb\"><img src=\"../e0f78e9b0a48ede6b32a4f4645e92892c4ce99e70/expr.png\" style=\"display:inline;vertical-align:middle;\" /></a></td></tr>\n",
       "<tr><td>17</td><td>Conditional</td><td>value:&nbsp;19<br>condition:&nbsp;21<br></td><td><a class=\"ProveItLink\" href=\"../48ecf1ae5640762e4472be9571996e6e9b6d5ac90/expr.ipynb\"><img src=\"../48ecf1ae5640762e4472be9571996e6e9b6d5ac90/expr.png\" style=\"display:inline;vertical-align:middle;\" /></a></td></tr>\n",
       "<tr><td>18</td><td>Operation</td><td>operator:&nbsp;23<br>operands:&nbsp;20<br></td><td><a class=\"ProveItLink\" href=\"../587e70b6dfa6964ed3e060de80480381f0e6d32b0/expr.ipynb\"><img src=\"../587e70b6dfa6964ed3e060de80480381f0e6d32b0/expr.png\" style=\"display:inline;vertical-align:middle;\" /></a></td></tr>\n",
       "<tr><td>19</td><td>Variable</td><td></td><td><a class=\"ProveItLink\" href=\"../../../../../__pv_it/common/66c90e66682f107a881f2d666959f64e2e72ad750/expr.ipynb\"><img src=\"../../../../../__pv_it/common/66c90e66682f107a881f2d666959f64e2e72ad750/expr.png\" style=\"display:inline;vertical-align:middle;\" /></a></td></tr>\n",
       "<tr><td>20</td><td>ExprTuple</td><td>21, 22</td><td><a class=\"ProveItLink\" href=\"../01e12ec40c3fd9405ecc40766bdc580d0ebade7b0/expr.ipynb\"><img src=\"../01e12ec40c3fd9405ecc40766bdc580d0ebade7b0/expr.png\" style=\"display:inline;vertical-align:middle;\" /></a></td></tr>\n",
       "<tr><td>21</td><td>Operation</td><td>operator:&nbsp;23<br>operands:&nbsp;24<br></td><td><a class=\"ProveItLink\" href=\"../987896826c4f5205b0624a3d15c2f4530c9622990/expr.ipynb\"><img src=\"../987896826c4f5205b0624a3d15c2f4530c9622990/expr.png\" style=\"display:inline;vertical-align:middle;\" /></a></td></tr>\n",
       "<tr><td>22</td><td>Literal</td><td></td><td><a class=\"ProveItLink\" href=\"../../../../../logic/booleans/__pv_it/common/373f61d65f7ccc0f6ebbafaccf02f2693d0e3bad0/expr.ipynb\"><img src=\"../../../../../logic/booleans/__pv_it/common/373f61d65f7ccc0f6ebbafaccf02f2693d0e3bad0/expr.png\" style=\"display:inline;vertical-align:middle;\" /></a></td></tr>\n",
       "<tr><td>23</td><td>Literal</td><td></td><td><a class=\"ProveItLink\" href=\"../../../../../logic/booleans/conjunction/__pv_it/common/26b94b53e70b1d77b70f0d9d4236347db37731060/expr.ipynb\"><img src=\"../../../../../logic/booleans/conjunction/__pv_it/common/26b94b53e70b1d77b70f0d9d4236347db37731060/expr.png\" style=\"display:inline;vertical-align:middle;\" /></a></td></tr>\n",
       "<tr><td>24</td><td>ExprTuple</td><td>25</td><td><a class=\"ProveItLink\" href=\"../39667b81e8611f5d0a95e6ef7e81c6d6a67d6bea0/expr.ipynb\"><img src=\"../39667b81e8611f5d0a95e6ef7e81c6d6a67d6bea0/expr.png\" style=\"display:inline;vertical-align:middle;\" /></a></td></tr>\n",
       "<tr><td>25</td><td>ExprRange</td><td>lambda_map:&nbsp;26<br>start_index:&nbsp;27<br>end_index:&nbsp;28<br></td><td><a class=\"ProveItLink\" href=\"../../../../__pv_it/common/6b2f10dd5bae1fe069d44d1fca637baefa3f9f760/expr.ipynb\"><img src=\"../../../../__pv_it/common/6b2f10dd5bae1fe069d44d1fca637baefa3f9f760/expr.png\" style=\"display:inline;vertical-align:middle;\" /></a></td></tr>\n",
       "<tr><td>26</td><td>Lambda</td><td>parameter:&nbsp;32<br>body:&nbsp;29<br></td><td><a class=\"ProveItLink\" href=\"../../../../__pv_it/common/4884834b72dd9f1b6be38164aa5777493879781e0/expr.ipynb\"><img src=\"../../../../__pv_it/common/4884834b72dd9f1b6be38164aa5777493879781e0/expr.png\" style=\"display:inline;vertical-align:middle;\" /></a></td></tr>\n",
       "<tr><td>27</td><td>Literal</td><td></td><td><a class=\"ProveItLink\" href=\"../../../../../numbers/numerals/__pv_it/common/d278e359da0695d9652dd541d45264f93703e2e40/expr.ipynb\"><img src=\"../../../../../numbers/numerals/__pv_it/common/d278e359da0695d9652dd541d45264f93703e2e40/expr.png\" style=\"display:inline;vertical-align:middle;\" /></a></td></tr>\n",
       "<tr><td>28</td><td>Variable</td><td></td><td><a class=\"ProveItLink\" href=\"../../../../../__pv_it/common/2dc4f15b3407a25e8d70754a86bf74f1871f92650/expr.ipynb\"><img src=\"../../../../../__pv_it/common/2dc4f15b3407a25e8d70754a86bf74f1871f92650/expr.png\" style=\"display:inline;vertical-align:middle;\" /></a></td></tr>\n",
       "<tr><td>29</td><td>IndexedVar</td><td>variable:&nbsp;30<br>index:&nbsp;32<br></td><td><a class=\"ProveItLink\" href=\"../../../../__pv_it/common/8974348e29be66e0cc7a4f21b923ebda1884b9f80/expr.ipynb\"><img src=\"../../../../__pv_it/common/8974348e29be66e0cc7a4f21b923ebda1884b9f80/expr.png\" style=\"display:inline;vertical-align:middle;\" /></a></td></tr>\n",
       "<tr><td>30</td><td>Variable</td><td></td><td><a class=\"ProveItLink\" href=\"../../../../../__pv_it/common/50527aea954422d65ebe44b8de200683294751540/expr.ipynb\"><img src=\"../../../../../__pv_it/common/50527aea954422d65ebe44b8de200683294751540/expr.png\" style=\"display:inline;vertical-align:middle;\" /></a></td></tr>\n",
       "<tr><td>31</td><td>ExprTuple</td><td>32</td><td><a class=\"ProveItLink\" href=\"../../../../__pv_it/common/ecf50ade416ab41c42c9f4e777b4c862cd9469670/expr.ipynb\"><img src=\"../../../../__pv_it/common/ecf50ade416ab41c42c9f4e777b4c862cd9469670/expr.png\" style=\"display:inline;vertical-align:middle;\" /></a></td></tr>\n",
       "<tr><td>32</td><td>Variable</td><td></td><td><a class=\"ProveItLink\" href=\"../../../../__pv_it/common/9e6d9d5d7eeb0342cf5bca68def0eb165a1a9bb10/expr.ipynb\"><img src=\"../../../../__pv_it/common/9e6d9d5d7eeb0342cf5bca68def0eb165a1a9bb10/expr.png\" style=\"display:inline;vertical-align:middle;\" /></a></td></tr>\n",
       "</table>\n"
      ],
      "text/plain": [
       "0. forall_{m in Natural} [forall_{a, Q_{1}, ..Q_{_a}.., Q_{m}} ({a if Q_{1} and ..Q_{_a}.. and Q_{m} ,  TRUE. \\\\  = {a if Q_{1} and ..Q_{_a}.. and Q_{m}.)]\n",
       "   core type: Operation\n",
       "   operator: 6\n",
       "   operand: 2\n",
       "1. (m -> {forall_{a, Q_{1}, ..Q_{_a}.., Q_{m}} ({a if Q_{1} and ..Q_{_a}.. and Q_{m} ,  TRUE. \\\\  = {a if Q_{1} and ..Q_{_a}.. and Q_{m}.) if m in Natural.)\n",
       "   core type: ExprTuple\n",
       "   sub-expressions: 2\n",
       "2. m -> {forall_{a, Q_{1}, ..Q_{_a}.., Q_{m}} ({a if Q_{1} and ..Q_{_a}.. and Q_{m} ,  TRUE. \\\\  = {a if Q_{1} and ..Q_{_a}.. and Q_{m}.) if m in Natural.\n",
       "   core type: Lambda\n",
       "   parameter: 28\n",
       "   body: 3\n",
       "3. {forall_{a, Q_{1}, ..Q_{_a}.., Q_{m}} ({a if Q_{1} and ..Q_{_a}.. and Q_{m} ,  TRUE. \\\\  = {a if Q_{1} and ..Q_{_a}.. and Q_{m}.) if m in Natural.\n",
       "   core type: Conditional\n",
       "   value: 4\n",
       "   condition: 5\n",
       "4. forall_{a, Q_{1}, ..Q_{_a}.., Q_{m}} ({a if Q_{1} and ..Q_{_a}.. and Q_{m} ,  TRUE. \\\\  = {a if Q_{1} and ..Q_{_a}.. and Q_{m}.)\n",
       "   core type: Operation\n",
       "   operator: 6\n",
       "   operand: 10\n",
       "5. m in Natural\n",
       "   core type: Operation\n",
       "   operator: 8\n",
       "   operands: 9\n",
       "6. forall\n",
       "   core type: Literal\n",
       "   sub-expressions: \n",
       "7. ((a, Q_{1}, ..Q_{_a}.., Q_{m}) -> ({a if Q_{1} and ..Q_{_a}.. and Q_{m} ,  TRUE. \\\\  = {a if Q_{1} and ..Q_{_a}.. and Q_{m}.))\n",
       "   core type: ExprTuple\n",
       "   sub-expressions: 10\n",
       "8. in\n",
       "   core type: Literal\n",
       "   sub-expressions: \n",
       "9. (m, Natural)\n",
       "   core type: ExprTuple\n",
       "   sub-expressions: 28, 11\n",
       "10. (a, Q_{1}, ..Q_{_a}.., Q_{m}) -> ({a if Q_{1} and ..Q_{_a}.. and Q_{m} ,  TRUE. \\\\  = {a if Q_{1} and ..Q_{_a}.. and Q_{m}.)\n",
       "    core type: Lambda\n",
       "    parameters: 12\\n    body: 13\n",
       "11. Natural\n",
       "    core type: Literal\n",
       "    sub-expressions: \n",
       "12. (a, Q_{1}, ..Q_{_a}.., Q_{m})\n",
       "    core type: ExprTuple\n",
       "    sub-expressions: 19, 25\n",
       "13. {a if Q_{1} and ..Q_{_a}.. and Q_{m} ,  TRUE. \\\\  = {a if Q_{1} and ..Q_{_a}.. and Q_{m}.\n",
       "    core type: Operation\n",
       "    operator: 14\n",
       "    operands: 15\n",
       "14. =\n",
       "    core type: Literal\n",
       "    sub-expressions: \n",
       "15. (a if Q_{1} and ..Q_{_a}.. and Q_{m} ,  TRUE, a if Q_{1} and ..Q_{_a}.. and Q_{m})\n",
       "    core type: ExprTuple\n",
       "    sub-expressions: 16, 17\n",
       "16. {a if Q_{1} and ..Q_{_a}.. and Q_{m} ,  TRUE.\n",
       "    core type: Conditional\n",
       "    value: 19\n",
       "    condition: 18\n",
       "17. {a if Q_{1} and ..Q_{_a}.. and Q_{m}.\n",
       "    core type: Conditional\n",
       "    value: 19\n",
       "    condition: 21\n",
       "18. (Q_{1} and ..Q_{_a}.. and Q_{m}) and TRUE\n",
       "    core type: Operation\n",
       "    operator: 23\n",
       "    operands: 20\n",
       "19. a\n",
       "    core type: Variable\n",
       "    sub-expressions: \n",
       "20. (Q_{1} and ..Q_{_a}.. and Q_{m}, TRUE)\n",
       "    core type: ExprTuple\n",
       "    sub-expressions: 21, 22\n",
       "21. Q_{1} and ..Q_{_a}.. and Q_{m}\n",
       "    core type: Operation\n",
       "    operator: 23\n",
       "    operands: 24\n",
       "22. TRUE\n",
       "    core type: Literal\n",
       "    sub-expressions: \n",
       "23. and\n",
       "    core type: Literal\n",
       "    sub-expressions: \n",
       "24. (Q_{1}, ..Q_{_a}.., Q_{m})\n",
       "    core type: ExprTuple\n",
       "    sub-expressions: 25\n",
       "25. Q_{1}, ..Q_{_a}.., Q_{m}\n",
       "    core type: ExprRange\n",
       "    lambda_map: 26\n",
       "    start_index: 27\n",
       "    end_index: 28\n",
       "26. _a -> Q_{_a}\n",
       "    core type: Lambda\n",
       "    parameter: 32\n",
       "    body: 29\n",
       "27. 1\n",
       "    core type: Literal\n",
       "    sub-expressions: \n",
       "28. m\n",
       "    core type: Variable\n",
       "    sub-expressions: \n",
       "29. Q_{_a}\n",
       "    core type: IndexedVar\n",
       "variable: 30\n",
       "index: 32\n",
       "30. Q\n",
       "    core type: Variable\n",
       "    sub-expressions: \n",
       "31. (_a)\n",
       "    core type: ExprTuple\n",
       "    sub-expressions: 32\n",
       "32. _a\n",
       "    core type: Variable\n",
       "    sub-expressions: "
      ]
     },
     "execution_count": 6,
     "metadata": {},
     "output_type": "execute_result"
    }
   ],
   "source": [
    "# display the expression information\n",
    "expr.expr_info()"
   ]
  },
  {
   "cell_type": "code",
   "execution_count": null,
   "metadata": {},
   "outputs": [],
   "source": []
  }
 ],
 "metadata": {
  "kernelspec": {
   "display_name": "Python 3",
   "language": "python",
   "name": "python3"
  }
 },
 "nbformat": 4,
 "nbformat_minor": 0
}