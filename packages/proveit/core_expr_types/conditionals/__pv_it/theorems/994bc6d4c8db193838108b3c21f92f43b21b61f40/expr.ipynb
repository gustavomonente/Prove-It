{
 "cells": [
  {
   "cell_type": "markdown",
   "metadata": {},
   "source": [
    "Expression of type <a class=\"ProveItLink\" href=\"../../../../../../../doc/html/api/proveit.logic.Forall.html\">Forall</a>\n",
    "=======================\n",
    "# from the theory of <a class=\"ProveItLink\" href=\"../../../_theory_nbs_/theory.ipynb\">proveit.core_expr_types.conditionals</a>"
   ]
  },
  {
   "cell_type": "code",
   "execution_count": 1,
   "metadata": {},
   "outputs": [],
   "source": [
    "import proveit\n",
    "# Automation is not needed when building an expression:\n",
    "proveit.defaults.automation = False # This will speed things up.\n",
    "proveit.defaults.inline_pngs = False # Makes files smaller.\n",
    "%load_expr # Load the stored expression as 'stored_expr'\n",
    "# import Expression classes needed to build the expression\n",
    "from proveit import Conditional, R, a\n",
    "from proveit.core_expr_types import Q_1_to_m\n",
    "from proveit.logic import And, Equals, Forall"
   ]
  },
  {
   "cell_type": "code",
   "execution_count": 2,
   "metadata": {},
   "outputs": [
    {
     "data": {
      "text/html": [
       "<strong id=\"expr\">expr:</strong> <a class=\"ProveItLink\" href=\"expr.ipynb\"><img src=\"expr.png\" style=\"display:inline;vertical-align:middle;\" /></a><br>"
      ],
      "text/plain": [
       "expr: forall_{a, Q_{1}, ..Q_{_a}.., Q_{m}, R} ({a if Q_{1} and ..Q_{_a}.. and Q_{m} ,  R. \\\\  = {a if Q_{1} ,  ..Q_{_a}.. ,  Q_{m} ,  R.)"
      ]
     },
     "execution_count": 2,
     "metadata": {},
     "output_type": "execute_result"
    }
   ],
   "source": [
    "# build up the expression from sub-expressions\n",
    "expr = Forall([a, Q_1_to_m, R], Equals(Conditional(a, And(And(Q_1_to_m), R)), Conditional(a, And(Q_1_to_m, R))).with_wrapping_at(1))"
   ]
  },
  {
   "cell_type": "code",
   "execution_count": 3,
   "metadata": {},
   "outputs": [
    {
     "name": "stdout",
     "output_type": "stream",
     "text": [
      "Passed sanity check: expr matches stored_expr\n"
     ]
    }
   ],
   "source": [
    "# check that the built expression is the same as the stored expression\n",
    "assert expr == stored_expr\n",
    "assert expr._style_id == stored_expr._style_id\n",
    "print(\"Passed sanity check: expr matches stored_expr\")"
   ]
  },
  {
   "cell_type": "code",
   "execution_count": 4,
   "metadata": {},
   "outputs": [
    {
     "name": "stdout",
     "output_type": "stream",
     "text": [
      "\\forall_{a, Q_{1}, \\ldots, Q_{m}, R}~\\left(\\begin{array}{c} \\left\\{a \\textrm{ if } Q_{1} \\land \\ldots \\land Q_{m} ,  R\\right.. \\\\  = \\left\\{a \\textrm{ if } Q_{1} ,  \\ldots ,  Q_{m} ,  R\\right.. \\end{array}\\right)\n"
     ]
    }
   ],
   "source": [
    "# Show the LaTeX representation of the expression for convenience if you need it.\n",
    "print(expr.latex())"
   ]
  },
  {
   "cell_type": "code",
   "execution_count": 5,
   "metadata": {},
   "outputs": [
    {
     "data": {
      "text/html": [
       "<table><tr><th>&nbsp;</th><th>core type</th><th>sub-expressions</th><th>expression</th></tr>\n",
       "<tr><td>0</td><td>Operation</td><td>operator:&nbsp;1<br>operand:&nbsp;2<br></td><td><a class=\"ProveItLink\" href=\"expr.ipynb\"><img src=\"expr.png\" style=\"display:inline;vertical-align:middle;\" /></a></td></tr>\n",
       "<tr><td>1</td><td>Literal</td><td></td><td><a class=\"ProveItLink\" href=\"../../../../../logic/booleans/quantification/universality/__pv_it/common/083d2baa0b8ecab1d230f9ec29a15aa1355809fb0/expr.ipynb\"><img src=\"../../../../../logic/booleans/quantification/universality/__pv_it/common/083d2baa0b8ecab1d230f9ec29a15aa1355809fb0/expr.png\" style=\"display:inline;vertical-align:middle;\" /></a></td></tr>\n",
       "<tr><td>2</td><td>Lambda</td><td>parameters:&nbsp;3<br>body:&nbsp;4<br></td><td><a class=\"ProveItLink\" href=\"../901937ce0745b30f04232c16a131a086a750a8970/expr.ipynb\"><img src=\"../901937ce0745b30f04232c16a131a086a750a8970/expr.png\" style=\"display:inline;vertical-align:middle;\" /></a></td></tr>\n",
       "<tr><td>3</td><td>ExprTuple</td><td>10, 18, 15</td><td><a class=\"ProveItLink\" href=\"../f46197a5afe4b35122a6d040761db665cf078c880/expr.ipynb\"><img src=\"../f46197a5afe4b35122a6d040761db665cf078c880/expr.png\" style=\"display:inline;vertical-align:middle;\" /></a></td></tr>\n",
       "<tr><td>4</td><td>Operation</td><td>operator:&nbsp;5<br>operands:&nbsp;6<br></td><td><a class=\"ProveItLink\" href=\"../72ff4753bd99ba7d395956b5eaca28f38cbc7ec40/expr.ipynb\"><img src=\"../72ff4753bd99ba7d395956b5eaca28f38cbc7ec40/expr.png\" style=\"display:inline;vertical-align:middle;\" /></a></td></tr>\n",
       "<tr><td>5</td><td>Literal</td><td></td><td><a class=\"ProveItLink\" href=\"../../../../../logic/equality/__pv_it/common/fb96dc12b2aa8801dda64d0132b396c63d1502bb0/expr.ipynb\"><img src=\"../../../../../logic/equality/__pv_it/common/fb96dc12b2aa8801dda64d0132b396c63d1502bb0/expr.png\" style=\"display:inline;vertical-align:middle;\" /></a></td></tr>\n",
       "<tr><td>6</td><td>ExprTuple</td><td>7, 8</td><td><a class=\"ProveItLink\" href=\"../4542c90a1670110ecdc61cd34d7dc61b7e9cd7720/expr.ipynb\"><img src=\"../4542c90a1670110ecdc61cd34d7dc61b7e9cd7720/expr.png\" style=\"display:inline;vertical-align:middle;\" /></a></td></tr>\n",
       "<tr><td>7</td><td>Conditional</td><td>value:&nbsp;10<br>condition:&nbsp;9<br></td><td><a class=\"ProveItLink\" href=\"../2d6ce3f3f576bf4bd178513a81fcf4f702c84e600/expr.ipynb\"><img src=\"../2d6ce3f3f576bf4bd178513a81fcf4f702c84e600/expr.png\" style=\"display:inline;vertical-align:middle;\" /></a></td></tr>\n",
       "<tr><td>8</td><td>Conditional</td><td>value:&nbsp;10<br>condition:&nbsp;11<br></td><td><a class=\"ProveItLink\" href=\"../695a75803ddd5c3a6d3a8020279d630c950fb3090/expr.ipynb\"><img src=\"../695a75803ddd5c3a6d3a8020279d630c950fb3090/expr.png\" style=\"display:inline;vertical-align:middle;\" /></a></td></tr>\n",
       "<tr><td>9</td><td>Operation</td><td>operator:&nbsp;16<br>operands:&nbsp;12<br></td><td><a class=\"ProveItLink\" href=\"../c069be5a95ffddbee7d7643aa0fd919e8d2d2f120/expr.ipynb\"><img src=\"../c069be5a95ffddbee7d7643aa0fd919e8d2d2f120/expr.png\" style=\"display:inline;vertical-align:middle;\" /></a></td></tr>\n",
       "<tr><td>10</td><td>Variable</td><td></td><td><a class=\"ProveItLink\" href=\"../../../../../__pv_it/common/c06c606ec12678c58933ac85412ecadc2ae28be60/expr.ipynb\"><img src=\"../../../../../__pv_it/common/c06c606ec12678c58933ac85412ecadc2ae28be60/expr.png\" style=\"display:inline;vertical-align:middle;\" /></a></td></tr>\n",
       "<tr><td>11</td><td>Operation</td><td>operator:&nbsp;16<br>operands:&nbsp;13<br></td><td><a class=\"ProveItLink\" href=\"../492741070e8fbe94332d43fc4be62d6a2c3f53a20/expr.ipynb\"><img src=\"../492741070e8fbe94332d43fc4be62d6a2c3f53a20/expr.png\" style=\"display:inline;vertical-align:middle;\" /></a></td></tr>\n",
       "<tr><td>12</td><td>ExprTuple</td><td>14, 15</td><td><a class=\"ProveItLink\" href=\"../6fac3f4176a773919ecf476704946b0c83c2b72d0/expr.ipynb\"><img src=\"../6fac3f4176a773919ecf476704946b0c83c2b72d0/expr.png\" style=\"display:inline;vertical-align:middle;\" /></a></td></tr>\n",
       "<tr><td>13</td><td>ExprTuple</td><td>18, 15</td><td><a class=\"ProveItLink\" href=\"../4d01bfc5d2c8eb905be1912fff5a3ad236227d7a0/expr.ipynb\"><img src=\"../4d01bfc5d2c8eb905be1912fff5a3ad236227d7a0/expr.png\" style=\"display:inline;vertical-align:middle;\" /></a></td></tr>\n",
       "<tr><td>14</td><td>Operation</td><td>operator:&nbsp;16<br>operands:&nbsp;17<br></td><td><a class=\"ProveItLink\" href=\"../472cd00e6dd191e8fb8a4aea7a5da0c8169baee70/expr.ipynb\"><img src=\"../472cd00e6dd191e8fb8a4aea7a5da0c8169baee70/expr.png\" style=\"display:inline;vertical-align:middle;\" /></a></td></tr>\n",
       "<tr><td>15</td><td>Variable</td><td></td><td><a class=\"ProveItLink\" href=\"../../../../../__pv_it/common/647ca33d6b96e29d5aa85a15d2241c7ebd0c6e4b0/expr.ipynb\"><img src=\"../../../../../__pv_it/common/647ca33d6b96e29d5aa85a15d2241c7ebd0c6e4b0/expr.png\" style=\"display:inline;vertical-align:middle;\" /></a></td></tr>\n",
       "<tr><td>16</td><td>Literal</td><td></td><td><a class=\"ProveItLink\" href=\"../../../../../logic/booleans/conjunction/__pv_it/common/42118ff318bd65d98b1393f64ce7c2269feef76e0/expr.ipynb\"><img src=\"../../../../../logic/booleans/conjunction/__pv_it/common/42118ff318bd65d98b1393f64ce7c2269feef76e0/expr.png\" style=\"display:inline;vertical-align:middle;\" /></a></td></tr>\n",
       "<tr><td>17</td><td>ExprTuple</td><td>18</td><td><a class=\"ProveItLink\" href=\"../70ea18114744a46b76f8c94538437b4ae62d0d900/expr.ipynb\"><img src=\"../70ea18114744a46b76f8c94538437b4ae62d0d900/expr.png\" style=\"display:inline;vertical-align:middle;\" /></a></td></tr>\n",
       "<tr><td>18</td><td>ExprRange</td><td>lambda_map:&nbsp;19<br>start_index:&nbsp;20<br>end_index:&nbsp;21<br></td><td><a class=\"ProveItLink\" href=\"../../../../__pv_it/common/09cec181cd915ba5b46ab2fd4fb50688b1cd2d5e0/expr.ipynb\"><img src=\"../../../../__pv_it/common/09cec181cd915ba5b46ab2fd4fb50688b1cd2d5e0/expr.png\" style=\"display:inline;vertical-align:middle;\" /></a></td></tr>\n",
       "<tr><td>19</td><td>Lambda</td><td>parameter:&nbsp;24<br>body:&nbsp;22<br></td><td><a class=\"ProveItLink\" href=\"../../../../__pv_it/common/37828762a018e66dcfd7edb82c2ba6f46325d8ad0/expr.ipynb\"><img src=\"../../../../__pv_it/common/37828762a018e66dcfd7edb82c2ba6f46325d8ad0/expr.png\" style=\"display:inline;vertical-align:middle;\" /></a></td></tr>\n",
       "<tr><td>20</td><td>Literal</td><td></td><td><a class=\"ProveItLink\" href=\"../../../../../numbers/numerals/__pv_it/common/2778428c7f555b2bdc06aa0530bc142c6e6335100/expr.ipynb\"><img src=\"../../../../../numbers/numerals/__pv_it/common/2778428c7f555b2bdc06aa0530bc142c6e6335100/expr.png\" style=\"display:inline;vertical-align:middle;\" /></a></td></tr>\n",
       "<tr><td>21</td><td>Variable</td><td></td><td><a class=\"ProveItLink\" href=\"../../../../../__pv_it/common/674a03b9c3ca221b3aabd5636837b31528ff33830/expr.ipynb\"><img src=\"../../../../../__pv_it/common/674a03b9c3ca221b3aabd5636837b31528ff33830/expr.png\" style=\"display:inline;vertical-align:middle;\" /></a></td></tr>\n",
       "<tr><td>22</td><td>IndexedVar</td><td>variable:&nbsp;23<br>index:&nbsp;24<br></td><td><a class=\"ProveItLink\" href=\"../../../../__pv_it/common/e3d1486c0cb59252413aa1409e799d0579c2ce690/expr.ipynb\"><img src=\"../../../../__pv_it/common/e3d1486c0cb59252413aa1409e799d0579c2ce690/expr.png\" style=\"display:inline;vertical-align:middle;\" /></a></td></tr>\n",
       "<tr><td>23</td><td>Variable</td><td></td><td><a class=\"ProveItLink\" href=\"../../../../../__pv_it/common/d72bb8b07403efe79afab564c36a28e21330e5f90/expr.ipynb\"><img src=\"../../../../../__pv_it/common/d72bb8b07403efe79afab564c36a28e21330e5f90/expr.png\" style=\"display:inline;vertical-align:middle;\" /></a></td></tr>\n",
       "<tr><td>24</td><td>Variable</td><td></td><td><a class=\"ProveItLink\" href=\"../../../../__pv_it/common/006c465e50948aa2b52285e2de47974f741255cc0/expr.ipynb\"><img src=\"../../../../__pv_it/common/006c465e50948aa2b52285e2de47974f741255cc0/expr.png\" style=\"display:inline;vertical-align:middle;\" /></a></td></tr>\n",
       "</table>\n"
      ],
      "text/plain": [
       "0. forall_{a, Q_{1}, ..Q_{_a}.., Q_{m}, R} ({a if Q_{1} and ..Q_{_a}.. and Q_{m} ,  R. \\\\  = {a if Q_{1} ,  ..Q_{_a}.. ,  Q_{m} ,  R.)\n",
       "   core type: Operation\n",
       "   operator: 1\n",
       "   operand: 2\n",
       "1. forall\n",
       "   core type: Literal\n",
       "   sub-expressions: \n",
       "2. (a, Q_{1}, ..Q_{_a}.., Q_{m}, R) -> ({a if Q_{1} and ..Q_{_a}.. and Q_{m} ,  R. \\\\  = {a if Q_{1} ,  ..Q_{_a}.. ,  Q_{m} ,  R.)\n",
       "   core type: Lambda\n",
       "   parameters: 3\\n   body: 4\n",
       "3. (a, Q_{1}, ..Q_{_a}.., Q_{m}, R)\n",
       "   core type: ExprTuple\n",
       "   sub-expressions: 10, 18, 15\n",
       "4. {a if Q_{1} and ..Q_{_a}.. and Q_{m} ,  R. \\\\  = {a if Q_{1} ,  ..Q_{_a}.. ,  Q_{m} ,  R.\n",
       "   core type: Operation\n",
       "   operator: 5\n",
       "   operands: 6\n",
       "5. =\n",
       "   core type: Literal\n",
       "   sub-expressions: \n",
       "6. (a if Q_{1} and ..Q_{_a}.. and Q_{m} ,  R, a if Q_{1} ,  ..Q_{_a}.. ,  Q_{m} ,  R)\n",
       "   core type: ExprTuple\n",
       "   sub-expressions: 7, 8\n",
       "7. {a if Q_{1} and ..Q_{_a}.. and Q_{m} ,  R.\n",
       "   core type: Conditional\n",
       "   value: 10\n",
       "   condition: 9\n",
       "8. {a if Q_{1} ,  ..Q_{_a}.. ,  Q_{m} ,  R.\n",
       "   core type: Conditional\n",
       "   value: 10\n",
       "   condition: 11\n",
       "9. (Q_{1} and ..Q_{_a}.. and Q_{m}) and R\n",
       "   core type: Operation\n",
       "   operator: 16\n",
       "   operands: 12\n",
       "10. a\n",
       "    core type: Variable\n",
       "    sub-expressions: \n",
       "11. Q_{1} and ..Q_{_a}.. and Q_{m} and R\n",
       "    core type: Operation\n",
       "    operator: 16\n",
       "    operands: 13\n",
       "12. (Q_{1} and ..Q_{_a}.. and Q_{m}, R)\n",
       "    core type: ExprTuple\n",
       "    sub-expressions: 14, 15\n",
       "13. (Q_{1}, ..Q_{_a}.., Q_{m}, R)\n",
       "    core type: ExprTuple\n",
       "    sub-expressions: 18, 15\n",
       "14. Q_{1} and ..Q_{_a}.. and Q_{m}\n",
       "    core type: Operation\n",
       "    operator: 16\n",
       "    operands: 17\n",
       "15. R\n",
       "    core type: Variable\n",
       "    sub-expressions: \n",
       "16. and\n",
       "    core type: Literal\n",
       "    sub-expressions: \n",
       "17. (Q_{1}, ..Q_{_a}.., Q_{m})\n",
       "    core type: ExprTuple\n",
       "    sub-expressions: 18\n",
       "18. Q_{1}, ..Q_{_a}.., Q_{m}\n",
       "    core type: ExprRange\n",
       "    lambda_map: 19\n",
       "    start_index: 20\n",
       "    end_index: 21\n",
       "19. _a -> Q_{_a}\n",
       "    core type: Lambda\n",
       "    parameter: 24\n",
       "    body: 22\n",
       "20. 1\n",
       "    core type: Literal\n",
       "    sub-expressions: \n",
       "21. m\n",
       "    core type: Variable\n",
       "    sub-expressions: \n",
       "22. Q_{_a}\n",
       "    core type: IndexedVar\n",
       "variable: 23\n",
       "index: 24\n",
       "23. Q\n",
       "    core type: Variable\n",
       "    sub-expressions: \n",
       "24. _a\n",
       "    core type: Variable\n",
       "    sub-expressions: "
      ]
     },
     "execution_count": 5,
     "metadata": {},
     "output_type": "execute_result"
    }
   ],
   "source": [
    "# display the expression information\n",
    "expr.expr_info()"
   ]
  },
  {
   "cell_type": "code",
   "execution_count": null,
   "metadata": {},
   "outputs": [],
   "source": []
  }
 ],
 "metadata": {
  "kernelspec": {
   "display_name": "Python 3",
   "language": "python",
   "name": "python3"
  }
 },
 "nbformat": 4,
 "nbformat_minor": 0
}