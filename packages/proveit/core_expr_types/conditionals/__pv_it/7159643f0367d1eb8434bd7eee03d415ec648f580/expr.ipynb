{
 "cells": [
  {
   "cell_type": "markdown",
   "metadata": {},
   "source": [
    "Expression of type <a class=\"ProveItLink\" href=\"../../../../../../doc/html/api/proveit.Lambda.html\">Lambda</a>\n",
    "=======================\n",
    "# from context <a class=\"ProveItLink\" href=\"../../_context_.ipynb\">proveit.core_expr_types.conditionals</a>"
   ]
  },
  {
   "cell_type": "code",
   "execution_count": 1,
   "metadata": {},
   "outputs": [],
   "source": [
    "import proveit\n",
    "# Automation is not needed when building an expression:\n",
    "proveit.defaults.automation = False # This will speed things up.\n",
    "proveit.defaults.inline_pngs = False # Makes files smaller.\n",
    "# import Expression classes needed to build the expression\n",
    "from proveit import Conditional, Lambda\n",
    "from proveit._common_ import a, m\n",
    "from proveit.core_expr_types._common_ import Q_1_to_m\n",
    "from proveit.logic import And, Equals, Forall, InSet, TRUE\n",
    "from proveit.number import Naturals"
   ]
  },
  {
   "cell_type": "code",
   "execution_count": 2,
   "metadata": {},
   "outputs": [
    {
     "data": {
      "text/html": [
       "<strong id=\"expr\">expr:</strong> <a class=\"ProveItLink\" href=\"expr.ipynb\"><img src=\"expr.png\" style=\"display:inline;vertical-align:middle;\" /></a><br>"
      ],
      "text/plain": [
       "expr: m -> {forall_{a, Q_{1}, ..Q_{_a}.., Q_{m}} ({a if TRUE ,  Q_{1} and ..Q_{_a}.. and Q_{m}. \\\\  = {a if Q_{1} and ..Q_{_a}.. and Q_{m}.) if m in Naturals."
      ]
     },
     "execution_count": 2,
     "metadata": {},
     "output_type": "execute_result"
    }
   ],
   "source": [
    "# build up the expression from sub-expressions\n",
    "subExpr1 = And(Q_1_to_m)\n",
    "expr = Lambda(m, Conditional(Forall([a, Q_1_to_m], Equals(Conditional(a, And(TRUE, subExpr1)), Conditional(a, subExpr1)).withWrappingAt(1)), InSet(m, Naturals)))"
   ]
  },
  {
   "cell_type": "code",
   "execution_count": 3,
   "metadata": {},
   "outputs": [
    {
     "name": "stdout",
     "output_type": "stream",
     "text": [
      "Passed sanity check: built 'expr' is the same as the stored Expression.\n"
     ]
    }
   ],
   "source": [
    "# check that the built expression is the same as the stored expression\n",
    "%check_expr"
   ]
  },
  {
   "cell_type": "code",
   "execution_count": 4,
   "metadata": {},
   "outputs": [
    {
     "name": "stdout",
     "output_type": "stream",
     "text": [
      "m \\mapsto \\left\\{\\forall_{a, Q_{1}, \\ldots, Q_{m}}~\\left(\\begin{array}{c} \\left\\{a \\textrm{ if } \\top ,  Q_{1} \\land \\ldots \\land Q_{m}\\right.. \\\\  = \\left\\{a \\textrm{ if } Q_{1} \\land \\ldots \\land Q_{m}\\right.. \\end{array}\\right) \\textrm{ if } m \\in \\mathbb{N}\\right..\n"
     ]
    }
   ],
   "source": [
    "# Show the LaTeX representation of the expression for convenience if you need it.\n",
    "print(expr.latex())"
   ]
  },
  {
   "cell_type": "code",
   "execution_count": 5,
   "metadata": {},
   "outputs": [
    {
     "data": {
      "text/html": [
       "<table><tr><th>&nbsp;</th><th>core type</th><th>sub-expressions</th><th>expression</th></tr>\n",
       "<tr><td>0</td><td>Lambda</td><td>parameter:&nbsp;25<br>body:&nbsp;1<br></td><td><a class=\"ProveItLink\" href=\"expr.ipynb\"><img src=\"expr.png\" style=\"display:inline;vertical-align:middle;\" /></a></td></tr>\n",
       "<tr><td>1</td><td>Conditional</td><td>value:&nbsp;2<br>condition:&nbsp;3<br></td><td><a class=\"ProveItLink\" href=\"../529038b2ab784e4d89d738d55b4acdf86e7ede3b0/expr.ipynb\"><img src=\"../529038b2ab784e4d89d738d55b4acdf86e7ede3b0/expr.png\" style=\"display:inline;vertical-align:middle;\" /></a></td></tr>\n",
       "<tr><td>2</td><td>Operation</td><td>operator:&nbsp;4<br>operand:&nbsp;5<br></td><td><a class=\"ProveItLink\" href=\"../9368c5fe31a802bd551d200d7f550ce22f05782a0/expr.ipynb\"><img src=\"../9368c5fe31a802bd551d200d7f550ce22f05782a0/expr.png\" style=\"display:inline;vertical-align:middle;\" /></a></td></tr>\n",
       "<tr><td>3</td><td>Operation</td><td>operator:&nbsp;6<br>operands:&nbsp;7<br></td><td><a class=\"ProveItLink\" href=\"../ad11778942ef0375d86b1f7877fe8941c18aa1e90/expr.ipynb\"><img src=\"../ad11778942ef0375d86b1f7877fe8941c18aa1e90/expr.png\" style=\"display:inline;vertical-align:middle;\" /></a></td></tr>\n",
       "<tr><td>4</td><td>Literal</td><td></td><td><a class=\"ProveItLink\" href=\"../../../../logic/boolean/quantification/universal/__pv_it/fd9c772d6675566ed52a6897806f45eb08a4ea910/expr.ipynb\"><img src=\"../../../../logic/boolean/quantification/universal/__pv_it/fd9c772d6675566ed52a6897806f45eb08a4ea910/expr.png\" style=\"display:inline;vertical-align:middle;\" /></a></td></tr>\n",
       "<tr><td>5</td><td>Lambda</td><td>parameters:&nbsp;8<br>body:&nbsp;9<br></td><td><a class=\"ProveItLink\" href=\"../51871c76cf159aebc35581b3fab0b558514030b70/expr.ipynb\"><img src=\"../51871c76cf159aebc35581b3fab0b558514030b70/expr.png\" style=\"display:inline;vertical-align:middle;\" /></a></td></tr>\n",
       "<tr><td>6</td><td>Literal</td><td></td><td><a class=\"ProveItLink\" href=\"../../../../logic/set_theory/membership/__pv_it/7776fc89cb67d0b5b1ec2c0c8e08da5587921ccf0/expr.ipynb\"><img src=\"../../../../logic/set_theory/membership/__pv_it/7776fc89cb67d0b5b1ec2c0c8e08da5587921ccf0/expr.png\" style=\"display:inline;vertical-align:middle;\" /></a></td></tr>\n",
       "<tr><td>7</td><td>ExprTuple</td><td>25, 10</td><td><a class=\"ProveItLink\" href=\"../13263128595eab3cbb0d7b226b8f6e6eda0ba9a40/expr.ipynb\"><img src=\"../13263128595eab3cbb0d7b226b8f6e6eda0ba9a40/expr.png\" style=\"display:inline;vertical-align:middle;\" /></a></td></tr>\n",
       "<tr><td>8</td><td>ExprTuple</td><td>16, 22</td><td><a class=\"ProveItLink\" href=\"../9a2f3c0807c94a6fd2bc93c8a314419978a9d0f10/expr.ipynb\"><img src=\"../9a2f3c0807c94a6fd2bc93c8a314419978a9d0f10/expr.png\" style=\"display:inline;vertical-align:middle;\" /></a></td></tr>\n",
       "<tr><td>9</td><td>Operation</td><td>operator:&nbsp;11<br>operands:&nbsp;12<br></td><td><a class=\"ProveItLink\" href=\"../caff2e7c6ac09437539074784fde782eb13c30d80/expr.ipynb\"><img src=\"../caff2e7c6ac09437539074784fde782eb13c30d80/expr.png\" style=\"display:inline;vertical-align:middle;\" /></a></td></tr>\n",
       "<tr><td>10</td><td>Literal</td><td></td><td><a class=\"ProveItLink\" href=\"../../../../number/sets/integer/__pv_it/b49c37b99b7e8d73a8d7971bcf454d693b90a2c60/expr.ipynb\"><img src=\"../../../../number/sets/integer/__pv_it/b49c37b99b7e8d73a8d7971bcf454d693b90a2c60/expr.png\" style=\"display:inline;vertical-align:middle;\" /></a></td></tr>\n",
       "<tr><td>11</td><td>Literal</td><td></td><td><a class=\"ProveItLink\" href=\"../../../../logic/equality/__pv_it/e16d2caa26a16688b658bdb9c422caf4b84579e10/expr.ipynb\"><img src=\"../../../../logic/equality/__pv_it/e16d2caa26a16688b658bdb9c422caf4b84579e10/expr.png\" style=\"display:inline;vertical-align:middle;\" /></a></td></tr>\n",
       "<tr><td>12</td><td>ExprTuple</td><td>13, 14</td><td><a class=\"ProveItLink\" href=\"../4aa06bb27176ab01f283c73b48d8b691e48406920/expr.ipynb\"><img src=\"../4aa06bb27176ab01f283c73b48d8b691e48406920/expr.png\" style=\"display:inline;vertical-align:middle;\" /></a></td></tr>\n",
       "<tr><td>13</td><td>Conditional</td><td>value:&nbsp;16<br>condition:&nbsp;15<br></td><td><a class=\"ProveItLink\" href=\"../b8cc26066552ee813364d5ec0fea826459b9926b0/expr.ipynb\"><img src=\"../b8cc26066552ee813364d5ec0fea826459b9926b0/expr.png\" style=\"display:inline;vertical-align:middle;\" /></a></td></tr>\n",
       "<tr><td>14</td><td>Conditional</td><td>value:&nbsp;16<br>condition:&nbsp;19<br></td><td><a class=\"ProveItLink\" href=\"../6e6173afad01fd46a1eb79bc244c29ef832a2d5c0/expr.ipynb\"><img src=\"../6e6173afad01fd46a1eb79bc244c29ef832a2d5c0/expr.png\" style=\"display:inline;vertical-align:middle;\" /></a></td></tr>\n",
       "<tr><td>15</td><td>Operation</td><td>operator:&nbsp;20<br>operands:&nbsp;17<br></td><td><a class=\"ProveItLink\" href=\"../2cc3e8c4261b7fd22f4b6f48a3e82736fd1b9d0b0/expr.ipynb\"><img src=\"../2cc3e8c4261b7fd22f4b6f48a3e82736fd1b9d0b0/expr.png\" style=\"display:inline;vertical-align:middle;\" /></a></td></tr>\n",
       "<tr><td>16</td><td>Variable</td><td></td><td><a class=\"ProveItLink\" href=\"../../../../__pv_it/a8d4b3a34d2189508f9082853fbac36935714f280/expr.ipynb\"><img src=\"../../../../__pv_it/a8d4b3a34d2189508f9082853fbac36935714f280/expr.png\" style=\"display:inline;vertical-align:middle;\" /></a></td></tr>\n",
       "<tr><td>17</td><td>ExprTuple</td><td>18, 19</td><td><a class=\"ProveItLink\" href=\"../973482cc2a60432d40031da4fd6ecf747928f5ce0/expr.ipynb\"><img src=\"../973482cc2a60432d40031da4fd6ecf747928f5ce0/expr.png\" style=\"display:inline;vertical-align:middle;\" /></a></td></tr>\n",
       "<tr><td>18</td><td>Literal</td><td></td><td><a class=\"ProveItLink\" href=\"../../../../logic/boolean/__pv_it/b5b8ce0f03ab68a7c7bb937dfeb4112a686e3cbb0/expr.ipynb\"><img src=\"../../../../logic/boolean/__pv_it/b5b8ce0f03ab68a7c7bb937dfeb4112a686e3cbb0/expr.png\" style=\"display:inline;vertical-align:middle;\" /></a></td></tr>\n",
       "<tr><td>19</td><td>Operation</td><td>operator:&nbsp;20<br>operands:&nbsp;21<br></td><td><a class=\"ProveItLink\" href=\"../7875c5825364e3f6725c8add9904ea9ca0c8c7580/expr.ipynb\"><img src=\"../7875c5825364e3f6725c8add9904ea9ca0c8c7580/expr.png\" style=\"display:inline;vertical-align:middle;\" /></a></td></tr>\n",
       "<tr><td>20</td><td>Literal</td><td></td><td><a class=\"ProveItLink\" href=\"../../../../logic/boolean/conjunction/__pv_it/f41cc6b553210927c09f19a8a39cdf860a5585930/expr.ipynb\"><img src=\"../../../../logic/boolean/conjunction/__pv_it/f41cc6b553210927c09f19a8a39cdf860a5585930/expr.png\" style=\"display:inline;vertical-align:middle;\" /></a></td></tr>\n",
       "<tr><td>21</td><td>ExprTuple</td><td>22</td><td><a class=\"ProveItLink\" href=\"../f035ac946b546d3249b80fe09ae55a8e7d19ffc10/expr.ipynb\"><img src=\"../f035ac946b546d3249b80fe09ae55a8e7d19ffc10/expr.png\" style=\"display:inline;vertical-align:middle;\" /></a></td></tr>\n",
       "<tr><td>22</td><td>ExprRange</td><td>lambda_map:&nbsp;23<br>start_index:&nbsp;24<br>end_index:&nbsp;25<br></td><td><a class=\"ProveItLink\" href=\"../../../__pv_it/157c0aec227073263e35e1a5104873dccf880cd50/expr.ipynb\"><img src=\"../../../__pv_it/157c0aec227073263e35e1a5104873dccf880cd50/expr.png\" style=\"display:inline;vertical-align:middle;\" /></a></td></tr>\n",
       "<tr><td>23</td><td>Lambda</td><td>parameter:&nbsp;28<br>body:&nbsp;26<br></td><td><a class=\"ProveItLink\" href=\"../../../__pv_it/11292d1237f77d44ad4f5db9d3e2671c61cd855b0/expr.ipynb\"><img src=\"../../../__pv_it/11292d1237f77d44ad4f5db9d3e2671c61cd855b0/expr.png\" style=\"display:inline;vertical-align:middle;\" /></a></td></tr>\n",
       "<tr><td>24</td><td>Literal</td><td></td><td><a class=\"ProveItLink\" href=\"../../../../number/numeral/__pv_it/f086f8c372bd40a2458306ddfdbb29f3dc6f63030/expr.ipynb\"><img src=\"../../../../number/numeral/__pv_it/f086f8c372bd40a2458306ddfdbb29f3dc6f63030/expr.png\" style=\"display:inline;vertical-align:middle;\" /></a></td></tr>\n",
       "<tr><td>25</td><td>Variable</td><td></td><td><a class=\"ProveItLink\" href=\"../../../../__pv_it/6e8a38e9a7e2b6af352562cd77e0eb4751f142620/expr.ipynb\"><img src=\"../../../../__pv_it/6e8a38e9a7e2b6af352562cd77e0eb4751f142620/expr.png\" style=\"display:inline;vertical-align:middle;\" /></a></td></tr>\n",
       "<tr><td>26</td><td>IndexedVar</td><td>variable:&nbsp;27<br>index:&nbsp;28<br></td><td><a class=\"ProveItLink\" href=\"../../../__pv_it/467d61a1b1534f550eeb25f48454e5d1b31677cd0/expr.ipynb\"><img src=\"../../../__pv_it/467d61a1b1534f550eeb25f48454e5d1b31677cd0/expr.png\" style=\"display:inline;vertical-align:middle;\" /></a></td></tr>\n",
       "<tr><td>27</td><td>Variable</td><td></td><td><a class=\"ProveItLink\" href=\"../../../../__pv_it/dbe7145e53d9411a5ba89652cbfea9d54e4b581a0/expr.ipynb\"><img src=\"../../../../__pv_it/dbe7145e53d9411a5ba89652cbfea9d54e4b581a0/expr.png\" style=\"display:inline;vertical-align:middle;\" /></a></td></tr>\n",
       "<tr><td>28</td><td>Variable</td><td></td><td><a class=\"ProveItLink\" href=\"../../../__pv_it/1e653f789234b245ee7fea7caad998c139d617410/expr.ipynb\"><img src=\"../../../__pv_it/1e653f789234b245ee7fea7caad998c139d617410/expr.png\" style=\"display:inline;vertical-align:middle;\" /></a></td></tr>\n",
       "</table>\n"
      ],
      "text/plain": [
       "0. m -> {forall_{a, Q_{1}, ..Q_{_a}.., Q_{m}} ({a if TRUE ,  Q_{1} and ..Q_{_a}.. and Q_{m}. \\\\  = {a if Q_{1} and ..Q_{_a}.. and Q_{m}.) if m in Naturals.\n",
       "   core type: Lambda\n",
       "   parameter: 25\n",
       "   body: 1\n",
       "1. {forall_{a, Q_{1}, ..Q_{_a}.., Q_{m}} ({a if TRUE ,  Q_{1} and ..Q_{_a}.. and Q_{m}. \\\\  = {a if Q_{1} and ..Q_{_a}.. and Q_{m}.) if m in Naturals.\n",
       "   core type: Conditional\n",
       "   value: 2\n",
       "   condition: 3\n",
       "2. forall_{a, Q_{1}, ..Q_{_a}.., Q_{m}} ({a if TRUE ,  Q_{1} and ..Q_{_a}.. and Q_{m}. \\\\  = {a if Q_{1} and ..Q_{_a}.. and Q_{m}.)\n",
       "   core type: Operation\n",
       "   operator: 4\n",
       "   operand: 5\n",
       "3. m in Naturals\n",
       "   core type: Operation\n",
       "   operator: 6\n",
       "   operands: 7\n",
       "4. forall\n",
       "   core type: Literal\n",
       "   sub-expressions: \n",
       "5. (a, Q_{1}, ..Q_{_a}.., Q_{m}) -> ({a if TRUE ,  Q_{1} and ..Q_{_a}.. and Q_{m}. \\\\  = {a if Q_{1} and ..Q_{_a}.. and Q_{m}.)\n",
       "   core type: Lambda\n",
       "   parameters: 8\\n   body: 9\n",
       "6. in\n",
       "   core type: Literal\n",
       "   sub-expressions: \n",
       "7. (m, Naturals)\n",
       "   core type: ExprTuple\n",
       "   sub-expressions: 25, 10\n",
       "8. (a, Q_{1}, ..Q_{_a}.., Q_{m})\n",
       "   core type: ExprTuple\n",
       "   sub-expressions: 16, 22\n",
       "9. {a if TRUE ,  Q_{1} and ..Q_{_a}.. and Q_{m}. \\\\  = {a if Q_{1} and ..Q_{_a}.. and Q_{m}.\n",
       "   core type: Operation\n",
       "   operator: 11\n",
       "   operands: 12\n",
       "10. Naturals\n",
       "    core type: Literal\n",
       "    sub-expressions: \n",
       "11. =\n",
       "    core type: Literal\n",
       "    sub-expressions: \n",
       "12. (a if TRUE ,  Q_{1} and ..Q_{_a}.. and Q_{m}, a if Q_{1} and ..Q_{_a}.. and Q_{m})\n",
       "    core type: ExprTuple\n",
       "    sub-expressions: 13, 14\n",
       "13. {a if TRUE ,  Q_{1} and ..Q_{_a}.. and Q_{m}.\n",
       "    core type: Conditional\n",
       "    value: 16\n",
       "    condition: 15\n",
       "14. {a if Q_{1} and ..Q_{_a}.. and Q_{m}.\n",
       "    core type: Conditional\n",
       "    value: 16\n",
       "    condition: 19\n",
       "15. TRUE and (Q_{1} and ..Q_{_a}.. and Q_{m})\n",
       "    core type: Operation\n",
       "    operator: 20\n",
       "    operands: 17\n",
       "16. a\n",
       "    core type: Variable\n",
       "    sub-expressions: \n",
       "17. (TRUE, Q_{1} and ..Q_{_a}.. and Q_{m})\n",
       "    core type: ExprTuple\n",
       "    sub-expressions: 18, 19\n",
       "18. TRUE\n",
       "    core type: Literal\n",
       "    sub-expressions: \n",
       "19. Q_{1} and ..Q_{_a}.. and Q_{m}\n",
       "    core type: Operation\n",
       "    operator: 20\n",
       "    operands: 21\n",
       "20. and\n",
       "    core type: Literal\n",
       "    sub-expressions: \n",
       "21. (Q_{1}, ..Q_{_a}.., Q_{m})\n",
       "    core type: ExprTuple\n",
       "    sub-expressions: 22\n",
       "22. Q_{1}, ..Q_{_a}.., Q_{m}\n",
       "    core type: ExprRange\n",
       "    lambda_map: 23\n",
       "    start_index: 24\n",
       "    end_index: 25\n",
       "23. _a -> Q_{_a}\n",
       "    core type: Lambda\n",
       "    parameter: 28\n",
       "    body: 26\n",
       "24. 1\n",
       "    core type: Literal\n",
       "    sub-expressions: \n",
       "25. m\n",
       "    core type: Variable\n",
       "    sub-expressions: \n",
       "26. Q_{_a}\n",
       "    core type: IndexedVar\n",
       "variable: 27\n",
       "index: 28\n",
       "27. Q\n",
       "    core type: Variable\n",
       "    sub-expressions: \n",
       "28. _a\n",
       "    core type: Variable\n",
       "    sub-expressions: "
      ]
     },
     "execution_count": 5,
     "metadata": {},
     "output_type": "execute_result"
    }
   ],
   "source": [
    "# display the expression information\n",
    "expr.exprInfo()"
   ]
  },
  {
   "cell_type": "code",
   "execution_count": null,
   "metadata": {},
   "outputs": [],
   "source": []
  }
 ],
 "metadata": {
  "kernelspec": {
   "display_name": "Python 3",
   "language": "python",
   "name": "python3"
  },
  "language_info": {
   "codemirror_mode": {
    "name": "ipython",
    "version": 3
   },
   "file_extension": ".py",
   "mimetype": "text/x-python",
   "name": "python",
   "nbconvert_exporter": "python",
   "pygments_lexer": "ipython3",
   "version": "3.7.3"
  }
 },
 "nbformat": 4,
 "nbformat_minor": 1
}
