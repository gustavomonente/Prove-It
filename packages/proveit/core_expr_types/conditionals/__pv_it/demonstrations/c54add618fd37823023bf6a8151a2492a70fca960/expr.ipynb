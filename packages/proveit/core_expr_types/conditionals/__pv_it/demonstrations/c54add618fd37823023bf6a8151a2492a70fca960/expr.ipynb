{
 "cells": [
  {
   "cell_type": "markdown",
   "metadata": {},
   "source": [
    "Expression of type <a class=\"ProveItLink\" href=\"../../../../../../../doc/html/api/proveit.logic.Equals.html\">Equals</a>\n",
    "=======================\n",
    "# from the theory of <a class=\"ProveItLink\" href=\"../../../_theory_nbs_/theory.ipynb\">proveit.core_expr_types.conditionals</a>"
   ]
  },
  {
   "cell_type": "code",
   "execution_count": 1,
   "metadata": {},
   "outputs": [],
   "source": [
    "import proveit\n",
    "# Automation is not needed when building an expression:\n",
    "proveit.defaults.automation = False # This will speed things up.\n",
    "proveit.defaults.inline_pngs = False # Makes files smaller.\n",
    "%load_expr # Load the stored expression as 'stored_expr'\n",
    "# import Expression classes needed to build the expression\n",
    "from proveit import Conditional, x\n",
    "from proveit.core_expr_types import B_1_to_n\n",
    "from proveit.logic import And, Equals"
   ]
  },
  {
   "cell_type": "code",
   "execution_count": 2,
   "metadata": {},
   "outputs": [
    {
     "data": {
      "text/html": [
       "<strong id=\"expr\">expr:</strong> <a class=\"ProveItLink\" href=\"expr.ipynb\"><img src=\"expr.png\" style=\"display:inline;vertical-align:middle;\" /></a><br>"
      ],
      "text/plain": [
       "expr: {x if and() ,  B_{1} and ..B_{_a}.. and B_{n}. = {x if and(B_{1} and ..B_{_a}.. and B_{n})."
      ]
     },
     "execution_count": 2,
     "metadata": {},
     "output_type": "execute_result"
    }
   ],
   "source": [
    "# build up the expression from sub-expressions\n",
    "sub_expr1 = And(B_1_to_n)\n",
    "expr = Equals(Conditional(x, And(And(), sub_expr1)), Conditional(x, And(sub_expr1)))"
   ]
  },
  {
   "cell_type": "code",
   "execution_count": 3,
   "metadata": {},
   "outputs": [
    {
     "name": "stdout",
     "output_type": "stream",
     "text": [
      "Passed sanity check: expr matches stored_expr\n"
     ]
    }
   ],
   "source": [
    "# check that the built expression is the same as the stored expression\n",
    "assert expr == stored_expr\n",
    "assert expr._style_id == stored_expr._style_id\n",
    "print(\"Passed sanity check: expr matches stored_expr\")"
   ]
  },
  {
   "cell_type": "code",
   "execution_count": 4,
   "metadata": {},
   "outputs": [
    {
     "name": "stdout",
     "output_type": "stream",
     "text": [
      "\\left\\{x \\textrm{ if } \\land() ,  B_{1} \\land \\ldots \\land B_{n}\\right.. = \\left\\{x \\textrm{ if } \\land(B_{1} \\land \\ldots \\land B_{n})\\right..\n"
     ]
    }
   ],
   "source": [
    "# Show the LaTeX representation of the expression for convenience if you need it.\n",
    "print(expr.latex())"
   ]
  },
  {
   "cell_type": "code",
   "execution_count": 5,
   "metadata": {},
   "outputs": [
    {
     "data": {
      "text/html": [
       "<table>\n",
       "<tr><th>name</th><th>description</th><th>default</th><th>current value</th><th>related methods</th></tr><tr><td>operation</td><td>'infix' or 'function' style formatting</td><td>infix</td><td>infix</td><td></td></tr>\n",
       "<tr><td>wrap_positions</td><td>position(s) at which wrapping is to occur; '2 n - 1' is after the nth operand, '2 n' is after the nth operation.</td><td>()</td><td>()</td><td>('with_wrapping_at', 'with_wrap_before_operator', 'with_wrap_after_operator', 'wrap_positions')</td></tr>\n",
       "<tr><td>justification</td><td>if any wrap positions are set, justify to the 'left', 'center', or 'right'</td><td>center</td><td>center</td><td>('with_justification',)</td></tr>\n",
       "<tr><td>direction</td><td>Direction of the relation (normal or reversed)</td><td>normal</td><td>normal</td><td>('with_direction_reversed', 'is_reversed')</td></tr>\n",
       "</table>\n"
      ],
      "text/plain": [
       "style name: operation\n",
       "description: 'infix' or 'function' style formatting\n",
       "default: infix\n",
       "current value: infix\n",
       "related methods: ()\n",
       "style name: wrap_positions\n",
       "description: position(s) at which wrapping is to occur; '2 n - 1' is after the nth operand, '2 n' is after the nth operation.\n",
       "default: ()\n",
       "current value: ()\n",
       "related methods: ('with_wrapping_at', 'with_wrap_before_operator', 'with_wrap_after_operator', 'wrap_positions')\n",
       "style name: justification\n",
       "description: if any wrap positions are set, justify to the 'left', 'center', or 'right'\n",
       "default: center\n",
       "current value: center\n",
       "related methods: ('with_justification',)\n",
       "style name: direction\n",
       "description: Direction of the relation (normal or reversed)\n",
       "default: normal\n",
       "current value: normal\n",
       "related methods: ('with_direction_reversed', 'is_reversed')"
      ]
     },
     "execution_count": 5,
     "metadata": {},
     "output_type": "execute_result"
    }
   ],
   "source": [
    "expr.style_options()"
   ]
  },
  {
   "cell_type": "code",
   "execution_count": 6,
   "metadata": {},
   "outputs": [
    {
     "data": {
      "text/html": [
       "<table><tr><th>&nbsp;</th><th>core type</th><th>sub-expressions</th><th>expression</th></tr>\n",
       "<tr><td>0</td><td>Operation</td><td>operator:&nbsp;1<br>operands:&nbsp;2<br></td><td><a class=\"ProveItLink\" href=\"expr.ipynb\"><img src=\"expr.png\" style=\"display:inline;vertical-align:middle;\" /></a></td></tr>\n",
       "<tr><td>1</td><td>Literal</td><td></td><td><a class=\"ProveItLink\" href=\"../../../../../logic/equality/__pv_it/common/731dd3955b346c1320ed5c0ba7a618bcda61457d0/expr.ipynb\"><img src=\"../../../../../logic/equality/__pv_it/common/731dd3955b346c1320ed5c0ba7a618bcda61457d0/expr.png\" style=\"display:inline;vertical-align:middle;\" /></a></td></tr>\n",
       "<tr><td>2</td><td>ExprTuple</td><td>3, 4</td><td><a class=\"ProveItLink\" href=\"../802b097e4408c85756842bd9f510e17b723b192b0/expr.ipynb\"><img src=\"../802b097e4408c85756842bd9f510e17b723b192b0/expr.png\" style=\"display:inline;vertical-align:middle;\" /></a></td></tr>\n",
       "<tr><td>3</td><td>Conditional</td><td>value:&nbsp;6<br>condition:&nbsp;5<br></td><td><a class=\"ProveItLink\" href=\"../08ffb6f5b0e2d76305f55832e4ab32a16ddc4e510/expr.ipynb\"><img src=\"../08ffb6f5b0e2d76305f55832e4ab32a16ddc4e510/expr.png\" style=\"display:inline;vertical-align:middle;\" /></a></td></tr>\n",
       "<tr><td>4</td><td>Conditional</td><td>value:&nbsp;6<br>condition:&nbsp;7<br></td><td><a class=\"ProveItLink\" href=\"../95ef16e9563d19b108d7c87796a3e6e4d165dcc80/expr.ipynb\"><img src=\"../95ef16e9563d19b108d7c87796a3e6e4d165dcc80/expr.png\" style=\"display:inline;vertical-align:middle;\" /></a></td></tr>\n",
       "<tr><td>5</td><td>Operation</td><td>operator:&nbsp;13<br>operands:&nbsp;8<br></td><td><a class=\"ProveItLink\" href=\"../19cb0799de3766ea5c5625fd8735d4b39f14f8c00/expr.ipynb\"><img src=\"../19cb0799de3766ea5c5625fd8735d4b39f14f8c00/expr.png\" style=\"display:inline;vertical-align:middle;\" /></a></td></tr>\n",
       "<tr><td>6</td><td>Variable</td><td></td><td><a class=\"ProveItLink\" href=\"../../../../../__pv_it/common/a2581dc5df71d9a30bad37de14965fa5fec97a240/expr.ipynb\"><img src=\"../../../../../__pv_it/common/a2581dc5df71d9a30bad37de14965fa5fec97a240/expr.png\" style=\"display:inline;vertical-align:middle;\" /></a></td></tr>\n",
       "<tr><td>7</td><td>Operation</td><td>operator:&nbsp;13<br>operand:&nbsp;11<br></td><td><a class=\"ProveItLink\" href=\"../f8873805ef4a1e43a981daaec65474d74c3d45f60/expr.ipynb\"><img src=\"../f8873805ef4a1e43a981daaec65474d74c3d45f60/expr.png\" style=\"display:inline;vertical-align:middle;\" /></a></td></tr>\n",
       "<tr><td>8</td><td>ExprTuple</td><td>10, 11</td><td><a class=\"ProveItLink\" href=\"../16aaf698d46d8fc5eb213391b0a1da35067f3dea0/expr.ipynb\"><img src=\"../16aaf698d46d8fc5eb213391b0a1da35067f3dea0/expr.png\" style=\"display:inline;vertical-align:middle;\" /></a></td></tr>\n",
       "<tr><td>9</td><td>ExprTuple</td><td>11</td><td><a class=\"ProveItLink\" href=\"../24ed0adc11f2bfec0b300d811fed868bd060d5f10/expr.ipynb\"><img src=\"../24ed0adc11f2bfec0b300d811fed868bd060d5f10/expr.png\" style=\"display:inline;vertical-align:middle;\" /></a></td></tr>\n",
       "<tr><td>10</td><td>Operation</td><td>operator:&nbsp;13<br>operands:&nbsp;12<br></td><td><a class=\"ProveItLink\" href=\"../e79226364541f4195aa379b8220fcc44a54f85fe0/expr.ipynb\"><img src=\"../e79226364541f4195aa379b8220fcc44a54f85fe0/expr.png\" style=\"display:inline;vertical-align:middle;\" /></a></td></tr>\n",
       "<tr><td>11</td><td>Operation</td><td>operator:&nbsp;13<br>operands:&nbsp;14<br></td><td><a class=\"ProveItLink\" href=\"../7e6d14cfbb1926f9fdaad8fa887e7a0f0bc343e50/expr.ipynb\"><img src=\"../7e6d14cfbb1926f9fdaad8fa887e7a0f0bc343e50/expr.png\" style=\"display:inline;vertical-align:middle;\" /></a></td></tr>\n",
       "<tr><td>12</td><td>ExprTuple</td><td></td><td><a class=\"ProveItLink\" href=\"../../../../tuples/__pv_it/theorems/1a4193f1deeaf7a4a6b6289328d46189ae6a257f0/expr.ipynb\"><img src=\"../../../../tuples/__pv_it/theorems/1a4193f1deeaf7a4a6b6289328d46189ae6a257f0/expr.png\" style=\"display:inline;vertical-align:middle;\" /></a></td></tr>\n",
       "<tr><td>13</td><td>Literal</td><td></td><td><a class=\"ProveItLink\" href=\"../../../../../logic/booleans/conjunction/__pv_it/common/26b94b53e70b1d77b70f0d9d4236347db37731060/expr.ipynb\"><img src=\"../../../../../logic/booleans/conjunction/__pv_it/common/26b94b53e70b1d77b70f0d9d4236347db37731060/expr.png\" style=\"display:inline;vertical-align:middle;\" /></a></td></tr>\n",
       "<tr><td>14</td><td>ExprTuple</td><td>15</td><td><a class=\"ProveItLink\" href=\"../ba5fca402547c4c44e06de5d44de000fc59d0e1d0/expr.ipynb\"><img src=\"../ba5fca402547c4c44e06de5d44de000fc59d0e1d0/expr.png\" style=\"display:inline;vertical-align:middle;\" /></a></td></tr>\n",
       "<tr><td>15</td><td>ExprRange</td><td>lambda_map:&nbsp;16<br>start_index:&nbsp;17<br>end_index:&nbsp;18<br></td><td><a class=\"ProveItLink\" href=\"../../../../__pv_it/common/fcfe7eb5e178eeb069d6440123bffa50298e16480/expr.ipynb\"><img src=\"../../../../__pv_it/common/fcfe7eb5e178eeb069d6440123bffa50298e16480/expr.png\" style=\"display:inline;vertical-align:middle;\" /></a></td></tr>\n",
       "<tr><td>16</td><td>Lambda</td><td>parameter:&nbsp;22<br>body:&nbsp;19<br></td><td><a class=\"ProveItLink\" href=\"../../../../__pv_it/common/02c8c006a9ec368154b7bff99c95899c5fb743200/expr.ipynb\"><img src=\"../../../../__pv_it/common/02c8c006a9ec368154b7bff99c95899c5fb743200/expr.png\" style=\"display:inline;vertical-align:middle;\" /></a></td></tr>\n",
       "<tr><td>17</td><td>Literal</td><td></td><td><a class=\"ProveItLink\" href=\"../../../../../numbers/numerals/__pv_it/common/d278e359da0695d9652dd541d45264f93703e2e40/expr.ipynb\"><img src=\"../../../../../numbers/numerals/__pv_it/common/d278e359da0695d9652dd541d45264f93703e2e40/expr.png\" style=\"display:inline;vertical-align:middle;\" /></a></td></tr>\n",
       "<tr><td>18</td><td>Variable</td><td></td><td><a class=\"ProveItLink\" href=\"../../../../../__pv_it/common/6165c9bb82ce3c7097cdba4440a1aeeb6eaca8a40/expr.ipynb\"><img src=\"../../../../../__pv_it/common/6165c9bb82ce3c7097cdba4440a1aeeb6eaca8a40/expr.png\" style=\"display:inline;vertical-align:middle;\" /></a></td></tr>\n",
       "<tr><td>19</td><td>IndexedVar</td><td>variable:&nbsp;20<br>index:&nbsp;22<br></td><td><a class=\"ProveItLink\" href=\"../../../../__pv_it/common/ea3ee9a0627bf44c889015ae8c7679796d32e3c60/expr.ipynb\"><img src=\"../../../../__pv_it/common/ea3ee9a0627bf44c889015ae8c7679796d32e3c60/expr.png\" style=\"display:inline;vertical-align:middle;\" /></a></td></tr>\n",
       "<tr><td>20</td><td>Variable</td><td></td><td><a class=\"ProveItLink\" href=\"../../../../../__pv_it/common/4eca3b30dcf58a58494e201d1b7886d8643a617b0/expr.ipynb\"><img src=\"../../../../../__pv_it/common/4eca3b30dcf58a58494e201d1b7886d8643a617b0/expr.png\" style=\"display:inline;vertical-align:middle;\" /></a></td></tr>\n",
       "<tr><td>21</td><td>ExprTuple</td><td>22</td><td><a class=\"ProveItLink\" href=\"../../../../__pv_it/common/ecf50ade416ab41c42c9f4e777b4c862cd9469670/expr.ipynb\"><img src=\"../../../../__pv_it/common/ecf50ade416ab41c42c9f4e777b4c862cd9469670/expr.png\" style=\"display:inline;vertical-align:middle;\" /></a></td></tr>\n",
       "<tr><td>22</td><td>Variable</td><td></td><td><a class=\"ProveItLink\" href=\"../../../../__pv_it/common/9e6d9d5d7eeb0342cf5bca68def0eb165a1a9bb10/expr.ipynb\"><img src=\"../../../../__pv_it/common/9e6d9d5d7eeb0342cf5bca68def0eb165a1a9bb10/expr.png\" style=\"display:inline;vertical-align:middle;\" /></a></td></tr>\n",
       "</table>\n"
      ],
      "text/plain": [
       "0. {x if and() ,  B_{1} and ..B_{_a}.. and B_{n}. = {x if and(B_{1} and ..B_{_a}.. and B_{n}).\n",
       "   core type: Operation\n",
       "   operator: 1\n",
       "   operands: 2\n",
       "1. =\n",
       "   core type: Literal\n",
       "   sub-expressions: \n",
       "2. (x if and() ,  B_{1} and ..B_{_a}.. and B_{n}, x if and(B_{1} and ..B_{_a}.. and B_{n}))\n",
       "   core type: ExprTuple\n",
       "   sub-expressions: 3, 4\n",
       "3. {x if and() ,  B_{1} and ..B_{_a}.. and B_{n}.\n",
       "   core type: Conditional\n",
       "   value: 6\n",
       "   condition: 5\n",
       "4. {x if and(B_{1} and ..B_{_a}.. and B_{n}).\n",
       "   core type: Conditional\n",
       "   value: 6\n",
       "   condition: 7\n",
       "5. and() and (B_{1} and ..B_{_a}.. and B_{n})\n",
       "   core type: Operation\n",
       "   operator: 13\n",
       "   operands: 8\n",
       "6. x\n",
       "   core type: Variable\n",
       "   sub-expressions: \n",
       "7. and(B_{1} and ..B_{_a}.. and B_{n})\n",
       "   core type: Operation\n",
       "   operator: 13\n",
       "   operand: 11\n",
       "8. (and(), B_{1} and ..B_{_a}.. and B_{n})\n",
       "   core type: ExprTuple\n",
       "   sub-expressions: 10, 11\n",
       "9. (B_{1} and ..B_{_a}.. and B_{n})\n",
       "   core type: ExprTuple\n",
       "   sub-expressions: 11\n",
       "10. and()\n",
       "    core type: Operation\n",
       "    operator: 13\n",
       "    operands: 12\n",
       "11. B_{1} and ..B_{_a}.. and B_{n}\n",
       "    core type: Operation\n",
       "    operator: 13\n",
       "    operands: 14\n",
       "12. ()\n",
       "    core type: ExprTuple\n",
       "    sub-expressions: \n",
       "13. and\n",
       "    core type: Literal\n",
       "    sub-expressions: \n",
       "14. (B_{1}, ..B_{_a}.., B_{n})\n",
       "    core type: ExprTuple\n",
       "    sub-expressions: 15\n",
       "15. B_{1}, ..B_{_a}.., B_{n}\n",
       "    core type: ExprRange\n",
       "    lambda_map: 16\n",
       "    start_index: 17\n",
       "    end_index: 18\n",
       "16. _a -> B_{_a}\n",
       "    core type: Lambda\n",
       "    parameter: 22\n",
       "    body: 19\n",
       "17. 1\n",
       "    core type: Literal\n",
       "    sub-expressions: \n",
       "18. n\n",
       "    core type: Variable\n",
       "    sub-expressions: \n",
       "19. B_{_a}\n",
       "    core type: IndexedVar\n",
       "variable: 20\n",
       "index: 22\n",
       "20. B\n",
       "    core type: Variable\n",
       "    sub-expressions: \n",
       "21. (_a)\n",
       "    core type: ExprTuple\n",
       "    sub-expressions: 22\n",
       "22. _a\n",
       "    core type: Variable\n",
       "    sub-expressions: "
      ]
     },
     "execution_count": 6,
     "metadata": {},
     "output_type": "execute_result"
    }
   ],
   "source": [
    "# display the expression information\n",
    "expr.expr_info()"
   ]
  },
  {
   "cell_type": "code",
   "execution_count": null,
   "metadata": {},
   "outputs": [],
   "source": []
  }
 ],
 "metadata": {
  "kernelspec": {
   "display_name": "Python 3",
   "language": "python",
   "name": "python3"
  }
 },
 "nbformat": 4,
 "nbformat_minor": 0
}