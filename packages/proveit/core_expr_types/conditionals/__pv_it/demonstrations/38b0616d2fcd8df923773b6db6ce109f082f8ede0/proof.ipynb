{
 "cells": [
  {
   "cell_type": "markdown",
   "metadata": {},
   "source": [
    "Show the Proof\n",
    "========"
   ]
  },
  {
   "cell_type": "code",
   "execution_count": 1,
   "metadata": {},
   "outputs": [
    {
     "data": {
      "text/html": [
       "<table><tr><th>&nbsp;</th><th>step type</th><th>requirements</th><th>statement</th></tr>\n",
       "<tr><td><a name=\"proveit.core_expr_types.conditionals.demonstrations.38b0616d2fcd8df923773b6db6ce109f082f8ede0_step0\">0</a></td><td>instantiation</td><td><a href=\"#proveit.core_expr_types.conditionals.demonstrations.38b0616d2fcd8df923773b6db6ce109f082f8ede0_step1\">1</a>, <a href=\"#proveit.core_expr_types.conditionals.demonstrations.38b0616d2fcd8df923773b6db6ce109f082f8ede0_step2\">2</a>, <a href=\"#proveit.core_expr_types.conditionals.demonstrations.38b0616d2fcd8df923773b6db6ce109f082f8ede0_step3\">3</a></td><td><span style=\"font-size:20px;\"><a class=\"ProveItLink\" href=\"../../theorems/98023afa4ea0d397f8a177bad4a359b36939fb170/expr.ipynb\"><img src=\"../../theorems/98023afa4ea0d397f8a177bad4a359b36939fb170/expr.png\" style=\"display:inline;vertical-align:middle;\" /></a> <a class=\"ProveItLink\" href=\"proof.ipynb\" style=\"text-decoration: none\">&nbsp;&#x22A2;&nbsp;&nbsp;</a><a class=\"ProveItLink\" href=\"../6ea094a997c740feb7c23bf5376d6a24da62e3c60/expr.ipynb\"><img src=\"../6ea094a997c740feb7c23bf5376d6a24da62e3c60/expr.png\" style=\"display:inline;vertical-align:middle;\" /></a></span></td></tr>\n",
       "<tr><td>&nbsp;</td><td colspan=4 style=\"text-align:left\"><span style=\"font-size:20px;\"><a class=\"ProveItLink\" href=\"../../../../../__pv_it/common/674a03b9c3ca221b3aabd5636837b31528ff33830/expr.ipynb\"><img src=\"../../../../../__pv_it/common/674a03b9c3ca221b3aabd5636837b31528ff33830/expr.png\" style=\"display:inline;vertical-align:middle;\" /></a> : <a class=\"ProveItLink\" href=\"../../../../../__pv_it/common/674a03b9c3ca221b3aabd5636837b31528ff33830/expr.ipynb\"><img src=\"../../../../../__pv_it/common/674a03b9c3ca221b3aabd5636837b31528ff33830/expr.png\" style=\"display:inline;vertical-align:middle;\" /></a>, <a class=\"ProveItLink\" href=\"../../../../../__pv_it/common/c06c606ec12678c58933ac85412ecadc2ae28be60/expr.ipynb\"><img src=\"../../../../../__pv_it/common/c06c606ec12678c58933ac85412ecadc2ae28be60/expr.png\" style=\"display:inline;vertical-align:middle;\" /></a> : <a class=\"ProveItLink\" href=\"../../../../../__pv_it/common/a0d9d672aa5e272d907247690c152cc2c6daafb70/expr.ipynb\"><img src=\"../../../../../__pv_it/common/a0d9d672aa5e272d907247690c152cc2c6daafb70/expr.png\" style=\"display:inline;vertical-align:middle;\" /></a>, <a class=\"ProveItLink\" href=\"../../../../../__pv_it/common/d72bb8b07403efe79afab564c36a28e21330e5f90/expr.ipynb\"><img src=\"../../../../../__pv_it/common/d72bb8b07403efe79afab564c36a28e21330e5f90/expr.png\" style=\"display:inline;vertical-align:middle;\" /></a> : <a class=\"ProveItLink\" href=\"../93ae5dfb178f6a043477f4fdbbc517b5718a327f0/expr.ipynb\"><img src=\"../93ae5dfb178f6a043477f4fdbbc517b5718a327f0/expr.png\" style=\"display:inline;vertical-align:middle;\" /></a>, <a class=\"ProveItLink\" href=\"../../../../../__pv_it/common/647ca33d6b96e29d5aa85a15d2241c7ebd0c6e4b0/expr.ipynb\"><img src=\"../../../../../__pv_it/common/647ca33d6b96e29d5aa85a15d2241c7ebd0c6e4b0/expr.png\" style=\"display:inline;vertical-align:middle;\" /></a> : <a class=\"ProveItLink\" href=\"../../../../../__pv_it/common/a9162d1c3cc0470c02e5daf414500903a7a419230/expr.ipynb\"><img src=\"../../../../../__pv_it/common/a9162d1c3cc0470c02e5daf414500903a7a419230/expr.png\" style=\"display:inline;vertical-align:middle;\" /></a></span></td></tr><tr><td><a name=\"proveit.core_expr_types.conditionals.demonstrations.38b0616d2fcd8df923773b6db6ce109f082f8ede0_step1\">1</a></td><td>theorem</td><td></td><td><span style=\"font-size:20px;\"> <a class=\"ProveItLink\" href=\"../../../_theory_nbs_/proofs/condition_append_reduction/thm_proof.ipynb\" style=\"text-decoration: none\">&nbsp;&#x22A2;&nbsp;&nbsp;</a><a class=\"ProveItLink\" href=\"../../theorems/11bc8e3a4c26b97ce8c6986184e1d6141917b5d70/expr.ipynb\"><img src=\"../../theorems/11bc8e3a4c26b97ce8c6986184e1d6141917b5d70/expr.png\" style=\"display:inline;vertical-align:middle;\" /></a></span></td></tr>\n",
       "<tr><td>&nbsp;</td><td colspan=4 style-\"text-align:left\"><a class=\"ProveItLink\" href=\"../../../_theory_nbs_/proofs/condition_append_reduction/thm_proof.ipynb\">proveit.core_expr_types.conditionals.condition_append_reduction</a></td></tr><tr><td><a name=\"proveit.core_expr_types.conditionals.demonstrations.38b0616d2fcd8df923773b6db6ce109f082f8ede0_step2\">2</a></td><td><i>reference</i></td><td><a href=\"#proveit.core_expr_types.conditionals.demonstrations.38b0616d2fcd8df923773b6db6ce109f082f8ede0_step5\">5</a></td><td><span style=\"font-size:20px;\"><a class=\"ProveItLink\" href=\"../../theorems/98023afa4ea0d397f8a177bad4a359b36939fb170/expr.ipynb\"><img src=\"../../theorems/98023afa4ea0d397f8a177bad4a359b36939fb170/expr.png\" style=\"display:inline;vertical-align:middle;\" /></a> <a class=\"ProveItLink\" href=\"../1bc6dc6831b6b0898ac4aa522e65ada63e48c9270/proof.ipynb\" style=\"text-decoration: none\">&nbsp;&#x22A2;&nbsp;&nbsp;</a><a class=\"ProveItLink\" href=\"../../theorems/98023afa4ea0d397f8a177bad4a359b36939fb170/expr.ipynb\"><img src=\"../../theorems/98023afa4ea0d397f8a177bad4a359b36939fb170/expr.png\" style=\"display:inline;vertical-align:middle;\" /></a></span></td></tr>\n",
       "<tr><td><a name=\"proveit.core_expr_types.conditionals.demonstrations.38b0616d2fcd8df923773b6db6ce109f082f8ede0_step3\">3</a></td><td>instantiation</td><td><a href=\"#proveit.core_expr_types.conditionals.demonstrations.38b0616d2fcd8df923773b6db6ce109f082f8ede0_step4\">4</a>, <a href=\"#proveit.core_expr_types.conditionals.demonstrations.38b0616d2fcd8df923773b6db6ce109f082f8ede0_step5\">5</a></td><td><span style=\"font-size:20px;\"><a class=\"ProveItLink\" href=\"../../theorems/98023afa4ea0d397f8a177bad4a359b36939fb170/expr.ipynb\"><img src=\"../../theorems/98023afa4ea0d397f8a177bad4a359b36939fb170/expr.png\" style=\"display:inline;vertical-align:middle;\" /></a> <a class=\"ProveItLink\" href=\"../c4cddd15ed7ac83d9a99fafc703fae228b6d7b460/proof.ipynb\" style=\"text-decoration: none\">&nbsp;&#x22A2;&nbsp;&nbsp;</a><a class=\"ProveItLink\" href=\"../d069c4ea8c72becd7943b3af3745f04a52a7e6ef0/expr.ipynb\"><img src=\"../d069c4ea8c72becd7943b3af3745f04a52a7e6ef0/expr.png\" style=\"display:inline;vertical-align:middle;\" /></a></span></td></tr>\n",
       "<tr><td>&nbsp;</td><td colspan=4 style=\"text-align:left\"><span style=\"font-size:20px;\"><a class=\"ProveItLink\" href=\"../../../../../__pv_it/common/ae955345c83abf786c3aff8681cd5465beae262d0/expr.ipynb\"><img src=\"../../../../../__pv_it/common/ae955345c83abf786c3aff8681cd5465beae262d0/expr.png\" style=\"display:inline;vertical-align:middle;\" /></a> : <a class=\"ProveItLink\" href=\"../../../../../__pv_it/common/674a03b9c3ca221b3aabd5636837b31528ff33830/expr.ipynb\"><img src=\"../../../../../__pv_it/common/674a03b9c3ca221b3aabd5636837b31528ff33830/expr.png\" style=\"display:inline;vertical-align:middle;\" /></a>, <a class=\"ProveItLink\" href=\"../e83ebc607cda2e51fc4a1a4cbd0bc18ab078f28d0/expr.ipynb\"><img src=\"../e83ebc607cda2e51fc4a1a4cbd0bc18ab078f28d0/expr.png\" style=\"display:inline;vertical-align:middle;\" /></a> : <a class=\"ProveItLink\" href=\"../../../../__pv_it/common/65f6ea908cba61c02c46e59c65a80b52e171496d0/expr.ipynb\"><img src=\"../../../../__pv_it/common/65f6ea908cba61c02c46e59c65a80b52e171496d0/expr.png\" style=\"display:inline;vertical-align:middle;\" /></a></span></td></tr><tr><td><a name=\"proveit.core_expr_types.conditionals.demonstrations.38b0616d2fcd8df923773b6db6ce109f082f8ede0_step4\">4</a></td><td>theorem</td><td></td><td><span style=\"font-size:20px;\"> <a class=\"ProveItLink\" href=\"../../../../tuples/_theory_nbs_/proofs/range_from1_len_typical_eq/thm_proof.ipynb\" style=\"text-decoration: none\">&nbsp;&#x22A2;&nbsp;&nbsp;</a><a class=\"ProveItLink\" href=\"../../../../tuples/__pv_it/theorems/750bab8a8cef357ce4b5658ab228891a4fc8cc0a0/expr.ipynb\"><img src=\"../../../../tuples/__pv_it/theorems/750bab8a8cef357ce4b5658ab228891a4fc8cc0a0/expr.png\" style=\"display:inline;vertical-align:middle;\" /></a></span></td></tr>\n",
       "<tr><td>&nbsp;</td><td colspan=4 style-\"text-align:left\"><a class=\"ProveItLink\" href=\"../../../../tuples/_theory_nbs_/proofs/range_from1_len_typical_eq/thm_proof.ipynb\">proveit.core_expr_types.tuples.range_from1_len_typical_eq</a></td></tr><tr><td><a name=\"proveit.core_expr_types.conditionals.demonstrations.38b0616d2fcd8df923773b6db6ce109f082f8ede0_step5\">5</a></td><td>assumption</td><td></td><td><span style=\"font-size:20px;\"><a class=\"ProveItLink\" href=\"../../theorems/98023afa4ea0d397f8a177bad4a359b36939fb170/expr.ipynb\"><img src=\"../../theorems/98023afa4ea0d397f8a177bad4a359b36939fb170/expr.png\" style=\"display:inline;vertical-align:middle;\" /></a> <a class=\"ProveItLink\" href=\"../1bc6dc6831b6b0898ac4aa522e65ada63e48c9270/proof.ipynb\" style=\"text-decoration: none\">&nbsp;&#x22A2;&nbsp;&nbsp;</a><a class=\"ProveItLink\" href=\"../../theorems/98023afa4ea0d397f8a177bad4a359b36939fb170/expr.ipynb\"><img src=\"../../theorems/98023afa4ea0d397f8a177bad4a359b36939fb170/expr.png\" style=\"display:inline;vertical-align:middle;\" /></a></span></td></tr>\n",
       "</table>"
      ],
      "text/plain": [
       "<proveit._core_.proof._ShowProof at 0x7fbb1d50ac88>"
      ]
     },
     "execution_count": 1,
     "metadata": {},
     "output_type": "execute_result"
    }
   ],
   "source": [
    "import proveit\n",
    "# Automation is not needed when only showing a stored proof:\n",
    "proveit.defaults.automation = False # This will speed things up.\n",
    "proveit.defaults.inline_pngs = False # Makes files smaller.\n",
    "%show_proof"
   ]
  },
  {
   "cell_type": "code",
   "execution_count": null,
   "metadata": {},
   "outputs": [],
   "source": []
  }
 ],
 "metadata": {
  "kernelspec": {
   "display_name": "Python 3",
   "language": "python",
   "name": "python3"
  }
 },
 "nbformat": 4,
 "nbformat_minor": 0
}