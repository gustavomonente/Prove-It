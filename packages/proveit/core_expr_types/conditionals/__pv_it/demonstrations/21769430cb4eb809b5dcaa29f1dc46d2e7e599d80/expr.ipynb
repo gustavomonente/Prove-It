{
 "cells": [
  {
   "cell_type": "markdown",
   "metadata": {},
   "source": [
    "Expression of type <a class=\"ProveItLink\" href=\"../../../../../../../doc/html/api/proveit.ExprTuple.html\">ExprTuple</a>\n",
    "=======================\n",
    "# from the theory of <a class=\"ProveItLink\" href=\"../../../_theory_nbs_/theory.ipynb\">proveit.core_expr_types.conditionals</a>"
   ]
  },
  {
   "cell_type": "code",
   "execution_count": 1,
   "metadata": {},
   "outputs": [],
   "source": [
    "import proveit\n",
    "# Automation is not needed when building an expression:\n",
    "proveit.defaults.automation = False # This will speed things up.\n",
    "proveit.defaults.inline_pngs = False # Makes files smaller.\n",
    "%load_expr # Load the stored expression as 'stored_expr'\n",
    "# import Expression classes needed to build the expression\n",
    "from proveit import A, ExprRange, ExprTuple, IndexedVar, a, k, m\n",
    "from proveit.core_expr_types import Len\n",
    "from proveit.numbers import one"
   ]
  },
  {
   "cell_type": "code",
   "execution_count": 2,
   "metadata": {},
   "outputs": [
    {
     "data": {
      "text/html": [
       "<strong id=\"expr\">expr:</strong> <a class=\"ProveItLink\" href=\"expr.ipynb\"><img src=\"expr.png\" style=\"display:inline;vertical-align:middle;\" /></a><br>"
      ],
      "text/plain": [
       "expr: (|(A_{1}, ..A_{a}.., A_{m})|, |(1, ..k.., m)|)"
      ]
     },
     "execution_count": 2,
     "metadata": {},
     "output_type": "execute_result"
    }
   ],
   "source": [
    "# build up the expression from sub-expressions\n",
    "expr = ExprTuple(Len([ExprRange(a, IndexedVar(A, a), one, m)]), Len([ExprRange(k, k, one, m)]))"
   ]
  },
  {
   "cell_type": "code",
   "execution_count": 3,
   "metadata": {},
   "outputs": [
    {
     "name": "stdout",
     "output_type": "stream",
     "text": [
      "Passed sanity check: expr matches stored_expr\n"
     ]
    }
   ],
   "source": [
    "# check that the built expression is the same as the stored expression\n",
    "assert expr == stored_expr\n",
    "assert expr._style_id == stored_expr._style_id\n",
    "print(\"Passed sanity check: expr matches stored_expr\")"
   ]
  },
  {
   "cell_type": "code",
   "execution_count": 4,
   "metadata": {},
   "outputs": [
    {
     "name": "stdout",
     "output_type": "stream",
     "text": [
      "\\left(|\\left(A_{1}, \\ldots, A_{m}\\right)|, |\\left(1, \\ldots, m\\right)|\\right)\n"
     ]
    }
   ],
   "source": [
    "# Show the LaTeX representation of the expression for convenience if you need it.\n",
    "print(expr.latex())"
   ]
  },
  {
   "cell_type": "code",
   "execution_count": 5,
   "metadata": {},
   "outputs": [
    {
     "data": {
      "text/html": [
       "<table><tr><th>&nbsp;</th><th>core type</th><th>sub-expressions</th><th>expression</th></tr>\n",
       "<tr><td>0</td><td>ExprTuple</td><td>1, 2</td><td><a class=\"ProveItLink\" href=\"expr.ipynb\"><img src=\"expr.png\" style=\"display:inline;vertical-align:middle;\" /></a></td></tr>\n",
       "<tr><td>1</td><td>Operation</td><td>operator:&nbsp;4<br>operand:&nbsp;6<br></td><td><a class=\"ProveItLink\" href=\"../ed9ccddb53bf1666477bcd5ed2da77e468dce3010/expr.ipynb\"><img src=\"../ed9ccddb53bf1666477bcd5ed2da77e468dce3010/expr.png\" style=\"display:inline;vertical-align:middle;\" /></a></td></tr>\n",
       "<tr><td>2</td><td>Operation</td><td>operator:&nbsp;4<br>operand:&nbsp;7<br></td><td><a class=\"ProveItLink\" href=\"../01798fc5ec9c71dc1320b0adbf6d8aa3a3a1e8cc0/expr.ipynb\"><img src=\"../01798fc5ec9c71dc1320b0adbf6d8aa3a3a1e8cc0/expr.png\" style=\"display:inline;vertical-align:middle;\" /></a></td></tr>\n",
       "<tr><td>3</td><td>ExprTuple</td><td>6</td><td><a class=\"ProveItLink\" href=\"../974a93176db725994b03a9904a267f3c9c26aebd0/expr.ipynb\"><img src=\"../974a93176db725994b03a9904a267f3c9c26aebd0/expr.png\" style=\"display:inline;vertical-align:middle;\" /></a></td></tr>\n",
       "<tr><td>4</td><td>Literal</td><td></td><td><a class=\"ProveItLink\" href=\"../../../../tuples/__pv_it/common/43df765abf1294d8f1fd177863f57f08bf5ad0080/expr.ipynb\"><img src=\"../../../../tuples/__pv_it/common/43df765abf1294d8f1fd177863f57f08bf5ad0080/expr.png\" style=\"display:inline;vertical-align:middle;\" /></a></td></tr>\n",
       "<tr><td>5</td><td>ExprTuple</td><td>7</td><td><a class=\"ProveItLink\" href=\"../17d3ba42a4b31a5e4c27269922433bf1eb7031860/expr.ipynb\"><img src=\"../17d3ba42a4b31a5e4c27269922433bf1eb7031860/expr.png\" style=\"display:inline;vertical-align:middle;\" /></a></td></tr>\n",
       "<tr><td>6</td><td>ExprTuple</td><td>8</td><td><a class=\"ProveItLink\" href=\"../15710ee7436d447f95723dccf1399e1d6b8e4cc10/expr.ipynb\"><img src=\"../15710ee7436d447f95723dccf1399e1d6b8e4cc10/expr.png\" style=\"display:inline;vertical-align:middle;\" /></a></td></tr>\n",
       "<tr><td>7</td><td>ExprTuple</td><td>9</td><td><a class=\"ProveItLink\" href=\"../eb27eede6513d0083295473798d96a09c98df4ae0/expr.ipynb\"><img src=\"../eb27eede6513d0083295473798d96a09c98df4ae0/expr.png\" style=\"display:inline;vertical-align:middle;\" /></a></td></tr>\n",
       "<tr><td>8</td><td>ExprRange</td><td>lambda_map:&nbsp;10<br>start_index:&nbsp;12<br>end_index:&nbsp;13<br></td><td><a class=\"ProveItLink\" href=\"../edd52f7f5a78626ed0cd8f8fcdc5d1901474f3fc0/expr.ipynb\"><img src=\"../edd52f7f5a78626ed0cd8f8fcdc5d1901474f3fc0/expr.png\" style=\"display:inline;vertical-align:middle;\" /></a></td></tr>\n",
       "<tr><td>9</td><td>ExprRange</td><td>lambda_map:&nbsp;11<br>start_index:&nbsp;12<br>end_index:&nbsp;13<br></td><td><a class=\"ProveItLink\" href=\"../a4f2cacd9b5c3629b1be24eeeffd59970ead62ac0/expr.ipynb\"><img src=\"../a4f2cacd9b5c3629b1be24eeeffd59970ead62ac0/expr.png\" style=\"display:inline;vertical-align:middle;\" /></a></td></tr>\n",
       "<tr><td>10</td><td>Lambda</td><td>parameter:&nbsp;17<br>body:&nbsp;14<br></td><td><a class=\"ProveItLink\" href=\"../60efee2934e0a4f9c43f474837ac56208c51ce9f0/expr.ipynb\"><img src=\"../60efee2934e0a4f9c43f474837ac56208c51ce9f0/expr.png\" style=\"display:inline;vertical-align:middle;\" /></a></td></tr>\n",
       "<tr><td>11</td><td>Lambda</td><td>parameter:&nbsp;15<br>body:&nbsp;15<br></td><td><a class=\"ProveItLink\" href=\"../../../../__pv_it/common/f3fe62f840bd4f6a2324bee5141c1f534c325cd30/expr.ipynb\"><img src=\"../../../../__pv_it/common/f3fe62f840bd4f6a2324bee5141c1f534c325cd30/expr.png\" style=\"display:inline;vertical-align:middle;\" /></a></td></tr>\n",
       "<tr><td>12</td><td>Literal</td><td></td><td><a class=\"ProveItLink\" href=\"../../../../../numbers/numerals/__pv_it/common/2778428c7f555b2bdc06aa0530bc142c6e6335100/expr.ipynb\"><img src=\"../../../../../numbers/numerals/__pv_it/common/2778428c7f555b2bdc06aa0530bc142c6e6335100/expr.png\" style=\"display:inline;vertical-align:middle;\" /></a></td></tr>\n",
       "<tr><td>13</td><td>Variable</td><td></td><td><a class=\"ProveItLink\" href=\"../../../../../__pv_it/common/674a03b9c3ca221b3aabd5636837b31528ff33830/expr.ipynb\"><img src=\"../../../../../__pv_it/common/674a03b9c3ca221b3aabd5636837b31528ff33830/expr.png\" style=\"display:inline;vertical-align:middle;\" /></a></td></tr>\n",
       "<tr><td>14</td><td>IndexedVar</td><td>variable:&nbsp;16<br>index:&nbsp;17<br></td><td><a class=\"ProveItLink\" href=\"../b8dffdb1e9300dd9bd629624a541d0570599c46d0/expr.ipynb\"><img src=\"../b8dffdb1e9300dd9bd629624a541d0570599c46d0/expr.png\" style=\"display:inline;vertical-align:middle;\" /></a></td></tr>\n",
       "<tr><td>15</td><td>Variable</td><td></td><td><a class=\"ProveItLink\" href=\"../../../../../__pv_it/common/63b7c64bf9ec7a04ecc396c7a1670f3f12fb59490/expr.ipynb\"><img src=\"../../../../../__pv_it/common/63b7c64bf9ec7a04ecc396c7a1670f3f12fb59490/expr.png\" style=\"display:inline;vertical-align:middle;\" /></a></td></tr>\n",
       "<tr><td>16</td><td>Variable</td><td></td><td><a class=\"ProveItLink\" href=\"../../../../../__pv_it/common/09585084922504426caf1db2ff588a23a0932a960/expr.ipynb\"><img src=\"../../../../../__pv_it/common/09585084922504426caf1db2ff588a23a0932a960/expr.png\" style=\"display:inline;vertical-align:middle;\" /></a></td></tr>\n",
       "<tr><td>17</td><td>Variable</td><td></td><td><a class=\"ProveItLink\" href=\"../../../../../__pv_it/common/c06c606ec12678c58933ac85412ecadc2ae28be60/expr.ipynb\"><img src=\"../../../../../__pv_it/common/c06c606ec12678c58933ac85412ecadc2ae28be60/expr.png\" style=\"display:inline;vertical-align:middle;\" /></a></td></tr>\n",
       "</table>\n"
      ],
      "text/plain": [
       "0. (|(A_{1}, ..A_{a}.., A_{m})|, |(1, ..k.., m)|)\n",
       "   core type: ExprTuple\n",
       "   sub-expressions: 1, 2\n",
       "1. |(A_{1}, ..A_{a}.., A_{m})|\n",
       "   core type: Operation\n",
       "   operator: 4\n",
       "   operand: 6\n",
       "2. |(1, ..k.., m)|\n",
       "   core type: Operation\n",
       "   operator: 4\n",
       "   operand: 7\n",
       "3. ((A_{1}, ..A_{a}.., A_{m}))\n",
       "   core type: ExprTuple\n",
       "   sub-expressions: 6\n",
       "4. length\n",
       "   core type: Literal\n",
       "   sub-expressions: \n",
       "5. ((1, ..k.., m))\n",
       "   core type: ExprTuple\n",
       "   sub-expressions: 7\n",
       "6. (A_{1}, ..A_{a}.., A_{m})\n",
       "   core type: ExprTuple\n",
       "   sub-expressions: 8\n",
       "7. (1, ..k.., m)\n",
       "   core type: ExprTuple\n",
       "   sub-expressions: 9\n",
       "8. A_{1}, ..A_{a}.., A_{m}\n",
       "   core type: ExprRange\n",
       "   lambda_map: 10\n",
       "   start_index: 12\n",
       "   end_index: 13\n",
       "9. 1, ..k.., m\n",
       "   core type: ExprRange\n",
       "   lambda_map: 11\n",
       "   start_index: 12\n",
       "   end_index: 13\n",
       "10. a -> A_{a}\n",
       "    core type: Lambda\n",
       "    parameter: 17\n",
       "    body: 14\n",
       "11. k -> k\n",
       "    core type: Lambda\n",
       "    parameter: 15\n",
       "    body: 15\n",
       "12. 1\n",
       "    core type: Literal\n",
       "    sub-expressions: \n",
       "13. m\n",
       "    core type: Variable\n",
       "    sub-expressions: \n",
       "14. A_{a}\n",
       "    core type: IndexedVar\n",
       "variable: 16\n",
       "index: 17\n",
       "15. k\n",
       "    core type: Variable\n",
       "    sub-expressions: \n",
       "16. A\n",
       "    core type: Variable\n",
       "    sub-expressions: \n",
       "17. a\n",
       "    core type: Variable\n",
       "    sub-expressions: "
      ]
     },
     "execution_count": 5,
     "metadata": {},
     "output_type": "execute_result"
    }
   ],
   "source": [
    "# display the expression information\n",
    "expr.expr_info()"
   ]
  },
  {
   "cell_type": "code",
   "execution_count": null,
   "metadata": {},
   "outputs": [],
   "source": []
  }
 ],
 "metadata": {
  "kernelspec": {
   "display_name": "Python 3",
   "language": "python",
   "name": "python3"
  }
 },
 "nbformat": 4,
 "nbformat_minor": 0
}