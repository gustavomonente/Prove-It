{
 "cells": [
  {
   "cell_type": "markdown",
   "metadata": {},
   "source": [
    "Show the Proof\n",
    "========"
   ]
  },
  {
   "cell_type": "code",
   "execution_count": 1,
   "metadata": {},
   "outputs": [
    {
     "data": {
      "text/html": [
       "<table><tr><th>&nbsp;</th><th>step type</th><th>requirements</th><th>statement</th></tr>\n",
       "<tr><td><a name=\"proveit.core_expr_types.conditionals.55be2cfa56b1f514769305e255e10900c6b6acb10_step0\">0</a></td><td>instantiation</td><td><a href=\"#proveit.core_expr_types.conditionals.55be2cfa56b1f514769305e255e10900c6b6acb10_step1\">1</a>, <a href=\"#proveit.core_expr_types.conditionals.55be2cfa56b1f514769305e255e10900c6b6acb10_step2\">2</a>, <a href=\"#proveit.core_expr_types.conditionals.55be2cfa56b1f514769305e255e10900c6b6acb10_step3\">3</a></td><td><span style=\"font-size:20px;\"><a class=\"ProveItLink\" href=\"../15a00d825a7c658d68ebdf07d8090dfd64f237c00/expr.ipynb\"><img src=\"../15a00d825a7c658d68ebdf07d8090dfd64f237c00/expr.png\" style=\"display:inline;vertical-align:middle;\" /></a> <a class=\"ProveItLink\" href=\"proof.ipynb\" style=\"text-decoration: none\">&#x22A2;&nbsp;</a><a class=\"ProveItLink\" href=\"../3f8c94f72a45b2c30b2b867152c07f2c44280e1c0/expr.ipynb\"><img src=\"../3f8c94f72a45b2c30b2b867152c07f2c44280e1c0/expr.png\" style=\"display:inline;vertical-align:middle;\" /></a></span></td></tr>\n",
       "<tr><td>&nbsp;</td><td colspan=4 style=\"text-align:left\"><span style=\"font-size:20px;\"><a class=\"ProveItLink\" href=\"../../../../__pv_it/0c1c4cb515e0f4344b1ac06650f349123e526deb0/expr.ipynb\"><img src=\"../../../../__pv_it/0c1c4cb515e0f4344b1ac06650f349123e526deb0/expr.png\" style=\"display:inline;vertical-align:middle;\" /></a> : <a class=\"ProveItLink\" href=\"../../../../__pv_it/0c1c4cb515e0f4344b1ac06650f349123e526deb0/expr.ipynb\"><img src=\"../../../../__pv_it/0c1c4cb515e0f4344b1ac06650f349123e526deb0/expr.png\" style=\"display:inline;vertical-align:middle;\" /></a>, <a class=\"ProveItLink\" href=\"../../../../__pv_it/a8d4b3a34d2189508f9082853fbac36935714f280/expr.ipynb\"><img src=\"../../../../__pv_it/a8d4b3a34d2189508f9082853fbac36935714f280/expr.png\" style=\"display:inline;vertical-align:middle;\" /></a> : <a class=\"ProveItLink\" href=\"../../../../__pv_it/72df168d2bfb4e0140af90912ebf83b13772060b0/expr.ipynb\"><img src=\"../../../../__pv_it/72df168d2bfb4e0140af90912ebf83b13772060b0/expr.png\" style=\"display:inline;vertical-align:middle;\" /></a>, <a class=\"ProveItLink\" href=\"../../../../__pv_it/dbe7145e53d9411a5ba89652cbfea9d54e4b581a0/expr.ipynb\"><img src=\"../../../../__pv_it/dbe7145e53d9411a5ba89652cbfea9d54e4b581a0/expr.png\" style=\"display:inline;vertical-align:middle;\" /></a> : <a class=\"ProveItLink\" href=\"../../../../__pv_it/d3792d0d8642fdf1cd2a3a9b32c673ee13653de00/expr.ipynb\"><img src=\"../../../../__pv_it/d3792d0d8642fdf1cd2a3a9b32c673ee13653de00/expr.png\" style=\"display:inline;vertical-align:middle;\" /></a>, <a class=\"ProveItLink\" href=\"../../../../__pv_it/0a2bba13f1df910578e611e3c0100cd5999bfe270/expr.ipynb\"><img src=\"../../../../__pv_it/0a2bba13f1df910578e611e3c0100cd5999bfe270/expr.png\" style=\"display:inline;vertical-align:middle;\" /></a> : <a class=\"ProveItLink\" href=\"../27802998024defa1bb861ab94e96004f4d12c1d90/expr.ipynb\"><img src=\"../27802998024defa1bb861ab94e96004f4d12c1d90/expr.png\" style=\"display:inline;vertical-align:middle;\" /></a></span></td></tr><tr><td><a name=\"proveit.core_expr_types.conditionals.55be2cfa56b1f514769305e255e10900c6b6acb10_step1\">1</a></td><td>theorem</td><td></td><td><span style=\"font-size:20px;\"> <a class=\"ProveItLink\" href=\"../../_proofs_/condition_prepend_reduction.ipynb\" style=\"text-decoration: none\">&#x22A2;&nbsp;</a><a class=\"ProveItLink\" href=\"../db176aa189e05b9fc886cd1358f1e8ab0caf543e0/expr.ipynb\"><img src=\"../db176aa189e05b9fc886cd1358f1e8ab0caf543e0/expr.png\" style=\"display:inline;vertical-align:middle;\" /></a></span></td></tr>\n",
       "<tr><td>&nbsp;</td><td colspan=4 style-\"text-align:left\"><a class=\"ProveItLink\" href=\"../../_proofs_/condition_prepend_reduction.ipynb\">proveit.core_expr_types.conditionals.condition_prepend_reduction</a></td></tr><tr><td><a name=\"proveit.core_expr_types.conditionals.55be2cfa56b1f514769305e255e10900c6b6acb10_step2\">2</a></td><td><i>reference</i></td><td><a href=\"#proveit.core_expr_types.conditionals.55be2cfa56b1f514769305e255e10900c6b6acb10_step5\">5</a></td><td><span style=\"font-size:20px;\"><a class=\"ProveItLink\" href=\"../15a00d825a7c658d68ebdf07d8090dfd64f237c00/expr.ipynb\"><img src=\"../15a00d825a7c658d68ebdf07d8090dfd64f237c00/expr.png\" style=\"display:inline;vertical-align:middle;\" /></a> <a class=\"ProveItLink\" href=\"../9e60c7718b155f0d5a0f632724fb7dd38cb1bbcb0/proof.ipynb\" style=\"text-decoration: none\">&#x22A2;&nbsp;</a><a class=\"ProveItLink\" href=\"../2cf8e15839f3241ee91ee5160b94bb56314115740/expr.ipynb\"><img src=\"../2cf8e15839f3241ee91ee5160b94bb56314115740/expr.png\" style=\"display:inline;vertical-align:middle;\" /></a></span></td></tr>\n",
       "<tr><td><a name=\"proveit.core_expr_types.conditionals.55be2cfa56b1f514769305e255e10900c6b6acb10_step3\">3</a></td><td>instantiation</td><td><a href=\"#proveit.core_expr_types.conditionals.55be2cfa56b1f514769305e255e10900c6b6acb10_step4\">4</a>, <a href=\"#proveit.core_expr_types.conditionals.55be2cfa56b1f514769305e255e10900c6b6acb10_step5\">5</a></td><td><span style=\"font-size:20px;\"><a class=\"ProveItLink\" href=\"../15a00d825a7c658d68ebdf07d8090dfd64f237c00/expr.ipynb\"><img src=\"../15a00d825a7c658d68ebdf07d8090dfd64f237c00/expr.png\" style=\"display:inline;vertical-align:middle;\" /></a> <a class=\"ProveItLink\" href=\"../85f3e49a22e9c8f14319f6ea657f2d1015bc6c030/proof.ipynb\" style=\"text-decoration: none\">&#x22A2;&nbsp;</a><a class=\"ProveItLink\" href=\"../44bc3cedb64e2d9ab63c441bd8a28ba932a79b0f0/expr.ipynb\"><img src=\"../44bc3cedb64e2d9ab63c441bd8a28ba932a79b0f0/expr.png\" style=\"display:inline;vertical-align:middle;\" /></a></span></td></tr>\n",
       "<tr><td>&nbsp;</td><td colspan=4 style=\"text-align:left\"><span style=\"font-size:20px;\"><a class=\"ProveItLink\" href=\"../../../../__pv_it/557ab5defdcd46aa58168b08767502985122cd490/expr.ipynb\"><img src=\"../../../../__pv_it/557ab5defdcd46aa58168b08767502985122cd490/expr.png\" style=\"display:inline;vertical-align:middle;\" /></a> : <a class=\"ProveItLink\" href=\"../../../../__pv_it/0c1c4cb515e0f4344b1ac06650f349123e526deb0/expr.ipynb\"><img src=\"../../../../__pv_it/0c1c4cb515e0f4344b1ac06650f349123e526deb0/expr.png\" style=\"display:inline;vertical-align:middle;\" /></a>, <a class=\"ProveItLink\" href=\"../b03ca9c7bc8f532bf55517e632039b2ccc74c3bd0/expr.ipynb\"><img src=\"../b03ca9c7bc8f532bf55517e632039b2ccc74c3bd0/expr.png\" style=\"display:inline;vertical-align:middle;\" /></a> : <a class=\"ProveItLink\" href=\"../../../__pv_it/dd60a21b14ad80238615b0d2b74a678a11574e790/expr.ipynb\"><img src=\"../../../__pv_it/dd60a21b14ad80238615b0d2b74a678a11574e790/expr.png\" style=\"display:inline;vertical-align:middle;\" /></a></span></td></tr><tr><td><a name=\"proveit.core_expr_types.conditionals.55be2cfa56b1f514769305e255e10900c6b6acb10_step4\">4</a></td><td>theorem</td><td></td><td><span style=\"font-size:20px;\"> <a class=\"ProveItLink\" href=\"../../../tuples/_proofs_/range_from1_len_typical_equiv.ipynb\" style=\"text-decoration: none\">&#x22A2;&nbsp;</a><a class=\"ProveItLink\" href=\"../94e973d09417542727834c8441742c7761d2bbab0/expr.ipynb\"><img src=\"../94e973d09417542727834c8441742c7761d2bbab0/expr.png\" style=\"display:inline;vertical-align:middle;\" /></a></span></td></tr>\n",
       "<tr><td>&nbsp;</td><td colspan=4 style-\"text-align:left\"><a class=\"ProveItLink\" href=\"../../../tuples/_proofs_/range_from1_len_typical_equiv.ipynb\">proveit.core_expr_types.tuples.range_from1_len_typical_equiv</a></td></tr><tr><td><a name=\"proveit.core_expr_types.conditionals.55be2cfa56b1f514769305e255e10900c6b6acb10_step5\">5</a></td><td>assumption</td><td></td><td><span style=\"font-size:20px;\"><a class=\"ProveItLink\" href=\"../15a00d825a7c658d68ebdf07d8090dfd64f237c00/expr.ipynb\"><img src=\"../15a00d825a7c658d68ebdf07d8090dfd64f237c00/expr.png\" style=\"display:inline;vertical-align:middle;\" /></a> <a class=\"ProveItLink\" href=\"../9e60c7718b155f0d5a0f632724fb7dd38cb1bbcb0/proof.ipynb\" style=\"text-decoration: none\">&#x22A2;&nbsp;</a><a class=\"ProveItLink\" href=\"../2cf8e15839f3241ee91ee5160b94bb56314115740/expr.ipynb\"><img src=\"../2cf8e15839f3241ee91ee5160b94bb56314115740/expr.png\" style=\"display:inline;vertical-align:middle;\" /></a></span></td></tr>\n",
       "</table>"
      ],
      "text/plain": [
       "<proveit._core_.proof._ShowProof at 0x7f5b8e0c1f98>"
      ]
     },
     "execution_count": 1,
     "metadata": {},
     "output_type": "execute_result"
    }
   ],
   "source": [
    "import proveit\n",
    "# Automation is not needed when only showing a stored proof:\n",
    "proveit.defaults.automation = False # This will speed things up.\n",
    "proveit.defaults.inline_pngs = False # Makes files smaller.\n",
    "%show_proof"
   ]
  },
  {
   "cell_type": "code",
   "execution_count": null,
   "metadata": {},
   "outputs": [],
   "source": []
  }
 ],
 "metadata": {
  "kernelspec": {
   "display_name": "Python 3",
   "language": "python",
   "name": "python3"
  },
  "language_info": {
   "codemirror_mode": {
    "name": "ipython",
    "version": 3
   },
   "file_extension": ".py",
   "mimetype": "text/x-python",
   "name": "python",
   "nbconvert_exporter": "python",
   "pygments_lexer": "ipython3",
   "version": "3.7.3"
  }
 },
 "nbformat": 4,
 "nbformat_minor": 1
}
