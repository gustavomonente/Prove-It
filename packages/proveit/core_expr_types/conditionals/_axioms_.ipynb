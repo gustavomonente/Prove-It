{
 "cells": [
  {
   "cell_type": "markdown",
   "metadata": {},
   "source": [
    "Axioms for the theory of <a class=\"ProveItLink\" href=\"_theory_.ipynb\">proveit.core_expr_types.conditionals</a>\n",
    "========"
   ]
  },
  {
   "cell_type": "code",
   "execution_count": null,
   "metadata": {},
   "outputs": [],
   "source": [
    "import proveit\n",
    "# Prepare this notebook for defining the axioms of a theory:\n",
    "%axioms_notebook # Keep this at the top following 'import proveit'.\n",
    "from proveit import Conditional\n",
    "from proveit._common_ import a, b, Q\n",
    "from proveit.logic import Implies, Forall, Equals, TRUE"
   ]
  },
  {
   "cell_type": "code",
   "execution_count": null,
   "metadata": {},
   "outputs": [],
   "source": [
    "%begin axioms"
   ]
  },
  {
   "cell_type": "markdown",
   "metadata": {},
   "source": [
    "***A `Conditional` is defined to evaluate to its `value` when the `condition` is `TRUE`:***"
   ]
  },
  {
   "cell_type": "code",
   "execution_count": null,
   "metadata": {},
   "outputs": [],
   "source": [
    "true_condition_reduction = Forall(a, Equals(Conditional(a, TRUE), a))"
   ]
  },
  {
   "cell_type": "markdown",
   "metadata": {},
   "source": [
    "***The condition is either true or not true but otherwise it doesn't matter if it is a Boolean.  Therefore, a condition of $Q$ is the same as a condition of $Q=\\top$***"
   ]
  },
  {
   "cell_type": "code",
   "execution_count": null,
   "metadata": {},
   "outputs": [],
   "source": [
    "condition__as__condition_eq_true = \\\n",
    "    Forall((a, Q), Equals(Conditional(a, Q), \n",
    "                          Conditional(a, Equals(Q, TRUE))).withWrapBeforeOperator())"
   ]
  },
  {
   "cell_type": "markdown",
   "metadata": {},
   "source": [
    "***If two values are equal when the condition is satisfied, one may replace the other within the `Conditional`.***"
   ]
  },
  {
   "cell_type": "code",
   "execution_count": null,
   "metadata": {},
   "outputs": [],
   "source": [
    "conditional_substitution = \\\n",
    "    Forall((a, b, Q), Equals(Conditional(a, Q),\n",
    "                             Conditional(b, Q)).withWrapBeforeOperator(),\n",
    "          conditions=[Implies(Q, Equals(a, b))])"
   ]
  },
  {
   "cell_type": "code",
   "execution_count": null,
   "metadata": {},
   "outputs": [],
   "source": [
    "%end axioms"
   ]
  }
 ],
 "metadata": {
  "kernelspec": {
   "display_name": "Python 3",
   "language": "python",
   "name": "python3"
  }
 },
 "nbformat": 4,
 "nbformat_minor": 0
}
