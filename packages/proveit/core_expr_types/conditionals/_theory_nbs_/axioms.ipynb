{
 "cells": [
  {
   "cell_type": "markdown",
   "metadata": {},
   "source": [
    "Axioms for the theory of <a class=\"ProveItLink\" href=\"theory.ipynb\">proveit.core_expr_types.conditionals</a>\n",
    "========"
   ]
  },
  {
   "cell_type": "code",
   "execution_count": 1,
   "metadata": {},
   "outputs": [],
   "source": [
    "import proveit\n",
    "# Prepare this notebook for defining the axioms of a theory:\n",
    "%axioms_notebook # Keep this at the top following 'import proveit'.\n",
    "from proveit import Conditional\n",
    "from proveit import a, b, Q\n",
    "from proveit.logic import Implies, Forall, Equals, TRUE"
   ]
  },
  {
   "cell_type": "code",
   "execution_count": 2,
   "metadata": {},
   "outputs": [
    {
     "name": "stdout",
     "output_type": "stream",
     "text": [
      "Defining axioms for theory 'proveit.core_expr_types.conditionals'\n",
      "Subsequent end-of-cell assignments will define axioms\n",
      "%end_axioms will finalize the definitions\n"
     ]
    }
   ],
   "source": [
    "%begin axioms"
   ]
  },
  {
   "cell_type": "markdown",
   "metadata": {},
   "source": [
    "***A `Conditional` is defined to evaluate to its `value` when the `condition` is `TRUE`:***"
   ]
  },
  {
   "cell_type": "code",
   "execution_count": 3,
   "metadata": {},
   "outputs": [
    {
     "data": {
      "text/html": [
       "<strong id=\"true_condition_reduction\">true_condition_reduction:</strong> <a class=\"ProveItLink\" href=\"../__pv_it/axioms/d9895c0c4f543a1698be8529fe4fb0bf663f37500/axiom_expr.ipynb\"><img src=\"data:image/png;base64,iVBORw0KGgoAAAANSUhEUgAAAKAAAAAVBAMAAAAz5vjYAAAAMFBMVEX///8QEBCIiIhmZma6urrM\n",
       "zMxUVFQiIiJERETc3Nzu7u6qqqp2dnaYmJgyMjIAAAAcRTyBAAAAAXRSTlMAQObYZgAAAgJJREFU\n",
       "OMtjYMAOLl9goBrgBJq17gBZWrknMDA8ADHuIouuAOL7yBbIMjCwJDUAWeblIFCGx8RMBobTIPoV\n",
       "suBLID6OxGf9w8AQuOQLhLMJvxPXMTDMALmhAUmM1wDNQBCwgDEIGMijwMC3AEhtQBJjn4DFwGQi\n",
       "DeQSYOA9tWrVdGQxMAfZQM5Q4g1keMLA8KOjowZZSBlmIKeNkRSIPeMbQ7CgMUEDJx9WBHr2MAND\n",
       "KgNDJ7JEL4jIA2LHCXwfwCLPGBjSsLvw3DsQeAxiskgyvAdS9xgYnBm4HiArqgalJ1FgcMgyMEMi\n",
       "qw2ngUhg4QVwzG0HRgIDE0quEAEmlHZgxDD/YmBXIN5A+wUMRUAqHhjFF9gZ0AxkYAG6kLGBYX0A\n",
       "8QZKMHB9hRjI+SAMyFis9hTJywwZDAzrDzDsZyBgICQMn4HSyx8GblCIuwNxZwqQX8r6CzlSgLG8\n",
       "fgNDHihvEudCrt8MbA92giOFYXMBMMAMWAugUoehBnIo8JbxgEU6wAjVwPUP0ExsYrieACxRbIBM\n",
       "fmDQM25gSoDKuEMN5EpSnaYCYof9z5r2vxcq6wvLTwloBi5TikxyYGAABRwvMD2un8BxawGerEcs\n",
       "4IL5k3FCvC9y4XCQTAN5FKAMlqRNtjDBTrTykBSwDpsgqIDlI6/ERs3EyFUAw2ay6hTeCQwAbxaM\n",
       "TLGnqskAAAAASUVORK5CYII=\n",
       "\" style=\"display:inline;vertical-align:middle;\" /></a><br>"
      ],
      "text/plain": [
       "true_condition_reduction: forall_{a} ({a if TRUE. = a)"
      ]
     },
     "execution_count": 3,
     "metadata": {},
     "output_type": "execute_result"
    }
   ],
   "source": [
    "true_condition_reduction = Forall(a, Equals(Conditional(a, TRUE), a))"
   ]
  },
  {
   "cell_type": "markdown",
   "metadata": {},
   "source": [
    "***The condition is either true or not true but otherwise it doesn't matter if it is a Boolean.  Therefore, a condition of $Q$ is the same as a condition of $Q=\\top$***"
   ]
  },
  {
   "cell_type": "code",
   "execution_count": 4,
   "metadata": {},
   "outputs": [
    {
     "data": {
      "text/html": [
       "<strong id=\"condition__as__condition_eq_true\">condition__as__condition_eq_true:</strong> <a class=\"ProveItLink\" href=\"../__pv_it/axioms/9e8edeaac70343fc96318a9f4ddba846a88bd2f70/axiom_expr.ipynb\"><img src=\"data:image/png;base64,iVBORw0KGgoAAAANSUhEUgAAAQMAAAAyBAMAAACqrqNEAAAAMFBMVEX///8QEBCIiIhmZma6urrM\n",
       "zMxUVFQiIiJERETc3Nzu7u6qqqp2dnaYmJgyMjIAAAAcRTyBAAAAAXRSTlMAQObYZgAAA+lJREFU\n",
       "WMO9mU1ME0EUx1+py3b7qYkQQyRpouixVRP1AILx4oVYYuTgpbUqMcbwERQvGnsSSDSWC3KjEcOB\n",
       "RFvKwSMYDyZKbI0Xo9FCRA4eDPGDCIp1Zku33e3OzO64ZUJ3Z3Ynu7+ZefPe+y8A9OJug+qVSUO9\n",
       "5tXNN1krEbYtGOhUE1E1H89ZOw0fDfSZVjdzZXWpEQ0jGpPrzj3zLTwIDvaQnDvV7edldeEPQMfD\n",
       "H4XrIaiNcSBon69HGSQj4HJ0c33Qmjp380zDNLPHbIKOcL5wWsTdengQROZK9AMZQTpTRHBv4GMm\n",
       "zoHgWmN08KzpIEjNBxtwfWwVTu84hGvjvfjYyuVB+lnTpDWxbvQ7HveuyI1lgC65kvHj470QD0Iu\n",
       "Qb8f1gzMVYfMrhHsBbLbRYRb8svzXJ4h6affP6BuCoNoue3rIPrVCHk8EtcqF4KX4SDrtQ4VzYIt\n",
       "BsmQGqFPXrR1LoQauj0KG9orl9DMzcEsqBHO4UPAz4UgbZgkRDsimYJuV1yFEE48aBK+c4aJerpv\n",
       "3K6D4PB7BtxyY0j+w6j+rDtX8DHOv2YRBgFkc/ige9cW00FwRptG9+J6Z/7yaP6ufPnslf3DUDCQ\n",
       "AbMIGYCX+PxFf8MEAegOWim1IU+cbyFyIRjDNqEf5cIVFvaUHM9OctoCeokXbWp3Sj9IVVzOkR5k\n",
       "z//kREBT7XkxNXWfOEdaR0IKbEJfihPBh/KyX0NDN/TvBiqXd8bS3FFGQEZwEWC4zBc0P1MCRyYB\n",
       "1S82tCVPgLPkp6UlEBqKjdYtQUCRXoSa0uyOoLk/XGz0bAEBiMj/ubNi6cJN9Hu95QjSQieqTez7\n",
       "jC0Bu+SAsYWwSNWIOOUavoDc7jUBB1svVi7HFHOkOTyrVA02R5hBHPaggGl8+LlKNh6gpWJmVM2R\n",
       "67johw8bHrUP+WFbSpZuNlT1KPExR0tITaqaNNEv4EDkQUuejDveoVNt5FFqRHnxrFEEA6qGiJAs\n",
       "LqgtHm6HsYSzzv9+qRRBsiYQGKomTQlTm1lhNN0CHSmYuNMFcdUcGUEwoGqICJpYiFudkjJ2cYGB\n",
       "YELVEBHUuHJKOL6oeAP7iuaLy1e5BI2pmldy508sBPWieeTk42qpTcnLzaoaIsIuehL/m3zLrKoh\n",
       "IUjfuBNss6omzSdloFXXFiLGVE3BFpYZCI5eOsKpNuqOMKNqSAg+hggTg1QEuqrRR0hqNnqAkRbR\n",
       "tgRb1ahKe3FUETN6rjxosh00n6phfuip+NxluarxBv+jhzWqZpqZIUt1ZDorVI2BT5/whHzLClVT\n",
       "G2T3sUeqmj6/NdIpWk0CQ/8MAHtbFREmZWP8B2A+OpqYYZS1AAAAAElFTkSuQmCC\n",
       "\" style=\"display:inline;vertical-align:middle;\" /></a><br>"
      ],
      "text/plain": [
       "condition__as__condition_eq_true: forall_{a, Q} ({a if Q. \\\\  = {a if Q = TRUE.)"
      ]
     },
     "execution_count": 4,
     "metadata": {},
     "output_type": "execute_result"
    }
   ],
   "source": [
    "condition__as__condition_eq_true = \\\n",
    "    Forall((a, Q), Equals(Conditional(a, Q), \n",
    "                          Conditional(a, Equals(Q, TRUE))).with_wrap_before_operator())"
   ]
  },
  {
   "cell_type": "markdown",
   "metadata": {},
   "source": [
    "***If two values are equal when the condition is satisfied, one may replace the other within the `Conditional`.***"
   ]
  },
  {
   "cell_type": "code",
   "execution_count": 5,
   "metadata": {},
   "outputs": [
    {
     "data": {
      "text/html": [
       "<strong id=\"conditional_substitution\">conditional_substitution:</strong> <a class=\"ProveItLink\" href=\"../__pv_it/axioms/e9d03d98a28aa803af75a585639731cc9b53e2250/axiom_expr.ipynb\"><img src=\"data:image/png;base64,iVBORw0KGgoAAAANSUhEUgAAATsAAAAyBAMAAADRimGIAAAAMFBMVEX///8QEBCIiIhmZma6urrM\n",
       "zMxUVFQiIiJERETc3Nzu7u6qqqp2dnaYmJgyMjIAAAAcRTyBAAAAAXRSTlMAQObYZgAABd1JREFU\n",
       "WMO9mW9oW1UUwE/SvPx5+Te11bWb0DXYCQrNLIwq2xoQyr7MpYqd+iWxatEy106dyFAWNrAtWJYh\n",
       "ar/o3lbptDCbuQ/iB1204EArjfjB6XDJ2PTDxFpqV9d0XTz3vrx/yXsvTXvfLulN7u3Leb93zzn3\n",
       "3HMCwLz5IiykjIFFbUo7/DmzKimOnDV09rhm+Fl6lXIuWYN3RjvMqgfHcCU77hc/n9w2abqu7rQV\n",
       "dHytdnxePYilgWvYTW3TdwDgxWoEsWnusAketpqEePMZ7E6kq1ADm3ZOMMdziviBBvJ51kySywrt\n",
       "vgomeO9FJbxpYne+RTNJ3kX2dP5FPbx3JzeRRfUcjXNb7iJ8nv+oouerelIGzZUomdhH9rB6+EdU\n",
       "aRycdN/xzVE7vW4qKyswx4uVhAxvHXGBDLSJfiPhuShY0NT2YKKROd4W7ZAbSGLfLsArWrxgnrpR\n",
       "3FRWgH3guLs0NpHVWw/89ZLVW0f6Q+baszP3DW65dAa3Xv4meGe1eE6CZ58zF+ZZZh5wyx4YPZdf\n",
       "AmfuSw0el+eborFwlapYe8xYp4MHh+GXON1j3QnyIq3JDz/eFOPHLUNpAwDU/H5nhWdL6OGNNT3d\n",
       "TTya61v4tO8GPQhwY9++keToFa8bSpsG+IG8X2OFNxEGMA9qSnsBfq0gLRuFEWKDCWbbXtlW9Y3h\n",
       "tUccicrSAujcvhSzA0GZpKzhte2FaGVd+L8fH/+AmWtky+4YMDx37NlQSVoQvfzG4OCbzPBakmVT\n",
       "ZzOrlhZMEAuFoSq/VsLAqXyNaRS34bbyKPBybHPMFHfXbZP0Po7ifGjqEXWmqBbxWA68yjGgnS1e\n",
       "P4Y/sCvLPylGk6uYEtBtVJz9KAKdqvu+pMlqcSt5WB71sT2d4Sbvy7iUib/EhAq1t1XB89TjyVE5\n",
       "XHAaYw+k1CkzezxPrkuZEEPmW/j3k4LnwtX102jlJevs1HhnEB8lkFyZcqvNyF2oXBh6HrvR5j/I\n",
       "wsw1o3w7QWlR8DYRa5yV9YqLzT+0T2KMNfWqrGM6aXK3qjNy4hpwFhn5Axw5INoP2sP0yA2wQ8H7\n",
       "k6QFOd8gtsvoBbhLnorGBCcZD8NmIQReWfMtZjst2aE/uUe0l3vR77qLOWVoarsBHpEbxEBUE+bI\n",
       "Qrob/QgcJE+5UcEjJwtb8clDEdgJ0Ap7JBGH4RIo0SlrVv6h4feKaL8os/NjMRM6j+mbfngLkgju\n",
       "R33aUrQ0YosQF7A1SrYm4t0pmSI5fPRCB8AGaJZE1KITcfLOdK4i3pI8bCuqHL/Mb9QPapI1TCTd\n",
       "vyFlULChIzrjp1PHIgpeD3/RUwv2Vmxbcf97CvhFGB53zmD7G/LI6pCVG8tUwHPk5eFz4ttlwdDj\n",
       "5QOGLRnbBSOCS7iAPV/XePEqKHgnHvd/jbTj2JpweAqgnpuXOA76E+BPa9RhhufrF23vSQnPt2zs\n",
       "UvIBw9H9+XboTHF709jD6Ds9YuAS8fi27+IeUSpZJpcAHQ+EJLyuKbRcWaWuXAW8QHeI3HNkAZ64\n",
       "o5VMHqe87bpGUQKdkvsuT0YVNYCLfyji0YhXdmgKKAWekszVN0NbWM7IJ67xi8XdoEdEoAo8quvx\n",
       "WpV7k3J/nFqEjOe51aC6rszNvlJqGHmTmkmdWCGi+dnbEt4hClbQ/cZ6bX1E6d2vgRoPBtSLv6u0\n",
       "EqcYHLdknGPSjHwHSSvVeAWyDt4F3USyQqIJNfrLUGLHdmFFuR/NyK+AY0mDt5+abP72pOHQrmt7\n",
       "cSkjh2WoyWvwnqXBRrea4u5njrc7Yu6586QepMaLCSfv4/7VDxrsS0CusDney3CEfh6kL6LBxowv\n",
       "m9ZNyFvYF9DMXJfgjT5IF6+r0Pt+YZjOPrN38xBE9RJy5jUM6ShhEnN1mjPqT96m4m1Z6XsFGbk7\n",
       "vFO3vBe2AM9EqFFGXlPQLeKeESzA89QZkxuclrn9elUKa352gS+M/1VVRu4MW4KnyunW1C6ANa2b\n",
       "iRSrfjBVnf7W0saoY/wPLTmBNLmQi74AAAAASUVORK5CYII=\n",
       "\" style=\"display:inline;vertical-align:middle;\" /></a><br>"
      ],
      "text/plain": [
       "conditional_substitution: forall_{a, b, Q | Q => (a = b)} ({a if Q. \\\\  = {b if Q.)"
      ]
     },
     "execution_count": 5,
     "metadata": {},
     "output_type": "execute_result"
    }
   ],
   "source": [
    "conditional_substitution = \\\n",
    "    Forall((a, b, Q), Equals(Conditional(a, Q),\n",
    "                             Conditional(b, Q)).with_wrap_before_operator(),\n",
    "          conditions=[Implies(Q, Equals(a, b))])"
   ]
  },
  {
   "cell_type": "code",
   "execution_count": 6,
   "metadata": {},
   "outputs": [
    {
     "name": "stdout",
     "output_type": "stream",
     "text": [
      "These axioms may now be imported from the theory package: proveit.core_expr_types.conditionals\n"
     ]
    }
   ],
   "source": [
    "%end axioms"
   ]
  }
 ],
 "metadata": {
  "kernelspec": {
   "display_name": "Python 3",
   "language": "python",
   "name": "python3"
  }
 },
 "nbformat": 4,
 "nbformat_minor": 0
}