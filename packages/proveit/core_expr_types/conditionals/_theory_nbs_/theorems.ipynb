{
 "cells": [
  {
   "cell_type": "markdown",
   "metadata": {},
   "source": [
    "Theorems (or conjectures) for the theory of <a class=\"ProveItLink\" href=\"theory.ipynb\">proveit.core_expr_types.conditionals</a>\n",
    "========"
   ]
  },
  {
   "cell_type": "code",
   "execution_count": 1,
   "metadata": {},
   "outputs": [],
   "source": [
    "import proveit\n",
    "# Prepare this notebook for defining the theorems of a theory:\n",
    "%theorems_notebook # Keep this at the top following 'import proveit'.\n",
    "from proveit import Conditional\n",
    "from proveit import a, b, m, n, A, Q, R\n",
    "from proveit.core_expr_types import Q_1_to_m, R_1_to_n\n",
    "from proveit.logic import TRUE, And, Implies, Forall, Equals, Not, NotEquals\n",
    "from proveit.numbers import Natural"
   ]
  },
  {
   "cell_type": "code",
   "execution_count": 2,
   "metadata": {},
   "outputs": [
    {
     "name": "stdout",
     "output_type": "stream",
     "text": [
      "Defining theorems for theory 'proveit.core_expr_types.conditionals'\n",
      "Subsequent end-of-cell assignments will define theorems\n",
      "'%end theorems' will finalize the definitions\n"
     ]
    }
   ],
   "source": [
    "%begin theorems"
   ]
  },
  {
   "cell_type": "code",
   "execution_count": 3,
   "metadata": {},
   "outputs": [
    {
     "data": {
      "text/html": [
       "<strong id=\"implication_from_conditional\"><a class=\"ProveItLink\" href=\"proofs/implication_from_conditional/thm_proof.ipynb\">implication_from_conditional</a> (established theorem):<br></strong> <a class=\"ProveItLink\" href=\"../__pv_it/theorems/229ea1b19f60dca524b050d66dc3e5b50cc07e420/theorem_expr.ipynb\"><img src=\"data:image/png;base64,iVBORw0KGgoAAAANSUhEUgAAAMYAAAAWBAMAAABpi/5BAAAAMFBMVEX///8QEBCIiIhmZma6urrM\n",
       "zMxUVFQiIiJERETc3Nzu7u6qqqp2dnaYmJgyMjIAAAAcRTyBAAAAAXRSTlMAQObYZgAAAvtJREFU\n",
       "SMetVU1IVFEU/pxxft5z3iRRi6zFC4mWDgQZYvooqDaFGbhokROVEASOFESROLucCEY35cZmyujH\n",
       "yIQW0cYEoR8TfNGihZQjWZCLFMqfRJvOue+98c5kE01euPeed8995zvnO/eeC/xX6/7rjpIOIMXC\n",
       "+wIh1CgP5SO7/6A/Rv008JrlqQIxguQkXtTBG11dP029D+iiSYkWiPGWbRAT6pZV1dp0EgjoCPLU\n",
       "XyDGBeoTZADNmSV/x4r6QS19qKXQhnt7rxcIoUTIv2WWRjOWPRInZoVB4ySw0N5+qUAMVwhIRFiq\n",
       "NbL4s1px8plJ0xBwCoiJJWtE+UiVtSM7+ndAgzg+ruqhpKMhE6M6S/E6GirPc2sLOT/eRiMrPwB7\n",
       "oYrzq30XihsGDgsbfmfruPBxH3BxD/MzCU+ZrfFRHtvYOtJSdANOdg0kGO8JbYSLI0KPIFbZBLjD\n",
       "MoZaa9rCDI+dFNVOW1VE6Gl2qGROvjQTFnGeEzuaOTmNlDTTJ5aGzwrXyKBWKmME7org7/MBodZK\n",
       "/Y2E0SL+WpQwrr2CQ3ZRysJQUg0CVW/naSszPiNj1PvFZY7jyBKx62KgComr4yxUiKTUfBXti60l\n",
       "pY937+dcn+QVLyp5+kzdnZIxwm5xch5ZXAWZxxop543JW9s836QwDjkHmzCCM1bO8VjYGLO8W2IK\n",
       "BiUMrd8Ky8ZYxzrnVgeIRZduBsYHpWw4dYkvnf8HDdX8GweqfhyJc/bWZ+i2MfqqXy5KGEW6ky9m\n",
       "nL07emZ7DHUZDK8t3ktPoSQ+T158Yk/ZtjuJBGub1DFlg4xRBWVWwvCGH/Z3GnItYbPaSgFRfqvN\n",
       "EUc6SPGYyhXcrNcGDAmjmChfljDUjfrYZM6d9ocO5CkGAd3J3gKUeKtnM9Rdz8OKhBGPomuecNTm\n",
       "0J05DrTnahM6skuAOz2bB6Mv99HiQxzuRtY9z20Nipn1RsHTkq9ux3K+nzKhP8vyYyQmkv/w1kqp\n",
       "sosxD5eN/Bj+c1ir5l4zS78A0XXDjzQOkesAAAAASUVORK5CYII=\n",
       "\" style=\"display:inline;vertical-align:middle;\" /></a><br>"
      ],
      "text/plain": [
       "implication_from_conditional: forall_{A, Q | A if Q} (Q => A)"
      ]
     },
     "execution_count": 3,
     "metadata": {},
     "output_type": "execute_result"
    }
   ],
   "source": [
    "implication_from_conditional =  Forall((A, Q), Implies(Q, A), \n",
    "                                      condition=Conditional(A, Q))"
   ]
  },
  {
   "cell_type": "markdown",
   "metadata": {},
   "source": [
    "Note: to prove the following, we will need to use the fact that a condition of $Q$ is the same as having a condition of $Q=\\top$ in order to avoid requiring that $Q$ is boolean."
   ]
  },
  {
   "cell_type": "code",
   "execution_count": 4,
   "metadata": {},
   "outputs": [
    {
     "data": {
      "text/html": [
       "<strong id=\"singular_conjunction_condition_reduction\"><a class=\"ProveItLink\" href=\"proofs/singular_conjunction_condition_reduction/thm_proof.ipynb\">singular_conjunction_condition_reduction</a> (conjecture without proof):<br></strong> <a class=\"ProveItLink\" href=\"../__pv_it/theorems/4fd1880a6a4acdf6bda32e7eb7d85f8208026a990/theorem_expr.ipynb\"><img src=\"data:image/png;base64,iVBORw0KGgoAAAANSUhEUgAAAOkAAAAyBAMAAABL4OE8AAAAMFBMVEX///8QEBCIiIhmZma6urrM\n",
       "zMxUVFQiIiJERETc3Nzu7u6qqqp2dnaYmJgyMjIAAAAcRTyBAAAAAXRSTlMAQObYZgAABLlJREFU\n",
       "WMO9WE1sG0UUfrazu971rl0JgkqbgwmicMv2gji0OAIJcUHdXorg4iWiiAMiLlAEEqgrOKSRkOoI\n",
       "IXqBuq2UqpVaG3JAPaU0h0pQZKMe+KnAriiHcmijQkubNoQ3s9m1vTszOy4Jk+x63uzMfG/evPfm\n",
       "2wUQF3Mc1rTMSvU63y9eaP1H1KGORKe02yeeOpM85LOwdpr1+FcJ1C/6xXavMIPrfuax6AjDI7eH\n",
       "z28HUKuMGbPJihv398vneoXyGVA27Qj2PUDIk8o5B1QPjI7ElCzFbAEqlowXVn8Ldp5sBMIZIwBn\n",
       "JczHKPM1MaoaaqVMrXZ9F69LpD4JcJg1p5Zo4jdBgPqJ04OqPlWkv3oFo22Z1JpVyLPCLnc7AdS6\n",
       "zUL9eOEhshb9gKtsvS+APQUV3+mx4RCtlsbBtGWWEjOGF2l4nUTcg3DN9xsX1DCwvsU/6gno2E26\n",
       "7AMOWMzgbNfEqOWIhXLDeDvcgid8gF7UCnzuK9oA2OeQ2gr2r7BmrRfFqFv7RWWKREWpBm/EUK0i\n",
       "qBQrhYqukMXkbuKARdas+YT09EA0nZG1bgTjRgxVq4HiBqh7aMsSDzUtdidlOdryKsbhXcgtxlDn\n",
       "8LoSWPglUhlDOw4xLawvi5NwTCn0YeMOqJ3TUdQrq8jUm8q1I48ofxK7d6RMGMlMGxio8AH84NJA\n",
       "z3rk37eK51sZaLCkiy2zTbpkaL96FHsKgDb9wkRNeSzU2dEXJohvK5M3j0/e8k8+lTSkiW9So774\n",
       "2qPTgM6Vpw6muZFZmuCH2R9M1LoNIM6IoZvRuxNkRFTDsdDfj7F7tx04SPbXY4drLLC+Tj4bL6we\n",
       "G88CJ/vTefO4G2aDnftjze1k1Cw98jIrGF0GJzDRhtY3J058yrVENMAljmRqN2VPI1AgXgq40bf2\n",
       "73+P/XQsPmoumTd1GcxPnB4FVGw3wHRPjG5bCJNzswbrUlJo+ad77a9fRlYSCKX1QsXo0iDdNdsM\n",
       "GvXxQJhcH1DQMPuYLa3b8D5e3/8fqHpnF9aObvmd7CrJgWNyFr53Qq6R/DX9Mvr7XmXJpwcAT4be\n",
       "VBUMlSHkAm+COYTO2ApRoECmGgkjxxEM5RLyI9sWEqyQImsrYOJLNei7RQqrVnjStEVvVjxCbu6l\n",
       "x7CoFEh+t3D76tXsz/ijuicbMyHWvDRql5AbVwm1Elu/HjxOVcvPwcGaMVy8eLm7gtYAqKvUOE+i\n",
       "XV0Uk8DgVBma+HI77GzA0Y9eCd9YfEtIoXYJeZNoaoqZUeRUIdIuPVyh1klCjRFy/W9q7b+EqP2x\n",
       "kSPSoUthlGYihjKv0mILCLl5nZ52N4So/dnHoiPe6spL/JEcQq5RvIJ4XzeKmekd/iMOIS9QRedd\n",
       "0bT69cFYeDIh12iw76sNRnj7S4m5r66AkKsENS1eTLYiRt0xLvRhBiFXloxRp2yLU1PC25VmiyOH\n",
       "QchHLfjurp+l/uGMHEsgCyIn5hByZfbsO1WF9nh7cG/xy4h8RuyW3VyaJveFIPY1RIqQfzjkiebM\n",
       "20mogh58Ql5acYQfzhI5oD7MV4h7mj2/eZAPZ6zyFf/R3L3xJtVO7pNx15og/ijTaWKNQaW+1EJm\n",
       "fG1RZ6kv/QsW6U3Idsc5kAAAAABJRU5ErkJggg==\n",
       "\" style=\"display:inline;vertical-align:middle;\" /></a><br>"
      ],
      "text/plain": [
       "singular_conjunction_condition_reduction: forall_{a, Q} ({a if and(Q). \\\\  = {a if Q.)"
      ]
     },
     "execution_count": 4,
     "metadata": {},
     "output_type": "execute_result"
    }
   ],
   "source": [
    "singular_conjunction_condition_reduction = \\\n",
    "    Forall((a, Q), Equals(Conditional(a, And(Q)), \n",
    "                          Conditional(a, Q)).with_wrap_before_operator())"
   ]
  },
  {
   "cell_type": "markdown",
   "metadata": {},
   "source": [
    "Note: to prove the following, we will need to use the fact that a condition of $Q$ is the same as having a condition of $Q=\\top$ in order to avoid requiring that the $Q$ and $R$ variables be booleans."
   ]
  },
  {
   "cell_type": "code",
   "execution_count": 5,
   "metadata": {},
   "outputs": [
    {
     "data": {
      "text/html": [
       "<strong id=\"condition_merger_reduction\"><a class=\"ProveItLink\" href=\"proofs/condition_merger_reduction/thm_proof.ipynb\">condition_merger_reduction</a> (conjecture without proof):<br></strong> <a class=\"ProveItLink\" href=\"../__pv_it/theorems/34730de8038f9b930c45bc512fde576dd73cf54c0/theorem_expr.ipynb\"><img src=\"data:image/png;base64,iVBORw0KGgoAAAANSUhEUgAAApkAAAAyBAMAAADlxd1lAAAAMFBMVEX///8QEBCIiIhmZma6urrM\n",
       "zMxUVFQiIiJERETc3Nzu7u6qqqp2dnaYmJgyMjIAAAAcRTyBAAAAAXRSTlMAQObYZgAACVxJREFU\n",
       "eNrdm3tsW9UZwL/YvnbuK2GIdkpLJ9OMlolHDRUPQUvdIcGkScNpRRdNSDUpLaWCxgxUpg1Rwx+L\n",
       "O0B4m9QVEM2lQ6AFQVyqaGsFi1HHQ6WohgJCG1AjJKT2D4iSNmpKwTuv+z73+hjJ6Jovze25X75z\n",
       "fO7P5/F9x58BxKSr0ahCu0XLQueJkmedbzTOEa3Ttf8Jo+0dOwydKL9iVJ94Spxmrv3diuXd90dr\n",
       "HUFTr7OCFCmae923L1U7ZHA+GkWaynnu+2OOsrwIIDFUpHb9h1e21C7H/sPGptJjLbQRav9MNoI0\n",
       "uzPu+zcdZekswMCzJ6k+B8miA3RAc5beY0/lNMCfHQtLuUkbXnuXqOdEkOakEUwTyzVsAUDLlHK+\n",
       "re7J8Jsz9V57+uDTAMlT9v3n4W347N3yQARp3gvhNDfQ/z7D0Idt9eDv+c2Zeq893fDmAFJzNtwR\n",
       "I7QNr713HJQjR1OfC6Ep32LS1L7B1yP21Lx9Mb89pvfZ01UFPfikPf2TP0+HteGz90gqEzmaqSKH\n",
       "prziigW4vGsW1v5oOS6NFvB1leXnK/UUf+9heq89ld48qPMd7gMUwtrw2XsHwpnI0VzvDYS2ot/V\n",
       "5Z4pcvMFwCZSOEJG0eM5GGQhSEWrcOMqprfs3S9295IZpJLYO/g2+glpw7IP8hqmI0fzcu9OOQ91\n",
       "cxHE6QP/0aS5nXSkAWuvZkMa5Dp3qDO9ae+WZQZ8aoC0nA3JAuwOa8O0D5QvI0fTM5GkEbTUxc9A\n",
       "Ku2m2cAPpc4C3ETt3gPYyGvO1Fv2LnkITV4UHCQoTT0NyVxIG5Z9kCwrR4ym9I1HkUBjs6sI4zk3\n",
       "zXvIoDlj0US77jpee6besncJojuat2im0DDNh7Rh2QfJaC1iNGM+/2MzwHgVJsFN8zYyFtImTRVt\n",
       "pz0c39vSm/ZHP1icWbzR8dZNZiya+9Dv8ZA2THt95Zp+Pp18xGh2+7qC9vTxCmxVyy6a6409F0oz\n",
       "YNLET6ty/HdLb9q/vwjmG0vMt+4U3p4Uk+ZxRjSoDdNeX13r4kZN3YWI0ewqcmh2p/VtGrkpkX/4\n",
       "wdI17VjVojnIZiQo36LLeJ0VbD2zl/cU4CSsoCaAHYXJ9FOMJtnZU4azPrGy2jDtn1wKvWQvGvds\n",
       "fNoUo0n0n4jQ7CELdrtOycYzHJrK0IU7f4rL6xpbdjboscNv7lq6A3ImzdvxhfjY2zCSPCs49Mw+\n",
       "mUYP+wdkgvDEv5qtgfZwmtFMZgl1Z31SsNqw7IdgNV1oPWuoforRJI7WCRGaxPfqMdrlbqahSWRp\n",
       "Ry45vWzSJE6q5Ldx6ol9Vy5WlKfQu3DAudMRmglSzoW2QWUerJC4W+g0o7kLRxxFEZrEalfbzjx8\n",
       "PvhrwYdNv0DXf7ZwOIXsR9Ho1ItoiXA6OmqhpT7KU3DfBNd9n2E08WDjRxO+dfMEiRraJMd8Y+NY\n",
       "kGm8gSbWX7cPiTZN7G9Em4p8lwGKYw7IV8+mW+ljIg+X8Fe6WUZTPzQ29jexXejjsbF/FNpFc5lv\n",
       "s+wJcpeleyotNe2y19vS+9Pmnn66VHpAjGZvqTRSbRfNI/4FeV9nfC6E5ScmTeTR7hCjiaKvbscI\n",
       "6j98Lc/SrU48vmEzZzb51asM6GD5sUnzBlDq/Aly73/ggryDZiIDL9l/3p2FAQ4Br/pd62jaJT71\n",
       "cCfDpPErppmCGGdGvXBwJfxLM+KG03svwKX2Ct6Hlnd/6OpTXwVwB+flfeofCE2txjlu1R950oBX\n",
       "0xnNFQu94zhUTaG3QPeHUj71bwHO5by8T93ZM/1+k6ZcXwckno8twcRoZH8D/uvExF/cNHfjkxbl\n",
       "iq24fAGOH6Z8zXrVyin4O2fd9KuPlMN6G/VEBWsXgh0ogsLx/BaSa0Eje7KSTmgv3uqi2b0ThQfP\n",
       "59bjYfQFduTqkPQMKaa2t5vpfjT3YYt3F6Jqp4cUdhAQ+USF+RbNfWj64ng+G8d9JpG9QoLmCage\n",
       "dNFU8Xn3cvg1VpzFyqr0mocmVTvOA+qAKt26wPPqVO3y1bNhrr1zZW4xUeE7Jifow7ObS8IzYsai\n",
       "2Yun3BAMQIo4uTiyl35XKj2MaD6dcp8h4XB0IZBzrXPpxpzy0GRqO6qrEhTeT2mZ2hlZhtEUTFTg\n",
       "1xVITuBJbxHk+YIwlbMWTd0g8fxFMCpZkX2ejs3EGjfN/6KKc/DYGCpuUv4nn+enSdX6dZ9c+Qqp\n",
       "0VshH/h4aVL10Vc/tk89aoI0sQQkKnAXibpAckLQMcyw4DmkdephxfND8JEGuwwa2b+Ole+jYNJ/\n",
       "vtknnazJf4Jn1uj/zhKa6AZVYxeqVi+DhWoVaQCtsXdIZUzTtrHULxdtd6I30wLNgEQFnogkJwSG\n",
       "utvLYjTVr100UTx/HHYegoEKjey70aRPPJiFpJ/mjRf316SFoFzzRl6mH6kshIGy1IcvlnqjUogj\n",
       "N76ibb8TBheTsTlQoTZ9tjqZG7Rdq7ogzZBEBY4IJSdw5SEE6bTgTNfmXDQtMc8HLkLrpjeydL4Z\n",
       "uHL+aTrTVb+6oGZSqt0amekV34uk4FJrtYxPNaHZPFGBJ0LJCUHHQnvzgjSTU1yaajkkTnfIfvx4\n",
       "3y4Aadl19MatVvKxbPJndmtrZiqOpq3Sc/CKtVrqno8VtS+J0PkvlqjAPUwxbdxrojs5gbsUzr43\n",
       "fKXolk4/hvHR1EGMJoEwknXc+NWe1vTwF5G+DlmWxBIVeCKUnMCT2BnQT4jSHE3zZ7ogzXY5wPxh\n",
       "IpiowBOR5ASu4KX1bGuHs1GiuSr4T4KJCoHHEU2SE/juZh7kWdG+j0DUaN6c5a2bdB8QSlTgikhy\n",
       "At/drIGKIhxcr3nfo5fVlcqE7unNExX4UASSE/iTNwfaNBioXl/Trseil3Ho3dQ9NJslKrgSC0iB\n",
       "XJomJ7jN7fSGr9ByOy3vR/VIv6gyCE4+cjTh/FCazRIVcNaBJ0PhfgOaJydY9ezKuN71jbsB3kIB\n",
       "RjpBGW0L6XkEM7V93yIIiSxtt9lOVDjgd6wM2yY4OSGwHnvueLXpo7PvIESKZk/wwimSqOA/AtUc\n",
       "NsHJCYH1qCcJqV82e3R1QQRpyvOEzjddYicqOLMOmOxx2AQmJwTXo6cSEHunWccj+e2rkFwYgUQF\n",
       "ToBV89rwzILrCcsGiCLNePAhQ5QTFfRi6zS/j29UD0Enynf5RvX38W3/eLYDYSrsE0T8bf//A1hk\n",
       "LHTWU4dJAAAAAElFTkSuQmCC\n",
       "\" style=\"display:inline;vertical-align:middle;\" /></a><br>"
      ],
      "text/plain": [
       "condition_merger_reduction: forall_{m, n in Natural} [forall_{a, Q_{1}, ..Q_{_a}.., Q_{m}, R_{1}, ..R_{_a}.., R_{n}} ({a if Q_{1} and ..Q_{_a}.. and Q_{m} ,  R_{1} and ..R_{_a}.. and R_{n}. \\\\  = {a if Q_{1} ,  ..Q_{_a}.. ,  Q_{m} ,  R_{1} ,  ..R_{_a}.. ,  R_{n}.)]"
      ]
     },
     "execution_count": 5,
     "metadata": {},
     "output_type": "execute_result"
    }
   ],
   "source": [
    "condition_merger_reduction = \\\n",
    "    Forall((m, n), Forall((a, Q_1_to_m, R_1_to_n), \n",
    "                          Equals(Conditional(a, (And(Q_1_to_m), And(R_1_to_n))), \n",
    "                                 Conditional(a, (Q_1_to_m, R_1_to_n))).with_wrap_before_operator()),\n",
    "           domain=Natural)"
   ]
  },
  {
   "cell_type": "code",
   "execution_count": 6,
   "metadata": {},
   "outputs": [
    {
     "data": {
      "text/html": [
       "<strong id=\"condition_append_reduction\"><a class=\"ProveItLink\" href=\"proofs/condition_append_reduction/thm_proof.ipynb\">condition_append_reduction</a> (conjecture without proof):<br></strong> <a class=\"ProveItLink\" href=\"../__pv_it/theorems/16d554c660a7092abd5be518db5369c5aaa1a0b70/theorem_expr.ipynb\"><img src=\"data:image/png;base64,iVBORw0KGgoAAAANSUhEUgAAAegAAAAyBAMAAABlrFXCAAAAMFBMVEX///8QEBCIiIhmZma6urrM\n",
       "zMxUVFQiIiJERETc3Nzu7u6qqqp2dnaYmJgyMjIAAAAcRTyBAAAAAXRSTlMAQObYZgAAB5tJREFU\n",
       "aN7NWltsFFUY/ne3s9vZmdkioTUtYEbKxcSYrmCEYJElRvRJtxChykPXAgUJQlEDiWJYfbCLQlhi\n",
       "UotGuoCR0ES6yoPBoF1i1KRgWKkYImrXSEz0AUuhDS2X9Zw5c5+zuzO0mfYPzJ7555+Z853Lf/k6\n",
       "ACXEk89nYDyEj8CESjBGfs/lr5a09Zw8kBqXl541nvZl3Ub9DPk5duDz0qCj4/NKb8xwejzj+lQL\n",
       "ObnR4Bpo0/D269rsTICy5jhZhLVnlzhatBT7X/Itib0U2z1ugw5OM57/oGszt1BHPrlO9FHwx3Xj\n",
       "UeBxqt5kT+QGwP6Y9aZDEZdBl4cLg8aySF71aAkGZ2jqUJj+OEVvtieDOAjgH7LexE1xGXRPqjjo\n",
       "teTnT2y2VVM3vk5/nKI32xP3MQIQGKHctdNl0K9CYdDscwpo/rYUVJLqpXWz6I+T9RZ7sqrQjPbE\n",
       "aSOfdBW0MEIBzdbPr8HtjmFYec8C3OpsxcelakQP5gJ0DyHrzfZEKmLAVdFuC4RdBR0wD/wW9H9Z\n",
       "MjQgnfwN0EISBxEf90WhUU5o0nyamujIetXeIE0vz71G7bUw6iroJtNkcJVoumaCj4zFOwroXdLL\n",
       "8rByoTxWwOaoYyjrFXuj1KXgD2pCFRx0FfTDJv/ahnaXbxQCohF0HveVGwZ4itidB1hPe5yiV+0N\n",
       "8hZa4fTc54qroM1brAzNtCcO3VEj6G3SNI6qoJGPXkV7nKJX7Q2CBqEzRu1GXdJF0Mxts2YjQHcG\n",
       "esAI+kWpZ6ICmkOOJ5SkBFxFr9j3XZgVnrVe97IeenzvzLoI2muJmsh7d6dhC5c0gG5KHZ7DXAMF\n",
       "NAbGUbqv6hX7n2dCVWqu8rIh7OGCVDAxF0GXT6GALheF7bx0kpD+4f6KWb4/o4JulJcyBO+gQ3dO\n",
       "bmh62Z493ArXoZ6YAA4JPeJHym2GfrQS0JIX/L0o6JDk7sdSCnriFNDB5jnts3F7VX5Te55UCC9s\n",
       "nrcbogrodfggpSHb8d6NyQ2dXrb3i8wUeAOZoJHw/TecBf5tUbnNEOoGCOgz+OffoqClmBgaS1Xd\n",
       "HQYonoaq4o8KSQW0FOcYq41eL9l7ot44O4AG66sSOdIQAd2BU6N4UdDS5Y4xhWnRrDlduDJ5Gh2/\n",
       "dFDJIPtONNdCHO2LElU6M0hA4xmkpz3ansYL4cyYyg3LC/oLmfryaDbe39Vs99GS/XLk29jNKQiK\n",
       "JQrcawS00NvV9UEJR/ZbV9ex1rGA7rd4w1ChOWG2pZ1FQ729UMp6WPbeNxKJnSVAVyQSbWOid+qs\n",
       "wfaE6xyZTC9IoFFM310CtD8K5bpu155dTIvF9d/qfV3ZvrUb1cV2LgWTQ+6TQT+BCjXjldX1EW+V\n",
       "HnRZGI5rlw9GoMEKgr0MTI1e8ZNatKPib7KAvlcGHQCvbqUFTy3IcvFeWGxITlrhIQ1dNfIe1tR2\n",
       "P1oKj+oV6GSD0t46STCTZB2B5rP6Qv3iyS7gzvs03y+B/hE0PxZAQyRYMix4k0yuJq8ATJ20oNkc\n",
       "KliEJStqvXOjeCGjtHbN86IR9EEGTW1w/hbcvh/v3wHLjsbDUKePDkNwRLS3vF3k/XcoufdulNUJ\n",
       "y7KeTd4YyTi5aO8FI+jydpQEHY02pQjNAb4c+I04QnjBP653ZIO11erJuWSRjrjJ+yuODE6gpfvh\n",
       "PKiI+DJwhIDm+bABNIeZjAWwGituYWWGOW0ELVXtei6Wz8FCLWQVq1rGwvs74frVuh6DrsCrsBk1\n",
       "A2lYnUgkRC7KZluNVRZO36aDVLxNJZs3YATtEU07vTyjQ9MfKdJxm7w//V4HXD+WawpoAXe/Eh6A\n",
       "Tgb8ZKbhSdEI+lc0qCOwtws1W4KX2GkW0P7YZ+n9Eej7um/Nd2Tq0zqOqMcuaCwFeH/qzsg54Prx\n",
       "wrilr6fZATTXF3ngMUQhAkLGWk9XM9ez7LtwaIXwTUQC3ZFCp/IhWCleugzwRc6TPoWqkxSq72ED\n",
       "o2zlpqwD0AV4f5o44/q1gkN2OzH4B9p7Ad7DFTzqfcwKevmDtVlmOgQXfR9jJdANaaYaGpL4kIYj\n",
       "e1ogiXK3o/AIemya3/USNKpMfUXYJugivD+NCXbG9aM1fJPKnHjRni7GnHB4vGIfk+Wtpfq4tYrN\n",
       "okznBLSm9VdIbM+VAF2a96dSXs64fjRKI3dFF53EPbxTA0zdY8CpQyy1OtFi+xRmQ3NSd0Wu/0xx\n",
       "nb8iCZl/e7w/TRxy/WirD9wVaGlztkVMhZzUKn+tYIknjBZ+gU3enyYOuX6FtnKLAr5Z+JJN3p8m\n",
       "Trl+6BRdBA1VhS/Z5P0LZtIOuH53yX5YSt3TpGu2eH+qOOX6oQ3cBP1spKj3Ls370/lGh1w/uPsH\n",
       "vEC4KOhSvL/K86sN6eCU6/e6+6faYu7bBu+PSXwT4b8jBY65fvJXHfc+v5hhPw3VoqrG+1tJfC6l\n",
       "2djl+l3+/MLyoY1O7PD+1hDE62zscv1/gbugQ2Fb9bQxj1N5fwqJf1hnY5Pr52pcBs1WFh6PQvOj\n",
       "8fgUEj9rtoGSXL/rH88V++uUW7y/XLO6CNoXm2gmVIjbBz1enz43TzRoJ58+j9dH7r7IxGIObpLr\n",
       "0fzV/wFQD40kxJc4GQAAAABJRU5ErkJggg==\n",
       "\" style=\"display:inline;vertical-align:middle;\" /></a><br>"
      ],
      "text/plain": [
       "condition_append_reduction: forall_{m in Natural} [forall_{a, Q_{1}, ..Q_{_a}.., Q_{m}, R} ({a if Q_{1} and ..Q_{_a}.. and Q_{m} ,  R. \\\\  = {a if Q_{1} ,  ..Q_{_a}.. ,  Q_{m} ,  R.)]"
      ]
     },
     "execution_count": 6,
     "metadata": {},
     "output_type": "execute_result"
    }
   ],
   "source": [
    "condition_append_reduction = \\\n",
    "    Forall(m, Forall((a, Q_1_to_m, R), \n",
    "                     Equals(Conditional(a, (And(Q_1_to_m), R)), \n",
    "                            Conditional(a, (Q_1_to_m, R))).with_wrap_before_operator()),\n",
    "           domain=Natural)"
   ]
  },
  {
   "cell_type": "code",
   "execution_count": 7,
   "metadata": {},
   "outputs": [
    {
     "data": {
      "text/html": [
       "<strong id=\"condition_prepend_reduction\"><a class=\"ProveItLink\" href=\"proofs/condition_prepend_reduction/thm_proof.ipynb\">condition_prepend_reduction</a> (conjecture without proof):<br></strong> <a class=\"ProveItLink\" href=\"../__pv_it/theorems/435201cbfbf26e288b7a713c3f8ea7d4986ab4f20/theorem_expr.ipynb\"><img src=\"data:image/png;base64,iVBORw0KGgoAAAANSUhEUgAAAdoAAAAyBAMAAAAJqgfHAAAAMFBMVEX///8QEBCIiIhmZma6urrM\n",
       "zMxUVFQiIiJERETc3Nzu7u6qqqp2dnaYmJgyMjIAAAAcRTyBAAAAAXRSTlMAQObYZgAAB35JREFU\n",
       "aN7NWmtsFFUUPvuY3e5juo0GhNbHsCTID5MWH2AiCGhCTIyy5QdCQtIJb01IV3lqEJb6g0UxTDVG\n",
       "wGgHSEjAIFtJEzExbSxGo8GuiBofSA1oAiGwbNu1LWi9987M7szunTu7Tb3tgc7e3T25c797Hvec\n",
       "bweAKfeN3IYxkDMwjhKUtdeekZsOmnUHDo7B/cJdlrfiPL5wn9Vejh1od1CcNCa3m2Hd62ucjSv2\n",
       "6oNGHmhDNdabZ0xvWtMAi2Zq48Nzu9PG5z+OrE2+WQGg5tz6ZNru27080R5aYPXruOlNUxcItYuJ\n",
       "QngzwPr8F4NoJ+SCnkKfOmAMIgkITHZaABe0r4E9WiSehObg1/G6jAgXsgC+gYLSJfrU1Q3GrkkA\n",
       "zTEH5+KBNjTMRuvTVlxdi8eGl7uHAPxDeR1ht0qde9kr+qAeGX+nYreE7fzQ+hsYaN+JGWh7cNiF\n",
       "DYBVyBydicKOPCFR514d1Qe70K4O2i6hU+GG9qJCQft29zRsrcA+WZh1J4Yb+Jt4db8RhzKETHH4\n",
       "EcSpR2mvXx/lANplpw3ngXZb0XsfOhC8U+GG5r8y+Mgqw1liUiNUmzbM6ENhKOjm/Qb9ox3kqXBK\n",
       "8/TcueZHGCl7mBdaob/og3aE4lAaHtU81kDrJzgjRtzWq/C7CsJDuknj8AHVZhDQzlL3MIhXGeVU\n",
       "lhdaT01RYnkZXear8JIVbYRsf6dciMMIys9eDa0ogY+WcM8BrMmHOavGvc4Lras4nBaidU+B4ECR\n",
       "bcmm7FQLcdgm59H6kZlpUYky8lIjzAM5xiLqFU5om4pLHF8CgrchlLGi9WG07qzh/v8gOzfk0Z5C\n",
       "f1coZxvSqFb0m4T6AL7/IdpAXURbmhPa+uJTEOXk4C2Uq05b0ArDwWisyVirG1m+RwoaaK/oiItr\n",
       "C0VDjG4Sw2lOPX8PTGU4GAe0u6AULbTATzIpm6oS+D+WqAhnUegF/yU4kOU7pfd0tCQzI2/WvjzZ\n",
       "a1yW6d4MOMGHsoHTh+NAwl+bxCRVcQ0tyWkXGGjZCs4yhYb2aHT5Sly8Cs25Y82DxM2Eo59vUwSA\n",
       "rQiV50YuDeEWSUfrw6puXF9swbBl47Ka7BL6e3xkA8BXUfBJXi0nbim+Z0ZDS86xqwy0bAXnXrqP\n",
       "hpYua+BnZCNzjaih9ZJxaVImxb5gdtiYp4taLIsDGtr9uI5JMNCyFZyP22wJ2hrb9sGL7hO25KF4\n",
       "RTdrA//TMftVNEK1iksSBlq2gnNPcKtknzN2uvNH0FIPmxu6OTmpkpstAvdZhoc1gvj18ePvsrIU\n",
       "W8G5zx4o+ciWu3iuDl3S/wt/kdNz8mAyuZ2Zk5kKjuIeKjU3Z15KJwcIWlR67WGitSq453aTNOLd\n",
       "t2o9xcueys1usUbpMEwEuVdH+yTqm8zxvPEMTJPNaC0Kgcsg1JLRd/km2eK4NeC3MIyeiYH2Lh2t\n",
       "H9z5UPmwex58ElY9qhmtWQFaUfkym4zQdR2lB0C1kSWP+jITAu2LOtpw2p83zBsHVfhMaghbPNmk\n",
       "APCqZlUkqIe5g9KDSeCSJjDaQO9STGgvmY59FklHx1tWtEQBjsz4E0ctPivrSU4fgCOUuD0ZCz4I\n",
       "5XsyNyJ9q1En70EFmLgw7VK0IrEjfGKFtU7GCsHNwrBGNaA6jWSp7HRcgL9QNOvi6CxrFxAeYhVa\n",
       "13hnKTiF4uzg/RBRg6Sd6ICubitarOBpEHA44g4b7iYoemEOwIraolm/BY+1/HEPsEw7RkQ6mzzH\n",
       "MtlAG8EOuRIWgrAtmWxBaN/3W9FiBVfKjc2KY1IklV9VF1w0OhCT7C0ulcR+xhpGRaTThEmeY+kz\n",
       "0IoqgTVXAFmzrXeJFS1WOKlU/YJefPKJVCtZUCQFsyhob2FmRnzsQv4UCpWNFsok0qmUgcQgz/GM\n",
       "t839bSADmzrgCzw8D/BbaX/rUpqegf1qcJL062XUKajQpMI6QUFoA6+jt8YFBbcvvjw0s0CIYhai\n",
       "bLTlEOm2lIE9eV7oCvTOSoYH0lCFin/vjgXgK0XrXfnxPGhMwZG9a0FBg/DO52FZFNtWqINGRZiK\n",
       "L3XwZU4RUFu6RkhYfagctGUS6XaUAYM8N3qTIu5iZrKFyV3gVmhpIK0NDB4sVJjTGMTd5/Mf7nBC\n",
       "WyGRblf0t7NCW9u6ypiaEPaVtj9UbYBlSV8KTue/N0ZBOVRovOYXZ+3rWLRfsUZDpFMdlU2eG2FR\n",
       "GVqRrGKTPjAkTRmZ5KJqP/1oiHRqo8Umz1HaSfBiWO2ZgNEQ6VRxIs+hTeKE1sWIp1EQ6fTj1oE8\n",
       "58eeezK0uP1LC6fKiXS6/ziQ57AbOKH19jNzcqVEOt10DuQ5cPvVCzayT6BKiHTMmVsZdE3HiTx3\n",
       "c/tFk5WUKyXS/bhQtTLoWMeRPNdzBw+0rq6yK8eC2BDpn5ZWSSYdW/Kc45MIIft+vmIivXTjzDq2\n",
       "5Ln+RA6XJ4guldffWoROpAdL2RKzjh15HqrliLbVvhWrkEgXSxXLIdu5Ph3G+DGHD5G+Cjii1SnZ\n",
       "cRMxUSbasXli1yeNK9qyn9gdo6exHx5PsEGdF+0ZufkfGopx8e8OQrEAAAAASUVORK5CYII=\n",
       "\" style=\"display:inline;vertical-align:middle;\" /></a><br>"
      ],
      "text/plain": [
       "condition_prepend_reduction: forall_{n in Natural} [forall_{a, Q, R_{1}, ..R_{_a}.., R_{n}} ({a if Q ,  R_{1} and ..R_{_a}.. and R_{n}. \\\\  = {a if Q ,  R_{1} ,  ..R_{_a}.. ,  R_{n}.)]"
      ]
     },
     "execution_count": 7,
     "metadata": {},
     "output_type": "execute_result"
    }
   ],
   "source": [
    "condition_prepend_reduction = \\\n",
    "    Forall(n, Forall((a, Q, R_1_to_n), \n",
    "                     Equals(Conditional(a, (Q, And(R_1_to_n))), \n",
    "                            Conditional(a, (Q, R_1_to_n))).with_wrap_before_operator()),\n",
    "           domain=Natural)"
   ]
  },
  {
   "cell_type": "code",
   "execution_count": 8,
   "metadata": {},
   "outputs": [
    {
     "data": {
      "text/html": [
       "<strong id=\"condition_with_true_on_left_reduction\"><a class=\"ProveItLink\" href=\"proofs/condition_with_true_on_left_reduction/thm_proof.ipynb\">condition_with_true_on_left_reduction</a> (conjecture without proof):<br></strong> <a class=\"ProveItLink\" href=\"../__pv_it/theorems/526b77388fdbf730f2b12e3062b6a41222823ec70/theorem_expr.ipynb\"><img src=\"data:image/png;base64,iVBORw0KGgoAAAANSUhEUgAAAdYAAAAyBAMAAAATludJAAAAMFBMVEX///8QEBCIiIhmZma6urrM\n",
       "zMxUVFQiIiJERETc3Nzu7u6qqqp2dnaYmJgyMjIAAAAcRTyBAAAAAXRSTlMAQObYZgAABt1JREFU\n",
       "aN7Nmn9sE2UYx5+2u3bX9rqZyIxz08uA4X9UMWLM5orGH/+gN4hjislqBWIWAiUqJIqhf8mmGEtM\n",
       "5uAPV5nRuIStbn8YDYYaY0wmySqThGjMZkQT/IMMhgsMsL7vez96P95778bW2x7o7e7p07f3ufe9\n",
       "533ebw/Awe4r3YTFWDQBy2rhpPx3onTZMfaeY8cX9V1njIeTRa9hn5X/fHHsS8fQVYv7Jn/ScDhc\n",
       "8LxjhWllp73SrKaLOaXb5xsBqlIZtLfxALb92rBbfaZ1QcOUHX/EI9bwncbjH3X7HEoE7Z9elQ9G\n",
       "9UESBDO6a2LTdtYm3myfJLxhrY7bs2J7RN3RsQ6jQRduKB/H4vS2/7SJN1uk1hvW0zk26ysU1j/w\n",
       "Z/aWjzvfpDbNHc7R4y120BvW18CelX+eyhq9RaYIbYTCjiZq08HHRXq89YJnvWAVrlNY+ZYH6/F+\n",
       "/xxsvWODhXUgjbdt2rQcng5R2x6GNDXeaqG4F6whc8rYg16bsrEZcvA3wC5rv06Q7vpAgk6ln/PR\n",
       "PK3tn9A/Q7z9FZ/3grXLdLUjqLVwIwTkS/AOlfUQOesSbN2oXC/gp2ltp+FjQzxjMrjiBesD5nSC\n",
       "7pzAPIREBmsJp5rIHMDT8vFZgJ20zhIhKBni7e2SF6x1puMq1JovAyMSg3Uf6cx5jRVl4Q7a7ZED\n",
       "LmmIt7f12cqzcrfMnlcBRgpwGhisL5OzE1XWCEosMUqSHUOvi/r4yXNN8aad1PMYKFae1W9OwzgP\n",
       "j+RhTyRrz9qVO7GWmwWVFXNGKNXERYVXi/+lEepyzdTz8CUrz1pdS2GtFoX9UXLQQ/7rWEdwEvKL\n",
       "xehUQWPtVMax/CbehP/DQyYjj2Mtnj+RhqvQAlo7+vNIy6zE/TuT1SnE1nwZCms4tbZvDd7vKHX3\n",
       "ld5X3thM7jpSIb24e10vSCrrDrzB1UQoqW7wIiGYIJi6+KDI1cJb8r2cNK2hZ2RWMkn9w2R1CrG1\n",
       "kTgAu0Y02TdKSSQJWZWVzFqcJbKKbCVdvE/yZ/gZ6jQr/Cuz9uNKJsNkdQqxn15Fs+c79gcK6orh\n",
       "GbT9agErDBQ/gHpWyFDXx9wVmTWWw6UJk9UpxL4QtXxoir0CVK5NoIQ64sNDKbffQ+KfQmmM352j\n",
       "tjsrswrjQ0MfsXOTU4itTVlGVIypSwhqP+xb2JV1jJ9T8vC1np6DDnnYIcRhDjdOi57rTdiuKaxo\n",
       "+u11YDWG+Fu+p40UinsiByvD7lVYn0CrJuM721oS/jo9qyGEvwBcvbU5mrttpbDepbCGwK8bV+FT\n",
       "G4qRzDg8qmc1hBxFA/Nha3M0994VgirXzIg1WtSvhc9/PQSRswEo6FkNIW+j18/W5mjuFcfKT6Nl\n",
       "hNC6ZbW/WYIqPPtHtr8gGlhJCAw2/4VvS1z3rbferTQ3ewx7KIsfUOvhXlSGCZuKvm5/EmJkaSGN\n",
       "nzOwkpDwGxxeOMVw/fUYQLdpMlHcxtzEEIE8lcXV3ARjqDI+vg5qEoECDMqs0WjcwIpDAnEOl9A1\n",
       "+BQb4CVTHlLcpjlHYk2++sSmyeJLroSX19GYtQZXKym0G8rDtp6eHjEi8cW0gRWH+PLk9wof2hVq\n",
       "5aWHvsxX3EYchuBlK4u7VMI1v4MSTmxWZRVyBOl+GOAgKPcrPCkaWHHISLb6V/QnmDyZP5qwsCru\n",
       "yW8nt/9QrhHdsmJTZHG3Srjqd1LCSdff1K9f+RnUs+ejEMWjTkiAULCsX33Zrs3QnwuvEn+7IC8p\n",
       "+3P8u+pGcY9O+/KnyrV/cQGsilTsUgnX/I5KuK72V5ZISbTQ7xsHeA8vktFJJy2sVanRVmjPw+CR\n",
       "XfinFPRV7XnubmjP4o3qDkqfw0PlmzjukrUsi7tVwlW/sxKOB+oNqi7hR/crS5fARXYHX5THcN7i\n",
       "DsEYpDV3aNqB1SqLu1XCVb+zEo4vyPXb0WCIUDSAxs2W2bx8YHR/BmsgpbkDM6bvvERM7m26LO5W\n",
       "CVf9zko4TiYzt8NKVl3VrxuXYCa3LpqhZNrI4m6VcNXvrIRrWlCFNdMb9m/ZyOIulXDN70IJRyNO\n",
       "rDyrRQvXC0Z0WdylEq75XSjh3mjh0Ea9X+UcT5fFXSrhmt+FEg5wGDxgfS7BzMMUWdylEq75XSjh\n",
       "AJ78dhWKM1kpsridEk4EcE0JL/tdKOHg9+Q3SVYitpHFbZRwIoBrSrjO76yEKz9xVPwZggb3NWJ5\n",
       "NnRWwg1+JyXco2cILM+G6MxWFl9qJVx9YKbSrLG4q/WrwZZaCY/Ue8PK23/cVhZfaiXcq2e5WEPR\n",
       "K1lcfa6o4qyB5HJriELGNetin6lNLTfrAp6pXeyz0oHE8qKGFcFzonT5f3GSUOeK9ikPAAAAAElF\n",
       "TkSuQmCC\n",
       "\" style=\"display:inline;vertical-align:middle;\" /></a><br>"
      ],
      "text/plain": [
       "condition_with_true_on_left_reduction: forall_{m in Natural} [forall_{a, Q_{1}, ..Q_{_a}.., Q_{m}} ({a if TRUE ,  Q_{1} and ..Q_{_a}.. and Q_{m}. \\\\  = {a if Q_{1} and ..Q_{_a}.. and Q_{m}.)]"
      ]
     },
     "execution_count": 8,
     "metadata": {},
     "output_type": "execute_result"
    }
   ],
   "source": [
    "condition_with_true_on_left_reduction = \\\n",
    "    Forall(m, Forall((a, Q_1_to_m), \n",
    "                     Equals(Conditional(a, (TRUE, And(Q_1_to_m))), \n",
    "                            Conditional(a, (Q_1_to_m))).with_wrap_before_operator()),\n",
    "           domain=Natural)"
   ]
  },
  {
   "cell_type": "code",
   "execution_count": 9,
   "metadata": {},
   "outputs": [
    {
     "data": {
      "text/html": [
       "<strong id=\"condition_with_true_on_right_reduction\"><a class=\"ProveItLink\" href=\"proofs/condition_with_true_on_right_reduction/thm_proof.ipynb\">condition_with_true_on_right_reduction</a> (conjecture without proof):<br></strong> <a class=\"ProveItLink\" href=\"../__pv_it/theorems/8c5967a832fd7844bd2fb836bad34ba9b90a5e260/theorem_expr.ipynb\"><img src=\"data:image/png;base64,iVBORw0KGgoAAAANSUhEUgAAAdYAAAAyBAMAAAATludJAAAAMFBMVEX///8QEBCIiIhmZma6urrM\n",
       "zMxUVFQiIiJERETc3Nzu7u6qqqp2dnaYmJgyMjIAAAAcRTyBAAAAAXRSTlMAQObYZgAABmtJREFU\n",
       "aN7Nmn9oG2UYx58kvSZ3yaUVXMXa6tFtnf81OnEirc0Qf/wzTTfsqhMa4zakjK1D3UAny18u1YkZ\n",
       "Qu32T+MqigWXuP4hyqQVEaEOGlcHQ5FGnIL+MbJ1lq3bjO97915y7917d+nSu/ahvR9PvnmTz3vv\n",
       "Pe/zPjkAG7uvdBNqsVAUVtSEuLKfKV221d5z/ERNn3WWPp3Nuw37jLL77PgXttI1tX2SN06dnppy\n",
       "/cKKBXLQ4zSrrjPnNMd8K0BdIqmMtLVnu5Y0Mo36TQexHTBqj7rEKtxJn/+gOeZQIOj5+Krij0F9\n",
       "UtMNJs2V/To9sdPMN30UdYc1EDFnxfYIGdponAktFXc4wm5O9ev1lqzBRndYJzPWrC8ru9+xbF/F\n",
       "3fcGuznVr9dbssIhd1hfBXNW/jmVNXRLnhXS5Zd2trGbI36D3pp1Mu0Gq3idwcp3PtiMj0cWYNsd\n",
       "G/HR6CDedpdnYqHgZ9/9xK/X27D6I26w+vXxYy/635wOF+WTvwB2K/O8hLfvx6CP5B+5UI6ZlxB/\n",
       "WV8dq7joBmu/ruuDqDWhFXxKF7ytsh6Wv3UJtm0iXQR8gdl1xK/qq2QVrrjB+gB9yh1Bd45vEfwS\n",
       "zVrCoSa4APCUojsHsIvVnOov66tjhUtusDbpzutQa54kZGM06375oi2WWVG07WU1p/rL+ipZO9LO\n",
       "s3K39J5XALJTMAk060vyF5JU1iCKJeE0Y6JU/ap+9nxbpG2XPeto3nlWrz4M4ziczcHeYJpi7c+c\n",
       "XM/Ng8qKeYKMbKLsV/U/t0JTpt2e1RN3njXQyGANSOKBkHySkv9wn0j50NxUmbWPjFcQ/kObbIEc\n",
       "VPxEz58chKvQqUi0rFldZAsMKqyy+zdLVjuJqXmSDFYhsX54HT7uLQ0Ml96T3S/s2TAEMZV1J97I\n",
       "WQPO5P1xcqDxE329xDXCm0hC0qktaryO6+aqosL6I979Y8lqJzG1bATAOkcsW31MTKus8kTFGTVa\n",
       "v6z3xLxJvoj66GublOZfhXUEZzJJS1Y7ifn0Kuk935ovEp5G2y+XsKhA+lF0ZcUkGvw2q2LuisIa\n",
       "zuB8xJLVTmKe+RveNGcm9ZVQ339wOFFt07L+SRSu+D0ZECSbleW8wipOj49/aB2b7CSmNmfI4sJm\n",
       "V4Dbv7TOpPSinXqBxOFrqdQhmzhsIzG1DuMkOeF6vQnbNcKK5uIhG1Za4u38LsOaTI3umQysDruX\n",
       "sD6Olkr0K9s7o94mLSsl4S8C18wojzDc3auF9S7C6gevZlwJZzbmg8lpeFTLSkmOoYH5sLE5lnvf\n",
       "KkFVEmjEGsprF8YXvhqH4DlfJYpjVkryFvr/ydgcy73qWPkCWjuIXVvXettjUIdn/+CO5yWKVZbA\n",
       "WPuf+LbEeV+H8W5lua3HsItl8YNqPjyEci9xc94z4I1DWF5PxKbPU6yyRHidw6uoMM6/HgMY0E0m\n",
       "xE3HprTF57tZFldjE0ygzPjEBmiI+qZgTGENhSIUK5b4IhxOoRvwV2yBF3VxiLh1c07MavLVBrbl\n",
       "LYuz19GYtQFnHQl06M/B9lQqJQVjfH6QYsUST07+vcKDDsVGZb2hTfOJm8aJWny+s2Vx2uZVVjEj\n",
       "I90PoxzUK9cVnpAoVizJpgO/oF19/PPcsaiBlbhnv5nd8X0lR6yWFdvylsXpS39Tu37li+jKXghB\n",
       "CI86MQrilGH96kn3b4GRjLBG+vWiso4cyfDvqBviPl3w5M5Ucv/8EliXtyzOzP1JISgOf8PwNMC7\n",
       "eMWMvnTcwFqXON0FPTkYO7ob0jJrT467G3rSeKO662OfwkOVmzhSJevyl8Xp4s0NZl3Ci+5Xq7oE\n",
       "zrh7+bwyhnMGtx8mYLDs9hdsWJ0ri9Nr9eu3U4ORC0WjaNxsnc8pJ7T7E1gHibLbV9R95iXZlKvt\n",
       "bFmcDibF22GVV0+B1/RLKcqtUS9ajCtny+KMWpDDNdMb5i85XBana6aS86yGWrjGHC6LM9bRDrN2\n",
       "M+9XJcY7Wxan7Ai4wPps1DIOO1gWp8yV3678EUtWB8riYKyEg9eV3yStArEzZXEwVsLJTxyOP0PQ\n",
       "Un2OWJkNayqLs0q3rjxDYHg2RGMOlcUZ9ge4whqOVLV+paymsjgra2l2h5U3f7szZXGGufUsl9VQ\n",
       "dKssThaLzrP64itdQxSTVbPW+kxtYqVZl/BMba3PSvuiK4sqkILnTOny/0zrTUWDPDqBAAAAAElF\n",
       "TkSuQmCC\n",
       "\" style=\"display:inline;vertical-align:middle;\" /></a><br>"
      ],
      "text/plain": [
       "condition_with_true_on_right_reduction: forall_{m in Natural} [forall_{a, Q_{1}, ..Q_{_a}.., Q_{m}} ({a if Q_{1} and ..Q_{_a}.. and Q_{m} ,  TRUE. \\\\  = {a if Q_{1} and ..Q_{_a}.. and Q_{m}.)]"
      ]
     },
     "execution_count": 9,
     "metadata": {},
     "output_type": "execute_result"
    }
   ],
   "source": [
    "condition_with_true_on_right_reduction = \\\n",
    "    Forall(m, Forall((a, Q_1_to_m), \n",
    "                          Equals(Conditional(a, (And(Q_1_to_m), TRUE)), \n",
    "                                 Conditional(a, (Q_1_to_m))).with_wrap_before_operator()),\n",
    "           domain=Natural)"
   ]
  },
  {
   "cell_type": "code",
   "execution_count": 10,
   "metadata": {},
   "outputs": [
    {
     "name": "stdout",
     "output_type": "stream",
     "text": [
      "These theorems may now be imported from the theory package: proveit.core_expr_types.conditionals\n"
     ]
    }
   ],
   "source": [
    "%end theorems"
   ]
  }
 ],
 "metadata": {
  "kernelspec": {
   "display_name": "Python 3",
   "language": "python",
   "name": "python3"
  }
 },
 "nbformat": 4,
 "nbformat_minor": 0
}