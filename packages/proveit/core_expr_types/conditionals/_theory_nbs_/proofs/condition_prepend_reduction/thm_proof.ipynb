{
 "cells": [
  {
   "cell_type": "markdown",
   "metadata": {},
   "source": [
    "Proof of <a class=\"ProveItLink\" href=\"../../../../../_theory_nbs_/theory.ipynb\">proveit</a>.<a class=\"ProveItLink\" href=\"../../../../_theory_nbs_/theory.ipynb\">core_expr_types</a>.<a class=\"ProveItLink\" href=\"../../theory.ipynb\">conditionals</a>.<a class=\"ProveItLink\" href=\"../../theorems.ipynb#condition_prepend_reduction\">condition_prepend_reduction</a> theorem\n",
    "========"
   ]
  },
  {
   "cell_type": "code",
   "execution_count": 1,
   "metadata": {},
   "outputs": [],
   "source": [
    "import proveit\n",
    "theory = proveit.Theory() # the theorem's theory"
   ]
  },
  {
   "cell_type": "code",
   "execution_count": 2,
   "metadata": {},
   "outputs": [
    {
     "data": {
      "text/html": [
       "Under these <a href=\"presumptions.txt\">presumptions</a>, we begin our proof of<br><strong id=\"condition_prepend_reduction\">condition_prepend_reduction:</strong> <a class=\"ProveItLink\" href=\"../../../__pv_it/theorems/1157e1b87629f0ca64c5589c2fdc5aa06eff51910/expr.ipynb\"><img src=\"data:image/png;base64,iVBORw0KGgoAAAANSUhEUgAAAdoAAAAyBAMAAAAJqgfHAAAAMFBMVEX///8QEBCIiIhmZma6urrM\n",
       "zMxUVFQiIiJERETc3Nzu7u6qqqp2dnaYmJgyMjIAAAAcRTyBAAAAAXRSTlMAQObYZgAAB35JREFU\n",
       "aN7NWmtsFFUUPvuY3e5juo0GhNbHsCTID5MWH2AiCGhCTIyy5QdCQtIJb01IV3lqEJb6g0UxTDVG\n",
       "wGgHSEjAIFtJEzExbSxGo8GuiBofSA1oAiGwbNu1LWi9987M7szunTu7Tb3tgc7e3T25c797Hvec\n",
       "bweAKfeN3IYxkDMwjhKUtdeekZsOmnUHDo7B/cJdlrfiPL5wn9Vejh1od1CcNCa3m2Hd62ucjSv2\n",
       "6oNGHmhDNdabZ0xvWtMAi2Zq48Nzu9PG5z+OrE2+WQGg5tz6ZNru27080R5aYPXruOlNUxcItYuJ\n",
       "QngzwPr8F4NoJ+SCnkKfOmAMIgkITHZaABe0r4E9WiSehObg1/G6jAgXsgC+gYLSJfrU1Q3GrkkA\n",
       "zTEH5+KBNjTMRuvTVlxdi8eGl7uHAPxDeR1ht0qde9kr+qAeGX+nYreE7fzQ+hsYaN+JGWh7cNiF\n",
       "DYBVyBydicKOPCFR514d1Qe70K4O2i6hU+GG9qJCQft29zRsrcA+WZh1J4Yb+Jt4db8RhzKETHH4\n",
       "EcSpR2mvXx/lANplpw3ngXZb0XsfOhC8U+GG5r8y+Mgqw1liUiNUmzbM6ENhKOjm/Qb9ox3kqXBK\n",
       "8/TcueZHGCl7mBdaob/og3aE4lAaHtU81kDrJzgjRtzWq/C7CsJDuknj8AHVZhDQzlL3MIhXGeVU\n",
       "lhdaT01RYnkZXear8JIVbYRsf6dciMMIys9eDa0ogY+WcM8BrMmHOavGvc4Lras4nBaidU+B4ECR\n",
       "bcmm7FQLcdgm59H6kZlpUYky8lIjzAM5xiLqFU5om4pLHF8CgrchlLGi9WG07qzh/v8gOzfk0Z5C\n",
       "f1coZxvSqFb0m4T6AL7/IdpAXURbmhPa+uJTEOXk4C2Uq05b0ArDwWisyVirG1m+RwoaaK/oiItr\n",
       "C0VDjG4Sw2lOPX8PTGU4GAe0u6AULbTATzIpm6oS+D+WqAhnUegF/yU4kOU7pfd0tCQzI2/WvjzZ\n",
       "a1yW6d4MOMGHsoHTh+NAwl+bxCRVcQ0tyWkXGGjZCs4yhYb2aHT5Sly8Cs25Y82DxM2Eo59vUwSA\n",
       "rQiV50YuDeEWSUfrw6puXF9swbBl47Ka7BL6e3xkA8BXUfBJXi0nbim+Z0ZDS86xqwy0bAXnXrqP\n",
       "hpYua+BnZCNzjaih9ZJxaVImxb5gdtiYp4taLIsDGtr9uI5JMNCyFZyP22wJ2hrb9sGL7hO25KF4\n",
       "RTdrA//TMftVNEK1iksSBlq2gnNPcKtknzN2uvNH0FIPmxu6OTmpkpstAvdZhoc1gvj18ePvsrIU\n",
       "W8G5zx4o+ciWu3iuDl3S/wt/kdNz8mAyuZ2Zk5kKjuIeKjU3Z15KJwcIWlR67WGitSq453aTNOLd\n",
       "t2o9xcueys1usUbpMEwEuVdH+yTqm8zxvPEMTJPNaC0Kgcsg1JLRd/km2eK4NeC3MIyeiYH2Lh2t\n",
       "H9z5UPmwex58ElY9qhmtWQFaUfkym4zQdR2lB0C1kSWP+jITAu2LOtpw2p83zBsHVfhMaghbPNmk\n",
       "APCqZlUkqIe5g9KDSeCSJjDaQO9STGgvmY59FklHx1tWtEQBjsz4E0ctPivrSU4fgCOUuD0ZCz4I\n",
       "5XsyNyJ9q1En70EFmLgw7VK0IrEjfGKFtU7GCsHNwrBGNaA6jWSp7HRcgL9QNOvi6CxrFxAeYhVa\n",
       "13hnKTiF4uzg/RBRg6Sd6ICubitarOBpEHA44g4b7iYoemEOwIraolm/BY+1/HEPsEw7RkQ6mzzH\n",
       "MtlAG8EOuRIWgrAtmWxBaN/3W9FiBVfKjc2KY1IklV9VF1w0OhCT7C0ulcR+xhpGRaTThEmeY+kz\n",
       "0IoqgTVXAFmzrXeJFS1WOKlU/YJefPKJVCtZUCQFsyhob2FmRnzsQv4UCpWNFsok0qmUgcQgz/GM\n",
       "t839bSADmzrgCzw8D/BbaX/rUpqegf1qcJL062XUKajQpMI6QUFoA6+jt8YFBbcvvjw0s0CIYhai\n",
       "bLTlEOm2lIE9eV7oCvTOSoYH0lCFin/vjgXgK0XrXfnxPGhMwZG9a0FBg/DO52FZFNtWqINGRZiK\n",
       "L3XwZU4RUFu6RkhYfagctGUS6XaUAYM8N3qTIu5iZrKFyV3gVmhpIK0NDB4sVJjTGMTd5/Mf7nBC\n",
       "WyGRblf0t7NCW9u6ypiaEPaVtj9UbYBlSV8KTue/N0ZBOVRovOYXZ+3rWLRfsUZDpFMdlU2eG2FR\n",
       "GVqRrGKTPjAkTRmZ5KJqP/1oiHRqo8Umz1HaSfBiWO2ZgNEQ6VRxIs+hTeKE1sWIp1EQ6fTj1oE8\n",
       "58eeezK0uP1LC6fKiXS6/ziQ57AbOKH19jNzcqVEOt10DuQ5cPvVCzayT6BKiHTMmVsZdE3HiTx3\n",
       "c/tFk5WUKyXS/bhQtTLoWMeRPNdzBw+0rq6yK8eC2BDpn5ZWSSYdW/Kc45MIIft+vmIivXTjzDq2\n",
       "5Ln+RA6XJ4guldffWoROpAdL2RKzjh15HqrliLbVvhWrkEgXSxXLIdu5Ph3G+DGHD5G+Cjii1SnZ\n",
       "cRMxUSbasXli1yeNK9qyn9gdo6exHx5PsEGdF+0ZufkfGopx8e8OQrEAAAAASUVORK5CYII=\n",
       "\" style=\"display:inline;vertical-align:middle;\" /></a><br>(see <a class=\"ProveItLink\" href=\"../../../__pv_it/theorems/435201cbfbf26e288b7a713c3f8ea7d4986ab4f20/dependencies.ipynb\">dependencies</a>)<br>"
      ],
      "text/plain": [
       "condition_prepend_reduction: forall_{n in Natural} [forall_{a, Q, R_{1}, ..R_{_a}.., R_{n}} ({a if Q ,  R_{1} and ..R_{_a}.. and R_{n}. \\\\  = {a if Q ,  R_{1} ,  ..R_{_a}.. ,  R_{n}.)]"
      ]
     },
     "execution_count": 2,
     "metadata": {},
     "output_type": "execute_result"
    }
   ],
   "source": [
    "%proving condition_prepend_reduction"
   ]
  },
  {
   "cell_type": "code",
   "execution_count": null,
   "metadata": {},
   "outputs": [],
   "source": []
  }
 ],
 "metadata": {
  "kernelspec": {
   "display_name": "Python 3",
   "language": "python",
   "name": "python3"
  }
 },
 "nbformat": 4,
 "nbformat_minor": 0
}