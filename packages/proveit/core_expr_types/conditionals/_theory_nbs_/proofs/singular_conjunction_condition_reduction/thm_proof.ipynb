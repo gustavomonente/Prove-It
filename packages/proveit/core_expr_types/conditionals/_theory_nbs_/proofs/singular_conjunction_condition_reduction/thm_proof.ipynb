{
 "cells": [
  {
   "cell_type": "markdown",
   "metadata": {},
   "source": [
    "Proof of <a class=\"ProveItLink\" href=\"../../../../../_theory_nbs_/theory.ipynb\">proveit</a>.<a class=\"ProveItLink\" href=\"../../../../_theory_nbs_/theory.ipynb\">core_expr_types</a>.<a class=\"ProveItLink\" href=\"../../theory.ipynb\">conditionals</a>.<a class=\"ProveItLink\" href=\"../../theorems.ipynb#singular_conjunction_condition_reduction\">singular_conjunction_condition_reduction</a> theorem\n",
    "========"
   ]
  },
  {
   "cell_type": "code",
   "execution_count": 1,
   "metadata": {},
   "outputs": [],
   "source": [
    "import proveit\n",
    "theory = proveit.Theory() # the theorem's theory"
   ]
  },
  {
   "cell_type": "code",
   "execution_count": 2,
   "metadata": {},
   "outputs": [
    {
     "data": {
      "text/html": [
       "Under these <a href=\"presumptions.txt\">presumptions</a>, we begin our proof of<br><strong id=\"singular_conjunction_condition_reduction\">singular_conjunction_condition_reduction:</strong> <a class=\"ProveItLink\" href=\"../../../__pv_it/theorems/1dcf03d6460e6e236ac49e1b1a849f01cafbcbb30/expr.ipynb\"><img src=\"data:image/png;base64,iVBORw0KGgoAAAANSUhEUgAAAN0AAAAyBAMAAAAq+MN+AAAAMFBMVEX///8QEBCIiIhmZma6urrM\n",
       "zMxUVFQiIiJERETc3Nzu7u6qqqp2dnaYmJgyMjIAAAAcRTyBAAAAAXRSTlMAQObYZgAABTZJREFU\n",
       "WMO1mF1sG0UQgMc/5/OdfXYRBEFpJRMo8ERckBAPCUlBQrygXoUIPy82gVYIoSaFtqISUAskkkig\n",
       "OkKUvECdFgVRidolD1WfHJpKlUrBQX3gT9SpWiqBULBKE9o0wczs2ffnvZ+AmcT27t7efruzM7Nz\n",
       "B+Au8T5ok0z66nVGL52d/W+88JyPTsFss3Rk2qHHvKoVzu1kPx/pV47bep7zwTuql6qmVmk9Tncg\n",
       "Z1P4SfqSqVW+40wPQCRvHSs67YmTb9KLp0zNwjLAlk+uGLy8zktQ8ZQKkRzIc46DOUk0zeWRPGg2\n",
       "qAs67yypHkHyOoATjspyknLBkfe8iScMF5q8Pfg5T7VBgAnbLaKnQl8FLk960sqLPJxq8KQhbFmh\n",
       "9koeEjZfil3zwCnXrDyp+761VB5fhCduuN/gHYGhBi+IG3CAKtDbB/G08/S5IuaM8nb8bMonaqxy\n",
       "CWCbaX1f4Z/Gi6KTVmixsE8Fxe5x1YI7L2MoJNaBNrAeQtoM3rHyhuDjBk8sAexlDlnHe4Zs4xVT\n",
       "7ryNhgcMo52HlkBMcXhKCiKqxgsgvU6riC3iTTXbeAmPEHOzKRrh+gI5KKocnlgAIWvwdrCtWOLw\n",
       "gu4GI6yYKi+iOqahDBzeFP78aujzOWruQkWE7fqUVtyDp3k6aJ/FEmyP5Vt5yCJm014yhYMbhD/J\n",
       "vOdcFMaLLmusvGhK2R1nlRH23+AJZEOoU+KRCwRTs/EquXaI+bf8tzHIMACbw89cXiBn5ckDG/bf\n",
       "SeX++kv76+81eRGy4mCK8ZgKn3357lHAjU5om73bGKQCzHPgNy6vmAZwjGfGgRxmv6oRzzDgqArq\n",
       "/dOWzlUVxmkfc3z3M7vLl54JgB6vKc4/Bq3xmo2YQG+Jl/jR2txc9ceLMnsK1Reg5TzSNKacPnz4\n",
       "Q/5QVdXsq9O+eOy8BWFHqYm2SBLd9OrIyOv8obosN0zx85fgm41Z3WvPJ35o7ZzE2WwFGDXd3j2j\n",
       "B9VKAdosAVTxI2ZFSxdBWNus9Lafh+4iQtDQ1Biq8IFmZbDdOBAxgsRnRaPhDfx8+//ypLl+LB26\n",
       "6xfaPYpgXT71qfSsnkfhZ/QFNONdwhIZPaW3D+n2knfNFX//d/YCUwgNpQVCJ8nJ1un+oLouz3y6\n",
       "jaEJPHqPVj7YPeOU+gdoPUkMW4ESy9wDWFT0U6Hq+qwSN59umWm0682sf3wXOyy5kqSIrOA2FfPR\n",
       "H/Enkv28NKZTyv55FMO0ICzP49eEQzAqNtsD+czjMF6QO1I/XTQmPbsaXkQ7TRLkvpEauJ8A4YEv\n",
       "emBLCQ69uw3yltX7432gNnkVmmTcIVEpWw8GqvVL+qrEOU/e+zO3k9NI+7LCxhsJKP3FdHuFf4/V\n",
       "4llucuC87nWhFq18M09yQdMfziZ8K/yhaTGLe89mcZmdSgt8njWCKKzrTqO+5PpoiN4yMdt4Too2\n",
       "eSIjJR327xb3fPC6y8Wn92gR6BUrL8nmWM5y75Eu+853W2WTSvOVF2zrY967t+CdYHKkl79/l7T9\n",
       "wyfYZYjVrLwI8YIO64gOufM297nbp3wdrea4hScsyZ1qxsGRkh7PK2Lawx/egu+yLGREc/RP0qnA\n",
       "18uNaGL3py6PA9zVQIk32fnMAOlAGFz8bPAqc1xh8sRreUGbbnZV6bz5qPARzwzZykuV/DxPm98X\n",
       "tPLWOF15O8zPnxNpL55bD6XmaNZ1/sF51DP/kjpcLjqe70/d5vXyyFGOuVyLrTJ/iaS9+4Sy7UvO\n",
       "vvfTaaBtOF/vIyHUvvetzFr+AZUCXuPkwUKqAAAAAElFTkSuQmCC\n",
       "\" style=\"display:inline;vertical-align:middle;\" /></a><br>(see <a class=\"ProveItLink\" href=\"../../../__pv_it/theorems/ad67e0d4e136917208653aa6d5262424b25e79f40/dependencies.ipynb\">dependencies</a>)<br>"
      ],
      "text/plain": [
       "singular_conjunction_condition_reduction: forall_{a, Q} ({a if [and](Q). \\\\  = {a if Q.)"
      ]
     },
     "execution_count": 2,
     "metadata": {},
     "output_type": "execute_result"
    }
   ],
   "source": [
    "%proving singular_conjunction_condition_reduction"
   ]
  },
  {
   "cell_type": "code",
   "execution_count": null,
   "metadata": {},
   "outputs": [],
   "source": []
  }
 ],
 "metadata": {
  "kernelspec": {
   "display_name": "Python 3",
   "language": "python",
   "name": "python3"
  }
 },
 "nbformat": 4,
 "nbformat_minor": 0
}