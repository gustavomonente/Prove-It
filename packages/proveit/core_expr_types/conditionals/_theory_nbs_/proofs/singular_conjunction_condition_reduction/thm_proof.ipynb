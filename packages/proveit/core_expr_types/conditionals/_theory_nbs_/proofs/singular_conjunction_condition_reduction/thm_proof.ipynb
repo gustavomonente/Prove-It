{
 "cells": [
  {
   "cell_type": "markdown",
   "metadata": {},
   "source": [
    "Proof of <a class=\"ProveItLink\" href=\"../../../../../_theory_nbs_/theory.ipynb\">proveit</a>.<a class=\"ProveItLink\" href=\"../../../../_theory_nbs_/theory.ipynb\">core_expr_types</a>.<a class=\"ProveItLink\" href=\"../../theory.ipynb\">conditionals</a>.<a class=\"ProveItLink\" href=\"../../theorems.ipynb#singular_conjunction_condition_reduction\">singular_conjunction_condition_reduction</a> theorem\n",
    "========"
   ]
  },
  {
   "cell_type": "code",
   "execution_count": 1,
   "metadata": {},
   "outputs": [],
   "source": [
    "import proveit\n",
    "theory = proveit.Theory() # the theorem's theory"
   ]
  },
  {
   "cell_type": "code",
   "execution_count": 2,
   "metadata": {},
   "outputs": [
    {
     "data": {
      "text/html": [
       "Under these <a href=\"presumptions.txt\">presumptions</a>, we begin our proof of<br><strong id=\"singular_conjunction_condition_reduction\">singular_conjunction_condition_reduction:</strong> <a class=\"ProveItLink\" href=\"../../../__pv_it/theorems/689e73c9d5cbbc7b8c92b920632832e7bd5d5ff30/expr.ipynb\"><img src=\"data:image/png;base64,iVBORw0KGgoAAAANSUhEUgAAAOkAAAAyBAMAAABL4OE8AAAAMFBMVEX///8QEBCIiIhmZma6urrM\n",
       "zMxUVFQiIiJERETc3Nzu7u6qqqp2dnaYmJgyMjIAAAAcRTyBAAAAAXRSTlMAQObYZgAABLlJREFU\n",
       "WMO9WE1sG0UUfrazu971rl0JgkqbgwmicMv2gji0OAIJcUHdXorg4iWiiAMiLlAEEqgrOKSRkOoI\n",
       "IXqBuq2UqpVaG3JAPaU0h0pQZKMe+KnAriiHcmijQkubNoQ3s9m1vTszOy4Jk+x63uzMfG/evPfm\n",
       "2wUQF3Mc1rTMSvU63y9eaP1H1KGORKe02yeeOpM85LOwdpr1+FcJ1C/6xXavMIPrfuax6AjDI7eH\n",
       "z28HUKuMGbPJihv398vneoXyGVA27Qj2PUDIk8o5B1QPjI7ElCzFbAEqlowXVn8Ldp5sBMIZIwBn\n",
       "JczHKPM1MaoaaqVMrXZ9F69LpD4JcJg1p5Zo4jdBgPqJ04OqPlWkv3oFo22Z1JpVyLPCLnc7AdS6\n",
       "zUL9eOEhshb9gKtsvS+APQUV3+mx4RCtlsbBtGWWEjOGF2l4nUTcg3DN9xsX1DCwvsU/6gno2E26\n",
       "7AMOWMzgbNfEqOWIhXLDeDvcgid8gF7UCnzuK9oA2OeQ2gr2r7BmrRfFqFv7RWWKREWpBm/EUK0i\n",
       "qBQrhYqukMXkbuKARdas+YT09EA0nZG1bgTjRgxVq4HiBqh7aMsSDzUtdidlOdryKsbhXcgtxlDn\n",
       "8LoSWPglUhlDOw4xLawvi5NwTCn0YeMOqJ3TUdQrq8jUm8q1I48ofxK7d6RMGMlMGxio8AH84NJA\n",
       "z3rk37eK51sZaLCkiy2zTbpkaL96FHsKgDb9wkRNeSzU2dEXJohvK5M3j0/e8k8+lTSkiW9So774\n",
       "2qPTgM6Vpw6muZFZmuCH2R9M1LoNIM6IoZvRuxNkRFTDsdDfj7F7tx04SPbXY4drLLC+Tj4bL6we\n",
       "G88CJ/vTefO4G2aDnftjze1k1Cw98jIrGF0GJzDRhtY3J058yrVENMAljmRqN2VPI1AgXgq40bf2\n",
       "73+P/XQsPmoumTd1GcxPnB4FVGw3wHRPjG5bCJNzswbrUlJo+ad77a9fRlYSCKX1QsXo0iDdNdsM\n",
       "GvXxQJhcH1DQMPuYLa3b8D5e3/8fqHpnF9aObvmd7CrJgWNyFr53Qq6R/DX9Mvr7XmXJpwcAT4be\n",
       "VBUMlSHkAm+COYTO2ApRoECmGgkjxxEM5RLyI9sWEqyQImsrYOJLNei7RQqrVnjStEVvVjxCbu6l\n",
       "x7CoFEh+t3D76tXsz/ijuicbMyHWvDRql5AbVwm1Elu/HjxOVcvPwcGaMVy8eLm7gtYAqKvUOE+i\n",
       "XV0Uk8DgVBma+HI77GzA0Y9eCd9YfEtIoXYJeZNoaoqZUeRUIdIuPVyh1klCjRFy/W9q7b+EqP2x\n",
       "kSPSoUthlGYihjKv0mILCLl5nZ52N4So/dnHoiPe6spL/JEcQq5RvIJ4XzeKmekd/iMOIS9QRedd\n",
       "0bT69cFYeDIh12iw76sNRnj7S4m5r66AkKsENS1eTLYiRt0xLvRhBiFXloxRp2yLU1PC25VmiyOH\n",
       "QchHLfjurp+l/uGMHEsgCyIn5hByZfbsO1WF9nh7cG/xy4h8RuyW3VyaJveFIPY1RIqQfzjkiebM\n",
       "20mogh58Ql5acYQfzhI5oD7MV4h7mj2/eZAPZ6zyFf/R3L3xJtVO7pNx15og/ijTaWKNQaW+1EJm\n",
       "fG1RZ6kv/QsW6U3Idsc5kAAAAABJRU5ErkJggg==\n",
       "\" style=\"display:inline;vertical-align:middle;\" /></a><br>(see <a class=\"ProveItLink\" href=\"../../../__pv_it/theorems/4fd1880a6a4acdf6bda32e7eb7d85f8208026a990/dependencies.ipynb\">dependencies</a>)<br>"
      ],
      "text/plain": [
       "singular_conjunction_condition_reduction: forall_{a, Q} ({a if and(Q). \\\\  = {a if Q.)"
      ]
     },
     "execution_count": 2,
     "metadata": {},
     "output_type": "execute_result"
    }
   ],
   "source": [
    "%proving singular_conjunction_condition_reduction"
   ]
  },
  {
   "cell_type": "code",
   "execution_count": null,
   "metadata": {},
   "outputs": [],
   "source": []
  }
 ],
 "metadata": {
  "kernelspec": {
   "display_name": "Python 3",
   "language": "python",
   "name": "python3"
  }
 },
 "nbformat": 4,
 "nbformat_minor": 0
}