{
 "cells": [
  {
   "cell_type": "markdown",
   "metadata": {},
   "source": [
    "Proof of <a class=\"ProveItLink\" href=\"../../../../../_theory_nbs_/theory.ipynb\">proveit</a>.<a class=\"ProveItLink\" href=\"../../../../_theory_nbs_/theory.ipynb\">core_expr_types</a>.<a class=\"ProveItLink\" href=\"../../theory.ipynb\">conditionals</a>.<a class=\"ProveItLink\" href=\"../../theorems.ipynb#condition_append_reduction\">condition_append_reduction</a> theorem\n",
    "========"
   ]
  },
  {
   "cell_type": "code",
   "execution_count": 1,
   "metadata": {},
   "outputs": [],
   "source": [
    "import proveit\n",
    "theory = proveit.Theory() # the theorem's theory"
   ]
  },
  {
   "cell_type": "code",
   "execution_count": 2,
   "metadata": {},
   "outputs": [
    {
     "data": {
      "text/html": [
       "Under these <a href=\"presumptions.txt\">presumptions</a>, we begin our proof of<br><strong id=\"condition_append_reduction\">condition_append_reduction:</strong> <a class=\"ProveItLink\" href=\"../../../__pv_it/theorems/11bc8e3a4c26b97ce8c6986184e1d6141917b5d70/expr.ipynb\"><img src=\"data:image/png;base64,iVBORw0KGgoAAAANSUhEUgAAAdMAAAAyBAMAAAD1vywNAAAAMFBMVEX///8QEBCIiIhmZma6urrM\n",
       "zMxUVFQiIiJERETc3Nzu7u6qqqp2dnaYmJgyMjIAAAAcRTyBAAAAAXRSTlMAQObYZgAACG9JREFU\n",
       "aN7Nmm1sFEUYx5+76951d29bfKFCAV2LFvwip4gSLHJqVL4oV4woatKzCCFE6PkGiignJlIU4zVE\n",
       "RIn2AGMiifaUD0Zj7ClGDKKcIIoaBeNLojFwoXCWgpwzszt7M7uzt4XUrdP2bnfu39n5zcuzz/Pc\n",
       "AniUC8onYUjKJzAMRUka79FyeYSneMxLLw/JRaN5eqRN95H1FhP5pY3eqCOH6JrN1kD/5ee0agfN\n",
       "A8k3VNW6klZkqrsKADdONI43t2wvnE6TAr3WUVrYyVeu9R11U9xaySmmui0PUuMs8ln0YYCFzEcZ\n",
       "l5ZovV1PSn0a5Abhhf1DfQqEqKiE0sa6PoT7la/U/+LSklnv0BtDpwN0JETLyTdUdcAVNRwjb3WN\n",
       "+LiyuKXVWWFLtN6uN8okNOcr+fWwwmfUSEyM+kKCou7GWyx6vDIC1+nClmi9XW+UJ9Go9vNVvRl/\n",
       "UQ9keNR12y/EkyM/n5QuOwezyn+TxXzUkr0FKWFLZr1Db5QSwNtJ4Sj7hvoIMy3I/NeMhsPGMkxC\n",
       "mHQtegS/1h4Dydi68Dn6ERWz3tLzq7u0p2OK3SoP+IoqMaP/NrIamwowlZzUUtQI6XR9UZpsTmYK\n",
       "XhU2ZdZTPf9hcAC0P+0O0xFfUUOV69zxKHqZkYUHeNR6Mva9SagxUDUdwgmRS2DWW3qu1KLrOPzY\n",
       "Q76iBpguXYt6OgqUY7ZZJT1ZmaWokSxISZF9M+stPX9bTYJcAoFV9g+1jfFgwmlQToJa5FHDuCdB\n",
       "tNZM1G3o7w9BS7Se6rXps8cHmxOV66h99n/pLviJOom51SELrJxAxuk9DlUaUJoSbTEL9Q8Ty15o\n",
       "PdVr1xYCi4J0/iclsL3KipaUX6hPAocKq+DbJHF0atP4F5cmDb7A28xAJXY4gvvcgwy2cso8YOpN\n",
       "/csToD4eyhsSbNbVI3KOqs0NnDJRSdWPVVG9JN5llA319aa57dg3lTpKb3T0Gwvs9Y8fyUgUNYw/\n",
       "DWJnIYLnZCk9qNRTfTu0QgTBLUP815QXA3zWBFRtXrBoopK71J9VUb0k3gFynw1VXObDdxS1hlQ4\n",
       "TTBXT/QjYSJ0I2Q16xrHHTNRN2DXI10V1UvifVs9wqK6bpqnatBF1NTgQwikl4toXvdHUbMeV0eo\n",
       "dWg0ormqqF4Sb2f/BDvIRTfZjHIC5KtK+mCbxfqaJLJU63ei6NVjTSFUbefWrS9WN0teEu9UAOe/\n",
       "uWYhbh9zes1y+ipRfYla4P7OzhUeFthD4lmCXACi+plbwqWfos4HWOOBykuCLdtFJmD8rmns6czS\n",
       "laus7TkAw1nOp6jXg3LQtjBa4sEGFpWTyL+C1Ohs79U4tLIjoI2ACM0RhIYX9TyKGoEgs86VDyYX\n",
       "1PROmMaicpIu5Plc6WhOHo2IWKcVnYSpMQ0XhxX1fooaLUSY6v3vbQV1TwjyLConeRz9feV0wwtk\n",
       "IpkKHQL6/wxVPjgHLK+5Bofs6l1zdQ6VSGBL8294p2KeSY7mLsQfsUQ9CeVy8FzAews+oC6zfOA1\n",
       "94LlNdcRE5nYuY9DJRLlYWnAyBsgDwxgEd/c75iI3fOzmi6zfHxHCsjKnuR9NUuwLVXxmrcYqNFo\n",
       "jEPFklBMwnuvHvduLNxts0zYUw+wHf8SQpbfEzzmlnJid/s45Pe1m5nS8bs870gizTflBZ3POZQN\n",
       "Fmo93lKm13x7Z2enribkQopDxZJAjsRKeAPiTbmcb+5s+w5ey7hF2lGX7u5g/Tc0Wq2vGcodCRzW\n",
       "Vi9CDbqFdjki+j4LVcuC5TWHjVmFG3QOFUt6MrXfo7dw8s1cV9yBukD5QT4XtKt/nPKB4YyfYLIs\n",
       "6mBQcZlqrmscuI2tTirUYHc3bF9CykkuXqVecxT3U4uDlnfEq4FM282wIauM1H/4FQjqhqz8DHlB\n",
       "b5tmax/GQb0Uxqh5QOdoX4dTc2kP/hkk6jzj7Wc8+B3VUYUa7JZFjru5+2ZwRL3mZ9HJTQgl6UCt\n",
       "aX9nOrTmYMvaBfh7E4TampNGQ2tGGi2NAWXqp0kZ+VVKKhQHdL6jlJFW6dwS8kCVb6OoUTIyuzPV\n",
       "SMUanEbrTQuDDWcWIoj2arUsBA5w5sgFYwFb0Y6K20q+ApBSYxHVOGfLE1VQ5ZbLiYnbUIJbz5pM\n",
       "kkHEUMyIV0MVa+qToDY4RuX4GSVcVDyM3WjxzO7LGSek4DyRfKoRlGQwHr7EOOfCLebCh0gxLPwS\n",
       "nEHM1BXp/WoBOdhNBvv5BNzh3i1Lw6frFjf3OeL5cPGMUDWyTB5iTioR1Oq4a0R1QJwiUFHjyjj6\n",
       "XdzTFHUl6W0Zbr3KvVtUY0vXZeEnx6UCaV+To8LAXlqdIZ5UROdRy7i3Kooyb3Jv0dLY03X1Dq+k\n",
       "Wx+ulDebKRpJxrwnwaMSnzUyUBXV0tiD8O7k8Ka8Q0X7XjU6tBDdrvPQCzzqPaSDelVUqtm7rynW\n",
       "NJ+5qfXG7NLV4CdqzVFXC9yTgyWGfbNQ27KbL5bw/akKKtV8PQ4ass2MA7pbV2xSf7+eggddUWt1\n",
       "bamR7eskvyTPW4geyJuoXMqbHJAXUyNvTsFRaDFT3NiU9+obqcbk9/dLRzcTjFCV9ovXX4SP55QX\n",
       "rS8bvvqd901Yg5O9GDWynE15LyVBWbaiCeuI4TFDFjpcKkDUcFyW2u2Eb6iB/KAcw8q9MKFlzAX8\n",
       "vvMela1oAolgWi4mRDKz+P2AgCoOzj9y09fGZqLXd/Ghc5CijKYbzauWzotkZjGfiPHvYZ5fPONV\n",
       "3mSXkYVZt7IdLXDd8eFmRnMj1GXk+7IimTnIjX6jdom+Aoc6t7mQ7s+B3SWz+2IVjVhmFP8f0XL5\n",
       "Kmbbf55bmgd+owryqb4ULT141KF6SDasDwvq6TwkO2SPPl8xHKSKmdjEjz7/CzAUd9C56VtQAAAA\n",
       "AElFTkSuQmCC\n",
       "\" style=\"display:inline;vertical-align:middle;\" /></a><br>(see <a class=\"ProveItLink\" href=\"../../../__pv_it/theorems/4c6273db8dbe7342762a27190fd65ce5d17197d80/dependencies.ipynb\">dependencies</a>)<br>"
      ],
      "text/plain": [
       "condition_append_reduction: forall_{m in Natural} [forall_{a, Q_{1}, ..Q_{_a}.., Q_{m}, R} ({a if Q_{1} and ..Q_{_a}.. and Q_{m} ,  R. \\\\  = {a if Q_{1} ,  ..Q_{_a}.. ,  Q_{m} ,  R.)]"
      ]
     },
     "execution_count": 2,
     "metadata": {},
     "output_type": "execute_result"
    }
   ],
   "source": [
    "%proving condition_append_reduction"
   ]
  },
  {
   "cell_type": "code",
   "execution_count": null,
   "metadata": {},
   "outputs": [],
   "source": []
  }
 ],
 "metadata": {
  "kernelspec": {
   "display_name": "Python 3",
   "language": "python",
   "name": "python3"
  }
 },
 "nbformat": 4,
 "nbformat_minor": 0
}