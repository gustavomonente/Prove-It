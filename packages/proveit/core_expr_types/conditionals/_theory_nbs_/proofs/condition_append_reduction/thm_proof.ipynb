{
 "cells": [
  {
   "cell_type": "markdown",
   "metadata": {},
   "source": [
    "Proof of <a class=\"ProveItLink\" href=\"../../../../../_theory_nbs_/theory.ipynb\">proveit</a>.<a class=\"ProveItLink\" href=\"../../../../_theory_nbs_/theory.ipynb\">core_expr_types</a>.<a class=\"ProveItLink\" href=\"../../theory.ipynb\">conditionals</a>.<a class=\"ProveItLink\" href=\"../../theorems.ipynb#condition_append_reduction\">condition_append_reduction</a> theorem\n",
    "========"
   ]
  },
  {
   "cell_type": "code",
   "execution_count": 1,
   "metadata": {},
   "outputs": [],
   "source": [
    "import proveit\n",
    "theory = proveit.Theory() # the theorem's theory"
   ]
  },
  {
   "cell_type": "code",
   "execution_count": 2,
   "metadata": {},
   "outputs": [
    {
     "data": {
      "text/html": [
       "Under these <a href=\"presumptions.txt\">presumptions</a>, we begin our proof of<br><strong id=\"condition_append_reduction\">condition_append_reduction:</strong> <a class=\"ProveItLink\" href=\"../../../__pv_it/theorems/d3bc5a9f025621bc0be2fbaba6a24f9fd5f3682f0/expr.ipynb\"><img src=\"data:image/png;base64,iVBORw0KGgoAAAANSUhEUgAAAegAAAAyBAMAAABlrFXCAAAAMFBMVEX///8QEBCIiIhmZma6urrM\n",
       "zMxUVFQiIiJERETc3Nzu7u6qqqp2dnaYmJgyMjIAAAAcRTyBAAAAAXRSTlMAQObYZgAAB5tJREFU\n",
       "aN7NWltsFFUY/ne3s9vZmdkioTUtYEbKxcSYrmCEYJElRvRJtxChykPXAgUJQlEDiWJYfbCLQlhi\n",
       "UotGuoCR0ES6yoPBoF1i1KRgWKkYImrXSEz0AUuhDS2X9Zw5c5+zuzO0mfYPzJ7555+Z853Lf/k6\n",
       "ACXEk89nYDyEj8CESjBGfs/lr5a09Zw8kBqXl541nvZl3Ub9DPk5duDz0qCj4/NKb8xwejzj+lQL\n",
       "ObnR4Bpo0/D269rsTICy5jhZhLVnlzhatBT7X/Itib0U2z1ugw5OM57/oGszt1BHPrlO9FHwx3Xj\n",
       "UeBxqt5kT+QGwP6Y9aZDEZdBl4cLg8aySF71aAkGZ2jqUJj+OEVvtieDOAjgH7LexE1xGXRPqjjo\n",
       "teTnT2y2VVM3vk5/nKI32xP3MQIQGKHctdNl0K9CYdDscwpo/rYUVJLqpXWz6I+T9RZ7sqrQjPbE\n",
       "aSOfdBW0MEIBzdbPr8HtjmFYec8C3OpsxcelakQP5gJ0DyHrzfZEKmLAVdFuC4RdBR0wD/wW9H9Z\n",
       "MjQgnfwN0EISBxEf90WhUU5o0nyamujIetXeIE0vz71G7bUw6iroJtNkcJVoumaCj4zFOwroXdLL\n",
       "8rByoTxWwOaoYyjrFXuj1KXgD2pCFRx0FfTDJv/ahnaXbxQCohF0HveVGwZ4itidB1hPe5yiV+0N\n",
       "8hZa4fTc54qroM1brAzNtCcO3VEj6G3SNI6qoJGPXkV7nKJX7Q2CBqEzRu1GXdJF0Mxts2YjQHcG\n",
       "esAI+kWpZ6ICmkOOJ5SkBFxFr9j3XZgVnrVe97IeenzvzLoI2muJmsh7d6dhC5c0gG5KHZ7DXAMF\n",
       "NAbGUbqv6hX7n2dCVWqu8rIh7OGCVDAxF0GXT6GALheF7bx0kpD+4f6KWb4/o4JulJcyBO+gQ3dO\n",
       "bmh62Z493ArXoZ6YAA4JPeJHym2GfrQS0JIX/L0o6JDk7sdSCnriFNDB5jnts3F7VX5Te55UCC9s\n",
       "nrcbogrodfggpSHb8d6NyQ2dXrb3i8wUeAOZoJHw/TecBf5tUbnNEOoGCOgz+OffoqClmBgaS1Xd\n",
       "HQYonoaq4o8KSQW0FOcYq41eL9l7ot44O4AG66sSOdIQAd2BU6N4UdDS5Y4xhWnRrDlduDJ5Gh2/\n",
       "dFDJIPtONNdCHO2LElU6M0hA4xmkpz3ansYL4cyYyg3LC/oLmfryaDbe39Vs99GS/XLk29jNKQiK\n",
       "JQrcawS00NvV9UEJR/ZbV9ex1rGA7rd4w1ChOWG2pZ1FQ729UMp6WPbeNxKJnSVAVyQSbWOid+qs\n",
       "wfaE6xyZTC9IoFFM310CtD8K5bpu155dTIvF9d/qfV3ZvrUb1cV2LgWTQ+6TQT+BCjXjldX1EW+V\n",
       "HnRZGI5rlw9GoMEKgr0MTI1e8ZNatKPib7KAvlcGHQCvbqUFTy3IcvFeWGxITlrhIQ1dNfIe1tR2\n",
       "P1oKj+oV6GSD0t46STCTZB2B5rP6Qv3iyS7gzvs03y+B/hE0PxZAQyRYMix4k0yuJq8ATJ20oNkc\n",
       "KliEJStqvXOjeCGjtHbN86IR9EEGTW1w/hbcvh/v3wHLjsbDUKePDkNwRLS3vF3k/XcoufdulNUJ\n",
       "y7KeTd4YyTi5aO8FI+jydpQEHY02pQjNAb4c+I04QnjBP653ZIO11erJuWSRjrjJ+yuODE6gpfvh\n",
       "PKiI+DJwhIDm+bABNIeZjAWwGituYWWGOW0ELVXtei6Wz8FCLWQVq1rGwvs74frVuh6DrsCrsBk1\n",
       "A2lYnUgkRC7KZluNVRZO36aDVLxNJZs3YATtEU07vTyjQ9MfKdJxm7w//V4HXD+WawpoAXe/Eh6A\n",
       "Tgb8ZKbhSdEI+lc0qCOwtws1W4KX2GkW0P7YZ+n9Eej7um/Nd2Tq0zqOqMcuaCwFeH/qzsg54Prx\n",
       "wrilr6fZATTXF3ngMUQhAkLGWk9XM9ez7LtwaIXwTUQC3ZFCp/IhWCleugzwRc6TPoWqkxSq72ED\n",
       "o2zlpqwD0AV4f5o44/q1gkN2OzH4B9p7Ad7DFTzqfcwKevmDtVlmOgQXfR9jJdANaaYaGpL4kIYj\n",
       "e1ogiXK3o/AIemya3/USNKpMfUXYJugivD+NCXbG9aM1fJPKnHjRni7GnHB4vGIfk+Wtpfq4tYrN\n",
       "okznBLSm9VdIbM+VAF2a96dSXs64fjRKI3dFF53EPbxTA0zdY8CpQyy1OtFi+xRmQ3NSd0Wu/0xx\n",
       "nb8iCZl/e7w/TRxy/WirD9wVaGlztkVMhZzUKn+tYIknjBZ+gU3enyYOuX6FtnKLAr5Z+JJN3p8m\n",
       "Trl+6BRdBA1VhS/Z5P0LZtIOuH53yX5YSt3TpGu2eH+qOOX6oQ3cBP1spKj3Ls370/lGh1w/uPsH\n",
       "vEC4KOhSvL/K86sN6eCU6/e6+6faYu7bBu+PSXwT4b8jBY65fvJXHfc+v5hhPw3VoqrG+1tJfC6l\n",
       "2djl+l3+/MLyoY1O7PD+1hDE62zscv1/gbugQ2Fb9bQxj1N5fwqJf1hnY5Pr52pcBs1WFh6PQvOj\n",
       "8fgUEj9rtoGSXL/rH88V++uUW7y/XLO6CNoXm2gmVIjbBz1enz43TzRoJ58+j9dH7r7IxGIObpLr\n",
       "0fzV/wFQD40kxJc4GQAAAABJRU5ErkJggg==\n",
       "\" style=\"display:inline;vertical-align:middle;\" /></a><br>(see <a class=\"ProveItLink\" href=\"../../../__pv_it/theorems/16d554c660a7092abd5be518db5369c5aaa1a0b70/dependencies.ipynb\">dependencies</a>)<br>"
      ],
      "text/plain": [
       "condition_append_reduction: forall_{m in Natural} [forall_{a, Q_{1}, ..Q_{_a}.., Q_{m}, R} ({a if Q_{1} and ..Q_{_a}.. and Q_{m} ,  R. \\\\  = {a if Q_{1} ,  ..Q_{_a}.. ,  Q_{m} ,  R.)]"
      ]
     },
     "execution_count": 2,
     "metadata": {},
     "output_type": "execute_result"
    }
   ],
   "source": [
    "%proving condition_append_reduction"
   ]
  },
  {
   "cell_type": "code",
   "execution_count": null,
   "metadata": {},
   "outputs": [],
   "source": []
  }
 ],
 "metadata": {
  "kernelspec": {
   "display_name": "Python 3",
   "language": "python",
   "name": "python3"
  }
 },
 "nbformat": 4,
 "nbformat_minor": 0
}