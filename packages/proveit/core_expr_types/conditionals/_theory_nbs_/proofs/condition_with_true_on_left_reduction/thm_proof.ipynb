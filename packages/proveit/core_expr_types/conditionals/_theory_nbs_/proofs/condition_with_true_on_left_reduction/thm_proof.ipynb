{
 "cells": [
  {
   "cell_type": "markdown",
   "metadata": {},
   "source": [
    "Proof of <a class=\"ProveItLink\" href=\"../../../../../_theory_nbs_/theory.ipynb\">proveit</a>.<a class=\"ProveItLink\" href=\"../../../../_theory_nbs_/theory.ipynb\">core_expr_types</a>.<a class=\"ProveItLink\" href=\"../../theory.ipynb\">conditionals</a>.<a class=\"ProveItLink\" href=\"../../theorems.ipynb#condition_with_true_on_left_reduction\">condition_with_true_on_left_reduction</a> theorem\n",
    "========"
   ]
  },
  {
   "cell_type": "code",
   "execution_count": 1,
   "metadata": {},
   "outputs": [],
   "source": [
    "import proveit\n",
    "theory = proveit.Theory() # the theorem's theory"
   ]
  },
  {
   "cell_type": "code",
   "execution_count": 2,
   "metadata": {},
   "outputs": [
    {
     "data": {
      "text/html": [
       "Under these <a href=\"presumptions.txt\">presumptions</a>, we begin our proof of<br><strong id=\"condition_with_true_on_left_reduction\">condition_with_true_on_left_reduction:</strong> <a class=\"ProveItLink\" href=\"../../../__pv_it/theorems/cfc784a4fb22179ec0135183f5fd10c16a1af9670/expr.ipynb\"><img src=\"data:image/png;base64,iVBORw0KGgoAAAANSUhEUgAAAdYAAAAyBAMAAAATludJAAAAMFBMVEX///8QEBCIiIhmZma6urrM\n",
       "zMxUVFQiIiJERETc3Nzu7u6qqqp2dnaYmJgyMjIAAAAcRTyBAAAAAXRSTlMAQObYZgAABt1JREFU\n",
       "aN7Nmn9sE2UYx5+2u3bX9rqZyIxz08uA4X9UMWLM5orGH/+gN4hjislqBWIWAiUqJIqhf8mmGEtM\n",
       "5uAPV5nRuIStbn8YDYYaY0wmySqThGjMZkQT/IMMhgsMsL7vez96P95778bW2x7o7e7p07f3ufe9\n",
       "533ebw/Awe4r3YTFWDQBy2rhpPx3onTZMfaeY8cX9V1njIeTRa9hn5X/fHHsS8fQVYv7Jn/ScDhc\n",
       "8LxjhWllp73SrKaLOaXb5xsBqlIZtLfxALb92rBbfaZ1QcOUHX/EI9bwncbjH3X7HEoE7Z9elQ9G\n",
       "9UESBDO6a2LTdtYm3myfJLxhrY7bs2J7RN3RsQ6jQRduKB/H4vS2/7SJN1uk1hvW0zk26ysU1j/w\n",
       "Z/aWjzvfpDbNHc7R4y120BvW18CelX+eyhq9RaYIbYTCjiZq08HHRXq89YJnvWAVrlNY+ZYH6/F+\n",
       "/xxsvWODhXUgjbdt2rQcng5R2x6GNDXeaqG4F6whc8rYg16bsrEZcvA3wC5rv06Q7vpAgk6ln/PR\n",
       "PK3tn9A/Q7z9FZ/3grXLdLUjqLVwIwTkS/AOlfUQOesSbN2oXC/gp2ltp+FjQzxjMrjiBesD5nSC\n",
       "7pzAPIREBmsJp5rIHMDT8vFZgJ20zhIhKBni7e2SF6x1puMq1JovAyMSg3Uf6cx5jRVl4Q7a7ZED\n",
       "LmmIt7f12cqzcrfMnlcBRgpwGhisL5OzE1XWCEosMUqSHUOvi/r4yXNN8aad1PMYKFae1W9OwzgP\n",
       "j+RhTyRrz9qVO7GWmwWVFXNGKNXERYVXi/+lEepyzdTz8CUrz1pdS2GtFoX9UXLQQ/7rWEdwEvKL\n",
       "xehUQWPtVMax/CbehP/DQyYjj2Mtnj+RhqvQAlo7+vNIy6zE/TuT1SnE1nwZCms4tbZvDd7vKHX3\n",
       "ld5X3thM7jpSIb24e10vSCrrDrzB1UQoqW7wIiGYIJi6+KDI1cJb8r2cNK2hZ2RWMkn9w2R1CrG1\n",
       "kTgAu0Y02TdKSSQJWZWVzFqcJbKKbCVdvE/yZ/gZ6jQr/Cuz9uNKJsNkdQqxn15Fs+c79gcK6orh\n",
       "GbT9agErDBQ/gHpWyFDXx9wVmTWWw6UJk9UpxL4QtXxoir0CVK5NoIQ64sNDKbffQ+KfQmmM352j\n",
       "tjsrswrjQ0MfsXOTU4itTVlGVIypSwhqP+xb2JV1jJ9T8vC1np6DDnnYIcRhDjdOi57rTdiuKaxo\n",
       "+u11YDWG+Fu+p40UinsiByvD7lVYn0CrJuM721oS/jo9qyGEvwBcvbU5mrttpbDepbCGwK8bV+FT\n",
       "G4qRzDg8qmc1hBxFA/Nha3M0994VgirXzIg1WtSvhc9/PQSRswEo6FkNIW+j18/W5mjuFcfKT6Nl\n",
       "hNC6ZbW/WYIqPPtHtr8gGlhJCAw2/4VvS1z3rbferTQ3ewx7KIsfUOvhXlSGCZuKvm5/EmJkaSGN\n",
       "nzOwkpDwGxxeOMVw/fUYQLdpMlHcxtzEEIE8lcXV3ARjqDI+vg5qEoECDMqs0WjcwIpDAnEOl9A1\n",
       "+BQb4CVTHlLcpjlHYk2++sSmyeJLroSX19GYtQZXKym0G8rDtp6eHjEi8cW0gRWH+PLk9wof2hVq\n",
       "5aWHvsxX3EYchuBlK4u7VMI1v4MSTmxWZRVyBOl+GOAgKPcrPCkaWHHISLb6V/QnmDyZP5qwsCru\n",
       "yW8nt/9QrhHdsmJTZHG3Srjqd1LCSdff1K9f+RnUs+ejEMWjTkiAULCsX33Zrs3QnwuvEn+7IC8p\n",
       "+3P8u+pGcY9O+/KnyrV/cQGsilTsUgnX/I5KuK72V5ZISbTQ7xsHeA8vktFJJy2sVanRVmjPw+CR\n",
       "XfinFPRV7XnubmjP4o3qDkqfw0PlmzjukrUsi7tVwlW/sxKOB+oNqi7hR/crS5fARXYHX5THcN7i\n",
       "DsEYpDV3aNqB1SqLu1XCVb+zEo4vyPXb0WCIUDSAxs2W2bx8YHR/BmsgpbkDM6bvvERM7m26LO5W\n",
       "CVf9zko4TiYzt8NKVl3VrxuXYCa3LpqhZNrI4m6VcNXvrIRrWlCFNdMb9m/ZyOIulXDN70IJRyNO\n",
       "rDyrRQvXC0Z0WdylEq75XSjh3mjh0Ea9X+UcT5fFXSrhmt+FEg5wGDxgfS7BzMMUWdylEq75XSjh\n",
       "AJ78dhWKM1kpsridEk4EcE0JL/tdKOHg9+Q3SVYitpHFbZRwIoBrSrjO76yEKz9xVPwZggb3NWJ5\n",
       "NnRWwg1+JyXco2cILM+G6MxWFl9qJVx9YKbSrLG4q/WrwZZaCY/Ue8PK23/cVhZfaiXcq2e5WEPR\n",
       "K1lcfa6o4qyB5HJriELGNetin6lNLTfrAp6pXeyz0oHE8qKGFcFzonT5f3GSUOeK9ikPAAAAAElF\n",
       "TkSuQmCC\n",
       "\" style=\"display:inline;vertical-align:middle;\" /></a><br>(see <a class=\"ProveItLink\" href=\"../../../__pv_it/theorems/526b77388fdbf730f2b12e3062b6a41222823ec70/dependencies.ipynb\">dependencies</a>)<br>"
      ],
      "text/plain": [
       "condition_with_true_on_left_reduction: forall_{m in Natural} [forall_{a, Q_{1}, ..Q_{_a}.., Q_{m}} ({a if TRUE ,  Q_{1} and ..Q_{_a}.. and Q_{m}. \\\\  = {a if Q_{1} and ..Q_{_a}.. and Q_{m}.)]"
      ]
     },
     "execution_count": 2,
     "metadata": {},
     "output_type": "execute_result"
    }
   ],
   "source": [
    "%proving condition_with_true_on_left_reduction"
   ]
  },
  {
   "cell_type": "code",
   "execution_count": null,
   "metadata": {},
   "outputs": [],
   "source": []
  }
 ],
 "metadata": {
  "kernelspec": {
   "display_name": "Python 3",
   "language": "python",
   "name": "python3"
  }
 },
 "nbformat": 4,
 "nbformat_minor": 0
}