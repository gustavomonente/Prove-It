{
 "cells": [
  {
   "cell_type": "markdown",
   "metadata": {},
   "source": [
    "Proof of <a class=\"ProveItLink\" href=\"../../../../../_theory_nbs_/theory.ipynb\">proveit</a>.<a class=\"ProveItLink\" href=\"../../../../_theory_nbs_/theory.ipynb\">core_expr_types</a>.<a class=\"ProveItLink\" href=\"../../theory.ipynb\">conditionals</a>.<a class=\"ProveItLink\" href=\"../../theorems.ipynb#condition_merger_reduction\">condition_merger_reduction</a> theorem\n",
    "========"
   ]
  },
  {
   "cell_type": "code",
   "execution_count": 1,
   "metadata": {},
   "outputs": [],
   "source": [
    "import proveit\n",
    "theory = proveit.Theory() # the theorem's theory"
   ]
  },
  {
   "cell_type": "code",
   "execution_count": 2,
   "metadata": {},
   "outputs": [
    {
     "data": {
      "text/html": [
       "Under these <a href=\"presumptions.txt\">presumptions</a>, we begin our proof of<br><strong id=\"condition_merger_reduction\">condition_merger_reduction:</strong> <a class=\"ProveItLink\" href=\"../../../__pv_it/theorems/d3783d382f9351d6b0d36784af89d4541d7e76550/expr.ipynb\"><img src=\"data:image/png;base64,iVBORw0KGgoAAAANSUhEUgAAAoQAAAAyBAMAAAA3ldc9AAAAMFBMVEX///8QEBCIiIhmZma6urrM\n",
       "zMxUVFQiIiJERETc3Nzu7u6qqqp2dnaYmJgyMjIAAAAcRTyBAAAAAXRSTlMAQObYZgAACm9JREFU\n",
       "aN7dmw9sG9Udx3+Jfbbv7EsyRrOlaTc3HaWTtsUFQdFIqDukFmlidYrWhQkpXqClq4CYf4V1bDGZ\n",
       "tKZbp7qgdaUIck2nSjBBXKqIFcFilm1MrJCMdn+BNWisUtEEJmm8NAW89+fe3b275/MlWtFlvzb2\n",
       "87vve7773Hu/937vnQE82mfLH8CFtlgSFoopafo+Vn7fc5nmRw5c8PM6DgvHvkbfnnjkiOciiy78\n",
       "WdWmjeSJcb8jVCf0RIefEJr38+mC/5vhbh8iVC42kqcs2fJSgGB3lkqWH2+fU5UC/Z/LW/p/Moc6\n",
       "KukPJv2HMJIwki9ZsiU0jHX8/CzNT0Eoa6FboSYj36anNgOw13QZkKtSh13PLNrgP4QjmhAhtqv0\n",
       "/o38j7LEzK5LiGti+XY9vSWTAKFp8/M/3etw6A17wH8I74aKCG+mb29hyD1mducOcU0s366ng9Y5\n",
       "gPA5k+hOzbUOu95yy3N+Q6ieEyOUv84Qxj4kMzGz593SIq5Kz3foqb9AHXDE7N2hr8Td6nDoTQsn\n",
       "/IYwnOURym2XLcbp/SW44ROX49RABr+uMebfykRYPIjo+XY9tfo0RBvNj09Dxq0Oh95yz2f9hrDL\n",
       "cql3oL+1uboi+XAaYAuNBEh72ZOCTj2YycfywiBHzzf0/PfcvmIKZUn6HfsD+udSh6EXUJ70G8JV\n",
       "lsEOfZmyFAL0Kn/IEPaSKynDDav1dgvyhLA96/lMz1urBv/QQLpcb3wZeNytDqYX2bt+Q9ho8fDI\n",
       "fQVmIRznEZbxlURLAOup7jWAzaKaWL6h5+xB1DfRzD1IEapxCKVc6jD0AmvN+Quh9KGZDqIvq8nC\n",
       "UIpHeCdpHrMGQjRmbhJVxfINPWcI6UDaQBhGDTLtUoehF9jAuL8Q1lrnDVsBhgowAjzCb5FbH2cI\n",
       "o2hErBNMjI18pj/xp5ZEy2bLrRpJGAiPor8zLnUwvdq+cbldVJP2F8JIA3Aj8lAe7ojmOIRd2uAl\n",
       "0hQwhPgSo4LJtZHP9CeXQqO2gt2qaTzOKAzhGR1jpTqYXl07XmO/XZGMvxDWZHmEkbi6PUY+9JP/\n",
       "+Gri47FTBQNhp97hQPkIvQxN6AkzX9fLgxk4C21UAniYH4k/qiMk43JYs5YnKqMOpj9wKdSTQWXI\n",
       "HMFiRYqQ5LzpCaFX6bxsKMEjVLov2fc5nN5U3ravTOP8b9526S5IMYS34BcyAd6OOaT1hCVf14fi\n",
       "UgN8F0kQk8B7pXGI9cV1hKEkQW0tTxJGHYa+G9ZS52n6RXWaIiSzonc8IfQqnd+0MA6VAzwzlkip\n",
       "OYaQzCMlp8aaT/Q1qdqsXETon7OoKMIgSadc62DX3yYJom2McD8OBLKeEHqVzm+RwTpLfrHyas51\n",
       "6PXZOaz+IP0AaodqFnkA69wkmpnT6clFuGfYPreeogjrNDwV94TQq3RedsraFE5VUgXKqPM83Nvt\n",
       "tVaiX4dGB/k2DRRLQ5dXl+JzOb1gGr7gWEkvUYTqy08++TNvw4lX6bys1Tre1RUqzR7vnNst5PTq\n",
       "//qcZ/QReaa//wGPI7JH6bxsjAuijvp+7wTbZ3SEaM65yyNCXlrbNiqKHZcf/7L143WlK/sE/WLP\n",
       "zVv5jrRGgwVnn9IRXgvKhLgT3P0bWJa2IuSk8tsgLXaWejwJHVYaagOEBd3yj8aqr249C48gjSA7\n",
       "8JpEraDX/GK0HX4Z0wKaFSEn3Yuc15XOkasJ+XBrSIk+hASDHyp56/8Nwti4YOFS/fEBDV6IJ2Jc\n",
       "R+ak36Ntyb5INE4aniUjDjWCse8ugIsWfEe+T0coT2wCEkXXrsDzChpPX4sPDg8/xCMkUji04l/Y\n",
       "E2JOrY5al+FDRWvUkVIuEyxXTsMhHuxYzvVs1XYfImTDCexC0QyOoreRpwloPE1c3nDsqZv4GBlL\n",
       "lXslvH5Uh8XXAGzjaz2N+67Vt25oWYXghGxtLDi5vMk2qUm5nazybz+2wkaG8ChyVTiKTgaw2yfx\n",
       "tEIC1mEojPIIsTSQkLBvI8uQS+Am24iCn12qsQ4fr0IgA9KLNoSxCVhtm1onXRuhtWHvRc5i3Uqa\n",
       "HmwbrTr/EWjUntLW/ioFq2umGMJ63KO6UTJMpqE4npbu7+/vQwgfC/MIsbQmT1ordnDY6dn2IS+y\n",
       "e8jd5PLDNoSRgj0CGXFFGLOOSF0FNBfYQPSxe8nioqsJNfVZkBurFKymUT5gCFWNEFoJA5IRT6dp\n",
       "Kwxu5BFi6VAu8nf0Fko/ld+bdCDcorwuXwzq1W9e8Tztmech0OBEWJ/HeyUnXnjD5DLuGSH2FTRU\n",
       "V/D2xcGCKwixBq9q9KSqr3y4adgygxFFd8NfY7Bfo/H0b3HmSYA3nOuFNbmu65FOWRR//W2yqCb/\n",
       "CBfTXw5uVH+VhOiXoDlawEeQ3wxlbsQITc1+Dbo0uFXKPZM1W3l9Yi4IQ1Rdh91IqOgKQqzB8WRv\n",
       "rnrM6aaJnrciRFH0Gdj3MnTkaTwdQX06+P0khJwIg93PtCMdHNq9BT+PsgOkZujISU34pRmUq36X\n",
       "llEco2QCSXzkpVJO6otjhB15qkEv+Vjvt6GzBUKpTnPyM+EZ4U9TDOEYbrqxc+6Ro1DzICIwU6Uj\n",
       "V9PQSh2r1iwqX9nf5wzwbLpN8jjpyFHzvuDmnX4MIBNNhKOWI7gj5x1fEoYvGh4wUKyK8OHRZdgf\n",
       "yHvS0qpPYobyf0jJs66rVGJNCeBIugrCappQUYQwmnOLkW26gbc02DiVh2NGNk7JHy0GJV2bDH0e\n",
       "jCNS69WWqo3UYXje8ICqfacNXn0XG31qKITaaLAJ3qNdEwU85NJixBlFpo19dRF8puHdWOm1nisA\n",
       "oNNtlUfXVDS6V2FHqII3hEQXuYd+MAcCktqZ5D87qhZ+iXTe7WyPIK9+cFx/wivCEIYJmPqisa8u\n",
       "MKbhc2tnQX0HjE19oemayjYQF3Zkjwgv1Dy1gnV+h4aAd/EI60nLHUmz7TjhzIRp+ElVA53Crnf5\n",
       "UqapssTpI4Rr3A6uRa3w0zgs5FshCcZ7NTeEhoYHmwa5VAUh01S0neAzhBuSQl94mvrCLJ7IRos8\n",
       "whDGUzsJbgiZxlwF0Geh0akqCHUN3sgXC3z3WFI44T4iK+fRoHKMQyjNKi2proQrQqYxVwH0iByN\n",
       "M5orQl1zcik0VfKVPkPoHJJtk5o++EuaBBmRLP6PrUWFV7C7wgj5DXlzV13XsFUAul2PhvbopJzH\n",
       "CHm5WU7XHBvMADkzWtA6IKf9hhCWVEF4uOXGbtzZpZ7SEz0zZLCXDv/6/pykt8L7NOuGPNlV32HR\n",
       "sFUALLumfDvA71toR8YZ/G4+Kcc0oXiQrn9ut52T/x4Utj6uXjXAM20z/E1HGHWWf86iYasAnGy9\n",
       "azna2FKBgjBQ1p9z9xPCOhdnGGuodOQHway+rx5zHiyYGrYKwMuedS1HZ38Q/qoIYXSx/xDKizyu\n",
       "F/JzoXJK31cfdC7SxE0NWwXgZGRTv3I5Yuug9hXRF/vxpzuuz3lUXLX+RrMoFOLDIFMjklUu52r6\n",
       "Dzn8hTDgEtNH/bZ3ombnjPDj+DFtNywcm8ePaT+On3QHkguGoKJvu42V3/8vrbMsRwzcv00AAAAA\n",
       "SUVORK5CYII=\n",
       "\" style=\"display:inline;vertical-align:middle;\" /></a><br>(see <a class=\"ProveItLink\" href=\"../../../__pv_it/theorems/0a823abd8f8569505b650552d885a0be8064b1e60/dependencies.ipynb\">dependencies</a>)<br>"
      ],
      "text/plain": [
       "condition_merger_reduction: forall_{m, n in Natural} [forall_{a, Q_{1}, ..Q_{_a}.., Q_{m}, R_{1}, ..R_{_a}.., R_{n}} ({a if Q_{1} and ..Q_{_a}.. and Q_{m} ,  R_{1} and ..R_{_a}.. and R_{n}. \\\\  = {a if Q_{1} ,  ..Q_{_a}.. ,  Q_{m} ,  R_{1} ,  ..R_{_a}.. ,  R_{n}.)]"
      ]
     },
     "execution_count": 2,
     "metadata": {},
     "output_type": "execute_result"
    }
   ],
   "source": [
    "%proving condition_merger_reduction"
   ]
  },
  {
   "cell_type": "code",
   "execution_count": null,
   "metadata": {},
   "outputs": [],
   "source": []
  }
 ],
 "metadata": {
  "kernelspec": {
   "display_name": "Python 3",
   "language": "python",
   "name": "python3"
  }
 },
 "nbformat": 4,
 "nbformat_minor": 0
}