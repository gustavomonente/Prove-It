{
 "cells": [
  {
   "cell_type": "markdown",
   "metadata": {},
   "source": [
    "Proof of <a class=\"ProveItLink\" href=\"../../../../../_theory_nbs_/theory.ipynb\">proveit</a>.<a class=\"ProveItLink\" href=\"../../../../_theory_nbs_/theory.ipynb\">core_expr_types</a>.<a class=\"ProveItLink\" href=\"../../theory.ipynb\">conditionals</a>.<a class=\"ProveItLink\" href=\"../../theorems.ipynb#condition_merger_reduction\">condition_merger_reduction</a> theorem\n",
    "========"
   ]
  },
  {
   "cell_type": "code",
   "execution_count": 1,
   "metadata": {},
   "outputs": [],
   "source": [
    "import proveit\n",
    "theory = proveit.Theory() # the theorem's theory"
   ]
  },
  {
   "cell_type": "code",
   "execution_count": 2,
   "metadata": {},
   "outputs": [
    {
     "data": {
      "text/html": [
       "Under these <a href=\"presumptions.txt\">presumptions</a>, we begin our proof of<br><strong id=\"condition_merger_reduction\">condition_merger_reduction:</strong> <a class=\"ProveItLink\" href=\"../../../__pv_it/theorems/9db7bf6fd17209f523645fbaab94ab71fa2462010/expr.ipynb\"><img src=\"data:image/png;base64,iVBORw0KGgoAAAANSUhEUgAAApkAAAAyBAMAAADlxd1lAAAAMFBMVEX///8QEBCIiIhmZma6urrM\n",
       "zMxUVFQiIiJERETc3Nzu7u6qqqp2dnaYmJgyMjIAAAAcRTyBAAAAAXRSTlMAQObYZgAACVxJREFU\n",
       "eNrdm3tsW9UZwL/YvnbuK2GIdkpLJ9OMlolHDRUPQUvdIcGkScNpRRdNSDUpLaWCxgxUpg1Rwx+L\n",
       "O0B4m9QVEM2lQ6AFQVyqaGsFi1HHQ6WohgJCG1AjJKT2D4iSNmpKwTuv+z73+hjJ6Jovze25X75z\n",
       "fO7P5/F9x58BxKSr0ahCu0XLQueJkmedbzTOEa3Ttf8Jo+0dOwydKL9iVJ94Spxmrv3diuXd90dr\n",
       "HUFTr7OCFCmae923L1U7ZHA+GkWaynnu+2OOsrwIIDFUpHb9h1e21C7H/sPGptJjLbQRav9MNoI0\n",
       "uzPu+zcdZekswMCzJ6k+B8miA3RAc5beY0/lNMCfHQtLuUkbXnuXqOdEkOakEUwTyzVsAUDLlHK+\n",
       "re7J8Jsz9V57+uDTAMlT9v3n4W347N3yQARp3gvhNDfQ/z7D0Idt9eDv+c2Zeq893fDmAFJzNtwR\n",
       "I7QNr713HJQjR1OfC6Ep32LS1L7B1yP21Lx9Mb89pvfZ01UFPfikPf2TP0+HteGz90gqEzmaqSKH\n",
       "prziigW4vGsW1v5oOS6NFvB1leXnK/UUf+9heq89ld48qPMd7gMUwtrw2XsHwpnI0VzvDYS2ot/V\n",
       "5Z4pcvMFwCZSOEJG0eM5GGQhSEWrcOMqprfs3S9295IZpJLYO/g2+glpw7IP8hqmI0fzcu9OOQ91\n",
       "cxHE6QP/0aS5nXSkAWuvZkMa5Dp3qDO9ae+WZQZ8aoC0nA3JAuwOa8O0D5QvI0fTM5GkEbTUxc9A\n",
       "Ku2m2cAPpc4C3ETt3gPYyGvO1Fv2LnkITV4UHCQoTT0NyVxIG5Z9kCwrR4ym9I1HkUBjs6sI4zk3\n",
       "zXvIoDlj0US77jpee6besncJojuat2im0DDNh7Rh2QfJaC1iNGM+/2MzwHgVJsFN8zYyFtImTRVt\n",
       "pz0c39vSm/ZHP1icWbzR8dZNZiya+9Dv8ZA2THt95Zp+Pp18xGh2+7qC9vTxCmxVyy6a6409F0oz\n",
       "YNLET6ty/HdLb9q/vwjmG0vMt+4U3p4Uk+ZxRjSoDdNeX13r4kZN3YWI0ewqcmh2p/VtGrkpkX/4\n",
       "wdI17VjVojnIZiQo36LLeJ0VbD2zl/cU4CSsoCaAHYXJ9FOMJtnZU4azPrGy2jDtn1wKvWQvGvds\n",
       "fNoUo0n0n4jQ7CELdrtOycYzHJrK0IU7f4rL6xpbdjboscNv7lq6A3ImzdvxhfjY2zCSPCs49Mw+\n",
       "mUYP+wdkgvDEv5qtgfZwmtFMZgl1Z31SsNqw7IdgNV1oPWuoforRJI7WCRGaxPfqMdrlbqahSWRp\n",
       "Ry45vWzSJE6q5Ldx6ol9Vy5WlKfQu3DAudMRmglSzoW2QWUerJC4W+g0o7kLRxxFEZrEalfbzjx8\n",
       "PvhrwYdNv0DXf7ZwOIXsR9Ho1ItoiXA6OmqhpT7KU3DfBNd9n2E08WDjRxO+dfMEiRraJMd8Y+NY\n",
       "kGm8gSbWX7cPiTZN7G9Em4p8lwGKYw7IV8+mW+ljIg+X8Fe6WUZTPzQ29jexXejjsbF/FNpFc5lv\n",
       "s+wJcpeleyotNe2y19vS+9Pmnn66VHpAjGZvqTRSbRfNI/4FeV9nfC6E5ScmTeTR7hCjiaKvbscI\n",
       "6j98Lc/SrU48vmEzZzb51asM6GD5sUnzBlDq/Aly73/ggryDZiIDL9l/3p2FAQ4Br/pd62jaJT71\n",
       "cCfDpPErppmCGGdGvXBwJfxLM+KG03svwKX2Ct6Hlnd/6OpTXwVwB+flfeofCE2txjlu1R950oBX\n",
       "0xnNFQu94zhUTaG3QPeHUj71bwHO5by8T93ZM/1+k6ZcXwckno8twcRoZH8D/uvExF/cNHfjkxbl\n",
       "iq24fAGOH6Z8zXrVyin4O2fd9KuPlMN6G/VEBWsXgh0ogsLx/BaSa0Eje7KSTmgv3uqi2b0ThQfP\n",
       "59bjYfQFduTqkPQMKaa2t5vpfjT3YYt3F6Jqp4cUdhAQ+USF+RbNfWj64ng+G8d9JpG9QoLmCage\n",
       "dNFU8Xn3cvg1VpzFyqr0mocmVTvOA+qAKt26wPPqVO3y1bNhrr1zZW4xUeE7Jifow7ObS8IzYsai\n",
       "2Yun3BAMQIo4uTiyl35XKj2MaD6dcp8h4XB0IZBzrXPpxpzy0GRqO6qrEhTeT2mZ2hlZhtEUTFTg\n",
       "1xVITuBJbxHk+YIwlbMWTd0g8fxFMCpZkX2ejs3EGjfN/6KKc/DYGCpuUv4nn+enSdX6dZ9c+Qqp\n",
       "0VshH/h4aVL10Vc/tk89aoI0sQQkKnAXibpAckLQMcyw4DmkdephxfND8JEGuwwa2b+Ole+jYNJ/\n",
       "vtknnazJf4Jn1uj/zhKa6AZVYxeqVi+DhWoVaQCtsXdIZUzTtrHULxdtd6I30wLNgEQFnogkJwSG\n",
       "utvLYjTVr100UTx/HHYegoEKjey70aRPPJiFpJ/mjRf316SFoFzzRl6mH6kshIGy1IcvlnqjUogj\n",
       "N76ibb8TBheTsTlQoTZ9tjqZG7Rdq7ogzZBEBY4IJSdw5SEE6bTgTNfmXDQtMc8HLkLrpjeydL4Z\n",
       "uHL+aTrTVb+6oGZSqt0amekV34uk4FJrtYxPNaHZPFGBJ0LJCUHHQnvzgjSTU1yaajkkTnfIfvx4\n",
       "3y4Aadl19MatVvKxbPJndmtrZiqOpq3Sc/CKtVrqno8VtS+J0PkvlqjAPUwxbdxrojs5gbsUzr43\n",
       "fKXolk4/hvHR1EGMJoEwknXc+NWe1vTwF5G+DlmWxBIVeCKUnMCT2BnQT4jSHE3zZ7ogzXY5wPxh\n",
       "IpiowBOR5ASu4KX1bGuHs1GiuSr4T4KJCoHHEU2SE/juZh7kWdG+j0DUaN6c5a2bdB8QSlTgikhy\n",
       "At/drIGKIhxcr3nfo5fVlcqE7unNExX4UASSE/iTNwfaNBioXl/Trseil3Ho3dQ9NJslKrgSC0iB\n",
       "XJomJ7jN7fSGr9ByOy3vR/VIv6gyCE4+cjTh/FCazRIVcNaBJ0PhfgOaJydY9ezKuN71jbsB3kIB\n",
       "RjpBGW0L6XkEM7V93yIIiSxtt9lOVDjgd6wM2yY4OSGwHnvueLXpo7PvIESKZk/wwimSqOA/AtUc\n",
       "NsHJCYH1qCcJqV82e3R1QQRpyvOEzjddYicqOLMOmOxx2AQmJwTXo6cSEHunWccj+e2rkFwYgUQF\n",
       "ToBV89rwzILrCcsGiCLNePAhQ5QTFfRi6zS/j29UD0Enynf5RvX38W3/eLYDYSrsE0T8bf//A1hk\n",
       "LHTWU4dJAAAAAElFTkSuQmCC\n",
       "\" style=\"display:inline;vertical-align:middle;\" /></a><br>(see <a class=\"ProveItLink\" href=\"../../../__pv_it/theorems/34730de8038f9b930c45bc512fde576dd73cf54c0/dependencies.ipynb\">dependencies</a>)<br>"
      ],
      "text/plain": [
       "condition_merger_reduction: forall_{m, n in Natural} [forall_{a, Q_{1}, ..Q_{_a}.., Q_{m}, R_{1}, ..R_{_a}.., R_{n}} ({a if Q_{1} and ..Q_{_a}.. and Q_{m} ,  R_{1} and ..R_{_a}.. and R_{n}. \\\\  = {a if Q_{1} ,  ..Q_{_a}.. ,  Q_{m} ,  R_{1} ,  ..R_{_a}.. ,  R_{n}.)]"
      ]
     },
     "execution_count": 2,
     "metadata": {},
     "output_type": "execute_result"
    }
   ],
   "source": [
    "%proving condition_merger_reduction"
   ]
  },
  {
   "cell_type": "code",
   "execution_count": null,
   "metadata": {},
   "outputs": [],
   "source": []
  }
 ],
 "metadata": {
  "kernelspec": {
   "display_name": "Python 3",
   "language": "python",
   "name": "python3"
  }
 },
 "nbformat": 4,
 "nbformat_minor": 0
}