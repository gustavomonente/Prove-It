{
 "cells": [
  {
   "cell_type": "markdown",
   "metadata": {},
   "source": [
    "Proof of <a class=\"ProveItLink\" href=\"../../../../../_theory_nbs_/theory.ipynb\">proveit</a>.<a class=\"ProveItLink\" href=\"../../../../_theory_nbs_/theory.ipynb\">core_expr_types</a>.<a class=\"ProveItLink\" href=\"../../theory.ipynb\">conditionals</a>.<a class=\"ProveItLink\" href=\"../../theorems.ipynb#condition_with_true_on_right_reduction\">condition_with_true_on_right_reduction</a> theorem\n",
    "========"
   ]
  },
  {
   "cell_type": "code",
   "execution_count": 1,
   "metadata": {},
   "outputs": [],
   "source": [
    "import proveit\n",
    "theory = proveit.Theory() # the theorem's theory"
   ]
  },
  {
   "cell_type": "code",
   "execution_count": 2,
   "metadata": {},
   "outputs": [
    {
     "data": {
      "text/html": [
       "Under these <a href=\"presumptions.txt\">presumptions</a>, we begin our proof of<br><strong id=\"condition_with_true_on_right_reduction\">condition_with_true_on_right_reduction:</strong> <a class=\"ProveItLink\" href=\"../../../__pv_it/theorems/695b8856d6a8b47b2d24099c628c4cac25e791900/expr.ipynb\"><img src=\"data:image/png;base64,iVBORw0KGgoAAAANSUhEUgAAAdYAAAAyBAMAAAATludJAAAAMFBMVEX///8QEBCIiIhmZma6urrM\n",
       "zMxUVFQiIiJERETc3Nzu7u6qqqp2dnaYmJgyMjIAAAAcRTyBAAAAAXRSTlMAQObYZgAABmtJREFU\n",
       "aN7Nmn9oG2UYx58kvSZ3yaUVXMXa6tFtnf81OnEirc0Qf/wzTTfsqhMa4zakjK1D3UAny18u1YkZ\n",
       "Qu32T+MqigWXuP4hyqQVEaEOGlcHQ5FGnIL+MbJ1lq3bjO97915y7917d+nSu/ahvR9PvnmTz3vv\n",
       "Pe/zPjkAG7uvdBNqsVAUVtSEuLKfKV221d5z/ERNn3WWPp3Nuw37jLL77PgXttI1tX2SN06dnppy\n",
       "/cKKBXLQ4zSrrjPnNMd8K0BdIqmMtLVnu5Y0Mo36TQexHTBqj7rEKtxJn/+gOeZQIOj5+Krij0F9\n",
       "UtMNJs2V/To9sdPMN30UdYc1EDFnxfYIGdponAktFXc4wm5O9ev1lqzBRndYJzPWrC8ru9+xbF/F\n",
       "3fcGuznVr9dbssIhd1hfBXNW/jmVNXRLnhXS5Zd2trGbI36D3pp1Mu0Gq3idwcp3PtiMj0cWYNsd\n",
       "G/HR6CDedpdnYqHgZ9/9xK/X27D6I26w+vXxYy/635wOF+WTvwB2K/O8hLfvx6CP5B+5UI6ZlxB/\n",
       "WV8dq7joBmu/ruuDqDWhFXxKF7ytsh6Wv3UJtm0iXQR8gdl1xK/qq2QVrrjB+gB9yh1Bd45vEfwS\n",
       "zVrCoSa4APCUojsHsIvVnOov66tjhUtusDbpzutQa54kZGM06375oi2WWVG07WU1p/rL+ipZO9LO\n",
       "s3K39J5XALJTMAk060vyF5JU1iCKJeE0Y6JU/ap+9nxbpG2XPeto3nlWrz4M4ziczcHeYJpi7c+c\n",
       "XM/Ng8qKeYKMbKLsV/U/t0JTpt2e1RN3njXQyGANSOKBkHySkv9wn0j50NxUmbWPjFcQ/kObbIEc\n",
       "VPxEz58chKvQqUi0rFldZAsMKqyy+zdLVjuJqXmSDFYhsX54HT7uLQ0Ml96T3S/s2TAEMZV1J97I\n",
       "WQPO5P1xcqDxE329xDXCm0hC0qktaryO6+aqosL6I979Y8lqJzG1bATAOkcsW31MTKus8kTFGTVa\n",
       "v6z3xLxJvoj66GublOZfhXUEZzJJS1Y7ifn0Kuk935ovEp5G2y+XsKhA+lF0ZcUkGvw2q2LuisIa\n",
       "zuB8xJLVTmKe+RveNGcm9ZVQ339wOFFt07L+SRSu+D0ZECSbleW8wipOj49/aB2b7CSmNmfI4sJm\n",
       "V4Dbv7TOpPSinXqBxOFrqdQhmzhsIzG1DuMkOeF6vQnbNcKK5uIhG1Za4u38LsOaTI3umQysDruX\n",
       "sD6Olkr0K9s7o94mLSsl4S8C18wojzDc3auF9S7C6gevZlwJZzbmg8lpeFTLSkmOoYH5sLE5lnvf\n",
       "KkFVEmjEGsprF8YXvhqH4DlfJYpjVkryFvr/ydgcy73qWPkCWjuIXVvXettjUIdn/+CO5yWKVZbA\n",
       "WPuf+LbEeV+H8W5lua3HsItl8YNqPjyEci9xc94z4I1DWF5PxKbPU6yyRHidw6uoMM6/HgMY0E0m\n",
       "xE3HprTF57tZFldjE0ygzPjEBmiI+qZgTGENhSIUK5b4IhxOoRvwV2yBF3VxiLh1c07MavLVBrbl\n",
       "LYuz19GYtQFnHQl06M/B9lQqJQVjfH6QYsUST07+vcKDDsVGZb2hTfOJm8aJWny+s2Vx2uZVVjEj\n",
       "I90PoxzUK9cVnpAoVizJpgO/oF19/PPcsaiBlbhnv5nd8X0lR6yWFdvylsXpS39Tu37li+jKXghB\n",
       "CI86MQrilGH96kn3b4GRjLBG+vWiso4cyfDvqBviPl3w5M5Ucv/8EliXtyzOzP1JISgOf8PwNMC7\n",
       "eMWMvnTcwFqXON0FPTkYO7ob0jJrT467G3rSeKO662OfwkOVmzhSJevyl8Xp4s0NZl3Ci+5Xq7oE\n",
       "zrh7+bwyhnMGtx8mYLDs9hdsWJ0ri9Nr9eu3U4ORC0WjaNxsnc8pJ7T7E1gHibLbV9R95iXZlKvt\n",
       "bFmcDibF22GVV0+B1/RLKcqtUS9ajCtny+KMWpDDNdMb5i85XBana6aS86yGWrjGHC6LM9bRDrN2\n",
       "M+9XJcY7Wxan7Ai4wPps1DIOO1gWp8yV3678EUtWB8riYKyEg9eV3yStArEzZXEwVsLJTxyOP0PQ\n",
       "Un2OWJkNayqLs0q3rjxDYHg2RGMOlcUZ9ge4whqOVLV+paymsjgra2l2h5U3f7szZXGGufUsl9VQ\n",
       "dKssThaLzrP64itdQxSTVbPW+kxtYqVZl/BMba3PSvuiK4sqkILnTOny/0zrTUWDPDqBAAAAAElF\n",
       "TkSuQmCC\n",
       "\" style=\"display:inline;vertical-align:middle;\" /></a><br>(see <a class=\"ProveItLink\" href=\"../../../__pv_it/theorems/8c5967a832fd7844bd2fb836bad34ba9b90a5e260/dependencies.ipynb\">dependencies</a>)<br>"
      ],
      "text/plain": [
       "condition_with_true_on_right_reduction: forall_{m in Natural} [forall_{a, Q_{1}, ..Q_{_a}.., Q_{m}} ({a if Q_{1} and ..Q_{_a}.. and Q_{m} ,  TRUE. \\\\  = {a if Q_{1} and ..Q_{_a}.. and Q_{m}.)]"
      ]
     },
     "execution_count": 2,
     "metadata": {},
     "output_type": "execute_result"
    }
   ],
   "source": [
    "%proving condition_with_true_on_right_reduction"
   ]
  },
  {
   "cell_type": "code",
   "execution_count": null,
   "metadata": {},
   "outputs": [],
   "source": []
  }
 ],
 "metadata": {
  "kernelspec": {
   "display_name": "Python 3",
   "language": "python",
   "name": "python3"
  }
 },
 "nbformat": 4,
 "nbformat_minor": 0
}