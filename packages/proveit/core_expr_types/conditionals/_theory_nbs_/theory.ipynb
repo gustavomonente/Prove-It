{
 "cells": [
  {
   "cell_type": "markdown",
   "metadata": {},
   "source": [
    "Theory of <a class=\"ProveItLink\" href=\"../../../_theory_nbs_/theory.ipynb\">proveit</a>.<a class=\"ProveItLink\" href=\"../../_theory_nbs_/theory.ipynb\">core_expr_types</a>.conditionals\n",
    "========\n",
    "\n",
    "Theory related to **Conditional** types of Prove-It expressions.  A **Conditional** has a *condition* and a *value*.  The expression evaluates to the *value* when the *condition* is satisfied (evaluates to true) but cannot be reduced if it is not satisfied."
   ]
  },
  {
   "cell_type": "code",
   "execution_count": 1,
   "metadata": {},
   "outputs": [
    {
     "data": {
      "text/html": [
       "<h3>Local content of this theory</h3>"
      ],
      "text/plain": [
       "<IPython.core.display.HTML object>"
      ]
     },
     "metadata": {},
     "output_type": "display_data"
    },
    {
     "data": {
      "text/html": [
       "<table><tr>\n",
       "<th><a class=\"ProveItLink\" href=\"common.ipynb\">common expressions</a></th>\n",
       "<th><a class=\"ProveItLink\" href=\"axioms.ipynb\">axioms</a></th>\n",
       "<th><a class=\"ProveItLink\" href=\"theorems.ipynb\">theorems</a></th>\n",
       "<th><a class=\"ProveItLink\" href=\"demonstrations.ipynb\">demonstrations</a></th>\n",
       "</tr></table>\n",
       "<h3>Sub-theories</h3>\n"
      ],
      "text/plain": [
       "<IPython.core.display.HTML object>"
      ]
     },
     "metadata": {},
     "output_type": "display_data"
    },
    {
     "data": {
      "text/html": [
       "<h3>All axioms contained within this theory</h3>"
      ],
      "text/plain": [
       "<IPython.core.display.HTML object>"
      ]
     },
     "metadata": {},
     "output_type": "display_data"
    },
    {
     "data": {
      "text/html": [
       "<dt><a class=\"ProveItLink\" href=\"axioms.ipynb#true_condition_reduction\">proveit.core_expr_types.conditionals.true_condition_reduction</a></dt><dd><a class=\"ProveItLink\" href=\"../__pv_it/axioms/4824875e06a6fed3cc7aca6f47ce7a8c7c66d85b0/expr.ipynb\"><img src=\"data:image/png;base64,iVBORw0KGgoAAAANSUhEUgAAAKAAAAAVBAMAAAAz5vjYAAAAMFBMVEX///8QEBCIiIhmZma6urrM\n",
       "zMxUVFQiIiJERETc3Nzu7u6qqqp2dnaYmJgyMjIAAAAcRTyBAAAAAXRSTlMAQObYZgAAAgJJREFU\n",
       "OMtjYMAOLl9goBrgBJq17gBZWrknMDA8ADHuIouuAOL7yBbIMjCwJDUAWeblIFCGx8RMBobTIPoV\n",
       "suBLID6OxGf9w8AQuOQLhLMJvxPXMTDMALmhAUmM1wDNQBCwgDEIGMijwMC3AEhtQBJjn4DFwGQi\n",
       "DeQSYOA9tWrVdGQxMAfZQM5Q4g1keMLA8KOjowZZSBlmIKeNkRSIPeMbQ7CgMUEDJx9WBHr2MAND\n",
       "KgNDJ7JEL4jIA2LHCXwfwCLPGBjSsLvw3DsQeAxiskgyvAdS9xgYnBm4HiArqgalJ1FgcMgyMEMi\n",
       "qw2ngUhg4QVwzG0HRgIDE0quEAEmlHZgxDD/YmBXIN5A+wUMRUAqHhjFF9gZ0AxkYAG6kLGBYX0A\n",
       "8QZKMHB9hRjI+SAMyFis9hTJywwZDAzrDzDsZyBgICQMn4HSyx8GblCIuwNxZwqQX8r6CzlSgLG8\n",
       "fgNDHihvEudCrt8MbA92giOFYXMBMMAMWAugUoehBnIo8JbxgEU6wAjVwPUP0ExsYrieACxRbIBM\n",
       "fmDQM25gSoDKuEMN5EpSnaYCYof9z5r2vxcq6wvLTwloBi5TikxyYGAABRwvMD2un8BxawGerEcs\n",
       "4IL5k3FCvC9y4XCQTAN5FKAMlqRNtjDBTrTykBSwDpsgqIDlI6/ERs3EyFUAw2ay6hTeCQwAbxaM\n",
       "TLGnqskAAAAASUVORK5CYII=\n",
       "\" style=\"display:inline;vertical-align:middle;\" /></a></dd>"
      ],
      "text/plain": [
       "<IPython.core.display.HTML object>"
      ]
     },
     "metadata": {},
     "output_type": "display_data"
    },
    {
     "data": {
      "text/html": [
       "<dt><a class=\"ProveItLink\" href=\"axioms.ipynb#condition__as__condition_eq_true\">proveit.core_expr_types.conditionals.condition__as__condition_eq_true</a></dt><dd><a class=\"ProveItLink\" href=\"../__pv_it/axioms/37cd220b7cc416ed982feaa29ef32419f90a57b60/expr.ipynb\"><img src=\"data:image/png;base64,iVBORw0KGgoAAAANSUhEUgAAAQMAAAAyBAMAAACqrqNEAAAAMFBMVEX///8QEBCIiIhmZma6urrM\n",
       "zMxUVFQiIiJERETc3Nzu7u6qqqp2dnaYmJgyMjIAAAAcRTyBAAAAAXRSTlMAQObYZgAAA+lJREFU\n",
       "WMO9mU1ME0EUx1+py3b7qYkQQyRpouixVRP1AILx4oVYYuTgpbUqMcbwERQvGnsSSDSWC3KjEcOB\n",
       "RFvKwSMYDyZKbI0Xo9FCRA4eDPGDCIp1Zku33e3OzO64ZUJ3Z3Ynu7+ZefPe+y8A9OJug+qVSUO9\n",
       "5tXNN1krEbYtGOhUE1E1H89ZOw0fDfSZVjdzZXWpEQ0jGpPrzj3zLTwIDvaQnDvV7edldeEPQMfD\n",
       "H4XrIaiNcSBon69HGSQj4HJ0c33Qmjp380zDNLPHbIKOcL5wWsTdengQROZK9AMZQTpTRHBv4GMm\n",
       "zoHgWmN08KzpIEjNBxtwfWwVTu84hGvjvfjYyuVB+lnTpDWxbvQ7HveuyI1lgC65kvHj470QD0Iu\n",
       "Qb8f1gzMVYfMrhHsBbLbRYRb8svzXJ4h6affP6BuCoNoue3rIPrVCHk8EtcqF4KX4SDrtQ4VzYIt\n",
       "BsmQGqFPXrR1LoQauj0KG9orl9DMzcEsqBHO4UPAz4UgbZgkRDsimYJuV1yFEE48aBK+c4aJerpv\n",
       "3K6D4PB7BtxyY0j+w6j+rDtX8DHOv2YRBgFkc/ige9cW00FwRptG9+J6Z/7yaP6ufPnslf3DUDCQ\n",
       "AbMIGYCX+PxFf8MEAegOWim1IU+cbyFyIRjDNqEf5cIVFvaUHM9OctoCeokXbWp3Sj9IVVzOkR5k\n",
       "z//kREBT7XkxNXWfOEdaR0IKbEJfihPBh/KyX0NDN/TvBiqXd8bS3FFGQEZwEWC4zBc0P1MCRyYB\n",
       "1S82tCVPgLPkp6UlEBqKjdYtQUCRXoSa0uyOoLk/XGz0bAEBiMj/ubNi6cJN9Hu95QjSQieqTez7\n",
       "jC0Bu+SAsYWwSNWIOOUavoDc7jUBB1svVi7HFHOkOTyrVA02R5hBHPaggGl8+LlKNh6gpWJmVM2R\n",
       "67johw8bHrUP+WFbSpZuNlT1KPExR0tITaqaNNEv4EDkQUuejDveoVNt5FFqRHnxrFEEA6qGiJAs\n",
       "LqgtHm6HsYSzzv9+qRRBsiYQGKomTQlTm1lhNN0CHSmYuNMFcdUcGUEwoGqICJpYiFudkjJ2cYGB\n",
       "YELVEBHUuHJKOL6oeAP7iuaLy1e5BI2pmldy508sBPWieeTk42qpTcnLzaoaIsIuehL/m3zLrKoh\n",
       "IUjfuBNss6omzSdloFXXFiLGVE3BFpYZCI5eOsKpNuqOMKNqSAg+hggTg1QEuqrRR0hqNnqAkRbR\n",
       "tgRb1ahKe3FUETN6rjxosh00n6phfuip+NxluarxBv+jhzWqZpqZIUt1ZDorVI2BT5/whHzLClVT\n",
       "G2T3sUeqmj6/NdIpWk0CQ/8MAHtbFREmZWP8B2A+OpqYYZS1AAAAAElFTkSuQmCC\n",
       "\" style=\"display:inline;vertical-align:middle;\" /></a></dd>"
      ],
      "text/plain": [
       "<IPython.core.display.HTML object>"
      ]
     },
     "metadata": {},
     "output_type": "display_data"
    },
    {
     "data": {
      "text/html": [
       "<dt><a class=\"ProveItLink\" href=\"axioms.ipynb#conditional_substitution\">proveit.core_expr_types.conditionals.conditional_substitution</a></dt><dd><a class=\"ProveItLink\" href=\"../__pv_it/axioms/2ec1837e4b6ed7faabdf20afbc4df882ff7732e30/expr.ipynb\"><img src=\"data:image/png;base64,iVBORw0KGgoAAAANSUhEUgAAATsAAAAyBAMAAADRimGIAAAAMFBMVEX///8QEBCIiIhmZma6urrM\n",
       "zMxUVFQiIiJERETc3Nzu7u6qqqp2dnaYmJgyMjIAAAAcRTyBAAAAAXRSTlMAQObYZgAABd1JREFU\n",
       "WMO9mW9oW1UUwE/SvPx5+Te11bWb0DXYCQrNLIwq2xoQyr7MpYqd+iWxatEy106dyFAWNrAtWJYh\n",
       "ar/o3lbptDCbuQ/iB1204EArjfjB6XDJ2PTDxFpqV9d0XTz3vrx/yXsvTXvfLulN7u3Leb93zzn3\n",
       "3HMCwLz5IiykjIFFbUo7/DmzKimOnDV09rhm+Fl6lXIuWYN3RjvMqgfHcCU77hc/n9w2abqu7rQV\n",
       "dHytdnxePYilgWvYTW3TdwDgxWoEsWnusAketpqEePMZ7E6kq1ADm3ZOMMdziviBBvJ51kySywrt\n",
       "vgomeO9FJbxpYne+RTNJ3kX2dP5FPbx3JzeRRfUcjXNb7iJ8nv+oouerelIGzZUomdhH9rB6+EdU\n",
       "aRycdN/xzVE7vW4qKyswx4uVhAxvHXGBDLSJfiPhuShY0NT2YKKROd4W7ZAbSGLfLsArWrxgnrpR\n",
       "3FRWgH3guLs0NpHVWw/89ZLVW0f6Q+baszP3DW65dAa3Xv4meGe1eE6CZ58zF+ZZZh5wyx4YPZdf\n",
       "AmfuSw0el+eborFwlapYe8xYp4MHh+GXON1j3QnyIq3JDz/eFOPHLUNpAwDU/H5nhWdL6OGNNT3d\n",
       "TTya61v4tO8GPQhwY9++keToFa8bSpsG+IG8X2OFNxEGMA9qSnsBfq0gLRuFEWKDCWbbXtlW9Y3h\n",
       "tUccicrSAujcvhSzA0GZpKzhte2FaGVd+L8fH/+AmWtky+4YMDx37NlQSVoQvfzG4OCbzPBakmVT\n",
       "ZzOrlhZMEAuFoSq/VsLAqXyNaRS34bbyKPBybHPMFHfXbZP0Po7ifGjqEXWmqBbxWA68yjGgnS1e\n",
       "P4Y/sCvLPylGk6uYEtBtVJz9KAKdqvu+pMlqcSt5WB71sT2d4Sbvy7iUib/EhAq1t1XB89TjyVE5\n",
       "XHAaYw+k1CkzezxPrkuZEEPmW/j3k4LnwtX102jlJevs1HhnEB8lkFyZcqvNyF2oXBh6HrvR5j/I\n",
       "wsw1o3w7QWlR8DYRa5yV9YqLzT+0T2KMNfWqrGM6aXK3qjNy4hpwFhn5Axw5INoP2sP0yA2wQ8H7\n",
       "k6QFOd8gtsvoBbhLnorGBCcZD8NmIQReWfMtZjst2aE/uUe0l3vR77qLOWVoarsBHpEbxEBUE+bI\n",
       "Qrob/QgcJE+5UcEjJwtb8clDEdgJ0Ap7JBGH4RIo0SlrVv6h4feKaL8os/NjMRM6j+mbfngLkgju\n",
       "R33aUrQ0YosQF7A1SrYm4t0pmSI5fPRCB8AGaJZE1KITcfLOdK4i3pI8bCuqHL/Mb9QPapI1TCTd\n",
       "vyFlULChIzrjp1PHIgpeD3/RUwv2Vmxbcf97CvhFGB53zmD7G/LI6pCVG8tUwHPk5eFz4ttlwdDj\n",
       "5QOGLRnbBSOCS7iAPV/XePEqKHgnHvd/jbTj2JpweAqgnpuXOA76E+BPa9RhhufrF23vSQnPt2zs\n",
       "UvIBw9H9+XboTHF709jD6Ds9YuAS8fi27+IeUSpZJpcAHQ+EJLyuKbRcWaWuXAW8QHeI3HNkAZ64\n",
       "o5VMHqe87bpGUQKdkvsuT0YVNYCLfyji0YhXdmgKKAWekszVN0NbWM7IJ67xi8XdoEdEoAo8quvx\n",
       "WpV7k3J/nFqEjOe51aC6rszNvlJqGHmTmkmdWCGi+dnbEt4hClbQ/cZ6bX1E6d2vgRoPBtSLv6u0\n",
       "EqcYHLdknGPSjHwHSSvVeAWyDt4F3USyQqIJNfrLUGLHdmFFuR/NyK+AY0mDt5+abP72pOHQrmt7\n",
       "cSkjh2WoyWvwnqXBRrea4u5njrc7Yu6586QepMaLCSfv4/7VDxrsS0CusDney3CEfh6kL6LBxowv\n",
       "m9ZNyFvYF9DMXJfgjT5IF6+r0Pt+YZjOPrN38xBE9RJy5jUM6ShhEnN1mjPqT96m4m1Z6XsFGbk7\n",
       "vFO3vBe2AM9EqFFGXlPQLeKeESzA89QZkxuclrn9elUKa352gS+M/1VVRu4MW4KnyunW1C6ANa2b\n",
       "iRSrfjBVnf7W0saoY/wPLTmBNLmQi74AAAAASUVORK5CYII=\n",
       "\" style=\"display:inline;vertical-align:middle;\" /></a></dd>"
      ],
      "text/plain": [
       "<IPython.core.display.HTML object>"
      ]
     },
     "metadata": {},
     "output_type": "display_data"
    }
   ],
   "source": [
    "import proveit\n",
    "%theory # toggles between interactive and static modes"
   ]
  },
  {
   "cell_type": "code",
   "execution_count": null,
   "metadata": {},
   "outputs": [],
   "source": []
  }
 ],
 "metadata": {
  "kernelspec": {
   "display_name": "Python 3",
   "language": "python",
   "name": "python3"
  }
 },
 "nbformat": 4,
 "nbformat_minor": 0
}