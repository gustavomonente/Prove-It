{
 "cells": [
  {
   "cell_type": "markdown",
   "metadata": {},
   "source": [
    "Theory of <a class=\"ProveItLink\" href=\"../../../_theory_nbs_/theory.ipynb\">proveit</a>.<a class=\"ProveItLink\" href=\"../../_theory_nbs_/theory.ipynb\">core_expr_types</a>.conditionals\n",
    "========\n",
    "\n",
    "Theory related to **Conditional** types of Prove-It expressions.  A **Conditional** has a *condition* and a *value*.  The expression evaluates to the *value* when the *condition* is satisfied (evaluates to true) but cannot be reduced if it is not satisfied."
   ]
  },
  {
   "cell_type": "code",
   "execution_count": 1,
   "metadata": {},
   "outputs": [
    {
     "data": {
      "text/html": [
       "<h3>Local content of this theory</h3>"
      ],
      "text/plain": [
       "<IPython.core.display.HTML object>"
      ]
     },
     "metadata": {},
     "output_type": "display_data"
    },
    {
     "data": {
      "text/html": [
       "<table><tr>\n",
       "<th><a class=\"ProveItLink\" href=\"common.ipynb\">common expressions</a></th>\n",
       "<th><a class=\"ProveItLink\" href=\"axioms.ipynb\">axioms</a></th>\n",
       "<th><a class=\"ProveItLink\" href=\"theorems.ipynb\">theorems</a></th>\n",
       "<th><a class=\"ProveItLink\" href=\"demonstrations.ipynb\">demonstrations</a></th>\n",
       "</tr></table>\n",
       "<h3>Sub-theories</h3>\n"
      ],
      "text/plain": [
       "<IPython.core.display.HTML object>"
      ]
     },
     "metadata": {},
     "output_type": "display_data"
    },
    {
     "data": {
      "text/html": [
       "<h3>All axioms contained within this theory</h3>"
      ],
      "text/plain": [
       "<IPython.core.display.HTML object>"
      ]
     },
     "metadata": {},
     "output_type": "display_data"
    },
    {
     "data": {
      "text/html": [
       "<dt><a class=\"ProveItLink\" href=\"axioms.ipynb#true_condition_reduction\">proveit.core_expr_types.conditionals.true_condition_reduction</a></dt><dd><a class=\"ProveItLink\" href=\"../__pv_it/axioms/051785b9752a0fb83d3b0433f9676c4b4c0904fd0/expr.ipynb\"><img src=\"data:image/png;base64,iVBORw0KGgoAAAANSUhEUgAAAKAAAAAVBAMAAAAz5vjYAAAAMFBMVEX///8QEBCIiIhmZma6urrM\n",
       "zMxUVFQiIiJERETc3Nzu7u6qqqp2dnaYmJgyMjIAAAAcRTyBAAAAAXRSTlMAQObYZgAAAgJJREFU\n",
       "OMtjYMAOLl9goBrgBJq17gBZWrknMDA8ADHuIouuAOL7yBbIMjCwJDUAWeblIFCGx8RMBobTIPoV\n",
       "suBLID6OxGf9w8AQuOQLhLMJvxPXMTDMALmhAUmM1wDNQBCwgDEIGMijwMC3AEhtQBJjn4DFwGQi\n",
       "DeQSYOA9tWrVdGQxMAfZQM5Q4g1keMLA8KOjowZZSBlmIKeNkRSIPeMbQ7CgMUEDJx9WBHr2MAND\n",
       "KgNDJ7JEL4jIA2LHCXwfwCLPGBjSsLvw3DsQeAxiskgyvAdS9xgYnBm4HiArqgalJ1FgcMgyMEMi\n",
       "qw2ngUhg4QVwzG0HRgIDE0quEAEmlHZgxDD/YmBXIN5A+wUMRUAqHhjFF9gZ0AxkYAG6kLGBYX0A\n",
       "8QZKMHB9hRjI+SAMyFis9hTJywwZDAzrDzDsZyBgICQMn4HSyx8GblCIuwNxZwqQX8r6CzlSgLG8\n",
       "fgNDHihvEudCrt8MbA92giOFYXMBMMAMWAugUoehBnIo8JbxgEU6wAjVwPUP0ExsYrieACxRbIBM\n",
       "fmDQM25gSoDKuEMN5EpSnaYCYof9z5r2vxcq6wvLTwloBi5TikxyYGAABRwvMD2un8BxawGerEcs\n",
       "4IL5k3FCvC9y4XCQTAN5FKAMlqRNtjDBTrTykBSwDpsgqIDlI6/ERs3EyFUAw2ay6hTeCQwAbxaM\n",
       "TLGnqskAAAAASUVORK5CYII=\n",
       "\" style=\"display:inline;vertical-align:middle;\" /></a></dd>"
      ],
      "text/plain": [
       "<IPython.core.display.HTML object>"
      ]
     },
     "metadata": {},
     "output_type": "display_data"
    },
    {
     "data": {
      "text/html": [
       "<dt><a class=\"ProveItLink\" href=\"axioms.ipynb#condition__as__condition_eq_true\">proveit.core_expr_types.conditionals.condition__as__condition_eq_true</a></dt><dd><a class=\"ProveItLink\" href=\"../__pv_it/axioms/6b14be0fc831f4c44a3fdd13423b085f378d5ede0/expr.ipynb\"><img src=\"data:image/png;base64,iVBORw0KGgoAAAANSUhEUgAAAO4AAAAyBAMAAACpPPpFAAAAMFBMVEX///8QEBCIiIhmZma6urrM\n",
       "zMxUVFQiIiJERETc3Nzu7u6qqqp2dnaYmJgyMjIAAAAcRTyBAAAAAXRSTlMAQObYZgAABJlJREFU\n",
       "WMO9WF1sFFUUPvsz293Zma2GIFLArBXQN9afEB9aCiEhvABLjBV92bUIMY2hRaVggrJKAm0CYRoC\n",
       "9K1bMCSSaFd58qmLNTEBtGt8MGpMIWAfCCkb+2Ndius9d3a6O+X+ZWg52Z25s+fO/faen++cGQCx\n",
       "fA8LLXpaYZKR56p+KXgE3q4wZy1X81Xe64bNG9Ip0Se4qtGacWQVQLAtY5vxuevNklVPSHEHNnJV\n",
       "P9SMtVmAnZ9P2r8nIZTxvGpFjoISLsqrFfMTI+orPVuxMqGkjrvbPt3MkkOHZN3DEn1dQg038rqD\n",
       "azzA44glXndIoh+1xLiRppcacNw3Da89+TKO+jvx2LLR+35QDgl0+8h3kxUr0osxgL10MBLH46mk\n",
       "JJNKQrU2KXD9UhI/qyBgh+4xB/cIRSzLKOtvoTrAjzvtOHFBoAR1cTduGcMqOi3Lk3Gh1idg0iDZ\n",
       "ry8Dg0k37n7qvpIMd50wsFIiBn4XYDAPQ+DGfZuuGpfh9hc8/ysSz4M52Be1XLip7Pk12oSUB33C\n",
       "mvQpiHHDcbPLoBfd9EPEHy8Yo3bF0P/j3xzuBFoc/mRqn5bg6m1rzq7GcWu5/Wz5JP35rfee7wHb\n",
       "6V2C8lqEa3i+w4z2CQkuW0JJ05KWwinoQ95hFhBNmGVXuDZMbJX6lywdIxln5JjUcF/IodysL0/J\n",
       "e50JMK9eunSOZwyBxHj9hrY/J+85CLPMdHez65L/X+Gtl732VygzAHsAemrAmoazTtCVYNHkGYDN\n",
       "oFcbrcht0BocRy0i7jLCpuCvWqyXpMB6JyGKi4dLeNwo1FWvPybfnx8PbuRGKxlcWPsXehcr3zqZ\n",
       "nc3mR8Y9SL4975CEOqAhSgz5eoMTV5x41u8uSFzBZdITBRIadkb1mJROF+rn5K9Za/9eEhtbXrDH\n",
       "55uG5+dW4CCVh8rPUwhGyqUv50edjwxNp8swOW2O0Vlbo/MkAXbQPs44QKvyQ7THqsZI/SZJ2EEr\n",
       "/Ds5hdJf5nqdZjCqgot7qjygYPMykFfC1WedQmyltkFfVl8a/+P2HOE9UMMN2V1prIGdAyzcuZIT\n",
       "bPumGXbm4MKJvWDVGkOGeybp4I4U2LHIwp1XcpDQWyNzsfGJAPf08LPIp5FTae3FJQgc+YfafFIJ\n",
       "1/33aK/Uf9PhZ2ipqn4aR7ll25XQanA53LOtmyZBQZeipgtjDhh08niCj+t2h0nv/LBaYrPM/X5N\n",
       "2piBQuUBMOzg1tGsq1fzr0/4pJpiFtJdH6EpsvC+G7eesttQWgm3P+6h29yUxJZPn5q3X5r2R7JK\n",
       "uOK+PVCc598x2zkZzL9o0Y0bQlw/dXLFv2k+7nEhiQYnefGs3yfR9a0LVyvpjclUQo2vxM9l8AE3\n",
       "jz6DX9OUmsIZ/KA0mvDjLPBxa/p4v6SjYAc04l5sfLMN+VTrmP6iY4ZmvHbxu0OWxrCawwddio8p\n",
       "RJ9X4cmq7IHflKqg7D0D+72KwX0sPhrMKOHe8jTB5PY/LeWkCmy0QTajl7kOt994Y4XSduXvzaJM\n",
       "V0Yfsb/aLZ+yfhF6SVMhCELxhcdVeQ8Mryw4rN6Ox/8BngI3ytgo6IUAAAAASUVORK5CYII=\n",
       "\" style=\"display:inline;vertical-align:middle;\" /></a></dd>"
      ],
      "text/plain": [
       "<IPython.core.display.HTML object>"
      ]
     },
     "metadata": {},
     "output_type": "display_data"
    },
    {
     "data": {
      "text/html": [
       "<dt><a class=\"ProveItLink\" href=\"axioms.ipynb#conditional_substitution\">proveit.core_expr_types.conditionals.conditional_substitution</a></dt><dd><a class=\"ProveItLink\" href=\"../__pv_it/axioms/b5033b637c04a6e065aea5c8069bece0de2d72e50/expr.ipynb\"><img src=\"data:image/png;base64,iVBORw0KGgoAAAANSUhEUgAAAScAAAAyBAMAAADsGADuAAAAMFBMVEX///8QEBCIiIhmZma6urrM\n",
       "zMxUVFQiIiJERETc3Nzu7u6qqqp2dnaYmJgyMjIAAAAcRTyBAAAAAXRSTlMAQObYZgAABYZJREFU\n",
       "WMO9mWtoHFUUgM8+Zh+zr4pWa62wJhjFB1lpkf5omwWh9I+4RUxRxF1TDUVqk6otpahdFewG1G4Q\n",
       "a/51TCTogmZrRegPyWqEig+y4g/rMymtghViSJPYJo3ruffO886dpKszXjaze4Z7Zr6559zzmAC4\n",
       "Pz7796rD4NGI1yzit/UmdIOTHkG1WaT3a00p/+INU2yVRZwwC/24altvZb8HN40J1jBS8wTqraxF\n",
       "PGUW8jWQ1t5HJ8T3Aeyya8vXeAL1EjhD4QgU2c2nCL9gWY57Yr2F5aFCGfqVXEt+T9v1w17YL5xZ\n",
       "BuqNnAY1TvwpfknwUJc8gJooC6BeH7tJwa/okYJ019WEKvoXNeWs4AJPewB1gJP3kOhzPfzJjFaA\n",
       "UIG6+QzdanOip1JcZ5K4h4+tJg5dh41sw2tQYYqTEvgUjKRdhwpYo5R0mFizQ4GnrFApuh1GC4Ir\n",
       "JN0P6j7uPkGyUmtAnuNWirIfElnK776n5/kojQFSvgyxaStUiED5Z0RXiC65DtXObT6y++RFCE2e\n",
       "tEBJC3JLLp8RXuJa16FeADsUvAjfFWhMjBTJh4yWBHx9mcX2vzmNwwDUrX52DWqNCGq45cEukvCk\n",
       "nvl3ey5SA0vDnx4oS3TGfk5jHOBL8n3eLSb5gghKPB6H78XhNwcDxLeKroUpm+9+4py5g+Lb5tOQ\n",
       "xG0Zr7qWjhdtz+04t6ORE54fyUDii0rlTddcKmFLHEnHrL/jBvH5FO7Pi6XSs65BCSLfiXqT10gV\n",
       "ib9BX5NqUU42zBBfcCEpYEC4B2Q92wSn1AfeNMYyQJaT2TBbhKh8aKQ+N6B6MQ2B31jgMbYS57CU\n",
       "pr+KnMyKR0vURpWAfkJUSzZdJmIKitfDxok/WNOBN7nbBGXIdDxsuQaqyAW3oaKTncYJ5qfP4d83\n",
       "JihD/phFPfMgKr+vaL4mWtIwmg/6HsPDUNuvNPa1oe/4SQpvN6BMMrVcrzYdNJU7dUd3qDuaaUmJ\n",
       "o8MJvIm8TyLP6D/oz9CiFWCLAaXKn5dKpdewLYv2sum7UC7VqcpHekiYc6jc8e+d65iD3oi7o0tt\n",
       "tFq/2iwuyVJYfwYyElm0SDqBmCnyWOsMKJMM/g2A2UGdDprKNj14zoqhaAY8y5YWi4Ptb7N5p7C7\n",
       "seWaFKloEmgxX9VP+HzZAH75kDKxyoAyySB3K8GCNh00lUf0NLMclJGCNqpGxRWQ19nSjGbqkXLk\n",
       "B2RLKT5Mg6HCe9X+rAGlyq3rcexUQCqy6XumcNSpylY9IS85QwWNTbCTfZ0hwa9HkJDV5y3n74UB\n",
       "JaycxqO8Ov3jOTCgVFmuVCqDqCD3sunqXkEV+Em/4gVnqDizePQBDSpOn2Ccr1VHtfIg2PXBZthe\n",
       "lXbX8AhDr3RD2RQSDPkoORxk09W1QRXYoF/xeWeoZFcrud3APNx/1Xpy8hil7MjyRZ6VsqofO6N1\n",
       "E5Qh0/m32+5pdEUdRhqcoiOjt6Qj52UaMH4D6GZ3p3Y6whcwVnvGyvrx2BnFAqXJbMPZqqj6Cv0t\n",
       "bUlHFaAl4Msa1CGK01i+ok4Yx8gzYIHSZGZrPjoPmbxUVC+ylnQL6bXMUA3yALF5vgSZWSm6ipug\n",
       "k5x8m3MzampJz0Jw0QK1l26UBe+b0cA051MFrSWFJTUz6lCP0kaRf3UQ6XUdKjjruPtmyYsOM1Re\n",
       "GbxZssWQlPsvOBxeLxGoJ9U3jyX6IYZK1+MTNb4jbXf/VZDD9iNQQ3fQhepsPHG08So9+9DuW/rU\n",
       "Wnq/h107enrNMfcJRiiXKP8PrxdjwjLPqSWNZLbxLVnGAyi1QLnCljTQ4Auw44oXUP2ivtepJZX2\n",
       "csHWo5f7MWGcudKWNOSJ9Sx9T/PjtDdMEPoP0c+zf62ZqqumxzB1838AHvGTItfdHA4AAAAASUVO\n",
       "RK5CYII=\n",
       "\" style=\"display:inline;vertical-align:middle;\" /></a></dd>"
      ],
      "text/plain": [
       "<IPython.core.display.HTML object>"
      ]
     },
     "metadata": {},
     "output_type": "display_data"
    }
   ],
   "source": [
    "import proveit\n",
    "%theory # toggles between interactive and static modes"
   ]
  },
  {
   "cell_type": "code",
   "execution_count": null,
   "metadata": {},
   "outputs": [],
   "source": []
  }
 ],
 "metadata": {
  "kernelspec": {
   "display_name": "Python 3",
   "language": "python",
   "name": "python3"
  }
 },
 "nbformat": 4,
 "nbformat_minor": 0
}