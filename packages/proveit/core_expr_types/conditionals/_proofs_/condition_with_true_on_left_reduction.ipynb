{
 "cells": [
  {
   "cell_type": "markdown",
   "metadata": {},
   "source": [
    "Proof of <a class=\"ProveItLink\" href=\"../../../_context_.ipynb\">proveit</a>.<a class=\"ProveItLink\" href=\"../../_context_.ipynb\">core_expr_types</a>.<a class=\"ProveItLink\" href=\"../_context_.ipynb\">conditionals</a>.<a class=\"ProveItLink\" href=\"../_theorems_.ipynb#condition_with_true_on_left_reduction\">condition_with_true_on_left_reduction</a> theorem\n",
    "========"
   ]
  },
  {
   "cell_type": "code",
   "execution_count": 1,
   "metadata": {},
   "outputs": [],
   "source": [
    "import proveit\n",
    "context = proveit.Context('..') # the theorem's context is in the parent directory"
   ]
  },
  {
   "cell_type": "code",
   "execution_count": 2,
   "metadata": {},
   "outputs": [
    {
     "name": "stdout",
     "output_type": "stream",
     "text": [
      "Beginning proof of condition_with_true_on_left_reduction\n",
      "Recorded 'presuming' information\n",
      "Presuming previous theorems (applied transitively).\n"
     ]
    },
    {
     "data": {
      "text/html": [
       "<strong id=\"condition_with_true_on_left_reduction\">condition_with_true_on_left_reduction:</strong> <a class=\"ProveItLink\" href=\"../__pv_it/ce0a6dad7f1560fe238460787e1e85fc872a43ff0/expr.ipynb\"><img src=\"data:image/png;base64,iVBORw0KGgoAAAANSUhEUgAAAcIAAAAyBAMAAAA908bbAAAAMFBMVEX///8QEBCIiIhmZma6urrM\n",
       "zMxUVFQiIiJERETc3Nzu7u6qqqp2dnaYmJgyMjIAAAAcRTyBAAAAAXRSTlMAQObYZgAABvZJREFU\n",
       "aN7Nmn9sE2UYx5+2u3bX623TMAwDzMn4YWLMKhghOKRoRP9RbxBhyh/UgcQQAiUaiIqhf7miEEtM\n",
       "5jCRFTQSlsiK+8NgUEqMkkwMlUlCRLMaiQmEkPJDwvhV3/e96917vfdubXe9+UJv7719cnef933e\n",
       "932ebw9gjOIpFDIwjhKKwASUYFT5e6pwZUxbz5E9qfHc66RWG866iPii8ufgnsNjE8rjupM3Wqwd\n",
       "yrg5iGJOrXTUmlDvwhGqlZ8OUNcVR7X5W3HZonlX68lFFXmjpf1OlwiDk7TqCaqZu4Nu/cV15eRr\n",
       "6osTMvjjVE9YXDZpYU+VfRF3COvDTEJcFhQrFOEh5FvBafp5Q5h92b8t7KkiNLlDeCxlSbiGQfgX\n",
       "Nt+kn3e+w7wq151i29NlmzuEbwKTkH+ZSRi6S1Z4zQdh7QzmVf1PS2x7Q+cm3SAUR42EfPvcFlzv\n",
       "vQHL75tnIuyL4eNibQcN5gLMyx6CGNPeUAJhNwgD1CqwEX2WJBvy5OQfgHXmMTxFhuYjGTrVMU2H\n",
       "0qzL/oz+GeyZvXvLDcLVevcKzWhMpoNPYX6fSbid3KsAy+erHQR8jnXZGOw12LOX8atuED5GLQ5o\n",
       "WvhuQUCyISzghUO4AfCccn4a4HXW6Ejglw32zHLZDcLJerUOjaEnDgOyDeFmMnC3NEK0kq5g+X4K\n",
       "uKjBnlnakrUn5O5SJ28ADGTgGNgQvkYeTCoSCmitaGAslIPoc4G2Hz4zIzzDNNp92doTekfBsJYO\n",
       "pGGjkLQmXJ3aP4u7BkVCTCcw9vwLKqVm/9t0mJyabXryaO0J65uMhPWSuCVEThLkP0U4gJcUr5QN\n",
       "jWQ0wk7VU5Uv8SF4D3tGXPFUzZ7fH4Pr0A7addS7xxRC0vKnLWEDmd5V5D6euJEw2DWrZyauryis\n",
       "7ynsUr94gcwmEr28umHODpCLhGvxAe/5gWjxgEN0f4TAUfZ+iWuCd5U5GtXjh7xCSHaWi7aEZFNq\n",
       "qCJLHAgDWEZtJeVbNVyRxWSRkGw1nMmyjhxlyt4je+N8vtTZxH8Vwl4casRtCcnXvdVshxJ1ctze\n",
       "NlMM1Z9Hx28qCO2RfR8aRTFemn9yVxVCPDbsyEGfhxdJHFFF3E1fd8Q+zVI7w1dAPf/x9q5yb0Hs\n",
       "l6JFid9Q6mTBawqhONTf/8kYK80f/f0HY1UQjtCO02Cb44vFjt+crmxDsrG/oa6lNxOJbWMQNiYS\n",
       "3dVoEG2GzWzQTZ0Gl5sqIdopd4xBiGKkeuphW08uZG1+7T+U+smpFExkeVAlfAYlKcZvVrZHvJNp\n",
       "wrowSli0sjcCHeZH588D11LStnhiCR9QCQPgpdwneHReVogPwULDjh+DR3WUKWh+R02X240G+YmS\n",
       "tk0TCqiErYgwlKXTzLNH+kE47YOMgfAX0BeaAOoPscl0uffQ59f/JyGfQ/G7uGhZq3e2jP0RxYKr\n",
       "XpGMhHtxLB+cuxHXH8JzLm+ahZi5rVwvFRe5Qbi1GJfuQNGRuCTrWe+NKgGaIA+dMRLW96D44oC8\n",
       "OqWk5+DLgd/49A3Yb58qXWmSFpvfJVdXGhhEHvjpHGiM+DLwuUIYCoUNhAJOuufBStxwBzdmuONG\n",
       "wkbcJaW6XptF1C7SLqCrw04Kwlp2igkbcTjRhaqBNKxMJBKSIPPZmDG3wAHQVCAJyv3KhAsYCT0S\n",
       "Y3aOsDUiCNHhA60OOycI43KtSCjiZ22Gh6GPA78yhvCsZCT8HfXXKOzqR9V1wXP8JBOhP/pVencE\n",
       "hr8bXvWjHrWVQ4jLArbAOw5BGA/wHTo/5PNoFM+GIIR5xAiIGXN+OIW7nuU/gH3LxO8jhLA3hU7V\n",
       "Q7BZOnce5Xo5T/qoHnlnyyRc47wgrEfeakYSRZlzzxDAhzj/RI8aNRMufaQ1y02F4IKfojwh7Ehz\n",
       "U6AjiQ9p+HznOuQ9fvkAPK5PznAZhLo67KggjFzxNjPH96J5aJfjC7hzop8pXqoHvbi2gs+i8GEQ\n",
       "YlpzIGdDaFaHHRWE0V1Gq1IxjuBnu9cCXNuTIGi9R2p9yGm+hJnQpTX7qDUzdJkUMqr+HFMddlQQ\n",
       "RnfJV0VIZlZ3xJDxqLX6tyxkZ1M5LDPVYUcF4aKGUmM18TazufNtYKrDzgrC0Ce5qwjTZYnMVIed\n",
       "FYRdUYRhsWkekkfDuzRDHXZWEIZucIHwpYjlWspQh50VhMGVX2YCYUtChjpsJQgTHbhiQdjryq9r\n",
       "FospJmSpwxaCMNGBKxaEFVG/5r9yTysvatP3MOcEYXd+5abfVKAJm2wFXmcEYTU8rzUhOzsQ87YC\n",
       "ryOCsNDiDiHfzGy+VI3AW5m9W28MWTicUHudpvgyS80JGbqjK0WMl084zrcvuyaGsJK3L8f5Bq0v\n",
       "MhGAwfWq2le48h+9XFpH6MkEFgAAAABJRU5ErkJggg==\n",
       "\" style=\"display:inline;vertical-align:middle;\" /></a><br>(see <a class=\"ProveItLink\" href=\"../__pv_it/ce0a6dad7f1560fe238460787e1e85fc872a43ff0/dependencies.ipynb\">dependencies</a>)<br>"
      ],
      "text/plain": [
       "condition_with_true_on_left_reduction: forall_{m in Naturals} [forall_{a, Q_{1}, ..Q_{_a}.., Q_{m}} ({a if TRUE ,  Q_{1} and ..Q_{_a}.. and Q_{m}. \\\\  = {a if Q_{1} and ..Q_{_a}.. and Q_{m}.)]"
      ]
     },
     "execution_count": 2,
     "metadata": {},
     "output_type": "execute_result"
    }
   ],
   "source": [
    "%proving condition_with_true_on_left_reduction presuming []"
   ]
  },
  {
   "cell_type": "code",
   "execution_count": null,
   "metadata": {},
   "outputs": [],
   "source": []
  }
 ],
 "metadata": {
  "kernelspec": {
   "display_name": "Python 3",
   "language": "python",
   "name": "python3"
  }
 },
 "nbformat": 4,
 "nbformat_minor": 0
}
