{
 "cells": [
  {
   "cell_type": "markdown",
   "metadata": {},
   "source": [
    "Proof of <a class=\"ProveItLink\" href=\"../../../_context_.ipynb\">proveit</a>.<a class=\"ProveItLink\" href=\"../../_context_.ipynb\">core_expr_types</a>.<a class=\"ProveItLink\" href=\"../_context_.ipynb\">conditionals</a>.<a class=\"ProveItLink\" href=\"../_theorems_.ipynb#condition_merger_reduction\">condition_merger_reduction</a> theorem\n",
    "========"
   ]
  },
  {
   "cell_type": "code",
   "execution_count": 1,
   "metadata": {},
   "outputs": [],
   "source": [
    "import proveit\n",
    "context = proveit.Context('..') # the theorem's context is in the parent directory"
   ]
  },
  {
   "cell_type": "code",
   "execution_count": 2,
   "metadata": {},
   "outputs": [
    {
     "name": "stdout",
     "output_type": "stream",
     "text": [
      "Beginning proof of condition_merger_reduction\n",
      "Recorded 'presuming' information\n",
      "Presuming previous theorem (applied transitively).\n"
     ]
    },
    {
     "data": {
      "text/html": [
       "<strong id=\"condition_merger_reduction\">condition_merger_reduction:</strong> <a class=\"ProveItLink\" href=\"../__pv_it/c2f3d0d42b9f94d44b9e90070640618cf374cdd30/expr.ipynb\"><img src=\"data:image/png;base64,iVBORw0KGgoAAAANSUhEUgAAApoAAAAyBAMAAAAO8mZmAAAAMFBMVEX///8QEBCIiIhmZma6urrM\n",
       "zMxUVFQiIiJERETc3Nzu7u6qqqp2dnaYmJgyMjIAAAAcRTyBAAAAAXRSTlMAQObYZgAACn9JREFU\n",
       "eNrdm39sG+UZx5/YOTt350syRrOloZtJRmEarG4rKIJ0dZlokSatF9DadPsjXqClq6AxbCv7gRTT\n",
       "SWu6gWqE1gXQGrdMnZo/mnTVhIq6xQxpTF1LvBY2tsGaaVOlVhOEpPGaFPDeX/fevXfvXWJY0GVP\n",
       "m/P5ve+9Pn/u/fE8z70GqN4+XXkX5tsSaVgopmXo62jlnQ9yesvTz8z7JZ6ChWNfpi+Hnz76Qc5e\n",
       "NP8XGMnw3bOlsNM0xthOR0hp2nf5SDH8jfPxcNPUrua75xzF6hKA2u4clbSdWl1VlRL9nypb+56o\n",
       "og4//YF0qGnWpfjuy45iBc1+HT+/RMtNiOUcoH1qyvN6RD21ywBPZiRi0VQ/vWV6Y6hpjhSkNLHd\n",
       "ygYANFZp19jF9Sl5Tf8EuZ7enQmA2JRX7DJet1vP7dFQ0/wm+NK8l778A/PusYs7vyetSNldkOvp\n",
       "XDcNEJ/2il3G63bpHXc/H2KaxrScpvoVi2biPeLh2V3zvlZpTbE7knI9HVBQDx3JecRu43W79LbF\n",
       "UyGmGc+JNNX2FYvxfn8Z7vnYSrw3kMXbNdzF18bi0pqOABF69NQaMqA3ecXu+YvX7dI7bv9MiGl2\n",
       "Ob71DvS3Nl8/Tt6cB9hK4w7Sivaa0MlCp+HEsKymP6B/gl78nAeXTqIiJSeK3WEZr5vpJcAnQkxz\n",
       "uWO6RB+mLYEo/cI/tGj2ki9VgXtWsdYM6pispizsF/SiLSvA3wugrMyKYndP4XVTvczeCjHNJsfE\n",
       "gIa66AzEkyLNCv5SehlgPdWdAdgi64FJiJmCXrDHUOdFwUFtVhS7zK6b6SW2LB9amsp79n4t+rCa\n",
       "HAyZIs2HSKOZ4TTRrLtR1qxQy8sIesEQ3YEMp8nFLrPrZnqJDZRCSzPidEK2AQwVYQREml8nDSJp\n",
       "0dTRnFov8b2Pob8LTv3Z11pTrVscd20kxWlyscs153UzvbH67ja3qCYTWpp1jSDM6UPDsEPPCzS7\n",
       "CgevUybBoom/rS7x3y8wSFz/6hJoKiy17toUnp40iyYXu3x3XjfTG2tLNe47V5cNLc2anEizLmns\n",
       "TJA3feQ//mLJUuJckdPsZD0StPfRZmiM7ZDJOl6w9erBLFyCdioB7CiMJJ9lNLmYnMorsuu29M9c\n",
       "Dw1kLhqyJ77EOKVJSt6skmY9GbXnK1U2lBJpat3X7fsM3t9Y2b6vQtMOX33g+j1gWjTvwxviY+/E\n",
       "SDJsJ5YmIB36WFJphO8jCcITfbtcgsSuJKNpi3cKFfG6ub4b1tKB1h5DjSlKk7hYF6ukSRyw+sJ8\n",
       "uZtJ8I8s7cjFNPIWTeKfKh5JLdmaDn2NGcmp46jkBacs6xE7zFv3ImhXJBE/ptmPY41clTTJCf3z\n",
       "lvNwOuIv+ueZ7kLb56vISyH9AGqdRg4NEU5HR89WdXnqOHzrV273fZLSxC1MHkcEjZsXSegwT3bO\n",
       "2UDO+amiFdS7nurtnmutRL8OTSrqAwXQHM1fXVVOVnN5tRm40TPIlSlN4+Tg4E+rnoXeGBw8nJ0v\n",
       "msucM2Z90c8rfai6NiDojf/1NV9mc/rlvr5Hq6bZ0Ne3uzhfNEeFAflY6J8LYfsUo4l82T1V00Qh\n",
       "WJ2jBbWduk0mdBXfVb5ll6Tj7L13m9jT1hRgwdknGM0vguZKGGxqT0eaAkoQzdoUHLEP709Dh4SA\n",
       "u9hohLikQf+R566Z9Sw8mDR07cApkoijL2knVpb03Em4LaBkEcm33GQP481ojPfGr55i9CYmGWxv\n",
       "Abj//4ZmouRMtL5+fBD0M1GHB+EtwTRPOzKr8RJpd56Ug7s4noQayez5MMBVC76nP8JoqmMbgUTy\n",
       "kaUm7sHI//ra5iRmh1MEYolNcz9Ot2grdmBn5locRIx7PsBTPGRqK7zXoU3BcyLj0XzghRurQ0jT\n",
       "moVgD4qdcCS/PZKhIaNunnwNs3t1CTSLJTbNun0oRviF2YWb0Xnci8cg5mpSrNi2Da3LESe3rHai\n",
       "rdnlIZlB1639O4xts8mieQz1WRzJp6NFeI6ySyRQi8QpghmhxEFTx0nvlbAJv8drvGqKyosuTLTY\n",
       "UfAKRLPgkSXGYJXLe08HNk1nc38SjSbrbqD7B9tfmtWZkmiMnvK2vllOnH0Zw6RFswH3s260Gx+G\n",
       "TX19fUndVEt4VIwlaxvFEkcOCQemLUCSW1fRiTnuwsSKbXuckHDL6orueGckkGbCOZF1FUFZvIHo\n",
       "E98mydBAk2oacqA2ze6cy5Yl2B3mXYumUSCEboABBWK0JcKdmHCNGS2aQomD5l9RFdPwxCDa3ar9\n",
       "Tb3ai4kWG7e/efMJ2nWvQLTRK2sYxs+Bzv76DRtRac408WBCkwwafjRzIDiikGtwkqXHDI6j/JYl\n",
       "uLMePJLvhtcTkMC1GmkwiuqPYADiXzLtEm9+s1m5VEK6A3cbv0kTTOhNf8Ha0GL989CiF/ERZQY5\n",
       "SJuxzNb0FwANvfcr+V/mbM+iIVUNzRhV1+NnxLHxQChyDQ5ke4MnPt9lCTxxcsVJE0XyF2DfSYAf\n",
       "4wzsvwAySgusg8hpR4mX5rrPtZWQTrv1dxmVPldpgY680ow3vHiLlo2m8ZGXy3llVxLLOoapBm2G\n",
       "E73fgM5WFFx12p7U2Jxp/sS0aI7iBp2YDg5ZpZrHEIzLs+Sf/JYl8IuadtK07wIaJRluT4mHJtcp\n",
       "mZ/RLqx7i7N6Kq47jmCZnX+w9uJwEx8to+Oz0nzqpWvxgKHuzSjLP45xqv8hZ14KTKXJNWWAo5lg\n",
       "mr7LEngHGZfStO14UJzu0qnvLwZl2e3Ok6xiLRNJxz5rH8EynfcrvncITvDR0nA/W4RX3sJGF13F\n",
       "UMutbYa3ad9F4RUhkSADV90UX2oguw+WRhzyymd6bgaAzgBYvssSLKMPXwJoluZIk+h2p90nCcWu\n",
       "6ozgzJhyJejCj6KvdaDE1srVWTTjhFHDOF9qIDFL4+qNM2BcBL7OQZ4j9F2WwGwgOQtNmCPN+XKF\n",
       "fazzuzT2fFik2UDa80jGegAp7a+WxjMmYv9mfcCH+i9LEFKy4aS5JujgWtQ2P4njUbFtkoRAbyGI\n",
       "Jte4x0S1PAtN/2UJzHZDeGluSEvHzfN03MxhX1kfF2nGMKnIBATRtDRWUoJ7t/pkMM2AZQnMwryq\n",
       "K54KntO1K2guOi7QVGa0VrMrFUjT0lhJCZ4VQNNTIYhmwLIEPvaGl6Z3Und5SLvgzxkyjtXl8H9s\n",
       "rQacxsMfpimuUSCLCMiGaaykBDmKnQN9Qh3GNMV1CfbJAcsS2JSeCTFNuGYWmodaN3fj0UDpKR/u\n",
       "uUzcBeXQb7+TV1jbfKTgWKNAdvByBK5hSQki+0LlQYDft9KejgvEBQ7CMgbJsgSWWQjzSm3nrwhm\n",
       "jSxt2wJ/YTR17/kvODQsKSHK1geex754uyL9ZPbzg5DSrA8YOBONfkd+UJtjSw0S3oNFW2MlJUTZ\n",
       "84HnsWSGZ1kCjUEWh5qmumiO+U3RsaqYbKnBQW/6KGlreFLCKSPrHPzPY8mMG6UxTch/fRW4IMY3\n",
       "976pxT+OMzwamcz/vEBjv7oJLc1ogK+sh+25kJH7MDQ/il9Ud8PCsQ/3i+qP4tf+0fSCgaltp6+j\n",
       "lXf+C74qQjNxR2I7AAAAAElFTkSuQmCC\n",
       "\" style=\"display:inline;vertical-align:middle;\" /></a><br>(see <a class=\"ProveItLink\" href=\"../__pv_it/c2f3d0d42b9f94d44b9e90070640618cf374cdd30/dependencies.ipynb\">dependencies</a>)<br>"
      ],
      "text/plain": [
       "condition_merger_reduction: forall_{m in Naturals, n in Naturals} [forall_{a, Q_{1}, ..Q_{_a}.., Q_{m}, R_{1}, ..R_{_a}.., R_{n}} ({a if Q_{1} and ..Q_{_a}.. and Q_{m} ,  R_{1} and ..R_{_a}.. and R_{n}. \\\\  = {a if Q_{1} ,  ..Q_{_a}.. ,  Q_{m} ,  R_{1} ,  ..R_{_a}.. ,  R_{n}.)]"
      ]
     },
     "execution_count": 2,
     "metadata": {},
     "output_type": "execute_result"
    }
   ],
   "source": [
    "%proving condition_merger_reduction presuming []"
   ]
  },
  {
   "cell_type": "code",
   "execution_count": null,
   "metadata": {},
   "outputs": [],
   "source": []
  }
 ],
 "metadata": {
  "kernelspec": {
   "display_name": "Python 3",
   "language": "python",
   "name": "python3"
  }
 },
 "nbformat": 4,
 "nbformat_minor": 0
}
