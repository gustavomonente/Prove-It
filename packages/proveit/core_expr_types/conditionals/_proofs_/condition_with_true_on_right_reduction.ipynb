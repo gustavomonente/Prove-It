{
 "cells": [
  {
   "cell_type": "markdown",
   "metadata": {},
   "source": [
    "Proof of <a class=\"ProveItLink\" href=\"../../../_context_.ipynb\">proveit</a>.<a class=\"ProveItLink\" href=\"../../_context_.ipynb\">core_expr_types</a>.<a class=\"ProveItLink\" href=\"../_context_.ipynb\">conditionals</a>.<a class=\"ProveItLink\" href=\"../_theorems_.ipynb#condition_with_true_on_right_reduction\">condition_with_true_on_right_reduction</a> theorem\n",
    "========"
   ]
  },
  {
   "cell_type": "code",
   "execution_count": 1,
   "metadata": {},
   "outputs": [],
   "source": [
    "import proveit\n",
    "context = proveit.Context('..') # the theorem's context is in the parent directory"
   ]
  },
  {
   "cell_type": "code",
   "execution_count": 2,
   "metadata": {},
   "outputs": [
    {
     "name": "stdout",
     "output_type": "stream",
     "text": [
      "Beginning proof of condition_with_true_on_right_reduction\n",
      "Recorded 'presuming' information\n",
      "Presuming previous theorems (applied transitively).\n"
     ]
    },
    {
     "data": {
      "text/html": [
       "<strong id=\"condition_with_true_on_right_reduction\">condition_with_true_on_right_reduction:</strong> <a class=\"ProveItLink\" href=\"../__pv_it/39c613c674692d19729472966286a792c57a47b00/expr.ipynb\"><img src=\"data:image/png;base64,iVBORw0KGgoAAAANSUhEUgAAAcIAAAAyBAMAAAA908bbAAAAMFBMVEX///8QEBCIiIhmZma6urrM\n",
       "zMxUVFQiIiJERETc3Nzu7u6qqqp2dnaYmJgyMjIAAAAcRTyBAAAAAXRSTlMAQObYZgAABw9JREFU\n",
       "aN7NmmuME1UUx0/bnbYz0+muhsWwgBlZHibGbAUjBBcpGtEv6ixEWOUDdQViCIESDUTF0E9uUYgl\n",
       "JutiIlsekbCJbHE/GAxKiVGTBUNlJSGi2RqJCYaQ8pDwrvfeufPszPRlZ73Znd6entyZ332ce+6/\n",
       "BShTPMViFuoooSiMQ+Fi8uup4uWyvp4ju9L13OukWhvNuYj4ovxycNfh8oRSXXfyxpTaoaybgyjk\n",
       "aaWr0YRaF47prOxUgKaehDyh2k8uqGoClvrP3YzLJoNtu0uE3AS1+qPOzNxBt95/TbZL4E/o4G1a\n",
       "Uu0mf1q+NBv2RN0hDEYsCXGZRycvmk7cFM0cjli3pNjN/naEfIs7hMfStoSvyy9/YI8Nmrn7HeuW\n",
       "FLvZ344QtrhD+CZYErIvK4ShuySop9SPVk2zbonaS/xtCY+l3CAUbhoJ2c7Zbbjefx2W3jcH1wbi\n",
       "+LpQ3TS5fMB6QVO72d+eMBBxgzCgCwnr0f+iVLhA3vwFsEbekkV8/UiCbpogZEIZy8SB2lX/soTC\n",
       "LTcIV2p9zbeigZgKPpn5fYVwK2m+CEvn0j4BNm/ZV9Su+Jcn5K64QfiYtj/0omXhuwUB0UhYxIGD\n",
       "vw7wnOx3GmC1VUuKXfUvSwiX3CCcqFWb0Bh6EjAkGQk3kgG6pRKiiLnMqiXFrvqXJ+xINZ6Quat7\n",
       "8wbAUBaOgZHwNfIsokLIo/AQTpW2pNoV/9Ez0yLTVjsSDuQaT+jVhVIcS4cysJ5PGQhXpvfOYK6C\n",
       "QogpeIs9X7Ur/r9MhYnpmY6EnljjCYMtRsKgKGwKkTdJ8oc7QcyFxrIqYTedkcDdQ5ehPK1odurP\n",
       "7o3DNeiUXfSEQ1qcCsZlQmL53ZEwTIJvDWcfT8JIyPXM6JuO68uKa/uKO4j51XWztoGkEK7CF7K3\n",
       "4zw6EKMVnZ36+0WmBd5FLjTVeUGJuTFtgynIhCfwy9+OhGQnCtdwShyKANhmbWrxS0JKISS7C1Pq\n",
       "o7cTf4/kTbAF1DNf26cb/8iE/TjVSDgSko/7a9kORd2b4/bZ+fPo+lUV2TzyH0CjKCTQ9LY/dTJX\n",
       "ZEI8NtZphLYO8RCfqCXv1rc7ZuflK6LO/nhrT6WtEv/FKPiw69LAifYnt6syoTAyOPhJmUjz2+Dg\n",
       "wXgNhGP6KBW2621mY6a6PUjvLzg4Xqex9EYyuaUMYXMy2VuLBtFh2NmG3dRpcLlBCdG2ua0MoV+C\n",
       "oO5h20/Ot9r8Or8zB6NTaRjP8iAlfAadTIyfLO+MeifqCZsicEj7eHcUukofnT0PTJvJtnB8CR+g\n",
       "hAHw6qYPd3ROjk+MwHzDjh+HRzWUSWixx0qa24kG+QmTbcO4Aso5LCIM5fRnzrNHBoE/7dOCMCH8\n",
       "CbRAE0D9IbSUNPce+v/5/0nI5lHSLixY0u6dKeH5iBLAFa+IRsLdDBo0bvZ6XH8Ir7lCySrEzB2V\n",
       "zlJhgRuEm5W8dBtKiYRFOc9ab0xO0Hhp5IyRMNiHkooD0sq0fDwHXx78xqcP43n7lDnSpGx2qouu\n",
       "RhoYRjPw01nQHPVlYZ9MGApFDIQ8PoHPgeXYcAcbs8xxI2Ez7hKzyNdhk7UL+inwH6vD5tMpJmzG\n",
       "aUEPqgYysDyZTIq8xObixrMFToAmAzmt3C8vuICR0CNarM6xqPWtQ/r0oQZ1WJ0a1uqwUq4qhAJ+\n",
       "1lZ4GAYY8MtjCM+KRsJfUX/dhB2DqLqGO8dOKCH0x77I7IzC6DejK77XsrZKCHGpUh3+E6z9TQN8\n",
       "R38+ZAtoFM+GIIR5hCgI2dLz4STmWo79APYsEb6NEsL+NHpLL1yreO48OqblPZmjWuadq5CwOnWY\n",
       "6U07qsOmzJuqKDG4AH0jAB/iwyh61Fgp4eJH2nPMZODm/RBjCWFXhpkEXSl8ycC+7WvQ7PFLB+Bx\n",
       "bXFGKiCsXh32Py06qsOK8nHb8ozvRevQ6YzP486JfSbPUi0DxrVlbA6lD8MQV82BvANh7erwIbo7\n",
       "26nDyl1u1qRiHMHPdq8NmI4ngVd7j9QG0KT5HKZDj2r26WJm6BIpZFT9+brU4RP0KGenDitDXaiJ\n",
       "kKys3qjp5EJqwbdsZOeScliqSx2Ow25wUocNGkqD1cTblubut6EedVgQ8WHHQR1W1ETRXUVYXxZJ\n",
       "9ajDKAIwMSd12EVFGBaWrEPyaHiXrl0dHkb/F8BBHaalF1wgfClqG0trV4cvUEpbdZgWV76ZCURs\n",
       "CWtWh5kE0IzKrA4bBWGvK9+u2QRTTFizOuyPEjgLddgoCMuifsO/5Z5SWdZWjTrcRK6SlTpslDJd\n",
       "+ZZb/0sFPWFLY9Rhq/S80YTWpwOh0BB12JhetrlDyLZami9WpPZWqw4bilu/GLKZcHzjdRp6IGs8\n",
       "oYXu6EoREpUT1vnry57xIazm15d1/oLWFx0PQG4tVfuKl/8FKqVWpTXXOEYAAAAASUVORK5CYII=\n",
       "\" style=\"display:inline;vertical-align:middle;\" /></a><br>(see <a class=\"ProveItLink\" href=\"../__pv_it/39c613c674692d19729472966286a792c57a47b00/dependencies.ipynb\">dependencies</a>)<br>"
      ],
      "text/plain": [
       "condition_with_true_on_right_reduction: forall_{m in Naturals} [forall_{a, Q_{1}, ..Q_{_a}.., Q_{m}} ({a if Q_{1} and ..Q_{_a}.. and Q_{m} ,  TRUE. \\\\  = {a if Q_{1} and ..Q_{_a}.. and Q_{m}.)]"
      ]
     },
     "execution_count": 2,
     "metadata": {},
     "output_type": "execute_result"
    }
   ],
   "source": [
    "%proving condition_with_true_on_right_reduction presuming []"
   ]
  },
  {
   "cell_type": "code",
   "execution_count": null,
   "metadata": {},
   "outputs": [],
   "source": []
  }
 ],
 "metadata": {
  "kernelspec": {
   "display_name": "Python 3",
   "language": "python",
   "name": "python3"
  }
 },
 "nbformat": 4,
 "nbformat_minor": 0
}
