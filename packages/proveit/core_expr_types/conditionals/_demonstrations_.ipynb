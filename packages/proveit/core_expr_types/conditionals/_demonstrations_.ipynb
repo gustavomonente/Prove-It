{
 "cells": [
  {
   "cell_type": "markdown",
   "metadata": {},
   "source": [
    "Demonstrations for context <a class=\"ProveItLink\" href=\"_context_.ipynb\">proveit.core_expr_types.conditionals</a>\n",
    "========"
   ]
  },
  {
   "cell_type": "code",
   "execution_count": 1,
   "metadata": {},
   "outputs": [],
   "source": [
    "import proveit\n",
    "from proveit import Conditional\n",
    "from proveit._common_ import A, B, m, n, x\n",
    "from proveit.logic import And, TRUE, InSet\n",
    "from proveit.core_expr_types._common_ import A_1_to_m, B_1_to_n\n",
    "from proveit.number import Naturals\n",
    "%begin demonstrations"
   ]
  },
  {
   "cell_type": "markdown",
   "metadata": {},
   "source": [
    "## Conditional reductions"
   ]
  },
  {
   "cell_type": "markdown",
   "metadata": {},
   "source": [
    "***A conditional with a TRUE condition reduces to its value.***"
   ]
  },
  {
   "cell_type": "code",
   "execution_count": 2,
   "metadata": {},
   "outputs": [
    {
     "data": {
      "text/html": [
       "<strong id=\"x_if_A\">x_if_A:</strong> <a class=\"ProveItLink\" href=\"__pv_it/e93149b1b7bcdbd42229649fc79e0a618fa7bf2b0/expr.ipynb\"><img src=\"data:image/png;base64,iVBORw0KGgoAAAANSUhEUgAAAEkAAAAVBAMAAAD4Ed5jAAAAMFBMVEX///+IiIi6urrc3NxERETM\n",
       "zMwQEBCqqqpUVFQiIiJ2dnYyMjLu7u5mZmaYmJgAAABN0h6tAAAAAXRSTlMAQObYZgAAAQxJREFU\n",
       "KM9jYGDgu8dAGPDsIkIRA98HJA5zHgMDU6MDlMe6AS7BNQFJFesvBoawQ5+gPO4P2FWBwBU46/Uf\n",
       "3Kp64S6u/YxdFXMokio+xk8oqngEmxUXgjgmPxhi0+5CZXTY/8FVcQA9corhpcBsMG8HA0MHzEIF\n",
       "1o9wVWUBDAxrGNYfUAbzPBCqmBiY/8IUhUwGEgcYXKBcJFURd298gZulFgAiP2KqUmBgyEa4CxTS\n",
       "rF8xVLED8TQUP9YwfmCQQVNlDsT7kVUxfWf5wPwAzHNhgDqRGRSM/gYg5vkNYFU8jTKy7yAu/t9j\n",
       "8d8PFAz+vw8wlPyfCxLkbMASQ1gBVwLJ6Qs3ICqtMrATTvcARG9FljQiaUYAAAAASUVORK5CYII=\n",
       "\" style=\"display:inline;vertical-align:middle;\" /></a><br>"
      ],
      "text/plain": [
       "x_if_A: {x if A."
      ]
     },
     "execution_count": 2,
     "metadata": {},
     "output_type": "execute_result"
    }
   ],
   "source": [
    "x_if_A = Conditional(x, A)"
   ]
  },
  {
   "cell_type": "code",
   "execution_count": 3,
   "metadata": {},
   "outputs": [
    {
     "data": {
      "text/html": [
       "<a class=\"ProveItLink\" href=\"../../__pv_it/72df168d2bfb4e0140af90912ebf83b13772060b0/expr.ipynb\"><img src=\"data:image/png;base64,iVBORw0KGgoAAAANSUhEUgAAAAsAAAAJBAMAAAAWSsseAAAALVBMVEX///9mZmaqqqrMzMxEREQy\n",
       "MjIiIiKYmJh2dna6urrc3NxUVFSIiIju7u4AAACJHQtQAAAAAXRSTlMAQObYZgAAAEJJREFUCNdj\n",
       "YLhzeuWJAwy8Dew5bAEMHBc43nIuYOBlYHFgAAG+A2DKzgBIMF04x8BzgWGegh/DcgaG22fuiBcw\n",
       "AAATyhBrnyPYZQAAAABJRU5ErkJggg==\n",
       "\" style=\"display:inline;vertical-align:middle;\" /></a>"
      ],
      "text/plain": [
       "x"
      ]
     },
     "execution_count": 3,
     "metadata": {},
     "output_type": "execute_result"
    }
   ],
   "source": [
    "requirements = []\n",
    "x_if_A.replaced({A:TRUE}, requirements=requirements)"
   ]
  },
  {
   "cell_type": "code",
   "execution_count": 4,
   "metadata": {},
   "outputs": [
    {
     "data": {
      "text/html": [
       "<span style=\"font-size:20px;\"> <a class=\"ProveItLink\" href=\"__pv_it/aaac5ace177364742923da33aa3c3fd6b40b34200/proof.ipynb\" style=\"text-decoration: none\">&#x22A2;&nbsp;</a><a class=\"ProveItLink\" href=\"__pv_it/0de75f36125ba6dbdea4c45600f77a974839f05d0/expr.ipynb\"><img src=\"data:image/png;base64,iVBORw0KGgoAAAANSUhEUgAAAHIAAAAVBAMAAABoAqesAAAAMFBMVEX///+IiIi6urrc3NxERETM\n",
       "zMwQEBCqqqpUVFQiIiJ2dnYyMjLu7u5mZmaYmJgAAABN0h6tAAAAAXRSTlMAQObYZgAAAP5JREFU\n",
       "OMtjYGDgu8dAHuDZRaZGBr4PSBzmPAYGpkYHIOvmTBCYgU8n1wQkDusvBoawQ58gnEICdqLoBIEr\n",
       "MAbJOnvJ0skcSqJOHsFmxYUgjskPhti0u4R0QpVzbGBgOMXwUmA2WHAHA0MHdjtX7waBvSAmVHlZ\n",
       "AAPDGob1B5TB8h44dSIBiPKQyUDmAQYXqCBROqHK1QJA5EdSdEKVc4BSDOtXgjoh/twBSTBfYWFb\n",
       "w/iBQYZ4O6HKgTqZvrN8YH4AFnRhgHsZrvP8BlSNMOVAnTyNMrLvwIIR/3ss/vtBVehBac4GtOiE\n",
       "KsdIfUQDrgSq5E/SANllAgM7eeUQAP14VNGoHmelAAAAAElFTkSuQmCC\n",
       "\" style=\"display:inline;vertical-align:middle;\" /></a></span>"
      ],
      "text/plain": [
       "<proveit.magics.HTML_DisplayObjects at 0x7f5b98f7cbe0>"
      ]
     },
     "execution_count": 4,
     "metadata": {},
     "output_type": "execute_result"
    }
   ],
   "source": [
    "requirements"
   ]
  },
  {
   "cell_type": "markdown",
   "metadata": {},
   "source": [
    "***A conditional with a condition that is a singular conjunction can drop the conjunction regardless of whether or not we know the contents to be boolean.***"
   ]
  },
  {
   "cell_type": "code",
   "execution_count": 5,
   "metadata": {},
   "outputs": [
    {
     "data": {
      "text/html": [
       "<a class=\"ProveItLink\" href=\"__pv_it/20056b9563b3ca2bf9b98cab6c45a9f152ebc9180/expr.ipynb\"><img src=\"data:image/png;base64,iVBORw0KGgoAAAANSUhEUgAAAEoAAAAVBAMAAAATJmVgAAAAMFBMVEX///+IiIi6urrc3NxERETM\n",
       "zMwQEBCqqqpUVFQiIiJ2dnYyMjLu7u5mZmaYmJgAAABN0h6tAAAAAXRSTlMAQObYZgAAASFJREFU\n",
       "KM9jYGDgu8dAGPDsIkIRA98HZJ7ZAwYGDREw88X/3hsuClBxrgnIquIXMLDm6EPkUhgYeL9iVQUE\n",
       "vA4QmvUfAwPTX1yqOC5AaMbPQOd8xKrKNACuiiWBgeHYHGRVByWMpASANLN/A+u1XIgy/gYG1hkH\n",
       "YBZsAIbGAr6JnBtAPO4GBo4GqEf6HnoWwOwoCwCad4DrD5MB2BqEKnkDBp4MqKKQyaCQZWCBegxJ\n",
       "lRtIJcwwtQCwIwQwVP0AqRKAuQtsSnwAuipQcDH0I4c9+wF5BsYDqKpAwcX6hQFJlX6BP4MdxCwH\n",
       "mBO5gcGl5gNOD78hqk4IHrz3AGxN/4/D/V9ATI79P+62uEMMmoElhrACrgTS0xdOQFRaZWAnnO4B\n",
       "S51KVB1kl1sAAAAASUVORK5CYII=\n",
       "\" style=\"display:inline;vertical-align:middle;\" /></a>"
      ],
      "text/plain": [
       "{x if B."
      ]
     },
     "execution_count": 5,
     "metadata": {},
     "output_type": "execute_result"
    }
   ],
   "source": [
    "requirements = []\n",
    "x_if_A.replaced({A:And(B)}, requirements=requirements)"
   ]
  },
  {
   "cell_type": "code",
   "execution_count": 6,
   "metadata": {},
   "outputs": [
    {
     "data": {
      "text/html": [
       "<span style=\"font-size:20px;\"> <a class=\"ProveItLink\" href=\"__pv_it/88f1240b2232a8c5d93a2052565fa1b31b4658170/proof.ipynb\" style=\"text-decoration: none\">&#x22A2;&nbsp;</a><a class=\"ProveItLink\" href=\"__pv_it/b2f2a179a53541b7c41914e5d192baae15066a260/expr.ipynb\"><img src=\"data:image/png;base64,iVBORw0KGgoAAAANSUhEUgAAAOMAAAAVBAMAAABGa0R7AAAAMFBMVEX///+IiIi6urrc3NxERETM\n",
       "zMwQEBCqqqpUVFQiIiJ2dnYyMjLu7u5mZmaYmJgAAABN0h6tAAAAAXRSTlMAQObYZgAAAuZJREFU\n",
       "SMetlk1oE0EUx99uds1ms41b8CBaaYpQ9NQgKoIgAYMaEJuDihdJD1Y8WOlJECxsaQ+C1kS9FOoh\n",
       "elAExaAI0iJuFUTMQQ8iIrToTZFqqi0Gv+LMm9mvdKeu4NvDzOzMf34z8958AEBqFv6fzb2N0MiY\n",
       "FFRIUwWW+XgRkx1uTTwj6qxWiTKuVN1XiJ0AkIezmNfTzt+rODT6931z7HUuDSOizj77C1vJjDes\n",
       "wizXcdPLvlbqd4CDj754yIyLTGL2CEDbItREyBv+QrEC6vEeBmK6MCS1l04FbfzARc7hkH6TVfgF\n",
       "uhkFSawty6fCdCLkmA+p5m0HeQn9+5V4Yh6MvohI7QWPC6YLQ8YOBJFal8mRMWymENaTywB3oiC3\n",
       "FFyko/OQRvtI1xVa2NyAw0dnPGQNyhwpoXilBeo4mfitZZDTqzetoQON9VrqqwHGdHR87lWAZ/DB\n",
       "nMDSfYAzvlleJx9DKrjhiuff5QfpvvEo+hQa6/osGX4ldSFRxYCzQLN4JHEds5Nk992E2/Z6LO0J\n",
       "IsuwnSMTqOjMgHGMpKfCJxnvJzJb/yljdCse0tGh7adhYUOOF4PIlAlagSFXYLDvonICL4YS1TxB\n",
       "GaDwMPUhHR2zbjxj5kORCRtUy49sUKkpQoLcj44zlyAdHfclHZO6GIocIsld38LS7QUlAt+4xJes\n",
       "71F0XKEV6eq8iD0t1aEjBElwFOuGD91e6kIwfFojNm53gmQHka7ORcrflHqMXQE5cN2qp1W6AGRx\n",
       "KVKnIZkk26t7L8m8wVP3RxiyZ7CX3wDEp9ytrg7geRWRxnDHuk/441Dz3LbmPgep0aWQTETKZDG0\n",
       "h42Z0d207h62GA9DPm2fnsXhq6XG49ICzXo6MgMr5MBzp5+WMS34DjznwitHPPAEPfcJkYHLa85f\n",
       "JTrWr8E/35fLIBXfvVyLdF+KbTIa0sh6VTtFfSUjvQogLnj7SBN8f61tfYikhA8RGPr72+cP9wXU\n",
       "ccMZPQgAAAAASUVORK5CYII=\n",
       "\" style=\"display:inline;vertical-align:middle;\" /></a></span>"
      ],
      "text/plain": [
       "<proveit.magics.HTML_DisplayObjects at 0x7f5b9ab2f4e0>"
      ]
     },
     "execution_count": 6,
     "metadata": {},
     "output_type": "execute_result"
    }
   ],
   "source": [
    "requirements"
   ]
  },
  {
   "cell_type": "markdown",
   "metadata": {},
   "source": [
    "***A conditional with a conjunction of a pair of conjunctions as its condition is reduced to a flattened single conjunction for its conjunction which is displayed as a comma-delimited list.***"
   ]
  },
  {
   "cell_type": "code",
   "execution_count": 7,
   "metadata": {},
   "outputs": [
    {
     "data": {
      "text/html": [
       "<strong id=\"x_if_A_and_B\">x_if_A_and_B:</strong> <a class=\"ProveItLink\" href=\"__pv_it/a5dc892139ec5b5f9db2827685031c211468ae830/expr.ipynb\"><img src=\"data:image/png;base64,iVBORw0KGgoAAAANSUhEUgAAAGMAAAAVBAMAAACgbk16AAAAMFBMVEX///+IiIi6urrc3NxERETM\n",
       "zMwQEBCqqqpUVFQiIiJ2dnYyMjLu7u5mZmaYmJgAAABN0h6tAAAAAXRSTlMAQObYZgAAAXtJREFU\n",
       "OMtjYGDgu8dAIuDZRaoOBr4PSBzmPAYGpkYHKI91A0z8xf/eGy4KMB7XBCQtrL8YGMIOfYLyuBGm\n",
       "pTAw8H7FqgUErsBZr//AjfoHtP0vTi29cF/WfoYxGYEsvo9YtTCHImnhY4S5kIElgYHh2BxkLTyC\n",
       "zYoLQRyTHwyxaXehMjrs/2CK+BsYWGccgPE4gMFyiuGlwGwwbwcDQwfMXQqscKfE9z30LIC7pSyA\n",
       "gWENw/oDymCeB0ILEwMz3MPyBgw8GTBOyGQgcYDBBcpF0hJx98YXmCo3kDa4NWoBIPIjphZgzGXD\n",
       "FP0AaRGA+wUU16xfMbSwA/E0pGhh6EeJ/RrGDwwyaFrMgXg/UrSwwl0J0sL0neUD8wMwz4UB6i1m\n",
       "UHT5GzCcB6UzbmC0qPmAxUF8oBaeRhnZdxAv/++x+O8HCmH/3wcYSv7PZeAERiDH/h93W9whNnA2\n",
       "YEkwaKAGU4grAb+WBQTyC5YcKIBFEH+u5MMmyE5i3gcA7nZi5iie89EAAAAASUVORK5CYII=\n",
       "\" style=\"display:inline;vertical-align:middle;\" /></a><br>"
      ],
      "text/plain": [
       "x_if_A_and_B: {x if A ,  B."
      ]
     },
     "execution_count": 7,
     "metadata": {},
     "output_type": "execute_result"
    }
   ],
   "source": [
    "x_if_A_and_B = Conditional(x, (A, B))"
   ]
  },
  {
   "cell_type": "code",
   "execution_count": 8,
   "metadata": {},
   "outputs": [
    {
     "data": {
      "text/html": [
       "<strong id=\"assumptions\">assumptions:</strong> <a class=\"ProveItLink\" href=\"__pv_it/8df8f10c493ee59e50b9ba26629f78d380ec048b0/expr.ipynb\"><img src=\"data:image/png;base64,iVBORw0KGgoAAAANSUhEUgAAAIUAAAAUBAMAAABRzuPpAAAAMFBMVEX////MzMxUVFR2dna6uroQ\n",
       "EBCqqqqIiIgiIiJmZmYyMjJERETu7u6YmJjc3NwAAACgK8IjAAAAAXRSTlMAQObYZgAAAeRJREFU\n",
       "OMullD1Iw0AYht+0NbZpUoqiCC4KBcWiBFFEBCm4ODgICoKTi5vYDkIRHApCKeLQrSIINzmIiIOg\n",
       "iEoQBNGhOgvqJIKgHdrJH7y7XEqapu3QD5pevve5N3ff/QChBzQTq+xx76bcfZ8bGC3Fave1CM8r\n",
       "fTlyRS6lHqiFegMQhEoALetK9IeTwGw9D4sYA/yvFcpTJkPYf+TCE0bKpat2ltmCnbgB3iuI7g3R\n",
       "GGpTD908pFPDQSgxrAO+4c9kjudp1iLkRJvwYHKfNBYxS2k4CW8Wl/QZPEWeT8lTntgQRrSE6cHl\n",
       "NSyLvJPQCNJAp5/gK8zyQRvhMXpNDy7reOEvx1WEnMI8YORjgug4oEFMQu1RzHVhctxAlJdjkRGw\n",
       "E1KBeSAODPD8h+0raJfE2lJ5B1hgzdBxFUE96FywC/yqLN9iJ7Ql0YHKm/D9cWK2ivClWE0xB/nH\n",
       "y/KBhEX00t+k8JiDWkSAvLF2Dk6C1nScDrAIL3nkQtoi9pkjQZ5wWS5A0XWW9y85CAR0TPPRhAZN\n",
       "7frEXP+uEv0CPQr+bS63ZiHv8XVXozOoIKCEnXt96szc61asODeqb0LsdStua545K/SGFwg9c7iq\n",
       "B6iJRhZsOu53UPmUNhxGkNWiybvwGfgH3LGI0x4UpsMAAAAASUVORK5CYII=\n",
       "\" style=\"display:inline;vertical-align:middle;\" /></a><br>"
      ],
      "text/plain": [
       "assumptions: (n in Naturals, m in Naturals)"
      ]
     },
     "execution_count": 8,
     "metadata": {},
     "output_type": "execute_result"
    }
   ],
   "source": [
    "assumptions = (InSet(n, Naturals), InSet(m, Naturals))"
   ]
  },
  {
   "cell_type": "code",
   "execution_count": 9,
   "metadata": {},
   "outputs": [
    {
     "data": {
      "text/html": [
       "<a class=\"ProveItLink\" href=\"__pv_it/14e722033ff998158bbaef57b926ac14c2a5ce6d0/expr.ipynb\"><img src=\"data:image/png;base64,iVBORw0KGgoAAAANSUhEUgAAAQsAAAAVBAMAAACj0NY+AAAAMFBMVEX///+IiIi6urrc3NxERETM\n",
       "zMwQEBCqqqpUVFQiIiJ2dnYyMjLu7u5mZmaYmJgAAABN0h6tAAAAAXRSTlMAQObYZgAAAtFJREFU\n",
       "SMfNVk1oE0EU/jbpNkmbphV6UGlpRAgIgjkIVlAaJFQFMRVqUaQkhyqKIDmoIFRM0INgYkRBKyrW\n",
       "e8GAICJC1iIVvJiDhyrERvBQEWqStjRabXwzWdP9SWeDpw5kM++b/Wa/N+/NmwHg+Yx10Nwv14MK\n",
       "eAoaw34OsMUDqiWnreknTPOlyrlr+8Sk2UpyOujVQS23NIb8CxiaLKlWa8FaRsaENJMXMwNi1gjQ\n",
       "tri2DNY+1Hrff1uvZUYxQuE8sCMrZMkrtOh/xDKStay5PG8p4+2M3wj1EPKjQ8iSaGJPcW0Z9qMa\n",
       "GR6pZCkj3+M1Qv3kwBlFyGqKAFMPTTLcG65uecKMnWUMn8qpI9sdK1YqbMqVvBErA8cTYlp7DPKY\n",
       "XqmTtsM7fOt4wK0XwPV/MfHKbN0GRfNNImxcfrk813nPghe++eVgVA9dpKSewFNlK7cOrMqwwU5Z\n",
       "NPxRJMOLvmyduE/FxDxKH/dpHTJ4hx4KgqqpkXEsN71Af9tEGZ/MpQJ14i4tiXn9TIp+OXx8ixfN\n",
       "Mij3zlrIsFGVSJvjDqko5pWZDH00ncwdedEkw0G/uxYyyCFXhA6lI93SxgFN2XCWhDxWNpDyMp5u\n",
       "p4xKBXQZZOxSS6RgOnuUV1qPL9+ckGKashEOCHksfeQFzvNrZNiWmgr26sYLQk0TOysnIT+fzr1M\n",
       "/fdptVOzsJulwjz2bEK7t228iuE5xWpEqcPjw/zRSunjO8R5fNcykGS4413dc9W0rCR6K4fZt0LL\n",
       "Cs5XHlW9uk9vu5i7Y1AfLio+byqv4Aj9zCKOIbiiHMMNdmpFUYfHO+wdZ4YOv/1kxOHjX2UjpmJu\n",
       "aGw6h7kojmr6J9GJPlmPNcb7JNeCEhHLuMTeMcPjmhQpkF9fW3RYg7zbF+reN8xt7+M48Np8WdJs\n",
       "N1sMz9A7ocMa5G1ePQoauH3lzQd8vUP/P3lqgVgHd9G/iCbNKbyMIx8AAAAASUVORK5CYII=\n",
       "\" style=\"display:inline;vertical-align:middle;\" /></a>"
      ],
      "text/plain": [
       "{x if A_{1} ,  ..A_{_a}.. ,  A_{m} ,  B_{1} ,  ..B_{_a}.. ,  B_{n}."
      ]
     },
     "execution_count": 9,
     "metadata": {},
     "output_type": "execute_result"
    }
   ],
   "source": [
    "x_if_A_and_B.replaced({A:A_1_to_m, B:B_1_to_n})"
   ]
  },
  {
   "cell_type": "code",
   "execution_count": 10,
   "metadata": {},
   "outputs": [
    {
     "data": {
      "text/html": [
       "<a class=\"ProveItLink\" href=\"__pv_it/1fa56072ffb491999906e588aeed360087bcbeda0/expr.ipynb\"><img src=\"data:image/png;base64,iVBORw0KGgoAAAANSUhEUgAAASMAAAAVBAMAAAD/WpUaAAAAMFBMVEX///+IiIi6urrc3NxERETM\n",
       "zMwQEBCqqqpUVFQiIiJ2dnYyMjLu7u5mZmaYmJgAAABN0h6tAAAAAXRSTlMAQObYZgAAA01JREFU\n",
       "SMfNVk1IVFEU/t48X/PjOI7gokKZkWAgCJpFkFHhEFIJkROYGCG6sCiCmEUFgdKMFQRpSkEZGdmq\n",
       "jdCAEBGFLwmDWuSihQWTI7QoAhv/cMpyOvf9+f6c56KFV2Y857z3nfnuud899wIIfMEGG/4XG40R\n",
       "Ajmdw58HXKmY4glpZ/hJS76+fObagfX//rdC72R92BDy9esc4TfQPDaneKU554yjlsgmmtFUXHOj\n",
       "9jheszqAssW1KbHxUbN+/HGu8ahoDrVlgZ0TmvvKHliqviGs0ML8LU6pV1NZ17wjpbdTliqEKPIz\n",
       "qNW9QbQFNg0qBkc/EphdmxJ/XEcpwM05UsqGwubQQZrMWY2HpyZoC+yuUIySdmB80ELJX3G15jFz\n",
       "duXRejqjPNnhXnFi5BKvZM2xPHCiR/Peo992n6e9ilWehDBgrKSHttU7fA8+kLznwA0VFRZYPZuK\n",
       "URpDm7kIQn6m8t4q7gn92QxfwpdQpHdruiFhfHiJNscwnorbJO/wKiUXeFJd66dilMKomzCFmDbG\n",
       "kxquH3vtgF7waU16/jNGmd2hLxH1iquj1JKZXKB/24swEnozfTFTjGmDW1JxgSA8cRvkNHBdkx5C\n",
       "xjJFJMSslRLp9pwDJRd1IXM7JW2Am1VxXhFC0gZJem7RpIeQcfU9bJrCooWSmz53HSjR5LztdEge\n",
       "q+Y2x3VtyTOn4rroM2IFumm5S6NqW0JfmOUw7LhOLocqE6XdSmsuQolPSB0+EMlu6uGSurbUFlNx\n",
       "Iwotc6OMyrRk6QkLUo6ojpJrqSTHy5u5HoqseLZ3G6NSav8y2R/SOkP+2sOkM499W1AeLhuSY3hG\n",
       "69khKpSEmLx4ZniTsnhEjqQXOSLlkDoBe0yU/Kmq6hlZ0oWe2sJR1gEal0VcKDyUU9+nt72sDANQ\n",
       "DC/le1N4CXfjrwmk0AxvQorhJjtFE2p1PayRckGY4d3sIWuWnlE6pA+RkUJEFl/S5kAxDZbabT0U\n",
       "OnX2KVSiTjDGZEouyYzbNA9WQhhyfNZ8X3txSpfZO9bwkE5SOZrjV58hJuPWPyjH7Yu29yXr2P8o\n",
       "Bby2Hgi6betKkoprhw0xGbf+QTm2rh5N67hVZq2XEruLyn+7Vro32N37H51227fOyISNAAAAAElF\n",
       "TkSuQmCC\n",
       "\" style=\"display:inline;vertical-align:middle;\" /></a>"
      ],
      "text/plain": [
       "{x if A_{1} ,  ..A_{_a}.. ,  A_{m} ,  B_{1} and ..B_{_a}.. and B_{n}."
      ]
     },
     "execution_count": 10,
     "metadata": {},
     "output_type": "execute_result"
    }
   ],
   "source": [
    "requirements = []\n",
    "x_if_A_and_B.replaced({A:And(A_1_to_m), B:And(B_1_to_n)}, \n",
    "                      assumptions=assumptions,\n",
    "                      requirements=requirements)"
   ]
  },
  {
   "cell_type": "code",
   "execution_count": 11,
   "metadata": {},
   "outputs": [
    {
     "data": {
      "text/html": [
       "<span style=\"font-size:20px;\"><a class=\"ProveItLink\" href=\"__pv_it/d35d75e07a5380e9b6b687b02d9c493827c3ac5a0/expr.ipynb\"><img src=\"data:image/png;base64,iVBORw0KGgoAAAANSUhEUgAAAE0AAAAVBAMAAADx+n4ZAAAAMFBMVEX///+IiIi6urrc3NxERETM\n",
       "zMwQEBCqqqpUVFQiIiJ2dnYyMjLu7u5mZmaYmJgAAABN0h6tAAAAAXRSTlMAQObYZgAAAVVJREFU\n",
       "KM9jYGDgu8eAF7BePACieHYxEABMqSCS7wMOaZ79LnsYuPKTGBhug7hcE3CZw/IggoHhPJCxEr86\n",
       "jqmMAgxsuNU9mTlzA1idyoFWBk6c6kJkYOaZNpw+gKJOq9lQQiBKQgHs/D1wew0KWRtA6paBeUA7\n",
       "FrgI8HxUYE+AyCLUcSk8BKl7D+KVBTCwFsxmYP4FDSEWhD8MGHo4IoEM7gtA10wGWsXziYH9DwOH\n",
       "A0g2bDcQbICqO8GwDcTqFGBgUAtgYGD/wMA7gYFNACRmgmwe64IwkHkNIB7QFN4NDJwLGPQNQBHJ\n",
       "hqyO4TkLzH0g/7ItYDivwHCbuQDI5xWAqwPaxGUC8y9Inb0CQz0Dwy4usPR0mDpukLbbyOGnycAg\n",
       "y8BQ+xgsfcLpACQ9zU8Bkqdxx5uWJyTe4ACiLoFQ+oOow5n+EACc/hgIp+ckMMVOTP4AANFVU3Cy\n",
       "SP1wAAAAAElFTkSuQmCC\n",
       "\" style=\"display:inline;vertical-align:middle;\" /></a> <a class=\"ProveItLink\" href=\"__pv_it/d68eac74ff8704a24e39ec7cd60a68ec4e90980a0/proof.ipynb\" style=\"text-decoration: none\">&#x22A2;&nbsp;</a><a class=\"ProveItLink\" href=\"__pv_it/2b589a93a58936755f2e0e5603f38f4620078de90/expr.ipynb\"><img src=\"data:image/png;base64,iVBORw0KGgoAAAANSUhEUgAAAn0AAAAVBAMAAADBZUXgAAAAMFBMVEX///+IiIi6urrc3NxERETM\n",
       "zMwQEBCqqqpUVFQiIiJ2dnYyMjLu7u5mZmaYmJgAAABN0h6tAAAAAXRSTlMAQObYZgAABJxJREFU\n",
       "WMPVmU1oE0EUx1+y3W6SxhjBg0pLU4RCQdCDoKJikFIVxFaopSKlPVRRBMlBBUEx9QMEWxsU/MCK\n",
       "9eTBggVBRC1dRSrooT14sEJqBA+KUPslxs84szv7kZ03m02L0E5JujP78n+/92b6ZjYFgMgYLJw2\n",
       "/2DDjxdQ+uYhbGTC1pGOAPg74qwn9xcntY/T7s6mz231LvAp1/W2Nvb/YPcV7bCwfShl68g/AZqe\n",
       "T7FeWR6tQHKNdTnI3Swl0b1vwGxxjXaARd9c+L3CChoP6HAoAJRADJiHRNsb8+rLb9tw2QiuPWAt\n",
       "jkHVebM1A7B6BLHFNeS/ZEX98Zo/F1jB6uUAnQ4FgGbsCCCH1GUWm1PTtuHGHlRa3mEyvXzPTV8l\n",
       "GfkaRWxxDR9xGJksJn8CWLzxgA6HIkAzdgQwD0naY0OK+KZst84sQaUDVWZ6MpVcJakjgR1SEVtc\n",
       "o6QNYKjHa/5cYPHGAzocigDN2BFAihRecrbqDu2szULLgTS7s0r5a9v5+oOo9GswQvKrpzPOu1mA\n",
       "vZ2IrUBjcRLk62qB/HmAxRsC6HAoALRiRwADZN96BZ+jN7XeI4ALxqdism2lhhKhBKZ9l/zo7Tm0\n",
       "OmdPzo4vvYbZCjRaL33YwXm594S2gWJg8YYAOhwKAK3YEcDjZHvsg/vqSq233ULyg0QrZaPeC4KE\n",
       "HhBSsJFdxWDLCFJehpKmhmUr0CDlMnzQLQUeYfGGADKHctwV0IqdB2y8Qt5UqGVdG1Jz+u0MQMuo\n",
       "3vsAcB7b0qIQ0M8ncle6O46UF993Q8OyFWnUUcSEOANeYfFdCgHUHcrplCugFTsCWK19YpJHIrX2\n",
       "MPlVo/dI0WzGpkYFOclWAJT28+UFfJOGhmUr0shSvKhLDjzC4uUPAWQO/SlXQCt2BDBA50T+xiEp\n",
       "5HXVRFLIyi9DTpenyOuBdkVmJdiGHP8CU4aGZSvQoKcr6I6h9e9REbB4QwANhyx/AkArdgyQbmkn\n",
       "fRNQ7kBax87rOhL9vIKcoB8wtyAltEeAyNjuCt+yBtvxrzVuaJi2Ig1aLuUZTcNl/y0Miz9DIIDM\n",
       "oZE/AaAVOwZIkPzfSyYkfWuvBVZdJCpZv8ZAamTrGIbJn0D4F7vQC2+QbugbaLmbhkh1prTTl9RN\n",
       "4CFBa1eZhmUr0igjy6N6p6ahTfdwP5K/QrCmsOVBe3MAamPMIcufCNCMHQUkSOGO8opxvQznOtfn\n",
       "dtHzQP0vFY7mbhn5O0Pf6CkySAvEdeMiQNeyjxSEF7mnoNT/GNm0HBbHFvUC3CAcF+nTdsJYFqat\n",
       "SCMwmE2f2wZANbQzVjCJ5K8gLPWc7yHYwwPSMcMhy58I0IwdBQyl3E9NNUZ9JhOE1WTS7HtWBzRB\n",
       "kORMUZ0avK1Yo9rr8xsCq/AH8JMIoH1Mz58IkI/dDhhq85I/z20/LIUtxFloThrvZEH+PMCG+OFe\n",
       "BLCXy9/sACMFvvc5UZSyNEEm5yMJ4dmcNC4f8/D9nwD2Gf/8FeUB7WOgpOYA6P6V7ubbHcVI+5Nk\n",
       "F1vfR57V56SxIiO45wGW/2gEAbSPSaPZ6OwBlYX0/4/5BvsP+SLTPuC/a7sAAAAASUVORK5CYII=\n",
       "\" style=\"display:inline;vertical-align:middle;\" /></a></span>"
      ],
      "text/plain": [
       "<proveit.magics.HTML_DisplayObjects at 0x7f5b9ab2f908>"
      ]
     },
     "execution_count": 11,
     "metadata": {},
     "output_type": "execute_result"
    }
   ],
   "source": [
    "requirements"
   ]
  },
  {
   "cell_type": "code",
   "execution_count": 12,
   "metadata": {},
   "outputs": [
    {
     "data": {
      "text/html": [
       "<a class=\"ProveItLink\" href=\"__pv_it/3867ad88e99ae9a232825d2831ae633bbe1e49b80/expr.ipynb\"><img src=\"data:image/png;base64,iVBORw0KGgoAAAANSUhEUgAAANYAAAAVBAMAAADIsQ0HAAAAMFBMVEX///+IiIi6urrc3NxERETM\n",
       "zMwQEBCqqqpUVFQiIiJ2dnYyMjLu7u5mZmaYmJgAAABN0h6tAAAAAXRSTlMAQObYZgAAAqNJREFU\n",
       "SMe9ls1r1EAUwF92Ns0mG+MGPBRBmpNUELoIWrzYQO8mhz0UPOziSfCDPYggKC6VXgqyWwStWGH/\n",
       "AWFRPPgBzWpBwYM5iRa2roInEda2h8pW68wkk8520qSHYiDk5b3J/GbevI8AgLEC/+vSX+zrdNJL\n",
       "NxCM5xZ5oK5SjIxGjx96qgsweoi9nUufW24NvmvWoLQEcHvb2OCHlpsgXxpj4xfTWfleDAtts54C\n",
       "vN+Fha8DdrTlRS+V9WMzhpX3mWRgSSvsysr5THr7pZh62jfXYlilBSapeAa9Es866XKs7oiVxjKk\n",
       "1RjWtMmk00T3ZIDVHj5xmOwUOTX54+UQlvFuddNYx5W/IktvqYx1hOgeRy7DgaQ3jTmVBlS+Brla\n",
       "aHkNZcyX7SQXWvIvkaVVtWrIOkvPlBmv4XzQPG0zQ88my7EsmPBB7jQSWBlAf0SWCqgVsu4T3fXQ\n",
       "VrpLlgfZcPUcS77TqWNtJok11fm0LrK+AsyErPM0kZjxKM3zgwWBlQEYaqWw8HQXRRaOwqlYVo7u\n",
       "qOwKLOxytZLMUvB9D+Dnd9M3ZyKWgmMrX+R8eIyPQ8UbAckbZKFqUBSSWONBbfl2BS54wxELcwgv\n",
       "JjYIa6zqwJlgXzY7OpIZ2bWA9YHEah92CIDIMpwiajdgFZYDAyaUyOcLAYuG+zIN2X7Aeme2V2gq\n",
       "yfWNN/V1Ii5tvQLF+e1TlkrqwDwpAzUmYI3u9D24uvUIcgW5Qrz1wKOsaTKTGbCo+57Rxc/H1Kid\n",
       "YU3sNwQ1rxlyJRv1XHwUlEWLjczVqIigVZJZChnZFNS8ZgLvzLCboIk9ZbD2Gr1EFPq8UQC9IBQM\n",
       "XjOKwwHNetCO6V+TfE+BPfRlYw8aUqvje+Uk56R9/d+QHoaZKrF/AIM1pn+dh6pIqlXFdgAAAABJ\n",
       "RU5ErkJggg==\n",
       "\" style=\"display:inline;vertical-align:middle;\" /></a>"
      ],
      "text/plain": [
       "{x if A_{1} ,  ..A_{_a}.. ,  A_{m} ,  [and]()."
      ]
     },
     "execution_count": 12,
     "metadata": {},
     "output_type": "execute_result"
    }
   ],
   "source": [
    "requirements = []\n",
    "x_if_A_and_B.replaced({A:And(A_1_to_m), B:And()}, \n",
    "                      assumptions=assumptions,\n",
    "                      requirements=requirements)"
   ]
  },
  {
   "cell_type": "code",
   "execution_count": 13,
   "metadata": {},
   "outputs": [
    {
     "data": {
      "text/html": [
       "<span style=\"font-size:20px;\"><a class=\"ProveItLink\" href=\"__pv_it/d35d75e07a5380e9b6b687b02d9c493827c3ac5a0/expr.ipynb\"><img src=\"data:image/png;base64,iVBORw0KGgoAAAANSUhEUgAAAE0AAAAVBAMAAADx+n4ZAAAAMFBMVEX///+IiIi6urrc3NxERETM\n",
       "zMwQEBCqqqpUVFQiIiJ2dnYyMjLu7u5mZmaYmJgAAABN0h6tAAAAAXRSTlMAQObYZgAAAVVJREFU\n",
       "KM9jYGDgu8eAF7BePACieHYxEABMqSCS7wMOaZ79LnsYuPKTGBhug7hcE3CZw/IggoHhPJCxEr86\n",
       "jqmMAgxsuNU9mTlzA1idyoFWBk6c6kJkYOaZNpw+gKJOq9lQQiBKQgHs/D1wew0KWRtA6paBeUA7\n",
       "FrgI8HxUYE+AyCLUcSk8BKl7D+KVBTCwFsxmYP4FDSEWhD8MGHo4IoEM7gtA10wGWsXziYH9DwOH\n",
       "A0g2bDcQbICqO8GwDcTqFGBgUAtgYGD/wMA7gYFNACRmgmwe64IwkHkNIB7QFN4NDJwLGPQNQBHJ\n",
       "hqyO4TkLzH0g/7ItYDivwHCbuQDI5xWAqwPaxGUC8y9Inb0CQz0Dwy4usPR0mDpukLbbyOGnycAg\n",
       "y8BQ+xgsfcLpACQ9zU8Bkqdxx5uWJyTe4ACiLoFQ+oOow5n+EACc/hgIp+ckMMVOTP4AANFVU3Cy\n",
       "SP1wAAAAAElFTkSuQmCC\n",
       "\" style=\"display:inline;vertical-align:middle;\" /></a> <a class=\"ProveItLink\" href=\"__pv_it/e0518136c0a973755d95ae54a2afd9e424c9becd0/proof.ipynb\" style=\"text-decoration: none\">&#x22A2;&nbsp;</a><a class=\"ProveItLink\" href=\"__pv_it/bdf102d7374856e6ae87f0eab76faf814fdba2ca0/expr.ipynb\"><img src=\"data:image/png;base64,iVBORw0KGgoAAAANSUhEUgAAAeIAAAAVBAMAAABoJ/CFAAAAMFBMVEX///+IiIi6urrc3NxERETM\n",
       "zMwQEBCqqqpUVFQiIiJ2dnYyMjLu7u5mZmaYmJgAAABN0h6tAAAAAXRSTlMAQObYZgAABAFJREFU\n",
       "WMPNmFtIFFEYx7/dcZydcZtW6CGCcHsJgyCJrgQl1EO9tPtgIUQogRF0wYcIgqTtBtEFN4IuZOBT\n",
       "0UOwFEFXnDWhoIf2IaICbQt6isjUB8vKzm1mzjjfrHsEpaOOZy7f/P7/cz8DAPYQ/A/pW3muSMnH\n",
       "s/bq2JMsz9iP0vSfVjaaop591TtnZHtYelI7BBA/0eye7lLj6IXguZUO5gYATkXFfpdP1pD6blyg\n",
       "oEKJbOXlyF8AO/tH3NM+uTAiYFKt1Q0jXM3n3idVGaX5jnzS1gv6gRVpREVEUiIHHNP0xq/+Pkd6\n",
       "aQmHPfOzX38jXBbHcjbJWalqHJM0rxlVEZGUyCHHF73ci49SBbb04O1pm6cn2TWKcFkcy5nkbcn2\n",
       "Kh0nSqiKiLFIiRxwrO2QHZcb0v6tk/UoLLHEKzs7NoJwWRzLrafX7lXjeHVWchxQgSc1MnNcXLhy\n",
       "EVW+ahx27x0Ud+LOcX/GSBZMfIwFr8SWG3/DXB7HuIvptbsVHLsqtExOf3uwhKiISGrkBBnmkr32\n",
       "JZMNdw8Bzrp3+qGN8HXeoaxOqxOD3SY/okzS+o8wl8cx7nbW46TbT1jizs7LKupykMhhKiIatRr5\n",
       "CJm5LMf6HWe9ZavkOA2bSqAP8jo0QStgtDxscJsEaH/CXB7HuFfptaO4aKNDVlEjOQ6owJMaueUy\n",
       "LSSoEWUoOdYvDnaTq3HO+gRwButBKUiIyb518N1YmMvjGHcPm3gixr8mWYXkOKgCT4rkpUzw/FTI\n",
       "cRygtuCxyLjXisBMB/ScWxmwP8zlcdM5hniHrEJyHFSBJ0VygpVrWzbkmHQCs91lGaS31SGzRBef\n",
       "3ukT5O8KWR5/qS/Vn/G4Is5vW8tC/ZhbOy2rkBwHVET0CEUyHasNpwFiTtCx1smXMpxF3RrIGuS+\n",
       "cA2wlq+OPh+Cfc5Cjyvi0JFr6ljtq/AdB1XgSZVMHa/ozMBGdraF/YKYw2pGXVaLaNnwuiAOyQkQ\n",
       "Q6hJVWr0sUyTVszDCHzgdwlNxDEumx4+sMF1AnPsqyD9WXRpWYVH9TLsoEymjl/WF4fYpNc6eWHd\n",
       "JCuRgcmnYGR+loTjk/RAZ3Qz5x6u0S5B3xcjvS+ZmXDg8ORNSKT0dtqKrjuMK+IYlzWrB8zINcyx\n",
       "p0LvHn/ePVaeqsLsEZEenlLUyVa+8uzOHbNlj47MCzRlpSu12VizNpwlTZRxRZy/1stXucrEVBwL\n",
       "d2FnBmSrvTLLyCvtGDeRsrabe8EK79kq7iRuVaEivIW2ZkK2hyuitPfjKRXHjWTI0M45UER2qZsr\n",
       "7Ba/T68iGRZSnBF5dr6BlPF9+ebIHe7030BsnKJONmbtO1fshujhMffbix298esqzw35H3RkcH61\n",
       "dA7dAAAAAElFTkSuQmCC\n",
       "\" style=\"display:inline;vertical-align:middle;\" /></a></span>"
      ],
      "text/plain": [
       "<proveit.magics.HTML_DisplayObjects at 0x7f5bb0c314e0>"
      ]
     },
     "execution_count": 13,
     "metadata": {},
     "output_type": "execute_result"
    }
   ],
   "source": [
    "requirements"
   ]
  },
  {
   "cell_type": "code",
   "execution_count": 14,
   "metadata": {},
   "outputs": [
    {
     "data": {
      "text/html": [
       "<a class=\"ProveItLink\" href=\"__pv_it/63a7a58ccd5c675da979bbd5c0d86429d9b9c1af0/expr.ipynb\"><img src=\"data:image/png;base64,iVBORw0KGgoAAAANSUhEUgAAAOQAAAAVBAMAAACkt18CAAAAMFBMVEX///+IiIi6urrc3NxERETM\n",
       "zMwQEBCqqqpUVFQiIiJ2dnYyMjLu7u5mZmaYmJgAAABN0h6tAAAAAXRSTlMAQObYZgAAAwFJREFU\n",
       "SMe9lk1oE1EQgGez3Waz2W434EEESbxUPTWIB0XQYotakJpDlXqQFC2il5KT4EGIVUGwtREPDdhD\n",
       "b56UYFG0Im6kFKEHe/CgQqsVBEH8aVUMthrfvJ/dl+RFWipO/uZN3uy3b2bevAUAZw7+s9gTdf7Q\n",
       "HqaY4jxI4I/+Zk2ccNJXnS+SXe8HCJ1vo7qVEFamTZLP+/LQi47EijHOcGn24l4+uOCbrZw0x/gJ\n",
       "cOTJYgDSA+Q4fvUBNH0P5ifVKF0ojeTuX/NgTauRKM/ltUVnhOagZvwmUfgVzH2kRlIvlDRJRisf\n",
       "WG5d5JCM7B4VWgRXpH0l7IUgKJ2eEkm9UOLE6TNH2b1KpH64CjkQE9pOtDUQt6lRf7q5yVUiqRfK\n",
       "PkI6LW7rTgWyuH7bBvTeXoJjJ2cDpF2ICORGtDVnwcgHK5uGnHITUC+UEsDRQWG+5d9pgcwZc65F\n",
       "Cji6D3BZWqWVsTIc2UVzc3W+kxgMVtNwk7wUwrww8KVP60Z88wehnCEFZXnWcohW34FKZAT0AkeO\n",
       "8NzYp8CY5YvLwS4Vknnx1E9lhfmsyPR1jAQ08PuuQs4DXOLI4zw3EM9AiCEdF8yUAsm8eOq1H8Kc\n",
       "FkoLdWp2lUhSKT0ysoRIVyAjHhhZBZJ5sdSDtlCDNOn60ikVMky2VDQZBBa3JQwnBPKcaBBVrY15\n",
       "8W1pLsLHdzHcm1vlig17cdC8WiQ6kgv45YO5Mb6BQI5zbHUjYF58W6bb4G0/nJDLB5GtmUOwm446\n",
       "6Fsgu1mYKBJLPEpy03JQIGndkuCCvUSUZwWuCC8i98jUPk8v5mCZjF7RDbTEkE9jxTl6TvSUB3eU\n",
       "u3zkAP7GGJKExXxMuvR+EEgTzRoWQR7ZWa4IL4AreAiQ7WK6Iew8d+ll84qGJ50ftJ0bUsPjwpAh\n",
       "qteWLPcKpDHVNJYC2wdZvfWRsubMSAWSW9VRuQcim1NSW684L/+ChPagE78suatBbgHttnx4wcQK\n",
       "kZNrfPxol6JU59lHu8HTpP2TBxFH1MIfkia7q1ufCngAAAAASUVORK5CYII=\n",
       "\" style=\"display:inline;vertical-align:middle;\" /></a>"
      ],
      "text/plain": [
       "{x if [and](B_{1} and ..B_{_a}.. and B_{n})."
      ]
     },
     "execution_count": 14,
     "metadata": {},
     "output_type": "execute_result"
    }
   ],
   "source": [
    "requirements = []\n",
    "x_if_A_and_B.replaced({A:And(), B:And(B_1_to_n)}, \n",
    "                      assumptions=assumptions,\n",
    "                      requirements=requirements)"
   ]
  },
  {
   "cell_type": "code",
   "execution_count": 15,
   "metadata": {},
   "outputs": [
    {
     "data": {
      "text/html": [
       "<span style=\"font-size:20px;\"> <a class=\"ProveItLink\" href=\"__pv_it/ca146943eed8294dd85e98a61f472bd732acb35f0/proof.ipynb\" style=\"text-decoration: none\">&#x22A2;&nbsp;</a><a class=\"ProveItLink\" href=\"__pv_it/c9c1a8c4ccee7ac03e358ab558fe9905b1892e700/expr.ipynb\"><img src=\"data:image/png;base64,iVBORw0KGgoAAAANSUhEUgAAAfMAAAAVBAMAAACgSxpTAAAAMFBMVEX///+IiIi6urrc3NxERETM\n",
       "zMwQEBCqqqpUVFQiIiJ2dnYyMjLu7u5mZmaYmJgAAABN0h6tAAAAAXRSTlMAQObYZgAABNxJREFU\n",
       "WMPNmF9oHEUcx3+7e5vbu9tsN9AH+yc0QYjtUw5RURQ9NFQD0p4QpT5IQm1KBS0Hok8NXGoFoa05\n",
       "60MD9uGaB0XwT6AoWilutAS1D96DiAqJ1xZBkbRJbelhq3HmNzM7s9ndy93WiBNyN7v33d/395md\n",
       "mZ1ZAHDm4X9RFur/taN9OuaHTR/xyu/H8OtBeHEt8zhXXSUP59Me+mXcYgspEM6ict7YD6CPF7A+\n",
       "5Z/Fml0AKy+Vvy4f/WGgp2VDZ6Ixd+jhZorL6sE9hG/regjmkUW7s+2bB/QKRLaiaMw/AZ764oq0\n",
       "zPu1XB7saUW6B6DzmjzMR5saotJB2vPnYpP03lUPhqtgPt/f4+dhSPRTCcxVvQIRQKflO/Ven/Fr\n",
       "C+T/pNJIf5P+8Zc8PhPtnqsJGHIf+2utopPSWVDywDCI7tQSmAf0J+PRjyqW5qAn0N8k/7NSpf1B\n",
       "0liSLYHCcBk6wStbyJ257LaBbtWUPDAMomfyCcwD+tlodOPJILrV64ouR2U5Ob5SIyTICZlobzTW\n",
       "wS5e2U662nNeq+h3F4PoGAbR70tiHtBLCIpud73Si/3grgY8s3dOWp6DCq9p2OVkj11XBnNSojBh\n",
       "+PExneG1BsDTR2AV9Jnb7txIKYydZfP7F2p+HiwMoncnMQ/oJYRFhv038Jv7Fh59AvCa0trvkD9W\n",
       "S9FniiOniOHXzw+WSF/jI5IJQyVbypZYn2xcWn889OtnWFgqh0muVeeNDFrkymCVZR4sDKLvSGAu\n",
       "9Pxh40O8TKbd9+BD73Y8eiyIXoH7eS1DL03L1iVj194H5hw/w4ShkgFj2h9ts+UmNz09SnL1sjd1\n",
       "nK1TQXQWBtGPJzDneuEkIIbo9OXBAD8MojsuWEWG3kF9TbkG2E4jlkBncbgwVM4DvOqPNu16PLk5\n",
       "SJBtSPH7uAKdhUH03QnMhZ5b+RB9eNVSJHrGA7Mcjd6g0VzhzoWhQqaWXWK0gbbU5K7royhzI9FZ\n",
       "GIneprnQr0S3aEOb1yLRx9gSwu/wekV9rMNEjzgzJtYaK3pxDZdC/LFuXYGFX7pqobHO0j6EsmIU\n",
       "Og/jd/h2zbnemX+iOwBBZ/gD2iJsjkA/xQJHTHN07JpX/ThcGFpT5FkG7LE+XIAL++HZ+Bk+7W0B\n",
       "zQuj8zD+NNeuOdc7ffWOvApB0PXrqUW+KxgAf9hPsRmUdKcp8UjopFuMb+mlOTJ2+x4X7kII9g0h\n",
       "wI8h3u8APibSPZ4xU4Gb+Ny5EYXeX9pJNkmIXvCHPXHnYRD9/Xhz9JQZSHOuf2ADrPM4BEoIuj2+\n",
       "ufsS2uxaPnLv8g5haVEvzUV0tMnR/pgh4azPyW7kUb/3CCHAJBWUxcdB+iNdVxym+wcyZCxXH8Hg\n",
       "k1HoX3XNzOMdMCcaX05crYs8eBhE39bEHD0nQ+a+fhz6BARKspWYHjgFOn4X5UL2azxxQJ2d8Goh\n",
       "XFlw3WQqJzqKndViawtZJQ8eRi5kk5nDKPxkCgjs8COxloGa3L6oG+t0pa3N8kOQuSMG/W1YLQ+5\n",
       "fUlmbizCsZfU7Utgv94EPSU2rbayYDZ+bLjtuG8F7YNW9uvx6PBIYnO9DBvrgZ336dbQ7QKlp221\n",
       "Nm9pctXW0M/eok9KGTHpmHdzG8QLqk3iBdXFNX1TNlZvnof277yg8iH+AfPWp4i4J+q0AAAAAElF\n",
       "TkSuQmCC\n",
       "\" style=\"display:inline;vertical-align:middle;\" /></a></span>"
      ],
      "text/plain": [
       "<proveit.magics.HTML_DisplayObjects at 0x7f5b98f7cb70>"
      ]
     },
     "execution_count": 15,
     "metadata": {},
     "output_type": "execute_result"
    }
   ],
   "source": [
    "requirements"
   ]
  },
  {
   "cell_type": "code",
   "execution_count": 16,
   "metadata": {},
   "outputs": [
    {
     "data": {
      "text/html": [
       "<a class=\"ProveItLink\" href=\"__pv_it/cbd4f5651ec7d49d5c94178e84742a23da3afc020/expr.ipynb\"><img src=\"data:image/png;base64,iVBORw0KGgoAAAANSUhEUgAAALQAAAAVBAMAAAAdo9lKAAAAMFBMVEX///+IiIi6urrc3NxERETM\n",
       "zMwQEBCqqqpUVFQiIiJ2dnYyMjLu7u5mZmaYmJgAAABN0h6tAAAAAXRSTlMAQObYZgAAAk9JREFU\n",
       "OMtjYGDgu8dAI8Czi1YmM/B9QOIw5zEwMDU6QHmsG2DiL/733nBRwG9O/4+7LU4oQlwTkDisvxgY\n",
       "wg59gvK4EbamMDDwfsXvRjagi+4H4DQaBK7AWa//wK38B/TNX/xGxz9gYNC/gNfoXngs1H6GMRmB\n",
       "LL6P+I2WN2BgeC+A02jmUCSj+RhhIcPAksDAcGwOfqPdgI7JPIBh9EEJIymQhSY/GGLT7kJldNj/\n",
       "wRTxNzCwzjiA3+gfDAyRPSgiHMBkwLOAbyInODnsYGDogIWHAis8COL7HnoWAIPcAbfJrD/eiUxH\n",
       "FSoDRirXAa4/TAYgngfCaCYG5r9I4ciTwcB6dwJuo0HRcawBWSRkMsiBDCxQ9yAZHXH3xhekcGSQ\n",
       "L2BgwmM0KDoYv6MIqYGTIr8AhtHAHJKNFI4M8gJ4jQZGBwMjaiLiALs3PgDdaHYgnoaUrBn6FfAa\n",
       "DUrWHJ8Y3j4VvICcQtgPyDMwHkA12hyI9yOFIyswdPAZDUrW8Q4Mj/IYkpGN1i/wZ7AD81zACJTC\n",
       "Qab4GzCcByUcbmA4qvlAjAYLgAie38gMhm1A6ZQDzAcnMIDzMEgQZPQJwYP3HoCj7n+PxX8/kIz/\n",
       "7wMMJf/nMnACMwrHfmDJ484AMRokwMAJSgozYIyZQA93gwowYPrkEGBKALttBpaMjgZqkNjgAKnB\n",
       "UMKOlJnYAngXwMoorgT8Ri9ANmMCmgDUCCS2PQOnegC28hpLTYFU4DDf/CGAIgAFB5HYGgyM6+Ac\n",
       "/LUMH0EBBoYHuDSz06huBACXw5wfDNOV9QAAAABJRU5ErkJggg==\n",
       "\" style=\"display:inline;vertical-align:middle;\" /></a>"
      ],
      "text/plain": [
       "{x if A ,  B_{1} ,  ..B_{_a}.. ,  B_{n}."
      ]
     },
     "execution_count": 16,
     "metadata": {},
     "output_type": "execute_result"
    }
   ],
   "source": [
    "requirements = []\n",
    "x_if_A_and_B.replaced({A:A, B:And(B_1_to_n)}, \n",
    "                      assumptions=assumptions,\n",
    "                      requirements=requirements)"
   ]
  },
  {
   "cell_type": "code",
   "execution_count": 17,
   "metadata": {},
   "outputs": [
    {
     "data": {
      "text/html": [
       "<span style=\"font-size:20px;\"><a class=\"ProveItLink\" href=\"__pv_it/15a00d825a7c658d68ebdf07d8090dfd64f237c00/expr.ipynb\"><img src=\"data:image/png;base64,iVBORw0KGgoAAAANSUhEUgAAAEcAAAAVBAMAAADm2O7QAAAAMFBMVEX///+IiIi6urrc3NxERETM\n",
       "zMwQEBCqqqpUVFQiIiJ2dnYyMjLu7u5mZmaYmJgAAABN0h6tAAAAAXRSTlMAQObYZgAAATtJREFU\n",
       "KM9jYGDgu8eAG7BePACieHYx4ANMqSCS7wM2OZ79LnsYuPKTGBhug7hcE7CawPIggoHhPJCxEo8i\n",
       "jqmMAgxsOBTxec6cDVakcqCVgRO7IlbHA1CTTBtOH0BRpNVsKCsAljt9AGadQSFrA0jRMjBvAwPD\n",
       "AhcBns9guWa4mwy4FB6CFL0H8coCGFgLZjMwfwXLOSAUMfRwRAIZ3BcYGEImAwOF5xM0uFizdwMB\n",
       "VNEJhm0gVifQIWoBDAzsH8C2MjAwI5vEuiAMZFIDiAcU593AwP8A7OQEJEUMz1lgbgL5jm0BQ/2B\n",
       "BSDeRbgioAVcJjDfgRTZKzCs5gsA8TgLoIq4QYzbyOGkycBg8RwSsS06kECdnwIKNRzRwrQEEi1w\n",
       "AFGUgDc9QRRhT08IAE5PDARSZhKYYieYxgGFBlAi2GE80wAAAABJRU5ErkJggg==\n",
       "\" style=\"display:inline;vertical-align:middle;\" /></a> <a class=\"ProveItLink\" href=\"__pv_it/55be2cfa56b1f514769305e255e10900c6b6acb10/proof.ipynb\" style=\"text-decoration: none\">&#x22A2;&nbsp;</a><a class=\"ProveItLink\" href=\"__pv_it/3f8c94f72a45b2c30b2b867152c07f2c44280e1c0/expr.ipynb\"><img src=\"data:image/png;base64,iVBORw0KGgoAAAANSUhEUgAAAZ8AAAAVBAMAAABrkP6tAAAAMFBMVEX///+IiIi6urrc3NxERETM\n",
       "zMwQEBCqqqpUVFQiIiJ2dnYyMjLu7u5mZmaYmJgAAABN0h6tAAAAAXRSTlMAQObYZgAABEFJREFU\n",
       "WMPFWFtoE0sY/rPb7ebWmIIPKkp6EKqC0CBewUuQ4gXE5EAVRSQFrSheyIMKgmLqBQSt6TmCVlSs\n",
       "LwcOHDx9ElGhW5Uq+mAeRFRIrYKgiNp6wXiN/8zOzk4y2+32oXQgYf5/J99+38z//zMTAIj0wRi0\n",
       "t/2jhRy+NhZ67neOGnRkQDDUXQBKa4JZWpflf1Vqe9xY5x0zVywcWeo24r1ozMXVmj7esjZ4R3Ek\n",
       "FmwXDO0bwNqbH5gVsrVuBqj5bOseAp77q3FOnqVciPwrGulO0HY0WLS6wTOKREwSRNpD3nvzgwv9\n",
       "hSv3kz8I5Z3RuT+Nc96Q9yoIW02Cr0u3AV5RJGKOgtp4dh34aHV92IsM8iFN553huT8Wx6iKjkCQ\n",
       "n/O+8ywOXlEkYpIgdY0gKOKzYg+qmgF6bRWHap3huX8ZTsc2w6ugOSlBUH+Mp8SwKBIxS1C49vAf\n",
       "l4gxuwgbtxTYk5n6L2vQuCxoHRw63BVwLpjcXwRYfwKGEdQzYdYkMv9qMqs92skUKcZBXtCHRakk\n",
       "Zi42lrJ78Dp6jlpXAY5Z9Oo0vpbpk89XZjBizUgPZoIZJ3Tu14rvxp+Rnl6nzSR+HPE7I38FaB0N\n",
       "ZcGfZaNuQtoKMgulyUUQIya2vVhG/oP/janUWmELUkD9KURzeCtoBTM8A6B2OaFzP4ns3qwLD70F\n",
       "BRrBHwrNlypBUB0syQv5gSgbn7gAmcTK8vgUfhnQyExB0LrC409CNEMsA4op6DnAUSd07ieR7fvi\n",
       "UptWopAwVLHSJgjS2gq5hJAfBGWGiyBGTGz1tNAPyoIwN7cL0QyxqCUIk3CdEzr3Y2SDb9CFh9JC\n",
       "h0UlQQruPl12flAUN0GMWFkOkQnRPkuCdPycFqo95OqYIB1jIhR3iCPuJxuI/wO8fVmbl3LIZH6E\n",
       "DktJgnCyA83CNoQoboIYsUjfn1PKqtx+3wBMrhA0T9i0STRrGH+mIEJad9jvbD/ZQNIJeLELNg1d\n",
       "5XQjBj6jXJCaEc4nDMVNECMWqe+vjguClC9VA6pZLBuBpZNKuCfj8IAEQAgnrX6VJaiJhReEv+MX\n",
       "GUA7th+u4NDNhtrTDvSsYT6uFNSQScJic4USVjotINZH9gMThQoqfxPlJBJbOBHG0akhThQUbp08\n",
       "5Z1ZCEon5pdWEw7J7wbsLl2AADL0d+MpcTlYgg6RL7qFdpDSlmUd23+cnBhxrv1RxQyfDidBd2t7\n",
       "+ugsarnirdwn0r1dugF68msezho2Cl0h4uBvop0yYq1Qb9bZrMPRp6LtF3O5nVULZCGPlPzVqZrO\n",
       "lLejT2U6invljEqHTKwFnvIXB5vdscWLi94+opvJEghMG0LQP+6/DIrGvkqHREwdgL/3ON6HHI4z\n",
       "Qk1UnxSjIxE0HXyXvdyH5NYj9BddbC13yMSULEyyb8DuN9bI6FwrQ+431v5hHS7E9DH5T+HAKP2n\n",
       "8BucllQdDXH22AAAAABJRU5ErkJggg==\n",
       "\" style=\"display:inline;vertical-align:middle;\" /></a></span>"
      ],
      "text/plain": [
       "<proveit.magics.HTML_DisplayObjects at 0x7f5b9953df28>"
      ]
     },
     "execution_count": 17,
     "metadata": {},
     "output_type": "execute_result"
    }
   ],
   "source": [
    "requirements"
   ]
  },
  {
   "cell_type": "code",
   "execution_count": 18,
   "metadata": {},
   "outputs": [
    {
     "data": {
      "text/html": [
       "<a class=\"ProveItLink\" href=\"__pv_it/9539aca2ac5759e8e4deff7390cc6174e21a71b60/expr.ipynb\"><img src=\"data:image/png;base64,iVBORw0KGgoAAAANSUhEUgAAALkAAAAVBAMAAADoXVL6AAAAMFBMVEX///+IiIi6urrc3NxERETM\n",
       "zMwQEBCqqqpUVFQiIiJ2dnYyMjLu7u5mZmaYmJgAAABN0h6tAAAAAXRSTlMAQObYZgAAAkhJREFU\n",
       "OMtjYGDgu8dAO8Czi4aGM/B9QOIw5zEwMDU6QHmsGwhrj0YXePG/94aLAozHNQFJivUXA0PYoU9Q\n",
       "HvcHwqbvxxBJYWDg/YrVdBC4Ame9/kPY5/sPoImw/gN6/y9O03vhMVL7maDpx+8boIkwAjXxfcRq\n",
       "OnMokul8jJ8Imv5AXgFNhCWBgeHYHGTTeQSbFReCOCY/GGLT7kJldNj/ETKc6UD9AzQh/gYG1hnw\n",
       "4OIAJoxTDC8FZoN5OxgYOmABo8AK8mAIPtMPMcQLoAnF9z30LIDzygIYGNYwrD+gDOZ5IExnYmAG\n",
       "Rk7sTXymKzDYX0ATkjdg4MmAcUImA4kDDC5QLpLpEXdvfAFSmngMZ+292++AJuYGsgHueLUAEPkR\n",
       "03RgdGUTMJ2JgYENPcf9AJkODy4OkOWsXzFMZwfiaQRMBzqRMwFYUAXKMkoEIJI7Qz9KXq1h/MAg\n",
       "g2a6OTQj4jGduQCcn/nUHrD1MDYgkjvrFwYk05m+s3xghqQsFwZoFDCDsoG/Adh0nt9A9vkNSAwI\n",
       "YQlK3p8ZbCQZ+BV4F0DEuIHJXc0HbASIDzSdp1FG9h0kJv/3WPz3AyVH/98HGEr+z4W4fSYw/XKC\n",
       "HDeDAcrgBOaXI//3MLD7/7zA0MgQxsBZABbj2P/jbos7xN0ghRglARoAmc5+AEO4BomdyiDCYM+K\n",
       "KgYLmQT8pleC1GAKL0AK/g9A1z/hQhHDWr5jAtv5jQwMBzHrHKQsytTAsJnBYg2KGBwQUTc9wHQT\n",
       "ttIYm1Z22tWrAMk5lhuM+Q19AAAAAElFTkSuQmCC\n",
       "\" style=\"display:inline;vertical-align:middle;\" /></a>"
      ],
      "text/plain": [
       "{x if A_{1} ,  ..A_{_a}.. ,  A_{m} ,  B."
      ]
     },
     "execution_count": 18,
     "metadata": {},
     "output_type": "execute_result"
    }
   ],
   "source": [
    "requirements = []\n",
    "x_if_A_and_B.replaced({A:And(A_1_to_m), B:B}, \n",
    "                      assumptions=assumptions,\n",
    "                      requirements=requirements)"
   ]
  },
  {
   "cell_type": "code",
   "execution_count": 19,
   "metadata": {},
   "outputs": [
    {
     "data": {
      "text/html": [
       "<span style=\"font-size:20px;\"><a class=\"ProveItLink\" href=\"__pv_it/d35d75e07a5380e9b6b687b02d9c493827c3ac5a0/expr.ipynb\"><img src=\"data:image/png;base64,iVBORw0KGgoAAAANSUhEUgAAAE0AAAAVBAMAAADx+n4ZAAAAMFBMVEX///+IiIi6urrc3NxERETM\n",
       "zMwQEBCqqqpUVFQiIiJ2dnYyMjLu7u5mZmaYmJgAAABN0h6tAAAAAXRSTlMAQObYZgAAAVVJREFU\n",
       "KM9jYGDgu8eAF7BePACieHYxEABMqSCS7wMOaZ79LnsYuPKTGBhug7hcE3CZw/IggoHhPJCxEr86\n",
       "jqmMAgxsuNU9mTlzA1idyoFWBk6c6kJkYOaZNpw+gKJOq9lQQiBKQgHs/D1wew0KWRtA6paBeUA7\n",
       "FrgI8HxUYE+AyCLUcSk8BKl7D+KVBTCwFsxmYP4FDSEWhD8MGHo4IoEM7gtA10wGWsXziYH9DwOH\n",
       "A0g2bDcQbICqO8GwDcTqFGBgUAtgYGD/wMA7gYFNACRmgmwe64IwkHkNIB7QFN4NDJwLGPQNQBHJ\n",
       "hqyO4TkLzH0g/7ItYDivwHCbuQDI5xWAqwPaxGUC8y9Inb0CQz0Dwy4usPR0mDpukLbbyOGnycAg\n",
       "y8BQ+xgsfcLpACQ9zU8Bkqdxx5uWJyTe4ACiLoFQ+oOow5n+EACc/hgIp+ckMMVOTP4AANFVU3Cy\n",
       "SP1wAAAAAElFTkSuQmCC\n",
       "\" style=\"display:inline;vertical-align:middle;\" /></a> <a class=\"ProveItLink\" href=\"__pv_it/f3f89a795fa62bf08f9ab78b7568ff3535e91dc90/proof.ipynb\" style=\"text-decoration: none\">&#x22A2;&nbsp;</a><a class=\"ProveItLink\" href=\"__pv_it/fb0e8b3ec35c69eb96bfb9c2fef1b9cacd0c46430/expr.ipynb\"><img src=\"data:image/png;base64,iVBORw0KGgoAAAANSUhEUgAAAakAAAAVBAMAAAAOfQzSAAAAMFBMVEX///+IiIi6urrc3NxERETM\n",
       "zMwQEBCqqqpUVFQiIiJ2dnYyMjLu7u5mZmaYmJgAAABN0h6tAAAAAXRSTlMAQObYZgAAA2JJREFU\n",
       "WMPFmE9IFFEcx3+747g7u+u4QocCxZVAEDrsIciocA9SCZEbmAgh7qEiCGIPEQRKu1bQwc2FIIyM\n",
       "7NQhIcGLVOIkUVAHPXSww9YKHYog1n9kWW7vzbydGd+82ff2sPiTXd97P+f7md/78/vNCADqZ9gV\n",
       "qyo39GJ3gqouVy3YOtIVAG86RnryVGVS5+iBb8XMUmekKlwOK5C1ueQ/AL3zq6QXtIOjbHXJ1p5z\n",
       "eM8D1G2wLxTluhiHtUMd20ez9eOvbXiWrR5ctGZ/TqOc8jZagn8CUZXhuqw0h+VQz5g7f2jNdlGX\n",
       "xpTvGTeb777Q6+lBAuqKYFRsrovxWDvUpbM2ddWzann8LWGm/HCD2cw300eoJgHwdlwgKneui/FY\n",
       "WD3UcLPlCe4c3IT+izniOeDbti76AFlmJptSSk2vdiNPeetTII9p7lEJcNnGZflRwnkP38MP9d4M\n",
       "wJ3SDUdkvKA9Ru8p+mHdWzKQJM15GKCXc+DuclfS1n/2EttsJVy2cVnX4gCT8Fzbr/dOWupekNDh\n",
       "6/9k9LJwhCWvgFRKwxHoWKS8zVEIXXK5MUEu23isnnvoS4NO0rWp9+WW1tGvNmOvh8EfZ8gvA9wm\n",
       "6SSTG41R3uOYlmRnGTEu2/isVv1mV5zq6DheNtUVDeQUQx8dz77SFEMtXT03MYmdZQS5LseKy/Lj\n",
       "oOUNh7oPfe6b6kPoM+2U96F9EDRyLJomJYEe7s40efbGrRICoxH6XM1UwGUbn4Vz0aCnAI2U+iFS\n",
       "wA31aRIZXYOjRmQoNyf1ZwK1NV874klZJUReB/ccyOeyn2f4LKTu/VVTkIxM2Qlkq0s4kXdHiboc\n",
       "M3YhwAJa+dAWaRiJSi8Sh3HJWIOj+6A+UjdheIOohLSe0uUWphhR8bgmxwLqXwIspB5KNzb9NE5q\n",
       "caS9eBqn1+4tDa4WH5Go/HhpPXjXKnhuxkqNYezEdfhN8RX4un8vQhp6QUmCgkL1z23mbp0guTLF\n",
       "iIrLfaDRQKwrwgpkyxe8NnI8kcUZGRYvpH3kAuyBDjQyyCukIlyfs4IPirECifLq1yt6GZEKaAa/\n",
       "BgAmuFEJcAPO4Qkxllr+sf/Y43QlUXlTKLG0T0IoXNF7nQv3tfMJLSzIqso7qcr/EwFuXkiXyfLt\n",
       "0v8tqsj9D0ioRIJJei29AAAAAElFTkSuQmCC\n",
       "\" style=\"display:inline;vertical-align:middle;\" /></a></span>"
      ],
      "text/plain": [
       "<proveit.magics.HTML_DisplayObjects at 0x7f5bb023d2e8>"
      ]
     },
     "execution_count": 19,
     "metadata": {},
     "output_type": "execute_result"
    }
   ],
   "source": [
    "requirements"
   ]
  },
  {
   "cell_type": "code",
   "execution_count": 20,
   "metadata": {},
   "outputs": [],
   "source": [
    "%end demonstrations"
   ]
  }
 ],
 "metadata": {
  "kernelspec": {
   "display_name": "Python 3",
   "language": "python",
   "name": "python3"
  }
 },
 "nbformat": 4,
 "nbformat_minor": 0
}
