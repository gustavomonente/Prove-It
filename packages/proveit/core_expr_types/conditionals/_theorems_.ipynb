{
 "cells": [
  {
   "cell_type": "markdown",
   "metadata": {},
   "source": [
    "Theorems for context <a class=\"ProveItLink\" href=\"_context_.ipynb\">proveit.core_expr_types.conditionals</a>\n",
    "========"
   ]
  },
  {
   "cell_type": "code",
   "execution_count": null,
   "metadata": {},
   "outputs": [],
   "source": [
    "import proveit\n",
    "# Automation is not needed when building theorem expressions:\n",
    "proveit.defaults.automation = False # This will speed things up.\n",
    "# the context is in the current directory:\n",
    "context = proveit.Context('.') # adds context root to sys.path if necessary\n",
    "from proveit import Conditional\n",
    "from proveit._common_ import a, b, m, n, Q, R\n",
    "from proveit.core_expr_types._common_ import Q_1_to_m, R_1_to_n\n",
    "from proveit.logic import TRUE, And, Forall, Equals\n",
    "from proveit.number import Naturals"
   ]
  },
  {
   "cell_type": "code",
   "execution_count": null,
   "metadata": {},
   "outputs": [],
   "source": [
    "%begin theorems"
   ]
  },
  {
   "cell_type": "markdown",
   "metadata": {},
   "source": [
    "Note: to prove the following, we will need to use the fact that a condition of $Q$ is the same as having a condition of $Q=\\top$ in order to avoid requiring that $Q$ is boolean."
   ]
  },
  {
   "cell_type": "code",
   "execution_count": null,
   "metadata": {},
   "outputs": [],
   "source": [
    "singular_conjunction_condition_reduction = \\\n",
    "    Forall((a, Q), Equals(Conditional(a, And(Q)), \n",
    "                          Conditional(a, Q)).withWrapBeforeOperator())"
   ]
  },
  {
   "cell_type": "markdown",
   "metadata": {},
   "source": [
    "Note: to prove the following, we will need to use the fact that a condition of $Q$ is the same as having a condition of $Q=\\top$ in order to avoid requiring that the $Q$ and $R$ variables be booleans."
   ]
  },
  {
   "cell_type": "code",
   "execution_count": null,
   "metadata": {},
   "outputs": [],
   "source": [
    "condition_merger_reduction = \\\n",
    "    Forall((m, n), Forall((a, Q_1_to_m, R_1_to_n), \n",
    "                          Equals(Conditional(a, (And(Q_1_to_m), And(R_1_to_n))), \n",
    "                                 Conditional(a, (Q_1_to_m, R_1_to_n))).withWrapBeforeOperator()),\n",
    "           domain=Naturals)"
   ]
  },
  {
   "cell_type": "code",
   "execution_count": null,
   "metadata": {},
   "outputs": [],
   "source": [
    "condition_append_reduction = \\\n",
    "    Forall(m, Forall((a, Q_1_to_m, R), \n",
    "                     Equals(Conditional(a, (And(Q_1_to_m), R)), \n",
    "                            Conditional(a, (Q_1_to_m, R))).withWrapBeforeOperator()),\n",
    "           domain=Naturals)"
   ]
  },
  {
   "cell_type": "code",
   "execution_count": null,
   "metadata": {},
   "outputs": [],
   "source": [
    "condition_prepend_reduction = \\\n",
    "    Forall(n, Forall((a, Q, R_1_to_n), \n",
    "                     Equals(Conditional(a, (Q, And(R_1_to_n))), \n",
    "                            Conditional(a, (Q, R_1_to_n))).withWrapBeforeOperator()),\n",
    "           domain=Naturals)"
   ]
  },
  {
   "cell_type": "code",
   "execution_count": null,
   "metadata": {},
   "outputs": [],
   "source": [
    "condition_with_true_on_left_reduction = \\\n",
    "    Forall(m, Forall((a, Q_1_to_m), \n",
    "                     Equals(Conditional(a, (TRUE, And(Q_1_to_m))), \n",
    "                            Conditional(a, (Q_1_to_m))).withWrapBeforeOperator()),\n",
    "           domain=Naturals)"
   ]
  },
  {
   "cell_type": "code",
   "execution_count": null,
   "metadata": {},
   "outputs": [],
   "source": [
    "condition_with_true_on_right_reduction = \\\n",
    "    Forall(m, Forall((a, Q_1_to_m), \n",
    "                          Equals(Conditional(a, (And(Q_1_to_m), TRUE)), \n",
    "                                 Conditional(a, (Q_1_to_m))).withWrapBeforeOperator()),\n",
    "           domain=Naturals)"
   ]
  },
  {
   "cell_type": "code",
   "execution_count": null,
   "metadata": {},
   "outputs": [],
   "source": [
    "%end theorems"
   ]
  }
 ],
 "metadata": {
  "kernelspec": {
   "display_name": "Python 3",
   "language": "python",
   "name": "python3"
  }
 },
 "nbformat": 4,
 "nbformat_minor": 0
}
