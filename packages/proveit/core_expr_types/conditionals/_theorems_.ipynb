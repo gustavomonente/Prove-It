{
 "cells": [
  {
   "cell_type": "markdown",
   "metadata": {},
   "source": [
    "Theorems for context <a class=\"ProveItLink\" href=\"_context_.ipynb\">proveit.core_expr_types.conditionals</a>\n",
    "========"
   ]
  },
  {
   "cell_type": "code",
   "execution_count": 1,
   "metadata": {},
   "outputs": [],
   "source": [
    "import proveit\n",
    "# Automation is not needed when building theorem expressions:\n",
    "proveit.defaults.automation = False # This will speed things up.\n",
    "# the context is in the current directory:\n",
    "context = proveit.Context('.') # adds context root to sys.path if necessary\n",
    "from proveit import Conditional\n",
    "from proveit._common_ import a, b, m, n, Q, R\n",
    "from proveit.core_expr_types._common_ import Q_1_to_m, R_1_to_n\n",
    "from proveit.logic import TRUE, And, Forall, Equals\n",
    "from proveit.number import Naturals"
   ]
  },
  {
   "cell_type": "code",
   "execution_count": 2,
   "metadata": {},
   "outputs": [
    {
     "name": "stdout",
     "output_type": "stream",
     "text": [
      "Defining theorems for context 'proveit.core_expr_types.conditionals'\n",
      "Subsequent end-of-cell assignments will define theorems\n",
      "'%end theorems' will finalize the definitions\n"
     ]
    }
   ],
   "source": [
    "%begin theorems"
   ]
  },
  {
   "cell_type": "markdown",
   "metadata": {},
   "source": [
    "Note: to prove the following, we will need to use the fact that a condition of $Q$ is the same as having a condition of $Q=\\top$ in order to avoid requiring that $Q$ is boolean."
   ]
  },
  {
   "cell_type": "code",
   "execution_count": 3,
   "metadata": {},
   "outputs": [
    {
     "data": {
      "text/html": [
       "<strong id=\"singular_conjunction_condition_reduction\"><a class=\"ProveItLink\" href=\"_proofs_/singular_conjunction_condition_reduction.ipynb\">singular_conjunction_condition_reduction</a>:</strong> <a class=\"ProveItLink\" href=\"__pv_it/c604c00d880c91ef9a6c8ae6bad6ae4c229f5d430/expr.ipynb\"><img src=\"data:image/png;base64,iVBORw0KGgoAAAANSUhEUgAAAN0AAAAyBAMAAAAq+MN+AAAAMFBMVEX///8QEBCIiIhmZma6urrM\n",
       "zMxUVFQiIiJERETc3Nzu7u6qqqp2dnaYmJgyMjIAAAAcRTyBAAAAAXRSTlMAQObYZgAABTZJREFU\n",
       "WMO1mF1sG0UQgMc/5/OdfXYRBEFpJRMo8ERckBAPCUlBQrygXoUIPy82gVYIoSaFtqISUAskkkig\n",
       "OkKUvECdFgVRidolD1WfHJpKlUrBQX3gT9SpWiqBULBKE9o0wczs2ffnvZ+AmcT27t7efruzM7Nz\n",
       "B+Au8T5ok0z66nVGL52d/W+88JyPTsFss3Rk2qHHvKoVzu1kPx/pV47bep7zwTuql6qmVmk9Tncg\n",
       "Z1P4SfqSqVW+40wPQCRvHSs67YmTb9KLp0zNwjLAlk+uGLy8zktQ8ZQKkRzIc46DOUk0zeWRPGg2\n",
       "qAs67yypHkHyOoATjspyknLBkfe8iScMF5q8Pfg5T7VBgAnbLaKnQl8FLk960sqLPJxq8KQhbFmh\n",
       "9koeEjZfil3zwCnXrDyp+761VB5fhCduuN/gHYGhBi+IG3CAKtDbB/G08/S5IuaM8nb8bMonaqxy\n",
       "CWCbaX1f4Z/Gi6KTVmixsE8Fxe5x1YI7L2MoJNaBNrAeQtoM3rHyhuDjBk8sAexlDlnHe4Zs4xVT\n",
       "7ryNhgcMo52HlkBMcXhKCiKqxgsgvU6riC3iTTXbeAmPEHOzKRrh+gI5KKocnlgAIWvwdrCtWOLw\n",
       "gu4GI6yYKi+iOqahDBzeFP78aujzOWruQkWE7fqUVtyDp3k6aJ/FEmyP5Vt5yCJm014yhYMbhD/J\n",
       "vOdcFMaLLmusvGhK2R1nlRH23+AJZEOoU+KRCwRTs/EquXaI+bf8tzHIMACbw89cXiBn5ckDG/bf\n",
       "SeX++kv76+81eRGy4mCK8ZgKn3357lHAjU5om73bGKQCzHPgNy6vmAZwjGfGgRxmv6oRzzDgqArq\n",
       "/dOWzlUVxmkfc3z3M7vLl54JgB6vKc4/Bq3xmo2YQG+Jl/jR2txc9ceLMnsK1Reg5TzSNKacPnz4\n",
       "Q/5QVdXsq9O+eOy8BWFHqYm2SBLd9OrIyOv8obosN0zx85fgm41Z3WvPJ35o7ZzE2WwFGDXd3j2j\n",
       "B9VKAdosAVTxI2ZFSxdBWNus9Lafh+4iQtDQ1Biq8IFmZbDdOBAxgsRnRaPhDfx8+//ypLl+LB26\n",
       "6xfaPYpgXT71qfSsnkfhZ/QFNONdwhIZPaW3D+n2knfNFX//d/YCUwgNpQVCJ8nJ1un+oLouz3y6\n",
       "jaEJPHqPVj7YPeOU+gdoPUkMW4ESy9wDWFT0U6Hq+qwSN59umWm0682sf3wXOyy5kqSIrOA2FfPR\n",
       "H/Enkv28NKZTyv55FMO0ICzP49eEQzAqNtsD+czjMF6QO1I/XTQmPbsaXkQ7TRLkvpEauJ8A4YEv\n",
       "emBLCQ69uw3yltX7432gNnkVmmTcIVEpWw8GqvVL+qrEOU/e+zO3k9NI+7LCxhsJKP3FdHuFf4/V\n",
       "4llucuC87nWhFq18M09yQdMfziZ8K/yhaTGLe89mcZmdSgt8njWCKKzrTqO+5PpoiN4yMdt4Too2\n",
       "eSIjJR327xb3fPC6y8Wn92gR6BUrL8nmWM5y75Eu+853W2WTSvOVF2zrY967t+CdYHKkl79/l7T9\n",
       "wyfYZYjVrLwI8YIO64gOufM297nbp3wdrea4hScsyZ1qxsGRkh7PK2Lawx/egu+yLGREc/RP0qnA\n",
       "18uNaGL3py6PA9zVQIk32fnMAOlAGFz8bPAqc1xh8sRreUGbbnZV6bz5qPARzwzZykuV/DxPm98X\n",
       "tPLWOF15O8zPnxNpL55bD6XmaNZ1/sF51DP/kjpcLjqe70/d5vXyyFGOuVyLrTJ/iaS9+4Sy7UvO\n",
       "vvfTaaBtOF/vIyHUvvetzFr+AZUCXuPkwUKqAAAAAElFTkSuQmCC\n",
       "\" style=\"display:inline;vertical-align:middle;\" /></a><br>"
      ],
      "text/plain": [
       "singular_conjunction_condition_reduction: forall_{a, Q} ({a if [and](Q). \\\\  = {a if Q.)"
      ]
     },
     "execution_count": 3,
     "metadata": {},
     "output_type": "execute_result"
    }
   ],
   "source": [
    "singular_conjunction_condition_reduction = \\\n",
    "    Forall((a, Q), Equals(Conditional(a, And(Q)), \n",
    "                          Conditional(a, Q)).withWrapBeforeOperator())"
   ]
  },
  {
   "cell_type": "markdown",
   "metadata": {},
   "source": [
    "Note: to prove the following, we will need to use the fact that a condition of $Q$ is the same as having a condition of $Q=\\top$ in order to avoid requiring that the $Q$ and $R$ variables be booleans."
   ]
  },
  {
   "cell_type": "code",
   "execution_count": 4,
   "metadata": {},
   "outputs": [
    {
     "data": {
      "text/html": [
       "<strong id=\"condition_merger_reduction\"><a class=\"ProveItLink\" href=\"_proofs_/condition_merger_reduction.ipynb\">condition_merger_reduction</a>:</strong> <a class=\"ProveItLink\" href=\"__pv_it/ec194ec874910b7e1d4fe2292f855e1d93050c7e0/expr.ipynb\"><img src=\"data:image/png;base64,iVBORw0KGgoAAAANSUhEUgAAApoAAAAyBAMAAAAO8mZmAAAAMFBMVEX///8QEBCIiIhmZma6urrM\n",
       "zMxUVFQiIiJERETc3Nzu7u6qqqp2dnaYmJgyMjIAAAAcRTyBAAAAAXRSTlMAQObYZgAACn9JREFU\n",
       "eNrdm39sG+UZx5/YOTt350syRrOloZtJRmEarG4rKIJ0dZlokSatF9DadPsjXqClq6AxbCv7gRTT\n",
       "SWu6gWqE1gXQGrdMnZo/mnTVhIq6xQxpTF1LvBY2tsGaaVOlVhOEpPGaFPDeX/fevXfvXWJY0GVP\n",
       "m/P5ve+9Pn/u/fE8z70GqN4+XXkX5tsSaVgopmXo62jlnQ9yesvTz8z7JZ6ChWNfpi+Hnz76Qc5e\n",
       "NP8XGMnw3bOlsNM0xthOR0hp2nf5SDH8jfPxcNPUrua75xzF6hKA2u4clbSdWl1VlRL9nypb+56o\n",
       "og4//YF0qGnWpfjuy45iBc1+HT+/RMtNiOUcoH1qyvN6RD21ywBPZiRi0VQ/vWV6Y6hpjhSkNLHd\n",
       "ygYANFZp19jF9Sl5Tf8EuZ7enQmA2JRX7DJet1vP7dFQ0/wm+NK8l778A/PusYs7vyetSNldkOvp\n",
       "XDcNEJ/2il3G63bpHXc/H2KaxrScpvoVi2biPeLh2V3zvlZpTbE7knI9HVBQDx3JecRu43W79LbF\n",
       "UyGmGc+JNNX2FYvxfn8Z7vnYSrw3kMXbNdzF18bi0pqOABF69NQaMqA3ecXu+YvX7dI7bv9MiGl2\n",
       "Ob71DvS3Nl8/Tt6cB9hK4w7Sivaa0MlCp+HEsKymP6B/gl78nAeXTqIiJSeK3WEZr5vpJcAnQkxz\n",
       "uWO6RB+mLYEo/cI/tGj2ki9VgXtWsdYM6pispizsF/SiLSvA3wugrMyKYndP4XVTvczeCjHNJsfE\n",
       "gIa66AzEkyLNCv5SehlgPdWdAdgi64FJiJmCXrDHUOdFwUFtVhS7zK6b6SW2LB9amsp79n4t+rCa\n",
       "HAyZIs2HSKOZ4TTRrLtR1qxQy8sIesEQ3YEMp8nFLrPrZnqJDZRCSzPidEK2AQwVYQREml8nDSJp\n",
       "0dTRnFov8b2Pob8LTv3Z11pTrVscd20kxWlyscs153UzvbH67ja3qCYTWpp1jSDM6UPDsEPPCzS7\n",
       "CgevUybBoom/rS7x3y8wSFz/6hJoKiy17toUnp40iyYXu3x3XjfTG2tLNe47V5cNLc2anEizLmns\n",
       "TJA3feQ//mLJUuJckdPsZD0StPfRZmiM7ZDJOl6w9erBLFyCdioB7CiMJJ9lNLmYnMorsuu29M9c\n",
       "Dw1kLhqyJ77EOKVJSt6skmY9GbXnK1U2lBJpat3X7fsM3t9Y2b6vQtMOX33g+j1gWjTvwxviY+/E\n",
       "SDJsJ5YmIB36WFJphO8jCcITfbtcgsSuJKNpi3cKFfG6ub4b1tKB1h5DjSlKk7hYF6ukSRyw+sJ8\n",
       "uZtJ8I8s7cjFNPIWTeKfKh5JLdmaDn2NGcmp46jkBacs6xE7zFv3ImhXJBE/ptmPY41clTTJCf3z\n",
       "lvNwOuIv+ueZ7kLb56vISyH9AGqdRg4NEU5HR89WdXnqOHzrV273fZLSxC1MHkcEjZsXSegwT3bO\n",
       "2UDO+amiFdS7nurtnmutRL8OTSrqAwXQHM1fXVVOVnN5tRm40TPIlSlN4+Tg4E+rnoXeGBw8nJ0v\n",
       "msucM2Z90c8rfai6NiDojf/1NV9mc/rlvr5Hq6bZ0Ne3uzhfNEeFAflY6J8LYfsUo4l82T1V00Qh\n",
       "WJ2jBbWduk0mdBXfVb5ll6Tj7L13m9jT1hRgwdknGM0vguZKGGxqT0eaAkoQzdoUHLEP709Dh4SA\n",
       "u9hohLikQf+R566Z9Sw8mDR07cApkoijL2knVpb03Em4LaBkEcm33GQP481ojPfGr55i9CYmGWxv\n",
       "Abj//4ZmouRMtL5+fBD0M1GHB+EtwTRPOzKr8RJpd56Ug7s4noQayez5MMBVC76nP8JoqmMbgUTy\n",
       "kaUm7sHI//ra5iRmh1MEYolNcz9Ot2grdmBn5locRIx7PsBTPGRqK7zXoU3BcyLj0XzghRurQ0jT\n",
       "moVgD4qdcCS/PZKhIaNunnwNs3t1CTSLJTbNun0oRviF2YWb0Xnci8cg5mpSrNi2Da3LESe3rHai\n",
       "rdnlIZlB1639O4xts8mieQz1WRzJp6NFeI6ySyRQi8QpghmhxEFTx0nvlbAJv8drvGqKyosuTLTY\n",
       "UfAKRLPgkSXGYJXLe08HNk1nc38SjSbrbqD7B9tfmtWZkmiMnvK2vllOnH0Zw6RFswH3s260Gx+G\n",
       "TX19fUndVEt4VIwlaxvFEkcOCQemLUCSW1fRiTnuwsSKbXuckHDL6orueGckkGbCOZF1FUFZvIHo\n",
       "E98mydBAk2oacqA2ze6cy5Yl2B3mXYumUSCEboABBWK0JcKdmHCNGS2aQomD5l9RFdPwxCDa3ar9\n",
       "Tb3ai4kWG7e/efMJ2nWvQLTRK2sYxs+Bzv76DRtRac408WBCkwwafjRzIDiikGtwkqXHDI6j/JYl\n",
       "uLMePJLvhtcTkMC1GmkwiuqPYADiXzLtEm9+s1m5VEK6A3cbv0kTTOhNf8Ha0GL989CiF/ERZQY5\n",
       "SJuxzNb0FwANvfcr+V/mbM+iIVUNzRhV1+NnxLHxQChyDQ5ke4MnPt9lCTxxcsVJE0XyF2DfSYAf\n",
       "4wzsvwAySgusg8hpR4mX5rrPtZWQTrv1dxmVPldpgY680ow3vHiLlo2m8ZGXy3llVxLLOoapBm2G\n",
       "E73fgM5WFFx12p7U2Jxp/sS0aI7iBp2YDg5ZpZrHEIzLs+Sf/JYl8IuadtK07wIaJRluT4mHJtcp\n",
       "mZ/RLqx7i7N6Kq47jmCZnX+w9uJwEx8to+Oz0nzqpWvxgKHuzSjLP45xqv8hZ14KTKXJNWWAo5lg\n",
       "mr7LEngHGZfStO14UJzu0qnvLwZl2e3Ok6xiLRNJxz5rH8EynfcrvncITvDR0nA/W4RX3sJGF13F\n",
       "UMutbYa3ad9F4RUhkSADV90UX2oguw+WRhzyymd6bgaAzgBYvssSLKMPXwJoluZIk+h2p90nCcWu\n",
       "6ozgzJhyJejCj6KvdaDE1srVWTTjhFHDOF9qIDFL4+qNM2BcBL7OQZ4j9F2WwGwgOQtNmCPN+XKF\n",
       "fazzuzT2fFik2UDa80jGegAp7a+WxjMmYv9mfcCH+i9LEFKy4aS5JujgWtQ2P4njUbFtkoRAbyGI\n",
       "Jte4x0S1PAtN/2UJzHZDeGluSEvHzfN03MxhX1kfF2nGMKnIBATRtDRWUoJ7t/pkMM2AZQnMwryq\n",
       "K54KntO1K2guOi7QVGa0VrMrFUjT0lhJCZ4VQNNTIYhmwLIEPvaGl6Z3Und5SLvgzxkyjtXl8H9s\n",
       "rQacxsMfpimuUSCLCMiGaaykBDmKnQN9Qh3GNMV1CfbJAcsS2JSeCTFNuGYWmodaN3fj0UDpKR/u\n",
       "uUzcBeXQb7+TV1jbfKTgWKNAdvByBK5hSQki+0LlQYDft9KejgvEBQ7CMgbJsgSWWQjzSm3nrwhm\n",
       "jSxt2wJ/YTR17/kvODQsKSHK1geex754uyL9ZPbzg5DSrA8YOBONfkd+UJtjSw0S3oNFW2MlJUTZ\n",
       "84HnsWSGZ1kCjUEWh5qmumiO+U3RsaqYbKnBQW/6KGlreFLCKSPrHPzPY8mMG6UxTch/fRW4IMY3\n",
       "976pxT+OMzwamcz/vEBjv7oJLc1ogK+sh+25kJH7MDQ/il9Ud8PCsQ/3i+qP4tf+0fSCgaltp6+j\n",
       "lXf+C74qQjNxR2I7AAAAAElFTkSuQmCC\n",
       "\" style=\"display:inline;vertical-align:middle;\" /></a><br>"
      ],
      "text/plain": [
       "condition_merger_reduction: forall_{m in Naturals, n in Naturals} [forall_{a, Q_{1}, ..Q_{_a}.., Q_{m}, R_{1}, ..R_{_a}.., R_{n}} ({a if Q_{1} and ..Q_{_a}.. and Q_{m} ,  R_{1} and ..R_{_a}.. and R_{n}. \\\\  = {a if Q_{1} ,  ..Q_{_a}.. ,  Q_{m} ,  R_{1} ,  ..R_{_a}.. ,  R_{n}.)]"
      ]
     },
     "execution_count": 4,
     "metadata": {},
     "output_type": "execute_result"
    }
   ],
   "source": [
    "condition_merger_reduction = \\\n",
    "    Forall((m, n), Forall((a, Q_1_to_m, R_1_to_n), \n",
    "                          Equals(Conditional(a, (And(Q_1_to_m), And(R_1_to_n))), \n",
    "                                 Conditional(a, (Q_1_to_m, R_1_to_n))).withWrapBeforeOperator()),\n",
    "           domain=Naturals)"
   ]
  },
  {
   "cell_type": "code",
   "execution_count": 5,
   "metadata": {},
   "outputs": [
    {
     "data": {
      "text/html": [
       "<strong id=\"condition_append_reduction\"><a class=\"ProveItLink\" href=\"_proofs_/condition_append_reduction.ipynb\">condition_append_reduction</a>:</strong> <a class=\"ProveItLink\" href=\"__pv_it/4a4c4ae39c6b3a953a4b079899150368f3a48de40/expr.ipynb\"><img src=\"data:image/png;base64,iVBORw0KGgoAAAANSUhEUgAAAdMAAAAyBAMAAAD1vywNAAAAMFBMVEX///8QEBCIiIhmZma6urrM\n",
       "zMxUVFQiIiJERETc3Nzu7u6qqqp2dnaYmJgyMjIAAAAcRTyBAAAAAXRSTlMAQObYZgAACG9JREFU\n",
       "aN7Nmm1sFEUYx5+76951d29bfKFCAV2LFvwip4gSLHJqVL4oV4woatKzCCFE6PkGiignJlIU4zVE\n",
       "RIn2AGMiifaUD0Zj7ClGDKKcIIoaBeNLojFwoXCWgpwzszt7M7uzt4XUrdP2bnfu39n5zcuzz/Pc\n",
       "AniUC8onYUjKJzAMRUka79FyeYSneMxLLw/JRaN5eqRN95H1FhP5pY3eqCOH6JrN1kD/5ee0agfN\n",
       "A8k3VNW6klZkqrsKADdONI43t2wvnE6TAr3WUVrYyVeu9R11U9xaySmmui0PUuMs8ln0YYCFzEcZ\n",
       "l5ZovV1PSn0a5Abhhf1DfQqEqKiE0sa6PoT7la/U/+LSklnv0BtDpwN0JETLyTdUdcAVNRwjb3WN\n",
       "+LiyuKXVWWFLtN6uN8okNOcr+fWwwmfUSEyM+kKCou7GWyx6vDIC1+nClmi9XW+UJ9Go9vNVvRl/\n",
       "UQ9keNR12y/EkyM/n5QuOwezyn+TxXzUkr0FKWFLZr1Db5QSwNtJ4Sj7hvoIMy3I/NeMhsPGMkxC\n",
       "mHQtegS/1h4Dydi68Dn6ERWz3tLzq7u0p2OK3SoP+IoqMaP/NrIamwowlZzUUtQI6XR9UZpsTmYK\n",
       "XhU2ZdZTPf9hcAC0P+0O0xFfUUOV69zxKHqZkYUHeNR6Mva9SagxUDUdwgmRS2DWW3qu1KLrOPzY\n",
       "Q76iBpguXYt6OgqUY7ZZJT1ZmaWokSxISZF9M+stPX9bTYJcAoFV9g+1jfFgwmlQToJa5FHDuCdB\n",
       "tNZM1G3o7w9BS7Se6rXps8cHmxOV66h99n/pLviJOom51SELrJxAxuk9DlUaUJoSbTEL9Q8Ty15o\n",
       "PdVr1xYCi4J0/iclsL3KipaUX6hPAocKq+DbJHF0atP4F5cmDb7A28xAJXY4gvvcgwy2cso8YOpN\n",
       "/csToD4eyhsSbNbVI3KOqs0NnDJRSdWPVVG9JN5llA319aa57dg3lTpKb3T0Gwvs9Y8fyUgUNYw/\n",
       "DWJnIYLnZCk9qNRTfTu0QgTBLUP815QXA3zWBFRtXrBoopK71J9VUb0k3gFynw1VXObDdxS1hlQ4\n",
       "TTBXT/QjYSJ0I2Q16xrHHTNRN2DXI10V1UvifVs9wqK6bpqnatBF1NTgQwikl4toXvdHUbMeV0eo\n",
       "dWg0ormqqF4Sb2f/BDvIRTfZjHIC5KtK+mCbxfqaJLJU63ei6NVjTSFUbefWrS9WN0teEu9UAOe/\n",
       "uWYhbh9zes1y+ipRfYla4P7OzhUeFthD4lmCXACi+plbwqWfos4HWOOBykuCLdtFJmD8rmns6czS\n",
       "laus7TkAw1nOp6jXg3LQtjBa4sEGFpWTyL+C1Ohs79U4tLIjoI2ACM0RhIYX9TyKGoEgs86VDyYX\n",
       "1PROmMaicpIu5Plc6WhOHo2IWKcVnYSpMQ0XhxX1fooaLUSY6v3vbQV1TwjyLConeRz9feV0wwtk\n",
       "IpkKHQL6/wxVPjgHLK+5Bofs6l1zdQ6VSGBL8294p2KeSY7mLsQfsUQ9CeVy8FzAews+oC6zfOA1\n",
       "94LlNdcRE5nYuY9DJRLlYWnAyBsgDwxgEd/c75iI3fOzmi6zfHxHCsjKnuR9NUuwLVXxmrcYqNFo\n",
       "jEPFklBMwnuvHvduLNxts0zYUw+wHf8SQpbfEzzmlnJid/s45Pe1m5nS8bs870gizTflBZ3POZQN\n",
       "Fmo93lKm13x7Z2enribkQopDxZJAjsRKeAPiTbmcb+5s+w5ey7hF2lGX7u5g/Tc0Wq2vGcodCRzW\n",
       "Vi9CDbqFdjki+j4LVcuC5TWHjVmFG3QOFUt6MrXfo7dw8s1cV9yBukD5QT4XtKt/nPKB4YyfYLIs\n",
       "6mBQcZlqrmscuI2tTirUYHc3bF9CykkuXqVecxT3U4uDlnfEq4FM282wIauM1H/4FQjqhqz8DHlB\n",
       "b5tmax/GQb0Uxqh5QOdoX4dTc2kP/hkk6jzj7Wc8+B3VUYUa7JZFjru5+2ZwRL3mZ9HJTQgl6UCt\n",
       "aX9nOrTmYMvaBfh7E4TampNGQ2tGGi2NAWXqp0kZ+VVKKhQHdL6jlJFW6dwS8kCVb6OoUTIyuzPV\n",
       "SMUanEbrTQuDDWcWIoj2arUsBA5w5sgFYwFb0Y6K20q+ApBSYxHVOGfLE1VQ5ZbLiYnbUIJbz5pM\n",
       "kkHEUMyIV0MVa+qToDY4RuX4GSVcVDyM3WjxzO7LGSek4DyRfKoRlGQwHr7EOOfCLebCh0gxLPwS\n",
       "nEHM1BXp/WoBOdhNBvv5BNzh3i1Lw6frFjf3OeL5cPGMUDWyTB5iTioR1Oq4a0R1QJwiUFHjyjj6\n",
       "XdzTFHUl6W0Zbr3KvVtUY0vXZeEnx6UCaV+To8LAXlqdIZ5UROdRy7i3Kooyb3Jv0dLY03X1Dq+k\n",
       "Wx+ulDebKRpJxrwnwaMSnzUyUBXV0tiD8O7k8Ka8Q0X7XjU6tBDdrvPQCzzqPaSDelVUqtm7rynW\n",
       "NJ+5qfXG7NLV4CdqzVFXC9yTgyWGfbNQ27KbL5bw/akKKtV8PQ4ass2MA7pbV2xSf7+eggddUWt1\n",
       "bamR7eskvyTPW4geyJuoXMqbHJAXUyNvTsFRaDFT3NiU9+obqcbk9/dLRzcTjFCV9ovXX4SP55QX\n",
       "rS8bvvqd901Yg5O9GDWynE15LyVBWbaiCeuI4TFDFjpcKkDUcFyW2u2Eb6iB/KAcw8q9MKFlzAX8\n",
       "vvMela1oAolgWi4mRDKz+P2AgCoOzj9y09fGZqLXd/Ghc5CijKYbzauWzotkZjGfiPHvYZ5fPONV\n",
       "3mSXkYVZt7IdLXDd8eFmRnMj1GXk+7IimTnIjX6jdom+Aoc6t7mQ7s+B3SWz+2IVjVhmFP8f0XL5\n",
       "Kmbbf55bmgd+owryqb4ULT141KF6SDasDwvq6TwkO2SPPl8xHKSKmdjEjz7/CzAUd9C56VtQAAAA\n",
       "AElFTkSuQmCC\n",
       "\" style=\"display:inline;vertical-align:middle;\" /></a><br>"
      ],
      "text/plain": [
       "condition_append_reduction: forall_{m in Naturals} [forall_{a, Q_{1}, ..Q_{_a}.., Q_{m}, R} ({a if Q_{1} and ..Q_{_a}.. and Q_{m} ,  R. \\\\  = {a if Q_{1} ,  ..Q_{_a}.. ,  Q_{m} ,  R.)]"
      ]
     },
     "execution_count": 5,
     "metadata": {},
     "output_type": "execute_result"
    }
   ],
   "source": [
    "condition_append_reduction = \\\n",
    "    Forall(m, Forall((a, Q_1_to_m, R), \n",
    "                     Equals(Conditional(a, (And(Q_1_to_m), R)), \n",
    "                            Conditional(a, (Q_1_to_m, R))).withWrapBeforeOperator()),\n",
    "           domain=Naturals)"
   ]
  },
  {
   "cell_type": "code",
   "execution_count": 6,
   "metadata": {},
   "outputs": [
    {
     "data": {
      "text/html": [
       "<strong id=\"condition_prepend_reduction\"><a class=\"ProveItLink\" href=\"_proofs_/condition_prepend_reduction.ipynb\">condition_prepend_reduction</a>:</strong> <a class=\"ProveItLink\" href=\"__pv_it/cbf412b68ffda95155b1f9b42b09df1051c6faa30/expr.ipynb\"><img src=\"data:image/png;base64,iVBORw0KGgoAAAANSUhEUgAAAcUAAAAyBAMAAADfD92iAAAAMFBMVEX///8QEBCIiIhmZma6urrM\n",
       "zMxUVFQiIiJERETc3Nzu7u6qqqp2dnaYmJgyMjIAAAAcRTyBAAAAAXRSTlMAQObYZgAACHJJREFU\n",
       "aN7NWnlsFFUY/9rd2WN2tsUDtCC6FBH+0LBIPP5ooZUETYyyYMRqTDqWUyJ2FcQjaFdMtHiErUbk\n",
       "iHYohkQNdIE0itG0Wo3GqyugxrMlHgnGaNPK2hZ0fdfMvjfXFq1TH+30zZuPN/N77/u+93u/GQDX\n",
       "ckH+FPz7otSA10VW2a3z+QlFTKds3zEGN/zIqB3JegXyeoZ1+85iGCeOxe1KVb22r8uziYz2sYrk\n",
       "Ccb9Rq2Xaw1PBfA3pOhoT/+o2ni4xtzq5tOY7s/zK5ufsml/0kuM8tlG9T2uWUKRvvjF32l7AgIp\n",
       "/UJ5CsKTuLFw6DatV4YAWlTr9V01HmIMxW0x4nIlc2HkV/J5emN9DKAxYdiUxe27/V4fqwGAwAnr\n",
       "9cgEDzF2ao4Yl9E/x7BFo944G81QkzFLUPeAba/SY6zb0mGA4LCNxUYPMa4DW4zhG3WMyp/42KPD\n",
       "ehjNwVDBbnmlba+Bq2LMTRCGzpTd2KY9wxgdFjGGqy6djOvbcnDDGXNxrTWJj/P1RTSHslQhvuS+\n",
       "oG23+yDJwleFyCQ7i2DcM4xBbozvRL+16bJ+cvITwEpS6SEzsoWFoJQ73HgZ9lG2iGeUjF23H6J/\n",
       "NHzXXjSYsB3cEc8w1hdITgR1J08FH0X9qI6xiTxiXl9NRyD6M8ANV7AhgnCfXbdJeIGFrwbfabb5\n",
       "fMAzjHO4NIEixDcCwZiIMY8fMZKDQnxhAnk1PT0MsMJukmIQSOjhW25PLX71DCMXK37UXUkK2hMi\n",
       "xrvIfI2AEV/hXAEjyqpL7SJAA0nVw7dVtb3z7LRHGKU/uZPVAO1d0AkixtvIA8V0385CZNDAGEGJ\n",
       "oyxt7fYg+j2u998Zh2j1kulmm9asRxhL+aUL5dX2DNwZSQsY67W2GdKgMfoJUAZAYxgxvogNCzjO\n",
       "cELpCZy05GhttsQ8FCWqRxhDE0SMoVh0g0JOmskPfsxYVulFIdVOkstvCNRAOMMw1jF/JRflv4Ad\n",
       "pBT1VzQIKEl3xnbumAnlJPO0FzJUKMkwkqZvXTC6GxQtJSkRo9wwY+uFuL40v2ZrnpLpW+6YuRkS\n",
       "EMRY5uXXArxfqfvqcnzALCCIJ2UDsEOghowNSmG/5bKgbIpBA9TSQC3EptLPMJJV5mcXjO4GRUt7\n",
       "HMCRyxVYSyKKPO11voliJAuPZLH3k2NCeNIqs1n0BMO4DVOPlAtGd4Piy2OMO3nLmbdfg47CEvDq\n",
       "ad0m3A/rO8zpboBhLNMwl3DB6G5QnJHz/7XXycqXR2Mu88PxTFPD6dzGr8LF5k2nPMgwRj94+eXn\n",
       "3HKOu0HR0ss7VJmTDiDdhYYiOtZaQE7Pq0PNzRtd86qrQdEyW8joBz3Tc9jumWJETGmzK0bRoLSq\n",
       "m+Ro/5Zlq2NWl7G09mgwbuV8HeMCtH3hvWbdOzBN5TEKBuEfQCJbI/jU2IXyxdI6fxwxnqNjDEKp\n",
       "4UCvdFfDa4rm03iMvAG0INe7nNTQcZW1W0tr4/hBpEQYY1SyxiY0+sQODd6MxRXBVzkDgAfpXKFy\n",
       "N8CZ1m4trf8LjOE+xOsppV2A2zo6nhYxEgPYfdGPOBoxM5tNEvMJ2G2NR2uro69Gq/9zjPcafHUz\n",
       "4kuU0pKw61D23iryVWwg3yPhzU8ZjtR5JLsMTK9Af9aYcg5t5XNO2kGR/MXDnAMHEXUllFYmtKsD\n",
       "urpFjNjAF5cwwyW7UaISKn2Aduq3ThZ7pa3C2pFwmMZ+7qQFBfzCWbTeVtVthL+TPsz34yI5TzIw\n",
       "lmPnwpRWuq+5eRPC+HxQxIgNSjJE0S9B1SjZSYS6CGsxCYOslecANfb3V5I84etC2XoRsVTuIdvM\n",
       "wgrXorqDNEnOfBk0MEY1ndKqdB79S0SM2KA9HfoK/QmoezMt5FnKM0TFMGGkrUfe/KbA5UaDEbM5\n",
       "SollLFDs6iqiD5sJcaOts8inhP0jpbTv4upRgG+s+8eSdP11sE2TJ8a+/gHxdA1tbGGVlEYYw4+j\n",
       "U3IwWg+kCp5Qnx0dxgDdn5Rh5w/0QxF92ESkmmyD3uDkPKUNIdLof6gGAlaM/oYD1bA4A7ufXAlp\n",
       "VFGaboe6SjyP0hRYnJYq0MFoDSTqCjMbHwXGZxM6xh48JMowFNGHuWKSnLkSOWmnA8xC8eimA+A9\n",
       "xNJwllZ0SSkiXKZ64SWGhwb7XDA+0z0NB0p4iyrNOQuDDP9B/PZ3KKIPi8R7v33I0qE6Ta2D6DCt\n",
       "xzRawWXJYAYOCZdx2QNvGB7q4/LnJ7/iQl/GBBB2fwVWNuiSFCDPqRD3CukhyPRhyWUqdcnZbuPd\n",
       "/w8wks1PaL1pF5QVLjuo1ZayHz37rix7cxXSMQYJunJ9XKg+LM1NumhiVHJ2llm80B5P2jbX3U85\n",
       "0N0ixnIyIp1qIdbwiuxPumtiDt8stMbGQUPmSy2ax3Mx9xPnkTxQk1aINawPu2HUJefx1JBhvjke\n",
       "f6LBksLrV6RfxBjAD1Q6wOnPnXF3jExyPvJZpSWBPwZeYVxU45RX5ZMo8xwSMEojcmWiXn9apg+7\n",
       "YmSS89GpUGG+5N07nWDcce3YBF+ohNKEUviHSKlR+PgUE4p1fZhgFDVk44xJzofakkBCmTbq2cgr\n",
       "jA6JFWPcU3lzA55lqTH3UuMQfTux5+370hLaFmmcPowxEoHZ0JCJUoxtdMk5EPNTLBsKaVX1DCOc\n",
       "NyouVygr4Es0N/y2k/jq61Yew9mUJHxdJtLq4bty/psHHqPjrR/xI7dVBDBJs8BMu+DXCQhea8LI\n",
       "PvzwBKP9xyfC/lFMxHn0sG1cQ/iKXEwUmNlOk6svhNKPTbM82UOMYftOHHWAm6bw5MmFRLlrtZ5+\n",
       "g+Tw5iLyH+s5y8BLjD51HDS5aGq0GMfm286GccA4+m87x+YbXV+N5xBlJhjib3T/BorDX5r7hxCT\n",
       "AAAAAElFTkSuQmCC\n",
       "\" style=\"display:inline;vertical-align:middle;\" /></a><br>"
      ],
      "text/plain": [
       "condition_prepend_reduction: forall_{n in Naturals} [forall_{a, Q, R_{1}, ..R_{_a}.., R_{n}} ({a if Q ,  R_{1} and ..R_{_a}.. and R_{n}. \\\\  = {a if Q ,  R_{1} ,  ..R_{_a}.. ,  R_{n}.)]"
      ]
     },
     "execution_count": 6,
     "metadata": {},
     "output_type": "execute_result"
    }
   ],
   "source": [
    "condition_prepend_reduction = \\\n",
    "    Forall(n, Forall((a, Q, R_1_to_n), \n",
    "                     Equals(Conditional(a, (Q, And(R_1_to_n))), \n",
    "                            Conditional(a, (Q, R_1_to_n))).withWrapBeforeOperator()),\n",
    "           domain=Naturals)"
   ]
  },
  {
   "cell_type": "code",
   "execution_count": 7,
   "metadata": {},
   "outputs": [
    {
     "data": {
      "text/html": [
       "<strong id=\"condition_with_true_on_left_reduction\"><a class=\"ProveItLink\" href=\"_proofs_/condition_with_true_on_left_reduction.ipynb\">condition_with_true_on_left_reduction</a>:</strong> <a class=\"ProveItLink\" href=\"__pv_it/b46a927b4730309263cf5b0669d8aeea4a3137510/expr.ipynb\"><img src=\"data:image/png;base64,iVBORw0KGgoAAAANSUhEUgAAAcIAAAAyBAMAAAA908bbAAAAMFBMVEX///8QEBCIiIhmZma6urrM\n",
       "zMxUVFQiIiJERETc3Nzu7u6qqqp2dnaYmJgyMjIAAAAcRTyBAAAAAXRSTlMAQObYZgAABvZJREFU\n",
       "aN7Nmn9sE2UYx5+2u3bX623TMAwDzMn4YWLMKhghOKRoRP9RbxBhyh/UgcQQAiUaiIqhf7miEEtM\n",
       "5jCRFTQSlsiK+8NgUEqMkkwMlUlCRLMaiQmEkPJDwvhV3/e96917vfdubXe9+UJv7719cnef933e\n",
       "932ebw9gjOIpFDIwjhKKwASUYFT5e6pwZUxbz5E9qfHc66RWG866iPii8ufgnsNjE8rjupM3Wqwd\n",
       "yrg5iGJOrXTUmlDvwhGqlZ8OUNcVR7X5W3HZonlX68lFFXmjpf1OlwiDk7TqCaqZu4Nu/cV15eRr\n",
       "6osTMvjjVE9YXDZpYU+VfRF3COvDTEJcFhQrFOEh5FvBafp5Q5h92b8t7KkiNLlDeCxlSbiGQfgX\n",
       "Nt+kn3e+w7wq151i29NlmzuEbwKTkH+ZSRi6S1Z4zQdh7QzmVf1PS2x7Q+cm3SAUR42EfPvcFlzv\n",
       "vQHL75tnIuyL4eNibQcN5gLMyx6CGNPeUAJhNwgD1CqwEX2WJBvy5OQfgHXmMTxFhuYjGTrVMU2H\n",
       "0qzL/oz+GeyZvXvLDcLVevcKzWhMpoNPYX6fSbid3KsAy+erHQR8jnXZGOw12LOX8atuED5GLQ5o\n",
       "WvhuQUCyISzghUO4AfCccn4a4HXW6Ejglw32zHLZDcLJerUOjaEnDgOyDeFmMnC3NEK0kq5g+X4K\n",
       "uKjBnlnakrUn5O5SJ28ADGTgGNgQvkYeTCoSCmitaGAslIPoc4G2Hz4zIzzDNNp92doTekfBsJYO\n",
       "pGGjkLQmXJ3aP4u7BkVCTCcw9vwLKqVm/9t0mJyabXryaO0J65uMhPWSuCVEThLkP0U4gJcUr5QN\n",
       "jWQ0wk7VU5Uv8SF4D3tGXPFUzZ7fH4Pr0A7addS7xxRC0vKnLWEDmd5V5D6euJEw2DWrZyauryis\n",
       "7ynsUr94gcwmEr28umHODpCLhGvxAe/5gWjxgEN0f4TAUfZ+iWuCd5U5GtXjh7xCSHaWi7aEZFNq\n",
       "qCJLHAgDWEZtJeVbNVyRxWSRkGw1nMmyjhxlyt4je+N8vtTZxH8Vwl4casRtCcnXvdVshxJ1ctze\n",
       "NlMM1Z9Hx28qCO2RfR8aRTFemn9yVxVCPDbsyEGfhxdJHFFF3E1fd8Q+zVI7w1dAPf/x9q5yb0Hs\n",
       "l6JFid9Q6mTBawqhONTf/8kYK80f/f0HY1UQjtCO02Cb44vFjt+crmxDsrG/oa6lNxOJbWMQNiYS\n",
       "3dVoEG2GzWzQTZ0Gl5sqIdopd4xBiGKkeuphW08uZG1+7T+U+smpFExkeVAlfAYlKcZvVrZHvJNp\n",
       "wrowSli0sjcCHeZH588D11LStnhiCR9QCQPgpdwneHReVogPwULDjh+DR3WUKWh+R02X240G+YmS\n",
       "tk0TCqiErYgwlKXTzLNH+kE47YOMgfAX0BeaAOoPscl0uffQ59f/JyGfQ/G7uGhZq3e2jP0RxYKr\n",
       "XpGMhHtxLB+cuxHXH8JzLm+ahZi5rVwvFRe5Qbi1GJfuQNGRuCTrWe+NKgGaIA+dMRLW96D44oC8\n",
       "OqWk5+DLgd/49A3Yb58qXWmSFpvfJVdXGhhEHvjpHGiM+DLwuUIYCoUNhAJOuufBStxwBzdmuONG\n",
       "wkbcJaW6XptF1C7SLqCrw04Kwlp2igkbcTjRhaqBNKxMJBKSIPPZmDG3wAHQVCAJyv3KhAsYCT0S\n",
       "Y3aOsDUiCNHhA60OOycI43KtSCjiZ22Gh6GPA78yhvCsZCT8HfXXKOzqR9V1wXP8JBOhP/pVencE\n",
       "hr8bXvWjHrWVQ4jLArbAOw5BGA/wHTo/5PNoFM+GIIR5xAiIGXN+OIW7nuU/gH3LxO8jhLA3hU7V\n",
       "Q7BZOnce5Xo5T/qoHnlnyyRc47wgrEfeakYSRZlzzxDAhzj/RI8aNRMufaQ1y02F4IKfojwh7Ehz\n",
       "U6AjiQ9p+HznOuQ9fvkAPK5PznAZhLo67KggjFzxNjPH96J5aJfjC7hzop8pXqoHvbi2gs+i8GEQ\n",
       "YlpzIGdDaFaHHRWE0V1Gq1IxjuBnu9cCXNuTIGi9R2p9yGm+hJnQpTX7qDUzdJkUMqr+HFMddlQQ\n",
       "RnfJV0VIZlZ3xJDxqLX6tyxkZ1M5LDPVYUcF4aKGUmM18TazufNtYKrDzgrC0Ce5qwjTZYnMVIed\n",
       "FYRdUYRhsWkekkfDuzRDHXZWEIZucIHwpYjlWspQh50VhMGVX2YCYUtChjpsJQgTHbhiQdjryq9r\n",
       "FospJmSpwxaCMNGBKxaEFVG/5r9yTysvatP3MOcEYXd+5abfVKAJm2wFXmcEYTU8rzUhOzsQ87YC\n",
       "ryOCsNDiDiHfzGy+VI3AW5m9W28MWTicUHudpvgyS80JGbqjK0WMl084zrcvuyaGsJK3L8f5Bq0v\n",
       "MhGAwfWq2le48h+9XFpH6MkEFgAAAABJRU5ErkJggg==\n",
       "\" style=\"display:inline;vertical-align:middle;\" /></a><br>"
      ],
      "text/plain": [
       "condition_with_true_on_left_reduction: forall_{m in Naturals} [forall_{a, Q_{1}, ..Q_{_a}.., Q_{m}} ({a if TRUE ,  Q_{1} and ..Q_{_a}.. and Q_{m}. \\\\  = {a if Q_{1} and ..Q_{_a}.. and Q_{m}.)]"
      ]
     },
     "execution_count": 7,
     "metadata": {},
     "output_type": "execute_result"
    }
   ],
   "source": [
    "condition_with_true_on_left_reduction = \\\n",
    "    Forall(m, Forall((a, Q_1_to_m), \n",
    "                     Equals(Conditional(a, (TRUE, And(Q_1_to_m))), \n",
    "                            Conditional(a, (Q_1_to_m))).withWrapBeforeOperator()),\n",
    "           domain=Naturals)"
   ]
  },
  {
   "cell_type": "code",
   "execution_count": 8,
   "metadata": {},
   "outputs": [
    {
     "data": {
      "text/html": [
       "<strong id=\"condition_with_true_on_right_reduction\"><a class=\"ProveItLink\" href=\"_proofs_/condition_with_true_on_right_reduction.ipynb\">condition_with_true_on_right_reduction</a>:</strong> <a class=\"ProveItLink\" href=\"__pv_it/4e01d1de5cede0b71ddb4d5b386de033a750821f0/expr.ipynb\"><img src=\"data:image/png;base64,iVBORw0KGgoAAAANSUhEUgAAAcIAAAAyBAMAAAA908bbAAAAMFBMVEX///8QEBCIiIhmZma6urrM\n",
       "zMxUVFQiIiJERETc3Nzu7u6qqqp2dnaYmJgyMjIAAAAcRTyBAAAAAXRSTlMAQObYZgAABw9JREFU\n",
       "aN7NmmuME1UUx0/bnbYz0+muhsWwgBlZHibGbAUjBBcpGtEv6ixEWOUDdQViCIESDUTF0E9uUYgl\n",
       "JutiIlsekbCJbHE/GAxKiVGTBUNlJSGi2RqJCYaQ8pDwrvfeufPszPRlZ73Znd6entyZ332ce+6/\n",
       "BShTPMViFuoooSiMQ+Fi8uup4uWyvp4ju9L13OukWhvNuYj4ovxycNfh8oRSXXfyxpTaoaybgyjk\n",
       "aaWr0YRaF47prOxUgKaehDyh2k8uqGoClvrP3YzLJoNtu0uE3AS1+qPOzNxBt95/TbZL4E/o4G1a\n",
       "Uu0mf1q+NBv2RN0hDEYsCXGZRycvmk7cFM0cjli3pNjN/naEfIs7hMfStoSvyy9/YI8Nmrn7HeuW\n",
       "FLvZ344QtrhD+CZYErIvK4ShuySop9SPVk2zbonaS/xtCY+l3CAUbhoJ2c7Zbbjefx2W3jcH1wbi\n",
       "+LpQ3TS5fMB6QVO72d+eMBBxgzCgCwnr0f+iVLhA3vwFsEbekkV8/UiCbpogZEIZy8SB2lX/soTC\n",
       "LTcIV2p9zbeigZgKPpn5fYVwK2m+CEvn0j4BNm/ZV9Su+Jcn5K64QfiYtj/0omXhuwUB0UhYxIGD\n",
       "vw7wnOx3GmC1VUuKXfUvSwiX3CCcqFWb0Bh6EjAkGQk3kgG6pRKiiLnMqiXFrvqXJ+xINZ6Quat7\n",
       "8wbAUBaOgZHwNfIsokLIo/AQTpW2pNoV/9Ez0yLTVjsSDuQaT+jVhVIcS4cysJ5PGQhXpvfOYK6C\n",
       "QogpeIs9X7Ur/r9MhYnpmY6EnljjCYMtRsKgKGwKkTdJ8oc7QcyFxrIqYTedkcDdQ5ehPK1odurP\n",
       "7o3DNeiUXfSEQ1qcCsZlQmL53ZEwTIJvDWcfT8JIyPXM6JuO68uKa/uKO4j51XWztoGkEK7CF7K3\n",
       "4zw6EKMVnZ36+0WmBd5FLjTVeUGJuTFtgynIhCfwy9+OhGQnCtdwShyKANhmbWrxS0JKISS7C1Pq\n",
       "o7cTf4/kTbAF1DNf26cb/8iE/TjVSDgSko/7a9kORd2b4/bZ+fPo+lUV2TzyH0CjKCTQ9LY/dTJX\n",
       "ZEI8NtZphLYO8RCfqCXv1rc7ZuflK6LO/nhrT6WtEv/FKPiw69LAifYnt6syoTAyOPhJmUjz2+Dg\n",
       "wXgNhGP6KBW2621mY6a6PUjvLzg4Xqex9EYyuaUMYXMy2VuLBtFh2NmG3dRpcLlBCdG2ua0MoV+C\n",
       "oO5h20/Ot9r8Or8zB6NTaRjP8iAlfAadTIyfLO+MeifqCZsicEj7eHcUukofnT0PTJvJtnB8CR+g\n",
       "hAHw6qYPd3ROjk+MwHzDjh+HRzWUSWixx0qa24kG+QmTbcO4Aso5LCIM5fRnzrNHBoE/7dOCMCH8\n",
       "CbRAE0D9IbSUNPce+v/5/0nI5lHSLixY0u6dKeH5iBLAFa+IRsLdDBo0bvZ6XH8Ir7lCySrEzB2V\n",
       "zlJhgRuEm5W8dBtKiYRFOc9ab0xO0Hhp5IyRMNiHkooD0sq0fDwHXx78xqcP43n7lDnSpGx2qouu\n",
       "RhoYRjPw01nQHPVlYZ9MGApFDIQ8PoHPgeXYcAcbs8xxI2Ez7hKzyNdhk7UL+inwH6vD5tMpJmzG\n",
       "aUEPqgYysDyZTIq8xObixrMFToAmAzmt3C8vuICR0CNarM6xqPWtQ/r0oQZ1WJ0a1uqwUq4qhAJ+\n",
       "1lZ4GAYY8MtjCM+KRsJfUX/dhB2DqLqGO8dOKCH0x77I7IzC6DejK77XsrZKCHGpUh3+E6z9TQN8\n",
       "R38+ZAtoFM+GIIR5hCgI2dLz4STmWo79APYsEb6NEsL+NHpLL1yreO48OqblPZmjWuadq5CwOnWY\n",
       "6U07qsOmzJuqKDG4AH0jAB/iwyh61Fgp4eJH2nPMZODm/RBjCWFXhpkEXSl8ycC+7WvQ7PFLB+Bx\n",
       "bXFGKiCsXh32Py06qsOK8nHb8ozvRevQ6YzP486JfSbPUi0DxrVlbA6lD8MQV82BvANh7erwIbo7\n",
       "26nDyl1u1qRiHMHPdq8NmI4ngVd7j9QG0KT5HKZDj2r26WJm6BIpZFT9+brU4RP0KGenDitDXaiJ\n",
       "kKys3qjp5EJqwbdsZOeScliqSx2Ow25wUocNGkqD1cTblubut6EedVgQ8WHHQR1W1ETRXUVYXxZJ\n",
       "9ajDKAIwMSd12EVFGBaWrEPyaHiXrl0dHkb/F8BBHaalF1wgfClqG0trV4cvUEpbdZgWV76ZCURs\n",
       "CWtWh5kE0IzKrA4bBWGvK9+u2QRTTFizOuyPEjgLddgoCMuifsO/5Z5SWdZWjTrcRK6SlTpslDJd\n",
       "+ZZb/0sFPWFLY9Rhq/S80YTWpwOh0BB12JhetrlDyLZami9WpPZWqw4bilu/GLKZcHzjdRp6IGs8\n",
       "oYXu6EoREpUT1vnry57xIazm15d1/oLWFx0PQG4tVfuKl/8FKqVWpTXXOEYAAAAASUVORK5CYII=\n",
       "\" style=\"display:inline;vertical-align:middle;\" /></a><br>"
      ],
      "text/plain": [
       "condition_with_true_on_right_reduction: forall_{m in Naturals} [forall_{a, Q_{1}, ..Q_{_a}.., Q_{m}} ({a if Q_{1} and ..Q_{_a}.. and Q_{m} ,  TRUE. \\\\  = {a if Q_{1} and ..Q_{_a}.. and Q_{m}.)]"
      ]
     },
     "execution_count": 8,
     "metadata": {},
     "output_type": "execute_result"
    }
   ],
   "source": [
    "condition_with_true_on_right_reduction = \\\n",
    "    Forall(m, Forall((a, Q_1_to_m), \n",
    "                          Equals(Conditional(a, (And(Q_1_to_m), TRUE)), \n",
    "                                 Conditional(a, (Q_1_to_m))).withWrapBeforeOperator()),\n",
    "           domain=Naturals)"
   ]
  },
  {
   "cell_type": "code",
   "execution_count": 9,
   "metadata": {},
   "outputs": [
    {
     "name": "stdout",
     "output_type": "stream",
     "text": [
      "Theorems may be imported from autogenerated _theorems_.py\n"
     ]
    }
   ],
   "source": [
    "%end theorems"
   ]
  }
 ],
 "metadata": {
  "kernelspec": {
   "display_name": "Python 3",
   "language": "python",
   "name": "python3"
  }
 },
 "nbformat": 4,
 "nbformat_minor": 0
}
