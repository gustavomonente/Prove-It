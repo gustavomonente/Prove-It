{
 "cells": [
  {
   "cell_type": "markdown",
   "metadata": {},
   "source": [
    "Expression of type <a class=\"ProveItLink\" href=\"../../../../../../../doc/html/api/proveit.Lambda.html\">Lambda</a>\n",
    "=======================\n",
    "# from the theory of <a class=\"ProveItLink\" href=\"../../../_theory_nbs_/theory.ipynb\">proveit.core_expr_types.lambda_maps</a>"
   ]
  },
  {
   "cell_type": "code",
   "execution_count": 1,
   "metadata": {},
   "outputs": [],
   "source": [
    "import proveit\n",
    "# Automation is not needed when building an expression:\n",
    "proveit.defaults.automation = False # This will speed things up.\n",
    "proveit.defaults.inline_pngs = False # Makes files smaller.\n",
    "%load_expr # Load the stored expression as 'stored_expr'\n",
    "# import Expression classes needed to build the expression\n",
    "from proveit import Conditional, Lambda, f, g, i\n",
    "from proveit.core_expr_types import a_1_to_i, b_1_to_i, c_1_to_i, f__a_1_to_i, f__b_1_to_i, g__a_1_to_i, g__c_1_to_i\n",
    "from proveit.logic import Equals, Forall, Implies, InSet\n",
    "from proveit.numbers import NaturalPos"
   ]
  },
  {
   "cell_type": "code",
   "execution_count": 2,
   "metadata": {},
   "outputs": [
    {
     "data": {
      "text/html": [
       "<strong id=\"expr\">expr:</strong> <a class=\"ProveItLink\" href=\"expr.ipynb\"><img src=\"expr.png\" style=\"display:inline;vertical-align:middle;\" /></a><br>"
      ],
      "text/plain": [
       "expr: i -> {forall_{f, g} ([forall_{a_{1}, ..a_{_a}.., a_{i}} (f(a_{1}, ..a_{_a}.., a_{i}) = g(a_{1}, ..a_{_a}.., a_{i}))] =>  \\\\ ([(b_{1}, ..b_{_a}.., b_{i}) -> f(b_{1}, ..b_{_a}.., b_{i})] =  \\\\ [(c_{1}, ..c_{_a}.., c_{i}) -> g(c_{1}, ..c_{_a}.., c_{i})])) if i in NaturalPos."
      ]
     },
     "execution_count": 2,
     "metadata": {},
     "output_type": "execute_result"
    }
   ],
   "source": [
    "# build up the expression from sub-expressions\n",
    "expr = Lambda(i, Conditional(Forall([f, g], Implies(Forall([a_1_to_i], Equals(f__a_1_to_i, g__a_1_to_i)), Equals(Lambda([b_1_to_i], f__b_1_to_i), Lambda([c_1_to_i], g__c_1_to_i)).with_wrapping_at(2)).with_wrapping_at(2)), InSet(i, NaturalPos)))"
   ]
  },
  {
   "cell_type": "code",
   "execution_count": 3,
   "metadata": {},
   "outputs": [
    {
     "name": "stdout",
     "output_type": "stream",
     "text": [
      "Passed sanity check: expr matches stored_expr\n"
     ]
    }
   ],
   "source": [
    "# check that the built expression is the same as the stored expression\n",
    "assert expr == stored_expr\n",
    "assert expr._style_id == stored_expr._style_id\n",
    "print(\"Passed sanity check: expr matches stored_expr\")"
   ]
  },
  {
   "cell_type": "code",
   "execution_count": 4,
   "metadata": {},
   "outputs": [
    {
     "name": "stdout",
     "output_type": "stream",
     "text": [
      "i \\mapsto \\left\\{\\forall_{f, g}~\\left(\\begin{array}{c} \\begin{array}{l} \\left[\\forall_{a_{1}, \\ldots, a_{i}}~\\left(f(a_{1}, \\ldots, a_{i}) = g(a_{1}, \\ldots, a_{i})\\right)\\right] \\Rightarrow  \\\\ \\left(\\begin{array}{c} \\begin{array}{l} \\left[\\left(b_{1}, \\ldots, b_{i}\\right) \\mapsto f(b_{1}, \\ldots, b_{i})\\right] =  \\\\ \\left[\\left(c_{1}, \\ldots, c_{i}\\right) \\mapsto g(c_{1}, \\ldots, c_{i})\\right] \\end{array} \\end{array}\\right) \\end{array} \\end{array}\\right) \\textrm{ if } i \\in \\mathbb{N}^+\\right..\n"
     ]
    }
   ],
   "source": [
    "# Show the LaTeX representation of the expression for convenience if you need it.\n",
    "print(expr.latex())"
   ]
  },
  {
   "cell_type": "code",
   "execution_count": 5,
   "metadata": {},
   "outputs": [
    {
     "data": {
      "text/html": [
       "no style options"
      ],
      "text/plain": [
       "no style options"
      ]
     },
     "execution_count": 5,
     "metadata": {},
     "output_type": "execute_result"
    }
   ],
   "source": [
    "expr.style_options()"
   ]
  },
  {
   "cell_type": "code",
   "execution_count": 6,
   "metadata": {},
   "outputs": [
    {
     "data": {
      "text/html": [
       "<table><tr><th>&nbsp;</th><th>core type</th><th>sub-expressions</th><th>expression</th></tr>\n",
       "<tr><td>0</td><td>Lambda</td><td>parameter:&nbsp;42<br>body:&nbsp;1<br></td><td><a class=\"ProveItLink\" href=\"expr.ipynb\"><img src=\"expr.png\" style=\"display:inline;vertical-align:middle;\" /></a></td></tr>\n",
       "<tr><td>1</td><td>Conditional</td><td>value:&nbsp;2<br>condition:&nbsp;3<br></td><td><a class=\"ProveItLink\" href=\"../0db68f1f9082f48c24d784de6391e646109ffa6f0/expr.ipynb\"><img src=\"../0db68f1f9082f48c24d784de6391e646109ffa6f0/expr.png\" style=\"display:inline;vertical-align:middle;\" /></a></td></tr>\n",
       "<tr><td>2</td><td>Operation</td><td>operator:&nbsp;15<br>operand:&nbsp;7<br></td><td><a class=\"ProveItLink\" href=\"../cf39af2cb4f41c164140cfc0fb00ade80a10492d0/expr.ipynb\"><img src=\"../cf39af2cb4f41c164140cfc0fb00ade80a10492d0/expr.png\" style=\"display:inline;vertical-align:middle;\" /></a></td></tr>\n",
       "<tr><td>3</td><td>Operation</td><td>operator:&nbsp;5<br>operands:&nbsp;6<br></td><td><a class=\"ProveItLink\" href=\"../a6e4340e3d13dd168f03465324dd79cc7a1cd6610/expr.ipynb\"><img src=\"../a6e4340e3d13dd168f03465324dd79cc7a1cd6610/expr.png\" style=\"display:inline;vertical-align:middle;\" /></a></td></tr>\n",
       "<tr><td>4</td><td>ExprTuple</td><td>7</td><td><a class=\"ProveItLink\" href=\"../34da65a6d2aa7d68e8f1c4caa8d68f8a431748050/expr.ipynb\"><img src=\"../34da65a6d2aa7d68e8f1c4caa8d68f8a431748050/expr.png\" style=\"display:inline;vertical-align:middle;\" /></a></td></tr>\n",
       "<tr><td>5</td><td>Literal</td><td></td><td><a class=\"ProveItLink\" href=\"../../../../../logic/sets/membership/__pv_it/common/7171deca84f71f47a6ec7696972d1632274a12880/expr.ipynb\"><img src=\"../../../../../logic/sets/membership/__pv_it/common/7171deca84f71f47a6ec7696972d1632274a12880/expr.png\" style=\"display:inline;vertical-align:middle;\" /></a></td></tr>\n",
       "<tr><td>6</td><td>ExprTuple</td><td>42, 8</td><td><a class=\"ProveItLink\" href=\"../68bcb85d6ee1bc57c5b1b03355d69de17d44713a0/expr.ipynb\"><img src=\"../68bcb85d6ee1bc57c5b1b03355d69de17d44713a0/expr.png\" style=\"display:inline;vertical-align:middle;\" /></a></td></tr>\n",
       "<tr><td>7</td><td>Lambda</td><td>parameters:&nbsp;9<br>body:&nbsp;10<br></td><td><a class=\"ProveItLink\" href=\"../42c34a21c967e9d7c661bb00c56206a5fa8339c60/expr.ipynb\"><img src=\"../42c34a21c967e9d7c661bb00c56206a5fa8339c60/expr.png\" style=\"display:inline;vertical-align:middle;\" /></a></td></tr>\n",
       "<tr><td>8</td><td>Literal</td><td></td><td><a class=\"ProveItLink\" href=\"../../../../../numbers/number_sets/natural_numbers/__pv_it/common/a2a7252783c385c028dad802e97575c19e456b990/expr.ipynb\"><img src=\"../../../../../numbers/number_sets/natural_numbers/__pv_it/common/a2a7252783c385c028dad802e97575c19e456b990/expr.png\" style=\"display:inline;vertical-align:middle;\" /></a></td></tr>\n",
       "<tr><td>9</td><td>ExprTuple</td><td>32, 33</td><td><a class=\"ProveItLink\" href=\"../cf404dce40cf1a6da12cc3c5a38c86518feab9cb0/expr.ipynb\"><img src=\"../cf404dce40cf1a6da12cc3c5a38c86518feab9cb0/expr.png\" style=\"display:inline;vertical-align:middle;\" /></a></td></tr>\n",
       "<tr><td>10</td><td>Operation</td><td>operator:&nbsp;11<br>operands:&nbsp;12<br></td><td><a class=\"ProveItLink\" href=\"../bf4f3d5e7057ff792d5e8882baa3b327aed5fa650/expr.ipynb\"><img src=\"../bf4f3d5e7057ff792d5e8882baa3b327aed5fa650/expr.png\" style=\"display:inline;vertical-align:middle;\" /></a></td></tr>\n",
       "<tr><td>11</td><td>Literal</td><td></td><td><a class=\"ProveItLink\" href=\"../../../../../logic/booleans/implication/__pv_it/common/95a8cc69d34af52c7732e4a6fefbd5b63e8d31ba0/expr.ipynb\"><img src=\"../../../../../logic/booleans/implication/__pv_it/common/95a8cc69d34af52c7732e4a6fefbd5b63e8d31ba0/expr.png\" style=\"display:inline;vertical-align:middle;\" /></a></td></tr>\n",
       "<tr><td>12</td><td>ExprTuple</td><td>13, 14</td><td><a class=\"ProveItLink\" href=\"../4c8a500d0cead87f5f99fa9d87be04cbcc1b79b70/expr.ipynb\"><img src=\"../4c8a500d0cead87f5f99fa9d87be04cbcc1b79b70/expr.png\" style=\"display:inline;vertical-align:middle;\" /></a></td></tr>\n",
       "<tr><td>13</td><td>Operation</td><td>operator:&nbsp;15<br>operand:&nbsp;18<br></td><td><a class=\"ProveItLink\" href=\"../c26d71e1f32c54d8d46ce7ccfd8685cff4389b650/expr.ipynb\"><img src=\"../c26d71e1f32c54d8d46ce7ccfd8685cff4389b650/expr.png\" style=\"display:inline;vertical-align:middle;\" /></a></td></tr>\n",
       "<tr><td>14</td><td>Operation</td><td>operator:&nbsp;24<br>operands:&nbsp;17<br></td><td><a class=\"ProveItLink\" href=\"../48c9cc356b3077fa77224c13e94054af389fbaac0/expr.ipynb\"><img src=\"../48c9cc356b3077fa77224c13e94054af389fbaac0/expr.png\" style=\"display:inline;vertical-align:middle;\" /></a></td></tr>\n",
       "<tr><td>15</td><td>Literal</td><td></td><td><a class=\"ProveItLink\" href=\"../../../../../logic/booleans/quantification/universality/__pv_it/common/684d35ba98fcbf8ca5011f865e530a51e77730630/expr.ipynb\"><img src=\"../../../../../logic/booleans/quantification/universality/__pv_it/common/684d35ba98fcbf8ca5011f865e530a51e77730630/expr.png\" style=\"display:inline;vertical-align:middle;\" /></a></td></tr>\n",
       "<tr><td>16</td><td>ExprTuple</td><td>18</td><td><a class=\"ProveItLink\" href=\"../7e9b4fe9cb0fdf8594d8bb9b613e5c9914b433d10/expr.ipynb\"><img src=\"../7e9b4fe9cb0fdf8594d8bb9b613e5c9914b433d10/expr.png\" style=\"display:inline;vertical-align:middle;\" /></a></td></tr>\n",
       "<tr><td>17</td><td>ExprTuple</td><td>19, 20</td><td><a class=\"ProveItLink\" href=\"../5ddfdd5678a5e3bd86596136ee59c04612f29b630/expr.ipynb\"><img src=\"../5ddfdd5678a5e3bd86596136ee59c04612f29b630/expr.png\" style=\"display:inline;vertical-align:middle;\" /></a></td></tr>\n",
       "<tr><td>18</td><td>Lambda</td><td>parameters:&nbsp;34<br>body:&nbsp;21<br></td><td><a class=\"ProveItLink\" href=\"../436bb11d7e69a106893d6d6fc8148a3f499f04990/expr.ipynb\"><img src=\"../436bb11d7e69a106893d6d6fc8148a3f499f04990/expr.png\" style=\"display:inline;vertical-align:middle;\" /></a></td></tr>\n",
       "<tr><td>19</td><td>Lambda</td><td>parameters:&nbsp;26<br>body:&nbsp;22<br></td><td><a class=\"ProveItLink\" href=\"../9411b1a17a5123550377e658c2aa4422374c84c30/expr.ipynb\"><img src=\"../9411b1a17a5123550377e658c2aa4422374c84c30/expr.png\" style=\"display:inline;vertical-align:middle;\" /></a></td></tr>\n",
       "<tr><td>20</td><td>Lambda</td><td>parameters:&nbsp;27<br>body:&nbsp;23<br></td><td><a class=\"ProveItLink\" href=\"../4897c46d55ad472f1f77bb6340587412e25f5d380/expr.ipynb\"><img src=\"../4897c46d55ad472f1f77bb6340587412e25f5d380/expr.png\" style=\"display:inline;vertical-align:middle;\" /></a></td></tr>\n",
       "<tr><td>21</td><td>Operation</td><td>operator:&nbsp;24<br>operands:&nbsp;25<br></td><td><a class=\"ProveItLink\" href=\"../30c8752ad1fb3d1cd60e5463f96edbfb053e199f0/expr.ipynb\"><img src=\"../30c8752ad1fb3d1cd60e5463f96edbfb053e199f0/expr.png\" style=\"display:inline;vertical-align:middle;\" /></a></td></tr>\n",
       "<tr><td>22</td><td>Operation</td><td>operator:&nbsp;32<br>operands:&nbsp;26<br></td><td><a class=\"ProveItLink\" href=\"../../../../__pv_it/common/09549606bd9883901f287fc69368b2239bc37a1e0/expr.ipynb\"><img src=\"../../../../__pv_it/common/09549606bd9883901f287fc69368b2239bc37a1e0/expr.png\" style=\"display:inline;vertical-align:middle;\" /></a></td></tr>\n",
       "<tr><td>23</td><td>Operation</td><td>operator:&nbsp;33<br>operands:&nbsp;27<br></td><td><a class=\"ProveItLink\" href=\"../../../../__pv_it/common/952264d0bfcf77d84a9bfe19e90a18019c302ad00/expr.ipynb\"><img src=\"../../../../__pv_it/common/952264d0bfcf77d84a9bfe19e90a18019c302ad00/expr.png\" style=\"display:inline;vertical-align:middle;\" /></a></td></tr>\n",
       "<tr><td>24</td><td>Literal</td><td></td><td><a class=\"ProveItLink\" href=\"../../../../../logic/equality/__pv_it/common/731dd3955b346c1320ed5c0ba7a618bcda61457d0/expr.ipynb\"><img src=\"../../../../../logic/equality/__pv_it/common/731dd3955b346c1320ed5c0ba7a618bcda61457d0/expr.png\" style=\"display:inline;vertical-align:middle;\" /></a></td></tr>\n",
       "<tr><td>25</td><td>ExprTuple</td><td>28, 29</td><td><a class=\"ProveItLink\" href=\"../37992a742183ecc8230d85d8998472040e93542a0/expr.ipynb\"><img src=\"../37992a742183ecc8230d85d8998472040e93542a0/expr.png\" style=\"display:inline;vertical-align:middle;\" /></a></td></tr>\n",
       "<tr><td>26</td><td>ExprTuple</td><td>30</td><td><a class=\"ProveItLink\" href=\"../../../../__pv_it/common/3d578d96848e574431c70d47c09767829567b7bf0/expr.ipynb\"><img src=\"../../../../__pv_it/common/3d578d96848e574431c70d47c09767829567b7bf0/expr.png\" style=\"display:inline;vertical-align:middle;\" /></a></td></tr>\n",
       "<tr><td>27</td><td>ExprTuple</td><td>31</td><td><a class=\"ProveItLink\" href=\"../../../../__pv_it/common/1f6fb020bbe2c7dd860bd7c46ef175327f33759e0/expr.ipynb\"><img src=\"../../../../__pv_it/common/1f6fb020bbe2c7dd860bd7c46ef175327f33759e0/expr.png\" style=\"display:inline;vertical-align:middle;\" /></a></td></tr>\n",
       "<tr><td>28</td><td>Operation</td><td>operator:&nbsp;32<br>operands:&nbsp;34<br></td><td><a class=\"ProveItLink\" href=\"../../../../__pv_it/common/b242345a98c8606527bbf912332fd02c640bfc230/expr.ipynb\"><img src=\"../../../../__pv_it/common/b242345a98c8606527bbf912332fd02c640bfc230/expr.png\" style=\"display:inline;vertical-align:middle;\" /></a></td></tr>\n",
       "<tr><td>29</td><td>Operation</td><td>operator:&nbsp;33<br>operands:&nbsp;34<br></td><td><a class=\"ProveItLink\" href=\"../../../../__pv_it/common/11829af31a27e4c5887e281381d22dd9c7ec3f330/expr.ipynb\"><img src=\"../../../../__pv_it/common/11829af31a27e4c5887e281381d22dd9c7ec3f330/expr.png\" style=\"display:inline;vertical-align:middle;\" /></a></td></tr>\n",
       "<tr><td>30</td><td>ExprRange</td><td>lambda_map:&nbsp;35<br>start_index:&nbsp;41<br>end_index:&nbsp;42<br></td><td><a class=\"ProveItLink\" href=\"../../../../__pv_it/common/6c07be51382834e0d7493be863ccb1787b92d4b60/expr.ipynb\"><img src=\"../../../../__pv_it/common/6c07be51382834e0d7493be863ccb1787b92d4b60/expr.png\" style=\"display:inline;vertical-align:middle;\" /></a></td></tr>\n",
       "<tr><td>31</td><td>ExprRange</td><td>lambda_map:&nbsp;36<br>start_index:&nbsp;41<br>end_index:&nbsp;42<br></td><td><a class=\"ProveItLink\" href=\"../../../../__pv_it/common/02adee98e2026ca8ea3916b7b44f05e457dc057d0/expr.ipynb\"><img src=\"../../../../__pv_it/common/02adee98e2026ca8ea3916b7b44f05e457dc057d0/expr.png\" style=\"display:inline;vertical-align:middle;\" /></a></td></tr>\n",
       "<tr><td>32</td><td>Variable</td><td></td><td><a class=\"ProveItLink\" href=\"../../../../../__pv_it/common/c03f8781a34c741744d7dee8670bbb5419fe0ac50/expr.ipynb\"><img src=\"../../../../../__pv_it/common/c03f8781a34c741744d7dee8670bbb5419fe0ac50/expr.png\" style=\"display:inline;vertical-align:middle;\" /></a></td></tr>\n",
       "<tr><td>33</td><td>Variable</td><td></td><td><a class=\"ProveItLink\" href=\"../../../../../__pv_it/common/17f4748b91b4dae722cf590e1dfa2fba4b7984ca0/expr.ipynb\"><img src=\"../../../../../__pv_it/common/17f4748b91b4dae722cf590e1dfa2fba4b7984ca0/expr.png\" style=\"display:inline;vertical-align:middle;\" /></a></td></tr>\n",
       "<tr><td>34</td><td>ExprTuple</td><td>37</td><td><a class=\"ProveItLink\" href=\"../../../../__pv_it/common/3278021aa85a27c610b6ccb6e0603f5294ddba510/expr.ipynb\"><img src=\"../../../../__pv_it/common/3278021aa85a27c610b6ccb6e0603f5294ddba510/expr.png\" style=\"display:inline;vertical-align:middle;\" /></a></td></tr>\n",
       "<tr><td>35</td><td>Lambda</td><td>parameter:&nbsp;48<br>body:&nbsp;38<br></td><td><a class=\"ProveItLink\" href=\"../../../../__pv_it/common/ba19487284205e8bd037599d68730451639874da0/expr.ipynb\"><img src=\"../../../../__pv_it/common/ba19487284205e8bd037599d68730451639874da0/expr.png\" style=\"display:inline;vertical-align:middle;\" /></a></td></tr>\n",
       "<tr><td>36</td><td>Lambda</td><td>parameter:&nbsp;48<br>body:&nbsp;39<br></td><td><a class=\"ProveItLink\" href=\"../../../../__pv_it/common/a194210cc943a5475599de362bce34740df0415a0/expr.ipynb\"><img src=\"../../../../__pv_it/common/a194210cc943a5475599de362bce34740df0415a0/expr.png\" style=\"display:inline;vertical-align:middle;\" /></a></td></tr>\n",
       "<tr><td>37</td><td>ExprRange</td><td>lambda_map:&nbsp;40<br>start_index:&nbsp;41<br>end_index:&nbsp;42<br></td><td><a class=\"ProveItLink\" href=\"../../../../__pv_it/common/a8faf3b27fe552f144fda91135c3a6148ee990d00/expr.ipynb\"><img src=\"../../../../__pv_it/common/a8faf3b27fe552f144fda91135c3a6148ee990d00/expr.png\" style=\"display:inline;vertical-align:middle;\" /></a></td></tr>\n",
       "<tr><td>38</td><td>IndexedVar</td><td>variable:&nbsp;43<br>index:&nbsp;48<br></td><td><a class=\"ProveItLink\" href=\"../../../../__pv_it/common/d970eb18e3a42edf466b1db01e5cbdd3ba6971b60/expr.ipynb\"><img src=\"../../../../__pv_it/common/d970eb18e3a42edf466b1db01e5cbdd3ba6971b60/expr.png\" style=\"display:inline;vertical-align:middle;\" /></a></td></tr>\n",
       "<tr><td>39</td><td>IndexedVar</td><td>variable:&nbsp;44<br>index:&nbsp;48<br></td><td><a class=\"ProveItLink\" href=\"../../../../__pv_it/common/9bc0e9f465041db0a300264677d344fd5e47b7ea0/expr.ipynb\"><img src=\"../../../../__pv_it/common/9bc0e9f465041db0a300264677d344fd5e47b7ea0/expr.png\" style=\"display:inline;vertical-align:middle;\" /></a></td></tr>\n",
       "<tr><td>40</td><td>Lambda</td><td>parameter:&nbsp;48<br>body:&nbsp;45<br></td><td><a class=\"ProveItLink\" href=\"../../../../__pv_it/common/99ea59f1b92e70eddeee736182b1abeb9f49c91b0/expr.ipynb\"><img src=\"../../../../__pv_it/common/99ea59f1b92e70eddeee736182b1abeb9f49c91b0/expr.png\" style=\"display:inline;vertical-align:middle;\" /></a></td></tr>\n",
       "<tr><td>41</td><td>Literal</td><td></td><td><a class=\"ProveItLink\" href=\"../../../../../numbers/numerals/__pv_it/common/d278e359da0695d9652dd541d45264f93703e2e40/expr.ipynb\"><img src=\"../../../../../numbers/numerals/__pv_it/common/d278e359da0695d9652dd541d45264f93703e2e40/expr.png\" style=\"display:inline;vertical-align:middle;\" /></a></td></tr>\n",
       "<tr><td>42</td><td>Variable</td><td></td><td><a class=\"ProveItLink\" href=\"../../../../../__pv_it/common/575a6156bb1c87c5beeaf38c302b5905ad57f5780/expr.ipynb\"><img src=\"../../../../../__pv_it/common/575a6156bb1c87c5beeaf38c302b5905ad57f5780/expr.png\" style=\"display:inline;vertical-align:middle;\" /></a></td></tr>\n",
       "<tr><td>43</td><td>Variable</td><td></td><td><a class=\"ProveItLink\" href=\"../../../../../__pv_it/common/4a5db8cc5c67969ec864bd3ea598be37cb6f5e550/expr.ipynb\"><img src=\"../../../../../__pv_it/common/4a5db8cc5c67969ec864bd3ea598be37cb6f5e550/expr.png\" style=\"display:inline;vertical-align:middle;\" /></a></td></tr>\n",
       "<tr><td>44</td><td>Variable</td><td></td><td><a class=\"ProveItLink\" href=\"../../../../../__pv_it/common/9a9d28748f90dec84e90f2ace4610208194e524e0/expr.ipynb\"><img src=\"../../../../../__pv_it/common/9a9d28748f90dec84e90f2ace4610208194e524e0/expr.png\" style=\"display:inline;vertical-align:middle;\" /></a></td></tr>\n",
       "<tr><td>45</td><td>IndexedVar</td><td>variable:&nbsp;46<br>index:&nbsp;48<br></td><td><a class=\"ProveItLink\" href=\"../../../../__pv_it/common/d8d3053e77ba1db68c0cd106952422881db586670/expr.ipynb\"><img src=\"../../../../__pv_it/common/d8d3053e77ba1db68c0cd106952422881db586670/expr.png\" style=\"display:inline;vertical-align:middle;\" /></a></td></tr>\n",
       "<tr><td>46</td><td>Variable</td><td></td><td><a class=\"ProveItLink\" href=\"../../../../../__pv_it/common/66c90e66682f107a881f2d666959f64e2e72ad750/expr.ipynb\"><img src=\"../../../../../__pv_it/common/66c90e66682f107a881f2d666959f64e2e72ad750/expr.png\" style=\"display:inline;vertical-align:middle;\" /></a></td></tr>\n",
       "<tr><td>47</td><td>ExprTuple</td><td>48</td><td><a class=\"ProveItLink\" href=\"../../../../__pv_it/common/ecf50ade416ab41c42c9f4e777b4c862cd9469670/expr.ipynb\"><img src=\"../../../../__pv_it/common/ecf50ade416ab41c42c9f4e777b4c862cd9469670/expr.png\" style=\"display:inline;vertical-align:middle;\" /></a></td></tr>\n",
       "<tr><td>48</td><td>Variable</td><td></td><td><a class=\"ProveItLink\" href=\"../../../../__pv_it/common/9e6d9d5d7eeb0342cf5bca68def0eb165a1a9bb10/expr.ipynb\"><img src=\"../../../../__pv_it/common/9e6d9d5d7eeb0342cf5bca68def0eb165a1a9bb10/expr.png\" style=\"display:inline;vertical-align:middle;\" /></a></td></tr>\n",
       "</table>\n"
      ],
      "text/plain": [
       "0. i -> {forall_{f, g} ([forall_{a_{1}, ..a_{_a}.., a_{i}} (f(a_{1}, ..a_{_a}.., a_{i}) = g(a_{1}, ..a_{_a}.., a_{i}))] =>  \\\\ ([(b_{1}, ..b_{_a}.., b_{i}) -> f(b_{1}, ..b_{_a}.., b_{i})] =  \\\\ [(c_{1}, ..c_{_a}.., c_{i}) -> g(c_{1}, ..c_{_a}.., c_{i})])) if i in NaturalPos.\n",
       "   core type: Lambda\n",
       "   parameter: 42\n",
       "   body: 1\n",
       "1. {forall_{f, g} ([forall_{a_{1}, ..a_{_a}.., a_{i}} (f(a_{1}, ..a_{_a}.., a_{i}) = g(a_{1}, ..a_{_a}.., a_{i}))] =>  \\\\ ([(b_{1}, ..b_{_a}.., b_{i}) -> f(b_{1}, ..b_{_a}.., b_{i})] =  \\\\ [(c_{1}, ..c_{_a}.., c_{i}) -> g(c_{1}, ..c_{_a}.., c_{i})])) if i in NaturalPos.\n",
       "   core type: Conditional\n",
       "   value: 2\n",
       "   condition: 3\n",
       "2. forall_{f, g} ([forall_{a_{1}, ..a_{_a}.., a_{i}} (f(a_{1}, ..a_{_a}.., a_{i}) = g(a_{1}, ..a_{_a}.., a_{i}))] =>  \\\\ ([(b_{1}, ..b_{_a}.., b_{i}) -> f(b_{1}, ..b_{_a}.., b_{i})] =  \\\\ [(c_{1}, ..c_{_a}.., c_{i}) -> g(c_{1}, ..c_{_a}.., c_{i})]))\n",
       "   core type: Operation\n",
       "   operator: 15\n",
       "   operand: 7\n",
       "3. i in NaturalPos\n",
       "   core type: Operation\n",
       "   operator: 5\n",
       "   operands: 6\n",
       "4. ((f, g) -> ([forall_{a_{1}, ..a_{_a}.., a_{i}} (f(a_{1}, ..a_{_a}.., a_{i}) = g(a_{1}, ..a_{_a}.., a_{i}))] =>  \\\\ ([(b_{1}, ..b_{_a}.., b_{i}) -> f(b_{1}, ..b_{_a}.., b_{i})] =  \\\\ [(c_{1}, ..c_{_a}.., c_{i}) -> g(c_{1}, ..c_{_a}.., c_{i})])))\n",
       "   core type: ExprTuple\n",
       "   sub-expressions: 7\n",
       "5. in\n",
       "   core type: Literal\n",
       "   sub-expressions: \n",
       "6. (i, NaturalPos)\n",
       "   core type: ExprTuple\n",
       "   sub-expressions: 42, 8\n",
       "7. (f, g) -> ([forall_{a_{1}, ..a_{_a}.., a_{i}} (f(a_{1}, ..a_{_a}.., a_{i}) = g(a_{1}, ..a_{_a}.., a_{i}))] =>  \\\\ ([(b_{1}, ..b_{_a}.., b_{i}) -> f(b_{1}, ..b_{_a}.., b_{i})] =  \\\\ [(c_{1}, ..c_{_a}.., c_{i}) -> g(c_{1}, ..c_{_a}.., c_{i})]))\n",
       "   core type: Lambda\n",
       "   parameters: 9\\n   body: 10\n",
       "8. NaturalPos\n",
       "   core type: Literal\n",
       "   sub-expressions: \n",
       "9. (f, g)\n",
       "   core type: ExprTuple\n",
       "   sub-expressions: 32, 33\n",
       "10. [forall_{a_{1}, ..a_{_a}.., a_{i}} (f(a_{1}, ..a_{_a}.., a_{i}) = g(a_{1}, ..a_{_a}.., a_{i}))] =>  \\\\ ([(b_{1}, ..b_{_a}.., b_{i}) -> f(b_{1}, ..b_{_a}.., b_{i})] =  \\\\ [(c_{1}, ..c_{_a}.., c_{i}) -> g(c_{1}, ..c_{_a}.., c_{i})])\n",
       "    core type: Operation\n",
       "    operator: 11\n",
       "    operands: 12\n",
       "11. =>\n",
       "    core type: Literal\n",
       "    sub-expressions: \n",
       "12. (forall_{a_{1}, ..a_{_a}.., a_{i}} (f(a_{1}, ..a_{_a}.., a_{i}) = g(a_{1}, ..a_{_a}.., a_{i})), [(b_{1}, ..b_{_a}.., b_{i}) -> f(b_{1}, ..b_{_a}.., b_{i})] =  \\\\ [(c_{1}, ..c_{_a}.., c_{i}) -> g(c_{1}, ..c_{_a}.., c_{i})])\n",
       "    core type: ExprTuple\n",
       "    sub-expressions: 13, 14\n",
       "13. forall_{a_{1}, ..a_{_a}.., a_{i}} (f(a_{1}, ..a_{_a}.., a_{i}) = g(a_{1}, ..a_{_a}.., a_{i}))\n",
       "    core type: Operation\n",
       "    operator: 15\n",
       "    operand: 18\n",
       "14. [(b_{1}, ..b_{_a}.., b_{i}) -> f(b_{1}, ..b_{_a}.., b_{i})] =  \\\\ [(c_{1}, ..c_{_a}.., c_{i}) -> g(c_{1}, ..c_{_a}.., c_{i})]\n",
       "    core type: Operation\n",
       "    operator: 24\n",
       "    operands: 17\n",
       "15. forall\n",
       "    core type: Literal\n",
       "    sub-expressions: \n",
       "16. ((a_{1}, ..a_{_a}.., a_{i}) -> (f(a_{1}, ..a_{_a}.., a_{i}) = g(a_{1}, ..a_{_a}.., a_{i})))\n",
       "    core type: ExprTuple\n",
       "    sub-expressions: 18\n",
       "17. ((b_{1}, ..b_{_a}.., b_{i}) -> f(b_{1}, ..b_{_a}.., b_{i}), (c_{1}, ..c_{_a}.., c_{i}) -> g(c_{1}, ..c_{_a}.., c_{i}))\n",
       "    core type: ExprTuple\n",
       "    sub-expressions: 19, 20\n",
       "18. (a_{1}, ..a_{_a}.., a_{i}) -> (f(a_{1}, ..a_{_a}.., a_{i}) = g(a_{1}, ..a_{_a}.., a_{i}))\n",
       "    core type: Lambda\n",
       "    parameters: 34\\n    body: 21\n",
       "19. (b_{1}, ..b_{_a}.., b_{i}) -> f(b_{1}, ..b_{_a}.., b_{i})\n",
       "    core type: Lambda\n",
       "    parameters: 26\\n    body: 22\n",
       "20. (c_{1}, ..c_{_a}.., c_{i}) -> g(c_{1}, ..c_{_a}.., c_{i})\n",
       "    core type: Lambda\n",
       "    parameters: 27\\n    body: 23\n",
       "21. f(a_{1}, ..a_{_a}.., a_{i}) = g(a_{1}, ..a_{_a}.., a_{i})\n",
       "    core type: Operation\n",
       "    operator: 24\n",
       "    operands: 25\n",
       "22. f(b_{1}, ..b_{_a}.., b_{i})\n",
       "    core type: Operation\n",
       "    operator: 32\n",
       "    operands: 26\n",
       "23. g(c_{1}, ..c_{_a}.., c_{i})\n",
       "    core type: Operation\n",
       "    operator: 33\n",
       "    operands: 27\n",
       "24. =\n",
       "    core type: Literal\n",
       "    sub-expressions: \n",
       "25. (f(a_{1}, ..a_{_a}.., a_{i}), g(a_{1}, ..a_{_a}.., a_{i}))\n",
       "    core type: ExprTuple\n",
       "    sub-expressions: 28, 29\n",
       "26. (b_{1}, ..b_{_a}.., b_{i})\n",
       "    core type: ExprTuple\n",
       "    sub-expressions: 30\n",
       "27. (c_{1}, ..c_{_a}.., c_{i})\n",
       "    core type: ExprTuple\n",
       "    sub-expressions: 31\n",
       "28. f(a_{1}, ..a_{_a}.., a_{i})\n",
       "    core type: Operation\n",
       "    operator: 32\n",
       "    operands: 34\n",
       "29. g(a_{1}, ..a_{_a}.., a_{i})\n",
       "    core type: Operation\n",
       "    operator: 33\n",
       "    operands: 34\n",
       "30. b_{1}, ..b_{_a}.., b_{i}\n",
       "    core type: ExprRange\n",
       "    lambda_map: 35\n",
       "    start_index: 41\n",
       "    end_index: 42\n",
       "31. c_{1}, ..c_{_a}.., c_{i}\n",
       "    core type: ExprRange\n",
       "    lambda_map: 36\n",
       "    start_index: 41\n",
       "    end_index: 42\n",
       "32. f\n",
       "    core type: Variable\n",
       "    sub-expressions: \n",
       "33. g\n",
       "    core type: Variable\n",
       "    sub-expressions: \n",
       "34. (a_{1}, ..a_{_a}.., a_{i})\n",
       "    core type: ExprTuple\n",
       "    sub-expressions: 37\n",
       "35. _a -> b_{_a}\n",
       "    core type: Lambda\n",
       "    parameter: 48\n",
       "    body: 38\n",
       "36. _a -> c_{_a}\n",
       "    core type: Lambda\n",
       "    parameter: 48\n",
       "    body: 39\n",
       "37. a_{1}, ..a_{_a}.., a_{i}\n",
       "    core type: ExprRange\n",
       "    lambda_map: 40\n",
       "    start_index: 41\n",
       "    end_index: 42\n",
       "38. b_{_a}\n",
       "    core type: IndexedVar\n",
       "variable: 43\n",
       "index: 48\n",
       "39. c_{_a}\n",
       "    core type: IndexedVar\n",
       "variable: 44\n",
       "index: 48\n",
       "40. _a -> a_{_a}\n",
       "    core type: Lambda\n",
       "    parameter: 48\n",
       "    body: 45\n",
       "41. 1\n",
       "    core type: Literal\n",
       "    sub-expressions: \n",
       "42. i\n",
       "    core type: Variable\n",
       "    sub-expressions: \n",
       "43. b\n",
       "    core type: Variable\n",
       "    sub-expressions: \n",
       "44. c\n",
       "    core type: Variable\n",
       "    sub-expressions: \n",
       "45. a_{_a}\n",
       "    core type: IndexedVar\n",
       "variable: 46\n",
       "index: 48\n",
       "46. a\n",
       "    core type: Variable\n",
       "    sub-expressions: \n",
       "47. (_a)\n",
       "    core type: ExprTuple\n",
       "    sub-expressions: 48\n",
       "48. _a\n",
       "    core type: Variable\n",
       "    sub-expressions: "
      ]
     },
     "execution_count": 6,
     "metadata": {},
     "output_type": "execute_result"
    }
   ],
   "source": [
    "# display the expression information\n",
    "expr.expr_info()"
   ]
  },
  {
   "cell_type": "code",
   "execution_count": null,
   "metadata": {},
   "outputs": [],
   "source": []
  }
 ],
 "metadata": {
  "kernelspec": {
   "display_name": "Python 3",
   "language": "python",
   "name": "python3"
  }
 },
 "nbformat": 4,
 "nbformat_minor": 0
}