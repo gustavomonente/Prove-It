{
 "cells": [
  {
   "cell_type": "markdown",
   "metadata": {},
   "source": [
    "Expression of type <a class=\"ProveItLink\" href=\"../../../../../../../doc/html/api/proveit.logic.Implies.html\">Implies</a>\n",
    "=======================\n",
    "# from the theory of <a class=\"ProveItLink\" href=\"../../../_theory_nbs_/theory.ipynb\">proveit.core_expr_types.lambda_maps</a>"
   ]
  },
  {
   "cell_type": "code",
   "execution_count": 1,
   "metadata": {},
   "outputs": [],
   "source": [
    "import proveit\n",
    "# Automation is not needed when building an expression:\n",
    "proveit.defaults.automation = False # This will speed things up.\n",
    "proveit.defaults.inline_pngs = False # Makes files smaller.\n",
    "%load_expr # Load the stored expression as 'stored_expr'\n",
    "# import Expression classes needed to build the expression\n",
    "from proveit import Conditional, Lambda\n",
    "from proveit.core_expr_types import Q__a_1_to_i, Q__b_1_to_i, Q__c_1_to_i, a_1_to_i, b_1_to_i, c_1_to_i, f__a_1_to_i, f__b_1_to_i, g__a_1_to_i, g__c_1_to_i\n",
    "from proveit.logic import Equals, Forall, Implies"
   ]
  },
  {
   "cell_type": "code",
   "execution_count": 2,
   "metadata": {},
   "outputs": [
    {
     "data": {
      "text/html": [
       "<strong id=\"expr\">expr:</strong> <a class=\"ProveItLink\" href=\"expr.ipynb\"><img src=\"expr.png\" style=\"display:inline;vertical-align:middle;\" /></a><br>"
      ],
      "text/plain": [
       "expr: [forall_{a_{1}, ..a_{_a}.., a_{i} | Q(a_{1}, ..a_{_a}.., a_{i})} (f(a_{1}, ..a_{_a}.., a_{i}) = g(a_{1}, ..a_{_a}.., a_{i}))] =>  \\\\ ([(b_{1}, ..b_{_a}.., b_{i}) -> {f(b_{1}, ..b_{_a}.., b_{i}) if Q(b_{1}, ..b_{_a}.., b_{i}).] =  \\\\ [(c_{1}, ..c_{_a}.., c_{i}) -> {g(c_{1}, ..c_{_a}.., c_{i}) if Q(c_{1}, ..c_{_a}.., c_{i}).])"
      ]
     },
     "execution_count": 2,
     "metadata": {},
     "output_type": "execute_result"
    }
   ],
   "source": [
    "# build up the expression from sub-expressions\n",
    "expr = Implies(Forall([a_1_to_i], Equals(f__a_1_to_i, g__a_1_to_i), condition = Q__a_1_to_i), Equals(Lambda([b_1_to_i], Conditional(f__b_1_to_i, Q__b_1_to_i)), Lambda([c_1_to_i], Conditional(g__c_1_to_i, Q__c_1_to_i))).with_wrapping_at(2)).with_wrapping_at(2)"
   ]
  },
  {
   "cell_type": "code",
   "execution_count": 3,
   "metadata": {},
   "outputs": [
    {
     "name": "stdout",
     "output_type": "stream",
     "text": [
      "Passed sanity check: expr matches stored_expr\n"
     ]
    }
   ],
   "source": [
    "# check that the built expression is the same as the stored expression\n",
    "assert expr == stored_expr\n",
    "assert expr._style_id == stored_expr._style_id\n",
    "print(\"Passed sanity check: expr matches stored_expr\")"
   ]
  },
  {
   "cell_type": "code",
   "execution_count": 4,
   "metadata": {},
   "outputs": [
    {
     "name": "stdout",
     "output_type": "stream",
     "text": [
      "\\begin{array}{c} \\left[\\forall_{a_{1}, \\ldots, a_{i}~|~Q(a_{1}, \\ldots, a_{i})}~\\left(f(a_{1}, \\ldots, a_{i}) = g(a_{1}, \\ldots, a_{i})\\right)\\right] \\Rightarrow  \\\\ \\left(\\begin{array}{c} \\left[\\left(b_{1}, \\ldots, b_{i}\\right) \\mapsto \\left\\{f(b_{1}, \\ldots, b_{i}) \\textrm{ if } Q(b_{1}, \\ldots, b_{i})\\right..\\right] =  \\\\ \\left[\\left(c_{1}, \\ldots, c_{i}\\right) \\mapsto \\left\\{g(c_{1}, \\ldots, c_{i}) \\textrm{ if } Q(c_{1}, \\ldots, c_{i})\\right..\\right] \\end{array}\\right) \\end{array}\n"
     ]
    }
   ],
   "source": [
    "# Show the LaTeX representation of the expression for convenience if you need it.\n",
    "print(expr.latex())"
   ]
  },
  {
   "cell_type": "code",
   "execution_count": 5,
   "metadata": {},
   "outputs": [
    {
     "data": {
      "text/html": [
       "<table><tr><th>&nbsp;</th><th>core type</th><th>sub-expressions</th><th>expression</th></tr>\n",
       "<tr><td>0</td><td>Operation</td><td>operator:&nbsp;1<br>operands:&nbsp;2<br></td><td><a class=\"ProveItLink\" href=\"expr.ipynb\"><img src=\"expr.png\" style=\"display:inline;vertical-align:middle;\" /></a></td></tr>\n",
       "<tr><td>1</td><td>Literal</td><td></td><td><a class=\"ProveItLink\" href=\"../../../../../logic/booleans/implication/__pv_it/common/02bdb382575728da8cdbaed545b9096ea7a1bd5b0/expr.ipynb\"><img src=\"../../../../../logic/booleans/implication/__pv_it/common/02bdb382575728da8cdbaed545b9096ea7a1bd5b0/expr.png\" style=\"display:inline;vertical-align:middle;\" /></a></td></tr>\n",
       "<tr><td>2</td><td>ExprTuple</td><td>3, 4</td><td><a class=\"ProveItLink\" href=\"../7cc4780376c06304672253536bcd6fe9e9f1bbf20/expr.ipynb\"><img src=\"../7cc4780376c06304672253536bcd6fe9e9f1bbf20/expr.png\" style=\"display:inline;vertical-align:middle;\" /></a></td></tr>\n",
       "<tr><td>3</td><td>Operation</td><td>operator:&nbsp;5<br>operand:&nbsp;6<br></td><td><a class=\"ProveItLink\" href=\"../7cad1024e503f74a4b8d26b5a468729f45b22ded0/expr.ipynb\"><img src=\"../7cad1024e503f74a4b8d26b5a468729f45b22ded0/expr.png\" style=\"display:inline;vertical-align:middle;\" /></a></td></tr>\n",
       "<tr><td>4</td><td>Operation</td><td>operator:&nbsp;15<br>operands:&nbsp;7<br></td><td><a class=\"ProveItLink\" href=\"../97b5447434f9b790b30e98efb68e7b759bf8a63e0/expr.ipynb\"><img src=\"../97b5447434f9b790b30e98efb68e7b759bf8a63e0/expr.png\" style=\"display:inline;vertical-align:middle;\" /></a></td></tr>\n",
       "<tr><td>5</td><td>Literal</td><td></td><td><a class=\"ProveItLink\" href=\"../../../../../logic/booleans/quantification/universality/__pv_it/common/083d2baa0b8ecab1d230f9ec29a15aa1355809fb0/expr.ipynb\"><img src=\"../../../../../logic/booleans/quantification/universality/__pv_it/common/083d2baa0b8ecab1d230f9ec29a15aa1355809fb0/expr.png\" style=\"display:inline;vertical-align:middle;\" /></a></td></tr>\n",
       "<tr><td>6</td><td>Lambda</td><td>parameters:&nbsp;28<br>body:&nbsp;8<br></td><td><a class=\"ProveItLink\" href=\"../5e2102a7d2c0e48896626685430207f11abd33f60/expr.ipynb\"><img src=\"../5e2102a7d2c0e48896626685430207f11abd33f60/expr.png\" style=\"display:inline;vertical-align:middle;\" /></a></td></tr>\n",
       "<tr><td>7</td><td>ExprTuple</td><td>9, 10</td><td><a class=\"ProveItLink\" href=\"../af67c28822af95f8dcbb35bae0173c5a15ca66e20/expr.ipynb\"><img src=\"../af67c28822af95f8dcbb35bae0173c5a15ca66e20/expr.png\" style=\"display:inline;vertical-align:middle;\" /></a></td></tr>\n",
       "<tr><td>8</td><td>Conditional</td><td>value:&nbsp;11<br>condition:&nbsp;12<br></td><td><a class=\"ProveItLink\" href=\"../9300cc9d1c29108feb28be8afda8484fafd46e660/expr.ipynb\"><img src=\"../9300cc9d1c29108feb28be8afda8484fafd46e660/expr.png\" style=\"display:inline;vertical-align:middle;\" /></a></td></tr>\n",
       "<tr><td>9</td><td>Lambda</td><td>parameters:&nbsp;23<br>body:&nbsp;13<br></td><td><a class=\"ProveItLink\" href=\"../d4b3286b4dd7fc7fa593d61dc7a882e65e6ee83f0/expr.ipynb\"><img src=\"../d4b3286b4dd7fc7fa593d61dc7a882e65e6ee83f0/expr.png\" style=\"display:inline;vertical-align:middle;\" /></a></td></tr>\n",
       "<tr><td>10</td><td>Lambda</td><td>parameters:&nbsp;25<br>body:&nbsp;14<br></td><td><a class=\"ProveItLink\" href=\"../93b99f4a2b46b52cd8bb5812b98c3be27c2ef4d00/expr.ipynb\"><img src=\"../93b99f4a2b46b52cd8bb5812b98c3be27c2ef4d00/expr.png\" style=\"display:inline;vertical-align:middle;\" /></a></td></tr>\n",
       "<tr><td>11</td><td>Operation</td><td>operator:&nbsp;15<br>operands:&nbsp;16<br></td><td><a class=\"ProveItLink\" href=\"../cf8cf1575ffd251784fd8578a021c0d8945e97930/expr.ipynb\"><img src=\"../cf8cf1575ffd251784fd8578a021c0d8945e97930/expr.png\" style=\"display:inline;vertical-align:middle;\" /></a></td></tr>\n",
       "<tr><td>12</td><td>Operation</td><td>operator:&nbsp;24<br>operands:&nbsp;28<br></td><td><a class=\"ProveItLink\" href=\"../../../../__pv_it/common/ee84f3fbb9486b31d8222ccef5340fe14c0b6a640/expr.ipynb\"><img src=\"../../../../__pv_it/common/ee84f3fbb9486b31d8222ccef5340fe14c0b6a640/expr.png\" style=\"display:inline;vertical-align:middle;\" /></a></td></tr>\n",
       "<tr><td>13</td><td>Conditional</td><td>value:&nbsp;17<br>condition:&nbsp;18<br></td><td><a class=\"ProveItLink\" href=\"../46d26b2e772544a8edc01aadd74c51dfc2d14f9a0/expr.ipynb\"><img src=\"../46d26b2e772544a8edc01aadd74c51dfc2d14f9a0/expr.png\" style=\"display:inline;vertical-align:middle;\" /></a></td></tr>\n",
       "<tr><td>14</td><td>Conditional</td><td>value:&nbsp;19<br>condition:&nbsp;20<br></td><td><a class=\"ProveItLink\" href=\"../02dfba4d9468fec6992af7bdd77ca1a62b3b3cbd0/expr.ipynb\"><img src=\"../02dfba4d9468fec6992af7bdd77ca1a62b3b3cbd0/expr.png\" style=\"display:inline;vertical-align:middle;\" /></a></td></tr>\n",
       "<tr><td>15</td><td>Literal</td><td></td><td><a class=\"ProveItLink\" href=\"../../../../../logic/equality/__pv_it/common/fb96dc12b2aa8801dda64d0132b396c63d1502bb0/expr.ipynb\"><img src=\"../../../../../logic/equality/__pv_it/common/fb96dc12b2aa8801dda64d0132b396c63d1502bb0/expr.png\" style=\"display:inline;vertical-align:middle;\" /></a></td></tr>\n",
       "<tr><td>16</td><td>ExprTuple</td><td>21, 22</td><td><a class=\"ProveItLink\" href=\"../f8be02990f691d17da04dfc025359a5ea687feca0/expr.ipynb\"><img src=\"../f8be02990f691d17da04dfc025359a5ea687feca0/expr.png\" style=\"display:inline;vertical-align:middle;\" /></a></td></tr>\n",
       "<tr><td>17</td><td>Operation</td><td>operator:&nbsp;26<br>operands:&nbsp;23<br></td><td><a class=\"ProveItLink\" href=\"../../../../__pv_it/common/c3ee9cd547868e451e4173a75adab6640b0afc4a0/expr.ipynb\"><img src=\"../../../../__pv_it/common/c3ee9cd547868e451e4173a75adab6640b0afc4a0/expr.png\" style=\"display:inline;vertical-align:middle;\" /></a></td></tr>\n",
       "<tr><td>18</td><td>Operation</td><td>operator:&nbsp;24<br>operands:&nbsp;23<br></td><td><a class=\"ProveItLink\" href=\"../../../../__pv_it/common/136d6a4f226e5be228df7d9885251dce3e14676e0/expr.ipynb\"><img src=\"../../../../__pv_it/common/136d6a4f226e5be228df7d9885251dce3e14676e0/expr.png\" style=\"display:inline;vertical-align:middle;\" /></a></td></tr>\n",
       "<tr><td>19</td><td>Operation</td><td>operator:&nbsp;27<br>operands:&nbsp;25<br></td><td><a class=\"ProveItLink\" href=\"../../../../__pv_it/common/1993d5eac5781e10af0957a00feade51956410720/expr.ipynb\"><img src=\"../../../../__pv_it/common/1993d5eac5781e10af0957a00feade51956410720/expr.png\" style=\"display:inline;vertical-align:middle;\" /></a></td></tr>\n",
       "<tr><td>20</td><td>Operation</td><td>operator:&nbsp;24<br>operands:&nbsp;25<br></td><td><a class=\"ProveItLink\" href=\"../../../../__pv_it/common/902c4679d0ec4cf48cf64d53b8485e7b2e9fa1690/expr.ipynb\"><img src=\"../../../../__pv_it/common/902c4679d0ec4cf48cf64d53b8485e7b2e9fa1690/expr.png\" style=\"display:inline;vertical-align:middle;\" /></a></td></tr>\n",
       "<tr><td>21</td><td>Operation</td><td>operator:&nbsp;26<br>operands:&nbsp;28<br></td><td><a class=\"ProveItLink\" href=\"../../../../__pv_it/common/3ef854842edd78699a9909ca1916a5ed91e45eef0/expr.ipynb\"><img src=\"../../../../__pv_it/common/3ef854842edd78699a9909ca1916a5ed91e45eef0/expr.png\" style=\"display:inline;vertical-align:middle;\" /></a></td></tr>\n",
       "<tr><td>22</td><td>Operation</td><td>operator:&nbsp;27<br>operands:&nbsp;28<br></td><td><a class=\"ProveItLink\" href=\"../../../../__pv_it/common/9708f3bcb6ee1ab5222dbf88f5692e17bfb3e2280/expr.ipynb\"><img src=\"../../../../__pv_it/common/9708f3bcb6ee1ab5222dbf88f5692e17bfb3e2280/expr.png\" style=\"display:inline;vertical-align:middle;\" /></a></td></tr>\n",
       "<tr><td>23</td><td>ExprTuple</td><td>29</td><td><a class=\"ProveItLink\" href=\"../../../../__pv_it/common/bb4dc399e135e2bd7efeb404868068d3a255b02f0/expr.ipynb\"><img src=\"../../../../__pv_it/common/bb4dc399e135e2bd7efeb404868068d3a255b02f0/expr.png\" style=\"display:inline;vertical-align:middle;\" /></a></td></tr>\n",
       "<tr><td>24</td><td>Variable</td><td></td><td><a class=\"ProveItLink\" href=\"../../../../../__pv_it/common/d72bb8b07403efe79afab564c36a28e21330e5f90/expr.ipynb\"><img src=\"../../../../../__pv_it/common/d72bb8b07403efe79afab564c36a28e21330e5f90/expr.png\" style=\"display:inline;vertical-align:middle;\" /></a></td></tr>\n",
       "<tr><td>25</td><td>ExprTuple</td><td>30</td><td><a class=\"ProveItLink\" href=\"../../../../__pv_it/common/4f344a3d0d45bb8028a856f84306431dc22d388c0/expr.ipynb\"><img src=\"../../../../__pv_it/common/4f344a3d0d45bb8028a856f84306431dc22d388c0/expr.png\" style=\"display:inline;vertical-align:middle;\" /></a></td></tr>\n",
       "<tr><td>26</td><td>Variable</td><td></td><td><a class=\"ProveItLink\" href=\"../../../../../__pv_it/common/01b6dbb444a31fc38af4c2379badef6c75b363710/expr.ipynb\"><img src=\"../../../../../__pv_it/common/01b6dbb444a31fc38af4c2379badef6c75b363710/expr.png\" style=\"display:inline;vertical-align:middle;\" /></a></td></tr>\n",
       "<tr><td>27</td><td>Variable</td><td></td><td><a class=\"ProveItLink\" href=\"../../../../../__pv_it/common/96ac097ea7ee432328a5e933062d0ef407701bf40/expr.ipynb\"><img src=\"../../../../../__pv_it/common/96ac097ea7ee432328a5e933062d0ef407701bf40/expr.png\" style=\"display:inline;vertical-align:middle;\" /></a></td></tr>\n",
       "<tr><td>28</td><td>ExprTuple</td><td>31</td><td><a class=\"ProveItLink\" href=\"../../../../__pv_it/common/13f9959a2f59661ace2a9122b3bcf5af7feaba7c0/expr.ipynb\"><img src=\"../../../../__pv_it/common/13f9959a2f59661ace2a9122b3bcf5af7feaba7c0/expr.png\" style=\"display:inline;vertical-align:middle;\" /></a></td></tr>\n",
       "<tr><td>29</td><td>ExprRange</td><td>lambda_map:&nbsp;32<br>start_index:&nbsp;35<br>end_index:&nbsp;36<br></td><td><a class=\"ProveItLink\" href=\"../../../../__pv_it/common/a6b36f310e1cf986ff833fe43f8f03603cba62b80/expr.ipynb\"><img src=\"../../../../__pv_it/common/a6b36f310e1cf986ff833fe43f8f03603cba62b80/expr.png\" style=\"display:inline;vertical-align:middle;\" /></a></td></tr>\n",
       "<tr><td>30</td><td>ExprRange</td><td>lambda_map:&nbsp;33<br>start_index:&nbsp;35<br>end_index:&nbsp;36<br></td><td><a class=\"ProveItLink\" href=\"../../../../__pv_it/common/9bcf644997e508f457acd8d76360a4ecfa872fd30/expr.ipynb\"><img src=\"../../../../__pv_it/common/9bcf644997e508f457acd8d76360a4ecfa872fd30/expr.png\" style=\"display:inline;vertical-align:middle;\" /></a></td></tr>\n",
       "<tr><td>31</td><td>ExprRange</td><td>lambda_map:&nbsp;34<br>start_index:&nbsp;35<br>end_index:&nbsp;36<br></td><td><a class=\"ProveItLink\" href=\"../../../../__pv_it/common/3143372b81f4215c0f48ddd93ca9c77fdfbd3fc20/expr.ipynb\"><img src=\"../../../../__pv_it/common/3143372b81f4215c0f48ddd93ca9c77fdfbd3fc20/expr.png\" style=\"display:inline;vertical-align:middle;\" /></a></td></tr>\n",
       "<tr><td>32</td><td>Lambda</td><td>parameter:&nbsp;43<br>body:&nbsp;37<br></td><td><a class=\"ProveItLink\" href=\"../../../../__pv_it/common/c2df84a66e11f720c679abb1b2e017879a8ed4350/expr.ipynb\"><img src=\"../../../../__pv_it/common/c2df84a66e11f720c679abb1b2e017879a8ed4350/expr.png\" style=\"display:inline;vertical-align:middle;\" /></a></td></tr>\n",
       "<tr><td>33</td><td>Lambda</td><td>parameter:&nbsp;43<br>body:&nbsp;38<br></td><td><a class=\"ProveItLink\" href=\"../../../../__pv_it/common/eba5dead6140ec223e25e265b736e83e185c334c0/expr.ipynb\"><img src=\"../../../../__pv_it/common/eba5dead6140ec223e25e265b736e83e185c334c0/expr.png\" style=\"display:inline;vertical-align:middle;\" /></a></td></tr>\n",
       "<tr><td>34</td><td>Lambda</td><td>parameter:&nbsp;43<br>body:&nbsp;39<br></td><td><a class=\"ProveItLink\" href=\"../../../../__pv_it/common/9f0c64ef8ae0c02b5dcba32e0fb15bd29f85872a0/expr.ipynb\"><img src=\"../../../../__pv_it/common/9f0c64ef8ae0c02b5dcba32e0fb15bd29f85872a0/expr.png\" style=\"display:inline;vertical-align:middle;\" /></a></td></tr>\n",
       "<tr><td>35</td><td>Literal</td><td></td><td><a class=\"ProveItLink\" href=\"../../../../../numbers/numerals/__pv_it/common/2778428c7f555b2bdc06aa0530bc142c6e6335100/expr.ipynb\"><img src=\"../../../../../numbers/numerals/__pv_it/common/2778428c7f555b2bdc06aa0530bc142c6e6335100/expr.png\" style=\"display:inline;vertical-align:middle;\" /></a></td></tr>\n",
       "<tr><td>36</td><td>Variable</td><td></td><td><a class=\"ProveItLink\" href=\"../../../../../__pv_it/common/ae955345c83abf786c3aff8681cd5465beae262d0/expr.ipynb\"><img src=\"../../../../../__pv_it/common/ae955345c83abf786c3aff8681cd5465beae262d0/expr.png\" style=\"display:inline;vertical-align:middle;\" /></a></td></tr>\n",
       "<tr><td>37</td><td>IndexedVar</td><td>variable:&nbsp;40<br>index:&nbsp;43<br></td><td><a class=\"ProveItLink\" href=\"../../../../__pv_it/common/be357322e6b23f6bdf544b2cf09607618adbd09b0/expr.ipynb\"><img src=\"../../../../__pv_it/common/be357322e6b23f6bdf544b2cf09607618adbd09b0/expr.png\" style=\"display:inline;vertical-align:middle;\" /></a></td></tr>\n",
       "<tr><td>38</td><td>IndexedVar</td><td>variable:&nbsp;41<br>index:&nbsp;43<br></td><td><a class=\"ProveItLink\" href=\"../../../../__pv_it/common/ce0e3deabb2d7b0cf29fae3ec1fe2c2fd5d1de600/expr.ipynb\"><img src=\"../../../../__pv_it/common/ce0e3deabb2d7b0cf29fae3ec1fe2c2fd5d1de600/expr.png\" style=\"display:inline;vertical-align:middle;\" /></a></td></tr>\n",
       "<tr><td>39</td><td>IndexedVar</td><td>variable:&nbsp;42<br>index:&nbsp;43<br></td><td><a class=\"ProveItLink\" href=\"../../../../__pv_it/common/ea36c59b79decceeaf696ef762cc9648f9ddbf5c0/expr.ipynb\"><img src=\"../../../../__pv_it/common/ea36c59b79decceeaf696ef762cc9648f9ddbf5c0/expr.png\" style=\"display:inline;vertical-align:middle;\" /></a></td></tr>\n",
       "<tr><td>40</td><td>Variable</td><td></td><td><a class=\"ProveItLink\" href=\"../../../../../__pv_it/common/195236b98c6c564a75b5dbada74b173bc52d5c3e0/expr.ipynb\"><img src=\"../../../../../__pv_it/common/195236b98c6c564a75b5dbada74b173bc52d5c3e0/expr.png\" style=\"display:inline;vertical-align:middle;\" /></a></td></tr>\n",
       "<tr><td>41</td><td>Variable</td><td></td><td><a class=\"ProveItLink\" href=\"../../../../../__pv_it/common/ceef4280a2f1cc604b455b54e735507244cc62cd0/expr.ipynb\"><img src=\"../../../../../__pv_it/common/ceef4280a2f1cc604b455b54e735507244cc62cd0/expr.png\" style=\"display:inline;vertical-align:middle;\" /></a></td></tr>\n",
       "<tr><td>42</td><td>Variable</td><td></td><td><a class=\"ProveItLink\" href=\"../../../../../__pv_it/common/c06c606ec12678c58933ac85412ecadc2ae28be60/expr.ipynb\"><img src=\"../../../../../__pv_it/common/c06c606ec12678c58933ac85412ecadc2ae28be60/expr.png\" style=\"display:inline;vertical-align:middle;\" /></a></td></tr>\n",
       "<tr><td>43</td><td>Variable</td><td></td><td><a class=\"ProveItLink\" href=\"../../../../__pv_it/common/006c465e50948aa2b52285e2de47974f741255cc0/expr.ipynb\"><img src=\"../../../../__pv_it/common/006c465e50948aa2b52285e2de47974f741255cc0/expr.png\" style=\"display:inline;vertical-align:middle;\" /></a></td></tr>\n",
       "</table>\n"
      ],
      "text/plain": [
       "0. [forall_{a_{1}, ..a_{_a}.., a_{i} | Q(a_{1}, ..a_{_a}.., a_{i})} (f(a_{1}, ..a_{_a}.., a_{i}) = g(a_{1}, ..a_{_a}.., a_{i}))] =>  \\\\ ([(b_{1}, ..b_{_a}.., b_{i}) -> {f(b_{1}, ..b_{_a}.., b_{i}) if Q(b_{1}, ..b_{_a}.., b_{i}).] =  \\\\ [(c_{1}, ..c_{_a}.., c_{i}) -> {g(c_{1}, ..c_{_a}.., c_{i}) if Q(c_{1}, ..c_{_a}.., c_{i}).])\n",
       "   core type: Operation\n",
       "   operator: 1\n",
       "   operands: 2\n",
       "1. =>\n",
       "   core type: Literal\n",
       "   sub-expressions: \n",
       "2. (forall_{a_{1}, ..a_{_a}.., a_{i} | Q(a_{1}, ..a_{_a}.., a_{i})} (f(a_{1}, ..a_{_a}.., a_{i}) = g(a_{1}, ..a_{_a}.., a_{i})), [(b_{1}, ..b_{_a}.., b_{i}) -> {f(b_{1}, ..b_{_a}.., b_{i}) if Q(b_{1}, ..b_{_a}.., b_{i}).] =  \\\\ [(c_{1}, ..c_{_a}.., c_{i}) -> {g(c_{1}, ..c_{_a}.., c_{i}) if Q(c_{1}, ..c_{_a}.., c_{i}).])\n",
       "   core type: ExprTuple\n",
       "   sub-expressions: 3, 4\n",
       "3. forall_{a_{1}, ..a_{_a}.., a_{i} | Q(a_{1}, ..a_{_a}.., a_{i})} (f(a_{1}, ..a_{_a}.., a_{i}) = g(a_{1}, ..a_{_a}.., a_{i}))\n",
       "   core type: Operation\n",
       "   operator: 5\n",
       "   operand: 6\n",
       "4. [(b_{1}, ..b_{_a}.., b_{i}) -> {f(b_{1}, ..b_{_a}.., b_{i}) if Q(b_{1}, ..b_{_a}.., b_{i}).] =  \\\\ [(c_{1}, ..c_{_a}.., c_{i}) -> {g(c_{1}, ..c_{_a}.., c_{i}) if Q(c_{1}, ..c_{_a}.., c_{i}).]\n",
       "   core type: Operation\n",
       "   operator: 15\n",
       "   operands: 7\n",
       "5. forall\n",
       "   core type: Literal\n",
       "   sub-expressions: \n",
       "6. (a_{1}, ..a_{_a}.., a_{i}) -> {f(a_{1}, ..a_{_a}.., a_{i}) = g(a_{1}, ..a_{_a}.., a_{i}) if Q(a_{1}, ..a_{_a}.., a_{i}).\n",
       "   core type: Lambda\n",
       "   parameters: 28\\n   body: 8\n",
       "7. ((b_{1}, ..b_{_a}.., b_{i}) -> {f(b_{1}, ..b_{_a}.., b_{i}) if Q(b_{1}, ..b_{_a}.., b_{i})., (c_{1}, ..c_{_a}.., c_{i}) -> {g(c_{1}, ..c_{_a}.., c_{i}) if Q(c_{1}, ..c_{_a}.., c_{i}).)\n",
       "   core type: ExprTuple\n",
       "   sub-expressions: 9, 10\n",
       "8. {f(a_{1}, ..a_{_a}.., a_{i}) = g(a_{1}, ..a_{_a}.., a_{i}) if Q(a_{1}, ..a_{_a}.., a_{i}).\n",
       "   core type: Conditional\n",
       "   value: 11\n",
       "   condition: 12\n",
       "9. (b_{1}, ..b_{_a}.., b_{i}) -> {f(b_{1}, ..b_{_a}.., b_{i}) if Q(b_{1}, ..b_{_a}.., b_{i}).\n",
       "   core type: Lambda\n",
       "   parameters: 23\\n   body: 13\n",
       "10. (c_{1}, ..c_{_a}.., c_{i}) -> {g(c_{1}, ..c_{_a}.., c_{i}) if Q(c_{1}, ..c_{_a}.., c_{i}).\n",
       "    core type: Lambda\n",
       "    parameters: 25\\n    body: 14\n",
       "11. f(a_{1}, ..a_{_a}.., a_{i}) = g(a_{1}, ..a_{_a}.., a_{i})\n",
       "    core type: Operation\n",
       "    operator: 15\n",
       "    operands: 16\n",
       "12. Q(a_{1}, ..a_{_a}.., a_{i})\n",
       "    core type: Operation\n",
       "    operator: 24\n",
       "    operands: 28\n",
       "13. {f(b_{1}, ..b_{_a}.., b_{i}) if Q(b_{1}, ..b_{_a}.., b_{i}).\n",
       "    core type: Conditional\n",
       "    value: 17\n",
       "    condition: 18\n",
       "14. {g(c_{1}, ..c_{_a}.., c_{i}) if Q(c_{1}, ..c_{_a}.., c_{i}).\n",
       "    core type: Conditional\n",
       "    value: 19\n",
       "    condition: 20\n",
       "15. =\n",
       "    core type: Literal\n",
       "    sub-expressions: \n",
       "16. (f(a_{1}, ..a_{_a}.., a_{i}), g(a_{1}, ..a_{_a}.., a_{i}))\n",
       "    core type: ExprTuple\n",
       "    sub-expressions: 21, 22\n",
       "17. f(b_{1}, ..b_{_a}.., b_{i})\n",
       "    core type: Operation\n",
       "    operator: 26\n",
       "    operands: 23\n",
       "18. Q(b_{1}, ..b_{_a}.., b_{i})\n",
       "    core type: Operation\n",
       "    operator: 24\n",
       "    operands: 23\n",
       "19. g(c_{1}, ..c_{_a}.., c_{i})\n",
       "    core type: Operation\n",
       "    operator: 27\n",
       "    operands: 25\n",
       "20. Q(c_{1}, ..c_{_a}.., c_{i})\n",
       "    core type: Operation\n",
       "    operator: 24\n",
       "    operands: 25\n",
       "21. f(a_{1}, ..a_{_a}.., a_{i})\n",
       "    core type: Operation\n",
       "    operator: 26\n",
       "    operands: 28\n",
       "22. g(a_{1}, ..a_{_a}.., a_{i})\n",
       "    core type: Operation\n",
       "    operator: 27\n",
       "    operands: 28\n",
       "23. (b_{1}, ..b_{_a}.., b_{i})\n",
       "    core type: ExprTuple\n",
       "    sub-expressions: 29\n",
       "24. Q\n",
       "    core type: Variable\n",
       "    sub-expressions: \n",
       "25. (c_{1}, ..c_{_a}.., c_{i})\n",
       "    core type: ExprTuple\n",
       "    sub-expressions: 30\n",
       "26. f\n",
       "    core type: Variable\n",
       "    sub-expressions: \n",
       "27. g\n",
       "    core type: Variable\n",
       "    sub-expressions: \n",
       "28. (a_{1}, ..a_{_a}.., a_{i})\n",
       "    core type: ExprTuple\n",
       "    sub-expressions: 31\n",
       "29. b_{1}, ..b_{_a}.., b_{i}\n",
       "    core type: ExprRange\n",
       "    lambda_map: 32\n",
       "    start_index: 35\n",
       "    end_index: 36\n",
       "30. c_{1}, ..c_{_a}.., c_{i}\n",
       "    core type: ExprRange\n",
       "    lambda_map: 33\n",
       "    start_index: 35\n",
       "    end_index: 36\n",
       "31. a_{1}, ..a_{_a}.., a_{i}\n",
       "    core type: ExprRange\n",
       "    lambda_map: 34\n",
       "    start_index: 35\n",
       "    end_index: 36\n",
       "32. _a -> b_{_a}\n",
       "    core type: Lambda\n",
       "    parameter: 43\n",
       "    body: 37\n",
       "33. _a -> c_{_a}\n",
       "    core type: Lambda\n",
       "    parameter: 43\n",
       "    body: 38\n",
       "34. _a -> a_{_a}\n",
       "    core type: Lambda\n",
       "    parameter: 43\n",
       "    body: 39\n",
       "35. 1\n",
       "    core type: Literal\n",
       "    sub-expressions: \n",
       "36. i\n",
       "    core type: Variable\n",
       "    sub-expressions: \n",
       "37. b_{_a}\n",
       "    core type: IndexedVar\n",
       "variable: 40\n",
       "index: 43\n",
       "38. c_{_a}\n",
       "    core type: IndexedVar\n",
       "variable: 41\n",
       "index: 43\n",
       "39. a_{_a}\n",
       "    core type: IndexedVar\n",
       "variable: 42\n",
       "index: 43\n",
       "40. b\n",
       "    core type: Variable\n",
       "    sub-expressions: \n",
       "41. c\n",
       "    core type: Variable\n",
       "    sub-expressions: \n",
       "42. a\n",
       "    core type: Variable\n",
       "    sub-expressions: \n",
       "43. _a\n",
       "    core type: Variable\n",
       "    sub-expressions: "
      ]
     },
     "execution_count": 5,
     "metadata": {},
     "output_type": "execute_result"
    }
   ],
   "source": [
    "# display the expression information\n",
    "expr.expr_info()"
   ]
  },
  {
   "cell_type": "code",
   "execution_count": null,
   "metadata": {},
   "outputs": [],
   "source": []
  }
 ],
 "metadata": {
  "kernelspec": {
   "display_name": "Python 3",
   "language": "python",
   "name": "python3"
  }
 },
 "nbformat": 4,
 "nbformat_minor": 0
}