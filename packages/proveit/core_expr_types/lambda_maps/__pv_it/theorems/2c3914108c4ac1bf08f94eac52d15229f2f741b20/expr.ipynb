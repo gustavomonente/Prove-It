{
 "cells": [
  {
   "cell_type": "markdown",
   "metadata": {},
   "source": [
    "Expression of type <a class=\"ProveItLink\" href=\"../../../../../../../doc/html/api/proveit.Lambda.html\">Lambda</a>\n",
    "=======================\n",
    "# from the theory of <a class=\"ProveItLink\" href=\"../../../_theory_nbs_/theory.ipynb\">proveit.core_expr_types.lambda_maps</a>"
   ]
  },
  {
   "cell_type": "code",
   "execution_count": 1,
   "metadata": {},
   "outputs": [],
   "source": [
    "import proveit\n",
    "# Automation is not needed when building an expression:\n",
    "proveit.defaults.automation = False # This will speed things up.\n",
    "proveit.defaults.inline_pngs = False # Makes files smaller.\n",
    "%load_expr # Load the stored expression as 'stored_expr'\n",
    "# import Expression classes needed to build the expression\n",
    "from proveit import Conditional, Lambda, Q, f, g\n",
    "from proveit.core_expr_types import Q__a_1_to_i, Q__b_1_to_i, Q__c_1_to_i, a_1_to_i, b_1_to_i, c_1_to_i, f__a_1_to_i, f__b_1_to_i, g__a_1_to_i, g__c_1_to_i\n",
    "from proveit.logic import Equals, Forall, Implies"
   ]
  },
  {
   "cell_type": "code",
   "execution_count": 2,
   "metadata": {},
   "outputs": [
    {
     "data": {
      "text/html": [
       "<strong id=\"expr\">expr:</strong> <a class=\"ProveItLink\" href=\"expr.ipynb\"><img src=\"expr.png\" style=\"display:inline;vertical-align:middle;\" /></a><br>"
      ],
      "text/plain": [
       "expr: (f, g, Q) -> ([forall_{a_{1}, ..a_{_a}.., a_{i} | Q(a_{1}, ..a_{_a}.., a_{i})} (f(a_{1}, ..a_{_a}.., a_{i}) = g(a_{1}, ..a_{_a}.., a_{i}))] =>  \\\\ ([(b_{1}, ..b_{_a}.., b_{i}) -> {f(b_{1}, ..b_{_a}.., b_{i}) if Q(b_{1}, ..b_{_a}.., b_{i}).] =  \\\\ [(c_{1}, ..c_{_a}.., c_{i}) -> {g(c_{1}, ..c_{_a}.., c_{i}) if Q(c_{1}, ..c_{_a}.., c_{i}).]))"
      ]
     },
     "execution_count": 2,
     "metadata": {},
     "output_type": "execute_result"
    }
   ],
   "source": [
    "# build up the expression from sub-expressions\n",
    "expr = Lambda([f, g, Q], Implies(Forall([a_1_to_i], Equals(f__a_1_to_i, g__a_1_to_i), condition = Q__a_1_to_i), Equals(Lambda([b_1_to_i], Conditional(f__b_1_to_i, Q__b_1_to_i)), Lambda([c_1_to_i], Conditional(g__c_1_to_i, Q__c_1_to_i))).with_wrapping_at(2)).with_wrapping_at(2))"
   ]
  },
  {
   "cell_type": "code",
   "execution_count": 3,
   "metadata": {},
   "outputs": [
    {
     "name": "stdout",
     "output_type": "stream",
     "text": [
      "Passed sanity check: expr matches stored_expr\n"
     ]
    }
   ],
   "source": [
    "# check that the built expression is the same as the stored expression\n",
    "assert expr == stored_expr\n",
    "assert expr._style_id == stored_expr._style_id\n",
    "print(\"Passed sanity check: expr matches stored_expr\")"
   ]
  },
  {
   "cell_type": "code",
   "execution_count": 4,
   "metadata": {},
   "outputs": [
    {
     "name": "stdout",
     "output_type": "stream",
     "text": [
      "\\left(f, g, Q\\right) \\mapsto \\left(\\begin{array}{c} \\begin{array}{l} \\left[\\forall_{a_{1}, \\ldots, a_{i}~|~Q(a_{1}, \\ldots, a_{i})}~\\left(f(a_{1}, \\ldots, a_{i}) = g(a_{1}, \\ldots, a_{i})\\right)\\right] \\Rightarrow  \\\\ \\left(\\begin{array}{c} \\begin{array}{l} \\left[\\left(b_{1}, \\ldots, b_{i}\\right) \\mapsto \\left\\{f(b_{1}, \\ldots, b_{i}) \\textrm{ if } Q(b_{1}, \\ldots, b_{i})\\right..\\right] =  \\\\ \\left[\\left(c_{1}, \\ldots, c_{i}\\right) \\mapsto \\left\\{g(c_{1}, \\ldots, c_{i}) \\textrm{ if } Q(c_{1}, \\ldots, c_{i})\\right..\\right] \\end{array} \\end{array}\\right) \\end{array} \\end{array}\\right)\n"
     ]
    }
   ],
   "source": [
    "# Show the LaTeX representation of the expression for convenience if you need it.\n",
    "print(expr.latex())"
   ]
  },
  {
   "cell_type": "code",
   "execution_count": 5,
   "metadata": {},
   "outputs": [
    {
     "data": {
      "text/html": [
       "no style options"
      ],
      "text/plain": [
       "no style options"
      ]
     },
     "execution_count": 5,
     "metadata": {},
     "output_type": "execute_result"
    }
   ],
   "source": [
    "expr.style_options()"
   ]
  },
  {
   "cell_type": "code",
   "execution_count": 6,
   "metadata": {},
   "outputs": [
    {
     "data": {
      "text/html": [
       "<table><tr><th>&nbsp;</th><th>core type</th><th>sub-expressions</th><th>expression</th></tr>\n",
       "<tr><td>0</td><td>Lambda</td><td>parameters:&nbsp;1<br>body:&nbsp;2<br></td><td><a class=\"ProveItLink\" href=\"expr.ipynb\"><img src=\"expr.png\" style=\"display:inline;vertical-align:middle;\" /></a></td></tr>\n",
       "<tr><td>1</td><td>ExprTuple</td><td>31, 32, 25</td><td><a class=\"ProveItLink\" href=\"../d50e5b5d68d3e7b8bd116436fc03caaac608a1b20/expr.ipynb\"><img src=\"../d50e5b5d68d3e7b8bd116436fc03caaac608a1b20/expr.png\" style=\"display:inline;vertical-align:middle;\" /></a></td></tr>\n",
       "<tr><td>2</td><td>Operation</td><td>operator:&nbsp;3<br>operands:&nbsp;4<br></td><td><a class=\"ProveItLink\" href=\"../f864c45f00fafef619228b923985cd3b3d9c0be00/expr.ipynb\"><img src=\"../f864c45f00fafef619228b923985cd3b3d9c0be00/expr.png\" style=\"display:inline;vertical-align:middle;\" /></a></td></tr>\n",
       "<tr><td>3</td><td>Literal</td><td></td><td><a class=\"ProveItLink\" href=\"../../../../../logic/booleans/implication/__pv_it/common/95a8cc69d34af52c7732e4a6fefbd5b63e8d31ba0/expr.ipynb\"><img src=\"../../../../../logic/booleans/implication/__pv_it/common/95a8cc69d34af52c7732e4a6fefbd5b63e8d31ba0/expr.png\" style=\"display:inline;vertical-align:middle;\" /></a></td></tr>\n",
       "<tr><td>4</td><td>ExprTuple</td><td>5, 6</td><td><a class=\"ProveItLink\" href=\"../74c33fd3c10449cefb9ec9565861a2af2057c7fa0/expr.ipynb\"><img src=\"../74c33fd3c10449cefb9ec9565861a2af2057c7fa0/expr.png\" style=\"display:inline;vertical-align:middle;\" /></a></td></tr>\n",
       "<tr><td>5</td><td>Operation</td><td>operator:&nbsp;7<br>operand:&nbsp;10<br></td><td><a class=\"ProveItLink\" href=\"../86de7bbe63f594a333ff09de255270786c9a94660/expr.ipynb\"><img src=\"../86de7bbe63f594a333ff09de255270786c9a94660/expr.png\" style=\"display:inline;vertical-align:middle;\" /></a></td></tr>\n",
       "<tr><td>6</td><td>Operation</td><td>operator:&nbsp;22<br>operands:&nbsp;9<br></td><td><a class=\"ProveItLink\" href=\"../1d11bc7eba2f72344952b26838eab0a266184e050/expr.ipynb\"><img src=\"../1d11bc7eba2f72344952b26838eab0a266184e050/expr.png\" style=\"display:inline;vertical-align:middle;\" /></a></td></tr>\n",
       "<tr><td>7</td><td>Literal</td><td></td><td><a class=\"ProveItLink\" href=\"../../../../../logic/booleans/quantification/universality/__pv_it/common/684d35ba98fcbf8ca5011f865e530a51e77730630/expr.ipynb\"><img src=\"../../../../../logic/booleans/quantification/universality/__pv_it/common/684d35ba98fcbf8ca5011f865e530a51e77730630/expr.png\" style=\"display:inline;vertical-align:middle;\" /></a></td></tr>\n",
       "<tr><td>8</td><td>ExprTuple</td><td>10</td><td><a class=\"ProveItLink\" href=\"../cc41d41f91847250cc94842e15cc8b5b3ae287550/expr.ipynb\"><img src=\"../cc41d41f91847250cc94842e15cc8b5b3ae287550/expr.png\" style=\"display:inline;vertical-align:middle;\" /></a></td></tr>\n",
       "<tr><td>9</td><td>ExprTuple</td><td>11, 12</td><td><a class=\"ProveItLink\" href=\"../176ee0c2072d2539568f0827f85bd94b486a0f0d0/expr.ipynb\"><img src=\"../176ee0c2072d2539568f0827f85bd94b486a0f0d0/expr.png\" style=\"display:inline;vertical-align:middle;\" /></a></td></tr>\n",
       "<tr><td>10</td><td>Lambda</td><td>parameters:&nbsp;33<br>body:&nbsp;13<br></td><td><a class=\"ProveItLink\" href=\"../76e9b75eb896f6141758a7604a113f2a8f7d21300/expr.ipynb\"><img src=\"../76e9b75eb896f6141758a7604a113f2a8f7d21300/expr.png\" style=\"display:inline;vertical-align:middle;\" /></a></td></tr>\n",
       "<tr><td>11</td><td>Lambda</td><td>parameters:&nbsp;24<br>body:&nbsp;14<br></td><td><a class=\"ProveItLink\" href=\"../51fe30a2fcc19f09b8f10f935483936a9b9cdb730/expr.ipynb\"><img src=\"../51fe30a2fcc19f09b8f10f935483936a9b9cdb730/expr.png\" style=\"display:inline;vertical-align:middle;\" /></a></td></tr>\n",
       "<tr><td>12</td><td>Lambda</td><td>parameters:&nbsp;26<br>body:&nbsp;15<br></td><td><a class=\"ProveItLink\" href=\"../6fa018624c69d79f8d78f08b9b0c6086d0fdff510/expr.ipynb\"><img src=\"../6fa018624c69d79f8d78f08b9b0c6086d0fdff510/expr.png\" style=\"display:inline;vertical-align:middle;\" /></a></td></tr>\n",
       "<tr><td>13</td><td>Conditional</td><td>value:&nbsp;16<br>condition:&nbsp;17<br></td><td><a class=\"ProveItLink\" href=\"../9e8b7256f71be418d280160a78d97d25f38910f00/expr.ipynb\"><img src=\"../9e8b7256f71be418d280160a78d97d25f38910f00/expr.png\" style=\"display:inline;vertical-align:middle;\" /></a></td></tr>\n",
       "<tr><td>14</td><td>Conditional</td><td>value:&nbsp;18<br>condition:&nbsp;19<br></td><td><a class=\"ProveItLink\" href=\"../3ca48aec3a19393c32cfaffe88525196df7632bd0/expr.ipynb\"><img src=\"../3ca48aec3a19393c32cfaffe88525196df7632bd0/expr.png\" style=\"display:inline;vertical-align:middle;\" /></a></td></tr>\n",
       "<tr><td>15</td><td>Conditional</td><td>value:&nbsp;20<br>condition:&nbsp;21<br></td><td><a class=\"ProveItLink\" href=\"../61a32f747d91058fc997fc042d124ffaf86ab3590/expr.ipynb\"><img src=\"../61a32f747d91058fc997fc042d124ffaf86ab3590/expr.png\" style=\"display:inline;vertical-align:middle;\" /></a></td></tr>\n",
       "<tr><td>16</td><td>Operation</td><td>operator:&nbsp;22<br>operands:&nbsp;23<br></td><td><a class=\"ProveItLink\" href=\"../30c8752ad1fb3d1cd60e5463f96edbfb053e199f0/expr.ipynb\"><img src=\"../30c8752ad1fb3d1cd60e5463f96edbfb053e199f0/expr.png\" style=\"display:inline;vertical-align:middle;\" /></a></td></tr>\n",
       "<tr><td>17</td><td>Operation</td><td>operator:&nbsp;25<br>operands:&nbsp;33<br></td><td><a class=\"ProveItLink\" href=\"../../../../__pv_it/common/68cef7e8747e430d9620c8453b337ac3d02dab970/expr.ipynb\"><img src=\"../../../../__pv_it/common/68cef7e8747e430d9620c8453b337ac3d02dab970/expr.png\" style=\"display:inline;vertical-align:middle;\" /></a></td></tr>\n",
       "<tr><td>18</td><td>Operation</td><td>operator:&nbsp;31<br>operands:&nbsp;24<br></td><td><a class=\"ProveItLink\" href=\"../../../../__pv_it/common/09549606bd9883901f287fc69368b2239bc37a1e0/expr.ipynb\"><img src=\"../../../../__pv_it/common/09549606bd9883901f287fc69368b2239bc37a1e0/expr.png\" style=\"display:inline;vertical-align:middle;\" /></a></td></tr>\n",
       "<tr><td>19</td><td>Operation</td><td>operator:&nbsp;25<br>operands:&nbsp;24<br></td><td><a class=\"ProveItLink\" href=\"../../../../__pv_it/common/41bd8dcf64f4c73770c933dfc4077297fb3030f20/expr.ipynb\"><img src=\"../../../../__pv_it/common/41bd8dcf64f4c73770c933dfc4077297fb3030f20/expr.png\" style=\"display:inline;vertical-align:middle;\" /></a></td></tr>\n",
       "<tr><td>20</td><td>Operation</td><td>operator:&nbsp;32<br>operands:&nbsp;26<br></td><td><a class=\"ProveItLink\" href=\"../../../../__pv_it/common/952264d0bfcf77d84a9bfe19e90a18019c302ad00/expr.ipynb\"><img src=\"../../../../__pv_it/common/952264d0bfcf77d84a9bfe19e90a18019c302ad00/expr.png\" style=\"display:inline;vertical-align:middle;\" /></a></td></tr>\n",
       "<tr><td>21</td><td>Operation</td><td>operator:&nbsp;25<br>operands:&nbsp;26<br></td><td><a class=\"ProveItLink\" href=\"../../../../__pv_it/common/a83b0fca3640c5a95f43e6cd8700e4d2bc341ab40/expr.ipynb\"><img src=\"../../../../__pv_it/common/a83b0fca3640c5a95f43e6cd8700e4d2bc341ab40/expr.png\" style=\"display:inline;vertical-align:middle;\" /></a></td></tr>\n",
       "<tr><td>22</td><td>Literal</td><td></td><td><a class=\"ProveItLink\" href=\"../../../../../logic/equality/__pv_it/common/731dd3955b346c1320ed5c0ba7a618bcda61457d0/expr.ipynb\"><img src=\"../../../../../logic/equality/__pv_it/common/731dd3955b346c1320ed5c0ba7a618bcda61457d0/expr.png\" style=\"display:inline;vertical-align:middle;\" /></a></td></tr>\n",
       "<tr><td>23</td><td>ExprTuple</td><td>27, 28</td><td><a class=\"ProveItLink\" href=\"../37992a742183ecc8230d85d8998472040e93542a0/expr.ipynb\"><img src=\"../37992a742183ecc8230d85d8998472040e93542a0/expr.png\" style=\"display:inline;vertical-align:middle;\" /></a></td></tr>\n",
       "<tr><td>24</td><td>ExprTuple</td><td>29</td><td><a class=\"ProveItLink\" href=\"../../../../__pv_it/common/3d578d96848e574431c70d47c09767829567b7bf0/expr.ipynb\"><img src=\"../../../../__pv_it/common/3d578d96848e574431c70d47c09767829567b7bf0/expr.png\" style=\"display:inline;vertical-align:middle;\" /></a></td></tr>\n",
       "<tr><td>25</td><td>Variable</td><td></td><td><a class=\"ProveItLink\" href=\"../../../../../__pv_it/common/50527aea954422d65ebe44b8de200683294751540/expr.ipynb\"><img src=\"../../../../../__pv_it/common/50527aea954422d65ebe44b8de200683294751540/expr.png\" style=\"display:inline;vertical-align:middle;\" /></a></td></tr>\n",
       "<tr><td>26</td><td>ExprTuple</td><td>30</td><td><a class=\"ProveItLink\" href=\"../../../../__pv_it/common/1f6fb020bbe2c7dd860bd7c46ef175327f33759e0/expr.ipynb\"><img src=\"../../../../__pv_it/common/1f6fb020bbe2c7dd860bd7c46ef175327f33759e0/expr.png\" style=\"display:inline;vertical-align:middle;\" /></a></td></tr>\n",
       "<tr><td>27</td><td>Operation</td><td>operator:&nbsp;31<br>operands:&nbsp;33<br></td><td><a class=\"ProveItLink\" href=\"../../../../__pv_it/common/b242345a98c8606527bbf912332fd02c640bfc230/expr.ipynb\"><img src=\"../../../../__pv_it/common/b242345a98c8606527bbf912332fd02c640bfc230/expr.png\" style=\"display:inline;vertical-align:middle;\" /></a></td></tr>\n",
       "<tr><td>28</td><td>Operation</td><td>operator:&nbsp;32<br>operands:&nbsp;33<br></td><td><a class=\"ProveItLink\" href=\"../../../../__pv_it/common/11829af31a27e4c5887e281381d22dd9c7ec3f330/expr.ipynb\"><img src=\"../../../../__pv_it/common/11829af31a27e4c5887e281381d22dd9c7ec3f330/expr.png\" style=\"display:inline;vertical-align:middle;\" /></a></td></tr>\n",
       "<tr><td>29</td><td>ExprRange</td><td>lambda_map:&nbsp;34<br>start_index:&nbsp;40<br>end_index:&nbsp;41<br></td><td><a class=\"ProveItLink\" href=\"../../../../__pv_it/common/6c07be51382834e0d7493be863ccb1787b92d4b60/expr.ipynb\"><img src=\"../../../../__pv_it/common/6c07be51382834e0d7493be863ccb1787b92d4b60/expr.png\" style=\"display:inline;vertical-align:middle;\" /></a></td></tr>\n",
       "<tr><td>30</td><td>ExprRange</td><td>lambda_map:&nbsp;35<br>start_index:&nbsp;40<br>end_index:&nbsp;41<br></td><td><a class=\"ProveItLink\" href=\"../../../../__pv_it/common/02adee98e2026ca8ea3916b7b44f05e457dc057d0/expr.ipynb\"><img src=\"../../../../__pv_it/common/02adee98e2026ca8ea3916b7b44f05e457dc057d0/expr.png\" style=\"display:inline;vertical-align:middle;\" /></a></td></tr>\n",
       "<tr><td>31</td><td>Variable</td><td></td><td><a class=\"ProveItLink\" href=\"../../../../../__pv_it/common/c03f8781a34c741744d7dee8670bbb5419fe0ac50/expr.ipynb\"><img src=\"../../../../../__pv_it/common/c03f8781a34c741744d7dee8670bbb5419fe0ac50/expr.png\" style=\"display:inline;vertical-align:middle;\" /></a></td></tr>\n",
       "<tr><td>32</td><td>Variable</td><td></td><td><a class=\"ProveItLink\" href=\"../../../../../__pv_it/common/17f4748b91b4dae722cf590e1dfa2fba4b7984ca0/expr.ipynb\"><img src=\"../../../../../__pv_it/common/17f4748b91b4dae722cf590e1dfa2fba4b7984ca0/expr.png\" style=\"display:inline;vertical-align:middle;\" /></a></td></tr>\n",
       "<tr><td>33</td><td>ExprTuple</td><td>36</td><td><a class=\"ProveItLink\" href=\"../../../../__pv_it/common/3278021aa85a27c610b6ccb6e0603f5294ddba510/expr.ipynb\"><img src=\"../../../../__pv_it/common/3278021aa85a27c610b6ccb6e0603f5294ddba510/expr.png\" style=\"display:inline;vertical-align:middle;\" /></a></td></tr>\n",
       "<tr><td>34</td><td>Lambda</td><td>parameter:&nbsp;47<br>body:&nbsp;37<br></td><td><a class=\"ProveItLink\" href=\"../../../../__pv_it/common/ba19487284205e8bd037599d68730451639874da0/expr.ipynb\"><img src=\"../../../../__pv_it/common/ba19487284205e8bd037599d68730451639874da0/expr.png\" style=\"display:inline;vertical-align:middle;\" /></a></td></tr>\n",
       "<tr><td>35</td><td>Lambda</td><td>parameter:&nbsp;47<br>body:&nbsp;38<br></td><td><a class=\"ProveItLink\" href=\"../../../../__pv_it/common/a194210cc943a5475599de362bce34740df0415a0/expr.ipynb\"><img src=\"../../../../__pv_it/common/a194210cc943a5475599de362bce34740df0415a0/expr.png\" style=\"display:inline;vertical-align:middle;\" /></a></td></tr>\n",
       "<tr><td>36</td><td>ExprRange</td><td>lambda_map:&nbsp;39<br>start_index:&nbsp;40<br>end_index:&nbsp;41<br></td><td><a class=\"ProveItLink\" href=\"../../../../__pv_it/common/a8faf3b27fe552f144fda91135c3a6148ee990d00/expr.ipynb\"><img src=\"../../../../__pv_it/common/a8faf3b27fe552f144fda91135c3a6148ee990d00/expr.png\" style=\"display:inline;vertical-align:middle;\" /></a></td></tr>\n",
       "<tr><td>37</td><td>IndexedVar</td><td>variable:&nbsp;42<br>index:&nbsp;47<br></td><td><a class=\"ProveItLink\" href=\"../../../../__pv_it/common/d970eb18e3a42edf466b1db01e5cbdd3ba6971b60/expr.ipynb\"><img src=\"../../../../__pv_it/common/d970eb18e3a42edf466b1db01e5cbdd3ba6971b60/expr.png\" style=\"display:inline;vertical-align:middle;\" /></a></td></tr>\n",
       "<tr><td>38</td><td>IndexedVar</td><td>variable:&nbsp;43<br>index:&nbsp;47<br></td><td><a class=\"ProveItLink\" href=\"../../../../__pv_it/common/9bc0e9f465041db0a300264677d344fd5e47b7ea0/expr.ipynb\"><img src=\"../../../../__pv_it/common/9bc0e9f465041db0a300264677d344fd5e47b7ea0/expr.png\" style=\"display:inline;vertical-align:middle;\" /></a></td></tr>\n",
       "<tr><td>39</td><td>Lambda</td><td>parameter:&nbsp;47<br>body:&nbsp;44<br></td><td><a class=\"ProveItLink\" href=\"../../../../__pv_it/common/99ea59f1b92e70eddeee736182b1abeb9f49c91b0/expr.ipynb\"><img src=\"../../../../__pv_it/common/99ea59f1b92e70eddeee736182b1abeb9f49c91b0/expr.png\" style=\"display:inline;vertical-align:middle;\" /></a></td></tr>\n",
       "<tr><td>40</td><td>Literal</td><td></td><td><a class=\"ProveItLink\" href=\"../../../../../numbers/numerals/__pv_it/common/d278e359da0695d9652dd541d45264f93703e2e40/expr.ipynb\"><img src=\"../../../../../numbers/numerals/__pv_it/common/d278e359da0695d9652dd541d45264f93703e2e40/expr.png\" style=\"display:inline;vertical-align:middle;\" /></a></td></tr>\n",
       "<tr><td>41</td><td>Variable</td><td></td><td><a class=\"ProveItLink\" href=\"../../../../../__pv_it/common/575a6156bb1c87c5beeaf38c302b5905ad57f5780/expr.ipynb\"><img src=\"../../../../../__pv_it/common/575a6156bb1c87c5beeaf38c302b5905ad57f5780/expr.png\" style=\"display:inline;vertical-align:middle;\" /></a></td></tr>\n",
       "<tr><td>42</td><td>Variable</td><td></td><td><a class=\"ProveItLink\" href=\"../../../../../__pv_it/common/4a5db8cc5c67969ec864bd3ea598be37cb6f5e550/expr.ipynb\"><img src=\"../../../../../__pv_it/common/4a5db8cc5c67969ec864bd3ea598be37cb6f5e550/expr.png\" style=\"display:inline;vertical-align:middle;\" /></a></td></tr>\n",
       "<tr><td>43</td><td>Variable</td><td></td><td><a class=\"ProveItLink\" href=\"../../../../../__pv_it/common/9a9d28748f90dec84e90f2ace4610208194e524e0/expr.ipynb\"><img src=\"../../../../../__pv_it/common/9a9d28748f90dec84e90f2ace4610208194e524e0/expr.png\" style=\"display:inline;vertical-align:middle;\" /></a></td></tr>\n",
       "<tr><td>44</td><td>IndexedVar</td><td>variable:&nbsp;45<br>index:&nbsp;47<br></td><td><a class=\"ProveItLink\" href=\"../../../../__pv_it/common/d8d3053e77ba1db68c0cd106952422881db586670/expr.ipynb\"><img src=\"../../../../__pv_it/common/d8d3053e77ba1db68c0cd106952422881db586670/expr.png\" style=\"display:inline;vertical-align:middle;\" /></a></td></tr>\n",
       "<tr><td>45</td><td>Variable</td><td></td><td><a class=\"ProveItLink\" href=\"../../../../../__pv_it/common/66c90e66682f107a881f2d666959f64e2e72ad750/expr.ipynb\"><img src=\"../../../../../__pv_it/common/66c90e66682f107a881f2d666959f64e2e72ad750/expr.png\" style=\"display:inline;vertical-align:middle;\" /></a></td></tr>\n",
       "<tr><td>46</td><td>ExprTuple</td><td>47</td><td><a class=\"ProveItLink\" href=\"../../../../__pv_it/common/ecf50ade416ab41c42c9f4e777b4c862cd9469670/expr.ipynb\"><img src=\"../../../../__pv_it/common/ecf50ade416ab41c42c9f4e777b4c862cd9469670/expr.png\" style=\"display:inline;vertical-align:middle;\" /></a></td></tr>\n",
       "<tr><td>47</td><td>Variable</td><td></td><td><a class=\"ProveItLink\" href=\"../../../../__pv_it/common/9e6d9d5d7eeb0342cf5bca68def0eb165a1a9bb10/expr.ipynb\"><img src=\"../../../../__pv_it/common/9e6d9d5d7eeb0342cf5bca68def0eb165a1a9bb10/expr.png\" style=\"display:inline;vertical-align:middle;\" /></a></td></tr>\n",
       "</table>\n"
      ],
      "text/plain": [
       "0. (f, g, Q) -> ([forall_{a_{1}, ..a_{_a}.., a_{i} | Q(a_{1}, ..a_{_a}.., a_{i})} (f(a_{1}, ..a_{_a}.., a_{i}) = g(a_{1}, ..a_{_a}.., a_{i}))] =>  \\\\ ([(b_{1}, ..b_{_a}.., b_{i}) -> {f(b_{1}, ..b_{_a}.., b_{i}) if Q(b_{1}, ..b_{_a}.., b_{i}).] =  \\\\ [(c_{1}, ..c_{_a}.., c_{i}) -> {g(c_{1}, ..c_{_a}.., c_{i}) if Q(c_{1}, ..c_{_a}.., c_{i}).]))\n",
       "   core type: Lambda\n",
       "   parameters: 1\\n   body: 2\n",
       "1. (f, g, Q)\n",
       "   core type: ExprTuple\n",
       "   sub-expressions: 31, 32, 25\n",
       "2. [forall_{a_{1}, ..a_{_a}.., a_{i} | Q(a_{1}, ..a_{_a}.., a_{i})} (f(a_{1}, ..a_{_a}.., a_{i}) = g(a_{1}, ..a_{_a}.., a_{i}))] =>  \\\\ ([(b_{1}, ..b_{_a}.., b_{i}) -> {f(b_{1}, ..b_{_a}.., b_{i}) if Q(b_{1}, ..b_{_a}.., b_{i}).] =  \\\\ [(c_{1}, ..c_{_a}.., c_{i}) -> {g(c_{1}, ..c_{_a}.., c_{i}) if Q(c_{1}, ..c_{_a}.., c_{i}).])\n",
       "   core type: Operation\n",
       "   operator: 3\n",
       "   operands: 4\n",
       "3. =>\n",
       "   core type: Literal\n",
       "   sub-expressions: \n",
       "4. (forall_{a_{1}, ..a_{_a}.., a_{i} | Q(a_{1}, ..a_{_a}.., a_{i})} (f(a_{1}, ..a_{_a}.., a_{i}) = g(a_{1}, ..a_{_a}.., a_{i})), [(b_{1}, ..b_{_a}.., b_{i}) -> {f(b_{1}, ..b_{_a}.., b_{i}) if Q(b_{1}, ..b_{_a}.., b_{i}).] =  \\\\ [(c_{1}, ..c_{_a}.., c_{i}) -> {g(c_{1}, ..c_{_a}.., c_{i}) if Q(c_{1}, ..c_{_a}.., c_{i}).])\n",
       "   core type: ExprTuple\n",
       "   sub-expressions: 5, 6\n",
       "5. forall_{a_{1}, ..a_{_a}.., a_{i} | Q(a_{1}, ..a_{_a}.., a_{i})} (f(a_{1}, ..a_{_a}.., a_{i}) = g(a_{1}, ..a_{_a}.., a_{i}))\n",
       "   core type: Operation\n",
       "   operator: 7\n",
       "   operand: 10\n",
       "6. [(b_{1}, ..b_{_a}.., b_{i}) -> {f(b_{1}, ..b_{_a}.., b_{i}) if Q(b_{1}, ..b_{_a}.., b_{i}).] =  \\\\ [(c_{1}, ..c_{_a}.., c_{i}) -> {g(c_{1}, ..c_{_a}.., c_{i}) if Q(c_{1}, ..c_{_a}.., c_{i}).]\n",
       "   core type: Operation\n",
       "   operator: 22\n",
       "   operands: 9\n",
       "7. forall\n",
       "   core type: Literal\n",
       "   sub-expressions: \n",
       "8. ((a_{1}, ..a_{_a}.., a_{i}) -> {f(a_{1}, ..a_{_a}.., a_{i}) = g(a_{1}, ..a_{_a}.., a_{i}) if Q(a_{1}, ..a_{_a}.., a_{i}).)\n",
       "   core type: ExprTuple\n",
       "   sub-expressions: 10\n",
       "9. ((b_{1}, ..b_{_a}.., b_{i}) -> {f(b_{1}, ..b_{_a}.., b_{i}) if Q(b_{1}, ..b_{_a}.., b_{i})., (c_{1}, ..c_{_a}.., c_{i}) -> {g(c_{1}, ..c_{_a}.., c_{i}) if Q(c_{1}, ..c_{_a}.., c_{i}).)\n",
       "   core type: ExprTuple\n",
       "   sub-expressions: 11, 12\n",
       "10. (a_{1}, ..a_{_a}.., a_{i}) -> {f(a_{1}, ..a_{_a}.., a_{i}) = g(a_{1}, ..a_{_a}.., a_{i}) if Q(a_{1}, ..a_{_a}.., a_{i}).\n",
       "    core type: Lambda\n",
       "    parameters: 33\\n    body: 13\n",
       "11. (b_{1}, ..b_{_a}.., b_{i}) -> {f(b_{1}, ..b_{_a}.., b_{i}) if Q(b_{1}, ..b_{_a}.., b_{i}).\n",
       "    core type: Lambda\n",
       "    parameters: 24\\n    body: 14\n",
       "12. (c_{1}, ..c_{_a}.., c_{i}) -> {g(c_{1}, ..c_{_a}.., c_{i}) if Q(c_{1}, ..c_{_a}.., c_{i}).\n",
       "    core type: Lambda\n",
       "    parameters: 26\\n    body: 15\n",
       "13. {f(a_{1}, ..a_{_a}.., a_{i}) = g(a_{1}, ..a_{_a}.., a_{i}) if Q(a_{1}, ..a_{_a}.., a_{i}).\n",
       "    core type: Conditional\n",
       "    value: 16\n",
       "    condition: 17\n",
       "14. {f(b_{1}, ..b_{_a}.., b_{i}) if Q(b_{1}, ..b_{_a}.., b_{i}).\n",
       "    core type: Conditional\n",
       "    value: 18\n",
       "    condition: 19\n",
       "15. {g(c_{1}, ..c_{_a}.., c_{i}) if Q(c_{1}, ..c_{_a}.., c_{i}).\n",
       "    core type: Conditional\n",
       "    value: 20\n",
       "    condition: 21\n",
       "16. f(a_{1}, ..a_{_a}.., a_{i}) = g(a_{1}, ..a_{_a}.., a_{i})\n",
       "    core type: Operation\n",
       "    operator: 22\n",
       "    operands: 23\n",
       "17. Q(a_{1}, ..a_{_a}.., a_{i})\n",
       "    core type: Operation\n",
       "    operator: 25\n",
       "    operands: 33\n",
       "18. f(b_{1}, ..b_{_a}.., b_{i})\n",
       "    core type: Operation\n",
       "    operator: 31\n",
       "    operands: 24\n",
       "19. Q(b_{1}, ..b_{_a}.., b_{i})\n",
       "    core type: Operation\n",
       "    operator: 25\n",
       "    operands: 24\n",
       "20. g(c_{1}, ..c_{_a}.., c_{i})\n",
       "    core type: Operation\n",
       "    operator: 32\n",
       "    operands: 26\n",
       "21. Q(c_{1}, ..c_{_a}.., c_{i})\n",
       "    core type: Operation\n",
       "    operator: 25\n",
       "    operands: 26\n",
       "22. =\n",
       "    core type: Literal\n",
       "    sub-expressions: \n",
       "23. (f(a_{1}, ..a_{_a}.., a_{i}), g(a_{1}, ..a_{_a}.., a_{i}))\n",
       "    core type: ExprTuple\n",
       "    sub-expressions: 27, 28\n",
       "24. (b_{1}, ..b_{_a}.., b_{i})\n",
       "    core type: ExprTuple\n",
       "    sub-expressions: 29\n",
       "25. Q\n",
       "    core type: Variable\n",
       "    sub-expressions: \n",
       "26. (c_{1}, ..c_{_a}.., c_{i})\n",
       "    core type: ExprTuple\n",
       "    sub-expressions: 30\n",
       "27. f(a_{1}, ..a_{_a}.., a_{i})\n",
       "    core type: Operation\n",
       "    operator: 31\n",
       "    operands: 33\n",
       "28. g(a_{1}, ..a_{_a}.., a_{i})\n",
       "    core type: Operation\n",
       "    operator: 32\n",
       "    operands: 33\n",
       "29. b_{1}, ..b_{_a}.., b_{i}\n",
       "    core type: ExprRange\n",
       "    lambda_map: 34\n",
       "    start_index: 40\n",
       "    end_index: 41\n",
       "30. c_{1}, ..c_{_a}.., c_{i}\n",
       "    core type: ExprRange\n",
       "    lambda_map: 35\n",
       "    start_index: 40\n",
       "    end_index: 41\n",
       "31. f\n",
       "    core type: Variable\n",
       "    sub-expressions: \n",
       "32. g\n",
       "    core type: Variable\n",
       "    sub-expressions: \n",
       "33. (a_{1}, ..a_{_a}.., a_{i})\n",
       "    core type: ExprTuple\n",
       "    sub-expressions: 36\n",
       "34. _a -> b_{_a}\n",
       "    core type: Lambda\n",
       "    parameter: 47\n",
       "    body: 37\n",
       "35. _a -> c_{_a}\n",
       "    core type: Lambda\n",
       "    parameter: 47\n",
       "    body: 38\n",
       "36. a_{1}, ..a_{_a}.., a_{i}\n",
       "    core type: ExprRange\n",
       "    lambda_map: 39\n",
       "    start_index: 40\n",
       "    end_index: 41\n",
       "37. b_{_a}\n",
       "    core type: IndexedVar\n",
       "variable: 42\n",
       "index: 47\n",
       "38. c_{_a}\n",
       "    core type: IndexedVar\n",
       "variable: 43\n",
       "index: 47\n",
       "39. _a -> a_{_a}\n",
       "    core type: Lambda\n",
       "    parameter: 47\n",
       "    body: 44\n",
       "40. 1\n",
       "    core type: Literal\n",
       "    sub-expressions: \n",
       "41. i\n",
       "    core type: Variable\n",
       "    sub-expressions: \n",
       "42. b\n",
       "    core type: Variable\n",
       "    sub-expressions: \n",
       "43. c\n",
       "    core type: Variable\n",
       "    sub-expressions: \n",
       "44. a_{_a}\n",
       "    core type: IndexedVar\n",
       "variable: 45\n",
       "index: 47\n",
       "45. a\n",
       "    core type: Variable\n",
       "    sub-expressions: \n",
       "46. (_a)\n",
       "    core type: ExprTuple\n",
       "    sub-expressions: 47\n",
       "47. _a\n",
       "    core type: Variable\n",
       "    sub-expressions: "
      ]
     },
     "execution_count": 6,
     "metadata": {},
     "output_type": "execute_result"
    }
   ],
   "source": [
    "# display the expression information\n",
    "expr.expr_info()"
   ]
  },
  {
   "cell_type": "code",
   "execution_count": null,
   "metadata": {},
   "outputs": [],
   "source": []
  }
 ],
 "metadata": {
  "kernelspec": {
   "display_name": "Python 3",
   "language": "python",
   "name": "python3"
  }
 },
 "nbformat": 4,
 "nbformat_minor": 0
}