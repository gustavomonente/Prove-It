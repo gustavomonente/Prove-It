{
 "cells": [
  {
   "cell_type": "markdown",
   "metadata": {},
   "source": [
    "Expression of type <a class=\"ProveItLink\" href=\"../../../../../../../doc/html/api/proveit.ExprTuple.html\">ExprTuple</a>\n",
    "=======================\n",
    "# from the theory of <a class=\"ProveItLink\" href=\"../../../_theory_nbs_/theory.ipynb\">proveit.core_expr_types.lambda_maps</a>"
   ]
  },
  {
   "cell_type": "code",
   "execution_count": 1,
   "metadata": {},
   "outputs": [],
   "source": [
    "import proveit\n",
    "# Automation is not needed when building an expression:\n",
    "proveit.defaults.automation = False # This will speed things up.\n",
    "proveit.defaults.inline_pngs = False # Makes files smaller.\n",
    "%load_expr # Load the stored expression as 'stored_expr'\n",
    "# import Expression classes needed to build the expression\n",
    "from proveit import Conditional, ExprTuple, Lambda\n",
    "from proveit.core_expr_types import Q__a_1_to_i, Q__b_1_to_i, Q__c_1_to_i, a_1_to_i, b_1_to_i, c_1_to_i, f__a_1_to_i, f__b_1_to_i, g__a_1_to_i, g__c_1_to_i\n",
    "from proveit.logic import Equals, Forall"
   ]
  },
  {
   "cell_type": "code",
   "execution_count": 2,
   "metadata": {},
   "outputs": [
    {
     "data": {
      "text/html": [
       "<strong id=\"expr\">expr:</strong> <a class=\"ProveItLink\" href=\"expr.ipynb\"><img src=\"expr.png\" style=\"display:inline;vertical-align:middle;\" /></a><br>"
      ],
      "text/plain": [
       "expr: (forall_{a_{1}, ..a_{_a}.., a_{i} | Q(a_{1}, ..a_{_a}.., a_{i})} (f(a_{1}, ..a_{_a}.., a_{i}) = g(a_{1}, ..a_{_a}.., a_{i})), [(b_{1}, ..b_{_a}.., b_{i}) -> {f(b_{1}, ..b_{_a}.., b_{i}) if Q(b_{1}, ..b_{_a}.., b_{i}).] =  \\\\ [(c_{1}, ..c_{_a}.., c_{i}) -> {g(c_{1}, ..c_{_a}.., c_{i}) if Q(c_{1}, ..c_{_a}.., c_{i}).])"
      ]
     },
     "execution_count": 2,
     "metadata": {},
     "output_type": "execute_result"
    }
   ],
   "source": [
    "# build up the expression from sub-expressions\n",
    "expr = ExprTuple(Forall([a_1_to_i], Equals(f__a_1_to_i, g__a_1_to_i), condition = Q__a_1_to_i), Equals(Lambda([b_1_to_i], Conditional(f__b_1_to_i, Q__b_1_to_i)), Lambda([c_1_to_i], Conditional(g__c_1_to_i, Q__c_1_to_i))).with_wrapping_at(2))"
   ]
  },
  {
   "cell_type": "code",
   "execution_count": 3,
   "metadata": {},
   "outputs": [
    {
     "name": "stdout",
     "output_type": "stream",
     "text": [
      "Passed sanity check: expr matches stored_expr\n"
     ]
    }
   ],
   "source": [
    "# check that the built expression is the same as the stored expression\n",
    "assert expr == stored_expr\n",
    "assert expr._style_id == stored_expr._style_id\n",
    "print(\"Passed sanity check: expr matches stored_expr\")"
   ]
  },
  {
   "cell_type": "code",
   "execution_count": 4,
   "metadata": {},
   "outputs": [
    {
     "name": "stdout",
     "output_type": "stream",
     "text": [
      "\\left(\\forall_{a_{1}, \\ldots, a_{i}~|~Q(a_{1}, \\ldots, a_{i})}~\\left(f(a_{1}, \\ldots, a_{i}) = g(a_{1}, \\ldots, a_{i})\\right), \\begin{array}{c} \\begin{array}{l} \\left[\\left(b_{1}, \\ldots, b_{i}\\right) \\mapsto \\left\\{f(b_{1}, \\ldots, b_{i}) \\textrm{ if } Q(b_{1}, \\ldots, b_{i})\\right..\\right] =  \\\\ \\left[\\left(c_{1}, \\ldots, c_{i}\\right) \\mapsto \\left\\{g(c_{1}, \\ldots, c_{i}) \\textrm{ if } Q(c_{1}, \\ldots, c_{i})\\right..\\right] \\end{array} \\end{array}\\right)\n"
     ]
    }
   ],
   "source": [
    "# Show the LaTeX representation of the expression for convenience if you need it.\n",
    "print(expr.latex())"
   ]
  },
  {
   "cell_type": "code",
   "execution_count": 5,
   "metadata": {},
   "outputs": [
    {
     "data": {
      "text/html": [
       "<table>\n",
       "<tr><th>name</th><th>description</th><th>default</th><th>current value</th><th>related methods</th></tr><tr><td>wrap_positions</td><td>position(s) at which wrapping is to occur; 'n' is after the nth comma.</td><td>()</td><td>()</td><td>('with_wrapping_at',)</td></tr>\n",
       "<tr><td>justification</td><td>if any wrap positions are set, justify to the 'left', 'center', or 'right'</td><td>left</td><td>left</td><td>('with_justification',)</td></tr>\n",
       "</table>\n"
      ],
      "text/plain": [
       "style name: wrap_positions\n",
       "description: position(s) at which wrapping is to occur; 'n' is after the nth comma.\n",
       "default: ()\n",
       "current value: ()\n",
       "related methods: ('with_wrapping_at',)\n",
       "style name: justification\n",
       "description: if any wrap positions are set, justify to the 'left', 'center', or 'right'\n",
       "default: left\n",
       "current value: left\n",
       "related methods: ('with_justification',)"
      ]
     },
     "execution_count": 5,
     "metadata": {},
     "output_type": "execute_result"
    }
   ],
   "source": [
    "expr.style_options()"
   ]
  },
  {
   "cell_type": "code",
   "execution_count": 6,
   "metadata": {},
   "outputs": [
    {
     "data": {
      "text/html": [
       "<table><tr><th>&nbsp;</th><th>core type</th><th>sub-expressions</th><th>expression</th></tr>\n",
       "<tr><td>0</td><td>ExprTuple</td><td>1, 2</td><td><a class=\"ProveItLink\" href=\"expr.ipynb\"><img src=\"expr.png\" style=\"display:inline;vertical-align:middle;\" /></a></td></tr>\n",
       "<tr><td>1</td><td>Operation</td><td>operator:&nbsp;3<br>operand:&nbsp;6<br></td><td><a class=\"ProveItLink\" href=\"../86de7bbe63f594a333ff09de255270786c9a94660/expr.ipynb\"><img src=\"../86de7bbe63f594a333ff09de255270786c9a94660/expr.png\" style=\"display:inline;vertical-align:middle;\" /></a></td></tr>\n",
       "<tr><td>2</td><td>Operation</td><td>operator:&nbsp;18<br>operands:&nbsp;5<br></td><td><a class=\"ProveItLink\" href=\"../1d11bc7eba2f72344952b26838eab0a266184e050/expr.ipynb\"><img src=\"../1d11bc7eba2f72344952b26838eab0a266184e050/expr.png\" style=\"display:inline;vertical-align:middle;\" /></a></td></tr>\n",
       "<tr><td>3</td><td>Literal</td><td></td><td><a class=\"ProveItLink\" href=\"../../../../../logic/booleans/quantification/universality/__pv_it/common/684d35ba98fcbf8ca5011f865e530a51e77730630/expr.ipynb\"><img src=\"../../../../../logic/booleans/quantification/universality/__pv_it/common/684d35ba98fcbf8ca5011f865e530a51e77730630/expr.png\" style=\"display:inline;vertical-align:middle;\" /></a></td></tr>\n",
       "<tr><td>4</td><td>ExprTuple</td><td>6</td><td><a class=\"ProveItLink\" href=\"../cc41d41f91847250cc94842e15cc8b5b3ae287550/expr.ipynb\"><img src=\"../cc41d41f91847250cc94842e15cc8b5b3ae287550/expr.png\" style=\"display:inline;vertical-align:middle;\" /></a></td></tr>\n",
       "<tr><td>5</td><td>ExprTuple</td><td>7, 8</td><td><a class=\"ProveItLink\" href=\"../176ee0c2072d2539568f0827f85bd94b486a0f0d0/expr.ipynb\"><img src=\"../176ee0c2072d2539568f0827f85bd94b486a0f0d0/expr.png\" style=\"display:inline;vertical-align:middle;\" /></a></td></tr>\n",
       "<tr><td>6</td><td>Lambda</td><td>parameters:&nbsp;29<br>body:&nbsp;9<br></td><td><a class=\"ProveItLink\" href=\"../76e9b75eb896f6141758a7604a113f2a8f7d21300/expr.ipynb\"><img src=\"../76e9b75eb896f6141758a7604a113f2a8f7d21300/expr.png\" style=\"display:inline;vertical-align:middle;\" /></a></td></tr>\n",
       "<tr><td>7</td><td>Lambda</td><td>parameters:&nbsp;20<br>body:&nbsp;10<br></td><td><a class=\"ProveItLink\" href=\"../51fe30a2fcc19f09b8f10f935483936a9b9cdb730/expr.ipynb\"><img src=\"../51fe30a2fcc19f09b8f10f935483936a9b9cdb730/expr.png\" style=\"display:inline;vertical-align:middle;\" /></a></td></tr>\n",
       "<tr><td>8</td><td>Lambda</td><td>parameters:&nbsp;22<br>body:&nbsp;11<br></td><td><a class=\"ProveItLink\" href=\"../6fa018624c69d79f8d78f08b9b0c6086d0fdff510/expr.ipynb\"><img src=\"../6fa018624c69d79f8d78f08b9b0c6086d0fdff510/expr.png\" style=\"display:inline;vertical-align:middle;\" /></a></td></tr>\n",
       "<tr><td>9</td><td>Conditional</td><td>value:&nbsp;12<br>condition:&nbsp;13<br></td><td><a class=\"ProveItLink\" href=\"../9e8b7256f71be418d280160a78d97d25f38910f00/expr.ipynb\"><img src=\"../9e8b7256f71be418d280160a78d97d25f38910f00/expr.png\" style=\"display:inline;vertical-align:middle;\" /></a></td></tr>\n",
       "<tr><td>10</td><td>Conditional</td><td>value:&nbsp;14<br>condition:&nbsp;15<br></td><td><a class=\"ProveItLink\" href=\"../3ca48aec3a19393c32cfaffe88525196df7632bd0/expr.ipynb\"><img src=\"../3ca48aec3a19393c32cfaffe88525196df7632bd0/expr.png\" style=\"display:inline;vertical-align:middle;\" /></a></td></tr>\n",
       "<tr><td>11</td><td>Conditional</td><td>value:&nbsp;16<br>condition:&nbsp;17<br></td><td><a class=\"ProveItLink\" href=\"../61a32f747d91058fc997fc042d124ffaf86ab3590/expr.ipynb\"><img src=\"../61a32f747d91058fc997fc042d124ffaf86ab3590/expr.png\" style=\"display:inline;vertical-align:middle;\" /></a></td></tr>\n",
       "<tr><td>12</td><td>Operation</td><td>operator:&nbsp;18<br>operands:&nbsp;19<br></td><td><a class=\"ProveItLink\" href=\"../30c8752ad1fb3d1cd60e5463f96edbfb053e199f0/expr.ipynb\"><img src=\"../30c8752ad1fb3d1cd60e5463f96edbfb053e199f0/expr.png\" style=\"display:inline;vertical-align:middle;\" /></a></td></tr>\n",
       "<tr><td>13</td><td>Operation</td><td>operator:&nbsp;21<br>operands:&nbsp;29<br></td><td><a class=\"ProveItLink\" href=\"../../../../__pv_it/common/68cef7e8747e430d9620c8453b337ac3d02dab970/expr.ipynb\"><img src=\"../../../../__pv_it/common/68cef7e8747e430d9620c8453b337ac3d02dab970/expr.png\" style=\"display:inline;vertical-align:middle;\" /></a></td></tr>\n",
       "<tr><td>14</td><td>Operation</td><td>operator:&nbsp;27<br>operands:&nbsp;20<br></td><td><a class=\"ProveItLink\" href=\"../../../../__pv_it/common/09549606bd9883901f287fc69368b2239bc37a1e0/expr.ipynb\"><img src=\"../../../../__pv_it/common/09549606bd9883901f287fc69368b2239bc37a1e0/expr.png\" style=\"display:inline;vertical-align:middle;\" /></a></td></tr>\n",
       "<tr><td>15</td><td>Operation</td><td>operator:&nbsp;21<br>operands:&nbsp;20<br></td><td><a class=\"ProveItLink\" href=\"../../../../__pv_it/common/41bd8dcf64f4c73770c933dfc4077297fb3030f20/expr.ipynb\"><img src=\"../../../../__pv_it/common/41bd8dcf64f4c73770c933dfc4077297fb3030f20/expr.png\" style=\"display:inline;vertical-align:middle;\" /></a></td></tr>\n",
       "<tr><td>16</td><td>Operation</td><td>operator:&nbsp;28<br>operands:&nbsp;22<br></td><td><a class=\"ProveItLink\" href=\"../../../../__pv_it/common/952264d0bfcf77d84a9bfe19e90a18019c302ad00/expr.ipynb\"><img src=\"../../../../__pv_it/common/952264d0bfcf77d84a9bfe19e90a18019c302ad00/expr.png\" style=\"display:inline;vertical-align:middle;\" /></a></td></tr>\n",
       "<tr><td>17</td><td>Operation</td><td>operator:&nbsp;21<br>operands:&nbsp;22<br></td><td><a class=\"ProveItLink\" href=\"../../../../__pv_it/common/a83b0fca3640c5a95f43e6cd8700e4d2bc341ab40/expr.ipynb\"><img src=\"../../../../__pv_it/common/a83b0fca3640c5a95f43e6cd8700e4d2bc341ab40/expr.png\" style=\"display:inline;vertical-align:middle;\" /></a></td></tr>\n",
       "<tr><td>18</td><td>Literal</td><td></td><td><a class=\"ProveItLink\" href=\"../../../../../logic/equality/__pv_it/common/731dd3955b346c1320ed5c0ba7a618bcda61457d0/expr.ipynb\"><img src=\"../../../../../logic/equality/__pv_it/common/731dd3955b346c1320ed5c0ba7a618bcda61457d0/expr.png\" style=\"display:inline;vertical-align:middle;\" /></a></td></tr>\n",
       "<tr><td>19</td><td>ExprTuple</td><td>23, 24</td><td><a class=\"ProveItLink\" href=\"../37992a742183ecc8230d85d8998472040e93542a0/expr.ipynb\"><img src=\"../37992a742183ecc8230d85d8998472040e93542a0/expr.png\" style=\"display:inline;vertical-align:middle;\" /></a></td></tr>\n",
       "<tr><td>20</td><td>ExprTuple</td><td>25</td><td><a class=\"ProveItLink\" href=\"../../../../__pv_it/common/3d578d96848e574431c70d47c09767829567b7bf0/expr.ipynb\"><img src=\"../../../../__pv_it/common/3d578d96848e574431c70d47c09767829567b7bf0/expr.png\" style=\"display:inline;vertical-align:middle;\" /></a></td></tr>\n",
       "<tr><td>21</td><td>Variable</td><td></td><td><a class=\"ProveItLink\" href=\"../../../../../__pv_it/common/50527aea954422d65ebe44b8de200683294751540/expr.ipynb\"><img src=\"../../../../../__pv_it/common/50527aea954422d65ebe44b8de200683294751540/expr.png\" style=\"display:inline;vertical-align:middle;\" /></a></td></tr>\n",
       "<tr><td>22</td><td>ExprTuple</td><td>26</td><td><a class=\"ProveItLink\" href=\"../../../../__pv_it/common/1f6fb020bbe2c7dd860bd7c46ef175327f33759e0/expr.ipynb\"><img src=\"../../../../__pv_it/common/1f6fb020bbe2c7dd860bd7c46ef175327f33759e0/expr.png\" style=\"display:inline;vertical-align:middle;\" /></a></td></tr>\n",
       "<tr><td>23</td><td>Operation</td><td>operator:&nbsp;27<br>operands:&nbsp;29<br></td><td><a class=\"ProveItLink\" href=\"../../../../__pv_it/common/b242345a98c8606527bbf912332fd02c640bfc230/expr.ipynb\"><img src=\"../../../../__pv_it/common/b242345a98c8606527bbf912332fd02c640bfc230/expr.png\" style=\"display:inline;vertical-align:middle;\" /></a></td></tr>\n",
       "<tr><td>24</td><td>Operation</td><td>operator:&nbsp;28<br>operands:&nbsp;29<br></td><td><a class=\"ProveItLink\" href=\"../../../../__pv_it/common/11829af31a27e4c5887e281381d22dd9c7ec3f330/expr.ipynb\"><img src=\"../../../../__pv_it/common/11829af31a27e4c5887e281381d22dd9c7ec3f330/expr.png\" style=\"display:inline;vertical-align:middle;\" /></a></td></tr>\n",
       "<tr><td>25</td><td>ExprRange</td><td>lambda_map:&nbsp;30<br>start_index:&nbsp;36<br>end_index:&nbsp;37<br></td><td><a class=\"ProveItLink\" href=\"../../../../__pv_it/common/6c07be51382834e0d7493be863ccb1787b92d4b60/expr.ipynb\"><img src=\"../../../../__pv_it/common/6c07be51382834e0d7493be863ccb1787b92d4b60/expr.png\" style=\"display:inline;vertical-align:middle;\" /></a></td></tr>\n",
       "<tr><td>26</td><td>ExprRange</td><td>lambda_map:&nbsp;31<br>start_index:&nbsp;36<br>end_index:&nbsp;37<br></td><td><a class=\"ProveItLink\" href=\"../../../../__pv_it/common/02adee98e2026ca8ea3916b7b44f05e457dc057d0/expr.ipynb\"><img src=\"../../../../__pv_it/common/02adee98e2026ca8ea3916b7b44f05e457dc057d0/expr.png\" style=\"display:inline;vertical-align:middle;\" /></a></td></tr>\n",
       "<tr><td>27</td><td>Variable</td><td></td><td><a class=\"ProveItLink\" href=\"../../../../../__pv_it/common/c03f8781a34c741744d7dee8670bbb5419fe0ac50/expr.ipynb\"><img src=\"../../../../../__pv_it/common/c03f8781a34c741744d7dee8670bbb5419fe0ac50/expr.png\" style=\"display:inline;vertical-align:middle;\" /></a></td></tr>\n",
       "<tr><td>28</td><td>Variable</td><td></td><td><a class=\"ProveItLink\" href=\"../../../../../__pv_it/common/17f4748b91b4dae722cf590e1dfa2fba4b7984ca0/expr.ipynb\"><img src=\"../../../../../__pv_it/common/17f4748b91b4dae722cf590e1dfa2fba4b7984ca0/expr.png\" style=\"display:inline;vertical-align:middle;\" /></a></td></tr>\n",
       "<tr><td>29</td><td>ExprTuple</td><td>32</td><td><a class=\"ProveItLink\" href=\"../../../../__pv_it/common/3278021aa85a27c610b6ccb6e0603f5294ddba510/expr.ipynb\"><img src=\"../../../../__pv_it/common/3278021aa85a27c610b6ccb6e0603f5294ddba510/expr.png\" style=\"display:inline;vertical-align:middle;\" /></a></td></tr>\n",
       "<tr><td>30</td><td>Lambda</td><td>parameter:&nbsp;43<br>body:&nbsp;33<br></td><td><a class=\"ProveItLink\" href=\"../../../../__pv_it/common/ba19487284205e8bd037599d68730451639874da0/expr.ipynb\"><img src=\"../../../../__pv_it/common/ba19487284205e8bd037599d68730451639874da0/expr.png\" style=\"display:inline;vertical-align:middle;\" /></a></td></tr>\n",
       "<tr><td>31</td><td>Lambda</td><td>parameter:&nbsp;43<br>body:&nbsp;34<br></td><td><a class=\"ProveItLink\" href=\"../../../../__pv_it/common/a194210cc943a5475599de362bce34740df0415a0/expr.ipynb\"><img src=\"../../../../__pv_it/common/a194210cc943a5475599de362bce34740df0415a0/expr.png\" style=\"display:inline;vertical-align:middle;\" /></a></td></tr>\n",
       "<tr><td>32</td><td>ExprRange</td><td>lambda_map:&nbsp;35<br>start_index:&nbsp;36<br>end_index:&nbsp;37<br></td><td><a class=\"ProveItLink\" href=\"../../../../__pv_it/common/a8faf3b27fe552f144fda91135c3a6148ee990d00/expr.ipynb\"><img src=\"../../../../__pv_it/common/a8faf3b27fe552f144fda91135c3a6148ee990d00/expr.png\" style=\"display:inline;vertical-align:middle;\" /></a></td></tr>\n",
       "<tr><td>33</td><td>IndexedVar</td><td>variable:&nbsp;38<br>index:&nbsp;43<br></td><td><a class=\"ProveItLink\" href=\"../../../../__pv_it/common/d970eb18e3a42edf466b1db01e5cbdd3ba6971b60/expr.ipynb\"><img src=\"../../../../__pv_it/common/d970eb18e3a42edf466b1db01e5cbdd3ba6971b60/expr.png\" style=\"display:inline;vertical-align:middle;\" /></a></td></tr>\n",
       "<tr><td>34</td><td>IndexedVar</td><td>variable:&nbsp;39<br>index:&nbsp;43<br></td><td><a class=\"ProveItLink\" href=\"../../../../__pv_it/common/9bc0e9f465041db0a300264677d344fd5e47b7ea0/expr.ipynb\"><img src=\"../../../../__pv_it/common/9bc0e9f465041db0a300264677d344fd5e47b7ea0/expr.png\" style=\"display:inline;vertical-align:middle;\" /></a></td></tr>\n",
       "<tr><td>35</td><td>Lambda</td><td>parameter:&nbsp;43<br>body:&nbsp;40<br></td><td><a class=\"ProveItLink\" href=\"../../../../__pv_it/common/99ea59f1b92e70eddeee736182b1abeb9f49c91b0/expr.ipynb\"><img src=\"../../../../__pv_it/common/99ea59f1b92e70eddeee736182b1abeb9f49c91b0/expr.png\" style=\"display:inline;vertical-align:middle;\" /></a></td></tr>\n",
       "<tr><td>36</td><td>Literal</td><td></td><td><a class=\"ProveItLink\" href=\"../../../../../numbers/numerals/__pv_it/common/d278e359da0695d9652dd541d45264f93703e2e40/expr.ipynb\"><img src=\"../../../../../numbers/numerals/__pv_it/common/d278e359da0695d9652dd541d45264f93703e2e40/expr.png\" style=\"display:inline;vertical-align:middle;\" /></a></td></tr>\n",
       "<tr><td>37</td><td>Variable</td><td></td><td><a class=\"ProveItLink\" href=\"../../../../../__pv_it/common/575a6156bb1c87c5beeaf38c302b5905ad57f5780/expr.ipynb\"><img src=\"../../../../../__pv_it/common/575a6156bb1c87c5beeaf38c302b5905ad57f5780/expr.png\" style=\"display:inline;vertical-align:middle;\" /></a></td></tr>\n",
       "<tr><td>38</td><td>Variable</td><td></td><td><a class=\"ProveItLink\" href=\"../../../../../__pv_it/common/4a5db8cc5c67969ec864bd3ea598be37cb6f5e550/expr.ipynb\"><img src=\"../../../../../__pv_it/common/4a5db8cc5c67969ec864bd3ea598be37cb6f5e550/expr.png\" style=\"display:inline;vertical-align:middle;\" /></a></td></tr>\n",
       "<tr><td>39</td><td>Variable</td><td></td><td><a class=\"ProveItLink\" href=\"../../../../../__pv_it/common/9a9d28748f90dec84e90f2ace4610208194e524e0/expr.ipynb\"><img src=\"../../../../../__pv_it/common/9a9d28748f90dec84e90f2ace4610208194e524e0/expr.png\" style=\"display:inline;vertical-align:middle;\" /></a></td></tr>\n",
       "<tr><td>40</td><td>IndexedVar</td><td>variable:&nbsp;41<br>index:&nbsp;43<br></td><td><a class=\"ProveItLink\" href=\"../../../../__pv_it/common/d8d3053e77ba1db68c0cd106952422881db586670/expr.ipynb\"><img src=\"../../../../__pv_it/common/d8d3053e77ba1db68c0cd106952422881db586670/expr.png\" style=\"display:inline;vertical-align:middle;\" /></a></td></tr>\n",
       "<tr><td>41</td><td>Variable</td><td></td><td><a class=\"ProveItLink\" href=\"../../../../../__pv_it/common/66c90e66682f107a881f2d666959f64e2e72ad750/expr.ipynb\"><img src=\"../../../../../__pv_it/common/66c90e66682f107a881f2d666959f64e2e72ad750/expr.png\" style=\"display:inline;vertical-align:middle;\" /></a></td></tr>\n",
       "<tr><td>42</td><td>ExprTuple</td><td>43</td><td><a class=\"ProveItLink\" href=\"../../../../__pv_it/common/ecf50ade416ab41c42c9f4e777b4c862cd9469670/expr.ipynb\"><img src=\"../../../../__pv_it/common/ecf50ade416ab41c42c9f4e777b4c862cd9469670/expr.png\" style=\"display:inline;vertical-align:middle;\" /></a></td></tr>\n",
       "<tr><td>43</td><td>Variable</td><td></td><td><a class=\"ProveItLink\" href=\"../../../../__pv_it/common/9e6d9d5d7eeb0342cf5bca68def0eb165a1a9bb10/expr.ipynb\"><img src=\"../../../../__pv_it/common/9e6d9d5d7eeb0342cf5bca68def0eb165a1a9bb10/expr.png\" style=\"display:inline;vertical-align:middle;\" /></a></td></tr>\n",
       "</table>\n"
      ],
      "text/plain": [
       "0. (forall_{a_{1}, ..a_{_a}.., a_{i} | Q(a_{1}, ..a_{_a}.., a_{i})} (f(a_{1}, ..a_{_a}.., a_{i}) = g(a_{1}, ..a_{_a}.., a_{i})), [(b_{1}, ..b_{_a}.., b_{i}) -> {f(b_{1}, ..b_{_a}.., b_{i}) if Q(b_{1}, ..b_{_a}.., b_{i}).] =  \\\\ [(c_{1}, ..c_{_a}.., c_{i}) -> {g(c_{1}, ..c_{_a}.., c_{i}) if Q(c_{1}, ..c_{_a}.., c_{i}).])\n",
       "   core type: ExprTuple\n",
       "   sub-expressions: 1, 2\n",
       "1. forall_{a_{1}, ..a_{_a}.., a_{i} | Q(a_{1}, ..a_{_a}.., a_{i})} (f(a_{1}, ..a_{_a}.., a_{i}) = g(a_{1}, ..a_{_a}.., a_{i}))\n",
       "   core type: Operation\n",
       "   operator: 3\n",
       "   operand: 6\n",
       "2. [(b_{1}, ..b_{_a}.., b_{i}) -> {f(b_{1}, ..b_{_a}.., b_{i}) if Q(b_{1}, ..b_{_a}.., b_{i}).] =  \\\\ [(c_{1}, ..c_{_a}.., c_{i}) -> {g(c_{1}, ..c_{_a}.., c_{i}) if Q(c_{1}, ..c_{_a}.., c_{i}).]\n",
       "   core type: Operation\n",
       "   operator: 18\n",
       "   operands: 5\n",
       "3. forall\n",
       "   core type: Literal\n",
       "   sub-expressions: \n",
       "4. ((a_{1}, ..a_{_a}.., a_{i}) -> {f(a_{1}, ..a_{_a}.., a_{i}) = g(a_{1}, ..a_{_a}.., a_{i}) if Q(a_{1}, ..a_{_a}.., a_{i}).)\n",
       "   core type: ExprTuple\n",
       "   sub-expressions: 6\n",
       "5. ((b_{1}, ..b_{_a}.., b_{i}) -> {f(b_{1}, ..b_{_a}.., b_{i}) if Q(b_{1}, ..b_{_a}.., b_{i})., (c_{1}, ..c_{_a}.., c_{i}) -> {g(c_{1}, ..c_{_a}.., c_{i}) if Q(c_{1}, ..c_{_a}.., c_{i}).)\n",
       "   core type: ExprTuple\n",
       "   sub-expressions: 7, 8\n",
       "6. (a_{1}, ..a_{_a}.., a_{i}) -> {f(a_{1}, ..a_{_a}.., a_{i}) = g(a_{1}, ..a_{_a}.., a_{i}) if Q(a_{1}, ..a_{_a}.., a_{i}).\n",
       "   core type: Lambda\n",
       "   parameters: 29\\n   body: 9\n",
       "7. (b_{1}, ..b_{_a}.., b_{i}) -> {f(b_{1}, ..b_{_a}.., b_{i}) if Q(b_{1}, ..b_{_a}.., b_{i}).\n",
       "   core type: Lambda\n",
       "   parameters: 20\\n   body: 10\n",
       "8. (c_{1}, ..c_{_a}.., c_{i}) -> {g(c_{1}, ..c_{_a}.., c_{i}) if Q(c_{1}, ..c_{_a}.., c_{i}).\n",
       "   core type: Lambda\n",
       "   parameters: 22\\n   body: 11\n",
       "9. {f(a_{1}, ..a_{_a}.., a_{i}) = g(a_{1}, ..a_{_a}.., a_{i}) if Q(a_{1}, ..a_{_a}.., a_{i}).\n",
       "   core type: Conditional\n",
       "   value: 12\n",
       "   condition: 13\n",
       "10. {f(b_{1}, ..b_{_a}.., b_{i}) if Q(b_{1}, ..b_{_a}.., b_{i}).\n",
       "    core type: Conditional\n",
       "    value: 14\n",
       "    condition: 15\n",
       "11. {g(c_{1}, ..c_{_a}.., c_{i}) if Q(c_{1}, ..c_{_a}.., c_{i}).\n",
       "    core type: Conditional\n",
       "    value: 16\n",
       "    condition: 17\n",
       "12. f(a_{1}, ..a_{_a}.., a_{i}) = g(a_{1}, ..a_{_a}.., a_{i})\n",
       "    core type: Operation\n",
       "    operator: 18\n",
       "    operands: 19\n",
       "13. Q(a_{1}, ..a_{_a}.., a_{i})\n",
       "    core type: Operation\n",
       "    operator: 21\n",
       "    operands: 29\n",
       "14. f(b_{1}, ..b_{_a}.., b_{i})\n",
       "    core type: Operation\n",
       "    operator: 27\n",
       "    operands: 20\n",
       "15. Q(b_{1}, ..b_{_a}.., b_{i})\n",
       "    core type: Operation\n",
       "    operator: 21\n",
       "    operands: 20\n",
       "16. g(c_{1}, ..c_{_a}.., c_{i})\n",
       "    core type: Operation\n",
       "    operator: 28\n",
       "    operands: 22\n",
       "17. Q(c_{1}, ..c_{_a}.., c_{i})\n",
       "    core type: Operation\n",
       "    operator: 21\n",
       "    operands: 22\n",
       "18. =\n",
       "    core type: Literal\n",
       "    sub-expressions: \n",
       "19. (f(a_{1}, ..a_{_a}.., a_{i}), g(a_{1}, ..a_{_a}.., a_{i}))\n",
       "    core type: ExprTuple\n",
       "    sub-expressions: 23, 24\n",
       "20. (b_{1}, ..b_{_a}.., b_{i})\n",
       "    core type: ExprTuple\n",
       "    sub-expressions: 25\n",
       "21. Q\n",
       "    core type: Variable\n",
       "    sub-expressions: \n",
       "22. (c_{1}, ..c_{_a}.., c_{i})\n",
       "    core type: ExprTuple\n",
       "    sub-expressions: 26\n",
       "23. f(a_{1}, ..a_{_a}.., a_{i})\n",
       "    core type: Operation\n",
       "    operator: 27\n",
       "    operands: 29\n",
       "24. g(a_{1}, ..a_{_a}.., a_{i})\n",
       "    core type: Operation\n",
       "    operator: 28\n",
       "    operands: 29\n",
       "25. b_{1}, ..b_{_a}.., b_{i}\n",
       "    core type: ExprRange\n",
       "    lambda_map: 30\n",
       "    start_index: 36\n",
       "    end_index: 37\n",
       "26. c_{1}, ..c_{_a}.., c_{i}\n",
       "    core type: ExprRange\n",
       "    lambda_map: 31\n",
       "    start_index: 36\n",
       "    end_index: 37\n",
       "27. f\n",
       "    core type: Variable\n",
       "    sub-expressions: \n",
       "28. g\n",
       "    core type: Variable\n",
       "    sub-expressions: \n",
       "29. (a_{1}, ..a_{_a}.., a_{i})\n",
       "    core type: ExprTuple\n",
       "    sub-expressions: 32\n",
       "30. _a -> b_{_a}\n",
       "    core type: Lambda\n",
       "    parameter: 43\n",
       "    body: 33\n",
       "31. _a -> c_{_a}\n",
       "    core type: Lambda\n",
       "    parameter: 43\n",
       "    body: 34\n",
       "32. a_{1}, ..a_{_a}.., a_{i}\n",
       "    core type: ExprRange\n",
       "    lambda_map: 35\n",
       "    start_index: 36\n",
       "    end_index: 37\n",
       "33. b_{_a}\n",
       "    core type: IndexedVar\n",
       "variable: 38\n",
       "index: 43\n",
       "34. c_{_a}\n",
       "    core type: IndexedVar\n",
       "variable: 39\n",
       "index: 43\n",
       "35. _a -> a_{_a}\n",
       "    core type: Lambda\n",
       "    parameter: 43\n",
       "    body: 40\n",
       "36. 1\n",
       "    core type: Literal\n",
       "    sub-expressions: \n",
       "37. i\n",
       "    core type: Variable\n",
       "    sub-expressions: \n",
       "38. b\n",
       "    core type: Variable\n",
       "    sub-expressions: \n",
       "39. c\n",
       "    core type: Variable\n",
       "    sub-expressions: \n",
       "40. a_{_a}\n",
       "    core type: IndexedVar\n",
       "variable: 41\n",
       "index: 43\n",
       "41. a\n",
       "    core type: Variable\n",
       "    sub-expressions: \n",
       "42. (_a)\n",
       "    core type: ExprTuple\n",
       "    sub-expressions: 43\n",
       "43. _a\n",
       "    core type: Variable\n",
       "    sub-expressions: "
      ]
     },
     "execution_count": 6,
     "metadata": {},
     "output_type": "execute_result"
    }
   ],
   "source": [
    "# display the expression information\n",
    "expr.expr_info()"
   ]
  },
  {
   "cell_type": "code",
   "execution_count": null,
   "metadata": {},
   "outputs": [],
   "source": []
  }
 ],
 "metadata": {
  "kernelspec": {
   "display_name": "Python 3",
   "language": "python",
   "name": "python3"
  }
 },
 "nbformat": 4,
 "nbformat_minor": 0
}