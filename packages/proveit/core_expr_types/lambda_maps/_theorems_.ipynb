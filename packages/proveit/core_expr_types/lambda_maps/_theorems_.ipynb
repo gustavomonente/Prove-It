{
 "cells": [
  {
   "cell_type": "markdown",
   "metadata": {},
   "source": [
    "Theorems for context <a class=\"ProveItLink\" href=\"_context_.ipynb\">proveit.core_expr_types.lambda_maps</a>\n",
    "========"
   ]
  },
  {
   "cell_type": "code",
   "execution_count": null,
   "metadata": {},
   "outputs": [],
   "source": [
    "import proveit\n",
    "# Automation is not needed when building theorem expressions:\n",
    "proveit.defaults.automation = False # This will speed things up.\n",
    "# the context is in the current directory:\n",
    "context = proveit.Context('.') # adds context root to sys.path if necessary\n",
    "from proveit import Conditional, Lambda\n",
    "from proveit._common_ import i, a, b, c, f, g, Q\n",
    "from proveit.core_expr_types._common_ import (\n",
    "    a_1_to_i, b_1_to_i, c_1_to_i, \n",
    "    f__a_1_to_i, g__a_1_to_i, f__b_1_to_i, g__c_1_to_i,\n",
    "    Q__a_1_to_i, Q__b_1_to_i, Q__c_1_to_i)\n",
    "from proveit.logic import Forall, Implies, Equals\n",
    "from proveit.number import NaturalsPos"
   ]
  },
  {
   "cell_type": "code",
   "execution_count": null,
   "metadata": {},
   "outputs": [],
   "source": [
    "%begin theorems"
   ]
  },
  {
   "cell_type": "code",
   "execution_count": null,
   "metadata": {},
   "outputs": [],
   "source": [
    "multi_lambda_substitution = \\\n",
    "    Forall(i, Forall((f, g, Q), \n",
    "                     Implies(Forall(a_1_to_i, \n",
    "                                    Equals(f__a_1_to_i, \n",
    "                                           g__a_1_to_i), \n",
    "                                    conditions = [Q__a_1_to_i]),\n",
    "                             Equals(Lambda(b_1_to_i, \n",
    "                                           Conditional(f__b_1_to_i, \n",
    "                                                       Q__b_1_to_i)),\n",
    "                                    Lambda(c_1_to_i, \n",
    "                                           Conditional(g__c_1_to_i, \n",
    "                                                       Q__c_1_to_i))) \\\n",
    "                                      .withWrapAfterOperator()).withWrapAfterOperator()),\n",
    "          domain=NaturalsPos)"
   ]
  },
  {
   "cell_type": "code",
   "execution_count": null,
   "metadata": {},
   "outputs": [],
   "source": [
    "%end theorems"
   ]
  }
 ],
 "metadata": {
  "kernelspec": {
   "display_name": "Python 3",
   "language": "python",
   "name": "python3"
  }
 },
 "nbformat": 4,
 "nbformat_minor": 0
}
