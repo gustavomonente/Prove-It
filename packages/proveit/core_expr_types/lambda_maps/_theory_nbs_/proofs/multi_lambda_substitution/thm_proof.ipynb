{
 "cells": [
  {
   "cell_type": "markdown",
   "metadata": {},
   "source": [
    "Proof of <a class=\"ProveItLink\" href=\"../../../../../_theory_nbs_/theory.ipynb\">proveit</a>.<a class=\"ProveItLink\" href=\"../../../../_theory_nbs_/theory.ipynb\">core_expr_types</a>.<a class=\"ProveItLink\" href=\"../../theory.ipynb\">lambda_maps</a>.<a class=\"ProveItLink\" href=\"../../theorems.ipynb#multi_lambda_substitution\">multi_lambda_substitution</a> theorem\n",
    "========"
   ]
  },
  {
   "cell_type": "code",
   "execution_count": 1,
   "metadata": {},
   "outputs": [],
   "source": [
    "import proveit\n",
    "theory = proveit.Theory() # the theorem's theory"
   ]
  },
  {
   "cell_type": "code",
   "execution_count": 2,
   "metadata": {},
   "outputs": [
    {
     "data": {
      "text/html": [
       "Under these <a href=\"presumptions.txt\">presumptions</a>, we begin our proof of<br><strong id=\"multi_lambda_substitution\">multi_lambda_substitution:</strong> <a class=\"ProveItLink\" href=\"../../../__pv_it/theorems/7ec021ba12d4536d8d1611ad7c8d5091c21fde630/expr.ipynb\"><img src=\"data:image/png;base64,iVBORw0KGgoAAAANSUhEUgAAAroAAABMCAMAAAC1d+QGAAAARVBMVEX///+Tk5OwsLAoKCgNDQ3O\n",
       "zs4WFha/v78QEBCIiIhmZma6urrMzMxUVFQiIiJERETc3Nzu7u6qqqp2dnaYmJgyMjIAAABuNdUc\n",
       "AAAAAXRSTlMAQObYZgAAD8FJREFUeNrtXYnWoyDSdf5lRhBQFnn/Rx1FQFA2CTrmm3hOd9K2khu4\n",
       "FlUFddN133NgQsjU/Y4vP4ZlGPlbwCCpDty4WYj8f5PfsP+RY8IfXEo2trWiLgTLwdp+PzB3P+r+\n",
       "11O3w0cLLVau4WbUvWEePzf69dSdRNm5FgebmsBrCWWHdIW6tB9Cbb6Zumd/SFF3N8VCfBlz6bi/\n",
       "hQBOh3OtI4OpHt5NUCykK9TtRE+/i7r8bGPVGW7dkpl+GXXnyZkFmWSHc60flLke3k1QLKRL1O1m\n",
       "/FXUnaQIU3cytmEav4y5Au5jKQc6HM61f/hBLbzboJjXa9QdJPom6o59F6auNbacfRl1ncSe7fg7\n",
       "k320r4V3GxTzGqPuGMYwz19EXRQwupq6gtP1mL4taHMBG2/o3i8xD5Xw7oOiX2PURWPE7LLvoW7I\n",
       "6JoMgxzX4z1Z7cIDwH1q7gmE3rkJcgj6T5z3QAu8wAVgEAA2PgZFv0YdhojXMpOvoe4keZy6GCXm\n",
       "lpYgPumRwNPozCMS+OeGfvmwWaYsT84fdFowLBT7PMtn53Dowce1s+FjUPSrR11InEMGuSvk8C3U\n",
       "hcEGNXUHWBM/R7r5aBk5h8aX/qRddp6rCXOeTOSdo/3KG7gSBUFYM3M7LSxtmDxqtiUm1y+rpuNn\n",
       "oOjXRJjG5kAMQ+X4LdSVQWIS5xW0Sep6PTIpTwxtUx3+7CvB0+1OZt32uz4HFYPIZooHUvWsOy3s\n",
       "w5K7rVcUVfc+A0W/pjIMdA6sQYxHhr2VukyCFHW5aLay5lJ36rdvAdd+RR+60hQnqGtz1vqcYhDV\n",
       "priKL14LxdTdgmFAnoOSp+6E+VTAiLdSF4fbI9Y6dgi3py7Rhlz01qH+JKae4g7DiL1zVHn2ZjBq\n",
       "+OK2MADTutOS5+vi3YVcQY7wOShDwGGAs3eEqSTJd1BXhjOSFv04YW3CKAR4LmFZ5EKHusB8KJD2\n",
       "s4qbP1958micMK0H3jmqnE08b4v8dXzZW+CdpKcwLTa7dcbVfQhKKEzzYo8Y5PlAsZdSl4XDzJ26\n",
       "zMQPlCDtqnU4mc5xLpwj1LXGCM4my1ncfKB9dhydPVVFbbysz40LlQXBW2So+UKtv2/fJd7sLUzU\n",
       "RmeQZ2k2rVMcLYVShCkJRb/GqEuji/vg4DG8lLpQsjR1bXJpzY4iolzTdCbSXrh0T4S6Nh/XL2+G\n",
       "8VLzgfaHY0y8m7BBHs5RDACaMBjc6wgxH0lw/I2+yG1hNIOcny8GDLh2vIug2M+thaJfY9SNu2no\n",
       "ELm/lLpE0gx1hb6gXziu/SmS5JZzYcxhMLO4cnUHfKn5QPvoNPXZlVY+ns8FKM5KlgXOF1FJkZ4J\n",
       "ytx9+BwU8xqjboJGh73l76Qujbi656yCmvBGQWmOW/uFDIAIdTHuqGDdpEJtNF5pPtT+cBqdbaVo\n",
       "cSRmcTjnD4pNpJR0Fg8kRvXJ/PYb5HovT0Cp236jnV30fuoOciykbtdPy2cPYjeL00iPf6k39kI2\n",
       "wAh1aY9AJ9i2yr6Zh5LmY+2L80iqBUAyeqspx0XBCRKJ1QDTko1fgYuozi7lF234OruN8DkolZse\n",
       "tRcp3k9dLnkpdRdfjQHocAutMzdaE7T2L3Vqv9B3p0YvSTDyxfRus5ZqrqT5WPvwnFdXe7kF8FYr\n",
       "4vu7i9ZcEhflV8oHvIBhD0IZp3rqAr/08Z3UHSNRWnoZwszogXuZlwrwFn+Po4WwLnM5Ftolmg+3\n",
       "H7J5Txb4iPcU+BgooqrAx87F5P3U7SW6TF0E5GY/AiVZ/ikMaIK6k5x1LmEsbT7cPvu26qNHjwrq\n",
       "Uj9Oeyd1ZSTB0JECHQZxbbo7zZEj0UZ5EKWzYugchT9+Ru3nMoz4U1q8krpTqxL7Iuc/kev55DsB\n",
       "+qNo46P3Nj6+krqDLCxM4cNvPP/AQQst8OylGF5JXSHLtuLy15ZJCPhzdK/YqrLxxl7i6ZXU5bJo\n",
       "b/5pbQzM2yrjLXHyBe+Bzvyx+L3OqXmqh8RMiiZGUcRd6GXHVuq2kOQw1G0i7wGLtMtYH/Eftuwk\n",
       "HfuPdvSe7i/feS6kF66ZNK7CdTOsqd+6fcDAe/ypqv4QtpEGSMp6qNCnG0smUN+krdRtIclhqNtE\n",
       "3mMsoW5AzUd3k9nvOX8Y4x/uLy8o8rRPrFSIwXUrLLTNqaingxvTcKKmI6yHvhGSkh4qpG5Ym+lE\n",
       "3flA3RaSHIa6TeQ9ZlnQpyOMdJNdiZcfyjQc7y8W5HCpa6VCLK4nYEHf5BoVA9rzlkhKoJRG0qwg\n",
       "MgfemoTydRtIclhft4W8xyzz0wcLpH63bjKJ30F+lp463R8V5ABTnLp7MKFxPQILe8/1bPdrbuqI\n",
       "jZAUQSlOAhVIE4gzdRtIcljqtpD3IAXUJTAyOdlP5h8Wr53vjwlyMBi/0743uO6FNSF0oi7fc0p8\n",
       "HaZWSIp6qJi6LB/oCy9pqgs8Ppbk2DMMDeQ9iAT5bxELCawQxoyBu7Xkuu0/3e8IcvjuEIkN6S4V\n",
       "YnHdCmtSYQKCfQ/tycmxVXB1gFshSUO5St2gMTqyW56oWy7JwbPUPbYFeSzV4EoeeEcvs9kJEnKl\n",
       "VTeZAjAqF99F7aKt08Fw7g8IcvhkZf4HYCeakH4R2s2wTJESxq7RBU4AjJohyUI5UDemYbJbI1pB\n",
       "XU+SA6TYD7PUPch7cAAiSU5X8uAqdZEcYtQ1ZbdaGwPU6mDY+4OCHIcWwUjdiGPfPGSlQgyue2GZ\n",
       "UmOXusTZy6TGvhGSLJSLVpdm59ohQF1PkgN5xhcRuH466HEhdQ/yHjH/0JM8OAau2dAXBiMm1U0m\n",
       "y7KWRuq66jodjP3+/Uvat//3v379tbTPEhrdDUJ7lGYEOm6FFaKus2mFqaxjIyRZKBepG1JzPFGX\n",
       "nro2IMlBGYdrDnuZDPlyg57ZY9T91z//34L12oruAXMlD07UzT1/Pc5SV81Jm0Bg1cg49wcG5lDt\n",
       "M7iLRoNjdXe3V+O6F1bQ6vaOAabtkGShXKUuyAVq/+NR9x//1LP3UZJDjGxSJVlMgJWwfPXBl5ll\n",
       "+cPSVtdtS4xyX80Xi/Ng/sOXPDhRV+T8BdHlHAZ1ySYhVDUy9v6gIIffIvLXX/B4YJLjMNwLK0Rd\n",
       "3O/cAA2RZKGkfN2Q6Znywx6wurskh4ax128xxNAETHxW4DA48h4rd/eHCjvrCJ7kwWVfN/J8emHa\n",
       "OoNvum2VHDH3BwU5/BYPei1O0shKhRhc98IKUXcVh6AArCoRsCWSLJSrVjcyl2Z83V2SQ8PYITC0\n",
       "OAwCXaAuc7x+N0ezlswai+1JHlxOjo3hxQHVTSY/g4V9UqI6GCllDHN/WJDDe7aGaF53lwoxuEpg\n",
       "pQCmYS3/N+5/mwcdrHC5MH0eRdK0h/RlV6g7khrqmiSOhuFs8V+ou/DZEKKEup2bjdndBeJ6vp7k\n",
       "wWXq9mOcunYYIDBpubgOxvnNroNh788Kchx/mJAHpEIsUUtgpeQ5krAQlhLTafnb1fJFFHNA1nwl\n",
       "SiNp2kPbDVeoy2UVdY0kxwYDEbWwsL5fqTsJM0MWUVfsHskesfA1V26J6kkenPz/zGoajexx8BeC\n",
       "uyNrKnUwrgpyuNR1pELOuJ6FtebbdVVjHEl7KFeoKyTKULcPUfcAA3tWtxuQfq5QCXW91jqtU7Aq\n",
       "cCkXTP3Lkzw4TRyZ7TcoYpV55CdxPtPBuCDIYVrYetiXCjnjehbWMrUbJak4kvZQrlAXZWZbkaau\n",
       "hsEtR8XGB5771CB1t8dZ6RR0y/SiRnL7lyd5cJG6LJL31d10WBX8VAejXJBj7+LNuPlSIQdcT8OC\n",
       "UlqjFkNyA5Qr1KWZcQ/sHAvBMAHVQDbLiKuoa55v5rkPzHpm4e36OLNfNzaxeFvNQ/cV8S5qtsrr\n",
       "EbYqiYNUSBTXM7AQ6VkOyQ1QLpUPZsb9vF83QnHt65ba+gDsWWghGDapuns2m3+ZpMMclE+EmQKf\n",
       "WO4akBsLfC4JcrBgbdoduMR7CnwCUEBhgY+h7piZOMYi6l47gtTlRjhOrAsVixGih6d2DH8xkPkK\n",
       "XP4Kxf/k0aedH+w5FK8sq2SZimD4o+4fpW46WTK+vyIYZXQYsPyN8p88SHrcZy88fyV1aUb95kfd\n",
       "/07q+lJ0b9Ucm/6Ow/CTEymnLslYtNdrjnVEDukwLfthRk3kPy7bEZYT+YmJVIRp6BuUHnF66xiQ\n",
       "2V/3MOlEOt5hHS78jqUIdfATqC6IiTzTQQUZ3vTWsYOe1zupC9LLKkIOpdSdb/kJ7As/Txwsu30C\n",
       "1SUxkSc6qIC66WHn/n+/k7oonR1jxdQVN4ncFm9nCFL3SVRlYiJPQMlTl6a3XR207l/641PpFAPK\n",
       "VwzrfiL3GJVyNZEgdZ9EVSQm8giUPHUz228Ov0j2UurO6ebywk5bP03kppEpVhMJUfcZVFfERB7p\n",
       "oDx1WbKc9viLZC+lLk/bVTKXUXevy+dgLXH5aAb0GihVE3GoyyAASrChHarj/bViIu37p0pMJJ05\n",
       "YofNOS+l7pDeQwRlGXVNqcC0VhKOK9/rxDKcBvRol6qJ7HIi667zSU0XrVCdQNWKidzQP1VVauml\n",
       "JnywyW/9ZfZeplMMtIi6pjpYyUhhVi2WYRuwKhWFaiK7nIjW22ANUZ1A1YqJ3NA/VWIi/XiFEm+l\n",
       "LkymblFWY2TrJyOWsTO9Uizj9KgUqYm4ciJqWJCrg/ApqsCaYq2YSPv+qVFkmJJR2nSciN9K3SGd\n",
       "J8mVPfvUdZ7muqE5m4NCNRErJ7IlRQBpiCpgoyrFRG7onxrqpiVEwNFcvZW6Xd9/5Oy6DoObLqwa\n",
       "mr0BK5ZRqiZicv+bMuVWO94GVQBUpZjIHf2TFBOJHOla9rnvvoS6ILnsMOQWJbwwTacr6iWKbANW\n",
       "LKNUTcRkGLQYLGuI6gyqWkykff/UhGkZf4F/C3UzdUo5Mdatn3SGRknyUaWWcJTtKFPNMA3sYhml\n",
       "aiKGukrLE2/jmkdVBO8MqlZM5IykTEOkEEqhmAhIxt5nd/q91E1X8eRyDFs/mYHgXAjgzWNWKyMl\n",
       "lrFfZBsw1XqlaiI2rztgwPX7AlQlYiJnULViIgEkKTGRq1AKxUSS8Qs9W7L3UjezoN3zAuq2lu2w\n",
       "YhnFaiLeappRXPuJiYSaygRp0/dQNzOBsLTZjW2/+Uy2w4plXNh+s0UXqHMEyH5iIqEwLOkC9rD7\n",
       "IupmDGv6q5p+aivbYVQqLmx63PbrKu9n/7msn5jImYj9Vf/wzdRNG9apRwXU/c/KdqhHTMmGY+H+\n",
       "YMhPTOT0ECR/8i+o1f9m6roSyyFmpzw7oybyAtmOkJzIT0zkONTJORTP3ZdR166xRyY+3P2Ov3GI\n",
       "pJEaguRqR111NCYTSjpAHQa/Qf8Tx5D20k/2mmxsa/PhFKhjaP2d0rYcDr9h/wMHxUkLRU9zr9jY\n",
       "1v0b8P5ROD+OiWIAAAAASUVORK5CYII=\n",
       "\" style=\"display:inline;vertical-align:middle;\" /></a><br>(see <a class=\"ProveItLink\" href=\"../../../__pv_it/theorems/21614114f5cc9ac0261b36181f66399904c59f490/dependencies.ipynb\">dependencies</a>)<br>"
      ],
      "text/plain": [
       "multi_lambda_substitution: forall_{i in NaturalPos} [forall_{f, g, Q} ([forall_{a_{1}, ..a_{_a}.., a_{i} | Q(a_{1}, ..a_{_a}.., a_{i})} (f(a_{1}, ..a_{_a}.., a_{i}) = g(a_{1}, ..a_{_a}.., a_{i}))] =>  \\\\ ([(b_{1}, ..b_{_a}.., b_{i}) -> {f(b_{1}, ..b_{_a}.., b_{i}) if Q(b_{1}, ..b_{_a}.., b_{i}).] =  \\\\ [(c_{1}, ..c_{_a}.., c_{i}) -> {g(c_{1}, ..c_{_a}.., c_{i}) if Q(c_{1}, ..c_{_a}.., c_{i}).]))]"
      ]
     },
     "execution_count": 2,
     "metadata": {},
     "output_type": "execute_result"
    }
   ],
   "source": [
    "%proving multi_lambda_substitution"
   ]
  },
  {
   "cell_type": "code",
   "execution_count": null,
   "metadata": {},
   "outputs": [],
   "source": []
  }
 ],
 "metadata": {
  "kernelspec": {
   "display_name": "Python 3",
   "language": "python",
   "name": "python3"
  }
 },
 "nbformat": 4,
 "nbformat_minor": 0
}