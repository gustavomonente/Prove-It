{
 "cells": [
  {
   "cell_type": "markdown",
   "metadata": {},
   "source": [
    "Axioms for the theory of <a class=\"ProveItLink\" href=\"theory.ipynb\">proveit.core_expr_types.lambda_maps</a>\n",
    "========"
   ]
  },
  {
   "cell_type": "code",
   "execution_count": 1,
   "metadata": {},
   "outputs": [],
   "source": [
    "import proveit\n",
    "# Prepare this notebook for defining the axioms of a theory:\n",
    "%axioms_notebook # Keep this at the top following 'import proveit'.\n",
    "from proveit import Lambda, Conditional\n",
    "from proveit import i, a, b, c, f, g, Q\n",
    "from proveit.core_expr_types import (\n",
    "    a_1_to_i, b_1_to_i, c_1_to_i, \n",
    "    f__a_1_to_i, g__a_1_to_i, f__b_1_to_i, g__c_1_to_i)\n",
    "#from proveit.core_expr_types.tuples import f_x\n",
    "from proveit.logic import Implies, Forall, Equals\n",
    "from proveit.numbers import NaturalPos"
   ]
  },
  {
   "cell_type": "code",
   "execution_count": 2,
   "metadata": {},
   "outputs": [
    {
     "name": "stdout",
     "output_type": "stream",
     "text": [
      "Defining axioms for theory 'proveit.core_expr_types.lambda_maps'\n",
      "Subsequent end-of-cell assignments will define axioms\n",
      "%end_axioms will finalize the definitions\n"
     ]
    }
   ],
   "source": [
    "%begin axioms"
   ]
  },
  {
   "cell_type": "markdown",
   "metadata": {},
   "source": [
    "**A `Lambda` map is as a `Lambda` map does.  Thus, `Lambda` maps are defined to be equal if they preform the same transformation under the pertinent conditions.  This is similar to the `proveit.logic.equality.substitution` axiom except that the substitution is performed within a `Lambda` map which requires a special rule due to scoping restriction.**"
   ]
  },
  {
   "cell_type": "code",
   "execution_count": 3,
   "metadata": {},
   "outputs": [
    {
     "data": {
      "text/html": [
       "<strong id=\"lambda_substitution\">lambda_substitution:</strong> <a class=\"ProveItLink\" href=\"../__pv_it/axioms/d199195041b6e72ed5e1a080fd85cc07139494510/axiom_expr.ipynb\"><img src=\"data:image/png;base64,iVBORw0KGgoAAAANSUhEUgAAAlEAAABMCAMAAAB6dRKAAAAANlBMVEX///8oKCgNDQ0QEBCIiIhm\n",
       "Zma6urrMzMxUVFQiIiJERETc3Nzu7u6qqqp2dnaYmJgyMjIAAABRfbn9AAAAAXRSTlMAQObYZgAA\n",
       "DKNJREFUeNrtXYuypCgMdVcQVB7y/z87vlBeQhqwl6ltquba5djpCAcSQg50XYVC1F5omRRMul/5\n",
       "W8rsNfZ4gKCOeKIwWgsvEoKWXzv9RYUK54bcIECrIWpuQsavfK+wfgjc5Q0hahTPg9fyjj2cJfRm\n",
       "hcLnOvpVVOW8ymUcMqTInjWNKDE+/9f6vrdFlNWqmU3GZ4zw7N6sbCbmAv3eUUVfRQ6iuoW2jKhZ\n",
       "ySiixOWjLaxWvS6z6RVwxd2blc3EUqDfO6roax6iBkUaRtTUd1FEzbq/ztU6rsRGFauBDe7N2kWg\n",
       "bP3eUuW85iGqW5Z2EUUiQ9TxvnpoErxWrY5zoCLGF6cHrM/W7y1VzmsYUVNKgUHxZhEVG6KO95WC\n",
       "bWUeq7nlY8CLqyc+2KeHXP1eU+W4hhFFkuZgGVtF1KxEClGdmrYyilp1irBhX/oRY+vmjAVGfYnL\n",
       "FpAgAHaMY4T49DVVjuuD1UvaXamGRhGFo98/3pcS0EgMHxZNO6uQfXPo199ZFLCrBi2CIUGDQ95+\n",
       "h1iMYjScmLb+hb+mynE1EIVHo6gEpJiaGkWUik6DjvcdcM58KeKmcHOMJNZN1m/NibfqIhjnmB9D\n",
       "wipDx3+SkrjaRpLdPfmOKsf10TPnS9xtndyGbwRRXKE0orrt3VG9mJ8Z8r3q4byJ94YdD62GnGa0\n",
       "JNzVlFRqR87+3e+oclyf53ps6YdPWq4RRNH418/3FfJA1QuIusKr5829Ydk5cGU1oyUBjKhjyovG\n",
       "76mSQNRMRbxl1dgkolR8Wn2+77x05IzSMowobGXm+UnT6k3Uusn2iYKunJxmNCUMSEs3JFl+FL09\n",
       "3a0eJ/w9VQbX6uHFKql2XZyWbwNRPOEA6vedZnp8YiM5TUNH43Mg48kl4pn3yLrJdkeGLsfCV14z\n",
       "3hJEp5jnmT/VRKfdqC+p4nnmlkuf9lqRY/baQBRWHIQorh3TbaZPts9EJGbV15NrzbpSsVHpg31z\n",
       "WqtJjrQTRndm1/Th+hT5cEuY2eWQY5Fs/XnzARhUFf/Dp6oc1zCiGGDBiziTqjYQNSoGQtQ1x+9X\n",
       "BJ7j9xj/qvGk1wHv/j4o5yajCJGZosF8cLx+a6TPH86HTAmT7sZpQz1QJE6nDqSKr8CHqhzXMKIo\n",
       "xK9wUuyaQBRLuFH3+0p29+RJMpZE1P0kR9508l7lEFPgpg89Doky+g8xxchpgmGBMvw9Vc5rGFGg\n",
       "Nl1sl78JRA1qAiLqGnnm9RcHeY9R88TCf64n+eD5amdEmNNuke5Nq5J0M4LC9SIQ0zlvpleKiWmC\n",
       "v6FK2Urx4bLI5hAllPgQUatt4AgbiCKbdSNbaNj8w80nA0P4EX8fJyts6gblZzwqutc7g6QOBB5i\n",
       "5ww8HZ0Vm/mf8PdUKctmOV1z2hyipoRjHn1fbfVCIrg16es8KUdGmzxT7ayboQIKrkYeSi8gDXRV\n",
       "hn9RlWkuRtRgR6SaQFSvEh4gGp9cWoLU0QKhlFv7HkW+6/HVrGDZTlawVuW8orysYO2aqeYQpVR5\n",
       "VqbM7ci/Ulrs5msBUXMtitev/CeltzJaWkDUoD5IbSww+P/3wug7chdrstcCoqSCZ6gI8UNGftd9\n",
       "h2FLral6C4gSCpxGhugPFyXO5iuQwlb4oAVEYfB2CTxiHi+W6BvzI577di8qk0PbnN4Y4u0RYUNU\n",
       "DW6lRlSOrAmKKBbL/dIO1h7DYVNflkjlCviMvGmzSV9T5nOfMlqD+YhaHETV4FZqROXIWhSQlzZh\n",
       "gMt+JvQspVw3W8Bnycgum/QlZTJmKbyvjyhkhTg3RNXgVmpE5chaFGws5tGw1Vm9ei1MlbL6HAGf\n",
       "kDc9NulLyuTMe8f6dk96iKrBrbz8qAxZIxBRIwaEFc71+qE0aOoKeCRvojkAfa3xu8rkIIrX3wBH\n",
       "WtGf/eUrcCsvRGXIGhWCKQ7IRde/K0rz0T0BT+RNjh+/+7YyWbG5sTr1nVsR6jMLtZhbec/1PpfV\n",
       "K5ATP8bt6FG9mo22UGQuuWZ4Lq4AI+PTVsRtbZ9N+pYyWYiSin0BUXBupUgiypWFhayCKKIGAKLO\n",
       "3HGmVuu7Z9tlciYNAScujFiOjSHu/YDDJn1NGQNRT3zSkDBUGVFDAFEWtxLFFMJJRDk8TYFQarhS\n",
       "IMcVg/I8T37LyaNEuZzJW8BFmTTIm45ENNm93mWTvqZM5qZPS31EMc+JNLmVxBqqyIg3xVFPo4hi\n",
       "dwKqzdME7B1BJ0g6c08hiNKsyaXTrKIshpsp4Ooz18d//7EJSMoePj026VvK5CEK1fbN58kceeej\n",
       "GwW4lYwLvOU+roO6WNGCWXyMMnK2LVkAqw0ao0jKNFqI2gf+YyuavEY0BPiIclLbByd27bJJX1Mm\n",
       "D1GzqhzHJ/YYdbyiwa3UDtzE550ZwCXacCQ2d3Adtdd/PGr1LFlyUthI4V5NIA0hSlboWZbV2yUe\n",
       "5Oy8RrwEXJTJ4cnqETeW67BJ31PmyY+iZaN9IaLOnndxK0+l7zR/TjiZkXbJ036UIWuHlAEKGg57\n",
       "gzzzKRXstTzzzQwd+0fkNqIWcFEmHz1zj3XrsEnfUyYzs2eqvC9VyDM3uJWn0nf1cbJaPUk+QBQ3\n",
       "/E+MjdF2IzrxzHhUP4EQdc7xqbzAqxsRwtq8aZRawE2ZNMibVgfwKDYem/Q1ZTIRJdQ3EKVnvKfS\n",
       "DJuIWmGmozEQRHUGQgwmuBwf3CoIolhy7U+YDEmGkQ5aXMNChDTpcSYNAZoy+ZTp7p0T4bNJ31Im\n",
       "E1FSkW8gSuqm3pUm4x6n3D5viJqlHulBiJI3bPpbeUE3wlPI8QSswpAk6uxVGNNvvt4VENrzntGU\n",
       "SQY2FTE2aV1lMhFFKkekBn8VJqA0tcaobiCnEgSCKEvaMb9kO9GyoyGncALkHvDkfNBZKXbnHh2M\n",
       "NOk9oymTwJXiBJu0rjKZiGKq7kKMjCPqVFpc0JHHKrpI4T6IqLNP7lzMbh27F5mJqPRIfe/fYk2V\n",
       "L84kiDTpP3NSJqHZLFE2aW1lcnPuVd3Jnp/NElL6cqGH8YhR0ixEXZ2Ue0bQiHAC3jAdlrMy7oK6\n",
       "QLrb4/wIGBWEskmrKJONqLpHOfgZdw9tePpRUNscqPJFamY4n/fDs3iwp2PAG4pkpPRiib6RiCtb\n",
       "ygoupm32dddhsJcVXCfKFahzcW2HIrfA59p/WXj8mQBas+5XKpW+bkCKWl5LC8wFDmBX0R9JtF4Z\n",
       "66YGT82xqwiAAfpDVLuIWqx5eAuIYgCW+s/q1URUXatnb4TSyE4ayS+L3/mgFSFQ1TNn7e2k0Y0q\n",
       "OWlByXjUqwzQXApoYwRQjaiq8SjS4G4/NJ18IJOgS8ajCic0Oe/3ji60dBexujFzZ9uKJhCF0q/I\n",
       "wYh66dzMrPNo3tGlNGTOVFXOnrBbrwlEkXT4IJnC+biuV63iPl9efUuXwt1YK68UO3tetrGfOWCy\n",
       "B8xmee/czCcKKHr+wbd0KSCAHm3Oa2rjbEbfBqKW9LfHBYSoF8/NfOBg8Eeov6dLAQG0+rzZ3Yy+\n",
       "DUSJtGuOFQhRNzVMIISKMstcATcFNM4A9c/wLNYlrEououpGi7mzzt8GooZ09kGSCmvlma/jwzqy\n",
       "T9u4lke6NAT453dGGaD+GZ6lujypkouovuoMlDo2tJHT0HqV/gHQnuf6hLOdJU95NunyEhA6vzPG\n",
       "APXP8CzW5UmVTETNdR1zt+kaQRROpz5/xgC9R7RM0qU/JN6EvRgD9OkMz3xdHlXJRFRdBujsmpdG\n",
       "EDWkQyQpR8pClDGw5yEqYBluREUYoE9neBbo8qhKE+Qq5NqOVk6+7vs06CA7aZjnZha04i0gdH5n\n",
       "hAH6dIZnvi7PqmQiqq7RW/quTUSh9NLeCDknVJMuj0s+MfwSEDq/M8IA9c/wLNblUZXcbQ9qZnHM\n",
       "nnFpBVFd8WzPYoDiTRrbqXSfkC7vT1pA8PzOCAM0cIanr8tnJ3g+qpKHqLrLxL6T1wyi0onkXS/S\n",
       "iNL4EUJK5zx7COnyfugSkDq/02GA+md4BnT56ATPR1WyEMUrhzdp1yqiAMuXoJ1dC0mX3kOfnt/Z\n",
       "dZEzPMtO8HRVyULUUnWtMTBvbAZREPu+AHafLiRdeg99cH7nXg9d7AzPshM8XVWyNnbtq+bC9oFT\n",
       "SptBVMKo7W5gT5KIKiNd+g/Bz++8bPfTGZ6lJ3i6qmQgqvIO+SHXtiFE8fQgxcc0oopIl6UUUOAZ\n",
       "nnVUyUAUrWrzglt6NoSojgJoe88TlVcZoLkU0MYIoLJuTildurYRdS2ExV4Cdb+SWyqfhjYE27we\n",
       "ovZSFusgALcR/05szDZStC5DzRsjxwMElbRFeyls7uFHofqLAOpZFHmAoPsDAaWvfTbWYOYAAAAA\n",
       "SUVORK5CYII=\n",
       "\" style=\"display:inline;vertical-align:middle;\" /></a><br>"
      ],
      "text/plain": [
       "lambda_substitution: forall_{i in NaturalPos} [forall_{f, g} ([forall_{a_{1}, ..a_{_a}.., a_{i}} (f(a_{1}, ..a_{_a}.., a_{i}) = g(a_{1}, ..a_{_a}.., a_{i}))] =>  \\\\ ([(b_{1}, ..b_{_a}.., b_{i}) -> f(b_{1}, ..b_{_a}.., b_{i})] =  \\\\ [(c_{1}, ..c_{_a}.., c_{i}) -> g(c_{1}, ..c_{_a}.., c_{i})]))]"
      ]
     },
     "execution_count": 3,
     "metadata": {},
     "output_type": "execute_result"
    }
   ],
   "source": [
    "lambda_substitution = \\\n",
    "    Forall(i, Forall((f, g), \n",
    "                     Implies(Forall(a_1_to_i, \n",
    "                                    Equals(f__a_1_to_i, \n",
    "                                           g__a_1_to_i)),\n",
    "                             Equals(Lambda(b_1_to_i, f__b_1_to_i),\n",
    "                                    Lambda(c_1_to_i, g__c_1_to_i)) \\\n",
    "                                      .with_wrap_after_operator()).with_wrap_after_operator()),\n",
    "          domain=NaturalPos)"
   ]
  },
  {
   "cell_type": "code",
   "execution_count": 4,
   "metadata": {},
   "outputs": [
    {
     "name": "stdout",
     "output_type": "stream",
     "text": [
      "These axioms may now be imported from the theory package: proveit.core_expr_types.lambda_maps\n"
     ]
    }
   ],
   "source": [
    "%end axioms"
   ]
  },
  {
   "cell_type": "code",
   "execution_count": null,
   "metadata": {},
   "outputs": [],
   "source": []
  }
 ],
 "metadata": {
  "kernelspec": {
   "display_name": "Python 3",
   "language": "python",
   "name": "python3"
  }
 },
 "nbformat": 4,
 "nbformat_minor": 0
}