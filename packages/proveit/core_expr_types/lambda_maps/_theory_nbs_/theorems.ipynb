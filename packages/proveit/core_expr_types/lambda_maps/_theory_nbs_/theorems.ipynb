{
 "cells": [
  {
   "cell_type": "markdown",
   "metadata": {},
   "source": [
    "Theorems (or conjectures) for the theory of <a class=\"ProveItLink\" href=\"theory.ipynb\">proveit.core_expr_types.lambda_maps</a>\n",
    "========"
   ]
  },
  {
   "cell_type": "code",
   "execution_count": 1,
   "metadata": {},
   "outputs": [],
   "source": [
    "import proveit\n",
    "# Prepare this notebook for defining the theorems of a theory:\n",
    "%theorems_notebook # Keep this at the top following 'import proveit'.\n",
    "from proveit import Conditional, Lambda\n",
    "from proveit import i, a, b, c, f, g, Q\n",
    "from proveit.core_expr_types import (\n",
    "    a_1_to_i, b_1_to_i, c_1_to_i, \n",
    "    f__a_1_to_i, g__a_1_to_i, f__b_1_to_i, g__c_1_to_i,\n",
    "    Q__a_1_to_i, Q__b_1_to_i, Q__c_1_to_i)\n",
    "from proveit.logic import Forall, Implies, Equals\n",
    "from proveit.numbers import NaturalPos"
   ]
  },
  {
   "cell_type": "code",
   "execution_count": 2,
   "metadata": {},
   "outputs": [
    {
     "name": "stdout",
     "output_type": "stream",
     "text": [
      "Defining theorems for theory 'proveit.core_expr_types.lambda_maps'\n",
      "Subsequent end-of-cell assignments will define theorems\n",
      "'%end theorems' will finalize the definitions\n"
     ]
    }
   ],
   "source": [
    "%begin theorems"
   ]
  },
  {
   "cell_type": "code",
   "execution_count": 3,
   "metadata": {},
   "outputs": [
    {
     "data": {
      "text/html": [
       "<strong id=\"multi_lambda_substitution\"><a class=\"ProveItLink\" href=\"proofs/multi_lambda_substitution/thm_proof.ipynb\">multi_lambda_substitution</a> (conjecture without proof):<br></strong> <a class=\"ProveItLink\" href=\"../__pv_it/theorems/aee1181e507f20abc3b8dae3ee5786663b49d5930/theorem_expr.ipynb\"><img src=\"data:image/png;base64,iVBORw0KGgoAAAANSUhEUgAAAtYAAABMCAMAAAB+rAD4AAAARVBMVEX///+Tk5OwsLAoKCgNDQ3O\n",
       "zs4WFha/v78QEBCIiIhmZma6urrMzMxUVFQiIiJERETc3Nzu7u6qqqp2dnaYmJgyMjIAAABuNdUc\n",
       "AAAAAXRSTlMAQObYZgAAD7lJREFUeNrtXYkWo6oS9O2CoLLI/3/qcwEERWgBc83ccM5MMo6QCpRN\n",
       "09CVpvnCQvu+H5tf+e7SzaMo3guPqLXQys1icvlf/Y8Tf0YZaeXq/cbFOrTGaC687jdGU/Oj9Y/W\n",
       "iWn7aO3lwkRaidYPOATRRr+d1qOEXatS+FgDXk0kO6JSWrO2C33Oe2kd9boWWu/GXMovYzUb9rcY\n",
       "4fFwrfpKZMyG9xASi6iU1o1s2TfRWkQN8vKfwjo9E/syWk+jM4tyxQ/Xqj9FUza8h5BYRMW0bib6\n",
       "RbQelUzRejQ2ZRy+jNUS7+OsOtYdrtUvAmXCewyJeS2ndafI99B6aJsUra2RFvzLaO3EJu0APBqv\n",
       "ZG0mvMeQmNcrWg9wDNP0NbQmcWO90VoKtpTx29aPLmDjaz38JaYuD95zSPTrFa0JfAbuFP8WWieM\n",
       "tY6EqGEpb47oBwvC+3Tf9hh710YsMGqLFguBJkTar+AYIT7UhRJBol8vnZAbntDUfwmtRyUgtKbk\n",
       "5nyVC6ekbwLPrDMTKeRf69r5wyZ112J51stpwlBU2olaTE5xqCOGpdtxVSgxJPrVozXunaLAvJaq\n",
       "+w5a41SDG607nLHMvxqCo0UVAhvfvaRdfp7+e+48v8S7xtqFU3ghEcE4yxtwmpgbMYHiVFNcLV92\n",
       "nc6rQYki0a+RJSOfgGsmpobvoLVKUbXfX1CdoLXXM+Pq+ZFt+qRlXw6fqjs7CLb/9TW8sqvfTHjX\n",
       "55kEp4l9hBK12pW+a9VqUKJI9GssEsKmFrYkGI78eyetuUIwWgtZbcPRpfXYbt8HL31OCl13RiO0\n",
       "ttF5fW1lF9MmPI/WXhNQWm9LdNRXhRJFkqb1SMWYyZd30pom2zPxg6khtD6tez0ByNY68CVr//Ha\n",
       "CRmod42tawozKFlccpvokGl+b8rzrenuni4gB1wTShxJF3BC8OQVOKlU/w20Vskwq/kaw0i16WMY\n",
       "0QnEwPCdDq2R+Xik7EcVNH/ykpwlY4u8a2x1bum0HZrIpPXehGgUOy4Zr+xdY1zralDiSEJLRm+t\n",
       "c2fJNB0I+Epa8/QiuLdRKf2O9US7hg2Nh6ScO6cwra0Rw5OJ4pY0z48jt0fbmF3D62vDTHPZ022V\n",
       "arjEzFID8sZpYmR2pYhFioLjMkmyBJTAx0WgRJHo1ytas1sHItDBC3klrbHiUFrbANkS/SX96gon\n",
       "Iq32zrnvwrS20cV2ftMNpc13x3X6bvo6dbjGKEJkpKjz7ut73VRvfZbzG3OP28RgRjs50XQUCe3o\n",
       "x6CckUSgRJHo1yta33P9yCHG8Epa94qBaS31re38JGj/rY/Xdu68cEKMZ7C61h0tbZ6cplO7Oy2G\n",
       "87UQ/TnAdAXuYYoRPYWAlhc4DQWCJHDTCYl5vaL1TUId8gbeSGuWdq1P4Y91Eh0kY0ne7XdyhMK0\n",
       "prRhkjfjGhIgQ2nz3Wnkth202TmZ5OGaPzj7Og/QbYF7+KSvJo86EdcjikEBhYVEGkm9o07auSZv\n",
       "p3Wnhtu0btpxRtHJ3ZyOAwv/Ze/kHQ7TmrUENZJvpxY2s3JqPtT0RfPyPMrrxmg/eDtJx83SEfeK\n",
       "boPPAAfwQvcwHSJL7liJZX4ccBoKBEnopiOSigdTtd8q305rocR9Ws++IUfY4R1ZvAGyBKDdv7h7\n",
       "p+e/DV4wYxCzyd5mwrW5U/Oh9i+ax+c9hfWcvkTeTk3k7D5kwyl2T/J4QUdnMBwABbT1JdNIhrEu\n",
       "rZGfSPtGWg/pFWN0D8Z4CaFWuBezcHfMjyNJqE59OqZoWieEA5sPmcqPJn3J1yR9GSSyWtKXneH7\n",
       "t9O6VaSA1gSpze6EMvj8axSxa1qPatIxjyHYfKj9YPP82zLSPloq0Zr5a8Y30lqlAyFNn9YJkTen\n",
       "x9OFXtvyTkLbD93I8I+7lzZ2HkX6BGleSOuxjsjD7UVHJF5V8u0Q+9H3A6X1Dqe+kNadupOhJLrf\n",
       "kP6hhd0x5JMXCnkhraW6cRpAfEFmjMQ/7zrPwN0gAvXCZy+ktVDwTAx0/UCjaduefWRRf8MtYZP4\n",
       "WLAhz1v6VA/Jqb85tUo4r7EX4VtoXS4jo2ldR48Gw7X8eJv0TrYQLBvaomPZp/rw1AKpvPWjiVWv\n",
       "uB6GNbbbMHQUeZaCrak/0jZSAQmsh257jAN4MvaN4ULrchkZTes6ejQDmNYsljyhu9Ac2p0KAxKH\n",
       "+vBMM0/Gx2rdGFyPwiLbxExa1rkLKtGv0xjVPKiEBNJDt2nN2g5M6+lA63IZGU3rOno0Ezg3c8DJ\n",
       "taQ93qAKtUSO9cGCMi6trdaNxfUJWNg31UZWg7WiJhIIlPvrew4NHyBvP2b1rYtlZIxvXUWPZlLA\n",
       "mYdH49tbF5rgdqfK4myn+peCMmi8pvW+ktG4PgKLek//ZA/WbrKilZCAoGSEraBqGfJM62IZGUPr\n",
       "Kno0PZTWfdSqr11okYjCjMdz/StBGY6va9r3BtezsEZCTrQWeyBMLKNWCwmohzJozYHRCOmFhXWy\n",
       "T6GMjI2E1NCj6RUCfpExSWur5DJR5J7luT+FnOo7gjK+y9VfDfeudWNxPQprXFcpBLctthdHx6jh\n",
       "xeGuhSQOJZ/WCePlEFmdaA2XkRFxWh8bwuIqJOLqcPilVbAwSh934NcuNFmDTM3+0XoUOk/Ixal/\n",
       "FpQ5EJn7H0CdpYzyMxcfhmWy1yh1jTVy1uakGpIklAOtr0R4QtaL5dLak5FBsU/BcVof9GgEQhdB\n",
       "W1eHI4/WRHVpWpscby3ugnKFXGz9oKDMoUU0MHfNs5/bslo3BtezsExeu0vr3jlGthKhEpIklGxr\n",
       "zWCTdxegtScjQzyjTXq8gEEthdD6oEdz5X96OhynFTVsTY4Ta+S1C018aMm11Qn+eUIue/39O9u3\n",
       "//6XLwSg7BNHBvdA1r5iNAozj8IK0do5EcTXQGolJEko2bQOCaKGac1OPR2QkWFc4CVkP8+pYq6g\n",
       "HYYwrf/33/8Y4F5DV/OHp8NxpjXo8WzpDVqv89ymrJk1ak79wKAd0sA6dzOtc6z17mZrXM/CClrr\n",
       "1jHcrB6SJJR8WiPQovGfHq3/8V/tFBxlZOTAxzV1j0u0kFksS4B5gpr/8Ii1dhuSg3JOQ8jZI9H/\n",
       "4+twnGkNcUJSSsG+E7LevGlnZY2arR8SlDkYBOLvRdHhwDLHCXkWVojWtN3ZgioiSUKJ+dZxAzUC\n",
       "+RCw1ruMjEa1p/lxwsmIzFox5YQ4ejQLr51nju7bJ54OR6ZvnXyGvSXj4hVsQoeZ/DH1g4IyfosH\n",
       "MSIn8GW1bgyuZ2GFaL0omDCEFikTXBNJEkq+tU7Oy9e+9S4jo1HtiDiZnRBJoLTmzooDO8GmNSHb\n",
       "2E5XhyMzwJcSwN660MSYqLQP1aWQS0zaxdQPC8p4j2F3GbfetW4MLgisGMA4rPn/hv1vYw7QAldI\n",
       "MwaXSKr2kL4tj9ZDn01rE3vSqJyUjpnWM9cNP5K0btwIkuOC9I6r7elwZNK6HSC0tkOEkQk1Xgu5\n",
       "nN/sQi62flJQ5vgbqSKgdWNJDIEV05eJwiJUKcrG+W9XUJswKlC/xGBJHEnVHtoq5NFaqHxaGxmZ\n",
       "DRXp132V5f1C61GaiTZNa7m7OO5qadkYMCz2dDjOiw/ILiNLHhzxN8+bI6MyhVxuCsp4tHa0bs64\n",
       "Pgtr2V/QabLXSOpDyaO1BOS2HpJPTuetNSrqWeumI/oRJElae02tE8ASxl106FaJguUfng7Hec6B\n",
       "HHUiSZMuLn4/q0zIBS4oY1vYutvXujnj+iys2V0wEmrXSOpDyaM1gUzfMk5rjUpY/sqNHiL+wSFa\n",
       "68d+Vc9o5jlqGdbtH54ORxateTK4rbvwsHVaKuQCFpRx+nszir7WzQHXp2FhpawJvELyAJQ8WjMI\n",
       "IQIn+EKozPKu6zejSu/T2toB7vok3Hp+F2kZFHLeOj0xeWkEoRZAnLw0dzd+X207/+lr3Vzi+gws\n",
       "0rc8heQBKJmJpxBCnM9bX9Bf+9awaeL8HSZpVI34uKpB8En/w8RGprD2KIYkfaVj9Kh/MOnrlqAM\n",
       "D+YyPoFLvifpKwAF3U76MrQGEAKfsmPKS4jWwgo3ymWXZrZWzH+6h4sviSDfQqifTsHfprQA14p6\n",
       "nsoLU3Q5JPMc/2j9N6I1ILwzvD3znEB0Qqj6jfbfpvQAQkxeDOGFtGYQVacfrX+09i26F0N4pwZf\n",
       "urVvckJ+8jeltE47Iez1GnxNr9ILZpGOhLxa/uavRvUwlCriN3eWjOT9iqkUcIQPFcetCzHmyd9Y\n",
       "rn8C1Q31m4/0T7ZcIuAI30Hh7o20RoBdJZm06Af5m8olU/7GLnA+geqW+s0H+ieb1gA+CP+eN9Ka\n",
       "ACJ8HEhr+ZS6dJb8ze5tfxAVTP3mA0hyac0AZ98Ov2Dxyh+wA4RCkskxlyf4apmjHPkbu3r4JCqQ\n",
       "+s0nkOTSGnLU6fCbh6+k9QRoDnYwdeybp0qO/I1xej+D6o76zSf6J5fW6WNtp988fCWtBWDN2E8Q\n",
       "WjviEAItuU4ls6pf/778zcx4hBYVkR1VKagYqlvqN4/2TyGt01EvnUX/clp3gCNbWEFobdNCxiUV\n",
       "dVgehTx1l71+vvzNkkYwLrOMQVUKKo7qjvrNs/1TSGvA1hs9GPRX0rpp06iSYj9e5vmmUEh5trqL\n",
       "qV8gf6MFYviOqhRUHNUd9Ztn+6eQ1u1wmzDvpDVOp/mQlMPly9/sD0Gezsz5Ibotf7OOzpL5bSVn\n",
       "CkElUN1Sv3m0f8poPaZXjONxen8nrTtASOeW/I3zwGcNW8Bg3JW/2WI3qN9RlYJKoLqjfvNs/5TR\n",
       "GiB/g4427p20btoWYCDgTogb+cwZtr1+vvzNJvC6ihZsqEpBpVDdUL95uH/KaA3QU5ja5itojdLH\n",
       "QjqItKSVv9les7W4bP18+Rstucx3VKWgEqhuqd882j9ltIb4IOI7aA1JX0sIH3vyN6uGJVslPLLk\n",
       "b0z9AvmbVSSXroOuUZ1BgVDt8OKo7qjfRPoHBCWOpEj8BqXPap49+7fSGpDUlYiFePI3jRBSIm9y\n",
       "vCXustfPl7/pKBLbPwyEMygQKntPHNUd9ZtY/4CgxPunRPwmfc6JnW3gW2kNOQfQiiStXyV/01g9\n",
       "sELJmdM9j6jfvEP8hkMWjOO30Boy90B+Euk18jercTQqfIWSM6d7HlG/eYf4DeB39VrcfA2tE7Y4\n",
       "/ZVfJn+zelX2F/eKJGfO9zyhfvMO8RveZjmj76U1T5vrsSVJWr9F/qaj0vnFoCJU1/fUVL95hfgN\n",
       "4OdGgz/C8V5au3rnl9SPuJLvlr/561E9CqWW+A1NuyB0ar6K1vuBjshsSptf+XOLTFu2Lki9WrRe\n",
       "S2WOkbRf1VD0G/w/tnSApcJpCug3Ltb4fIbW0tX+WoA5AHe/4f9DC6Nps8ZOM7rcuNj8H4EjUTjM\n",
       "FEbgAAAAAElFTkSuQmCC\n",
       "\" style=\"display:inline;vertical-align:middle;\" /></a><br>"
      ],
      "text/plain": [
       "multi_lambda_substitution: forall_{i in NaturalPos} [forall_{f, g, Q} ([forall_{a_{1}, ..a_{_a}.., a_{i} | Q(a_{1}, ..a_{_a}.., a_{i})} (f(a_{1}, ..a_{_a}.., a_{i}) = g(a_{1}, ..a_{_a}.., a_{i}))] =>  \\\\ ([(b_{1}, ..b_{_a}.., b_{i}) -> {f(b_{1}, ..b_{_a}.., b_{i}) if Q(b_{1}, ..b_{_a}.., b_{i}).] =  \\\\ [(c_{1}, ..c_{_a}.., c_{i}) -> {g(c_{1}, ..c_{_a}.., c_{i}) if Q(c_{1}, ..c_{_a}.., c_{i}).]))]"
      ]
     },
     "execution_count": 3,
     "metadata": {},
     "output_type": "execute_result"
    }
   ],
   "source": [
    "multi_lambda_substitution = \\\n",
    "    Forall(i, Forall((f, g, Q), \n",
    "                     Implies(Forall(a_1_to_i, \n",
    "                                    Equals(f__a_1_to_i, \n",
    "                                           g__a_1_to_i), \n",
    "                                    conditions = [Q__a_1_to_i]),\n",
    "                             Equals(Lambda(b_1_to_i, \n",
    "                                           Conditional(f__b_1_to_i, \n",
    "                                                       Q__b_1_to_i)),\n",
    "                                    Lambda(c_1_to_i, \n",
    "                                           Conditional(g__c_1_to_i, \n",
    "                                                       Q__c_1_to_i))) \\\n",
    "                                      .with_wrap_after_operator()).with_wrap_after_operator()),\n",
    "          domain=NaturalPos)"
   ]
  },
  {
   "cell_type": "code",
   "execution_count": 4,
   "metadata": {},
   "outputs": [
    {
     "name": "stdout",
     "output_type": "stream",
     "text": [
      "These theorems may now be imported from the theory package: proveit.core_expr_types.lambda_maps\n"
     ]
    }
   ],
   "source": [
    "%end theorems"
   ]
  }
 ],
 "metadata": {
  "kernelspec": {
   "display_name": "Python 3",
   "language": "python",
   "name": "python3"
  }
 },
 "nbformat": 4,
 "nbformat_minor": 0
}