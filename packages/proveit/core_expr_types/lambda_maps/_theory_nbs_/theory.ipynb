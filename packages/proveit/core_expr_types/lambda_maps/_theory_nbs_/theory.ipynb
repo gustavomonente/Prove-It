{
 "cells": [
  {
   "cell_type": "markdown",
   "metadata": {},
   "source": [
    "Theory of <a class=\"ProveItLink\" href=\"../../../_theory_nbs_/theory.ipynb\">proveit</a>.<a class=\"ProveItLink\" href=\"../../_theory_nbs_/theory.ipynb\">core_expr_types</a>.lambda_maps\n",
    "========\n",
    "\n",
    "Theory related to **Lambda** types of Prove-It expressions.  A **Lambda** has *parameter(s)* and a *body* and represents a mapping of the *parameter(s)* to the *body*.  For example, $(x, y) \\mapsto x + y$ represents a mapping of $x$ and $y$ into $x + y$; the application of this mapping to the arguments $5$ and $2$ yields $5+2$."
   ]
  },
  {
   "cell_type": "code",
   "execution_count": 1,
   "metadata": {},
   "outputs": [
    {
     "data": {
      "text/html": [
       "<h3>Local content of this theory</h3>"
      ],
      "text/plain": [
       "<IPython.core.display.HTML object>"
      ]
     },
     "metadata": {},
     "output_type": "display_data"
    },
    {
     "data": {
      "text/html": [
       "<table><tr>\n",
       "<th><a class=\"ProveItLink\" href=\"common.ipynb\">common expressions</a></th>\n",
       "<th><a class=\"ProveItLink\" href=\"axioms.ipynb\">axioms</a></th>\n",
       "<th><a class=\"ProveItLink\" href=\"theorems.ipynb\">theorems</a></th>\n",
       "<th><a class=\"ProveItLink\" href=\"demonstrations.ipynb\">demonstrations</a></th>\n",
       "</tr></table>\n",
       "<h3>Sub-theories</h3>\n"
      ],
      "text/plain": [
       "<IPython.core.display.HTML object>"
      ]
     },
     "metadata": {},
     "output_type": "display_data"
    },
    {
     "data": {
      "text/html": [
       "<h3>All axioms contained within this theory</h3>"
      ],
      "text/plain": [
       "<IPython.core.display.HTML object>"
      ]
     },
     "metadata": {},
     "output_type": "display_data"
    },
    {
     "data": {
      "text/html": [
       "<dt><a class=\"ProveItLink\" href=\"axioms.ipynb#lambda_substitution\">proveit.core_expr_types.lambda_maps.lambda_substitution</a></dt><dd><a class=\"ProveItLink\" href=\"../__pv_it/axioms/14fc7e5af1dc82af9b2373fb82410a18db5c0e870/expr.ipynb\"><img src=\"data:image/png;base64,iVBORw0KGgoAAAANSUhEUgAAAjwAAABMCAMAAABebJ1AAAAANlBMVEX///8oKCgNDQ0QEBCIiIhm\n",
       "Zma6urrMzMxUVFQiIiJERETc3Nzu7u6qqqp2dnaYmJgyMjIAAABRfbn9AAAAAXRSTlMAQObYZgAA\n",
       "DBZJREFUeNrtXYuurSgMdUYQVJ7//7PjCwUExSIektkk97pjhFNk0ZbSJU3zQiF6KTSrEUyaX6mx\n",
       "jKdx7dfxfqd5ojGaCs9pA6nfMFVaqPBuyHm06WvgGSto4lcKFdZ2gbu8HvD0wldEqowZG2XqzRcK\n",
       "H9+R70VRtqtUfZdcV7asZvCI3r8xde0wZPK1N8oG6zdGePRvvqzxxwz5yohiriIdPI2iFYNn1DIA\n",
       "HrE7UYq99QrVaNtyrrl/82WNrzLkKyOKuT4BT6dJveAZ2iYAntHMwvG16Six9TZ1xzr/5ttFILB8\n",
       "pUTZrk/A0yhVLXjISfGsXTMKR/C3XmA/BnrfF/TVWQuWr5Qo2zUMnmGMqB5eK3jOimftmhRsLmP/\n",
       "mrfcB/ys95oPztkOKl8xUdZrGDwkouRVXyl4Ri3C4Gn0MJdevPX6ELYMRNtj7NwcscCozXGvAi2I\n",
       "BEPEMUJ8+EyU9RoxWxHDKXVXJ3hwoPraNUouVClExdnmUSP3ZtdOf0fpywl441daLRgcyMNbEMoq\n",
       "1hiJYZ5A+DNR1qsFHtxbRQfRw/RQJ3h0YEmydq3DkBXLhUvBbX1HnJusnUcOz++IYAyxH1YLUxsm\n",
       "rnLbEtezflicim9EWa9Rh5mrkIs5+GNcB3i4RjHwNHM30XthMztUund+u4mXMexXWboepEGtFo53\n",
       "cyvUApKl7jeirNf4aoupQEj5NEp1gIeGam9dE3IFUAHw7HHJ7eYyhmxTR6ARc1pIBs+61ET9d6Lc\n",
       "gGekIjScuq8RPDq0mt26NqqGbNFNhhFN27KIP2mbrYE6N9nitZs3Ahkxu4UOmdatlhyfhx6u6Pzy\n",
       "BvydKJ1vtrBySngwlTfIVYCHBz0007VhpOsv1pNNtzf0ehViPakuHOYWOTfZ4nRQtW7+wEbsaEE0\n",
       "mp0c5lj/G+PyfCTKyWF2PO2YvMizW1WAB2t+AR5u/MV5WU3m30TcLGH3J6eX6LeKrffbuTeH6d3I\n",
       "njbCmqRs9+X3Xxc/jhZGtvvJWNwO9DibbpYqyvnHU1HWaxg8LLoTRLx1TRXg6TW7AM++oG4niG0K\n",
       "uL8Gj/XkaVods7jT3k1GESIjRZ39YL//rZ7Gf2wP2S0MZpreW9qOIrE5YEminAV4KMp6DYOHxsX1\n",
       "sr9qAA8LujxH1yQ75ucgGbsFz/EkR6dl3BH+F0Pg5hllPCVQd36IaUY2G5oWgMLfibJdw+C5GEjl\n",
       "+t81gKfTwyV4dn0yTn+mk4fmGQcW/m9/knc4Ej/ltFHyKqi6q/qk4LYIxEq2m/cbo8S2oV+IAtkY\n",
       "Xf0LWRt4hBZJ4JmUO0fYAg+ZzROZA6n2f9x+MqCD12h1PziRRz+EPeJe0+UVs5RN8cBDbFvu3gc4\n",
       "xWy1B/ydKJCUjM1jprWBZwj6y5ddM2YrVJE7y67m1MqabCW3LDDnZqgkxScvHrrfWenoJAz/UJRh\n",
       "BIKncyM9NYCn1UEXDfUxT5Mgvb7sUI6ne4+is5vwaRqqrCcN1YiyXdGTNFTjPOnawKM1dO9YQqfn\n",
       "r7wxVBWAZ3yL/vMrxUvrpGVUAJ5Ot7l//bHx/l8WRrObUM5yqwLwSJ2bcCHEDxlJ0zQ7s4U6C+MK\n",
       "wCN0ZnI7oj9cJM7TXPRgZ61eAXhwJsOdn6zeThcssW7h0I4WFCaZvzdk6mh3os/geYNZZ8ADaGvI\n",
       "A0+ACWtcoCViwoY2Kx3oVP8Ri29nFRYWJtHrC9OGn4BHeeB5g1lnwANoS+ksptKAo/7zlpaiMplQ\n",
       "Xv1HObE7q7CwMKlLBp63OEFOlHAGzxvMOgMeQFtK5+hSHggSbW/S7BLpTM6XX/8Bi29nFZYWJnm9\n",
       "mcdDkSfwvMGs232e5231WeDpcXTlvu1PdzqPqXyqH2XxofEM7V3OssIkg4dnpXxKJ6yy9O4FZt0O\n",
       "nudt9Rrl9Caa/WxEEJkZ0Of6MRYfx9G6pYVJj3T1OXaTOwHdLQMym1l3rLYet9XqjGVIH7KO65s0\n",
       "XCVFkb3v+NzLONW3shHdP++N7MEqLC5MOnhkju4LgSedWSduweO3hYUsBx6iuyh4tmxlpidLuqSH\n",
       "wchzVv0Ai8+FC/f/gHazpMsJY4EnRizcm8hQ9F0APA6zDl3pNXwLHo+lJxC6UUI6w4fEFzmIG09i\n",
       "I9QhKHlurx9k8XktosGZ1jursLgwDzZolMoCDzt5dDazjjgKiPR4Fgy19BI87Eh+dFl69yx/OsA/\n",
       "ANbSOHgMfU41hogCI88d9Y+Zsv/89x+Xs6IjO4elhXkAHpThMo+DrS/HdUYEmHWMCzwn402qWEzA\n",
       "wOxa81ipwU5b9xY2Q/OQsMVzwLNo7vX7IKDxsuoHwOMlU3dupPdwb0sL8wA8Y5ab4GietQsWs874\n",
       "VQMfl1xzLtEMGTG7ZpOunf7xS7PltCUHjXdR5WTCaAg84M5EJpFjtpbWV+4taLz2+kEWn9si8SKj\n",
       "w0FuKCxMzOehyeoaAp5tEu3Muk2qI3GcE05GZDzle5/HamtBzzHSNBgOznGYh3DExXGYZzuykv6B\n",
       "42XqB1l8bos+03JnFRYX5klSygAPF4QcZotZt0l1vB5OJrMlyQPwcMsXxPjQljMfhr8a52mHC/Bs\n",
       "C2oqd8xGyXNXfDpTP8zic3DvUzUOVmFxYZ6AR+iXwWMWlZtUDNvgmRBlQhsp4GksNBzsXtlHPCA4\n",
       "eFhkV0zYVDmGkQkWxMlzVzy+vf4ti8//gv3BKiwuzBPwSE1eBo80w7pIRfol1Df/nsEzSqOfk8Aj\n",
       "D4i0u5yCzryYkBMI3p4gEdi52xONP4JA8txTFp/DKiwtzBPwELiq787bEwGpqKN5mo5sf4+kgMdp\n",
       "rdmIeHxqkoZctQG8q84j6zRvY9RfHQDJcw9YfMvjDquwtDBPwMPgaQzyGjybVGJHiVy/NSvu0BwE\n",
       "zzq9FiJeM2lcJV8FT0z/Ht/XcJaomeS5dBbfqmpcVmFhYR5lccMTqM4pGUGpjGvb9WuYj4LAY+Yb\n",
       "942YHSQE9yUW7nKSwUJSJSEzulhJi7F5rMLCwjwDDzj15pwMFhmZzedJtaOBV6rkxvbl43LqDg/O\n",
       "WQzui4hEIHe6YInMT1lTGiqMv9eCNyjwKQ31jRIEjzDfqJBz6HCaiiysPwZwV1jzK4AIBzjQQx0X\n",
       "o4IEeA6m3tAfWxBUenAu6lAb9YaASX8/8HwNHuWsbysADwPTjX9mCwgesNlyv0lRx4cOgHXF72xA\n",
       "GAQUfJ5X9qGDptdAMhFKiLPXSAD8a/ofeFud1PeJFQrdVpcJqLuL+eQVCul1WVESIj4ZUVlVG3gQ\n",
       "tDP8AXjKnJ8HOhSjrCj34GHgzUThjlQN4CHQtTpJUFmxfa6Xini+x1hYlHvwwDdGvQ8AVvEdZvBy\n",
       "K0FlxXbY35rv6QTA3cUrK8o9eDg479f7YHYV4FHQyr1KBE+58/PSCYDGWy4syj14wItU/4PZVYBH\n",
       "QD1mrBPBc9CJBEIo57h2v34qAfB8lF8hUe7BA46tcm8LuwrwdNB99QT2o5PPPE37SWMPs76CnZ53\n",
       "1H9IADwf5VdKlHvwtNDVHvXsXR1HJrUa+ld5GnjMQUkLC5pyKOdur/+UAHg+yq+YKLfgGcH+sj9M\n",
       "dYAHQ7Nq78NdLgHw0FQZp+d5Hd9/XhAAY0f5FRDlFjxg0t/oG4g6wNNBIw/3To8DHkthw0/Pi4In\n",
       "TgCMHeVXQpRb8ICZN8jX85UcUNu2UNR1SeCxz8+Dj9hR/yEBMHaUXwlRbsEDtlqqbaoED4Jub91+\n",
       "bcYlAK4XMNt3r/+QAHg+yq+cKHfgQdBUhPFkHioBT1NsveUQAPH8V9hCrwKdnmfqPyUABo7yuxAl\n",
       "6UzBqCh34AHvip69rFrAI6DzoRUp4DGTWwgp3eOmH52ed9R/SAA8H+V3JUrKmYJRUW7Aw+ERQtpU\n",
       "Ch7wZh2/QV0tBMCLo/w+pf+Bv8YaWKTVAh64Kb55G1UQAK+P8vuS/sdbaPJlGziBsBbw3NqfqB/X\n",
       "kgTw/CkB8PIov0/pf/CPeIecy3rAw6Gqh/cp4PlLAmDiUX4f0P8o1GgFv2RYD3gaCqZvXa0faiQA\n",
       "/hn9T4JzGKlqqgbPvuvzvGeo+ZUUDQhminbB4X0PPEvJOoKEgJ05/DusLcX0UDBT6aTO+nW8XxIM\n",
       "LSVvELsfk6ZS2J1sglzHu/kPimevfflAHWYAAAAASUVORK5CYII=\n",
       "\" style=\"display:inline;vertical-align:middle;\" /></a></dd>"
      ],
      "text/plain": [
       "<IPython.core.display.HTML object>"
      ]
     },
     "metadata": {},
     "output_type": "display_data"
    }
   ],
   "source": [
    "import proveit\n",
    "%theory # toggles between interactive and static modes"
   ]
  },
  {
   "cell_type": "code",
   "execution_count": null,
   "metadata": {},
   "outputs": [],
   "source": []
  }
 ],
 "metadata": {
  "kernelspec": {
   "display_name": "Python 3",
   "language": "python",
   "name": "python3"
  }
 },
 "nbformat": 4,
 "nbformat_minor": 0
}