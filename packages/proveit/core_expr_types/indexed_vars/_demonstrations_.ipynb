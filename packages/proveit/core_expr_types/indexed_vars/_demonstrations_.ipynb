{
 "cells": [
  {
   "cell_type": "markdown",
   "metadata": {},
   "source": [
    "Demonstrations for context <a class=\"ProveItLink\" href=\"_context_.ipynb\">proveit.core_expr_types.indexed_vars</a>\n",
    "========"
   ]
  },
  {
   "cell_type": "code",
   "execution_count": 1,
   "metadata": {},
   "outputs": [],
   "source": [
    "import proveit\n",
    "%begin demonstrations"
   ]
  },
  {
   "cell_type": "code",
   "execution_count": 2,
   "metadata": {},
   "outputs": [],
   "source": [
    "from proveit import ExprRange, ExprTuple, IndexedVar\n",
    "from proveit._common_ import a, b, c, i, j, k, l, x, y, z"
   ]
  },
  {
   "cell_type": "code",
   "execution_count": 3,
   "metadata": {},
   "outputs": [
    {
     "data": {
      "text/html": [
       "<strong id=\"defaults.automation\">defaults.automation:</strong> False<br>"
      ],
      "text/plain": [
       "defaults.automation: False"
      ]
     },
     "execution_count": 3,
     "metadata": {},
     "output_type": "execute_result"
    }
   ],
   "source": [
    "from proveit import defaults\n",
    "defaults.automation = False"
   ]
  },
  {
   "cell_type": "code",
   "execution_count": 4,
   "metadata": {},
   "outputs": [
    {
     "data": {
      "text/plain": [
       "{x: {x_{i}, ..x_{k}.., x_{j}}, i: {i}, j: {j}}"
      ]
     },
     "execution_count": 4,
     "metadata": {},
     "output_type": "execute_result"
    }
   ],
   "source": [
    "ExprRange(k, IndexedVar(x, k), i, j)._possibly_free_var_ranges()"
   ]
  },
  {
   "cell_type": "code",
   "execution_count": 5,
   "metadata": {},
   "outputs": [
    {
     "data": {
      "text/html": [
       "<a class=\"ProveItLink\" href=\"__pv_it/3b1af0f808a4b05ae19438b26082eca169b8bed50/expr.ipynb\"><img src=\"data:image/png;base64,iVBORw0KGgoAAAANSUhEUgAAASYAAAAPBAMAAAC7Pn+jAAAAMFBMVEX///8QEBBmZmaqqqrMzMxE\n",
       "REQyMjIiIiKYmJh2dna6urrc3NxUVFSIiIju7u4AAAA6P00QAAAAAXRSTlMAQObYZgAAAdFJREFU\n",
       "SMedlL9LAmEYx7+kpqd5Dm4FIU0NBW4NQtjUEugStFgO/Q21lNxUja5BP7YWi26MhnAKIgoxIgK1\n",
       "d4soSygaiqT39RXvXs/z3vOBu/d5eT7vx/eH9wL1yvljCY6hVq9P9uE25OTdbjUf2PRnEY45jHvB\n",
       "dmmNtqtupmSWH2Wl3AxTiNIM6vDqDvoDHJICbeNu5mSWKzEpN8NU+NIyeoJF1ycnyIfjUm6ORUpy\n",
       "P/CHAcKQR3QpN8dSSSBYaS1r+jJpO8z7xYhy3IkTw5CnqrcyboZ5yBPCRIkQ2n9OpojdsNlwAzUM\n",
       "BbMOnBBm+QMpy7gZdhpfwRkuZlhtAvPAB62o3zAl7BX89DVCGl6Voj3HErFnlmew1YOwuBn2Vq1P\n",
       "aiylEQXdZX+OZhv08RfbCdYJ1JtaeYemPs2eayVGj9bN8lFM8TEi3+1mWPsDadJzV3+x9E53sscR\n",
       "CH9BW67rRGCWo0mX4uzmGK9k86FljHl/6FTz1mvGSOfQhxOjU+fyXCAt425hfClXujeK47uyBtV6\n",
       "NdSN9B59OPFu6tS5fGEXMm6GmXaRNwGrXjPSTD9OCLHuceXuRML52x4pjEtx1kgM5tYk5rSnS3F9\n",
       "t8PR/Q+NQMqVzJ6ljAAAAABJRU5ErkJggg==\n",
       "\" style=\"display:inline;vertical-align:middle;\" /></a>"
      ],
      "text/plain": [
       "x_{i,a}, ..x_{k,a}.., x_{j,a}, ....x_{i,l}, ..x_{k,l}.., x_{j,l}...., x_{i,b}, ..x_{k,b}.., x_{j,b}"
      ]
     },
     "execution_count": 5,
     "metadata": {},
     "output_type": "execute_result"
    }
   ],
   "source": [
    "ExprRange(l, ExprRange(k, IndexedVar(IndexedVar(x, k), l), i, j), a, b)"
   ]
  },
  {
   "cell_type": "code",
   "execution_count": 6,
   "metadata": {},
   "outputs": [
    {
     "data": {
      "text/plain": [
       "{x: {x_{i,a}, ..x_{k,a}.., x_{j,a}, ....x_{i,l}, ..x_{k,l}.., x_{j,l}...., x_{i,b}, ..x_{k,b}.., x_{j,b}},\n",
       " i: {i},\n",
       " j: {j},\n",
       " a: {a},\n",
       " b: {b}}"
      ]
     },
     "execution_count": 6,
     "metadata": {},
     "output_type": "execute_result"
    }
   ],
   "source": [
    "ExprRange(l, ExprRange(k, IndexedVar(IndexedVar(x, k), l), i, j), a, b)._possibly_free_var_ranges()"
   ]
  },
  {
   "cell_type": "code",
   "execution_count": 7,
   "metadata": {},
   "outputs": [
    {
     "data": {
      "text/plain": [
       "{x: {x_{a,i}, ..x_{a,k}.., x_{a,j}, ....x_{l,i}, ..x_{l,k}.., x_{l,j}...., x_{b,i}, ..x_{b,k}.., x_{b,j}},\n",
       " i: {i},\n",
       " j: {j},\n",
       " a: {a},\n",
       " b: {b}}"
      ]
     },
     "execution_count": 7,
     "metadata": {},
     "output_type": "execute_result"
    }
   ],
   "source": [
    "ExprRange(l, ExprRange(k, IndexedVar(IndexedVar(x, l), k), i, j), a, b)._possibly_free_var_ranges()"
   ]
  },
  {
   "cell_type": "code",
   "execution_count": 8,
   "metadata": {},
   "outputs": [],
   "source": [
    "%end demonstrations"
   ]
  }
 ],
 "metadata": {
  "kernelspec": {
   "display_name": "Python 3",
   "language": "python",
   "name": "python3"
  }
 },
 "nbformat": 4,
 "nbformat_minor": 0
}
