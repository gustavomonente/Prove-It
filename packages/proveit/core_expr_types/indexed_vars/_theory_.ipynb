{
 "cells": [
  {
   "cell_type": "markdown",
   "metadata": {},
   "source": [
    "Theory of <a class=\"ProveItLink\" href=\"../../_theory_.ipynb\">proveit</a>.<a class=\"ProveItLink\" href=\"../_theory_.ipynb\">core_expr_types</a>.indexed_vars\n",
    "========\n",
    "\n",
    "Theory related to **IndexedVar** types of Prove-It expressions.  An **IndexedVar** represents an indexed variable, such as $x_1$ or $y_n$, and is intended to be contained in an **ExprRange** (e.g., $x_1, \\ldots, x_n$)."
   ]
  },
  {
   "cell_type": "code",
   "execution_count": null,
   "metadata": {},
   "outputs": [],
   "source": [
    "import proveit\n",
    "%theory # toggles between interactive and static modes"
   ]
  },
  {
   "cell_type": "code",
   "execution_count": null,
   "metadata": {},
   "outputs": [],
   "source": []
  }
 ],
 "metadata": {
  "kernelspec": {
   "display_name": "Python 3",
   "language": "python",
   "name": "python3"
  }
 },
 "nbformat": 4,
 "nbformat_minor": 0
}
