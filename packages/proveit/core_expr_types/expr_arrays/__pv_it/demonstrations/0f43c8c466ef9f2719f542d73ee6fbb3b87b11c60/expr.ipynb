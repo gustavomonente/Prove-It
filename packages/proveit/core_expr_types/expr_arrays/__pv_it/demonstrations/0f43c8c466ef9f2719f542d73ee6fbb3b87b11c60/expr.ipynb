{
 "cells": [
  {
   "cell_type": "markdown",
   "metadata": {},
   "source": [
    "Expression of type <a class=\"ProveItLink\" href=\"../../../../../../../doc/html/api/proveit.ExprArray.html\">ExprArray</a>\n",
    "=======================\n",
    "# from the theory of <a class=\"ProveItLink\" href=\"../../../_theory_nbs_/theory.ipynb\">proveit.core_expr_types.expr_arrays</a>"
   ]
  },
  {
   "cell_type": "code",
   "execution_count": 1,
   "metadata": {},
   "outputs": [],
   "source": [
    "import proveit\n",
    "# Automation is not needed when building an expression:\n",
    "proveit.defaults.automation = False # This will speed things up.\n",
    "proveit.defaults.inline_pngs = False # Makes files smaller.\n",
    "%load_expr # Load the stored expression as 'stored_expr'\n",
    "# import Expression classes needed to build the expression\n",
    "from proveit import A, B, C, D, E, ExprArray, ExprRange, F, IndexedVar, i, j, m\n",
    "from proveit.numbers import one"
   ]
  },
  {
   "cell_type": "code",
   "execution_count": 2,
   "metadata": {},
   "outputs": [
    {
     "data": {
      "text/html": [
       "<strong id=\"expr\">expr:</strong> <a class=\"ProveItLink\" href=\"expr.ipynb\"><img src=\"expr.png\" style=\"display:inline;vertical-align:middle;\" /></a><br>"
      ],
      "text/plain": [
       "expr: A_{1, j} & B_{1, j} & C_{1, j} & D_{1, j} & E_{1, j} & F_{1, j}  \\\\ \n",
       "  \\vdots & \\vdots & \\vdots & \\vdots & \\vdots & \\vdots  \\\\ \n",
       "  A_{m, j} & B_{m, j} & C_{m, j} & D_{m, j} & E_{m, j} & F_{m, j}"
      ]
     },
     "execution_count": 2,
     "metadata": {},
     "output_type": "execute_result"
    }
   ],
   "source": [
    "# build up the expression from sub-expressions\n",
    "sub_expr1 = [i, j]\n",
    "expr = ExprArray(ExprRange(i, [IndexedVar(A, sub_expr1), IndexedVar(B, sub_expr1), IndexedVar(C, sub_expr1), IndexedVar(D, sub_expr1), IndexedVar(E, sub_expr1), IndexedVar(F, sub_expr1)], one, m)).with_implicit_parameterization()"
   ]
  },
  {
   "cell_type": "code",
   "execution_count": 3,
   "metadata": {},
   "outputs": [
    {
     "name": "stdout",
     "output_type": "stream",
     "text": [
      "Passed sanity check: expr matches stored_expr\n"
     ]
    }
   ],
   "source": [
    "# check that the built expression is the same as the stored expression\n",
    "assert expr == stored_expr\n",
    "assert expr._style_id == stored_expr._style_id\n",
    "print(\"Passed sanity check: expr matches stored_expr\")"
   ]
  },
  {
   "cell_type": "code",
   "execution_count": 4,
   "metadata": {},
   "outputs": [
    {
     "name": "stdout",
     "output_type": "stream",
     "text": [
      "\\begin{array} {cccccc} \n",
      " A_{1, j} & B_{1, j} & C_{1, j} & D_{1, j} & E_{1, j} & F_{1, j}  \\\\ \n",
      "  \\vdots & \\vdots & \\vdots & \\vdots & \\vdots & \\vdots  \\\\ \n",
      "  A_{m, j} & B_{m, j} & C_{m, j} & D_{m, j} & E_{m, j} & F_{m, j} \\end{array} \n",
      "\n"
     ]
    }
   ],
   "source": [
    "# Show the LaTeX representation of the expression for convenience if you need it.\n",
    "print(expr.latex())"
   ]
  },
  {
   "cell_type": "code",
   "execution_count": 5,
   "metadata": {},
   "outputs": [
    {
     "data": {
      "text/html": [
       "<table>\n",
       "<tr><th>name</th><th>description</th><th>default</th><th>current value</th><th>related methods</th></tr><tr><td>justification</td><td>justify to the 'left', 'center', or 'right' in the array cells</td><td>center</td><td>center</td><td>with_justification</td></tr>\n",
       "<tr><td>orientation</td><td>to be read from left to right then top to bottom ('horizontal') or to be read top to bottom then left to right ('vertical')</td><td>horizontal</td><td>horizontal</td><td>with_orientation</td></tr>\n",
       "<tr><td>parameterization</td><td>'implicit' (default for LaTeX formatting) hides the parameter the ExprRange so the parameterization may be ambiguous (e.g., x_{1+1}, ..., x_{n+1}); 'explicit' (default for string formatting) reveals the parameterization (e.g. x_{1+1}, ..x_{k+1}.., x_{n+1}).</td><td>None</td><td>implicit</td><td>('with_explicit_parameterization', 'with_implicit_parameterization', 'with_default_parameterization_style')</td></tr>\n",
       "</table>\n"
      ],
      "text/plain": [
       "style name: justification\n",
       "description: justify to the 'left', 'center', or 'right' in the array cells\n",
       "default: center\n",
       "current value: center\n",
       "related methods: with_justification\n",
       "style name: orientation\n",
       "description: to be read from left to right then top to bottom ('horizontal') or to be read top to bottom then left to right ('vertical')\n",
       "default: horizontal\n",
       "current value: horizontal\n",
       "related methods: with_orientation\n",
       "style name: parameterization\n",
       "description: 'implicit' (default for LaTeX formatting) hides the parameter the ExprRange so the parameterization may be ambiguous (e.g., x_{1+1}, ..., x_{n+1}); 'explicit' (default for string formatting) reveals the parameterization (e.g. x_{1+1}, ..x_{k+1}.., x_{n+1}).\n",
       "default: None\n",
       "current value: implicit\n",
       "related methods: ('with_explicit_parameterization', 'with_implicit_parameterization', 'with_default_parameterization_style')"
      ]
     },
     "execution_count": 5,
     "metadata": {},
     "output_type": "execute_result"
    }
   ],
   "source": [
    "expr.style_options()"
   ]
  },
  {
   "cell_type": "code",
   "execution_count": 6,
   "metadata": {},
   "outputs": [
    {
     "data": {
      "text/html": [
       "<table><tr><th>&nbsp;</th><th>core type</th><th>sub-expressions</th><th>expression</th></tr>\n",
       "<tr><td>0</td><td>ExprTuple</td><td>1</td><td><a class=\"ProveItLink\" href=\"expr.ipynb\"><img src=\"expr.png\" style=\"display:inline;vertical-align:middle;\" /></a></td></tr>\n",
       "<tr><td>1</td><td>ExprRange</td><td>lambda_map:&nbsp;2<br>start_index:&nbsp;3<br>end_index:&nbsp;4<br></td><td><a class=\"ProveItLink\" href=\"../260099fcac3a9073b0663609338011e396d5a5570/expr.ipynb\"><img src=\"../260099fcac3a9073b0663609338011e396d5a5570/expr.png\" style=\"display:inline;vertical-align:middle;\" /></a></td></tr>\n",
       "<tr><td>2</td><td>Lambda</td><td>parameter:&nbsp;19<br>body:&nbsp;5<br></td><td><a class=\"ProveItLink\" href=\"../bc8ab2ed736337ba56216a09b2ea9158cc8ae70e0/expr.ipynb\"><img src=\"../bc8ab2ed736337ba56216a09b2ea9158cc8ae70e0/expr.png\" style=\"display:inline;vertical-align:middle;\" /></a></td></tr>\n",
       "<tr><td>3</td><td>Literal</td><td></td><td><a class=\"ProveItLink\" href=\"../../../../../numbers/numerals/__pv_it/common/d278e359da0695d9652dd541d45264f93703e2e40/expr.ipynb\"><img src=\"../../../../../numbers/numerals/__pv_it/common/d278e359da0695d9652dd541d45264f93703e2e40/expr.png\" style=\"display:inline;vertical-align:middle;\" /></a></td></tr>\n",
       "<tr><td>4</td><td>Variable</td><td></td><td><a class=\"ProveItLink\" href=\"../../../../../__pv_it/common/2dc4f15b3407a25e8d70754a86bf74f1871f92650/expr.ipynb\"><img src=\"../../../../../__pv_it/common/2dc4f15b3407a25e8d70754a86bf74f1871f92650/expr.png\" style=\"display:inline;vertical-align:middle;\" /></a></td></tr>\n",
       "<tr><td>5</td><td>ExprTuple</td><td>6, 7, 8, 9, 10, 11</td><td><a class=\"ProveItLink\" href=\"../3cc40ea68a50a30c48a931824bc88e98d96184bc0/expr.ipynb\"><img src=\"../3cc40ea68a50a30c48a931824bc88e98d96184bc0/expr.png\" style=\"display:inline;vertical-align:middle;\" /></a></td></tr>\n",
       "<tr><td>6</td><td>IndexedVar</td><td>variable:&nbsp;12<br>indices:&nbsp;18<br></td><td><a class=\"ProveItLink\" href=\"../2db546578cd7f487d81f6e5492015be24135205c0/expr.ipynb\"><img src=\"../2db546578cd7f487d81f6e5492015be24135205c0/expr.png\" style=\"display:inline;vertical-align:middle;\" /></a></td></tr>\n",
       "<tr><td>7</td><td>IndexedVar</td><td>variable:&nbsp;13<br>indices:&nbsp;18<br></td><td><a class=\"ProveItLink\" href=\"../c912acdcbf2a77f4b6227d5e6d9a04712546dd990/expr.ipynb\"><img src=\"../c912acdcbf2a77f4b6227d5e6d9a04712546dd990/expr.png\" style=\"display:inline;vertical-align:middle;\" /></a></td></tr>\n",
       "<tr><td>8</td><td>IndexedVar</td><td>variable:&nbsp;14<br>indices:&nbsp;18<br></td><td><a class=\"ProveItLink\" href=\"../cfc3f031aff613b33998523b9e88a4b21bb7543a0/expr.ipynb\"><img src=\"../cfc3f031aff613b33998523b9e88a4b21bb7543a0/expr.png\" style=\"display:inline;vertical-align:middle;\" /></a></td></tr>\n",
       "<tr><td>9</td><td>IndexedVar</td><td>variable:&nbsp;15<br>indices:&nbsp;18<br></td><td><a class=\"ProveItLink\" href=\"../8e122e0c03da99cf4e51461fcb2c93928f92cb550/expr.ipynb\"><img src=\"../8e122e0c03da99cf4e51461fcb2c93928f92cb550/expr.png\" style=\"display:inline;vertical-align:middle;\" /></a></td></tr>\n",
       "<tr><td>10</td><td>IndexedVar</td><td>variable:&nbsp;16<br>indices:&nbsp;18<br></td><td><a class=\"ProveItLink\" href=\"../b90a56303949ebee17bb59d368802b0190e2c3b40/expr.ipynb\"><img src=\"../b90a56303949ebee17bb59d368802b0190e2c3b40/expr.png\" style=\"display:inline;vertical-align:middle;\" /></a></td></tr>\n",
       "<tr><td>11</td><td>IndexedVar</td><td>variable:&nbsp;17<br>indices:&nbsp;18<br></td><td><a class=\"ProveItLink\" href=\"../e739cb76ec85ce79a324ec610d1445e7644290840/expr.ipynb\"><img src=\"../e739cb76ec85ce79a324ec610d1445e7644290840/expr.png\" style=\"display:inline;vertical-align:middle;\" /></a></td></tr>\n",
       "<tr><td>12</td><td>Variable</td><td></td><td><a class=\"ProveItLink\" href=\"../../../../../__pv_it/common/e4aad701f7f5516d8e7f0d805d518bf02c13322a0/expr.ipynb\"><img src=\"../../../../../__pv_it/common/e4aad701f7f5516d8e7f0d805d518bf02c13322a0/expr.png\" style=\"display:inline;vertical-align:middle;\" /></a></td></tr>\n",
       "<tr><td>13</td><td>Variable</td><td></td><td><a class=\"ProveItLink\" href=\"../../../../../__pv_it/common/4eca3b30dcf58a58494e201d1b7886d8643a617b0/expr.ipynb\"><img src=\"../../../../../__pv_it/common/4eca3b30dcf58a58494e201d1b7886d8643a617b0/expr.png\" style=\"display:inline;vertical-align:middle;\" /></a></td></tr>\n",
       "<tr><td>14</td><td>Variable</td><td></td><td><a class=\"ProveItLink\" href=\"../../../../../__pv_it/common/c4a83a53f0ed6678b0c7a2d6d691a4b400f735c90/expr.ipynb\"><img src=\"../../../../../__pv_it/common/c4a83a53f0ed6678b0c7a2d6d691a4b400f735c90/expr.png\" style=\"display:inline;vertical-align:middle;\" /></a></td></tr>\n",
       "<tr><td>15</td><td>Variable</td><td></td><td><a class=\"ProveItLink\" href=\"../../../../../__pv_it/common/e5e296931d7f88d2c0ed4dd1b8498a680788952f0/expr.ipynb\"><img src=\"../../../../../__pv_it/common/e5e296931d7f88d2c0ed4dd1b8498a680788952f0/expr.png\" style=\"display:inline;vertical-align:middle;\" /></a></td></tr>\n",
       "<tr><td>16</td><td>Variable</td><td></td><td><a class=\"ProveItLink\" href=\"../../../../../__pv_it/common/1705cbeb348b2c6026b93d25b121a23c24142a900/expr.ipynb\"><img src=\"../../../../../__pv_it/common/1705cbeb348b2c6026b93d25b121a23c24142a900/expr.png\" style=\"display:inline;vertical-align:middle;\" /></a></td></tr>\n",
       "<tr><td>17</td><td>Variable</td><td></td><td><a class=\"ProveItLink\" href=\"../../../../../__pv_it/common/66a9fb9a81ab9b105d60be93d60628d95a6592ce0/expr.ipynb\"><img src=\"../../../../../__pv_it/common/66a9fb9a81ab9b105d60be93d60628d95a6592ce0/expr.png\" style=\"display:inline;vertical-align:middle;\" /></a></td></tr>\n",
       "<tr><td>18</td><td>ExprTuple</td><td>19, 20</td><td><a class=\"ProveItLink\" href=\"../8cc0879db459b7e49bd46852f9da16970a0f1f110/expr.ipynb\"><img src=\"../8cc0879db459b7e49bd46852f9da16970a0f1f110/expr.png\" style=\"display:inline;vertical-align:middle;\" /></a></td></tr>\n",
       "<tr><td>19</td><td>Variable</td><td></td><td><a class=\"ProveItLink\" href=\"../../../../../__pv_it/common/575a6156bb1c87c5beeaf38c302b5905ad57f5780/expr.ipynb\"><img src=\"../../../../../__pv_it/common/575a6156bb1c87c5beeaf38c302b5905ad57f5780/expr.png\" style=\"display:inline;vertical-align:middle;\" /></a></td></tr>\n",
       "<tr><td>20</td><td>Variable</td><td></td><td><a class=\"ProveItLink\" href=\"../../../../../__pv_it/common/5514cc9a63b9c2ed9b63934dd5e088ab0d4f10080/expr.ipynb\"><img src=\"../../../../../__pv_it/common/5514cc9a63b9c2ed9b63934dd5e088ab0d4f10080/expr.png\" style=\"display:inline;vertical-align:middle;\" /></a></td></tr>\n",
       "</table>\n"
      ],
      "text/plain": [
       "0. A_{1, j} & B_{1, j} & C_{1, j} & D_{1, j} & E_{1, j} & F_{1, j}  \\\\ \n",
       "  \\vdots & \\vdots & \\vdots & \\vdots & \\vdots & \\vdots  \\\\ \n",
       "  A_{m, j} & B_{m, j} & C_{m, j} & D_{m, j} & E_{m, j} & F_{m, j}\n",
       "   core type: ExprTuple\n",
       "   sub-expressions: 1\n",
       "1. (A_{1, j}, B_{1, j}, C_{1, j}, D_{1, j}, E_{1, j}, F_{1, j}), ..(A_{i, j}, B_{i, j}, C_{i, j}, D_{i, j}, E_{i, j}, F_{i, j}).., (A_{m, j}, B_{m, j}, C_{m, j}, D_{m, j}, E_{m, j}, F_{m, j})\n",
       "   core type: ExprRange\n",
       "   lambda_map: 2\n",
       "   start_index: 3\n",
       "   end_index: 4\n",
       "2. i -> (A_{i, j}, B_{i, j}, C_{i, j}, D_{i, j}, E_{i, j}, F_{i, j})\n",
       "   core type: Lambda\n",
       "   parameter: 19\n",
       "   body: 5\n",
       "3. 1\n",
       "   core type: Literal\n",
       "   sub-expressions: \n",
       "4. m\n",
       "   core type: Variable\n",
       "   sub-expressions: \n",
       "5. (A_{i, j}, B_{i, j}, C_{i, j}, D_{i, j}, E_{i, j}, F_{i, j})\n",
       "   core type: ExprTuple\n",
       "   sub-expressions: 6, 7, 8, 9, 10, 11\n",
       "6. A_{i, j}\n",
       "   core type: IndexedVar\n",
       "variable: 12\n",
       "indices: 18\n",
       "7. B_{i, j}\n",
       "   core type: IndexedVar\n",
       "variable: 13\n",
       "indices: 18\n",
       "8. C_{i, j}\n",
       "   core type: IndexedVar\n",
       "variable: 14\n",
       "indices: 18\n",
       "9. D_{i, j}\n",
       "   core type: IndexedVar\n",
       "variable: 15\n",
       "indices: 18\n",
       "10. E_{i, j}\n",
       "    core type: IndexedVar\n",
       "variable: 16\n",
       "indices: 18\n",
       "11. F_{i, j}\n",
       "    core type: IndexedVar\n",
       "variable: 17\n",
       "indices: 18\n",
       "12. A\n",
       "    core type: Variable\n",
       "    sub-expressions: \n",
       "13. B\n",
       "    core type: Variable\n",
       "    sub-expressions: \n",
       "14. C\n",
       "    core type: Variable\n",
       "    sub-expressions: \n",
       "15. D\n",
       "    core type: Variable\n",
       "    sub-expressions: \n",
       "16. E\n",
       "    core type: Variable\n",
       "    sub-expressions: \n",
       "17. F\n",
       "    core type: Variable\n",
       "    sub-expressions: \n",
       "18. (i, j)\n",
       "    core type: ExprTuple\n",
       "    sub-expressions: 19, 20\n",
       "19. i\n",
       "    core type: Variable\n",
       "    sub-expressions: \n",
       "20. j\n",
       "    core type: Variable\n",
       "    sub-expressions: "
      ]
     },
     "execution_count": 6,
     "metadata": {},
     "output_type": "execute_result"
    }
   ],
   "source": [
    "# display the expression information\n",
    "expr.expr_info()"
   ]
  },
  {
   "cell_type": "code",
   "execution_count": null,
   "metadata": {},
   "outputs": [],
   "source": []
  }
 ],
 "metadata": {
  "kernelspec": {
   "display_name": "Python 3",
   "language": "python",
   "name": "python3"
  }
 },
 "nbformat": 4,
 "nbformat_minor": 0
}