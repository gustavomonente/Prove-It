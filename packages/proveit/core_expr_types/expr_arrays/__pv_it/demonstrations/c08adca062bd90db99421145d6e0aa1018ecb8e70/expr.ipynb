{
 "cells": [
  {
   "cell_type": "markdown",
   "metadata": {},
   "source": [
    "Expression of type <a class=\"ProveItLink\" href=\"../../../../../../../doc/html/api/proveit.ExprArray.html\">ExprArray</a>\n",
    "=======================\n",
    "# from the theory of <a class=\"ProveItLink\" href=\"../../../_theory_nbs_/theory.ipynb\">proveit.core_expr_types.expr_arrays</a>"
   ]
  },
  {
   "cell_type": "code",
   "execution_count": 1,
   "metadata": {},
   "outputs": [],
   "source": [
    "import proveit\n",
    "# Automation is not needed when building an expression:\n",
    "proveit.defaults.automation = False # This will speed things up.\n",
    "proveit.defaults.inline_pngs = False # Makes files smaller.\n",
    "%load_expr # Load the stored expression as 'stored_expr'\n",
    "# import Expression classes needed to build the expression\n",
    "from proveit import A, B, ExprArray, ExprRange, IndexedVar, i, j, m, n\n",
    "from proveit.numbers import one"
   ]
  },
  {
   "cell_type": "code",
   "execution_count": 2,
   "metadata": {},
   "outputs": [
    {
     "data": {
      "text/html": [
       "<strong id=\"expr\">expr:</strong> <a class=\"ProveItLink\" href=\"expr.ipynb\"><img src=\"expr.png\" style=\"display:inline;vertical-align:middle;\" /></a><br>"
      ],
      "text/plain": [
       "expr: A_{1, 1} & B_{1, 1}  \\\\ \n",
       "  \\colon & \\colon  \\\\ \n",
       "  A_{1, j} & B_{1, j}  \\\\ \n",
       "  \\colon & \\colon  \\\\ \n",
       "  A_{1, n} & B_{1, n}  \\\\ \n",
       "  \\colon & \\colon  \\\\ \n",
       "  \\colon & \\colon  \\\\ \n",
       "  A_{i, 1} & B_{i, 1}  \\\\ \n",
       "  \\colon & \\colon  \\\\ \n",
       "  A_{i, j} & B_{i, j}  \\\\ \n",
       "  \\colon & \\colon  \\\\ \n",
       "  A_{i, n} & B_{i, n}  \\\\ \n",
       "  \\colon & \\colon  \\\\ \n",
       "  \\colon & \\colon  \\\\ \n",
       "  A_{m, 1} & B_{m, 1}  \\\\ \n",
       "  \\colon & \\colon  \\\\ \n",
       "  A_{m, j} & B_{m, j}  \\\\ \n",
       "  \\colon & \\colon  \\\\ \n",
       "  A_{m, n} & B_{m, n}"
      ]
     },
     "execution_count": 2,
     "metadata": {},
     "output_type": "execute_result"
    }
   ],
   "source": [
    "# build up the expression from sub-expressions\n",
    "sub_expr1 = [i, j]\n",
    "expr = ExprArray(ExprRange(i, ExprRange(j, [IndexedVar(A, sub_expr1), IndexedVar(B, sub_expr1)], one, n), one, m)).with_explicit_parameterization()"
   ]
  },
  {
   "cell_type": "code",
   "execution_count": 3,
   "metadata": {},
   "outputs": [
    {
     "name": "stdout",
     "output_type": "stream",
     "text": [
      "Passed sanity check: expr matches stored_expr\n"
     ]
    }
   ],
   "source": [
    "# check that the built expression is the same as the stored expression\n",
    "assert expr == stored_expr\n",
    "assert expr._style_id == stored_expr._style_id\n",
    "print(\"Passed sanity check: expr matches stored_expr\")"
   ]
  },
  {
   "cell_type": "code",
   "execution_count": 4,
   "metadata": {},
   "outputs": [
    {
     "name": "stdout",
     "output_type": "stream",
     "text": [
      "\\begin{array} {cc} \n",
      " A_{1, 1} & B_{1, 1}  \\\\ \n",
      "  \\colon & \\colon  \\\\ \n",
      "  A_{1, j} & B_{1, j}  \\\\ \n",
      "  \\colon & \\colon  \\\\ \n",
      "  A_{1, n} & B_{1, n}  \\\\ \n",
      "  \\colon & \\colon  \\\\ \n",
      "  \\colon & \\colon  \\\\ \n",
      "  A_{i, 1} & B_{i, 1}  \\\\ \n",
      "  \\colon & \\colon  \\\\ \n",
      "  A_{i, j} & B_{i, j}  \\\\ \n",
      "  \\colon & \\colon  \\\\ \n",
      "  A_{i, n} & B_{i, n}  \\\\ \n",
      "  \\colon & \\colon  \\\\ \n",
      "  \\colon & \\colon  \\\\ \n",
      "  A_{m, 1} & B_{m, 1}  \\\\ \n",
      "  \\colon & \\colon  \\\\ \n",
      "  A_{m, j} & B_{m, j}  \\\\ \n",
      "  \\colon & \\colon  \\\\ \n",
      "  A_{m, n} & B_{m, n} \\end{array} \n",
      "\n"
     ]
    }
   ],
   "source": [
    "# Show the LaTeX representation of the expression for convenience if you need it.\n",
    "print(expr.latex())"
   ]
  },
  {
   "cell_type": "code",
   "execution_count": 5,
   "metadata": {},
   "outputs": [
    {
     "data": {
      "text/html": [
       "<table><tr><th>&nbsp;</th><th>core type</th><th>sub-expressions</th><th>expression</th></tr>\n",
       "<tr><td>0</td><td>ExprTuple</td><td>1</td><td><a class=\"ProveItLink\" href=\"expr.ipynb\"><img src=\"expr.png\" style=\"display:inline;vertical-align:middle;\" /></a></td></tr>\n",
       "<tr><td>1</td><td>ExprRange</td><td>lambda_map:&nbsp;2<br>start_index:&nbsp;6<br>end_index:&nbsp;3<br></td><td><a class=\"ProveItLink\" href=\"../984f2f6397ef1fc83a8d9426b59149fc333252ae0/expr.ipynb\"><img src=\"../984f2f6397ef1fc83a8d9426b59149fc333252ae0/expr.png\" style=\"display:inline;vertical-align:middle;\" /></a></td></tr>\n",
       "<tr><td>2</td><td>Lambda</td><td>parameter:&nbsp;14<br>body:&nbsp;4<br></td><td><a class=\"ProveItLink\" href=\"../9610ae910138022e40e45884f38a4a911cdf52070/expr.ipynb\"><img src=\"../9610ae910138022e40e45884f38a4a911cdf52070/expr.png\" style=\"display:inline;vertical-align:middle;\" /></a></td></tr>\n",
       "<tr><td>3</td><td>Variable</td><td></td><td><a class=\"ProveItLink\" href=\"../../../../../__pv_it/common/674a03b9c3ca221b3aabd5636837b31528ff33830/expr.ipynb\"><img src=\"../../../../../__pv_it/common/674a03b9c3ca221b3aabd5636837b31528ff33830/expr.png\" style=\"display:inline;vertical-align:middle;\" /></a></td></tr>\n",
       "<tr><td>4</td><td>ExprRange</td><td>lambda_map:&nbsp;5<br>start_index:&nbsp;6<br>end_index:&nbsp;7<br></td><td><a class=\"ProveItLink\" href=\"../3415f6a6f24d09caaade7600c28f3b5139d942210/expr.ipynb\"><img src=\"../3415f6a6f24d09caaade7600c28f3b5139d942210/expr.png\" style=\"display:inline;vertical-align:middle;\" /></a></td></tr>\n",
       "<tr><td>5</td><td>Lambda</td><td>parameter:&nbsp;15<br>body:&nbsp;8<br></td><td><a class=\"ProveItLink\" href=\"../521384fadecf59da1bbb5d0d55368fadb071eb1b0/expr.ipynb\"><img src=\"../521384fadecf59da1bbb5d0d55368fadb071eb1b0/expr.png\" style=\"display:inline;vertical-align:middle;\" /></a></td></tr>\n",
       "<tr><td>6</td><td>Literal</td><td></td><td><a class=\"ProveItLink\" href=\"../../../../../numbers/numerals/__pv_it/common/2778428c7f555b2bdc06aa0530bc142c6e6335100/expr.ipynb\"><img src=\"../../../../../numbers/numerals/__pv_it/common/2778428c7f555b2bdc06aa0530bc142c6e6335100/expr.png\" style=\"display:inline;vertical-align:middle;\" /></a></td></tr>\n",
       "<tr><td>7</td><td>Variable</td><td></td><td><a class=\"ProveItLink\" href=\"../../../../../__pv_it/common/8968bb04eb3f7dfa02353397ce929b025bbd79c20/expr.ipynb\"><img src=\"../../../../../__pv_it/common/8968bb04eb3f7dfa02353397ce929b025bbd79c20/expr.png\" style=\"display:inline;vertical-align:middle;\" /></a></td></tr>\n",
       "<tr><td>8</td><td>ExprTuple</td><td>9, 10</td><td><a class=\"ProveItLink\" href=\"../b413bfb8f697cd986e1f2d2391330a2bda17a43e0/expr.ipynb\"><img src=\"../b413bfb8f697cd986e1f2d2391330a2bda17a43e0/expr.png\" style=\"display:inline;vertical-align:middle;\" /></a></td></tr>\n",
       "<tr><td>9</td><td>IndexedVar</td><td>variable:&nbsp;11<br>indices:&nbsp;13<br></td><td><a class=\"ProveItLink\" href=\"../bf871180f6c3ac509a4191f5fbec465b8d91a2170/expr.ipynb\"><img src=\"../bf871180f6c3ac509a4191f5fbec465b8d91a2170/expr.png\" style=\"display:inline;vertical-align:middle;\" /></a></td></tr>\n",
       "<tr><td>10</td><td>IndexedVar</td><td>variable:&nbsp;12<br>indices:&nbsp;13<br></td><td><a class=\"ProveItLink\" href=\"../55eb6de2b1eab7bb27324e48925d2b4e02ba7ec00/expr.ipynb\"><img src=\"../55eb6de2b1eab7bb27324e48925d2b4e02ba7ec00/expr.png\" style=\"display:inline;vertical-align:middle;\" /></a></td></tr>\n",
       "<tr><td>11</td><td>Variable</td><td></td><td><a class=\"ProveItLink\" href=\"../../../../../__pv_it/common/09585084922504426caf1db2ff588a23a0932a960/expr.ipynb\"><img src=\"../../../../../__pv_it/common/09585084922504426caf1db2ff588a23a0932a960/expr.png\" style=\"display:inline;vertical-align:middle;\" /></a></td></tr>\n",
       "<tr><td>12</td><td>Variable</td><td></td><td><a class=\"ProveItLink\" href=\"../../../../../__pv_it/common/a9162d1c3cc0470c02e5daf414500903a7a419230/expr.ipynb\"><img src=\"../../../../../__pv_it/common/a9162d1c3cc0470c02e5daf414500903a7a419230/expr.png\" style=\"display:inline;vertical-align:middle;\" /></a></td></tr>\n",
       "<tr><td>13</td><td>ExprTuple</td><td>14, 15</td><td><a class=\"ProveItLink\" href=\"../8089472df1a928dd45ace3fd9d98b01b2f1756ad0/expr.ipynb\"><img src=\"../8089472df1a928dd45ace3fd9d98b01b2f1756ad0/expr.png\" style=\"display:inline;vertical-align:middle;\" /></a></td></tr>\n",
       "<tr><td>14</td><td>Variable</td><td></td><td><a class=\"ProveItLink\" href=\"../../../../../__pv_it/common/ae955345c83abf786c3aff8681cd5465beae262d0/expr.ipynb\"><img src=\"../../../../../__pv_it/common/ae955345c83abf786c3aff8681cd5465beae262d0/expr.png\" style=\"display:inline;vertical-align:middle;\" /></a></td></tr>\n",
       "<tr><td>15</td><td>Variable</td><td></td><td><a class=\"ProveItLink\" href=\"../../../../../__pv_it/common/1ed21df18baca2f42b561a7ffbf30a2743d594650/expr.ipynb\"><img src=\"../../../../../__pv_it/common/1ed21df18baca2f42b561a7ffbf30a2743d594650/expr.png\" style=\"display:inline;vertical-align:middle;\" /></a></td></tr>\n",
       "</table>\n"
      ],
      "text/plain": [
       "0. A_{1, 1} & B_{1, 1}  \\\\ \n",
       "  \\colon & \\colon  \\\\ \n",
       "  A_{1, j} & B_{1, j}  \\\\ \n",
       "  \\colon & \\colon  \\\\ \n",
       "  A_{1, n} & B_{1, n}  \\\\ \n",
       "  \\colon & \\colon  \\\\ \n",
       "  \\colon & \\colon  \\\\ \n",
       "  A_{i, 1} & B_{i, 1}  \\\\ \n",
       "  \\colon & \\colon  \\\\ \n",
       "  A_{i, j} & B_{i, j}  \\\\ \n",
       "  \\colon & \\colon  \\\\ \n",
       "  A_{i, n} & B_{i, n}  \\\\ \n",
       "  \\colon & \\colon  \\\\ \n",
       "  \\colon & \\colon  \\\\ \n",
       "  A_{m, 1} & B_{m, 1}  \\\\ \n",
       "  \\colon & \\colon  \\\\ \n",
       "  A_{m, j} & B_{m, j}  \\\\ \n",
       "  \\colon & \\colon  \\\\ \n",
       "  A_{m, n} & B_{m, n}\n",
       "   core type: ExprTuple\n",
       "   sub-expressions: 1\n",
       "1. (A_{1, 1}, B_{1, 1}), ..(A_{1, j}, B_{1, j}).., (A_{1, n}, B_{1, n}), ....(A_{i, 1}, B_{i, 1}), ..(A_{i, j}, B_{i, j}).., (A_{i, n}, B_{i, n})...., (A_{m, 1}, B_{m, 1}), ..(A_{m, j}, B_{m, j}).., (A_{m, n}, B_{m, n})\n",
       "   core type: ExprRange\n",
       "   lambda_map: 2\n",
       "   start_index: 6\n",
       "   end_index: 3\n",
       "2. i -> (A_{i, 1}, B_{i, 1}), ..(A_{i, j}, B_{i, j}).., (A_{i, n}, B_{i, n})\n",
       "   core type: Lambda\n",
       "   parameter: 14\n",
       "   body: 4\n",
       "3. m\n",
       "   core type: Variable\n",
       "   sub-expressions: \n",
       "4. (A_{i, 1}, B_{i, 1}), ..(A_{i, j}, B_{i, j}).., (A_{i, n}, B_{i, n})\n",
       "   core type: ExprRange\n",
       "   lambda_map: 5\n",
       "   start_index: 6\n",
       "   end_index: 7\n",
       "5. j -> (A_{i, j}, B_{i, j})\n",
       "   core type: Lambda\n",
       "   parameter: 15\n",
       "   body: 8\n",
       "6. 1\n",
       "   core type: Literal\n",
       "   sub-expressions: \n",
       "7. n\n",
       "   core type: Variable\n",
       "   sub-expressions: \n",
       "8. (A_{i, j}, B_{i, j})\n",
       "   core type: ExprTuple\n",
       "   sub-expressions: 9, 10\n",
       "9. A_{i, j}\n",
       "   core type: IndexedVar\n",
       "variable: 11\n",
       "indices: 13\n",
       "10. B_{i, j}\n",
       "    core type: IndexedVar\n",
       "variable: 12\n",
       "indices: 13\n",
       "11. A\n",
       "    core type: Variable\n",
       "    sub-expressions: \n",
       "12. B\n",
       "    core type: Variable\n",
       "    sub-expressions: \n",
       "13. (i, j)\n",
       "    core type: ExprTuple\n",
       "    sub-expressions: 14, 15\n",
       "14. i\n",
       "    core type: Variable\n",
       "    sub-expressions: \n",
       "15. j\n",
       "    core type: Variable\n",
       "    sub-expressions: "
      ]
     },
     "execution_count": 5,
     "metadata": {},
     "output_type": "execute_result"
    }
   ],
   "source": [
    "# display the expression information\n",
    "expr.expr_info()"
   ]
  },
  {
   "cell_type": "code",
   "execution_count": null,
   "metadata": {},
   "outputs": [],
   "source": []
  }
 ],
 "metadata": {
  "kernelspec": {
   "display_name": "Python 3",
   "language": "python",
   "name": "python3"
  }
 },
 "nbformat": 4,
 "nbformat_minor": 0
}