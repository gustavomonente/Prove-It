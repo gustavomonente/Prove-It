{
 "cells": [
  {
   "cell_type": "markdown",
   "metadata": {},
   "source": [
    "Expression of type <a class=\"ProveItLink\" href=\"../../../../../../../doc/html/api/proveit.ExprArray.html\">ExprArray</a>\n",
    "=======================\n",
    "# from the theory of <a class=\"ProveItLink\" href=\"../../../_theory_nbs_/theory.ipynb\">proveit.core_expr_types.expr_arrays</a>"
   ]
  },
  {
   "cell_type": "code",
   "execution_count": 1,
   "metadata": {},
   "outputs": [],
   "source": [
    "import proveit\n",
    "# Automation is not needed when building an expression:\n",
    "proveit.defaults.automation = False # This will speed things up.\n",
    "proveit.defaults.inline_pngs = False # Makes files smaller.\n",
    "%load_expr # Load the stored expression as 'stored_expr'\n",
    "# import Expression classes needed to build the expression\n",
    "from proveit import A, B, C, D, ExprArray, ExprRange, IndexedVar, Variable, i, j"
   ]
  },
  {
   "cell_type": "code",
   "execution_count": 2,
   "metadata": {},
   "outputs": [
    {
     "data": {
      "text/html": [
       "<strong id=\"expr\">expr:</strong> <a class=\"ProveItLink\" href=\"expr.ipynb\"><img src=\"expr.png\" style=\"display:inline;vertical-align:middle;\" /></a><br>"
      ],
      "text/plain": [
       "expr: A_{i} & C_{i}  \\\\ \n",
       "  \\vdots & \\vdots  \\\\ \n",
       "  A_{j} & C_{j}  \\\\ \n",
       "  B_{i} & D_{i}  \\\\ \n",
       "  \\vdots & \\vdots  \\\\ \n",
       "  B_{j} & D_{j}  \\\\ \n",
       " "
      ]
     },
     "execution_count": 2,
     "metadata": {},
     "output_type": "execute_result"
    }
   ],
   "source": [
    "# build up the expression from sub-expressions\n",
    "sub_expr1 = Variable(\"_a\", latex_format = r\"{_{-}a}\")\n",
    "expr = ExprArray([ExprRange(sub_expr1, IndexedVar(A, sub_expr1), i, j), ExprRange(sub_expr1, IndexedVar(B, sub_expr1), i, j)], [ExprRange(sub_expr1, IndexedVar(C, sub_expr1), i, j), ExprRange(sub_expr1, IndexedVar(D, sub_expr1), i, j)]).with_orientation(\"vertical\").with_implicit_parameterization()"
   ]
  },
  {
   "cell_type": "code",
   "execution_count": 3,
   "metadata": {},
   "outputs": [
    {
     "name": "stdout",
     "output_type": "stream",
     "text": [
      "Passed sanity check: expr matches stored_expr\n"
     ]
    }
   ],
   "source": [
    "# check that the built expression is the same as the stored expression\n",
    "assert expr == stored_expr\n",
    "assert expr._style_id == stored_expr._style_id\n",
    "print(\"Passed sanity check: expr matches stored_expr\")"
   ]
  },
  {
   "cell_type": "code",
   "execution_count": 4,
   "metadata": {},
   "outputs": [
    {
     "name": "stdout",
     "output_type": "stream",
     "text": [
      "\\begin{array} {cc} \n",
      " A_{i} & C_{i}  \\\\ \n",
      "  \\vdots & \\vdots  \\\\ \n",
      "  A_{j} & C_{j}  \\\\ \n",
      "  B_{i} & D_{i}  \\\\ \n",
      "  \\vdots & \\vdots  \\\\ \n",
      "  B_{j} & D_{j}  \\\\ \n",
      "  \\end{array} \n",
      "\n"
     ]
    }
   ],
   "source": [
    "# Show the LaTeX representation of the expression for convenience if you need it.\n",
    "print(expr.latex())"
   ]
  },
  {
   "cell_type": "code",
   "execution_count": 5,
   "metadata": {},
   "outputs": [
    {
     "data": {
      "text/html": [
       "<table>\n",
       "<tr><th>name</th><th>description</th><th>default</th><th>current value</th><th>related methods</th></tr><tr><td>justification</td><td>justify to the 'left', 'center', or 'right' in the array cells</td><td>center</td><td>center</td><td>with_justification</td></tr>\n",
       "<tr><td>orientation</td><td>to be read from left to right then top to bottom ('horizontal') or to be read top to bottom then left to right ('vertical')</td><td>horizontal</td><td>vertical</td><td>with_orientation</td></tr>\n",
       "<tr><td>parameterization</td><td>'implicit' (default for LaTeX formatting) hides the parameter the ExprRange so the parameterization may be ambiguous (e.g., x_{1+1}, ..., x_{n+1}); 'explicit' (default for string formatting) reveals the parameterization (e.g. x_{1+1}, ..x_{k+1}.., x_{n+1}).</td><td>None</td><td>implicit</td><td>('with_explicit_parameterization', 'with_implicit_parameterization', 'with_default_parameterization_style')</td></tr>\n",
       "</table>\n"
      ],
      "text/plain": [
       "style name: justification\n",
       "description: justify to the 'left', 'center', or 'right' in the array cells\n",
       "default: center\n",
       "current value: center\n",
       "related methods: with_justification\n",
       "style name: orientation\n",
       "description: to be read from left to right then top to bottom ('horizontal') or to be read top to bottom then left to right ('vertical')\n",
       "default: horizontal\n",
       "current value: vertical\n",
       "related methods: with_orientation\n",
       "style name: parameterization\n",
       "description: 'implicit' (default for LaTeX formatting) hides the parameter the ExprRange so the parameterization may be ambiguous (e.g., x_{1+1}, ..., x_{n+1}); 'explicit' (default for string formatting) reveals the parameterization (e.g. x_{1+1}, ..x_{k+1}.., x_{n+1}).\n",
       "default: None\n",
       "current value: implicit\n",
       "related methods: ('with_explicit_parameterization', 'with_implicit_parameterization', 'with_default_parameterization_style')"
      ]
     },
     "execution_count": 5,
     "metadata": {},
     "output_type": "execute_result"
    }
   ],
   "source": [
    "expr.style_options()"
   ]
  },
  {
   "cell_type": "code",
   "execution_count": 6,
   "metadata": {},
   "outputs": [
    {
     "data": {
      "text/html": [
       "<table><tr><th>&nbsp;</th><th>core type</th><th>sub-expressions</th><th>expression</th></tr>\n",
       "<tr><td>0</td><td>ExprTuple</td><td>1, 2</td><td><a class=\"ProveItLink\" href=\"expr.ipynb\"><img src=\"expr.png\" style=\"display:inline;vertical-align:middle;\" /></a></td></tr>\n",
       "<tr><td>1</td><td>ExprTuple</td><td>3, 4</td><td><a class=\"ProveItLink\" href=\"../3129b401a18b4f9af3dcae96e1f844adc97d383f0/expr.ipynb\"><img src=\"../3129b401a18b4f9af3dcae96e1f844adc97d383f0/expr.png\" style=\"display:inline;vertical-align:middle;\" /></a></td></tr>\n",
       "<tr><td>2</td><td>ExprTuple</td><td>5, 6</td><td><a class=\"ProveItLink\" href=\"../ff515dd4d2dd253ac1dd4a53379ef8e21399e60d0/expr.ipynb\"><img src=\"../ff515dd4d2dd253ac1dd4a53379ef8e21399e60d0/expr.png\" style=\"display:inline;vertical-align:middle;\" /></a></td></tr>\n",
       "<tr><td>3</td><td>ExprRange</td><td>lambda_map:&nbsp;7<br>start_index:&nbsp;11<br>end_index:&nbsp;12<br></td><td><a class=\"ProveItLink\" href=\"../c733d719779c7b99bf852ff2e9172b4cd55eeec80/expr.ipynb\"><img src=\"../c733d719779c7b99bf852ff2e9172b4cd55eeec80/expr.png\" style=\"display:inline;vertical-align:middle;\" /></a></td></tr>\n",
       "<tr><td>4</td><td>ExprRange</td><td>lambda_map:&nbsp;8<br>start_index:&nbsp;11<br>end_index:&nbsp;12<br></td><td><a class=\"ProveItLink\" href=\"../dd294d55e1bdd70d94bd7e5f2d7a59594f268cde0/expr.ipynb\"><img src=\"../dd294d55e1bdd70d94bd7e5f2d7a59594f268cde0/expr.png\" style=\"display:inline;vertical-align:middle;\" /></a></td></tr>\n",
       "<tr><td>5</td><td>ExprRange</td><td>lambda_map:&nbsp;9<br>start_index:&nbsp;11<br>end_index:&nbsp;12<br></td><td><a class=\"ProveItLink\" href=\"../b76a592ae6e3c09d553b34b2b19e8dd777c4d45b0/expr.ipynb\"><img src=\"../b76a592ae6e3c09d553b34b2b19e8dd777c4d45b0/expr.png\" style=\"display:inline;vertical-align:middle;\" /></a></td></tr>\n",
       "<tr><td>6</td><td>ExprRange</td><td>lambda_map:&nbsp;10<br>start_index:&nbsp;11<br>end_index:&nbsp;12<br></td><td><a class=\"ProveItLink\" href=\"../6396262c547f076f945bae1b1aa3440e8d2f79da0/expr.ipynb\"><img src=\"../6396262c547f076f945bae1b1aa3440e8d2f79da0/expr.png\" style=\"display:inline;vertical-align:middle;\" /></a></td></tr>\n",
       "<tr><td>7</td><td>Lambda</td><td>parameter:&nbsp;22<br>body:&nbsp;13<br></td><td><a class=\"ProveItLink\" href=\"../7cb3671e4363a47742a54e63b73ddf8e8fe2c9390/expr.ipynb\"><img src=\"../7cb3671e4363a47742a54e63b73ddf8e8fe2c9390/expr.png\" style=\"display:inline;vertical-align:middle;\" /></a></td></tr>\n",
       "<tr><td>8</td><td>Lambda</td><td>parameter:&nbsp;22<br>body:&nbsp;14<br></td><td><a class=\"ProveItLink\" href=\"../02c8c006a9ec368154b7bff99c95899c5fb743200/expr.ipynb\"><img src=\"../02c8c006a9ec368154b7bff99c95899c5fb743200/expr.png\" style=\"display:inline;vertical-align:middle;\" /></a></td></tr>\n",
       "<tr><td>9</td><td>Lambda</td><td>parameter:&nbsp;22<br>body:&nbsp;15<br></td><td><a class=\"ProveItLink\" href=\"../4c1da7aa00988c869f86b048280afeb169884b440/expr.ipynb\"><img src=\"../4c1da7aa00988c869f86b048280afeb169884b440/expr.png\" style=\"display:inline;vertical-align:middle;\" /></a></td></tr>\n",
       "<tr><td>10</td><td>Lambda</td><td>parameter:&nbsp;22<br>body:&nbsp;16<br></td><td><a class=\"ProveItLink\" href=\"../bf3815308de7cd6e79cf5a8b71344e821ff307b30/expr.ipynb\"><img src=\"../bf3815308de7cd6e79cf5a8b71344e821ff307b30/expr.png\" style=\"display:inline;vertical-align:middle;\" /></a></td></tr>\n",
       "<tr><td>11</td><td>Variable</td><td></td><td><a class=\"ProveItLink\" href=\"../../../../../__pv_it/common/575a6156bb1c87c5beeaf38c302b5905ad57f5780/expr.ipynb\"><img src=\"../../../../../__pv_it/common/575a6156bb1c87c5beeaf38c302b5905ad57f5780/expr.png\" style=\"display:inline;vertical-align:middle;\" /></a></td></tr>\n",
       "<tr><td>12</td><td>Variable</td><td></td><td><a class=\"ProveItLink\" href=\"../../../../../__pv_it/common/5514cc9a63b9c2ed9b63934dd5e088ab0d4f10080/expr.ipynb\"><img src=\"../../../../../__pv_it/common/5514cc9a63b9c2ed9b63934dd5e088ab0d4f10080/expr.png\" style=\"display:inline;vertical-align:middle;\" /></a></td></tr>\n",
       "<tr><td>13</td><td>IndexedVar</td><td>variable:&nbsp;17<br>index:&nbsp;22<br></td><td><a class=\"ProveItLink\" href=\"../44c047560b26e24c2a9af7e0d00ef8bc5e74e7580/expr.ipynb\"><img src=\"../44c047560b26e24c2a9af7e0d00ef8bc5e74e7580/expr.png\" style=\"display:inline;vertical-align:middle;\" /></a></td></tr>\n",
       "<tr><td>14</td><td>IndexedVar</td><td>variable:&nbsp;18<br>index:&nbsp;22<br></td><td><a class=\"ProveItLink\" href=\"../ea3ee9a0627bf44c889015ae8c7679796d32e3c60/expr.ipynb\"><img src=\"../ea3ee9a0627bf44c889015ae8c7679796d32e3c60/expr.png\" style=\"display:inline;vertical-align:middle;\" /></a></td></tr>\n",
       "<tr><td>15</td><td>IndexedVar</td><td>variable:&nbsp;19<br>index:&nbsp;22<br></td><td><a class=\"ProveItLink\" href=\"../0ee3702df5b7424b59efa90500e629500c821e270/expr.ipynb\"><img src=\"../0ee3702df5b7424b59efa90500e629500c821e270/expr.png\" style=\"display:inline;vertical-align:middle;\" /></a></td></tr>\n",
       "<tr><td>16</td><td>IndexedVar</td><td>variable:&nbsp;20<br>index:&nbsp;22<br></td><td><a class=\"ProveItLink\" href=\"../1ada030c912c610d50fdaae446346fff369f9e480/expr.ipynb\"><img src=\"../1ada030c912c610d50fdaae446346fff369f9e480/expr.png\" style=\"display:inline;vertical-align:middle;\" /></a></td></tr>\n",
       "<tr><td>17</td><td>Variable</td><td></td><td><a class=\"ProveItLink\" href=\"../../../../../__pv_it/common/e4aad701f7f5516d8e7f0d805d518bf02c13322a0/expr.ipynb\"><img src=\"../../../../../__pv_it/common/e4aad701f7f5516d8e7f0d805d518bf02c13322a0/expr.png\" style=\"display:inline;vertical-align:middle;\" /></a></td></tr>\n",
       "<tr><td>18</td><td>Variable</td><td></td><td><a class=\"ProveItLink\" href=\"../../../../../__pv_it/common/4eca3b30dcf58a58494e201d1b7886d8643a617b0/expr.ipynb\"><img src=\"../../../../../__pv_it/common/4eca3b30dcf58a58494e201d1b7886d8643a617b0/expr.png\" style=\"display:inline;vertical-align:middle;\" /></a></td></tr>\n",
       "<tr><td>19</td><td>Variable</td><td></td><td><a class=\"ProveItLink\" href=\"../../../../../__pv_it/common/c4a83a53f0ed6678b0c7a2d6d691a4b400f735c90/expr.ipynb\"><img src=\"../../../../../__pv_it/common/c4a83a53f0ed6678b0c7a2d6d691a4b400f735c90/expr.png\" style=\"display:inline;vertical-align:middle;\" /></a></td></tr>\n",
       "<tr><td>20</td><td>Variable</td><td></td><td><a class=\"ProveItLink\" href=\"../../../../../__pv_it/common/e5e296931d7f88d2c0ed4dd1b8498a680788952f0/expr.ipynb\"><img src=\"../../../../../__pv_it/common/e5e296931d7f88d2c0ed4dd1b8498a680788952f0/expr.png\" style=\"display:inline;vertical-align:middle;\" /></a></td></tr>\n",
       "<tr><td>21</td><td>ExprTuple</td><td>22</td><td><a class=\"ProveItLink\" href=\"../ecf50ade416ab41c42c9f4e777b4c862cd9469670/expr.ipynb\"><img src=\"../ecf50ade416ab41c42c9f4e777b4c862cd9469670/expr.png\" style=\"display:inline;vertical-align:middle;\" /></a></td></tr>\n",
       "<tr><td>22</td><td>Variable</td><td></td><td><a class=\"ProveItLink\" href=\"../9e6d9d5d7eeb0342cf5bca68def0eb165a1a9bb10/expr.ipynb\"><img src=\"../9e6d9d5d7eeb0342cf5bca68def0eb165a1a9bb10/expr.png\" style=\"display:inline;vertical-align:middle;\" /></a></td></tr>\n",
       "</table>\n"
      ],
      "text/plain": [
       "0. A_{i} & C_{i}  \\\\ \n",
       "  \\vdots & \\vdots  \\\\ \n",
       "  A_{j} & C_{j}  \\\\ \n",
       "  B_{i} & D_{i}  \\\\ \n",
       "  \\vdots & \\vdots  \\\\ \n",
       "  B_{j} & D_{j}  \\\\ \n",
       " \n",
       "   core type: ExprTuple\n",
       "   sub-expressions: 1, 2\n",
       "1. (A_{i}, ..A_{_a}.., A_{j}, B_{i}, ..B_{_a}.., B_{j})\n",
       "   core type: ExprTuple\n",
       "   sub-expressions: 3, 4\n",
       "2. (C_{i}, ..C_{_a}.., C_{j}, D_{i}, ..D_{_a}.., D_{j})\n",
       "   core type: ExprTuple\n",
       "   sub-expressions: 5, 6\n",
       "3. A_{i}, ..A_{_a}.., A_{j}\n",
       "   core type: ExprRange\n",
       "   lambda_map: 7\n",
       "   start_index: 11\n",
       "   end_index: 12\n",
       "4. B_{i}, ..B_{_a}.., B_{j}\n",
       "   core type: ExprRange\n",
       "   lambda_map: 8\n",
       "   start_index: 11\n",
       "   end_index: 12\n",
       "5. C_{i}, ..C_{_a}.., C_{j}\n",
       "   core type: ExprRange\n",
       "   lambda_map: 9\n",
       "   start_index: 11\n",
       "   end_index: 12\n",
       "6. D_{i}, ..D_{_a}.., D_{j}\n",
       "   core type: ExprRange\n",
       "   lambda_map: 10\n",
       "   start_index: 11\n",
       "   end_index: 12\n",
       "7. _a -> A_{_a}\n",
       "   core type: Lambda\n",
       "   parameter: 22\n",
       "   body: 13\n",
       "8. _a -> B_{_a}\n",
       "   core type: Lambda\n",
       "   parameter: 22\n",
       "   body: 14\n",
       "9. _a -> C_{_a}\n",
       "   core type: Lambda\n",
       "   parameter: 22\n",
       "   body: 15\n",
       "10. _a -> D_{_a}\n",
       "    core type: Lambda\n",
       "    parameter: 22\n",
       "    body: 16\n",
       "11. i\n",
       "    core type: Variable\n",
       "    sub-expressions: \n",
       "12. j\n",
       "    core type: Variable\n",
       "    sub-expressions: \n",
       "13. A_{_a}\n",
       "    core type: IndexedVar\n",
       "variable: 17\n",
       "index: 22\n",
       "14. B_{_a}\n",
       "    core type: IndexedVar\n",
       "variable: 18\n",
       "index: 22\n",
       "15. C_{_a}\n",
       "    core type: IndexedVar\n",
       "variable: 19\n",
       "index: 22\n",
       "16. D_{_a}\n",
       "    core type: IndexedVar\n",
       "variable: 20\n",
       "index: 22\n",
       "17. A\n",
       "    core type: Variable\n",
       "    sub-expressions: \n",
       "18. B\n",
       "    core type: Variable\n",
       "    sub-expressions: \n",
       "19. C\n",
       "    core type: Variable\n",
       "    sub-expressions: \n",
       "20. D\n",
       "    core type: Variable\n",
       "    sub-expressions: \n",
       "21. (_a)\n",
       "    core type: ExprTuple\n",
       "    sub-expressions: 22\n",
       "22. _a\n",
       "    core type: Variable\n",
       "    sub-expressions: "
      ]
     },
     "execution_count": 6,
     "metadata": {},
     "output_type": "execute_result"
    }
   ],
   "source": [
    "# display the expression information\n",
    "expr.expr_info()"
   ]
  },
  {
   "cell_type": "code",
   "execution_count": null,
   "metadata": {},
   "outputs": [],
   "source": []
  }
 ],
 "metadata": {
  "kernelspec": {
   "display_name": "Python 3",
   "language": "python",
   "name": "python3"
  }
 },
 "nbformat": 4,
 "nbformat_minor": 0
}