{
 "cells": [
  {
   "cell_type": "markdown",
   "metadata": {},
   "source": [
    "Common expressions for the theory of <a class=\"ProveItLink\" href=\"theory.ipynb\">proveit.core_expr_types.expr_arrays</a>\n",
    "========"
   ]
  },
  {
   "cell_type": "code",
   "execution_count": 1,
   "metadata": {},
   "outputs": [],
   "source": [
    "import proveit\n",
    "# Prepare this notebook for defining the common expressions of a theory:\n",
    "%common_expressions_notebook # Keep this at the top following 'import proveit'.\n",
    "from proveit import IndexedVar, var_range\n",
    "from proveit import A, B, C, D, E, P, Q, R, S, g, h, i, j, k, m, n \n",
    "from proveit.numbers import one"
   ]
  },
  {
   "cell_type": "code",
   "execution_count": 2,
   "metadata": {},
   "outputs": [
    {
     "name": "stdout",
     "output_type": "stream",
     "text": [
      "Defining common sub-expressions for theory 'proveit.core_expr_types.expr_arrays'\n",
      "Subsequent end-of-cell assignments will define common sub-expressions\n",
      "%end_common will finalize the definitions\n"
     ]
    }
   ],
   "source": [
    "%begin common"
   ]
  },
  {
   "cell_type": "code",
   "execution_count": 3,
   "metadata": {},
   "outputs": [
    {
     "data": {
      "text/html": [
       "<strong id=\"Aij\">Aij:</strong> <a class=\"ProveItLink\" href=\"../__pv_it/common/bf871180f6c3ac509a4191f5fbec465b8d91a2170/common_expr.ipynb\"><img src=\"data:image/png;base64,iVBORw0KGgoAAAANSUhEUgAAACIAAAAUBAMAAAAaSvJBAAAAMFBMVEX///92dnYiIiIQEBBERERU\n",
       "VFS6urqIiIjc3NxmZmaqqqru7u6YmJgyMjLMzMwAAADiRdoGAAAAAXRSTlMAQObYZgAAALNJREFU\n",
       "GNNjYACBtwzo4D66AM/9DWgiu+Y3oIkcqE9AFWDbsP4Aqsg2hvcFDAzsE8CceyAigaEfyOODmLUA\n",
       "iPkiZ8Y7oBrDwMB8AUUEqI7JgIGtFMTmrgTyOICY9wMDIz/IlZxsQNVNQAbLD4buRSA1OxgDGLb8\n",
       "v83A5f9pAoM72AgWhMu4fz8AUfwI/3BdEODwZmB4jLCRO7CBz4qBoQTVO1wMUNPgYAVrhjVaqLCK\n",
       "NjAAAGxcKbkObbsaAAAAAElFTkSuQmCC\n",
       "\" style=\"display:inline;vertical-align:middle;\" /></a><br>"
      ],
      "text/plain": [
       "Aij: A_{i, j}"
      ]
     },
     "execution_count": 3,
     "metadata": {},
     "output_type": "execute_result"
    }
   ],
   "source": [
    "Aij = IndexedVar(A, [i, j])"
   ]
  },
  {
   "cell_type": "code",
   "execution_count": 4,
   "metadata": {},
   "outputs": [
    {
     "data": {
      "text/html": [
       "<strong id=\"Bij\">Bij:</strong> <a class=\"ProveItLink\" href=\"../__pv_it/common/55eb6de2b1eab7bb27324e48925d2b4e02ba7ec00/common_expr.ipynb\"><img src=\"data:image/png;base64,iVBORw0KGgoAAAANSUhEUgAAACIAAAAUBAMAAAAaSvJBAAAAMFBMVEX///92dnYyMjKqqqoiIiLu\n",
       "7u7c3NyIiIjMzMwQEBC6urpERERmZmZUVFSYmJgAAADEjrHzAAAAAXRSTlMAQObYZgAAAMdJREFU\n",
       "GNNjYGB4+//O2d0LGJDBbAYGnh/IAhz/GBi4/iCLsH9jYOD7jizCPYGBIdIVWYT/AgOHbwCySP+9\n",
       "51sMgJoPgHkaQFyfwMA6F2hBAlgEKMewEyRqgKzrL0ikAM05DPcXcNWCOKw1BhDncPxmYOQHWcfD\n",
       "pcDAwAR0zsqtDKkmIDVhjBcYePX/nrm9GcjZDnHuA7hxrF8bwM5NgIswKwiwbWVg6ERYyXoxgWMy\n",
       "A0M1SjgxMMNMgwMz3mVTUUUe8MomMAAAnMwvda43Vr0AAAAASUVORK5CYII=\n",
       "\" style=\"display:inline;vertical-align:middle;\" /></a><br>"
      ],
      "text/plain": [
       "Bij: B_{i, j}"
      ]
     },
     "execution_count": 4,
     "metadata": {},
     "output_type": "execute_result"
    }
   ],
   "source": [
    "Bij = IndexedVar(B,(i,j))"
   ]
  },
  {
   "cell_type": "code",
   "execution_count": 5,
   "metadata": {},
   "outputs": [
    {
     "data": {
      "text/html": [
       "<strong id=\"Cij\">Cij:</strong> <a class=\"ProveItLink\" href=\"../__pv_it/common/7bec3d14c7dbc593c85701588c082b29f96381740/common_expr.ipynb\"><img src=\"data:image/png;base64,iVBORw0KGgoAAAANSUhEUgAAACAAAAAUBAMAAAAevyJ8AAAAMFBMVEX////MzMy6uroyMjIiIiKq\n",
       "qqoQEBB2dnbc3NyYmJhmZmZUVFRERESIiIju7u4AAACOKgoaAAAAAXRSTlMAQObYZgAAALlJREFU\n",
       "GNNjYGDgu7NrJ0cBAwJcm8DAumwCgv/GD0isb0AImD0AEmoIPtdXECmFEOh3AJEvEAL1FyA07wIw\n",
       "ZcjgLwARYIQYG8CQDzKT4QFCiz+IYBVACIBdwM7AdBvE4bsVwNAPMrSOgZ0fpIuLyYCB9ScDQ9QD\n",
       "hr4QsO3sGxgYXp3epQBknwUbwAP3E98/sLn8cD+xGhRwnGNgEINbxre9gTGVgeEOAzJghZkEAxHc\n",
       "GnkoAhO4qxsYALgyKgtOzJIlAAAAAElFTkSuQmCC\n",
       "\" style=\"display:inline;vertical-align:middle;\" /></a><br>"
      ],
      "text/plain": [
       "Cij: C_{i, j}"
      ]
     },
     "execution_count": 5,
     "metadata": {},
     "output_type": "execute_result"
    }
   ],
   "source": [
    "Cij = IndexedVar(C,(i,j))"
   ]
  },
  {
   "cell_type": "code",
   "execution_count": 6,
   "metadata": {},
   "outputs": [
    {
     "data": {
      "text/html": [
       "<strong id=\"Dij\">Dij:</strong> <a class=\"ProveItLink\" href=\"../__pv_it/common/35c5ed29b546e74ab9613fb90747b64ba7fc06230/common_expr.ipynb\"><img src=\"data:image/png;base64,iVBORw0KGgoAAAANSUhEUgAAACMAAAAUBAMAAAD1iJl/AAAAMFBMVEX///8iIiLu7u52dna6uroQ\n",
       "EBBmZmaIiIjMzMyqqqoyMjLc3NxERERUVFSYmJgAAAAdjRNVAAAAAXRSTlMAQObYZgAAAMJJREFU\n",
       "GNNjYGB4+//snbMbGFDALwYGvp8oIhzfgUQqihD7DyDh/wBZiOcDkNhvgCzEfwCk6gKyUH8BkKg3\n",
       "YCgD87gaQDwQcd+BoRssxAkizoOIryg2/gFivn8YzlI9wOAOtkA9E+osplUMDAafQEIJXiArgM5y\n",
       "TGDg1hQAcpg22DIw8K7/m3snG+TiArA555DM1NcAU7+RhGYxM+xRYOAIQBLStWZoncDAfgA14Bgm\n",
       "wEyEA84NV7YqoArxMVy+zcAAABMfMMMJNpBEAAAAAElFTkSuQmCC\n",
       "\" style=\"display:inline;vertical-align:middle;\" /></a><br>"
      ],
      "text/plain": [
       "Dij: D_{i, j}"
      ]
     },
     "execution_count": 6,
     "metadata": {},
     "output_type": "execute_result"
    }
   ],
   "source": [
    "Dij = IndexedVar(D,(i,j))"
   ]
  },
  {
   "cell_type": "code",
   "execution_count": 7,
   "metadata": {},
   "outputs": [
    {
     "data": {
      "text/html": [
       "<strong id=\"Eij\">Eij:</strong> <a class=\"ProveItLink\" href=\"../__pv_it/common/8bc3cae52db4f8a983d8c745d4c7cb9a7be2077a0/common_expr.ipynb\"><img src=\"data:image/png;base64,iVBORw0KGgoAAAANSUhEUgAAACEAAAAUBAMAAADxfUlCAAAAMFBMVEX///+qqqoQEBDc3NzMzMx2\n",
       "dnbu7u66urqYmJgyMjIiIiJUVFRmZmZERESIiIgAAADRBAegAAAAAXRSTlMAQObYZgAAAL1JREFU\n",
       "GNNjYGB4+//O6V0/GZABiNeLLMD+D0jkIIuwfgESecginB8YWBmYkUX4LzB0oJjLUD9n02cg9Qai\n",
       "wQFIxDswTABSzmARRhAxn4EhgMEBWddfBoYEtgfozmFNqNsA4uQdhDnHmyHgG0jkQCWQ4PoAVKfC\n",
       "nLgAyGYziGZgyJ7/+8ze9RMYeCEm3UAYl58Cpj4jRCRZGWwTGFgUECLZwQxOAgx8F1D9IwAzDQYY\n",
       "DbYbJaCIcDBs3czAAAAEOy43MMQDMAAAAABJRU5ErkJggg==\n",
       "\" style=\"display:inline;vertical-align:middle;\" /></a><br>"
      ],
      "text/plain": [
       "Eij: E_{i, j}"
      ]
     },
     "execution_count": 7,
     "metadata": {},
     "output_type": "execute_result"
    }
   ],
   "source": [
    "Eij = IndexedVar(E,(i,j))"
   ]
  },
  {
   "cell_type": "code",
   "execution_count": 8,
   "metadata": {},
   "outputs": [
    {
     "data": {
      "text/html": [
       "<strong id=\"Pij\">Pij:</strong> <a class=\"ProveItLink\" href=\"../__pv_it/common/b49c74ce7d6bce5d7cb998aa71b98200ae4857f90/common_expr.ipynb\"><img src=\"data:image/png;base64,iVBORw0KGgoAAAANSUhEUgAAAB8AAAAUBAMAAACHR/vJAAAAMFBMVEX///8iIiLc3Ny6urqIiIiq\n",
       "qqp2dnbMzMwQEBDu7u5mZmYyMjJERERUVFSYmJgAAAA4CJ/KAAAAAXRSTlMAQObYZgAAALZJREFU\n",
       "GNNjYGB4+//s3V0TGJDAbwYGnk4kPvs3BgbWL0gCLJ+B+BuSAM8HBgbez0gC/BsYGPQXIAnUJzCw\n",
       "ijF4gdncBUDC/1rakgkMRWABVhBxHsUNQPARjc/+C0SaXACRU5ZCncHAkPATRC6wBhkMYjJNFQCS\n",
       "nAq5DAxc+/86gFznANZ/Dm7S/Olg6hNcIJqNQWcCA3sDXGBuEkNFAAPLARQHBMBMggJWhcsaKI7m\n",
       "Y7h2iYEBALzlK0r3xhJ6AAAAAElFTkSuQmCC\n",
       "\" style=\"display:inline;vertical-align:middle;\" /></a><br>"
      ],
      "text/plain": [
       "Pij: P_{i, j}"
      ]
     },
     "execution_count": 8,
     "metadata": {},
     "output_type": "execute_result"
    }
   ],
   "source": [
    "Pij = IndexedVar(P,(i,j))"
   ]
  },
  {
   "cell_type": "code",
   "execution_count": 9,
   "metadata": {},
   "outputs": [
    {
     "data": {
      "text/html": [
       "<strong id=\"Qij\">Qij:</strong> <a class=\"ProveItLink\" href=\"../__pv_it/common/9b3ea2d03b0fd20df88a03ba9f28bffc9dd7b1170/common_expr.ipynb\"><img src=\"data:image/png;base64,iVBORw0KGgoAAAANSUhEUgAAACEAAAAUBAMAAADxfUlCAAAAMFBMVEX///+qqqq6urrc3NwQEBAy\n",
       "MjJERERUVFTMzMwiIiKYmJh2dnZmZmaIiIju7u4AAABsX1SbAAAAAXRSTlMAQObYZgAAANpJREFU\n",
       "GNNjYGDgu7P7FAMK2NnAwJ6ALPA0AKjMG1kk5AGQqEcS4P4FIvcbIETsJ4DI8woIkf0XQGR+A8Md\n",
       "MJe1gWF+A4jxn4GhGSzCCGSDDGb8jmTyFBDB+Q9JpARE3L/AoFsAYrw9yMDQ/+DtDY4/DAwbwMoO\n",
       "qDIw8F5YwL1+AwPzQ5Ar+Ay2A8m+6pvJDA0MbGBXMGSBSfYGLgOG9y/A7M9gku2AGgODKDeD2QMG\n",
       "DgewCM//HwwMzzcztAgw8EKChWOKAMQlAjDTYIDRoMjkAYoIF0N1MQMDAIczOViqQ0wZAAAAAElF\n",
       "TkSuQmCC\n",
       "\" style=\"display:inline;vertical-align:middle;\" /></a><br>"
      ],
      "text/plain": [
       "Qij: Q_{i, j}"
      ]
     },
     "execution_count": 9,
     "metadata": {},
     "output_type": "execute_result"
    }
   ],
   "source": [
    "Qij = IndexedVar(Q,(i,j))"
   ]
  },
  {
   "cell_type": "code",
   "execution_count": 10,
   "metadata": {},
   "outputs": [
    {
     "data": {
      "text/html": [
       "<strong id=\"Rij\">Rij:</strong> <a class=\"ProveItLink\" href=\"../__pv_it/common/d75300d9b5f2bcf2057b6b5617d214288f6ad31e0/common_expr.ipynb\"><img src=\"data:image/png;base64,iVBORw0KGgoAAAANSUhEUgAAACIAAAAUBAMAAAAaSvJBAAAAMFBMVEX///+6urp2dnYyMjLu7u5m\n",
       "ZmaqqqoiIiKIiIjMzMwQEBDc3NxERERUVFSYmJgAAAANh8IjAAAAAXRSTlMAQObYZgAAAMxJREFU\n",
       "GNNjYGB4+//umXMMKOAPA8OuC8gCnD8YGHh/Iotw/GZgYP+NLMKzgIEh/wCyCP8FBra1KAbPv9f7\n",
       "dQJQcwCYZwnE/Q4Mjx2AFmwAiyQA8SmgRgUUXX8ZGPajOucf0KoABsZeEIelFaiLA+g4/QYWJn6g\n",
       "WQysjAYMDMwfgGoatm1JB6nxZrrAwGr/9wED04kGhhMQ5z6AG8fyZQLYuRvgImwGCtxHGBhmIaxk\n",
       "ubSBcxkDQw9qQLExQE2Dg2xe6SWoIg94dTcwAAAEyjMQave3EgAAAABJRU5ErkJggg==\n",
       "\" style=\"display:inline;vertical-align:middle;\" /></a><br>"
      ],
      "text/plain": [
       "Rij: R_{i, j}"
      ]
     },
     "execution_count": 10,
     "metadata": {},
     "output_type": "execute_result"
    }
   ],
   "source": [
    "Rij = IndexedVar(R,(i,j))"
   ]
  },
  {
   "cell_type": "code",
   "execution_count": 11,
   "metadata": {},
   "outputs": [
    {
     "data": {
      "text/html": [
       "<strong id=\"Sij\">Sij:</strong> <a class=\"ProveItLink\" href=\"../__pv_it/common/1411268a267850aa26fefb6da45cdf12e196f6f00/common_expr.ipynb\"><img src=\"data:image/png;base64,iVBORw0KGgoAAAANSUhEUgAAAB4AAAAUBAMAAABohZD3AAAAMFBMVEX///8iIiIQEBDc3NxUVFSI\n",
       "iIjMzMwyMjLu7u5ERES6urqYmJh2dnZmZmaqqqoAAABUl3CJAAAAAXRSTlMAQObYZgAAALRJREFU\n",
       "GNNjYGDgu3OGewEDAsxm4JiPxOW9wMCwHYnfn8DAsBSJv34DA0MasvyfBAZkwPr/vzOQvADmlAFx\n",
       "t9OnBgY2AzD/AZi8/wChnAdkBBK/BYjzG7hCQGyO2AcMj4D0HQYe/gaQ07gKGC5eYOBxYLB4CJJv\n",
       "BrIuLLniB2ROBWvm3AA1heMH2FH8BlA+X8EB5hkMDEkwWzh8DNj0GBgikR3OBzMFCh6zLNZA5m9g\n",
       "OWLAAACqMysz4FxRtgAAAABJRU5ErkJggg==\n",
       "\" style=\"display:inline;vertical-align:middle;\" /></a><br>"
      ],
      "text/plain": [
       "Sij: S_{i, j}"
      ]
     },
     "execution_count": 11,
     "metadata": {},
     "output_type": "execute_result"
    }
   ],
   "source": [
    "Sij = IndexedVar(S,(i,j))"
   ]
  },
  {
   "cell_type": "code",
   "execution_count": 12,
   "metadata": {},
   "outputs": [
    {
     "data": {
      "text/html": [
       "<strong id=\"A11_to_Amn\">A11_to_Amn:</strong> <a class=\"ProveItLink\" href=\"../__pv_it/common/bbdf5ec9fbec01ee7523c362968e104a971bc1f00/common_expr.ipynb\"><img src=\"data:image/png;base64,iVBORw0KGgoAAAANSUhEUgAAAU8AAAAUBAMAAAD/3aJBAAAAMFBMVEX///92dnYiIiIQEBBERERU\n",
       "VFS6urqIiIjc3NxmZmaqqqru7u6YmJgyMjLMzMwAAADiRdoGAAAAAXRSTlMAQObYZgAAAnVJREFU\n",
       "SMelVjFoE1EY/pro3fVyPbPrEBSH6mAWQUQlu0PSqYigQelSlyCW4mQQHdQhseAQEAziUOnQG8SC\n",
       "izeI4KBkFBxyUEUcxCBaK7XU9/LSy3t57y7vej/c3bv3f9/3f3fcvf8BNL5DN/SRaYhuJyLR1Zbo\n",
       "7tVoIuJUTz3vdD1NBX1kKuL7LfX8qyd1TQV9ZBpi7vmmOuHfqmpK6CPTEB1zQzlveKu+noI+MhXx\n",
       "mv1POf8SP2rkTyv1bz7HKQjIJMGI3G8dJ5Grun+UiSoaTbitAh1/W4qrxyMTRZ/I+YyVMGD9VS5a\n",
       "F1qXyQMajHslbnkTkEnWRUbkvMRJfGk9+qV+AGQ7WkZFZJJPlBE1jZLf7qxqvg1kilpGBeS7D4tN\n",
       "XaOM6Dz+etNcCMYZtclxhOkvXuIqWW3WCcYbFZFvz+CUps8B0bnqZy+alXFG77M+RvRPegtcpdvk\n",
       "2LfJG81tk+vrzuA0vBOQ1loBWywZIsSBRHxwHQeqk/ldoxEMi6qX61R/Aw/DSnix8wl2+WeTf6OH\n",
       "SbvL0Cfvn47SwXEJub9mFBmUISqjA5k4i3Vk2rtGaWqEQdRy5W0Pz3amib5bxLFhpdHvmxq15b68\n",
       "IiGzwWQ+UEGjiedwAw03lFiRP09OLRuYJasXhJWGoAKs88BTMpyQ6+UximwgMx+ooJFEq0fe6ZsJ\n",
       "3PGohKjJgldrkDfplPJhpVBl6XfNPY17J2aBNblZcH1lgJyDeUgFjSYaFXzE3YNYb1MJITUIXm0O\n",
       "U3VrxgsrSSsD3UHI2wSokRjXwZ2I1Uqd8iNWKymWtZfwZew97ERbRWUl/R2On8Kok2yDyC7/Abpm\n",
       "0XhQRUT3AAAAAElFTkSuQmCC\n",
       "\" style=\"display:inline;vertical-align:middle;\" /></a><br>"
      ],
      "text/plain": [
       "A11_to_Amn: A_{1, 1}, ..A_{1, _b}.., A_{1, n}, ....A_{_a, 1}, ..A_{_a, _b}.., A_{_a, n}...., A_{m, 1}, ..A_{m, _b}.., A_{m, n}"
      ]
     },
     "execution_count": 12,
     "metadata": {},
     "output_type": "execute_result"
    }
   ],
   "source": [
    "A11_to_Amn = var_range(A, [one, one], [m, n])"
   ]
  },
  {
   "cell_type": "code",
   "execution_count": 13,
   "metadata": {},
   "outputs": [
    {
     "data": {
      "text/html": [
       "<strong id=\"B11_to_Bmn\">B11_to_Bmn:</strong> <a class=\"ProveItLink\" href=\"../__pv_it/common/b9c57531653d3322161a9654d7d81ad0dc86ec390/common_expr.ipynb\"><img src=\"data:image/png;base64,iVBORw0KGgoAAAANSUhEUgAAAU8AAAAUBAMAAAD/3aJBAAAAMFBMVEX///92dnYyMjKqqqoiIiLu\n",
       "7u7c3NyIiIjMzMwQEBC6urpERERmZmZUVFSYmJgAAADEjrHzAAAAAXRSTlMAQObYZgAAAodJREFU\n",
       "SMellj9o1FAcx7/t3SW58y69xVWcBCcz2M4HtWMxW+nkLU4qd4PQoZbLIEix0ANFhFI50KVDMaAO\n",
       "6lKhY9UolAqKzab4tyhaqT31vUua5N17yb2Y35Dk5X2+39/v3v34EQCf/755+rgDiZAnswj17e7G\n",
       "60einSWg/EvKQ57MIizawHOLf6/9AUr7Mg7yZCbhogvcXePfqz/Jce/KOMiTmYStOvC1yb8/1Aam\n",
       "J2Qc5MlMwodA4brJvx9xoE2aMg7yZCZhF7i8KWqJt+/uG6SP7N7qalLzMGSK8IWRpk2w0LpfZsdj\n",
       "WqKwDG2jRhcL68nNE5JpwhNGakmyoA097YhbAi0DJU97J7l5ImSK8IVhJFnQhla/i1sCraZMoSyZ\n",
       "InyhXKGkoaHuimcctjsShbLkp/czaynGKBHqz65cUuesQYXSMVrZ6/nPvIpkoi2h/YZEoSz54RZu\n",
       "pBijRKivuMVN1RlUKB2jizb1XzbnIpmGSUusPIgWWvhG7meO+g/BiiWVqRp+9BEDhGcvYqRTrh4U\n",
       "yijCFY6T7SWT+u/hSZAJlRPkE+AemBM9RUZenv7ySfiX/ARHVpqltod6hNP/wAu3MI+8cVAo3QoV\n",
       "vQt1e0k/YAzqr7UxHmbq729aaI6fzaMcWbTKVUuExgtvYhYNLbAY5eCoW9FSbWXHCjKFUA0K+V9P\n",
       "kschPl8V/WQD+duWCI0VKjvkTD8O4ZxJLVhPL6JuDXKSul0NMgUu692mdg3nT28BU5xDITJbfHIV\n",
       "6hERGi8sOTiGC4cxb1ALZsuPqNsqhuvKCzPIxB69d3P5j1mISQE6QEjDiNsSueVEDmPSI3wM/x+5\n",
       "ehpamMmVlrsZCtVT0X6mf29Y+XEVMH9tAAAAAElFTkSuQmCC\n",
       "\" style=\"display:inline;vertical-align:middle;\" /></a><br>"
      ],
      "text/plain": [
       "B11_to_Bmn: B_{1, 1}, ..B_{1, _b}.., B_{1, n}, ....B_{_a, 1}, ..B_{_a, _b}.., B_{_a, n}...., B_{m, 1}, ..B_{m, _b}.., B_{m, n}"
      ]
     },
     "execution_count": 13,
     "metadata": {},
     "output_type": "execute_result"
    }
   ],
   "source": [
    "B11_to_Bmn = var_range(B, [one, one], [m, n])"
   ]
  },
  {
   "cell_type": "code",
   "execution_count": 14,
   "metadata": {},
   "outputs": [
    {
     "data": {
      "text/html": [
       "<strong id=\"C11_to_Cmn\">C11_to_Cmn:</strong> <a class=\"ProveItLink\" href=\"../__pv_it/common/4712eb68584758966b520617b77b30eac91ec9a60/common_expr.ipynb\"><img src=\"data:image/png;base64,iVBORw0KGgoAAAANSUhEUgAAAUoAAAAUBAMAAAAZ9GkFAAAAMFBMVEX////MzMy6uroyMjIiIiKq\n",
       "qqoQEBB2dnbc3NyYmJhmZmZUVFRERESIiIju7u4AAACOKgoaAAAAAXRSTlMAQObYZgAAAl5JREFU\n",
       "SMetVr9rFEEU/vbczW0O7rwqRUgghaS2EstD7ASzAQuxiElhkUbvL4jpBBVv/wALkaD4A3OtkRML\n",
       "u4CkEAVNsaWI4okKihgyb2f2bvZ2ZvdN8BVvZh/ft9+3szs7D0Brf+d52AUjvu4+iW/APfgKdvC7\n",
       "GMGDmMFvrgOX1o/gkq1gB385L9L2JuMhXydA47e7SbZCCfiU0MYig3/sqki1VXeXbAU7uPGL8iyD\n",
       "vx2J5N1zNslXsIN7Hcqfqvnhz/S1bzq7ZCuUgK/vydF7lQ5zVn79n5rMObrMFMahtHjgNJbakvg4\n",
       "fYjZLSvf/y7HEgjKFDSTUosHlnGNvlYkqEnmCSt/6iB942UQlCqMo9ZxAEvzlIJ2tUt/SHnZ3WWm\n",
       "wHJZBMudS9uhjmqX8k/ZVZDpR/MfmC6VAjGaH9sVLgtgKdSjz3WD4TKk3VNPMpeL8RRzuysFYrxs\n",
       "9itcFsBSKPgjjr1Ed9n6IcZvJ9VkdIXL4uh6lj3Inbc4nsj6CJqbjK+UAjEWGt3MJRcshfB5d2cB\n",
       "ubU8K6o+Pcc5qOTTsdV6+uL+eLkHdECk9RE0P0kT3SpTGGAGfpS5TKkc8EA/iTSXQWGLYUWbS5dr\n",
       "eOjl66bQb7WGffS8kdYKEyyFMkgH4RvggtxLk6F3UgJyOwmHOLOcrxuPAu27HopluVsXXNIyUY1g\n",
       "JaTKW3/3vCu4uTQQbWSxHdJOBILMRLU+3se5urkj1V5WH6dxa0NwSctENYKlUG7J5VDsBKcnC5Gl\n",
       "PhmmpjKyUe3gXFzk/qgD957jaFwTmNtOV6/h/+Iq8CHZ2tlUbB9RXAAAAABJRU5ErkJggg==\n",
       "\" style=\"display:inline;vertical-align:middle;\" /></a><br>"
      ],
      "text/plain": [
       "C11_to_Cmn: C_{1, 1}, ..C_{1, _b}.., C_{1, n}, ....C_{_a, 1}, ..C_{_a, _b}.., C_{_a, n}...., C_{m, 1}, ..C_{m, _b}.., C_{m, n}"
      ]
     },
     "execution_count": 14,
     "metadata": {},
     "output_type": "execute_result"
    }
   ],
   "source": [
    "C11_to_Cmn = var_range(C, [one, one], [m, n])"
   ]
  },
  {
   "cell_type": "code",
   "execution_count": 15,
   "metadata": {},
   "outputs": [
    {
     "data": {
      "text/html": [
       "<strong id=\"D11_to_Dmn\">D11_to_Dmn:</strong> <a class=\"ProveItLink\" href=\"../__pv_it/common/99ccbcf487c046bf0d287da51a7ceabd983517d70/common_expr.ipynb\"><img src=\"data:image/png;base64,iVBORw0KGgoAAAANSUhEUgAAAVQAAAAUBAMAAAAgk9heAAAAMFBMVEX///8iIiLu7u52dna6uroQ\n",
       "EBBmZmaIiIjMzMyqqqoyMjLc3NxERERUVFSYmJgAAAAdjRNVAAAAAXRSTlMAQObYZgAAAkVJREFU\n",
       "SMell71P20AYxh+CyQdpHIoqNkSWqlKXRvwFMDC3I0MHUEUXBEpVqVNRsrQslQhMjJlhIGLoBCJT\n",
       "p6JGDCCVROQPaEUkQIWKAOez49yH47vDrxTLOf+ee97Yj88OgL/3h43DKnTKAOXLPrtt/jyNTv8n\n",
       "B2/0JjFA+cpWgPNyVDr5j2wWtKYwQIVaKwDxN1HpxDXZvG7pTGGAClUsAdZdVPpJm2wO8jpTGKBC\n",
       "/SKf9EVUOltzTlVdK0P6qFC35GN1otJOMFDM45sbx5oiQz3UoGjIE+x5CvORaSYYOJv6Ok+p9yOK\n",
       "DPmoSdGQZy6ZbsJ8JJoNBq6AafrNGlFkqIcaFA15lr2nw3xkmgmGfafVKo+aLKvO5T5vabYq00ww\n",
       "ntd0WuVRe3n1k8lCGXtLJYmVkspHoj0rJxixLei0yqP2TGuoarBQvqxQyVGirvKRaM9qmARjeo5r\n",
       "NUaen3hVEXcEdPcDsjl6NIDlh7FDJh5zJVPxfNenj1amXavMTmepsQj+rD7NAQPOzxmHt+OMiOgJ\n",
       "ZsjRUYisv+Mrf98fN39UqeQLBspdnwBtH5pa9YppNZUTrwk/4qKzeJcENhTXnlPO4jMOkr7Phi7t\n",
       "Wvm1DuzlkHKmGJSm4Ecomm7j2SagesyySiI5wZ9B3yevSXtW3fo+Qc53OT3fIbffC2kKbsRFrTo+\n",
       "thArKFpllUSyjf3Jrk+ANph2rfjy3hHlJU0e8VBbdfMHvoeV+2lDaCEp+m/4qcf8GXicOJC29fV2\n",
       "hE4NxR79AGOH7ZNo5kjTAAAAAElFTkSuQmCC\n",
       "\" style=\"display:inline;vertical-align:middle;\" /></a><br>"
      ],
      "text/plain": [
       "D11_to_Dmn: D_{1, 1}, ..D_{1, _b}.., D_{1, n}, ....D_{_a, 1}, ..D_{_a, _b}.., D_{_a, n}...., D_{m, 1}, ..D_{m, _b}.., D_{m, n}"
      ]
     },
     "execution_count": 15,
     "metadata": {},
     "output_type": "execute_result"
    }
   ],
   "source": [
    "D11_to_Dmn = var_range(D, [one, one], [m, n])"
   ]
  },
  {
   "cell_type": "code",
   "execution_count": 16,
   "metadata": {},
   "outputs": [
    {
     "data": {
      "text/html": [
       "<strong id=\"S11_to_Smn\">S11_to_Smn:</strong> <a class=\"ProveItLink\" href=\"../__pv_it/common/633100e417cb22a080d0265a7fd37fdbf893a4420/common_expr.ipynb\"><img src=\"data:image/png;base64,iVBORw0KGgoAAAANSUhEUgAAAUIAAAAUBAMAAAAKIynxAAAAMFBMVEX///8iIiIQEBDc3NxUVFSI\n",
       "iIjMzMwyMjLu7u5ERES6urqYmJh2dnZmZmaqqqoAAABUl3CJAAAAAXRSTlMAQObYZgAAAkpJREFU\n",
       "SMedVr9r1FAc/5zlQppczxMcRBCdipPe4KCDeFQPuigtdBEUj4KCg1jwH7hBB3GoY8HBtujcDIK0\n",
       "0w1FHDrcQbdeMSpIF6FIUUHxfC/fd/eSy0vyTT5wufcen195yYMAqPZ33FUw8H2ns4X8YPsncl/B\n",
       "fs1RT3p4fligIdc/kTvVBd5z1PuAu5S/INs/kbvcAt4y1PZPwJnL35Drn8zd8IAHDLXzB7Ba+Rty\n",
       "/ZO5y395sfbgA4qA65/MLQ8G18XuvAwmD1Pk9wZH9XSGEeSvoZJYXIUXMz/a1n5NDh/10jbx3cXz\n",
       "6QwzpH+oICWxuBqffDikW0s/av+yGGYI/9D7XONzA1Tk4+c07IhdLNBQ+bMaxrgBnorf43Z2Q7sh\n",
       "ntBvxXD37t9lNiR/KSgvtDIajnMp5osY9ZHdsHpOPOXOsOG6d6zOa0j+UjBbbmQ0HOdSTK+LSiPc\n",
       "0P4l93pJDUazqTPA9vAeLs/jeDtY1szIQM/IXwpW5Q1SEpNLMd03u7cQ2cMT4jSV5C2chLqUTomG\n",
       "zs0b/miXm1inZc2MDoKLdFL+TSyi5A8bBkoGN4iJvr8yvxo/7wd6SA2n0bciy+Y3QztN4zauWaOk\n",
       "Ax6XYhShhokV4LM6UfFzPIRgXGlPHOL0t8hy4tkkCEETmxUhlUkmpYmrYmi1dzRnXcDVs03gWfwc\n",
       "6w8GyVj0nQbueOFlM7STEDzBpY9CKpNMShOXYsIbTX9eTO2OzX3zcgxxJyV1c3DD+Mr9EK6jKPJI\n",
       "DVyPKXULF8wlVdz/CjLVdkmt5NYAAAAASUVORK5CYII=\n",
       "\" style=\"display:inline;vertical-align:middle;\" /></a><br>"
      ],
      "text/plain": [
       "S11_to_Smn: S_{1, 1}, ..S_{1, _b}.., S_{1, n}, ....S_{_a, 1}, ..S_{_a, _b}.., S_{_a, n}...., S_{m, 1}, ..S_{m, _b}.., S_{m, n}"
      ]
     },
     "execution_count": 16,
     "metadata": {},
     "output_type": "execute_result"
    }
   ],
   "source": [
    "S11_to_Smn = var_range(S, [one, one], [m, n])"
   ]
  },
  {
   "cell_type": "code",
   "execution_count": 17,
   "metadata": {},
   "outputs": [
    {
     "name": "stdout",
     "output_type": "stream",
     "text": [
      "These common expressions may now be imported from the theory package: proveit.core_expr_types.expr_arrays\n"
     ]
    }
   ],
   "source": [
    "%end common"
   ]
  }
 ],
 "metadata": {
  "kernelspec": {
   "display_name": "Python 3",
   "language": "python",
   "name": "python3"
  }
 },
 "nbformat": 4,
 "nbformat_minor": 0
}