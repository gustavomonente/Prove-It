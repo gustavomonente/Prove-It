{
 "cells": [
  {
   "cell_type": "markdown",
   "metadata": {},
   "source": [
    "Theory of <a class=\"ProveItLink\" href=\"../../../_theory_nbs_/theory.ipynb\">proveit</a>.<a class=\"ProveItLink\" href=\"../../_theory_nbs_/theory.ipynb\">core_expr_types</a>.operations\n",
    "========\n",
    "\n",
    "Theory related to **Operation** types of Prove-It expressions.  An **Operation** has an *operator* and *operand(s)* and represents the operation of the operator being applied to the operands.  For example, $x + y + z$ is an operation of the $+$ operator acting on $x$, $y$, and $z$ as operands."
   ]
  },
  {
   "cell_type": "code",
   "execution_count": 1,
   "metadata": {},
   "outputs": [
    {
     "data": {
      "text/html": [
       "<h3>Local content of this theory</h3>"
      ],
      "text/plain": [
       "<IPython.core.display.HTML object>"
      ]
     },
     "metadata": {},
     "output_type": "display_data"
    },
    {
     "data": {
      "text/html": [
       "<table><tr>\n",
       "<th><a class=\"ProveItLink\" href=\"common.ipynb\">common expressions</a></th>\n",
       "<th><a class=\"ProveItLink\" href=\"axioms.ipynb\">axioms</a></th>\n",
       "<th><a class=\"ProveItLink\" href=\"theorems.ipynb\">theorems</a></th>\n",
       "<th><a class=\"ProveItLink\" href=\"demonstrations.ipynb\">demonstrations</a></th>\n",
       "</tr></table>\n",
       "<h3>Sub-theories</h3>\n"
      ],
      "text/plain": [
       "<IPython.core.display.HTML object>"
      ]
     },
     "metadata": {},
     "output_type": "display_data"
    },
    {
     "data": {
      "text/html": [
       "<h3>All axioms contained within this theory</h3>"
      ],
      "text/plain": [
       "<IPython.core.display.HTML object>"
      ]
     },
     "metadata": {},
     "output_type": "display_data"
    },
    {
     "data": {
      "text/html": [
       "<dt><a class=\"ProveItLink\" href=\"axioms.ipynb#operands_substitution\">proveit.core_expr_types.operations.operands_substitution</a></dt><dd><a class=\"ProveItLink\" href=\"../__pv_it/axioms/4898e46713bd9784b715909f7ce928bf8788853e0/expr.ipynb\"><img src=\"data:image/png;base64,iVBORw0KGgoAAAANSUhEUgAAAnMAAAAyBAMAAADFBUDdAAAAMFBMVEX///8QEBCIiIhmZma6urrM\n",
       "zMxUVFQiIiJERETc3Nzu7u6qqqp2dnaYmJgyMjIAAAAcRTyBAAAAAXRSTlMAQObYZgAAB2hJREFU\n",
       "aN7dm3+IFGUYx5/dndnZnZ25uz9KMaO2O7AjjbuSCtHTNSEhylv9I/pDcLk6iOjHlpZhEkt/1GmZ\n",
       "WwTqiThKWBlyV3KUkrhpUaTpghEFigtBUJAsZ4qe1vW+M++88+Pded/d5e64mxdubnj3u8/sfPZ9\n",
       "3+d53mcWgNvuHL8JM61pmcmzrebINcbH2wTSubsGZxy605NpfBVBuGu3CN2tMw4cRHOTaV2vkBM5\n",
       "hOg+r9WZLDdm5EjgK++GF516i7/j/kUAnzRoJV4MemVfJrToEt1+CqduAPzZ6BdQCXol1RZadMcN\n",
       "X8fQoxnQuxs1cyLwlc2hRbeeYYn+lGKjZvYFfzfFkKLTr/t7vkd/Oxq20xIYHCrdIUWnFHwd52Yv\n",
       "BOhAJ/vnfbggzX2vW6EFTnF9LKTo1jGjZRT9bUMLf0l/WamAXAh2DZbCHb+duYTb717ZaEjR3cdE\n",
       "dFfQ4XU0jAxtTCrKC/PBCZypsB1psO5SSNHNYoKJKjqgWE+FBB5wUjASoiAOtBqo6yqGEp38LzOW\n",
       "8hY6gNY0Hx1RCNHtLYcSXZRxsImcNWHRMpgVocMKvWdNB9VZa90fXlUkF0p0CeaGImnLTaSMLoga\n",
       "PHSWQl9ejhRdaX6Na+RDiS7CONAh7HJPAvQOb4c91mgawljwQf3PfWIpBu+GVpSQxErB7qRK0Jl0\n",
       "L3DQ8QXTrA0x4VgvPqwEONC+v6dsoVM24QAQT7tX7ZONBlX0wXIcEmeDo+4rBN0p/P8vDjq+YLqF\n",
       "dUzQ+wN4EjFzwh6tMVldt7xEBviY44pGCbqdOPYpcNDxBdMt+R/2Icn9bQ4UOhjNeI2djJoTB1Zh\n",
       "wwgv/Qf1MkHXgnhrwxx0fME0axd980zZai33W2wwD11Ng8rmY/vpmZSDBWXOphNqVwk6/ceDB3fw\n",
       "3ARfMM1al2+LRO+wOjxbnTr7Pv8mcoK31XLN9rDXBgY2cz0sV9B0S4qC2/q1LulZI+BqDW6w/8Z7\n",
       "8Q4bXb8znGujswVLyhPCjOTnJYEs5crjS3VLlxlTMLRn2+hWeCe2vP5buCvnRkcEWntpQi5seZy4\n",
       "cPNxET0Tah3pi1OxKrxko1MgSofTZyd74CvNiBludEQQvPnXDLq1Qt0Bera2funUotPKCl0/3xk0\n",
       "4Fi6W/NMWCJoNSYSXb9Q10LHWn/90imZsBttdMnKE3bSuwL3jYx84EVnCkDf3oMxdqxhb8TdKc0D\n",
       "hfn4D+dgkw9dXmjLmQt5kVVHerY4Beiom4AtTyMwZtJrrnkj2qG13hwWCwB+xYd74pUNjCl3p9Zq\n",
       "rGYEpTFXsmyiS+aFtlI5eGYAtTLSCqym6NrclZ0ID3uE//Isiu4wug0z6VXNmHsESie96A6bWwUL\n",
       "8SHbgj5D3DcAzE7SBldCp1+Q/CgfLXjRSQWhLangnAisUilcZBfkJkrYAr90maIzN/hw0iu/NjDw\n",
       "JkK3R/Gis3YAt1m7gUWQv/HPnVbXpZZAHyOIleJpH7qc0JZcceJ7gVUqheMsuiZK2NxcAtSbFJ1u\n",
       "2Elvzhp10hovOlNA9p/WQZZddnCn3TYgoV+gZCJZLzqzusK3hYi9gDcay1jLtyrRCbuOnZjNlLBP\n",
       "cCPwUc9+nZX0fodPfwY4X2O/Th2D5NZk9QyKT9E9JLfCToMczE598QUU9u004BWp6heAku2Fc8fO\n",
       "u9CpeRDZ0u0wEmltqy6h2yqVQivLqJkS9j5uBH7Dg85KehMoy5feyEC8BjopD/Jc9fnHFhj4HuS5\n",
       "sLooz8EHqzPViZ3m6mF4pLPiF4DU9x58UVDcHnYTiGzF6NxDfpRYRRewhHM8Vh2pwk61ZkrY3BhW\n",
       "u+5BR1onWuuYRIzEfOj7TJHPZ9BToGf95hwcVouJMiP4FC2U8eyTbnTzQWSrhfbOB2oVhmtZdaQx\n",
       "phpjl7DVjjS8z4v63AKNN8Hj1Vroauaw1vfwS5Y6bXwPR/yePB9FMz1VjJdWsYLnJDRm4N6MC10C\n",
       "RLaOOdsYQK2mirWsOlJSmnc3UsLWpDbo4lWwLQExw/MT1iZ+/ei0dro1I3ctdu/SWGdqLvUT3s6R\n",
       "zpdYweOncbL0ddmFThLZUp0vXipTq3otqy6pfIOJ6EgJe3esAgO8CrYpcG+IBrW96cbQTVzrrivs\n",
       "xNWrekNUtzSwhG1E0mgAcgpiloB8A1XhnmD4qv/LmHlol7B7DfkKtwxrCupA9zaEE12v3zfSEvZS\n",
       "iLZx0WGBp4Ad0ML6uI7i942RNMmE3sIUeUywQFzAhmhYHxJjXKxdwoYHobdsovMWrmk92xSIC9jk\n",
       "uYkwPhB7u38G48NKvB/avqxojTpcr/ZWsM2itikQFrDD+0As8xi2q4S9lCxiKTYyPkpWO3EBG8iD\n",
       "iiFE1+JZ7JwSdryi/kMCNo19F5qgpkBcwE7dFlp0Sc9HdkrYSjmRtirYrno1TcJQrykQF7BD/JMT\n",
       "+NLjNWgJW2p/wJuzeGQ4IHEEvAL2UxBedLFcrbHY0AY7p4CtF+pFNxN/1Nk3mcbr/1HnTPwpcSwz\n",
       "ebbVZ0l6Nz7e9j8ZmlB0iJHdswAAAABJRU5ErkJggg==\n",
       "\" style=\"display:inline;vertical-align:middle;\" /></a></dd>"
      ],
      "text/plain": [
       "<IPython.core.display.HTML object>"
      ]
     },
     "metadata": {},
     "output_type": "display_data"
    }
   ],
   "source": [
    "import proveit\n",
    "%theory # toggles between interactive and static modes"
   ]
  },
  {
   "cell_type": "code",
   "execution_count": null,
   "metadata": {},
   "outputs": [],
   "source": []
  }
 ],
 "metadata": {
  "kernelspec": {
   "display_name": "Python 3",
   "language": "python",
   "name": "python3"
  }
 },
 "nbformat": 4,
 "nbformat_minor": 0
}