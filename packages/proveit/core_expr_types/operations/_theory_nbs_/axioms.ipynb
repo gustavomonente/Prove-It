{
 "cells": [
  {
   "cell_type": "markdown",
   "metadata": {},
   "source": [
    "Axioms for the theory of <a class=\"ProveItLink\" href=\"theory.ipynb\">proveit.core_expr_types.operations</a>\n",
    "========"
   ]
  },
  {
   "cell_type": "code",
   "execution_count": 1,
   "metadata": {},
   "outputs": [],
   "source": [
    "import proveit\n",
    "# Prepare this notebook for defining the axioms of a theory:\n",
    "%axioms_notebook # Keep this at the top following 'import proveit'.\n",
    "from proveit import ExprTuple, ExprRange\n",
    "from proveit import f, n\n",
    "from proveit.logic import Forall, Equals\n",
    "from proveit.core_expr_types import Len\n",
    "from proveit.core_expr_types import x_1_to_n, y_1_to_n, f__x_1_to_n, f__y_1_to_n\n",
    "from proveit.numbers import Natural"
   ]
  },
  {
   "cell_type": "code",
   "execution_count": 2,
   "metadata": {},
   "outputs": [
    {
     "name": "stdout",
     "output_type": "stream",
     "text": [
      "Defining axioms for theory 'proveit.core_expr_types.operations'\n",
      "Subsequent end-of-cell assignments will define axioms\n",
      "%end_axioms will finalize the definitions\n"
     ]
    }
   ],
   "source": [
    "%begin axioms"
   ]
  },
  {
   "cell_type": "markdown",
   "metadata": {},
   "source": [
    "**When there are multiple operands of an operation, they are internally represented as an ExprTuple.  However, this axiom is need to replace one ExprTuple of operands with another ExprTuple of operands.  The alternative would be to invent some notation to make a unary map expand a single ExprTuple argument into the operands of an operation (something like $x \\mapsto f(*x)$ where $*$ acts in the sense of the unpacking operator in Python).  We can attain this affect from the following axiom using explicit and standard notation.**"
   ]
  },
  {
   "cell_type": "code",
   "execution_count": 3,
   "metadata": {},
   "outputs": [
    {
     "data": {
      "text/html": [
       "<strong id=\"operands_substitution\">operands_substitution:</strong> <a class=\"ProveItLink\" href=\"../__pv_it/axioms/1f8d349ad9c8cce04b04c7d3c692ed7cb9e3f9d20/axiom_expr.ipynb\"><img src=\"data:image/png;base64,iVBORw0KGgoAAAANSUhEUgAAAnMAAAAyBAMAAADFBUDdAAAAMFBMVEX///8QEBCIiIhmZma6urrM\n",
       "zMxUVFQiIiJERETc3Nzu7u6qqqp2dnaYmJgyMjIAAAAcRTyBAAAAAXRSTlMAQObYZgAAB2hJREFU\n",
       "aN7dm3+IFGUYx5/dndnZnZ25uz9KMaO2O7AjjbuSCtHTNSEhylv9I/pDcLk6iOjHlpZhEkt/1GmZ\n",
       "WwTqiThKWBlyV3KUkrhpUaTpghEFigtBUJAsZ4qe1vW+M++88+Pded/d5e64mxdubnj3u8/sfPZ9\n",
       "3+d53mcWgNvuHL8JM61pmcmzrebINcbH2wTSubsGZxy605NpfBVBuGu3CN2tMw4cRHOTaV2vkBM5\n",
       "hOg+r9WZLDdm5EjgK++GF516i7/j/kUAnzRoJV4MemVfJrToEt1+CqduAPzZ6BdQCXol1RZadMcN\n",
       "X8fQoxnQuxs1cyLwlc2hRbeeYYn+lGKjZvYFfzfFkKLTr/t7vkd/Oxq20xIYHCrdIUWnFHwd52Yv\n",
       "BOhAJ/vnfbggzX2vW6EFTnF9LKTo1jGjZRT9bUMLf0l/WamAXAh2DZbCHb+duYTb717ZaEjR3cdE\n",
       "dFfQ4XU0jAxtTCrKC/PBCZypsB1psO5SSNHNYoKJKjqgWE+FBB5wUjASoiAOtBqo6yqGEp38LzOW\n",
       "8hY6gNY0Hx1RCNHtLYcSXZRxsImcNWHRMpgVocMKvWdNB9VZa90fXlUkF0p0CeaGImnLTaSMLoga\n",
       "PHSWQl9ejhRdaX6Na+RDiS7CONAh7HJPAvQOb4c91mgawljwQf3PfWIpBu+GVpSQxErB7qRK0Jl0\n",
       "L3DQ8QXTrA0x4VgvPqwEONC+v6dsoVM24QAQT7tX7ZONBlX0wXIcEmeDo+4rBN0p/P8vDjq+YLqF\n",
       "dUzQ+wN4EjFzwh6tMVldt7xEBviY44pGCbqdOPYpcNDxBdMt+R/2Icn9bQ4UOhjNeI2djJoTB1Zh\n",
       "wwgv/Qf1MkHXgnhrwxx0fME0axd980zZai33W2wwD11Ng8rmY/vpmZSDBWXOphNqVwk6/ceDB3fw\n",
       "3ARfMM1al2+LRO+wOjxbnTr7Pv8mcoK31XLN9rDXBgY2cz0sV9B0S4qC2/q1LulZI+BqDW6w/8Z7\n",
       "8Q4bXb8znGujswVLyhPCjOTnJYEs5crjS3VLlxlTMLRn2+hWeCe2vP5buCvnRkcEWntpQi5seZy4\n",
       "cPNxET0Tah3pi1OxKrxko1MgSofTZyd74CvNiBludEQQvPnXDLq1Qt0Bera2funUotPKCl0/3xk0\n",
       "4Fi6W/NMWCJoNSYSXb9Q10LHWn/90imZsBttdMnKE3bSuwL3jYx84EVnCkDf3oMxdqxhb8TdKc0D\n",
       "hfn4D+dgkw9dXmjLmQt5kVVHerY4Beiom4AtTyMwZtJrrnkj2qG13hwWCwB+xYd74pUNjCl3p9Zq\n",
       "rGYEpTFXsmyiS+aFtlI5eGYAtTLSCqym6NrclZ0ID3uE//Isiu4wug0z6VXNmHsESie96A6bWwUL\n",
       "8SHbgj5D3DcAzE7SBldCp1+Q/CgfLXjRSQWhLangnAisUilcZBfkJkrYAr90maIzN/hw0iu/NjDw\n",
       "JkK3R/Gis3YAt1m7gUWQv/HPnVbXpZZAHyOIleJpH7qc0JZcceJ7gVUqheMsuiZK2NxcAtSbFJ1u\n",
       "2Elvzhp10hovOlNA9p/WQZZddnCn3TYgoV+gZCJZLzqzusK3hYi9gDcay1jLtyrRCbuOnZjNlLBP\n",
       "cCPwUc9+nZX0fodPfwY4X2O/Th2D5NZk9QyKT9E9JLfCToMczE598QUU9u004BWp6heAku2Fc8fO\n",
       "u9CpeRDZ0u0wEmltqy6h2yqVQivLqJkS9j5uBH7Dg85KehMoy5feyEC8BjopD/Jc9fnHFhj4HuS5\n",
       "sLooz8EHqzPViZ3m6mF4pLPiF4DU9x58UVDcHnYTiGzF6NxDfpRYRRewhHM8Vh2pwk61ZkrY3BhW\n",
       "u+5BR1onWuuYRIzEfOj7TJHPZ9BToGf95hwcVouJMiP4FC2U8eyTbnTzQWSrhfbOB2oVhmtZdaQx\n",
       "phpjl7DVjjS8z4v63AKNN8Hj1Vroauaw1vfwS5Y6bXwPR/yePB9FMz1VjJdWsYLnJDRm4N6MC10C\n",
       "RLaOOdsYQK2mirWsOlJSmnc3UsLWpDbo4lWwLQExw/MT1iZ+/ei0dro1I3ctdu/SWGdqLvUT3s6R\n",
       "zpdYweOncbL0ddmFThLZUp0vXipTq3otqy6pfIOJ6EgJe3esAgO8CrYpcG+IBrW96cbQTVzrrivs\n",
       "xNWrekNUtzSwhG1E0mgAcgpiloB8A1XhnmD4qv/LmHlol7B7DfkKtwxrCupA9zaEE12v3zfSEvZS\n",
       "iLZx0WGBp4Ad0ML6uI7i942RNMmE3sIUeUywQFzAhmhYHxJjXKxdwoYHobdsovMWrmk92xSIC9jk\n",
       "uYkwPhB7u38G48NKvB/avqxojTpcr/ZWsM2itikQFrDD+0As8xi2q4S9lCxiKTYyPkpWO3EBG8iD\n",
       "iiFE1+JZ7JwSdryi/kMCNo19F5qgpkBcwE7dFlp0Sc9HdkrYSjmRtirYrno1TcJQrykQF7BD/JMT\n",
       "+NLjNWgJW2p/wJuzeGQ4IHEEvAL2UxBedLFcrbHY0AY7p4CtF+pFNxN/1Nk3mcbr/1HnTPwpcSwz\n",
       "ebbVZ0l6Nz7e9j8ZmlB0iJHdswAAAABJRU5ErkJggg==\n",
       "\" style=\"display:inline;vertical-align:middle;\" /></a><br>"
      ],
      "text/plain": [
       "operands_substitution: forall_{n in Natural} [forall_{f, x_{1}, ..x_{_a}.., x_{n}, y_{1}, ..y_{_a}.., y_{n} | (x_{1}, ..x_{_a}.., x_{n}) = (y_{1}, ..y_{_a}.., y_{n})} (f(x_{1}, ..x_{_a}.., x_{n}) =  \\\\ f(y_{1}, ..y_{_a}.., y_{n}))]"
      ]
     },
     "execution_count": 3,
     "metadata": {},
     "output_type": "execute_result"
    }
   ],
   "source": [
    "operands_substitution = Forall(n, Forall((f, x_1_to_n, y_1_to_n),\n",
    "                                         Equals(f__x_1_to_n, f__y_1_to_n).with_wrap_after_operator(),\n",
    "                                         conditions = [Equals([x_1_to_n], [y_1_to_n])]),\n",
    "                               domain=Natural)"
   ]
  },
  {
   "cell_type": "code",
   "execution_count": 4,
   "metadata": {},
   "outputs": [
    {
     "name": "stdout",
     "output_type": "stream",
     "text": [
      "These axioms may now be imported from the theory package: proveit.core_expr_types.operations\n"
     ]
    }
   ],
   "source": [
    "%end axioms"
   ]
  },
  {
   "cell_type": "code",
   "execution_count": null,
   "metadata": {},
   "outputs": [],
   "source": []
  }
 ],
 "metadata": {
  "kernelspec": {
   "display_name": "Python 3",
   "language": "python",
   "name": "python3"
  }
 },
 "nbformat": 4,
 "nbformat_minor": 0
}