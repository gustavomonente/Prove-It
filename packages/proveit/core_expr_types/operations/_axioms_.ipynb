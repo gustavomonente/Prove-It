{
 "cells": [
  {
   "cell_type": "markdown",
   "metadata": {},
   "source": [
    "Axioms for context <a class=\"ProveItLink\" href=\"_context_.ipynb\">proveit.core_expr_types.operations</a>\n",
    "========"
   ]
  },
  {
   "cell_type": "code",
   "execution_count": 1,
   "metadata": {},
   "outputs": [],
   "source": [
    "import proveit\n",
    "# Automation is not needed when building axiom expressions:\n",
    "proveit.defaults.automation = False # This will speed things up.\n",
    "# the context is in the current directory:\n",
    "context = proveit.Context('.') # adds context root to sys.path if necessary\n",
    "from proveit import ExprTuple, ExprRange\n",
    "from proveit._common_ import f, n\n",
    "from proveit.logic import Forall, Equals\n",
    "from proveit.core_expr_types import Len\n",
    "from proveit.core_expr_types._common_ import x_1_to_n, y_1_to_n, f__x_1_to_n, f__y_1_to_n\n",
    "from proveit.number import Naturals"
   ]
  },
  {
   "cell_type": "code",
   "execution_count": 2,
   "metadata": {},
   "outputs": [
    {
     "name": "stdout",
     "output_type": "stream",
     "text": [
      "Defining axioms for context 'proveit.core_expr_types.operations'\n",
      "Subsequent end-of-cell assignments will define axioms\n",
      "%end_axioms will finalize the definitions\n"
     ]
    }
   ],
   "source": [
    "%begin axioms"
   ]
  },
  {
   "cell_type": "markdown",
   "metadata": {},
   "source": [
    "**When there are multiple operands of an operation, they are internally represented as an ExprTuple.  However, this axiom is need to replace one ExprTuple of operands with another ExprTuple of operands.  The alternative would be to invent some notation to make a unary map expand a single ExprTuple argument into the operands of an operation (something like $x \\mapsto f(*x)$ where $*$ acts in the sense of the unpacking operator in Python).  We can attain this affect from the following axiom using explicit and standard notation.**"
   ]
  },
  {
   "cell_type": "code",
   "execution_count": 3,
   "metadata": {},
   "outputs": [
    {
     "data": {
      "text/html": [
       "<strong id=\"operands_substitution\">operands_substitution:</strong> <a class=\"ProveItLink\" href=\"__pv_it/967d47047624f6d46212089aed79c51f1346269e0/expr.ipynb\"><img src=\"data:image/png;base64,iVBORw0KGgoAAAANSUhEUgAAArEAAAAZBAMAAADUJGu0AAAAMFBMVEX///8QEBCIiIhmZma6urrM\n",
       "zMxUVFQiIiJERETc3Nzu7u6qqqp2dnaYmJgyMjIAAAAcRTyBAAAAAXRSTlMAQObYZgAABpxJREFU\n",
       "aN7tWn2IVFUUPzvz3rydN/N2ZUnCJBh3wBY/cNNARDdGAzf6ctYg/ENyWFooMBlya9W+Bv+QXaMc\n",
       "KkgE8bWKlZEO2lpK4pSFkSmP1qJgjYE+oKBYoqI2iu6957737pv75s6O7h9TeOBez577m/Pe/d17\n",
       "zz33PgFUEhvaDtflKqR3qKwGGNc5ukqJ5/5fzMYdWZuenKrZsr8RN4kiFspshRqu1GZW2d5s8jqt\n",
       "zKUruNaAxIohxoPpIpiFhvw8wgth9gL9+8fazCrbm01+YCRd+ItrDYhZCTFuPluCtmJDfo7yQpjd\n",
       "S/8p1GZW2d5kYnXT+thdGa41Ih+EsP3rIYDxxtwkU1gIs202UUu1mVW2N5kYbH6d9bRG5NWQoDlJ\n",
       "qgaTI3MWFsKs9cmRI68odjBle5MJvud5T2tE2jLy/MsThvIN+vkWC80N/hgefkqVG6jam0zStBq/\n",
       "cRlqo/NfXpRS4kVEUoof1q1buyFCzKNLIX6T0o8AOIeFMjsAMKJiVtV+DflRPUB22ljd055n9S+o\n",
       "mWXrMaOiXLkiwmLKpZ+pfIOmdsJ6K8neyqshMqlyJAK+xkKZvSN8X/SYddtXOTNCqcZfph7ubeHF\n",
       "6+SQ3jp+ko3Db6gl7eSUVgS99u7LEdyLvOwPkNE1ShAv3Q6tBdhQe5YgAOUdLJRZAyIiZ/rWD2Fe\n",
       "TmCWtyc7yzPCbGvt9DEg0aIy1RRlhavc4O07RDNZb/VltQOl6fNBgPKspFthS4bAOsj0vX+5wk8H\n",
       "m99MNmGhzCYd/6T15rkeeDdpR22BWd4eEuGvgdmN9TdZ73hYF3s4wCzdd1BjvdVUW1B7SsXseWQW\n",
       "tCnYlIVexTpkAInZeOUBL2Y/t8+GM6nupBgNeHu7PZPMDkwz658W1kvmWTRozbka662S2U1+NEcc\n",
       "xtnv0bQLWDSAaAXmgYpZBPC7GCzs3mDkIcJpz/o0DalExsZeDDDL2sHa00PnQ3q93E/RqM0HQxqC\n",
       "NTnYUcVsvr6vxa4tH+7VN3rRjO1gLSnUEvYSiNgqZhGBXec7WEA6AHcwMla7lMwywPjnnd3BHQxO\n",
       "kGdbq52WIt4RjCXf2hhg9gR7ty9ptSBWGYRYVSeZ0WWm3e6TAOUpfVaQWZol1vN1Eh4eJuIQbKhX\n",
       "ZkSGckLGA8cyqK0r7aG3KZRZ8x9qrwgKqxCBXYdoWT6C8WQsmtP+RmYDPpjCKga4fDPMoRs9FsYs\n",
       "DTb7biHL3WQp3RiUzwWYxWC0jKVCbQ7o71d1kRpd2dcLXdWA+KF8pBBkVivU93WnOzcLoV6Z0UP4\n",
       "KxHWce1w52iPw1f5EPmtQfv6BHDF2OEiWNdJSMlKi2KSBwmzP/0nOqe/8n1QhbmmgPhoHqbI399h\n",
       "Ycxa9JX7YTXo24aHdxJm9xsBZlk7zxXbyehKC7Nd2LxXEU/VgGg5lqpiNlff14NuB3PhXpkRN5+K\n",
       "eLr9GAKnW8ZsQt4kTnsa7TrAa3JkYgO2nQdSHLbTISGFA2IpjZ5s81j8+9nZsEqHHM5ZbX3I/exs\n",
       "vvNl5S4So7XyCq6mQQKsBhiZluz4mQmBWZZk1vG1FrbQ3cSh2DCv1IhQLeffyCRyP/l3Mx6zyZDs\n",
       "HgJdl29kTuLyGQfYwiJMb3hqTV0zQEs2Ws6KNzJ8xU7C4Bh8RNXLABMys+YUxHfHJy8R37SLe+34\n",
       "blZxY6KLbkp7bXicrCEC4K1YGdl1cLxgCMySUfV8iVDBl/cSdAZwr4JPfBRCLa+/I2DsrnBNPAGM\n",
       "ykmdt4qw6/JpadtRfN8iPA07+RHAlE/L1DUDHADj7qx4i+gtuUUOtJIUQ3smAzGZWTL0+lzz0XsW\n",
       "2ayLfSV9DvQV9TmucYBOrb4SrO2qUIA+l7XSai5o/S9ALLtBzA12gOdLhAq+4Db30SS2ca/+Y91H\n",
       "MWg04998W+mifwdOe7j8d8KGfHy0/J5h16XjyGd4ADELsCZNYvBLz/aLv/KEumaAtRC5iCM6AvLX\n",
       "mq7hndLp1r/6THAjXZbevSI35iOXqdUskjSFAhJ+III3SJA2YHFGYHYh+L5EqODLm0QLwfPqP5Y/\n",
       "ikHb/M3yqr/WfFWzpaGvNVYRy/S/g7V9kXW/FelLVvJvPUxO8RNT4iK1xsr3IcD/rnQKNmsVck56\n",
       "zxGYbQXflwgVfDn+nud59R+Lj0LomSa8dps2s8lOCKwpK7AafKs2Ua42O3Dvp9IZTHMgxIPo66C/\n",
       "XB3PqxX2KLP7v8jszP9/g6g4PRWyAKqmck2J2M1HbO9Q7l/qTRNv2DbFEgAAAABJRU5ErkJggg==\n",
       "\" style=\"display:inline;vertical-align:middle;\" /></a><br>"
      ],
      "text/plain": [
       "operands_substitution: forall_{n in Naturals} [forall_{f, x_{1}, ..x_{_a}.., x_{n}, y_{1}, ..y_{_a}.., y_{n} | (x_{1}, ..x_{_a}.., x_{n}) = (y_{1}, ..y_{_a}.., y_{n})} (f(x_{1}, ..x_{_a}.., x_{n}) = f(y_{1}, ..y_{_a}.., y_{n}))]"
      ]
     },
     "execution_count": 3,
     "metadata": {},
     "output_type": "execute_result"
    }
   ],
   "source": [
    "operands_substitution = Forall(n, Forall((f, x_1_to_n, y_1_to_n),\n",
    "                                         Equals(f__x_1_to_n, f__y_1_to_n),\n",
    "                                         conditions = [Equals([x_1_to_n], [y_1_to_n])]),\n",
    "                               domain=Naturals)"
   ]
  },
  {
   "cell_type": "code",
   "execution_count": 4,
   "metadata": {},
   "outputs": [
    {
     "name": "stdout",
     "output_type": "stream",
     "text": [
      "Axioms may be imported from autogenerated _axioms_.py\n"
     ]
    }
   ],
   "source": [
    "%end axioms"
   ]
  }
 ],
 "metadata": {
  "kernelspec": {
   "display_name": "Python 3",
   "language": "python",
   "name": "python3"
  }
 },
 "nbformat": 4,
 "nbformat_minor": 0
}
