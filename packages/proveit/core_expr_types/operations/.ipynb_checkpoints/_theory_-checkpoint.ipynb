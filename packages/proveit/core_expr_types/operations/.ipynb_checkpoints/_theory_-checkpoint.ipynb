{
 "cells": [
  {
   "cell_type": "markdown",
   "metadata": {},
   "source": [
    "Theory of <a class=\"ProveItLink\" href=\"../../_theory_.ipynb\">proveit</a>.<a class=\"ProveItLink\" href=\"../_theory_.ipynb\">core_expr_types</a>.operations\n",
    "========\n",
    "\n",
    "Theory related to **Operation** types of Prove-It expressions.  An **Operation** has an *operator* and *operand(s)* and represents the operation of the operator being applied to the operands.  For example, $x + y + z$ is an operation of the $+$ operator acting on $x$, $y$, and $z$ as operands."
   ]
  },
  {
   "cell_type": "code",
   "execution_count": 1,
   "metadata": {},
   "outputs": [
    {
     "data": {
      "text/html": [
       "<h3>Local content of this theory</h3>"
      ],
      "text/plain": [
       "<IPython.core.display.HTML object>"
      ]
     },
     "metadata": {},
     "output_type": "display_data"
    },
    {
     "data": {
      "text/html": [
       "<table><tr>\n",
       "<th><a class=\"ProveItLink\" href=\"_common_.ipynb\">common expressions</a></th>\n",
       "<th><a class=\"ProveItLink\" href=\"_axioms_.ipynb\">axioms</a></th>\n",
       "<th><a class=\"ProveItLink\" href=\"_theorems_.ipynb\">theorems</a></th>\n",
       "<th><a class=\"ProveItLink\" href=\"_demonstrations_.ipynb\">demonstrations</a></th>\n",
       "</tr></table>\n",
       "<h3>Sub-theories</h3>\n"
      ],
      "text/plain": [
       "<IPython.core.display.HTML object>"
      ]
     },
     "metadata": {},
     "output_type": "display_data"
    },
    {
     "data": {
      "text/html": [
       "<h3>Axioms contained (directly or indirectly) within this theory</h3>"
      ],
      "text/plain": [
       "<IPython.core.display.HTML object>"
      ]
     },
     "metadata": {},
     "output_type": "display_data"
    },
    {
     "data": {
      "text/html": [
       "<dt><a class=\"ProveItLink\" href=\"_axioms_.ipynb#operands_substitution\">proveit.core_expr_types.operations.operands_substitution</a></dt><dd><a class=\"ProveItLink\" href=\"__pv_it/axioms/d4bca6afbb34ad56f692389ff367aa3141c7de790/expr.ipynb\"><img src=\"data:image/png;base64,iVBORw0KGgoAAAANSUhEUgAAAl4AAAAyBAMAAAB/psi9AAAAMFBMVEX///8QEBCIiIhmZma6urrM\n",
       "zMxUVFQiIiJERETc3Nzu7u6qqqp2dnaYmJgyMjIAAAAcRTyBAAAAAXRSTlMAQObYZgAACCxJREFU\n",
       "aN7dW32IFGUYf253Zmd3dufuiErSqPUO7PCDuzQT0dNTQSPKWw3CPySXK6GibEvLMqulP+y0zO0D\n",
       "/AhxvOJKo+7KrlISN68w1LwBJQq0FvqAAmU9U/TU7P2Yj3dm3pm9lVXu5oWdefed3z4z85v3ed7n\n",
       "YxbAt91+5RIMt5ZoqbREOU33fVdOl0CO2rxl2PF1uPIi59Pdjs2flQDeNOzYglC68jKVgt5ZEDy+\n",
       "nFMgppX3+928wTcCy5d8I9OfOBXgozIFRHKcwe0tQeUr2sTc+qGLAH+XS3iBMxivDSpf+1Sr33Vv\n",
       "CyhN5UrYzxtcHVS+lrPcoY+UK1fCdu5jyAWTL+UC8+UA+mwsW0Q1z3+TmoLJl5S1+kdHTAKoR52O\n",
       "Me+OT/r+jEUkeBqsDASTryXs5OhHn/XIgueVZ6QCiFlvG08RrLN15BRuv5uI/mDydSfreZ1FmxfR\n",
       "hFETA0JOnJTxDqEIwlgLubhTweTrZtYJKKINcsdkiOKpJXjzpSNoE4s8SGMuiHyJl9lZk6F8AdQk\n",
       "/fnSEX58bdOCyFeIXR6jaaqPyKqlSvGFEUrzwnoTR+3XXyagKh1EvqK1zJeqJLX3cbURQqofXxSh\n",
       "zNKqckxwbZecCSJfVewa2IXXyl6A1u4NsJXOmy7MBd7I/7EdithyB9Sg6CCc5y4JRcoXIfOED1/+\n",
       "gCHWuljfqRVv5gF01nU0a5QvaRX20bBqPWd0Vqomog1mYX81xXWEz1K+DuHdPz58+QOGmvvFuqU/\n",
       "gC0eIvq4h6OLzN1OFwE+5K8k/ZSvTdhRyfrw5Q8YatF2t8VD+iSZF+aMI36VW9cSlr9WhBU9HvE2\n",
       "yGcoX9WI3kS3D1/+gCHWfrN0SVpH7fZag40p55Igu8OiDrMnpGG8xs/noHaO8qUc3Llzo5+99wcM\n",
       "sdZoZSOUetq35QsV90+c6deoR0LjvL4+nm9vX+27PvoCrrrFSgFSg8aKVrdPdZ+ozHz0Lx7jt+l8\n",
       "LbWmLJ8vAzBdqwhRAt3lS+G+sLolsHErxp6pXrOpO0Lna45dY8Xl38HoNMuXDkjU5Sty3ijZRkqm\n",
       "8cImoiR2qtl76tqp+tM6XxKEzInzcW8zfJ1QwyrLlw7gptGumq/FJXGy+dBKYjuvJ18JTTKt4etb\n",
       "VNibbErY9FEH1KiV5GtpaaBZqCiJrc5dB31cqfMVKzxohJpz8FBPz9t2vggAlA3NmLv6hZyr3z95\n",
       "jGGdhTEgua55dhpWOfjKeMhiBicYYxm+VGvQUpC+3DXjy7D3sPYRxAYJNYkd60l8stgeP2IAwM94\n",
       "MzZSWOFOCqjLJENZEzWqOybND4i1dr5iGQ9ZzOCX8Gg7ahrCcqVag3FTdRtTXre7tRxu4jmPzBo+\n",
       "4S507STUlIkr3AP5Xjtfu0hoPoks8tXoUUZU53p+0uxvmQcNTkDsg0woa+dLyHrIIoO03WPMoyxX\n",
       "Kh00EIa/yjGypGorlxehPOYeOmPwRVJlONQUn29vfxXxtVWy80VzaetpXi0H4rcu1WCyTtOhzQUI\n",
       "5yNJB19pL1k15qN9yHK7uVLxoP7AzAV+H4cvUrWtLk9RP3WzfsngS1GNUDNN55ew0M4XAeipnSXI\n",
       "j3SZErFouYwrENAJkFqqUna+SO2BK2uJ6ajOhWU4ZadhLE8qGTQZ1X/N8RFx1RaOlmesEkmveJsN\n",
       "Nb/H3WMAxzn5L3kAYutixSPIecQXvkmNrTM22xKFBBzdexyPwrNCEQOso2gjpVrpcZMvOQOmLBZK\n",
       "BpVpJ7CrZ1wFwhpSbafFgxSqmJ5hDacWhqu28EJ5fMm1LpN2keWLhppRFFYLL7dAhMOXkAFxlPzk\n",
       "feNVcuELusVbYEEOb7o7j+0/CJ9nJTwKcxsKGCCO0o/mUE9oe5Met9bHVWDKYqFkMN6Al0+4yzg1\n",
       "Wlt1qbbT4kEKDZtaKHGC5QP6+lJW+8M14y5w8qsNyH555FdxXiSuXxRWDCtjQXuR1CLcl3NRjQDi\n",
       "1pOBHcj40eMmX+PAksVCqcNF1NW89XFgSmVPSwYJtNqylO5aBanahtDVd0yE2Ei/OVWfhLcMne91\n",
       "WcEihy9u/Ehdwp9S5qtR5B5zjrVXggktqB/Jz6cA6zWq3fCEUKDHLb6iDF8slDpcIWQU4ppl8Uyp\n",
       "7GnJIIHutZ7qgPsesOFBzEJ+FoSKsMjbZgm10Gh8+dV5lGa6B81Xos5MfYiN09jEiGLEJN9oqC8c\n",
       "z1OAxiRM7j+sH7eYEhhZmiO3IqfjPwK8b5kCzZTKnhYPEqhsGS3xojs/gRPJUjfEumdANPvAFM97\n",
       "fS9cgHbjy1fOo9uSZfFVuRa2TSXvNhac086rhVSHV2k31FiRqlpAhhuwZzTPU4xalYR+a5nmZtYC\n",
       "V9+e6VazDOULhAFcZfTmC1pV8awnX69BIPlqdTmspGqL9BGQuo0GP75mQKhWr9m6YQF930RyOWBV\n",
       "Sd3eI+LW+PK1BkH0mq3L3ocC+j6Te4EkVVv8Tlc4LVwmfJESrb1gS+q4d0OrptdsUazlYD0dTL7g\n",
       "VpeG6t42yG31F+j8wiVaq2BLOjjf1Fk3M6fXbOFPZ5AQ0Pcxbe/7kkaqtjQeQhaM8BV3ZxX36BZM\n",
       "r9nKznhAf3EueHxV2w2YXrXF8fYyoprYsUq4f4Yi0EhB/teo2Trj7fjIoPIVs1+yUbWN5uAlQMHe\n",
       "O6+0sSVaMxZC/EhaNKkH0q58TnD/r+DwzI2qrZyF2fUpWxhhg2EbVzfZ/O6sMD4MgeUrnOYOl5WP\n",
       "VhzZRSU7SL6G4//52iovctD/5xuO/xcNt1Raovw43fddOf0/xkBX5RQO8K8AAAAASUVORK5CYII=\n",
       "\" style=\"display:inline;vertical-align:middle;\" /></a></dd>"
      ],
      "text/plain": [
       "<IPython.core.display.HTML object>"
      ]
     },
     "metadata": {},
     "output_type": "display_data"
    },
    {
     "data": {
      "text/html": [
       "<h3>Theorems (or conjectures) contained (directly or indirectly) within this theory</h3>"
      ],
      "text/plain": [
       "<IPython.core.display.HTML object>"
      ]
     },
     "metadata": {},
     "output_type": "display_data"
    },
    {
     "data": {
      "text/html": [
       "Also see list of all contained <a href=\"contain_theorems.ipynb\">theorems (or conjectures)</a>."
      ],
      "text/plain": [
       "<IPython.core.display.HTML object>"
      ]
     },
     "metadata": {},
     "output_type": "display_data"
    }
   ],
   "source": [
    "import proveit\n",
    "%theory # toggles between interactive and static modes"
   ]
  },
  {
   "cell_type": "code",
   "execution_count": null,
   "metadata": {},
   "outputs": [],
   "source": []
  }
 ],
 "metadata": {
  "kernelspec": {
   "display_name": "Python 3",
   "language": "python",
   "name": "python3"
  },
  "language_info": {
   "codemirror_mode": {
    "name": "ipython",
    "version": 3
   },
   "file_extension": ".py",
   "mimetype": "text/x-python",
   "name": "python",
   "nbconvert_exporter": "python",
   "pygments_lexer": "ipython3",
   "version": "3.7.3"
  }
 },
 "nbformat": 4,
 "nbformat_minor": 1
}
