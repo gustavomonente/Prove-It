{
 "cells": [
  {
   "cell_type": "markdown",
   "metadata": {},
   "source": [
    "Expression of type <a class=\"ProveItLink\" href=\"../../../../../../../doc/html/api/proveit.Lambda.html\">Lambda</a>\n",
    "=======================\n",
    "# from the theory of <a class=\"ProveItLink\" href=\"../../../_theory_nbs_/theory.ipynb\">proveit.core_expr_types.operations</a>"
   ]
  },
  {
   "cell_type": "code",
   "execution_count": 1,
   "metadata": {},
   "outputs": [],
   "source": [
    "import proveit\n",
    "# Automation is not needed when building an expression:\n",
    "proveit.defaults.automation = False # This will speed things up.\n",
    "proveit.defaults.inline_pngs = False # Makes files smaller.\n",
    "%load_expr # Load the stored expression as 'stored_expr'\n",
    "# import Expression classes needed to build the expression\n",
    "from proveit import Conditional, Lambda, f, n\n",
    "from proveit.core_expr_types import f__x_1_to_n, f__y_1_to_n, x_1_to_n, y_1_to_n\n",
    "from proveit.logic import Equals, Forall, InSet\n",
    "from proveit.numbers import Natural"
   ]
  },
  {
   "cell_type": "code",
   "execution_count": 2,
   "metadata": {},
   "outputs": [
    {
     "data": {
      "text/html": [
       "<strong id=\"expr\">expr:</strong> <a class=\"ProveItLink\" href=\"expr.ipynb\"><img src=\"expr.png\" style=\"display:inline;vertical-align:middle;\" /></a><br>"
      ],
      "text/plain": [
       "expr: n -> {forall_{f, x_{1}, ..x_{_a}.., x_{n}, y_{1}, ..y_{_a}.., y_{n} | (x_{1}, ..x_{_a}.., x_{n}) = (y_{1}, ..y_{_a}.., y_{n})} (f(x_{1}, ..x_{_a}.., x_{n}) =  \\\\ f(y_{1}, ..y_{_a}.., y_{n})) if n in Natural."
      ]
     },
     "execution_count": 2,
     "metadata": {},
     "output_type": "execute_result"
    }
   ],
   "source": [
    "# build up the expression from sub-expressions\n",
    "expr = Lambda(n, Conditional(Forall([f, x_1_to_n, y_1_to_n], Equals(f__x_1_to_n, f__y_1_to_n).with_wrapping_at(2), condition = Equals([x_1_to_n], [y_1_to_n])), InSet(n, Natural)))"
   ]
  },
  {
   "cell_type": "code",
   "execution_count": 3,
   "metadata": {},
   "outputs": [
    {
     "name": "stdout",
     "output_type": "stream",
     "text": [
      "Passed sanity check: expr matches stored_expr\n"
     ]
    }
   ],
   "source": [
    "# check that the built expression is the same as the stored expression\n",
    "assert expr == stored_expr\n",
    "assert expr._style_id == stored_expr._style_id\n",
    "print(\"Passed sanity check: expr matches stored_expr\")"
   ]
  },
  {
   "cell_type": "code",
   "execution_count": 4,
   "metadata": {},
   "outputs": [
    {
     "name": "stdout",
     "output_type": "stream",
     "text": [
      "n \\mapsto \\left\\{\\forall_{f, x_{1}, \\ldots, x_{n}, y_{1}, \\ldots, y_{n}~|~\\left(x_{1}, \\ldots, x_{n}\\right) = \\left(y_{1}, \\ldots, y_{n}\\right)}~\\left(\\begin{array}{c} \\begin{array}{l} f(x_{1}, \\ldots, x_{n}) =  \\\\ f(y_{1}, \\ldots, y_{n}) \\end{array} \\end{array}\\right) \\textrm{ if } n \\in \\mathbb{N}\\right..\n"
     ]
    }
   ],
   "source": [
    "# Show the LaTeX representation of the expression for convenience if you need it.\n",
    "print(expr.latex())"
   ]
  },
  {
   "cell_type": "code",
   "execution_count": 5,
   "metadata": {},
   "outputs": [
    {
     "data": {
      "text/html": [
       "no style options"
      ],
      "text/plain": [
       "no style options"
      ]
     },
     "execution_count": 5,
     "metadata": {},
     "output_type": "execute_result"
    }
   ],
   "source": [
    "expr.style_options()"
   ]
  },
  {
   "cell_type": "code",
   "execution_count": 6,
   "metadata": {},
   "outputs": [
    {
     "data": {
      "text/html": [
       "<table><tr><th>&nbsp;</th><th>core type</th><th>sub-expressions</th><th>expression</th></tr>\n",
       "<tr><td>0</td><td>Lambda</td><td>parameter:&nbsp;27<br>body:&nbsp;1<br></td><td><a class=\"ProveItLink\" href=\"expr.ipynb\"><img src=\"expr.png\" style=\"display:inline;vertical-align:middle;\" /></a></td></tr>\n",
       "<tr><td>1</td><td>Conditional</td><td>value:&nbsp;2<br>condition:&nbsp;3<br></td><td><a class=\"ProveItLink\" href=\"../93914b66142870c799198dd3f5013979783a86bc0/expr.ipynb\"><img src=\"../93914b66142870c799198dd3f5013979783a86bc0/expr.png\" style=\"display:inline;vertical-align:middle;\" /></a></td></tr>\n",
       "<tr><td>2</td><td>Operation</td><td>operator:&nbsp;4<br>operand:&nbsp;8<br></td><td><a class=\"ProveItLink\" href=\"../cc0db9886d93da825cd4aef25a592f04533de9270/expr.ipynb\"><img src=\"../cc0db9886d93da825cd4aef25a592f04533de9270/expr.png\" style=\"display:inline;vertical-align:middle;\" /></a></td></tr>\n",
       "<tr><td>3</td><td>Operation</td><td>operator:&nbsp;6<br>operands:&nbsp;7<br></td><td><a class=\"ProveItLink\" href=\"../e3c5b209faa86f1e812d35da64c9d9b711de675d0/expr.ipynb\"><img src=\"../e3c5b209faa86f1e812d35da64c9d9b711de675d0/expr.png\" style=\"display:inline;vertical-align:middle;\" /></a></td></tr>\n",
       "<tr><td>4</td><td>Literal</td><td></td><td><a class=\"ProveItLink\" href=\"../../../../../logic/booleans/quantification/universality/__pv_it/common/684d35ba98fcbf8ca5011f865e530a51e77730630/expr.ipynb\"><img src=\"../../../../../logic/booleans/quantification/universality/__pv_it/common/684d35ba98fcbf8ca5011f865e530a51e77730630/expr.png\" style=\"display:inline;vertical-align:middle;\" /></a></td></tr>\n",
       "<tr><td>5</td><td>ExprTuple</td><td>8</td><td><a class=\"ProveItLink\" href=\"../1664ce7492a6184db3cf6c74c38cc13c9fb61f730/expr.ipynb\"><img src=\"../1664ce7492a6184db3cf6c74c38cc13c9fb61f730/expr.png\" style=\"display:inline;vertical-align:middle;\" /></a></td></tr>\n",
       "<tr><td>6</td><td>Literal</td><td></td><td><a class=\"ProveItLink\" href=\"../../../../../logic/sets/membership/__pv_it/common/7171deca84f71f47a6ec7696972d1632274a12880/expr.ipynb\"><img src=\"../../../../../logic/sets/membership/__pv_it/common/7171deca84f71f47a6ec7696972d1632274a12880/expr.png\" style=\"display:inline;vertical-align:middle;\" /></a></td></tr>\n",
       "<tr><td>7</td><td>ExprTuple</td><td>27, 9</td><td><a class=\"ProveItLink\" href=\"../248776733c2a8aa9cdfdf4f76f63a3d26b6d139d0/expr.ipynb\"><img src=\"../248776733c2a8aa9cdfdf4f76f63a3d26b6d139d0/expr.png\" style=\"display:inline;vertical-align:middle;\" /></a></td></tr>\n",
       "<tr><td>8</td><td>Lambda</td><td>parameters:&nbsp;10<br>body:&nbsp;11<br></td><td><a class=\"ProveItLink\" href=\"../c2fc96847def8a26fb83df272e3a59ee098bd3fa0/expr.ipynb\"><img src=\"../c2fc96847def8a26fb83df272e3a59ee098bd3fa0/expr.png\" style=\"display:inline;vertical-align:middle;\" /></a></td></tr>\n",
       "<tr><td>9</td><td>Literal</td><td></td><td><a class=\"ProveItLink\" href=\"../../../../../numbers/number_sets/natural_numbers/__pv_it/common/85c8b43c90a7392ebb5459360d343dfa7c7408b50/expr.ipynb\"><img src=\"../../../../../numbers/number_sets/natural_numbers/__pv_it/common/85c8b43c90a7392ebb5459360d343dfa7c7408b50/expr.png\" style=\"display:inline;vertical-align:middle;\" /></a></td></tr>\n",
       "<tr><td>10</td><td>ExprTuple</td><td>20, 22, 23</td><td><a class=\"ProveItLink\" href=\"../6ea2561186a5f491b4090f00678a22f43cb2c8e50/expr.ipynb\"><img src=\"../6ea2561186a5f491b4090f00678a22f43cb2c8e50/expr.png\" style=\"display:inline;vertical-align:middle;\" /></a></td></tr>\n",
       "<tr><td>11</td><td>Conditional</td><td>value:&nbsp;12<br>condition:&nbsp;13<br></td><td><a class=\"ProveItLink\" href=\"../ffcb5f726832b6ee610fcd8175a8f9197b11685b0/expr.ipynb\"><img src=\"../ffcb5f726832b6ee610fcd8175a8f9197b11685b0/expr.png\" style=\"display:inline;vertical-align:middle;\" /></a></td></tr>\n",
       "<tr><td>12</td><td>Operation</td><td>operator:&nbsp;15<br>operands:&nbsp;14<br></td><td><a class=\"ProveItLink\" href=\"../e4774128c7f18f6397c0d9b44c760770afb790f50/expr.ipynb\"><img src=\"../e4774128c7f18f6397c0d9b44c760770afb790f50/expr.png\" style=\"display:inline;vertical-align:middle;\" /></a></td></tr>\n",
       "<tr><td>13</td><td>Operation</td><td>operator:&nbsp;15<br>operands:&nbsp;16<br></td><td><a class=\"ProveItLink\" href=\"../dc6588d73ffea81e72a2b2e5fc735d6fe9c2f5870/expr.ipynb\"><img src=\"../dc6588d73ffea81e72a2b2e5fc735d6fe9c2f5870/expr.png\" style=\"display:inline;vertical-align:middle;\" /></a></td></tr>\n",
       "<tr><td>14</td><td>ExprTuple</td><td>17, 18</td><td><a class=\"ProveItLink\" href=\"../ff4c4be0f3bd4142b94640393be3ac2dff16c2500/expr.ipynb\"><img src=\"../ff4c4be0f3bd4142b94640393be3ac2dff16c2500/expr.png\" style=\"display:inline;vertical-align:middle;\" /></a></td></tr>\n",
       "<tr><td>15</td><td>Literal</td><td></td><td><a class=\"ProveItLink\" href=\"../../../../../logic/equality/__pv_it/common/731dd3955b346c1320ed5c0ba7a618bcda61457d0/expr.ipynb\"><img src=\"../../../../../logic/equality/__pv_it/common/731dd3955b346c1320ed5c0ba7a618bcda61457d0/expr.png\" style=\"display:inline;vertical-align:middle;\" /></a></td></tr>\n",
       "<tr><td>16</td><td>ExprTuple</td><td>19, 21</td><td><a class=\"ProveItLink\" href=\"../0037d26068aeea629379a445c9fc0ec621a9bf8d0/expr.ipynb\"><img src=\"../0037d26068aeea629379a445c9fc0ec621a9bf8d0/expr.png\" style=\"display:inline;vertical-align:middle;\" /></a></td></tr>\n",
       "<tr><td>17</td><td>Operation</td><td>operator:&nbsp;20<br>operands:&nbsp;19<br></td><td><a class=\"ProveItLink\" href=\"../../../../__pv_it/common/fa75d66948fd68beb38b942c77fd42986ecbffc20/expr.ipynb\"><img src=\"../../../../__pv_it/common/fa75d66948fd68beb38b942c77fd42986ecbffc20/expr.png\" style=\"display:inline;vertical-align:middle;\" /></a></td></tr>\n",
       "<tr><td>18</td><td>Operation</td><td>operator:&nbsp;20<br>operands:&nbsp;21<br></td><td><a class=\"ProveItLink\" href=\"../../../../__pv_it/common/b650a12f3a5c50dfb23fd396da3734dc5205fa960/expr.ipynb\"><img src=\"../../../../__pv_it/common/b650a12f3a5c50dfb23fd396da3734dc5205fa960/expr.png\" style=\"display:inline;vertical-align:middle;\" /></a></td></tr>\n",
       "<tr><td>19</td><td>ExprTuple</td><td>22</td><td><a class=\"ProveItLink\" href=\"../../../../__pv_it/common/b4e28f93c14fb65f5b1261855b2d1dea9481c6120/expr.ipynb\"><img src=\"../../../../__pv_it/common/b4e28f93c14fb65f5b1261855b2d1dea9481c6120/expr.png\" style=\"display:inline;vertical-align:middle;\" /></a></td></tr>\n",
       "<tr><td>20</td><td>Variable</td><td></td><td><a class=\"ProveItLink\" href=\"../../../../../__pv_it/common/c03f8781a34c741744d7dee8670bbb5419fe0ac50/expr.ipynb\"><img src=\"../../../../../__pv_it/common/c03f8781a34c741744d7dee8670bbb5419fe0ac50/expr.png\" style=\"display:inline;vertical-align:middle;\" /></a></td></tr>\n",
       "<tr><td>21</td><td>ExprTuple</td><td>23</td><td><a class=\"ProveItLink\" href=\"../../../../__pv_it/common/34a946761b1de134871ee6cbf0f53773974067990/expr.ipynb\"><img src=\"../../../../__pv_it/common/34a946761b1de134871ee6cbf0f53773974067990/expr.png\" style=\"display:inline;vertical-align:middle;\" /></a></td></tr>\n",
       "<tr><td>22</td><td>ExprRange</td><td>lambda_map:&nbsp;24<br>start_index:&nbsp;26<br>end_index:&nbsp;27<br></td><td><a class=\"ProveItLink\" href=\"../../../../__pv_it/common/787727f81f9180661d3864875ecab8ab340921c50/expr.ipynb\"><img src=\"../../../../__pv_it/common/787727f81f9180661d3864875ecab8ab340921c50/expr.png\" style=\"display:inline;vertical-align:middle;\" /></a></td></tr>\n",
       "<tr><td>23</td><td>ExprRange</td><td>lambda_map:&nbsp;25<br>start_index:&nbsp;26<br>end_index:&nbsp;27<br></td><td><a class=\"ProveItLink\" href=\"../../../../__pv_it/common/d4ccfa4c92b5be548893c8e9f8a96b24fc2db46d0/expr.ipynb\"><img src=\"../../../../__pv_it/common/d4ccfa4c92b5be548893c8e9f8a96b24fc2db46d0/expr.png\" style=\"display:inline;vertical-align:middle;\" /></a></td></tr>\n",
       "<tr><td>24</td><td>Lambda</td><td>parameter:&nbsp;33<br>body:&nbsp;28<br></td><td><a class=\"ProveItLink\" href=\"../../../../__pv_it/common/9f9da64a6f3f7f4d7d39593366f06c70046127720/expr.ipynb\"><img src=\"../../../../__pv_it/common/9f9da64a6f3f7f4d7d39593366f06c70046127720/expr.png\" style=\"display:inline;vertical-align:middle;\" /></a></td></tr>\n",
       "<tr><td>25</td><td>Lambda</td><td>parameter:&nbsp;33<br>body:&nbsp;29<br></td><td><a class=\"ProveItLink\" href=\"../../../../__pv_it/common/e85c6dca3c2891a25500913ce6fa75404b16995d0/expr.ipynb\"><img src=\"../../../../__pv_it/common/e85c6dca3c2891a25500913ce6fa75404b16995d0/expr.png\" style=\"display:inline;vertical-align:middle;\" /></a></td></tr>\n",
       "<tr><td>26</td><td>Literal</td><td></td><td><a class=\"ProveItLink\" href=\"../../../../../numbers/numerals/__pv_it/common/d278e359da0695d9652dd541d45264f93703e2e40/expr.ipynb\"><img src=\"../../../../../numbers/numerals/__pv_it/common/d278e359da0695d9652dd541d45264f93703e2e40/expr.png\" style=\"display:inline;vertical-align:middle;\" /></a></td></tr>\n",
       "<tr><td>27</td><td>Variable</td><td></td><td><a class=\"ProveItLink\" href=\"../../../../../__pv_it/common/6165c9bb82ce3c7097cdba4440a1aeeb6eaca8a40/expr.ipynb\"><img src=\"../../../../../__pv_it/common/6165c9bb82ce3c7097cdba4440a1aeeb6eaca8a40/expr.png\" style=\"display:inline;vertical-align:middle;\" /></a></td></tr>\n",
       "<tr><td>28</td><td>IndexedVar</td><td>variable:&nbsp;30<br>index:&nbsp;33<br></td><td><a class=\"ProveItLink\" href=\"../../../../__pv_it/common/2b235eefbcbf7d9287528d44110903b9cfed0a2a0/expr.ipynb\"><img src=\"../../../../__pv_it/common/2b235eefbcbf7d9287528d44110903b9cfed0a2a0/expr.png\" style=\"display:inline;vertical-align:middle;\" /></a></td></tr>\n",
       "<tr><td>29</td><td>IndexedVar</td><td>variable:&nbsp;31<br>index:&nbsp;33<br></td><td><a class=\"ProveItLink\" href=\"../../../../__pv_it/common/cfe245429f738680263dd9e15adfb363654edf9a0/expr.ipynb\"><img src=\"../../../../__pv_it/common/cfe245429f738680263dd9e15adfb363654edf9a0/expr.png\" style=\"display:inline;vertical-align:middle;\" /></a></td></tr>\n",
       "<tr><td>30</td><td>Variable</td><td></td><td><a class=\"ProveItLink\" href=\"../../../../../__pv_it/common/a2581dc5df71d9a30bad37de14965fa5fec97a240/expr.ipynb\"><img src=\"../../../../../__pv_it/common/a2581dc5df71d9a30bad37de14965fa5fec97a240/expr.png\" style=\"display:inline;vertical-align:middle;\" /></a></td></tr>\n",
       "<tr><td>31</td><td>Variable</td><td></td><td><a class=\"ProveItLink\" href=\"../../../../../__pv_it/common/0f21cbfd5644a1cae6781c1d58354abc2ffbc9000/expr.ipynb\"><img src=\"../../../../../__pv_it/common/0f21cbfd5644a1cae6781c1d58354abc2ffbc9000/expr.png\" style=\"display:inline;vertical-align:middle;\" /></a></td></tr>\n",
       "<tr><td>32</td><td>ExprTuple</td><td>33</td><td><a class=\"ProveItLink\" href=\"../../../../__pv_it/common/ecf50ade416ab41c42c9f4e777b4c862cd9469670/expr.ipynb\"><img src=\"../../../../__pv_it/common/ecf50ade416ab41c42c9f4e777b4c862cd9469670/expr.png\" style=\"display:inline;vertical-align:middle;\" /></a></td></tr>\n",
       "<tr><td>33</td><td>Variable</td><td></td><td><a class=\"ProveItLink\" href=\"../../../../__pv_it/common/9e6d9d5d7eeb0342cf5bca68def0eb165a1a9bb10/expr.ipynb\"><img src=\"../../../../__pv_it/common/9e6d9d5d7eeb0342cf5bca68def0eb165a1a9bb10/expr.png\" style=\"display:inline;vertical-align:middle;\" /></a></td></tr>\n",
       "</table>\n"
      ],
      "text/plain": [
       "0. n -> {forall_{f, x_{1}, ..x_{_a}.., x_{n}, y_{1}, ..y_{_a}.., y_{n} | (x_{1}, ..x_{_a}.., x_{n}) = (y_{1}, ..y_{_a}.., y_{n})} (f(x_{1}, ..x_{_a}.., x_{n}) =  \\\\ f(y_{1}, ..y_{_a}.., y_{n})) if n in Natural.\n",
       "   core type: Lambda\n",
       "   parameter: 27\n",
       "   body: 1\n",
       "1. {forall_{f, x_{1}, ..x_{_a}.., x_{n}, y_{1}, ..y_{_a}.., y_{n} | (x_{1}, ..x_{_a}.., x_{n}) = (y_{1}, ..y_{_a}.., y_{n})} (f(x_{1}, ..x_{_a}.., x_{n}) =  \\\\ f(y_{1}, ..y_{_a}.., y_{n})) if n in Natural.\n",
       "   core type: Conditional\n",
       "   value: 2\n",
       "   condition: 3\n",
       "2. forall_{f, x_{1}, ..x_{_a}.., x_{n}, y_{1}, ..y_{_a}.., y_{n} | (x_{1}, ..x_{_a}.., x_{n}) = (y_{1}, ..y_{_a}.., y_{n})} (f(x_{1}, ..x_{_a}.., x_{n}) =  \\\\ f(y_{1}, ..y_{_a}.., y_{n}))\n",
       "   core type: Operation\n",
       "   operator: 4\n",
       "   operand: 8\n",
       "3. n in Natural\n",
       "   core type: Operation\n",
       "   operator: 6\n",
       "   operands: 7\n",
       "4. forall\n",
       "   core type: Literal\n",
       "   sub-expressions: \n",
       "5. ((f, x_{1}, ..x_{_a}.., x_{n}, y_{1}, ..y_{_a}.., y_{n}) -> {f(x_{1}, ..x_{_a}.., x_{n}) =  \\\\ f(y_{1}, ..y_{_a}.., y_{n}) if (x_{1}, ..x_{_a}.., x_{n}) = (y_{1}, ..y_{_a}.., y_{n}).)\n",
       "   core type: ExprTuple\n",
       "   sub-expressions: 8\n",
       "6. in\n",
       "   core type: Literal\n",
       "   sub-expressions: \n",
       "7. (n, Natural)\n",
       "   core type: ExprTuple\n",
       "   sub-expressions: 27, 9\n",
       "8. (f, x_{1}, ..x_{_a}.., x_{n}, y_{1}, ..y_{_a}.., y_{n}) -> {f(x_{1}, ..x_{_a}.., x_{n}) =  \\\\ f(y_{1}, ..y_{_a}.., y_{n}) if (x_{1}, ..x_{_a}.., x_{n}) = (y_{1}, ..y_{_a}.., y_{n}).\n",
       "   core type: Lambda\n",
       "   parameters: 10\\n   body: 11\n",
       "9. Natural\n",
       "   core type: Literal\n",
       "   sub-expressions: \n",
       "10. (f, x_{1}, ..x_{_a}.., x_{n}, y_{1}, ..y_{_a}.., y_{n})\n",
       "    core type: ExprTuple\n",
       "    sub-expressions: 20, 22, 23\n",
       "11. {f(x_{1}, ..x_{_a}.., x_{n}) =  \\\\ f(y_{1}, ..y_{_a}.., y_{n}) if (x_{1}, ..x_{_a}.., x_{n}) = (y_{1}, ..y_{_a}.., y_{n}).\n",
       "    core type: Conditional\n",
       "    value: 12\n",
       "    condition: 13\n",
       "12. f(x_{1}, ..x_{_a}.., x_{n}) =  \\\\ f(y_{1}, ..y_{_a}.., y_{n})\n",
       "    core type: Operation\n",
       "    operator: 15\n",
       "    operands: 14\n",
       "13. (x_{1}, ..x_{_a}.., x_{n}) = (y_{1}, ..y_{_a}.., y_{n})\n",
       "    core type: Operation\n",
       "    operator: 15\n",
       "    operands: 16\n",
       "14. (f(x_{1}, ..x_{_a}.., x_{n}), f(y_{1}, ..y_{_a}.., y_{n}))\n",
       "    core type: ExprTuple\n",
       "    sub-expressions: 17, 18\n",
       "15. =\n",
       "    core type: Literal\n",
       "    sub-expressions: \n",
       "16. ((x_{1}, ..x_{_a}.., x_{n}), (y_{1}, ..y_{_a}.., y_{n}))\n",
       "    core type: ExprTuple\n",
       "    sub-expressions: 19, 21\n",
       "17. f(x_{1}, ..x_{_a}.., x_{n})\n",
       "    core type: Operation\n",
       "    operator: 20\n",
       "    operands: 19\n",
       "18. f(y_{1}, ..y_{_a}.., y_{n})\n",
       "    core type: Operation\n",
       "    operator: 20\n",
       "    operands: 21\n",
       "19. (x_{1}, ..x_{_a}.., x_{n})\n",
       "    core type: ExprTuple\n",
       "    sub-expressions: 22\n",
       "20. f\n",
       "    core type: Variable\n",
       "    sub-expressions: \n",
       "21. (y_{1}, ..y_{_a}.., y_{n})\n",
       "    core type: ExprTuple\n",
       "    sub-expressions: 23\n",
       "22. x_{1}, ..x_{_a}.., x_{n}\n",
       "    core type: ExprRange\n",
       "    lambda_map: 24\n",
       "    start_index: 26\n",
       "    end_index: 27\n",
       "23. y_{1}, ..y_{_a}.., y_{n}\n",
       "    core type: ExprRange\n",
       "    lambda_map: 25\n",
       "    start_index: 26\n",
       "    end_index: 27\n",
       "24. _a -> x_{_a}\n",
       "    core type: Lambda\n",
       "    parameter: 33\n",
       "    body: 28\n",
       "25. _a -> y_{_a}\n",
       "    core type: Lambda\n",
       "    parameter: 33\n",
       "    body: 29\n",
       "26. 1\n",
       "    core type: Literal\n",
       "    sub-expressions: \n",
       "27. n\n",
       "    core type: Variable\n",
       "    sub-expressions: \n",
       "28. x_{_a}\n",
       "    core type: IndexedVar\n",
       "variable: 30\n",
       "index: 33\n",
       "29. y_{_a}\n",
       "    core type: IndexedVar\n",
       "variable: 31\n",
       "index: 33\n",
       "30. x\n",
       "    core type: Variable\n",
       "    sub-expressions: \n",
       "31. y\n",
       "    core type: Variable\n",
       "    sub-expressions: \n",
       "32. (_a)\n",
       "    core type: ExprTuple\n",
       "    sub-expressions: 33\n",
       "33. _a\n",
       "    core type: Variable\n",
       "    sub-expressions: "
      ]
     },
     "execution_count": 6,
     "metadata": {},
     "output_type": "execute_result"
    }
   ],
   "source": [
    "# display the expression information\n",
    "expr.expr_info()"
   ]
  },
  {
   "cell_type": "code",
   "execution_count": null,
   "metadata": {},
   "outputs": [],
   "source": []
  }
 ],
 "metadata": {
  "kernelspec": {
   "display_name": "Python 3",
   "language": "python",
   "name": "python3"
  }
 },
 "nbformat": 4,
 "nbformat_minor": 0
}