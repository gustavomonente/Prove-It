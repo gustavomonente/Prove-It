{
 "cells": [
  {
   "cell_type": "markdown",
   "metadata": {},
   "source": [
    "Expression of type <a class=\"ProveItLink\" href=\"../../../../../doc/html/api/proveit.ExprTuple.html\">ExprTuple</a>\n",
    "=======================\n",
    "# from context <a class=\"ProveItLink\" href=\"../../_context_.ipynb\">proveit.core_expr_types</a>"
   ]
  },
  {
   "cell_type": "code",
   "execution_count": 1,
   "metadata": {},
   "outputs": [],
   "source": [
    "import proveit\n",
    "# Automation is not needed when building an expression:\n",
    "proveit.defaults.automation = False # This will speed things up.\n",
    "proveit.defaults.inline_pngs = False # Makes files smaller.\n",
    "# import Expression classes needed to build the expression\n",
    "from proveit import ExprRange, ExprTuple, IndexedVar\n",
    "from proveit._common_ import a, fa, i, j, x\n",
    "from proveit.number import Add, Neg, zero"
   ]
  },
  {
   "cell_type": "code",
   "execution_count": 2,
   "metadata": {},
   "outputs": [
    {
     "data": {
      "text/html": [
       "<strong id=\"expr\">expr:</strong> <a class=\"ProveItLink\" href=\"expr.ipynb\"><img src=\"expr.png\" style=\"display:inline;vertical-align:middle;\" /></a><br>"
      ],
      "text/plain": [
       "expr: ((x_{0}, ..x_{i}.., x_{j - i}), (f(i), ..f(a).., f(j)))"
      ]
     },
     "execution_count": 2,
     "metadata": {},
     "output_type": "execute_result"
    }
   ],
   "source": [
    "# build up the expression from sub-expressions\n",
    "expr = ExprTuple([ExprRange(i, IndexedVar(x, i), zero, Add(j, Neg(i)))], [ExprRange(a, fa, i, j)])"
   ]
  },
  {
   "cell_type": "code",
   "execution_count": 3,
   "metadata": {},
   "outputs": [
    {
     "name": "stdout",
     "output_type": "stream",
     "text": [
      "Passed sanity check: built 'expr' is the same as the stored Expression.\n"
     ]
    }
   ],
   "source": [
    "# check that the built expression is the same as the stored expression\n",
    "%check_expr"
   ]
  },
  {
   "cell_type": "code",
   "execution_count": 4,
   "metadata": {},
   "outputs": [
    {
     "name": "stdout",
     "output_type": "stream",
     "text": [
      "\\left(\\left(x_{0}, \\ldots, x_{j - i}\\right), \\left(f(i), \\ldots, f(j)\\right)\\right)\n"
     ]
    }
   ],
   "source": [
    "# Show the LaTeX representation of the expression for convenience if you need it.\n",
    "print(expr.latex())"
   ]
  },
  {
   "cell_type": "code",
   "execution_count": 5,
   "metadata": {},
   "outputs": [
    {
     "data": {
      "text/html": [
       "<table><tr><th>&nbsp;</th><th>core type</th><th>sub-expressions</th><th>expression</th></tr>\n",
       "<tr><td>0</td><td>ExprTuple</td><td>1, 2</td><td><a class=\"ProveItLink\" href=\"expr.ipynb\"><img src=\"expr.png\" style=\"display:inline;vertical-align:middle;\" /></a></td></tr>\n",
       "<tr><td>1</td><td>ExprTuple</td><td>3</td><td><a class=\"ProveItLink\" href=\"../3b7895f5dc09dafbe3d539cbf501ccc2b1fd460f0/expr.ipynb\"><img src=\"../3b7895f5dc09dafbe3d539cbf501ccc2b1fd460f0/expr.png\" style=\"display:inline;vertical-align:middle;\" /></a></td></tr>\n",
       "<tr><td>2</td><td>ExprTuple</td><td>4</td><td><a class=\"ProveItLink\" href=\"../a90447d807c4de0b17528f6a84bc37c4321c36950/expr.ipynb\"><img src=\"../a90447d807c4de0b17528f6a84bc37c4321c36950/expr.png\" style=\"display:inline;vertical-align:middle;\" /></a></td></tr>\n",
       "<tr><td>3</td><td>ExprRange</td><td>lambda_map:&nbsp;5<br>start_index:&nbsp;6<br>end_index:&nbsp;7<br></td><td><a class=\"ProveItLink\" href=\"../4c10ff7f16d6004c6e5b70fc72913eb26993581f0/expr.ipynb\"><img src=\"../4c10ff7f16d6004c6e5b70fc72913eb26993581f0/expr.png\" style=\"display:inline;vertical-align:middle;\" /></a></td></tr>\n",
       "<tr><td>4</td><td>ExprRange</td><td>lambda_map:&nbsp;8<br>start_index:&nbsp;19<br>end_index:&nbsp;14<br></td><td><a class=\"ProveItLink\" href=\"../4364953c923fa6ca90559992aee2d3b09264c0360/expr.ipynb\"><img src=\"../4364953c923fa6ca90559992aee2d3b09264c0360/expr.png\" style=\"display:inline;vertical-align:middle;\" /></a></td></tr>\n",
       "<tr><td>5</td><td>Lambda</td><td>parameter:&nbsp;19<br>body:&nbsp;9<br></td><td><a class=\"ProveItLink\" href=\"../cff4e91787f46c693e74373bbea25926e107ff5e0/expr.ipynb\"><img src=\"../cff4e91787f46c693e74373bbea25926e107ff5e0/expr.png\" style=\"display:inline;vertical-align:middle;\" /></a></td></tr>\n",
       "<tr><td>6</td><td>Literal</td><td></td><td><a class=\"ProveItLink\" href=\"../../../number/numeral/__pv_it/bcb6bc33e5975ec2290a3272bf7802d26ab8421d0/expr.ipynb\"><img src=\"../../../number/numeral/__pv_it/bcb6bc33e5975ec2290a3272bf7802d26ab8421d0/expr.png\" style=\"display:inline;vertical-align:middle;\" /></a></td></tr>\n",
       "<tr><td>7</td><td>Operation</td><td>operator:&nbsp;10<br>operands:&nbsp;11<br></td><td><a class=\"ProveItLink\" href=\"../b6d8b5c28695e1edc6c07b7b7c74c9b5f91239970/expr.ipynb\"><img src=\"../b6d8b5c28695e1edc6c07b7b7c74c9b5f91239970/expr.png\" style=\"display:inline;vertical-align:middle;\" /></a></td></tr>\n",
       "<tr><td>8</td><td>Lambda</td><td>parameter:&nbsp;17<br>body:&nbsp;12<br></td><td><a class=\"ProveItLink\" href=\"../4df79cbef650a27c8a09538689706d4ef348e6770/expr.ipynb\"><img src=\"../4df79cbef650a27c8a09538689706d4ef348e6770/expr.png\" style=\"display:inline;vertical-align:middle;\" /></a></td></tr>\n",
       "<tr><td>9</td><td>IndexedVar</td><td>variable:&nbsp;13<br>index:&nbsp;19<br></td><td><a class=\"ProveItLink\" href=\"../5806935187de2ebea4a8552dee6b2164eb38f3ad0/expr.ipynb\"><img src=\"../5806935187de2ebea4a8552dee6b2164eb38f3ad0/expr.png\" style=\"display:inline;vertical-align:middle;\" /></a></td></tr>\n",
       "<tr><td>10</td><td>Literal</td><td></td><td><a class=\"ProveItLink\" href=\"../../../number/addition/__pv_it/65ad7e8aee19b10110d590375ba95a879c4fb7ea0/expr.ipynb\"><img src=\"../../../number/addition/__pv_it/65ad7e8aee19b10110d590375ba95a879c4fb7ea0/expr.png\" style=\"display:inline;vertical-align:middle;\" /></a></td></tr>\n",
       "<tr><td>11</td><td>ExprTuple</td><td>14, 15</td><td><a class=\"ProveItLink\" href=\"../ca4a1f92524517c4abff9cefdd82a6c41e145bb00/expr.ipynb\"><img src=\"../ca4a1f92524517c4abff9cefdd82a6c41e145bb00/expr.png\" style=\"display:inline;vertical-align:middle;\" /></a></td></tr>\n",
       "<tr><td>12</td><td>Operation</td><td>operator:&nbsp;16<br>operand:&nbsp;17<br></td><td><a class=\"ProveItLink\" href=\"../../../__pv_it/e80bce2a0c2e8c976be76e7b3ce08f76e74ec5550/expr.ipynb\"><img src=\"../../../__pv_it/e80bce2a0c2e8c976be76e7b3ce08f76e74ec5550/expr.png\" style=\"display:inline;vertical-align:middle;\" /></a></td></tr>\n",
       "<tr><td>13</td><td>Variable</td><td></td><td><a class=\"ProveItLink\" href=\"../../../__pv_it/72df168d2bfb4e0140af90912ebf83b13772060b0/expr.ipynb\"><img src=\"../../../__pv_it/72df168d2bfb4e0140af90912ebf83b13772060b0/expr.png\" style=\"display:inline;vertical-align:middle;\" /></a></td></tr>\n",
       "<tr><td>14</td><td>Variable</td><td></td><td><a class=\"ProveItLink\" href=\"../../../__pv_it/6a5b5879f51878868f626bf09e4d76392d4779cd0/expr.ipynb\"><img src=\"../../../__pv_it/6a5b5879f51878868f626bf09e4d76392d4779cd0/expr.png\" style=\"display:inline;vertical-align:middle;\" /></a></td></tr>\n",
       "<tr><td>15</td><td>Operation</td><td>operator:&nbsp;18<br>operand:&nbsp;19<br></td><td><a class=\"ProveItLink\" href=\"../e30e84c6c241a2e59facf3853e0cf2095a9c3cb00/expr.ipynb\"><img src=\"../e30e84c6c241a2e59facf3853e0cf2095a9c3cb00/expr.png\" style=\"display:inline;vertical-align:middle;\" /></a></td></tr>\n",
       "<tr><td>16</td><td>Variable</td><td></td><td><a class=\"ProveItLink\" href=\"../../../__pv_it/d7bbb04e874e28c7cefb21d4eea40806ae52f1f70/expr.ipynb\"><img src=\"../../../__pv_it/d7bbb04e874e28c7cefb21d4eea40806ae52f1f70/expr.png\" style=\"display:inline;vertical-align:middle;\" /></a></td></tr>\n",
       "<tr><td>17</td><td>Variable</td><td></td><td><a class=\"ProveItLink\" href=\"../../../__pv_it/a8d4b3a34d2189508f9082853fbac36935714f280/expr.ipynb\"><img src=\"../../../__pv_it/a8d4b3a34d2189508f9082853fbac36935714f280/expr.png\" style=\"display:inline;vertical-align:middle;\" /></a></td></tr>\n",
       "<tr><td>18</td><td>Literal</td><td></td><td><a class=\"ProveItLink\" href=\"../../../number/negation/__pv_it/2867787e35502987d81a45cac8e7f1c6996d6ff40/expr.ipynb\"><img src=\"../../../number/negation/__pv_it/2867787e35502987d81a45cac8e7f1c6996d6ff40/expr.png\" style=\"display:inline;vertical-align:middle;\" /></a></td></tr>\n",
       "<tr><td>19</td><td>Variable</td><td></td><td><a class=\"ProveItLink\" href=\"../../../__pv_it/557ab5defdcd46aa58168b08767502985122cd490/expr.ipynb\"><img src=\"../../../__pv_it/557ab5defdcd46aa58168b08767502985122cd490/expr.png\" style=\"display:inline;vertical-align:middle;\" /></a></td></tr>\n",
       "</table>\n"
      ],
      "text/plain": [
       "0. ((x_{0}, ..x_{i}.., x_{j - i}), (f(i), ..f(a).., f(j)))\n",
       "   core type: ExprTuple\n",
       "   sub-expressions: 1, 2\n",
       "1. (x_{0}, ..x_{i}.., x_{j - i})\n",
       "   core type: ExprTuple\n",
       "   sub-expressions: 3\n",
       "2. (f(i), ..f(a).., f(j))\n",
       "   core type: ExprTuple\n",
       "   sub-expressions: 4\n",
       "3. x_{0}, ..x_{i}.., x_{j - i}\n",
       "   core type: ExprRange\n",
       "   lambda_map: 5\n",
       "   start_index: 6\n",
       "   end_index: 7\n",
       "4. f(i), ..f(a).., f(j)\n",
       "   core type: ExprRange\n",
       "   lambda_map: 8\n",
       "   start_index: 19\n",
       "   end_index: 14\n",
       "5. i -> x_{i}\n",
       "   core type: Lambda\n",
       "   parameter: 19\n",
       "   body: 9\n",
       "6. 0\n",
       "   core type: Literal\n",
       "   sub-expressions: \n",
       "7. j - i\n",
       "   core type: Operation\n",
       "   operator: 10\n",
       "   operands: 11\n",
       "8. a -> f(a)\n",
       "   core type: Lambda\n",
       "   parameter: 17\n",
       "   body: 12\n",
       "9. x_{i}\n",
       "   core type: IndexedVar\n",
       "variable: 13\n",
       "index: 19\n",
       "10. +\n",
       "    core type: Literal\n",
       "    sub-expressions: \n",
       "11. (j, -i)\n",
       "    core type: ExprTuple\n",
       "    sub-expressions: 14, 15\n",
       "12. f(a)\n",
       "    core type: Operation\n",
       "    operator: 16\n",
       "    operand: 17\n",
       "13. x\n",
       "    core type: Variable\n",
       "    sub-expressions: \n",
       "14. j\n",
       "    core type: Variable\n",
       "    sub-expressions: \n",
       "15. -i\n",
       "    core type: Operation\n",
       "    operator: 18\n",
       "    operand: 19\n",
       "16. f\n",
       "    core type: Variable\n",
       "    sub-expressions: \n",
       "17. a\n",
       "    core type: Variable\n",
       "    sub-expressions: \n",
       "18. -\n",
       "    core type: Literal\n",
       "    sub-expressions: \n",
       "19. i\n",
       "    core type: Variable\n",
       "    sub-expressions: "
      ]
     },
     "execution_count": 5,
     "metadata": {},
     "output_type": "execute_result"
    }
   ],
   "source": [
    "# display the expression information\n",
    "expr.exprInfo()"
   ]
  },
  {
   "cell_type": "code",
   "execution_count": null,
   "metadata": {},
   "outputs": [],
   "source": []
  }
 ],
 "metadata": {
  "kernelspec": {
   "display_name": "Python 3",
   "language": "python",
   "name": "python3"
  },
  "language_info": {
   "codemirror_mode": {
    "name": "ipython",
    "version": 3
   },
   "file_extension": ".py",
   "mimetype": "text/x-python",
   "name": "python",
   "nbconvert_exporter": "python",
   "pygments_lexer": "ipython3",
   "version": "3.7.3"
  }
 },
 "nbformat": 4,
 "nbformat_minor": 1
}
