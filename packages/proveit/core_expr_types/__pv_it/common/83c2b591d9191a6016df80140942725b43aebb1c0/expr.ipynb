{
 "cells": [
  {
   "cell_type": "markdown",
   "metadata": {},
   "source": [
    "Expression of type <a class=\"ProveItLink\" href=\"../../../../../../doc/html/api/proveit.ExprTuple.html\">ExprTuple</a>\n",
    "=======================\n",
    "# from the theory of <a class=\"ProveItLink\" href=\"../../../_theory_nbs_/theory.ipynb\">proveit.core_expr_types</a>"
   ]
  },
  {
   "cell_type": "code",
   "execution_count": 1,
   "metadata": {},
   "outputs": [],
   "source": [
    "import proveit\n",
    "# Automation is not needed when building an expression:\n",
    "proveit.defaults.automation = False # This will speed things up.\n",
    "proveit.defaults.inline_pngs = False # Makes files smaller.\n",
    "%load_expr # Load the stored expression as 'stored_expr'\n",
    "# import Expression classes needed to build the expression\n",
    "from proveit import ExprRange, ExprTuple, a, fa, i, j, k\n",
    "from proveit.numbers import Add, one"
   ]
  },
  {
   "cell_type": "code",
   "execution_count": 2,
   "metadata": {},
   "outputs": [
    {
     "data": {
      "text/html": [
       "<strong id=\"expr\">expr:</strong> <a class=\"ProveItLink\" href=\"expr.ipynb\"><img src=\"expr.png\" style=\"display:inline;vertical-align:middle;\" /></a><br>"
      ],
      "text/plain": [
       "expr: ((f(i), ..f(a).., f(k)), (f(i), ..f(a).., f(j), f(j + 1), ..f(a).., f(k)))"
      ]
     },
     "execution_count": 2,
     "metadata": {},
     "output_type": "execute_result"
    }
   ],
   "source": [
    "# build up the expression from sub-expressions\n",
    "expr = ExprTuple([ExprRange(a, fa, i, k)], [ExprRange(a, fa, i, j), ExprRange(a, fa, Add(j, one), k)])"
   ]
  },
  {
   "cell_type": "code",
   "execution_count": 3,
   "metadata": {},
   "outputs": [
    {
     "name": "stdout",
     "output_type": "stream",
     "text": [
      "Passed sanity check: expr matches stored_expr\n"
     ]
    }
   ],
   "source": [
    "# check that the built expression is the same as the stored expression\n",
    "assert expr == stored_expr\n",
    "assert expr._style_id == stored_expr._style_id\n",
    "print(\"Passed sanity check: expr matches stored_expr\")"
   ]
  },
  {
   "cell_type": "code",
   "execution_count": 4,
   "metadata": {},
   "outputs": [
    {
     "name": "stdout",
     "output_type": "stream",
     "text": [
      "\\left(\\left(f(i), \\ldots, f(k)\\right), \\left(f(i), \\ldots, f(j), f(j + 1), \\ldots, f(k)\\right)\\right)\n"
     ]
    }
   ],
   "source": [
    "# Show the LaTeX representation of the expression for convenience if you need it.\n",
    "print(expr.latex())"
   ]
  },
  {
   "cell_type": "code",
   "execution_count": 5,
   "metadata": {},
   "outputs": [
    {
     "data": {
      "text/html": [
       "<table><tr><th>&nbsp;</th><th>core type</th><th>sub-expressions</th><th>expression</th></tr>\n",
       "<tr><td>0</td><td>ExprTuple</td><td>1, 2</td><td><a class=\"ProveItLink\" href=\"expr.ipynb\"><img src=\"expr.png\" style=\"display:inline;vertical-align:middle;\" /></a></td></tr>\n",
       "<tr><td>1</td><td>ExprTuple</td><td>3</td><td><a class=\"ProveItLink\" href=\"../78931ad2f01e4db12caa53a42e2ee67a70bfb6860/expr.ipynb\"><img src=\"../78931ad2f01e4db12caa53a42e2ee67a70bfb6860/expr.png\" style=\"display:inline;vertical-align:middle;\" /></a></td></tr>\n",
       "<tr><td>2</td><td>ExprTuple</td><td>4, 5</td><td><a class=\"ProveItLink\" href=\"../435f30568542fcf1c03983b9b75053106edb1bca0/expr.ipynb\"><img src=\"../435f30568542fcf1c03983b9b75053106edb1bca0/expr.png\" style=\"display:inline;vertical-align:middle;\" /></a></td></tr>\n",
       "<tr><td>3</td><td>ExprRange</td><td>lambda_map:&nbsp;7<br>start_index:&nbsp;6<br>end_index:&nbsp;9<br></td><td><a class=\"ProveItLink\" href=\"../bf92588fc79b8b9686fc761a06a57f46d2a289e00/expr.ipynb\"><img src=\"../bf92588fc79b8b9686fc761a06a57f46d2a289e00/expr.png\" style=\"display:inline;vertical-align:middle;\" /></a></td></tr>\n",
       "<tr><td>4</td><td>ExprRange</td><td>lambda_map:&nbsp;7<br>start_index:&nbsp;6<br>end_index:&nbsp;15<br></td><td><a class=\"ProveItLink\" href=\"../3d9a87ffd4be36627be73e54e63e856525119e8f0/expr.ipynb\"><img src=\"../3d9a87ffd4be36627be73e54e63e856525119e8f0/expr.png\" style=\"display:inline;vertical-align:middle;\" /></a></td></tr>\n",
       "<tr><td>5</td><td>ExprRange</td><td>lambda_map:&nbsp;7<br>start_index:&nbsp;8<br>end_index:&nbsp;9<br></td><td><a class=\"ProveItLink\" href=\"../5a85871a52b2b265e9c4d84d24945ee028d864760/expr.ipynb\"><img src=\"../5a85871a52b2b265e9c4d84d24945ee028d864760/expr.png\" style=\"display:inline;vertical-align:middle;\" /></a></td></tr>\n",
       "<tr><td>6</td><td>Variable</td><td></td><td><a class=\"ProveItLink\" href=\"../../../../__pv_it/common/ae955345c83abf786c3aff8681cd5465beae262d0/expr.ipynb\"><img src=\"../../../../__pv_it/common/ae955345c83abf786c3aff8681cd5465beae262d0/expr.png\" style=\"display:inline;vertical-align:middle;\" /></a></td></tr>\n",
       "<tr><td>7</td><td>Lambda</td><td>parameter:&nbsp;14<br>body:&nbsp;10<br></td><td><a class=\"ProveItLink\" href=\"../49704c41a9c4f8fed48d37ee4f0d99179dd65e120/expr.ipynb\"><img src=\"../49704c41a9c4f8fed48d37ee4f0d99179dd65e120/expr.png\" style=\"display:inline;vertical-align:middle;\" /></a></td></tr>\n",
       "<tr><td>8</td><td>Operation</td><td>operator:&nbsp;11<br>operands:&nbsp;12<br></td><td><a class=\"ProveItLink\" href=\"../b70930439f623bf29327b809b7a7535698b7f7e40/expr.ipynb\"><img src=\"../b70930439f623bf29327b809b7a7535698b7f7e40/expr.png\" style=\"display:inline;vertical-align:middle;\" /></a></td></tr>\n",
       "<tr><td>9</td><td>Variable</td><td></td><td><a class=\"ProveItLink\" href=\"../../../../__pv_it/common/63b7c64bf9ec7a04ecc396c7a1670f3f12fb59490/expr.ipynb\"><img src=\"../../../../__pv_it/common/63b7c64bf9ec7a04ecc396c7a1670f3f12fb59490/expr.png\" style=\"display:inline;vertical-align:middle;\" /></a></td></tr>\n",
       "<tr><td>10</td><td>Operation</td><td>operator:&nbsp;13<br>operand:&nbsp;14<br></td><td><a class=\"ProveItLink\" href=\"../../../../__pv_it/common/4c8d0743cd9cbb7082cfd21cb457a06c7998dd150/expr.ipynb\"><img src=\"../../../../__pv_it/common/4c8d0743cd9cbb7082cfd21cb457a06c7998dd150/expr.png\" style=\"display:inline;vertical-align:middle;\" /></a></td></tr>\n",
       "<tr><td>11</td><td>Literal</td><td></td><td><a class=\"ProveItLink\" href=\"../../../../numbers/addition/__pv_it/common/4b7effaab3619a1c2c38fe2dee8601df8ec714590/expr.ipynb\"><img src=\"../../../../numbers/addition/__pv_it/common/4b7effaab3619a1c2c38fe2dee8601df8ec714590/expr.png\" style=\"display:inline;vertical-align:middle;\" /></a></td></tr>\n",
       "<tr><td>12</td><td>ExprTuple</td><td>15, 16</td><td><a class=\"ProveItLink\" href=\"../d00d31a0b619247566ffcfb37d559e2c8c5236580/expr.ipynb\"><img src=\"../d00d31a0b619247566ffcfb37d559e2c8c5236580/expr.png\" style=\"display:inline;vertical-align:middle;\" /></a></td></tr>\n",
       "<tr><td>13</td><td>Variable</td><td></td><td><a class=\"ProveItLink\" href=\"../../../../__pv_it/common/01b6dbb444a31fc38af4c2379badef6c75b363710/expr.ipynb\"><img src=\"../../../../__pv_it/common/01b6dbb444a31fc38af4c2379badef6c75b363710/expr.png\" style=\"display:inline;vertical-align:middle;\" /></a></td></tr>\n",
       "<tr><td>14</td><td>Variable</td><td></td><td><a class=\"ProveItLink\" href=\"../../../../__pv_it/common/c06c606ec12678c58933ac85412ecadc2ae28be60/expr.ipynb\"><img src=\"../../../../__pv_it/common/c06c606ec12678c58933ac85412ecadc2ae28be60/expr.png\" style=\"display:inline;vertical-align:middle;\" /></a></td></tr>\n",
       "<tr><td>15</td><td>Variable</td><td></td><td><a class=\"ProveItLink\" href=\"../../../../__pv_it/common/1ed21df18baca2f42b561a7ffbf30a2743d594650/expr.ipynb\"><img src=\"../../../../__pv_it/common/1ed21df18baca2f42b561a7ffbf30a2743d594650/expr.png\" style=\"display:inline;vertical-align:middle;\" /></a></td></tr>\n",
       "<tr><td>16</td><td>Literal</td><td></td><td><a class=\"ProveItLink\" href=\"../../../../numbers/numerals/__pv_it/common/2778428c7f555b2bdc06aa0530bc142c6e6335100/expr.ipynb\"><img src=\"../../../../numbers/numerals/__pv_it/common/2778428c7f555b2bdc06aa0530bc142c6e6335100/expr.png\" style=\"display:inline;vertical-align:middle;\" /></a></td></tr>\n",
       "</table>\n"
      ],
      "text/plain": [
       "0. ((f(i), ..f(a).., f(k)), (f(i), ..f(a).., f(j), f(j + 1), ..f(a).., f(k)))\n",
       "   core type: ExprTuple\n",
       "   sub-expressions: 1, 2\n",
       "1. (f(i), ..f(a).., f(k))\n",
       "   core type: ExprTuple\n",
       "   sub-expressions: 3\n",
       "2. (f(i), ..f(a).., f(j), f(j + 1), ..f(a).., f(k))\n",
       "   core type: ExprTuple\n",
       "   sub-expressions: 4, 5\n",
       "3. f(i), ..f(a).., f(k)\n",
       "   core type: ExprRange\n",
       "   lambda_map: 7\n",
       "   start_index: 6\n",
       "   end_index: 9\n",
       "4. f(i), ..f(a).., f(j)\n",
       "   core type: ExprRange\n",
       "   lambda_map: 7\n",
       "   start_index: 6\n",
       "   end_index: 15\n",
       "5. f(j + 1), ..f(a).., f(k)\n",
       "   core type: ExprRange\n",
       "   lambda_map: 7\n",
       "   start_index: 8\n",
       "   end_index: 9\n",
       "6. i\n",
       "   core type: Variable\n",
       "   sub-expressions: \n",
       "7. a -> f(a)\n",
       "   core type: Lambda\n",
       "   parameter: 14\n",
       "   body: 10\n",
       "8. j + 1\n",
       "   core type: Operation\n",
       "   operator: 11\n",
       "   operands: 12\n",
       "9. k\n",
       "   core type: Variable\n",
       "   sub-expressions: \n",
       "10. f(a)\n",
       "    core type: Operation\n",
       "    operator: 13\n",
       "    operand: 14\n",
       "11. +\n",
       "    core type: Literal\n",
       "    sub-expressions: \n",
       "12. (j, 1)\n",
       "    core type: ExprTuple\n",
       "    sub-expressions: 15, 16\n",
       "13. f\n",
       "    core type: Variable\n",
       "    sub-expressions: \n",
       "14. a\n",
       "    core type: Variable\n",
       "    sub-expressions: \n",
       "15. j\n",
       "    core type: Variable\n",
       "    sub-expressions: \n",
       "16. 1\n",
       "    core type: Literal\n",
       "    sub-expressions: "
      ]
     },
     "execution_count": 5,
     "metadata": {},
     "output_type": "execute_result"
    }
   ],
   "source": [
    "# display the expression information\n",
    "expr.expr_info()"
   ]
  },
  {
   "cell_type": "code",
   "execution_count": null,
   "metadata": {},
   "outputs": [],
   "source": []
  }
 ],
 "metadata": {
  "kernelspec": {
   "display_name": "Python 3",
   "language": "python",
   "name": "python3"
  }
 },
 "nbformat": 4,
 "nbformat_minor": 0
}