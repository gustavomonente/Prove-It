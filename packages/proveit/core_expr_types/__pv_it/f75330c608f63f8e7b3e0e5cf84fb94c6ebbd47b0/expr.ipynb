{
 "cells": [
  {
   "cell_type": "markdown",
   "metadata": {},
   "source": [
    "Expression of type <a class=\"ProveItLink\" href=\"../../../../../doc/html/api/proveit.ExprTuple.html\">ExprTuple</a>\n",
    "=======================\n",
    "# from context <a class=\"ProveItLink\" href=\"../../_context_.ipynb\">proveit.core_expr_types</a>"
   ]
  },
  {
   "cell_type": "code",
   "execution_count": 1,
   "metadata": {},
   "outputs": [],
   "source": [
    "import proveit\n",
    "# Automation is not needed when building an expression:\n",
    "proveit.defaults.automation = False # This will speed things up.\n",
    "proveit.defaults.inline_pngs = False # Makes files smaller.\n",
    "# import Expression classes needed to build the expression\n",
    "from proveit import ExprRange, ExprTuple, Function\n",
    "from proveit._common_ import a, f, fa, i, j\n",
    "from proveit.number import Add, one"
   ]
  },
  {
   "cell_type": "code",
   "execution_count": 2,
   "metadata": {},
   "outputs": [
    {
     "data": {
      "text/html": [
       "<strong id=\"expr\">expr:</strong> <a class=\"ProveItLink\" href=\"expr.ipynb\"><img src=\"expr.png\" style=\"display:inline;vertical-align:middle;\" /></a><br>"
      ],
      "text/plain": [
       "expr: ((f(i), ..f(a).., f(j)), (f(i), f(i + 1), ..f(a).., f(j)))"
      ]
     },
     "execution_count": 2,
     "metadata": {},
     "output_type": "execute_result"
    }
   ],
   "source": [
    "# build up the expression from sub-expressions\n",
    "expr = ExprTuple([ExprRange(a, fa, i, j)], [Function(f, i), ExprRange(a, fa, Add(i, one), j)])"
   ]
  },
  {
   "cell_type": "code",
   "execution_count": 3,
   "metadata": {},
   "outputs": [
    {
     "name": "stdout",
     "output_type": "stream",
     "text": [
      "Passed sanity check: built 'expr' is the same as the stored Expression.\n"
     ]
    }
   ],
   "source": [
    "# check that the built expression is the same as the stored expression\n",
    "%check_expr"
   ]
  },
  {
   "cell_type": "code",
   "execution_count": 4,
   "metadata": {},
   "outputs": [
    {
     "name": "stdout",
     "output_type": "stream",
     "text": [
      "\\left(\\left(f(i), \\ldots, f(j)\\right), \\left(f(i), f(i + 1), \\ldots, f(j)\\right)\\right)\n"
     ]
    }
   ],
   "source": [
    "# Show the LaTeX representation of the expression for convenience if you need it.\n",
    "print(expr.latex())"
   ]
  },
  {
   "cell_type": "code",
   "execution_count": 5,
   "metadata": {},
   "outputs": [
    {
     "data": {
      "text/html": [
       "<table><tr><th>&nbsp;</th><th>core type</th><th>sub-expressions</th><th>expression</th></tr>\n",
       "<tr><td>0</td><td>ExprTuple</td><td>1, 2</td><td><a class=\"ProveItLink\" href=\"expr.ipynb\"><img src=\"expr.png\" style=\"display:inline;vertical-align:middle;\" /></a></td></tr>\n",
       "<tr><td>1</td><td>ExprTuple</td><td>3</td><td><a class=\"ProveItLink\" href=\"../a90447d807c4de0b17528f6a84bc37c4321c36950/expr.ipynb\"><img src=\"../a90447d807c4de0b17528f6a84bc37c4321c36950/expr.png\" style=\"display:inline;vertical-align:middle;\" /></a></td></tr>\n",
       "<tr><td>2</td><td>ExprTuple</td><td>4, 5</td><td><a class=\"ProveItLink\" href=\"../ffb87a01b2a5464ef3eca27626c5992ac550a1f80/expr.ipynb\"><img src=\"../ffb87a01b2a5464ef3eca27626c5992ac550a1f80/expr.png\" style=\"display:inline;vertical-align:middle;\" /></a></td></tr>\n",
       "<tr><td>3</td><td>ExprRange</td><td>lambda_map:&nbsp;6<br>start_index:&nbsp;14<br>end_index:&nbsp;8<br></td><td><a class=\"ProveItLink\" href=\"../4364953c923fa6ca90559992aee2d3b09264c0360/expr.ipynb\"><img src=\"../4364953c923fa6ca90559992aee2d3b09264c0360/expr.png\" style=\"display:inline;vertical-align:middle;\" /></a></td></tr>\n",
       "<tr><td>4</td><td>Operation</td><td>operator:&nbsp;12<br>operand:&nbsp;14<br></td><td><a class=\"ProveItLink\" href=\"../ac406608e4c1a110d279c13e6aa03c833d5f65d00/expr.ipynb\"><img src=\"../ac406608e4c1a110d279c13e6aa03c833d5f65d00/expr.png\" style=\"display:inline;vertical-align:middle;\" /></a></td></tr>\n",
       "<tr><td>5</td><td>ExprRange</td><td>lambda_map:&nbsp;6<br>start_index:&nbsp;7<br>end_index:&nbsp;8<br></td><td><a class=\"ProveItLink\" href=\"../36d19706f5debc813fe8dd05b3949d593decde5f0/expr.ipynb\"><img src=\"../36d19706f5debc813fe8dd05b3949d593decde5f0/expr.png\" style=\"display:inline;vertical-align:middle;\" /></a></td></tr>\n",
       "<tr><td>6</td><td>Lambda</td><td>parameter:&nbsp;13<br>body:&nbsp;9<br></td><td><a class=\"ProveItLink\" href=\"../4df79cbef650a27c8a09538689706d4ef348e6770/expr.ipynb\"><img src=\"../4df79cbef650a27c8a09538689706d4ef348e6770/expr.png\" style=\"display:inline;vertical-align:middle;\" /></a></td></tr>\n",
       "<tr><td>7</td><td>Operation</td><td>operator:&nbsp;10<br>operands:&nbsp;11<br></td><td><a class=\"ProveItLink\" href=\"../3d7ea1a7d70557d7784ad165e368a32c1f1c37490/expr.ipynb\"><img src=\"../3d7ea1a7d70557d7784ad165e368a32c1f1c37490/expr.png\" style=\"display:inline;vertical-align:middle;\" /></a></td></tr>\n",
       "<tr><td>8</td><td>Variable</td><td></td><td><a class=\"ProveItLink\" href=\"../../../__pv_it/6a5b5879f51878868f626bf09e4d76392d4779cd0/expr.ipynb\"><img src=\"../../../__pv_it/6a5b5879f51878868f626bf09e4d76392d4779cd0/expr.png\" style=\"display:inline;vertical-align:middle;\" /></a></td></tr>\n",
       "<tr><td>9</td><td>Operation</td><td>operator:&nbsp;12<br>operand:&nbsp;13<br></td><td><a class=\"ProveItLink\" href=\"../../../__pv_it/e80bce2a0c2e8c976be76e7b3ce08f76e74ec5550/expr.ipynb\"><img src=\"../../../__pv_it/e80bce2a0c2e8c976be76e7b3ce08f76e74ec5550/expr.png\" style=\"display:inline;vertical-align:middle;\" /></a></td></tr>\n",
       "<tr><td>10</td><td>Literal</td><td></td><td><a class=\"ProveItLink\" href=\"../../../number/addition/__pv_it/65ad7e8aee19b10110d590375ba95a879c4fb7ea0/expr.ipynb\"><img src=\"../../../number/addition/__pv_it/65ad7e8aee19b10110d590375ba95a879c4fb7ea0/expr.png\" style=\"display:inline;vertical-align:middle;\" /></a></td></tr>\n",
       "<tr><td>11</td><td>ExprTuple</td><td>14, 15</td><td><a class=\"ProveItLink\" href=\"../92269e6244b0df715311e882260ecf2e1ff1ea220/expr.ipynb\"><img src=\"../92269e6244b0df715311e882260ecf2e1ff1ea220/expr.png\" style=\"display:inline;vertical-align:middle;\" /></a></td></tr>\n",
       "<tr><td>12</td><td>Variable</td><td></td><td><a class=\"ProveItLink\" href=\"../../../__pv_it/d7bbb04e874e28c7cefb21d4eea40806ae52f1f70/expr.ipynb\"><img src=\"../../../__pv_it/d7bbb04e874e28c7cefb21d4eea40806ae52f1f70/expr.png\" style=\"display:inline;vertical-align:middle;\" /></a></td></tr>\n",
       "<tr><td>13</td><td>Variable</td><td></td><td><a class=\"ProveItLink\" href=\"../../../__pv_it/a8d4b3a34d2189508f9082853fbac36935714f280/expr.ipynb\"><img src=\"../../../__pv_it/a8d4b3a34d2189508f9082853fbac36935714f280/expr.png\" style=\"display:inline;vertical-align:middle;\" /></a></td></tr>\n",
       "<tr><td>14</td><td>Variable</td><td></td><td><a class=\"ProveItLink\" href=\"../../../__pv_it/557ab5defdcd46aa58168b08767502985122cd490/expr.ipynb\"><img src=\"../../../__pv_it/557ab5defdcd46aa58168b08767502985122cd490/expr.png\" style=\"display:inline;vertical-align:middle;\" /></a></td></tr>\n",
       "<tr><td>15</td><td>Literal</td><td></td><td><a class=\"ProveItLink\" href=\"../../../number/numeral/__pv_it/f086f8c372bd40a2458306ddfdbb29f3dc6f63030/expr.ipynb\"><img src=\"../../../number/numeral/__pv_it/f086f8c372bd40a2458306ddfdbb29f3dc6f63030/expr.png\" style=\"display:inline;vertical-align:middle;\" /></a></td></tr>\n",
       "</table>\n"
      ],
      "text/plain": [
       "0. ((f(i), ..f(a).., f(j)), (f(i), f(i + 1), ..f(a).., f(j)))\n",
       "   core type: ExprTuple\n",
       "   sub-expressions: 1, 2\n",
       "1. (f(i), ..f(a).., f(j))\n",
       "   core type: ExprTuple\n",
       "   sub-expressions: 3\n",
       "2. (f(i), f(i + 1), ..f(a).., f(j))\n",
       "   core type: ExprTuple\n",
       "   sub-expressions: 4, 5\n",
       "3. f(i), ..f(a).., f(j)\n",
       "   core type: ExprRange\n",
       "   lambda_map: 6\n",
       "   start_index: 14\n",
       "   end_index: 8\n",
       "4. f(i)\n",
       "   core type: Operation\n",
       "   operator: 12\n",
       "   operand: 14\n",
       "5. f(i + 1), ..f(a).., f(j)\n",
       "   core type: ExprRange\n",
       "   lambda_map: 6\n",
       "   start_index: 7\n",
       "   end_index: 8\n",
       "6. a -> f(a)\n",
       "   core type: Lambda\n",
       "   parameter: 13\n",
       "   body: 9\n",
       "7. i + 1\n",
       "   core type: Operation\n",
       "   operator: 10\n",
       "   operands: 11\n",
       "8. j\n",
       "   core type: Variable\n",
       "   sub-expressions: \n",
       "9. f(a)\n",
       "   core type: Operation\n",
       "   operator: 12\n",
       "   operand: 13\n",
       "10. +\n",
       "    core type: Literal\n",
       "    sub-expressions: \n",
       "11. (i, 1)\n",
       "    core type: ExprTuple\n",
       "    sub-expressions: 14, 15\n",
       "12. f\n",
       "    core type: Variable\n",
       "    sub-expressions: \n",
       "13. a\n",
       "    core type: Variable\n",
       "    sub-expressions: \n",
       "14. i\n",
       "    core type: Variable\n",
       "    sub-expressions: \n",
       "15. 1\n",
       "    core type: Literal\n",
       "    sub-expressions: "
      ]
     },
     "execution_count": 5,
     "metadata": {},
     "output_type": "execute_result"
    }
   ],
   "source": [
    "# display the expression information\n",
    "expr.exprInfo()"
   ]
  },
  {
   "cell_type": "code",
   "execution_count": null,
   "metadata": {},
   "outputs": [],
   "source": []
  }
 ],
 "metadata": {
  "kernelspec": {
   "display_name": "Python 3",
   "language": "python",
   "name": "python3"
  },
  "language_info": {
   "codemirror_mode": {
    "name": "ipython",
    "version": 3
   },
   "file_extension": ".py",
   "mimetype": "text/x-python",
   "name": "python",
   "nbconvert_exporter": "python",
   "pygments_lexer": "ipython3",
   "version": "3.7.3"
  }
 },
 "nbformat": 4,
 "nbformat_minor": 1
}
