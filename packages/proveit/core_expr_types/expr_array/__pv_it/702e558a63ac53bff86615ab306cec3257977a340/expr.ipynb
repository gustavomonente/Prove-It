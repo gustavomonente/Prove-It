{
 "cells": [
  {
   "cell_type": "markdown",
   "metadata": {},
   "source": [
    "Expression of type <a class=\"ProveItLink\" href=\"../../../../../../doc/html/api/proveit.ExprArray.html\">ExprArray</a>\n",
    "=======================\n",
    "# from context <a class=\"ProveItLink\" href=\"../../_context_.ipynb\">proveit.core_expr_types.expr_array</a>"
   ]
  },
  {
   "cell_type": "code",
   "execution_count": 1,
   "metadata": {},
   "outputs": [],
   "source": [
    "import proveit\n",
    "# Automation is not needed when building an expression:\n",
    "proveit.defaults.automation = False # This will speed things up.\n",
    "proveit.defaults.inline_pngs = False # Makes files smaller.\n",
    "# import Expression classes needed to build the expression\n",
    "from proveit import ExprArray, ExprRange, IndexedVar, Variable\n",
    "from proveit._common_ import A, B, C, D, i, j"
   ]
  },
  {
   "cell_type": "code",
   "execution_count": 2,
   "metadata": {},
   "outputs": [
    {
     "data": {
      "text/html": [
       "<strong id=\"expr\">expr:</strong> <a class=\"ProveItLink\" href=\"expr.ipynb\"><img src=\"expr.png\" style=\"display:inline;vertical-align:middle;\" /></a><br>"
      ],
      "text/plain": [
       "expr: A_{i} & C_{i}  \\\\ \n",
       "  \\vdots & \\vdots  \\\\ \n",
       "  A_{j} & C_{j}  \\\\ \n",
       "  B_{i} & D_{i}  \\\\ \n",
       "  \\vdots & \\vdots  \\\\ \n",
       "  B_{j} & D_{j}  \\\\ \n",
       " "
      ]
     },
     "execution_count": 2,
     "metadata": {},
     "output_type": "execute_result"
    }
   ],
   "source": [
    "# build up the expression from sub-expressions\n",
    "subExpr1 = Variable(\"_a\", latexFormat = r\"{_{-}a}\")\n",
    "expr = ExprArray([ExprRange(subExpr1, IndexedVar(A, subExpr1), i, j), ExprRange(subExpr1, IndexedVar(B, subExpr1), i, j)], [ExprRange(subExpr1, IndexedVar(C, subExpr1), i, j), ExprRange(subExpr1, IndexedVar(D, subExpr1), i, j)]).withOrientation(\"vertical\").withImplicitParameterization()"
   ]
  },
  {
   "cell_type": "code",
   "execution_count": 3,
   "metadata": {},
   "outputs": [
    {
     "name": "stdout",
     "output_type": "stream",
     "text": [
      "Passed sanity check: built 'expr' is the same as the stored Expression.\n"
     ]
    }
   ],
   "source": [
    "# check that the built expression is the same as the stored expression\n",
    "%check_expr"
   ]
  },
  {
   "cell_type": "code",
   "execution_count": 4,
   "metadata": {},
   "outputs": [
    {
     "name": "stdout",
     "output_type": "stream",
     "text": [
      "\\begin{array} {cc} \n",
      " A_{i} & C_{i}  \\\\ \n",
      "  \\vdots & \\vdots  \\\\ \n",
      "  A_{j} & C_{j}  \\\\ \n",
      "  B_{i} & D_{i}  \\\\ \n",
      "  \\vdots & \\vdots  \\\\ \n",
      "  B_{j} & D_{j}  \\\\ \n",
      "  \\end{array} \n",
      "\n"
     ]
    }
   ],
   "source": [
    "# Show the LaTeX representation of the expression for convenience if you need it.\n",
    "print(expr.latex())"
   ]
  },
  {
   "cell_type": "code",
   "execution_count": 5,
   "metadata": {},
   "outputs": [
    {
     "data": {
      "text/html": [
       "<table><tr><th>&nbsp;</th><th>core type</th><th>sub-expressions</th><th>expression</th></tr>\n",
       "<tr><td>0</td><td>ExprTuple</td><td>1, 2</td><td><a class=\"ProveItLink\" href=\"expr.ipynb\"><img src=\"expr.png\" style=\"display:inline;vertical-align:middle;\" /></a></td></tr>\n",
       "<tr><td>1</td><td>ExprTuple</td><td>3, 4</td><td><a class=\"ProveItLink\" href=\"../064a0e0ed958b5dc1531ada114ad4e9b847507a60/expr.ipynb\"><img src=\"../064a0e0ed958b5dc1531ada114ad4e9b847507a60/expr.png\" style=\"display:inline;vertical-align:middle;\" /></a></td></tr>\n",
       "<tr><td>2</td><td>ExprTuple</td><td>5, 6</td><td><a class=\"ProveItLink\" href=\"../68681067ed1e997ba0122de4413cbf1ab629bbeb0/expr.ipynb\"><img src=\"../68681067ed1e997ba0122de4413cbf1ab629bbeb0/expr.png\" style=\"display:inline;vertical-align:middle;\" /></a></td></tr>\n",
       "<tr><td>3</td><td>ExprRange</td><td>lambda_map:&nbsp;7<br>start_index:&nbsp;11<br>end_index:&nbsp;12<br></td><td><a class=\"ProveItLink\" href=\"../58799625c04fe217b810af6787ed963c0320b53d0/expr.ipynb\"><img src=\"../58799625c04fe217b810af6787ed963c0320b53d0/expr.png\" style=\"display:inline;vertical-align:middle;\" /></a></td></tr>\n",
       "<tr><td>4</td><td>ExprRange</td><td>lambda_map:&nbsp;8<br>start_index:&nbsp;11<br>end_index:&nbsp;12<br></td><td><a class=\"ProveItLink\" href=\"../ff5436b64b52bc1192fdb2505eb7fb0bd71388160/expr.ipynb\"><img src=\"../ff5436b64b52bc1192fdb2505eb7fb0bd71388160/expr.png\" style=\"display:inline;vertical-align:middle;\" /></a></td></tr>\n",
       "<tr><td>5</td><td>ExprRange</td><td>lambda_map:&nbsp;9<br>start_index:&nbsp;11<br>end_index:&nbsp;12<br></td><td><a class=\"ProveItLink\" href=\"../c7c49dfd0633d8dad71daa0544469369f760e3780/expr.ipynb\"><img src=\"../c7c49dfd0633d8dad71daa0544469369f760e3780/expr.png\" style=\"display:inline;vertical-align:middle;\" /></a></td></tr>\n",
       "<tr><td>6</td><td>ExprRange</td><td>lambda_map:&nbsp;10<br>start_index:&nbsp;11<br>end_index:&nbsp;12<br></td><td><a class=\"ProveItLink\" href=\"../4dc50ae44bf1bf48f463b96b8e813d2b787bde6d0/expr.ipynb\"><img src=\"../4dc50ae44bf1bf48f463b96b8e813d2b787bde6d0/expr.png\" style=\"display:inline;vertical-align:middle;\" /></a></td></tr>\n",
       "<tr><td>7</td><td>Lambda</td><td>parameter:&nbsp;21<br>body:&nbsp;13<br></td><td><a class=\"ProveItLink\" href=\"../cbf4a2d6122f8f76eeb36bd1c0d8bf52d8e05a560/expr.ipynb\"><img src=\"../cbf4a2d6122f8f76eeb36bd1c0d8bf52d8e05a560/expr.png\" style=\"display:inline;vertical-align:middle;\" /></a></td></tr>\n",
       "<tr><td>8</td><td>Lambda</td><td>parameter:&nbsp;21<br>body:&nbsp;14<br></td><td><a class=\"ProveItLink\" href=\"../99d75944d259e8bc62584dcc098a8987eb98ee6d0/expr.ipynb\"><img src=\"../99d75944d259e8bc62584dcc098a8987eb98ee6d0/expr.png\" style=\"display:inline;vertical-align:middle;\" /></a></td></tr>\n",
       "<tr><td>9</td><td>Lambda</td><td>parameter:&nbsp;21<br>body:&nbsp;15<br></td><td><a class=\"ProveItLink\" href=\"../1f1f93a97ffa923da2b370597cfe676c10d3dee70/expr.ipynb\"><img src=\"../1f1f93a97ffa923da2b370597cfe676c10d3dee70/expr.png\" style=\"display:inline;vertical-align:middle;\" /></a></td></tr>\n",
       "<tr><td>10</td><td>Lambda</td><td>parameter:&nbsp;21<br>body:&nbsp;16<br></td><td><a class=\"ProveItLink\" href=\"../2108d9d41458d68021f5c317e86b85035a3e8c530/expr.ipynb\"><img src=\"../2108d9d41458d68021f5c317e86b85035a3e8c530/expr.png\" style=\"display:inline;vertical-align:middle;\" /></a></td></tr>\n",
       "<tr><td>11</td><td>Variable</td><td></td><td><a class=\"ProveItLink\" href=\"../../../../__pv_it/557ab5defdcd46aa58168b08767502985122cd490/expr.ipynb\"><img src=\"../../../../__pv_it/557ab5defdcd46aa58168b08767502985122cd490/expr.png\" style=\"display:inline;vertical-align:middle;\" /></a></td></tr>\n",
       "<tr><td>12</td><td>Variable</td><td></td><td><a class=\"ProveItLink\" href=\"../../../../__pv_it/6a5b5879f51878868f626bf09e4d76392d4779cd0/expr.ipynb\"><img src=\"../../../../__pv_it/6a5b5879f51878868f626bf09e4d76392d4779cd0/expr.png\" style=\"display:inline;vertical-align:middle;\" /></a></td></tr>\n",
       "<tr><td>13</td><td>IndexedVar</td><td>variable:&nbsp;17<br>index:&nbsp;21<br></td><td><a class=\"ProveItLink\" href=\"../a433d6021a2b0d85d326303b1d692b18969c0dc30/expr.ipynb\"><img src=\"../a433d6021a2b0d85d326303b1d692b18969c0dc30/expr.png\" style=\"display:inline;vertical-align:middle;\" /></a></td></tr>\n",
       "<tr><td>14</td><td>IndexedVar</td><td>variable:&nbsp;18<br>index:&nbsp;21<br></td><td><a class=\"ProveItLink\" href=\"../dd60a21b14ad80238615b0d2b74a678a11574e790/expr.ipynb\"><img src=\"../dd60a21b14ad80238615b0d2b74a678a11574e790/expr.png\" style=\"display:inline;vertical-align:middle;\" /></a></td></tr>\n",
       "<tr><td>15</td><td>IndexedVar</td><td>variable:&nbsp;19<br>index:&nbsp;21<br></td><td><a class=\"ProveItLink\" href=\"../3b86bd3b2e16136132e508dd7cfa1ad89a15b7bf0/expr.ipynb\"><img src=\"../3b86bd3b2e16136132e508dd7cfa1ad89a15b7bf0/expr.png\" style=\"display:inline;vertical-align:middle;\" /></a></td></tr>\n",
       "<tr><td>16</td><td>IndexedVar</td><td>variable:&nbsp;20<br>index:&nbsp;21<br></td><td><a class=\"ProveItLink\" href=\"../4d7493ad3ae7a58d4af1deba676835c9b640a4da0/expr.ipynb\"><img src=\"../4d7493ad3ae7a58d4af1deba676835c9b640a4da0/expr.png\" style=\"display:inline;vertical-align:middle;\" /></a></td></tr>\n",
       "<tr><td>17</td><td>Variable</td><td></td><td><a class=\"ProveItLink\" href=\"../../../../__pv_it/d3792d0d8642fdf1cd2a3a9b32c673ee13653de00/expr.ipynb\"><img src=\"../../../../__pv_it/d3792d0d8642fdf1cd2a3a9b32c673ee13653de00/expr.png\" style=\"display:inline;vertical-align:middle;\" /></a></td></tr>\n",
       "<tr><td>18</td><td>Variable</td><td></td><td><a class=\"ProveItLink\" href=\"../../../../__pv_it/4d98b438710c5ada9ffa4646bb123a7d0e69ec000/expr.ipynb\"><img src=\"../../../../__pv_it/4d98b438710c5ada9ffa4646bb123a7d0e69ec000/expr.png\" style=\"display:inline;vertical-align:middle;\" /></a></td></tr>\n",
       "<tr><td>19</td><td>Variable</td><td></td><td><a class=\"ProveItLink\" href=\"../../../../__pv_it/dcb5a3e430485237dfe486162b026a4affb149300/expr.ipynb\"><img src=\"../../../../__pv_it/dcb5a3e430485237dfe486162b026a4affb149300/expr.png\" style=\"display:inline;vertical-align:middle;\" /></a></td></tr>\n",
       "<tr><td>20</td><td>Variable</td><td></td><td><a class=\"ProveItLink\" href=\"../../../../__pv_it/8f4534f2d0cd8231a9b8a1771e8be76aa52adea40/expr.ipynb\"><img src=\"../../../../__pv_it/8f4534f2d0cd8231a9b8a1771e8be76aa52adea40/expr.png\" style=\"display:inline;vertical-align:middle;\" /></a></td></tr>\n",
       "<tr><td>21</td><td>Variable</td><td></td><td><a class=\"ProveItLink\" href=\"../1e653f789234b245ee7fea7caad998c139d617410/expr.ipynb\"><img src=\"../1e653f789234b245ee7fea7caad998c139d617410/expr.png\" style=\"display:inline;vertical-align:middle;\" /></a></td></tr>\n",
       "</table>\n"
      ],
      "text/plain": [
       "0. A_{i} & C_{i}  \\\\ \n",
       "  \\vdots & \\vdots  \\\\ \n",
       "  A_{j} & C_{j}  \\\\ \n",
       "  B_{i} & D_{i}  \\\\ \n",
       "  \\vdots & \\vdots  \\\\ \n",
       "  B_{j} & D_{j}  \\\\ \n",
       " \n",
       "   core type: ExprTuple\n",
       "   sub-expressions: 1, 2\n",
       "1. (A_{i}, ..A_{_a}.., A_{j}, B_{i}, ..B_{_a}.., B_{j})\n",
       "   core type: ExprTuple\n",
       "   sub-expressions: 3, 4\n",
       "2. (C_{i}, ..C_{_a}.., C_{j}, D_{i}, ..D_{_a}.., D_{j})\n",
       "   core type: ExprTuple\n",
       "   sub-expressions: 5, 6\n",
       "3. A_{i}, ..A_{_a}.., A_{j}\n",
       "   core type: ExprRange\n",
       "   lambda_map: 7\n",
       "   start_index: 11\n",
       "   end_index: 12\n",
       "4. B_{i}, ..B_{_a}.., B_{j}\n",
       "   core type: ExprRange\n",
       "   lambda_map: 8\n",
       "   start_index: 11\n",
       "   end_index: 12\n",
       "5. C_{i}, ..C_{_a}.., C_{j}\n",
       "   core type: ExprRange\n",
       "   lambda_map: 9\n",
       "   start_index: 11\n",
       "   end_index: 12\n",
       "6. D_{i}, ..D_{_a}.., D_{j}\n",
       "   core type: ExprRange\n",
       "   lambda_map: 10\n",
       "   start_index: 11\n",
       "   end_index: 12\n",
       "7. _a -> A_{_a}\n",
       "   core type: Lambda\n",
       "   parameter: 21\n",
       "   body: 13\n",
       "8. _a -> B_{_a}\n",
       "   core type: Lambda\n",
       "   parameter: 21\n",
       "   body: 14\n",
       "9. _a -> C_{_a}\n",
       "   core type: Lambda\n",
       "   parameter: 21\n",
       "   body: 15\n",
       "10. _a -> D_{_a}\n",
       "    core type: Lambda\n",
       "    parameter: 21\n",
       "    body: 16\n",
       "11. i\n",
       "    core type: Variable\n",
       "    sub-expressions: \n",
       "12. j\n",
       "    core type: Variable\n",
       "    sub-expressions: \n",
       "13. A_{_a}\n",
       "    core type: IndexedVar\n",
       "variable: 17\n",
       "index: 21\n",
       "14. B_{_a}\n",
       "    core type: IndexedVar\n",
       "variable: 18\n",
       "index: 21\n",
       "15. C_{_a}\n",
       "    core type: IndexedVar\n",
       "variable: 19\n",
       "index: 21\n",
       "16. D_{_a}\n",
       "    core type: IndexedVar\n",
       "variable: 20\n",
       "index: 21\n",
       "17. A\n",
       "    core type: Variable\n",
       "    sub-expressions: \n",
       "18. B\n",
       "    core type: Variable\n",
       "    sub-expressions: \n",
       "19. C\n",
       "    core type: Variable\n",
       "    sub-expressions: \n",
       "20. D\n",
       "    core type: Variable\n",
       "    sub-expressions: \n",
       "21. _a\n",
       "    core type: Variable\n",
       "    sub-expressions: "
      ]
     },
     "execution_count": 5,
     "metadata": {},
     "output_type": "execute_result"
    }
   ],
   "source": [
    "# display the expression information\n",
    "expr.exprInfo()"
   ]
  },
  {
   "cell_type": "code",
   "execution_count": null,
   "metadata": {},
   "outputs": [],
   "source": []
  }
 ],
 "metadata": {
  "kernelspec": {
   "display_name": "Python 3",
   "language": "python",
   "name": "python3"
  },
  "language_info": {
   "codemirror_mode": {
    "name": "ipython",
    "version": 3
   },
   "file_extension": ".py",
   "mimetype": "text/x-python",
   "name": "python",
   "nbconvert_exporter": "python",
   "pygments_lexer": "ipython3",
   "version": "3.7.3"
  }
 },
 "nbformat": 4,
 "nbformat_minor": 1
}
