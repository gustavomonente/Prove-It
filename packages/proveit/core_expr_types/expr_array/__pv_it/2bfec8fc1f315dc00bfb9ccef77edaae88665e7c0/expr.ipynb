{
 "cells": [
  {
   "cell_type": "markdown",
   "metadata": {},
   "source": [
    "Expression of type <a class=\"ProveItLink\" href=\"../../../../../../doc/html/api/proveit.ExprArray.html\">ExprArray</a>\n",
    "=======================\n",
    "# from context <a class=\"ProveItLink\" href=\"../../_context_.ipynb\">proveit.core_expr_types.expr_array</a>"
   ]
  },
  {
   "cell_type": "code",
   "execution_count": 1,
   "metadata": {},
   "outputs": [],
   "source": [
    "import proveit\n",
    "# Automation is not needed when building an expression:\n",
    "proveit.defaults.automation = False # This will speed things up.\n",
    "proveit.defaults.inline_pngs = False # Makes files smaller.\n",
    "# import Expression classes needed to build the expression\n",
    "from proveit import ExprArray, ExprRange, IndexedVar\n",
    "from proveit._common_ import A, B, i, j, m, n\n",
    "from proveit.number import one"
   ]
  },
  {
   "cell_type": "code",
   "execution_count": 2,
   "metadata": {},
   "outputs": [
    {
     "data": {
      "text/html": [
       "<strong id=\"expr\">expr:</strong> <a class=\"ProveItLink\" href=\"expr.ipynb\"><img src=\"expr.png\" style=\"display:inline;vertical-align:middle;\" /></a><br>"
      ],
      "text/plain": [
       "expr: A_{1,1} & B_{1,1} \\\\ \n",
       " \\colon & \\colon\\\\ \n",
       " A_{1,j} & B_{1,j} \\\\ \n",
       " \\colon & \\colon\\\\ \n",
       " A_{1,n} & B_{1,n} \\\\ \n",
       " \\colon & \\colon\\\\ \n",
       " \\colon & \\colon\\\\ \n",
       " A_{i,1} & B_{i,1} \\\\ \n",
       " \\colon & \\colon\\\\ \n",
       " A_{i,j} & B_{i,j} \\\\ \n",
       " \\colon & \\colon\\\\ \n",
       " A_{i,n} & B_{i,n} \\\\ \n",
       " \\colon & \\colon\\\\ \n",
       " \\colon & \\colon\\\\ \n",
       " A_{m,1} & B_{m,1} \\\\ \n",
       " \\colon & \\colon\\\\ \n",
       " A_{m,j} & B_{m,j} \\\\ \n",
       " \\colon & \\colon\\\\ \n",
       " A_{m,n} & B_{m,n}"
      ]
     },
     "execution_count": 2,
     "metadata": {},
     "output_type": "execute_result"
    }
   ],
   "source": [
    "# build up the expression from sub-expressions\n",
    "expr = ExprArray(ExprRange(i, ExprRange(j, [IndexedVar(IndexedVar(A, i), j), IndexedVar(IndexedVar(B, i), j)], one, n), one, m)).withExplicitParameterization()"
   ]
  },
  {
   "cell_type": "code",
   "execution_count": 3,
   "metadata": {},
   "outputs": [
    {
     "name": "stdout",
     "output_type": "stream",
     "text": [
      "Passed sanity check: built 'expr' is the same as the stored Expression.\n"
     ]
    }
   ],
   "source": [
    "# check that the built expression is the same as the stored expression\n",
    "%check_expr"
   ]
  },
  {
   "cell_type": "code",
   "execution_count": 4,
   "metadata": {},
   "outputs": [
    {
     "name": "stdout",
     "output_type": "stream",
     "text": [
      "\\begin{array} {cc} \n",
      " A_{1,1} & B_{1,1} \\\\ \n",
      " \\colon & \\colon\\\\ \n",
      " A_{1,j} & B_{1,j} \\\\ \n",
      " \\colon & \\colon\\\\ \n",
      " A_{1,n} & B_{1,n} \\\\ \n",
      " \\colon & \\colon\\\\ \n",
      " \\colon & \\colon\\\\ \n",
      " A_{i,1} & B_{i,1} \\\\ \n",
      " \\colon & \\colon\\\\ \n",
      " A_{i,j} & B_{i,j} \\\\ \n",
      " \\colon & \\colon\\\\ \n",
      " A_{i,n} & B_{i,n} \\\\ \n",
      " \\colon & \\colon\\\\ \n",
      " \\colon & \\colon\\\\ \n",
      " A_{m,1} & B_{m,1} \\\\ \n",
      " \\colon & \\colon\\\\ \n",
      " A_{m,j} & B_{m,j} \\\\ \n",
      " \\colon & \\colon\\\\ \n",
      " A_{m,n} & B_{m,n} \\end{array} \n",
      "\n"
     ]
    }
   ],
   "source": [
    "# Show the LaTeX representation of the expression for convenience if you need it.\n",
    "print(expr.latex())"
   ]
  },
  {
   "cell_type": "code",
   "execution_count": 5,
   "metadata": {},
   "outputs": [
    {
     "data": {
      "text/html": [
       "<table><tr><th>&nbsp;</th><th>core type</th><th>sub-expressions</th><th>expression</th></tr>\n",
       "<tr><td>0</td><td>ExprTuple</td><td>1</td><td><a class=\"ProveItLink\" href=\"expr.ipynb\"><img src=\"expr.png\" style=\"display:inline;vertical-align:middle;\" /></a></td></tr>\n",
       "<tr><td>1</td><td>ExprRange</td><td>lambda_map:&nbsp;2<br>start_index:&nbsp;6<br>end_index:&nbsp;3<br></td><td><a class=\"ProveItLink\" href=\"../2af8fb4b1d6b3a56e926852c169f9f901c39999a0/expr.ipynb\"><img src=\"../2af8fb4b1d6b3a56e926852c169f9f901c39999a0/expr.png\" style=\"display:inline;vertical-align:middle;\" /></a></td></tr>\n",
       "<tr><td>2</td><td>Lambda</td><td>parameter:&nbsp;16<br>body:&nbsp;4<br></td><td><a class=\"ProveItLink\" href=\"../b7b7f0fca422b7c192e022302427d254d82cc58c0/expr.ipynb\"><img src=\"../b7b7f0fca422b7c192e022302427d254d82cc58c0/expr.png\" style=\"display:inline;vertical-align:middle;\" /></a></td></tr>\n",
       "<tr><td>3</td><td>Variable</td><td></td><td><a class=\"ProveItLink\" href=\"../../../../__pv_it/6e8a38e9a7e2b6af352562cd77e0eb4751f142620/expr.ipynb\"><img src=\"../../../../__pv_it/6e8a38e9a7e2b6af352562cd77e0eb4751f142620/expr.png\" style=\"display:inline;vertical-align:middle;\" /></a></td></tr>\n",
       "<tr><td>4</td><td>ExprRange</td><td>lambda_map:&nbsp;5<br>start_index:&nbsp;6<br>end_index:&nbsp;7<br></td><td><a class=\"ProveItLink\" href=\"../d6bc3bf4a35031fd41b0d1e192c30c6974f731c80/expr.ipynb\"><img src=\"../d6bc3bf4a35031fd41b0d1e192c30c6974f731c80/expr.png\" style=\"display:inline;vertical-align:middle;\" /></a></td></tr>\n",
       "<tr><td>5</td><td>Lambda</td><td>parameter:&nbsp;13<br>body:&nbsp;8<br></td><td><a class=\"ProveItLink\" href=\"../335e3a3c8b7148f795cad0494ba66b00e5da024a0/expr.ipynb\"><img src=\"../335e3a3c8b7148f795cad0494ba66b00e5da024a0/expr.png\" style=\"display:inline;vertical-align:middle;\" /></a></td></tr>\n",
       "<tr><td>6</td><td>Literal</td><td></td><td><a class=\"ProveItLink\" href=\"../../../../number/numeral/__pv_it/f086f8c372bd40a2458306ddfdbb29f3dc6f63030/expr.ipynb\"><img src=\"../../../../number/numeral/__pv_it/f086f8c372bd40a2458306ddfdbb29f3dc6f63030/expr.png\" style=\"display:inline;vertical-align:middle;\" /></a></td></tr>\n",
       "<tr><td>7</td><td>Variable</td><td></td><td><a class=\"ProveItLink\" href=\"../../../../__pv_it/0c1c4cb515e0f4344b1ac06650f349123e526deb0/expr.ipynb\"><img src=\"../../../../__pv_it/0c1c4cb515e0f4344b1ac06650f349123e526deb0/expr.png\" style=\"display:inline;vertical-align:middle;\" /></a></td></tr>\n",
       "<tr><td>8</td><td>ExprTuple</td><td>9, 10</td><td><a class=\"ProveItLink\" href=\"../fd41aadf48a9510ef64e8a36817090b2e95e6c1d0/expr.ipynb\"><img src=\"../fd41aadf48a9510ef64e8a36817090b2e95e6c1d0/expr.png\" style=\"display:inline;vertical-align:middle;\" /></a></td></tr>\n",
       "<tr><td>9</td><td>IndexedVar</td><td>variable:&nbsp;11<br>index:&nbsp;13<br></td><td><a class=\"ProveItLink\" href=\"../b3e4ed3ae9f8a069a0e184043acff69bf3a3b4a30/expr.ipynb\"><img src=\"../b3e4ed3ae9f8a069a0e184043acff69bf3a3b4a30/expr.png\" style=\"display:inline;vertical-align:middle;\" /></a></td></tr>\n",
       "<tr><td>10</td><td>IndexedVar</td><td>variable:&nbsp;12<br>index:&nbsp;13<br></td><td><a class=\"ProveItLink\" href=\"../dab1d6d677d7fa35861a35520497124b157231d60/expr.ipynb\"><img src=\"../dab1d6d677d7fa35861a35520497124b157231d60/expr.png\" style=\"display:inline;vertical-align:middle;\" /></a></td></tr>\n",
       "<tr><td>11</td><td>IndexedVar</td><td>variable:&nbsp;14<br>index:&nbsp;16<br></td><td><a class=\"ProveItLink\" href=\"../9c79ac507b7d7d0f650176c17e8ca95736050cc40/expr.ipynb\"><img src=\"../9c79ac507b7d7d0f650176c17e8ca95736050cc40/expr.png\" style=\"display:inline;vertical-align:middle;\" /></a></td></tr>\n",
       "<tr><td>12</td><td>IndexedVar</td><td>variable:&nbsp;15<br>index:&nbsp;16<br></td><td><a class=\"ProveItLink\" href=\"../dd2cdad8eec57919bc773c4a771c051f3def83f50/expr.ipynb\"><img src=\"../dd2cdad8eec57919bc773c4a771c051f3def83f50/expr.png\" style=\"display:inline;vertical-align:middle;\" /></a></td></tr>\n",
       "<tr><td>13</td><td>Variable</td><td></td><td><a class=\"ProveItLink\" href=\"../../../../__pv_it/6a5b5879f51878868f626bf09e4d76392d4779cd0/expr.ipynb\"><img src=\"../../../../__pv_it/6a5b5879f51878868f626bf09e4d76392d4779cd0/expr.png\" style=\"display:inline;vertical-align:middle;\" /></a></td></tr>\n",
       "<tr><td>14</td><td>Variable</td><td></td><td><a class=\"ProveItLink\" href=\"../../../../__pv_it/d3792d0d8642fdf1cd2a3a9b32c673ee13653de00/expr.ipynb\"><img src=\"../../../../__pv_it/d3792d0d8642fdf1cd2a3a9b32c673ee13653de00/expr.png\" style=\"display:inline;vertical-align:middle;\" /></a></td></tr>\n",
       "<tr><td>15</td><td>Variable</td><td></td><td><a class=\"ProveItLink\" href=\"../../../../__pv_it/4d98b438710c5ada9ffa4646bb123a7d0e69ec000/expr.ipynb\"><img src=\"../../../../__pv_it/4d98b438710c5ada9ffa4646bb123a7d0e69ec000/expr.png\" style=\"display:inline;vertical-align:middle;\" /></a></td></tr>\n",
       "<tr><td>16</td><td>Variable</td><td></td><td><a class=\"ProveItLink\" href=\"../../../../__pv_it/557ab5defdcd46aa58168b08767502985122cd490/expr.ipynb\"><img src=\"../../../../__pv_it/557ab5defdcd46aa58168b08767502985122cd490/expr.png\" style=\"display:inline;vertical-align:middle;\" /></a></td></tr>\n",
       "</table>\n"
      ],
      "text/plain": [
       "0. A_{1,1} & B_{1,1} \\\\ \n",
       " \\colon & \\colon\\\\ \n",
       " A_{1,j} & B_{1,j} \\\\ \n",
       " \\colon & \\colon\\\\ \n",
       " A_{1,n} & B_{1,n} \\\\ \n",
       " \\colon & \\colon\\\\ \n",
       " \\colon & \\colon\\\\ \n",
       " A_{i,1} & B_{i,1} \\\\ \n",
       " \\colon & \\colon\\\\ \n",
       " A_{i,j} & B_{i,j} \\\\ \n",
       " \\colon & \\colon\\\\ \n",
       " A_{i,n} & B_{i,n} \\\\ \n",
       " \\colon & \\colon\\\\ \n",
       " \\colon & \\colon\\\\ \n",
       " A_{m,1} & B_{m,1} \\\\ \n",
       " \\colon & \\colon\\\\ \n",
       " A_{m,j} & B_{m,j} \\\\ \n",
       " \\colon & \\colon\\\\ \n",
       " A_{m,n} & B_{m,n}\n",
       "   core type: ExprTuple\n",
       "   sub-expressions: 1\n",
       "1. (A_{1,1}, B_{1,1}), ..(A_{1,j}, B_{1,j}).., (A_{1,n}, B_{1,n}), ....(A_{i,1}, B_{i,1}), ..(A_{i,j}, B_{i,j}).., (A_{i,n}, B_{i,n})...., (A_{m,1}, B_{m,1}), ..(A_{m,j}, B_{m,j}).., (A_{m,n}, B_{m,n})\n",
       "   core type: ExprRange\n",
       "   lambda_map: 2\n",
       "   start_index: 6\n",
       "   end_index: 3\n",
       "2. i -> (A_{i,1}, B_{i,1}), ..(A_{i,j}, B_{i,j}).., (A_{i,n}, B_{i,n})\n",
       "   core type: Lambda\n",
       "   parameter: 16\n",
       "   body: 4\n",
       "3. m\n",
       "   core type: Variable\n",
       "   sub-expressions: \n",
       "4. (A_{i,1}, B_{i,1}), ..(A_{i,j}, B_{i,j}).., (A_{i,n}, B_{i,n})\n",
       "   core type: ExprRange\n",
       "   lambda_map: 5\n",
       "   start_index: 6\n",
       "   end_index: 7\n",
       "5. j -> (A_{i,j}, B_{i,j})\n",
       "   core type: Lambda\n",
       "   parameter: 13\n",
       "   body: 8\n",
       "6. 1\n",
       "   core type: Literal\n",
       "   sub-expressions: \n",
       "7. n\n",
       "   core type: Variable\n",
       "   sub-expressions: \n",
       "8. (A_{i,j}, B_{i,j})\n",
       "   core type: ExprTuple\n",
       "   sub-expressions: 9, 10\n",
       "9. A_{i,j}\n",
       "   core type: IndexedVar\n",
       "variable: 11\n",
       "index: 13\n",
       "10. B_{i,j}\n",
       "    core type: IndexedVar\n",
       "variable: 12\n",
       "index: 13\n",
       "11. A_{i}\n",
       "    core type: IndexedVar\n",
       "variable: 14\n",
       "index: 16\n",
       "12. B_{i}\n",
       "    core type: IndexedVar\n",
       "variable: 15\n",
       "index: 16\n",
       "13. j\n",
       "    core type: Variable\n",
       "    sub-expressions: \n",
       "14. A\n",
       "    core type: Variable\n",
       "    sub-expressions: \n",
       "15. B\n",
       "    core type: Variable\n",
       "    sub-expressions: \n",
       "16. i\n",
       "    core type: Variable\n",
       "    sub-expressions: "
      ]
     },
     "execution_count": 5,
     "metadata": {},
     "output_type": "execute_result"
    }
   ],
   "source": [
    "# display the expression information\n",
    "expr.exprInfo()"
   ]
  },
  {
   "cell_type": "code",
   "execution_count": null,
   "metadata": {},
   "outputs": [],
   "source": []
  }
 ],
 "metadata": {
  "kernelspec": {
   "display_name": "Python 3",
   "language": "python",
   "name": "python3"
  },
  "language_info": {
   "codemirror_mode": {
    "name": "ipython",
    "version": 3
   },
   "file_extension": ".py",
   "mimetype": "text/x-python",
   "name": "python",
   "nbconvert_exporter": "python",
   "pygments_lexer": "ipython3",
   "version": "3.7.3"
  }
 },
 "nbformat": 4,
 "nbformat_minor": 1
}
