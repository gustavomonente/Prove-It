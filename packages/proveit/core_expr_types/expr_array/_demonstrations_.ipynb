{
 "cells": [
  {
   "cell_type": "markdown",
   "metadata": {},
   "source": [
    "Demonstrations for context <a class=\"ProveItLink\" href=\"_context_.ipynb\">proveit.core_expr_types.expr_array</a>\n",
    "========"
   ]
  },
  {
   "cell_type": "code",
   "execution_count": 1,
   "metadata": {},
   "outputs": [],
   "source": [
    "import proveit\n",
    "proveit.defaults.automation = False\n",
    "from proveit import ExprRange, ExprTuple, varRange, indexed_var, ExprArray\n",
    "from proveit._common_ import A, B, C, D, E, F, G, H, I, i, j, k, m, n, p, q\n",
    "from proveit.number import one\n",
    "%begin demonstrations"
   ]
  },
  {
   "cell_type": "code",
   "execution_count": 2,
   "metadata": {},
   "outputs": [
    {
     "data": {
      "text/html": [
       "<strong id=\"A_i_to_j\">A_i_to_j:</strong> <a class=\"ProveItLink\" href=\"__pv_it/58799625c04fe217b810af6787ed963c0320b53d0/expr.ipynb\"><img src=\"data:image/png;base64,iVBORw0KGgoAAAANSUhEUgAAAFwAAAAUBAMAAADyykdqAAAAMFBMVEX///92dnYiIiIQEBBERERU\n",
       "VFS6urqIiIjc3NxmZmaqqqru7u6YmJgyMjLMzMwAAADiRdoGAAAAAXRSTlMAQObYZgAAASRJREFU\n",
       "KM9jYACBtwyEAN8FJM59gsp5PyDYPPc3EFJ+9jeCvWt+AwHV3Ct/IDgH6hMIKOdh/wZns21Yf4CA\n",
       "8myuP3D2Nob3BQwM7BPwuCWB7zuIvgciEhj6gUr58LifjYHjJ4heAArSyJnxDvjd8nTm1C8IrQzM\n",
       "F/ArB4aELYwNtIHJgIGtFLdqLiBWBvqgEqiUYwE4zhj5cUdVFyTiOdmAjmgCsll+MHQvYmDYD+Ry\n",
       "/2VAYoAJDgUg4d/AsIMxgGHL/9sMXP6fJjC4A92kDRRXBWKmACiDQWkDA7f/3w0MS/5rAk1FRA/3\n",
       "7wcMDKsxnY3sRH5EWHNdEGBgEMBQzojMeYwUcYENDNwFGMq3I3NK0BISZqCgJCZ3BhIAa4Y1ScpF\n",
       "GxgAd/JHNWzm6VwAAAAASUVORK5CYII=\n",
       "\" style=\"display:inline;vertical-align:middle;\" /></a><br>"
      ],
      "text/plain": [
       "A_i_to_j: A_{i}, ..A_{_a}.., A_{j}"
      ]
     },
     "execution_count": 2,
     "metadata": {},
     "output_type": "execute_result"
    }
   ],
   "source": [
    "A_i_to_j = varRange(A, i, j)"
   ]
  },
  {
   "cell_type": "code",
   "execution_count": 3,
   "metadata": {},
   "outputs": [
    {
     "data": {
      "text/html": [
       "<strong id=\"B_i_to_j\">B_i_to_j:</strong> <a class=\"ProveItLink\" href=\"__pv_it/ff5436b64b52bc1192fdb2505eb7fb0bd71388160/expr.ipynb\"><img src=\"data:image/png;base64,iVBORw0KGgoAAAANSUhEUgAAAFwAAAAUBAMAAADyykdqAAAAMFBMVEX///92dnYyMjKqqqoiIiLu\n",
       "7u7c3NyIiIjMzMwQEBC6urpERERmZmZUVFSYmJgAAADEjrHzAAAAAXRSTlMAQObYZgAAAUlJREFU\n",
       "KM+VU7FKw1AUPbF9JKaN6Q8IHXUyg36BOhYyKZ3M4t69ShxcnOqgUxE6CU4WVIq69AMUo+Ck2GxO\n",
       "KihaUaPe57MmGHqhD14453HgnnvuDYC7r+vT4waYM9KJTq6OeqwO5F85OYabwNmKwsYnYH6w8loI\n",
       "7LYV1l+oXJeV+x7wUFE4tw6UZ1n5ISA2XIXtAEbJZeURsHrZM3Zzu++Qp3ZftRHdV6clGFPGxBa9\n",
       "eX3lsrtyQMBRxuA7nBfZnf4UG4Nf4eTUHfRuHDs6DXOZj916g1hylDHjHZrtsrHXmsibRWCIjO0c\n",
       "YHESWCAqHpEAPx+M09jrLua0ANYErc8evbWArBxWiW42+AWYoZoXcgdlFrnwr6B4phWaSvnIJC3a\n",
       "cdaZYgEopORakqzFUJzTtNJxzidJ9d9vkA4lTJIWBjjW9uZA8lEP39EmV06sEQT1AAAAAElFTkSu\n",
       "QmCC\n",
       "\" style=\"display:inline;vertical-align:middle;\" /></a><br>"
      ],
      "text/plain": [
       "B_i_to_j: B_{i}, ..B_{_a}.., B_{j}"
      ]
     },
     "execution_count": 3,
     "metadata": {},
     "output_type": "execute_result"
    }
   ],
   "source": [
    "B_i_to_j = varRange(B, i, j)"
   ]
  },
  {
   "cell_type": "code",
   "execution_count": 4,
   "metadata": {},
   "outputs": [
    {
     "data": {
      "text/html": [
       "<strong id=\"C_i_to_j\">C_i_to_j:</strong> <a class=\"ProveItLink\" href=\"__pv_it/c7c49dfd0633d8dad71daa0544469369f760e3780/expr.ipynb\"><img src=\"data:image/png;base64,iVBORw0KGgoAAAANSUhEUgAAAFkAAAAUBAMAAAAU44wuAAAAMFBMVEX////MzMy6uroyMjIiIiKq\n",
       "qqoQEBB2dnbc3NyYmJhmZmZUVFRERESIiIju7u4AAACOKgoaAAAAAXRSTlMAQObYZgAAAQpJREFU\n",
       "KM9jYGDgu7NrJ0cBAx6ArOLaBAbWZRPwqUZS8cYPSKxvwKMYWYXZAyChhs9oJBVcX0GkFB7FyCr6\n",
       "HUDkCzyqkVXUX4CI8S7ApRqmgoFZgMFfAMJkxOlPmAoGVgaGfJAXGB7gcQmyCn+wLgE8qpFVgMOR\n",
       "nYHpNk7VUBUMb5cCfQzyQx0DOz9Ox0BVMCxQBlrxk4Eh6gFDXwgDw3sDYJL4zIDEABNQFXwN1UDO\n",
       "q9O7FIDUWQYGFlAMewMxywYog8HlAUIFw0lEMvsH9EYchitYkd33AyFsAEyRmMmWHYnNmIAwe3sD\n",
       "A98FDNVvkdi8B1CkODHDAznZ81xgIB5santAgurtOxgYAPcvTqoOP4GaAAAAAElFTkSuQmCC\n",
       "\" style=\"display:inline;vertical-align:middle;\" /></a><br>"
      ],
      "text/plain": [
       "C_i_to_j: C_{i}, ..C_{_a}.., C_{j}"
      ]
     },
     "execution_count": 4,
     "metadata": {},
     "output_type": "execute_result"
    }
   ],
   "source": [
    "C_i_to_j = varRange(C, i, j)"
   ]
  },
  {
   "cell_type": "code",
   "execution_count": 5,
   "metadata": {},
   "outputs": [
    {
     "data": {
      "text/html": [
       "<strong id=\"D_i_to_j\">D_i_to_j:</strong> <a class=\"ProveItLink\" href=\"__pv_it/4dc50ae44bf1bf48f463b96b8e813d2b787bde6d0/expr.ipynb\"><img src=\"data:image/png;base64,iVBORw0KGgoAAAANSUhEUgAAAF4AAAAUBAMAAAD2P5dXAAAAMFBMVEX///8iIiLu7u52dna6uroQ\n",
       "EBBmZmaIiIjMzMyqqqoyMjLc3NxERERUVFSYmJgAAAAdjRNVAAAAAXRSTlMAQObYZgAAARFJREFU\n",
       "KM9jYGB4+//snbMbGPABVCW/GBj4fuJVj6KE4zuQSMWrHEUJ+w8g4f8An3oUJTwfgMR+A3zqUZTw\n",
       "HwBpvoBPPYqS/gIgUW/AUIZbPUwJwwoQ3QAk7jswdONWD1PCMAFInweJfMUbPihK/gAx3z+86pGV\n",
       "gMNW9QCD+wX8wQ9UwlQ2ARK2TKsYGAw+4Q1+kBI2lgUMDFzAsHVMYODWFGBgAkY7gz5QDM6AEFAl\n",
       "DNrMFxh41//NvZMNihNgmAkqMDAwgtwlywBlMAoxIJQw8CClAn0NBgZOBQy3TEKJN6RkPIuZgYEZ\n",
       "0+0o6aQVia1rzcCgjqGcqQCZV4Mmi5lI+VB4xxlIAbzeQaSpt93AAABBolSNBBCLOQAAAABJRU5E\n",
       "rkJggg==\n",
       "\" style=\"display:inline;vertical-align:middle;\" /></a><br>"
      ],
      "text/plain": [
       "D_i_to_j: D_{i}, ..D_{_a}.., D_{j}"
      ]
     },
     "execution_count": 5,
     "metadata": {},
     "output_type": "execute_result"
    }
   ],
   "source": [
    "D_i_to_j = varRange(D, i, j)"
   ]
  },
  {
   "cell_type": "code",
   "execution_count": 6,
   "metadata": {},
   "outputs": [
    {
     "data": {
      "text/html": [
       "<strong id=\"Aij\">Aij:</strong> <a class=\"ProveItLink\" href=\"__pv_it/b3e4ed3ae9f8a069a0e184043acff69bf3a3b4a30/expr.ipynb\"><img src=\"data:image/png;base64,iVBORw0KGgoAAAANSUhEUgAAACIAAAAUBAMAAAAaSvJBAAAAMFBMVEX///92dnYiIiIQEBBERERU\n",
       "VFS6urqIiIjc3NxmZmaqqqru7u6YmJgyMjLMzMwAAADiRdoGAAAAAXRSTlMAQObYZgAAALNJREFU\n",
       "GNNjYACBtwzo4D66AM/9DWgiu+Y3oIkcqE9AFWDbsP4Aqsg2hvcFDAzsE8CceyAigaEfyOODmLUA\n",
       "iPkiZ8Y7oBrDwMB8AUUEqI7JgIGtFMTmrgTyOICY9wMDIz/IlZxsQNVNQAbLD4buRSA1OxgDGLb8\n",
       "v83A5f9pAoM72AgWhMu4fz8AUfwI/3BdEODwZmB4jLCRO7CBz4qBoQTVO1wMUNPgYAVrhjVaqLCK\n",
       "NjAAAGxcKbkObbsaAAAAAElFTkSuQmCC\n",
       "\" style=\"display:inline;vertical-align:middle;\" /></a><br>"
      ],
      "text/plain": [
       "Aij: A_{i,j}"
      ]
     },
     "execution_count": 6,
     "metadata": {},
     "output_type": "execute_result"
    }
   ],
   "source": [
    "Aij = indexed_var(A,(i,j))"
   ]
  },
  {
   "cell_type": "code",
   "execution_count": 7,
   "metadata": {},
   "outputs": [
    {
     "data": {
      "text/html": [
       "<strong id=\"Bij\">Bij:</strong> <a class=\"ProveItLink\" href=\"__pv_it/dab1d6d677d7fa35861a35520497124b157231d60/expr.ipynb\"><img src=\"data:image/png;base64,iVBORw0KGgoAAAANSUhEUgAAACIAAAAUBAMAAAAaSvJBAAAAMFBMVEX///92dnYyMjKqqqoiIiLu\n",
       "7u7c3NyIiIjMzMwQEBC6urpERERmZmZUVFSYmJgAAADEjrHzAAAAAXRSTlMAQObYZgAAAMdJREFU\n",
       "GNNjYGB4+//O2d0LGJDBbAYGnh/IAhz/GBi4/iCLsH9jYOD7jizCPYGBIdIVWYT/AgOHbwCySP+9\n",
       "51sMgJoPgHkaQFyfwMA6F2hBAlgEKMewEyRqgKzrL0ikAM05DPcXcNWCOKw1BhDncPxmYOQHWcfD\n",
       "pcDAwAR0zsqtDKkmIDVhjBcYePX/nrm9GcjZDnHuA7hxrF8bwM5NgIswKwiwbWVg6ERYyXoxgWMy\n",
       "A0M1SjgxMMNMgwMz3mVTUUUe8MomMAAAnMwvda43Vr0AAAAASUVORK5CYII=\n",
       "\" style=\"display:inline;vertical-align:middle;\" /></a><br>"
      ],
      "text/plain": [
       "Bij: B_{i,j}"
      ]
     },
     "execution_count": 7,
     "metadata": {},
     "output_type": "execute_result"
    }
   ],
   "source": [
    "Bij = indexed_var(B,(i,j))"
   ]
  },
  {
   "cell_type": "code",
   "execution_count": 8,
   "metadata": {},
   "outputs": [
    {
     "data": {
      "text/html": [
       "<strong id=\"Cij\">Cij:</strong> <a class=\"ProveItLink\" href=\"__pv_it/2f2293bec979d8261046b7f0f05be5dd9bdac9130/expr.ipynb\"><img src=\"data:image/png;base64,iVBORw0KGgoAAAANSUhEUgAAACAAAAAUBAMAAAAevyJ8AAAAMFBMVEX////MzMy6uroyMjIiIiKq\n",
       "qqoQEBB2dnbc3NyYmJhmZmZUVFRERESIiIju7u4AAACOKgoaAAAAAXRSTlMAQObYZgAAALlJREFU\n",
       "GNNjYGDgu7NrJ0cBAwJcm8DAumwCgv/GD0isb0AImD0AEmoIPtdXECmFEOh3AJEvEAL1FyA07wIw\n",
       "ZcjgLwARYIQYG8CQDzKT4QFCiz+IYBVACIBdwM7AdBvE4bsVwNAPMrSOgZ0fpIuLyYCB9ScDQ9QD\n",
       "hr4QsO3sGxgYXp3epQBknwUbwAP3E98/sLn8cD+xGhRwnGNgEINbxre9gTGVgeEOAzJghZkEAxHc\n",
       "GnkoAhO4qxsYALgyKgtOzJIlAAAAAElFTkSuQmCC\n",
       "\" style=\"display:inline;vertical-align:middle;\" /></a><br>"
      ],
      "text/plain": [
       "Cij: C_{i,j}"
      ]
     },
     "execution_count": 8,
     "metadata": {},
     "output_type": "execute_result"
    }
   ],
   "source": [
    "Cij = indexed_var(C,(i,j))"
   ]
  },
  {
   "cell_type": "code",
   "execution_count": 9,
   "metadata": {},
   "outputs": [
    {
     "data": {
      "text/html": [
       "<strong id=\"Dij\">Dij:</strong> <a class=\"ProveItLink\" href=\"__pv_it/1fb93d8da0a388b91c6a10b3beeaafc2a44489760/expr.ipynb\"><img src=\"data:image/png;base64,iVBORw0KGgoAAAANSUhEUgAAACMAAAAUBAMAAAD1iJl/AAAAMFBMVEX///8iIiLu7u52dna6uroQ\n",
       "EBBmZmaIiIjMzMyqqqoyMjLc3NxERERUVFSYmJgAAAAdjRNVAAAAAXRSTlMAQObYZgAAAMJJREFU\n",
       "GNNjYGB4+//snbMbGFDALwYGvp8oIhzfgUQqihD7DyDh/wBZiOcDkNhvgCzEfwCk6gKyUH8BkKg3\n",
       "YCgD87gaQDwQcd+BoRssxAkizoOIryg2/gFivn8YzlI9wOAOtkA9E+osplUMDAafQEIJXiArgM5y\n",
       "TGDg1hQAcpg22DIw8K7/m3snG+TiArA555DM1NcAU7+RhGYxM+xRYOAIQBLStWZoncDAfgA14Bgm\n",
       "wEyEA84NV7YqoArxMVy+zcAAABMfMMMJNpBEAAAAAElFTkSuQmCC\n",
       "\" style=\"display:inline;vertical-align:middle;\" /></a><br>"
      ],
      "text/plain": [
       "Dij: D_{i,j}"
      ]
     },
     "execution_count": 9,
     "metadata": {},
     "output_type": "execute_result"
    }
   ],
   "source": [
    "Dij = indexed_var(D,(i,j))"
   ]
  },
  {
   "cell_type": "code",
   "execution_count": 10,
   "metadata": {},
   "outputs": [
    {
     "data": {
      "text/html": [
       "<strong id=\"Eij\">Eij:</strong> <a class=\"ProveItLink\" href=\"__pv_it/081fdb1459dc21742892799e975693dcf79a861a0/expr.ipynb\"><img src=\"data:image/png;base64,iVBORw0KGgoAAAANSUhEUgAAACEAAAAUBAMAAADxfUlCAAAAMFBMVEX///+qqqoQEBDc3NzMzMx2\n",
       "dnbu7u66urqYmJgyMjIiIiJUVFRmZmZERESIiIgAAADRBAegAAAAAXRSTlMAQObYZgAAAL1JREFU\n",
       "GNNjYGB4+//O6V0/GZABiNeLLMD+D0jkIIuwfgESecginB8YWBmYkUX4LzB0oJjLUD9n02cg9Qai\n",
       "wQFIxDswTABSzmARRhAxn4EhgMEBWddfBoYEtgfozmFNqNsA4uQdhDnHmyHgG0jkQCWQ4PoAVKfC\n",
       "nLgAyGYziGZgyJ7/+8ze9RMYeCEm3UAYl58Cpj4jRCRZGWwTGFgUECLZwQxOAgx8F1D9IwAzDQYY\n",
       "DbYbJaCIcDBs3czAAAAEOy43MMQDMAAAAABJRU5ErkJggg==\n",
       "\" style=\"display:inline;vertical-align:middle;\" /></a><br>"
      ],
      "text/plain": [
       "Eij: E_{i,j}"
      ]
     },
     "execution_count": 10,
     "metadata": {},
     "output_type": "execute_result"
    }
   ],
   "source": [
    "Eij = indexed_var(E, (i,j))"
   ]
  },
  {
   "cell_type": "code",
   "execution_count": 11,
   "metadata": {},
   "outputs": [
    {
     "data": {
      "text/html": [
       "<strong id=\"Fij\">Fij:</strong> <a class=\"ProveItLink\" href=\"__pv_it/fc8317f4a51011ff9c49e648235e6bfca93dbe1f0/expr.ipynb\"><img src=\"data:image/png;base64,iVBORw0KGgoAAAANSUhEUgAAAB8AAAAUBAMAAACHR/vJAAAAMFBMVEX///8iIiLc3Nzu7u6qqqq6\n",
       "urp2dnbMzMyYmJgyMjIQEBBUVFRmZmZERESIiIgAAABzTYE0AAAAAXRSTlMAQObYZgAAALhJREFU\n",
       "GNNjYGB4+//O6Vv/GJDATyC+gcRn/wYkWpEE+L4CCXckAc7PDEwMzkgC/AIMGshGMsQfYNjEwPAG\n",
       "oroASOTP2bWAgaEILMACIuYbMG9A0fKRgdkBmc8KcgZDHFiR3REgwQZyBkPCZxB5IBJIMH4AEkwm\n",
       "AkCSWSGbgcFm/u9DQDbvA7B+hJfszcHUJ7iAJxuDrgED+wK4gHUSQ5UDA98FFAc5wEyCAhaFrVoG\n",
       "yAIcDNuAngQAudYprL15yacAAAAASUVORK5CYII=\n",
       "\" style=\"display:inline;vertical-align:middle;\" /></a><br>"
      ],
      "text/plain": [
       "Fij: F_{i,j}"
      ]
     },
     "execution_count": 11,
     "metadata": {},
     "output_type": "execute_result"
    }
   ],
   "source": [
    "Fij = indexed_var(F, (i,j))"
   ]
  },
  {
   "cell_type": "code",
   "execution_count": 12,
   "metadata": {},
   "outputs": [
    {
     "data": {
      "text/html": [
       "<a class=\"ProveItLink\" href=\"__pv_it/b3e4ed3ae9f8a069a0e184043acff69bf3a3b4a30/expr.ipynb\"><img src=\"data:image/png;base64,iVBORw0KGgoAAAANSUhEUgAAACIAAAAUBAMAAAAaSvJBAAAAMFBMVEX///92dnYiIiIQEBBERERU\n",
       "VFS6urqIiIjc3NxmZmaqqqru7u6YmJgyMjLMzMwAAADiRdoGAAAAAXRSTlMAQObYZgAAALNJREFU\n",
       "GNNjYACBtwzo4D66AM/9DWgiu+Y3oIkcqE9AFWDbsP4Aqsg2hvcFDAzsE8CceyAigaEfyOODmLUA\n",
       "iPkiZ8Y7oBrDwMB8AUUEqI7JgIGtFMTmrgTyOICY9wMDIz/IlZxsQNVNQAbLD4buRSA1OxgDGLb8\n",
       "v83A5f9pAoM72AgWhMu4fz8AUfwI/3BdEODwZmB4jLCRO7CBz4qBoQTVO1wMUNPgYAVrhjVaqLCK\n",
       "NjAAAGxcKbkObbsaAAAAAElFTkSuQmCC\n",
       "\" style=\"display:inline;vertical-align:middle;\" /></a>"
      ],
      "text/plain": [
       "A_{i,j}"
      ]
     },
     "execution_count": 12,
     "metadata": {},
     "output_type": "execute_result"
    }
   ],
   "source": [
    "ExprRange(j, Aij, one, n).withStyles(parameterization='explicit').body"
   ]
  },
  {
   "cell_type": "code",
   "execution_count": 13,
   "metadata": {},
   "outputs": [
    {
     "data": {
      "text/html": [
       "<a class=\"ProveItLink\" href=\"__pv_it/c3d3b660bd8012627ac6655b79214b81080e789f0/expr.ipynb\"><img src=\"data:image/png;base64,iVBORw0KGgoAAAANSUhEUgAAAmoAAAAWBAMAAACCg63fAAAAMFBMVEX///9UVFTMzMx2dna6uroQ\n",
       "EBCqqqqIiIgiIiJmZmYyMjJERETu7u6YmJjc3NwAAAC+aOQFAAAAAXRSTlMAQObYZgAABO1JREFU\n",
       "WMPNWU9oXEUY//btZt9m9+3LoodQrWY9hFY97N4koLA9VHIouBWxYlH24EFR4kaQWnLIFlQUSt3i\n",
       "pTlIi+hNmz34D6zmHawVezCKKKmo60UUlWQlGG3TxPn3+ubPe/O+pQEd2Pcmb37zm998883MNxMA\n",
       "fxn+6zRjL/4D/lcp3yePizx/B7pWLLI8MVi4+R1U/S+3d538sCF/yfRteK/HXs6ZIXqWCB5CZ6xU\n",
       "mm4lv7M8u4hWFI8cIX07XUURHAYY/VOxi9UgRW7T4toQVksGD6EzTipNnxPjd/kYLAZIogRkjUz0\n",
       "+7ooP7gKkPtH+XSXDb/CX5c2h7BaMhivM14qSdk2FPhIfnq6j2RKQM6Trz+2MQTuFjH9hvLpvA1/\n",
       "gvvjE1t4o1nAeJ3xUil7E37hueX5BpIpAfkuYXsI5a+lJjHTcXVCWRr3O9zF3XW81SxgvM54qTS9\n",
       "AUfZOxc8jdxKk5ADgL27UQxjFXCOqbqzlinj8rID+at4q1nAeJ3xUmmago/Y+xOoIb02AekMvp97\n",
       "EcdQu+XbD1qab1i2gxIbJK/hbOAnaDJ4CJ3xUtmqCZyiAatkSB2+x99pI1KQ6gpwvhLWNYq1lcU7\n",
       "GGLcQywE6iTDC0x2Dnx1VbaJNMCmThyRkBqlZ5nHPA4PsF7uWpjogbPAxN9+yraryEhtBXD/EnXN\n",
       "Ym1lgflWiHmeVbBEFSNszbtt4eQV+atVpA42dSKJuFR5CJmYGrdajogjkyTHOzJtHUYZqawA4G6E\n",
       "dXM2qw2olLbAeJs4q5HHw8rnaet80MCmThyRkBqlLwJuNTZDiTkLTZTVVKQaBmXWMVajMRBMNARG\n",
       "flpmaJ78XsBazQSbOlFEoVQdPM12A7/Fo+l0q6nIla+OdKUwqNbDWI2uLM6VEJPt7qkgdoOf+ZmE\n",
       "NnjkhjSRBtjUiSMSUsuv7TnqzrLzxJQzy3aDKfKkMVtpS7aad5m64xmRufaXhvz6EXiUF8Kb5Nvh\n",
       "QLaaSsFqs0eRuOr+cyFF8ZsDZI6O1vWWoko0KmEx21KfNngwmA1FmvpYxgSbOlWiFKnl/csju122\n",
       "hbz9GJ2jr9JKF7ffgvzS313Z114ihQUKPAbiUTiuI/0LHdjk0JvoMbcFiq8pFCxDKTKL5Pj83jV/\n",
       "HGMDXqwKfIQNm6Q4b+lyAE9uv0wbXCeahUhWHOmrcA4TbOrUiFKk/v4cjDXowJKFjnnc6+GJSp5Y\n",
       "lCdvxnZPgY7MtHNNDSpZDUUxOUdt/RlY8Ceky5G20xSx0rRGJ5a0IA5s6tSIUqSOwyRfXp1DdLy9\n",
       "Tnh6162WNWd53ejySHW0XlWhktVQFHNOsy9O70n4FWk/rbo9f60aNlQ3KsgcEdjUqRGlSL0f5mDV\n",
       "oQtdb9Jnp3f4WBqpDvjnaBAHcMEMuOUdmCNXoXBvVYWSur8FPGpFUbzvdNripigJX4pmwypxknKv\n",
       "LkR65iFF5ojApk6VKEWqv0a87bss6VipvddlN0XhrSQtPTVoOw/Cr6+MkzO6eSKWt1KO3AfuPSqU\n",
       "1p1s0WIkxVkYrwq7JOG96KCxD4p9/8ZAiCzHXC1I+Qhs6lSJUqTmKkTmT3eTjhX7mWe4n2k34Hn8\n",
       "TbAlphuO4odhb8DxIlPAQxGJjpVjbspm0Bwztnv166PY0XozO0Vk6Rj+fy9JyDJcN8WO1lveKaKo\n",
       "Y/8CdTDrZbPcpc4AAAAASUVORK5CYII=\n",
       "\" style=\"display:inline;vertical-align:middle;\" /></a>"
      ],
      "text/plain": [
       "(A_{1,1}, ..A_{1,j}.., A_{1,n}, B_{1,1}, ..B_{1,j}.., B_{1,k}), ..(A_{i,1}, ..A_{i,j}.., A_{i,n}, B_{i,1}, ..B_{i,j}.., B_{i,k}).., (A_{m,1}, ..A_{m,j}.., A_{m,n}, B_{m,1}, ..B_{m,j}.., B_{m,k})"
      ]
     },
     "execution_count": 13,
     "metadata": {},
     "output_type": "execute_result"
    }
   ],
   "source": [
    "ExprRange(i, ExprTuple(ExprRange(j, Aij, one, n), ExprRange(j, Bij, one, k)),one,m)"
   ]
  },
  {
   "cell_type": "code",
   "execution_count": 14,
   "metadata": {},
   "outputs": [
    {
     "data": {
      "text/html": [
       "<a class=\"ProveItLink\" href=\"__pv_it/c5c83b6a3ba62745b26ce3ff7e48622a2d323a1a0/expr.ipynb\"><img src=\"data:image/png;base64,iVBORw0KGgoAAAANSUhEUgAAAnoAAAAWBAMAAAClLSw3AAAAMFBMVEX///9UVFTMzMx2dna6uroQ\n",
       "EBCqqqqIiIgiIiJmZmYyMjJERETu7u6YmJjc3NwAAAC+aOQFAAAAAXRSTlMAQObYZgAABRJJREFU\n",
       "WMPNWU9oHFUY/3Z2s7PZnZ0segjVatZDaLWH3ZsEFLaHSg4Ft1KsWJQ9eFCUuBGkhhyyBRWFUrd4\n",
       "aQ7SInrTZg/+A1szB2PFHowiShR1vUjFlmRLMNqmie/f7Lw3b+btNzSgD77J7Jvf+73f+973/gbA\n",
       "XQZm/3GaMn++Cv+rlO1yg0vCSLoPXToSWRzrzd/5Aar8N9u7Tn1ak3NSXRPe6bA/1tkELYwFJ9AZ\n",
       "KZWmu4WdE0bSAlpZNHKItPFMGUVwFGD4muIfo2Py3Lf5tQTeiwcn0BkllaavuBXb3GifLHhIwhhk\n",
       "hUwAD7dRcXETIPOPknW/Cb/C//y4mcB78WC8zmipJKWbzHKkV3O8Z78400UyxiDnSO6vTQyBvUW6\n",
       "YEPJWjLhT/L4fGYL7zwDGK8zWiplrzO7TF4v85zluRqSMQb5IWF8DBW/BVL50gl1oBkqd1s85O11\n",
       "vPcMYLzOaKk0vcNshjxn2O+M9zxy6Y1D9gD27kYxjJTAOq7qTxuGks2/HczexHvPAMbrjJZK0wSz\n",
       "C+R5gf3+HCrIaI5BWr2fZ1/FMVTu+uGTRihWDMtGgXWWU7M28AM3HpxAZ7RUNqsyozScqgarpIst\n",
       "vjfYZyJUkOoMsVTyy2qfQzOPc8jH2EfYFqoVD88x+Rlw1dnbJFID6zpxREJqkF5kkfM0s8PkeZi1\n",
       "dtf8WAesedaIe0+bViEZGZoh7L9EWf1zaOaBuYaPeZkVMOxGhticeM/8qRtyrlFkGKzrRBJxqXJX\n",
       "MjEVZn3vZYhIMngyvEGTxm6VkcoMAfaGXzZj8l6PSmoKjLOJ8x55PK5kTxrHRwis68QRCalB+toL\n",
       "vNcfucS9uTrKeypS3Ual1jHeo3soGKsJjPw0jNwssVew3tPBuk4UkS81DJ5k5q8aboPvzgd7T0Wu\n",
       "fHusLW2jKh2M9+jMY93wMen2nhJi1fidn3FohcduGyRSA+s6cURCavGtPTP2NDufTFjT/VVjQqy+\n",
       "dM9X2JK951ynYXpWvPR/hZDfPQFP8o/wLsk76sneUylYafbIk9A9cN6nyH9/kIzd4Wq4pqAQ3c2w\n",
       "Pd9il1Z4yJv2Rer62IsO1nWqRAOkFg8sD+222VLz/lN07L4J1HgEwqXt9yC7+Hdbjr3XCChHCxwH\n",
       "8cidCCPdiy3Y5NA76HG6AUrsKRTshVKkFsgx/aN+fI6wAMiXBT7A+lVSnLN43YNnt1+nFa4z7awi\n",
       "9jnQV+IcOljXGSIaIPXKSzBSox1MJkIWgW8zk05q8oCjfFl9j/gchJGpZqYegkreQ1GMz1KffwkG\n",
       "/EnpMqZp1cUeazJEJ6Y8Lwqs6wwRDZA6CuN8+rWO0H53WsykW4Kw99L6LFDVmj5UHq6WVajkPRTF\n",
       "rFXviluCOPyKtP6W7Y67VvYrqmoFZI4ArOsMEQ2Q+gjMwqpFJ8LOuNu/JYDPgJvfcy1wz/PN4EV9\n",
       "Ay+v3By5CrmHyiqUlP3T47tfFMXHVqspbqji8IVgdKySoCl2qkKkox96ZI4ArOtUiQZIdddI9P2U\n",
       "Jg0rNPfa/Rsq+XaUok73mtaj8McbowD6WbYoL70cuR/sB1UoLTveoJ+RFOdgtCz8E4d3goPLfsh3\n",
       "3ds9IbIYcYUhvQdgXadKNEBqpkRk/vYAaVi+m3ohiLmIm/ks/obasCdMRvFL0pt5vMgB4EREomHF\n",
       "LreoNIXmmjLc+98ixY6Wm9opIkTD8P8jikMW4ZYpdrTc8k4RqQ37F7weAzHhsOy4AAAAAElFTkSu\n",
       "QmCC\n",
       "\" style=\"display:inline;vertical-align:middle;\" /></a>"
      ],
      "text/plain": [
       "((A_{1,1}, ..A_{1,j}.., A_{1,n}, B_{1,1}, ..B_{1,j}.., B_{1,k}), ..(A_{i,1}, ..A_{i,j}.., A_{i,n}, B_{i,1}, ..B_{i,j}.., B_{i,k}).., (A_{m,1}, ..A_{m,j}.., A_{m,n}, B_{m,1}, ..B_{m,j}.., B_{m,k}))"
      ]
     },
     "execution_count": 14,
     "metadata": {},
     "output_type": "execute_result"
    }
   ],
   "source": [
    "ExprTuple(ExprRange(i, ExprTuple(ExprRange(j, Aij, one, n), ExprRange(j, Bij, one, k)),\n",
    "                    one,m))"
   ]
  },
  {
   "cell_type": "code",
   "execution_count": 15,
   "metadata": {},
   "outputs": [
    {
     "data": {
      "text/html": [
       "<a class=\"ProveItLink\" href=\"__pv_it/bd0b6f147cd4e52557608f2831c2a2aebb1d5fd80/expr.ipynb\"><img src=\"data:image/png;base64,iVBORw0KGgoAAAANSUhEUgAAADUAAAAnBAMAAABd1h3TAAAAMFBMVEX///92dnYiIiIQEBBERERU\n",
       "VFS6urqIiIjc3NxmZmaqqqru7u6YmJgyMjLMzMwAAADiRdoGAAAAAXRSTlMAQObYZgAAAWpJREFU\n",
       "OMvtk79Lw0AUx7/+qK2J1u4OOuvQIu4WtK7t0CWoNOgfkILdI/4DKZSCndrVyUKLqFMWN0HBUSTF\n",
       "zUEiarSIGt+7dugjm7NvuLzL9+7efbnPAzieIGKmFDSKm8OJJzVMZIFmb7DOa0vNdwGrqtKL5oHU\n",
       "bJpfl1Xq2qbU1gF9RZ011T5xpRYAD1sqO4VfFlIyuKosDVITTlVo8T7QKahVRqOUFdpkhvRPVY78\n",
       "3AhtjvbEPzhrAeOZiL3YOyUJ0mafI/Z8LnPIBfpCu6VCq2SvG95By7+MXnQnNOobLfzH30KvGNuJ\n",
       "1OifyzBXzCn09l1oNQnTNzHL795dpkECmuQ3r/FjMYd7kqUfGiwX04qZR8kSY+Ck4Czy7EyyxDxY\n",
       "BSyUozdXKNsppHtRzeZ/JRNrqiVkj+V5eAXS/NXk5jfuya+hszFE7HXoPg7XnY/Y0+/5ONp7LMsx\n",
       "5bsK2POcIbs25gX14hElv5mDZpnGlqCvAAAAAElFTkSuQmCC\n",
       "\" style=\"display:inline;vertical-align:middle;\" /></a>"
      ],
      "text/plain": [
       "A & B  \\\\ \n",
       "  C & D"
      ]
     },
     "execution_count": 15,
     "metadata": {},
     "output_type": "execute_result"
    }
   ],
   "source": [
    "ExprArray(ExprTuple(A, B), ExprTuple(C, D)).withStyles(orientation='horizontal')"
   ]
  },
  {
   "cell_type": "code",
   "execution_count": 16,
   "metadata": {},
   "outputs": [
    {
     "data": {
      "text/html": [
       "<a class=\"ProveItLink\" href=\"__pv_it/16c2e32d6c65918eeed6f53bff3b3a36216f96b80/expr.ipynb\"><img src=\"data:image/png;base64,iVBORw0KGgoAAAANSUhEUgAAAF8AAACkBAMAAAADN+8cAAAAMFBMVEX///92dnYiIiIQEBBERERU\n",
       "VFS6urqIiIjc3NxmZmaqqqru7u6YmJgyMjLMzMwAAADiRdoGAAAAAXRSTlMAQObYZgAAAvhJREFU\n",
       "WMPtVzFv00AUfk7TxLUdJz8AqZUQA2JoJWAiQFXIUBhclTBEQiKCCTHEA8wJKwuVwAgLVXRg6UIt\n",
       "oSoqUwYqFpAYWDKgZOncJiTQUhJzl3Ose3dR+QHck3zyfXfP9+7evefvAVCxvwKS3bBQLNQwBvWC\n",
       "33gSvWcOhMEBgPUbQ+k8wIN81PlyjAftX6R5jiBzKQCYOYw6m4fC14akqTR4KHOJNKk51rHSP7FC\n",
       "kpr4LMdDbzboymus89D4gxWyi3SFFQ7RuyNT2EGY5ZHNnOy7pKnyK2j8jBToR1ih2ibN3TKHJIZc\n",
       "Z8/3eljBoc0PHpkiu7LWv7FFyZcuYwWqb6F9JegxaOxsDPKclt3wfpGHRh6I/PuUPC3JDeZ3BOkd\n",
       "ehajG6RTZzjo4tAv3VvDVm65YK/SLZjOIIC34VlubLrV94qvhNtlviidMsqgRMkJshuWvOv4ljwK\n",
       "l73VgTBrmTzNgL5fINd9KCUy+ChDXRYuJLRSOKhTNIJ2JMhms9IkmCycNjS6YF2C0ix7JhdIPJ4D\n",
       "IYI00EUIkiyjZlfAPhOIiewzyLktyzLl/p1PSxt4tNK8JWRbAvm+w7JMtQbmRTw62wbhj0EhqLLD\n",
       "v0aV8BIkieSgLULgMMP7VMEVE1lgShAMYjfgPMrcoAWSGzqxG+ye7IY92Q0sU2aIG+7fBDGRpq5I\n",
       "EHMDyVp+8QYa3KbQPDqmnVbfnXF6rgpVJSdKveDFVCv67zo9v3hVuDmPw2YtplqbeSHkydVLNmSa\n",
       "JlGtmM6QcLeEn2yqw1OtBYHOkMkGDuox08BUKw75AGoGzlVjpoGoVixd0MUdMJomUK3Y3COYFmkr\n",
       "VFyZasXmDrzzEjjL9jQ1imxTMPcYtiWFFke14J1g7hx8kBR6HNWCnGBubsK+os3qcpYj5k4gRtp4\n",
       "s1sNMF4Lg/MTDiJxEFOt2y8F8rUelqRDJdktp+JUyT9FlZaqtFSlpRJVWqrSUpWWqrRUokpLVVqq\n",
       "0lKVlkpUaalKy/+gtPwLKKj9HPkgLPAAAAAASUVORK5CYII=\n",
       "\" style=\"display:inline;vertical-align:middle;\" /></a>"
      ],
      "text/plain": [
       "A & D & G  \\\\ \n",
       "  B & E & H  \\\\ \n",
       "  C & F & I  \\\\ \n",
       "  A & D & G  \\\\ \n",
       "  B & E & H  \\\\ \n",
       "  C & F & I  \\\\ \n",
       "  A & D & G  \\\\ \n",
       " "
      ]
     },
     "execution_count": 16,
     "metadata": {},
     "output_type": "execute_result"
    }
   ],
   "source": [
    "ExprArray(ExprTuple(A, B, C, A, B, C, A), \n",
    "          ExprTuple(D, E, F, D, E, F, D), \n",
    "          ExprTuple(G, H, I, G, H, I, G))\\\n",
    "    .withStyles(parameterization=\"explicit\")\\\n",
    "    .withStyles(orientation='vertical')"
   ]
  },
  {
   "cell_type": "code",
   "execution_count": 17,
   "metadata": {},
   "outputs": [
    {
     "data": {
      "text/html": [
       "<a class=\"ProveItLink\" href=\"__pv_it/fe4c9d8e47ca95f26cff0d8881a329bd6c8992e30/expr.ipynb\"><img src=\"data:image/png;base64,iVBORw0KGgoAAAANSUhEUgAAAOUAAAAtBAMAAACjXLH8AAAAMFBMVEX///92dnYiIiIQEBBERERU\n",
       "VFS6urqIiIjc3NxmZmaqqqru7u6YmJgyMjLMzMwAAADiRdoGAAAAAXRSTlMAQObYZgAAA3RJREFU\n",
       "WMPtl01ME0EUx9/ysW136ceFkwe4eFAPNMoNIo2ChMQEUDA2amjixYuBxHrwRNWjB5poTaoxEG9e\n",
       "dBNBhMS4B48kNPFkTGyj8eCBoIQqUqDO7NYyb2abnQ2kXHiHYfjz2Lczb96b3wJQWwEvtiIlt4wV\n",
       "syPnsKYn41f9EXue9xQzLyc3xgCmC0i6ZYL20LRfKW94CFnDW5BXycPH06wye4IM0ylrvlj5KWc1\n",
       "vAV5kvy+PMEqH+lbXbfn5mTCQ8wa3oJ8luTvJLv2wCYdf1hz1Xhlyoes4S3KRYCvV1hhqp2Ob635\n",
       "G1glW+BLy8W0vSFYcJR3LVRcSh5HShvjkIApEi/EpkOvDsJ5sb1Bc5Z3zbcB8HqIVTp2XzMUz47F\n",
       "uCe8z1UGfZv7i5O3o9wUJXE3WaXHqC5CJaWU4x7RMPR/OMrnzcHbUQ6T//b9Qeukg2YtdoY8PQrq\n",
       "bbl02t4w/8RR5sqz+TerWMWk0JmfuAd/ghKW6gsVb0jfdJS58lxF2z1Fz9AROrtH934DHjyXWmbF\n",
       "W0+1OsmoAZAN70Tr0LYAXlBltvwZtMG1NPTLhKx6w3lnuWrXyvFM7wz+74W+OOobeqngqdFvwN5N\n",
       "y0W8uIei+xBTH/bS58EXg7pb00TdQ166b9Q95vBlOLRDO1hjSdfd5vsy5l0BNMfWR3u5s5wsD2Qu\n",
       "oCvfN7ieHemZ4EhXogF1k8uhW5DD5MJe5lo6jfdB8GoyOdJ135MzpBkExAZPASyAe7BKIWEBe5Hd\n",
       "bElwpOtqwS76NLHBT5JbSd1CkrJDM4G9EjacsKTrbtN0/0Iilg5SWPiFX4/AB/jxJ40BKc3ApOuO\n",
       "JmvWBouJWKfLL+LkxWCJ81oDv8mSrhRTK1WQ+4KvU6r78DrHP13k8q7+heYUS7pSTN2ww4Aee5qp\n",
       "jikP2grAQamynTnFk647UzeWqi+Dr1PKfOEo/z0aAQQ8wRLM8aTrztQNFk++FMuTYsOyyafY0NHV\n",
       "Hm6HRZZ05ZjarswI6HdmhPLUO8XyVND+jUcw6coxtb/yoICaE8rzXU4sz+84wwlMupJMTT4ytaek\n",
       "tJQhPnfqMRDSoJ4G4YOFJd1+ud73aPSxdWhQ7ghAjw7gop3LF7MjHezS9WflOPbxyNRhT2S6P0z9\n",
       "bV8uUW9MnTyAe76/7hGbb3TVP2brXo7QP3L/HSX4kArtAAAAAElFTkSuQmCC\n",
       "\" style=\"display:inline;vertical-align:middle;\" /></a>"
      ],
      "text/plain": [
       "A_{i} & \\cdots & A_{j} & A & B & C  \\\\ \n",
       "  C_{i} & \\cdots & C_{j} & D & E & F"
      ]
     },
     "execution_count": 17,
     "metadata": {},
     "output_type": "execute_result"
    }
   ],
   "source": [
    "ExprArray(ExprTuple(A_i_to_j, A, B, C), \n",
    "          ExprTuple(C_i_to_j, D, E, F))\\\n",
    "    .withStyles(parameterization=\"implicit\")\\\n",
    "    .withStyles(orientation='horizontal')"
   ]
  },
  {
   "cell_type": "code",
   "execution_count": 18,
   "metadata": {},
   "outputs": [
    {
     "data": {
      "text/html": [
       "<a class=\"ProveItLink\" href=\"__pv_it/a1522d0c887d82132edfa1d0fd3a50a52154799d0/expr.ipynb\"><img src=\"data:image/png;base64,iVBORw0KGgoAAAANSUhEUgAAAEMAAACZBAMAAACGQZoJAAAAMFBMVEX///92dnYiIiIQEBBERERU\n",
       "VFS6urqIiIjc3NxmZmaqqqru7u6YmJgyMjLMzMwAAADiRdoGAAAAAXRSTlMAQObYZgAAA4tJREFU\n",
       "WMPtWD9oE1EY/1LT5JpLrlkEwaEF6SAdWlAnW1qqWVRIhVQMVHrYwUGkBV2cEnXr0kKNGEXs4NJB\n",
       "e9DWage9pTgJgqNIugg6SKW2Nv2Txvfu7r27995HHFyq3Ae5u+/L7/68777ffX8AqBgfQJWlTMm+\n",
       "w7XUDxUR7wGY7eHq+10FoQ9YAC1Vrs5WFUjqNNnEupmajP9SIE9n6DNOMfV6Yk9GaOvO5YvsPqax\n",
       "RXa3g5DIlnfgWmOgbZPd1yCkad87cK1fyqUN+UaHnDXqTDUBemVIk+OpF56WIL9jANcGgxDXI2nP\n",
       "OkF+FaIK7tPo40Ys16q1k022qC23C3easyHxGByrnq1Z8Kx+HKLj4gu4P/SA7ATr2zfI2xatzyMY\n",
       "RLAuHsEguDWUUP5e9N4/WzvQMztC14WuC/3y38p37CXeyg9raa5WEMhNkj+nbV55VCwFsdBJyw9W\n",
       "VsCyf8jlIz1rlKt2wZQRLTt0+42pMWvOliGTTmJ/xdSXsEYTdmo1AGljKdy1mjA55ZUXXLpWA0UH\n",
       "GPnySL98oz5njWyhMVLQKKVfl3MFdilSejWR4mzpkVCQUTdEPKs241aHUzeEFdHHPepZ79ISpErq\n",
       "s8NBCC3jZi3XulD/BInsOlnSBeFhXmfyjj8FaxUNgqDV6MYQgjXej0EEq1RLIdZL9ywEIVgvXsYu\n",
       "glv/CUGahZV6JpcJUANrFmqEYTvQqFlwavZpaNQsxGmFPmY3ahai9N6T6QbNArTSlzw2KDYLojj8\n",
       "K6Q5T5xmQZQCpcgIYzvWLECWbn42ahaAnpTcE5sFxC3zLC4nsG8ZdYv+mXUObrMgt1nELVe9Foo3\n",
       "C4I0VzZLuYdhMjkoslLPl84qySSe3SgPdTEKniTZZV+Nb/J30gsYg8RWTA3eMRLfuhcOccKzpEqB\n",
       "NhLfuveti5Iv53ynAqFdK3iR1joIRoeFxHeS03Vt+N3AjIKI1Up9PFoLRdBPKZDIPqS4cobClMuQ\n",
       "+I6A4SmbFDKO0F6HJd8tPnkFt9CsxdxibKBuMbxvR4q4ZfQ8YBl0dJWRqpw7p9QmV8i7HaiFMX5Q\n",
       "RJx1BaiW6xtHZ11BqkVtbNblpxKSRZImNuvyU4nJKy5p1uVTzYJiwkJmXb6sg2ZLsy6ZatvQXJRm\n",
       "XTLVaqUT+KzLp9ouLKKzroBb2mFZmnUpVEsrsy6FaqY860KpJs26JKo9qefdJf8Gh3ME/lm/DE4A\n",
       "AAAASUVORK5CYII=\n",
       "\" style=\"display:inline;vertical-align:middle;\" /></a>"
      ],
      "text/plain": [
       "A_{i} & C_{i}  \\\\ \n",
       "  \\vdots & \\vdots  \\\\ \n",
       "  A_{j} & C_{j}  \\\\ \n",
       "  A & D  \\\\ \n",
       "  B & E  \\\\ \n",
       "  C & F  \\\\ \n",
       " "
      ]
     },
     "execution_count": 18,
     "metadata": {},
     "output_type": "execute_result"
    }
   ],
   "source": [
    "ExprArray(ExprTuple(A_i_to_j, A, B, C), \n",
    "          ExprTuple(C_i_to_j, D, E, F))\\\n",
    "    .withStyles(parameterization=\"implicit\")\\\n",
    "    .withStyles(orientation='vertical')"
   ]
  },
  {
   "cell_type": "code",
   "execution_count": 19,
   "metadata": {},
   "outputs": [
    {
     "data": {
      "text/html": [
       "<a class=\"ProveItLink\" href=\"__pv_it/2b1a0755cf0abca9492e9270f6b6062ad8259dbb0/expr.ipynb\"><img src=\"data:image/png;base64,iVBORw0KGgoAAAANSUhEUgAAAP4AAAAtBAMAAAB8EsvjAAAAMFBMVEX///92dnYiIiIQEBBERERU\n",
       "VFS6urqIiIjc3NxmZmaqqqru7u6YmJgyMjLMzMwAAADiRdoGAAAAAXRSTlMAQObYZgAAA35JREFU\n",
       "WMPtWD9oE1EY/yVNc2kuvWYpOBakg7oEqZMVQrUWVGgKVSwqDTooiLRDHTol6qZDAxqxOjSISwf1\n",
       "oGqlg81SXBQLjqItiuAikWr/pjW+d7m7vlxe4Lt46NJvuHv3+N3ve3++77v3O4Dbd7gwbb66LzK4\n",
       "PN5/lEwxVxrIHkluPy+48d/8Q9LZEAcmFskcHUDT7+3RL+gu/L8tSjoLeWAoQ17CTSC4bj/OTKTp\n",
       "7tXJNUlvijG8G6ZyKIwismo/5lNJuv+IsiLpPcwGtp+8ioEYMLXPegrqT/N0/5fDm5LeZeDzGTJH\n",
       "SwJauz3aFyiwlVNou6cmNWPhPlVu6PKbkb3sPkrzXzj7uivHQ9mI2CTGmG9NjAGVX3SrIVoQISNw\n",
       "clUbOpUAvsFJYjM5okU9wO5hY+wD44NxB2CW5bi6ZTYq7Ot49pd8Q5UNCck2kyNakMrZM0KD04uf\n",
       "zQXtVkM0FqmHpBsKZVVGYjM5ogUpK1vYOPwxBK+Sdo6v2G42o9FcVfo3ruBigpz+GExi+j67h3JG\n",
       "SfO1kLLnZrlaNgXnq9K/EEe0SE5/je1i5gp7uM63bw23HlLeDLWxS28aL32VM33PtrFDD8200So4\n",
       "i5YLx6GmW4FnpQ8I9y5l0ENJvt4tHY9Ke9iIKyrGOf49YesYIFXAxgX2sTrGWycE6iL968EDTlqx\n",
       "Z1/BlQmVPDwfdfPmF2nvY58r91pMmH9f2s2rI9Le57tc+VfiqNd64IEFhut8sfHSQQ/cn7qh1+u/\n",
       "Ne2B/77T2LEd++823Z3NX/s79Fypu7+bnhMVcKUTmOwk1yw5mp1wIhv0KQtwtYtVgaY16ulfjjbO\n",
       "pLfphV+AN/NSFoxRxZccrXAxNUQ+xYvwCX6S0qjSqQY6wDXhGPkLKsBDS8ayEmOnFrqFf8mGElT/\n",
       "AtxnnVpJ0sFGO/QHFzBIRcn6w4QzFr8lg6ulg0R/2GiH/kgtlk+0VP1hwhlLQxESmVNLf8jR7EjK\n",
       "Lz/J+kOA+42/CU+I+kOOBrgkimyS9YcAL+dylCgdLLRDfxj5PBUn6w8TzllCvO3TidLBQjv0B89n\n",
       "9SPI+sOEGyxM+4cfgCodymin/uC/hM5nyCQmvMyi3jl5l34WNNGV+oMJimz/PbjQH2W4yOJSOnij\n",
       "PwQWl9LBE/0hsriUDp7ojxos/0x/1M3ijf6on8Ub/cFZ/gC9kBxNxg6D1QAAAABJRU5ErkJggg==\n",
       "\" style=\"display:inline;vertical-align:middle;\" /></a>"
      ],
      "text/plain": [
       "A_{i} & \\cdots & A_{j} & B_{i} & \\cdots & B_{j}  \\\\ \n",
       "  C_{i} & \\cdots & C_{j} & D_{i} & \\cdots & D_{j}"
      ]
     },
     "execution_count": 19,
     "metadata": {},
     "output_type": "execute_result"
    }
   ],
   "source": [
    "ExprArray(ExprTuple(A_i_to_j, B_i_to_j), \n",
    "          ExprTuple(C_i_to_j, D_i_to_j))\\\n",
    "    .withStyles(parameterization=\"implicit\")\\\n",
    "    .withStyles(orientation='horizontal')"
   ]
  },
  {
   "cell_type": "code",
   "execution_count": 20,
   "metadata": {},
   "outputs": [
    {
     "data": {
      "text/html": [
       "<a class=\"ProveItLink\" href=\"__pv_it/702e558a63ac53bff86615ab306cec3257977a340/expr.ipynb\"><img src=\"data:image/png;base64,iVBORw0KGgoAAAANSUhEUgAAAEUAAACtBAMAAAAUtK/1AAAAMFBMVEX///92dnYiIiIQEBBERERU\n",
       "VFS6urqIiIjc3NxmZmaqqqru7u6YmJgyMjLMzMwAAADiRdoGAAAAAXRSTlMAQObYZgAAA01JREFU\n",
       "WMPtl01oE0EUx19tupsm6TYXQfBgQTzUHlqkHsVgW0UtpIVUDFYa7MGDSArWg6cEvekhgVIwXhrE\n",
       "Sw/iQupXQc2leFES6FEkQRD0ILHatOlnfG9nd5PdmbInBcs+2Bnen5eZ2Tcz2d8DIFOKwJt/Ojru\n",
       "DZpux09BzK08+Gbypvtxiw9Z6MFmLmmOOl/jY5ZVbCZNNyCvcSHtm9R+N/0bvm0uJtVF7Stzqpiy\n",
       "jt0dS8yRKdbLaa2TwLuB3TdLTG+Z9Qpb9dfM7Co312laMqiGGwM4xcX0UuPTBwMfPkcBro9YYrTM\n",
       "tIB0W/Pu41MCCFrzmKI1H4aWTprOSy8ZTnoXuywxlI55FR48phcP76jwpN4Nninrgl4PRXGhcK5Z\n",
       "e/cWRJu/VW7ynraIYnzFYJP3/JBwnNEkuObav7Fc0Vk+MCKM2UN2c+jm0M3Pfrcf4Mw/JXDkn0BJ\n",
       "deSfxbmkI//kEzEn/pHUZ3kn/nkBFfr+d5RF/KPLMUildTbh+YfJSjQzEXLgHwmgtejAP1m8AH0A\n",
       "Lx+J+IfJ3izjzPRNEf8w+S4+nhr4kwdF/KPJC/VP4Av/whcbFvKPVa6Jz0SzrPQJQyyyHBLGWGQ7\n",
       "jwnkS/dUUYhFHr0sHGYP+X+wwEQ1EznLyUv1ociQeV9aMZVzZS5oB3++aTgVvBXxNLdRVAfMGF4C\n",
       "RyxwOyHvYhM3LtUA3v8T3E54qAZKGf8JVYAvV7jldNKGx/V/eqX6Yfo4V4Owe5kIMlnGk5Ybsdcg\n",
       "kKA3nYgx2YMnTd7k5gpT89uYGMeQ17kYKl0C203paVuz1yBaenIhXab0VEL2GoTS4/9slCbLeOX7\n",
       "VXsNQlf3WhqYfLUenR3M2s98W6k6G3lovwriGsQqi2sQqyyuQfaSXXPN5UM3P24OXfuLtkQfwhhP\n",
       "PKtjgw1g60fC3+VZAje0kDW+0vgRlza4GGKJdgNEiSUCPAMQS0gGAxBL5HqELOFdabCEckwVsoRU\n",
       "NSYef38mC0LUklcaqOU/ydUgGmohhjB5gOKy9hpEQ63OPl2mORNTQtQq5BvpIV4SpMff35QeZZWr\n",
       "QSg9b4q63IFzTl7kahAs/6RuYDJCTCZyAew1CBLP2PkkJw+Lj8X+rUH+ABzpGznoG8L0AAAAAElF\n",
       "TkSuQmCC\n",
       "\" style=\"display:inline;vertical-align:middle;\" /></a>"
      ],
      "text/plain": [
       "A_{i} & C_{i}  \\\\ \n",
       "  \\vdots & \\vdots  \\\\ \n",
       "  A_{j} & C_{j}  \\\\ \n",
       "  B_{i} & D_{i}  \\\\ \n",
       "  \\vdots & \\vdots  \\\\ \n",
       "  B_{j} & D_{j}  \\\\ \n",
       " "
      ]
     },
     "execution_count": 20,
     "metadata": {},
     "output_type": "execute_result"
    }
   ],
   "source": [
    "ExprArray(ExprTuple(A_i_to_j, B_i_to_j), \n",
    "          ExprTuple(C_i_to_j, D_i_to_j))\\\n",
    "    .withStyles(parameterization=\"implicit\")\\\n",
    "    .withStyles(orientation='vertical')"
   ]
  },
  {
   "cell_type": "code",
   "execution_count": 21,
   "metadata": {},
   "outputs": [
    {
     "data": {
      "text/html": [
       "<a class=\"ProveItLink\" href=\"__pv_it/c593b5866c7ad74dd957165e8874094d0cda5de90/expr.ipynb\"><img src=\"data:image/png;base64,iVBORw0KGgoAAAANSUhEUgAAAO4AAABUBAMAAAB3kRYCAAAAMFBMVEX///92dnYiIiIQEBBERERU\n",
       "VFS6urqIiIjc3NxmZmaqqqru7u6YmJgyMjLMzMwAAADiRdoGAAAAAXRSTlMAQObYZgAABH1JREFU\n",
       "aN7tWk9oHFUY/zbJzszubGb30lMPLkgPtYcskl401aVtFP9AUkhsl7bu0iAIIlk0pfSUadVD62HX\n",
       "1oirQhbxYC46kGKqUJhDaxHUBHopSLuLUUoPJWnNxhpT1/febEPmzXzfQrbgwffBDjvz+33ve+97\n",
       "73u7zO8BCLMWgLArzdzU/gJBMCdyR4wUCifyK6P7D4UhvctUXOgHiP1D4G+7ED/v4niSDWu+GgL8\n",
       "9DcV1loH0P7C8Qu72GXaxglLRdbxTEieZu5TcXWGJv7E8WsOu4wRDUzWWcfXQyZAX6Xi9rCuzu5C\n",
       "4dgav94mGhhiH+Nu8Pkb8XUqbnIYrB0OCpfS/HqRaGCFfbRGMM0Fi2fxt9Yaqwem58jVvWxVWFnv\n",
       "9qYEP1ZsLQMEB9G6fjdA0MBgq+b2Oe8uHpweG8zdYFXS3q28MPu8jqI46LwWoqsBwu+VKZ6JY1ia\n",
       "9vHYVdDS4fCzYgocFIceXqXJTIDAtoQ9VFw+M5NFtN0+kaU6HjfJ8zvvygSe2Mc34s59Ela+kC+0\n",
       "3MyTch5F5UYAxUX5mv0Bwln2qW3ELb8ZVr7WykO3mCbvqSW+rrbjuCjfSwsyweB3Q3YrrmlvC2yi\n",
       "rHzHXnrodjEyLOG8CGccHOeD0naCRDCHHjjwRXPnxvy+LHlFa43KyIsbbtAT2Ii/HcwVCPxoMzf6\n",
       "go0TWnHRLbPllrS3iGOEzwHedcDKYG7xNBgs3YtbxRHCmb6DsFgFPYt4GecaRespgIkt4iShCj1F\n",
       "aqtmNfd8JzhCiNuvvONQbl9GX3+6ExwhJODAIdLNjW6zO8HbE5QpU6ZMmbL/xGYXaNzc0xmOEbqG\n",
       "2/jt6BBvT1CmTJnaN9S+oUzVr6pfZcqUKfu/2h0KTOQblZHnKMbc4JR7CoevNAdHBu0wpEb2qjsL\n",
       "MF3HcX0AYGaAaOAB6/xa2Ihq5DvnJRdgvIz/vO1l3jFCyBXy4PkQ4DtKMxbyIMzjb+F7+XtsLUPk\n",
       "g8uD424QcCcLVNx9bExP4hmZrvIx4fnw5MFSUP7XnK9dKm4D4NfDKGrcE8kmMibkwfHgv4pvhIC3\n",
       "OXO+RWQ1fpx4wu+xWeGNhAjwfgVYtD6ZChAKUPJnya8Ac3lw1t/b6ua/RyEHHar+9cGHkS/IBCtX\n",
       "yWeJNHN1X1/Dq0wchTCJBri6D38Ep5f5Un8lk2ysOn6aoUsc/fiKaIBr2on1sKR0ZSDx2a2T+nEx\n",
       "sZICzMs3ugo//HyifOJVMTafwutVbgrFvfKdzcoEoyqOqyTG3O7DuphGSQHm5buUhe8HYLdzXETy\n",
       "KbwGbzbioLgoX/MGyITTfArvw/tvQbIQS0FQAb7GpqLfMebSsAof8AeSwsuKMP4p4Dg/g3OsLBMu\n",
       "NH+B+NC9MhyERejyEuRTgI/yQ0HsebRoZcCrJ7+Aa344+hHgeLTWmBr5GCc8AxNQssTX0L22u65n\n",
       "jWWxAEIV3nY4QjCW2YgvR3AFuMQ6nMimUIW3HY4QtGG4Du9txxXg16DXNg44qMLbDm9HUAqw9KP5\n",
       "SBTgfwEYPXeI67bvmAAAAABJRU5ErkJggg==\n",
       "\" style=\"display:inline;vertical-align:middle;\" /></a>"
      ],
      "text/plain": [
       "A_{1,j} & B_{1,j} & C_{1,j} & D_{1,j}  \\\\ \n",
       " \\vdots & \\vdots & \\vdots & \\vdots \\\\ \n",
       "  A_{m,j} & B_{m,j} & C_{m,j} & D_{m,j}"
      ]
     },
     "execution_count": 21,
     "metadata": {},
     "output_type": "execute_result"
    }
   ],
   "source": [
    "ExprArray(ExprRange(i, ExprTuple(Aij, Bij, Cij, Dij),one,m))\\\n",
    "    .withStyles(orientation='horizontal')\\\n",
    "    .withStyles(parameterization='implicit')"
   ]
  },
  {
   "cell_type": "code",
   "execution_count": 22,
   "metadata": {},
   "outputs": [
    {
     "data": {
      "text/html": [
       "<a class=\"ProveItLink\" href=\"__pv_it/91273ee25cf4f62d352e6ee3cde146248c9561a20/expr.ipynb\"><img src=\"data:image/png;base64,iVBORw0KGgoAAAANSUhEUgAAAJgAAABfBAMAAADmARMeAAAAMFBMVEX///92dnYiIiIQEBBERERU\n",
       "VFS6urqIiIjc3NxmZmaqqqru7u6YmJgyMjLMzMwAAADiRdoGAAAAAXRSTlMAQObYZgAAA/JJREFU\n",
       "WMPtmE9IVEEcx3/q7r7n7vp2L548uBAesoMReunvklmQgStIJVouShBEuJQinlyoDtVhN0XICFyi\n",
       "Q94eGFin9tAfgv4IXrqUSxbhSaFW0zSbeTtv2503j95vEIrYH+zbx+z7fvfNMDOf+f0AaGizIBE2\n",
       "qqplGTMb1esfMmZilW/qu4SXjcqvrEiY2agueDckzMQqX1RbJV+f2LBmHPYypyqID/TiAXUNYHE0\n",
       "1+QtekCnMvOmKHKqwkjRy+eJ8W/kq1f095vk8mSW3RQFU/ERBThgYwZ15FMeYTciFRe0XzvyZjN3\n",
       "nA0ZU718M5QcOmt0Yph28wb5zOfNkhedmTHV8/3QpA/ShkoPGQ01RO7a4szMF6925MVU6kwIVuAW\n",
       "bXlUFgFf26YO97d25sfshKN5YarcMW031BttrnTBA8wMt7IqMkpYXTamZiBe0H4P4KoO5I8wkSDv\n",
       "5g8H1VaAhYLm6w2nYCEFShhldg6q4mq7ru0FGOB/S4ErJrMb0ZlyjG+Kn7yiS5k9cJ/fx+8q0H5a\n",
       "ygvS7uo4lOLvx7OtzvEjUTROerITHUet7Y1k//iJfocKslQmLbzQCGQ8a2izJbJJ9Cf5VoXsE/5V\n",
       "tNkImaRvLWvPRfaJ6V1os2ayq+2xrL1ABLQ6/IrMAnzssna++8VhwgItXIBSB+ep7KuBeiuESed9\n",
       "TaBNhApQ+mcI05Gejlgg3EwNU+AJoSBMR1pZF3UeRmJiM3sIk5EGZVU0zaAnysxyKHU4zdwrPIRp\n",
       "5zVyasiZGSh1Os2WwjyEq0jn+1pNM4pSRzFHFI06B2H3PFmwx8E0K0apfZyhuwPplw2EmVkAt5Xb\n",
       "QNgbAh6l0hBWR7MxIUqlISxAqTyEBSiVh7A8SksQ/lfCN9DZrQa3SXU5Dd6xNNZMrHpIMTeJnSU2\n",
       "qjnKij7si4lVlQYVFpFeNqpEbodFmtmoatl5AQfhWusJn6bQDbljERLCDRlh0nhIzz2Lg7Cp4qLB\n",
       "cM0gIWyquDDmShkgIcxU/rtfhpXBTD6FTtChrMFCmKn8femKLiWST6FpqWNKx0KYqW5egkC0Mvg7\n",
       "hX7c0hlFQ9hUkbQSylOWFFoOwgcJ4RKaJYWWgrC6TN7taRmfQstB2BOBd3CtRphCy0NYkEJLQ1iU\n",
       "QkujVD6FLsV2Z8ItHS3x7VKRTdS/jn4HscqokI5hvWxUCs3P+7HHAxuVixbPE9iDi40qQJd7fwRp\n",
       "ZqNaost9JIgsR5sqPhPOGDkishzNVHwm3EZvvmLL0aaKC1qh9m9gy9GmSjBhpsPIcrSp4jNhMmF8\n",
       "7wFZjjZVfCZMJkxvEpDlaKayZsLjHbcBcOXovKpUjv5vy9G/APkMhzNhGt0NAAAAAElFTkSuQmCC\n",
       "\" style=\"display:inline;vertical-align:middle;\" /></a>"
      ],
      "text/plain": [
       "A_{1,j} & \\cdots & A_{m,j}  \\\\ \n",
       "  B_{1,j} & \\cdots & B_{m,j}  \\\\ \n",
       "  C_{1,j} & \\cdots & C_{m,j}  \\\\ \n",
       "  D_{1,j} & \\cdots & D_{m,j}  \\\\ \n",
       " "
      ]
     },
     "execution_count": 22,
     "metadata": {},
     "output_type": "execute_result"
    }
   ],
   "source": [
    "ExprArray(ExprRange(i, ExprTuple(Aij, Bij, Cij, Dij),one,m))\\\n",
    "    .withStyles(orientation='vertical')\\\n",
    "    .withStyles(parameterization='implicit')"
   ]
  },
  {
   "cell_type": "code",
   "execution_count": 23,
   "metadata": {},
   "outputs": [
    {
     "data": {
      "text/html": [
       "<a class=\"ProveItLink\" href=\"__pv_it/4da3f7233f0cdda157691c1691298daeb04e62ef0/expr.ipynb\"><img src=\"data:image/png;base64,iVBORw0KGgoAAAANSUhEUgAAAOYAAABfBAMAAAAOgaY1AAAAMFBMVEX///92dnYiIiIQEBBERERU\n",
       "VFS6urqIiIjc3NxmZmaqqqru7u6YmJgyMjLMzMwAAADiRdoGAAAAAXRSTlMAQObYZgAABcVJREFU\n",
       "aN7tWk9oXEUY/3azu2933+vbXHrqwYD0oB4SJL3YqEvbKNpCtpBYQ1uzNAgFkQRNKT1l/XdQDxtb\n",
       "I0aFLOLBXOyDFKOCuAerCGoCvRTEbrCK9CBJazZJ7Z91Zt6b2Z33d2aS3PaDhLcz329++2bmm/nN\n",
       "twOAzVwCj/0DKhaJYlS7Vr2VNSXOSBSj+uWOp86oWQqU0ShKpc9teuq+mS0pcEaiGJWhrXsqq5NF\n",
       "Bc5IFKN6KXvXXZeyLlblKaNRlEovmhvuui9hZRxNsrz96Zogp41qnTHLrq6lVClI33aji1CeAnOm\n",
       "y/5U4XD4n0UfvKhWy7o7glL9NTO95o6i4ZkR9I6pLp+X+Q5FmH7PefBDhRijQsP+uOf7QMdSAGe8\n",
       "gP7tpQ8+qBCjVPj9H3TVoc6M91BO/VxFbDhtlPHJ3+e0M2QgFz4CT1cTqne8y0e6Yi8YNmcmtSRE\n",
       "6aCM0WrHcY30wdTLvAelSuN2B/hQfh39JTYp51exghCng3r3FcgVM524g0q7+S/lUOkD9yz4rPFQ\n",
       "a92lxm+QHbg1RcczIRSqDHUMrkPcHo4j3IT3ofKJcZszJ7cMPgETUDbJ46b8upLtgvRhQF9bxtKr\n",
       "6E2/j8GbFpg90pTp8/Vx8zFAX1tqASzAVXhrD1yvgJZX2hDx/H5aDVmBxLga8vPk6f1qX7b03BuW\n",
       "Gmc1ubukBDTg6PPQtrbtkBkj9ZnBp6KKROxyY3j6UFHIoQOtFrO8cPEpErFetPHdF3JYQdvGGK9j\n",
       "fIoEzESaLnVbyGESxfwiv0r5FAmYhrYRY0PI4SDa2h7lVymfIgFLoG1k/hEhhzrAH8f5Sp8iAcsV\n",
       "wNxriTiY9Z8nHnb1u1P0p78yDrKVEz8eqIRpauaAO3m+4Ol3VHTjvJ8yDtbUaBbo+8I0NXPAnaz9\n",
       "5+l3XHQKpDT1QdxsmC5lDqiTQdtw9zsp8uUM1tR13GTYbGcOOBaT657wxEU2p1sZh0UfjBSDNbXj\n",
       "4MTiSt4TnrjI5nQr47DoM9dCNLXjgOwKWht6+RlOiwinWxkHpwrQLBg9HKKpHQeAk3jd5QeeFTnj\n",
       "eUSIMllDG8Oz6CFIUzOHUHM4JZXx1jT1p6CgjLemqd/uPqagjLdBU6srY2WkujJWR6or47ambtuO\n",
       "mj4xfCLdyZct9E9XX5NuKRLFHF6tQvYCnxrR+gDm+qS1ZhSKOVzC4o/P9eoHUDBnZBfoSFTT4Qpe\n",
       "LEb5jQ6f5lOyC3QkijlkiPy6wVXO4t3PlD07RKKYQ9nOr3G70S1bH0hmdqJQTYcHvGt/jKpAKU0d\n",
       "8zmpXPN36PY2GHfOc3KaOn7fbzvzdXjSom00T593nLalNDVDBVnToZu8CfeycfJbzxeSmpqhgqzp\n",
       "QCIzxlXaMdYpqakp6qdfz06dfYG8Ep/gZs1CGc+hPfwEw4MdsyQ1NUX90Af7rDOEhE9ws2YB/8gy\n",
       "59IQF9Fq+DHIamoblV7ognV4jwSgK8FNmwX4un/YnevQ3x/6AGQ1NUUlx5HEtA+0rgQ3bXb7NXXH\n",
       "spZPr5JJKZngVtfUZfSmRr5TPsG9BU39IuwqpY9a8gnu7VDGygludWWsnODegjJWTnC3rW0CdrnR\n",
       "P9jPzzBjZG3okPR0jUS1OKA93+Bzb5BDm9BiRZY0EsUcyK/3F/hK/JN/RjoBEYliDhqWRmP8rjOJ\n",
       "toXUXVnOSBRzSGCZUubPSAN4W78pyxmJYg45vG2M8Ts6Tsql6rKckSjmQK5rTHLvSYZYuyl594Oi\n",
       "Wk8oy/4OuJPtDGfzzIaHOLkueffDQbn2M18H3MnwL1dJhjjXI3n3g6ICremAO9ngZxsZ4sWq5N0P\n",
       "igoOT+pAOnk+74kjvVf27oeDCs5T02ZJJ+u/e+Po2yXZux8OKjhPTZsl90pOuQ6qNUSHr0vI3f1w\n",
       "UMF5atpsslafHvyQB59sDA89U2Kcgnc/GCooT80cQq199yOsc9p3P3ZcGgeq8f8BENtMTSXfItQA\n",
       "AAAASUVORK5CYII=\n",
       "\" style=\"display:inline;vertical-align:middle;\" /></a>"
      ],
      "text/plain": [
       "A & A_{1,j} & \\cdots & A_{m,j} & A  \\\\ \n",
       "  B & B_{1,j} & \\cdots & B_{m,j} & B  \\\\ \n",
       "  C & C_{1,j} & \\cdots & C_{m,j} & C  \\\\ \n",
       "  D & D_{1,j} & \\cdots & D_{m,j} & D  \\\\ \n",
       " "
      ]
     },
     "execution_count": 23,
     "metadata": {},
     "output_type": "execute_result"
    }
   ],
   "source": [
    "ExprArray(ExprTuple(A,B,C,D),\n",
    "          ExprRange(i, ExprTuple(Aij, Bij, Cij, Dij),one,m), \n",
    "          ExprTuple(A,B,C,D))\\\n",
    "    .withStyles(orientation='vertical')\\\n",
    "    .withStyles(parameterization='implicit')"
   ]
  },
  {
   "cell_type": "code",
   "execution_count": 24,
   "metadata": {},
   "outputs": [
    {
     "data": {
      "text/html": [
       "<a class=\"ProveItLink\" href=\"__pv_it/fa62f2e3e3e16bef5b604d7b2fb64129442f0b810/expr.ipynb\"><img src=\"data:image/png;base64,iVBORw0KGgoAAAANSUhEUgAAAO4AAACABAMAAAD+Pkg7AAAAMFBMVEX///92dnYiIiIQEBBERERU\n",
       "VFS6urqIiIjc3NxmZmaqqqru7u6YmJgyMjLMzMwAAADiRdoGAAAAAXRSTlMAQObYZgAABR1JREFU\n",
       "aN7tW09oHFUY/zbJzszubGZz6akHF6SH2kODpBdNdamN4h/IFhLb0GqWBkEQ6aIppacd/x3Uw8bW\n",
       "iKtCBvFgLrqQYqog7EEtBTWBXgpFE4wiPUjSmk1qTRvfezNZsvPe943usvXQ9x2GZH7fe2/f+943\n",
       "85v5fgOwzf4AwlKjtfLQo4SDPT5yzOrB8W83B4YGXBWyQI0LnVmAqUUcf7kKybNVooNb7MffVM1o\n",
       "oUKNu8z6PDGBwuf2sMOUi7d31tnhrAL4imoFUGToXAGFL/EfPUa0N2+zwwnFglSLeWrcR1gI70dX\n",
       "JCFW8CrRvmuFHUryBjAqn1PRgRrAL0dRtJThx/NE+3SWzzcnnf8ClgtEM6f2/fh9OHxPASJM9F6U\n",
       "55uH0gQVnhsAMzkU3rsYNW6Re4xKoXRGyqNZKjy9bOybKPywiDyVEIP88KccXpah81R42FzNdXy+\n",
       "/JCkJr3KU3VDOu0BdPRGpG98DYVFDsYgIn1npBW12LjdKxHpu4wHosR3zc6I9LV/kk6/ykN4g2h3\n",
       "iYWiD49fkq3gNBVePqnj0sY9t3kFkoPX8Q39zObI5EGP6PfLgRHqshNfqE0OvQ/atGnTpu0/mUPd\n",
       "eRnjZtfmfPOUPTW6OnzwCHazIKyP8cXb0DxlT7NpzaluKj/8Ta4Gu8cZf0HzlJ1TuoSCVNjT1J1X\n",
       "ULrUOjRP2TmlMzYUATDXIILSzeyB5ik7p3TWNfn8C8kNoCmds6vSAmXnlM6oycucF6Tr12CPSaRw\n",
       "+diFA2xXOAG7+hmh7BjuUzrzmuRggMV2zdUzAVNSUTp7HzjlTJ15qig7ivtPZPE1yeG38iRfiePE\n",
       "ExkUPTAyNGXHcP+JLN0rObBLwn5qXB6ZYgHtd4uyo+OKJ7K5atiBL+y99XFnP1ClL3+w8ZvZpz2E\n",
       "smO4SF+7T3J4K3jF4I878aIqfZ3VrWYJYx6h7Bgu0vfr+bCDxf8bdINxbXeHdBFl6Tv25Faz87Ec\n",
       "QtkxnE/K2A0hB3vwVgU+2dxdj+9TMuMuDz1RbwZdVYSyYzij/MOPu7hDMC56yQyapd0mcczhY4DX\n",
       "K+CgD4XJDFhsuZeaxRGHN/cehiUPTOyZzzpTKzgPAIw3iZMOHnSRLypYzj3WCo44JN2nXyNfnn0a\n",
       "f/7BVnDEIQWHjpDNqvEdbit4tIM2bdq0adP2v9jMPI3b+1vDMYeOXES7XS3i0Q7atGnT1w193dCm\n",
       "81fnrzZt2rTdrdaaYBNmByarr+BwuwSbZj/AdD/RQXsEm/YB1jpBFHLbJNjs5u+xDUKq1h7BJkx5\n",
       "fE6EFLE9gk3rulhsYsX+tWCzsQKsEGxur/DGFAX4xgqwQrApHCTBZmMFWCHY9LbTI4XQwWvcH3wa\n",
       "jYJNEZrWBJudQgphEx20R7DZIaQfnxEdkILN1Ee/nzZPisCGKsCBYPPij6cmTj0r5tZQ4fUztwfF\n",
       "64LNkEMg2EyNVTuPmiKMoQpwINj8rh/2VU6KkRoqvBbvNlZB8bpgM+QQCDbffgnS+UQPyBVgX7Bp\n",
       "zWZgDd7hJ0IVXpaEyQ8BxwPBZsihLtg8DEvQ4S9QQwV4S7AZLzi94OdTYwHXfnf4PcDxumATcXgI\n",
       "xqHkiD+V19rORTNrrYgNoKzwRuGIg7XCZvxNDK8Al9gPTmV70ApvFI44GDm4DG/sxCvAz0G3ax2q\n",
       "oBXeKDzKQVeAQzdNXQHWdjfQd/291R2h7/p7q2bpeyg8+nur7aa/t1Klr/7e6g5/b/UPzr5Exx0Z\n",
       "xbsAAAAASUVORK5CYII=\n",
       "\" style=\"display:inline;vertical-align:middle;\" /></a>"
      ],
      "text/plain": [
       "A & B & C & D  \\\\ \n",
       "  A_{1,j} & B_{1,j} & C_{1,j} & D_{1,j}  \\\\ \n",
       " \\vdots & \\vdots & \\vdots & \\vdots \\\\ \n",
       "  A_{m,j} & B_{m,j} & C_{m,j} & D_{m,j}  \\\\ \n",
       "  A & B & C & D"
      ]
     },
     "execution_count": 24,
     "metadata": {},
     "output_type": "execute_result"
    }
   ],
   "source": [
    "ExprArray(ExprTuple(A,B,C,D),\n",
    "          ExprRange(i, ExprTuple(Aij, Bij, Cij, Dij),one,m), \n",
    "          ExprTuple(A,B,C,D))\\\n",
    "    .withStyles(orientation='horizontal')\\\n",
    "    .withStyles(parameterization=\"implicit\")"
   ]
  },
  {
   "cell_type": "code",
   "execution_count": 25,
   "metadata": {},
   "outputs": [
    {
     "data": {
      "text/html": [
       "<a class=\"ProveItLink\" href=\"__pv_it/76b19cac4850d1cb6fb2eb19b61c223ef482e1860/expr.ipynb\"><img src=\"data:image/png;base64,iVBORw0KGgoAAAANSUhEUgAAAWwAAABUBAMAAABU7xD+AAAAMFBMVEX///92dnYiIiIQEBBERERU\n",
       "VFS6urqIiIjc3NxmZmaqqqru7u6YmJgyMjLMzMwAAADiRdoGAAAAAXRSTlMAQObYZgAABc5JREFU\n",
       "aN7tW01oXFUUPpNk3rzMm7yZTVddZECyqC4SsN3YtBnSBqkWktrEdrA1Q4MgiGTQlNJVnn8Lf2DG\n",
       "1hHjDx3EhUFoH6Q1bUGYRa0I/gTcWERnIBbpQtrEJI0m0/HeOy8x7+ecu3hCF70H+tJ53zn3nHfP\n",
       "uee+B98FEGLOASFfN7Kl/TlCYXagVHmFsh8YHrAI+9jg0tRI9xyJD/flffc77lBhw06A9nuE116A\n",
       "6V7Cvg6Q+IdykGQhJzI03lbx3f5+jRrUXAfQ/kZho99mj7VK2N9ll7OUh3E2k0YRx2+n2GP58m1M\n",
       "r1KDxhiauIvCHbvZResh7HmmxiuEh84aCyKP45Ms5HjNezcRW6HCbmMhzTyCwufKfEaJuWrjJVhI\n",
       "ER6qACkgqr9qgxW3vXdfiK+TlTcEZpeNofqiSBjhNMmrdnyI8LAECSoZsAi6Hzdyovp+d3LuS8bt\n",
       "Y9/0sxk1nTXzmxuNbJQPbs/TP5nCFbR6qc9CHYiFFbV8sAY6W3C3zjR/xf2VZYGxC8ypdPNn2Y22\n",
       "OD2GsOdxjuZwhcg96ADUAcPrpUf98M2p0hL7cwJL0T7uugxaOhBtFV3IIOwH+eUvQoH13wiYmAOG\n",
       "r8El8MFsme6hwl7mYeexUVtEzz9P2PM5SawTCqz4DZjFw06m4aovbJ60hzbDnv0wqG2zHDtmxmlP\n",
       "DpsdO0XY8+KfyeAKom3DdswBw0UX8sBvNTuQM2rxxaC2bS5tmLVrnk1Y51FFbMKeFb/xK+FAtG1z\n",
       "CHPA8Nx/YW/AOv81aDmjGtY2X2Wxtj325IbZ5Yi3k12oQPwjIOxZFZ0oEgrQzf6N1VAHAvf4Nwbr\n",
       "NnzW2LFZegc9NtHq8tTwE5tm/ncD472R9wEo+9LwB4SCcZy9qvXXUQfGJ42shft3RkX3eccsiW0s\n",
       "MvuwDhD4U4DXbTDRl4t4GnRWK/MYLrMP6yAYfrP7CMyXIYa9P+pnlvPmYwATCC6zD+uAgsvQlqde\n",
       "DlizfJzCZfZhHQTDcevp12xq1M+jz++mRpXZh3UQDCfg0FFysirRbdTXldQ+rAMJrESJEiVKlChR\n",
       "ouQBkJk5Gjf2hMOlDmQKwQ5ahiSjdoXEpQ5kCl2qtpQoUaJEbTdqu1GiRInq26pvq76tRIkSJUqU\n",
       "PFDyJwVK2dvGRPaYjjNYE6NLI/tJfsBE40DpqTqN7wugBlfJh5Kwt+HlCsTPVnCck69/LFMeeMjX\n",
       "JPhB/3xUKYqHhL0NFznX+JyFK3CKazvBkwaNz+QVIoIFdrnuu32Vcipjb8NP/JnHiAE4xVWjKMsR\n",
       "nstZIgJO0z7vu12ZpEpXwt5uF+z9W8QAnOKqLxAKguKqE/gaQ7/w5ci+QFSmhL0NhTS/XiYG4BRX\n",
       "bZnykIHvqNJPpuEd/90vmwTrLU9Xc5Vmk72N4Z0BBzRc9oLiGlvAFWD8xmEPN9DN4B4vwlE/nIOC\n",
       "m6HvJlg32dso3l3zhe22FycToiu4Aqe4er4i3dPUeeNwjw82s1OjGSJFDnsbkz5RP0QrEicTklQn\n",
       "EScTagRuG/6vTA2glfpkdtjbmAjabLxGVi7r2xW6+G3qHMgiGP5pY3daeiDx8R+nYyeFdzfB2mFv\n",
       "o7honhHcXiwcYyehoDWZ1N/+cKp46lmx7boZ3JpYFx5YL4sOlBirtD4TE7lwE6wd9jaKF5qUcRQX\n",
       "bfurOUJBtO2bcL0XdtknRU91M7gjYl144Fd5+a3C2y9BMtfO3yw8BGuHvY3i/OzLtI3jvHK1HUAo\n",
       "8FMC2l59Ng0r8K7opm4GtzhF4IEvNn6B+OBiEY7APLQ0k7N1+99kbyM425UHsjkCP97IjhywCIVL\n",
       "3EP3HETzZg883FzFW1fCleoyZ38j8F6YgIIp/htIsA6LSxVaa7GMfkcUfxCDOxjW77DpuBZBCdZh\n",
       "cblCgU1oIpPCGNzBsDYEP8Mb21GCdVhcrvAcdFj6IRujaEtgGcE6LH5/GNxh8fvE4A6L/z8M7n8B\n",
       "feQ6RDomnkUAAAAASUVORK5CYII=\n",
       "\" style=\"display:inline;vertical-align:middle;\" /></a>"
      ],
      "text/plain": [
       "A_{1,j} & B_{1,j} & C_{1,j} & D_{1,j} & E_{1,j} & F_{1,j}  \\\\ \n",
       " \\vdots & \\vdots & \\vdots & \\vdots & \\vdots & \\vdots \\\\ \n",
       "  A_{m,j} & B_{m,j} & C_{m,j} & D_{m,j} & E_{m,j} & F_{m,j}"
      ]
     },
     "execution_count": 25,
     "metadata": {},
     "output_type": "execute_result"
    }
   ],
   "source": [
    "ExprArray(ExprRange(i, ExprTuple(Aij, Bij, Cij, Dij, Eij, Fij),one,m))\\\n",
    "    .withStyles(orientation='horizontal')\\\n",
    "    .withStyles(parameterization=\"implicit\")"
   ]
  },
  {
   "cell_type": "code",
   "execution_count": 26,
   "metadata": {},
   "outputs": [
    {
     "data": {
      "text/html": [
       "<a class=\"ProveItLink\" href=\"__pv_it/c18715a08fcde2bd17af6682cf892ce3813ea6b50/expr.ipynb\"><img src=\"data:image/png;base64,iVBORw0KGgoAAAANSUhEUgAAAJgAAACRBAMAAADN42zaAAAAMFBMVEX///92dnYiIiIQEBBERERU\n",
       "VFS6urqIiIjc3NxmZmaqqqru7u6YmJgyMjLMzMwAAADiRdoGAAAAAXRSTlMAQObYZgAABSVJREFU\n",
       "aN7tmk9oHFUcx3/bZHcmmd3ZvfTUQxakB+thi7QX/7RLYxStkC1GbWi1S4MgSNlQU0pPWVAP/oFd\n",
       "WxaMCF3Eg0WQgQixJ/egFcE/gV70oFmsIj0ltdnE/tnG35t5s528eS/O77FFkfnB7g4v+/ntvMl7\n",
       "7/u+Px4AC3sRNEJBZVZ0kimo727pJJNT1oW/NHIpqLSxppFMQb0yfFsjmZyyyvY6fvzGH2s7Yi89\n",
       "KhC/sLcUmDcArp71moY3fcFhmH+xKTwqGE329vtcYxU/jst+votvXyzyi03BKTHKAI8qksFOfG0r\n",
       "8QsZJQTr1329ZAvvR3tknPrm+9P10y+6nTjDuvkWvpZ6yeonoiXj1KVHYK9zijUMpfBpmHm8Gq/y\n",
       "ZFZ1e6RcnDIX8rAG77KWzxMlsMa7Dny0cX/vmT0daVz4VHLa3g273LbBVuALPBltZg20jaK54g7N\n",
       "bDXQ/iHA6w7gD1GihveWLubMgwBXAs1vFp6HK00wiqRkL0Gmah5y7IcAZsS/NWFwWmc1YiPlCbGp\n",
       "+txrjlayj5MvPyyuKnDosFYuaCW3VyGOfz++2phsPFYmy8mxztzE4+H2Pbh+3CHfwwBOlfMhvbBR\n",
       "ZFI3yMmWcZGo1MVWA9eJ9Do52SwO0h9Cc28Q14n5B8jJRnFVezA097IlsHfSZ2QH4Ncj4c4f/foA\n",
       "aoFdDEhphP1U59uZXWERxs5be8Geywek9J9FmD3p+VJIhEdZwiak8iQRZk/auCnrPMxOy5OpRRif\n",
       "NBjrsmEGx8o8mSelEYdZck0UYdZ5G3cNXjJXSqMOs+WiKMIZ7PzUQT8Zk9JIcRmJPY4gwsklnLBP\n",
       "gZ9ss5Sq4wW2OmC/FCLMk2VpS7lChIfzIEqptgibZzvTUinVFmGJlOqLsERK9UVYX0pjEf6vhDUz\n",
       "edTM9Yl6tQXD51rUZHLqMyZz56mjREFdZloxRb0xOTXkqsJVYi4FVfNWWGIyBTXC9ws0ER4J7/CZ\n",
       "hS542yKiCBfaUtO43/G+SxNhnxKi4GZtE0XYp4Rwx0oCiCLMqfQHf5wxTrV7FrrGHuUOqghzKj3V\n",
       "GjhilHoWmpU6LjhUEebU2ychWx7K3bXQF8cmy2QR9im0lbCtGbLQeiK8DxWuZocstJYImyt4b18m\n",
       "RAutJ8KpEvwIb+yQWmh9EZZYaG0RlllobSnVt9Bx9NsJj02MVftF4SKavkm+BznlVkjPUXMpKIP5\n",
       "8wp1e6CgBlnxvEbduCioLJvulRIxmYJaZtN9NkcsR/uU6ITbrkcklqM5JTrhcXZxnVqO9ikhWIU6\n",
       "fZtajvYpyYCZLxLL0T4lOmEcMNbPQCxH+5TohHHAHK8DsRzNqbATbky8B0ArR/eouBwdl6PjuGdh\n",
       "jK/OPVtY7BOVxaZ0kXoPCqqCg96qU5MpqBGc9BZ5FimoJYAckMevglqFdIv+f5NTqW5jf5VcjuaU\n",
       "4IQhcQcyZCfMKdEJM21IgE0tR3NKsgWxYIFcjvYo2YBBH0osR3uU6ITdAWOXqOVojxKdsOvdp9rU\n",
       "crRHCU7YYoXlA12iE+5RsROOnXAc9y5mNp5sjK73i+pG3WRHoOxr+HaJbIXllHsm6lPyFkVOZW6B\n",
       "CZ9QkymobB7eof/bFFSlDofJ57I4JRhh1IafntmtOJe1xcEslxKNMG5BHKuk8K5bHMzyqFD8CVZT\n",
       "kWyLg1keFVp6rwVMXdRzWZwSz2VBYi2QLOq5LE4JRhh7sXI3WVQjzCnBCANcXOqQjXCPio3w/9cI\n",
       "/w2To0XnzsMXGwAAAABJRU5ErkJggg==\n",
       "\" style=\"display:inline;vertical-align:middle;\" /></a>"
      ],
      "text/plain": [
       "A_{1,j} & \\cdots & A_{m,j}  \\\\ \n",
       "  B_{1,j} & \\cdots & B_{m,j}  \\\\ \n",
       "  C_{1,j} & \\cdots & C_{m,j}  \\\\ \n",
       "  D_{1,j} & \\cdots & D_{m,j}  \\\\ \n",
       "  E_{1,j} & \\cdots & E_{m,j}  \\\\ \n",
       "  F_{1,j} & \\cdots & F_{m,j}  \\\\ \n",
       " "
      ]
     },
     "execution_count": 26,
     "metadata": {},
     "output_type": "execute_result"
    }
   ],
   "source": [
    "ExprArray(ExprRange(i, ExprTuple(Aij, Bij, Cij, Dij, Eij, Fij),one,m))\\\n",
    "    .withStyles(orientation='vertical')\\\n",
    "    .withStyles(parameterization='implicit')"
   ]
  },
  {
   "cell_type": "code",
   "execution_count": 27,
   "metadata": {},
   "outputs": [
    {
     "data": {
      "text/html": [
       "<a class=\"ProveItLink\" href=\"__pv_it/045029383e0ef5c1b291302ed1aafcc9707a3bc00/expr.ipynb\"><img src=\"data:image/png;base64,iVBORw0KGgoAAAANSUhEUgAAAaMAAAB4BAMAAACtNYCfAAAAMFBMVEX///92dnYiIiIQEBBERERU\n",
       "VFS6urqIiIjc3NxmZmaqqqru7u6YmJgyMjLMzMwAAADiRdoGAAAAAXRSTlMAQObYZgAABwdJREFU\n",
       "eNrtnF1oHFUUx08+9iO7m0leCoo+BCSC9cFFWirayqJioRWyATGWqgkpRbGIiyaUvJjFjwf1IWuh\n",
       "DxGhSxGpD+JC1EofzD5oRVEb8KWgNEsTqT6UBGnSalrjzNw7u3Nn7r3n7GYZtL1/Fkp3fzln7uyd\n",
       "3Un74wC4sRaAEhp2Wf/yN5sHjj82hhXJjK7NPvn4FqjeVdKSaNgi8voOgJ5/0CpdOYATtdapHzdI\n",
       "SyJhmcWK/q2+DhD/Cy2zUgV4udQylf74GmVFNOzMiaL29YRdJHMVLTNtVzlXaJnKJNYpS6Jh1Wn9\n",
       "hdKdBZi7Fy3zqH0K76+0TB1JXacsiYTFK59WtUBfHqxB9FhhDeDiwZap9JjlbIRlttVzyn3nx6BX\n",
       "cel+ASsFXRVYeebbR8p1Yll1xa39MLEd7SZSrzZ2YByS9uX6xzEXmh1Qnn8fBpBSUGMwU9JVcbZ/\n",
       "eqdHeNWkV9xcHusmUp2NHf/b7PEr9h/j7MCVByNgys+zA7OjOV0VZ/vDdNkjxjVXXOJvrJtIzVd8\n",
       "Jxb2EJYkYOq3EroWtEtac5ZUwJZkX3GQuIp1E6kG67ypd+FLErHT78sp+yrpzHpVvvvpaEn2tQSj\n",
       "Y9iSnC+c2DrWTaRutyb58+/wb3xkSSJWekkKJcvsHoNVObsbHpBtf+sKYEtyvnBWcki3APXrR3zr\n",
       "JZ3aQ0X1kuYXnIeIpYvbIH3DeYh53dng13iV5OkBCN1v9Nrv4aH96iWxbvCzTeyoIN1ECtb4x2J6\n",
       "6EYFPty8R72kzrz9CGLwBMCg+/Dns81fIDX0Z4lXiRXi2UCx2KJ9o7kP1Etyu8Gzzr1tGfTdApS1\n",
       "a1+wGPbxIGCgvzdiVbpqPf01LYFc/sRujErklpKB508CvFmBFLYkhllZLWRXSe6HGeh8saYlnGpb\n",
       "78ao7sLFhPj02/eNwFI5eWxNf6/IMPuU6CCnivUgHIbEnXrCqbblbpzqLcZek38GU1KGbvQmWXl/\n",
       "0QxB76Y69FSR1CNVfOoN/MbzVBsIejfVoWdopy0Dw08TfstoA0HvRjx0ExMTExMTExN17N+7KBls\n",
       "U7HBCLrNkf6jJb2H1AQtRqvTrm4mJiYmN/0n3k34vWRiYmJiYmJicovncjsxPUXzIYlypYZapC1p\n",
       "sR0UzYckypVKCjMdm8IwiuZD0uRKNYWZjk1hGEXzIWlypZrCTMemMIyi+ZA0uVJJoaZjMxhK0XxI\n",
       "mlyppJjpmHD397L65/0YXCBRsu3PTccp9y855RXH5Eqkm59K7PK94JqOYDmXgFJjFDGNISFQiu0/\n",
       "Z/9q/TtoHU0mV2LdBOpu33ljpiOLWuoRsNYpz3Rku3RAc8U5ciUSP5X2WWXcdMSWJGCtU57piCyJ\n",
       "y5VI/JS/Vtk1HeOTyJL8WHqqTKBk1qRnOj6f1y6Jy5VIN4HqKF3y/qmIm44dfRXtkgSsJ75AoGTW\n",
       "pGc69m9ol8TlSqSbQPV+f8Tbetx0fPek4l3ivqKAfdmRl2qMAiW1JrnpmDwzIF8SL8vlyno3z6YU\n",
       "I1B9z3lP103HvaqN5/qKAay7KtMYA5TEmqybjkzekrxLbtm6XFnvxmxKMSK1NBHcnumNmv5aErC+\n",
       "IoHSWZPzX+k/HprvNmFlA1hqoZ+iMXJsiULprMlPOiiOZjPd9loDgU/I9HCRoDFyDCYolMaahM9v\n",
       "oziazXQ7DyOS80fUGFPeHscoJOUIutE0RjgVe+EhAoUeRTGCblXakqqxbYSjQYtlIu1mYmJiYmJi\n",
       "YoLFWJP6GGvSxMTkPx1jTf4fvpdMTExMTExMTG7p0GRI2qRJhKLJkFE5k7RJkxhFkyEjciZpAykR\n",
       "ijhpMhpnkjZpEqOIkyajcSZpkyYxijhpMhpnkjaQEqOIkybb4kz6dmhOuqPYpElfLpCoQLjmiHUL\n",
       "YdJpkyHKmzbJNMdGD7nJyCZN+lMmUYFwzRHrFsTkXkOI4tMmQ5qj3OvhkyaRoFRIhpR3a96ZdMNH\n",
       "/oU0R3mTMTZpEglKhWRIebfmnUk34/X905mFzAeXphKTNWUTPmnS8SCPut6b1GQMUUFvkmuOWLcw\n",
       "Jps2GabYtEmuOWYOVbsOJtRyJp80eXY37Ky42qXUZAxRQW+Sa45YtzAmmzYZpti0SU9zfAX6xnr6\n",
       "w02ESZOOB7kO7znPy0zGEBXyJj3NUdUt4EzWMem0yXAxd9pkXXMcgSXoLIebiJMmYwUrC9vZ91zI\n",
       "ZJRQAW+yrjmqugWcyQYmmTYZpgLTJh+GCZix1BcsS1ctkUuuuvtWYzI2KJU3Sevmw3TTJuuUOG0y\n",
       "uWov9mvUZJyxz3smh5mMDUrhTRK7+TDNtMkGJU6bjOfhPLx1B2YyHobeYnK4gpiMDUrhTRK7NTDd\n",
       "tMkGtaVpk9F6k5FMm4zWm4xk2mS03mRT0yb/BfmmbZzS1Os6AAAAAElFTkSuQmCC\n",
       "\" style=\"display:inline;vertical-align:middle;\" /></a>"
      ],
      "text/plain": [
       "A_{1,1} & ..A_{1,j}.. & A_{1,n} & B_{1,1} & ..B_{1,j}.. & B_{1,k}  \\\\ \n",
       " \\colon & \\colon & \\colon & \\colon &\\colon & \\colon \\\\ \n",
       "  A_{i,1} & ..A_{i,j}.. & A_{i,n} & B_{i,1} & ..B_{i,j}.. & B_{i,k}  \\\\ \n",
       " \\colon & \\colon & \\colon & \\colon &\\colon & \\colon \\\\ \n",
       "  A_{m,1} & ..A_{m,j}.. & A_{m,n} & B_{m,1} & ..B_{m,j}.. & B_{m,k}"
      ]
     },
     "execution_count": 27,
     "metadata": {},
     "output_type": "execute_result"
    }
   ],
   "source": [
    "ExprArray(ExprRange(i, ExprTuple(ExprRange(j, Aij, one, n), \n",
    "                                 ExprRange(j, Bij, one, k)),one,m))\\\n",
    "    .withStyles(parameterization=\"explicit\")"
   ]
  },
  {
   "cell_type": "code",
   "execution_count": 28,
   "metadata": {},
   "outputs": [
    {
     "data": {
      "text/html": [
       "<a class=\"ProveItLink\" href=\"__pv_it/cdd18c2b854881e6991d89f681cdebb03e424b360/expr.ipynb\"><img src=\"data:image/png;base64,iVBORw0KGgoAAAANSUhEUgAAAJsAAACtBAMAAABVbBAPAAAAMFBMVEX///92dnYiIiIQEBBERERU\n",
       "VFS6urqIiIjc3NxmZmaqqqru7u6YmJgyMjLMzMwAAADiRdoGAAAAAXRSTlMAQObYZgAABFpJREFU\n",
       "aN7tm09IFFEcx3+6rjPun9Fr1EEIg+rQEooRFUtGgR7cIBCxdFG85KGlFOmSS9ShOrgJHoTAJSLq\n",
       "1IBR0MU99IeiP0IXocBFC+kgSrhqmdl7vje7M8577rxHdaj3hd0d3873uzPP38xbPz8EwDImQEZz\n",
       "nPHwglTcFGf8zapMWmjKZI4H76/IxD0ZTbI/RluSicsMxJnjPYEfEmnl5oMM81zjxjJ6+UR+yVGv\n",
       "cY9gPmH/2XKWg/4N4MvQxthItfOj8JNpbTgUh8GUPc1yfh4ZXkQvnSTbGTeOKjK4RjccMlpHOhxn\n",
       "YjnRhB7mxZXG0FONteFwA/gmGHEB9NjJi+MrjT4iAqFbsxe1vqzNeZ3Wt1icnt64mEJdGV+bFis4\n",
       "dfzcnBSNu4weZStw4zxUxiuq8s5g85oJd9Z3C8Y9XP8AgeavKWiBGShNM5yCc0d1BHph0GA4bwNc\n",
       "MSEgFqcvoON7WuJ2XtuHjjutD+USQldaDCbh6naOMw2yYjkDSdk0pjMkfXDyTiUlJaWiGpv4rT7X\n",
       "Mu9Rsj4lJVXGSqrulJSU/rLmpFxc6jclFcejfjwQV0Q86scDcVuLS/14IK7IX8Qc6scDcUXEo34E\n",
       "xHkHd/RcCfVzawPEbQZ3lgk/MfkdoX6M8iEgjo13+PyOUj/31BEQx47j87s4oX4upTdAHI17+bY/\n",
       "5WnqKPXD+/e325wUxNG454fggKc4Sv3Q/nVmn81JQRyJ0x9XgyfCTakf3n8JbhaceRBHjs6fKI94\n",
       "qRKL+vkTRgT2MJwkzpetqMoKVJ8vq0X1hazbGagGvQkGofSsSNwgOqpQtMrlxPjNOAjdoO0QuTa6\n",
       "IZzUT5psZ0D6Bsx03pOOYzoz0nHyTqU/plBHbuTUcWHbs/XW4WOsJcuH7sWjWeG8WoCKn4zxeVQ0\n",
       "51KiaQZax8pZq8UAWrTfJUTjNHSPDLHWsgZ0/9ov/LWiDN3dxvYy3sgBTLcJT11lDIwaxkEYude9\n",
       "+H4q2HabP/3iaNqRE81PwlhMuO2GZjxYZ0+jTjwJ2nfhtlsDjky7Vgc8CaAtC7fdcjgu4Y7DZedf\n",
       "Em0d4bKDjri77YbLbj4qGodn3Fh0t93gPdqqNUXjwmjGu5pcbTc4gy9lPKVCcf4pdN9oRBuq7Wb7\n",
       "ricpllO13ZSUlP4HKW6spOpOSUmVsZLSvywuOZO08chZEXFsXHJWnHywbFxyVpx8sGxccra1eDYe\n",
       "OSsins1FzryJZ6PkjOA3rd75pnfgBhcIqCDkzMJvu5wmAeBWSoqQkjMCaYKrjJXAG3AbN636gY44\n",
       "jfPMjCxbQZ35+jEWraCS1GzMc9lh4Fbgd9sM3C+j5IzGhV/1ePtPEGqz8buPd9Hp5skZiats93au\n",
       "ls3G73JZ+w4kbqZXsATz/M6ob3TH9RqRpFBcnt9p0RndNk7abieMaiHgVuB3ZYlpzTZO2m6T0JIV\n",
       "iSvwu3DSf2nTm/JtNya/k2+7MfldRjqO8rtfCVGYIyharRIAAAAASUVORK5CYII=\n",
       "\" style=\"display:inline;vertical-align:middle;\" /></a>"
      ],
      "text/plain": [
       "A_{1,1} & \\cdots & A_{m,1}  \\\\ \n",
       "  \\vdots & & \\vdots  \\\\ \n",
       "  A_{1,n} & \\cdots & A_{m,n}  \\\\ \n",
       "  B_{1,1} & \\cdots  & B_{m,1}  \\\\ \n",
       "  \\vdots & & \\vdots  \\\\ \n",
       "  B_{1,k} & \\cdots  & B_{m,k}  \\\\ \n",
       " "
      ]
     },
     "execution_count": 28,
     "metadata": {},
     "output_type": "execute_result"
    }
   ],
   "source": [
    "ExprArray(ExprRange(i, ExprTuple(ExprRange(j, Aij, one, n), \n",
    "                                 ExprRange(j, Bij, one, k)),one,m))\\\n",
    "    .withStyles(orientation='vertical')\\\n",
    "    .withStyles(parameterization='implicit')"
   ]
  },
  {
   "cell_type": "code",
   "execution_count": 29,
   "metadata": {},
   "outputs": [
    {
     "data": {
      "text/html": [
       "<a class=\"ProveItLink\" href=\"__pv_it/50519750f30ea1ca4b70d527b95dde9e4385faa50/expr.ipynb\"><img src=\"data:image/png;base64,iVBORw0KGgoAAAANSUhEUgAAAL0AAAB4BAMAAABV3O4EAAAAMFBMVEX///92dnYiIiIQEBBERERU\n",
       "VFS6urqIiIjc3NxmZmaqqqru7u6YmJgyMjLMzMwAAADiRdoGAAAAAXRSTlMAQObYZgAABDJJREFU\n",
       "aN7tmk9IFFEcx3+uujvuruNehKAOQhjUJS9BWIo3DwWulyyCEkWKItgiEU8t/TlUB1ehgxE0RAc7\n",
       "VAtWhofcQwQdij0GQS5YVAdJIs0wsXnz3uzOOO/Pz92EsPdl3JHd7/vum5n33sx++AEQmXlQa758\n",
       "S/0CIn+2fMubFXXb+Gy2XEvswbI6f/puulxLPLKkzs9d6i3Xcjb6Wxkfzj7OlWmJ9Zo/7d1HOpQ6\n",
       "+I2fwbcUQCQDRafAUpIbFQbjF8DXMee98SZ+414YsbNNcoKpU2QpxbtRn8Zv/bB3ffTL+PnmsfGT\n",
       "xSPrU1u8UfZFaVPlhwGq8/J8n8UTFbX/dqryLYBQC4QHJfnUEr/zeTgyWPBE3WATT5ZvWM4kr2rI\n",
       "CvOZJd6fqz4eSZaiDPLalRbkx1bJBpftf2uW4eY9t/8zebJ55VouQENvXaIYFetazcL9td2i/jeT\n",
       "7cnae4h2fc9Ap5sfSpLNo6KlB+YgZHGipOefHc1KQXz+mdrhIoyYnCj72K9mISrLj+YTxiHHKZSx\n",
       "YB/By6pg1PW99pFZxthiStL/7rTZ6jjFi0QS3sG17YIoS73ORQEnXlQ0rW43gYvnRsURDXO4/Dho\n",
       "aWltFfnvFnw1VxA0qX5Ej7Vh8ifz+mL9h9rs8bPZ419LS0uLr/m/4xFaEGyqEn6FYFOV8CsMm6qE\n",
       "X2HYVCX8CsGmKuFXDDy5uOmDxEP5ldTiUX2B7h3wVMRN/N/AHn4ltwR/KjPwJCUPATi1AQsDT9L8\n",
       "AJzagMVywBPLjw1bYg/lV1KLh19N3abEw6IAmubXhXl98PErqcXDrzLnnA8YeGL5z6t8zy88fkUs\n",
       "CH4VSzeS94vgiZ3/mtz6Z6oAv7ItGH4Fh/3Xh+Y3SJYBxq9kFg+/Aj81jzYBgVNzMuhC+ZXM4uFX\n",
       "Zovvg7HFlNkK9rdL+u/wK6mlxK8gEpwN9ozrVKwyCAsbrjVB0jZRe/qAoh3C4nQjfeRK8G6Qq21U\n",
       "rfIIi3Ovge6j+rlDS2trSPMrrX9Zml9paWltSWHwFaJGS2jB4CtEjZbIgsFXmBotkQWDrxA1WkIL\n",
       "Bl8harREFgy+wtRoiSx+fCU4dlqjNay2BOXHVyK4Q2q04IvaEhy1CHzl1miVY8HgK7dGqxyL5cVX\n",
       "r98OZfhQgNRonSLPBoRQiS0kYOiEJ8qPr14dhP2cxqxGK0EmECFUaaHFDtiXHfRE+fCVMdUEvklI\n",
       "ORWr0TKmyZ4QqizjWh78wix2wBKMlqLW4avaVLhl3dNSKFms0aJEpAf6GdfyDE7XUpsyW2APJ4rm\n",
       "VxfqEgXhJZx5QV7bYdQUWqoLkQ5joRCMovhqBEJnxPkPCZcyFmDXI6FlxO53vCMRiGL4agAiO8RD\n",
       "8Ok2mLPCSTgvXk8GoD5tdGf5UZjaKgt3y+JGIWqrMCVawij1Moquq2JRfwCsep+rikkwpAAAAABJ\n",
       "RU5ErkJggg==\n",
       "\" style=\"display:inline;vertical-align:middle;\" /></a>"
      ],
      "text/plain": [
       "A_{1,1} & ..A_{i,1}.. & A_{m,1}  \\\\ \n",
       "  \\colon & \\colon & \\colon  \\\\ \n",
       "  A_{1,j} & ..A_{i,j}.. & A_{m,j}  \\\\ \n",
       "  \\colon & \\colon & \\colon  \\\\ \n",
       "  A_{1,n} & ..A_{i,n}.. & A_{m,n}  \\\\ \n",
       " "
      ]
     },
     "execution_count": 29,
     "metadata": {},
     "output_type": "execute_result"
    }
   ],
   "source": [
    "ExprArray(ExprRange(i, ExprTuple(ExprRange(j, Aij, one, n)), one, m))\\\n",
    "    .withStyles(orientation='vertical')\\\n",
    "    .withStyles(parameterization='explicit')"
   ]
  },
  {
   "cell_type": "code",
   "execution_count": 30,
   "metadata": {},
   "outputs": [
    {
     "data": {
      "text/html": [
       "<a class=\"ProveItLink\" href=\"__pv_it/2bfec8fc1f315dc00bfb9ccef77edaae88665e7c0/expr.ipynb\"><img src=\"data:image/png;base64,iVBORw0KGgoAAAANSUhEUgAAAHEAAAHVBAMAAAA0qgmvAAAAMFBMVEX///92dnYiIiIQEBBERERU\n",
       "VFS6urqIiIjc3NxmZmaqqqru7u6YmJgyMjLMzMwAAADiRdoGAAAAAXRSTlMAQObYZgAABtVJREFU\n",
       "eNrtnEtoXFUYx7885pGZ5CabgqCLgVLBujBIC6JtGaxYsIVMQIylakJDURQxloTSVQcfC+0iaaGL\n",
       "iNChuIgLdSBqpAudhVYEHwE3QsEMpmJcSII0j5pqvPee79xz7z3fOUf7MFq//yqZc/5z556bufmd\n",
       "7/7PARD6BWzqHFyefPRhum3O6oS2MsDZJvmmc3Wrc7EB8MIE1XL+bNXqPOE3fzNCtTRODFmdewGK\n",
       "91IfK1t/r2F1LgP8cIhq+BAW/Y/ilcNfLunt3vKXo9ujJuwXagjGJ8CbLAU//3xad+bWAKYr2IT9\n",
       "xJscnBz03ycrXjmsO9t7ffdvsimrnFn/gs3anN0V37lKOGsArb02Z3A5Myu6M+87u5ZszuByLpZ1\n",
       "50vBmazZnN/6jTvqmvP9jYtQ6Pt1wux8cuPgmYdqQJynHCjjMaVMzkIJ8vsBzpmdftMr9aBfUvnT\n",
       "yyPe/fDaPQMmY9A0Xwv6EY0FcKlmeH3KZSyYvo4Nl7MTWKwbr22uDq0V+vXibpdzepaH99p0HWN7\n",
       "zdeTxdosMVP/I0wN3zuYGrqaJFNTxJNg6jg0JZkaXEwdP80EU4OLqZNAppi6eLzmYOqZN2im7sjO\n",
       "Oph64nmaqT9qqdiZuljdYmDq9oaDqeGAgam7qw6mhjUDU8+7mNrrpZkaRsHO1JArA83U+1xM3U5+\n",
       "aaYyzzzgYOrHXia/y43MlqqDqfsf55svi5mamZqZmnUrybPfKD4LEIOm0QCHbNrhc9IfZMtX6/aP\n",
       "dNUnlyvkd/PtNaszYM3OVfJfeG7F6gxYc/puquW5wlWr02dNbxvFFcUhbxXIArVkzSc+f7CWLFBL\n",
       "vs1foQvUijWLOxMFatSPk2cug62Iujdw1wh09q/xbqtzOXCO6M4A6LdKZ+ebPx2nLicMDqHzi6+P\n",
       "ydnS6zgvE87hRluVuJzeZYmxF3bBfciYwe99VXSePArd6fHv8i/n8H505mdKIP7iin2/1+Gtjbvk\n",
       "eQ7AcMqYmfPnkI9E6JwZyfaSxLwHTnmGgRLOtmZHT5Mg5vwS3PmuiVBD6B6H1mebBDFnK/CiYXaH\n",
       "0H0EcneQxOxQwUjMLueUkZhdavCtl8VMzUzNTM1i8Z2a79R8p2axuPxxS5U/wnKAXuJQ5Y9cWA64\n",
       "pJU/YAGAKnFE5Q/wgulpokqC5Y/YNJwuf8Rn8onyh9mJ5Q/NieWPpysmJ5Y/smNpJ5Y/etZNTix/\n",
       "tIjqhnJi+SN/vmRyYvnj5LnkMaPyh3iCRjij8sc+bYSEPvnYOEJ4jPUm7XynhczgxUZytoeO8X1w\n",
       "mzmDJ47ZXzXH+Lj6wWKmZqZmpmaxbhgZW8J2LjI2h+0cZGwO27nI2By2c5GxOWznImNj2A7J2DL0\n",
       "GLbThGQsHrF1NWlknK4QPZCMF4zEI8N2Wo84GZtmAGHYjuKqrc7LmSGGH8lYMLXK4KUu52JZ6yEf\n",
       "DAqmVhm8mDBsl+ohyVgwtcrgxYRhO2MPTKUdsEyyDD0EU4PlL9jUQzC1lsH7Cz1CpjZk8Nw9TBk8\n",
       "Zw9jBs/Zw53B45Qei8mYyZjJmPUvFa9fsSP19a5fyU24kFpLp4n1K6KWTEoi9YL2lmL9ioX3EKkJ\n",
       "jA/Xr/x9pMb1K6KWHEvSaUgdgnE8jIfrV0QtWSXpdKQOwTgexsP1K2EtWSXpdKQWYBwL40XrV8Ja\n",
       "MpGki9avCFTUw3iilkwk6VJgrIfxRC1ZT9KlwJgI44lasiFJp8DYEMbjJeEsZmpmamZqFovFd2oW\n",
       "36lZLE7aqaLAzUnaKaWXHGLSLnbiZVmIyCdOX1tyiEk7ZZR5vHjSLtRhvcajknbhsUqy3pJ6nnhY\n",
       "r/GopF3Mic8Tg7LHsacoJybtgrJHbqwZc+LzxAu7YGd9jHJi0i4oexzKxZJ8Mmk3U4IVOEU5ZdLu\n",
       "KHQPdfREzihplxnxemE74YySdgMwD621+AgJtTVz5fxSkxoh1B4YhXFPd477R+0s95j3xMsv+Uf9\n",
       "lMjjHYGuar6/bg7TZSvwHbx6O++Jx2KmZqZmpmaxmKn/B0yd3hNPY2qZtksztUY8aaaOoEljanAx\n",
       "tdSQK6OnMXXsyAmmTu+JpzM1pu00pk7viacztUjb6Uyd3hNPY2qRtqOYOrknHsHUybRdjKkNe+Ip\n",
       "pk6m7WJMPe9i6mTaTjG1YU88xdS8Jx6LmZqZmpmaxdokcUZPsubNyehZpg6mZS+Y0bNPHaapO8nm\n",
       "ZfQUMWt74mFGT0E3Jvkwo6eIWdsTDzN6CroxySczehExa3viYUYvgm5M8kUZPUXMqRiezOgp6E4l\n",
       "+RQxG/bEU9CdTPIpYjbtiaegO5nkU8Rs2hNPQfd/cE+8PwFkrVxIFAnv4AAAAABJRU5ErkJggg==\n",
       "\" style=\"display:inline;vertical-align:middle;\" /></a>"
      ],
      "text/plain": [
       "A_{1,1} & B_{1,1} \\\\ \n",
       " \\colon & \\colon\\\\ \n",
       " A_{1,j} & B_{1,j} \\\\ \n",
       " \\colon & \\colon\\\\ \n",
       " A_{1,n} & B_{1,n} \\\\ \n",
       " \\colon & \\colon\\\\ \n",
       " \\colon & \\colon\\\\ \n",
       " A_{i,1} & B_{i,1} \\\\ \n",
       " \\colon & \\colon\\\\ \n",
       " A_{i,j} & B_{i,j} \\\\ \n",
       " \\colon & \\colon\\\\ \n",
       " A_{i,n} & B_{i,n} \\\\ \n",
       " \\colon & \\colon\\\\ \n",
       " \\colon & \\colon\\\\ \n",
       " A_{m,1} & B_{m,1} \\\\ \n",
       " \\colon & \\colon\\\\ \n",
       " A_{m,j} & B_{m,j} \\\\ \n",
       " \\colon & \\colon\\\\ \n",
       " A_{m,n} & B_{m,n}"
      ]
     },
     "execution_count": 30,
     "metadata": {},
     "output_type": "execute_result"
    }
   ],
   "source": [
    "ExprArray(ExprRange(i, ExprRange(j, ExprTuple(Aij, Bij), \n",
    "                                 one, n), \n",
    "                    one, m))\\\n",
    "    .withStyles(orientation='horizontal')\\\n",
    "    .withStyles(parameterization='explicit')"
   ]
  },
  {
   "cell_type": "code",
   "execution_count": 31,
   "metadata": {},
   "outputs": [
    {
     "data": {
      "text/html": [
       "<strong id=\"Apj\">Apj:</strong> <a class=\"ProveItLink\" href=\"__pv_it/ea3375c3d11f3fb972b4e6b6b1eeaf04df2a3f090/expr.ipynb\"><img src=\"data:image/png;base64,iVBORw0KGgoAAAANSUhEUgAAACUAAAAUBAMAAAD4luk4AAAAMFBMVEX///92dnYiIiIQEBBERERU\n",
       "VFS6urqIiIjc3NxmZmaqqqru7u6YmJgyMjLMzMwAAADiRdoGAAAAAXRSTlMAQObYZgAAAMRJREFU\n",
       "GNNjYACBtwyY4D6mEM/9DRhiu+Y3YIgdqE9AF2LbsP4Autg2hvcFCB7vAxCZwNA/ASHGBSL4ImfG\n",
       "O6Abx8DAfAFNbAEDA5MBA8+c43Eg3vZZQIIDKMb7gYEn/8EjkNiEXCDRBMQsPxi6Sxn6gSzuBlEG\n",
       "hi3/bzNw+X+awBDOsBhslA+SsXYMkWD6B0KI4wefNkPLBgY+AySnXq/cwPB4AQM7klM5BSDuYkHy\n",
       "JtMCkOKGsGakoJwfDQpchsAIBgYAAgsv0hFXxLQAAAAASUVORK5CYII=\n",
       "\" style=\"display:inline;vertical-align:middle;\" /></a><br>"
      ],
      "text/plain": [
       "Apj: A_{p,j}"
      ]
     },
     "execution_count": 31,
     "metadata": {},
     "output_type": "execute_result"
    }
   ],
   "source": [
    "Apj = indexed_var(A,(p,j))"
   ]
  },
  {
   "cell_type": "code",
   "execution_count": 32,
   "metadata": {},
   "outputs": [
    {
     "data": {
      "text/html": [
       "<strong id=\"Bpj\">Bpj:</strong> <a class=\"ProveItLink\" href=\"__pv_it/47abf2e30365ae702f36cc6b8571cb12bcdaf6680/expr.ipynb\"><img src=\"data:image/png;base64,iVBORw0KGgoAAAANSUhEUgAAACUAAAAUBAMAAAD4luk4AAAAMFBMVEX///92dnYyMjKqqqoiIiLu\n",
       "7u7c3NyIiIjMzMwQEBC6urpERERmZmZUVFSYmJgAAADEjrHzAAAAAXRSTlMAQObYZgAAANZJREFU\n",
       "GNNjYGB4+//O2d0LGFDBbAYGnh+oQhz/GBi4/qCKsX9jYOD7jirGPYGBIdIVVYz/AgOHbwCqWP+9\n",
       "51sMEFymBiBRn8DAOhchxgwidoLEDVD1/gWJFWA4j+H+Ar5zz2+AuOGHoc7j+M3At76hBSR2YBHI\n",
       "HqDzVm5lSK1lyAfyWBNkGRh49f+eub0ZyLvOYAk2ax+SuTMY7oDpbwghtm8crgzZAQwcE5Ccql4T\n",
       "wNBpwMC+ASHGIwAiDRi4kVzKAvIJc8KtTKTQOH8VSPAxXLzGwAAADIg4JPyq6C8AAAAASUVORK5C\n",
       "YII=\n",
       "\" style=\"display:inline;vertical-align:middle;\" /></a><br>"
      ],
      "text/plain": [
       "Bpj: B_{p,j}"
      ]
     },
     "execution_count": 32,
     "metadata": {},
     "output_type": "execute_result"
    }
   ],
   "source": [
    "Bpj = indexed_var(B,(p,j))"
   ]
  },
  {
   "cell_type": "code",
   "execution_count": 33,
   "metadata": {},
   "outputs": [
    {
     "data": {
      "text/html": [
       "<strong id=\"Cjk\">Cjk:</strong> <a class=\"ProveItLink\" href=\"__pv_it/d03b5f196cc7930b80fba07155722cc1d3eedeff0/expr.ipynb\"><img src=\"data:image/png;base64,iVBORw0KGgoAAAANSUhEUgAAACMAAAAUBAMAAAD1iJl/AAAAMFBMVEX////MzMy6uroyMjIiIiKq\n",
       "qqoQEBB2dnbc3NyYmJhmZmZUVFRERESIiIju7u4AAACOKgoaAAAAAXRSTlMAQObYZgAAAMtJREFU\n",
       "GNNjYGDgu7NrJ0cBAzK4NoGBddkEZJE3fkBifQOykNkDIKGGLML1FURKIQv1O4DIF8hC9RegDGYB\n",
       "kFUgnr8AVIgVRLAoAIl8kOkMD6Di70EMf7AKmFIVBpiL2BkY3i4F8aoYbwNtBBlYx8CwQBkkZBkE\n",
       "1Mr6k4Eh6gEDX0M1SOg32IRXp3eBrGE4CcSMuUeRHfgDiHkPiHEgRBgTGHoe8FwQ4UUI8R5gEAtg\n",
       "buC+iBDiAdocgBKOm9qAlqMEGsP2HQwMnBAmAJGcMnHXS2mHAAAAAElFTkSuQmCC\n",
       "\" style=\"display:inline;vertical-align:middle;\" /></a><br>"
      ],
      "text/plain": [
       "Cjk: C_{j,k}"
      ]
     },
     "execution_count": 33,
     "metadata": {},
     "output_type": "execute_result"
    }
   ],
   "source": [
    "Cjk = indexed_var(C,(j,k))"
   ]
  },
  {
   "cell_type": "code",
   "execution_count": 34,
   "metadata": {},
   "outputs": [
    {
     "data": {
      "text/html": [
       "<strong id=\"Dki\">Dki:</strong> <a class=\"ProveItLink\" href=\"__pv_it/7b570335cce2c6d9a4e5acab88a71dd46b7dc4900/expr.ipynb\"><img src=\"data:image/png;base64,iVBORw0KGgoAAAANSUhEUgAAACUAAAAUBAMAAAD4luk4AAAAMFBMVEX///8iIiLu7u52dna6uroQ\n",
       "EBBmZmaIiIjMzMyqqqoyMjLc3NxERERUVFSYmJgAAAAdjRNVAAAAAXRSTlMAQObYZgAAAMdJREFU\n",
       "GNNjYGB4+//snbMbGFDBLwYGvp+oQhzfgUQqqhj7DyDh/wBFjOcDkNhvgCLGfwCk7gKKWH8BkKg3\n",
       "YA+HcMtARH0DkLjvwCACEesGEedBxFcGpk9Iev8AMd8/BhYBNOepHmBgTmgH2eN+Aeo8plUMDFwv\n",
       "nUC6DUAEF9B5jglAJ90A6eLWBBrBu/5v7p1sIK+1ZgLYBwVIVtVwBIACR18DSew4h0AB9yGGWcxI\n",
       "YqsZrjdwRDLoWqOFJAMnAyaYjUUMHIoAbhAzXh4Rmo4AAAAASUVORK5CYII=\n",
       "\" style=\"display:inline;vertical-align:middle;\" /></a><br>"
      ],
      "text/plain": [
       "Dki: D_{k,i}"
      ]
     },
     "execution_count": 34,
     "metadata": {},
     "output_type": "execute_result"
    }
   ],
   "source": [
    "Dki = indexed_var(D,(k,i))"
   ]
  },
  {
   "cell_type": "code",
   "execution_count": 35,
   "metadata": {},
   "outputs": [
    {
     "data": {
      "text/html": [
       "<strong id=\"C_i_to_k\">C_i_to_k:</strong> <a class=\"ProveItLink\" href=\"__pv_it/ca10a48bfe5582bc76fbbd1d91411469b61ed2570/expr.ipynb\"><img src=\"data:image/png;base64,iVBORw0KGgoAAAANSUhEUgAAAFsAAAASBAMAAADGT78OAAAAMFBMVEX////MzMy6uroyMjIiIiKq\n",
       "qqoQEBB2dnbc3NyYmJhmZmZUVFRERESIiIju7u4AAACOKgoaAAAAAXRSTlMAQObYZgAAAQVJREFU\n",
       "KM9jYGDgu7NrJ0cBAx6AouLaBAbWZRPwKUdW8cYPSKxvwKMaRYXZAyChhs9wZBVcX0GkFB7VKCr6\n",
       "HUDkCzzKUVTUX4DQvAtwKYepuAai/QUgHEacnoWpYFEAEvkgfzA8wOMYmIr3INofxGYVwKMcpkKF\n",
       "ARae7AxMt3Eqh6pgqGIEqukHeaCOgZ0fp3ugKhgsg4DOYf3JwBD1gKEvhIHhvQEweXxmgDAQPKgK\n",
       "ht9gF786vQvk5bNAr4Mi2xsUBhtghMsDuArG3KNIie4fUG8chkNYEU7kPSDGgRA3ACZQzFTMjmDy\n",
       "XBDhRZi+vYGB7wKG8rcIJnMD90UUOU7MUEHPBgB5NVFbW/JYkQAAAABJRU5ErkJggg==\n",
       "\" style=\"display:inline;vertical-align:middle;\" /></a><br>"
      ],
      "text/plain": [
       "C_i_to_k: C_{i}, ..C_{_a}.., C_{k}"
      ]
     },
     "execution_count": 35,
     "metadata": {},
     "output_type": "execute_result"
    }
   ],
   "source": [
    "C_i_to_k = varRange(C, i, k)"
   ]
  },
  {
   "cell_type": "code",
   "execution_count": 36,
   "metadata": {},
   "outputs": [
    {
     "data": {
      "text/html": [
       "<strong id=\"D_j_to_i\">D_j_to_i:</strong> <a class=\"ProveItLink\" href=\"__pv_it/8f31064f94d1e2f9dc574437c610f040402b259a0/expr.ipynb\"><img src=\"data:image/png;base64,iVBORw0KGgoAAAANSUhEUgAAAF0AAAAUBAMAAAAdCCxUAAAAMFBMVEX///92dnYyMjKqqqoiIiLu\n",
       "7u7c3NyIiIjMzMwQEBC6urpERERmZmZUVFSYmJgAAADEjrHzAAAAAXRSTlMAQObYZgAAAUVJREFU\n",
       "KM9jYGB4+//O2d0LGPABvvt/z9zeBePNZmDg+YFXPQPnBgaG8w0QNsc/BgauP/jV9z9gYFh/AMJm\n",
       "/wa08Dt+9fUJDAzvCyBs7gkMDJGu+NXvZGBgnRIAYfNfYODwDcCv/i8DQ8tVmNvuPd9iAKSZGnAq\n",
       "5/j7rtoZSNdA3cY6F0gz4zYe5MXICwwMbVC3MdQb4HUOyIvsnxFuY6gvwKse6EUG9u+I4Ge4v4Ah\n",
       "/DD+4Of9xbD8AtRtHL8ZGA4swh/8/RsYBL6CggXotpVbGVgTZBkY4hWA4fyJAY3BwKAJTAGzA9iC\n",
       "HYDW6AOT0maQ4D4GBhZQtPkCMcsFGAMkcgmUIoEhwo3iS6C7GEwxnIIsEh+BHCdAdzEIYKhHFjFi\n",
       "RI4TYJJlxQhWFJFYMeQ4AcrwYeYUXEF2K5NAkkMDF68RpQwAIHRYXFzxZowAAAAASUVORK5CYII=\n",
       "\" style=\"display:inline;vertical-align:middle;\" /></a><br>"
      ],
      "text/plain": [
       "D_j_to_i: B_{j}, ..B_{_a}.., B_{i}"
      ]
     },
     "execution_count": 36,
     "metadata": {},
     "output_type": "execute_result"
    }
   ],
   "source": [
    "D_j_to_i = varRange(B, j, i)"
   ]
  },
  {
   "cell_type": "code",
   "execution_count": 37,
   "metadata": {},
   "outputs": [
    {
     "name": "stdout",
     "output_type": "stream",
     "text": [
      "Expected error: One or more rows are a different length.  Please double check your entries.\n"
     ]
    }
   ],
   "source": [
    "try:\n",
    "    ExprArray(ExprTuple(A, B, C, A, B, A), \n",
    "              ExprTuple(D, E, F, D, E, F, D), \n",
    "              ExprTuple(G, H, I, G, H, I, G))\n",
    "    assert False, \"Expected a ValueError error.\"\n",
    "except ValueError as e:\n",
    "    print(\"Expected error:\", e)"
   ]
  },
  {
   "cell_type": "code",
   "execution_count": 38,
   "metadata": {},
   "outputs": [
    {
     "name": "stdout",
     "output_type": "stream",
     "text": [
      "Expected error: The ExprRange in the first tuple is not in the same column as the ExprRange in tuple number 2\n"
     ]
    }
   ],
   "source": [
    "try:\n",
    "    ExprArray(ExprTuple(B_i_to_j, A, B, C), \n",
    "              ExprTuple(D, E, F, D_i_to_j))\n",
    "    assert False, \"Expected a ValueError error.\"\n",
    "except ValueError as e:\n",
    "    print(\"Expected error:\", e)"
   ]
  },
  {
   "cell_type": "code",
   "execution_count": 39,
   "metadata": {},
   "outputs": [
    {
     "name": "stdout",
     "output_type": "stream",
     "text": [
      "Expected error: The ExprRange in the first tuple is not in the same column as the ExprRange in tuple number 2\n"
     ]
    }
   ],
   "source": [
    "try:\n",
    "    ExprArray(ExprTuple(A, B, C, B_i_to_j), \n",
    "              ExprTuple(D_i_to_j, D, E, F))\n",
    "    assert False, \"Expected a ValueError error.\"\n",
    "except ValueError as e:\n",
    "    print(\"Expected error:\", e)"
   ]
  },
  {
   "cell_type": "code",
   "execution_count": 40,
   "metadata": {},
   "outputs": [
    {
     "name": "stdout",
     "output_type": "stream",
     "text": [
      "Expected error: Rows containing ExprRanges must agree for every column. 1 is not equal to p.\n"
     ]
    }
   ],
   "source": [
    "try:\n",
    "    ExprArray(ExprRange(i, ExprTuple(ExprRange(j, Aij, one, n), \n",
    "                                     ExprRange(j, Bpj, one, k)),one,m))\n",
    "    assert False, \"Expected a ValueError error.\"\n",
    "except ValueError as e:\n",
    "    print(\"Expected error:\", e)"
   ]
  },
  {
   "cell_type": "code",
   "execution_count": 41,
   "metadata": {},
   "outputs": [
    {
     "name": "stdout",
     "output_type": "stream",
     "text": [
      "Expected error: Columns containing ExprRanges must agree for every row. i is not equal to j.\n"
     ]
    }
   ],
   "source": [
    "try:\n",
    "    ExprArray(ExprTuple(C_i_to_j, D_j_to_i), \n",
    "              ExprTuple(A_i_to_j, B_i_to_j))\n",
    "    assert False, \"Expected a ValueError error.\"\n",
    "except ValueError as e:\n",
    "    print(\"Expected error:\", e)"
   ]
  },
  {
   "cell_type": "code",
   "execution_count": 42,
   "metadata": {},
   "outputs": [
    {
     "name": "stdout",
     "output_type": "stream",
     "text": [
      "Expected error: Rows containing ExprRanges must agree for every column. j is not equal to k.\n"
     ]
    }
   ],
   "source": [
    "try:\n",
    "    ExprArray(ExprRange(i, ExprTuple(Apj, Bij, Cjk, Dki),one,m))\n",
    "    assert False, \"Expected a ValueError error.\"\n",
    "except ValueError as e:\n",
    "    print(\"Expected error:\", e)"
   ]
  },
  {
   "cell_type": "code",
   "execution_count": 43,
   "metadata": {},
   "outputs": [
    {
     "name": "stdout",
     "output_type": "stream",
     "text": [
      "Expected error: ExprArrays of ExprRanges of ExprRanges are one-dimensional and therefore not valid ExprArrays.  Please wrap either the second ExprRange in an ExprTuple or place an ExprTuple in the second ExprRange.\n"
     ]
    }
   ],
   "source": [
    "try:\n",
    "    ExprArray(ExprRange(i, ExprRange(j, Aij, one, n), one, m)).latex()\n",
    "    assert False, \"Expected a ValueError error.\"\n",
    "except ValueError as e:\n",
    "    print(\"Expected error:\", e)"
   ]
  },
  {
   "cell_type": "code",
   "execution_count": 44,
   "metadata": {},
   "outputs": [
    {
     "name": "stdout",
     "output_type": "stream",
     "text": [
      "Expected error: Nested ExprTuples are not supported. Fencing is an extraneous feature for the ExprArray class.\n"
     ]
    }
   ],
   "source": [
    "try:\n",
    "    ExprArray(ExprTuple(A,B,C,D),\n",
    "              ExprRange(i, ExprTuple(ExprTuple(Apj, Bij), \n",
    "                                     ExprTuple(Cjk, Dki)),one,m), \n",
    "              ExprTuple(A,B,C,D))\n",
    "    assert False, \"Expected a ValueError error.\"\n",
    "except ValueError as e:\n",
    "    print(\"Expected error:\", e)"
   ]
  },
  {
   "cell_type": "code",
   "execution_count": 45,
   "metadata": {},
   "outputs": [
    {
     "name": "stdout",
     "output_type": "stream",
     "text": [
      "Expected error: Contents of an ExprArray must be wrapped in either an ExprRange or ExprTuple.\n"
     ]
    }
   ],
   "source": [
    "try:\n",
    "    ExprArray(E, F, ExprTuple(A,B), C, D)\n",
    "    assert False, \"Expected a ValueError error.\"\n",
    "except ValueError as e:\n",
    "    print(\"Expected error:\", e)"
   ]
  },
  {
   "cell_type": "code",
   "execution_count": null,
   "metadata": {},
   "outputs": [],
   "source": []
  },
  {
   "cell_type": "code",
   "execution_count": 46,
   "metadata": {},
   "outputs": [],
   "source": [
    "%end demonstrations"
   ]
  }
 ],
 "metadata": {
  "kernelspec": {
   "display_name": "Python 3",
   "language": "python",
   "name": "python3"
  }
 },
 "nbformat": 4,
 "nbformat_minor": 0
}
