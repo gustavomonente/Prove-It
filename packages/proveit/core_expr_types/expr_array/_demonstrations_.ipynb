{
 "cells": [
  {
   "cell_type": "markdown",
   "metadata": {},
   "source": [
    "Demonstrations for context <a class=\"ProveItLink\" href=\"_context_.ipynb\">proveit.core_expr_types.expr_array</a>\n",
    "========"
   ]
  },
  {
   "cell_type": "code",
   "execution_count": null,
   "metadata": {},
   "outputs": [],
   "source": [
    "import proveit\n",
    "proveit.defaults.automation = False\n",
    "from proveit import ExprRange, ExprTuple, IndexedVar, varRange, ExprArray\n",
    "from proveit._common_ import A, B, C, D, E, F, G, H, I, i, j, k, m, n, p, q\n",
    "from proveit.number import one\n",
    "%begin demonstrations"
   ]
  },
  {
   "cell_type": "code",
   "execution_count": null,
   "metadata": {},
   "outputs": [],
   "source": [
    "A_i_to_j = varRange(A, i, j)"
   ]
  },
  {
   "cell_type": "code",
   "execution_count": null,
   "metadata": {},
   "outputs": [],
   "source": [
    "B_i_to_j = varRange(B, i, j)"
   ]
  },
  {
   "cell_type": "code",
   "execution_count": null,
   "metadata": {},
   "outputs": [],
   "source": [
    "C_i_to_j = varRange(C, i, j)"
   ]
  },
  {
   "cell_type": "code",
   "execution_count": null,
   "metadata": {},
   "outputs": [],
   "source": [
    "D_i_to_j = varRange(D, i, j)"
   ]
  },
  {
   "cell_type": "code",
   "execution_count": null,
   "metadata": {},
   "outputs": [],
   "source": [
    "Aij = IndexedVar(A,(i,j))"
   ]
  },
  {
   "cell_type": "code",
   "execution_count": null,
   "metadata": {},
   "outputs": [],
   "source": [
    "Bij = IndexedVar(B,(i,j))"
   ]
  },
  {
   "cell_type": "code",
   "execution_count": null,
   "metadata": {},
   "outputs": [],
   "source": [
    "Cij = IndexedVar(C,(i,j))"
   ]
  },
  {
   "cell_type": "code",
   "execution_count": null,
   "metadata": {},
   "outputs": [],
   "source": [
    "Dij = IndexedVar(D,(i,j))"
   ]
  },
  {
   "cell_type": "code",
   "execution_count": null,
   "metadata": {},
   "outputs": [],
   "source": [
    "Eij = IndexedVar(E, (i,j))"
   ]
  },
  {
   "cell_type": "code",
   "execution_count": null,
   "metadata": {},
   "outputs": [],
   "source": [
    "Fij = IndexedVar(F, (i,j))"
   ]
  },
  {
   "cell_type": "code",
   "execution_count": null,
   "metadata": {},
   "outputs": [],
   "source": [
    "ExprRange(j, Aij, one, n).withStyles(parameterization='explicit').body"
   ]
  },
  {
   "cell_type": "code",
   "execution_count": null,
   "metadata": {},
   "outputs": [],
   "source": [
    "ExprRange(i, ExprTuple(ExprRange(j, Aij, one, n), ExprRange(j, Bij, one, k)),one,m)"
   ]
  },
  {
   "cell_type": "code",
   "execution_count": null,
   "metadata": {},
   "outputs": [],
   "source": [
    "ExprTuple(ExprRange(i, ExprTuple(ExprRange(j, Aij, one, n), ExprRange(j, Bij, one, k)),\n",
    "                    one,m))"
   ]
  },
  {
   "cell_type": "code",
   "execution_count": null,
   "metadata": {},
   "outputs": [],
   "source": [
    "ExprArray(ExprTuple(A, B), ExprTuple(C, D)).withStyles(orientation='horizontal')"
   ]
  },
  {
   "cell_type": "code",
   "execution_count": 13,
   "metadata": {},
   "outputs": [
    {
     "data": {
      "text/html": [
       "<a class=\"ProveItLink\" href=\"__pv_it/16c2e32d6c65918eeed6f53bff3b3a36216f96b80/expr.ipynb\"><img src=\"data:image/png;base64,iVBORw0KGgoAAAANSUhEUgAAAF8AAAClBAMAAADIazy5AAAAMFBMVEX///8QEBAiIiLu7u5ERES6\n",
       "urqYmJiIiIjMzMx2dnZUVFRmZmaqqqoyMjLc3NwAAABb1yYoAAAAAXRSTlMAQObYZgAAAAlwSFlz\n",
       "AAAOxAAADsQBlSsOGwAAAvhJREFUWMPtV89rE0EUful2s5tfq9WqJ2178eBpPZSCXtJQEIKQ6qHX\n",
       "5ODJizkEBC/Jf2BA8RopOa2ERtBLA5KDBz21oBcDktykBam2aRKj6TozO01m3oSCZ+dBhsw38+b3\n",
       "+/Z7ANScXfg3S/yQ6wU/XW11UKeVNS+3x//vIAcYAYT/yJB1xYWP13ll+0RutPukeC1jKTJjjPeL\n",
       "7A3QaLSezYnQ7BEpzPNB5ZuFpp+lSzwoi1CFutv1oFKP92SHc0k6w0sBcQ5paZRYxWzav2SHp3lS\n",
       "FMUZIn2hEgNnKDsU6Uhb6+LBi7ssNLa7skOGFj9FJET2bDUabFKDzH8oO1D/sLSvGXoMsR5fEcCS\n",
       "eg03kyIUPZk8iA3yayvXYHyVIIeOccDGcOhlZDr4ad2vy6vcyYFdo4dnZEYuvPe/iNO3h97aO/S6\n",
       "jDevXhguaNN2hj3w097nkkxkc2kvNS9BT/yW+3ChxV4TaYkOFCKDggpdGD9187fUaFJSuC0HFYGc\n",
       "oFeYjB7uS62RY8qlCsTZM0rCJXENk7MFtsLXjP0IISTB2CxhItsAldtCiwFr3Xlcy8mt2RtVRM8E\n",
       "8rytIGyLHYhfllsrJXsRMER6NtnfVV4VjJBIHVwMQSaAKE0+ymMi6xgKBFeDA+5hHgWTHrLlYohT\n",
       "tkW2Z4/kM6f3vq9A1nFwwITI7n0CTKTmJQVinxnGWrW7UuMtAlUXdhGUj2a6eR2q2s60lfREavHv\n",
       "7uq8V51Dcfvc5yJNklqnIU+eXgI5nMoFI+VOpNZYzhBREV4HhcpYPFwUpNZYzpDOcaQSefxApSlI\n",
       "LUHOdOIwRaYhqSUwr413wPaFpZZAxt+xbIVsEG8zgykOkW51SQE5d4UYwRpIKR8hsoeJRGJSCz4o\n",
       "y11WHLjMC26gjJZbnrKvviC1Iu7U5arsxqVW/Nn05SpUxqWW9xaJr5rvKYe63x6WdZz+f6ZTS51a\n",
       "6tRSm04tdWqpU0udWmrTqaVOLXVqqVNLbTq11KmlTi3V1PIvu+gJtJlU3kkAAAAASUVORK5CYII=\n",
       "\" style=\"display:inline;vertical-align:middle;\" /></a>"
      ],
      "text/plain": [
       "A & D & G  \\\\ \n",
       "  B & E & H  \\\\ \n",
       "  C & F & I  \\\\ \n",
       "  A & D & G  \\\\ \n",
       "  B & E & H  \\\\ \n",
       "  C & F & I  \\\\ \n",
       "  A & D & G  \\\\ \n",
       " "
      ]
     },
     "execution_count": 13,
     "metadata": {},
     "output_type": "execute_result"
    }
   ],
   "source": [
    "ExprArray(ExprTuple(A, B, C, A, B, C, A), \n",
    "          ExprTuple(D, E, F, D, E, F, D), \n",
    "          ExprTuple(G, H, I, G, H, I, G))\\\n",
    "    .withStyles(parameterization=\"explicit\")\\\n",
    "    .withStyles(orientation='vertical')"
   ]
  },
  {
   "cell_type": "code",
   "execution_count": 14,
   "metadata": {},
   "outputs": [
    {
     "data": {
      "text/html": [
       "<a class=\"ProveItLink\" href=\"__pv_it/fe4c9d8e47ca95f26cff0d8881a329bd6c8992e30/expr.ipynb\"><img src=\"data:image/png;base64,iVBORw0KGgoAAAANSUhEUgAAAOUAAAAuBAMAAAAlyMNSAAAAMFBMVEX///8QEBAiIiLu7u5ERES6\n",
       "urqYmJiIiIjMzMx2dnZUVFRmZmaqqqoyMjLc3NwAAABb1yYoAAAAAXRSTlMAQObYZgAAAAlwSFlz\n",
       "AAAOxAAADsQBlSsOGwAAA3NJREFUWMPtWEFrE0EUfs02za7ZNilGPEkrghQ9GLBSqUhrL5UWab2I\n",
       "B6H7DxKxUEgPjWcPCXoUTA9BYaVmQcWDgtWTPYgRtddGPCmUFptWW2zrzGxM581syCwN8dJ3GCbf\n",
       "fjtv33s7b74NALVl8GPLvuBattQItgC3jZXtucsY0ybthx1ZNjV3/biswZbglkGAQhpBN2+Beddi\n",
       "03Ch5MNnDbYEryQBJhwe6T1Bhtcu7UEu7cNnDbYEJ8jvRJJHPsbJcJVNO5Iz8+oua7BluEC98LEb\n",
       "f+h4x80KfLB8pNabLcMxgP4elOxuOp5n8xuQIe+SplhTlw26N7xnenkqtYiQHJdoB1ZmSeRJNZ8u\n",
       "GwJpT3jPQjsAb1DoZ/ZuCY2+LAwKCw8UK4O2LVzxYnvCrVESx28e6aKvELChDyDSLSwRcP4Np4Ur\n",
       "XmxPOELCbvuF4mTbOO1mBQJRCKZUU0vZ0PfKE+YsQ/J6aJ1H2M406CxIrrWvgjEQV3FZYYPz3hPm\n",
       "bIZ4yBTFJgH36Owrzf0OfHurFGaFrcXve8GoAZAnOYbiMDcAFijSu/sJzLHtLAyruKyyYdEbrtrc\n",
       "rm1/FrrEhZHH46jlr/npfwA7sH8zi1k/dD3aAJ/aIz9nC4RmoenWbjXd5ZfbzQ/zxVM4sAP7v8Yp\n",
       "XQXrG7Gt71KLIAL6yhOMTXaO2EMxxLoUs/OdlqB0FRrQ0TgsnJTgCDm1EkJLpxJjUmKxbsIr3fo5\n",
       "GSKHUVhu8BlyNoZxDw5u0qMEs0g228ax0lXoeYfpanKDnyGnUnADQca6q1l4FvFnlrDSrW85mj/d\n",
       "kfAxKqs38eOtQkiQpIRVMgWlW1/E/2QJlo/aMg1/CxdvEK6BWGHd4pWukqY2qkIOu9UpHsJxTpzK\n",
       "C3UnFV4u8UpXSVMHqoK1B7/NFMcqD3JpXRClRjl/XFS69TV1yxpLifQsrVTzRaLiN7CD121fq7zH\n",
       "nNKtr6kDTE++k7cn1fAJSyxxSUsK2/Mcr3TVNLW7M7OgTc9L21OL4eKxEqM4J7JY6app6g66kBGH\n",
       "sFmUtudFDLFvlR9ChbHSVdTU5CPTJFL8rOGItQsKXza0DMEjNf7lqCjdYbXe98x+LmswIqDzo3iv\n",
       "9S9t2fkuPnSNsDDHp6aO+FKmjdHUDdF9PjV1Cppvi81X8dejTfcZno7v4+6/+7YUJC0l9DgAAAAA\n",
       "SUVORK5CYII=\n",
       "\" style=\"display:inline;vertical-align:middle;\" /></a>"
      ],
      "text/plain": [
       "A_{i} & \\cdots & A_{j} & A & B & C  \\\\ \n",
       "  C_{i} & \\cdots & C_{j} & D & E & F"
      ]
     },
     "execution_count": 14,
     "metadata": {},
     "output_type": "execute_result"
    }
   ],
   "source": [
    "ExprArray(ExprTuple(A_i_to_j, A, B, C), \n",
    "          ExprTuple(C_i_to_j, D, E, F))\\\n",
    "    .withStyles(parameterization=\"implicit\")\\\n",
    "    .withStyles(orientation='horizontal')"
   ]
  },
  {
   "cell_type": "code",
   "execution_count": 15,
   "metadata": {},
   "outputs": [
    {
     "data": {
      "text/html": [
       "<a class=\"ProveItLink\" href=\"__pv_it/a1522d0c887d82132edfa1d0fd3a50a52154799d0/expr.ipynb\"><img src=\"data:image/png;base64,iVBORw0KGgoAAAANSUhEUgAAAEMAAACaBAMAAAAA1einAAAAMFBMVEX///8QEBAiIiLu7u5ERES6\n",
       "urqYmJiIiIjMzMx2dnZUVFRmZmaqqqoyMjLc3NwAAABb1yYoAAAAAXRSTlMAQObYZgAAAAlwSFlz\n",
       "AAAOxAAADsQBlSsOGwAAA41JREFUWMPtWE1oE0EUfs022azZbCsWvWmL4KWHrlCpWNFWBCEKST3U\n",
       "i9A9eDfSgjcTvXposAcPgi1SPKyURlSEVrQHD/ZQqlQFBWk8SQ+l2pb+aRpn9mcyM/tIQQ9W2AfZ\n",
       "zXz5NjP75r15PwBUjLewkyS/I2BHyrYW2GgWoagHTJg+woYT2wGGcsYESDBcW9gIzr2PXKKN/vCb\n",
       "+itAGZ4il3jRHxb1NZlhLDuz5b1hdCq+SW6neIq27n1x0QQYW+R2l6dE/NW56MDkxKo8Ud2KM5H/\n",
       "elmAZZkScTT1xhslyKcF4NIIT3E1UvDQXvKZBxhaEd6ILlczXdSg6kmXjJPNwkyzFuhD4KBKumzC\n",
       "68onqM+KG/DUfkZuAnr6OGYDAjqjYRQBPXEDo+BoKKH8vSjlndFW9MnWUHWh6kK9/J+yuDNlHtvE\n",
       "AfuhUfBHegWhXOsH/Y7FgvJ4KcBoP0wurxh+fzgfoLwjGQ70sLCdzU3JDM3JaG6zeWjclmTJCews\n",
       "Al+GQbryuJAE+SHcRYuwRJOHCL+gNn/goOr5yfEueaJDdLVg+ikeQEOzTGlz9OX/Fcm6IiT76HjB\n",
       "UxyNaB4atdwEsjgjvBFd7pCHfqUpyDYo5j2eQtO4adNF2ytzoKfL5K0/CovpTD3K0LuAbqNGwKPx\n",
       "RowhoOoIRhHQpIUmyxz64SbGENDnTzAKjv57+bNiYaCSGv3MeQ9WLJAzNcal9kixEKcp72OoVSyo\n",
       "FOqzahUL9XTupUKNYgEaqFv0jYjFgiiD1HxzBeayTrEgSo66yHjGVwFSLECaXn7UKhaAPhRbE4sF\n",
       "RC1HfU/uxY47qhbli7+FbrGA7NpFr4RixYIge+a37LMvw3izW+RKJWW/D8QbtbvJHm3xraGJbFvQ\n",
       "SxqIE6td1Toy+jNA6SOmrXjmECP/EFsPVt0Z12Yd2yDWkzyIxd0seEus6wLlQR6x7yhz18Fz18eC\n",
       "R2p02a5aa64E+v4ARduAW2zQTdeWR06lBKvLqbNezSJub9CQ5zjVGu+8VbXQh/o9TZMTKh7MD+nU\n",
       "hnd2JImr9cwBFkF7Msypxi4EcpOxim13l0Mb3y0i9rp4V9trob0u3tW8hEDqdVVDCXG1WAbrdVVD\n",
       "CflZL2G9Lj6UlHSs18VH2Lgl9bpkV9uExZLU65JdbXW0Be11ca62Ap1or0tQyzGp14WdQFKvC3M1\n",
       "sddVM/P3el1BV3Nf+TeRtxKt7UgBqwAAAABJRU5ErkJggg==\n",
       "\" style=\"display:inline;vertical-align:middle;\" /></a>"
      ],
      "text/plain": [
       "A_{i} & C_{i}  \\\\ \n",
       "  \\vdots & \\vdots  \\\\ \n",
       "  A_{j} & C_{j}  \\\\ \n",
       "  A & D  \\\\ \n",
       "  B & E  \\\\ \n",
       "  C & F  \\\\ \n",
       " "
      ]
     },
     "execution_count": 15,
     "metadata": {},
     "output_type": "execute_result"
    }
   ],
   "source": [
    "ExprArray(ExprTuple(A_i_to_j, A, B, C), \n",
    "          ExprTuple(C_i_to_j, D, E, F))\\\n",
    "    .withStyles(parameterization=\"implicit\")\\\n",
    "    .withStyles(orientation='vertical')"
   ]
  },
  {
   "cell_type": "code",
   "execution_count": 16,
   "metadata": {},
   "outputs": [
    {
     "data": {
      "text/html": [
       "<a class=\"ProveItLink\" href=\"__pv_it/54a5867146955823edc36c19491614816d8583b80/expr.ipynb\"><img src=\"data:image/png;base64,iVBORw0KGgoAAAANSUhEUgAAAUIAAAAuBAMAAACvwg06AAAAMFBMVEX///8QEBAiIiLu7u5ERES6\n",
       "urqYmJiIiIjMzMx2dnZUVFRmZmaqqqoyMjLc3NwAAABb1yYoAAAAAXRSTlMAQObYZgAAAAlwSFlz\n",
       "AAAOxAAADsQBlSsOGwAABNBJREFUWMPtmF9oW1Ucx3/LaXJvmuSm4NAn50SQgQ/GbdCxqa0iTjol\n",
       "nQ9TUOgFBV+EZlgY68Cmzz4kWNAHYS0yFCI1Ed2ERbSKoHsYbdkcKMgiPsgYUt3abU7beM5N7t25\n",
       "vb/f77S2EZEdbkqb+/l9+7vn/s6f7wFQ7VcgmzMHprYGZMPtIn0r85sxGkNebg5UzhdxPpFfrEw/\n",
       "xWuuYtJNGp01Z4giWwG6bxABW/oBqkVeNMykqg2SPL1izBBDnOsA8T+JgIUCwFCNFw0zxyfJB0pe\n",
       "umFKEEUS8rvEdSJiWP674QKvGmKcwtgMBf5i/WXKEEW65ZvPbCMiqvIz3+BVQ0wKZl0KrKWvmTJE\n",
       "EVlG4l3qzcga3bvDoBpiXoRSGUBgDxWfsf8wSPlIOJ3S/iPTLiFqLx4ZvWBQDRhPtgYLU7KcsMJI\n",
       "gXPToOUj4U4Za0D6TkLUkiPrS5dXDRglax2oV/sJcKR+etGQIY48Jj/U+OvqkakbBmCI6QXIbsc5\n",
       "IbvgCi9FIKpbqeGanWLGOcbISSfWA/FR9A0C3Ov/se+V4zQijoWmA1sNnuogKgol+fa6l/wnPHW0\n",
       "QTOebNz11q1kXy7KHdJWRLHDvgokkkrPrS4jexkXVTUKJR/fWSwxjCf7k3rrK/DzVzrQN6cuRxYD\n",
       "5NuPmKrZPSCW1aWvHW1kVzK0RmTk1wfPrRJtq8K87Ja7/bTqMB7c0FqbUbK7m+cgnV8uw34diNXk\n",
       "JfLLOfi6+X27MgYtWRsPeNetKgyQjD44uy/erEw/LX8JibZUYbpZqZwPamIJRv0bWgsYTVZcNSzl\n",
       "fY2ul3JMaWPVZBQFsQJP7oI1yabnyobNRqN0iLk9jn1pFAXYZi+5a5MV79ML5eV6vT4YP/XNW4wU\n",
       "Omo50ZYqvPDqUXe9sv+sXYCOtE2TzTzf04n8NlE2dSzXiQw7JHu73W7/09Y7UHEvEYvSSOU9h18X\n",
       "cGSkOXDiB2K6tqRbf+ZDw75Yj7fuysGZ+3Hw8GuQfpPfsBOI3AElKJuYlfuY4Rk+RS1ePC7nnBTu\n",
       "23ffJ398wfpGArHV/vgjIqYkN98pfi7W4zN3KMOG8/NqwjzIShGIpTzGENH7Y3LHE+ddrh4/qbrb\n",
       "Rs8okl43v8EeOBBIlzrLWSAqOK+2vrzL1eIdzwYJdB+34BmsPezxCoFklXscmsKDlDeM8y5Xi0/6\n",
       "hurRKDZZMM4DAWJHSw3Gyphqq8Ysvg/9eOnoY74pfTuKPVg0ZhggsWKk1KTZw1RbNRaYPbpUVbx0\n",
       "9Fs8AydQ7B5vZ8FuLyhElRr8ztRYlh/LWnzMO578Fu8gbyfPdiSFqFJLXGNqbJifZbX41kxYhueQ\n",
       "qvamuSTr6H2k97NoqT3Uj6p6NSa2so7ej1eOXh2WQjIHE4hdV+egMME6eh+pnY2UmvgRUFWvxh7h\n",
       "Hb0f7zn6WRfSE+A8vD3qvdXB4Bk/Hnf0bUTk3glv32XtPFvDVdURRTww3Z6jj8i241sHBeKTyklV\n",
       "voWo94Z9Ax8MBtWDOfpbSMjyKEf/xOeEqnTrJw40Qo5+tWwQrzv6vj2wIUePL+xG1XU4+rNJ2Iij\n",
       "t/HJw6i6Dke/93WScqT1Pgm8o7fwBY5Rbcv+a44+4/7HHf134x3JbxMd/acfdyRD5ej/BqnBvrlm\n",
       "h6rjAAAAAElFTkSuQmCC\n",
       "\" style=\"display:inline;vertical-align:middle;\" /></a>"
      ],
      "text/plain": [
       "A_{i} & ..A_{_a}.. & A_{j} & B_{i} & ..B_{_a}.. & B_{j}  \\\\ \n",
       "  C_{i} & ..C_{_a}.. & C_{j} & D_{i} & ..D_{_a}.. & D_{j}"
      ]
     },
     "execution_count": 16,
     "metadata": {},
     "output_type": "execute_result"
    }
   ],
   "source": [
    "ExprArray(ExprTuple(A_i_to_j, B_i_to_j), \n",
    "          ExprTuple(C_i_to_j, D_i_to_j))\\\n",
    "    .withStyles(parameterization=\"implicit\")\\\n",
    "    .withStyles(orientation='horizontal')"
   ]
  },
  {
   "cell_type": "code",
   "execution_count": 17,
   "metadata": {},
   "outputs": [
    {
     "data": {
      "text/html": [
       "<a class=\"ProveItLink\" href=\"__pv_it/6a18c0fbdbd4b396e38d8a272df0a390d7935ecf0/expr.ipynb\"><img src=\"data:image/png;base64,iVBORw0KGgoAAAANSUhEUgAAAGEAAAD2BAMAAAA0S/RrAAAAMFBMVEX///8QEBAiIiLu7u5ERES6\n",
       "urqYmJiIiIjMzMx2dnZUVFRmZmaqqqoyMjLc3NwAAABb1yYoAAAAAXRSTlMAQObYZgAAAAlwSFlz\n",
       "AAAOxAAADsQBlSsOGwAABNdJREFUaN7tml9oHEUcx3/J3uX2/m0OWtona0SQgA/d2kJKW5taxEqq\n",
       "XOpDFRRyoOCLkJMGSlMwm2cf7jCgD0ITSlFYOe9EW6EnGkXQPpQmtBYUJFd8kCISNX+aRJNzZrOb\n",
       "3sz9fiMDBYvOD3aX/L73u52d+c3sZ+4XgNCcGdC07G+0Zo347zll2XtNEfH6Kci8VZC9lzfIgH0P\n",
       "s9MXDcmbvL1CRsy67HRC9v6c+IsKSAbKm7K7llmmIuZ7+Hm/5I1P26vschiLmCyGPSY8SRqcNXZ5\n",
       "B4vY7YWtK7Z6R+qXF6lWPcgfHFxpiFj4H1TEbn7KeKIzzY6HAJ6fwiKCkUhCfLTVeZIdcwATC2hf\n",
       "8fZPQLK/pWFOjp3yDedQDxbB+/2KCz991fIU+XUXvm5+D7Ei+iAHBz4YZJdjiNS/X5Hc1oLX7rya\n",
       "VERkZsrtzgNvqO7xfgOMGbv/rLOmq/YrXx+YailbYP2He1e/r/THw9j/zX7VjphTaH0DfuF22yuu\n",
       "SQckdrpw5RHZm66SrzjrKHvvp9v47tykRwLnNs5SOcnrFMemqYhJrtjy9EjDtQIR4AREZMlNeAlK\n",
       "ZYoR76DuGsxPUdMVJdTE8Xr1CBHRsYAtiX0A3T3UPQLS/ratUdAZdZ916YxInMFIlEU1XmjB/Me8\n",
       "koCQDn/ypCuqt9gRiwa1DuPSBqAAmQkQ1H3N65DJr4c3XoJRKUs+8S9u/dGmMn0DntpLv0UwdZe9\n",
       "VKDzWFSder1+EV587Qwa8QtTB0nVmDHDcIbhDMMZMxh3H2GcrcQ4D8G4Tk+Fcb3/Dsb1fYZERBhn\n",
       "nW3pzQjjalexvgoxLp1pWbRCjLPcd7FmhRi3N3l3SO5i3E00S0KMy2IjtqHK7m4k8+ycKmIcS+sp\n",
       "VcQolqVKpkMe8rtxxeezLyBN/vRjRUT6rGsWQ25d+UW/8jSljjQHLvwgp0gHm4FVcv1ZZ98p/+TP\n",
       "f4seol7BNp8hH0nOYfb9w0VqFeVrw5CUQVV2zFLraIzP9Hlpk7kd4EAvOTH4MjMk5rW9eHqUpyZa\n",
       "aYASb+5YWVATbPJ9WSAqDTDGO7E6KKgxlslJssiS56ffpZayRnbdoSJ41aJLKqiUWItSS0SlIRiO\n",
       "PUdEdYx1bGmGqDTw4bB+lOoQs2xdfMAlKg18tXyuBoJaafr+DbaqopWG1Nya/+TngKvKSgOqKisN\n",
       "qKqsNPyDasyY2aWaXarZpRq79/ZKc8C/4enwGwef1IoOv/FNTPxPHX7rWlFACcpvKcYE2V06/MY4\n",
       "1DrvafAblI6drpAbj4jfRERrQGYHFRHxm2BP8B21p8FvwP8VhWRdjN/s5db7Hnz1HMZvgso51F6P\n",
       "luReewHjN0HNMg49cT3aLdXEPWHIb4LKEa3yzFb3Dwp7wi1+Q9XN5bIRe5nek2FqR6N0kp4XorpZ\n",
       "aYhf+uZt7LOblQZKNWbMMJxhOMNwxu4FlCXyi/6zH2pBWTfLw+FpDSgLaCad04CygGbiyxpQFtCM\n",
       "s6oBZQHNxNc0oCygmcQqDmU2CZepJVGNoAyrNGzCZXdOVJVQFsDlcEEBZdhwWNulloZQhlYaguF4\n",
       "fEZUIyhDKw28UhV/FAQ1gjK80lBp+heONyj1pjLDMVVZacBUdaUBU9WVBkxVVxoQVVlpQFVlpWFL\n",
       "/Ru8YL7vgp97PQAAAABJRU5ErkJggg==\n",
       "\" style=\"display:inline;vertical-align:middle;\" /></a>"
      ],
      "text/plain": [
       "A_{i} & C_{i}  \\\\ \n",
       "  \\colon & \\colon  \\\\ \n",
       "  A_{_a} & C_{_a}  \\\\ \n",
       "  \\colon & \\colon  \\\\ \n",
       "  A_{j} & C_{j}  \\\\ \n",
       "  B_{i} & D_{i}  \\\\ \n",
       "  \\colon & \\colon  \\\\ \n",
       "  B_{_a} & D_{_a}  \\\\ \n",
       "  \\colon & \\colon  \\\\ \n",
       "  B_{j} & D_{j}  \\\\ \n",
       " "
      ]
     },
     "execution_count": 17,
     "metadata": {},
     "output_type": "execute_result"
    }
   ],
   "source": [
    "ExprArray(ExprTuple(A_i_to_j, B_i_to_j), \n",
    "          ExprTuple(C_i_to_j, D_i_to_j))\\\n",
    "    .withStyles(parameterization=\"implicit\")\\\n",
    "    .withStyles(orientation='vertical')"
   ]
  },
  {
   "cell_type": "code",
   "execution_count": 18,
   "metadata": {},
   "outputs": [
    {
     "data": {
      "text/html": [
       "<a class=\"ProveItLink\" href=\"__pv_it/66d84e2f72d70482d39203f64493c081da5ba0220/expr.ipynb\"><img src=\"data:image/png;base64,iVBORw0KGgoAAAANSUhEUgAAAO4AAAB5BAMAAADMowDqAAAAMFBMVEX///8QEBAiIiLu7u5ERES6\n",
       "urqYmJiIiIjMzMx2dnZUVFRmZmaqqqoyMjLc3NwAAABb1yYoAAAAAXRSTlMAQObYZgAAAAlwSFlz\n",
       "AAAOxAAADsQBlSsOGwAABYJJREFUaN7tmltoHFUYx7/d6d6yVzBUES8rghQqdMRitF66iqCkyiY+\n",
       "qIiQeaggimRtg4EUzOapDz5kMQ8+iGaRYmVk3RUvxVZ0vTzYh9KE1oKCZsUHiSAba9ra1nQ958zM\n",
       "snPOfGcw45KI54OdkPn/z2XOd86Z3d8MAIvMAmxIpFdk6t7OsHm6LDFoE+bbmQoqx4qr5qPveSkn\n",
       "pe3CIMDAnxL9xf2QetXA9SwZzvGmh3D0iqzZzAWAyGVc33kzOXzewg2zJYBkTjyfWJZdDUSJGr2A\n",
       "64s6OYxKKpgmSYqcF8//EvtL1u4AyUL6BlROsMKvSCoo0kG7KJ5vpM7L2g0VQHsLn1ftPD3eKalg\n",
       "lXwil4TTkWa8pzNxMT0PTdZ6Zg3fg/mS+3+hh3Gao9hFwZCEDOmM9oL1X1goN92C1FaAO+xFvo2T\n",
       "d9gFMB1idPYMnBMME8eOkpE4uA8bpvvpRZXjk3lv+UY6rUBHddhCV2k2xxs0Mk5nyd8vsXZpZsZL\n",
       "kELq3UEPqTKqQ7ZAKzB4Q5J8buq2O/SpkB466eojdjHtAL8BsJWbAFRny1cbFAyPk89St93GCSE9\n",
       "ZFOJrznFkil+L2/TeTWH62z53rvAGzJ0Iym27HY1/XVh8yaG0VNOsdsTDU6ni/C4juv0oiLbgTNo\n",
       "xTUdvu58183vGX7XWLpk1h7pFoO0sBHfPfzuiESvdcxDe1q4wW4X3artYtnWOnXMQNq9i2QyJymm\n",
       "kZvdzHp1xLC8dARmmhCrYnelNy6X4tcBTK1TlxqaHulzdVnM/z/SEUNK/3ZGWuyr9JO5IDpiiMKR\n",
       "D6TFjOQBPYjub1ChQoWKzRrhho9he0AdaWC3z09gbS2YjjWg+Q2IHlDX1Jz6P8ZGzeeNWr8qVKhQ\n",
       "8d+ITQnco8VVs/awrPjQsGks4/JEZ/jQ957YQw7cQwWAehnXY1frcPwWSQXkXhX1RM1y4E7J2Bh+\n",
       "O9EeIN+tkpIaGJB930PwAe7jZQYo0SRdRQ4RCV9gQHbMEAUf4F4nn8UWKs836TVJbq8MyLY9Hrj4\n",
       "APdBgF3b8LVwlg22JP8MyI5VhfM2cL/PSoaYntXJqTO4nnAeeWDlGZCF6YpgsIA7vGZ9HxE6ToHs\n",
       "Fwaqh525gZVnQJaSZN5gAXc8PWTKJPCJF/rD7+cAfZ4Cv4vrwAbuaHqq0udHYbb2v5FUQC8qKs4g\n",
       "G7g/wRIv8naYNdhjCUy3Vm4FL8+W720FwWAD9zk2XiJvp89TYHYB1eljPEjoeHm6fLUfhAZs4J65\n",
       "Jw+evB0WyYy/Xsf1kwak5gDX6eb/WIM3dIH7FmtHEnBprWOap8nWgOmgfWh+BLhOgf2Dn+GG3daj\n",
       "NnSfDapjhhMJOW8PqmOGXS9LeXtgXWbw4+1BdcTgx9uD6pjBj7cH1f0NKlSoULFpQ/F2LhRvV7GO\n",
       "ULxdhQoVKjZf/LZB7S5Jfzr2jbanOtJe9Y22J+stWbt9o+1vzpdl7faLtmdK001Zu/2i7UkK+iTR\n",
       "L9r+NMy6O+Mm5g5t74neRhIegNjdCYe284YGtN2dcRNzh7b3RO/Vhz2AuHt0HNrOGWJ7jtULkmHu\n",
       "F20fIhnIS4r1i7aTmRjOQfTjg1Ox59gAc8Tcpu3PPztZfekddm2uN9gd2o7pXdrOGSIGA9PRUSNU\n",
       "tZAlR8xt2v7MVrjWeoXY/Qa7Q9sxvUvbOcNPNIVX4Od9kB1J0knHE3Obtg/l4Rx8Qk9wb7DbtB3V\n",
       "HdruNuzsnIJUca0Ch2EGwtYAuVaNQ9sHSvEc3GrV5JrdNm3H9C5tRwzXwAS0rZXrudeGyrFCZoVN\n",
       "AM832P10xJBZIVe8V0LM26TD0UIFfYPdT0cMkSr8CL/ux4n5U5BuZQ7r6BvsfrqfQb3h7o5/5w33\n",
       "vwEZTzXRDPN8sgAAAABJRU5ErkJggg==\n",
       "\" style=\"display:inline;vertical-align:middle;\" /></a>"
      ],
      "text/plain": [
       "A_{1,j} & B_{1,j} & C_{1,j} & D_{1,j}  \\\\ \n",
       "  \\colon & \\colon & \\colon & \\colon  \\\\ \n",
       "  A_{i,j} & B_{i,j} & C_{i,j} & D_{i,j}  \\\\ \n",
       "  \\colon & \\colon & \\colon & \\colon  \\\\ \n",
       "  A_{m,j} & B_{m,j} & C_{m,j} & D_{m,j}"
      ]
     },
     "execution_count": 18,
     "metadata": {},
     "output_type": "execute_result"
    }
   ],
   "source": [
    "ExprArray(ExprRange(i, ExprTuple(Aij, Bij, Cij, Dij),one,m))\\\n",
    "    .withStyles(orientation='horizontal')\\\n",
    "    .withStyles(parameterization='implicit')"
   ]
  },
  {
   "cell_type": "code",
   "execution_count": 19,
   "metadata": {},
   "outputs": [
    {
     "data": {
      "text/html": [
       "<a class=\"ProveItLink\" href=\"__pv_it/d6f1a00696d4236a7c22820980c60ef382976e590/expr.ipynb\"><img src=\"data:image/png;base64,iVBORw0KGgoAAAANSUhEUgAAALgAAABgBAMAAABccKW2AAAAMFBMVEX///8QEBAiIiLu7u5ERES6\n",
       "urqYmJiIiIjMzMx2dnZUVFRmZmaqqqoyMjLc3NwAAABb1yYoAAAAAXRSTlMAQObYZgAAAAlwSFlz\n",
       "AAAOxAAADsQBlSsOGwAABR5JREFUaN7tmV9oW1Ucx39t2uQmTW7yIEPEPxVfBIVmbNg5xUYQJlVI\n",
       "64OKCMvDhKHI4lYsdGDTpz34kOAefBBtELESKYkIDjfR+OfFh7GUzYGCNsMH2UDSuW7TzS6ec+45\n",
       "SXrvOb/fbZKXYQ9pm14+95tzz7333E9+B4A3uwZk+5MkDCmxNTp8lSQMKWfo8GiTRAwpJ2+Re46U\n",
       "6xSiTwlf/JsM/2AxRxCGlD9C/5InKztfJRBDSiV6jRwVOJMhEH3KcNX6p/2fpd3zZcgXAALOuGsH\n",
       "aHNKCxsB+wbb8XVn06B21wo0imxYs+KfB/XHxlM6m8BmTp1cBzh2GDnk0DOnyil8VJwUdwuw7vzF\n",
       "/n6H7DkOEB9Fs1WK53gA7m+Fj3+lHxUYTMDwnIg5WgVjymsHZ4tvftLGnpf3thNeOa07WRlxc4cn\n",
       "kjwmqptDZMorO+AuEH0QmJ1g79J1GR5IvrfpYDf4Cy6wt0O34HeB7ApXYKLGX533gZNij4/CVfhS\n",
       "YYH0RhJ+aP7cGvPzmzr0EH/tbp6FaHqjAPucCSoDgxX+6uiESolkrQQ8rLB2k+HINBO4Ii7TODLL\n",
       "DORCKXvNi7HwR9k9lEBmxlohwG6lBeSiabC+B1Me7OLqCVioQqiI9Hypbt0NzvkytJcgVreXklqs\n",
       "unmkdL13nxXfWDT50wKx1/exFxM+wjVYEE58TuyVGTma9BHuE9tut1s70Jwsncv1ygTT66Xlp73b\n",
       "7wCIUG5BMwPsSVX2fL59nU3YNwmzoJkGexTtr3gOiPUoeB0P98EcYr0+lHVvjTDFi92Lh/tgyuxn\n",
       "pa4ZrMCHxAn1wbCzstfrHPl9s8sZl8oYGESKrPXZufNeKZqvQ3QHwCM1MBuPZBApCrEn2LcZjxQ9\n",
       "yX4Wc9Ys5iUOg43KEJthw96LlUsYO81RLFwySIsXddeTxd20PCXD9cYjGUyK8mxIIlfdUsQHy2Ju\n",
       "4oTrjUcymBSxswL5mluKYmywps+qcK4yXimSDCJFsMJu4XuSLimKrN4oLT8LKtz9gBZS1GKMUgTL\n",
       "zVLpHBsHgxTJcMx4upciFk4ZT9dSZL9/M0sZT29S5MN4upciH8bTvRT5UJltKfqft8BM6WO70Ctj\n",
       "IN44AtF3iC8UNKMndj/Afn2D14FoxkCs8Kt9Gu84zeiJsKjvvI1XmEjGQDTEPL4H90CSMRCLWU19\n",
       "x8CYpWjRqwa85DQmUUyKFGOWojHvB/KS031i9kqiUiQZ2DIxJub2HCpFitkyIa7NMKBSJBlEiiQR\n",
       "/OLYXOjVXKvkxL8RwHFciiSDSJEkgtOZgaJTmxAlJ15q/DFpkCJpP5JBpEgRhyE+NVJol5wem/x0\n",
       "yihF0n4kY5YiRSwxoxisekpO/ZGiO2EGGpan5NQXKbLXWN8PhN0lp/5I0XARfoNLR7Qlp/5Jkabk\n",
       "1Dcp0pWc+iZFPkpO2+22bDPNyY9+qffKmAj2XTBILRTRjJ6w+Jfqz/BsmjEQIV4O2I/rHM0YiCG+\n",
       "GNjARZRmDEQ8xT+ziIbTjIHI88fffKHTZcDEPGFEXCmtSlFO1DvQ5TPJwLtGRBGuSlGav7mML59J\n",
       "ZusEX1ELXsOXzxSzVUJcoDtT6PKZYl4omhBFuCtF7AIN/Aro8plijl8xIYpwV4rYBfpcBdDlM8nY\n",
       "j49KRG5vN0V4K0VPfQ2ALZ+1mKGsQsT2jnKsIrpfPoOJPRTS/fIZnA5TSPfLZ7D3LQrpbfnMDwLd\n",
       "Lp/5QAzu5MNlfOqOcKf/AAlLPe2KfnMHAAAAAElFTkSuQmCC\n",
       "\" style=\"display:inline;vertical-align:middle;\" /></a>"
      ],
      "text/plain": [
       "A_{1,j} & ..A_{i,j}.. & A_{m,j}  \\\\ \n",
       "  B_{1,j} & ..B_{i,j}.. & B_{m,j}  \\\\ \n",
       "  C_{1,j} & ..C_{i,j}.. & C_{m,j}  \\\\ \n",
       "  D_{1,j} & ..D_{i,j}.. & D_{m,j}  \\\\ \n",
       " "
      ]
     },
     "execution_count": 19,
     "metadata": {},
     "output_type": "execute_result"
    }
   ],
   "source": [
    "ExprArray(ExprRange(i, ExprTuple(Aij, Bij, Cij, Dij),one,m))\\\n",
    "    .withStyles(orientation='vertical')\\\n",
    "    .withStyles(parameterization='implicit')"
   ]
  },
  {
   "cell_type": "code",
   "execution_count": 20,
   "metadata": {},
   "outputs": [
    {
     "data": {
      "text/html": [
       "<a class=\"ProveItLink\" href=\"__pv_it/3af95bff961963edbde1731a54fcd5d4d96120900/expr.ipynb\"><img src=\"data:image/png;base64,iVBORw0KGgoAAAANSUhEUgAAAQYAAABgBAMAAAANwcH8AAAAMFBMVEX///8QEBAiIiLu7u5ERES6\n",
       "urqYmJiIiIjMzMx2dnZUVFRmZmaqqqoyMjLc3NwAAABb1yYoAAAAAXRSTlMAQObYZgAAAAlwSFlz\n",
       "AAAOxAAADsQBlSsOGwAABqpJREFUaN7tml1oXEUUx0/2Zr+/ApYq4kdFkIBCVyymxo9EESqpsqkP\n",
       "KiJ0HyqIIlnbYCAFs3nqgw8J5sEH0SxSjKzERPwotqJr64N9KElpFRQ0K32QCLLRJrZJTdeZuTOz\n",
       "O/fOnXPXsLFIht20O/d3zpw7M3dm/ncGgKbUPLjS74AmnVmzXqSP5JL74gIeg86sWS/Sx5zbWaKG\n",
       "xzCHxoB7kT6OX3Vdi89U0Bg0Zk17ET6ii5dd196ZLGAF6Mya9SJ9/Br+29VV8iNlrACNWdNepI/Z\n",
       "xF+uSoS5HBaDxqxpL8JHsBxZdV57DsbG67+0FcrNHmI/ItoSVC8aTBYdh9SaKz6oFgHu5Q9vp/4m\n",
       "mdmb7EdAG6btpSE5MVn04Injyw7j8N4TM70QGdphqEaNmdYL+PBh5QH+dFzrAkiT8hOGGHRmei8+\n",
       "fMTJ9zZXJUKgQ8RgHS5rm4KZPc0qu+sLfVNQL6HPjgyHXyzoMFn0U+4hNZizB1E7hnhCNy9ws4mL\n",
       "rLQzuk5rewnty7UVw0UdJopOkfuFrDqc/UK+7VdFDPdEZxsv9szTDzdLPUARK/MWWOv0o/Fy4SCk\n",
       "++PjHFOGD160lV3PwDe1Hxqv7aqdg0R2fVz0h6TykAdmyUeatedZ5vcAd7KPxssUjEKgLLCG3qAp\n",
       "WjPl2DGkDYN+z272j2nmuAEGoRpBMe8YLFKJowbkTBTuI2NPh2HAXiI1cQDFvKzfvpKP3AQwbGC6\n",
       "X4PRMoSL3kSwCD/Db4cwzFgXjlbUpLKjx2wM06RTyWeQGkxkvhv1czP+MF3KxQ9nzEQIjn3sw5FP\n",
       "bCttpWsihbLLpenHsCw/Zs50oNZXOl/wBbSRtc6MimqyXMkHsw0gdtkXUCVT335letZluRLOpC6R\n",
       "kfqKL2CA3MxAXrmoyXIlnAmRWwxd8gXMkO9ZdXrWZLkSzsTIUix5iy+ANEp3p6udujuRvowzpMdY\n",
       "7xb8AJHloWHHzOjI0goYwRg0ztieoemcSeNIIEwWN1+rKM+yXgZvASPMDBpnpAKJ7SaNI4F2MjVH\n",
       "1SeIZx05aKhHjZkzPUy+RuEtgXTR1XtF1kmDvcbMmaiMMz45EhgjFRpbUduJZ9kx6AUMZwwaJ0Il\n",
       "9Uy/t8bhgN0oMDbvbCeWZcegFTCCMWgc2mMi6waNwwH6jJOx6mZ1qSSyWAxOZWJrHM6YNE6S9Jh9\n",
       "5wwahwMA07VS6bwqKGUW7w/qk8s0jmS8NU5sYa00/Tj5j5fGkYAx8RhMyqTlGofEgCmTVmucxYVj\n",
       "qDLZFI3jQ5m0WuP4UCYt1zg+lMmWxtlK/8dkDZbeS6nvlaGrr5RbROxwBiUk8MohSLzhWMxdn4HT\n",
       "d5hDwBmUkMCu28mfr5RFuvUImbjj5gkGZ1CiDpyla4d96sR+HR3nzRMMzqCEBKJsI+V15eIkne0j\n",
       "Zq2HMyghgSpdCMFuZbZl79Ito57FGZSoA5PuhW/UsVzWCRjJeGqcqGbRXdADO92BBrhsMGkcwXhr\n",
       "nIBGfHTqgVvZclZZ07axtbJl1DiC2QBRB3ayuV25jQDbe/3WqHEk8++JOsBGhqhy0X6mx40aRzDe\n",
       "GkcQL70wVHz1fXbL6oaQLIa9ToEJ1+sRiGaMGkcw3hpHEM9vhxvt1+6ODSFZDNBNztOOt8FzOUhM\n",
       "gIfG4WLGZkwahxNdO2AFPqcZjg0hWQzA/X0f9DsH0U9Kn4KXxuFihjPeGkcQsTxZ0t9lD4w5bTGt\n",
       "1zhthXBvaol1+nTlP9I4VVITod5xbEOopRrnWUhWUlMZbENoUzSOjw2hlmscfEOo9RoH3xDaSlvp\n",
       "2kmDtb6jP6qDaDi7XHriQ0ReoAxKNABktgs5TjqlySQ7UDYHgTMoIYEIncY/Ui+OkdkwjowoOIMS\n",
       "EgjTpeV+dbAdIdNcEDmBhTMoIYF2uqyrqpo3S5c5q+YYcAYlJJDupfWgTnz00FJwzRwDzqCEBGij\n",
       "wIhSD6yLhFf10sTBWBUvxOnFJYXqAG0U+w1+/aGhXSS2YjyrJpho3gsRRONyvqAHaKPAH4o16yLp\n",
       "DuNZNc7ABog6QBslpPZe1kUGcsazaoLZACEB1ih397qeW2ub+awaZ4LDnggnvPdxRDGsUayf3M/t\n",
       "g/Pms2qcifZkvBBOeO/jiGLYubgnHS8qFsgjQ7WC4ayaYC6cFAjPd3nx3scRxdDNlEe/VEOYrpWO\n",
       "7q3IGHRn1erMHoHY+RovXvs4EjCvVu0YTNLEuoiql5afVUvMY+ql9WfVrKkKggQ35ayaT/XSyrNq\n",
       "PtVLS8+q+VQvnlLoHxTrBQaSde8AAAAAAElFTkSuQmCC\n",
       "\" style=\"display:inline;vertical-align:middle;\" /></a>"
      ],
      "text/plain": [
       "A & A_{1,j} & ..A_{i,j}.. & A_{m,j} & A  \\\\ \n",
       "  B & B_{1,j} & ..B_{i,j}.. & B_{m,j} & B  \\\\ \n",
       "  C & C_{1,j} & ..C_{i,j}.. & C_{m,j} & C  \\\\ \n",
       "  D & D_{1,j} & ..D_{i,j}.. & D_{m,j} & D  \\\\ \n",
       " "
      ]
     },
     "execution_count": 20,
     "metadata": {},
     "output_type": "execute_result"
    }
   ],
   "source": [
    "ExprArray(ExprTuple(A,B,C,D),\n",
    "          ExprRange(i, ExprTuple(Aij, Bij, Cij, Dij),one,m), \n",
    "          ExprTuple(A,B,C,D))\\\n",
    "    .withStyles(orientation='vertical')\\\n",
    "    .withStyles(parameterization='implicit')"
   ]
  },
  {
   "cell_type": "code",
   "execution_count": 21,
   "metadata": {},
   "outputs": [
    {
     "data": {
      "text/html": [
       "<a class=\"ProveItLink\" href=\"__pv_it/10223d0e32fc6043c57bb4de2d03c55c93095a1f0/expr.ipynb\"><img src=\"data:image/png;base64,iVBORw0KGgoAAAANSUhEUgAAAO4AAAClBAMAAACpX9y+AAAAMFBMVEX///8QEBAiIiLu7u5ERES6\n",
       "urqYmJiIiIjMzMx2dnZUVFRmZmaqqqoyMjLc3NwAAABb1yYoAAAAAXRSTlMAQObYZgAAAAlwSFlz\n",
       "AAAOxAAADsQBlSsOGwAABlJJREFUeNrtXFtoXEUY/rOne8vunixYqoiXFUEKFVyxGK2XRhGUVEnq\n",
       "g4oI3YcKokjWNhhIwWye+uBDgnnwQTSLFCsrMSteiq3oenmwDyUprQUFzYoPEkESa5qml2SdOTdy\n",
       "zsz/D54DTULmh57Q830zc2b+M7P/fPvPAqyyv2FtbIYCEz0LtYknCILRX/vAHMXx/lb3kV+aEiDb\n",
       "Ip+qrQtgsoLjrx2E7FslooJl9vBXJfczk02q3bkywL46Cu+8nV2+IWpIXWSXTyTAe+MVqt0+hvaV\n",
       "Ufh0kV32EuWTS+yyTxwQszzUoNqd5JWj/UlbI/gmUX7LPB808QXIwBTlHdgKsGs77oUCv95HlO/o\n",
       "4v2tCvdfgBHibYTUwsDgORweL6tmywhnDIlN1GGuSrlnBeBbfEDuqqjaHeKMyV6h3j0nJrso9+SZ\n",
       "E5dQ+Fb+WkGRqKCHX/4RbncyDxQo97DBSFzE+2utAFSnF/jisygZZojlKfewMW6/gMLWzE2DYvre\n",
       "LYxonFWbm6fcwyoemSZXFRhTTF/jV+H279yFK0S50+zZbsb9l2UjeJJyL+/U08Jyt7N1BrI9y/hE\n",
       "mmjVamepdeWB7o96Cbh95nLtsa9BmzZt2jaomdNr0y75SQT7W921s5XwIXuShfxPfSxDpsh2eUjX\n",
       "vgThQ/YONpx9sg+V4yukF9hHdvwKhA/ZeUiXkQQV6dklcmu0RIY46pCdh3RxMcSBP5NXqXbbmRdy\n",
       "t0D4kJ2HdOYl8X49u6jYkRnvVyKE7Dyki18WbscbqVUPkxLd8/jAxKq3pqII2SvSkC55SSBkwGQP\n",
       "Y7xq/y9WkYR02W0A9zqTfDsSsmO4vSNjsWiQ0H/iOBuJwwewYXqEd6qSGiiQITuK2zuyjnyQYLBx\n",
       "Os/+foe1yz3DdqDZAh2yY7i9I+srBQkZ9u82r93OrwT3LNobG7uYcaiBhOwYbk1fY6tAeMaRNux2\n",
       "66dkO7LUslssk51GQnYMt6bvQ9NBgskXkp6m065RfEdYvBlh7xm32D3pOhKyYzjvVHwHBAhGz3IR\n",
       "fmj97Pn3nCTinnjSKwa5EhKyYzgL+Y/saeIEp110qXaKdTRD4hiBtXs/82SeKGawD7vhsDhCmJ05\n",
       "BsMNSGKbfvPdK+XUTQCDIXGS0JC4z/fIov//F44QssWfhsli3+eey0fBEUICjn1KFitlDhWj4GqC\n",
       "Nm3atK1Xi9UVhB0RcaSB3YotsLEcDccaMFQDUoyIG/qd2oy2Vu/zWs1fbdq0adsYti4Fd2WKDHR2\n",
       "10qzOIymyCgEd1WKTPL6Ipy8g6gAS5FRCO6KFBnjURZbZYga0BQZheCuSJHJXccucUJfwFJkVII7\n",
       "nSID4w3eJ+LjFUuRUQnudIqMed4abML/WIqMI7g/bDtDdI+TIoPgafcrD6y8lyITJNiCO7xtxyPC\n",
       "g7spMggec98NrLyXIhMk2II77h46RabtX9V2AEmRcQV31D1V8vujmDX3fyQqQFJkHMH9Wcvxot7u\n",
       "pshguD1zR/HybopMkOAI7mPWeIl6u5sig+H8azxIF/HybopMgOAI7uaDBZDq7U6KDI5PlSA7Bjju\n",
       "pMgECJ7gvsVekQS51E2RwXAwPqt9DjjupcgghN32V23oOhsVxwin0rTeHhXHCLveIPX2yDhFUOnt\n",
       "UXGEoNLbo+IYQaW3R8XVBG3atGlbt6b19oBpvV1bCNN6uzZt2rStP9uYB1JDq+0RD6SGVtujHUgN\n",
       "r7ZHO5AaWm2PdiA1vNoe7UBqeLVdOJDqV8wlB1JXN5KWCMT+h5AcSLUIwoFUv2IuOZC6uvcxiSDu\n",
       "Hx3JgVROiHggNbTaHvFAami13T6Qmvji8GDyZWuAA4q5o7a/8tJA9fUPrb75MthdtR3DPbU9QHAO\n",
       "pCb2ltqqtmQZUMwdtf3FbXCjnULsz2B31XYM99T2AME5kPrHAejozfCXLqiYO2p7ZwEuwJf8RiCD\n",
       "3VHbUdxV2/0E70DqURiGmD1Avlnjqu3t5VQe7rRr8r3djtqO4Z7ajhBugH6Ys2eudK1tqyS7zHnr\n",
       "BZBmsKtwhGDOsx7vJxTzOfbAia5RNINdhSOEeBV+g78O4or585BrmkeLaAa7ClcRdIa733SGu7ZN\n",
       "Eb7r35O5JuG7/j2ZsOE7qMJ3325F/57MNQnf9e/JSKbv5v09mf8A5qgC5BUWaYYAAAAASUVORK5C\n",
       "YII=\n",
       "\" style=\"display:inline;vertical-align:middle;\" /></a>"
      ],
      "text/plain": [
       "A & B & C & D  \\\\ \n",
       "  A_{1,j} & B_{1,j} & C_{1,j} & D_{1,j}  \\\\ \n",
       "  \\colon & \\colon & \\colon & \\colon  \\\\ \n",
       "  A_{i,j} & B_{i,j} & C_{i,j} & D_{i,j}  \\\\ \n",
       "  \\colon & \\colon & \\colon & \\colon  \\\\ \n",
       "  A_{m,j} & B_{m,j} & C_{m,j} & D_{m,j}  \\\\ \n",
       "  A & B & C & D"
      ]
     },
     "execution_count": 21,
     "metadata": {},
     "output_type": "execute_result"
    }
   ],
   "source": [
    "ExprArray(ExprTuple(A,B,C,D),\n",
    "          ExprRange(i, ExprTuple(Aij, Bij, Cij, Dij),one,m), \n",
    "          ExprTuple(A,B,C,D))\\\n",
    "    .withStyles(orientation='horizontal')\\\n",
    "    .withStyles(parameterization=\"implicit\")"
   ]
  },
  {
   "cell_type": "code",
   "execution_count": 22,
   "metadata": {},
   "outputs": [
    {
     "data": {
      "text/html": [
       "<a class=\"ProveItLink\" href=\"__pv_it/7035a0486086d77e186c574029034f015eb230070/expr.ipynb\"><img src=\"data:image/png;base64,iVBORw0KGgoAAAANSUhEUgAAAWwAAAB5BAMAAADv3QYWAAAAMFBMVEX///8QEBAiIiLu7u5ERES6\n",
       "urqYmJiIiIjMzMx2dnZUVFRmZmaqqqoyMjLc3NwAAABb1yYoAAAAAXRSTlMAQObYZgAAAAlwSFlz\n",
       "AAAOxAAADsQBlSsOGwAAB5dJREFUeNrtnF9sU1Ucx3/bpf/W7q7EicaojJgYIibUiA5BpSMmmKHp\n",
       "5gMaY9I+QGI0hgqLSyBxnQ/y4AONPPhgdItZxNSM1fiHCEbnnwd5QEpAE01kNT4YSMgmdLCBXT3n\n",
       "3NvS3nN/v6NcqkzPL1kJ9/v7c3rP7557t/vJARBmFmAxWvsMpW6t9OZOZgiH7t5c6jQuD1R6x34q\n",
       "EvGBns7c2Io4rS9NScePkcOGToC2OaLqTTE4cicRXwbw/0EV6GCzHYjTers87EMLVFLzIoDvMiob\n",
       "G2MAYSJDkMXDB1SFZJalyeP6Xqb7+5xHQ6fnqKR+pvov4h12A/vwRYnZ4NmTKaLCCBuSkcb1IaZH\n",
       "pDb7LUBOYRtrofbb8ZqT/IwS52oJb8HpLFFhCiANxNWTAChGpKP5yAVq2C1xMN5Bk5rnRKcQRTt4\n",
       "1yZHiQol8FGTwS6OoKz7JoPzdZ0od9amwfG6KMcAQ472cYnn0z+UxR1853KJIlqA6fNwtijJYTAv\n",
       "sfP1gvW/VilqqAiRZQD324v7yka11b4uiHh+ZKIPdwjNwSuAFmB6aWyFLA8cPlQC2LMDm6Ie3sCZ\n",
       "4GCXewudF4Mm4hP843fCgd02wmBgBZh+HtaDU+aXMO/Pr7CsbCpgexoi7llbxZr/LRFf4qvRBcKB\n",
       "Nb8J3VgBsWzfB045zH5W1Ibd/Zm07F4Qc2yHGbsnG2Vrxc4S8bz574njDpDkzb8TK2At6+CUt1gr\n",
       "kJ01f1Radtm4guVqWDhSkG9GEIoR8az5jZ+JAqwDWZpRrIClO+ub/EbBL2SR1Yi9KXUWc+g/UQ27\n",
       "N+RcoY+lILIPiHjWRU/kCQdYzX76+9AC4qQ66huJcgy+qfxYa70fnDebqUu58cdqYfKzgfFR7mMA\n",
       "Mv6RzwkHY7ySy/WU0QJcL+L17azow4Ud1oE9y6nivRZAZJb1AdbFUSKrwa6NYWJUZLzXAu7y6amD\n",
       "MDwJAewmbL51OR28FWAXoqvivRag5Em3x9r6byy35t+K91rAXY7Evh8mq37d/lSUyqqK91rAXfbD\n",
       "wQ/JrKnw7hj1ZK6K91pAIWvTpk2bNm3artgqhd6a/7cTuOlGWRG0QfEn8KYncNdVTyiGarqankA/\n",
       "Q2n7P9liXUkW57qtTZs2bdq0aUPs7OIc9hQl+hOl3PijlIdXfGdgaW9uYyet9yyTDkcq5JdqiQNM\n",
       "ZHDdO77Dn+4GFLr8GiE8QZ0LmE4DJPEHOO/4jo8TFuuJBFzfJh1+eyRDDXt7Rrx0x8w7vhOa5Z1G\n",
       "JOD6d86jZnpokhr2BPs5js+Hd3ynfQYCLpxJfQITpCGG+QtowtjFsm4lql4DfIc5bKEG0FGAV+Wj\n",
       "zwj0y7DOp1w+WBrcxa+Hh63/STNcxXcQ/Qq+gzok7xpboBIks+YpWc7DNDsVIat75dPKEYcv2XS8\n",
       "Yf1y5fxeVXwH02v4Du4wkgl2UQlGejdGJTmw+fBEnJiiJVHBBaHLo43v4GbjO+RtI0/91Wkq5kIJ\n",
       "sku4o4vqrFGSA6zhO6hV8R3KoUhxgGUwJHiRfVFojYJPvMx2YWdgL2uQtll4UlxTMnxTxXcwvYbv\n",
       "oA4+7hCI4boA5xwyR/DYChTawGfJhZ3hZBrsLcA+0QwyfFPFdzC9hu+gDqIDzyh0p/wLb98F+FXg\n",
       "Hi7sDBxnX+22mPkgbyQ3+MbCd3DdxndwB95mvhvpBM7wNZUTEEmUs7DJcpFWcA7XnGSts8RqPvnR\n",
       "wMZ3ML2G72AO65jD2PICpR9Aw43zYmVB4RzYsFb8s3C1utcE7nKkkCXhHDgaouEble41gbts7C9S\n",
       "cA6bq5dpOkele02Ayyo4RwnfeKZ3FLq7rGBnlPCNZ3pHoSOyCo5RwTee6R2FrsyvTZs2bdq0aauZ\n",
       "pneak0DTO9q0Xf+m6Z1/ct3Wpk2bNm3atLnaf5HdUe68Ywzk3jVxfCGQKOUeP0BVaA67o9h5B17c\n",
       "CZHXU7jON87ZPklVaAa7o9h5B9bcwT6+IDJwviFMvaRoCruj2HkHjvNfTfuJBJxv8FFv3JvC7ih2\n",
       "3gkJdOs1IgHnG8x5wqEp7A698w5Md/HPtUQCzjf4LhEOXtid+l5qbM3GnXec+ojMUzTGC74hMI87\n",
       "VNmdOms8Sxa745Qtdqf+16eGKHvnHUxfLU9EY7zA0tpmcYcqu1NnjQSRxe44ZBW7Y+28g8rLxR+L\n",
       "YmRnsnmO0reNa8/u2DvvYLZarPwZsnNZghTd/FfL7vg/2bMr8Jyo3ojP2DvvoLpYsUN4vFi2jU7C\n",
       "wWZ3nn92cPSl98Rtt5Egstgdh2yzO/7+VMuo9Rq+EZ+xd95BdQ6Swj5cF8v2QwXCwWZ3ti2DWyxQ\n",
       "wUEQWeyOQ66yOzugoy/MVxQHPmPvvIPqfN+yIzFc553rWwWEg83udHfBLHzKDzgIIovdaZRr7M5+\n",
       "GIZWa3Lqb/+1nXcQnd2Ve9/vI/TxSm5sc5FwqLI7belgFO62Bppq1PmDGCLfzB5mpq0F1RWf8aor\n",
       "HVoygbg5I5rfjSByl80Zdjq24viMV13tMM1OqD+OEkTusm8UTsGZnSg+41VXOzwN7UVzfwwjiBSy\n",
       "Vz7n+tx9p+n8TnN232k6v/OXdt/5E+G+Tg3ojO+XAAAAAElFTkSuQmCC\n",
       "\" style=\"display:inline;vertical-align:middle;\" /></a>"
      ],
      "text/plain": [
       "A_{1,j} & B_{1,j} & C_{1,j} & D_{1,j} & E_{1,j} & F_{1,j}  \\\\ \n",
       "  \\colon & \\colon & \\colon & \\colon & \\colon & \\colon  \\\\ \n",
       "  A_{i,j} & B_{i,j} & C_{i,j} & D_{i,j} & E_{i,j} & F_{i,j}  \\\\ \n",
       "  \\colon & \\colon & \\colon & \\colon & \\colon & \\colon  \\\\ \n",
       "  A_{m,j} & B_{m,j} & C_{m,j} & D_{m,j} & E_{m,j} & F_{m,j}"
      ]
     },
     "execution_count": 22,
     "metadata": {},
     "output_type": "execute_result"
    }
   ],
   "source": [
    "ExprArray(ExprRange(i, ExprTuple(Aij, Bij, Cij, Dij, Eij, Fij),one,m))\\\n",
    "    .withStyles(orientation='horizontal')\\\n",
    "    .withStyles(parameterization=\"implicit\")"
   ]
  },
  {
   "cell_type": "code",
   "execution_count": 23,
   "metadata": {},
   "outputs": [
    {
     "data": {
      "text/html": [
       "<a class=\"ProveItLink\" href=\"__pv_it/c487a7a7af1d8181232631bf5aaf06c3a2a399000/expr.ipynb\"><img src=\"data:image/png;base64,iVBORw0KGgoAAAANSUhEUgAAALgAAACSBAMAAAAEKh2kAAAAMFBMVEX///8QEBAiIiLu7u5ERES6\n",
       "urqYmJiIiIjMzMx2dnZUVFRmZmaqqqoyMjLc3NwAAABb1yYoAAAAAXRSTlMAQObYZgAAAAlwSFlz\n",
       "AAAOxAAADsQBlSsOGwAABotJREFUaN7tm19oW1Ucx39r2vxp09sIo4j4p8MXQaERh51V1lSESRWS\n",
       "+qAiQvOwgSiyuBYLHdjUB/fgQ4N78EE0QYaVSG1EcLiJxj8vPmxr2RwouEZ8kAmSurX705nFc+49\n",
       "J3/uPef3u/nzMs0h7dLL535z7jn3nvvN93cHwJuxCmT7iyQ0Kv0btPg6SWhUztDiwTKJaFRO3CT3\n",
       "7FspUIhaJXDxGin+QTpJEBqVP3z/kJOVmM8TiEYlF7xCjgqciROIWqUn779e/cuv3PNFWEwBeKxx\n",
       "Vw5QvUoF6wNjm+34qrWpS7lrDooZNqwJ84/71MfGVWqbic2cPLEJcOQQcsi+p06uRPBRsVTszcO6\n",
       "c4n9+x2y5wjAwBCqLVUcxwOwqyI+8pV6VKArBD1zpszhPGhVXnlpNvP6x1XsWXFtW+K5U6rJipsX\n",
       "d2AszGWCqjVEqBwYhDvA7IOJGSH2LloQ4p7we3UHW+Iv+I297b4Jv5vIQ4EcjK3yV+11YKkYI0Ow\n",
       "BV9KzBMtheGH8s+VMT9f16H7+Wt3+SwEo6UU7LMWqDh05firphNSpTfhD8EDEqs2IY4sM57L5mk6\n",
       "gKwyO5K+iLHhxJj4I+waCiEr42rKwy6lBeSkKbK+eyMO7OL6cVjIgy+D9Hyp4L8TrPnStBegv2As\n",
       "hZVYvn6kVL23z4prLBj+aYHY6/v+50MuxBWYF45/TuwV7zscdiHuEuu0W63tL09kzyVbZbzRzezy\n",
       "k87tOwF6KW9BMzvYnWrF8fnGVbZg3yCcBc0U2a1oKuc4INYj71Vc3AVzkPX6YMK+tZdZvP67cXEX\n",
       "zAr7WSsoBsvzITGhLhg2K6NOz7G4b3Y5brMyGgYxRf7N2bnzTlM0X4DgIMDDq6B3PIJBTJGP3cG+\n",
       "jTtM0Tj7SSf9s5gvsRhsVLrZChtwnqzchLFpDmLigkHaQEZ1Pvm5N12JCXG14xEMZooW2ZD0btlN\n",
       "ER8sP/Mmlrja8QgGM0VsVmBx1W6K+tlgTZ6V4tzKOE2RYBBTBGvsEr4rbDNFvevb2eWnQYrbb9Cm\n",
       "KaowWlMEy+Vs9hwbB40pEuKY42neFDFxyvE0bYqM928kKMfTmily4XiaN0UuHE/zpsiFlemYov95\n",
       "88xkPzJSrTIa4rVpCL5DfKGgGTWx+1726xs8B6IZDbHGz/ZJvOM0oyYCZr7zNp4wkYyGKJrr+B7c\n",
       "B5KMhkgnFPmOhtGborTTGvDIaVigmCmSjN4UDTs/kEdO95irVxg1RYKBholhc21PoqZIMg0T5rkZ\n",
       "ANQUCQYxRYLwfnFkzvdyshI58W8EcBQ3RYJBTJEgvJPxHRkrmzAjJx41/hjWmCLhfgSDmCJJHIKB\n",
       "WF+qGjk9OvFJTGuKhPsRjN4USWKJOYquvCNyao8puh1moOh3RE5tMUXGBuv7/oA9cmqPKerJwAX4\n",
       "c1oZObXPFCkip7aZIlXk1DZT5CJy6rRbss2UJ479UmiV0RHsu6CXKhTRjJrw8y/Vn+HaNKMhfDwO\n",
       "mMLtHM1oiG5eDCziRpRmNMRAhH9mBhWnGQ2xyG9/86laLwM6Zq8WsalUkqKkmXeg5TPBwLtaRBK2\n",
       "pCjK3/yNl88E0zjBK2reK3j5TDKNEuYJ+mAELZ9J5rmMDpGEPSliJ6jnV0DLZ5I5elmHSMKeFLET\n",
       "9JkcoOUzwRiPDQlEbK82STiToie+BsDKZxWmOyERc3tNHCuJ5stnMLaHQpovn8GpAIU0Xz6D0Tco\n",
       "pLXymRsEmi2fuUA03smFl3FpdzpJ0X+0+cZ3Zo/tirTI6IgBtjb6cHEXjIaY4k+u5HBxmtEQ6Zj1\n",
       "kAfWaEZDrAMkIImL04yG2DSfAsEbzaiJnkvZaAFPiiSDlM9sKtI6Ba7Bm0RSJBmkfCYIW1LE7619\n",
       "4MHLZxYDjRPMQhowgpfPBNM4McWPdRpNigSDlc8swp4UmdVCI4MmRYLBymcWYU+KzOxrMoYmRYLB\n",
       "ymeCqE+KPLzwNV5Ck6IKo3+mSBKdpKiTFHWSok6rhDy3TWTHB1tldEQJ6CuDZtSE+bDuASIqIhkN\n",
       "4dtiv04ThpJkNET3Brv95YGKighGQzAL+RY16TSjIaZSxgVAgyLJ7EWQOpWqdUpPPB4inrO2GCQo\n",
       "koQtKGIWMsysLxoUCaYZogSeGB4USaZxoud6TWihfs5aMPqgSBL256zlA1JIUCQZfVAkCVtQVPm/\n",
       "F6qgqC4qwoIiSdQHRQCj69ufaoMiEQkJRhsUVVQ6QVEnKGo2KPoXpCtNgN4hHDYAAAAASUVORK5C\n",
       "YII=\n",
       "\" style=\"display:inline;vertical-align:middle;\" /></a>"
      ],
      "text/plain": [
       "A_{1,j} & ..A_{i,j}.. & A_{m,j}  \\\\ \n",
       "  B_{1,j} & ..B_{i,j}.. & B_{m,j}  \\\\ \n",
       "  C_{1,j} & ..C_{i,j}.. & C_{m,j}  \\\\ \n",
       "  D_{1,j} & ..D_{i,j}.. & D_{m,j}  \\\\ \n",
       "  E_{1,j} & ..E_{i,j}.. & E_{m,j}  \\\\ \n",
       "  F_{1,j} & ..F_{i,j}.. & F_{m,j}  \\\\ \n",
       " "
      ]
     },
     "execution_count": 23,
     "metadata": {},
     "output_type": "execute_result"
    }
   ],
   "source": [
    "ExprArray(ExprRange(i, ExprTuple(Aij, Bij, Cij, Dij, Eij, Fij),one,m))\\\n",
    "    .withStyles(orientation='vertical')\\\n",
    "    .withStyles(parameterization='implicit')"
   ]
  },
  {
   "cell_type": "code",
   "execution_count": 24,
   "metadata": {},
   "outputs": [
    {
     "data": {
      "text/html": [
       "<a class=\"ProveItLink\" href=\"__pv_it/1929c8d82de70794994f5b2853be02ca147213700/expr.ipynb\"><img src=\"data:image/png;base64,iVBORw0KGgoAAAANSUhEUgAAAWMAAABVBAMAAABuuJjWAAAAMFBMVEX///8QEBAiIiLu7u5ERES6\n",
       "urqYmJiIiIjMzMx2dnZUVFRmZmaqqqoyMjLc3NwAAABb1yYoAAAAAXRSTlMAQObYZgAAAAlwSFlz\n",
       "AAAOxAAADsQBlSsOGwAABX9JREFUaN7tWl+IG0Uc/t2lSTb/9vJQDpVa4lvhfIgoni3ixaeKCnf1\n",
       "QaUUDHKFwyINtRi4gzbnSx8vINgHsQ2+nASOBASrrQ+x9bXcldaCL16kD9Ki5LBXe955jbM7s/mz\n",
       "OzuTnZklYveDkOzufN/+djIzu/v7fQAm9DUQxx8wDKQ2JMjr7MOz7dert0pi0pHpzerKa9RDqxIh\n",
       "J9ucBnsB4luC4iM5gBr1ei8/Eg85UWsyj+sPAcI7guKtAsB7dcqB2N0t8ZAvXGT/6xGkHXkoKH4S\n",
       "aZ8sUA78Fv1HOGK9cLbBbBBHgy61X1C9hj43aP9iPfmX+LiA1TxvOIa+FJx+xjw4dICyP9zQ/hYO\n",
       "+RgslZkNlg4XV/KC4tpmcf42vaP0bYDQh+bGix6X6Dq0KkzW2SYkx60W5CSDIoqWhR/yFuv97qA+\n",
       "feXyJsC5U+Z1FTN23hQ6WWiX/HCIvnGllqOxOngVfS6WSAt8kl50lM0fNuxJo7Vhy2KNzHRIKPg/\n",
       "0fdVvMw6Tj5qLDIT1g8bJgHGMjRWB9tgTnrS4qrj+ETvKWwYq+DVBrNaPeMC4BlGyJxxAaNpi3Vi\n",
       "rui4Ks2Y2bUZ95CZ8wBNgvgDizWrL5D9b5ObrkjI4Ty+22PW8XHYTxuO2i6IhYzmASytWazl35/D\n",
       "652OOgmmm2Ih/2oMuEeEpU9m4L7j8QXJH7kpGPIN1ClPZy3Wk3kNj+Tp3Sz82P5ZKOQX2jchOb1b\n",
       "Jqx4IZy230jWt6srb4JYyCvtavVWw2LpO9/aGwiNZevZyGSNlBLlErOFx17uCy2Se0t37j8oEXKo\n",
       "jKb06LESs4V4yAfRf/hJrH/33fVLsNjQv9gpCDxoIJa2D45C9DN2C+Mk3oFDSzXjc5SDDYlH/aSC\n",
       "Fgy4hJbMSmheU9CCcbkuoUVkuiGvoAXjsRsCBAgQIECAAAEC/H8wteYnmZYLGhhuZFouaGDwyRMy\n",
       "3TkRjKj/JKRqbMOBVI2NA5kaGwOrPoYsVWNzh0yNjTvoZGpsrpCqsXFf9iVqbO53gwFqbOK3kkFq\n",
       "bN5vJQPU2MRvJQPV2LzeSkiN7RVzQ1M9MEiNLdQ0txQtHbjGBudxd6pej0iNLYbzrQfUiOIam1/A\n",
       "NTa1mlaNzSeQGptSkBrbOxVjY/J7xRGTGlt43uydhYYSUVJj+9SsNdWvKw6Z1NhiU0b6OJH09jDj\n",
       "srSSGpv+csbohuznitdlUmO7Y9ZQno/VFazLnRrbHjzebqtdlzs1tsP4AvIqH/GnXjK/fHraCN03\n",
       "F42xpkrR6zGjxKal/Qk5uVY2SmyLSkUPnYHFBkQrPvXyclPbBzCvXLjhOtiU9LTrTJHQzP606F/E\n",
       "cC31rvJhF4FLX/sYcj6xkIUAAR43yDiQh5SWWfcvLSOVWXEncx3IMmkZqcyKK5nnQJZJy0hlVtzJ\n",
       "FyTevXhpGSn3siuZ60BmgZeWkXIvu5K5DmQWeGkZKfeyK5nrQOanZbiZFam0DKWjTAdyF14czCQt\n",
       "w82siKk7yMTBjB3IPa/pdi8yy7/MTcvYMysOdZZ/2ZGWIQ5m4kDuWaYzlFdRun+Zn5ZxZFYcbkeG\n",
       "f9lBblnjwnAgR745Nx/9oEQV5aZlTswVKx9/ZeywO5hJZkVM3UnGDmbiQI4cyY9U8JudB1GSljk+\n",
       "Dk/h9za7g5lkVsTUnWTsYCYO5DunYGwmUfYmaqVlJjPwAL4DioPZyqyIqFPIpoO540BeRm/kow1P\n",
       "op20TLygpeFZc/HvdzB3MisC6hSyzcH8BJyGluaxH6yJXIrm9I0SuDuYZdS75H4Hs76BLmY2JuZg\n",
       "bqHejeTK7g5mKfUuud/BHK7AL3DvIzEH81FINfXlrLuDWUq9Sx6Kg1lGfTgOZin14TiYpdQJ+V8e\n",
       "KvRxWAWOsAAAAABJRU5ErkJggg==\n",
       "\" style=\"display:inline;vertical-align:middle;\" /></a>"
      ],
      "text/plain": [
       "A_{1,1} & ..A_{1,j}.. & A_{1,n} & B_{1,1} & ..B_{1,j}.. & B_{1,k}  \\\\ \n",
       "  \\colon & \\colon & \\colon & \\colon & \\colon & \\colon  \\\\ \n",
       "  A_{i,1} & ..A_{i,j}.. & A_{i,n} & B_{i,1} & ..B_{i,j}.. & B_{i,k}  \\\\ \n",
       "  \\colon & \\colon & \\colon & \\colon & \\colon & \\colon  \\\\ \n",
       "  A_{m,1} & ..A_{m,j}.. & A_{m,n} & B_{m,1} & ..B_{m,j}.. & B_{m,k}"
      ]
     },
     "execution_count": 24,
     "metadata": {},
     "output_type": "execute_result"
    }
   ],
   "source": [
    "ExprArray(ExprRange(i, ExprTuple(ExprRange(j, Aij, one, n), \n",
    "                                 ExprRange(j, Bij, one, k)),one,m))\\\n",
    "    .withStyles(parameterization=\"explicit\")"
   ]
  },
  {
   "cell_type": "code",
   "execution_count": 25,
   "metadata": {},
   "outputs": [
    {
     "data": {
      "text/html": [
       "<a class=\"ProveItLink\" href=\"__pv_it/cdd18c2b854881e6991d89f681cdebb03e424b360/expr.ipynb\"><img src=\"data:image/png;base64,iVBORw0KGgoAAAANSUhEUgAAAKMAAACuBAMAAACo3KBtAAAAMFBMVEX///8QEBAiIiLu7u5ERES6\n",
       "urqYmJiIiIjMzMx2dnZUVFRmZmaqqqoyMjLc3NwAAABb1yYoAAAAAXRSTlMAQObYZgAAAAlwSFlz\n",
       "AAAOxAAADsQBlSsOGwAABQVJREFUaN7tW01oG1cQHlvWai1Lax+SEEoTnFMD6UGHELchxMqppS04\n",
       "uSQQAtHBhZJSLFJTgw+JfMrRgoBzKElEDnURGBkKNbVzUJtcQxzyA73EKjmEFIJM4/w0jqI+7Xur\n",
       "lbRv7H2zLzTg/UDSaqVvtD+zO/N9YwM0YC0DFU+R9clVcsgVZP1tcshEHflg8S01ZF+pIl3f++QV\n",
       "NeSVqznp+sexN8SIVvZ8WfrBfOIFdb/hdka2Plo2/yWGPAXTeflPWa8BIt/Zbw4opeg8VAut7x32\n",
       "+NLiGsCFs41lc2KwgzXMvhWpiYUOxL5cKqVb3jvsSBbgH/b6B0+0zpDd8+xpn7PQjiGA/rbvC3Yf\n",
       "e+zBQ26839A9AMavFyZjZ3It7OPislIPGc3Y17JxLNNViBVctjXAnkYqlJB/sUfPW3h0FvqP9uWb\n",
       "7MhILQU3638SQu6v34XESC0PszAF3WUJm3AsBXbCOFRNechPSSGtVbado71e9pOVBZgqW5fXs6oh\n",
       "owV4CH9/j7DLEAQydiIVJKKUbQTayGDsECFChHgnGF7WzpU0E74RhPseI4CEAf0SBrRLGBR0CYOB\n",
       "LmHQVPchYVRT3YeEUUx1IWEO8/5ey6HkEgYu8c3J6QjJJYxOOBJGI4SEOWELhqHrOkIKCXPxmX3y\n",
       "b2nISyFhrEO2+kj9GDwvmxKmh/fgDzTegoc/sV90Xu23bA1iDmgMefAc0yAQK2i+JZUhmdEbMZG6\n",
       "P6V5Iw1Y+CVsd/4PPNXfNqxobxtQE5LeNmAmZIC2ATMh6W0DakJuDqxtwExIH8DaBsyE9N02SH7K\n",
       "NiEPEBpT0TZ4wE1Ir3HZUqow/xJrG4QJidlYG/iXaNvATUgR8ttvJuYV9ttuGxin8MPPLWxhQoqQ\n",
       "X++A3aptA+N8AJMtbGFC8pDW0CA8833LEG0D4zyH31x204TkWxnPRv0W1mbbEM+yYvyxhM1DduX6\n",
       "8qpXZ1culrZWc142CxnJQxW6T6mGrLKtM9J5D7thPZofwkmIzagm/ElIVqzZlJydCFboZStvBAop\n",
       "ZQfrTzR3NyHeFYyRteLc5yTqaP2L4j3ZxdaVBijRyu42dquQld0quzmfJjk91kt2v12XfDDGtnAs\n",
       "SzpmbAuNl5IPSuxxh9TCxFk1SO6WH5CDe0mHkp2FyDXJWTDXJiYf0JJl+rOJOdmVHWOF5/cMabR5\n",
       "vgKJHa0rBLuHlYveV6TR5hH2aO36HHZ/gZ82wmiz0b205YpgT7OjEX9OGceZjbatdNQ72mQHBKaX\n",
       "KSEbZ8GseUebcIddAbtSlJBJdhaO3fWMNmGuXizea3TByiHjK6+Lc1+xhXC0GY42Q4QIEeJ9QTja\n",
       "3GISZqPmmSphUJuBLGHQvPQjYRTz0o+EUcxLuoRBm2chYTSONoWE0TnaFBJGJxwJoxFCwugcbQoJ\n",
       "o3G0KSSMxtFmU8KEo029CEebITCgjmGAGo85hvQajzqG9BqPOoabA6vxqGO4ObAajzmGAWo85hj6\n",
       "r/Gy6tLuGCrXeA+EY8itR+MjWV1BzEZPjXfY3DF0rMft0roiNxu9NZ6zhWPo/L+Cyl/eOTalm+Kr\n",
       "zQNi1hxvy0g/9l/tRI13R5uCLRxDZ2h47ob/FBU2pTva5OymYyiGhjPgO0VFjXdHm51sHrK6pJ70\n",
       "7mizg81DjkYHK8r3o+Zos4PNR5uz5qDyRN8dbbazxWjzIfykvOfuaFPC3kKjzf8AP1D587ViMoMA\n",
       "AAAASUVORK5CYII=\n",
       "\" style=\"display:inline;vertical-align:middle;\" /></a>"
      ],
      "text/plain": [
       "A_{1,1} & \\cdots & A_{m,1}  \\\\ \n",
       "  \\vdots & A_{i,j} & \\vdots  \\\\ \n",
       "  A_{1,n} & \\cdots & A_{m,n}  \\\\ \n",
       "  B_{1,1} & \\cdots  & B_{m,1}  \\\\ \n",
       "  \\vdots & B_{i,j} & \\vdots  \\\\ \n",
       "  B_{1,k} & \\cdots  & B_{m,k}  \\\\ \n",
       " "
      ]
     },
     "execution_count": 25,
     "metadata": {},
     "output_type": "execute_result"
    }
   ],
   "source": [
    "ExprArray(ExprRange(i, ExprTuple(ExprRange(j, Aij, one, n), \n",
    "                                 ExprRange(j, Bij, one, k)),one,m))\\\n",
    "    .withStyles(orientation='vertical')\\\n",
    "    .withStyles(parameterization='implicit')"
   ]
  },
  {
   "cell_type": "code",
   "execution_count": 26,
   "metadata": {},
   "outputs": [
    {
     "data": {
      "text/html": [
       "<a class=\"ProveItLink\" href=\"__pv_it/344c007ad8cfa7a4c0fca75b9000833cbd95771f0/expr.ipynb\"><img src=\"data:image/png;base64,iVBORw0KGgoAAAANSUhEUgAAAKcAAABVBAMAAADeYunNAAAAMFBMVEX///8QEBAiIiLu7u5ERES6\n",
       "urqYmJiIiIjMzMx2dnZUVFRmZmaqqqoyMjLc3NwAAABb1yYoAAAAAXRSTlMAQObYZgAAAAlwSFlz\n",
       "AAAOxAAADsQBlSsOGwAAAvpJREFUWMPtWE1oE0EYfUma7KZJtjkVEZF41kMOYlTE5O4helEoPeRg\n",
       "oViEUIuBHnR76rELgh5E3Vu9NSBYbD0s6rW0IApeTMSDVCgJ/uFfGje7k1Q3M212ZoIKeZBk822+\n",
       "tz98mX3vAQ60DfBji1FP1AVIK4z6ugBpvMnYsbLNTxpbqlLr0c2v/KR37+nU+jvlJzenVrxuUXeU\n",
       "41/4rx7rBVo9bKnfuEnHsWDQD6Z9B0KXnS/HfI5sGTWT1jWzuvIJmJ9ubaullHd31m4INciGF8qZ\n",
       "1aUcpStUBD7Yn0/csesiDZbtt8PtDQ8ywEiK0hWzX4d2Id3j6hFMtrumJkvt454nfzUe0nDB/Y+7\n",
       "XROjOEgGzT4Q8lU+0jf2a2ibdGmZFD66dzTfSONZ8xUX6dHmc8TzDYN0DRfDSc8vuO5pe1VxugJ6\n",
       "zNC7SE8IkIYM1BAc/5N0s7KMOUu786PIsQDYXeoBjEG5SdlrCSzWcVY9LUD6lFGPCHCigAEGGGCA\n",
       "/w3ZjT400/RHzxBq/tch5IjQD0eEPjgiJkQcEQsCjog9/D04Iv/D34Mj8j38xBGddr6okm6p64hw\n",
       "yz0lXQ6p64jkou2IpII4ogumY5seyyEljuiG4zvKa1LmlDgi7VTLC4TSt2XMaccRDblW4KXURTp7\n",
       "3PmQuwqsRVuGSE1KJT15zTZEUEzpy5WFhHS3EE+/mJN+ohEsPxjoo7+JrX4IjUofhAYzARURGqwE\n",
       "VEhosBJQEaHBTEB7AUtosBLQnsASGqwE1IfQoBzMSUB34CdBJUKjC24CuoOuLHS3/JQlNEgC+tvY\n",
       "pigPNXp+yhQabgIaeTg/q1zSaaR7C42pyZJ59X6rQBJUkoBGzhUCpvsE8kFKhMbEKPZjtlUgCSpJ\n",
       "QN9OY+RszPBH2hYamRQ+4xE6CWonAV3EHIKWL9KO0Bgu2o/uI62SJ0HdhxnUVJ+XTxDQlZxW1+FN\n",
       "ULW6fa4Xo3wJas0+w0jO6EpQwyZe4/0VvgR1DImqtpgeJKgOfgEFs+4pj6wwIQAAAABJRU5ErkJg\n",
       "gg==\n",
       "\" style=\"display:inline;vertical-align:middle;\" /></a>"
      ],
      "text/plain": [
       "A_{1,1} & ..A_{1,j}.. & A_{1,n}  \\\\ \n",
       "  \\colon & \\colon & \\colon  \\\\ \n",
       "  A_{i,1} & ..A_{i,j}.. & A_{i,n}  \\\\ \n",
       "  \\colon & \\colon & \\colon  \\\\ \n",
       "  A_{m,1} & ..A_{m,j}.. & A_{m,n}"
      ]
     },
     "execution_count": 26,
     "metadata": {},
     "output_type": "execute_result"
    }
   ],
   "source": [
    "ExprArray(ExprRange(i, ExprTuple(ExprRange(j, Aij, one, n)), one, m))\\\n",
    "    .withStyles(orientation='vertical')\\\n",
    "    .withStyles(parameterization='explicit')"
   ]
  },
  {
   "cell_type": "code",
   "execution_count": 27,
   "metadata": {},
   "outputs": [
    {
     "data": {
      "text/html": [
       "<a class=\"ProveItLink\" href=\"__pv_it/946a9a42786fd8d64d7b736b10b55e03fb5197160/expr.ipynb\"><img src=\"data:image/png;base64,iVBORw0KGgoAAAANSUhEUgAAAHEAAAD7BAMAAACve2ZdAAAAMFBMVEX///8QEBAiIiLu7u5ERES6\n",
       "urqYmJiIiIjMzMx2dnZUVFRmZmaqqqoyMjLc3NwAAABb1yYoAAAAAXRSTlMAQObYZgAAAAlwSFlz\n",
       "AAAOxAAADsQBlSsOGwAAA+ZJREFUaN7tmz1oU1EUx08Tk7zm4zWDlCIqdRAEHTKIRRfjpKiQdnEo\n",
       "BTO0UCzSUMVgHfo6dUwmN21wqQRCOlXaLvFjcGtKi+BiIw5SQRK01djaxvvy7stNcz+eFhEs5w8P\n",
       "8nLeP+/j3lze73AOgKXPsF+tKaPe2EY2d0UYCtbUP9wWBcgbokggX1I6ywmAm7OiyONpQ+kcJeHR\n",
       "hCCgJyYKSmeebMuiywrAUlzpPAxw4ZQoMACptMqobSTH3wgjs1DOAJwrmp/dt/m4bxfgedwOWcdZ\n",
       "gWuL+ShoyW5zZ2qMdx4KA7RXaYgeV1cPQAfZC1rfvOCdHeSKvN/tULC76WLBFVY5U+T5+Td5p4d8\n",
       "H6qonBNkQFJF3vnevJNdlXOZ/PyxCOc8W1uBYGwnLXfmatnsagEE92lPe+k5bSmc7rST87zAqT/a\n",
       "TmhHYX3tmcxohiYL5nGiP6rjGiD7a7x0MgYjkkDcyekFFAq1X7l3nI64WJQETjs5XbP4fHEm4EzA\n",
       "8UShfkd6cb9OEwAUGqxdza6KmW9J7TS5zF8VRhZ21TdDKMezLYq0r1fVL7VVi5F4ffT9VDr95GZC\n",
       "x4UsGPzmhNnuJ6In5CloP5TO1OVkTvieHgB9SwyejMuCnXvAk+ru4sKGGDypLpFt2mgGT7roEXD5\n",
       "osSqLaijPQdHAbKdsJ3euakHHGabzy/fS50jw0l7DbxBsx+Wsy/eVhJgtrZjA9lQJ9AB0gnuQqxE\n",
       "nR/GoKMVg0LkiL4V6tR7uuGrdZexnQi8qr2173MG+lrnwdpWNne9gY/+hCcspMsumNdkTFZ3thmB\n",
       "tCGgS70CJ1/LnQRQy+AaMAR06cnAfQnWUUDtB9/DP6BLR0CV0qUjoDrTZRxQKBS+paJwPFE4E1Ao\n",
       "FK59uPbheOJ44niiUH9BmBqv60ClxpsWpNYkOU2NM9lJcis1zsQlya3UONu3k+R2apypNUlOU+NM\n",
       "NElOU+Mjw8nMvaciJ02Ne+emxn23jCYnTY0PdcIRGBc5aWrczJpnfBnmpKlxM+W9CfMiJ02Nm1nz\n",
       "3kC64Wykxv0JLQxnBM5GanwGJsFVaLpae7gNX1SvGKInRNUFd6Gs8c4yOas3mpZXZ+kVctbBdr46\n",
       "qx9CJX0mIq/O8mTgHXy6g9VZKBS+peJbKs4EnAk4njieqH8j7Ayq60B1BslFO4MEgXpnkEK0M4gX\n",
       "7QySy+4MElys2RnE6JKrzqKdQQxQaXUW7QxidMlVZ9HOIAaotDqLdgYxuuSqs6zOIAaotDqr0RnE\n",
       "6LKlOsvuDGKA2lKdxehSUp3FAHVvdRajS1l1FgPUvdVZjC49kuosBqj/YXXWL+hCnk4ghl+0AAAA\n",
       "AElFTkSuQmCC\n",
       "\" style=\"display:inline;vertical-align:middle;\" /></a>"
      ],
      "text/plain": [
       "A_{1,1} & B_{1,1}  \\\\ \n",
       "  \\colon & \\colon  \\\\ \n",
       "  A_{1,j} & B_{1,j}  \\\\ \n",
       "  \\colon & \\colon  \\\\ \n",
       "  A_{1,n} & B_{1,n}  \\\\ \n",
       "  \\colon & \\colon  \\\\ \n",
       "  \\colon & \\colon  \\\\ \n",
       "  A_{i,1} & B_{i,1}  \\\\ \n",
       "  \\colon & \\colon  \\\\ \n",
       "  A_{i,j} & B_{i,j}  \\\\ \n",
       "  \\colon & \\colon  \\\\ \n",
       "  A_{i,n} & B_{i,n}  \\\\ \n",
       "  \\colon & \\colon  \\\\ \n",
       "  \\colon & \\colon  \\\\ \n",
       "  A_{m,1} & B_{m,1}  \\\\ \n",
       "  \\colon & \\colon  \\\\ \n",
       "  A_{m,j} & B_{m,j}  \\\\ \n",
       "  \\colon & \\colon  \\\\ \n",
       "  A_{m,n} & B_{m,n}"
      ]
     },
     "execution_count": 27,
     "metadata": {},
     "output_type": "execute_result"
    }
   ],
   "source": [
    "ExprArray(ExprRange(i, ExprRange(j, ExprTuple(Aij, Bij), \n",
    "                                 one, n), \n",
    "                    one, m))\\\n",
    "    .withStyles(orientation='horizontal')\\\n",
    "    .withStyles(parameterization='explicit')"
   ]
  },
  {
   "cell_type": "code",
   "execution_count": 28,
   "metadata": {},
   "outputs": [
    {
     "data": {
      "text/html": [
       "<strong id=\"Apj\">Apj:</strong> <a class=\"ProveItLink\" href=\"__pv_it/ea3375c3d11f3fb972b4e6b6b1eeaf04df2a3f090/expr.ipynb\"><img src=\"data:image/png;base64,iVBORw0KGgoAAAANSUhEUgAAACUAAAAVBAMAAAAzyjqdAAAAMFBMVEX///8QEBAiIiLu7u5ERES6\n",
       "urqYmJiIiIjMzMx2dnZUVFRmZmaqqqoyMjLc3NwAAABb1yYoAAAAAXRSTlMAQObYZgAAAAlwSFlz\n",
       "AAAOxAAADsQBlSsOGwAAAMVJREFUGNNjYACBtwyY4D6mEM9/TDHu9Q8wxObNb0AX4iuoP4ChleF8\n",
       "ArpYDEP/BASPA0xuYHi/ACHGBDKb3Xv3egc0reYMDPwKaGIbgOoFGNi2p60Aq9gDJFiBdvJ+YGCL\n",
       "b2gCqzgLJB4CMcs/hsdVDO+BLGaD2QwMJv8vM/D4/53A4M5wEGzUNSRjJRhWg+l/SB78x6fMYAl0\n",
       "sgBCjO16tQFD4wEGdiTnc4O9d4CBF8nrTKCg4TG42ohkxfzNIAMYtgMpAPmfL/hsO7IDAAAAAElF\n",
       "TkSuQmCC\n",
       "\" style=\"display:inline;vertical-align:middle;\" /></a><br>"
      ],
      "text/plain": [
       "Apj: A_{p,j}"
      ]
     },
     "execution_count": 28,
     "metadata": {},
     "output_type": "execute_result"
    }
   ],
   "source": [
    "Apj = IndexedVar(A,(p,j))"
   ]
  },
  {
   "cell_type": "code",
   "execution_count": 29,
   "metadata": {},
   "outputs": [
    {
     "data": {
      "text/html": [
       "<strong id=\"Bpj\">Bpj:</strong> <a class=\"ProveItLink\" href=\"__pv_it/47abf2e30365ae702f36cc6b8571cb12bcdaf6680/expr.ipynb\"><img src=\"data:image/png;base64,iVBORw0KGgoAAAANSUhEUgAAACUAAAAUBAMAAAD4luk4AAAAMFBMVEX///92dnaqqqoiIiLu7u5m\n",
       "Zma6urqIiIjc3NwQEBDMzMwyMjJUVFRERESYmJgAAAAeMT9/AAAAAXRSTlMAQObYZgAAAAlwSFlz\n",
       "AAAOxAAADsQBlSsOGwAAANZJREFUGNNjYGB4+//Omb0LGFDBXAYGnl+oQhzfGRjYvqKK8QHV8H1H\n",
       "FeP5wMDAPQNVjPMCA8thNDvWXy8//QDB5QIR9Q0MTPMQYswgLTeBWB5N7x8gfl+AIsT1D0icT+AL\n",
       "f3cKxHUPAhLsP4Divxn48hcsBokFaAMJ7gkMDJlbGFpqGPqBPBYHUaCL9/85c/oSkHedQRNs1j4k\n",
       "c2cxHAXTP5BC4geHCYMj0OgJSCGxvdSBYaUCA/sBhBirAIhUYOBG8iazApBgcti2EskK+RCQAQzh\n",
       "QAoANxI2pBcUAvIAAAAASUVORK5CYII=\n",
       "\" style=\"display:inline;vertical-align:middle;\" /></a><br>"
      ],
      "text/plain": [
       "Bpj: B_{p,j}"
      ]
     },
     "execution_count": 29,
     "metadata": {},
     "output_type": "execute_result"
    }
   ],
   "source": [
    "Bpj = IndexedVar(B,(p,j))"
   ]
  },
  {
   "cell_type": "code",
   "execution_count": 30,
   "metadata": {},
   "outputs": [
    {
     "data": {
      "text/html": [
       "<strong id=\"Cjk\">Cjk:</strong> <a class=\"ProveItLink\" href=\"__pv_it/d03b5f196cc7930b80fba07155722cc1d3eedeff0/expr.ipynb\"><img src=\"data:image/png;base64,iVBORw0KGgoAAAANSUhEUgAAACMAAAAUBAMAAAD1iJl/AAAAMFBMVEX////MzMy6uroyMjJmZmYi\n",
       "IiKqqqoQEBB2dnbc3NyYmJhUVFRERESIiIju7u4AAACU7+9TAAAAAXRSTlMAQObYZgAAAAlwSFlz\n",
       "AAAOxAAADsQBlSsOGwAAAMlJREFUGNNjYGDgu7N7F2cDAzK4fo+BrXUBssibOCDhPwFZyPwBkFBH\n",
       "FuH4BiJFkIXmB4DIh8hC/RegDEa4ULwAlMEKYiwFKagHmc7wACrOrgBSBWKxwZTOZ4C5iIOB4a0b\n",
       "iLeG8wpQHKS7j4HBIRkktHfa8wkMbL8YGDIeMPA9aAEJVSwAWfzk9BaQmQxWQMz5xRHZgT+BmOuA\n",
       "KidChLGA4QUD9wVRDoQQ7wYG8QTmCdwLEULMwBBLQAlHI3Gggx+gCPn6AQ2HMAEfKC5Ms1aaywAA\n",
       "AABJRU5ErkJggg==\n",
       "\" style=\"display:inline;vertical-align:middle;\" /></a><br>"
      ],
      "text/plain": [
       "Cjk: C_{j,k}"
      ]
     },
     "execution_count": 30,
     "metadata": {},
     "output_type": "execute_result"
    }
   ],
   "source": [
    "Cjk = IndexedVar(C,(j,k))"
   ]
  },
  {
   "cell_type": "code",
   "execution_count": 31,
   "metadata": {},
   "outputs": [
    {
     "data": {
      "text/html": [
       "<strong id=\"Dki\">Dki:</strong> <a class=\"ProveItLink\" href=\"__pv_it/7b570335cce2c6d9a4e5acab88a71dd46b7dc4900/expr.ipynb\"><img src=\"data:image/png;base64,iVBORw0KGgoAAAANSUhEUgAAACUAAAAUBAMAAAD4luk4AAAAMFBMVEX///8iIiLu7u52dna6uroQ\n",
       "EBBmZmbMzMyqqqqYmJjc3NwyMjJUVFRERESIiIgAAABmmfmVAAAAAXRSTlMAQObYZgAAAAlwSFlz\n",
       "AAAOxAAADsQBlSsOGwAAAMdJREFUGNNjYGB4+//O2T0LGFDBbwYGzh+oQuz/gEQqqhjfdyDhPwFF\n",
       "jPcDkFhvgCLGfwGk7gCKWP0DIPEerk4LRLwvABLnHTjlIGJ2IOI+iPjKwBCCpPcvEHP+ZOD6gOY8\n",
       "1QsMnBfWJQBZfgegzmPazcDA86opCsg1+gQkuIF6HIEqWC0ZgJZxaQgApff/OXM3C+TqtAKwDx4g\n",
       "WTWXRQAUOPrqSGLn2AUMmAwYupmRxHYxnCxgj2DQeYUWkgwcDJigCYsYOBQBVPAzH4cee14AAAAA\n",
       "SUVORK5CYII=\n",
       "\" style=\"display:inline;vertical-align:middle;\" /></a><br>"
      ],
      "text/plain": [
       "Dki: D_{k,i}"
      ]
     },
     "execution_count": 31,
     "metadata": {},
     "output_type": "execute_result"
    }
   ],
   "source": [
    "Dki = IndexedVar(D,(k,i))"
   ]
  },
  {
   "cell_type": "code",
   "execution_count": 32,
   "metadata": {},
   "outputs": [
    {
     "data": {
      "text/html": [
       "<strong id=\"C_i_to_k\">C_i_to_k:</strong> <a class=\"ProveItLink\" href=\"__pv_it/ca10a48bfe5582bc76fbbd1d91411469b61ed2570/expr.ipynb\"><img src=\"data:image/png;base64,iVBORw0KGgoAAAANSUhEUgAAAFsAAAASBAMAAADGT78OAAAAMFBMVEX////MzMy6uroyMjJmZmYi\n",
       "IiKqqqoQEBB2dnbc3NyYmJhUVFRERESIiIju7u4AAACU7+9TAAAAAXRSTlMAQObYZgAAAAlwSFlz\n",
       "AAAOxAAADsQBlSsOGwAAAQxJREFUKM9jYGDgu7N7F2cDAx6AouL6PQa21gX4lCOreBMHJPwn4FGN\n",
       "osL8AZBQx2c4sgqObyBSBI9qFBXzA0DkQzzKUVT0X4D6HqfrYSrAIF4AauUFXMphKpaCVNSD/MHw\n",
       "AI9jYCrYFUB6QWw2ATzKYSrmM8DCk4OB6TZO5VAVDGs4rwD9DXJRHwPH+wcMfJhKQe6AqmDYO+35\n",
       "BAa2XwwMGQ8Y5qUyMLw3AAbQZwYIA8GDqmCoWMAI5D05vQXkh7MMDKygyA4BYlYHGBH6AK6C84sj\n",
       "UqL7B/RtHoZj2BBBxnVAlRMhbgBMoJipmAPB5L4giuDx7Z3AwIcZU28RTOYJ3AtR5LgwQwY9GwAA\n",
       "H09S1FTa3BwAAAAASUVORK5CYII=\n",
       "\" style=\"display:inline;vertical-align:middle;\" /></a><br>"
      ],
      "text/plain": [
       "C_i_to_k: C_{i}, ..C_{_a}.., C_{k}"
      ]
     },
     "execution_count": 32,
     "metadata": {},
     "output_type": "execute_result"
    }
   ],
   "source": [
    "C_i_to_k = varRange(C, i, k)"
   ]
  },
  {
   "cell_type": "code",
   "execution_count": 33,
   "metadata": {},
   "outputs": [
    {
     "data": {
      "text/html": [
       "<strong id=\"D_j_to_i\">D_j_to_i:</strong> <a class=\"ProveItLink\" href=\"__pv_it/8f31064f94d1e2f9dc574437c610f040402b259a0/expr.ipynb\"><img src=\"data:image/png;base64,iVBORw0KGgoAAAANSUhEUgAAAF0AAAAUBAMAAAAdCCxUAAAAMFBMVEX///92dnaqqqoiIiLu7u5m\n",
       "Zma6urqIiIjc3NwQEBDMzMwyMjJUVFRERESYmJgAAAAeMT9/AAAAAXRSTlMAQObYZgAAAAlwSFlz\n",
       "AAAOxAAADsQBlSsOGwAAAUtJREFUKM9jYGB4+//Omb0LGPABvvt/z5y+BePNZWDg+YVXPQPnBQaG\n",
       "81AzOb4zMLB9xa++v4CBIT8AahnQbL7v+NW/B5r9vgDC5vnAwMA9A7/680C8swHuNpbD+P0L8qKP\n",
       "FZS9/nr56QdAmgu3cq6/5TX7gLQHiFPfwMA0D0gz47aD/QcDgybQTHEQ5yYQy+N3D+8EBgZGWJD/\n",
       "YUD4HQfgP4AIQq5/IP8nMLgH4Va/HugWnm8M6QegbuP6zcAQoM3AwIKhEiIC9CLD+g0MIl+AbG6g\n",
       "2zK3MLA4iDIw+G8AqgDqRWUAgx6YAmY7cDgZAK3Z/+fM6UsgQWCAMZsAaVNQWAXAGCCR0//PnNmr\n",
       "APQ2ii+B7mJQwXAQsoi/F3KcAN3FIIChHllEmxE5ToCeZ8EIVhQRnwokDjcwzPgwcwquIN62koEk\n",
       "EB5ClDIAAKBYFJx/7nMAAAAASUVORK5CYII=\n",
       "\" style=\"display:inline;vertical-align:middle;\" /></a><br>"
      ],
      "text/plain": [
       "D_j_to_i: B_{j}, ..B_{_a}.., B_{i}"
      ]
     },
     "execution_count": 33,
     "metadata": {},
     "output_type": "execute_result"
    }
   ],
   "source": [
    "D_j_to_i = varRange(B, j, i)"
   ]
  },
  {
   "cell_type": "code",
   "execution_count": 34,
   "metadata": {},
   "outputs": [
    {
     "name": "stdout",
     "output_type": "stream",
     "text": [
      "Expected error: One or more rows are a different length.  Please double check your entries.\n"
     ]
    }
   ],
   "source": [
    "try:\n",
    "    ExprArray(ExprTuple(A, B, C, A, B, A), \n",
    "              ExprTuple(D, E, F, D, E, F, D), \n",
    "              ExprTuple(G, H, I, G, H, I, G))\n",
    "    assert False, \"Expected a ValueError error.\"\n",
    "except ValueError as e:\n",
    "    print(\"Expected error:\", e)"
   ]
  },
  {
   "cell_type": "code",
   "execution_count": 35,
   "metadata": {},
   "outputs": [
    {
     "name": "stdout",
     "output_type": "stream",
     "text": [
      "Expected error: The ExprRange in the first tuple is not in the same column as the ExprRange in tuple number 1\n"
     ]
    }
   ],
   "source": [
    "try:\n",
    "    ExprArray(ExprTuple(B_i_to_j, A, B, C), \n",
    "              ExprTuple(D, E, F, D_i_to_j))\n",
    "    assert False, \"Expected a ValueError error.\"\n",
    "except ValueError as e:\n",
    "    print(\"Expected error:\", e)"
   ]
  },
  {
   "cell_type": "code",
   "execution_count": 36,
   "metadata": {},
   "outputs": [
    {
     "name": "stdout",
     "output_type": "stream",
     "text": [
      "Expected error: The ExprRange in the first tuple is not in the same column as the ExprRange in tuple number 1\n"
     ]
    }
   ],
   "source": [
    "try:\n",
    "    ExprArray(ExprTuple(A, B, C, B_i_to_j), \n",
    "              ExprTuple(D_i_to_j, D, E, F))\n",
    "    assert False, \"Expected a ValueError error.\"\n",
    "except ValueError as e:\n",
    "    print(\"Expected error:\", e)"
   ]
  },
  {
   "cell_type": "code",
   "execution_count": 37,
   "metadata": {},
   "outputs": [
    {
     "name": "stdout",
     "output_type": "stream",
     "text": [
      "Expected error: Rows containing ExprRanges must agree for every column. 1 is not equal to p.\n"
     ]
    }
   ],
   "source": [
    "try:\n",
    "    ExprArray(ExprRange(i, ExprTuple(ExprRange(j, Aij, one, n), \n",
    "                                     ExprRange(j, Bpj, one, k)),one,m))\n",
    "    assert False, \"Expected a ValueError error.\"\n",
    "except ValueError as e:\n",
    "    print(\"Expected error:\", e)"
   ]
  },
  {
   "cell_type": "code",
   "execution_count": 38,
   "metadata": {},
   "outputs": [
    {
     "name": "stdout",
     "output_type": "stream",
     "text": [
      "Expected error: Columns containing ExprRanges must agree for every row. i is not equal to j.\n"
     ]
    }
   ],
   "source": [
    "try:\n",
    "    ExprArray(ExprTuple(C_i_to_j, D_j_to_i), \n",
    "              ExprTuple(A_i_to_j, B_i_to_j))\n",
    "    assert False, \"Expected a ValueError error.\"\n",
    "except ValueError as e:\n",
    "    print(\"Expected error:\", e)"
   ]
  },
  {
   "cell_type": "code",
   "execution_count": 39,
   "metadata": {},
   "outputs": [
    {
     "name": "stdout",
     "output_type": "stream",
     "text": [
      "Expected error: Rows containing ExprRanges must agree for every column. j is not equal to k.\n"
     ]
    }
   ],
   "source": [
    "try:\n",
    "    ExprArray(ExprRange(i, ExprTuple(Apj, Bij, Cjk, Dki),one,m))\n",
    "    assert False, \"Expected a ValueError error.\"\n",
    "except ValueError as e:\n",
    "    print(\"Expected error:\", e)"
   ]
  },
  {
   "cell_type": "code",
   "execution_count": 40,
   "metadata": {},
   "outputs": [
    {
     "name": "stdout",
     "output_type": "stream",
     "text": [
      "Expected error: ExprArrays of ExprRanges of ExprRanges are one-dimensional and therefore not valid ExprArrays.  Please wrap either the second ExprRange in an ExprTuple or place an ExprTuple in the second ExprRange.\n"
     ]
    }
   ],
   "source": [
    "try:\n",
    "    ExprArray(ExprRange(i, ExprRange(j, Aij, one, n), one, m)).latex()\n",
    "    assert False, \"Expected a ValueError error.\"\n",
    "except ValueError as e:\n",
    "    print(\"Expected error:\", e)"
   ]
  },
  {
   "cell_type": "code",
   "execution_count": 41,
   "metadata": {},
   "outputs": [
    {
     "name": "stdout",
     "output_type": "stream",
     "text": [
      "Expected error: Nested ExprTuples are not supported. Fencing is an extraneous feature for the ExprArray class.\n"
     ]
    }
   ],
   "source": [
    "try:\n",
    "    ExprArray(ExprTuple(A,B,C,D),\n",
    "              ExprRange(i, ExprTuple(ExprTuple(Apj, Bij), \n",
    "                                     ExprTuple(Cjk, Dki)),one,m), \n",
    "              ExprTuple(A,B,C,D))\n",
    "    assert False, \"Expected a ValueError error.\"\n",
    "except ValueError as e:\n",
    "    print(\"Expected error:\", e)"
   ]
  },
  {
   "cell_type": "code",
   "execution_count": 42,
   "metadata": {},
   "outputs": [
    {
     "name": "stdout",
     "output_type": "stream",
     "text": [
      "Expected error: Contents of an ExprArray must be wrapped in either an ExprRange or ExprTuple.\n"
     ]
    }
   ],
   "source": [
    "try:\n",
    "    ExprArray(E, F, ExprTuple(A,B), C, D)\n",
    "    assert False, \"Expected a ValueError error.\"\n",
    "except ValueError as e:\n",
    "    print(\"Expected error:\", e)"
   ]
  },
  {
   "cell_type": "code",
   "execution_count": null,
   "metadata": {},
   "outputs": [],
   "source": []
  },
  {
   "cell_type": "code",
   "execution_count": null,
   "metadata": {},
   "outputs": [],
   "source": []
  },
  {
   "cell_type": "code",
   "execution_count": 43,
   "metadata": {},
   "outputs": [],
   "source": [
    "%end demonstrations"
   ]
  }
 ],
 "metadata": {
  "kernelspec": {
   "display_name": "Python 3",
   "language": "python",
   "name": "python3"
  }
 },
 "nbformat": 4,
 "nbformat_minor": 0
}
