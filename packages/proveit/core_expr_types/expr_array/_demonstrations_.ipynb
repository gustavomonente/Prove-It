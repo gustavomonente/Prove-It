{
 "cells": [
  {
   "cell_type": "markdown",
   "metadata": {},
   "source": [
    "Demonstrations for context <a class=\"ProveItLink\" href=\"_context_.ipynb\">proveit.core_expr_types.expr_array</a>\n",
    "========"
   ]
  },
  {
   "cell_type": "code",
   "execution_count": 1,
   "metadata": {},
   "outputs": [],
   "source": [
    "import proveit\n",
    "proveit.defaults.automation = False\n",
    "from proveit import ExprRange, ExprTuple, varRange, indexed_var, ExprArray\n",
    "from proveit._common_ import A, B, C, D, i, j, k, m, n\n",
    "from proveit.number import one\n",
    "%begin demonstrations"
   ]
  },
  {
   "cell_type": "code",
   "execution_count": 2,
   "metadata": {},
   "outputs": [
    {
     "data": {
      "text/html": [
       "<strong id=\"A_i_to_j\">A_i_to_j:</strong> <a class=\"ProveItLink\" href=\"__pv_it/7dbaf6b951eb1bbbb554954fc5d3e445789cfe5c0/expr.ipynb\"><img src=\"data:image/png;base64,iVBORw0KGgoAAAANSUhEUgAAAGkAAAAWBAMAAAAx2K8dAAAAMFBMVEX////MzMxUVFREREQiIiK6\n",
       "uroQEBCYmJhmZmYyMjLu7u52dnaqqqqIiIjc3NwAAACFAiZ1AAAAAXRSTlMAQObYZgAAAAlwSFlz\n",
       "AAAOxAAADsQBlSsOGwAAAaFJREFUOMuVVE1LAkEYfsRV13VdO3XNPxB67FIaRER0CYIICrx032On\n",
       "EC8JXbwFFrTgLRClH1ALdaqDUhdv7SGCisg+IKzQ3plZcW1pNxfemWd25pn3eT8YABZG+/j5uMnx\n",
       "ve9prSTmDTZcCnzoy4q2xczcKOIGtefLatgslAFZ50hO+YZX6NpgCwgLdHI65kOKPb7YKGxgTUTa\n",
       "vDF9WE/x736AOnaFQDR0H1Ze/eh7TWKPg3VM1CkzHrGFzMAXmymQSAlL4iI8J+mS5t8sGdorm2cp\n",
       "31ls8hJMFVNpb4HXxcKbDQNtwaoCiawnSSEZ732xORwIgZByCF15CQTmidwyucJpRtZ5v8RqBhQ3\n",
       "wWDDqmg6WaVWiqRxTMs7smAXD+dAjf4qHTgAH7QcDRkLRzGSJTexAlR6ZaiZTp35lRZpe4FMytsA\n",
       "c6Qg0zFw1tvnFYZkQRp0kvJJ+MKlUDUciwSV9JZE5gfbJap03d2AzsU42Q7ZzMDXpMUz/OurOheU\n",
       "Zo1VtjJ0JOLO4VCDUgMGmWJN//+TEV2mXG6P+M5AbonM/ACC42OBZiHRPQAAAABJRU5ErkJggg==\n",
       "\" style=\"display:inline;vertical-align:middle;\" /></a><br>"
      ],
      "text/plain": [
       "A_i_to_j: (A_{i}, ..A_{a}.., A_{j})"
      ]
     },
     "execution_count": 2,
     "metadata": {},
     "output_type": "execute_result"
    }
   ],
   "source": [
    "A_i_to_j = varRange(A, i, j)"
   ]
  },
  {
   "cell_type": "code",
   "execution_count": 3,
   "metadata": {},
   "outputs": [
    {
     "data": {
      "text/html": [
       "<strong id=\"B_i_to_j\">B_i_to_j:</strong> <a class=\"ProveItLink\" href=\"__pv_it/777df6f877bb4e3e9d623a30fd43785113b80a950/expr.ipynb\"><img src=\"data:image/png;base64,iVBORw0KGgoAAAANSUhEUgAAAGkAAAAWBAMAAAAx2K8dAAAAMFBMVEX////MzMxUVFREREQiIiK6\n",
       "uroQEBCYmJhmZmYyMjLu7u52dnaqqqqIiIjc3NwAAACFAiZ1AAAAAXRSTlMAQObYZgAAAAlwSFlz\n",
       "AAAOxAAADsQBlSsOGwAAAbtJREFUOMuVVDtLA0EYnLxMcnloZZtw2KSQRAsrn2AhYqEggoUYEBEb\n",
       "CdhYmXQWNoFAhCB4aCdIgn/AFGKhTUiVJpjCysaYIBohxtm705wcOczBd/vt7c43s7O7B6CG/h51\n",
       "fqDYJ2pDvB4Y+51xOTNkNdU905QjY/ihkdIi2wLsr5YMAzEgqhXOAZ4E22AbcH1Yol5KwGZKTQ9Y\n",
       "Q+Unj7ttiUqSJ1nSaBWsi9ZeB7x7lqgoI6vZ7U3gWBctjVi6IVZ+PqelvjBORBuaqka4Pqn31tma\n",
       "1bI6lbXdaSyJ9LEG/w6LlHqiAl/AnTCOfP5ZbItvE4wbS4WOOIvqe2Ora6gGfg3q8QyGuy674jgV\n",
       "4Hdh0rKr3BsVojr7G6RKUVU4pYu2teDLK5DMAEVfOUJpePw8Su4YrsUGUPRaDs+3QJ5fpRYMifpC\n",
       "lsJ2FVz6eDw8JayS+awhRyY5RF7nItsFhjOlJ5gnWaQjy5mitsNw1uDsWid9Mr83KfQrRleo9Iki\n",
       "U93hdAEomFA+Y2eYccSY7nKN1iCZ/b8ydmhzkHcGF39vn9nDhLHDU+UQioOJ/19+7wrdPuzzjwFP\n",
       "RXPmG9PqZlz2jRhaAAAAAElFTkSuQmCC\n",
       "\" style=\"display:inline;vertical-align:middle;\" /></a><br>"
      ],
      "text/plain": [
       "B_i_to_j: (B_{i}, ..B_{a}.., B_{j})"
      ]
     },
     "execution_count": 3,
     "metadata": {},
     "output_type": "execute_result"
    }
   ],
   "source": [
    "B_i_to_j = varRange(B, i, j)"
   ]
  },
  {
   "cell_type": "code",
   "execution_count": 4,
   "metadata": {},
   "outputs": [
    {
     "data": {
      "text/html": [
       "<strong id=\"C_i_to_j\">C_i_to_j:</strong> <a class=\"ProveItLink\" href=\"__pv_it/ae331684984a630c4d7d791a35d59f4fa1169f3c0/expr.ipynb\"><img src=\"data:image/png;base64,iVBORw0KGgoAAAANSUhEUgAAAGcAAAAWBAMAAAAvEZ+uAAAAMFBMVEX////MzMxUVFREREQiIiK6\n",
       "uroQEBCYmJhmZmYyMjLu7u52dnaqqqqIiIjc3NwAAACFAiZ1AAAAAXRSTlMAQObYZgAAAAlwSFlz\n",
       "AAAOxAAADsQBlSsOGwAAAX1JREFUOMuVlLFLw0AUxr/S2KRJjE7OpX9BEVelgqCIi+DiUHBxEYSM\n",
       "TiKIOLh0E8Qh6iZqi2NBrKN2sDh1kg5uLhVcFBS/S9LkQshhA/fuXe735d69dxcAfYz0+Ph4ezRR\n",
       "TZiOMNfTZfddyUaEWMSsC2fbQ2dRpZGIE8BwKZzx6PwqNDKxAxTYFbdoxjYUIpkoeFhndy9ykdtT\n",
       "iGSi6OIIcD79CCazNQnCKuGY9iecu8kSRQSo0+tYAbSP8M1dligiMA/YVWxyZ9/+4ootJYjcQIi0\n",
       "gfAfFKIEwSSeDvPfRK2UJRoSZq/thzfL3IhtWh5aDMJL1xUxYdg8P3oFtxw+u7BbcK6qML84bHAm\n",
       "cgITELi0WCqjizXxsf3yAbt8F1jgUpoo4hJCR1uOCVFYaH1ocU0bZww4Hd+T5E/wNr0xwvj0PFoM\n",
       "PJ2FpuRPsR2yzUVvzl95bdKJ6EqDFyalwv4igbgpkS4PeOjyYgOO+++bXlzl5dgd7e8Aoxek6Q8g\n",
       "BmA9uudX1QAAAABJRU5ErkJggg==\n",
       "\" style=\"display:inline;vertical-align:middle;\" /></a><br>"
      ],
      "text/plain": [
       "C_i_to_j: (C_{i}, ..C_{a}.., C_{j})"
      ]
     },
     "execution_count": 4,
     "metadata": {},
     "output_type": "execute_result"
    }
   ],
   "source": [
    "C_i_to_j = varRange(C, i, j)"
   ]
  },
  {
   "cell_type": "code",
   "execution_count": 5,
   "metadata": {},
   "outputs": [
    {
     "data": {
      "text/html": [
       "<strong id=\"D_i_to_j\">D_i_to_j:</strong> <a class=\"ProveItLink\" href=\"__pv_it/cadd9327324e0e083e6da87d96ca4ef3de88386d0/expr.ipynb\"><img src=\"data:image/png;base64,iVBORw0KGgoAAAANSUhEUgAAAGwAAAAWBAMAAADX8WRZAAAAMFBMVEX////MzMxUVFREREQiIiK6\n",
       "uroQEBCYmJhmZmYyMjLu7u52dnaqqqqIiIjc3NwAAACFAiZ1AAAAAXRSTlMAQObYZgAAAAlwSFlz\n",
       "AAAOxAAADsQBlSsOGwAAAYFJREFUOMtjYGB4wEAi4AMRvAdI1cZ6AUicBuLL/42UJ+G3FVnJHQYG\n",
       "rgkgxk8GBvY/+O1AUsK5gIGjAEgz/gUSbXh1ISthb2BgA/vvI5CIL8CnDUVJFkMkiGL+ACTeb8Cn\n",
       "DUXJdIZuEMVvADJKAZ82FCWbgBqBQB4UpPc3MKzDrQ2mhEEASFcy+IDE7oPY+gEMe3FrgylhcATS\n",
       "RxhSQWL2IOIb3pBEUSIP0fYZFKrf8WpDURLGMAcWJ8sMGGIV8EcbUAnXjQNgR9pC44RrJgPDrl8M\n",
       "DAswdHAxICnh4AGlqmJgWAITCzBOQhoY+NY4MHAB0xDDeqAUnAEhoEoYVnEDCYZehhAGBqb5n5SM\n",
       "+0BRCgxkF6B1LCApDwYog8ULSQkDJyih+DGwCCCcs34hAwMPpitPoUQ7MBfwOYCSJRyc5GZg4MYM\n",
       "DpREJwbEoORvhxBadI+BYS1mkFxA5l0C4sdAvBhVEWY2YEfhgRKjFahkKCChPOAMTACaQ3Lpw3ED\n",
       "EmIAGM9qQ0fUAUAAAAAASUVORK5CYII=\n",
       "\" style=\"display:inline;vertical-align:middle;\" /></a><br>"
      ],
      "text/plain": [
       "D_i_to_j: (D_{i}, ..D_{a}.., D_{j})"
      ]
     },
     "execution_count": 5,
     "metadata": {},
     "output_type": "execute_result"
    }
   ],
   "source": [
    "D_i_to_j = varRange(D, i, j)"
   ]
  },
  {
   "cell_type": "code",
   "execution_count": 6,
   "metadata": {},
   "outputs": [
    {
     "data": {
      "text/html": [
       "<strong id=\"Aij\">Aij:</strong> <a class=\"ProveItLink\" href=\"__pv_it/e63bc36bb1e5ab44343244f1d2a1cbb550b2198d0/expr.ipynb\"><img src=\"data:image/png;base64,iVBORw0KGgoAAAANSUhEUgAAACIAAAAVBAMAAADRFiHkAAAAMFBMVEX///8QEBAiIiLu7u5ERES6\n",
       "urqYmJiIiIjMzMx2dnZUVFRmZmaqqqoyMjLc3NwAAABb1yYoAAAAAXRSTlMAQObYZgAAAAlwSFlz\n",
       "AAAOxAAADsQBlSsOGwAAALpJREFUGNNjYACBtwzo4D66AM9/dBHu9Q/QRObNb0AV4CuoP4CmieF8\n",
       "AqpIDEP/BAYGZohZYP0bGN4vYGDgLACLaAAxu/fu9Q4omswZGPgVUEQ2MDAwCTCwVoHYzNVAW1mB\n",
       "9vB+YOC0NwBZy3OBgeEhkMHyj+HxIZAaY84NDCb/LzPw+P+dwOAONoIX4TLmz2CX8CN8yHNhAjPQ\n",
       "nY0IG5mXP+CQYWCoQgsnBoZrqCKHeSMEUEUSuKsNGACJyCnZCzsY/AAAAABJRU5ErkJggg==\n",
       "\" style=\"display:inline;vertical-align:middle;\" /></a><br>"
      ],
      "text/plain": [
       "Aij: A_{i,j}"
      ]
     },
     "execution_count": 6,
     "metadata": {},
     "output_type": "execute_result"
    }
   ],
   "source": [
    "Aij = indexed_var(A,(i,j))"
   ]
  },
  {
   "cell_type": "code",
   "execution_count": 7,
   "metadata": {},
   "outputs": [
    {
     "data": {
      "text/html": [
       "<strong id=\"Bij\">Bij:</strong> <a class=\"ProveItLink\" href=\"__pv_it/f126a01d9f5940d10a474e29968f2bc0c5a9c8720/expr.ipynb\"><img src=\"data:image/png;base64,iVBORw0KGgoAAAANSUhEUgAAACIAAAAUBAMAAAAaSvJBAAAAMFBMVEX///92dnaqqqoiIiLu7u5m\n",
       "Zma6urqIiIjc3NwQEBDMzMwyMjJUVFRERESYmJgAAAAeMT9/AAAAAXRSTlMAQObYZgAAAAlwSFlz\n",
       "AAAOxAAADsQBlSsOGwAAAM5JREFUGNNjYGB4+//Omb0LGJDBXAYGnl/IAhzfGRjYviKL8AHl+b4j\n",
       "i/B8YGDgnoEswnmBgeUwisnrr5effsDAwNIA5oGk6hsYmOYxMDAWgEWsgPgmEMuj6PoDxO8LkAS4\n",
       "/gGJ8wlsNSAOS6kCAwP7D6DobwZGfwegCCvTBqBTJjAwZG5haFEGqXFhDGDg2f/nzOlLQM51sBnc\n",
       "D+DGsXwBW8ffABdh2iDAIsDAsBJhJcvxBq5JDAw1KOHEwMTAsA9VRIU7awKqyAPWUgcGAEE9MpOO\n",
       "K1uqAAAAAElFTkSuQmCC\n",
       "\" style=\"display:inline;vertical-align:middle;\" /></a><br>"
      ],
      "text/plain": [
       "Bij: B_{i,j}"
      ]
     },
     "execution_count": 7,
     "metadata": {},
     "output_type": "execute_result"
    }
   ],
   "source": [
    "Bij = indexed_var(B,(i,j))"
   ]
  },
  {
   "cell_type": "code",
   "execution_count": 8,
   "metadata": {},
   "outputs": [
    {
     "data": {
      "text/html": [
       "<strong id=\"Cij\">Cij:</strong> <a class=\"ProveItLink\" href=\"__pv_it/e70608af945010218cf7bf2854f974d2011570f30/expr.ipynb\"><img src=\"data:image/png;base64,iVBORw0KGgoAAAANSUhEUgAAACAAAAAUBAMAAAAevyJ8AAAAMFBMVEX////MzMy6uroyMjJmZmYi\n",
       "IiKqqqoQEBB2dnbc3NyYmJhUVFRERESIiIju7u4AAACU7+9TAAAAAXRSTlMAQObYZgAAAAlwSFlz\n",
       "AAAOxAAADsQBlSsOGwAAALlJREFUGNNjYGDgu7N7F2cDAwJcv8fA1roAwX8TByT8JyAEzB8ACXUE\n",
       "n+MbiBRBCMwPAJEPEQL9FyA0H8QUAYZ4AahWiEQgQz3ITIYHCC3xIIJNACEAdgEHA9NtsEFXEhjm\n",
       "g/T2MXC8B+liYTNgYPvFwJDxgGFeKkjFOw4HBoYnp7coANlnwQYww/3E9w9sLj/cT2wGDXzAIBCH\n",
       "W8a3dwJjGQPDbQZkwMbAYIUikMesWIAisIDlygMGAHCwK1B2/vnFAAAAAElFTkSuQmCC\n",
       "\" style=\"display:inline;vertical-align:middle;\" /></a><br>"
      ],
      "text/plain": [
       "Cij: C_{i,j}"
      ]
     },
     "execution_count": 8,
     "metadata": {},
     "output_type": "execute_result"
    }
   ],
   "source": [
    "Cij = indexed_var(C,(i,j))"
   ]
  },
  {
   "cell_type": "code",
   "execution_count": 9,
   "metadata": {},
   "outputs": [
    {
     "data": {
      "text/html": [
       "<strong id=\"Dij\">Dij:</strong> <a class=\"ProveItLink\" href=\"__pv_it/5e150e275a59cec80d0f277be531eaa23164992e0/expr.ipynb\"><img src=\"data:image/png;base64,iVBORw0KGgoAAAANSUhEUgAAACMAAAAUBAMAAAD1iJl/AAAAMFBMVEX///8iIiLu7u52dna6uroQ\n",
       "EBBmZmbMzMyqqqqYmJjc3NwyMjJUVFRERESIiIgAAABmmfmVAAAAAXRSTlMAQObYZgAAAAlwSFlz\n",
       "AAAOxAAADsQBlSsOGwAAAMJJREFUGNNjYGB4+//O2T0LGFDAbwYGzh8oIuz/gEQqihDfdyDhPwFZ\n",
       "iPcDkFhvgCzEfwGk6gCyUP0DIPHegEELYjKIeF8AJM47MNiBhRhBvPsg1lcUG/8CMedPDGepXmDw\n",
       "A1uglwF1FtNuBgajTyChhG4gwQ10lmMCA5eGAJDDpGDGwMCz/8+Zu1kgFz8Am7MTyUx9dTD1C0mo\n",
       "m5lBGWhZAJKQziuG0gYGvgOoAcfQwMA9AVWEQ2FLKZoiToa8JAYGAA1QL0Av+pVfAAAAAElFTkSu\n",
       "QmCC\n",
       "\" style=\"display:inline;vertical-align:middle;\" /></a><br>"
      ],
      "text/plain": [
       "Dij: D_{i,j}"
      ]
     },
     "execution_count": 9,
     "metadata": {},
     "output_type": "execute_result"
    }
   ],
   "source": [
    "Dij = indexed_var(D,(i,j))"
   ]
  },
  {
   "cell_type": "code",
   "execution_count": 10,
   "metadata": {},
   "outputs": [
    {
     "data": {
      "text/html": [
       "<a class=\"ProveItLink\" href=\"__pv_it/c03dfe894eea51f83675db7ba97914b0a0958b2b0/expr.ipynb\"><img src=\"data:image/png;base64,iVBORw0KGgoAAAANSUhEUgAAAJwAAAAVBAMAAABBKZpuAAAAMFBMVEX///8QEBAiIiLu7u5ERES6\n",
       "urqYmJiIiIjMzMx2dnZUVFRmZmaqqqoyMjLc3NwAAABb1yYoAAAAAXRSTlMAQObYZgAAAAlwSFlz\n",
       "AAAOxAAADsQBlSsOGwAAAftJREFUOMuFlD1II1EQx/+6+bxsNqlE5IqoCIIWCwp6h1zSWVgEG0/E\n",
       "YhtBsAkiigY0VlfegoWdly7XaXWQpAnGwkYiHAhW5rA4LMSgd6JijO9tTLK7z508lt1589udnZk3\n",
       "MwBf16AXwZVTUXfRxhzBgxVBJddoaxQvieYC+2XSHMVzL4Jq70eKNEdw/9WDkM3EVoGyRvG/3mch\n",
       "FpQ0MlaCH8j3dtU8vuuA5JgfC7eG7S74Htnji+UPuEmzLCQcPTDzQZvjyhN77JpU3qn8foyIleIr\n",
       "+dw/m2oMCEUIcwSXmMe3QizoDMO9weWlxbX06k9nLiUL1liBXuArywU8v74leTY1o1P8UZVtFrrQ\n",
       "A/ahZMq2mQfkRovyHWbqDbhzx81Nax3stP4w0fWCy0NeYWMR/EcWiLKvpCq/LBwj/oO6mhMoYXaL\n",
       "l5UJnovLZYRUjNZ+Q45XdUzy1z8kfGEMs+j62WaIX1aOoFZXo0+FFK+qOKqdw2UcegbTpqze8Yrq\n",
       "SHljSoVJRSHrBkeoUZ2y2mLRcX7vRtbXmhqnuqTjhvnnibGi1YWpYnBsN5vVxE78+ASlgoHj1t8z\n",
       "Zd9HzCFYVjKqUQE27wyODVP5NNfnTWwX3GmsW3tRbkqe9+cecNaQ7V38zpAothnKxeBs2GnCqqJO\n",
       "a2NOCyRVB/QWziu9No7XyjaveAAAAABJRU5ErkJggg==\n",
       "\" style=\"display:inline;vertical-align:middle;\" /></a>"
      ],
      "text/plain": [
       "A_{i,m}, ..A_{i,j}.., A_{i,n}"
      ]
     },
     "execution_count": 10,
     "metadata": {},
     "output_type": "execute_result"
    }
   ],
   "source": [
    "ExprRange(j,indexed_var(A,(i,j)),m,n).withStyles(parameterization=\"explicit\")"
   ]
  },
  {
   "cell_type": "code",
   "execution_count": 11,
   "metadata": {},
   "outputs": [
    {
     "data": {
      "text/html": [
       "<a class=\"ProveItLink\" href=\"__pv_it/fcf08066fa48971a95c54c4ffefea0ea31dc8ab10/expr.ipynb\"><img src=\"data:image/png;base64,iVBORw0KGgoAAAANSUhEUgAAAHcAAAAVBAMAAACOK2zoAAAAMFBMVEX///8QEBAiIiLu7u5ERES6\n",
       "urqYmJiIiIjMzMx2dnZUVFRmZmaqqqoyMjLc3NwAAABb1yYoAAAAAXRSTlMAQObYZgAAAAlwSFlz\n",
       "AAAOxAAADsQBlSsOGwAAATZJREFUOMtjYACBtwxEAmwK7xOrGYtCnv9E6sWmkHv9A+I0Y1M4b34D\n",
       "cZqxKOQrqD9AlF5sCrkZzicQ52osCmMY+icwMDAT9jc2hRsY3i9gYOAsADKZc/FpRlIIA+zeu9c7\n",
       "QNntRXj0IiuEAXMGBn4FGOcQHs0oCuGOYWASYGCtIqgZWWF2RjmQy8AKDEDeDwyc9gYwzQYY2pgZ\n",
       "0BWmijHIAamHQMzyj+HxIZjNzH+BtP0FJAaEQFbIZ67A8JmBweT/ZQYe/78TGNzhzlYCGs0EcpQ2\n",
       "A5TBpIyukKuAVQDJZZ8bYJp5MN19GF0hYwP3BERS5bkwgXkCRDMnZlhNYEBT+J6BKQahmXn5Aw4Z\n",
       "hpf3t4OjBD3AkNIFRGEUA/s0tOwKoTATOhsDVoW4fIYfYFOYQKxmqEIArARfrT0126AAAAAASUVO\n",
       "RK5CYII=\n",
       "\" style=\"display:inline;vertical-align:middle;\" /></a>"
      ],
      "text/plain": [
       "A_{i,1}, ..A_{i,j}.., A_{i,n}"
      ]
     },
     "execution_count": 11,
     "metadata": {},
     "output_type": "execute_result"
    }
   ],
   "source": [
    "ExprRange(j, Aij, one, n)"
   ]
  },
  {
   "cell_type": "code",
   "execution_count": 12,
   "metadata": {},
   "outputs": [
    {
     "data": {
      "text/html": [
       "<a class=\"ProveItLink\" href=\"__pv_it/d03b8829bd928de5cb9458be27ec35d825304c570/expr.ipynb\"><img src=\"data:image/png;base64,iVBORw0KGgoAAAANSUhEUgAAAHYAAAAUBAMAAACqtdRzAAAAMFBMVEX///92dnaqqqoiIiLu7u5m\n",
       "Zma6urqIiIjc3NwQEBDMzMwyMjJUVFRERESYmJgAAAAeMT9/AAAAAXRSTlMAQObYZgAAAAlwSFlz\n",
       "AAAOxAAADsQBlSsOGwAAAUdJREFUOMtjYGB4+//Omb0LGAgDbArnMjDw/CJCLxaFHN8ZGNi+EqEV\n",
       "i0I+oFF834nQi0UhzwcGBu4ZROjFopDzAgPLYWLCCovC9dfLTz9gYGBpIKQXi8L6BgameQwMjAVA\n",
       "NstrPHqRFfKZg4VuArE81CnLi/HoRVbIMA1M/gHi9wVQIWU8epEVcnwAkVz/gMT5BLYaQnpRFPJd\n",
       "aA9gYGD/ART+zcDo7wDT64ChjQVEoCjkqVABxhb3BAaGzC0MLcowe1l+A2n/DVACwUNRyCnHsICB\n",
       "Z/+fM6cvAXnX4W42BhrMDHQRhDAFMUwY0BT2hyJFNMuXBTC9TJiOVkFX+JbNABHNTBsEWAQgehkx\n",
       "w0mAAU3hcS4DhBjL8QauSQyN+8MZGNwxw6qAAU3hDoZzqKmTCUI9wMxBaHwmBny+wg+wKHxArF6I\n",
       "QgBqkm7VJb+DTAAAAABJRU5ErkJggg==\n",
       "\" style=\"display:inline;vertical-align:middle;\" /></a>"
      ],
      "text/plain": [
       "B_{i,1}, ..B_{i,j}.., B_{i,k}"
      ]
     },
     "execution_count": 12,
     "metadata": {},
     "output_type": "execute_result"
    }
   ],
   "source": [
    "ExprRange(j, Bij, one, k)"
   ]
  },
  {
   "cell_type": "code",
   "execution_count": 13,
   "metadata": {},
   "outputs": [
    {
     "data": {
      "text/html": [
       "<a class=\"ProveItLink\" href=\"__pv_it/cc7db02aeb9482007ee301abb7401ea599751ec80/expr.ipynb\"><img src=\"data:image/png;base64,iVBORw0KGgoAAAANSUhEUgAAAQMAAAAWBAMAAAA2k+RkAAAAMFBMVEX////MzMxUVFREREQiIiK6\n",
       "uroQEBCYmJhmZmYyMjLu7u52dnaqqqqIiIjc3NwAAACFAiZ1AAAAAXRSTlMAQObYZgAAAAlwSFlz\n",
       "AAAOxAAADsQBlSsOGwAAAr5JREFUSMfFlk9o01Acx7/9s6ZNuywH8SYtve0wWm9edBU8DPEgsouw\n",
       "4UBERJEMFebFzZOCCAFhwhBWN9CDzgYvoqD2MATnwTA8eKnrQYSp0MkQtoKr7+U1zZ+XpO8g+KDJ\n",
       "r798vi/f/N6fBEAT/7FZNx+sW/GmqGjzn1qYpIcPLF4UFQWB0uh2cfiggJgDaQFk3QpzHUEHwWCq\n",
       "DJRUATkHLgBpzYrSJcEpEQy2TODMnICcA2eILRa9eauKWQgGZ0ly1hSQc2CqitNWoJgbdSEHIWCJ\n",
       "/OZF6siBGQ13WHnxURMbh2DwLLB0VETPgdkC7lvBBPIGmZr9nyMYjG031mlHz/rJeVDSccIK5tAq\n",
       "EEd0kOTrUX24QPfS2gPekeq8pn8e6+FyD3iV9pKr4Jx15dDtUrlLHfgU4cANulpiitj61X3QRiVc\n",
       "7waROknxLWZhBRjqCVcjLHhApw2Rykh/7J0jwoIHbNHDwBQesPIiOYWB9b4W3ODMdMNe4HlS2/hv\n",
       "TBb6WfCAV5TPFn2YOiEXMlvI1qq2hSonluEHr53HZZbGBpmeeR2v2rYFOVjvBUd+PmpCKuM5ib/R\n",
       "UdrD91W7CvIuOdd0V8AOblBZqaDN0pgn7i5UlacV24JH63TiBS9qMbLKTYwDy50F5EZ3DasirArH\n",
       "yGMmaZnH0A2Sx/1g3CTjSNMY7hSL98iOlTBtC1a6px3r6r2gsnOT5ptIOvut3FZtCzl+JNbgA1Nq\n",
       "2lDdadQe9ubCWpSegVJ5XAG+ksB5Z+R0QzaYhSw/kwz4wBaSE6o7jfdZPOlaMKL0DIyb+8htbpG/\n",
       "R5yHG2nGLuHH4l1r8fmnk2s3YuApDL7wpLH0Bfvryssd05vm9AzMNOPTUOgus+z9HGAn/j0g+b8b\n",
       "gtOoB6fDwAQdcUULG7HIFgIGTKJI8AZ/RRO1EAJKonoH/Autf+iqyA5EYAAAAABJRU5ErkJggg==\n",
       "\" style=\"display:inline;vertical-align:middle;\" /></a>"
      ],
      "text/plain": [
       "(A_{i,1}, ..A_{i,j}.., A_{i,n}, B_{i,1}, ..B_{i,j}.., B_{i,k})"
      ]
     },
     "execution_count": 13,
     "metadata": {},
     "output_type": "execute_result"
    }
   ],
   "source": [
    "ExprTuple(ExprRange(j, Aij, one, n), ExprRange(j, Bij, one, k))"
   ]
  },
  {
   "cell_type": "code",
   "execution_count": 14,
   "metadata": {},
   "outputs": [
    {
     "data": {
      "text/html": [
       "<a class=\"ProveItLink\" href=\"__pv_it/9fd3933353b658c94b9e8b359974d30f5a6fc8fb0/expr.ipynb\"><img src=\"data:image/png;base64,iVBORw0KGgoAAAANSUhEUgAAAmoAAAAXBAMAAABJ3356AAAAMFBMVEX////MzMxUVFREREQiIiK6\n",
       "uroQEBCYmJhmZmYyMjLu7u52dnaqqqqIiIjc3NwAAACFAiZ1AAAAAXRSTlMAQObYZgAAAAlwSFlz\n",
       "AAAOxAAADsQBlSsOGwAABRpJREFUWMPNWF+IG0UY/3YvyV42yV4epG/lYhDkHkKiDyJivRRERFSO\n",
       "Uk6EiqcixT+U1FNoX7zYlx6UwkGhhVO8YMEichh8Kb5owMOH86HLtaCIZ0MVpdaSu57FO7WN828v\n",
       "Mzs7s7P0RAcy2cz+5je/+eb7Zr4JAHThvy4xCjz4XxUip9Ahz1eNe13dcR3P6V9/T8XOJZnZ3L9n\n",
       "tbSPqq/p84Jxr0ikM75RHrvPqP90//7yqSLfwhZOUfJt8pVdSzAzJTiBzkipbBVduir5vimTApmp\n",
       "AVSLRgwvAdjrQsu8Dv4R/bqQxGpqcAKdkVLxkrRguEGehqum25sC2UN++3zTKHpuIS/fFJqO6PDH\n",
       "6dex2wmspgab64yWiv21CRn69PkXpvZXIGdQ64xvQuCgxXNuiQ7Q0uCnSJ27tm5uNA3YXGe0VFxe\n",
       "hWepUf3LHUPzK5BV9Dlt5K82ip7sIdHnG5rNl24h1wt/m1tNAzbXGS0VlzNwgoYdXGgYBqgCiXaA\n",
       "D/YaMaCdxb1H9NdcSTMgPQya+T/MraYBm+uMlorLp8huuByA0bYZkQJpbayunDFjGN2zOhYyvKNJ\n",
       "FKgfpjvWX+a5gRqcQGe0VFyOwpN0caBXMlzGaGQBbb9fmbnr5S7kD4bO5boanupQF/duGE9WA06g\n",
       "M1oqLkvwMuF6cLaKTuRzZMndoxoeAcmVIbRn59aDvud0SeYD6INOFIpxniIeoMkqMhO4vjh7bINv\n",
       "1YoMg2WdhkRM6qC8Sc6RUWq1RYCROlirZMl3X9LwCEiujJTIaUP7yq/5gt1gxg8wZPz0VIzVXKT2\n",
       "d75VJ1ICyzrNiJhUaQkn4T0adpCa2g6UJW2A8khuB0Beb98M+uoizsIbdXWCYby1OHy2Q2IO4LFQ\n",
       "lGgCNAyWdRoRBVK5bI912YOXukHvIJzV5ATKBQl55PBqk0HRDgCjc4LVFBR4Z7G2Agqndr2JazV+\n",
       "CK/1M/QmhwYsfXN3INKV50k4JLCsUySKkeoc371SeIME6rT3La7RKQrwMxZ3m7eai6YFn8yxh+1f\n",
       "IeRbB+EQfQmnkUVfafFWEylIb1JlkatOzgcU9g/LKB8a9sMjDTrhrMTDETzexQO+CCuBSFkfeZDB\n",
       "sk6RKEaqM9nIlArkDKz89iEy+0nYD3C2Pw/58a0272uPIguk8MXjcWBV6okw0lusw58UOtYvl091\n",
       "QPA1gYI8YAp74UZ57OHtqMycB7SIqS7DD7DBkJCugzu+1YIv++/iAW+yDHOJvR7oa1IOGSzrDBHF\n",
       "SP31EoxM0LTxtYaF6qchVZQSAMyTl512WUoVbB9v4wKUs5oRRW8Wj/8TaPBcTmr71hTLlZZCdIy0\n",
       "FQWWdYaIYqRWYBdNgLzNd3Bdx1fRKKvl5D2jLU05UxxuF0UoZzUjiul0vcsu6Co8d7XPFAs1b60Y\n",
       "DCSn2zzHACzrDBHFSH0BLkLPIrvwfg/IHx6PCBNx25RnMfI8DyF7kDpQFKGo78fMIkYUFaveBq8G\n",
       "GvxQlzvCbN+ptZlI149KjCLAsk6RKEYqOucrMJ1DE7P9u5CBf0RtZwdvP9v0rdfh2sJJADl9dvgr\n",
       "PEXug8J5EYr77urg14YU78O9RRgiAaLCu7Xthn2Q7XqVFhPpyB7CcwzAsk6RKEZquoRkXvkOTSzb\n",
       "tQ8DPITli13yxvcWJbKTlOJtPeoX86ET6UxKxCbmRPxjsmzMoULmW3dMsaP9lneKSDMx45utEunA\n",
       "HVPsaL/GThENJvYPy8nwEtVERagAAAAASUVORK5CYII=\n",
       "\" style=\"display:inline;vertical-align:middle;\" /></a>"
      ],
      "text/plain": [
       "(A_{1,1}, ..A_{1,j}.., A_{1,n}, B_{1,1}, ..B_{1,j}.., B_{1,k}), ..(A_{i,1}, ..A_{i,j}.., A_{i,n}, B_{i,1}, ..B_{i,j}.., B_{i,k}).., (A_{m,1}, ..A_{m,j}.., A_{m,n}, B_{m,1}, ..B_{m,j}.., B_{m,k})"
      ]
     },
     "execution_count": 14,
     "metadata": {},
     "output_type": "execute_result"
    }
   ],
   "source": [
    "ExprRange(i, ExprTuple(ExprRange(j, Aij, one, n), ExprRange(j, Bij, one, k)),one,m)"
   ]
  },
  {
   "cell_type": "code",
   "execution_count": 15,
   "metadata": {},
   "outputs": [
    {
     "data": {
      "text/html": [
       "<a class=\"ProveItLink\" href=\"__pv_it/f66368268a8e797bf7f2650f21c78c1f6483fd320/expr.ipynb\"><img src=\"data:image/png;base64,iVBORw0KGgoAAAANSUhEUgAAAnoAAAAXBAMAAABucf+SAAAAMFBMVEX////MzMxUVFREREQiIiK6\n",
       "uroQEBCYmJhmZmYyMjLu7u52dnaqqqqIiIjc3NwAAACFAiZ1AAAAAXRSTlMAQObYZgAAAAlwSFlz\n",
       "AAAOxAAADsQBlSsOGwAABUtJREFUWMPNWF2IG1UUPpNNMptJMpsH6VvZGATZh5Dog4hYN4KISJWl\n",
       "lJVCxVUpxR9K6iq0L27sSxeKECh0YS1usGARWQx9Kb5owMWH9aHDtqCIa4OKUmvJbtfirtrGc38m\n",
       "uTN35uYOjeiFc5PMfPe73z33nDtnAgBtYPbftgEKbPhfNduVlG0xw3ZNe/S1oet5Xn37Oya6HmWF\n",
       "9X/PewmHGXzFDduS9uhApDm5VZh4QGv8bPfBwumceIVvYEjLNOlHaiPCCkPBEXQGSnV3E82qMyMS\n",
       "u7qMIchkGaCU02J4GSC26bmyqIJ/xD4uRfFeODiCzkCpZGsa1EarQA3baEn3+AtBdjCWX6hpZdVt\n",
       "jPxtz6VjKvxJ9nHiTgTvhYP1dQZLJfFbo5Yke8GufPa57n6EIOfw6pyjQ2DiZpq3vQHRUOBnaJ++\n",
       "vqnvPAVYX2ewVNJepXYA+wPMyc7VluZ2hCBLaGe04jeGWZU64s2FquKQZkfLjezf+t5TgPV1Bksl\n",
       "bYHaKexPsXSES1XNxA1B4gnxweNaDHjyWPd54zedV0zIHhq1zB/63lOA9XUGSyXtArUF7keAgzDe\n",
       "1CMMQRpb62sLegzje9YnfBtgKgoMFpeJlvGXfk0RDo6gM1gqacep7cV+L9ss6OQ1tzUYmcVj+ku9\n",
       "8L3ahsxh33O8Eg6Pt1jI2ze1F60AR9AZLJW0FWqHsD9EOR+eL+GT/DwNAeu4gs+DFNoInu3pTXfs\n",
       "eVWx+hAaPnkYxnyGRoSiGklOkf7y/Ikt8apSpB8s69Qk4lL77U36vBmn1vPeMsBYBYx1GgK7ryj4\n",
       "PEihjeXp04mNlW+LjYTFnONi6PyJmQHes1D17+JVlUgJLOvUI+JSpa2cpnYW+7MsHSE+00ugFWXi\n",
       "ikjhhMBsiN1yx6oy0SAHemmKY+yNQfhUi+YiwJNS9oQmrh8s69QicqUK1aKQuXuwJ5aosncbwXty\n",
       "AWaBhDx2dL3GoXhCwHjd470QCnLyGDsuhVm+QWrPcjh+hOz9c+wNESfMf32vK9KS10s5JLCs00s0\n",
       "QKp5cvda9g2awLP2N6SndoE/fX8mIu+I3rNwefBJnX/p/fIh3zoMR9hNOIOefaUhes9LQUfTLoWh\n",
       "O73oUsS+X8V6atTxz9QfRKoZm2T2ZJtM+BKsuSJlffSLDJZ1eokGSDWnq8l8lj4ri799iO5/F4jt\n",
       "xx7tXHcRMpM7TTH2nkBPxMkLzVPAu/jTfqS9XIE/GXSiWyicboEn9jwU9AuhiC3dLEw82svW5EXA\n",
       "TY23Ob6PdaeERAWsyZ0GfNF9j0x4i1eoK/x2X1+NcchgWaePaIDUX6/A2BQrO1+rGtg/Sy1OhOek\n",
       "woHwZeRgXpVKjJhDjnsPVPCeFkVnnsz/EyjwQm0bc4wZXmOt+Og4aSMILOv0EQ2QWoRdrHCyt98h\n",
       "fYUaf90N8l5aPlOa0tKTudFmzgsVvKdFMZuotPkfAWF44S+EZC5btjdy7kRy2S5y9MGyTh/RAKkv\n",
       "wmXoGPSU3m9D78+Vx4BZf0FWk/EtB9YBPmQH4gdzXiiO/Zh7RouiaFSaYJdBgR9pC4+8mGOWm1yk\n",
       "5QQVVAFgWaeXaIBUrAuKMJvGhcWce9DRPwKzc9w46tNtx3gdri/hqSiX46b4VwFD7oPsRS+UjN3V\n",
       "Irc1Kd6H+3MwQhMnDG+Vexf2QaptFxtcpClHjMjRB8s6vUQDpCbyKPOHb3FhqXbsKMAjwMyuMhND\n",
       "Qvt9KBTZikrxthr1i/7UkXRGJeILM9vMgtqqNlcYMtO4a4qhjlsdFpHGwrTfoEORJtw1xVDHVYdF\n",
       "5F3YP6pgBUvgzO29AAAAAElFTkSuQmCC\n",
       "\" style=\"display:inline;vertical-align:middle;\" /></a>"
      ],
      "text/plain": [
       "((A_{1,1}, ..A_{1,j}.., A_{1,n}, B_{1,1}, ..B_{1,j}.., B_{1,k}), ..(A_{i,1}, ..A_{i,j}.., A_{i,n}, B_{i,1}, ..B_{i,j}.., B_{i,k}).., (A_{m,1}, ..A_{m,j}.., A_{m,n}, B_{m,1}, ..B_{m,j}.., B_{m,k}))"
      ]
     },
     "execution_count": 15,
     "metadata": {},
     "output_type": "execute_result"
    }
   ],
   "source": [
    "ExprTuple(ExprRange(i, ExprTuple(ExprRange(j, Aij, one, n), ExprRange(j, Bij, one, k)),one,m))"
   ]
  },
  {
   "cell_type": "code",
   "execution_count": 16,
   "metadata": {},
   "outputs": [
    {
     "name": "stdout",
     "output_type": "stream",
     "text": [
      "A & B C & D\n",
      "\\begin{array} {cccccc} A & B  \\\\ C & D \\end{array}\n"
     ]
    },
    {
     "data": {
      "text/html": [
       "<a class=\"ProveItLink\" href=\"__pv_it/1d829bf8f0d6c3f8f1847f3dfd600b91be92953e0/expr.ipynb\"><img src=\"data:image/png;base64,iVBORw0KGgoAAAANSUhEUgAAADUAAAAoBAMAAACsgK8GAAAAMFBMVEX///8QEBAiIiLu7u5ERES6\n",
       "urqYmJiIiIjMzMx2dnZUVFRmZmaqqqoyMjLc3NwAAABb1yYoAAAAAXRSTlMAQObYZgAAAAlwSFlz\n",
       "AAAOxAAADsQBlSsOGwAAAXVJREFUOMvtUz1LA0EQfRrNt0kKW1GwsUuEgKJNCguJRaK1kPyDnBgQ\n",
       "bC69xQXtTQqxOAkXa0FjaaVBsRAk+gPkFOIHYnLO7Fk4HjbWDtze2307szPMG4DtAb9bR279ua7Z\n",
       "WHRx1PlxdyADWBUFI9ad5GwNKDQV3K1VJFeifUljFNP0luQs+toqVgTnRcmNAnNTCq3CqAoq2N3Y\n",
       "vHZhE3ZdcIE+cKpCBZaOrIzghhJA6I3RDBCfEFycwvhf3ZAYTAjOoHjhZwLDBEYeBadT+sYFgXt+\n",
       "oC+4NnmMpYC0c4lorve9iIZjmlct/NvfzFc292NCFGUnu3ejpLS2jui2FFOPevtB//QkLSdCvEHu\n",
       "+SE3ixqFZakl1kqhiBD7YktqiWVgV2ErGc1KLbHsCnXUNG/mBp/pVSQrXk7nMyuPcU4FKcHleHkC\n",
       "kmo4pXOXZ/flq7IQPOVNZ9wRxY6nPN8thyPfM/kcq3xFTfR89iAvqHDn3Vw4JvAJAaxmg/rUTGsA\n",
       "AAAASUVORK5CYII=\n",
       "\" style=\"display:inline;vertical-align:middle;\" /></a>"
      ],
      "text/plain": [
       "A & B C & D"
      ]
     },
     "execution_count": 16,
     "metadata": {},
     "output_type": "execute_result"
    }
   ],
   "source": [
    "ExprArray(ExprTuple(A,B), ExprTuple(C,D))"
   ]
  },
  {
   "cell_type": "code",
   "execution_count": 17,
   "metadata": {},
   "outputs": [
    {
     "name": "stdout",
     "output_type": "stream",
     "text": [
      "A_{i} & \\cdots & A_{j} & B_{i} & \\cdots & B_{j} C_{i} & \\cdots & C_{j} & D_{i} & \\cdots & D_{j}\n",
      "\\begin{array} {cccccc} A_{i} & \\cdots & A_{j} & B_{i} & \\cdots & B_{j}  \\\\ C_{i} & \\cdots & C_{j} & D_{i} & \\cdots & D_{j} \\end{array}\n"
     ]
    },
    {
     "data": {
      "text/html": [
       "<a class=\"ProveItLink\" href=\"__pv_it/0e293534ef7cebf8067fbd5dd4357c1dd46a08ad0/expr.ipynb\"><img src=\"data:image/png;base64,iVBORw0KGgoAAAANSUhEUgAAAP4AAAAuBAMAAAD6hrlNAAAAMFBMVEX///8QEBAiIiLu7u5ERES6\n",
       "urqYmJiIiIjMzMx2dnZUVFRmZmaqqqoyMjLc3NwAAABb1yYoAAAAAXRSTlMAQObYZgAAAAlwSFlz\n",
       "AAAOxAAADsQBlSsOGwAAA4dJREFUWMPtWEFrE0EUfs22ySbZpAFFT0q9iOBlRaFSxEYRKlWIelAP\n",
       "QnPw3h4KhRZM+wsS6MGDYIMIwkJIREVoRap40ENpSmtBQVrxID1I1da2tk3je5tknd1u4E1c8NIH\n",
       "ye4O33xvZ97Mm/ctANk3kLBoEby2BRlw5PvuNn9i1chdZFPcLncbc8PWo1aW8T/t4h+a4gD5YTbH\n",
       "foDQhvUUzi9K+B/fcWlc7gPoKbBDuA7QsmU93h/jvzkElzZcWnuRobePy+FHCv+69TZ9qUm+/6+B\n",
       "bZfWPP5m2LMYwhBGDlvTD9NJvv+CtuYe0I5jbA5cLcoDa85vQToDoPDevmVS/U1Xe8TU1YHBebye\n",
       "5flPdw3kaMhqZUSwnMW48qIXhugmXe2DDeCafIWMd3n+U4ugHcCrj0YRuDSRjzsAnZhjlFL1xmb9\n",
       "E+OruwmbYziADReSv0yincOftebbAVrbHAAfbaXjtRvBFJyln7v9t2bFBS2SWEyi0QxauwUBvhi0\n",
       "DDKnH+AIvsaQfcekce5Dv+BGlkWi0grOX4H2F7SgkmZKDXbqnK7XK9k6rBWdAYV0EUZXWP5ptagY\n",
       "k8IUPnym8O3Al9esxIVxhsQinAza4zKD4zikR8+08U4QZLk6C4p+D+BUeRa0RCkDXYyOSqKkw5vy\n",
       "B6SwZYxc2TDmMCLNrD0UWtg0cpfpbl6gXpHIwbjgXLNF52m5c1c4SbRiRqbniGvrVFDKvRoTxv9I\n",
       "5gwE993ScUfKfyALjdq8F2VPJNlox5sxD9y/H2m0Z3hI98D/8yewZ3v2362920gu/Ru6v9z98CM/\n",
       "gdnggYM6vDvKzlnuaDxN/dv8IQtw5Tzu5fAOs2MdtEq1z2N+4hfgkX1UhHDzWR10gGq/HnY6FeFj\n",
       "VEmpXOlUB91MmnCZfYIK8KhZTSrMw78eupUK6B72cSbAg7WqlSUdLLRDf6Sp8Ell2PqjCkcWX61q\n",
       "Z0kHC+3QH6nhSkXL1R9VOLI0mSWrwtQf7mgsSenvB1t/CHCf+TXhLVN/uKMBSBL519j6Q4BX9nKG\n",
       "KR1qaIf+MPfziThbf1ThxEKfIiCoM6VDDe3QH7SflU/A1h9VuMmC2l8bBa50qKCd+oM+SV0rsEmq\n",
       "8AqL8tR4BlzpUEPbS0cSFBdegoz+MOEii6R08EZ/CCyS0sET/SGySEoHT/QHDEKj5on+aJjFG/3R\n",
       "OIs3+oNY/gAslBvsuuN7xwAAAABJRU5ErkJggg==\n",
       "\" style=\"display:inline;vertical-align:middle;\" /></a>"
      ],
      "text/plain": [
       "A_{i} & \\cdots & A_{j} & B_{i} & \\cdots & B_{j} C_{i} & \\cdots & C_{j} & D_{i} & \\cdots & D_{j}"
      ]
     },
     "execution_count": 17,
     "metadata": {},
     "output_type": "execute_result"
    }
   ],
   "source": [
    "ExprArray(ExprTuple(A_i_to_j, B_i_to_j), ExprTuple(C_i_to_j, D_i_to_j))"
   ]
  },
  {
   "cell_type": "code",
   "execution_count": 18,
   "metadata": {},
   "outputs": [
    {
     "name": "stdout",
     "output_type": "stream",
     "text": [
      "['A_{1,j} && B_{1,j} & C_{1,j} && D_{1,j}']\n",
      "['A_{1,j} && B_{1,j} & C_{1,j} && D_{1,j}', '\\\\vdots & & \\\\vdots & \\\\vdots & & \\\\vdots(A_{i,j}, B_{i,j}), (C_{i,j}, D_{i,j})\\\\vdots & & \\\\vdots & \\\\vdots & & \\\\vdots']\n",
      "['A_{1,j} && B_{1,j} & C_{1,j} && D_{1,j}', '\\\\vdots & & \\\\vdots & \\\\vdots & & \\\\vdots(A_{i,j}, B_{i,j}), (C_{i,j}, D_{i,j})\\\\vdots & & \\\\vdots & \\\\vdots & & \\\\vdots', 'A_{m,j} && B_{m,j} & C_{m,j} && D_{m,j}']\n",
      "A_{1,j} && B_{1,j} & C_{1,j} && D_{1,j} \\vdots & & \\vdots & \\vdots & & \\vdots(A_{i,j}, B_{i,j}), (C_{i,j}, D_{i,j})\\vdots & & \\vdots & \\vdots & & \\vdots A_{m,j} && B_{m,j} & C_{m,j} && D_{m,j}\n",
      "['A_{1,j} && B_{1,j} & C_{1,j} && D_{1,j}']\n",
      "['A_{1,j} && B_{1,j} & C_{1,j} && D_{1,j}', '\\\\vdots & & \\\\vdots & \\\\vdots & & \\\\vdots']\n",
      "['A_{1,j} && B_{1,j} & C_{1,j} && D_{1,j}', '\\\\vdots & & \\\\vdots & \\\\vdots & & \\\\vdots', 'A_{m,j} && B_{m,j} & C_{m,j} && D_{m,j}']\n",
      "\\begin{array} {cccccc} A_{1,j} && B_{1,j} & C_{1,j} && D_{1,j}  \\\\ \\vdots & & \\vdots & \\vdots & & \\vdots  \\\\ A_{m,j} && B_{m,j} & C_{m,j} && D_{m,j} \\end{array}\n"
     ]
    },
    {
     "data": {
      "text/html": [
       "<a class=\"ProveItLink\" href=\"__pv_it/a40242be41c86ad5e3f9ea7d351c30c7646296470/expr.ipynb\"><img src=\"data:image/png;base64,iVBORw0KGgoAAAANSUhEUgAAARcAAABVBAMAAACRGr00AAAAMFBMVEX///8QEBAiIiLu7u5ERES6\n",
       "urqYmJiIiIjMzMx2dnZUVFRmZmaqqqoyMjLc3NwAAABb1yYoAAAAAXRSTlMAQObYZgAAAAlwSFlz\n",
       "AAAOxAAADsQBlSsOGwAABApJREFUaN7tWktoE1EUvc2Y/+QDFnXhpyBIwUUDFusHMbpRWqXtzoXg\n",
       "LLoSpLEtFNpFm1UXLhLsUrRBRCESE/DThYJRN3YhprR2aSuuKkiKVk1b2/heZiY2M3kzt5ksWngH\n",
       "OnTePTn35n3uBOYAyPgO2wjzOJqjczmZumjEaGtPSosYKSeRuvykWkQsIotuCAOkRw1S7A3B1BGU\n",
       "VCAH0JutEvCmF3DF5CMA1zLMsHA+RMQ2UFIxIuUNVgncmxjFFdNLeL0RZti3m1zsQZTUCJGy/9aP\n",
       "+yMjWVwxafI3zZ7FCSrjyqCkOmnilSqrBB8lXDGNAKeamVH/j9Ja4WZ5mU7iqn78KsTi/+8MtFzL\n",
       "g0Nzm241YfcfDd2gFhflOlf0WTOQTwAcz8l3zQaHhezNNxIIN+Rbm6ZuW0HZx4x4hRTlen7psjo7\n",
       "XqbD4BpsMp3aXWRvugsw1sc4+D9LpTDjFVJL9HgHdVnbyCgZEs2LCZAJdJD5fVs9bKMJ4D0zXiEV\n",
       "podT0mUlu98WVIsRhg0OVkwqTa2SrO2V9iCUOkycGde2GaFRl9VOMviW1GGvmDPoDeRUx3JqsswH\n",
       "7Wmim9IdYsa1beZMTpf1C13BDXX4mNugTUyT0g+oyYTQHW2cdAhxHNjxyqeh/Shos7YWZ0DsXI+r\n",
       "q+djt5xUMZmczUJ5T8zpHgfPks/BIF4h9aBjoVyMLqsyHEA8ppRkG7XGzbOSYYFsviigijlJ+law\n",
       "1rhpVv/dtYhrP8CQucDi/CREs+BM1BhHZhUNF7oCWaPdhYibZ33nuxJECoQ+Ra3EEVkl73AI+QsU\n",
       "Jp9aideWlYODg4ODg2O74WyublTrUrYMWsGMWkcpDg4O3vR40+Pg4OB9hvcZDg4Ojh2JneiegZ5i\n",
       "e3J21IAgDCQf+uMIpTq4Z6gVwlMwiN/sB/G2hFGy7p6hr4rta+x462FyeY0Ss+6ecRTkF/4sTNO3\n",
       "Rt0oKevuGc8SgO8gM+z+S6+3UFLW3TMNYRDus2cx30SvJ1BSOPcMGNheYhcGUxKbOqH3P7GktO6Z\n",
       "MlV2z2z+Kcj68iMLIO5hU1v0n2NJqe4ZLVV2z6Bwjn599jIdKr31RL36VNwzunHFPYMBXWMDL1pL\n",
       "qWmhTqbqntFCds84XowNOa+XhJi2Fxc9iukuJrXUYdwoKcU9o6Uq7hlHt9SQkP0CTNsLdVy51tlU\n",
       "6iiEcZSU4p7RUhX3zNc+CHR56ali2158ZI27Z9hUkczcVAglpbhnNNSye+YRRMEmNz+GG8Izv5pM\n",
       "XSL/MKmn2x93GcXLKLtnGNR9MAB5+ayb2V7MqJal/Eukyh43xvZiRrUuZU/AZ/jWj7G9mFHrKLUF\n",
       "20sdHTTVqVuwvdTRQcOgbsH2UkcHjUz9B2g4jny+jINCAAAAAElFTkSuQmCC\n",
       "\" style=\"display:inline;vertical-align:middle;\" /></a>"
      ],
      "text/plain": [
       "A_{1,j} && B_{1,j} & C_{1,j} && D_{1,j} \\vdots & & \\vdots & \\vdots & & \\vdots(A_{i,j}, B_{i,j}), (C_{i,j}, D_{i,j})\\vdots & & \\vdots & \\vdots & & \\vdots A_{m,j} && B_{m,j} & C_{m,j} && D_{m,j}"
      ]
     },
     "execution_count": 18,
     "metadata": {},
     "output_type": "execute_result"
    }
   ],
   "source": [
    "ExprArray(ExprRange(i, ExprTuple(ExprTuple(Aij, Bij), ExprTuple(Cij, Dij)),one,m))"
   ]
  },
  {
   "cell_type": "code",
   "execution_count": 19,
   "metadata": {},
   "outputs": [
    {
     "name": "stdout",
     "output_type": "stream",
     "text": [
      "['A_{1,1} & \\\\cdots & A_{1,n} & B_{1,1} & \\\\cdots & B_{1,k}']\n",
      "['A_{1,1} & \\\\cdots & A_{1,n} & B_{1,1} & \\\\cdots & B_{1,k}', '\\\\vdots & & \\\\vdots & \\\\vdots & & \\\\vdotsA_{i,1}, ..A_{i,j}.., A_{i,n}, B_{i,1}, ..B_{i,j}.., B_{i,k}\\\\vdots & & \\\\vdots & \\\\vdots & & \\\\vdots']\n",
      "['A_{1,1} & \\\\cdots & A_{1,n} & B_{1,1} & \\\\cdots & B_{1,k}', '\\\\vdots & & \\\\vdots & \\\\vdots & & \\\\vdotsA_{i,1}, ..A_{i,j}.., A_{i,n}, B_{i,1}, ..B_{i,j}.., B_{i,k}\\\\vdots & & \\\\vdots & \\\\vdots & & \\\\vdots', 'A_{m,1} & \\\\cdots & A_{m,n} & B_{m,1} & \\\\cdots & B_{m,k}']\n",
      "A_{1,1} & \\cdots & A_{1,n} & B_{1,1} & \\cdots & B_{1,k} \\vdots & & \\vdots & \\vdots & & \\vdotsA_{i,1}, ..A_{i,j}.., A_{i,n}, B_{i,1}, ..B_{i,j}.., B_{i,k}\\vdots & & \\vdots & \\vdots & & \\vdots A_{m,1} & \\cdots & A_{m,n} & B_{m,1} & \\cdots & B_{m,k}\n",
      "['A_{1,1} & \\\\cdots & A_{1,n} & B_{1,1} & \\\\cdots & B_{1,k}']\n",
      "['A_{1,1} & \\\\cdots & A_{1,n} & B_{1,1} & \\\\cdots & B_{1,k}', '\\\\vdots & & \\\\vdots & \\\\vdots & & \\\\vdots']\n",
      "['A_{1,1} & \\\\cdots & A_{1,n} & B_{1,1} & \\\\cdots & B_{1,k}', '\\\\vdots & & \\\\vdots & \\\\vdots & & \\\\vdots', 'A_{m,1} & \\\\cdots & A_{m,n} & B_{m,1} & \\\\cdots & B_{m,k}']\n",
      "\\begin{array} {cccccc} A_{1,1} & \\cdots & A_{1,n} & B_{1,1} & \\cdots & B_{1,k}  \\\\ \\vdots & & \\vdots & \\vdots & & \\vdots  \\\\ A_{m,1} & \\cdots & A_{m,n} & B_{m,1} & \\cdots & B_{m,k} \\end{array}\n"
     ]
    },
    {
     "data": {
      "text/html": [
       "<a class=\"ProveItLink\" href=\"__pv_it/3d6211e980971fc1cb7768d63ecc57f9aea890550/expr.ipynb\"><img src=\"data:image/png;base64,iVBORw0KGgoAAAANSUhEUgAAAVQAAABVBAMAAADklwGXAAAAMFBMVEX///8QEBAiIiLu7u5ERES6\n",
       "urqYmJiIiIjMzMx2dnZUVFRmZmaqqqoyMjLc3NwAAABb1yYoAAAAAXRSTlMAQObYZgAAAAlwSFlz\n",
       "AAAOxAAADsQBlSsOGwAAA/dJREFUaN7tmjFoE1EYx78k5nJN0ksHlSoqcRCFOkSQlro0o+CQ1sFB\n",
       "BA+pUBRpqMViBZu6dGwmNzWTkUJJpmrbJbYObk1RBJc24lAqlgRptVrTeMldcrl7917yXtMS4f0h\n",
       "aXr5fl/+d+/uvTv4A6jaADZJaThorTJyrTni10Joc2r6MkNfPOgtMFpdIlsFWxAgEWFojAU9iQyb\n",
       "1bld8vfZMMDNJENjLPj8RYTJacv6NrlgUOk7GGbojAOl8FiKyeqa6y+5IKG8lllGDAd6YElmspr0\n",
       "/iQXHAa4dI6lMw68AZNRln7OlPibWCBujox+YumMBZOQjQF0luZIx736G3pA+kMkXMpV91YuV3TW\n",
       "PwkbwVuVk9Z1ZT4RBHHEX/xnYsgIOfLKW09a+2DU8PzcJkpU6VCbcultaxXaD+iqdO1JE0Gw9Za3\n",
       "dwH4lC5etdOCiepQXvak9sG4F8rO/rAgdPmUwRJ+lSu8JquVrvYkGcxWjT/Y27BWSeMPcLpMCDMT\n",
       "j5CKSeVqdW/hrBJkBPslrbVTVhdIaqvXtBVZtdon25DJZUzZMplmsGoE498vqK2/FM+NXXqrkjIS\n",
       "EMpoxNch8AXMJcvKgTgZYLBqBI/JYunvxcIH8IbyUVqrjlA+AO8Knyu7Dn3mkunC1NTHFNBbNYLS\n",
       "zhvzPQvtCVCWSrTDrEiuoDiqBlAIXpUQq44oo9VukHJw5j2xgtFqN7jDT1qMp96znbB4AtZXX1O2\n",
       "KxLjKWcMHsrEiuIPMLVuzbgHLG5cWe/NUw2ooAMXGdt5A3uvoARlxn5CAyoaDXJxcXFxcXFxcdXx\n",
       "WJdnJXvSey2gBTtYrdqTey1oOMjFxcXFlwC+BHBxcfF5lc+rfF7l4uLi4vrftXHgILNW9wdspvRq\n",
       "LbCJ0qu1wOZJr9YEmye9WhNsnvRqTbBp0qs1wf1Kr+qqO2ZqBs3SQqhVj291ZmMRUDirbi+lV6t2\n",
       "yRgzxedXzSAiLYSqy5R0xeZXERCOlN619GrVbOlHng4t86sIaFY5hKprAX3Is8qvIqCU04axmF4V\n",
       "ZiZGXXciFlYJ428EkQSrFkK9OzASe/DKwipWCCgE15KV9GoxfhpzxSisIiCSYNVCqLePwnEYpbGK\n",
       "gO7Hi6cq6dVi/LTXE6WwioBIglUNoUpdftiCWRqrCGh7ChE9vRqHcbCn6rdqAZoSrOUQqjsstsF5\n",
       "CqsomJ2vXhbbYRiyIs25ioCYBKst4gpKuQjFUUXAfqc/U32NxaG/hT5mqoO4BGtWOTxCMEqfjdXB\n",
       "uOjXFxtnDFbg2336mKkOOjEJ1uvQmpHiAfpsrA6uwEuLGyO2O5d6QOZsLAZseMxUF2s2FgfuY8xU\n",
       "Zm2tgv8A82utx2SbwS8AAAAASUVORK5CYII=\n",
       "\" style=\"display:inline;vertical-align:middle;\" /></a>"
      ],
      "text/plain": [
       "A_{1,1} & \\cdots & A_{1,n} & B_{1,1} & \\cdots & B_{1,k} \\vdots & & \\vdots & \\vdots & & \\vdotsA_{i,1}, ..A_{i,j}.., A_{i,n}, B_{i,1}, ..B_{i,j}.., B_{i,k}\\vdots & & \\vdots & \\vdots & & \\vdots A_{m,1} & \\cdots & A_{m,n} & B_{m,1} & \\cdots & B_{m,k}"
      ]
     },
     "execution_count": 19,
     "metadata": {},
     "output_type": "execute_result"
    }
   ],
   "source": [
    "ExprArray(ExprRange(i, ExprTuple(ExprRange(j, Aij, one, n), ExprRange(j, Bij, one, k)),one,m))"
   ]
  },
  {
   "cell_type": "code",
   "execution_count": null,
   "metadata": {},
   "outputs": [],
   "source": []
  },
  {
   "cell_type": "code",
   "execution_count": 20,
   "metadata": {},
   "outputs": [],
   "source": [
    "%end demonstrations"
   ]
  }
 ],
 "metadata": {
  "kernelspec": {
   "display_name": "Python 3",
   "language": "python",
   "name": "python3"
  },
  "language_info": {
   "codemirror_mode": {
    "name": "ipython",
    "version": 3
   },
   "file_extension": ".py",
   "mimetype": "text/x-python",
   "name": "python",
   "nbconvert_exporter": "python",
   "pygments_lexer": "ipython3",
   "version": "3.7.3"
  }
 },
 "nbformat": 4,
 "nbformat_minor": 1
}
