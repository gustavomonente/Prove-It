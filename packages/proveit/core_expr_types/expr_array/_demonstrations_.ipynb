{
 "cells": [
  {
   "cell_type": "markdown",
   "metadata": {},
   "source": [
    "Demonstrations for context <a class=\"ProveItLink\" href=\"_context_.ipynb\">proveit.core_expr_types.expr_array</a>\n",
    "========"
   ]
  },
  {
   "cell_type": "code",
   "execution_count": null,
   "metadata": {},
   "outputs": [],
   "source": [
    "import proveit\n",
    "proveit.defaults.automation = False\n",
    "from proveit._common_ import A, B, C, D, E, F, G, H, I, i, j, k, m, n, p, q\n",
    "from proveit import ExprRange, ExprTuple, varRange, indexed_var, ExprArray\n",
    "from proveit.number import one\n",
    "%begin demonstrations"
   ]
  },
  {
   "cell_type": "code",
   "execution_count": null,
   "metadata": {},
   "outputs": [],
   "source": [
    "A_i_to_j = varRange(A, i, j)"
   ]
  },
  {
   "cell_type": "code",
   "execution_count": null,
   "metadata": {},
   "outputs": [],
   "source": [
    "B_i_to_j = varRange(B, i, j)"
   ]
  },
  {
   "cell_type": "code",
   "execution_count": null,
   "metadata": {},
   "outputs": [],
   "source": [
    "C_i_to_j = varRange(C, i, j)"
   ]
  },
  {
   "cell_type": "code",
   "execution_count": null,
   "metadata": {},
   "outputs": [],
   "source": [
    "D_i_to_j = varRange(D, i, j)"
   ]
  },
  {
   "cell_type": "code",
   "execution_count": null,
   "metadata": {},
   "outputs": [],
   "source": [
    "Aij = indexed_var(A,(i,j))"
   ]
  },
  {
   "cell_type": "code",
   "execution_count": null,
   "metadata": {},
   "outputs": [],
   "source": [
    "Bij = indexed_var(B,(i,j))"
   ]
  },
  {
   "cell_type": "code",
   "execution_count": null,
   "metadata": {},
   "outputs": [],
   "source": [
    "Cij = indexed_var(C,(i,j))"
   ]
  },
  {
   "cell_type": "code",
   "execution_count": null,
   "metadata": {},
   "outputs": [],
   "source": [
    "Dij = indexed_var(D,(i,j))"
   ]
  },
  {
   "cell_type": "code",
   "execution_count": null,
   "metadata": {},
   "outputs": [],
   "source": [
    "Eij = indexed_var(E, (i,j))"
   ]
  },
  {
   "cell_type": "code",
   "execution_count": null,
   "metadata": {},
   "outputs": [],
   "source": [
    "Fij = indexed_var(F, (i,j))"
   ]
  },
  {
   "cell_type": "code",
   "execution_count": null,
   "metadata": {},
   "outputs": [],
   "source": [
    "ExprRange(j,indexed_var(A,(i,j)),m,n).withStyles(parameterization=\"explicit\")"
   ]
  },
  {
   "cell_type": "code",
   "execution_count": null,
   "metadata": {},
   "outputs": [],
   "source": [
    "ExprRange(j, Aij, one, n)"
   ]
  },
  {
   "cell_type": "code",
   "execution_count": null,
   "metadata": {},
   "outputs": [],
   "source": [
    "B_i_to_j.first()"
   ]
  },
  {
   "cell_type": "code",
   "execution_count": null,
   "metadata": {},
   "outputs": [],
   "source": [
    "ExprRange(j, Bij, one, k).first().subExpr(0).subExpr(1)"
   ]
  },
  {
   "cell_type": "code",
   "execution_count": null,
   "metadata": {},
   "outputs": [],
   "source": [
    "#dir(ExprRange(j, Bij, one, k).first())"
   ]
  },
  {
   "cell_type": "code",
   "execution_count": null,
   "metadata": {},
   "outputs": [],
   "source": [
    "dir(ExprTuple(ExprRange(j, Aij, one, n), ExprRange(j, Bij, one, k)))"
   ]
  },
  {
   "cell_type": "code",
   "execution_count": null,
   "metadata": {},
   "outputs": [],
   "source": [
    "ExprRange(i, ExprTuple(ExprRange(j, Aij, one, n), ExprRange(j, Bij, one, k)),one,m)"
   ]
  },
  {
   "cell_type": "code",
   "execution_count": null,
   "metadata": {},
   "outputs": [],
   "source": [
    "ExprTuple(ExprRange(i, ExprTuple(ExprRange(j, Aij, one, n), ExprRange(j, Bij, one, k)),one,m))"
   ]
  },
  {
   "cell_type": "code",
   "execution_count": 18,
   "metadata": {},
   "outputs": [],
   "source": [
    "ExprArray(ExprTuple(A, B), ExprTuple(C, D)).withStyles(orientation='vertical')"
   ]
  },
  {
   "cell_type": "code",
   "execution_count": 19,
   "metadata": {},
   "outputs": [
    {
     "name": "stdout",
     "output_type": "stream",
     "text": [
      "['A_{1,1} & \\\\cdots & A_{1,n} & B_{1,1} & \\\\cdots & B_{1,k}']\n",
      "['A_{1,1} & \\\\cdots & A_{1,n} & B_{1,1} & \\\\cdots & B_{1,k}', '\\\\vdots & & \\\\vdots & \\\\vdots & & \\\\vdotsA_{i,1}, ..A_{i,j}.., A_{i,n}, B_{i,1}, ..B_{i,j}.., B_{i,k}\\\\vdots & & \\\\vdots & \\\\vdots & & \\\\vdots']\n",
      "['A_{1,1} & \\\\cdots & A_{1,n} & B_{1,1} & \\\\cdots & B_{1,k}', '\\\\vdots & & \\\\vdots & \\\\vdots & & \\\\vdotsA_{i,1}, ..A_{i,j}.., A_{i,n}, B_{i,1}, ..B_{i,j}.., B_{i,k}\\\\vdots & & \\\\vdots & \\\\vdots & & \\\\vdots', 'A_{m,1} & \\\\cdots & A_{m,n} & B_{m,1} & \\\\cdots & B_{m,k}']\n",
      "A_{1,1} & \\cdots & A_{1,n} & B_{1,1} & \\cdots & B_{1,k} \\vdots & & \\vdots & \\vdots & & \\vdotsA_{i,1}, ..A_{i,j}.., A_{i,n}, B_{i,1}, ..B_{i,j}.., B_{i,k}\\vdots & & \\vdots & \\vdots & & \\vdots A_{m,1} & \\cdots & A_{m,n} & B_{m,1} & \\cdots & B_{m,k}\n",
      "['A_{1,1} & \\\\cdots & A_{1,n} & B_{1,1} & \\\\cdots & B_{1,k}']\n",
      "['A_{1,1} & \\\\cdots & A_{1,n} & B_{1,1} & \\\\cdots & B_{1,k}', '\\\\vdots & & \\\\vdots & \\\\vdots & & \\\\vdots']\n",
      "['A_{1,1} & \\\\cdots & A_{1,n} & B_{1,1} & \\\\cdots & B_{1,k}', '\\\\vdots & & \\\\vdots & \\\\vdots & & \\\\vdots', 'A_{m,1} & \\\\cdots & A_{m,n} & B_{m,1} & \\\\cdots & B_{m,k}']\n",
      "\\begin{array} {cccccc} A_{1,1} & \\cdots & A_{1,n} & B_{1,1} & \\cdots & B_{1,k}  \\\\ \\vdots & & \\vdots & \\vdots & & \\vdots  \\\\ A_{m,1} & \\cdots & A_{m,n} & B_{m,1} & \\cdots & B_{m,k} \\end{array}\n"
     ]
    },
    {
     "data": {
      "text/html": [
       "<a class=\"ProveItLink\" href=\"__pv_it/3d6211e980971fc1cb7768d63ecc57f9aea890550/expr.ipynb\"><img src=\"data:image/png;base64,iVBORw0KGgoAAAANSUhEUgAAAVQAAABVBAMAAADklwGXAAAAMFBMVEX///8QEBAiIiLu7u5ERES6\n",
       "urqYmJiIiIjMzMx2dnZUVFRmZmaqqqoyMjLc3NwAAABb1yYoAAAAAXRSTlMAQObYZgAAAAlwSFlz\n",
       "AAAOxAAADsQBlSsOGwAAA/dJREFUaN7tmjFoE1EYx78k5nJN0ksHlSoqcRCFOkSQlro0o+CQ1sFB\n",
       "BA+pUBRpqMViBZu6dGwmNzWTkUJJpmrbJbYObk1RBJc24lAqlgRptVrTeMldcrl7917yXtMS4f0h\n",
       "aXr5fl/+d+/uvTv4A6jaADZJaThorTJyrTni10Joc2r6MkNfPOgtMFpdIlsFWxAgEWFojAU9iQyb\n",
       "1bld8vfZMMDNJENjLPj8RYTJacv6NrlgUOk7GGbojAOl8FiKyeqa6y+5IKG8lllGDAd6YElmspr0\n",
       "/iQXHAa4dI6lMw68AZNRln7OlPibWCBujox+YumMBZOQjQF0luZIx736G3pA+kMkXMpV91YuV3TW\n",
       "PwkbwVuVk9Z1ZT4RBHHEX/xnYsgIOfLKW09a+2DU8PzcJkpU6VCbcultaxXaD+iqdO1JE0Gw9Za3\n",
       "dwH4lC5etdOCiepQXvak9sG4F8rO/rAgdPmUwRJ+lSu8JquVrvYkGcxWjT/Y27BWSeMPcLpMCDMT\n",
       "j5CKSeVqdW/hrBJkBPslrbVTVhdIaqvXtBVZtdon25DJZUzZMplmsGoE498vqK2/FM+NXXqrkjIS\n",
       "EMpoxNch8AXMJcvKgTgZYLBqBI/JYunvxcIH8IbyUVqrjlA+AO8Knyu7Dn3mkunC1NTHFNBbNYLS\n",
       "zhvzPQvtCVCWSrTDrEiuoDiqBlAIXpUQq44oo9VukHJw5j2xgtFqN7jDT1qMp96znbB4AtZXX1O2\n",
       "KxLjKWcMHsrEiuIPMLVuzbgHLG5cWe/NUw2ooAMXGdt5A3uvoARlxn5CAyoaDXJxcXFxcXFxcdXx\n",
       "WJdnJXvSey2gBTtYrdqTey1oOMjFxcXFlwC+BHBxcfF5lc+rfF7l4uLi4vrftXHgILNW9wdspvRq\n",
       "LbCJ0qu1wOZJr9YEmye9WhNsnvRqTbBp0qs1wf1Kr+qqO2ZqBs3SQqhVj291ZmMRUDirbi+lV6t2\n",
       "yRgzxedXzSAiLYSqy5R0xeZXERCOlN619GrVbOlHng4t86sIaFY5hKprAX3Is8qvIqCU04axmF4V\n",
       "ZiZGXXciFlYJ428EkQSrFkK9OzASe/DKwipWCCgE15KV9GoxfhpzxSisIiCSYNVCqLePwnEYpbGK\n",
       "gO7Hi6cq6dVi/LTXE6WwioBIglUNoUpdftiCWRqrCGh7ChE9vRqHcbCn6rdqAZoSrOUQqjsstsF5\n",
       "CqsomJ2vXhbbYRiyIs25ioCYBKst4gpKuQjFUUXAfqc/U32NxaG/hT5mqoO4BGtWOTxCMEqfjdXB\n",
       "uOjXFxtnDFbg2336mKkOOjEJ1uvQmpHiAfpsrA6uwEuLGyO2O5d6QOZsLAZseMxUF2s2FgfuY8xU\n",
       "Zm2tgv8A82utx2SbwS8AAAAASUVORK5CYII=\n",
       "\" style=\"display:inline;vertical-align:middle;\" /></a>"
      ],
      "text/plain": [
       "A_{1,1} & \\cdots & A_{1,n} & B_{1,1} & \\cdots & B_{1,k} \\vdots & & \\vdots & \\vdots & & \\vdotsA_{i,1}, ..A_{i,j}.., A_{i,n}, B_{i,1}, ..B_{i,j}.., B_{i,k}\\vdots & & \\vdots & \\vdots & & \\vdots A_{m,1} & \\cdots & A_{m,n} & B_{m,1} & \\cdots & B_{m,k}"
      ]
     },
     "execution_count": 19,
     "metadata": {},
     "output_type": "execute_result"
    }
   ],
   "source": [
    "ExprArray(ExprRange(i, ExprTuple(ExprRange(j, Aij, one, n), ExprRange(j, Bij, one, k)),one,m))"
   ]
  },
  {
   "cell_type": "code",
   "execution_count": null,
   "metadata": {},
   "outputs": [],
   "source": [
    "ExprArray(ExprTuple(A, B, C, A, B, C, A), ExprTuple(D, E, F, D, E, F, D), ExprTuple(G, H, I, G, H, I, G)).withStyles(orientation='vertical')"
   ]
  },
  {
   "cell_type": "code",
   "execution_count": null,
   "metadata": {},
   "outputs": [],
   "source": [
    "ExprArray(ExprTuple(A_i_to_j, A, B, C), ExprTuple(C_i_to_j, D, E, F)).withStyles(orientation='vertical')"
   ]
  },
  {
   "cell_type": "code",
   "execution_count": null,
   "metadata": {},
   "outputs": [],
   "source": [
    "ExprArray(ExprTuple(A_i_to_j, B_i_to_j), ExprTuple(C_i_to_j, D_i_to_j)).withStyles(orientation='vertical')"
   ]
  },
  {
   "cell_type": "code",
   "execution_count": null,
   "metadata": {},
   "outputs": [],
   "source": [
    "ExprRange(i, ExprTuple(ExprTuple(Aij, Bij), ExprTuple(Cij, Dij)),one,m).first().entries[0].entries[0].subExpr(1)"
   ]
  },
  {
   "cell_type": "code",
   "execution_count": null,
   "metadata": {},
   "outputs": [],
   "source": [
    "ExprArray(ExprRange(i, ExprTuple(Aij, Bij, Cij, Dij),one,m)).withStyles(orientation='horizontal')"
   ]
  },
  {
   "cell_type": "code",
   "execution_count": null,
   "metadata": {},
   "outputs": [],
   "source": [
    "ExprArray(ExprRange(i, ExprTuple(Aij, Bij, Cij, Dij),one,m)).withStyles(orientation='vertical')"
   ]
  },
  {
   "cell_type": "code",
   "execution_count": null,
   "metadata": {},
   "outputs": [],
   "source": [
    "ExprArray(ExprTuple(A,B,C,D),ExprRange(i, ExprTuple(Aij, Bij, Cij, Dij),one,m), ExprTuple(A,B,C,D)).withStyles(orientation='horizontal')"
   ]
  },
  {
   "cell_type": "code",
   "execution_count": null,
   "metadata": {},
   "outputs": [],
   "source": [
    "ExprArray(ExprTuple(A,B,C,D),ExprRange(i, ExprTuple(Aij, Bij, Cij, Dij),one,m), ExprTuple(A,B,C,D)).withStyles(orientation='vertical')"
   ]
  },
  {
   "cell_type": "code",
   "execution_count": null,
   "metadata": {},
   "outputs": [],
   "source": [
    "ExprArray(ExprRange(i, ExprTuple(Aij, Bij, Cij, Dij, Eij, Fij),one,m)).withStyles(orientation='horizontal')"
   ]
  },
  {
   "cell_type": "code",
   "execution_count": null,
   "metadata": {},
   "outputs": [],
   "source": [
    "ExprArray(ExprRange(i, ExprTuple(Aij, Bij, Cij, Dij, Eij, Fij),one,m)).withStyles(orientation='vertical')"
   ]
  },
  {
   "cell_type": "code",
   "execution_count": null,
   "metadata": {},
   "outputs": [],
   "source": [
    "ExprArray(ExprRange(i, ExprTuple(ExprRange(j, Aij, one, n), ExprRange(j, Bij, one, k)),one,m))"
   ]
  },
  {
   "cell_type": "code",
   "execution_count": null,
   "metadata": {},
   "outputs": [],
   "source": [
    "ExprArray(ExprRange(i, ExprTuple(ExprRange(j, Aij, one, n), ExprRange(j, Bij, one, k)),one,m)).withStyles(orientation='vertical')"
   ]
  },
  {
   "cell_type": "code",
   "execution_count": null,
   "metadata": {},
   "outputs": [],
   "source": [
    "ExprRange(i, ExprRange(j, Aij, one, n), one, m)"
   ]
  },
  {
   "cell_type": "code",
   "execution_count": null,
   "metadata": {},
   "outputs": [],
   "source": [
    "ExprArray(ExprRange(i, ExprRange(j, Aij, one, n), one, m))"
   ]
  },
  {
   "cell_type": "code",
   "execution_count": null,
   "metadata": {},
   "outputs": [],
   "source": [
    "Apj = indexed_var(A,(p,j))"
   ]
  },
  {
   "cell_type": "code",
   "execution_count": null,
   "metadata": {},
   "outputs": [],
   "source": [
    "Bpj = indexed_var(B,(p,j))"
   ]
  },
  {
   "cell_type": "code",
   "execution_count": null,
   "metadata": {},
   "outputs": [],
   "source": [
    "Cjk = indexed_var(C,(j,k))"
   ]
  },
  {
   "cell_type": "code",
   "execution_count": null,
   "metadata": {},
   "outputs": [],
   "source": [
    "Dki = indexed_var(D,(k,i))"
   ]
  },
  {
   "cell_type": "code",
   "execution_count": null,
   "metadata": {},
   "outputs": [],
   "source": [
    "C_i_to_k = varRange(C, i, k)"
   ]
  },
  {
   "cell_type": "code",
   "execution_count": null,
   "metadata": {},
   "outputs": [],
   "source": [
    "D_j_to_i = varRange(B, j, i)"
   ]
  },
  {
   "cell_type": "code",
   "execution_count": null,
   "metadata": {},
   "outputs": [],
   "source": [
    "ExprArray(ExprTuple(A, B, C, A, B, A), ExprTuple(D, E, F, D, E, F, D), ExprTuple(G, H, I, G, H, I, G)).withStyles(orientation='vertical')"
   ]
  },
  {
   "cell_type": "code",
   "execution_count": null,
   "metadata": {},
   "outputs": [],
   "source": [
    "ExprArray(ExprTuple(B_i_to_j, A, B, C), ExprTuple(D, E, F, D_i_to_j))"
   ]
  },
  {
   "cell_type": "code",
   "execution_count": null,
   "metadata": {},
   "outputs": [],
   "source": [
    "ExprArray(ExprTuple(A, B, C, B_i_to_j), ExprTuple(D_i_to_j, D, E, F))"
   ]
  },
  {
   "cell_type": "code",
   "execution_count": null,
   "metadata": {},
   "outputs": [],
   "source": [
    "ExprArray(ExprRange(i, ExprTuple(ExprRange(j, Aij, one, n), ExprRange(j, Bpj, one, k)),one,m))"
   ]
  },
  {
   "cell_type": "code",
   "execution_count": null,
   "metadata": {},
   "outputs": [],
   "source": [
    "ExprArray(ExprTuple(C_i_to_j, D_j_to_i), ExprTuple(A_i_to_j, B_i_to_j)).withStyles(orientation='vertical')"
   ]
  },
  {
   "cell_type": "code",
   "execution_count": null,
   "metadata": {},
   "outputs": [],
   "source": [
    "ExprArray(ExprRange(i, ExprTuple(Apj, Bij, Cjk, Dki),one,m)).withStyles(orientation='horizontal')"
   ]
  },
  {
   "cell_type": "code",
   "execution_count": null,
   "metadata": {},
   "outputs": [],
   "source": [
    "ExprArray(ExprTuple(A,B,C,D),ExprRange(i, ExprTuple(ExprTuple(Apj, Bij), ExprTuple(Cjk, Dki)),one,m), ExprTuple(A,B,C,D)).withStyles(orientation='horizontal')"
   ]
  },
  {
   "cell_type": "code",
   "execution_count": null,
   "metadata": {},
   "outputs": [],
   "source": [
    "ExprArray(E, F, ExprTuple(A,B), C, D)"
   ]
  },
  {
   "cell_type": "code",
   "execution_count": null,
   "metadata": {},
   "outputs": [],
   "source": []
  },
  {
   "cell_type": "code",
   "execution_count": 20,
   "metadata": {},
   "outputs": [],
   "source": [
    "%end demonstrations"
   ]
  }
 ],
 "metadata": {
  "kernelspec": {
   "display_name": "Python 3",
   "language": "python",
   "name": "python3"
  }
 },
 "nbformat": 4,
 "nbformat_minor": 0
}
